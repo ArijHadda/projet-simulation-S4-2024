{
 "cells": [
  {
   "cell_type": "markdown",
   "id": "0a735e77",
   "metadata": {},
   "source": [
    "nombre_infected        20\n",
    "nombre_sain         19980\n",
    "nombre_exposed          0\n",
    "nombre_recovered        0\n",
    "Name: 0, dtype: int64"
   ]
  },
  {
   "cell_type": "markdown",
   "id": "71b98608",
   "metadata": {},
   "source": [
    "nombre_infected        20\n",
    "nombre_sain         19963\n",
    "nombre_exposed         17\n",
    "nombre_recovered        0\n",
    "Name: 1, dtype: int64"
   ]
  },
  {
   "cell_type": "markdown",
   "id": "d183cbdf",
   "metadata": {},
   "source": [
    "nombre_infected        20\n",
    "nombre_sain         19931\n",
    "nombre_exposed         49\n",
    "nombre_recovered        0\n",
    "Name: 2, dtype: int64"
   ]
  },
  {
   "cell_type": "markdown",
   "id": "4decdc87",
   "metadata": {},
   "source": [
    "nombre_infected        24\n",
    "nombre_sain         19900\n",
    "nombre_exposed         76\n",
    "nombre_recovered        0\n",
    "Name: 3, dtype: int64"
   ]
  },
  {
   "cell_type": "markdown",
   "id": "2c84d570",
   "metadata": {},
   "source": [
    "nombre_infected        34\n",
    "nombre_sain         19862\n",
    "nombre_exposed        104\n",
    "nombre_recovered        0\n",
    "Name: 4, dtype: int64"
   ]
  },
  {
   "cell_type": "markdown",
   "id": "ade74853",
   "metadata": {},
   "source": [
    "nombre_infected        46\n",
    "nombre_sain         19821\n",
    "nombre_exposed        133\n",
    "nombre_recovered        0\n",
    "Name: 5, dtype: int64"
   ]
  },
  {
   "cell_type": "markdown",
   "id": "bc76f01d",
   "metadata": {},
   "source": [
    "nombre_infected        68\n",
    "nombre_sain         19730\n",
    "nombre_exposed        201\n",
    "nombre_recovered        1\n",
    "Name: 6, dtype: int64"
   ]
  },
  {
   "cell_type": "markdown",
   "id": "25cc908a",
   "metadata": {},
   "source": [
    "nombre_infected        99\n",
    "nombre_sain         19621\n",
    "nombre_exposed        276\n",
    "nombre_recovered        4\n",
    "Name: 7, dtype: int64"
   ]
  },
  {
   "cell_type": "markdown",
   "id": "8fdb18fa",
   "metadata": {},
   "source": [
    "nombre_infected       141\n",
    "nombre_sain         19485\n",
    "nombre_exposed        367\n",
    "nombre_recovered        7\n",
    "Name: 8, dtype: int64"
   ]
  },
  {
   "cell_type": "markdown",
   "id": "e41bfee7",
   "metadata": {},
   "source": [
    "nombre_infected       185\n",
    "nombre_sain         19302\n",
    "nombre_exposed        492\n",
    "nombre_recovered       21\n",
    "Name: 9, dtype: int64"
   ]
  },
  {
   "cell_type": "markdown",
   "id": "3c5dbc85",
   "metadata": {},
   "source": [
    "nombre_infected       250\n",
    "nombre_sain         19038\n",
    "nombre_exposed        679\n",
    "nombre_recovered       33\n",
    "Name: 10, dtype: int64"
   ]
  },
  {
   "cell_type": "markdown",
   "id": "05c66038",
   "metadata": {},
   "source": [
    "nombre_infected       354\n",
    "nombre_sain         18708\n",
    "nombre_exposed        880\n",
    "nombre_recovered       58\n",
    "Name: 11, dtype: int64"
   ]
  },
  {
   "cell_type": "markdown",
   "id": "a4e2da5a",
   "metadata": {},
   "source": [
    "nombre_infected       482\n",
    "nombre_sain         18190\n",
    "nombre_exposed       1240\n",
    "nombre_recovered       88\n",
    "Name: 12, dtype: int64"
   ]
  },
  {
   "cell_type": "markdown",
   "id": "17832f30",
   "metadata": {},
   "source": [
    "nombre_infected       621\n",
    "nombre_sain         17598\n",
    "nombre_exposed       1629\n",
    "nombre_recovered      152\n",
    "Name: 13, dtype: int64"
   ]
  },
  {
   "cell_type": "markdown",
   "id": "c2358eae",
   "metadata": {},
   "source": [
    "nombre_infected       897\n",
    "nombre_sain         16802\n",
    "nombre_exposed       2107\n",
    "nombre_recovered      194\n",
    "Name: 14, dtype: int64"
   ]
  },
  {
   "cell_type": "markdown",
   "id": "dcb4221f",
   "metadata": {},
   "source": [
    "nombre_infected      1210\n",
    "nombre_sain         15845\n",
    "nombre_exposed       2672\n",
    "nombre_recovered      273\n",
    "Name: 15, dtype: int64"
   ]
  },
  {
   "cell_type": "markdown",
   "id": "2c11a87a",
   "metadata": {},
   "source": [
    "nombre_infected      1592\n",
    "nombre_sain         14630\n",
    "nombre_exposed       3393\n",
    "nombre_recovered      385\n",
    "Name: 16, dtype: int64"
   ]
  },
  {
   "cell_type": "markdown",
   "id": "da4819fe",
   "metadata": {},
   "source": [
    "nombre_infected      2111\n",
    "nombre_sain         13154\n",
    "nombre_exposed       4203\n",
    "nombre_recovered      532\n",
    "Name: 17, dtype: int64"
   ]
  },
  {
   "cell_type": "markdown",
   "id": "f40764ae",
   "metadata": {},
   "source": [
    "nombre_infected      2670\n",
    "nombre_sain         11545\n",
    "nombre_exposed       5041\n",
    "nombre_recovered      744\n",
    "Name: 18, dtype: int64"
   ]
  },
  {
   "cell_type": "markdown",
   "id": "809b2df2",
   "metadata": {},
   "source": [
    "nombre_infected     3439\n",
    "nombre_sain         9668\n",
    "nombre_exposed      5893\n",
    "nombre_recovered    1000\n",
    "Name: 19, dtype: int64"
   ]
  },
  {
   "cell_type": "markdown",
   "id": "a59df437",
   "metadata": {},
   "source": [
    "nombre_infected     4244\n",
    "nombre_sain         7863\n",
    "nombre_exposed      6568\n",
    "nombre_recovered    1325\n",
    "Name: 20, dtype: int64"
   ]
  },
  {
   "cell_type": "markdown",
   "id": "07473b2f",
   "metadata": {},
   "source": [
    "nombre_infected     5207\n",
    "nombre_sain         6200\n",
    "nombre_exposed      6830\n",
    "nombre_recovered    1763\n",
    "Name: 21, dtype: int64"
   ]
  },
  {
   "cell_type": "markdown",
   "id": "cc887d78",
   "metadata": {},
   "source": [
    "nombre_infected     6110\n",
    "nombre_sain         4679\n",
    "nombre_exposed      6918\n",
    "nombre_recovered    2293\n",
    "Name: 22, dtype: int64"
   ]
  },
  {
   "cell_type": "markdown",
   "id": "4640e235",
   "metadata": {},
   "source": [
    "nombre_infected     7034\n",
    "nombre_sain         3422\n",
    "nombre_exposed      6663\n",
    "nombre_recovered    2881\n",
    "Name: 23, dtype: int64"
   ]
  },
  {
   "cell_type": "markdown",
   "id": "eda95381",
   "metadata": {},
   "source": [
    "nombre_infected     7807\n",
    "nombre_sain         2418\n",
    "nombre_exposed      6111\n",
    "nombre_recovered    3664\n",
    "Name: 24, dtype: int64"
   ]
  },
  {
   "cell_type": "markdown",
   "id": "c6b943a4",
   "metadata": {},
   "source": [
    "nombre_infected     8390\n",
    "nombre_sain         1648\n",
    "nombre_exposed      5433\n",
    "nombre_recovered    4529\n",
    "Name: 25, dtype: int64"
   ]
  },
  {
   "cell_type": "markdown",
   "id": "6c6a3926",
   "metadata": {},
   "source": [
    "nombre_infected     8765\n",
    "nombre_sain         1063\n",
    "nombre_exposed      4677\n",
    "nombre_recovered    5495\n",
    "Name: 26, dtype: int64"
   ]
  },
  {
   "cell_type": "markdown",
   "id": "5d50b674",
   "metadata": {},
   "source": [
    "nombre_infected     8900\n",
    "nombre_sain          712\n",
    "nombre_exposed      3882\n",
    "nombre_recovered    6506\n",
    "Name: 27, dtype: int64"
   ]
  },
  {
   "cell_type": "markdown",
   "id": "96c40b6d",
   "metadata": {},
   "source": [
    "nombre_infected     8924\n",
    "nombre_sain          492\n",
    "nombre_exposed      3038\n",
    "nombre_recovered    7546\n",
    "Name: 28, dtype: int64"
   ]
  },
  {
   "cell_type": "markdown",
   "id": "ac2c5938",
   "metadata": {},
   "source": [
    "nombre_infected     8661\n",
    "nombre_sain          334\n",
    "nombre_exposed      2407\n",
    "nombre_recovered    8598\n",
    "Name: 29, dtype: int64"
   ]
  },
  {
   "cell_type": "markdown",
   "id": "3536acfc",
   "metadata": {},
   "source": [
    "nombre_infected     8295\n",
    "nombre_sain          243\n",
    "nombre_exposed      1807\n",
    "nombre_recovered    9655\n",
    "Name: 30, dtype: int64"
   ]
  },
  {
   "cell_type": "markdown",
   "id": "c53d0118",
   "metadata": {},
   "source": [
    "nombre_infected      7723\n",
    "nombre_sain           175\n",
    "nombre_exposed       1385\n",
    "nombre_recovered    10717\n",
    "Name: 31, dtype: int64"
   ]
  },
  {
   "cell_type": "markdown",
   "id": "5c116a0e",
   "metadata": {},
   "source": [
    "nombre_infected      7125\n",
    "nombre_sain           134\n",
    "nombre_exposed       1073\n",
    "nombre_recovered    11668\n",
    "Name: 32, dtype: int64"
   ]
  },
  {
   "cell_type": "markdown",
   "id": "685d16e9",
   "metadata": {},
   "source": [
    "nombre_infected      6545\n",
    "nombre_sain           109\n",
    "nombre_exposed        796\n",
    "nombre_recovered    12550\n",
    "Name: 33, dtype: int64"
   ]
  },
  {
   "cell_type": "markdown",
   "id": "bf5c3049",
   "metadata": {},
   "source": [
    "nombre_infected      5936\n",
    "nombre_sain           102\n",
    "nombre_exposed        607\n",
    "nombre_recovered    13355\n",
    "Name: 34, dtype: int64"
   ]
  },
  {
   "cell_type": "markdown",
   "id": "b593b86a",
   "metadata": {},
   "source": [
    "nombre_infected      5274\n",
    "nombre_sain            88\n",
    "nombre_exposed        487\n",
    "nombre_recovered    14151\n",
    "Name: 35, dtype: int64"
   ]
  },
  {
   "cell_type": "markdown",
   "id": "08ed9105",
   "metadata": {},
   "source": [
    "nombre_infected      4672\n",
    "nombre_sain            90\n",
    "nombre_exposed        383\n",
    "nombre_recovered    14855\n",
    "Name: 36, dtype: int64"
   ]
  },
  {
   "cell_type": "markdown",
   "id": "822d2942",
   "metadata": {},
   "source": [
    "nombre_infected      4181\n",
    "nombre_sain            88\n",
    "nombre_exposed        312\n",
    "nombre_recovered    15419\n",
    "Name: 37, dtype: int64"
   ]
  },
  {
   "cell_type": "markdown",
   "id": "a773e2c6",
   "metadata": {},
   "source": [
    "nombre_infected      3736\n",
    "nombre_sain           102\n",
    "nombre_exposed        265\n",
    "nombre_recovered    15897\n",
    "Name: 38, dtype: int64"
   ]
  },
  {
   "cell_type": "markdown",
   "id": "537db1a2",
   "metadata": {},
   "source": [
    "nombre_infected      3259\n",
    "nombre_sain           135\n",
    "nombre_exposed        220\n",
    "nombre_recovered    16386\n",
    "Name: 39, dtype: int64"
   ]
  },
  {
   "cell_type": "markdown",
   "id": "a68d60fc",
   "metadata": {},
   "source": [
    "nombre_infected      2887\n",
    "nombre_sain           160\n",
    "nombre_exposed        189\n",
    "nombre_recovered    16764\n",
    "Name: 40, dtype: int64"
   ]
  },
  {
   "cell_type": "markdown",
   "id": "b5716146",
   "metadata": {},
   "source": [
    "nombre_infected      2504\n",
    "nombre_sain           183\n",
    "nombre_exposed        181\n",
    "nombre_recovered    17132\n",
    "Name: 41, dtype: int64"
   ]
  },
  {
   "cell_type": "markdown",
   "id": "dda21758",
   "metadata": {},
   "source": [
    "nombre_infected      2149\n",
    "nombre_sain           224\n",
    "nombre_exposed        173\n",
    "nombre_recovered    17454\n",
    "Name: 42, dtype: int64"
   ]
  },
  {
   "cell_type": "markdown",
   "id": "dd75f1aa",
   "metadata": {},
   "source": [
    "nombre_infected      1895\n",
    "nombre_sain           260\n",
    "nombre_exposed        173\n",
    "nombre_recovered    17672\n",
    "Name: 43, dtype: int64"
   ]
  },
  {
   "cell_type": "markdown",
   "id": "adb93408",
   "metadata": {},
   "source": [
    "nombre_infected      1663\n",
    "nombre_sain           302\n",
    "nombre_exposed        181\n",
    "nombre_recovered    17854\n",
    "Name: 44, dtype: int64"
   ]
  },
  {
   "cell_type": "markdown",
   "id": "57d55e11",
   "metadata": {},
   "source": [
    "nombre_infected      1480\n",
    "nombre_sain           354\n",
    "nombre_exposed        165\n",
    "nombre_recovered    18001\n",
    "Name: 45, dtype: int64"
   ]
  },
  {
   "cell_type": "markdown",
   "id": "eae6462e",
   "metadata": {},
   "source": [
    "nombre_infected      1300\n",
    "nombre_sain           390\n",
    "nombre_exposed        166\n",
    "nombre_recovered    18144\n",
    "Name: 46, dtype: int64"
   ]
  },
  {
   "cell_type": "markdown",
   "id": "a0134b47",
   "metadata": {},
   "source": [
    "nombre_infected      1131\n",
    "nombre_sain           441\n",
    "nombre_exposed        160\n",
    "nombre_recovered    18268\n",
    "Name: 47, dtype: int64"
   ]
  },
  {
   "cell_type": "markdown",
   "id": "a24fe40f",
   "metadata": {},
   "source": [
    "nombre_infected       992\n",
    "nombre_sain           478\n",
    "nombre_exposed        171\n",
    "nombre_recovered    18359\n",
    "Name: 48, dtype: int64"
   ]
  },
  {
   "cell_type": "markdown",
   "id": "2343f645",
   "metadata": {},
   "source": [
    "nombre_infected       894\n",
    "nombre_sain           517\n",
    "nombre_exposed        169\n",
    "nombre_recovered    18420\n",
    "Name: 49, dtype: int64"
   ]
  },
  {
   "cell_type": "markdown",
   "id": "d6033c2a",
   "metadata": {},
   "source": [
    "nombre_infected       781\n",
    "nombre_sain           543\n",
    "nombre_exposed        162\n",
    "nombre_recovered    18514\n",
    "Name: 50, dtype: int64"
   ]
  },
  {
   "cell_type": "markdown",
   "id": "325ce23d",
   "metadata": {},
   "source": [
    "nombre_infected       703\n",
    "nombre_sain           572\n",
    "nombre_exposed        149\n",
    "nombre_recovered    18576\n",
    "Name: 51, dtype: int64"
   ]
  },
  {
   "cell_type": "markdown",
   "id": "9d8dfdaa",
   "metadata": {},
   "source": [
    "nombre_infected       631\n",
    "nombre_sain           598\n",
    "nombre_exposed        144\n",
    "nombre_recovered    18627\n",
    "Name: 52, dtype: int64"
   ]
  },
  {
   "cell_type": "markdown",
   "id": "0e7bded4",
   "metadata": {},
   "source": [
    "nombre_infected       565\n",
    "nombre_sain           626\n",
    "nombre_exposed        142\n",
    "nombre_recovered    18667\n",
    "Name: 53, dtype: int64"
   ]
  },
  {
   "cell_type": "markdown",
   "id": "338b2786",
   "metadata": {},
   "source": [
    "nombre_infected       503\n",
    "nombre_sain           653\n",
    "nombre_exposed        140\n",
    "nombre_recovered    18704\n",
    "Name: 54, dtype: int64"
   ]
  },
  {
   "cell_type": "markdown",
   "id": "f7f33eb3",
   "metadata": {},
   "source": [
    "nombre_infected       466\n",
    "nombre_sain           674\n",
    "nombre_exposed        134\n",
    "nombre_recovered    18726\n",
    "Name: 55, dtype: int64"
   ]
  },
  {
   "cell_type": "markdown",
   "id": "88537aec",
   "metadata": {},
   "source": [
    "nombre_infected       421\n",
    "nombre_sain           699\n",
    "nombre_exposed        129\n",
    "nombre_recovered    18751\n",
    "Name: 56, dtype: int64"
   ]
  },
  {
   "cell_type": "markdown",
   "id": "c5ccb046",
   "metadata": {},
   "source": [
    "nombre_infected       388\n",
    "nombre_sain           765\n",
    "nombre_exposed        126\n",
    "nombre_recovered    18721\n",
    "Name: 57, dtype: int64"
   ]
  },
  {
   "cell_type": "markdown",
   "id": "fcde2f4a",
   "metadata": {},
   "source": [
    "nombre_infected       352\n",
    "nombre_sain           809\n",
    "nombre_exposed        122\n",
    "nombre_recovered    18717\n",
    "Name: 58, dtype: int64"
   ]
  },
  {
   "cell_type": "markdown",
   "id": "680571fb",
   "metadata": {},
   "source": [
    "nombre_infected       323\n",
    "nombre_sain           855\n",
    "nombre_exposed        115\n",
    "nombre_recovered    18707\n",
    "Name: 59, dtype: int64"
   ]
  },
  {
   "cell_type": "markdown",
   "id": "cb47d858",
   "metadata": {},
   "source": [
    "nombre_infected       307\n",
    "nombre_sain           892\n",
    "nombre_exposed        109\n",
    "nombre_recovered    18692\n",
    "Name: 60, dtype: int64"
   ]
  },
  {
   "cell_type": "markdown",
   "id": "7cc12c1f",
   "metadata": {},
   "source": [
    "nombre_infected       269\n",
    "nombre_sain           932\n",
    "nombre_exposed        117\n",
    "nombre_recovered    18682\n",
    "Name: 61, dtype: int64"
   ]
  },
  {
   "cell_type": "markdown",
   "id": "203532c7",
   "metadata": {},
   "source": [
    "nombre_infected       264\n",
    "nombre_sain           978\n",
    "nombre_exposed        109\n",
    "nombre_recovered    18649\n",
    "Name: 62, dtype: int64"
   ]
  },
  {
   "cell_type": "markdown",
   "id": "092a0178",
   "metadata": {},
   "source": [
    "nombre_infected       260\n",
    "nombre_sain          1016\n",
    "nombre_exposed        102\n",
    "nombre_recovered    18622\n",
    "Name: 63, dtype: int64"
   ]
  },
  {
   "cell_type": "markdown",
   "id": "b7983e09",
   "metadata": {},
   "source": [
    "nombre_infected       249\n",
    "nombre_sain          1063\n",
    "nombre_exposed         99\n",
    "nombre_recovered    18589\n",
    "Name: 64, dtype: int64"
   ]
  },
  {
   "cell_type": "markdown",
   "id": "b828fa9b",
   "metadata": {},
   "source": [
    "nombre_infected       246\n",
    "nombre_sain          1100\n",
    "nombre_exposed         91\n",
    "nombre_recovered    18563\n",
    "Name: 65, dtype: int64"
   ]
  },
  {
   "cell_type": "markdown",
   "id": "752d055f",
   "metadata": {},
   "source": [
    "nombre_infected       232\n",
    "nombre_sain          1137\n",
    "nombre_exposed         90\n",
    "nombre_recovered    18541\n",
    "Name: 66, dtype: int64"
   ]
  },
  {
   "cell_type": "markdown",
   "id": "ae76f8a3",
   "metadata": {},
   "source": [
    "nombre_infected       224\n",
    "nombre_sain          1173\n",
    "nombre_exposed         85\n",
    "nombre_recovered    18518\n",
    "Name: 67, dtype: int64"
   ]
  },
  {
   "cell_type": "markdown",
   "id": "2d801d93",
   "metadata": {},
   "source": [
    "nombre_infected       205\n",
    "nombre_sain          1212\n",
    "nombre_exposed         80\n",
    "nombre_recovered    18503\n",
    "Name: 68, dtype: int64"
   ]
  },
  {
   "cell_type": "markdown",
   "id": "6cabbc63",
   "metadata": {},
   "source": [
    "nombre_infected       205\n",
    "nombre_sain          1260\n",
    "nombre_exposed         65\n",
    "nombre_recovered    18470\n",
    "Name: 69, dtype: int64"
   ]
  },
  {
   "cell_type": "markdown",
   "id": "63d6772b",
   "metadata": {},
   "source": [
    "nombre_infected       190\n",
    "nombre_sain          1290\n",
    "nombre_exposed         73\n",
    "nombre_recovered    18447\n",
    "Name: 70, dtype: int64"
   ]
  },
  {
   "cell_type": "markdown",
   "id": "8ff59c60",
   "metadata": {},
   "source": [
    "nombre_infected       174\n",
    "nombre_sain          1318\n",
    "nombre_exposed         84\n",
    "nombre_recovered    18424\n",
    "Name: 71, dtype: int64"
   ]
  },
  {
   "cell_type": "markdown",
   "id": "1d1cabe0",
   "metadata": {},
   "source": [
    "nombre_infected       165\n",
    "nombre_sain          1364\n",
    "nombre_exposed         88\n",
    "nombre_recovered    18383\n",
    "Name: 72, dtype: int64"
   ]
  },
  {
   "cell_type": "markdown",
   "id": "026d5bc0",
   "metadata": {},
   "source": [
    "nombre_infected       173\n",
    "nombre_sain          1408\n",
    "nombre_exposed         83\n",
    "nombre_recovered    18336\n",
    "Name: 73, dtype: int64"
   ]
  },
  {
   "cell_type": "markdown",
   "id": "2d1b1c4e",
   "metadata": {},
   "source": [
    "nombre_infected       169\n",
    "nombre_sain          1440\n",
    "nombre_exposed         75\n",
    "nombre_recovered    18316\n",
    "Name: 74, dtype: int64"
   ]
  },
  {
   "cell_type": "markdown",
   "id": "2d36e92c",
   "metadata": {},
   "source": [
    "nombre_infected       172\n",
    "nombre_sain          1481\n",
    "nombre_exposed         70\n",
    "nombre_recovered    18277\n",
    "Name: 75, dtype: int64"
   ]
  },
  {
   "cell_type": "markdown",
   "id": "990e1366",
   "metadata": {},
   "source": [
    "nombre_infected       159\n",
    "nombre_sain          1536\n",
    "nombre_exposed         65\n",
    "nombre_recovered    18240\n",
    "Name: 76, dtype: int64"
   ]
  },
  {
   "cell_type": "markdown",
   "id": "104734b6",
   "metadata": {},
   "source": [
    "nombre_infected       150\n",
    "nombre_sain          1583\n",
    "nombre_exposed         59\n",
    "nombre_recovered    18208\n",
    "Name: 77, dtype: int64"
   ]
  },
  {
   "cell_type": "markdown",
   "id": "ea1720d7",
   "metadata": {},
   "source": [
    "nombre_infected       137\n",
    "nombre_sain          1623\n",
    "nombre_exposed         59\n",
    "nombre_recovered    18181\n",
    "Name: 78, dtype: int64"
   ]
  },
  {
   "cell_type": "markdown",
   "id": "0ce17023",
   "metadata": {},
   "source": [
    "nombre_infected       134\n",
    "nombre_sain          1688\n",
    "nombre_exposed         58\n",
    "nombre_recovered    18120\n",
    "Name: 79, dtype: int64"
   ]
  },
  {
   "cell_type": "markdown",
   "id": "a293cc62",
   "metadata": {},
   "source": [
    "nombre_infected       122\n",
    "nombre_sain          1732\n",
    "nombre_exposed         58\n",
    "nombre_recovered    18088\n",
    "Name: 80, dtype: int64"
   ]
  },
  {
   "cell_type": "markdown",
   "id": "a5e7410e",
   "metadata": {},
   "source": [
    "nombre_infected       121\n",
    "nombre_sain          1788\n",
    "nombre_exposed         51\n",
    "nombre_recovered    18040\n",
    "Name: 81, dtype: int64"
   ]
  },
  {
   "cell_type": "markdown",
   "id": "fda9ef62",
   "metadata": {},
   "source": [
    "nombre_infected       121\n",
    "nombre_sain          1852\n",
    "nombre_exposed         52\n",
    "nombre_recovered    17975\n",
    "Name: 82, dtype: int64"
   ]
  },
  {
   "cell_type": "markdown",
   "id": "c07f9e31",
   "metadata": {},
   "source": [
    "nombre_infected       119\n",
    "nombre_sain          1905\n",
    "nombre_exposed         57\n",
    "nombre_recovered    17919\n",
    "Name: 83, dtype: int64"
   ]
  },
  {
   "cell_type": "markdown",
   "id": "e58a7065",
   "metadata": {},
   "source": [
    "nombre_infected       115\n",
    "nombre_sain          1961\n",
    "nombre_exposed         53\n",
    "nombre_recovered    17871\n",
    "Name: 84, dtype: int64"
   ]
  },
  {
   "cell_type": "markdown",
   "id": "c299a550",
   "metadata": {},
   "source": [
    "nombre_infected       111\n",
    "nombre_sain          2000\n",
    "nombre_exposed         58\n",
    "nombre_recovered    17831\n",
    "Name: 85, dtype: int64"
   ]
  },
  {
   "cell_type": "markdown",
   "id": "dc0f6ba1",
   "metadata": {},
   "source": [
    "nombre_infected       103\n",
    "nombre_sain          2056\n",
    "nombre_exposed         59\n",
    "nombre_recovered    17782\n",
    "Name: 86, dtype: int64"
   ]
  },
  {
   "cell_type": "markdown",
   "id": "18c9778a",
   "metadata": {},
   "source": [
    "nombre_infected       107\n",
    "nombre_sain          2106\n",
    "nombre_exposed         56\n",
    "nombre_recovered    17731\n",
    "Name: 87, dtype: int64"
   ]
  },
  {
   "cell_type": "markdown",
   "id": "a3df1738",
   "metadata": {},
   "source": [
    "nombre_infected       102\n",
    "nombre_sain          2143\n",
    "nombre_exposed         66\n",
    "nombre_recovered    17689\n",
    "Name: 88, dtype: int64"
   ]
  },
  {
   "cell_type": "markdown",
   "id": "8238e6da",
   "metadata": {},
   "source": [
    "nombre_infected       103\n",
    "nombre_sain          2187\n",
    "nombre_exposed         65\n",
    "nombre_recovered    17645\n",
    "Name: 89, dtype: int64"
   ]
  },
  {
   "cell_type": "markdown",
   "id": "1e3808c6",
   "metadata": {},
   "source": [
    "nombre_infected       102\n",
    "nombre_sain          2228\n",
    "nombre_exposed         68\n",
    "nombre_recovered    17602\n",
    "Name: 90, dtype: int64"
   ]
  },
  {
   "cell_type": "markdown",
   "id": "b7e621dd",
   "metadata": {},
   "source": [
    "nombre_infected       107\n",
    "nombre_sain          2252\n",
    "nombre_exposed         66\n",
    "nombre_recovered    17575\n",
    "Name: 91, dtype: int64"
   ]
  },
  {
   "cell_type": "markdown",
   "id": "02aa3c8d",
   "metadata": {},
   "source": [
    "nombre_infected       102\n",
    "nombre_sain          2286\n",
    "nombre_exposed         76\n",
    "nombre_recovered    17536\n",
    "Name: 92, dtype: int64"
   ]
  },
  {
   "cell_type": "markdown",
   "id": "76792916",
   "metadata": {},
   "source": [
    "nombre_infected       108\n",
    "nombre_sain          2320\n",
    "nombre_exposed         67\n",
    "nombre_recovered    17505\n",
    "Name: 93, dtype: int64"
   ]
  },
  {
   "cell_type": "markdown",
   "id": "1580250d",
   "metadata": {},
   "source": [
    "nombre_infected       108\n",
    "nombre_sain          2352\n",
    "nombre_exposed         68\n",
    "nombre_recovered    17472\n",
    "Name: 94, dtype: int64"
   ]
  },
  {
   "cell_type": "markdown",
   "id": "f201d14c",
   "metadata": {},
   "source": [
    "nombre_infected       108\n",
    "nombre_sain          2375\n",
    "nombre_exposed         74\n",
    "nombre_recovered    17443\n",
    "Name: 95, dtype: int64"
   ]
  },
  {
   "cell_type": "markdown",
   "id": "4445a2df",
   "metadata": {},
   "source": [
    "nombre_infected       106\n",
    "nombre_sain          2394\n",
    "nombre_exposed         78\n",
    "nombre_recovered    17422\n",
    "Name: 96, dtype: int64"
   ]
  },
  {
   "cell_type": "markdown",
   "id": "f71cd459",
   "metadata": {},
   "source": [
    "nombre_infected       117\n",
    "nombre_sain          2402\n",
    "nombre_exposed         73\n",
    "nombre_recovered    17408\n",
    "Name: 97, dtype: int64"
   ]
  },
  {
   "cell_type": "markdown",
   "id": "5c196616",
   "metadata": {},
   "source": [
    "nombre_infected       115\n",
    "nombre_sain          2434\n",
    "nombre_exposed         75\n",
    "nombre_recovered    17376\n",
    "Name: 98, dtype: int64"
   ]
  },
  {
   "cell_type": "markdown",
   "id": "8e578426",
   "metadata": {},
   "source": [
    "nombre_infected       131\n",
    "nombre_sain          2455\n",
    "nombre_exposed         63\n",
    "nombre_recovered    17351\n",
    "Name: 99, dtype: int64"
   ]
  },
  {
   "cell_type": "markdown",
   "id": "e8c4d3b5",
   "metadata": {},
   "source": [
    "nombre_infected       124\n",
    "nombre_sain          2476\n",
    "nombre_exposed         66\n",
    "nombre_recovered    17334\n",
    "Name: 100, dtype: int64"
   ]
  },
  {
   "cell_type": "markdown",
   "id": "8482ba04",
   "metadata": {},
   "source": [
    "nombre_infected       124\n",
    "nombre_sain          2501\n",
    "nombre_exposed         79\n",
    "nombre_recovered    17296\n",
    "Name: 101, dtype: int64"
   ]
  },
  {
   "cell_type": "markdown",
   "id": "9f35f07d",
   "metadata": {},
   "source": [
    "nombre_infected       127\n",
    "nombre_sain          2524\n",
    "nombre_exposed         82\n",
    "nombre_recovered    17267\n",
    "Name: 102, dtype: int64"
   ]
  },
  {
   "cell_type": "markdown",
   "id": "1224f7cb",
   "metadata": {},
   "source": [
    "nombre_infected       135\n",
    "nombre_sain          2537\n",
    "nombre_exposed         81\n",
    "nombre_recovered    17247\n",
    "Name: 103, dtype: int64"
   ]
  },
  {
   "cell_type": "markdown",
   "id": "e47b5604",
   "metadata": {},
   "source": [
    "nombre_infected       135\n",
    "nombre_sain          2567\n",
    "nombre_exposed         86\n",
    "nombre_recovered    17212\n",
    "Name: 104, dtype: int64"
   ]
  },
  {
   "cell_type": "markdown",
   "id": "1afbe175",
   "metadata": {},
   "source": [
    "nombre_infected       127\n",
    "nombre_sain          2585\n",
    "nombre_exposed         96\n",
    "nombre_recovered    17192\n",
    "Name: 105, dtype: int64"
   ]
  },
  {
   "cell_type": "markdown",
   "id": "26afc3e6",
   "metadata": {},
   "source": [
    "nombre_infected       142\n",
    "nombre_sain          2595\n",
    "nombre_exposed         94\n",
    "nombre_recovered    17169\n",
    "Name: 106, dtype: int64"
   ]
  },
  {
   "cell_type": "markdown",
   "id": "cac2f6e4",
   "metadata": {},
   "source": [
    "nombre_infected       146\n",
    "nombre_sain          2624\n",
    "nombre_exposed         93\n",
    "nombre_recovered    17137\n",
    "Name: 107, dtype: int64"
   ]
  },
  {
   "cell_type": "markdown",
   "id": "20a75291",
   "metadata": {},
   "source": [
    "nombre_infected       154\n",
    "nombre_sain          2654\n",
    "nombre_exposed         93\n",
    "nombre_recovered    17099\n",
    "Name: 108, dtype: int64"
   ]
  },
  {
   "cell_type": "markdown",
   "id": "151891d3",
   "metadata": {},
   "source": [
    "nombre_infected       138\n",
    "nombre_sain          2673\n",
    "nombre_exposed        111\n",
    "nombre_recovered    17078\n",
    "Name: 109, dtype: int64"
   ]
  },
  {
   "cell_type": "markdown",
   "id": "ad21da96",
   "metadata": {},
   "source": [
    "nombre_infected       149\n",
    "nombre_sain          2705\n",
    "nombre_exposed        104\n",
    "nombre_recovered    17042\n",
    "Name: 110, dtype: int64"
   ]
  },
  {
   "cell_type": "markdown",
   "id": "312cca17",
   "metadata": {},
   "source": [
    "nombre_infected       155\n",
    "nombre_sain          2737\n",
    "nombre_exposed        102\n",
    "nombre_recovered    17006\n",
    "Name: 111, dtype: int64"
   ]
  },
  {
   "cell_type": "markdown",
   "id": "dbd1ec09",
   "metadata": {},
   "source": [
    "nombre_infected       155\n",
    "nombre_sain          2764\n",
    "nombre_exposed        105\n",
    "nombre_recovered    16976\n",
    "Name: 112, dtype: int64"
   ]
  },
  {
   "cell_type": "markdown",
   "id": "2a87a576",
   "metadata": {},
   "source": [
    "nombre_infected       159\n",
    "nombre_sain          2772\n",
    "nombre_exposed        119\n",
    "nombre_recovered    16950\n",
    "Name: 113, dtype: int64"
   ]
  },
  {
   "cell_type": "markdown",
   "id": "679144be",
   "metadata": {},
   "source": [
    "nombre_infected       155\n",
    "nombre_sain          2799\n",
    "nombre_exposed        124\n",
    "nombre_recovered    16922\n",
    "Name: 114, dtype: int64"
   ]
  },
  {
   "cell_type": "markdown",
   "id": "b4f06494",
   "metadata": {},
   "source": [
    "nombre_infected       163\n",
    "nombre_sain          2804\n",
    "nombre_exposed        132\n",
    "nombre_recovered    16901\n",
    "Name: 115, dtype: int64"
   ]
  },
  {
   "cell_type": "markdown",
   "id": "8e986504",
   "metadata": {},
   "source": [
    "nombre_infected       172\n",
    "nombre_sain          2836\n",
    "nombre_exposed        133\n",
    "nombre_recovered    16859\n",
    "Name: 116, dtype: int64"
   ]
  },
  {
   "cell_type": "markdown",
   "id": "f8341ddd",
   "metadata": {},
   "source": [
    "nombre_infected       169\n",
    "nombre_sain          2855\n",
    "nombre_exposed        133\n",
    "nombre_recovered    16843\n",
    "Name: 117, dtype: int64"
   ]
  },
  {
   "cell_type": "markdown",
   "id": "aba44462",
   "metadata": {},
   "source": [
    "nombre_infected       183\n",
    "nombre_sain          2887\n",
    "nombre_exposed        130\n",
    "nombre_recovered    16800\n",
    "Name: 118, dtype: int64"
   ]
  },
  {
   "cell_type": "markdown",
   "id": "22dcee5e",
   "metadata": {},
   "source": [
    "nombre_infected       182\n",
    "nombre_sain          2916\n",
    "nombre_exposed        133\n",
    "nombre_recovered    16769\n",
    "Name: 119, dtype: int64"
   ]
  },
  {
   "cell_type": "markdown",
   "id": "bb40ccfb",
   "metadata": {},
   "source": [
    "nombre_infected       183\n",
    "nombre_sain          2949\n",
    "nombre_exposed        134\n",
    "nombre_recovered    16734\n",
    "Name: 120, dtype: int64"
   ]
  },
  {
   "cell_type": "markdown",
   "id": "1d80b072",
   "metadata": {},
   "source": [
    "nombre_infected       192\n",
    "nombre_sain          2984\n",
    "nombre_exposed        140\n",
    "nombre_recovered    16684\n",
    "Name: 121, dtype: int64"
   ]
  },
  {
   "cell_type": "markdown",
   "id": "43e648da",
   "metadata": {},
   "source": [
    "nombre_infected       191\n",
    "nombre_sain          2999\n",
    "nombre_exposed        153\n",
    "nombre_recovered    16657\n",
    "Name: 122, dtype: int64"
   ]
  },
  {
   "cell_type": "markdown",
   "id": "60ea8b88",
   "metadata": {},
   "source": [
    "nombre_infected       187\n",
    "nombre_sain          3018\n",
    "nombre_exposed        151\n",
    "nombre_recovered    16644\n",
    "Name: 123, dtype: int64"
   ]
  },
  {
   "cell_type": "markdown",
   "id": "c62621db",
   "metadata": {},
   "source": [
    "nombre_infected       196\n",
    "nombre_sain          3025\n",
    "nombre_exposed        164\n",
    "nombre_recovered    16615\n",
    "Name: 124, dtype: int64"
   ]
  },
  {
   "cell_type": "markdown",
   "id": "e86b9e2e",
   "metadata": {},
   "source": [
    "nombre_infected       195\n",
    "nombre_sain          3040\n",
    "nombre_exposed        169\n",
    "nombre_recovered    16596\n",
    "Name: 125, dtype: int64"
   ]
  },
  {
   "cell_type": "markdown",
   "id": "5754ba06",
   "metadata": {},
   "source": [
    "nombre_infected       195\n",
    "nombre_sain          3070\n",
    "nombre_exposed        168\n",
    "nombre_recovered    16567\n",
    "Name: 126, dtype: int64"
   ]
  },
  {
   "cell_type": "markdown",
   "id": "8f21ca81",
   "metadata": {},
   "source": [
    "nombre_infected       214\n",
    "nombre_sain          3106\n",
    "nombre_exposed        159\n",
    "nombre_recovered    16521\n",
    "Name: 127, dtype: int64"
   ]
  },
  {
   "cell_type": "markdown",
   "id": "7ad5a7ce",
   "metadata": {},
   "source": [
    "nombre_infected       223\n",
    "nombre_sain          3118\n",
    "nombre_exposed        168\n",
    "nombre_recovered    16491\n",
    "Name: 128, dtype: int64"
   ]
  },
  {
   "cell_type": "markdown",
   "id": "ad07c576",
   "metadata": {},
   "source": [
    "nombre_infected       226\n",
    "nombre_sain          3140\n",
    "nombre_exposed        177\n",
    "nombre_recovered    16457\n",
    "Name: 129, dtype: int64"
   ]
  },
  {
   "cell_type": "markdown",
   "id": "460bac9a",
   "metadata": {},
   "source": [
    "nombre_infected       220\n",
    "nombre_sain          3154\n",
    "nombre_exposed        197\n",
    "nombre_recovered    16429\n",
    "Name: 130, dtype: int64"
   ]
  },
  {
   "cell_type": "markdown",
   "id": "5014b29d",
   "metadata": {},
   "source": [
    "nombre_infected       240\n",
    "nombre_sain          3170\n",
    "nombre_exposed        206\n",
    "nombre_recovered    16384\n",
    "Name: 131, dtype: int64"
   ]
  },
  {
   "cell_type": "markdown",
   "id": "066b35d2",
   "metadata": {},
   "source": [
    "nombre_infected       267\n",
    "nombre_sain          3190\n",
    "nombre_exposed        191\n",
    "nombre_recovered    16352\n",
    "Name: 132, dtype: int64"
   ]
  },
  {
   "cell_type": "markdown",
   "id": "e8e8d143",
   "metadata": {},
   "source": [
    "nombre_infected       273\n",
    "nombre_sain          3175\n",
    "nombre_exposed        205\n",
    "nombre_recovered    16347\n",
    "Name: 133, dtype: int64"
   ]
  },
  {
   "cell_type": "markdown",
   "id": "fea3e5ee",
   "metadata": {},
   "source": [
    "nombre_infected       272\n",
    "nombre_sain          3182\n",
    "nombre_exposed        224\n",
    "nombre_recovered    16322\n",
    "Name: 134, dtype: int64"
   ]
  },
  {
   "cell_type": "markdown",
   "id": "af8cf139",
   "metadata": {},
   "source": [
    "nombre_infected       282\n",
    "nombre_sain          3184\n",
    "nombre_exposed        239\n",
    "nombre_recovered    16295\n",
    "Name: 135, dtype: int64"
   ]
  },
  {
   "cell_type": "markdown",
   "id": "289974be",
   "metadata": {},
   "source": [
    "nombre_infected       289\n",
    "nombre_sain          3170\n",
    "nombre_exposed        268\n",
    "nombre_recovered    16273\n",
    "Name: 136, dtype: int64"
   ]
  },
  {
   "cell_type": "markdown",
   "id": "00f62545",
   "metadata": {},
   "source": [
    "nombre_infected       306\n",
    "nombre_sain          3159\n",
    "nombre_exposed        285\n",
    "nombre_recovered    16250\n",
    "Name: 137, dtype: int64"
   ]
  },
  {
   "cell_type": "markdown",
   "id": "643b454d",
   "metadata": {},
   "source": [
    "nombre_infected       331\n",
    "nombre_sain          3165\n",
    "nombre_exposed        277\n",
    "nombre_recovered    16227\n",
    "Name: 138, dtype: int64"
   ]
  },
  {
   "cell_type": "markdown",
   "id": "0accce81",
   "metadata": {},
   "source": [
    "nombre_infected       355\n",
    "nombre_sain          3157\n",
    "nombre_exposed        289\n",
    "nombre_recovered    16199\n",
    "Name: 139, dtype: int64"
   ]
  },
  {
   "cell_type": "markdown",
   "id": "332642ea",
   "metadata": {},
   "source": [
    "nombre_infected       380\n",
    "nombre_sain          3149\n",
    "nombre_exposed        303\n",
    "nombre_recovered    16168\n",
    "Name: 140, dtype: int64"
   ]
  },
  {
   "cell_type": "markdown",
   "id": "76709abe",
   "metadata": {},
   "source": [
    "nombre_infected       398\n",
    "nombre_sain          3146\n",
    "nombre_exposed        312\n",
    "nombre_recovered    16144\n",
    "Name: 141, dtype: int64"
   ]
  },
  {
   "cell_type": "markdown",
   "id": "08133b0c",
   "metadata": {},
   "source": [
    "nombre_infected       412\n",
    "nombre_sain          3133\n",
    "nombre_exposed        324\n",
    "nombre_recovered    16131\n",
    "Name: 142, dtype: int64"
   ]
  },
  {
   "cell_type": "markdown",
   "id": "3abfa1e9",
   "metadata": {},
   "source": [
    "nombre_infected       418\n",
    "nombre_sain          3114\n",
    "nombre_exposed        332\n",
    "nombre_recovered    16136\n",
    "Name: 143, dtype: int64"
   ]
  },
  {
   "cell_type": "markdown",
   "id": "1620115d",
   "metadata": {},
   "source": [
    "nombre_infected       455\n",
    "nombre_sain          3067\n",
    "nombre_exposed        350\n",
    "nombre_recovered    16128\n",
    "Name: 144, dtype: int64"
   ]
  },
  {
   "cell_type": "markdown",
   "id": "0beea505",
   "metadata": {},
   "source": [
    "nombre_infected       474\n",
    "nombre_sain          3035\n",
    "nombre_exposed        376\n",
    "nombre_recovered    16115\n",
    "Name: 145, dtype: int64"
   ]
  },
  {
   "cell_type": "markdown",
   "id": "97b4e481",
   "metadata": {},
   "source": [
    "nombre_infected       490\n",
    "nombre_sain          3001\n",
    "nombre_exposed        391\n",
    "nombre_recovered    16118\n",
    "Name: 146, dtype: int64"
   ]
  },
  {
   "cell_type": "markdown",
   "id": "b2db1ef8",
   "metadata": {},
   "source": [
    "nombre_infected       494\n",
    "nombre_sain          2966\n",
    "nombre_exposed        411\n",
    "nombre_recovered    16129\n",
    "Name: 147, dtype: int64"
   ]
  },
  {
   "cell_type": "markdown",
   "id": "7ec74903",
   "metadata": {},
   "source": [
    "nombre_infected       522\n",
    "nombre_sain          2947\n",
    "nombre_exposed        421\n",
    "nombre_recovered    16110\n",
    "Name: 148, dtype: int64"
   ]
  },
  {
   "cell_type": "markdown",
   "id": "e411dbcf",
   "metadata": {},
   "source": [
    "nombre_infected       545\n",
    "nombre_sain          2909\n",
    "nombre_exposed        434\n",
    "nombre_recovered    16112\n",
    "Name: 149, dtype: int64"
   ]
  },
  {
   "cell_type": "markdown",
   "id": "063853e9",
   "metadata": {},
   "source": [
    "nombre_infected       588\n",
    "nombre_sain          2905\n",
    "nombre_exposed        397\n",
    "nombre_recovered    16110\n",
    "Name: 150, dtype: int64"
   ]
  },
  {
   "cell_type": "markdown",
   "id": "9d0beb38",
   "metadata": {},
   "source": [
    "nombre_infected       616\n",
    "nombre_sain          2851\n",
    "nombre_exposed        402\n",
    "nombre_recovered    16131\n",
    "Name: 151, dtype: int64"
   ]
  },
  {
   "cell_type": "markdown",
   "id": "0be83451",
   "metadata": {},
   "source": [
    "nombre_infected       615\n",
    "nombre_sain          2788\n",
    "nombre_exposed        455\n",
    "nombre_recovered    16142\n",
    "Name: 152, dtype: int64"
   ]
  },
  {
   "cell_type": "markdown",
   "id": "a1f5e08f",
   "metadata": {},
   "source": [
    "nombre_infected       648\n",
    "nombre_sain          2755\n",
    "nombre_exposed        441\n",
    "nombre_recovered    16156\n",
    "Name: 153, dtype: int64"
   ]
  },
  {
   "cell_type": "markdown",
   "id": "7411236f",
   "metadata": {},
   "source": [
    "nombre_infected       658\n",
    "nombre_sain          2707\n",
    "nombre_exposed        451\n",
    "nombre_recovered    16184\n",
    "Name: 154, dtype: int64"
   ]
  },
  {
   "cell_type": "markdown",
   "id": "0fa669d9",
   "metadata": {},
   "source": [
    "nombre_infected       677\n",
    "nombre_sain          2664\n",
    "nombre_exposed        465\n",
    "nombre_recovered    16194\n",
    "Name: 155, dtype: int64"
   ]
  },
  {
   "cell_type": "markdown",
   "id": "c9e731de",
   "metadata": {},
   "source": [
    "nombre_infected       686\n",
    "nombre_sain          2611\n",
    "nombre_exposed        483\n",
    "nombre_recovered    16220\n",
    "Name: 156, dtype: int64"
   ]
  },
  {
   "cell_type": "markdown",
   "id": "3c1ee201",
   "metadata": {},
   "source": [
    "nombre_infected       701\n",
    "nombre_sain          2543\n",
    "nombre_exposed        506\n",
    "nombre_recovered    16250\n",
    "Name: 157, dtype: int64"
   ]
  },
  {
   "cell_type": "markdown",
   "id": "873584bc",
   "metadata": {},
   "source": [
    "nombre_infected       712\n",
    "nombre_sain          2504\n",
    "nombre_exposed        512\n",
    "nombre_recovered    16272\n",
    "Name: 158, dtype: int64"
   ]
  },
  {
   "cell_type": "markdown",
   "id": "ec4def1c",
   "metadata": {},
   "source": [
    "nombre_infected       750\n",
    "nombre_sain          2472\n",
    "nombre_exposed        493\n",
    "nombre_recovered    16285\n",
    "Name: 159, dtype: int64"
   ]
  },
  {
   "cell_type": "markdown",
   "id": "075ba1f7",
   "metadata": {},
   "source": [
    "nombre_infected       775\n",
    "nombre_sain          2408\n",
    "nombre_exposed        507\n",
    "nombre_recovered    16310\n",
    "Name: 160, dtype: int64"
   ]
  },
  {
   "cell_type": "markdown",
   "id": "fa2af924",
   "metadata": {},
   "source": [
    "nombre_infected       798\n",
    "nombre_sain          2372\n",
    "nombre_exposed        498\n",
    "nombre_recovered    16332\n",
    "Name: 161, dtype: int64"
   ]
  },
  {
   "cell_type": "markdown",
   "id": "5c7a14a9",
   "metadata": {},
   "source": [
    "nombre_infected       806\n",
    "nombre_sain          2323\n",
    "nombre_exposed        500\n",
    "nombre_recovered    16371\n",
    "Name: 162, dtype: int64"
   ]
  },
  {
   "cell_type": "markdown",
   "id": "a4237e1e",
   "metadata": {},
   "source": [
    "nombre_infected       814\n",
    "nombre_sain          2278\n",
    "nombre_exposed        500\n",
    "nombre_recovered    16408\n",
    "Name: 163, dtype: int64"
   ]
  },
  {
   "cell_type": "markdown",
   "id": "6f721f19",
   "metadata": {},
   "source": [
    "nombre_infected       813\n",
    "nombre_sain          2216\n",
    "nombre_exposed        506\n",
    "nombre_recovered    16465\n",
    "Name: 164, dtype: int64"
   ]
  },
  {
   "cell_type": "markdown",
   "id": "36f2b319",
   "metadata": {},
   "source": [
    "nombre_infected       814\n",
    "nombre_sain          2188\n",
    "nombre_exposed        490\n",
    "nombre_recovered    16508\n",
    "Name: 165, dtype: int64"
   ]
  },
  {
   "cell_type": "markdown",
   "id": "62dd211d",
   "metadata": {},
   "source": [
    "nombre_infected       838\n",
    "nombre_sain          2140\n",
    "nombre_exposed        502\n",
    "nombre_recovered    16520\n",
    "Name: 166, dtype: int64"
   ]
  },
  {
   "cell_type": "markdown",
   "id": "ab4f73f0",
   "metadata": {},
   "source": [
    "nombre_infected       838\n",
    "nombre_sain          2100\n",
    "nombre_exposed        495\n",
    "nombre_recovered    16567\n",
    "Name: 167, dtype: int64"
   ]
  },
  {
   "cell_type": "markdown",
   "id": "f54d0abb",
   "metadata": {},
   "source": [
    "nombre_infected       869\n",
    "nombre_sain          2072\n",
    "nombre_exposed        465\n",
    "nombre_recovered    16594\n",
    "Name: 168, dtype: int64"
   ]
  },
  {
   "cell_type": "markdown",
   "id": "fe8db63b",
   "metadata": {},
   "source": [
    "nombre_infected       862\n",
    "nombre_sain          2026\n",
    "nombre_exposed        486\n",
    "nombre_recovered    16626\n",
    "Name: 169, dtype: int64"
   ]
  },
  {
   "cell_type": "markdown",
   "id": "df1d2e37",
   "metadata": {},
   "source": [
    "nombre_infected       873\n",
    "nombre_sain          1990\n",
    "nombre_exposed        467\n",
    "nombre_recovered    16670\n",
    "Name: 170, dtype: int64"
   ]
  },
  {
   "cell_type": "markdown",
   "id": "8806266b",
   "metadata": {},
   "source": [
    "nombre_infected       896\n",
    "nombre_sain          1963\n",
    "nombre_exposed        443\n",
    "nombre_recovered    16698\n",
    "Name: 171, dtype: int64"
   ]
  },
  {
   "cell_type": "markdown",
   "id": "8023ff43",
   "metadata": {},
   "source": [
    "nombre_infected       895\n",
    "nombre_sain          1929\n",
    "nombre_exposed        435\n",
    "nombre_recovered    16741\n",
    "Name: 172, dtype: int64"
   ]
  },
  {
   "cell_type": "markdown",
   "id": "2f72c1b6",
   "metadata": {},
   "source": [
    "nombre_infected       886\n",
    "nombre_sain          1899\n",
    "nombre_exposed        431\n",
    "nombre_recovered    16784\n",
    "Name: 173, dtype: int64"
   ]
  },
  {
   "cell_type": "markdown",
   "id": "3c0371d9",
   "metadata": {},
   "source": [
    "nombre_infected       881\n",
    "nombre_sain          1843\n",
    "nombre_exposed        429\n",
    "nombre_recovered    16847\n",
    "Name: 174, dtype: int64"
   ]
  },
  {
   "cell_type": "markdown",
   "id": "a8626492",
   "metadata": {},
   "source": [
    "nombre_infected       854\n",
    "nombre_sain          1813\n",
    "nombre_exposed        418\n",
    "nombre_recovered    16915\n",
    "Name: 175, dtype: int64"
   ]
  },
  {
   "cell_type": "markdown",
   "id": "f701cbb8",
   "metadata": {},
   "source": [
    "nombre_infected       851\n",
    "nombre_sain          1771\n",
    "nombre_exposed        404\n",
    "nombre_recovered    16974\n",
    "Name: 176, dtype: int64"
   ]
  },
  {
   "cell_type": "markdown",
   "id": "55bcc8d1",
   "metadata": {},
   "source": [
    "nombre_infected       819\n",
    "nombre_sain          1770\n",
    "nombre_exposed        395\n",
    "nombre_recovered    17016\n",
    "Name: 177, dtype: int64"
   ]
  },
  {
   "cell_type": "markdown",
   "id": "33f645de",
   "metadata": {},
   "source": [
    "nombre_infected       774\n",
    "nombre_sain          1750\n",
    "nombre_exposed        402\n",
    "nombre_recovered    17074\n",
    "Name: 178, dtype: int64"
   ]
  },
  {
   "cell_type": "markdown",
   "id": "888aae14",
   "metadata": {},
   "source": [
    "nombre_infected       765\n",
    "nombre_sain          1752\n",
    "nombre_exposed        364\n",
    "nombre_recovered    17119\n",
    "Name: 179, dtype: int64"
   ]
  },
  {
   "cell_type": "markdown",
   "id": "24303a7a",
   "metadata": {},
   "source": [
    "nombre_infected       749\n",
    "nombre_sain          1727\n",
    "nombre_exposed        352\n",
    "nombre_recovered    17172\n",
    "Name: 180, dtype: int64"
   ]
  },
  {
   "cell_type": "markdown",
   "id": "9975bbe0",
   "metadata": {},
   "source": [
    "nombre_infected       742\n",
    "nombre_sain          1717\n",
    "nombre_exposed        345\n",
    "nombre_recovered    17196\n",
    "Name: 181, dtype: int64"
   ]
  },
  {
   "cell_type": "markdown",
   "id": "a12ee936",
   "metadata": {},
   "source": [
    "nombre_infected       734\n",
    "nombre_sain          1712\n",
    "nombre_exposed        331\n",
    "nombre_recovered    17223\n",
    "Name: 182, dtype: int64"
   ]
  },
  {
   "cell_type": "markdown",
   "id": "7fcba499",
   "metadata": {},
   "source": [
    "nombre_infected       701\n",
    "nombre_sain          1689\n",
    "nombre_exposed        324\n",
    "nombre_recovered    17286\n",
    "Name: 183, dtype: int64"
   ]
  },
  {
   "cell_type": "markdown",
   "id": "ccc079bf",
   "metadata": {},
   "source": [
    "nombre_infected       692\n",
    "nombre_sain          1708\n",
    "nombre_exposed        293\n",
    "nombre_recovered    17307\n",
    "Name: 184, dtype: int64"
   ]
  },
  {
   "cell_type": "markdown",
   "id": "3fbb1891",
   "metadata": {},
   "source": [
    "nombre_infected       672\n",
    "nombre_sain          1715\n",
    "nombre_exposed        277\n",
    "nombre_recovered    17336\n",
    "Name: 185, dtype: int64"
   ]
  },
  {
   "cell_type": "markdown",
   "id": "97eb1c01",
   "metadata": {},
   "source": [
    "nombre_infected       665\n",
    "nombre_sain          1707\n",
    "nombre_exposed        272\n",
    "nombre_recovered    17356\n",
    "Name: 186, dtype: int64"
   ]
  },
  {
   "cell_type": "markdown",
   "id": "8f521beb",
   "metadata": {},
   "source": [
    "nombre_infected       641\n",
    "nombre_sain          1718\n",
    "nombre_exposed        267\n",
    "nombre_recovered    17374\n",
    "Name: 187, dtype: int64"
   ]
  },
  {
   "cell_type": "markdown",
   "id": "1ab2bac2",
   "metadata": {},
   "source": [
    "nombre_infected       614\n",
    "nombre_sain          1724\n",
    "nombre_exposed        274\n",
    "nombre_recovered    17388\n",
    "Name: 188, dtype: int64"
   ]
  },
  {
   "cell_type": "markdown",
   "id": "60135698",
   "metadata": {},
   "source": [
    "nombre_infected       594\n",
    "nombre_sain          1737\n",
    "nombre_exposed        275\n",
    "nombre_recovered    17394\n",
    "Name: 189, dtype: int64"
   ]
  },
  {
   "cell_type": "markdown",
   "id": "6801ee52",
   "metadata": {},
   "source": [
    "nombre_infected       584\n",
    "nombre_sain          1738\n",
    "nombre_exposed        263\n",
    "nombre_recovered    17415\n",
    "Name: 190, dtype: int64"
   ]
  },
  {
   "cell_type": "markdown",
   "id": "afc59be7",
   "metadata": {},
   "source": [
    "nombre_infected       553\n",
    "nombre_sain          1748\n",
    "nombre_exposed        264\n",
    "nombre_recovered    17435\n",
    "Name: 191, dtype: int64"
   ]
  },
  {
   "cell_type": "markdown",
   "id": "92d90668",
   "metadata": {},
   "source": [
    "nombre_infected       543\n",
    "nombre_sain          1766\n",
    "nombre_exposed        256\n",
    "nombre_recovered    17435\n",
    "Name: 192, dtype: int64"
   ]
  },
  {
   "cell_type": "markdown",
   "id": "ed63a76b",
   "metadata": {},
   "source": [
    "nombre_infected       537\n",
    "nombre_sain          1777\n",
    "nombre_exposed        260\n",
    "nombre_recovered    17426\n",
    "Name: 193, dtype: int64"
   ]
  },
  {
   "cell_type": "markdown",
   "id": "853829fa",
   "metadata": {},
   "source": [
    "nombre_infected       523\n",
    "nombre_sain          1801\n",
    "nombre_exposed        256\n",
    "nombre_recovered    17420\n",
    "Name: 194, dtype: int64"
   ]
  },
  {
   "cell_type": "markdown",
   "id": "8ad98a28",
   "metadata": {},
   "source": [
    "nombre_infected       532\n",
    "nombre_sain          1825\n",
    "nombre_exposed        246\n",
    "nombre_recovered    17397\n",
    "Name: 195, dtype: int64"
   ]
  },
  {
   "cell_type": "markdown",
   "id": "a254a6b1",
   "metadata": {},
   "source": [
    "nombre_infected       514\n",
    "nombre_sain          1828\n",
    "nombre_exposed        250\n",
    "nombre_recovered    17408\n",
    "Name: 196, dtype: int64"
   ]
  },
  {
   "cell_type": "markdown",
   "id": "8a351b4b",
   "metadata": {},
   "source": [
    "nombre_infected       515\n",
    "nombre_sain          1871\n",
    "nombre_exposed        236\n",
    "nombre_recovered    17378\n",
    "Name: 197, dtype: int64"
   ]
  },
  {
   "cell_type": "markdown",
   "id": "a1f96dcf",
   "metadata": {},
   "source": [
    "nombre_infected       511\n",
    "nombre_sain          1899\n",
    "nombre_exposed        244\n",
    "nombre_recovered    17346\n",
    "Name: 198, dtype: int64"
   ]
  },
  {
   "cell_type": "markdown",
   "id": "c062e390",
   "metadata": {},
   "source": [
    "nombre_infected       517\n",
    "nombre_sain          1928\n",
    "nombre_exposed        229\n",
    "nombre_recovered    17326\n",
    "Name: 199, dtype: int64"
   ]
  },
  {
   "cell_type": "markdown",
   "id": "51e4c2b4",
   "metadata": {},
   "source": [
    "nombre_infected       507\n",
    "nombre_sain          1987\n",
    "nombre_exposed        237\n",
    "nombre_recovered    17269\n",
    "Name: 200, dtype: int64"
   ]
  },
  {
   "cell_type": "markdown",
   "id": "93a0c71a",
   "metadata": {},
   "source": [
    "nombre_infected       503\n",
    "nombre_sain          2027\n",
    "nombre_exposed        235\n",
    "nombre_recovered    17235\n",
    "Name: 201, dtype: int64"
   ]
  },
  {
   "cell_type": "markdown",
   "id": "7cf6d428",
   "metadata": {},
   "source": [
    "nombre_infected       487\n",
    "nombre_sain          2061\n",
    "nombre_exposed        238\n",
    "nombre_recovered    17214\n",
    "Name: 202, dtype: int64"
   ]
  },
  {
   "cell_type": "markdown",
   "id": "059b7512",
   "metadata": {},
   "source": [
    "nombre_infected       481\n",
    "nombre_sain          2099\n",
    "nombre_exposed        236\n",
    "nombre_recovered    17184\n",
    "Name: 203, dtype: int64"
   ]
  },
  {
   "cell_type": "markdown",
   "id": "37e1da69",
   "metadata": {},
   "source": [
    "nombre_infected       500\n",
    "nombre_sain          2131\n",
    "nombre_exposed        235\n",
    "nombre_recovered    17134\n",
    "Name: 204, dtype: int64"
   ]
  },
  {
   "cell_type": "markdown",
   "id": "2ee454ef",
   "metadata": {},
   "source": [
    "nombre_infected       494\n",
    "nombre_sain          2151\n",
    "nombre_exposed        243\n",
    "nombre_recovered    17112\n",
    "Name: 205, dtype: int64"
   ]
  },
  {
   "cell_type": "markdown",
   "id": "439501bf",
   "metadata": {},
   "source": [
    "nombre_infected       475\n",
    "nombre_sain          2166\n",
    "nombre_exposed        266\n",
    "nombre_recovered    17093\n",
    "Name: 206, dtype: int64"
   ]
  },
  {
   "cell_type": "markdown",
   "id": "d127e133",
   "metadata": {},
   "source": [
    "nombre_infected       471\n",
    "nombre_sain          2201\n",
    "nombre_exposed        262\n",
    "nombre_recovered    17066\n",
    "Name: 207, dtype: int64"
   ]
  },
  {
   "cell_type": "markdown",
   "id": "96ec5382",
   "metadata": {},
   "source": [
    "nombre_infected       476\n",
    "nombre_sain          2218\n",
    "nombre_exposed        271\n",
    "nombre_recovered    17035\n",
    "Name: 208, dtype: int64"
   ]
  },
  {
   "cell_type": "markdown",
   "id": "c336818c",
   "metadata": {},
   "source": [
    "nombre_infected       478\n",
    "nombre_sain          2242\n",
    "nombre_exposed        261\n",
    "nombre_recovered    17019\n",
    "Name: 209, dtype: int64"
   ]
  },
  {
   "cell_type": "markdown",
   "id": "0831ae93",
   "metadata": {},
   "source": [
    "nombre_infected       483\n",
    "nombre_sain          2254\n",
    "nombre_exposed        263\n",
    "nombre_recovered    17000\n",
    "Name: 210, dtype: int64"
   ]
  },
  {
   "cell_type": "markdown",
   "id": "02ce4102",
   "metadata": {},
   "source": [
    "nombre_infected       479\n",
    "nombre_sain          2303\n",
    "nombre_exposed        268\n",
    "nombre_recovered    16950\n",
    "Name: 211, dtype: int64"
   ]
  },
  {
   "cell_type": "markdown",
   "id": "67a71796",
   "metadata": {},
   "source": [
    "nombre_infected       472\n",
    "nombre_sain          2344\n",
    "nombre_exposed        274\n",
    "nombre_recovered    16910\n",
    "Name: 212, dtype: int64"
   ]
  },
  {
   "cell_type": "markdown",
   "id": "4095fb4c",
   "metadata": {},
   "source": [
    "nombre_infected       479\n",
    "nombre_sain          2384\n",
    "nombre_exposed        263\n",
    "nombre_recovered    16874\n",
    "Name: 213, dtype: int64"
   ]
  },
  {
   "cell_type": "markdown",
   "id": "c5a7e5e3",
   "metadata": {},
   "source": [
    "nombre_infected       481\n",
    "nombre_sain          2413\n",
    "nombre_exposed        261\n",
    "nombre_recovered    16845\n",
    "Name: 214, dtype: int64"
   ]
  },
  {
   "cell_type": "markdown",
   "id": "bdd557b8",
   "metadata": {},
   "source": [
    "nombre_infected       480\n",
    "nombre_sain          2433\n",
    "nombre_exposed        268\n",
    "nombre_recovered    16819\n",
    "Name: 215, dtype: int64"
   ]
  },
  {
   "cell_type": "markdown",
   "id": "1b5bd597",
   "metadata": {},
   "source": [
    "nombre_infected       477\n",
    "nombre_sain          2439\n",
    "nombre_exposed        292\n",
    "nombre_recovered    16792\n",
    "Name: 216, dtype: int64"
   ]
  },
  {
   "cell_type": "markdown",
   "id": "77517fc0",
   "metadata": {},
   "source": [
    "nombre_infected       480\n",
    "nombre_sain          2465\n",
    "nombre_exposed        291\n",
    "nombre_recovered    16764\n",
    "Name: 217, dtype: int64"
   ]
  },
  {
   "cell_type": "markdown",
   "id": "27fbe82a",
   "metadata": {},
   "source": [
    "nombre_infected       491\n",
    "nombre_sain          2488\n",
    "nombre_exposed        286\n",
    "nombre_recovered    16735\n",
    "Name: 218, dtype: int64"
   ]
  },
  {
   "cell_type": "markdown",
   "id": "3535fcfd",
   "metadata": {},
   "source": [
    "nombre_infected       489\n",
    "nombre_sain          2523\n",
    "nombre_exposed        291\n",
    "nombre_recovered    16697\n",
    "Name: 219, dtype: int64"
   ]
  },
  {
   "cell_type": "markdown",
   "id": "64130e70",
   "metadata": {},
   "source": [
    "nombre_infected       494\n",
    "nombre_sain          2503\n",
    "nombre_exposed        308\n",
    "nombre_recovered    16695\n",
    "Name: 220, dtype: int64"
   ]
  },
  {
   "cell_type": "markdown",
   "id": "81d5391c",
   "metadata": {},
   "source": [
    "nombre_infected       485\n",
    "nombre_sain          2520\n",
    "nombre_exposed        321\n",
    "nombre_recovered    16674\n",
    "Name: 221, dtype: int64"
   ]
  },
  {
   "cell_type": "markdown",
   "id": "45f87704",
   "metadata": {},
   "source": [
    "nombre_infected       493\n",
    "nombre_sain          2540\n",
    "nombre_exposed        336\n",
    "nombre_recovered    16631\n",
    "Name: 222, dtype: int64"
   ]
  },
  {
   "cell_type": "markdown",
   "id": "48f06e7f",
   "metadata": {},
   "source": [
    "nombre_infected       507\n",
    "nombre_sain          2525\n",
    "nombre_exposed        348\n",
    "nombre_recovered    16620\n",
    "Name: 223, dtype: int64"
   ]
  },
  {
   "cell_type": "markdown",
   "id": "a3355a90",
   "metadata": {},
   "source": [
    "nombre_infected       530\n",
    "nombre_sain          2528\n",
    "nombre_exposed        355\n",
    "nombre_recovered    16587\n",
    "Name: 224, dtype: int64"
   ]
  },
  {
   "cell_type": "markdown",
   "id": "4a96771e",
   "metadata": {},
   "source": [
    "nombre_infected       557\n",
    "nombre_sain          2555\n",
    "nombre_exposed        353\n",
    "nombre_recovered    16535\n",
    "Name: 225, dtype: int64"
   ]
  },
  {
   "cell_type": "markdown",
   "id": "a298cca3",
   "metadata": {},
   "source": [
    "nombre_infected       571\n",
    "nombre_sain          2556\n",
    "nombre_exposed        362\n",
    "nombre_recovered    16511\n",
    "Name: 226, dtype: int64"
   ]
  },
  {
   "cell_type": "markdown",
   "id": "59c15ac8",
   "metadata": {},
   "source": [
    "nombre_infected       565\n",
    "nombre_sain          2579\n",
    "nombre_exposed        372\n",
    "nombre_recovered    16484\n",
    "Name: 227, dtype: int64"
   ]
  },
  {
   "cell_type": "markdown",
   "id": "1603843f",
   "metadata": {},
   "source": [
    "nombre_infected       576\n",
    "nombre_sain          2580\n",
    "nombre_exposed        371\n",
    "nombre_recovered    16473\n",
    "Name: 228, dtype: int64"
   ]
  },
  {
   "cell_type": "markdown",
   "id": "2c162276",
   "metadata": {},
   "source": [
    "nombre_infected       587\n",
    "nombre_sain          2590\n",
    "nombre_exposed        380\n",
    "nombre_recovered    16443\n",
    "Name: 229, dtype: int64"
   ]
  },
  {
   "cell_type": "markdown",
   "id": "965d63f2",
   "metadata": {},
   "source": [
    "nombre_infected       598\n",
    "nombre_sain          2591\n",
    "nombre_exposed        415\n",
    "nombre_recovered    16396\n",
    "Name: 230, dtype: int64"
   ]
  },
  {
   "cell_type": "markdown",
   "id": "780c1b0b",
   "metadata": {},
   "source": [
    "nombre_infected       610\n",
    "nombre_sain          2591\n",
    "nombre_exposed        427\n",
    "nombre_recovered    16372\n",
    "Name: 231, dtype: int64"
   ]
  },
  {
   "cell_type": "markdown",
   "id": "e25bacfd",
   "metadata": {},
   "source": [
    "nombre_infected       637\n",
    "nombre_sain          2628\n",
    "nombre_exposed        426\n",
    "nombre_recovered    16309\n",
    "Name: 232, dtype: int64"
   ]
  },
  {
   "cell_type": "markdown",
   "id": "e4f25584",
   "metadata": {},
   "source": [
    "nombre_infected       650\n",
    "nombre_sain          2624\n",
    "nombre_exposed        438\n",
    "nombre_recovered    16288\n",
    "Name: 233, dtype: int64"
   ]
  },
  {
   "cell_type": "markdown",
   "id": "b4068516",
   "metadata": {},
   "source": [
    "nombre_infected       659\n",
    "nombre_sain          2631\n",
    "nombre_exposed        454\n",
    "nombre_recovered    16256\n",
    "Name: 234, dtype: int64"
   ]
  },
  {
   "cell_type": "markdown",
   "id": "1ab7121a",
   "metadata": {},
   "source": [
    "nombre_infected       660\n",
    "nombre_sain          2645\n",
    "nombre_exposed        450\n",
    "nombre_recovered    16245\n",
    "Name: 235, dtype: int64"
   ]
  },
  {
   "cell_type": "markdown",
   "id": "4d2d1690",
   "metadata": {},
   "source": [
    "nombre_infected       692\n",
    "nombre_sain          2631\n",
    "nombre_exposed        442\n",
    "nombre_recovered    16235\n",
    "Name: 236, dtype: int64"
   ]
  },
  {
   "cell_type": "markdown",
   "id": "bbb58627",
   "metadata": {},
   "source": [
    "nombre_infected       694\n",
    "nombre_sain          2664\n",
    "nombre_exposed        457\n",
    "nombre_recovered    16185\n",
    "Name: 237, dtype: int64"
   ]
  },
  {
   "cell_type": "markdown",
   "id": "987a62e4",
   "metadata": {},
   "source": [
    "nombre_infected       704\n",
    "nombre_sain          2656\n",
    "nombre_exposed        467\n",
    "nombre_recovered    16173\n",
    "Name: 238, dtype: int64"
   ]
  },
  {
   "cell_type": "markdown",
   "id": "7e9267bb",
   "metadata": {},
   "source": [
    "nombre_infected       717\n",
    "nombre_sain          2648\n",
    "nombre_exposed        509\n",
    "nombre_recovered    16126\n",
    "Name: 239, dtype: int64"
   ]
  },
  {
   "cell_type": "markdown",
   "id": "cfcd32d7",
   "metadata": {},
   "source": [
    "nombre_infected       739\n",
    "nombre_sain          2660\n",
    "nombre_exposed        501\n",
    "nombre_recovered    16100\n",
    "Name: 240, dtype: int64"
   ]
  },
  {
   "cell_type": "markdown",
   "id": "3a4b44ff",
   "metadata": {},
   "source": [
    "nombre_infected       751\n",
    "nombre_sain          2648\n",
    "nombre_exposed        505\n",
    "nombre_recovered    16096\n",
    "Name: 241, dtype: int64"
   ]
  },
  {
   "cell_type": "markdown",
   "id": "35d8fff6",
   "metadata": {},
   "source": [
    "nombre_infected       786\n",
    "nombre_sain          2648\n",
    "nombre_exposed        492\n",
    "nombre_recovered    16074\n",
    "Name: 242, dtype: int64"
   ]
  },
  {
   "cell_type": "markdown",
   "id": "75a9f930",
   "metadata": {},
   "source": [
    "nombre_infected       807\n",
    "nombre_sain          2659\n",
    "nombre_exposed        490\n",
    "nombre_recovered    16044\n",
    "Name: 243, dtype: int64"
   ]
  },
  {
   "cell_type": "markdown",
   "id": "2351c8cc",
   "metadata": {},
   "source": [
    "nombre_infected       838\n",
    "nombre_sain          2670\n",
    "nombre_exposed        468\n",
    "nombre_recovered    16024\n",
    "Name: 244, dtype: int64"
   ]
  },
  {
   "cell_type": "markdown",
   "id": "ac9c7d24",
   "metadata": {},
   "source": [
    "nombre_infected       837\n",
    "nombre_sain          2644\n",
    "nombre_exposed        493\n",
    "nombre_recovered    16026\n",
    "Name: 245, dtype: int64"
   ]
  },
  {
   "cell_type": "markdown",
   "id": "cb6d87ca",
   "metadata": {},
   "source": [
    "nombre_infected       824\n",
    "nombre_sain          2592\n",
    "nombre_exposed        544\n",
    "nombre_recovered    16040\n",
    "Name: 246, dtype: int64"
   ]
  },
  {
   "cell_type": "markdown",
   "id": "b95f494f",
   "metadata": {},
   "source": [
    "nombre_infected       839\n",
    "nombre_sain          2556\n",
    "nombre_exposed        552\n",
    "nombre_recovered    16053\n",
    "Name: 247, dtype: int64"
   ]
  },
  {
   "cell_type": "markdown",
   "id": "fad9a9ae",
   "metadata": {},
   "source": [
    "nombre_infected       852\n",
    "nombre_sain          2537\n",
    "nombre_exposed        568\n",
    "nombre_recovered    16043\n",
    "Name: 248, dtype: int64"
   ]
  },
  {
   "cell_type": "markdown",
   "id": "b0a7cfa7",
   "metadata": {},
   "source": [
    "nombre_infected       864\n",
    "nombre_sain          2483\n",
    "nombre_exposed        579\n",
    "nombre_recovered    16074\n",
    "Name: 249, dtype: int64"
   ]
  },
  {
   "cell_type": "markdown",
   "id": "983e87a9",
   "metadata": {},
   "source": [
    "nombre_infected       867\n",
    "nombre_sain          2451\n",
    "nombre_exposed        591\n",
    "nombre_recovered    16091\n",
    "Name: 250, dtype: int64"
   ]
  },
  {
   "cell_type": "markdown",
   "id": "0a924db8",
   "metadata": {},
   "source": [
    "nombre_infected       906\n",
    "nombre_sain          2388\n",
    "nombre_exposed        601\n",
    "nombre_recovered    16105\n",
    "Name: 251, dtype: int64"
   ]
  },
  {
   "cell_type": "markdown",
   "id": "1828c56d",
   "metadata": {},
   "source": [
    "nombre_infected       922\n",
    "nombre_sain          2349\n",
    "nombre_exposed        594\n",
    "nombre_recovered    16135\n",
    "Name: 252, dtype: int64"
   ]
  },
  {
   "cell_type": "markdown",
   "id": "f7f9e560",
   "metadata": {},
   "source": [
    "nombre_infected       929\n",
    "nombre_sain          2326\n",
    "nombre_exposed        615\n",
    "nombre_recovered    16130\n",
    "Name: 253, dtype: int64"
   ]
  },
  {
   "cell_type": "markdown",
   "id": "e488395e",
   "metadata": {},
   "source": [
    "nombre_infected       957\n",
    "nombre_sain          2305\n",
    "nombre_exposed        591\n",
    "nombre_recovered    16147\n",
    "Name: 254, dtype: int64"
   ]
  },
  {
   "cell_type": "markdown",
   "id": "11b5026e",
   "metadata": {},
   "source": [
    "nombre_infected       958\n",
    "nombre_sain          2280\n",
    "nombre_exposed        610\n",
    "nombre_recovered    16152\n",
    "Name: 255, dtype: int64"
   ]
  },
  {
   "cell_type": "markdown",
   "id": "c4f4026e",
   "metadata": {},
   "source": [
    "nombre_infected       971\n",
    "nombre_sain          2271\n",
    "nombre_exposed        587\n",
    "nombre_recovered    16171\n",
    "Name: 256, dtype: int64"
   ]
  },
  {
   "cell_type": "markdown",
   "id": "42aa87b0",
   "metadata": {},
   "source": [
    "nombre_infected       992\n",
    "nombre_sain          2260\n",
    "nombre_exposed        588\n",
    "nombre_recovered    16160\n",
    "Name: 257, dtype: int64"
   ]
  },
  {
   "cell_type": "markdown",
   "id": "ed981bcc",
   "metadata": {},
   "source": [
    "nombre_infected       989\n",
    "nombre_sain          2237\n",
    "nombre_exposed        586\n",
    "nombre_recovered    16188\n",
    "Name: 258, dtype: int64"
   ]
  },
  {
   "cell_type": "markdown",
   "id": "6107d2eb",
   "metadata": {},
   "source": [
    "nombre_infected       999\n",
    "nombre_sain          2234\n",
    "nombre_exposed        592\n",
    "nombre_recovered    16175\n",
    "Name: 259, dtype: int64"
   ]
  },
  {
   "cell_type": "markdown",
   "id": "0c4d6433",
   "metadata": {},
   "source": [
    "nombre_infected       985\n",
    "nombre_sain          2193\n",
    "nombre_exposed        599\n",
    "nombre_recovered    16223\n",
    "Name: 260, dtype: int64"
   ]
  },
  {
   "cell_type": "markdown",
   "id": "b432c995",
   "metadata": {},
   "source": [
    "nombre_infected      1017\n",
    "nombre_sain          2179\n",
    "nombre_exposed        585\n",
    "nombre_recovered    16219\n",
    "Name: 261, dtype: int64"
   ]
  },
  {
   "cell_type": "markdown",
   "id": "8a9cf31b",
   "metadata": {},
   "source": [
    "nombre_infected      1017\n",
    "nombre_sain          2149\n",
    "nombre_exposed        573\n",
    "nombre_recovered    16261\n",
    "Name: 262, dtype: int64"
   ]
  },
  {
   "cell_type": "markdown",
   "id": "fbc8fc98",
   "metadata": {},
   "source": [
    "nombre_infected      1011\n",
    "nombre_sain          2157\n",
    "nombre_exposed        578\n",
    "nombre_recovered    16254\n",
    "Name: 263, dtype: int64"
   ]
  },
  {
   "cell_type": "markdown",
   "id": "e256e223",
   "metadata": {},
   "source": [
    "nombre_infected      1019\n",
    "nombre_sain          2129\n",
    "nombre_exposed        575\n",
    "nombre_recovered    16277\n",
    "Name: 264, dtype: int64"
   ]
  },
  {
   "cell_type": "markdown",
   "id": "4a067d8c",
   "metadata": {},
   "source": [
    "nombre_infected      1020\n",
    "nombre_sain          2111\n",
    "nombre_exposed        592\n",
    "nombre_recovered    16277\n",
    "Name: 265, dtype: int64"
   ]
  },
  {
   "cell_type": "markdown",
   "id": "d3be7072",
   "metadata": {},
   "source": [
    "nombre_infected      1010\n",
    "nombre_sain          2099\n",
    "nombre_exposed        575\n",
    "nombre_recovered    16316\n",
    "Name: 266, dtype: int64"
   ]
  },
  {
   "cell_type": "markdown",
   "id": "5305bba0",
   "metadata": {},
   "source": [
    "nombre_infected      1006\n",
    "nombre_sain          2084\n",
    "nombre_exposed        579\n",
    "nombre_recovered    16331\n",
    "Name: 267, dtype: int64"
   ]
  },
  {
   "cell_type": "markdown",
   "id": "cd092f62",
   "metadata": {},
   "source": [
    "nombre_infected       999\n",
    "nombre_sain          2086\n",
    "nombre_exposed        568\n",
    "nombre_recovered    16347\n",
    "Name: 268, dtype: int64"
   ]
  },
  {
   "cell_type": "markdown",
   "id": "9c0eaf0a",
   "metadata": {},
   "source": [
    "nombre_infected      1017\n",
    "nombre_sain          2042\n",
    "nombre_exposed        560\n",
    "nombre_recovered    16381\n",
    "Name: 269, dtype: int64"
   ]
  },
  {
   "cell_type": "markdown",
   "id": "0a815c44",
   "metadata": {},
   "source": [
    "nombre_infected      1038\n",
    "nombre_sain          2018\n",
    "nombre_exposed        564\n",
    "nombre_recovered    16380\n",
    "Name: 270, dtype: int64"
   ]
  },
  {
   "cell_type": "markdown",
   "id": "cfb77b99",
   "metadata": {},
   "source": [
    "nombre_infected      1035\n",
    "nombre_sain          1971\n",
    "nombre_exposed        575\n",
    "nombre_recovered    16419\n",
    "Name: 271, dtype: int64"
   ]
  },
  {
   "cell_type": "markdown",
   "id": "913ba7f9",
   "metadata": {},
   "source": [
    "nombre_infected      1026\n",
    "nombre_sain          1934\n",
    "nombre_exposed        585\n",
    "nombre_recovered    16455\n",
    "Name: 272, dtype: int64"
   ]
  },
  {
   "cell_type": "markdown",
   "id": "53982fcd",
   "metadata": {},
   "source": [
    "nombre_infected      1036\n",
    "nombre_sain          1915\n",
    "nombre_exposed        576\n",
    "nombre_recovered    16473\n",
    "Name: 273, dtype: int64"
   ]
  },
  {
   "cell_type": "markdown",
   "id": "c554f731",
   "metadata": {},
   "source": [
    "nombre_infected      1014\n",
    "nombre_sain          1887\n",
    "nombre_exposed        578\n",
    "nombre_recovered    16521\n",
    "Name: 274, dtype: int64"
   ]
  },
  {
   "cell_type": "markdown",
   "id": "5a2817a5",
   "metadata": {},
   "source": [
    "nombre_infected      1015\n",
    "nombre_sain          1861\n",
    "nombre_exposed        566\n",
    "nombre_recovered    16558\n",
    "Name: 275, dtype: int64"
   ]
  },
  {
   "cell_type": "markdown",
   "id": "ff674231",
   "metadata": {},
   "source": [
    "nombre_infected      1024\n",
    "nombre_sain          1856\n",
    "nombre_exposed        549\n",
    "nombre_recovered    16571\n",
    "Name: 276, dtype: int64"
   ]
  },
  {
   "cell_type": "markdown",
   "id": "32089f49",
   "metadata": {},
   "source": [
    "nombre_infected      1028\n",
    "nombre_sain          1848\n",
    "nombre_exposed        518\n",
    "nombre_recovered    16606\n",
    "Name: 277, dtype: int64"
   ]
  },
  {
   "cell_type": "markdown",
   "id": "ae23a812",
   "metadata": {},
   "source": [
    "nombre_infected       990\n",
    "nombre_sain          1846\n",
    "nombre_exposed        521\n",
    "nombre_recovered    16643\n",
    "Name: 278, dtype: int64"
   ]
  },
  {
   "cell_type": "markdown",
   "id": "6add434e",
   "metadata": {},
   "source": [
    "nombre_infected       963\n",
    "nombre_sain          1855\n",
    "nombre_exposed        504\n",
    "nombre_recovered    16678\n",
    "Name: 279, dtype: int64"
   ]
  },
  {
   "cell_type": "markdown",
   "id": "e4cea15b",
   "metadata": {},
   "source": [
    "nombre_infected       951\n",
    "nombre_sain          1865\n",
    "nombre_exposed        482\n",
    "nombre_recovered    16702\n",
    "Name: 280, dtype: int64"
   ]
  },
  {
   "cell_type": "markdown",
   "id": "052b6513",
   "metadata": {},
   "source": [
    "nombre_infected       915\n",
    "nombre_sain          1875\n",
    "nombre_exposed        478\n",
    "nombre_recovered    16732\n",
    "Name: 281, dtype: int64"
   ]
  },
  {
   "cell_type": "markdown",
   "id": "c99e3538",
   "metadata": {},
   "source": [
    "nombre_infected       893\n",
    "nombre_sain          1855\n",
    "nombre_exposed        495\n",
    "nombre_recovered    16757\n",
    "Name: 282, dtype: int64"
   ]
  },
  {
   "cell_type": "markdown",
   "id": "eb1c77fa",
   "metadata": {},
   "source": [
    "nombre_infected       875\n",
    "nombre_sain          1841\n",
    "nombre_exposed        499\n",
    "nombre_recovered    16785\n",
    "Name: 283, dtype: int64"
   ]
  },
  {
   "cell_type": "markdown",
   "id": "137635cd",
   "metadata": {},
   "source": [
    "nombre_infected       880\n",
    "nombre_sain          1839\n",
    "nombre_exposed        491\n",
    "nombre_recovered    16790\n",
    "Name: 284, dtype: int64"
   ]
  },
  {
   "cell_type": "markdown",
   "id": "c3baa213",
   "metadata": {},
   "source": [
    "nombre_infected       873\n",
    "nombre_sain          1825\n",
    "nombre_exposed        491\n",
    "nombre_recovered    16811\n",
    "Name: 285, dtype: int64"
   ]
  },
  {
   "cell_type": "markdown",
   "id": "18e7326e",
   "metadata": {},
   "source": [
    "nombre_infected       878\n",
    "nombre_sain          1801\n",
    "nombre_exposed        501\n",
    "nombre_recovered    16820\n",
    "Name: 286, dtype: int64"
   ]
  },
  {
   "cell_type": "markdown",
   "id": "c36cf3b2",
   "metadata": {},
   "source": [
    "nombre_infected       863\n",
    "nombre_sain          1824\n",
    "nombre_exposed        475\n",
    "nombre_recovered    16838\n",
    "Name: 287, dtype: int64"
   ]
  },
  {
   "cell_type": "markdown",
   "id": "062106f0",
   "metadata": {},
   "source": [
    "nombre_infected       867\n",
    "nombre_sain          1839\n",
    "nombre_exposed        448\n",
    "nombre_recovered    16846\n",
    "Name: 288, dtype: int64"
   ]
  },
  {
   "cell_type": "markdown",
   "id": "d524ddee",
   "metadata": {},
   "source": [
    "nombre_infected       858\n",
    "nombre_sain          1826\n",
    "nombre_exposed        460\n",
    "nombre_recovered    16856\n",
    "Name: 289, dtype: int64"
   ]
  },
  {
   "cell_type": "markdown",
   "id": "a66c2124",
   "metadata": {},
   "source": [
    "nombre_infected       852\n",
    "nombre_sain          1847\n",
    "nombre_exposed        452\n",
    "nombre_recovered    16849\n",
    "Name: 290, dtype: int64"
   ]
  },
  {
   "cell_type": "markdown",
   "id": "2b5849a6",
   "metadata": {},
   "source": [
    "nombre_infected       855\n",
    "nombre_sain          1852\n",
    "nombre_exposed        434\n",
    "nombre_recovered    16859\n",
    "Name: 291, dtype: int64"
   ]
  },
  {
   "cell_type": "markdown",
   "id": "0598f0e0",
   "metadata": {},
   "source": [
    "nombre_infected       859\n",
    "nombre_sain          1850\n",
    "nombre_exposed        435\n",
    "nombre_recovered    16856\n",
    "Name: 292, dtype: int64"
   ]
  },
  {
   "cell_type": "markdown",
   "id": "14ff435d",
   "metadata": {},
   "source": [
    "nombre_infected       849\n",
    "nombre_sain          1871\n",
    "nombre_exposed        422\n",
    "nombre_recovered    16858\n",
    "Name: 293, dtype: int64"
   ]
  },
  {
   "cell_type": "markdown",
   "id": "9ca325e1",
   "metadata": {},
   "source": [
    "nombre_infected       860\n",
    "nombre_sain          1867\n",
    "nombre_exposed        412\n",
    "nombre_recovered    16861\n",
    "Name: 294, dtype: int64"
   ]
  },
  {
   "cell_type": "markdown",
   "id": "8afa9e5a",
   "metadata": {},
   "source": [
    "nombre_infected       873\n",
    "nombre_sain          1878\n",
    "nombre_exposed        397\n",
    "nombre_recovered    16852\n",
    "Name: 295, dtype: int64"
   ]
  },
  {
   "cell_type": "markdown",
   "id": "f05be216",
   "metadata": {},
   "source": [
    "nombre_infected       848\n",
    "nombre_sain          1880\n",
    "nombre_exposed        411\n",
    "nombre_recovered    16861\n",
    "Name: 296, dtype: int64"
   ]
  },
  {
   "cell_type": "markdown",
   "id": "f166ee83",
   "metadata": {},
   "source": [
    "nombre_infected       819\n",
    "nombre_sain          1879\n",
    "nombre_exposed        430\n",
    "nombre_recovered    16872\n",
    "Name: 297, dtype: int64"
   ]
  },
  {
   "cell_type": "markdown",
   "id": "aaccf441",
   "metadata": {},
   "source": [
    "nombre_infected       819\n",
    "nombre_sain          1914\n",
    "nombre_exposed        418\n",
    "nombre_recovered    16849\n",
    "Name: 298, dtype: int64"
   ]
  },
  {
   "cell_type": "markdown",
   "id": "8432eba3",
   "metadata": {},
   "source": [
    "nombre_infected       844\n",
    "nombre_sain          1937\n",
    "nombre_exposed        397\n",
    "nombre_recovered    16822\n",
    "Name: 299, dtype: int64"
   ]
  },
  {
   "cell_type": "markdown",
   "id": "196f7cc9",
   "metadata": {},
   "source": [
    "nombre_infected       842\n",
    "nombre_sain          1938\n",
    "nombre_exposed        422\n",
    "nombre_recovered    16798\n",
    "Name: 300, dtype: int64"
   ]
  },
  {
   "cell_type": "markdown",
   "id": "5a7cf454",
   "metadata": {},
   "source": [
    "nombre_infected       831\n",
    "nombre_sain          1985\n",
    "nombre_exposed        411\n",
    "nombre_recovered    16773\n",
    "Name: 301, dtype: int64"
   ]
  },
  {
   "cell_type": "markdown",
   "id": "3c851255",
   "metadata": {},
   "source": [
    "nombre_infected       860\n",
    "nombre_sain          1999\n",
    "nombre_exposed        392\n",
    "nombre_recovered    16749\n",
    "Name: 302, dtype: int64"
   ]
  },
  {
   "cell_type": "markdown",
   "id": "beeddf8e",
   "metadata": {},
   "source": [
    "nombre_infected       842\n",
    "nombre_sain          2015\n",
    "nombre_exposed        407\n",
    "nombre_recovered    16736\n",
    "Name: 303, dtype: int64"
   ]
  },
  {
   "cell_type": "markdown",
   "id": "189b9883",
   "metadata": {},
   "source": [
    "nombre_infected       835\n",
    "nombre_sain          2031\n",
    "nombre_exposed        423\n",
    "nombre_recovered    16711\n",
    "Name: 304, dtype: int64"
   ]
  },
  {
   "cell_type": "markdown",
   "id": "50379e7f",
   "metadata": {},
   "source": [
    "nombre_infected       820\n",
    "nombre_sain          2028\n",
    "nombre_exposed        445\n",
    "nombre_recovered    16707\n",
    "Name: 305, dtype: int64"
   ]
  },
  {
   "cell_type": "markdown",
   "id": "cfef9860",
   "metadata": {},
   "source": [
    "nombre_infected       828\n",
    "nombre_sain          2049\n",
    "nombre_exposed        447\n",
    "nombre_recovered    16676\n",
    "Name: 306, dtype: int64"
   ]
  },
  {
   "cell_type": "markdown",
   "id": "440af92a",
   "metadata": {},
   "source": [
    "nombre_infected       826\n",
    "nombre_sain          2075\n",
    "nombre_exposed        441\n",
    "nombre_recovered    16658\n",
    "Name: 307, dtype: int64"
   ]
  },
  {
   "cell_type": "markdown",
   "id": "ae4defc4",
   "metadata": {},
   "source": [
    "nombre_infected       835\n",
    "nombre_sain          2106\n",
    "nombre_exposed        430\n",
    "nombre_recovered    16629\n",
    "Name: 308, dtype: int64"
   ]
  },
  {
   "cell_type": "markdown",
   "id": "c3f0b8d9",
   "metadata": {},
   "source": [
    "nombre_infected       836\n",
    "nombre_sain          2127\n",
    "nombre_exposed        417\n",
    "nombre_recovered    16620\n",
    "Name: 309, dtype: int64"
   ]
  },
  {
   "cell_type": "markdown",
   "id": "eb04c77e",
   "metadata": {},
   "source": [
    "nombre_infected       830\n",
    "nombre_sain          2131\n",
    "nombre_exposed        436\n",
    "nombre_recovered    16603\n",
    "Name: 310, dtype: int64"
   ]
  },
  {
   "cell_type": "markdown",
   "id": "12024788",
   "metadata": {},
   "source": [
    "nombre_infected       822\n",
    "nombre_sain          2145\n",
    "nombre_exposed        445\n",
    "nombre_recovered    16588\n",
    "Name: 311, dtype: int64"
   ]
  },
  {
   "cell_type": "markdown",
   "id": "ff5833cd",
   "metadata": {},
   "source": [
    "nombre_infected       840\n",
    "nombre_sain          2146\n",
    "nombre_exposed        452\n",
    "nombre_recovered    16562\n",
    "Name: 312, dtype: int64"
   ]
  },
  {
   "cell_type": "markdown",
   "id": "977cbf7b",
   "metadata": {},
   "source": [
    "nombre_infected       835\n",
    "nombre_sain          2120\n",
    "nombre_exposed        497\n",
    "nombre_recovered    16548\n",
    "Name: 313, dtype: int64"
   ]
  },
  {
   "cell_type": "markdown",
   "id": "35708251",
   "metadata": {},
   "source": [
    "nombre_infected       855\n",
    "nombre_sain          2144\n",
    "nombre_exposed        473\n",
    "nombre_recovered    16528\n",
    "Name: 314, dtype: int64"
   ]
  },
  {
   "cell_type": "markdown",
   "id": "4696acfb",
   "metadata": {},
   "source": [
    "nombre_infected       877\n",
    "nombre_sain          2170\n",
    "nombre_exposed        455\n",
    "nombre_recovered    16498\n",
    "Name: 315, dtype: int64"
   ]
  },
  {
   "cell_type": "markdown",
   "id": "fd6a19d4",
   "metadata": {},
   "source": [
    "nombre_infected       903\n",
    "nombre_sain          2187\n",
    "nombre_exposed        456\n",
    "nombre_recovered    16454\n",
    "Name: 316, dtype: int64"
   ]
  },
  {
   "cell_type": "markdown",
   "id": "adedbadd",
   "metadata": {},
   "source": [
    "nombre_infected       898\n",
    "nombre_sain          2194\n",
    "nombre_exposed        445\n",
    "nombre_recovered    16463\n",
    "Name: 317, dtype: int64"
   ]
  },
  {
   "cell_type": "markdown",
   "id": "1a562767",
   "metadata": {},
   "source": [
    "nombre_infected       889\n",
    "nombre_sain          2189\n",
    "nombre_exposed        472\n",
    "nombre_recovered    16450\n",
    "Name: 318, dtype: int64"
   ]
  },
  {
   "cell_type": "markdown",
   "id": "ec935d96",
   "metadata": {},
   "source": [
    "nombre_infected       882\n",
    "nombre_sain          2209\n",
    "nombre_exposed        494\n",
    "nombre_recovered    16415\n",
    "Name: 319, dtype: int64"
   ]
  },
  {
   "cell_type": "markdown",
   "id": "4b230b65",
   "metadata": {},
   "source": [
    "nombre_infected       886\n",
    "nombre_sain          2199\n",
    "nombre_exposed        506\n",
    "nombre_recovered    16409\n",
    "Name: 320, dtype: int64"
   ]
  },
  {
   "cell_type": "markdown",
   "id": "48ca2066",
   "metadata": {},
   "source": [
    "nombre_infected       891\n",
    "nombre_sain          2200\n",
    "nombre_exposed        512\n",
    "nombre_recovered    16397\n",
    "Name: 321, dtype: int64"
   ]
  },
  {
   "cell_type": "markdown",
   "id": "3f01f943",
   "metadata": {},
   "source": [
    "nombre_infected       896\n",
    "nombre_sain          2152\n",
    "nombre_exposed        518\n",
    "nombre_recovered    16434\n",
    "Name: 322, dtype: int64"
   ]
  },
  {
   "cell_type": "markdown",
   "id": "7de7fd5e",
   "metadata": {},
   "source": [
    "nombre_infected       897\n",
    "nombre_sain          2144\n",
    "nombre_exposed        507\n",
    "nombre_recovered    16452\n",
    "Name: 323, dtype: int64"
   ]
  },
  {
   "cell_type": "markdown",
   "id": "335947a5",
   "metadata": {},
   "source": [
    "nombre_infected       880\n",
    "nombre_sain          2114\n",
    "nombre_exposed        512\n",
    "nombre_recovered    16494\n",
    "Name: 324, dtype: int64"
   ]
  },
  {
   "cell_type": "markdown",
   "id": "bf2bf86f",
   "metadata": {},
   "source": [
    "nombre_infected       912\n",
    "nombre_sain          2072\n",
    "nombre_exposed        500\n",
    "nombre_recovered    16516\n",
    "Name: 325, dtype: int64"
   ]
  },
  {
   "cell_type": "markdown",
   "id": "e7d7c9d0",
   "metadata": {},
   "source": [
    "nombre_infected       915\n",
    "nombre_sain          2057\n",
    "nombre_exposed        493\n",
    "nombre_recovered    16535\n",
    "Name: 326, dtype: int64"
   ]
  },
  {
   "cell_type": "markdown",
   "id": "d6f238bc",
   "metadata": {},
   "source": [
    "nombre_infected       909\n",
    "nombre_sain          2041\n",
    "nombre_exposed        484\n",
    "nombre_recovered    16566\n",
    "Name: 327, dtype: int64"
   ]
  },
  {
   "cell_type": "markdown",
   "id": "d2273c7c",
   "metadata": {},
   "source": [
    "nombre_infected       930\n",
    "nombre_sain          2005\n",
    "nombre_exposed        489\n",
    "nombre_recovered    16576\n",
    "Name: 328, dtype: int64"
   ]
  },
  {
   "cell_type": "markdown",
   "id": "3c767320",
   "metadata": {},
   "source": [
    "nombre_infected       923\n",
    "nombre_sain          1963\n",
    "nombre_exposed        504\n",
    "nombre_recovered    16610\n",
    "Name: 329, dtype: int64"
   ]
  },
  {
   "cell_type": "markdown",
   "id": "bb9f63cd",
   "metadata": {},
   "source": [
    "nombre_infected       919\n",
    "nombre_sain          1960\n",
    "nombre_exposed        487\n",
    "nombre_recovered    16634\n",
    "Name: 330, dtype: int64"
   ]
  },
  {
   "cell_type": "markdown",
   "id": "ef5cca7e",
   "metadata": {},
   "source": [
    "nombre_infected       912\n",
    "nombre_sain          1954\n",
    "nombre_exposed        481\n",
    "nombre_recovered    16653\n",
    "Name: 331, dtype: int64"
   ]
  },
  {
   "cell_type": "markdown",
   "id": "f129cbb1",
   "metadata": {},
   "source": [
    "nombre_infected       892\n",
    "nombre_sain          1924\n",
    "nombre_exposed        476\n",
    "nombre_recovered    16708\n",
    "Name: 332, dtype: int64"
   ]
  },
  {
   "cell_type": "markdown",
   "id": "fb298f65",
   "metadata": {},
   "source": [
    "nombre_infected       893\n",
    "nombre_sain          1923\n",
    "nombre_exposed        455\n",
    "nombre_recovered    16729\n",
    "Name: 333, dtype: int64"
   ]
  },
  {
   "cell_type": "markdown",
   "id": "c5deacc9",
   "metadata": {},
   "source": [
    "nombre_infected       919\n",
    "nombre_sain          1884\n",
    "nombre_exposed        452\n",
    "nombre_recovered    16745\n",
    "Name: 334, dtype: int64"
   ]
  },
  {
   "cell_type": "markdown",
   "id": "25ce99d9",
   "metadata": {},
   "source": [
    "nombre_infected       908\n",
    "nombre_sain          1863\n",
    "nombre_exposed        459\n",
    "nombre_recovered    16770\n",
    "Name: 335, dtype: int64"
   ]
  },
  {
   "cell_type": "markdown",
   "id": "84469750",
   "metadata": {},
   "source": [
    "nombre_infected       889\n",
    "nombre_sain          1831\n",
    "nombre_exposed        455\n",
    "nombre_recovered    16825\n",
    "Name: 336, dtype: int64"
   ]
  },
  {
   "cell_type": "markdown",
   "id": "233d1c52",
   "metadata": {},
   "source": [
    "nombre_infected       877\n",
    "nombre_sain          1832\n",
    "nombre_exposed        440\n",
    "nombre_recovered    16851\n",
    "Name: 337, dtype: int64"
   ]
  },
  {
   "cell_type": "markdown",
   "id": "ab0ea10f",
   "metadata": {},
   "source": [
    "nombre_infected       838\n",
    "nombre_sain          1849\n",
    "nombre_exposed        435\n",
    "nombre_recovered    16878\n",
    "Name: 338, dtype: int64"
   ]
  },
  {
   "cell_type": "markdown",
   "id": "28b9c4e5",
   "metadata": {},
   "source": [
    "nombre_infected       815\n",
    "nombre_sain          1840\n",
    "nombre_exposed        436\n",
    "nombre_recovered    16909\n",
    "Name: 339, dtype: int64"
   ]
  },
  {
   "cell_type": "markdown",
   "id": "51e94bb2",
   "metadata": {},
   "source": [
    "nombre_infected       823\n",
    "nombre_sain          1830\n",
    "nombre_exposed        415\n",
    "nombre_recovered    16932\n",
    "Name: 340, dtype: int64"
   ]
  },
  {
   "cell_type": "markdown",
   "id": "7018c78e",
   "metadata": {},
   "source": [
    "nombre_infected       812\n",
    "nombre_sain          1836\n",
    "nombre_exposed        401\n",
    "nombre_recovered    16951\n",
    "Name: 341, dtype: int64"
   ]
  },
  {
   "cell_type": "markdown",
   "id": "07ff7e14",
   "metadata": {},
   "source": [
    "nombre_infected       794\n",
    "nombre_sain          1831\n",
    "nombre_exposed        405\n",
    "nombre_recovered    16970\n",
    "Name: 342, dtype: int64"
   ]
  },
  {
   "cell_type": "markdown",
   "id": "00143ccf",
   "metadata": {},
   "source": [
    "nombre_infected       772\n",
    "nombre_sain          1823\n",
    "nombre_exposed        409\n",
    "nombre_recovered    16996\n",
    "Name: 343, dtype: int64"
   ]
  },
  {
   "cell_type": "markdown",
   "id": "757800af",
   "metadata": {},
   "source": [
    "nombre_infected       764\n",
    "nombre_sain          1846\n",
    "nombre_exposed        402\n",
    "nombre_recovered    16988\n",
    "Name: 344, dtype: int64"
   ]
  },
  {
   "cell_type": "markdown",
   "id": "53b6aadb",
   "metadata": {},
   "source": [
    "nombre_infected       753\n",
    "nombre_sain          1849\n",
    "nombre_exposed        412\n",
    "nombre_recovered    16986\n",
    "Name: 345, dtype: int64"
   ]
  },
  {
   "cell_type": "markdown",
   "id": "56fd34ad",
   "metadata": {},
   "source": [
    "nombre_infected       750\n",
    "nombre_sain          1859\n",
    "nombre_exposed        390\n",
    "nombre_recovered    17001\n",
    "Name: 346, dtype: int64"
   ]
  },
  {
   "cell_type": "markdown",
   "id": "b583afbe",
   "metadata": {},
   "source": [
    "nombre_infected       736\n",
    "nombre_sain          1880\n",
    "nombre_exposed        376\n",
    "nombre_recovered    17008\n",
    "Name: 347, dtype: int64"
   ]
  },
  {
   "cell_type": "markdown",
   "id": "27a4ff8e",
   "metadata": {},
   "source": [
    "nombre_infected       757\n",
    "nombre_sain          1906\n",
    "nombre_exposed        343\n",
    "nombre_recovered    16994\n",
    "Name: 348, dtype: int64"
   ]
  },
  {
   "cell_type": "markdown",
   "id": "128d0a4b",
   "metadata": {},
   "source": [
    "nombre_infected       745\n",
    "nombre_sain          1924\n",
    "nombre_exposed        341\n",
    "nombre_recovered    16990\n",
    "Name: 349, dtype: int64"
   ]
  },
  {
   "cell_type": "markdown",
   "id": "0a35f438",
   "metadata": {},
   "source": [
    "nombre_infected       710\n",
    "nombre_sain          1935\n",
    "nombre_exposed        351\n",
    "nombre_recovered    17004\n",
    "Name: 350, dtype: int64"
   ]
  },
  {
   "cell_type": "markdown",
   "id": "51a6bf44",
   "metadata": {},
   "source": [
    "nombre_infected       667\n",
    "nombre_sain          1955\n",
    "nombre_exposed        343\n",
    "nombre_recovered    17035\n",
    "Name: 351, dtype: int64"
   ]
  },
  {
   "cell_type": "markdown",
   "id": "1e5e980e",
   "metadata": {},
   "source": [
    "nombre_infected       653\n",
    "nombre_sain          1966\n",
    "nombre_exposed        362\n",
    "nombre_recovered    17019\n",
    "Name: 352, dtype: int64"
   ]
  },
  {
   "cell_type": "markdown",
   "id": "bf1901b8",
   "metadata": {},
   "source": [
    "nombre_infected       651\n",
    "nombre_sain          1985\n",
    "nombre_exposed        359\n",
    "nombre_recovered    17005\n",
    "Name: 353, dtype: int64"
   ]
  },
  {
   "cell_type": "markdown",
   "id": "71d12a0d",
   "metadata": {},
   "source": [
    "nombre_infected       661\n",
    "nombre_sain          2016\n",
    "nombre_exposed        351\n",
    "nombre_recovered    16972\n",
    "Name: 354, dtype: int64"
   ]
  },
  {
   "cell_type": "markdown",
   "id": "d0f5eecb",
   "metadata": {},
   "source": [
    "nombre_infected       651\n",
    "nombre_sain          2011\n",
    "nombre_exposed        379\n",
    "nombre_recovered    16959\n",
    "Name: 355, dtype: int64"
   ]
  },
  {
   "cell_type": "markdown",
   "id": "27fae8d6",
   "metadata": {},
   "source": [
    "nombre_infected       645\n",
    "nombre_sain          2026\n",
    "nombre_exposed        377\n",
    "nombre_recovered    16952\n",
    "Name: 356, dtype: int64"
   ]
  },
  {
   "cell_type": "markdown",
   "id": "0b6ff52b",
   "metadata": {},
   "source": [
    "nombre_infected       646\n",
    "nombre_sain          2029\n",
    "nombre_exposed        386\n",
    "nombre_recovered    16939\n",
    "Name: 357, dtype: int64"
   ]
  },
  {
   "cell_type": "markdown",
   "id": "7ec97130",
   "metadata": {},
   "source": [
    "nombre_infected       638\n",
    "nombre_sain          2060\n",
    "nombre_exposed        374\n",
    "nombre_recovered    16928\n",
    "Name: 358, dtype: int64"
   ]
  },
  {
   "cell_type": "markdown",
   "id": "055d0b9f",
   "metadata": {},
   "source": [
    "nombre_infected       645\n",
    "nombre_sain          2086\n",
    "nombre_exposed        360\n",
    "nombre_recovered    16909\n",
    "Name: 359, dtype: int64"
   ]
  },
  {
   "cell_type": "markdown",
   "id": "44171234",
   "metadata": {},
   "source": [
    "nombre_infected       668\n",
    "nombre_sain          2115\n",
    "nombre_exposed        338\n",
    "nombre_recovered    16879\n",
    "Name: 360, dtype: int64"
   ]
  },
  {
   "cell_type": "markdown",
   "id": "2497979a",
   "metadata": {},
   "source": [
    "nombre_infected       666\n",
    "nombre_sain          2126\n",
    "nombre_exposed        349\n",
    "nombre_recovered    16859\n",
    "Name: 361, dtype: int64"
   ]
  },
  {
   "cell_type": "markdown",
   "id": "fb644df0",
   "metadata": {},
   "source": [
    "nombre_infected       656\n",
    "nombre_sain          2155\n",
    "nombre_exposed        352\n",
    "nombre_recovered    16837\n",
    "Name: 362, dtype: int64"
   ]
  },
  {
   "cell_type": "markdown",
   "id": "3e3c23c0",
   "metadata": {},
   "source": [
    "nombre_infected       665\n",
    "nombre_sain          2172\n",
    "nombre_exposed        348\n",
    "nombre_recovered    16815\n",
    "Name: 363, dtype: int64"
   ]
  },
  {
   "cell_type": "markdown",
   "id": "f5957f58",
   "metadata": {},
   "source": [
    "nombre_infected       669\n",
    "nombre_sain          2188\n",
    "nombre_exposed        351\n",
    "nombre_recovered    16792\n",
    "Name: 364, dtype: int64"
   ]
  },
  {
   "cell_type": "markdown",
   "id": "1251bead",
   "metadata": {},
   "source": [
    "nombre_infected       686\n",
    "nombre_sain          2225\n",
    "nombre_exposed        337\n",
    "nombre_recovered    16752\n",
    "Name: 365, dtype: int64"
   ]
  },
  {
   "cell_type": "markdown",
   "id": "2f92229e",
   "metadata": {},
   "source": [
    "nombre_infected       689\n",
    "nombre_sain          2246\n",
    "nombre_exposed        343\n",
    "nombre_recovered    16722\n",
    "Name: 366, dtype: int64"
   ]
  },
  {
   "cell_type": "markdown",
   "id": "67a171ad",
   "metadata": {},
   "source": [
    "nombre_infected       670\n",
    "nombre_sain          2233\n",
    "nombre_exposed        372\n",
    "nombre_recovered    16725\n",
    "Name: 367, dtype: int64"
   ]
  },
  {
   "cell_type": "markdown",
   "id": "414922cf",
   "metadata": {},
   "source": [
    "nombre_infected       678\n",
    "nombre_sain          2249\n",
    "nombre_exposed        374\n",
    "nombre_recovered    16699\n",
    "Name: 368, dtype: int64"
   ]
  },
  {
   "cell_type": "markdown",
   "id": "aa5e2c37",
   "metadata": {},
   "source": [
    "nombre_infected       685\n",
    "nombre_sain          2257\n",
    "nombre_exposed        384\n",
    "nombre_recovered    16674\n",
    "Name: 369, dtype: int64"
   ]
  },
  {
   "cell_type": "markdown",
   "id": "1569d702",
   "metadata": {},
   "source": [
    "nombre_infected       689\n",
    "nombre_sain          2275\n",
    "nombre_exposed        391\n",
    "nombre_recovered    16645\n",
    "Name: 370, dtype: int64"
   ]
  },
  {
   "cell_type": "markdown",
   "id": "e5f997ae",
   "metadata": {},
   "source": [
    "nombre_infected       696\n",
    "nombre_sain          2257\n",
    "nombre_exposed        397\n",
    "nombre_recovered    16650\n",
    "Name: 371, dtype: int64"
   ]
  },
  {
   "cell_type": "markdown",
   "id": "7bd68b6a",
   "metadata": {},
   "source": [
    "nombre_infected       707\n",
    "nombre_sain          2250\n",
    "nombre_exposed        416\n",
    "nombre_recovered    16627\n",
    "Name: 372, dtype: int64"
   ]
  },
  {
   "cell_type": "markdown",
   "id": "f2475235",
   "metadata": {},
   "source": [
    "nombre_infected       714\n",
    "nombre_sain          2244\n",
    "nombre_exposed        416\n",
    "nombre_recovered    16626\n",
    "Name: 373, dtype: int64"
   ]
  },
  {
   "cell_type": "markdown",
   "id": "4172fd64",
   "metadata": {},
   "source": [
    "nombre_infected       712\n",
    "nombre_sain          2231\n",
    "nombre_exposed        434\n",
    "nombre_recovered    16623\n",
    "Name: 374, dtype: int64"
   ]
  },
  {
   "cell_type": "markdown",
   "id": "391ea515",
   "metadata": {},
   "source": [
    "nombre_infected       724\n",
    "nombre_sain          2229\n",
    "nombre_exposed        439\n",
    "nombre_recovered    16608\n",
    "Name: 375, dtype: int64"
   ]
  },
  {
   "cell_type": "markdown",
   "id": "ffb50e30",
   "metadata": {},
   "source": [
    "nombre_infected       757\n",
    "nombre_sain          2236\n",
    "nombre_exposed        426\n",
    "nombre_recovered    16581\n",
    "Name: 376, dtype: int64"
   ]
  },
  {
   "cell_type": "markdown",
   "id": "14bc5357",
   "metadata": {},
   "source": [
    "nombre_infected       767\n",
    "nombre_sain          2229\n",
    "nombre_exposed        418\n",
    "nombre_recovered    16586\n",
    "Name: 377, dtype: int64"
   ]
  },
  {
   "cell_type": "markdown",
   "id": "32172fa8",
   "metadata": {},
   "source": [
    "nombre_infected       760\n",
    "nombre_sain          2234\n",
    "nombre_exposed        412\n",
    "nombre_recovered    16594\n",
    "Name: 378, dtype: int64"
   ]
  },
  {
   "cell_type": "markdown",
   "id": "6fc26f4f",
   "metadata": {},
   "source": [
    "nombre_infected       769\n",
    "nombre_sain          2227\n",
    "nombre_exposed        404\n",
    "nombre_recovered    16600\n",
    "Name: 379, dtype: int64"
   ]
  },
  {
   "cell_type": "markdown",
   "id": "d289bac7",
   "metadata": {},
   "source": [
    "nombre_infected       781\n",
    "nombre_sain          2231\n",
    "nombre_exposed        401\n",
    "nombre_recovered    16587\n",
    "Name: 380, dtype: int64"
   ]
  },
  {
   "cell_type": "markdown",
   "id": "6daa8508",
   "metadata": {},
   "source": [
    "nombre_infected       757\n",
    "nombre_sain          2215\n",
    "nombre_exposed        438\n",
    "nombre_recovered    16590\n",
    "Name: 381, dtype: int64"
   ]
  },
  {
   "cell_type": "markdown",
   "id": "3c8f5986",
   "metadata": {},
   "source": [
    "nombre_infected       750\n",
    "nombre_sain          2210\n",
    "nombre_exposed        447\n",
    "nombre_recovered    16593\n",
    "Name: 382, dtype: int64"
   ]
  },
  {
   "cell_type": "markdown",
   "id": "412bfaaf",
   "metadata": {},
   "source": [
    "nombre_infected       761\n",
    "nombre_sain          2214\n",
    "nombre_exposed        448\n",
    "nombre_recovered    16577\n",
    "Name: 383, dtype: int64"
   ]
  },
  {
   "cell_type": "markdown",
   "id": "0bd04e2e",
   "metadata": {},
   "source": [
    "nombre_infected       780\n",
    "nombre_sain          2212\n",
    "nombre_exposed        440\n",
    "nombre_recovered    16568\n",
    "Name: 384, dtype: int64"
   ]
  },
  {
   "cell_type": "markdown",
   "id": "67fe0561",
   "metadata": {},
   "source": [
    "nombre_infected       784\n",
    "nombre_sain          2196\n",
    "nombre_exposed        444\n",
    "nombre_recovered    16576\n",
    "Name: 385, dtype: int64"
   ]
  },
  {
   "cell_type": "markdown",
   "id": "f0c1b5e6",
   "metadata": {},
   "source": [
    "nombre_infected       789\n",
    "nombre_sain          2199\n",
    "nombre_exposed        441\n",
    "nombre_recovered    16571\n",
    "Name: 386, dtype: int64"
   ]
  },
  {
   "cell_type": "markdown",
   "id": "1dbe21ab",
   "metadata": {},
   "source": [
    "nombre_infected       779\n",
    "nombre_sain          2185\n",
    "nombre_exposed        453\n",
    "nombre_recovered    16583\n",
    "Name: 387, dtype: int64"
   ]
  },
  {
   "cell_type": "markdown",
   "id": "85968bf7",
   "metadata": {},
   "source": [
    "nombre_infected       770\n",
    "nombre_sain          2195\n",
    "nombre_exposed        453\n",
    "nombre_recovered    16582\n",
    "Name: 388, dtype: int64"
   ]
  },
  {
   "cell_type": "markdown",
   "id": "1c9db49c",
   "metadata": {},
   "source": [
    "nombre_infected       791\n",
    "nombre_sain          2188\n",
    "nombre_exposed        450\n",
    "nombre_recovered    16571\n",
    "Name: 389, dtype: int64"
   ]
  },
  {
   "cell_type": "markdown",
   "id": "1a31e78b",
   "metadata": {},
   "source": [
    "nombre_infected       826\n",
    "nombre_sain          2216\n",
    "nombre_exposed        433\n",
    "nombre_recovered    16525\n",
    "Name: 390, dtype: int64"
   ]
  },
  {
   "cell_type": "markdown",
   "id": "cacb2f7d",
   "metadata": {},
   "source": [
    "nombre_infected       812\n",
    "nombre_sain          2223\n",
    "nombre_exposed        438\n",
    "nombre_recovered    16527\n",
    "Name: 391, dtype: int64"
   ]
  },
  {
   "cell_type": "markdown",
   "id": "67be318b",
   "metadata": {},
   "source": [
    "nombre_infected       825\n",
    "nombre_sain          2225\n",
    "nombre_exposed        446\n",
    "nombre_recovered    16504\n",
    "Name: 392, dtype: int64"
   ]
  },
  {
   "cell_type": "markdown",
   "id": "ba212c71",
   "metadata": {},
   "source": [
    "nombre_infected       847\n",
    "nombre_sain          2220\n",
    "nombre_exposed        453\n",
    "nombre_recovered    16480\n",
    "Name: 393, dtype: int64"
   ]
  },
  {
   "cell_type": "markdown",
   "id": "48555f99",
   "metadata": {},
   "source": [
    "nombre_infected       825\n",
    "nombre_sain          2229\n",
    "nombre_exposed        469\n",
    "nombre_recovered    16477\n",
    "Name: 394, dtype: int64"
   ]
  },
  {
   "cell_type": "markdown",
   "id": "5c37f75f",
   "metadata": {},
   "source": [
    "nombre_infected       825\n",
    "nombre_sain          2246\n",
    "nombre_exposed        449\n",
    "nombre_recovered    16480\n",
    "Name: 395, dtype: int64"
   ]
  },
  {
   "cell_type": "markdown",
   "id": "69492f74",
   "metadata": {},
   "source": [
    "nombre_infected       836\n",
    "nombre_sain          2263\n",
    "nombre_exposed        444\n",
    "nombre_recovered    16457\n",
    "Name: 396, dtype: int64"
   ]
  },
  {
   "cell_type": "markdown",
   "id": "acec255b",
   "metadata": {},
   "source": [
    "nombre_infected       846\n",
    "nombre_sain          2275\n",
    "nombre_exposed        457\n",
    "nombre_recovered    16422\n",
    "Name: 397, dtype: int64"
   ]
  },
  {
   "cell_type": "markdown",
   "id": "24a28d75",
   "metadata": {},
   "source": [
    "nombre_infected       858\n",
    "nombre_sain          2266\n",
    "nombre_exposed        444\n",
    "nombre_recovered    16432\n",
    "Name: 398, dtype: int64"
   ]
  },
  {
   "cell_type": "markdown",
   "id": "839d348e",
   "metadata": {},
   "source": [
    "nombre_infected       859\n",
    "nombre_sain          2278\n",
    "nombre_exposed        465\n",
    "nombre_recovered    16398\n",
    "Name: 399, dtype: int64"
   ]
  },
  {
   "cell_type": "markdown",
   "id": "4874abe7",
   "metadata": {},
   "source": [
    "nombre_infected       867\n",
    "nombre_sain          2280\n",
    "nombre_exposed        475\n",
    "nombre_recovered    16378\n",
    "Name: 400, dtype: int64"
   ]
  },
  {
   "cell_type": "markdown",
   "id": "db213093",
   "metadata": {},
   "source": [
    "nombre_infected       890\n",
    "nombre_sain          2267\n",
    "nombre_exposed        487\n",
    "nombre_recovered    16356\n",
    "Name: 401, dtype: int64"
   ]
  },
  {
   "cell_type": "markdown",
   "id": "b0f13fbd",
   "metadata": {},
   "source": [
    "nombre_infected       902\n",
    "nombre_sain          2249\n",
    "nombre_exposed        488\n",
    "nombre_recovered    16361\n",
    "Name: 402, dtype: int64"
   ]
  },
  {
   "cell_type": "markdown",
   "id": "79942de1",
   "metadata": {},
   "source": [
    "nombre_infected       889\n",
    "nombre_sain          2216\n",
    "nombre_exposed        528\n",
    "nombre_recovered    16367\n",
    "Name: 403, dtype: int64"
   ]
  },
  {
   "cell_type": "markdown",
   "id": "1a403000",
   "metadata": {},
   "source": [
    "nombre_infected       889\n",
    "nombre_sain          2222\n",
    "nombre_exposed        522\n",
    "nombre_recovered    16367\n",
    "Name: 404, dtype: int64"
   ]
  },
  {
   "cell_type": "markdown",
   "id": "ffc2f35b",
   "metadata": {},
   "source": [
    "nombre_infected       896\n",
    "nombre_sain          2205\n",
    "nombre_exposed        527\n",
    "nombre_recovered    16372\n",
    "Name: 405, dtype: int64"
   ]
  },
  {
   "cell_type": "markdown",
   "id": "8da1bc64",
   "metadata": {},
   "source": [
    "nombre_infected       920\n",
    "nombre_sain          2200\n",
    "nombre_exposed        519\n",
    "nombre_recovered    16361\n",
    "Name: 406, dtype: int64"
   ]
  },
  {
   "cell_type": "markdown",
   "id": "f0f2540c",
   "metadata": {},
   "source": [
    "nombre_infected       946\n",
    "nombre_sain          2175\n",
    "nombre_exposed        511\n",
    "nombre_recovered    16368\n",
    "Name: 407, dtype: int64"
   ]
  },
  {
   "cell_type": "markdown",
   "id": "b6733ca9",
   "metadata": {},
   "source": [
    "nombre_infected       950\n",
    "nombre_sain          2144\n",
    "nombre_exposed        530\n",
    "nombre_recovered    16376\n",
    "Name: 408, dtype: int64"
   ]
  },
  {
   "cell_type": "markdown",
   "id": "24666ed4",
   "metadata": {},
   "source": [
    "nombre_infected       974\n",
    "nombre_sain          2101\n",
    "nombre_exposed        549\n",
    "nombre_recovered    16376\n",
    "Name: 409, dtype: int64"
   ]
  },
  {
   "cell_type": "markdown",
   "id": "386d9905",
   "metadata": {},
   "source": [
    "nombre_infected       990\n",
    "nombre_sain          2098\n",
    "nombre_exposed        533\n",
    "nombre_recovered    16379\n",
    "Name: 410, dtype: int64"
   ]
  },
  {
   "cell_type": "markdown",
   "id": "9958f344",
   "metadata": {},
   "source": [
    "nombre_infected      1001\n",
    "nombre_sain          2077\n",
    "nombre_exposed        524\n",
    "nombre_recovered    16398\n",
    "Name: 411, dtype: int64"
   ]
  },
  {
   "cell_type": "markdown",
   "id": "03d34103",
   "metadata": {},
   "source": [
    "nombre_infected       994\n",
    "nombre_sain          2056\n",
    "nombre_exposed        529\n",
    "nombre_recovered    16421\n",
    "Name: 412, dtype: int64"
   ]
  },
  {
   "cell_type": "markdown",
   "id": "faf80b08",
   "metadata": {},
   "source": [
    "nombre_infected       988\n",
    "nombre_sain          2022\n",
    "nombre_exposed        546\n",
    "nombre_recovered    16444\n",
    "Name: 413, dtype: int64"
   ]
  },
  {
   "cell_type": "markdown",
   "id": "969a0e55",
   "metadata": {},
   "source": [
    "nombre_infected       967\n",
    "nombre_sain          1999\n",
    "nombre_exposed        560\n",
    "nombre_recovered    16474\n",
    "Name: 414, dtype: int64"
   ]
  },
  {
   "cell_type": "markdown",
   "id": "2437ec6e",
   "metadata": {},
   "source": [
    "nombre_infected       950\n",
    "nombre_sain          1997\n",
    "nombre_exposed        571\n",
    "nombre_recovered    16482\n",
    "Name: 415, dtype: int64"
   ]
  },
  {
   "cell_type": "markdown",
   "id": "9583ea4e",
   "metadata": {},
   "source": [
    "nombre_infected       984\n",
    "nombre_sain          1973\n",
    "nombre_exposed        540\n",
    "nombre_recovered    16503\n",
    "Name: 416, dtype: int64"
   ]
  },
  {
   "cell_type": "markdown",
   "id": "37744d0f",
   "metadata": {},
   "source": [
    "nombre_infected       996\n",
    "nombre_sain          1943\n",
    "nombre_exposed        537\n",
    "nombre_recovered    16524\n",
    "Name: 417, dtype: int64"
   ]
  },
  {
   "cell_type": "markdown",
   "id": "5de18f2e",
   "metadata": {},
   "source": [
    "nombre_infected       993\n",
    "nombre_sain          1936\n",
    "nombre_exposed        529\n",
    "nombre_recovered    16542\n",
    "Name: 418, dtype: int64"
   ]
  },
  {
   "cell_type": "markdown",
   "id": "bc71fc38",
   "metadata": {},
   "source": [
    "nombre_infected       996\n",
    "nombre_sain          1883\n",
    "nombre_exposed        527\n",
    "nombre_recovered    16594\n",
    "Name: 419, dtype: int64"
   ]
  },
  {
   "cell_type": "markdown",
   "id": "a4db641c",
   "metadata": {},
   "source": [
    "nombre_infected       973\n",
    "nombre_sain          1855\n",
    "nombre_exposed        540\n",
    "nombre_recovered    16632\n",
    "Name: 420, dtype: int64"
   ]
  },
  {
   "cell_type": "markdown",
   "id": "26aa7bcd",
   "metadata": {},
   "source": [
    "nombre_infected       979\n",
    "nombre_sain          1851\n",
    "nombre_exposed        510\n",
    "nombre_recovered    16660\n",
    "Name: 421, dtype: int64"
   ]
  },
  {
   "cell_type": "markdown",
   "id": "801ff556",
   "metadata": {},
   "source": [
    "nombre_infected       982\n",
    "nombre_sain          1830\n",
    "nombre_exposed        493\n",
    "nombre_recovered    16695\n",
    "Name: 422, dtype: int64"
   ]
  },
  {
   "cell_type": "markdown",
   "id": "af9dcd21",
   "metadata": {},
   "source": [
    "nombre_infected       946\n",
    "nombre_sain          1829\n",
    "nombre_exposed        494\n",
    "nombre_recovered    16731\n",
    "Name: 423, dtype: int64"
   ]
  },
  {
   "cell_type": "markdown",
   "id": "cdc96460",
   "metadata": {},
   "source": [
    "nombre_infected       935\n",
    "nombre_sain          1840\n",
    "nombre_exposed        472\n",
    "nombre_recovered    16753\n",
    "Name: 424, dtype: int64"
   ]
  },
  {
   "cell_type": "markdown",
   "id": "ff6f481a",
   "metadata": {},
   "source": [
    "nombre_infected       926\n",
    "nombre_sain          1817\n",
    "nombre_exposed        471\n",
    "nombre_recovered    16786\n",
    "Name: 425, dtype: int64"
   ]
  },
  {
   "cell_type": "markdown",
   "id": "c1858586",
   "metadata": {},
   "source": [
    "nombre_infected       896\n",
    "nombre_sain          1828\n",
    "nombre_exposed        464\n",
    "nombre_recovered    16812\n",
    "Name: 426, dtype: int64"
   ]
  },
  {
   "cell_type": "markdown",
   "id": "cd2ba8a6",
   "metadata": {},
   "source": [
    "nombre_infected       894\n",
    "nombre_sain          1834\n",
    "nombre_exposed        445\n",
    "nombre_recovered    16827\n",
    "Name: 427, dtype: int64"
   ]
  },
  {
   "cell_type": "markdown",
   "id": "9b7189a9",
   "metadata": {},
   "source": [
    "nombre_infected       894\n",
    "nombre_sain          1823\n",
    "nombre_exposed        427\n",
    "nombre_recovered    16856\n",
    "Name: 428, dtype: int64"
   ]
  },
  {
   "cell_type": "markdown",
   "id": "442b0d27",
   "metadata": {},
   "source": [
    "nombre_infected       876\n",
    "nombre_sain          1834\n",
    "nombre_exposed        415\n",
    "nombre_recovered    16875\n",
    "Name: 429, dtype: int64"
   ]
  },
  {
   "cell_type": "markdown",
   "id": "5c6b3560",
   "metadata": {},
   "source": [
    "nombre_infected       867\n",
    "nombre_sain          1834\n",
    "nombre_exposed        400\n",
    "nombre_recovered    16899\n",
    "Name: 430, dtype: int64"
   ]
  },
  {
   "cell_type": "markdown",
   "id": "a5e5b8c6",
   "metadata": {},
   "source": [
    "nombre_infected       856\n",
    "nombre_sain          1823\n",
    "nombre_exposed        386\n",
    "nombre_recovered    16935\n",
    "Name: 431, dtype: int64"
   ]
  },
  {
   "cell_type": "markdown",
   "id": "25c16ba3",
   "metadata": {},
   "source": [
    "nombre_infected       854\n",
    "nombre_sain          1842\n",
    "nombre_exposed        359\n",
    "nombre_recovered    16945\n",
    "Name: 432, dtype: int64"
   ]
  },
  {
   "cell_type": "markdown",
   "id": "22ffb73a",
   "metadata": {},
   "source": [
    "nombre_infected       825\n",
    "nombre_sain          1840\n",
    "nombre_exposed        362\n",
    "nombre_recovered    16973\n",
    "Name: 433, dtype: int64"
   ]
  },
  {
   "cell_type": "markdown",
   "id": "cab255c9",
   "metadata": {},
   "source": [
    "nombre_infected       781\n",
    "nombre_sain          1841\n",
    "nombre_exposed        378\n",
    "nombre_recovered    17000\n",
    "Name: 434, dtype: int64"
   ]
  },
  {
   "cell_type": "markdown",
   "id": "4114cdb0",
   "metadata": {},
   "source": [
    "nombre_infected       758\n",
    "nombre_sain          1851\n",
    "nombre_exposed        381\n",
    "nombre_recovered    17010\n",
    "Name: 435, dtype: int64"
   ]
  },
  {
   "cell_type": "markdown",
   "id": "5bdd8470",
   "metadata": {},
   "source": [
    "nombre_infected       741\n",
    "nombre_sain          1872\n",
    "nombre_exposed        364\n",
    "nombre_recovered    17023\n",
    "Name: 436, dtype: int64"
   ]
  },
  {
   "cell_type": "markdown",
   "id": "58f8e823",
   "metadata": {},
   "source": [
    "nombre_infected       716\n",
    "nombre_sain          1883\n",
    "nombre_exposed        370\n",
    "nombre_recovered    17031\n",
    "Name: 437, dtype: int64"
   ]
  },
  {
   "cell_type": "markdown",
   "id": "c8e310e8",
   "metadata": {},
   "source": [
    "nombre_infected       682\n",
    "nombre_sain          1896\n",
    "nombre_exposed        354\n",
    "nombre_recovered    17068\n",
    "Name: 438, dtype: int64"
   ]
  },
  {
   "cell_type": "markdown",
   "id": "21142dbc",
   "metadata": {},
   "source": [
    "nombre_infected       677\n",
    "nombre_sain          1921\n",
    "nombre_exposed        353\n",
    "nombre_recovered    17049\n",
    "Name: 439, dtype: int64"
   ]
  },
  {
   "cell_type": "markdown",
   "id": "fb713199",
   "metadata": {},
   "source": [
    "nombre_infected       669\n",
    "nombre_sain          1940\n",
    "nombre_exposed        361\n",
    "nombre_recovered    17030\n",
    "Name: 440, dtype: int64"
   ]
  },
  {
   "cell_type": "markdown",
   "id": "e1e1f469",
   "metadata": {},
   "source": [
    "nombre_infected       667\n",
    "nombre_sain          1987\n",
    "nombre_exposed        355\n",
    "nombre_recovered    16991\n",
    "Name: 441, dtype: int64"
   ]
  },
  {
   "cell_type": "markdown",
   "id": "76169ecf",
   "metadata": {},
   "source": [
    "nombre_infected       629\n",
    "nombre_sain          2048\n",
    "nombre_exposed        347\n",
    "nombre_recovered    16976\n",
    "Name: 442, dtype: int64"
   ]
  },
  {
   "cell_type": "markdown",
   "id": "66b78788",
   "metadata": {},
   "source": [
    "nombre_infected       612\n",
    "nombre_sain          2069\n",
    "nombre_exposed        365\n",
    "nombre_recovered    16954\n",
    "Name: 443, dtype: int64"
   ]
  },
  {
   "cell_type": "markdown",
   "id": "e7d25557",
   "metadata": {},
   "source": [
    "nombre_infected       594\n",
    "nombre_sain          2104\n",
    "nombre_exposed        369\n",
    "nombre_recovered    16933\n",
    "Name: 444, dtype: int64"
   ]
  },
  {
   "cell_type": "markdown",
   "id": "d398a434",
   "metadata": {},
   "source": [
    "nombre_infected       604\n",
    "nombre_sain          2167\n",
    "nombre_exposed        340\n",
    "nombre_recovered    16889\n",
    "Name: 445, dtype: int64"
   ]
  },
  {
   "cell_type": "markdown",
   "id": "952b7233",
   "metadata": {},
   "source": [
    "nombre_infected       598\n",
    "nombre_sain          2202\n",
    "nombre_exposed        349\n",
    "nombre_recovered    16851\n",
    "Name: 446, dtype: int64"
   ]
  },
  {
   "cell_type": "markdown",
   "id": "62d6ce06",
   "metadata": {},
   "source": [
    "nombre_infected       597\n",
    "nombre_sain          2213\n",
    "nombre_exposed        362\n",
    "nombre_recovered    16828\n",
    "Name: 447, dtype: int64"
   ]
  },
  {
   "cell_type": "markdown",
   "id": "6bd18868",
   "metadata": {},
   "source": [
    "nombre_infected       581\n",
    "nombre_sain          2233\n",
    "nombre_exposed        369\n",
    "nombre_recovered    16817\n",
    "Name: 448, dtype: int64"
   ]
  },
  {
   "cell_type": "markdown",
   "id": "47d791c6",
   "metadata": {},
   "source": [
    "nombre_infected       592\n",
    "nombre_sain          2257\n",
    "nombre_exposed        373\n",
    "nombre_recovered    16778\n",
    "Name: 449, dtype: int64"
   ]
  },
  {
   "cell_type": "markdown",
   "id": "488e5fee",
   "metadata": {},
   "source": [
    "nombre_infected       585\n",
    "nombre_sain          2309\n",
    "nombre_exposed        382\n",
    "nombre_recovered    16724\n",
    "Name: 450, dtype: int64"
   ]
  },
  {
   "cell_type": "markdown",
   "id": "a163687d",
   "metadata": {},
   "source": [
    "nombre_infected       608\n",
    "nombre_sain          2328\n",
    "nombre_exposed        369\n",
    "nombre_recovered    16695\n",
    "Name: 451, dtype: int64"
   ]
  },
  {
   "cell_type": "markdown",
   "id": "e1c5d5bf",
   "metadata": {},
   "source": [
    "nombre_infected       606\n",
    "nombre_sain          2360\n",
    "nombre_exposed        387\n",
    "nombre_recovered    16647\n",
    "Name: 452, dtype: int64"
   ]
  },
  {
   "cell_type": "markdown",
   "id": "34939ef1",
   "metadata": {},
   "source": [
    "nombre_infected       616\n",
    "nombre_sain          2380\n",
    "nombre_exposed        383\n",
    "nombre_recovered    16621\n",
    "Name: 453, dtype: int64"
   ]
  },
  {
   "cell_type": "markdown",
   "id": "150f54ca",
   "metadata": {},
   "source": [
    "nombre_infected       637\n",
    "nombre_sain          2407\n",
    "nombre_exposed        361\n",
    "nombre_recovered    16595\n",
    "Name: 454, dtype: int64"
   ]
  },
  {
   "cell_type": "markdown",
   "id": "e258ac2d",
   "metadata": {},
   "source": [
    "nombre_infected       640\n",
    "nombre_sain          2423\n",
    "nombre_exposed        363\n",
    "nombre_recovered    16574\n",
    "Name: 455, dtype: int64"
   ]
  },
  {
   "cell_type": "markdown",
   "id": "f0d52ce3",
   "metadata": {},
   "source": [
    "nombre_infected       632\n",
    "nombre_sain          2430\n",
    "nombre_exposed        401\n",
    "nombre_recovered    16537\n",
    "Name: 456, dtype: int64"
   ]
  },
  {
   "cell_type": "markdown",
   "id": "9520c9f3",
   "metadata": {},
   "source": [
    "nombre_infected       619\n",
    "nombre_sain          2448\n",
    "nombre_exposed        416\n",
    "nombre_recovered    16517\n",
    "Name: 457, dtype: int64"
   ]
  },
  {
   "cell_type": "markdown",
   "id": "5fad368b",
   "metadata": {},
   "source": [
    "nombre_infected       621\n",
    "nombre_sain          2474\n",
    "nombre_exposed        413\n",
    "nombre_recovered    16492\n",
    "Name: 458, dtype: int64"
   ]
  },
  {
   "cell_type": "markdown",
   "id": "aaa5b410",
   "metadata": {},
   "source": [
    "nombre_infected       627\n",
    "nombre_sain          2488\n",
    "nombre_exposed        431\n",
    "nombre_recovered    16454\n",
    "Name: 459, dtype: int64"
   ]
  },
  {
   "cell_type": "markdown",
   "id": "6f0cfd77",
   "metadata": {},
   "source": [
    "nombre_infected       656\n",
    "nombre_sain          2527\n",
    "nombre_exposed        415\n",
    "nombre_recovered    16402\n",
    "Name: 460, dtype: int64"
   ]
  },
  {
   "cell_type": "markdown",
   "id": "15a4dea9",
   "metadata": {},
   "source": [
    "nombre_infected       684\n",
    "nombre_sain          2549\n",
    "nombre_exposed        396\n",
    "nombre_recovered    16371\n",
    "Name: 461, dtype: int64"
   ]
  },
  {
   "cell_type": "markdown",
   "id": "fcfaccf7",
   "metadata": {},
   "source": [
    "nombre_infected       702\n",
    "nombre_sain          2542\n",
    "nombre_exposed        401\n",
    "nombre_recovered    16355\n",
    "Name: 462, dtype: int64"
   ]
  },
  {
   "cell_type": "markdown",
   "id": "92a2b4a5",
   "metadata": {},
   "source": [
    "nombre_infected       694\n",
    "nombre_sain          2561\n",
    "nombre_exposed        420\n",
    "nombre_recovered    16325\n",
    "Name: 463, dtype: int64"
   ]
  },
  {
   "cell_type": "markdown",
   "id": "a00bbb39",
   "metadata": {},
   "source": [
    "nombre_infected       703\n",
    "nombre_sain          2559\n",
    "nombre_exposed        447\n",
    "nombre_recovered    16291\n",
    "Name: 464, dtype: int64"
   ]
  },
  {
   "cell_type": "markdown",
   "id": "95e882a4",
   "metadata": {},
   "source": [
    "nombre_infected       710\n",
    "nombre_sain          2575\n",
    "nombre_exposed        464\n",
    "nombre_recovered    16251\n",
    "Name: 465, dtype: int64"
   ]
  },
  {
   "cell_type": "markdown",
   "id": "29a8ae8a",
   "metadata": {},
   "source": [
    "nombre_infected       715\n",
    "nombre_sain          2594\n",
    "nombre_exposed        477\n",
    "nombre_recovered    16214\n",
    "Name: 466, dtype: int64"
   ]
  },
  {
   "cell_type": "markdown",
   "id": "f714375a",
   "metadata": {},
   "source": [
    "nombre_infected       738\n",
    "nombre_sain          2608\n",
    "nombre_exposed        472\n",
    "nombre_recovered    16182\n",
    "Name: 467, dtype: int64"
   ]
  },
  {
   "cell_type": "markdown",
   "id": "853f24c5",
   "metadata": {},
   "source": [
    "nombre_infected       737\n",
    "nombre_sain          2641\n",
    "nombre_exposed        469\n",
    "nombre_recovered    16153\n",
    "Name: 468, dtype: int64"
   ]
  },
  {
   "cell_type": "markdown",
   "id": "395d9692",
   "metadata": {},
   "source": [
    "nombre_infected       743\n",
    "nombre_sain          2640\n",
    "nombre_exposed        487\n",
    "nombre_recovered    16130\n",
    "Name: 469, dtype: int64"
   ]
  },
  {
   "cell_type": "markdown",
   "id": "4569077e",
   "metadata": {},
   "source": [
    "nombre_infected       760\n",
    "nombre_sain          2646\n",
    "nombre_exposed        487\n",
    "nombre_recovered    16107\n",
    "Name: 470, dtype: int64"
   ]
  },
  {
   "cell_type": "markdown",
   "id": "df1c137e",
   "metadata": {},
   "source": [
    "nombre_infected       772\n",
    "nombre_sain          2629\n",
    "nombre_exposed        506\n",
    "nombre_recovered    16093\n",
    "Name: 471, dtype: int64"
   ]
  },
  {
   "cell_type": "markdown",
   "id": "001b8788",
   "metadata": {},
   "source": [
    "nombre_infected       782\n",
    "nombre_sain          2642\n",
    "nombre_exposed        514\n",
    "nombre_recovered    16062\n",
    "Name: 472, dtype: int64"
   ]
  },
  {
   "cell_type": "markdown",
   "id": "6142cba4",
   "metadata": {},
   "source": [
    "nombre_infected       797\n",
    "nombre_sain          2622\n",
    "nombre_exposed        542\n",
    "nombre_recovered    16039\n",
    "Name: 473, dtype: int64"
   ]
  },
  {
   "cell_type": "markdown",
   "id": "6b8f4e2f",
   "metadata": {},
   "source": [
    "nombre_infected       800\n",
    "nombre_sain          2618\n",
    "nombre_exposed        549\n",
    "nombre_recovered    16033\n",
    "Name: 474, dtype: int64"
   ]
  },
  {
   "cell_type": "markdown",
   "id": "f3863bff",
   "metadata": {},
   "source": [
    "nombre_infected       826\n",
    "nombre_sain          2612\n",
    "nombre_exposed        545\n",
    "nombre_recovered    16017\n",
    "Name: 475, dtype: int64"
   ]
  },
  {
   "cell_type": "markdown",
   "id": "16c5f635",
   "metadata": {},
   "source": [
    "nombre_infected       853\n",
    "nombre_sain          2586\n",
    "nombre_exposed        552\n",
    "nombre_recovered    16009\n",
    "Name: 476, dtype: int64"
   ]
  },
  {
   "cell_type": "markdown",
   "id": "a4855389",
   "metadata": {},
   "source": [
    "nombre_infected       861\n",
    "nombre_sain          2578\n",
    "nombre_exposed        553\n",
    "nombre_recovered    16008\n",
    "Name: 477, dtype: int64"
   ]
  },
  {
   "cell_type": "markdown",
   "id": "7997d811",
   "metadata": {},
   "source": [
    "nombre_infected       880\n",
    "nombre_sain          2548\n",
    "nombre_exposed        557\n",
    "nombre_recovered    16015\n",
    "Name: 478, dtype: int64"
   ]
  },
  {
   "cell_type": "markdown",
   "id": "c6eca6dc",
   "metadata": {},
   "source": [
    "nombre_infected       892\n",
    "nombre_sain          2547\n",
    "nombre_exposed        541\n",
    "nombre_recovered    16020\n",
    "Name: 479, dtype: int64"
   ]
  },
  {
   "cell_type": "markdown",
   "id": "22b0df48",
   "metadata": {},
   "source": [
    "nombre_infected       922\n",
    "nombre_sain          2510\n",
    "nombre_exposed        540\n",
    "nombre_recovered    16028\n",
    "Name: 480, dtype: int64"
   ]
  },
  {
   "cell_type": "markdown",
   "id": "1b60b9d9",
   "metadata": {},
   "source": [
    "nombre_infected       916\n",
    "nombre_sain          2455\n",
    "nombre_exposed        575\n",
    "nombre_recovered    16054\n",
    "Name: 481, dtype: int64"
   ]
  },
  {
   "cell_type": "markdown",
   "id": "334284c1",
   "metadata": {},
   "source": [
    "nombre_infected       878\n",
    "nombre_sain          2423\n",
    "nombre_exposed        615\n",
    "nombre_recovered    16084\n",
    "Name: 482, dtype: int64"
   ]
  },
  {
   "cell_type": "markdown",
   "id": "a64b9094",
   "metadata": {},
   "source": [
    "nombre_infected       905\n",
    "nombre_sain          2417\n",
    "nombre_exposed        588\n",
    "nombre_recovered    16090\n",
    "Name: 483, dtype: int64"
   ]
  },
  {
   "cell_type": "markdown",
   "id": "271315ab",
   "metadata": {},
   "source": [
    "nombre_infected       924\n",
    "nombre_sain          2381\n",
    "nombre_exposed        579\n",
    "nombre_recovered    16116\n",
    "Name: 484, dtype: int64"
   ]
  },
  {
   "cell_type": "markdown",
   "id": "c689f78e",
   "metadata": {},
   "source": [
    "nombre_infected       944\n",
    "nombre_sain          2350\n",
    "nombre_exposed        580\n",
    "nombre_recovered    16126\n",
    "Name: 485, dtype: int64"
   ]
  },
  {
   "cell_type": "markdown",
   "id": "63aa1b8d",
   "metadata": {},
   "source": [
    "nombre_infected       961\n",
    "nombre_sain          2328\n",
    "nombre_exposed        577\n",
    "nombre_recovered    16134\n",
    "Name: 486, dtype: int64"
   ]
  },
  {
   "cell_type": "markdown",
   "id": "995632d9",
   "metadata": {},
   "source": [
    "nombre_infected       967\n",
    "nombre_sain          2281\n",
    "nombre_exposed        583\n",
    "nombre_recovered    16169\n",
    "Name: 487, dtype: int64"
   ]
  },
  {
   "cell_type": "markdown",
   "id": "fe773470",
   "metadata": {},
   "source": [
    "nombre_infected       983\n",
    "nombre_sain          2208\n",
    "nombre_exposed        615\n",
    "nombre_recovered    16194\n",
    "Name: 488, dtype: int64"
   ]
  },
  {
   "cell_type": "markdown",
   "id": "f2f7b194",
   "metadata": {},
   "source": [
    "nombre_infected       989\n",
    "nombre_sain          2195\n",
    "nombre_exposed        592\n",
    "nombre_recovered    16224\n",
    "Name: 489, dtype: int64"
   ]
  },
  {
   "cell_type": "markdown",
   "id": "dc255549",
   "metadata": {},
   "source": [
    "nombre_infected       998\n",
    "nombre_sain          2155\n",
    "nombre_exposed        597\n",
    "nombre_recovered    16250\n",
    "Name: 490, dtype: int64"
   ]
  },
  {
   "cell_type": "markdown",
   "id": "cd151fb1",
   "metadata": {},
   "source": [
    "nombre_infected      1024\n",
    "nombre_sain          2126\n",
    "nombre_exposed        562\n",
    "nombre_recovered    16288\n",
    "Name: 491, dtype: int64"
   ]
  },
  {
   "cell_type": "markdown",
   "id": "7bdb3375",
   "metadata": {},
   "source": [
    "nombre_infected       998\n",
    "nombre_sain          2111\n",
    "nombre_exposed        561\n",
    "nombre_recovered    16330\n",
    "Name: 492, dtype: int64"
   ]
  },
  {
   "cell_type": "markdown",
   "id": "980b37de",
   "metadata": {},
   "source": [
    "nombre_infected       986\n",
    "nombre_sain          2087\n",
    "nombre_exposed        560\n",
    "nombre_recovered    16367\n",
    "Name: 493, dtype: int64"
   ]
  },
  {
   "cell_type": "markdown",
   "id": "f4510b1d",
   "metadata": {},
   "source": [
    "nombre_infected       981\n",
    "nombre_sain          2108\n",
    "nombre_exposed        534\n",
    "nombre_recovered    16377\n",
    "Name: 494, dtype: int64"
   ]
  },
  {
   "cell_type": "markdown",
   "id": "a3431894",
   "metadata": {},
   "source": [
    "nombre_infected       948\n",
    "nombre_sain          2099\n",
    "nombre_exposed        556\n",
    "nombre_recovered    16397\n",
    "Name: 495, dtype: int64"
   ]
  },
  {
   "cell_type": "markdown",
   "id": "b14fb356",
   "metadata": {},
   "source": [
    "nombre_infected       940\n",
    "nombre_sain          2100\n",
    "nombre_exposed        550\n",
    "nombre_recovered    16410\n",
    "Name: 496, dtype: int64"
   ]
  },
  {
   "cell_type": "markdown",
   "id": "e7b70b84",
   "metadata": {},
   "source": [
    "nombre_infected       948\n",
    "nombre_sain          2086\n",
    "nombre_exposed        531\n",
    "nombre_recovered    16435\n",
    "Name: 497, dtype: int64"
   ]
  },
  {
   "cell_type": "markdown",
   "id": "b87053b4",
   "metadata": {},
   "source": [
    "nombre_infected       956\n",
    "nombre_sain          2093\n",
    "nombre_exposed        522\n",
    "nombre_recovered    16429\n",
    "Name: 498, dtype: int64"
   ]
  },
  {
   "cell_type": "markdown",
   "id": "ebf9149b",
   "metadata": {},
   "source": [
    "nombre_infected       931\n",
    "nombre_sain          2132\n",
    "nombre_exposed        518\n",
    "nombre_recovered    16419\n",
    "Name: 499, dtype: int64"
   ]
  },
  {
   "cell_type": "markdown",
   "id": "96222eb3",
   "metadata": {},
   "source": [
    "nombre_infected       918\n",
    "nombre_sain          2113\n",
    "nombre_exposed        539\n",
    "nombre_recovered    16430\n",
    "Name: 500, dtype: int64"
   ]
  },
  {
   "cell_type": "markdown",
   "id": "b4e24763",
   "metadata": {},
   "source": [
    "nombre_infected       893\n",
    "nombre_sain          2102\n",
    "nombre_exposed        548\n",
    "nombre_recovered    16457\n",
    "Name: 501, dtype: int64"
   ]
  },
  {
   "cell_type": "markdown",
   "id": "bbdccf3f",
   "metadata": {},
   "source": [
    "nombre_infected       895\n",
    "nombre_sain          2099\n",
    "nombre_exposed        553\n",
    "nombre_recovered    16453\n",
    "Name: 502, dtype: int64"
   ]
  },
  {
   "cell_type": "markdown",
   "id": "01af7deb",
   "metadata": {},
   "source": [
    "nombre_infected       924\n",
    "nombre_sain          2109\n",
    "nombre_exposed        516\n",
    "nombre_recovered    16451\n",
    "Name: 503, dtype: int64"
   ]
  },
  {
   "cell_type": "markdown",
   "id": "29599355",
   "metadata": {},
   "source": [
    "nombre_infected       941\n",
    "nombre_sain          2115\n",
    "nombre_exposed        495\n",
    "nombre_recovered    16449\n",
    "Name: 504, dtype: int64"
   ]
  },
  {
   "cell_type": "markdown",
   "id": "c8d95fa8",
   "metadata": {},
   "source": [
    "nombre_infected       934\n",
    "nombre_sain          2099\n",
    "nombre_exposed        500\n",
    "nombre_recovered    16467\n",
    "Name: 505, dtype: int64"
   ]
  },
  {
   "cell_type": "markdown",
   "id": "1699197f",
   "metadata": {},
   "source": [
    "nombre_infected       928\n",
    "nombre_sain          2075\n",
    "nombre_exposed        504\n",
    "nombre_recovered    16493\n",
    "Name: 506, dtype: int64"
   ]
  },
  {
   "cell_type": "markdown",
   "id": "96f77261",
   "metadata": {},
   "source": [
    "nombre_infected       918\n",
    "nombre_sain          2077\n",
    "nombre_exposed        493\n",
    "nombre_recovered    16512\n",
    "Name: 507, dtype: int64"
   ]
  },
  {
   "cell_type": "markdown",
   "id": "7b69282c",
   "metadata": {},
   "source": [
    "nombre_infected       918\n",
    "nombre_sain          2048\n",
    "nombre_exposed        491\n",
    "nombre_recovered    16543\n",
    "Name: 508, dtype: int64"
   ]
  },
  {
   "cell_type": "markdown",
   "id": "f2227170",
   "metadata": {},
   "source": [
    "nombre_infected       904\n",
    "nombre_sain          2063\n",
    "nombre_exposed        483\n",
    "nombre_recovered    16550\n",
    "Name: 509, dtype: int64"
   ]
  },
  {
   "cell_type": "markdown",
   "id": "7ed36abc",
   "metadata": {},
   "source": [
    "nombre_infected       923\n",
    "nombre_sain          2041\n",
    "nombre_exposed        477\n",
    "nombre_recovered    16559\n",
    "Name: 510, dtype: int64"
   ]
  },
  {
   "cell_type": "markdown",
   "id": "d329e6e5",
   "metadata": {},
   "source": [
    "nombre_infected       912\n",
    "nombre_sain          2027\n",
    "nombre_exposed        491\n",
    "nombre_recovered    16570\n",
    "Name: 511, dtype: int64"
   ]
  },
  {
   "cell_type": "markdown",
   "id": "80a17d56",
   "metadata": {},
   "source": [
    "nombre_infected       917\n",
    "nombre_sain          2024\n",
    "nombre_exposed        502\n",
    "nombre_recovered    16557\n",
    "Name: 512, dtype: int64"
   ]
  },
  {
   "cell_type": "markdown",
   "id": "d49a105d",
   "metadata": {},
   "source": [
    "nombre_infected       899\n",
    "nombre_sain          2022\n",
    "nombre_exposed        499\n",
    "nombre_recovered    16580\n",
    "Name: 513, dtype: int64"
   ]
  },
  {
   "cell_type": "markdown",
   "id": "6060e0a0",
   "metadata": {},
   "source": [
    "nombre_infected       926\n",
    "nombre_sain          2057\n",
    "nombre_exposed        459\n",
    "nombre_recovered    16558\n",
    "Name: 514, dtype: int64"
   ]
  },
  {
   "cell_type": "markdown",
   "id": "8425f7d2",
   "metadata": {},
   "source": [
    "nombre_infected       904\n",
    "nombre_sain          2031\n",
    "nombre_exposed        472\n",
    "nombre_recovered    16593\n",
    "Name: 515, dtype: int64"
   ]
  },
  {
   "cell_type": "markdown",
   "id": "ca79d79f",
   "metadata": {},
   "source": [
    "nombre_infected       895\n",
    "nombre_sain          2051\n",
    "nombre_exposed        463\n",
    "nombre_recovered    16591\n",
    "Name: 516, dtype: int64"
   ]
  },
  {
   "cell_type": "markdown",
   "id": "457675d5",
   "metadata": {},
   "source": [
    "nombre_infected       895\n",
    "nombre_sain          2032\n",
    "nombre_exposed        482\n",
    "nombre_recovered    16591\n",
    "Name: 517, dtype: int64"
   ]
  },
  {
   "cell_type": "markdown",
   "id": "63e3fb3f",
   "metadata": {},
   "source": [
    "nombre_infected       889\n",
    "nombre_sain          2038\n",
    "nombre_exposed        478\n",
    "nombre_recovered    16595\n",
    "Name: 518, dtype: int64"
   ]
  },
  {
   "cell_type": "markdown",
   "id": "a84f54e7",
   "metadata": {},
   "source": [
    "nombre_infected       868\n",
    "nombre_sain          2060\n",
    "nombre_exposed        467\n",
    "nombre_recovered    16605\n",
    "Name: 519, dtype: int64"
   ]
  },
  {
   "cell_type": "markdown",
   "id": "ac935bc8",
   "metadata": {},
   "source": [
    "nombre_infected       844\n",
    "nombre_sain          2053\n",
    "nombre_exposed        452\n",
    "nombre_recovered    16651\n",
    "Name: 520, dtype: int64"
   ]
  },
  {
   "cell_type": "markdown",
   "id": "2b3d9210",
   "metadata": {},
   "source": [
    "nombre_infected       827\n",
    "nombre_sain          2063\n",
    "nombre_exposed        442\n",
    "nombre_recovered    16668\n",
    "Name: 521, dtype: int64"
   ]
  },
  {
   "cell_type": "markdown",
   "id": "9a9f4fa4",
   "metadata": {},
   "source": [
    "nombre_infected       800\n",
    "nombre_sain          2108\n",
    "nombre_exposed        414\n",
    "nombre_recovered    16678\n",
    "Name: 522, dtype: int64"
   ]
  },
  {
   "cell_type": "markdown",
   "id": "636d82b4",
   "metadata": {},
   "source": [
    "nombre_infected       802\n",
    "nombre_sain          2091\n",
    "nombre_exposed        406\n",
    "nombre_recovered    16701\n",
    "Name: 523, dtype: int64"
   ]
  },
  {
   "cell_type": "markdown",
   "id": "2b1e3f23",
   "metadata": {},
   "source": [
    "nombre_infected       794\n",
    "nombre_sain          2100\n",
    "nombre_exposed        431\n",
    "nombre_recovered    16675\n",
    "Name: 524, dtype: int64"
   ]
  },
  {
   "cell_type": "markdown",
   "id": "cd478521",
   "metadata": {},
   "source": [
    "nombre_infected       802\n",
    "nombre_sain          2097\n",
    "nombre_exposed        441\n",
    "nombre_recovered    16660\n",
    "Name: 525, dtype: int64"
   ]
  },
  {
   "cell_type": "markdown",
   "id": "b398263c",
   "metadata": {},
   "source": [
    "nombre_infected       787\n",
    "nombre_sain          2091\n",
    "nombre_exposed        432\n",
    "nombre_recovered    16690\n",
    "Name: 526, dtype: int64"
   ]
  },
  {
   "cell_type": "markdown",
   "id": "0ae3d4ad",
   "metadata": {},
   "source": [
    "nombre_infected       790\n",
    "nombre_sain          2097\n",
    "nombre_exposed        425\n",
    "nombre_recovered    16688\n",
    "Name: 527, dtype: int64"
   ]
  },
  {
   "cell_type": "markdown",
   "id": "e62ab2cb",
   "metadata": {},
   "source": [
    "nombre_infected       785\n",
    "nombre_sain          2103\n",
    "nombre_exposed        425\n",
    "nombre_recovered    16687\n",
    "Name: 528, dtype: int64"
   ]
  },
  {
   "cell_type": "markdown",
   "id": "c424d3ff",
   "metadata": {},
   "source": [
    "nombre_infected       783\n",
    "nombre_sain          2102\n",
    "nombre_exposed        437\n",
    "nombre_recovered    16678\n",
    "Name: 529, dtype: int64"
   ]
  },
  {
   "cell_type": "markdown",
   "id": "4544b729",
   "metadata": {},
   "source": [
    "nombre_infected       777\n",
    "nombre_sain          2108\n",
    "nombre_exposed        444\n",
    "nombre_recovered    16671\n",
    "Name: 530, dtype: int64"
   ]
  },
  {
   "cell_type": "markdown",
   "id": "3a6f1257",
   "metadata": {},
   "source": [
    "nombre_infected       782\n",
    "nombre_sain          2134\n",
    "nombre_exposed        428\n",
    "nombre_recovered    16656\n",
    "Name: 531, dtype: int64"
   ]
  },
  {
   "cell_type": "markdown",
   "id": "76fc6a67",
   "metadata": {},
   "source": [
    "nombre_infected       778\n",
    "nombre_sain          2115\n",
    "nombre_exposed        445\n",
    "nombre_recovered    16662\n",
    "Name: 532, dtype: int64"
   ]
  },
  {
   "cell_type": "markdown",
   "id": "5e50f523",
   "metadata": {},
   "source": [
    "nombre_infected       768\n",
    "nombre_sain          2113\n",
    "nombre_exposed        447\n",
    "nombre_recovered    16672\n",
    "Name: 533, dtype: int64"
   ]
  },
  {
   "cell_type": "markdown",
   "id": "645cc9df",
   "metadata": {},
   "source": [
    "nombre_infected       757\n",
    "nombre_sain          2110\n",
    "nombre_exposed        461\n",
    "nombre_recovered    16672\n",
    "Name: 534, dtype: int64"
   ]
  },
  {
   "cell_type": "markdown",
   "id": "7d708ff9",
   "metadata": {},
   "source": [
    "nombre_infected       756\n",
    "nombre_sain          2134\n",
    "nombre_exposed        448\n",
    "nombre_recovered    16662\n",
    "Name: 535, dtype: int64"
   ]
  },
  {
   "cell_type": "markdown",
   "id": "e3b58b18",
   "metadata": {},
   "source": [
    "nombre_infected       739\n",
    "nombre_sain          2161\n",
    "nombre_exposed        447\n",
    "nombre_recovered    16653\n",
    "Name: 536, dtype: int64"
   ]
  },
  {
   "cell_type": "markdown",
   "id": "cb510dca",
   "metadata": {},
   "source": [
    "nombre_infected       728\n",
    "nombre_sain          2174\n",
    "nombre_exposed        455\n",
    "nombre_recovered    16643\n",
    "Name: 537, dtype: int64"
   ]
  },
  {
   "cell_type": "markdown",
   "id": "1cea2a90",
   "metadata": {},
   "source": [
    "nombre_infected       709\n",
    "nombre_sain          2192\n",
    "nombre_exposed        441\n",
    "nombre_recovered    16658\n",
    "Name: 538, dtype: int64"
   ]
  },
  {
   "cell_type": "markdown",
   "id": "c1074883",
   "metadata": {},
   "source": [
    "nombre_infected       721\n",
    "nombre_sain          2196\n",
    "nombre_exposed        445\n",
    "nombre_recovered    16638\n",
    "Name: 539, dtype: int64"
   ]
  },
  {
   "cell_type": "markdown",
   "id": "21d2382e",
   "metadata": {},
   "source": [
    "nombre_infected       747\n",
    "nombre_sain          2215\n",
    "nombre_exposed        434\n",
    "nombre_recovered    16604\n",
    "Name: 540, dtype: int64"
   ]
  },
  {
   "cell_type": "markdown",
   "id": "e8c62f44",
   "metadata": {},
   "source": [
    "nombre_infected       760\n",
    "nombre_sain          2207\n",
    "nombre_exposed        437\n",
    "nombre_recovered    16596\n",
    "Name: 541, dtype: int64"
   ]
  },
  {
   "cell_type": "markdown",
   "id": "dfbc5e44",
   "metadata": {},
   "source": [
    "nombre_infected       768\n",
    "nombre_sain          2201\n",
    "nombre_exposed        431\n",
    "nombre_recovered    16600\n",
    "Name: 542, dtype: int64"
   ]
  },
  {
   "cell_type": "markdown",
   "id": "805c6e60",
   "metadata": {},
   "source": [
    "nombre_infected       784\n",
    "nombre_sain          2238\n",
    "nombre_exposed        422\n",
    "nombre_recovered    16556\n",
    "Name: 543, dtype: int64"
   ]
  },
  {
   "cell_type": "markdown",
   "id": "024b8e5f",
   "metadata": {},
   "source": [
    "nombre_infected       773\n",
    "nombre_sain          2259\n",
    "nombre_exposed        422\n",
    "nombre_recovered    16546\n",
    "Name: 544, dtype: int64"
   ]
  },
  {
   "cell_type": "markdown",
   "id": "9780b740",
   "metadata": {},
   "source": [
    "nombre_infected       769\n",
    "nombre_sain          2240\n",
    "nombre_exposed        430\n",
    "nombre_recovered    16561\n",
    "Name: 545, dtype: int64"
   ]
  },
  {
   "cell_type": "markdown",
   "id": "f7522b5e",
   "metadata": {},
   "source": [
    "nombre_infected       771\n",
    "nombre_sain          2246\n",
    "nombre_exposed        437\n",
    "nombre_recovered    16546\n",
    "Name: 546, dtype: int64"
   ]
  },
  {
   "cell_type": "markdown",
   "id": "74dd2f77",
   "metadata": {},
   "source": [
    "nombre_infected       769\n",
    "nombre_sain          2244\n",
    "nombre_exposed        448\n",
    "nombre_recovered    16539\n",
    "Name: 547, dtype: int64"
   ]
  },
  {
   "cell_type": "markdown",
   "id": "aa534628",
   "metadata": {},
   "source": [
    "nombre_infected       784\n",
    "nombre_sain          2255\n",
    "nombre_exposed        448\n",
    "nombre_recovered    16513\n",
    "Name: 548, dtype: int64"
   ]
  },
  {
   "cell_type": "markdown",
   "id": "412d47aa",
   "metadata": {},
   "source": [
    "nombre_infected       785\n",
    "nombre_sain          2276\n",
    "nombre_exposed        439\n",
    "nombre_recovered    16500\n",
    "Name: 549, dtype: int64"
   ]
  },
  {
   "cell_type": "markdown",
   "id": "5e936b3d",
   "metadata": {},
   "source": [
    "nombre_infected       797\n",
    "nombre_sain          2282\n",
    "nombre_exposed        449\n",
    "nombre_recovered    16472\n",
    "Name: 550, dtype: int64"
   ]
  },
  {
   "cell_type": "markdown",
   "id": "4dbe7d56",
   "metadata": {},
   "source": [
    "nombre_infected       810\n",
    "nombre_sain          2277\n",
    "nombre_exposed        442\n",
    "nombre_recovered    16471\n",
    "Name: 551, dtype: int64"
   ]
  },
  {
   "cell_type": "markdown",
   "id": "a6d4f293",
   "metadata": {},
   "source": [
    "nombre_infected       817\n",
    "nombre_sain          2279\n",
    "nombre_exposed        437\n",
    "nombre_recovered    16467\n",
    "Name: 552, dtype: int64"
   ]
  },
  {
   "cell_type": "markdown",
   "id": "6c5dc482",
   "metadata": {},
   "source": [
    "nombre_infected       795\n",
    "nombre_sain          2306\n",
    "nombre_exposed        439\n",
    "nombre_recovered    16460\n",
    "Name: 553, dtype: int64"
   ]
  },
  {
   "cell_type": "markdown",
   "id": "c50c02f9",
   "metadata": {},
   "source": [
    "nombre_infected       802\n",
    "nombre_sain          2303\n",
    "nombre_exposed        426\n",
    "nombre_recovered    16469\n",
    "Name: 554, dtype: int64"
   ]
  },
  {
   "cell_type": "markdown",
   "id": "b933bf82",
   "metadata": {},
   "source": [
    "nombre_infected       802\n",
    "nombre_sain          2280\n",
    "nombre_exposed        447\n",
    "nombre_recovered    16471\n",
    "Name: 555, dtype: int64"
   ]
  },
  {
   "cell_type": "markdown",
   "id": "8bb1af17",
   "metadata": {},
   "source": [
    "nombre_infected       827\n",
    "nombre_sain          2261\n",
    "nombre_exposed        463\n",
    "nombre_recovered    16449\n",
    "Name: 556, dtype: int64"
   ]
  },
  {
   "cell_type": "markdown",
   "id": "143f3623",
   "metadata": {},
   "source": [
    "nombre_infected       830\n",
    "nombre_sain          2251\n",
    "nombre_exposed        481\n",
    "nombre_recovered    16438\n",
    "Name: 557, dtype: int64"
   ]
  },
  {
   "cell_type": "markdown",
   "id": "700c4cd1",
   "metadata": {},
   "source": [
    "nombre_infected       818\n",
    "nombre_sain          2237\n",
    "nombre_exposed        481\n",
    "nombre_recovered    16464\n",
    "Name: 558, dtype: int64"
   ]
  },
  {
   "cell_type": "markdown",
   "id": "49ec442e",
   "metadata": {},
   "source": [
    "nombre_infected       823\n",
    "nombre_sain          2233\n",
    "nombre_exposed        495\n",
    "nombre_recovered    16449\n",
    "Name: 559, dtype: int64"
   ]
  },
  {
   "cell_type": "markdown",
   "id": "0bf63cdf",
   "metadata": {},
   "source": [
    "nombre_infected       836\n",
    "nombre_sain          2244\n",
    "nombre_exposed        490\n",
    "nombre_recovered    16430\n",
    "Name: 560, dtype: int64"
   ]
  },
  {
   "cell_type": "markdown",
   "id": "c970d7ea",
   "metadata": {},
   "source": [
    "nombre_infected       856\n",
    "nombre_sain          2225\n",
    "nombre_exposed        481\n",
    "nombre_recovered    16438\n",
    "Name: 561, dtype: int64"
   ]
  },
  {
   "cell_type": "markdown",
   "id": "824e2c40",
   "metadata": {},
   "source": [
    "nombre_infected       860\n",
    "nombre_sain          2207\n",
    "nombre_exposed        486\n",
    "nombre_recovered    16447\n",
    "Name: 562, dtype: int64"
   ]
  },
  {
   "cell_type": "markdown",
   "id": "e2885f95",
   "metadata": {},
   "source": [
    "nombre_infected       873\n",
    "nombre_sain          2193\n",
    "nombre_exposed        485\n",
    "nombre_recovered    16449\n",
    "Name: 563, dtype: int64"
   ]
  },
  {
   "cell_type": "markdown",
   "id": "f52e2557",
   "metadata": {},
   "source": [
    "nombre_infected       894\n",
    "nombre_sain          2193\n",
    "nombre_exposed        485\n",
    "nombre_recovered    16428\n",
    "Name: 564, dtype: int64"
   ]
  },
  {
   "cell_type": "markdown",
   "id": "bf80ebb4",
   "metadata": {},
   "source": [
    "nombre_infected       899\n",
    "nombre_sain          2184\n",
    "nombre_exposed        493\n",
    "nombre_recovered    16424\n",
    "Name: 565, dtype: int64"
   ]
  },
  {
   "cell_type": "markdown",
   "id": "d68f8f6d",
   "metadata": {},
   "source": [
    "nombre_infected       882\n",
    "nombre_sain          2174\n",
    "nombre_exposed        514\n",
    "nombre_recovered    16430\n",
    "Name: 566, dtype: int64"
   ]
  },
  {
   "cell_type": "markdown",
   "id": "b79df126",
   "metadata": {},
   "source": [
    "nombre_infected       872\n",
    "nombre_sain          2158\n",
    "nombre_exposed        510\n",
    "nombre_recovered    16460\n",
    "Name: 567, dtype: int64"
   ]
  },
  {
   "cell_type": "markdown",
   "id": "b46203f0",
   "metadata": {},
   "source": [
    "nombre_infected       873\n",
    "nombre_sain          2144\n",
    "nombre_exposed        495\n",
    "nombre_recovered    16488\n",
    "Name: 568, dtype: int64"
   ]
  },
  {
   "cell_type": "markdown",
   "id": "3ec19397",
   "metadata": {},
   "source": [
    "nombre_infected       871\n",
    "nombre_sain          2140\n",
    "nombre_exposed        512\n",
    "nombre_recovered    16477\n",
    "Name: 569, dtype: int64"
   ]
  },
  {
   "cell_type": "markdown",
   "id": "0c44220e",
   "metadata": {},
   "source": [
    "nombre_infected       888\n",
    "nombre_sain          2125\n",
    "nombre_exposed        506\n",
    "nombre_recovered    16481\n",
    "Name: 570, dtype: int64"
   ]
  },
  {
   "cell_type": "markdown",
   "id": "fc596d4b",
   "metadata": {},
   "source": [
    "nombre_infected       901\n",
    "nombre_sain          2135\n",
    "nombre_exposed        490\n",
    "nombre_recovered    16474\n",
    "Name: 571, dtype: int64"
   ]
  },
  {
   "cell_type": "markdown",
   "id": "23f43a82",
   "metadata": {},
   "source": [
    "nombre_infected       913\n",
    "nombre_sain          2106\n",
    "nombre_exposed        474\n",
    "nombre_recovered    16507\n",
    "Name: 572, dtype: int64"
   ]
  },
  {
   "cell_type": "markdown",
   "id": "16a838e0",
   "metadata": {},
   "source": [
    "nombre_infected       915\n",
    "nombre_sain          2112\n",
    "nombre_exposed        454\n",
    "nombre_recovered    16519\n",
    "Name: 573, dtype: int64"
   ]
  },
  {
   "cell_type": "markdown",
   "id": "50541f99",
   "metadata": {},
   "source": [
    "nombre_infected       912\n",
    "nombre_sain          2096\n",
    "nombre_exposed        458\n",
    "nombre_recovered    16534\n",
    "Name: 574, dtype: int64"
   ]
  },
  {
   "cell_type": "markdown",
   "id": "0a7a79b6",
   "metadata": {},
   "source": [
    "nombre_infected       896\n",
    "nombre_sain          2069\n",
    "nombre_exposed        473\n",
    "nombre_recovered    16562\n",
    "Name: 575, dtype: int64"
   ]
  },
  {
   "cell_type": "markdown",
   "id": "63482fb2",
   "metadata": {},
   "source": [
    "nombre_infected       861\n",
    "nombre_sain          2034\n",
    "nombre_exposed        499\n",
    "nombre_recovered    16606\n",
    "Name: 576, dtype: int64"
   ]
  },
  {
   "cell_type": "markdown",
   "id": "52b8e3ed",
   "metadata": {},
   "source": [
    "nombre_infected       871\n",
    "nombre_sain          2008\n",
    "nombre_exposed        491\n",
    "nombre_recovered    16630\n",
    "Name: 577, dtype: int64"
   ]
  },
  {
   "cell_type": "markdown",
   "id": "f3b7a6b9",
   "metadata": {},
   "source": [
    "nombre_infected       872\n",
    "nombre_sain          2022\n",
    "nombre_exposed        465\n",
    "nombre_recovered    16641\n",
    "Name: 578, dtype: int64"
   ]
  },
  {
   "cell_type": "markdown",
   "id": "a547b0a8",
   "metadata": {},
   "source": [
    "nombre_infected       880\n",
    "nombre_sain          2015\n",
    "nombre_exposed        456\n",
    "nombre_recovered    16649\n",
    "Name: 579, dtype: int64"
   ]
  },
  {
   "cell_type": "markdown",
   "id": "441ad07d",
   "metadata": {},
   "source": [
    "nombre_infected       901\n",
    "nombre_sain          2000\n",
    "nombre_exposed        438\n",
    "nombre_recovered    16661\n",
    "Name: 580, dtype: int64"
   ]
  },
  {
   "cell_type": "markdown",
   "id": "3bdca8e3",
   "metadata": {},
   "source": [
    "nombre_infected       903\n",
    "nombre_sain          2002\n",
    "nombre_exposed        431\n",
    "nombre_recovered    16664\n",
    "Name: 581, dtype: int64"
   ]
  },
  {
   "cell_type": "markdown",
   "id": "633ad24f",
   "metadata": {},
   "source": [
    "nombre_infected       893\n",
    "nombre_sain          1994\n",
    "nombre_exposed        433\n",
    "nombre_recovered    16680\n",
    "Name: 582, dtype: int64"
   ]
  },
  {
   "cell_type": "markdown",
   "id": "e3dca3bc",
   "metadata": {},
   "source": [
    "nombre_infected       879\n",
    "nombre_sain          2010\n",
    "nombre_exposed        424\n",
    "nombre_recovered    16687\n",
    "Name: 583, dtype: int64"
   ]
  },
  {
   "cell_type": "markdown",
   "id": "94fc471b",
   "metadata": {},
   "source": [
    "nombre_infected       871\n",
    "nombre_sain          2022\n",
    "nombre_exposed        425\n",
    "nombre_recovered    16682\n",
    "Name: 584, dtype: int64"
   ]
  },
  {
   "cell_type": "markdown",
   "id": "ab26818c",
   "metadata": {},
   "source": [
    "nombre_infected       856\n",
    "nombre_sain          2038\n",
    "nombre_exposed        426\n",
    "nombre_recovered    16680\n",
    "Name: 585, dtype: int64"
   ]
  },
  {
   "cell_type": "markdown",
   "id": "b34e7928",
   "metadata": {},
   "source": [
    "nombre_infected       860\n",
    "nombre_sain          2048\n",
    "nombre_exposed        427\n",
    "nombre_recovered    16665\n",
    "Name: 586, dtype: int64"
   ]
  },
  {
   "cell_type": "markdown",
   "id": "82611de6",
   "metadata": {},
   "source": [
    "nombre_infected       854\n",
    "nombre_sain          2060\n",
    "nombre_exposed        430\n",
    "nombre_recovered    16656\n",
    "Name: 587, dtype: int64"
   ]
  },
  {
   "cell_type": "markdown",
   "id": "62d26993",
   "metadata": {},
   "source": [
    "nombre_infected       850\n",
    "nombre_sain          2075\n",
    "nombre_exposed        420\n",
    "nombre_recovered    16655\n",
    "Name: 588, dtype: int64"
   ]
  },
  {
   "cell_type": "markdown",
   "id": "1b17e428",
   "metadata": {},
   "source": [
    "nombre_infected       855\n",
    "nombre_sain          2083\n",
    "nombre_exposed        441\n",
    "nombre_recovered    16621\n",
    "Name: 589, dtype: int64"
   ]
  },
  {
   "cell_type": "markdown",
   "id": "e3ed9b0d",
   "metadata": {},
   "source": [
    "nombre_infected       850\n",
    "nombre_sain          2112\n",
    "nombre_exposed        436\n",
    "nombre_recovered    16602\n",
    "Name: 590, dtype: int64"
   ]
  },
  {
   "cell_type": "markdown",
   "id": "657ad5db",
   "metadata": {},
   "source": [
    "nombre_infected       837\n",
    "nombre_sain          2132\n",
    "nombre_exposed        432\n",
    "nombre_recovered    16599\n",
    "Name: 591, dtype: int64"
   ]
  },
  {
   "cell_type": "markdown",
   "id": "649aa28f",
   "metadata": {},
   "source": [
    "nombre_infected       829\n",
    "nombre_sain          2155\n",
    "nombre_exposed        434\n",
    "nombre_recovered    16582\n",
    "Name: 592, dtype: int64"
   ]
  },
  {
   "cell_type": "markdown",
   "id": "76099176",
   "metadata": {},
   "source": [
    "nombre_infected       821\n",
    "nombre_sain          2152\n",
    "nombre_exposed        468\n",
    "nombre_recovered    16559\n",
    "Name: 593, dtype: int64"
   ]
  },
  {
   "cell_type": "markdown",
   "id": "163fd642",
   "metadata": {},
   "source": [
    "nombre_infected       810\n",
    "nombre_sain          2164\n",
    "nombre_exposed        456\n",
    "nombre_recovered    16570\n",
    "Name: 594, dtype: int64"
   ]
  },
  {
   "cell_type": "markdown",
   "id": "7118a22c",
   "metadata": {},
   "source": [
    "nombre_infected       835\n",
    "nombre_sain          2167\n",
    "nombre_exposed        450\n",
    "nombre_recovered    16548\n",
    "Name: 595, dtype: int64"
   ]
  },
  {
   "cell_type": "markdown",
   "id": "bdb5f3a3",
   "metadata": {},
   "source": [
    "nombre_infected       862\n",
    "nombre_sain          2167\n",
    "nombre_exposed        444\n",
    "nombre_recovered    16527\n",
    "Name: 596, dtype: int64"
   ]
  },
  {
   "cell_type": "markdown",
   "id": "0629da08",
   "metadata": {},
   "source": [
    "nombre_infected       869\n",
    "nombre_sain          2165\n",
    "nombre_exposed        455\n",
    "nombre_recovered    16511\n",
    "Name: 597, dtype: int64"
   ]
  },
  {
   "cell_type": "markdown",
   "id": "4fcaeead",
   "metadata": {},
   "source": [
    "nombre_infected       870\n",
    "nombre_sain          2166\n",
    "nombre_exposed        452\n",
    "nombre_recovered    16512\n",
    "Name: 598, dtype: int64"
   ]
  },
  {
   "cell_type": "markdown",
   "id": "2fe2b9c8",
   "metadata": {},
   "source": [
    "nombre_infected       881\n",
    "nombre_sain          2178\n",
    "nombre_exposed        443\n",
    "nombre_recovered    16498\n",
    "Name: 599, dtype: int64"
   ]
  },
  {
   "cell_type": "markdown",
   "id": "aa3318c3",
   "metadata": {},
   "source": [
    "nombre_infected       876\n",
    "nombre_sain          2167\n",
    "nombre_exposed        453\n",
    "nombre_recovered    16504\n",
    "Name: 600, dtype: int64"
   ]
  },
  {
   "cell_type": "markdown",
   "id": "8c81e2d4",
   "metadata": {},
   "source": [
    "nombre_infected       873\n",
    "nombre_sain          2180\n",
    "nombre_exposed        467\n",
    "nombre_recovered    16480\n",
    "Name: 601, dtype: int64"
   ]
  },
  {
   "cell_type": "markdown",
   "id": "8049d8c7",
   "metadata": {},
   "source": [
    "nombre_infected       883\n",
    "nombre_sain          2186\n",
    "nombre_exposed        457\n",
    "nombre_recovered    16474\n",
    "Name: 602, dtype: int64"
   ]
  },
  {
   "cell_type": "markdown",
   "id": "a357831c",
   "metadata": {},
   "source": [
    "nombre_infected       877\n",
    "nombre_sain          2159\n",
    "nombre_exposed        485\n",
    "nombre_recovered    16479\n",
    "Name: 603, dtype: int64"
   ]
  },
  {
   "cell_type": "markdown",
   "id": "dbde66ad",
   "metadata": {},
   "source": [
    "nombre_infected       889\n",
    "nombre_sain          2179\n",
    "nombre_exposed        462\n",
    "nombre_recovered    16470\n",
    "Name: 604, dtype: int64"
   ]
  },
  {
   "cell_type": "markdown",
   "id": "2e761199",
   "metadata": {},
   "source": [
    "nombre_infected       912\n",
    "nombre_sain          2176\n",
    "nombre_exposed        442\n",
    "nombre_recovered    16470\n",
    "Name: 605, dtype: int64"
   ]
  },
  {
   "cell_type": "markdown",
   "id": "1a907a24",
   "metadata": {},
   "source": [
    "nombre_infected       897\n",
    "nombre_sain          2185\n",
    "nombre_exposed        451\n",
    "nombre_recovered    16467\n",
    "Name: 606, dtype: int64"
   ]
  },
  {
   "cell_type": "markdown",
   "id": "4167a414",
   "metadata": {},
   "source": [
    "nombre_infected       843\n",
    "nombre_sain          2180\n",
    "nombre_exposed        491\n",
    "nombre_recovered    16486\n",
    "Name: 607, dtype: int64"
   ]
  },
  {
   "cell_type": "markdown",
   "id": "e68ccd66",
   "metadata": {},
   "source": [
    "nombre_infected       840\n",
    "nombre_sain          2191\n",
    "nombre_exposed        487\n",
    "nombre_recovered    16482\n",
    "Name: 608, dtype: int64"
   ]
  },
  {
   "cell_type": "markdown",
   "id": "e32fc63c",
   "metadata": {},
   "source": [
    "nombre_infected       855\n",
    "nombre_sain          2215\n",
    "nombre_exposed        466\n",
    "nombre_recovered    16464\n",
    "Name: 609, dtype: int64"
   ]
  },
  {
   "cell_type": "markdown",
   "id": "59b60942",
   "metadata": {},
   "source": [
    "nombre_infected       872\n",
    "nombre_sain          2207\n",
    "nombre_exposed        465\n",
    "nombre_recovered    16456\n",
    "Name: 610, dtype: int64"
   ]
  },
  {
   "cell_type": "markdown",
   "id": "eeb19484",
   "metadata": {},
   "source": [
    "nombre_infected       887\n",
    "nombre_sain          2221\n",
    "nombre_exposed        461\n",
    "nombre_recovered    16431\n",
    "Name: 611, dtype: int64"
   ]
  },
  {
   "cell_type": "markdown",
   "id": "8ffd8f0c",
   "metadata": {},
   "source": [
    "nombre_infected       884\n",
    "nombre_sain          2209\n",
    "nombre_exposed        471\n",
    "nombre_recovered    16436\n",
    "Name: 612, dtype: int64"
   ]
  },
  {
   "cell_type": "markdown",
   "id": "97ac70fd",
   "metadata": {},
   "source": [
    "nombre_infected       861\n",
    "nombre_sain          2231\n",
    "nombre_exposed        485\n",
    "nombre_recovered    16423\n",
    "Name: 613, dtype: int64"
   ]
  },
  {
   "cell_type": "markdown",
   "id": "719c6d69",
   "metadata": {},
   "source": [
    "nombre_infected       859\n",
    "nombre_sain          2202\n",
    "nombre_exposed        521\n",
    "nombre_recovered    16418\n",
    "Name: 614, dtype: int64"
   ]
  },
  {
   "cell_type": "markdown",
   "id": "c62a89e6",
   "metadata": {},
   "source": [
    "nombre_infected       856\n",
    "nombre_sain          2222\n",
    "nombre_exposed        525\n",
    "nombre_recovered    16397\n",
    "Name: 615, dtype: int64"
   ]
  },
  {
   "cell_type": "markdown",
   "id": "28c22aad",
   "metadata": {},
   "source": [
    "nombre_infected       874\n",
    "nombre_sain          2226\n",
    "nombre_exposed        508\n",
    "nombre_recovered    16392\n",
    "Name: 616, dtype: int64"
   ]
  },
  {
   "cell_type": "markdown",
   "id": "0d0686cc",
   "metadata": {},
   "source": [
    "nombre_infected       891\n",
    "nombre_sain          2228\n",
    "nombre_exposed        508\n",
    "nombre_recovered    16373\n",
    "Name: 617, dtype: int64"
   ]
  },
  {
   "cell_type": "markdown",
   "id": "792568b1",
   "metadata": {},
   "source": [
    "nombre_infected       917\n",
    "nombre_sain          2225\n",
    "nombre_exposed        526\n",
    "nombre_recovered    16332\n",
    "Name: 618, dtype: int64"
   ]
  },
  {
   "cell_type": "markdown",
   "id": "fc1177a0",
   "metadata": {},
   "source": [
    "nombre_infected       910\n",
    "nombre_sain          2228\n",
    "nombre_exposed        553\n",
    "nombre_recovered    16309\n",
    "Name: 619, dtype: int64"
   ]
  },
  {
   "cell_type": "markdown",
   "id": "e238ac8d",
   "metadata": {},
   "source": [
    "nombre_infected       928\n",
    "nombre_sain          2204\n",
    "nombre_exposed        568\n",
    "nombre_recovered    16300\n",
    "Name: 620, dtype: int64"
   ]
  },
  {
   "cell_type": "markdown",
   "id": "2e581452",
   "metadata": {},
   "source": [
    "nombre_infected       937\n",
    "nombre_sain          2199\n",
    "nombre_exposed        563\n",
    "nombre_recovered    16301\n",
    "Name: 621, dtype: int64"
   ]
  },
  {
   "cell_type": "markdown",
   "id": "1b5d346a",
   "metadata": {},
   "source": [
    "nombre_infected       946\n",
    "nombre_sain          2195\n",
    "nombre_exposed        554\n",
    "nombre_recovered    16305\n",
    "Name: 622, dtype: int64"
   ]
  },
  {
   "cell_type": "markdown",
   "id": "248ea717",
   "metadata": {},
   "source": [
    "nombre_infected       938\n",
    "nombre_sain          2207\n",
    "nombre_exposed        538\n",
    "nombre_recovered    16317\n",
    "Name: 623, dtype: int64"
   ]
  },
  {
   "cell_type": "markdown",
   "id": "d0326bdf",
   "metadata": {},
   "source": [
    "nombre_infected       959\n",
    "nombre_sain          2209\n",
    "nombre_exposed        515\n",
    "nombre_recovered    16317\n",
    "Name: 624, dtype: int64"
   ]
  },
  {
   "cell_type": "markdown",
   "id": "d02e91f5",
   "metadata": {},
   "source": [
    "nombre_infected       968\n",
    "nombre_sain          2216\n",
    "nombre_exposed        528\n",
    "nombre_recovered    16288\n",
    "Name: 625, dtype: int64"
   ]
  },
  {
   "cell_type": "markdown",
   "id": "bf5e6b0c",
   "metadata": {},
   "source": [
    "nombre_infected       955\n",
    "nombre_sain          2198\n",
    "nombre_exposed        538\n",
    "nombre_recovered    16309\n",
    "Name: 626, dtype: int64"
   ]
  },
  {
   "cell_type": "markdown",
   "id": "feb85eb4",
   "metadata": {},
   "source": [
    "nombre_infected       945\n",
    "nombre_sain          2213\n",
    "nombre_exposed        526\n",
    "nombre_recovered    16316\n",
    "Name: 627, dtype: int64"
   ]
  },
  {
   "cell_type": "markdown",
   "id": "4e88945f",
   "metadata": {},
   "source": [
    "nombre_infected       944\n",
    "nombre_sain          2211\n",
    "nombre_exposed        522\n",
    "nombre_recovered    16323\n",
    "Name: 628, dtype: int64"
   ]
  },
  {
   "cell_type": "markdown",
   "id": "70ce74a6",
   "metadata": {},
   "source": [
    "nombre_infected       944\n",
    "nombre_sain          2216\n",
    "nombre_exposed        521\n",
    "nombre_recovered    16319\n",
    "Name: 629, dtype: int64"
   ]
  },
  {
   "cell_type": "markdown",
   "id": "180599a9",
   "metadata": {},
   "source": [
    "nombre_infected       939\n",
    "nombre_sain          2216\n",
    "nombre_exposed        525\n",
    "nombre_recovered    16320\n",
    "Name: 630, dtype: int64"
   ]
  },
  {
   "cell_type": "markdown",
   "id": "ce5a18c9",
   "metadata": {},
   "source": [
    "nombre_infected       930\n",
    "nombre_sain          2206\n",
    "nombre_exposed        535\n",
    "nombre_recovered    16329\n",
    "Name: 631, dtype: int64"
   ]
  },
  {
   "cell_type": "markdown",
   "id": "75456b6e",
   "metadata": {},
   "source": [
    "nombre_infected       942\n",
    "nombre_sain          2233\n",
    "nombre_exposed        507\n",
    "nombre_recovered    16318\n",
    "Name: 632, dtype: int64"
   ]
  },
  {
   "cell_type": "markdown",
   "id": "ac6afab8",
   "metadata": {},
   "source": [
    "nombre_infected       951\n",
    "nombre_sain          2204\n",
    "nombre_exposed        523\n",
    "nombre_recovered    16322\n",
    "Name: 633, dtype: int64"
   ]
  },
  {
   "cell_type": "markdown",
   "id": "108aa008",
   "metadata": {},
   "source": [
    "nombre_infected       947\n",
    "nombre_sain          2185\n",
    "nombre_exposed        522\n",
    "nombre_recovered    16346\n",
    "Name: 634, dtype: int64"
   ]
  },
  {
   "cell_type": "markdown",
   "id": "a19c593d",
   "metadata": {},
   "source": [
    "nombre_infected       935\n",
    "nombre_sain          2172\n",
    "nombre_exposed        546\n",
    "nombre_recovered    16347\n",
    "Name: 635, dtype: int64"
   ]
  },
  {
   "cell_type": "markdown",
   "id": "67063e55",
   "metadata": {},
   "source": [
    "nombre_infected       926\n",
    "nombre_sain          2144\n",
    "nombre_exposed        563\n",
    "nombre_recovered    16367\n",
    "Name: 636, dtype: int64"
   ]
  },
  {
   "cell_type": "markdown",
   "id": "0ca23768",
   "metadata": {},
   "source": [
    "nombre_infected       928\n",
    "nombre_sain          2138\n",
    "nombre_exposed        562\n",
    "nombre_recovered    16372\n",
    "Name: 637, dtype: int64"
   ]
  },
  {
   "cell_type": "markdown",
   "id": "e3559b13",
   "metadata": {},
   "source": [
    "nombre_infected       933\n",
    "nombre_sain          2133\n",
    "nombre_exposed        551\n",
    "nombre_recovered    16383\n",
    "Name: 638, dtype: int64"
   ]
  },
  {
   "cell_type": "markdown",
   "id": "0499adcf",
   "metadata": {},
   "source": [
    "nombre_infected       932\n",
    "nombre_sain          2104\n",
    "nombre_exposed        567\n",
    "nombre_recovered    16397\n",
    "Name: 639, dtype: int64"
   ]
  },
  {
   "cell_type": "markdown",
   "id": "3c307f37",
   "metadata": {},
   "source": [
    "nombre_infected       924\n",
    "nombre_sain          2109\n",
    "nombre_exposed        554\n",
    "nombre_recovered    16413\n",
    "Name: 640, dtype: int64"
   ]
  },
  {
   "cell_type": "markdown",
   "id": "e9c9ec00",
   "metadata": {},
   "source": [
    "nombre_infected       932\n",
    "nombre_sain          2111\n",
    "nombre_exposed        557\n",
    "nombre_recovered    16400\n",
    "Name: 641, dtype: int64"
   ]
  },
  {
   "cell_type": "markdown",
   "id": "ce741b0c",
   "metadata": {},
   "source": [
    "nombre_infected       942\n",
    "nombre_sain          2106\n",
    "nombre_exposed        553\n",
    "nombre_recovered    16399\n",
    "Name: 642, dtype: int64"
   ]
  },
  {
   "cell_type": "markdown",
   "id": "2621bba1",
   "metadata": {},
   "source": [
    "nombre_infected       935\n",
    "nombre_sain          2113\n",
    "nombre_exposed        553\n",
    "nombre_recovered    16399\n",
    "Name: 643, dtype: int64"
   ]
  },
  {
   "cell_type": "markdown",
   "id": "95ddba18",
   "metadata": {},
   "source": [
    "nombre_infected       945\n",
    "nombre_sain          2137\n",
    "nombre_exposed        527\n",
    "nombre_recovered    16391\n",
    "Name: 644, dtype: int64"
   ]
  },
  {
   "cell_type": "markdown",
   "id": "713d7d28",
   "metadata": {},
   "source": [
    "nombre_infected       963\n",
    "nombre_sain          2133\n",
    "nombre_exposed        517\n",
    "nombre_recovered    16387\n",
    "Name: 645, dtype: int64"
   ]
  },
  {
   "cell_type": "markdown",
   "id": "4ea46793",
   "metadata": {},
   "source": [
    "nombre_infected       937\n",
    "nombre_sain          2142\n",
    "nombre_exposed        538\n",
    "nombre_recovered    16383\n",
    "Name: 646, dtype: int64"
   ]
  },
  {
   "cell_type": "markdown",
   "id": "276d4c7a",
   "metadata": {},
   "source": [
    "nombre_infected       912\n",
    "nombre_sain          2125\n",
    "nombre_exposed        561\n",
    "nombre_recovered    16402\n",
    "Name: 647, dtype: int64"
   ]
  },
  {
   "cell_type": "markdown",
   "id": "ad2db4ab",
   "metadata": {},
   "source": [
    "nombre_infected       911\n",
    "nombre_sain          2121\n",
    "nombre_exposed        553\n",
    "nombre_recovered    16415\n",
    "Name: 648, dtype: int64"
   ]
  },
  {
   "cell_type": "markdown",
   "id": "fdf981cd",
   "metadata": {},
   "source": [
    "nombre_infected       931\n",
    "nombre_sain          2121\n",
    "nombre_exposed        545\n",
    "nombre_recovered    16403\n",
    "Name: 649, dtype: int64"
   ]
  },
  {
   "cell_type": "markdown",
   "id": "36c824b2",
   "metadata": {},
   "source": [
    "nombre_infected       932\n",
    "nombre_sain          2126\n",
    "nombre_exposed        528\n",
    "nombre_recovered    16414\n",
    "Name: 650, dtype: int64"
   ]
  },
  {
   "cell_type": "markdown",
   "id": "8323d39b",
   "metadata": {},
   "source": [
    "nombre_infected       913\n",
    "nombre_sain          2144\n",
    "nombre_exposed        524\n",
    "nombre_recovered    16419\n",
    "Name: 651, dtype: int64"
   ]
  },
  {
   "cell_type": "markdown",
   "id": "1805f379",
   "metadata": {},
   "source": [
    "nombre_infected       939\n",
    "nombre_sain          2142\n",
    "nombre_exposed        496\n",
    "nombre_recovered    16423\n",
    "Name: 652, dtype: int64"
   ]
  },
  {
   "cell_type": "markdown",
   "id": "86f084d9",
   "metadata": {},
   "source": [
    "nombre_infected       939\n",
    "nombre_sain          2130\n",
    "nombre_exposed        478\n",
    "nombre_recovered    16453\n",
    "Name: 653, dtype: int64"
   ]
  },
  {
   "cell_type": "markdown",
   "id": "8bda0561",
   "metadata": {},
   "source": [
    "nombre_infected       913\n",
    "nombre_sain          2142\n",
    "nombre_exposed        491\n",
    "nombre_recovered    16454\n",
    "Name: 654, dtype: int64"
   ]
  },
  {
   "cell_type": "markdown",
   "id": "ef547f68",
   "metadata": {},
   "source": [
    "nombre_infected       907\n",
    "nombre_sain          2135\n",
    "nombre_exposed        502\n",
    "nombre_recovered    16456\n",
    "Name: 655, dtype: int64"
   ]
  },
  {
   "cell_type": "markdown",
   "id": "a31c6906",
   "metadata": {},
   "source": [
    "nombre_infected       916\n",
    "nombre_sain          2123\n",
    "nombre_exposed        507\n",
    "nombre_recovered    16454\n",
    "Name: 656, dtype: int64"
   ]
  },
  {
   "cell_type": "markdown",
   "id": "93038b31",
   "metadata": {},
   "source": [
    "nombre_infected       911\n",
    "nombre_sain          2114\n",
    "nombre_exposed        510\n",
    "nombre_recovered    16465\n",
    "Name: 657, dtype: int64"
   ]
  },
  {
   "cell_type": "markdown",
   "id": "661aa826",
   "metadata": {},
   "source": [
    "nombre_infected       886\n",
    "nombre_sain          2098\n",
    "nombre_exposed        521\n",
    "nombre_recovered    16495\n",
    "Name: 658, dtype: int64"
   ]
  },
  {
   "cell_type": "markdown",
   "id": "39f2c66e",
   "metadata": {},
   "source": [
    "nombre_infected       902\n",
    "nombre_sain          2063\n",
    "nombre_exposed        514\n",
    "nombre_recovered    16521\n",
    "Name: 659, dtype: int64"
   ]
  },
  {
   "cell_type": "markdown",
   "id": "ac63eed8",
   "metadata": {},
   "source": [
    "nombre_infected       882\n",
    "nombre_sain          2062\n",
    "nombre_exposed        523\n",
    "nombre_recovered    16533\n",
    "Name: 660, dtype: int64"
   ]
  },
  {
   "cell_type": "markdown",
   "id": "40a51b29",
   "metadata": {},
   "source": [
    "nombre_infected       907\n",
    "nombre_sain          2047\n",
    "nombre_exposed        504\n",
    "nombre_recovered    16542\n",
    "Name: 661, dtype: int64"
   ]
  },
  {
   "cell_type": "markdown",
   "id": "d2316595",
   "metadata": {},
   "source": [
    "nombre_infected       910\n",
    "nombre_sain          2020\n",
    "nombre_exposed        505\n",
    "nombre_recovered    16565\n",
    "Name: 662, dtype: int64"
   ]
  },
  {
   "cell_type": "markdown",
   "id": "ca5e7259",
   "metadata": {},
   "source": [
    "nombre_infected       890\n",
    "nombre_sain          2043\n",
    "nombre_exposed        489\n",
    "nombre_recovered    16578\n",
    "Name: 663, dtype: int64"
   ]
  },
  {
   "cell_type": "markdown",
   "id": "f3b80b16",
   "metadata": {},
   "source": [
    "nombre_infected       881\n",
    "nombre_sain          2038\n",
    "nombre_exposed        494\n",
    "nombre_recovered    16587\n",
    "Name: 664, dtype: int64"
   ]
  },
  {
   "cell_type": "markdown",
   "id": "7162149c",
   "metadata": {},
   "source": [
    "nombre_infected       863\n",
    "nombre_sain          2006\n",
    "nombre_exposed        502\n",
    "nombre_recovered    16629\n",
    "Name: 665, dtype: int64"
   ]
  },
  {
   "cell_type": "markdown",
   "id": "b34e13ce",
   "metadata": {},
   "source": [
    "nombre_infected       867\n",
    "nombre_sain          1976\n",
    "nombre_exposed        504\n",
    "nombre_recovered    16653\n",
    "Name: 666, dtype: int64"
   ]
  },
  {
   "cell_type": "markdown",
   "id": "1b191a6c",
   "metadata": {},
   "source": [
    "nombre_infected       853\n",
    "nombre_sain          2003\n",
    "nombre_exposed        491\n",
    "nombre_recovered    16653\n",
    "Name: 667, dtype: int64"
   ]
  },
  {
   "cell_type": "markdown",
   "id": "977557f4",
   "metadata": {},
   "source": [
    "nombre_infected       875\n",
    "nombre_sain          2023\n",
    "nombre_exposed        458\n",
    "nombre_recovered    16644\n",
    "Name: 668, dtype: int64"
   ]
  },
  {
   "cell_type": "markdown",
   "id": "8226ecc3",
   "metadata": {},
   "source": [
    "nombre_infected       874\n",
    "nombre_sain          2060\n",
    "nombre_exposed        434\n",
    "nombre_recovered    16632\n",
    "Name: 669, dtype: int64"
   ]
  },
  {
   "cell_type": "markdown",
   "id": "652c237b",
   "metadata": {},
   "source": [
    "nombre_infected       872\n",
    "nombre_sain          2074\n",
    "nombre_exposed        445\n",
    "nombre_recovered    16609\n",
    "Name: 670, dtype: int64"
   ]
  },
  {
   "cell_type": "markdown",
   "id": "eabef1e7",
   "metadata": {},
   "source": [
    "nombre_infected       853\n",
    "nombre_sain          2073\n",
    "nombre_exposed        444\n",
    "nombre_recovered    16630\n",
    "Name: 671, dtype: int64"
   ]
  },
  {
   "cell_type": "markdown",
   "id": "27275be0",
   "metadata": {},
   "source": [
    "nombre_infected       840\n",
    "nombre_sain          2077\n",
    "nombre_exposed        438\n",
    "nombre_recovered    16645\n",
    "Name: 672, dtype: int64"
   ]
  },
  {
   "cell_type": "markdown",
   "id": "5e1ec0aa",
   "metadata": {},
   "source": [
    "nombre_infected       825\n",
    "nombre_sain          2079\n",
    "nombre_exposed        434\n",
    "nombre_recovered    16662\n",
    "Name: 673, dtype: int64"
   ]
  },
  {
   "cell_type": "markdown",
   "id": "2886fbf1",
   "metadata": {},
   "source": [
    "nombre_infected       804\n",
    "nombre_sain          2096\n",
    "nombre_exposed        424\n",
    "nombre_recovered    16676\n",
    "Name: 674, dtype: int64"
   ]
  },
  {
   "cell_type": "markdown",
   "id": "d87f830c",
   "metadata": {},
   "source": [
    "nombre_infected       800\n",
    "nombre_sain          2119\n",
    "nombre_exposed        417\n",
    "nombre_recovered    16664\n",
    "Name: 675, dtype: int64"
   ]
  },
  {
   "cell_type": "markdown",
   "id": "bc2ba2a5",
   "metadata": {},
   "source": [
    "nombre_infected       794\n",
    "nombre_sain          2139\n",
    "nombre_exposed        439\n",
    "nombre_recovered    16628\n",
    "Name: 676, dtype: int64"
   ]
  },
  {
   "cell_type": "markdown",
   "id": "4c158aab",
   "metadata": {},
   "source": [
    "nombre_infected       771\n",
    "nombre_sain          2131\n",
    "nombre_exposed        451\n",
    "nombre_recovered    16647\n",
    "Name: 677, dtype: int64"
   ]
  },
  {
   "cell_type": "markdown",
   "id": "08530992",
   "metadata": {},
   "source": [
    "nombre_infected       768\n",
    "nombre_sain          2125\n",
    "nombre_exposed        458\n",
    "nombre_recovered    16649\n",
    "Name: 678, dtype: int64"
   ]
  },
  {
   "cell_type": "markdown",
   "id": "3b3d933d",
   "metadata": {},
   "source": [
    "nombre_infected       753\n",
    "nombre_sain          2144\n",
    "nombre_exposed        455\n",
    "nombre_recovered    16648\n",
    "Name: 679, dtype: int64"
   ]
  },
  {
   "cell_type": "markdown",
   "id": "b6d94600",
   "metadata": {},
   "source": [
    "nombre_infected       766\n",
    "nombre_sain          2171\n",
    "nombre_exposed        453\n",
    "nombre_recovered    16610\n",
    "Name: 680, dtype: int64"
   ]
  },
  {
   "cell_type": "markdown",
   "id": "2b13c442",
   "metadata": {},
   "source": [
    "nombre_infected       776\n",
    "nombre_sain          2219\n",
    "nombre_exposed        431\n",
    "nombre_recovered    16574\n",
    "Name: 681, dtype: int64"
   ]
  },
  {
   "cell_type": "markdown",
   "id": "64c40a12",
   "metadata": {},
   "source": [
    "nombre_infected       784\n",
    "nombre_sain          2228\n",
    "nombre_exposed        449\n",
    "nombre_recovered    16539\n",
    "Name: 682, dtype: int64"
   ]
  },
  {
   "cell_type": "markdown",
   "id": "03497526",
   "metadata": {},
   "source": [
    "nombre_infected       767\n",
    "nombre_sain          2237\n",
    "nombre_exposed        464\n",
    "nombre_recovered    16532\n",
    "Name: 683, dtype: int64"
   ]
  },
  {
   "cell_type": "markdown",
   "id": "52982a90",
   "metadata": {},
   "source": [
    "nombre_infected       790\n",
    "nombre_sain          2243\n",
    "nombre_exposed        471\n",
    "nombre_recovered    16496\n",
    "Name: 684, dtype: int64"
   ]
  },
  {
   "cell_type": "markdown",
   "id": "ccb02cd8",
   "metadata": {},
   "source": [
    "nombre_infected       783\n",
    "nombre_sain          2276\n",
    "nombre_exposed        460\n",
    "nombre_recovered    16481\n",
    "Name: 685, dtype: int64"
   ]
  },
  {
   "cell_type": "markdown",
   "id": "bec7a128",
   "metadata": {},
   "source": [
    "nombre_infected       785\n",
    "nombre_sain          2282\n",
    "nombre_exposed        481\n",
    "nombre_recovered    16452\n",
    "Name: 686, dtype: int64"
   ]
  },
  {
   "cell_type": "markdown",
   "id": "61fd7029",
   "metadata": {},
   "source": [
    "nombre_infected       804\n",
    "nombre_sain          2296\n",
    "nombre_exposed        485\n",
    "nombre_recovered    16415\n",
    "Name: 687, dtype: int64"
   ]
  },
  {
   "cell_type": "markdown",
   "id": "c4bb7152",
   "metadata": {},
   "source": [
    "nombre_infected       791\n",
    "nombre_sain          2312\n",
    "nombre_exposed        503\n",
    "nombre_recovered    16394\n",
    "Name: 688, dtype: int64"
   ]
  },
  {
   "cell_type": "markdown",
   "id": "0441c2e2",
   "metadata": {},
   "source": [
    "nombre_infected       789\n",
    "nombre_sain          2310\n",
    "nombre_exposed        514\n",
    "nombre_recovered    16387\n",
    "Name: 689, dtype: int64"
   ]
  },
  {
   "cell_type": "markdown",
   "id": "0fc9af7a",
   "metadata": {},
   "source": [
    "nombre_infected       792\n",
    "nombre_sain          2371\n",
    "nombre_exposed        495\n",
    "nombre_recovered    16342\n",
    "Name: 690, dtype: int64"
   ]
  },
  {
   "cell_type": "markdown",
   "id": "6417181a",
   "metadata": {},
   "source": [
    "nombre_infected       794\n",
    "nombre_sain          2385\n",
    "nombre_exposed        510\n",
    "nombre_recovered    16311\n",
    "Name: 691, dtype: int64"
   ]
  },
  {
   "cell_type": "markdown",
   "id": "83ea1bd2",
   "metadata": {},
   "source": [
    "nombre_infected       811\n",
    "nombre_sain          2394\n",
    "nombre_exposed        490\n",
    "nombre_recovered    16305\n",
    "Name: 692, dtype: int64"
   ]
  },
  {
   "cell_type": "markdown",
   "id": "99325700",
   "metadata": {},
   "source": [
    "nombre_infected       797\n",
    "nombre_sain          2404\n",
    "nombre_exposed        504\n",
    "nombre_recovered    16295\n",
    "Name: 693, dtype: int64"
   ]
  },
  {
   "cell_type": "markdown",
   "id": "09ae8896",
   "metadata": {},
   "source": [
    "nombre_infected       811\n",
    "nombre_sain          2425\n",
    "nombre_exposed        496\n",
    "nombre_recovered    16268\n",
    "Name: 694, dtype: int64"
   ]
  },
  {
   "cell_type": "markdown",
   "id": "1367a1c0",
   "metadata": {},
   "source": [
    "nombre_infected       817\n",
    "nombre_sain          2405\n",
    "nombre_exposed        513\n",
    "nombre_recovered    16265\n",
    "Name: 695, dtype: int64"
   ]
  },
  {
   "cell_type": "markdown",
   "id": "856bed4a",
   "metadata": {},
   "source": [
    "nombre_infected       796\n",
    "nombre_sain          2419\n",
    "nombre_exposed        540\n",
    "nombre_recovered    16245\n",
    "Name: 696, dtype: int64"
   ]
  },
  {
   "cell_type": "markdown",
   "id": "4a31a3ac",
   "metadata": {},
   "source": [
    "nombre_infected       822\n",
    "nombre_sain          2403\n",
    "nombre_exposed        538\n",
    "nombre_recovered    16237\n",
    "Name: 697, dtype: int64"
   ]
  },
  {
   "cell_type": "markdown",
   "id": "ba273479",
   "metadata": {},
   "source": [
    "nombre_infected       828\n",
    "nombre_sain          2384\n",
    "nombre_exposed        544\n",
    "nombre_recovered    16244\n",
    "Name: 698, dtype: int64"
   ]
  },
  {
   "cell_type": "markdown",
   "id": "6fe16c34",
   "metadata": {},
   "source": [
    "nombre_infected       822\n",
    "nombre_sain          2364\n",
    "nombre_exposed        587\n",
    "nombre_recovered    16227\n",
    "Name: 699, dtype: int64"
   ]
  },
  {
   "cell_type": "markdown",
   "id": "2a9732ab",
   "metadata": {},
   "source": [
    "nombre_infected       817\n",
    "nombre_sain          2394\n",
    "nombre_exposed        582\n",
    "nombre_recovered    16207\n",
    "Name: 700, dtype: int64"
   ]
  },
  {
   "cell_type": "markdown",
   "id": "9dd7b109",
   "metadata": {},
   "source": [
    "nombre_infected       839\n",
    "nombre_sain          2395\n",
    "nombre_exposed        582\n",
    "nombre_recovered    16184\n",
    "Name: 701, dtype: int64"
   ]
  },
  {
   "cell_type": "markdown",
   "id": "f3d1f46a",
   "metadata": {},
   "source": [
    "nombre_infected       844\n",
    "nombre_sain          2383\n",
    "nombre_exposed        557\n",
    "nombre_recovered    16216\n",
    "Name: 702, dtype: int64"
   ]
  },
  {
   "cell_type": "markdown",
   "id": "0bb8ab15",
   "metadata": {},
   "source": [
    "nombre_infected       852\n",
    "nombre_sain          2365\n",
    "nombre_exposed        564\n",
    "nombre_recovered    16219\n",
    "Name: 703, dtype: int64"
   ]
  },
  {
   "cell_type": "markdown",
   "id": "eb4916af",
   "metadata": {},
   "source": [
    "nombre_infected       855\n",
    "nombre_sain          2346\n",
    "nombre_exposed        590\n",
    "nombre_recovered    16209\n",
    "Name: 704, dtype: int64"
   ]
  },
  {
   "cell_type": "markdown",
   "id": "928d4492",
   "metadata": {},
   "source": [
    "nombre_infected       839\n",
    "nombre_sain          2331\n",
    "nombre_exposed        591\n",
    "nombre_recovered    16239\n",
    "Name: 705, dtype: int64"
   ]
  },
  {
   "cell_type": "markdown",
   "id": "c5ffb04b",
   "metadata": {},
   "source": [
    "nombre_infected       855\n",
    "nombre_sain          2339\n",
    "nombre_exposed        564\n",
    "nombre_recovered    16242\n",
    "Name: 706, dtype: int64"
   ]
  },
  {
   "cell_type": "markdown",
   "id": "c566907c",
   "metadata": {},
   "source": [
    "nombre_infected       869\n",
    "nombre_sain          2319\n",
    "nombre_exposed        595\n",
    "nombre_recovered    16217\n",
    "Name: 707, dtype: int64"
   ]
  },
  {
   "cell_type": "markdown",
   "id": "a0e6a73c",
   "metadata": {},
   "source": [
    "nombre_infected       878\n",
    "nombre_sain          2296\n",
    "nombre_exposed        595\n",
    "nombre_recovered    16231\n",
    "Name: 708, dtype: int64"
   ]
  },
  {
   "cell_type": "markdown",
   "id": "d1da5d79",
   "metadata": {},
   "source": [
    "nombre_infected       922\n",
    "nombre_sain          2287\n",
    "nombre_exposed        578\n",
    "nombre_recovered    16213\n",
    "Name: 709, dtype: int64"
   ]
  },
  {
   "cell_type": "markdown",
   "id": "b388ea0d",
   "metadata": {},
   "source": [
    "nombre_infected       934\n",
    "nombre_sain          2292\n",
    "nombre_exposed        563\n",
    "nombre_recovered    16211\n",
    "Name: 710, dtype: int64"
   ]
  },
  {
   "cell_type": "markdown",
   "id": "327fa0a2",
   "metadata": {},
   "source": [
    "nombre_infected       947\n",
    "nombre_sain          2267\n",
    "nombre_exposed        557\n",
    "nombre_recovered    16229\n",
    "Name: 711, dtype: int64"
   ]
  },
  {
   "cell_type": "markdown",
   "id": "8bf2451a",
   "metadata": {},
   "source": [
    "nombre_infected       956\n",
    "nombre_sain          2247\n",
    "nombre_exposed        535\n",
    "nombre_recovered    16262\n",
    "Name: 712, dtype: int64"
   ]
  },
  {
   "cell_type": "markdown",
   "id": "e3594f2d",
   "metadata": {},
   "source": [
    "nombre_infected       933\n",
    "nombre_sain          2233\n",
    "nombre_exposed        567\n",
    "nombre_recovered    16267\n",
    "Name: 713, dtype: int64"
   ]
  },
  {
   "cell_type": "markdown",
   "id": "c07e0d97",
   "metadata": {},
   "source": [
    "nombre_infected       936\n",
    "nombre_sain          2223\n",
    "nombre_exposed        559\n",
    "nombre_recovered    16282\n",
    "Name: 714, dtype: int64"
   ]
  },
  {
   "cell_type": "markdown",
   "id": "9e14c313",
   "metadata": {},
   "source": [
    "nombre_infected       937\n",
    "nombre_sain          2205\n",
    "nombre_exposed        567\n",
    "nombre_recovered    16291\n",
    "Name: 715, dtype: int64"
   ]
  },
  {
   "cell_type": "markdown",
   "id": "22941961",
   "metadata": {},
   "source": [
    "nombre_infected       957\n",
    "nombre_sain          2177\n",
    "nombre_exposed        552\n",
    "nombre_recovered    16314\n",
    "Name: 716, dtype: int64"
   ]
  },
  {
   "cell_type": "markdown",
   "id": "901c9655",
   "metadata": {},
   "source": [
    "nombre_infected       963\n",
    "nombre_sain          2184\n",
    "nombre_exposed        547\n",
    "nombre_recovered    16306\n",
    "Name: 717, dtype: int64"
   ]
  },
  {
   "cell_type": "markdown",
   "id": "8c142b0c",
   "metadata": {},
   "source": [
    "nombre_infected       972\n",
    "nombre_sain          2160\n",
    "nombre_exposed        547\n",
    "nombre_recovered    16321\n",
    "Name: 718, dtype: int64"
   ]
  },
  {
   "cell_type": "markdown",
   "id": "b9854179",
   "metadata": {},
   "source": [
    "nombre_infected       960\n",
    "nombre_sain          2172\n",
    "nombre_exposed        539\n",
    "nombre_recovered    16329\n",
    "Name: 719, dtype: int64"
   ]
  },
  {
   "cell_type": "markdown",
   "id": "6ce4734f",
   "metadata": {},
   "source": [
    "nombre_infected       972\n",
    "nombre_sain          2161\n",
    "nombre_exposed        545\n",
    "nombre_recovered    16322\n",
    "Name: 720, dtype: int64"
   ]
  },
  {
   "cell_type": "markdown",
   "id": "112217d6",
   "metadata": {},
   "source": [
    "nombre_infected       957\n",
    "nombre_sain          2184\n",
    "nombre_exposed        536\n",
    "nombre_recovered    16323\n",
    "Name: 721, dtype: int64"
   ]
  },
  {
   "cell_type": "markdown",
   "id": "0b8d3c59",
   "metadata": {},
   "source": [
    "nombre_infected       973\n",
    "nombre_sain          2175\n",
    "nombre_exposed        533\n",
    "nombre_recovered    16319\n",
    "Name: 722, dtype: int64"
   ]
  },
  {
   "cell_type": "markdown",
   "id": "f31c2114",
   "metadata": {},
   "source": [
    "nombre_infected       989\n",
    "nombre_sain          2158\n",
    "nombre_exposed        552\n",
    "nombre_recovered    16301\n",
    "Name: 723, dtype: int64"
   ]
  },
  {
   "cell_type": "markdown",
   "id": "90b11bb9",
   "metadata": {},
   "source": [
    "nombre_infected       993\n",
    "nombre_sain          2145\n",
    "nombre_exposed        554\n",
    "nombre_recovered    16308\n",
    "Name: 724, dtype: int64"
   ]
  },
  {
   "cell_type": "markdown",
   "id": "4ef41cfb",
   "metadata": {},
   "source": [
    "nombre_infected       999\n",
    "nombre_sain          2112\n",
    "nombre_exposed        561\n",
    "nombre_recovered    16328\n",
    "Name: 725, dtype: int64"
   ]
  },
  {
   "cell_type": "markdown",
   "id": "11a2a3fd",
   "metadata": {},
   "source": [
    "nombre_infected       991\n",
    "nombre_sain          2092\n",
    "nombre_exposed        574\n",
    "nombre_recovered    16343\n",
    "Name: 726, dtype: int64"
   ]
  },
  {
   "cell_type": "markdown",
   "id": "04962a57",
   "metadata": {},
   "source": [
    "nombre_infected      1011\n",
    "nombre_sain          2071\n",
    "nombre_exposed        554\n",
    "nombre_recovered    16364\n",
    "Name: 727, dtype: int64"
   ]
  },
  {
   "cell_type": "markdown",
   "id": "352db950",
   "metadata": {},
   "source": [
    "nombre_infected       989\n",
    "nombre_sain          2039\n",
    "nombre_exposed        560\n",
    "nombre_recovered    16412\n",
    "Name: 728, dtype: int64"
   ]
  },
  {
   "cell_type": "markdown",
   "id": "a6aa8948",
   "metadata": {},
   "source": [
    "nombre_infected       990\n",
    "nombre_sain          2017\n",
    "nombre_exposed        562\n",
    "nombre_recovered    16431\n",
    "Name: 729, dtype: int64"
   ]
  },
  {
   "cell_type": "markdown",
   "id": "a4ab557f",
   "metadata": {},
   "source": [
    "nombre_infected      1007\n",
    "nombre_sain          2016\n",
    "nombre_exposed        548\n",
    "nombre_recovered    16429\n",
    "Name: 730, dtype: int64"
   ]
  }
 ],
 "metadata": {},
 "nbformat": 4,
 "nbformat_minor": 5
}
