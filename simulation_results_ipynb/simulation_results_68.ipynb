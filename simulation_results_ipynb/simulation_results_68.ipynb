{
 "cells": [
  {
   "cell_type": "markdown",
   "id": "a8f83e0a",
   "metadata": {},
   "source": [
    "nombre_infected        20\n",
    "nombre_sain         19980\n",
    "nombre_exposed          0\n",
    "nombre_recovered        0\n",
    "Name: 0, dtype: int64"
   ]
  },
  {
   "cell_type": "markdown",
   "id": "3e74db75",
   "metadata": {},
   "source": [
    "nombre_infected        20\n",
    "nombre_sain         19960\n",
    "nombre_exposed         20\n",
    "nombre_recovered        0\n",
    "Name: 1, dtype: int64"
   ]
  },
  {
   "cell_type": "markdown",
   "id": "87b930c4",
   "metadata": {},
   "source": [
    "nombre_infected        20\n",
    "nombre_sain         19939\n",
    "nombre_exposed         41\n",
    "nombre_recovered        0\n",
    "Name: 2, dtype: int64"
   ]
  },
  {
   "cell_type": "markdown",
   "id": "b92586a2",
   "metadata": {},
   "source": [
    "nombre_infected        32\n",
    "nombre_sain         19899\n",
    "nombre_exposed         69\n",
    "nombre_recovered        0\n",
    "Name: 3, dtype: int64"
   ]
  },
  {
   "cell_type": "markdown",
   "id": "f8784775",
   "metadata": {},
   "source": [
    "nombre_infected        41\n",
    "nombre_sain         19861\n",
    "nombre_exposed         98\n",
    "nombre_recovered        0\n",
    "Name: 4, dtype: int64"
   ]
  },
  {
   "cell_type": "markdown",
   "id": "0df875fd",
   "metadata": {},
   "source": [
    "nombre_infected        56\n",
    "nombre_sain         19796\n",
    "nombre_exposed        148\n",
    "nombre_recovered        0\n",
    "Name: 5, dtype: int64"
   ]
  },
  {
   "cell_type": "markdown",
   "id": "2d09b6b1",
   "metadata": {},
   "source": [
    "nombre_infected        79\n",
    "nombre_sain         19719\n",
    "nombre_exposed        199\n",
    "nombre_recovered        3\n",
    "Name: 6, dtype: int64"
   ]
  },
  {
   "cell_type": "markdown",
   "id": "32c63477",
   "metadata": {},
   "source": [
    "nombre_infected       101\n",
    "nombre_sain         19604\n",
    "nombre_exposed        287\n",
    "nombre_recovered        8\n",
    "Name: 7, dtype: int64"
   ]
  },
  {
   "cell_type": "markdown",
   "id": "b7f93694",
   "metadata": {},
   "source": [
    "nombre_infected       137\n",
    "nombre_sain         19466\n",
    "nombre_exposed        382\n",
    "nombre_recovered       15\n",
    "Name: 8, dtype: int64"
   ]
  },
  {
   "cell_type": "markdown",
   "id": "ea4ddb22",
   "metadata": {},
   "source": [
    "nombre_infected       190\n",
    "nombre_sain         19283\n",
    "nombre_exposed        500\n",
    "nombre_recovered       27\n",
    "Name: 9, dtype: int64"
   ]
  },
  {
   "cell_type": "markdown",
   "id": "36852415",
   "metadata": {},
   "source": [
    "nombre_infected       271\n",
    "nombre_sain         19028\n",
    "nombre_exposed        659\n",
    "nombre_recovered       42\n",
    "Name: 10, dtype: int64"
   ]
  },
  {
   "cell_type": "markdown",
   "id": "c6b3a2da",
   "metadata": {},
   "source": [
    "nombre_infected       357\n",
    "nombre_sain         18652\n",
    "nombre_exposed        916\n",
    "nombre_recovered       75\n",
    "Name: 11, dtype: int64"
   ]
  },
  {
   "cell_type": "markdown",
   "id": "7befed25",
   "metadata": {},
   "source": [
    "nombre_infected       504\n",
    "nombre_sain         18183\n",
    "nombre_exposed       1207\n",
    "nombre_recovered      106\n",
    "Name: 12, dtype: int64"
   ]
  },
  {
   "cell_type": "markdown",
   "id": "da3488c0",
   "metadata": {},
   "source": [
    "nombre_infected       686\n",
    "nombre_sain         17533\n",
    "nombre_exposed       1641\n",
    "nombre_recovered      140\n",
    "Name: 13, dtype: int64"
   ]
  },
  {
   "cell_type": "markdown",
   "id": "b3970fc8",
   "metadata": {},
   "source": [
    "nombre_infected       919\n",
    "nombre_sain         16705\n",
    "nombre_exposed       2173\n",
    "nombre_recovered      203\n",
    "Name: 14, dtype: int64"
   ]
  },
  {
   "cell_type": "markdown",
   "id": "2a10bbc1",
   "metadata": {},
   "source": [
    "nombre_infected      1174\n",
    "nombre_sain         15691\n",
    "nombre_exposed       2857\n",
    "nombre_recovered      278\n",
    "Name: 15, dtype: int64"
   ]
  },
  {
   "cell_type": "markdown",
   "id": "2599a520",
   "metadata": {},
   "source": [
    "nombre_infected      1608\n",
    "nombre_sain         14469\n",
    "nombre_exposed       3555\n",
    "nombre_recovered      368\n",
    "Name: 16, dtype: int64"
   ]
  },
  {
   "cell_type": "markdown",
   "id": "72fc543a",
   "metadata": {},
   "source": [
    "nombre_infected      2155\n",
    "nombre_sain         13045\n",
    "nombre_exposed       4283\n",
    "nombre_recovered      517\n",
    "Name: 17, dtype: int64"
   ]
  },
  {
   "cell_type": "markdown",
   "id": "1b0bafc9",
   "metadata": {},
   "source": [
    "nombre_infected      2804\n",
    "nombre_sain         11336\n",
    "nombre_exposed       5128\n",
    "nombre_recovered      732\n",
    "Name: 18, dtype: int64"
   ]
  },
  {
   "cell_type": "markdown",
   "id": "e6566d83",
   "metadata": {},
   "source": [
    "nombre_infected     3555\n",
    "nombre_sain         9579\n",
    "nombre_exposed      5861\n",
    "nombre_recovered    1005\n",
    "Name: 19, dtype: int64"
   ]
  },
  {
   "cell_type": "markdown",
   "id": "537fc783",
   "metadata": {},
   "source": [
    "nombre_infected     4413\n",
    "nombre_sain         7746\n",
    "nombre_exposed      6472\n",
    "nombre_recovered    1369\n",
    "Name: 20, dtype: int64"
   ]
  },
  {
   "cell_type": "markdown",
   "id": "8c0763e8",
   "metadata": {},
   "source": [
    "nombre_infected     5341\n",
    "nombre_sain         6111\n",
    "nombre_exposed      6732\n",
    "nombre_recovered    1816\n",
    "Name: 21, dtype: int64"
   ]
  },
  {
   "cell_type": "markdown",
   "id": "c6fcbb8c",
   "metadata": {},
   "source": [
    "nombre_infected     6270\n",
    "nombre_sain         4586\n",
    "nombre_exposed      6774\n",
    "nombre_recovered    2370\n",
    "Name: 22, dtype: int64"
   ]
  },
  {
   "cell_type": "markdown",
   "id": "158de511",
   "metadata": {},
   "source": [
    "nombre_infected     7168\n",
    "nombre_sain         3375\n",
    "nombre_exposed      6452\n",
    "nombre_recovered    3005\n",
    "Name: 23, dtype: int64"
   ]
  },
  {
   "cell_type": "markdown",
   "id": "a552cd79",
   "metadata": {},
   "source": [
    "nombre_infected     7928\n",
    "nombre_sain         2370\n",
    "nombre_exposed      5954\n",
    "nombre_recovered    3748\n",
    "Name: 24, dtype: int64"
   ]
  },
  {
   "cell_type": "markdown",
   "id": "7c3cb003",
   "metadata": {},
   "source": [
    "nombre_infected     8440\n",
    "nombre_sain         1642\n",
    "nombre_exposed      5269\n",
    "nombre_recovered    4649\n",
    "Name: 25, dtype: int64"
   ]
  },
  {
   "cell_type": "markdown",
   "id": "19780a08",
   "metadata": {},
   "source": [
    "nombre_infected     8862\n",
    "nombre_sain         1136\n",
    "nombre_exposed      4420\n",
    "nombre_recovered    5582\n",
    "Name: 26, dtype: int64"
   ]
  },
  {
   "cell_type": "markdown",
   "id": "5c70d5a5",
   "metadata": {},
   "source": [
    "nombre_infected     8953\n",
    "nombre_sain          742\n",
    "nombre_exposed      3718\n",
    "nombre_recovered    6587\n",
    "Name: 27, dtype: int64"
   ]
  },
  {
   "cell_type": "markdown",
   "id": "e8936f40",
   "metadata": {},
   "source": [
    "nombre_infected     8888\n",
    "nombre_sain          503\n",
    "nombre_exposed      2994\n",
    "nombre_recovered    7615\n",
    "Name: 28, dtype: int64"
   ]
  },
  {
   "cell_type": "markdown",
   "id": "a4c73665",
   "metadata": {},
   "source": [
    "nombre_infected     8634\n",
    "nombre_sain          351\n",
    "nombre_exposed      2357\n",
    "nombre_recovered    8658\n",
    "Name: 29, dtype: int64"
   ]
  },
  {
   "cell_type": "markdown",
   "id": "a7314083",
   "metadata": {},
   "source": [
    "nombre_infected     8202\n",
    "nombre_sain          261\n",
    "nombre_exposed      1855\n",
    "nombre_recovered    9682\n",
    "Name: 30, dtype: int64"
   ]
  },
  {
   "cell_type": "markdown",
   "id": "0f65827a",
   "metadata": {},
   "source": [
    "nombre_infected      7753\n",
    "nombre_sain           186\n",
    "nombre_exposed       1433\n",
    "nombre_recovered    10628\n",
    "Name: 31, dtype: int64"
   ]
  },
  {
   "cell_type": "markdown",
   "id": "a2ee1da5",
   "metadata": {},
   "source": [
    "nombre_infected      7222\n",
    "nombre_sain           138\n",
    "nombre_exposed       1107\n",
    "nombre_recovered    11533\n",
    "Name: 32, dtype: int64"
   ]
  },
  {
   "cell_type": "markdown",
   "id": "857e3bc6",
   "metadata": {},
   "source": [
    "nombre_infected      6622\n",
    "nombre_sain           112\n",
    "nombre_exposed        875\n",
    "nombre_recovered    12391\n",
    "Name: 33, dtype: int64"
   ]
  },
  {
   "cell_type": "markdown",
   "id": "8e24a12e",
   "metadata": {},
   "source": [
    "nombre_infected      6008\n",
    "nombre_sain           108\n",
    "nombre_exposed        665\n",
    "nombre_recovered    13219\n",
    "Name: 34, dtype: int64"
   ]
  },
  {
   "cell_type": "markdown",
   "id": "a37a6431",
   "metadata": {},
   "source": [
    "nombre_infected      5509\n",
    "nombre_sain            98\n",
    "nombre_exposed        504\n",
    "nombre_recovered    13889\n",
    "Name: 35, dtype: int64"
   ]
  },
  {
   "cell_type": "markdown",
   "id": "ce0bed6b",
   "metadata": {},
   "source": [
    "nombre_infected      5052\n",
    "nombre_sain            93\n",
    "nombre_exposed        379\n",
    "nombre_recovered    14476\n",
    "Name: 36, dtype: int64"
   ]
  },
  {
   "cell_type": "markdown",
   "id": "48116a24",
   "metadata": {},
   "source": [
    "nombre_infected      4591\n",
    "nombre_sain            80\n",
    "nombre_exposed        299\n",
    "nombre_recovered    15030\n",
    "Name: 37, dtype: int64"
   ]
  },
  {
   "cell_type": "markdown",
   "id": "29ef0499",
   "metadata": {},
   "source": [
    "nombre_infected      4213\n",
    "nombre_sain            79\n",
    "nombre_exposed        229\n",
    "nombre_recovered    15479\n",
    "Name: 38, dtype: int64"
   ]
  },
  {
   "cell_type": "markdown",
   "id": "4d763c54",
   "metadata": {},
   "source": [
    "nombre_infected      3859\n",
    "nombre_sain            76\n",
    "nombre_exposed        174\n",
    "nombre_recovered    15891\n",
    "Name: 39, dtype: int64"
   ]
  },
  {
   "cell_type": "markdown",
   "id": "d52612d4",
   "metadata": {},
   "source": [
    "nombre_infected      3499\n",
    "nombre_sain            84\n",
    "nombre_exposed        140\n",
    "nombre_recovered    16277\n",
    "Name: 40, dtype: int64"
   ]
  },
  {
   "cell_type": "markdown",
   "id": "d1fa6c10",
   "metadata": {},
   "source": [
    "nombre_infected      3132\n",
    "nombre_sain            87\n",
    "nombre_exposed        107\n",
    "nombre_recovered    16674\n",
    "Name: 41, dtype: int64"
   ]
  },
  {
   "cell_type": "markdown",
   "id": "148656f6",
   "metadata": {},
   "source": [
    "nombre_infected      2845\n",
    "nombre_sain           101\n",
    "nombre_exposed         98\n",
    "nombre_recovered    16956\n",
    "Name: 42, dtype: int64"
   ]
  },
  {
   "cell_type": "markdown",
   "id": "1db062e3",
   "metadata": {},
   "source": [
    "nombre_infected      2568\n",
    "nombre_sain           108\n",
    "nombre_exposed         87\n",
    "nombre_recovered    17237\n",
    "Name: 43, dtype: int64"
   ]
  },
  {
   "cell_type": "markdown",
   "id": "8e189f5d",
   "metadata": {},
   "source": [
    "nombre_infected      2320\n",
    "nombre_sain           128\n",
    "nombre_exposed         81\n",
    "nombre_recovered    17471\n",
    "Name: 44, dtype: int64"
   ]
  },
  {
   "cell_type": "markdown",
   "id": "529023f0",
   "metadata": {},
   "source": [
    "nombre_infected      2049\n",
    "nombre_sain           156\n",
    "nombre_exposed         72\n",
    "nombre_recovered    17723\n",
    "Name: 45, dtype: int64"
   ]
  },
  {
   "cell_type": "markdown",
   "id": "a8096069",
   "metadata": {},
   "source": [
    "nombre_infected      1844\n",
    "nombre_sain           182\n",
    "nombre_exposed         69\n",
    "nombre_recovered    17905\n",
    "Name: 46, dtype: int64"
   ]
  },
  {
   "cell_type": "markdown",
   "id": "6638b99b",
   "metadata": {},
   "source": [
    "nombre_infected      1625\n",
    "nombre_sain           216\n",
    "nombre_exposed         64\n",
    "nombre_recovered    18095\n",
    "Name: 47, dtype: int64"
   ]
  },
  {
   "cell_type": "markdown",
   "id": "9f1734f5",
   "metadata": {},
   "source": [
    "nombre_infected      1447\n",
    "nombre_sain           245\n",
    "nombre_exposed         69\n",
    "nombre_recovered    18239\n",
    "Name: 48, dtype: int64"
   ]
  },
  {
   "cell_type": "markdown",
   "id": "da29492c",
   "metadata": {},
   "source": [
    "nombre_infected      1262\n",
    "nombre_sain           263\n",
    "nombre_exposed         74\n",
    "nombre_recovered    18401\n",
    "Name: 49, dtype: int64"
   ]
  },
  {
   "cell_type": "markdown",
   "id": "f98a63db",
   "metadata": {},
   "source": [
    "nombre_infected      1127\n",
    "nombre_sain           275\n",
    "nombre_exposed         72\n",
    "nombre_recovered    18526\n",
    "Name: 50, dtype: int64"
   ]
  },
  {
   "cell_type": "markdown",
   "id": "64b9ee51",
   "metadata": {},
   "source": [
    "nombre_infected       991\n",
    "nombre_sain           294\n",
    "nombre_exposed         72\n",
    "nombre_recovered    18643\n",
    "Name: 51, dtype: int64"
   ]
  },
  {
   "cell_type": "markdown",
   "id": "78eca63b",
   "metadata": {},
   "source": [
    "nombre_infected       874\n",
    "nombre_sain           336\n",
    "nombre_exposed         59\n",
    "nombre_recovered    18731\n",
    "Name: 52, dtype: int64"
   ]
  },
  {
   "cell_type": "markdown",
   "id": "b6f89363",
   "metadata": {},
   "source": [
    "nombre_infected       762\n",
    "nombre_sain           372\n",
    "nombre_exposed         58\n",
    "nombre_recovered    18808\n",
    "Name: 53, dtype: int64"
   ]
  },
  {
   "cell_type": "markdown",
   "id": "d9b45378",
   "metadata": {},
   "source": [
    "nombre_infected       659\n",
    "nombre_sain           392\n",
    "nombre_exposed         57\n",
    "nombre_recovered    18892\n",
    "Name: 54, dtype: int64"
   ]
  },
  {
   "cell_type": "markdown",
   "id": "0874c0ff",
   "metadata": {},
   "source": [
    "nombre_infected       587\n",
    "nombre_sain           397\n",
    "nombre_exposed         61\n",
    "nombre_recovered    18955\n",
    "Name: 55, dtype: int64"
   ]
  },
  {
   "cell_type": "markdown",
   "id": "9745ef49",
   "metadata": {},
   "source": [
    "nombre_infected       492\n",
    "nombre_sain           420\n",
    "nombre_exposed         65\n",
    "nombre_recovered    19023\n",
    "Name: 56, dtype: int64"
   ]
  },
  {
   "cell_type": "markdown",
   "id": "c3ac704f",
   "metadata": {},
   "source": [
    "nombre_infected       425\n",
    "nombre_sain           453\n",
    "nombre_exposed         55\n",
    "nombre_recovered    19067\n",
    "Name: 57, dtype: int64"
   ]
  },
  {
   "cell_type": "markdown",
   "id": "0ce51bd4",
   "metadata": {},
   "source": [
    "nombre_infected       374\n",
    "nombre_sain           479\n",
    "nombre_exposed         45\n",
    "nombre_recovered    19102\n",
    "Name: 58, dtype: int64"
   ]
  },
  {
   "cell_type": "markdown",
   "id": "bf7da7bd",
   "metadata": {},
   "source": [
    "nombre_infected       307\n",
    "nombre_sain           504\n",
    "nombre_exposed         51\n",
    "nombre_recovered    19138\n",
    "Name: 59, dtype: int64"
   ]
  },
  {
   "cell_type": "markdown",
   "id": "2454af2d",
   "metadata": {},
   "source": [
    "nombre_infected       255\n",
    "nombre_sain           523\n",
    "nombre_exposed         50\n",
    "nombre_recovered    19172\n",
    "Name: 60, dtype: int64"
   ]
  },
  {
   "cell_type": "markdown",
   "id": "664d5c4b",
   "metadata": {},
   "source": [
    "nombre_infected       200\n",
    "nombre_sain           535\n",
    "nombre_exposed         51\n",
    "nombre_recovered    19214\n",
    "Name: 61, dtype: int64"
   ]
  },
  {
   "cell_type": "markdown",
   "id": "bbe3c2a4",
   "metadata": {},
   "source": [
    "nombre_infected       170\n",
    "nombre_sain           557\n",
    "nombre_exposed         49\n",
    "nombre_recovered    19224\n",
    "Name: 62, dtype: int64"
   ]
  },
  {
   "cell_type": "markdown",
   "id": "d250b3ae",
   "metadata": {},
   "source": [
    "nombre_infected       142\n",
    "nombre_sain           592\n",
    "nombre_exposed         39\n",
    "nombre_recovered    19227\n",
    "Name: 63, dtype: int64"
   ]
  },
  {
   "cell_type": "markdown",
   "id": "e8fa2ade",
   "metadata": {},
   "source": [
    "nombre_infected       118\n",
    "nombre_sain           639\n",
    "nombre_exposed         36\n",
    "nombre_recovered    19207\n",
    "Name: 64, dtype: int64"
   ]
  },
  {
   "cell_type": "markdown",
   "id": "e949ad41",
   "metadata": {},
   "source": [
    "nombre_infected        99\n",
    "nombre_sain           678\n",
    "nombre_exposed         33\n",
    "nombre_recovered    19190\n",
    "Name: 65, dtype: int64"
   ]
  },
  {
   "cell_type": "markdown",
   "id": "47dc0f07",
   "metadata": {},
   "source": [
    "nombre_infected        86\n",
    "nombre_sain           704\n",
    "nombre_exposed         34\n",
    "nombre_recovered    19176\n",
    "Name: 66, dtype: int64"
   ]
  },
  {
   "cell_type": "markdown",
   "id": "332f4e36",
   "metadata": {},
   "source": [
    "nombre_infected        79\n",
    "nombre_sain           754\n",
    "nombre_exposed         25\n",
    "nombre_recovered    19142\n",
    "Name: 67, dtype: int64"
   ]
  },
  {
   "cell_type": "markdown",
   "id": "9d704f1f",
   "metadata": {},
   "source": [
    "nombre_infected        77\n",
    "nombre_sain           804\n",
    "nombre_exposed         21\n",
    "nombre_recovered    19098\n",
    "Name: 68, dtype: int64"
   ]
  },
  {
   "cell_type": "markdown",
   "id": "2fc0a73e",
   "metadata": {},
   "source": [
    "nombre_infected        71\n",
    "nombre_sain           868\n",
    "nombre_exposed         18\n",
    "nombre_recovered    19043\n",
    "Name: 69, dtype: int64"
   ]
  },
  {
   "cell_type": "markdown",
   "id": "6f03686f",
   "metadata": {},
   "source": [
    "nombre_infected        64\n",
    "nombre_sain           906\n",
    "nombre_exposed         21\n",
    "nombre_recovered    19009\n",
    "Name: 70, dtype: int64"
   ]
  },
  {
   "cell_type": "markdown",
   "id": "5049a195",
   "metadata": {},
   "source": [
    "nombre_infected        62\n",
    "nombre_sain           950\n",
    "nombre_exposed         21\n",
    "nombre_recovered    18967\n",
    "Name: 71, dtype: int64"
   ]
  },
  {
   "cell_type": "markdown",
   "id": "1dae4532",
   "metadata": {},
   "source": [
    "nombre_infected        60\n",
    "nombre_sain          1006\n",
    "nombre_exposed         18\n",
    "nombre_recovered    18916\n",
    "Name: 72, dtype: int64"
   ]
  },
  {
   "cell_type": "markdown",
   "id": "dcc44d89",
   "metadata": {},
   "source": [
    "nombre_infected        53\n",
    "nombre_sain          1055\n",
    "nombre_exposed         17\n",
    "nombre_recovered    18875\n",
    "Name: 73, dtype: int64"
   ]
  },
  {
   "cell_type": "markdown",
   "id": "5f063e51",
   "metadata": {},
   "source": [
    "nombre_infected        49\n",
    "nombre_sain          1102\n",
    "nombre_exposed         15\n",
    "nombre_recovered    18834\n",
    "Name: 74, dtype: int64"
   ]
  },
  {
   "cell_type": "markdown",
   "id": "c7f64f32",
   "metadata": {},
   "source": [
    "nombre_infected        48\n",
    "nombre_sain          1133\n",
    "nombre_exposed         14\n",
    "nombre_recovered    18805\n",
    "Name: 75, dtype: int64"
   ]
  },
  {
   "cell_type": "markdown",
   "id": "2eac9981",
   "metadata": {},
   "source": [
    "nombre_infected        49\n",
    "nombre_sain          1179\n",
    "nombre_exposed         16\n",
    "nombre_recovered    18756\n",
    "Name: 76, dtype: int64"
   ]
  },
  {
   "cell_type": "markdown",
   "id": "7e7a2b9a",
   "metadata": {},
   "source": [
    "nombre_infected        44\n",
    "nombre_sain          1227\n",
    "nombre_exposed         14\n",
    "nombre_recovered    18715\n",
    "Name: 77, dtype: int64"
   ]
  },
  {
   "cell_type": "markdown",
   "id": "256ac68a",
   "metadata": {},
   "source": [
    "nombre_infected        39\n",
    "nombre_sain          1269\n",
    "nombre_exposed         15\n",
    "nombre_recovered    18677\n",
    "Name: 78, dtype: int64"
   ]
  },
  {
   "cell_type": "markdown",
   "id": "11bfc5a4",
   "metadata": {},
   "source": [
    "nombre_infected        36\n",
    "nombre_sain          1304\n",
    "nombre_exposed         17\n",
    "nombre_recovered    18643\n",
    "Name: 79, dtype: int64"
   ]
  },
  {
   "cell_type": "markdown",
   "id": "13f8f401",
   "metadata": {},
   "source": [
    "nombre_infected        29\n",
    "nombre_sain          1344\n",
    "nombre_exposed         19\n",
    "nombre_recovered    18608\n",
    "Name: 80, dtype: int64"
   ]
  },
  {
   "cell_type": "markdown",
   "id": "45cb62d0",
   "metadata": {},
   "source": [
    "nombre_infected        28\n",
    "nombre_sain          1389\n",
    "nombre_exposed         22\n",
    "nombre_recovered    18561\n",
    "Name: 81, dtype: int64"
   ]
  },
  {
   "cell_type": "markdown",
   "id": "ecd1355c",
   "metadata": {},
   "source": [
    "nombre_infected        25\n",
    "nombre_sain          1429\n",
    "nombre_exposed         22\n",
    "nombre_recovered    18524\n",
    "Name: 82, dtype: int64"
   ]
  },
  {
   "cell_type": "markdown",
   "id": "ea9bf27d",
   "metadata": {},
   "source": [
    "nombre_infected        26\n",
    "nombre_sain          1466\n",
    "nombre_exposed         19\n",
    "nombre_recovered    18489\n",
    "Name: 83, dtype: int64"
   ]
  },
  {
   "cell_type": "markdown",
   "id": "84824ac7",
   "metadata": {},
   "source": [
    "nombre_infected        29\n",
    "nombre_sain          1500\n",
    "nombre_exposed         19\n",
    "nombre_recovered    18452\n",
    "Name: 84, dtype: int64"
   ]
  },
  {
   "cell_type": "markdown",
   "id": "4b70f85a",
   "metadata": {},
   "source": [
    "nombre_infected        25\n",
    "nombre_sain          1527\n",
    "nombre_exposed         20\n",
    "nombre_recovered    18428\n",
    "Name: 85, dtype: int64"
   ]
  },
  {
   "cell_type": "markdown",
   "id": "92d6822b",
   "metadata": {},
   "source": [
    "nombre_infected        29\n",
    "nombre_sain          1559\n",
    "nombre_exposed         16\n",
    "nombre_recovered    18396\n",
    "Name: 86, dtype: int64"
   ]
  },
  {
   "cell_type": "markdown",
   "id": "b0273cf7",
   "metadata": {},
   "source": [
    "nombre_infected        29\n",
    "nombre_sain          1590\n",
    "nombre_exposed         14\n",
    "nombre_recovered    18367\n",
    "Name: 87, dtype: int64"
   ]
  },
  {
   "cell_type": "markdown",
   "id": "a56f0326",
   "metadata": {},
   "source": [
    "nombre_infected        29\n",
    "nombre_sain          1623\n",
    "nombre_exposed         13\n",
    "nombre_recovered    18335\n",
    "Name: 88, dtype: int64"
   ]
  },
  {
   "cell_type": "markdown",
   "id": "96ab23d8",
   "metadata": {},
   "source": [
    "nombre_infected        27\n",
    "nombre_sain          1659\n",
    "nombre_exposed         13\n",
    "nombre_recovered    18301\n",
    "Name: 89, dtype: int64"
   ]
  },
  {
   "cell_type": "markdown",
   "id": "12bb1ffd",
   "metadata": {},
   "source": [
    "nombre_infected        28\n",
    "nombre_sain          1718\n",
    "nombre_exposed         14\n",
    "nombre_recovered    18240\n",
    "Name: 90, dtype: int64"
   ]
  },
  {
   "cell_type": "markdown",
   "id": "1c36fb86",
   "metadata": {},
   "source": [
    "nombre_infected        26\n",
    "nombre_sain          1773\n",
    "nombre_exposed         13\n",
    "nombre_recovered    18188\n",
    "Name: 91, dtype: int64"
   ]
  },
  {
   "cell_type": "markdown",
   "id": "b24d89b2",
   "metadata": {},
   "source": [
    "nombre_infected        24\n",
    "nombre_sain          1814\n",
    "nombre_exposed         16\n",
    "nombre_recovered    18146\n",
    "Name: 92, dtype: int64"
   ]
  },
  {
   "cell_type": "markdown",
   "id": "995af916",
   "metadata": {},
   "source": [
    "nombre_infected        24\n",
    "nombre_sain          1864\n",
    "nombre_exposed         15\n",
    "nombre_recovered    18097\n",
    "Name: 93, dtype: int64"
   ]
  },
  {
   "cell_type": "markdown",
   "id": "b96f4722",
   "metadata": {},
   "source": [
    "nombre_infected        23\n",
    "nombre_sain          1903\n",
    "nombre_exposed         13\n",
    "nombre_recovered    18061\n",
    "Name: 94, dtype: int64"
   ]
  },
  {
   "cell_type": "markdown",
   "id": "0bf3b056",
   "metadata": {},
   "source": [
    "nombre_infected        23\n",
    "nombre_sain          1938\n",
    "nombre_exposed         14\n",
    "nombre_recovered    18025\n",
    "Name: 95, dtype: int64"
   ]
  },
  {
   "cell_type": "markdown",
   "id": "6ddd406d",
   "metadata": {},
   "source": [
    "nombre_infected        22\n",
    "nombre_sain          1974\n",
    "nombre_exposed         13\n",
    "nombre_recovered    17991\n",
    "Name: 96, dtype: int64"
   ]
  },
  {
   "cell_type": "markdown",
   "id": "93497e70",
   "metadata": {},
   "source": [
    "nombre_infected        25\n",
    "nombre_sain          2012\n",
    "nombre_exposed         13\n",
    "nombre_recovered    17950\n",
    "Name: 97, dtype: int64"
   ]
  },
  {
   "cell_type": "markdown",
   "id": "6130b0c9",
   "metadata": {},
   "source": [
    "nombre_infected        24\n",
    "nombre_sain          2038\n",
    "nombre_exposed         14\n",
    "nombre_recovered    17924\n",
    "Name: 98, dtype: int64"
   ]
  },
  {
   "cell_type": "markdown",
   "id": "327c7b34",
   "metadata": {},
   "source": [
    "nombre_infected        22\n",
    "nombre_sain          2075\n",
    "nombre_exposed         18\n",
    "nombre_recovered    17885\n",
    "Name: 99, dtype: int64"
   ]
  },
  {
   "cell_type": "markdown",
   "id": "70f8ac4e",
   "metadata": {},
   "source": [
    "nombre_infected        23\n",
    "nombre_sain          2104\n",
    "nombre_exposed         17\n",
    "nombre_recovered    17856\n",
    "Name: 100, dtype: int64"
   ]
  },
  {
   "cell_type": "markdown",
   "id": "1e7aa61f",
   "metadata": {},
   "source": [
    "nombre_infected        25\n",
    "nombre_sain          2133\n",
    "nombre_exposed         15\n",
    "nombre_recovered    17827\n",
    "Name: 101, dtype: int64"
   ]
  },
  {
   "cell_type": "markdown",
   "id": "cec927ac",
   "metadata": {},
   "source": [
    "nombre_infected        29\n",
    "nombre_sain          2166\n",
    "nombre_exposed         14\n",
    "nombre_recovered    17791\n",
    "Name: 102, dtype: int64"
   ]
  },
  {
   "cell_type": "markdown",
   "id": "9b943edc",
   "metadata": {},
   "source": [
    "nombre_infected        28\n",
    "nombre_sain          2200\n",
    "nombre_exposed         20\n",
    "nombre_recovered    17752\n",
    "Name: 103, dtype: int64"
   ]
  },
  {
   "cell_type": "markdown",
   "id": "ff343f6b",
   "metadata": {},
   "source": [
    "nombre_infected        27\n",
    "nombre_sain          2237\n",
    "nombre_exposed         21\n",
    "nombre_recovered    17715\n",
    "Name: 104, dtype: int64"
   ]
  },
  {
   "cell_type": "markdown",
   "id": "3032e84a",
   "metadata": {},
   "source": [
    "nombre_infected        27\n",
    "nombre_sain          2269\n",
    "nombre_exposed         24\n",
    "nombre_recovered    17680\n",
    "Name: 105, dtype: int64"
   ]
  },
  {
   "cell_type": "markdown",
   "id": "668d42f5",
   "metadata": {},
   "source": [
    "nombre_infected        30\n",
    "nombre_sain          2316\n",
    "nombre_exposed         22\n",
    "nombre_recovered    17632\n",
    "Name: 106, dtype: int64"
   ]
  },
  {
   "cell_type": "markdown",
   "id": "d3efcbba",
   "metadata": {},
   "source": [
    "nombre_infected        32\n",
    "nombre_sain          2354\n",
    "nombre_exposed         26\n",
    "nombre_recovered    17588\n",
    "Name: 107, dtype: int64"
   ]
  },
  {
   "cell_type": "markdown",
   "id": "a9eb816d",
   "metadata": {},
   "source": [
    "nombre_infected        28\n",
    "nombre_sain          2382\n",
    "nombre_exposed         30\n",
    "nombre_recovered    17560\n",
    "Name: 108, dtype: int64"
   ]
  },
  {
   "cell_type": "markdown",
   "id": "68b50156",
   "metadata": {},
   "source": [
    "nombre_infected        27\n",
    "nombre_sain          2425\n",
    "nombre_exposed         29\n",
    "nombre_recovered    17519\n",
    "Name: 109, dtype: int64"
   ]
  },
  {
   "cell_type": "markdown",
   "id": "d60e09ee",
   "metadata": {},
   "source": [
    "nombre_infected        32\n",
    "nombre_sain          2458\n",
    "nombre_exposed         28\n",
    "nombre_recovered    17482\n",
    "Name: 110, dtype: int64"
   ]
  },
  {
   "cell_type": "markdown",
   "id": "aa47c588",
   "metadata": {},
   "source": [
    "nombre_infected        35\n",
    "nombre_sain          2494\n",
    "nombre_exposed         26\n",
    "nombre_recovered    17445\n",
    "Name: 111, dtype: int64"
   ]
  },
  {
   "cell_type": "markdown",
   "id": "f3ba551e",
   "metadata": {},
   "source": [
    "nombre_infected        38\n",
    "nombre_sain          2535\n",
    "nombre_exposed         27\n",
    "nombre_recovered    17400\n",
    "Name: 112, dtype: int64"
   ]
  },
  {
   "cell_type": "markdown",
   "id": "f913a083",
   "metadata": {},
   "source": [
    "nombre_infected        40\n",
    "nombre_sain          2584\n",
    "nombre_exposed         23\n",
    "nombre_recovered    17353\n",
    "Name: 113, dtype: int64"
   ]
  },
  {
   "cell_type": "markdown",
   "id": "4c17b3ab",
   "metadata": {},
   "source": [
    "nombre_infected        41\n",
    "nombre_sain          2629\n",
    "nombre_exposed         24\n",
    "nombre_recovered    17306\n",
    "Name: 114, dtype: int64"
   ]
  },
  {
   "cell_type": "markdown",
   "id": "ec93b7a7",
   "metadata": {},
   "source": [
    "nombre_infected        36\n",
    "nombre_sain          2689\n",
    "nombre_exposed         25\n",
    "nombre_recovered    17250\n",
    "Name: 115, dtype: int64"
   ]
  },
  {
   "cell_type": "markdown",
   "id": "b4a9a816",
   "metadata": {},
   "source": [
    "nombre_infected        37\n",
    "nombre_sain          2753\n",
    "nombre_exposed         29\n",
    "nombre_recovered    17181\n",
    "Name: 116, dtype: int64"
   ]
  },
  {
   "cell_type": "markdown",
   "id": "3f946a6c",
   "metadata": {},
   "source": [
    "nombre_infected        37\n",
    "nombre_sain          2805\n",
    "nombre_exposed         28\n",
    "nombre_recovered    17130\n",
    "Name: 117, dtype: int64"
   ]
  },
  {
   "cell_type": "markdown",
   "id": "ed953ff7",
   "metadata": {},
   "source": [
    "nombre_infected        39\n",
    "nombre_sain          2850\n",
    "nombre_exposed         27\n",
    "nombre_recovered    17084\n",
    "Name: 118, dtype: int64"
   ]
  },
  {
   "cell_type": "markdown",
   "id": "b450be85",
   "metadata": {},
   "source": [
    "nombre_infected        42\n",
    "nombre_sain          2901\n",
    "nombre_exposed         23\n",
    "nombre_recovered    17034\n",
    "Name: 119, dtype: int64"
   ]
  },
  {
   "cell_type": "markdown",
   "id": "d04d8613",
   "metadata": {},
   "source": [
    "nombre_infected        42\n",
    "nombre_sain          2944\n",
    "nombre_exposed         27\n",
    "nombre_recovered    16987\n",
    "Name: 120, dtype: int64"
   ]
  },
  {
   "cell_type": "markdown",
   "id": "0d2a7f1f",
   "metadata": {},
   "source": [
    "nombre_infected        45\n",
    "nombre_sain          2993\n",
    "nombre_exposed         31\n",
    "nombre_recovered    16931\n",
    "Name: 121, dtype: int64"
   ]
  },
  {
   "cell_type": "markdown",
   "id": "c7359ee9",
   "metadata": {},
   "source": [
    "nombre_infected        47\n",
    "nombre_sain          3027\n",
    "nombre_exposed         35\n",
    "nombre_recovered    16891\n",
    "Name: 122, dtype: int64"
   ]
  },
  {
   "cell_type": "markdown",
   "id": "6386d0fb",
   "metadata": {},
   "source": [
    "nombre_infected        47\n",
    "nombre_sain          3075\n",
    "nombre_exposed         35\n",
    "nombre_recovered    16843\n",
    "Name: 123, dtype: int64"
   ]
  },
  {
   "cell_type": "markdown",
   "id": "c92be3b6",
   "metadata": {},
   "source": [
    "nombre_infected        49\n",
    "nombre_sain          3104\n",
    "nombre_exposed         37\n",
    "nombre_recovered    16810\n",
    "Name: 124, dtype: int64"
   ]
  },
  {
   "cell_type": "markdown",
   "id": "ad5e2724",
   "metadata": {},
   "source": [
    "nombre_infected        50\n",
    "nombre_sain          3142\n",
    "nombre_exposed         34\n",
    "nombre_recovered    16774\n",
    "Name: 125, dtype: int64"
   ]
  },
  {
   "cell_type": "markdown",
   "id": "6abb0064",
   "metadata": {},
   "source": [
    "nombre_infected        55\n",
    "nombre_sain          3192\n",
    "nombre_exposed         27\n",
    "nombre_recovered    16726\n",
    "Name: 126, dtype: int64"
   ]
  },
  {
   "cell_type": "markdown",
   "id": "d84577a4",
   "metadata": {},
   "source": [
    "nombre_infected        49\n",
    "nombre_sain          3209\n",
    "nombre_exposed         45\n",
    "nombre_recovered    16697\n",
    "Name: 127, dtype: int64"
   ]
  },
  {
   "cell_type": "markdown",
   "id": "0b5d1cce",
   "metadata": {},
   "source": [
    "nombre_infected        55\n",
    "nombre_sain          3250\n",
    "nombre_exposed         50\n",
    "nombre_recovered    16645\n",
    "Name: 128, dtype: int64"
   ]
  },
  {
   "cell_type": "markdown",
   "id": "33109c0c",
   "metadata": {},
   "source": [
    "nombre_infected        57\n",
    "nombre_sain          3288\n",
    "nombre_exposed         52\n",
    "nombre_recovered    16603\n",
    "Name: 129, dtype: int64"
   ]
  },
  {
   "cell_type": "markdown",
   "id": "e36741b9",
   "metadata": {},
   "source": [
    "nombre_infected        66\n",
    "nombre_sain          3333\n",
    "nombre_exposed         52\n",
    "nombre_recovered    16549\n",
    "Name: 130, dtype: int64"
   ]
  },
  {
   "cell_type": "markdown",
   "id": "88bf82d9",
   "metadata": {},
   "source": [
    "nombre_infected        67\n",
    "nombre_sain          3357\n",
    "nombre_exposed         60\n",
    "nombre_recovered    16516\n",
    "Name: 131, dtype: int64"
   ]
  },
  {
   "cell_type": "markdown",
   "id": "f588dc55",
   "metadata": {},
   "source": [
    "nombre_infected        76\n",
    "nombre_sain          3389\n",
    "nombre_exposed         58\n",
    "nombre_recovered    16477\n",
    "Name: 132, dtype: int64"
   ]
  },
  {
   "cell_type": "markdown",
   "id": "6cc273ec",
   "metadata": {},
   "source": [
    "nombre_infected        88\n",
    "nombre_sain          3413\n",
    "nombre_exposed         53\n",
    "nombre_recovered    16446\n",
    "Name: 133, dtype: int64"
   ]
  },
  {
   "cell_type": "markdown",
   "id": "2489f503",
   "metadata": {},
   "source": [
    "nombre_infected        94\n",
    "nombre_sain          3427\n",
    "nombre_exposed         64\n",
    "nombre_recovered    16415\n",
    "Name: 134, dtype: int64"
   ]
  },
  {
   "cell_type": "markdown",
   "id": "68e7cb12",
   "metadata": {},
   "source": [
    "nombre_infected        91\n",
    "nombre_sain          3451\n",
    "nombre_exposed         70\n",
    "nombre_recovered    16388\n",
    "Name: 135, dtype: int64"
   ]
  },
  {
   "cell_type": "markdown",
   "id": "bf1e8a50",
   "metadata": {},
   "source": [
    "nombre_infected        93\n",
    "nombre_sain          3469\n",
    "nombre_exposed         72\n",
    "nombre_recovered    16366\n",
    "Name: 136, dtype: int64"
   ]
  },
  {
   "cell_type": "markdown",
   "id": "ad1f50de",
   "metadata": {},
   "source": [
    "nombre_infected       105\n",
    "nombre_sain          3488\n",
    "nombre_exposed         63\n",
    "nombre_recovered    16344\n",
    "Name: 137, dtype: int64"
   ]
  },
  {
   "cell_type": "markdown",
   "id": "006df239",
   "metadata": {},
   "source": [
    "nombre_infected       109\n",
    "nombre_sain          3499\n",
    "nombre_exposed         71\n",
    "nombre_recovered    16321\n",
    "Name: 138, dtype: int64"
   ]
  },
  {
   "cell_type": "markdown",
   "id": "a291b518",
   "metadata": {},
   "source": [
    "nombre_infected       119\n",
    "nombre_sain          3506\n",
    "nombre_exposed         77\n",
    "nombre_recovered    16298\n",
    "Name: 139, dtype: int64"
   ]
  },
  {
   "cell_type": "markdown",
   "id": "b362285b",
   "metadata": {},
   "source": [
    "nombre_infected       116\n",
    "nombre_sain          3527\n",
    "nombre_exposed         89\n",
    "nombre_recovered    16268\n",
    "Name: 140, dtype: int64"
   ]
  },
  {
   "cell_type": "markdown",
   "id": "678d695a",
   "metadata": {},
   "source": [
    "nombre_infected       122\n",
    "nombre_sain          3536\n",
    "nombre_exposed         91\n",
    "nombre_recovered    16251\n",
    "Name: 141, dtype: int64"
   ]
  },
  {
   "cell_type": "markdown",
   "id": "ada58588",
   "metadata": {},
   "source": [
    "nombre_infected       122\n",
    "nombre_sain          3551\n",
    "nombre_exposed        105\n",
    "nombre_recovered    16222\n",
    "Name: 142, dtype: int64"
   ]
  },
  {
   "cell_type": "markdown",
   "id": "8cdf7900",
   "metadata": {},
   "source": [
    "nombre_infected       126\n",
    "nombre_sain          3552\n",
    "nombre_exposed        112\n",
    "nombre_recovered    16210\n",
    "Name: 143, dtype: int64"
   ]
  },
  {
   "cell_type": "markdown",
   "id": "c75519e0",
   "metadata": {},
   "source": [
    "nombre_infected       136\n",
    "nombre_sain          3562\n",
    "nombre_exposed        122\n",
    "nombre_recovered    16180\n",
    "Name: 144, dtype: int64"
   ]
  },
  {
   "cell_type": "markdown",
   "id": "916dd8c6",
   "metadata": {},
   "source": [
    "nombre_infected       148\n",
    "nombre_sain          3564\n",
    "nombre_exposed        121\n",
    "nombre_recovered    16167\n",
    "Name: 145, dtype: int64"
   ]
  },
  {
   "cell_type": "markdown",
   "id": "36f40dc7",
   "metadata": {},
   "source": [
    "nombre_infected       157\n",
    "nombre_sain          3572\n",
    "nombre_exposed        127\n",
    "nombre_recovered    16144\n",
    "Name: 146, dtype: int64"
   ]
  },
  {
   "cell_type": "markdown",
   "id": "af541b5f",
   "metadata": {},
   "source": [
    "nombre_infected       168\n",
    "nombre_sain          3578\n",
    "nombre_exposed        130\n",
    "nombre_recovered    16124\n",
    "Name: 147, dtype: int64"
   ]
  },
  {
   "cell_type": "markdown",
   "id": "8124781d",
   "metadata": {},
   "source": [
    "nombre_infected       175\n",
    "nombre_sain          3580\n",
    "nombre_exposed        136\n",
    "nombre_recovered    16109\n",
    "Name: 148, dtype: int64"
   ]
  },
  {
   "cell_type": "markdown",
   "id": "fad50325",
   "metadata": {},
   "source": [
    "nombre_infected       189\n",
    "nombre_sain          3586\n",
    "nombre_exposed        152\n",
    "nombre_recovered    16073\n",
    "Name: 149, dtype: int64"
   ]
  },
  {
   "cell_type": "markdown",
   "id": "a6565c0b",
   "metadata": {},
   "source": [
    "nombre_infected       193\n",
    "nombre_sain          3601\n",
    "nombre_exposed        171\n",
    "nombre_recovered    16035\n",
    "Name: 150, dtype: int64"
   ]
  },
  {
   "cell_type": "markdown",
   "id": "695757fd",
   "metadata": {},
   "source": [
    "nombre_infected       213\n",
    "nombre_sain          3631\n",
    "nombre_exposed        164\n",
    "nombre_recovered    15992\n",
    "Name: 151, dtype: int64"
   ]
  },
  {
   "cell_type": "markdown",
   "id": "834b7db7",
   "metadata": {},
   "source": [
    "nombre_infected       223\n",
    "nombre_sain          3650\n",
    "nombre_exposed        174\n",
    "nombre_recovered    15953\n",
    "Name: 152, dtype: int64"
   ]
  },
  {
   "cell_type": "markdown",
   "id": "bcc3a753",
   "metadata": {},
   "source": [
    "nombre_infected       239\n",
    "nombre_sain          3652\n",
    "nombre_exposed        185\n",
    "nombre_recovered    15924\n",
    "Name: 153, dtype: int64"
   ]
  },
  {
   "cell_type": "markdown",
   "id": "6b521c89",
   "metadata": {},
   "source": [
    "nombre_infected       260\n",
    "nombre_sain          3674\n",
    "nombre_exposed        184\n",
    "nombre_recovered    15882\n",
    "Name: 154, dtype: int64"
   ]
  },
  {
   "cell_type": "markdown",
   "id": "e80bb297",
   "metadata": {},
   "source": [
    "nombre_infected       265\n",
    "nombre_sain          3693\n",
    "nombre_exposed        204\n",
    "nombre_recovered    15838\n",
    "Name: 155, dtype: int64"
   ]
  },
  {
   "cell_type": "markdown",
   "id": "1c49f6e4",
   "metadata": {},
   "source": [
    "nombre_infected       276\n",
    "nombre_sain          3708\n",
    "nombre_exposed        226\n",
    "nombre_recovered    15790\n",
    "Name: 156, dtype: int64"
   ]
  },
  {
   "cell_type": "markdown",
   "id": "f1356cc6",
   "metadata": {},
   "source": [
    "nombre_infected       303\n",
    "nombre_sain          3714\n",
    "nombre_exposed        255\n",
    "nombre_recovered    15728\n",
    "Name: 157, dtype: int64"
   ]
  },
  {
   "cell_type": "markdown",
   "id": "7038b4fb",
   "metadata": {},
   "source": [
    "nombre_infected       323\n",
    "nombre_sain          3695\n",
    "nombre_exposed        294\n",
    "nombre_recovered    15688\n",
    "Name: 158, dtype: int64"
   ]
  },
  {
   "cell_type": "markdown",
   "id": "0885c9fd",
   "metadata": {},
   "source": [
    "nombre_infected       344\n",
    "nombre_sain          3709\n",
    "nombre_exposed        299\n",
    "nombre_recovered    15648\n",
    "Name: 159, dtype: int64"
   ]
  },
  {
   "cell_type": "markdown",
   "id": "4fc9324a",
   "metadata": {},
   "source": [
    "nombre_infected       375\n",
    "nombre_sain          3700\n",
    "nombre_exposed        310\n",
    "nombre_recovered    15615\n",
    "Name: 160, dtype: int64"
   ]
  },
  {
   "cell_type": "markdown",
   "id": "4bb17fc9",
   "metadata": {},
   "source": [
    "nombre_infected       410\n",
    "nombre_sain          3671\n",
    "nombre_exposed        338\n",
    "nombre_recovered    15581\n",
    "Name: 161, dtype: int64"
   ]
  },
  {
   "cell_type": "markdown",
   "id": "5aad4c9c",
   "metadata": {},
   "source": [
    "nombre_infected       437\n",
    "nombre_sain          3634\n",
    "nombre_exposed        374\n",
    "nombre_recovered    15555\n",
    "Name: 162, dtype: int64"
   ]
  },
  {
   "cell_type": "markdown",
   "id": "8bf10e48",
   "metadata": {},
   "source": [
    "nombre_infected       468\n",
    "nombre_sain          3594\n",
    "nombre_exposed        393\n",
    "nombre_recovered    15545\n",
    "Name: 163, dtype: int64"
   ]
  },
  {
   "cell_type": "markdown",
   "id": "27fad782",
   "metadata": {},
   "source": [
    "nombre_infected       498\n",
    "nombre_sain          3541\n",
    "nombre_exposed        411\n",
    "nombre_recovered    15550\n",
    "Name: 164, dtype: int64"
   ]
  },
  {
   "cell_type": "markdown",
   "id": "5790b5e9",
   "metadata": {},
   "source": [
    "nombre_infected       543\n",
    "nombre_sain          3500\n",
    "nombre_exposed        407\n",
    "nombre_recovered    15550\n",
    "Name: 165, dtype: int64"
   ]
  },
  {
   "cell_type": "markdown",
   "id": "8663c4e4",
   "metadata": {},
   "source": [
    "nombre_infected       571\n",
    "nombre_sain          3435\n",
    "nombre_exposed        438\n",
    "nombre_recovered    15556\n",
    "Name: 166, dtype: int64"
   ]
  },
  {
   "cell_type": "markdown",
   "id": "4ae4027e",
   "metadata": {},
   "source": [
    "nombre_infected       571\n",
    "nombre_sain          3358\n",
    "nombre_exposed        472\n",
    "nombre_recovered    15599\n",
    "Name: 167, dtype: int64"
   ]
  },
  {
   "cell_type": "markdown",
   "id": "bb8b45e9",
   "metadata": {},
   "source": [
    "nombre_infected       622\n",
    "nombre_sain          3307\n",
    "nombre_exposed        454\n",
    "nombre_recovered    15617\n",
    "Name: 168, dtype: int64"
   ]
  },
  {
   "cell_type": "markdown",
   "id": "9e179155",
   "metadata": {},
   "source": [
    "nombre_infected       651\n",
    "nombre_sain          3219\n",
    "nombre_exposed        487\n",
    "nombre_recovered    15643\n",
    "Name: 169, dtype: int64"
   ]
  },
  {
   "cell_type": "markdown",
   "id": "952c467c",
   "metadata": {},
   "source": [
    "nombre_infected       676\n",
    "nombre_sain          3128\n",
    "nombre_exposed        509\n",
    "nombre_recovered    15687\n",
    "Name: 170, dtype: int64"
   ]
  },
  {
   "cell_type": "markdown",
   "id": "b47f3872",
   "metadata": {},
   "source": [
    "nombre_infected       697\n",
    "nombre_sain          3065\n",
    "nombre_exposed        516\n",
    "nombre_recovered    15722\n",
    "Name: 171, dtype: int64"
   ]
  },
  {
   "cell_type": "markdown",
   "id": "2c536a74",
   "metadata": {},
   "source": [
    "nombre_infected       738\n",
    "nombre_sain          2996\n",
    "nombre_exposed        516\n",
    "nombre_recovered    15750\n",
    "Name: 172, dtype: int64"
   ]
  },
  {
   "cell_type": "markdown",
   "id": "2870d5c2",
   "metadata": {},
   "source": [
    "nombre_infected       763\n",
    "nombre_sain          2890\n",
    "nombre_exposed        549\n",
    "nombre_recovered    15798\n",
    "Name: 173, dtype: int64"
   ]
  },
  {
   "cell_type": "markdown",
   "id": "584936c1",
   "metadata": {},
   "source": [
    "nombre_infected       779\n",
    "nombre_sain          2809\n",
    "nombre_exposed        545\n",
    "nombre_recovered    15867\n",
    "Name: 174, dtype: int64"
   ]
  },
  {
   "cell_type": "markdown",
   "id": "f34a670e",
   "metadata": {},
   "source": [
    "nombre_infected       817\n",
    "nombre_sain          2726\n",
    "nombre_exposed        520\n",
    "nombre_recovered    15937\n",
    "Name: 175, dtype: int64"
   ]
  },
  {
   "cell_type": "markdown",
   "id": "0c49aae8",
   "metadata": {},
   "source": [
    "nombre_infected       837\n",
    "nombre_sain          2631\n",
    "nombre_exposed        524\n",
    "nombre_recovered    16008\n",
    "Name: 176, dtype: int64"
   ]
  },
  {
   "cell_type": "markdown",
   "id": "68ee3ac9",
   "metadata": {},
   "source": [
    "nombre_infected       860\n",
    "nombre_sain          2513\n",
    "nombre_exposed        550\n",
    "nombre_recovered    16077\n",
    "Name: 177, dtype: int64"
   ]
  },
  {
   "cell_type": "markdown",
   "id": "8be81920",
   "metadata": {},
   "source": [
    "nombre_infected       881\n",
    "nombre_sain          2420\n",
    "nombre_exposed        575\n",
    "nombre_recovered    16124\n",
    "Name: 178, dtype: int64"
   ]
  },
  {
   "cell_type": "markdown",
   "id": "2e29d289",
   "metadata": {},
   "source": [
    "nombre_infected       902\n",
    "nombre_sain          2356\n",
    "nombre_exposed        539\n",
    "nombre_recovered    16203\n",
    "Name: 179, dtype: int64"
   ]
  },
  {
   "cell_type": "markdown",
   "id": "2ab5dd8c",
   "metadata": {},
   "source": [
    "nombre_infected       916\n",
    "nombre_sain          2263\n",
    "nombre_exposed        539\n",
    "nombre_recovered    16282\n",
    "Name: 180, dtype: int64"
   ]
  },
  {
   "cell_type": "markdown",
   "id": "86086b70",
   "metadata": {},
   "source": [
    "nombre_infected       906\n",
    "nombre_sain          2168\n",
    "nombre_exposed        569\n",
    "nombre_recovered    16357\n",
    "Name: 181, dtype: int64"
   ]
  },
  {
   "cell_type": "markdown",
   "id": "2c20554b",
   "metadata": {},
   "source": [
    "nombre_infected       929\n",
    "nombre_sain          2086\n",
    "nombre_exposed        557\n",
    "nombre_recovered    16428\n",
    "Name: 182, dtype: int64"
   ]
  },
  {
   "cell_type": "markdown",
   "id": "03ce34a4",
   "metadata": {},
   "source": [
    "nombre_infected       965\n",
    "nombre_sain          2017\n",
    "nombre_exposed        532\n",
    "nombre_recovered    16486\n",
    "Name: 183, dtype: int64"
   ]
  },
  {
   "cell_type": "markdown",
   "id": "98b19c51",
   "metadata": {},
   "source": [
    "nombre_infected       959\n",
    "nombre_sain          1954\n",
    "nombre_exposed        525\n",
    "nombre_recovered    16562\n",
    "Name: 184, dtype: int64"
   ]
  },
  {
   "cell_type": "markdown",
   "id": "2b81c7a8",
   "metadata": {},
   "source": [
    "nombre_infected       948\n",
    "nombre_sain          1899\n",
    "nombre_exposed        518\n",
    "nombre_recovered    16635\n",
    "Name: 185, dtype: int64"
   ]
  },
  {
   "cell_type": "markdown",
   "id": "29fe38b1",
   "metadata": {},
   "source": [
    "nombre_infected       940\n",
    "nombre_sain          1829\n",
    "nombre_exposed        512\n",
    "nombre_recovered    16719\n",
    "Name: 186, dtype: int64"
   ]
  },
  {
   "cell_type": "markdown",
   "id": "cf4428b3",
   "metadata": {},
   "source": [
    "nombre_infected       940\n",
    "nombre_sain          1781\n",
    "nombre_exposed        508\n",
    "nombre_recovered    16771\n",
    "Name: 187, dtype: int64"
   ]
  },
  {
   "cell_type": "markdown",
   "id": "67318881",
   "metadata": {},
   "source": [
    "nombre_infected       930\n",
    "nombre_sain          1735\n",
    "nombre_exposed        487\n",
    "nombre_recovered    16848\n",
    "Name: 188, dtype: int64"
   ]
  },
  {
   "cell_type": "markdown",
   "id": "da7ea006",
   "metadata": {},
   "source": [
    "nombre_infected       932\n",
    "nombre_sain          1721\n",
    "nombre_exposed        447\n",
    "nombre_recovered    16900\n",
    "Name: 189, dtype: int64"
   ]
  },
  {
   "cell_type": "markdown",
   "id": "e55ec962",
   "metadata": {},
   "source": [
    "nombre_infected       928\n",
    "nombre_sain          1684\n",
    "nombre_exposed        434\n",
    "nombre_recovered    16954\n",
    "Name: 190, dtype: int64"
   ]
  },
  {
   "cell_type": "markdown",
   "id": "19ce8616",
   "metadata": {},
   "source": [
    "nombre_infected       895\n",
    "nombre_sain          1631\n",
    "nombre_exposed        435\n",
    "nombre_recovered    17039\n",
    "Name: 191, dtype: int64"
   ]
  },
  {
   "cell_type": "markdown",
   "id": "d8dac1e9",
   "metadata": {},
   "source": [
    "nombre_infected       875\n",
    "nombre_sain          1613\n",
    "nombre_exposed        412\n",
    "nombre_recovered    17100\n",
    "Name: 192, dtype: int64"
   ]
  },
  {
   "cell_type": "markdown",
   "id": "5213e6bd",
   "metadata": {},
   "source": [
    "nombre_infected       859\n",
    "nombre_sain          1585\n",
    "nombre_exposed        387\n",
    "nombre_recovered    17169\n",
    "Name: 193, dtype: int64"
   ]
  },
  {
   "cell_type": "markdown",
   "id": "c3d9cff5",
   "metadata": {},
   "source": [
    "nombre_infected       829\n",
    "nombre_sain          1577\n",
    "nombre_exposed        355\n",
    "nombre_recovered    17239\n",
    "Name: 194, dtype: int64"
   ]
  },
  {
   "cell_type": "markdown",
   "id": "f785d143",
   "metadata": {},
   "source": [
    "nombre_infected       807\n",
    "nombre_sain          1533\n",
    "nombre_exposed        342\n",
    "nombre_recovered    17318\n",
    "Name: 195, dtype: int64"
   ]
  },
  {
   "cell_type": "markdown",
   "id": "25787336",
   "metadata": {},
   "source": [
    "nombre_infected       803\n",
    "nombre_sain          1513\n",
    "nombre_exposed        311\n",
    "nombre_recovered    17373\n",
    "Name: 196, dtype: int64"
   ]
  },
  {
   "cell_type": "markdown",
   "id": "eaca5740",
   "metadata": {},
   "source": [
    "nombre_infected       771\n",
    "nombre_sain          1494\n",
    "nombre_exposed        318\n",
    "nombre_recovered    17417\n",
    "Name: 197, dtype: int64"
   ]
  },
  {
   "cell_type": "markdown",
   "id": "8a12e808",
   "metadata": {},
   "source": [
    "nombre_infected       741\n",
    "nombre_sain          1467\n",
    "nombre_exposed        312\n",
    "nombre_recovered    17480\n",
    "Name: 198, dtype: int64"
   ]
  },
  {
   "cell_type": "markdown",
   "id": "5cf62706",
   "metadata": {},
   "source": [
    "nombre_infected       726\n",
    "nombre_sain          1439\n",
    "nombre_exposed        292\n",
    "nombre_recovered    17543\n",
    "Name: 199, dtype: int64"
   ]
  },
  {
   "cell_type": "markdown",
   "id": "cb0e3ad9",
   "metadata": {},
   "source": [
    "nombre_infected       712\n",
    "nombre_sain          1440\n",
    "nombre_exposed        287\n",
    "nombre_recovered    17561\n",
    "Name: 200, dtype: int64"
   ]
  },
  {
   "cell_type": "markdown",
   "id": "3c8c7201",
   "metadata": {},
   "source": [
    "nombre_infected       688\n",
    "nombre_sain          1422\n",
    "nombre_exposed        281\n",
    "nombre_recovered    17609\n",
    "Name: 201, dtype: int64"
   ]
  },
  {
   "cell_type": "markdown",
   "id": "3a1fe65a",
   "metadata": {},
   "source": [
    "nombre_infected       658\n",
    "nombre_sain          1422\n",
    "nombre_exposed        288\n",
    "nombre_recovered    17632\n",
    "Name: 202, dtype: int64"
   ]
  },
  {
   "cell_type": "markdown",
   "id": "36c0a495",
   "metadata": {},
   "source": [
    "nombre_infected       646\n",
    "nombre_sain          1412\n",
    "nombre_exposed        281\n",
    "nombre_recovered    17661\n",
    "Name: 203, dtype: int64"
   ]
  },
  {
   "cell_type": "markdown",
   "id": "8f82a135",
   "metadata": {},
   "source": [
    "nombre_infected       632\n",
    "nombre_sain          1423\n",
    "nombre_exposed        270\n",
    "nombre_recovered    17675\n",
    "Name: 204, dtype: int64"
   ]
  },
  {
   "cell_type": "markdown",
   "id": "04360d8b",
   "metadata": {},
   "source": [
    "nombre_infected       627\n",
    "nombre_sain          1447\n",
    "nombre_exposed        250\n",
    "nombre_recovered    17676\n",
    "Name: 205, dtype: int64"
   ]
  },
  {
   "cell_type": "markdown",
   "id": "997f2a88",
   "metadata": {},
   "source": [
    "nombre_infected       606\n",
    "nombre_sain          1482\n",
    "nombre_exposed        232\n",
    "nombre_recovered    17680\n",
    "Name: 206, dtype: int64"
   ]
  },
  {
   "cell_type": "markdown",
   "id": "23be0328",
   "metadata": {},
   "source": [
    "nombre_infected       587\n",
    "nombre_sain          1509\n",
    "nombre_exposed        223\n",
    "nombre_recovered    17681\n",
    "Name: 207, dtype: int64"
   ]
  },
  {
   "cell_type": "markdown",
   "id": "23a36270",
   "metadata": {},
   "source": [
    "nombre_infected       569\n",
    "nombre_sain          1543\n",
    "nombre_exposed        206\n",
    "nombre_recovered    17682\n",
    "Name: 208, dtype: int64"
   ]
  },
  {
   "cell_type": "markdown",
   "id": "4bf5c68a",
   "metadata": {},
   "source": [
    "nombre_infected       552\n",
    "nombre_sain          1574\n",
    "nombre_exposed        197\n",
    "nombre_recovered    17677\n",
    "Name: 209, dtype: int64"
   ]
  },
  {
   "cell_type": "markdown",
   "id": "800d40b2",
   "metadata": {},
   "source": [
    "nombre_infected       527\n",
    "nombre_sain          1617\n",
    "nombre_exposed        195\n",
    "nombre_recovered    17661\n",
    "Name: 210, dtype: int64"
   ]
  },
  {
   "cell_type": "markdown",
   "id": "6c021e46",
   "metadata": {},
   "source": [
    "nombre_infected       495\n",
    "nombre_sain          1636\n",
    "nombre_exposed        217\n",
    "nombre_recovered    17652\n",
    "Name: 211, dtype: int64"
   ]
  },
  {
   "cell_type": "markdown",
   "id": "fb4dc8aa",
   "metadata": {},
   "source": [
    "nombre_infected       479\n",
    "nombre_sain          1674\n",
    "nombre_exposed        212\n",
    "nombre_recovered    17635\n",
    "Name: 212, dtype: int64"
   ]
  },
  {
   "cell_type": "markdown",
   "id": "2d8c95b9",
   "metadata": {},
   "source": [
    "nombre_infected       471\n",
    "nombre_sain          1706\n",
    "nombre_exposed        218\n",
    "nombre_recovered    17605\n",
    "Name: 213, dtype: int64"
   ]
  },
  {
   "cell_type": "markdown",
   "id": "8bd4a8b7",
   "metadata": {},
   "source": [
    "nombre_infected       447\n",
    "nombre_sain          1732\n",
    "nombre_exposed        213\n",
    "nombre_recovered    17608\n",
    "Name: 214, dtype: int64"
   ]
  },
  {
   "cell_type": "markdown",
   "id": "5d4d9127",
   "metadata": {},
   "source": [
    "nombre_infected       429\n",
    "nombre_sain          1744\n",
    "nombre_exposed        216\n",
    "nombre_recovered    17611\n",
    "Name: 215, dtype: int64"
   ]
  },
  {
   "cell_type": "markdown",
   "id": "af94ea64",
   "metadata": {},
   "source": [
    "nombre_infected       442\n",
    "nombre_sain          1768\n",
    "nombre_exposed        201\n",
    "nombre_recovered    17589\n",
    "Name: 216, dtype: int64"
   ]
  },
  {
   "cell_type": "markdown",
   "id": "29f99b12",
   "metadata": {},
   "source": [
    "nombre_infected       428\n",
    "nombre_sain          1789\n",
    "nombre_exposed        197\n",
    "nombre_recovered    17586\n",
    "Name: 217, dtype: int64"
   ]
  },
  {
   "cell_type": "markdown",
   "id": "ac952435",
   "metadata": {},
   "source": [
    "nombre_infected       423\n",
    "nombre_sain          1805\n",
    "nombre_exposed        184\n",
    "nombre_recovered    17588\n",
    "Name: 218, dtype: int64"
   ]
  },
  {
   "cell_type": "markdown",
   "id": "26b8f192",
   "metadata": {},
   "source": [
    "nombre_infected       421\n",
    "nombre_sain          1812\n",
    "nombre_exposed        198\n",
    "nombre_recovered    17569\n",
    "Name: 219, dtype: int64"
   ]
  },
  {
   "cell_type": "markdown",
   "id": "2f06ce5e",
   "metadata": {},
   "source": [
    "nombre_infected       413\n",
    "nombre_sain          1818\n",
    "nombre_exposed        217\n",
    "nombre_recovered    17552\n",
    "Name: 220, dtype: int64"
   ]
  },
  {
   "cell_type": "markdown",
   "id": "f65a00a9",
   "metadata": {},
   "source": [
    "nombre_infected       400\n",
    "nombre_sain          1815\n",
    "nombre_exposed        220\n",
    "nombre_recovered    17565\n",
    "Name: 221, dtype: int64"
   ]
  },
  {
   "cell_type": "markdown",
   "id": "ffc171a7",
   "metadata": {},
   "source": [
    "nombre_infected       403\n",
    "nombre_sain          1830\n",
    "nombre_exposed        217\n",
    "nombre_recovered    17550\n",
    "Name: 222, dtype: int64"
   ]
  },
  {
   "cell_type": "markdown",
   "id": "e5d5c423",
   "metadata": {},
   "source": [
    "nombre_infected       395\n",
    "nombre_sain          1833\n",
    "nombre_exposed        217\n",
    "nombre_recovered    17555\n",
    "Name: 223, dtype: int64"
   ]
  },
  {
   "cell_type": "markdown",
   "id": "401787a0",
   "metadata": {},
   "source": [
    "nombre_infected       388\n",
    "nombre_sain          1857\n",
    "nombre_exposed        209\n",
    "nombre_recovered    17546\n",
    "Name: 224, dtype: int64"
   ]
  },
  {
   "cell_type": "markdown",
   "id": "c20386ae",
   "metadata": {},
   "source": [
    "nombre_infected       380\n",
    "nombre_sain          1863\n",
    "nombre_exposed        209\n",
    "nombre_recovered    17548\n",
    "Name: 225, dtype: int64"
   ]
  },
  {
   "cell_type": "markdown",
   "id": "e77e5a18",
   "metadata": {},
   "source": [
    "nombre_infected       386\n",
    "nombre_sain          1876\n",
    "nombre_exposed        214\n",
    "nombre_recovered    17524\n",
    "Name: 226, dtype: int64"
   ]
  },
  {
   "cell_type": "markdown",
   "id": "eaa2859c",
   "metadata": {},
   "source": [
    "nombre_infected       395\n",
    "nombre_sain          1912\n",
    "nombre_exposed        206\n",
    "nombre_recovered    17487\n",
    "Name: 227, dtype: int64"
   ]
  },
  {
   "cell_type": "markdown",
   "id": "529aa482",
   "metadata": {},
   "source": [
    "nombre_infected       414\n",
    "nombre_sain          1932\n",
    "nombre_exposed        188\n",
    "nombre_recovered    17466\n",
    "Name: 228, dtype: int64"
   ]
  },
  {
   "cell_type": "markdown",
   "id": "72b95962",
   "metadata": {},
   "source": [
    "nombre_infected       401\n",
    "nombre_sain          1954\n",
    "nombre_exposed        195\n",
    "nombre_recovered    17450\n",
    "Name: 229, dtype: int64"
   ]
  },
  {
   "cell_type": "markdown",
   "id": "4c11ac08",
   "metadata": {},
   "source": [
    "nombre_infected       397\n",
    "nombre_sain          1975\n",
    "nombre_exposed        208\n",
    "nombre_recovered    17420\n",
    "Name: 230, dtype: int64"
   ]
  },
  {
   "cell_type": "markdown",
   "id": "1a5293b1",
   "metadata": {},
   "source": [
    "nombre_infected       390\n",
    "nombre_sain          1994\n",
    "nombre_exposed        215\n",
    "nombre_recovered    17401\n",
    "Name: 231, dtype: int64"
   ]
  },
  {
   "cell_type": "markdown",
   "id": "aa7aa5c0",
   "metadata": {},
   "source": [
    "nombre_infected       400\n",
    "nombre_sain          2047\n",
    "nombre_exposed        195\n",
    "nombre_recovered    17358\n",
    "Name: 232, dtype: int64"
   ]
  },
  {
   "cell_type": "markdown",
   "id": "5d481c14",
   "metadata": {},
   "source": [
    "nombre_infected       401\n",
    "nombre_sain          2086\n",
    "nombre_exposed        186\n",
    "nombre_recovered    17327\n",
    "Name: 233, dtype: int64"
   ]
  },
  {
   "cell_type": "markdown",
   "id": "5dd2fb35",
   "metadata": {},
   "source": [
    "nombre_infected       398\n",
    "nombre_sain          2113\n",
    "nombre_exposed        195\n",
    "nombre_recovered    17294\n",
    "Name: 234, dtype: int64"
   ]
  },
  {
   "cell_type": "markdown",
   "id": "af31882b",
   "metadata": {},
   "source": [
    "nombre_infected       393\n",
    "nombre_sain          2145\n",
    "nombre_exposed        207\n",
    "nombre_recovered    17255\n",
    "Name: 235, dtype: int64"
   ]
  },
  {
   "cell_type": "markdown",
   "id": "063ebabe",
   "metadata": {},
   "source": [
    "nombre_infected       386\n",
    "nombre_sain          2194\n",
    "nombre_exposed        214\n",
    "nombre_recovered    17206\n",
    "Name: 236, dtype: int64"
   ]
  },
  {
   "cell_type": "markdown",
   "id": "dc228285",
   "metadata": {},
   "source": [
    "nombre_infected       410\n",
    "nombre_sain          2217\n",
    "nombre_exposed        203\n",
    "nombre_recovered    17170\n",
    "Name: 237, dtype: int64"
   ]
  },
  {
   "cell_type": "markdown",
   "id": "e9a36032",
   "metadata": {},
   "source": [
    "nombre_infected       408\n",
    "nombre_sain          2254\n",
    "nombre_exposed        205\n",
    "nombre_recovered    17133\n",
    "Name: 238, dtype: int64"
   ]
  },
  {
   "cell_type": "markdown",
   "id": "a74d279e",
   "metadata": {},
   "source": [
    "nombre_infected       405\n",
    "nombre_sain          2279\n",
    "nombre_exposed        213\n",
    "nombre_recovered    17103\n",
    "Name: 239, dtype: int64"
   ]
  },
  {
   "cell_type": "markdown",
   "id": "689351ab",
   "metadata": {},
   "source": [
    "nombre_infected       404\n",
    "nombre_sain          2299\n",
    "nombre_exposed        225\n",
    "nombre_recovered    17072\n",
    "Name: 240, dtype: int64"
   ]
  },
  {
   "cell_type": "markdown",
   "id": "d6d6d2ad",
   "metadata": {},
   "source": [
    "nombre_infected       397\n",
    "nombre_sain          2314\n",
    "nombre_exposed        246\n",
    "nombre_recovered    17043\n",
    "Name: 241, dtype: int64"
   ]
  },
  {
   "cell_type": "markdown",
   "id": "d74a3ac5",
   "metadata": {},
   "source": [
    "nombre_infected       414\n",
    "nombre_sain          2336\n",
    "nombre_exposed        245\n",
    "nombre_recovered    17005\n",
    "Name: 242, dtype: int64"
   ]
  },
  {
   "cell_type": "markdown",
   "id": "86b315a1",
   "metadata": {},
   "source": [
    "nombre_infected       406\n",
    "nombre_sain          2379\n",
    "nombre_exposed        257\n",
    "nombre_recovered    16958\n",
    "Name: 243, dtype: int64"
   ]
  },
  {
   "cell_type": "markdown",
   "id": "6499b720",
   "metadata": {},
   "source": [
    "nombre_infected       417\n",
    "nombre_sain          2405\n",
    "nombre_exposed        265\n",
    "nombre_recovered    16913\n",
    "Name: 244, dtype: int64"
   ]
  },
  {
   "cell_type": "markdown",
   "id": "237b3d44",
   "metadata": {},
   "source": [
    "nombre_infected       428\n",
    "nombre_sain          2440\n",
    "nombre_exposed        264\n",
    "nombre_recovered    16868\n",
    "Name: 245, dtype: int64"
   ]
  },
  {
   "cell_type": "markdown",
   "id": "ca0a7205",
   "metadata": {},
   "source": [
    "nombre_infected       456\n",
    "nombre_sain          2456\n",
    "nombre_exposed        272\n",
    "nombre_recovered    16816\n",
    "Name: 246, dtype: int64"
   ]
  },
  {
   "cell_type": "markdown",
   "id": "7b9b8960",
   "metadata": {},
   "source": [
    "nombre_infected       453\n",
    "nombre_sain          2483\n",
    "nombre_exposed        287\n",
    "nombre_recovered    16777\n",
    "Name: 247, dtype: int64"
   ]
  },
  {
   "cell_type": "markdown",
   "id": "3358d2a1",
   "metadata": {},
   "source": [
    "nombre_infected       459\n",
    "nombre_sain          2512\n",
    "nombre_exposed        276\n",
    "nombre_recovered    16753\n",
    "Name: 248, dtype: int64"
   ]
  },
  {
   "cell_type": "markdown",
   "id": "675fecb3",
   "metadata": {},
   "source": [
    "nombre_infected       464\n",
    "nombre_sain          2515\n",
    "nombre_exposed        284\n",
    "nombre_recovered    16737\n",
    "Name: 249, dtype: int64"
   ]
  },
  {
   "cell_type": "markdown",
   "id": "57da7abd",
   "metadata": {},
   "source": [
    "nombre_infected       449\n",
    "nombre_sain          2531\n",
    "nombre_exposed        302\n",
    "nombre_recovered    16718\n",
    "Name: 250, dtype: int64"
   ]
  },
  {
   "cell_type": "markdown",
   "id": "b244bd33",
   "metadata": {},
   "source": [
    "nombre_infected       452\n",
    "nombre_sain          2555\n",
    "nombre_exposed        305\n",
    "nombre_recovered    16688\n",
    "Name: 251, dtype: int64"
   ]
  },
  {
   "cell_type": "markdown",
   "id": "3edd1277",
   "metadata": {},
   "source": [
    "nombre_infected       471\n",
    "nombre_sain          2555\n",
    "nombre_exposed        294\n",
    "nombre_recovered    16680\n",
    "Name: 252, dtype: int64"
   ]
  },
  {
   "cell_type": "markdown",
   "id": "0ed519a0",
   "metadata": {},
   "source": [
    "nombre_infected       474\n",
    "nombre_sain          2579\n",
    "nombre_exposed        295\n",
    "nombre_recovered    16652\n",
    "Name: 253, dtype: int64"
   ]
  },
  {
   "cell_type": "markdown",
   "id": "1f252b9d",
   "metadata": {},
   "source": [
    "nombre_infected       459\n",
    "nombre_sain          2594\n",
    "nombre_exposed        306\n",
    "nombre_recovered    16641\n",
    "Name: 254, dtype: int64"
   ]
  },
  {
   "cell_type": "markdown",
   "id": "08ecaab0",
   "metadata": {},
   "source": [
    "nombre_infected       448\n",
    "nombre_sain          2593\n",
    "nombre_exposed        324\n",
    "nombre_recovered    16635\n",
    "Name: 255, dtype: int64"
   ]
  },
  {
   "cell_type": "markdown",
   "id": "306671b8",
   "metadata": {},
   "source": [
    "nombre_infected       463\n",
    "nombre_sain          2616\n",
    "nombre_exposed        311\n",
    "nombre_recovered    16610\n",
    "Name: 256, dtype: int64"
   ]
  },
  {
   "cell_type": "markdown",
   "id": "18f71073",
   "metadata": {},
   "source": [
    "nombre_infected       492\n",
    "nombre_sain          2637\n",
    "nombre_exposed        295\n",
    "nombre_recovered    16576\n",
    "Name: 257, dtype: int64"
   ]
  },
  {
   "cell_type": "markdown",
   "id": "0bccc469",
   "metadata": {},
   "source": [
    "nombre_infected       477\n",
    "nombre_sain          2636\n",
    "nombre_exposed        316\n",
    "nombre_recovered    16571\n",
    "Name: 258, dtype: int64"
   ]
  },
  {
   "cell_type": "markdown",
   "id": "2a4cac15",
   "metadata": {},
   "source": [
    "nombre_infected       483\n",
    "nombre_sain          2659\n",
    "nombre_exposed        315\n",
    "nombre_recovered    16543\n",
    "Name: 259, dtype: int64"
   ]
  },
  {
   "cell_type": "markdown",
   "id": "70e56266",
   "metadata": {},
   "source": [
    "nombre_infected       501\n",
    "nombre_sain          2662\n",
    "nombre_exposed        332\n",
    "nombre_recovered    16505\n",
    "Name: 260, dtype: int64"
   ]
  },
  {
   "cell_type": "markdown",
   "id": "947d373d",
   "metadata": {},
   "source": [
    "nombre_infected       501\n",
    "nombre_sain          2648\n",
    "nombre_exposed        350\n",
    "nombre_recovered    16501\n",
    "Name: 261, dtype: int64"
   ]
  },
  {
   "cell_type": "markdown",
   "id": "4714bad7",
   "metadata": {},
   "source": [
    "nombre_infected       507\n",
    "nombre_sain          2643\n",
    "nombre_exposed        370\n",
    "nombre_recovered    16480\n",
    "Name: 262, dtype: int64"
   ]
  },
  {
   "cell_type": "markdown",
   "id": "afcea88c",
   "metadata": {},
   "source": [
    "nombre_infected       536\n",
    "nombre_sain          2652\n",
    "nombre_exposed        361\n",
    "nombre_recovered    16451\n",
    "Name: 263, dtype: int64"
   ]
  },
  {
   "cell_type": "markdown",
   "id": "9900055f",
   "metadata": {},
   "source": [
    "nombre_infected       542\n",
    "nombre_sain          2657\n",
    "nombre_exposed        361\n",
    "nombre_recovered    16440\n",
    "Name: 264, dtype: int64"
   ]
  },
  {
   "cell_type": "markdown",
   "id": "1bdb001e",
   "metadata": {},
   "source": [
    "nombre_infected       542\n",
    "nombre_sain          2689\n",
    "nombre_exposed        353\n",
    "nombre_recovered    16416\n",
    "Name: 265, dtype: int64"
   ]
  },
  {
   "cell_type": "markdown",
   "id": "dd9ad923",
   "metadata": {},
   "source": [
    "nombre_infected       561\n",
    "nombre_sain          2674\n",
    "nombre_exposed        357\n",
    "nombre_recovered    16408\n",
    "Name: 266, dtype: int64"
   ]
  },
  {
   "cell_type": "markdown",
   "id": "37f5d3ae",
   "metadata": {},
   "source": [
    "nombre_infected       569\n",
    "nombre_sain          2655\n",
    "nombre_exposed        375\n",
    "nombre_recovered    16401\n",
    "Name: 267, dtype: int64"
   ]
  },
  {
   "cell_type": "markdown",
   "id": "bfec6432",
   "metadata": {},
   "source": [
    "nombre_infected       577\n",
    "nombre_sain          2656\n",
    "nombre_exposed        372\n",
    "nombre_recovered    16395\n",
    "Name: 268, dtype: int64"
   ]
  },
  {
   "cell_type": "markdown",
   "id": "a5375244",
   "metadata": {},
   "source": [
    "nombre_infected       589\n",
    "nombre_sain          2623\n",
    "nombre_exposed        418\n",
    "nombre_recovered    16370\n",
    "Name: 269, dtype: int64"
   ]
  },
  {
   "cell_type": "markdown",
   "id": "b93e72b9",
   "metadata": {},
   "source": [
    "nombre_infected       624\n",
    "nombre_sain          2601\n",
    "nombre_exposed        402\n",
    "nombre_recovered    16373\n",
    "Name: 270, dtype: int64"
   ]
  },
  {
   "cell_type": "markdown",
   "id": "c6d68696",
   "metadata": {},
   "source": [
    "nombre_infected       614\n",
    "nombre_sain          2590\n",
    "nombre_exposed        421\n",
    "nombre_recovered    16375\n",
    "Name: 271, dtype: int64"
   ]
  },
  {
   "cell_type": "markdown",
   "id": "e1c3b526",
   "metadata": {},
   "source": [
    "nombre_infected       648\n",
    "nombre_sain          2564\n",
    "nombre_exposed        412\n",
    "nombre_recovered    16376\n",
    "Name: 272, dtype: int64"
   ]
  },
  {
   "cell_type": "markdown",
   "id": "c71fa850",
   "metadata": {},
   "source": [
    "nombre_infected       671\n",
    "nombre_sain          2547\n",
    "nombre_exposed        409\n",
    "nombre_recovered    16373\n",
    "Name: 273, dtype: int64"
   ]
  },
  {
   "cell_type": "markdown",
   "id": "b9ae0629",
   "metadata": {},
   "source": [
    "nombre_infected       699\n",
    "nombre_sain          2518\n",
    "nombre_exposed        403\n",
    "nombre_recovered    16380\n",
    "Name: 274, dtype: int64"
   ]
  },
  {
   "cell_type": "markdown",
   "id": "60b5d7ae",
   "metadata": {},
   "source": [
    "nombre_infected       711\n",
    "nombre_sain          2490\n",
    "nombre_exposed        431\n",
    "nombre_recovered    16368\n",
    "Name: 275, dtype: int64"
   ]
  },
  {
   "cell_type": "markdown",
   "id": "ce3d2b39",
   "metadata": {},
   "source": [
    "nombre_infected       695\n",
    "nombre_sain          2481\n",
    "nombre_exposed        440\n",
    "nombre_recovered    16384\n",
    "Name: 276, dtype: int64"
   ]
  },
  {
   "cell_type": "markdown",
   "id": "56739d39",
   "metadata": {},
   "source": [
    "nombre_infected       715\n",
    "nombre_sain          2467\n",
    "nombre_exposed        442\n",
    "nombre_recovered    16376\n",
    "Name: 277, dtype: int64"
   ]
  },
  {
   "cell_type": "markdown",
   "id": "8194b055",
   "metadata": {},
   "source": [
    "nombre_infected       723\n",
    "nombre_sain          2431\n",
    "nombre_exposed        452\n",
    "nombre_recovered    16394\n",
    "Name: 278, dtype: int64"
   ]
  },
  {
   "cell_type": "markdown",
   "id": "9e95d3bb",
   "metadata": {},
   "source": [
    "nombre_infected       742\n",
    "nombre_sain          2407\n",
    "nombre_exposed        472\n",
    "nombre_recovered    16379\n",
    "Name: 279, dtype: int64"
   ]
  },
  {
   "cell_type": "markdown",
   "id": "7e4c87c4",
   "metadata": {},
   "source": [
    "nombre_infected       765\n",
    "nombre_sain          2392\n",
    "nombre_exposed        483\n",
    "nombre_recovered    16360\n",
    "Name: 280, dtype: int64"
   ]
  },
  {
   "cell_type": "markdown",
   "id": "1d26bbf5",
   "metadata": {},
   "source": [
    "nombre_infected       809\n",
    "nombre_sain          2338\n",
    "nombre_exposed        500\n",
    "nombre_recovered    16353\n",
    "Name: 281, dtype: int64"
   ]
  },
  {
   "cell_type": "markdown",
   "id": "3ca58bc0",
   "metadata": {},
   "source": [
    "nombre_infected       820\n",
    "nombre_sain          2307\n",
    "nombre_exposed        509\n",
    "nombre_recovered    16364\n",
    "Name: 282, dtype: int64"
   ]
  },
  {
   "cell_type": "markdown",
   "id": "b9a238cf",
   "metadata": {},
   "source": [
    "nombre_infected       862\n",
    "nombre_sain          2287\n",
    "nombre_exposed        486\n",
    "nombre_recovered    16365\n",
    "Name: 283, dtype: int64"
   ]
  },
  {
   "cell_type": "markdown",
   "id": "9011adba",
   "metadata": {},
   "source": [
    "nombre_infected       890\n",
    "nombre_sain          2245\n",
    "nombre_exposed        500\n",
    "nombre_recovered    16365\n",
    "Name: 284, dtype: int64"
   ]
  },
  {
   "cell_type": "markdown",
   "id": "253d9914",
   "metadata": {},
   "source": [
    "nombre_infected       912\n",
    "nombre_sain          2249\n",
    "nombre_exposed        482\n",
    "nombre_recovered    16357\n",
    "Name: 285, dtype: int64"
   ]
  },
  {
   "cell_type": "markdown",
   "id": "7e458bfe",
   "metadata": {},
   "source": [
    "nombre_infected       915\n",
    "nombre_sain          2221\n",
    "nombre_exposed        489\n",
    "nombre_recovered    16375\n",
    "Name: 286, dtype: int64"
   ]
  },
  {
   "cell_type": "markdown",
   "id": "c5ae0b16",
   "metadata": {},
   "source": [
    "nombre_infected       912\n",
    "nombre_sain          2192\n",
    "nombre_exposed        485\n",
    "nombre_recovered    16411\n",
    "Name: 287, dtype: int64"
   ]
  },
  {
   "cell_type": "markdown",
   "id": "3e56b81f",
   "metadata": {},
   "source": [
    "nombre_infected       927\n",
    "nombre_sain          2149\n",
    "nombre_exposed        492\n",
    "nombre_recovered    16432\n",
    "Name: 288, dtype: int64"
   ]
  },
  {
   "cell_type": "markdown",
   "id": "5103c43e",
   "metadata": {},
   "source": [
    "nombre_infected       945\n",
    "nombre_sain          2123\n",
    "nombre_exposed        489\n",
    "nombre_recovered    16443\n",
    "Name: 289, dtype: int64"
   ]
  },
  {
   "cell_type": "markdown",
   "id": "3a6ce9c3",
   "metadata": {},
   "source": [
    "nombre_infected       938\n",
    "nombre_sain          2112\n",
    "nombre_exposed        486\n",
    "nombre_recovered    16464\n",
    "Name: 290, dtype: int64"
   ]
  },
  {
   "cell_type": "markdown",
   "id": "df763ac9",
   "metadata": {},
   "source": [
    "nombre_infected       935\n",
    "nombre_sain          2076\n",
    "nombre_exposed        476\n",
    "nombre_recovered    16513\n",
    "Name: 291, dtype: int64"
   ]
  },
  {
   "cell_type": "markdown",
   "id": "07b4f689",
   "metadata": {},
   "source": [
    "nombre_infected       923\n",
    "nombre_sain          2039\n",
    "nombre_exposed        498\n",
    "nombre_recovered    16540\n",
    "Name: 292, dtype: int64"
   ]
  },
  {
   "cell_type": "markdown",
   "id": "4171bca7",
   "metadata": {},
   "source": [
    "nombre_infected       920\n",
    "nombre_sain          2021\n",
    "nombre_exposed        488\n",
    "nombre_recovered    16571\n",
    "Name: 293, dtype: int64"
   ]
  },
  {
   "cell_type": "markdown",
   "id": "5a4f100c",
   "metadata": {},
   "source": [
    "nombre_infected       938\n",
    "nombre_sain          2010\n",
    "nombre_exposed        461\n",
    "nombre_recovered    16591\n",
    "Name: 294, dtype: int64"
   ]
  },
  {
   "cell_type": "markdown",
   "id": "cc68ad11",
   "metadata": {},
   "source": [
    "nombre_infected       937\n",
    "nombre_sain          1977\n",
    "nombre_exposed        477\n",
    "nombre_recovered    16609\n",
    "Name: 295, dtype: int64"
   ]
  },
  {
   "cell_type": "markdown",
   "id": "105ae653",
   "metadata": {},
   "source": [
    "nombre_infected       954\n",
    "nombre_sain          1988\n",
    "nombre_exposed        448\n",
    "nombre_recovered    16610\n",
    "Name: 296, dtype: int64"
   ]
  },
  {
   "cell_type": "markdown",
   "id": "107a4f0e",
   "metadata": {},
   "source": [
    "nombre_infected       939\n",
    "nombre_sain          1981\n",
    "nombre_exposed        466\n",
    "nombre_recovered    16614\n",
    "Name: 297, dtype: int64"
   ]
  },
  {
   "cell_type": "markdown",
   "id": "a45c3f5e",
   "metadata": {},
   "source": [
    "nombre_infected       927\n",
    "nombre_sain          1955\n",
    "nombre_exposed        480\n",
    "nombre_recovered    16638\n",
    "Name: 298, dtype: int64"
   ]
  },
  {
   "cell_type": "markdown",
   "id": "75f6ed8e",
   "metadata": {},
   "source": [
    "nombre_infected       939\n",
    "nombre_sain          1931\n",
    "nombre_exposed        487\n",
    "nombre_recovered    16643\n",
    "Name: 299, dtype: int64"
   ]
  },
  {
   "cell_type": "markdown",
   "id": "f99cfbb7",
   "metadata": {},
   "source": [
    "nombre_infected       931\n",
    "nombre_sain          1928\n",
    "nombre_exposed        479\n",
    "nombre_recovered    16662\n",
    "Name: 300, dtype: int64"
   ]
  },
  {
   "cell_type": "markdown",
   "id": "d9ac0134",
   "metadata": {},
   "source": [
    "nombre_infected       933\n",
    "nombre_sain          1921\n",
    "nombre_exposed        481\n",
    "nombre_recovered    16665\n",
    "Name: 301, dtype: int64"
   ]
  },
  {
   "cell_type": "markdown",
   "id": "e13aa430",
   "metadata": {},
   "source": [
    "nombre_infected       917\n",
    "nombre_sain          1910\n",
    "nombre_exposed        501\n",
    "nombre_recovered    16672\n",
    "Name: 302, dtype: int64"
   ]
  },
  {
   "cell_type": "markdown",
   "id": "4ef57cdf",
   "metadata": {},
   "source": [
    "nombre_infected       916\n",
    "nombre_sain          1918\n",
    "nombre_exposed        494\n",
    "nombre_recovered    16672\n",
    "Name: 303, dtype: int64"
   ]
  },
  {
   "cell_type": "markdown",
   "id": "07f31e09",
   "metadata": {},
   "source": [
    "nombre_infected       913\n",
    "nombre_sain          1903\n",
    "nombre_exposed        478\n",
    "nombre_recovered    16706\n",
    "Name: 304, dtype: int64"
   ]
  },
  {
   "cell_type": "markdown",
   "id": "2deedd2b",
   "metadata": {},
   "source": [
    "nombre_infected       910\n",
    "nombre_sain          1902\n",
    "nombre_exposed        459\n",
    "nombre_recovered    16729\n",
    "Name: 305, dtype: int64"
   ]
  },
  {
   "cell_type": "markdown",
   "id": "822d0b57",
   "metadata": {},
   "source": [
    "nombre_infected       908\n",
    "nombre_sain          1898\n",
    "nombre_exposed        462\n",
    "nombre_recovered    16732\n",
    "Name: 306, dtype: int64"
   ]
  },
  {
   "cell_type": "markdown",
   "id": "fdf94906",
   "metadata": {},
   "source": [
    "nombre_infected       874\n",
    "nombre_sain          1887\n",
    "nombre_exposed        471\n",
    "nombre_recovered    16768\n",
    "Name: 307, dtype: int64"
   ]
  },
  {
   "cell_type": "markdown",
   "id": "43b6cebd",
   "metadata": {},
   "source": [
    "nombre_infected       833\n",
    "nombre_sain          1885\n",
    "nombre_exposed        482\n",
    "nombre_recovered    16800\n",
    "Name: 308, dtype: int64"
   ]
  },
  {
   "cell_type": "markdown",
   "id": "1c7c2bb6",
   "metadata": {},
   "source": [
    "nombre_infected       817\n",
    "nombre_sain          1898\n",
    "nombre_exposed        478\n",
    "nombre_recovered    16807\n",
    "Name: 309, dtype: int64"
   ]
  },
  {
   "cell_type": "markdown",
   "id": "e002f497",
   "metadata": {},
   "source": [
    "nombre_infected       814\n",
    "nombre_sain          1877\n",
    "nombre_exposed        479\n",
    "nombre_recovered    16830\n",
    "Name: 310, dtype: int64"
   ]
  },
  {
   "cell_type": "markdown",
   "id": "b77d68dd",
   "metadata": {},
   "source": [
    "nombre_infected       799\n",
    "nombre_sain          1881\n",
    "nombre_exposed        479\n",
    "nombre_recovered    16841\n",
    "Name: 311, dtype: int64"
   ]
  },
  {
   "cell_type": "markdown",
   "id": "19aaa98e",
   "metadata": {},
   "source": [
    "nombre_infected       796\n",
    "nombre_sain          1875\n",
    "nombre_exposed        468\n",
    "nombre_recovered    16861\n",
    "Name: 312, dtype: int64"
   ]
  },
  {
   "cell_type": "markdown",
   "id": "373f807d",
   "metadata": {},
   "source": [
    "nombre_infected       793\n",
    "nombre_sain          1877\n",
    "nombre_exposed        458\n",
    "nombre_recovered    16872\n",
    "Name: 313, dtype: int64"
   ]
  },
  {
   "cell_type": "markdown",
   "id": "321a3084",
   "metadata": {},
   "source": [
    "nombre_infected       816\n",
    "nombre_sain          1867\n",
    "nombre_exposed        440\n",
    "nombre_recovered    16877\n",
    "Name: 314, dtype: int64"
   ]
  },
  {
   "cell_type": "markdown",
   "id": "029f17fc",
   "metadata": {},
   "source": [
    "nombre_infected       795\n",
    "nombre_sain          1877\n",
    "nombre_exposed        441\n",
    "nombre_recovered    16887\n",
    "Name: 315, dtype: int64"
   ]
  },
  {
   "cell_type": "markdown",
   "id": "7922e1b8",
   "metadata": {},
   "source": [
    "nombre_infected       779\n",
    "nombre_sain          1891\n",
    "nombre_exposed        430\n",
    "nombre_recovered    16900\n",
    "Name: 316, dtype: int64"
   ]
  },
  {
   "cell_type": "markdown",
   "id": "52d7b4da",
   "metadata": {},
   "source": [
    "nombre_infected       768\n",
    "nombre_sain          1901\n",
    "nombre_exposed        420\n",
    "nombre_recovered    16911\n",
    "Name: 317, dtype: int64"
   ]
  },
  {
   "cell_type": "markdown",
   "id": "13792180",
   "metadata": {},
   "source": [
    "nombre_infected       780\n",
    "nombre_sain          1918\n",
    "nombre_exposed        411\n",
    "nombre_recovered    16891\n",
    "Name: 318, dtype: int64"
   ]
  },
  {
   "cell_type": "markdown",
   "id": "e2387fb3",
   "metadata": {},
   "source": [
    "nombre_infected       756\n",
    "nombre_sain          1932\n",
    "nombre_exposed        413\n",
    "nombre_recovered    16899\n",
    "Name: 319, dtype: int64"
   ]
  },
  {
   "cell_type": "markdown",
   "id": "bb1b08ce",
   "metadata": {},
   "source": [
    "nombre_infected       743\n",
    "nombre_sain          1936\n",
    "nombre_exposed        415\n",
    "nombre_recovered    16906\n",
    "Name: 320, dtype: int64"
   ]
  },
  {
   "cell_type": "markdown",
   "id": "8f6b1943",
   "metadata": {},
   "source": [
    "nombre_infected       735\n",
    "nombre_sain          1940\n",
    "nombre_exposed        424\n",
    "nombre_recovered    16901\n",
    "Name: 321, dtype: int64"
   ]
  },
  {
   "cell_type": "markdown",
   "id": "4cfd3590",
   "metadata": {},
   "source": [
    "nombre_infected       720\n",
    "nombre_sain          1929\n",
    "nombre_exposed        441\n",
    "nombre_recovered    16910\n",
    "Name: 322, dtype: int64"
   ]
  },
  {
   "cell_type": "markdown",
   "id": "03f3fbb7",
   "metadata": {},
   "source": [
    "nombre_infected       720\n",
    "nombre_sain          1940\n",
    "nombre_exposed        432\n",
    "nombre_recovered    16908\n",
    "Name: 323, dtype: int64"
   ]
  },
  {
   "cell_type": "markdown",
   "id": "d01d1ce6",
   "metadata": {},
   "source": [
    "nombre_infected       715\n",
    "nombre_sain          1962\n",
    "nombre_exposed        424\n",
    "nombre_recovered    16899\n",
    "Name: 324, dtype: int64"
   ]
  },
  {
   "cell_type": "markdown",
   "id": "8327ff31",
   "metadata": {},
   "source": [
    "nombre_infected       711\n",
    "nombre_sain          1948\n",
    "nombre_exposed        425\n",
    "nombre_recovered    16916\n",
    "Name: 325, dtype: int64"
   ]
  },
  {
   "cell_type": "markdown",
   "id": "db44a065",
   "metadata": {},
   "source": [
    "nombre_infected       705\n",
    "nombre_sain          1965\n",
    "nombre_exposed        409\n",
    "nombre_recovered    16921\n",
    "Name: 326, dtype: int64"
   ]
  },
  {
   "cell_type": "markdown",
   "id": "60c76fcb",
   "metadata": {},
   "source": [
    "nombre_infected       705\n",
    "nombre_sain          1972\n",
    "nombre_exposed        412\n",
    "nombre_recovered    16911\n",
    "Name: 327, dtype: int64"
   ]
  },
  {
   "cell_type": "markdown",
   "id": "75d7ce0d",
   "metadata": {},
   "source": [
    "nombre_infected       711\n",
    "nombre_sain          1973\n",
    "nombre_exposed        408\n",
    "nombre_recovered    16908\n",
    "Name: 328, dtype: int64"
   ]
  },
  {
   "cell_type": "markdown",
   "id": "188dd037",
   "metadata": {},
   "source": [
    "nombre_infected       704\n",
    "nombre_sain          2002\n",
    "nombre_exposed        399\n",
    "nombre_recovered    16895\n",
    "Name: 329, dtype: int64"
   ]
  },
  {
   "cell_type": "markdown",
   "id": "c7729f02",
   "metadata": {},
   "source": [
    "nombre_infected       724\n",
    "nombre_sain          2002\n",
    "nombre_exposed        390\n",
    "nombre_recovered    16884\n",
    "Name: 330, dtype: int64"
   ]
  },
  {
   "cell_type": "markdown",
   "id": "1aa998fb",
   "metadata": {},
   "source": [
    "nombre_infected       706\n",
    "nombre_sain          2024\n",
    "nombre_exposed        387\n",
    "nombre_recovered    16883\n",
    "Name: 331, dtype: int64"
   ]
  },
  {
   "cell_type": "markdown",
   "id": "590ce36f",
   "metadata": {},
   "source": [
    "nombre_infected       711\n",
    "nombre_sain          2034\n",
    "nombre_exposed        370\n",
    "nombre_recovered    16885\n",
    "Name: 332, dtype: int64"
   ]
  },
  {
   "cell_type": "markdown",
   "id": "af27cf17",
   "metadata": {},
   "source": [
    "nombre_infected       705\n",
    "nombre_sain          2027\n",
    "nombre_exposed        383\n",
    "nombre_recovered    16885\n",
    "Name: 333, dtype: int64"
   ]
  },
  {
   "cell_type": "markdown",
   "id": "a6557e7f",
   "metadata": {},
   "source": [
    "nombre_infected       698\n",
    "nombre_sain          2052\n",
    "nombre_exposed        366\n",
    "nombre_recovered    16884\n",
    "Name: 334, dtype: int64"
   ]
  },
  {
   "cell_type": "markdown",
   "id": "9ff5db81",
   "metadata": {},
   "source": [
    "nombre_infected       703\n",
    "nombre_sain          2056\n",
    "nombre_exposed        363\n",
    "nombre_recovered    16878\n",
    "Name: 335, dtype: int64"
   ]
  },
  {
   "cell_type": "markdown",
   "id": "8d59218e",
   "metadata": {},
   "source": [
    "nombre_infected       696\n",
    "nombre_sain          2045\n",
    "nombre_exposed        376\n",
    "nombre_recovered    16883\n",
    "Name: 336, dtype: int64"
   ]
  },
  {
   "cell_type": "markdown",
   "id": "625c59c5",
   "metadata": {},
   "source": [
    "nombre_infected       703\n",
    "nombre_sain          2073\n",
    "nombre_exposed        354\n",
    "nombre_recovered    16870\n",
    "Name: 337, dtype: int64"
   ]
  },
  {
   "cell_type": "markdown",
   "id": "2127fa99",
   "metadata": {},
   "source": [
    "nombre_infected       684\n",
    "nombre_sain          2085\n",
    "nombre_exposed        355\n",
    "nombre_recovered    16876\n",
    "Name: 338, dtype: int64"
   ]
  },
  {
   "cell_type": "markdown",
   "id": "bc32d545",
   "metadata": {},
   "source": [
    "nombre_infected       662\n",
    "nombre_sain          2100\n",
    "nombre_exposed        351\n",
    "nombre_recovered    16887\n",
    "Name: 339, dtype: int64"
   ]
  },
  {
   "cell_type": "markdown",
   "id": "fcc50d63",
   "metadata": {},
   "source": [
    "nombre_infected       676\n",
    "nombre_sain          2104\n",
    "nombre_exposed        352\n",
    "nombre_recovered    16868\n",
    "Name: 340, dtype: int64"
   ]
  },
  {
   "cell_type": "markdown",
   "id": "7e16efab",
   "metadata": {},
   "source": [
    "nombre_infected       678\n",
    "nombre_sain          2115\n",
    "nombre_exposed        353\n",
    "nombre_recovered    16854\n",
    "Name: 341, dtype: int64"
   ]
  },
  {
   "cell_type": "markdown",
   "id": "ffacfd02",
   "metadata": {},
   "source": [
    "nombre_infected       669\n",
    "nombre_sain          2125\n",
    "nombre_exposed        365\n",
    "nombre_recovered    16841\n",
    "Name: 342, dtype: int64"
   ]
  },
  {
   "cell_type": "markdown",
   "id": "e8e13381",
   "metadata": {},
   "source": [
    "nombre_infected       656\n",
    "nombre_sain          2150\n",
    "nombre_exposed        364\n",
    "nombre_recovered    16830\n",
    "Name: 343, dtype: int64"
   ]
  },
  {
   "cell_type": "markdown",
   "id": "a072e1f9",
   "metadata": {},
   "source": [
    "nombre_infected       652\n",
    "nombre_sain          2158\n",
    "nombre_exposed        382\n",
    "nombre_recovered    16808\n",
    "Name: 344, dtype: int64"
   ]
  },
  {
   "cell_type": "markdown",
   "id": "162d342c",
   "metadata": {},
   "source": [
    "nombre_infected       649\n",
    "nombre_sain          2152\n",
    "nombre_exposed        393\n",
    "nombre_recovered    16806\n",
    "Name: 345, dtype: int64"
   ]
  },
  {
   "cell_type": "markdown",
   "id": "f187772b",
   "metadata": {},
   "source": [
    "nombre_infected       663\n",
    "nombre_sain          2163\n",
    "nombre_exposed        381\n",
    "nombre_recovered    16793\n",
    "Name: 346, dtype: int64"
   ]
  },
  {
   "cell_type": "markdown",
   "id": "ed93e230",
   "metadata": {},
   "source": [
    "nombre_infected       664\n",
    "nombre_sain          2134\n",
    "nombre_exposed        386\n",
    "nombre_recovered    16816\n",
    "Name: 347, dtype: int64"
   ]
  },
  {
   "cell_type": "markdown",
   "id": "b43c81eb",
   "metadata": {},
   "source": [
    "nombre_infected       689\n",
    "nombre_sain          2125\n",
    "nombre_exposed        392\n",
    "nombre_recovered    16794\n",
    "Name: 348, dtype: int64"
   ]
  },
  {
   "cell_type": "markdown",
   "id": "1ac7f40f",
   "metadata": {},
   "source": [
    "nombre_infected       683\n",
    "nombre_sain          2144\n",
    "nombre_exposed        379\n",
    "nombre_recovered    16794\n",
    "Name: 349, dtype: int64"
   ]
  },
  {
   "cell_type": "markdown",
   "id": "adfda7db",
   "metadata": {},
   "source": [
    "nombre_infected       684\n",
    "nombre_sain          2144\n",
    "nombre_exposed        355\n",
    "nombre_recovered    16817\n",
    "Name: 350, dtype: int64"
   ]
  },
  {
   "cell_type": "markdown",
   "id": "5c636b8e",
   "metadata": {},
   "source": [
    "nombre_infected       675\n",
    "nombre_sain          2144\n",
    "nombre_exposed        358\n",
    "nombre_recovered    16823\n",
    "Name: 351, dtype: int64"
   ]
  },
  {
   "cell_type": "markdown",
   "id": "705058b4",
   "metadata": {},
   "source": [
    "nombre_infected       673\n",
    "nombre_sain          2143\n",
    "nombre_exposed        372\n",
    "nombre_recovered    16812\n",
    "Name: 352, dtype: int64"
   ]
  },
  {
   "cell_type": "markdown",
   "id": "4fed1bfc",
   "metadata": {},
   "source": [
    "nombre_infected       649\n",
    "nombre_sain          2135\n",
    "nombre_exposed        381\n",
    "nombre_recovered    16835\n",
    "Name: 353, dtype: int64"
   ]
  },
  {
   "cell_type": "markdown",
   "id": "13481e93",
   "metadata": {},
   "source": [
    "nombre_infected       651\n",
    "nombre_sain          2137\n",
    "nombre_exposed        384\n",
    "nombre_recovered    16828\n",
    "Name: 354, dtype: int64"
   ]
  },
  {
   "cell_type": "markdown",
   "id": "92a6f24a",
   "metadata": {},
   "source": [
    "nombre_infected       637\n",
    "nombre_sain          2157\n",
    "nombre_exposed        378\n",
    "nombre_recovered    16828\n",
    "Name: 355, dtype: int64"
   ]
  },
  {
   "cell_type": "markdown",
   "id": "d1fd6352",
   "metadata": {},
   "source": [
    "nombre_infected       642\n",
    "nombre_sain          2165\n",
    "nombre_exposed        372\n",
    "nombre_recovered    16821\n",
    "Name: 356, dtype: int64"
   ]
  },
  {
   "cell_type": "markdown",
   "id": "22ac2043",
   "metadata": {},
   "source": [
    "nombre_infected       637\n",
    "nombre_sain          2195\n",
    "nombre_exposed        368\n",
    "nombre_recovered    16800\n",
    "Name: 357, dtype: int64"
   ]
  },
  {
   "cell_type": "markdown",
   "id": "13de8278",
   "metadata": {},
   "source": [
    "nombre_infected       625\n",
    "nombre_sain          2220\n",
    "nombre_exposed        349\n",
    "nombre_recovered    16806\n",
    "Name: 358, dtype: int64"
   ]
  },
  {
   "cell_type": "markdown",
   "id": "0870db85",
   "metadata": {},
   "source": [
    "nombre_infected       625\n",
    "nombre_sain          2243\n",
    "nombre_exposed        347\n",
    "nombre_recovered    16785\n",
    "Name: 359, dtype: int64"
   ]
  },
  {
   "cell_type": "markdown",
   "id": "3b006b34",
   "metadata": {},
   "source": [
    "nombre_infected       618\n",
    "nombre_sain          2269\n",
    "nombre_exposed        348\n",
    "nombre_recovered    16765\n",
    "Name: 360, dtype: int64"
   ]
  },
  {
   "cell_type": "markdown",
   "id": "d0c6bc64",
   "metadata": {},
   "source": [
    "nombre_infected       623\n",
    "nombre_sain          2285\n",
    "nombre_exposed        354\n",
    "nombre_recovered    16738\n",
    "Name: 361, dtype: int64"
   ]
  },
  {
   "cell_type": "markdown",
   "id": "ac679ced",
   "metadata": {},
   "source": [
    "nombre_infected       622\n",
    "nombre_sain          2291\n",
    "nombre_exposed        377\n",
    "nombre_recovered    16710\n",
    "Name: 362, dtype: int64"
   ]
  },
  {
   "cell_type": "markdown",
   "id": "931e0920",
   "metadata": {},
   "source": [
    "nombre_infected       618\n",
    "nombre_sain          2306\n",
    "nombre_exposed        397\n",
    "nombre_recovered    16679\n",
    "Name: 363, dtype: int64"
   ]
  },
  {
   "cell_type": "markdown",
   "id": "865f561f",
   "metadata": {},
   "source": [
    "nombre_infected       628\n",
    "nombre_sain          2336\n",
    "nombre_exposed        396\n",
    "nombre_recovered    16640\n",
    "Name: 364, dtype: int64"
   ]
  },
  {
   "cell_type": "markdown",
   "id": "9626ffae",
   "metadata": {},
   "source": [
    "nombre_infected       659\n",
    "nombre_sain          2350\n",
    "nombre_exposed        388\n",
    "nombre_recovered    16603\n",
    "Name: 365, dtype: int64"
   ]
  },
  {
   "cell_type": "markdown",
   "id": "13a19ee3",
   "metadata": {},
   "source": [
    "nombre_infected       662\n",
    "nombre_sain          2375\n",
    "nombre_exposed        401\n",
    "nombre_recovered    16562\n",
    "Name: 366, dtype: int64"
   ]
  },
  {
   "cell_type": "markdown",
   "id": "e3ac7c0e",
   "metadata": {},
   "source": [
    "nombre_infected       680\n",
    "nombre_sain          2400\n",
    "nombre_exposed        392\n",
    "nombre_recovered    16528\n",
    "Name: 367, dtype: int64"
   ]
  },
  {
   "cell_type": "markdown",
   "id": "8ae6cf65",
   "metadata": {},
   "source": [
    "nombre_infected       728\n",
    "nombre_sain          2386\n",
    "nombre_exposed        399\n",
    "nombre_recovered    16487\n",
    "Name: 368, dtype: int64"
   ]
  },
  {
   "cell_type": "markdown",
   "id": "4b29a418",
   "metadata": {},
   "source": [
    "nombre_infected       719\n",
    "nombre_sain          2379\n",
    "nombre_exposed        436\n",
    "nombre_recovered    16466\n",
    "Name: 369, dtype: int64"
   ]
  },
  {
   "cell_type": "markdown",
   "id": "3553b2c4",
   "metadata": {},
   "source": [
    "nombre_infected       712\n",
    "nombre_sain          2394\n",
    "nombre_exposed        459\n",
    "nombre_recovered    16435\n",
    "Name: 370, dtype: int64"
   ]
  },
  {
   "cell_type": "markdown",
   "id": "b92b5ce0",
   "metadata": {},
   "source": [
    "nombre_infected       732\n",
    "nombre_sain          2409\n",
    "nombre_exposed        457\n",
    "nombre_recovered    16402\n",
    "Name: 371, dtype: int64"
   ]
  },
  {
   "cell_type": "markdown",
   "id": "10d05705",
   "metadata": {},
   "source": [
    "nombre_infected       766\n",
    "nombre_sain          2417\n",
    "nombre_exposed        440\n",
    "nombre_recovered    16377\n",
    "Name: 372, dtype: int64"
   ]
  },
  {
   "cell_type": "markdown",
   "id": "cdd540f8",
   "metadata": {},
   "source": [
    "nombre_infected       788\n",
    "nombre_sain          2429\n",
    "nombre_exposed        430\n",
    "nombre_recovered    16353\n",
    "Name: 373, dtype: int64"
   ]
  },
  {
   "cell_type": "markdown",
   "id": "5c3650de",
   "metadata": {},
   "source": [
    "nombre_infected       779\n",
    "nombre_sain          2394\n",
    "nombre_exposed        468\n",
    "nombre_recovered    16359\n",
    "Name: 374, dtype: int64"
   ]
  },
  {
   "cell_type": "markdown",
   "id": "7ecb24f1",
   "metadata": {},
   "source": [
    "nombre_infected       787\n",
    "nombre_sain          2385\n",
    "nombre_exposed        465\n",
    "nombre_recovered    16363\n",
    "Name: 375, dtype: int64"
   ]
  },
  {
   "cell_type": "markdown",
   "id": "f617bdfb",
   "metadata": {},
   "source": [
    "nombre_infected       798\n",
    "nombre_sain          2368\n",
    "nombre_exposed        465\n",
    "nombre_recovered    16369\n",
    "Name: 376, dtype: int64"
   ]
  },
  {
   "cell_type": "markdown",
   "id": "393b0e64",
   "metadata": {},
   "source": [
    "nombre_infected       818\n",
    "nombre_sain          2347\n",
    "nombre_exposed        479\n",
    "nombre_recovered    16356\n",
    "Name: 377, dtype: int64"
   ]
  },
  {
   "cell_type": "markdown",
   "id": "f596d593",
   "metadata": {},
   "source": [
    "nombre_infected       831\n",
    "nombre_sain          2322\n",
    "nombre_exposed        464\n",
    "nombre_recovered    16383\n",
    "Name: 378, dtype: int64"
   ]
  },
  {
   "cell_type": "markdown",
   "id": "96c74749",
   "metadata": {},
   "source": [
    "nombre_infected       838\n",
    "nombre_sain          2297\n",
    "nombre_exposed        477\n",
    "nombre_recovered    16388\n",
    "Name: 379, dtype: int64"
   ]
  },
  {
   "cell_type": "markdown",
   "id": "0ba84c41",
   "metadata": {},
   "source": [
    "nombre_infected       847\n",
    "nombre_sain          2257\n",
    "nombre_exposed        487\n",
    "nombre_recovered    16409\n",
    "Name: 380, dtype: int64"
   ]
  },
  {
   "cell_type": "markdown",
   "id": "ed472e1a",
   "metadata": {},
   "source": [
    "nombre_infected       850\n",
    "nombre_sain          2216\n",
    "nombre_exposed        504\n",
    "nombre_recovered    16430\n",
    "Name: 381, dtype: int64"
   ]
  },
  {
   "cell_type": "markdown",
   "id": "376ade2b",
   "metadata": {},
   "source": [
    "nombre_infected       882\n",
    "nombre_sain          2212\n",
    "nombre_exposed        485\n",
    "nombre_recovered    16421\n",
    "Name: 382, dtype: int64"
   ]
  },
  {
   "cell_type": "markdown",
   "id": "6288d196",
   "metadata": {},
   "source": [
    "nombre_infected       894\n",
    "nombre_sain          2216\n",
    "nombre_exposed        470\n",
    "nombre_recovered    16420\n",
    "Name: 383, dtype: int64"
   ]
  },
  {
   "cell_type": "markdown",
   "id": "fb021f69",
   "metadata": {},
   "source": [
    "nombre_infected       928\n",
    "nombre_sain          2196\n",
    "nombre_exposed        453\n",
    "nombre_recovered    16423\n",
    "Name: 384, dtype: int64"
   ]
  },
  {
   "cell_type": "markdown",
   "id": "5264502c",
   "metadata": {},
   "source": [
    "nombre_infected       918\n",
    "nombre_sain          2178\n",
    "nombre_exposed        469\n",
    "nombre_recovered    16435\n",
    "Name: 385, dtype: int64"
   ]
  },
  {
   "cell_type": "markdown",
   "id": "fc07e14c",
   "metadata": {},
   "source": [
    "nombre_infected       920\n",
    "nombre_sain          2139\n",
    "nombre_exposed        489\n",
    "nombre_recovered    16452\n",
    "Name: 386, dtype: int64"
   ]
  },
  {
   "cell_type": "markdown",
   "id": "27d5061c",
   "metadata": {},
   "source": [
    "nombre_infected       916\n",
    "nombre_sain          2106\n",
    "nombre_exposed        520\n",
    "nombre_recovered    16458\n",
    "Name: 387, dtype: int64"
   ]
  },
  {
   "cell_type": "markdown",
   "id": "873631fd",
   "metadata": {},
   "source": [
    "nombre_infected       922\n",
    "nombre_sain          2096\n",
    "nombre_exposed        509\n",
    "nombre_recovered    16473\n",
    "Name: 388, dtype: int64"
   ]
  },
  {
   "cell_type": "markdown",
   "id": "462096bc",
   "metadata": {},
   "source": [
    "nombre_infected       959\n",
    "nombre_sain          2066\n",
    "nombre_exposed        519\n",
    "nombre_recovered    16456\n",
    "Name: 389, dtype: int64"
   ]
  },
  {
   "cell_type": "markdown",
   "id": "8f1e7c4a",
   "metadata": {},
   "source": [
    "nombre_infected       984\n",
    "nombre_sain          2045\n",
    "nombre_exposed        514\n",
    "nombre_recovered    16457\n",
    "Name: 390, dtype: int64"
   ]
  },
  {
   "cell_type": "markdown",
   "id": "77fcfd7f",
   "metadata": {},
   "source": [
    "nombre_infected       987\n",
    "nombre_sain          2039\n",
    "nombre_exposed        489\n",
    "nombre_recovered    16485\n",
    "Name: 391, dtype: int64"
   ]
  },
  {
   "cell_type": "markdown",
   "id": "4ffd89d3",
   "metadata": {},
   "source": [
    "nombre_infected       983\n",
    "nombre_sain          2030\n",
    "nombre_exposed        489\n",
    "nombre_recovered    16498\n",
    "Name: 392, dtype: int64"
   ]
  },
  {
   "cell_type": "markdown",
   "id": "6afeab61",
   "metadata": {},
   "source": [
    "nombre_infected       974\n",
    "nombre_sain          2004\n",
    "nombre_exposed        505\n",
    "nombre_recovered    16517\n",
    "Name: 393, dtype: int64"
   ]
  },
  {
   "cell_type": "markdown",
   "id": "771aadff",
   "metadata": {},
   "source": [
    "nombre_infected       968\n",
    "nombre_sain          2015\n",
    "nombre_exposed        499\n",
    "nombre_recovered    16518\n",
    "Name: 394, dtype: int64"
   ]
  },
  {
   "cell_type": "markdown",
   "id": "4dfe632c",
   "metadata": {},
   "source": [
    "nombre_infected       952\n",
    "nombre_sain          2014\n",
    "nombre_exposed        500\n",
    "nombre_recovered    16534\n",
    "Name: 395, dtype: int64"
   ]
  },
  {
   "cell_type": "markdown",
   "id": "1f00f56a",
   "metadata": {},
   "source": [
    "nombre_infected       958\n",
    "nombre_sain          1984\n",
    "nombre_exposed        488\n",
    "nombre_recovered    16570\n",
    "Name: 396, dtype: int64"
   ]
  },
  {
   "cell_type": "markdown",
   "id": "99114900",
   "metadata": {},
   "source": [
    "nombre_infected       966\n",
    "nombre_sain          1938\n",
    "nombre_exposed        497\n",
    "nombre_recovered    16599\n",
    "Name: 397, dtype: int64"
   ]
  },
  {
   "cell_type": "markdown",
   "id": "184cfcbc",
   "metadata": {},
   "source": [
    "nombre_infected       984\n",
    "nombre_sain          1912\n",
    "nombre_exposed        518\n",
    "nombre_recovered    16586\n",
    "Name: 398, dtype: int64"
   ]
  },
  {
   "cell_type": "markdown",
   "id": "4d7fff1a",
   "metadata": {},
   "source": [
    "nombre_infected       971\n",
    "nombre_sain          1893\n",
    "nombre_exposed        500\n",
    "nombre_recovered    16636\n",
    "Name: 399, dtype: int64"
   ]
  },
  {
   "cell_type": "markdown",
   "id": "b4a15d01",
   "metadata": {},
   "source": [
    "nombre_infected       968\n",
    "nombre_sain          1894\n",
    "nombre_exposed        494\n",
    "nombre_recovered    16644\n",
    "Name: 400, dtype: int64"
   ]
  },
  {
   "cell_type": "markdown",
   "id": "e4a1ad5b",
   "metadata": {},
   "source": [
    "nombre_infected       966\n",
    "nombre_sain          1864\n",
    "nombre_exposed        489\n",
    "nombre_recovered    16681\n",
    "Name: 401, dtype: int64"
   ]
  },
  {
   "cell_type": "markdown",
   "id": "b95d1915",
   "metadata": {},
   "source": [
    "nombre_infected       958\n",
    "nombre_sain          1857\n",
    "nombre_exposed        491\n",
    "nombre_recovered    16694\n",
    "Name: 402, dtype: int64"
   ]
  },
  {
   "cell_type": "markdown",
   "id": "227d5d42",
   "metadata": {},
   "source": [
    "nombre_infected       958\n",
    "nombre_sain          1830\n",
    "nombre_exposed        490\n",
    "nombre_recovered    16722\n",
    "Name: 403, dtype: int64"
   ]
  },
  {
   "cell_type": "markdown",
   "id": "fdd98572",
   "metadata": {},
   "source": [
    "nombre_infected       940\n",
    "nombre_sain          1835\n",
    "nombre_exposed        481\n",
    "nombre_recovered    16744\n",
    "Name: 404, dtype: int64"
   ]
  },
  {
   "cell_type": "markdown",
   "id": "8a9ab76e",
   "metadata": {},
   "source": [
    "nombre_infected       972\n",
    "nombre_sain          1835\n",
    "nombre_exposed        450\n",
    "nombre_recovered    16743\n",
    "Name: 405, dtype: int64"
   ]
  },
  {
   "cell_type": "markdown",
   "id": "a6f8161e",
   "metadata": {},
   "source": [
    "nombre_infected       976\n",
    "nombre_sain          1807\n",
    "nombre_exposed        442\n",
    "nombre_recovered    16775\n",
    "Name: 406, dtype: int64"
   ]
  },
  {
   "cell_type": "markdown",
   "id": "6a22e49a",
   "metadata": {},
   "source": [
    "nombre_infected       943\n",
    "nombre_sain          1791\n",
    "nombre_exposed        452\n",
    "nombre_recovered    16814\n",
    "Name: 407, dtype: int64"
   ]
  },
  {
   "cell_type": "markdown",
   "id": "9470ed23",
   "metadata": {},
   "source": [
    "nombre_infected       949\n",
    "nombre_sain          1780\n",
    "nombre_exposed        439\n",
    "nombre_recovered    16832\n",
    "Name: 408, dtype: int64"
   ]
  },
  {
   "cell_type": "markdown",
   "id": "a8fcdd7e",
   "metadata": {},
   "source": [
    "nombre_infected       959\n",
    "nombre_sain          1778\n",
    "nombre_exposed        410\n",
    "nombre_recovered    16853\n",
    "Name: 409, dtype: int64"
   ]
  },
  {
   "cell_type": "markdown",
   "id": "06d4a7e9",
   "metadata": {},
   "source": [
    "nombre_infected       927\n",
    "nombre_sain          1782\n",
    "nombre_exposed        403\n",
    "nombre_recovered    16888\n",
    "Name: 410, dtype: int64"
   ]
  },
  {
   "cell_type": "markdown",
   "id": "115806e9",
   "metadata": {},
   "source": [
    "nombre_infected       931\n",
    "nombre_sain          1795\n",
    "nombre_exposed        382\n",
    "nombre_recovered    16892\n",
    "Name: 411, dtype: int64"
   ]
  },
  {
   "cell_type": "markdown",
   "id": "305a4030",
   "metadata": {},
   "source": [
    "nombre_infected       928\n",
    "nombre_sain          1803\n",
    "nombre_exposed        362\n",
    "nombre_recovered    16907\n",
    "Name: 412, dtype: int64"
   ]
  },
  {
   "cell_type": "markdown",
   "id": "173204a1",
   "metadata": {},
   "source": [
    "nombre_infected       924\n",
    "nombre_sain          1806\n",
    "nombre_exposed        335\n",
    "nombre_recovered    16935\n",
    "Name: 413, dtype: int64"
   ]
  },
  {
   "cell_type": "markdown",
   "id": "62459e74",
   "metadata": {},
   "source": [
    "nombre_infected       892\n",
    "nombre_sain          1803\n",
    "nombre_exposed        353\n",
    "nombre_recovered    16952\n",
    "Name: 414, dtype: int64"
   ]
  },
  {
   "cell_type": "markdown",
   "id": "2812588d",
   "metadata": {},
   "source": [
    "nombre_infected       853\n",
    "nombre_sain          1778\n",
    "nombre_exposed        375\n",
    "nombre_recovered    16994\n",
    "Name: 415, dtype: int64"
   ]
  },
  {
   "cell_type": "markdown",
   "id": "bc547c68",
   "metadata": {},
   "source": [
    "nombre_infected       837\n",
    "nombre_sain          1769\n",
    "nombre_exposed        402\n",
    "nombre_recovered    16992\n",
    "Name: 416, dtype: int64"
   ]
  },
  {
   "cell_type": "markdown",
   "id": "e22cd75b",
   "metadata": {},
   "source": [
    "nombre_infected       842\n",
    "nombre_sain          1763\n",
    "nombre_exposed        383\n",
    "nombre_recovered    17012\n",
    "Name: 417, dtype: int64"
   ]
  },
  {
   "cell_type": "markdown",
   "id": "01b805bc",
   "metadata": {},
   "source": [
    "nombre_infected       861\n",
    "nombre_sain          1738\n",
    "nombre_exposed        387\n",
    "nombre_recovered    17014\n",
    "Name: 418, dtype: int64"
   ]
  },
  {
   "cell_type": "markdown",
   "id": "852ac30c",
   "metadata": {},
   "source": [
    "nombre_infected       868\n",
    "nombre_sain          1727\n",
    "nombre_exposed        389\n",
    "nombre_recovered    17016\n",
    "Name: 419, dtype: int64"
   ]
  },
  {
   "cell_type": "markdown",
   "id": "0ecddccf",
   "metadata": {},
   "source": [
    "nombre_infected       855\n",
    "nombre_sain          1723\n",
    "nombre_exposed        395\n",
    "nombre_recovered    17027\n",
    "Name: 420, dtype: int64"
   ]
  },
  {
   "cell_type": "markdown",
   "id": "84fa0782",
   "metadata": {},
   "source": [
    "nombre_infected       833\n",
    "nombre_sain          1720\n",
    "nombre_exposed        394\n",
    "nombre_recovered    17053\n",
    "Name: 421, dtype: int64"
   ]
  },
  {
   "cell_type": "markdown",
   "id": "09c4c9e2",
   "metadata": {},
   "source": [
    "nombre_infected       818\n",
    "nombre_sain          1699\n",
    "nombre_exposed        403\n",
    "nombre_recovered    17080\n",
    "Name: 422, dtype: int64"
   ]
  },
  {
   "cell_type": "markdown",
   "id": "66ce03b4",
   "metadata": {},
   "source": [
    "nombre_infected       820\n",
    "nombre_sain          1693\n",
    "nombre_exposed        385\n",
    "nombre_recovered    17102\n",
    "Name: 423, dtype: int64"
   ]
  },
  {
   "cell_type": "markdown",
   "id": "e73ee5b4",
   "metadata": {},
   "source": [
    "nombre_infected       800\n",
    "nombre_sain          1692\n",
    "nombre_exposed        368\n",
    "nombre_recovered    17140\n",
    "Name: 424, dtype: int64"
   ]
  },
  {
   "cell_type": "markdown",
   "id": "5bef95e3",
   "metadata": {},
   "source": [
    "nombre_infected       785\n",
    "nombre_sain          1680\n",
    "nombre_exposed        380\n",
    "nombre_recovered    17155\n",
    "Name: 425, dtype: int64"
   ]
  },
  {
   "cell_type": "markdown",
   "id": "0652c143",
   "metadata": {},
   "source": [
    "nombre_infected       775\n",
    "nombre_sain          1682\n",
    "nombre_exposed        397\n",
    "nombre_recovered    17146\n",
    "Name: 426, dtype: int64"
   ]
  },
  {
   "cell_type": "markdown",
   "id": "e676e67e",
   "metadata": {},
   "source": [
    "nombre_infected       773\n",
    "nombre_sain          1672\n",
    "nombre_exposed        398\n",
    "nombre_recovered    17157\n",
    "Name: 427, dtype: int64"
   ]
  },
  {
   "cell_type": "markdown",
   "id": "928c1565",
   "metadata": {},
   "source": [
    "nombre_infected       794\n",
    "nombre_sain          1682\n",
    "nombre_exposed        375\n",
    "nombre_recovered    17149\n",
    "Name: 428, dtype: int64"
   ]
  },
  {
   "cell_type": "markdown",
   "id": "f07ba23f",
   "metadata": {},
   "source": [
    "nombre_infected       806\n",
    "nombre_sain          1680\n",
    "nombre_exposed        372\n",
    "nombre_recovered    17142\n",
    "Name: 429, dtype: int64"
   ]
  },
  {
   "cell_type": "markdown",
   "id": "139f9e6d",
   "metadata": {},
   "source": [
    "nombre_infected       802\n",
    "nombre_sain          1705\n",
    "nombre_exposed        346\n",
    "nombre_recovered    17147\n",
    "Name: 430, dtype: int64"
   ]
  },
  {
   "cell_type": "markdown",
   "id": "7c9dc18d",
   "metadata": {},
   "source": [
    "nombre_infected       796\n",
    "nombre_sain          1713\n",
    "nombre_exposed        340\n",
    "nombre_recovered    17151\n",
    "Name: 431, dtype: int64"
   ]
  },
  {
   "cell_type": "markdown",
   "id": "60399ae5",
   "metadata": {},
   "source": [
    "nombre_infected       782\n",
    "nombre_sain          1700\n",
    "nombre_exposed        358\n",
    "nombre_recovered    17160\n",
    "Name: 432, dtype: int64"
   ]
  },
  {
   "cell_type": "markdown",
   "id": "da9ffb17",
   "metadata": {},
   "source": [
    "nombre_infected       760\n",
    "nombre_sain          1714\n",
    "nombre_exposed        351\n",
    "nombre_recovered    17175\n",
    "Name: 433, dtype: int64"
   ]
  },
  {
   "cell_type": "markdown",
   "id": "c3757095",
   "metadata": {},
   "source": [
    "nombre_infected       777\n",
    "nombre_sain          1752\n",
    "nombre_exposed        326\n",
    "nombre_recovered    17145\n",
    "Name: 434, dtype: int64"
   ]
  },
  {
   "cell_type": "markdown",
   "id": "789c20c8",
   "metadata": {},
   "source": [
    "nombre_infected       751\n",
    "nombre_sain          1763\n",
    "nombre_exposed        335\n",
    "nombre_recovered    17151\n",
    "Name: 435, dtype: int64"
   ]
  },
  {
   "cell_type": "markdown",
   "id": "fa7d6b9f",
   "metadata": {},
   "source": [
    "nombre_infected       722\n",
    "nombre_sain          1801\n",
    "nombre_exposed        325\n",
    "nombre_recovered    17152\n",
    "Name: 436, dtype: int64"
   ]
  },
  {
   "cell_type": "markdown",
   "id": "cbc9a8f8",
   "metadata": {},
   "source": [
    "nombre_infected       722\n",
    "nombre_sain          1816\n",
    "nombre_exposed        323\n",
    "nombre_recovered    17139\n",
    "Name: 437, dtype: int64"
   ]
  },
  {
   "cell_type": "markdown",
   "id": "ed0754a5",
   "metadata": {},
   "source": [
    "nombre_infected       715\n",
    "nombre_sain          1834\n",
    "nombre_exposed        324\n",
    "nombre_recovered    17127\n",
    "Name: 438, dtype: int64"
   ]
  },
  {
   "cell_type": "markdown",
   "id": "760e3421",
   "metadata": {},
   "source": [
    "nombre_infected       701\n",
    "nombre_sain          1853\n",
    "nombre_exposed        312\n",
    "nombre_recovered    17134\n",
    "Name: 439, dtype: int64"
   ]
  },
  {
   "cell_type": "markdown",
   "id": "da410d86",
   "metadata": {},
   "source": [
    "nombre_infected       709\n",
    "nombre_sain          1883\n",
    "nombre_exposed        307\n",
    "nombre_recovered    17101\n",
    "Name: 440, dtype: int64"
   ]
  },
  {
   "cell_type": "markdown",
   "id": "01067e35",
   "metadata": {},
   "source": [
    "nombre_infected       682\n",
    "nombre_sain          1891\n",
    "nombre_exposed        330\n",
    "nombre_recovered    17097\n",
    "Name: 441, dtype: int64"
   ]
  },
  {
   "cell_type": "markdown",
   "id": "7a472e1b",
   "metadata": {},
   "source": [
    "nombre_infected       664\n",
    "nombre_sain          1919\n",
    "nombre_exposed        322\n",
    "nombre_recovered    17095\n",
    "Name: 442, dtype: int64"
   ]
  },
  {
   "cell_type": "markdown",
   "id": "029af0fc",
   "metadata": {},
   "source": [
    "nombre_infected       654\n",
    "nombre_sain          1934\n",
    "nombre_exposed        343\n",
    "nombre_recovered    17069\n",
    "Name: 443, dtype: int64"
   ]
  },
  {
   "cell_type": "markdown",
   "id": "3cf18091",
   "metadata": {},
   "source": [
    "nombre_infected       647\n",
    "nombre_sain          1922\n",
    "nombre_exposed        351\n",
    "nombre_recovered    17080\n",
    "Name: 444, dtype: int64"
   ]
  },
  {
   "cell_type": "markdown",
   "id": "4fca3ca0",
   "metadata": {},
   "source": [
    "nombre_infected       652\n",
    "nombre_sain          1949\n",
    "nombre_exposed        331\n",
    "nombre_recovered    17068\n",
    "Name: 445, dtype: int64"
   ]
  },
  {
   "cell_type": "markdown",
   "id": "acf7e883",
   "metadata": {},
   "source": [
    "nombre_infected       670\n",
    "nombre_sain          1949\n",
    "nombre_exposed        325\n",
    "nombre_recovered    17056\n",
    "Name: 446, dtype: int64"
   ]
  },
  {
   "cell_type": "markdown",
   "id": "00e307e3",
   "metadata": {},
   "source": [
    "nombre_infected       648\n",
    "nombre_sain          1980\n",
    "nombre_exposed        313\n",
    "nombre_recovered    17059\n",
    "Name: 447, dtype: int64"
   ]
  },
  {
   "cell_type": "markdown",
   "id": "032554f3",
   "metadata": {},
   "source": [
    "nombre_infected       651\n",
    "nombre_sain          1984\n",
    "nombre_exposed        324\n",
    "nombre_recovered    17041\n",
    "Name: 448, dtype: int64"
   ]
  },
  {
   "cell_type": "markdown",
   "id": "6122f222",
   "metadata": {},
   "source": [
    "nombre_infected       636\n",
    "nombre_sain          1998\n",
    "nombre_exposed        321\n",
    "nombre_recovered    17045\n",
    "Name: 449, dtype: int64"
   ]
  },
  {
   "cell_type": "markdown",
   "id": "b26d19a2",
   "metadata": {},
   "source": [
    "nombre_infected       619\n",
    "nombre_sain          2008\n",
    "nombre_exposed        328\n",
    "nombre_recovered    17045\n",
    "Name: 450, dtype: int64"
   ]
  },
  {
   "cell_type": "markdown",
   "id": "6309f283",
   "metadata": {},
   "source": [
    "nombre_infected       623\n",
    "nombre_sain          2027\n",
    "nombre_exposed        328\n",
    "nombre_recovered    17022\n",
    "Name: 451, dtype: int64"
   ]
  },
  {
   "cell_type": "markdown",
   "id": "0b62d68e",
   "metadata": {},
   "source": [
    "nombre_infected       625\n",
    "nombre_sain          2051\n",
    "nombre_exposed        339\n",
    "nombre_recovered    16985\n",
    "Name: 452, dtype: int64"
   ]
  },
  {
   "cell_type": "markdown",
   "id": "e2e77c85",
   "metadata": {},
   "source": [
    "nombre_infected       633\n",
    "nombre_sain          2066\n",
    "nombre_exposed        344\n",
    "nombre_recovered    16957\n",
    "Name: 453, dtype: int64"
   ]
  },
  {
   "cell_type": "markdown",
   "id": "68589764",
   "metadata": {},
   "source": [
    "nombre_infected       629\n",
    "nombre_sain          2076\n",
    "nombre_exposed        352\n",
    "nombre_recovered    16943\n",
    "Name: 454, dtype: int64"
   ]
  },
  {
   "cell_type": "markdown",
   "id": "66164232",
   "metadata": {},
   "source": [
    "nombre_infected       657\n",
    "nombre_sain          2103\n",
    "nombre_exposed        334\n",
    "nombre_recovered    16906\n",
    "Name: 455, dtype: int64"
   ]
  },
  {
   "cell_type": "markdown",
   "id": "57fdb820",
   "metadata": {},
   "source": [
    "nombre_infected       677\n",
    "nombre_sain          2115\n",
    "nombre_exposed        322\n",
    "nombre_recovered    16886\n",
    "Name: 456, dtype: int64"
   ]
  },
  {
   "cell_type": "markdown",
   "id": "715e0c00",
   "metadata": {},
   "source": [
    "nombre_infected       678\n",
    "nombre_sain          2134\n",
    "nombre_exposed        314\n",
    "nombre_recovered    16874\n",
    "Name: 457, dtype: int64"
   ]
  },
  {
   "cell_type": "markdown",
   "id": "24e714a7",
   "metadata": {},
   "source": [
    "nombre_infected       660\n",
    "nombre_sain          2155\n",
    "nombre_exposed        315\n",
    "nombre_recovered    16870\n",
    "Name: 458, dtype: int64"
   ]
  },
  {
   "cell_type": "markdown",
   "id": "289135d7",
   "metadata": {},
   "source": [
    "nombre_infected       663\n",
    "nombre_sain          2156\n",
    "nombre_exposed        326\n",
    "nombre_recovered    16855\n",
    "Name: 459, dtype: int64"
   ]
  },
  {
   "cell_type": "markdown",
   "id": "a58feee5",
   "metadata": {},
   "source": [
    "nombre_infected       645\n",
    "nombre_sain          2192\n",
    "nombre_exposed        317\n",
    "nombre_recovered    16846\n",
    "Name: 460, dtype: int64"
   ]
  },
  {
   "cell_type": "markdown",
   "id": "f19a9352",
   "metadata": {},
   "source": [
    "nombre_infected       634\n",
    "nombre_sain          2202\n",
    "nombre_exposed        326\n",
    "nombre_recovered    16838\n",
    "Name: 461, dtype: int64"
   ]
  },
  {
   "cell_type": "markdown",
   "id": "dd68a5da",
   "metadata": {},
   "source": [
    "nombre_infected       630\n",
    "nombre_sain          2217\n",
    "nombre_exposed        357\n",
    "nombre_recovered    16796\n",
    "Name: 462, dtype: int64"
   ]
  },
  {
   "cell_type": "markdown",
   "id": "97c85fff",
   "metadata": {},
   "source": [
    "nombre_infected       636\n",
    "nombre_sain          2238\n",
    "nombre_exposed        332\n",
    "nombre_recovered    16794\n",
    "Name: 463, dtype: int64"
   ]
  },
  {
   "cell_type": "markdown",
   "id": "68d054a9",
   "metadata": {},
   "source": [
    "nombre_infected       660\n",
    "nombre_sain          2226\n",
    "nombre_exposed        335\n",
    "nombre_recovered    16779\n",
    "Name: 464, dtype: int64"
   ]
  },
  {
   "cell_type": "markdown",
   "id": "3b5c1d5a",
   "metadata": {},
   "source": [
    "nombre_infected       651\n",
    "nombre_sain          2244\n",
    "nombre_exposed        335\n",
    "nombre_recovered    16770\n",
    "Name: 465, dtype: int64"
   ]
  },
  {
   "cell_type": "markdown",
   "id": "89522f99",
   "metadata": {},
   "source": [
    "nombre_infected       631\n",
    "nombre_sain          2248\n",
    "nombre_exposed        344\n",
    "nombre_recovered    16777\n",
    "Name: 466, dtype: int64"
   ]
  },
  {
   "cell_type": "markdown",
   "id": "749f2b04",
   "metadata": {},
   "source": [
    "nombre_infected       653\n",
    "nombre_sain          2256\n",
    "nombre_exposed        352\n",
    "nombre_recovered    16739\n",
    "Name: 467, dtype: int64"
   ]
  },
  {
   "cell_type": "markdown",
   "id": "500cee4a",
   "metadata": {},
   "source": [
    "nombre_infected       643\n",
    "nombre_sain          2267\n",
    "nombre_exposed        377\n",
    "nombre_recovered    16713\n",
    "Name: 468, dtype: int64"
   ]
  },
  {
   "cell_type": "markdown",
   "id": "b45ef84e",
   "metadata": {},
   "source": [
    "nombre_infected       656\n",
    "nombre_sain          2270\n",
    "nombre_exposed        379\n",
    "nombre_recovered    16695\n",
    "Name: 469, dtype: int64"
   ]
  },
  {
   "cell_type": "markdown",
   "id": "d5c680ca",
   "metadata": {},
   "source": [
    "nombre_infected       663\n",
    "nombre_sain          2303\n",
    "nombre_exposed        363\n",
    "nombre_recovered    16671\n",
    "Name: 470, dtype: int64"
   ]
  },
  {
   "cell_type": "markdown",
   "id": "2da794b9",
   "metadata": {},
   "source": [
    "nombre_infected       682\n",
    "nombre_sain          2316\n",
    "nombre_exposed        343\n",
    "nombre_recovered    16659\n",
    "Name: 471, dtype: int64"
   ]
  },
  {
   "cell_type": "markdown",
   "id": "823153c8",
   "metadata": {},
   "source": [
    "nombre_infected       660\n",
    "nombre_sain          2296\n",
    "nombre_exposed        392\n",
    "nombre_recovered    16652\n",
    "Name: 472, dtype: int64"
   ]
  },
  {
   "cell_type": "markdown",
   "id": "dc116d00",
   "metadata": {},
   "source": [
    "nombre_infected       665\n",
    "nombre_sain          2283\n",
    "nombre_exposed        398\n",
    "nombre_recovered    16654\n",
    "Name: 473, dtype: int64"
   ]
  },
  {
   "cell_type": "markdown",
   "id": "7fccbb11",
   "metadata": {},
   "source": [
    "nombre_infected       687\n",
    "nombre_sain          2277\n",
    "nombre_exposed        378\n",
    "nombre_recovered    16658\n",
    "Name: 474, dtype: int64"
   ]
  },
  {
   "cell_type": "markdown",
   "id": "4d7f58ba",
   "metadata": {},
   "source": [
    "nombre_infected       699\n",
    "nombre_sain          2255\n",
    "nombre_exposed        378\n",
    "nombre_recovered    16668\n",
    "Name: 475, dtype: int64"
   ]
  },
  {
   "cell_type": "markdown",
   "id": "761c8348",
   "metadata": {},
   "source": [
    "nombre_infected       694\n",
    "nombre_sain          2260\n",
    "nombre_exposed        364\n",
    "nombre_recovered    16682\n",
    "Name: 476, dtype: int64"
   ]
  },
  {
   "cell_type": "markdown",
   "id": "8c237b0b",
   "metadata": {},
   "source": [
    "nombre_infected       697\n",
    "nombre_sain          2253\n",
    "nombre_exposed        377\n",
    "nombre_recovered    16673\n",
    "Name: 477, dtype: int64"
   ]
  },
  {
   "cell_type": "markdown",
   "id": "aff95c38",
   "metadata": {},
   "source": [
    "nombre_infected       705\n",
    "nombre_sain          2241\n",
    "nombre_exposed        372\n",
    "nombre_recovered    16682\n",
    "Name: 478, dtype: int64"
   ]
  },
  {
   "cell_type": "markdown",
   "id": "47f75b18",
   "metadata": {},
   "source": [
    "nombre_infected       722\n",
    "nombre_sain          2245\n",
    "nombre_exposed        361\n",
    "nombre_recovered    16672\n",
    "Name: 479, dtype: int64"
   ]
  },
  {
   "cell_type": "markdown",
   "id": "3c0f481c",
   "metadata": {},
   "source": [
    "nombre_infected       736\n",
    "nombre_sain          2235\n",
    "nombre_exposed        357\n",
    "nombre_recovered    16672\n",
    "Name: 480, dtype: int64"
   ]
  },
  {
   "cell_type": "markdown",
   "id": "27263399",
   "metadata": {},
   "source": [
    "nombre_infected       725\n",
    "nombre_sain          2247\n",
    "nombre_exposed        375\n",
    "nombre_recovered    16653\n",
    "Name: 481, dtype: int64"
   ]
  },
  {
   "cell_type": "markdown",
   "id": "dad6bef8",
   "metadata": {},
   "source": [
    "nombre_infected       734\n",
    "nombre_sain          2234\n",
    "nombre_exposed        363\n",
    "nombre_recovered    16669\n",
    "Name: 482, dtype: int64"
   ]
  },
  {
   "cell_type": "markdown",
   "id": "b41af792",
   "metadata": {},
   "source": [
    "nombre_infected       733\n",
    "nombre_sain          2246\n",
    "nombre_exposed        352\n",
    "nombre_recovered    16669\n",
    "Name: 483, dtype: int64"
   ]
  },
  {
   "cell_type": "markdown",
   "id": "071915e1",
   "metadata": {},
   "source": [
    "nombre_infected       730\n",
    "nombre_sain          2261\n",
    "nombre_exposed        342\n",
    "nombre_recovered    16667\n",
    "Name: 484, dtype: int64"
   ]
  },
  {
   "cell_type": "markdown",
   "id": "e20935af",
   "metadata": {},
   "source": [
    "nombre_infected       690\n",
    "nombre_sain          2288\n",
    "nombre_exposed        359\n",
    "nombre_recovered    16663\n",
    "Name: 485, dtype: int64"
   ]
  },
  {
   "cell_type": "markdown",
   "id": "5a6c143c",
   "metadata": {},
   "source": [
    "nombre_infected       694\n",
    "nombre_sain          2276\n",
    "nombre_exposed        355\n",
    "nombre_recovered    16675\n",
    "Name: 486, dtype: int64"
   ]
  },
  {
   "cell_type": "markdown",
   "id": "42e1a931",
   "metadata": {},
   "source": [
    "nombre_infected       677\n",
    "nombre_sain          2277\n",
    "nombre_exposed        372\n",
    "nombre_recovered    16674\n",
    "Name: 487, dtype: int64"
   ]
  },
  {
   "cell_type": "markdown",
   "id": "8031fb34",
   "metadata": {},
   "source": [
    "nombre_infected       656\n",
    "nombre_sain          2285\n",
    "nombre_exposed        377\n",
    "nombre_recovered    16682\n",
    "Name: 488, dtype: int64"
   ]
  },
  {
   "cell_type": "markdown",
   "id": "fc681d37",
   "metadata": {},
   "source": [
    "nombre_infected       671\n",
    "nombre_sain          2299\n",
    "nombre_exposed        380\n",
    "nombre_recovered    16650\n",
    "Name: 489, dtype: int64"
   ]
  },
  {
   "cell_type": "markdown",
   "id": "111f05f9",
   "metadata": {},
   "source": [
    "nombre_infected       673\n",
    "nombre_sain          2304\n",
    "nombre_exposed        404\n",
    "nombre_recovered    16619\n",
    "Name: 490, dtype: int64"
   ]
  },
  {
   "cell_type": "markdown",
   "id": "e8d777b6",
   "metadata": {},
   "source": [
    "nombre_infected       660\n",
    "nombre_sain          2296\n",
    "nombre_exposed        426\n",
    "nombre_recovered    16618\n",
    "Name: 491, dtype: int64"
   ]
  },
  {
   "cell_type": "markdown",
   "id": "b72309b8",
   "metadata": {},
   "source": [
    "nombre_infected       669\n",
    "nombre_sain          2315\n",
    "nombre_exposed        413\n",
    "nombre_recovered    16603\n",
    "Name: 492, dtype: int64"
   ]
  },
  {
   "cell_type": "markdown",
   "id": "5c06a2bf",
   "metadata": {},
   "source": [
    "nombre_infected       679\n",
    "nombre_sain          2321\n",
    "nombre_exposed        408\n",
    "nombre_recovered    16592\n",
    "Name: 493, dtype: int64"
   ]
  },
  {
   "cell_type": "markdown",
   "id": "a8a2796d",
   "metadata": {},
   "source": [
    "nombre_infected       683\n",
    "nombre_sain          2311\n",
    "nombre_exposed        406\n",
    "nombre_recovered    16600\n",
    "Name: 494, dtype: int64"
   ]
  },
  {
   "cell_type": "markdown",
   "id": "34bb6f27",
   "metadata": {},
   "source": [
    "nombre_infected       692\n",
    "nombre_sain          2324\n",
    "nombre_exposed        407\n",
    "nombre_recovered    16577\n",
    "Name: 495, dtype: int64"
   ]
  },
  {
   "cell_type": "markdown",
   "id": "5c40983e",
   "metadata": {},
   "source": [
    "nombre_infected       705\n",
    "nombre_sain          2328\n",
    "nombre_exposed        409\n",
    "nombre_recovered    16558\n",
    "Name: 496, dtype: int64"
   ]
  },
  {
   "cell_type": "markdown",
   "id": "e46c1ddf",
   "metadata": {},
   "source": [
    "nombre_infected       707\n",
    "nombre_sain          2338\n",
    "nombre_exposed        404\n",
    "nombre_recovered    16551\n",
    "Name: 497, dtype: int64"
   ]
  },
  {
   "cell_type": "markdown",
   "id": "250f31f0",
   "metadata": {},
   "source": [
    "nombre_infected       693\n",
    "nombre_sain          2342\n",
    "nombre_exposed        419\n",
    "nombre_recovered    16546\n",
    "Name: 498, dtype: int64"
   ]
  },
  {
   "cell_type": "markdown",
   "id": "b82dbde1",
   "metadata": {},
   "source": [
    "nombre_infected       699\n",
    "nombre_sain          2344\n",
    "nombre_exposed        426\n",
    "nombre_recovered    16531\n",
    "Name: 499, dtype: int64"
   ]
  },
  {
   "cell_type": "markdown",
   "id": "6d09e98f",
   "metadata": {},
   "source": [
    "nombre_infected       704\n",
    "nombre_sain          2345\n",
    "nombre_exposed        425\n",
    "nombre_recovered    16526\n",
    "Name: 500, dtype: int64"
   ]
  },
  {
   "cell_type": "markdown",
   "id": "db351aae",
   "metadata": {},
   "source": [
    "nombre_infected       695\n",
    "nombre_sain          2339\n",
    "nombre_exposed        431\n",
    "nombre_recovered    16535\n",
    "Name: 501, dtype: int64"
   ]
  },
  {
   "cell_type": "markdown",
   "id": "9941703f",
   "metadata": {},
   "source": [
    "nombre_infected       691\n",
    "nombre_sain          2344\n",
    "nombre_exposed        420\n",
    "nombre_recovered    16545\n",
    "Name: 502, dtype: int64"
   ]
  },
  {
   "cell_type": "markdown",
   "id": "72e8ee02",
   "metadata": {},
   "source": [
    "nombre_infected       699\n",
    "nombre_sain          2351\n",
    "nombre_exposed        427\n",
    "nombre_recovered    16523\n",
    "Name: 503, dtype: int64"
   ]
  },
  {
   "cell_type": "markdown",
   "id": "c5796481",
   "metadata": {},
   "source": [
    "nombre_infected       738\n",
    "nombre_sain          2348\n",
    "nombre_exposed        408\n",
    "nombre_recovered    16506\n",
    "Name: 504, dtype: int64"
   ]
  },
  {
   "cell_type": "markdown",
   "id": "3257b523",
   "metadata": {},
   "source": [
    "nombre_infected       755\n",
    "nombre_sain          2343\n",
    "nombre_exposed        399\n",
    "nombre_recovered    16503\n",
    "Name: 505, dtype: int64"
   ]
  },
  {
   "cell_type": "markdown",
   "id": "f7548a1b",
   "metadata": {},
   "source": [
    "nombre_infected       745\n",
    "nombre_sain          2341\n",
    "nombre_exposed        409\n",
    "nombre_recovered    16505\n",
    "Name: 506, dtype: int64"
   ]
  },
  {
   "cell_type": "markdown",
   "id": "a677d706",
   "metadata": {},
   "source": [
    "nombre_infected       736\n",
    "nombre_sain          2337\n",
    "nombre_exposed        414\n",
    "nombre_recovered    16513\n",
    "Name: 507, dtype: int64"
   ]
  },
  {
   "cell_type": "markdown",
   "id": "2ecc7175",
   "metadata": {},
   "source": [
    "nombre_infected       721\n",
    "nombre_sain          2326\n",
    "nombre_exposed        441\n",
    "nombre_recovered    16512\n",
    "Name: 508, dtype: int64"
   ]
  },
  {
   "cell_type": "markdown",
   "id": "e6f403ee",
   "metadata": {},
   "source": [
    "nombre_infected       735\n",
    "nombre_sain          2322\n",
    "nombre_exposed        459\n",
    "nombre_recovered    16484\n",
    "Name: 509, dtype: int64"
   ]
  },
  {
   "cell_type": "markdown",
   "id": "81824ed3",
   "metadata": {},
   "source": [
    "nombre_infected       731\n",
    "nombre_sain          2306\n",
    "nombre_exposed        480\n",
    "nombre_recovered    16483\n",
    "Name: 510, dtype: int64"
   ]
  },
  {
   "cell_type": "markdown",
   "id": "37fbf0a1",
   "metadata": {},
   "source": [
    "nombre_infected       749\n",
    "nombre_sain          2306\n",
    "nombre_exposed        471\n",
    "nombre_recovered    16474\n",
    "Name: 511, dtype: int64"
   ]
  },
  {
   "cell_type": "markdown",
   "id": "b25732bd",
   "metadata": {},
   "source": [
    "nombre_infected       744\n",
    "nombre_sain          2319\n",
    "nombre_exposed        484\n",
    "nombre_recovered    16453\n",
    "Name: 512, dtype: int64"
   ]
  },
  {
   "cell_type": "markdown",
   "id": "0d1bd6b1",
   "metadata": {},
   "source": [
    "nombre_infected       750\n",
    "nombre_sain          2297\n",
    "nombre_exposed        498\n",
    "nombre_recovered    16455\n",
    "Name: 513, dtype: int64"
   ]
  },
  {
   "cell_type": "markdown",
   "id": "cd5edc91",
   "metadata": {},
   "source": [
    "nombre_infected       780\n",
    "nombre_sain          2300\n",
    "nombre_exposed        485\n",
    "nombre_recovered    16435\n",
    "Name: 514, dtype: int64"
   ]
  },
  {
   "cell_type": "markdown",
   "id": "74f55d31",
   "metadata": {},
   "source": [
    "nombre_infected       801\n",
    "nombre_sain          2281\n",
    "nombre_exposed        484\n",
    "nombre_recovered    16434\n",
    "Name: 515, dtype: int64"
   ]
  },
  {
   "cell_type": "markdown",
   "id": "00fbb934",
   "metadata": {},
   "source": [
    "nombre_infected       784\n",
    "nombre_sain          2272\n",
    "nombre_exposed        499\n",
    "nombre_recovered    16445\n",
    "Name: 516, dtype: int64"
   ]
  },
  {
   "cell_type": "markdown",
   "id": "c9a16d10",
   "metadata": {},
   "source": [
    "nombre_infected       802\n",
    "nombre_sain          2276\n",
    "nombre_exposed        487\n",
    "nombre_recovered    16435\n",
    "Name: 517, dtype: int64"
   ]
  },
  {
   "cell_type": "markdown",
   "id": "a720dd98",
   "metadata": {},
   "source": [
    "nombre_infected       821\n",
    "nombre_sain          2256\n",
    "nombre_exposed        480\n",
    "nombre_recovered    16443\n",
    "Name: 518, dtype: int64"
   ]
  },
  {
   "cell_type": "markdown",
   "id": "281e5959",
   "metadata": {},
   "source": [
    "nombre_infected       845\n",
    "nombre_sain          2251\n",
    "nombre_exposed        482\n",
    "nombre_recovered    16422\n",
    "Name: 519, dtype: int64"
   ]
  },
  {
   "cell_type": "markdown",
   "id": "1f3b2115",
   "metadata": {},
   "source": [
    "nombre_infected       834\n",
    "nombre_sain          2242\n",
    "nombre_exposed        500\n",
    "nombre_recovered    16424\n",
    "Name: 520, dtype: int64"
   ]
  },
  {
   "cell_type": "markdown",
   "id": "61cab4e8",
   "metadata": {},
   "source": [
    "nombre_infected       816\n",
    "nombre_sain          2247\n",
    "nombre_exposed        500\n",
    "nombre_recovered    16437\n",
    "Name: 521, dtype: int64"
   ]
  },
  {
   "cell_type": "markdown",
   "id": "420a42e2",
   "metadata": {},
   "source": [
    "nombre_infected       834\n",
    "nombre_sain          2233\n",
    "nombre_exposed        482\n",
    "nombre_recovered    16451\n",
    "Name: 522, dtype: int64"
   ]
  },
  {
   "cell_type": "markdown",
   "id": "1ab94ee2",
   "metadata": {},
   "source": [
    "nombre_infected       836\n",
    "nombre_sain          2213\n",
    "nombre_exposed        486\n",
    "nombre_recovered    16465\n",
    "Name: 523, dtype: int64"
   ]
  },
  {
   "cell_type": "markdown",
   "id": "201d62ff",
   "metadata": {},
   "source": [
    "nombre_infected       847\n",
    "nombre_sain          2199\n",
    "nombre_exposed        482\n",
    "nombre_recovered    16472\n",
    "Name: 524, dtype: int64"
   ]
  },
  {
   "cell_type": "markdown",
   "id": "936b7fb3",
   "metadata": {},
   "source": [
    "nombre_infected       865\n",
    "nombre_sain          2172\n",
    "nombre_exposed        482\n",
    "nombre_recovered    16481\n",
    "Name: 525, dtype: int64"
   ]
  },
  {
   "cell_type": "markdown",
   "id": "a5eca2d6",
   "metadata": {},
   "source": [
    "nombre_infected       846\n",
    "nombre_sain          2178\n",
    "nombre_exposed        492\n",
    "nombre_recovered    16484\n",
    "Name: 526, dtype: int64"
   ]
  },
  {
   "cell_type": "markdown",
   "id": "b315e26b",
   "metadata": {},
   "source": [
    "nombre_infected       820\n",
    "nombre_sain          2176\n",
    "nombre_exposed        491\n",
    "nombre_recovered    16513\n",
    "Name: 527, dtype: int64"
   ]
  },
  {
   "cell_type": "markdown",
   "id": "3c33f4ba",
   "metadata": {},
   "source": [
    "nombre_infected       830\n",
    "nombre_sain          2139\n",
    "nombre_exposed        502\n",
    "nombre_recovered    16529\n",
    "Name: 528, dtype: int64"
   ]
  },
  {
   "cell_type": "markdown",
   "id": "e4c37157",
   "metadata": {},
   "source": [
    "nombre_infected       856\n",
    "nombre_sain          2127\n",
    "nombre_exposed        510\n",
    "nombre_recovered    16507\n",
    "Name: 529, dtype: int64"
   ]
  },
  {
   "cell_type": "markdown",
   "id": "537334ad",
   "metadata": {},
   "source": [
    "nombre_infected       878\n",
    "nombre_sain          2129\n",
    "nombre_exposed        499\n",
    "nombre_recovered    16494\n",
    "Name: 530, dtype: int64"
   ]
  },
  {
   "cell_type": "markdown",
   "id": "eaa1326d",
   "metadata": {},
   "source": [
    "nombre_infected       867\n",
    "nombre_sain          2129\n",
    "nombre_exposed        505\n",
    "nombre_recovered    16499\n",
    "Name: 531, dtype: int64"
   ]
  },
  {
   "cell_type": "markdown",
   "id": "dd4f580f",
   "metadata": {},
   "source": [
    "nombre_infected       866\n",
    "nombre_sain          2125\n",
    "nombre_exposed        513\n",
    "nombre_recovered    16496\n",
    "Name: 532, dtype: int64"
   ]
  },
  {
   "cell_type": "markdown",
   "id": "d78e55c6",
   "metadata": {},
   "source": [
    "nombre_infected       889\n",
    "nombre_sain          2116\n",
    "nombre_exposed        507\n",
    "nombre_recovered    16488\n",
    "Name: 533, dtype: int64"
   ]
  },
  {
   "cell_type": "markdown",
   "id": "e511e085",
   "metadata": {},
   "source": [
    "nombre_infected       897\n",
    "nombre_sain          2083\n",
    "nombre_exposed        512\n",
    "nombre_recovered    16508\n",
    "Name: 534, dtype: int64"
   ]
  },
  {
   "cell_type": "markdown",
   "id": "3cdd1239",
   "metadata": {},
   "source": [
    "nombre_infected       890\n",
    "nombre_sain          2062\n",
    "nombre_exposed        519\n",
    "nombre_recovered    16529\n",
    "Name: 535, dtype: int64"
   ]
  },
  {
   "cell_type": "markdown",
   "id": "b7959ac3",
   "metadata": {},
   "source": [
    "nombre_infected       887\n",
    "nombre_sain          2041\n",
    "nombre_exposed        537\n",
    "nombre_recovered    16535\n",
    "Name: 536, dtype: int64"
   ]
  },
  {
   "cell_type": "markdown",
   "id": "c9873ff3",
   "metadata": {},
   "source": [
    "nombre_infected       905\n",
    "nombre_sain          2031\n",
    "nombre_exposed        514\n",
    "nombre_recovered    16550\n",
    "Name: 537, dtype: int64"
   ]
  },
  {
   "cell_type": "markdown",
   "id": "f9f9b6bd",
   "metadata": {},
   "source": [
    "nombre_infected       906\n",
    "nombre_sain          2038\n",
    "nombre_exposed        491\n",
    "nombre_recovered    16565\n",
    "Name: 538, dtype: int64"
   ]
  },
  {
   "cell_type": "markdown",
   "id": "60073ecb",
   "metadata": {},
   "source": [
    "nombre_infected       903\n",
    "nombre_sain          2020\n",
    "nombre_exposed        489\n",
    "nombre_recovered    16588\n",
    "Name: 539, dtype: int64"
   ]
  },
  {
   "cell_type": "markdown",
   "id": "79b5d2b9",
   "metadata": {},
   "source": [
    "nombre_infected       915\n",
    "nombre_sain          1998\n",
    "nombre_exposed        490\n",
    "nombre_recovered    16597\n",
    "Name: 540, dtype: int64"
   ]
  },
  {
   "cell_type": "markdown",
   "id": "5560e42e",
   "metadata": {},
   "source": [
    "nombre_infected       914\n",
    "nombre_sain          1998\n",
    "nombre_exposed        468\n",
    "nombre_recovered    16620\n",
    "Name: 541, dtype: int64"
   ]
  },
  {
   "cell_type": "markdown",
   "id": "cfefa9c9",
   "metadata": {},
   "source": [
    "nombre_infected       919\n",
    "nombre_sain          1964\n",
    "nombre_exposed        476\n",
    "nombre_recovered    16641\n",
    "Name: 542, dtype: int64"
   ]
  },
  {
   "cell_type": "markdown",
   "id": "36cf381d",
   "metadata": {},
   "source": [
    "nombre_infected       896\n",
    "nombre_sain          1961\n",
    "nombre_exposed        494\n",
    "nombre_recovered    16649\n",
    "Name: 543, dtype: int64"
   ]
  },
  {
   "cell_type": "markdown",
   "id": "1131de16",
   "metadata": {},
   "source": [
    "nombre_infected       899\n",
    "nombre_sain          1949\n",
    "nombre_exposed        495\n",
    "nombre_recovered    16657\n",
    "Name: 544, dtype: int64"
   ]
  },
  {
   "cell_type": "markdown",
   "id": "0c9c1673",
   "metadata": {},
   "source": [
    "nombre_infected       904\n",
    "nombre_sain          1928\n",
    "nombre_exposed        495\n",
    "nombre_recovered    16673\n",
    "Name: 545, dtype: int64"
   ]
  },
  {
   "cell_type": "markdown",
   "id": "8bd8faea",
   "metadata": {},
   "source": [
    "nombre_infected       888\n",
    "nombre_sain          1909\n",
    "nombre_exposed        492\n",
    "nombre_recovered    16711\n",
    "Name: 546, dtype: int64"
   ]
  },
  {
   "cell_type": "markdown",
   "id": "a9a80ca4",
   "metadata": {},
   "source": [
    "nombre_infected       889\n",
    "nombre_sain          1869\n",
    "nombre_exposed        490\n",
    "nombre_recovered    16752\n",
    "Name: 547, dtype: int64"
   ]
  },
  {
   "cell_type": "markdown",
   "id": "778fe0a5",
   "metadata": {},
   "source": [
    "nombre_infected       847\n",
    "nombre_sain          1851\n",
    "nombre_exposed        507\n",
    "nombre_recovered    16795\n",
    "Name: 548, dtype: int64"
   ]
  },
  {
   "cell_type": "markdown",
   "id": "c49bdbc8",
   "metadata": {},
   "source": [
    "nombre_infected       844\n",
    "nombre_sain          1862\n",
    "nombre_exposed        480\n",
    "nombre_recovered    16814\n",
    "Name: 549, dtype: int64"
   ]
  },
  {
   "cell_type": "markdown",
   "id": "105132a5",
   "metadata": {},
   "source": [
    "nombre_infected       852\n",
    "nombre_sain          1844\n",
    "nombre_exposed        477\n",
    "nombre_recovered    16827\n",
    "Name: 550, dtype: int64"
   ]
  },
  {
   "cell_type": "markdown",
   "id": "dd5edb8c",
   "metadata": {},
   "source": [
    "nombre_infected       842\n",
    "nombre_sain          1840\n",
    "nombre_exposed        477\n",
    "nombre_recovered    16841\n",
    "Name: 551, dtype: int64"
   ]
  },
  {
   "cell_type": "markdown",
   "id": "d15b424e",
   "metadata": {},
   "source": [
    "nombre_infected       842\n",
    "nombre_sain          1804\n",
    "nombre_exposed        475\n",
    "nombre_recovered    16879\n",
    "Name: 552, dtype: int64"
   ]
  },
  {
   "cell_type": "markdown",
   "id": "53c3636c",
   "metadata": {},
   "source": [
    "nombre_infected       826\n",
    "nombre_sain          1824\n",
    "nombre_exposed        476\n",
    "nombre_recovered    16874\n",
    "Name: 553, dtype: int64"
   ]
  },
  {
   "cell_type": "markdown",
   "id": "452d08ae",
   "metadata": {},
   "source": [
    "nombre_infected       833\n",
    "nombre_sain          1819\n",
    "nombre_exposed        446\n",
    "nombre_recovered    16902\n",
    "Name: 554, dtype: int64"
   ]
  },
  {
   "cell_type": "markdown",
   "id": "07e6930f",
   "metadata": {},
   "source": [
    "nombre_infected       832\n",
    "nombre_sain          1801\n",
    "nombre_exposed        451\n",
    "nombre_recovered    16916\n",
    "Name: 555, dtype: int64"
   ]
  },
  {
   "cell_type": "markdown",
   "id": "72580c8c",
   "metadata": {},
   "source": [
    "nombre_infected       822\n",
    "nombre_sain          1806\n",
    "nombre_exposed        438\n",
    "nombre_recovered    16934\n",
    "Name: 556, dtype: int64"
   ]
  },
  {
   "cell_type": "markdown",
   "id": "5d21c5e8",
   "metadata": {},
   "source": [
    "nombre_infected       825\n",
    "nombre_sain          1807\n",
    "nombre_exposed        440\n",
    "nombre_recovered    16928\n",
    "Name: 557, dtype: int64"
   ]
  },
  {
   "cell_type": "markdown",
   "id": "af90ca51",
   "metadata": {},
   "source": [
    "nombre_infected       832\n",
    "nombre_sain          1797\n",
    "nombre_exposed        427\n",
    "nombre_recovered    16944\n",
    "Name: 558, dtype: int64"
   ]
  },
  {
   "cell_type": "markdown",
   "id": "f1c0b0b0",
   "metadata": {},
   "source": [
    "nombre_infected       822\n",
    "nombre_sain          1780\n",
    "nombre_exposed        437\n",
    "nombre_recovered    16961\n",
    "Name: 559, dtype: int64"
   ]
  },
  {
   "cell_type": "markdown",
   "id": "35383e3c",
   "metadata": {},
   "source": [
    "nombre_infected       825\n",
    "nombre_sain          1776\n",
    "nombre_exposed        434\n",
    "nombre_recovered    16965\n",
    "Name: 560, dtype: int64"
   ]
  },
  {
   "cell_type": "markdown",
   "id": "94cc3376",
   "metadata": {},
   "source": [
    "nombre_infected       838\n",
    "nombre_sain          1784\n",
    "nombre_exposed        409\n",
    "nombre_recovered    16969\n",
    "Name: 561, dtype: int64"
   ]
  },
  {
   "cell_type": "markdown",
   "id": "c551c9f9",
   "metadata": {},
   "source": [
    "nombre_infected       826\n",
    "nombre_sain          1777\n",
    "nombre_exposed        405\n",
    "nombre_recovered    16992\n",
    "Name: 562, dtype: int64"
   ]
  },
  {
   "cell_type": "markdown",
   "id": "bbbc7b98",
   "metadata": {},
   "source": [
    "nombre_infected       796\n",
    "nombre_sain          1777\n",
    "nombre_exposed        402\n",
    "nombre_recovered    17025\n",
    "Name: 563, dtype: int64"
   ]
  },
  {
   "cell_type": "markdown",
   "id": "04eb4d8e",
   "metadata": {},
   "source": [
    "nombre_infected       822\n",
    "nombre_sain          1770\n",
    "nombre_exposed        383\n",
    "nombre_recovered    17025\n",
    "Name: 564, dtype: int64"
   ]
  },
  {
   "cell_type": "markdown",
   "id": "31dcd35d",
   "metadata": {},
   "source": [
    "nombre_infected       793\n",
    "nombre_sain          1781\n",
    "nombre_exposed        388\n",
    "nombre_recovered    17038\n",
    "Name: 565, dtype: int64"
   ]
  },
  {
   "cell_type": "markdown",
   "id": "24647987",
   "metadata": {},
   "source": [
    "nombre_infected       793\n",
    "nombre_sain          1781\n",
    "nombre_exposed        385\n",
    "nombre_recovered    17041\n",
    "Name: 566, dtype: int64"
   ]
  },
  {
   "cell_type": "markdown",
   "id": "722eb6f3",
   "metadata": {},
   "source": [
    "nombre_infected       779\n",
    "nombre_sain          1775\n",
    "nombre_exposed        402\n",
    "nombre_recovered    17044\n",
    "Name: 567, dtype: int64"
   ]
  },
  {
   "cell_type": "markdown",
   "id": "0edc85b6",
   "metadata": {},
   "source": [
    "nombre_infected       768\n",
    "nombre_sain          1776\n",
    "nombre_exposed        394\n",
    "nombre_recovered    17062\n",
    "Name: 568, dtype: int64"
   ]
  },
  {
   "cell_type": "markdown",
   "id": "f0b890d9",
   "metadata": {},
   "source": [
    "nombre_infected       793\n",
    "nombre_sain          1788\n",
    "nombre_exposed        364\n",
    "nombre_recovered    17055\n",
    "Name: 569, dtype: int64"
   ]
  },
  {
   "cell_type": "markdown",
   "id": "50bf70b8",
   "metadata": {},
   "source": [
    "nombre_infected       787\n",
    "nombre_sain          1807\n",
    "nombre_exposed        348\n",
    "nombre_recovered    17058\n",
    "Name: 570, dtype: int64"
   ]
  },
  {
   "cell_type": "markdown",
   "id": "cf0a7f81",
   "metadata": {},
   "source": [
    "nombre_infected       777\n",
    "nombre_sain          1807\n",
    "nombre_exposed        341\n",
    "nombre_recovered    17075\n",
    "Name: 571, dtype: int64"
   ]
  },
  {
   "cell_type": "markdown",
   "id": "55d47d51",
   "metadata": {},
   "source": [
    "nombre_infected       759\n",
    "nombre_sain          1820\n",
    "nombre_exposed        339\n",
    "nombre_recovered    17082\n",
    "Name: 572, dtype: int64"
   ]
  },
  {
   "cell_type": "markdown",
   "id": "947f6fbd",
   "metadata": {},
   "source": [
    "nombre_infected       741\n",
    "nombre_sain          1808\n",
    "nombre_exposed        337\n",
    "nombre_recovered    17114\n",
    "Name: 573, dtype: int64"
   ]
  },
  {
   "cell_type": "markdown",
   "id": "36180054",
   "metadata": {},
   "source": [
    "nombre_infected       718\n",
    "nombre_sain          1828\n",
    "nombre_exposed        333\n",
    "nombre_recovered    17121\n",
    "Name: 574, dtype: int64"
   ]
  },
  {
   "cell_type": "markdown",
   "id": "3d90b96b",
   "metadata": {},
   "source": [
    "nombre_infected       716\n",
    "nombre_sain          1831\n",
    "nombre_exposed        325\n",
    "nombre_recovered    17128\n",
    "Name: 575, dtype: int64"
   ]
  },
  {
   "cell_type": "markdown",
   "id": "233792a0",
   "metadata": {},
   "source": [
    "nombre_infected       696\n",
    "nombre_sain          1840\n",
    "nombre_exposed        328\n",
    "nombre_recovered    17136\n",
    "Name: 576, dtype: int64"
   ]
  },
  {
   "cell_type": "markdown",
   "id": "3c25dcc2",
   "metadata": {},
   "source": [
    "nombre_infected       711\n",
    "nombre_sain          1853\n",
    "nombre_exposed        313\n",
    "nombre_recovered    17123\n",
    "Name: 577, dtype: int64"
   ]
  },
  {
   "cell_type": "markdown",
   "id": "f113d6da",
   "metadata": {},
   "source": [
    "nombre_infected       688\n",
    "nombre_sain          1898\n",
    "nombre_exposed        319\n",
    "nombre_recovered    17095\n",
    "Name: 578, dtype: int64"
   ]
  },
  {
   "cell_type": "markdown",
   "id": "076da678",
   "metadata": {},
   "source": [
    "nombre_infected       646\n",
    "nombre_sain          1918\n",
    "nombre_exposed        332\n",
    "nombre_recovered    17104\n",
    "Name: 579, dtype: int64"
   ]
  },
  {
   "cell_type": "markdown",
   "id": "c3275542",
   "metadata": {},
   "source": [
    "nombre_infected       662\n",
    "nombre_sain          1929\n",
    "nombre_exposed        327\n",
    "nombre_recovered    17082\n",
    "Name: 580, dtype: int64"
   ]
  },
  {
   "cell_type": "markdown",
   "id": "d99f76e2",
   "metadata": {},
   "source": [
    "nombre_infected       687\n",
    "nombre_sain          1949\n",
    "nombre_exposed        316\n",
    "nombre_recovered    17048\n",
    "Name: 581, dtype: int64"
   ]
  },
  {
   "cell_type": "markdown",
   "id": "3864e4a3",
   "metadata": {},
   "source": [
    "nombre_infected       672\n",
    "nombre_sain          1947\n",
    "nombre_exposed        324\n",
    "nombre_recovered    17057\n",
    "Name: 582, dtype: int64"
   ]
  },
  {
   "cell_type": "markdown",
   "id": "3a809b53",
   "metadata": {},
   "source": [
    "nombre_infected       644\n",
    "nombre_sain          1967\n",
    "nombre_exposed        330\n",
    "nombre_recovered    17059\n",
    "Name: 583, dtype: int64"
   ]
  },
  {
   "cell_type": "markdown",
   "id": "a18e5304",
   "metadata": {},
   "source": [
    "nombre_infected       628\n",
    "nombre_sain          1997\n",
    "nombre_exposed        337\n",
    "nombre_recovered    17038\n",
    "Name: 584, dtype: int64"
   ]
  },
  {
   "cell_type": "markdown",
   "id": "d0f42f5f",
   "metadata": {},
   "source": [
    "nombre_infected       627\n",
    "nombre_sain          2007\n",
    "nombre_exposed        342\n",
    "nombre_recovered    17024\n",
    "Name: 585, dtype: int64"
   ]
  },
  {
   "cell_type": "markdown",
   "id": "1681039a",
   "metadata": {},
   "source": [
    "nombre_infected       603\n",
    "nombre_sain          2044\n",
    "nombre_exposed        350\n",
    "nombre_recovered    17003\n",
    "Name: 586, dtype: int64"
   ]
  },
  {
   "cell_type": "markdown",
   "id": "1bbf1c05",
   "metadata": {},
   "source": [
    "nombre_infected       609\n",
    "nombre_sain          2073\n",
    "nombre_exposed        329\n",
    "nombre_recovered    16989\n",
    "Name: 587, dtype: int64"
   ]
  },
  {
   "cell_type": "markdown",
   "id": "6c719f8e",
   "metadata": {},
   "source": [
    "nombre_infected       606\n",
    "nombre_sain          2116\n",
    "nombre_exposed        315\n",
    "nombre_recovered    16963\n",
    "Name: 588, dtype: int64"
   ]
  },
  {
   "cell_type": "markdown",
   "id": "56295ffc",
   "metadata": {},
   "source": [
    "nombre_infected       616\n",
    "nombre_sain          2139\n",
    "nombre_exposed        322\n",
    "nombre_recovered    16923\n",
    "Name: 589, dtype: int64"
   ]
  },
  {
   "cell_type": "markdown",
   "id": "60ac5fae",
   "metadata": {},
   "source": [
    "nombre_infected       622\n",
    "nombre_sain          2170\n",
    "nombre_exposed        321\n",
    "nombre_recovered    16887\n",
    "Name: 590, dtype: int64"
   ]
  },
  {
   "cell_type": "markdown",
   "id": "41c93f20",
   "metadata": {},
   "source": [
    "nombre_infected       615\n",
    "nombre_sain          2215\n",
    "nombre_exposed        328\n",
    "nombre_recovered    16842\n",
    "Name: 591, dtype: int64"
   ]
  },
  {
   "cell_type": "markdown",
   "id": "8d804a5f",
   "metadata": {},
   "source": [
    "nombre_infected       609\n",
    "nombre_sain          2212\n",
    "nombre_exposed        345\n",
    "nombre_recovered    16834\n",
    "Name: 592, dtype: int64"
   ]
  },
  {
   "cell_type": "markdown",
   "id": "06267f8f",
   "metadata": {},
   "source": [
    "nombre_infected       615\n",
    "nombre_sain          2240\n",
    "nombre_exposed        336\n",
    "nombre_recovered    16809\n",
    "Name: 593, dtype: int64"
   ]
  },
  {
   "cell_type": "markdown",
   "id": "f17d1e49",
   "metadata": {},
   "source": [
    "nombre_infected       612\n",
    "nombre_sain          2244\n",
    "nombre_exposed        352\n",
    "nombre_recovered    16792\n",
    "Name: 594, dtype: int64"
   ]
  },
  {
   "cell_type": "markdown",
   "id": "5fcc070f",
   "metadata": {},
   "source": [
    "nombre_infected       614\n",
    "nombre_sain          2249\n",
    "nombre_exposed        364\n",
    "nombre_recovered    16773\n",
    "Name: 595, dtype: int64"
   ]
  },
  {
   "cell_type": "markdown",
   "id": "c906714c",
   "metadata": {},
   "source": [
    "nombre_infected       622\n",
    "nombre_sain          2277\n",
    "nombre_exposed        358\n",
    "nombre_recovered    16743\n",
    "Name: 596, dtype: int64"
   ]
  },
  {
   "cell_type": "markdown",
   "id": "2b9676e8",
   "metadata": {},
   "source": [
    "nombre_infected       633\n",
    "nombre_sain          2292\n",
    "nombre_exposed        380\n",
    "nombre_recovered    16695\n",
    "Name: 597, dtype: int64"
   ]
  },
  {
   "cell_type": "markdown",
   "id": "3314cf0f",
   "metadata": {},
   "source": [
    "nombre_infected       639\n",
    "nombre_sain          2297\n",
    "nombre_exposed        388\n",
    "nombre_recovered    16676\n",
    "Name: 598, dtype: int64"
   ]
  },
  {
   "cell_type": "markdown",
   "id": "900355df",
   "metadata": {},
   "source": [
    "nombre_infected       644\n",
    "nombre_sain          2317\n",
    "nombre_exposed        394\n",
    "nombre_recovered    16645\n",
    "Name: 599, dtype: int64"
   ]
  },
  {
   "cell_type": "markdown",
   "id": "c17b4044",
   "metadata": {},
   "source": [
    "nombre_infected       647\n",
    "nombre_sain          2314\n",
    "nombre_exposed        405\n",
    "nombre_recovered    16634\n",
    "Name: 600, dtype: int64"
   ]
  },
  {
   "cell_type": "markdown",
   "id": "afe3680f",
   "metadata": {},
   "source": [
    "nombre_infected       647\n",
    "nombre_sain          2326\n",
    "nombre_exposed        410\n",
    "nombre_recovered    16617\n",
    "Name: 601, dtype: int64"
   ]
  },
  {
   "cell_type": "markdown",
   "id": "987c349b",
   "metadata": {},
   "source": [
    "nombre_infected       645\n",
    "nombre_sain          2334\n",
    "nombre_exposed        420\n",
    "nombre_recovered    16601\n",
    "Name: 602, dtype: int64"
   ]
  },
  {
   "cell_type": "markdown",
   "id": "847acbae",
   "metadata": {},
   "source": [
    "nombre_infected       656\n",
    "nombre_sain          2332\n",
    "nombre_exposed        424\n",
    "nombre_recovered    16588\n",
    "Name: 603, dtype: int64"
   ]
  },
  {
   "cell_type": "markdown",
   "id": "b40c1f55",
   "metadata": {},
   "source": [
    "nombre_infected       653\n",
    "nombre_sain          2332\n",
    "nombre_exposed        423\n",
    "nombre_recovered    16592\n",
    "Name: 604, dtype: int64"
   ]
  },
  {
   "cell_type": "markdown",
   "id": "cc5a415a",
   "metadata": {},
   "source": [
    "nombre_infected       672\n",
    "nombre_sain          2312\n",
    "nombre_exposed        443\n",
    "nombre_recovered    16573\n",
    "Name: 605, dtype: int64"
   ]
  },
  {
   "cell_type": "markdown",
   "id": "0933592e",
   "metadata": {},
   "source": [
    "nombre_infected       691\n",
    "nombre_sain          2303\n",
    "nombre_exposed        438\n",
    "nombre_recovered    16568\n",
    "Name: 606, dtype: int64"
   ]
  },
  {
   "cell_type": "markdown",
   "id": "ad9c01b3",
   "metadata": {},
   "source": [
    "nombre_infected       708\n",
    "nombre_sain          2284\n",
    "nombre_exposed        455\n",
    "nombre_recovered    16553\n",
    "Name: 607, dtype: int64"
   ]
  },
  {
   "cell_type": "markdown",
   "id": "9beb9666",
   "metadata": {},
   "source": [
    "nombre_infected       728\n",
    "nombre_sain          2263\n",
    "nombre_exposed        455\n",
    "nombre_recovered    16554\n",
    "Name: 608, dtype: int64"
   ]
  },
  {
   "cell_type": "markdown",
   "id": "533d4886",
   "metadata": {},
   "source": [
    "nombre_infected       751\n",
    "nombre_sain          2250\n",
    "nombre_exposed        458\n",
    "nombre_recovered    16541\n",
    "Name: 609, dtype: int64"
   ]
  },
  {
   "cell_type": "markdown",
   "id": "998797db",
   "metadata": {},
   "source": [
    "nombre_infected       750\n",
    "nombre_sain          2230\n",
    "nombre_exposed        464\n",
    "nombre_recovered    16556\n",
    "Name: 610, dtype: int64"
   ]
  },
  {
   "cell_type": "markdown",
   "id": "4474c150",
   "metadata": {},
   "source": [
    "nombre_infected       775\n",
    "nombre_sain          2173\n",
    "nombre_exposed        487\n",
    "nombre_recovered    16565\n",
    "Name: 611, dtype: int64"
   ]
  },
  {
   "cell_type": "markdown",
   "id": "bf566709",
   "metadata": {},
   "source": [
    "nombre_infected       789\n",
    "nombre_sain          2142\n",
    "nombre_exposed        500\n",
    "nombre_recovered    16569\n",
    "Name: 612, dtype: int64"
   ]
  },
  {
   "cell_type": "markdown",
   "id": "b5aa6d2c",
   "metadata": {},
   "source": [
    "nombre_infected       808\n",
    "nombre_sain          2143\n",
    "nombre_exposed        489\n",
    "nombre_recovered    16560\n",
    "Name: 613, dtype: int64"
   ]
  },
  {
   "cell_type": "markdown",
   "id": "50c3ab94",
   "metadata": {},
   "source": [
    "nombre_infected       834\n",
    "nombre_sain          2144\n",
    "nombre_exposed        457\n",
    "nombre_recovered    16565\n",
    "Name: 614, dtype: int64"
   ]
  },
  {
   "cell_type": "markdown",
   "id": "6b1375dd",
   "metadata": {},
   "source": [
    "nombre_infected       850\n",
    "nombre_sain          2120\n",
    "nombre_exposed        463\n",
    "nombre_recovered    16567\n",
    "Name: 615, dtype: int64"
   ]
  },
  {
   "cell_type": "markdown",
   "id": "0da21cc7",
   "metadata": {},
   "source": [
    "nombre_infected       848\n",
    "nombre_sain          2110\n",
    "nombre_exposed        471\n",
    "nombre_recovered    16571\n",
    "Name: 616, dtype: int64"
   ]
  },
  {
   "cell_type": "markdown",
   "id": "4cee1034",
   "metadata": {},
   "source": [
    "nombre_infected       863\n",
    "nombre_sain          2116\n",
    "nombre_exposed        462\n",
    "nombre_recovered    16559\n",
    "Name: 617, dtype: int64"
   ]
  },
  {
   "cell_type": "markdown",
   "id": "ccdac62b",
   "metadata": {},
   "source": [
    "nombre_infected       847\n",
    "nombre_sain          2098\n",
    "nombre_exposed        491\n",
    "nombre_recovered    16564\n",
    "Name: 618, dtype: int64"
   ]
  },
  {
   "cell_type": "markdown",
   "id": "8936c0f8",
   "metadata": {},
   "source": [
    "nombre_infected       856\n",
    "nombre_sain          2078\n",
    "nombre_exposed        487\n",
    "nombre_recovered    16579\n",
    "Name: 619, dtype: int64"
   ]
  },
  {
   "cell_type": "markdown",
   "id": "6a8386ac",
   "metadata": {},
   "source": [
    "nombre_infected       853\n",
    "nombre_sain          2082\n",
    "nombre_exposed        487\n",
    "nombre_recovered    16578\n",
    "Name: 620, dtype: int64"
   ]
  },
  {
   "cell_type": "markdown",
   "id": "bec0899f",
   "metadata": {},
   "source": [
    "nombre_infected       866\n",
    "nombre_sain          2057\n",
    "nombre_exposed        493\n",
    "nombre_recovered    16584\n",
    "Name: 621, dtype: int64"
   ]
  },
  {
   "cell_type": "markdown",
   "id": "2027d6a9",
   "metadata": {},
   "source": [
    "nombre_infected       879\n",
    "nombre_sain          2044\n",
    "nombre_exposed        475\n",
    "nombre_recovered    16602\n",
    "Name: 622, dtype: int64"
   ]
  },
  {
   "cell_type": "markdown",
   "id": "89a6e7e3",
   "metadata": {},
   "source": [
    "nombre_infected       881\n",
    "nombre_sain          2032\n",
    "nombre_exposed        476\n",
    "nombre_recovered    16611\n",
    "Name: 623, dtype: int64"
   ]
  },
  {
   "cell_type": "markdown",
   "id": "05d8780b",
   "metadata": {},
   "source": [
    "nombre_infected       883\n",
    "nombre_sain          2018\n",
    "nombre_exposed        463\n",
    "nombre_recovered    16636\n",
    "Name: 624, dtype: int64"
   ]
  },
  {
   "cell_type": "markdown",
   "id": "3769f674",
   "metadata": {},
   "source": [
    "nombre_infected       887\n",
    "nombre_sain          2006\n",
    "nombre_exposed        446\n",
    "nombre_recovered    16661\n",
    "Name: 625, dtype: int64"
   ]
  },
  {
   "cell_type": "markdown",
   "id": "a56d2c75",
   "metadata": {},
   "source": [
    "nombre_infected       891\n",
    "nombre_sain          1994\n",
    "nombre_exposed        453\n",
    "nombre_recovered    16662\n",
    "Name: 626, dtype: int64"
   ]
  },
  {
   "cell_type": "markdown",
   "id": "fd1456a1",
   "metadata": {},
   "source": [
    "nombre_infected       899\n",
    "nombre_sain          1988\n",
    "nombre_exposed        443\n",
    "nombre_recovered    16670\n",
    "Name: 627, dtype: int64"
   ]
  },
  {
   "cell_type": "markdown",
   "id": "0c6f2c0f",
   "metadata": {},
   "source": [
    "nombre_infected       893\n",
    "nombre_sain          1958\n",
    "nombre_exposed        464\n",
    "nombre_recovered    16685\n",
    "Name: 628, dtype: int64"
   ]
  },
  {
   "cell_type": "markdown",
   "id": "33e395c6",
   "metadata": {},
   "source": [
    "nombre_infected       861\n",
    "nombre_sain          1938\n",
    "nombre_exposed        482\n",
    "nombre_recovered    16719\n",
    "Name: 629, dtype: int64"
   ]
  },
  {
   "cell_type": "markdown",
   "id": "89a59227",
   "metadata": {},
   "source": [
    "nombre_infected       865\n",
    "nombre_sain          1934\n",
    "nombre_exposed        478\n",
    "nombre_recovered    16723\n",
    "Name: 630, dtype: int64"
   ]
  },
  {
   "cell_type": "markdown",
   "id": "be0995cc",
   "metadata": {},
   "source": [
    "nombre_infected       878\n",
    "nombre_sain          1916\n",
    "nombre_exposed        480\n",
    "nombre_recovered    16726\n",
    "Name: 631, dtype: int64"
   ]
  },
  {
   "cell_type": "markdown",
   "id": "3398e998",
   "metadata": {},
   "source": [
    "nombre_infected       873\n",
    "nombre_sain          1898\n",
    "nombre_exposed        473\n",
    "nombre_recovered    16756\n",
    "Name: 632, dtype: int64"
   ]
  },
  {
   "cell_type": "markdown",
   "id": "fc80d19a",
   "metadata": {},
   "source": [
    "nombre_infected       863\n",
    "nombre_sain          1881\n",
    "nombre_exposed        460\n",
    "nombre_recovered    16796\n",
    "Name: 633, dtype: int64"
   ]
  },
  {
   "cell_type": "markdown",
   "id": "1921d442",
   "metadata": {},
   "source": [
    "nombre_infected       846\n",
    "nombre_sain          1866\n",
    "nombre_exposed        450\n",
    "nombre_recovered    16838\n",
    "Name: 634, dtype: int64"
   ]
  },
  {
   "cell_type": "markdown",
   "id": "c1594951",
   "metadata": {},
   "source": [
    "nombre_infected       861\n",
    "nombre_sain          1858\n",
    "nombre_exposed        444\n",
    "nombre_recovered    16837\n",
    "Name: 635, dtype: int64"
   ]
  },
  {
   "cell_type": "markdown",
   "id": "549d5652",
   "metadata": {},
   "source": [
    "nombre_infected       860\n",
    "nombre_sain          1846\n",
    "nombre_exposed        447\n",
    "nombre_recovered    16847\n",
    "Name: 636, dtype: int64"
   ]
  },
  {
   "cell_type": "markdown",
   "id": "2ea74a61",
   "metadata": {},
   "source": [
    "nombre_infected       854\n",
    "nombre_sain          1851\n",
    "nombre_exposed        439\n",
    "nombre_recovered    16856\n",
    "Name: 637, dtype: int64"
   ]
  },
  {
   "cell_type": "markdown",
   "id": "a72a86e1",
   "metadata": {},
   "source": [
    "nombre_infected       843\n",
    "nombre_sain          1852\n",
    "nombre_exposed        436\n",
    "nombre_recovered    16869\n",
    "Name: 638, dtype: int64"
   ]
  },
  {
   "cell_type": "markdown",
   "id": "28f9fc88",
   "metadata": {},
   "source": [
    "nombre_infected       862\n",
    "nombre_sain          1853\n",
    "nombre_exposed        416\n",
    "nombre_recovered    16869\n",
    "Name: 639, dtype: int64"
   ]
  },
  {
   "cell_type": "markdown",
   "id": "77825d51",
   "metadata": {},
   "source": [
    "nombre_infected       844\n",
    "nombre_sain          1853\n",
    "nombre_exposed        400\n",
    "nombre_recovered    16903\n",
    "Name: 640, dtype: int64"
   ]
  },
  {
   "cell_type": "markdown",
   "id": "9e7e2e83",
   "metadata": {},
   "source": [
    "nombre_infected       849\n",
    "nombre_sain          1841\n",
    "nombre_exposed        411\n",
    "nombre_recovered    16899\n",
    "Name: 641, dtype: int64"
   ]
  },
  {
   "cell_type": "markdown",
   "id": "6983712f",
   "metadata": {},
   "source": [
    "nombre_infected       829\n",
    "nombre_sain          1855\n",
    "nombre_exposed        413\n",
    "nombre_recovered    16903\n",
    "Name: 642, dtype: int64"
   ]
  },
  {
   "cell_type": "markdown",
   "id": "a0a6bf8a",
   "metadata": {},
   "source": [
    "nombre_infected       821\n",
    "nombre_sain          1842\n",
    "nombre_exposed        401\n",
    "nombre_recovered    16936\n",
    "Name: 643, dtype: int64"
   ]
  },
  {
   "cell_type": "markdown",
   "id": "159d0ad1",
   "metadata": {},
   "source": [
    "nombre_infected       833\n",
    "nombre_sain          1831\n",
    "nombre_exposed        396\n",
    "nombre_recovered    16940\n",
    "Name: 644, dtype: int64"
   ]
  },
  {
   "cell_type": "markdown",
   "id": "f929f2e7",
   "metadata": {},
   "source": [
    "nombre_infected       819\n",
    "nombre_sain          1844\n",
    "nombre_exposed        381\n",
    "nombre_recovered    16956\n",
    "Name: 645, dtype: int64"
   ]
  },
  {
   "cell_type": "markdown",
   "id": "8f63ed67",
   "metadata": {},
   "source": [
    "nombre_infected       811\n",
    "nombre_sain          1836\n",
    "nombre_exposed        375\n",
    "nombre_recovered    16978\n",
    "Name: 646, dtype: int64"
   ]
  },
  {
   "cell_type": "markdown",
   "id": "717d7820",
   "metadata": {},
   "source": [
    "nombre_infected       784\n",
    "nombre_sain          1848\n",
    "nombre_exposed        363\n",
    "nombre_recovered    17005\n",
    "Name: 647, dtype: int64"
   ]
  },
  {
   "cell_type": "markdown",
   "id": "7cf2d249",
   "metadata": {},
   "source": [
    "nombre_infected       769\n",
    "nombre_sain          1860\n",
    "nombre_exposed        358\n",
    "nombre_recovered    17013\n",
    "Name: 648, dtype: int64"
   ]
  },
  {
   "cell_type": "markdown",
   "id": "58719990",
   "metadata": {},
   "source": [
    "nombre_infected       757\n",
    "nombre_sain          1841\n",
    "nombre_exposed        359\n",
    "nombre_recovered    17043\n",
    "Name: 649, dtype: int64"
   ]
  },
  {
   "cell_type": "markdown",
   "id": "ac9e5b48",
   "metadata": {},
   "source": [
    "nombre_infected       748\n",
    "nombre_sain          1847\n",
    "nombre_exposed        364\n",
    "nombre_recovered    17041\n",
    "Name: 650, dtype: int64"
   ]
  },
  {
   "cell_type": "markdown",
   "id": "71105af2",
   "metadata": {},
   "source": [
    "nombre_infected       724\n",
    "nombre_sain          1853\n",
    "nombre_exposed        378\n",
    "nombre_recovered    17045\n",
    "Name: 651, dtype: int64"
   ]
  },
  {
   "cell_type": "markdown",
   "id": "69fabfdd",
   "metadata": {},
   "source": [
    "nombre_infected       725\n",
    "nombre_sain          1883\n",
    "nombre_exposed        354\n",
    "nombre_recovered    17038\n",
    "Name: 652, dtype: int64"
   ]
  },
  {
   "cell_type": "markdown",
   "id": "0debe3b2",
   "metadata": {},
   "source": [
    "nombre_infected       742\n",
    "nombre_sain          1877\n",
    "nombre_exposed        354\n",
    "nombre_recovered    17027\n",
    "Name: 653, dtype: int64"
   ]
  },
  {
   "cell_type": "markdown",
   "id": "220d6184",
   "metadata": {},
   "source": [
    "nombre_infected       706\n",
    "nombre_sain          1904\n",
    "nombre_exposed        363\n",
    "nombre_recovered    17027\n",
    "Name: 654, dtype: int64"
   ]
  },
  {
   "cell_type": "markdown",
   "id": "88b4c6eb",
   "metadata": {},
   "source": [
    "nombre_infected       697\n",
    "nombre_sain          1912\n",
    "nombre_exposed        367\n",
    "nombre_recovered    17024\n",
    "Name: 655, dtype: int64"
   ]
  },
  {
   "cell_type": "markdown",
   "id": "d11c4139",
   "metadata": {},
   "source": [
    "nombre_infected       693\n",
    "nombre_sain          1930\n",
    "nombre_exposed        364\n",
    "nombre_recovered    17013\n",
    "Name: 656, dtype: int64"
   ]
  },
  {
   "cell_type": "markdown",
   "id": "febcd43a",
   "metadata": {},
   "source": [
    "nombre_infected       690\n",
    "nombre_sain          1940\n",
    "nombre_exposed        381\n",
    "nombre_recovered    16989\n",
    "Name: 657, dtype: int64"
   ]
  },
  {
   "cell_type": "markdown",
   "id": "e813baac",
   "metadata": {},
   "source": [
    "nombre_infected       694\n",
    "nombre_sain          1963\n",
    "nombre_exposed        375\n",
    "nombre_recovered    16968\n",
    "Name: 658, dtype: int64"
   ]
  },
  {
   "cell_type": "markdown",
   "id": "a963312e",
   "metadata": {},
   "source": [
    "nombre_infected       708\n",
    "nombre_sain          1990\n",
    "nombre_exposed        351\n",
    "nombre_recovered    16951\n",
    "Name: 659, dtype: int64"
   ]
  },
  {
   "cell_type": "markdown",
   "id": "d3bcaaec",
   "metadata": {},
   "source": [
    "nombre_infected       706\n",
    "nombre_sain          2025\n",
    "nombre_exposed        354\n",
    "nombre_recovered    16915\n",
    "Name: 660, dtype: int64"
   ]
  },
  {
   "cell_type": "markdown",
   "id": "8da3b316",
   "metadata": {},
   "source": [
    "nombre_infected       713\n",
    "nombre_sain          2057\n",
    "nombre_exposed        339\n",
    "nombre_recovered    16891\n",
    "Name: 661, dtype: int64"
   ]
  },
  {
   "cell_type": "markdown",
   "id": "469aaa17",
   "metadata": {},
   "source": [
    "nombre_infected       737\n",
    "nombre_sain          2076\n",
    "nombre_exposed        339\n",
    "nombre_recovered    16848\n",
    "Name: 662, dtype: int64"
   ]
  },
  {
   "cell_type": "markdown",
   "id": "87678b71",
   "metadata": {},
   "source": [
    "nombre_infected       742\n",
    "nombre_sain          2076\n",
    "nombre_exposed        340\n",
    "nombre_recovered    16842\n",
    "Name: 663, dtype: int64"
   ]
  },
  {
   "cell_type": "markdown",
   "id": "9e670887",
   "metadata": {},
   "source": [
    "nombre_infected       720\n",
    "nombre_sain          2095\n",
    "nombre_exposed        348\n",
    "nombre_recovered    16837\n",
    "Name: 664, dtype: int64"
   ]
  },
  {
   "cell_type": "markdown",
   "id": "140b87c0",
   "metadata": {},
   "source": [
    "nombre_infected       698\n",
    "nombre_sain          2113\n",
    "nombre_exposed        373\n",
    "nombre_recovered    16816\n",
    "Name: 665, dtype: int64"
   ]
  },
  {
   "cell_type": "markdown",
   "id": "3813e229",
   "metadata": {},
   "source": [
    "nombre_infected       728\n",
    "nombre_sain          2137\n",
    "nombre_exposed        348\n",
    "nombre_recovered    16787\n",
    "Name: 666, dtype: int64"
   ]
  },
  {
   "cell_type": "markdown",
   "id": "a85de2b3",
   "metadata": {},
   "source": [
    "nombre_infected       740\n",
    "nombre_sain          2128\n",
    "nombre_exposed        366\n",
    "nombre_recovered    16766\n",
    "Name: 667, dtype: int64"
   ]
  },
  {
   "cell_type": "markdown",
   "id": "847a6f8e",
   "metadata": {},
   "source": [
    "nombre_infected       716\n",
    "nombre_sain          2122\n",
    "nombre_exposed        397\n",
    "nombre_recovered    16765\n",
    "Name: 668, dtype: int64"
   ]
  },
  {
   "cell_type": "markdown",
   "id": "086b0fb5",
   "metadata": {},
   "source": [
    "nombre_infected       718\n",
    "nombre_sain          2126\n",
    "nombre_exposed        392\n",
    "nombre_recovered    16764\n",
    "Name: 669, dtype: int64"
   ]
  },
  {
   "cell_type": "markdown",
   "id": "68c88c0e",
   "metadata": {},
   "source": [
    "nombre_infected       705\n",
    "nombre_sain          2120\n",
    "nombre_exposed        405\n",
    "nombre_recovered    16770\n",
    "Name: 670, dtype: int64"
   ]
  },
  {
   "cell_type": "markdown",
   "id": "c02f941c",
   "metadata": {},
   "source": [
    "nombre_infected       716\n",
    "nombre_sain          2141\n",
    "nombre_exposed        396\n",
    "nombre_recovered    16747\n",
    "Name: 671, dtype: int64"
   ]
  },
  {
   "cell_type": "markdown",
   "id": "1d501d09",
   "metadata": {},
   "source": [
    "nombre_infected       713\n",
    "nombre_sain          2147\n",
    "nombre_exposed        400\n",
    "nombre_recovered    16740\n",
    "Name: 672, dtype: int64"
   ]
  },
  {
   "cell_type": "markdown",
   "id": "f6c4b9e4",
   "metadata": {},
   "source": [
    "nombre_infected       724\n",
    "nombre_sain          2121\n",
    "nombre_exposed        445\n",
    "nombre_recovered    16710\n",
    "Name: 673, dtype: int64"
   ]
  },
  {
   "cell_type": "markdown",
   "id": "0cf29bac",
   "metadata": {},
   "source": [
    "nombre_infected       749\n",
    "nombre_sain          2131\n",
    "nombre_exposed        427\n",
    "nombre_recovered    16693\n",
    "Name: 674, dtype: int64"
   ]
  },
  {
   "cell_type": "markdown",
   "id": "e7345c74",
   "metadata": {},
   "source": [
    "nombre_infected       750\n",
    "nombre_sain          2123\n",
    "nombre_exposed        429\n",
    "nombre_recovered    16698\n",
    "Name: 675, dtype: int64"
   ]
  },
  {
   "cell_type": "markdown",
   "id": "44b70be4",
   "metadata": {},
   "source": [
    "nombre_infected       781\n",
    "nombre_sain          2142\n",
    "nombre_exposed        411\n",
    "nombre_recovered    16666\n",
    "Name: 676, dtype: int64"
   ]
  },
  {
   "cell_type": "markdown",
   "id": "7720f939",
   "metadata": {},
   "source": [
    "nombre_infected       784\n",
    "nombre_sain          2152\n",
    "nombre_exposed        400\n",
    "nombre_recovered    16664\n",
    "Name: 677, dtype: int64"
   ]
  },
  {
   "cell_type": "markdown",
   "id": "bb72f638",
   "metadata": {},
   "source": [
    "nombre_infected       803\n",
    "nombre_sain          2148\n",
    "nombre_exposed        408\n",
    "nombre_recovered    16641\n",
    "Name: 678, dtype: int64"
   ]
  },
  {
   "cell_type": "markdown",
   "id": "34095c0f",
   "metadata": {},
   "source": [
    "nombre_infected       800\n",
    "nombre_sain          2151\n",
    "nombre_exposed        430\n",
    "nombre_recovered    16619\n",
    "Name: 679, dtype: int64"
   ]
  },
  {
   "cell_type": "markdown",
   "id": "9c3851b6",
   "metadata": {},
   "source": [
    "nombre_infected       781\n",
    "nombre_sain          2133\n",
    "nombre_exposed        446\n",
    "nombre_recovered    16640\n",
    "Name: 680, dtype: int64"
   ]
  },
  {
   "cell_type": "markdown",
   "id": "9a74155a",
   "metadata": {},
   "source": [
    "nombre_infected       796\n",
    "nombre_sain          2130\n",
    "nombre_exposed        433\n",
    "nombre_recovered    16641\n",
    "Name: 681, dtype: int64"
   ]
  },
  {
   "cell_type": "markdown",
   "id": "79428c30",
   "metadata": {},
   "source": [
    "nombre_infected       812\n",
    "nombre_sain          2091\n",
    "nombre_exposed        441\n",
    "nombre_recovered    16656\n",
    "Name: 682, dtype: int64"
   ]
  },
  {
   "cell_type": "markdown",
   "id": "e5fa5260",
   "metadata": {},
   "source": [
    "nombre_infected       811\n",
    "nombre_sain          2081\n",
    "nombre_exposed        454\n",
    "nombre_recovered    16654\n",
    "Name: 683, dtype: int64"
   ]
  },
  {
   "cell_type": "markdown",
   "id": "5f0ac13a",
   "metadata": {},
   "source": [
    "nombre_infected       798\n",
    "nombre_sain          2069\n",
    "nombre_exposed        470\n",
    "nombre_recovered    16663\n",
    "Name: 684, dtype: int64"
   ]
  },
  {
   "cell_type": "markdown",
   "id": "a1552377",
   "metadata": {},
   "source": [
    "nombre_infected       803\n",
    "nombre_sain          2064\n",
    "nombre_exposed        476\n",
    "nombre_recovered    16657\n",
    "Name: 685, dtype: int64"
   ]
  },
  {
   "cell_type": "markdown",
   "id": "ee86dede",
   "metadata": {},
   "source": [
    "nombre_infected       847\n",
    "nombre_sain          2075\n",
    "nombre_exposed        420\n",
    "nombre_recovered    16658\n",
    "Name: 686, dtype: int64"
   ]
  },
  {
   "cell_type": "markdown",
   "id": "084ccb53",
   "metadata": {},
   "source": [
    "nombre_infected       854\n",
    "nombre_sain          2069\n",
    "nombre_exposed        422\n",
    "nombre_recovered    16655\n",
    "Name: 687, dtype: int64"
   ]
  },
  {
   "cell_type": "markdown",
   "id": "696f591c",
   "metadata": {},
   "source": [
    "nombre_infected       835\n",
    "nombre_sain          2080\n",
    "nombre_exposed        423\n",
    "nombre_recovered    16662\n",
    "Name: 688, dtype: int64"
   ]
  },
  {
   "cell_type": "markdown",
   "id": "3c439735",
   "metadata": {},
   "source": [
    "nombre_infected       837\n",
    "nombre_sain          2104\n",
    "nombre_exposed        411\n",
    "nombre_recovered    16648\n",
    "Name: 689, dtype: int64"
   ]
  },
  {
   "cell_type": "markdown",
   "id": "786e7225",
   "metadata": {},
   "source": [
    "nombre_infected       840\n",
    "nombre_sain          2101\n",
    "nombre_exposed        416\n",
    "nombre_recovered    16643\n",
    "Name: 690, dtype: int64"
   ]
  },
  {
   "cell_type": "markdown",
   "id": "875cac17",
   "metadata": {},
   "source": [
    "nombre_infected       833\n",
    "nombre_sain          2095\n",
    "nombre_exposed        407\n",
    "nombre_recovered    16665\n",
    "Name: 691, dtype: int64"
   ]
  },
  {
   "cell_type": "markdown",
   "id": "b7d7398f",
   "metadata": {},
   "source": [
    "nombre_infected       812\n",
    "nombre_sain          2081\n",
    "nombre_exposed        429\n",
    "nombre_recovered    16678\n",
    "Name: 692, dtype: int64"
   ]
  },
  {
   "cell_type": "markdown",
   "id": "6ed58de5",
   "metadata": {},
   "source": [
    "nombre_infected       828\n",
    "nombre_sain          2106\n",
    "nombre_exposed        409\n",
    "nombre_recovered    16657\n",
    "Name: 693, dtype: int64"
   ]
  },
  {
   "cell_type": "markdown",
   "id": "67caf1af",
   "metadata": {},
   "source": [
    "nombre_infected       845\n",
    "nombre_sain          2097\n",
    "nombre_exposed        404\n",
    "nombre_recovered    16654\n",
    "Name: 694, dtype: int64"
   ]
  },
  {
   "cell_type": "markdown",
   "id": "0c17db41",
   "metadata": {},
   "source": [
    "nombre_infected       840\n",
    "nombre_sain          2092\n",
    "nombre_exposed        427\n",
    "nombre_recovered    16641\n",
    "Name: 695, dtype: int64"
   ]
  },
  {
   "cell_type": "markdown",
   "id": "2e234ed3",
   "metadata": {},
   "source": [
    "nombre_infected       843\n",
    "nombre_sain          2105\n",
    "nombre_exposed        424\n",
    "nombre_recovered    16628\n",
    "Name: 696, dtype: int64"
   ]
  },
  {
   "cell_type": "markdown",
   "id": "9a4e29f7",
   "metadata": {},
   "source": [
    "nombre_infected       851\n",
    "nombre_sain          2108\n",
    "nombre_exposed        427\n",
    "nombre_recovered    16614\n",
    "Name: 697, dtype: int64"
   ]
  },
  {
   "cell_type": "markdown",
   "id": "ca87adcb",
   "metadata": {},
   "source": [
    "nombre_infected       852\n",
    "nombre_sain          2097\n",
    "nombre_exposed        452\n",
    "nombre_recovered    16599\n",
    "Name: 698, dtype: int64"
   ]
  },
  {
   "cell_type": "markdown",
   "id": "2eb0a89a",
   "metadata": {},
   "source": [
    "nombre_infected       853\n",
    "nombre_sain          2075\n",
    "nombre_exposed        473\n",
    "nombre_recovered    16599\n",
    "Name: 699, dtype: int64"
   ]
  },
  {
   "cell_type": "markdown",
   "id": "45e7559b",
   "metadata": {},
   "source": [
    "nombre_infected       879\n",
    "nombre_sain          2067\n",
    "nombre_exposed        453\n",
    "nombre_recovered    16601\n",
    "Name: 700, dtype: int64"
   ]
  },
  {
   "cell_type": "markdown",
   "id": "4d13959b",
   "metadata": {},
   "source": [
    "nombre_infected       891\n",
    "nombre_sain          2078\n",
    "nombre_exposed        437\n",
    "nombre_recovered    16594\n",
    "Name: 701, dtype: int64"
   ]
  },
  {
   "cell_type": "markdown",
   "id": "d9550fca",
   "metadata": {},
   "source": [
    "nombre_infected       893\n",
    "nombre_sain          2077\n",
    "nombre_exposed        442\n",
    "nombre_recovered    16588\n",
    "Name: 702, dtype: int64"
   ]
  },
  {
   "cell_type": "markdown",
   "id": "71d5d298",
   "metadata": {},
   "source": [
    "nombre_infected       890\n",
    "nombre_sain          2060\n",
    "nombre_exposed        441\n",
    "nombre_recovered    16609\n",
    "Name: 703, dtype: int64"
   ]
  },
  {
   "cell_type": "markdown",
   "id": "3f6aafd8",
   "metadata": {},
   "source": [
    "nombre_infected       902\n",
    "nombre_sain          2089\n",
    "nombre_exposed        420\n",
    "nombre_recovered    16589\n",
    "Name: 704, dtype: int64"
   ]
  },
  {
   "cell_type": "markdown",
   "id": "d3f0138c",
   "metadata": {},
   "source": [
    "nombre_infected       903\n",
    "nombre_sain          2096\n",
    "nombre_exposed        408\n",
    "nombre_recovered    16593\n",
    "Name: 705, dtype: int64"
   ]
  },
  {
   "cell_type": "markdown",
   "id": "6d520c00",
   "metadata": {},
   "source": [
    "nombre_infected       893\n",
    "nombre_sain          2073\n",
    "nombre_exposed        417\n",
    "nombre_recovered    16617\n",
    "Name: 706, dtype: int64"
   ]
  },
  {
   "cell_type": "markdown",
   "id": "6dd29539",
   "metadata": {},
   "source": [
    "nombre_infected       869\n",
    "nombre_sain          2076\n",
    "nombre_exposed        434\n",
    "nombre_recovered    16621\n",
    "Name: 707, dtype: int64"
   ]
  },
  {
   "cell_type": "markdown",
   "id": "ac0927c9",
   "metadata": {},
   "source": [
    "nombre_infected       866\n",
    "nombre_sain          2086\n",
    "nombre_exposed        437\n",
    "nombre_recovered    16611\n",
    "Name: 708, dtype: int64"
   ]
  },
  {
   "cell_type": "markdown",
   "id": "cb792cce",
   "metadata": {},
   "source": [
    "nombre_infected       863\n",
    "nombre_sain          2082\n",
    "nombre_exposed        426\n",
    "nombre_recovered    16629\n",
    "Name: 709, dtype: int64"
   ]
  },
  {
   "cell_type": "markdown",
   "id": "7e9fb54e",
   "metadata": {},
   "source": [
    "nombre_infected       860\n",
    "nombre_sain          2089\n",
    "nombre_exposed        422\n",
    "nombre_recovered    16629\n",
    "Name: 710, dtype: int64"
   ]
  },
  {
   "cell_type": "markdown",
   "id": "4e92e160",
   "metadata": {},
   "source": [
    "nombre_infected       877\n",
    "nombre_sain          2099\n",
    "nombre_exposed        421\n",
    "nombre_recovered    16603\n",
    "Name: 711, dtype: int64"
   ]
  },
  {
   "cell_type": "markdown",
   "id": "cf83659d",
   "metadata": {},
   "source": [
    "nombre_infected       874\n",
    "nombre_sain          2098\n",
    "nombre_exposed        432\n",
    "nombre_recovered    16596\n",
    "Name: 712, dtype: int64"
   ]
  },
  {
   "cell_type": "markdown",
   "id": "8ac0d31a",
   "metadata": {},
   "source": [
    "nombre_infected       862\n",
    "nombre_sain          2097\n",
    "nombre_exposed        437\n",
    "nombre_recovered    16604\n",
    "Name: 713, dtype: int64"
   ]
  },
  {
   "cell_type": "markdown",
   "id": "7bc4c1cf",
   "metadata": {},
   "source": [
    "nombre_infected       854\n",
    "nombre_sain          2089\n",
    "nombre_exposed        429\n",
    "nombre_recovered    16628\n",
    "Name: 714, dtype: int64"
   ]
  },
  {
   "cell_type": "markdown",
   "id": "7921d781",
   "metadata": {},
   "source": [
    "nombre_infected       830\n",
    "nombre_sain          2097\n",
    "nombre_exposed        446\n",
    "nombre_recovered    16627\n",
    "Name: 715, dtype: int64"
   ]
  },
  {
   "cell_type": "markdown",
   "id": "95bcea46",
   "metadata": {},
   "source": [
    "nombre_infected       832\n",
    "nombre_sain          2090\n",
    "nombre_exposed        448\n",
    "nombre_recovered    16630\n",
    "Name: 716, dtype: int64"
   ]
  },
  {
   "cell_type": "markdown",
   "id": "6490097e",
   "metadata": {},
   "source": [
    "nombre_infected       849\n",
    "nombre_sain          2087\n",
    "nombre_exposed        450\n",
    "nombre_recovered    16614\n",
    "Name: 717, dtype: int64"
   ]
  },
  {
   "cell_type": "markdown",
   "id": "1e0ea21b",
   "metadata": {},
   "source": [
    "nombre_infected       849\n",
    "nombre_sain          2054\n",
    "nombre_exposed        477\n",
    "nombre_recovered    16620\n",
    "Name: 718, dtype: int64"
   ]
  },
  {
   "cell_type": "markdown",
   "id": "eeea3457",
   "metadata": {},
   "source": [
    "nombre_infected       871\n",
    "nombre_sain          2072\n",
    "nombre_exposed        463\n",
    "nombre_recovered    16594\n",
    "Name: 719, dtype: int64"
   ]
  },
  {
   "cell_type": "markdown",
   "id": "2e7089aa",
   "metadata": {},
   "source": [
    "nombre_infected       878\n",
    "nombre_sain          2077\n",
    "nombre_exposed        456\n",
    "nombre_recovered    16589\n",
    "Name: 720, dtype: int64"
   ]
  },
  {
   "cell_type": "markdown",
   "id": "40d5fb83",
   "metadata": {},
   "source": [
    "nombre_infected       880\n",
    "nombre_sain          2067\n",
    "nombre_exposed        461\n",
    "nombre_recovered    16592\n",
    "Name: 721, dtype: int64"
   ]
  },
  {
   "cell_type": "markdown",
   "id": "fe5a491b",
   "metadata": {},
   "source": [
    "nombre_infected       891\n",
    "nombre_sain          2075\n",
    "nombre_exposed        472\n",
    "nombre_recovered    16562\n",
    "Name: 722, dtype: int64"
   ]
  },
  {
   "cell_type": "markdown",
   "id": "51c7e588",
   "metadata": {},
   "source": [
    "nombre_infected       888\n",
    "nombre_sain          2099\n",
    "nombre_exposed        476\n",
    "nombre_recovered    16537\n",
    "Name: 723, dtype: int64"
   ]
  },
  {
   "cell_type": "markdown",
   "id": "6b48077b",
   "metadata": {},
   "source": [
    "nombre_infected       883\n",
    "nombre_sain          2094\n",
    "nombre_exposed        497\n",
    "nombre_recovered    16526\n",
    "Name: 724, dtype: int64"
   ]
  },
  {
   "cell_type": "markdown",
   "id": "fb7489b2",
   "metadata": {},
   "source": [
    "nombre_infected       908\n",
    "nombre_sain          2079\n",
    "nombre_exposed        503\n",
    "nombre_recovered    16510\n",
    "Name: 725, dtype: int64"
   ]
  },
  {
   "cell_type": "markdown",
   "id": "5bd9385a",
   "metadata": {},
   "source": [
    "nombre_infected       904\n",
    "nombre_sain          2059\n",
    "nombre_exposed        525\n",
    "nombre_recovered    16512\n",
    "Name: 726, dtype: int64"
   ]
  },
  {
   "cell_type": "markdown",
   "id": "aec25d56",
   "metadata": {},
   "source": [
    "nombre_infected       935\n",
    "nombre_sain          2050\n",
    "nombre_exposed        508\n",
    "nombre_recovered    16507\n",
    "Name: 727, dtype: int64"
   ]
  },
  {
   "cell_type": "markdown",
   "id": "e75cbddf",
   "metadata": {},
   "source": [
    "nombre_infected       955\n",
    "nombre_sain          2060\n",
    "nombre_exposed        480\n",
    "nombre_recovered    16505\n",
    "Name: 728, dtype: int64"
   ]
  },
  {
   "cell_type": "markdown",
   "id": "9468f1c3",
   "metadata": {},
   "source": [
    "nombre_infected       962\n",
    "nombre_sain          2050\n",
    "nombre_exposed        488\n",
    "nombre_recovered    16500\n",
    "Name: 729, dtype: int64"
   ]
  },
  {
   "cell_type": "markdown",
   "id": "05fc1908",
   "metadata": {},
   "source": [
    "nombre_infected       959\n",
    "nombre_sain          2028\n",
    "nombre_exposed        504\n",
    "nombre_recovered    16509\n",
    "Name: 730, dtype: int64"
   ]
  }
 ],
 "metadata": {},
 "nbformat": 4,
 "nbformat_minor": 5
}
