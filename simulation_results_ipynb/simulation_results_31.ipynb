{
 "cells": [
  {
   "cell_type": "markdown",
   "id": "c2cd1240",
   "metadata": {},
   "source": [
    "nombre_infected        20\n",
    "nombre_sain         19980\n",
    "nombre_exposed          0\n",
    "nombre_recovered        0\n",
    "Name: 0, dtype: int64"
   ]
  },
  {
   "cell_type": "markdown",
   "id": "9ef5c7e3",
   "metadata": {},
   "source": [
    "nombre_infected        20\n",
    "nombre_sain         19963\n",
    "nombre_exposed         17\n",
    "nombre_recovered        0\n",
    "Name: 1, dtype: int64"
   ]
  },
  {
   "cell_type": "markdown",
   "id": "159a1999",
   "metadata": {},
   "source": [
    "nombre_infected        20\n",
    "nombre_sain         19941\n",
    "nombre_exposed         39\n",
    "nombre_recovered        0\n",
    "Name: 2, dtype: int64"
   ]
  },
  {
   "cell_type": "markdown",
   "id": "22d576b6",
   "metadata": {},
   "source": [
    "nombre_infected        24\n",
    "nombre_sain         19921\n",
    "nombre_exposed         55\n",
    "nombre_recovered        0\n",
    "Name: 3, dtype: int64"
   ]
  },
  {
   "cell_type": "markdown",
   "id": "c93ce089",
   "metadata": {},
   "source": [
    "nombre_infected        36\n",
    "nombre_sain         19897\n",
    "nombre_exposed         67\n",
    "nombre_recovered        0\n",
    "Name: 4, dtype: int64"
   ]
  },
  {
   "cell_type": "markdown",
   "id": "832d3b28",
   "metadata": {},
   "source": [
    "nombre_infected        49\n",
    "nombre_sain         19845\n",
    "nombre_exposed        106\n",
    "nombre_recovered        0\n",
    "Name: 5, dtype: int64"
   ]
  },
  {
   "cell_type": "markdown",
   "id": "3095187c",
   "metadata": {},
   "source": [
    "nombre_infected        40\n",
    "nombre_sain         19786\n",
    "nombre_exposed        151\n",
    "nombre_recovered       23\n",
    "Name: 6, dtype: int64"
   ]
  },
  {
   "cell_type": "markdown",
   "id": "c172c6c7",
   "metadata": {},
   "source": [
    "nombre_infected        61\n",
    "nombre_sain         19709\n",
    "nombre_exposed        201\n",
    "nombre_recovered       29\n",
    "Name: 7, dtype: int64"
   ]
  },
  {
   "cell_type": "markdown",
   "id": "6cc81cbb",
   "metadata": {},
   "source": [
    "nombre_infected        92\n",
    "nombre_sain         19632\n",
    "nombre_exposed        243\n",
    "nombre_recovered       33\n",
    "Name: 8, dtype: int64"
   ]
  },
  {
   "cell_type": "markdown",
   "id": "603f1304",
   "metadata": {},
   "source": [
    "nombre_infected       136\n",
    "nombre_sain         19493\n",
    "nombre_exposed        331\n",
    "nombre_recovered       40\n",
    "Name: 9, dtype: int64"
   ]
  },
  {
   "cell_type": "markdown",
   "id": "c3ff2ba8",
   "metadata": {},
   "source": [
    "nombre_infected       185\n",
    "nombre_sain         19316\n",
    "nombre_exposed        452\n",
    "nombre_recovered       47\n",
    "Name: 10, dtype: int64"
   ]
  },
  {
   "cell_type": "markdown",
   "id": "446af926",
   "metadata": {},
   "source": [
    "nombre_infected       244\n",
    "nombre_sain         19060\n",
    "nombre_exposed        635\n",
    "nombre_recovered       61\n",
    "Name: 11, dtype: int64"
   ]
  },
  {
   "cell_type": "markdown",
   "id": "ffe2e741",
   "metadata": {},
   "source": [
    "nombre_infected       321\n",
    "nombre_sain         18756\n",
    "nombre_exposed        843\n",
    "nombre_recovered       80\n",
    "Name: 12, dtype: int64"
   ]
  },
  {
   "cell_type": "markdown",
   "id": "cf6615b3",
   "metadata": {},
   "source": [
    "nombre_infected       437\n",
    "nombre_sain         18335\n",
    "nombre_exposed       1127\n",
    "nombre_recovered      101\n",
    "Name: 13, dtype: int64"
   ]
  },
  {
   "cell_type": "markdown",
   "id": "9afce9ce",
   "metadata": {},
   "source": [
    "nombre_infected       575\n",
    "nombre_sain         17790\n",
    "nombre_exposed       1494\n",
    "nombre_recovered      141\n",
    "Name: 14, dtype: int64"
   ]
  },
  {
   "cell_type": "markdown",
   "id": "06369a68",
   "metadata": {},
   "source": [
    "nombre_infected       783\n",
    "nombre_sain         17047\n",
    "nombre_exposed       1990\n",
    "nombre_recovered      180\n",
    "Name: 15, dtype: int64"
   ]
  },
  {
   "cell_type": "markdown",
   "id": "7594b5d1",
   "metadata": {},
   "source": [
    "nombre_infected      1072\n",
    "nombre_sain         16125\n",
    "nombre_exposed       2572\n",
    "nombre_recovered      231\n",
    "Name: 16, dtype: int64"
   ]
  },
  {
   "cell_type": "markdown",
   "id": "07387d22",
   "metadata": {},
   "source": [
    "nombre_infected      1436\n",
    "nombre_sain         15008\n",
    "nombre_exposed       3247\n",
    "nombre_recovered      309\n",
    "Name: 17, dtype: int64"
   ]
  },
  {
   "cell_type": "markdown",
   "id": "74ab6fbd",
   "metadata": {},
   "source": [
    "nombre_infected      1928\n",
    "nombre_sain         13610\n",
    "nombre_exposed       4051\n",
    "nombre_recovered      411\n",
    "Name: 18, dtype: int64"
   ]
  },
  {
   "cell_type": "markdown",
   "id": "4da8d57c",
   "metadata": {},
   "source": [
    "nombre_infected      2563\n",
    "nombre_sain         11991\n",
    "nombre_exposed       4902\n",
    "nombre_recovered      544\n",
    "Name: 19, dtype: int64"
   ]
  },
  {
   "cell_type": "markdown",
   "id": "3aa74558",
   "metadata": {},
   "source": [
    "nombre_infected      3241\n",
    "nombre_sain         10217\n",
    "nombre_exposed       5798\n",
    "nombre_recovered      744\n",
    "Name: 20, dtype: int64"
   ]
  },
  {
   "cell_type": "markdown",
   "id": "6c7ed7ba",
   "metadata": {},
   "source": [
    "nombre_infected     4053\n",
    "nombre_sain         8348\n",
    "nombre_exposed      6572\n",
    "nombre_recovered    1027\n",
    "Name: 21, dtype: int64"
   ]
  },
  {
   "cell_type": "markdown",
   "id": "61fb515a",
   "metadata": {},
   "source": [
    "nombre_infected     5017\n",
    "nombre_sain         6603\n",
    "nombre_exposed      7026\n",
    "nombre_recovered    1354\n",
    "Name: 22, dtype: int64"
   ]
  },
  {
   "cell_type": "markdown",
   "id": "e3430f24",
   "metadata": {},
   "source": [
    "nombre_infected     6063\n",
    "nombre_sain         5013\n",
    "nombre_exposed      7177\n",
    "nombre_recovered    1747\n",
    "Name: 23, dtype: int64"
   ]
  },
  {
   "cell_type": "markdown",
   "id": "0935d3d1",
   "metadata": {},
   "source": [
    "nombre_infected     7149\n",
    "nombre_sain         3657\n",
    "nombre_exposed      6954\n",
    "nombre_recovered    2240\n",
    "Name: 24, dtype: int64"
   ]
  },
  {
   "cell_type": "markdown",
   "id": "9dff1fa0",
   "metadata": {},
   "source": [
    "nombre_infected     8195\n",
    "nombre_sain         2609\n",
    "nombre_exposed      6360\n",
    "nombre_recovered    2836\n",
    "Name: 25, dtype: int64"
   ]
  },
  {
   "cell_type": "markdown",
   "id": "8ad1d74a",
   "metadata": {},
   "source": [
    "nombre_infected     8853\n",
    "nombre_sain         1792\n",
    "nombre_exposed      5741\n",
    "nombre_recovered    3614\n",
    "Name: 26, dtype: int64"
   ]
  },
  {
   "cell_type": "markdown",
   "id": "211cdb61",
   "metadata": {},
   "source": [
    "nombre_infected     9348\n",
    "nombre_sain         1188\n",
    "nombre_exposed      4987\n",
    "nombre_recovered    4477\n",
    "Name: 27, dtype: int64"
   ]
  },
  {
   "cell_type": "markdown",
   "id": "2ea7f793",
   "metadata": {},
   "source": [
    "nombre_infected     9684\n",
    "nombre_sain          767\n",
    "nombre_exposed      4147\n",
    "nombre_recovered    5402\n",
    "Name: 28, dtype: int64"
   ]
  },
  {
   "cell_type": "markdown",
   "id": "42770c50",
   "metadata": {},
   "source": [
    "nombre_infected     9838\n",
    "nombre_sain          526\n",
    "nombre_exposed      3262\n",
    "nombre_recovered    6374\n",
    "Name: 29, dtype: int64"
   ]
  },
  {
   "cell_type": "markdown",
   "id": "d1410a67",
   "metadata": {},
   "source": [
    "nombre_infected     9679\n",
    "nombre_sain          345\n",
    "nombre_exposed      2570\n",
    "nombre_recovered    7406\n",
    "Name: 30, dtype: int64"
   ]
  },
  {
   "cell_type": "markdown",
   "id": "bcc4b782",
   "metadata": {},
   "source": [
    "nombre_infected     9387\n",
    "nombre_sain          248\n",
    "nombre_exposed      1922\n",
    "nombre_recovered    8443\n",
    "Name: 31, dtype: int64"
   ]
  },
  {
   "cell_type": "markdown",
   "id": "9fa2240c",
   "metadata": {},
   "source": [
    "nombre_infected     8826\n",
    "nombre_sain          174\n",
    "nombre_exposed      1455\n",
    "nombre_recovered    9545\n",
    "Name: 32, dtype: int64"
   ]
  },
  {
   "cell_type": "markdown",
   "id": "d1e8200b",
   "metadata": {},
   "source": [
    "nombre_infected      8146\n",
    "nombre_sain           135\n",
    "nombre_exposed       1091\n",
    "nombre_recovered    10628\n",
    "Name: 33, dtype: int64"
   ]
  },
  {
   "cell_type": "markdown",
   "id": "b89341c0",
   "metadata": {},
   "source": [
    "nombre_infected      7473\n",
    "nombre_sain           118\n",
    "nombre_exposed        819\n",
    "nombre_recovered    11590\n",
    "Name: 34, dtype: int64"
   ]
  },
  {
   "cell_type": "markdown",
   "id": "bf7e4a48",
   "metadata": {},
   "source": [
    "nombre_infected      6726\n",
    "nombre_sain           116\n",
    "nombre_exposed        602\n",
    "nombre_recovered    12556\n",
    "Name: 35, dtype: int64"
   ]
  },
  {
   "cell_type": "markdown",
   "id": "27f204a6",
   "metadata": {},
   "source": [
    "nombre_infected      6080\n",
    "nombre_sain           101\n",
    "nombre_exposed        463\n",
    "nombre_recovered    13356\n",
    "Name: 36, dtype: int64"
   ]
  },
  {
   "cell_type": "markdown",
   "id": "d864066a",
   "metadata": {},
   "source": [
    "nombre_infected      5365\n",
    "nombre_sain            93\n",
    "nombre_exposed        361\n",
    "nombre_recovered    14181\n",
    "Name: 37, dtype: int64"
   ]
  },
  {
   "cell_type": "markdown",
   "id": "87d29500",
   "metadata": {},
   "source": [
    "nombre_infected      4702\n",
    "nombre_sain            97\n",
    "nombre_exposed        278\n",
    "nombre_recovered    14923\n",
    "Name: 38, dtype: int64"
   ]
  },
  {
   "cell_type": "markdown",
   "id": "4a71267a",
   "metadata": {},
   "source": [
    "nombre_infected      4153\n",
    "nombre_sain            98\n",
    "nombre_exposed        231\n",
    "nombre_recovered    15518\n",
    "Name: 39, dtype: int64"
   ]
  },
  {
   "cell_type": "markdown",
   "id": "8058aec7",
   "metadata": {},
   "source": [
    "nombre_infected      3690\n",
    "nombre_sain            98\n",
    "nombre_exposed        178\n",
    "nombre_recovered    16034\n",
    "Name: 40, dtype: int64"
   ]
  },
  {
   "cell_type": "markdown",
   "id": "df642c86",
   "metadata": {},
   "source": [
    "nombre_infected      3252\n",
    "nombre_sain           106\n",
    "nombre_exposed        136\n",
    "nombre_recovered    16506\n",
    "Name: 41, dtype: int64"
   ]
  },
  {
   "cell_type": "markdown",
   "id": "68fe501d",
   "metadata": {},
   "source": [
    "nombre_infected      2841\n",
    "nombre_sain           115\n",
    "nombre_exposed        105\n",
    "nombre_recovered    16939\n",
    "Name: 42, dtype: int64"
   ]
  },
  {
   "cell_type": "markdown",
   "id": "92671ffd",
   "metadata": {},
   "source": [
    "nombre_infected      2496\n",
    "nombre_sain           128\n",
    "nombre_exposed         83\n",
    "nombre_recovered    17293\n",
    "Name: 43, dtype: int64"
   ]
  },
  {
   "cell_type": "markdown",
   "id": "eb02d196",
   "metadata": {},
   "source": [
    "nombre_infected      2159\n",
    "nombre_sain           149\n",
    "nombre_exposed         70\n",
    "nombre_recovered    17622\n",
    "Name: 44, dtype: int64"
   ]
  },
  {
   "cell_type": "markdown",
   "id": "a6a5a77b",
   "metadata": {},
   "source": [
    "nombre_infected      1896\n",
    "nombre_sain           177\n",
    "nombre_exposed         61\n",
    "nombre_recovered    17866\n",
    "Name: 45, dtype: int64"
   ]
  },
  {
   "cell_type": "markdown",
   "id": "e5829f78",
   "metadata": {},
   "source": [
    "nombre_infected      1642\n",
    "nombre_sain           198\n",
    "nombre_exposed         53\n",
    "nombre_recovered    18107\n",
    "Name: 46, dtype: int64"
   ]
  },
  {
   "cell_type": "markdown",
   "id": "fe194a56",
   "metadata": {},
   "source": [
    "nombre_infected      1419\n",
    "nombre_sain           229\n",
    "nombre_exposed         55\n",
    "nombre_recovered    18297\n",
    "Name: 47, dtype: int64"
   ]
  },
  {
   "cell_type": "markdown",
   "id": "a570b6f0",
   "metadata": {},
   "source": [
    "nombre_infected      1242\n",
    "nombre_sain           257\n",
    "nombre_exposed         59\n",
    "nombre_recovered    18442\n",
    "Name: 48, dtype: int64"
   ]
  },
  {
   "cell_type": "markdown",
   "id": "a3af6f9b",
   "metadata": {},
   "source": [
    "nombre_infected      1102\n",
    "nombre_sain           308\n",
    "nombre_exposed         54\n",
    "nombre_recovered    18536\n",
    "Name: 49, dtype: int64"
   ]
  },
  {
   "cell_type": "markdown",
   "id": "1e71e875",
   "metadata": {},
   "source": [
    "nombre_infected       958\n",
    "nombre_sain           366\n",
    "nombre_exposed         54\n",
    "nombre_recovered    18622\n",
    "Name: 50, dtype: int64"
   ]
  },
  {
   "cell_type": "markdown",
   "id": "52d3f6e3",
   "metadata": {},
   "source": [
    "nombre_infected       851\n",
    "nombre_sain           401\n",
    "nombre_exposed         57\n",
    "nombre_recovered    18691\n",
    "Name: 51, dtype: int64"
   ]
  },
  {
   "cell_type": "markdown",
   "id": "f8732bfa",
   "metadata": {},
   "source": [
    "nombre_infected       753\n",
    "nombre_sain           444\n",
    "nombre_exposed         67\n",
    "nombre_recovered    18736\n",
    "Name: 52, dtype: int64"
   ]
  },
  {
   "cell_type": "markdown",
   "id": "a2903b58",
   "metadata": {},
   "source": [
    "nombre_infected       660\n",
    "nombre_sain           509\n",
    "nombre_exposed         59\n",
    "nombre_recovered    18772\n",
    "Name: 53, dtype: int64"
   ]
  },
  {
   "cell_type": "markdown",
   "id": "eaba860a",
   "metadata": {},
   "source": [
    "nombre_infected       580\n",
    "nombre_sain           553\n",
    "nombre_exposed         62\n",
    "nombre_recovered    18805\n",
    "Name: 54, dtype: int64"
   ]
  },
  {
   "cell_type": "markdown",
   "id": "b2ff9ecd",
   "metadata": {},
   "source": [
    "nombre_infected       517\n",
    "nombre_sain           586\n",
    "nombre_exposed         71\n",
    "nombre_recovered    18826\n",
    "Name: 55, dtype: int64"
   ]
  },
  {
   "cell_type": "markdown",
   "id": "2a88ddda",
   "metadata": {},
   "source": [
    "nombre_infected       469\n",
    "nombre_sain           632\n",
    "nombre_exposed         78\n",
    "nombre_recovered    18821\n",
    "Name: 56, dtype: int64"
   ]
  },
  {
   "cell_type": "markdown",
   "id": "d3b5fda7",
   "metadata": {},
   "source": [
    "nombre_infected       423\n",
    "nombre_sain           688\n",
    "nombre_exposed         79\n",
    "nombre_recovered    18810\n",
    "Name: 57, dtype: int64"
   ]
  },
  {
   "cell_type": "markdown",
   "id": "fd9bec3c",
   "metadata": {},
   "source": [
    "nombre_infected       393\n",
    "nombre_sain           729\n",
    "nombre_exposed         81\n",
    "nombre_recovered    18797\n",
    "Name: 58, dtype: int64"
   ]
  },
  {
   "cell_type": "markdown",
   "id": "d0bc2492",
   "metadata": {},
   "source": [
    "nombre_infected       366\n",
    "nombre_sain           772\n",
    "nombre_exposed         82\n",
    "nombre_recovered    18780\n",
    "Name: 59, dtype: int64"
   ]
  },
  {
   "cell_type": "markdown",
   "id": "34d9fcf9",
   "metadata": {},
   "source": [
    "nombre_infected       342\n",
    "nombre_sain           824\n",
    "nombre_exposed         89\n",
    "nombre_recovered    18745\n",
    "Name: 60, dtype: int64"
   ]
  },
  {
   "cell_type": "markdown",
   "id": "77803fee",
   "metadata": {},
   "source": [
    "nombre_infected       319\n",
    "nombre_sain           862\n",
    "nombre_exposed         94\n",
    "nombre_recovered    18725\n",
    "Name: 61, dtype: int64"
   ]
  },
  {
   "cell_type": "markdown",
   "id": "bddf63a1",
   "metadata": {},
   "source": [
    "nombre_infected       324\n",
    "nombre_sain           904\n",
    "nombre_exposed         90\n",
    "nombre_recovered    18682\n",
    "Name: 62, dtype: int64"
   ]
  },
  {
   "cell_type": "markdown",
   "id": "6b87c158",
   "metadata": {},
   "source": [
    "nombre_infected       320\n",
    "nombre_sain           958\n",
    "nombre_exposed         84\n",
    "nombre_recovered    18638\n",
    "Name: 63, dtype: int64"
   ]
  },
  {
   "cell_type": "markdown",
   "id": "954fcd1a",
   "metadata": {},
   "source": [
    "nombre_infected       314\n",
    "nombre_sain          1005\n",
    "nombre_exposed         89\n",
    "nombre_recovered    18592\n",
    "Name: 64, dtype: int64"
   ]
  },
  {
   "cell_type": "markdown",
   "id": "8f0395f2",
   "metadata": {},
   "source": [
    "nombre_infected       313\n",
    "nombre_sain          1048\n",
    "nombre_exposed         91\n",
    "nombre_recovered    18548\n",
    "Name: 65, dtype: int64"
   ]
  },
  {
   "cell_type": "markdown",
   "id": "f2fd88a4",
   "metadata": {},
   "source": [
    "nombre_infected       313\n",
    "nombre_sain          1101\n",
    "nombre_exposed         77\n",
    "nombre_recovered    18509\n",
    "Name: 66, dtype: int64"
   ]
  },
  {
   "cell_type": "markdown",
   "id": "98c665ff",
   "metadata": {},
   "source": [
    "nombre_infected       313\n",
    "nombre_sain          1132\n",
    "nombre_exposed         82\n",
    "nombre_recovered    18473\n",
    "Name: 67, dtype: int64"
   ]
  },
  {
   "cell_type": "markdown",
   "id": "be03ecd0",
   "metadata": {},
   "source": [
    "nombre_infected       321\n",
    "nombre_sain          1168\n",
    "nombre_exposed         84\n",
    "nombre_recovered    18427\n",
    "Name: 68, dtype: int64"
   ]
  },
  {
   "cell_type": "markdown",
   "id": "944f5abb",
   "metadata": {},
   "source": [
    "nombre_infected       321\n",
    "nombre_sain          1217\n",
    "nombre_exposed         93\n",
    "nombre_recovered    18369\n",
    "Name: 69, dtype: int64"
   ]
  },
  {
   "cell_type": "markdown",
   "id": "9bffda94",
   "metadata": {},
   "source": [
    "nombre_infected       310\n",
    "nombre_sain          1232\n",
    "nombre_exposed        104\n",
    "nombre_recovered    18354\n",
    "Name: 70, dtype: int64"
   ]
  },
  {
   "cell_type": "markdown",
   "id": "e6eb7feb",
   "metadata": {},
   "source": [
    "nombre_infected       314\n",
    "nombre_sain          1254\n",
    "nombre_exposed        107\n",
    "nombre_recovered    18325\n",
    "Name: 71, dtype: int64"
   ]
  },
  {
   "cell_type": "markdown",
   "id": "3bc03fcb",
   "metadata": {},
   "source": [
    "nombre_infected       314\n",
    "nombre_sain          1273\n",
    "nombre_exposed        111\n",
    "nombre_recovered    18302\n",
    "Name: 72, dtype: int64"
   ]
  },
  {
   "cell_type": "markdown",
   "id": "36e8ff53",
   "metadata": {},
   "source": [
    "nombre_infected       318\n",
    "nombre_sain          1299\n",
    "nombre_exposed        109\n",
    "nombre_recovered    18274\n",
    "Name: 73, dtype: int64"
   ]
  },
  {
   "cell_type": "markdown",
   "id": "53e3113a",
   "metadata": {},
   "source": [
    "nombre_infected       305\n",
    "nombre_sain          1312\n",
    "nombre_exposed        123\n",
    "nombre_recovered    18260\n",
    "Name: 74, dtype: int64"
   ]
  },
  {
   "cell_type": "markdown",
   "id": "9819f0c7",
   "metadata": {},
   "source": [
    "nombre_infected       295\n",
    "nombre_sain          1326\n",
    "nombre_exposed        128\n",
    "nombre_recovered    18251\n",
    "Name: 75, dtype: int64"
   ]
  },
  {
   "cell_type": "markdown",
   "id": "c11f10ee",
   "metadata": {},
   "source": [
    "nombre_infected       288\n",
    "nombre_sain          1352\n",
    "nombre_exposed        120\n",
    "nombre_recovered    18240\n",
    "Name: 76, dtype: int64"
   ]
  },
  {
   "cell_type": "markdown",
   "id": "ec3ddba8",
   "metadata": {},
   "source": [
    "nombre_infected       282\n",
    "nombre_sain          1376\n",
    "nombre_exposed        124\n",
    "nombre_recovered    18218\n",
    "Name: 77, dtype: int64"
   ]
  },
  {
   "cell_type": "markdown",
   "id": "6f495d89",
   "metadata": {},
   "source": [
    "nombre_infected       286\n",
    "nombre_sain          1390\n",
    "nombre_exposed        125\n",
    "nombre_recovered    18199\n",
    "Name: 78, dtype: int64"
   ]
  },
  {
   "cell_type": "markdown",
   "id": "433825e8",
   "metadata": {},
   "source": [
    "nombre_infected       287\n",
    "nombre_sain          1407\n",
    "nombre_exposed        121\n",
    "nombre_recovered    18185\n",
    "Name: 79, dtype: int64"
   ]
  },
  {
   "cell_type": "markdown",
   "id": "3599272c",
   "metadata": {},
   "source": [
    "nombre_infected       285\n",
    "nombre_sain          1424\n",
    "nombre_exposed        121\n",
    "nombre_recovered    18170\n",
    "Name: 80, dtype: int64"
   ]
  },
  {
   "cell_type": "markdown",
   "id": "ebe3f719",
   "metadata": {},
   "source": [
    "nombre_infected       269\n",
    "nombre_sain          1474\n",
    "nombre_exposed        107\n",
    "nombre_recovered    18150\n",
    "Name: 81, dtype: int64"
   ]
  },
  {
   "cell_type": "markdown",
   "id": "65968ec8",
   "metadata": {},
   "source": [
    "nombre_infected       255\n",
    "nombre_sain          1502\n",
    "nombre_exposed        108\n",
    "nombre_recovered    18135\n",
    "Name: 82, dtype: int64"
   ]
  },
  {
   "cell_type": "markdown",
   "id": "879439fb",
   "metadata": {},
   "source": [
    "nombre_infected       248\n",
    "nombre_sain          1549\n",
    "nombre_exposed        106\n",
    "nombre_recovered    18097\n",
    "Name: 83, dtype: int64"
   ]
  },
  {
   "cell_type": "markdown",
   "id": "efa0d974",
   "metadata": {},
   "source": [
    "nombre_infected       236\n",
    "nombre_sain          1588\n",
    "nombre_exposed        103\n",
    "nombre_recovered    18073\n",
    "Name: 84, dtype: int64"
   ]
  },
  {
   "cell_type": "markdown",
   "id": "7bd910f5",
   "metadata": {},
   "source": [
    "nombre_infected       220\n",
    "nombre_sain          1635\n",
    "nombre_exposed         99\n",
    "nombre_recovered    18046\n",
    "Name: 85, dtype: int64"
   ]
  },
  {
   "cell_type": "markdown",
   "id": "4cb24b66",
   "metadata": {},
   "source": [
    "nombre_infected       219\n",
    "nombre_sain          1690\n",
    "nombre_exposed         98\n",
    "nombre_recovered    17993\n",
    "Name: 86, dtype: int64"
   ]
  },
  {
   "cell_type": "markdown",
   "id": "13b3abc3",
   "metadata": {},
   "source": [
    "nombre_infected       200\n",
    "nombre_sain          1739\n",
    "nombre_exposed        105\n",
    "nombre_recovered    17956\n",
    "Name: 87, dtype: int64"
   ]
  },
  {
   "cell_type": "markdown",
   "id": "37450f47",
   "metadata": {},
   "source": [
    "nombre_infected       203\n",
    "nombre_sain          1779\n",
    "nombre_exposed         96\n",
    "nombre_recovered    17922\n",
    "Name: 88, dtype: int64"
   ]
  },
  {
   "cell_type": "markdown",
   "id": "408b5d4a",
   "metadata": {},
   "source": [
    "nombre_infected       202\n",
    "nombre_sain          1841\n",
    "nombre_exposed         96\n",
    "nombre_recovered    17861\n",
    "Name: 89, dtype: int64"
   ]
  },
  {
   "cell_type": "markdown",
   "id": "df10be04",
   "metadata": {},
   "source": [
    "nombre_infected       195\n",
    "nombre_sain          1893\n",
    "nombre_exposed         97\n",
    "nombre_recovered    17815\n",
    "Name: 90, dtype: int64"
   ]
  },
  {
   "cell_type": "markdown",
   "id": "af981f80",
   "metadata": {},
   "source": [
    "nombre_infected       186\n",
    "nombre_sain          1932\n",
    "nombre_exposed        104\n",
    "nombre_recovered    17778\n",
    "Name: 91, dtype: int64"
   ]
  },
  {
   "cell_type": "markdown",
   "id": "feb1a025",
   "metadata": {},
   "source": [
    "nombre_infected       184\n",
    "nombre_sain          1998\n",
    "nombre_exposed        105\n",
    "nombre_recovered    17713\n",
    "Name: 92, dtype: int64"
   ]
  },
  {
   "cell_type": "markdown",
   "id": "d71133fa",
   "metadata": {},
   "source": [
    "nombre_infected       186\n",
    "nombre_sain          2053\n",
    "nombre_exposed         99\n",
    "nombre_recovered    17662\n",
    "Name: 93, dtype: int64"
   ]
  },
  {
   "cell_type": "markdown",
   "id": "3f2e65df",
   "metadata": {},
   "source": [
    "nombre_infected       185\n",
    "nombre_sain          2120\n",
    "nombre_exposed         95\n",
    "nombre_recovered    17600\n",
    "Name: 94, dtype: int64"
   ]
  },
  {
   "cell_type": "markdown",
   "id": "7f602638",
   "metadata": {},
   "source": [
    "nombre_infected       188\n",
    "nombre_sain          2190\n",
    "nombre_exposed         95\n",
    "nombre_recovered    17527\n",
    "Name: 95, dtype: int64"
   ]
  },
  {
   "cell_type": "markdown",
   "id": "f988f301",
   "metadata": {},
   "source": [
    "nombre_infected       183\n",
    "nombre_sain          2237\n",
    "nombre_exposed         98\n",
    "nombre_recovered    17482\n",
    "Name: 96, dtype: int64"
   ]
  },
  {
   "cell_type": "markdown",
   "id": "99243638",
   "metadata": {},
   "source": [
    "nombre_infected       188\n",
    "nombre_sain          2280\n",
    "nombre_exposed         96\n",
    "nombre_recovered    17436\n",
    "Name: 97, dtype: int64"
   ]
  },
  {
   "cell_type": "markdown",
   "id": "b0a74f5b",
   "metadata": {},
   "source": [
    "nombre_infected       177\n",
    "nombre_sain          2306\n",
    "nombre_exposed        114\n",
    "nombre_recovered    17403\n",
    "Name: 98, dtype: int64"
   ]
  },
  {
   "cell_type": "markdown",
   "id": "191e1502",
   "metadata": {},
   "source": [
    "nombre_infected       175\n",
    "nombre_sain          2340\n",
    "nombre_exposed        110\n",
    "nombre_recovered    17375\n",
    "Name: 99, dtype: int64"
   ]
  },
  {
   "cell_type": "markdown",
   "id": "bf76caa1",
   "metadata": {},
   "source": [
    "nombre_infected       174\n",
    "nombre_sain          2367\n",
    "nombre_exposed        116\n",
    "nombre_recovered    17343\n",
    "Name: 100, dtype: int64"
   ]
  },
  {
   "cell_type": "markdown",
   "id": "bd7ae30c",
   "metadata": {},
   "source": [
    "nombre_infected       170\n",
    "nombre_sain          2385\n",
    "nombre_exposed        126\n",
    "nombre_recovered    17319\n",
    "Name: 101, dtype: int64"
   ]
  },
  {
   "cell_type": "markdown",
   "id": "28f4ba61",
   "metadata": {},
   "source": [
    "nombre_infected       178\n",
    "nombre_sain          2403\n",
    "nombre_exposed        123\n",
    "nombre_recovered    17296\n",
    "Name: 102, dtype: int64"
   ]
  },
  {
   "cell_type": "markdown",
   "id": "145ffade",
   "metadata": {},
   "source": [
    "nombre_infected       182\n",
    "nombre_sain          2417\n",
    "nombre_exposed        123\n",
    "nombre_recovered    17278\n",
    "Name: 103, dtype: int64"
   ]
  },
  {
   "cell_type": "markdown",
   "id": "483ce75f",
   "metadata": {},
   "source": [
    "nombre_infected       194\n",
    "nombre_sain          2422\n",
    "nombre_exposed        134\n",
    "nombre_recovered    17250\n",
    "Name: 104, dtype: int64"
   ]
  },
  {
   "cell_type": "markdown",
   "id": "01972619",
   "metadata": {},
   "source": [
    "nombre_infected       204\n",
    "nombre_sain          2455\n",
    "nombre_exposed        131\n",
    "nombre_recovered    17210\n",
    "Name: 105, dtype: int64"
   ]
  },
  {
   "cell_type": "markdown",
   "id": "da216637",
   "metadata": {},
   "source": [
    "nombre_infected       211\n",
    "nombre_sain          2476\n",
    "nombre_exposed        140\n",
    "nombre_recovered    17173\n",
    "Name: 106, dtype: int64"
   ]
  },
  {
   "cell_type": "markdown",
   "id": "3a2848dc",
   "metadata": {},
   "source": [
    "nombre_infected       217\n",
    "nombre_sain          2487\n",
    "nombre_exposed        145\n",
    "nombre_recovered    17151\n",
    "Name: 107, dtype: int64"
   ]
  },
  {
   "cell_type": "markdown",
   "id": "8ea183eb",
   "metadata": {},
   "source": [
    "nombre_infected       231\n",
    "nombre_sain          2507\n",
    "nombre_exposed        157\n",
    "nombre_recovered    17105\n",
    "Name: 108, dtype: int64"
   ]
  },
  {
   "cell_type": "markdown",
   "id": "7504910d",
   "metadata": {},
   "source": [
    "nombre_infected       226\n",
    "nombre_sain          2536\n",
    "nombre_exposed        179\n",
    "nombre_recovered    17059\n",
    "Name: 109, dtype: int64"
   ]
  },
  {
   "cell_type": "markdown",
   "id": "e58348c3",
   "metadata": {},
   "source": [
    "nombre_infected       230\n",
    "nombre_sain          2560\n",
    "nombre_exposed        183\n",
    "nombre_recovered    17027\n",
    "Name: 110, dtype: int64"
   ]
  },
  {
   "cell_type": "markdown",
   "id": "23438100",
   "metadata": {},
   "source": [
    "nombre_infected       224\n",
    "nombre_sain          2601\n",
    "nombre_exposed        182\n",
    "nombre_recovered    16993\n",
    "Name: 111, dtype: int64"
   ]
  },
  {
   "cell_type": "markdown",
   "id": "5e424efd",
   "metadata": {},
   "source": [
    "nombre_infected       243\n",
    "nombre_sain          2634\n",
    "nombre_exposed        175\n",
    "nombre_recovered    16948\n",
    "Name: 112, dtype: int64"
   ]
  },
  {
   "cell_type": "markdown",
   "id": "f648a10a",
   "metadata": {},
   "source": [
    "nombre_infected       245\n",
    "nombre_sain          2682\n",
    "nombre_exposed        181\n",
    "nombre_recovered    16892\n",
    "Name: 113, dtype: int64"
   ]
  },
  {
   "cell_type": "markdown",
   "id": "a9b1dc21",
   "metadata": {},
   "source": [
    "nombre_infected       262\n",
    "nombre_sain          2728\n",
    "nombre_exposed        186\n",
    "nombre_recovered    16824\n",
    "Name: 114, dtype: int64"
   ]
  },
  {
   "cell_type": "markdown",
   "id": "73657c4e",
   "metadata": {},
   "source": [
    "nombre_infected       273\n",
    "nombre_sain          2745\n",
    "nombre_exposed        196\n",
    "nombre_recovered    16786\n",
    "Name: 115, dtype: int64"
   ]
  },
  {
   "cell_type": "markdown",
   "id": "375c0b91",
   "metadata": {},
   "source": [
    "nombre_infected       293\n",
    "nombre_sain          2765\n",
    "nombre_exposed        200\n",
    "nombre_recovered    16742\n",
    "Name: 116, dtype: int64"
   ]
  },
  {
   "cell_type": "markdown",
   "id": "3c1c26b4",
   "metadata": {},
   "source": [
    "nombre_infected       304\n",
    "nombre_sain          2789\n",
    "nombre_exposed        205\n",
    "nombre_recovered    16702\n",
    "Name: 117, dtype: int64"
   ]
  },
  {
   "cell_type": "markdown",
   "id": "5f569f7d",
   "metadata": {},
   "source": [
    "nombre_infected       299\n",
    "nombre_sain          2789\n",
    "nombre_exposed        226\n",
    "nombre_recovered    16686\n",
    "Name: 118, dtype: int64"
   ]
  },
  {
   "cell_type": "markdown",
   "id": "f8dbe3dd",
   "metadata": {},
   "source": [
    "nombre_infected       312\n",
    "nombre_sain          2784\n",
    "nombre_exposed        230\n",
    "nombre_recovered    16674\n",
    "Name: 119, dtype: int64"
   ]
  },
  {
   "cell_type": "markdown",
   "id": "3ca54d10",
   "metadata": {},
   "source": [
    "nombre_infected       321\n",
    "nombre_sain          2795\n",
    "nombre_exposed        238\n",
    "nombre_recovered    16646\n",
    "Name: 120, dtype: int64"
   ]
  },
  {
   "cell_type": "markdown",
   "id": "bc7e70a8",
   "metadata": {},
   "source": [
    "nombre_infected       327\n",
    "nombre_sain          2786\n",
    "nombre_exposed        256\n",
    "nombre_recovered    16631\n",
    "Name: 121, dtype: int64"
   ]
  },
  {
   "cell_type": "markdown",
   "id": "60f89793",
   "metadata": {},
   "source": [
    "nombre_infected       340\n",
    "nombre_sain          2784\n",
    "nombre_exposed        268\n",
    "nombre_recovered    16608\n",
    "Name: 122, dtype: int64"
   ]
  },
  {
   "cell_type": "markdown",
   "id": "5d43ba22",
   "metadata": {},
   "source": [
    "nombre_infected       355\n",
    "nombre_sain          2788\n",
    "nombre_exposed        272\n",
    "nombre_recovered    16585\n",
    "Name: 123, dtype: int64"
   ]
  },
  {
   "cell_type": "markdown",
   "id": "e5717aa9",
   "metadata": {},
   "source": [
    "nombre_infected       364\n",
    "nombre_sain          2791\n",
    "nombre_exposed        295\n",
    "nombre_recovered    16550\n",
    "Name: 124, dtype: int64"
   ]
  },
  {
   "cell_type": "markdown",
   "id": "e257764f",
   "metadata": {},
   "source": [
    "nombre_infected       390\n",
    "nombre_sain          2808\n",
    "nombre_exposed        302\n",
    "nombre_recovered    16500\n",
    "Name: 125, dtype: int64"
   ]
  },
  {
   "cell_type": "markdown",
   "id": "8a055c7d",
   "metadata": {},
   "source": [
    "nombre_infected       405\n",
    "nombre_sain          2821\n",
    "nombre_exposed        308\n",
    "nombre_recovered    16466\n",
    "Name: 126, dtype: int64"
   ]
  },
  {
   "cell_type": "markdown",
   "id": "fd9d42d4",
   "metadata": {},
   "source": [
    "nombre_infected       437\n",
    "nombre_sain          2817\n",
    "nombre_exposed        312\n",
    "nombre_recovered    16434\n",
    "Name: 127, dtype: int64"
   ]
  },
  {
   "cell_type": "markdown",
   "id": "2e6ccc3d",
   "metadata": {},
   "source": [
    "nombre_infected       451\n",
    "nombre_sain          2798\n",
    "nombre_exposed        332\n",
    "nombre_recovered    16419\n",
    "Name: 128, dtype: int64"
   ]
  },
  {
   "cell_type": "markdown",
   "id": "e4d20cbd",
   "metadata": {},
   "source": [
    "nombre_infected       464\n",
    "nombre_sain          2803\n",
    "nombre_exposed        347\n",
    "nombre_recovered    16386\n",
    "Name: 129, dtype: int64"
   ]
  },
  {
   "cell_type": "markdown",
   "id": "f3af6a38",
   "metadata": {},
   "source": [
    "nombre_infected       472\n",
    "nombre_sain          2815\n",
    "nombre_exposed        350\n",
    "nombre_recovered    16363\n",
    "Name: 130, dtype: int64"
   ]
  },
  {
   "cell_type": "markdown",
   "id": "4a7050ff",
   "metadata": {},
   "source": [
    "nombre_infected       500\n",
    "nombre_sain          2807\n",
    "nombre_exposed        354\n",
    "nombre_recovered    16339\n",
    "Name: 131, dtype: int64"
   ]
  },
  {
   "cell_type": "markdown",
   "id": "d00f4012",
   "metadata": {},
   "source": [
    "nombre_infected       513\n",
    "nombre_sain          2803\n",
    "nombre_exposed        363\n",
    "nombre_recovered    16321\n",
    "Name: 132, dtype: int64"
   ]
  },
  {
   "cell_type": "markdown",
   "id": "f82b2740",
   "metadata": {},
   "source": [
    "nombre_infected       540\n",
    "nombre_sain          2807\n",
    "nombre_exposed        358\n",
    "nombre_recovered    16295\n",
    "Name: 133, dtype: int64"
   ]
  },
  {
   "cell_type": "markdown",
   "id": "f03b688c",
   "metadata": {},
   "source": [
    "nombre_infected       558\n",
    "nombre_sain          2809\n",
    "nombre_exposed        377\n",
    "nombre_recovered    16256\n",
    "Name: 134, dtype: int64"
   ]
  },
  {
   "cell_type": "markdown",
   "id": "fd1070e4",
   "metadata": {},
   "source": [
    "nombre_infected       572\n",
    "nombre_sain          2797\n",
    "nombre_exposed        391\n",
    "nombre_recovered    16240\n",
    "Name: 135, dtype: int64"
   ]
  },
  {
   "cell_type": "markdown",
   "id": "b45fb28f",
   "metadata": {},
   "source": [
    "nombre_infected       600\n",
    "nombre_sain          2796\n",
    "nombre_exposed        407\n",
    "nombre_recovered    16197\n",
    "Name: 136, dtype: int64"
   ]
  },
  {
   "cell_type": "markdown",
   "id": "76f91700",
   "metadata": {},
   "source": [
    "nombre_infected       628\n",
    "nombre_sain          2803\n",
    "nombre_exposed        397\n",
    "nombre_recovered    16172\n",
    "Name: 137, dtype: int64"
   ]
  },
  {
   "cell_type": "markdown",
   "id": "0380988c",
   "metadata": {},
   "source": [
    "nombre_infected       642\n",
    "nombre_sain          2773\n",
    "nombre_exposed        420\n",
    "nombre_recovered    16165\n",
    "Name: 138, dtype: int64"
   ]
  },
  {
   "cell_type": "markdown",
   "id": "e9dc45c1",
   "metadata": {},
   "source": [
    "nombre_infected       659\n",
    "nombre_sain          2756\n",
    "nombre_exposed        439\n",
    "nombre_recovered    16146\n",
    "Name: 139, dtype: int64"
   ]
  },
  {
   "cell_type": "markdown",
   "id": "0fa3f7f5",
   "metadata": {},
   "source": [
    "nombre_infected       678\n",
    "nombre_sain          2732\n",
    "nombre_exposed        459\n",
    "nombre_recovered    16131\n",
    "Name: 140, dtype: int64"
   ]
  },
  {
   "cell_type": "markdown",
   "id": "9147a825",
   "metadata": {},
   "source": [
    "nombre_infected       703\n",
    "nombre_sain          2721\n",
    "nombre_exposed        460\n",
    "nombre_recovered    16116\n",
    "Name: 141, dtype: int64"
   ]
  },
  {
   "cell_type": "markdown",
   "id": "04af8741",
   "metadata": {},
   "source": [
    "nombre_infected       718\n",
    "nombre_sain          2702\n",
    "nombre_exposed        458\n",
    "nombre_recovered    16122\n",
    "Name: 142, dtype: int64"
   ]
  },
  {
   "cell_type": "markdown",
   "id": "cceaa3b7",
   "metadata": {},
   "source": [
    "nombre_infected       744\n",
    "nombre_sain          2666\n",
    "nombre_exposed        461\n",
    "nombre_recovered    16129\n",
    "Name: 143, dtype: int64"
   ]
  },
  {
   "cell_type": "markdown",
   "id": "b64187a8",
   "metadata": {},
   "source": [
    "nombre_infected       752\n",
    "nombre_sain          2631\n",
    "nombre_exposed        472\n",
    "nombre_recovered    16145\n",
    "Name: 144, dtype: int64"
   ]
  },
  {
   "cell_type": "markdown",
   "id": "e721dfeb",
   "metadata": {},
   "source": [
    "nombre_infected       758\n",
    "nombre_sain          2603\n",
    "nombre_exposed        490\n",
    "nombre_recovered    16149\n",
    "Name: 145, dtype: int64"
   ]
  },
  {
   "cell_type": "markdown",
   "id": "0a5dd7e2",
   "metadata": {},
   "source": [
    "nombre_infected       807\n",
    "nombre_sain          2547\n",
    "nombre_exposed        488\n",
    "nombre_recovered    16158\n",
    "Name: 146, dtype: int64"
   ]
  },
  {
   "cell_type": "markdown",
   "id": "d42643dd",
   "metadata": {},
   "source": [
    "nombre_infected       811\n",
    "nombre_sain          2488\n",
    "nombre_exposed        529\n",
    "nombre_recovered    16172\n",
    "Name: 147, dtype: int64"
   ]
  },
  {
   "cell_type": "markdown",
   "id": "a78dafac",
   "metadata": {},
   "source": [
    "nombre_infected       835\n",
    "nombre_sain          2452\n",
    "nombre_exposed        538\n",
    "nombre_recovered    16175\n",
    "Name: 148, dtype: int64"
   ]
  },
  {
   "cell_type": "markdown",
   "id": "44c2ee11",
   "metadata": {},
   "source": [
    "nombre_infected       850\n",
    "nombre_sain          2405\n",
    "nombre_exposed        535\n",
    "nombre_recovered    16210\n",
    "Name: 149, dtype: int64"
   ]
  },
  {
   "cell_type": "markdown",
   "id": "e79a4d84",
   "metadata": {},
   "source": [
    "nombre_infected       877\n",
    "nombre_sain          2355\n",
    "nombre_exposed        546\n",
    "nombre_recovered    16222\n",
    "Name: 150, dtype: int64"
   ]
  },
  {
   "cell_type": "markdown",
   "id": "17a7fdfa",
   "metadata": {},
   "source": [
    "nombre_infected       874\n",
    "nombre_sain          2282\n",
    "nombre_exposed        578\n",
    "nombre_recovered    16266\n",
    "Name: 151, dtype: int64"
   ]
  },
  {
   "cell_type": "markdown",
   "id": "bebde689",
   "metadata": {},
   "source": [
    "nombre_infected       901\n",
    "nombre_sain          2215\n",
    "nombre_exposed        579\n",
    "nombre_recovered    16305\n",
    "Name: 152, dtype: int64"
   ]
  },
  {
   "cell_type": "markdown",
   "id": "1ce367b8",
   "metadata": {},
   "source": [
    "nombre_infected       917\n",
    "nombre_sain          2161\n",
    "nombre_exposed        571\n",
    "nombre_recovered    16351\n",
    "Name: 153, dtype: int64"
   ]
  },
  {
   "cell_type": "markdown",
   "id": "7c7d1221",
   "metadata": {},
   "source": [
    "nombre_infected       941\n",
    "nombre_sain          2105\n",
    "nombre_exposed        553\n",
    "nombre_recovered    16401\n",
    "Name: 154, dtype: int64"
   ]
  },
  {
   "cell_type": "markdown",
   "id": "2df6ddff",
   "metadata": {},
   "source": [
    "nombre_infected       963\n",
    "nombre_sain          2040\n",
    "nombre_exposed        551\n",
    "nombre_recovered    16446\n",
    "Name: 155, dtype: int64"
   ]
  },
  {
   "cell_type": "markdown",
   "id": "73c901ea",
   "metadata": {},
   "source": [
    "nombre_infected       991\n",
    "nombre_sain          1992\n",
    "nombre_exposed        556\n",
    "nombre_recovered    16461\n",
    "Name: 156, dtype: int64"
   ]
  },
  {
   "cell_type": "markdown",
   "id": "3fbe0cef",
   "metadata": {},
   "source": [
    "nombre_infected       979\n",
    "nombre_sain          1973\n",
    "nombre_exposed        553\n",
    "nombre_recovered    16495\n",
    "Name: 157, dtype: int64"
   ]
  },
  {
   "cell_type": "markdown",
   "id": "1f98dce7",
   "metadata": {},
   "source": [
    "nombre_infected       984\n",
    "nombre_sain          1926\n",
    "nombre_exposed        568\n",
    "nombre_recovered    16522\n",
    "Name: 158, dtype: int64"
   ]
  },
  {
   "cell_type": "markdown",
   "id": "a3de1a83",
   "metadata": {},
   "source": [
    "nombre_infected       998\n",
    "nombre_sain          1893\n",
    "nombre_exposed        556\n",
    "nombre_recovered    16553\n",
    "Name: 159, dtype: int64"
   ]
  },
  {
   "cell_type": "markdown",
   "id": "57d838c7",
   "metadata": {},
   "source": [
    "nombre_infected      1013\n",
    "nombre_sain          1871\n",
    "nombre_exposed        534\n",
    "nombre_recovered    16582\n",
    "Name: 160, dtype: int64"
   ]
  },
  {
   "cell_type": "markdown",
   "id": "be647c20",
   "metadata": {},
   "source": [
    "nombre_infected      1039\n",
    "nombre_sain          1843\n",
    "nombre_exposed        529\n",
    "nombre_recovered    16589\n",
    "Name: 161, dtype: int64"
   ]
  },
  {
   "cell_type": "markdown",
   "id": "bd9a2c5a",
   "metadata": {},
   "source": [
    "nombre_infected      1027\n",
    "nombre_sain          1826\n",
    "nombre_exposed        520\n",
    "nombre_recovered    16627\n",
    "Name: 162, dtype: int64"
   ]
  },
  {
   "cell_type": "markdown",
   "id": "9f8bb2e1",
   "metadata": {},
   "source": [
    "nombre_infected      1004\n",
    "nombre_sain          1824\n",
    "nombre_exposed        534\n",
    "nombre_recovered    16638\n",
    "Name: 163, dtype: int64"
   ]
  },
  {
   "cell_type": "markdown",
   "id": "9e97f61b",
   "metadata": {},
   "source": [
    "nombre_infected      1000\n",
    "nombre_sain          1781\n",
    "nombre_exposed        535\n",
    "nombre_recovered    16684\n",
    "Name: 164, dtype: int64"
   ]
  },
  {
   "cell_type": "markdown",
   "id": "62e39b4e",
   "metadata": {},
   "source": [
    "nombre_infected      1004\n",
    "nombre_sain          1761\n",
    "nombre_exposed        532\n",
    "nombre_recovered    16703\n",
    "Name: 165, dtype: int64"
   ]
  },
  {
   "cell_type": "markdown",
   "id": "e2cb2cdf",
   "metadata": {},
   "source": [
    "nombre_infected       996\n",
    "nombre_sain          1746\n",
    "nombre_exposed        525\n",
    "nombre_recovered    16733\n",
    "Name: 166, dtype: int64"
   ]
  },
  {
   "cell_type": "markdown",
   "id": "e58e1858",
   "metadata": {},
   "source": [
    "nombre_infected      1008\n",
    "nombre_sain          1720\n",
    "nombre_exposed        504\n",
    "nombre_recovered    16768\n",
    "Name: 167, dtype: int64"
   ]
  },
  {
   "cell_type": "markdown",
   "id": "1019fcd7",
   "metadata": {},
   "source": [
    "nombre_infected      1032\n",
    "nombre_sain          1693\n",
    "nombre_exposed        506\n",
    "nombre_recovered    16769\n",
    "Name: 168, dtype: int64"
   ]
  },
  {
   "cell_type": "markdown",
   "id": "fe059012",
   "metadata": {},
   "source": [
    "nombre_infected      1015\n",
    "nombre_sain          1696\n",
    "nombre_exposed        478\n",
    "nombre_recovered    16811\n",
    "Name: 169, dtype: int64"
   ]
  },
  {
   "cell_type": "markdown",
   "id": "3669e1b6",
   "metadata": {},
   "source": [
    "nombre_infected       999\n",
    "nombre_sain          1690\n",
    "nombre_exposed        472\n",
    "nombre_recovered    16839\n",
    "Name: 170, dtype: int64"
   ]
  },
  {
   "cell_type": "markdown",
   "id": "b9584574",
   "metadata": {},
   "source": [
    "nombre_infected      1001\n",
    "nombre_sain          1680\n",
    "nombre_exposed        453\n",
    "nombre_recovered    16866\n",
    "Name: 171, dtype: int64"
   ]
  },
  {
   "cell_type": "markdown",
   "id": "1cab2edd",
   "metadata": {},
   "source": [
    "nombre_infected       988\n",
    "nombre_sain          1684\n",
    "nombre_exposed        440\n",
    "nombre_recovered    16888\n",
    "Name: 172, dtype: int64"
   ]
  },
  {
   "cell_type": "markdown",
   "id": "d39e6862",
   "metadata": {},
   "source": [
    "nombre_infected       984\n",
    "nombre_sain          1659\n",
    "nombre_exposed        437\n",
    "nombre_recovered    16920\n",
    "Name: 173, dtype: int64"
   ]
  },
  {
   "cell_type": "markdown",
   "id": "78223ae3",
   "metadata": {},
   "source": [
    "nombre_infected       989\n",
    "nombre_sain          1610\n",
    "nombre_exposed        449\n",
    "nombre_recovered    16952\n",
    "Name: 174, dtype: int64"
   ]
  },
  {
   "cell_type": "markdown",
   "id": "fcba0ffd",
   "metadata": {},
   "source": [
    "nombre_infected       966\n",
    "nombre_sain          1596\n",
    "nombre_exposed        454\n",
    "nombre_recovered    16984\n",
    "Name: 175, dtype: int64"
   ]
  },
  {
   "cell_type": "markdown",
   "id": "a5182498",
   "metadata": {},
   "source": [
    "nombre_infected       963\n",
    "nombre_sain          1583\n",
    "nombre_exposed        442\n",
    "nombre_recovered    17012\n",
    "Name: 176, dtype: int64"
   ]
  },
  {
   "cell_type": "markdown",
   "id": "12d05735",
   "metadata": {},
   "source": [
    "nombre_infected       946\n",
    "nombre_sain          1589\n",
    "nombre_exposed        429\n",
    "nombre_recovered    17036\n",
    "Name: 177, dtype: int64"
   ]
  },
  {
   "cell_type": "markdown",
   "id": "e556f494",
   "metadata": {},
   "source": [
    "nombre_infected       934\n",
    "nombre_sain          1586\n",
    "nombre_exposed        418\n",
    "nombre_recovered    17062\n",
    "Name: 178, dtype: int64"
   ]
  },
  {
   "cell_type": "markdown",
   "id": "bc715b28",
   "metadata": {},
   "source": [
    "nombre_infected       937\n",
    "nombre_sain          1601\n",
    "nombre_exposed        375\n",
    "nombre_recovered    17087\n",
    "Name: 179, dtype: int64"
   ]
  },
  {
   "cell_type": "markdown",
   "id": "118ff626",
   "metadata": {},
   "source": [
    "nombre_infected       918\n",
    "nombre_sain          1604\n",
    "nombre_exposed        362\n",
    "nombre_recovered    17116\n",
    "Name: 180, dtype: int64"
   ]
  },
  {
   "cell_type": "markdown",
   "id": "40823fba",
   "metadata": {},
   "source": [
    "nombre_infected       900\n",
    "nombre_sain          1618\n",
    "nombre_exposed        380\n",
    "nombre_recovered    17102\n",
    "Name: 181, dtype: int64"
   ]
  },
  {
   "cell_type": "markdown",
   "id": "bead386f",
   "metadata": {},
   "source": [
    "nombre_infected       856\n",
    "nombre_sain          1616\n",
    "nombre_exposed        396\n",
    "nombre_recovered    17132\n",
    "Name: 182, dtype: int64"
   ]
  },
  {
   "cell_type": "markdown",
   "id": "56f55dcc",
   "metadata": {},
   "source": [
    "nombre_infected       844\n",
    "nombre_sain          1633\n",
    "nombre_exposed        380\n",
    "nombre_recovered    17143\n",
    "Name: 183, dtype: int64"
   ]
  },
  {
   "cell_type": "markdown",
   "id": "4fdd70bc",
   "metadata": {},
   "source": [
    "nombre_infected       850\n",
    "nombre_sain          1643\n",
    "nombre_exposed        360\n",
    "nombre_recovered    17147\n",
    "Name: 184, dtype: int64"
   ]
  },
  {
   "cell_type": "markdown",
   "id": "a0dd5b1c",
   "metadata": {},
   "source": [
    "nombre_infected       838\n",
    "nombre_sain          1621\n",
    "nombre_exposed        363\n",
    "nombre_recovered    17178\n",
    "Name: 185, dtype: int64"
   ]
  },
  {
   "cell_type": "markdown",
   "id": "c621a0ed",
   "metadata": {},
   "source": [
    "nombre_infected       816\n",
    "nombre_sain          1627\n",
    "nombre_exposed        376\n",
    "nombre_recovered    17181\n",
    "Name: 186, dtype: int64"
   ]
  },
  {
   "cell_type": "markdown",
   "id": "3e551f8c",
   "metadata": {},
   "source": [
    "nombre_infected       818\n",
    "nombre_sain          1628\n",
    "nombre_exposed        367\n",
    "nombre_recovered    17187\n",
    "Name: 187, dtype: int64"
   ]
  },
  {
   "cell_type": "markdown",
   "id": "7d7b96c8",
   "metadata": {},
   "source": [
    "nombre_infected       814\n",
    "nombre_sain          1637\n",
    "nombre_exposed        363\n",
    "nombre_recovered    17186\n",
    "Name: 188, dtype: int64"
   ]
  },
  {
   "cell_type": "markdown",
   "id": "06e7af24",
   "metadata": {},
   "source": [
    "nombre_infected       797\n",
    "nombre_sain          1646\n",
    "nombre_exposed        361\n",
    "nombre_recovered    17196\n",
    "Name: 189, dtype: int64"
   ]
  },
  {
   "cell_type": "markdown",
   "id": "67df328c",
   "metadata": {},
   "source": [
    "nombre_infected       776\n",
    "nombre_sain          1666\n",
    "nombre_exposed        386\n",
    "nombre_recovered    17172\n",
    "Name: 190, dtype: int64"
   ]
  },
  {
   "cell_type": "markdown",
   "id": "2859fe62",
   "metadata": {},
   "source": [
    "nombre_infected       774\n",
    "nombre_sain          1702\n",
    "nombre_exposed        383\n",
    "nombre_recovered    17141\n",
    "Name: 191, dtype: int64"
   ]
  },
  {
   "cell_type": "markdown",
   "id": "373797b2",
   "metadata": {},
   "source": [
    "nombre_infected       773\n",
    "nombre_sain          1721\n",
    "nombre_exposed        370\n",
    "nombre_recovered    17136\n",
    "Name: 192, dtype: int64"
   ]
  },
  {
   "cell_type": "markdown",
   "id": "3a5d4c9e",
   "metadata": {},
   "source": [
    "nombre_infected       754\n",
    "nombre_sain          1748\n",
    "nombre_exposed        365\n",
    "nombre_recovered    17133\n",
    "Name: 193, dtype: int64"
   ]
  },
  {
   "cell_type": "markdown",
   "id": "b9f6983d",
   "metadata": {},
   "source": [
    "nombre_infected       758\n",
    "nombre_sain          1762\n",
    "nombre_exposed        344\n",
    "nombre_recovered    17136\n",
    "Name: 194, dtype: int64"
   ]
  },
  {
   "cell_type": "markdown",
   "id": "2930242b",
   "metadata": {},
   "source": [
    "nombre_infected       740\n",
    "nombre_sain          1768\n",
    "nombre_exposed        360\n",
    "nombre_recovered    17132\n",
    "Name: 195, dtype: int64"
   ]
  },
  {
   "cell_type": "markdown",
   "id": "dbb227e5",
   "metadata": {},
   "source": [
    "nombre_infected       727\n",
    "nombre_sain          1790\n",
    "nombre_exposed        349\n",
    "nombre_recovered    17134\n",
    "Name: 196, dtype: int64"
   ]
  },
  {
   "cell_type": "markdown",
   "id": "d508a0a5",
   "metadata": {},
   "source": [
    "nombre_infected       729\n",
    "nombre_sain          1812\n",
    "nombre_exposed        344\n",
    "nombre_recovered    17115\n",
    "Name: 197, dtype: int64"
   ]
  },
  {
   "cell_type": "markdown",
   "id": "ba9bd8f5",
   "metadata": {},
   "source": [
    "nombre_infected       717\n",
    "nombre_sain          1823\n",
    "nombre_exposed        345\n",
    "nombre_recovered    17115\n",
    "Name: 198, dtype: int64"
   ]
  },
  {
   "cell_type": "markdown",
   "id": "91e504f6",
   "metadata": {},
   "source": [
    "nombre_infected       718\n",
    "nombre_sain          1827\n",
    "nombre_exposed        342\n",
    "nombre_recovered    17113\n",
    "Name: 199, dtype: int64"
   ]
  },
  {
   "cell_type": "markdown",
   "id": "04a2cbf4",
   "metadata": {},
   "source": [
    "nombre_infected       722\n",
    "nombre_sain          1826\n",
    "nombre_exposed        333\n",
    "nombre_recovered    17119\n",
    "Name: 200, dtype: int64"
   ]
  },
  {
   "cell_type": "markdown",
   "id": "4ec1d939",
   "metadata": {},
   "source": [
    "nombre_infected       716\n",
    "nombre_sain          1838\n",
    "nombre_exposed        317\n",
    "nombre_recovered    17129\n",
    "Name: 201, dtype: int64"
   ]
  },
  {
   "cell_type": "markdown",
   "id": "66ea3b15",
   "metadata": {},
   "source": [
    "nombre_infected       694\n",
    "nombre_sain          1849\n",
    "nombre_exposed        328\n",
    "nombre_recovered    17129\n",
    "Name: 202, dtype: int64"
   ]
  },
  {
   "cell_type": "markdown",
   "id": "8bcaef58",
   "metadata": {},
   "source": [
    "nombre_infected       657\n",
    "nombre_sain          1866\n",
    "nombre_exposed        335\n",
    "nombre_recovered    17142\n",
    "Name: 203, dtype: int64"
   ]
  },
  {
   "cell_type": "markdown",
   "id": "c763c4b3",
   "metadata": {},
   "source": [
    "nombre_infected       633\n",
    "nombre_sain          1895\n",
    "nombre_exposed        334\n",
    "nombre_recovered    17138\n",
    "Name: 204, dtype: int64"
   ]
  },
  {
   "cell_type": "markdown",
   "id": "f97263ca",
   "metadata": {},
   "source": [
    "nombre_infected       616\n",
    "nombre_sain          1919\n",
    "nombre_exposed        335\n",
    "nombre_recovered    17130\n",
    "Name: 205, dtype: int64"
   ]
  },
  {
   "cell_type": "markdown",
   "id": "5eba3c3f",
   "metadata": {},
   "source": [
    "nombre_infected       621\n",
    "nombre_sain          1940\n",
    "nombre_exposed        308\n",
    "nombre_recovered    17131\n",
    "Name: 206, dtype: int64"
   ]
  },
  {
   "cell_type": "markdown",
   "id": "fbb260b4",
   "metadata": {},
   "source": [
    "nombre_infected       624\n",
    "nombre_sain          1955\n",
    "nombre_exposed        310\n",
    "nombre_recovered    17111\n",
    "Name: 207, dtype: int64"
   ]
  },
  {
   "cell_type": "markdown",
   "id": "46e7c562",
   "metadata": {},
   "source": [
    "nombre_infected       643\n",
    "nombre_sain          1979\n",
    "nombre_exposed        318\n",
    "nombre_recovered    17060\n",
    "Name: 208, dtype: int64"
   ]
  },
  {
   "cell_type": "markdown",
   "id": "137a13cb",
   "metadata": {},
   "source": [
    "nombre_infected       645\n",
    "nombre_sain          1982\n",
    "nombre_exposed        324\n",
    "nombre_recovered    17049\n",
    "Name: 209, dtype: int64"
   ]
  },
  {
   "cell_type": "markdown",
   "id": "ed5dff95",
   "metadata": {},
   "source": [
    "nombre_infected       623\n",
    "nombre_sain          2007\n",
    "nombre_exposed        328\n",
    "nombre_recovered    17042\n",
    "Name: 210, dtype: int64"
   ]
  },
  {
   "cell_type": "markdown",
   "id": "7645aefd",
   "metadata": {},
   "source": [
    "nombre_infected       586\n",
    "nombre_sain          2027\n",
    "nombre_exposed        348\n",
    "nombre_recovered    17039\n",
    "Name: 211, dtype: int64"
   ]
  },
  {
   "cell_type": "markdown",
   "id": "b87ea210",
   "metadata": {},
   "source": [
    "nombre_infected       606\n",
    "nombre_sain          2065\n",
    "nombre_exposed        319\n",
    "nombre_recovered    17010\n",
    "Name: 212, dtype: int64"
   ]
  },
  {
   "cell_type": "markdown",
   "id": "7a2da796",
   "metadata": {},
   "source": [
    "nombre_infected       591\n",
    "nombre_sain          2097\n",
    "nombre_exposed        331\n",
    "nombre_recovered    16981\n",
    "Name: 213, dtype: int64"
   ]
  },
  {
   "cell_type": "markdown",
   "id": "1ca160f2",
   "metadata": {},
   "source": [
    "nombre_infected       609\n",
    "nombre_sain          2124\n",
    "nombre_exposed        316\n",
    "nombre_recovered    16951\n",
    "Name: 214, dtype: int64"
   ]
  },
  {
   "cell_type": "markdown",
   "id": "7c70198b",
   "metadata": {},
   "source": [
    "nombre_infected       611\n",
    "nombre_sain          2129\n",
    "nombre_exposed        332\n",
    "nombre_recovered    16928\n",
    "Name: 215, dtype: int64"
   ]
  },
  {
   "cell_type": "markdown",
   "id": "8fd3412e",
   "metadata": {},
   "source": [
    "nombre_infected       608\n",
    "nombre_sain          2132\n",
    "nombre_exposed        342\n",
    "nombre_recovered    16918\n",
    "Name: 216, dtype: int64"
   ]
  },
  {
   "cell_type": "markdown",
   "id": "cd869034",
   "metadata": {},
   "source": [
    "nombre_infected       615\n",
    "nombre_sain          2139\n",
    "nombre_exposed        352\n",
    "nombre_recovered    16894\n",
    "Name: 217, dtype: int64"
   ]
  },
  {
   "cell_type": "markdown",
   "id": "35e1b0fe",
   "metadata": {},
   "source": [
    "nombre_infected       611\n",
    "nombre_sain          2160\n",
    "nombre_exposed        344\n",
    "nombre_recovered    16885\n",
    "Name: 218, dtype: int64"
   ]
  },
  {
   "cell_type": "markdown",
   "id": "c0901799",
   "metadata": {},
   "source": [
    "nombre_infected       614\n",
    "nombre_sain          2191\n",
    "nombre_exposed        355\n",
    "nombre_recovered    16840\n",
    "Name: 219, dtype: int64"
   ]
  },
  {
   "cell_type": "markdown",
   "id": "305b0002",
   "metadata": {},
   "source": [
    "nombre_infected       631\n",
    "nombre_sain          2193\n",
    "nombre_exposed        373\n",
    "nombre_recovered    16803\n",
    "Name: 220, dtype: int64"
   ]
  },
  {
   "cell_type": "markdown",
   "id": "f7092061",
   "metadata": {},
   "source": [
    "nombre_infected       654\n",
    "nombre_sain          2211\n",
    "nombre_exposed        369\n",
    "nombre_recovered    16766\n",
    "Name: 221, dtype: int64"
   ]
  },
  {
   "cell_type": "markdown",
   "id": "864072a4",
   "metadata": {},
   "source": [
    "nombre_infected       654\n",
    "nombre_sain          2229\n",
    "nombre_exposed        373\n",
    "nombre_recovered    16744\n",
    "Name: 222, dtype: int64"
   ]
  },
  {
   "cell_type": "markdown",
   "id": "9647b2ed",
   "metadata": {},
   "source": [
    "nombre_infected       644\n",
    "nombre_sain          2251\n",
    "nombre_exposed        386\n",
    "nombre_recovered    16719\n",
    "Name: 223, dtype: int64"
   ]
  },
  {
   "cell_type": "markdown",
   "id": "535c5f1d",
   "metadata": {},
   "source": [
    "nombre_infected       652\n",
    "nombre_sain          2275\n",
    "nombre_exposed        375\n",
    "nombre_recovered    16698\n",
    "Name: 224, dtype: int64"
   ]
  },
  {
   "cell_type": "markdown",
   "id": "e414eab4",
   "metadata": {},
   "source": [
    "nombre_infected       662\n",
    "nombre_sain          2302\n",
    "nombre_exposed        383\n",
    "nombre_recovered    16653\n",
    "Name: 225, dtype: int64"
   ]
  },
  {
   "cell_type": "markdown",
   "id": "2c5dad0a",
   "metadata": {},
   "source": [
    "nombre_infected       668\n",
    "nombre_sain          2309\n",
    "nombre_exposed        408\n",
    "nombre_recovered    16615\n",
    "Name: 226, dtype: int64"
   ]
  },
  {
   "cell_type": "markdown",
   "id": "d7ce463b",
   "metadata": {},
   "source": [
    "nombre_infected       690\n",
    "nombre_sain          2317\n",
    "nombre_exposed        396\n",
    "nombre_recovered    16597\n",
    "Name: 227, dtype: int64"
   ]
  },
  {
   "cell_type": "markdown",
   "id": "fc142e71",
   "metadata": {},
   "source": [
    "nombre_infected       716\n",
    "nombre_sain          2308\n",
    "nombre_exposed        389\n",
    "nombre_recovered    16587\n",
    "Name: 228, dtype: int64"
   ]
  },
  {
   "cell_type": "markdown",
   "id": "d0640cb6",
   "metadata": {},
   "source": [
    "nombre_infected       715\n",
    "nombre_sain          2312\n",
    "nombre_exposed        425\n",
    "nombre_recovered    16548\n",
    "Name: 229, dtype: int64"
   ]
  },
  {
   "cell_type": "markdown",
   "id": "ab618cb2",
   "metadata": {},
   "source": [
    "nombre_infected       731\n",
    "nombre_sain          2297\n",
    "nombre_exposed        438\n",
    "nombre_recovered    16534\n",
    "Name: 230, dtype: int64"
   ]
  },
  {
   "cell_type": "markdown",
   "id": "06966e4e",
   "metadata": {},
   "source": [
    "nombre_infected       730\n",
    "nombre_sain          2279\n",
    "nombre_exposed        448\n",
    "nombre_recovered    16543\n",
    "Name: 231, dtype: int64"
   ]
  },
  {
   "cell_type": "markdown",
   "id": "54777d69",
   "metadata": {},
   "source": [
    "nombre_infected       767\n",
    "nombre_sain          2268\n",
    "nombre_exposed        445\n",
    "nombre_recovered    16520\n",
    "Name: 232, dtype: int64"
   ]
  },
  {
   "cell_type": "markdown",
   "id": "1d02229c",
   "metadata": {},
   "source": [
    "nombre_infected       769\n",
    "nombre_sain          2268\n",
    "nombre_exposed        445\n",
    "nombre_recovered    16518\n",
    "Name: 233, dtype: int64"
   ]
  },
  {
   "cell_type": "markdown",
   "id": "a56a2299",
   "metadata": {},
   "source": [
    "nombre_infected       789\n",
    "nombre_sain          2248\n",
    "nombre_exposed        434\n",
    "nombre_recovered    16529\n",
    "Name: 234, dtype: int64"
   ]
  },
  {
   "cell_type": "markdown",
   "id": "02a9c0b9",
   "metadata": {},
   "source": [
    "nombre_infected       812\n",
    "nombre_sain          2243\n",
    "nombre_exposed        444\n",
    "nombre_recovered    16501\n",
    "Name: 235, dtype: int64"
   ]
  },
  {
   "cell_type": "markdown",
   "id": "28f419c1",
   "metadata": {},
   "source": [
    "nombre_infected       816\n",
    "nombre_sain          2235\n",
    "nombre_exposed        450\n",
    "nombre_recovered    16499\n",
    "Name: 236, dtype: int64"
   ]
  },
  {
   "cell_type": "markdown",
   "id": "0922553e",
   "metadata": {},
   "source": [
    "nombre_infected       827\n",
    "nombre_sain          2232\n",
    "nombre_exposed        449\n",
    "nombre_recovered    16492\n",
    "Name: 237, dtype: int64"
   ]
  },
  {
   "cell_type": "markdown",
   "id": "b90e2ba3",
   "metadata": {},
   "source": [
    "nombre_infected       845\n",
    "nombre_sain          2204\n",
    "nombre_exposed        458\n",
    "nombre_recovered    16493\n",
    "Name: 238, dtype: int64"
   ]
  },
  {
   "cell_type": "markdown",
   "id": "2bb36d7b",
   "metadata": {},
   "source": [
    "nombre_infected       872\n",
    "nombre_sain          2202\n",
    "nombre_exposed        466\n",
    "nombre_recovered    16460\n",
    "Name: 239, dtype: int64"
   ]
  },
  {
   "cell_type": "markdown",
   "id": "c6534ccf",
   "metadata": {},
   "source": [
    "nombre_infected       872\n",
    "nombre_sain          2191\n",
    "nombre_exposed        474\n",
    "nombre_recovered    16463\n",
    "Name: 240, dtype: int64"
   ]
  },
  {
   "cell_type": "markdown",
   "id": "c9e94337",
   "metadata": {},
   "source": [
    "nombre_infected       873\n",
    "nombre_sain          2189\n",
    "nombre_exposed        474\n",
    "nombre_recovered    16464\n",
    "Name: 241, dtype: int64"
   ]
  },
  {
   "cell_type": "markdown",
   "id": "254746fb",
   "metadata": {},
   "source": [
    "nombre_infected       889\n",
    "nombre_sain          2175\n",
    "nombre_exposed        479\n",
    "nombre_recovered    16457\n",
    "Name: 242, dtype: int64"
   ]
  },
  {
   "cell_type": "markdown",
   "id": "236ed2f3",
   "metadata": {},
   "source": [
    "nombre_infected       909\n",
    "nombre_sain          2166\n",
    "nombre_exposed        487\n",
    "nombre_recovered    16438\n",
    "Name: 243, dtype: int64"
   ]
  },
  {
   "cell_type": "markdown",
   "id": "be169799",
   "metadata": {},
   "source": [
    "nombre_infected       935\n",
    "nombre_sain          2148\n",
    "nombre_exposed        481\n",
    "nombre_recovered    16436\n",
    "Name: 244, dtype: int64"
   ]
  },
  {
   "cell_type": "markdown",
   "id": "7abf27b2",
   "metadata": {},
   "source": [
    "nombre_infected       963\n",
    "nombre_sain          2142\n",
    "nombre_exposed        475\n",
    "nombre_recovered    16420\n",
    "Name: 245, dtype: int64"
   ]
  },
  {
   "cell_type": "markdown",
   "id": "8a804b3a",
   "metadata": {},
   "source": [
    "nombre_infected       950\n",
    "nombre_sain          2134\n",
    "nombre_exposed        489\n",
    "nombre_recovered    16427\n",
    "Name: 246, dtype: int64"
   ]
  },
  {
   "cell_type": "markdown",
   "id": "4635f7c5",
   "metadata": {},
   "source": [
    "nombre_infected       957\n",
    "nombre_sain          2136\n",
    "nombre_exposed        492\n",
    "nombre_recovered    16415\n",
    "Name: 247, dtype: int64"
   ]
  },
  {
   "cell_type": "markdown",
   "id": "cdf7ca09",
   "metadata": {},
   "source": [
    "nombre_infected       964\n",
    "nombre_sain          2131\n",
    "nombre_exposed        513\n",
    "nombre_recovered    16392\n",
    "Name: 248, dtype: int64"
   ]
  },
  {
   "cell_type": "markdown",
   "id": "6be5fec8",
   "metadata": {},
   "source": [
    "nombre_infected       962\n",
    "nombre_sain          2122\n",
    "nombre_exposed        533\n",
    "nombre_recovered    16383\n",
    "Name: 249, dtype: int64"
   ]
  },
  {
   "cell_type": "markdown",
   "id": "081dc0d3",
   "metadata": {},
   "source": [
    "nombre_infected       992\n",
    "nombre_sain          2153\n",
    "nombre_exposed        491\n",
    "nombre_recovered    16364\n",
    "Name: 250, dtype: int64"
   ]
  },
  {
   "cell_type": "markdown",
   "id": "5a86c6b7",
   "metadata": {},
   "source": [
    "nombre_infected      1016\n",
    "nombre_sain          2144\n",
    "nombre_exposed        505\n",
    "nombre_recovered    16335\n",
    "Name: 251, dtype: int64"
   ]
  },
  {
   "cell_type": "markdown",
   "id": "c2374276",
   "metadata": {},
   "source": [
    "nombre_infected      1028\n",
    "nombre_sain          2128\n",
    "nombre_exposed        511\n",
    "nombre_recovered    16333\n",
    "Name: 252, dtype: int64"
   ]
  },
  {
   "cell_type": "markdown",
   "id": "c8de3172",
   "metadata": {},
   "source": [
    "nombre_infected      1063\n",
    "nombre_sain          2102\n",
    "nombre_exposed        498\n",
    "nombre_recovered    16337\n",
    "Name: 253, dtype: int64"
   ]
  },
  {
   "cell_type": "markdown",
   "id": "f6138b24",
   "metadata": {},
   "source": [
    "nombre_infected      1061\n",
    "nombre_sain          2094\n",
    "nombre_exposed        505\n",
    "nombre_recovered    16340\n",
    "Name: 254, dtype: int64"
   ]
  },
  {
   "cell_type": "markdown",
   "id": "85e606f1",
   "metadata": {},
   "source": [
    "nombre_infected      1089\n",
    "nombre_sain          2084\n",
    "nombre_exposed        503\n",
    "nombre_recovered    16324\n",
    "Name: 255, dtype: int64"
   ]
  },
  {
   "cell_type": "markdown",
   "id": "8631924e",
   "metadata": {},
   "source": [
    "nombre_infected      1080\n",
    "nombre_sain          2051\n",
    "nombre_exposed        533\n",
    "nombre_recovered    16336\n",
    "Name: 256, dtype: int64"
   ]
  },
  {
   "cell_type": "markdown",
   "id": "ffbe291e",
   "metadata": {},
   "source": [
    "nombre_infected      1111\n",
    "nombre_sain          2050\n",
    "nombre_exposed        524\n",
    "nombre_recovered    16315\n",
    "Name: 257, dtype: int64"
   ]
  },
  {
   "cell_type": "markdown",
   "id": "4eca3036",
   "metadata": {},
   "source": [
    "nombre_infected      1109\n",
    "nombre_sain          2035\n",
    "nombre_exposed        519\n",
    "nombre_recovered    16337\n",
    "Name: 258, dtype: int64"
   ]
  },
  {
   "cell_type": "markdown",
   "id": "95c64d1b",
   "metadata": {},
   "source": [
    "nombre_infected      1134\n",
    "nombre_sain          2002\n",
    "nombre_exposed        523\n",
    "nombre_recovered    16341\n",
    "Name: 259, dtype: int64"
   ]
  },
  {
   "cell_type": "markdown",
   "id": "33821661",
   "metadata": {},
   "source": [
    "nombre_infected      1126\n",
    "nombre_sain          2005\n",
    "nombre_exposed        532\n",
    "nombre_recovered    16337\n",
    "Name: 260, dtype: int64"
   ]
  },
  {
   "cell_type": "markdown",
   "id": "c60230ea",
   "metadata": {},
   "source": [
    "nombre_infected      1132\n",
    "nombre_sain          1980\n",
    "nombre_exposed        546\n",
    "nombre_recovered    16342\n",
    "Name: 261, dtype: int64"
   ]
  },
  {
   "cell_type": "markdown",
   "id": "64acf1ec",
   "metadata": {},
   "source": [
    "nombre_infected      1129\n",
    "nombre_sain          1951\n",
    "nombre_exposed        574\n",
    "nombre_recovered    16346\n",
    "Name: 262, dtype: int64"
   ]
  },
  {
   "cell_type": "markdown",
   "id": "1bc0ba72",
   "metadata": {},
   "source": [
    "nombre_infected      1126\n",
    "nombre_sain          1922\n",
    "nombre_exposed        572\n",
    "nombre_recovered    16380\n",
    "Name: 263, dtype: int64"
   ]
  },
  {
   "cell_type": "markdown",
   "id": "8a824d6d",
   "metadata": {},
   "source": [
    "nombre_infected      1149\n",
    "nombre_sain          1893\n",
    "nombre_exposed        561\n",
    "nombre_recovered    16397\n",
    "Name: 264, dtype: int64"
   ]
  },
  {
   "cell_type": "markdown",
   "id": "3ee02dd8",
   "metadata": {},
   "source": [
    "nombre_infected      1174\n",
    "nombre_sain          1882\n",
    "nombre_exposed        541\n",
    "nombre_recovered    16403\n",
    "Name: 265, dtype: int64"
   ]
  },
  {
   "cell_type": "markdown",
   "id": "37dea243",
   "metadata": {},
   "source": [
    "nombre_infected      1183\n",
    "nombre_sain          1862\n",
    "nombre_exposed        528\n",
    "nombre_recovered    16427\n",
    "Name: 266, dtype: int64"
   ]
  },
  {
   "cell_type": "markdown",
   "id": "374bd16a",
   "metadata": {},
   "source": [
    "nombre_infected      1188\n",
    "nombre_sain          1846\n",
    "nombre_exposed        508\n",
    "nombre_recovered    16458\n",
    "Name: 267, dtype: int64"
   ]
  },
  {
   "cell_type": "markdown",
   "id": "75358fea",
   "metadata": {},
   "source": [
    "nombre_infected      1195\n",
    "nombre_sain          1808\n",
    "nombre_exposed        510\n",
    "nombre_recovered    16487\n",
    "Name: 268, dtype: int64"
   ]
  },
  {
   "cell_type": "markdown",
   "id": "b8411614",
   "metadata": {},
   "source": [
    "nombre_infected      1162\n",
    "nombre_sain          1759\n",
    "nombre_exposed        541\n",
    "nombre_recovered    16538\n",
    "Name: 269, dtype: int64"
   ]
  },
  {
   "cell_type": "markdown",
   "id": "0af3895b",
   "metadata": {},
   "source": [
    "nombre_infected      1123\n",
    "nombre_sain          1756\n",
    "nombre_exposed        541\n",
    "nombre_recovered    16580\n",
    "Name: 270, dtype: int64"
   ]
  },
  {
   "cell_type": "markdown",
   "id": "44cb860a",
   "metadata": {},
   "source": [
    "nombre_infected      1123\n",
    "nombre_sain          1736\n",
    "nombre_exposed        529\n",
    "nombre_recovered    16612\n",
    "Name: 271, dtype: int64"
   ]
  },
  {
   "cell_type": "markdown",
   "id": "dca2d123",
   "metadata": {},
   "source": [
    "nombre_infected      1120\n",
    "nombre_sain          1723\n",
    "nombre_exposed        520\n",
    "nombre_recovered    16637\n",
    "Name: 272, dtype: int64"
   ]
  },
  {
   "cell_type": "markdown",
   "id": "8d7be2fb",
   "metadata": {},
   "source": [
    "nombre_infected      1106\n",
    "nombre_sain          1711\n",
    "nombre_exposed        525\n",
    "nombre_recovered    16658\n",
    "Name: 273, dtype: int64"
   ]
  },
  {
   "cell_type": "markdown",
   "id": "081a91d9",
   "metadata": {},
   "source": [
    "nombre_infected      1121\n",
    "nombre_sain          1725\n",
    "nombre_exposed        497\n",
    "nombre_recovered    16657\n",
    "Name: 274, dtype: int64"
   ]
  },
  {
   "cell_type": "markdown",
   "id": "25112aec",
   "metadata": {},
   "source": [
    "nombre_infected      1107\n",
    "nombre_sain          1738\n",
    "nombre_exposed        486\n",
    "nombre_recovered    16669\n",
    "Name: 275, dtype: int64"
   ]
  },
  {
   "cell_type": "markdown",
   "id": "31111761",
   "metadata": {},
   "source": [
    "nombre_infected      1098\n",
    "nombre_sain          1736\n",
    "nombre_exposed        471\n",
    "nombre_recovered    16695\n",
    "Name: 276, dtype: int64"
   ]
  },
  {
   "cell_type": "markdown",
   "id": "fac3b56a",
   "metadata": {},
   "source": [
    "nombre_infected      1093\n",
    "nombre_sain          1770\n",
    "nombre_exposed        436\n",
    "nombre_recovered    16701\n",
    "Name: 277, dtype: int64"
   ]
  },
  {
   "cell_type": "markdown",
   "id": "cc9435b3",
   "metadata": {},
   "source": [
    "nombre_infected      1071\n",
    "nombre_sain          1790\n",
    "nombre_exposed        430\n",
    "nombre_recovered    16709\n",
    "Name: 278, dtype: int64"
   ]
  },
  {
   "cell_type": "markdown",
   "id": "e888d95d",
   "metadata": {},
   "source": [
    "nombre_infected      1036\n",
    "nombre_sain          1791\n",
    "nombre_exposed        446\n",
    "nombre_recovered    16727\n",
    "Name: 279, dtype: int64"
   ]
  },
  {
   "cell_type": "markdown",
   "id": "592b9846",
   "metadata": {},
   "source": [
    "nombre_infected      1025\n",
    "nombre_sain          1805\n",
    "nombre_exposed        442\n",
    "nombre_recovered    16728\n",
    "Name: 280, dtype: int64"
   ]
  },
  {
   "cell_type": "markdown",
   "id": "ff04a6c0",
   "metadata": {},
   "source": [
    "nombre_infected      1016\n",
    "nombre_sain          1811\n",
    "nombre_exposed        435\n",
    "nombre_recovered    16738\n",
    "Name: 281, dtype: int64"
   ]
  },
  {
   "cell_type": "markdown",
   "id": "f5507269",
   "metadata": {},
   "source": [
    "nombre_infected       985\n",
    "nombre_sain          1846\n",
    "nombre_exposed        438\n",
    "nombre_recovered    16731\n",
    "Name: 282, dtype: int64"
   ]
  },
  {
   "cell_type": "markdown",
   "id": "3dfef1ab",
   "metadata": {},
   "source": [
    "nombre_infected       970\n",
    "nombre_sain          1859\n",
    "nombre_exposed        440\n",
    "nombre_recovered    16731\n",
    "Name: 283, dtype: int64"
   ]
  },
  {
   "cell_type": "markdown",
   "id": "44120210",
   "metadata": {},
   "source": [
    "nombre_infected       948\n",
    "nombre_sain          1893\n",
    "nombre_exposed        435\n",
    "nombre_recovered    16724\n",
    "Name: 284, dtype: int64"
   ]
  },
  {
   "cell_type": "markdown",
   "id": "b3e468ed",
   "metadata": {},
   "source": [
    "nombre_infected       942\n",
    "nombre_sain          1891\n",
    "nombre_exposed        445\n",
    "nombre_recovered    16722\n",
    "Name: 285, dtype: int64"
   ]
  },
  {
   "cell_type": "markdown",
   "id": "2d0f5fb1",
   "metadata": {},
   "source": [
    "nombre_infected       936\n",
    "nombre_sain          1892\n",
    "nombre_exposed        464\n",
    "nombre_recovered    16708\n",
    "Name: 286, dtype: int64"
   ]
  },
  {
   "cell_type": "markdown",
   "id": "54f627d1",
   "metadata": {},
   "source": [
    "nombre_infected       912\n",
    "nombre_sain          1913\n",
    "nombre_exposed        459\n",
    "nombre_recovered    16716\n",
    "Name: 287, dtype: int64"
   ]
  },
  {
   "cell_type": "markdown",
   "id": "52487b4a",
   "metadata": {},
   "source": [
    "nombre_infected       949\n",
    "nombre_sain          1920\n",
    "nombre_exposed        449\n",
    "nombre_recovered    16682\n",
    "Name: 288, dtype: int64"
   ]
  },
  {
   "cell_type": "markdown",
   "id": "ab9daecf",
   "metadata": {},
   "source": [
    "nombre_infected       902\n",
    "nombre_sain          1942\n",
    "nombre_exposed        452\n",
    "nombre_recovered    16704\n",
    "Name: 289, dtype: int64"
   ]
  },
  {
   "cell_type": "markdown",
   "id": "28efef1c",
   "metadata": {},
   "source": [
    "nombre_infected       908\n",
    "nombre_sain          1955\n",
    "nombre_exposed        456\n",
    "nombre_recovered    16681\n",
    "Name: 290, dtype: int64"
   ]
  },
  {
   "cell_type": "markdown",
   "id": "0c4dd9aa",
   "metadata": {},
   "source": [
    "nombre_infected       888\n",
    "nombre_sain          1968\n",
    "nombre_exposed        464\n",
    "nombre_recovered    16680\n",
    "Name: 291, dtype: int64"
   ]
  },
  {
   "cell_type": "markdown",
   "id": "76a73bd8",
   "metadata": {},
   "source": [
    "nombre_infected       888\n",
    "nombre_sain          2008\n",
    "nombre_exposed        452\n",
    "nombre_recovered    16652\n",
    "Name: 292, dtype: int64"
   ]
  },
  {
   "cell_type": "markdown",
   "id": "213cf195",
   "metadata": {},
   "source": [
    "nombre_infected       891\n",
    "nombre_sain          2042\n",
    "nombre_exposed        459\n",
    "nombre_recovered    16608\n",
    "Name: 293, dtype: int64"
   ]
  },
  {
   "cell_type": "markdown",
   "id": "d78a46ff",
   "metadata": {},
   "source": [
    "nombre_infected       870\n",
    "nombre_sain          2065\n",
    "nombre_exposed        469\n",
    "nombre_recovered    16596\n",
    "Name: 294, dtype: int64"
   ]
  },
  {
   "cell_type": "markdown",
   "id": "4617aa5a",
   "metadata": {},
   "source": [
    "nombre_infected       893\n",
    "nombre_sain          2077\n",
    "nombre_exposed        461\n",
    "nombre_recovered    16569\n",
    "Name: 295, dtype: int64"
   ]
  },
  {
   "cell_type": "markdown",
   "id": "ba72d8e7",
   "metadata": {},
   "source": [
    "nombre_infected       888\n",
    "nombre_sain          2106\n",
    "nombre_exposed        472\n",
    "nombre_recovered    16534\n",
    "Name: 296, dtype: int64"
   ]
  },
  {
   "cell_type": "markdown",
   "id": "2ec22e57",
   "metadata": {},
   "source": [
    "nombre_infected       885\n",
    "nombre_sain          2135\n",
    "nombre_exposed        458\n",
    "nombre_recovered    16522\n",
    "Name: 297, dtype: int64"
   ]
  },
  {
   "cell_type": "markdown",
   "id": "d4ad8521",
   "metadata": {},
   "source": [
    "nombre_infected       891\n",
    "nombre_sain          2122\n",
    "nombre_exposed        457\n",
    "nombre_recovered    16530\n",
    "Name: 298, dtype: int64"
   ]
  },
  {
   "cell_type": "markdown",
   "id": "9a38024d",
   "metadata": {},
   "source": [
    "nombre_infected       884\n",
    "nombre_sain          2135\n",
    "nombre_exposed        467\n",
    "nombre_recovered    16514\n",
    "Name: 299, dtype: int64"
   ]
  },
  {
   "cell_type": "markdown",
   "id": "896a15a0",
   "metadata": {},
   "source": [
    "nombre_infected       889\n",
    "nombre_sain          2177\n",
    "nombre_exposed        457\n",
    "nombre_recovered    16477\n",
    "Name: 300, dtype: int64"
   ]
  },
  {
   "cell_type": "markdown",
   "id": "d75411fe",
   "metadata": {},
   "source": [
    "nombre_infected       881\n",
    "nombre_sain          2182\n",
    "nombre_exposed        478\n",
    "nombre_recovered    16459\n",
    "Name: 301, dtype: int64"
   ]
  },
  {
   "cell_type": "markdown",
   "id": "5f8bcd19",
   "metadata": {},
   "source": [
    "nombre_infected       887\n",
    "nombre_sain          2199\n",
    "nombre_exposed        469\n",
    "nombre_recovered    16445\n",
    "Name: 302, dtype: int64"
   ]
  },
  {
   "cell_type": "markdown",
   "id": "ed9fedef",
   "metadata": {},
   "source": [
    "nombre_infected       875\n",
    "nombre_sain          2186\n",
    "nombre_exposed        481\n",
    "nombre_recovered    16458\n",
    "Name: 303, dtype: int64"
   ]
  },
  {
   "cell_type": "markdown",
   "id": "a8567d2d",
   "metadata": {},
   "source": [
    "nombre_infected       859\n",
    "nombre_sain          2206\n",
    "nombre_exposed        487\n",
    "nombre_recovered    16448\n",
    "Name: 304, dtype: int64"
   ]
  },
  {
   "cell_type": "markdown",
   "id": "89b25079",
   "metadata": {},
   "source": [
    "nombre_infected       850\n",
    "nombre_sain          2228\n",
    "nombre_exposed        480\n",
    "nombre_recovered    16442\n",
    "Name: 305, dtype: int64"
   ]
  },
  {
   "cell_type": "markdown",
   "id": "f34c9842",
   "metadata": {},
   "source": [
    "nombre_infected       855\n",
    "nombre_sain          2213\n",
    "nombre_exposed        508\n",
    "nombre_recovered    16424\n",
    "Name: 306, dtype: int64"
   ]
  },
  {
   "cell_type": "markdown",
   "id": "135f93ee",
   "metadata": {},
   "source": [
    "nombre_infected       864\n",
    "nombre_sain          2206\n",
    "nombre_exposed        515\n",
    "nombre_recovered    16415\n",
    "Name: 307, dtype: int64"
   ]
  },
  {
   "cell_type": "markdown",
   "id": "cf8c9132",
   "metadata": {},
   "source": [
    "nombre_infected       886\n",
    "nombre_sain          2241\n",
    "nombre_exposed        504\n",
    "nombre_recovered    16369\n",
    "Name: 308, dtype: int64"
   ]
  },
  {
   "cell_type": "markdown",
   "id": "8f918fc2",
   "metadata": {},
   "source": [
    "nombre_infected       880\n",
    "nombre_sain          2240\n",
    "nombre_exposed        515\n",
    "nombre_recovered    16365\n",
    "Name: 309, dtype: int64"
   ]
  },
  {
   "cell_type": "markdown",
   "id": "a24191a1",
   "metadata": {},
   "source": [
    "nombre_infected       876\n",
    "nombre_sain          2267\n",
    "nombre_exposed        514\n",
    "nombre_recovered    16343\n",
    "Name: 310, dtype: int64"
   ]
  },
  {
   "cell_type": "markdown",
   "id": "985ddbf7",
   "metadata": {},
   "source": [
    "nombre_infected       859\n",
    "nombre_sain          2266\n",
    "nombre_exposed        523\n",
    "nombre_recovered    16352\n",
    "Name: 311, dtype: int64"
   ]
  },
  {
   "cell_type": "markdown",
   "id": "814e622d",
   "metadata": {},
   "source": [
    "nombre_infected       860\n",
    "nombre_sain          2275\n",
    "nombre_exposed        531\n",
    "nombre_recovered    16334\n",
    "Name: 312, dtype: int64"
   ]
  },
  {
   "cell_type": "markdown",
   "id": "2e10cff1",
   "metadata": {},
   "source": [
    "nombre_infected       854\n",
    "nombre_sain          2269\n",
    "nombre_exposed        544\n",
    "nombre_recovered    16333\n",
    "Name: 313, dtype: int64"
   ]
  },
  {
   "cell_type": "markdown",
   "id": "2026bac5",
   "metadata": {},
   "source": [
    "nombre_infected       853\n",
    "nombre_sain          2292\n",
    "nombre_exposed        556\n",
    "nombre_recovered    16299\n",
    "Name: 314, dtype: int64"
   ]
  },
  {
   "cell_type": "markdown",
   "id": "9db1b2a0",
   "metadata": {},
   "source": [
    "nombre_infected       872\n",
    "nombre_sain          2299\n",
    "nombre_exposed        557\n",
    "nombre_recovered    16272\n",
    "Name: 315, dtype: int64"
   ]
  },
  {
   "cell_type": "markdown",
   "id": "0591860b",
   "metadata": {},
   "source": [
    "nombre_infected       871\n",
    "nombre_sain          2285\n",
    "nombre_exposed        588\n",
    "nombre_recovered    16256\n",
    "Name: 316, dtype: int64"
   ]
  },
  {
   "cell_type": "markdown",
   "id": "f8594679",
   "metadata": {},
   "source": [
    "nombre_infected       891\n",
    "nombre_sain          2288\n",
    "nombre_exposed        588\n",
    "nombre_recovered    16233\n",
    "Name: 317, dtype: int64"
   ]
  },
  {
   "cell_type": "markdown",
   "id": "0b824d23",
   "metadata": {},
   "source": [
    "nombre_infected       899\n",
    "nombre_sain          2287\n",
    "nombre_exposed        590\n",
    "nombre_recovered    16224\n",
    "Name: 318, dtype: int64"
   ]
  },
  {
   "cell_type": "markdown",
   "id": "1f98472f",
   "metadata": {},
   "source": [
    "nombre_infected       913\n",
    "nombre_sain          2278\n",
    "nombre_exposed        595\n",
    "nombre_recovered    16214\n",
    "Name: 319, dtype: int64"
   ]
  },
  {
   "cell_type": "markdown",
   "id": "d0aa144e",
   "metadata": {},
   "source": [
    "nombre_infected       938\n",
    "nombre_sain          2241\n",
    "nombre_exposed        588\n",
    "nombre_recovered    16233\n",
    "Name: 320, dtype: int64"
   ]
  },
  {
   "cell_type": "markdown",
   "id": "0d59afbc",
   "metadata": {},
   "source": [
    "nombre_infected       953\n",
    "nombre_sain          2229\n",
    "nombre_exposed        576\n",
    "nombre_recovered    16242\n",
    "Name: 321, dtype: int64"
   ]
  },
  {
   "cell_type": "markdown",
   "id": "fc47aa37",
   "metadata": {},
   "source": [
    "nombre_infected       971\n",
    "nombre_sain          2205\n",
    "nombre_exposed        567\n",
    "nombre_recovered    16257\n",
    "Name: 322, dtype: int64"
   ]
  },
  {
   "cell_type": "markdown",
   "id": "496d2078",
   "metadata": {},
   "source": [
    "nombre_infected       979\n",
    "nombre_sain          2152\n",
    "nombre_exposed        592\n",
    "nombre_recovered    16277\n",
    "Name: 323, dtype: int64"
   ]
  },
  {
   "cell_type": "markdown",
   "id": "3cfeafed",
   "metadata": {},
   "source": [
    "nombre_infected       990\n",
    "nombre_sain          2132\n",
    "nombre_exposed        574\n",
    "nombre_recovered    16304\n",
    "Name: 324, dtype: int64"
   ]
  },
  {
   "cell_type": "markdown",
   "id": "664ac4da",
   "metadata": {},
   "source": [
    "nombre_infected       993\n",
    "nombre_sain          2097\n",
    "nombre_exposed        587\n",
    "nombre_recovered    16323\n",
    "Name: 325, dtype: int64"
   ]
  },
  {
   "cell_type": "markdown",
   "id": "77c14972",
   "metadata": {},
   "source": [
    "nombre_infected       976\n",
    "nombre_sain          2064\n",
    "nombre_exposed        592\n",
    "nombre_recovered    16368\n",
    "Name: 326, dtype: int64"
   ]
  },
  {
   "cell_type": "markdown",
   "id": "c02dfd0f",
   "metadata": {},
   "source": [
    "nombre_infected       976\n",
    "nombre_sain          2034\n",
    "nombre_exposed        609\n",
    "nombre_recovered    16381\n",
    "Name: 327, dtype: int64"
   ]
  },
  {
   "cell_type": "markdown",
   "id": "fd278a09",
   "metadata": {},
   "source": [
    "nombre_infected       993\n",
    "nombre_sain          1995\n",
    "nombre_exposed        604\n",
    "nombre_recovered    16408\n",
    "Name: 328, dtype: int64"
   ]
  },
  {
   "cell_type": "markdown",
   "id": "0122169e",
   "metadata": {},
   "source": [
    "nombre_infected       997\n",
    "nombre_sain          1996\n",
    "nombre_exposed        573\n",
    "nombre_recovered    16434\n",
    "Name: 329, dtype: int64"
   ]
  },
  {
   "cell_type": "markdown",
   "id": "3e977154",
   "metadata": {},
   "source": [
    "nombre_infected       989\n",
    "nombre_sain          1984\n",
    "nombre_exposed        563\n",
    "nombre_recovered    16464\n",
    "Name: 330, dtype: int64"
   ]
  },
  {
   "cell_type": "markdown",
   "id": "f2e481ac",
   "metadata": {},
   "source": [
    "nombre_infected       988\n",
    "nombre_sain          1986\n",
    "nombre_exposed        546\n",
    "nombre_recovered    16480\n",
    "Name: 331, dtype: int64"
   ]
  },
  {
   "cell_type": "markdown",
   "id": "bff78071",
   "metadata": {},
   "source": [
    "nombre_infected       995\n",
    "nombre_sain          1991\n",
    "nombre_exposed        524\n",
    "nombre_recovered    16490\n",
    "Name: 332, dtype: int64"
   ]
  },
  {
   "cell_type": "markdown",
   "id": "fbfd3745",
   "metadata": {},
   "source": [
    "nombre_infected       989\n",
    "nombre_sain          1976\n",
    "nombre_exposed        540\n",
    "nombre_recovered    16495\n",
    "Name: 333, dtype: int64"
   ]
  },
  {
   "cell_type": "markdown",
   "id": "0c5f14f7",
   "metadata": {},
   "source": [
    "nombre_infected       984\n",
    "nombre_sain          1949\n",
    "nombre_exposed        535\n",
    "nombre_recovered    16532\n",
    "Name: 334, dtype: int64"
   ]
  },
  {
   "cell_type": "markdown",
   "id": "167bb482",
   "metadata": {},
   "source": [
    "nombre_infected       980\n",
    "nombre_sain          1943\n",
    "nombre_exposed        533\n",
    "nombre_recovered    16544\n",
    "Name: 335, dtype: int64"
   ]
  },
  {
   "cell_type": "markdown",
   "id": "f0ec1312",
   "metadata": {},
   "source": [
    "nombre_infected       974\n",
    "nombre_sain          1962\n",
    "nombre_exposed        498\n",
    "nombre_recovered    16566\n",
    "Name: 336, dtype: int64"
   ]
  },
  {
   "cell_type": "markdown",
   "id": "0d93f515",
   "metadata": {},
   "source": [
    "nombre_infected       977\n",
    "nombre_sain          1922\n",
    "nombre_exposed        510\n",
    "nombre_recovered    16591\n",
    "Name: 337, dtype: int64"
   ]
  },
  {
   "cell_type": "markdown",
   "id": "45f23b74",
   "metadata": {},
   "source": [
    "nombre_infected       983\n",
    "nombre_sain          1928\n",
    "nombre_exposed        505\n",
    "nombre_recovered    16584\n",
    "Name: 338, dtype: int64"
   ]
  },
  {
   "cell_type": "markdown",
   "id": "7921c42a",
   "metadata": {},
   "source": [
    "nombre_infected       955\n",
    "nombre_sain          1939\n",
    "nombre_exposed        501\n",
    "nombre_recovered    16605\n",
    "Name: 339, dtype: int64"
   ]
  },
  {
   "cell_type": "markdown",
   "id": "156a5949",
   "metadata": {},
   "source": [
    "nombre_infected       945\n",
    "nombre_sain          1927\n",
    "nombre_exposed        501\n",
    "nombre_recovered    16627\n",
    "Name: 340, dtype: int64"
   ]
  },
  {
   "cell_type": "markdown",
   "id": "8728bac9",
   "metadata": {},
   "source": [
    "nombre_infected       950\n",
    "nombre_sain          1923\n",
    "nombre_exposed        499\n",
    "nombre_recovered    16628\n",
    "Name: 341, dtype: int64"
   ]
  },
  {
   "cell_type": "markdown",
   "id": "76ea35b3",
   "metadata": {},
   "source": [
    "nombre_infected       955\n",
    "nombre_sain          1887\n",
    "nombre_exposed        527\n",
    "nombre_recovered    16631\n",
    "Name: 342, dtype: int64"
   ]
  },
  {
   "cell_type": "markdown",
   "id": "7d59ec04",
   "metadata": {},
   "source": [
    "nombre_infected       955\n",
    "nombre_sain          1900\n",
    "nombre_exposed        505\n",
    "nombre_recovered    16640\n",
    "Name: 343, dtype: int64"
   ]
  },
  {
   "cell_type": "markdown",
   "id": "1cb9a12f",
   "metadata": {},
   "source": [
    "nombre_infected       977\n",
    "nombre_sain          1910\n",
    "nombre_exposed        475\n",
    "nombre_recovered    16638\n",
    "Name: 344, dtype: int64"
   ]
  },
  {
   "cell_type": "markdown",
   "id": "fdaab798",
   "metadata": {},
   "source": [
    "nombre_infected       944\n",
    "nombre_sain          1913\n",
    "nombre_exposed        491\n",
    "nombre_recovered    16652\n",
    "Name: 345, dtype: int64"
   ]
  },
  {
   "cell_type": "markdown",
   "id": "a50fd3e8",
   "metadata": {},
   "source": [
    "nombre_infected       907\n",
    "nombre_sain          1896\n",
    "nombre_exposed        504\n",
    "nombre_recovered    16693\n",
    "Name: 346, dtype: int64"
   ]
  },
  {
   "cell_type": "markdown",
   "id": "93f5d06d",
   "metadata": {},
   "source": [
    "nombre_infected       898\n",
    "nombre_sain          1890\n",
    "nombre_exposed        510\n",
    "nombre_recovered    16702\n",
    "Name: 347, dtype: int64"
   ]
  },
  {
   "cell_type": "markdown",
   "id": "e201ab5d",
   "metadata": {},
   "source": [
    "nombre_infected       887\n",
    "nombre_sain          1883\n",
    "nombre_exposed        496\n",
    "nombre_recovered    16734\n",
    "Name: 348, dtype: int64"
   ]
  },
  {
   "cell_type": "markdown",
   "id": "c94daec9",
   "metadata": {},
   "source": [
    "nombre_infected       876\n",
    "nombre_sain          1909\n",
    "nombre_exposed        491\n",
    "nombre_recovered    16724\n",
    "Name: 349, dtype: int64"
   ]
  },
  {
   "cell_type": "markdown",
   "id": "882a475a",
   "metadata": {},
   "source": [
    "nombre_infected       865\n",
    "nombre_sain          1899\n",
    "nombre_exposed        498\n",
    "nombre_recovered    16738\n",
    "Name: 350, dtype: int64"
   ]
  },
  {
   "cell_type": "markdown",
   "id": "595b8c22",
   "metadata": {},
   "source": [
    "nombre_infected       856\n",
    "nombre_sain          1912\n",
    "nombre_exposed        497\n",
    "nombre_recovered    16735\n",
    "Name: 351, dtype: int64"
   ]
  },
  {
   "cell_type": "markdown",
   "id": "cf4ebe55",
   "metadata": {},
   "source": [
    "nombre_infected       854\n",
    "nombre_sain          1920\n",
    "nombre_exposed        491\n",
    "nombre_recovered    16735\n",
    "Name: 352, dtype: int64"
   ]
  },
  {
   "cell_type": "markdown",
   "id": "7291871e",
   "metadata": {},
   "source": [
    "nombre_infected       861\n",
    "nombre_sain          1939\n",
    "nombre_exposed        488\n",
    "nombre_recovered    16712\n",
    "Name: 353, dtype: int64"
   ]
  },
  {
   "cell_type": "markdown",
   "id": "8920a8af",
   "metadata": {},
   "source": [
    "nombre_infected       860\n",
    "nombre_sain          1952\n",
    "nombre_exposed        476\n",
    "nombre_recovered    16712\n",
    "Name: 354, dtype: int64"
   ]
  },
  {
   "cell_type": "markdown",
   "id": "8c6ef2b7",
   "metadata": {},
   "source": [
    "nombre_infected       870\n",
    "nombre_sain          1954\n",
    "nombre_exposed        454\n",
    "nombre_recovered    16722\n",
    "Name: 355, dtype: int64"
   ]
  },
  {
   "cell_type": "markdown",
   "id": "c599fb7b",
   "metadata": {},
   "source": [
    "nombre_infected       868\n",
    "nombre_sain          1972\n",
    "nombre_exposed        440\n",
    "nombre_recovered    16720\n",
    "Name: 356, dtype: int64"
   ]
  },
  {
   "cell_type": "markdown",
   "id": "99513946",
   "metadata": {},
   "source": [
    "nombre_infected       859\n",
    "nombre_sain          2021\n",
    "nombre_exposed        425\n",
    "nombre_recovered    16695\n",
    "Name: 357, dtype: int64"
   ]
  },
  {
   "cell_type": "markdown",
   "id": "8a408c00",
   "metadata": {},
   "source": [
    "nombre_infected       868\n",
    "nombre_sain          2034\n",
    "nombre_exposed        408\n",
    "nombre_recovered    16690\n",
    "Name: 358, dtype: int64"
   ]
  },
  {
   "cell_type": "markdown",
   "id": "ca07ced7",
   "metadata": {},
   "source": [
    "nombre_infected       839\n",
    "nombre_sain          2041\n",
    "nombre_exposed        424\n",
    "nombre_recovered    16696\n",
    "Name: 359, dtype: int64"
   ]
  },
  {
   "cell_type": "markdown",
   "id": "16d29994",
   "metadata": {},
   "source": [
    "nombre_infected       822\n",
    "nombre_sain          2060\n",
    "nombre_exposed        425\n",
    "nombre_recovered    16693\n",
    "Name: 360, dtype: int64"
   ]
  },
  {
   "cell_type": "markdown",
   "id": "8038f75c",
   "metadata": {},
   "source": [
    "nombre_infected       820\n",
    "nombre_sain          2069\n",
    "nombre_exposed        438\n",
    "nombre_recovered    16673\n",
    "Name: 361, dtype: int64"
   ]
  },
  {
   "cell_type": "markdown",
   "id": "dd9225f5",
   "metadata": {},
   "source": [
    "nombre_infected       811\n",
    "nombre_sain          2091\n",
    "nombre_exposed        446\n",
    "nombre_recovered    16652\n",
    "Name: 362, dtype: int64"
   ]
  },
  {
   "cell_type": "markdown",
   "id": "5ae7555d",
   "metadata": {},
   "source": [
    "nombre_infected       841\n",
    "nombre_sain          2103\n",
    "nombre_exposed        433\n",
    "nombre_recovered    16623\n",
    "Name: 363, dtype: int64"
   ]
  },
  {
   "cell_type": "markdown",
   "id": "2256b2f4",
   "metadata": {},
   "source": [
    "nombre_infected       810\n",
    "nombre_sain          2096\n",
    "nombre_exposed        461\n",
    "nombre_recovered    16633\n",
    "Name: 364, dtype: int64"
   ]
  },
  {
   "cell_type": "markdown",
   "id": "a9aa2d4d",
   "metadata": {},
   "source": [
    "nombre_infected       792\n",
    "nombre_sain          2116\n",
    "nombre_exposed        463\n",
    "nombre_recovered    16629\n",
    "Name: 365, dtype: int64"
   ]
  },
  {
   "cell_type": "markdown",
   "id": "a496c5bc",
   "metadata": {},
   "source": [
    "nombre_infected       794\n",
    "nombre_sain          2130\n",
    "nombre_exposed        467\n",
    "nombre_recovered    16609\n",
    "Name: 366, dtype: int64"
   ]
  },
  {
   "cell_type": "markdown",
   "id": "a1dc054d",
   "metadata": {},
   "source": [
    "nombre_infected       796\n",
    "nombre_sain          2122\n",
    "nombre_exposed        474\n",
    "nombre_recovered    16608\n",
    "Name: 367, dtype: int64"
   ]
  },
  {
   "cell_type": "markdown",
   "id": "bbcd8eec",
   "metadata": {},
   "source": [
    "nombre_infected       839\n",
    "nombre_sain          2127\n",
    "nombre_exposed        470\n",
    "nombre_recovered    16564\n",
    "Name: 368, dtype: int64"
   ]
  },
  {
   "cell_type": "markdown",
   "id": "a7efac6a",
   "metadata": {},
   "source": [
    "nombre_infected       822\n",
    "nombre_sain          2102\n",
    "nombre_exposed        504\n",
    "nombre_recovered    16572\n",
    "Name: 369, dtype: int64"
   ]
  },
  {
   "cell_type": "markdown",
   "id": "55f4e275",
   "metadata": {},
   "source": [
    "nombre_infected       817\n",
    "nombre_sain          2101\n",
    "nombre_exposed        512\n",
    "nombre_recovered    16570\n",
    "Name: 370, dtype: int64"
   ]
  },
  {
   "cell_type": "markdown",
   "id": "8116d9e4",
   "metadata": {},
   "source": [
    "nombre_infected       830\n",
    "nombre_sain          2105\n",
    "nombre_exposed        498\n",
    "nombre_recovered    16567\n",
    "Name: 371, dtype: int64"
   ]
  },
  {
   "cell_type": "markdown",
   "id": "b88ab0c4",
   "metadata": {},
   "source": [
    "nombre_infected       849\n",
    "nombre_sain          2128\n",
    "nombre_exposed        499\n",
    "nombre_recovered    16524\n",
    "Name: 372, dtype: int64"
   ]
  },
  {
   "cell_type": "markdown",
   "id": "08b9ea6f",
   "metadata": {},
   "source": [
    "nombre_infected       855\n",
    "nombre_sain          2122\n",
    "nombre_exposed        488\n",
    "nombre_recovered    16535\n",
    "Name: 373, dtype: int64"
   ]
  },
  {
   "cell_type": "markdown",
   "id": "98b615d8",
   "metadata": {},
   "source": [
    "nombre_infected       868\n",
    "nombre_sain          2129\n",
    "nombre_exposed        475\n",
    "nombre_recovered    16528\n",
    "Name: 374, dtype: int64"
   ]
  },
  {
   "cell_type": "markdown",
   "id": "df288023",
   "metadata": {},
   "source": [
    "nombre_infected       869\n",
    "nombre_sain          2121\n",
    "nombre_exposed        476\n",
    "nombre_recovered    16534\n",
    "Name: 375, dtype: int64"
   ]
  },
  {
   "cell_type": "markdown",
   "id": "b2c7b4c4",
   "metadata": {},
   "source": [
    "nombre_infected       876\n",
    "nombre_sain          2091\n",
    "nombre_exposed        475\n",
    "nombre_recovered    16558\n",
    "Name: 376, dtype: int64"
   ]
  },
  {
   "cell_type": "markdown",
   "id": "1705d4da",
   "metadata": {},
   "source": [
    "nombre_infected       846\n",
    "nombre_sain          2082\n",
    "nombre_exposed        492\n",
    "nombre_recovered    16580\n",
    "Name: 377, dtype: int64"
   ]
  },
  {
   "cell_type": "markdown",
   "id": "2df931d4",
   "metadata": {},
   "source": [
    "nombre_infected       854\n",
    "nombre_sain          2079\n",
    "nombre_exposed        497\n",
    "nombre_recovered    16570\n",
    "Name: 378, dtype: int64"
   ]
  },
  {
   "cell_type": "markdown",
   "id": "c5ba8bd3",
   "metadata": {},
   "source": [
    "nombre_infected       870\n",
    "nombre_sain          2069\n",
    "nombre_exposed        502\n",
    "nombre_recovered    16559\n",
    "Name: 379, dtype: int64"
   ]
  },
  {
   "cell_type": "markdown",
   "id": "4092970e",
   "metadata": {},
   "source": [
    "nombre_infected       893\n",
    "nombre_sain          2082\n",
    "nombre_exposed        497\n",
    "nombre_recovered    16528\n",
    "Name: 380, dtype: int64"
   ]
  },
  {
   "cell_type": "markdown",
   "id": "9f75f80e",
   "metadata": {},
   "source": [
    "nombre_infected       906\n",
    "nombre_sain          2082\n",
    "nombre_exposed        500\n",
    "nombre_recovered    16512\n",
    "Name: 381, dtype: int64"
   ]
  },
  {
   "cell_type": "markdown",
   "id": "8769c667",
   "metadata": {},
   "source": [
    "nombre_infected       926\n",
    "nombre_sain          2061\n",
    "nombre_exposed        497\n",
    "nombre_recovered    16516\n",
    "Name: 382, dtype: int64"
   ]
  },
  {
   "cell_type": "markdown",
   "id": "1f70d8c0",
   "metadata": {},
   "source": [
    "nombre_infected       926\n",
    "nombre_sain          2068\n",
    "nombre_exposed        494\n",
    "nombre_recovered    16512\n",
    "Name: 383, dtype: int64"
   ]
  },
  {
   "cell_type": "markdown",
   "id": "64addac1",
   "metadata": {},
   "source": [
    "nombre_infected       940\n",
    "nombre_sain          2053\n",
    "nombre_exposed        508\n",
    "nombre_recovered    16499\n",
    "Name: 384, dtype: int64"
   ]
  },
  {
   "cell_type": "markdown",
   "id": "b6426bcf",
   "metadata": {},
   "source": [
    "nombre_infected       959\n",
    "nombre_sain          2065\n",
    "nombre_exposed        477\n",
    "nombre_recovered    16499\n",
    "Name: 385, dtype: int64"
   ]
  },
  {
   "cell_type": "markdown",
   "id": "d47eb68d",
   "metadata": {},
   "source": [
    "nombre_infected       963\n",
    "nombre_sain          2073\n",
    "nombre_exposed        463\n",
    "nombre_recovered    16501\n",
    "Name: 386, dtype: int64"
   ]
  },
  {
   "cell_type": "markdown",
   "id": "de227735",
   "metadata": {},
   "source": [
    "nombre_infected       968\n",
    "nombre_sain          2061\n",
    "nombre_exposed        472\n",
    "nombre_recovered    16499\n",
    "Name: 387, dtype: int64"
   ]
  },
  {
   "cell_type": "markdown",
   "id": "9694dd2f",
   "metadata": {},
   "source": [
    "nombre_infected       955\n",
    "nombre_sain          2057\n",
    "nombre_exposed        494\n",
    "nombre_recovered    16494\n",
    "Name: 388, dtype: int64"
   ]
  },
  {
   "cell_type": "markdown",
   "id": "8d53d1c7",
   "metadata": {},
   "source": [
    "nombre_infected       943\n",
    "nombre_sain          2043\n",
    "nombre_exposed        515\n",
    "nombre_recovered    16499\n",
    "Name: 389, dtype: int64"
   ]
  },
  {
   "cell_type": "markdown",
   "id": "752b03dd",
   "metadata": {},
   "source": [
    "nombre_infected       943\n",
    "nombre_sain          2020\n",
    "nombre_exposed        526\n",
    "nombre_recovered    16511\n",
    "Name: 390, dtype: int64"
   ]
  },
  {
   "cell_type": "markdown",
   "id": "1dd44a35",
   "metadata": {},
   "source": [
    "nombre_infected       927\n",
    "nombre_sain          1976\n",
    "nombre_exposed        547\n",
    "nombre_recovered    16550\n",
    "Name: 391, dtype: int64"
   ]
  },
  {
   "cell_type": "markdown",
   "id": "57076d8a",
   "metadata": {},
   "source": [
    "nombre_infected       933\n",
    "nombre_sain          1994\n",
    "nombre_exposed        534\n",
    "nombre_recovered    16539\n",
    "Name: 392, dtype: int64"
   ]
  },
  {
   "cell_type": "markdown",
   "id": "8da189d4",
   "metadata": {},
   "source": [
    "nombre_infected       972\n",
    "nombre_sain          2000\n",
    "nombre_exposed        494\n",
    "nombre_recovered    16534\n",
    "Name: 393, dtype: int64"
   ]
  },
  {
   "cell_type": "markdown",
   "id": "143605c6",
   "metadata": {},
   "source": [
    "nombre_infected       953\n",
    "nombre_sain          1994\n",
    "nombre_exposed        505\n",
    "nombre_recovered    16548\n",
    "Name: 394, dtype: int64"
   ]
  },
  {
   "cell_type": "markdown",
   "id": "aa2a0e76",
   "metadata": {},
   "source": [
    "nombre_infected       950\n",
    "nombre_sain          1983\n",
    "nombre_exposed        499\n",
    "nombre_recovered    16568\n",
    "Name: 395, dtype: int64"
   ]
  },
  {
   "cell_type": "markdown",
   "id": "3698b9a8",
   "metadata": {},
   "source": [
    "nombre_infected       947\n",
    "nombre_sain          1953\n",
    "nombre_exposed        508\n",
    "nombre_recovered    16592\n",
    "Name: 396, dtype: int64"
   ]
  },
  {
   "cell_type": "markdown",
   "id": "f1b91a24",
   "metadata": {},
   "source": [
    "nombre_infected       952\n",
    "nombre_sain          1947\n",
    "nombre_exposed        493\n",
    "nombre_recovered    16608\n",
    "Name: 397, dtype: int64"
   ]
  },
  {
   "cell_type": "markdown",
   "id": "fea2e1ea",
   "metadata": {},
   "source": [
    "nombre_infected       934\n",
    "nombre_sain          1961\n",
    "nombre_exposed        481\n",
    "nombre_recovered    16624\n",
    "Name: 398, dtype: int64"
   ]
  },
  {
   "cell_type": "markdown",
   "id": "33086bf0",
   "metadata": {},
   "source": [
    "nombre_infected       924\n",
    "nombre_sain          1962\n",
    "nombre_exposed        482\n",
    "nombre_recovered    16632\n",
    "Name: 399, dtype: int64"
   ]
  },
  {
   "cell_type": "markdown",
   "id": "70a5a195",
   "metadata": {},
   "source": [
    "nombre_infected       927\n",
    "nombre_sain          1957\n",
    "nombre_exposed        484\n",
    "nombre_recovered    16632\n",
    "Name: 400, dtype: int64"
   ]
  },
  {
   "cell_type": "markdown",
   "id": "aadf444c",
   "metadata": {},
   "source": [
    "nombre_infected       929\n",
    "nombre_sain          1932\n",
    "nombre_exposed        489\n",
    "nombre_recovered    16650\n",
    "Name: 401, dtype: int64"
   ]
  },
  {
   "cell_type": "markdown",
   "id": "1a894128",
   "metadata": {},
   "source": [
    "nombre_infected       929\n",
    "nombre_sain          1929\n",
    "nombre_exposed        469\n",
    "nombre_recovered    16673\n",
    "Name: 402, dtype: int64"
   ]
  },
  {
   "cell_type": "markdown",
   "id": "a19f80b5",
   "metadata": {},
   "source": [
    "nombre_infected       921\n",
    "nombre_sain          1919\n",
    "nombre_exposed        471\n",
    "nombre_recovered    16689\n",
    "Name: 403, dtype: int64"
   ]
  },
  {
   "cell_type": "markdown",
   "id": "bd4cef11",
   "metadata": {},
   "source": [
    "nombre_infected       907\n",
    "nombre_sain          1928\n",
    "nombre_exposed        480\n",
    "nombre_recovered    16685\n",
    "Name: 404, dtype: int64"
   ]
  },
  {
   "cell_type": "markdown",
   "id": "cb04ffed",
   "metadata": {},
   "source": [
    "nombre_infected       898\n",
    "nombre_sain          1924\n",
    "nombre_exposed        490\n",
    "nombre_recovered    16688\n",
    "Name: 405, dtype: int64"
   ]
  },
  {
   "cell_type": "markdown",
   "id": "d15db1e0",
   "metadata": {},
   "source": [
    "nombre_infected       885\n",
    "nombre_sain          1928\n",
    "nombre_exposed        500\n",
    "nombre_recovered    16687\n",
    "Name: 406, dtype: int64"
   ]
  },
  {
   "cell_type": "markdown",
   "id": "9bcaf715",
   "metadata": {},
   "source": [
    "nombre_infected       896\n",
    "nombre_sain          1939\n",
    "nombre_exposed        466\n",
    "nombre_recovered    16699\n",
    "Name: 407, dtype: int64"
   ]
  },
  {
   "cell_type": "markdown",
   "id": "62670af1",
   "metadata": {},
   "source": [
    "nombre_infected       904\n",
    "nombre_sain          1967\n",
    "nombre_exposed        450\n",
    "nombre_recovered    16679\n",
    "Name: 408, dtype: int64"
   ]
  },
  {
   "cell_type": "markdown",
   "id": "8c0ef11b",
   "metadata": {},
   "source": [
    "nombre_infected       893\n",
    "nombre_sain          2005\n",
    "nombre_exposed        444\n",
    "nombre_recovered    16658\n",
    "Name: 409, dtype: int64"
   ]
  },
  {
   "cell_type": "markdown",
   "id": "9c98324a",
   "metadata": {},
   "source": [
    "nombre_infected       888\n",
    "nombre_sain          2006\n",
    "nombre_exposed        457\n",
    "nombre_recovered    16649\n",
    "Name: 410, dtype: int64"
   ]
  },
  {
   "cell_type": "markdown",
   "id": "b69c34ce",
   "metadata": {},
   "source": [
    "nombre_infected       889\n",
    "nombre_sain          2009\n",
    "nombre_exposed        468\n",
    "nombre_recovered    16634\n",
    "Name: 411, dtype: int64"
   ]
  },
  {
   "cell_type": "markdown",
   "id": "67d50695",
   "metadata": {},
   "source": [
    "nombre_infected       880\n",
    "nombre_sain          1986\n",
    "nombre_exposed        479\n",
    "nombre_recovered    16655\n",
    "Name: 412, dtype: int64"
   ]
  },
  {
   "cell_type": "markdown",
   "id": "59752fce",
   "metadata": {},
   "source": [
    "nombre_infected       872\n",
    "nombre_sain          2003\n",
    "nombre_exposed        461\n",
    "nombre_recovered    16664\n",
    "Name: 413, dtype: int64"
   ]
  },
  {
   "cell_type": "markdown",
   "id": "30334d97",
   "metadata": {},
   "source": [
    "nombre_infected       875\n",
    "nombre_sain          1985\n",
    "nombre_exposed        480\n",
    "nombre_recovered    16660\n",
    "Name: 414, dtype: int64"
   ]
  },
  {
   "cell_type": "markdown",
   "id": "e50d97ed",
   "metadata": {},
   "source": [
    "nombre_infected       879\n",
    "nombre_sain          2014\n",
    "nombre_exposed        451\n",
    "nombre_recovered    16656\n",
    "Name: 415, dtype: int64"
   ]
  },
  {
   "cell_type": "markdown",
   "id": "b21265aa",
   "metadata": {},
   "source": [
    "nombre_infected       874\n",
    "nombre_sain          2026\n",
    "nombre_exposed        449\n",
    "nombre_recovered    16651\n",
    "Name: 416, dtype: int64"
   ]
  },
  {
   "cell_type": "markdown",
   "id": "5fe8ee4e",
   "metadata": {},
   "source": [
    "nombre_infected       883\n",
    "nombre_sain          2049\n",
    "nombre_exposed        449\n",
    "nombre_recovered    16619\n",
    "Name: 417, dtype: int64"
   ]
  },
  {
   "cell_type": "markdown",
   "id": "92dc6604",
   "metadata": {},
   "source": [
    "nombre_infected       858\n",
    "nombre_sain          2085\n",
    "nombre_exposed        467\n",
    "nombre_recovered    16590\n",
    "Name: 418, dtype: int64"
   ]
  },
  {
   "cell_type": "markdown",
   "id": "64397357",
   "metadata": {},
   "source": [
    "nombre_infected       849\n",
    "nombre_sain          2095\n",
    "nombre_exposed        473\n",
    "nombre_recovered    16583\n",
    "Name: 419, dtype: int64"
   ]
  },
  {
   "cell_type": "markdown",
   "id": "93c17c9f",
   "metadata": {},
   "source": [
    "nombre_infected       831\n",
    "nombre_sain          2090\n",
    "nombre_exposed        495\n",
    "nombre_recovered    16584\n",
    "Name: 420, dtype: int64"
   ]
  },
  {
   "cell_type": "markdown",
   "id": "6d5ee8ce",
   "metadata": {},
   "source": [
    "nombre_infected       809\n",
    "nombre_sain          2123\n",
    "nombre_exposed        498\n",
    "nombre_recovered    16570\n",
    "Name: 421, dtype: int64"
   ]
  },
  {
   "cell_type": "markdown",
   "id": "252bc804",
   "metadata": {},
   "source": [
    "nombre_infected       808\n",
    "nombre_sain          2144\n",
    "nombre_exposed        495\n",
    "nombre_recovered    16553\n",
    "Name: 422, dtype: int64"
   ]
  },
  {
   "cell_type": "markdown",
   "id": "ef93e0e4",
   "metadata": {},
   "source": [
    "nombre_infected       832\n",
    "nombre_sain          2158\n",
    "nombre_exposed        479\n",
    "nombre_recovered    16531\n",
    "Name: 423, dtype: int64"
   ]
  },
  {
   "cell_type": "markdown",
   "id": "ad7b39ca",
   "metadata": {},
   "source": [
    "nombre_infected       846\n",
    "nombre_sain          2178\n",
    "nombre_exposed        478\n",
    "nombre_recovered    16498\n",
    "Name: 424, dtype: int64"
   ]
  },
  {
   "cell_type": "markdown",
   "id": "3a7e7245",
   "metadata": {},
   "source": [
    "nombre_infected       852\n",
    "nombre_sain          2168\n",
    "nombre_exposed        496\n",
    "nombre_recovered    16484\n",
    "Name: 425, dtype: int64"
   ]
  },
  {
   "cell_type": "markdown",
   "id": "54cbd940",
   "metadata": {},
   "source": [
    "nombre_infected       875\n",
    "nombre_sain          2144\n",
    "nombre_exposed        507\n",
    "nombre_recovered    16474\n",
    "Name: 426, dtype: int64"
   ]
  },
  {
   "cell_type": "markdown",
   "id": "f2166ef5",
   "metadata": {},
   "source": [
    "nombre_infected       871\n",
    "nombre_sain          2163\n",
    "nombre_exposed        507\n",
    "nombre_recovered    16459\n",
    "Name: 427, dtype: int64"
   ]
  },
  {
   "cell_type": "markdown",
   "id": "cd91b08c",
   "metadata": {},
   "source": [
    "nombre_infected       894\n",
    "nombre_sain          2162\n",
    "nombre_exposed        506\n",
    "nombre_recovered    16438\n",
    "Name: 428, dtype: int64"
   ]
  },
  {
   "cell_type": "markdown",
   "id": "61e1428e",
   "metadata": {},
   "source": [
    "nombre_infected       894\n",
    "nombre_sain          2144\n",
    "nombre_exposed        522\n",
    "nombre_recovered    16440\n",
    "Name: 429, dtype: int64"
   ]
  },
  {
   "cell_type": "markdown",
   "id": "9671207a",
   "metadata": {},
   "source": [
    "nombre_infected       906\n",
    "nombre_sain          2155\n",
    "nombre_exposed        531\n",
    "nombre_recovered    16408\n",
    "Name: 430, dtype: int64"
   ]
  },
  {
   "cell_type": "markdown",
   "id": "f8d91620",
   "metadata": {},
   "source": [
    "nombre_infected       912\n",
    "nombre_sain          2170\n",
    "nombre_exposed        529\n",
    "nombre_recovered    16389\n",
    "Name: 431, dtype: int64"
   ]
  },
  {
   "cell_type": "markdown",
   "id": "5f597faa",
   "metadata": {},
   "source": [
    "nombre_infected       924\n",
    "nombre_sain          2170\n",
    "nombre_exposed        545\n",
    "nombre_recovered    16361\n",
    "Name: 432, dtype: int64"
   ]
  },
  {
   "cell_type": "markdown",
   "id": "b8603446",
   "metadata": {},
   "source": [
    "nombre_infected       960\n",
    "nombre_sain          2174\n",
    "nombre_exposed        530\n",
    "nombre_recovered    16336\n",
    "Name: 433, dtype: int64"
   ]
  },
  {
   "cell_type": "markdown",
   "id": "6f96bfb8",
   "metadata": {},
   "source": [
    "nombre_infected       992\n",
    "nombre_sain          2135\n",
    "nombre_exposed        558\n",
    "nombre_recovered    16315\n",
    "Name: 434, dtype: int64"
   ]
  },
  {
   "cell_type": "markdown",
   "id": "17357880",
   "metadata": {},
   "source": [
    "nombre_infected      1009\n",
    "nombre_sain          2147\n",
    "nombre_exposed        557\n",
    "nombre_recovered    16287\n",
    "Name: 435, dtype: int64"
   ]
  },
  {
   "cell_type": "markdown",
   "id": "ba05d856",
   "metadata": {},
   "source": [
    "nombre_infected      1010\n",
    "nombre_sain          2129\n",
    "nombre_exposed        566\n",
    "nombre_recovered    16295\n",
    "Name: 436, dtype: int64"
   ]
  },
  {
   "cell_type": "markdown",
   "id": "a93fc4bb",
   "metadata": {},
   "source": [
    "nombre_infected      1004\n",
    "nombre_sain          2126\n",
    "nombre_exposed        558\n",
    "nombre_recovered    16312\n",
    "Name: 437, dtype: int64"
   ]
  },
  {
   "cell_type": "markdown",
   "id": "3d20cd03",
   "metadata": {},
   "source": [
    "nombre_infected      1034\n",
    "nombre_sain          2143\n",
    "nombre_exposed        547\n",
    "nombre_recovered    16276\n",
    "Name: 438, dtype: int64"
   ]
  },
  {
   "cell_type": "markdown",
   "id": "bb36c926",
   "metadata": {},
   "source": [
    "nombre_infected      1031\n",
    "nombre_sain          2135\n",
    "nombre_exposed        545\n",
    "nombre_recovered    16289\n",
    "Name: 439, dtype: int64"
   ]
  },
  {
   "cell_type": "markdown",
   "id": "3973a5ee",
   "metadata": {},
   "source": [
    "nombre_infected      1034\n",
    "nombre_sain          2141\n",
    "nombre_exposed        525\n",
    "nombre_recovered    16300\n",
    "Name: 440, dtype: int64"
   ]
  },
  {
   "cell_type": "markdown",
   "id": "d0f90fb1",
   "metadata": {},
   "source": [
    "nombre_infected      1074\n",
    "nombre_sain          2109\n",
    "nombre_exposed        537\n",
    "nombre_recovered    16280\n",
    "Name: 441, dtype: int64"
   ]
  },
  {
   "cell_type": "markdown",
   "id": "4b63ff92",
   "metadata": {},
   "source": [
    "nombre_infected      1064\n",
    "nombre_sain          2093\n",
    "nombre_exposed        552\n",
    "nombre_recovered    16291\n",
    "Name: 442, dtype: int64"
   ]
  },
  {
   "cell_type": "markdown",
   "id": "4cb377f9",
   "metadata": {},
   "source": [
    "nombre_infected      1062\n",
    "nombre_sain          2059\n",
    "nombre_exposed        581\n",
    "nombre_recovered    16298\n",
    "Name: 443, dtype: int64"
   ]
  },
  {
   "cell_type": "markdown",
   "id": "9dd11353",
   "metadata": {},
   "source": [
    "nombre_infected      1075\n",
    "nombre_sain          2030\n",
    "nombre_exposed        574\n",
    "nombre_recovered    16321\n",
    "Name: 444, dtype: int64"
   ]
  },
  {
   "cell_type": "markdown",
   "id": "9b8f5eae",
   "metadata": {},
   "source": [
    "nombre_infected      1100\n",
    "nombre_sain          2019\n",
    "nombre_exposed        565\n",
    "nombre_recovered    16316\n",
    "Name: 445, dtype: int64"
   ]
  },
  {
   "cell_type": "markdown",
   "id": "9654e33b",
   "metadata": {},
   "source": [
    "nombre_infected      1094\n",
    "nombre_sain          1996\n",
    "nombre_exposed        578\n",
    "nombre_recovered    16332\n",
    "Name: 446, dtype: int64"
   ]
  },
  {
   "cell_type": "markdown",
   "id": "544f11cb",
   "metadata": {},
   "source": [
    "nombre_infected      1100\n",
    "nombre_sain          1977\n",
    "nombre_exposed        592\n",
    "nombre_recovered    16331\n",
    "Name: 447, dtype: int64"
   ]
  },
  {
   "cell_type": "markdown",
   "id": "3e7ecfcc",
   "metadata": {},
   "source": [
    "nombre_infected      1079\n",
    "nombre_sain          1952\n",
    "nombre_exposed        579\n",
    "nombre_recovered    16390\n",
    "Name: 448, dtype: int64"
   ]
  },
  {
   "cell_type": "markdown",
   "id": "1686b7f1",
   "metadata": {},
   "source": [
    "nombre_infected      1086\n",
    "nombre_sain          1933\n",
    "nombre_exposed        589\n",
    "nombre_recovered    16392\n",
    "Name: 449, dtype: int64"
   ]
  },
  {
   "cell_type": "markdown",
   "id": "3779a8e4",
   "metadata": {},
   "source": [
    "nombre_infected      1095\n",
    "nombre_sain          1915\n",
    "nombre_exposed        593\n",
    "nombre_recovered    16397\n",
    "Name: 450, dtype: int64"
   ]
  },
  {
   "cell_type": "markdown",
   "id": "e1915f95",
   "metadata": {},
   "source": [
    "nombre_infected      1144\n",
    "nombre_sain          1914\n",
    "nombre_exposed        571\n",
    "nombre_recovered    16371\n",
    "Name: 451, dtype: int64"
   ]
  },
  {
   "cell_type": "markdown",
   "id": "6de4390f",
   "metadata": {},
   "source": [
    "nombre_infected      1163\n",
    "nombre_sain          1861\n",
    "nombre_exposed        590\n",
    "nombre_recovered    16386\n",
    "Name: 452, dtype: int64"
   ]
  },
  {
   "cell_type": "markdown",
   "id": "d810892e",
   "metadata": {},
   "source": [
    "nombre_infected      1181\n",
    "nombre_sain          1841\n",
    "nombre_exposed        585\n",
    "nombre_recovered    16393\n",
    "Name: 453, dtype: int64"
   ]
  },
  {
   "cell_type": "markdown",
   "id": "a3bb7380",
   "metadata": {},
   "source": [
    "nombre_infected      1182\n",
    "nombre_sain          1849\n",
    "nombre_exposed        559\n",
    "nombre_recovered    16410\n",
    "Name: 454, dtype: int64"
   ]
  },
  {
   "cell_type": "markdown",
   "id": "2b4bdf53",
   "metadata": {},
   "source": [
    "nombre_infected      1212\n",
    "nombre_sain          1875\n",
    "nombre_exposed        521\n",
    "nombre_recovered    16392\n",
    "Name: 455, dtype: int64"
   ]
  },
  {
   "cell_type": "markdown",
   "id": "5502b36e",
   "metadata": {},
   "source": [
    "nombre_infected      1199\n",
    "nombre_sain          1872\n",
    "nombre_exposed        517\n",
    "nombre_recovered    16412\n",
    "Name: 456, dtype: int64"
   ]
  },
  {
   "cell_type": "markdown",
   "id": "acd58c5e",
   "metadata": {},
   "source": [
    "nombre_infected      1194\n",
    "nombre_sain          1878\n",
    "nombre_exposed        522\n",
    "nombre_recovered    16406\n",
    "Name: 457, dtype: int64"
   ]
  },
  {
   "cell_type": "markdown",
   "id": "26c8fae6",
   "metadata": {},
   "source": [
    "nombre_infected      1191\n",
    "nombre_sain          1805\n",
    "nombre_exposed        573\n",
    "nombre_recovered    16431\n",
    "Name: 458, dtype: int64"
   ]
  },
  {
   "cell_type": "markdown",
   "id": "28179509",
   "metadata": {},
   "source": [
    "nombre_infected      1180\n",
    "nombre_sain          1788\n",
    "nombre_exposed        571\n",
    "nombre_recovered    16461\n",
    "Name: 459, dtype: int64"
   ]
  },
  {
   "cell_type": "markdown",
   "id": "233efd8c",
   "metadata": {},
   "source": [
    "nombre_infected      1182\n",
    "nombre_sain          1751\n",
    "nombre_exposed        558\n",
    "nombre_recovered    16509\n",
    "Name: 460, dtype: int64"
   ]
  },
  {
   "cell_type": "markdown",
   "id": "e1a35d6b",
   "metadata": {},
   "source": [
    "nombre_infected      1209\n",
    "nombre_sain          1732\n",
    "nombre_exposed        542\n",
    "nombre_recovered    16517\n",
    "Name: 461, dtype: int64"
   ]
  },
  {
   "cell_type": "markdown",
   "id": "1a196ed4",
   "metadata": {},
   "source": [
    "nombre_infected      1213\n",
    "nombre_sain          1725\n",
    "nombre_exposed        530\n",
    "nombre_recovered    16532\n",
    "Name: 462, dtype: int64"
   ]
  },
  {
   "cell_type": "markdown",
   "id": "083cf261",
   "metadata": {},
   "source": [
    "nombre_infected      1212\n",
    "nombre_sain          1704\n",
    "nombre_exposed        541\n",
    "nombre_recovered    16543\n",
    "Name: 463, dtype: int64"
   ]
  },
  {
   "cell_type": "markdown",
   "id": "ef2308f6",
   "metadata": {},
   "source": [
    "nombre_infected      1220\n",
    "nombre_sain          1671\n",
    "nombre_exposed        522\n",
    "nombre_recovered    16587\n",
    "Name: 464, dtype: int64"
   ]
  },
  {
   "cell_type": "markdown",
   "id": "b7c4b34a",
   "metadata": {},
   "source": [
    "nombre_infected      1234\n",
    "nombre_sain          1654\n",
    "nombre_exposed        493\n",
    "nombre_recovered    16619\n",
    "Name: 465, dtype: int64"
   ]
  },
  {
   "cell_type": "markdown",
   "id": "75c50a72",
   "metadata": {},
   "source": [
    "nombre_infected      1213\n",
    "nombre_sain          1643\n",
    "nombre_exposed        489\n",
    "nombre_recovered    16655\n",
    "Name: 466, dtype: int64"
   ]
  },
  {
   "cell_type": "markdown",
   "id": "d6685702",
   "metadata": {},
   "source": [
    "nombre_infected      1213\n",
    "nombre_sain          1643\n",
    "nombre_exposed        483\n",
    "nombre_recovered    16661\n",
    "Name: 467, dtype: int64"
   ]
  },
  {
   "cell_type": "markdown",
   "id": "4817dae9",
   "metadata": {},
   "source": [
    "nombre_infected      1175\n",
    "nombre_sain          1627\n",
    "nombre_exposed        499\n",
    "nombre_recovered    16699\n",
    "Name: 468, dtype: int64"
   ]
  },
  {
   "cell_type": "markdown",
   "id": "37793a36",
   "metadata": {},
   "source": [
    "nombre_infected      1161\n",
    "nombre_sain          1641\n",
    "nombre_exposed        480\n",
    "nombre_recovered    16718\n",
    "Name: 469, dtype: int64"
   ]
  },
  {
   "cell_type": "markdown",
   "id": "7f5a103d",
   "metadata": {},
   "source": [
    "nombre_infected      1163\n",
    "nombre_sain          1645\n",
    "nombre_exposed        474\n",
    "nombre_recovered    16718\n",
    "Name: 470, dtype: int64"
   ]
  },
  {
   "cell_type": "markdown",
   "id": "61015cb9",
   "metadata": {},
   "source": [
    "nombre_infected      1120\n",
    "nombre_sain          1658\n",
    "nombre_exposed        482\n",
    "nombre_recovered    16740\n",
    "Name: 471, dtype: int64"
   ]
  },
  {
   "cell_type": "markdown",
   "id": "f1877c22",
   "metadata": {},
   "source": [
    "nombre_infected      1113\n",
    "nombre_sain          1674\n",
    "nombre_exposed        473\n",
    "nombre_recovered    16740\n",
    "Name: 472, dtype: int64"
   ]
  },
  {
   "cell_type": "markdown",
   "id": "5e13ef26",
   "metadata": {},
   "source": [
    "nombre_infected      1075\n",
    "nombre_sain          1721\n",
    "nombre_exposed        459\n",
    "nombre_recovered    16745\n",
    "Name: 473, dtype: int64"
   ]
  },
  {
   "cell_type": "markdown",
   "id": "8d62c490",
   "metadata": {},
   "source": [
    "nombre_infected      1056\n",
    "nombre_sain          1731\n",
    "nombre_exposed        472\n",
    "nombre_recovered    16741\n",
    "Name: 474, dtype: int64"
   ]
  },
  {
   "cell_type": "markdown",
   "id": "bda6d444",
   "metadata": {},
   "source": [
    "nombre_infected      1050\n",
    "nombre_sain          1742\n",
    "nombre_exposed        487\n",
    "nombre_recovered    16721\n",
    "Name: 475, dtype: int64"
   ]
  },
  {
   "cell_type": "markdown",
   "id": "714519cc",
   "metadata": {},
   "source": [
    "nombre_infected      1030\n",
    "nombre_sain          1761\n",
    "nombre_exposed        501\n",
    "nombre_recovered    16708\n",
    "Name: 476, dtype: int64"
   ]
  },
  {
   "cell_type": "markdown",
   "id": "46fbcaa4",
   "metadata": {},
   "source": [
    "nombre_infected      1012\n",
    "nombre_sain          1797\n",
    "nombre_exposed        494\n",
    "nombre_recovered    16697\n",
    "Name: 477, dtype: int64"
   ]
  },
  {
   "cell_type": "markdown",
   "id": "310f16a9",
   "metadata": {},
   "source": [
    "nombre_infected      1005\n",
    "nombre_sain          1809\n",
    "nombre_exposed        478\n",
    "nombre_recovered    16708\n",
    "Name: 478, dtype: int64"
   ]
  },
  {
   "cell_type": "markdown",
   "id": "dac7d754",
   "metadata": {},
   "source": [
    "nombre_infected       993\n",
    "nombre_sain          1816\n",
    "nombre_exposed        485\n",
    "nombre_recovered    16706\n",
    "Name: 479, dtype: int64"
   ]
  },
  {
   "cell_type": "markdown",
   "id": "469e03ff",
   "metadata": {},
   "source": [
    "nombre_infected       998\n",
    "nombre_sain          1818\n",
    "nombre_exposed        486\n",
    "nombre_recovered    16698\n",
    "Name: 480, dtype: int64"
   ]
  },
  {
   "cell_type": "markdown",
   "id": "d6b1222a",
   "metadata": {},
   "source": [
    "nombre_infected      1009\n",
    "nombre_sain          1835\n",
    "nombre_exposed        481\n",
    "nombre_recovered    16675\n",
    "Name: 481, dtype: int64"
   ]
  },
  {
   "cell_type": "markdown",
   "id": "3dac402c",
   "metadata": {},
   "source": [
    "nombre_infected       985\n",
    "nombre_sain          1853\n",
    "nombre_exposed        475\n",
    "nombre_recovered    16687\n",
    "Name: 482, dtype: int64"
   ]
  },
  {
   "cell_type": "markdown",
   "id": "8caf7bc8",
   "metadata": {},
   "source": [
    "nombre_infected       971\n",
    "nombre_sain          1884\n",
    "nombre_exposed        472\n",
    "nombre_recovered    16673\n",
    "Name: 483, dtype: int64"
   ]
  },
  {
   "cell_type": "markdown",
   "id": "3d45d6a9",
   "metadata": {},
   "source": [
    "nombre_infected       969\n",
    "nombre_sain          1906\n",
    "nombre_exposed        480\n",
    "nombre_recovered    16645\n",
    "Name: 484, dtype: int64"
   ]
  },
  {
   "cell_type": "markdown",
   "id": "0d502659",
   "metadata": {},
   "source": [
    "nombre_infected       973\n",
    "nombre_sain          1946\n",
    "nombre_exposed        466\n",
    "nombre_recovered    16615\n",
    "Name: 485, dtype: int64"
   ]
  },
  {
   "cell_type": "markdown",
   "id": "ad7d6ada",
   "metadata": {},
   "source": [
    "nombre_infected       968\n",
    "nombre_sain          1931\n",
    "nombre_exposed        492\n",
    "nombre_recovered    16609\n",
    "Name: 486, dtype: int64"
   ]
  },
  {
   "cell_type": "markdown",
   "id": "bc120c27",
   "metadata": {},
   "source": [
    "nombre_infected       982\n",
    "nombre_sain          1919\n",
    "nombre_exposed        503\n",
    "nombre_recovered    16596\n",
    "Name: 487, dtype: int64"
   ]
  },
  {
   "cell_type": "markdown",
   "id": "a88d6a04",
   "metadata": {},
   "source": [
    "nombre_infected       980\n",
    "nombre_sain          1924\n",
    "nombre_exposed        520\n",
    "nombre_recovered    16576\n",
    "Name: 488, dtype: int64"
   ]
  },
  {
   "cell_type": "markdown",
   "id": "f16d5c27",
   "metadata": {},
   "source": [
    "nombre_infected       988\n",
    "nombre_sain          1937\n",
    "nombre_exposed        513\n",
    "nombre_recovered    16562\n",
    "Name: 489, dtype: int64"
   ]
  },
  {
   "cell_type": "markdown",
   "id": "70c22421",
   "metadata": {},
   "source": [
    "nombre_infected       987\n",
    "nombre_sain          1938\n",
    "nombre_exposed        529\n",
    "nombre_recovered    16546\n",
    "Name: 490, dtype: int64"
   ]
  },
  {
   "cell_type": "markdown",
   "id": "1c4513e4",
   "metadata": {},
   "source": [
    "nombre_infected       990\n",
    "nombre_sain          1939\n",
    "nombre_exposed        534\n",
    "nombre_recovered    16537\n",
    "Name: 491, dtype: int64"
   ]
  },
  {
   "cell_type": "markdown",
   "id": "844de101",
   "metadata": {},
   "source": [
    "nombre_infected       983\n",
    "nombre_sain          1927\n",
    "nombre_exposed        538\n",
    "nombre_recovered    16552\n",
    "Name: 492, dtype: int64"
   ]
  },
  {
   "cell_type": "markdown",
   "id": "e5b5830c",
   "metadata": {},
   "source": [
    "nombre_infected       975\n",
    "nombre_sain          1920\n",
    "nombre_exposed        531\n",
    "nombre_recovered    16574\n",
    "Name: 493, dtype: int64"
   ]
  },
  {
   "cell_type": "markdown",
   "id": "fb8c9d98",
   "metadata": {},
   "source": [
    "nombre_infected       987\n",
    "nombre_sain          1917\n",
    "nombre_exposed        520\n",
    "nombre_recovered    16576\n",
    "Name: 494, dtype: int64"
   ]
  },
  {
   "cell_type": "markdown",
   "id": "fad7b396",
   "metadata": {},
   "source": [
    "nombre_infected       995\n",
    "nombre_sain          1929\n",
    "nombre_exposed        511\n",
    "nombre_recovered    16565\n",
    "Name: 495, dtype: int64"
   ]
  },
  {
   "cell_type": "markdown",
   "id": "19e86988",
   "metadata": {},
   "source": [
    "nombre_infected       990\n",
    "nombre_sain          1910\n",
    "nombre_exposed        520\n",
    "nombre_recovered    16580\n",
    "Name: 496, dtype: int64"
   ]
  },
  {
   "cell_type": "markdown",
   "id": "dd136d51",
   "metadata": {},
   "source": [
    "nombre_infected       977\n",
    "nombre_sain          1922\n",
    "nombre_exposed        511\n",
    "nombre_recovered    16590\n",
    "Name: 497, dtype: int64"
   ]
  },
  {
   "cell_type": "markdown",
   "id": "8eedbf5d",
   "metadata": {},
   "source": [
    "nombre_infected       975\n",
    "nombre_sain          1944\n",
    "nombre_exposed        519\n",
    "nombre_recovered    16562\n",
    "Name: 498, dtype: int64"
   ]
  },
  {
   "cell_type": "markdown",
   "id": "364c86bc",
   "metadata": {},
   "source": [
    "nombre_infected       981\n",
    "nombre_sain          1945\n",
    "nombre_exposed        504\n",
    "nombre_recovered    16570\n",
    "Name: 499, dtype: int64"
   ]
  },
  {
   "cell_type": "markdown",
   "id": "0983ba42",
   "metadata": {},
   "source": [
    "nombre_infected       960\n",
    "nombre_sain          1957\n",
    "nombre_exposed        510\n",
    "nombre_recovered    16573\n",
    "Name: 500, dtype: int64"
   ]
  },
  {
   "cell_type": "markdown",
   "id": "f8c016f1",
   "metadata": {},
   "source": [
    "nombre_infected       957\n",
    "nombre_sain          1982\n",
    "nombre_exposed        503\n",
    "nombre_recovered    16558\n",
    "Name: 501, dtype: int64"
   ]
  },
  {
   "cell_type": "markdown",
   "id": "7cf8f08f",
   "metadata": {},
   "source": [
    "nombre_infected       961\n",
    "nombre_sain          1975\n",
    "nombre_exposed        518\n",
    "nombre_recovered    16546\n",
    "Name: 502, dtype: int64"
   ]
  },
  {
   "cell_type": "markdown",
   "id": "96ddd50e",
   "metadata": {},
   "source": [
    "nombre_infected       971\n",
    "nombre_sain          1986\n",
    "nombre_exposed        508\n",
    "nombre_recovered    16535\n",
    "Name: 503, dtype: int64"
   ]
  },
  {
   "cell_type": "markdown",
   "id": "bc03d1ca",
   "metadata": {},
   "source": [
    "nombre_infected       970\n",
    "nombre_sain          2040\n",
    "nombre_exposed        501\n",
    "nombre_recovered    16489\n",
    "Name: 504, dtype: int64"
   ]
  },
  {
   "cell_type": "markdown",
   "id": "85eea50e",
   "metadata": {},
   "source": [
    "nombre_infected       956\n",
    "nombre_sain          2051\n",
    "nombre_exposed        484\n",
    "nombre_recovered    16509\n",
    "Name: 505, dtype: int64"
   ]
  },
  {
   "cell_type": "markdown",
   "id": "f69acba9",
   "metadata": {},
   "source": [
    "nombre_infected       973\n",
    "nombre_sain          2070\n",
    "nombre_exposed        484\n",
    "nombre_recovered    16473\n",
    "Name: 506, dtype: int64"
   ]
  },
  {
   "cell_type": "markdown",
   "id": "9988ef6f",
   "metadata": {},
   "source": [
    "nombre_infected       978\n",
    "nombre_sain          2079\n",
    "nombre_exposed        483\n",
    "nombre_recovered    16460\n",
    "Name: 507, dtype: int64"
   ]
  },
  {
   "cell_type": "markdown",
   "id": "33ec7d2e",
   "metadata": {},
   "source": [
    "nombre_infected       965\n",
    "nombre_sain          2090\n",
    "nombre_exposed        509\n",
    "nombre_recovered    16436\n",
    "Name: 508, dtype: int64"
   ]
  },
  {
   "cell_type": "markdown",
   "id": "1428f761",
   "metadata": {},
   "source": [
    "nombre_infected       955\n",
    "nombre_sain          2086\n",
    "nombre_exposed        519\n",
    "nombre_recovered    16440\n",
    "Name: 509, dtype: int64"
   ]
  },
  {
   "cell_type": "markdown",
   "id": "9d489bdb",
   "metadata": {},
   "source": [
    "nombre_infected       967\n",
    "nombre_sain          2107\n",
    "nombre_exposed        516\n",
    "nombre_recovered    16410\n",
    "Name: 510, dtype: int64"
   ]
  },
  {
   "cell_type": "markdown",
   "id": "24905757",
   "metadata": {},
   "source": [
    "nombre_infected       964\n",
    "nombre_sain          2118\n",
    "nombre_exposed        531\n",
    "nombre_recovered    16387\n",
    "Name: 511, dtype: int64"
   ]
  },
  {
   "cell_type": "markdown",
   "id": "689ba406",
   "metadata": {},
   "source": [
    "nombre_infected       972\n",
    "nombre_sain          2095\n",
    "nombre_exposed        531\n",
    "nombre_recovered    16402\n",
    "Name: 512, dtype: int64"
   ]
  },
  {
   "cell_type": "markdown",
   "id": "10365142",
   "metadata": {},
   "source": [
    "nombre_infected       973\n",
    "nombre_sain          2094\n",
    "nombre_exposed        523\n",
    "nombre_recovered    16410\n",
    "Name: 513, dtype: int64"
   ]
  },
  {
   "cell_type": "markdown",
   "id": "67dcbb37",
   "metadata": {},
   "source": [
    "nombre_infected       975\n",
    "nombre_sain          2064\n",
    "nombre_exposed        557\n",
    "nombre_recovered    16404\n",
    "Name: 514, dtype: int64"
   ]
  },
  {
   "cell_type": "markdown",
   "id": "350ec836",
   "metadata": {},
   "source": [
    "nombre_infected       986\n",
    "nombre_sain          2079\n",
    "nombre_exposed        534\n",
    "nombre_recovered    16401\n",
    "Name: 515, dtype: int64"
   ]
  },
  {
   "cell_type": "markdown",
   "id": "e88ed953",
   "metadata": {},
   "source": [
    "nombre_infected       982\n",
    "nombre_sain          2094\n",
    "nombre_exposed        520\n",
    "nombre_recovered    16404\n",
    "Name: 516, dtype: int64"
   ]
  },
  {
   "cell_type": "markdown",
   "id": "02f90f95",
   "metadata": {},
   "source": [
    "nombre_infected       973\n",
    "nombre_sain          2053\n",
    "nombre_exposed        545\n",
    "nombre_recovered    16429\n",
    "Name: 517, dtype: int64"
   ]
  },
  {
   "cell_type": "markdown",
   "id": "2bda7b06",
   "metadata": {},
   "source": [
    "nombre_infected       970\n",
    "nombre_sain          2065\n",
    "nombre_exposed        539\n",
    "nombre_recovered    16426\n",
    "Name: 518, dtype: int64"
   ]
  },
  {
   "cell_type": "markdown",
   "id": "f028d7dd",
   "metadata": {},
   "source": [
    "nombre_infected       972\n",
    "nombre_sain          2040\n",
    "nombre_exposed        548\n",
    "nombre_recovered    16440\n",
    "Name: 519, dtype: int64"
   ]
  },
  {
   "cell_type": "markdown",
   "id": "86b6a59a",
   "metadata": {},
   "source": [
    "nombre_infected       944\n",
    "nombre_sain          2044\n",
    "nombre_exposed        543\n",
    "nombre_recovered    16469\n",
    "Name: 520, dtype: int64"
   ]
  },
  {
   "cell_type": "markdown",
   "id": "6dc1b1a9",
   "metadata": {},
   "source": [
    "nombre_infected       975\n",
    "nombre_sain          2029\n",
    "nombre_exposed        530\n",
    "nombre_recovered    16466\n",
    "Name: 521, dtype: int64"
   ]
  },
  {
   "cell_type": "markdown",
   "id": "7db94a36",
   "metadata": {},
   "source": [
    "nombre_infected       987\n",
    "nombre_sain          2007\n",
    "nombre_exposed        518\n",
    "nombre_recovered    16488\n",
    "Name: 522, dtype: int64"
   ]
  },
  {
   "cell_type": "markdown",
   "id": "af22c6c5",
   "metadata": {},
   "source": [
    "nombre_infected       976\n",
    "nombre_sain          1992\n",
    "nombre_exposed        517\n",
    "nombre_recovered    16515\n",
    "Name: 523, dtype: int64"
   ]
  },
  {
   "cell_type": "markdown",
   "id": "3e971e30",
   "metadata": {},
   "source": [
    "nombre_infected       991\n",
    "nombre_sain          1996\n",
    "nombre_exposed        489\n",
    "nombre_recovered    16524\n",
    "Name: 524, dtype: int64"
   ]
  },
  {
   "cell_type": "markdown",
   "id": "c3994755",
   "metadata": {},
   "source": [
    "nombre_infected       983\n",
    "nombre_sain          1980\n",
    "nombre_exposed        462\n",
    "nombre_recovered    16575\n",
    "Name: 525, dtype: int64"
   ]
  },
  {
   "cell_type": "markdown",
   "id": "cc98da70",
   "metadata": {},
   "source": [
    "nombre_infected       964\n",
    "nombre_sain          1995\n",
    "nombre_exposed        447\n",
    "nombre_recovered    16594\n",
    "Name: 526, dtype: int64"
   ]
  },
  {
   "cell_type": "markdown",
   "id": "358a694c",
   "metadata": {},
   "source": [
    "nombre_infected       929\n",
    "nombre_sain          2008\n",
    "nombre_exposed        445\n",
    "nombre_recovered    16618\n",
    "Name: 527, dtype: int64"
   ]
  },
  {
   "cell_type": "markdown",
   "id": "b8759c00",
   "metadata": {},
   "source": [
    "nombre_infected       898\n",
    "nombre_sain          1999\n",
    "nombre_exposed        457\n",
    "nombre_recovered    16646\n",
    "Name: 528, dtype: int64"
   ]
  },
  {
   "cell_type": "markdown",
   "id": "1084855f",
   "metadata": {},
   "source": [
    "nombre_infected       883\n",
    "nombre_sain          2037\n",
    "nombre_exposed        443\n",
    "nombre_recovered    16637\n",
    "Name: 529, dtype: int64"
   ]
  },
  {
   "cell_type": "markdown",
   "id": "2c454318",
   "metadata": {},
   "source": [
    "nombre_infected       886\n",
    "nombre_sain          2056\n",
    "nombre_exposed        423\n",
    "nombre_recovered    16635\n",
    "Name: 530, dtype: int64"
   ]
  },
  {
   "cell_type": "markdown",
   "id": "7ad9d9c3",
   "metadata": {},
   "source": [
    "nombre_infected       878\n",
    "nombre_sain          2068\n",
    "nombre_exposed        450\n",
    "nombre_recovered    16604\n",
    "Name: 531, dtype: int64"
   ]
  },
  {
   "cell_type": "markdown",
   "id": "6f079e8f",
   "metadata": {},
   "source": [
    "nombre_infected       860\n",
    "nombre_sain          2063\n",
    "nombre_exposed        466\n",
    "nombre_recovered    16611\n",
    "Name: 532, dtype: int64"
   ]
  },
  {
   "cell_type": "markdown",
   "id": "7e8baa36",
   "metadata": {},
   "source": [
    "nombre_infected       856\n",
    "nombre_sain          2087\n",
    "nombre_exposed        462\n",
    "nombre_recovered    16595\n",
    "Name: 533, dtype: int64"
   ]
  },
  {
   "cell_type": "markdown",
   "id": "66c6e48f",
   "metadata": {},
   "source": [
    "nombre_infected       855\n",
    "nombre_sain          2103\n",
    "nombre_exposed        437\n",
    "nombre_recovered    16605\n",
    "Name: 534, dtype: int64"
   ]
  },
  {
   "cell_type": "markdown",
   "id": "f6a2e4eb",
   "metadata": {},
   "source": [
    "nombre_infected       859\n",
    "nombre_sain          2109\n",
    "nombre_exposed        426\n",
    "nombre_recovered    16606\n",
    "Name: 535, dtype: int64"
   ]
  },
  {
   "cell_type": "markdown",
   "id": "04f997ae",
   "metadata": {},
   "source": [
    "nombre_infected       844\n",
    "nombre_sain          2113\n",
    "nombre_exposed        438\n",
    "nombre_recovered    16605\n",
    "Name: 536, dtype: int64"
   ]
  },
  {
   "cell_type": "markdown",
   "id": "f5512e95",
   "metadata": {},
   "source": [
    "nombre_infected       836\n",
    "nombre_sain          2142\n",
    "nombre_exposed        437\n",
    "nombre_recovered    16585\n",
    "Name: 537, dtype: int64"
   ]
  },
  {
   "cell_type": "markdown",
   "id": "2ccfab21",
   "metadata": {},
   "source": [
    "nombre_infected       824\n",
    "nombre_sain          2151\n",
    "nombre_exposed        426\n",
    "nombre_recovered    16599\n",
    "Name: 538, dtype: int64"
   ]
  },
  {
   "cell_type": "markdown",
   "id": "503dec81",
   "metadata": {},
   "source": [
    "nombre_infected       815\n",
    "nombre_sain          2135\n",
    "nombre_exposed        464\n",
    "nombre_recovered    16586\n",
    "Name: 539, dtype: int64"
   ]
  },
  {
   "cell_type": "markdown",
   "id": "10f2c90b",
   "metadata": {},
   "source": [
    "nombre_infected       803\n",
    "nombre_sain          2178\n",
    "nombre_exposed        464\n",
    "nombre_recovered    16555\n",
    "Name: 540, dtype: int64"
   ]
  },
  {
   "cell_type": "markdown",
   "id": "55beaf05",
   "metadata": {},
   "source": [
    "nombre_infected       831\n",
    "nombre_sain          2213\n",
    "nombre_exposed        427\n",
    "nombre_recovered    16529\n",
    "Name: 541, dtype: int64"
   ]
  },
  {
   "cell_type": "markdown",
   "id": "5d77d0db",
   "metadata": {},
   "source": [
    "nombre_infected       836\n",
    "nombre_sain          2216\n",
    "nombre_exposed        433\n",
    "nombre_recovered    16515\n",
    "Name: 542, dtype: int64"
   ]
  },
  {
   "cell_type": "markdown",
   "id": "af8325d2",
   "metadata": {},
   "source": [
    "nombre_infected       827\n",
    "nombre_sain          2241\n",
    "nombre_exposed        436\n",
    "nombre_recovered    16496\n",
    "Name: 543, dtype: int64"
   ]
  },
  {
   "cell_type": "markdown",
   "id": "208d99a3",
   "metadata": {},
   "source": [
    "nombre_infected       833\n",
    "nombre_sain          2237\n",
    "nombre_exposed        451\n",
    "nombre_recovered    16479\n",
    "Name: 544, dtype: int64"
   ]
  },
  {
   "cell_type": "markdown",
   "id": "036b5259",
   "metadata": {},
   "source": [
    "nombre_infected       844\n",
    "nombre_sain          2223\n",
    "nombre_exposed        469\n",
    "nombre_recovered    16464\n",
    "Name: 545, dtype: int64"
   ]
  },
  {
   "cell_type": "markdown",
   "id": "9441bc38",
   "metadata": {},
   "source": [
    "nombre_infected       861\n",
    "nombre_sain          2216\n",
    "nombre_exposed        478\n",
    "nombre_recovered    16445\n",
    "Name: 546, dtype: int64"
   ]
  },
  {
   "cell_type": "markdown",
   "id": "4f4c2ec0",
   "metadata": {},
   "source": [
    "nombre_infected       867\n",
    "nombre_sain          2215\n",
    "nombre_exposed        491\n",
    "nombre_recovered    16427\n",
    "Name: 547, dtype: int64"
   ]
  },
  {
   "cell_type": "markdown",
   "id": "42184a4c",
   "metadata": {},
   "source": [
    "nombre_infected       869\n",
    "nombre_sain          2219\n",
    "nombre_exposed        490\n",
    "nombre_recovered    16422\n",
    "Name: 548, dtype: int64"
   ]
  },
  {
   "cell_type": "markdown",
   "id": "c366c43b",
   "metadata": {},
   "source": [
    "nombre_infected       885\n",
    "nombre_sain          2232\n",
    "nombre_exposed        497\n",
    "nombre_recovered    16386\n",
    "Name: 549, dtype: int64"
   ]
  },
  {
   "cell_type": "markdown",
   "id": "9ac6f361",
   "metadata": {},
   "source": [
    "nombre_infected       886\n",
    "nombre_sain          2216\n",
    "nombre_exposed        510\n",
    "nombre_recovered    16388\n",
    "Name: 550, dtype: int64"
   ]
  },
  {
   "cell_type": "markdown",
   "id": "89c2c6d2",
   "metadata": {},
   "source": [
    "nombre_infected       882\n",
    "nombre_sain          2236\n",
    "nombre_exposed        516\n",
    "nombre_recovered    16366\n",
    "Name: 551, dtype: int64"
   ]
  },
  {
   "cell_type": "markdown",
   "id": "29ea6571",
   "metadata": {},
   "source": [
    "nombre_infected       882\n",
    "nombre_sain          2236\n",
    "nombre_exposed        529\n",
    "nombre_recovered    16353\n",
    "Name: 552, dtype: int64"
   ]
  },
  {
   "cell_type": "markdown",
   "id": "68658398",
   "metadata": {},
   "source": [
    "nombre_infected       876\n",
    "nombre_sain          2247\n",
    "nombre_exposed        530\n",
    "nombre_recovered    16347\n",
    "Name: 553, dtype: int64"
   ]
  },
  {
   "cell_type": "markdown",
   "id": "795c29ef",
   "metadata": {},
   "source": [
    "nombre_infected       897\n",
    "nombre_sain          2244\n",
    "nombre_exposed        539\n",
    "nombre_recovered    16320\n",
    "Name: 554, dtype: int64"
   ]
  },
  {
   "cell_type": "markdown",
   "id": "c25ad2a7",
   "metadata": {},
   "source": [
    "nombre_infected       914\n",
    "nombre_sain          2232\n",
    "nombre_exposed        551\n",
    "nombre_recovered    16303\n",
    "Name: 555, dtype: int64"
   ]
  },
  {
   "cell_type": "markdown",
   "id": "a78e1cbc",
   "metadata": {},
   "source": [
    "nombre_infected       915\n",
    "nombre_sain          2232\n",
    "nombre_exposed        554\n",
    "nombre_recovered    16299\n",
    "Name: 556, dtype: int64"
   ]
  },
  {
   "cell_type": "markdown",
   "id": "83ec7454",
   "metadata": {},
   "source": [
    "nombre_infected       925\n",
    "nombre_sain          2204\n",
    "nombre_exposed        561\n",
    "nombre_recovered    16310\n",
    "Name: 557, dtype: int64"
   ]
  },
  {
   "cell_type": "markdown",
   "id": "4a6c5101",
   "metadata": {},
   "source": [
    "nombre_infected       942\n",
    "nombre_sain          2188\n",
    "nombre_exposed        544\n",
    "nombre_recovered    16326\n",
    "Name: 558, dtype: int64"
   ]
  },
  {
   "cell_type": "markdown",
   "id": "955e5c29",
   "metadata": {},
   "source": [
    "nombre_infected       963\n",
    "nombre_sain          2168\n",
    "nombre_exposed        548\n",
    "nombre_recovered    16321\n",
    "Name: 559, dtype: int64"
   ]
  },
  {
   "cell_type": "markdown",
   "id": "9b2ee831",
   "metadata": {},
   "source": [
    "nombre_infected       981\n",
    "nombre_sain          2147\n",
    "nombre_exposed        548\n",
    "nombre_recovered    16324\n",
    "Name: 560, dtype: int64"
   ]
  },
  {
   "cell_type": "markdown",
   "id": "6f155c1b",
   "metadata": {},
   "source": [
    "nombre_infected       978\n",
    "nombre_sain          2135\n",
    "nombre_exposed        540\n",
    "nombre_recovered    16347\n",
    "Name: 561, dtype: int64"
   ]
  },
  {
   "cell_type": "markdown",
   "id": "5d5da9fd",
   "metadata": {},
   "source": [
    "nombre_infected      1006\n",
    "nombre_sain          2141\n",
    "nombre_exposed        520\n",
    "nombre_recovered    16333\n",
    "Name: 562, dtype: int64"
   ]
  },
  {
   "cell_type": "markdown",
   "id": "917dfd62",
   "metadata": {},
   "source": [
    "nombre_infected       996\n",
    "nombre_sain          2102\n",
    "nombre_exposed        555\n",
    "nombre_recovered    16347\n",
    "Name: 563, dtype: int64"
   ]
  },
  {
   "cell_type": "markdown",
   "id": "27477b90",
   "metadata": {},
   "source": [
    "nombre_infected       993\n",
    "nombre_sain          2106\n",
    "nombre_exposed        549\n",
    "nombre_recovered    16352\n",
    "Name: 564, dtype: int64"
   ]
  },
  {
   "cell_type": "markdown",
   "id": "d33d9d4f",
   "metadata": {},
   "source": [
    "nombre_infected       993\n",
    "nombre_sain          2121\n",
    "nombre_exposed        553\n",
    "nombre_recovered    16333\n",
    "Name: 565, dtype: int64"
   ]
  },
  {
   "cell_type": "markdown",
   "id": "c7069f21",
   "metadata": {},
   "source": [
    "nombre_infected      1021\n",
    "nombre_sain          2108\n",
    "nombre_exposed        556\n",
    "nombre_recovered    16315\n",
    "Name: 566, dtype: int64"
   ]
  },
  {
   "cell_type": "markdown",
   "id": "34aa77b4",
   "metadata": {},
   "source": [
    "nombre_infected      1052\n",
    "nombre_sain          2078\n",
    "nombre_exposed        565\n",
    "nombre_recovered    16305\n",
    "Name: 567, dtype: int64"
   ]
  },
  {
   "cell_type": "markdown",
   "id": "81217591",
   "metadata": {},
   "source": [
    "nombre_infected      1047\n",
    "nombre_sain          2087\n",
    "nombre_exposed        567\n",
    "nombre_recovered    16299\n",
    "Name: 568, dtype: int64"
   ]
  },
  {
   "cell_type": "markdown",
   "id": "d91eb75a",
   "metadata": {},
   "source": [
    "nombre_infected      1066\n",
    "nombre_sain          2071\n",
    "nombre_exposed        562\n",
    "nombre_recovered    16301\n",
    "Name: 569, dtype: int64"
   ]
  },
  {
   "cell_type": "markdown",
   "id": "6c1aa7f6",
   "metadata": {},
   "source": [
    "nombre_infected      1072\n",
    "nombre_sain          2048\n",
    "nombre_exposed        559\n",
    "nombre_recovered    16321\n",
    "Name: 570, dtype: int64"
   ]
  },
  {
   "cell_type": "markdown",
   "id": "ab8da0ea",
   "metadata": {},
   "source": [
    "nombre_infected      1078\n",
    "nombre_sain          2063\n",
    "nombre_exposed        560\n",
    "nombre_recovered    16299\n",
    "Name: 571, dtype: int64"
   ]
  },
  {
   "cell_type": "markdown",
   "id": "d76c76c8",
   "metadata": {},
   "source": [
    "nombre_infected      1090\n",
    "nombre_sain          2069\n",
    "nombre_exposed        539\n",
    "nombre_recovered    16302\n",
    "Name: 572, dtype: int64"
   ]
  },
  {
   "cell_type": "markdown",
   "id": "b2be1aa5",
   "metadata": {},
   "source": [
    "nombre_infected      1090\n",
    "nombre_sain          2063\n",
    "nombre_exposed        538\n",
    "nombre_recovered    16309\n",
    "Name: 573, dtype: int64"
   ]
  },
  {
   "cell_type": "markdown",
   "id": "2cb488b0",
   "metadata": {},
   "source": [
    "nombre_infected      1098\n",
    "nombre_sain          2040\n",
    "nombre_exposed        544\n",
    "nombre_recovered    16318\n",
    "Name: 574, dtype: int64"
   ]
  },
  {
   "cell_type": "markdown",
   "id": "17042d1c",
   "metadata": {},
   "source": [
    "nombre_infected      1054\n",
    "nombre_sain          2031\n",
    "nombre_exposed        573\n",
    "nombre_recovered    16342\n",
    "Name: 575, dtype: int64"
   ]
  },
  {
   "cell_type": "markdown",
   "id": "cf889a0c",
   "metadata": {},
   "source": [
    "nombre_infected      1024\n",
    "nombre_sain          2038\n",
    "nombre_exposed        570\n",
    "nombre_recovered    16368\n",
    "Name: 576, dtype: int64"
   ]
  },
  {
   "cell_type": "markdown",
   "id": "40ce4bfb",
   "metadata": {},
   "source": [
    "nombre_infected      1034\n",
    "nombre_sain          2005\n",
    "nombre_exposed        571\n",
    "nombre_recovered    16390\n",
    "Name: 577, dtype: int64"
   ]
  },
  {
   "cell_type": "markdown",
   "id": "491413d7",
   "metadata": {},
   "source": [
    "nombre_infected      1048\n",
    "nombre_sain          2026\n",
    "nombre_exposed        559\n",
    "nombre_recovered    16367\n",
    "Name: 578, dtype: int64"
   ]
  },
  {
   "cell_type": "markdown",
   "id": "01883259",
   "metadata": {},
   "source": [
    "nombre_infected      1067\n",
    "nombre_sain          2028\n",
    "nombre_exposed        544\n",
    "nombre_recovered    16361\n",
    "Name: 579, dtype: int64"
   ]
  },
  {
   "cell_type": "markdown",
   "id": "050ca269",
   "metadata": {},
   "source": [
    "nombre_infected      1059\n",
    "nombre_sain          2037\n",
    "nombre_exposed        526\n",
    "nombre_recovered    16378\n",
    "Name: 580, dtype: int64"
   ]
  },
  {
   "cell_type": "markdown",
   "id": "2a81f91e",
   "metadata": {},
   "source": [
    "nombre_infected      1042\n",
    "nombre_sain          2038\n",
    "nombre_exposed        525\n",
    "nombre_recovered    16395\n",
    "Name: 581, dtype: int64"
   ]
  },
  {
   "cell_type": "markdown",
   "id": "44a5cf01",
   "metadata": {},
   "source": [
    "nombre_infected      1031\n",
    "nombre_sain          2046\n",
    "nombre_exposed        533\n",
    "nombre_recovered    16390\n",
    "Name: 582, dtype: int64"
   ]
  },
  {
   "cell_type": "markdown",
   "id": "bc9bd1f2",
   "metadata": {},
   "source": [
    "nombre_infected      1002\n",
    "nombre_sain          2060\n",
    "nombre_exposed        537\n",
    "nombre_recovered    16401\n",
    "Name: 583, dtype: int64"
   ]
  },
  {
   "cell_type": "markdown",
   "id": "07d1f77c",
   "metadata": {},
   "source": [
    "nombre_infected       990\n",
    "nombre_sain          2044\n",
    "nombre_exposed        543\n",
    "nombre_recovered    16423\n",
    "Name: 584, dtype: int64"
   ]
  },
  {
   "cell_type": "markdown",
   "id": "293ed03d",
   "metadata": {},
   "source": [
    "nombre_infected       983\n",
    "nombre_sain          2036\n",
    "nombre_exposed        553\n",
    "nombre_recovered    16428\n",
    "Name: 585, dtype: int64"
   ]
  },
  {
   "cell_type": "markdown",
   "id": "8e24514b",
   "metadata": {},
   "source": [
    "nombre_infected       970\n",
    "nombre_sain          2044\n",
    "nombre_exposed        535\n",
    "nombre_recovered    16451\n",
    "Name: 586, dtype: int64"
   ]
  },
  {
   "cell_type": "markdown",
   "id": "d8b40ddf",
   "metadata": {},
   "source": [
    "nombre_infected       992\n",
    "nombre_sain          2053\n",
    "nombre_exposed        516\n",
    "nombre_recovered    16439\n",
    "Name: 587, dtype: int64"
   ]
  },
  {
   "cell_type": "markdown",
   "id": "c7fa88eb",
   "metadata": {},
   "source": [
    "nombre_infected       990\n",
    "nombre_sain          2048\n",
    "nombre_exposed        513\n",
    "nombre_recovered    16449\n",
    "Name: 588, dtype: int64"
   ]
  },
  {
   "cell_type": "markdown",
   "id": "a9f105f8",
   "metadata": {},
   "source": [
    "nombre_infected       995\n",
    "nombre_sain          2075\n",
    "nombre_exposed        525\n",
    "nombre_recovered    16405\n",
    "Name: 589, dtype: int64"
   ]
  },
  {
   "cell_type": "markdown",
   "id": "9b3a9dff",
   "metadata": {},
   "source": [
    "nombre_infected       977\n",
    "nombre_sain          2072\n",
    "nombre_exposed        518\n",
    "nombre_recovered    16433\n",
    "Name: 590, dtype: int64"
   ]
  },
  {
   "cell_type": "markdown",
   "id": "e6738930",
   "metadata": {},
   "source": [
    "nombre_infected       990\n",
    "nombre_sain          2087\n",
    "nombre_exposed        522\n",
    "nombre_recovered    16401\n",
    "Name: 591, dtype: int64"
   ]
  },
  {
   "cell_type": "markdown",
   "id": "1a768b98",
   "metadata": {},
   "source": [
    "nombre_infected       985\n",
    "nombre_sain          2089\n",
    "nombre_exposed        514\n",
    "nombre_recovered    16412\n",
    "Name: 592, dtype: int64"
   ]
  },
  {
   "cell_type": "markdown",
   "id": "94fb0e0d",
   "metadata": {},
   "source": [
    "nombre_infected       985\n",
    "nombre_sain          2091\n",
    "nombre_exposed        500\n",
    "nombre_recovered    16424\n",
    "Name: 593, dtype: int64"
   ]
  },
  {
   "cell_type": "markdown",
   "id": "e760f841",
   "metadata": {},
   "source": [
    "nombre_infected      1004\n",
    "nombre_sain          2089\n",
    "nombre_exposed        505\n",
    "nombre_recovered    16402\n",
    "Name: 594, dtype: int64"
   ]
  },
  {
   "cell_type": "markdown",
   "id": "218747d3",
   "metadata": {},
   "source": [
    "nombre_infected       998\n",
    "nombre_sain          2066\n",
    "nombre_exposed        524\n",
    "nombre_recovered    16412\n",
    "Name: 595, dtype: int64"
   ]
  },
  {
   "cell_type": "markdown",
   "id": "93749c1b",
   "metadata": {},
   "source": [
    "nombre_infected       984\n",
    "nombre_sain          2081\n",
    "nombre_exposed        534\n",
    "nombre_recovered    16401\n",
    "Name: 596, dtype: int64"
   ]
  },
  {
   "cell_type": "markdown",
   "id": "ccec472a",
   "metadata": {},
   "source": [
    "nombre_infected       970\n",
    "nombre_sain          2066\n",
    "nombre_exposed        541\n",
    "nombre_recovered    16423\n",
    "Name: 597, dtype: int64"
   ]
  },
  {
   "cell_type": "markdown",
   "id": "ed04e6c0",
   "metadata": {},
   "source": [
    "nombre_infected       982\n",
    "nombre_sain          2050\n",
    "nombre_exposed        531\n",
    "nombre_recovered    16437\n",
    "Name: 598, dtype: int64"
   ]
  },
  {
   "cell_type": "markdown",
   "id": "01f0997d",
   "metadata": {},
   "source": [
    "nombre_infected       979\n",
    "nombre_sain          2048\n",
    "nombre_exposed        535\n",
    "nombre_recovered    16438\n",
    "Name: 599, dtype: int64"
   ]
  },
  {
   "cell_type": "markdown",
   "id": "483bb5f1",
   "metadata": {},
   "source": [
    "nombre_infected       962\n",
    "nombre_sain          2018\n",
    "nombre_exposed        576\n",
    "nombre_recovered    16444\n",
    "Name: 600, dtype: int64"
   ]
  },
  {
   "cell_type": "markdown",
   "id": "7fe09995",
   "metadata": {},
   "source": [
    "nombre_infected       974\n",
    "nombre_sain          2026\n",
    "nombre_exposed        555\n",
    "nombre_recovered    16445\n",
    "Name: 601, dtype: int64"
   ]
  },
  {
   "cell_type": "markdown",
   "id": "5d6930f5",
   "metadata": {},
   "source": [
    "nombre_infected       987\n",
    "nombre_sain          2015\n",
    "nombre_exposed        550\n",
    "nombre_recovered    16448\n",
    "Name: 602, dtype: int64"
   ]
  },
  {
   "cell_type": "markdown",
   "id": "6f799dbc",
   "metadata": {},
   "source": [
    "nombre_infected       999\n",
    "nombre_sain          2013\n",
    "nombre_exposed        527\n",
    "nombre_recovered    16461\n",
    "Name: 603, dtype: int64"
   ]
  },
  {
   "cell_type": "markdown",
   "id": "1e092f55",
   "metadata": {},
   "source": [
    "nombre_infected       989\n",
    "nombre_sain          2031\n",
    "nombre_exposed        516\n",
    "nombre_recovered    16464\n",
    "Name: 604, dtype: int64"
   ]
  },
  {
   "cell_type": "markdown",
   "id": "98856c93",
   "metadata": {},
   "source": [
    "nombre_infected       970\n",
    "nombre_sain          2032\n",
    "nombre_exposed        523\n",
    "nombre_recovered    16475\n",
    "Name: 605, dtype: int64"
   ]
  },
  {
   "cell_type": "markdown",
   "id": "eaee7b43",
   "metadata": {},
   "source": [
    "nombre_infected       970\n",
    "nombre_sain          2020\n",
    "nombre_exposed        521\n",
    "nombre_recovered    16489\n",
    "Name: 606, dtype: int64"
   ]
  },
  {
   "cell_type": "markdown",
   "id": "d568ed5d",
   "metadata": {},
   "source": [
    "nombre_infected       964\n",
    "nombre_sain          2029\n",
    "nombre_exposed        505\n",
    "nombre_recovered    16502\n",
    "Name: 607, dtype: int64"
   ]
  },
  {
   "cell_type": "markdown",
   "id": "45343807",
   "metadata": {},
   "source": [
    "nombre_infected       977\n",
    "nombre_sain          2014\n",
    "nombre_exposed        509\n",
    "nombre_recovered    16500\n",
    "Name: 608, dtype: int64"
   ]
  },
  {
   "cell_type": "markdown",
   "id": "5f4130cb",
   "metadata": {},
   "source": [
    "nombre_infected       963\n",
    "nombre_sain          2022\n",
    "nombre_exposed        518\n",
    "nombre_recovered    16497\n",
    "Name: 609, dtype: int64"
   ]
  },
  {
   "cell_type": "markdown",
   "id": "f641fa77",
   "metadata": {},
   "source": [
    "nombre_infected       951\n",
    "nombre_sain          1997\n",
    "nombre_exposed        545\n",
    "nombre_recovered    16507\n",
    "Name: 610, dtype: int64"
   ]
  },
  {
   "cell_type": "markdown",
   "id": "7bc5072e",
   "metadata": {},
   "source": [
    "nombre_infected       980\n",
    "nombre_sain          1985\n",
    "nombre_exposed        535\n",
    "nombre_recovered    16500\n",
    "Name: 611, dtype: int64"
   ]
  },
  {
   "cell_type": "markdown",
   "id": "878f8ee8",
   "metadata": {},
   "source": [
    "nombre_infected       998\n",
    "nombre_sain          1993\n",
    "nombre_exposed        527\n",
    "nombre_recovered    16482\n",
    "Name: 612, dtype: int64"
   ]
  },
  {
   "cell_type": "markdown",
   "id": "b8f378d0",
   "metadata": {},
   "source": [
    "nombre_infected       982\n",
    "nombre_sain          1998\n",
    "nombre_exposed        514\n",
    "nombre_recovered    16506\n",
    "Name: 613, dtype: int64"
   ]
  },
  {
   "cell_type": "markdown",
   "id": "d6ee3ea6",
   "metadata": {},
   "source": [
    "nombre_infected       969\n",
    "nombre_sain          1999\n",
    "nombre_exposed        503\n",
    "nombre_recovered    16529\n",
    "Name: 614, dtype: int64"
   ]
  },
  {
   "cell_type": "markdown",
   "id": "eaaf50a1",
   "metadata": {},
   "source": [
    "nombre_infected       959\n",
    "nombre_sain          2016\n",
    "nombre_exposed        499\n",
    "nombre_recovered    16526\n",
    "Name: 615, dtype: int64"
   ]
  },
  {
   "cell_type": "markdown",
   "id": "7313784f",
   "metadata": {},
   "source": [
    "nombre_infected       978\n",
    "nombre_sain          2027\n",
    "nombre_exposed        495\n",
    "nombre_recovered    16500\n",
    "Name: 616, dtype: int64"
   ]
  },
  {
   "cell_type": "markdown",
   "id": "3ed4f039",
   "metadata": {},
   "source": [
    "nombre_infected       945\n",
    "nombre_sain          2029\n",
    "nombre_exposed        502\n",
    "nombre_recovered    16524\n",
    "Name: 617, dtype: int64"
   ]
  },
  {
   "cell_type": "markdown",
   "id": "b7e79705",
   "metadata": {},
   "source": [
    "nombre_infected       917\n",
    "nombre_sain          2025\n",
    "nombre_exposed        515\n",
    "nombre_recovered    16543\n",
    "Name: 618, dtype: int64"
   ]
  },
  {
   "cell_type": "markdown",
   "id": "48408969",
   "metadata": {},
   "source": [
    "nombre_infected       911\n",
    "nombre_sain          2036\n",
    "nombre_exposed        509\n",
    "nombre_recovered    16544\n",
    "Name: 619, dtype: int64"
   ]
  },
  {
   "cell_type": "markdown",
   "id": "3336aa53",
   "metadata": {},
   "source": [
    "nombre_infected       922\n",
    "nombre_sain          2051\n",
    "nombre_exposed        507\n",
    "nombre_recovered    16520\n",
    "Name: 620, dtype: int64"
   ]
  },
  {
   "cell_type": "markdown",
   "id": "abfe33bd",
   "metadata": {},
   "source": [
    "nombre_infected       929\n",
    "nombre_sain          2056\n",
    "nombre_exposed        500\n",
    "nombre_recovered    16515\n",
    "Name: 621, dtype: int64"
   ]
  },
  {
   "cell_type": "markdown",
   "id": "d15e5392",
   "metadata": {},
   "source": [
    "nombre_infected       928\n",
    "nombre_sain          2007\n",
    "nombre_exposed        526\n",
    "nombre_recovered    16539\n",
    "Name: 622, dtype: int64"
   ]
  },
  {
   "cell_type": "markdown",
   "id": "84afcc5a",
   "metadata": {},
   "source": [
    "nombre_infected       903\n",
    "nombre_sain          2015\n",
    "nombre_exposed        543\n",
    "nombre_recovered    16539\n",
    "Name: 623, dtype: int64"
   ]
  },
  {
   "cell_type": "markdown",
   "id": "8c895fd1",
   "metadata": {},
   "source": [
    "nombre_infected       893\n",
    "nombre_sain          2017\n",
    "nombre_exposed        545\n",
    "nombre_recovered    16545\n",
    "Name: 624, dtype: int64"
   ]
  },
  {
   "cell_type": "markdown",
   "id": "1baf852b",
   "metadata": {},
   "source": [
    "nombre_infected       891\n",
    "nombre_sain          2039\n",
    "nombre_exposed        524\n",
    "nombre_recovered    16546\n",
    "Name: 625, dtype: int64"
   ]
  },
  {
   "cell_type": "markdown",
   "id": "0673b9dd",
   "metadata": {},
   "source": [
    "nombre_infected       901\n",
    "nombre_sain          2028\n",
    "nombre_exposed        513\n",
    "nombre_recovered    16558\n",
    "Name: 626, dtype: int64"
   ]
  },
  {
   "cell_type": "markdown",
   "id": "e8e99c4b",
   "metadata": {},
   "source": [
    "nombre_infected       911\n",
    "nombre_sain          2057\n",
    "nombre_exposed        502\n",
    "nombre_recovered    16530\n",
    "Name: 627, dtype: int64"
   ]
  },
  {
   "cell_type": "markdown",
   "id": "612c8652",
   "metadata": {},
   "source": [
    "nombre_infected       926\n",
    "nombre_sain          2076\n",
    "nombre_exposed        496\n",
    "nombre_recovered    16502\n",
    "Name: 628, dtype: int64"
   ]
  },
  {
   "cell_type": "markdown",
   "id": "043d68e6",
   "metadata": {},
   "source": [
    "nombre_infected       933\n",
    "nombre_sain          2056\n",
    "nombre_exposed        504\n",
    "nombre_recovered    16507\n",
    "Name: 629, dtype: int64"
   ]
  },
  {
   "cell_type": "markdown",
   "id": "dc9ccb9b",
   "metadata": {},
   "source": [
    "nombre_infected       904\n",
    "nombre_sain          2067\n",
    "nombre_exposed        506\n",
    "nombre_recovered    16523\n",
    "Name: 630, dtype: int64"
   ]
  },
  {
   "cell_type": "markdown",
   "id": "1aa97aec",
   "metadata": {},
   "source": [
    "nombre_infected       905\n",
    "nombre_sain          2103\n",
    "nombre_exposed        492\n",
    "nombre_recovered    16500\n",
    "Name: 631, dtype: int64"
   ]
  },
  {
   "cell_type": "markdown",
   "id": "9f1d0599",
   "metadata": {},
   "source": [
    "nombre_infected       910\n",
    "nombre_sain          2101\n",
    "nombre_exposed        501\n",
    "nombre_recovered    16488\n",
    "Name: 632, dtype: int64"
   ]
  },
  {
   "cell_type": "markdown",
   "id": "3925000b",
   "metadata": {},
   "source": [
    "nombre_infected       911\n",
    "nombre_sain          2096\n",
    "nombre_exposed        513\n",
    "nombre_recovered    16480\n",
    "Name: 633, dtype: int64"
   ]
  },
  {
   "cell_type": "markdown",
   "id": "8dc4fe7f",
   "metadata": {},
   "source": [
    "nombre_infected       911\n",
    "nombre_sain          2092\n",
    "nombre_exposed        535\n",
    "nombre_recovered    16462\n",
    "Name: 634, dtype: int64"
   ]
  },
  {
   "cell_type": "markdown",
   "id": "934fb85a",
   "metadata": {},
   "source": [
    "nombre_infected       905\n",
    "nombre_sain          2104\n",
    "nombre_exposed        553\n",
    "nombre_recovered    16438\n",
    "Name: 635, dtype: int64"
   ]
  },
  {
   "cell_type": "markdown",
   "id": "c7c1a55f",
   "metadata": {},
   "source": [
    "nombre_infected       892\n",
    "nombre_sain          2127\n",
    "nombre_exposed        545\n",
    "nombre_recovered    16436\n",
    "Name: 636, dtype: int64"
   ]
  },
  {
   "cell_type": "markdown",
   "id": "056a6ad8",
   "metadata": {},
   "source": [
    "nombre_infected       895\n",
    "nombre_sain          2128\n",
    "nombre_exposed        527\n",
    "nombre_recovered    16450\n",
    "Name: 637, dtype: int64"
   ]
  },
  {
   "cell_type": "markdown",
   "id": "f05955eb",
   "metadata": {},
   "source": [
    "nombre_infected       891\n",
    "nombre_sain          2143\n",
    "nombre_exposed        526\n",
    "nombre_recovered    16440\n",
    "Name: 638, dtype: int64"
   ]
  },
  {
   "cell_type": "markdown",
   "id": "3b5bc4dc",
   "metadata": {},
   "source": [
    "nombre_infected       911\n",
    "nombre_sain          2162\n",
    "nombre_exposed        507\n",
    "nombre_recovered    16420\n",
    "Name: 639, dtype: int64"
   ]
  },
  {
   "cell_type": "markdown",
   "id": "5b148a6a",
   "metadata": {},
   "source": [
    "nombre_infected       919\n",
    "nombre_sain          2187\n",
    "nombre_exposed        494\n",
    "nombre_recovered    16400\n",
    "Name: 640, dtype: int64"
   ]
  },
  {
   "cell_type": "markdown",
   "id": "7f5a4a10",
   "metadata": {},
   "source": [
    "nombre_infected       936\n",
    "nombre_sain          2173\n",
    "nombre_exposed        493\n",
    "nombre_recovered    16398\n",
    "Name: 641, dtype: int64"
   ]
  },
  {
   "cell_type": "markdown",
   "id": "eb9a748c",
   "metadata": {},
   "source": [
    "nombre_infected       945\n",
    "nombre_sain          2166\n",
    "nombre_exposed        507\n",
    "nombre_recovered    16382\n",
    "Name: 642, dtype: int64"
   ]
  },
  {
   "cell_type": "markdown",
   "id": "9e313be8",
   "metadata": {},
   "source": [
    "nombre_infected       945\n",
    "nombre_sain          2174\n",
    "nombre_exposed        538\n",
    "nombre_recovered    16343\n",
    "Name: 643, dtype: int64"
   ]
  },
  {
   "cell_type": "markdown",
   "id": "8e95f6f7",
   "metadata": {},
   "source": [
    "nombre_infected       958\n",
    "nombre_sain          2196\n",
    "nombre_exposed        521\n",
    "nombre_recovered    16325\n",
    "Name: 644, dtype: int64"
   ]
  },
  {
   "cell_type": "markdown",
   "id": "6e94d3da",
   "metadata": {},
   "source": [
    "nombre_infected       955\n",
    "nombre_sain          2171\n",
    "nombre_exposed        536\n",
    "nombre_recovered    16338\n",
    "Name: 645, dtype: int64"
   ]
  },
  {
   "cell_type": "markdown",
   "id": "3e654cd5",
   "metadata": {},
   "source": [
    "nombre_infected       965\n",
    "nombre_sain          2150\n",
    "nombre_exposed        539\n",
    "nombre_recovered    16346\n",
    "Name: 646, dtype: int64"
   ]
  },
  {
   "cell_type": "markdown",
   "id": "2bfdec05",
   "metadata": {},
   "source": [
    "nombre_infected       965\n",
    "nombre_sain          2142\n",
    "nombre_exposed        540\n",
    "nombre_recovered    16353\n",
    "Name: 647, dtype: int64"
   ]
  },
  {
   "cell_type": "markdown",
   "id": "320b4845",
   "metadata": {},
   "source": [
    "nombre_infected       975\n",
    "nombre_sain          2140\n",
    "nombre_exposed        525\n",
    "nombre_recovered    16360\n",
    "Name: 648, dtype: int64"
   ]
  },
  {
   "cell_type": "markdown",
   "id": "8db81a24",
   "metadata": {},
   "source": [
    "nombre_infected      1006\n",
    "nombre_sain          2143\n",
    "nombre_exposed        508\n",
    "nombre_recovered    16343\n",
    "Name: 649, dtype: int64"
   ]
  },
  {
   "cell_type": "markdown",
   "id": "bde9f8d1",
   "metadata": {},
   "source": [
    "nombre_infected       997\n",
    "nombre_sain          2155\n",
    "nombre_exposed        528\n",
    "nombre_recovered    16320\n",
    "Name: 650, dtype: int64"
   ]
  },
  {
   "cell_type": "markdown",
   "id": "69dbe5f1",
   "metadata": {},
   "source": [
    "nombre_infected       989\n",
    "nombre_sain          2162\n",
    "nombre_exposed        541\n",
    "nombre_recovered    16308\n",
    "Name: 651, dtype: int64"
   ]
  },
  {
   "cell_type": "markdown",
   "id": "e38006fe",
   "metadata": {},
   "source": [
    "nombre_infected      1015\n",
    "nombre_sain          2176\n",
    "nombre_exposed        527\n",
    "nombre_recovered    16282\n",
    "Name: 652, dtype: int64"
   ]
  },
  {
   "cell_type": "markdown",
   "id": "79194eca",
   "metadata": {},
   "source": [
    "nombre_infected       994\n",
    "nombre_sain          2174\n",
    "nombre_exposed        546\n",
    "nombre_recovered    16286\n",
    "Name: 653, dtype: int64"
   ]
  },
  {
   "cell_type": "markdown",
   "id": "ae9f95fd",
   "metadata": {},
   "source": [
    "nombre_infected       990\n",
    "nombre_sain          2200\n",
    "nombre_exposed        548\n",
    "nombre_recovered    16262\n",
    "Name: 654, dtype: int64"
   ]
  },
  {
   "cell_type": "markdown",
   "id": "beec0405",
   "metadata": {},
   "source": [
    "nombre_infected      1014\n",
    "nombre_sain          2180\n",
    "nombre_exposed        549\n",
    "nombre_recovered    16257\n",
    "Name: 655, dtype: int64"
   ]
  },
  {
   "cell_type": "markdown",
   "id": "70e21e97",
   "metadata": {},
   "source": [
    "nombre_infected      1024\n",
    "nombre_sain          2208\n",
    "nombre_exposed        542\n",
    "nombre_recovered    16226\n",
    "Name: 656, dtype: int64"
   ]
  },
  {
   "cell_type": "markdown",
   "id": "a24c539c",
   "metadata": {},
   "source": [
    "nombre_infected      1014\n",
    "nombre_sain          2179\n",
    "nombre_exposed        582\n",
    "nombre_recovered    16225\n",
    "Name: 657, dtype: int64"
   ]
  },
  {
   "cell_type": "markdown",
   "id": "23a7c643",
   "metadata": {},
   "source": [
    "nombre_infected      1015\n",
    "nombre_sain          2189\n",
    "nombre_exposed        580\n",
    "nombre_recovered    16216\n",
    "Name: 658, dtype: int64"
   ]
  },
  {
   "cell_type": "markdown",
   "id": "82276070",
   "metadata": {},
   "source": [
    "nombre_infected      1032\n",
    "nombre_sain          2177\n",
    "nombre_exposed        585\n",
    "nombre_recovered    16206\n",
    "Name: 659, dtype: int64"
   ]
  },
  {
   "cell_type": "markdown",
   "id": "a1de3eb5",
   "metadata": {},
   "source": [
    "nombre_infected      1030\n",
    "nombre_sain          2161\n",
    "nombre_exposed        590\n",
    "nombre_recovered    16219\n",
    "Name: 660, dtype: int64"
   ]
  },
  {
   "cell_type": "markdown",
   "id": "67641f7d",
   "metadata": {},
   "source": [
    "nombre_infected      1016\n",
    "nombre_sain          2165\n",
    "nombre_exposed        593\n",
    "nombre_recovered    16226\n",
    "Name: 661, dtype: int64"
   ]
  },
  {
   "cell_type": "markdown",
   "id": "93adfc31",
   "metadata": {},
   "source": [
    "nombre_infected      1041\n",
    "nombre_sain          2144\n",
    "nombre_exposed        611\n",
    "nombre_recovered    16204\n",
    "Name: 662, dtype: int64"
   ]
  },
  {
   "cell_type": "markdown",
   "id": "3f10e67e",
   "metadata": {},
   "source": [
    "nombre_infected      1031\n",
    "nombre_sain          2131\n",
    "nombre_exposed        633\n",
    "nombre_recovered    16205\n",
    "Name: 663, dtype: int64"
   ]
  },
  {
   "cell_type": "markdown",
   "id": "5d5c8378",
   "metadata": {},
   "source": [
    "nombre_infected      1035\n",
    "nombre_sain          2130\n",
    "nombre_exposed        635\n",
    "nombre_recovered    16200\n",
    "Name: 664, dtype: int64"
   ]
  },
  {
   "cell_type": "markdown",
   "id": "9c02d696",
   "metadata": {},
   "source": [
    "nombre_infected      1067\n",
    "nombre_sain          2098\n",
    "nombre_exposed        633\n",
    "nombre_recovered    16202\n",
    "Name: 665, dtype: int64"
   ]
  },
  {
   "cell_type": "markdown",
   "id": "b9cb4c18",
   "metadata": {},
   "source": [
    "nombre_infected      1079\n",
    "nombre_sain          2114\n",
    "nombre_exposed        626\n",
    "nombre_recovered    16181\n",
    "Name: 666, dtype: int64"
   ]
  },
  {
   "cell_type": "markdown",
   "id": "31bcacc5",
   "metadata": {},
   "source": [
    "nombre_infected      1098\n",
    "nombre_sain          2099\n",
    "nombre_exposed        608\n",
    "nombre_recovered    16195\n",
    "Name: 667, dtype: int64"
   ]
  },
  {
   "cell_type": "markdown",
   "id": "199870d4",
   "metadata": {},
   "source": [
    "nombre_infected      1121\n",
    "nombre_sain          2077\n",
    "nombre_exposed        611\n",
    "nombre_recovered    16191\n",
    "Name: 668, dtype: int64"
   ]
  },
  {
   "cell_type": "markdown",
   "id": "aa1e9e8a",
   "metadata": {},
   "source": [
    "nombre_infected      1109\n",
    "nombre_sain          2074\n",
    "nombre_exposed        637\n",
    "nombre_recovered    16180\n",
    "Name: 669, dtype: int64"
   ]
  },
  {
   "cell_type": "markdown",
   "id": "e66c8d08",
   "metadata": {},
   "source": [
    "nombre_infected      1118\n",
    "nombre_sain          2033\n",
    "nombre_exposed        666\n",
    "nombre_recovered    16183\n",
    "Name: 670, dtype: int64"
   ]
  },
  {
   "cell_type": "markdown",
   "id": "be406a75",
   "metadata": {},
   "source": [
    "nombre_infected      1123\n",
    "nombre_sain          2038\n",
    "nombre_exposed        670\n",
    "nombre_recovered    16169\n",
    "Name: 671, dtype: int64"
   ]
  },
  {
   "cell_type": "markdown",
   "id": "0148e9be",
   "metadata": {},
   "source": [
    "nombre_infected      1120\n",
    "nombre_sain          2031\n",
    "nombre_exposed        681\n",
    "nombre_recovered    16168\n",
    "Name: 672, dtype: int64"
   ]
  },
  {
   "cell_type": "markdown",
   "id": "c4274d2d",
   "metadata": {},
   "source": [
    "nombre_infected      1137\n",
    "nombre_sain          2013\n",
    "nombre_exposed        660\n",
    "nombre_recovered    16190\n",
    "Name: 673, dtype: int64"
   ]
  },
  {
   "cell_type": "markdown",
   "id": "88f14ce4",
   "metadata": {},
   "source": [
    "nombre_infected      1148\n",
    "nombre_sain          1976\n",
    "nombre_exposed        662\n",
    "nombre_recovered    16214\n",
    "Name: 674, dtype: int64"
   ]
  },
  {
   "cell_type": "markdown",
   "id": "cd8798c1",
   "metadata": {},
   "source": [
    "nombre_infected      1138\n",
    "nombre_sain          1982\n",
    "nombre_exposed        656\n",
    "nombre_recovered    16224\n",
    "Name: 675, dtype: int64"
   ]
  },
  {
   "cell_type": "markdown",
   "id": "f61fa9af",
   "metadata": {},
   "source": [
    "nombre_infected      1183\n",
    "nombre_sain          1968\n",
    "nombre_exposed        622\n",
    "nombre_recovered    16227\n",
    "Name: 676, dtype: int64"
   ]
  },
  {
   "cell_type": "markdown",
   "id": "3ebb33db",
   "metadata": {},
   "source": [
    "nombre_infected      1180\n",
    "nombre_sain          1944\n",
    "nombre_exposed        620\n",
    "nombre_recovered    16256\n",
    "Name: 677, dtype: int64"
   ]
  },
  {
   "cell_type": "markdown",
   "id": "15aebff4",
   "metadata": {},
   "source": [
    "nombre_infected      1172\n",
    "nombre_sain          1929\n",
    "nombre_exposed        620\n",
    "nombre_recovered    16279\n",
    "Name: 678, dtype: int64"
   ]
  },
  {
   "cell_type": "markdown",
   "id": "1210fc33",
   "metadata": {},
   "source": [
    "nombre_infected      1144\n",
    "nombre_sain          1937\n",
    "nombre_exposed        614\n",
    "nombre_recovered    16305\n",
    "Name: 679, dtype: int64"
   ]
  },
  {
   "cell_type": "markdown",
   "id": "0c4d5a0c",
   "metadata": {},
   "source": [
    "nombre_infected      1142\n",
    "nombre_sain          1943\n",
    "nombre_exposed        600\n",
    "nombre_recovered    16315\n",
    "Name: 680, dtype: int64"
   ]
  },
  {
   "cell_type": "markdown",
   "id": "c93db0ba",
   "metadata": {},
   "source": [
    "nombre_infected      1141\n",
    "nombre_sain          1913\n",
    "nombre_exposed        610\n",
    "nombre_recovered    16336\n",
    "Name: 681, dtype: int64"
   ]
  },
  {
   "cell_type": "markdown",
   "id": "dc0971f2",
   "metadata": {},
   "source": [
    "nombre_infected      1149\n",
    "nombre_sain          1900\n",
    "nombre_exposed        609\n",
    "nombre_recovered    16342\n",
    "Name: 682, dtype: int64"
   ]
  },
  {
   "cell_type": "markdown",
   "id": "1baaccc8",
   "metadata": {},
   "source": [
    "nombre_infected      1134\n",
    "nombre_sain          1885\n",
    "nombre_exposed        600\n",
    "nombre_recovered    16381\n",
    "Name: 683, dtype: int64"
   ]
  },
  {
   "cell_type": "markdown",
   "id": "c4b7f542",
   "metadata": {},
   "source": [
    "nombre_infected      1116\n",
    "nombre_sain          1894\n",
    "nombre_exposed        587\n",
    "nombre_recovered    16403\n",
    "Name: 684, dtype: int64"
   ]
  },
  {
   "cell_type": "markdown",
   "id": "8ddfbeb8",
   "metadata": {},
   "source": [
    "nombre_infected      1108\n",
    "nombre_sain          1876\n",
    "nombre_exposed        581\n",
    "nombre_recovered    16435\n",
    "Name: 685, dtype: int64"
   ]
  },
  {
   "cell_type": "markdown",
   "id": "9b1a5fe4",
   "metadata": {},
   "source": [
    "nombre_infected      1109\n",
    "nombre_sain          1872\n",
    "nombre_exposed        570\n",
    "nombre_recovered    16449\n",
    "Name: 686, dtype: int64"
   ]
  },
  {
   "cell_type": "markdown",
   "id": "470de8d0",
   "metadata": {},
   "source": [
    "nombre_infected      1105\n",
    "nombre_sain          1861\n",
    "nombre_exposed        590\n",
    "nombre_recovered    16444\n",
    "Name: 687, dtype: int64"
   ]
  },
  {
   "cell_type": "markdown",
   "id": "834a3116",
   "metadata": {},
   "source": [
    "nombre_infected      1110\n",
    "nombre_sain          1855\n",
    "nombre_exposed        584\n",
    "nombre_recovered    16451\n",
    "Name: 688, dtype: int64"
   ]
  },
  {
   "cell_type": "markdown",
   "id": "b2659784",
   "metadata": {},
   "source": [
    "nombre_infected      1111\n",
    "nombre_sain          1861\n",
    "nombre_exposed        573\n",
    "nombre_recovered    16455\n",
    "Name: 689, dtype: int64"
   ]
  },
  {
   "cell_type": "markdown",
   "id": "1ba44df9",
   "metadata": {},
   "source": [
    "nombre_infected      1105\n",
    "nombre_sain          1843\n",
    "nombre_exposed        585\n",
    "nombre_recovered    16467\n",
    "Name: 690, dtype: int64"
   ]
  },
  {
   "cell_type": "markdown",
   "id": "24141c57",
   "metadata": {},
   "source": [
    "nombre_infected      1068\n",
    "nombre_sain          1832\n",
    "nombre_exposed        585\n",
    "nombre_recovered    16515\n",
    "Name: 691, dtype: int64"
   ]
  },
  {
   "cell_type": "markdown",
   "id": "8e726152",
   "metadata": {},
   "source": [
    "nombre_infected      1072\n",
    "nombre_sain          1837\n",
    "nombre_exposed        570\n",
    "nombre_recovered    16521\n",
    "Name: 692, dtype: int64"
   ]
  },
  {
   "cell_type": "markdown",
   "id": "313777b2",
   "metadata": {},
   "source": [
    "nombre_infected      1071\n",
    "nombre_sain          1819\n",
    "nombre_exposed        561\n",
    "nombre_recovered    16549\n",
    "Name: 693, dtype: int64"
   ]
  },
  {
   "cell_type": "markdown",
   "id": "7ce44d4c",
   "metadata": {},
   "source": [
    "nombre_infected      1072\n",
    "nombre_sain          1825\n",
    "nombre_exposed        562\n",
    "nombre_recovered    16541\n",
    "Name: 694, dtype: int64"
   ]
  },
  {
   "cell_type": "markdown",
   "id": "59b36705",
   "metadata": {},
   "source": [
    "nombre_infected      1054\n",
    "nombre_sain          1817\n",
    "nombre_exposed        562\n",
    "nombre_recovered    16567\n",
    "Name: 695, dtype: int64"
   ]
  },
  {
   "cell_type": "markdown",
   "id": "ad08e778",
   "metadata": {},
   "source": [
    "nombre_infected      1048\n",
    "nombre_sain          1812\n",
    "nombre_exposed        541\n",
    "nombre_recovered    16599\n",
    "Name: 696, dtype: int64"
   ]
  },
  {
   "cell_type": "markdown",
   "id": "145757a8",
   "metadata": {},
   "source": [
    "nombre_infected      1055\n",
    "nombre_sain          1808\n",
    "nombre_exposed        532\n",
    "nombre_recovered    16605\n",
    "Name: 697, dtype: int64"
   ]
  },
  {
   "cell_type": "markdown",
   "id": "3c0e71b1",
   "metadata": {},
   "source": [
    "nombre_infected      1035\n",
    "nombre_sain          1828\n",
    "nombre_exposed        535\n",
    "nombre_recovered    16602\n",
    "Name: 698, dtype: int64"
   ]
  },
  {
   "cell_type": "markdown",
   "id": "2d57575d",
   "metadata": {},
   "source": [
    "nombre_infected      1035\n",
    "nombre_sain          1842\n",
    "nombre_exposed        516\n",
    "nombre_recovered    16607\n",
    "Name: 699, dtype: int64"
   ]
  },
  {
   "cell_type": "markdown",
   "id": "4fdc4fa0",
   "metadata": {},
   "source": [
    "nombre_infected      1019\n",
    "nombre_sain          1822\n",
    "nombre_exposed        535\n",
    "nombre_recovered    16624\n",
    "Name: 700, dtype: int64"
   ]
  },
  {
   "cell_type": "markdown",
   "id": "aae398ed",
   "metadata": {},
   "source": [
    "nombre_infected      1005\n",
    "nombre_sain          1824\n",
    "nombre_exposed        553\n",
    "nombre_recovered    16618\n",
    "Name: 701, dtype: int64"
   ]
  },
  {
   "cell_type": "markdown",
   "id": "cd599e79",
   "metadata": {},
   "source": [
    "nombre_infected      1019\n",
    "nombre_sain          1827\n",
    "nombre_exposed        542\n",
    "nombre_recovered    16612\n",
    "Name: 702, dtype: int64"
   ]
  },
  {
   "cell_type": "markdown",
   "id": "49864fb1",
   "metadata": {},
   "source": [
    "nombre_infected      1022\n",
    "nombre_sain          1835\n",
    "nombre_exposed        539\n",
    "nombre_recovered    16604\n",
    "Name: 703, dtype: int64"
   ]
  },
  {
   "cell_type": "markdown",
   "id": "b2624613",
   "metadata": {},
   "source": [
    "nombre_infected      1019\n",
    "nombre_sain          1816\n",
    "nombre_exposed        544\n",
    "nombre_recovered    16621\n",
    "Name: 704, dtype: int64"
   ]
  },
  {
   "cell_type": "markdown",
   "id": "93405df7",
   "metadata": {},
   "source": [
    "nombre_infected      1023\n",
    "nombre_sain          1823\n",
    "nombre_exposed        518\n",
    "nombre_recovered    16636\n",
    "Name: 705, dtype: int64"
   ]
  },
  {
   "cell_type": "markdown",
   "id": "251a8f69",
   "metadata": {},
   "source": [
    "nombre_infected      1004\n",
    "nombre_sain          1835\n",
    "nombre_exposed        515\n",
    "nombre_recovered    16646\n",
    "Name: 706, dtype: int64"
   ]
  },
  {
   "cell_type": "markdown",
   "id": "a76ce119",
   "metadata": {},
   "source": [
    "nombre_infected       972\n",
    "nombre_sain          1854\n",
    "nombre_exposed        519\n",
    "nombre_recovered    16655\n",
    "Name: 707, dtype: int64"
   ]
  },
  {
   "cell_type": "markdown",
   "id": "1ea2305d",
   "metadata": {},
   "source": [
    "nombre_infected       977\n",
    "nombre_sain          1861\n",
    "nombre_exposed        498\n",
    "nombre_recovered    16664\n",
    "Name: 708, dtype: int64"
   ]
  },
  {
   "cell_type": "markdown",
   "id": "a63165b5",
   "metadata": {},
   "source": [
    "nombre_infected       988\n",
    "nombre_sain          1847\n",
    "nombre_exposed        512\n",
    "nombre_recovered    16653\n",
    "Name: 709, dtype: int64"
   ]
  },
  {
   "cell_type": "markdown",
   "id": "86ea7080",
   "metadata": {},
   "source": [
    "nombre_infected       970\n",
    "nombre_sain          1867\n",
    "nombre_exposed        509\n",
    "nombre_recovered    16654\n",
    "Name: 710, dtype: int64"
   ]
  },
  {
   "cell_type": "markdown",
   "id": "e3c2663a",
   "metadata": {},
   "source": [
    "nombre_infected       967\n",
    "nombre_sain          1869\n",
    "nombre_exposed        511\n",
    "nombre_recovered    16653\n",
    "Name: 711, dtype: int64"
   ]
  },
  {
   "cell_type": "markdown",
   "id": "fb47e26c",
   "metadata": {},
   "source": [
    "nombre_infected       955\n",
    "nombre_sain          1858\n",
    "nombre_exposed        533\n",
    "nombre_recovered    16654\n",
    "Name: 712, dtype: int64"
   ]
  },
  {
   "cell_type": "markdown",
   "id": "eec1b7a3",
   "metadata": {},
   "source": [
    "nombre_infected       967\n",
    "nombre_sain          1879\n",
    "nombre_exposed        506\n",
    "nombre_recovered    16648\n",
    "Name: 713, dtype: int64"
   ]
  },
  {
   "cell_type": "markdown",
   "id": "6c675dd2",
   "metadata": {},
   "source": [
    "nombre_infected       988\n",
    "nombre_sain          1894\n",
    "nombre_exposed        492\n",
    "nombre_recovered    16626\n",
    "Name: 714, dtype: int64"
   ]
  },
  {
   "cell_type": "markdown",
   "id": "10253c17",
   "metadata": {},
   "source": [
    "nombre_infected       989\n",
    "nombre_sain          1871\n",
    "nombre_exposed        495\n",
    "nombre_recovered    16645\n",
    "Name: 715, dtype: int64"
   ]
  },
  {
   "cell_type": "markdown",
   "id": "5eec61a2",
   "metadata": {},
   "source": [
    "nombre_infected       991\n",
    "nombre_sain          1852\n",
    "nombre_exposed        512\n",
    "nombre_recovered    16645\n",
    "Name: 716, dtype: int64"
   ]
  },
  {
   "cell_type": "markdown",
   "id": "fb42852a",
   "metadata": {},
   "source": [
    "nombre_infected       991\n",
    "nombre_sain          1837\n",
    "nombre_exposed        523\n",
    "nombre_recovered    16649\n",
    "Name: 717, dtype: int64"
   ]
  },
  {
   "cell_type": "markdown",
   "id": "9c18d1e3",
   "metadata": {},
   "source": [
    "nombre_infected       964\n",
    "nombre_sain          1861\n",
    "nombre_exposed        519\n",
    "nombre_recovered    16656\n",
    "Name: 718, dtype: int64"
   ]
  },
  {
   "cell_type": "markdown",
   "id": "6c977ed6",
   "metadata": {},
   "source": [
    "nombre_infected       967\n",
    "nombre_sain          1872\n",
    "nombre_exposed        512\n",
    "nombre_recovered    16649\n",
    "Name: 719, dtype: int64"
   ]
  },
  {
   "cell_type": "markdown",
   "id": "1d1b4109",
   "metadata": {},
   "source": [
    "nombre_infected       962\n",
    "nombre_sain          1872\n",
    "nombre_exposed        497\n",
    "nombre_recovered    16669\n",
    "Name: 720, dtype: int64"
   ]
  },
  {
   "cell_type": "markdown",
   "id": "5daa64c7",
   "metadata": {},
   "source": [
    "nombre_infected       960\n",
    "nombre_sain          1864\n",
    "nombre_exposed        510\n",
    "nombre_recovered    16666\n",
    "Name: 721, dtype: int64"
   ]
  },
  {
   "cell_type": "markdown",
   "id": "fe32dbeb",
   "metadata": {},
   "source": [
    "nombre_infected       967\n",
    "nombre_sain          1873\n",
    "nombre_exposed        512\n",
    "nombre_recovered    16648\n",
    "Name: 722, dtype: int64"
   ]
  },
  {
   "cell_type": "markdown",
   "id": "049036b5",
   "metadata": {},
   "source": [
    "nombre_infected       980\n",
    "nombre_sain          1890\n",
    "nombre_exposed        490\n",
    "nombre_recovered    16640\n",
    "Name: 723, dtype: int64"
   ]
  },
  {
   "cell_type": "markdown",
   "id": "41b1b02e",
   "metadata": {},
   "source": [
    "nombre_infected       975\n",
    "nombre_sain          1881\n",
    "nombre_exposed        506\n",
    "nombre_recovered    16638\n",
    "Name: 724, dtype: int64"
   ]
  },
  {
   "cell_type": "markdown",
   "id": "98f60a7a",
   "metadata": {},
   "source": [
    "nombre_infected       979\n",
    "nombre_sain          1869\n",
    "nombre_exposed        514\n",
    "nombre_recovered    16638\n",
    "Name: 725, dtype: int64"
   ]
  },
  {
   "cell_type": "markdown",
   "id": "b01a696d",
   "metadata": {},
   "source": [
    "nombre_infected       981\n",
    "nombre_sain          1899\n",
    "nombre_exposed        508\n",
    "nombre_recovered    16612\n",
    "Name: 726, dtype: int64"
   ]
  },
  {
   "cell_type": "markdown",
   "id": "c195025c",
   "metadata": {},
   "source": [
    "nombre_infected       970\n",
    "nombre_sain          1897\n",
    "nombre_exposed        509\n",
    "nombre_recovered    16624\n",
    "Name: 727, dtype: int64"
   ]
  },
  {
   "cell_type": "markdown",
   "id": "39cee1b0",
   "metadata": {},
   "source": [
    "nombre_infected       985\n",
    "nombre_sain          1888\n",
    "nombre_exposed        499\n",
    "nombre_recovered    16628\n",
    "Name: 728, dtype: int64"
   ]
  },
  {
   "cell_type": "markdown",
   "id": "1e6b254b",
   "metadata": {},
   "source": [
    "nombre_infected      1002\n",
    "nombre_sain          1886\n",
    "nombre_exposed        487\n",
    "nombre_recovered    16625\n",
    "Name: 729, dtype: int64"
   ]
  },
  {
   "cell_type": "markdown",
   "id": "5f08861b",
   "metadata": {},
   "source": [
    "nombre_infected      1001\n",
    "nombre_sain          1864\n",
    "nombre_exposed        506\n",
    "nombre_recovered    16629\n",
    "Name: 730, dtype: int64"
   ]
  }
 ],
 "metadata": {},
 "nbformat": 4,
 "nbformat_minor": 5
}
