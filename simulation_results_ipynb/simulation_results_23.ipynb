{
 "cells": [
  {
   "cell_type": "markdown",
   "id": "7e815130",
   "metadata": {},
   "source": [
    "nombre_infected        20\n",
    "nombre_sain         19980\n",
    "nombre_exposed          0\n",
    "nombre_recovered        0\n",
    "Name: 0, dtype: int64"
   ]
  },
  {
   "cell_type": "markdown",
   "id": "acc99798",
   "metadata": {},
   "source": [
    "nombre_infected        20\n",
    "nombre_sain         19969\n",
    "nombre_exposed         11\n",
    "nombre_recovered        0\n",
    "Name: 1, dtype: int64"
   ]
  },
  {
   "cell_type": "markdown",
   "id": "35e608e2",
   "metadata": {},
   "source": [
    "nombre_infected        20\n",
    "nombre_sain         19938\n",
    "nombre_exposed         42\n",
    "nombre_recovered        0\n",
    "Name: 2, dtype: int64"
   ]
  },
  {
   "cell_type": "markdown",
   "id": "b6d0aa53",
   "metadata": {},
   "source": [
    "nombre_infected        20\n",
    "nombre_sain         19907\n",
    "nombre_exposed         73\n",
    "nombre_recovered        0\n",
    "Name: 3, dtype: int64"
   ]
  },
  {
   "cell_type": "markdown",
   "id": "43d3d6e4",
   "metadata": {},
   "source": [
    "nombre_infected        26\n",
    "nombre_sain         19877\n",
    "nombre_exposed         97\n",
    "nombre_recovered        0\n",
    "Name: 4, dtype: int64"
   ]
  },
  {
   "cell_type": "markdown",
   "id": "5835cf55",
   "metadata": {},
   "source": [
    "nombre_infected        43\n",
    "nombre_sain         19832\n",
    "nombre_exposed        125\n",
    "nombre_recovered        0\n",
    "Name: 5, dtype: int64"
   ]
  },
  {
   "cell_type": "markdown",
   "id": "4c6210f9",
   "metadata": {},
   "source": [
    "nombre_infected        58\n",
    "nombre_sain         19768\n",
    "nombre_exposed        174\n",
    "nombre_recovered        0\n",
    "Name: 6, dtype: int64"
   ]
  },
  {
   "cell_type": "markdown",
   "id": "8dca2768",
   "metadata": {},
   "source": [
    "nombre_infected        64\n",
    "nombre_sain         19706\n",
    "nombre_exposed        207\n",
    "nombre_recovered       23\n",
    "Name: 7, dtype: int64"
   ]
  },
  {
   "cell_type": "markdown",
   "id": "1bed6063",
   "metadata": {},
   "source": [
    "nombre_infected        96\n",
    "nombre_sain         19597\n",
    "nombre_exposed        277\n",
    "nombre_recovered       30\n",
    "Name: 8, dtype: int64"
   ]
  },
  {
   "cell_type": "markdown",
   "id": "8945293e",
   "metadata": {},
   "source": [
    "nombre_infected       130\n",
    "nombre_sain         19462\n",
    "nombre_exposed        371\n",
    "nombre_recovered       37\n",
    "Name: 9, dtype: int64"
   ]
  },
  {
   "cell_type": "markdown",
   "id": "d03f6569",
   "metadata": {},
   "source": [
    "nombre_infected       182\n",
    "nombre_sain         19295\n",
    "nombre_exposed        472\n",
    "nombre_recovered       51\n",
    "Name: 10, dtype: int64"
   ]
  },
  {
   "cell_type": "markdown",
   "id": "125a846d",
   "metadata": {},
   "source": [
    "nombre_infected       246\n",
    "nombre_sain         19048\n",
    "nombre_exposed        645\n",
    "nombre_recovered       61\n",
    "Name: 11, dtype: int64"
   ]
  },
  {
   "cell_type": "markdown",
   "id": "922fa8a9",
   "metadata": {},
   "source": [
    "nombre_infected       335\n",
    "nombre_sain         18712\n",
    "nombre_exposed        876\n",
    "nombre_recovered       77\n",
    "Name: 12, dtype: int64"
   ]
  },
  {
   "cell_type": "markdown",
   "id": "80b238dd",
   "metadata": {},
   "source": [
    "nombre_infected       459\n",
    "nombre_sain         18300\n",
    "nombre_exposed       1135\n",
    "nombre_recovered      106\n",
    "Name: 13, dtype: int64"
   ]
  },
  {
   "cell_type": "markdown",
   "id": "b62ffd2e",
   "metadata": {},
   "source": [
    "nombre_infected       600\n",
    "nombre_sain         17717\n",
    "nombre_exposed       1528\n",
    "nombre_recovered      155\n",
    "Name: 14, dtype: int64"
   ]
  },
  {
   "cell_type": "markdown",
   "id": "b47cec7f",
   "metadata": {},
   "source": [
    "nombre_infected       781\n",
    "nombre_sain         16961\n",
    "nombre_exposed       2032\n",
    "nombre_recovered      226\n",
    "Name: 15, dtype: int64"
   ]
  },
  {
   "cell_type": "markdown",
   "id": "a60d3942",
   "metadata": {},
   "source": [
    "nombre_infected      1031\n",
    "nombre_sain         16062\n",
    "nombre_exposed       2598\n",
    "nombre_recovered      309\n",
    "Name: 16, dtype: int64"
   ]
  },
  {
   "cell_type": "markdown",
   "id": "e44794d5",
   "metadata": {},
   "source": [
    "nombre_infected      1382\n",
    "nombre_sain         14885\n",
    "nombre_exposed       3325\n",
    "nombre_recovered      408\n",
    "Name: 17, dtype: int64"
   ]
  },
  {
   "cell_type": "markdown",
   "id": "aa369108",
   "metadata": {},
   "source": [
    "nombre_infected      1782\n",
    "nombre_sain         13533\n",
    "nombre_exposed       4141\n",
    "nombre_recovered      544\n",
    "Name: 18, dtype: int64"
   ]
  },
  {
   "cell_type": "markdown",
   "id": "4bf31c70",
   "metadata": {},
   "source": [
    "nombre_infected      2334\n",
    "nombre_sain         12069\n",
    "nombre_exposed       4867\n",
    "nombre_recovered      730\n",
    "Name: 19, dtype: int64"
   ]
  },
  {
   "cell_type": "markdown",
   "id": "cbd38606",
   "metadata": {},
   "source": [
    "nombre_infected      3010\n",
    "nombre_sain         10413\n",
    "nombre_exposed       5615\n",
    "nombre_recovered      962\n",
    "Name: 20, dtype: int64"
   ]
  },
  {
   "cell_type": "markdown",
   "id": "2a67a930",
   "metadata": {},
   "source": [
    "nombre_infected     3748\n",
    "nombre_sain         8663\n",
    "nombre_exposed      6315\n",
    "nombre_recovered    1274\n",
    "Name: 21, dtype: int64"
   ]
  },
  {
   "cell_type": "markdown",
   "id": "1ee1d876",
   "metadata": {},
   "source": [
    "nombre_infected     4601\n",
    "nombre_sain         6925\n",
    "nombre_exposed      6840\n",
    "nombre_recovered    1634\n",
    "Name: 22, dtype: int64"
   ]
  },
  {
   "cell_type": "markdown",
   "id": "64c8a653",
   "metadata": {},
   "source": [
    "nombre_infected     5467\n",
    "nombre_sain         5409\n",
    "nombre_exposed      7008\n",
    "nombre_recovered    2116\n",
    "Name: 23, dtype: int64"
   ]
  },
  {
   "cell_type": "markdown",
   "id": "0d39c3c1",
   "metadata": {},
   "source": [
    "nombre_infected     6247\n",
    "nombre_sain         4047\n",
    "nombre_exposed      6986\n",
    "nombre_recovered    2720\n",
    "Name: 24, dtype: int64"
   ]
  },
  {
   "cell_type": "markdown",
   "id": "f99ca4ad",
   "metadata": {},
   "source": [
    "nombre_infected     7094\n",
    "nombre_sain         2991\n",
    "nombre_exposed      6516\n",
    "nombre_recovered    3399\n",
    "Name: 25, dtype: int64"
   ]
  },
  {
   "cell_type": "markdown",
   "id": "b58160b5",
   "metadata": {},
   "source": [
    "nombre_infected     7750\n",
    "nombre_sain         2129\n",
    "nombre_exposed      5958\n",
    "nombre_recovered    4163\n",
    "Name: 26, dtype: int64"
   ]
  },
  {
   "cell_type": "markdown",
   "id": "88650898",
   "metadata": {},
   "source": [
    "nombre_infected     8282\n",
    "nombre_sain         1502\n",
    "nombre_exposed      5203\n",
    "nombre_recovered    5013\n",
    "Name: 27, dtype: int64"
   ]
  },
  {
   "cell_type": "markdown",
   "id": "9cb1d6a0",
   "metadata": {},
   "source": [
    "nombre_infected     8531\n",
    "nombre_sain         1009\n",
    "nombre_exposed      4484\n",
    "nombre_recovered    5976\n",
    "Name: 28, dtype: int64"
   ]
  },
  {
   "cell_type": "markdown",
   "id": "31dfbbdf",
   "metadata": {},
   "source": [
    "nombre_infected     8608\n",
    "nombre_sain          677\n",
    "nombre_exposed      3753\n",
    "nombre_recovered    6962\n",
    "Name: 29, dtype: int64"
   ]
  },
  {
   "cell_type": "markdown",
   "id": "33a6be35",
   "metadata": {},
   "source": [
    "nombre_infected     8500\n",
    "nombre_sain          486\n",
    "nombre_exposed      3061\n",
    "nombre_recovered    7953\n",
    "Name: 30, dtype: int64"
   ]
  },
  {
   "cell_type": "markdown",
   "id": "ca8f5536",
   "metadata": {},
   "source": [
    "nombre_infected     8245\n",
    "nombre_sain          345\n",
    "nombre_exposed      2431\n",
    "nombre_recovered    8979\n",
    "Name: 31, dtype: int64"
   ]
  },
  {
   "cell_type": "markdown",
   "id": "8252d125",
   "metadata": {},
   "source": [
    "nombre_infected     7878\n",
    "nombre_sain          273\n",
    "nombre_exposed      1873\n",
    "nombre_recovered    9976\n",
    "Name: 32, dtype: int64"
   ]
  },
  {
   "cell_type": "markdown",
   "id": "e0047a71",
   "metadata": {},
   "source": [
    "nombre_infected      7417\n",
    "nombre_sain           235\n",
    "nombre_exposed       1424\n",
    "nombre_recovered    10924\n",
    "Name: 33, dtype: int64"
   ]
  },
  {
   "cell_type": "markdown",
   "id": "7f280b80",
   "metadata": {},
   "source": [
    "nombre_infected      6918\n",
    "nombre_sain           207\n",
    "nombre_exposed       1092\n",
    "nombre_recovered    11783\n",
    "Name: 34, dtype: int64"
   ]
  },
  {
   "cell_type": "markdown",
   "id": "6a61760a",
   "metadata": {},
   "source": [
    "nombre_infected      6320\n",
    "nombre_sain           200\n",
    "nombre_exposed        871\n",
    "nombre_recovered    12609\n",
    "Name: 35, dtype: int64"
   ]
  },
  {
   "cell_type": "markdown",
   "id": "264628f6",
   "metadata": {},
   "source": [
    "nombre_infected      5839\n",
    "nombre_sain           200\n",
    "nombre_exposed        681\n",
    "nombre_recovered    13280\n",
    "Name: 36, dtype: int64"
   ]
  },
  {
   "cell_type": "markdown",
   "id": "4493e84b",
   "metadata": {},
   "source": [
    "nombre_infected      5317\n",
    "nombre_sain           209\n",
    "nombre_exposed        564\n",
    "nombre_recovered    13910\n",
    "Name: 37, dtype: int64"
   ]
  },
  {
   "cell_type": "markdown",
   "id": "1cac972a",
   "metadata": {},
   "source": [
    "nombre_infected      4819\n",
    "nombre_sain           222\n",
    "nombre_exposed        450\n",
    "nombre_recovered    14509\n",
    "Name: 38, dtype: int64"
   ]
  },
  {
   "cell_type": "markdown",
   "id": "8fbf3f72",
   "metadata": {},
   "source": [
    "nombre_infected      4392\n",
    "nombre_sain           244\n",
    "nombre_exposed        354\n",
    "nombre_recovered    15010\n",
    "Name: 39, dtype: int64"
   ]
  },
  {
   "cell_type": "markdown",
   "id": "bb75bb59",
   "metadata": {},
   "source": [
    "nombre_infected      4042\n",
    "nombre_sain           265\n",
    "nombre_exposed        299\n",
    "nombre_recovered    15394\n",
    "Name: 40, dtype: int64"
   ]
  },
  {
   "cell_type": "markdown",
   "id": "7a7f4d21",
   "metadata": {},
   "source": [
    "nombre_infected      3639\n",
    "nombre_sain           258\n",
    "nombre_exposed        267\n",
    "nombre_recovered    15836\n",
    "Name: 41, dtype: int64"
   ]
  },
  {
   "cell_type": "markdown",
   "id": "4f8c872c",
   "metadata": {},
   "source": [
    "nombre_infected      3244\n",
    "nombre_sain           256\n",
    "nombre_exposed        251\n",
    "nombre_recovered    16249\n",
    "Name: 42, dtype: int64"
   ]
  },
  {
   "cell_type": "markdown",
   "id": "04c4116f",
   "metadata": {},
   "source": [
    "nombre_infected      2912\n",
    "nombre_sain           264\n",
    "nombre_exposed        204\n",
    "nombre_recovered    16620\n",
    "Name: 43, dtype: int64"
   ]
  },
  {
   "cell_type": "markdown",
   "id": "3b51fb97",
   "metadata": {},
   "source": [
    "nombre_infected      2589\n",
    "nombre_sain           273\n",
    "nombre_exposed        176\n",
    "nombre_recovered    16962\n",
    "Name: 44, dtype: int64"
   ]
  },
  {
   "cell_type": "markdown",
   "id": "ecec13c9",
   "metadata": {},
   "source": [
    "nombre_infected      2282\n",
    "nombre_sain           283\n",
    "nombre_exposed        148\n",
    "nombre_recovered    17287\n",
    "Name: 45, dtype: int64"
   ]
  },
  {
   "cell_type": "markdown",
   "id": "680d2691",
   "metadata": {},
   "source": [
    "nombre_infected      2001\n",
    "nombre_sain           297\n",
    "nombre_exposed        145\n",
    "nombre_recovered    17557\n",
    "Name: 46, dtype: int64"
   ]
  },
  {
   "cell_type": "markdown",
   "id": "fee466e2",
   "metadata": {},
   "source": [
    "nombre_infected      1731\n",
    "nombre_sain           328\n",
    "nombre_exposed        144\n",
    "nombre_recovered    17797\n",
    "Name: 47, dtype: int64"
   ]
  },
  {
   "cell_type": "markdown",
   "id": "253345d3",
   "metadata": {},
   "source": [
    "nombre_infected      1469\n",
    "nombre_sain           337\n",
    "nombre_exposed        146\n",
    "nombre_recovered    18048\n",
    "Name: 48, dtype: int64"
   ]
  },
  {
   "cell_type": "markdown",
   "id": "3bb5daa9",
   "metadata": {},
   "source": [
    "nombre_infected      1273\n",
    "nombre_sain           365\n",
    "nombre_exposed        118\n",
    "nombre_recovered    18244\n",
    "Name: 49, dtype: int64"
   ]
  },
  {
   "cell_type": "markdown",
   "id": "962b8245",
   "metadata": {},
   "source": [
    "nombre_infected      1098\n",
    "nombre_sain           390\n",
    "nombre_exposed        119\n",
    "nombre_recovered    18393\n",
    "Name: 50, dtype: int64"
   ]
  },
  {
   "cell_type": "markdown",
   "id": "28983df2",
   "metadata": {},
   "source": [
    "nombre_infected       946\n",
    "nombre_sain           434\n",
    "nombre_exposed        115\n",
    "nombre_recovered    18505\n",
    "Name: 51, dtype: int64"
   ]
  },
  {
   "cell_type": "markdown",
   "id": "6bf18087",
   "metadata": {},
   "source": [
    "nombre_infected       823\n",
    "nombre_sain           469\n",
    "nombre_exposed        105\n",
    "nombre_recovered    18603\n",
    "Name: 52, dtype: int64"
   ]
  },
  {
   "cell_type": "markdown",
   "id": "e334c966",
   "metadata": {},
   "source": [
    "nombre_infected       712\n",
    "nombre_sain           507\n",
    "nombre_exposed        110\n",
    "nombre_recovered    18671\n",
    "Name: 53, dtype: int64"
   ]
  },
  {
   "cell_type": "markdown",
   "id": "8a05fe41",
   "metadata": {},
   "source": [
    "nombre_infected       609\n",
    "nombre_sain           551\n",
    "nombre_exposed         98\n",
    "nombre_recovered    18742\n",
    "Name: 54, dtype: int64"
   ]
  },
  {
   "cell_type": "markdown",
   "id": "77306007",
   "metadata": {},
   "source": [
    "nombre_infected       542\n",
    "nombre_sain           600\n",
    "nombre_exposed         85\n",
    "nombre_recovered    18773\n",
    "Name: 55, dtype: int64"
   ]
  },
  {
   "cell_type": "markdown",
   "id": "5de06fa5",
   "metadata": {},
   "source": [
    "nombre_infected       469\n",
    "nombre_sain           666\n",
    "nombre_exposed         78\n",
    "nombre_recovered    18787\n",
    "Name: 56, dtype: int64"
   ]
  },
  {
   "cell_type": "markdown",
   "id": "6ccebf57",
   "metadata": {},
   "source": [
    "nombre_infected       412\n",
    "nombre_sain           729\n",
    "nombre_exposed         82\n",
    "nombre_recovered    18777\n",
    "Name: 57, dtype: int64"
   ]
  },
  {
   "cell_type": "markdown",
   "id": "061b1f60",
   "metadata": {},
   "source": [
    "nombre_infected       353\n",
    "nombre_sain           792\n",
    "nombre_exposed         86\n",
    "nombre_recovered    18769\n",
    "Name: 58, dtype: int64"
   ]
  },
  {
   "cell_type": "markdown",
   "id": "0a690569",
   "metadata": {},
   "source": [
    "nombre_infected       308\n",
    "nombre_sain           862\n",
    "nombre_exposed         77\n",
    "nombre_recovered    18753\n",
    "Name: 59, dtype: int64"
   ]
  },
  {
   "cell_type": "markdown",
   "id": "7e0a680b",
   "metadata": {},
   "source": [
    "nombre_infected       258\n",
    "nombre_sain           942\n",
    "nombre_exposed         72\n",
    "nombre_recovered    18728\n",
    "Name: 60, dtype: int64"
   ]
  },
  {
   "cell_type": "markdown",
   "id": "858ec949",
   "metadata": {},
   "source": [
    "nombre_infected       228\n",
    "nombre_sain          1018\n",
    "nombre_exposed         69\n",
    "nombre_recovered    18685\n",
    "Name: 61, dtype: int64"
   ]
  },
  {
   "cell_type": "markdown",
   "id": "0baffbbd",
   "metadata": {},
   "source": [
    "nombre_infected       191\n",
    "nombre_sain          1091\n",
    "nombre_exposed         68\n",
    "nombre_recovered    18650\n",
    "Name: 62, dtype: int64"
   ]
  },
  {
   "cell_type": "markdown",
   "id": "efcb79d9",
   "metadata": {},
   "source": [
    "nombre_infected       167\n",
    "nombre_sain          1160\n",
    "nombre_exposed         67\n",
    "nombre_recovered    18606\n",
    "Name: 63, dtype: int64"
   ]
  },
  {
   "cell_type": "markdown",
   "id": "dfc81dca",
   "metadata": {},
   "source": [
    "nombre_infected       158\n",
    "nombre_sain          1241\n",
    "nombre_exposed         55\n",
    "nombre_recovered    18546\n",
    "Name: 64, dtype: int64"
   ]
  },
  {
   "cell_type": "markdown",
   "id": "a6c2a433",
   "metadata": {},
   "source": [
    "nombre_infected       153\n",
    "nombre_sain          1295\n",
    "nombre_exposed         40\n",
    "nombre_recovered    18512\n",
    "Name: 65, dtype: int64"
   ]
  },
  {
   "cell_type": "markdown",
   "id": "a1ad54d7",
   "metadata": {},
   "source": [
    "nombre_infected       124\n",
    "nombre_sain          1353\n",
    "nombre_exposed         38\n",
    "nombre_recovered    18485\n",
    "Name: 66, dtype: int64"
   ]
  },
  {
   "cell_type": "markdown",
   "id": "d3920ce8",
   "metadata": {},
   "source": [
    "nombre_infected       111\n",
    "nombre_sain          1406\n",
    "nombre_exposed         43\n",
    "nombre_recovered    18440\n",
    "Name: 67, dtype: int64"
   ]
  },
  {
   "cell_type": "markdown",
   "id": "133ac976",
   "metadata": {},
   "source": [
    "nombre_infected        88\n",
    "nombre_sain          1486\n",
    "nombre_exposed         37\n",
    "nombre_recovered    18389\n",
    "Name: 68, dtype: int64"
   ]
  },
  {
   "cell_type": "markdown",
   "id": "d9d88eba",
   "metadata": {},
   "source": [
    "nombre_infected        79\n",
    "nombre_sain          1522\n",
    "nombre_exposed         35\n",
    "nombre_recovered    18364\n",
    "Name: 69, dtype: int64"
   ]
  },
  {
   "cell_type": "markdown",
   "id": "f49e3859",
   "metadata": {},
   "source": [
    "nombre_infected        75\n",
    "nombre_sain          1567\n",
    "nombre_exposed         32\n",
    "nombre_recovered    18326\n",
    "Name: 70, dtype: int64"
   ]
  },
  {
   "cell_type": "markdown",
   "id": "eda54b3c",
   "metadata": {},
   "source": [
    "nombre_infected        65\n",
    "nombre_sain          1607\n",
    "nombre_exposed         36\n",
    "nombre_recovered    18292\n",
    "Name: 71, dtype: int64"
   ]
  },
  {
   "cell_type": "markdown",
   "id": "175260a2",
   "metadata": {},
   "source": [
    "nombre_infected        63\n",
    "nombre_sain          1642\n",
    "nombre_exposed         28\n",
    "nombre_recovered    18267\n",
    "Name: 72, dtype: int64"
   ]
  },
  {
   "cell_type": "markdown",
   "id": "e651b8bf",
   "metadata": {},
   "source": [
    "nombre_infected        51\n",
    "nombre_sain          1685\n",
    "nombre_exposed         22\n",
    "nombre_recovered    18242\n",
    "Name: 73, dtype: int64"
   ]
  },
  {
   "cell_type": "markdown",
   "id": "2be207c5",
   "metadata": {},
   "source": [
    "nombre_infected        53\n",
    "nombre_sain          1724\n",
    "nombre_exposed         19\n",
    "nombre_recovered    18204\n",
    "Name: 74, dtype: int64"
   ]
  },
  {
   "cell_type": "markdown",
   "id": "4381fd1f",
   "metadata": {},
   "source": [
    "nombre_infected        52\n",
    "nombre_sain          1758\n",
    "nombre_exposed         19\n",
    "nombre_recovered    18171\n",
    "Name: 75, dtype: int64"
   ]
  },
  {
   "cell_type": "markdown",
   "id": "dc6c731b",
   "metadata": {},
   "source": [
    "nombre_infected        48\n",
    "nombre_sain          1807\n",
    "nombre_exposed         19\n",
    "nombre_recovered    18126\n",
    "Name: 76, dtype: int64"
   ]
  },
  {
   "cell_type": "markdown",
   "id": "e87536e5",
   "metadata": {},
   "source": [
    "nombre_infected        46\n",
    "nombre_sain          1854\n",
    "nombre_exposed         21\n",
    "nombre_recovered    18079\n",
    "Name: 77, dtype: int64"
   ]
  },
  {
   "cell_type": "markdown",
   "id": "e74d1e02",
   "metadata": {},
   "source": [
    "nombre_infected        47\n",
    "nombre_sain          1903\n",
    "nombre_exposed         17\n",
    "nombre_recovered    18033\n",
    "Name: 78, dtype: int64"
   ]
  },
  {
   "cell_type": "markdown",
   "id": "840477bc",
   "metadata": {},
   "source": [
    "nombre_infected        42\n",
    "nombre_sain          1956\n",
    "nombre_exposed         18\n",
    "nombre_recovered    17984\n",
    "Name: 79, dtype: int64"
   ]
  },
  {
   "cell_type": "markdown",
   "id": "f532f7cd",
   "metadata": {},
   "source": [
    "nombre_infected        38\n",
    "nombre_sain          2009\n",
    "nombre_exposed         17\n",
    "nombre_recovered    17936\n",
    "Name: 80, dtype: int64"
   ]
  },
  {
   "cell_type": "markdown",
   "id": "6bc54ed6",
   "metadata": {},
   "source": [
    "nombre_infected        38\n",
    "nombre_sain          2063\n",
    "nombre_exposed         21\n",
    "nombre_recovered    17878\n",
    "Name: 81, dtype: int64"
   ]
  },
  {
   "cell_type": "markdown",
   "id": "f790c334",
   "metadata": {},
   "source": [
    "nombre_infected        30\n",
    "nombre_sain          2118\n",
    "nombre_exposed         22\n",
    "nombre_recovered    17830\n",
    "Name: 82, dtype: int64"
   ]
  },
  {
   "cell_type": "markdown",
   "id": "e73db0de",
   "metadata": {},
   "source": [
    "nombre_infected        29\n",
    "nombre_sain          2176\n",
    "nombre_exposed         18\n",
    "nombre_recovered    17777\n",
    "Name: 83, dtype: int64"
   ]
  },
  {
   "cell_type": "markdown",
   "id": "222f4049",
   "metadata": {},
   "source": [
    "nombre_infected        34\n",
    "nombre_sain          2241\n",
    "nombre_exposed         14\n",
    "nombre_recovered    17711\n",
    "Name: 84, dtype: int64"
   ]
  },
  {
   "cell_type": "markdown",
   "id": "a62df8a7",
   "metadata": {},
   "source": [
    "nombre_infected        34\n",
    "nombre_sain          2307\n",
    "nombre_exposed         16\n",
    "nombre_recovered    17643\n",
    "Name: 85, dtype: int64"
   ]
  },
  {
   "cell_type": "markdown",
   "id": "ec419736",
   "metadata": {},
   "source": [
    "nombre_infected        29\n",
    "nombre_sain          2382\n",
    "nombre_exposed         19\n",
    "nombre_recovered    17570\n",
    "Name: 86, dtype: int64"
   ]
  },
  {
   "cell_type": "markdown",
   "id": "9d3047dd",
   "metadata": {},
   "source": [
    "nombre_infected        27\n",
    "nombre_sain          2448\n",
    "nombre_exposed         21\n",
    "nombre_recovered    17504\n",
    "Name: 87, dtype: int64"
   ]
  },
  {
   "cell_type": "markdown",
   "id": "494b4a4d",
   "metadata": {},
   "source": [
    "nombre_infected        25\n",
    "nombre_sain          2506\n",
    "nombre_exposed         24\n",
    "nombre_recovered    17445\n",
    "Name: 88, dtype: int64"
   ]
  },
  {
   "cell_type": "markdown",
   "id": "9893326a",
   "metadata": {},
   "source": [
    "nombre_infected        25\n",
    "nombre_sain          2565\n",
    "nombre_exposed         20\n",
    "nombre_recovered    17390\n",
    "Name: 89, dtype: int64"
   ]
  },
  {
   "cell_type": "markdown",
   "id": "417def98",
   "metadata": {},
   "source": [
    "nombre_infected        31\n",
    "nombre_sain          2616\n",
    "nombre_exposed         13\n",
    "nombre_recovered    17340\n",
    "Name: 90, dtype: int64"
   ]
  },
  {
   "cell_type": "markdown",
   "id": "12ef5401",
   "metadata": {},
   "source": [
    "nombre_infected        29\n",
    "nombre_sain          2670\n",
    "nombre_exposed         15\n",
    "nombre_recovered    17286\n",
    "Name: 91, dtype: int64"
   ]
  },
  {
   "cell_type": "markdown",
   "id": "9ede18f3",
   "metadata": {},
   "source": [
    "nombre_infected        30\n",
    "nombre_sain          2718\n",
    "nombre_exposed         13\n",
    "nombre_recovered    17239\n",
    "Name: 92, dtype: int64"
   ]
  },
  {
   "cell_type": "markdown",
   "id": "8184cc62",
   "metadata": {},
   "source": [
    "nombre_infected        27\n",
    "nombre_sain          2764\n",
    "nombre_exposed         13\n",
    "nombre_recovered    17196\n",
    "Name: 93, dtype: int64"
   ]
  },
  {
   "cell_type": "markdown",
   "id": "adfd32aa",
   "metadata": {},
   "source": [
    "nombre_infected        25\n",
    "nombre_sain          2797\n",
    "nombre_exposed         16\n",
    "nombre_recovered    17162\n",
    "Name: 94, dtype: int64"
   ]
  },
  {
   "cell_type": "markdown",
   "id": "88e6c458",
   "metadata": {},
   "source": [
    "nombre_infected        25\n",
    "nombre_sain          2833\n",
    "nombre_exposed         16\n",
    "nombre_recovered    17126\n",
    "Name: 95, dtype: int64"
   ]
  },
  {
   "cell_type": "markdown",
   "id": "e60fc792",
   "metadata": {},
   "source": [
    "nombre_infected        24\n",
    "nombre_sain          2866\n",
    "nombre_exposed         18\n",
    "nombre_recovered    17092\n",
    "Name: 96, dtype: int64"
   ]
  },
  {
   "cell_type": "markdown",
   "id": "fba6beab",
   "metadata": {},
   "source": [
    "nombre_infected        26\n",
    "nombre_sain          2908\n",
    "nombre_exposed         16\n",
    "nombre_recovered    17050\n",
    "Name: 97, dtype: int64"
   ]
  },
  {
   "cell_type": "markdown",
   "id": "61847cd6",
   "metadata": {},
   "source": [
    "nombre_infected        27\n",
    "nombre_sain          2937\n",
    "nombre_exposed         19\n",
    "nombre_recovered    17017\n",
    "Name: 98, dtype: int64"
   ]
  },
  {
   "cell_type": "markdown",
   "id": "b039c1d5",
   "metadata": {},
   "source": [
    "nombre_infected        28\n",
    "nombre_sain          2965\n",
    "nombre_exposed         23\n",
    "nombre_recovered    16984\n",
    "Name: 99, dtype: int64"
   ]
  },
  {
   "cell_type": "markdown",
   "id": "bf0f46c2",
   "metadata": {},
   "source": [
    "nombre_infected        31\n",
    "nombre_sain          2995\n",
    "nombre_exposed         23\n",
    "nombre_recovered    16951\n",
    "Name: 100, dtype: int64"
   ]
  },
  {
   "cell_type": "markdown",
   "id": "1fe98f5c",
   "metadata": {},
   "source": [
    "nombre_infected        28\n",
    "nombre_sain          3030\n",
    "nombre_exposed         28\n",
    "nombre_recovered    16914\n",
    "Name: 101, dtype: int64"
   ]
  },
  {
   "cell_type": "markdown",
   "id": "300be6dc",
   "metadata": {},
   "source": [
    "nombre_infected        28\n",
    "nombre_sain          3073\n",
    "nombre_exposed         27\n",
    "nombre_recovered    16872\n",
    "Name: 102, dtype: int64"
   ]
  },
  {
   "cell_type": "markdown",
   "id": "beacdab7",
   "metadata": {},
   "source": [
    "nombre_infected        33\n",
    "nombre_sain          3113\n",
    "nombre_exposed         25\n",
    "nombre_recovered    16829\n",
    "Name: 103, dtype: int64"
   ]
  },
  {
   "cell_type": "markdown",
   "id": "da752ccd",
   "metadata": {},
   "source": [
    "nombre_infected        31\n",
    "nombre_sain          3128\n",
    "nombre_exposed         34\n",
    "nombre_recovered    16807\n",
    "Name: 104, dtype: int64"
   ]
  },
  {
   "cell_type": "markdown",
   "id": "2b162d77",
   "metadata": {},
   "source": [
    "nombre_infected        32\n",
    "nombre_sain          3156\n",
    "nombre_exposed         32\n",
    "nombre_recovered    16780\n",
    "Name: 105, dtype: int64"
   ]
  },
  {
   "cell_type": "markdown",
   "id": "19c9df5d",
   "metadata": {},
   "source": [
    "nombre_infected        36\n",
    "nombre_sain          3187\n",
    "nombre_exposed         27\n",
    "nombre_recovered    16750\n",
    "Name: 106, dtype: int64"
   ]
  },
  {
   "cell_type": "markdown",
   "id": "2d04a851",
   "metadata": {},
   "source": [
    "nombre_infected        40\n",
    "nombre_sain          3213\n",
    "nombre_exposed         26\n",
    "nombre_recovered    16721\n",
    "Name: 107, dtype: int64"
   ]
  },
  {
   "cell_type": "markdown",
   "id": "fa685625",
   "metadata": {},
   "source": [
    "nombre_infected        42\n",
    "nombre_sain          3229\n",
    "nombre_exposed         32\n",
    "nombre_recovered    16697\n",
    "Name: 108, dtype: int64"
   ]
  },
  {
   "cell_type": "markdown",
   "id": "1f3087af",
   "metadata": {},
   "source": [
    "nombre_infected        39\n",
    "nombre_sain          3261\n",
    "nombre_exposed         37\n",
    "nombre_recovered    16663\n",
    "Name: 109, dtype: int64"
   ]
  },
  {
   "cell_type": "markdown",
   "id": "cb094c39",
   "metadata": {},
   "source": [
    "nombre_infected        38\n",
    "nombre_sain          3284\n",
    "nombre_exposed         35\n",
    "nombre_recovered    16643\n",
    "Name: 110, dtype: int64"
   ]
  },
  {
   "cell_type": "markdown",
   "id": "8d3dd023",
   "metadata": {},
   "source": [
    "nombre_infected        42\n",
    "nombre_sain          3308\n",
    "nombre_exposed         33\n",
    "nombre_recovered    16617\n",
    "Name: 111, dtype: int64"
   ]
  },
  {
   "cell_type": "markdown",
   "id": "dbd6b148",
   "metadata": {},
   "source": [
    "nombre_infected        43\n",
    "nombre_sain          3350\n",
    "nombre_exposed         31\n",
    "nombre_recovered    16576\n",
    "Name: 112, dtype: int64"
   ]
  },
  {
   "cell_type": "markdown",
   "id": "74849556",
   "metadata": {},
   "source": [
    "nombre_infected        45\n",
    "nombre_sain          3375\n",
    "nombre_exposed         34\n",
    "nombre_recovered    16546\n",
    "Name: 113, dtype: int64"
   ]
  },
  {
   "cell_type": "markdown",
   "id": "7ae1d42f",
   "metadata": {},
   "source": [
    "nombre_infected        46\n",
    "nombre_sain          3418\n",
    "nombre_exposed         34\n",
    "nombre_recovered    16502\n",
    "Name: 114, dtype: int64"
   ]
  },
  {
   "cell_type": "markdown",
   "id": "3e644958",
   "metadata": {},
   "source": [
    "nombre_infected        48\n",
    "nombre_sain          3458\n",
    "nombre_exposed         32\n",
    "nombre_recovered    16462\n",
    "Name: 115, dtype: int64"
   ]
  },
  {
   "cell_type": "markdown",
   "id": "22965571",
   "metadata": {},
   "source": [
    "nombre_infected        56\n",
    "nombre_sain          3488\n",
    "nombre_exposed         25\n",
    "nombre_recovered    16431\n",
    "Name: 116, dtype: int64"
   ]
  },
  {
   "cell_type": "markdown",
   "id": "166a13b4",
   "metadata": {},
   "source": [
    "nombre_infected        52\n",
    "nombre_sain          3516\n",
    "nombre_exposed         34\n",
    "nombre_recovered    16398\n",
    "Name: 117, dtype: int64"
   ]
  },
  {
   "cell_type": "markdown",
   "id": "6fc63ac1",
   "metadata": {},
   "source": [
    "nombre_infected        52\n",
    "nombre_sain          3547\n",
    "nombre_exposed         41\n",
    "nombre_recovered    16360\n",
    "Name: 118, dtype: int64"
   ]
  },
  {
   "cell_type": "markdown",
   "id": "29aefff8",
   "metadata": {},
   "source": [
    "nombre_infected        59\n",
    "nombre_sain          3562\n",
    "nombre_exposed         45\n",
    "nombre_recovered    16334\n",
    "Name: 119, dtype: int64"
   ]
  },
  {
   "cell_type": "markdown",
   "id": "5b92fce9",
   "metadata": {},
   "source": [
    "nombre_infected        62\n",
    "nombre_sain          3582\n",
    "nombre_exposed         47\n",
    "nombre_recovered    16309\n",
    "Name: 120, dtype: int64"
   ]
  },
  {
   "cell_type": "markdown",
   "id": "0ee04e98",
   "metadata": {},
   "source": [
    "nombre_infected        62\n",
    "nombre_sain          3590\n",
    "nombre_exposed         55\n",
    "nombre_recovered    16293\n",
    "Name: 121, dtype: int64"
   ]
  },
  {
   "cell_type": "markdown",
   "id": "25fc4b27",
   "metadata": {},
   "source": [
    "nombre_infected        63\n",
    "nombre_sain          3607\n",
    "nombre_exposed         57\n",
    "nombre_recovered    16273\n",
    "Name: 122, dtype: int64"
   ]
  },
  {
   "cell_type": "markdown",
   "id": "3aeaebb6",
   "metadata": {},
   "source": [
    "nombre_infected        72\n",
    "nombre_sain          3631\n",
    "nombre_exposed         52\n",
    "nombre_recovered    16245\n",
    "Name: 123, dtype: int64"
   ]
  },
  {
   "cell_type": "markdown",
   "id": "e23be68e",
   "metadata": {},
   "source": [
    "nombre_infected        74\n",
    "nombre_sain          3651\n",
    "nombre_exposed         57\n",
    "nombre_recovered    16218\n",
    "Name: 124, dtype: int64"
   ]
  },
  {
   "cell_type": "markdown",
   "id": "f4309c66",
   "metadata": {},
   "source": [
    "nombre_infected        76\n",
    "nombre_sain          3678\n",
    "nombre_exposed         57\n",
    "nombre_recovered    16189\n",
    "Name: 125, dtype: int64"
   ]
  },
  {
   "cell_type": "markdown",
   "id": "49daf340",
   "metadata": {},
   "source": [
    "nombre_infected        81\n",
    "nombre_sain          3688\n",
    "nombre_exposed         52\n",
    "nombre_recovered    16179\n",
    "Name: 126, dtype: int64"
   ]
  },
  {
   "cell_type": "markdown",
   "id": "50c97e62",
   "metadata": {},
   "source": [
    "nombre_infected        86\n",
    "nombre_sain          3700\n",
    "nombre_exposed         56\n",
    "nombre_recovered    16158\n",
    "Name: 127, dtype: int64"
   ]
  },
  {
   "cell_type": "markdown",
   "id": "97a828e9",
   "metadata": {},
   "source": [
    "nombre_infected        86\n",
    "nombre_sain          3708\n",
    "nombre_exposed         56\n",
    "nombre_recovered    16150\n",
    "Name: 128, dtype: int64"
   ]
  },
  {
   "cell_type": "markdown",
   "id": "91529e31",
   "metadata": {},
   "source": [
    "nombre_infected        85\n",
    "nombre_sain          3717\n",
    "nombre_exposed         63\n",
    "nombre_recovered    16135\n",
    "Name: 129, dtype: int64"
   ]
  },
  {
   "cell_type": "markdown",
   "id": "eb1b8d3c",
   "metadata": {},
   "source": [
    "nombre_infected        82\n",
    "nombre_sain          3725\n",
    "nombre_exposed         71\n",
    "nombre_recovered    16122\n",
    "Name: 130, dtype: int64"
   ]
  },
  {
   "cell_type": "markdown",
   "id": "b4a63a40",
   "metadata": {},
   "source": [
    "nombre_infected        85\n",
    "nombre_sain          3735\n",
    "nombre_exposed         76\n",
    "nombre_recovered    16104\n",
    "Name: 131, dtype: int64"
   ]
  },
  {
   "cell_type": "markdown",
   "id": "870f9d9d",
   "metadata": {},
   "source": [
    "nombre_infected        88\n",
    "nombre_sain          3743\n",
    "nombre_exposed         84\n",
    "nombre_recovered    16085\n",
    "Name: 132, dtype: int64"
   ]
  },
  {
   "cell_type": "markdown",
   "id": "29034024",
   "metadata": {},
   "source": [
    "nombre_infected        98\n",
    "nombre_sain          3754\n",
    "nombre_exposed         85\n",
    "nombre_recovered    16063\n",
    "Name: 133, dtype: int64"
   ]
  },
  {
   "cell_type": "markdown",
   "id": "9eb65221",
   "metadata": {},
   "source": [
    "nombre_infected       103\n",
    "nombre_sain          3757\n",
    "nombre_exposed        102\n",
    "nombre_recovered    16038\n",
    "Name: 134, dtype: int64"
   ]
  },
  {
   "cell_type": "markdown",
   "id": "bde2bab5",
   "metadata": {},
   "source": [
    "nombre_infected       110\n",
    "nombre_sain          3775\n",
    "nombre_exposed        100\n",
    "nombre_recovered    16015\n",
    "Name: 135, dtype: int64"
   ]
  },
  {
   "cell_type": "markdown",
   "id": "a7580fab",
   "metadata": {},
   "source": [
    "nombre_infected       115\n",
    "nombre_sain          3787\n",
    "nombre_exposed        105\n",
    "nombre_recovered    15993\n",
    "Name: 136, dtype: int64"
   ]
  },
  {
   "cell_type": "markdown",
   "id": "24566a94",
   "metadata": {},
   "source": [
    "nombre_infected       121\n",
    "nombre_sain          3792\n",
    "nombre_exposed        119\n",
    "nombre_recovered    15968\n",
    "Name: 137, dtype: int64"
   ]
  },
  {
   "cell_type": "markdown",
   "id": "2ece9667",
   "metadata": {},
   "source": [
    "nombre_infected       127\n",
    "nombre_sain          3814\n",
    "nombre_exposed        131\n",
    "nombre_recovered    15928\n",
    "Name: 138, dtype: int64"
   ]
  },
  {
   "cell_type": "markdown",
   "id": "99520ef0",
   "metadata": {},
   "source": [
    "nombre_infected       140\n",
    "nombre_sain          3828\n",
    "nombre_exposed        136\n",
    "nombre_recovered    15896\n",
    "Name: 139, dtype: int64"
   ]
  },
  {
   "cell_type": "markdown",
   "id": "db636c7a",
   "metadata": {},
   "source": [
    "nombre_infected       162\n",
    "nombre_sain          3826\n",
    "nombre_exposed        141\n",
    "nombre_recovered    15871\n",
    "Name: 140, dtype: int64"
   ]
  },
  {
   "cell_type": "markdown",
   "id": "ee183649",
   "metadata": {},
   "source": [
    "nombre_infected       175\n",
    "nombre_sain          3851\n",
    "nombre_exposed        134\n",
    "nombre_recovered    15840\n",
    "Name: 141, dtype: int64"
   ]
  },
  {
   "cell_type": "markdown",
   "id": "d9eea492",
   "metadata": {},
   "source": [
    "nombre_infected       177\n",
    "nombre_sain          3881\n",
    "nombre_exposed        150\n",
    "nombre_recovered    15792\n",
    "Name: 142, dtype: int64"
   ]
  },
  {
   "cell_type": "markdown",
   "id": "35cbaa0a",
   "metadata": {},
   "source": [
    "nombre_infected       170\n",
    "nombre_sain          3904\n",
    "nombre_exposed        162\n",
    "nombre_recovered    15764\n",
    "Name: 143, dtype: int64"
   ]
  },
  {
   "cell_type": "markdown",
   "id": "fe16c5f0",
   "metadata": {},
   "source": [
    "nombre_infected       188\n",
    "nombre_sain          3920\n",
    "nombre_exposed        162\n",
    "nombre_recovered    15730\n",
    "Name: 144, dtype: int64"
   ]
  },
  {
   "cell_type": "markdown",
   "id": "6e908f3f",
   "metadata": {},
   "source": [
    "nombre_infected       206\n",
    "nombre_sain          3918\n",
    "nombre_exposed        175\n",
    "nombre_recovered    15701\n",
    "Name: 145, dtype: int64"
   ]
  },
  {
   "cell_type": "markdown",
   "id": "219606d6",
   "metadata": {},
   "source": [
    "nombre_infected       226\n",
    "nombre_sain          3902\n",
    "nombre_exposed        198\n",
    "nombre_recovered    15674\n",
    "Name: 146, dtype: int64"
   ]
  },
  {
   "cell_type": "markdown",
   "id": "5177d24b",
   "metadata": {},
   "source": [
    "nombre_infected       239\n",
    "nombre_sain          3888\n",
    "nombre_exposed        214\n",
    "nombre_recovered    15659\n",
    "Name: 147, dtype: int64"
   ]
  },
  {
   "cell_type": "markdown",
   "id": "216e2d4f",
   "metadata": {},
   "source": [
    "nombre_infected       256\n",
    "nombre_sain          3886\n",
    "nombre_exposed        228\n",
    "nombre_recovered    15630\n",
    "Name: 148, dtype: int64"
   ]
  },
  {
   "cell_type": "markdown",
   "id": "c4694f10",
   "metadata": {},
   "source": [
    "nombre_infected       271\n",
    "nombre_sain          3883\n",
    "nombre_exposed        232\n",
    "nombre_recovered    15614\n",
    "Name: 149, dtype: int64"
   ]
  },
  {
   "cell_type": "markdown",
   "id": "21ccd0b2",
   "metadata": {},
   "source": [
    "nombre_infected       288\n",
    "nombre_sain          3858\n",
    "nombre_exposed        235\n",
    "nombre_recovered    15619\n",
    "Name: 150, dtype: int64"
   ]
  },
  {
   "cell_type": "markdown",
   "id": "22754856",
   "metadata": {},
   "source": [
    "nombre_infected       314\n",
    "nombre_sain          3806\n",
    "nombre_exposed        251\n",
    "nombre_recovered    15629\n",
    "Name: 151, dtype: int64"
   ]
  },
  {
   "cell_type": "markdown",
   "id": "f8a3b329",
   "metadata": {},
   "source": [
    "nombre_infected       331\n",
    "nombre_sain          3778\n",
    "nombre_exposed        263\n",
    "nombre_recovered    15628\n",
    "Name: 152, dtype: int64"
   ]
  },
  {
   "cell_type": "markdown",
   "id": "2108cd06",
   "metadata": {},
   "source": [
    "nombre_infected       340\n",
    "nombre_sain          3736\n",
    "nombre_exposed        280\n",
    "nombre_recovered    15644\n",
    "Name: 153, dtype: int64"
   ]
  },
  {
   "cell_type": "markdown",
   "id": "4f568379",
   "metadata": {},
   "source": [
    "nombre_infected       355\n",
    "nombre_sain          3693\n",
    "nombre_exposed        289\n",
    "nombre_recovered    15663\n",
    "Name: 154, dtype: int64"
   ]
  },
  {
   "cell_type": "markdown",
   "id": "b1bcabae",
   "metadata": {},
   "source": [
    "nombre_infected       377\n",
    "nombre_sain          3652\n",
    "nombre_exposed        307\n",
    "nombre_recovered    15664\n",
    "Name: 155, dtype: int64"
   ]
  },
  {
   "cell_type": "markdown",
   "id": "1bf3b6dd",
   "metadata": {},
   "source": [
    "nombre_infected       393\n",
    "nombre_sain          3594\n",
    "nombre_exposed        334\n",
    "nombre_recovered    15679\n",
    "Name: 156, dtype: int64"
   ]
  },
  {
   "cell_type": "markdown",
   "id": "e68acfd8",
   "metadata": {},
   "source": [
    "nombre_infected       406\n",
    "nombre_sain          3553\n",
    "nombre_exposed        342\n",
    "nombre_recovered    15699\n",
    "Name: 157, dtype: int64"
   ]
  },
  {
   "cell_type": "markdown",
   "id": "482624aa",
   "metadata": {},
   "source": [
    "nombre_infected       426\n",
    "nombre_sain          3487\n",
    "nombre_exposed        366\n",
    "nombre_recovered    15721\n",
    "Name: 158, dtype: int64"
   ]
  },
  {
   "cell_type": "markdown",
   "id": "d5f3978a",
   "metadata": {},
   "source": [
    "nombre_infected       478\n",
    "nombre_sain          3424\n",
    "nombre_exposed        356\n",
    "nombre_recovered    15742\n",
    "Name: 159, dtype: int64"
   ]
  },
  {
   "cell_type": "markdown",
   "id": "0fc6fdbd",
   "metadata": {},
   "source": [
    "nombre_infected       488\n",
    "nombre_sain          3371\n",
    "nombre_exposed        385\n",
    "nombre_recovered    15756\n",
    "Name: 160, dtype: int64"
   ]
  },
  {
   "cell_type": "markdown",
   "id": "31b6c332",
   "metadata": {},
   "source": [
    "nombre_infected       510\n",
    "nombre_sain          3312\n",
    "nombre_exposed        397\n",
    "nombre_recovered    15781\n",
    "Name: 161, dtype: int64"
   ]
  },
  {
   "cell_type": "markdown",
   "id": "45adb8c5",
   "metadata": {},
   "source": [
    "nombre_infected       512\n",
    "nombre_sain          3278\n",
    "nombre_exposed        412\n",
    "nombre_recovered    15798\n",
    "Name: 162, dtype: int64"
   ]
  },
  {
   "cell_type": "markdown",
   "id": "ef565705",
   "metadata": {},
   "source": [
    "nombre_infected       543\n",
    "nombre_sain          3229\n",
    "nombre_exposed        424\n",
    "nombre_recovered    15804\n",
    "Name: 163, dtype: int64"
   ]
  },
  {
   "cell_type": "markdown",
   "id": "91594d11",
   "metadata": {},
   "source": [
    "nombre_infected       582\n",
    "nombre_sain          3183\n",
    "nombre_exposed        424\n",
    "nombre_recovered    15811\n",
    "Name: 164, dtype: int64"
   ]
  },
  {
   "cell_type": "markdown",
   "id": "d590d7bf",
   "metadata": {},
   "source": [
    "nombre_infected       601\n",
    "nombre_sain          3146\n",
    "nombre_exposed        426\n",
    "nombre_recovered    15827\n",
    "Name: 165, dtype: int64"
   ]
  },
  {
   "cell_type": "markdown",
   "id": "9e52757b",
   "metadata": {},
   "source": [
    "nombre_infected       617\n",
    "nombre_sain          3094\n",
    "nombre_exposed        442\n",
    "nombre_recovered    15847\n",
    "Name: 166, dtype: int64"
   ]
  },
  {
   "cell_type": "markdown",
   "id": "818a4fa3",
   "metadata": {},
   "source": [
    "nombre_infected       619\n",
    "nombre_sain          3063\n",
    "nombre_exposed        443\n",
    "nombre_recovered    15875\n",
    "Name: 167, dtype: int64"
   ]
  },
  {
   "cell_type": "markdown",
   "id": "746aa167",
   "metadata": {},
   "source": [
    "nombre_infected       638\n",
    "nombre_sain          2993\n",
    "nombre_exposed        464\n",
    "nombre_recovered    15905\n",
    "Name: 168, dtype: int64"
   ]
  },
  {
   "cell_type": "markdown",
   "id": "5dd90eba",
   "metadata": {},
   "source": [
    "nombre_infected       678\n",
    "nombre_sain          2927\n",
    "nombre_exposed        472\n",
    "nombre_recovered    15923\n",
    "Name: 169, dtype: int64"
   ]
  },
  {
   "cell_type": "markdown",
   "id": "50d078d3",
   "metadata": {},
   "source": [
    "nombre_infected       693\n",
    "nombre_sain          2874\n",
    "nombre_exposed        482\n",
    "nombre_recovered    15951\n",
    "Name: 170, dtype: int64"
   ]
  },
  {
   "cell_type": "markdown",
   "id": "c4201c29",
   "metadata": {},
   "source": [
    "nombre_infected       702\n",
    "nombre_sain          2802\n",
    "nombre_exposed        503\n",
    "nombre_recovered    15993\n",
    "Name: 171, dtype: int64"
   ]
  },
  {
   "cell_type": "markdown",
   "id": "426c3c1b",
   "metadata": {},
   "source": [
    "nombre_infected       720\n",
    "nombre_sain          2747\n",
    "nombre_exposed        494\n",
    "nombre_recovered    16039\n",
    "Name: 172, dtype: int64"
   ]
  },
  {
   "cell_type": "markdown",
   "id": "6e2e760d",
   "metadata": {},
   "source": [
    "nombre_infected       766\n",
    "nombre_sain          2682\n",
    "nombre_exposed        474\n",
    "nombre_recovered    16078\n",
    "Name: 173, dtype: int64"
   ]
  },
  {
   "cell_type": "markdown",
   "id": "32d9a74f",
   "metadata": {},
   "source": [
    "nombre_infected       770\n",
    "nombre_sain          2624\n",
    "nombre_exposed        480\n",
    "nombre_recovered    16126\n",
    "Name: 174, dtype: int64"
   ]
  },
  {
   "cell_type": "markdown",
   "id": "b13063da",
   "metadata": {},
   "source": [
    "nombre_infected       776\n",
    "nombre_sain          2534\n",
    "nombre_exposed        497\n",
    "nombre_recovered    16193\n",
    "Name: 175, dtype: int64"
   ]
  },
  {
   "cell_type": "markdown",
   "id": "5cd9331e",
   "metadata": {},
   "source": [
    "nombre_infected       747\n",
    "nombre_sain          2475\n",
    "nombre_exposed        506\n",
    "nombre_recovered    16272\n",
    "Name: 176, dtype: int64"
   ]
  },
  {
   "cell_type": "markdown",
   "id": "ad28d33c",
   "metadata": {},
   "source": [
    "nombre_infected       768\n",
    "nombre_sain          2410\n",
    "nombre_exposed        490\n",
    "nombre_recovered    16332\n",
    "Name: 177, dtype: int64"
   ]
  },
  {
   "cell_type": "markdown",
   "id": "1a087f76",
   "metadata": {},
   "source": [
    "nombre_infected       778\n",
    "nombre_sain          2337\n",
    "nombre_exposed        496\n",
    "nombre_recovered    16389\n",
    "Name: 178, dtype: int64"
   ]
  },
  {
   "cell_type": "markdown",
   "id": "a39c6d09",
   "metadata": {},
   "source": [
    "nombre_infected       771\n",
    "nombre_sain          2282\n",
    "nombre_exposed        485\n",
    "nombre_recovered    16462\n",
    "Name: 179, dtype: int64"
   ]
  },
  {
   "cell_type": "markdown",
   "id": "63270b9f",
   "metadata": {},
   "source": [
    "nombre_infected       772\n",
    "nombre_sain          2225\n",
    "nombre_exposed        461\n",
    "nombre_recovered    16542\n",
    "Name: 180, dtype: int64"
   ]
  },
  {
   "cell_type": "markdown",
   "id": "d1134625",
   "metadata": {},
   "source": [
    "nombre_infected       753\n",
    "nombre_sain          2171\n",
    "nombre_exposed        464\n",
    "nombre_recovered    16612\n",
    "Name: 181, dtype: int64"
   ]
  },
  {
   "cell_type": "markdown",
   "id": "cbff0450",
   "metadata": {},
   "source": [
    "nombre_infected       738\n",
    "nombre_sain          2137\n",
    "nombre_exposed        469\n",
    "nombre_recovered    16656\n",
    "Name: 182, dtype: int64"
   ]
  },
  {
   "cell_type": "markdown",
   "id": "a66a8dd0",
   "metadata": {},
   "source": [
    "nombre_infected       756\n",
    "nombre_sain          2118\n",
    "nombre_exposed        431\n",
    "nombre_recovered    16695\n",
    "Name: 183, dtype: int64"
   ]
  },
  {
   "cell_type": "markdown",
   "id": "bef6bab0",
   "metadata": {},
   "source": [
    "nombre_infected       782\n",
    "nombre_sain          2078\n",
    "nombre_exposed        406\n",
    "nombre_recovered    16734\n",
    "Name: 184, dtype: int64"
   ]
  },
  {
   "cell_type": "markdown",
   "id": "00ba7790",
   "metadata": {},
   "source": [
    "nombre_infected       768\n",
    "nombre_sain          2072\n",
    "nombre_exposed        373\n",
    "nombre_recovered    16787\n",
    "Name: 185, dtype: int64"
   ]
  },
  {
   "cell_type": "markdown",
   "id": "a2040d76",
   "metadata": {},
   "source": [
    "nombre_infected       766\n",
    "nombre_sain          2020\n",
    "nombre_exposed        385\n",
    "nombre_recovered    16829\n",
    "Name: 186, dtype: int64"
   ]
  },
  {
   "cell_type": "markdown",
   "id": "407580be",
   "metadata": {},
   "source": [
    "nombre_infected       743\n",
    "nombre_sain          1994\n",
    "nombre_exposed        393\n",
    "nombre_recovered    16870\n",
    "Name: 187, dtype: int64"
   ]
  },
  {
   "cell_type": "markdown",
   "id": "a00d96c6",
   "metadata": {},
   "source": [
    "nombre_infected       724\n",
    "nombre_sain          1973\n",
    "nombre_exposed        395\n",
    "nombre_recovered    16908\n",
    "Name: 188, dtype: int64"
   ]
  },
  {
   "cell_type": "markdown",
   "id": "860f3e97",
   "metadata": {},
   "source": [
    "nombre_infected       718\n",
    "nombre_sain          1969\n",
    "nombre_exposed        362\n",
    "nombre_recovered    16951\n",
    "Name: 189, dtype: int64"
   ]
  },
  {
   "cell_type": "markdown",
   "id": "9ed5e43e",
   "metadata": {},
   "source": [
    "nombre_infected       691\n",
    "nombre_sain          1937\n",
    "nombre_exposed        381\n",
    "nombre_recovered    16991\n",
    "Name: 190, dtype: int64"
   ]
  },
  {
   "cell_type": "markdown",
   "id": "ba17fddf",
   "metadata": {},
   "source": [
    "nombre_infected       693\n",
    "nombre_sain          1930\n",
    "nombre_exposed        355\n",
    "nombre_recovered    17022\n",
    "Name: 191, dtype: int64"
   ]
  },
  {
   "cell_type": "markdown",
   "id": "902632ad",
   "metadata": {},
   "source": [
    "nombre_infected       676\n",
    "nombre_sain          1924\n",
    "nombre_exposed        346\n",
    "nombre_recovered    17054\n",
    "Name: 192, dtype: int64"
   ]
  },
  {
   "cell_type": "markdown",
   "id": "0f35aeb7",
   "metadata": {},
   "source": [
    "nombre_infected       644\n",
    "nombre_sain          1909\n",
    "nombre_exposed        353\n",
    "nombre_recovered    17094\n",
    "Name: 193, dtype: int64"
   ]
  },
  {
   "cell_type": "markdown",
   "id": "58c97d86",
   "metadata": {},
   "source": [
    "nombre_infected       626\n",
    "nombre_sain          1929\n",
    "nombre_exposed        330\n",
    "nombre_recovered    17115\n",
    "Name: 194, dtype: int64"
   ]
  },
  {
   "cell_type": "markdown",
   "id": "b4cc199a",
   "metadata": {},
   "source": [
    "nombre_infected       605\n",
    "nombre_sain          1930\n",
    "nombre_exposed        331\n",
    "nombre_recovered    17134\n",
    "Name: 195, dtype: int64"
   ]
  },
  {
   "cell_type": "markdown",
   "id": "d1cae9a8",
   "metadata": {},
   "source": [
    "nombre_infected       593\n",
    "nombre_sain          1922\n",
    "nombre_exposed        343\n",
    "nombre_recovered    17142\n",
    "Name: 196, dtype: int64"
   ]
  },
  {
   "cell_type": "markdown",
   "id": "94f83a17",
   "metadata": {},
   "source": [
    "nombre_infected       550\n",
    "nombre_sain          1954\n",
    "nombre_exposed        341\n",
    "nombre_recovered    17155\n",
    "Name: 197, dtype: int64"
   ]
  },
  {
   "cell_type": "markdown",
   "id": "b069363c",
   "metadata": {},
   "source": [
    "nombre_infected       541\n",
    "nombre_sain          1988\n",
    "nombre_exposed        324\n",
    "nombre_recovered    17147\n",
    "Name: 198, dtype: int64"
   ]
  },
  {
   "cell_type": "markdown",
   "id": "f4c35bb6",
   "metadata": {},
   "source": [
    "nombre_infected       546\n",
    "nombre_sain          2005\n",
    "nombre_exposed        310\n",
    "nombre_recovered    17139\n",
    "Name: 199, dtype: int64"
   ]
  },
  {
   "cell_type": "markdown",
   "id": "585c4ce3",
   "metadata": {},
   "source": [
    "nombre_infected       526\n",
    "nombre_sain          2029\n",
    "nombre_exposed        306\n",
    "nombre_recovered    17139\n",
    "Name: 200, dtype: int64"
   ]
  },
  {
   "cell_type": "markdown",
   "id": "8d7f941c",
   "metadata": {},
   "source": [
    "nombre_infected       506\n",
    "nombre_sain          2063\n",
    "nombre_exposed        309\n",
    "nombre_recovered    17122\n",
    "Name: 201, dtype: int64"
   ]
  },
  {
   "cell_type": "markdown",
   "id": "a7c4d3dd",
   "metadata": {},
   "source": [
    "nombre_infected       484\n",
    "nombre_sain          2094\n",
    "nombre_exposed        311\n",
    "nombre_recovered    17111\n",
    "Name: 202, dtype: int64"
   ]
  },
  {
   "cell_type": "markdown",
   "id": "42a6d051",
   "metadata": {},
   "source": [
    "nombre_infected       478\n",
    "nombre_sain          2119\n",
    "nombre_exposed        310\n",
    "nombre_recovered    17093\n",
    "Name: 203, dtype: int64"
   ]
  },
  {
   "cell_type": "markdown",
   "id": "f8ce0691",
   "metadata": {},
   "source": [
    "nombre_infected       472\n",
    "nombre_sain          2154\n",
    "nombre_exposed        292\n",
    "nombre_recovered    17082\n",
    "Name: 204, dtype: int64"
   ]
  },
  {
   "cell_type": "markdown",
   "id": "7f26965d",
   "metadata": {},
   "source": [
    "nombre_infected       471\n",
    "nombre_sain          2182\n",
    "nombre_exposed        275\n",
    "nombre_recovered    17072\n",
    "Name: 205, dtype: int64"
   ]
  },
  {
   "cell_type": "markdown",
   "id": "e6883159",
   "metadata": {},
   "source": [
    "nombre_infected       454\n",
    "nombre_sain          2221\n",
    "nombre_exposed        290\n",
    "nombre_recovered    17035\n",
    "Name: 206, dtype: int64"
   ]
  },
  {
   "cell_type": "markdown",
   "id": "203b1b41",
   "metadata": {},
   "source": [
    "nombre_infected       422\n",
    "nombre_sain          2251\n",
    "nombre_exposed        297\n",
    "nombre_recovered    17030\n",
    "Name: 207, dtype: int64"
   ]
  },
  {
   "cell_type": "markdown",
   "id": "62b5d281",
   "metadata": {},
   "source": [
    "nombre_infected       431\n",
    "nombre_sain          2280\n",
    "nombre_exposed        306\n",
    "nombre_recovered    16983\n",
    "Name: 208, dtype: int64"
   ]
  },
  {
   "cell_type": "markdown",
   "id": "cc8387c4",
   "metadata": {},
   "source": [
    "nombre_infected       427\n",
    "nombre_sain          2319\n",
    "nombre_exposed        311\n",
    "nombre_recovered    16943\n",
    "Name: 209, dtype: int64"
   ]
  },
  {
   "cell_type": "markdown",
   "id": "8aeb3460",
   "metadata": {},
   "source": [
    "nombre_infected       430\n",
    "nombre_sain          2365\n",
    "nombre_exposed        313\n",
    "nombre_recovered    16892\n",
    "Name: 210, dtype: int64"
   ]
  },
  {
   "cell_type": "markdown",
   "id": "430a0284",
   "metadata": {},
   "source": [
    "nombre_infected       435\n",
    "nombre_sain          2409\n",
    "nombre_exposed        312\n",
    "nombre_recovered    16844\n",
    "Name: 211, dtype: int64"
   ]
  },
  {
   "cell_type": "markdown",
   "id": "74d46eb1",
   "metadata": {},
   "source": [
    "nombre_infected       456\n",
    "nombre_sain          2454\n",
    "nombre_exposed        299\n",
    "nombre_recovered    16791\n",
    "Name: 212, dtype: int64"
   ]
  },
  {
   "cell_type": "markdown",
   "id": "7f81c614",
   "metadata": {},
   "source": [
    "nombre_infected       467\n",
    "nombre_sain          2484\n",
    "nombre_exposed        296\n",
    "nombre_recovered    16753\n",
    "Name: 213, dtype: int64"
   ]
  },
  {
   "cell_type": "markdown",
   "id": "c43e50e8",
   "metadata": {},
   "source": [
    "nombre_infected       486\n",
    "nombre_sain          2520\n",
    "nombre_exposed        284\n",
    "nombre_recovered    16710\n",
    "Name: 214, dtype: int64"
   ]
  },
  {
   "cell_type": "markdown",
   "id": "e036e6b1",
   "metadata": {},
   "source": [
    "nombre_infected       485\n",
    "nombre_sain          2544\n",
    "nombre_exposed        292\n",
    "nombre_recovered    16679\n",
    "Name: 215, dtype: int64"
   ]
  },
  {
   "cell_type": "markdown",
   "id": "2f504ab2",
   "metadata": {},
   "source": [
    "nombre_infected       482\n",
    "nombre_sain          2571\n",
    "nombre_exposed        294\n",
    "nombre_recovered    16653\n",
    "Name: 216, dtype: int64"
   ]
  },
  {
   "cell_type": "markdown",
   "id": "e5fd834e",
   "metadata": {},
   "source": [
    "nombre_infected       480\n",
    "nombre_sain          2614\n",
    "nombre_exposed        301\n",
    "nombre_recovered    16605\n",
    "Name: 217, dtype: int64"
   ]
  },
  {
   "cell_type": "markdown",
   "id": "94403869",
   "metadata": {},
   "source": [
    "nombre_infected       472\n",
    "nombre_sain          2622\n",
    "nombre_exposed        325\n",
    "nombre_recovered    16581\n",
    "Name: 218, dtype: int64"
   ]
  },
  {
   "cell_type": "markdown",
   "id": "606c9e0b",
   "metadata": {},
   "source": [
    "nombre_infected       467\n",
    "nombre_sain          2635\n",
    "nombre_exposed        331\n",
    "nombre_recovered    16567\n",
    "Name: 219, dtype: int64"
   ]
  },
  {
   "cell_type": "markdown",
   "id": "68999c89",
   "metadata": {},
   "source": [
    "nombre_infected       476\n",
    "nombre_sain          2673\n",
    "nombre_exposed        325\n",
    "nombre_recovered    16526\n",
    "Name: 220, dtype: int64"
   ]
  },
  {
   "cell_type": "markdown",
   "id": "a44ba9c3",
   "metadata": {},
   "source": [
    "nombre_infected       481\n",
    "nombre_sain          2696\n",
    "nombre_exposed        316\n",
    "nombre_recovered    16507\n",
    "Name: 221, dtype: int64"
   ]
  },
  {
   "cell_type": "markdown",
   "id": "3258251f",
   "metadata": {},
   "source": [
    "nombre_infected       497\n",
    "nombre_sain          2717\n",
    "nombre_exposed        321\n",
    "nombre_recovered    16465\n",
    "Name: 222, dtype: int64"
   ]
  },
  {
   "cell_type": "markdown",
   "id": "67eae064",
   "metadata": {},
   "source": [
    "nombre_infected       497\n",
    "nombre_sain          2745\n",
    "nombre_exposed        354\n",
    "nombre_recovered    16404\n",
    "Name: 223, dtype: int64"
   ]
  },
  {
   "cell_type": "markdown",
   "id": "77107e39",
   "metadata": {},
   "source": [
    "nombre_infected       492\n",
    "nombre_sain          2790\n",
    "nombre_exposed        350\n",
    "nombre_recovered    16368\n",
    "Name: 224, dtype: int64"
   ]
  },
  {
   "cell_type": "markdown",
   "id": "313506a1",
   "metadata": {},
   "source": [
    "nombre_infected       509\n",
    "nombre_sain          2820\n",
    "nombre_exposed        341\n",
    "nombre_recovered    16330\n",
    "Name: 225, dtype: int64"
   ]
  },
  {
   "cell_type": "markdown",
   "id": "87900d1b",
   "metadata": {},
   "source": [
    "nombre_infected       513\n",
    "nombre_sain          2841\n",
    "nombre_exposed        341\n",
    "nombre_recovered    16305\n",
    "Name: 226, dtype: int64"
   ]
  },
  {
   "cell_type": "markdown",
   "id": "a2f0d713",
   "metadata": {},
   "source": [
    "nombre_infected       520\n",
    "nombre_sain          2873\n",
    "nombre_exposed        363\n",
    "nombre_recovered    16244\n",
    "Name: 227, dtype: int64"
   ]
  },
  {
   "cell_type": "markdown",
   "id": "a4a4997c",
   "metadata": {},
   "source": [
    "nombre_infected       529\n",
    "nombre_sain          2875\n",
    "nombre_exposed        382\n",
    "nombre_recovered    16214\n",
    "Name: 228, dtype: int64"
   ]
  },
  {
   "cell_type": "markdown",
   "id": "7d29ea20",
   "metadata": {},
   "source": [
    "nombre_infected       526\n",
    "nombre_sain          2883\n",
    "nombre_exposed        392\n",
    "nombre_recovered    16199\n",
    "Name: 229, dtype: int64"
   ]
  },
  {
   "cell_type": "markdown",
   "id": "ecd0396c",
   "metadata": {},
   "source": [
    "nombre_infected       558\n",
    "nombre_sain          2890\n",
    "nombre_exposed        384\n",
    "nombre_recovered    16168\n",
    "Name: 230, dtype: int64"
   ]
  },
  {
   "cell_type": "markdown",
   "id": "f08db41b",
   "metadata": {},
   "source": [
    "nombre_infected       571\n",
    "nombre_sain          2870\n",
    "nombre_exposed        420\n",
    "nombre_recovered    16139\n",
    "Name: 231, dtype: int64"
   ]
  },
  {
   "cell_type": "markdown",
   "id": "dc37299a",
   "metadata": {},
   "source": [
    "nombre_infected       598\n",
    "nombre_sain          2852\n",
    "nombre_exposed        427\n",
    "nombre_recovered    16123\n",
    "Name: 232, dtype: int64"
   ]
  },
  {
   "cell_type": "markdown",
   "id": "060cf397",
   "metadata": {},
   "source": [
    "nombre_infected       609\n",
    "nombre_sain          2842\n",
    "nombre_exposed        442\n",
    "nombre_recovered    16107\n",
    "Name: 233, dtype: int64"
   ]
  },
  {
   "cell_type": "markdown",
   "id": "ab991d70",
   "metadata": {},
   "source": [
    "nombre_infected       617\n",
    "nombre_sain          2834\n",
    "nombre_exposed        424\n",
    "nombre_recovered    16125\n",
    "Name: 234, dtype: int64"
   ]
  },
  {
   "cell_type": "markdown",
   "id": "a2080ceb",
   "metadata": {},
   "source": [
    "nombre_infected       644\n",
    "nombre_sain          2796\n",
    "nombre_exposed        447\n",
    "nombre_recovered    16113\n",
    "Name: 235, dtype: int64"
   ]
  },
  {
   "cell_type": "markdown",
   "id": "9cfd2247",
   "metadata": {},
   "source": [
    "nombre_infected       627\n",
    "nombre_sain          2786\n",
    "nombre_exposed        452\n",
    "nombre_recovered    16135\n",
    "Name: 236, dtype: int64"
   ]
  },
  {
   "cell_type": "markdown",
   "id": "09357042",
   "metadata": {},
   "source": [
    "nombre_infected       640\n",
    "nombre_sain          2757\n",
    "nombre_exposed        465\n",
    "nombre_recovered    16138\n",
    "Name: 237, dtype: int64"
   ]
  },
  {
   "cell_type": "markdown",
   "id": "a239b01a",
   "metadata": {},
   "source": [
    "nombre_infected       636\n",
    "nombre_sain          2735\n",
    "nombre_exposed        453\n",
    "nombre_recovered    16176\n",
    "Name: 238, dtype: int64"
   ]
  },
  {
   "cell_type": "markdown",
   "id": "afa2fa9b",
   "metadata": {},
   "source": [
    "nombre_infected       638\n",
    "nombre_sain          2713\n",
    "nombre_exposed        459\n",
    "nombre_recovered    16190\n",
    "Name: 239, dtype: int64"
   ]
  },
  {
   "cell_type": "markdown",
   "id": "34553c41",
   "metadata": {},
   "source": [
    "nombre_infected       641\n",
    "nombre_sain          2686\n",
    "nombre_exposed        478\n",
    "nombre_recovered    16195\n",
    "Name: 240, dtype: int64"
   ]
  },
  {
   "cell_type": "markdown",
   "id": "5f1a7cc4",
   "metadata": {},
   "source": [
    "nombre_infected       669\n",
    "nombre_sain          2661\n",
    "nombre_exposed        469\n",
    "nombre_recovered    16201\n",
    "Name: 241, dtype: int64"
   ]
  },
  {
   "cell_type": "markdown",
   "id": "1ff1b48d",
   "metadata": {},
   "source": [
    "nombre_infected       674\n",
    "nombre_sain          2654\n",
    "nombre_exposed        480\n",
    "nombre_recovered    16192\n",
    "Name: 242, dtype: int64"
   ]
  },
  {
   "cell_type": "markdown",
   "id": "15276c8a",
   "metadata": {},
   "source": [
    "nombre_infected       693\n",
    "nombre_sain          2639\n",
    "nombre_exposed        476\n",
    "nombre_recovered    16192\n",
    "Name: 243, dtype: int64"
   ]
  },
  {
   "cell_type": "markdown",
   "id": "e642f3b5",
   "metadata": {},
   "source": [
    "nombre_infected       693\n",
    "nombre_sain          2617\n",
    "nombre_exposed        484\n",
    "nombre_recovered    16206\n",
    "Name: 244, dtype: int64"
   ]
  },
  {
   "cell_type": "markdown",
   "id": "21ff94be",
   "metadata": {},
   "source": [
    "nombre_infected       695\n",
    "nombre_sain          2601\n",
    "nombre_exposed        486\n",
    "nombre_recovered    16218\n",
    "Name: 245, dtype: int64"
   ]
  },
  {
   "cell_type": "markdown",
   "id": "2f508597",
   "metadata": {},
   "source": [
    "nombre_infected       729\n",
    "nombre_sain          2597\n",
    "nombre_exposed        474\n",
    "nombre_recovered    16200\n",
    "Name: 246, dtype: int64"
   ]
  },
  {
   "cell_type": "markdown",
   "id": "6aa64397",
   "metadata": {},
   "source": [
    "nombre_infected       732\n",
    "nombre_sain          2583\n",
    "nombre_exposed        499\n",
    "nombre_recovered    16186\n",
    "Name: 247, dtype: int64"
   ]
  },
  {
   "cell_type": "markdown",
   "id": "5bb63947",
   "metadata": {},
   "source": [
    "nombre_infected       763\n",
    "nombre_sain          2550\n",
    "nombre_exposed        494\n",
    "nombre_recovered    16193\n",
    "Name: 248, dtype: int64"
   ]
  },
  {
   "cell_type": "markdown",
   "id": "707c9b0c",
   "metadata": {},
   "source": [
    "nombre_infected       787\n",
    "nombre_sain          2528\n",
    "nombre_exposed        489\n",
    "nombre_recovered    16196\n",
    "Name: 249, dtype: int64"
   ]
  },
  {
   "cell_type": "markdown",
   "id": "d7b27e1f",
   "metadata": {},
   "source": [
    "nombre_infected       785\n",
    "nombre_sain          2525\n",
    "nombre_exposed        496\n",
    "nombre_recovered    16194\n",
    "Name: 250, dtype: int64"
   ]
  },
  {
   "cell_type": "markdown",
   "id": "ab2288fc",
   "metadata": {},
   "source": [
    "nombre_infected       797\n",
    "nombre_sain          2509\n",
    "nombre_exposed        497\n",
    "nombre_recovered    16197\n",
    "Name: 251, dtype: int64"
   ]
  },
  {
   "cell_type": "markdown",
   "id": "f7eaaf15",
   "metadata": {},
   "source": [
    "nombre_infected       791\n",
    "nombre_sain          2490\n",
    "nombre_exposed        503\n",
    "nombre_recovered    16216\n",
    "Name: 252, dtype: int64"
   ]
  },
  {
   "cell_type": "markdown",
   "id": "b1483f47",
   "metadata": {},
   "source": [
    "nombre_infected       787\n",
    "nombre_sain          2469\n",
    "nombre_exposed        505\n",
    "nombre_recovered    16239\n",
    "Name: 253, dtype: int64"
   ]
  },
  {
   "cell_type": "markdown",
   "id": "43fb36ae",
   "metadata": {},
   "source": [
    "nombre_infected       806\n",
    "nombre_sain          2477\n",
    "nombre_exposed        492\n",
    "nombre_recovered    16225\n",
    "Name: 254, dtype: int64"
   ]
  },
  {
   "cell_type": "markdown",
   "id": "6d9c8e29",
   "metadata": {},
   "source": [
    "nombre_infected       808\n",
    "nombre_sain          2444\n",
    "nombre_exposed        510\n",
    "nombre_recovered    16238\n",
    "Name: 255, dtype: int64"
   ]
  },
  {
   "cell_type": "markdown",
   "id": "6108bb00",
   "metadata": {},
   "source": [
    "nombre_infected       809\n",
    "nombre_sain          2408\n",
    "nombre_exposed        513\n",
    "nombre_recovered    16270\n",
    "Name: 256, dtype: int64"
   ]
  },
  {
   "cell_type": "markdown",
   "id": "e15062b6",
   "metadata": {},
   "source": [
    "nombre_infected       836\n",
    "nombre_sain          2369\n",
    "nombre_exposed        520\n",
    "nombre_recovered    16275\n",
    "Name: 257, dtype: int64"
   ]
  },
  {
   "cell_type": "markdown",
   "id": "965f9c09",
   "metadata": {},
   "source": [
    "nombre_infected       843\n",
    "nombre_sain          2354\n",
    "nombre_exposed        524\n",
    "nombre_recovered    16279\n",
    "Name: 258, dtype: int64"
   ]
  },
  {
   "cell_type": "markdown",
   "id": "ad0e2ca1",
   "metadata": {},
   "source": [
    "nombre_infected       830\n",
    "nombre_sain          2339\n",
    "nombre_exposed        530\n",
    "nombre_recovered    16301\n",
    "Name: 259, dtype: int64"
   ]
  },
  {
   "cell_type": "markdown",
   "id": "e8151667",
   "metadata": {},
   "source": [
    "nombre_infected       854\n",
    "nombre_sain          2317\n",
    "nombre_exposed        520\n",
    "nombre_recovered    16309\n",
    "Name: 260, dtype: int64"
   ]
  },
  {
   "cell_type": "markdown",
   "id": "8bd54934",
   "metadata": {},
   "source": [
    "nombre_infected       850\n",
    "nombre_sain          2305\n",
    "nombre_exposed        510\n",
    "nombre_recovered    16335\n",
    "Name: 261, dtype: int64"
   ]
  },
  {
   "cell_type": "markdown",
   "id": "24775f9a",
   "metadata": {},
   "source": [
    "nombre_infected       854\n",
    "nombre_sain          2290\n",
    "nombre_exposed        481\n",
    "nombre_recovered    16375\n",
    "Name: 262, dtype: int64"
   ]
  },
  {
   "cell_type": "markdown",
   "id": "95424299",
   "metadata": {},
   "source": [
    "nombre_infected       835\n",
    "nombre_sain          2239\n",
    "nombre_exposed        509\n",
    "nombre_recovered    16417\n",
    "Name: 263, dtype: int64"
   ]
  },
  {
   "cell_type": "markdown",
   "id": "f721540a",
   "metadata": {},
   "source": [
    "nombre_infected       827\n",
    "nombre_sain          2221\n",
    "nombre_exposed        501\n",
    "nombre_recovered    16451\n",
    "Name: 264, dtype: int64"
   ]
  },
  {
   "cell_type": "markdown",
   "id": "d1486af7",
   "metadata": {},
   "source": [
    "nombre_infected       827\n",
    "nombre_sain          2195\n",
    "nombre_exposed        498\n",
    "nombre_recovered    16480\n",
    "Name: 265, dtype: int64"
   ]
  },
  {
   "cell_type": "markdown",
   "id": "722cecfd",
   "metadata": {},
   "source": [
    "nombre_infected       835\n",
    "nombre_sain          2187\n",
    "nombre_exposed        488\n",
    "nombre_recovered    16490\n",
    "Name: 266, dtype: int64"
   ]
  },
  {
   "cell_type": "markdown",
   "id": "53cbfbaa",
   "metadata": {},
   "source": [
    "nombre_infected       855\n",
    "nombre_sain          2175\n",
    "nombre_exposed        463\n",
    "nombre_recovered    16507\n",
    "Name: 267, dtype: int64"
   ]
  },
  {
   "cell_type": "markdown",
   "id": "5881346e",
   "metadata": {},
   "source": [
    "nombre_infected       850\n",
    "nombre_sain          2147\n",
    "nombre_exposed        462\n",
    "nombre_recovered    16541\n",
    "Name: 268, dtype: int64"
   ]
  },
  {
   "cell_type": "markdown",
   "id": "054b22b3",
   "metadata": {},
   "source": [
    "nombre_infected       840\n",
    "nombre_sain          2131\n",
    "nombre_exposed        459\n",
    "nombre_recovered    16570\n",
    "Name: 269, dtype: int64"
   ]
  },
  {
   "cell_type": "markdown",
   "id": "5224edcd",
   "metadata": {},
   "source": [
    "nombre_infected       827\n",
    "nombre_sain          2111\n",
    "nombre_exposed        468\n",
    "nombre_recovered    16594\n",
    "Name: 270, dtype: int64"
   ]
  },
  {
   "cell_type": "markdown",
   "id": "ee6abf0b",
   "metadata": {},
   "source": [
    "nombre_infected       833\n",
    "nombre_sain          2107\n",
    "nombre_exposed        469\n",
    "nombre_recovered    16591\n",
    "Name: 271, dtype: int64"
   ]
  },
  {
   "cell_type": "markdown",
   "id": "870718ce",
   "metadata": {},
   "source": [
    "nombre_infected       843\n",
    "nombre_sain          2078\n",
    "nombre_exposed        480\n",
    "nombre_recovered    16599\n",
    "Name: 272, dtype: int64"
   ]
  },
  {
   "cell_type": "markdown",
   "id": "58502b80",
   "metadata": {},
   "source": [
    "nombre_infected       836\n",
    "nombre_sain          2075\n",
    "nombre_exposed        467\n",
    "nombre_recovered    16622\n",
    "Name: 273, dtype: int64"
   ]
  },
  {
   "cell_type": "markdown",
   "id": "00e2dacb",
   "metadata": {},
   "source": [
    "nombre_infected       829\n",
    "nombre_sain          2090\n",
    "nombre_exposed        457\n",
    "nombre_recovered    16624\n",
    "Name: 274, dtype: int64"
   ]
  },
  {
   "cell_type": "markdown",
   "id": "1e72dbc9",
   "metadata": {},
   "source": [
    "nombre_infected       843\n",
    "nombre_sain          2088\n",
    "nombre_exposed        464\n",
    "nombre_recovered    16605\n",
    "Name: 275, dtype: int64"
   ]
  },
  {
   "cell_type": "markdown",
   "id": "c6d06789",
   "metadata": {},
   "source": [
    "nombre_infected       839\n",
    "nombre_sain          2092\n",
    "nombre_exposed        434\n",
    "nombre_recovered    16635\n",
    "Name: 276, dtype: int64"
   ]
  },
  {
   "cell_type": "markdown",
   "id": "b8360248",
   "metadata": {},
   "source": [
    "nombre_infected       824\n",
    "nombre_sain          2091\n",
    "nombre_exposed        436\n",
    "nombre_recovered    16649\n",
    "Name: 277, dtype: int64"
   ]
  },
  {
   "cell_type": "markdown",
   "id": "b86f77c8",
   "metadata": {},
   "source": [
    "nombre_infected       808\n",
    "nombre_sain          2116\n",
    "nombre_exposed        425\n",
    "nombre_recovered    16651\n",
    "Name: 278, dtype: int64"
   ]
  },
  {
   "cell_type": "markdown",
   "id": "8cdd7bf4",
   "metadata": {},
   "source": [
    "nombre_infected       805\n",
    "nombre_sain          2138\n",
    "nombre_exposed        408\n",
    "nombre_recovered    16649\n",
    "Name: 279, dtype: int64"
   ]
  },
  {
   "cell_type": "markdown",
   "id": "6c46840c",
   "metadata": {},
   "source": [
    "nombre_infected       802\n",
    "nombre_sain          2154\n",
    "nombre_exposed        413\n",
    "nombre_recovered    16631\n",
    "Name: 280, dtype: int64"
   ]
  },
  {
   "cell_type": "markdown",
   "id": "c61977dd",
   "metadata": {},
   "source": [
    "nombre_infected       787\n",
    "nombre_sain          2176\n",
    "nombre_exposed        413\n",
    "nombre_recovered    16624\n",
    "Name: 281, dtype: int64"
   ]
  },
  {
   "cell_type": "markdown",
   "id": "9d6a316e",
   "metadata": {},
   "source": [
    "nombre_infected       781\n",
    "nombre_sain          2186\n",
    "nombre_exposed        417\n",
    "nombre_recovered    16616\n",
    "Name: 282, dtype: int64"
   ]
  },
  {
   "cell_type": "markdown",
   "id": "ea402ad9",
   "metadata": {},
   "source": [
    "nombre_infected       781\n",
    "nombre_sain          2199\n",
    "nombre_exposed        417\n",
    "nombre_recovered    16603\n",
    "Name: 283, dtype: int64"
   ]
  },
  {
   "cell_type": "markdown",
   "id": "ce75e200",
   "metadata": {},
   "source": [
    "nombre_infected       766\n",
    "nombre_sain          2195\n",
    "nombre_exposed        447\n",
    "nombre_recovered    16592\n",
    "Name: 284, dtype: int64"
   ]
  },
  {
   "cell_type": "markdown",
   "id": "6b7643fe",
   "metadata": {},
   "source": [
    "nombre_infected       765\n",
    "nombre_sain          2188\n",
    "nombre_exposed        448\n",
    "nombre_recovered    16599\n",
    "Name: 285, dtype: int64"
   ]
  },
  {
   "cell_type": "markdown",
   "id": "b3b3acbf",
   "metadata": {},
   "source": [
    "nombre_infected       794\n",
    "nombre_sain          2175\n",
    "nombre_exposed        446\n",
    "nombre_recovered    16585\n",
    "Name: 286, dtype: int64"
   ]
  },
  {
   "cell_type": "markdown",
   "id": "a738f1bb",
   "metadata": {},
   "source": [
    "nombre_infected       802\n",
    "nombre_sain          2159\n",
    "nombre_exposed        455\n",
    "nombre_recovered    16584\n",
    "Name: 287, dtype: int64"
   ]
  },
  {
   "cell_type": "markdown",
   "id": "20b540ad",
   "metadata": {},
   "source": [
    "nombre_infected       796\n",
    "nombre_sain          2173\n",
    "nombre_exposed        436\n",
    "nombre_recovered    16595\n",
    "Name: 288, dtype: int64"
   ]
  },
  {
   "cell_type": "markdown",
   "id": "768b29fd",
   "metadata": {},
   "source": [
    "nombre_infected       806\n",
    "nombre_sain          2170\n",
    "nombre_exposed        446\n",
    "nombre_recovered    16578\n",
    "Name: 289, dtype: int64"
   ]
  },
  {
   "cell_type": "markdown",
   "id": "13ef3268",
   "metadata": {},
   "source": [
    "nombre_infected       795\n",
    "nombre_sain          2191\n",
    "nombre_exposed        450\n",
    "nombre_recovered    16564\n",
    "Name: 290, dtype: int64"
   ]
  },
  {
   "cell_type": "markdown",
   "id": "aa0d8ec4",
   "metadata": {},
   "source": [
    "nombre_infected       793\n",
    "nombre_sain          2212\n",
    "nombre_exposed        449\n",
    "nombre_recovered    16546\n",
    "Name: 291, dtype: int64"
   ]
  },
  {
   "cell_type": "markdown",
   "id": "56878991",
   "metadata": {},
   "source": [
    "nombre_infected       812\n",
    "nombre_sain          2216\n",
    "nombre_exposed        449\n",
    "nombre_recovered    16523\n",
    "Name: 292, dtype: int64"
   ]
  },
  {
   "cell_type": "markdown",
   "id": "7f2d72fc",
   "metadata": {},
   "source": [
    "nombre_infected       813\n",
    "nombre_sain          2207\n",
    "nombre_exposed        454\n",
    "nombre_recovered    16526\n",
    "Name: 293, dtype: int64"
   ]
  },
  {
   "cell_type": "markdown",
   "id": "36190e9e",
   "metadata": {},
   "source": [
    "nombre_infected       798\n",
    "nombre_sain          2198\n",
    "nombre_exposed        484\n",
    "nombre_recovered    16520\n",
    "Name: 294, dtype: int64"
   ]
  },
  {
   "cell_type": "markdown",
   "id": "6d62e5ae",
   "metadata": {},
   "source": [
    "nombre_infected       836\n",
    "nombre_sain          2215\n",
    "nombre_exposed        482\n",
    "nombre_recovered    16467\n",
    "Name: 295, dtype: int64"
   ]
  },
  {
   "cell_type": "markdown",
   "id": "0f3e6191",
   "metadata": {},
   "source": [
    "nombre_infected       832\n",
    "nombre_sain          2215\n",
    "nombre_exposed        482\n",
    "nombre_recovered    16471\n",
    "Name: 296, dtype: int64"
   ]
  },
  {
   "cell_type": "markdown",
   "id": "90b5346e",
   "metadata": {},
   "source": [
    "nombre_infected       857\n",
    "nombre_sain          2231\n",
    "nombre_exposed        459\n",
    "nombre_recovered    16453\n",
    "Name: 297, dtype: int64"
   ]
  },
  {
   "cell_type": "markdown",
   "id": "61b03a49",
   "metadata": {},
   "source": [
    "nombre_infected       862\n",
    "nombre_sain          2230\n",
    "nombre_exposed        471\n",
    "nombre_recovered    16437\n",
    "Name: 298, dtype: int64"
   ]
  },
  {
   "cell_type": "markdown",
   "id": "895be54c",
   "metadata": {},
   "source": [
    "nombre_infected       850\n",
    "nombre_sain          2236\n",
    "nombre_exposed        485\n",
    "nombre_recovered    16429\n",
    "Name: 299, dtype: int64"
   ]
  },
  {
   "cell_type": "markdown",
   "id": "57a0015f",
   "metadata": {},
   "source": [
    "nombre_infected       867\n",
    "nombre_sain          2239\n",
    "nombre_exposed        458\n",
    "nombre_recovered    16436\n",
    "Name: 300, dtype: int64"
   ]
  },
  {
   "cell_type": "markdown",
   "id": "14102b9c",
   "metadata": {},
   "source": [
    "nombre_infected       883\n",
    "nombre_sain          2223\n",
    "nombre_exposed        456\n",
    "nombre_recovered    16438\n",
    "Name: 301, dtype: int64"
   ]
  },
  {
   "cell_type": "markdown",
   "id": "8df5034f",
   "metadata": {},
   "source": [
    "nombre_infected       897\n",
    "nombre_sain          2207\n",
    "nombre_exposed        467\n",
    "nombre_recovered    16429\n",
    "Name: 302, dtype: int64"
   ]
  },
  {
   "cell_type": "markdown",
   "id": "e463c4bb",
   "metadata": {},
   "source": [
    "nombre_infected       887\n",
    "nombre_sain          2219\n",
    "nombre_exposed        468\n",
    "nombre_recovered    16426\n",
    "Name: 303, dtype: int64"
   ]
  },
  {
   "cell_type": "markdown",
   "id": "85072f43",
   "metadata": {},
   "source": [
    "nombre_infected       885\n",
    "nombre_sain          2209\n",
    "nombre_exposed        472\n",
    "nombre_recovered    16434\n",
    "Name: 304, dtype: int64"
   ]
  },
  {
   "cell_type": "markdown",
   "id": "ff627816",
   "metadata": {},
   "source": [
    "nombre_infected       884\n",
    "nombre_sain          2219\n",
    "nombre_exposed        460\n",
    "nombre_recovered    16437\n",
    "Name: 305, dtype: int64"
   ]
  },
  {
   "cell_type": "markdown",
   "id": "021857c9",
   "metadata": {},
   "source": [
    "nombre_infected       874\n",
    "nombre_sain          2210\n",
    "nombre_exposed        460\n",
    "nombre_recovered    16456\n",
    "Name: 306, dtype: int64"
   ]
  },
  {
   "cell_type": "markdown",
   "id": "2b282774",
   "metadata": {},
   "source": [
    "nombre_infected       863\n",
    "nombre_sain          2178\n",
    "nombre_exposed        476\n",
    "nombre_recovered    16483\n",
    "Name: 307, dtype: int64"
   ]
  },
  {
   "cell_type": "markdown",
   "id": "72cd951d",
   "metadata": {},
   "source": [
    "nombre_infected       842\n",
    "nombre_sain          2154\n",
    "nombre_exposed        504\n",
    "nombre_recovered    16500\n",
    "Name: 308, dtype: int64"
   ]
  },
  {
   "cell_type": "markdown",
   "id": "427de322",
   "metadata": {},
   "source": [
    "nombre_infected       847\n",
    "nombre_sain          2129\n",
    "nombre_exposed        513\n",
    "nombre_recovered    16511\n",
    "Name: 309, dtype: int64"
   ]
  },
  {
   "cell_type": "markdown",
   "id": "cd117e4d",
   "metadata": {},
   "source": [
    "nombre_infected       848\n",
    "nombre_sain          2123\n",
    "nombre_exposed        508\n",
    "nombre_recovered    16521\n",
    "Name: 310, dtype: int64"
   ]
  },
  {
   "cell_type": "markdown",
   "id": "cb6598c9",
   "metadata": {},
   "source": [
    "nombre_infected       845\n",
    "nombre_sain          2093\n",
    "nombre_exposed        515\n",
    "nombre_recovered    16547\n",
    "Name: 311, dtype: int64"
   ]
  },
  {
   "cell_type": "markdown",
   "id": "c90f0441",
   "metadata": {},
   "source": [
    "nombre_infected       873\n",
    "nombre_sain          2100\n",
    "nombre_exposed        484\n",
    "nombre_recovered    16543\n",
    "Name: 312, dtype: int64"
   ]
  },
  {
   "cell_type": "markdown",
   "id": "57ed242e",
   "metadata": {},
   "source": [
    "nombre_infected       892\n",
    "nombre_sain          2105\n",
    "nombre_exposed        459\n",
    "nombre_recovered    16544\n",
    "Name: 313, dtype: int64"
   ]
  },
  {
   "cell_type": "markdown",
   "id": "6cb3ce4e",
   "metadata": {},
   "source": [
    "nombre_infected       878\n",
    "nombre_sain          2093\n",
    "nombre_exposed        452\n",
    "nombre_recovered    16577\n",
    "Name: 314, dtype: int64"
   ]
  },
  {
   "cell_type": "markdown",
   "id": "ae003e5d",
   "metadata": {},
   "source": [
    "nombre_infected       862\n",
    "nombre_sain          2060\n",
    "nombre_exposed        457\n",
    "nombre_recovered    16621\n",
    "Name: 315, dtype: int64"
   ]
  },
  {
   "cell_type": "markdown",
   "id": "0ea3e1dd",
   "metadata": {},
   "source": [
    "nombre_infected       830\n",
    "nombre_sain          2061\n",
    "nombre_exposed        454\n",
    "nombre_recovered    16655\n",
    "Name: 316, dtype: int64"
   ]
  },
  {
   "cell_type": "markdown",
   "id": "8765676c",
   "metadata": {},
   "source": [
    "nombre_infected       814\n",
    "nombre_sain          2047\n",
    "nombre_exposed        466\n",
    "nombre_recovered    16673\n",
    "Name: 317, dtype: int64"
   ]
  },
  {
   "cell_type": "markdown",
   "id": "d6ff0211",
   "metadata": {},
   "source": [
    "nombre_infected       811\n",
    "nombre_sain          2056\n",
    "nombre_exposed        462\n",
    "nombre_recovered    16671\n",
    "Name: 318, dtype: int64"
   ]
  },
  {
   "cell_type": "markdown",
   "id": "ecfdaec5",
   "metadata": {},
   "source": [
    "nombre_infected       806\n",
    "nombre_sain          2075\n",
    "nombre_exposed        447\n",
    "nombre_recovered    16672\n",
    "Name: 319, dtype: int64"
   ]
  },
  {
   "cell_type": "markdown",
   "id": "6f405212",
   "metadata": {},
   "source": [
    "nombre_infected       767\n",
    "nombre_sain          2106\n",
    "nombre_exposed        426\n",
    "nombre_recovered    16701\n",
    "Name: 320, dtype: int64"
   ]
  },
  {
   "cell_type": "markdown",
   "id": "9baf4e03",
   "metadata": {},
   "source": [
    "nombre_infected       750\n",
    "nombre_sain          2140\n",
    "nombre_exposed        416\n",
    "nombre_recovered    16694\n",
    "Name: 321, dtype: int64"
   ]
  },
  {
   "cell_type": "markdown",
   "id": "e07e774e",
   "metadata": {},
   "source": [
    "nombre_infected       739\n",
    "nombre_sain          2155\n",
    "nombre_exposed        420\n",
    "nombre_recovered    16686\n",
    "Name: 322, dtype: int64"
   ]
  },
  {
   "cell_type": "markdown",
   "id": "1a5c52e9",
   "metadata": {},
   "source": [
    "nombre_infected       727\n",
    "nombre_sain          2208\n",
    "nombre_exposed        403\n",
    "nombre_recovered    16662\n",
    "Name: 323, dtype: int64"
   ]
  },
  {
   "cell_type": "markdown",
   "id": "5615dd3a",
   "metadata": {},
   "source": [
    "nombre_infected       705\n",
    "nombre_sain          2241\n",
    "nombre_exposed        408\n",
    "nombre_recovered    16646\n",
    "Name: 324, dtype: int64"
   ]
  },
  {
   "cell_type": "markdown",
   "id": "9936be41",
   "metadata": {},
   "source": [
    "nombre_infected       720\n",
    "nombre_sain          2292\n",
    "nombre_exposed        392\n",
    "nombre_recovered    16596\n",
    "Name: 325, dtype: int64"
   ]
  },
  {
   "cell_type": "markdown",
   "id": "a088355c",
   "metadata": {},
   "source": [
    "nombre_infected       718\n",
    "nombre_sain          2332\n",
    "nombre_exposed        395\n",
    "nombre_recovered    16555\n",
    "Name: 326, dtype: int64"
   ]
  },
  {
   "cell_type": "markdown",
   "id": "5044be3f",
   "metadata": {},
   "source": [
    "nombre_infected       691\n",
    "nombre_sain          2319\n",
    "nombre_exposed        429\n",
    "nombre_recovered    16561\n",
    "Name: 327, dtype: int64"
   ]
  },
  {
   "cell_type": "markdown",
   "id": "2ae70691",
   "metadata": {},
   "source": [
    "nombre_infected       676\n",
    "nombre_sain          2346\n",
    "nombre_exposed        436\n",
    "nombre_recovered    16542\n",
    "Name: 328, dtype: int64"
   ]
  },
  {
   "cell_type": "markdown",
   "id": "312e2eca",
   "metadata": {},
   "source": [
    "nombre_infected       663\n",
    "nombre_sain          2354\n",
    "nombre_exposed        455\n",
    "nombre_recovered    16528\n",
    "Name: 329, dtype: int64"
   ]
  },
  {
   "cell_type": "markdown",
   "id": "086f39bd",
   "metadata": {},
   "source": [
    "nombre_infected       654\n",
    "nombre_sain          2380\n",
    "nombre_exposed        456\n",
    "nombre_recovered    16510\n",
    "Name: 330, dtype: int64"
   ]
  },
  {
   "cell_type": "markdown",
   "id": "b5b50cf6",
   "metadata": {},
   "source": [
    "nombre_infected       617\n",
    "nombre_sain          2392\n",
    "nombre_exposed        474\n",
    "nombre_recovered    16517\n",
    "Name: 331, dtype: int64"
   ]
  },
  {
   "cell_type": "markdown",
   "id": "09ba023c",
   "metadata": {},
   "source": [
    "nombre_infected       613\n",
    "nombre_sain          2423\n",
    "nombre_exposed        450\n",
    "nombre_recovered    16514\n",
    "Name: 332, dtype: int64"
   ]
  },
  {
   "cell_type": "markdown",
   "id": "19393b49",
   "metadata": {},
   "source": [
    "nombre_infected       646\n",
    "nombre_sain          2461\n",
    "nombre_exposed        424\n",
    "nombre_recovered    16469\n",
    "Name: 333, dtype: int64"
   ]
  },
  {
   "cell_type": "markdown",
   "id": "99101f8d",
   "metadata": {},
   "source": [
    "nombre_infected       647\n",
    "nombre_sain          2478\n",
    "nombre_exposed        413\n",
    "nombre_recovered    16462\n",
    "Name: 334, dtype: int64"
   ]
  },
  {
   "cell_type": "markdown",
   "id": "343cbb79",
   "metadata": {},
   "source": [
    "nombre_infected       651\n",
    "nombre_sain          2496\n",
    "nombre_exposed        397\n",
    "nombre_recovered    16456\n",
    "Name: 335, dtype: int64"
   ]
  },
  {
   "cell_type": "markdown",
   "id": "4c10dab7",
   "metadata": {},
   "source": [
    "nombre_infected       653\n",
    "nombre_sain          2535\n",
    "nombre_exposed        386\n",
    "nombre_recovered    16426\n",
    "Name: 336, dtype: int64"
   ]
  },
  {
   "cell_type": "markdown",
   "id": "247404f3",
   "metadata": {},
   "source": [
    "nombre_infected       644\n",
    "nombre_sain          2524\n",
    "nombre_exposed        386\n",
    "nombre_recovered    16446\n",
    "Name: 337, dtype: int64"
   ]
  },
  {
   "cell_type": "markdown",
   "id": "d7d285d8",
   "metadata": {},
   "source": [
    "nombre_infected       647\n",
    "nombre_sain          2544\n",
    "nombre_exposed        379\n",
    "nombre_recovered    16430\n",
    "Name: 338, dtype: int64"
   ]
  },
  {
   "cell_type": "markdown",
   "id": "528f2de4",
   "metadata": {},
   "source": [
    "nombre_infected       634\n",
    "nombre_sain          2530\n",
    "nombre_exposed        403\n",
    "nombre_recovered    16433\n",
    "Name: 339, dtype: int64"
   ]
  },
  {
   "cell_type": "markdown",
   "id": "38130c0d",
   "metadata": {},
   "source": [
    "nombre_infected       606\n",
    "nombre_sain          2497\n",
    "nombre_exposed        428\n",
    "nombre_recovered    16469\n",
    "Name: 340, dtype: int64"
   ]
  },
  {
   "cell_type": "markdown",
   "id": "a94d257c",
   "metadata": {},
   "source": [
    "nombre_infected       611\n",
    "nombre_sain          2478\n",
    "nombre_exposed        432\n",
    "nombre_recovered    16479\n",
    "Name: 341, dtype: int64"
   ]
  },
  {
   "cell_type": "markdown",
   "id": "33d2b691",
   "metadata": {},
   "source": [
    "nombre_infected       620\n",
    "nombre_sain          2478\n",
    "nombre_exposed        420\n",
    "nombre_recovered    16482\n",
    "Name: 342, dtype: int64"
   ]
  },
  {
   "cell_type": "markdown",
   "id": "25457747",
   "metadata": {},
   "source": [
    "nombre_infected       635\n",
    "nombre_sain          2502\n",
    "nombre_exposed        410\n",
    "nombre_recovered    16453\n",
    "Name: 343, dtype: int64"
   ]
  },
  {
   "cell_type": "markdown",
   "id": "9afe6899",
   "metadata": {},
   "source": [
    "nombre_infected       611\n",
    "nombre_sain          2485\n",
    "nombre_exposed        436\n",
    "nombre_recovered    16468\n",
    "Name: 344, dtype: int64"
   ]
  },
  {
   "cell_type": "markdown",
   "id": "e27edcc4",
   "metadata": {},
   "source": [
    "nombre_infected       598\n",
    "nombre_sain          2502\n",
    "nombre_exposed        449\n",
    "nombre_recovered    16451\n",
    "Name: 345, dtype: int64"
   ]
  },
  {
   "cell_type": "markdown",
   "id": "349cd3d8",
   "metadata": {},
   "source": [
    "nombre_infected       628\n",
    "nombre_sain          2508\n",
    "nombre_exposed        437\n",
    "nombre_recovered    16427\n",
    "Name: 346, dtype: int64"
   ]
  },
  {
   "cell_type": "markdown",
   "id": "bf61ba90",
   "metadata": {},
   "source": [
    "nombre_infected       664\n",
    "nombre_sain          2518\n",
    "nombre_exposed        427\n",
    "nombre_recovered    16391\n",
    "Name: 347, dtype: int64"
   ]
  },
  {
   "cell_type": "markdown",
   "id": "f7eb18a0",
   "metadata": {},
   "source": [
    "nombre_infected       660\n",
    "nombre_sain          2521\n",
    "nombre_exposed        441\n",
    "nombre_recovered    16378\n",
    "Name: 348, dtype: int64"
   ]
  },
  {
   "cell_type": "markdown",
   "id": "72d39ad3",
   "metadata": {},
   "source": [
    "nombre_infected       662\n",
    "nombre_sain          2530\n",
    "nombre_exposed        453\n",
    "nombre_recovered    16355\n",
    "Name: 349, dtype: int64"
   ]
  },
  {
   "cell_type": "markdown",
   "id": "6727c8f5",
   "metadata": {},
   "source": [
    "nombre_infected       647\n",
    "nombre_sain          2562\n",
    "nombre_exposed        462\n",
    "nombre_recovered    16329\n",
    "Name: 350, dtype: int64"
   ]
  },
  {
   "cell_type": "markdown",
   "id": "3bfcbbad",
   "metadata": {},
   "source": [
    "nombre_infected       677\n",
    "nombre_sain          2547\n",
    "nombre_exposed        457\n",
    "nombre_recovered    16319\n",
    "Name: 351, dtype: int64"
   ]
  },
  {
   "cell_type": "markdown",
   "id": "e8de66e1",
   "metadata": {},
   "source": [
    "nombre_infected       681\n",
    "nombre_sain          2562\n",
    "nombre_exposed        474\n",
    "nombre_recovered    16283\n",
    "Name: 352, dtype: int64"
   ]
  },
  {
   "cell_type": "markdown",
   "id": "de1fa537",
   "metadata": {},
   "source": [
    "nombre_infected       693\n",
    "nombre_sain          2613\n",
    "nombre_exposed        457\n",
    "nombre_recovered    16237\n",
    "Name: 353, dtype: int64"
   ]
  },
  {
   "cell_type": "markdown",
   "id": "5e7ee193",
   "metadata": {},
   "source": [
    "nombre_infected       683\n",
    "nombre_sain          2615\n",
    "nombre_exposed        475\n",
    "nombre_recovered    16227\n",
    "Name: 354, dtype: int64"
   ]
  },
  {
   "cell_type": "markdown",
   "id": "a90d9243",
   "metadata": {},
   "source": [
    "nombre_infected       685\n",
    "nombre_sain          2620\n",
    "nombre_exposed        497\n",
    "nombre_recovered    16198\n",
    "Name: 355, dtype: int64"
   ]
  },
  {
   "cell_type": "markdown",
   "id": "db3969d7",
   "metadata": {},
   "source": [
    "nombre_infected       698\n",
    "nombre_sain          2603\n",
    "nombre_exposed        517\n",
    "nombre_recovered    16182\n",
    "Name: 356, dtype: int64"
   ]
  },
  {
   "cell_type": "markdown",
   "id": "227699a1",
   "metadata": {},
   "source": [
    "nombre_infected       711\n",
    "nombre_sain          2602\n",
    "nombre_exposed        513\n",
    "nombre_recovered    16174\n",
    "Name: 357, dtype: int64"
   ]
  },
  {
   "cell_type": "markdown",
   "id": "c64ed6cf",
   "metadata": {},
   "source": [
    "nombre_infected       726\n",
    "nombre_sain          2577\n",
    "nombre_exposed        519\n",
    "nombre_recovered    16178\n",
    "Name: 358, dtype: int64"
   ]
  },
  {
   "cell_type": "markdown",
   "id": "d563c4d2",
   "metadata": {},
   "source": [
    "nombre_infected       741\n",
    "nombre_sain          2552\n",
    "nombre_exposed        515\n",
    "nombre_recovered    16192\n",
    "Name: 359, dtype: int64"
   ]
  },
  {
   "cell_type": "markdown",
   "id": "f32391dd",
   "metadata": {},
   "source": [
    "nombre_infected       728\n",
    "nombre_sain          2525\n",
    "nombre_exposed        521\n",
    "nombre_recovered    16226\n",
    "Name: 360, dtype: int64"
   ]
  },
  {
   "cell_type": "markdown",
   "id": "bd873dab",
   "metadata": {},
   "source": [
    "nombre_infected       739\n",
    "nombre_sain          2505\n",
    "nombre_exposed        522\n",
    "nombre_recovered    16234\n",
    "Name: 361, dtype: int64"
   ]
  },
  {
   "cell_type": "markdown",
   "id": "fff7575c",
   "metadata": {},
   "source": [
    "nombre_infected       735\n",
    "nombre_sain          2479\n",
    "nombre_exposed        528\n",
    "nombre_recovered    16258\n",
    "Name: 362, dtype: int64"
   ]
  },
  {
   "cell_type": "markdown",
   "id": "ad36bfed",
   "metadata": {},
   "source": [
    "nombre_infected       716\n",
    "nombre_sain          2462\n",
    "nombre_exposed        549\n",
    "nombre_recovered    16273\n",
    "Name: 363, dtype: int64"
   ]
  },
  {
   "cell_type": "markdown",
   "id": "1aa57e13",
   "metadata": {},
   "source": [
    "nombre_infected       725\n",
    "nombre_sain          2431\n",
    "nombre_exposed        551\n",
    "nombre_recovered    16293\n",
    "Name: 364, dtype: int64"
   ]
  },
  {
   "cell_type": "markdown",
   "id": "965f190d",
   "metadata": {},
   "source": [
    "nombre_infected       732\n",
    "nombre_sain          2419\n",
    "nombre_exposed        560\n",
    "nombre_recovered    16289\n",
    "Name: 365, dtype: int64"
   ]
  },
  {
   "cell_type": "markdown",
   "id": "c37577e8",
   "metadata": {},
   "source": [
    "nombre_infected       740\n",
    "nombre_sain          2407\n",
    "nombre_exposed        561\n",
    "nombre_recovered    16292\n",
    "Name: 366, dtype: int64"
   ]
  },
  {
   "cell_type": "markdown",
   "id": "57d00012",
   "metadata": {},
   "source": [
    "nombre_infected       773\n",
    "nombre_sain          2371\n",
    "nombre_exposed        554\n",
    "nombre_recovered    16302\n",
    "Name: 367, dtype: int64"
   ]
  },
  {
   "cell_type": "markdown",
   "id": "124c7dba",
   "metadata": {},
   "source": [
    "nombre_infected       768\n",
    "nombre_sain          2374\n",
    "nombre_exposed        547\n",
    "nombre_recovered    16311\n",
    "Name: 368, dtype: int64"
   ]
  },
  {
   "cell_type": "markdown",
   "id": "2934c3bb",
   "metadata": {},
   "source": [
    "nombre_infected       771\n",
    "nombre_sain          2366\n",
    "nombre_exposed        534\n",
    "nombre_recovered    16329\n",
    "Name: 369, dtype: int64"
   ]
  },
  {
   "cell_type": "markdown",
   "id": "262b0dbe",
   "metadata": {},
   "source": [
    "nombre_infected       782\n",
    "nombre_sain          2358\n",
    "nombre_exposed        528\n",
    "nombre_recovered    16332\n",
    "Name: 370, dtype: int64"
   ]
  },
  {
   "cell_type": "markdown",
   "id": "6c558997",
   "metadata": {},
   "source": [
    "nombre_infected       759\n",
    "nombre_sain          2356\n",
    "nombre_exposed        540\n",
    "nombre_recovered    16345\n",
    "Name: 371, dtype: int64"
   ]
  },
  {
   "cell_type": "markdown",
   "id": "904afb46",
   "metadata": {},
   "source": [
    "nombre_infected       774\n",
    "nombre_sain          2351\n",
    "nombre_exposed        514\n",
    "nombre_recovered    16361\n",
    "Name: 372, dtype: int64"
   ]
  },
  {
   "cell_type": "markdown",
   "id": "2551973e",
   "metadata": {},
   "source": [
    "nombre_infected       781\n",
    "nombre_sain          2346\n",
    "nombre_exposed        508\n",
    "nombre_recovered    16365\n",
    "Name: 373, dtype: int64"
   ]
  },
  {
   "cell_type": "markdown",
   "id": "e4cec058",
   "metadata": {},
   "source": [
    "nombre_infected       779\n",
    "nombre_sain          2346\n",
    "nombre_exposed        495\n",
    "nombre_recovered    16380\n",
    "Name: 374, dtype: int64"
   ]
  },
  {
   "cell_type": "markdown",
   "id": "c54c78a0",
   "metadata": {},
   "source": [
    "nombre_infected       791\n",
    "nombre_sain          2345\n",
    "nombre_exposed        487\n",
    "nombre_recovered    16377\n",
    "Name: 375, dtype: int64"
   ]
  },
  {
   "cell_type": "markdown",
   "id": "2753e2dc",
   "metadata": {},
   "source": [
    "nombre_infected       788\n",
    "nombre_sain          2319\n",
    "nombre_exposed        514\n",
    "nombre_recovered    16379\n",
    "Name: 376, dtype: int64"
   ]
  },
  {
   "cell_type": "markdown",
   "id": "bea6ce64",
   "metadata": {},
   "source": [
    "nombre_infected       783\n",
    "nombre_sain          2300\n",
    "nombre_exposed        531\n",
    "nombre_recovered    16386\n",
    "Name: 377, dtype: int64"
   ]
  },
  {
   "cell_type": "markdown",
   "id": "3b85c19e",
   "metadata": {},
   "source": [
    "nombre_infected       789\n",
    "nombre_sain          2320\n",
    "nombre_exposed        507\n",
    "nombre_recovered    16384\n",
    "Name: 378, dtype: int64"
   ]
  },
  {
   "cell_type": "markdown",
   "id": "455c8d59",
   "metadata": {},
   "source": [
    "nombre_infected       799\n",
    "nombre_sain          2322\n",
    "nombre_exposed        489\n",
    "nombre_recovered    16390\n",
    "Name: 379, dtype: int64"
   ]
  },
  {
   "cell_type": "markdown",
   "id": "c6862f12",
   "metadata": {},
   "source": [
    "nombre_infected       785\n",
    "nombre_sain          2303\n",
    "nombre_exposed        514\n",
    "nombre_recovered    16398\n",
    "Name: 380, dtype: int64"
   ]
  },
  {
   "cell_type": "markdown",
   "id": "5e02a42a",
   "metadata": {},
   "source": [
    "nombre_infected       776\n",
    "nombre_sain          2282\n",
    "nombre_exposed        523\n",
    "nombre_recovered    16419\n",
    "Name: 381, dtype: int64"
   ]
  },
  {
   "cell_type": "markdown",
   "id": "b65ca449",
   "metadata": {},
   "source": [
    "nombre_infected       775\n",
    "nombre_sain          2255\n",
    "nombre_exposed        538\n",
    "nombre_recovered    16432\n",
    "Name: 382, dtype: int64"
   ]
  },
  {
   "cell_type": "markdown",
   "id": "e7534338",
   "metadata": {},
   "source": [
    "nombre_infected       785\n",
    "nombre_sain          2262\n",
    "nombre_exposed        514\n",
    "nombre_recovered    16439\n",
    "Name: 383, dtype: int64"
   ]
  },
  {
   "cell_type": "markdown",
   "id": "d97da569",
   "metadata": {},
   "source": [
    "nombre_infected       777\n",
    "nombre_sain          2247\n",
    "nombre_exposed        522\n",
    "nombre_recovered    16454\n",
    "Name: 384, dtype: int64"
   ]
  },
  {
   "cell_type": "markdown",
   "id": "dccaf8cc",
   "metadata": {},
   "source": [
    "nombre_infected       786\n",
    "nombre_sain          2248\n",
    "nombre_exposed        518\n",
    "nombre_recovered    16448\n",
    "Name: 385, dtype: int64"
   ]
  },
  {
   "cell_type": "markdown",
   "id": "1f0c908e",
   "metadata": {},
   "source": [
    "nombre_infected       793\n",
    "nombre_sain          2242\n",
    "nombre_exposed        506\n",
    "nombre_recovered    16459\n",
    "Name: 386, dtype: int64"
   ]
  },
  {
   "cell_type": "markdown",
   "id": "db05d4e9",
   "metadata": {},
   "source": [
    "nombre_infected       805\n",
    "nombre_sain          2226\n",
    "nombre_exposed        489\n",
    "nombre_recovered    16480\n",
    "Name: 387, dtype: int64"
   ]
  },
  {
   "cell_type": "markdown",
   "id": "96fe6f31",
   "metadata": {},
   "source": [
    "nombre_infected       785\n",
    "nombre_sain          2223\n",
    "nombre_exposed        490\n",
    "nombre_recovered    16502\n",
    "Name: 388, dtype: int64"
   ]
  },
  {
   "cell_type": "markdown",
   "id": "4a2678af",
   "metadata": {},
   "source": [
    "nombre_infected       775\n",
    "nombre_sain          2222\n",
    "nombre_exposed        478\n",
    "nombre_recovered    16525\n",
    "Name: 389, dtype: int64"
   ]
  },
  {
   "cell_type": "markdown",
   "id": "cb3c498a",
   "metadata": {},
   "source": [
    "nombre_infected       759\n",
    "nombre_sain          2210\n",
    "nombre_exposed        481\n",
    "nombre_recovered    16550\n",
    "Name: 390, dtype: int64"
   ]
  },
  {
   "cell_type": "markdown",
   "id": "0635e934",
   "metadata": {},
   "source": [
    "nombre_infected       759\n",
    "nombre_sain          2212\n",
    "nombre_exposed        475\n",
    "nombre_recovered    16554\n",
    "Name: 391, dtype: int64"
   ]
  },
  {
   "cell_type": "markdown",
   "id": "38ee43bc",
   "metadata": {},
   "source": [
    "nombre_infected       739\n",
    "nombre_sain          2172\n",
    "nombre_exposed        502\n",
    "nombre_recovered    16587\n",
    "Name: 392, dtype: int64"
   ]
  },
  {
   "cell_type": "markdown",
   "id": "1866e35b",
   "metadata": {},
   "source": [
    "nombre_infected       745\n",
    "nombre_sain          2163\n",
    "nombre_exposed        502\n",
    "nombre_recovered    16590\n",
    "Name: 393, dtype: int64"
   ]
  },
  {
   "cell_type": "markdown",
   "id": "055b88bb",
   "metadata": {},
   "source": [
    "nombre_infected       755\n",
    "nombre_sain          2163\n",
    "nombre_exposed        468\n",
    "nombre_recovered    16614\n",
    "Name: 394, dtype: int64"
   ]
  },
  {
   "cell_type": "markdown",
   "id": "fef0ed92",
   "metadata": {},
   "source": [
    "nombre_infected       766\n",
    "nombre_sain          2176\n",
    "nombre_exposed        461\n",
    "nombre_recovered    16597\n",
    "Name: 395, dtype: int64"
   ]
  },
  {
   "cell_type": "markdown",
   "id": "a6a17813",
   "metadata": {},
   "source": [
    "nombre_infected       756\n",
    "nombre_sain          2180\n",
    "nombre_exposed        461\n",
    "nombre_recovered    16603\n",
    "Name: 396, dtype: int64"
   ]
  },
  {
   "cell_type": "markdown",
   "id": "7a80cbcb",
   "metadata": {},
   "source": [
    "nombre_infected       744\n",
    "nombre_sain          2202\n",
    "nombre_exposed        463\n",
    "nombre_recovered    16591\n",
    "Name: 397, dtype: int64"
   ]
  },
  {
   "cell_type": "markdown",
   "id": "7c8f81ae",
   "metadata": {},
   "source": [
    "nombre_infected       747\n",
    "nombre_sain          2204\n",
    "nombre_exposed        469\n",
    "nombre_recovered    16580\n",
    "Name: 398, dtype: int64"
   ]
  },
  {
   "cell_type": "markdown",
   "id": "481b8772",
   "metadata": {},
   "source": [
    "nombre_infected       730\n",
    "nombre_sain          2214\n",
    "nombre_exposed        471\n",
    "nombre_recovered    16585\n",
    "Name: 399, dtype: int64"
   ]
  },
  {
   "cell_type": "markdown",
   "id": "c3c18954",
   "metadata": {},
   "source": [
    "nombre_infected       707\n",
    "nombre_sain          2221\n",
    "nombre_exposed        489\n",
    "nombre_recovered    16583\n",
    "Name: 400, dtype: int64"
   ]
  },
  {
   "cell_type": "markdown",
   "id": "a7f31945",
   "metadata": {},
   "source": [
    "nombre_infected       712\n",
    "nombre_sain          2220\n",
    "nombre_exposed        485\n",
    "nombre_recovered    16583\n",
    "Name: 401, dtype: int64"
   ]
  },
  {
   "cell_type": "markdown",
   "id": "0822961c",
   "metadata": {},
   "source": [
    "nombre_infected       705\n",
    "nombre_sain          2232\n",
    "nombre_exposed        469\n",
    "nombre_recovered    16594\n",
    "Name: 402, dtype: int64"
   ]
  },
  {
   "cell_type": "markdown",
   "id": "9aba47ca",
   "metadata": {},
   "source": [
    "nombre_infected       725\n",
    "nombre_sain          2250\n",
    "nombre_exposed        451\n",
    "nombre_recovered    16574\n",
    "Name: 403, dtype: int64"
   ]
  },
  {
   "cell_type": "markdown",
   "id": "9e8d7293",
   "metadata": {},
   "source": [
    "nombre_infected       716\n",
    "nombre_sain          2288\n",
    "nombre_exposed        426\n",
    "nombre_recovered    16570\n",
    "Name: 404, dtype: int64"
   ]
  },
  {
   "cell_type": "markdown",
   "id": "e41d8230",
   "metadata": {},
   "source": [
    "nombre_infected       685\n",
    "nombre_sain          2275\n",
    "nombre_exposed        477\n",
    "nombre_recovered    16563\n",
    "Name: 405, dtype: int64"
   ]
  },
  {
   "cell_type": "markdown",
   "id": "ff753207",
   "metadata": {},
   "source": [
    "nombre_infected       671\n",
    "nombre_sain          2296\n",
    "nombre_exposed        476\n",
    "nombre_recovered    16557\n",
    "Name: 406, dtype: int64"
   ]
  },
  {
   "cell_type": "markdown",
   "id": "b6e2d2e8",
   "metadata": {},
   "source": [
    "nombre_infected       669\n",
    "nombre_sain          2303\n",
    "nombre_exposed        481\n",
    "nombre_recovered    16547\n",
    "Name: 407, dtype: int64"
   ]
  },
  {
   "cell_type": "markdown",
   "id": "aef0093a",
   "metadata": {},
   "source": [
    "nombre_infected       684\n",
    "nombre_sain          2332\n",
    "nombre_exposed        475\n",
    "nombre_recovered    16509\n",
    "Name: 408, dtype: int64"
   ]
  },
  {
   "cell_type": "markdown",
   "id": "fe3f2fbd",
   "metadata": {},
   "source": [
    "nombre_infected       698\n",
    "nombre_sain          2350\n",
    "nombre_exposed        473\n",
    "nombre_recovered    16479\n",
    "Name: 409, dtype: int64"
   ]
  },
  {
   "cell_type": "markdown",
   "id": "3f8b40f4",
   "metadata": {},
   "source": [
    "nombre_infected       690\n",
    "nombre_sain          2350\n",
    "nombre_exposed        472\n",
    "nombre_recovered    16488\n",
    "Name: 410, dtype: int64"
   ]
  },
  {
   "cell_type": "markdown",
   "id": "b71687de",
   "metadata": {},
   "source": [
    "nombre_infected       699\n",
    "nombre_sain          2369\n",
    "nombre_exposed        463\n",
    "nombre_recovered    16469\n",
    "Name: 411, dtype: int64"
   ]
  },
  {
   "cell_type": "markdown",
   "id": "41667fb8",
   "metadata": {},
   "source": [
    "nombre_infected       695\n",
    "nombre_sain          2372\n",
    "nombre_exposed        478\n",
    "nombre_recovered    16455\n",
    "Name: 412, dtype: int64"
   ]
  },
  {
   "cell_type": "markdown",
   "id": "4f96a50f",
   "metadata": {},
   "source": [
    "nombre_infected       712\n",
    "nombre_sain          2389\n",
    "nombre_exposed        468\n",
    "nombre_recovered    16431\n",
    "Name: 413, dtype: int64"
   ]
  },
  {
   "cell_type": "markdown",
   "id": "83a46698",
   "metadata": {},
   "source": [
    "nombre_infected       724\n",
    "nombre_sain          2406\n",
    "nombre_exposed        457\n",
    "nombre_recovered    16413\n",
    "Name: 414, dtype: int64"
   ]
  },
  {
   "cell_type": "markdown",
   "id": "b5487e28",
   "metadata": {},
   "source": [
    "nombre_infected       731\n",
    "nombre_sain          2409\n",
    "nombre_exposed        455\n",
    "nombre_recovered    16405\n",
    "Name: 415, dtype: int64"
   ]
  },
  {
   "cell_type": "markdown",
   "id": "ed6d374e",
   "metadata": {},
   "source": [
    "nombre_infected       735\n",
    "nombre_sain          2410\n",
    "nombre_exposed        463\n",
    "nombre_recovered    16392\n",
    "Name: 416, dtype: int64"
   ]
  },
  {
   "cell_type": "markdown",
   "id": "5b48ff91",
   "metadata": {},
   "source": [
    "nombre_infected       740\n",
    "nombre_sain          2416\n",
    "nombre_exposed        464\n",
    "nombre_recovered    16380\n",
    "Name: 417, dtype: int64"
   ]
  },
  {
   "cell_type": "markdown",
   "id": "db10ac24",
   "metadata": {},
   "source": [
    "nombre_infected       758\n",
    "nombre_sain          2437\n",
    "nombre_exposed        464\n",
    "nombre_recovered    16341\n",
    "Name: 418, dtype: int64"
   ]
  },
  {
   "cell_type": "markdown",
   "id": "0630d8f3",
   "metadata": {},
   "source": [
    "nombre_infected       748\n",
    "nombre_sain          2447\n",
    "nombre_exposed        489\n",
    "nombre_recovered    16316\n",
    "Name: 419, dtype: int64"
   ]
  },
  {
   "cell_type": "markdown",
   "id": "46b90301",
   "metadata": {},
   "source": [
    "nombre_infected       751\n",
    "nombre_sain          2448\n",
    "nombre_exposed        493\n",
    "nombre_recovered    16308\n",
    "Name: 420, dtype: int64"
   ]
  },
  {
   "cell_type": "markdown",
   "id": "f4b69897",
   "metadata": {},
   "source": [
    "nombre_infected       747\n",
    "nombre_sain          2474\n",
    "nombre_exposed        496\n",
    "nombre_recovered    16283\n",
    "Name: 421, dtype: int64"
   ]
  },
  {
   "cell_type": "markdown",
   "id": "b4ae701e",
   "metadata": {},
   "source": [
    "nombre_infected       758\n",
    "nombre_sain          2491\n",
    "nombre_exposed        507\n",
    "nombre_recovered    16244\n",
    "Name: 422, dtype: int64"
   ]
  },
  {
   "cell_type": "markdown",
   "id": "4ba5db96",
   "metadata": {},
   "source": [
    "nombre_infected       760\n",
    "nombre_sain          2485\n",
    "nombre_exposed        514\n",
    "nombre_recovered    16241\n",
    "Name: 423, dtype: int64"
   ]
  },
  {
   "cell_type": "markdown",
   "id": "cf2e5091",
   "metadata": {},
   "source": [
    "nombre_infected       757\n",
    "nombre_sain          2481\n",
    "nombre_exposed        517\n",
    "nombre_recovered    16245\n",
    "Name: 424, dtype: int64"
   ]
  },
  {
   "cell_type": "markdown",
   "id": "ee7caaf5",
   "metadata": {},
   "source": [
    "nombre_infected       763\n",
    "nombre_sain          2454\n",
    "nombre_exposed        530\n",
    "nombre_recovered    16253\n",
    "Name: 425, dtype: int64"
   ]
  },
  {
   "cell_type": "markdown",
   "id": "c8df163a",
   "metadata": {},
   "source": [
    "nombre_infected       776\n",
    "nombre_sain          2459\n",
    "nombre_exposed        523\n",
    "nombre_recovered    16242\n",
    "Name: 426, dtype: int64"
   ]
  },
  {
   "cell_type": "markdown",
   "id": "8c11c387",
   "metadata": {},
   "source": [
    "nombre_infected       778\n",
    "nombre_sain          2479\n",
    "nombre_exposed        510\n",
    "nombre_recovered    16233\n",
    "Name: 427, dtype: int64"
   ]
  },
  {
   "cell_type": "markdown",
   "id": "cfea91dc",
   "metadata": {},
   "source": [
    "nombre_infected       777\n",
    "nombre_sain          2470\n",
    "nombre_exposed        522\n",
    "nombre_recovered    16231\n",
    "Name: 428, dtype: int64"
   ]
  },
  {
   "cell_type": "markdown",
   "id": "281bcd9e",
   "metadata": {},
   "source": [
    "nombre_infected       792\n",
    "nombre_sain          2460\n",
    "nombre_exposed        517\n",
    "nombre_recovered    16231\n",
    "Name: 429, dtype: int64"
   ]
  },
  {
   "cell_type": "markdown",
   "id": "c3b35602",
   "metadata": {},
   "source": [
    "nombre_infected       795\n",
    "nombre_sain          2466\n",
    "nombre_exposed        524\n",
    "nombre_recovered    16215\n",
    "Name: 430, dtype: int64"
   ]
  },
  {
   "cell_type": "markdown",
   "id": "2bab303b",
   "metadata": {},
   "source": [
    "nombre_infected       789\n",
    "nombre_sain          2447\n",
    "nombre_exposed        528\n",
    "nombre_recovered    16236\n",
    "Name: 431, dtype: int64"
   ]
  },
  {
   "cell_type": "markdown",
   "id": "3ad08ab3",
   "metadata": {},
   "source": [
    "nombre_infected       814\n",
    "nombre_sain          2420\n",
    "nombre_exposed        527\n",
    "nombre_recovered    16239\n",
    "Name: 432, dtype: int64"
   ]
  },
  {
   "cell_type": "markdown",
   "id": "c25604cc",
   "metadata": {},
   "source": [
    "nombre_infected       830\n",
    "nombre_sain          2417\n",
    "nombre_exposed        509\n",
    "nombre_recovered    16244\n",
    "Name: 433, dtype: int64"
   ]
  },
  {
   "cell_type": "markdown",
   "id": "77c3b4e0",
   "metadata": {},
   "source": [
    "nombre_infected       826\n",
    "nombre_sain          2412\n",
    "nombre_exposed        524\n",
    "nombre_recovered    16238\n",
    "Name: 434, dtype: int64"
   ]
  },
  {
   "cell_type": "markdown",
   "id": "f016b2c0",
   "metadata": {},
   "source": [
    "nombre_infected       819\n",
    "nombre_sain          2400\n",
    "nombre_exposed        539\n",
    "nombre_recovered    16242\n",
    "Name: 435, dtype: int64"
   ]
  },
  {
   "cell_type": "markdown",
   "id": "2409f392",
   "metadata": {},
   "source": [
    "nombre_infected       805\n",
    "nombre_sain          2412\n",
    "nombre_exposed        531\n",
    "nombre_recovered    16252\n",
    "Name: 436, dtype: int64"
   ]
  },
  {
   "cell_type": "markdown",
   "id": "32f5638d",
   "metadata": {},
   "source": [
    "nombre_infected       825\n",
    "nombre_sain          2400\n",
    "nombre_exposed        544\n",
    "nombre_recovered    16231\n",
    "Name: 437, dtype: int64"
   ]
  },
  {
   "cell_type": "markdown",
   "id": "b0c0d47c",
   "metadata": {},
   "source": [
    "nombre_infected       830\n",
    "nombre_sain          2391\n",
    "nombre_exposed        549\n",
    "nombre_recovered    16230\n",
    "Name: 438, dtype: int64"
   ]
  },
  {
   "cell_type": "markdown",
   "id": "fba995b1",
   "metadata": {},
   "source": [
    "nombre_infected       841\n",
    "nombre_sain          2419\n",
    "nombre_exposed        535\n",
    "nombre_recovered    16205\n",
    "Name: 439, dtype: int64"
   ]
  },
  {
   "cell_type": "markdown",
   "id": "993d38cf",
   "metadata": {},
   "source": [
    "nombre_infected       850\n",
    "nombre_sain          2424\n",
    "nombre_exposed        532\n",
    "nombre_recovered    16194\n",
    "Name: 440, dtype: int64"
   ]
  },
  {
   "cell_type": "markdown",
   "id": "a1dcf5e0",
   "metadata": {},
   "source": [
    "nombre_infected       853\n",
    "nombre_sain          2430\n",
    "nombre_exposed        546\n",
    "nombre_recovered    16171\n",
    "Name: 441, dtype: int64"
   ]
  },
  {
   "cell_type": "markdown",
   "id": "d25ca620",
   "metadata": {},
   "source": [
    "nombre_infected       851\n",
    "nombre_sain          2438\n",
    "nombre_exposed        557\n",
    "nombre_recovered    16154\n",
    "Name: 442, dtype: int64"
   ]
  },
  {
   "cell_type": "markdown",
   "id": "508b5d20",
   "metadata": {},
   "source": [
    "nombre_infected       870\n",
    "nombre_sain          2438\n",
    "nombre_exposed        558\n",
    "nombre_recovered    16134\n",
    "Name: 443, dtype: int64"
   ]
  },
  {
   "cell_type": "markdown",
   "id": "4ab5dd7b",
   "metadata": {},
   "source": [
    "nombre_infected       852\n",
    "nombre_sain          2425\n",
    "nombre_exposed        581\n",
    "nombre_recovered    16142\n",
    "Name: 444, dtype: int64"
   ]
  },
  {
   "cell_type": "markdown",
   "id": "4ee5e4bd",
   "metadata": {},
   "source": [
    "nombre_infected       851\n",
    "nombre_sain          2442\n",
    "nombre_exposed        560\n",
    "nombre_recovered    16147\n",
    "Name: 445, dtype: int64"
   ]
  },
  {
   "cell_type": "markdown",
   "id": "830b163b",
   "metadata": {},
   "source": [
    "nombre_infected       853\n",
    "nombre_sain          2440\n",
    "nombre_exposed        565\n",
    "nombre_recovered    16142\n",
    "Name: 446, dtype: int64"
   ]
  },
  {
   "cell_type": "markdown",
   "id": "938f6b1d",
   "metadata": {},
   "source": [
    "nombre_infected       860\n",
    "nombre_sain          2446\n",
    "nombre_exposed        570\n",
    "nombre_recovered    16124\n",
    "Name: 447, dtype: int64"
   ]
  },
  {
   "cell_type": "markdown",
   "id": "dec5bd15",
   "metadata": {},
   "source": [
    "nombre_infected       886\n",
    "nombre_sain          2454\n",
    "nombre_exposed        568\n",
    "nombre_recovered    16092\n",
    "Name: 448, dtype: int64"
   ]
  },
  {
   "cell_type": "markdown",
   "id": "054219fb",
   "metadata": {},
   "source": [
    "nombre_infected       895\n",
    "nombre_sain          2434\n",
    "nombre_exposed        560\n",
    "nombre_recovered    16111\n",
    "Name: 449, dtype: int64"
   ]
  },
  {
   "cell_type": "markdown",
   "id": "ce242eb2",
   "metadata": {},
   "source": [
    "nombre_infected       878\n",
    "nombre_sain          2424\n",
    "nombre_exposed        537\n",
    "nombre_recovered    16161\n",
    "Name: 450, dtype: int64"
   ]
  },
  {
   "cell_type": "markdown",
   "id": "d94d5027",
   "metadata": {},
   "source": [
    "nombre_infected       863\n",
    "nombre_sain          2405\n",
    "nombre_exposed        540\n",
    "nombre_recovered    16192\n",
    "Name: 451, dtype: int64"
   ]
  },
  {
   "cell_type": "markdown",
   "id": "61ec3cb6",
   "metadata": {},
   "source": [
    "nombre_infected       866\n",
    "nombre_sain          2388\n",
    "nombre_exposed        558\n",
    "nombre_recovered    16188\n",
    "Name: 452, dtype: int64"
   ]
  },
  {
   "cell_type": "markdown",
   "id": "51d89ac5",
   "metadata": {},
   "source": [
    "nombre_infected       871\n",
    "nombre_sain          2386\n",
    "nombre_exposed        554\n",
    "nombre_recovered    16189\n",
    "Name: 453, dtype: int64"
   ]
  },
  {
   "cell_type": "markdown",
   "id": "8cd2858b",
   "metadata": {},
   "source": [
    "nombre_infected       879\n",
    "nombre_sain          2366\n",
    "nombre_exposed        539\n",
    "nombre_recovered    16216\n",
    "Name: 454, dtype: int64"
   ]
  },
  {
   "cell_type": "markdown",
   "id": "fe65f540",
   "metadata": {},
   "source": [
    "nombre_infected       875\n",
    "nombre_sain          2347\n",
    "nombre_exposed        544\n",
    "nombre_recovered    16234\n",
    "Name: 455, dtype: int64"
   ]
  },
  {
   "cell_type": "markdown",
   "id": "458bf8e7",
   "metadata": {},
   "source": [
    "nombre_infected       863\n",
    "nombre_sain          2343\n",
    "nombre_exposed        534\n",
    "nombre_recovered    16260\n",
    "Name: 456, dtype: int64"
   ]
  },
  {
   "cell_type": "markdown",
   "id": "ae31941a",
   "metadata": {},
   "source": [
    "nombre_infected       888\n",
    "nombre_sain          2310\n",
    "nombre_exposed        528\n",
    "nombre_recovered    16274\n",
    "Name: 457, dtype: int64"
   ]
  },
  {
   "cell_type": "markdown",
   "id": "5c6f392d",
   "metadata": {},
   "source": [
    "nombre_infected       883\n",
    "nombre_sain          2276\n",
    "nombre_exposed        549\n",
    "nombre_recovered    16292\n",
    "Name: 458, dtype: int64"
   ]
  },
  {
   "cell_type": "markdown",
   "id": "7f752d2b",
   "metadata": {},
   "source": [
    "nombre_infected       897\n",
    "nombre_sain          2265\n",
    "nombre_exposed        526\n",
    "nombre_recovered    16312\n",
    "Name: 459, dtype: int64"
   ]
  },
  {
   "cell_type": "markdown",
   "id": "ff8b811f",
   "metadata": {},
   "source": [
    "nombre_infected       907\n",
    "nombre_sain          2264\n",
    "nombre_exposed        499\n",
    "nombre_recovered    16330\n",
    "Name: 460, dtype: int64"
   ]
  },
  {
   "cell_type": "markdown",
   "id": "3347b8a7",
   "metadata": {},
   "source": [
    "nombre_infected       898\n",
    "nombre_sain          2245\n",
    "nombre_exposed        507\n",
    "nombre_recovered    16350\n",
    "Name: 461, dtype: int64"
   ]
  },
  {
   "cell_type": "markdown",
   "id": "66c9171a",
   "metadata": {},
   "source": [
    "nombre_infected       909\n",
    "nombre_sain          2241\n",
    "nombre_exposed        493\n",
    "nombre_recovered    16357\n",
    "Name: 462, dtype: int64"
   ]
  },
  {
   "cell_type": "markdown",
   "id": "66c48dc1",
   "metadata": {},
   "source": [
    "nombre_infected       863\n",
    "nombre_sain          2232\n",
    "nombre_exposed        523\n",
    "nombre_recovered    16382\n",
    "Name: 463, dtype: int64"
   ]
  },
  {
   "cell_type": "markdown",
   "id": "145823aa",
   "metadata": {},
   "source": [
    "nombre_infected       852\n",
    "nombre_sain          2218\n",
    "nombre_exposed        517\n",
    "nombre_recovered    16413\n",
    "Name: 464, dtype: int64"
   ]
  },
  {
   "cell_type": "markdown",
   "id": "73e4943d",
   "metadata": {},
   "source": [
    "nombre_infected       855\n",
    "nombre_sain          2218\n",
    "nombre_exposed        510\n",
    "nombre_recovered    16417\n",
    "Name: 465, dtype: int64"
   ]
  },
  {
   "cell_type": "markdown",
   "id": "8f98a98c",
   "metadata": {},
   "source": [
    "nombre_infected       876\n",
    "nombre_sain          2203\n",
    "nombre_exposed        506\n",
    "nombre_recovered    16415\n",
    "Name: 466, dtype: int64"
   ]
  },
  {
   "cell_type": "markdown",
   "id": "41613898",
   "metadata": {},
   "source": [
    "nombre_infected       899\n",
    "nombre_sain          2200\n",
    "nombre_exposed        484\n",
    "nombre_recovered    16417\n",
    "Name: 467, dtype: int64"
   ]
  },
  {
   "cell_type": "markdown",
   "id": "6741dc55",
   "metadata": {},
   "source": [
    "nombre_infected       879\n",
    "nombre_sain          2191\n",
    "nombre_exposed        488\n",
    "nombre_recovered    16442\n",
    "Name: 468, dtype: int64"
   ]
  },
  {
   "cell_type": "markdown",
   "id": "b948a46b",
   "metadata": {},
   "source": [
    "nombre_infected       876\n",
    "nombre_sain          2180\n",
    "nombre_exposed        482\n",
    "nombre_recovered    16462\n",
    "Name: 469, dtype: int64"
   ]
  },
  {
   "cell_type": "markdown",
   "id": "44d6b925",
   "metadata": {},
   "source": [
    "nombre_infected       880\n",
    "nombre_sain          2183\n",
    "nombre_exposed        480\n",
    "nombre_recovered    16457\n",
    "Name: 470, dtype: int64"
   ]
  },
  {
   "cell_type": "markdown",
   "id": "23b22852",
   "metadata": {},
   "source": [
    "nombre_infected       869\n",
    "nombre_sain          2172\n",
    "nombre_exposed        489\n",
    "nombre_recovered    16470\n",
    "Name: 471, dtype: int64"
   ]
  },
  {
   "cell_type": "markdown",
   "id": "75c45766",
   "metadata": {},
   "source": [
    "nombre_infected       860\n",
    "nombre_sain          2196\n",
    "nombre_exposed        469\n",
    "nombre_recovered    16475\n",
    "Name: 472, dtype: int64"
   ]
  },
  {
   "cell_type": "markdown",
   "id": "3ac84181",
   "metadata": {},
   "source": [
    "nombre_infected       853\n",
    "nombre_sain          2219\n",
    "nombre_exposed        462\n",
    "nombre_recovered    16466\n",
    "Name: 473, dtype: int64"
   ]
  },
  {
   "cell_type": "markdown",
   "id": "cf48eb91",
   "metadata": {},
   "source": [
    "nombre_infected       857\n",
    "nombre_sain          2255\n",
    "nombre_exposed        444\n",
    "nombre_recovered    16444\n",
    "Name: 474, dtype: int64"
   ]
  },
  {
   "cell_type": "markdown",
   "id": "f4cd72ca",
   "metadata": {},
   "source": [
    "nombre_infected       869\n",
    "nombre_sain          2249\n",
    "nombre_exposed        447\n",
    "nombre_recovered    16435\n",
    "Name: 475, dtype: int64"
   ]
  },
  {
   "cell_type": "markdown",
   "id": "25234964",
   "metadata": {},
   "source": [
    "nombre_infected       845\n",
    "nombre_sain          2242\n",
    "nombre_exposed        455\n",
    "nombre_recovered    16458\n",
    "Name: 476, dtype: int64"
   ]
  },
  {
   "cell_type": "markdown",
   "id": "b3d25dcc",
   "metadata": {},
   "source": [
    "nombre_infected       821\n",
    "nombre_sain          2252\n",
    "nombre_exposed        458\n",
    "nombre_recovered    16469\n",
    "Name: 477, dtype: int64"
   ]
  },
  {
   "cell_type": "markdown",
   "id": "8c84106b",
   "metadata": {},
   "source": [
    "nombre_infected       841\n",
    "nombre_sain          2248\n",
    "nombre_exposed        425\n",
    "nombre_recovered    16486\n",
    "Name: 478, dtype: int64"
   ]
  },
  {
   "cell_type": "markdown",
   "id": "e5c858fe",
   "metadata": {},
   "source": [
    "nombre_infected       844\n",
    "nombre_sain          2255\n",
    "nombre_exposed        401\n",
    "nombre_recovered    16500\n",
    "Name: 479, dtype: int64"
   ]
  },
  {
   "cell_type": "markdown",
   "id": "dadba25c",
   "metadata": {},
   "source": [
    "nombre_infected       831\n",
    "nombre_sain          2246\n",
    "nombre_exposed        383\n",
    "nombre_recovered    16540\n",
    "Name: 480, dtype: int64"
   ]
  },
  {
   "cell_type": "markdown",
   "id": "5f0fb74a",
   "metadata": {},
   "source": [
    "nombre_infected       802\n",
    "nombre_sain          2255\n",
    "nombre_exposed        391\n",
    "nombre_recovered    16552\n",
    "Name: 481, dtype: int64"
   ]
  },
  {
   "cell_type": "markdown",
   "id": "b2d940de",
   "metadata": {},
   "source": [
    "nombre_infected       786\n",
    "nombre_sain          2258\n",
    "nombre_exposed        412\n",
    "nombre_recovered    16544\n",
    "Name: 482, dtype: int64"
   ]
  },
  {
   "cell_type": "markdown",
   "id": "3bd2d624",
   "metadata": {},
   "source": [
    "nombre_infected       770\n",
    "nombre_sain          2246\n",
    "nombre_exposed        417\n",
    "nombre_recovered    16567\n",
    "Name: 483, dtype: int64"
   ]
  },
  {
   "cell_type": "markdown",
   "id": "8f138a60",
   "metadata": {},
   "source": [
    "nombre_infected       757\n",
    "nombre_sain          2264\n",
    "nombre_exposed        415\n",
    "nombre_recovered    16564\n",
    "Name: 484, dtype: int64"
   ]
  },
  {
   "cell_type": "markdown",
   "id": "675856ba",
   "metadata": {},
   "source": [
    "nombre_infected       750\n",
    "nombre_sain          2287\n",
    "nombre_exposed        402\n",
    "nombre_recovered    16561\n",
    "Name: 485, dtype: int64"
   ]
  },
  {
   "cell_type": "markdown",
   "id": "e66d285d",
   "metadata": {},
   "source": [
    "nombre_infected       725\n",
    "nombre_sain          2292\n",
    "nombre_exposed        414\n",
    "nombre_recovered    16569\n",
    "Name: 486, dtype: int64"
   ]
  },
  {
   "cell_type": "markdown",
   "id": "2a358bbf",
   "metadata": {},
   "source": [
    "nombre_infected       714\n",
    "nombre_sain          2316\n",
    "nombre_exposed        419\n",
    "nombre_recovered    16551\n",
    "Name: 487, dtype: int64"
   ]
  },
  {
   "cell_type": "markdown",
   "id": "6dd315bf",
   "metadata": {},
   "source": [
    "nombre_infected       705\n",
    "nombre_sain          2340\n",
    "nombre_exposed        426\n",
    "nombre_recovered    16529\n",
    "Name: 488, dtype: int64"
   ]
  },
  {
   "cell_type": "markdown",
   "id": "4af90543",
   "metadata": {},
   "source": [
    "nombre_infected       698\n",
    "nombre_sain          2349\n",
    "nombre_exposed        409\n",
    "nombre_recovered    16544\n",
    "Name: 489, dtype: int64"
   ]
  },
  {
   "cell_type": "markdown",
   "id": "be1c38bc",
   "metadata": {},
   "source": [
    "nombre_infected       715\n",
    "nombre_sain          2376\n",
    "nombre_exposed        409\n",
    "nombre_recovered    16500\n",
    "Name: 490, dtype: int64"
   ]
  },
  {
   "cell_type": "markdown",
   "id": "7b714f84",
   "metadata": {},
   "source": [
    "nombre_infected       711\n",
    "nombre_sain          2392\n",
    "nombre_exposed        416\n",
    "nombre_recovered    16481\n",
    "Name: 491, dtype: int64"
   ]
  },
  {
   "cell_type": "markdown",
   "id": "f24dba74",
   "metadata": {},
   "source": [
    "nombre_infected       689\n",
    "nombre_sain          2432\n",
    "nombre_exposed        437\n",
    "nombre_recovered    16442\n",
    "Name: 492, dtype: int64"
   ]
  },
  {
   "cell_type": "markdown",
   "id": "aac37564",
   "metadata": {},
   "source": [
    "nombre_infected       676\n",
    "nombre_sain          2457\n",
    "nombre_exposed        448\n",
    "nombre_recovered    16419\n",
    "Name: 493, dtype: int64"
   ]
  },
  {
   "cell_type": "markdown",
   "id": "1fa722d4",
   "metadata": {},
   "source": [
    "nombre_infected       680\n",
    "nombre_sain          2493\n",
    "nombre_exposed        447\n",
    "nombre_recovered    16380\n",
    "Name: 494, dtype: int64"
   ]
  },
  {
   "cell_type": "markdown",
   "id": "441fbf3c",
   "metadata": {},
   "source": [
    "nombre_infected       679\n",
    "nombre_sain          2521\n",
    "nombre_exposed        458\n",
    "nombre_recovered    16342\n",
    "Name: 495, dtype: int64"
   ]
  },
  {
   "cell_type": "markdown",
   "id": "34f4009d",
   "metadata": {},
   "source": [
    "nombre_infected       684\n",
    "nombre_sain          2561\n",
    "nombre_exposed        463\n",
    "nombre_recovered    16292\n",
    "Name: 496, dtype: int64"
   ]
  },
  {
   "cell_type": "markdown",
   "id": "28135ccc",
   "metadata": {},
   "source": [
    "nombre_infected       701\n",
    "nombre_sain          2621\n",
    "nombre_exposed        433\n",
    "nombre_recovered    16245\n",
    "Name: 497, dtype: int64"
   ]
  },
  {
   "cell_type": "markdown",
   "id": "e6e87fde",
   "metadata": {},
   "source": [
    "nombre_infected       696\n",
    "nombre_sain          2655\n",
    "nombre_exposed        427\n",
    "nombre_recovered    16222\n",
    "Name: 498, dtype: int64"
   ]
  },
  {
   "cell_type": "markdown",
   "id": "3fa8a90a",
   "metadata": {},
   "source": [
    "nombre_infected       688\n",
    "nombre_sain          2680\n",
    "nombre_exposed        439\n",
    "nombre_recovered    16193\n",
    "Name: 499, dtype: int64"
   ]
  },
  {
   "cell_type": "markdown",
   "id": "ea2bf843",
   "metadata": {},
   "source": [
    "nombre_infected       682\n",
    "nombre_sain          2687\n",
    "nombre_exposed        457\n",
    "nombre_recovered    16174\n",
    "Name: 500, dtype: int64"
   ]
  },
  {
   "cell_type": "markdown",
   "id": "ea0d9e1d",
   "metadata": {},
   "source": [
    "nombre_infected       676\n",
    "nombre_sain          2691\n",
    "nombre_exposed        485\n",
    "nombre_recovered    16148\n",
    "Name: 501, dtype: int64"
   ]
  },
  {
   "cell_type": "markdown",
   "id": "6c781f4e",
   "metadata": {},
   "source": [
    "nombre_infected       698\n",
    "nombre_sain          2699\n",
    "nombre_exposed        469\n",
    "nombre_recovered    16134\n",
    "Name: 502, dtype: int64"
   ]
  },
  {
   "cell_type": "markdown",
   "id": "26636dd6",
   "metadata": {},
   "source": [
    "nombre_infected       712\n",
    "nombre_sain          2678\n",
    "nombre_exposed        477\n",
    "nombre_recovered    16133\n",
    "Name: 503, dtype: int64"
   ]
  },
  {
   "cell_type": "markdown",
   "id": "facdb74e",
   "metadata": {},
   "source": [
    "nombre_infected       706\n",
    "nombre_sain          2698\n",
    "nombre_exposed        481\n",
    "nombre_recovered    16115\n",
    "Name: 504, dtype: int64"
   ]
  },
  {
   "cell_type": "markdown",
   "id": "424c420b",
   "metadata": {},
   "source": [
    "nombre_infected       730\n",
    "nombre_sain          2700\n",
    "nombre_exposed        467\n",
    "nombre_recovered    16103\n",
    "Name: 505, dtype: int64"
   ]
  },
  {
   "cell_type": "markdown",
   "id": "5a342d56",
   "metadata": {},
   "source": [
    "nombre_infected       749\n",
    "nombre_sain          2685\n",
    "nombre_exposed        466\n",
    "nombre_recovered    16100\n",
    "Name: 506, dtype: int64"
   ]
  },
  {
   "cell_type": "markdown",
   "id": "71110eb3",
   "metadata": {},
   "source": [
    "nombre_infected       732\n",
    "nombre_sain          2700\n",
    "nombre_exposed        485\n",
    "nombre_recovered    16083\n",
    "Name: 507, dtype: int64"
   ]
  },
  {
   "cell_type": "markdown",
   "id": "d463e143",
   "metadata": {},
   "source": [
    "nombre_infected       733\n",
    "nombre_sain          2672\n",
    "nombre_exposed        500\n",
    "nombre_recovered    16095\n",
    "Name: 508, dtype: int64"
   ]
  },
  {
   "cell_type": "markdown",
   "id": "f87e4693",
   "metadata": {},
   "source": [
    "nombre_infected       767\n",
    "nombre_sain          2656\n",
    "nombre_exposed        511\n",
    "nombre_recovered    16066\n",
    "Name: 509, dtype: int64"
   ]
  },
  {
   "cell_type": "markdown",
   "id": "f2d3753b",
   "metadata": {},
   "source": [
    "nombre_infected       785\n",
    "nombre_sain          2657\n",
    "nombre_exposed        516\n",
    "nombre_recovered    16042\n",
    "Name: 510, dtype: int64"
   ]
  },
  {
   "cell_type": "markdown",
   "id": "986c9c53",
   "metadata": {},
   "source": [
    "nombre_infected       799\n",
    "nombre_sain          2624\n",
    "nombre_exposed        515\n",
    "nombre_recovered    16062\n",
    "Name: 511, dtype: int64"
   ]
  },
  {
   "cell_type": "markdown",
   "id": "dd8946b8",
   "metadata": {},
   "source": [
    "nombre_infected       821\n",
    "nombre_sain          2583\n",
    "nombre_exposed        518\n",
    "nombre_recovered    16078\n",
    "Name: 512, dtype: int64"
   ]
  },
  {
   "cell_type": "markdown",
   "id": "551f1a11",
   "metadata": {},
   "source": [
    "nombre_infected       828\n",
    "nombre_sain          2552\n",
    "nombre_exposed        529\n",
    "nombre_recovered    16091\n",
    "Name: 513, dtype: int64"
   ]
  },
  {
   "cell_type": "markdown",
   "id": "6c0a32e1",
   "metadata": {},
   "source": [
    "nombre_infected       822\n",
    "nombre_sain          2519\n",
    "nombre_exposed        539\n",
    "nombre_recovered    16120\n",
    "Name: 514, dtype: int64"
   ]
  },
  {
   "cell_type": "markdown",
   "id": "4e7d4526",
   "metadata": {},
   "source": [
    "nombre_infected       862\n",
    "nombre_sain          2519\n",
    "nombre_exposed        505\n",
    "nombre_recovered    16114\n",
    "Name: 515, dtype: int64"
   ]
  },
  {
   "cell_type": "markdown",
   "id": "1b647a78",
   "metadata": {},
   "source": [
    "nombre_infected       876\n",
    "nombre_sain          2496\n",
    "nombre_exposed        503\n",
    "nombre_recovered    16125\n",
    "Name: 516, dtype: int64"
   ]
  },
  {
   "cell_type": "markdown",
   "id": "04cf892d",
   "metadata": {},
   "source": [
    "nombre_infected       866\n",
    "nombre_sain          2460\n",
    "nombre_exposed        510\n",
    "nombre_recovered    16164\n",
    "Name: 517, dtype: int64"
   ]
  },
  {
   "cell_type": "markdown",
   "id": "10e8358b",
   "metadata": {},
   "source": [
    "nombre_infected       876\n",
    "nombre_sain          2437\n",
    "nombre_exposed        497\n",
    "nombre_recovered    16190\n",
    "Name: 518, dtype: int64"
   ]
  },
  {
   "cell_type": "markdown",
   "id": "b30369b1",
   "metadata": {},
   "source": [
    "nombre_infected       873\n",
    "nombre_sain          2394\n",
    "nombre_exposed        529\n",
    "nombre_recovered    16204\n",
    "Name: 519, dtype: int64"
   ]
  },
  {
   "cell_type": "markdown",
   "id": "2b826c34",
   "metadata": {},
   "source": [
    "nombre_infected       837\n",
    "nombre_sain          2353\n",
    "nombre_exposed        559\n",
    "nombre_recovered    16251\n",
    "Name: 520, dtype: int64"
   ]
  },
  {
   "cell_type": "markdown",
   "id": "b58363b0",
   "metadata": {},
   "source": [
    "nombre_infected       848\n",
    "nombre_sain          2340\n",
    "nombre_exposed        556\n",
    "nombre_recovered    16256\n",
    "Name: 521, dtype: int64"
   ]
  },
  {
   "cell_type": "markdown",
   "id": "1744d751",
   "metadata": {},
   "source": [
    "nombre_infected       863\n",
    "nombre_sain          2315\n",
    "nombre_exposed        545\n",
    "nombre_recovered    16277\n",
    "Name: 522, dtype: int64"
   ]
  },
  {
   "cell_type": "markdown",
   "id": "a5f06479",
   "metadata": {},
   "source": [
    "nombre_infected       849\n",
    "nombre_sain          2288\n",
    "nombre_exposed        553\n",
    "nombre_recovered    16310\n",
    "Name: 523, dtype: int64"
   ]
  },
  {
   "cell_type": "markdown",
   "id": "483aa218",
   "metadata": {},
   "source": [
    "nombre_infected       864\n",
    "nombre_sain          2266\n",
    "nombre_exposed        532\n",
    "nombre_recovered    16338\n",
    "Name: 524, dtype: int64"
   ]
  },
  {
   "cell_type": "markdown",
   "id": "81b171b3",
   "metadata": {},
   "source": [
    "nombre_infected       890\n",
    "nombre_sain          2249\n",
    "nombre_exposed        514\n",
    "nombre_recovered    16347\n",
    "Name: 525, dtype: int64"
   ]
  },
  {
   "cell_type": "markdown",
   "id": "bc1267d6",
   "metadata": {},
   "source": [
    "nombre_infected       897\n",
    "nombre_sain          2221\n",
    "nombre_exposed        526\n",
    "nombre_recovered    16356\n",
    "Name: 526, dtype: int64"
   ]
  },
  {
   "cell_type": "markdown",
   "id": "117787cd",
   "metadata": {},
   "source": [
    "nombre_infected       874\n",
    "nombre_sain          2197\n",
    "nombre_exposed        551\n",
    "nombre_recovered    16378\n",
    "Name: 527, dtype: int64"
   ]
  },
  {
   "cell_type": "markdown",
   "id": "d97aca6c",
   "metadata": {},
   "source": [
    "nombre_infected       864\n",
    "nombre_sain          2172\n",
    "nombre_exposed        551\n",
    "nombre_recovered    16413\n",
    "Name: 528, dtype: int64"
   ]
  },
  {
   "cell_type": "markdown",
   "id": "ae85e5df",
   "metadata": {},
   "source": [
    "nombre_infected       882\n",
    "nombre_sain          2173\n",
    "nombre_exposed        525\n",
    "nombre_recovered    16420\n",
    "Name: 529, dtype: int64"
   ]
  },
  {
   "cell_type": "markdown",
   "id": "942a1a6d",
   "metadata": {},
   "source": [
    "nombre_infected       891\n",
    "nombre_sain          2159\n",
    "nombre_exposed        497\n",
    "nombre_recovered    16453\n",
    "Name: 530, dtype: int64"
   ]
  },
  {
   "cell_type": "markdown",
   "id": "274fcc87",
   "metadata": {},
   "source": [
    "nombre_infected       905\n",
    "nombre_sain          2141\n",
    "nombre_exposed        486\n",
    "nombre_recovered    16468\n",
    "Name: 531, dtype: int64"
   ]
  },
  {
   "cell_type": "markdown",
   "id": "f49ca4c3",
   "metadata": {},
   "source": [
    "nombre_infected       902\n",
    "nombre_sain          2132\n",
    "nombre_exposed        479\n",
    "nombre_recovered    16487\n",
    "Name: 532, dtype: int64"
   ]
  },
  {
   "cell_type": "markdown",
   "id": "6af8ab99",
   "metadata": {},
   "source": [
    "nombre_infected       871\n",
    "nombre_sain          2129\n",
    "nombre_exposed        490\n",
    "nombre_recovered    16510\n",
    "Name: 533, dtype: int64"
   ]
  },
  {
   "cell_type": "markdown",
   "id": "ac68c74a",
   "metadata": {},
   "source": [
    "nombre_infected       858\n",
    "nombre_sain          2130\n",
    "nombre_exposed        485\n",
    "nombre_recovered    16527\n",
    "Name: 534, dtype: int64"
   ]
  },
  {
   "cell_type": "markdown",
   "id": "89373d51",
   "metadata": {},
   "source": [
    "nombre_infected       857\n",
    "nombre_sain          2134\n",
    "nombre_exposed        466\n",
    "nombre_recovered    16543\n",
    "Name: 535, dtype: int64"
   ]
  },
  {
   "cell_type": "markdown",
   "id": "c81c4386",
   "metadata": {},
   "source": [
    "nombre_infected       878\n",
    "nombre_sain          2141\n",
    "nombre_exposed        450\n",
    "nombre_recovered    16531\n",
    "Name: 536, dtype: int64"
   ]
  },
  {
   "cell_type": "markdown",
   "id": "c844e08b",
   "metadata": {},
   "source": [
    "nombre_infected       851\n",
    "nombre_sain          2152\n",
    "nombre_exposed        471\n",
    "nombre_recovered    16526\n",
    "Name: 537, dtype: int64"
   ]
  },
  {
   "cell_type": "markdown",
   "id": "2400f739",
   "metadata": {},
   "source": [
    "nombre_infected       842\n",
    "nombre_sain          2154\n",
    "nombre_exposed        466\n",
    "nombre_recovered    16538\n",
    "Name: 538, dtype: int64"
   ]
  },
  {
   "cell_type": "markdown",
   "id": "ac34b395",
   "metadata": {},
   "source": [
    "nombre_infected       836\n",
    "nombre_sain          2171\n",
    "nombre_exposed        459\n",
    "nombre_recovered    16534\n",
    "Name: 539, dtype: int64"
   ]
  },
  {
   "cell_type": "markdown",
   "id": "6bded106",
   "metadata": {},
   "source": [
    "nombre_infected       849\n",
    "nombre_sain          2184\n",
    "nombre_exposed        456\n",
    "nombre_recovered    16511\n",
    "Name: 540, dtype: int64"
   ]
  },
  {
   "cell_type": "markdown",
   "id": "a6cb17a3",
   "metadata": {},
   "source": [
    "nombre_infected       837\n",
    "nombre_sain          2174\n",
    "nombre_exposed        476\n",
    "nombre_recovered    16513\n",
    "Name: 541, dtype: int64"
   ]
  },
  {
   "cell_type": "markdown",
   "id": "fd732eb4",
   "metadata": {},
   "source": [
    "nombre_infected       826\n",
    "nombre_sain          2214\n",
    "nombre_exposed        467\n",
    "nombre_recovered    16493\n",
    "Name: 542, dtype: int64"
   ]
  },
  {
   "cell_type": "markdown",
   "id": "bb82fe75",
   "metadata": {},
   "source": [
    "nombre_infected       819\n",
    "nombre_sain          2187\n",
    "nombre_exposed        479\n",
    "nombre_recovered    16515\n",
    "Name: 543, dtype: int64"
   ]
  },
  {
   "cell_type": "markdown",
   "id": "cc8d9f92",
   "metadata": {},
   "source": [
    "nombre_infected       825\n",
    "nombre_sain          2175\n",
    "nombre_exposed        492\n",
    "nombre_recovered    16508\n",
    "Name: 544, dtype: int64"
   ]
  },
  {
   "cell_type": "markdown",
   "id": "9ece1068",
   "metadata": {},
   "source": [
    "nombre_infected       825\n",
    "nombre_sain          2193\n",
    "nombre_exposed        489\n",
    "nombre_recovered    16493\n",
    "Name: 545, dtype: int64"
   ]
  },
  {
   "cell_type": "markdown",
   "id": "52059e3b",
   "metadata": {},
   "source": [
    "nombre_infected       819\n",
    "nombre_sain          2210\n",
    "nombre_exposed        491\n",
    "nombre_recovered    16480\n",
    "Name: 546, dtype: int64"
   ]
  },
  {
   "cell_type": "markdown",
   "id": "ae5825a9",
   "metadata": {},
   "source": [
    "nombre_infected       821\n",
    "nombre_sain          2202\n",
    "nombre_exposed        489\n",
    "nombre_recovered    16488\n",
    "Name: 547, dtype: int64"
   ]
  },
  {
   "cell_type": "markdown",
   "id": "ea9e9fe3",
   "metadata": {},
   "source": [
    "nombre_infected       834\n",
    "nombre_sain          2225\n",
    "nombre_exposed        483\n",
    "nombre_recovered    16458\n",
    "Name: 548, dtype: int64"
   ]
  },
  {
   "cell_type": "markdown",
   "id": "088a17cf",
   "metadata": {},
   "source": [
    "nombre_infected       830\n",
    "nombre_sain          2226\n",
    "nombre_exposed        477\n",
    "nombre_recovered    16467\n",
    "Name: 549, dtype: int64"
   ]
  },
  {
   "cell_type": "markdown",
   "id": "8fd236dc",
   "metadata": {},
   "source": [
    "nombre_infected       815\n",
    "nombre_sain          2224\n",
    "nombre_exposed        469\n",
    "nombre_recovered    16492\n",
    "Name: 550, dtype: int64"
   ]
  },
  {
   "cell_type": "markdown",
   "id": "427059cc",
   "metadata": {},
   "source": [
    "nombre_infected       797\n",
    "nombre_sain          2242\n",
    "nombre_exposed        472\n",
    "nombre_recovered    16489\n",
    "Name: 551, dtype: int64"
   ]
  },
  {
   "cell_type": "markdown",
   "id": "a6eea95c",
   "metadata": {},
   "source": [
    "nombre_infected       821\n",
    "nombre_sain          2254\n",
    "nombre_exposed        462\n",
    "nombre_recovered    16463\n",
    "Name: 552, dtype: int64"
   ]
  },
  {
   "cell_type": "markdown",
   "id": "5fa3b06b",
   "metadata": {},
   "source": [
    "nombre_infected       804\n",
    "nombre_sain          2263\n",
    "nombre_exposed        466\n",
    "nombre_recovered    16467\n",
    "Name: 553, dtype: int64"
   ]
  },
  {
   "cell_type": "markdown",
   "id": "f4b738a3",
   "metadata": {},
   "source": [
    "nombre_infected       818\n",
    "nombre_sain          2237\n",
    "nombre_exposed        488\n",
    "nombre_recovered    16457\n",
    "Name: 554, dtype: int64"
   ]
  },
  {
   "cell_type": "markdown",
   "id": "ae63a006",
   "metadata": {},
   "source": [
    "nombre_infected       837\n",
    "nombre_sain          2260\n",
    "nombre_exposed        472\n",
    "nombre_recovered    16431\n",
    "Name: 555, dtype: int64"
   ]
  },
  {
   "cell_type": "markdown",
   "id": "c0fd6d72",
   "metadata": {},
   "source": [
    "nombre_infected       834\n",
    "nombre_sain          2255\n",
    "nombre_exposed        454\n",
    "nombre_recovered    16457\n",
    "Name: 556, dtype: int64"
   ]
  },
  {
   "cell_type": "markdown",
   "id": "cd5e4bf2",
   "metadata": {},
   "source": [
    "nombre_infected       826\n",
    "nombre_sain          2232\n",
    "nombre_exposed        479\n",
    "nombre_recovered    16463\n",
    "Name: 557, dtype: int64"
   ]
  },
  {
   "cell_type": "markdown",
   "id": "c4b1d970",
   "metadata": {},
   "source": [
    "nombre_infected       814\n",
    "nombre_sain          2242\n",
    "nombre_exposed        507\n",
    "nombre_recovered    16437\n",
    "Name: 558, dtype: int64"
   ]
  },
  {
   "cell_type": "markdown",
   "id": "59c85937",
   "metadata": {},
   "source": [
    "nombre_infected       825\n",
    "nombre_sain          2214\n",
    "nombre_exposed        544\n",
    "nombre_recovered    16417\n",
    "Name: 559, dtype: int64"
   ]
  },
  {
   "cell_type": "markdown",
   "id": "2b8f0509",
   "metadata": {},
   "source": [
    "nombre_infected       841\n",
    "nombre_sain          2199\n",
    "nombre_exposed        541\n",
    "nombre_recovered    16419\n",
    "Name: 560, dtype: int64"
   ]
  },
  {
   "cell_type": "markdown",
   "id": "f6de62a1",
   "metadata": {},
   "source": [
    "nombre_infected       847\n",
    "nombre_sain          2191\n",
    "nombre_exposed        535\n",
    "nombre_recovered    16427\n",
    "Name: 561, dtype: int64"
   ]
  },
  {
   "cell_type": "markdown",
   "id": "03175cd4",
   "metadata": {},
   "source": [
    "nombre_infected       866\n",
    "nombre_sain          2151\n",
    "nombre_exposed        547\n",
    "nombre_recovered    16436\n",
    "Name: 562, dtype: int64"
   ]
  },
  {
   "cell_type": "markdown",
   "id": "8f20a6e2",
   "metadata": {},
   "source": [
    "nombre_infected       887\n",
    "nombre_sain          2152\n",
    "nombre_exposed        536\n",
    "nombre_recovered    16425\n",
    "Name: 563, dtype: int64"
   ]
  },
  {
   "cell_type": "markdown",
   "id": "7115992d",
   "metadata": {},
   "source": [
    "nombre_infected       904\n",
    "nombre_sain          2135\n",
    "nombre_exposed        527\n",
    "nombre_recovered    16434\n",
    "Name: 564, dtype: int64"
   ]
  },
  {
   "cell_type": "markdown",
   "id": "91f4e070",
   "metadata": {},
   "source": [
    "nombre_infected       921\n",
    "nombre_sain          2143\n",
    "nombre_exposed        504\n",
    "nombre_recovered    16432\n",
    "Name: 565, dtype: int64"
   ]
  },
  {
   "cell_type": "markdown",
   "id": "27404b73",
   "metadata": {},
   "source": [
    "nombre_infected       947\n",
    "nombre_sain          2150\n",
    "nombre_exposed        495\n",
    "nombre_recovered    16408\n",
    "Name: 566, dtype: int64"
   ]
  },
  {
   "cell_type": "markdown",
   "id": "8e0e6733",
   "metadata": {},
   "source": [
    "nombre_infected       952\n",
    "nombre_sain          2140\n",
    "nombre_exposed        500\n",
    "nombre_recovered    16408\n",
    "Name: 567, dtype: int64"
   ]
  },
  {
   "cell_type": "markdown",
   "id": "b088dde5",
   "metadata": {},
   "source": [
    "nombre_infected       944\n",
    "nombre_sain          2117\n",
    "nombre_exposed        535\n",
    "nombre_recovered    16404\n",
    "Name: 568, dtype: int64"
   ]
  },
  {
   "cell_type": "markdown",
   "id": "70d77768",
   "metadata": {},
   "source": [
    "nombre_infected       924\n",
    "nombre_sain          2120\n",
    "nombre_exposed        558\n",
    "nombre_recovered    16398\n",
    "Name: 569, dtype: int64"
   ]
  },
  {
   "cell_type": "markdown",
   "id": "571cf37d",
   "metadata": {},
   "source": [
    "nombre_infected       916\n",
    "nombre_sain          2117\n",
    "nombre_exposed        574\n",
    "nombre_recovered    16393\n",
    "Name: 570, dtype: int64"
   ]
  },
  {
   "cell_type": "markdown",
   "id": "b4817a88",
   "metadata": {},
   "source": [
    "nombre_infected       904\n",
    "nombre_sain          2098\n",
    "nombre_exposed        578\n",
    "nombre_recovered    16420\n",
    "Name: 571, dtype: int64"
   ]
  },
  {
   "cell_type": "markdown",
   "id": "4af3b649",
   "metadata": {},
   "source": [
    "nombre_infected       936\n",
    "nombre_sain          2093\n",
    "nombre_exposed        559\n",
    "nombre_recovered    16412\n",
    "Name: 572, dtype: int64"
   ]
  },
  {
   "cell_type": "markdown",
   "id": "8db91bd3",
   "metadata": {},
   "source": [
    "nombre_infected       940\n",
    "nombre_sain          2108\n",
    "nombre_exposed        557\n",
    "nombre_recovered    16395\n",
    "Name: 573, dtype: int64"
   ]
  },
  {
   "cell_type": "markdown",
   "id": "bf41df5e",
   "metadata": {},
   "source": [
    "nombre_infected       941\n",
    "nombre_sain          2087\n",
    "nombre_exposed        560\n",
    "nombre_recovered    16412\n",
    "Name: 574, dtype: int64"
   ]
  },
  {
   "cell_type": "markdown",
   "id": "6fac4ea3",
   "metadata": {},
   "source": [
    "nombre_infected       943\n",
    "nombre_sain          2091\n",
    "nombre_exposed        563\n",
    "nombre_recovered    16403\n",
    "Name: 575, dtype: int64"
   ]
  },
  {
   "cell_type": "markdown",
   "id": "cbaca331",
   "metadata": {},
   "source": [
    "nombre_infected       965\n",
    "nombre_sain          2091\n",
    "nombre_exposed        551\n",
    "nombre_recovered    16393\n",
    "Name: 576, dtype: int64"
   ]
  },
  {
   "cell_type": "markdown",
   "id": "aa068eed",
   "metadata": {},
   "source": [
    "nombre_infected       982\n",
    "nombre_sain          2120\n",
    "nombre_exposed        536\n",
    "nombre_recovered    16362\n",
    "Name: 577, dtype: int64"
   ]
  },
  {
   "cell_type": "markdown",
   "id": "3ea51473",
   "metadata": {},
   "source": [
    "nombre_infected      1018\n",
    "nombre_sain          2105\n",
    "nombre_exposed        555\n",
    "nombre_recovered    16322\n",
    "Name: 578, dtype: int64"
   ]
  },
  {
   "cell_type": "markdown",
   "id": "12e31ad8",
   "metadata": {},
   "source": [
    "nombre_infected      1028\n",
    "nombre_sain          2125\n",
    "nombre_exposed        529\n",
    "nombre_recovered    16318\n",
    "Name: 579, dtype: int64"
   ]
  },
  {
   "cell_type": "markdown",
   "id": "3110de06",
   "metadata": {},
   "source": [
    "nombre_infected      1035\n",
    "nombre_sain          2117\n",
    "nombre_exposed        538\n",
    "nombre_recovered    16310\n",
    "Name: 580, dtype: int64"
   ]
  },
  {
   "cell_type": "markdown",
   "id": "3a4df842",
   "metadata": {},
   "source": [
    "nombre_infected      1023\n",
    "nombre_sain          2111\n",
    "nombre_exposed        555\n",
    "nombre_recovered    16311\n",
    "Name: 581, dtype: int64"
   ]
  },
  {
   "cell_type": "markdown",
   "id": "321fef52",
   "metadata": {},
   "source": [
    "nombre_infected      1033\n",
    "nombre_sain          2109\n",
    "nombre_exposed        547\n",
    "nombre_recovered    16311\n",
    "Name: 582, dtype: int64"
   ]
  },
  {
   "cell_type": "markdown",
   "id": "11e78281",
   "metadata": {},
   "source": [
    "nombre_infected      1031\n",
    "nombre_sain          2089\n",
    "nombre_exposed        564\n",
    "nombre_recovered    16316\n",
    "Name: 583, dtype: int64"
   ]
  },
  {
   "cell_type": "markdown",
   "id": "09398da5",
   "metadata": {},
   "source": [
    "nombre_infected      1013\n",
    "nombre_sain          2054\n",
    "nombre_exposed        584\n",
    "nombre_recovered    16349\n",
    "Name: 584, dtype: int64"
   ]
  },
  {
   "cell_type": "markdown",
   "id": "c468df3a",
   "metadata": {},
   "source": [
    "nombre_infected       997\n",
    "nombre_sain          2034\n",
    "nombre_exposed        570\n",
    "nombre_recovered    16399\n",
    "Name: 585, dtype: int64"
   ]
  },
  {
   "cell_type": "markdown",
   "id": "60ae20d1",
   "metadata": {},
   "source": [
    "nombre_infected      1023\n",
    "nombre_sain          2026\n",
    "nombre_exposed        552\n",
    "nombre_recovered    16399\n",
    "Name: 586, dtype: int64"
   ]
  },
  {
   "cell_type": "markdown",
   "id": "c002f06a",
   "metadata": {},
   "source": [
    "nombre_infected      1027\n",
    "nombre_sain          2000\n",
    "nombre_exposed        555\n",
    "nombre_recovered    16418\n",
    "Name: 587, dtype: int64"
   ]
  },
  {
   "cell_type": "markdown",
   "id": "03960757",
   "metadata": {},
   "source": [
    "nombre_infected      1048\n",
    "nombre_sain          2014\n",
    "nombre_exposed        532\n",
    "nombre_recovered    16406\n",
    "Name: 588, dtype: int64"
   ]
  },
  {
   "cell_type": "markdown",
   "id": "20fec76b",
   "metadata": {},
   "source": [
    "nombre_infected      1040\n",
    "nombre_sain          1986\n",
    "nombre_exposed        546\n",
    "nombre_recovered    16428\n",
    "Name: 589, dtype: int64"
   ]
  },
  {
   "cell_type": "markdown",
   "id": "f07179fb",
   "metadata": {},
   "source": [
    "nombre_infected      1051\n",
    "nombre_sain          1985\n",
    "nombre_exposed        533\n",
    "nombre_recovered    16431\n",
    "Name: 590, dtype: int64"
   ]
  },
  {
   "cell_type": "markdown",
   "id": "c40fb8ec",
   "metadata": {},
   "source": [
    "nombre_infected      1061\n",
    "nombre_sain          1966\n",
    "nombre_exposed        537\n",
    "nombre_recovered    16436\n",
    "Name: 591, dtype: int64"
   ]
  },
  {
   "cell_type": "markdown",
   "id": "6cb732d2",
   "metadata": {},
   "source": [
    "nombre_infected      1074\n",
    "nombre_sain          1939\n",
    "nombre_exposed        531\n",
    "nombre_recovered    16456\n",
    "Name: 592, dtype: int64"
   ]
  },
  {
   "cell_type": "markdown",
   "id": "914844ca",
   "metadata": {},
   "source": [
    "nombre_infected      1030\n",
    "nombre_sain          1916\n",
    "nombre_exposed        571\n",
    "nombre_recovered    16483\n",
    "Name: 593, dtype: int64"
   ]
  },
  {
   "cell_type": "markdown",
   "id": "dec6151a",
   "metadata": {},
   "source": [
    "nombre_infected      1031\n",
    "nombre_sain          1944\n",
    "nombre_exposed        558\n",
    "nombre_recovered    16467\n",
    "Name: 594, dtype: int64"
   ]
  },
  {
   "cell_type": "markdown",
   "id": "71acdea1",
   "metadata": {},
   "source": [
    "nombre_infected      1037\n",
    "nombre_sain          1955\n",
    "nombre_exposed        544\n",
    "nombre_recovered    16464\n",
    "Name: 595, dtype: int64"
   ]
  },
  {
   "cell_type": "markdown",
   "id": "9bf77dad",
   "metadata": {},
   "source": [
    "nombre_infected      1050\n",
    "nombre_sain          1960\n",
    "nombre_exposed        524\n",
    "nombre_recovered    16466\n",
    "Name: 596, dtype: int64"
   ]
  },
  {
   "cell_type": "markdown",
   "id": "afe164c4",
   "metadata": {},
   "source": [
    "nombre_infected      1055\n",
    "nombre_sain          1952\n",
    "nombre_exposed        507\n",
    "nombre_recovered    16486\n",
    "Name: 597, dtype: int64"
   ]
  },
  {
   "cell_type": "markdown",
   "id": "4b0339d0",
   "metadata": {},
   "source": [
    "nombre_infected      1039\n",
    "nombre_sain          1946\n",
    "nombre_exposed        492\n",
    "nombre_recovered    16523\n",
    "Name: 598, dtype: int64"
   ]
  },
  {
   "cell_type": "markdown",
   "id": "a3867b75",
   "metadata": {},
   "source": [
    "nombre_infected      1031\n",
    "nombre_sain          1922\n",
    "nombre_exposed        508\n",
    "nombre_recovered    16539\n",
    "Name: 599, dtype: int64"
   ]
  },
  {
   "cell_type": "markdown",
   "id": "f3ef2fe6",
   "metadata": {},
   "source": [
    "nombre_infected      1021\n",
    "nombre_sain          1916\n",
    "nombre_exposed        509\n",
    "nombre_recovered    16554\n",
    "Name: 600, dtype: int64"
   ]
  },
  {
   "cell_type": "markdown",
   "id": "60f59f7d",
   "metadata": {},
   "source": [
    "nombre_infected      1007\n",
    "nombre_sain          1924\n",
    "nombre_exposed        494\n",
    "nombre_recovered    16575\n",
    "Name: 601, dtype: int64"
   ]
  },
  {
   "cell_type": "markdown",
   "id": "b7052cfe",
   "metadata": {},
   "source": [
    "nombre_infected      1008\n",
    "nombre_sain          1914\n",
    "nombre_exposed        481\n",
    "nombre_recovered    16597\n",
    "Name: 602, dtype: int64"
   ]
  },
  {
   "cell_type": "markdown",
   "id": "03e41ad8",
   "metadata": {},
   "source": [
    "nombre_infected      1005\n",
    "nombre_sain          1907\n",
    "nombre_exposed        488\n",
    "nombre_recovered    16600\n",
    "Name: 603, dtype: int64"
   ]
  },
  {
   "cell_type": "markdown",
   "id": "5541d35f",
   "metadata": {},
   "source": [
    "nombre_infected       970\n",
    "nombre_sain          1920\n",
    "nombre_exposed        507\n",
    "nombre_recovered    16603\n",
    "Name: 604, dtype: int64"
   ]
  },
  {
   "cell_type": "markdown",
   "id": "09accbbb",
   "metadata": {},
   "source": [
    "nombre_infected       965\n",
    "nombre_sain          1947\n",
    "nombre_exposed        495\n",
    "nombre_recovered    16593\n",
    "Name: 605, dtype: int64"
   ]
  },
  {
   "cell_type": "markdown",
   "id": "fb920d0f",
   "metadata": {},
   "source": [
    "nombre_infected       965\n",
    "nombre_sain          1962\n",
    "nombre_exposed        490\n",
    "nombre_recovered    16583\n",
    "Name: 606, dtype: int64"
   ]
  },
  {
   "cell_type": "markdown",
   "id": "907f09ad",
   "metadata": {},
   "source": [
    "nombre_infected       952\n",
    "nombre_sain          1998\n",
    "nombre_exposed        480\n",
    "nombre_recovered    16570\n",
    "Name: 607, dtype: int64"
   ]
  },
  {
   "cell_type": "markdown",
   "id": "2af3092a",
   "metadata": {},
   "source": [
    "nombre_infected       924\n",
    "nombre_sain          2018\n",
    "nombre_exposed        492\n",
    "nombre_recovered    16566\n",
    "Name: 608, dtype: int64"
   ]
  },
  {
   "cell_type": "markdown",
   "id": "094abae6",
   "metadata": {},
   "source": [
    "nombre_infected       906\n",
    "nombre_sain          2029\n",
    "nombre_exposed        482\n",
    "nombre_recovered    16583\n",
    "Name: 609, dtype: int64"
   ]
  },
  {
   "cell_type": "markdown",
   "id": "60de61ea",
   "metadata": {},
   "source": [
    "nombre_infected       874\n",
    "nombre_sain          2064\n",
    "nombre_exposed        479\n",
    "nombre_recovered    16583\n",
    "Name: 610, dtype: int64"
   ]
  },
  {
   "cell_type": "markdown",
   "id": "64384eea",
   "metadata": {},
   "source": [
    "nombre_infected       854\n",
    "nombre_sain          2057\n",
    "nombre_exposed        483\n",
    "nombre_recovered    16606\n",
    "Name: 611, dtype: int64"
   ]
  },
  {
   "cell_type": "markdown",
   "id": "0f4d667d",
   "metadata": {},
   "source": [
    "nombre_infected       837\n",
    "nombre_sain          2091\n",
    "nombre_exposed        486\n",
    "nombre_recovered    16586\n",
    "Name: 612, dtype: int64"
   ]
  },
  {
   "cell_type": "markdown",
   "id": "ab6c48a5",
   "metadata": {},
   "source": [
    "nombre_infected       848\n",
    "nombre_sain          2110\n",
    "nombre_exposed        473\n",
    "nombre_recovered    16569\n",
    "Name: 613, dtype: int64"
   ]
  },
  {
   "cell_type": "markdown",
   "id": "2ce5797d",
   "metadata": {},
   "source": [
    "nombre_infected       848\n",
    "nombre_sain          2132\n",
    "nombre_exposed        469\n",
    "nombre_recovered    16551\n",
    "Name: 614, dtype: int64"
   ]
  },
  {
   "cell_type": "markdown",
   "id": "3619b4e3",
   "metadata": {},
   "source": [
    "nombre_infected       840\n",
    "nombre_sain          2170\n",
    "nombre_exposed        438\n",
    "nombre_recovered    16552\n",
    "Name: 615, dtype: int64"
   ]
  },
  {
   "cell_type": "markdown",
   "id": "23de328c",
   "metadata": {},
   "source": [
    "nombre_infected       837\n",
    "nombre_sain          2189\n",
    "nombre_exposed        435\n",
    "nombre_recovered    16539\n",
    "Name: 616, dtype: int64"
   ]
  },
  {
   "cell_type": "markdown",
   "id": "80f62e15",
   "metadata": {},
   "source": [
    "nombre_infected       809\n",
    "nombre_sain          2220\n",
    "nombre_exposed        422\n",
    "nombre_recovered    16549\n",
    "Name: 617, dtype: int64"
   ]
  },
  {
   "cell_type": "markdown",
   "id": "0e44a4dd",
   "metadata": {},
   "source": [
    "nombre_infected       780\n",
    "nombre_sain          2214\n",
    "nombre_exposed        454\n",
    "nombre_recovered    16552\n",
    "Name: 618, dtype: int64"
   ]
  },
  {
   "cell_type": "markdown",
   "id": "24f3f7ec",
   "metadata": {},
   "source": [
    "nombre_infected       787\n",
    "nombre_sain          2213\n",
    "nombre_exposed        464\n",
    "nombre_recovered    16536\n",
    "Name: 619, dtype: int64"
   ]
  },
  {
   "cell_type": "markdown",
   "id": "3feb2056",
   "metadata": {},
   "source": [
    "nombre_infected       765\n",
    "nombre_sain          2236\n",
    "nombre_exposed        465\n",
    "nombre_recovered    16534\n",
    "Name: 620, dtype: int64"
   ]
  },
  {
   "cell_type": "markdown",
   "id": "e7214d3d",
   "metadata": {},
   "source": [
    "nombre_infected       766\n",
    "nombre_sain          2243\n",
    "nombre_exposed        470\n",
    "nombre_recovered    16521\n",
    "Name: 621, dtype: int64"
   ]
  },
  {
   "cell_type": "markdown",
   "id": "ed26b175",
   "metadata": {},
   "source": [
    "nombre_infected       749\n",
    "nombre_sain          2266\n",
    "nombre_exposed        466\n",
    "nombre_recovered    16519\n",
    "Name: 622, dtype: int64"
   ]
  },
  {
   "cell_type": "markdown",
   "id": "4234196b",
   "metadata": {},
   "source": [
    "nombre_infected       736\n",
    "nombre_sain          2272\n",
    "nombre_exposed        483\n",
    "nombre_recovered    16509\n",
    "Name: 623, dtype: int64"
   ]
  },
  {
   "cell_type": "markdown",
   "id": "3a52e7c8",
   "metadata": {},
   "source": [
    "nombre_infected       723\n",
    "nombre_sain          2272\n",
    "nombre_exposed        474\n",
    "nombre_recovered    16531\n",
    "Name: 624, dtype: int64"
   ]
  },
  {
   "cell_type": "markdown",
   "id": "c3c19bc1",
   "metadata": {},
   "source": [
    "nombre_infected       721\n",
    "nombre_sain          2300\n",
    "nombre_exposed        473\n",
    "nombre_recovered    16506\n",
    "Name: 625, dtype: int64"
   ]
  },
  {
   "cell_type": "markdown",
   "id": "8d5683ae",
   "metadata": {},
   "source": [
    "nombre_infected       740\n",
    "nombre_sain          2300\n",
    "nombre_exposed        456\n",
    "nombre_recovered    16504\n",
    "Name: 626, dtype: int64"
   ]
  },
  {
   "cell_type": "markdown",
   "id": "fd909bbf",
   "metadata": {},
   "source": [
    "nombre_infected       750\n",
    "nombre_sain          2319\n",
    "nombre_exposed        440\n",
    "nombre_recovered    16491\n",
    "Name: 627, dtype: int64"
   ]
  },
  {
   "cell_type": "markdown",
   "id": "77551e7f",
   "metadata": {},
   "source": [
    "nombre_infected       747\n",
    "nombre_sain          2331\n",
    "nombre_exposed        436\n",
    "nombre_recovered    16486\n",
    "Name: 628, dtype: int64"
   ]
  },
  {
   "cell_type": "markdown",
   "id": "22b466f0",
   "metadata": {},
   "source": [
    "nombre_infected       733\n",
    "nombre_sain          2353\n",
    "nombre_exposed        437\n",
    "nombre_recovered    16477\n",
    "Name: 629, dtype: int64"
   ]
  },
  {
   "cell_type": "markdown",
   "id": "a8bc6ae0",
   "metadata": {},
   "source": [
    "nombre_infected       723\n",
    "nombre_sain          2384\n",
    "nombre_exposed        432\n",
    "nombre_recovered    16461\n",
    "Name: 630, dtype: int64"
   ]
  },
  {
   "cell_type": "markdown",
   "id": "8e7e9ccb",
   "metadata": {},
   "source": [
    "nombre_infected       700\n",
    "nombre_sain          2418\n",
    "nombre_exposed        428\n",
    "nombre_recovered    16454\n",
    "Name: 631, dtype: int64"
   ]
  },
  {
   "cell_type": "markdown",
   "id": "0ec2116c",
   "metadata": {},
   "source": [
    "nombre_infected       714\n",
    "nombre_sain          2418\n",
    "nombre_exposed        430\n",
    "nombre_recovered    16438\n",
    "Name: 632, dtype: int64"
   ]
  },
  {
   "cell_type": "markdown",
   "id": "f71c397b",
   "metadata": {},
   "source": [
    "nombre_infected       696\n",
    "nombre_sain          2436\n",
    "nombre_exposed        449\n",
    "nombre_recovered    16419\n",
    "Name: 633, dtype: int64"
   ]
  },
  {
   "cell_type": "markdown",
   "id": "ae031c67",
   "metadata": {},
   "source": [
    "nombre_infected       686\n",
    "nombre_sain          2481\n",
    "nombre_exposed        437\n",
    "nombre_recovered    16396\n",
    "Name: 634, dtype: int64"
   ]
  },
  {
   "cell_type": "markdown",
   "id": "dfe3f8ae",
   "metadata": {},
   "source": [
    "nombre_infected       684\n",
    "nombre_sain          2522\n",
    "nombre_exposed        431\n",
    "nombre_recovered    16363\n",
    "Name: 635, dtype: int64"
   ]
  },
  {
   "cell_type": "markdown",
   "id": "c2c20146",
   "metadata": {},
   "source": [
    "nombre_infected       667\n",
    "nombre_sain          2540\n",
    "nombre_exposed        453\n",
    "nombre_recovered    16340\n",
    "Name: 636, dtype: int64"
   ]
  },
  {
   "cell_type": "markdown",
   "id": "359a7c50",
   "metadata": {},
   "source": [
    "nombre_infected       647\n",
    "nombre_sain          2531\n",
    "nombre_exposed        476\n",
    "nombre_recovered    16346\n",
    "Name: 637, dtype: int64"
   ]
  },
  {
   "cell_type": "markdown",
   "id": "c47f9df0",
   "metadata": {},
   "source": [
    "nombre_infected       641\n",
    "nombre_sain          2566\n",
    "nombre_exposed        466\n",
    "nombre_recovered    16327\n",
    "Name: 638, dtype: int64"
   ]
  },
  {
   "cell_type": "markdown",
   "id": "11d681f5",
   "metadata": {},
   "source": [
    "nombre_infected       635\n",
    "nombre_sain          2610\n",
    "nombre_exposed        456\n",
    "nombre_recovered    16299\n",
    "Name: 639, dtype: int64"
   ]
  },
  {
   "cell_type": "markdown",
   "id": "9f452830",
   "metadata": {},
   "source": [
    "nombre_infected       651\n",
    "nombre_sain          2632\n",
    "nombre_exposed        455\n",
    "nombre_recovered    16262\n",
    "Name: 640, dtype: int64"
   ]
  },
  {
   "cell_type": "markdown",
   "id": "e0baff7a",
   "metadata": {},
   "source": [
    "nombre_infected       645\n",
    "nombre_sain          2676\n",
    "nombre_exposed        442\n",
    "nombre_recovered    16237\n",
    "Name: 641, dtype: int64"
   ]
  },
  {
   "cell_type": "markdown",
   "id": "91384124",
   "metadata": {},
   "source": [
    "nombre_infected       650\n",
    "nombre_sain          2678\n",
    "nombre_exposed        456\n",
    "nombre_recovered    16216\n",
    "Name: 642, dtype: int64"
   ]
  },
  {
   "cell_type": "markdown",
   "id": "f503ae67",
   "metadata": {},
   "source": [
    "nombre_infected       656\n",
    "nombre_sain          2703\n",
    "nombre_exposed        472\n",
    "nombre_recovered    16169\n",
    "Name: 643, dtype: int64"
   ]
  },
  {
   "cell_type": "markdown",
   "id": "14054058",
   "metadata": {},
   "source": [
    "nombre_infected       683\n",
    "nombre_sain          2726\n",
    "nombre_exposed        467\n",
    "nombre_recovered    16124\n",
    "Name: 644, dtype: int64"
   ]
  },
  {
   "cell_type": "markdown",
   "id": "8b8f9881",
   "metadata": {},
   "source": [
    "nombre_infected       704\n",
    "nombre_sain          2773\n",
    "nombre_exposed        453\n",
    "nombre_recovered    16070\n",
    "Name: 645, dtype: int64"
   ]
  },
  {
   "cell_type": "markdown",
   "id": "616072d1",
   "metadata": {},
   "source": [
    "nombre_infected       689\n",
    "nombre_sain          2779\n",
    "nombre_exposed        486\n",
    "nombre_recovered    16046\n",
    "Name: 646, dtype: int64"
   ]
  },
  {
   "cell_type": "markdown",
   "id": "8b541715",
   "metadata": {},
   "source": [
    "nombre_infected       700\n",
    "nombre_sain          2817\n",
    "nombre_exposed        480\n",
    "nombre_recovered    16003\n",
    "Name: 647, dtype: int64"
   ]
  },
  {
   "cell_type": "markdown",
   "id": "8e7cc08e",
   "metadata": {},
   "source": [
    "nombre_infected       704\n",
    "nombre_sain          2822\n",
    "nombre_exposed        508\n",
    "nombre_recovered    15966\n",
    "Name: 648, dtype: int64"
   ]
  },
  {
   "cell_type": "markdown",
   "id": "c7b8c21a",
   "metadata": {},
   "source": [
    "nombre_infected       712\n",
    "nombre_sain          2801\n",
    "nombre_exposed        540\n",
    "nombre_recovered    15947\n",
    "Name: 649, dtype: int64"
   ]
  },
  {
   "cell_type": "markdown",
   "id": "c9a44370",
   "metadata": {},
   "source": [
    "nombre_infected       714\n",
    "nombre_sain          2790\n",
    "nombre_exposed        557\n",
    "nombre_recovered    15939\n",
    "Name: 650, dtype: int64"
   ]
  },
  {
   "cell_type": "markdown",
   "id": "d28f7af6",
   "metadata": {},
   "source": [
    "nombre_infected       729\n",
    "nombre_sain          2781\n",
    "nombre_exposed        552\n",
    "nombre_recovered    15938\n",
    "Name: 651, dtype: int64"
   ]
  },
  {
   "cell_type": "markdown",
   "id": "91b063db",
   "metadata": {},
   "source": [
    "nombre_infected       778\n",
    "nombre_sain          2770\n",
    "nombre_exposed        519\n",
    "nombre_recovered    15933\n",
    "Name: 652, dtype: int64"
   ]
  },
  {
   "cell_type": "markdown",
   "id": "2d27e1a4",
   "metadata": {},
   "source": [
    "nombre_infected       778\n",
    "nombre_sain          2751\n",
    "nombre_exposed        545\n",
    "nombre_recovered    15926\n",
    "Name: 653, dtype: int64"
   ]
  },
  {
   "cell_type": "markdown",
   "id": "3d8efaf3",
   "metadata": {},
   "source": [
    "nombre_infected       804\n",
    "nombre_sain          2748\n",
    "nombre_exposed        539\n",
    "nombre_recovered    15909\n",
    "Name: 654, dtype: int64"
   ]
  },
  {
   "cell_type": "markdown",
   "id": "9ba98fde",
   "metadata": {},
   "source": [
    "nombre_infected       837\n",
    "nombre_sain          2728\n",
    "nombre_exposed        540\n",
    "nombre_recovered    15895\n",
    "Name: 655, dtype: int64"
   ]
  },
  {
   "cell_type": "markdown",
   "id": "9b7ae3c9",
   "metadata": {},
   "source": [
    "nombre_infected       845\n",
    "nombre_sain          2706\n",
    "nombre_exposed        565\n",
    "nombre_recovered    15884\n",
    "Name: 656, dtype: int64"
   ]
  },
  {
   "cell_type": "markdown",
   "id": "c183e2bb",
   "metadata": {},
   "source": [
    "nombre_infected       843\n",
    "nombre_sain          2676\n",
    "nombre_exposed        586\n",
    "nombre_recovered    15895\n",
    "Name: 657, dtype: int64"
   ]
  },
  {
   "cell_type": "markdown",
   "id": "50b8b77d",
   "metadata": {},
   "source": [
    "nombre_infected       869\n",
    "nombre_sain          2662\n",
    "nombre_exposed        589\n",
    "nombre_recovered    15880\n",
    "Name: 658, dtype: int64"
   ]
  },
  {
   "cell_type": "markdown",
   "id": "be2dad6d",
   "metadata": {},
   "source": [
    "nombre_infected       900\n",
    "nombre_sain          2623\n",
    "nombre_exposed        609\n",
    "nombre_recovered    15868\n",
    "Name: 659, dtype: int64"
   ]
  },
  {
   "cell_type": "markdown",
   "id": "5a0f0987",
   "metadata": {},
   "source": [
    "nombre_infected       927\n",
    "nombre_sain          2601\n",
    "nombre_exposed        621\n",
    "nombre_recovered    15851\n",
    "Name: 660, dtype: int64"
   ]
  },
  {
   "cell_type": "markdown",
   "id": "b83a0b81",
   "metadata": {},
   "source": [
    "nombre_infected       955\n",
    "nombre_sain          2589\n",
    "nombre_exposed        622\n",
    "nombre_recovered    15834\n",
    "Name: 661, dtype: int64"
   ]
  },
  {
   "cell_type": "markdown",
   "id": "3ff749e5",
   "metadata": {},
   "source": [
    "nombre_infected       973\n",
    "nombre_sain          2573\n",
    "nombre_exposed        604\n",
    "nombre_recovered    15850\n",
    "Name: 662, dtype: int64"
   ]
  },
  {
   "cell_type": "markdown",
   "id": "afac9599",
   "metadata": {},
   "source": [
    "nombre_infected      1005\n",
    "nombre_sain          2543\n",
    "nombre_exposed        603\n",
    "nombre_recovered    15849\n",
    "Name: 663, dtype: int64"
   ]
  },
  {
   "cell_type": "markdown",
   "id": "18e52ecf",
   "metadata": {},
   "source": [
    "nombre_infected       996\n",
    "nombre_sain          2501\n",
    "nombre_exposed        634\n",
    "nombre_recovered    15869\n",
    "Name: 664, dtype: int64"
   ]
  },
  {
   "cell_type": "markdown",
   "id": "46cd2533",
   "metadata": {},
   "source": [
    "nombre_infected      1013\n",
    "nombre_sain          2479\n",
    "nombre_exposed        639\n",
    "nombre_recovered    15869\n",
    "Name: 665, dtype: int64"
   ]
  },
  {
   "cell_type": "markdown",
   "id": "2467772d",
   "metadata": {},
   "source": [
    "nombre_infected      1023\n",
    "nombre_sain          2441\n",
    "nombre_exposed        663\n",
    "nombre_recovered    15873\n",
    "Name: 666, dtype: int64"
   ]
  },
  {
   "cell_type": "markdown",
   "id": "8f3e4d76",
   "metadata": {},
   "source": [
    "nombre_infected      1014\n",
    "nombre_sain          2416\n",
    "nombre_exposed        682\n",
    "nombre_recovered    15888\n",
    "Name: 667, dtype: int64"
   ]
  },
  {
   "cell_type": "markdown",
   "id": "46a7ce31",
   "metadata": {},
   "source": [
    "nombre_infected      1012\n",
    "nombre_sain          2375\n",
    "nombre_exposed        681\n",
    "nombre_recovered    15932\n",
    "Name: 668, dtype: int64"
   ]
  },
  {
   "cell_type": "markdown",
   "id": "192d7b82",
   "metadata": {},
   "source": [
    "nombre_infected      1017\n",
    "nombre_sain          2341\n",
    "nombre_exposed        702\n",
    "nombre_recovered    15940\n",
    "Name: 669, dtype: int64"
   ]
  },
  {
   "cell_type": "markdown",
   "id": "aae1969b",
   "metadata": {},
   "source": [
    "nombre_infected      1025\n",
    "nombre_sain          2320\n",
    "nombre_exposed        673\n",
    "nombre_recovered    15982\n",
    "Name: 670, dtype: int64"
   ]
  },
  {
   "cell_type": "markdown",
   "id": "bd7bf188",
   "metadata": {},
   "source": [
    "nombre_infected      1015\n",
    "nombre_sain          2255\n",
    "nombre_exposed        687\n",
    "nombre_recovered    16043\n",
    "Name: 671, dtype: int64"
   ]
  },
  {
   "cell_type": "markdown",
   "id": "92e2b46d",
   "metadata": {},
   "source": [
    "nombre_infected      1022\n",
    "nombre_sain          2227\n",
    "nombre_exposed        674\n",
    "nombre_recovered    16077\n",
    "Name: 672, dtype: int64"
   ]
  },
  {
   "cell_type": "markdown",
   "id": "65511521",
   "metadata": {},
   "source": [
    "nombre_infected      1044\n",
    "nombre_sain          2178\n",
    "nombre_exposed        651\n",
    "nombre_recovered    16127\n",
    "Name: 673, dtype: int64"
   ]
  },
  {
   "cell_type": "markdown",
   "id": "f3ce02b9",
   "metadata": {},
   "source": [
    "nombre_infected      1039\n",
    "nombre_sain          2154\n",
    "nombre_exposed        640\n",
    "nombre_recovered    16167\n",
    "Name: 674, dtype: int64"
   ]
  },
  {
   "cell_type": "markdown",
   "id": "c9b97006",
   "metadata": {},
   "source": [
    "nombre_infected      1050\n",
    "nombre_sain          2130\n",
    "nombre_exposed        628\n",
    "nombre_recovered    16192\n",
    "Name: 675, dtype: int64"
   ]
  },
  {
   "cell_type": "markdown",
   "id": "bc3ca78c",
   "metadata": {},
   "source": [
    "nombre_infected      1072\n",
    "nombre_sain          2114\n",
    "nombre_exposed        601\n",
    "nombre_recovered    16213\n",
    "Name: 676, dtype: int64"
   ]
  },
  {
   "cell_type": "markdown",
   "id": "49e28236",
   "metadata": {},
   "source": [
    "nombre_infected      1075\n",
    "nombre_sain          2063\n",
    "nombre_exposed        623\n",
    "nombre_recovered    16239\n",
    "Name: 677, dtype: int64"
   ]
  },
  {
   "cell_type": "markdown",
   "id": "fe113850",
   "metadata": {},
   "source": [
    "nombre_infected      1030\n",
    "nombre_sain          2070\n",
    "nombre_exposed        622\n",
    "nombre_recovered    16278\n",
    "Name: 678, dtype: int64"
   ]
  },
  {
   "cell_type": "markdown",
   "id": "6adaa64a",
   "metadata": {},
   "source": [
    "nombre_infected      1030\n",
    "nombre_sain          2051\n",
    "nombre_exposed        605\n",
    "nombre_recovered    16314\n",
    "Name: 679, dtype: int64"
   ]
  },
  {
   "cell_type": "markdown",
   "id": "830aa255",
   "metadata": {},
   "source": [
    "nombre_infected      1031\n",
    "nombre_sain          2037\n",
    "nombre_exposed        580\n",
    "nombre_recovered    16352\n",
    "Name: 680, dtype: int64"
   ]
  },
  {
   "cell_type": "markdown",
   "id": "6bd7a1ba",
   "metadata": {},
   "source": [
    "nombre_infected      1036\n",
    "nombre_sain          2043\n",
    "nombre_exposed        563\n",
    "nombre_recovered    16358\n",
    "Name: 681, dtype: int64"
   ]
  },
  {
   "cell_type": "markdown",
   "id": "99906bd1",
   "metadata": {},
   "source": [
    "nombre_infected      1014\n",
    "nombre_sain          2047\n",
    "nombre_exposed        549\n",
    "nombre_recovered    16390\n",
    "Name: 682, dtype: int64"
   ]
  },
  {
   "cell_type": "markdown",
   "id": "ab6820a5",
   "metadata": {},
   "source": [
    "nombre_infected       994\n",
    "nombre_sain          2042\n",
    "nombre_exposed        555\n",
    "nombre_recovered    16409\n",
    "Name: 683, dtype: int64"
   ]
  },
  {
   "cell_type": "markdown",
   "id": "f01580cd",
   "metadata": {},
   "source": [
    "nombre_infected       993\n",
    "nombre_sain          2015\n",
    "nombre_exposed        551\n",
    "nombre_recovered    16441\n",
    "Name: 684, dtype: int64"
   ]
  },
  {
   "cell_type": "markdown",
   "id": "9a9c8083",
   "metadata": {},
   "source": [
    "nombre_infected       968\n",
    "nombre_sain          2003\n",
    "nombre_exposed        533\n",
    "nombre_recovered    16496\n",
    "Name: 685, dtype: int64"
   ]
  },
  {
   "cell_type": "markdown",
   "id": "1d798a53",
   "metadata": {},
   "source": [
    "nombre_infected       969\n",
    "nombre_sain          1991\n",
    "nombre_exposed        520\n",
    "nombre_recovered    16520\n",
    "Name: 686, dtype: int64"
   ]
  },
  {
   "cell_type": "markdown",
   "id": "58a91a38",
   "metadata": {},
   "source": [
    "nombre_infected       955\n",
    "nombre_sain          1995\n",
    "nombre_exposed        515\n",
    "nombre_recovered    16535\n",
    "Name: 687, dtype: int64"
   ]
  },
  {
   "cell_type": "markdown",
   "id": "50f745b4",
   "metadata": {},
   "source": [
    "nombre_infected       928\n",
    "nombre_sain          1981\n",
    "nombre_exposed        545\n",
    "nombre_recovered    16546\n",
    "Name: 688, dtype: int64"
   ]
  },
  {
   "cell_type": "markdown",
   "id": "d7ca004e",
   "metadata": {},
   "source": [
    "nombre_infected       916\n",
    "nombre_sain          1977\n",
    "nombre_exposed        538\n",
    "nombre_recovered    16569\n",
    "Name: 689, dtype: int64"
   ]
  },
  {
   "cell_type": "markdown",
   "id": "308ac0a8",
   "metadata": {},
   "source": [
    "nombre_infected       904\n",
    "nombre_sain          1990\n",
    "nombre_exposed        532\n",
    "nombre_recovered    16574\n",
    "Name: 690, dtype: int64"
   ]
  },
  {
   "cell_type": "markdown",
   "id": "8bb00498",
   "metadata": {},
   "source": [
    "nombre_infected       913\n",
    "nombre_sain          1980\n",
    "nombre_exposed        503\n",
    "nombre_recovered    16604\n",
    "Name: 691, dtype: int64"
   ]
  },
  {
   "cell_type": "markdown",
   "id": "5b0ccf91",
   "metadata": {},
   "source": [
    "nombre_infected       896\n",
    "nombre_sain          2004\n",
    "nombre_exposed        496\n",
    "nombre_recovered    16604\n",
    "Name: 692, dtype: int64"
   ]
  },
  {
   "cell_type": "markdown",
   "id": "2a83af8b",
   "metadata": {},
   "source": [
    "nombre_infected       886\n",
    "nombre_sain          2017\n",
    "nombre_exposed        479\n",
    "nombre_recovered    16618\n",
    "Name: 693, dtype: int64"
   ]
  },
  {
   "cell_type": "markdown",
   "id": "136bd47c",
   "metadata": {},
   "source": [
    "nombre_infected       898\n",
    "nombre_sain          1998\n",
    "nombre_exposed        491\n",
    "nombre_recovered    16613\n",
    "Name: 694, dtype: int64"
   ]
  },
  {
   "cell_type": "markdown",
   "id": "cad13031",
   "metadata": {},
   "source": [
    "nombre_infected       887\n",
    "nombre_sain          2026\n",
    "nombre_exposed        490\n",
    "nombre_recovered    16597\n",
    "Name: 695, dtype: int64"
   ]
  },
  {
   "cell_type": "markdown",
   "id": "8269590d",
   "metadata": {},
   "source": [
    "nombre_infected       876\n",
    "nombre_sain          2043\n",
    "nombre_exposed        478\n",
    "nombre_recovered    16603\n",
    "Name: 696, dtype: int64"
   ]
  },
  {
   "cell_type": "markdown",
   "id": "1b1f5af2",
   "metadata": {},
   "source": [
    "nombre_infected       860\n",
    "nombre_sain          2081\n",
    "nombre_exposed        456\n",
    "nombre_recovered    16603\n",
    "Name: 697, dtype: int64"
   ]
  },
  {
   "cell_type": "markdown",
   "id": "94c5d04b",
   "metadata": {},
   "source": [
    "nombre_infected       856\n",
    "nombre_sain          2091\n",
    "nombre_exposed        445\n",
    "nombre_recovered    16608\n",
    "Name: 698, dtype: int64"
   ]
  },
  {
   "cell_type": "markdown",
   "id": "e41f3398",
   "metadata": {},
   "source": [
    "nombre_infected       818\n",
    "nombre_sain          2112\n",
    "nombre_exposed        452\n",
    "nombre_recovered    16618\n",
    "Name: 699, dtype: int64"
   ]
  },
  {
   "cell_type": "markdown",
   "id": "b0163d24",
   "metadata": {},
   "source": [
    "nombre_infected       766\n",
    "nombre_sain          2126\n",
    "nombre_exposed        457\n",
    "nombre_recovered    16651\n",
    "Name: 700, dtype: int64"
   ]
  },
  {
   "cell_type": "markdown",
   "id": "3cab909d",
   "metadata": {},
   "source": [
    "nombre_infected       747\n",
    "nombre_sain          2167\n",
    "nombre_exposed        451\n",
    "nombre_recovered    16635\n",
    "Name: 701, dtype: int64"
   ]
  },
  {
   "cell_type": "markdown",
   "id": "58c48f17",
   "metadata": {},
   "source": [
    "nombre_infected       742\n",
    "nombre_sain          2193\n",
    "nombre_exposed        453\n",
    "nombre_recovered    16612\n",
    "Name: 702, dtype: int64"
   ]
  },
  {
   "cell_type": "markdown",
   "id": "9ac77d2a",
   "metadata": {},
   "source": [
    "nombre_infected       747\n",
    "nombre_sain          2211\n",
    "nombre_exposed        444\n",
    "nombre_recovered    16598\n",
    "Name: 703, dtype: int64"
   ]
  },
  {
   "cell_type": "markdown",
   "id": "ebeded3c",
   "metadata": {},
   "source": [
    "nombre_infected       743\n",
    "nombre_sain          2233\n",
    "nombre_exposed        448\n",
    "nombre_recovered    16576\n",
    "Name: 704, dtype: int64"
   ]
  },
  {
   "cell_type": "markdown",
   "id": "20aeaf54",
   "metadata": {},
   "source": [
    "nombre_infected       732\n",
    "nombre_sain          2277\n",
    "nombre_exposed        458\n",
    "nombre_recovered    16533\n",
    "Name: 705, dtype: int64"
   ]
  },
  {
   "cell_type": "markdown",
   "id": "a2cfb6e2",
   "metadata": {},
   "source": [
    "nombre_infected       736\n",
    "nombre_sain          2298\n",
    "nombre_exposed        444\n",
    "nombre_recovered    16522\n",
    "Name: 706, dtype: int64"
   ]
  },
  {
   "cell_type": "markdown",
   "id": "495b9a26",
   "metadata": {},
   "source": [
    "nombre_infected       717\n",
    "nombre_sain          2289\n",
    "nombre_exposed        463\n",
    "nombre_recovered    16531\n",
    "Name: 707, dtype: int64"
   ]
  },
  {
   "cell_type": "markdown",
   "id": "23ffdfb0",
   "metadata": {},
   "source": [
    "nombre_infected       716\n",
    "nombre_sain          2323\n",
    "nombre_exposed        440\n",
    "nombre_recovered    16521\n",
    "Name: 708, dtype: int64"
   ]
  },
  {
   "cell_type": "markdown",
   "id": "fb8a182c",
   "metadata": {},
   "source": [
    "nombre_infected       717\n",
    "nombre_sain          2334\n",
    "nombre_exposed        435\n",
    "nombre_recovered    16514\n",
    "Name: 709, dtype: int64"
   ]
  },
  {
   "cell_type": "markdown",
   "id": "62786cd8",
   "metadata": {},
   "source": [
    "nombre_infected       703\n",
    "nombre_sain          2340\n",
    "nombre_exposed        431\n",
    "nombre_recovered    16526\n",
    "Name: 710, dtype: int64"
   ]
  },
  {
   "cell_type": "markdown",
   "id": "3bf127ab",
   "metadata": {},
   "source": [
    "nombre_infected       694\n",
    "nombre_sain          2354\n",
    "nombre_exposed        449\n",
    "nombre_recovered    16503\n",
    "Name: 711, dtype: int64"
   ]
  },
  {
   "cell_type": "markdown",
   "id": "28812a18",
   "metadata": {},
   "source": [
    "nombre_infected       687\n",
    "nombre_sain          2347\n",
    "nombre_exposed        443\n",
    "nombre_recovered    16523\n",
    "Name: 712, dtype: int64"
   ]
  },
  {
   "cell_type": "markdown",
   "id": "bfdb292a",
   "metadata": {},
   "source": [
    "nombre_infected       683\n",
    "nombre_sain          2344\n",
    "nombre_exposed        452\n",
    "nombre_recovered    16521\n",
    "Name: 713, dtype: int64"
   ]
  },
  {
   "cell_type": "markdown",
   "id": "92463b94",
   "metadata": {},
   "source": [
    "nombre_infected       696\n",
    "nombre_sain          2360\n",
    "nombre_exposed        433\n",
    "nombre_recovered    16511\n",
    "Name: 714, dtype: int64"
   ]
  },
  {
   "cell_type": "markdown",
   "id": "4a77c451",
   "metadata": {},
   "source": [
    "nombre_infected       676\n",
    "nombre_sain          2394\n",
    "nombre_exposed        408\n",
    "nombre_recovered    16522\n",
    "Name: 715, dtype: int64"
   ]
  },
  {
   "cell_type": "markdown",
   "id": "d52c6689",
   "metadata": {},
   "source": [
    "nombre_infected       675\n",
    "nombre_sain          2422\n",
    "nombre_exposed        415\n",
    "nombre_recovered    16488\n",
    "Name: 716, dtype: int64"
   ]
  },
  {
   "cell_type": "markdown",
   "id": "990177ad",
   "metadata": {},
   "source": [
    "nombre_infected       666\n",
    "nombre_sain          2438\n",
    "nombre_exposed        393\n",
    "nombre_recovered    16503\n",
    "Name: 717, dtype: int64"
   ]
  },
  {
   "cell_type": "markdown",
   "id": "e9919079",
   "metadata": {},
   "source": [
    "nombre_infected       662\n",
    "nombre_sain          2441\n",
    "nombre_exposed        410\n",
    "nombre_recovered    16487\n",
    "Name: 718, dtype: int64"
   ]
  },
  {
   "cell_type": "markdown",
   "id": "ef61143a",
   "metadata": {},
   "source": [
    "nombre_infected       656\n",
    "nombre_sain          2430\n",
    "nombre_exposed        429\n",
    "nombre_recovered    16485\n",
    "Name: 719, dtype: int64"
   ]
  },
  {
   "cell_type": "markdown",
   "id": "ac6d9db8",
   "metadata": {},
   "source": [
    "nombre_infected       658\n",
    "nombre_sain          2419\n",
    "nombre_exposed        428\n",
    "nombre_recovered    16495\n",
    "Name: 720, dtype: int64"
   ]
  },
  {
   "cell_type": "markdown",
   "id": "aad14724",
   "metadata": {},
   "source": [
    "nombre_infected       647\n",
    "nombre_sain          2438\n",
    "nombre_exposed        425\n",
    "nombre_recovered    16490\n",
    "Name: 721, dtype: int64"
   ]
  },
  {
   "cell_type": "markdown",
   "id": "9b0153f7",
   "metadata": {},
   "source": [
    "nombre_infected       643\n",
    "nombre_sain          2460\n",
    "nombre_exposed        413\n",
    "nombre_recovered    16484\n",
    "Name: 722, dtype: int64"
   ]
  },
  {
   "cell_type": "markdown",
   "id": "64d275fb",
   "metadata": {},
   "source": [
    "nombre_infected       661\n",
    "nombre_sain          2464\n",
    "nombre_exposed        430\n",
    "nombre_recovered    16445\n",
    "Name: 723, dtype: int64"
   ]
  },
  {
   "cell_type": "markdown",
   "id": "b447e76a",
   "metadata": {},
   "source": [
    "nombre_infected       672\n",
    "nombre_sain          2468\n",
    "nombre_exposed        420\n",
    "nombre_recovered    16440\n",
    "Name: 724, dtype: int64"
   ]
  },
  {
   "cell_type": "markdown",
   "id": "75cf5b7f",
   "metadata": {},
   "source": [
    "nombre_infected       671\n",
    "nombre_sain          2472\n",
    "nombre_exposed        408\n",
    "nombre_recovered    16449\n",
    "Name: 725, dtype: int64"
   ]
  },
  {
   "cell_type": "markdown",
   "id": "b1985a03",
   "metadata": {},
   "source": [
    "nombre_infected       669\n",
    "nombre_sain          2454\n",
    "nombre_exposed        441\n",
    "nombre_recovered    16436\n",
    "Name: 726, dtype: int64"
   ]
  },
  {
   "cell_type": "markdown",
   "id": "f612edb6",
   "metadata": {},
   "source": [
    "nombre_infected       653\n",
    "nombre_sain          2460\n",
    "nombre_exposed        460\n",
    "nombre_recovered    16427\n",
    "Name: 727, dtype: int64"
   ]
  },
  {
   "cell_type": "markdown",
   "id": "d05f3934",
   "metadata": {},
   "source": [
    "nombre_infected       660\n",
    "nombre_sain          2462\n",
    "nombre_exposed        445\n",
    "nombre_recovered    16433\n",
    "Name: 728, dtype: int64"
   ]
  },
  {
   "cell_type": "markdown",
   "id": "64014ede",
   "metadata": {},
   "source": [
    "nombre_infected       665\n",
    "nombre_sain          2461\n",
    "nombre_exposed        443\n",
    "nombre_recovered    16431\n",
    "Name: 729, dtype: int64"
   ]
  },
  {
   "cell_type": "markdown",
   "id": "dbe9b4cd",
   "metadata": {},
   "source": [
    "nombre_infected       683\n",
    "nombre_sain          2458\n",
    "nombre_exposed        425\n",
    "nombre_recovered    16434\n",
    "Name: 730, dtype: int64"
   ]
  }
 ],
 "metadata": {},
 "nbformat": 4,
 "nbformat_minor": 5
}
