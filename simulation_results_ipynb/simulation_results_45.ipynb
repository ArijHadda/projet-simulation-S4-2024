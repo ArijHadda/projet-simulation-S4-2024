{
 "cells": [
  {
   "cell_type": "markdown",
   "id": "ba054b54",
   "metadata": {},
   "source": [
    "nombre_infected        20\n",
    "nombre_sain         19980\n",
    "nombre_exposed          0\n",
    "nombre_recovered        0\n",
    "Name: 0, dtype: int64"
   ]
  },
  {
   "cell_type": "markdown",
   "id": "7f838c2a",
   "metadata": {},
   "source": [
    "nombre_infected        20\n",
    "nombre_sain         19967\n",
    "nombre_exposed         13\n",
    "nombre_recovered        0\n",
    "Name: 1, dtype: int64"
   ]
  },
  {
   "cell_type": "markdown",
   "id": "c081a513",
   "metadata": {},
   "source": [
    "nombre_infected        20\n",
    "nombre_sain         19951\n",
    "nombre_exposed         29\n",
    "nombre_recovered        0\n",
    "Name: 2, dtype: int64"
   ]
  },
  {
   "cell_type": "markdown",
   "id": "4407bb50",
   "metadata": {},
   "source": [
    "nombre_infected        23\n",
    "nombre_sain         19920\n",
    "nombre_exposed         57\n",
    "nombre_recovered        0\n",
    "Name: 3, dtype: int64"
   ]
  },
  {
   "cell_type": "markdown",
   "id": "7ef1640e",
   "metadata": {},
   "source": [
    "nombre_infected        22\n",
    "nombre_sain         19890\n",
    "nombre_exposed         75\n",
    "nombre_recovered       13\n",
    "Name: 4, dtype: int64"
   ]
  },
  {
   "cell_type": "markdown",
   "id": "8f4af00c",
   "metadata": {},
   "source": [
    "nombre_infected        26\n",
    "nombre_sain         19853\n",
    "nombre_exposed        107\n",
    "nombre_recovered       14\n",
    "Name: 5, dtype: int64"
   ]
  },
  {
   "cell_type": "markdown",
   "id": "e46b795a",
   "metadata": {},
   "source": [
    "nombre_infected        42\n",
    "nombre_sain         19803\n",
    "nombre_exposed        140\n",
    "nombre_recovered       15\n",
    "Name: 6, dtype: int64"
   ]
  },
  {
   "cell_type": "markdown",
   "id": "0ee33481",
   "metadata": {},
   "source": [
    "nombre_infected        55\n",
    "nombre_sain         19749\n",
    "nombre_exposed        171\n",
    "nombre_recovered       25\n",
    "Name: 7, dtype: int64"
   ]
  },
  {
   "cell_type": "markdown",
   "id": "65a817db",
   "metadata": {},
   "source": [
    "nombre_infected        78\n",
    "nombre_sain         19678\n",
    "nombre_exposed        209\n",
    "nombre_recovered       35\n",
    "Name: 8, dtype: int64"
   ]
  },
  {
   "cell_type": "markdown",
   "id": "fb001404",
   "metadata": {},
   "source": [
    "nombre_infected       106\n",
    "nombre_sain         19548\n",
    "nombre_exposed        303\n",
    "nombre_recovered       43\n",
    "Name: 9, dtype: int64"
   ]
  },
  {
   "cell_type": "markdown",
   "id": "ecf849c2",
   "metadata": {},
   "source": [
    "nombre_infected       134\n",
    "nombre_sain         19419\n",
    "nombre_exposed        393\n",
    "nombre_recovered       54\n",
    "Name: 10, dtype: int64"
   ]
  },
  {
   "cell_type": "markdown",
   "id": "4bffe5ca",
   "metadata": {},
   "source": [
    "nombre_infected       193\n",
    "nombre_sain         19233\n",
    "nombre_exposed        508\n",
    "nombre_recovered       66\n",
    "Name: 11, dtype: int64"
   ]
  },
  {
   "cell_type": "markdown",
   "id": "30416e92",
   "metadata": {},
   "source": [
    "nombre_infected       264\n",
    "nombre_sain         18957\n",
    "nombre_exposed        700\n",
    "nombre_recovered       79\n",
    "Name: 12, dtype: int64"
   ]
  },
  {
   "cell_type": "markdown",
   "id": "c3f6d604",
   "metadata": {},
   "source": [
    "nombre_infected       366\n",
    "nombre_sain         18575\n",
    "nombre_exposed        960\n",
    "nombre_recovered       99\n",
    "Name: 13, dtype: int64"
   ]
  },
  {
   "cell_type": "markdown",
   "id": "904ddf2d",
   "metadata": {},
   "source": [
    "nombre_infected       496\n",
    "nombre_sain         18134\n",
    "nombre_exposed       1240\n",
    "nombre_recovered      130\n",
    "Name: 14, dtype: int64"
   ]
  },
  {
   "cell_type": "markdown",
   "id": "71fe5a43",
   "metadata": {},
   "source": [
    "nombre_infected       663\n",
    "nombre_sain         17538\n",
    "nombre_exposed       1626\n",
    "nombre_recovered      173\n",
    "Name: 15, dtype: int64"
   ]
  },
  {
   "cell_type": "markdown",
   "id": "0bb300c3",
   "metadata": {},
   "source": [
    "nombre_infected       888\n",
    "nombre_sain         16754\n",
    "nombre_exposed       2137\n",
    "nombre_recovered      221\n",
    "Name: 16, dtype: int64"
   ]
  },
  {
   "cell_type": "markdown",
   "id": "1386ed99",
   "metadata": {},
   "source": [
    "nombre_infected      1190\n",
    "nombre_sain         15716\n",
    "nombre_exposed       2800\n",
    "nombre_recovered      294\n",
    "Name: 17, dtype: int64"
   ]
  },
  {
   "cell_type": "markdown",
   "id": "9f6538fc",
   "metadata": {},
   "source": [
    "nombre_infected      1522\n",
    "nombre_sain         14474\n",
    "nombre_exposed       3599\n",
    "nombre_recovered      405\n",
    "Name: 18, dtype: int64"
   ]
  },
  {
   "cell_type": "markdown",
   "id": "a1f7e860",
   "metadata": {},
   "source": [
    "nombre_infected      2017\n",
    "nombre_sain         13079\n",
    "nombre_exposed       4381\n",
    "nombre_recovered      523\n",
    "Name: 19, dtype: int64"
   ]
  },
  {
   "cell_type": "markdown",
   "id": "b27964f5",
   "metadata": {},
   "source": [
    "nombre_infected      2639\n",
    "nombre_sain         11439\n",
    "nombre_exposed       5212\n",
    "nombre_recovered      710\n",
    "Name: 20, dtype: int64"
   ]
  },
  {
   "cell_type": "markdown",
   "id": "67290554",
   "metadata": {},
   "source": [
    "nombre_infected     3403\n",
    "nombre_sain         9676\n",
    "nombre_exposed      5960\n",
    "nombre_recovered     961\n",
    "Name: 21, dtype: int64"
   ]
  },
  {
   "cell_type": "markdown",
   "id": "d3aed978",
   "metadata": {},
   "source": [
    "nombre_infected     4204\n",
    "nombre_sain         7876\n",
    "nombre_exposed      6653\n",
    "nombre_recovered    1267\n",
    "Name: 22, dtype: int64"
   ]
  },
  {
   "cell_type": "markdown",
   "id": "34d969fe",
   "metadata": {},
   "source": [
    "nombre_infected     5115\n",
    "nombre_sain         6330\n",
    "nombre_exposed      6896\n",
    "nombre_recovered    1659\n",
    "Name: 23, dtype: int64"
   ]
  },
  {
   "cell_type": "markdown",
   "id": "e403dcf5",
   "metadata": {},
   "source": [
    "nombre_infected     6117\n",
    "nombre_sain         4759\n",
    "nombre_exposed      6967\n",
    "nombre_recovered    2157\n",
    "Name: 24, dtype: int64"
   ]
  },
  {
   "cell_type": "markdown",
   "id": "abca9b13",
   "metadata": {},
   "source": [
    "nombre_infected     6958\n",
    "nombre_sain         3472\n",
    "nombre_exposed      6779\n",
    "nombre_recovered    2791\n",
    "Name: 25, dtype: int64"
   ]
  },
  {
   "cell_type": "markdown",
   "id": "7d305cc6",
   "metadata": {},
   "source": [
    "nombre_infected     7760\n",
    "nombre_sain         2429\n",
    "nombre_exposed      6333\n",
    "nombre_recovered    3478\n",
    "Name: 26, dtype: int64"
   ]
  },
  {
   "cell_type": "markdown",
   "id": "4fe33f3a",
   "metadata": {},
   "source": [
    "nombre_infected     8412\n",
    "nombre_sain         1686\n",
    "nombre_exposed      5620\n",
    "nombre_recovered    4282\n",
    "Name: 27, dtype: int64"
   ]
  },
  {
   "cell_type": "markdown",
   "id": "39ccb163",
   "metadata": {},
   "source": [
    "nombre_infected     8910\n",
    "nombre_sain         1155\n",
    "nombre_exposed      4787\n",
    "nombre_recovered    5148\n",
    "Name: 28, dtype: int64"
   ]
  },
  {
   "cell_type": "markdown",
   "id": "2e2abcd4",
   "metadata": {},
   "source": [
    "nombre_infected     9067\n",
    "nombre_sain          777\n",
    "nombre_exposed      4040\n",
    "nombre_recovered    6116\n",
    "Name: 29, dtype: int64"
   ]
  },
  {
   "cell_type": "markdown",
   "id": "94558d0b",
   "metadata": {},
   "source": [
    "nombre_infected     9118\n",
    "nombre_sain          517\n",
    "nombre_exposed      3286\n",
    "nombre_recovered    7079\n",
    "Name: 30, dtype: int64"
   ]
  },
  {
   "cell_type": "markdown",
   "id": "88fc8b1f",
   "metadata": {},
   "source": [
    "nombre_infected     8986\n",
    "nombre_sain          360\n",
    "nombre_exposed      2629\n",
    "nombre_recovered    8025\n",
    "Name: 31, dtype: int64"
   ]
  },
  {
   "cell_type": "markdown",
   "id": "96234b7f",
   "metadata": {},
   "source": [
    "nombre_infected     8615\n",
    "nombre_sain          266\n",
    "nombre_exposed      2066\n",
    "nombre_recovered    9053\n",
    "Name: 32, dtype: int64"
   ]
  },
  {
   "cell_type": "markdown",
   "id": "99796ab6",
   "metadata": {},
   "source": [
    "nombre_infected      8196\n",
    "nombre_sain           209\n",
    "nombre_exposed       1581\n",
    "nombre_recovered    10014\n",
    "Name: 33, dtype: int64"
   ]
  },
  {
   "cell_type": "markdown",
   "id": "7e15e796",
   "metadata": {},
   "source": [
    "nombre_infected      7683\n",
    "nombre_sain           169\n",
    "nombre_exposed       1216\n",
    "nombre_recovered    10932\n",
    "Name: 34, dtype: int64"
   ]
  },
  {
   "cell_type": "markdown",
   "id": "9a70a9b1",
   "metadata": {},
   "source": [
    "nombre_infected      6998\n",
    "nombre_sain           132\n",
    "nombre_exposed        988\n",
    "nombre_recovered    11882\n",
    "Name: 35, dtype: int64"
   ]
  },
  {
   "cell_type": "markdown",
   "id": "9f537dbe",
   "metadata": {},
   "source": [
    "nombre_infected      6387\n",
    "nombre_sain           129\n",
    "nombre_exposed        756\n",
    "nombre_recovered    12728\n",
    "Name: 36, dtype: int64"
   ]
  },
  {
   "cell_type": "markdown",
   "id": "4c630610",
   "metadata": {},
   "source": [
    "nombre_infected      5730\n",
    "nombre_sain           135\n",
    "nombre_exposed        584\n",
    "nombre_recovered    13551\n",
    "Name: 37, dtype: int64"
   ]
  },
  {
   "cell_type": "markdown",
   "id": "ca8a47d8",
   "metadata": {},
   "source": [
    "nombre_infected      5226\n",
    "nombre_sain           134\n",
    "nombre_exposed        437\n",
    "nombre_recovered    14203\n",
    "Name: 38, dtype: int64"
   ]
  },
  {
   "cell_type": "markdown",
   "id": "97bf246b",
   "metadata": {},
   "source": [
    "nombre_infected      4634\n",
    "nombre_sain           139\n",
    "nombre_exposed        353\n",
    "nombre_recovered    14874\n",
    "Name: 39, dtype: int64"
   ]
  },
  {
   "cell_type": "markdown",
   "id": "218838df",
   "metadata": {},
   "source": [
    "nombre_infected      4095\n",
    "nombre_sain           166\n",
    "nombre_exposed        266\n",
    "nombre_recovered    15473\n",
    "Name: 40, dtype: int64"
   ]
  },
  {
   "cell_type": "markdown",
   "id": "895769d1",
   "metadata": {},
   "source": [
    "nombre_infected      3645\n",
    "nombre_sain           197\n",
    "nombre_exposed        197\n",
    "nombre_recovered    15961\n",
    "Name: 41, dtype: int64"
   ]
  },
  {
   "cell_type": "markdown",
   "id": "957a50e4",
   "metadata": {},
   "source": [
    "nombre_infected      3137\n",
    "nombre_sain           214\n",
    "nombre_exposed        185\n",
    "nombre_recovered    16464\n",
    "Name: 42, dtype: int64"
   ]
  },
  {
   "cell_type": "markdown",
   "id": "adb5ffcb",
   "metadata": {},
   "source": [
    "nombre_infected      2714\n",
    "nombre_sain           221\n",
    "nombre_exposed        181\n",
    "nombre_recovered    16884\n",
    "Name: 43, dtype: int64"
   ]
  },
  {
   "cell_type": "markdown",
   "id": "ad3e77b1",
   "metadata": {},
   "source": [
    "nombre_infected      2359\n",
    "nombre_sain           247\n",
    "nombre_exposed        164\n",
    "nombre_recovered    17230\n",
    "Name: 44, dtype: int64"
   ]
  },
  {
   "cell_type": "markdown",
   "id": "ebfb6f6b",
   "metadata": {},
   "source": [
    "nombre_infected      2081\n",
    "nombre_sain           262\n",
    "nombre_exposed        151\n",
    "nombre_recovered    17506\n",
    "Name: 45, dtype: int64"
   ]
  },
  {
   "cell_type": "markdown",
   "id": "295f4bc6",
   "metadata": {},
   "source": [
    "nombre_infected      1829\n",
    "nombre_sain           283\n",
    "nombre_exposed        142\n",
    "nombre_recovered    17746\n",
    "Name: 46, dtype: int64"
   ]
  },
  {
   "cell_type": "markdown",
   "id": "331e1a20",
   "metadata": {},
   "source": [
    "nombre_infected      1628\n",
    "nombre_sain           290\n",
    "nombre_exposed        142\n",
    "nombre_recovered    17940\n",
    "Name: 47, dtype: int64"
   ]
  },
  {
   "cell_type": "markdown",
   "id": "ae0911cb",
   "metadata": {},
   "source": [
    "nombre_infected      1434\n",
    "nombre_sain           298\n",
    "nombre_exposed        146\n",
    "nombre_recovered    18122\n",
    "Name: 48, dtype: int64"
   ]
  },
  {
   "cell_type": "markdown",
   "id": "249af452",
   "metadata": {},
   "source": [
    "nombre_infected      1294\n",
    "nombre_sain           308\n",
    "nombre_exposed        133\n",
    "nombre_recovered    18265\n",
    "Name: 49, dtype: int64"
   ]
  },
  {
   "cell_type": "markdown",
   "id": "1d34dc10",
   "metadata": {},
   "source": [
    "nombre_infected      1164\n",
    "nombre_sain           326\n",
    "nombre_exposed        128\n",
    "nombre_recovered    18382\n",
    "Name: 50, dtype: int64"
   ]
  },
  {
   "cell_type": "markdown",
   "id": "6eea8329",
   "metadata": {},
   "source": [
    "nombre_infected      1029\n",
    "nombre_sain           371\n",
    "nombre_exposed        113\n",
    "nombre_recovered    18487\n",
    "Name: 51, dtype: int64"
   ]
  },
  {
   "cell_type": "markdown",
   "id": "fb9ce0ed",
   "metadata": {},
   "source": [
    "nombre_infected       920\n",
    "nombre_sain           396\n",
    "nombre_exposed         99\n",
    "nombre_recovered    18585\n",
    "Name: 52, dtype: int64"
   ]
  },
  {
   "cell_type": "markdown",
   "id": "5527be90",
   "metadata": {},
   "source": [
    "nombre_infected       817\n",
    "nombre_sain           432\n",
    "nombre_exposed        102\n",
    "nombre_recovered    18649\n",
    "Name: 53, dtype: int64"
   ]
  },
  {
   "cell_type": "markdown",
   "id": "df613424",
   "metadata": {},
   "source": [
    "nombre_infected       724\n",
    "nombre_sain           484\n",
    "nombre_exposed         97\n",
    "nombre_recovered    18695\n",
    "Name: 54, dtype: int64"
   ]
  },
  {
   "cell_type": "markdown",
   "id": "560aaf1f",
   "metadata": {},
   "source": [
    "nombre_infected       639\n",
    "nombre_sain           531\n",
    "nombre_exposed         95\n",
    "nombre_recovered    18735\n",
    "Name: 55, dtype: int64"
   ]
  },
  {
   "cell_type": "markdown",
   "id": "4cf0e4a2",
   "metadata": {},
   "source": [
    "nombre_infected       584\n",
    "nombre_sain           566\n",
    "nombre_exposed         93\n",
    "nombre_recovered    18757\n",
    "Name: 56, dtype: int64"
   ]
  },
  {
   "cell_type": "markdown",
   "id": "dd131e59",
   "metadata": {},
   "source": [
    "nombre_infected       526\n",
    "nombre_sain           631\n",
    "nombre_exposed         92\n",
    "nombre_recovered    18751\n",
    "Name: 57, dtype: int64"
   ]
  },
  {
   "cell_type": "markdown",
   "id": "c08f4ac4",
   "metadata": {},
   "source": [
    "nombre_infected       484\n",
    "nombre_sain           694\n",
    "nombre_exposed         85\n",
    "nombre_recovered    18737\n",
    "Name: 58, dtype: int64"
   ]
  },
  {
   "cell_type": "markdown",
   "id": "215fc937",
   "metadata": {},
   "source": [
    "nombre_infected       444\n",
    "nombre_sain           762\n",
    "nombre_exposed         82\n",
    "nombre_recovered    18712\n",
    "Name: 59, dtype: int64"
   ]
  },
  {
   "cell_type": "markdown",
   "id": "739b276c",
   "metadata": {},
   "source": [
    "nombre_infected       401\n",
    "nombre_sain           838\n",
    "nombre_exposed         76\n",
    "nombre_recovered    18685\n",
    "Name: 60, dtype: int64"
   ]
  },
  {
   "cell_type": "markdown",
   "id": "68c7d353",
   "metadata": {},
   "source": [
    "nombre_infected       362\n",
    "nombre_sain           901\n",
    "nombre_exposed         71\n",
    "nombre_recovered    18666\n",
    "Name: 61, dtype: int64"
   ]
  },
  {
   "cell_type": "markdown",
   "id": "11fd78ba",
   "metadata": {},
   "source": [
    "nombre_infected       319\n",
    "nombre_sain           979\n",
    "nombre_exposed         85\n",
    "nombre_recovered    18617\n",
    "Name: 62, dtype: int64"
   ]
  },
  {
   "cell_type": "markdown",
   "id": "e1d8e45b",
   "metadata": {},
   "source": [
    "nombre_infected       285\n",
    "nombre_sain          1060\n",
    "nombre_exposed         81\n",
    "nombre_recovered    18574\n",
    "Name: 63, dtype: int64"
   ]
  },
  {
   "cell_type": "markdown",
   "id": "1bb38c57",
   "metadata": {},
   "source": [
    "nombre_infected       275\n",
    "nombre_sain          1137\n",
    "nombre_exposed         82\n",
    "nombre_recovered    18506\n",
    "Name: 64, dtype: int64"
   ]
  },
  {
   "cell_type": "markdown",
   "id": "cb523a40",
   "metadata": {},
   "source": [
    "nombre_infected       245\n",
    "nombre_sain          1177\n",
    "nombre_exposed        100\n",
    "nombre_recovered    18478\n",
    "Name: 65, dtype: int64"
   ]
  },
  {
   "cell_type": "markdown",
   "id": "d3cf810a",
   "metadata": {},
   "source": [
    "nombre_infected       233\n",
    "nombre_sain          1228\n",
    "nombre_exposed        105\n",
    "nombre_recovered    18434\n",
    "Name: 66, dtype: int64"
   ]
  },
  {
   "cell_type": "markdown",
   "id": "17b72a30",
   "metadata": {},
   "source": [
    "nombre_infected       225\n",
    "nombre_sain          1283\n",
    "nombre_exposed         98\n",
    "nombre_recovered    18394\n",
    "Name: 67, dtype: int64"
   ]
  },
  {
   "cell_type": "markdown",
   "id": "f4e58d82",
   "metadata": {},
   "source": [
    "nombre_infected       227\n",
    "nombre_sain          1347\n",
    "nombre_exposed         82\n",
    "nombre_recovered    18344\n",
    "Name: 68, dtype: int64"
   ]
  },
  {
   "cell_type": "markdown",
   "id": "21e3b300",
   "metadata": {},
   "source": [
    "nombre_infected       213\n",
    "nombre_sain          1411\n",
    "nombre_exposed         82\n",
    "nombre_recovered    18294\n",
    "Name: 69, dtype: int64"
   ]
  },
  {
   "cell_type": "markdown",
   "id": "81d09d3a",
   "metadata": {},
   "source": [
    "nombre_infected       207\n",
    "nombre_sain          1455\n",
    "nombre_exposed         82\n",
    "nombre_recovered    18256\n",
    "Name: 70, dtype: int64"
   ]
  },
  {
   "cell_type": "markdown",
   "id": "79ff4339",
   "metadata": {},
   "source": [
    "nombre_infected       199\n",
    "nombre_sain          1475\n",
    "nombre_exposed         85\n",
    "nombre_recovered    18241\n",
    "Name: 71, dtype: int64"
   ]
  },
  {
   "cell_type": "markdown",
   "id": "8c6fa00e",
   "metadata": {},
   "source": [
    "nombre_infected       203\n",
    "nombre_sain          1505\n",
    "nombre_exposed         76\n",
    "nombre_recovered    18216\n",
    "Name: 72, dtype: int64"
   ]
  },
  {
   "cell_type": "markdown",
   "id": "38d6e4ae",
   "metadata": {},
   "source": [
    "nombre_infected       191\n",
    "nombre_sain          1541\n",
    "nombre_exposed         76\n",
    "nombre_recovered    18192\n",
    "Name: 73, dtype: int64"
   ]
  },
  {
   "cell_type": "markdown",
   "id": "015a60b5",
   "metadata": {},
   "source": [
    "nombre_infected       183\n",
    "nombre_sain          1588\n",
    "nombre_exposed         73\n",
    "nombre_recovered    18156\n",
    "Name: 74, dtype: int64"
   ]
  },
  {
   "cell_type": "markdown",
   "id": "f5d2f477",
   "metadata": {},
   "source": [
    "nombre_infected       165\n",
    "nombre_sain          1638\n",
    "nombre_exposed         76\n",
    "nombre_recovered    18121\n",
    "Name: 75, dtype: int64"
   ]
  },
  {
   "cell_type": "markdown",
   "id": "9efbd89d",
   "metadata": {},
   "source": [
    "nombre_infected       157\n",
    "nombre_sain          1692\n",
    "nombre_exposed         75\n",
    "nombre_recovered    18076\n",
    "Name: 76, dtype: int64"
   ]
  },
  {
   "cell_type": "markdown",
   "id": "eb67e752",
   "metadata": {},
   "source": [
    "nombre_infected       145\n",
    "nombre_sain          1748\n",
    "nombre_exposed         72\n",
    "nombre_recovered    18035\n",
    "Name: 77, dtype: int64"
   ]
  },
  {
   "cell_type": "markdown",
   "id": "0595f90c",
   "metadata": {},
   "source": [
    "nombre_infected       143\n",
    "nombre_sain          1796\n",
    "nombre_exposed         64\n",
    "nombre_recovered    17997\n",
    "Name: 78, dtype: int64"
   ]
  },
  {
   "cell_type": "markdown",
   "id": "b4fb70f0",
   "metadata": {},
   "source": [
    "nombre_infected       134\n",
    "nombre_sain          1837\n",
    "nombre_exposed         63\n",
    "nombre_recovered    17966\n",
    "Name: 79, dtype: int64"
   ]
  },
  {
   "cell_type": "markdown",
   "id": "dd58946e",
   "metadata": {},
   "source": [
    "nombre_infected       130\n",
    "nombre_sain          1887\n",
    "nombre_exposed         61\n",
    "nombre_recovered    17922\n",
    "Name: 80, dtype: int64"
   ]
  },
  {
   "cell_type": "markdown",
   "id": "b736a893",
   "metadata": {},
   "source": [
    "nombre_infected       128\n",
    "nombre_sain          1938\n",
    "nombre_exposed         68\n",
    "nombre_recovered    17866\n",
    "Name: 81, dtype: int64"
   ]
  },
  {
   "cell_type": "markdown",
   "id": "a9b4847c",
   "metadata": {},
   "source": [
    "nombre_infected       122\n",
    "nombre_sain          1980\n",
    "nombre_exposed         65\n",
    "nombre_recovered    17833\n",
    "Name: 82, dtype: int64"
   ]
  },
  {
   "cell_type": "markdown",
   "id": "996ac18a",
   "metadata": {},
   "source": [
    "nombre_infected       126\n",
    "nombre_sain          2023\n",
    "nombre_exposed         65\n",
    "nombre_recovered    17786\n",
    "Name: 83, dtype: int64"
   ]
  },
  {
   "cell_type": "markdown",
   "id": "617280bc",
   "metadata": {},
   "source": [
    "nombre_infected       119\n",
    "nombre_sain          2076\n",
    "nombre_exposed         67\n",
    "nombre_recovered    17738\n",
    "Name: 84, dtype: int64"
   ]
  },
  {
   "cell_type": "markdown",
   "id": "6be3c912",
   "metadata": {},
   "source": [
    "nombre_infected       120\n",
    "nombre_sain          2116\n",
    "nombre_exposed         65\n",
    "nombre_recovered    17699\n",
    "Name: 85, dtype: int64"
   ]
  },
  {
   "cell_type": "markdown",
   "id": "4220d2d7",
   "metadata": {},
   "source": [
    "nombre_infected       114\n",
    "nombre_sain          2167\n",
    "nombre_exposed         71\n",
    "nombre_recovered    17648\n",
    "Name: 86, dtype: int64"
   ]
  },
  {
   "cell_type": "markdown",
   "id": "065238a7",
   "metadata": {},
   "source": [
    "nombre_infected       121\n",
    "nombre_sain          2204\n",
    "nombre_exposed         70\n",
    "nombre_recovered    17605\n",
    "Name: 87, dtype: int64"
   ]
  },
  {
   "cell_type": "markdown",
   "id": "d117569e",
   "metadata": {},
   "source": [
    "nombre_infected       122\n",
    "nombre_sain          2246\n",
    "nombre_exposed         71\n",
    "nombre_recovered    17561\n",
    "Name: 88, dtype: int64"
   ]
  },
  {
   "cell_type": "markdown",
   "id": "2efe0776",
   "metadata": {},
   "source": [
    "nombre_infected       117\n",
    "nombre_sain          2282\n",
    "nombre_exposed         67\n",
    "nombre_recovered    17534\n",
    "Name: 89, dtype: int64"
   ]
  },
  {
   "cell_type": "markdown",
   "id": "59ecaadb",
   "metadata": {},
   "source": [
    "nombre_infected       121\n",
    "nombre_sain          2321\n",
    "nombre_exposed         67\n",
    "nombre_recovered    17491\n",
    "Name: 90, dtype: int64"
   ]
  },
  {
   "cell_type": "markdown",
   "id": "5e01a6e3",
   "metadata": {},
   "source": [
    "nombre_infected       124\n",
    "nombre_sain          2373\n",
    "nombre_exposed         70\n",
    "nombre_recovered    17433\n",
    "Name: 91, dtype: int64"
   ]
  },
  {
   "cell_type": "markdown",
   "id": "33149c38",
   "metadata": {},
   "source": [
    "nombre_infected       135\n",
    "nombre_sain          2407\n",
    "nombre_exposed         68\n",
    "nombre_recovered    17390\n",
    "Name: 92, dtype: int64"
   ]
  },
  {
   "cell_type": "markdown",
   "id": "43ffa02a",
   "metadata": {},
   "source": [
    "nombre_infected       139\n",
    "nombre_sain          2439\n",
    "nombre_exposed         73\n",
    "nombre_recovered    17349\n",
    "Name: 93, dtype: int64"
   ]
  },
  {
   "cell_type": "markdown",
   "id": "92d48d3c",
   "metadata": {},
   "source": [
    "nombre_infected       138\n",
    "nombre_sain          2462\n",
    "nombre_exposed         89\n",
    "nombre_recovered    17311\n",
    "Name: 94, dtype: int64"
   ]
  },
  {
   "cell_type": "markdown",
   "id": "a430602d",
   "metadata": {},
   "source": [
    "nombre_infected       132\n",
    "nombre_sain          2496\n",
    "nombre_exposed        100\n",
    "nombre_recovered    17272\n",
    "Name: 95, dtype: int64"
   ]
  },
  {
   "cell_type": "markdown",
   "id": "8a299018",
   "metadata": {},
   "source": [
    "nombre_infected       130\n",
    "nombre_sain          2534\n",
    "nombre_exposed        109\n",
    "nombre_recovered    17227\n",
    "Name: 96, dtype: int64"
   ]
  },
  {
   "cell_type": "markdown",
   "id": "a8b055a3",
   "metadata": {},
   "source": [
    "nombre_infected       137\n",
    "nombre_sain          2580\n",
    "nombre_exposed        103\n",
    "nombre_recovered    17180\n",
    "Name: 97, dtype: int64"
   ]
  },
  {
   "cell_type": "markdown",
   "id": "43d0ed49",
   "metadata": {},
   "source": [
    "nombre_infected       149\n",
    "nombre_sain          2629\n",
    "nombre_exposed        102\n",
    "nombre_recovered    17120\n",
    "Name: 98, dtype: int64"
   ]
  },
  {
   "cell_type": "markdown",
   "id": "99faa684",
   "metadata": {},
   "source": [
    "nombre_infected       155\n",
    "nombre_sain          2685\n",
    "nombre_exposed        106\n",
    "nombre_recovered    17054\n",
    "Name: 99, dtype: int64"
   ]
  },
  {
   "cell_type": "markdown",
   "id": "1d19e494",
   "metadata": {},
   "source": [
    "nombre_infected       156\n",
    "nombre_sain          2750\n",
    "nombre_exposed        110\n",
    "nombre_recovered    16984\n",
    "Name: 100, dtype: int64"
   ]
  },
  {
   "cell_type": "markdown",
   "id": "f82e5c80",
   "metadata": {},
   "source": [
    "nombre_infected       163\n",
    "nombre_sain          2828\n",
    "nombre_exposed        119\n",
    "nombre_recovered    16890\n",
    "Name: 101, dtype: int64"
   ]
  },
  {
   "cell_type": "markdown",
   "id": "58126730",
   "metadata": {},
   "source": [
    "nombre_infected       176\n",
    "nombre_sain          2896\n",
    "nombre_exposed        116\n",
    "nombre_recovered    16812\n",
    "Name: 102, dtype: int64"
   ]
  },
  {
   "cell_type": "markdown",
   "id": "c11a53b6",
   "metadata": {},
   "source": [
    "nombre_infected       176\n",
    "nombre_sain          2944\n",
    "nombre_exposed        129\n",
    "nombre_recovered    16751\n",
    "Name: 103, dtype: int64"
   ]
  },
  {
   "cell_type": "markdown",
   "id": "9f58bd0e",
   "metadata": {},
   "source": [
    "nombre_infected       188\n",
    "nombre_sain          2977\n",
    "nombre_exposed        142\n",
    "nombre_recovered    16693\n",
    "Name: 104, dtype: int64"
   ]
  },
  {
   "cell_type": "markdown",
   "id": "a1f48db7",
   "metadata": {},
   "source": [
    "nombre_infected       198\n",
    "nombre_sain          3015\n",
    "nombre_exposed        142\n",
    "nombre_recovered    16645\n",
    "Name: 105, dtype: int64"
   ]
  },
  {
   "cell_type": "markdown",
   "id": "2e84ed2e",
   "metadata": {},
   "source": [
    "nombre_infected       207\n",
    "nombre_sain          3070\n",
    "nombre_exposed        151\n",
    "nombre_recovered    16572\n",
    "Name: 106, dtype: int64"
   ]
  },
  {
   "cell_type": "markdown",
   "id": "f04edf10",
   "metadata": {},
   "source": [
    "nombre_infected       214\n",
    "nombre_sain          3107\n",
    "nombre_exposed        161\n",
    "nombre_recovered    16518\n",
    "Name: 107, dtype: int64"
   ]
  },
  {
   "cell_type": "markdown",
   "id": "8182d9a0",
   "metadata": {},
   "source": [
    "nombre_infected       211\n",
    "nombre_sain          3130\n",
    "nombre_exposed        184\n",
    "nombre_recovered    16475\n",
    "Name: 108, dtype: int64"
   ]
  },
  {
   "cell_type": "markdown",
   "id": "5244a358",
   "metadata": {},
   "source": [
    "nombre_infected       230\n",
    "nombre_sain          3171\n",
    "nombre_exposed        190\n",
    "nombre_recovered    16409\n",
    "Name: 109, dtype: int64"
   ]
  },
  {
   "cell_type": "markdown",
   "id": "2bb897a0",
   "metadata": {},
   "source": [
    "nombre_infected       247\n",
    "nombre_sain          3197\n",
    "nombre_exposed        196\n",
    "nombre_recovered    16360\n",
    "Name: 110, dtype: int64"
   ]
  },
  {
   "cell_type": "markdown",
   "id": "2539906d",
   "metadata": {},
   "source": [
    "nombre_infected       270\n",
    "nombre_sain          3247\n",
    "nombre_exposed        191\n",
    "nombre_recovered    16292\n",
    "Name: 111, dtype: int64"
   ]
  },
  {
   "cell_type": "markdown",
   "id": "79106d3d",
   "metadata": {},
   "source": [
    "nombre_infected       289\n",
    "nombre_sain          3284\n",
    "nombre_exposed        197\n",
    "nombre_recovered    16230\n",
    "Name: 112, dtype: int64"
   ]
  },
  {
   "cell_type": "markdown",
   "id": "255fecf6",
   "metadata": {},
   "source": [
    "nombre_infected       294\n",
    "nombre_sain          3316\n",
    "nombre_exposed        217\n",
    "nombre_recovered    16173\n",
    "Name: 113, dtype: int64"
   ]
  },
  {
   "cell_type": "markdown",
   "id": "b7680ff8",
   "metadata": {},
   "source": [
    "nombre_infected       315\n",
    "nombre_sain          3335\n",
    "nombre_exposed        227\n",
    "nombre_recovered    16123\n",
    "Name: 114, dtype: int64"
   ]
  },
  {
   "cell_type": "markdown",
   "id": "2db38426",
   "metadata": {},
   "source": [
    "nombre_infected       332\n",
    "nombre_sain          3358\n",
    "nombre_exposed        246\n",
    "nombre_recovered    16064\n",
    "Name: 115, dtype: int64"
   ]
  },
  {
   "cell_type": "markdown",
   "id": "283131b2",
   "metadata": {},
   "source": [
    "nombre_infected       329\n",
    "nombre_sain          3374\n",
    "nombre_exposed        266\n",
    "nombre_recovered    16031\n",
    "Name: 116, dtype: int64"
   ]
  },
  {
   "cell_type": "markdown",
   "id": "1b8dd1ec",
   "metadata": {},
   "source": [
    "nombre_infected       340\n",
    "nombre_sain          3380\n",
    "nombre_exposed        284\n",
    "nombre_recovered    15996\n",
    "Name: 117, dtype: int64"
   ]
  },
  {
   "cell_type": "markdown",
   "id": "174b47c1",
   "metadata": {},
   "source": [
    "nombre_infected       389\n",
    "nombre_sain          3367\n",
    "nombre_exposed        282\n",
    "nombre_recovered    15962\n",
    "Name: 118, dtype: int64"
   ]
  },
  {
   "cell_type": "markdown",
   "id": "f83dc86c",
   "metadata": {},
   "source": [
    "nombre_infected       397\n",
    "nombre_sain          3346\n",
    "nombre_exposed        309\n",
    "nombre_recovered    15948\n",
    "Name: 119, dtype: int64"
   ]
  },
  {
   "cell_type": "markdown",
   "id": "2492456f",
   "metadata": {},
   "source": [
    "nombre_infected       437\n",
    "nombre_sain          3330\n",
    "nombre_exposed        311\n",
    "nombre_recovered    15922\n",
    "Name: 120, dtype: int64"
   ]
  },
  {
   "cell_type": "markdown",
   "id": "bb958829",
   "metadata": {},
   "source": [
    "nombre_infected       446\n",
    "nombre_sain          3318\n",
    "nombre_exposed        323\n",
    "nombre_recovered    15913\n",
    "Name: 121, dtype: int64"
   ]
  },
  {
   "cell_type": "markdown",
   "id": "91f4c2aa",
   "metadata": {},
   "source": [
    "nombre_infected       460\n",
    "nombre_sain          3298\n",
    "nombre_exposed        342\n",
    "nombre_recovered    15900\n",
    "Name: 122, dtype: int64"
   ]
  },
  {
   "cell_type": "markdown",
   "id": "f544e1b7",
   "metadata": {},
   "source": [
    "nombre_infected       482\n",
    "nombre_sain          3255\n",
    "nombre_exposed        359\n",
    "nombre_recovered    15904\n",
    "Name: 123, dtype: int64"
   ]
  },
  {
   "cell_type": "markdown",
   "id": "7b8b0e2f",
   "metadata": {},
   "source": [
    "nombre_infected       502\n",
    "nombre_sain          3221\n",
    "nombre_exposed        376\n",
    "nombre_recovered    15901\n",
    "Name: 124, dtype: int64"
   ]
  },
  {
   "cell_type": "markdown",
   "id": "439c5eb6",
   "metadata": {},
   "source": [
    "nombre_infected       528\n",
    "nombre_sain          3186\n",
    "nombre_exposed        386\n",
    "nombre_recovered    15900\n",
    "Name: 125, dtype: int64"
   ]
  },
  {
   "cell_type": "markdown",
   "id": "fd28efa7",
   "metadata": {},
   "source": [
    "nombre_infected       567\n",
    "nombre_sain          3148\n",
    "nombre_exposed        381\n",
    "nombre_recovered    15904\n",
    "Name: 126, dtype: int64"
   ]
  },
  {
   "cell_type": "markdown",
   "id": "75fc1d8b",
   "metadata": {},
   "source": [
    "nombre_infected       591\n",
    "nombre_sain          3101\n",
    "nombre_exposed        404\n",
    "nombre_recovered    15904\n",
    "Name: 127, dtype: int64"
   ]
  },
  {
   "cell_type": "markdown",
   "id": "47e5608e",
   "metadata": {},
   "source": [
    "nombre_infected       622\n",
    "nombre_sain          3056\n",
    "nombre_exposed        407\n",
    "nombre_recovered    15915\n",
    "Name: 128, dtype: int64"
   ]
  },
  {
   "cell_type": "markdown",
   "id": "d431303a",
   "metadata": {},
   "source": [
    "nombre_infected       646\n",
    "nombre_sain          2998\n",
    "nombre_exposed        438\n",
    "nombre_recovered    15918\n",
    "Name: 129, dtype: int64"
   ]
  },
  {
   "cell_type": "markdown",
   "id": "17f76a11",
   "metadata": {},
   "source": [
    "nombre_infected       662\n",
    "nombre_sain          2933\n",
    "nombre_exposed        453\n",
    "nombre_recovered    15952\n",
    "Name: 130, dtype: int64"
   ]
  },
  {
   "cell_type": "markdown",
   "id": "cf894d72",
   "metadata": {},
   "source": [
    "nombre_infected       677\n",
    "nombre_sain          2858\n",
    "nombre_exposed        496\n",
    "nombre_recovered    15969\n",
    "Name: 131, dtype: int64"
   ]
  },
  {
   "cell_type": "markdown",
   "id": "0692d429",
   "metadata": {},
   "source": [
    "nombre_infected       702\n",
    "nombre_sain          2798\n",
    "nombre_exposed        507\n",
    "nombre_recovered    15993\n",
    "Name: 132, dtype: int64"
   ]
  },
  {
   "cell_type": "markdown",
   "id": "5591366d",
   "metadata": {},
   "source": [
    "nombre_infected       727\n",
    "nombre_sain          2745\n",
    "nombre_exposed        520\n",
    "nombre_recovered    16008\n",
    "Name: 133, dtype: int64"
   ]
  },
  {
   "cell_type": "markdown",
   "id": "9e641fad",
   "metadata": {},
   "source": [
    "nombre_infected       767\n",
    "nombre_sain          2711\n",
    "nombre_exposed        504\n",
    "nombre_recovered    16018\n",
    "Name: 134, dtype: int64"
   ]
  },
  {
   "cell_type": "markdown",
   "id": "3d811510",
   "metadata": {},
   "source": [
    "nombre_infected       770\n",
    "nombre_sain          2655\n",
    "nombre_exposed        514\n",
    "nombre_recovered    16061\n",
    "Name: 135, dtype: int64"
   ]
  },
  {
   "cell_type": "markdown",
   "id": "ef4fe9f3",
   "metadata": {},
   "source": [
    "nombre_infected       812\n",
    "nombre_sain          2582\n",
    "nombre_exposed        520\n",
    "nombre_recovered    16086\n",
    "Name: 136, dtype: int64"
   ]
  },
  {
   "cell_type": "markdown",
   "id": "9f4a82d9",
   "metadata": {},
   "source": [
    "nombre_infected       841\n",
    "nombre_sain          2508\n",
    "nombre_exposed        553\n",
    "nombre_recovered    16098\n",
    "Name: 137, dtype: int64"
   ]
  },
  {
   "cell_type": "markdown",
   "id": "458fbed0",
   "metadata": {},
   "source": [
    "nombre_infected       859\n",
    "nombre_sain          2466\n",
    "nombre_exposed        548\n",
    "nombre_recovered    16127\n",
    "Name: 138, dtype: int64"
   ]
  },
  {
   "cell_type": "markdown",
   "id": "8562a8e6",
   "metadata": {},
   "source": [
    "nombre_infected       908\n",
    "nombre_sain          2403\n",
    "nombre_exposed        528\n",
    "nombre_recovered    16161\n",
    "Name: 139, dtype: int64"
   ]
  },
  {
   "cell_type": "markdown",
   "id": "5dce5752",
   "metadata": {},
   "source": [
    "nombre_infected       888\n",
    "nombre_sain          2355\n",
    "nombre_exposed        546\n",
    "nombre_recovered    16211\n",
    "Name: 140, dtype: int64"
   ]
  },
  {
   "cell_type": "markdown",
   "id": "824b5993",
   "metadata": {},
   "source": [
    "nombre_infected       899\n",
    "nombre_sain          2305\n",
    "nombre_exposed        553\n",
    "nombre_recovered    16243\n",
    "Name: 141, dtype: int64"
   ]
  },
  {
   "cell_type": "markdown",
   "id": "481067bb",
   "metadata": {},
   "source": [
    "nombre_infected       923\n",
    "nombre_sain          2274\n",
    "nombre_exposed        529\n",
    "nombre_recovered    16274\n",
    "Name: 142, dtype: int64"
   ]
  },
  {
   "cell_type": "markdown",
   "id": "97c14a58",
   "metadata": {},
   "source": [
    "nombre_infected       943\n",
    "nombre_sain          2225\n",
    "nombre_exposed        535\n",
    "nombre_recovered    16297\n",
    "Name: 143, dtype: int64"
   ]
  },
  {
   "cell_type": "markdown",
   "id": "813a6c09",
   "metadata": {},
   "source": [
    "nombre_infected       939\n",
    "nombre_sain          2170\n",
    "nombre_exposed        550\n",
    "nombre_recovered    16341\n",
    "Name: 144, dtype: int64"
   ]
  },
  {
   "cell_type": "markdown",
   "id": "039e2b91",
   "metadata": {},
   "source": [
    "nombre_infected       958\n",
    "nombre_sain          2146\n",
    "nombre_exposed        527\n",
    "nombre_recovered    16369\n",
    "Name: 145, dtype: int64"
   ]
  },
  {
   "cell_type": "markdown",
   "id": "26ccca5f",
   "metadata": {},
   "source": [
    "nombre_infected       959\n",
    "nombre_sain          2114\n",
    "nombre_exposed        516\n",
    "nombre_recovered    16411\n",
    "Name: 146, dtype: int64"
   ]
  },
  {
   "cell_type": "markdown",
   "id": "be6c90f6",
   "metadata": {},
   "source": [
    "nombre_infected       964\n",
    "nombre_sain          2054\n",
    "nombre_exposed        521\n",
    "nombre_recovered    16461\n",
    "Name: 147, dtype: int64"
   ]
  },
  {
   "cell_type": "markdown",
   "id": "2bc02dba",
   "metadata": {},
   "source": [
    "nombre_infected       958\n",
    "nombre_sain          2004\n",
    "nombre_exposed        536\n",
    "nombre_recovered    16502\n",
    "Name: 148, dtype: int64"
   ]
  },
  {
   "cell_type": "markdown",
   "id": "fad5ee07",
   "metadata": {},
   "source": [
    "nombre_infected       949\n",
    "nombre_sain          1975\n",
    "nombre_exposed        521\n",
    "nombre_recovered    16555\n",
    "Name: 149, dtype: int64"
   ]
  },
  {
   "cell_type": "markdown",
   "id": "4c46808d",
   "metadata": {},
   "source": [
    "nombre_infected       929\n",
    "nombre_sain          1942\n",
    "nombre_exposed        513\n",
    "nombre_recovered    16616\n",
    "Name: 150, dtype: int64"
   ]
  },
  {
   "cell_type": "markdown",
   "id": "c279337e",
   "metadata": {},
   "source": [
    "nombre_infected       955\n",
    "nombre_sain          1891\n",
    "nombre_exposed        506\n",
    "nombre_recovered    16648\n",
    "Name: 151, dtype: int64"
   ]
  },
  {
   "cell_type": "markdown",
   "id": "73e44d1c",
   "metadata": {},
   "source": [
    "nombre_infected       941\n",
    "nombre_sain          1845\n",
    "nombre_exposed        475\n",
    "nombre_recovered    16739\n",
    "Name: 152, dtype: int64"
   ]
  },
  {
   "cell_type": "markdown",
   "id": "072611c2",
   "metadata": {},
   "source": [
    "nombre_infected       920\n",
    "nombre_sain          1814\n",
    "nombre_exposed        473\n",
    "nombre_recovered    16793\n",
    "Name: 153, dtype: int64"
   ]
  },
  {
   "cell_type": "markdown",
   "id": "c9d3cbde",
   "metadata": {},
   "source": [
    "nombre_infected       896\n",
    "nombre_sain          1781\n",
    "nombre_exposed        461\n",
    "nombre_recovered    16862\n",
    "Name: 154, dtype: int64"
   ]
  },
  {
   "cell_type": "markdown",
   "id": "936e4086",
   "metadata": {},
   "source": [
    "nombre_infected       878\n",
    "nombre_sain          1748\n",
    "nombre_exposed        462\n",
    "nombre_recovered    16912\n",
    "Name: 155, dtype: int64"
   ]
  },
  {
   "cell_type": "markdown",
   "id": "8e2c0707",
   "metadata": {},
   "source": [
    "nombre_infected       854\n",
    "nombre_sain          1729\n",
    "nombre_exposed        450\n",
    "nombre_recovered    16967\n",
    "Name: 156, dtype: int64"
   ]
  },
  {
   "cell_type": "markdown",
   "id": "0022e154",
   "metadata": {},
   "source": [
    "nombre_infected       853\n",
    "nombre_sain          1723\n",
    "nombre_exposed        437\n",
    "nombre_recovered    16987\n",
    "Name: 157, dtype: int64"
   ]
  },
  {
   "cell_type": "markdown",
   "id": "a611a617",
   "metadata": {},
   "source": [
    "nombre_infected       857\n",
    "nombre_sain          1725\n",
    "nombre_exposed        416\n",
    "nombre_recovered    17002\n",
    "Name: 158, dtype: int64"
   ]
  },
  {
   "cell_type": "markdown",
   "id": "4159ceca",
   "metadata": {},
   "source": [
    "nombre_infected       866\n",
    "nombre_sain          1700\n",
    "nombre_exposed        395\n",
    "nombre_recovered    17039\n",
    "Name: 159, dtype: int64"
   ]
  },
  {
   "cell_type": "markdown",
   "id": "9b1d01ae",
   "metadata": {},
   "source": [
    "nombre_infected       844\n",
    "nombre_sain          1691\n",
    "nombre_exposed        386\n",
    "nombre_recovered    17079\n",
    "Name: 160, dtype: int64"
   ]
  },
  {
   "cell_type": "markdown",
   "id": "7c4c303f",
   "metadata": {},
   "source": [
    "nombre_infected       816\n",
    "nombre_sain          1693\n",
    "nombre_exposed        381\n",
    "nombre_recovered    17110\n",
    "Name: 161, dtype: int64"
   ]
  },
  {
   "cell_type": "markdown",
   "id": "0459df73",
   "metadata": {},
   "source": [
    "nombre_infected       792\n",
    "nombre_sain          1682\n",
    "nombre_exposed        390\n",
    "nombre_recovered    17136\n",
    "Name: 162, dtype: int64"
   ]
  },
  {
   "cell_type": "markdown",
   "id": "51534956",
   "metadata": {},
   "source": [
    "nombre_infected       773\n",
    "nombre_sain          1660\n",
    "nombre_exposed        402\n",
    "nombre_recovered    17165\n",
    "Name: 163, dtype: int64"
   ]
  },
  {
   "cell_type": "markdown",
   "id": "6a40b12d",
   "metadata": {},
   "source": [
    "nombre_infected       752\n",
    "nombre_sain          1682\n",
    "nombre_exposed        377\n",
    "nombre_recovered    17189\n",
    "Name: 164, dtype: int64"
   ]
  },
  {
   "cell_type": "markdown",
   "id": "b381a796",
   "metadata": {},
   "source": [
    "nombre_infected       753\n",
    "nombre_sain          1699\n",
    "nombre_exposed        365\n",
    "nombre_recovered    17183\n",
    "Name: 165, dtype: int64"
   ]
  },
  {
   "cell_type": "markdown",
   "id": "a3f04d9b",
   "metadata": {},
   "source": [
    "nombre_infected       737\n",
    "nombre_sain          1691\n",
    "nombre_exposed        342\n",
    "nombre_recovered    17230\n",
    "Name: 166, dtype: int64"
   ]
  },
  {
   "cell_type": "markdown",
   "id": "95437171",
   "metadata": {},
   "source": [
    "nombre_infected       717\n",
    "nombre_sain          1700\n",
    "nombre_exposed        348\n",
    "nombre_recovered    17235\n",
    "Name: 167, dtype: int64"
   ]
  },
  {
   "cell_type": "markdown",
   "id": "0feaf08d",
   "metadata": {},
   "source": [
    "nombre_infected       681\n",
    "nombre_sain          1717\n",
    "nombre_exposed        351\n",
    "nombre_recovered    17251\n",
    "Name: 168, dtype: int64"
   ]
  },
  {
   "cell_type": "markdown",
   "id": "540b2e3c",
   "metadata": {},
   "source": [
    "nombre_infected       675\n",
    "nombre_sain          1725\n",
    "nombre_exposed        343\n",
    "nombre_recovered    17257\n",
    "Name: 169, dtype: int64"
   ]
  },
  {
   "cell_type": "markdown",
   "id": "0a24a274",
   "metadata": {},
   "source": [
    "nombre_infected       649\n",
    "nombre_sain          1738\n",
    "nombre_exposed        337\n",
    "nombre_recovered    17276\n",
    "Name: 170, dtype: int64"
   ]
  },
  {
   "cell_type": "markdown",
   "id": "7ec1260b",
   "metadata": {},
   "source": [
    "nombre_infected       650\n",
    "nombre_sain          1766\n",
    "nombre_exposed        318\n",
    "nombre_recovered    17266\n",
    "Name: 171, dtype: int64"
   ]
  },
  {
   "cell_type": "markdown",
   "id": "29dabb2f",
   "metadata": {},
   "source": [
    "nombre_infected       622\n",
    "nombre_sain          1779\n",
    "nombre_exposed        327\n",
    "nombre_recovered    17272\n",
    "Name: 172, dtype: int64"
   ]
  },
  {
   "cell_type": "markdown",
   "id": "0fe408a7",
   "metadata": {},
   "source": [
    "nombre_infected       625\n",
    "nombre_sain          1797\n",
    "nombre_exposed        324\n",
    "nombre_recovered    17254\n",
    "Name: 173, dtype: int64"
   ]
  },
  {
   "cell_type": "markdown",
   "id": "d1d1319b",
   "metadata": {},
   "source": [
    "nombre_infected       616\n",
    "nombre_sain          1809\n",
    "nombre_exposed        315\n",
    "nombre_recovered    17260\n",
    "Name: 174, dtype: int64"
   ]
  },
  {
   "cell_type": "markdown",
   "id": "770af207",
   "metadata": {},
   "source": [
    "nombre_infected       596\n",
    "nombre_sain          1848\n",
    "nombre_exposed        326\n",
    "nombre_recovered    17230\n",
    "Name: 175, dtype: int64"
   ]
  },
  {
   "cell_type": "markdown",
   "id": "48e2fe7d",
   "metadata": {},
   "source": [
    "nombre_infected       624\n",
    "nombre_sain          1848\n",
    "nombre_exposed        300\n",
    "nombre_recovered    17228\n",
    "Name: 176, dtype: int64"
   ]
  },
  {
   "cell_type": "markdown",
   "id": "2e000b1a",
   "metadata": {},
   "source": [
    "nombre_infected       616\n",
    "nombre_sain          1882\n",
    "nombre_exposed        308\n",
    "nombre_recovered    17194\n",
    "Name: 177, dtype: int64"
   ]
  },
  {
   "cell_type": "markdown",
   "id": "ac8ec282",
   "metadata": {},
   "source": [
    "nombre_infected       601\n",
    "nombre_sain          1893\n",
    "nombre_exposed        313\n",
    "nombre_recovered    17193\n",
    "Name: 178, dtype: int64"
   ]
  },
  {
   "cell_type": "markdown",
   "id": "042661e2",
   "metadata": {},
   "source": [
    "nombre_infected       593\n",
    "nombre_sain          1918\n",
    "nombre_exposed        310\n",
    "nombre_recovered    17179\n",
    "Name: 179, dtype: int64"
   ]
  },
  {
   "cell_type": "markdown",
   "id": "badba0d7",
   "metadata": {},
   "source": [
    "nombre_infected       586\n",
    "nombre_sain          1953\n",
    "nombre_exposed        310\n",
    "nombre_recovered    17151\n",
    "Name: 180, dtype: int64"
   ]
  },
  {
   "cell_type": "markdown",
   "id": "71d003b6",
   "metadata": {},
   "source": [
    "nombre_infected       579\n",
    "nombre_sain          1982\n",
    "nombre_exposed        309\n",
    "nombre_recovered    17130\n",
    "Name: 181, dtype: int64"
   ]
  },
  {
   "cell_type": "markdown",
   "id": "1e57bfab",
   "metadata": {},
   "source": [
    "nombre_infected       572\n",
    "nombre_sain          2011\n",
    "nombre_exposed        283\n",
    "nombre_recovered    17134\n",
    "Name: 182, dtype: int64"
   ]
  },
  {
   "cell_type": "markdown",
   "id": "06efab09",
   "metadata": {},
   "source": [
    "nombre_infected       586\n",
    "nombre_sain          2020\n",
    "nombre_exposed        259\n",
    "nombre_recovered    17135\n",
    "Name: 183, dtype: int64"
   ]
  },
  {
   "cell_type": "markdown",
   "id": "ba5fd893",
   "metadata": {},
   "source": [
    "nombre_infected       571\n",
    "nombre_sain          2049\n",
    "nombre_exposed        279\n",
    "nombre_recovered    17101\n",
    "Name: 184, dtype: int64"
   ]
  },
  {
   "cell_type": "markdown",
   "id": "b7515437",
   "metadata": {},
   "source": [
    "nombre_infected       554\n",
    "nombre_sain          2100\n",
    "nombre_exposed        289\n",
    "nombre_recovered    17057\n",
    "Name: 185, dtype: int64"
   ]
  },
  {
   "cell_type": "markdown",
   "id": "33ed2e08",
   "metadata": {},
   "source": [
    "nombre_infected       554\n",
    "nombre_sain          2143\n",
    "nombre_exposed        289\n",
    "nombre_recovered    17014\n",
    "Name: 186, dtype: int64"
   ]
  },
  {
   "cell_type": "markdown",
   "id": "e1ef931b",
   "metadata": {},
   "source": [
    "nombre_infected       556\n",
    "nombre_sain          2160\n",
    "nombre_exposed        298\n",
    "nombre_recovered    16986\n",
    "Name: 187, dtype: int64"
   ]
  },
  {
   "cell_type": "markdown",
   "id": "21af8471",
   "metadata": {},
   "source": [
    "nombre_infected       538\n",
    "nombre_sain          2191\n",
    "nombre_exposed        313\n",
    "nombre_recovered    16958\n",
    "Name: 188, dtype: int64"
   ]
  },
  {
   "cell_type": "markdown",
   "id": "a9282222",
   "metadata": {},
   "source": [
    "nombre_infected       531\n",
    "nombre_sain          2195\n",
    "nombre_exposed        339\n",
    "nombre_recovered    16935\n",
    "Name: 189, dtype: int64"
   ]
  },
  {
   "cell_type": "markdown",
   "id": "1f2ea480",
   "metadata": {},
   "source": [
    "nombre_infected       531\n",
    "nombre_sain          2203\n",
    "nombre_exposed        348\n",
    "nombre_recovered    16918\n",
    "Name: 190, dtype: int64"
   ]
  },
  {
   "cell_type": "markdown",
   "id": "6aefd2eb",
   "metadata": {},
   "source": [
    "nombre_infected       546\n",
    "nombre_sain          2244\n",
    "nombre_exposed        352\n",
    "nombre_recovered    16858\n",
    "Name: 191, dtype: int64"
   ]
  },
  {
   "cell_type": "markdown",
   "id": "3ab72eda",
   "metadata": {},
   "source": [
    "nombre_infected       547\n",
    "nombre_sain          2259\n",
    "nombre_exposed        352\n",
    "nombre_recovered    16842\n",
    "Name: 192, dtype: int64"
   ]
  },
  {
   "cell_type": "markdown",
   "id": "d1ca7aed",
   "metadata": {},
   "source": [
    "nombre_infected       535\n",
    "nombre_sain          2273\n",
    "nombre_exposed        351\n",
    "nombre_recovered    16841\n",
    "Name: 193, dtype: int64"
   ]
  },
  {
   "cell_type": "markdown",
   "id": "59cfa03f",
   "metadata": {},
   "source": [
    "nombre_infected       541\n",
    "nombre_sain          2283\n",
    "nombre_exposed        355\n",
    "nombre_recovered    16821\n",
    "Name: 194, dtype: int64"
   ]
  },
  {
   "cell_type": "markdown",
   "id": "8e886c6b",
   "metadata": {},
   "source": [
    "nombre_infected       544\n",
    "nombre_sain          2314\n",
    "nombre_exposed        357\n",
    "nombre_recovered    16785\n",
    "Name: 195, dtype: int64"
   ]
  },
  {
   "cell_type": "markdown",
   "id": "d53aa83e",
   "metadata": {},
   "source": [
    "nombre_infected       558\n",
    "nombre_sain          2316\n",
    "nombre_exposed        380\n",
    "nombre_recovered    16746\n",
    "Name: 196, dtype: int64"
   ]
  },
  {
   "cell_type": "markdown",
   "id": "6f56de8c",
   "metadata": {},
   "source": [
    "nombre_infected       564\n",
    "nombre_sain          2353\n",
    "nombre_exposed        382\n",
    "nombre_recovered    16701\n",
    "Name: 197, dtype: int64"
   ]
  },
  {
   "cell_type": "markdown",
   "id": "feee12cd",
   "metadata": {},
   "source": [
    "nombre_infected       593\n",
    "nombre_sain          2375\n",
    "nombre_exposed        379\n",
    "nombre_recovered    16653\n",
    "Name: 198, dtype: int64"
   ]
  },
  {
   "cell_type": "markdown",
   "id": "0aaab8f6",
   "metadata": {},
   "source": [
    "nombre_infected       587\n",
    "nombre_sain          2358\n",
    "nombre_exposed        398\n",
    "nombre_recovered    16657\n",
    "Name: 199, dtype: int64"
   ]
  },
  {
   "cell_type": "markdown",
   "id": "b51ecf91",
   "metadata": {},
   "source": [
    "nombre_infected       595\n",
    "nombre_sain          2358\n",
    "nombre_exposed        427\n",
    "nombre_recovered    16620\n",
    "Name: 200, dtype: int64"
   ]
  },
  {
   "cell_type": "markdown",
   "id": "cf035928",
   "metadata": {},
   "source": [
    "nombre_infected       630\n",
    "nombre_sain          2414\n",
    "nombre_exposed        401\n",
    "nombre_recovered    16555\n",
    "Name: 201, dtype: int64"
   ]
  },
  {
   "cell_type": "markdown",
   "id": "a7683ce5",
   "metadata": {},
   "source": [
    "nombre_infected       644\n",
    "nombre_sain          2445\n",
    "nombre_exposed        396\n",
    "nombre_recovered    16515\n",
    "Name: 202, dtype: int64"
   ]
  },
  {
   "cell_type": "markdown",
   "id": "ec71875a",
   "metadata": {},
   "source": [
    "nombre_infected       648\n",
    "nombre_sain          2438\n",
    "nombre_exposed        429\n",
    "nombre_recovered    16485\n",
    "Name: 203, dtype: int64"
   ]
  },
  {
   "cell_type": "markdown",
   "id": "72a0e877",
   "metadata": {},
   "source": [
    "nombre_infected       657\n",
    "nombre_sain          2426\n",
    "nombre_exposed        441\n",
    "nombre_recovered    16476\n",
    "Name: 204, dtype: int64"
   ]
  },
  {
   "cell_type": "markdown",
   "id": "a54452f4",
   "metadata": {},
   "source": [
    "nombre_infected       661\n",
    "nombre_sain          2453\n",
    "nombre_exposed        428\n",
    "nombre_recovered    16458\n",
    "Name: 205, dtype: int64"
   ]
  },
  {
   "cell_type": "markdown",
   "id": "41248282",
   "metadata": {},
   "source": [
    "nombre_infected       699\n",
    "nombre_sain          2455\n",
    "nombre_exposed        436\n",
    "nombre_recovered    16410\n",
    "Name: 206, dtype: int64"
   ]
  },
  {
   "cell_type": "markdown",
   "id": "3b42582c",
   "metadata": {},
   "source": [
    "nombre_infected       696\n",
    "nombre_sain          2456\n",
    "nombre_exposed        444\n",
    "nombre_recovered    16404\n",
    "Name: 207, dtype: int64"
   ]
  },
  {
   "cell_type": "markdown",
   "id": "e2afd12f",
   "metadata": {},
   "source": [
    "nombre_infected       712\n",
    "nombre_sain          2481\n",
    "nombre_exposed        440\n",
    "nombre_recovered    16367\n",
    "Name: 208, dtype: int64"
   ]
  },
  {
   "cell_type": "markdown",
   "id": "29532ebf",
   "metadata": {},
   "source": [
    "nombre_infected       719\n",
    "nombre_sain          2507\n",
    "nombre_exposed        434\n",
    "nombre_recovered    16340\n",
    "Name: 209, dtype: int64"
   ]
  },
  {
   "cell_type": "markdown",
   "id": "d765495f",
   "metadata": {},
   "source": [
    "nombre_infected       718\n",
    "nombre_sain          2508\n",
    "nombre_exposed        444\n",
    "nombre_recovered    16330\n",
    "Name: 210, dtype: int64"
   ]
  },
  {
   "cell_type": "markdown",
   "id": "6fdcb9e2",
   "metadata": {},
   "source": [
    "nombre_infected       739\n",
    "nombre_sain          2524\n",
    "nombre_exposed        453\n",
    "nombre_recovered    16284\n",
    "Name: 211, dtype: int64"
   ]
  },
  {
   "cell_type": "markdown",
   "id": "7c79d146",
   "metadata": {},
   "source": [
    "nombre_infected       767\n",
    "nombre_sain          2499\n",
    "nombre_exposed        476\n",
    "nombre_recovered    16258\n",
    "Name: 212, dtype: int64"
   ]
  },
  {
   "cell_type": "markdown",
   "id": "899d68bb",
   "metadata": {},
   "source": [
    "nombre_infected       781\n",
    "nombre_sain          2495\n",
    "nombre_exposed        500\n",
    "nombre_recovered    16224\n",
    "Name: 213, dtype: int64"
   ]
  },
  {
   "cell_type": "markdown",
   "id": "e86b42e3",
   "metadata": {},
   "source": [
    "nombre_infected       794\n",
    "nombre_sain          2503\n",
    "nombre_exposed        509\n",
    "nombre_recovered    16194\n",
    "Name: 214, dtype: int64"
   ]
  },
  {
   "cell_type": "markdown",
   "id": "125bc165",
   "metadata": {},
   "source": [
    "nombre_infected       789\n",
    "nombre_sain          2514\n",
    "nombre_exposed        534\n",
    "nombre_recovered    16163\n",
    "Name: 215, dtype: int64"
   ]
  },
  {
   "cell_type": "markdown",
   "id": "5f1c20a3",
   "metadata": {},
   "source": [
    "nombre_infected       802\n",
    "nombre_sain          2504\n",
    "nombre_exposed        544\n",
    "nombre_recovered    16150\n",
    "Name: 216, dtype: int64"
   ]
  },
  {
   "cell_type": "markdown",
   "id": "aa72cb64",
   "metadata": {},
   "source": [
    "nombre_infected       818\n",
    "nombre_sain          2535\n",
    "nombre_exposed        537\n",
    "nombre_recovered    16110\n",
    "Name: 217, dtype: int64"
   ]
  },
  {
   "cell_type": "markdown",
   "id": "47c3b3b2",
   "metadata": {},
   "source": [
    "nombre_infected       862\n",
    "nombre_sain          2523\n",
    "nombre_exposed        536\n",
    "nombre_recovered    16079\n",
    "Name: 218, dtype: int64"
   ]
  },
  {
   "cell_type": "markdown",
   "id": "cdefa6f6",
   "metadata": {},
   "source": [
    "nombre_infected       901\n",
    "nombre_sain          2519\n",
    "nombre_exposed        532\n",
    "nombre_recovered    16048\n",
    "Name: 219, dtype: int64"
   ]
  },
  {
   "cell_type": "markdown",
   "id": "0220f573",
   "metadata": {},
   "source": [
    "nombre_infected       896\n",
    "nombre_sain          2499\n",
    "nombre_exposed        565\n",
    "nombre_recovered    16040\n",
    "Name: 220, dtype: int64"
   ]
  },
  {
   "cell_type": "markdown",
   "id": "cbc8138b",
   "metadata": {},
   "source": [
    "nombre_infected       908\n",
    "nombre_sain          2485\n",
    "nombre_exposed        595\n",
    "nombre_recovered    16012\n",
    "Name: 221, dtype: int64"
   ]
  },
  {
   "cell_type": "markdown",
   "id": "d9fedeef",
   "metadata": {},
   "source": [
    "nombre_infected       918\n",
    "nombre_sain          2493\n",
    "nombre_exposed        608\n",
    "nombre_recovered    15981\n",
    "Name: 222, dtype: int64"
   ]
  },
  {
   "cell_type": "markdown",
   "id": "87669b53",
   "metadata": {},
   "source": [
    "nombre_infected       969\n",
    "nombre_sain          2459\n",
    "nombre_exposed        608\n",
    "nombre_recovered    15964\n",
    "Name: 223, dtype: int64"
   ]
  },
  {
   "cell_type": "markdown",
   "id": "b58369c2",
   "metadata": {},
   "source": [
    "nombre_infected      1007\n",
    "nombre_sain          2434\n",
    "nombre_exposed        632\n",
    "nombre_recovered    15927\n",
    "Name: 224, dtype: int64"
   ]
  },
  {
   "cell_type": "markdown",
   "id": "114a5b08",
   "metadata": {},
   "source": [
    "nombre_infected      1031\n",
    "nombre_sain          2395\n",
    "nombre_exposed        655\n",
    "nombre_recovered    15919\n",
    "Name: 225, dtype: int64"
   ]
  },
  {
   "cell_type": "markdown",
   "id": "dae22ea1",
   "metadata": {},
   "source": [
    "nombre_infected      1040\n",
    "nombre_sain          2369\n",
    "nombre_exposed        675\n",
    "nombre_recovered    15916\n",
    "Name: 226, dtype: int64"
   ]
  },
  {
   "cell_type": "markdown",
   "id": "b9babea7",
   "metadata": {},
   "source": [
    "nombre_infected      1086\n",
    "nombre_sain          2343\n",
    "nombre_exposed        655\n",
    "nombre_recovered    15916\n",
    "Name: 227, dtype: int64"
   ]
  },
  {
   "cell_type": "markdown",
   "id": "e25bbd73",
   "metadata": {},
   "source": [
    "nombre_infected      1100\n",
    "nombre_sain          2306\n",
    "nombre_exposed        656\n",
    "nombre_recovered    15938\n",
    "Name: 228, dtype: int64"
   ]
  },
  {
   "cell_type": "markdown",
   "id": "c909fda5",
   "metadata": {},
   "source": [
    "nombre_infected      1111\n",
    "nombre_sain          2236\n",
    "nombre_exposed        692\n",
    "nombre_recovered    15961\n",
    "Name: 229, dtype: int64"
   ]
  },
  {
   "cell_type": "markdown",
   "id": "7ba4c9e7",
   "metadata": {},
   "source": [
    "nombre_infected      1112\n",
    "nombre_sain          2185\n",
    "nombre_exposed        710\n",
    "nombre_recovered    15993\n",
    "Name: 230, dtype: int64"
   ]
  },
  {
   "cell_type": "markdown",
   "id": "972a57ef",
   "metadata": {},
   "source": [
    "nombre_infected      1144\n",
    "nombre_sain          2158\n",
    "nombre_exposed        693\n",
    "nombre_recovered    16005\n",
    "Name: 231, dtype: int64"
   ]
  },
  {
   "cell_type": "markdown",
   "id": "99cfbd7d",
   "metadata": {},
   "source": [
    "nombre_infected      1157\n",
    "nombre_sain          2126\n",
    "nombre_exposed        686\n",
    "nombre_recovered    16031\n",
    "Name: 232, dtype: int64"
   ]
  },
  {
   "cell_type": "markdown",
   "id": "2f7be743",
   "metadata": {},
   "source": [
    "nombre_infected      1178\n",
    "nombre_sain          2077\n",
    "nombre_exposed        678\n",
    "nombre_recovered    16067\n",
    "Name: 233, dtype: int64"
   ]
  },
  {
   "cell_type": "markdown",
   "id": "8e927a13",
   "metadata": {},
   "source": [
    "nombre_infected      1190\n",
    "nombre_sain          2008\n",
    "nombre_exposed        683\n",
    "nombre_recovered    16119\n",
    "Name: 234, dtype: int64"
   ]
  },
  {
   "cell_type": "markdown",
   "id": "3f2fffcc",
   "metadata": {},
   "source": [
    "nombre_infected      1191\n",
    "nombre_sain          1960\n",
    "nombre_exposed        685\n",
    "nombre_recovered    16164\n",
    "Name: 235, dtype: int64"
   ]
  },
  {
   "cell_type": "markdown",
   "id": "395a1591",
   "metadata": {},
   "source": [
    "nombre_infected      1209\n",
    "nombre_sain          1908\n",
    "nombre_exposed        665\n",
    "nombre_recovered    16218\n",
    "Name: 236, dtype: int64"
   ]
  },
  {
   "cell_type": "markdown",
   "id": "f4df5a21",
   "metadata": {},
   "source": [
    "nombre_infected      1205\n",
    "nombre_sain          1880\n",
    "nombre_exposed        660\n",
    "nombre_recovered    16255\n",
    "Name: 237, dtype: int64"
   ]
  },
  {
   "cell_type": "markdown",
   "id": "858d6365",
   "metadata": {},
   "source": [
    "nombre_infected      1202\n",
    "nombre_sain          1849\n",
    "nombre_exposed        638\n",
    "nombre_recovered    16311\n",
    "Name: 238, dtype: int64"
   ]
  },
  {
   "cell_type": "markdown",
   "id": "7b72a9a5",
   "metadata": {},
   "source": [
    "nombre_infected      1207\n",
    "nombre_sain          1813\n",
    "nombre_exposed        621\n",
    "nombre_recovered    16359\n",
    "Name: 239, dtype: int64"
   ]
  },
  {
   "cell_type": "markdown",
   "id": "ce8e0589",
   "metadata": {},
   "source": [
    "nombre_infected      1208\n",
    "nombre_sain          1800\n",
    "nombre_exposed        573\n",
    "nombre_recovered    16419\n",
    "Name: 240, dtype: int64"
   ]
  },
  {
   "cell_type": "markdown",
   "id": "14f0c1a5",
   "metadata": {},
   "source": [
    "nombre_infected      1179\n",
    "nombre_sain          1791\n",
    "nombre_exposed        555\n",
    "nombre_recovered    16475\n",
    "Name: 241, dtype: int64"
   ]
  },
  {
   "cell_type": "markdown",
   "id": "ca4639ac",
   "metadata": {},
   "source": [
    "nombre_infected      1144\n",
    "nombre_sain          1792\n",
    "nombre_exposed        549\n",
    "nombre_recovered    16515\n",
    "Name: 242, dtype: int64"
   ]
  },
  {
   "cell_type": "markdown",
   "id": "4f38496a",
   "metadata": {},
   "source": [
    "nombre_infected      1148\n",
    "nombre_sain          1758\n",
    "nombre_exposed        540\n",
    "nombre_recovered    16554\n",
    "Name: 243, dtype: int64"
   ]
  },
  {
   "cell_type": "markdown",
   "id": "53f3cdc0",
   "metadata": {},
   "source": [
    "nombre_infected      1145\n",
    "nombre_sain          1761\n",
    "nombre_exposed        538\n",
    "nombre_recovered    16556\n",
    "Name: 244, dtype: int64"
   ]
  },
  {
   "cell_type": "markdown",
   "id": "0be6afcf",
   "metadata": {},
   "source": [
    "nombre_infected      1173\n",
    "nombre_sain          1743\n",
    "nombre_exposed        520\n",
    "nombre_recovered    16564\n",
    "Name: 245, dtype: int64"
   ]
  },
  {
   "cell_type": "markdown",
   "id": "04504e76",
   "metadata": {},
   "source": [
    "nombre_infected      1146\n",
    "nombre_sain          1706\n",
    "nombre_exposed        530\n",
    "nombre_recovered    16618\n",
    "Name: 246, dtype: int64"
   ]
  },
  {
   "cell_type": "markdown",
   "id": "cfeb1cb9",
   "metadata": {},
   "source": [
    "nombre_infected      1125\n",
    "nombre_sain          1694\n",
    "nombre_exposed        531\n",
    "nombre_recovered    16650\n",
    "Name: 247, dtype: int64"
   ]
  },
  {
   "cell_type": "markdown",
   "id": "f09c9f3d",
   "metadata": {},
   "source": [
    "nombre_infected      1138\n",
    "nombre_sain          1698\n",
    "nombre_exposed        518\n",
    "nombre_recovered    16646\n",
    "Name: 248, dtype: int64"
   ]
  },
  {
   "cell_type": "markdown",
   "id": "bdacbd51",
   "metadata": {},
   "source": [
    "nombre_infected      1129\n",
    "nombre_sain          1712\n",
    "nombre_exposed        506\n",
    "nombre_recovered    16653\n",
    "Name: 249, dtype: int64"
   ]
  },
  {
   "cell_type": "markdown",
   "id": "bdfce778",
   "metadata": {},
   "source": [
    "nombre_infected      1123\n",
    "nombre_sain          1688\n",
    "nombre_exposed        498\n",
    "nombre_recovered    16691\n",
    "Name: 250, dtype: int64"
   ]
  },
  {
   "cell_type": "markdown",
   "id": "b63e64d3",
   "metadata": {},
   "source": [
    "nombre_infected      1097\n",
    "nombre_sain          1694\n",
    "nombre_exposed        489\n",
    "nombre_recovered    16720\n",
    "Name: 251, dtype: int64"
   ]
  },
  {
   "cell_type": "markdown",
   "id": "c22ab7d9",
   "metadata": {},
   "source": [
    "nombre_infected      1082\n",
    "nombre_sain          1709\n",
    "nombre_exposed        477\n",
    "nombre_recovered    16732\n",
    "Name: 252, dtype: int64"
   ]
  },
  {
   "cell_type": "markdown",
   "id": "7336b8b0",
   "metadata": {},
   "source": [
    "nombre_infected      1073\n",
    "nombre_sain          1741\n",
    "nombre_exposed        452\n",
    "nombre_recovered    16734\n",
    "Name: 253, dtype: int64"
   ]
  },
  {
   "cell_type": "markdown",
   "id": "25e80bc7",
   "metadata": {},
   "source": [
    "nombre_infected      1068\n",
    "nombre_sain          1741\n",
    "nombre_exposed        449\n",
    "nombre_recovered    16742\n",
    "Name: 254, dtype: int64"
   ]
  },
  {
   "cell_type": "markdown",
   "id": "5f41e181",
   "metadata": {},
   "source": [
    "nombre_infected      1050\n",
    "nombre_sain          1754\n",
    "nombre_exposed        440\n",
    "nombre_recovered    16756\n",
    "Name: 255, dtype: int64"
   ]
  },
  {
   "cell_type": "markdown",
   "id": "174adbcf",
   "metadata": {},
   "source": [
    "nombre_infected      1050\n",
    "nombre_sain          1746\n",
    "nombre_exposed        428\n",
    "nombre_recovered    16776\n",
    "Name: 256, dtype: int64"
   ]
  },
  {
   "cell_type": "markdown",
   "id": "4960fed4",
   "metadata": {},
   "source": [
    "nombre_infected      1021\n",
    "nombre_sain          1738\n",
    "nombre_exposed        461\n",
    "nombre_recovered    16780\n",
    "Name: 257, dtype: int64"
   ]
  },
  {
   "cell_type": "markdown",
   "id": "d75ecefc",
   "metadata": {},
   "source": [
    "nombre_infected       981\n",
    "nombre_sain          1751\n",
    "nombre_exposed        480\n",
    "nombre_recovered    16788\n",
    "Name: 258, dtype: int64"
   ]
  },
  {
   "cell_type": "markdown",
   "id": "3c0ca796",
   "metadata": {},
   "source": [
    "nombre_infected       956\n",
    "nombre_sain          1765\n",
    "nombre_exposed        474\n",
    "nombre_recovered    16805\n",
    "Name: 259, dtype: int64"
   ]
  },
  {
   "cell_type": "markdown",
   "id": "db646d3b",
   "metadata": {},
   "source": [
    "nombre_infected       990\n",
    "nombre_sain          1794\n",
    "nombre_exposed        432\n",
    "nombre_recovered    16784\n",
    "Name: 260, dtype: int64"
   ]
  },
  {
   "cell_type": "markdown",
   "id": "83780bf4",
   "metadata": {},
   "source": [
    "nombre_infected       979\n",
    "nombre_sain          1786\n",
    "nombre_exposed        440\n",
    "nombre_recovered    16795\n",
    "Name: 261, dtype: int64"
   ]
  },
  {
   "cell_type": "markdown",
   "id": "8a398a1f",
   "metadata": {},
   "source": [
    "nombre_infected       961\n",
    "nombre_sain          1809\n",
    "nombre_exposed        449\n",
    "nombre_recovered    16781\n",
    "Name: 262, dtype: int64"
   ]
  },
  {
   "cell_type": "markdown",
   "id": "a56e1ea5",
   "metadata": {},
   "source": [
    "nombre_infected       944\n",
    "nombre_sain          1792\n",
    "nombre_exposed        452\n",
    "nombre_recovered    16812\n",
    "Name: 263, dtype: int64"
   ]
  },
  {
   "cell_type": "markdown",
   "id": "7d98c26f",
   "metadata": {},
   "source": [
    "nombre_infected       939\n",
    "nombre_sain          1818\n",
    "nombre_exposed        445\n",
    "nombre_recovered    16798\n",
    "Name: 264, dtype: int64"
   ]
  },
  {
   "cell_type": "markdown",
   "id": "79efc121",
   "metadata": {},
   "source": [
    "nombre_infected       943\n",
    "nombre_sain          1799\n",
    "nombre_exposed        453\n",
    "nombre_recovered    16805\n",
    "Name: 265, dtype: int64"
   ]
  },
  {
   "cell_type": "markdown",
   "id": "a02f613d",
   "metadata": {},
   "source": [
    "nombre_infected       937\n",
    "nombre_sain          1806\n",
    "nombre_exposed        443\n",
    "nombre_recovered    16814\n",
    "Name: 266, dtype: int64"
   ]
  },
  {
   "cell_type": "markdown",
   "id": "7abac023",
   "metadata": {},
   "source": [
    "nombre_infected       916\n",
    "nombre_sain          1801\n",
    "nombre_exposed        459\n",
    "nombre_recovered    16824\n",
    "Name: 267, dtype: int64"
   ]
  },
  {
   "cell_type": "markdown",
   "id": "14e1f6c2",
   "metadata": {},
   "source": [
    "nombre_infected       892\n",
    "nombre_sain          1808\n",
    "nombre_exposed        454\n",
    "nombre_recovered    16846\n",
    "Name: 268, dtype: int64"
   ]
  },
  {
   "cell_type": "markdown",
   "id": "de6e20a9",
   "metadata": {},
   "source": [
    "nombre_infected       885\n",
    "nombre_sain          1816\n",
    "nombre_exposed        440\n",
    "nombre_recovered    16859\n",
    "Name: 269, dtype: int64"
   ]
  },
  {
   "cell_type": "markdown",
   "id": "5cd8060d",
   "metadata": {},
   "source": [
    "nombre_infected       881\n",
    "nombre_sain          1801\n",
    "nombre_exposed        432\n",
    "nombre_recovered    16886\n",
    "Name: 270, dtype: int64"
   ]
  },
  {
   "cell_type": "markdown",
   "id": "18dfadcf",
   "metadata": {},
   "source": [
    "nombre_infected       879\n",
    "nombre_sain          1786\n",
    "nombre_exposed        424\n",
    "nombre_recovered    16911\n",
    "Name: 271, dtype: int64"
   ]
  },
  {
   "cell_type": "markdown",
   "id": "eb321541",
   "metadata": {},
   "source": [
    "nombre_infected       907\n",
    "nombre_sain          1799\n",
    "nombre_exposed        400\n",
    "nombre_recovered    16894\n",
    "Name: 272, dtype: int64"
   ]
  },
  {
   "cell_type": "markdown",
   "id": "5dfa78e4",
   "metadata": {},
   "source": [
    "nombre_infected       891\n",
    "nombre_sain          1823\n",
    "nombre_exposed        413\n",
    "nombre_recovered    16873\n",
    "Name: 273, dtype: int64"
   ]
  },
  {
   "cell_type": "markdown",
   "id": "4aa31f3e",
   "metadata": {},
   "source": [
    "nombre_infected       874\n",
    "nombre_sain          1845\n",
    "nombre_exposed        399\n",
    "nombre_recovered    16882\n",
    "Name: 274, dtype: int64"
   ]
  },
  {
   "cell_type": "markdown",
   "id": "e4b42b69",
   "metadata": {},
   "source": [
    "nombre_infected       856\n",
    "nombre_sain          1885\n",
    "nombre_exposed        393\n",
    "nombre_recovered    16866\n",
    "Name: 275, dtype: int64"
   ]
  },
  {
   "cell_type": "markdown",
   "id": "6730a235",
   "metadata": {},
   "source": [
    "nombre_infected       840\n",
    "nombre_sain          1890\n",
    "nombre_exposed        392\n",
    "nombre_recovered    16878\n",
    "Name: 276, dtype: int64"
   ]
  },
  {
   "cell_type": "markdown",
   "id": "aeaa5890",
   "metadata": {},
   "source": [
    "nombre_infected       809\n",
    "nombre_sain          1895\n",
    "nombre_exposed        412\n",
    "nombre_recovered    16884\n",
    "Name: 277, dtype: int64"
   ]
  },
  {
   "cell_type": "markdown",
   "id": "ffd972c3",
   "metadata": {},
   "source": [
    "nombre_infected       796\n",
    "nombre_sain          1898\n",
    "nombre_exposed        417\n",
    "nombre_recovered    16889\n",
    "Name: 278, dtype: int64"
   ]
  },
  {
   "cell_type": "markdown",
   "id": "c85c9489",
   "metadata": {},
   "source": [
    "nombre_infected       777\n",
    "nombre_sain          1917\n",
    "nombre_exposed        417\n",
    "nombre_recovered    16889\n",
    "Name: 279, dtype: int64"
   ]
  },
  {
   "cell_type": "markdown",
   "id": "fa22288d",
   "metadata": {},
   "source": [
    "nombre_infected       772\n",
    "nombre_sain          1939\n",
    "nombre_exposed        405\n",
    "nombre_recovered    16884\n",
    "Name: 280, dtype: int64"
   ]
  },
  {
   "cell_type": "markdown",
   "id": "02d90ad6",
   "metadata": {},
   "source": [
    "nombre_infected       758\n",
    "nombre_sain          1939\n",
    "nombre_exposed        431\n",
    "nombre_recovered    16872\n",
    "Name: 281, dtype: int64"
   ]
  },
  {
   "cell_type": "markdown",
   "id": "98e8b73c",
   "metadata": {},
   "source": [
    "nombre_infected       757\n",
    "nombre_sain          1964\n",
    "nombre_exposed        409\n",
    "nombre_recovered    16870\n",
    "Name: 282, dtype: int64"
   ]
  },
  {
   "cell_type": "markdown",
   "id": "2769a2cf",
   "metadata": {},
   "source": [
    "nombre_infected       757\n",
    "nombre_sain          1953\n",
    "nombre_exposed        409\n",
    "nombre_recovered    16881\n",
    "Name: 283, dtype: int64"
   ]
  },
  {
   "cell_type": "markdown",
   "id": "05500602",
   "metadata": {},
   "source": [
    "nombre_infected       752\n",
    "nombre_sain          1964\n",
    "nombre_exposed        404\n",
    "nombre_recovered    16880\n",
    "Name: 284, dtype: int64"
   ]
  },
  {
   "cell_type": "markdown",
   "id": "4006f384",
   "metadata": {},
   "source": [
    "nombre_infected       753\n",
    "nombre_sain          1955\n",
    "nombre_exposed        405\n",
    "nombre_recovered    16887\n",
    "Name: 285, dtype: int64"
   ]
  },
  {
   "cell_type": "markdown",
   "id": "d12a3b95",
   "metadata": {},
   "source": [
    "nombre_infected       754\n",
    "nombre_sain          1971\n",
    "nombre_exposed        401\n",
    "nombre_recovered    16874\n",
    "Name: 286, dtype: int64"
   ]
  },
  {
   "cell_type": "markdown",
   "id": "2cf47bf2",
   "metadata": {},
   "source": [
    "nombre_infected       768\n",
    "nombre_sain          1978\n",
    "nombre_exposed        407\n",
    "nombre_recovered    16847\n",
    "Name: 287, dtype: int64"
   ]
  },
  {
   "cell_type": "markdown",
   "id": "98c8c808",
   "metadata": {},
   "source": [
    "nombre_infected       761\n",
    "nombre_sain          1961\n",
    "nombre_exposed        434\n",
    "nombre_recovered    16844\n",
    "Name: 288, dtype: int64"
   ]
  },
  {
   "cell_type": "markdown",
   "id": "cc563219",
   "metadata": {},
   "source": [
    "nombre_infected       750\n",
    "nombre_sain          2000\n",
    "nombre_exposed        414\n",
    "nombre_recovered    16836\n",
    "Name: 289, dtype: int64"
   ]
  },
  {
   "cell_type": "markdown",
   "id": "1e532e0a",
   "metadata": {},
   "source": [
    "nombre_infected       758\n",
    "nombre_sain          2011\n",
    "nombre_exposed        417\n",
    "nombre_recovered    16814\n",
    "Name: 290, dtype: int64"
   ]
  },
  {
   "cell_type": "markdown",
   "id": "534301d4",
   "metadata": {},
   "source": [
    "nombre_infected       754\n",
    "nombre_sain          2038\n",
    "nombre_exposed        408\n",
    "nombre_recovered    16800\n",
    "Name: 291, dtype: int64"
   ]
  },
  {
   "cell_type": "markdown",
   "id": "7c94974c",
   "metadata": {},
   "source": [
    "nombre_infected       736\n",
    "nombre_sain          2039\n",
    "nombre_exposed        415\n",
    "nombre_recovered    16810\n",
    "Name: 292, dtype: int64"
   ]
  },
  {
   "cell_type": "markdown",
   "id": "91c51e5c",
   "metadata": {},
   "source": [
    "nombre_infected       735\n",
    "nombre_sain          2045\n",
    "nombre_exposed        411\n",
    "nombre_recovered    16809\n",
    "Name: 293, dtype: int64"
   ]
  },
  {
   "cell_type": "markdown",
   "id": "a3907019",
   "metadata": {},
   "source": [
    "nombre_infected       727\n",
    "nombre_sain          2067\n",
    "nombre_exposed        415\n",
    "nombre_recovered    16791\n",
    "Name: 294, dtype: int64"
   ]
  },
  {
   "cell_type": "markdown",
   "id": "87993f7d",
   "metadata": {},
   "source": [
    "nombre_infected       706\n",
    "nombre_sain          2090\n",
    "nombre_exposed        428\n",
    "nombre_recovered    16776\n",
    "Name: 295, dtype: int64"
   ]
  },
  {
   "cell_type": "markdown",
   "id": "23358160",
   "metadata": {},
   "source": [
    "nombre_infected       705\n",
    "nombre_sain          2122\n",
    "nombre_exposed        396\n",
    "nombre_recovered    16777\n",
    "Name: 296, dtype: int64"
   ]
  },
  {
   "cell_type": "markdown",
   "id": "de12a288",
   "metadata": {},
   "source": [
    "nombre_infected       719\n",
    "nombre_sain          2140\n",
    "nombre_exposed        386\n",
    "nombre_recovered    16755\n",
    "Name: 297, dtype: int64"
   ]
  },
  {
   "cell_type": "markdown",
   "id": "2f63a54b",
   "metadata": {},
   "source": [
    "nombre_infected       705\n",
    "nombre_sain          2183\n",
    "nombre_exposed        379\n",
    "nombre_recovered    16733\n",
    "Name: 298, dtype: int64"
   ]
  },
  {
   "cell_type": "markdown",
   "id": "a1367c0e",
   "metadata": {},
   "source": [
    "nombre_infected       724\n",
    "nombre_sain          2218\n",
    "nombre_exposed        376\n",
    "nombre_recovered    16682\n",
    "Name: 299, dtype: int64"
   ]
  },
  {
   "cell_type": "markdown",
   "id": "04940058",
   "metadata": {},
   "source": [
    "nombre_infected       708\n",
    "nombre_sain          2243\n",
    "nombre_exposed        375\n",
    "nombre_recovered    16674\n",
    "Name: 300, dtype: int64"
   ]
  },
  {
   "cell_type": "markdown",
   "id": "0893f49c",
   "metadata": {},
   "source": [
    "nombre_infected       690\n",
    "nombre_sain          2276\n",
    "nombre_exposed        385\n",
    "nombre_recovered    16649\n",
    "Name: 301, dtype: int64"
   ]
  },
  {
   "cell_type": "markdown",
   "id": "791679d2",
   "metadata": {},
   "source": [
    "nombre_infected       696\n",
    "nombre_sain          2298\n",
    "nombre_exposed        391\n",
    "nombre_recovered    16615\n",
    "Name: 302, dtype: int64"
   ]
  },
  {
   "cell_type": "markdown",
   "id": "d308388b",
   "metadata": {},
   "source": [
    "nombre_infected       673\n",
    "nombre_sain          2314\n",
    "nombre_exposed        408\n",
    "nombre_recovered    16605\n",
    "Name: 303, dtype: int64"
   ]
  },
  {
   "cell_type": "markdown",
   "id": "3c45ef3c",
   "metadata": {},
   "source": [
    "nombre_infected       675\n",
    "nombre_sain          2326\n",
    "nombre_exposed        426\n",
    "nombre_recovered    16573\n",
    "Name: 304, dtype: int64"
   ]
  },
  {
   "cell_type": "markdown",
   "id": "428f34b7",
   "metadata": {},
   "source": [
    "nombre_infected       676\n",
    "nombre_sain          2362\n",
    "nombre_exposed        431\n",
    "nombre_recovered    16531\n",
    "Name: 305, dtype: int64"
   ]
  },
  {
   "cell_type": "markdown",
   "id": "3f704669",
   "metadata": {},
   "source": [
    "nombre_infected       694\n",
    "nombre_sain          2395\n",
    "nombre_exposed        424\n",
    "nombre_recovered    16487\n",
    "Name: 306, dtype: int64"
   ]
  },
  {
   "cell_type": "markdown",
   "id": "416621be",
   "metadata": {},
   "source": [
    "nombre_infected       678\n",
    "nombre_sain          2398\n",
    "nombre_exposed        455\n",
    "nombre_recovered    16469\n",
    "Name: 307, dtype: int64"
   ]
  },
  {
   "cell_type": "markdown",
   "id": "df74c6a4",
   "metadata": {},
   "source": [
    "nombre_infected       684\n",
    "nombre_sain          2425\n",
    "nombre_exposed        457\n",
    "nombre_recovered    16434\n",
    "Name: 308, dtype: int64"
   ]
  },
  {
   "cell_type": "markdown",
   "id": "e018a2c2",
   "metadata": {},
   "source": [
    "nombre_infected       698\n",
    "nombre_sain          2450\n",
    "nombre_exposed        455\n",
    "nombre_recovered    16397\n",
    "Name: 309, dtype: int64"
   ]
  },
  {
   "cell_type": "markdown",
   "id": "1ebc0d96",
   "metadata": {},
   "source": [
    "nombre_infected       708\n",
    "nombre_sain          2467\n",
    "nombre_exposed        453\n",
    "nombre_recovered    16372\n",
    "Name: 310, dtype: int64"
   ]
  },
  {
   "cell_type": "markdown",
   "id": "01439233",
   "metadata": {},
   "source": [
    "nombre_infected       711\n",
    "nombre_sain          2468\n",
    "nombre_exposed        479\n",
    "nombre_recovered    16342\n",
    "Name: 311, dtype: int64"
   ]
  },
  {
   "cell_type": "markdown",
   "id": "11796b75",
   "metadata": {},
   "source": [
    "nombre_infected       722\n",
    "nombre_sain          2484\n",
    "nombre_exposed        505\n",
    "nombre_recovered    16289\n",
    "Name: 312, dtype: int64"
   ]
  },
  {
   "cell_type": "markdown",
   "id": "070443a1",
   "metadata": {},
   "source": [
    "nombre_infected       733\n",
    "nombre_sain          2494\n",
    "nombre_exposed        512\n",
    "nombre_recovered    16261\n",
    "Name: 313, dtype: int64"
   ]
  },
  {
   "cell_type": "markdown",
   "id": "24725c1b",
   "metadata": {},
   "source": [
    "nombre_infected       757\n",
    "nombre_sain          2517\n",
    "nombre_exposed        504\n",
    "nombre_recovered    16222\n",
    "Name: 314, dtype: int64"
   ]
  },
  {
   "cell_type": "markdown",
   "id": "f1ec277d",
   "metadata": {},
   "source": [
    "nombre_infected       793\n",
    "nombre_sain          2519\n",
    "nombre_exposed        507\n",
    "nombre_recovered    16181\n",
    "Name: 315, dtype: int64"
   ]
  },
  {
   "cell_type": "markdown",
   "id": "d936524f",
   "metadata": {},
   "source": [
    "nombre_infected       819\n",
    "nombre_sain          2523\n",
    "nombre_exposed        488\n",
    "nombre_recovered    16170\n",
    "Name: 316, dtype: int64"
   ]
  },
  {
   "cell_type": "markdown",
   "id": "d6dbccab",
   "metadata": {},
   "source": [
    "nombre_infected       838\n",
    "nombre_sain          2509\n",
    "nombre_exposed        495\n",
    "nombre_recovered    16158\n",
    "Name: 317, dtype: int64"
   ]
  },
  {
   "cell_type": "markdown",
   "id": "7bc0a910",
   "metadata": {},
   "source": [
    "nombre_infected       875\n",
    "nombre_sain          2503\n",
    "nombre_exposed        482\n",
    "nombre_recovered    16140\n",
    "Name: 318, dtype: int64"
   ]
  },
  {
   "cell_type": "markdown",
   "id": "673fa5c3",
   "metadata": {},
   "source": [
    "nombre_infected       875\n",
    "nombre_sain          2494\n",
    "nombre_exposed        497\n",
    "nombre_recovered    16134\n",
    "Name: 319, dtype: int64"
   ]
  },
  {
   "cell_type": "markdown",
   "id": "627d2fe3",
   "metadata": {},
   "source": [
    "nombre_infected       858\n",
    "nombre_sain          2493\n",
    "nombre_exposed        498\n",
    "nombre_recovered    16151\n",
    "Name: 320, dtype: int64"
   ]
  },
  {
   "cell_type": "markdown",
   "id": "501fca68",
   "metadata": {},
   "source": [
    "nombre_infected       864\n",
    "nombre_sain          2481\n",
    "nombre_exposed        523\n",
    "nombre_recovered    16132\n",
    "Name: 321, dtype: int64"
   ]
  },
  {
   "cell_type": "markdown",
   "id": "eff7e9b0",
   "metadata": {},
   "source": [
    "nombre_infected       854\n",
    "nombre_sain          2481\n",
    "nombre_exposed        556\n",
    "nombre_recovered    16109\n",
    "Name: 322, dtype: int64"
   ]
  },
  {
   "cell_type": "markdown",
   "id": "5ed3e78c",
   "metadata": {},
   "source": [
    "nombre_infected       876\n",
    "nombre_sain          2470\n",
    "nombre_exposed        547\n",
    "nombre_recovered    16107\n",
    "Name: 323, dtype: int64"
   ]
  },
  {
   "cell_type": "markdown",
   "id": "f774aab0",
   "metadata": {},
   "source": [
    "nombre_infected       909\n",
    "nombre_sain          2438\n",
    "nombre_exposed        569\n",
    "nombre_recovered    16084\n",
    "Name: 324, dtype: int64"
   ]
  },
  {
   "cell_type": "markdown",
   "id": "e02335c9",
   "metadata": {},
   "source": [
    "nombre_infected       921\n",
    "nombre_sain          2422\n",
    "nombre_exposed        570\n",
    "nombre_recovered    16087\n",
    "Name: 325, dtype: int64"
   ]
  },
  {
   "cell_type": "markdown",
   "id": "e73fd789",
   "metadata": {},
   "source": [
    "nombre_infected       962\n",
    "nombre_sain          2374\n",
    "nombre_exposed        588\n",
    "nombre_recovered    16076\n",
    "Name: 326, dtype: int64"
   ]
  },
  {
   "cell_type": "markdown",
   "id": "22761f8a",
   "metadata": {},
   "source": [
    "nombre_infected       986\n",
    "nombre_sain          2364\n",
    "nombre_exposed        567\n",
    "nombre_recovered    16083\n",
    "Name: 327, dtype: int64"
   ]
  },
  {
   "cell_type": "markdown",
   "id": "8e7f1bf1",
   "metadata": {},
   "source": [
    "nombre_infected      1012\n",
    "nombre_sain          2348\n",
    "nombre_exposed        564\n",
    "nombre_recovered    16076\n",
    "Name: 328, dtype: int64"
   ]
  },
  {
   "cell_type": "markdown",
   "id": "d5e30a6b",
   "metadata": {},
   "source": [
    "nombre_infected      1048\n",
    "nombre_sain          2314\n",
    "nombre_exposed        572\n",
    "nombre_recovered    16066\n",
    "Name: 329, dtype: int64"
   ]
  },
  {
   "cell_type": "markdown",
   "id": "f783ef56",
   "metadata": {},
   "source": [
    "nombre_infected      1043\n",
    "nombre_sain          2272\n",
    "nombre_exposed        605\n",
    "nombre_recovered    16080\n",
    "Name: 330, dtype: int64"
   ]
  },
  {
   "cell_type": "markdown",
   "id": "34a6bb37",
   "metadata": {},
   "source": [
    "nombre_infected      1049\n",
    "nombre_sain          2231\n",
    "nombre_exposed        615\n",
    "nombre_recovered    16105\n",
    "Name: 331, dtype: int64"
   ]
  },
  {
   "cell_type": "markdown",
   "id": "b487829a",
   "metadata": {},
   "source": [
    "nombre_infected      1049\n",
    "nombre_sain          2202\n",
    "nombre_exposed        611\n",
    "nombre_recovered    16138\n",
    "Name: 332, dtype: int64"
   ]
  },
  {
   "cell_type": "markdown",
   "id": "75d96acc",
   "metadata": {},
   "source": [
    "nombre_infected      1042\n",
    "nombre_sain          2165\n",
    "nombre_exposed        635\n",
    "nombre_recovered    16158\n",
    "Name: 333, dtype: int64"
   ]
  },
  {
   "cell_type": "markdown",
   "id": "5197d464",
   "metadata": {},
   "source": [
    "nombre_infected      1073\n",
    "nombre_sain          2152\n",
    "nombre_exposed        599\n",
    "nombre_recovered    16176\n",
    "Name: 334, dtype: int64"
   ]
  },
  {
   "cell_type": "markdown",
   "id": "34bb2bdb",
   "metadata": {},
   "source": [
    "nombre_infected      1098\n",
    "nombre_sain          2133\n",
    "nombre_exposed        586\n",
    "nombre_recovered    16183\n",
    "Name: 335, dtype: int64"
   ]
  },
  {
   "cell_type": "markdown",
   "id": "ffb3b451",
   "metadata": {},
   "source": [
    "nombre_infected      1077\n",
    "nombre_sain          2131\n",
    "nombre_exposed        576\n",
    "nombre_recovered    16216\n",
    "Name: 336, dtype: int64"
   ]
  },
  {
   "cell_type": "markdown",
   "id": "0622ad26",
   "metadata": {},
   "source": [
    "nombre_infected      1071\n",
    "nombre_sain          2116\n",
    "nombre_exposed        582\n",
    "nombre_recovered    16231\n",
    "Name: 337, dtype: int64"
   ]
  },
  {
   "cell_type": "markdown",
   "id": "b0ceb259",
   "metadata": {},
   "source": [
    "nombre_infected      1075\n",
    "nombre_sain          2091\n",
    "nombre_exposed        593\n",
    "nombre_recovered    16241\n",
    "Name: 338, dtype: int64"
   ]
  },
  {
   "cell_type": "markdown",
   "id": "906c9d18",
   "metadata": {},
   "source": [
    "nombre_infected      1055\n",
    "nombre_sain          2075\n",
    "nombre_exposed        607\n",
    "nombre_recovered    16263\n",
    "Name: 339, dtype: int64"
   ]
  },
  {
   "cell_type": "markdown",
   "id": "077bd2b4",
   "metadata": {},
   "source": [
    "nombre_infected      1075\n",
    "nombre_sain          2045\n",
    "nombre_exposed        588\n",
    "nombre_recovered    16292\n",
    "Name: 340, dtype: int64"
   ]
  },
  {
   "cell_type": "markdown",
   "id": "99894375",
   "metadata": {},
   "source": [
    "nombre_infected      1076\n",
    "nombre_sain          2044\n",
    "nombre_exposed        573\n",
    "nombre_recovered    16307\n",
    "Name: 341, dtype: int64"
   ]
  },
  {
   "cell_type": "markdown",
   "id": "df0e1b7d",
   "metadata": {},
   "source": [
    "nombre_infected      1095\n",
    "nombre_sain          2042\n",
    "nombre_exposed        532\n",
    "nombre_recovered    16331\n",
    "Name: 342, dtype: int64"
   ]
  },
  {
   "cell_type": "markdown",
   "id": "22a4c7c5",
   "metadata": {},
   "source": [
    "nombre_infected      1061\n",
    "nombre_sain          2047\n",
    "nombre_exposed        539\n",
    "nombre_recovered    16353\n",
    "Name: 343, dtype: int64"
   ]
  },
  {
   "cell_type": "markdown",
   "id": "0c01f053",
   "metadata": {},
   "source": [
    "nombre_infected      1049\n",
    "nombre_sain          2041\n",
    "nombre_exposed        553\n",
    "nombre_recovered    16357\n",
    "Name: 344, dtype: int64"
   ]
  },
  {
   "cell_type": "markdown",
   "id": "58d4c65a",
   "metadata": {},
   "source": [
    "nombre_infected      1026\n",
    "nombre_sain          1995\n",
    "nombre_exposed        579\n",
    "nombre_recovered    16400\n",
    "Name: 345, dtype: int64"
   ]
  },
  {
   "cell_type": "markdown",
   "id": "ea913069",
   "metadata": {},
   "source": [
    "nombre_infected      1026\n",
    "nombre_sain          1984\n",
    "nombre_exposed        561\n",
    "nombre_recovered    16429\n",
    "Name: 346, dtype: int64"
   ]
  },
  {
   "cell_type": "markdown",
   "id": "f0000320",
   "metadata": {},
   "source": [
    "nombre_infected      1020\n",
    "nombre_sain          1950\n",
    "nombre_exposed        566\n",
    "nombre_recovered    16464\n",
    "Name: 347, dtype: int64"
   ]
  },
  {
   "cell_type": "markdown",
   "id": "71765e13",
   "metadata": {},
   "source": [
    "nombre_infected      1034\n",
    "nombre_sain          1973\n",
    "nombre_exposed        528\n",
    "nombre_recovered    16465\n",
    "Name: 348, dtype: int64"
   ]
  },
  {
   "cell_type": "markdown",
   "id": "820f0a6c",
   "metadata": {},
   "source": [
    "nombre_infected      1031\n",
    "nombre_sain          1963\n",
    "nombre_exposed        530\n",
    "nombre_recovered    16476\n",
    "Name: 349, dtype: int64"
   ]
  },
  {
   "cell_type": "markdown",
   "id": "28433f05",
   "metadata": {},
   "source": [
    "nombre_infected      1054\n",
    "nombre_sain          1946\n",
    "nombre_exposed        512\n",
    "nombre_recovered    16488\n",
    "Name: 350, dtype: int64"
   ]
  },
  {
   "cell_type": "markdown",
   "id": "805ddc34",
   "metadata": {},
   "source": [
    "nombre_infected      1039\n",
    "nombre_sain          1923\n",
    "nombre_exposed        526\n",
    "nombre_recovered    16512\n",
    "Name: 351, dtype: int64"
   ]
  },
  {
   "cell_type": "markdown",
   "id": "813348be",
   "metadata": {},
   "source": [
    "nombre_infected      1012\n",
    "nombre_sain          1940\n",
    "nombre_exposed        515\n",
    "nombre_recovered    16533\n",
    "Name: 352, dtype: int64"
   ]
  },
  {
   "cell_type": "markdown",
   "id": "855266c6",
   "metadata": {},
   "source": [
    "nombre_infected       999\n",
    "nombre_sain          1921\n",
    "nombre_exposed        519\n",
    "nombre_recovered    16561\n",
    "Name: 353, dtype: int64"
   ]
  },
  {
   "cell_type": "markdown",
   "id": "4b87d53c",
   "metadata": {},
   "source": [
    "nombre_infected       994\n",
    "nombre_sain          1903\n",
    "nombre_exposed        514\n",
    "nombre_recovered    16589\n",
    "Name: 354, dtype: int64"
   ]
  },
  {
   "cell_type": "markdown",
   "id": "759c6e15",
   "metadata": {},
   "source": [
    "nombre_infected       980\n",
    "nombre_sain          1927\n",
    "nombre_exposed        505\n",
    "nombre_recovered    16588\n",
    "Name: 355, dtype: int64"
   ]
  },
  {
   "cell_type": "markdown",
   "id": "20359a05",
   "metadata": {},
   "source": [
    "nombre_infected       960\n",
    "nombre_sain          1933\n",
    "nombre_exposed        514\n",
    "nombre_recovered    16593\n",
    "Name: 356, dtype: int64"
   ]
  },
  {
   "cell_type": "markdown",
   "id": "920e2e0d",
   "metadata": {},
   "source": [
    "nombre_infected       953\n",
    "nombre_sain          1921\n",
    "nombre_exposed        504\n",
    "nombre_recovered    16622\n",
    "Name: 357, dtype: int64"
   ]
  },
  {
   "cell_type": "markdown",
   "id": "adeef2ee",
   "metadata": {},
   "source": [
    "nombre_infected       936\n",
    "nombre_sain          1928\n",
    "nombre_exposed        496\n",
    "nombre_recovered    16640\n",
    "Name: 358, dtype: int64"
   ]
  },
  {
   "cell_type": "markdown",
   "id": "4a8fff1a",
   "metadata": {},
   "source": [
    "nombre_infected       918\n",
    "nombre_sain          1940\n",
    "nombre_exposed        481\n",
    "nombre_recovered    16661\n",
    "Name: 359, dtype: int64"
   ]
  },
  {
   "cell_type": "markdown",
   "id": "719292d5",
   "metadata": {},
   "source": [
    "nombre_infected       932\n",
    "nombre_sain          1952\n",
    "nombre_exposed        450\n",
    "nombre_recovered    16666\n",
    "Name: 360, dtype: int64"
   ]
  },
  {
   "cell_type": "markdown",
   "id": "c6539e68",
   "metadata": {},
   "source": [
    "nombre_infected       914\n",
    "nombre_sain          1951\n",
    "nombre_exposed        452\n",
    "nombre_recovered    16683\n",
    "Name: 361, dtype: int64"
   ]
  },
  {
   "cell_type": "markdown",
   "id": "8239d0eb",
   "metadata": {},
   "source": [
    "nombre_infected       910\n",
    "nombre_sain          1982\n",
    "nombre_exposed        434\n",
    "nombre_recovered    16674\n",
    "Name: 362, dtype: int64"
   ]
  },
  {
   "cell_type": "markdown",
   "id": "e807d7f7",
   "metadata": {},
   "source": [
    "nombre_infected       928\n",
    "nombre_sain          1986\n",
    "nombre_exposed        420\n",
    "nombre_recovered    16666\n",
    "Name: 363, dtype: int64"
   ]
  },
  {
   "cell_type": "markdown",
   "id": "54bb3cbd",
   "metadata": {},
   "source": [
    "nombre_infected       921\n",
    "nombre_sain          2000\n",
    "nombre_exposed        421\n",
    "nombre_recovered    16658\n",
    "Name: 364, dtype: int64"
   ]
  },
  {
   "cell_type": "markdown",
   "id": "950f7349",
   "metadata": {},
   "source": [
    "nombre_infected       904\n",
    "nombre_sain          1978\n",
    "nombre_exposed        436\n",
    "nombre_recovered    16682\n",
    "Name: 365, dtype: int64"
   ]
  },
  {
   "cell_type": "markdown",
   "id": "a01d3175",
   "metadata": {},
   "source": [
    "nombre_infected       882\n",
    "nombre_sain          2010\n",
    "nombre_exposed        437\n",
    "nombre_recovered    16671\n",
    "Name: 366, dtype: int64"
   ]
  },
  {
   "cell_type": "markdown",
   "id": "cc37f600",
   "metadata": {},
   "source": [
    "nombre_infected       901\n",
    "nombre_sain          1982\n",
    "nombre_exposed        445\n",
    "nombre_recovered    16672\n",
    "Name: 367, dtype: int64"
   ]
  },
  {
   "cell_type": "markdown",
   "id": "a5f8a0bb",
   "metadata": {},
   "source": [
    "nombre_infected       881\n",
    "nombre_sain          2006\n",
    "nombre_exposed        456\n",
    "nombre_recovered    16657\n",
    "Name: 368, dtype: int64"
   ]
  },
  {
   "cell_type": "markdown",
   "id": "1507396d",
   "metadata": {},
   "source": [
    "nombre_infected       878\n",
    "nombre_sain          1992\n",
    "nombre_exposed        451\n",
    "nombre_recovered    16679\n",
    "Name: 369, dtype: int64"
   ]
  },
  {
   "cell_type": "markdown",
   "id": "bb92ee81",
   "metadata": {},
   "source": [
    "nombre_infected       888\n",
    "nombre_sain          1997\n",
    "nombre_exposed        432\n",
    "nombre_recovered    16683\n",
    "Name: 370, dtype: int64"
   ]
  },
  {
   "cell_type": "markdown",
   "id": "8ce9c72e",
   "metadata": {},
   "source": [
    "nombre_infected       905\n",
    "nombre_sain          2000\n",
    "nombre_exposed        440\n",
    "nombre_recovered    16655\n",
    "Name: 371, dtype: int64"
   ]
  },
  {
   "cell_type": "markdown",
   "id": "4001bd52",
   "metadata": {},
   "source": [
    "nombre_infected       891\n",
    "nombre_sain          2018\n",
    "nombre_exposed        436\n",
    "nombre_recovered    16655\n",
    "Name: 372, dtype: int64"
   ]
  },
  {
   "cell_type": "markdown",
   "id": "8bc4f543",
   "metadata": {},
   "source": [
    "nombre_infected       891\n",
    "nombre_sain          2023\n",
    "nombre_exposed        426\n",
    "nombre_recovered    16660\n",
    "Name: 373, dtype: int64"
   ]
  },
  {
   "cell_type": "markdown",
   "id": "ae018cd7",
   "metadata": {},
   "source": [
    "nombre_infected       870\n",
    "nombre_sain          2037\n",
    "nombre_exposed        438\n",
    "nombre_recovered    16655\n",
    "Name: 374, dtype: int64"
   ]
  },
  {
   "cell_type": "markdown",
   "id": "40b2e831",
   "metadata": {},
   "source": [
    "nombre_infected       853\n",
    "nombre_sain          2060\n",
    "nombre_exposed        447\n",
    "nombre_recovered    16640\n",
    "Name: 375, dtype: int64"
   ]
  },
  {
   "cell_type": "markdown",
   "id": "f1e93687",
   "metadata": {},
   "source": [
    "nombre_infected       843\n",
    "nombre_sain          2071\n",
    "nombre_exposed        443\n",
    "nombre_recovered    16643\n",
    "Name: 376, dtype: int64"
   ]
  },
  {
   "cell_type": "markdown",
   "id": "fb16bd93",
   "metadata": {},
   "source": [
    "nombre_infected       841\n",
    "nombre_sain          2071\n",
    "nombre_exposed        449\n",
    "nombre_recovered    16639\n",
    "Name: 377, dtype: int64"
   ]
  },
  {
   "cell_type": "markdown",
   "id": "7936fdff",
   "metadata": {},
   "source": [
    "nombre_infected       843\n",
    "nombre_sain          2096\n",
    "nombre_exposed        443\n",
    "nombre_recovered    16618\n",
    "Name: 378, dtype: int64"
   ]
  },
  {
   "cell_type": "markdown",
   "id": "3df47d69",
   "metadata": {},
   "source": [
    "nombre_infected       848\n",
    "nombre_sain          2119\n",
    "nombre_exposed        435\n",
    "nombre_recovered    16598\n",
    "Name: 379, dtype: int64"
   ]
  },
  {
   "cell_type": "markdown",
   "id": "7269a8b2",
   "metadata": {},
   "source": [
    "nombre_infected       825\n",
    "nombre_sain          2133\n",
    "nombre_exposed        469\n",
    "nombre_recovered    16573\n",
    "Name: 380, dtype: int64"
   ]
  },
  {
   "cell_type": "markdown",
   "id": "65dfedcb",
   "metadata": {},
   "source": [
    "nombre_infected       843\n",
    "nombre_sain          2135\n",
    "nombre_exposed        476\n",
    "nombre_recovered    16546\n",
    "Name: 381, dtype: int64"
   ]
  },
  {
   "cell_type": "markdown",
   "id": "13929dcc",
   "metadata": {},
   "source": [
    "nombre_infected       862\n",
    "nombre_sain          2121\n",
    "nombre_exposed        495\n",
    "nombre_recovered    16522\n",
    "Name: 382, dtype: int64"
   ]
  },
  {
   "cell_type": "markdown",
   "id": "63f07007",
   "metadata": {},
   "source": [
    "nombre_infected       847\n",
    "nombre_sain          2123\n",
    "nombre_exposed        499\n",
    "nombre_recovered    16531\n",
    "Name: 383, dtype: int64"
   ]
  },
  {
   "cell_type": "markdown",
   "id": "8ebcc819",
   "metadata": {},
   "source": [
    "nombre_infected       872\n",
    "nombre_sain          2133\n",
    "nombre_exposed        505\n",
    "nombre_recovered    16490\n",
    "Name: 384, dtype: int64"
   ]
  },
  {
   "cell_type": "markdown",
   "id": "03096c7c",
   "metadata": {},
   "source": [
    "nombre_infected       895\n",
    "nombre_sain          2116\n",
    "nombre_exposed        495\n",
    "nombre_recovered    16494\n",
    "Name: 385, dtype: int64"
   ]
  },
  {
   "cell_type": "markdown",
   "id": "f2e4d692",
   "metadata": {},
   "source": [
    "nombre_infected       879\n",
    "nombre_sain          2118\n",
    "nombre_exposed        488\n",
    "nombre_recovered    16515\n",
    "Name: 386, dtype: int64"
   ]
  },
  {
   "cell_type": "markdown",
   "id": "bac4ab84",
   "metadata": {},
   "source": [
    "nombre_infected       895\n",
    "nombre_sain          2133\n",
    "nombre_exposed        488\n",
    "nombre_recovered    16484\n",
    "Name: 387, dtype: int64"
   ]
  },
  {
   "cell_type": "markdown",
   "id": "75e90858",
   "metadata": {},
   "source": [
    "nombre_infected       915\n",
    "nombre_sain          2147\n",
    "nombre_exposed        476\n",
    "nombre_recovered    16462\n",
    "Name: 388, dtype: int64"
   ]
  },
  {
   "cell_type": "markdown",
   "id": "b6de7273",
   "metadata": {},
   "source": [
    "nombre_infected       915\n",
    "nombre_sain          2137\n",
    "nombre_exposed        484\n",
    "nombre_recovered    16464\n",
    "Name: 389, dtype: int64"
   ]
  },
  {
   "cell_type": "markdown",
   "id": "0da47014",
   "metadata": {},
   "source": [
    "nombre_infected       895\n",
    "nombre_sain          2147\n",
    "nombre_exposed        494\n",
    "nombre_recovered    16464\n",
    "Name: 390, dtype: int64"
   ]
  },
  {
   "cell_type": "markdown",
   "id": "6f5007b2",
   "metadata": {},
   "source": [
    "nombre_infected       900\n",
    "nombre_sain          2164\n",
    "nombre_exposed        479\n",
    "nombre_recovered    16457\n",
    "Name: 391, dtype: int64"
   ]
  },
  {
   "cell_type": "markdown",
   "id": "25ed5e85",
   "metadata": {},
   "source": [
    "nombre_infected       904\n",
    "nombre_sain          2190\n",
    "nombre_exposed        486\n",
    "nombre_recovered    16420\n",
    "Name: 392, dtype: int64"
   ]
  },
  {
   "cell_type": "markdown",
   "id": "b34c1eae",
   "metadata": {},
   "source": [
    "nombre_infected       913\n",
    "nombre_sain          2205\n",
    "nombre_exposed        482\n",
    "nombre_recovered    16400\n",
    "Name: 393, dtype: int64"
   ]
  },
  {
   "cell_type": "markdown",
   "id": "9c7e2d41",
   "metadata": {},
   "source": [
    "nombre_infected       925\n",
    "nombre_sain          2221\n",
    "nombre_exposed        488\n",
    "nombre_recovered    16366\n",
    "Name: 394, dtype: int64"
   ]
  },
  {
   "cell_type": "markdown",
   "id": "c395a619",
   "metadata": {},
   "source": [
    "nombre_infected       928\n",
    "nombre_sain          2213\n",
    "nombre_exposed        498\n",
    "nombre_recovered    16361\n",
    "Name: 395, dtype: int64"
   ]
  },
  {
   "cell_type": "markdown",
   "id": "1b9d714a",
   "metadata": {},
   "source": [
    "nombre_infected       908\n",
    "nombre_sain          2208\n",
    "nombre_exposed        527\n",
    "nombre_recovered    16357\n",
    "Name: 396, dtype: int64"
   ]
  },
  {
   "cell_type": "markdown",
   "id": "e85041ed",
   "metadata": {},
   "source": [
    "nombre_infected       929\n",
    "nombre_sain          2209\n",
    "nombre_exposed        519\n",
    "nombre_recovered    16343\n",
    "Name: 397, dtype: int64"
   ]
  },
  {
   "cell_type": "markdown",
   "id": "0b3ed3c2",
   "metadata": {},
   "source": [
    "nombre_infected       942\n",
    "nombre_sain          2194\n",
    "nombre_exposed        529\n",
    "nombre_recovered    16335\n",
    "Name: 398, dtype: int64"
   ]
  },
  {
   "cell_type": "markdown",
   "id": "fee2279f",
   "metadata": {},
   "source": [
    "nombre_infected       974\n",
    "nombre_sain          2206\n",
    "nombre_exposed        533\n",
    "nombre_recovered    16287\n",
    "Name: 399, dtype: int64"
   ]
  },
  {
   "cell_type": "markdown",
   "id": "11dd60d6",
   "metadata": {},
   "source": [
    "nombre_infected       977\n",
    "nombre_sain          2201\n",
    "nombre_exposed        556\n",
    "nombre_recovered    16266\n",
    "Name: 400, dtype: int64"
   ]
  },
  {
   "cell_type": "markdown",
   "id": "6765aac3",
   "metadata": {},
   "source": [
    "nombre_infected       976\n",
    "nombre_sain          2197\n",
    "nombre_exposed        551\n",
    "nombre_recovered    16276\n",
    "Name: 401, dtype: int64"
   ]
  },
  {
   "cell_type": "markdown",
   "id": "3490cf2c",
   "metadata": {},
   "source": [
    "nombre_infected      1004\n",
    "nombre_sain          2183\n",
    "nombre_exposed        542\n",
    "nombre_recovered    16271\n",
    "Name: 402, dtype: int64"
   ]
  },
  {
   "cell_type": "markdown",
   "id": "ef19613d",
   "metadata": {},
   "source": [
    "nombre_infected      1019\n",
    "nombre_sain          2180\n",
    "nombre_exposed        560\n",
    "nombre_recovered    16241\n",
    "Name: 403, dtype: int64"
   ]
  },
  {
   "cell_type": "markdown",
   "id": "15b0fc85",
   "metadata": {},
   "source": [
    "nombre_infected      1022\n",
    "nombre_sain          2211\n",
    "nombre_exposed        540\n",
    "nombre_recovered    16227\n",
    "Name: 404, dtype: int64"
   ]
  },
  {
   "cell_type": "markdown",
   "id": "1f6c585d",
   "metadata": {},
   "source": [
    "nombre_infected      1025\n",
    "nombre_sain          2220\n",
    "nombre_exposed        549\n",
    "nombre_recovered    16206\n",
    "Name: 405, dtype: int64"
   ]
  },
  {
   "cell_type": "markdown",
   "id": "997fbaaa",
   "metadata": {},
   "source": [
    "nombre_infected      1036\n",
    "nombre_sain          2221\n",
    "nombre_exposed        554\n",
    "nombre_recovered    16189\n",
    "Name: 406, dtype: int64"
   ]
  },
  {
   "cell_type": "markdown",
   "id": "0d06b5d3",
   "metadata": {},
   "source": [
    "nombre_infected      1052\n",
    "nombre_sain          2229\n",
    "nombre_exposed        566\n",
    "nombre_recovered    16153\n",
    "Name: 407, dtype: int64"
   ]
  },
  {
   "cell_type": "markdown",
   "id": "b1f49f4e",
   "metadata": {},
   "source": [
    "nombre_infected      1026\n",
    "nombre_sain          2214\n",
    "nombre_exposed        611\n",
    "nombre_recovered    16149\n",
    "Name: 408, dtype: int64"
   ]
  },
  {
   "cell_type": "markdown",
   "id": "9589836f",
   "metadata": {},
   "source": [
    "nombre_infected      1030\n",
    "nombre_sain          2218\n",
    "nombre_exposed        605\n",
    "nombre_recovered    16147\n",
    "Name: 409, dtype: int64"
   ]
  },
  {
   "cell_type": "markdown",
   "id": "384dd60f",
   "metadata": {},
   "source": [
    "nombre_infected      1028\n",
    "nombre_sain          2205\n",
    "nombre_exposed        614\n",
    "nombre_recovered    16153\n",
    "Name: 410, dtype: int64"
   ]
  },
  {
   "cell_type": "markdown",
   "id": "682a6451",
   "metadata": {},
   "source": [
    "nombre_infected      1057\n",
    "nombre_sain          2208\n",
    "nombre_exposed        606\n",
    "nombre_recovered    16129\n",
    "Name: 411, dtype: int64"
   ]
  },
  {
   "cell_type": "markdown",
   "id": "c8d855ad",
   "metadata": {},
   "source": [
    "nombre_infected      1096\n",
    "nombre_sain          2207\n",
    "nombre_exposed        602\n",
    "nombre_recovered    16095\n",
    "Name: 412, dtype: int64"
   ]
  },
  {
   "cell_type": "markdown",
   "id": "35437b4b",
   "metadata": {},
   "source": [
    "nombre_infected      1091\n",
    "nombre_sain          2198\n",
    "nombre_exposed        605\n",
    "nombre_recovered    16106\n",
    "Name: 413, dtype: int64"
   ]
  },
  {
   "cell_type": "markdown",
   "id": "9526de17",
   "metadata": {},
   "source": [
    "nombre_infected      1127\n",
    "nombre_sain          2147\n",
    "nombre_exposed        622\n",
    "nombre_recovered    16104\n",
    "Name: 414, dtype: int64"
   ]
  },
  {
   "cell_type": "markdown",
   "id": "b2c65d43",
   "metadata": {},
   "source": [
    "nombre_infected      1112\n",
    "nombre_sain          2170\n",
    "nombre_exposed        629\n",
    "nombre_recovered    16089\n",
    "Name: 415, dtype: int64"
   ]
  },
  {
   "cell_type": "markdown",
   "id": "6d853a63",
   "metadata": {},
   "source": [
    "nombre_infected      1098\n",
    "nombre_sain          2150\n",
    "nombre_exposed        649\n",
    "nombre_recovered    16103\n",
    "Name: 416, dtype: int64"
   ]
  },
  {
   "cell_type": "markdown",
   "id": "30785fcb",
   "metadata": {},
   "source": [
    "nombre_infected      1108\n",
    "nombre_sain          2183\n",
    "nombre_exposed        630\n",
    "nombre_recovered    16079\n",
    "Name: 417, dtype: int64"
   ]
  },
  {
   "cell_type": "markdown",
   "id": "c5cb2d80",
   "metadata": {},
   "source": [
    "nombre_infected      1159\n",
    "nombre_sain          2157\n",
    "nombre_exposed        616\n",
    "nombre_recovered    16068\n",
    "Name: 418, dtype: int64"
   ]
  },
  {
   "cell_type": "markdown",
   "id": "0ed544e0",
   "metadata": {},
   "source": [
    "nombre_infected      1173\n",
    "nombre_sain          2121\n",
    "nombre_exposed        635\n",
    "nombre_recovered    16071\n",
    "Name: 419, dtype: int64"
   ]
  },
  {
   "cell_type": "markdown",
   "id": "9d3d230d",
   "metadata": {},
   "source": [
    "nombre_infected      1189\n",
    "nombre_sain          2115\n",
    "nombre_exposed        628\n",
    "nombre_recovered    16068\n",
    "Name: 420, dtype: int64"
   ]
  },
  {
   "cell_type": "markdown",
   "id": "e222a9b5",
   "metadata": {},
   "source": [
    "nombre_infected      1193\n",
    "nombre_sain          2119\n",
    "nombre_exposed        633\n",
    "nombre_recovered    16055\n",
    "Name: 421, dtype: int64"
   ]
  },
  {
   "cell_type": "markdown",
   "id": "20098593",
   "metadata": {},
   "source": [
    "nombre_infected      1202\n",
    "nombre_sain          2079\n",
    "nombre_exposed        645\n",
    "nombre_recovered    16074\n",
    "Name: 422, dtype: int64"
   ]
  },
  {
   "cell_type": "markdown",
   "id": "d147bb08",
   "metadata": {},
   "source": [
    "nombre_infected      1223\n",
    "nombre_sain          2096\n",
    "nombre_exposed        641\n",
    "nombre_recovered    16040\n",
    "Name: 423, dtype: int64"
   ]
  },
  {
   "cell_type": "markdown",
   "id": "5740a0f4",
   "metadata": {},
   "source": [
    "nombre_infected      1205\n",
    "nombre_sain          2057\n",
    "nombre_exposed        665\n",
    "nombre_recovered    16073\n",
    "Name: 424, dtype: int64"
   ]
  },
  {
   "cell_type": "markdown",
   "id": "599bca06",
   "metadata": {},
   "source": [
    "nombre_infected      1210\n",
    "nombre_sain          2054\n",
    "nombre_exposed        645\n",
    "nombre_recovered    16091\n",
    "Name: 425, dtype: int64"
   ]
  },
  {
   "cell_type": "markdown",
   "id": "1d5ec9a1",
   "metadata": {},
   "source": [
    "nombre_infected      1213\n",
    "nombre_sain          2039\n",
    "nombre_exposed        643\n",
    "nombre_recovered    16105\n",
    "Name: 426, dtype: int64"
   ]
  },
  {
   "cell_type": "markdown",
   "id": "2fbe727d",
   "metadata": {},
   "source": [
    "nombre_infected      1212\n",
    "nombre_sain          2041\n",
    "nombre_exposed        610\n",
    "nombre_recovered    16137\n",
    "Name: 427, dtype: int64"
   ]
  },
  {
   "cell_type": "markdown",
   "id": "e1e05e32",
   "metadata": {},
   "source": [
    "nombre_infected      1222\n",
    "nombre_sain          2016\n",
    "nombre_exposed        608\n",
    "nombre_recovered    16154\n",
    "Name: 428, dtype: int64"
   ]
  },
  {
   "cell_type": "markdown",
   "id": "d0afd3f6",
   "metadata": {},
   "source": [
    "nombre_infected      1219\n",
    "nombre_sain          2019\n",
    "nombre_exposed        601\n",
    "nombre_recovered    16161\n",
    "Name: 429, dtype: int64"
   ]
  },
  {
   "cell_type": "markdown",
   "id": "2aad67d2",
   "metadata": {},
   "source": [
    "nombre_infected      1214\n",
    "nombre_sain          1994\n",
    "nombre_exposed        607\n",
    "nombre_recovered    16185\n",
    "Name: 430, dtype: int64"
   ]
  },
  {
   "cell_type": "markdown",
   "id": "7fbb3207",
   "metadata": {},
   "source": [
    "nombre_infected      1205\n",
    "nombre_sain          1963\n",
    "nombre_exposed        631\n",
    "nombre_recovered    16201\n",
    "Name: 431, dtype: int64"
   ]
  },
  {
   "cell_type": "markdown",
   "id": "86eb2c00",
   "metadata": {},
   "source": [
    "nombre_infected      1223\n",
    "nombre_sain          1936\n",
    "nombre_exposed        620\n",
    "nombre_recovered    16221\n",
    "Name: 432, dtype: int64"
   ]
  },
  {
   "cell_type": "markdown",
   "id": "0ac783bc",
   "metadata": {},
   "source": [
    "nombre_infected      1216\n",
    "nombre_sain          1927\n",
    "nombre_exposed        602\n",
    "nombre_recovered    16255\n",
    "Name: 433, dtype: int64"
   ]
  },
  {
   "cell_type": "markdown",
   "id": "9fcd61b6",
   "metadata": {},
   "source": [
    "nombre_infected      1221\n",
    "nombre_sain          1915\n",
    "nombre_exposed        585\n",
    "nombre_recovered    16279\n",
    "Name: 434, dtype: int64"
   ]
  },
  {
   "cell_type": "markdown",
   "id": "3fb52960",
   "metadata": {},
   "source": [
    "nombre_infected      1212\n",
    "nombre_sain          1906\n",
    "nombre_exposed        582\n",
    "nombre_recovered    16300\n",
    "Name: 435, dtype: int64"
   ]
  },
  {
   "cell_type": "markdown",
   "id": "bfa74545",
   "metadata": {},
   "source": [
    "nombre_infected      1184\n",
    "nombre_sain          1905\n",
    "nombre_exposed        600\n",
    "nombre_recovered    16311\n",
    "Name: 436, dtype: int64"
   ]
  },
  {
   "cell_type": "markdown",
   "id": "efc20bdb",
   "metadata": {},
   "source": [
    "nombre_infected      1176\n",
    "nombre_sain          1890\n",
    "nombre_exposed        592\n",
    "nombre_recovered    16342\n",
    "Name: 437, dtype: int64"
   ]
  },
  {
   "cell_type": "markdown",
   "id": "a0c26398",
   "metadata": {},
   "source": [
    "nombre_infected      1168\n",
    "nombre_sain          1889\n",
    "nombre_exposed        605\n",
    "nombre_recovered    16338\n",
    "Name: 438, dtype: int64"
   ]
  },
  {
   "cell_type": "markdown",
   "id": "37d374e5",
   "metadata": {},
   "source": [
    "nombre_infected      1166\n",
    "nombre_sain          1883\n",
    "nombre_exposed        602\n",
    "nombre_recovered    16349\n",
    "Name: 439, dtype: int64"
   ]
  },
  {
   "cell_type": "markdown",
   "id": "ba7a0204",
   "metadata": {},
   "source": [
    "nombre_infected      1135\n",
    "nombre_sain          1911\n",
    "nombre_exposed        562\n",
    "nombre_recovered    16392\n",
    "Name: 440, dtype: int64"
   ]
  },
  {
   "cell_type": "markdown",
   "id": "c6fa3410",
   "metadata": {},
   "source": [
    "nombre_infected      1136\n",
    "nombre_sain          1891\n",
    "nombre_exposed        579\n",
    "nombre_recovered    16394\n",
    "Name: 441, dtype: int64"
   ]
  },
  {
   "cell_type": "markdown",
   "id": "98f10138",
   "metadata": {},
   "source": [
    "nombre_infected      1114\n",
    "nombre_sain          1897\n",
    "nombre_exposed        602\n",
    "nombre_recovered    16387\n",
    "Name: 442, dtype: int64"
   ]
  },
  {
   "cell_type": "markdown",
   "id": "2d2f2446",
   "metadata": {},
   "source": [
    "nombre_infected      1098\n",
    "nombre_sain          1925\n",
    "nombre_exposed        595\n",
    "nombre_recovered    16382\n",
    "Name: 443, dtype: int64"
   ]
  },
  {
   "cell_type": "markdown",
   "id": "8cd6e541",
   "metadata": {},
   "source": [
    "nombre_infected      1137\n",
    "nombre_sain          1884\n",
    "nombre_exposed        593\n",
    "nombre_recovered    16386\n",
    "Name: 444, dtype: int64"
   ]
  },
  {
   "cell_type": "markdown",
   "id": "c26d1330",
   "metadata": {},
   "source": [
    "nombre_infected      1103\n",
    "nombre_sain          1896\n",
    "nombre_exposed        590\n",
    "nombre_recovered    16411\n",
    "Name: 445, dtype: int64"
   ]
  },
  {
   "cell_type": "markdown",
   "id": "0212b21e",
   "metadata": {},
   "source": [
    "nombre_infected      1106\n",
    "nombre_sain          1870\n",
    "nombre_exposed        563\n",
    "nombre_recovered    16461\n",
    "Name: 446, dtype: int64"
   ]
  },
  {
   "cell_type": "markdown",
   "id": "bac2e0bc",
   "metadata": {},
   "source": [
    "nombre_infected      1116\n",
    "nombre_sain          1874\n",
    "nombre_exposed        549\n",
    "nombre_recovered    16461\n",
    "Name: 447, dtype: int64"
   ]
  },
  {
   "cell_type": "markdown",
   "id": "497c96cc",
   "metadata": {},
   "source": [
    "nombre_infected      1097\n",
    "nombre_sain          1877\n",
    "nombre_exposed        554\n",
    "nombre_recovered    16472\n",
    "Name: 448, dtype: int64"
   ]
  },
  {
   "cell_type": "markdown",
   "id": "e8691f99",
   "metadata": {},
   "source": [
    "nombre_infected      1104\n",
    "nombre_sain          1892\n",
    "nombre_exposed        530\n",
    "nombre_recovered    16474\n",
    "Name: 449, dtype: int64"
   ]
  },
  {
   "cell_type": "markdown",
   "id": "8668f71e",
   "metadata": {},
   "source": [
    "nombre_infected      1102\n",
    "nombre_sain          1878\n",
    "nombre_exposed        539\n",
    "nombre_recovered    16481\n",
    "Name: 450, dtype: int64"
   ]
  },
  {
   "cell_type": "markdown",
   "id": "f8c4bd05",
   "metadata": {},
   "source": [
    "nombre_infected      1085\n",
    "nombre_sain          1895\n",
    "nombre_exposed        534\n",
    "nombre_recovered    16486\n",
    "Name: 451, dtype: int64"
   ]
  },
  {
   "cell_type": "markdown",
   "id": "12dd2673",
   "metadata": {},
   "source": [
    "nombre_infected      1055\n",
    "nombre_sain          1881\n",
    "nombre_exposed        537\n",
    "nombre_recovered    16527\n",
    "Name: 452, dtype: int64"
   ]
  },
  {
   "cell_type": "markdown",
   "id": "37fe412f",
   "metadata": {},
   "source": [
    "nombre_infected      1051\n",
    "nombre_sain          1874\n",
    "nombre_exposed        532\n",
    "nombre_recovered    16543\n",
    "Name: 453, dtype: int64"
   ]
  },
  {
   "cell_type": "markdown",
   "id": "dbf2c575",
   "metadata": {},
   "source": [
    "nombre_infected      1052\n",
    "nombre_sain          1897\n",
    "nombre_exposed        523\n",
    "nombre_recovered    16528\n",
    "Name: 454, dtype: int64"
   ]
  },
  {
   "cell_type": "markdown",
   "id": "6ffd3b4e",
   "metadata": {},
   "source": [
    "nombre_infected      1049\n",
    "nombre_sain          1901\n",
    "nombre_exposed        508\n",
    "nombre_recovered    16542\n",
    "Name: 455, dtype: int64"
   ]
  },
  {
   "cell_type": "markdown",
   "id": "c26e446d",
   "metadata": {},
   "source": [
    "nombre_infected      1045\n",
    "nombre_sain          1904\n",
    "nombre_exposed        501\n",
    "nombre_recovered    16550\n",
    "Name: 456, dtype: int64"
   ]
  },
  {
   "cell_type": "markdown",
   "id": "1b096aea",
   "metadata": {},
   "source": [
    "nombre_infected      1045\n",
    "nombre_sain          1913\n",
    "nombre_exposed        500\n",
    "nombre_recovered    16542\n",
    "Name: 457, dtype: int64"
   ]
  },
  {
   "cell_type": "markdown",
   "id": "7722f444",
   "metadata": {},
   "source": [
    "nombre_infected      1023\n",
    "nombre_sain          1915\n",
    "nombre_exposed        491\n",
    "nombre_recovered    16571\n",
    "Name: 458, dtype: int64"
   ]
  },
  {
   "cell_type": "markdown",
   "id": "e01184c1",
   "metadata": {},
   "source": [
    "nombre_infected      1033\n",
    "nombre_sain          1912\n",
    "nombre_exposed        497\n",
    "nombre_recovered    16558\n",
    "Name: 459, dtype: int64"
   ]
  },
  {
   "cell_type": "markdown",
   "id": "bc0e7d71",
   "metadata": {},
   "source": [
    "nombre_infected      1015\n",
    "nombre_sain          1889\n",
    "nombre_exposed        527\n",
    "nombre_recovered    16569\n",
    "Name: 460, dtype: int64"
   ]
  },
  {
   "cell_type": "markdown",
   "id": "03fbf11f",
   "metadata": {},
   "source": [
    "nombre_infected      1009\n",
    "nombre_sain          1884\n",
    "nombre_exposed        537\n",
    "nombre_recovered    16570\n",
    "Name: 461, dtype: int64"
   ]
  },
  {
   "cell_type": "markdown",
   "id": "bb31c024",
   "metadata": {},
   "source": [
    "nombre_infected      1009\n",
    "nombre_sain          1890\n",
    "nombre_exposed        509\n",
    "nombre_recovered    16592\n",
    "Name: 462, dtype: int64"
   ]
  },
  {
   "cell_type": "markdown",
   "id": "f5e91d9f",
   "metadata": {},
   "source": [
    "nombre_infected      1016\n",
    "nombre_sain          1914\n",
    "nombre_exposed        493\n",
    "nombre_recovered    16577\n",
    "Name: 463, dtype: int64"
   ]
  },
  {
   "cell_type": "markdown",
   "id": "9fd17c0d",
   "metadata": {},
   "source": [
    "nombre_infected      1023\n",
    "nombre_sain          1914\n",
    "nombre_exposed        489\n",
    "nombre_recovered    16574\n",
    "Name: 464, dtype: int64"
   ]
  },
  {
   "cell_type": "markdown",
   "id": "8c8b93ee",
   "metadata": {},
   "source": [
    "nombre_infected      1013\n",
    "nombre_sain          1920\n",
    "nombre_exposed        466\n",
    "nombre_recovered    16601\n",
    "Name: 465, dtype: int64"
   ]
  },
  {
   "cell_type": "markdown",
   "id": "8aa2b0e2",
   "metadata": {},
   "source": [
    "nombre_infected      1009\n",
    "nombre_sain          1911\n",
    "nombre_exposed        476\n",
    "nombre_recovered    16604\n",
    "Name: 466, dtype: int64"
   ]
  },
  {
   "cell_type": "markdown",
   "id": "275db950",
   "metadata": {},
   "source": [
    "nombre_infected       989\n",
    "nombre_sain          1898\n",
    "nombre_exposed        485\n",
    "nombre_recovered    16628\n",
    "Name: 467, dtype: int64"
   ]
  },
  {
   "cell_type": "markdown",
   "id": "8f6811cb",
   "metadata": {},
   "source": [
    "nombre_infected       984\n",
    "nombre_sain          1894\n",
    "nombre_exposed        484\n",
    "nombre_recovered    16638\n",
    "Name: 468, dtype: int64"
   ]
  },
  {
   "cell_type": "markdown",
   "id": "0bb780c3",
   "metadata": {},
   "source": [
    "nombre_infected       975\n",
    "nombre_sain          1880\n",
    "nombre_exposed        479\n",
    "nombre_recovered    16666\n",
    "Name: 469, dtype: int64"
   ]
  },
  {
   "cell_type": "markdown",
   "id": "7f04434e",
   "metadata": {},
   "source": [
    "nombre_infected       983\n",
    "nombre_sain          1877\n",
    "nombre_exposed        477\n",
    "nombre_recovered    16663\n",
    "Name: 470, dtype: int64"
   ]
  },
  {
   "cell_type": "markdown",
   "id": "f19501bb",
   "metadata": {},
   "source": [
    "nombre_infected       979\n",
    "nombre_sain          1880\n",
    "nombre_exposed        469\n",
    "nombre_recovered    16672\n",
    "Name: 471, dtype: int64"
   ]
  },
  {
   "cell_type": "markdown",
   "id": "21c72083",
   "metadata": {},
   "source": [
    "nombre_infected       984\n",
    "nombre_sain          1882\n",
    "nombre_exposed        450\n",
    "nombre_recovered    16684\n",
    "Name: 472, dtype: int64"
   ]
  },
  {
   "cell_type": "markdown",
   "id": "e7adf5eb",
   "metadata": {},
   "source": [
    "nombre_infected       964\n",
    "nombre_sain          1889\n",
    "nombre_exposed        450\n",
    "nombre_recovered    16697\n",
    "Name: 473, dtype: int64"
   ]
  },
  {
   "cell_type": "markdown",
   "id": "31b873fa",
   "metadata": {},
   "source": [
    "nombre_infected       948\n",
    "nombre_sain          1910\n",
    "nombre_exposed        451\n",
    "nombre_recovered    16691\n",
    "Name: 474, dtype: int64"
   ]
  },
  {
   "cell_type": "markdown",
   "id": "4712e66e",
   "metadata": {},
   "source": [
    "nombre_infected       970\n",
    "nombre_sain          1902\n",
    "nombre_exposed        442\n",
    "nombre_recovered    16686\n",
    "Name: 475, dtype: int64"
   ]
  },
  {
   "cell_type": "markdown",
   "id": "b264d0cc",
   "metadata": {},
   "source": [
    "nombre_infected       963\n",
    "nombre_sain          1914\n",
    "nombre_exposed        442\n",
    "nombre_recovered    16681\n",
    "Name: 476, dtype: int64"
   ]
  },
  {
   "cell_type": "markdown",
   "id": "238e2524",
   "metadata": {},
   "source": [
    "nombre_infected       958\n",
    "nombre_sain          1938\n",
    "nombre_exposed        448\n",
    "nombre_recovered    16656\n",
    "Name: 477, dtype: int64"
   ]
  },
  {
   "cell_type": "markdown",
   "id": "9e78f8af",
   "metadata": {},
   "source": [
    "nombre_infected       957\n",
    "nombre_sain          1939\n",
    "nombre_exposed        476\n",
    "nombre_recovered    16628\n",
    "Name: 478, dtype: int64"
   ]
  },
  {
   "cell_type": "markdown",
   "id": "80e17dd1",
   "metadata": {},
   "source": [
    "nombre_infected       951\n",
    "nombre_sain          1952\n",
    "nombre_exposed        487\n",
    "nombre_recovered    16610\n",
    "Name: 479, dtype: int64"
   ]
  },
  {
   "cell_type": "markdown",
   "id": "c447766b",
   "metadata": {},
   "source": [
    "nombre_infected       952\n",
    "nombre_sain          1975\n",
    "nombre_exposed        480\n",
    "nombre_recovered    16593\n",
    "Name: 480, dtype: int64"
   ]
  },
  {
   "cell_type": "markdown",
   "id": "058dba8f",
   "metadata": {},
   "source": [
    "nombre_infected       979\n",
    "nombre_sain          1984\n",
    "nombre_exposed        473\n",
    "nombre_recovered    16564\n",
    "Name: 481, dtype: int64"
   ]
  },
  {
   "cell_type": "markdown",
   "id": "ca9221f3",
   "metadata": {},
   "source": [
    "nombre_infected       956\n",
    "nombre_sain          1993\n",
    "nombre_exposed        475\n",
    "nombre_recovered    16576\n",
    "Name: 482, dtype: int64"
   ]
  },
  {
   "cell_type": "markdown",
   "id": "f3438e46",
   "metadata": {},
   "source": [
    "nombre_infected       966\n",
    "nombre_sain          1986\n",
    "nombre_exposed        484\n",
    "nombre_recovered    16564\n",
    "Name: 483, dtype: int64"
   ]
  },
  {
   "cell_type": "markdown",
   "id": "9db344f5",
   "metadata": {},
   "source": [
    "nombre_infected       983\n",
    "nombre_sain          1970\n",
    "nombre_exposed        495\n",
    "nombre_recovered    16552\n",
    "Name: 484, dtype: int64"
   ]
  },
  {
   "cell_type": "markdown",
   "id": "6f34607f",
   "metadata": {},
   "source": [
    "nombre_infected       986\n",
    "nombre_sain          1988\n",
    "nombre_exposed        501\n",
    "nombre_recovered    16525\n",
    "Name: 485, dtype: int64"
   ]
  },
  {
   "cell_type": "markdown",
   "id": "b7379d91",
   "metadata": {},
   "source": [
    "nombre_infected      1008\n",
    "nombre_sain          2001\n",
    "nombre_exposed        478\n",
    "nombre_recovered    16513\n",
    "Name: 486, dtype: int64"
   ]
  },
  {
   "cell_type": "markdown",
   "id": "3374998e",
   "metadata": {},
   "source": [
    "nombre_infected       997\n",
    "nombre_sain          1975\n",
    "nombre_exposed        494\n",
    "nombre_recovered    16534\n",
    "Name: 487, dtype: int64"
   ]
  },
  {
   "cell_type": "markdown",
   "id": "732a2b30",
   "metadata": {},
   "source": [
    "nombre_infected       978\n",
    "nombre_sain          1964\n",
    "nombre_exposed        517\n",
    "nombre_recovered    16541\n",
    "Name: 488, dtype: int64"
   ]
  },
  {
   "cell_type": "markdown",
   "id": "7f662e76",
   "metadata": {},
   "source": [
    "nombre_infected       999\n",
    "nombre_sain          1960\n",
    "nombre_exposed        507\n",
    "nombre_recovered    16534\n",
    "Name: 489, dtype: int64"
   ]
  },
  {
   "cell_type": "markdown",
   "id": "31309990",
   "metadata": {},
   "source": [
    "nombre_infected       998\n",
    "nombre_sain          1912\n",
    "nombre_exposed        526\n",
    "nombre_recovered    16564\n",
    "Name: 490, dtype: int64"
   ]
  },
  {
   "cell_type": "markdown",
   "id": "7a961b92",
   "metadata": {},
   "source": [
    "nombre_infected       986\n",
    "nombre_sain          1923\n",
    "nombre_exposed        518\n",
    "nombre_recovered    16573\n",
    "Name: 491, dtype: int64"
   ]
  },
  {
   "cell_type": "markdown",
   "id": "372f12a5",
   "metadata": {},
   "source": [
    "nombre_infected       984\n",
    "nombre_sain          1902\n",
    "nombre_exposed        512\n",
    "nombre_recovered    16602\n",
    "Name: 492, dtype: int64"
   ]
  },
  {
   "cell_type": "markdown",
   "id": "91c439e1",
   "metadata": {},
   "source": [
    "nombre_infected      1011\n",
    "nombre_sain          1872\n",
    "nombre_exposed        499\n",
    "nombre_recovered    16618\n",
    "Name: 493, dtype: int64"
   ]
  },
  {
   "cell_type": "markdown",
   "id": "21979715",
   "metadata": {},
   "source": [
    "nombre_infected      1001\n",
    "nombre_sain          1883\n",
    "nombre_exposed        499\n",
    "nombre_recovered    16617\n",
    "Name: 494, dtype: int64"
   ]
  },
  {
   "cell_type": "markdown",
   "id": "a2d84ebc",
   "metadata": {},
   "source": [
    "nombre_infected       979\n",
    "nombre_sain          1866\n",
    "nombre_exposed        526\n",
    "nombre_recovered    16629\n",
    "Name: 495, dtype: int64"
   ]
  },
  {
   "cell_type": "markdown",
   "id": "ff1b861c",
   "metadata": {},
   "source": [
    "nombre_infected       980\n",
    "nombre_sain          1867\n",
    "nombre_exposed        524\n",
    "nombre_recovered    16629\n",
    "Name: 496, dtype: int64"
   ]
  },
  {
   "cell_type": "markdown",
   "id": "f684c947",
   "metadata": {},
   "source": [
    "nombre_infected       986\n",
    "nombre_sain          1868\n",
    "nombre_exposed        513\n",
    "nombre_recovered    16633\n",
    "Name: 497, dtype: int64"
   ]
  },
  {
   "cell_type": "markdown",
   "id": "b17768ca",
   "metadata": {},
   "source": [
    "nombre_infected       985\n",
    "nombre_sain          1897\n",
    "nombre_exposed        493\n",
    "nombre_recovered    16625\n",
    "Name: 498, dtype: int64"
   ]
  },
  {
   "cell_type": "markdown",
   "id": "a2538c00",
   "metadata": {},
   "source": [
    "nombre_infected       991\n",
    "nombre_sain          1918\n",
    "nombre_exposed        485\n",
    "nombre_recovered    16606\n",
    "Name: 499, dtype: int64"
   ]
  },
  {
   "cell_type": "markdown",
   "id": "de14b085",
   "metadata": {},
   "source": [
    "nombre_infected       991\n",
    "nombre_sain          1894\n",
    "nombre_exposed        493\n",
    "nombre_recovered    16622\n",
    "Name: 500, dtype: int64"
   ]
  },
  {
   "cell_type": "markdown",
   "id": "d1946b3a",
   "metadata": {},
   "source": [
    "nombre_infected      1001\n",
    "nombre_sain          1930\n",
    "nombre_exposed        485\n",
    "nombre_recovered    16584\n",
    "Name: 501, dtype: int64"
   ]
  },
  {
   "cell_type": "markdown",
   "id": "2cc12ccd",
   "metadata": {},
   "source": [
    "nombre_infected      1010\n",
    "nombre_sain          1931\n",
    "nombre_exposed        495\n",
    "nombre_recovered    16564\n",
    "Name: 502, dtype: int64"
   ]
  },
  {
   "cell_type": "markdown",
   "id": "8f417c84",
   "metadata": {},
   "source": [
    "nombre_infected       997\n",
    "nombre_sain          1929\n",
    "nombre_exposed        506\n",
    "nombre_recovered    16568\n",
    "Name: 503, dtype: int64"
   ]
  },
  {
   "cell_type": "markdown",
   "id": "a57a73cb",
   "metadata": {},
   "source": [
    "nombre_infected      1006\n",
    "nombre_sain          1949\n",
    "nombre_exposed        492\n",
    "nombre_recovered    16553\n",
    "Name: 504, dtype: int64"
   ]
  },
  {
   "cell_type": "markdown",
   "id": "0a1370cd",
   "metadata": {},
   "source": [
    "nombre_infected      1003\n",
    "nombre_sain          1932\n",
    "nombre_exposed        519\n",
    "nombre_recovered    16546\n",
    "Name: 505, dtype: int64"
   ]
  },
  {
   "cell_type": "markdown",
   "id": "a4a89885",
   "metadata": {},
   "source": [
    "nombre_infected      1006\n",
    "nombre_sain          1936\n",
    "nombre_exposed        519\n",
    "nombre_recovered    16539\n",
    "Name: 506, dtype: int64"
   ]
  },
  {
   "cell_type": "markdown",
   "id": "5c470208",
   "metadata": {},
   "source": [
    "nombre_infected      1031\n",
    "nombre_sain          1946\n",
    "nombre_exposed        511\n",
    "nombre_recovered    16512\n",
    "Name: 507, dtype: int64"
   ]
  },
  {
   "cell_type": "markdown",
   "id": "13b6fff0",
   "metadata": {},
   "source": [
    "nombre_infected      1051\n",
    "nombre_sain          1964\n",
    "nombre_exposed        480\n",
    "nombre_recovered    16505\n",
    "Name: 508, dtype: int64"
   ]
  },
  {
   "cell_type": "markdown",
   "id": "90891480",
   "metadata": {},
   "source": [
    "nombre_infected      1047\n",
    "nombre_sain          1955\n",
    "nombre_exposed        482\n",
    "nombre_recovered    16516\n",
    "Name: 509, dtype: int64"
   ]
  },
  {
   "cell_type": "markdown",
   "id": "0591b886",
   "metadata": {},
   "source": [
    "nombre_infected      1034\n",
    "nombre_sain          1947\n",
    "nombre_exposed        482\n",
    "nombre_recovered    16537\n",
    "Name: 510, dtype: int64"
   ]
  },
  {
   "cell_type": "markdown",
   "id": "441490fb",
   "metadata": {},
   "source": [
    "nombre_infected      1032\n",
    "nombre_sain          1951\n",
    "nombre_exposed        491\n",
    "nombre_recovered    16526\n",
    "Name: 511, dtype: int64"
   ]
  },
  {
   "cell_type": "markdown",
   "id": "d81313bf",
   "metadata": {},
   "source": [
    "nombre_infected      1001\n",
    "nombre_sain          1950\n",
    "nombre_exposed        507\n",
    "nombre_recovered    16542\n",
    "Name: 512, dtype: int64"
   ]
  },
  {
   "cell_type": "markdown",
   "id": "b603f18c",
   "metadata": {},
   "source": [
    "nombre_infected      1004\n",
    "nombre_sain          1930\n",
    "nombre_exposed        524\n",
    "nombre_recovered    16542\n",
    "Name: 513, dtype: int64"
   ]
  },
  {
   "cell_type": "markdown",
   "id": "02df9886",
   "metadata": {},
   "source": [
    "nombre_infected      1002\n",
    "nombre_sain          1904\n",
    "nombre_exposed        530\n",
    "nombre_recovered    16564\n",
    "Name: 514, dtype: int64"
   ]
  },
  {
   "cell_type": "markdown",
   "id": "26f1db31",
   "metadata": {},
   "source": [
    "nombre_infected      1019\n",
    "nombre_sain          1916\n",
    "nombre_exposed        497\n",
    "nombre_recovered    16568\n",
    "Name: 515, dtype: int64"
   ]
  },
  {
   "cell_type": "markdown",
   "id": "eb9651ad",
   "metadata": {},
   "source": [
    "nombre_infected      1021\n",
    "nombre_sain          1916\n",
    "nombre_exposed        482\n",
    "nombre_recovered    16581\n",
    "Name: 516, dtype: int64"
   ]
  },
  {
   "cell_type": "markdown",
   "id": "76f0a902",
   "metadata": {},
   "source": [
    "nombre_infected       996\n",
    "nombre_sain          1910\n",
    "nombre_exposed        480\n",
    "nombre_recovered    16614\n",
    "Name: 517, dtype: int64"
   ]
  },
  {
   "cell_type": "markdown",
   "id": "511b0459",
   "metadata": {},
   "source": [
    "nombre_infected      1009\n",
    "nombre_sain          1920\n",
    "nombre_exposed        462\n",
    "nombre_recovered    16609\n",
    "Name: 518, dtype: int64"
   ]
  },
  {
   "cell_type": "markdown",
   "id": "2601c46a",
   "metadata": {},
   "source": [
    "nombre_infected       992\n",
    "nombre_sain          1915\n",
    "nombre_exposed        487\n",
    "nombre_recovered    16606\n",
    "Name: 519, dtype: int64"
   ]
  },
  {
   "cell_type": "markdown",
   "id": "2c3f2584",
   "metadata": {},
   "source": [
    "nombre_infected       948\n",
    "nombre_sain          1918\n",
    "nombre_exposed        494\n",
    "nombre_recovered    16640\n",
    "Name: 520, dtype: int64"
   ]
  },
  {
   "cell_type": "markdown",
   "id": "3e2e8fac",
   "metadata": {},
   "source": [
    "nombre_infected       936\n",
    "nombre_sain          1918\n",
    "nombre_exposed        504\n",
    "nombre_recovered    16642\n",
    "Name: 521, dtype: int64"
   ]
  },
  {
   "cell_type": "markdown",
   "id": "4e80c87e",
   "metadata": {},
   "source": [
    "nombre_infected       942\n",
    "nombre_sain          1935\n",
    "nombre_exposed        506\n",
    "nombre_recovered    16617\n",
    "Name: 522, dtype: int64"
   ]
  },
  {
   "cell_type": "markdown",
   "id": "b8cc6d3c",
   "metadata": {},
   "source": [
    "nombre_infected       949\n",
    "nombre_sain          1960\n",
    "nombre_exposed        482\n",
    "nombre_recovered    16609\n",
    "Name: 523, dtype: int64"
   ]
  },
  {
   "cell_type": "markdown",
   "id": "9be176fa",
   "metadata": {},
   "source": [
    "nombre_infected       952\n",
    "nombre_sain          1944\n",
    "nombre_exposed        490\n",
    "nombre_recovered    16614\n",
    "Name: 524, dtype: int64"
   ]
  },
  {
   "cell_type": "markdown",
   "id": "60679c9e",
   "metadata": {},
   "source": [
    "nombre_infected       941\n",
    "nombre_sain          1936\n",
    "nombre_exposed        502\n",
    "nombre_recovered    16621\n",
    "Name: 525, dtype: int64"
   ]
  },
  {
   "cell_type": "markdown",
   "id": "196446d4",
   "metadata": {},
   "source": [
    "nombre_infected       939\n",
    "nombre_sain          1954\n",
    "nombre_exposed        496\n",
    "nombre_recovered    16611\n",
    "Name: 526, dtype: int64"
   ]
  },
  {
   "cell_type": "markdown",
   "id": "8a7702c8",
   "metadata": {},
   "source": [
    "nombre_infected       949\n",
    "nombre_sain          1981\n",
    "nombre_exposed        480\n",
    "nombre_recovered    16590\n",
    "Name: 527, dtype: int64"
   ]
  },
  {
   "cell_type": "markdown",
   "id": "affa5609",
   "metadata": {},
   "source": [
    "nombre_infected       938\n",
    "nombre_sain          1987\n",
    "nombre_exposed        496\n",
    "nombre_recovered    16579\n",
    "Name: 528, dtype: int64"
   ]
  },
  {
   "cell_type": "markdown",
   "id": "04e9c726",
   "metadata": {},
   "source": [
    "nombre_infected       938\n",
    "nombre_sain          1977\n",
    "nombre_exposed        495\n",
    "nombre_recovered    16590\n",
    "Name: 529, dtype: int64"
   ]
  },
  {
   "cell_type": "markdown",
   "id": "c09eea85",
   "metadata": {},
   "source": [
    "nombre_infected       932\n",
    "nombre_sain          1983\n",
    "nombre_exposed        484\n",
    "nombre_recovered    16601\n",
    "Name: 530, dtype: int64"
   ]
  },
  {
   "cell_type": "markdown",
   "id": "599fb742",
   "metadata": {},
   "source": [
    "nombre_infected       938\n",
    "nombre_sain          2010\n",
    "nombre_exposed        463\n",
    "nombre_recovered    16589\n",
    "Name: 531, dtype: int64"
   ]
  },
  {
   "cell_type": "markdown",
   "id": "47925314",
   "metadata": {},
   "source": [
    "nombre_infected       906\n",
    "nombre_sain          2043\n",
    "nombre_exposed        456\n",
    "nombre_recovered    16595\n",
    "Name: 532, dtype: int64"
   ]
  },
  {
   "cell_type": "markdown",
   "id": "9f6c1134",
   "metadata": {},
   "source": [
    "nombre_infected       901\n",
    "nombre_sain          2047\n",
    "nombre_exposed        474\n",
    "nombre_recovered    16578\n",
    "Name: 533, dtype: int64"
   ]
  },
  {
   "cell_type": "markdown",
   "id": "86024d5d",
   "metadata": {},
   "source": [
    "nombre_infected       882\n",
    "nombre_sain          2044\n",
    "nombre_exposed        483\n",
    "nombre_recovered    16591\n",
    "Name: 534, dtype: int64"
   ]
  },
  {
   "cell_type": "markdown",
   "id": "e75a1232",
   "metadata": {},
   "source": [
    "nombre_infected       868\n",
    "nombre_sain          2055\n",
    "nombre_exposed        496\n",
    "nombre_recovered    16581\n",
    "Name: 535, dtype: int64"
   ]
  },
  {
   "cell_type": "markdown",
   "id": "c5801e22",
   "metadata": {},
   "source": [
    "nombre_infected       865\n",
    "nombre_sain          2072\n",
    "nombre_exposed        502\n",
    "nombre_recovered    16561\n",
    "Name: 536, dtype: int64"
   ]
  },
  {
   "cell_type": "markdown",
   "id": "396449e5",
   "metadata": {},
   "source": [
    "nombre_infected       852\n",
    "nombre_sain          2070\n",
    "nombre_exposed        511\n",
    "nombre_recovered    16567\n",
    "Name: 537, dtype: int64"
   ]
  },
  {
   "cell_type": "markdown",
   "id": "27b75d45",
   "metadata": {},
   "source": [
    "nombre_infected       850\n",
    "nombre_sain          2059\n",
    "nombre_exposed        500\n",
    "nombre_recovered    16591\n",
    "Name: 538, dtype: int64"
   ]
  },
  {
   "cell_type": "markdown",
   "id": "217cc541",
   "metadata": {},
   "source": [
    "nombre_infected       847\n",
    "nombre_sain          2051\n",
    "nombre_exposed        501\n",
    "nombre_recovered    16601\n",
    "Name: 539, dtype: int64"
   ]
  },
  {
   "cell_type": "markdown",
   "id": "602ca8e9",
   "metadata": {},
   "source": [
    "nombre_infected       852\n",
    "nombre_sain          2060\n",
    "nombre_exposed        493\n",
    "nombre_recovered    16595\n",
    "Name: 540, dtype: int64"
   ]
  },
  {
   "cell_type": "markdown",
   "id": "b8a40316",
   "metadata": {},
   "source": [
    "nombre_infected       869\n",
    "nombre_sain          2079\n",
    "nombre_exposed        460\n",
    "nombre_recovered    16592\n",
    "Name: 541, dtype: int64"
   ]
  },
  {
   "cell_type": "markdown",
   "id": "0c4cc597",
   "metadata": {},
   "source": [
    "nombre_infected       855\n",
    "nombre_sain          2083\n",
    "nombre_exposed        452\n",
    "nombre_recovered    16610\n",
    "Name: 542, dtype: int64"
   ]
  },
  {
   "cell_type": "markdown",
   "id": "b63404c2",
   "metadata": {},
   "source": [
    "nombre_infected       862\n",
    "nombre_sain          2101\n",
    "nombre_exposed        449\n",
    "nombre_recovered    16588\n",
    "Name: 543, dtype: int64"
   ]
  },
  {
   "cell_type": "markdown",
   "id": "6aabdf18",
   "metadata": {},
   "source": [
    "nombre_infected       859\n",
    "nombre_sain          2096\n",
    "nombre_exposed        465\n",
    "nombre_recovered    16580\n",
    "Name: 544, dtype: int64"
   ]
  },
  {
   "cell_type": "markdown",
   "id": "533c164b",
   "metadata": {},
   "source": [
    "nombre_infected       841\n",
    "nombre_sain          2125\n",
    "nombre_exposed        465\n",
    "nombre_recovered    16569\n",
    "Name: 545, dtype: int64"
   ]
  },
  {
   "cell_type": "markdown",
   "id": "e167e0f5",
   "metadata": {},
   "source": [
    "nombre_infected       834\n",
    "nombre_sain          2138\n",
    "nombre_exposed        462\n",
    "nombre_recovered    16566\n",
    "Name: 546, dtype: int64"
   ]
  },
  {
   "cell_type": "markdown",
   "id": "bac41c24",
   "metadata": {},
   "source": [
    "nombre_infected       836\n",
    "nombre_sain          2108\n",
    "nombre_exposed        494\n",
    "nombre_recovered    16562\n",
    "Name: 547, dtype: int64"
   ]
  },
  {
   "cell_type": "markdown",
   "id": "02af433a",
   "metadata": {},
   "source": [
    "nombre_infected       835\n",
    "nombre_sain          2097\n",
    "nombre_exposed        511\n",
    "nombre_recovered    16557\n",
    "Name: 548, dtype: int64"
   ]
  },
  {
   "cell_type": "markdown",
   "id": "5f8e149d",
   "metadata": {},
   "source": [
    "nombre_infected       835\n",
    "nombre_sain          2106\n",
    "nombre_exposed        501\n",
    "nombre_recovered    16558\n",
    "Name: 549, dtype: int64"
   ]
  },
  {
   "cell_type": "markdown",
   "id": "d4f503f9",
   "metadata": {},
   "source": [
    "nombre_infected       831\n",
    "nombre_sain          2152\n",
    "nombre_exposed        478\n",
    "nombre_recovered    16539\n",
    "Name: 550, dtype: int64"
   ]
  },
  {
   "cell_type": "markdown",
   "id": "6b7a8bf1",
   "metadata": {},
   "source": [
    "nombre_infected       837\n",
    "nombre_sain          2174\n",
    "nombre_exposed        462\n",
    "nombre_recovered    16527\n",
    "Name: 551, dtype: int64"
   ]
  },
  {
   "cell_type": "markdown",
   "id": "f013ad9c",
   "metadata": {},
   "source": [
    "nombre_infected       836\n",
    "nombre_sain          2188\n",
    "nombre_exposed        472\n",
    "nombre_recovered    16504\n",
    "Name: 552, dtype: int64"
   ]
  },
  {
   "cell_type": "markdown",
   "id": "c9935ebd",
   "metadata": {},
   "source": [
    "nombre_infected       859\n",
    "nombre_sain          2235\n",
    "nombre_exposed        456\n",
    "nombre_recovered    16450\n",
    "Name: 553, dtype: int64"
   ]
  },
  {
   "cell_type": "markdown",
   "id": "f920f487",
   "metadata": {},
   "source": [
    "nombre_infected       862\n",
    "nombre_sain          2235\n",
    "nombre_exposed        472\n",
    "nombre_recovered    16431\n",
    "Name: 554, dtype: int64"
   ]
  },
  {
   "cell_type": "markdown",
   "id": "0017f4fc",
   "metadata": {},
   "source": [
    "nombre_infected       866\n",
    "nombre_sain          2241\n",
    "nombre_exposed        466\n",
    "nombre_recovered    16427\n",
    "Name: 555, dtype: int64"
   ]
  },
  {
   "cell_type": "markdown",
   "id": "a3d173ad",
   "metadata": {},
   "source": [
    "nombre_infected       871\n",
    "nombre_sain          2248\n",
    "nombre_exposed        487\n",
    "nombre_recovered    16394\n",
    "Name: 556, dtype: int64"
   ]
  },
  {
   "cell_type": "markdown",
   "id": "712d561e",
   "metadata": {},
   "source": [
    "nombre_infected       846\n",
    "nombre_sain          2256\n",
    "nombre_exposed        509\n",
    "nombre_recovered    16389\n",
    "Name: 557, dtype: int64"
   ]
  },
  {
   "cell_type": "markdown",
   "id": "7bf0b972",
   "metadata": {},
   "source": [
    "nombre_infected       842\n",
    "nombre_sain          2267\n",
    "nombre_exposed        506\n",
    "nombre_recovered    16385\n",
    "Name: 558, dtype: int64"
   ]
  },
  {
   "cell_type": "markdown",
   "id": "d591c629",
   "metadata": {},
   "source": [
    "nombre_infected       858\n",
    "nombre_sain          2254\n",
    "nombre_exposed        509\n",
    "nombre_recovered    16379\n",
    "Name: 559, dtype: int64"
   ]
  },
  {
   "cell_type": "markdown",
   "id": "8895f982",
   "metadata": {},
   "source": [
    "nombre_infected       863\n",
    "nombre_sain          2281\n",
    "nombre_exposed        487\n",
    "nombre_recovered    16369\n",
    "Name: 560, dtype: int64"
   ]
  },
  {
   "cell_type": "markdown",
   "id": "01063a20",
   "metadata": {},
   "source": [
    "nombre_infected       895\n",
    "nombre_sain          2269\n",
    "nombre_exposed        464\n",
    "nombre_recovered    16372\n",
    "Name: 561, dtype: int64"
   ]
  },
  {
   "cell_type": "markdown",
   "id": "f7e20970",
   "metadata": {},
   "source": [
    "nombre_infected       897\n",
    "nombre_sain          2257\n",
    "nombre_exposed        475\n",
    "nombre_recovered    16371\n",
    "Name: 562, dtype: int64"
   ]
  },
  {
   "cell_type": "markdown",
   "id": "595823d4",
   "metadata": {},
   "source": [
    "nombre_infected       902\n",
    "nombre_sain          2240\n",
    "nombre_exposed        485\n",
    "nombre_recovered    16373\n",
    "Name: 563, dtype: int64"
   ]
  },
  {
   "cell_type": "markdown",
   "id": "c0aa9558",
   "metadata": {},
   "source": [
    "nombre_infected       882\n",
    "nombre_sain          2245\n",
    "nombre_exposed        496\n",
    "nombre_recovered    16377\n",
    "Name: 564, dtype: int64"
   ]
  },
  {
   "cell_type": "markdown",
   "id": "4779785e",
   "metadata": {},
   "source": [
    "nombre_infected       878\n",
    "nombre_sain          2240\n",
    "nombre_exposed        506\n",
    "nombre_recovered    16376\n",
    "Name: 565, dtype: int64"
   ]
  },
  {
   "cell_type": "markdown",
   "id": "697c3c1f",
   "metadata": {},
   "source": [
    "nombre_infected       852\n",
    "nombre_sain          2239\n",
    "nombre_exposed        513\n",
    "nombre_recovered    16396\n",
    "Name: 566, dtype: int64"
   ]
  },
  {
   "cell_type": "markdown",
   "id": "ddc2b6f3",
   "metadata": {},
   "source": [
    "nombre_infected       861\n",
    "nombre_sain          2231\n",
    "nombre_exposed        514\n",
    "nombre_recovered    16394\n",
    "Name: 567, dtype: int64"
   ]
  },
  {
   "cell_type": "markdown",
   "id": "b1c28dcd",
   "metadata": {},
   "source": [
    "nombre_infected       874\n",
    "nombre_sain          2225\n",
    "nombre_exposed        500\n",
    "nombre_recovered    16401\n",
    "Name: 568, dtype: int64"
   ]
  },
  {
   "cell_type": "markdown",
   "id": "cc1e6c82",
   "metadata": {},
   "source": [
    "nombre_infected       884\n",
    "nombre_sain          2185\n",
    "nombre_exposed        512\n",
    "nombre_recovered    16419\n",
    "Name: 569, dtype: int64"
   ]
  },
  {
   "cell_type": "markdown",
   "id": "a05adea1",
   "metadata": {},
   "source": [
    "nombre_infected       912\n",
    "nombre_sain          2132\n",
    "nombre_exposed        523\n",
    "nombre_recovered    16433\n",
    "Name: 570, dtype: int64"
   ]
  },
  {
   "cell_type": "markdown",
   "id": "1bea01d6",
   "metadata": {},
   "source": [
    "nombre_infected       924\n",
    "nombre_sain          2126\n",
    "nombre_exposed        525\n",
    "nombre_recovered    16425\n",
    "Name: 571, dtype: int64"
   ]
  },
  {
   "cell_type": "markdown",
   "id": "fc8a124f",
   "metadata": {},
   "source": [
    "nombre_infected       919\n",
    "nombre_sain          2103\n",
    "nombre_exposed        548\n",
    "nombre_recovered    16430\n",
    "Name: 572, dtype: int64"
   ]
  },
  {
   "cell_type": "markdown",
   "id": "9330a589",
   "metadata": {},
   "source": [
    "nombre_infected       921\n",
    "nombre_sain          2106\n",
    "nombre_exposed        519\n",
    "nombre_recovered    16454\n",
    "Name: 573, dtype: int64"
   ]
  },
  {
   "cell_type": "markdown",
   "id": "d82fa6a1",
   "metadata": {},
   "source": [
    "nombre_infected       945\n",
    "nombre_sain          2100\n",
    "nombre_exposed        507\n",
    "nombre_recovered    16448\n",
    "Name: 574, dtype: int64"
   ]
  },
  {
   "cell_type": "markdown",
   "id": "aba752b6",
   "metadata": {},
   "source": [
    "nombre_infected       920\n",
    "nombre_sain          2079\n",
    "nombre_exposed        528\n",
    "nombre_recovered    16473\n",
    "Name: 575, dtype: int64"
   ]
  },
  {
   "cell_type": "markdown",
   "id": "73f27bad",
   "metadata": {},
   "source": [
    "nombre_infected       924\n",
    "nombre_sain          2054\n",
    "nombre_exposed        527\n",
    "nombre_recovered    16495\n",
    "Name: 576, dtype: int64"
   ]
  },
  {
   "cell_type": "markdown",
   "id": "2eb489ea",
   "metadata": {},
   "source": [
    "nombre_infected       945\n",
    "nombre_sain          2055\n",
    "nombre_exposed        509\n",
    "nombre_recovered    16491\n",
    "Name: 577, dtype: int64"
   ]
  },
  {
   "cell_type": "markdown",
   "id": "250af21d",
   "metadata": {},
   "source": [
    "nombre_infected       916\n",
    "nombre_sain          2059\n",
    "nombre_exposed        524\n",
    "nombre_recovered    16501\n",
    "Name: 578, dtype: int64"
   ]
  },
  {
   "cell_type": "markdown",
   "id": "f23fd106",
   "metadata": {},
   "source": [
    "nombre_infected       902\n",
    "nombre_sain          2058\n",
    "nombre_exposed        535\n",
    "nombre_recovered    16505\n",
    "Name: 579, dtype: int64"
   ]
  },
  {
   "cell_type": "markdown",
   "id": "3455e969",
   "metadata": {},
   "source": [
    "nombre_infected       891\n",
    "nombre_sain          2066\n",
    "nombre_exposed        526\n",
    "nombre_recovered    16517\n",
    "Name: 580, dtype: int64"
   ]
  },
  {
   "cell_type": "markdown",
   "id": "bd55f75e",
   "metadata": {},
   "source": [
    "nombre_infected       906\n",
    "nombre_sain          2066\n",
    "nombre_exposed        507\n",
    "nombre_recovered    16521\n",
    "Name: 581, dtype: int64"
   ]
  },
  {
   "cell_type": "markdown",
   "id": "38c05a8c",
   "metadata": {},
   "source": [
    "nombre_infected       896\n",
    "nombre_sain          2082\n",
    "nombre_exposed        512\n",
    "nombre_recovered    16510\n",
    "Name: 582, dtype: int64"
   ]
  },
  {
   "cell_type": "markdown",
   "id": "30737c74",
   "metadata": {},
   "source": [
    "nombre_infected       884\n",
    "nombre_sain          2094\n",
    "nombre_exposed        517\n",
    "nombre_recovered    16505\n",
    "Name: 583, dtype: int64"
   ]
  },
  {
   "cell_type": "markdown",
   "id": "225dbd9a",
   "metadata": {},
   "source": [
    "nombre_infected       894\n",
    "nombre_sain          2095\n",
    "nombre_exposed        519\n",
    "nombre_recovered    16492\n",
    "Name: 584, dtype: int64"
   ]
  },
  {
   "cell_type": "markdown",
   "id": "0401b95e",
   "metadata": {},
   "source": [
    "nombre_infected       905\n",
    "nombre_sain          2118\n",
    "nombre_exposed        505\n",
    "nombre_recovered    16472\n",
    "Name: 585, dtype: int64"
   ]
  },
  {
   "cell_type": "markdown",
   "id": "c62d9f73",
   "metadata": {},
   "source": [
    "nombre_infected       923\n",
    "nombre_sain          2132\n",
    "nombre_exposed        483\n",
    "nombre_recovered    16462\n",
    "Name: 586, dtype: int64"
   ]
  },
  {
   "cell_type": "markdown",
   "id": "d1cdb814",
   "metadata": {},
   "source": [
    "nombre_infected       916\n",
    "nombre_sain          2146\n",
    "nombre_exposed        508\n",
    "nombre_recovered    16430\n",
    "Name: 587, dtype: int64"
   ]
  },
  {
   "cell_type": "markdown",
   "id": "39989287",
   "metadata": {},
   "source": [
    "nombre_infected       895\n",
    "nombre_sain          2156\n",
    "nombre_exposed        536\n",
    "nombre_recovered    16413\n",
    "Name: 588, dtype: int64"
   ]
  },
  {
   "cell_type": "markdown",
   "id": "ed7a31e6",
   "metadata": {},
   "source": [
    "nombre_infected       894\n",
    "nombre_sain          2161\n",
    "nombre_exposed        542\n",
    "nombre_recovered    16403\n",
    "Name: 589, dtype: int64"
   ]
  },
  {
   "cell_type": "markdown",
   "id": "b5f52041",
   "metadata": {},
   "source": [
    "nombre_infected       897\n",
    "nombre_sain          2153\n",
    "nombre_exposed        545\n",
    "nombre_recovered    16405\n",
    "Name: 590, dtype: int64"
   ]
  },
  {
   "cell_type": "markdown",
   "id": "912b184d",
   "metadata": {},
   "source": [
    "nombre_infected       900\n",
    "nombre_sain          2174\n",
    "nombre_exposed        535\n",
    "nombre_recovered    16391\n",
    "Name: 591, dtype: int64"
   ]
  },
  {
   "cell_type": "markdown",
   "id": "1a98bd60",
   "metadata": {},
   "source": [
    "nombre_infected       915\n",
    "nombre_sain          2187\n",
    "nombre_exposed        527\n",
    "nombre_recovered    16371\n",
    "Name: 592, dtype: int64"
   ]
  },
  {
   "cell_type": "markdown",
   "id": "a63f1adb",
   "metadata": {},
   "source": [
    "nombre_infected       923\n",
    "nombre_sain          2225\n",
    "nombre_exposed        533\n",
    "nombre_recovered    16319\n",
    "Name: 593, dtype: int64"
   ]
  },
  {
   "cell_type": "markdown",
   "id": "741a4f9d",
   "metadata": {},
   "source": [
    "nombre_infected       911\n",
    "nombre_sain          2236\n",
    "nombre_exposed        541\n",
    "nombre_recovered    16312\n",
    "Name: 594, dtype: int64"
   ]
  },
  {
   "cell_type": "markdown",
   "id": "d49f3d30",
   "metadata": {},
   "source": [
    "nombre_infected       922\n",
    "nombre_sain          2248\n",
    "nombre_exposed        533\n",
    "nombre_recovered    16297\n",
    "Name: 595, dtype: int64"
   ]
  },
  {
   "cell_type": "markdown",
   "id": "66b368bc",
   "metadata": {},
   "source": [
    "nombre_infected       914\n",
    "nombre_sain          2255\n",
    "nombre_exposed        551\n",
    "nombre_recovered    16280\n",
    "Name: 596, dtype: int64"
   ]
  },
  {
   "cell_type": "markdown",
   "id": "224471f6",
   "metadata": {},
   "source": [
    "nombre_infected       901\n",
    "nombre_sain          2253\n",
    "nombre_exposed        544\n",
    "nombre_recovered    16302\n",
    "Name: 597, dtype: int64"
   ]
  },
  {
   "cell_type": "markdown",
   "id": "d9408c85",
   "metadata": {},
   "source": [
    "nombre_infected       933\n",
    "nombre_sain          2300\n",
    "nombre_exposed        529\n",
    "nombre_recovered    16238\n",
    "Name: 598, dtype: int64"
   ]
  },
  {
   "cell_type": "markdown",
   "id": "37f44ecd",
   "metadata": {},
   "source": [
    "nombre_infected       919\n",
    "nombre_sain          2328\n",
    "nombre_exposed        539\n",
    "nombre_recovered    16214\n",
    "Name: 599, dtype: int64"
   ]
  },
  {
   "cell_type": "markdown",
   "id": "1ee6af01",
   "metadata": {},
   "source": [
    "nombre_infected       927\n",
    "nombre_sain          2329\n",
    "nombre_exposed        566\n",
    "nombre_recovered    16178\n",
    "Name: 600, dtype: int64"
   ]
  },
  {
   "cell_type": "markdown",
   "id": "46cec290",
   "metadata": {},
   "source": [
    "nombre_infected       929\n",
    "nombre_sain          2341\n",
    "nombre_exposed        577\n",
    "nombre_recovered    16153\n",
    "Name: 601, dtype: int64"
   ]
  },
  {
   "cell_type": "markdown",
   "id": "203ac996",
   "metadata": {},
   "source": [
    "nombre_infected       933\n",
    "nombre_sain          2313\n",
    "nombre_exposed        602\n",
    "nombre_recovered    16152\n",
    "Name: 602, dtype: int64"
   ]
  },
  {
   "cell_type": "markdown",
   "id": "c69e6330",
   "metadata": {},
   "source": [
    "nombre_infected       951\n",
    "nombre_sain          2322\n",
    "nombre_exposed        602\n",
    "nombre_recovered    16125\n",
    "Name: 603, dtype: int64"
   ]
  },
  {
   "cell_type": "markdown",
   "id": "7899b639",
   "metadata": {},
   "source": [
    "nombre_infected       939\n",
    "nombre_sain          2311\n",
    "nombre_exposed        605\n",
    "nombre_recovered    16145\n",
    "Name: 604, dtype: int64"
   ]
  },
  {
   "cell_type": "markdown",
   "id": "41338f38",
   "metadata": {},
   "source": [
    "nombre_infected       927\n",
    "nombre_sain          2296\n",
    "nombre_exposed        623\n",
    "nombre_recovered    16154\n",
    "Name: 605, dtype: int64"
   ]
  },
  {
   "cell_type": "markdown",
   "id": "cefb8428",
   "metadata": {},
   "source": [
    "nombre_infected       935\n",
    "nombre_sain          2275\n",
    "nombre_exposed        616\n",
    "nombre_recovered    16174\n",
    "Name: 606, dtype: int64"
   ]
  },
  {
   "cell_type": "markdown",
   "id": "5eff35fc",
   "metadata": {},
   "source": [
    "nombre_infected       958\n",
    "nombre_sain          2257\n",
    "nombre_exposed        619\n",
    "nombre_recovered    16166\n",
    "Name: 607, dtype: int64"
   ]
  },
  {
   "cell_type": "markdown",
   "id": "37c23bde",
   "metadata": {},
   "source": [
    "nombre_infected      1007\n",
    "nombre_sain          2274\n",
    "nombre_exposed        586\n",
    "nombre_recovered    16133\n",
    "Name: 608, dtype: int64"
   ]
  },
  {
   "cell_type": "markdown",
   "id": "eca4e57f",
   "metadata": {},
   "source": [
    "nombre_infected      1013\n",
    "nombre_sain          2235\n",
    "nombre_exposed        592\n",
    "nombre_recovered    16160\n",
    "Name: 609, dtype: int64"
   ]
  },
  {
   "cell_type": "markdown",
   "id": "c6184d43",
   "metadata": {},
   "source": [
    "nombre_infected      1016\n",
    "nombre_sain          2204\n",
    "nombre_exposed        626\n",
    "nombre_recovered    16154\n",
    "Name: 610, dtype: int64"
   ]
  },
  {
   "cell_type": "markdown",
   "id": "41d69d84",
   "metadata": {},
   "source": [
    "nombre_infected      1039\n",
    "nombre_sain          2203\n",
    "nombre_exposed        610\n",
    "nombre_recovered    16148\n",
    "Name: 611, dtype: int64"
   ]
  },
  {
   "cell_type": "markdown",
   "id": "d83e82bd",
   "metadata": {},
   "source": [
    "nombre_infected      1054\n",
    "nombre_sain          2197\n",
    "nombre_exposed        600\n",
    "nombre_recovered    16149\n",
    "Name: 612, dtype: int64"
   ]
  },
  {
   "cell_type": "markdown",
   "id": "1b2453fa",
   "metadata": {},
   "source": [
    "nombre_infected      1046\n",
    "nombre_sain          2158\n",
    "nombre_exposed        621\n",
    "nombre_recovered    16175\n",
    "Name: 613, dtype: int64"
   ]
  },
  {
   "cell_type": "markdown",
   "id": "ddc5d090",
   "metadata": {},
   "source": [
    "nombre_infected      1057\n",
    "nombre_sain          2159\n",
    "nombre_exposed        591\n",
    "nombre_recovered    16193\n",
    "Name: 614, dtype: int64"
   ]
  },
  {
   "cell_type": "markdown",
   "id": "7ace0565",
   "metadata": {},
   "source": [
    "nombre_infected      1047\n",
    "nombre_sain          2126\n",
    "nombre_exposed        612\n",
    "nombre_recovered    16215\n",
    "Name: 615, dtype: int64"
   ]
  },
  {
   "cell_type": "markdown",
   "id": "36cb7496",
   "metadata": {},
   "source": [
    "nombre_infected      1052\n",
    "nombre_sain          2158\n",
    "nombre_exposed        578\n",
    "nombre_recovered    16212\n",
    "Name: 616, dtype: int64"
   ]
  },
  {
   "cell_type": "markdown",
   "id": "12a81fe6",
   "metadata": {},
   "source": [
    "nombre_infected      1056\n",
    "nombre_sain          2169\n",
    "nombre_exposed        568\n",
    "nombre_recovered    16207\n",
    "Name: 617, dtype: int64"
   ]
  },
  {
   "cell_type": "markdown",
   "id": "33eedcef",
   "metadata": {},
   "source": [
    "nombre_infected      1080\n",
    "nombre_sain          2160\n",
    "nombre_exposed        544\n",
    "nombre_recovered    16216\n",
    "Name: 618, dtype: int64"
   ]
  },
  {
   "cell_type": "markdown",
   "id": "47fe2b2a",
   "metadata": {},
   "source": [
    "nombre_infected      1041\n",
    "nombre_sain          2118\n",
    "nombre_exposed        593\n",
    "nombre_recovered    16248\n",
    "Name: 619, dtype: int64"
   ]
  },
  {
   "cell_type": "markdown",
   "id": "0f0a5bc4",
   "metadata": {},
   "source": [
    "nombre_infected      1044\n",
    "nombre_sain          2118\n",
    "nombre_exposed        591\n",
    "nombre_recovered    16247\n",
    "Name: 620, dtype: int64"
   ]
  },
  {
   "cell_type": "markdown",
   "id": "25bb3e19",
   "metadata": {},
   "source": [
    "nombre_infected      1037\n",
    "nombre_sain          2125\n",
    "nombre_exposed        581\n",
    "nombre_recovered    16257\n",
    "Name: 621, dtype: int64"
   ]
  },
  {
   "cell_type": "markdown",
   "id": "93095f21",
   "metadata": {},
   "source": [
    "nombre_infected      1044\n",
    "nombre_sain          2128\n",
    "nombre_exposed        551\n",
    "nombre_recovered    16277\n",
    "Name: 622, dtype: int64"
   ]
  },
  {
   "cell_type": "markdown",
   "id": "ce76d803",
   "metadata": {},
   "source": [
    "nombre_infected      1029\n",
    "nombre_sain          2116\n",
    "nombre_exposed        579\n",
    "nombre_recovered    16276\n",
    "Name: 623, dtype: int64"
   ]
  },
  {
   "cell_type": "markdown",
   "id": "e165b13a",
   "metadata": {},
   "source": [
    "nombre_infected      1034\n",
    "nombre_sain          2084\n",
    "nombre_exposed        602\n",
    "nombre_recovered    16280\n",
    "Name: 624, dtype: int64"
   ]
  },
  {
   "cell_type": "markdown",
   "id": "ccc55ac7",
   "metadata": {},
   "source": [
    "nombre_infected      1043\n",
    "nombre_sain          2085\n",
    "nombre_exposed        602\n",
    "nombre_recovered    16270\n",
    "Name: 625, dtype: int64"
   ]
  },
  {
   "cell_type": "markdown",
   "id": "5df75e74",
   "metadata": {},
   "source": [
    "nombre_infected      1076\n",
    "nombre_sain          2097\n",
    "nombre_exposed        557\n",
    "nombre_recovered    16270\n",
    "Name: 626, dtype: int64"
   ]
  },
  {
   "cell_type": "markdown",
   "id": "09a4a244",
   "metadata": {},
   "source": [
    "nombre_infected      1085\n",
    "nombre_sain          2093\n",
    "nombre_exposed        572\n",
    "nombre_recovered    16250\n",
    "Name: 627, dtype: int64"
   ]
  },
  {
   "cell_type": "markdown",
   "id": "fe1ac767",
   "metadata": {},
   "source": [
    "nombre_infected      1079\n",
    "nombre_sain          2116\n",
    "nombre_exposed        564\n",
    "nombre_recovered    16241\n",
    "Name: 628, dtype: int64"
   ]
  },
  {
   "cell_type": "markdown",
   "id": "2c0e4b7f",
   "metadata": {},
   "source": [
    "nombre_infected      1052\n",
    "nombre_sain          2104\n",
    "nombre_exposed        571\n",
    "nombre_recovered    16273\n",
    "Name: 629, dtype: int64"
   ]
  },
  {
   "cell_type": "markdown",
   "id": "5a67c753",
   "metadata": {},
   "source": [
    "nombre_infected      1034\n",
    "nombre_sain          2140\n",
    "nombre_exposed        569\n",
    "nombre_recovered    16257\n",
    "Name: 630, dtype: int64"
   ]
  },
  {
   "cell_type": "markdown",
   "id": "084228b6",
   "metadata": {},
   "source": [
    "nombre_infected      1026\n",
    "nombre_sain          2155\n",
    "nombre_exposed        565\n",
    "nombre_recovered    16254\n",
    "Name: 631, dtype: int64"
   ]
  },
  {
   "cell_type": "markdown",
   "id": "32119b80",
   "metadata": {},
   "source": [
    "nombre_infected      1035\n",
    "nombre_sain          2121\n",
    "nombre_exposed        597\n",
    "nombre_recovered    16247\n",
    "Name: 632, dtype: int64"
   ]
  },
  {
   "cell_type": "markdown",
   "id": "f6f1e83a",
   "metadata": {},
   "source": [
    "nombre_infected      1031\n",
    "nombre_sain          2125\n",
    "nombre_exposed        599\n",
    "nombre_recovered    16245\n",
    "Name: 633, dtype: int64"
   ]
  },
  {
   "cell_type": "markdown",
   "id": "4bfd9440",
   "metadata": {},
   "source": [
    "nombre_infected      1021\n",
    "nombre_sain          2136\n",
    "nombre_exposed        591\n",
    "nombre_recovered    16252\n",
    "Name: 634, dtype: int64"
   ]
  },
  {
   "cell_type": "markdown",
   "id": "4e333b6d",
   "metadata": {},
   "source": [
    "nombre_infected      1039\n",
    "nombre_sain          2134\n",
    "nombre_exposed        577\n",
    "nombre_recovered    16250\n",
    "Name: 635, dtype: int64"
   ]
  },
  {
   "cell_type": "markdown",
   "id": "0abfa763",
   "metadata": {},
   "source": [
    "nombre_infected      1036\n",
    "nombre_sain          2119\n",
    "nombre_exposed        595\n",
    "nombre_recovered    16250\n",
    "Name: 636, dtype: int64"
   ]
  },
  {
   "cell_type": "markdown",
   "id": "6fc86eee",
   "metadata": {},
   "source": [
    "nombre_infected      1035\n",
    "nombre_sain          2115\n",
    "nombre_exposed        608\n",
    "nombre_recovered    16242\n",
    "Name: 637, dtype: int64"
   ]
  },
  {
   "cell_type": "markdown",
   "id": "3e30da76",
   "metadata": {},
   "source": [
    "nombre_infected      1055\n",
    "nombre_sain          2125\n",
    "nombre_exposed        589\n",
    "nombre_recovered    16231\n",
    "Name: 638, dtype: int64"
   ]
  },
  {
   "cell_type": "markdown",
   "id": "f70dcffd",
   "metadata": {},
   "source": [
    "nombre_infected      1072\n",
    "nombre_sain          2146\n",
    "nombre_exposed        568\n",
    "nombre_recovered    16214\n",
    "Name: 639, dtype: int64"
   ]
  },
  {
   "cell_type": "markdown",
   "id": "11bd8c5d",
   "metadata": {},
   "source": [
    "nombre_infected      1095\n",
    "nombre_sain          2171\n",
    "nombre_exposed        549\n",
    "nombre_recovered    16185\n",
    "Name: 640, dtype: int64"
   ]
  },
  {
   "cell_type": "markdown",
   "id": "8b7bf81a",
   "metadata": {},
   "source": [
    "nombre_infected      1083\n",
    "nombre_sain          2200\n",
    "nombre_exposed        562\n",
    "nombre_recovered    16155\n",
    "Name: 641, dtype: int64"
   ]
  },
  {
   "cell_type": "markdown",
   "id": "6a40b984",
   "metadata": {},
   "source": [
    "nombre_infected      1060\n",
    "nombre_sain          2169\n",
    "nombre_exposed        595\n",
    "nombre_recovered    16176\n",
    "Name: 642, dtype: int64"
   ]
  },
  {
   "cell_type": "markdown",
   "id": "38373847",
   "metadata": {},
   "source": [
    "nombre_infected      1062\n",
    "nombre_sain          2172\n",
    "nombre_exposed        616\n",
    "nombre_recovered    16150\n",
    "Name: 643, dtype: int64"
   ]
  },
  {
   "cell_type": "markdown",
   "id": "4d2633da",
   "metadata": {},
   "source": [
    "nombre_infected      1045\n",
    "nombre_sain          2167\n",
    "nombre_exposed        629\n",
    "nombre_recovered    16159\n",
    "Name: 644, dtype: int64"
   ]
  },
  {
   "cell_type": "markdown",
   "id": "4bc7d2c8",
   "metadata": {},
   "source": [
    "nombre_infected      1046\n",
    "nombre_sain          2172\n",
    "nombre_exposed        614\n",
    "nombre_recovered    16168\n",
    "Name: 645, dtype: int64"
   ]
  },
  {
   "cell_type": "markdown",
   "id": "7614e4ab",
   "metadata": {},
   "source": [
    "nombre_infected      1071\n",
    "nombre_sain          2168\n",
    "nombre_exposed        592\n",
    "nombre_recovered    16169\n",
    "Name: 646, dtype: int64"
   ]
  },
  {
   "cell_type": "markdown",
   "id": "05472799",
   "metadata": {},
   "source": [
    "nombre_infected      1091\n",
    "nombre_sain          2158\n",
    "nombre_exposed        593\n",
    "nombre_recovered    16158\n",
    "Name: 647, dtype: int64"
   ]
  },
  {
   "cell_type": "markdown",
   "id": "2ea91452",
   "metadata": {},
   "source": [
    "nombre_infected      1094\n",
    "nombre_sain          2148\n",
    "nombre_exposed        606\n",
    "nombre_recovered    16152\n",
    "Name: 648, dtype: int64"
   ]
  },
  {
   "cell_type": "markdown",
   "id": "d6fc738f",
   "metadata": {},
   "source": [
    "nombre_infected      1094\n",
    "nombre_sain          2131\n",
    "nombre_exposed        610\n",
    "nombre_recovered    16165\n",
    "Name: 649, dtype: int64"
   ]
  },
  {
   "cell_type": "markdown",
   "id": "465f0aa4",
   "metadata": {},
   "source": [
    "nombre_infected      1088\n",
    "nombre_sain          2133\n",
    "nombre_exposed        622\n",
    "nombre_recovered    16157\n",
    "Name: 650, dtype: int64"
   ]
  },
  {
   "cell_type": "markdown",
   "id": "ba0fa191",
   "metadata": {},
   "source": [
    "nombre_infected      1089\n",
    "nombre_sain          2095\n",
    "nombre_exposed        637\n",
    "nombre_recovered    16179\n",
    "Name: 651, dtype: int64"
   ]
  },
  {
   "cell_type": "markdown",
   "id": "aa613ffb",
   "metadata": {},
   "source": [
    "nombre_infected      1069\n",
    "nombre_sain          2059\n",
    "nombre_exposed        673\n",
    "nombre_recovered    16199\n",
    "Name: 652, dtype: int64"
   ]
  },
  {
   "cell_type": "markdown",
   "id": "edf0bac8",
   "metadata": {},
   "source": [
    "nombre_infected      1075\n",
    "nombre_sain          2063\n",
    "nombre_exposed        680\n",
    "nombre_recovered    16182\n",
    "Name: 653, dtype: int64"
   ]
  },
  {
   "cell_type": "markdown",
   "id": "b8a48d1e",
   "metadata": {},
   "source": [
    "nombre_infected      1103\n",
    "nombre_sain          2067\n",
    "nombre_exposed        632\n",
    "nombre_recovered    16198\n",
    "Name: 654, dtype: int64"
   ]
  },
  {
   "cell_type": "markdown",
   "id": "4e2c1dc3",
   "metadata": {},
   "source": [
    "nombre_infected      1123\n",
    "nombre_sain          2053\n",
    "nombre_exposed        620\n",
    "nombre_recovered    16204\n",
    "Name: 655, dtype: int64"
   ]
  },
  {
   "cell_type": "markdown",
   "id": "24f0b115",
   "metadata": {},
   "source": [
    "nombre_infected      1123\n",
    "nombre_sain          2034\n",
    "nombre_exposed        638\n",
    "nombre_recovered    16205\n",
    "Name: 656, dtype: int64"
   ]
  },
  {
   "cell_type": "markdown",
   "id": "5e74620c",
   "metadata": {},
   "source": [
    "nombre_infected      1107\n",
    "nombre_sain          2038\n",
    "nombre_exposed        629\n",
    "nombre_recovered    16226\n",
    "Name: 657, dtype: int64"
   ]
  },
  {
   "cell_type": "markdown",
   "id": "7ca0834f",
   "metadata": {},
   "source": [
    "nombre_infected      1128\n",
    "nombre_sain          2004\n",
    "nombre_exposed        619\n",
    "nombre_recovered    16249\n",
    "Name: 658, dtype: int64"
   ]
  },
  {
   "cell_type": "markdown",
   "id": "2cc7a2ba",
   "metadata": {},
   "source": [
    "nombre_infected      1136\n",
    "nombre_sain          2011\n",
    "nombre_exposed        606\n",
    "nombre_recovered    16247\n",
    "Name: 659, dtype: int64"
   ]
  },
  {
   "cell_type": "markdown",
   "id": "bbf6aaca",
   "metadata": {},
   "source": [
    "nombre_infected      1149\n",
    "nombre_sain          2034\n",
    "nombre_exposed        594\n",
    "nombre_recovered    16223\n",
    "Name: 660, dtype: int64"
   ]
  },
  {
   "cell_type": "markdown",
   "id": "74713935",
   "metadata": {},
   "source": [
    "nombre_infected      1157\n",
    "nombre_sain          2011\n",
    "nombre_exposed        593\n",
    "nombre_recovered    16239\n",
    "Name: 661, dtype: int64"
   ]
  },
  {
   "cell_type": "markdown",
   "id": "6ac99d72",
   "metadata": {},
   "source": [
    "nombre_infected      1152\n",
    "nombre_sain          2003\n",
    "nombre_exposed        603\n",
    "nombre_recovered    16242\n",
    "Name: 662, dtype: int64"
   ]
  },
  {
   "cell_type": "markdown",
   "id": "16c68986",
   "metadata": {},
   "source": [
    "nombre_infected      1123\n",
    "nombre_sain          1977\n",
    "nombre_exposed        620\n",
    "nombre_recovered    16280\n",
    "Name: 663, dtype: int64"
   ]
  },
  {
   "cell_type": "markdown",
   "id": "8adf1bcf",
   "metadata": {},
   "source": [
    "nombre_infected      1097\n",
    "nombre_sain          1964\n",
    "nombre_exposed        622\n",
    "nombre_recovered    16317\n",
    "Name: 664, dtype: int64"
   ]
  },
  {
   "cell_type": "markdown",
   "id": "175ce28a",
   "metadata": {},
   "source": [
    "nombre_infected      1096\n",
    "nombre_sain          1970\n",
    "nombre_exposed        602\n",
    "nombre_recovered    16332\n",
    "Name: 665, dtype: int64"
   ]
  },
  {
   "cell_type": "markdown",
   "id": "73ca7dc4",
   "metadata": {},
   "source": [
    "nombre_infected      1088\n",
    "nombre_sain          1959\n",
    "nombre_exposed        632\n",
    "nombre_recovered    16321\n",
    "Name: 666, dtype: int64"
   ]
  },
  {
   "cell_type": "markdown",
   "id": "f3378c09",
   "metadata": {},
   "source": [
    "nombre_infected      1102\n",
    "nombre_sain          1958\n",
    "nombre_exposed        611\n",
    "nombre_recovered    16329\n",
    "Name: 667, dtype: int64"
   ]
  },
  {
   "cell_type": "markdown",
   "id": "d84a4b0f",
   "metadata": {},
   "source": [
    "nombre_infected      1105\n",
    "nombre_sain          1973\n",
    "nombre_exposed        571\n",
    "nombre_recovered    16351\n",
    "Name: 668, dtype: int64"
   ]
  },
  {
   "cell_type": "markdown",
   "id": "eab0f1b9",
   "metadata": {},
   "source": [
    "nombre_infected      1115\n",
    "nombre_sain          1914\n",
    "nombre_exposed        589\n",
    "nombre_recovered    16382\n",
    "Name: 669, dtype: int64"
   ]
  },
  {
   "cell_type": "markdown",
   "id": "7fd682ef",
   "metadata": {},
   "source": [
    "nombre_infected      1126\n",
    "nombre_sain          1907\n",
    "nombre_exposed        586\n",
    "nombre_recovered    16381\n",
    "Name: 670, dtype: int64"
   ]
  },
  {
   "cell_type": "markdown",
   "id": "96fa8ea1",
   "metadata": {},
   "source": [
    "nombre_infected      1102\n",
    "nombre_sain          1890\n",
    "nombre_exposed        603\n",
    "nombre_recovered    16405\n",
    "Name: 671, dtype: int64"
   ]
  },
  {
   "cell_type": "markdown",
   "id": "1087e291",
   "metadata": {},
   "source": [
    "nombre_infected      1098\n",
    "nombre_sain          1885\n",
    "nombre_exposed        605\n",
    "nombre_recovered    16412\n",
    "Name: 672, dtype: int64"
   ]
  },
  {
   "cell_type": "markdown",
   "id": "c260133a",
   "metadata": {},
   "source": [
    "nombre_infected      1104\n",
    "nombre_sain          1885\n",
    "nombre_exposed        601\n",
    "nombre_recovered    16410\n",
    "Name: 673, dtype: int64"
   ]
  },
  {
   "cell_type": "markdown",
   "id": "06ab5a3c",
   "metadata": {},
   "source": [
    "nombre_infected      1101\n",
    "nombre_sain          1888\n",
    "nombre_exposed        573\n",
    "nombre_recovered    16438\n",
    "Name: 674, dtype: int64"
   ]
  },
  {
   "cell_type": "markdown",
   "id": "0de4876a",
   "metadata": {},
   "source": [
    "nombre_infected      1102\n",
    "nombre_sain          1921\n",
    "nombre_exposed        566\n",
    "nombre_recovered    16411\n",
    "Name: 675, dtype: int64"
   ]
  },
  {
   "cell_type": "markdown",
   "id": "4f478793",
   "metadata": {},
   "source": [
    "nombre_infected      1104\n",
    "nombre_sain          1938\n",
    "nombre_exposed        550\n",
    "nombre_recovered    16408\n",
    "Name: 676, dtype: int64"
   ]
  },
  {
   "cell_type": "markdown",
   "id": "b0fcc6ee",
   "metadata": {},
   "source": [
    "nombre_infected      1098\n",
    "nombre_sain          1919\n",
    "nombre_exposed        556\n",
    "nombre_recovered    16427\n",
    "Name: 677, dtype: int64"
   ]
  },
  {
   "cell_type": "markdown",
   "id": "eea67fc4",
   "metadata": {},
   "source": [
    "nombre_infected      1077\n",
    "nombre_sain          1889\n",
    "nombre_exposed        565\n",
    "nombre_recovered    16469\n",
    "Name: 678, dtype: int64"
   ]
  },
  {
   "cell_type": "markdown",
   "id": "e5abd1c6",
   "metadata": {},
   "source": [
    "nombre_infected      1061\n",
    "nombre_sain          1881\n",
    "nombre_exposed        583\n",
    "nombre_recovered    16475\n",
    "Name: 679, dtype: int64"
   ]
  },
  {
   "cell_type": "markdown",
   "id": "e3009dd0",
   "metadata": {},
   "source": [
    "nombre_infected      1058\n",
    "nombre_sain          1907\n",
    "nombre_exposed        554\n",
    "nombre_recovered    16481\n",
    "Name: 680, dtype: int64"
   ]
  },
  {
   "cell_type": "markdown",
   "id": "0c646740",
   "metadata": {},
   "source": [
    "nombre_infected      1062\n",
    "nombre_sain          1913\n",
    "nombre_exposed        535\n",
    "nombre_recovered    16490\n",
    "Name: 681, dtype: int64"
   ]
  },
  {
   "cell_type": "markdown",
   "id": "0c755cef",
   "metadata": {},
   "source": [
    "nombre_infected      1050\n",
    "nombre_sain          1902\n",
    "nombre_exposed        530\n",
    "nombre_recovered    16518\n",
    "Name: 682, dtype: int64"
   ]
  },
  {
   "cell_type": "markdown",
   "id": "b3562480",
   "metadata": {},
   "source": [
    "nombre_infected      1020\n",
    "nombre_sain          1921\n",
    "nombre_exposed        522\n",
    "nombre_recovered    16537\n",
    "Name: 683, dtype: int64"
   ]
  },
  {
   "cell_type": "markdown",
   "id": "b24e6c13",
   "metadata": {},
   "source": [
    "nombre_infected      1005\n",
    "nombre_sain          1929\n",
    "nombre_exposed        507\n",
    "nombre_recovered    16559\n",
    "Name: 684, dtype: int64"
   ]
  },
  {
   "cell_type": "markdown",
   "id": "0a02b379",
   "metadata": {},
   "source": [
    "nombre_infected       985\n",
    "nombre_sain          1918\n",
    "nombre_exposed        526\n",
    "nombre_recovered    16571\n",
    "Name: 685, dtype: int64"
   ]
  },
  {
   "cell_type": "markdown",
   "id": "d4c3f9b6",
   "metadata": {},
   "source": [
    "nombre_infected      1000\n",
    "nombre_sain          1890\n",
    "nombre_exposed        523\n",
    "nombre_recovered    16587\n",
    "Name: 686, dtype: int64"
   ]
  },
  {
   "cell_type": "markdown",
   "id": "29e9848c",
   "metadata": {},
   "source": [
    "nombre_infected       993\n",
    "nombre_sain          1921\n",
    "nombre_exposed        497\n",
    "nombre_recovered    16589\n",
    "Name: 687, dtype: int64"
   ]
  },
  {
   "cell_type": "markdown",
   "id": "25a39459",
   "metadata": {},
   "source": [
    "nombre_infected       999\n",
    "nombre_sain          1937\n",
    "nombre_exposed        499\n",
    "nombre_recovered    16565\n",
    "Name: 688, dtype: int64"
   ]
  },
  {
   "cell_type": "markdown",
   "id": "0a7a966a",
   "metadata": {},
   "source": [
    "nombre_infected       990\n",
    "nombre_sain          1957\n",
    "nombre_exposed        493\n",
    "nombre_recovered    16560\n",
    "Name: 689, dtype: int64"
   ]
  },
  {
   "cell_type": "markdown",
   "id": "13f6a848",
   "metadata": {},
   "source": [
    "nombre_infected      1006\n",
    "nombre_sain          1929\n",
    "nombre_exposed        489\n",
    "nombre_recovered    16576\n",
    "Name: 690, dtype: int64"
   ]
  },
  {
   "cell_type": "markdown",
   "id": "482b7951",
   "metadata": {},
   "source": [
    "nombre_infected       997\n",
    "nombre_sain          1961\n",
    "nombre_exposed        501\n",
    "nombre_recovered    16541\n",
    "Name: 691, dtype: int64"
   ]
  },
  {
   "cell_type": "markdown",
   "id": "f872faf9",
   "metadata": {},
   "source": [
    "nombre_infected       988\n",
    "nombre_sain          1984\n",
    "nombre_exposed        496\n",
    "nombre_recovered    16532\n",
    "Name: 692, dtype: int64"
   ]
  },
  {
   "cell_type": "markdown",
   "id": "0146264e",
   "metadata": {},
   "source": [
    "nombre_infected      1007\n",
    "nombre_sain          2002\n",
    "nombre_exposed        476\n",
    "nombre_recovered    16515\n",
    "Name: 693, dtype: int64"
   ]
  },
  {
   "cell_type": "markdown",
   "id": "a18d7855",
   "metadata": {},
   "source": [
    "nombre_infected       991\n",
    "nombre_sain          2034\n",
    "nombre_exposed        490\n",
    "nombre_recovered    16485\n",
    "Name: 694, dtype: int64"
   ]
  },
  {
   "cell_type": "markdown",
   "id": "58d6b9a8",
   "metadata": {},
   "source": [
    "nombre_infected       993\n",
    "nombre_sain          2041\n",
    "nombre_exposed        481\n",
    "nombre_recovered    16485\n",
    "Name: 695, dtype: int64"
   ]
  },
  {
   "cell_type": "markdown",
   "id": "7a8c3638",
   "metadata": {},
   "source": [
    "nombre_infected       998\n",
    "nombre_sain          2027\n",
    "nombre_exposed        507\n",
    "nombre_recovered    16468\n",
    "Name: 696, dtype: int64"
   ]
  },
  {
   "cell_type": "markdown",
   "id": "f303dd50",
   "metadata": {},
   "source": [
    "nombre_infected       977\n",
    "nombre_sain          2050\n",
    "nombre_exposed        503\n",
    "nombre_recovered    16470\n",
    "Name: 697, dtype: int64"
   ]
  },
  {
   "cell_type": "markdown",
   "id": "816659b8",
   "metadata": {},
   "source": [
    "nombre_infected       982\n",
    "nombre_sain          2086\n",
    "nombre_exposed        481\n",
    "nombre_recovered    16451\n",
    "Name: 698, dtype: int64"
   ]
  },
  {
   "cell_type": "markdown",
   "id": "82258c66",
   "metadata": {},
   "source": [
    "nombre_infected       985\n",
    "nombre_sain          2107\n",
    "nombre_exposed        473\n",
    "nombre_recovered    16435\n",
    "Name: 699, dtype: int64"
   ]
  },
  {
   "cell_type": "markdown",
   "id": "f6976a45",
   "metadata": {},
   "source": [
    "nombre_infected       989\n",
    "nombre_sain          2120\n",
    "nombre_exposed        488\n",
    "nombre_recovered    16403\n",
    "Name: 700, dtype: int64"
   ]
  },
  {
   "cell_type": "markdown",
   "id": "a0feaf96",
   "metadata": {},
   "source": [
    "nombre_infected       961\n",
    "nombre_sain          2108\n",
    "nombre_exposed        525\n",
    "nombre_recovered    16406\n",
    "Name: 701, dtype: int64"
   ]
  },
  {
   "cell_type": "markdown",
   "id": "3b8dff06",
   "metadata": {},
   "source": [
    "nombre_infected       977\n",
    "nombre_sain          2088\n",
    "nombre_exposed        532\n",
    "nombre_recovered    16403\n",
    "Name: 702, dtype: int64"
   ]
  },
  {
   "cell_type": "markdown",
   "id": "5e558ee8",
   "metadata": {},
   "source": [
    "nombre_infected       985\n",
    "nombre_sain          2079\n",
    "nombre_exposed        515\n",
    "nombre_recovered    16421\n",
    "Name: 703, dtype: int64"
   ]
  },
  {
   "cell_type": "markdown",
   "id": "97885e90",
   "metadata": {},
   "source": [
    "nombre_infected       978\n",
    "nombre_sain          2081\n",
    "nombre_exposed        524\n",
    "nombre_recovered    16417\n",
    "Name: 704, dtype: int64"
   ]
  },
  {
   "cell_type": "markdown",
   "id": "24997eb4",
   "metadata": {},
   "source": [
    "nombre_infected       953\n",
    "nombre_sain          2093\n",
    "nombre_exposed        540\n",
    "nombre_recovered    16414\n",
    "Name: 705, dtype: int64"
   ]
  },
  {
   "cell_type": "markdown",
   "id": "27bec029",
   "metadata": {},
   "source": [
    "nombre_infected       944\n",
    "nombre_sain          2091\n",
    "nombre_exposed        539\n",
    "nombre_recovered    16426\n",
    "Name: 706, dtype: int64"
   ]
  },
  {
   "cell_type": "markdown",
   "id": "f1bdc75c",
   "metadata": {},
   "source": [
    "nombre_infected       927\n",
    "nombre_sain          2133\n",
    "nombre_exposed        520\n",
    "nombre_recovered    16420\n",
    "Name: 707, dtype: int64"
   ]
  },
  {
   "cell_type": "markdown",
   "id": "ff1628cc",
   "metadata": {},
   "source": [
    "nombre_infected       922\n",
    "nombre_sain          2145\n",
    "nombre_exposed        525\n",
    "nombre_recovered    16408\n",
    "Name: 708, dtype: int64"
   ]
  },
  {
   "cell_type": "markdown",
   "id": "5df4e480",
   "metadata": {},
   "source": [
    "nombre_infected       931\n",
    "nombre_sain          2140\n",
    "nombre_exposed        530\n",
    "nombre_recovered    16399\n",
    "Name: 709, dtype: int64"
   ]
  },
  {
   "cell_type": "markdown",
   "id": "450dcc44",
   "metadata": {},
   "source": [
    "nombre_infected       939\n",
    "nombre_sain          2166\n",
    "nombre_exposed        516\n",
    "nombre_recovered    16379\n",
    "Name: 710, dtype: int64"
   ]
  },
  {
   "cell_type": "markdown",
   "id": "a8e43474",
   "metadata": {},
   "source": [
    "nombre_infected       939\n",
    "nombre_sain          2142\n",
    "nombre_exposed        523\n",
    "nombre_recovered    16396\n",
    "Name: 711, dtype: int64"
   ]
  },
  {
   "cell_type": "markdown",
   "id": "6c3a49fc",
   "metadata": {},
   "source": [
    "nombre_infected       956\n",
    "nombre_sain          2138\n",
    "nombre_exposed        517\n",
    "nombre_recovered    16389\n",
    "Name: 712, dtype: int64"
   ]
  },
  {
   "cell_type": "markdown",
   "id": "700fcc8b",
   "metadata": {},
   "source": [
    "nombre_infected       952\n",
    "nombre_sain          2130\n",
    "nombre_exposed        532\n",
    "nombre_recovered    16386\n",
    "Name: 713, dtype: int64"
   ]
  },
  {
   "cell_type": "markdown",
   "id": "a23ce583",
   "metadata": {},
   "source": [
    "nombre_infected       958\n",
    "nombre_sain          2116\n",
    "nombre_exposed        534\n",
    "nombre_recovered    16392\n",
    "Name: 714, dtype: int64"
   ]
  },
  {
   "cell_type": "markdown",
   "id": "50da0cdf",
   "metadata": {},
   "source": [
    "nombre_infected       961\n",
    "nombre_sain          2101\n",
    "nombre_exposed        540\n",
    "nombre_recovered    16398\n",
    "Name: 715, dtype: int64"
   ]
  },
  {
   "cell_type": "markdown",
   "id": "c2644531",
   "metadata": {},
   "source": [
    "nombre_infected       972\n",
    "nombre_sain          2118\n",
    "nombre_exposed        537\n",
    "nombre_recovered    16373\n",
    "Name: 716, dtype: int64"
   ]
  },
  {
   "cell_type": "markdown",
   "id": "b0eb5ae1",
   "metadata": {},
   "source": [
    "nombre_infected       965\n",
    "nombre_sain          2117\n",
    "nombre_exposed        543\n",
    "nombre_recovered    16375\n",
    "Name: 717, dtype: int64"
   ]
  },
  {
   "cell_type": "markdown",
   "id": "aab3137c",
   "metadata": {},
   "source": [
    "nombre_infected       962\n",
    "nombre_sain          2088\n",
    "nombre_exposed        561\n",
    "nombre_recovered    16389\n",
    "Name: 718, dtype: int64"
   ]
  },
  {
   "cell_type": "markdown",
   "id": "480e1720",
   "metadata": {},
   "source": [
    "nombre_infected       973\n",
    "nombre_sain          2083\n",
    "nombre_exposed        565\n",
    "nombre_recovered    16379\n",
    "Name: 719, dtype: int64"
   ]
  },
  {
   "cell_type": "markdown",
   "id": "381fe8f7",
   "metadata": {},
   "source": [
    "nombre_infected       992\n",
    "nombre_sain          2078\n",
    "nombre_exposed        541\n",
    "nombre_recovered    16389\n",
    "Name: 720, dtype: int64"
   ]
  },
  {
   "cell_type": "markdown",
   "id": "5a1a8008",
   "metadata": {},
   "source": [
    "nombre_infected      1000\n",
    "nombre_sain          2062\n",
    "nombre_exposed        524\n",
    "nombre_recovered    16414\n",
    "Name: 721, dtype: int64"
   ]
  },
  {
   "cell_type": "markdown",
   "id": "0f0d258e",
   "metadata": {},
   "source": [
    "nombre_infected      1002\n",
    "nombre_sain          2051\n",
    "nombre_exposed        517\n",
    "nombre_recovered    16430\n",
    "Name: 722, dtype: int64"
   ]
  },
  {
   "cell_type": "markdown",
   "id": "a3bde40d",
   "metadata": {},
   "source": [
    "nombre_infected       991\n",
    "nombre_sain          2040\n",
    "nombre_exposed        533\n",
    "nombre_recovered    16436\n",
    "Name: 723, dtype: int64"
   ]
  },
  {
   "cell_type": "markdown",
   "id": "76e5ea57",
   "metadata": {},
   "source": [
    "nombre_infected      1006\n",
    "nombre_sain          2022\n",
    "nombre_exposed        545\n",
    "nombre_recovered    16427\n",
    "Name: 724, dtype: int64"
   ]
  },
  {
   "cell_type": "markdown",
   "id": "502769f7",
   "metadata": {},
   "source": [
    "nombre_infected      1020\n",
    "nombre_sain          2027\n",
    "nombre_exposed        552\n",
    "nombre_recovered    16401\n",
    "Name: 725, dtype: int64"
   ]
  },
  {
   "cell_type": "markdown",
   "id": "6e4575b8",
   "metadata": {},
   "source": [
    "nombre_infected      1001\n",
    "nombre_sain          2009\n",
    "nombre_exposed        565\n",
    "nombre_recovered    16425\n",
    "Name: 726, dtype: int64"
   ]
  },
  {
   "cell_type": "markdown",
   "id": "b7895726",
   "metadata": {},
   "source": [
    "nombre_infected      1008\n",
    "nombre_sain          1997\n",
    "nombre_exposed        576\n",
    "nombre_recovered    16419\n",
    "Name: 727, dtype: int64"
   ]
  },
  {
   "cell_type": "markdown",
   "id": "d3b7c386",
   "metadata": {},
   "source": [
    "nombre_infected      1037\n",
    "nombre_sain          1994\n",
    "nombre_exposed        549\n",
    "nombre_recovered    16420\n",
    "Name: 728, dtype: int64"
   ]
  },
  {
   "cell_type": "markdown",
   "id": "009d86d4",
   "metadata": {},
   "source": [
    "nombre_infected      1049\n",
    "nombre_sain          1993\n",
    "nombre_exposed        548\n",
    "nombre_recovered    16410\n",
    "Name: 729, dtype: int64"
   ]
  },
  {
   "cell_type": "markdown",
   "id": "df068570",
   "metadata": {},
   "source": [
    "nombre_infected      1058\n",
    "nombre_sain          1988\n",
    "nombre_exposed        564\n",
    "nombre_recovered    16390\n",
    "Name: 730, dtype: int64"
   ]
  }
 ],
 "metadata": {},
 "nbformat": 4,
 "nbformat_minor": 5
}
