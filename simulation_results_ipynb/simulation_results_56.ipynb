{
 "cells": [
  {
   "cell_type": "markdown",
   "id": "991ff674",
   "metadata": {},
   "source": [
    "nombre_infected        20\n",
    "nombre_sain         19980\n",
    "nombre_exposed          0\n",
    "nombre_recovered        0\n",
    "Name: 0, dtype: int64"
   ]
  },
  {
   "cell_type": "markdown",
   "id": "29adc998",
   "metadata": {},
   "source": [
    "nombre_infected        20\n",
    "nombre_sain         19967\n",
    "nombre_exposed         13\n",
    "nombre_recovered        0\n",
    "Name: 1, dtype: int64"
   ]
  },
  {
   "cell_type": "markdown",
   "id": "e754130e",
   "metadata": {},
   "source": [
    "nombre_infected        20\n",
    "nombre_sain         19940\n",
    "nombre_exposed         40\n",
    "nombre_recovered        0\n",
    "Name: 2, dtype: int64"
   ]
  },
  {
   "cell_type": "markdown",
   "id": "e12f9da6",
   "metadata": {},
   "source": [
    "nombre_infected        18\n",
    "nombre_sain         19924\n",
    "nombre_exposed         51\n",
    "nombre_recovered        7\n",
    "Name: 3, dtype: int64"
   ]
  },
  {
   "cell_type": "markdown",
   "id": "9d690956",
   "metadata": {},
   "source": [
    "nombre_infected        19\n",
    "nombre_sain         19909\n",
    "nombre_exposed         52\n",
    "nombre_recovered       20\n",
    "Name: 4, dtype: int64"
   ]
  },
  {
   "cell_type": "markdown",
   "id": "1994c63f",
   "metadata": {},
   "source": [
    "nombre_infected        28\n",
    "nombre_sain         19884\n",
    "nombre_exposed         67\n",
    "nombre_recovered       21\n",
    "Name: 5, dtype: int64"
   ]
  },
  {
   "cell_type": "markdown",
   "id": "be1ed68e",
   "metadata": {},
   "source": [
    "nombre_infected        38\n",
    "nombre_sain         19835\n",
    "nombre_exposed        105\n",
    "nombre_recovered       22\n",
    "Name: 6, dtype: int64"
   ]
  },
  {
   "cell_type": "markdown",
   "id": "8eea356b",
   "metadata": {},
   "source": [
    "nombre_infected        42\n",
    "nombre_sain         19782\n",
    "nombre_exposed        151\n",
    "nombre_recovered       25\n",
    "Name: 7, dtype: int64"
   ]
  },
  {
   "cell_type": "markdown",
   "id": "41a840bf",
   "metadata": {},
   "source": [
    "nombre_infected        68\n",
    "nombre_sain         19714\n",
    "nombre_exposed        191\n",
    "nombre_recovered       27\n",
    "Name: 8, dtype: int64"
   ]
  },
  {
   "cell_type": "markdown",
   "id": "6ea6f789",
   "metadata": {},
   "source": [
    "nombre_infected       101\n",
    "nombre_sain         19645\n",
    "nombre_exposed        222\n",
    "nombre_recovered       32\n",
    "Name: 9, dtype: int64"
   ]
  },
  {
   "cell_type": "markdown",
   "id": "1632c982",
   "metadata": {},
   "source": [
    "nombre_infected       136\n",
    "nombre_sain         19509\n",
    "nombre_exposed        311\n",
    "nombre_recovered       44\n",
    "Name: 10, dtype: int64"
   ]
  },
  {
   "cell_type": "markdown",
   "id": "734eaa61",
   "metadata": {},
   "source": [
    "nombre_infected       170\n",
    "nombre_sain         19343\n",
    "nombre_exposed        431\n",
    "nombre_recovered       56\n",
    "Name: 11, dtype: int64"
   ]
  },
  {
   "cell_type": "markdown",
   "id": "6e9898da",
   "metadata": {},
   "source": [
    "nombre_infected       231\n",
    "nombre_sain         19128\n",
    "nombre_exposed        561\n",
    "nombre_recovered       80\n",
    "Name: 12, dtype: int64"
   ]
  },
  {
   "cell_type": "markdown",
   "id": "96a83326",
   "metadata": {},
   "source": [
    "nombre_infected       311\n",
    "nombre_sain         18828\n",
    "nombre_exposed        772\n",
    "nombre_recovered       89\n",
    "Name: 13, dtype: int64"
   ]
  },
  {
   "cell_type": "markdown",
   "id": "b83a0138",
   "metadata": {},
   "source": [
    "nombre_infected       441\n",
    "nombre_sain         18383\n",
    "nombre_exposed       1054\n",
    "nombre_recovered      122\n",
    "Name: 14, dtype: int64"
   ]
  },
  {
   "cell_type": "markdown",
   "id": "2f489019",
   "metadata": {},
   "source": [
    "nombre_infected       598\n",
    "nombre_sain         17800\n",
    "nombre_exposed       1450\n",
    "nombre_recovered      152\n",
    "Name: 15, dtype: int64"
   ]
  },
  {
   "cell_type": "markdown",
   "id": "591b3534",
   "metadata": {},
   "source": [
    "nombre_infected       797\n",
    "nombre_sain         17081\n",
    "nombre_exposed       1916\n",
    "nombre_recovered      206\n",
    "Name: 16, dtype: int64"
   ]
  },
  {
   "cell_type": "markdown",
   "id": "e3665c85",
   "metadata": {},
   "source": [
    "nombre_infected      1076\n",
    "nombre_sain         16186\n",
    "nombre_exposed       2450\n",
    "nombre_recovered      288\n",
    "Name: 17, dtype: int64"
   ]
  },
  {
   "cell_type": "markdown",
   "id": "7e13cdf4",
   "metadata": {},
   "source": [
    "nombre_infected      1441\n",
    "nombre_sain         15036\n",
    "nombre_exposed       3160\n",
    "nombre_recovered      363\n",
    "Name: 18, dtype: int64"
   ]
  },
  {
   "cell_type": "markdown",
   "id": "e0dd4f59",
   "metadata": {},
   "source": [
    "nombre_infected      1932\n",
    "nombre_sain         13679\n",
    "nombre_exposed       3904\n",
    "nombre_recovered      485\n",
    "Name: 19, dtype: int64"
   ]
  },
  {
   "cell_type": "markdown",
   "id": "bca70ba5",
   "metadata": {},
   "source": [
    "nombre_infected      2531\n",
    "nombre_sain         12120\n",
    "nombre_exposed       4674\n",
    "nombre_recovered      675\n",
    "Name: 20, dtype: int64"
   ]
  },
  {
   "cell_type": "markdown",
   "id": "1faad6be",
   "metadata": {},
   "source": [
    "nombre_infected      3197\n",
    "nombre_sain         10352\n",
    "nombre_exposed       5523\n",
    "nombre_recovered      928\n",
    "Name: 21, dtype: int64"
   ]
  },
  {
   "cell_type": "markdown",
   "id": "871fd229",
   "metadata": {},
   "source": [
    "nombre_infected     4023\n",
    "nombre_sain         8511\n",
    "nombre_exposed      6247\n",
    "nombre_recovered    1219\n",
    "Name: 22, dtype: int64"
   ]
  },
  {
   "cell_type": "markdown",
   "id": "28be7998",
   "metadata": {},
   "source": [
    "nombre_infected     4958\n",
    "nombre_sain         6755\n",
    "nombre_exposed      6683\n",
    "nombre_recovered    1604\n",
    "Name: 23, dtype: int64"
   ]
  },
  {
   "cell_type": "markdown",
   "id": "006820aa",
   "metadata": {},
   "source": [
    "nombre_infected     5863\n",
    "nombre_sain         5164\n",
    "nombre_exposed      6838\n",
    "nombre_recovered    2135\n",
    "Name: 24, dtype: int64"
   ]
  },
  {
   "cell_type": "markdown",
   "id": "c1228760",
   "metadata": {},
   "source": [
    "nombre_infected     6826\n",
    "nombre_sain         3839\n",
    "nombre_exposed      6614\n",
    "nombre_recovered    2721\n",
    "Name: 25, dtype: int64"
   ]
  },
  {
   "cell_type": "markdown",
   "id": "ed482c26",
   "metadata": {},
   "source": [
    "nombre_infected     7730\n",
    "nombre_sain         2735\n",
    "nombre_exposed      6121\n",
    "nombre_recovered    3414\n",
    "Name: 26, dtype: int64"
   ]
  },
  {
   "cell_type": "markdown",
   "id": "f6bee471",
   "metadata": {},
   "source": [
    "nombre_infected     8494\n",
    "nombre_sain         1915\n",
    "nombre_exposed      5402\n",
    "nombre_recovered    4189\n",
    "Name: 27, dtype: int64"
   ]
  },
  {
   "cell_type": "markdown",
   "id": "d38d43c8",
   "metadata": {},
   "source": [
    "nombre_infected     8862\n",
    "nombre_sain         1313\n",
    "nombre_exposed      4680\n",
    "nombre_recovered    5145\n",
    "Name: 28, dtype: int64"
   ]
  },
  {
   "cell_type": "markdown",
   "id": "6f19f490",
   "metadata": {},
   "source": [
    "nombre_infected     9067\n",
    "nombre_sain          872\n",
    "nombre_exposed      3876\n",
    "nombre_recovered    6185\n",
    "Name: 29, dtype: int64"
   ]
  },
  {
   "cell_type": "markdown",
   "id": "b1e1ac6b",
   "metadata": {},
   "source": [
    "nombre_infected     8977\n",
    "nombre_sain          592\n",
    "nombre_exposed      3146\n",
    "nombre_recovered    7285\n",
    "Name: 30, dtype: int64"
   ]
  },
  {
   "cell_type": "markdown",
   "id": "9e951710",
   "metadata": {},
   "source": [
    "nombre_infected     8755\n",
    "nombre_sain          406\n",
    "nombre_exposed      2472\n",
    "nombre_recovered    8367\n",
    "Name: 31, dtype: int64"
   ]
  },
  {
   "cell_type": "markdown",
   "id": "467ee470",
   "metadata": {},
   "source": [
    "nombre_infected     8324\n",
    "nombre_sain          280\n",
    "nombre_exposed      1958\n",
    "nombre_recovered    9438\n",
    "Name: 32, dtype: int64"
   ]
  },
  {
   "cell_type": "markdown",
   "id": "f8e23a84",
   "metadata": {},
   "source": [
    "nombre_infected      7754\n",
    "nombre_sain           210\n",
    "nombre_exposed       1524\n",
    "nombre_recovered    10512\n",
    "Name: 33, dtype: int64"
   ]
  },
  {
   "cell_type": "markdown",
   "id": "068b64c1",
   "metadata": {},
   "source": [
    "nombre_infected      7169\n",
    "nombre_sain           176\n",
    "nombre_exposed       1153\n",
    "nombre_recovered    11502\n",
    "Name: 34, dtype: int64"
   ]
  },
  {
   "cell_type": "markdown",
   "id": "0090b98b",
   "metadata": {},
   "source": [
    "nombre_infected      6530\n",
    "nombre_sain           141\n",
    "nombre_exposed        874\n",
    "nombre_recovered    12455\n",
    "Name: 35, dtype: int64"
   ]
  },
  {
   "cell_type": "markdown",
   "id": "8302417f",
   "metadata": {},
   "source": [
    "nombre_infected      5818\n",
    "nombre_sain           129\n",
    "nombre_exposed        677\n",
    "nombre_recovered    13376\n",
    "Name: 36, dtype: int64"
   ]
  },
  {
   "cell_type": "markdown",
   "id": "684b2b9a",
   "metadata": {},
   "source": [
    "nombre_infected      5180\n",
    "nombre_sain           127\n",
    "nombre_exposed        530\n",
    "nombre_recovered    14163\n",
    "Name: 37, dtype: int64"
   ]
  },
  {
   "cell_type": "markdown",
   "id": "984de4e9",
   "metadata": {},
   "source": [
    "nombre_infected      4562\n",
    "nombre_sain           125\n",
    "nombre_exposed        437\n",
    "nombre_recovered    14876\n",
    "Name: 38, dtype: int64"
   ]
  },
  {
   "cell_type": "markdown",
   "id": "a975bfe7",
   "metadata": {},
   "source": [
    "nombre_infected      4007\n",
    "nombre_sain           140\n",
    "nombre_exposed        349\n",
    "nombre_recovered    15504\n",
    "Name: 39, dtype: int64"
   ]
  },
  {
   "cell_type": "markdown",
   "id": "31aea1cb",
   "metadata": {},
   "source": [
    "nombre_infected      3515\n",
    "nombre_sain           163\n",
    "nombre_exposed        288\n",
    "nombre_recovered    16034\n",
    "Name: 40, dtype: int64"
   ]
  },
  {
   "cell_type": "markdown",
   "id": "9b88709b",
   "metadata": {},
   "source": [
    "nombre_infected      3011\n",
    "nombre_sain           192\n",
    "nombre_exposed        241\n",
    "nombre_recovered    16556\n",
    "Name: 41, dtype: int64"
   ]
  },
  {
   "cell_type": "markdown",
   "id": "61464dcd",
   "metadata": {},
   "source": [
    "nombre_infected      2607\n",
    "nombre_sain           201\n",
    "nombre_exposed        210\n",
    "nombre_recovered    16982\n",
    "Name: 42, dtype: int64"
   ]
  },
  {
   "cell_type": "markdown",
   "id": "08fb241c",
   "metadata": {},
   "source": [
    "nombre_infected      2224\n",
    "nombre_sain           228\n",
    "nombre_exposed        193\n",
    "nombre_recovered    17355\n",
    "Name: 43, dtype: int64"
   ]
  },
  {
   "cell_type": "markdown",
   "id": "1ccbbbe3",
   "metadata": {},
   "source": [
    "nombre_infected      1877\n",
    "nombre_sain           255\n",
    "nombre_exposed        187\n",
    "nombre_recovered    17681\n",
    "Name: 44, dtype: int64"
   ]
  },
  {
   "cell_type": "markdown",
   "id": "04d2dde1",
   "metadata": {},
   "source": [
    "nombre_infected      1573\n",
    "nombre_sain           285\n",
    "nombre_exposed        173\n",
    "nombre_recovered    17969\n",
    "Name: 45, dtype: int64"
   ]
  },
  {
   "cell_type": "markdown",
   "id": "12a4301d",
   "metadata": {},
   "source": [
    "nombre_infected      1327\n",
    "nombre_sain           339\n",
    "nombre_exposed        156\n",
    "nombre_recovered    18178\n",
    "Name: 46, dtype: int64"
   ]
  },
  {
   "cell_type": "markdown",
   "id": "bd3d5771",
   "metadata": {},
   "source": [
    "nombre_infected      1159\n",
    "nombre_sain           380\n",
    "nombre_exposed        130\n",
    "nombre_recovered    18331\n",
    "Name: 47, dtype: int64"
   ]
  },
  {
   "cell_type": "markdown",
   "id": "322ac5dd",
   "metadata": {},
   "source": [
    "nombre_infected       981\n",
    "nombre_sain           444\n",
    "nombre_exposed        121\n",
    "nombre_recovered    18454\n",
    "Name: 48, dtype: int64"
   ]
  },
  {
   "cell_type": "markdown",
   "id": "dd23f113",
   "metadata": {},
   "source": [
    "nombre_infected       841\n",
    "nombre_sain           477\n",
    "nombre_exposed        119\n",
    "nombre_recovered    18563\n",
    "Name: 49, dtype: int64"
   ]
  },
  {
   "cell_type": "markdown",
   "id": "a5cd1943",
   "metadata": {},
   "source": [
    "nombre_infected       740\n",
    "nombre_sain           510\n",
    "nombre_exposed        112\n",
    "nombre_recovered    18638\n",
    "Name: 50, dtype: int64"
   ]
  },
  {
   "cell_type": "markdown",
   "id": "46546fd2",
   "metadata": {},
   "source": [
    "nombre_infected       666\n",
    "nombre_sain           561\n",
    "nombre_exposed        105\n",
    "nombre_recovered    18668\n",
    "Name: 51, dtype: int64"
   ]
  },
  {
   "cell_type": "markdown",
   "id": "0cfe1b6c",
   "metadata": {},
   "source": [
    "nombre_infected       585\n",
    "nombre_sain           623\n",
    "nombre_exposed         90\n",
    "nombre_recovered    18702\n",
    "Name: 52, dtype: int64"
   ]
  },
  {
   "cell_type": "markdown",
   "id": "20e20915",
   "metadata": {},
   "source": [
    "nombre_infected       522\n",
    "nombre_sain           655\n",
    "nombre_exposed         90\n",
    "nombre_recovered    18733\n",
    "Name: 53, dtype: int64"
   ]
  },
  {
   "cell_type": "markdown",
   "id": "a0f83d63",
   "metadata": {},
   "source": [
    "nombre_infected       472\n",
    "nombre_sain           698\n",
    "nombre_exposed         97\n",
    "nombre_recovered    18733\n",
    "Name: 54, dtype: int64"
   ]
  },
  {
   "cell_type": "markdown",
   "id": "c52d3c9e",
   "metadata": {},
   "source": [
    "nombre_infected       418\n",
    "nombre_sain           745\n",
    "nombre_exposed         89\n",
    "nombre_recovered    18748\n",
    "Name: 55, dtype: int64"
   ]
  },
  {
   "cell_type": "markdown",
   "id": "81f2c24a",
   "metadata": {},
   "source": [
    "nombre_infected       372\n",
    "nombre_sain           783\n",
    "nombre_exposed         80\n",
    "nombre_recovered    18765\n",
    "Name: 56, dtype: int64"
   ]
  },
  {
   "cell_type": "markdown",
   "id": "a65d32f2",
   "metadata": {},
   "source": [
    "nombre_infected       344\n",
    "nombre_sain           844\n",
    "nombre_exposed         70\n",
    "nombre_recovered    18742\n",
    "Name: 57, dtype: int64"
   ]
  },
  {
   "cell_type": "markdown",
   "id": "dcff4d66",
   "metadata": {},
   "source": [
    "nombre_infected       314\n",
    "nombre_sain           892\n",
    "nombre_exposed         61\n",
    "nombre_recovered    18733\n",
    "Name: 58, dtype: int64"
   ]
  },
  {
   "cell_type": "markdown",
   "id": "fd4a7b93",
   "metadata": {},
   "source": [
    "nombre_infected       286\n",
    "nombre_sain           931\n",
    "nombre_exposed         55\n",
    "nombre_recovered    18728\n",
    "Name: 59, dtype: int64"
   ]
  },
  {
   "cell_type": "markdown",
   "id": "934ca57b",
   "metadata": {},
   "source": [
    "nombre_infected       245\n",
    "nombre_sain           993\n",
    "nombre_exposed         54\n",
    "nombre_recovered    18708\n",
    "Name: 60, dtype: int64"
   ]
  },
  {
   "cell_type": "markdown",
   "id": "b788297a",
   "metadata": {},
   "source": [
    "nombre_infected       229\n",
    "nombre_sain          1038\n",
    "nombre_exposed         51\n",
    "nombre_recovered    18682\n",
    "Name: 61, dtype: int64"
   ]
  },
  {
   "cell_type": "markdown",
   "id": "194882a1",
   "metadata": {},
   "source": [
    "nombre_infected       201\n",
    "nombre_sain          1089\n",
    "nombre_exposed         60\n",
    "nombre_recovered    18650\n",
    "Name: 62, dtype: int64"
   ]
  },
  {
   "cell_type": "markdown",
   "id": "7a7a5248",
   "metadata": {},
   "source": [
    "nombre_infected       173\n",
    "nombre_sain          1166\n",
    "nombre_exposed         59\n",
    "nombre_recovered    18602\n",
    "Name: 63, dtype: int64"
   ]
  },
  {
   "cell_type": "markdown",
   "id": "adc5b469",
   "metadata": {},
   "source": [
    "nombre_infected       158\n",
    "nombre_sain          1245\n",
    "nombre_exposed         53\n",
    "nombre_recovered    18544\n",
    "Name: 64, dtype: int64"
   ]
  },
  {
   "cell_type": "markdown",
   "id": "16d18f77",
   "metadata": {},
   "source": [
    "nombre_infected       141\n",
    "nombre_sain          1304\n",
    "nombre_exposed         50\n",
    "nombre_recovered    18505\n",
    "Name: 65, dtype: int64"
   ]
  },
  {
   "cell_type": "markdown",
   "id": "2d048d5e",
   "metadata": {},
   "source": [
    "nombre_infected       132\n",
    "nombre_sain          1395\n",
    "nombre_exposed         43\n",
    "nombre_recovered    18430\n",
    "Name: 66, dtype: int64"
   ]
  },
  {
   "cell_type": "markdown",
   "id": "368992dd",
   "metadata": {},
   "source": [
    "nombre_infected       129\n",
    "nombre_sain          1481\n",
    "nombre_exposed         40\n",
    "nombre_recovered    18350\n",
    "Name: 67, dtype: int64"
   ]
  },
  {
   "cell_type": "markdown",
   "id": "db425d17",
   "metadata": {},
   "source": [
    "nombre_infected       110\n",
    "nombre_sain          1591\n",
    "nombre_exposed         49\n",
    "nombre_recovered    18250\n",
    "Name: 68, dtype: int64"
   ]
  },
  {
   "cell_type": "markdown",
   "id": "dcc5787c",
   "metadata": {},
   "source": [
    "nombre_infected        96\n",
    "nombre_sain          1679\n",
    "nombre_exposed         52\n",
    "nombre_recovered    18173\n",
    "Name: 69, dtype: int64"
   ]
  },
  {
   "cell_type": "markdown",
   "id": "94dabfb9",
   "metadata": {},
   "source": [
    "nombre_infected        97\n",
    "nombre_sain          1766\n",
    "nombre_exposed         47\n",
    "nombre_recovered    18090\n",
    "Name: 70, dtype: int64"
   ]
  },
  {
   "cell_type": "markdown",
   "id": "cfa7e46d",
   "metadata": {},
   "source": [
    "nombre_infected        95\n",
    "nombre_sain          1844\n",
    "nombre_exposed         47\n",
    "nombre_recovered    18014\n",
    "Name: 71, dtype: int64"
   ]
  },
  {
   "cell_type": "markdown",
   "id": "b5e5a479",
   "metadata": {},
   "source": [
    "nombre_infected        89\n",
    "nombre_sain          1911\n",
    "nombre_exposed         48\n",
    "nombre_recovered    17952\n",
    "Name: 72, dtype: int64"
   ]
  },
  {
   "cell_type": "markdown",
   "id": "c0cd0bb5",
   "metadata": {},
   "source": [
    "nombre_infected        86\n",
    "nombre_sain          1989\n",
    "nombre_exposed         45\n",
    "nombre_recovered    17880\n",
    "Name: 73, dtype: int64"
   ]
  },
  {
   "cell_type": "markdown",
   "id": "c2db32bb",
   "metadata": {},
   "source": [
    "nombre_infected        79\n",
    "nombre_sain          2070\n",
    "nombre_exposed         47\n",
    "nombre_recovered    17804\n",
    "Name: 74, dtype: int64"
   ]
  },
  {
   "cell_type": "markdown",
   "id": "918d238b",
   "metadata": {},
   "source": [
    "nombre_infected        70\n",
    "nombre_sain          2148\n",
    "nombre_exposed         53\n",
    "nombre_recovered    17729\n",
    "Name: 75, dtype: int64"
   ]
  },
  {
   "cell_type": "markdown",
   "id": "f579b1d8",
   "metadata": {},
   "source": [
    "nombre_infected        72\n",
    "nombre_sain          2215\n",
    "nombre_exposed         50\n",
    "nombre_recovered    17663\n",
    "Name: 76, dtype: int64"
   ]
  },
  {
   "cell_type": "markdown",
   "id": "df466f50",
   "metadata": {},
   "source": [
    "nombre_infected        72\n",
    "nombre_sain          2288\n",
    "nombre_exposed         45\n",
    "nombre_recovered    17595\n",
    "Name: 77, dtype: int64"
   ]
  },
  {
   "cell_type": "markdown",
   "id": "32c18095",
   "metadata": {},
   "source": [
    "nombre_infected        63\n",
    "nombre_sain          2358\n",
    "nombre_exposed         46\n",
    "nombre_recovered    17533\n",
    "Name: 78, dtype: int64"
   ]
  },
  {
   "cell_type": "markdown",
   "id": "a4ec1723",
   "metadata": {},
   "source": [
    "nombre_infected        71\n",
    "nombre_sain          2415\n",
    "nombre_exposed         43\n",
    "nombre_recovered    17471\n",
    "Name: 79, dtype: int64"
   ]
  },
  {
   "cell_type": "markdown",
   "id": "d02132e8",
   "metadata": {},
   "source": [
    "nombre_infected        70\n",
    "nombre_sain          2457\n",
    "nombre_exposed         52\n",
    "nombre_recovered    17421\n",
    "Name: 80, dtype: int64"
   ]
  },
  {
   "cell_type": "markdown",
   "id": "c9b066f0",
   "metadata": {},
   "source": [
    "nombre_infected        71\n",
    "nombre_sain          2512\n",
    "nombre_exposed         54\n",
    "nombre_recovered    17363\n",
    "Name: 81, dtype: int64"
   ]
  },
  {
   "cell_type": "markdown",
   "id": "11fe410d",
   "metadata": {},
   "source": [
    "nombre_infected        73\n",
    "nombre_sain          2546\n",
    "nombre_exposed         62\n",
    "nombre_recovered    17319\n",
    "Name: 82, dtype: int64"
   ]
  },
  {
   "cell_type": "markdown",
   "id": "04fe67b4",
   "metadata": {},
   "source": [
    "nombre_infected        70\n",
    "nombre_sain          2599\n",
    "nombre_exposed         68\n",
    "nombre_recovered    17263\n",
    "Name: 83, dtype: int64"
   ]
  },
  {
   "cell_type": "markdown",
   "id": "2598d28c",
   "metadata": {},
   "source": [
    "nombre_infected        78\n",
    "nombre_sain          2637\n",
    "nombre_exposed         77\n",
    "nombre_recovered    17208\n",
    "Name: 84, dtype: int64"
   ]
  },
  {
   "cell_type": "markdown",
   "id": "0e651a5a",
   "metadata": {},
   "source": [
    "nombre_infected        86\n",
    "nombre_sain          2692\n",
    "nombre_exposed         74\n",
    "nombre_recovered    17148\n",
    "Name: 85, dtype: int64"
   ]
  },
  {
   "cell_type": "markdown",
   "id": "8b8a613a",
   "metadata": {},
   "source": [
    "nombre_infected       105\n",
    "nombre_sain          2742\n",
    "nombre_exposed         68\n",
    "nombre_recovered    17085\n",
    "Name: 86, dtype: int64"
   ]
  },
  {
   "cell_type": "markdown",
   "id": "005f4cfe",
   "metadata": {},
   "source": [
    "nombre_infected       111\n",
    "nombre_sain          2812\n",
    "nombre_exposed         61\n",
    "nombre_recovered    17016\n",
    "Name: 87, dtype: int64"
   ]
  },
  {
   "cell_type": "markdown",
   "id": "ad6fb3af",
   "metadata": {},
   "source": [
    "nombre_infected       116\n",
    "nombre_sain          2864\n",
    "nombre_exposed         65\n",
    "nombre_recovered    16955\n",
    "Name: 88, dtype: int64"
   ]
  },
  {
   "cell_type": "markdown",
   "id": "1e08d7c1",
   "metadata": {},
   "source": [
    "nombre_infected       117\n",
    "nombre_sain          2893\n",
    "nombre_exposed         75\n",
    "nombre_recovered    16915\n",
    "Name: 89, dtype: int64"
   ]
  },
  {
   "cell_type": "markdown",
   "id": "eaacf5ab",
   "metadata": {},
   "source": [
    "nombre_infected       117\n",
    "nombre_sain          2916\n",
    "nombre_exposed         88\n",
    "nombre_recovered    16879\n",
    "Name: 90, dtype: int64"
   ]
  },
  {
   "cell_type": "markdown",
   "id": "3541a77b",
   "metadata": {},
   "source": [
    "nombre_infected       125\n",
    "nombre_sain          2945\n",
    "nombre_exposed         90\n",
    "nombre_recovered    16840\n",
    "Name: 91, dtype: int64"
   ]
  },
  {
   "cell_type": "markdown",
   "id": "e1d563a7",
   "metadata": {},
   "source": [
    "nombre_infected       133\n",
    "nombre_sain          2991\n",
    "nombre_exposed         91\n",
    "nombre_recovered    16785\n",
    "Name: 92, dtype: int64"
   ]
  },
  {
   "cell_type": "markdown",
   "id": "ade29d7e",
   "metadata": {},
   "source": [
    "nombre_infected       149\n",
    "nombre_sain          3008\n",
    "nombre_exposed         89\n",
    "nombre_recovered    16754\n",
    "Name: 93, dtype: int64"
   ]
  },
  {
   "cell_type": "markdown",
   "id": "6f75d372",
   "metadata": {},
   "source": [
    "nombre_infected       153\n",
    "nombre_sain          3024\n",
    "nombre_exposed         93\n",
    "nombre_recovered    16730\n",
    "Name: 94, dtype: int64"
   ]
  },
  {
   "cell_type": "markdown",
   "id": "91126f15",
   "metadata": {},
   "source": [
    "nombre_infected       165\n",
    "nombre_sain          3047\n",
    "nombre_exposed        100\n",
    "nombre_recovered    16688\n",
    "Name: 95, dtype: int64"
   ]
  },
  {
   "cell_type": "markdown",
   "id": "de59d7ec",
   "metadata": {},
   "source": [
    "nombre_infected       182\n",
    "nombre_sain          3065\n",
    "nombre_exposed        102\n",
    "nombre_recovered    16651\n",
    "Name: 96, dtype: int64"
   ]
  },
  {
   "cell_type": "markdown",
   "id": "60dc51c2",
   "metadata": {},
   "source": [
    "nombre_infected       172\n",
    "nombre_sain          3079\n",
    "nombre_exposed        130\n",
    "nombre_recovered    16619\n",
    "Name: 97, dtype: int64"
   ]
  },
  {
   "cell_type": "markdown",
   "id": "a5b558c6",
   "metadata": {},
   "source": [
    "nombre_infected       186\n",
    "nombre_sain          3077\n",
    "nombre_exposed        136\n",
    "nombre_recovered    16601\n",
    "Name: 98, dtype: int64"
   ]
  },
  {
   "cell_type": "markdown",
   "id": "7f3589e9",
   "metadata": {},
   "source": [
    "nombre_infected       194\n",
    "nombre_sain          3111\n",
    "nombre_exposed        147\n",
    "nombre_recovered    16548\n",
    "Name: 99, dtype: int64"
   ]
  },
  {
   "cell_type": "markdown",
   "id": "c0cb1200",
   "metadata": {},
   "source": [
    "nombre_infected       207\n",
    "nombre_sain          3148\n",
    "nombre_exposed        144\n",
    "nombre_recovered    16501\n",
    "Name: 100, dtype: int64"
   ]
  },
  {
   "cell_type": "markdown",
   "id": "2111d31c",
   "metadata": {},
   "source": [
    "nombre_infected       228\n",
    "nombre_sain          3179\n",
    "nombre_exposed        140\n",
    "nombre_recovered    16453\n",
    "Name: 101, dtype: int64"
   ]
  },
  {
   "cell_type": "markdown",
   "id": "86a48b9c",
   "metadata": {},
   "source": [
    "nombre_infected       240\n",
    "nombre_sain          3204\n",
    "nombre_exposed        150\n",
    "nombre_recovered    16406\n",
    "Name: 102, dtype: int64"
   ]
  },
  {
   "cell_type": "markdown",
   "id": "ec738fac",
   "metadata": {},
   "source": [
    "nombre_infected       257\n",
    "nombre_sain          3233\n",
    "nombre_exposed        148\n",
    "nombre_recovered    16362\n",
    "Name: 103, dtype: int64"
   ]
  },
  {
   "cell_type": "markdown",
   "id": "9ba450cf",
   "metadata": {},
   "source": [
    "nombre_infected       262\n",
    "nombre_sain          3242\n",
    "nombre_exposed        161\n",
    "nombre_recovered    16335\n",
    "Name: 104, dtype: int64"
   ]
  },
  {
   "cell_type": "markdown",
   "id": "aeb05d11",
   "metadata": {},
   "source": [
    "nombre_infected       276\n",
    "nombre_sain          3267\n",
    "nombre_exposed        172\n",
    "nombre_recovered    16285\n",
    "Name: 105, dtype: int64"
   ]
  },
  {
   "cell_type": "markdown",
   "id": "dbfadf25",
   "metadata": {},
   "source": [
    "nombre_infected       275\n",
    "nombre_sain          3277\n",
    "nombre_exposed        191\n",
    "nombre_recovered    16257\n",
    "Name: 106, dtype: int64"
   ]
  },
  {
   "cell_type": "markdown",
   "id": "ce1f0a2a",
   "metadata": {},
   "source": [
    "nombre_infected       284\n",
    "nombre_sain          3274\n",
    "nombre_exposed        202\n",
    "nombre_recovered    16240\n",
    "Name: 107, dtype: int64"
   ]
  },
  {
   "cell_type": "markdown",
   "id": "5707ed4f",
   "metadata": {},
   "source": [
    "nombre_infected       303\n",
    "nombre_sain          3268\n",
    "nombre_exposed        215\n",
    "nombre_recovered    16214\n",
    "Name: 108, dtype: int64"
   ]
  },
  {
   "cell_type": "markdown",
   "id": "b357c006",
   "metadata": {},
   "source": [
    "nombre_infected       338\n",
    "nombre_sain          3256\n",
    "nombre_exposed        230\n",
    "nombre_recovered    16176\n",
    "Name: 109, dtype: int64"
   ]
  },
  {
   "cell_type": "markdown",
   "id": "e70dbc13",
   "metadata": {},
   "source": [
    "nombre_infected       357\n",
    "nombre_sain          3224\n",
    "nombre_exposed        254\n",
    "nombre_recovered    16165\n",
    "Name: 110, dtype: int64"
   ]
  },
  {
   "cell_type": "markdown",
   "id": "ffe585bb",
   "metadata": {},
   "source": [
    "nombre_infected       384\n",
    "nombre_sain          3203\n",
    "nombre_exposed        261\n",
    "nombre_recovered    16152\n",
    "Name: 111, dtype: int64"
   ]
  },
  {
   "cell_type": "markdown",
   "id": "55cf97bb",
   "metadata": {},
   "source": [
    "nombre_infected       405\n",
    "nombre_sain          3171\n",
    "nombre_exposed        275\n",
    "nombre_recovered    16149\n",
    "Name: 112, dtype: int64"
   ]
  },
  {
   "cell_type": "markdown",
   "id": "6e7eb7d3",
   "metadata": {},
   "source": [
    "nombre_infected       414\n",
    "nombre_sain          3129\n",
    "nombre_exposed        317\n",
    "nombre_recovered    16140\n",
    "Name: 113, dtype: int64"
   ]
  },
  {
   "cell_type": "markdown",
   "id": "2c8cd395",
   "metadata": {},
   "source": [
    "nombre_infected       457\n",
    "nombre_sain          3066\n",
    "nombre_exposed        321\n",
    "nombre_recovered    16156\n",
    "Name: 114, dtype: int64"
   ]
  },
  {
   "cell_type": "markdown",
   "id": "fdaf77ca",
   "metadata": {},
   "source": [
    "nombre_infected       495\n",
    "nombre_sain          3009\n",
    "nombre_exposed        335\n",
    "nombre_recovered    16161\n",
    "Name: 115, dtype: int64"
   ]
  },
  {
   "cell_type": "markdown",
   "id": "4d200ac6",
   "metadata": {},
   "source": [
    "nombre_infected       507\n",
    "nombre_sain          2945\n",
    "nombre_exposed        363\n",
    "nombre_recovered    16185\n",
    "Name: 116, dtype: int64"
   ]
  },
  {
   "cell_type": "markdown",
   "id": "450d6230",
   "metadata": {},
   "source": [
    "nombre_infected       547\n",
    "nombre_sain          2892\n",
    "nombre_exposed        363\n",
    "nombre_recovered    16198\n",
    "Name: 117, dtype: int64"
   ]
  },
  {
   "cell_type": "markdown",
   "id": "e1a99e9b",
   "metadata": {},
   "source": [
    "nombre_infected       576\n",
    "nombre_sain          2834\n",
    "nombre_exposed        385\n",
    "nombre_recovered    16205\n",
    "Name: 118, dtype: int64"
   ]
  },
  {
   "cell_type": "markdown",
   "id": "c7d350e0",
   "metadata": {},
   "source": [
    "nombre_infected       594\n",
    "nombre_sain          2765\n",
    "nombre_exposed        426\n",
    "nombre_recovered    16215\n",
    "Name: 119, dtype: int64"
   ]
  },
  {
   "cell_type": "markdown",
   "id": "9f4c4a4d",
   "metadata": {},
   "source": [
    "nombre_infected       613\n",
    "nombre_sain          2722\n",
    "nombre_exposed        439\n",
    "nombre_recovered    16226\n",
    "Name: 120, dtype: int64"
   ]
  },
  {
   "cell_type": "markdown",
   "id": "4f4d25c9",
   "metadata": {},
   "source": [
    "nombre_infected       645\n",
    "nombre_sain          2678\n",
    "nombre_exposed        440\n",
    "nombre_recovered    16237\n",
    "Name: 121, dtype: int64"
   ]
  },
  {
   "cell_type": "markdown",
   "id": "53f3d930",
   "metadata": {},
   "source": [
    "nombre_infected       676\n",
    "nombre_sain          2631\n",
    "nombre_exposed        446\n",
    "nombre_recovered    16247\n",
    "Name: 122, dtype: int64"
   ]
  },
  {
   "cell_type": "markdown",
   "id": "1d4bed25",
   "metadata": {},
   "source": [
    "nombre_infected       703\n",
    "nombre_sain          2578\n",
    "nombre_exposed        449\n",
    "nombre_recovered    16270\n",
    "Name: 123, dtype: int64"
   ]
  },
  {
   "cell_type": "markdown",
   "id": "561bc999",
   "metadata": {},
   "source": [
    "nombre_infected       724\n",
    "nombre_sain          2540\n",
    "nombre_exposed        446\n",
    "nombre_recovered    16290\n",
    "Name: 124, dtype: int64"
   ]
  },
  {
   "cell_type": "markdown",
   "id": "bf46f376",
   "metadata": {},
   "source": [
    "nombre_infected       744\n",
    "nombre_sain          2499\n",
    "nombre_exposed        462\n",
    "nombre_recovered    16295\n",
    "Name: 125, dtype: int64"
   ]
  },
  {
   "cell_type": "markdown",
   "id": "16e6c86f",
   "metadata": {},
   "source": [
    "nombre_infected       774\n",
    "nombre_sain          2461\n",
    "nombre_exposed        470\n",
    "nombre_recovered    16295\n",
    "Name: 126, dtype: int64"
   ]
  },
  {
   "cell_type": "markdown",
   "id": "fab1e32d",
   "metadata": {},
   "source": [
    "nombre_infected       769\n",
    "nombre_sain          2413\n",
    "nombre_exposed        487\n",
    "nombre_recovered    16331\n",
    "Name: 127, dtype: int64"
   ]
  },
  {
   "cell_type": "markdown",
   "id": "d3a805f6",
   "metadata": {},
   "source": [
    "nombre_infected       793\n",
    "nombre_sain          2394\n",
    "nombre_exposed        457\n",
    "nombre_recovered    16356\n",
    "Name: 128, dtype: int64"
   ]
  },
  {
   "cell_type": "markdown",
   "id": "0891df0e",
   "metadata": {},
   "source": [
    "nombre_infected       813\n",
    "nombre_sain          2362\n",
    "nombre_exposed        448\n",
    "nombre_recovered    16377\n",
    "Name: 129, dtype: int64"
   ]
  },
  {
   "cell_type": "markdown",
   "id": "363883da",
   "metadata": {},
   "source": [
    "nombre_infected       802\n",
    "nombre_sain          2316\n",
    "nombre_exposed        465\n",
    "nombre_recovered    16417\n",
    "Name: 130, dtype: int64"
   ]
  },
  {
   "cell_type": "markdown",
   "id": "fd7f7af2",
   "metadata": {},
   "source": [
    "nombre_infected       800\n",
    "nombre_sain          2273\n",
    "nombre_exposed        482\n",
    "nombre_recovered    16445\n",
    "Name: 131, dtype: int64"
   ]
  },
  {
   "cell_type": "markdown",
   "id": "6d5ae687",
   "metadata": {},
   "source": [
    "nombre_infected       821\n",
    "nombre_sain          2234\n",
    "nombre_exposed        491\n",
    "nombre_recovered    16454\n",
    "Name: 132, dtype: int64"
   ]
  },
  {
   "cell_type": "markdown",
   "id": "640e172d",
   "metadata": {},
   "source": [
    "nombre_infected       834\n",
    "nombre_sain          2168\n",
    "nombre_exposed        510\n",
    "nombre_recovered    16488\n",
    "Name: 133, dtype: int64"
   ]
  },
  {
   "cell_type": "markdown",
   "id": "991e9d01",
   "metadata": {},
   "source": [
    "nombre_infected       825\n",
    "nombre_sain          2122\n",
    "nombre_exposed        516\n",
    "nombre_recovered    16537\n",
    "Name: 134, dtype: int64"
   ]
  },
  {
   "cell_type": "markdown",
   "id": "1e60d7de",
   "metadata": {},
   "source": [
    "nombre_infected       847\n",
    "nombre_sain          2091\n",
    "nombre_exposed        491\n",
    "nombre_recovered    16571\n",
    "Name: 135, dtype: int64"
   ]
  },
  {
   "cell_type": "markdown",
   "id": "e7de227d",
   "metadata": {},
   "source": [
    "nombre_infected       830\n",
    "nombre_sain          2070\n",
    "nombre_exposed        480\n",
    "nombre_recovered    16620\n",
    "Name: 136, dtype: int64"
   ]
  },
  {
   "cell_type": "markdown",
   "id": "3560c839",
   "metadata": {},
   "source": [
    "nombre_infected       819\n",
    "nombre_sain          2056\n",
    "nombre_exposed        485\n",
    "nombre_recovered    16640\n",
    "Name: 137, dtype: int64"
   ]
  },
  {
   "cell_type": "markdown",
   "id": "b25c213c",
   "metadata": {},
   "source": [
    "nombre_infected       823\n",
    "nombre_sain          2041\n",
    "nombre_exposed        469\n",
    "nombre_recovered    16667\n",
    "Name: 138, dtype: int64"
   ]
  },
  {
   "cell_type": "markdown",
   "id": "3ee9c246",
   "metadata": {},
   "source": [
    "nombre_infected       808\n",
    "nombre_sain          2012\n",
    "nombre_exposed        461\n",
    "nombre_recovered    16719\n",
    "Name: 139, dtype: int64"
   ]
  },
  {
   "cell_type": "markdown",
   "id": "47874563",
   "metadata": {},
   "source": [
    "nombre_infected       790\n",
    "nombre_sain          1986\n",
    "nombre_exposed        464\n",
    "nombre_recovered    16760\n",
    "Name: 140, dtype: int64"
   ]
  },
  {
   "cell_type": "markdown",
   "id": "f83fbe4b",
   "metadata": {},
   "source": [
    "nombre_infected       791\n",
    "nombre_sain          1971\n",
    "nombre_exposed        455\n",
    "nombre_recovered    16783\n",
    "Name: 141, dtype: int64"
   ]
  },
  {
   "cell_type": "markdown",
   "id": "3fa2aa32",
   "metadata": {},
   "source": [
    "nombre_infected       789\n",
    "nombre_sain          1951\n",
    "nombre_exposed        457\n",
    "nombre_recovered    16803\n",
    "Name: 142, dtype: int64"
   ]
  },
  {
   "cell_type": "markdown",
   "id": "7e03bdfc",
   "metadata": {},
   "source": [
    "nombre_infected       774\n",
    "nombre_sain          1962\n",
    "nombre_exposed        447\n",
    "nombre_recovered    16817\n",
    "Name: 143, dtype: int64"
   ]
  },
  {
   "cell_type": "markdown",
   "id": "b80abea2",
   "metadata": {},
   "source": [
    "nombre_infected       758\n",
    "nombre_sain          1945\n",
    "nombre_exposed        445\n",
    "nombre_recovered    16852\n",
    "Name: 144, dtype: int64"
   ]
  },
  {
   "cell_type": "markdown",
   "id": "cd92bdd6",
   "metadata": {},
   "source": [
    "nombre_infected       756\n",
    "nombre_sain          1942\n",
    "nombre_exposed        420\n",
    "nombre_recovered    16882\n",
    "Name: 145, dtype: int64"
   ]
  },
  {
   "cell_type": "markdown",
   "id": "38de8933",
   "metadata": {},
   "source": [
    "nombre_infected       725\n",
    "nombre_sain          1919\n",
    "nombre_exposed        414\n",
    "nombre_recovered    16942\n",
    "Name: 146, dtype: int64"
   ]
  },
  {
   "cell_type": "markdown",
   "id": "67f08dec",
   "metadata": {},
   "source": [
    "nombre_infected       719\n",
    "nombre_sain          1937\n",
    "nombre_exposed        390\n",
    "nombre_recovered    16954\n",
    "Name: 147, dtype: int64"
   ]
  },
  {
   "cell_type": "markdown",
   "id": "ff14ac62",
   "metadata": {},
   "source": [
    "nombre_infected       720\n",
    "nombre_sain          1956\n",
    "nombre_exposed        355\n",
    "nombre_recovered    16969\n",
    "Name: 148, dtype: int64"
   ]
  },
  {
   "cell_type": "markdown",
   "id": "9c341a26",
   "metadata": {},
   "source": [
    "nombre_infected       697\n",
    "nombre_sain          1941\n",
    "nombre_exposed        383\n",
    "nombre_recovered    16979\n",
    "Name: 149, dtype: int64"
   ]
  },
  {
   "cell_type": "markdown",
   "id": "0f7018b4",
   "metadata": {},
   "source": [
    "nombre_infected       685\n",
    "nombre_sain          1926\n",
    "nombre_exposed        385\n",
    "nombre_recovered    17004\n",
    "Name: 150, dtype: int64"
   ]
  },
  {
   "cell_type": "markdown",
   "id": "c2e093c9",
   "metadata": {},
   "source": [
    "nombre_infected       669\n",
    "nombre_sain          1912\n",
    "nombre_exposed        387\n",
    "nombre_recovered    17032\n",
    "Name: 151, dtype: int64"
   ]
  },
  {
   "cell_type": "markdown",
   "id": "e32af2f3",
   "metadata": {},
   "source": [
    "nombre_infected       689\n",
    "nombre_sain          1908\n",
    "nombre_exposed        374\n",
    "nombre_recovered    17029\n",
    "Name: 152, dtype: int64"
   ]
  },
  {
   "cell_type": "markdown",
   "id": "2baccb5e",
   "metadata": {},
   "source": [
    "nombre_infected       695\n",
    "nombre_sain          1906\n",
    "nombre_exposed        342\n",
    "nombre_recovered    17057\n",
    "Name: 153, dtype: int64"
   ]
  },
  {
   "cell_type": "markdown",
   "id": "99f922c3",
   "metadata": {},
   "source": [
    "nombre_infected       668\n",
    "nombre_sain          1913\n",
    "nombre_exposed        336\n",
    "nombre_recovered    17083\n",
    "Name: 154, dtype: int64"
   ]
  },
  {
   "cell_type": "markdown",
   "id": "9aec06cb",
   "metadata": {},
   "source": [
    "nombre_infected       659\n",
    "nombre_sain          1938\n",
    "nombre_exposed        322\n",
    "nombre_recovered    17081\n",
    "Name: 155, dtype: int64"
   ]
  },
  {
   "cell_type": "markdown",
   "id": "fcf755f6",
   "metadata": {},
   "source": [
    "nombre_infected       634\n",
    "nombre_sain          1933\n",
    "nombre_exposed        326\n",
    "nombre_recovered    17107\n",
    "Name: 156, dtype: int64"
   ]
  },
  {
   "cell_type": "markdown",
   "id": "c9b640c5",
   "metadata": {},
   "source": [
    "nombre_infected       629\n",
    "nombre_sain          1931\n",
    "nombre_exposed        323\n",
    "nombre_recovered    17117\n",
    "Name: 157, dtype: int64"
   ]
  },
  {
   "cell_type": "markdown",
   "id": "be34f399",
   "metadata": {},
   "source": [
    "nombre_infected       619\n",
    "nombre_sain          1943\n",
    "nombre_exposed        333\n",
    "nombre_recovered    17105\n",
    "Name: 158, dtype: int64"
   ]
  },
  {
   "cell_type": "markdown",
   "id": "7aebd46e",
   "metadata": {},
   "source": [
    "nombre_infected       599\n",
    "nombre_sain          1933\n",
    "nombre_exposed        349\n",
    "nombre_recovered    17119\n",
    "Name: 159, dtype: int64"
   ]
  },
  {
   "cell_type": "markdown",
   "id": "94e778d0",
   "metadata": {},
   "source": [
    "nombre_infected       593\n",
    "nombre_sain          1946\n",
    "nombre_exposed        351\n",
    "nombre_recovered    17110\n",
    "Name: 160, dtype: int64"
   ]
  },
  {
   "cell_type": "markdown",
   "id": "a1034816",
   "metadata": {},
   "source": [
    "nombre_infected       587\n",
    "nombre_sain          1962\n",
    "nombre_exposed        337\n",
    "nombre_recovered    17114\n",
    "Name: 161, dtype: int64"
   ]
  },
  {
   "cell_type": "markdown",
   "id": "f4a947ba",
   "metadata": {},
   "source": [
    "nombre_infected       593\n",
    "nombre_sain          1995\n",
    "nombre_exposed        301\n",
    "nombre_recovered    17111\n",
    "Name: 162, dtype: int64"
   ]
  },
  {
   "cell_type": "markdown",
   "id": "6a749606",
   "metadata": {},
   "source": [
    "nombre_infected       598\n",
    "nombre_sain          2000\n",
    "nombre_exposed        308\n",
    "nombre_recovered    17094\n",
    "Name: 163, dtype: int64"
   ]
  },
  {
   "cell_type": "markdown",
   "id": "ea47d846",
   "metadata": {},
   "source": [
    "nombre_infected       589\n",
    "nombre_sain          2015\n",
    "nombre_exposed        298\n",
    "nombre_recovered    17098\n",
    "Name: 164, dtype: int64"
   ]
  },
  {
   "cell_type": "markdown",
   "id": "5345fab9",
   "metadata": {},
   "source": [
    "nombre_infected       594\n",
    "nombre_sain          2029\n",
    "nombre_exposed        302\n",
    "nombre_recovered    17075\n",
    "Name: 165, dtype: int64"
   ]
  },
  {
   "cell_type": "markdown",
   "id": "3478f74f",
   "metadata": {},
   "source": [
    "nombre_infected       591\n",
    "nombre_sain          2022\n",
    "nombre_exposed        318\n",
    "nombre_recovered    17069\n",
    "Name: 166, dtype: int64"
   ]
  },
  {
   "cell_type": "markdown",
   "id": "a66ff0ff",
   "metadata": {},
   "source": [
    "nombre_infected       594\n",
    "nombre_sain          2037\n",
    "nombre_exposed        315\n",
    "nombre_recovered    17054\n",
    "Name: 167, dtype: int64"
   ]
  },
  {
   "cell_type": "markdown",
   "id": "7a4f04f6",
   "metadata": {},
   "source": [
    "nombre_infected       596\n",
    "nombre_sain          2063\n",
    "nombre_exposed        306\n",
    "nombre_recovered    17035\n",
    "Name: 168, dtype: int64"
   ]
  },
  {
   "cell_type": "markdown",
   "id": "8402e0a1",
   "metadata": {},
   "source": [
    "nombre_infected       574\n",
    "nombre_sain          2076\n",
    "nombre_exposed        306\n",
    "nombre_recovered    17044\n",
    "Name: 169, dtype: int64"
   ]
  },
  {
   "cell_type": "markdown",
   "id": "9c11d76a",
   "metadata": {},
   "source": [
    "nombre_infected       578\n",
    "nombre_sain          2099\n",
    "nombre_exposed        306\n",
    "nombre_recovered    17017\n",
    "Name: 170, dtype: int64"
   ]
  },
  {
   "cell_type": "markdown",
   "id": "b9fdf2f6",
   "metadata": {},
   "source": [
    "nombre_infected       571\n",
    "nombre_sain          2118\n",
    "nombre_exposed        312\n",
    "nombre_recovered    16999\n",
    "Name: 171, dtype: int64"
   ]
  },
  {
   "cell_type": "markdown",
   "id": "74cb97d5",
   "metadata": {},
   "source": [
    "nombre_infected       581\n",
    "nombre_sain          2141\n",
    "nombre_exposed        317\n",
    "nombre_recovered    16961\n",
    "Name: 172, dtype: int64"
   ]
  },
  {
   "cell_type": "markdown",
   "id": "700b7609",
   "metadata": {},
   "source": [
    "nombre_infected       586\n",
    "nombre_sain          2168\n",
    "nombre_exposed        326\n",
    "nombre_recovered    16920\n",
    "Name: 173, dtype: int64"
   ]
  },
  {
   "cell_type": "markdown",
   "id": "07442878",
   "metadata": {},
   "source": [
    "nombre_infected       598\n",
    "nombre_sain          2215\n",
    "nombre_exposed        304\n",
    "nombre_recovered    16883\n",
    "Name: 174, dtype: int64"
   ]
  },
  {
   "cell_type": "markdown",
   "id": "66db1e74",
   "metadata": {},
   "source": [
    "nombre_infected       610\n",
    "nombre_sain          2220\n",
    "nombre_exposed        322\n",
    "nombre_recovered    16848\n",
    "Name: 175, dtype: int64"
   ]
  },
  {
   "cell_type": "markdown",
   "id": "352bcce5",
   "metadata": {},
   "source": [
    "nombre_infected       589\n",
    "nombre_sain          2258\n",
    "nombre_exposed        336\n",
    "nombre_recovered    16817\n",
    "Name: 176, dtype: int64"
   ]
  },
  {
   "cell_type": "markdown",
   "id": "f225c36d",
   "metadata": {},
   "source": [
    "nombre_infected       580\n",
    "nombre_sain          2292\n",
    "nombre_exposed        341\n",
    "nombre_recovered    16787\n",
    "Name: 177, dtype: int64"
   ]
  },
  {
   "cell_type": "markdown",
   "id": "301f824d",
   "metadata": {},
   "source": [
    "nombre_infected       588\n",
    "nombre_sain          2355\n",
    "nombre_exposed        340\n",
    "nombre_recovered    16717\n",
    "Name: 178, dtype: int64"
   ]
  },
  {
   "cell_type": "markdown",
   "id": "93226742",
   "metadata": {},
   "source": [
    "nombre_infected       614\n",
    "nombre_sain          2394\n",
    "nombre_exposed        341\n",
    "nombre_recovered    16651\n",
    "Name: 179, dtype: int64"
   ]
  },
  {
   "cell_type": "markdown",
   "id": "f73df2eb",
   "metadata": {},
   "source": [
    "nombre_infected       628\n",
    "nombre_sain          2418\n",
    "nombre_exposed        353\n",
    "nombre_recovered    16601\n",
    "Name: 180, dtype: int64"
   ]
  },
  {
   "cell_type": "markdown",
   "id": "a6679332",
   "metadata": {},
   "source": [
    "nombre_infected       626\n",
    "nombre_sain          2464\n",
    "nombre_exposed        374\n",
    "nombre_recovered    16536\n",
    "Name: 181, dtype: int64"
   ]
  },
  {
   "cell_type": "markdown",
   "id": "0cf95599",
   "metadata": {},
   "source": [
    "nombre_infected       650\n",
    "nombre_sain          2478\n",
    "nombre_exposed        368\n",
    "nombre_recovered    16504\n",
    "Name: 182, dtype: int64"
   ]
  },
  {
   "cell_type": "markdown",
   "id": "c863ab1e",
   "metadata": {},
   "source": [
    "nombre_infected       661\n",
    "nombre_sain          2468\n",
    "nombre_exposed        403\n",
    "nombre_recovered    16468\n",
    "Name: 183, dtype: int64"
   ]
  },
  {
   "cell_type": "markdown",
   "id": "c3f251c1",
   "metadata": {},
   "source": [
    "nombre_infected       688\n",
    "nombre_sain          2477\n",
    "nombre_exposed        422\n",
    "nombre_recovered    16413\n",
    "Name: 184, dtype: int64"
   ]
  },
  {
   "cell_type": "markdown",
   "id": "5d63c72d",
   "metadata": {},
   "source": [
    "nombre_infected       702\n",
    "nombre_sain          2488\n",
    "nombre_exposed        425\n",
    "nombre_recovered    16385\n",
    "Name: 185, dtype: int64"
   ]
  },
  {
   "cell_type": "markdown",
   "id": "ff2fb17a",
   "metadata": {},
   "source": [
    "nombre_infected       690\n",
    "nombre_sain          2499\n",
    "nombre_exposed        451\n",
    "nombre_recovered    16360\n",
    "Name: 186, dtype: int64"
   ]
  },
  {
   "cell_type": "markdown",
   "id": "3d25b52a",
   "metadata": {},
   "source": [
    "nombre_infected       728\n",
    "nombre_sain          2493\n",
    "nombre_exposed        461\n",
    "nombre_recovered    16318\n",
    "Name: 187, dtype: int64"
   ]
  },
  {
   "cell_type": "markdown",
   "id": "50f89f77",
   "metadata": {},
   "source": [
    "nombre_infected       741\n",
    "nombre_sain          2514\n",
    "nombre_exposed        461\n",
    "nombre_recovered    16284\n",
    "Name: 188, dtype: int64"
   ]
  },
  {
   "cell_type": "markdown",
   "id": "d0af0175",
   "metadata": {},
   "source": [
    "nombre_infected       776\n",
    "nombre_sain          2491\n",
    "nombre_exposed        464\n",
    "nombre_recovered    16269\n",
    "Name: 189, dtype: int64"
   ]
  },
  {
   "cell_type": "markdown",
   "id": "d2421a65",
   "metadata": {},
   "source": [
    "nombre_infected       789\n",
    "nombre_sain          2495\n",
    "nombre_exposed        478\n",
    "nombre_recovered    16238\n",
    "Name: 190, dtype: int64"
   ]
  },
  {
   "cell_type": "markdown",
   "id": "95ca6e53",
   "metadata": {},
   "source": [
    "nombre_infected       816\n",
    "nombre_sain          2489\n",
    "nombre_exposed        490\n",
    "nombre_recovered    16205\n",
    "Name: 191, dtype: int64"
   ]
  },
  {
   "cell_type": "markdown",
   "id": "4dc71a83",
   "metadata": {},
   "source": [
    "nombre_infected       850\n",
    "nombre_sain          2471\n",
    "nombre_exposed        504\n",
    "nombre_recovered    16175\n",
    "Name: 192, dtype: int64"
   ]
  },
  {
   "cell_type": "markdown",
   "id": "78af8d44",
   "metadata": {},
   "source": [
    "nombre_infected       847\n",
    "nombre_sain          2445\n",
    "nombre_exposed        517\n",
    "nombre_recovered    16191\n",
    "Name: 193, dtype: int64"
   ]
  },
  {
   "cell_type": "markdown",
   "id": "a6c974c2",
   "metadata": {},
   "source": [
    "nombre_infected       876\n",
    "nombre_sain          2421\n",
    "nombre_exposed        520\n",
    "nombre_recovered    16183\n",
    "Name: 194, dtype: int64"
   ]
  },
  {
   "cell_type": "markdown",
   "id": "47274614",
   "metadata": {},
   "source": [
    "nombre_infected       895\n",
    "nombre_sain          2392\n",
    "nombre_exposed        517\n",
    "nombre_recovered    16196\n",
    "Name: 195, dtype: int64"
   ]
  },
  {
   "cell_type": "markdown",
   "id": "2f789dbc",
   "metadata": {},
   "source": [
    "nombre_infected       896\n",
    "nombre_sain          2360\n",
    "nombre_exposed        561\n",
    "nombre_recovered    16183\n",
    "Name: 196, dtype: int64"
   ]
  },
  {
   "cell_type": "markdown",
   "id": "64f8fb1f",
   "metadata": {},
   "source": [
    "nombre_infected       920\n",
    "nombre_sain          2338\n",
    "nombre_exposed        567\n",
    "nombre_recovered    16175\n",
    "Name: 197, dtype: int64"
   ]
  },
  {
   "cell_type": "markdown",
   "id": "0c119492",
   "metadata": {},
   "source": [
    "nombre_infected       942\n",
    "nombre_sain          2308\n",
    "nombre_exposed        563\n",
    "nombre_recovered    16187\n",
    "Name: 198, dtype: int64"
   ]
  },
  {
   "cell_type": "markdown",
   "id": "580ba188",
   "metadata": {},
   "source": [
    "nombre_infected       986\n",
    "nombre_sain          2285\n",
    "nombre_exposed        547\n",
    "nombre_recovered    16182\n",
    "Name: 199, dtype: int64"
   ]
  },
  {
   "cell_type": "markdown",
   "id": "a8c19b13",
   "metadata": {},
   "source": [
    "nombre_infected      1020\n",
    "nombre_sain          2273\n",
    "nombre_exposed        540\n",
    "nombre_recovered    16167\n",
    "Name: 200, dtype: int64"
   ]
  },
  {
   "cell_type": "markdown",
   "id": "6e38583a",
   "metadata": {},
   "source": [
    "nombre_infected      1029\n",
    "nombre_sain          2225\n",
    "nombre_exposed        559\n",
    "nombre_recovered    16187\n",
    "Name: 201, dtype: int64"
   ]
  },
  {
   "cell_type": "markdown",
   "id": "20f069e6",
   "metadata": {},
   "source": [
    "nombre_infected      1020\n",
    "nombre_sain          2188\n",
    "nombre_exposed        598\n",
    "nombre_recovered    16194\n",
    "Name: 202, dtype: int64"
   ]
  },
  {
   "cell_type": "markdown",
   "id": "ffe05578",
   "metadata": {},
   "source": [
    "nombre_infected      1050\n",
    "nombre_sain          2158\n",
    "nombre_exposed        610\n",
    "nombre_recovered    16182\n",
    "Name: 203, dtype: int64"
   ]
  },
  {
   "cell_type": "markdown",
   "id": "aa30d564",
   "metadata": {},
   "source": [
    "nombre_infected      1057\n",
    "nombre_sain          2124\n",
    "nombre_exposed        630\n",
    "nombre_recovered    16189\n",
    "Name: 204, dtype: int64"
   ]
  },
  {
   "cell_type": "markdown",
   "id": "e7cf3bd8",
   "metadata": {},
   "source": [
    "nombre_infected      1084\n",
    "nombre_sain          2085\n",
    "nombre_exposed        626\n",
    "nombre_recovered    16205\n",
    "Name: 205, dtype: int64"
   ]
  },
  {
   "cell_type": "markdown",
   "id": "adeecf3c",
   "metadata": {},
   "source": [
    "nombre_infected      1101\n",
    "nombre_sain          2043\n",
    "nombre_exposed        630\n",
    "nombre_recovered    16226\n",
    "Name: 206, dtype: int64"
   ]
  },
  {
   "cell_type": "markdown",
   "id": "ae3c11d2",
   "metadata": {},
   "source": [
    "nombre_infected      1128\n",
    "nombre_sain          1985\n",
    "nombre_exposed        633\n",
    "nombre_recovered    16254\n",
    "Name: 207, dtype: int64"
   ]
  },
  {
   "cell_type": "markdown",
   "id": "7188242b",
   "metadata": {},
   "source": [
    "nombre_infected      1184\n",
    "nombre_sain          1948\n",
    "nombre_exposed        603\n",
    "nombre_recovered    16265\n",
    "Name: 208, dtype: int64"
   ]
  },
  {
   "cell_type": "markdown",
   "id": "856304e0",
   "metadata": {},
   "source": [
    "nombre_infected      1184\n",
    "nombre_sain          1896\n",
    "nombre_exposed        604\n",
    "nombre_recovered    16316\n",
    "Name: 209, dtype: int64"
   ]
  },
  {
   "cell_type": "markdown",
   "id": "c0f51aef",
   "metadata": {},
   "source": [
    "nombre_infected      1199\n",
    "nombre_sain          1855\n",
    "nombre_exposed        596\n",
    "nombre_recovered    16350\n",
    "Name: 210, dtype: int64"
   ]
  },
  {
   "cell_type": "markdown",
   "id": "88b11e35",
   "metadata": {},
   "source": [
    "nombre_infected      1220\n",
    "nombre_sain          1840\n",
    "nombre_exposed        563\n",
    "nombre_recovered    16377\n",
    "Name: 211, dtype: int64"
   ]
  },
  {
   "cell_type": "markdown",
   "id": "985a4e86",
   "metadata": {},
   "source": [
    "nombre_infected      1214\n",
    "nombre_sain          1802\n",
    "nombre_exposed        555\n",
    "nombre_recovered    16429\n",
    "Name: 212, dtype: int64"
   ]
  },
  {
   "cell_type": "markdown",
   "id": "77c2dcfb",
   "metadata": {},
   "source": [
    "nombre_infected      1215\n",
    "nombre_sain          1764\n",
    "nombre_exposed        538\n",
    "nombre_recovered    16483\n",
    "Name: 213, dtype: int64"
   ]
  },
  {
   "cell_type": "markdown",
   "id": "97b0db1a",
   "metadata": {},
   "source": [
    "nombre_infected      1200\n",
    "nombre_sain          1743\n",
    "nombre_exposed        525\n",
    "nombre_recovered    16532\n",
    "Name: 214, dtype: int64"
   ]
  },
  {
   "cell_type": "markdown",
   "id": "32021b14",
   "metadata": {},
   "source": [
    "nombre_infected      1205\n",
    "nombre_sain          1721\n",
    "nombre_exposed        499\n",
    "nombre_recovered    16575\n",
    "Name: 215, dtype: int64"
   ]
  },
  {
   "cell_type": "markdown",
   "id": "1029a077",
   "metadata": {},
   "source": [
    "nombre_infected      1186\n",
    "nombre_sain          1716\n",
    "nombre_exposed        484\n",
    "nombre_recovered    16614\n",
    "Name: 216, dtype: int64"
   ]
  },
  {
   "cell_type": "markdown",
   "id": "9e32ab33",
   "metadata": {},
   "source": [
    "nombre_infected      1174\n",
    "nombre_sain          1724\n",
    "nombre_exposed        468\n",
    "nombre_recovered    16634\n",
    "Name: 217, dtype: int64"
   ]
  },
  {
   "cell_type": "markdown",
   "id": "35cd6025",
   "metadata": {},
   "source": [
    "nombre_infected      1157\n",
    "nombre_sain          1690\n",
    "nombre_exposed        485\n",
    "nombre_recovered    16668\n",
    "Name: 218, dtype: int64"
   ]
  },
  {
   "cell_type": "markdown",
   "id": "8126b1ef",
   "metadata": {},
   "source": [
    "nombre_infected      1116\n",
    "nombre_sain          1699\n",
    "nombre_exposed        466\n",
    "nombre_recovered    16719\n",
    "Name: 219, dtype: int64"
   ]
  },
  {
   "cell_type": "markdown",
   "id": "1dfa96ef",
   "metadata": {},
   "source": [
    "nombre_infected      1115\n",
    "nombre_sain          1697\n",
    "nombre_exposed        452\n",
    "nombre_recovered    16736\n",
    "Name: 220, dtype: int64"
   ]
  },
  {
   "cell_type": "markdown",
   "id": "83a6a438",
   "metadata": {},
   "source": [
    "nombre_infected      1051\n",
    "nombre_sain          1712\n",
    "nombre_exposed        452\n",
    "nombre_recovered    16785\n",
    "Name: 221, dtype: int64"
   ]
  },
  {
   "cell_type": "markdown",
   "id": "b071b34d",
   "metadata": {},
   "source": [
    "nombre_infected      1035\n",
    "nombre_sain          1725\n",
    "nombre_exposed        433\n",
    "nombre_recovered    16807\n",
    "Name: 222, dtype: int64"
   ]
  },
  {
   "cell_type": "markdown",
   "id": "3797e94c",
   "metadata": {},
   "source": [
    "nombre_infected      1000\n",
    "nombre_sain          1717\n",
    "nombre_exposed        435\n",
    "nombre_recovered    16848\n",
    "Name: 223, dtype: int64"
   ]
  },
  {
   "cell_type": "markdown",
   "id": "a7c1be0d",
   "metadata": {},
   "source": [
    "nombre_infected      1002\n",
    "nombre_sain          1738\n",
    "nombre_exposed        415\n",
    "nombre_recovered    16845\n",
    "Name: 224, dtype: int64"
   ]
  },
  {
   "cell_type": "markdown",
   "id": "aab50c10",
   "metadata": {},
   "source": [
    "nombre_infected       984\n",
    "nombre_sain          1774\n",
    "nombre_exposed        397\n",
    "nombre_recovered    16845\n",
    "Name: 225, dtype: int64"
   ]
  },
  {
   "cell_type": "markdown",
   "id": "ac1c7d79",
   "metadata": {},
   "source": [
    "nombre_infected       955\n",
    "nombre_sain          1780\n",
    "nombre_exposed        402\n",
    "nombre_recovered    16863\n",
    "Name: 226, dtype: int64"
   ]
  },
  {
   "cell_type": "markdown",
   "id": "3e55dee8",
   "metadata": {},
   "source": [
    "nombre_infected       945\n",
    "nombre_sain          1814\n",
    "nombre_exposed        396\n",
    "nombre_recovered    16845\n",
    "Name: 227, dtype: int64"
   ]
  },
  {
   "cell_type": "markdown",
   "id": "b2a30cec",
   "metadata": {},
   "source": [
    "nombre_infected       922\n",
    "nombre_sain          1835\n",
    "nombre_exposed        399\n",
    "nombre_recovered    16844\n",
    "Name: 228, dtype: int64"
   ]
  },
  {
   "cell_type": "markdown",
   "id": "603d23ef",
   "metadata": {},
   "source": [
    "nombre_infected       919\n",
    "nombre_sain          1841\n",
    "nombre_exposed        395\n",
    "nombre_recovered    16845\n",
    "Name: 229, dtype: int64"
   ]
  },
  {
   "cell_type": "markdown",
   "id": "5339a280",
   "metadata": {},
   "source": [
    "nombre_infected       883\n",
    "nombre_sain          1838\n",
    "nombre_exposed        435\n",
    "nombre_recovered    16844\n",
    "Name: 230, dtype: int64"
   ]
  },
  {
   "cell_type": "markdown",
   "id": "9c126976",
   "metadata": {},
   "source": [
    "nombre_infected       864\n",
    "nombre_sain          1847\n",
    "nombre_exposed        444\n",
    "nombre_recovered    16845\n",
    "Name: 231, dtype: int64"
   ]
  },
  {
   "cell_type": "markdown",
   "id": "c57f788d",
   "metadata": {},
   "source": [
    "nombre_infected       847\n",
    "nombre_sain          1862\n",
    "nombre_exposed        435\n",
    "nombre_recovered    16856\n",
    "Name: 232, dtype: int64"
   ]
  },
  {
   "cell_type": "markdown",
   "id": "2c85383d",
   "metadata": {},
   "source": [
    "nombre_infected       837\n",
    "nombre_sain          1917\n",
    "nombre_exposed        432\n",
    "nombre_recovered    16814\n",
    "Name: 233, dtype: int64"
   ]
  },
  {
   "cell_type": "markdown",
   "id": "b82d63b2",
   "metadata": {},
   "source": [
    "nombre_infected       846\n",
    "nombre_sain          1952\n",
    "nombre_exposed        424\n",
    "nombre_recovered    16778\n",
    "Name: 234, dtype: int64"
   ]
  },
  {
   "cell_type": "markdown",
   "id": "e28aaeec",
   "metadata": {},
   "source": [
    "nombre_infected       875\n",
    "nombre_sain          1997\n",
    "nombre_exposed        409\n",
    "nombre_recovered    16719\n",
    "Name: 235, dtype: int64"
   ]
  },
  {
   "cell_type": "markdown",
   "id": "a5ea80b7",
   "metadata": {},
   "source": [
    "nombre_infected       863\n",
    "nombre_sain          2040\n",
    "nombre_exposed        409\n",
    "nombre_recovered    16688\n",
    "Name: 236, dtype: int64"
   ]
  },
  {
   "cell_type": "markdown",
   "id": "899015ae",
   "metadata": {},
   "source": [
    "nombre_infected       850\n",
    "nombre_sain          2054\n",
    "nombre_exposed        429\n",
    "nombre_recovered    16667\n",
    "Name: 237, dtype: int64"
   ]
  },
  {
   "cell_type": "markdown",
   "id": "824e53f3",
   "metadata": {},
   "source": [
    "nombre_infected       845\n",
    "nombre_sain          2044\n",
    "nombre_exposed        441\n",
    "nombre_recovered    16670\n",
    "Name: 238, dtype: int64"
   ]
  },
  {
   "cell_type": "markdown",
   "id": "575d1295",
   "metadata": {},
   "source": [
    "nombre_infected       854\n",
    "nombre_sain          2048\n",
    "nombre_exposed        437\n",
    "nombre_recovered    16661\n",
    "Name: 239, dtype: int64"
   ]
  },
  {
   "cell_type": "markdown",
   "id": "b57f0767",
   "metadata": {},
   "source": [
    "nombre_infected       869\n",
    "nombre_sain          2072\n",
    "nombre_exposed        423\n",
    "nombre_recovered    16636\n",
    "Name: 240, dtype: int64"
   ]
  },
  {
   "cell_type": "markdown",
   "id": "05d28116",
   "metadata": {},
   "source": [
    "nombre_infected       863\n",
    "nombre_sain          2064\n",
    "nombre_exposed        427\n",
    "nombre_recovered    16646\n",
    "Name: 241, dtype: int64"
   ]
  },
  {
   "cell_type": "markdown",
   "id": "cbf2e647",
   "metadata": {},
   "source": [
    "nombre_infected       849\n",
    "nombre_sain          2063\n",
    "nombre_exposed        447\n",
    "nombre_recovered    16641\n",
    "Name: 242, dtype: int64"
   ]
  },
  {
   "cell_type": "markdown",
   "id": "b9494cd6",
   "metadata": {},
   "source": [
    "nombre_infected       827\n",
    "nombre_sain          2086\n",
    "nombre_exposed        463\n",
    "nombre_recovered    16624\n",
    "Name: 243, dtype: int64"
   ]
  },
  {
   "cell_type": "markdown",
   "id": "2f5e0ac7",
   "metadata": {},
   "source": [
    "nombre_infected       843\n",
    "nombre_sain          2107\n",
    "nombre_exposed        440\n",
    "nombre_recovered    16610\n",
    "Name: 244, dtype: int64"
   ]
  },
  {
   "cell_type": "markdown",
   "id": "ed11d932",
   "metadata": {},
   "source": [
    "nombre_infected       831\n",
    "nombre_sain          2130\n",
    "nombre_exposed        438\n",
    "nombre_recovered    16601\n",
    "Name: 245, dtype: int64"
   ]
  },
  {
   "cell_type": "markdown",
   "id": "af1ea709",
   "metadata": {},
   "source": [
    "nombre_infected       835\n",
    "nombre_sain          2131\n",
    "nombre_exposed        447\n",
    "nombre_recovered    16587\n",
    "Name: 246, dtype: int64"
   ]
  },
  {
   "cell_type": "markdown",
   "id": "23ba8cd6",
   "metadata": {},
   "source": [
    "nombre_infected       817\n",
    "nombre_sain          2149\n",
    "nombre_exposed        470\n",
    "nombre_recovered    16564\n",
    "Name: 247, dtype: int64"
   ]
  },
  {
   "cell_type": "markdown",
   "id": "ee27593c",
   "metadata": {},
   "source": [
    "nombre_infected       830\n",
    "nombre_sain          2157\n",
    "nombre_exposed        456\n",
    "nombre_recovered    16557\n",
    "Name: 248, dtype: int64"
   ]
  },
  {
   "cell_type": "markdown",
   "id": "839a8625",
   "metadata": {},
   "source": [
    "nombre_infected       838\n",
    "nombre_sain          2158\n",
    "nombre_exposed        477\n",
    "nombre_recovered    16527\n",
    "Name: 249, dtype: int64"
   ]
  },
  {
   "cell_type": "markdown",
   "id": "8052752f",
   "metadata": {},
   "source": [
    "nombre_infected       806\n",
    "nombre_sain          2149\n",
    "nombre_exposed        491\n",
    "nombre_recovered    16554\n",
    "Name: 250, dtype: int64"
   ]
  },
  {
   "cell_type": "markdown",
   "id": "5477d7a9",
   "metadata": {},
   "source": [
    "nombre_infected       801\n",
    "nombre_sain          2169\n",
    "nombre_exposed        497\n",
    "nombre_recovered    16533\n",
    "Name: 251, dtype: int64"
   ]
  },
  {
   "cell_type": "markdown",
   "id": "cf4106a6",
   "metadata": {},
   "source": [
    "nombre_infected       789\n",
    "nombre_sain          2206\n",
    "nombre_exposed        482\n",
    "nombre_recovered    16523\n",
    "Name: 252, dtype: int64"
   ]
  },
  {
   "cell_type": "markdown",
   "id": "0ef82273",
   "metadata": {},
   "source": [
    "nombre_infected       803\n",
    "nombre_sain          2238\n",
    "nombre_exposed        455\n",
    "nombre_recovered    16504\n",
    "Name: 253, dtype: int64"
   ]
  },
  {
   "cell_type": "markdown",
   "id": "3a37648e",
   "metadata": {},
   "source": [
    "nombre_infected       819\n",
    "nombre_sain          2257\n",
    "nombre_exposed        437\n",
    "nombre_recovered    16487\n",
    "Name: 254, dtype: int64"
   ]
  },
  {
   "cell_type": "markdown",
   "id": "2dbb4001",
   "metadata": {},
   "source": [
    "nombre_infected       794\n",
    "nombre_sain          2261\n",
    "nombre_exposed        458\n",
    "nombre_recovered    16487\n",
    "Name: 255, dtype: int64"
   ]
  },
  {
   "cell_type": "markdown",
   "id": "640caf8a",
   "metadata": {},
   "source": [
    "nombre_infected       781\n",
    "nombre_sain          2271\n",
    "nombre_exposed        475\n",
    "nombre_recovered    16473\n",
    "Name: 256, dtype: int64"
   ]
  },
  {
   "cell_type": "markdown",
   "id": "9c67933a",
   "metadata": {},
   "source": [
    "nombre_infected       769\n",
    "nombre_sain          2274\n",
    "nombre_exposed        476\n",
    "nombre_recovered    16481\n",
    "Name: 257, dtype: int64"
   ]
  },
  {
   "cell_type": "markdown",
   "id": "3f0e609a",
   "metadata": {},
   "source": [
    "nombre_infected       790\n",
    "nombre_sain          2288\n",
    "nombre_exposed        487\n",
    "nombre_recovered    16435\n",
    "Name: 258, dtype: int64"
   ]
  },
  {
   "cell_type": "markdown",
   "id": "281674d2",
   "metadata": {},
   "source": [
    "nombre_infected       768\n",
    "nombre_sain          2289\n",
    "nombre_exposed        501\n",
    "nombre_recovered    16442\n",
    "Name: 259, dtype: int64"
   ]
  },
  {
   "cell_type": "markdown",
   "id": "e6d00107",
   "metadata": {},
   "source": [
    "nombre_infected       759\n",
    "nombre_sain          2301\n",
    "nombre_exposed        520\n",
    "nombre_recovered    16420\n",
    "Name: 260, dtype: int64"
   ]
  },
  {
   "cell_type": "markdown",
   "id": "5c169071",
   "metadata": {},
   "source": [
    "nombre_infected       760\n",
    "nombre_sain          2328\n",
    "nombre_exposed        535\n",
    "nombre_recovered    16377\n",
    "Name: 261, dtype: int64"
   ]
  },
  {
   "cell_type": "markdown",
   "id": "bcf2a442",
   "metadata": {},
   "source": [
    "nombre_infected       764\n",
    "nombre_sain          2347\n",
    "nombre_exposed        534\n",
    "nombre_recovered    16355\n",
    "Name: 262, dtype: int64"
   ]
  },
  {
   "cell_type": "markdown",
   "id": "9b9ccc25",
   "metadata": {},
   "source": [
    "nombre_infected       787\n",
    "nombre_sain          2345\n",
    "nombre_exposed        538\n",
    "nombre_recovered    16330\n",
    "Name: 263, dtype: int64"
   ]
  },
  {
   "cell_type": "markdown",
   "id": "6c7cfbb7",
   "metadata": {},
   "source": [
    "nombre_infected       799\n",
    "nombre_sain          2370\n",
    "nombre_exposed        522\n",
    "nombre_recovered    16309\n",
    "Name: 264, dtype: int64"
   ]
  },
  {
   "cell_type": "markdown",
   "id": "1bc88f99",
   "metadata": {},
   "source": [
    "nombre_infected       812\n",
    "nombre_sain          2397\n",
    "nombre_exposed        512\n",
    "nombre_recovered    16279\n",
    "Name: 265, dtype: int64"
   ]
  },
  {
   "cell_type": "markdown",
   "id": "38bd993c",
   "metadata": {},
   "source": [
    "nombre_infected       805\n",
    "nombre_sain          2397\n",
    "nombre_exposed        535\n",
    "nombre_recovered    16263\n",
    "Name: 266, dtype: int64"
   ]
  },
  {
   "cell_type": "markdown",
   "id": "fec23c02",
   "metadata": {},
   "source": [
    "nombre_infected       799\n",
    "nombre_sain          2416\n",
    "nombre_exposed        530\n",
    "nombre_recovered    16255\n",
    "Name: 267, dtype: int64"
   ]
  },
  {
   "cell_type": "markdown",
   "id": "542d6dc8",
   "metadata": {},
   "source": [
    "nombre_infected       814\n",
    "nombre_sain          2414\n",
    "nombre_exposed        529\n",
    "nombre_recovered    16243\n",
    "Name: 268, dtype: int64"
   ]
  },
  {
   "cell_type": "markdown",
   "id": "0975f1ab",
   "metadata": {},
   "source": [
    "nombre_infected       833\n",
    "nombre_sain          2385\n",
    "nombre_exposed        535\n",
    "nombre_recovered    16247\n",
    "Name: 269, dtype: int64"
   ]
  },
  {
   "cell_type": "markdown",
   "id": "f9f1e80c",
   "metadata": {},
   "source": [
    "nombre_infected       819\n",
    "nombre_sain          2411\n",
    "nombre_exposed        524\n",
    "nombre_recovered    16246\n",
    "Name: 270, dtype: int64"
   ]
  },
  {
   "cell_type": "markdown",
   "id": "146a133e",
   "metadata": {},
   "source": [
    "nombre_infected       853\n",
    "nombre_sain          2408\n",
    "nombre_exposed        511\n",
    "nombre_recovered    16228\n",
    "Name: 271, dtype: int64"
   ]
  },
  {
   "cell_type": "markdown",
   "id": "993367df",
   "metadata": {},
   "source": [
    "nombre_infected       860\n",
    "nombre_sain          2389\n",
    "nombre_exposed        525\n",
    "nombre_recovered    16226\n",
    "Name: 272, dtype: int64"
   ]
  },
  {
   "cell_type": "markdown",
   "id": "0d278806",
   "metadata": {},
   "source": [
    "nombre_infected       886\n",
    "nombre_sain          2387\n",
    "nombre_exposed        522\n",
    "nombre_recovered    16205\n",
    "Name: 273, dtype: int64"
   ]
  },
  {
   "cell_type": "markdown",
   "id": "f37b11a0",
   "metadata": {},
   "source": [
    "nombre_infected       893\n",
    "nombre_sain          2376\n",
    "nombre_exposed        516\n",
    "nombre_recovered    16215\n",
    "Name: 274, dtype: int64"
   ]
  },
  {
   "cell_type": "markdown",
   "id": "cf4cfaf5",
   "metadata": {},
   "source": [
    "nombre_infected       888\n",
    "nombre_sain          2373\n",
    "nombre_exposed        522\n",
    "nombre_recovered    16217\n",
    "Name: 275, dtype: int64"
   ]
  },
  {
   "cell_type": "markdown",
   "id": "3caa313d",
   "metadata": {},
   "source": [
    "nombre_infected       894\n",
    "nombre_sain          2378\n",
    "nombre_exposed        513\n",
    "nombre_recovered    16215\n",
    "Name: 276, dtype: int64"
   ]
  },
  {
   "cell_type": "markdown",
   "id": "2646ef49",
   "metadata": {},
   "source": [
    "nombre_infected       906\n",
    "nombre_sain          2367\n",
    "nombre_exposed        497\n",
    "nombre_recovered    16230\n",
    "Name: 277, dtype: int64"
   ]
  },
  {
   "cell_type": "markdown",
   "id": "d3d32b95",
   "metadata": {},
   "source": [
    "nombre_infected       899\n",
    "nombre_sain          2347\n",
    "nombre_exposed        530\n",
    "nombre_recovered    16224\n",
    "Name: 278, dtype: int64"
   ]
  },
  {
   "cell_type": "markdown",
   "id": "95cb1167",
   "metadata": {},
   "source": [
    "nombre_infected       903\n",
    "nombre_sain          2355\n",
    "nombre_exposed        545\n",
    "nombre_recovered    16197\n",
    "Name: 279, dtype: int64"
   ]
  },
  {
   "cell_type": "markdown",
   "id": "c9a59f39",
   "metadata": {},
   "source": [
    "nombre_infected       927\n",
    "nombre_sain          2361\n",
    "nombre_exposed        523\n",
    "nombre_recovered    16189\n",
    "Name: 280, dtype: int64"
   ]
  },
  {
   "cell_type": "markdown",
   "id": "60cd0128",
   "metadata": {},
   "source": [
    "nombre_infected       934\n",
    "nombre_sain          2385\n",
    "nombre_exposed        534\n",
    "nombre_recovered    16147\n",
    "Name: 281, dtype: int64"
   ]
  },
  {
   "cell_type": "markdown",
   "id": "d51dacd8",
   "metadata": {},
   "source": [
    "nombre_infected       947\n",
    "nombre_sain          2350\n",
    "nombre_exposed        569\n",
    "nombre_recovered    16134\n",
    "Name: 282, dtype: int64"
   ]
  },
  {
   "cell_type": "markdown",
   "id": "1f0006d6",
   "metadata": {},
   "source": [
    "nombre_infected       964\n",
    "nombre_sain          2377\n",
    "nombre_exposed        565\n",
    "nombre_recovered    16094\n",
    "Name: 283, dtype: int64"
   ]
  },
  {
   "cell_type": "markdown",
   "id": "39935185",
   "metadata": {},
   "source": [
    "nombre_infected       992\n",
    "nombre_sain          2390\n",
    "nombre_exposed        548\n",
    "nombre_recovered    16070\n",
    "Name: 284, dtype: int64"
   ]
  },
  {
   "cell_type": "markdown",
   "id": "0abbd48c",
   "metadata": {},
   "source": [
    "nombre_infected       983\n",
    "nombre_sain          2372\n",
    "nombre_exposed        573\n",
    "nombre_recovered    16072\n",
    "Name: 285, dtype: int64"
   ]
  },
  {
   "cell_type": "markdown",
   "id": "c50ee544",
   "metadata": {},
   "source": [
    "nombre_infected      1007\n",
    "nombre_sain          2360\n",
    "nombre_exposed        578\n",
    "nombre_recovered    16055\n",
    "Name: 286, dtype: int64"
   ]
  },
  {
   "cell_type": "markdown",
   "id": "8d935309",
   "metadata": {},
   "source": [
    "nombre_infected      1012\n",
    "nombre_sain          2345\n",
    "nombre_exposed        594\n",
    "nombre_recovered    16049\n",
    "Name: 287, dtype: int64"
   ]
  },
  {
   "cell_type": "markdown",
   "id": "00e8def3",
   "metadata": {},
   "source": [
    "nombre_infected      1026\n",
    "nombre_sain          2330\n",
    "nombre_exposed        616\n",
    "nombre_recovered    16028\n",
    "Name: 288, dtype: int64"
   ]
  },
  {
   "cell_type": "markdown",
   "id": "f9d4e727",
   "metadata": {},
   "source": [
    "nombre_infected      1027\n",
    "nombre_sain          2312\n",
    "nombre_exposed        594\n",
    "nombre_recovered    16067\n",
    "Name: 289, dtype: int64"
   ]
  },
  {
   "cell_type": "markdown",
   "id": "5e5c305b",
   "metadata": {},
   "source": [
    "nombre_infected      1037\n",
    "nombre_sain          2264\n",
    "nombre_exposed        637\n",
    "nombre_recovered    16062\n",
    "Name: 290, dtype: int64"
   ]
  },
  {
   "cell_type": "markdown",
   "id": "7834ced6",
   "metadata": {},
   "source": [
    "nombre_infected      1040\n",
    "nombre_sain          2232\n",
    "nombre_exposed        636\n",
    "nombre_recovered    16092\n",
    "Name: 291, dtype: int64"
   ]
  },
  {
   "cell_type": "markdown",
   "id": "35d75c7e",
   "metadata": {},
   "source": [
    "nombre_infected      1067\n",
    "nombre_sain          2219\n",
    "nombre_exposed        625\n",
    "nombre_recovered    16089\n",
    "Name: 292, dtype: int64"
   ]
  },
  {
   "cell_type": "markdown",
   "id": "cbaf8ec9",
   "metadata": {},
   "source": [
    "nombre_infected      1080\n",
    "nombre_sain          2180\n",
    "nombre_exposed        624\n",
    "nombre_recovered    16116\n",
    "Name: 293, dtype: int64"
   ]
  },
  {
   "cell_type": "markdown",
   "id": "01278ba6",
   "metadata": {},
   "source": [
    "nombre_infected      1071\n",
    "nombre_sain          2166\n",
    "nombre_exposed        619\n",
    "nombre_recovered    16144\n",
    "Name: 294, dtype: int64"
   ]
  },
  {
   "cell_type": "markdown",
   "id": "e976cb28",
   "metadata": {},
   "source": [
    "nombre_infected      1080\n",
    "nombre_sain          2174\n",
    "nombre_exposed        595\n",
    "nombre_recovered    16151\n",
    "Name: 295, dtype: int64"
   ]
  },
  {
   "cell_type": "markdown",
   "id": "855df0f6",
   "metadata": {},
   "source": [
    "nombre_infected      1092\n",
    "nombre_sain          2157\n",
    "nombre_exposed        600\n",
    "nombre_recovered    16151\n",
    "Name: 296, dtype: int64"
   ]
  },
  {
   "cell_type": "markdown",
   "id": "e6ab72c6",
   "metadata": {},
   "source": [
    "nombre_infected      1078\n",
    "nombre_sain          2151\n",
    "nombre_exposed        593\n",
    "nombre_recovered    16178\n",
    "Name: 297, dtype: int64"
   ]
  },
  {
   "cell_type": "markdown",
   "id": "22d4457e",
   "metadata": {},
   "source": [
    "nombre_infected      1071\n",
    "nombre_sain          2142\n",
    "nombre_exposed        580\n",
    "nombre_recovered    16207\n",
    "Name: 298, dtype: int64"
   ]
  },
  {
   "cell_type": "markdown",
   "id": "2c28c55f",
   "metadata": {},
   "source": [
    "nombre_infected      1076\n",
    "nombre_sain          2110\n",
    "nombre_exposed        590\n",
    "nombre_recovered    16224\n",
    "Name: 299, dtype: int64"
   ]
  },
  {
   "cell_type": "markdown",
   "id": "85dfff93",
   "metadata": {},
   "source": [
    "nombre_infected      1088\n",
    "nombre_sain          2082\n",
    "nombre_exposed        593\n",
    "nombre_recovered    16237\n",
    "Name: 300, dtype: int64"
   ]
  },
  {
   "cell_type": "markdown",
   "id": "b0badfa1",
   "metadata": {},
   "source": [
    "nombre_infected      1092\n",
    "nombre_sain          2040\n",
    "nombre_exposed        605\n",
    "nombre_recovered    16263\n",
    "Name: 301, dtype: int64"
   ]
  },
  {
   "cell_type": "markdown",
   "id": "12bf1be7",
   "metadata": {},
   "source": [
    "nombre_infected      1068\n",
    "nombre_sain          2013\n",
    "nombre_exposed        623\n",
    "nombre_recovered    16296\n",
    "Name: 302, dtype: int64"
   ]
  },
  {
   "cell_type": "markdown",
   "id": "1186aa63",
   "metadata": {},
   "source": [
    "nombre_infected      1063\n",
    "nombre_sain          1991\n",
    "nombre_exposed        631\n",
    "nombre_recovered    16315\n",
    "Name: 303, dtype: int64"
   ]
  },
  {
   "cell_type": "markdown",
   "id": "7e231fc4",
   "metadata": {},
   "source": [
    "nombre_infected      1064\n",
    "nombre_sain          1969\n",
    "nombre_exposed        593\n",
    "nombre_recovered    16374\n",
    "Name: 304, dtype: int64"
   ]
  },
  {
   "cell_type": "markdown",
   "id": "bf164491",
   "metadata": {},
   "source": [
    "nombre_infected      1066\n",
    "nombre_sain          1969\n",
    "nombre_exposed        586\n",
    "nombre_recovered    16379\n",
    "Name: 305, dtype: int64"
   ]
  },
  {
   "cell_type": "markdown",
   "id": "de72d439",
   "metadata": {},
   "source": [
    "nombre_infected      1059\n",
    "nombre_sain          1983\n",
    "nombre_exposed        566\n",
    "nombre_recovered    16392\n",
    "Name: 306, dtype: int64"
   ]
  },
  {
   "cell_type": "markdown",
   "id": "72176362",
   "metadata": {},
   "source": [
    "nombre_infected      1053\n",
    "nombre_sain          1967\n",
    "nombre_exposed        556\n",
    "nombre_recovered    16424\n",
    "Name: 307, dtype: int64"
   ]
  },
  {
   "cell_type": "markdown",
   "id": "b82d7fe4",
   "metadata": {},
   "source": [
    "nombre_infected      1038\n",
    "nombre_sain          1972\n",
    "nombre_exposed        536\n",
    "nombre_recovered    16454\n",
    "Name: 308, dtype: int64"
   ]
  },
  {
   "cell_type": "markdown",
   "id": "7e12e4a5",
   "metadata": {},
   "source": [
    "nombre_infected      1026\n",
    "nombre_sain          1961\n",
    "nombre_exposed        555\n",
    "nombre_recovered    16458\n",
    "Name: 309, dtype: int64"
   ]
  },
  {
   "cell_type": "markdown",
   "id": "b87138cb",
   "metadata": {},
   "source": [
    "nombre_infected      1033\n",
    "nombre_sain          1950\n",
    "nombre_exposed        538\n",
    "nombre_recovered    16479\n",
    "Name: 310, dtype: int64"
   ]
  },
  {
   "cell_type": "markdown",
   "id": "e8eab220",
   "metadata": {},
   "source": [
    "nombre_infected      1030\n",
    "nombre_sain          1944\n",
    "nombre_exposed        533\n",
    "nombre_recovered    16493\n",
    "Name: 311, dtype: int64"
   ]
  },
  {
   "cell_type": "markdown",
   "id": "2358071e",
   "metadata": {},
   "source": [
    "nombre_infected      1012\n",
    "nombre_sain          1932\n",
    "nombre_exposed        532\n",
    "nombre_recovered    16524\n",
    "Name: 312, dtype: int64"
   ]
  },
  {
   "cell_type": "markdown",
   "id": "d0a5be85",
   "metadata": {},
   "source": [
    "nombre_infected      1001\n",
    "nombre_sain          1933\n",
    "nombre_exposed        544\n",
    "nombre_recovered    16522\n",
    "Name: 313, dtype: int64"
   ]
  },
  {
   "cell_type": "markdown",
   "id": "2a713c65",
   "metadata": {},
   "source": [
    "nombre_infected       993\n",
    "nombre_sain          1966\n",
    "nombre_exposed        526\n",
    "nombre_recovered    16515\n",
    "Name: 314, dtype: int64"
   ]
  },
  {
   "cell_type": "markdown",
   "id": "04a21f0b",
   "metadata": {},
   "source": [
    "nombre_infected       997\n",
    "nombre_sain          1935\n",
    "nombre_exposed        523\n",
    "nombre_recovered    16545\n",
    "Name: 315, dtype: int64"
   ]
  },
  {
   "cell_type": "markdown",
   "id": "b71cfb99",
   "metadata": {},
   "source": [
    "nombre_infected       983\n",
    "nombre_sain          1948\n",
    "nombre_exposed        502\n",
    "nombre_recovered    16567\n",
    "Name: 316, dtype: int64"
   ]
  },
  {
   "cell_type": "markdown",
   "id": "e54a5e36",
   "metadata": {},
   "source": [
    "nombre_infected       981\n",
    "nombre_sain          1951\n",
    "nombre_exposed        484\n",
    "nombre_recovered    16584\n",
    "Name: 317, dtype: int64"
   ]
  },
  {
   "cell_type": "markdown",
   "id": "b7de636b",
   "metadata": {},
   "source": [
    "nombre_infected       962\n",
    "nombre_sain          1957\n",
    "nombre_exposed        494\n",
    "nombre_recovered    16587\n",
    "Name: 318, dtype: int64"
   ]
  },
  {
   "cell_type": "markdown",
   "id": "d56c078b",
   "metadata": {},
   "source": [
    "nombre_infected       960\n",
    "nombre_sain          1973\n",
    "nombre_exposed        471\n",
    "nombre_recovered    16596\n",
    "Name: 319, dtype: int64"
   ]
  },
  {
   "cell_type": "markdown",
   "id": "c27480ff",
   "metadata": {},
   "source": [
    "nombre_infected       991\n",
    "nombre_sain          1983\n",
    "nombre_exposed        457\n",
    "nombre_recovered    16569\n",
    "Name: 320, dtype: int64"
   ]
  },
  {
   "cell_type": "markdown",
   "id": "0fb653c1",
   "metadata": {},
   "source": [
    "nombre_infected       983\n",
    "nombre_sain          1965\n",
    "nombre_exposed        471\n",
    "nombre_recovered    16581\n",
    "Name: 321, dtype: int64"
   ]
  },
  {
   "cell_type": "markdown",
   "id": "cabf5e1b",
   "metadata": {},
   "source": [
    "nombre_infected       963\n",
    "nombre_sain          1941\n",
    "nombre_exposed        507\n",
    "nombre_recovered    16589\n",
    "Name: 322, dtype: int64"
   ]
  },
  {
   "cell_type": "markdown",
   "id": "dc58a9b9",
   "metadata": {},
   "source": [
    "nombre_infected       955\n",
    "nombre_sain          1937\n",
    "nombre_exposed        503\n",
    "nombre_recovered    16605\n",
    "Name: 323, dtype: int64"
   ]
  },
  {
   "cell_type": "markdown",
   "id": "741bbf1c",
   "metadata": {},
   "source": [
    "nombre_infected       960\n",
    "nombre_sain          1939\n",
    "nombre_exposed        471\n",
    "nombre_recovered    16630\n",
    "Name: 324, dtype: int64"
   ]
  },
  {
   "cell_type": "markdown",
   "id": "3e0569ff",
   "metadata": {},
   "source": [
    "nombre_infected       955\n",
    "nombre_sain          1943\n",
    "nombre_exposed        463\n",
    "nombre_recovered    16639\n",
    "Name: 325, dtype: int64"
   ]
  },
  {
   "cell_type": "markdown",
   "id": "456f0159",
   "metadata": {},
   "source": [
    "nombre_infected       947\n",
    "nombre_sain          1948\n",
    "nombre_exposed        458\n",
    "nombre_recovered    16647\n",
    "Name: 326, dtype: int64"
   ]
  },
  {
   "cell_type": "markdown",
   "id": "171bff6b",
   "metadata": {},
   "source": [
    "nombre_infected       947\n",
    "nombre_sain          1946\n",
    "nombre_exposed        457\n",
    "nombre_recovered    16650\n",
    "Name: 327, dtype: int64"
   ]
  },
  {
   "cell_type": "markdown",
   "id": "63a11d13",
   "metadata": {},
   "source": [
    "nombre_infected       940\n",
    "nombre_sain          1916\n",
    "nombre_exposed        464\n",
    "nombre_recovered    16680\n",
    "Name: 328, dtype: int64"
   ]
  },
  {
   "cell_type": "markdown",
   "id": "b87c4dae",
   "metadata": {},
   "source": [
    "nombre_infected       950\n",
    "nombre_sain          1906\n",
    "nombre_exposed        478\n",
    "nombre_recovered    16666\n",
    "Name: 329, dtype: int64"
   ]
  },
  {
   "cell_type": "markdown",
   "id": "3d26319d",
   "metadata": {},
   "source": [
    "nombre_infected       933\n",
    "nombre_sain          1918\n",
    "nombre_exposed        482\n",
    "nombre_recovered    16667\n",
    "Name: 330, dtype: int64"
   ]
  },
  {
   "cell_type": "markdown",
   "id": "fb296399",
   "metadata": {},
   "source": [
    "nombre_infected       929\n",
    "nombre_sain          1929\n",
    "nombre_exposed        477\n",
    "nombre_recovered    16665\n",
    "Name: 331, dtype: int64"
   ]
  },
  {
   "cell_type": "markdown",
   "id": "1edeb204",
   "metadata": {},
   "source": [
    "nombre_infected       928\n",
    "nombre_sain          1933\n",
    "nombre_exposed        483\n",
    "nombre_recovered    16656\n",
    "Name: 332, dtype: int64"
   ]
  },
  {
   "cell_type": "markdown",
   "id": "41a46057",
   "metadata": {},
   "source": [
    "nombre_infected       931\n",
    "nombre_sain          1931\n",
    "nombre_exposed        483\n",
    "nombre_recovered    16655\n",
    "Name: 333, dtype: int64"
   ]
  },
  {
   "cell_type": "markdown",
   "id": "0645ea53",
   "metadata": {},
   "source": [
    "nombre_infected       925\n",
    "nombre_sain          1951\n",
    "nombre_exposed        487\n",
    "nombre_recovered    16637\n",
    "Name: 334, dtype: int64"
   ]
  },
  {
   "cell_type": "markdown",
   "id": "5ccb9563",
   "metadata": {},
   "source": [
    "nombre_infected       932\n",
    "nombre_sain          1966\n",
    "nombre_exposed        489\n",
    "nombre_recovered    16613\n",
    "Name: 335, dtype: int64"
   ]
  },
  {
   "cell_type": "markdown",
   "id": "41b0c478",
   "metadata": {},
   "source": [
    "nombre_infected       937\n",
    "nombre_sain          1980\n",
    "nombre_exposed        492\n",
    "nombre_recovered    16591\n",
    "Name: 336, dtype: int64"
   ]
  },
  {
   "cell_type": "markdown",
   "id": "1c6f5635",
   "metadata": {},
   "source": [
    "nombre_infected       950\n",
    "nombre_sain          2010\n",
    "nombre_exposed        479\n",
    "nombre_recovered    16561\n",
    "Name: 337, dtype: int64"
   ]
  },
  {
   "cell_type": "markdown",
   "id": "f9c9c560",
   "metadata": {},
   "source": [
    "nombre_infected       936\n",
    "nombre_sain          1997\n",
    "nombre_exposed        495\n",
    "nombre_recovered    16572\n",
    "Name: 338, dtype: int64"
   ]
  },
  {
   "cell_type": "markdown",
   "id": "2f34b45b",
   "metadata": {},
   "source": [
    "nombre_infected       931\n",
    "nombre_sain          2013\n",
    "nombre_exposed        496\n",
    "nombre_recovered    16560\n",
    "Name: 339, dtype: int64"
   ]
  },
  {
   "cell_type": "markdown",
   "id": "5540a5df",
   "metadata": {},
   "source": [
    "nombre_infected       951\n",
    "nombre_sain          2017\n",
    "nombre_exposed        483\n",
    "nombre_recovered    16549\n",
    "Name: 340, dtype: int64"
   ]
  },
  {
   "cell_type": "markdown",
   "id": "9a55921b",
   "metadata": {},
   "source": [
    "nombre_infected       968\n",
    "nombre_sain          2032\n",
    "nombre_exposed        460\n",
    "nombre_recovered    16540\n",
    "Name: 341, dtype: int64"
   ]
  },
  {
   "cell_type": "markdown",
   "id": "851469f6",
   "metadata": {},
   "source": [
    "nombre_infected       957\n",
    "nombre_sain          2035\n",
    "nombre_exposed        470\n",
    "nombre_recovered    16538\n",
    "Name: 342, dtype: int64"
   ]
  },
  {
   "cell_type": "markdown",
   "id": "34a4a536",
   "metadata": {},
   "source": [
    "nombre_infected       935\n",
    "nombre_sain          2014\n",
    "nombre_exposed        501\n",
    "nombre_recovered    16550\n",
    "Name: 343, dtype: int64"
   ]
  },
  {
   "cell_type": "markdown",
   "id": "53bd9e8a",
   "metadata": {},
   "source": [
    "nombre_infected       943\n",
    "nombre_sain          2066\n",
    "nombre_exposed        462\n",
    "nombre_recovered    16529\n",
    "Name: 344, dtype: int64"
   ]
  },
  {
   "cell_type": "markdown",
   "id": "41c6e8c4",
   "metadata": {},
   "source": [
    "nombre_infected       956\n",
    "nombre_sain          2086\n",
    "nombre_exposed        445\n",
    "nombre_recovered    16513\n",
    "Name: 345, dtype: int64"
   ]
  },
  {
   "cell_type": "markdown",
   "id": "25e5d2df",
   "metadata": {},
   "source": [
    "nombre_infected       977\n",
    "nombre_sain          2094\n",
    "nombre_exposed        457\n",
    "nombre_recovered    16472\n",
    "Name: 346, dtype: int64"
   ]
  },
  {
   "cell_type": "markdown",
   "id": "a763df0d",
   "metadata": {},
   "source": [
    "nombre_infected       936\n",
    "nombre_sain          2129\n",
    "nombre_exposed        466\n",
    "nombre_recovered    16469\n",
    "Name: 347, dtype: int64"
   ]
  },
  {
   "cell_type": "markdown",
   "id": "fac97310",
   "metadata": {},
   "source": [
    "nombre_infected       925\n",
    "nombre_sain          2126\n",
    "nombre_exposed        497\n",
    "nombre_recovered    16452\n",
    "Name: 348, dtype: int64"
   ]
  },
  {
   "cell_type": "markdown",
   "id": "7bd41869",
   "metadata": {},
   "source": [
    "nombre_infected       923\n",
    "nombre_sain          2136\n",
    "nombre_exposed        500\n",
    "nombre_recovered    16441\n",
    "Name: 349, dtype: int64"
   ]
  },
  {
   "cell_type": "markdown",
   "id": "2e152d2b",
   "metadata": {},
   "source": [
    "nombre_infected       933\n",
    "nombre_sain          2144\n",
    "nombre_exposed        495\n",
    "nombre_recovered    16428\n",
    "Name: 350, dtype: int64"
   ]
  },
  {
   "cell_type": "markdown",
   "id": "6a78fa5f",
   "metadata": {},
   "source": [
    "nombre_infected       944\n",
    "nombre_sain          2162\n",
    "nombre_exposed        489\n",
    "nombre_recovered    16405\n",
    "Name: 351, dtype: int64"
   ]
  },
  {
   "cell_type": "markdown",
   "id": "e72a0ed3",
   "metadata": {},
   "source": [
    "nombre_infected       946\n",
    "nombre_sain          2169\n",
    "nombre_exposed        489\n",
    "nombre_recovered    16396\n",
    "Name: 352, dtype: int64"
   ]
  },
  {
   "cell_type": "markdown",
   "id": "bbeaeaa2",
   "metadata": {},
   "source": [
    "nombre_infected       920\n",
    "nombre_sain          2168\n",
    "nombre_exposed        525\n",
    "nombre_recovered    16387\n",
    "Name: 353, dtype: int64"
   ]
  },
  {
   "cell_type": "markdown",
   "id": "1be03878",
   "metadata": {},
   "source": [
    "nombre_infected       934\n",
    "nombre_sain          2160\n",
    "nombre_exposed        526\n",
    "nombre_recovered    16380\n",
    "Name: 354, dtype: int64"
   ]
  },
  {
   "cell_type": "markdown",
   "id": "1d8b2dd7",
   "metadata": {},
   "source": [
    "nombre_infected       949\n",
    "nombre_sain          2167\n",
    "nombre_exposed        509\n",
    "nombre_recovered    16375\n",
    "Name: 355, dtype: int64"
   ]
  },
  {
   "cell_type": "markdown",
   "id": "e537c256",
   "metadata": {},
   "source": [
    "nombre_infected       948\n",
    "nombre_sain          2167\n",
    "nombre_exposed        515\n",
    "nombre_recovered    16370\n",
    "Name: 356, dtype: int64"
   ]
  },
  {
   "cell_type": "markdown",
   "id": "25c801ed",
   "metadata": {},
   "source": [
    "nombre_infected       947\n",
    "nombre_sain          2169\n",
    "nombre_exposed        534\n",
    "nombre_recovered    16350\n",
    "Name: 357, dtype: int64"
   ]
  },
  {
   "cell_type": "markdown",
   "id": "4389670b",
   "metadata": {},
   "source": [
    "nombre_infected       974\n",
    "nombre_sain          2151\n",
    "nombre_exposed        537\n",
    "nombre_recovered    16338\n",
    "Name: 358, dtype: int64"
   ]
  },
  {
   "cell_type": "markdown",
   "id": "c250665b",
   "metadata": {},
   "source": [
    "nombre_infected       985\n",
    "nombre_sain          2183\n",
    "nombre_exposed        509\n",
    "nombre_recovered    16323\n",
    "Name: 359, dtype: int64"
   ]
  },
  {
   "cell_type": "markdown",
   "id": "1fd65d07",
   "metadata": {},
   "source": [
    "nombre_infected      1002\n",
    "nombre_sain          2195\n",
    "nombre_exposed        521\n",
    "nombre_recovered    16282\n",
    "Name: 360, dtype: int64"
   ]
  },
  {
   "cell_type": "markdown",
   "id": "5f0bb040",
   "metadata": {},
   "source": [
    "nombre_infected       992\n",
    "nombre_sain          2198\n",
    "nombre_exposed        548\n",
    "nombre_recovered    16262\n",
    "Name: 361, dtype: int64"
   ]
  },
  {
   "cell_type": "markdown",
   "id": "b203e446",
   "metadata": {},
   "source": [
    "nombre_infected       975\n",
    "nombre_sain          2213\n",
    "nombre_exposed        547\n",
    "nombre_recovered    16265\n",
    "Name: 362, dtype: int64"
   ]
  },
  {
   "cell_type": "markdown",
   "id": "2704b838",
   "metadata": {},
   "source": [
    "nombre_infected       989\n",
    "nombre_sain          2239\n",
    "nombre_exposed        533\n",
    "nombre_recovered    16239\n",
    "Name: 363, dtype: int64"
   ]
  },
  {
   "cell_type": "markdown",
   "id": "a82948f5",
   "metadata": {},
   "source": [
    "nombre_infected       999\n",
    "nombre_sain          2227\n",
    "nombre_exposed        534\n",
    "nombre_recovered    16240\n",
    "Name: 364, dtype: int64"
   ]
  },
  {
   "cell_type": "markdown",
   "id": "993c0841",
   "metadata": {},
   "source": [
    "nombre_infected      1000\n",
    "nombre_sain          2229\n",
    "nombre_exposed        541\n",
    "nombre_recovered    16230\n",
    "Name: 365, dtype: int64"
   ]
  },
  {
   "cell_type": "markdown",
   "id": "7a532adb",
   "metadata": {},
   "source": [
    "nombre_infected       986\n",
    "nombre_sain          2227\n",
    "nombre_exposed        570\n",
    "nombre_recovered    16217\n",
    "Name: 366, dtype: int64"
   ]
  },
  {
   "cell_type": "markdown",
   "id": "f309ef1c",
   "metadata": {},
   "source": [
    "nombre_infected      1004\n",
    "nombre_sain          2194\n",
    "nombre_exposed        549\n",
    "nombre_recovered    16253\n",
    "Name: 367, dtype: int64"
   ]
  },
  {
   "cell_type": "markdown",
   "id": "f406ae34",
   "metadata": {},
   "source": [
    "nombre_infected      1003\n",
    "nombre_sain          2213\n",
    "nombre_exposed        547\n",
    "nombre_recovered    16237\n",
    "Name: 368, dtype: int64"
   ]
  },
  {
   "cell_type": "markdown",
   "id": "7d7c6594",
   "metadata": {},
   "source": [
    "nombre_infected      1025\n",
    "nombre_sain          2188\n",
    "nombre_exposed        563\n",
    "nombre_recovered    16224\n",
    "Name: 369, dtype: int64"
   ]
  },
  {
   "cell_type": "markdown",
   "id": "4ae3945d",
   "metadata": {},
   "source": [
    "nombre_infected      1012\n",
    "nombre_sain          2162\n",
    "nombre_exposed        574\n",
    "nombre_recovered    16252\n",
    "Name: 370, dtype: int64"
   ]
  },
  {
   "cell_type": "markdown",
   "id": "c3e1ad26",
   "metadata": {},
   "source": [
    "nombre_infected      1036\n",
    "nombre_sain          2142\n",
    "nombre_exposed        569\n",
    "nombre_recovered    16253\n",
    "Name: 371, dtype: int64"
   ]
  },
  {
   "cell_type": "markdown",
   "id": "56fc8241",
   "metadata": {},
   "source": [
    "nombre_infected      1063\n",
    "nombre_sain          2131\n",
    "nombre_exposed        555\n",
    "nombre_recovered    16251\n",
    "Name: 372, dtype: int64"
   ]
  },
  {
   "cell_type": "markdown",
   "id": "f69bbf87",
   "metadata": {},
   "source": [
    "nombre_infected      1052\n",
    "nombre_sain          2134\n",
    "nombre_exposed        565\n",
    "nombre_recovered    16249\n",
    "Name: 373, dtype: int64"
   ]
  },
  {
   "cell_type": "markdown",
   "id": "2ad11a47",
   "metadata": {},
   "source": [
    "nombre_infected      1056\n",
    "nombre_sain          2131\n",
    "nombre_exposed        562\n",
    "nombre_recovered    16251\n",
    "Name: 374, dtype: int64"
   ]
  },
  {
   "cell_type": "markdown",
   "id": "916057ec",
   "metadata": {},
   "source": [
    "nombre_infected      1048\n",
    "nombre_sain          2097\n",
    "nombre_exposed        589\n",
    "nombre_recovered    16266\n",
    "Name: 375, dtype: int64"
   ]
  },
  {
   "cell_type": "markdown",
   "id": "5acfe9a4",
   "metadata": {},
   "source": [
    "nombre_infected      1065\n",
    "nombre_sain          2098\n",
    "nombre_exposed        577\n",
    "nombre_recovered    16260\n",
    "Name: 376, dtype: int64"
   ]
  },
  {
   "cell_type": "markdown",
   "id": "b10d384d",
   "metadata": {},
   "source": [
    "nombre_infected      1070\n",
    "nombre_sain          2104\n",
    "nombre_exposed        588\n",
    "nombre_recovered    16238\n",
    "Name: 377, dtype: int64"
   ]
  },
  {
   "cell_type": "markdown",
   "id": "f379f457",
   "metadata": {},
   "source": [
    "nombre_infected      1070\n",
    "nombre_sain          2120\n",
    "nombre_exposed        562\n",
    "nombre_recovered    16248\n",
    "Name: 378, dtype: int64"
   ]
  },
  {
   "cell_type": "markdown",
   "id": "930309da",
   "metadata": {},
   "source": [
    "nombre_infected      1082\n",
    "nombre_sain          2145\n",
    "nombre_exposed        525\n",
    "nombre_recovered    16248\n",
    "Name: 379, dtype: int64"
   ]
  },
  {
   "cell_type": "markdown",
   "id": "9ccd18e7",
   "metadata": {},
   "source": [
    "nombre_infected      1077\n",
    "nombre_sain          2160\n",
    "nombre_exposed        533\n",
    "nombre_recovered    16230\n",
    "Name: 380, dtype: int64"
   ]
  },
  {
   "cell_type": "markdown",
   "id": "e53ed88d",
   "metadata": {},
   "source": [
    "nombre_infected      1055\n",
    "nombre_sain          2172\n",
    "nombre_exposed        536\n",
    "nombre_recovered    16237\n",
    "Name: 381, dtype: int64"
   ]
  },
  {
   "cell_type": "markdown",
   "id": "7736595c",
   "metadata": {},
   "source": [
    "nombre_infected      1027\n",
    "nombre_sain          2191\n",
    "nombre_exposed        543\n",
    "nombre_recovered    16239\n",
    "Name: 382, dtype: int64"
   ]
  },
  {
   "cell_type": "markdown",
   "id": "b82bf117",
   "metadata": {},
   "source": [
    "nombre_infected      1048\n",
    "nombre_sain          2242\n",
    "nombre_exposed        528\n",
    "nombre_recovered    16182\n",
    "Name: 383, dtype: int64"
   ]
  },
  {
   "cell_type": "markdown",
   "id": "8c9c59c8",
   "metadata": {},
   "source": [
    "nombre_infected      1033\n",
    "nombre_sain          2231\n",
    "nombre_exposed        544\n",
    "nombre_recovered    16192\n",
    "Name: 384, dtype: int64"
   ]
  },
  {
   "cell_type": "markdown",
   "id": "a7dbfdd1",
   "metadata": {},
   "source": [
    "nombre_infected      1045\n",
    "nombre_sain          2227\n",
    "nombre_exposed        543\n",
    "nombre_recovered    16185\n",
    "Name: 385, dtype: int64"
   ]
  },
  {
   "cell_type": "markdown",
   "id": "940804fb",
   "metadata": {},
   "source": [
    "nombre_infected      1014\n",
    "nombre_sain          2184\n",
    "nombre_exposed        587\n",
    "nombre_recovered    16215\n",
    "Name: 386, dtype: int64"
   ]
  },
  {
   "cell_type": "markdown",
   "id": "3ea95fa8",
   "metadata": {},
   "source": [
    "nombre_infected      1001\n",
    "nombre_sain          2195\n",
    "nombre_exposed        578\n",
    "nombre_recovered    16226\n",
    "Name: 387, dtype: int64"
   ]
  },
  {
   "cell_type": "markdown",
   "id": "25d70b57",
   "metadata": {},
   "source": [
    "nombre_infected      1008\n",
    "nombre_sain          2203\n",
    "nombre_exposed        558\n",
    "nombre_recovered    16231\n",
    "Name: 388, dtype: int64"
   ]
  },
  {
   "cell_type": "markdown",
   "id": "2662966b",
   "metadata": {},
   "source": [
    "nombre_infected      1004\n",
    "nombre_sain          2189\n",
    "nombre_exposed        560\n",
    "nombre_recovered    16247\n",
    "Name: 389, dtype: int64"
   ]
  },
  {
   "cell_type": "markdown",
   "id": "9d449394",
   "metadata": {},
   "source": [
    "nombre_infected      1010\n",
    "nombre_sain          2183\n",
    "nombre_exposed        569\n",
    "nombre_recovered    16238\n",
    "Name: 390, dtype: int64"
   ]
  },
  {
   "cell_type": "markdown",
   "id": "6f384ba5",
   "metadata": {},
   "source": [
    "nombre_infected       988\n",
    "nombre_sain          2205\n",
    "nombre_exposed        559\n",
    "nombre_recovered    16248\n",
    "Name: 391, dtype: int64"
   ]
  },
  {
   "cell_type": "markdown",
   "id": "76f10844",
   "metadata": {},
   "source": [
    "nombre_infected      1004\n",
    "nombre_sain          2204\n",
    "nombre_exposed        554\n",
    "nombre_recovered    16238\n",
    "Name: 392, dtype: int64"
   ]
  },
  {
   "cell_type": "markdown",
   "id": "c554885d",
   "metadata": {},
   "source": [
    "nombre_infected       989\n",
    "nombre_sain          2197\n",
    "nombre_exposed        563\n",
    "nombre_recovered    16251\n",
    "Name: 393, dtype: int64"
   ]
  },
  {
   "cell_type": "markdown",
   "id": "0d410187",
   "metadata": {},
   "source": [
    "nombre_infected       995\n",
    "nombre_sain          2176\n",
    "nombre_exposed        564\n",
    "nombre_recovered    16265\n",
    "Name: 394, dtype: int64"
   ]
  },
  {
   "cell_type": "markdown",
   "id": "427cf250",
   "metadata": {},
   "source": [
    "nombre_infected       976\n",
    "nombre_sain          2143\n",
    "nombre_exposed        578\n",
    "nombre_recovered    16303\n",
    "Name: 395, dtype: int64"
   ]
  },
  {
   "cell_type": "markdown",
   "id": "134d77ad",
   "metadata": {},
   "source": [
    "nombre_infected       972\n",
    "nombre_sain          2145\n",
    "nombre_exposed        582\n",
    "nombre_recovered    16301\n",
    "Name: 396, dtype: int64"
   ]
  },
  {
   "cell_type": "markdown",
   "id": "d8912094",
   "metadata": {},
   "source": [
    "nombre_infected       982\n",
    "nombre_sain          2139\n",
    "nombre_exposed        565\n",
    "nombre_recovered    16314\n",
    "Name: 397, dtype: int64"
   ]
  },
  {
   "cell_type": "markdown",
   "id": "080c1a0e",
   "metadata": {},
   "source": [
    "nombre_infected       985\n",
    "nombre_sain          2148\n",
    "nombre_exposed        545\n",
    "nombre_recovered    16322\n",
    "Name: 398, dtype: int64"
   ]
  },
  {
   "cell_type": "markdown",
   "id": "7e79384d",
   "metadata": {},
   "source": [
    "nombre_infected       982\n",
    "nombre_sain          2113\n",
    "nombre_exposed        555\n",
    "nombre_recovered    16350\n",
    "Name: 399, dtype: int64"
   ]
  },
  {
   "cell_type": "markdown",
   "id": "56cf68d3",
   "metadata": {},
   "source": [
    "nombre_infected       957\n",
    "nombre_sain          2122\n",
    "nombre_exposed        567\n",
    "nombre_recovered    16354\n",
    "Name: 400, dtype: int64"
   ]
  },
  {
   "cell_type": "markdown",
   "id": "126e8c25",
   "metadata": {},
   "source": [
    "nombre_infected       951\n",
    "nombre_sain          2133\n",
    "nombre_exposed        563\n",
    "nombre_recovered    16353\n",
    "Name: 401, dtype: int64"
   ]
  },
  {
   "cell_type": "markdown",
   "id": "40ff69d3",
   "metadata": {},
   "source": [
    "nombre_infected       966\n",
    "nombre_sain          2150\n",
    "nombre_exposed        530\n",
    "nombre_recovered    16354\n",
    "Name: 402, dtype: int64"
   ]
  },
  {
   "cell_type": "markdown",
   "id": "5e04d3b6",
   "metadata": {},
   "source": [
    "nombre_infected       961\n",
    "nombre_sain          2145\n",
    "nombre_exposed        539\n",
    "nombre_recovered    16355\n",
    "Name: 403, dtype: int64"
   ]
  },
  {
   "cell_type": "markdown",
   "id": "a0962803",
   "metadata": {},
   "source": [
    "nombre_infected       984\n",
    "nombre_sain          2143\n",
    "nombre_exposed        529\n",
    "nombre_recovered    16344\n",
    "Name: 404, dtype: int64"
   ]
  },
  {
   "cell_type": "markdown",
   "id": "cd5f1348",
   "metadata": {},
   "source": [
    "nombre_infected       965\n",
    "nombre_sain          2153\n",
    "nombre_exposed        532\n",
    "nombre_recovered    16350\n",
    "Name: 405, dtype: int64"
   ]
  },
  {
   "cell_type": "markdown",
   "id": "8dacb89c",
   "metadata": {},
   "source": [
    "nombre_infected       983\n",
    "nombre_sain          2166\n",
    "nombre_exposed        514\n",
    "nombre_recovered    16337\n",
    "Name: 406, dtype: int64"
   ]
  },
  {
   "cell_type": "markdown",
   "id": "9511506a",
   "metadata": {},
   "source": [
    "nombre_infected       983\n",
    "nombre_sain          2148\n",
    "nombre_exposed        525\n",
    "nombre_recovered    16344\n",
    "Name: 407, dtype: int64"
   ]
  },
  {
   "cell_type": "markdown",
   "id": "0daae052",
   "metadata": {},
   "source": [
    "nombre_infected       926\n",
    "nombre_sain          2168\n",
    "nombre_exposed        557\n",
    "nombre_recovered    16349\n",
    "Name: 408, dtype: int64"
   ]
  },
  {
   "cell_type": "markdown",
   "id": "d590aaa5",
   "metadata": {},
   "source": [
    "nombre_infected       922\n",
    "nombre_sain          2190\n",
    "nombre_exposed        548\n",
    "nombre_recovered    16340\n",
    "Name: 409, dtype: int64"
   ]
  },
  {
   "cell_type": "markdown",
   "id": "6c692845",
   "metadata": {},
   "source": [
    "nombre_infected       927\n",
    "nombre_sain          2189\n",
    "nombre_exposed        530\n",
    "nombre_recovered    16354\n",
    "Name: 410, dtype: int64"
   ]
  },
  {
   "cell_type": "markdown",
   "id": "4428cacc",
   "metadata": {},
   "source": [
    "nombre_infected       936\n",
    "nombre_sain          2189\n",
    "nombre_exposed        546\n",
    "nombre_recovered    16329\n",
    "Name: 411, dtype: int64"
   ]
  },
  {
   "cell_type": "markdown",
   "id": "e0870e76",
   "metadata": {},
   "source": [
    "nombre_infected       914\n",
    "nombre_sain          2176\n",
    "nombre_exposed        581\n",
    "nombre_recovered    16329\n",
    "Name: 412, dtype: int64"
   ]
  },
  {
   "cell_type": "markdown",
   "id": "e6aa3b19",
   "metadata": {},
   "source": [
    "nombre_infected       930\n",
    "nombre_sain          2193\n",
    "nombre_exposed        543\n",
    "nombre_recovered    16334\n",
    "Name: 413, dtype: int64"
   ]
  },
  {
   "cell_type": "markdown",
   "id": "24fd3741",
   "metadata": {},
   "source": [
    "nombre_infected       911\n",
    "nombre_sain          2188\n",
    "nombre_exposed        528\n",
    "nombre_recovered    16373\n",
    "Name: 414, dtype: int64"
   ]
  },
  {
   "cell_type": "markdown",
   "id": "109ab802",
   "metadata": {},
   "source": [
    "nombre_infected       904\n",
    "nombre_sain          2183\n",
    "nombre_exposed        519\n",
    "nombre_recovered    16394\n",
    "Name: 415, dtype: int64"
   ]
  },
  {
   "cell_type": "markdown",
   "id": "b03ea0f0",
   "metadata": {},
   "source": [
    "nombre_infected       925\n",
    "nombre_sain          2181\n",
    "nombre_exposed        513\n",
    "nombre_recovered    16381\n",
    "Name: 416, dtype: int64"
   ]
  },
  {
   "cell_type": "markdown",
   "id": "149e6d81",
   "metadata": {},
   "source": [
    "nombre_infected       900\n",
    "nombre_sain          2154\n",
    "nombre_exposed        527\n",
    "nombre_recovered    16419\n",
    "Name: 417, dtype: int64"
   ]
  },
  {
   "cell_type": "markdown",
   "id": "fb5505a3",
   "metadata": {},
   "source": [
    "nombre_infected       901\n",
    "nombre_sain          2151\n",
    "nombre_exposed        532\n",
    "nombre_recovered    16416\n",
    "Name: 418, dtype: int64"
   ]
  },
  {
   "cell_type": "markdown",
   "id": "57cead5b",
   "metadata": {},
   "source": [
    "nombre_infected       898\n",
    "nombre_sain          2165\n",
    "nombre_exposed        516\n",
    "nombre_recovered    16421\n",
    "Name: 419, dtype: int64"
   ]
  },
  {
   "cell_type": "markdown",
   "id": "3cb1e4b0",
   "metadata": {},
   "source": [
    "nombre_infected       910\n",
    "nombre_sain          2180\n",
    "nombre_exposed        497\n",
    "nombre_recovered    16413\n",
    "Name: 420, dtype: int64"
   ]
  },
  {
   "cell_type": "markdown",
   "id": "7ea6a8c6",
   "metadata": {},
   "source": [
    "nombre_infected       876\n",
    "nombre_sain          2196\n",
    "nombre_exposed        498\n",
    "nombre_recovered    16430\n",
    "Name: 421, dtype: int64"
   ]
  },
  {
   "cell_type": "markdown",
   "id": "9a881e8a",
   "metadata": {},
   "source": [
    "nombre_infected       875\n",
    "nombre_sain          2202\n",
    "nombre_exposed        503\n",
    "nombre_recovered    16420\n",
    "Name: 422, dtype: int64"
   ]
  },
  {
   "cell_type": "markdown",
   "id": "c0e16f2d",
   "metadata": {},
   "source": [
    "nombre_infected       875\n",
    "nombre_sain          2199\n",
    "nombre_exposed        513\n",
    "nombre_recovered    16413\n",
    "Name: 423, dtype: int64"
   ]
  },
  {
   "cell_type": "markdown",
   "id": "4a42b35b",
   "metadata": {},
   "source": [
    "nombre_infected       915\n",
    "nombre_sain          2197\n",
    "nombre_exposed        476\n",
    "nombre_recovered    16412\n",
    "Name: 424, dtype: int64"
   ]
  },
  {
   "cell_type": "markdown",
   "id": "f50ca574",
   "metadata": {},
   "source": [
    "nombre_infected       923\n",
    "nombre_sain          2213\n",
    "nombre_exposed        456\n",
    "nombre_recovered    16408\n",
    "Name: 425, dtype: int64"
   ]
  },
  {
   "cell_type": "markdown",
   "id": "7630fdc4",
   "metadata": {},
   "source": [
    "nombre_infected       896\n",
    "nombre_sain          2215\n",
    "nombre_exposed        487\n",
    "nombre_recovered    16402\n",
    "Name: 426, dtype: int64"
   ]
  },
  {
   "cell_type": "markdown",
   "id": "56513368",
   "metadata": {},
   "source": [
    "nombre_infected       891\n",
    "nombre_sain          2247\n",
    "nombre_exposed        483\n",
    "nombre_recovered    16379\n",
    "Name: 427, dtype: int64"
   ]
  },
  {
   "cell_type": "markdown",
   "id": "3c8f09d1",
   "metadata": {},
   "source": [
    "nombre_infected       901\n",
    "nombre_sain          2253\n",
    "nombre_exposed        476\n",
    "nombre_recovered    16370\n",
    "Name: 428, dtype: int64"
   ]
  },
  {
   "cell_type": "markdown",
   "id": "bc8fe9c7",
   "metadata": {},
   "source": [
    "nombre_infected       892\n",
    "nombre_sain          2282\n",
    "nombre_exposed        479\n",
    "nombre_recovered    16347\n",
    "Name: 429, dtype: int64"
   ]
  },
  {
   "cell_type": "markdown",
   "id": "caaefb21",
   "metadata": {},
   "source": [
    "nombre_infected       888\n",
    "nombre_sain          2257\n",
    "nombre_exposed        507\n",
    "nombre_recovered    16348\n",
    "Name: 430, dtype: int64"
   ]
  },
  {
   "cell_type": "markdown",
   "id": "5bf67e90",
   "metadata": {},
   "source": [
    "nombre_infected       884\n",
    "nombre_sain          2247\n",
    "nombre_exposed        530\n",
    "nombre_recovered    16339\n",
    "Name: 431, dtype: int64"
   ]
  },
  {
   "cell_type": "markdown",
   "id": "bab722c7",
   "metadata": {},
   "source": [
    "nombre_infected       884\n",
    "nombre_sain          2235\n",
    "nombre_exposed        551\n",
    "nombre_recovered    16330\n",
    "Name: 432, dtype: int64"
   ]
  },
  {
   "cell_type": "markdown",
   "id": "d8181845",
   "metadata": {},
   "source": [
    "nombre_infected       922\n",
    "nombre_sain          2236\n",
    "nombre_exposed        525\n",
    "nombre_recovered    16317\n",
    "Name: 433, dtype: int64"
   ]
  },
  {
   "cell_type": "markdown",
   "id": "4ee8dcb6",
   "metadata": {},
   "source": [
    "nombre_infected       945\n",
    "nombre_sain          2227\n",
    "nombre_exposed        521\n",
    "nombre_recovered    16307\n",
    "Name: 434, dtype: int64"
   ]
  },
  {
   "cell_type": "markdown",
   "id": "d6a59101",
   "metadata": {},
   "source": [
    "nombre_infected       955\n",
    "nombre_sain          2206\n",
    "nombre_exposed        537\n",
    "nombre_recovered    16302\n",
    "Name: 435, dtype: int64"
   ]
  },
  {
   "cell_type": "markdown",
   "id": "09b8d171",
   "metadata": {},
   "source": [
    "nombre_infected       972\n",
    "nombre_sain          2198\n",
    "nombre_exposed        565\n",
    "nombre_recovered    16265\n",
    "Name: 436, dtype: int64"
   ]
  },
  {
   "cell_type": "markdown",
   "id": "b09e0e84",
   "metadata": {},
   "source": [
    "nombre_infected       999\n",
    "nombre_sain          2199\n",
    "nombre_exposed        542\n",
    "nombre_recovered    16260\n",
    "Name: 437, dtype: int64"
   ]
  },
  {
   "cell_type": "markdown",
   "id": "c776adf1",
   "metadata": {},
   "source": [
    "nombre_infected      1013\n",
    "nombre_sain          2189\n",
    "nombre_exposed        539\n",
    "nombre_recovered    16259\n",
    "Name: 438, dtype: int64"
   ]
  },
  {
   "cell_type": "markdown",
   "id": "3cc2ccea",
   "metadata": {},
   "source": [
    "nombre_infected      1017\n",
    "nombre_sain          2182\n",
    "nombre_exposed        550\n",
    "nombre_recovered    16251\n",
    "Name: 439, dtype: int64"
   ]
  },
  {
   "cell_type": "markdown",
   "id": "4e7bd57d",
   "metadata": {},
   "source": [
    "nombre_infected      1007\n",
    "nombre_sain          2172\n",
    "nombre_exposed        560\n",
    "nombre_recovered    16261\n",
    "Name: 440, dtype: int64"
   ]
  },
  {
   "cell_type": "markdown",
   "id": "ad20a37e",
   "metadata": {},
   "source": [
    "nombre_infected      1040\n",
    "nombre_sain          2138\n",
    "nombre_exposed        561\n",
    "nombre_recovered    16261\n",
    "Name: 441, dtype: int64"
   ]
  },
  {
   "cell_type": "markdown",
   "id": "e67dfe3d",
   "metadata": {},
   "source": [
    "nombre_infected      1042\n",
    "nombre_sain          2121\n",
    "nombre_exposed        561\n",
    "nombre_recovered    16276\n",
    "Name: 442, dtype: int64"
   ]
  },
  {
   "cell_type": "markdown",
   "id": "dcdcf2ee",
   "metadata": {},
   "source": [
    "nombre_infected      1055\n",
    "nombre_sain          2097\n",
    "nombre_exposed        562\n",
    "nombre_recovered    16286\n",
    "Name: 443, dtype: int64"
   ]
  },
  {
   "cell_type": "markdown",
   "id": "ac803e9a",
   "metadata": {},
   "source": [
    "nombre_infected      1090\n",
    "nombre_sain          2075\n",
    "nombre_exposed        550\n",
    "nombre_recovered    16285\n",
    "Name: 444, dtype: int64"
   ]
  },
  {
   "cell_type": "markdown",
   "id": "4bfb024e",
   "metadata": {},
   "source": [
    "nombre_infected      1091\n",
    "nombre_sain          2056\n",
    "nombre_exposed        551\n",
    "nombre_recovered    16302\n",
    "Name: 445, dtype: int64"
   ]
  },
  {
   "cell_type": "markdown",
   "id": "501f8e5b",
   "metadata": {},
   "source": [
    "nombre_infected      1107\n",
    "nombre_sain          1985\n",
    "nombre_exposed        564\n",
    "nombre_recovered    16344\n",
    "Name: 446, dtype: int64"
   ]
  },
  {
   "cell_type": "markdown",
   "id": "b9ebeb0e",
   "metadata": {},
   "source": [
    "nombre_infected      1102\n",
    "nombre_sain          1986\n",
    "nombre_exposed        537\n",
    "nombre_recovered    16375\n",
    "Name: 447, dtype: int64"
   ]
  },
  {
   "cell_type": "markdown",
   "id": "168c486f",
   "metadata": {},
   "source": [
    "nombre_infected      1097\n",
    "nombre_sain          1966\n",
    "nombre_exposed        527\n",
    "nombre_recovered    16410\n",
    "Name: 448, dtype: int64"
   ]
  },
  {
   "cell_type": "markdown",
   "id": "1835741d",
   "metadata": {},
   "source": [
    "nombre_infected      1085\n",
    "nombre_sain          1960\n",
    "nombre_exposed        528\n",
    "nombre_recovered    16427\n",
    "Name: 449, dtype: int64"
   ]
  },
  {
   "cell_type": "markdown",
   "id": "f0eb39af",
   "metadata": {},
   "source": [
    "nombre_infected      1087\n",
    "nombre_sain          1949\n",
    "nombre_exposed        512\n",
    "nombre_recovered    16452\n",
    "Name: 450, dtype: int64"
   ]
  },
  {
   "cell_type": "markdown",
   "id": "8ae7f3d3",
   "metadata": {},
   "source": [
    "nombre_infected      1109\n",
    "nombre_sain          1921\n",
    "nombre_exposed        505\n",
    "nombre_recovered    16465\n",
    "Name: 451, dtype: int64"
   ]
  },
  {
   "cell_type": "markdown",
   "id": "c17c1db7",
   "metadata": {},
   "source": [
    "nombre_infected      1104\n",
    "nombre_sain          1898\n",
    "nombre_exposed        496\n",
    "nombre_recovered    16502\n",
    "Name: 452, dtype: int64"
   ]
  },
  {
   "cell_type": "markdown",
   "id": "24d57dbd",
   "metadata": {},
   "source": [
    "nombre_infected      1081\n",
    "nombre_sain          1862\n",
    "nombre_exposed        522\n",
    "nombre_recovered    16535\n",
    "Name: 453, dtype: int64"
   ]
  },
  {
   "cell_type": "markdown",
   "id": "8583aa2d",
   "metadata": {},
   "source": [
    "nombre_infected      1100\n",
    "nombre_sain          1875\n",
    "nombre_exposed        482\n",
    "nombre_recovered    16543\n",
    "Name: 454, dtype: int64"
   ]
  },
  {
   "cell_type": "markdown",
   "id": "9e5252de",
   "metadata": {},
   "source": [
    "nombre_infected      1101\n",
    "nombre_sain          1863\n",
    "nombre_exposed        490\n",
    "nombre_recovered    16546\n",
    "Name: 455, dtype: int64"
   ]
  },
  {
   "cell_type": "markdown",
   "id": "96df8599",
   "metadata": {},
   "source": [
    "nombre_infected      1078\n",
    "nombre_sain          1859\n",
    "nombre_exposed        499\n",
    "nombre_recovered    16564\n",
    "Name: 456, dtype: int64"
   ]
  },
  {
   "cell_type": "markdown",
   "id": "79b95e86",
   "metadata": {},
   "source": [
    "nombre_infected      1078\n",
    "nombre_sain          1881\n",
    "nombre_exposed        474\n",
    "nombre_recovered    16567\n",
    "Name: 457, dtype: int64"
   ]
  },
  {
   "cell_type": "markdown",
   "id": "728ffe88",
   "metadata": {},
   "source": [
    "nombre_infected      1062\n",
    "nombre_sain          1884\n",
    "nombre_exposed        466\n",
    "nombre_recovered    16588\n",
    "Name: 458, dtype: int64"
   ]
  },
  {
   "cell_type": "markdown",
   "id": "2766b5ba",
   "metadata": {},
   "source": [
    "nombre_infected      1047\n",
    "nombre_sain          1894\n",
    "nombre_exposed        464\n",
    "nombre_recovered    16595\n",
    "Name: 459, dtype: int64"
   ]
  },
  {
   "cell_type": "markdown",
   "id": "662db2e8",
   "metadata": {},
   "source": [
    "nombre_infected      1060\n",
    "nombre_sain          1884\n",
    "nombre_exposed        462\n",
    "nombre_recovered    16594\n",
    "Name: 460, dtype: int64"
   ]
  },
  {
   "cell_type": "markdown",
   "id": "97f2cfeb",
   "metadata": {},
   "source": [
    "nombre_infected      1063\n",
    "nombre_sain          1877\n",
    "nombre_exposed        476\n",
    "nombre_recovered    16584\n",
    "Name: 461, dtype: int64"
   ]
  },
  {
   "cell_type": "markdown",
   "id": "3a962112",
   "metadata": {},
   "source": [
    "nombre_infected      1051\n",
    "nombre_sain          1878\n",
    "nombre_exposed        476\n",
    "nombre_recovered    16595\n",
    "Name: 462, dtype: int64"
   ]
  },
  {
   "cell_type": "markdown",
   "id": "23b8ce3d",
   "metadata": {},
   "source": [
    "nombre_infected      1017\n",
    "nombre_sain          1866\n",
    "nombre_exposed        493\n",
    "nombre_recovered    16624\n",
    "Name: 463, dtype: int64"
   ]
  },
  {
   "cell_type": "markdown",
   "id": "c7288de4",
   "metadata": {},
   "source": [
    "nombre_infected       999\n",
    "nombre_sain          1864\n",
    "nombre_exposed        494\n",
    "nombre_recovered    16643\n",
    "Name: 464, dtype: int64"
   ]
  },
  {
   "cell_type": "markdown",
   "id": "5c5e2eff",
   "metadata": {},
   "source": [
    "nombre_infected       983\n",
    "nombre_sain          1853\n",
    "nombre_exposed        467\n",
    "nombre_recovered    16697\n",
    "Name: 465, dtype: int64"
   ]
  },
  {
   "cell_type": "markdown",
   "id": "d59cceac",
   "metadata": {},
   "source": [
    "nombre_infected      1002\n",
    "nombre_sain          1856\n",
    "nombre_exposed        442\n",
    "nombre_recovered    16700\n",
    "Name: 466, dtype: int64"
   ]
  },
  {
   "cell_type": "markdown",
   "id": "e5976d02",
   "metadata": {},
   "source": [
    "nombre_infected       996\n",
    "nombre_sain          1824\n",
    "nombre_exposed        480\n",
    "nombre_recovered    16700\n",
    "Name: 467, dtype: int64"
   ]
  },
  {
   "cell_type": "markdown",
   "id": "c6f6421d",
   "metadata": {},
   "source": [
    "nombre_infected      1010\n",
    "nombre_sain          1807\n",
    "nombre_exposed        464\n",
    "nombre_recovered    16719\n",
    "Name: 468, dtype: int64"
   ]
  },
  {
   "cell_type": "markdown",
   "id": "4a0e4a42",
   "metadata": {},
   "source": [
    "nombre_infected       991\n",
    "nombre_sain          1799\n",
    "nombre_exposed        464\n",
    "nombre_recovered    16746\n",
    "Name: 469, dtype: int64"
   ]
  },
  {
   "cell_type": "markdown",
   "id": "47ab3c67",
   "metadata": {},
   "source": [
    "nombre_infected       959\n",
    "nombre_sain          1832\n",
    "nombre_exposed        427\n",
    "nombre_recovered    16782\n",
    "Name: 470, dtype: int64"
   ]
  },
  {
   "cell_type": "markdown",
   "id": "ec184c95",
   "metadata": {},
   "source": [
    "nombre_infected       967\n",
    "nombre_sain          1842\n",
    "nombre_exposed        414\n",
    "nombre_recovered    16777\n",
    "Name: 471, dtype: int64"
   ]
  },
  {
   "cell_type": "markdown",
   "id": "635e11fd",
   "metadata": {},
   "source": [
    "nombre_infected       931\n",
    "nombre_sain          1843\n",
    "nombre_exposed        427\n",
    "nombre_recovered    16799\n",
    "Name: 472, dtype: int64"
   ]
  },
  {
   "cell_type": "markdown",
   "id": "599c768d",
   "metadata": {},
   "source": [
    "nombre_infected       929\n",
    "nombre_sain          1846\n",
    "nombre_exposed        415\n",
    "nombre_recovered    16810\n",
    "Name: 473, dtype: int64"
   ]
  },
  {
   "cell_type": "markdown",
   "id": "e2958819",
   "metadata": {},
   "source": [
    "nombre_infected       894\n",
    "nombre_sain          1846\n",
    "nombre_exposed        435\n",
    "nombre_recovered    16825\n",
    "Name: 474, dtype: int64"
   ]
  },
  {
   "cell_type": "markdown",
   "id": "4a5dcbf2",
   "metadata": {},
   "source": [
    "nombre_infected       885\n",
    "nombre_sain          1847\n",
    "nombre_exposed        450\n",
    "nombre_recovered    16818\n",
    "Name: 475, dtype: int64"
   ]
  },
  {
   "cell_type": "markdown",
   "id": "3d2df178",
   "metadata": {},
   "source": [
    "nombre_infected       874\n",
    "nombre_sain          1863\n",
    "nombre_exposed        444\n",
    "nombre_recovered    16819\n",
    "Name: 476, dtype: int64"
   ]
  },
  {
   "cell_type": "markdown",
   "id": "9c45ab59",
   "metadata": {},
   "source": [
    "nombre_infected       893\n",
    "nombre_sain          1886\n",
    "nombre_exposed        431\n",
    "nombre_recovered    16790\n",
    "Name: 477, dtype: int64"
   ]
  },
  {
   "cell_type": "markdown",
   "id": "55351fcc",
   "metadata": {},
   "source": [
    "nombre_infected       899\n",
    "nombre_sain          1901\n",
    "nombre_exposed        417\n",
    "nombre_recovered    16783\n",
    "Name: 478, dtype: int64"
   ]
  },
  {
   "cell_type": "markdown",
   "id": "6ca8e504",
   "metadata": {},
   "source": [
    "nombre_infected       879\n",
    "nombre_sain          1885\n",
    "nombre_exposed        419\n",
    "nombre_recovered    16817\n",
    "Name: 479, dtype: int64"
   ]
  },
  {
   "cell_type": "markdown",
   "id": "bf8b6ea7",
   "metadata": {},
   "source": [
    "nombre_infected       861\n",
    "nombre_sain          1887\n",
    "nombre_exposed        418\n",
    "nombre_recovered    16834\n",
    "Name: 480, dtype: int64"
   ]
  },
  {
   "cell_type": "markdown",
   "id": "2feda3ce",
   "metadata": {},
   "source": [
    "nombre_infected       847\n",
    "nombre_sain          1891\n",
    "nombre_exposed        445\n",
    "nombre_recovered    16817\n",
    "Name: 481, dtype: int64"
   ]
  },
  {
   "cell_type": "markdown",
   "id": "4129b14f",
   "metadata": {},
   "source": [
    "nombre_infected       841\n",
    "nombre_sain          1917\n",
    "nombre_exposed        437\n",
    "nombre_recovered    16805\n",
    "Name: 482, dtype: int64"
   ]
  },
  {
   "cell_type": "markdown",
   "id": "8e05e4e7",
   "metadata": {},
   "source": [
    "nombre_infected       859\n",
    "nombre_sain          1946\n",
    "nombre_exposed        410\n",
    "nombre_recovered    16785\n",
    "Name: 483, dtype: int64"
   ]
  },
  {
   "cell_type": "markdown",
   "id": "6e637d81",
   "metadata": {},
   "source": [
    "nombre_infected       838\n",
    "nombre_sain          1977\n",
    "nombre_exposed        406\n",
    "nombre_recovered    16779\n",
    "Name: 484, dtype: int64"
   ]
  },
  {
   "cell_type": "markdown",
   "id": "4813e452",
   "metadata": {},
   "source": [
    "nombre_infected       813\n",
    "nombre_sain          2005\n",
    "nombre_exposed        400\n",
    "nombre_recovered    16782\n",
    "Name: 485, dtype: int64"
   ]
  },
  {
   "cell_type": "markdown",
   "id": "c0ed4262",
   "metadata": {},
   "source": [
    "nombre_infected       791\n",
    "nombre_sain          2036\n",
    "nombre_exposed        402\n",
    "nombre_recovered    16771\n",
    "Name: 486, dtype: int64"
   ]
  },
  {
   "cell_type": "markdown",
   "id": "a1de0983",
   "metadata": {},
   "source": [
    "nombre_infected       764\n",
    "nombre_sain          2046\n",
    "nombre_exposed        422\n",
    "nombre_recovered    16768\n",
    "Name: 487, dtype: int64"
   ]
  },
  {
   "cell_type": "markdown",
   "id": "8b20434d",
   "metadata": {},
   "source": [
    "nombre_infected       769\n",
    "nombre_sain          2086\n",
    "nombre_exposed        403\n",
    "nombre_recovered    16742\n",
    "Name: 488, dtype: int64"
   ]
  },
  {
   "cell_type": "markdown",
   "id": "e09da8e3",
   "metadata": {},
   "source": [
    "nombre_infected       769\n",
    "nombre_sain          2126\n",
    "nombre_exposed        397\n",
    "nombre_recovered    16708\n",
    "Name: 489, dtype: int64"
   ]
  },
  {
   "cell_type": "markdown",
   "id": "be0d1a70",
   "metadata": {},
   "source": [
    "nombre_infected       755\n",
    "nombre_sain          2137\n",
    "nombre_exposed        409\n",
    "nombre_recovered    16699\n",
    "Name: 490, dtype: int64"
   ]
  },
  {
   "cell_type": "markdown",
   "id": "9861e428",
   "metadata": {},
   "source": [
    "nombre_infected       748\n",
    "nombre_sain          2137\n",
    "nombre_exposed        424\n",
    "nombre_recovered    16691\n",
    "Name: 491, dtype: int64"
   ]
  },
  {
   "cell_type": "markdown",
   "id": "cdd86d6a",
   "metadata": {},
   "source": [
    "nombre_infected       742\n",
    "nombre_sain          2154\n",
    "nombre_exposed        438\n",
    "nombre_recovered    16666\n",
    "Name: 492, dtype: int64"
   ]
  },
  {
   "cell_type": "markdown",
   "id": "bcc308a4",
   "metadata": {},
   "source": [
    "nombre_infected       733\n",
    "nombre_sain          2171\n",
    "nombre_exposed        448\n",
    "nombre_recovered    16648\n",
    "Name: 493, dtype: int64"
   ]
  },
  {
   "cell_type": "markdown",
   "id": "d6aa1a02",
   "metadata": {},
   "source": [
    "nombre_infected       754\n",
    "nombre_sain          2196\n",
    "nombre_exposed        436\n",
    "nombre_recovered    16614\n",
    "Name: 494, dtype: int64"
   ]
  },
  {
   "cell_type": "markdown",
   "id": "21a0cc83",
   "metadata": {},
   "source": [
    "nombre_infected       780\n",
    "nombre_sain          2209\n",
    "nombre_exposed        435\n",
    "nombre_recovered    16576\n",
    "Name: 495, dtype: int64"
   ]
  },
  {
   "cell_type": "markdown",
   "id": "749b3fc4",
   "metadata": {},
   "source": [
    "nombre_infected       810\n",
    "nombre_sain          2224\n",
    "nombre_exposed        433\n",
    "nombre_recovered    16533\n",
    "Name: 496, dtype: int64"
   ]
  },
  {
   "cell_type": "markdown",
   "id": "3fbd3572",
   "metadata": {},
   "source": [
    "nombre_infected       801\n",
    "nombre_sain          2237\n",
    "nombre_exposed        436\n",
    "nombre_recovered    16526\n",
    "Name: 497, dtype: int64"
   ]
  },
  {
   "cell_type": "markdown",
   "id": "d45288ed",
   "metadata": {},
   "source": [
    "nombre_infected       786\n",
    "nombre_sain          2253\n",
    "nombre_exposed        439\n",
    "nombre_recovered    16522\n",
    "Name: 498, dtype: int64"
   ]
  },
  {
   "cell_type": "markdown",
   "id": "b14bc8ee",
   "metadata": {},
   "source": [
    "nombre_infected       780\n",
    "nombre_sain          2268\n",
    "nombre_exposed        445\n",
    "nombre_recovered    16507\n",
    "Name: 499, dtype: int64"
   ]
  },
  {
   "cell_type": "markdown",
   "id": "3d0ddccf",
   "metadata": {},
   "source": [
    "nombre_infected       794\n",
    "nombre_sain          2278\n",
    "nombre_exposed        433\n",
    "nombre_recovered    16495\n",
    "Name: 500, dtype: int64"
   ]
  },
  {
   "cell_type": "markdown",
   "id": "0274fa9f",
   "metadata": {},
   "source": [
    "nombre_infected       787\n",
    "nombre_sain          2330\n",
    "nombre_exposed        429\n",
    "nombre_recovered    16454\n",
    "Name: 501, dtype: int64"
   ]
  },
  {
   "cell_type": "markdown",
   "id": "72cf24e7",
   "metadata": {},
   "source": [
    "nombre_infected       775\n",
    "nombre_sain          2348\n",
    "nombre_exposed        440\n",
    "nombre_recovered    16437\n",
    "Name: 502, dtype: int64"
   ]
  },
  {
   "cell_type": "markdown",
   "id": "a22e4ef7",
   "metadata": {},
   "source": [
    "nombre_infected       771\n",
    "nombre_sain          2355\n",
    "nombre_exposed        459\n",
    "nombre_recovered    16415\n",
    "Name: 503, dtype: int64"
   ]
  },
  {
   "cell_type": "markdown",
   "id": "e2fbe299",
   "metadata": {},
   "source": [
    "nombre_infected       771\n",
    "nombre_sain          2380\n",
    "nombre_exposed        477\n",
    "nombre_recovered    16372\n",
    "Name: 504, dtype: int64"
   ]
  },
  {
   "cell_type": "markdown",
   "id": "b9aba43a",
   "metadata": {},
   "source": [
    "nombre_infected       784\n",
    "nombre_sain          2379\n",
    "nombre_exposed        493\n",
    "nombre_recovered    16344\n",
    "Name: 505, dtype: int64"
   ]
  },
  {
   "cell_type": "markdown",
   "id": "bd54fadb",
   "metadata": {},
   "source": [
    "nombre_infected       800\n",
    "nombre_sain          2397\n",
    "nombre_exposed        493\n",
    "nombre_recovered    16310\n",
    "Name: 506, dtype: int64"
   ]
  },
  {
   "cell_type": "markdown",
   "id": "32687fd3",
   "metadata": {},
   "source": [
    "nombre_infected       812\n",
    "nombre_sain          2386\n",
    "nombre_exposed        523\n",
    "nombre_recovered    16279\n",
    "Name: 507, dtype: int64"
   ]
  },
  {
   "cell_type": "markdown",
   "id": "bb966c20",
   "metadata": {},
   "source": [
    "nombre_infected       826\n",
    "nombre_sain          2416\n",
    "nombre_exposed        504\n",
    "nombre_recovered    16254\n",
    "Name: 508, dtype: int64"
   ]
  },
  {
   "cell_type": "markdown",
   "id": "952bfe4d",
   "metadata": {},
   "source": [
    "nombre_infected       839\n",
    "nombre_sain          2414\n",
    "nombre_exposed        518\n",
    "nombre_recovered    16229\n",
    "Name: 509, dtype: int64"
   ]
  },
  {
   "cell_type": "markdown",
   "id": "030dc7d2",
   "metadata": {},
   "source": [
    "nombre_infected       858\n",
    "nombre_sain          2416\n",
    "nombre_exposed        534\n",
    "nombre_recovered    16192\n",
    "Name: 510, dtype: int64"
   ]
  },
  {
   "cell_type": "markdown",
   "id": "1ce9440c",
   "metadata": {},
   "source": [
    "nombre_infected       842\n",
    "nombre_sain          2419\n",
    "nombre_exposed        533\n",
    "nombre_recovered    16206\n",
    "Name: 511, dtype: int64"
   ]
  },
  {
   "cell_type": "markdown",
   "id": "119887de",
   "metadata": {},
   "source": [
    "nombre_infected       867\n",
    "nombre_sain          2430\n",
    "nombre_exposed        531\n",
    "nombre_recovered    16172\n",
    "Name: 512, dtype: int64"
   ]
  },
  {
   "cell_type": "markdown",
   "id": "8a62afa5",
   "metadata": {},
   "source": [
    "nombre_infected       915\n",
    "nombre_sain          2428\n",
    "nombre_exposed        541\n",
    "nombre_recovered    16116\n",
    "Name: 513, dtype: int64"
   ]
  },
  {
   "cell_type": "markdown",
   "id": "26dedd28",
   "metadata": {},
   "source": [
    "nombre_infected       916\n",
    "nombre_sain          2430\n",
    "nombre_exposed        547\n",
    "nombre_recovered    16107\n",
    "Name: 514, dtype: int64"
   ]
  },
  {
   "cell_type": "markdown",
   "id": "2b8dcf86",
   "metadata": {},
   "source": [
    "nombre_infected       929\n",
    "nombre_sain          2424\n",
    "nombre_exposed        530\n",
    "nombre_recovered    16117\n",
    "Name: 515, dtype: int64"
   ]
  },
  {
   "cell_type": "markdown",
   "id": "1e487eb1",
   "metadata": {},
   "source": [
    "nombre_infected       939\n",
    "nombre_sain          2397\n",
    "nombre_exposed        542\n",
    "nombre_recovered    16122\n",
    "Name: 516, dtype: int64"
   ]
  },
  {
   "cell_type": "markdown",
   "id": "c06c5649",
   "metadata": {},
   "source": [
    "nombre_infected       939\n",
    "nombre_sain          2393\n",
    "nombre_exposed        552\n",
    "nombre_recovered    16116\n",
    "Name: 517, dtype: int64"
   ]
  },
  {
   "cell_type": "markdown",
   "id": "a6876871",
   "metadata": {},
   "source": [
    "nombre_infected       945\n",
    "nombre_sain          2381\n",
    "nombre_exposed        555\n",
    "nombre_recovered    16119\n",
    "Name: 518, dtype: int64"
   ]
  },
  {
   "cell_type": "markdown",
   "id": "fdbd5a29",
   "metadata": {},
   "source": [
    "nombre_infected       927\n",
    "nombre_sain          2363\n",
    "nombre_exposed        584\n",
    "nombre_recovered    16126\n",
    "Name: 519, dtype: int64"
   ]
  },
  {
   "cell_type": "markdown",
   "id": "edb16cb7",
   "metadata": {},
   "source": [
    "nombre_infected       928\n",
    "nombre_sain          2359\n",
    "nombre_exposed        579\n",
    "nombre_recovered    16134\n",
    "Name: 520, dtype: int64"
   ]
  },
  {
   "cell_type": "markdown",
   "id": "cd2543c6",
   "metadata": {},
   "source": [
    "nombre_infected       945\n",
    "nombre_sain          2357\n",
    "nombre_exposed        573\n",
    "nombre_recovered    16125\n",
    "Name: 521, dtype: int64"
   ]
  },
  {
   "cell_type": "markdown",
   "id": "a8a0fe81",
   "metadata": {},
   "source": [
    "nombre_infected       973\n",
    "nombre_sain          2350\n",
    "nombre_exposed        584\n",
    "nombre_recovered    16093\n",
    "Name: 522, dtype: int64"
   ]
  },
  {
   "cell_type": "markdown",
   "id": "7656874c",
   "metadata": {},
   "source": [
    "nombre_infected       984\n",
    "nombre_sain          2342\n",
    "nombre_exposed        604\n",
    "nombre_recovered    16070\n",
    "Name: 523, dtype: int64"
   ]
  },
  {
   "cell_type": "markdown",
   "id": "1e04d023",
   "metadata": {},
   "source": [
    "nombre_infected      1006\n",
    "nombre_sain          2343\n",
    "nombre_exposed        596\n",
    "nombre_recovered    16055\n",
    "Name: 524, dtype: int64"
   ]
  },
  {
   "cell_type": "markdown",
   "id": "ea74518c",
   "metadata": {},
   "source": [
    "nombre_infected      1006\n",
    "nombre_sain          2335\n",
    "nombre_exposed        596\n",
    "nombre_recovered    16063\n",
    "Name: 525, dtype: int64"
   ]
  },
  {
   "cell_type": "markdown",
   "id": "68b426b6",
   "metadata": {},
   "source": [
    "nombre_infected      1028\n",
    "nombre_sain          2335\n",
    "nombre_exposed        592\n",
    "nombre_recovered    16045\n",
    "Name: 526, dtype: int64"
   ]
  },
  {
   "cell_type": "markdown",
   "id": "f157304e",
   "metadata": {},
   "source": [
    "nombre_infected      1030\n",
    "nombre_sain          2347\n",
    "nombre_exposed        596\n",
    "nombre_recovered    16027\n",
    "Name: 527, dtype: int64"
   ]
  },
  {
   "cell_type": "markdown",
   "id": "d7632cc1",
   "metadata": {},
   "source": [
    "nombre_infected      1034\n",
    "nombre_sain          2337\n",
    "nombre_exposed        587\n",
    "nombre_recovered    16042\n",
    "Name: 528, dtype: int64"
   ]
  },
  {
   "cell_type": "markdown",
   "id": "cb032994",
   "metadata": {},
   "source": [
    "nombre_infected      1040\n",
    "nombre_sain          2325\n",
    "nombre_exposed        623\n",
    "nombre_recovered    16012\n",
    "Name: 529, dtype: int64"
   ]
  },
  {
   "cell_type": "markdown",
   "id": "a1ce3b04",
   "metadata": {},
   "source": [
    "nombre_infected      1020\n",
    "nombre_sain          2328\n",
    "nombre_exposed        640\n",
    "nombre_recovered    16012\n",
    "Name: 530, dtype: int64"
   ]
  },
  {
   "cell_type": "markdown",
   "id": "801723cf",
   "metadata": {},
   "source": [
    "nombre_infected      1034\n",
    "nombre_sain          2355\n",
    "nombre_exposed        595\n",
    "nombre_recovered    16016\n",
    "Name: 531, dtype: int64"
   ]
  },
  {
   "cell_type": "markdown",
   "id": "0849bfa5",
   "metadata": {},
   "source": [
    "nombre_infected      1064\n",
    "nombre_sain          2314\n",
    "nombre_exposed        601\n",
    "nombre_recovered    16021\n",
    "Name: 532, dtype: int64"
   ]
  },
  {
   "cell_type": "markdown",
   "id": "6f5e43fb",
   "metadata": {},
   "source": [
    "nombre_infected      1090\n",
    "nombre_sain          2323\n",
    "nombre_exposed        592\n",
    "nombre_recovered    15995\n",
    "Name: 533, dtype: int64"
   ]
  },
  {
   "cell_type": "markdown",
   "id": "31c52ebb",
   "metadata": {},
   "source": [
    "nombre_infected      1088\n",
    "nombre_sain          2328\n",
    "nombre_exposed        610\n",
    "nombre_recovered    15974\n",
    "Name: 534, dtype: int64"
   ]
  },
  {
   "cell_type": "markdown",
   "id": "10b56ba9",
   "metadata": {},
   "source": [
    "nombre_infected      1063\n",
    "nombre_sain          2320\n",
    "nombre_exposed        636\n",
    "nombre_recovered    15981\n",
    "Name: 535, dtype: int64"
   ]
  },
  {
   "cell_type": "markdown",
   "id": "3e9b7e10",
   "metadata": {},
   "source": [
    "nombre_infected      1077\n",
    "nombre_sain          2338\n",
    "nombre_exposed        616\n",
    "nombre_recovered    15969\n",
    "Name: 536, dtype: int64"
   ]
  },
  {
   "cell_type": "markdown",
   "id": "b5fba10f",
   "metadata": {},
   "source": [
    "nombre_infected      1076\n",
    "nombre_sain          2343\n",
    "nombre_exposed        622\n",
    "nombre_recovered    15959\n",
    "Name: 537, dtype: int64"
   ]
  },
  {
   "cell_type": "markdown",
   "id": "f29fbc1e",
   "metadata": {},
   "source": [
    "nombre_infected      1072\n",
    "nombre_sain          2344\n",
    "nombre_exposed        616\n",
    "nombre_recovered    15968\n",
    "Name: 538, dtype: int64"
   ]
  },
  {
   "cell_type": "markdown",
   "id": "238bc30e",
   "metadata": {},
   "source": [
    "nombre_infected      1104\n",
    "nombre_sain          2364\n",
    "nombre_exposed        582\n",
    "nombre_recovered    15950\n",
    "Name: 539, dtype: int64"
   ]
  },
  {
   "cell_type": "markdown",
   "id": "b2994a14",
   "metadata": {},
   "source": [
    "nombre_infected      1124\n",
    "nombre_sain          2327\n",
    "nombre_exposed        609\n",
    "nombre_recovered    15940\n",
    "Name: 540, dtype: int64"
   ]
  },
  {
   "cell_type": "markdown",
   "id": "720726e3",
   "metadata": {},
   "source": [
    "nombre_infected      1118\n",
    "nombre_sain          2290\n",
    "nombre_exposed        649\n",
    "nombre_recovered    15943\n",
    "Name: 541, dtype: int64"
   ]
  },
  {
   "cell_type": "markdown",
   "id": "5df7efec",
   "metadata": {},
   "source": [
    "nombre_infected      1105\n",
    "nombre_sain          2271\n",
    "nombre_exposed        664\n",
    "nombre_recovered    15960\n",
    "Name: 542, dtype: int64"
   ]
  },
  {
   "cell_type": "markdown",
   "id": "743233af",
   "metadata": {},
   "source": [
    "nombre_infected      1115\n",
    "nombre_sain          2276\n",
    "nombre_exposed        650\n",
    "nombre_recovered    15959\n",
    "Name: 543, dtype: int64"
   ]
  },
  {
   "cell_type": "markdown",
   "id": "1f9a545d",
   "metadata": {},
   "source": [
    "nombre_infected      1125\n",
    "nombre_sain          2274\n",
    "nombre_exposed        652\n",
    "nombre_recovered    15949\n",
    "Name: 544, dtype: int64"
   ]
  },
  {
   "cell_type": "markdown",
   "id": "3d8ce023",
   "metadata": {},
   "source": [
    "nombre_infected      1157\n",
    "nombre_sain          2281\n",
    "nombre_exposed        640\n",
    "nombre_recovered    15922\n",
    "Name: 545, dtype: int64"
   ]
  },
  {
   "cell_type": "markdown",
   "id": "973fcad2",
   "metadata": {},
   "source": [
    "nombre_infected      1142\n",
    "nombre_sain          2243\n",
    "nombre_exposed        673\n",
    "nombre_recovered    15942\n",
    "Name: 546, dtype: int64"
   ]
  },
  {
   "cell_type": "markdown",
   "id": "577dccd5",
   "metadata": {},
   "source": [
    "nombre_infected      1160\n",
    "nombre_sain          2249\n",
    "nombre_exposed        671\n",
    "nombre_recovered    15920\n",
    "Name: 547, dtype: int64"
   ]
  },
  {
   "cell_type": "markdown",
   "id": "634c6363",
   "metadata": {},
   "source": [
    "nombre_infected      1188\n",
    "nombre_sain          2227\n",
    "nombre_exposed        661\n",
    "nombre_recovered    15924\n",
    "Name: 548, dtype: int64"
   ]
  },
  {
   "cell_type": "markdown",
   "id": "7edfa267",
   "metadata": {},
   "source": [
    "nombre_infected      1209\n",
    "nombre_sain          2239\n",
    "nombre_exposed        637\n",
    "nombre_recovered    15915\n",
    "Name: 549, dtype: int64"
   ]
  },
  {
   "cell_type": "markdown",
   "id": "f002cba0",
   "metadata": {},
   "source": [
    "nombre_infected      1175\n",
    "nombre_sain          2238\n",
    "nombre_exposed        649\n",
    "nombre_recovered    15938\n",
    "Name: 550, dtype: int64"
   ]
  },
  {
   "cell_type": "markdown",
   "id": "19895590",
   "metadata": {},
   "source": [
    "nombre_infected      1173\n",
    "nombre_sain          2229\n",
    "nombre_exposed        660\n",
    "nombre_recovered    15938\n",
    "Name: 551, dtype: int64"
   ]
  },
  {
   "cell_type": "markdown",
   "id": "f7570278",
   "metadata": {},
   "source": [
    "nombre_infected      1178\n",
    "nombre_sain          2223\n",
    "nombre_exposed        675\n",
    "nombre_recovered    15924\n",
    "Name: 552, dtype: int64"
   ]
  },
  {
   "cell_type": "markdown",
   "id": "7f96d099",
   "metadata": {},
   "source": [
    "nombre_infected      1184\n",
    "nombre_sain          2214\n",
    "nombre_exposed        690\n",
    "nombre_recovered    15912\n",
    "Name: 553, dtype: int64"
   ]
  },
  {
   "cell_type": "markdown",
   "id": "0a883999",
   "metadata": {},
   "source": [
    "nombre_infected      1180\n",
    "nombre_sain          2191\n",
    "nombre_exposed        687\n",
    "nombre_recovered    15942\n",
    "Name: 554, dtype: int64"
   ]
  },
  {
   "cell_type": "markdown",
   "id": "72bbde93",
   "metadata": {},
   "source": [
    "nombre_infected      1175\n",
    "nombre_sain          2202\n",
    "nombre_exposed        688\n",
    "nombre_recovered    15935\n",
    "Name: 555, dtype: int64"
   ]
  },
  {
   "cell_type": "markdown",
   "id": "3a80d7b9",
   "metadata": {},
   "source": [
    "nombre_infected      1188\n",
    "nombre_sain          2198\n",
    "nombre_exposed        672\n",
    "nombre_recovered    15942\n",
    "Name: 556, dtype: int64"
   ]
  },
  {
   "cell_type": "markdown",
   "id": "e7e8597e",
   "metadata": {},
   "source": [
    "nombre_infected      1197\n",
    "nombre_sain          2207\n",
    "nombre_exposed        675\n",
    "nombre_recovered    15921\n",
    "Name: 557, dtype: int64"
   ]
  },
  {
   "cell_type": "markdown",
   "id": "18dfaf1f",
   "metadata": {},
   "source": [
    "nombre_infected      1196\n",
    "nombre_sain          2211\n",
    "nombre_exposed        650\n",
    "nombre_recovered    15943\n",
    "Name: 558, dtype: int64"
   ]
  },
  {
   "cell_type": "markdown",
   "id": "facee24f",
   "metadata": {},
   "source": [
    "nombre_infected      1187\n",
    "nombre_sain          2198\n",
    "nombre_exposed        671\n",
    "nombre_recovered    15944\n",
    "Name: 559, dtype: int64"
   ]
  },
  {
   "cell_type": "markdown",
   "id": "bb7dfa66",
   "metadata": {},
   "source": [
    "nombre_infected      1184\n",
    "nombre_sain          2197\n",
    "nombre_exposed        661\n",
    "nombre_recovered    15958\n",
    "Name: 560, dtype: int64"
   ]
  },
  {
   "cell_type": "markdown",
   "id": "d5e97266",
   "metadata": {},
   "source": [
    "nombre_infected      1187\n",
    "nombre_sain          2179\n",
    "nombre_exposed        672\n",
    "nombre_recovered    15962\n",
    "Name: 561, dtype: int64"
   ]
  },
  {
   "cell_type": "markdown",
   "id": "53291ae5",
   "metadata": {},
   "source": [
    "nombre_infected      1200\n",
    "nombre_sain          2166\n",
    "nombre_exposed        651\n",
    "nombre_recovered    15983\n",
    "Name: 562, dtype: int64"
   ]
  },
  {
   "cell_type": "markdown",
   "id": "ac5a01ed",
   "metadata": {},
   "source": [
    "nombre_infected      1187\n",
    "nombre_sain          2180\n",
    "nombre_exposed        642\n",
    "nombre_recovered    15991\n",
    "Name: 563, dtype: int64"
   ]
  },
  {
   "cell_type": "markdown",
   "id": "26b21378",
   "metadata": {},
   "source": [
    "nombre_infected      1171\n",
    "nombre_sain          2162\n",
    "nombre_exposed        670\n",
    "nombre_recovered    15997\n",
    "Name: 564, dtype: int64"
   ]
  },
  {
   "cell_type": "markdown",
   "id": "92960648",
   "metadata": {},
   "source": [
    "nombre_infected      1177\n",
    "nombre_sain          2139\n",
    "nombre_exposed        679\n",
    "nombre_recovered    16005\n",
    "Name: 565, dtype: int64"
   ]
  },
  {
   "cell_type": "markdown",
   "id": "4243512b",
   "metadata": {},
   "source": [
    "nombre_infected      1184\n",
    "nombre_sain          2127\n",
    "nombre_exposed        679\n",
    "nombre_recovered    16010\n",
    "Name: 566, dtype: int64"
   ]
  },
  {
   "cell_type": "markdown",
   "id": "e6b69a41",
   "metadata": {},
   "source": [
    "nombre_infected      1170\n",
    "nombre_sain          2094\n",
    "nombre_exposed        678\n",
    "nombre_recovered    16058\n",
    "Name: 567, dtype: int64"
   ]
  },
  {
   "cell_type": "markdown",
   "id": "facace6d",
   "metadata": {},
   "source": [
    "nombre_infected      1163\n",
    "nombre_sain          2083\n",
    "nombre_exposed        664\n",
    "nombre_recovered    16090\n",
    "Name: 568, dtype: int64"
   ]
  },
  {
   "cell_type": "markdown",
   "id": "de5b9fc6",
   "metadata": {},
   "source": [
    "nombre_infected      1151\n",
    "nombre_sain          2084\n",
    "nombre_exposed        634\n",
    "nombre_recovered    16131\n",
    "Name: 569, dtype: int64"
   ]
  },
  {
   "cell_type": "markdown",
   "id": "c4a14067",
   "metadata": {},
   "source": [
    "nombre_infected      1121\n",
    "nombre_sain          2067\n",
    "nombre_exposed        646\n",
    "nombre_recovered    16166\n",
    "Name: 570, dtype: int64"
   ]
  },
  {
   "cell_type": "markdown",
   "id": "e911fa13",
   "metadata": {},
   "source": [
    "nombre_infected      1116\n",
    "nombre_sain          2047\n",
    "nombre_exposed        636\n",
    "nombre_recovered    16201\n",
    "Name: 571, dtype: int64"
   ]
  },
  {
   "cell_type": "markdown",
   "id": "ed119173",
   "metadata": {},
   "source": [
    "nombre_infected      1101\n",
    "nombre_sain          2058\n",
    "nombre_exposed        626\n",
    "nombre_recovered    16215\n",
    "Name: 572, dtype: int64"
   ]
  },
  {
   "cell_type": "markdown",
   "id": "f0492cc7",
   "metadata": {},
   "source": [
    "nombre_infected      1114\n",
    "nombre_sain          2038\n",
    "nombre_exposed        629\n",
    "nombre_recovered    16219\n",
    "Name: 573, dtype: int64"
   ]
  },
  {
   "cell_type": "markdown",
   "id": "fc4404e8",
   "metadata": {},
   "source": [
    "nombre_infected      1095\n",
    "nombre_sain          2010\n",
    "nombre_exposed        638\n",
    "nombre_recovered    16257\n",
    "Name: 574, dtype: int64"
   ]
  },
  {
   "cell_type": "markdown",
   "id": "cf1aba33",
   "metadata": {},
   "source": [
    "nombre_infected      1126\n",
    "nombre_sain          2022\n",
    "nombre_exposed        591\n",
    "nombre_recovered    16261\n",
    "Name: 575, dtype: int64"
   ]
  },
  {
   "cell_type": "markdown",
   "id": "73fd33cb",
   "metadata": {},
   "source": [
    "nombre_infected      1111\n",
    "nombre_sain          2006\n",
    "nombre_exposed        594\n",
    "nombre_recovered    16289\n",
    "Name: 576, dtype: int64"
   ]
  },
  {
   "cell_type": "markdown",
   "id": "2aa39491",
   "metadata": {},
   "source": [
    "nombre_infected      1110\n",
    "nombre_sain          2000\n",
    "nombre_exposed        591\n",
    "nombre_recovered    16299\n",
    "Name: 577, dtype: int64"
   ]
  },
  {
   "cell_type": "markdown",
   "id": "80f7ce4d",
   "metadata": {},
   "source": [
    "nombre_infected      1097\n",
    "nombre_sain          1995\n",
    "nombre_exposed        594\n",
    "nombre_recovered    16314\n",
    "Name: 578, dtype: int64"
   ]
  },
  {
   "cell_type": "markdown",
   "id": "e8920c6f",
   "metadata": {},
   "source": [
    "nombre_infected      1102\n",
    "nombre_sain          2003\n",
    "nombre_exposed        599\n",
    "nombre_recovered    16296\n",
    "Name: 579, dtype: int64"
   ]
  },
  {
   "cell_type": "markdown",
   "id": "6911f9bc",
   "metadata": {},
   "source": [
    "nombre_infected      1127\n",
    "nombre_sain          1982\n",
    "nombre_exposed        601\n",
    "nombre_recovered    16290\n",
    "Name: 580, dtype: int64"
   ]
  },
  {
   "cell_type": "markdown",
   "id": "5fc7a603",
   "metadata": {},
   "source": [
    "nombre_infected      1109\n",
    "nombre_sain          1985\n",
    "nombre_exposed        604\n",
    "nombre_recovered    16302\n",
    "Name: 581, dtype: int64"
   ]
  },
  {
   "cell_type": "markdown",
   "id": "9f7ca412",
   "metadata": {},
   "source": [
    "nombre_infected      1112\n",
    "nombre_sain          1991\n",
    "nombre_exposed        596\n",
    "nombre_recovered    16301\n",
    "Name: 582, dtype: int64"
   ]
  },
  {
   "cell_type": "markdown",
   "id": "ce501517",
   "metadata": {},
   "source": [
    "nombre_infected      1107\n",
    "nombre_sain          1976\n",
    "nombre_exposed        585\n",
    "nombre_recovered    16332\n",
    "Name: 583, dtype: int64"
   ]
  },
  {
   "cell_type": "markdown",
   "id": "eda1e9d5",
   "metadata": {},
   "source": [
    "nombre_infected      1099\n",
    "nombre_sain          1971\n",
    "nombre_exposed        575\n",
    "nombre_recovered    16355\n",
    "Name: 584, dtype: int64"
   ]
  },
  {
   "cell_type": "markdown",
   "id": "dddc739c",
   "metadata": {},
   "source": [
    "nombre_infected      1072\n",
    "nombre_sain          1965\n",
    "nombre_exposed        556\n",
    "nombre_recovered    16407\n",
    "Name: 585, dtype: int64"
   ]
  },
  {
   "cell_type": "markdown",
   "id": "524c69dc",
   "metadata": {},
   "source": [
    "nombre_infected      1051\n",
    "nombre_sain          1965\n",
    "nombre_exposed        579\n",
    "nombre_recovered    16405\n",
    "Name: 586, dtype: int64"
   ]
  },
  {
   "cell_type": "markdown",
   "id": "cc9c2f38",
   "metadata": {},
   "source": [
    "nombre_infected      1057\n",
    "nombre_sain          1950\n",
    "nombre_exposed        558\n",
    "nombre_recovered    16435\n",
    "Name: 587, dtype: int64"
   ]
  },
  {
   "cell_type": "markdown",
   "id": "1b102535",
   "metadata": {},
   "source": [
    "nombre_infected      1054\n",
    "nombre_sain          1947\n",
    "nombre_exposed        559\n",
    "nombre_recovered    16440\n",
    "Name: 588, dtype: int64"
   ]
  },
  {
   "cell_type": "markdown",
   "id": "fd9baeed",
   "metadata": {},
   "source": [
    "nombre_infected      1050\n",
    "nombre_sain          1970\n",
    "nombre_exposed        541\n",
    "nombre_recovered    16439\n",
    "Name: 589, dtype: int64"
   ]
  },
  {
   "cell_type": "markdown",
   "id": "ca973b52",
   "metadata": {},
   "source": [
    "nombre_infected      1055\n",
    "nombre_sain          1974\n",
    "nombre_exposed        548\n",
    "nombre_recovered    16423\n",
    "Name: 590, dtype: int64"
   ]
  },
  {
   "cell_type": "markdown",
   "id": "10008376",
   "metadata": {},
   "source": [
    "nombre_infected      1026\n",
    "nombre_sain          2004\n",
    "nombre_exposed        529\n",
    "nombre_recovered    16441\n",
    "Name: 591, dtype: int64"
   ]
  },
  {
   "cell_type": "markdown",
   "id": "b43ce135",
   "metadata": {},
   "source": [
    "nombre_infected      1046\n",
    "nombre_sain          2005\n",
    "nombre_exposed        507\n",
    "nombre_recovered    16442\n",
    "Name: 592, dtype: int64"
   ]
  },
  {
   "cell_type": "markdown",
   "id": "3abbaac1",
   "metadata": {},
   "source": [
    "nombre_infected      1034\n",
    "nombre_sain          2013\n",
    "nombre_exposed        493\n",
    "nombre_recovered    16460\n",
    "Name: 593, dtype: int64"
   ]
  },
  {
   "cell_type": "markdown",
   "id": "42a98eeb",
   "metadata": {},
   "source": [
    "nombre_infected      1001\n",
    "nombre_sain          2038\n",
    "nombre_exposed        489\n",
    "nombre_recovered    16472\n",
    "Name: 594, dtype: int64"
   ]
  },
  {
   "cell_type": "markdown",
   "id": "1e797d31",
   "metadata": {},
   "source": [
    "nombre_infected       989\n",
    "nombre_sain          2055\n",
    "nombre_exposed        491\n",
    "nombre_recovered    16465\n",
    "Name: 595, dtype: int64"
   ]
  },
  {
   "cell_type": "markdown",
   "id": "e779cc1a",
   "metadata": {},
   "source": [
    "nombre_infected       991\n",
    "nombre_sain          2050\n",
    "nombre_exposed        522\n",
    "nombre_recovered    16437\n",
    "Name: 596, dtype: int64"
   ]
  },
  {
   "cell_type": "markdown",
   "id": "73c04cee",
   "metadata": {},
   "source": [
    "nombre_infected       979\n",
    "nombre_sain          2040\n",
    "nombre_exposed        526\n",
    "nombre_recovered    16455\n",
    "Name: 597, dtype: int64"
   ]
  },
  {
   "cell_type": "markdown",
   "id": "df4422d0",
   "metadata": {},
   "source": [
    "nombre_infected       987\n",
    "nombre_sain          2042\n",
    "nombre_exposed        503\n",
    "nombre_recovered    16468\n",
    "Name: 598, dtype: int64"
   ]
  },
  {
   "cell_type": "markdown",
   "id": "4ca390b9",
   "metadata": {},
   "source": [
    "nombre_infected       976\n",
    "nombre_sain          2007\n",
    "nombre_exposed        529\n",
    "nombre_recovered    16488\n",
    "Name: 599, dtype: int64"
   ]
  },
  {
   "cell_type": "markdown",
   "id": "563d2196",
   "metadata": {},
   "source": [
    "nombre_infected       973\n",
    "nombre_sain          1998\n",
    "nombre_exposed        526\n",
    "nombre_recovered    16503\n",
    "Name: 600, dtype: int64"
   ]
  },
  {
   "cell_type": "markdown",
   "id": "1970b25a",
   "metadata": {},
   "source": [
    "nombre_infected       998\n",
    "nombre_sain          2007\n",
    "nombre_exposed        488\n",
    "nombre_recovered    16507\n",
    "Name: 601, dtype: int64"
   ]
  },
  {
   "cell_type": "markdown",
   "id": "0c160369",
   "metadata": {},
   "source": [
    "nombre_infected       984\n",
    "nombre_sain          2016\n",
    "nombre_exposed        491\n",
    "nombre_recovered    16509\n",
    "Name: 602, dtype: int64"
   ]
  },
  {
   "cell_type": "markdown",
   "id": "5582a6c0",
   "metadata": {},
   "source": [
    "nombre_infected       953\n",
    "nombre_sain          2026\n",
    "nombre_exposed        499\n",
    "nombre_recovered    16522\n",
    "Name: 603, dtype: int64"
   ]
  },
  {
   "cell_type": "markdown",
   "id": "e4c10a51",
   "metadata": {},
   "source": [
    "nombre_infected       939\n",
    "nombre_sain          2063\n",
    "nombre_exposed        500\n",
    "nombre_recovered    16498\n",
    "Name: 604, dtype: int64"
   ]
  },
  {
   "cell_type": "markdown",
   "id": "78aeb9dc",
   "metadata": {},
   "source": [
    "nombre_infected       947\n",
    "nombre_sain          2066\n",
    "nombre_exposed        510\n",
    "nombre_recovered    16477\n",
    "Name: 605, dtype: int64"
   ]
  },
  {
   "cell_type": "markdown",
   "id": "5569d22c",
   "metadata": {},
   "source": [
    "nombre_infected       948\n",
    "nombre_sain          2089\n",
    "nombre_exposed        503\n",
    "nombre_recovered    16460\n",
    "Name: 606, dtype: int64"
   ]
  },
  {
   "cell_type": "markdown",
   "id": "0dcae80f",
   "metadata": {},
   "source": [
    "nombre_infected       973\n",
    "nombre_sain          2079\n",
    "nombre_exposed        500\n",
    "nombre_recovered    16448\n",
    "Name: 607, dtype: int64"
   ]
  },
  {
   "cell_type": "markdown",
   "id": "71ec1d20",
   "metadata": {},
   "source": [
    "nombre_infected       956\n",
    "nombre_sain          2087\n",
    "nombre_exposed        515\n",
    "nombre_recovered    16442\n",
    "Name: 608, dtype: int64"
   ]
  },
  {
   "cell_type": "markdown",
   "id": "1651b77a",
   "metadata": {},
   "source": [
    "nombre_infected       960\n",
    "nombre_sain          2104\n",
    "nombre_exposed        540\n",
    "nombre_recovered    16396\n",
    "Name: 609, dtype: int64"
   ]
  },
  {
   "cell_type": "markdown",
   "id": "cd5a540f",
   "metadata": {},
   "source": [
    "nombre_infected       984\n",
    "nombre_sain          2110\n",
    "nombre_exposed        543\n",
    "nombre_recovered    16363\n",
    "Name: 610, dtype: int64"
   ]
  },
  {
   "cell_type": "markdown",
   "id": "eac6097d",
   "metadata": {},
   "source": [
    "nombre_infected       993\n",
    "nombre_sain          2092\n",
    "nombre_exposed        551\n",
    "nombre_recovered    16364\n",
    "Name: 611, dtype: int64"
   ]
  },
  {
   "cell_type": "markdown",
   "id": "ed739e95",
   "metadata": {},
   "source": [
    "nombre_infected      1004\n",
    "nombre_sain          2105\n",
    "nombre_exposed        552\n",
    "nombre_recovered    16339\n",
    "Name: 612, dtype: int64"
   ]
  },
  {
   "cell_type": "markdown",
   "id": "bc8fe849",
   "metadata": {},
   "source": [
    "nombre_infected      1028\n",
    "nombre_sain          2114\n",
    "nombre_exposed        530\n",
    "nombre_recovered    16328\n",
    "Name: 613, dtype: int64"
   ]
  },
  {
   "cell_type": "markdown",
   "id": "cbef2bcb",
   "metadata": {},
   "source": [
    "nombre_infected      1044\n",
    "nombre_sain          2099\n",
    "nombre_exposed        521\n",
    "nombre_recovered    16336\n",
    "Name: 614, dtype: int64"
   ]
  },
  {
   "cell_type": "markdown",
   "id": "f00d7462",
   "metadata": {},
   "source": [
    "nombre_infected      1036\n",
    "nombre_sain          2079\n",
    "nombre_exposed        542\n",
    "nombre_recovered    16343\n",
    "Name: 615, dtype: int64"
   ]
  },
  {
   "cell_type": "markdown",
   "id": "0038c760",
   "metadata": {},
   "source": [
    "nombre_infected      1014\n",
    "nombre_sain          2081\n",
    "nombre_exposed        541\n",
    "nombre_recovered    16364\n",
    "Name: 616, dtype: int64"
   ]
  },
  {
   "cell_type": "markdown",
   "id": "c1d1eec8",
   "metadata": {},
   "source": [
    "nombre_infected      1052\n",
    "nombre_sain          2077\n",
    "nombre_exposed        520\n",
    "nombre_recovered    16351\n",
    "Name: 617, dtype: int64"
   ]
  },
  {
   "cell_type": "markdown",
   "id": "8d30f9bb",
   "metadata": {},
   "source": [
    "nombre_infected      1052\n",
    "nombre_sain          2073\n",
    "nombre_exposed        530\n",
    "nombre_recovered    16345\n",
    "Name: 618, dtype: int64"
   ]
  },
  {
   "cell_type": "markdown",
   "id": "f7adc49b",
   "metadata": {},
   "source": [
    "nombre_infected      1069\n",
    "nombre_sain          2061\n",
    "nombre_exposed        524\n",
    "nombre_recovered    16346\n",
    "Name: 619, dtype: int64"
   ]
  },
  {
   "cell_type": "markdown",
   "id": "f62e0905",
   "metadata": {},
   "source": [
    "nombre_infected      1084\n",
    "nombre_sain          2049\n",
    "nombre_exposed        529\n",
    "nombre_recovered    16338\n",
    "Name: 620, dtype: int64"
   ]
  },
  {
   "cell_type": "markdown",
   "id": "14760537",
   "metadata": {},
   "source": [
    "nombre_infected      1082\n",
    "nombre_sain          2036\n",
    "nombre_exposed        522\n",
    "nombre_recovered    16360\n",
    "Name: 621, dtype: int64"
   ]
  },
  {
   "cell_type": "markdown",
   "id": "f461fa07",
   "metadata": {},
   "source": [
    "nombre_infected      1044\n",
    "nombre_sain          2019\n",
    "nombre_exposed        542\n",
    "nombre_recovered    16395\n",
    "Name: 622, dtype: int64"
   ]
  },
  {
   "cell_type": "markdown",
   "id": "af32146b",
   "metadata": {},
   "source": [
    "nombre_infected      1046\n",
    "nombre_sain          2006\n",
    "nombre_exposed        541\n",
    "nombre_recovered    16407\n",
    "Name: 623, dtype: int64"
   ]
  },
  {
   "cell_type": "markdown",
   "id": "99edc822",
   "metadata": {},
   "source": [
    "nombre_infected      1036\n",
    "nombre_sain          2007\n",
    "nombre_exposed        537\n",
    "nombre_recovered    16420\n",
    "Name: 624, dtype: int64"
   ]
  },
  {
   "cell_type": "markdown",
   "id": "b7745f3f",
   "metadata": {},
   "source": [
    "nombre_infected      1043\n",
    "nombre_sain          2024\n",
    "nombre_exposed        518\n",
    "nombre_recovered    16415\n",
    "Name: 625, dtype: int64"
   ]
  },
  {
   "cell_type": "markdown",
   "id": "1afd9497",
   "metadata": {},
   "source": [
    "nombre_infected      1046\n",
    "nombre_sain          2018\n",
    "nombre_exposed        496\n",
    "nombre_recovered    16440\n",
    "Name: 626, dtype: int64"
   ]
  },
  {
   "cell_type": "markdown",
   "id": "cfc26c00",
   "metadata": {},
   "source": [
    "nombre_infected      1037\n",
    "nombre_sain          2020\n",
    "nombre_exposed        499\n",
    "nombre_recovered    16444\n",
    "Name: 627, dtype: int64"
   ]
  },
  {
   "cell_type": "markdown",
   "id": "2c864925",
   "metadata": {},
   "source": [
    "nombre_infected      1039\n",
    "nombre_sain          2039\n",
    "nombre_exposed        479\n",
    "nombre_recovered    16443\n",
    "Name: 628, dtype: int64"
   ]
  },
  {
   "cell_type": "markdown",
   "id": "5260f052",
   "metadata": {},
   "source": [
    "nombre_infected      1029\n",
    "nombre_sain          2042\n",
    "nombre_exposed        492\n",
    "nombre_recovered    16437\n",
    "Name: 629, dtype: int64"
   ]
  },
  {
   "cell_type": "markdown",
   "id": "18a468ae",
   "metadata": {},
   "source": [
    "nombre_infected      1017\n",
    "nombre_sain          2023\n",
    "nombre_exposed        509\n",
    "nombre_recovered    16451\n",
    "Name: 630, dtype: int64"
   ]
  },
  {
   "cell_type": "markdown",
   "id": "13d227e4",
   "metadata": {},
   "source": [
    "nombre_infected      1025\n",
    "nombre_sain          2027\n",
    "nombre_exposed        496\n",
    "nombre_recovered    16452\n",
    "Name: 631, dtype: int64"
   ]
  },
  {
   "cell_type": "markdown",
   "id": "1396e461",
   "metadata": {},
   "source": [
    "nombre_infected      1013\n",
    "nombre_sain          2000\n",
    "nombre_exposed        502\n",
    "nombre_recovered    16485\n",
    "Name: 632, dtype: int64"
   ]
  },
  {
   "cell_type": "markdown",
   "id": "79d81c96",
   "metadata": {},
   "source": [
    "nombre_infected      1008\n",
    "nombre_sain          1995\n",
    "nombre_exposed        499\n",
    "nombre_recovered    16498\n",
    "Name: 633, dtype: int64"
   ]
  },
  {
   "cell_type": "markdown",
   "id": "49d44cb1",
   "metadata": {},
   "source": [
    "nombre_infected      1000\n",
    "nombre_sain          1969\n",
    "nombre_exposed        522\n",
    "nombre_recovered    16509\n",
    "Name: 634, dtype: int64"
   ]
  },
  {
   "cell_type": "markdown",
   "id": "4ae1f83f",
   "metadata": {},
   "source": [
    "nombre_infected       990\n",
    "nombre_sain          1952\n",
    "nombre_exposed        524\n",
    "nombre_recovered    16534\n",
    "Name: 635, dtype: int64"
   ]
  },
  {
   "cell_type": "markdown",
   "id": "e298120f",
   "metadata": {},
   "source": [
    "nombre_infected       999\n",
    "nombre_sain          1930\n",
    "nombre_exposed        508\n",
    "nombre_recovered    16563\n",
    "Name: 636, dtype: int64"
   ]
  },
  {
   "cell_type": "markdown",
   "id": "b782329b",
   "metadata": {},
   "source": [
    "nombre_infected       999\n",
    "nombre_sain          1916\n",
    "nombre_exposed        507\n",
    "nombre_recovered    16578\n",
    "Name: 637, dtype: int64"
   ]
  },
  {
   "cell_type": "markdown",
   "id": "24c116da",
   "metadata": {},
   "source": [
    "nombre_infected       983\n",
    "nombre_sain          1948\n",
    "nombre_exposed        499\n",
    "nombre_recovered    16570\n",
    "Name: 638, dtype: int64"
   ]
  },
  {
   "cell_type": "markdown",
   "id": "f0df9bcb",
   "metadata": {},
   "source": [
    "nombre_infected       963\n",
    "nombre_sain          1946\n",
    "nombre_exposed        513\n",
    "nombre_recovered    16578\n",
    "Name: 639, dtype: int64"
   ]
  },
  {
   "cell_type": "markdown",
   "id": "fb9fc4b0",
   "metadata": {},
   "source": [
    "nombre_infected       973\n",
    "nombre_sain          1950\n",
    "nombre_exposed        494\n",
    "nombre_recovered    16583\n",
    "Name: 640, dtype: int64"
   ]
  },
  {
   "cell_type": "markdown",
   "id": "699d3a47",
   "metadata": {},
   "source": [
    "nombre_infected       989\n",
    "nombre_sain          1954\n",
    "nombre_exposed        487\n",
    "nombre_recovered    16570\n",
    "Name: 641, dtype: int64"
   ]
  },
  {
   "cell_type": "markdown",
   "id": "9a880a37",
   "metadata": {},
   "source": [
    "nombre_infected      1001\n",
    "nombre_sain          1981\n",
    "nombre_exposed        468\n",
    "nombre_recovered    16550\n",
    "Name: 642, dtype: int64"
   ]
  },
  {
   "cell_type": "markdown",
   "id": "636ed19c",
   "metadata": {},
   "source": [
    "nombre_infected       963\n",
    "nombre_sain          1987\n",
    "nombre_exposed        491\n",
    "nombre_recovered    16559\n",
    "Name: 643, dtype: int64"
   ]
  },
  {
   "cell_type": "markdown",
   "id": "3f7c84e2",
   "metadata": {},
   "source": [
    "nombre_infected       931\n",
    "nombre_sain          2009\n",
    "nombre_exposed        477\n",
    "nombre_recovered    16583\n",
    "Name: 644, dtype: int64"
   ]
  },
  {
   "cell_type": "markdown",
   "id": "b498e52e",
   "metadata": {},
   "source": [
    "nombre_infected       943\n",
    "nombre_sain          2024\n",
    "nombre_exposed        484\n",
    "nombre_recovered    16549\n",
    "Name: 645, dtype: int64"
   ]
  },
  {
   "cell_type": "markdown",
   "id": "3e0aeb72",
   "metadata": {},
   "source": [
    "nombre_infected       924\n",
    "nombre_sain          2015\n",
    "nombre_exposed        501\n",
    "nombre_recovered    16560\n",
    "Name: 646, dtype: int64"
   ]
  },
  {
   "cell_type": "markdown",
   "id": "f2bb8c3e",
   "metadata": {},
   "source": [
    "nombre_infected       923\n",
    "nombre_sain          2037\n",
    "nombre_exposed        478\n",
    "nombre_recovered    16562\n",
    "Name: 647, dtype: int64"
   ]
  },
  {
   "cell_type": "markdown",
   "id": "9d93e3d0",
   "metadata": {},
   "source": [
    "nombre_infected       938\n",
    "nombre_sain          2064\n",
    "nombre_exposed        440\n",
    "nombre_recovered    16558\n",
    "Name: 648, dtype: int64"
   ]
  },
  {
   "cell_type": "markdown",
   "id": "575da782",
   "metadata": {},
   "source": [
    "nombre_infected       920\n",
    "nombre_sain          2053\n",
    "nombre_exposed        467\n",
    "nombre_recovered    16560\n",
    "Name: 649, dtype: int64"
   ]
  },
  {
   "cell_type": "markdown",
   "id": "59fbde9c",
   "metadata": {},
   "source": [
    "nombre_infected       915\n",
    "nombre_sain          2063\n",
    "nombre_exposed        469\n",
    "nombre_recovered    16553\n",
    "Name: 650, dtype: int64"
   ]
  },
  {
   "cell_type": "markdown",
   "id": "7c89b4f6",
   "metadata": {},
   "source": [
    "nombre_infected       924\n",
    "nombre_sain          2095\n",
    "nombre_exposed        461\n",
    "nombre_recovered    16520\n",
    "Name: 651, dtype: int64"
   ]
  },
  {
   "cell_type": "markdown",
   "id": "9df25ac6",
   "metadata": {},
   "source": [
    "nombre_infected       900\n",
    "nombre_sain          2101\n",
    "nombre_exposed        471\n",
    "nombre_recovered    16528\n",
    "Name: 652, dtype: int64"
   ]
  },
  {
   "cell_type": "markdown",
   "id": "c6ed2ea8",
   "metadata": {},
   "source": [
    "nombre_infected       885\n",
    "nombre_sain          2124\n",
    "nombre_exposed        482\n",
    "nombre_recovered    16509\n",
    "Name: 653, dtype: int64"
   ]
  },
  {
   "cell_type": "markdown",
   "id": "754eadf1",
   "metadata": {},
   "source": [
    "nombre_infected       889\n",
    "nombre_sain          2135\n",
    "nombre_exposed        464\n",
    "nombre_recovered    16512\n",
    "Name: 654, dtype: int64"
   ]
  },
  {
   "cell_type": "markdown",
   "id": "6492f213",
   "metadata": {},
   "source": [
    "nombre_infected       916\n",
    "nombre_sain          2143\n",
    "nombre_exposed        448\n",
    "nombre_recovered    16493\n",
    "Name: 655, dtype: int64"
   ]
  },
  {
   "cell_type": "markdown",
   "id": "ad4acadc",
   "metadata": {},
   "source": [
    "nombre_infected       928\n",
    "nombre_sain          2141\n",
    "nombre_exposed        443\n",
    "nombre_recovered    16488\n",
    "Name: 656, dtype: int64"
   ]
  },
  {
   "cell_type": "markdown",
   "id": "4fbcffef",
   "metadata": {},
   "source": [
    "nombre_infected       924\n",
    "nombre_sain          2134\n",
    "nombre_exposed        465\n",
    "nombre_recovered    16477\n",
    "Name: 657, dtype: int64"
   ]
  },
  {
   "cell_type": "markdown",
   "id": "4224c867",
   "metadata": {},
   "source": [
    "nombre_infected       926\n",
    "nombre_sain          2143\n",
    "nombre_exposed        454\n",
    "nombre_recovered    16477\n",
    "Name: 658, dtype: int64"
   ]
  },
  {
   "cell_type": "markdown",
   "id": "010139be",
   "metadata": {},
   "source": [
    "nombre_infected       915\n",
    "nombre_sain          2143\n",
    "nombre_exposed        466\n",
    "nombre_recovered    16476\n",
    "Name: 659, dtype: int64"
   ]
  },
  {
   "cell_type": "markdown",
   "id": "53b5ac7b",
   "metadata": {},
   "source": [
    "nombre_infected       909\n",
    "nombre_sain          2149\n",
    "nombre_exposed        483\n",
    "nombre_recovered    16459\n",
    "Name: 660, dtype: int64"
   ]
  },
  {
   "cell_type": "markdown",
   "id": "d26c8be6",
   "metadata": {},
   "source": [
    "nombre_infected       910\n",
    "nombre_sain          2174\n",
    "nombre_exposed        475\n",
    "nombre_recovered    16441\n",
    "Name: 661, dtype: int64"
   ]
  },
  {
   "cell_type": "markdown",
   "id": "86c7267f",
   "metadata": {},
   "source": [
    "nombre_infected       893\n",
    "nombre_sain          2209\n",
    "nombre_exposed        465\n",
    "nombre_recovered    16433\n",
    "Name: 662, dtype: int64"
   ]
  },
  {
   "cell_type": "markdown",
   "id": "68a7fbd1",
   "metadata": {},
   "source": [
    "nombre_infected       875\n",
    "nombre_sain          2209\n",
    "nombre_exposed        473\n",
    "nombre_recovered    16443\n",
    "Name: 663, dtype: int64"
   ]
  },
  {
   "cell_type": "markdown",
   "id": "03fe0c62",
   "metadata": {},
   "source": [
    "nombre_infected       874\n",
    "nombre_sain          2233\n",
    "nombre_exposed        475\n",
    "nombre_recovered    16418\n",
    "Name: 664, dtype: int64"
   ]
  },
  {
   "cell_type": "markdown",
   "id": "a2d390cf",
   "metadata": {},
   "source": [
    "nombre_infected       864\n",
    "nombre_sain          2250\n",
    "nombre_exposed        467\n",
    "nombre_recovered    16419\n",
    "Name: 665, dtype: int64"
   ]
  },
  {
   "cell_type": "markdown",
   "id": "e01ef9f7",
   "metadata": {},
   "source": [
    "nombre_infected       879\n",
    "nombre_sain          2236\n",
    "nombre_exposed        491\n",
    "nombre_recovered    16394\n",
    "Name: 666, dtype: int64"
   ]
  },
  {
   "cell_type": "markdown",
   "id": "59c301f1",
   "metadata": {},
   "source": [
    "nombre_infected       900\n",
    "nombre_sain          2217\n",
    "nombre_exposed        491\n",
    "nombre_recovered    16392\n",
    "Name: 667, dtype: int64"
   ]
  },
  {
   "cell_type": "markdown",
   "id": "a18e14ed",
   "metadata": {},
   "source": [
    "nombre_infected       902\n",
    "nombre_sain          2235\n",
    "nombre_exposed        499\n",
    "nombre_recovered    16364\n",
    "Name: 668, dtype: int64"
   ]
  },
  {
   "cell_type": "markdown",
   "id": "893139bf",
   "metadata": {},
   "source": [
    "nombre_infected       888\n",
    "nombre_sain          2243\n",
    "nombre_exposed        502\n",
    "nombre_recovered    16367\n",
    "Name: 669, dtype: int64"
   ]
  },
  {
   "cell_type": "markdown",
   "id": "8cc37f48",
   "metadata": {},
   "source": [
    "nombre_infected       891\n",
    "nombre_sain          2242\n",
    "nombre_exposed        504\n",
    "nombre_recovered    16363\n",
    "Name: 670, dtype: int64"
   ]
  },
  {
   "cell_type": "markdown",
   "id": "9e313aa7",
   "metadata": {},
   "source": [
    "nombre_infected       914\n",
    "nombre_sain          2263\n",
    "nombre_exposed        495\n",
    "nombre_recovered    16328\n",
    "Name: 671, dtype: int64"
   ]
  },
  {
   "cell_type": "markdown",
   "id": "3176d228",
   "metadata": {},
   "source": [
    "nombre_infected       913\n",
    "nombre_sain          2270\n",
    "nombre_exposed        492\n",
    "nombre_recovered    16325\n",
    "Name: 672, dtype: int64"
   ]
  },
  {
   "cell_type": "markdown",
   "id": "e9a3d459",
   "metadata": {},
   "source": [
    "nombre_infected       928\n",
    "nombre_sain          2268\n",
    "nombre_exposed        506\n",
    "nombre_recovered    16298\n",
    "Name: 673, dtype: int64"
   ]
  },
  {
   "cell_type": "markdown",
   "id": "99bbe56e",
   "metadata": {},
   "source": [
    "nombre_infected       918\n",
    "nombre_sain          2274\n",
    "nombre_exposed        519\n",
    "nombre_recovered    16289\n",
    "Name: 674, dtype: int64"
   ]
  },
  {
   "cell_type": "markdown",
   "id": "df061bd1",
   "metadata": {},
   "source": [
    "nombre_infected       939\n",
    "nombre_sain          2262\n",
    "nombre_exposed        522\n",
    "nombre_recovered    16277\n",
    "Name: 675, dtype: int64"
   ]
  },
  {
   "cell_type": "markdown",
   "id": "ac91f1b9",
   "metadata": {},
   "source": [
    "nombre_infected       935\n",
    "nombre_sain          2244\n",
    "nombre_exposed        528\n",
    "nombre_recovered    16293\n",
    "Name: 676, dtype: int64"
   ]
  },
  {
   "cell_type": "markdown",
   "id": "b6b902a6",
   "metadata": {},
   "source": [
    "nombre_infected       961\n",
    "nombre_sain          2251\n",
    "nombre_exposed        522\n",
    "nombre_recovered    16266\n",
    "Name: 677, dtype: int64"
   ]
  },
  {
   "cell_type": "markdown",
   "id": "91163b58",
   "metadata": {},
   "source": [
    "nombre_infected       956\n",
    "nombre_sain          2239\n",
    "nombre_exposed        529\n",
    "nombre_recovered    16276\n",
    "Name: 678, dtype: int64"
   ]
  },
  {
   "cell_type": "markdown",
   "id": "d697d827",
   "metadata": {},
   "source": [
    "nombre_infected       953\n",
    "nombre_sain          2261\n",
    "nombre_exposed        518\n",
    "nombre_recovered    16268\n",
    "Name: 679, dtype: int64"
   ]
  },
  {
   "cell_type": "markdown",
   "id": "1402dcaa",
   "metadata": {},
   "source": [
    "nombre_infected       971\n",
    "nombre_sain          2222\n",
    "nombre_exposed        523\n",
    "nombre_recovered    16284\n",
    "Name: 680, dtype: int64"
   ]
  },
  {
   "cell_type": "markdown",
   "id": "ff348b24",
   "metadata": {},
   "source": [
    "nombre_infected       991\n",
    "nombre_sain          2219\n",
    "nombre_exposed        534\n",
    "nombre_recovered    16256\n",
    "Name: 681, dtype: int64"
   ]
  },
  {
   "cell_type": "markdown",
   "id": "834eccfc",
   "metadata": {},
   "source": [
    "nombre_infected       991\n",
    "nombre_sain          2203\n",
    "nombre_exposed        541\n",
    "nombre_recovered    16265\n",
    "Name: 682, dtype: int64"
   ]
  },
  {
   "cell_type": "markdown",
   "id": "d06a1395",
   "metadata": {},
   "source": [
    "nombre_infected      1014\n",
    "nombre_sain          2212\n",
    "nombre_exposed        531\n",
    "nombre_recovered    16243\n",
    "Name: 683, dtype: int64"
   ]
  },
  {
   "cell_type": "markdown",
   "id": "14bf823d",
   "metadata": {},
   "source": [
    "nombre_infected      1024\n",
    "nombre_sain          2206\n",
    "nombre_exposed        539\n",
    "nombre_recovered    16231\n",
    "Name: 684, dtype: int64"
   ]
  },
  {
   "cell_type": "markdown",
   "id": "15029fea",
   "metadata": {},
   "source": [
    "nombre_infected      1016\n",
    "nombre_sain          2163\n",
    "nombre_exposed        552\n",
    "nombre_recovered    16269\n",
    "Name: 685, dtype: int64"
   ]
  },
  {
   "cell_type": "markdown",
   "id": "8e609be3",
   "metadata": {},
   "source": [
    "nombre_infected      1029\n",
    "nombre_sain          2138\n",
    "nombre_exposed        562\n",
    "nombre_recovered    16271\n",
    "Name: 686, dtype: int64"
   ]
  },
  {
   "cell_type": "markdown",
   "id": "f57c9c92",
   "metadata": {},
   "source": [
    "nombre_infected      1027\n",
    "nombre_sain          2107\n",
    "nombre_exposed        589\n",
    "nombre_recovered    16277\n",
    "Name: 687, dtype: int64"
   ]
  },
  {
   "cell_type": "markdown",
   "id": "2bcff8d4",
   "metadata": {},
   "source": [
    "nombre_infected      1040\n",
    "nombre_sain          2081\n",
    "nombre_exposed        582\n",
    "nombre_recovered    16297\n",
    "Name: 688, dtype: int64"
   ]
  },
  {
   "cell_type": "markdown",
   "id": "439b84b6",
   "metadata": {},
   "source": [
    "nombre_infected      1036\n",
    "nombre_sain          2077\n",
    "nombre_exposed        565\n",
    "nombre_recovered    16322\n",
    "Name: 689, dtype: int64"
   ]
  },
  {
   "cell_type": "markdown",
   "id": "177acbe1",
   "metadata": {},
   "source": [
    "nombre_infected      1048\n",
    "nombre_sain          2069\n",
    "nombre_exposed        539\n",
    "nombre_recovered    16344\n",
    "Name: 690, dtype: int64"
   ]
  },
  {
   "cell_type": "markdown",
   "id": "4ce2a681",
   "metadata": {},
   "source": [
    "nombre_infected      1042\n",
    "nombre_sain          2093\n",
    "nombre_exposed        514\n",
    "nombre_recovered    16351\n",
    "Name: 691, dtype: int64"
   ]
  },
  {
   "cell_type": "markdown",
   "id": "8e8456bc",
   "metadata": {},
   "source": [
    "nombre_infected      1047\n",
    "nombre_sain          2098\n",
    "nombre_exposed        529\n",
    "nombre_recovered    16326\n",
    "Name: 692, dtype: int64"
   ]
  },
  {
   "cell_type": "markdown",
   "id": "dc250958",
   "metadata": {},
   "source": [
    "nombre_infected      1045\n",
    "nombre_sain          2101\n",
    "nombre_exposed        512\n",
    "nombre_recovered    16342\n",
    "Name: 693, dtype: int64"
   ]
  },
  {
   "cell_type": "markdown",
   "id": "c20fc124",
   "metadata": {},
   "source": [
    "nombre_infected      1031\n",
    "nombre_sain          2116\n",
    "nombre_exposed        515\n",
    "nombre_recovered    16338\n",
    "Name: 694, dtype: int64"
   ]
  },
  {
   "cell_type": "markdown",
   "id": "de452ece",
   "metadata": {},
   "source": [
    "nombre_infected      1005\n",
    "nombre_sain          2103\n",
    "nombre_exposed        531\n",
    "nombre_recovered    16361\n",
    "Name: 695, dtype: int64"
   ]
  },
  {
   "cell_type": "markdown",
   "id": "3f6d99cc",
   "metadata": {},
   "source": [
    "nombre_infected      1007\n",
    "nombre_sain          2128\n",
    "nombre_exposed        533\n",
    "nombre_recovered    16332\n",
    "Name: 696, dtype: int64"
   ]
  },
  {
   "cell_type": "markdown",
   "id": "7247b4f6",
   "metadata": {},
   "source": [
    "nombre_infected      1032\n",
    "nombre_sain          2105\n",
    "nombre_exposed        511\n",
    "nombre_recovered    16352\n",
    "Name: 697, dtype: int64"
   ]
  },
  {
   "cell_type": "markdown",
   "id": "eacd42f9",
   "metadata": {},
   "source": [
    "nombre_infected      1002\n",
    "nombre_sain          2126\n",
    "nombre_exposed        496\n",
    "nombre_recovered    16376\n",
    "Name: 698, dtype: int64"
   ]
  },
  {
   "cell_type": "markdown",
   "id": "ad450e8f",
   "metadata": {},
   "source": [
    "nombre_infected       985\n",
    "nombre_sain          2139\n",
    "nombre_exposed        484\n",
    "nombre_recovered    16392\n",
    "Name: 699, dtype: int64"
   ]
  },
  {
   "cell_type": "markdown",
   "id": "be7eeb73",
   "metadata": {},
   "source": [
    "nombre_infected       963\n",
    "nombre_sain          2170\n",
    "nombre_exposed        483\n",
    "nombre_recovered    16384\n",
    "Name: 700, dtype: int64"
   ]
  },
  {
   "cell_type": "markdown",
   "id": "b3335aa9",
   "metadata": {},
   "source": [
    "nombre_infected       956\n",
    "nombre_sain          2167\n",
    "nombre_exposed        483\n",
    "nombre_recovered    16394\n",
    "Name: 701, dtype: int64"
   ]
  },
  {
   "cell_type": "markdown",
   "id": "f3126de6",
   "metadata": {},
   "source": [
    "nombre_infected       937\n",
    "nombre_sain          2197\n",
    "nombre_exposed        469\n",
    "nombre_recovered    16397\n",
    "Name: 702, dtype: int64"
   ]
  },
  {
   "cell_type": "markdown",
   "id": "8f5cc321",
   "metadata": {},
   "source": [
    "nombre_infected       938\n",
    "nombre_sain          2211\n",
    "nombre_exposed        474\n",
    "nombre_recovered    16377\n",
    "Name: 703, dtype: int64"
   ]
  },
  {
   "cell_type": "markdown",
   "id": "caf18a59",
   "metadata": {},
   "source": [
    "nombre_infected       913\n",
    "nombre_sain          2221\n",
    "nombre_exposed        477\n",
    "nombre_recovered    16389\n",
    "Name: 704, dtype: int64"
   ]
  },
  {
   "cell_type": "markdown",
   "id": "c37fd59c",
   "metadata": {},
   "source": [
    "nombre_infected       883\n",
    "nombre_sain          2223\n",
    "nombre_exposed        492\n",
    "nombre_recovered    16402\n",
    "Name: 705, dtype: int64"
   ]
  },
  {
   "cell_type": "markdown",
   "id": "d6bf6c44",
   "metadata": {},
   "source": [
    "nombre_infected       881\n",
    "nombre_sain          2218\n",
    "nombre_exposed        509\n",
    "nombre_recovered    16392\n",
    "Name: 706, dtype: int64"
   ]
  },
  {
   "cell_type": "markdown",
   "id": "0580715c",
   "metadata": {},
   "source": [
    "nombre_infected       887\n",
    "nombre_sain          2225\n",
    "nombre_exposed        504\n",
    "nombre_recovered    16384\n",
    "Name: 707, dtype: int64"
   ]
  },
  {
   "cell_type": "markdown",
   "id": "d576eed8",
   "metadata": {},
   "source": [
    "nombre_infected       901\n",
    "nombre_sain          2245\n",
    "nombre_exposed        474\n",
    "nombre_recovered    16380\n",
    "Name: 708, dtype: int64"
   ]
  },
  {
   "cell_type": "markdown",
   "id": "b868d09e",
   "metadata": {},
   "source": [
    "nombre_infected       888\n",
    "nombre_sain          2241\n",
    "nombre_exposed        482\n",
    "nombre_recovered    16389\n",
    "Name: 709, dtype: int64"
   ]
  },
  {
   "cell_type": "markdown",
   "id": "1c11149f",
   "metadata": {},
   "source": [
    "nombre_infected       909\n",
    "nombre_sain          2221\n",
    "nombre_exposed        464\n",
    "nombre_recovered    16406\n",
    "Name: 710, dtype: int64"
   ]
  },
  {
   "cell_type": "markdown",
   "id": "e7e57408",
   "metadata": {},
   "source": [
    "nombre_infected       898\n",
    "nombre_sain          2224\n",
    "nombre_exposed        471\n",
    "nombre_recovered    16407\n",
    "Name: 711, dtype: int64"
   ]
  },
  {
   "cell_type": "markdown",
   "id": "c7956c6c",
   "metadata": {},
   "source": [
    "nombre_infected       891\n",
    "nombre_sain          2240\n",
    "nombre_exposed        488\n",
    "nombre_recovered    16381\n",
    "Name: 712, dtype: int64"
   ]
  },
  {
   "cell_type": "markdown",
   "id": "5a120682",
   "metadata": {},
   "source": [
    "nombre_infected       892\n",
    "nombre_sain          2241\n",
    "nombre_exposed        491\n",
    "nombre_recovered    16376\n",
    "Name: 713, dtype: int64"
   ]
  },
  {
   "cell_type": "markdown",
   "id": "da556c70",
   "metadata": {},
   "source": [
    "nombre_infected       890\n",
    "nombre_sain          2252\n",
    "nombre_exposed        502\n",
    "nombre_recovered    16356\n",
    "Name: 714, dtype: int64"
   ]
  },
  {
   "cell_type": "markdown",
   "id": "95f185e3",
   "metadata": {},
   "source": [
    "nombre_infected       888\n",
    "nombre_sain          2248\n",
    "nombre_exposed        511\n",
    "nombre_recovered    16353\n",
    "Name: 715, dtype: int64"
   ]
  },
  {
   "cell_type": "markdown",
   "id": "3a1b1170",
   "metadata": {},
   "source": [
    "nombre_infected       915\n",
    "nombre_sain          2252\n",
    "nombre_exposed        506\n",
    "nombre_recovered    16327\n",
    "Name: 716, dtype: int64"
   ]
  },
  {
   "cell_type": "markdown",
   "id": "b79aedc7",
   "metadata": {},
   "source": [
    "nombre_infected       934\n",
    "nombre_sain          2253\n",
    "nombre_exposed        513\n",
    "nombre_recovered    16300\n",
    "Name: 717, dtype: int64"
   ]
  },
  {
   "cell_type": "markdown",
   "id": "f19f691b",
   "metadata": {},
   "source": [
    "nombre_infected       929\n",
    "nombre_sain          2262\n",
    "nombre_exposed        529\n",
    "nombre_recovered    16280\n",
    "Name: 718, dtype: int64"
   ]
  },
  {
   "cell_type": "markdown",
   "id": "39d8c9c0",
   "metadata": {},
   "source": [
    "nombre_infected       910\n",
    "nombre_sain          2299\n",
    "nombre_exposed        512\n",
    "nombre_recovered    16279\n",
    "Name: 719, dtype: int64"
   ]
  },
  {
   "cell_type": "markdown",
   "id": "07345645",
   "metadata": {},
   "source": [
    "nombre_infected       943\n",
    "nombre_sain          2305\n",
    "nombre_exposed        507\n",
    "nombre_recovered    16245\n",
    "Name: 720, dtype: int64"
   ]
  },
  {
   "cell_type": "markdown",
   "id": "1cab5096",
   "metadata": {},
   "source": [
    "nombre_infected       930\n",
    "nombre_sain          2320\n",
    "nombre_exposed        537\n",
    "nombre_recovered    16213\n",
    "Name: 721, dtype: int64"
   ]
  },
  {
   "cell_type": "markdown",
   "id": "69ce3e9d",
   "metadata": {},
   "source": [
    "nombre_infected       923\n",
    "nombre_sain          2326\n",
    "nombre_exposed        560\n",
    "nombre_recovered    16191\n",
    "Name: 722, dtype: int64"
   ]
  },
  {
   "cell_type": "markdown",
   "id": "c36c105b",
   "metadata": {},
   "source": [
    "nombre_infected       923\n",
    "nombre_sain          2297\n",
    "nombre_exposed        595\n",
    "nombre_recovered    16185\n",
    "Name: 723, dtype: int64"
   ]
  },
  {
   "cell_type": "markdown",
   "id": "ae8b10e0",
   "metadata": {},
   "source": [
    "nombre_infected       965\n",
    "nombre_sain          2316\n",
    "nombre_exposed        571\n",
    "nombre_recovered    16148\n",
    "Name: 724, dtype: int64"
   ]
  },
  {
   "cell_type": "markdown",
   "id": "9da2f428",
   "metadata": {},
   "source": [
    "nombre_infected       963\n",
    "nombre_sain          2317\n",
    "nombre_exposed        572\n",
    "nombre_recovered    16148\n",
    "Name: 725, dtype: int64"
   ]
  },
  {
   "cell_type": "markdown",
   "id": "26696a77",
   "metadata": {},
   "source": [
    "nombre_infected       958\n",
    "nombre_sain          2343\n",
    "nombre_exposed        581\n",
    "nombre_recovered    16118\n",
    "Name: 726, dtype: int64"
   ]
  },
  {
   "cell_type": "markdown",
   "id": "3dfdb187",
   "metadata": {},
   "source": [
    "nombre_infected       978\n",
    "nombre_sain          2339\n",
    "nombre_exposed        572\n",
    "nombre_recovered    16111\n",
    "Name: 727, dtype: int64"
   ]
  },
  {
   "cell_type": "markdown",
   "id": "e88744f2",
   "metadata": {},
   "source": [
    "nombre_infected       966\n",
    "nombre_sain          2354\n",
    "nombre_exposed        575\n",
    "nombre_recovered    16105\n",
    "Name: 728, dtype: int64"
   ]
  },
  {
   "cell_type": "markdown",
   "id": "dd291a4a",
   "metadata": {},
   "source": [
    "nombre_infected       992\n",
    "nombre_sain          2345\n",
    "nombre_exposed        568\n",
    "nombre_recovered    16095\n",
    "Name: 729, dtype: int64"
   ]
  },
  {
   "cell_type": "markdown",
   "id": "3af545ad",
   "metadata": {},
   "source": [
    "nombre_infected      1000\n",
    "nombre_sain          2330\n",
    "nombre_exposed        586\n",
    "nombre_recovered    16084\n",
    "Name: 730, dtype: int64"
   ]
  }
 ],
 "metadata": {},
 "nbformat": 4,
 "nbformat_minor": 5
}
