{
 "cells": [
  {
   "cell_type": "markdown",
   "id": "2b2e9ac6",
   "metadata": {},
   "source": [
    "nombre_infected        20\n",
    "nombre_sain         19980\n",
    "nombre_exposed          0\n",
    "nombre_recovered        0\n",
    "Name: 0, dtype: int64"
   ]
  },
  {
   "cell_type": "markdown",
   "id": "b2cca45b",
   "metadata": {},
   "source": [
    "nombre_infected        20\n",
    "nombre_sain         19970\n",
    "nombre_exposed         10\n",
    "nombre_recovered        0\n",
    "Name: 1, dtype: int64"
   ]
  },
  {
   "cell_type": "markdown",
   "id": "56f28ec3",
   "metadata": {},
   "source": [
    "nombre_infected        18\n",
    "nombre_sain         19954\n",
    "nombre_exposed         26\n",
    "nombre_recovered        2\n",
    "Name: 2, dtype: int64"
   ]
  },
  {
   "cell_type": "markdown",
   "id": "bdc2dbb1",
   "metadata": {},
   "source": [
    "nombre_infected        20\n",
    "nombre_sain         19941\n",
    "nombre_exposed         37\n",
    "nombre_recovered        2\n",
    "Name: 3, dtype: int64"
   ]
  },
  {
   "cell_type": "markdown",
   "id": "20f46dfd",
   "metadata": {},
   "source": [
    "nombre_infected        22\n",
    "nombre_sain         19925\n",
    "nombre_exposed         51\n",
    "nombre_recovered        2\n",
    "Name: 4, dtype: int64"
   ]
  },
  {
   "cell_type": "markdown",
   "id": "f56fcdda",
   "metadata": {},
   "source": [
    "nombre_infected        36\n",
    "nombre_sain         19880\n",
    "nombre_exposed         82\n",
    "nombre_recovered        2\n",
    "Name: 5, dtype: int64"
   ]
  },
  {
   "cell_type": "markdown",
   "id": "e7cbce68",
   "metadata": {},
   "source": [
    "nombre_infected        27\n",
    "nombre_sain         19847\n",
    "nombre_exposed        105\n",
    "nombre_recovered       21\n",
    "Name: 6, dtype: int64"
   ]
  },
  {
   "cell_type": "markdown",
   "id": "0d6708ad",
   "metadata": {},
   "source": [
    "nombre_infected        41\n",
    "nombre_sain         19810\n",
    "nombre_exposed        124\n",
    "nombre_recovered       25\n",
    "Name: 7, dtype: int64"
   ]
  },
  {
   "cell_type": "markdown",
   "id": "e433f27b",
   "metadata": {},
   "source": [
    "nombre_infected        64\n",
    "nombre_sain         19744\n",
    "nombre_exposed        158\n",
    "nombre_recovered       34\n",
    "Name: 8, dtype: int64"
   ]
  },
  {
   "cell_type": "markdown",
   "id": "4e479f40",
   "metadata": {},
   "source": [
    "nombre_infected        78\n",
    "nombre_sain         19656\n",
    "nombre_exposed        225\n",
    "nombre_recovered       41\n",
    "Name: 9, dtype: int64"
   ]
  },
  {
   "cell_type": "markdown",
   "id": "7032b6c2",
   "metadata": {},
   "source": [
    "nombre_infected       106\n",
    "nombre_sain         19548\n",
    "nombre_exposed        295\n",
    "nombre_recovered       51\n",
    "Name: 10, dtype: int64"
   ]
  },
  {
   "cell_type": "markdown",
   "id": "5910bc24",
   "metadata": {},
   "source": [
    "nombre_infected       150\n",
    "nombre_sain         19413\n",
    "nombre_exposed        376\n",
    "nombre_recovered       61\n",
    "Name: 11, dtype: int64"
   ]
  },
  {
   "cell_type": "markdown",
   "id": "afc59d6b",
   "metadata": {},
   "source": [
    "nombre_infected       196\n",
    "nombre_sain         19214\n",
    "nombre_exposed        521\n",
    "nombre_recovered       69\n",
    "Name: 12, dtype: int64"
   ]
  },
  {
   "cell_type": "markdown",
   "id": "4a8a2829",
   "metadata": {},
   "source": [
    "nombre_infected       258\n",
    "nombre_sain         18986\n",
    "nombre_exposed        670\n",
    "nombre_recovered       86\n",
    "Name: 13, dtype: int64"
   ]
  },
  {
   "cell_type": "markdown",
   "id": "2bd13eec",
   "metadata": {},
   "source": [
    "nombre_infected       376\n",
    "nombre_sain         18624\n",
    "nombre_exposed        890\n",
    "nombre_recovered      110\n",
    "Name: 14, dtype: int64"
   ]
  },
  {
   "cell_type": "markdown",
   "id": "8fc917b9",
   "metadata": {},
   "source": [
    "nombre_infected       477\n",
    "nombre_sain         18186\n",
    "nombre_exposed       1186\n",
    "nombre_recovered      151\n",
    "Name: 15, dtype: int64"
   ]
  },
  {
   "cell_type": "markdown",
   "id": "368712ba",
   "metadata": {},
   "source": [
    "nombre_infected       637\n",
    "nombre_sain         17551\n",
    "nombre_exposed       1604\n",
    "nombre_recovered      208\n",
    "Name: 16, dtype: int64"
   ]
  },
  {
   "cell_type": "markdown",
   "id": "09f707e9",
   "metadata": {},
   "source": [
    "nombre_infected       850\n",
    "nombre_sain         16787\n",
    "nombre_exposed       2094\n",
    "nombre_recovered      269\n",
    "Name: 17, dtype: int64"
   ]
  },
  {
   "cell_type": "markdown",
   "id": "f199719a",
   "metadata": {},
   "source": [
    "nombre_infected      1155\n",
    "nombre_sain         15790\n",
    "nombre_exposed       2705\n",
    "nombre_recovered      350\n",
    "Name: 18, dtype: int64"
   ]
  },
  {
   "cell_type": "markdown",
   "id": "1f40b139",
   "metadata": {},
   "source": [
    "nombre_infected      1523\n",
    "nombre_sain         14574\n",
    "nombre_exposed       3437\n",
    "nombre_recovered      466\n",
    "Name: 19, dtype: int64"
   ]
  },
  {
   "cell_type": "markdown",
   "id": "317c6213",
   "metadata": {},
   "source": [
    "nombre_infected      1989\n",
    "nombre_sain         13186\n",
    "nombre_exposed       4186\n",
    "nombre_recovered      639\n",
    "Name: 20, dtype: int64"
   ]
  },
  {
   "cell_type": "markdown",
   "id": "35a6cc92",
   "metadata": {},
   "source": [
    "nombre_infected      2548\n",
    "nombre_sain         11662\n",
    "nombre_exposed       4924\n",
    "nombre_recovered      866\n",
    "Name: 21, dtype: int64"
   ]
  },
  {
   "cell_type": "markdown",
   "id": "e397eba2",
   "metadata": {},
   "source": [
    "nombre_infected     3253\n",
    "nombre_sain         9933\n",
    "nombre_exposed      5682\n",
    "nombre_recovered    1132\n",
    "Name: 22, dtype: int64"
   ]
  },
  {
   "cell_type": "markdown",
   "id": "ddad469f",
   "metadata": {},
   "source": [
    "nombre_infected     3999\n",
    "nombre_sain         8223\n",
    "nombre_exposed      6281\n",
    "nombre_recovered    1497\n",
    "Name: 23, dtype: int64"
   ]
  },
  {
   "cell_type": "markdown",
   "id": "d58a18ee",
   "metadata": {},
   "source": [
    "nombre_infected     4861\n",
    "nombre_sain         6448\n",
    "nombre_exposed      6781\n",
    "nombre_recovered    1910\n",
    "Name: 24, dtype: int64"
   ]
  },
  {
   "cell_type": "markdown",
   "id": "6fb0e10b",
   "metadata": {},
   "source": [
    "nombre_infected     5789\n",
    "nombre_sain         4893\n",
    "nombre_exposed      6883\n",
    "nombre_recovered    2435\n",
    "Name: 25, dtype: int64"
   ]
  },
  {
   "cell_type": "markdown",
   "id": "7fb4c94b",
   "metadata": {},
   "source": [
    "nombre_infected     6614\n",
    "nombre_sain         3688\n",
    "nombre_exposed      6616\n",
    "nombre_recovered    3082\n",
    "Name: 26, dtype: int64"
   ]
  },
  {
   "cell_type": "markdown",
   "id": "ec0de562",
   "metadata": {},
   "source": [
    "nombre_infected     7410\n",
    "nombre_sain         2646\n",
    "nombre_exposed      6042\n",
    "nombre_recovered    3902\n",
    "Name: 27, dtype: int64"
   ]
  },
  {
   "cell_type": "markdown",
   "id": "4f06bf45",
   "metadata": {},
   "source": [
    "nombre_infected     7932\n",
    "nombre_sain         1897\n",
    "nombre_exposed      5391\n",
    "nombre_recovered    4780\n",
    "Name: 28, dtype: int64"
   ]
  },
  {
   "cell_type": "markdown",
   "id": "6c353f4b",
   "metadata": {},
   "source": [
    "nombre_infected     8312\n",
    "nombre_sain         1336\n",
    "nombre_exposed      4672\n",
    "nombre_recovered    5680\n",
    "Name: 29, dtype: int64"
   ]
  },
  {
   "cell_type": "markdown",
   "id": "3cc37a0a",
   "metadata": {},
   "source": [
    "nombre_infected     8515\n",
    "nombre_sain          934\n",
    "nombre_exposed      3866\n",
    "nombre_recovered    6685\n",
    "Name: 30, dtype: int64"
   ]
  },
  {
   "cell_type": "markdown",
   "id": "78e90eb6",
   "metadata": {},
   "source": [
    "nombre_infected     8487\n",
    "nombre_sain          642\n",
    "nombre_exposed      3148\n",
    "nombre_recovered    7723\n",
    "Name: 31, dtype: int64"
   ]
  },
  {
   "cell_type": "markdown",
   "id": "4f417da0",
   "metadata": {},
   "source": [
    "nombre_infected     8256\n",
    "nombre_sain          437\n",
    "nombre_exposed      2535\n",
    "nombre_recovered    8772\n",
    "Name: 32, dtype: int64"
   ]
  },
  {
   "cell_type": "markdown",
   "id": "3e6089f1",
   "metadata": {},
   "source": [
    "nombre_infected     7902\n",
    "nombre_sain          305\n",
    "nombre_exposed      1992\n",
    "nombre_recovered    9801\n",
    "Name: 33, dtype: int64"
   ]
  },
  {
   "cell_type": "markdown",
   "id": "453fa513",
   "metadata": {},
   "source": [
    "nombre_infected      7436\n",
    "nombre_sain           219\n",
    "nombre_exposed       1549\n",
    "nombre_recovered    10796\n",
    "Name: 34, dtype: int64"
   ]
  },
  {
   "cell_type": "markdown",
   "id": "fabe487b",
   "metadata": {},
   "source": [
    "nombre_infected      6925\n",
    "nombre_sain           165\n",
    "nombre_exposed       1157\n",
    "nombre_recovered    11753\n",
    "Name: 35, dtype: int64"
   ]
  },
  {
   "cell_type": "markdown",
   "id": "254a3925",
   "metadata": {},
   "source": [
    "nombre_infected      6370\n",
    "nombre_sain           138\n",
    "nombre_exposed        869\n",
    "nombre_recovered    12623\n",
    "Name: 36, dtype: int64"
   ]
  },
  {
   "cell_type": "markdown",
   "id": "d5a0cc80",
   "metadata": {},
   "source": [
    "nombre_infected      5818\n",
    "nombre_sain           127\n",
    "nombre_exposed        664\n",
    "nombre_recovered    13391\n",
    "Name: 37, dtype: int64"
   ]
  },
  {
   "cell_type": "markdown",
   "id": "3d602867",
   "metadata": {},
   "source": [
    "nombre_infected      5267\n",
    "nombre_sain           119\n",
    "nombre_exposed        514\n",
    "nombre_recovered    14100\n",
    "Name: 38, dtype: int64"
   ]
  },
  {
   "cell_type": "markdown",
   "id": "fd255eb7",
   "metadata": {},
   "source": [
    "nombre_infected      4751\n",
    "nombre_sain           114\n",
    "nombre_exposed        399\n",
    "nombre_recovered    14736\n",
    "Name: 39, dtype: int64"
   ]
  },
  {
   "cell_type": "markdown",
   "id": "0674a0ef",
   "metadata": {},
   "source": [
    "nombre_infected      4247\n",
    "nombre_sain           119\n",
    "nombre_exposed        318\n",
    "nombre_recovered    15316\n",
    "Name: 40, dtype: int64"
   ]
  },
  {
   "cell_type": "markdown",
   "id": "f30bbf2e",
   "metadata": {},
   "source": [
    "nombre_infected      3773\n",
    "nombre_sain           134\n",
    "nombre_exposed        271\n",
    "nombre_recovered    15822\n",
    "Name: 41, dtype: int64"
   ]
  },
  {
   "cell_type": "markdown",
   "id": "7c1deee2",
   "metadata": {},
   "source": [
    "nombre_infected      3318\n",
    "nombre_sain           155\n",
    "nombre_exposed        235\n",
    "nombre_recovered    16292\n",
    "Name: 42, dtype: int64"
   ]
  },
  {
   "cell_type": "markdown",
   "id": "36c6ef36",
   "metadata": {},
   "source": [
    "nombre_infected      2961\n",
    "nombre_sain           173\n",
    "nombre_exposed        203\n",
    "nombre_recovered    16663\n",
    "Name: 43, dtype: int64"
   ]
  },
  {
   "cell_type": "markdown",
   "id": "b5952bb9",
   "metadata": {},
   "source": [
    "nombre_infected      2603\n",
    "nombre_sain           187\n",
    "nombre_exposed        184\n",
    "nombre_recovered    17026\n",
    "Name: 44, dtype: int64"
   ]
  },
  {
   "cell_type": "markdown",
   "id": "848662bf",
   "metadata": {},
   "source": [
    "nombre_infected      2324\n",
    "nombre_sain           202\n",
    "nombre_exposed        182\n",
    "nombre_recovered    17292\n",
    "Name: 45, dtype: int64"
   ]
  },
  {
   "cell_type": "markdown",
   "id": "97e81aef",
   "metadata": {},
   "source": [
    "nombre_infected      2043\n",
    "nombre_sain           233\n",
    "nombre_exposed        171\n",
    "nombre_recovered    17553\n",
    "Name: 46, dtype: int64"
   ]
  },
  {
   "cell_type": "markdown",
   "id": "2bf3ec6b",
   "metadata": {},
   "source": [
    "nombre_infected      1814\n",
    "nombre_sain           245\n",
    "nombre_exposed        163\n",
    "nombre_recovered    17778\n",
    "Name: 47, dtype: int64"
   ]
  },
  {
   "cell_type": "markdown",
   "id": "484ab81a",
   "metadata": {},
   "source": [
    "nombre_infected      1583\n",
    "nombre_sain           281\n",
    "nombre_exposed        162\n",
    "nombre_recovered    17974\n",
    "Name: 48, dtype: int64"
   ]
  },
  {
   "cell_type": "markdown",
   "id": "9e3a2194",
   "metadata": {},
   "source": [
    "nombre_infected      1427\n",
    "nombre_sain           300\n",
    "nombre_exposed        158\n",
    "nombre_recovered    18115\n",
    "Name: 49, dtype: int64"
   ]
  },
  {
   "cell_type": "markdown",
   "id": "c3f82a11",
   "metadata": {},
   "source": [
    "nombre_infected      1281\n",
    "nombre_sain           305\n",
    "nombre_exposed        151\n",
    "nombre_recovered    18263\n",
    "Name: 50, dtype: int64"
   ]
  },
  {
   "cell_type": "markdown",
   "id": "cd275b82",
   "metadata": {},
   "source": [
    "nombre_infected      1148\n",
    "nombre_sain           334\n",
    "nombre_exposed        145\n",
    "nombre_recovered    18373\n",
    "Name: 51, dtype: int64"
   ]
  },
  {
   "cell_type": "markdown",
   "id": "b9c7c34b",
   "metadata": {},
   "source": [
    "nombre_infected      1014\n",
    "nombre_sain           365\n",
    "nombre_exposed        134\n",
    "nombre_recovered    18487\n",
    "Name: 52, dtype: int64"
   ]
  },
  {
   "cell_type": "markdown",
   "id": "182faf7c",
   "metadata": {},
   "source": [
    "nombre_infected       907\n",
    "nombre_sain           396\n",
    "nombre_exposed        123\n",
    "nombre_recovered    18574\n",
    "Name: 53, dtype: int64"
   ]
  },
  {
   "cell_type": "markdown",
   "id": "900fb950",
   "metadata": {},
   "source": [
    "nombre_infected       798\n",
    "nombre_sain           436\n",
    "nombre_exposed        113\n",
    "nombre_recovered    18653\n",
    "Name: 54, dtype: int64"
   ]
  },
  {
   "cell_type": "markdown",
   "id": "ca9ca286",
   "metadata": {},
   "source": [
    "nombre_infected       683\n",
    "nombre_sain           458\n",
    "nombre_exposed        117\n",
    "nombre_recovered    18742\n",
    "Name: 55, dtype: int64"
   ]
  },
  {
   "cell_type": "markdown",
   "id": "f397e490",
   "metadata": {},
   "source": [
    "nombre_infected       597\n",
    "nombre_sain           497\n",
    "nombre_exposed        101\n",
    "nombre_recovered    18805\n",
    "Name: 56, dtype: int64"
   ]
  },
  {
   "cell_type": "markdown",
   "id": "6d5d9b38",
   "metadata": {},
   "source": [
    "nombre_infected       525\n",
    "nombre_sain           518\n",
    "nombre_exposed         95\n",
    "nombre_recovered    18862\n",
    "Name: 57, dtype: int64"
   ]
  },
  {
   "cell_type": "markdown",
   "id": "4f5b506b",
   "metadata": {},
   "source": [
    "nombre_infected       472\n",
    "nombre_sain           545\n",
    "nombre_exposed         86\n",
    "nombre_recovered    18897\n",
    "Name: 58, dtype: int64"
   ]
  },
  {
   "cell_type": "markdown",
   "id": "bdc31f67",
   "metadata": {},
   "source": [
    "nombre_infected       410\n",
    "nombre_sain           584\n",
    "nombre_exposed         77\n",
    "nombre_recovered    18929\n",
    "Name: 59, dtype: int64"
   ]
  },
  {
   "cell_type": "markdown",
   "id": "a5a1fae1",
   "metadata": {},
   "source": [
    "nombre_infected       351\n",
    "nombre_sain           616\n",
    "nombre_exposed         71\n",
    "nombre_recovered    18962\n",
    "Name: 60, dtype: int64"
   ]
  },
  {
   "cell_type": "markdown",
   "id": "0d155693",
   "metadata": {},
   "source": [
    "nombre_infected       293\n",
    "nombre_sain           654\n",
    "nombre_exposed         76\n",
    "nombre_recovered    18977\n",
    "Name: 61, dtype: int64"
   ]
  },
  {
   "cell_type": "markdown",
   "id": "1298522c",
   "metadata": {},
   "source": [
    "nombre_infected       266\n",
    "nombre_sain           692\n",
    "nombre_exposed         70\n",
    "nombre_recovered    18972\n",
    "Name: 62, dtype: int64"
   ]
  },
  {
   "cell_type": "markdown",
   "id": "a4ab49f5",
   "metadata": {},
   "source": [
    "nombre_infected       236\n",
    "nombre_sain           733\n",
    "nombre_exposed         64\n",
    "nombre_recovered    18967\n",
    "Name: 63, dtype: int64"
   ]
  },
  {
   "cell_type": "markdown",
   "id": "f2cb9092",
   "metadata": {},
   "source": [
    "nombre_infected       215\n",
    "nombre_sain           785\n",
    "nombre_exposed         62\n",
    "nombre_recovered    18938\n",
    "Name: 64, dtype: int64"
   ]
  },
  {
   "cell_type": "markdown",
   "id": "a3fa1eb8",
   "metadata": {},
   "source": [
    "nombre_infected       185\n",
    "nombre_sain           828\n",
    "nombre_exposed         59\n",
    "nombre_recovered    18928\n",
    "Name: 65, dtype: int64"
   ]
  },
  {
   "cell_type": "markdown",
   "id": "5ff01831",
   "metadata": {},
   "source": [
    "nombre_infected       175\n",
    "nombre_sain           890\n",
    "nombre_exposed         46\n",
    "nombre_recovered    18889\n",
    "Name: 66, dtype: int64"
   ]
  },
  {
   "cell_type": "markdown",
   "id": "a74076c4",
   "metadata": {},
   "source": [
    "nombre_infected       154\n",
    "nombre_sain           940\n",
    "nombre_exposed         50\n",
    "nombre_recovered    18856\n",
    "Name: 67, dtype: int64"
   ]
  },
  {
   "cell_type": "markdown",
   "id": "020dffa2",
   "metadata": {},
   "source": [
    "nombre_infected       139\n",
    "nombre_sain           992\n",
    "nombre_exposed         48\n",
    "nombre_recovered    18821\n",
    "Name: 68, dtype: int64"
   ]
  },
  {
   "cell_type": "markdown",
   "id": "eb5e46a4",
   "metadata": {},
   "source": [
    "nombre_infected       125\n",
    "nombre_sain          1056\n",
    "nombre_exposed         43\n",
    "nombre_recovered    18776\n",
    "Name: 69, dtype: int64"
   ]
  },
  {
   "cell_type": "markdown",
   "id": "3580a1cb",
   "metadata": {},
   "source": [
    "nombre_infected       112\n",
    "nombre_sain          1125\n",
    "nombre_exposed         44\n",
    "nombre_recovered    18719\n",
    "Name: 70, dtype: int64"
   ]
  },
  {
   "cell_type": "markdown",
   "id": "94a5a14d",
   "metadata": {},
   "source": [
    "nombre_infected        99\n",
    "nombre_sain          1201\n",
    "nombre_exposed         46\n",
    "nombre_recovered    18654\n",
    "Name: 71, dtype: int64"
   ]
  },
  {
   "cell_type": "markdown",
   "id": "9a3cdb21",
   "metadata": {},
   "source": [
    "nombre_infected        89\n",
    "nombre_sain          1262\n",
    "nombre_exposed         37\n",
    "nombre_recovered    18612\n",
    "Name: 72, dtype: int64"
   ]
  },
  {
   "cell_type": "markdown",
   "id": "1912361e",
   "metadata": {},
   "source": [
    "nombre_infected        79\n",
    "nombre_sain          1339\n",
    "nombre_exposed         33\n",
    "nombre_recovered    18549\n",
    "Name: 73, dtype: int64"
   ]
  },
  {
   "cell_type": "markdown",
   "id": "5eb176a9",
   "metadata": {},
   "source": [
    "nombre_infected        72\n",
    "nombre_sain          1407\n",
    "nombre_exposed         34\n",
    "nombre_recovered    18487\n",
    "Name: 74, dtype: int64"
   ]
  },
  {
   "cell_type": "markdown",
   "id": "5ea8d1fd",
   "metadata": {},
   "source": [
    "nombre_infected        62\n",
    "nombre_sain          1468\n",
    "nombre_exposed         37\n",
    "nombre_recovered    18433\n",
    "Name: 75, dtype: int64"
   ]
  },
  {
   "cell_type": "markdown",
   "id": "019f984c",
   "metadata": {},
   "source": [
    "nombre_infected        56\n",
    "nombre_sain          1529\n",
    "nombre_exposed         34\n",
    "nombre_recovered    18381\n",
    "Name: 76, dtype: int64"
   ]
  },
  {
   "cell_type": "markdown",
   "id": "b23e713b",
   "metadata": {},
   "source": [
    "nombre_infected        52\n",
    "nombre_sain          1589\n",
    "nombre_exposed         35\n",
    "nombre_recovered    18324\n",
    "Name: 77, dtype: int64"
   ]
  },
  {
   "cell_type": "markdown",
   "id": "be46dbe5",
   "metadata": {},
   "source": [
    "nombre_infected        42\n",
    "nombre_sain          1647\n",
    "nombre_exposed         41\n",
    "nombre_recovered    18270\n",
    "Name: 78, dtype: int64"
   ]
  },
  {
   "cell_type": "markdown",
   "id": "1ec3ab0a",
   "metadata": {},
   "source": [
    "nombre_infected        40\n",
    "nombre_sain          1711\n",
    "nombre_exposed         39\n",
    "nombre_recovered    18210\n",
    "Name: 79, dtype: int64"
   ]
  },
  {
   "cell_type": "markdown",
   "id": "818cea35",
   "metadata": {},
   "source": [
    "nombre_infected        41\n",
    "nombre_sain          1778\n",
    "nombre_exposed         34\n",
    "nombre_recovered    18147\n",
    "Name: 80, dtype: int64"
   ]
  },
  {
   "cell_type": "markdown",
   "id": "25365e7f",
   "metadata": {},
   "source": [
    "nombre_infected        47\n",
    "nombre_sain          1840\n",
    "nombre_exposed         31\n",
    "nombre_recovered    18082\n",
    "Name: 81, dtype: int64"
   ]
  },
  {
   "cell_type": "markdown",
   "id": "04c8adc4",
   "metadata": {},
   "source": [
    "nombre_infected        45\n",
    "nombre_sain          1894\n",
    "nombre_exposed         32\n",
    "nombre_recovered    18029\n",
    "Name: 82, dtype: int64"
   ]
  },
  {
   "cell_type": "markdown",
   "id": "1661016a",
   "metadata": {},
   "source": [
    "nombre_infected        47\n",
    "nombre_sain          1960\n",
    "nombre_exposed         27\n",
    "nombre_recovered    17966\n",
    "Name: 83, dtype: int64"
   ]
  },
  {
   "cell_type": "markdown",
   "id": "3369402a",
   "metadata": {},
   "source": [
    "nombre_infected        45\n",
    "nombre_sain          2021\n",
    "nombre_exposed         28\n",
    "nombre_recovered    17906\n",
    "Name: 84, dtype: int64"
   ]
  },
  {
   "cell_type": "markdown",
   "id": "89c0cad4",
   "metadata": {},
   "source": [
    "nombre_infected        45\n",
    "nombre_sain          2084\n",
    "nombre_exposed         23\n",
    "nombre_recovered    17848\n",
    "Name: 85, dtype: int64"
   ]
  },
  {
   "cell_type": "markdown",
   "id": "b7f0ec2f",
   "metadata": {},
   "source": [
    "nombre_infected        44\n",
    "nombre_sain          2151\n",
    "nombre_exposed         21\n",
    "nombre_recovered    17784\n",
    "Name: 86, dtype: int64"
   ]
  },
  {
   "cell_type": "markdown",
   "id": "50a5d75f",
   "metadata": {},
   "source": [
    "nombre_infected        44\n",
    "nombre_sain          2225\n",
    "nombre_exposed         20\n",
    "nombre_recovered    17711\n",
    "Name: 87, dtype: int64"
   ]
  },
  {
   "cell_type": "markdown",
   "id": "8bfa050e",
   "metadata": {},
   "source": [
    "nombre_infected        37\n",
    "nombre_sain          2300\n",
    "nombre_exposed         20\n",
    "nombre_recovered    17643\n",
    "Name: 88, dtype: int64"
   ]
  },
  {
   "cell_type": "markdown",
   "id": "a54e1aa3",
   "metadata": {},
   "source": [
    "nombre_infected        36\n",
    "nombre_sain          2366\n",
    "nombre_exposed         19\n",
    "nombre_recovered    17579\n",
    "Name: 89, dtype: int64"
   ]
  },
  {
   "cell_type": "markdown",
   "id": "f78d7ffd",
   "metadata": {},
   "source": [
    "nombre_infected        36\n",
    "nombre_sain          2437\n",
    "nombre_exposed         18\n",
    "nombre_recovered    17509\n",
    "Name: 90, dtype: int64"
   ]
  },
  {
   "cell_type": "markdown",
   "id": "c32f8123",
   "metadata": {},
   "source": [
    "nombre_infected        33\n",
    "nombre_sain          2507\n",
    "nombre_exposed         22\n",
    "nombre_recovered    17438\n",
    "Name: 91, dtype: int64"
   ]
  },
  {
   "cell_type": "markdown",
   "id": "6684575d",
   "metadata": {},
   "source": [
    "nombre_infected        30\n",
    "nombre_sain          2585\n",
    "nombre_exposed         19\n",
    "nombre_recovered    17366\n",
    "Name: 92, dtype: int64"
   ]
  },
  {
   "cell_type": "markdown",
   "id": "fd0f4428",
   "metadata": {},
   "source": [
    "nombre_infected        33\n",
    "nombre_sain          2649\n",
    "nombre_exposed         20\n",
    "nombre_recovered    17298\n",
    "Name: 93, dtype: int64"
   ]
  },
  {
   "cell_type": "markdown",
   "id": "21b738c8",
   "metadata": {},
   "source": [
    "nombre_infected        28\n",
    "nombre_sain          2724\n",
    "nombre_exposed         23\n",
    "nombre_recovered    17225\n",
    "Name: 94, dtype: int64"
   ]
  },
  {
   "cell_type": "markdown",
   "id": "fa2975f0",
   "metadata": {},
   "source": [
    "nombre_infected        20\n",
    "nombre_sain          2775\n",
    "nombre_exposed         25\n",
    "nombre_recovered    17180\n",
    "Name: 95, dtype: int64"
   ]
  },
  {
   "cell_type": "markdown",
   "id": "c3a6fb77",
   "metadata": {},
   "source": [
    "nombre_infected        23\n",
    "nombre_sain          2840\n",
    "nombre_exposed         26\n",
    "nombre_recovered    17111\n",
    "Name: 96, dtype: int64"
   ]
  },
  {
   "cell_type": "markdown",
   "id": "256b61b1",
   "metadata": {},
   "source": [
    "nombre_infected        26\n",
    "nombre_sain          2899\n",
    "nombre_exposed         31\n",
    "nombre_recovered    17044\n",
    "Name: 97, dtype: int64"
   ]
  },
  {
   "cell_type": "markdown",
   "id": "2f6721db",
   "metadata": {},
   "source": [
    "nombre_infected        31\n",
    "nombre_sain          2948\n",
    "nombre_exposed         28\n",
    "nombre_recovered    16993\n",
    "Name: 98, dtype: int64"
   ]
  },
  {
   "cell_type": "markdown",
   "id": "2d66e60f",
   "metadata": {},
   "source": [
    "nombre_infected        31\n",
    "nombre_sain          3000\n",
    "nombre_exposed         29\n",
    "nombre_recovered    16940\n",
    "Name: 99, dtype: int64"
   ]
  },
  {
   "cell_type": "markdown",
   "id": "4c2106b0",
   "metadata": {},
   "source": [
    "nombre_infected        30\n",
    "nombre_sain          3044\n",
    "nombre_exposed         28\n",
    "nombre_recovered    16898\n",
    "Name: 100, dtype: int64"
   ]
  },
  {
   "cell_type": "markdown",
   "id": "cd8ee5d1",
   "metadata": {},
   "source": [
    "nombre_infected        31\n",
    "nombre_sain          3096\n",
    "nombre_exposed         28\n",
    "nombre_recovered    16845\n",
    "Name: 101, dtype: int64"
   ]
  },
  {
   "cell_type": "markdown",
   "id": "b015b611",
   "metadata": {},
   "source": [
    "nombre_infected        32\n",
    "nombre_sain          3156\n",
    "nombre_exposed         27\n",
    "nombre_recovered    16785\n",
    "Name: 102, dtype: int64"
   ]
  },
  {
   "cell_type": "markdown",
   "id": "bf2e44d8",
   "metadata": {},
   "source": [
    "nombre_infected        35\n",
    "nombre_sain          3200\n",
    "nombre_exposed         27\n",
    "nombre_recovered    16738\n",
    "Name: 103, dtype: int64"
   ]
  },
  {
   "cell_type": "markdown",
   "id": "86486323",
   "metadata": {},
   "source": [
    "nombre_infected        33\n",
    "nombre_sain          3233\n",
    "nombre_exposed         29\n",
    "nombre_recovered    16705\n",
    "Name: 104, dtype: int64"
   ]
  },
  {
   "cell_type": "markdown",
   "id": "5ab96c36",
   "metadata": {},
   "source": [
    "nombre_infected        36\n",
    "nombre_sain          3277\n",
    "nombre_exposed         26\n",
    "nombre_recovered    16661\n",
    "Name: 105, dtype: int64"
   ]
  },
  {
   "cell_type": "markdown",
   "id": "5a50014a",
   "metadata": {},
   "source": [
    "nombre_infected        34\n",
    "nombre_sain          3322\n",
    "nombre_exposed         30\n",
    "nombre_recovered    16614\n",
    "Name: 106, dtype: int64"
   ]
  },
  {
   "cell_type": "markdown",
   "id": "7ad59fb6",
   "metadata": {},
   "source": [
    "nombre_infected        38\n",
    "nombre_sain          3371\n",
    "nombre_exposed         27\n",
    "nombre_recovered    16564\n",
    "Name: 107, dtype: int64"
   ]
  },
  {
   "cell_type": "markdown",
   "id": "492b1ff6",
   "metadata": {},
   "source": [
    "nombre_infected        33\n",
    "nombre_sain          3403\n",
    "nombre_exposed         30\n",
    "nombre_recovered    16534\n",
    "Name: 108, dtype: int64"
   ]
  },
  {
   "cell_type": "markdown",
   "id": "c4462ae4",
   "metadata": {},
   "source": [
    "nombre_infected        37\n",
    "nombre_sain          3452\n",
    "nombre_exposed         31\n",
    "nombre_recovered    16480\n",
    "Name: 109, dtype: int64"
   ]
  },
  {
   "cell_type": "markdown",
   "id": "b90266ff",
   "metadata": {},
   "source": [
    "nombre_infected        42\n",
    "nombre_sain          3489\n",
    "nombre_exposed         34\n",
    "nombre_recovered    16435\n",
    "Name: 110, dtype: int64"
   ]
  },
  {
   "cell_type": "markdown",
   "id": "5cf1df19",
   "metadata": {},
   "source": [
    "nombre_infected        39\n",
    "nombre_sain          3524\n",
    "nombre_exposed         33\n",
    "nombre_recovered    16404\n",
    "Name: 111, dtype: int64"
   ]
  },
  {
   "cell_type": "markdown",
   "id": "c459dfca",
   "metadata": {},
   "source": [
    "nombre_infected        40\n",
    "nombre_sain          3562\n",
    "nombre_exposed         40\n",
    "nombre_recovered    16358\n",
    "Name: 112, dtype: int64"
   ]
  },
  {
   "cell_type": "markdown",
   "id": "97400779",
   "metadata": {},
   "source": [
    "nombre_infected        42\n",
    "nombre_sain          3594\n",
    "nombre_exposed         39\n",
    "nombre_recovered    16325\n",
    "Name: 113, dtype: int64"
   ]
  },
  {
   "cell_type": "markdown",
   "id": "ec6db777",
   "metadata": {},
   "source": [
    "nombre_infected        45\n",
    "nombre_sain          3649\n",
    "nombre_exposed         38\n",
    "nombre_recovered    16268\n",
    "Name: 114, dtype: int64"
   ]
  },
  {
   "cell_type": "markdown",
   "id": "aeaf0ef1",
   "metadata": {},
   "source": [
    "nombre_infected        44\n",
    "nombre_sain          3688\n",
    "nombre_exposed         44\n",
    "nombre_recovered    16224\n",
    "Name: 115, dtype: int64"
   ]
  },
  {
   "cell_type": "markdown",
   "id": "69096c90",
   "metadata": {},
   "source": [
    "nombre_infected        47\n",
    "nombre_sain          3744\n",
    "nombre_exposed         46\n",
    "nombre_recovered    16163\n",
    "Name: 116, dtype: int64"
   ]
  },
  {
   "cell_type": "markdown",
   "id": "e333fbbe",
   "metadata": {},
   "source": [
    "nombre_infected        54\n",
    "nombre_sain          3793\n",
    "nombre_exposed         41\n",
    "nombre_recovered    16112\n",
    "Name: 117, dtype: int64"
   ]
  },
  {
   "cell_type": "markdown",
   "id": "028999f3",
   "metadata": {},
   "source": [
    "nombre_infected        58\n",
    "nombre_sain          3845\n",
    "nombre_exposed         49\n",
    "nombre_recovered    16048\n",
    "Name: 118, dtype: int64"
   ]
  },
  {
   "cell_type": "markdown",
   "id": "fcfb825e",
   "metadata": {},
   "source": [
    "nombre_infected        59\n",
    "nombre_sain          3903\n",
    "nombre_exposed         55\n",
    "nombre_recovered    15983\n",
    "Name: 119, dtype: int64"
   ]
  },
  {
   "cell_type": "markdown",
   "id": "fdfd2e5a",
   "metadata": {},
   "source": [
    "nombre_infected        67\n",
    "nombre_sain          3952\n",
    "nombre_exposed         49\n",
    "nombre_recovered    15932\n",
    "Name: 120, dtype: int64"
   ]
  },
  {
   "cell_type": "markdown",
   "id": "c9c0fc18",
   "metadata": {},
   "source": [
    "nombre_infected        68\n",
    "nombre_sain          3987\n",
    "nombre_exposed         61\n",
    "nombre_recovered    15884\n",
    "Name: 121, dtype: int64"
   ]
  },
  {
   "cell_type": "markdown",
   "id": "18b2d136",
   "metadata": {},
   "source": [
    "nombre_infected        68\n",
    "nombre_sain          4038\n",
    "nombre_exposed         68\n",
    "nombre_recovered    15826\n",
    "Name: 122, dtype: int64"
   ]
  },
  {
   "cell_type": "markdown",
   "id": "0efc0d8d",
   "metadata": {},
   "source": [
    "nombre_infected        72\n",
    "nombre_sain          4085\n",
    "nombre_exposed         75\n",
    "nombre_recovered    15768\n",
    "Name: 123, dtype: int64"
   ]
  },
  {
   "cell_type": "markdown",
   "id": "59afc5d6",
   "metadata": {},
   "source": [
    "nombre_infected        79\n",
    "nombre_sain          4122\n",
    "nombre_exposed         74\n",
    "nombre_recovered    15725\n",
    "Name: 124, dtype: int64"
   ]
  },
  {
   "cell_type": "markdown",
   "id": "552d23df",
   "metadata": {},
   "source": [
    "nombre_infected        80\n",
    "nombre_sain          4152\n",
    "nombre_exposed         88\n",
    "nombre_recovered    15680\n",
    "Name: 125, dtype: int64"
   ]
  },
  {
   "cell_type": "markdown",
   "id": "7934915c",
   "metadata": {},
   "source": [
    "nombre_infected       101\n",
    "nombre_sain          4183\n",
    "nombre_exposed         93\n",
    "nombre_recovered    15623\n",
    "Name: 126, dtype: int64"
   ]
  },
  {
   "cell_type": "markdown",
   "id": "e323c5ec",
   "metadata": {},
   "source": [
    "nombre_infected       100\n",
    "nombre_sain          4215\n",
    "nombre_exposed        108\n",
    "nombre_recovered    15577\n",
    "Name: 127, dtype: int64"
   ]
  },
  {
   "cell_type": "markdown",
   "id": "ae4bd7d4",
   "metadata": {},
   "source": [
    "nombre_infected       110\n",
    "nombre_sain          4246\n",
    "nombre_exposed        105\n",
    "nombre_recovered    15539\n",
    "Name: 128, dtype: int64"
   ]
  },
  {
   "cell_type": "markdown",
   "id": "6d71a1c3",
   "metadata": {},
   "source": [
    "nombre_infected       119\n",
    "nombre_sain          4273\n",
    "nombre_exposed        112\n",
    "nombre_recovered    15496\n",
    "Name: 129, dtype: int64"
   ]
  },
  {
   "cell_type": "markdown",
   "id": "d524f29d",
   "metadata": {},
   "source": [
    "nombre_infected       124\n",
    "nombre_sain          4293\n",
    "nombre_exposed        115\n",
    "nombre_recovered    15468\n",
    "Name: 130, dtype: int64"
   ]
  },
  {
   "cell_type": "markdown",
   "id": "c982ec68",
   "metadata": {},
   "source": [
    "nombre_infected       128\n",
    "nombre_sain          4306\n",
    "nombre_exposed        141\n",
    "nombre_recovered    15425\n",
    "Name: 131, dtype: int64"
   ]
  },
  {
   "cell_type": "markdown",
   "id": "a20fd765",
   "metadata": {},
   "source": [
    "nombre_infected       136\n",
    "nombre_sain          4340\n",
    "nombre_exposed        157\n",
    "nombre_recovered    15367\n",
    "Name: 132, dtype: int64"
   ]
  },
  {
   "cell_type": "markdown",
   "id": "63912d6d",
   "metadata": {},
   "source": [
    "nombre_infected       164\n",
    "nombre_sain          4355\n",
    "nombre_exposed        154\n",
    "nombre_recovered    15327\n",
    "Name: 133, dtype: int64"
   ]
  },
  {
   "cell_type": "markdown",
   "id": "559aa0b9",
   "metadata": {},
   "source": [
    "nombre_infected       171\n",
    "nombre_sain          4361\n",
    "nombre_exposed        170\n",
    "nombre_recovered    15298\n",
    "Name: 134, dtype: int64"
   ]
  },
  {
   "cell_type": "markdown",
   "id": "00f04513",
   "metadata": {},
   "source": [
    "nombre_infected       189\n",
    "nombre_sain          4356\n",
    "nombre_exposed        176\n",
    "nombre_recovered    15279\n",
    "Name: 135, dtype: int64"
   ]
  },
  {
   "cell_type": "markdown",
   "id": "b6dc3af4",
   "metadata": {},
   "source": [
    "nombre_infected       204\n",
    "nombre_sain          4335\n",
    "nombre_exposed        209\n",
    "nombre_recovered    15252\n",
    "Name: 136, dtype: int64"
   ]
  },
  {
   "cell_type": "markdown",
   "id": "1f589406",
   "metadata": {},
   "source": [
    "nombre_infected       216\n",
    "nombre_sain          4330\n",
    "nombre_exposed        233\n",
    "nombre_recovered    15221\n",
    "Name: 137, dtype: int64"
   ]
  },
  {
   "cell_type": "markdown",
   "id": "c70fbc2c",
   "metadata": {},
   "source": [
    "nombre_infected       244\n",
    "nombre_sain          4303\n",
    "nombre_exposed        248\n",
    "nombre_recovered    15205\n",
    "Name: 138, dtype: int64"
   ]
  },
  {
   "cell_type": "markdown",
   "id": "b87cdd5d",
   "metadata": {},
   "source": [
    "nombre_infected       260\n",
    "nombre_sain          4282\n",
    "nombre_exposed        268\n",
    "nombre_recovered    15190\n",
    "Name: 139, dtype: int64"
   ]
  },
  {
   "cell_type": "markdown",
   "id": "629b4a02",
   "metadata": {},
   "source": [
    "nombre_infected       282\n",
    "nombre_sain          4275\n",
    "nombre_exposed        272\n",
    "nombre_recovered    15171\n",
    "Name: 140, dtype: int64"
   ]
  },
  {
   "cell_type": "markdown",
   "id": "d59647a3",
   "metadata": {},
   "source": [
    "nombre_infected       305\n",
    "nombre_sain          4232\n",
    "nombre_exposed        289\n",
    "nombre_recovered    15174\n",
    "Name: 141, dtype: int64"
   ]
  },
  {
   "cell_type": "markdown",
   "id": "a546dbb7",
   "metadata": {},
   "source": [
    "nombre_infected       336\n",
    "nombre_sain          4210\n",
    "nombre_exposed        292\n",
    "nombre_recovered    15162\n",
    "Name: 142, dtype: int64"
   ]
  },
  {
   "cell_type": "markdown",
   "id": "b2096bf7",
   "metadata": {},
   "source": [
    "nombre_infected       348\n",
    "nombre_sain          4169\n",
    "nombre_exposed        329\n",
    "nombre_recovered    15154\n",
    "Name: 143, dtype: int64"
   ]
  },
  {
   "cell_type": "markdown",
   "id": "d8cb465d",
   "metadata": {},
   "source": [
    "nombre_infected       363\n",
    "nombre_sain          4117\n",
    "nombre_exposed        372\n",
    "nombre_recovered    15148\n",
    "Name: 144, dtype: int64"
   ]
  },
  {
   "cell_type": "markdown",
   "id": "e9353330",
   "metadata": {},
   "source": [
    "nombre_infected       391\n",
    "nombre_sain          4057\n",
    "nombre_exposed        410\n",
    "nombre_recovered    15142\n",
    "Name: 145, dtype: int64"
   ]
  },
  {
   "cell_type": "markdown",
   "id": "4de0405f",
   "metadata": {},
   "source": [
    "nombre_infected       417\n",
    "nombre_sain          3977\n",
    "nombre_exposed        442\n",
    "nombre_recovered    15164\n",
    "Name: 146, dtype: int64"
   ]
  },
  {
   "cell_type": "markdown",
   "id": "9c64f2b2",
   "metadata": {},
   "source": [
    "nombre_infected       449\n",
    "nombre_sain          3899\n",
    "nombre_exposed        473\n",
    "nombre_recovered    15179\n",
    "Name: 147, dtype: int64"
   ]
  },
  {
   "cell_type": "markdown",
   "id": "914b8404",
   "metadata": {},
   "source": [
    "nombre_infected       500\n",
    "nombre_sain          3857\n",
    "nombre_exposed        457\n",
    "nombre_recovered    15186\n",
    "Name: 148, dtype: int64"
   ]
  },
  {
   "cell_type": "markdown",
   "id": "97dbf168",
   "metadata": {},
   "source": [
    "nombre_infected       536\n",
    "nombre_sain          3753\n",
    "nombre_exposed        494\n",
    "nombre_recovered    15217\n",
    "Name: 149, dtype: int64"
   ]
  },
  {
   "cell_type": "markdown",
   "id": "87f3731f",
   "metadata": {},
   "source": [
    "nombre_infected       536\n",
    "nombre_sain          3697\n",
    "nombre_exposed        503\n",
    "nombre_recovered    15264\n",
    "Name: 150, dtype: int64"
   ]
  },
  {
   "cell_type": "markdown",
   "id": "c482f75f",
   "metadata": {},
   "source": [
    "nombre_infected       550\n",
    "nombre_sain          3585\n",
    "nombre_exposed        558\n",
    "nombre_recovered    15307\n",
    "Name: 151, dtype: int64"
   ]
  },
  {
   "cell_type": "markdown",
   "id": "4e465e10",
   "metadata": {},
   "source": [
    "nombre_infected       593\n",
    "nombre_sain          3501\n",
    "nombre_exposed        582\n",
    "nombre_recovered    15324\n",
    "Name: 152, dtype: int64"
   ]
  },
  {
   "cell_type": "markdown",
   "id": "e05574f3",
   "metadata": {},
   "source": [
    "nombre_infected       662\n",
    "nombre_sain          3422\n",
    "nombre_exposed        573\n",
    "nombre_recovered    15343\n",
    "Name: 153, dtype: int64"
   ]
  },
  {
   "cell_type": "markdown",
   "id": "532cc251",
   "metadata": {},
   "source": [
    "nombre_infected       710\n",
    "nombre_sain          3305\n",
    "nombre_exposed        604\n",
    "nombre_recovered    15381\n",
    "Name: 154, dtype: int64"
   ]
  },
  {
   "cell_type": "markdown",
   "id": "11f9baf7",
   "metadata": {},
   "source": [
    "nombre_infected       728\n",
    "nombre_sain          3194\n",
    "nombre_exposed        639\n",
    "nombre_recovered    15439\n",
    "Name: 155, dtype: int64"
   ]
  },
  {
   "cell_type": "markdown",
   "id": "4cba6621",
   "metadata": {},
   "source": [
    "nombre_infected       773\n",
    "nombre_sain          3090\n",
    "nombre_exposed        644\n",
    "nombre_recovered    15493\n",
    "Name: 156, dtype: int64"
   ]
  },
  {
   "cell_type": "markdown",
   "id": "8c5de47d",
   "metadata": {},
   "source": [
    "nombre_infected       843\n",
    "nombre_sain          2996\n",
    "nombre_exposed        634\n",
    "nombre_recovered    15527\n",
    "Name: 157, dtype: int64"
   ]
  },
  {
   "cell_type": "markdown",
   "id": "c4ae4386",
   "metadata": {},
   "source": [
    "nombre_infected       863\n",
    "nombre_sain          2893\n",
    "nombre_exposed        659\n",
    "nombre_recovered    15585\n",
    "Name: 158, dtype: int64"
   ]
  },
  {
   "cell_type": "markdown",
   "id": "6ed5242f",
   "metadata": {},
   "source": [
    "nombre_infected       874\n",
    "nombre_sain          2809\n",
    "nombre_exposed        671\n",
    "nombre_recovered    15646\n",
    "Name: 159, dtype: int64"
   ]
  },
  {
   "cell_type": "markdown",
   "id": "e4d40cd4",
   "metadata": {},
   "source": [
    "nombre_infected       903\n",
    "nombre_sain          2741\n",
    "nombre_exposed        665\n",
    "nombre_recovered    15691\n",
    "Name: 160, dtype: int64"
   ]
  },
  {
   "cell_type": "markdown",
   "id": "830f6120",
   "metadata": {},
   "source": [
    "nombre_infected       910\n",
    "nombre_sain          2653\n",
    "nombre_exposed        682\n",
    "nombre_recovered    15755\n",
    "Name: 161, dtype: int64"
   ]
  },
  {
   "cell_type": "markdown",
   "id": "4b2b44f0",
   "metadata": {},
   "source": [
    "nombre_infected       944\n",
    "nombre_sain          2544\n",
    "nombre_exposed        693\n",
    "nombre_recovered    15819\n",
    "Name: 162, dtype: int64"
   ]
  },
  {
   "cell_type": "markdown",
   "id": "067399e7",
   "metadata": {},
   "source": [
    "nombre_infected       979\n",
    "nombre_sain          2478\n",
    "nombre_exposed        675\n",
    "nombre_recovered    15868\n",
    "Name: 163, dtype: int64"
   ]
  },
  {
   "cell_type": "markdown",
   "id": "8566bb53",
   "metadata": {},
   "source": [
    "nombre_infected       975\n",
    "nombre_sain          2399\n",
    "nombre_exposed        666\n",
    "nombre_recovered    15960\n",
    "Name: 164, dtype: int64"
   ]
  },
  {
   "cell_type": "markdown",
   "id": "989a9eab",
   "metadata": {},
   "source": [
    "nombre_infected       972\n",
    "nombre_sain          2311\n",
    "nombre_exposed        685\n",
    "nombre_recovered    16032\n",
    "Name: 165, dtype: int64"
   ]
  },
  {
   "cell_type": "markdown",
   "id": "eaef19ef",
   "metadata": {},
   "source": [
    "nombre_infected       991\n",
    "nombre_sain          2230\n",
    "nombre_exposed        688\n",
    "nombre_recovered    16091\n",
    "Name: 166, dtype: int64"
   ]
  },
  {
   "cell_type": "markdown",
   "id": "299b1698",
   "metadata": {},
   "source": [
    "nombre_infected      1021\n",
    "nombre_sain          2179\n",
    "nombre_exposed        667\n",
    "nombre_recovered    16133\n",
    "Name: 167, dtype: int64"
   ]
  },
  {
   "cell_type": "markdown",
   "id": "d9f24bd2",
   "metadata": {},
   "source": [
    "nombre_infected      1028\n",
    "nombre_sain          2092\n",
    "nombre_exposed        672\n",
    "nombre_recovered    16208\n",
    "Name: 168, dtype: int64"
   ]
  },
  {
   "cell_type": "markdown",
   "id": "82ea9dc8",
   "metadata": {},
   "source": [
    "nombre_infected      1032\n",
    "nombre_sain          2043\n",
    "nombre_exposed        657\n",
    "nombre_recovered    16268\n",
    "Name: 169, dtype: int64"
   ]
  },
  {
   "cell_type": "markdown",
   "id": "103d512e",
   "metadata": {},
   "source": [
    "nombre_infected      1040\n",
    "nombre_sain          1996\n",
    "nombre_exposed        623\n",
    "nombre_recovered    16341\n",
    "Name: 170, dtype: int64"
   ]
  },
  {
   "cell_type": "markdown",
   "id": "89885734",
   "metadata": {},
   "source": [
    "nombre_infected      1070\n",
    "nombre_sain          1937\n",
    "nombre_exposed        593\n",
    "nombre_recovered    16400\n",
    "Name: 171, dtype: int64"
   ]
  },
  {
   "cell_type": "markdown",
   "id": "56db7cde",
   "metadata": {},
   "source": [
    "nombre_infected      1053\n",
    "nombre_sain          1871\n",
    "nombre_exposed        581\n",
    "nombre_recovered    16495\n",
    "Name: 172, dtype: int64"
   ]
  },
  {
   "cell_type": "markdown",
   "id": "89d1fd14",
   "metadata": {},
   "source": [
    "nombre_infected      1046\n",
    "nombre_sain          1822\n",
    "nombre_exposed        579\n",
    "nombre_recovered    16553\n",
    "Name: 173, dtype: int64"
   ]
  },
  {
   "cell_type": "markdown",
   "id": "22401371",
   "metadata": {},
   "source": [
    "nombre_infected      1056\n",
    "nombre_sain          1782\n",
    "nombre_exposed        536\n",
    "nombre_recovered    16626\n",
    "Name: 174, dtype: int64"
   ]
  },
  {
   "cell_type": "markdown",
   "id": "25346ebe",
   "metadata": {},
   "source": [
    "nombre_infected      1048\n",
    "nombre_sain          1754\n",
    "nombre_exposed        514\n",
    "nombre_recovered    16684\n",
    "Name: 175, dtype: int64"
   ]
  },
  {
   "cell_type": "markdown",
   "id": "e40cb354",
   "metadata": {},
   "source": [
    "nombre_infected      1028\n",
    "nombre_sain          1696\n",
    "nombre_exposed        510\n",
    "nombre_recovered    16766\n",
    "Name: 176, dtype: int64"
   ]
  },
  {
   "cell_type": "markdown",
   "id": "80b0324f",
   "metadata": {},
   "source": [
    "nombre_infected      1019\n",
    "nombre_sain          1685\n",
    "nombre_exposed        479\n",
    "nombre_recovered    16817\n",
    "Name: 177, dtype: int64"
   ]
  },
  {
   "cell_type": "markdown",
   "id": "3fe5fcf2",
   "metadata": {},
   "source": [
    "nombre_infected       980\n",
    "nombre_sain          1643\n",
    "nombre_exposed        485\n",
    "nombre_recovered    16892\n",
    "Name: 178, dtype: int64"
   ]
  },
  {
   "cell_type": "markdown",
   "id": "20ecb0e3",
   "metadata": {},
   "source": [
    "nombre_infected       960\n",
    "nombre_sain          1623\n",
    "nombre_exposed        485\n",
    "nombre_recovered    16932\n",
    "Name: 179, dtype: int64"
   ]
  },
  {
   "cell_type": "markdown",
   "id": "d0394f3a",
   "metadata": {},
   "source": [
    "nombre_infected       917\n",
    "nombre_sain          1600\n",
    "nombre_exposed        467\n",
    "nombre_recovered    17016\n",
    "Name: 180, dtype: int64"
   ]
  },
  {
   "cell_type": "markdown",
   "id": "f84b99ba",
   "metadata": {},
   "source": [
    "nombre_infected       910\n",
    "nombre_sain          1590\n",
    "nombre_exposed        410\n",
    "nombre_recovered    17090\n",
    "Name: 181, dtype: int64"
   ]
  },
  {
   "cell_type": "markdown",
   "id": "c0c67512",
   "metadata": {},
   "source": [
    "nombre_infected       877\n",
    "nombre_sain          1575\n",
    "nombre_exposed        395\n",
    "nombre_recovered    17153\n",
    "Name: 182, dtype: int64"
   ]
  },
  {
   "cell_type": "markdown",
   "id": "0ea33fd0",
   "metadata": {},
   "source": [
    "nombre_infected       857\n",
    "nombre_sain          1585\n",
    "nombre_exposed        379\n",
    "nombre_recovered    17179\n",
    "Name: 183, dtype: int64"
   ]
  },
  {
   "cell_type": "markdown",
   "id": "7b70df29",
   "metadata": {},
   "source": [
    "nombre_infected       804\n",
    "nombre_sain          1591\n",
    "nombre_exposed        378\n",
    "nombre_recovered    17227\n",
    "Name: 184, dtype: int64"
   ]
  },
  {
   "cell_type": "markdown",
   "id": "8ac0f30f",
   "metadata": {},
   "source": [
    "nombre_infected       794\n",
    "nombre_sain          1608\n",
    "nombre_exposed        356\n",
    "nombre_recovered    17242\n",
    "Name: 185, dtype: int64"
   ]
  },
  {
   "cell_type": "markdown",
   "id": "487c0f4f",
   "metadata": {},
   "source": [
    "nombre_infected       758\n",
    "nombre_sain          1607\n",
    "nombre_exposed        355\n",
    "nombre_recovered    17280\n",
    "Name: 186, dtype: int64"
   ]
  },
  {
   "cell_type": "markdown",
   "id": "9b3fc8fd",
   "metadata": {},
   "source": [
    "nombre_infected       746\n",
    "nombre_sain          1618\n",
    "nombre_exposed        357\n",
    "nombre_recovered    17279\n",
    "Name: 187, dtype: int64"
   ]
  },
  {
   "cell_type": "markdown",
   "id": "2f90305d",
   "metadata": {},
   "source": [
    "nombre_infected       706\n",
    "nombre_sain          1631\n",
    "nombre_exposed        329\n",
    "nombre_recovered    17334\n",
    "Name: 188, dtype: int64"
   ]
  },
  {
   "cell_type": "markdown",
   "id": "e206da39",
   "metadata": {},
   "source": [
    "nombre_infected       662\n",
    "nombre_sain          1654\n",
    "nombre_exposed        310\n",
    "nombre_recovered    17374\n",
    "Name: 189, dtype: int64"
   ]
  },
  {
   "cell_type": "markdown",
   "id": "358c998b",
   "metadata": {},
   "source": [
    "nombre_infected       626\n",
    "nombre_sain          1671\n",
    "nombre_exposed        315\n",
    "nombre_recovered    17388\n",
    "Name: 190, dtype: int64"
   ]
  },
  {
   "cell_type": "markdown",
   "id": "5fb88169",
   "metadata": {},
   "source": [
    "nombre_infected       609\n",
    "nombre_sain          1710\n",
    "nombre_exposed        310\n",
    "nombre_recovered    17371\n",
    "Name: 191, dtype: int64"
   ]
  },
  {
   "cell_type": "markdown",
   "id": "f7b208fc",
   "metadata": {},
   "source": [
    "nombre_infected       592\n",
    "nombre_sain          1749\n",
    "nombre_exposed        298\n",
    "nombre_recovered    17361\n",
    "Name: 192, dtype: int64"
   ]
  },
  {
   "cell_type": "markdown",
   "id": "4f9c8a8c",
   "metadata": {},
   "source": [
    "nombre_infected       592\n",
    "nombre_sain          1782\n",
    "nombre_exposed        297\n",
    "nombre_recovered    17329\n",
    "Name: 193, dtype: int64"
   ]
  },
  {
   "cell_type": "markdown",
   "id": "31669137",
   "metadata": {},
   "source": [
    "nombre_infected       559\n",
    "nombre_sain          1803\n",
    "nombre_exposed        304\n",
    "nombre_recovered    17334\n",
    "Name: 194, dtype: int64"
   ]
  },
  {
   "cell_type": "markdown",
   "id": "abc36bb7",
   "metadata": {},
   "source": [
    "nombre_infected       529\n",
    "nombre_sain          1829\n",
    "nombre_exposed        302\n",
    "nombre_recovered    17340\n",
    "Name: 195, dtype: int64"
   ]
  },
  {
   "cell_type": "markdown",
   "id": "f2fa66ab",
   "metadata": {},
   "source": [
    "nombre_infected       530\n",
    "nombre_sain          1860\n",
    "nombre_exposed        294\n",
    "nombre_recovered    17316\n",
    "Name: 196, dtype: int64"
   ]
  },
  {
   "cell_type": "markdown",
   "id": "e2858676",
   "metadata": {},
   "source": [
    "nombre_infected       517\n",
    "nombre_sain          1900\n",
    "nombre_exposed        284\n",
    "nombre_recovered    17299\n",
    "Name: 197, dtype: int64"
   ]
  },
  {
   "cell_type": "markdown",
   "id": "5eb43d37",
   "metadata": {},
   "source": [
    "nombre_infected       498\n",
    "nombre_sain          1918\n",
    "nombre_exposed        295\n",
    "nombre_recovered    17289\n",
    "Name: 198, dtype: int64"
   ]
  },
  {
   "cell_type": "markdown",
   "id": "f6f2b4f9",
   "metadata": {},
   "source": [
    "nombre_infected       500\n",
    "nombre_sain          1948\n",
    "nombre_exposed        282\n",
    "nombre_recovered    17270\n",
    "Name: 199, dtype: int64"
   ]
  },
  {
   "cell_type": "markdown",
   "id": "8d2e2367",
   "metadata": {},
   "source": [
    "nombre_infected       499\n",
    "nombre_sain          1972\n",
    "nombre_exposed        280\n",
    "nombre_recovered    17249\n",
    "Name: 200, dtype: int64"
   ]
  },
  {
   "cell_type": "markdown",
   "id": "456046ef",
   "metadata": {},
   "source": [
    "nombre_infected       499\n",
    "nombre_sain          1996\n",
    "nombre_exposed        278\n",
    "nombre_recovered    17227\n",
    "Name: 201, dtype: int64"
   ]
  },
  {
   "cell_type": "markdown",
   "id": "fbf1a804",
   "metadata": {},
   "source": [
    "nombre_infected       478\n",
    "nombre_sain          2008\n",
    "nombre_exposed        303\n",
    "nombre_recovered    17211\n",
    "Name: 202, dtype: int64"
   ]
  },
  {
   "cell_type": "markdown",
   "id": "0e9f8034",
   "metadata": {},
   "source": [
    "nombre_infected       483\n",
    "nombre_sain          2053\n",
    "nombre_exposed        285\n",
    "nombre_recovered    17179\n",
    "Name: 203, dtype: int64"
   ]
  },
  {
   "cell_type": "markdown",
   "id": "08f4a7a4",
   "metadata": {},
   "source": [
    "nombre_infected       490\n",
    "nombre_sain          2065\n",
    "nombre_exposed        281\n",
    "nombre_recovered    17164\n",
    "Name: 204, dtype: int64"
   ]
  },
  {
   "cell_type": "markdown",
   "id": "06280e22",
   "metadata": {},
   "source": [
    "nombre_infected       460\n",
    "nombre_sain          2085\n",
    "nombre_exposed        304\n",
    "nombre_recovered    17151\n",
    "Name: 205, dtype: int64"
   ]
  },
  {
   "cell_type": "markdown",
   "id": "01063bc5",
   "metadata": {},
   "source": [
    "nombre_infected       463\n",
    "nombre_sain          2118\n",
    "nombre_exposed        284\n",
    "nombre_recovered    17135\n",
    "Name: 206, dtype: int64"
   ]
  },
  {
   "cell_type": "markdown",
   "id": "d4c871bf",
   "metadata": {},
   "source": [
    "nombre_infected       472\n",
    "nombre_sain          2148\n",
    "nombre_exposed        285\n",
    "nombre_recovered    17095\n",
    "Name: 207, dtype: int64"
   ]
  },
  {
   "cell_type": "markdown",
   "id": "d27ab161",
   "metadata": {},
   "source": [
    "nombre_infected       473\n",
    "nombre_sain          2177\n",
    "nombre_exposed        291\n",
    "nombre_recovered    17059\n",
    "Name: 208, dtype: int64"
   ]
  },
  {
   "cell_type": "markdown",
   "id": "220a88aa",
   "metadata": {},
   "source": [
    "nombre_infected       467\n",
    "nombre_sain          2212\n",
    "nombre_exposed        282\n",
    "nombre_recovered    17039\n",
    "Name: 209, dtype: int64"
   ]
  },
  {
   "cell_type": "markdown",
   "id": "b254808a",
   "metadata": {},
   "source": [
    "nombre_infected       501\n",
    "nombre_sain          2262\n",
    "nombre_exposed        254\n",
    "nombre_recovered    16983\n",
    "Name: 210, dtype: int64"
   ]
  },
  {
   "cell_type": "markdown",
   "id": "bafb4106",
   "metadata": {},
   "source": [
    "nombre_infected       490\n",
    "nombre_sain          2260\n",
    "nombre_exposed        283\n",
    "nombre_recovered    16967\n",
    "Name: 211, dtype: int64"
   ]
  },
  {
   "cell_type": "markdown",
   "id": "6576cf44",
   "metadata": {},
   "source": [
    "nombre_infected       472\n",
    "nombre_sain          2262\n",
    "nombre_exposed        297\n",
    "nombre_recovered    16969\n",
    "Name: 212, dtype: int64"
   ]
  },
  {
   "cell_type": "markdown",
   "id": "4f357d0a",
   "metadata": {},
   "source": [
    "nombre_infected       474\n",
    "nombre_sain          2270\n",
    "nombre_exposed        299\n",
    "nombre_recovered    16957\n",
    "Name: 213, dtype: int64"
   ]
  },
  {
   "cell_type": "markdown",
   "id": "aa6a050b",
   "metadata": {},
   "source": [
    "nombre_infected       471\n",
    "nombre_sain          2294\n",
    "nombre_exposed        324\n",
    "nombre_recovered    16911\n",
    "Name: 214, dtype: int64"
   ]
  },
  {
   "cell_type": "markdown",
   "id": "d894e5f4",
   "metadata": {},
   "source": [
    "nombre_infected       477\n",
    "nombre_sain          2338\n",
    "nombre_exposed        299\n",
    "nombre_recovered    16886\n",
    "Name: 215, dtype: int64"
   ]
  },
  {
   "cell_type": "markdown",
   "id": "152d2a97",
   "metadata": {},
   "source": [
    "nombre_infected       479\n",
    "nombre_sain          2387\n",
    "nombre_exposed        292\n",
    "nombre_recovered    16842\n",
    "Name: 216, dtype: int64"
   ]
  },
  {
   "cell_type": "markdown",
   "id": "f33a1db8",
   "metadata": {},
   "source": [
    "nombre_infected       464\n",
    "nombre_sain          2433\n",
    "nombre_exposed        294\n",
    "nombre_recovered    16809\n",
    "Name: 217, dtype: int64"
   ]
  },
  {
   "cell_type": "markdown",
   "id": "08fcd5c8",
   "metadata": {},
   "source": [
    "nombre_infected       471\n",
    "nombre_sain          2443\n",
    "nombre_exposed        303\n",
    "nombre_recovered    16783\n",
    "Name: 218, dtype: int64"
   ]
  },
  {
   "cell_type": "markdown",
   "id": "a4660377",
   "metadata": {},
   "source": [
    "nombre_infected       477\n",
    "nombre_sain          2493\n",
    "nombre_exposed        311\n",
    "nombre_recovered    16719\n",
    "Name: 219, dtype: int64"
   ]
  },
  {
   "cell_type": "markdown",
   "id": "19d96e2f",
   "metadata": {},
   "source": [
    "nombre_infected       490\n",
    "nombre_sain          2518\n",
    "nombre_exposed        312\n",
    "nombre_recovered    16680\n",
    "Name: 220, dtype: int64"
   ]
  },
  {
   "cell_type": "markdown",
   "id": "84de5df2",
   "metadata": {},
   "source": [
    "nombre_infected       507\n",
    "nombre_sain          2559\n",
    "nombre_exposed        317\n",
    "nombre_recovered    16617\n",
    "Name: 221, dtype: int64"
   ]
  },
  {
   "cell_type": "markdown",
   "id": "a5b21a55",
   "metadata": {},
   "source": [
    "nombre_infected       498\n",
    "nombre_sain          2596\n",
    "nombre_exposed        330\n",
    "nombre_recovered    16576\n",
    "Name: 222, dtype: int64"
   ]
  },
  {
   "cell_type": "markdown",
   "id": "0bbd1f02",
   "metadata": {},
   "source": [
    "nombre_infected       485\n",
    "nombre_sain          2615\n",
    "nombre_exposed        351\n",
    "nombre_recovered    16549\n",
    "Name: 223, dtype: int64"
   ]
  },
  {
   "cell_type": "markdown",
   "id": "ef8ca94f",
   "metadata": {},
   "source": [
    "nombre_infected       491\n",
    "nombre_sain          2655\n",
    "nombre_exposed        334\n",
    "nombre_recovered    16520\n",
    "Name: 224, dtype: int64"
   ]
  },
  {
   "cell_type": "markdown",
   "id": "5e8ad4fe",
   "metadata": {},
   "source": [
    "nombre_infected       505\n",
    "nombre_sain          2666\n",
    "nombre_exposed        329\n",
    "nombre_recovered    16500\n",
    "Name: 225, dtype: int64"
   ]
  },
  {
   "cell_type": "markdown",
   "id": "ec4ed528",
   "metadata": {},
   "source": [
    "nombre_infected       501\n",
    "nombre_sain          2684\n",
    "nombre_exposed        330\n",
    "nombre_recovered    16485\n",
    "Name: 226, dtype: int64"
   ]
  },
  {
   "cell_type": "markdown",
   "id": "2abea294",
   "metadata": {},
   "source": [
    "nombre_infected       507\n",
    "nombre_sain          2689\n",
    "nombre_exposed        337\n",
    "nombre_recovered    16467\n",
    "Name: 227, dtype: int64"
   ]
  },
  {
   "cell_type": "markdown",
   "id": "6ee2bcb4",
   "metadata": {},
   "source": [
    "nombre_infected       507\n",
    "nombre_sain          2708\n",
    "nombre_exposed        354\n",
    "nombre_recovered    16431\n",
    "Name: 228, dtype: int64"
   ]
  },
  {
   "cell_type": "markdown",
   "id": "c41b4d15",
   "metadata": {},
   "source": [
    "nombre_infected       510\n",
    "nombre_sain          2693\n",
    "nombre_exposed        379\n",
    "nombre_recovered    16418\n",
    "Name: 229, dtype: int64"
   ]
  },
  {
   "cell_type": "markdown",
   "id": "23c0f6b1",
   "metadata": {},
   "source": [
    "nombre_infected       519\n",
    "nombre_sain          2701\n",
    "nombre_exposed        385\n",
    "nombre_recovered    16395\n",
    "Name: 230, dtype: int64"
   ]
  },
  {
   "cell_type": "markdown",
   "id": "4b3410ea",
   "metadata": {},
   "source": [
    "nombre_infected       534\n",
    "nombre_sain          2697\n",
    "nombre_exposed        394\n",
    "nombre_recovered    16375\n",
    "Name: 231, dtype: int64"
   ]
  },
  {
   "cell_type": "markdown",
   "id": "ea9d429f",
   "metadata": {},
   "source": [
    "nombre_infected       566\n",
    "nombre_sain          2704\n",
    "nombre_exposed        377\n",
    "nombre_recovered    16353\n",
    "Name: 232, dtype: int64"
   ]
  },
  {
   "cell_type": "markdown",
   "id": "627eeec4",
   "metadata": {},
   "source": [
    "nombre_infected       592\n",
    "nombre_sain          2703\n",
    "nombre_exposed        367\n",
    "nombre_recovered    16338\n",
    "Name: 233, dtype: int64"
   ]
  },
  {
   "cell_type": "markdown",
   "id": "2bfa6f2f",
   "metadata": {},
   "source": [
    "nombre_infected       594\n",
    "nombre_sain          2713\n",
    "nombre_exposed        376\n",
    "nombre_recovered    16317\n",
    "Name: 234, dtype: int64"
   ]
  },
  {
   "cell_type": "markdown",
   "id": "140b2a83",
   "metadata": {},
   "source": [
    "nombre_infected       585\n",
    "nombre_sain          2673\n",
    "nombre_exposed        409\n",
    "nombre_recovered    16333\n",
    "Name: 235, dtype: int64"
   ]
  },
  {
   "cell_type": "markdown",
   "id": "60f97d4a",
   "metadata": {},
   "source": [
    "nombre_infected       599\n",
    "nombre_sain          2672\n",
    "nombre_exposed        425\n",
    "nombre_recovered    16304\n",
    "Name: 236, dtype: int64"
   ]
  },
  {
   "cell_type": "markdown",
   "id": "4f99bcdb",
   "metadata": {},
   "source": [
    "nombre_infected       609\n",
    "nombre_sain          2665\n",
    "nombre_exposed        441\n",
    "nombre_recovered    16285\n",
    "Name: 237, dtype: int64"
   ]
  },
  {
   "cell_type": "markdown",
   "id": "bb710529",
   "metadata": {},
   "source": [
    "nombre_infected       600\n",
    "nombre_sain          2668\n",
    "nombre_exposed        455\n",
    "nombre_recovered    16277\n",
    "Name: 238, dtype: int64"
   ]
  },
  {
   "cell_type": "markdown",
   "id": "14a7059e",
   "metadata": {},
   "source": [
    "nombre_infected       622\n",
    "nombre_sain          2648\n",
    "nombre_exposed        467\n",
    "nombre_recovered    16263\n",
    "Name: 239, dtype: int64"
   ]
  },
  {
   "cell_type": "markdown",
   "id": "3bf31265",
   "metadata": {},
   "source": [
    "nombre_infected       644\n",
    "nombre_sain          2661\n",
    "nombre_exposed        445\n",
    "nombre_recovered    16250\n",
    "Name: 240, dtype: int64"
   ]
  },
  {
   "cell_type": "markdown",
   "id": "f71d582c",
   "metadata": {},
   "source": [
    "nombre_infected       657\n",
    "nombre_sain          2647\n",
    "nombre_exposed        465\n",
    "nombre_recovered    16231\n",
    "Name: 241, dtype: int64"
   ]
  },
  {
   "cell_type": "markdown",
   "id": "12f8a8d7",
   "metadata": {},
   "source": [
    "nombre_infected       665\n",
    "nombre_sain          2639\n",
    "nombre_exposed        466\n",
    "nombre_recovered    16230\n",
    "Name: 242, dtype: int64"
   ]
  },
  {
   "cell_type": "markdown",
   "id": "d3c26449",
   "metadata": {},
   "source": [
    "nombre_infected       683\n",
    "nombre_sain          2601\n",
    "nombre_exposed        490\n",
    "nombre_recovered    16226\n",
    "Name: 243, dtype: int64"
   ]
  },
  {
   "cell_type": "markdown",
   "id": "8eb6541d",
   "metadata": {},
   "source": [
    "nombre_infected       700\n",
    "nombre_sain          2608\n",
    "nombre_exposed        482\n",
    "nombre_recovered    16210\n",
    "Name: 244, dtype: int64"
   ]
  },
  {
   "cell_type": "markdown",
   "id": "33b9a31a",
   "metadata": {},
   "source": [
    "nombre_infected       721\n",
    "nombre_sain          2602\n",
    "nombre_exposed        482\n",
    "nombre_recovered    16195\n",
    "Name: 245, dtype: int64"
   ]
  },
  {
   "cell_type": "markdown",
   "id": "663b948e",
   "metadata": {},
   "source": [
    "nombre_infected       749\n",
    "nombre_sain          2594\n",
    "nombre_exposed        480\n",
    "nombre_recovered    16177\n",
    "Name: 246, dtype: int64"
   ]
  },
  {
   "cell_type": "markdown",
   "id": "5b1ffa75",
   "metadata": {},
   "source": [
    "nombre_infected       748\n",
    "nombre_sain          2586\n",
    "nombre_exposed        509\n",
    "nombre_recovered    16157\n",
    "Name: 247, dtype: int64"
   ]
  },
  {
   "cell_type": "markdown",
   "id": "b9dc43af",
   "metadata": {},
   "source": [
    "nombre_infected       749\n",
    "nombre_sain          2575\n",
    "nombre_exposed        515\n",
    "nombre_recovered    16161\n",
    "Name: 248, dtype: int64"
   ]
  },
  {
   "cell_type": "markdown",
   "id": "09bcaef9",
   "metadata": {},
   "source": [
    "nombre_infected       772\n",
    "nombre_sain          2580\n",
    "nombre_exposed        490\n",
    "nombre_recovered    16158\n",
    "Name: 249, dtype: int64"
   ]
  },
  {
   "cell_type": "markdown",
   "id": "2b053b74",
   "metadata": {},
   "source": [
    "nombre_infected       776\n",
    "nombre_sain          2541\n",
    "nombre_exposed        520\n",
    "nombre_recovered    16163\n",
    "Name: 250, dtype: int64"
   ]
  },
  {
   "cell_type": "markdown",
   "id": "de888afe",
   "metadata": {},
   "source": [
    "nombre_infected       773\n",
    "nombre_sain          2527\n",
    "nombre_exposed        522\n",
    "nombre_recovered    16178\n",
    "Name: 251, dtype: int64"
   ]
  },
  {
   "cell_type": "markdown",
   "id": "c5dd9c2b",
   "metadata": {},
   "source": [
    "nombre_infected       802\n",
    "nombre_sain          2506\n",
    "nombre_exposed        511\n",
    "nombre_recovered    16181\n",
    "Name: 252, dtype: int64"
   ]
  },
  {
   "cell_type": "markdown",
   "id": "1398bae1",
   "metadata": {},
   "source": [
    "nombre_infected       791\n",
    "nombre_sain          2489\n",
    "nombre_exposed        538\n",
    "nombre_recovered    16182\n",
    "Name: 253, dtype: int64"
   ]
  },
  {
   "cell_type": "markdown",
   "id": "6e85c74a",
   "metadata": {},
   "source": [
    "nombre_infected       810\n",
    "nombre_sain          2474\n",
    "nombre_exposed        523\n",
    "nombre_recovered    16193\n",
    "Name: 254, dtype: int64"
   ]
  },
  {
   "cell_type": "markdown",
   "id": "a85fe1d1",
   "metadata": {},
   "source": [
    "nombre_infected       848\n",
    "nombre_sain          2462\n",
    "nombre_exposed        503\n",
    "nombre_recovered    16187\n",
    "Name: 255, dtype: int64"
   ]
  },
  {
   "cell_type": "markdown",
   "id": "48770c9e",
   "metadata": {},
   "source": [
    "nombre_infected       847\n",
    "nombre_sain          2452\n",
    "nombre_exposed        515\n",
    "nombre_recovered    16186\n",
    "Name: 256, dtype: int64"
   ]
  },
  {
   "cell_type": "markdown",
   "id": "2207943c",
   "metadata": {},
   "source": [
    "nombre_infected       845\n",
    "nombre_sain          2440\n",
    "nombre_exposed        532\n",
    "nombre_recovered    16183\n",
    "Name: 257, dtype: int64"
   ]
  },
  {
   "cell_type": "markdown",
   "id": "942af6e2",
   "metadata": {},
   "source": [
    "nombre_infected       856\n",
    "nombre_sain          2441\n",
    "nombre_exposed        514\n",
    "nombre_recovered    16189\n",
    "Name: 258, dtype: int64"
   ]
  },
  {
   "cell_type": "markdown",
   "id": "5b5edc54",
   "metadata": {},
   "source": [
    "nombre_infected       872\n",
    "nombre_sain          2446\n",
    "nombre_exposed        510\n",
    "nombre_recovered    16172\n",
    "Name: 259, dtype: int64"
   ]
  },
  {
   "cell_type": "markdown",
   "id": "df40e3e8",
   "metadata": {},
   "source": [
    "nombre_infected       869\n",
    "nombre_sain          2424\n",
    "nombre_exposed        534\n",
    "nombre_recovered    16173\n",
    "Name: 260, dtype: int64"
   ]
  },
  {
   "cell_type": "markdown",
   "id": "d7ec0f39",
   "metadata": {},
   "source": [
    "nombre_infected       882\n",
    "nombre_sain          2441\n",
    "nombre_exposed        523\n",
    "nombre_recovered    16154\n",
    "Name: 261, dtype: int64"
   ]
  },
  {
   "cell_type": "markdown",
   "id": "d0fe9457",
   "metadata": {},
   "source": [
    "nombre_infected       910\n",
    "nombre_sain          2419\n",
    "nombre_exposed        523\n",
    "nombre_recovered    16148\n",
    "Name: 262, dtype: int64"
   ]
  },
  {
   "cell_type": "markdown",
   "id": "8681ef70",
   "metadata": {},
   "source": [
    "nombre_infected       899\n",
    "nombre_sain          2416\n",
    "nombre_exposed        533\n",
    "nombre_recovered    16152\n",
    "Name: 263, dtype: int64"
   ]
  },
  {
   "cell_type": "markdown",
   "id": "71f4a006",
   "metadata": {},
   "source": [
    "nombre_infected       898\n",
    "nombre_sain          2424\n",
    "nombre_exposed        544\n",
    "nombre_recovered    16134\n",
    "Name: 264, dtype: int64"
   ]
  },
  {
   "cell_type": "markdown",
   "id": "a45efeec",
   "metadata": {},
   "source": [
    "nombre_infected       901\n",
    "nombre_sain          2424\n",
    "nombre_exposed        553\n",
    "nombre_recovered    16122\n",
    "Name: 265, dtype: int64"
   ]
  },
  {
   "cell_type": "markdown",
   "id": "def32c36",
   "metadata": {},
   "source": [
    "nombre_infected       915\n",
    "nombre_sain          2401\n",
    "nombre_exposed        548\n",
    "nombre_recovered    16136\n",
    "Name: 266, dtype: int64"
   ]
  },
  {
   "cell_type": "markdown",
   "id": "bc6e1030",
   "metadata": {},
   "source": [
    "nombre_infected       939\n",
    "nombre_sain          2381\n",
    "nombre_exposed        559\n",
    "nombre_recovered    16121\n",
    "Name: 267, dtype: int64"
   ]
  },
  {
   "cell_type": "markdown",
   "id": "9b97091f",
   "metadata": {},
   "source": [
    "nombre_infected       966\n",
    "nombre_sain          2355\n",
    "nombre_exposed        564\n",
    "nombre_recovered    16115\n",
    "Name: 268, dtype: int64"
   ]
  },
  {
   "cell_type": "markdown",
   "id": "ffc83cf9",
   "metadata": {},
   "source": [
    "nombre_infected       955\n",
    "nombre_sain          2329\n",
    "nombre_exposed        588\n",
    "nombre_recovered    16128\n",
    "Name: 269, dtype: int64"
   ]
  },
  {
   "cell_type": "markdown",
   "id": "24d559f0",
   "metadata": {},
   "source": [
    "nombre_infected       985\n",
    "nombre_sain          2327\n",
    "nombre_exposed        590\n",
    "nombre_recovered    16098\n",
    "Name: 270, dtype: int64"
   ]
  },
  {
   "cell_type": "markdown",
   "id": "6c029fcd",
   "metadata": {},
   "source": [
    "nombre_infected      1003\n",
    "nombre_sain          2304\n",
    "nombre_exposed        565\n",
    "nombre_recovered    16128\n",
    "Name: 271, dtype: int64"
   ]
  },
  {
   "cell_type": "markdown",
   "id": "435dd1b2",
   "metadata": {},
   "source": [
    "nombre_infected       995\n",
    "nombre_sain          2259\n",
    "nombre_exposed        587\n",
    "nombre_recovered    16159\n",
    "Name: 272, dtype: int64"
   ]
  },
  {
   "cell_type": "markdown",
   "id": "a1ecdede",
   "metadata": {},
   "source": [
    "nombre_infected       978\n",
    "nombre_sain          2234\n",
    "nombre_exposed        593\n",
    "nombre_recovered    16195\n",
    "Name: 273, dtype: int64"
   ]
  },
  {
   "cell_type": "markdown",
   "id": "d1dbf95e",
   "metadata": {},
   "source": [
    "nombre_infected       994\n",
    "nombre_sain          2228\n",
    "nombre_exposed        569\n",
    "nombre_recovered    16209\n",
    "Name: 274, dtype: int64"
   ]
  },
  {
   "cell_type": "markdown",
   "id": "9adeb437",
   "metadata": {},
   "source": [
    "nombre_infected       995\n",
    "nombre_sain          2194\n",
    "nombre_exposed        584\n",
    "nombre_recovered    16227\n",
    "Name: 275, dtype: int64"
   ]
  },
  {
   "cell_type": "markdown",
   "id": "403dc675",
   "metadata": {},
   "source": [
    "nombre_infected      1006\n",
    "nombre_sain          2154\n",
    "nombre_exposed        596\n",
    "nombre_recovered    16244\n",
    "Name: 276, dtype: int64"
   ]
  },
  {
   "cell_type": "markdown",
   "id": "66048226",
   "metadata": {},
   "source": [
    "nombre_infected      1030\n",
    "nombre_sain          2136\n",
    "nombre_exposed        561\n",
    "nombre_recovered    16273\n",
    "Name: 277, dtype: int64"
   ]
  },
  {
   "cell_type": "markdown",
   "id": "a0587c0a",
   "metadata": {},
   "source": [
    "nombre_infected      1031\n",
    "nombre_sain          2068\n",
    "nombre_exposed        586\n",
    "nombre_recovered    16315\n",
    "Name: 278, dtype: int64"
   ]
  },
  {
   "cell_type": "markdown",
   "id": "9fe17b79",
   "metadata": {},
   "source": [
    "nombre_infected      1012\n",
    "nombre_sain          2025\n",
    "nombre_exposed        606\n",
    "nombre_recovered    16357\n",
    "Name: 279, dtype: int64"
   ]
  },
  {
   "cell_type": "markdown",
   "id": "9f9389c4",
   "metadata": {},
   "source": [
    "nombre_infected      1003\n",
    "nombre_sain          2008\n",
    "nombre_exposed        583\n",
    "nombre_recovered    16406\n",
    "Name: 280, dtype: int64"
   ]
  },
  {
   "cell_type": "markdown",
   "id": "94bcf077",
   "metadata": {},
   "source": [
    "nombre_infected       994\n",
    "nombre_sain          1995\n",
    "nombre_exposed        588\n",
    "nombre_recovered    16423\n",
    "Name: 281, dtype: int64"
   ]
  },
  {
   "cell_type": "markdown",
   "id": "3af47e58",
   "metadata": {},
   "source": [
    "nombre_infected       972\n",
    "nombre_sain          1986\n",
    "nombre_exposed        577\n",
    "nombre_recovered    16465\n",
    "Name: 282, dtype: int64"
   ]
  },
  {
   "cell_type": "markdown",
   "id": "10c48004",
   "metadata": {},
   "source": [
    "nombre_infected       976\n",
    "nombre_sain          1961\n",
    "nombre_exposed        560\n",
    "nombre_recovered    16503\n",
    "Name: 283, dtype: int64"
   ]
  },
  {
   "cell_type": "markdown",
   "id": "4e9b9076",
   "metadata": {},
   "source": [
    "nombre_infected       988\n",
    "nombre_sain          1952\n",
    "nombre_exposed        542\n",
    "nombre_recovered    16518\n",
    "Name: 284, dtype: int64"
   ]
  },
  {
   "cell_type": "markdown",
   "id": "268cdd60",
   "metadata": {},
   "source": [
    "nombre_infected       989\n",
    "nombre_sain          1944\n",
    "nombre_exposed        529\n",
    "nombre_recovered    16538\n",
    "Name: 285, dtype: int64"
   ]
  },
  {
   "cell_type": "markdown",
   "id": "aeb8331e",
   "metadata": {},
   "source": [
    "nombre_infected       969\n",
    "nombre_sain          1913\n",
    "nombre_exposed        562\n",
    "nombre_recovered    16556\n",
    "Name: 286, dtype: int64"
   ]
  },
  {
   "cell_type": "markdown",
   "id": "04654e92",
   "metadata": {},
   "source": [
    "nombre_infected       951\n",
    "nombre_sain          1904\n",
    "nombre_exposed        556\n",
    "nombre_recovered    16589\n",
    "Name: 287, dtype: int64"
   ]
  },
  {
   "cell_type": "markdown",
   "id": "983d19e2",
   "metadata": {},
   "source": [
    "nombre_infected       951\n",
    "nombre_sain          1926\n",
    "nombre_exposed        534\n",
    "nombre_recovered    16589\n",
    "Name: 288, dtype: int64"
   ]
  },
  {
   "cell_type": "markdown",
   "id": "78dac8d3",
   "metadata": {},
   "source": [
    "nombre_infected       973\n",
    "nombre_sain          1927\n",
    "nombre_exposed        500\n",
    "nombre_recovered    16600\n",
    "Name: 289, dtype: int64"
   ]
  },
  {
   "cell_type": "markdown",
   "id": "f3eaf3f7",
   "metadata": {},
   "source": [
    "nombre_infected       956\n",
    "nombre_sain          1902\n",
    "nombre_exposed        521\n",
    "nombre_recovered    16621\n",
    "Name: 290, dtype: int64"
   ]
  },
  {
   "cell_type": "markdown",
   "id": "6a900696",
   "metadata": {},
   "source": [
    "nombre_infected       947\n",
    "nombre_sain          1890\n",
    "nombre_exposed        515\n",
    "nombre_recovered    16648\n",
    "Name: 291, dtype: int64"
   ]
  },
  {
   "cell_type": "markdown",
   "id": "e1ca8bc7",
   "metadata": {},
   "source": [
    "nombre_infected       925\n",
    "nombre_sain          1910\n",
    "nombre_exposed        513\n",
    "nombre_recovered    16652\n",
    "Name: 292, dtype: int64"
   ]
  },
  {
   "cell_type": "markdown",
   "id": "1f9c5f4c",
   "metadata": {},
   "source": [
    "nombre_infected       907\n",
    "nombre_sain          1956\n",
    "nombre_exposed        485\n",
    "nombre_recovered    16652\n",
    "Name: 293, dtype: int64"
   ]
  },
  {
   "cell_type": "markdown",
   "id": "28d0a62f",
   "metadata": {},
   "source": [
    "nombre_infected       910\n",
    "nombre_sain          1948\n",
    "nombre_exposed        474\n",
    "nombre_recovered    16668\n",
    "Name: 294, dtype: int64"
   ]
  },
  {
   "cell_type": "markdown",
   "id": "79bf65f9",
   "metadata": {},
   "source": [
    "nombre_infected       879\n",
    "nombre_sain          1972\n",
    "nombre_exposed        474\n",
    "nombre_recovered    16675\n",
    "Name: 295, dtype: int64"
   ]
  },
  {
   "cell_type": "markdown",
   "id": "7ac260f4",
   "metadata": {},
   "source": [
    "nombre_infected       852\n",
    "nombre_sain          1997\n",
    "nombre_exposed        465\n",
    "nombre_recovered    16686\n",
    "Name: 296, dtype: int64"
   ]
  },
  {
   "cell_type": "markdown",
   "id": "d4503594",
   "metadata": {},
   "source": [
    "nombre_infected       842\n",
    "nombre_sain          2021\n",
    "nombre_exposed        446\n",
    "nombre_recovered    16691\n",
    "Name: 297, dtype: int64"
   ]
  },
  {
   "cell_type": "markdown",
   "id": "ef2968bc",
   "metadata": {},
   "source": [
    "nombre_infected       853\n",
    "nombre_sain          2025\n",
    "nombre_exposed        440\n",
    "nombre_recovered    16682\n",
    "Name: 298, dtype: int64"
   ]
  },
  {
   "cell_type": "markdown",
   "id": "28278217",
   "metadata": {},
   "source": [
    "nombre_infected       859\n",
    "nombre_sain          2032\n",
    "nombre_exposed        457\n",
    "nombre_recovered    16652\n",
    "Name: 299, dtype: int64"
   ]
  },
  {
   "cell_type": "markdown",
   "id": "e8fac879",
   "metadata": {},
   "source": [
    "nombre_infected       842\n",
    "nombre_sain          2044\n",
    "nombre_exposed        444\n",
    "nombre_recovered    16670\n",
    "Name: 300, dtype: int64"
   ]
  },
  {
   "cell_type": "markdown",
   "id": "21c735c7",
   "metadata": {},
   "source": [
    "nombre_infected       853\n",
    "nombre_sain          2076\n",
    "nombre_exposed        433\n",
    "nombre_recovered    16638\n",
    "Name: 301, dtype: int64"
   ]
  },
  {
   "cell_type": "markdown",
   "id": "e94e1164",
   "metadata": {},
   "source": [
    "nombre_infected       822\n",
    "nombre_sain          2084\n",
    "nombre_exposed        431\n",
    "nombre_recovered    16663\n",
    "Name: 302, dtype: int64"
   ]
  },
  {
   "cell_type": "markdown",
   "id": "7de37f77",
   "metadata": {},
   "source": [
    "nombre_infected       804\n",
    "nombre_sain          2104\n",
    "nombre_exposed        414\n",
    "nombre_recovered    16678\n",
    "Name: 303, dtype: int64"
   ]
  },
  {
   "cell_type": "markdown",
   "id": "58768e1a",
   "metadata": {},
   "source": [
    "nombre_infected       809\n",
    "nombre_sain          2133\n",
    "nombre_exposed        406\n",
    "nombre_recovered    16652\n",
    "Name: 304, dtype: int64"
   ]
  },
  {
   "cell_type": "markdown",
   "id": "958e190f",
   "metadata": {},
   "source": [
    "nombre_infected       783\n",
    "nombre_sain          2136\n",
    "nombre_exposed        420\n",
    "nombre_recovered    16661\n",
    "Name: 305, dtype: int64"
   ]
  },
  {
   "cell_type": "markdown",
   "id": "2288ac8e",
   "metadata": {},
   "source": [
    "nombre_infected       744\n",
    "nombre_sain          2173\n",
    "nombre_exposed        425\n",
    "nombre_recovered    16658\n",
    "Name: 306, dtype: int64"
   ]
  },
  {
   "cell_type": "markdown",
   "id": "b8f418c1",
   "metadata": {},
   "source": [
    "nombre_infected       720\n",
    "nombre_sain          2191\n",
    "nombre_exposed        422\n",
    "nombre_recovered    16667\n",
    "Name: 307, dtype: int64"
   ]
  },
  {
   "cell_type": "markdown",
   "id": "a6bd641c",
   "metadata": {},
   "source": [
    "nombre_infected       705\n",
    "nombre_sain          2219\n",
    "nombre_exposed        420\n",
    "nombre_recovered    16656\n",
    "Name: 308, dtype: int64"
   ]
  },
  {
   "cell_type": "markdown",
   "id": "c2f7e1b0",
   "metadata": {},
   "source": [
    "nombre_infected       713\n",
    "nombre_sain          2266\n",
    "nombre_exposed        420\n",
    "nombre_recovered    16601\n",
    "Name: 309, dtype: int64"
   ]
  },
  {
   "cell_type": "markdown",
   "id": "4c69d868",
   "metadata": {},
   "source": [
    "nombre_infected       700\n",
    "nombre_sain          2290\n",
    "nombre_exposed        424\n",
    "nombre_recovered    16586\n",
    "Name: 310, dtype: int64"
   ]
  },
  {
   "cell_type": "markdown",
   "id": "d6cad823",
   "metadata": {},
   "source": [
    "nombre_infected       702\n",
    "nombre_sain          2300\n",
    "nombre_exposed        426\n",
    "nombre_recovered    16572\n",
    "Name: 311, dtype: int64"
   ]
  },
  {
   "cell_type": "markdown",
   "id": "4bb2c228",
   "metadata": {},
   "source": [
    "nombre_infected       708\n",
    "nombre_sain          2338\n",
    "nombre_exposed        432\n",
    "nombre_recovered    16522\n",
    "Name: 312, dtype: int64"
   ]
  },
  {
   "cell_type": "markdown",
   "id": "ef6ad92f",
   "metadata": {},
   "source": [
    "nombre_infected       715\n",
    "nombre_sain          2341\n",
    "nombre_exposed        459\n",
    "nombre_recovered    16485\n",
    "Name: 313, dtype: int64"
   ]
  },
  {
   "cell_type": "markdown",
   "id": "1d10e8c0",
   "metadata": {},
   "source": [
    "nombre_infected       719\n",
    "nombre_sain          2337\n",
    "nombre_exposed        480\n",
    "nombre_recovered    16464\n",
    "Name: 314, dtype: int64"
   ]
  },
  {
   "cell_type": "markdown",
   "id": "daa93b66",
   "metadata": {},
   "source": [
    "nombre_infected       731\n",
    "nombre_sain          2350\n",
    "nombre_exposed        472\n",
    "nombre_recovered    16447\n",
    "Name: 315, dtype: int64"
   ]
  },
  {
   "cell_type": "markdown",
   "id": "389e4b49",
   "metadata": {},
   "source": [
    "nombre_infected       718\n",
    "nombre_sain          2377\n",
    "nombre_exposed        470\n",
    "nombre_recovered    16435\n",
    "Name: 316, dtype: int64"
   ]
  },
  {
   "cell_type": "markdown",
   "id": "77004240",
   "metadata": {},
   "source": [
    "nombre_infected       698\n",
    "nombre_sain          2393\n",
    "nombre_exposed        470\n",
    "nombre_recovered    16439\n",
    "Name: 317, dtype: int64"
   ]
  },
  {
   "cell_type": "markdown",
   "id": "1cf8988f",
   "metadata": {},
   "source": [
    "nombre_infected       679\n",
    "nombre_sain          2406\n",
    "nombre_exposed        491\n",
    "nombre_recovered    16424\n",
    "Name: 318, dtype: int64"
   ]
  },
  {
   "cell_type": "markdown",
   "id": "4c436f02",
   "metadata": {},
   "source": [
    "nombre_infected       679\n",
    "nombre_sain          2456\n",
    "nombre_exposed        472\n",
    "nombre_recovered    16393\n",
    "Name: 319, dtype: int64"
   ]
  },
  {
   "cell_type": "markdown",
   "id": "bbdc7f57",
   "metadata": {},
   "source": [
    "nombre_infected       715\n",
    "nombre_sain          2491\n",
    "nombre_exposed        452\n",
    "nombre_recovered    16342\n",
    "Name: 320, dtype: int64"
   ]
  },
  {
   "cell_type": "markdown",
   "id": "771953a7",
   "metadata": {},
   "source": [
    "nombre_infected       730\n",
    "nombre_sain          2513\n",
    "nombre_exposed        447\n",
    "nombre_recovered    16310\n",
    "Name: 321, dtype: int64"
   ]
  },
  {
   "cell_type": "markdown",
   "id": "ab44202b",
   "metadata": {},
   "source": [
    "nombre_infected       701\n",
    "nombre_sain          2546\n",
    "nombre_exposed        459\n",
    "nombre_recovered    16294\n",
    "Name: 322, dtype: int64"
   ]
  },
  {
   "cell_type": "markdown",
   "id": "e97d6347",
   "metadata": {},
   "source": [
    "nombre_infected       702\n",
    "nombre_sain          2587\n",
    "nombre_exposed        452\n",
    "nombre_recovered    16259\n",
    "Name: 323, dtype: int64"
   ]
  },
  {
   "cell_type": "markdown",
   "id": "b8b4958a",
   "metadata": {},
   "source": [
    "nombre_infected       710\n",
    "nombre_sain          2612\n",
    "nombre_exposed        445\n",
    "nombre_recovered    16233\n",
    "Name: 324, dtype: int64"
   ]
  },
  {
   "cell_type": "markdown",
   "id": "bf19b7ca",
   "metadata": {},
   "source": [
    "nombre_infected       726\n",
    "nombre_sain          2602\n",
    "nombre_exposed        456\n",
    "nombre_recovered    16216\n",
    "Name: 325, dtype: int64"
   ]
  },
  {
   "cell_type": "markdown",
   "id": "aea7d28f",
   "metadata": {},
   "source": [
    "nombre_infected       726\n",
    "nombre_sain          2599\n",
    "nombre_exposed        471\n",
    "nombre_recovered    16204\n",
    "Name: 326, dtype: int64"
   ]
  },
  {
   "cell_type": "markdown",
   "id": "3d1d1ac2",
   "metadata": {},
   "source": [
    "nombre_infected       727\n",
    "nombre_sain          2599\n",
    "nombre_exposed        474\n",
    "nombre_recovered    16200\n",
    "Name: 327, dtype: int64"
   ]
  },
  {
   "cell_type": "markdown",
   "id": "b5accc4d",
   "metadata": {},
   "source": [
    "nombre_infected       741\n",
    "nombre_sain          2584\n",
    "nombre_exposed        490\n",
    "nombre_recovered    16185\n",
    "Name: 328, dtype: int64"
   ]
  },
  {
   "cell_type": "markdown",
   "id": "b7360b73",
   "metadata": {},
   "source": [
    "nombre_infected       738\n",
    "nombre_sain          2560\n",
    "nombre_exposed        523\n",
    "nombre_recovered    16179\n",
    "Name: 329, dtype: int64"
   ]
  },
  {
   "cell_type": "markdown",
   "id": "6f8eaac5",
   "metadata": {},
   "source": [
    "nombre_infected       751\n",
    "nombre_sain          2541\n",
    "nombre_exposed        526\n",
    "nombre_recovered    16182\n",
    "Name: 330, dtype: int64"
   ]
  },
  {
   "cell_type": "markdown",
   "id": "edf79bf2",
   "metadata": {},
   "source": [
    "nombre_infected       769\n",
    "nombre_sain          2522\n",
    "nombre_exposed        511\n",
    "nombre_recovered    16198\n",
    "Name: 331, dtype: int64"
   ]
  },
  {
   "cell_type": "markdown",
   "id": "f8eb6f61",
   "metadata": {},
   "source": [
    "nombre_infected       796\n",
    "nombre_sain          2507\n",
    "nombre_exposed        513\n",
    "nombre_recovered    16184\n",
    "Name: 332, dtype: int64"
   ]
  },
  {
   "cell_type": "markdown",
   "id": "ef135d09",
   "metadata": {},
   "source": [
    "nombre_infected       835\n",
    "nombre_sain          2469\n",
    "nombre_exposed        514\n",
    "nombre_recovered    16182\n",
    "Name: 333, dtype: int64"
   ]
  },
  {
   "cell_type": "markdown",
   "id": "572168af",
   "metadata": {},
   "source": [
    "nombre_infected       829\n",
    "nombre_sain          2428\n",
    "nombre_exposed        539\n",
    "nombre_recovered    16204\n",
    "Name: 334, dtype: int64"
   ]
  },
  {
   "cell_type": "markdown",
   "id": "b8f21ce0",
   "metadata": {},
   "source": [
    "nombre_infected       846\n",
    "nombre_sain          2388\n",
    "nombre_exposed        530\n",
    "nombre_recovered    16236\n",
    "Name: 335, dtype: int64"
   ]
  },
  {
   "cell_type": "markdown",
   "id": "d5d6ea1c",
   "metadata": {},
   "source": [
    "nombre_infected       850\n",
    "nombre_sain          2351\n",
    "nombre_exposed        554\n",
    "nombre_recovered    16245\n",
    "Name: 336, dtype: int64"
   ]
  },
  {
   "cell_type": "markdown",
   "id": "b1b83c68",
   "metadata": {},
   "source": [
    "nombre_infected       845\n",
    "nombre_sain          2321\n",
    "nombre_exposed        570\n",
    "nombre_recovered    16264\n",
    "Name: 337, dtype: int64"
   ]
  },
  {
   "cell_type": "markdown",
   "id": "ce010144",
   "metadata": {},
   "source": [
    "nombre_infected       864\n",
    "nombre_sain          2299\n",
    "nombre_exposed        540\n",
    "nombre_recovered    16297\n",
    "Name: 338, dtype: int64"
   ]
  },
  {
   "cell_type": "markdown",
   "id": "a0a77ca8",
   "metadata": {},
   "source": [
    "nombre_infected       862\n",
    "nombre_sain          2311\n",
    "nombre_exposed        514\n",
    "nombre_recovered    16313\n",
    "Name: 339, dtype: int64"
   ]
  },
  {
   "cell_type": "markdown",
   "id": "5831259e",
   "metadata": {},
   "source": [
    "nombre_infected       870\n",
    "nombre_sain          2291\n",
    "nombre_exposed        497\n",
    "nombre_recovered    16342\n",
    "Name: 340, dtype: int64"
   ]
  },
  {
   "cell_type": "markdown",
   "id": "d9648a2c",
   "metadata": {},
   "source": [
    "nombre_infected       857\n",
    "nombre_sain          2269\n",
    "nombre_exposed        490\n",
    "nombre_recovered    16384\n",
    "Name: 341, dtype: int64"
   ]
  },
  {
   "cell_type": "markdown",
   "id": "efef0b50",
   "metadata": {},
   "source": [
    "nombre_infected       855\n",
    "nombre_sain          2259\n",
    "nombre_exposed        519\n",
    "nombre_recovered    16367\n",
    "Name: 342, dtype: int64"
   ]
  },
  {
   "cell_type": "markdown",
   "id": "a2284959",
   "metadata": {},
   "source": [
    "nombre_infected       852\n",
    "nombre_sain          2259\n",
    "nombre_exposed        505\n",
    "nombre_recovered    16384\n",
    "Name: 343, dtype: int64"
   ]
  },
  {
   "cell_type": "markdown",
   "id": "0bc9be49",
   "metadata": {},
   "source": [
    "nombre_infected       870\n",
    "nombre_sain          2239\n",
    "nombre_exposed        493\n",
    "nombre_recovered    16398\n",
    "Name: 344, dtype: int64"
   ]
  },
  {
   "cell_type": "markdown",
   "id": "325631a8",
   "metadata": {},
   "source": [
    "nombre_infected       839\n",
    "nombre_sain          2222\n",
    "nombre_exposed        514\n",
    "nombre_recovered    16425\n",
    "Name: 345, dtype: int64"
   ]
  },
  {
   "cell_type": "markdown",
   "id": "c1839d9f",
   "metadata": {},
   "source": [
    "nombre_infected       838\n",
    "nombre_sain          2212\n",
    "nombre_exposed        498\n",
    "nombre_recovered    16452\n",
    "Name: 346, dtype: int64"
   ]
  },
  {
   "cell_type": "markdown",
   "id": "20a8cef6",
   "metadata": {},
   "source": [
    "nombre_infected       862\n",
    "nombre_sain          2208\n",
    "nombre_exposed        481\n",
    "nombre_recovered    16449\n",
    "Name: 347, dtype: int64"
   ]
  },
  {
   "cell_type": "markdown",
   "id": "44bece87",
   "metadata": {},
   "source": [
    "nombre_infected       855\n",
    "nombre_sain          2192\n",
    "nombre_exposed        484\n",
    "nombre_recovered    16469\n",
    "Name: 348, dtype: int64"
   ]
  },
  {
   "cell_type": "markdown",
   "id": "d3c27ce0",
   "metadata": {},
   "source": [
    "nombre_infected       837\n",
    "nombre_sain          2192\n",
    "nombre_exposed        494\n",
    "nombre_recovered    16477\n",
    "Name: 349, dtype: int64"
   ]
  },
  {
   "cell_type": "markdown",
   "id": "36e3fcfb",
   "metadata": {},
   "source": [
    "nombre_infected       821\n",
    "nombre_sain          2168\n",
    "nombre_exposed        498\n",
    "nombre_recovered    16513\n",
    "Name: 350, dtype: int64"
   ]
  },
  {
   "cell_type": "markdown",
   "id": "e2411375",
   "metadata": {},
   "source": [
    "nombre_infected       817\n",
    "nombre_sain          2168\n",
    "nombre_exposed        489\n",
    "nombre_recovered    16526\n",
    "Name: 351, dtype: int64"
   ]
  },
  {
   "cell_type": "markdown",
   "id": "2715a9c2",
   "metadata": {},
   "source": [
    "nombre_infected       833\n",
    "nombre_sain          2161\n",
    "nombre_exposed        485\n",
    "nombre_recovered    16521\n",
    "Name: 352, dtype: int64"
   ]
  },
  {
   "cell_type": "markdown",
   "id": "4fcc2676",
   "metadata": {},
   "source": [
    "nombre_infected       840\n",
    "nombre_sain          2177\n",
    "nombre_exposed        470\n",
    "nombre_recovered    16513\n",
    "Name: 353, dtype: int64"
   ]
  },
  {
   "cell_type": "markdown",
   "id": "b32393d1",
   "metadata": {},
   "source": [
    "nombre_infected       827\n",
    "nombre_sain          2166\n",
    "nombre_exposed        470\n",
    "nombre_recovered    16537\n",
    "Name: 354, dtype: int64"
   ]
  },
  {
   "cell_type": "markdown",
   "id": "551b5dd9",
   "metadata": {},
   "source": [
    "nombre_infected       832\n",
    "nombre_sain          2157\n",
    "nombre_exposed        465\n",
    "nombre_recovered    16546\n",
    "Name: 355, dtype: int64"
   ]
  },
  {
   "cell_type": "markdown",
   "id": "fc09f49f",
   "metadata": {},
   "source": [
    "nombre_infected       798\n",
    "nombre_sain          2183\n",
    "nombre_exposed        473\n",
    "nombre_recovered    16546\n",
    "Name: 356, dtype: int64"
   ]
  },
  {
   "cell_type": "markdown",
   "id": "cb539926",
   "metadata": {},
   "source": [
    "nombre_infected       794\n",
    "nombre_sain          2187\n",
    "nombre_exposed        447\n",
    "nombre_recovered    16572\n",
    "Name: 357, dtype: int64"
   ]
  },
  {
   "cell_type": "markdown",
   "id": "b903e1b3",
   "metadata": {},
   "source": [
    "nombre_infected       776\n",
    "nombre_sain          2177\n",
    "nombre_exposed        465\n",
    "nombre_recovered    16582\n",
    "Name: 358, dtype: int64"
   ]
  },
  {
   "cell_type": "markdown",
   "id": "dd75004d",
   "metadata": {},
   "source": [
    "nombre_infected       773\n",
    "nombre_sain          2170\n",
    "nombre_exposed        478\n",
    "nombre_recovered    16579\n",
    "Name: 359, dtype: int64"
   ]
  },
  {
   "cell_type": "markdown",
   "id": "2ff48aa6",
   "metadata": {},
   "source": [
    "nombre_infected       756\n",
    "nombre_sain          2183\n",
    "nombre_exposed        483\n",
    "nombre_recovered    16578\n",
    "Name: 360, dtype: int64"
   ]
  },
  {
   "cell_type": "markdown",
   "id": "262b0cb5",
   "metadata": {},
   "source": [
    "nombre_infected       754\n",
    "nombre_sain          2188\n",
    "nombre_exposed        476\n",
    "nombre_recovered    16582\n",
    "Name: 361, dtype: int64"
   ]
  },
  {
   "cell_type": "markdown",
   "id": "3eddd301",
   "metadata": {},
   "source": [
    "nombre_infected       753\n",
    "nombre_sain          2193\n",
    "nombre_exposed        477\n",
    "nombre_recovered    16577\n",
    "Name: 362, dtype: int64"
   ]
  },
  {
   "cell_type": "markdown",
   "id": "01f5296b",
   "metadata": {},
   "source": [
    "nombre_infected       775\n",
    "nombre_sain          2192\n",
    "nombre_exposed        482\n",
    "nombre_recovered    16551\n",
    "Name: 363, dtype: int64"
   ]
  },
  {
   "cell_type": "markdown",
   "id": "83ee38cf",
   "metadata": {},
   "source": [
    "nombre_infected       771\n",
    "nombre_sain          2225\n",
    "nombre_exposed        467\n",
    "nombre_recovered    16537\n",
    "Name: 364, dtype: int64"
   ]
  },
  {
   "cell_type": "markdown",
   "id": "facaa2df",
   "metadata": {},
   "source": [
    "nombre_infected       768\n",
    "nombre_sain          2226\n",
    "nombre_exposed        469\n",
    "nombre_recovered    16537\n",
    "Name: 365, dtype: int64"
   ]
  },
  {
   "cell_type": "markdown",
   "id": "56cb1336",
   "metadata": {},
   "source": [
    "nombre_infected       768\n",
    "nombre_sain          2288\n",
    "nombre_exposed        434\n",
    "nombre_recovered    16510\n",
    "Name: 366, dtype: int64"
   ]
  },
  {
   "cell_type": "markdown",
   "id": "9d43f373",
   "metadata": {},
   "source": [
    "nombre_infected       771\n",
    "nombre_sain          2322\n",
    "nombre_exposed        419\n",
    "nombre_recovered    16488\n",
    "Name: 367, dtype: int64"
   ]
  },
  {
   "cell_type": "markdown",
   "id": "51d4c3a6",
   "metadata": {},
   "source": [
    "nombre_infected       769\n",
    "nombre_sain          2352\n",
    "nombre_exposed        419\n",
    "nombre_recovered    16460\n",
    "Name: 368, dtype: int64"
   ]
  },
  {
   "cell_type": "markdown",
   "id": "22e251b5",
   "metadata": {},
   "source": [
    "nombre_infected       760\n",
    "nombre_sain          2381\n",
    "nombre_exposed        436\n",
    "nombre_recovered    16423\n",
    "Name: 369, dtype: int64"
   ]
  },
  {
   "cell_type": "markdown",
   "id": "8bf2d9a3",
   "metadata": {},
   "source": [
    "nombre_infected       736\n",
    "nombre_sain          2393\n",
    "nombre_exposed        455\n",
    "nombre_recovered    16416\n",
    "Name: 370, dtype: int64"
   ]
  },
  {
   "cell_type": "markdown",
   "id": "3e522047",
   "metadata": {},
   "source": [
    "nombre_infected       757\n",
    "nombre_sain          2416\n",
    "nombre_exposed        450\n",
    "nombre_recovered    16377\n",
    "Name: 371, dtype: int64"
   ]
  },
  {
   "cell_type": "markdown",
   "id": "0a228b01",
   "metadata": {},
   "source": [
    "nombre_infected       741\n",
    "nombre_sain          2421\n",
    "nombre_exposed        464\n",
    "nombre_recovered    16374\n",
    "Name: 372, dtype: int64"
   ]
  },
  {
   "cell_type": "markdown",
   "id": "799fda7e",
   "metadata": {},
   "source": [
    "nombre_infected       766\n",
    "nombre_sain          2431\n",
    "nombre_exposed        470\n",
    "nombre_recovered    16333\n",
    "Name: 373, dtype: int64"
   ]
  },
  {
   "cell_type": "markdown",
   "id": "59b049ff",
   "metadata": {},
   "source": [
    "nombre_infected       765\n",
    "nombre_sain          2417\n",
    "nombre_exposed        487\n",
    "nombre_recovered    16331\n",
    "Name: 374, dtype: int64"
   ]
  },
  {
   "cell_type": "markdown",
   "id": "d5746485",
   "metadata": {},
   "source": [
    "nombre_infected       778\n",
    "nombre_sain          2431\n",
    "nombre_exposed        473\n",
    "nombre_recovered    16318\n",
    "Name: 375, dtype: int64"
   ]
  },
  {
   "cell_type": "markdown",
   "id": "96e0579e",
   "metadata": {},
   "source": [
    "nombre_infected       793\n",
    "nombre_sain          2446\n",
    "nombre_exposed        471\n",
    "nombre_recovered    16290\n",
    "Name: 376, dtype: int64"
   ]
  },
  {
   "cell_type": "markdown",
   "id": "f0fc44f8",
   "metadata": {},
   "source": [
    "nombre_infected       784\n",
    "nombre_sain          2455\n",
    "nombre_exposed        489\n",
    "nombre_recovered    16272\n",
    "Name: 377, dtype: int64"
   ]
  },
  {
   "cell_type": "markdown",
   "id": "77ffa97e",
   "metadata": {},
   "source": [
    "nombre_infected       770\n",
    "nombre_sain          2430\n",
    "nombre_exposed        521\n",
    "nombre_recovered    16279\n",
    "Name: 378, dtype: int64"
   ]
  },
  {
   "cell_type": "markdown",
   "id": "c679a6b9",
   "metadata": {},
   "source": [
    "nombre_infected       782\n",
    "nombre_sain          2448\n",
    "nombre_exposed        521\n",
    "nombre_recovered    16249\n",
    "Name: 379, dtype: int64"
   ]
  },
  {
   "cell_type": "markdown",
   "id": "c9e752bc",
   "metadata": {},
   "source": [
    "nombre_infected       784\n",
    "nombre_sain          2449\n",
    "nombre_exposed        506\n",
    "nombre_recovered    16261\n",
    "Name: 380, dtype: int64"
   ]
  },
  {
   "cell_type": "markdown",
   "id": "eecd723b",
   "metadata": {},
   "source": [
    "nombre_infected       785\n",
    "nombre_sain          2455\n",
    "nombre_exposed        514\n",
    "nombre_recovered    16246\n",
    "Name: 381, dtype: int64"
   ]
  },
  {
   "cell_type": "markdown",
   "id": "160322c0",
   "metadata": {},
   "source": [
    "nombre_infected       795\n",
    "nombre_sain          2434\n",
    "nombre_exposed        508\n",
    "nombre_recovered    16263\n",
    "Name: 382, dtype: int64"
   ]
  },
  {
   "cell_type": "markdown",
   "id": "f8bafbb1",
   "metadata": {},
   "source": [
    "nombre_infected       795\n",
    "nombre_sain          2425\n",
    "nombre_exposed        513\n",
    "nombre_recovered    16267\n",
    "Name: 383, dtype: int64"
   ]
  },
  {
   "cell_type": "markdown",
   "id": "a4488371",
   "metadata": {},
   "source": [
    "nombre_infected       804\n",
    "nombre_sain          2407\n",
    "nombre_exposed        519\n",
    "nombre_recovered    16270\n",
    "Name: 384, dtype: int64"
   ]
  },
  {
   "cell_type": "markdown",
   "id": "e94b2c8f",
   "metadata": {},
   "source": [
    "nombre_infected       812\n",
    "nombre_sain          2388\n",
    "nombre_exposed        511\n",
    "nombre_recovered    16289\n",
    "Name: 385, dtype: int64"
   ]
  },
  {
   "cell_type": "markdown",
   "id": "a91fe574",
   "metadata": {},
   "source": [
    "nombre_infected       826\n",
    "nombre_sain          2376\n",
    "nombre_exposed        505\n",
    "nombre_recovered    16293\n",
    "Name: 386, dtype: int64"
   ]
  },
  {
   "cell_type": "markdown",
   "id": "caf932be",
   "metadata": {},
   "source": [
    "nombre_infected       830\n",
    "nombre_sain          2349\n",
    "nombre_exposed        525\n",
    "nombre_recovered    16296\n",
    "Name: 387, dtype: int64"
   ]
  },
  {
   "cell_type": "markdown",
   "id": "0331d877",
   "metadata": {},
   "source": [
    "nombre_infected       818\n",
    "nombre_sain          2314\n",
    "nombre_exposed        556\n",
    "nombre_recovered    16312\n",
    "Name: 388, dtype: int64"
   ]
  },
  {
   "cell_type": "markdown",
   "id": "989e5fd1",
   "metadata": {},
   "source": [
    "nombre_infected       847\n",
    "nombre_sain          2288\n",
    "nombre_exposed        557\n",
    "nombre_recovered    16308\n",
    "Name: 389, dtype: int64"
   ]
  },
  {
   "cell_type": "markdown",
   "id": "c551d0f6",
   "metadata": {},
   "source": [
    "nombre_infected       862\n",
    "nombre_sain          2306\n",
    "nombre_exposed        545\n",
    "nombre_recovered    16287\n",
    "Name: 390, dtype: int64"
   ]
  },
  {
   "cell_type": "markdown",
   "id": "19e91e5e",
   "metadata": {},
   "source": [
    "nombre_infected       868\n",
    "nombre_sain          2286\n",
    "nombre_exposed        540\n",
    "nombre_recovered    16306\n",
    "Name: 391, dtype: int64"
   ]
  },
  {
   "cell_type": "markdown",
   "id": "477fdc44",
   "metadata": {},
   "source": [
    "nombre_infected       863\n",
    "nombre_sain          2267\n",
    "nombre_exposed        530\n",
    "nombre_recovered    16340\n",
    "Name: 392, dtype: int64"
   ]
  },
  {
   "cell_type": "markdown",
   "id": "4d616fba",
   "metadata": {},
   "source": [
    "nombre_infected       852\n",
    "nombre_sain          2259\n",
    "nombre_exposed        540\n",
    "nombre_recovered    16349\n",
    "Name: 393, dtype: int64"
   ]
  },
  {
   "cell_type": "markdown",
   "id": "552f77c3",
   "metadata": {},
   "source": [
    "nombre_infected       866\n",
    "nombre_sain          2266\n",
    "nombre_exposed        550\n",
    "nombre_recovered    16318\n",
    "Name: 394, dtype: int64"
   ]
  },
  {
   "cell_type": "markdown",
   "id": "53c943e0",
   "metadata": {},
   "source": [
    "nombre_infected       891\n",
    "nombre_sain          2271\n",
    "nombre_exposed        541\n",
    "nombre_recovered    16297\n",
    "Name: 395, dtype: int64"
   ]
  },
  {
   "cell_type": "markdown",
   "id": "f3649e8f",
   "metadata": {},
   "source": [
    "nombre_infected       899\n",
    "nombre_sain          2278\n",
    "nombre_exposed        531\n",
    "nombre_recovered    16292\n",
    "Name: 396, dtype: int64"
   ]
  },
  {
   "cell_type": "markdown",
   "id": "06102042",
   "metadata": {},
   "source": [
    "nombre_infected       891\n",
    "nombre_sain          2274\n",
    "nombre_exposed        550\n",
    "nombre_recovered    16285\n",
    "Name: 397, dtype: int64"
   ]
  },
  {
   "cell_type": "markdown",
   "id": "b39ecd36",
   "metadata": {},
   "source": [
    "nombre_infected       869\n",
    "nombre_sain          2219\n",
    "nombre_exposed        593\n",
    "nombre_recovered    16319\n",
    "Name: 398, dtype: int64"
   ]
  },
  {
   "cell_type": "markdown",
   "id": "604e46e3",
   "metadata": {},
   "source": [
    "nombre_infected       884\n",
    "nombre_sain          2195\n",
    "nombre_exposed        596\n",
    "nombre_recovered    16325\n",
    "Name: 399, dtype: int64"
   ]
  },
  {
   "cell_type": "markdown",
   "id": "6da9a15e",
   "metadata": {},
   "source": [
    "nombre_infected       897\n",
    "nombre_sain          2206\n",
    "nombre_exposed        572\n",
    "nombre_recovered    16325\n",
    "Name: 400, dtype: int64"
   ]
  },
  {
   "cell_type": "markdown",
   "id": "3342fa7b",
   "metadata": {},
   "source": [
    "nombre_infected       909\n",
    "nombre_sain          2193\n",
    "nombre_exposed        571\n",
    "nombre_recovered    16327\n",
    "Name: 401, dtype: int64"
   ]
  },
  {
   "cell_type": "markdown",
   "id": "4c72b10d",
   "metadata": {},
   "source": [
    "nombre_infected       939\n",
    "nombre_sain          2158\n",
    "nombre_exposed        586\n",
    "nombre_recovered    16317\n",
    "Name: 402, dtype: int64"
   ]
  },
  {
   "cell_type": "markdown",
   "id": "c00e31dd",
   "metadata": {},
   "source": [
    "nombre_infected       919\n",
    "nombre_sain          2143\n",
    "nombre_exposed        595\n",
    "nombre_recovered    16343\n",
    "Name: 403, dtype: int64"
   ]
  },
  {
   "cell_type": "markdown",
   "id": "8d6a4180",
   "metadata": {},
   "source": [
    "nombre_infected       949\n",
    "nombre_sain          2169\n",
    "nombre_exposed        549\n",
    "nombre_recovered    16333\n",
    "Name: 404, dtype: int64"
   ]
  },
  {
   "cell_type": "markdown",
   "id": "2f808d04",
   "metadata": {},
   "source": [
    "nombre_infected       944\n",
    "nombre_sain          2167\n",
    "nombre_exposed        559\n",
    "nombre_recovered    16330\n",
    "Name: 405, dtype: int64"
   ]
  },
  {
   "cell_type": "markdown",
   "id": "ca9f5b09",
   "metadata": {},
   "source": [
    "nombre_infected       932\n",
    "nombre_sain          2176\n",
    "nombre_exposed        578\n",
    "nombre_recovered    16314\n",
    "Name: 406, dtype: int64"
   ]
  },
  {
   "cell_type": "markdown",
   "id": "059f5ba2",
   "metadata": {},
   "source": [
    "nombre_infected       915\n",
    "nombre_sain          2178\n",
    "nombre_exposed        571\n",
    "nombre_recovered    16336\n",
    "Name: 407, dtype: int64"
   ]
  },
  {
   "cell_type": "markdown",
   "id": "a6424675",
   "metadata": {},
   "source": [
    "nombre_infected       897\n",
    "nombre_sain          2180\n",
    "nombre_exposed        554\n",
    "nombre_recovered    16369\n",
    "Name: 408, dtype: int64"
   ]
  },
  {
   "cell_type": "markdown",
   "id": "9c35a624",
   "metadata": {},
   "source": [
    "nombre_infected       884\n",
    "nombre_sain          2203\n",
    "nombre_exposed        551\n",
    "nombre_recovered    16362\n",
    "Name: 409, dtype: int64"
   ]
  },
  {
   "cell_type": "markdown",
   "id": "8fa5d21b",
   "metadata": {},
   "source": [
    "nombre_infected       883\n",
    "nombre_sain          2225\n",
    "nombre_exposed        545\n",
    "nombre_recovered    16347\n",
    "Name: 410, dtype: int64"
   ]
  },
  {
   "cell_type": "markdown",
   "id": "fa247e35",
   "metadata": {},
   "source": [
    "nombre_infected       877\n",
    "nombre_sain          2251\n",
    "nombre_exposed        522\n",
    "nombre_recovered    16350\n",
    "Name: 411, dtype: int64"
   ]
  },
  {
   "cell_type": "markdown",
   "id": "6fd0491d",
   "metadata": {},
   "source": [
    "nombre_infected       863\n",
    "nombre_sain          2264\n",
    "nombre_exposed        518\n",
    "nombre_recovered    16355\n",
    "Name: 412, dtype: int64"
   ]
  },
  {
   "cell_type": "markdown",
   "id": "844a2d7f",
   "metadata": {},
   "source": [
    "nombre_infected       862\n",
    "nombre_sain          2241\n",
    "nombre_exposed        511\n",
    "nombre_recovered    16386\n",
    "Name: 413, dtype: int64"
   ]
  },
  {
   "cell_type": "markdown",
   "id": "034c4190",
   "metadata": {},
   "source": [
    "nombre_infected       851\n",
    "nombre_sain          2215\n",
    "nombre_exposed        543\n",
    "nombre_recovered    16391\n",
    "Name: 414, dtype: int64"
   ]
  },
  {
   "cell_type": "markdown",
   "id": "8f901631",
   "metadata": {},
   "source": [
    "nombre_infected       851\n",
    "nombre_sain          2221\n",
    "nombre_exposed        538\n",
    "nombre_recovered    16390\n",
    "Name: 415, dtype: int64"
   ]
  },
  {
   "cell_type": "markdown",
   "id": "c0d5134b",
   "metadata": {},
   "source": [
    "nombre_infected       863\n",
    "nombre_sain          2201\n",
    "nombre_exposed        530\n",
    "nombre_recovered    16406\n",
    "Name: 416, dtype: int64"
   ]
  },
  {
   "cell_type": "markdown",
   "id": "e607b151",
   "metadata": {},
   "source": [
    "nombre_infected       865\n",
    "nombre_sain          2195\n",
    "nombre_exposed        515\n",
    "nombre_recovered    16425\n",
    "Name: 417, dtype: int64"
   ]
  },
  {
   "cell_type": "markdown",
   "id": "d38e9db7",
   "metadata": {},
   "source": [
    "nombre_infected       881\n",
    "nombre_sain          2177\n",
    "nombre_exposed        507\n",
    "nombre_recovered    16435\n",
    "Name: 418, dtype: int64"
   ]
  },
  {
   "cell_type": "markdown",
   "id": "aa69100e",
   "metadata": {},
   "source": [
    "nombre_infected       846\n",
    "nombre_sain          2170\n",
    "nombre_exposed        532\n",
    "nombre_recovered    16452\n",
    "Name: 419, dtype: int64"
   ]
  },
  {
   "cell_type": "markdown",
   "id": "01ef043f",
   "metadata": {},
   "source": [
    "nombre_infected       827\n",
    "nombre_sain          2149\n",
    "nombre_exposed        535\n",
    "nombre_recovered    16489\n",
    "Name: 420, dtype: int64"
   ]
  },
  {
   "cell_type": "markdown",
   "id": "3d58b6dd",
   "metadata": {},
   "source": [
    "nombre_infected       853\n",
    "nombre_sain          2132\n",
    "nombre_exposed        526\n",
    "nombre_recovered    16489\n",
    "Name: 421, dtype: int64"
   ]
  },
  {
   "cell_type": "markdown",
   "id": "254d0a2b",
   "metadata": {},
   "source": [
    "nombre_infected       875\n",
    "nombre_sain          2123\n",
    "nombre_exposed        513\n",
    "nombre_recovered    16489\n",
    "Name: 422, dtype: int64"
   ]
  },
  {
   "cell_type": "markdown",
   "id": "b2b69de9",
   "metadata": {},
   "source": [
    "nombre_infected       869\n",
    "nombre_sain          2119\n",
    "nombre_exposed        492\n",
    "nombre_recovered    16520\n",
    "Name: 423, dtype: int64"
   ]
  },
  {
   "cell_type": "markdown",
   "id": "34f1bef1",
   "metadata": {},
   "source": [
    "nombre_infected       864\n",
    "nombre_sain          2117\n",
    "nombre_exposed        494\n",
    "nombre_recovered    16525\n",
    "Name: 424, dtype: int64"
   ]
  },
  {
   "cell_type": "markdown",
   "id": "1b511184",
   "metadata": {},
   "source": [
    "nombre_infected       857\n",
    "nombre_sain          2133\n",
    "nombre_exposed        474\n",
    "nombre_recovered    16536\n",
    "Name: 425, dtype: int64"
   ]
  },
  {
   "cell_type": "markdown",
   "id": "e6c4dace",
   "metadata": {},
   "source": [
    "nombre_infected       857\n",
    "nombre_sain          2110\n",
    "nombre_exposed        493\n",
    "nombre_recovered    16540\n",
    "Name: 426, dtype: int64"
   ]
  },
  {
   "cell_type": "markdown",
   "id": "f0f5e689",
   "metadata": {},
   "source": [
    "nombre_infected       859\n",
    "nombre_sain          2073\n",
    "nombre_exposed        501\n",
    "nombre_recovered    16567\n",
    "Name: 427, dtype: int64"
   ]
  },
  {
   "cell_type": "markdown",
   "id": "ab27be24",
   "metadata": {},
   "source": [
    "nombre_infected       860\n",
    "nombre_sain          2066\n",
    "nombre_exposed        495\n",
    "nombre_recovered    16579\n",
    "Name: 428, dtype: int64"
   ]
  },
  {
   "cell_type": "markdown",
   "id": "34f1ebd9",
   "metadata": {},
   "source": [
    "nombre_infected       847\n",
    "nombre_sain          2073\n",
    "nombre_exposed        481\n",
    "nombre_recovered    16599\n",
    "Name: 429, dtype: int64"
   ]
  },
  {
   "cell_type": "markdown",
   "id": "0b09516a",
   "metadata": {},
   "source": [
    "nombre_infected       838\n",
    "nombre_sain          2086\n",
    "nombre_exposed        465\n",
    "nombre_recovered    16611\n",
    "Name: 430, dtype: int64"
   ]
  },
  {
   "cell_type": "markdown",
   "id": "f5b37598",
   "metadata": {},
   "source": [
    "nombre_infected       825\n",
    "nombre_sain          2084\n",
    "nombre_exposed        463\n",
    "nombre_recovered    16628\n",
    "Name: 431, dtype: int64"
   ]
  },
  {
   "cell_type": "markdown",
   "id": "01f5ee35",
   "metadata": {},
   "source": [
    "nombre_infected       814\n",
    "nombre_sain          2068\n",
    "nombre_exposed        474\n",
    "nombre_recovered    16644\n",
    "Name: 432, dtype: int64"
   ]
  },
  {
   "cell_type": "markdown",
   "id": "bfcbbfff",
   "metadata": {},
   "source": [
    "nombre_infected       816\n",
    "nombre_sain          2068\n",
    "nombre_exposed        460\n",
    "nombre_recovered    16656\n",
    "Name: 433, dtype: int64"
   ]
  },
  {
   "cell_type": "markdown",
   "id": "594bdd88",
   "metadata": {},
   "source": [
    "nombre_infected       807\n",
    "nombre_sain          2064\n",
    "nombre_exposed        470\n",
    "nombre_recovered    16659\n",
    "Name: 434, dtype: int64"
   ]
  },
  {
   "cell_type": "markdown",
   "id": "9861b80b",
   "metadata": {},
   "source": [
    "nombre_infected       799\n",
    "nombre_sain          2070\n",
    "nombre_exposed        459\n",
    "nombre_recovered    16672\n",
    "Name: 435, dtype: int64"
   ]
  },
  {
   "cell_type": "markdown",
   "id": "26ca426e",
   "metadata": {},
   "source": [
    "nombre_infected       796\n",
    "nombre_sain          2072\n",
    "nombre_exposed        438\n",
    "nombre_recovered    16694\n",
    "Name: 436, dtype: int64"
   ]
  },
  {
   "cell_type": "markdown",
   "id": "e6cca41a",
   "metadata": {},
   "source": [
    "nombre_infected       804\n",
    "nombre_sain          2086\n",
    "nombre_exposed        417\n",
    "nombre_recovered    16693\n",
    "Name: 437, dtype: int64"
   ]
  },
  {
   "cell_type": "markdown",
   "id": "e20f145e",
   "metadata": {},
   "source": [
    "nombre_infected       802\n",
    "nombre_sain          2090\n",
    "nombre_exposed        426\n",
    "nombre_recovered    16682\n",
    "Name: 438, dtype: int64"
   ]
  },
  {
   "cell_type": "markdown",
   "id": "c5c74a33",
   "metadata": {},
   "source": [
    "nombre_infected       784\n",
    "nombre_sain          2109\n",
    "nombre_exposed        418\n",
    "nombre_recovered    16689\n",
    "Name: 439, dtype: int64"
   ]
  },
  {
   "cell_type": "markdown",
   "id": "b64b53b6",
   "metadata": {},
   "source": [
    "nombre_infected       761\n",
    "nombre_sain          2155\n",
    "nombre_exposed        400\n",
    "nombre_recovered    16684\n",
    "Name: 440, dtype: int64"
   ]
  },
  {
   "cell_type": "markdown",
   "id": "8ea60935",
   "metadata": {},
   "source": [
    "nombre_infected       750\n",
    "nombre_sain          2184\n",
    "nombre_exposed        393\n",
    "nombre_recovered    16673\n",
    "Name: 441, dtype: int64"
   ]
  },
  {
   "cell_type": "markdown",
   "id": "39d1370d",
   "metadata": {},
   "source": [
    "nombre_infected       735\n",
    "nombre_sain          2187\n",
    "nombre_exposed        407\n",
    "nombre_recovered    16671\n",
    "Name: 442, dtype: int64"
   ]
  },
  {
   "cell_type": "markdown",
   "id": "a2b202d1",
   "metadata": {},
   "source": [
    "nombre_infected       732\n",
    "nombre_sain          2202\n",
    "nombre_exposed        403\n",
    "nombre_recovered    16663\n",
    "Name: 443, dtype: int64"
   ]
  },
  {
   "cell_type": "markdown",
   "id": "d12ada39",
   "metadata": {},
   "source": [
    "nombre_infected       728\n",
    "nombre_sain          2227\n",
    "nombre_exposed        402\n",
    "nombre_recovered    16643\n",
    "Name: 444, dtype: int64"
   ]
  },
  {
   "cell_type": "markdown",
   "id": "1c7107a3",
   "metadata": {},
   "source": [
    "nombre_infected       715\n",
    "nombre_sain          2240\n",
    "nombre_exposed        389\n",
    "nombre_recovered    16656\n",
    "Name: 445, dtype: int64"
   ]
  },
  {
   "cell_type": "markdown",
   "id": "90897fff",
   "metadata": {},
   "source": [
    "nombre_infected       704\n",
    "nombre_sain          2252\n",
    "nombre_exposed        404\n",
    "nombre_recovered    16640\n",
    "Name: 446, dtype: int64"
   ]
  },
  {
   "cell_type": "markdown",
   "id": "74cb2886",
   "metadata": {},
   "source": [
    "nombre_infected       693\n",
    "nombre_sain          2280\n",
    "nombre_exposed        422\n",
    "nombre_recovered    16605\n",
    "Name: 447, dtype: int64"
   ]
  },
  {
   "cell_type": "markdown",
   "id": "0b4efa20",
   "metadata": {},
   "source": [
    "nombre_infected       678\n",
    "nombre_sain          2308\n",
    "nombre_exposed        436\n",
    "nombre_recovered    16578\n",
    "Name: 448, dtype: int64"
   ]
  },
  {
   "cell_type": "markdown",
   "id": "318ee05a",
   "metadata": {},
   "source": [
    "nombre_infected       678\n",
    "nombre_sain          2329\n",
    "nombre_exposed        445\n",
    "nombre_recovered    16548\n",
    "Name: 449, dtype: int64"
   ]
  },
  {
   "cell_type": "markdown",
   "id": "e80de81a",
   "metadata": {},
   "source": [
    "nombre_infected       689\n",
    "nombre_sain          2350\n",
    "nombre_exposed        428\n",
    "nombre_recovered    16533\n",
    "Name: 450, dtype: int64"
   ]
  },
  {
   "cell_type": "markdown",
   "id": "05519a3c",
   "metadata": {},
   "source": [
    "nombre_infected       693\n",
    "nombre_sain          2372\n",
    "nombre_exposed        424\n",
    "nombre_recovered    16511\n",
    "Name: 451, dtype: int64"
   ]
  },
  {
   "cell_type": "markdown",
   "id": "ea0ff334",
   "metadata": {},
   "source": [
    "nombre_infected       704\n",
    "nombre_sain          2407\n",
    "nombre_exposed        424\n",
    "nombre_recovered    16465\n",
    "Name: 452, dtype: int64"
   ]
  },
  {
   "cell_type": "markdown",
   "id": "4b989e49",
   "metadata": {},
   "source": [
    "nombre_infected       702\n",
    "nombre_sain          2387\n",
    "nombre_exposed        449\n",
    "nombre_recovered    16462\n",
    "Name: 453, dtype: int64"
   ]
  },
  {
   "cell_type": "markdown",
   "id": "bbb1d857",
   "metadata": {},
   "source": [
    "nombre_infected       706\n",
    "nombre_sain          2394\n",
    "nombre_exposed        459\n",
    "nombre_recovered    16441\n",
    "Name: 454, dtype: int64"
   ]
  },
  {
   "cell_type": "markdown",
   "id": "2ce3259c",
   "metadata": {},
   "source": [
    "nombre_infected       712\n",
    "nombre_sain          2380\n",
    "nombre_exposed        471\n",
    "nombre_recovered    16437\n",
    "Name: 455, dtype: int64"
   ]
  },
  {
   "cell_type": "markdown",
   "id": "803adbe8",
   "metadata": {},
   "source": [
    "nombre_infected       724\n",
    "nombre_sain          2389\n",
    "nombre_exposed        485\n",
    "nombre_recovered    16402\n",
    "Name: 456, dtype: int64"
   ]
  },
  {
   "cell_type": "markdown",
   "id": "826a73ae",
   "metadata": {},
   "source": [
    "nombre_infected       742\n",
    "nombre_sain          2380\n",
    "nombre_exposed        479\n",
    "nombre_recovered    16399\n",
    "Name: 457, dtype: int64"
   ]
  },
  {
   "cell_type": "markdown",
   "id": "ec98cf33",
   "metadata": {},
   "source": [
    "nombre_infected       720\n",
    "nombre_sain          2387\n",
    "nombre_exposed        487\n",
    "nombre_recovered    16406\n",
    "Name: 458, dtype: int64"
   ]
  },
  {
   "cell_type": "markdown",
   "id": "2b89e4d9",
   "metadata": {},
   "source": [
    "nombre_infected       724\n",
    "nombre_sain          2377\n",
    "nombre_exposed        485\n",
    "nombre_recovered    16414\n",
    "Name: 459, dtype: int64"
   ]
  },
  {
   "cell_type": "markdown",
   "id": "7c568d21",
   "metadata": {},
   "source": [
    "nombre_infected       742\n",
    "nombre_sain          2370\n",
    "nombre_exposed        475\n",
    "nombre_recovered    16413\n",
    "Name: 460, dtype: int64"
   ]
  },
  {
   "cell_type": "markdown",
   "id": "540a98c0",
   "metadata": {},
   "source": [
    "nombre_infected       730\n",
    "nombre_sain          2370\n",
    "nombre_exposed        487\n",
    "nombre_recovered    16413\n",
    "Name: 461, dtype: int64"
   ]
  },
  {
   "cell_type": "markdown",
   "id": "7f2504a5",
   "metadata": {},
   "source": [
    "nombre_infected       743\n",
    "nombre_sain          2382\n",
    "nombre_exposed        481\n",
    "nombre_recovered    16394\n",
    "Name: 462, dtype: int64"
   ]
  },
  {
   "cell_type": "markdown",
   "id": "51be654c",
   "metadata": {},
   "source": [
    "nombre_infected       735\n",
    "nombre_sain          2369\n",
    "nombre_exposed        497\n",
    "nombre_recovered    16399\n",
    "Name: 463, dtype: int64"
   ]
  },
  {
   "cell_type": "markdown",
   "id": "29e8446a",
   "metadata": {},
   "source": [
    "nombre_infected       744\n",
    "nombre_sain          2360\n",
    "nombre_exposed        490\n",
    "nombre_recovered    16406\n",
    "Name: 464, dtype: int64"
   ]
  },
  {
   "cell_type": "markdown",
   "id": "ff2e3fc2",
   "metadata": {},
   "source": [
    "nombre_infected       758\n",
    "nombre_sain          2376\n",
    "nombre_exposed        477\n",
    "nombre_recovered    16389\n",
    "Name: 465, dtype: int64"
   ]
  },
  {
   "cell_type": "markdown",
   "id": "655d33e5",
   "metadata": {},
   "source": [
    "nombre_infected       761\n",
    "nombre_sain          2353\n",
    "nombre_exposed        473\n",
    "nombre_recovered    16413\n",
    "Name: 466, dtype: int64"
   ]
  },
  {
   "cell_type": "markdown",
   "id": "de796bb2",
   "metadata": {},
   "source": [
    "nombre_infected       750\n",
    "nombre_sain          2359\n",
    "nombre_exposed        473\n",
    "nombre_recovered    16418\n",
    "Name: 467, dtype: int64"
   ]
  },
  {
   "cell_type": "markdown",
   "id": "42f7d254",
   "metadata": {},
   "source": [
    "nombre_infected       758\n",
    "nombre_sain          2353\n",
    "nombre_exposed        485\n",
    "nombre_recovered    16404\n",
    "Name: 468, dtype: int64"
   ]
  },
  {
   "cell_type": "markdown",
   "id": "9502c155",
   "metadata": {},
   "source": [
    "nombre_infected       751\n",
    "nombre_sain          2350\n",
    "nombre_exposed        510\n",
    "nombre_recovered    16389\n",
    "Name: 469, dtype: int64"
   ]
  },
  {
   "cell_type": "markdown",
   "id": "b90763c6",
   "metadata": {},
   "source": [
    "nombre_infected       751\n",
    "nombre_sain          2363\n",
    "nombre_exposed        512\n",
    "nombre_recovered    16374\n",
    "Name: 470, dtype: int64"
   ]
  },
  {
   "cell_type": "markdown",
   "id": "80506958",
   "metadata": {},
   "source": [
    "nombre_infected       756\n",
    "nombre_sain          2354\n",
    "nombre_exposed        502\n",
    "nombre_recovered    16388\n",
    "Name: 471, dtype: int64"
   ]
  },
  {
   "cell_type": "markdown",
   "id": "26d8f9da",
   "metadata": {},
   "source": [
    "nombre_infected       769\n",
    "nombre_sain          2367\n",
    "nombre_exposed        500\n",
    "nombre_recovered    16364\n",
    "Name: 472, dtype: int64"
   ]
  },
  {
   "cell_type": "markdown",
   "id": "ae3ea717",
   "metadata": {},
   "source": [
    "nombre_infected       763\n",
    "nombre_sain          2382\n",
    "nombre_exposed        498\n",
    "nombre_recovered    16357\n",
    "Name: 473, dtype: int64"
   ]
  },
  {
   "cell_type": "markdown",
   "id": "b04d2aab",
   "metadata": {},
   "source": [
    "nombre_infected       788\n",
    "nombre_sain          2372\n",
    "nombre_exposed        490\n",
    "nombre_recovered    16350\n",
    "Name: 474, dtype: int64"
   ]
  },
  {
   "cell_type": "markdown",
   "id": "05c8967e",
   "metadata": {},
   "source": [
    "nombre_infected       781\n",
    "nombre_sain          2382\n",
    "nombre_exposed        504\n",
    "nombre_recovered    16333\n",
    "Name: 475, dtype: int64"
   ]
  },
  {
   "cell_type": "markdown",
   "id": "c254891c",
   "metadata": {},
   "source": [
    "nombre_infected       788\n",
    "nombre_sain          2352\n",
    "nombre_exposed        516\n",
    "nombre_recovered    16344\n",
    "Name: 476, dtype: int64"
   ]
  },
  {
   "cell_type": "markdown",
   "id": "2a32406c",
   "metadata": {},
   "source": [
    "nombre_infected       777\n",
    "nombre_sain          2342\n",
    "nombre_exposed        535\n",
    "nombre_recovered    16346\n",
    "Name: 477, dtype: int64"
   ]
  },
  {
   "cell_type": "markdown",
   "id": "18d9c26e",
   "metadata": {},
   "source": [
    "nombre_infected       781\n",
    "nombre_sain          2343\n",
    "nombre_exposed        524\n",
    "nombre_recovered    16352\n",
    "Name: 478, dtype: int64"
   ]
  },
  {
   "cell_type": "markdown",
   "id": "29cd97e8",
   "metadata": {},
   "source": [
    "nombre_infected       791\n",
    "nombre_sain          2342\n",
    "nombre_exposed        529\n",
    "nombre_recovered    16338\n",
    "Name: 479, dtype: int64"
   ]
  },
  {
   "cell_type": "markdown",
   "id": "db256305",
   "metadata": {},
   "source": [
    "nombre_infected       782\n",
    "nombre_sain          2346\n",
    "nombre_exposed        527\n",
    "nombre_recovered    16345\n",
    "Name: 480, dtype: int64"
   ]
  },
  {
   "cell_type": "markdown",
   "id": "525df204",
   "metadata": {},
   "source": [
    "nombre_infected       813\n",
    "nombre_sain          2339\n",
    "nombre_exposed        509\n",
    "nombre_recovered    16339\n",
    "Name: 481, dtype: int64"
   ]
  },
  {
   "cell_type": "markdown",
   "id": "66517afe",
   "metadata": {},
   "source": [
    "nombre_infected       817\n",
    "nombre_sain          2308\n",
    "nombre_exposed        522\n",
    "nombre_recovered    16353\n",
    "Name: 482, dtype: int64"
   ]
  },
  {
   "cell_type": "markdown",
   "id": "e401834d",
   "metadata": {},
   "source": [
    "nombre_infected       813\n",
    "nombre_sain          2298\n",
    "nombre_exposed        511\n",
    "nombre_recovered    16378\n",
    "Name: 483, dtype: int64"
   ]
  },
  {
   "cell_type": "markdown",
   "id": "5cc9f701",
   "metadata": {},
   "source": [
    "nombre_infected       831\n",
    "nombre_sain          2312\n",
    "nombre_exposed        512\n",
    "nombre_recovered    16345\n",
    "Name: 484, dtype: int64"
   ]
  },
  {
   "cell_type": "markdown",
   "id": "7b7a69a4",
   "metadata": {},
   "source": [
    "nombre_infected       846\n",
    "nombre_sain          2305\n",
    "nombre_exposed        504\n",
    "nombre_recovered    16345\n",
    "Name: 485, dtype: int64"
   ]
  },
  {
   "cell_type": "markdown",
   "id": "d63d4af8",
   "metadata": {},
   "source": [
    "nombre_infected       829\n",
    "nombre_sain          2294\n",
    "nombre_exposed        516\n",
    "nombre_recovered    16361\n",
    "Name: 486, dtype: int64"
   ]
  },
  {
   "cell_type": "markdown",
   "id": "4c928f81",
   "metadata": {},
   "source": [
    "nombre_infected       856\n",
    "nombre_sain          2284\n",
    "nombre_exposed        500\n",
    "nombre_recovered    16360\n",
    "Name: 487, dtype: int64"
   ]
  },
  {
   "cell_type": "markdown",
   "id": "ac4aef0e",
   "metadata": {},
   "source": [
    "nombre_infected       863\n",
    "nombre_sain          2283\n",
    "nombre_exposed        510\n",
    "nombre_recovered    16344\n",
    "Name: 488, dtype: int64"
   ]
  },
  {
   "cell_type": "markdown",
   "id": "c28c68a8",
   "metadata": {},
   "source": [
    "nombre_infected       861\n",
    "nombre_sain          2238\n",
    "nombre_exposed        522\n",
    "nombre_recovered    16379\n",
    "Name: 489, dtype: int64"
   ]
  },
  {
   "cell_type": "markdown",
   "id": "6ce7d847",
   "metadata": {},
   "source": [
    "nombre_infected       837\n",
    "nombre_sain          2234\n",
    "nombre_exposed        525\n",
    "nombre_recovered    16404\n",
    "Name: 490, dtype: int64"
   ]
  },
  {
   "cell_type": "markdown",
   "id": "417b1bb9",
   "metadata": {},
   "source": [
    "nombre_infected       847\n",
    "nombre_sain          2205\n",
    "nombre_exposed        523\n",
    "nombre_recovered    16425\n",
    "Name: 491, dtype: int64"
   ]
  },
  {
   "cell_type": "markdown",
   "id": "9ea7a51f",
   "metadata": {},
   "source": [
    "nombre_infected       854\n",
    "nombre_sain          2208\n",
    "nombre_exposed        525\n",
    "nombre_recovered    16413\n",
    "Name: 492, dtype: int64"
   ]
  },
  {
   "cell_type": "markdown",
   "id": "dac36250",
   "metadata": {},
   "source": [
    "nombre_infected       859\n",
    "nombre_sain          2201\n",
    "nombre_exposed        543\n",
    "nombre_recovered    16397\n",
    "Name: 493, dtype: int64"
   ]
  },
  {
   "cell_type": "markdown",
   "id": "d26c8c39",
   "metadata": {},
   "source": [
    "nombre_infected       874\n",
    "nombre_sain          2178\n",
    "nombre_exposed        536\n",
    "nombre_recovered    16412\n",
    "Name: 494, dtype: int64"
   ]
  },
  {
   "cell_type": "markdown",
   "id": "041484d7",
   "metadata": {},
   "source": [
    "nombre_infected       890\n",
    "nombre_sain          2168\n",
    "nombre_exposed        536\n",
    "nombre_recovered    16406\n",
    "Name: 495, dtype: int64"
   ]
  },
  {
   "cell_type": "markdown",
   "id": "f1ef6330",
   "metadata": {},
   "source": [
    "nombre_infected       921\n",
    "nombre_sain          2157\n",
    "nombre_exposed        517\n",
    "nombre_recovered    16405\n",
    "Name: 496, dtype: int64"
   ]
  },
  {
   "cell_type": "markdown",
   "id": "a552292f",
   "metadata": {},
   "source": [
    "nombre_infected       933\n",
    "nombre_sain          2159\n",
    "nombre_exposed        508\n",
    "nombre_recovered    16400\n",
    "Name: 497, dtype: int64"
   ]
  },
  {
   "cell_type": "markdown",
   "id": "a9ca617b",
   "metadata": {},
   "source": [
    "nombre_infected       940\n",
    "nombre_sain          2123\n",
    "nombre_exposed        526\n",
    "nombre_recovered    16411\n",
    "Name: 498, dtype: int64"
   ]
  },
  {
   "cell_type": "markdown",
   "id": "6ba4a44a",
   "metadata": {},
   "source": [
    "nombre_infected       933\n",
    "nombre_sain          2101\n",
    "nombre_exposed        537\n",
    "nombre_recovered    16429\n",
    "Name: 499, dtype: int64"
   ]
  },
  {
   "cell_type": "markdown",
   "id": "4c1d0374",
   "metadata": {},
   "source": [
    "nombre_infected       948\n",
    "nombre_sain          2132\n",
    "nombre_exposed        515\n",
    "nombre_recovered    16405\n",
    "Name: 500, dtype: int64"
   ]
  },
  {
   "cell_type": "markdown",
   "id": "6900769f",
   "metadata": {},
   "source": [
    "nombre_infected       931\n",
    "nombre_sain          2139\n",
    "nombre_exposed        529\n",
    "nombre_recovered    16401\n",
    "Name: 501, dtype: int64"
   ]
  },
  {
   "cell_type": "markdown",
   "id": "320ec0b8",
   "metadata": {},
   "source": [
    "nombre_infected       918\n",
    "nombre_sain          2141\n",
    "nombre_exposed        526\n",
    "nombre_recovered    16415\n",
    "Name: 502, dtype: int64"
   ]
  },
  {
   "cell_type": "markdown",
   "id": "ab7c0d1b",
   "metadata": {},
   "source": [
    "nombre_infected       928\n",
    "nombre_sain          2140\n",
    "nombre_exposed        514\n",
    "nombre_recovered    16418\n",
    "Name: 503, dtype: int64"
   ]
  },
  {
   "cell_type": "markdown",
   "id": "3e1a459b",
   "metadata": {},
   "source": [
    "nombre_infected       949\n",
    "nombre_sain          2117\n",
    "nombre_exposed        518\n",
    "nombre_recovered    16416\n",
    "Name: 504, dtype: int64"
   ]
  },
  {
   "cell_type": "markdown",
   "id": "c0980114",
   "metadata": {},
   "source": [
    "nombre_infected       926\n",
    "nombre_sain          2112\n",
    "nombre_exposed        536\n",
    "nombre_recovered    16426\n",
    "Name: 505, dtype: int64"
   ]
  },
  {
   "cell_type": "markdown",
   "id": "6b3859a5",
   "metadata": {},
   "source": [
    "nombre_infected       930\n",
    "nombre_sain          2108\n",
    "nombre_exposed        513\n",
    "nombre_recovered    16449\n",
    "Name: 506, dtype: int64"
   ]
  },
  {
   "cell_type": "markdown",
   "id": "3357c588",
   "metadata": {},
   "source": [
    "nombre_infected       941\n",
    "nombre_sain          2090\n",
    "nombre_exposed        516\n",
    "nombre_recovered    16453\n",
    "Name: 507, dtype: int64"
   ]
  },
  {
   "cell_type": "markdown",
   "id": "e861eada",
   "metadata": {},
   "source": [
    "nombre_infected       952\n",
    "nombre_sain          2076\n",
    "nombre_exposed        527\n",
    "nombre_recovered    16445\n",
    "Name: 508, dtype: int64"
   ]
  },
  {
   "cell_type": "markdown",
   "id": "74259f1d",
   "metadata": {},
   "source": [
    "nombre_infected       945\n",
    "nombre_sain          2074\n",
    "nombre_exposed        535\n",
    "nombre_recovered    16446\n",
    "Name: 509, dtype: int64"
   ]
  },
  {
   "cell_type": "markdown",
   "id": "5ecc2c9c",
   "metadata": {},
   "source": [
    "nombre_infected       931\n",
    "nombre_sain          2087\n",
    "nombre_exposed        533\n",
    "nombre_recovered    16449\n",
    "Name: 510, dtype: int64"
   ]
  },
  {
   "cell_type": "markdown",
   "id": "361499e2",
   "metadata": {},
   "source": [
    "nombre_infected       923\n",
    "nombre_sain          2090\n",
    "nombre_exposed        548\n",
    "nombre_recovered    16439\n",
    "Name: 511, dtype: int64"
   ]
  },
  {
   "cell_type": "markdown",
   "id": "7d0e23d4",
   "metadata": {},
   "source": [
    "nombre_infected       933\n",
    "nombre_sain          2084\n",
    "nombre_exposed        536\n",
    "nombre_recovered    16447\n",
    "Name: 512, dtype: int64"
   ]
  },
  {
   "cell_type": "markdown",
   "id": "64550992",
   "metadata": {},
   "source": [
    "nombre_infected       929\n",
    "nombre_sain          2053\n",
    "nombre_exposed        538\n",
    "nombre_recovered    16480\n",
    "Name: 513, dtype: int64"
   ]
  },
  {
   "cell_type": "markdown",
   "id": "720db071",
   "metadata": {},
   "source": [
    "nombre_infected       905\n",
    "nombre_sain          2062\n",
    "nombre_exposed        545\n",
    "nombre_recovered    16488\n",
    "Name: 514, dtype: int64"
   ]
  },
  {
   "cell_type": "markdown",
   "id": "fc84b2a9",
   "metadata": {},
   "source": [
    "nombre_infected       915\n",
    "nombre_sain          2044\n",
    "nombre_exposed        544\n",
    "nombre_recovered    16497\n",
    "Name: 515, dtype: int64"
   ]
  },
  {
   "cell_type": "markdown",
   "id": "5f55cdda",
   "metadata": {},
   "source": [
    "nombre_infected       915\n",
    "nombre_sain          2056\n",
    "nombre_exposed        536\n",
    "nombre_recovered    16493\n",
    "Name: 516, dtype: int64"
   ]
  },
  {
   "cell_type": "markdown",
   "id": "1570c3d9",
   "metadata": {},
   "source": [
    "nombre_infected       918\n",
    "nombre_sain          2090\n",
    "nombre_exposed        520\n",
    "nombre_recovered    16472\n",
    "Name: 517, dtype: int64"
   ]
  },
  {
   "cell_type": "markdown",
   "id": "000a6cde",
   "metadata": {},
   "source": [
    "nombre_infected       906\n",
    "nombre_sain          2084\n",
    "nombre_exposed        524\n",
    "nombre_recovered    16486\n",
    "Name: 518, dtype: int64"
   ]
  },
  {
   "cell_type": "markdown",
   "id": "524fcc60",
   "metadata": {},
   "source": [
    "nombre_infected       905\n",
    "nombre_sain          2071\n",
    "nombre_exposed        526\n",
    "nombre_recovered    16498\n",
    "Name: 519, dtype: int64"
   ]
  },
  {
   "cell_type": "markdown",
   "id": "809f9215",
   "metadata": {},
   "source": [
    "nombre_infected       916\n",
    "nombre_sain          2081\n",
    "nombre_exposed        504\n",
    "nombre_recovered    16499\n",
    "Name: 520, dtype: int64"
   ]
  },
  {
   "cell_type": "markdown",
   "id": "71d3e229",
   "metadata": {},
   "source": [
    "nombre_infected       916\n",
    "nombre_sain          2084\n",
    "nombre_exposed        504\n",
    "nombre_recovered    16496\n",
    "Name: 521, dtype: int64"
   ]
  },
  {
   "cell_type": "markdown",
   "id": "1c3ff162",
   "metadata": {},
   "source": [
    "nombre_infected       895\n",
    "nombre_sain          2107\n",
    "nombre_exposed        510\n",
    "nombre_recovered    16488\n",
    "Name: 522, dtype: int64"
   ]
  },
  {
   "cell_type": "markdown",
   "id": "95eff780",
   "metadata": {},
   "source": [
    "nombre_infected       891\n",
    "nombre_sain          2098\n",
    "nombre_exposed        522\n",
    "nombre_recovered    16489\n",
    "Name: 523, dtype: int64"
   ]
  },
  {
   "cell_type": "markdown",
   "id": "abf1765f",
   "metadata": {},
   "source": [
    "nombre_infected       873\n",
    "nombre_sain          2081\n",
    "nombre_exposed        527\n",
    "nombre_recovered    16519\n",
    "Name: 524, dtype: int64"
   ]
  },
  {
   "cell_type": "markdown",
   "id": "5881ab06",
   "metadata": {},
   "source": [
    "nombre_infected       880\n",
    "nombre_sain          2094\n",
    "nombre_exposed        525\n",
    "nombre_recovered    16501\n",
    "Name: 525, dtype: int64"
   ]
  },
  {
   "cell_type": "markdown",
   "id": "9b66a367",
   "metadata": {},
   "source": [
    "nombre_infected       879\n",
    "nombre_sain          2104\n",
    "nombre_exposed        523\n",
    "nombre_recovered    16494\n",
    "Name: 526, dtype: int64"
   ]
  },
  {
   "cell_type": "markdown",
   "id": "537ae67c",
   "metadata": {},
   "source": [
    "nombre_infected       865\n",
    "nombre_sain          2111\n",
    "nombre_exposed        535\n",
    "nombre_recovered    16489\n",
    "Name: 527, dtype: int64"
   ]
  },
  {
   "cell_type": "markdown",
   "id": "bc0c4244",
   "metadata": {},
   "source": [
    "nombre_infected       872\n",
    "nombre_sain          2108\n",
    "nombre_exposed        523\n",
    "nombre_recovered    16497\n",
    "Name: 528, dtype: int64"
   ]
  },
  {
   "cell_type": "markdown",
   "id": "bc5d1cc9",
   "metadata": {},
   "source": [
    "nombre_infected       863\n",
    "nombre_sain          2122\n",
    "nombre_exposed        524\n",
    "nombre_recovered    16491\n",
    "Name: 529, dtype: int64"
   ]
  },
  {
   "cell_type": "markdown",
   "id": "57948d5b",
   "metadata": {},
   "source": [
    "nombre_infected       871\n",
    "nombre_sain          2122\n",
    "nombre_exposed        517\n",
    "nombre_recovered    16490\n",
    "Name: 530, dtype: int64"
   ]
  },
  {
   "cell_type": "markdown",
   "id": "11fc6766",
   "metadata": {},
   "source": [
    "nombre_infected       888\n",
    "nombre_sain          2126\n",
    "nombre_exposed        508\n",
    "nombre_recovered    16478\n",
    "Name: 531, dtype: int64"
   ]
  },
  {
   "cell_type": "markdown",
   "id": "9e97ab70",
   "metadata": {},
   "source": [
    "nombre_infected       873\n",
    "nombre_sain          2111\n",
    "nombre_exposed        521\n",
    "nombre_recovered    16495\n",
    "Name: 532, dtype: int64"
   ]
  },
  {
   "cell_type": "markdown",
   "id": "dec1de5d",
   "metadata": {},
   "source": [
    "nombre_infected       876\n",
    "nombre_sain          2102\n",
    "nombre_exposed        509\n",
    "nombre_recovered    16513\n",
    "Name: 533, dtype: int64"
   ]
  },
  {
   "cell_type": "markdown",
   "id": "3ec4cf27",
   "metadata": {},
   "source": [
    "nombre_infected       884\n",
    "nombre_sain          2081\n",
    "nombre_exposed        498\n",
    "nombre_recovered    16537\n",
    "Name: 534, dtype: int64"
   ]
  },
  {
   "cell_type": "markdown",
   "id": "3d2bd9cf",
   "metadata": {},
   "source": [
    "nombre_infected       884\n",
    "nombre_sain          2067\n",
    "nombre_exposed        520\n",
    "nombre_recovered    16529\n",
    "Name: 535, dtype: int64"
   ]
  },
  {
   "cell_type": "markdown",
   "id": "0d61fb96",
   "metadata": {},
   "source": [
    "nombre_infected       875\n",
    "nombre_sain          2043\n",
    "nombre_exposed        517\n",
    "nombre_recovered    16565\n",
    "Name: 536, dtype: int64"
   ]
  },
  {
   "cell_type": "markdown",
   "id": "8e34efe8",
   "metadata": {},
   "source": [
    "nombre_infected       844\n",
    "nombre_sain          2039\n",
    "nombre_exposed        527\n",
    "nombre_recovered    16590\n",
    "Name: 537, dtype: int64"
   ]
  },
  {
   "cell_type": "markdown",
   "id": "0b1647f4",
   "metadata": {},
   "source": [
    "nombre_infected       863\n",
    "nombre_sain          2026\n",
    "nombre_exposed        536\n",
    "nombre_recovered    16575\n",
    "Name: 538, dtype: int64"
   ]
  },
  {
   "cell_type": "markdown",
   "id": "b085f94c",
   "metadata": {},
   "source": [
    "nombre_infected       873\n",
    "nombre_sain          2021\n",
    "nombre_exposed        546\n",
    "nombre_recovered    16560\n",
    "Name: 539, dtype: int64"
   ]
  },
  {
   "cell_type": "markdown",
   "id": "99ea05ea",
   "metadata": {},
   "source": [
    "nombre_infected       898\n",
    "nombre_sain          2036\n",
    "nombre_exposed        502\n",
    "nombre_recovered    16564\n",
    "Name: 540, dtype: int64"
   ]
  },
  {
   "cell_type": "markdown",
   "id": "60119133",
   "metadata": {},
   "source": [
    "nombre_infected       900\n",
    "nombre_sain          2038\n",
    "nombre_exposed        480\n",
    "nombre_recovered    16582\n",
    "Name: 541, dtype: int64"
   ]
  },
  {
   "cell_type": "markdown",
   "id": "4a7712e8",
   "metadata": {},
   "source": [
    "nombre_infected       882\n",
    "nombre_sain          2019\n",
    "nombre_exposed        509\n",
    "nombre_recovered    16590\n",
    "Name: 542, dtype: int64"
   ]
  },
  {
   "cell_type": "markdown",
   "id": "76094572",
   "metadata": {},
   "source": [
    "nombre_infected       879\n",
    "nombre_sain          2016\n",
    "nombre_exposed        515\n",
    "nombre_recovered    16590\n",
    "Name: 543, dtype: int64"
   ]
  },
  {
   "cell_type": "markdown",
   "id": "69e142b8",
   "metadata": {},
   "source": [
    "nombre_infected       855\n",
    "nombre_sain          2019\n",
    "nombre_exposed        512\n",
    "nombre_recovered    16614\n",
    "Name: 544, dtype: int64"
   ]
  },
  {
   "cell_type": "markdown",
   "id": "5b421af0",
   "metadata": {},
   "source": [
    "nombre_infected       861\n",
    "nombre_sain          2014\n",
    "nombre_exposed        506\n",
    "nombre_recovered    16619\n",
    "Name: 545, dtype: int64"
   ]
  },
  {
   "cell_type": "markdown",
   "id": "81d8e017",
   "metadata": {},
   "source": [
    "nombre_infected       876\n",
    "nombre_sain          2008\n",
    "nombre_exposed        505\n",
    "nombre_recovered    16611\n",
    "Name: 546, dtype: int64"
   ]
  },
  {
   "cell_type": "markdown",
   "id": "63402de9",
   "metadata": {},
   "source": [
    "nombre_infected       867\n",
    "nombre_sain          2010\n",
    "nombre_exposed        495\n",
    "nombre_recovered    16628\n",
    "Name: 547, dtype: int64"
   ]
  },
  {
   "cell_type": "markdown",
   "id": "29a0c45e",
   "metadata": {},
   "source": [
    "nombre_infected       888\n",
    "nombre_sain          2001\n",
    "nombre_exposed        493\n",
    "nombre_recovered    16618\n",
    "Name: 548, dtype: int64"
   ]
  },
  {
   "cell_type": "markdown",
   "id": "ffe9f12a",
   "metadata": {},
   "source": [
    "nombre_infected       908\n",
    "nombre_sain          1999\n",
    "nombre_exposed        473\n",
    "nombre_recovered    16620\n",
    "Name: 549, dtype: int64"
   ]
  },
  {
   "cell_type": "markdown",
   "id": "a02a6810",
   "metadata": {},
   "source": [
    "nombre_infected       905\n",
    "nombre_sain          2018\n",
    "nombre_exposed        458\n",
    "nombre_recovered    16619\n",
    "Name: 550, dtype: int64"
   ]
  },
  {
   "cell_type": "markdown",
   "id": "a345c908",
   "metadata": {},
   "source": [
    "nombre_infected       885\n",
    "nombre_sain          2019\n",
    "nombre_exposed        460\n",
    "nombre_recovered    16636\n",
    "Name: 551, dtype: int64"
   ]
  },
  {
   "cell_type": "markdown",
   "id": "6cfe807b",
   "metadata": {},
   "source": [
    "nombre_infected       866\n",
    "nombre_sain          2017\n",
    "nombre_exposed        455\n",
    "nombre_recovered    16662\n",
    "Name: 552, dtype: int64"
   ]
  },
  {
   "cell_type": "markdown",
   "id": "63cf01a8",
   "metadata": {},
   "source": [
    "nombre_infected       866\n",
    "nombre_sain          2049\n",
    "nombre_exposed        456\n",
    "nombre_recovered    16629\n",
    "Name: 553, dtype: int64"
   ]
  },
  {
   "cell_type": "markdown",
   "id": "bc944ae0",
   "metadata": {},
   "source": [
    "nombre_infected       850\n",
    "nombre_sain          2043\n",
    "nombre_exposed        469\n",
    "nombre_recovered    16638\n",
    "Name: 554, dtype: int64"
   ]
  },
  {
   "cell_type": "markdown",
   "id": "977779ae",
   "metadata": {},
   "source": [
    "nombre_infected       855\n",
    "nombre_sain          2051\n",
    "nombre_exposed        463\n",
    "nombre_recovered    16631\n",
    "Name: 555, dtype: int64"
   ]
  },
  {
   "cell_type": "markdown",
   "id": "12bbbe4a",
   "metadata": {},
   "source": [
    "nombre_infected       850\n",
    "nombre_sain          2069\n",
    "nombre_exposed        487\n",
    "nombre_recovered    16594\n",
    "Name: 556, dtype: int64"
   ]
  },
  {
   "cell_type": "markdown",
   "id": "c0025360",
   "metadata": {},
   "source": [
    "nombre_infected       849\n",
    "nombre_sain          2070\n",
    "nombre_exposed        485\n",
    "nombre_recovered    16596\n",
    "Name: 557, dtype: int64"
   ]
  },
  {
   "cell_type": "markdown",
   "id": "7c816236",
   "metadata": {},
   "source": [
    "nombre_infected       853\n",
    "nombre_sain          2082\n",
    "nombre_exposed        488\n",
    "nombre_recovered    16577\n",
    "Name: 558, dtype: int64"
   ]
  },
  {
   "cell_type": "markdown",
   "id": "55693fdd",
   "metadata": {},
   "source": [
    "nombre_infected       840\n",
    "nombre_sain          2103\n",
    "nombre_exposed        484\n",
    "nombre_recovered    16573\n",
    "Name: 559, dtype: int64"
   ]
  },
  {
   "cell_type": "markdown",
   "id": "bd010e9d",
   "metadata": {},
   "source": [
    "nombre_infected       821\n",
    "nombre_sain          2129\n",
    "nombre_exposed        476\n",
    "nombre_recovered    16574\n",
    "Name: 560, dtype: int64"
   ]
  },
  {
   "cell_type": "markdown",
   "id": "df13a294",
   "metadata": {},
   "source": [
    "nombre_infected       806\n",
    "nombre_sain          2149\n",
    "nombre_exposed        479\n",
    "nombre_recovered    16566\n",
    "Name: 561, dtype: int64"
   ]
  },
  {
   "cell_type": "markdown",
   "id": "c1b858d2",
   "metadata": {},
   "source": [
    "nombre_infected       794\n",
    "nombre_sain          2138\n",
    "nombre_exposed        503\n",
    "nombre_recovered    16565\n",
    "Name: 562, dtype: int64"
   ]
  },
  {
   "cell_type": "markdown",
   "id": "7dd93b4b",
   "metadata": {},
   "source": [
    "nombre_infected       811\n",
    "nombre_sain          2139\n",
    "nombre_exposed        511\n",
    "nombre_recovered    16539\n",
    "Name: 563, dtype: int64"
   ]
  },
  {
   "cell_type": "markdown",
   "id": "a175455c",
   "metadata": {},
   "source": [
    "nombre_infected       826\n",
    "nombre_sain          2151\n",
    "nombre_exposed        505\n",
    "nombre_recovered    16518\n",
    "Name: 564, dtype: int64"
   ]
  },
  {
   "cell_type": "markdown",
   "id": "12a84d8d",
   "metadata": {},
   "source": [
    "nombre_infected       845\n",
    "nombre_sain          2141\n",
    "nombre_exposed        504\n",
    "nombre_recovered    16510\n",
    "Name: 565, dtype: int64"
   ]
  },
  {
   "cell_type": "markdown",
   "id": "f3ba2c87",
   "metadata": {},
   "source": [
    "nombre_infected       822\n",
    "nombre_sain          2145\n",
    "nombre_exposed        516\n",
    "nombre_recovered    16517\n",
    "Name: 566, dtype: int64"
   ]
  },
  {
   "cell_type": "markdown",
   "id": "7bf28d22",
   "metadata": {},
   "source": [
    "nombre_infected       819\n",
    "nombre_sain          2138\n",
    "nombre_exposed        516\n",
    "nombre_recovered    16527\n",
    "Name: 567, dtype: int64"
   ]
  },
  {
   "cell_type": "markdown",
   "id": "6fa28291",
   "metadata": {},
   "source": [
    "nombre_infected       822\n",
    "nombre_sain          2147\n",
    "nombre_exposed        501\n",
    "nombre_recovered    16530\n",
    "Name: 568, dtype: int64"
   ]
  },
  {
   "cell_type": "markdown",
   "id": "aae96968",
   "metadata": {},
   "source": [
    "nombre_infected       803\n",
    "nombre_sain          2150\n",
    "nombre_exposed        509\n",
    "nombre_recovered    16538\n",
    "Name: 569, dtype: int64"
   ]
  },
  {
   "cell_type": "markdown",
   "id": "b40bc258",
   "metadata": {},
   "source": [
    "nombre_infected       806\n",
    "nombre_sain          2157\n",
    "nombre_exposed        512\n",
    "nombre_recovered    16525\n",
    "Name: 570, dtype: int64"
   ]
  },
  {
   "cell_type": "markdown",
   "id": "c3d22c2f",
   "metadata": {},
   "source": [
    "nombre_infected       833\n",
    "nombre_sain          2145\n",
    "nombre_exposed        511\n",
    "nombre_recovered    16511\n",
    "Name: 571, dtype: int64"
   ]
  },
  {
   "cell_type": "markdown",
   "id": "a3fc54e8",
   "metadata": {},
   "source": [
    "nombre_infected       825\n",
    "nombre_sain          2138\n",
    "nombre_exposed        506\n",
    "nombre_recovered    16531\n",
    "Name: 572, dtype: int64"
   ]
  },
  {
   "cell_type": "markdown",
   "id": "c1bd458b",
   "metadata": {},
   "source": [
    "nombre_infected       835\n",
    "nombre_sain          2155\n",
    "nombre_exposed        481\n",
    "nombre_recovered    16529\n",
    "Name: 573, dtype: int64"
   ]
  },
  {
   "cell_type": "markdown",
   "id": "abf28644",
   "metadata": {},
   "source": [
    "nombre_infected       853\n",
    "nombre_sain          2163\n",
    "nombre_exposed        469\n",
    "nombre_recovered    16515\n",
    "Name: 574, dtype: int64"
   ]
  },
  {
   "cell_type": "markdown",
   "id": "1943cba1",
   "metadata": {},
   "source": [
    "nombre_infected       832\n",
    "nombre_sain          2184\n",
    "nombre_exposed        459\n",
    "nombre_recovered    16525\n",
    "Name: 575, dtype: int64"
   ]
  },
  {
   "cell_type": "markdown",
   "id": "f344dec6",
   "metadata": {},
   "source": [
    "nombre_infected       796\n",
    "nombre_sain          2176\n",
    "nombre_exposed        471\n",
    "nombre_recovered    16557\n",
    "Name: 576, dtype: int64"
   ]
  },
  {
   "cell_type": "markdown",
   "id": "88bdc804",
   "metadata": {},
   "source": [
    "nombre_infected       796\n",
    "nombre_sain          2195\n",
    "nombre_exposed        455\n",
    "nombre_recovered    16554\n",
    "Name: 577, dtype: int64"
   ]
  },
  {
   "cell_type": "markdown",
   "id": "9222511c",
   "metadata": {},
   "source": [
    "nombre_infected       782\n",
    "nombre_sain          2210\n",
    "nombre_exposed        446\n",
    "nombre_recovered    16562\n",
    "Name: 578, dtype: int64"
   ]
  },
  {
   "cell_type": "markdown",
   "id": "e251af26",
   "metadata": {},
   "source": [
    "nombre_infected       755\n",
    "nombre_sain          2211\n",
    "nombre_exposed        463\n",
    "nombre_recovered    16571\n",
    "Name: 579, dtype: int64"
   ]
  },
  {
   "cell_type": "markdown",
   "id": "4bfe8130",
   "metadata": {},
   "source": [
    "nombre_infected       746\n",
    "nombre_sain          2226\n",
    "nombre_exposed        454\n",
    "nombre_recovered    16574\n",
    "Name: 580, dtype: int64"
   ]
  },
  {
   "cell_type": "markdown",
   "id": "6528b57f",
   "metadata": {},
   "source": [
    "nombre_infected       760\n",
    "nombre_sain          2253\n",
    "nombre_exposed        428\n",
    "nombre_recovered    16559\n",
    "Name: 581, dtype: int64"
   ]
  },
  {
   "cell_type": "markdown",
   "id": "55257be5",
   "metadata": {},
   "source": [
    "nombre_infected       774\n",
    "nombre_sain          2276\n",
    "nombre_exposed        434\n",
    "nombre_recovered    16516\n",
    "Name: 582, dtype: int64"
   ]
  },
  {
   "cell_type": "markdown",
   "id": "88e1aca9",
   "metadata": {},
   "source": [
    "nombre_infected       745\n",
    "nombre_sain          2268\n",
    "nombre_exposed        460\n",
    "nombre_recovered    16527\n",
    "Name: 583, dtype: int64"
   ]
  },
  {
   "cell_type": "markdown",
   "id": "93ca5318",
   "metadata": {},
   "source": [
    "nombre_infected       754\n",
    "nombre_sain          2261\n",
    "nombre_exposed        466\n",
    "nombre_recovered    16519\n",
    "Name: 584, dtype: int64"
   ]
  },
  {
   "cell_type": "markdown",
   "id": "96c5edff",
   "metadata": {},
   "source": [
    "nombre_infected       755\n",
    "nombre_sain          2284\n",
    "nombre_exposed        451\n",
    "nombre_recovered    16510\n",
    "Name: 585, dtype: int64"
   ]
  },
  {
   "cell_type": "markdown",
   "id": "fe73a702",
   "metadata": {},
   "source": [
    "nombre_infected       757\n",
    "nombre_sain          2299\n",
    "nombre_exposed        456\n",
    "nombre_recovered    16488\n",
    "Name: 586, dtype: int64"
   ]
  },
  {
   "cell_type": "markdown",
   "id": "d18f3811",
   "metadata": {},
   "source": [
    "nombre_infected       728\n",
    "nombre_sain          2343\n",
    "nombre_exposed        448\n",
    "nombre_recovered    16481\n",
    "Name: 587, dtype: int64"
   ]
  },
  {
   "cell_type": "markdown",
   "id": "16e3f112",
   "metadata": {},
   "source": [
    "nombre_infected       737\n",
    "nombre_sain          2344\n",
    "nombre_exposed        445\n",
    "nombre_recovered    16474\n",
    "Name: 588, dtype: int64"
   ]
  },
  {
   "cell_type": "markdown",
   "id": "67867ad3",
   "metadata": {},
   "source": [
    "nombre_infected       707\n",
    "nombre_sain          2353\n",
    "nombre_exposed        478\n",
    "nombre_recovered    16462\n",
    "Name: 589, dtype: int64"
   ]
  },
  {
   "cell_type": "markdown",
   "id": "634d6df6",
   "metadata": {},
   "source": [
    "nombre_infected       704\n",
    "nombre_sain          2382\n",
    "nombre_exposed        469\n",
    "nombre_recovered    16445\n",
    "Name: 590, dtype: int64"
   ]
  },
  {
   "cell_type": "markdown",
   "id": "eeb05359",
   "metadata": {},
   "source": [
    "nombre_infected       698\n",
    "nombre_sain          2384\n",
    "nombre_exposed        476\n",
    "nombre_recovered    16442\n",
    "Name: 591, dtype: int64"
   ]
  },
  {
   "cell_type": "markdown",
   "id": "22b1a1a0",
   "metadata": {},
   "source": [
    "nombre_infected       698\n",
    "nombre_sain          2385\n",
    "nombre_exposed        486\n",
    "nombre_recovered    16431\n",
    "Name: 592, dtype: int64"
   ]
  },
  {
   "cell_type": "markdown",
   "id": "c9261cac",
   "metadata": {},
   "source": [
    "nombre_infected       699\n",
    "nombre_sain          2367\n",
    "nombre_exposed        505\n",
    "nombre_recovered    16429\n",
    "Name: 593, dtype: int64"
   ]
  },
  {
   "cell_type": "markdown",
   "id": "6c139fa6",
   "metadata": {},
   "source": [
    "nombre_infected       717\n",
    "nombre_sain          2391\n",
    "nombre_exposed        491\n",
    "nombre_recovered    16401\n",
    "Name: 594, dtype: int64"
   ]
  },
  {
   "cell_type": "markdown",
   "id": "e0997235",
   "metadata": {},
   "source": [
    "nombre_infected       727\n",
    "nombre_sain          2415\n",
    "nombre_exposed        473\n",
    "nombre_recovered    16385\n",
    "Name: 595, dtype: int64"
   ]
  },
  {
   "cell_type": "markdown",
   "id": "1a6157a9",
   "metadata": {},
   "source": [
    "nombre_infected       737\n",
    "nombre_sain          2429\n",
    "nombre_exposed        477\n",
    "nombre_recovered    16357\n",
    "Name: 596, dtype: int64"
   ]
  },
  {
   "cell_type": "markdown",
   "id": "b8fce3cf",
   "metadata": {},
   "source": [
    "nombre_infected       735\n",
    "nombre_sain          2442\n",
    "nombre_exposed        483\n",
    "nombre_recovered    16340\n",
    "Name: 597, dtype: int64"
   ]
  },
  {
   "cell_type": "markdown",
   "id": "e2ec62c3",
   "metadata": {},
   "source": [
    "nombre_infected       725\n",
    "nombre_sain          2470\n",
    "nombre_exposed        455\n",
    "nombre_recovered    16350\n",
    "Name: 598, dtype: int64"
   ]
  },
  {
   "cell_type": "markdown",
   "id": "55bc8fe9",
   "metadata": {},
   "source": [
    "nombre_infected       742\n",
    "nombre_sain          2457\n",
    "nombre_exposed        475\n",
    "nombre_recovered    16326\n",
    "Name: 599, dtype: int64"
   ]
  },
  {
   "cell_type": "markdown",
   "id": "66fa1e87",
   "metadata": {},
   "source": [
    "nombre_infected       733\n",
    "nombre_sain          2447\n",
    "nombre_exposed        489\n",
    "nombre_recovered    16331\n",
    "Name: 600, dtype: int64"
   ]
  },
  {
   "cell_type": "markdown",
   "id": "eba3780e",
   "metadata": {},
   "source": [
    "nombre_infected       751\n",
    "nombre_sain          2463\n",
    "nombre_exposed        474\n",
    "nombre_recovered    16312\n",
    "Name: 601, dtype: int64"
   ]
  },
  {
   "cell_type": "markdown",
   "id": "d5d15955",
   "metadata": {},
   "source": [
    "nombre_infected       757\n",
    "nombre_sain          2468\n",
    "nombre_exposed        490\n",
    "nombre_recovered    16285\n",
    "Name: 602, dtype: int64"
   ]
  },
  {
   "cell_type": "markdown",
   "id": "7be9700b",
   "metadata": {},
   "source": [
    "nombre_infected       777\n",
    "nombre_sain          2489\n",
    "nombre_exposed        486\n",
    "nombre_recovered    16248\n",
    "Name: 603, dtype: int64"
   ]
  },
  {
   "cell_type": "markdown",
   "id": "6c722652",
   "metadata": {},
   "source": [
    "nombre_infected       791\n",
    "nombre_sain          2497\n",
    "nombre_exposed        488\n",
    "nombre_recovered    16224\n",
    "Name: 604, dtype: int64"
   ]
  },
  {
   "cell_type": "markdown",
   "id": "f7a744f6",
   "metadata": {},
   "source": [
    "nombre_infected       797\n",
    "nombre_sain          2496\n",
    "nombre_exposed        486\n",
    "nombre_recovered    16221\n",
    "Name: 605, dtype: int64"
   ]
  },
  {
   "cell_type": "markdown",
   "id": "4445e393",
   "metadata": {},
   "source": [
    "nombre_infected       782\n",
    "nombre_sain          2500\n",
    "nombre_exposed        495\n",
    "nombre_recovered    16223\n",
    "Name: 606, dtype: int64"
   ]
  },
  {
   "cell_type": "markdown",
   "id": "bd4aa3d2",
   "metadata": {},
   "source": [
    "nombre_infected       796\n",
    "nombre_sain          2497\n",
    "nombre_exposed        494\n",
    "nombre_recovered    16213\n",
    "Name: 607, dtype: int64"
   ]
  },
  {
   "cell_type": "markdown",
   "id": "cdb71e73",
   "metadata": {},
   "source": [
    "nombre_infected       787\n",
    "nombre_sain          2516\n",
    "nombre_exposed        507\n",
    "nombre_recovered    16190\n",
    "Name: 608, dtype: int64"
   ]
  },
  {
   "cell_type": "markdown",
   "id": "29091100",
   "metadata": {},
   "source": [
    "nombre_infected       794\n",
    "nombre_sain          2494\n",
    "nombre_exposed        511\n",
    "nombre_recovered    16201\n",
    "Name: 609, dtype: int64"
   ]
  },
  {
   "cell_type": "markdown",
   "id": "d86def99",
   "metadata": {},
   "source": [
    "nombre_infected       786\n",
    "nombre_sain          2497\n",
    "nombre_exposed        520\n",
    "nombre_recovered    16197\n",
    "Name: 610, dtype: int64"
   ]
  },
  {
   "cell_type": "markdown",
   "id": "374e2a52",
   "metadata": {},
   "source": [
    "nombre_infected       806\n",
    "nombre_sain          2482\n",
    "nombre_exposed        517\n",
    "nombre_recovered    16195\n",
    "Name: 611, dtype: int64"
   ]
  },
  {
   "cell_type": "markdown",
   "id": "d2c8a3e9",
   "metadata": {},
   "source": [
    "nombre_infected       823\n",
    "nombre_sain          2447\n",
    "nombre_exposed        537\n",
    "nombre_recovered    16193\n",
    "Name: 612, dtype: int64"
   ]
  },
  {
   "cell_type": "markdown",
   "id": "12dbc4e0",
   "metadata": {},
   "source": [
    "nombre_infected       829\n",
    "nombre_sain          2439\n",
    "nombre_exposed        538\n",
    "nombre_recovered    16194\n",
    "Name: 613, dtype: int64"
   ]
  },
  {
   "cell_type": "markdown",
   "id": "d5d9db63",
   "metadata": {},
   "source": [
    "nombre_infected       844\n",
    "nombre_sain          2443\n",
    "nombre_exposed        531\n",
    "nombre_recovered    16182\n",
    "Name: 614, dtype: int64"
   ]
  },
  {
   "cell_type": "markdown",
   "id": "cc711b01",
   "metadata": {},
   "source": [
    "nombre_infected       869\n",
    "nombre_sain          2431\n",
    "nombre_exposed        527\n",
    "nombre_recovered    16173\n",
    "Name: 615, dtype: int64"
   ]
  },
  {
   "cell_type": "markdown",
   "id": "0e018ba5",
   "metadata": {},
   "source": [
    "nombre_infected       875\n",
    "nombre_sain          2422\n",
    "nombre_exposed        525\n",
    "nombre_recovered    16178\n",
    "Name: 616, dtype: int64"
   ]
  },
  {
   "cell_type": "markdown",
   "id": "ff512c3f",
   "metadata": {},
   "source": [
    "nombre_infected       863\n",
    "nombre_sain          2403\n",
    "nombre_exposed        539\n",
    "nombre_recovered    16195\n",
    "Name: 617, dtype: int64"
   ]
  },
  {
   "cell_type": "markdown",
   "id": "adc0ef65",
   "metadata": {},
   "source": [
    "nombre_infected       892\n",
    "nombre_sain          2381\n",
    "nombre_exposed        539\n",
    "nombre_recovered    16188\n",
    "Name: 618, dtype: int64"
   ]
  },
  {
   "cell_type": "markdown",
   "id": "62764598",
   "metadata": {},
   "source": [
    "nombre_infected       886\n",
    "nombre_sain          2363\n",
    "nombre_exposed        533\n",
    "nombre_recovered    16218\n",
    "Name: 619, dtype: int64"
   ]
  },
  {
   "cell_type": "markdown",
   "id": "5ee51d8a",
   "metadata": {},
   "source": [
    "nombre_infected       877\n",
    "nombre_sain          2339\n",
    "nombre_exposed        541\n",
    "nombre_recovered    16243\n",
    "Name: 620, dtype: int64"
   ]
  },
  {
   "cell_type": "markdown",
   "id": "68dbf459",
   "metadata": {},
   "source": [
    "nombre_infected       871\n",
    "nombre_sain          2322\n",
    "nombre_exposed        570\n",
    "nombre_recovered    16237\n",
    "Name: 621, dtype: int64"
   ]
  },
  {
   "cell_type": "markdown",
   "id": "22ab6b9e",
   "metadata": {},
   "source": [
    "nombre_infected       860\n",
    "nombre_sain          2317\n",
    "nombre_exposed        563\n",
    "nombre_recovered    16260\n",
    "Name: 622, dtype: int64"
   ]
  },
  {
   "cell_type": "markdown",
   "id": "9e6c78fa",
   "metadata": {},
   "source": [
    "nombre_infected       855\n",
    "nombre_sain          2292\n",
    "nombre_exposed        566\n",
    "nombre_recovered    16287\n",
    "Name: 623, dtype: int64"
   ]
  },
  {
   "cell_type": "markdown",
   "id": "97ababbb",
   "metadata": {},
   "source": [
    "nombre_infected       837\n",
    "nombre_sain          2278\n",
    "nombre_exposed        558\n",
    "nombre_recovered    16327\n",
    "Name: 624, dtype: int64"
   ]
  },
  {
   "cell_type": "markdown",
   "id": "7cbf476a",
   "metadata": {},
   "source": [
    "nombre_infected       839\n",
    "nombre_sain          2281\n",
    "nombre_exposed        555\n",
    "nombre_recovered    16325\n",
    "Name: 625, dtype: int64"
   ]
  },
  {
   "cell_type": "markdown",
   "id": "6df8d0b9",
   "metadata": {},
   "source": [
    "nombre_infected       848\n",
    "nombre_sain          2250\n",
    "nombre_exposed        563\n",
    "nombre_recovered    16339\n",
    "Name: 626, dtype: int64"
   ]
  },
  {
   "cell_type": "markdown",
   "id": "1e741987",
   "metadata": {},
   "source": [
    "nombre_infected       840\n",
    "nombre_sain          2223\n",
    "nombre_exposed        598\n",
    "nombre_recovered    16339\n",
    "Name: 627, dtype: int64"
   ]
  },
  {
   "cell_type": "markdown",
   "id": "7edb1633",
   "metadata": {},
   "source": [
    "nombre_infected       871\n",
    "nombre_sain          2206\n",
    "nombre_exposed        595\n",
    "nombre_recovered    16328\n",
    "Name: 628, dtype: int64"
   ]
  },
  {
   "cell_type": "markdown",
   "id": "c8e1c09a",
   "metadata": {},
   "source": [
    "nombre_infected       874\n",
    "nombre_sain          2221\n",
    "nombre_exposed        585\n",
    "nombre_recovered    16320\n",
    "Name: 629, dtype: int64"
   ]
  },
  {
   "cell_type": "markdown",
   "id": "c8b3d902",
   "metadata": {},
   "source": [
    "nombre_infected       901\n",
    "nombre_sain          2220\n",
    "nombre_exposed        568\n",
    "nombre_recovered    16311\n",
    "Name: 630, dtype: int64"
   ]
  },
  {
   "cell_type": "markdown",
   "id": "27ec8f82",
   "metadata": {},
   "source": [
    "nombre_infected       899\n",
    "nombre_sain          2214\n",
    "nombre_exposed        575\n",
    "nombre_recovered    16312\n",
    "Name: 631, dtype: int64"
   ]
  },
  {
   "cell_type": "markdown",
   "id": "f8fc6522",
   "metadata": {},
   "source": [
    "nombre_infected       892\n",
    "nombre_sain          2230\n",
    "nombre_exposed        561\n",
    "nombre_recovered    16317\n",
    "Name: 632, dtype: int64"
   ]
  },
  {
   "cell_type": "markdown",
   "id": "185058dd",
   "metadata": {},
   "source": [
    "nombre_infected       906\n",
    "nombre_sain          2220\n",
    "nombre_exposed        535\n",
    "nombre_recovered    16339\n",
    "Name: 633, dtype: int64"
   ]
  },
  {
   "cell_type": "markdown",
   "id": "fd55b0bb",
   "metadata": {},
   "source": [
    "nombre_infected       875\n",
    "nombre_sain          2227\n",
    "nombre_exposed        539\n",
    "nombre_recovered    16359\n",
    "Name: 634, dtype: int64"
   ]
  },
  {
   "cell_type": "markdown",
   "id": "643de18f",
   "metadata": {},
   "source": [
    "nombre_infected       866\n",
    "nombre_sain          2270\n",
    "nombre_exposed        500\n",
    "nombre_recovered    16364\n",
    "Name: 635, dtype: int64"
   ]
  },
  {
   "cell_type": "markdown",
   "id": "5dfa5351",
   "metadata": {},
   "source": [
    "nombre_infected       844\n",
    "nombre_sain          2266\n",
    "nombre_exposed        513\n",
    "nombre_recovered    16377\n",
    "Name: 636, dtype: int64"
   ]
  },
  {
   "cell_type": "markdown",
   "id": "98d3922b",
   "metadata": {},
   "source": [
    "nombre_infected       822\n",
    "nombre_sain          2253\n",
    "nombre_exposed        553\n",
    "nombre_recovered    16372\n",
    "Name: 637, dtype: int64"
   ]
  },
  {
   "cell_type": "markdown",
   "id": "beea927e",
   "metadata": {},
   "source": [
    "nombre_infected       820\n",
    "nombre_sain          2249\n",
    "nombre_exposed        560\n",
    "nombre_recovered    16371\n",
    "Name: 638, dtype: int64"
   ]
  },
  {
   "cell_type": "markdown",
   "id": "07e9d8e7",
   "metadata": {},
   "source": [
    "nombre_infected       823\n",
    "nombre_sain          2252\n",
    "nombre_exposed        540\n",
    "nombre_recovered    16385\n",
    "Name: 639, dtype: int64"
   ]
  },
  {
   "cell_type": "markdown",
   "id": "9fa3131a",
   "metadata": {},
   "source": [
    "nombre_infected       827\n",
    "nombre_sain          2264\n",
    "nombre_exposed        534\n",
    "nombre_recovered    16375\n",
    "Name: 640, dtype: int64"
   ]
  },
  {
   "cell_type": "markdown",
   "id": "c6184373",
   "metadata": {},
   "source": [
    "nombre_infected       817\n",
    "nombre_sain          2279\n",
    "nombre_exposed        529\n",
    "nombre_recovered    16375\n",
    "Name: 641, dtype: int64"
   ]
  },
  {
   "cell_type": "markdown",
   "id": "c8dcdc61",
   "metadata": {},
   "source": [
    "nombre_infected       812\n",
    "nombre_sain          2278\n",
    "nombre_exposed        532\n",
    "nombre_recovered    16378\n",
    "Name: 642, dtype: int64"
   ]
  },
  {
   "cell_type": "markdown",
   "id": "475c50d9",
   "metadata": {},
   "source": [
    "nombre_infected       824\n",
    "nombre_sain          2275\n",
    "nombre_exposed        522\n",
    "nombre_recovered    16379\n",
    "Name: 643, dtype: int64"
   ]
  },
  {
   "cell_type": "markdown",
   "id": "7ea72a35",
   "metadata": {},
   "source": [
    "nombre_infected       813\n",
    "nombre_sain          2287\n",
    "nombre_exposed        508\n",
    "nombre_recovered    16392\n",
    "Name: 644, dtype: int64"
   ]
  },
  {
   "cell_type": "markdown",
   "id": "fb0f8a0d",
   "metadata": {},
   "source": [
    "nombre_infected       813\n",
    "nombre_sain          2281\n",
    "nombre_exposed        507\n",
    "nombre_recovered    16399\n",
    "Name: 645, dtype: int64"
   ]
  },
  {
   "cell_type": "markdown",
   "id": "65eb2333",
   "metadata": {},
   "source": [
    "nombre_infected       792\n",
    "nombre_sain          2281\n",
    "nombre_exposed        515\n",
    "nombre_recovered    16412\n",
    "Name: 646, dtype: int64"
   ]
  },
  {
   "cell_type": "markdown",
   "id": "93d3e624",
   "metadata": {},
   "source": [
    "nombre_infected       783\n",
    "nombre_sain          2299\n",
    "nombre_exposed        516\n",
    "nombre_recovered    16402\n",
    "Name: 647, dtype: int64"
   ]
  },
  {
   "cell_type": "markdown",
   "id": "81a265aa",
   "metadata": {},
   "source": [
    "nombre_infected       806\n",
    "nombre_sain          2317\n",
    "nombre_exposed        495\n",
    "nombre_recovered    16382\n",
    "Name: 648, dtype: int64"
   ]
  },
  {
   "cell_type": "markdown",
   "id": "577c7ef2",
   "metadata": {},
   "source": [
    "nombre_infected       838\n",
    "nombre_sain          2334\n",
    "nombre_exposed        481\n",
    "nombre_recovered    16347\n",
    "Name: 649, dtype: int64"
   ]
  },
  {
   "cell_type": "markdown",
   "id": "03ff62a1",
   "metadata": {},
   "source": [
    "nombre_infected       823\n",
    "nombre_sain          2311\n",
    "nombre_exposed        498\n",
    "nombre_recovered    16368\n",
    "Name: 650, dtype: int64"
   ]
  },
  {
   "cell_type": "markdown",
   "id": "4c1d6128",
   "metadata": {},
   "source": [
    "nombre_infected       792\n",
    "nombre_sain          2334\n",
    "nombre_exposed        497\n",
    "nombre_recovered    16377\n",
    "Name: 651, dtype: int64"
   ]
  },
  {
   "cell_type": "markdown",
   "id": "2140165d",
   "metadata": {},
   "source": [
    "nombre_infected       806\n",
    "nombre_sain          2324\n",
    "nombre_exposed        478\n",
    "nombre_recovered    16392\n",
    "Name: 652, dtype: int64"
   ]
  },
  {
   "cell_type": "markdown",
   "id": "444c5cbd",
   "metadata": {},
   "source": [
    "nombre_infected       794\n",
    "nombre_sain          2353\n",
    "nombre_exposed        472\n",
    "nombre_recovered    16381\n",
    "Name: 653, dtype: int64"
   ]
  },
  {
   "cell_type": "markdown",
   "id": "0e4f91fc",
   "metadata": {},
   "source": [
    "nombre_infected       810\n",
    "nombre_sain          2338\n",
    "nombre_exposed        473\n",
    "nombre_recovered    16379\n",
    "Name: 654, dtype: int64"
   ]
  },
  {
   "cell_type": "markdown",
   "id": "20b17425",
   "metadata": {},
   "source": [
    "nombre_infected       797\n",
    "nombre_sain          2377\n",
    "nombre_exposed        454\n",
    "nombre_recovered    16372\n",
    "Name: 655, dtype: int64"
   ]
  },
  {
   "cell_type": "markdown",
   "id": "fd8eee4d",
   "metadata": {},
   "source": [
    "nombre_infected       776\n",
    "nombre_sain          2397\n",
    "nombre_exposed        464\n",
    "nombre_recovered    16363\n",
    "Name: 656, dtype: int64"
   ]
  },
  {
   "cell_type": "markdown",
   "id": "8013813e",
   "metadata": {},
   "source": [
    "nombre_infected       759\n",
    "nombre_sain          2407\n",
    "nombre_exposed        489\n",
    "nombre_recovered    16345\n",
    "Name: 657, dtype: int64"
   ]
  },
  {
   "cell_type": "markdown",
   "id": "b91b9156",
   "metadata": {},
   "source": [
    "nombre_infected       765\n",
    "nombre_sain          2416\n",
    "nombre_exposed        488\n",
    "nombre_recovered    16331\n",
    "Name: 658, dtype: int64"
   ]
  },
  {
   "cell_type": "markdown",
   "id": "53d33006",
   "metadata": {},
   "source": [
    "nombre_infected       798\n",
    "nombre_sain          2455\n",
    "nombre_exposed        469\n",
    "nombre_recovered    16278\n",
    "Name: 659, dtype: int64"
   ]
  },
  {
   "cell_type": "markdown",
   "id": "1b644cad",
   "metadata": {},
   "source": [
    "nombre_infected       782\n",
    "nombre_sain          2468\n",
    "nombre_exposed        493\n",
    "nombre_recovered    16257\n",
    "Name: 660, dtype: int64"
   ]
  },
  {
   "cell_type": "markdown",
   "id": "e94c0013",
   "metadata": {},
   "source": [
    "nombre_infected       802\n",
    "nombre_sain          2458\n",
    "nombre_exposed        499\n",
    "nombre_recovered    16241\n",
    "Name: 661, dtype: int64"
   ]
  },
  {
   "cell_type": "markdown",
   "id": "288cf245",
   "metadata": {},
   "source": [
    "nombre_infected       810\n",
    "nombre_sain          2434\n",
    "nombre_exposed        506\n",
    "nombre_recovered    16250\n",
    "Name: 662, dtype: int64"
   ]
  },
  {
   "cell_type": "markdown",
   "id": "3909a5c4",
   "metadata": {},
   "source": [
    "nombre_infected       795\n",
    "nombre_sain          2467\n",
    "nombre_exposed        505\n",
    "nombre_recovered    16233\n",
    "Name: 663, dtype: int64"
   ]
  },
  {
   "cell_type": "markdown",
   "id": "1ad51a3b",
   "metadata": {},
   "source": [
    "nombre_infected       808\n",
    "nombre_sain          2456\n",
    "nombre_exposed        489\n",
    "nombre_recovered    16247\n",
    "Name: 664, dtype: int64"
   ]
  },
  {
   "cell_type": "markdown",
   "id": "5675b255",
   "metadata": {},
   "source": [
    "nombre_infected       819\n",
    "nombre_sain          2423\n",
    "nombre_exposed        514\n",
    "nombre_recovered    16244\n",
    "Name: 665, dtype: int64"
   ]
  },
  {
   "cell_type": "markdown",
   "id": "9fd6a3d8",
   "metadata": {},
   "source": [
    "nombre_infected       788\n",
    "nombre_sain          2415\n",
    "nombre_exposed        530\n",
    "nombre_recovered    16267\n",
    "Name: 666, dtype: int64"
   ]
  },
  {
   "cell_type": "markdown",
   "id": "f4a286da",
   "metadata": {},
   "source": [
    "nombre_infected       801\n",
    "nombre_sain          2409\n",
    "nombre_exposed        509\n",
    "nombre_recovered    16281\n",
    "Name: 667, dtype: int64"
   ]
  },
  {
   "cell_type": "markdown",
   "id": "254aa119",
   "metadata": {},
   "source": [
    "nombre_infected       833\n",
    "nombre_sain          2389\n",
    "nombre_exposed        508\n",
    "nombre_recovered    16270\n",
    "Name: 668, dtype: int64"
   ]
  },
  {
   "cell_type": "markdown",
   "id": "db4854e3",
   "metadata": {},
   "source": [
    "nombre_infected       813\n",
    "nombre_sain          2385\n",
    "nombre_exposed        516\n",
    "nombre_recovered    16286\n",
    "Name: 669, dtype: int64"
   ]
  },
  {
   "cell_type": "markdown",
   "id": "d17df0b4",
   "metadata": {},
   "source": [
    "nombre_infected       845\n",
    "nombre_sain          2360\n",
    "nombre_exposed        506\n",
    "nombre_recovered    16289\n",
    "Name: 670, dtype: int64"
   ]
  },
  {
   "cell_type": "markdown",
   "id": "021c9617",
   "metadata": {},
   "source": [
    "nombre_infected       840\n",
    "nombre_sain          2350\n",
    "nombre_exposed        504\n",
    "nombre_recovered    16306\n",
    "Name: 671, dtype: int64"
   ]
  },
  {
   "cell_type": "markdown",
   "id": "17193805",
   "metadata": {},
   "source": [
    "nombre_infected       864\n",
    "nombre_sain          2345\n",
    "nombre_exposed        503\n",
    "nombre_recovered    16288\n",
    "Name: 672, dtype: int64"
   ]
  },
  {
   "cell_type": "markdown",
   "id": "b9d02e91",
   "metadata": {},
   "source": [
    "nombre_infected       858\n",
    "nombre_sain          2335\n",
    "nombre_exposed        510\n",
    "nombre_recovered    16297\n",
    "Name: 673, dtype: int64"
   ]
  },
  {
   "cell_type": "markdown",
   "id": "de07a5ca",
   "metadata": {},
   "source": [
    "nombre_infected       871\n",
    "nombre_sain          2342\n",
    "nombre_exposed        501\n",
    "nombre_recovered    16286\n",
    "Name: 674, dtype: int64"
   ]
  },
  {
   "cell_type": "markdown",
   "id": "594504e5",
   "metadata": {},
   "source": [
    "nombre_infected       876\n",
    "nombre_sain          2326\n",
    "nombre_exposed        515\n",
    "nombre_recovered    16283\n",
    "Name: 675, dtype: int64"
   ]
  },
  {
   "cell_type": "markdown",
   "id": "36021596",
   "metadata": {},
   "source": [
    "nombre_infected       879\n",
    "nombre_sain          2333\n",
    "nombre_exposed        512\n",
    "nombre_recovered    16276\n",
    "Name: 676, dtype: int64"
   ]
  },
  {
   "cell_type": "markdown",
   "id": "f680014a",
   "metadata": {},
   "source": [
    "nombre_infected       883\n",
    "nombre_sain          2349\n",
    "nombre_exposed        488\n",
    "nombre_recovered    16280\n",
    "Name: 677, dtype: int64"
   ]
  },
  {
   "cell_type": "markdown",
   "id": "f144b331",
   "metadata": {},
   "source": [
    "nombre_infected       901\n",
    "nombre_sain          2331\n",
    "nombre_exposed        486\n",
    "nombre_recovered    16282\n",
    "Name: 678, dtype: int64"
   ]
  },
  {
   "cell_type": "markdown",
   "id": "13883d9f",
   "metadata": {},
   "source": [
    "nombre_infected       907\n",
    "nombre_sain          2318\n",
    "nombre_exposed        516\n",
    "nombre_recovered    16259\n",
    "Name: 679, dtype: int64"
   ]
  },
  {
   "cell_type": "markdown",
   "id": "7aedd0b7",
   "metadata": {},
   "source": [
    "nombre_infected       892\n",
    "nombre_sain          2308\n",
    "nombre_exposed        534\n",
    "nombre_recovered    16266\n",
    "Name: 680, dtype: int64"
   ]
  },
  {
   "cell_type": "markdown",
   "id": "a5c200cf",
   "metadata": {},
   "source": [
    "nombre_infected       897\n",
    "nombre_sain          2284\n",
    "nombre_exposed        541\n",
    "nombre_recovered    16278\n",
    "Name: 681, dtype: int64"
   ]
  },
  {
   "cell_type": "markdown",
   "id": "ed602c65",
   "metadata": {},
   "source": [
    "nombre_infected       917\n",
    "nombre_sain          2292\n",
    "nombre_exposed        517\n",
    "nombre_recovered    16274\n",
    "Name: 682, dtype: int64"
   ]
  },
  {
   "cell_type": "markdown",
   "id": "3f6d5ba9",
   "metadata": {},
   "source": [
    "nombre_infected       905\n",
    "nombre_sain          2273\n",
    "nombre_exposed        545\n",
    "nombre_recovered    16277\n",
    "Name: 683, dtype: int64"
   ]
  },
  {
   "cell_type": "markdown",
   "id": "86555f5a",
   "metadata": {},
   "source": [
    "nombre_infected       883\n",
    "nombre_sain          2285\n",
    "nombre_exposed        526\n",
    "nombre_recovered    16306\n",
    "Name: 684, dtype: int64"
   ]
  },
  {
   "cell_type": "markdown",
   "id": "a56d9513",
   "metadata": {},
   "source": [
    "nombre_infected       904\n",
    "nombre_sain          2271\n",
    "nombre_exposed        534\n",
    "nombre_recovered    16291\n",
    "Name: 685, dtype: int64"
   ]
  },
  {
   "cell_type": "markdown",
   "id": "2131bef9",
   "metadata": {},
   "source": [
    "nombre_infected       924\n",
    "nombre_sain          2291\n",
    "nombre_exposed        496\n",
    "nombre_recovered    16289\n",
    "Name: 686, dtype: int64"
   ]
  },
  {
   "cell_type": "markdown",
   "id": "3511c37f",
   "metadata": {},
   "source": [
    "nombre_infected       935\n",
    "nombre_sain          2293\n",
    "nombre_exposed        484\n",
    "nombre_recovered    16288\n",
    "Name: 687, dtype: int64"
   ]
  },
  {
   "cell_type": "markdown",
   "id": "419961be",
   "metadata": {},
   "source": [
    "nombre_infected       946\n",
    "nombre_sain          2298\n",
    "nombre_exposed        471\n",
    "nombre_recovered    16285\n",
    "Name: 688, dtype: int64"
   ]
  },
  {
   "cell_type": "markdown",
   "id": "bd0ffc58",
   "metadata": {},
   "source": [
    "nombre_infected       893\n",
    "nombre_sain          2307\n",
    "nombre_exposed        486\n",
    "nombre_recovered    16314\n",
    "Name: 689, dtype: int64"
   ]
  },
  {
   "cell_type": "markdown",
   "id": "a9a60613",
   "metadata": {},
   "source": [
    "nombre_infected       874\n",
    "nombre_sain          2311\n",
    "nombre_exposed        503\n",
    "nombre_recovered    16312\n",
    "Name: 690, dtype: int64"
   ]
  },
  {
   "cell_type": "markdown",
   "id": "c003ac7d",
   "metadata": {},
   "source": [
    "nombre_infected       868\n",
    "nombre_sain          2289\n",
    "nombre_exposed        500\n",
    "nombre_recovered    16343\n",
    "Name: 691, dtype: int64"
   ]
  },
  {
   "cell_type": "markdown",
   "id": "ec0e4862",
   "metadata": {},
   "source": [
    "nombre_infected       857\n",
    "nombre_sain          2288\n",
    "nombre_exposed        496\n",
    "nombre_recovered    16359\n",
    "Name: 692, dtype: int64"
   ]
  },
  {
   "cell_type": "markdown",
   "id": "fc0a7f65",
   "metadata": {},
   "source": [
    "nombre_infected       854\n",
    "nombre_sain          2287\n",
    "nombre_exposed        492\n",
    "nombre_recovered    16367\n",
    "Name: 693, dtype: int64"
   ]
  },
  {
   "cell_type": "markdown",
   "id": "97f87785",
   "metadata": {},
   "source": [
    "nombre_infected       854\n",
    "nombre_sain          2295\n",
    "nombre_exposed        495\n",
    "nombre_recovered    16356\n",
    "Name: 694, dtype: int64"
   ]
  },
  {
   "cell_type": "markdown",
   "id": "8e09117d",
   "metadata": {},
   "source": [
    "nombre_infected       849\n",
    "nombre_sain          2281\n",
    "nombre_exposed        500\n",
    "nombre_recovered    16370\n",
    "Name: 695, dtype: int64"
   ]
  },
  {
   "cell_type": "markdown",
   "id": "5c086627",
   "metadata": {},
   "source": [
    "nombre_infected       860\n",
    "nombre_sain          2281\n",
    "nombre_exposed        487\n",
    "nombre_recovered    16372\n",
    "Name: 696, dtype: int64"
   ]
  },
  {
   "cell_type": "markdown",
   "id": "c4a47ad9",
   "metadata": {},
   "source": [
    "nombre_infected       868\n",
    "nombre_sain          2281\n",
    "nombre_exposed        483\n",
    "nombre_recovered    16368\n",
    "Name: 697, dtype: int64"
   ]
  },
  {
   "cell_type": "markdown",
   "id": "f0dc7b3c",
   "metadata": {},
   "source": [
    "nombre_infected       846\n",
    "nombre_sain          2268\n",
    "nombre_exposed        496\n",
    "nombre_recovered    16390\n",
    "Name: 698, dtype: int64"
   ]
  },
  {
   "cell_type": "markdown",
   "id": "97243b9e",
   "metadata": {},
   "source": [
    "nombre_infected       866\n",
    "nombre_sain          2257\n",
    "nombre_exposed        505\n",
    "nombre_recovered    16372\n",
    "Name: 699, dtype: int64"
   ]
  },
  {
   "cell_type": "markdown",
   "id": "1ea02d6b",
   "metadata": {},
   "source": [
    "nombre_infected       876\n",
    "nombre_sain          2289\n",
    "nombre_exposed        477\n",
    "nombre_recovered    16358\n",
    "Name: 700, dtype: int64"
   ]
  },
  {
   "cell_type": "markdown",
   "id": "3483e113",
   "metadata": {},
   "source": [
    "nombre_infected       876\n",
    "nombre_sain          2264\n",
    "nombre_exposed        487\n",
    "nombre_recovered    16373\n",
    "Name: 701, dtype: int64"
   ]
  },
  {
   "cell_type": "markdown",
   "id": "8589c519",
   "metadata": {},
   "source": [
    "nombre_infected       868\n",
    "nombre_sain          2229\n",
    "nombre_exposed        493\n",
    "nombre_recovered    16410\n",
    "Name: 702, dtype: int64"
   ]
  },
  {
   "cell_type": "markdown",
   "id": "895af1f4",
   "metadata": {},
   "source": [
    "nombre_infected       852\n",
    "nombre_sain          2211\n",
    "nombre_exposed        506\n",
    "nombre_recovered    16431\n",
    "Name: 703, dtype: int64"
   ]
  },
  {
   "cell_type": "markdown",
   "id": "5fff60fa",
   "metadata": {},
   "source": [
    "nombre_infected       854\n",
    "nombre_sain          2202\n",
    "nombre_exposed        513\n",
    "nombre_recovered    16431\n",
    "Name: 704, dtype: int64"
   ]
  },
  {
   "cell_type": "markdown",
   "id": "9f79627d",
   "metadata": {},
   "source": [
    "nombre_infected       852\n",
    "nombre_sain          2222\n",
    "nombre_exposed        489\n",
    "nombre_recovered    16437\n",
    "Name: 705, dtype: int64"
   ]
  },
  {
   "cell_type": "markdown",
   "id": "03b80266",
   "metadata": {},
   "source": [
    "nombre_infected       844\n",
    "nombre_sain          2234\n",
    "nombre_exposed        486\n",
    "nombre_recovered    16436\n",
    "Name: 706, dtype: int64"
   ]
  },
  {
   "cell_type": "markdown",
   "id": "bb6b1fec",
   "metadata": {},
   "source": [
    "nombre_infected       829\n",
    "nombre_sain          2248\n",
    "nombre_exposed        493\n",
    "nombre_recovered    16430\n",
    "Name: 707, dtype: int64"
   ]
  },
  {
   "cell_type": "markdown",
   "id": "b681217f",
   "metadata": {},
   "source": [
    "nombre_infected       827\n",
    "nombre_sain          2256\n",
    "nombre_exposed        482\n",
    "nombre_recovered    16435\n",
    "Name: 708, dtype: int64"
   ]
  },
  {
   "cell_type": "markdown",
   "id": "dc9e8c5a",
   "metadata": {},
   "source": [
    "nombre_infected       841\n",
    "nombre_sain          2274\n",
    "nombre_exposed        461\n",
    "nombre_recovered    16424\n",
    "Name: 709, dtype: int64"
   ]
  },
  {
   "cell_type": "markdown",
   "id": "7d93267f",
   "metadata": {},
   "source": [
    "nombre_infected       812\n",
    "nombre_sain          2300\n",
    "nombre_exposed        484\n",
    "nombre_recovered    16404\n",
    "Name: 710, dtype: int64"
   ]
  },
  {
   "cell_type": "markdown",
   "id": "ead2ed53",
   "metadata": {},
   "source": [
    "nombre_infected       806\n",
    "nombre_sain          2308\n",
    "nombre_exposed        482\n",
    "nombre_recovered    16404\n",
    "Name: 711, dtype: int64"
   ]
  },
  {
   "cell_type": "markdown",
   "id": "30562ea9",
   "metadata": {},
   "source": [
    "nombre_infected       810\n",
    "nombre_sain          2299\n",
    "nombre_exposed        495\n",
    "nombre_recovered    16396\n",
    "Name: 712, dtype: int64"
   ]
  },
  {
   "cell_type": "markdown",
   "id": "c31a1db9",
   "metadata": {},
   "source": [
    "nombre_infected       815\n",
    "nombre_sain          2302\n",
    "nombre_exposed        495\n",
    "nombre_recovered    16388\n",
    "Name: 713, dtype: int64"
   ]
  },
  {
   "cell_type": "markdown",
   "id": "724d4ff5",
   "metadata": {},
   "source": [
    "nombre_infected       826\n",
    "nombre_sain          2322\n",
    "nombre_exposed        471\n",
    "nombre_recovered    16381\n",
    "Name: 714, dtype: int64"
   ]
  },
  {
   "cell_type": "markdown",
   "id": "99c4cef7",
   "metadata": {},
   "source": [
    "nombre_infected       830\n",
    "nombre_sain          2323\n",
    "nombre_exposed        493\n",
    "nombre_recovered    16354\n",
    "Name: 715, dtype: int64"
   ]
  },
  {
   "cell_type": "markdown",
   "id": "5082bf9e",
   "metadata": {},
   "source": [
    "nombre_infected       817\n",
    "nombre_sain          2333\n",
    "nombre_exposed        507\n",
    "nombre_recovered    16343\n",
    "Name: 716, dtype: int64"
   ]
  },
  {
   "cell_type": "markdown",
   "id": "04285922",
   "metadata": {},
   "source": [
    "nombre_infected       828\n",
    "nombre_sain          2334\n",
    "nombre_exposed        507\n",
    "nombre_recovered    16331\n",
    "Name: 717, dtype: int64"
   ]
  },
  {
   "cell_type": "markdown",
   "id": "e360ff9f",
   "metadata": {},
   "source": [
    "nombre_infected       859\n",
    "nombre_sain          2341\n",
    "nombre_exposed        500\n",
    "nombre_recovered    16300\n",
    "Name: 718, dtype: int64"
   ]
  },
  {
   "cell_type": "markdown",
   "id": "a5f7f620",
   "metadata": {},
   "source": [
    "nombre_infected       853\n",
    "nombre_sain          2313\n",
    "nombre_exposed        514\n",
    "nombre_recovered    16320\n",
    "Name: 719, dtype: int64"
   ]
  },
  {
   "cell_type": "markdown",
   "id": "c7daf57b",
   "metadata": {},
   "source": [
    "nombre_infected       837\n",
    "nombre_sain          2298\n",
    "nombre_exposed        528\n",
    "nombre_recovered    16337\n",
    "Name: 720, dtype: int64"
   ]
  },
  {
   "cell_type": "markdown",
   "id": "8949e498",
   "metadata": {},
   "source": [
    "nombre_infected       848\n",
    "nombre_sain          2283\n",
    "nombre_exposed        519\n",
    "nombre_recovered    16350\n",
    "Name: 721, dtype: int64"
   ]
  },
  {
   "cell_type": "markdown",
   "id": "4d7d528f",
   "metadata": {},
   "source": [
    "nombre_infected       865\n",
    "nombre_sain          2286\n",
    "nombre_exposed        515\n",
    "nombre_recovered    16334\n",
    "Name: 722, dtype: int64"
   ]
  },
  {
   "cell_type": "markdown",
   "id": "cf872368",
   "metadata": {},
   "source": [
    "nombre_infected       891\n",
    "nombre_sain          2282\n",
    "nombre_exposed        494\n",
    "nombre_recovered    16333\n",
    "Name: 723, dtype: int64"
   ]
  },
  {
   "cell_type": "markdown",
   "id": "2de70f58",
   "metadata": {},
   "source": [
    "nombre_infected       919\n",
    "nombre_sain          2297\n",
    "nombre_exposed        478\n",
    "nombre_recovered    16306\n",
    "Name: 724, dtype: int64"
   ]
  },
  {
   "cell_type": "markdown",
   "id": "19aa75c4",
   "metadata": {},
   "source": [
    "nombre_infected       904\n",
    "nombre_sain          2279\n",
    "nombre_exposed        513\n",
    "nombre_recovered    16304\n",
    "Name: 725, dtype: int64"
   ]
  },
  {
   "cell_type": "markdown",
   "id": "8317edab",
   "metadata": {},
   "source": [
    "nombre_infected       909\n",
    "nombre_sain          2273\n",
    "nombre_exposed        515\n",
    "nombre_recovered    16303\n",
    "Name: 726, dtype: int64"
   ]
  },
  {
   "cell_type": "markdown",
   "id": "f603a684",
   "metadata": {},
   "source": [
    "nombre_infected       913\n",
    "nombre_sain          2274\n",
    "nombre_exposed        500\n",
    "nombre_recovered    16313\n",
    "Name: 727, dtype: int64"
   ]
  },
  {
   "cell_type": "markdown",
   "id": "93c37618",
   "metadata": {},
   "source": [
    "nombre_infected       920\n",
    "nombre_sain          2254\n",
    "nombre_exposed        503\n",
    "nombre_recovered    16323\n",
    "Name: 728, dtype: int64"
   ]
  },
  {
   "cell_type": "markdown",
   "id": "7c2801eb",
   "metadata": {},
   "source": [
    "nombre_infected       887\n",
    "nombre_sain          2250\n",
    "nombre_exposed        525\n",
    "nombre_recovered    16338\n",
    "Name: 729, dtype: int64"
   ]
  },
  {
   "cell_type": "markdown",
   "id": "3004b9ca",
   "metadata": {},
   "source": [
    "nombre_infected       883\n",
    "nombre_sain          2224\n",
    "nombre_exposed        544\n",
    "nombre_recovered    16349\n",
    "Name: 730, dtype: int64"
   ]
  }
 ],
 "metadata": {},
 "nbformat": 4,
 "nbformat_minor": 5
}
