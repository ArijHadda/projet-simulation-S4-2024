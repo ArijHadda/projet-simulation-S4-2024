{
 "cells": [
  {
   "cell_type": "markdown",
   "id": "f7453103",
   "metadata": {},
   "source": [
    "nombre_infected        20\n",
    "nombre_sain         19980\n",
    "nombre_exposed          0\n",
    "nombre_recovered        0\n",
    "Name: 0, dtype: int64"
   ]
  },
  {
   "cell_type": "markdown",
   "id": "a87e2f95",
   "metadata": {},
   "source": [
    "nombre_infected        20\n",
    "nombre_sain         19966\n",
    "nombre_exposed         14\n",
    "nombre_recovered        0\n",
    "Name: 1, dtype: int64"
   ]
  },
  {
   "cell_type": "markdown",
   "id": "0298b8fd",
   "metadata": {},
   "source": [
    "nombre_infected        20\n",
    "nombre_sain         19950\n",
    "nombre_exposed         30\n",
    "nombre_recovered        0\n",
    "Name: 2, dtype: int64"
   ]
  },
  {
   "cell_type": "markdown",
   "id": "25c366b2",
   "metadata": {},
   "source": [
    "nombre_infected        24\n",
    "nombre_sain         19924\n",
    "nombre_exposed         52\n",
    "nombre_recovered        0\n",
    "Name: 3, dtype: int64"
   ]
  },
  {
   "cell_type": "markdown",
   "id": "4c69658d",
   "metadata": {},
   "source": [
    "nombre_infected        10\n",
    "nombre_sain         19903\n",
    "nombre_exposed         67\n",
    "nombre_recovered       20\n",
    "Name: 4, dtype: int64"
   ]
  },
  {
   "cell_type": "markdown",
   "id": "fd8b6d80",
   "metadata": {},
   "source": [
    "nombre_infected        23\n",
    "nombre_sain         19872\n",
    "nombre_exposed         85\n",
    "nombre_recovered       20\n",
    "Name: 5, dtype: int64"
   ]
  },
  {
   "cell_type": "markdown",
   "id": "c1cec045",
   "metadata": {},
   "source": [
    "nombre_infected        37\n",
    "nombre_sain         19847\n",
    "nombre_exposed         95\n",
    "nombre_recovered       21\n",
    "Name: 6, dtype: int64"
   ]
  },
  {
   "cell_type": "markdown",
   "id": "2c4a18e2",
   "metadata": {},
   "source": [
    "nombre_infected        57\n",
    "nombre_sain         19774\n",
    "nombre_exposed        147\n",
    "nombre_recovered       22\n",
    "Name: 7, dtype: int64"
   ]
  },
  {
   "cell_type": "markdown",
   "id": "c5224352",
   "metadata": {},
   "source": [
    "nombre_infected        73\n",
    "nombre_sain         19677\n",
    "nombre_exposed        222\n",
    "nombre_recovered       28\n",
    "Name: 8, dtype: int64"
   ]
  },
  {
   "cell_type": "markdown",
   "id": "6d05fee3",
   "metadata": {},
   "source": [
    "nombre_infected       101\n",
    "nombre_sain         19539\n",
    "nombre_exposed        323\n",
    "nombre_recovered       37\n",
    "Name: 9, dtype: int64"
   ]
  },
  {
   "cell_type": "markdown",
   "id": "d542f224",
   "metadata": {},
   "source": [
    "nombre_infected       148\n",
    "nombre_sain         19372\n",
    "nombre_exposed        436\n",
    "nombre_recovered       44\n",
    "Name: 10, dtype: int64"
   ]
  },
  {
   "cell_type": "markdown",
   "id": "c2c37f9e",
   "metadata": {},
   "source": [
    "nombre_infected       217\n",
    "nombre_sain         19168\n",
    "nombre_exposed        552\n",
    "nombre_recovered       63\n",
    "Name: 11, dtype: int64"
   ]
  },
  {
   "cell_type": "markdown",
   "id": "8435c6a1",
   "metadata": {},
   "source": [
    "nombre_infected       307\n",
    "nombre_sain         18848\n",
    "nombre_exposed        761\n",
    "nombre_recovered       84\n",
    "Name: 12, dtype: int64"
   ]
  },
  {
   "cell_type": "markdown",
   "id": "13792540",
   "metadata": {},
   "source": [
    "nombre_infected       429\n",
    "nombre_sain         18408\n",
    "nombre_exposed       1053\n",
    "nombre_recovered      110\n",
    "Name: 13, dtype: int64"
   ]
  },
  {
   "cell_type": "markdown",
   "id": "6bfeaf51",
   "metadata": {},
   "source": [
    "nombre_infected       576\n",
    "nombre_sain         17851\n",
    "nombre_exposed       1426\n",
    "nombre_recovered      147\n",
    "Name: 14, dtype: int64"
   ]
  },
  {
   "cell_type": "markdown",
   "id": "a0640eb1",
   "metadata": {},
   "source": [
    "nombre_infected       795\n",
    "nombre_sain         17160\n",
    "nombre_exposed       1842\n",
    "nombre_recovered      203\n",
    "Name: 15, dtype: int64"
   ]
  },
  {
   "cell_type": "markdown",
   "id": "eaf98f1f",
   "metadata": {},
   "source": [
    "nombre_infected      1078\n",
    "nombre_sain         16225\n",
    "nombre_exposed       2436\n",
    "nombre_recovered      261\n",
    "Name: 16, dtype: int64"
   ]
  },
  {
   "cell_type": "markdown",
   "id": "4b08e7a6",
   "metadata": {},
   "source": [
    "nombre_infected      1468\n",
    "nombre_sain         15014\n",
    "nombre_exposed       3147\n",
    "nombre_recovered      371\n",
    "Name: 17, dtype: int64"
   ]
  },
  {
   "cell_type": "markdown",
   "id": "dd66ed14",
   "metadata": {},
   "source": [
    "nombre_infected      1937\n",
    "nombre_sain         13586\n",
    "nombre_exposed       3964\n",
    "nombre_recovered      513\n",
    "Name: 18, dtype: int64"
   ]
  },
  {
   "cell_type": "markdown",
   "id": "031cda82",
   "metadata": {},
   "source": [
    "nombre_infected      2577\n",
    "nombre_sain         11909\n",
    "nombre_exposed       4831\n",
    "nombre_recovered      683\n",
    "Name: 19, dtype: int64"
   ]
  },
  {
   "cell_type": "markdown",
   "id": "c007e673",
   "metadata": {},
   "source": [
    "nombre_infected      3316\n",
    "nombre_sain         10132\n",
    "nombre_exposed       5616\n",
    "nombre_recovered      936\n",
    "Name: 20, dtype: int64"
   ]
  },
  {
   "cell_type": "markdown",
   "id": "564f0c40",
   "metadata": {},
   "source": [
    "nombre_infected     4188\n",
    "nombre_sain         8224\n",
    "nombre_exposed      6343\n",
    "nombre_recovered    1245\n",
    "Name: 21, dtype: int64"
   ]
  },
  {
   "cell_type": "markdown",
   "id": "61914874",
   "metadata": {},
   "source": [
    "nombre_infected     5185\n",
    "nombre_sain         6478\n",
    "nombre_exposed      6716\n",
    "nombre_recovered    1621\n",
    "Name: 22, dtype: int64"
   ]
  },
  {
   "cell_type": "markdown",
   "id": "c83f922e",
   "metadata": {},
   "source": [
    "nombre_infected     6239\n",
    "nombre_sain         4896\n",
    "nombre_exposed      6759\n",
    "nombre_recovered    2106\n",
    "Name: 23, dtype: int64"
   ]
  },
  {
   "cell_type": "markdown",
   "id": "56616f37",
   "metadata": {},
   "source": [
    "nombre_infected     7219\n",
    "nombre_sain         3597\n",
    "nombre_exposed      6496\n",
    "nombre_recovered    2688\n",
    "Name: 24, dtype: int64"
   ]
  },
  {
   "cell_type": "markdown",
   "id": "84d9a0bd",
   "metadata": {},
   "source": [
    "nombre_infected     8092\n",
    "nombre_sain         2509\n",
    "nombre_exposed      5985\n",
    "nombre_recovered    3414\n",
    "Name: 25, dtype: int64"
   ]
  },
  {
   "cell_type": "markdown",
   "id": "24bf6571",
   "metadata": {},
   "source": [
    "nombre_infected     8690\n",
    "nombre_sain         1705\n",
    "nombre_exposed      5290\n",
    "nombre_recovered    4315\n",
    "Name: 26, dtype: int64"
   ]
  },
  {
   "cell_type": "markdown",
   "id": "28e6577b",
   "metadata": {},
   "source": [
    "nombre_infected     9062\n",
    "nombre_sain         1147\n",
    "nombre_exposed      4482\n",
    "nombre_recovered    5309\n",
    "Name: 27, dtype: int64"
   ]
  },
  {
   "cell_type": "markdown",
   "id": "f35b5e93",
   "metadata": {},
   "source": [
    "nombre_infected     9225\n",
    "nombre_sain          779\n",
    "nombre_exposed      3654\n",
    "nombre_recovered    6342\n",
    "Name: 28, dtype: int64"
   ]
  },
  {
   "cell_type": "markdown",
   "id": "fd1cca26",
   "metadata": {},
   "source": [
    "nombre_infected     9147\n",
    "nombre_sain          560\n",
    "nombre_exposed      2865\n",
    "nombre_recovered    7428\n",
    "Name: 29, dtype: int64"
   ]
  },
  {
   "cell_type": "markdown",
   "id": "4ce459b6",
   "metadata": {},
   "source": [
    "nombre_infected     8847\n",
    "nombre_sain          384\n",
    "nombre_exposed      2261\n",
    "nombre_recovered    8508\n",
    "Name: 30, dtype: int64"
   ]
  },
  {
   "cell_type": "markdown",
   "id": "748a638b",
   "metadata": {},
   "source": [
    "nombre_infected     8438\n",
    "nombre_sain          259\n",
    "nombre_exposed      1783\n",
    "nombre_recovered    9520\n",
    "Name: 31, dtype: int64"
   ]
  },
  {
   "cell_type": "markdown",
   "id": "a17e27e5",
   "metadata": {},
   "source": [
    "nombre_infected      7972\n",
    "nombre_sain           181\n",
    "nombre_exposed       1320\n",
    "nombre_recovered    10527\n",
    "Name: 32, dtype: int64"
   ]
  },
  {
   "cell_type": "markdown",
   "id": "b274ba53",
   "metadata": {},
   "source": [
    "nombre_infected      7446\n",
    "nombre_sain           126\n",
    "nombre_exposed       1010\n",
    "nombre_recovered    11418\n",
    "Name: 33, dtype: int64"
   ]
  },
  {
   "cell_type": "markdown",
   "id": "fd56062f",
   "metadata": {},
   "source": [
    "nombre_infected      6815\n",
    "nombre_sain            95\n",
    "nombre_exposed        766\n",
    "nombre_recovered    12324\n",
    "Name: 34, dtype: int64"
   ]
  },
  {
   "cell_type": "markdown",
   "id": "5baa5dec",
   "metadata": {},
   "source": [
    "nombre_infected      6280\n",
    "nombre_sain            69\n",
    "nombre_exposed        555\n",
    "nombre_recovered    13096\n",
    "Name: 35, dtype: int64"
   ]
  },
  {
   "cell_type": "markdown",
   "id": "6cb69587",
   "metadata": {},
   "source": [
    "nombre_infected      5705\n",
    "nombre_sain            56\n",
    "nombre_exposed        413\n",
    "nombre_recovered    13826\n",
    "Name: 36, dtype: int64"
   ]
  },
  {
   "cell_type": "markdown",
   "id": "6afe4fa8",
   "metadata": {},
   "source": [
    "nombre_infected      5099\n",
    "nombre_sain            53\n",
    "nombre_exposed        301\n",
    "nombre_recovered    14547\n",
    "Name: 37, dtype: int64"
   ]
  },
  {
   "cell_type": "markdown",
   "id": "d6c69814",
   "metadata": {},
   "source": [
    "nombre_infected      4614\n",
    "nombre_sain            56\n",
    "nombre_exposed        219\n",
    "nombre_recovered    15111\n",
    "Name: 38, dtype: int64"
   ]
  },
  {
   "cell_type": "markdown",
   "id": "7753653b",
   "metadata": {},
   "source": [
    "nombre_infected      4156\n",
    "nombre_sain            64\n",
    "nombre_exposed        161\n",
    "nombre_recovered    15619\n",
    "Name: 39, dtype: int64"
   ]
  },
  {
   "cell_type": "markdown",
   "id": "ef89bc28",
   "metadata": {},
   "source": [
    "nombre_infected      3721\n",
    "nombre_sain            67\n",
    "nombre_exposed        125\n",
    "nombre_recovered    16087\n",
    "Name: 40, dtype: int64"
   ]
  },
  {
   "cell_type": "markdown",
   "id": "329f1153",
   "metadata": {},
   "source": [
    "nombre_infected      3282\n",
    "nombre_sain            74\n",
    "nombre_exposed        107\n",
    "nombre_recovered    16537\n",
    "Name: 41, dtype: int64"
   ]
  },
  {
   "cell_type": "markdown",
   "id": "e9508a2c",
   "metadata": {},
   "source": [
    "nombre_infected      2882\n",
    "nombre_sain            94\n",
    "nombre_exposed         89\n",
    "nombre_recovered    16935\n",
    "Name: 42, dtype: int64"
   ]
  },
  {
   "cell_type": "markdown",
   "id": "beec21d5",
   "metadata": {},
   "source": [
    "nombre_infected      2538\n",
    "nombre_sain           109\n",
    "nombre_exposed         72\n",
    "nombre_recovered    17281\n",
    "Name: 43, dtype: int64"
   ]
  },
  {
   "cell_type": "markdown",
   "id": "93dd691a",
   "metadata": {},
   "source": [
    "nombre_infected      2243\n",
    "nombre_sain           131\n",
    "nombre_exposed         58\n",
    "nombre_recovered    17568\n",
    "Name: 44, dtype: int64"
   ]
  },
  {
   "cell_type": "markdown",
   "id": "62c99134",
   "metadata": {},
   "source": [
    "nombre_infected      1974\n",
    "nombre_sain           165\n",
    "nombre_exposed         56\n",
    "nombre_recovered    17805\n",
    "Name: 45, dtype: int64"
   ]
  },
  {
   "cell_type": "markdown",
   "id": "51c9e515",
   "metadata": {},
   "source": [
    "nombre_infected      1737\n",
    "nombre_sain           192\n",
    "nombre_exposed         49\n",
    "nombre_recovered    18022\n",
    "Name: 46, dtype: int64"
   ]
  },
  {
   "cell_type": "markdown",
   "id": "f3b9b96b",
   "metadata": {},
   "source": [
    "nombre_infected      1496\n",
    "nombre_sain           227\n",
    "nombre_exposed         50\n",
    "nombre_recovered    18227\n",
    "Name: 47, dtype: int64"
   ]
  },
  {
   "cell_type": "markdown",
   "id": "481ea94a",
   "metadata": {},
   "source": [
    "nombre_infected      1329\n",
    "nombre_sain           270\n",
    "nombre_exposed         56\n",
    "nombre_recovered    18345\n",
    "Name: 48, dtype: int64"
   ]
  },
  {
   "cell_type": "markdown",
   "id": "f5784fed",
   "metadata": {},
   "source": [
    "nombre_infected      1180\n",
    "nombre_sain           307\n",
    "nombre_exposed         59\n",
    "nombre_recovered    18454\n",
    "Name: 49, dtype: int64"
   ]
  },
  {
   "cell_type": "markdown",
   "id": "a0c3b812",
   "metadata": {},
   "source": [
    "nombre_infected      1037\n",
    "nombre_sain           329\n",
    "nombre_exposed         79\n",
    "nombre_recovered    18555\n",
    "Name: 50, dtype: int64"
   ]
  },
  {
   "cell_type": "markdown",
   "id": "5b735f55",
   "metadata": {},
   "source": [
    "nombre_infected       941\n",
    "nombre_sain           359\n",
    "nombre_exposed         81\n",
    "nombre_recovered    18619\n",
    "Name: 51, dtype: int64"
   ]
  },
  {
   "cell_type": "markdown",
   "id": "35ee65d3",
   "metadata": {},
   "source": [
    "nombre_infected       865\n",
    "nombre_sain           394\n",
    "nombre_exposed         76\n",
    "nombre_recovered    18665\n",
    "Name: 52, dtype: int64"
   ]
  },
  {
   "cell_type": "markdown",
   "id": "69c29c67",
   "metadata": {},
   "source": [
    "nombre_infected       806\n",
    "nombre_sain           419\n",
    "nombre_exposed         76\n",
    "nombre_recovered    18699\n",
    "Name: 53, dtype: int64"
   ]
  },
  {
   "cell_type": "markdown",
   "id": "9423bab5",
   "metadata": {},
   "source": [
    "nombre_infected       752\n",
    "nombre_sain           441\n",
    "nombre_exposed         75\n",
    "nombre_recovered    18732\n",
    "Name: 54, dtype: int64"
   ]
  },
  {
   "cell_type": "markdown",
   "id": "84768264",
   "metadata": {},
   "source": [
    "nombre_infected       698\n",
    "nombre_sain           470\n",
    "nombre_exposed         79\n",
    "nombre_recovered    18753\n",
    "Name: 55, dtype: int64"
   ]
  },
  {
   "cell_type": "markdown",
   "id": "5895e06f",
   "metadata": {},
   "source": [
    "nombre_infected       654\n",
    "nombre_sain           478\n",
    "nombre_exposed         81\n",
    "nombre_recovered    18787\n",
    "Name: 56, dtype: int64"
   ]
  },
  {
   "cell_type": "markdown",
   "id": "f762343e",
   "metadata": {},
   "source": [
    "nombre_infected       610\n",
    "nombre_sain           482\n",
    "nombre_exposed         90\n",
    "nombre_recovered    18818\n",
    "Name: 57, dtype: int64"
   ]
  },
  {
   "cell_type": "markdown",
   "id": "9eefa21a",
   "metadata": {},
   "source": [
    "nombre_infected       556\n",
    "nombre_sain           502\n",
    "nombre_exposed         91\n",
    "nombre_recovered    18851\n",
    "Name: 58, dtype: int64"
   ]
  },
  {
   "cell_type": "markdown",
   "id": "e14a8629",
   "metadata": {},
   "source": [
    "nombre_infected       530\n",
    "nombre_sain           519\n",
    "nombre_exposed         90\n",
    "nombre_recovered    18861\n",
    "Name: 59, dtype: int64"
   ]
  },
  {
   "cell_type": "markdown",
   "id": "2daaa962",
   "metadata": {},
   "source": [
    "nombre_infected       499\n",
    "nombre_sain           537\n",
    "nombre_exposed         84\n",
    "nombre_recovered    18880\n",
    "Name: 60, dtype: int64"
   ]
  },
  {
   "cell_type": "markdown",
   "id": "3de8e865",
   "metadata": {},
   "source": [
    "nombre_infected       479\n",
    "nombre_sain           562\n",
    "nombre_exposed         79\n",
    "nombre_recovered    18880\n",
    "Name: 61, dtype: int64"
   ]
  },
  {
   "cell_type": "markdown",
   "id": "31cfc708",
   "metadata": {},
   "source": [
    "nombre_infected       447\n",
    "nombre_sain           584\n",
    "nombre_exposed         75\n",
    "nombre_recovered    18894\n",
    "Name: 62, dtype: int64"
   ]
  },
  {
   "cell_type": "markdown",
   "id": "d65ddcec",
   "metadata": {},
   "source": [
    "nombre_infected       430\n",
    "nombre_sain           609\n",
    "nombre_exposed         67\n",
    "nombre_recovered    18894\n",
    "Name: 63, dtype: int64"
   ]
  },
  {
   "cell_type": "markdown",
   "id": "1c7edb2d",
   "metadata": {},
   "source": [
    "nombre_infected       412\n",
    "nombre_sain           634\n",
    "nombre_exposed         63\n",
    "nombre_recovered    18891\n",
    "Name: 64, dtype: int64"
   ]
  },
  {
   "cell_type": "markdown",
   "id": "23cc323f",
   "metadata": {},
   "source": [
    "nombre_infected       380\n",
    "nombre_sain           664\n",
    "nombre_exposed         64\n",
    "nombre_recovered    18892\n",
    "Name: 65, dtype: int64"
   ]
  },
  {
   "cell_type": "markdown",
   "id": "288c78ae",
   "metadata": {},
   "source": [
    "nombre_infected       357\n",
    "nombre_sain           690\n",
    "nombre_exposed         67\n",
    "nombre_recovered    18886\n",
    "Name: 66, dtype: int64"
   ]
  },
  {
   "cell_type": "markdown",
   "id": "537caff7",
   "metadata": {},
   "source": [
    "nombre_infected       333\n",
    "nombre_sain           722\n",
    "nombre_exposed         73\n",
    "nombre_recovered    18872\n",
    "Name: 67, dtype: int64"
   ]
  },
  {
   "cell_type": "markdown",
   "id": "96b0bf81",
   "metadata": {},
   "source": [
    "nombre_infected       331\n",
    "nombre_sain           755\n",
    "nombre_exposed         69\n",
    "nombre_recovered    18845\n",
    "Name: 68, dtype: int64"
   ]
  },
  {
   "cell_type": "markdown",
   "id": "0e26afbc",
   "metadata": {},
   "source": [
    "nombre_infected       320\n",
    "nombre_sain           809\n",
    "nombre_exposed         60\n",
    "nombre_recovered    18811\n",
    "Name: 69, dtype: int64"
   ]
  },
  {
   "cell_type": "markdown",
   "id": "42baf987",
   "metadata": {},
   "source": [
    "nombre_infected       316\n",
    "nombre_sain           846\n",
    "nombre_exposed         61\n",
    "nombre_recovered    18777\n",
    "Name: 70, dtype: int64"
   ]
  },
  {
   "cell_type": "markdown",
   "id": "6a5e4629",
   "metadata": {},
   "source": [
    "nombre_infected       312\n",
    "nombre_sain           883\n",
    "nombre_exposed         60\n",
    "nombre_recovered    18745\n",
    "Name: 71, dtype: int64"
   ]
  },
  {
   "cell_type": "markdown",
   "id": "8ebb5b4b",
   "metadata": {},
   "source": [
    "nombre_infected       292\n",
    "nombre_sain           937\n",
    "nombre_exposed         60\n",
    "nombre_recovered    18711\n",
    "Name: 72, dtype: int64"
   ]
  },
  {
   "cell_type": "markdown",
   "id": "4d5b16af",
   "metadata": {},
   "source": [
    "nombre_infected       272\n",
    "nombre_sain          1000\n",
    "nombre_exposed         71\n",
    "nombre_recovered    18657\n",
    "Name: 73, dtype: int64"
   ]
  },
  {
   "cell_type": "markdown",
   "id": "fa83f2b1",
   "metadata": {},
   "source": [
    "nombre_infected       265\n",
    "nombre_sain          1056\n",
    "nombre_exposed         71\n",
    "nombre_recovered    18608\n",
    "Name: 74, dtype: int64"
   ]
  },
  {
   "cell_type": "markdown",
   "id": "d6151a3b",
   "metadata": {},
   "source": [
    "nombre_infected       270\n",
    "nombre_sain          1113\n",
    "nombre_exposed         70\n",
    "nombre_recovered    18547\n",
    "Name: 75, dtype: int64"
   ]
  },
  {
   "cell_type": "markdown",
   "id": "d4d5b1ce",
   "metadata": {},
   "source": [
    "nombre_infected       261\n",
    "nombre_sain          1199\n",
    "nombre_exposed         70\n",
    "nombre_recovered    18470\n",
    "Name: 76, dtype: int64"
   ]
  },
  {
   "cell_type": "markdown",
   "id": "5e13bdb4",
   "metadata": {},
   "source": [
    "nombre_infected       262\n",
    "nombre_sain          1257\n",
    "nombre_exposed         83\n",
    "nombre_recovered    18398\n",
    "Name: 77, dtype: int64"
   ]
  },
  {
   "cell_type": "markdown",
   "id": "26ee4c75",
   "metadata": {},
   "source": [
    "nombre_infected       259\n",
    "nombre_sain          1319\n",
    "nombre_exposed         86\n",
    "nombre_recovered    18336\n",
    "Name: 78, dtype: int64"
   ]
  },
  {
   "cell_type": "markdown",
   "id": "32025a3a",
   "metadata": {},
   "source": [
    "nombre_infected       257\n",
    "nombre_sain          1380\n",
    "nombre_exposed         79\n",
    "nombre_recovered    18284\n",
    "Name: 79, dtype: int64"
   ]
  },
  {
   "cell_type": "markdown",
   "id": "5daff53a",
   "metadata": {},
   "source": [
    "nombre_infected       261\n",
    "nombre_sain          1429\n",
    "nombre_exposed         81\n",
    "nombre_recovered    18229\n",
    "Name: 80, dtype: int64"
   ]
  },
  {
   "cell_type": "markdown",
   "id": "31de786e",
   "metadata": {},
   "source": [
    "nombre_infected       253\n",
    "nombre_sain          1476\n",
    "nombre_exposed         79\n",
    "nombre_recovered    18192\n",
    "Name: 81, dtype: int64"
   ]
  },
  {
   "cell_type": "markdown",
   "id": "33b0146c",
   "metadata": {},
   "source": [
    "nombre_infected       239\n",
    "nombre_sain          1554\n",
    "nombre_exposed         79\n",
    "nombre_recovered    18128\n",
    "Name: 82, dtype: int64"
   ]
  },
  {
   "cell_type": "markdown",
   "id": "16d9fdcd",
   "metadata": {},
   "source": [
    "nombre_infected       231\n",
    "nombre_sain          1600\n",
    "nombre_exposed         86\n",
    "nombre_recovered    18083\n",
    "Name: 83, dtype: int64"
   ]
  },
  {
   "cell_type": "markdown",
   "id": "1500cb41",
   "metadata": {},
   "source": [
    "nombre_infected       221\n",
    "nombre_sain          1625\n",
    "nombre_exposed        105\n",
    "nombre_recovered    18049\n",
    "Name: 84, dtype: int64"
   ]
  },
  {
   "cell_type": "markdown",
   "id": "03be17db",
   "metadata": {},
   "source": [
    "nombre_infected       218\n",
    "nombre_sain          1651\n",
    "nombre_exposed        108\n",
    "nombre_recovered    18023\n",
    "Name: 85, dtype: int64"
   ]
  },
  {
   "cell_type": "markdown",
   "id": "3668e27f",
   "metadata": {},
   "source": [
    "nombre_infected       228\n",
    "nombre_sain          1669\n",
    "nombre_exposed        112\n",
    "nombre_recovered    17991\n",
    "Name: 86, dtype: int64"
   ]
  },
  {
   "cell_type": "markdown",
   "id": "1a857f44",
   "metadata": {},
   "source": [
    "nombre_infected       229\n",
    "nombre_sain          1694\n",
    "nombre_exposed        114\n",
    "nombre_recovered    17963\n",
    "Name: 87, dtype: int64"
   ]
  },
  {
   "cell_type": "markdown",
   "id": "20c82e6d",
   "metadata": {},
   "source": [
    "nombre_infected       224\n",
    "nombre_sain          1729\n",
    "nombre_exposed        108\n",
    "nombre_recovered    17939\n",
    "Name: 88, dtype: int64"
   ]
  },
  {
   "cell_type": "markdown",
   "id": "9e237089",
   "metadata": {},
   "source": [
    "nombre_infected       226\n",
    "nombre_sain          1773\n",
    "nombre_exposed         97\n",
    "nombre_recovered    17904\n",
    "Name: 89, dtype: int64"
   ]
  },
  {
   "cell_type": "markdown",
   "id": "dfebb1cb",
   "metadata": {},
   "source": [
    "nombre_infected       219\n",
    "nombre_sain          1801\n",
    "nombre_exposed         89\n",
    "nombre_recovered    17891\n",
    "Name: 90, dtype: int64"
   ]
  },
  {
   "cell_type": "markdown",
   "id": "f6107ae3",
   "metadata": {},
   "source": [
    "nombre_infected       207\n",
    "nombre_sain          1821\n",
    "nombre_exposed        106\n",
    "nombre_recovered    17866\n",
    "Name: 91, dtype: int64"
   ]
  },
  {
   "cell_type": "markdown",
   "id": "6ffc6f01",
   "metadata": {},
   "source": [
    "nombre_infected       196\n",
    "nombre_sain          1865\n",
    "nombre_exposed        102\n",
    "nombre_recovered    17837\n",
    "Name: 92, dtype: int64"
   ]
  },
  {
   "cell_type": "markdown",
   "id": "b01bf87c",
   "metadata": {},
   "source": [
    "nombre_infected       183\n",
    "nombre_sain          1890\n",
    "nombre_exposed        116\n",
    "nombre_recovered    17811\n",
    "Name: 93, dtype: int64"
   ]
  },
  {
   "cell_type": "markdown",
   "id": "a578855a",
   "metadata": {},
   "source": [
    "nombre_infected       166\n",
    "nombre_sain          1926\n",
    "nombre_exposed        117\n",
    "nombre_recovered    17791\n",
    "Name: 94, dtype: int64"
   ]
  },
  {
   "cell_type": "markdown",
   "id": "5c38dc24",
   "metadata": {},
   "source": [
    "nombre_infected       170\n",
    "nombre_sain          1946\n",
    "nombre_exposed        112\n",
    "nombre_recovered    17772\n",
    "Name: 95, dtype: int64"
   ]
  },
  {
   "cell_type": "markdown",
   "id": "24407621",
   "metadata": {},
   "source": [
    "nombre_infected       179\n",
    "nombre_sain          1967\n",
    "nombre_exposed        114\n",
    "nombre_recovered    17740\n",
    "Name: 96, dtype: int64"
   ]
  },
  {
   "cell_type": "markdown",
   "id": "8fcbd8c7",
   "metadata": {},
   "source": [
    "nombre_infected       186\n",
    "nombre_sain          1988\n",
    "nombre_exposed        114\n",
    "nombre_recovered    17712\n",
    "Name: 97, dtype: int64"
   ]
  },
  {
   "cell_type": "markdown",
   "id": "a9a7ff5a",
   "metadata": {},
   "source": [
    "nombre_infected       187\n",
    "nombre_sain          2024\n",
    "nombre_exposed        104\n",
    "nombre_recovered    17685\n",
    "Name: 98, dtype: int64"
   ]
  },
  {
   "cell_type": "markdown",
   "id": "eff0c34f",
   "metadata": {},
   "source": [
    "nombre_infected       189\n",
    "nombre_sain          2049\n",
    "nombre_exposed        107\n",
    "nombre_recovered    17655\n",
    "Name: 99, dtype: int64"
   ]
  },
  {
   "cell_type": "markdown",
   "id": "a85e6fad",
   "metadata": {},
   "source": [
    "nombre_infected       189\n",
    "nombre_sain          2082\n",
    "nombre_exposed        105\n",
    "nombre_recovered    17624\n",
    "Name: 100, dtype: int64"
   ]
  },
  {
   "cell_type": "markdown",
   "id": "2d8fd596",
   "metadata": {},
   "source": [
    "nombre_infected       188\n",
    "nombre_sain          2114\n",
    "nombre_exposed        103\n",
    "nombre_recovered    17595\n",
    "Name: 101, dtype: int64"
   ]
  },
  {
   "cell_type": "markdown",
   "id": "808bc941",
   "metadata": {},
   "source": [
    "nombre_infected       191\n",
    "nombre_sain          2147\n",
    "nombre_exposed        103\n",
    "nombre_recovered    17559\n",
    "Name: 102, dtype: int64"
   ]
  },
  {
   "cell_type": "markdown",
   "id": "eb51cf5c",
   "metadata": {},
   "source": [
    "nombre_infected       191\n",
    "nombre_sain          2139\n",
    "nombre_exposed        121\n",
    "nombre_recovered    17549\n",
    "Name: 103, dtype: int64"
   ]
  },
  {
   "cell_type": "markdown",
   "id": "5577ad8c",
   "metadata": {},
   "source": [
    "nombre_infected       203\n",
    "nombre_sain          2167\n",
    "nombre_exposed        109\n",
    "nombre_recovered    17521\n",
    "Name: 104, dtype: int64"
   ]
  },
  {
   "cell_type": "markdown",
   "id": "5ae27f3c",
   "metadata": {},
   "source": [
    "nombre_infected       200\n",
    "nombre_sain          2183\n",
    "nombre_exposed        106\n",
    "nombre_recovered    17511\n",
    "Name: 105, dtype: int64"
   ]
  },
  {
   "cell_type": "markdown",
   "id": "4b5b50f8",
   "metadata": {},
   "source": [
    "nombre_infected       200\n",
    "nombre_sain          2207\n",
    "nombre_exposed        110\n",
    "nombre_recovered    17483\n",
    "Name: 106, dtype: int64"
   ]
  },
  {
   "cell_type": "markdown",
   "id": "b9933fd2",
   "metadata": {},
   "source": [
    "nombre_infected       200\n",
    "nombre_sain          2222\n",
    "nombre_exposed        117\n",
    "nombre_recovered    17461\n",
    "Name: 107, dtype: int64"
   ]
  },
  {
   "cell_type": "markdown",
   "id": "51c037d3",
   "metadata": {},
   "source": [
    "nombre_infected       194\n",
    "nombre_sain          2250\n",
    "nombre_exposed        121\n",
    "nombre_recovered    17435\n",
    "Name: 108, dtype: int64"
   ]
  },
  {
   "cell_type": "markdown",
   "id": "a94d7331",
   "metadata": {},
   "source": [
    "nombre_infected       193\n",
    "nombre_sain          2259\n",
    "nombre_exposed        128\n",
    "nombre_recovered    17420\n",
    "Name: 109, dtype: int64"
   ]
  },
  {
   "cell_type": "markdown",
   "id": "e582fd9b",
   "metadata": {},
   "source": [
    "nombre_infected       201\n",
    "nombre_sain          2270\n",
    "nombre_exposed        134\n",
    "nombre_recovered    17395\n",
    "Name: 110, dtype: int64"
   ]
  },
  {
   "cell_type": "markdown",
   "id": "33daf02c",
   "metadata": {},
   "source": [
    "nombre_infected       204\n",
    "nombre_sain          2309\n",
    "nombre_exposed        129\n",
    "nombre_recovered    17358\n",
    "Name: 111, dtype: int64"
   ]
  },
  {
   "cell_type": "markdown",
   "id": "624d14a5",
   "metadata": {},
   "source": [
    "nombre_infected       197\n",
    "nombre_sain          2349\n",
    "nombre_exposed        128\n",
    "nombre_recovered    17326\n",
    "Name: 112, dtype: int64"
   ]
  },
  {
   "cell_type": "markdown",
   "id": "82714c54",
   "metadata": {},
   "source": [
    "nombre_infected       217\n",
    "nombre_sain          2376\n",
    "nombre_exposed        128\n",
    "nombre_recovered    17279\n",
    "Name: 113, dtype: int64"
   ]
  },
  {
   "cell_type": "markdown",
   "id": "22724dcb",
   "metadata": {},
   "source": [
    "nombre_infected       223\n",
    "nombre_sain          2416\n",
    "nombre_exposed        119\n",
    "nombre_recovered    17242\n",
    "Name: 114, dtype: int64"
   ]
  },
  {
   "cell_type": "markdown",
   "id": "10743c64",
   "metadata": {},
   "source": [
    "nombre_infected       221\n",
    "nombre_sain          2439\n",
    "nombre_exposed        134\n",
    "nombre_recovered    17206\n",
    "Name: 115, dtype: int64"
   ]
  },
  {
   "cell_type": "markdown",
   "id": "3b4214fa",
   "metadata": {},
   "source": [
    "nombre_infected       227\n",
    "nombre_sain          2462\n",
    "nombre_exposed        139\n",
    "nombre_recovered    17172\n",
    "Name: 116, dtype: int64"
   ]
  },
  {
   "cell_type": "markdown",
   "id": "2823dedb",
   "metadata": {},
   "source": [
    "nombre_infected       213\n",
    "nombre_sain          2478\n",
    "nombre_exposed        150\n",
    "nombre_recovered    17159\n",
    "Name: 117, dtype: int64"
   ]
  },
  {
   "cell_type": "markdown",
   "id": "0ed358b4",
   "metadata": {},
   "source": [
    "nombre_infected       212\n",
    "nombre_sain          2501\n",
    "nombre_exposed        166\n",
    "nombre_recovered    17121\n",
    "Name: 118, dtype: int64"
   ]
  },
  {
   "cell_type": "markdown",
   "id": "c8bfe550",
   "metadata": {},
   "source": [
    "nombre_infected       218\n",
    "nombre_sain          2521\n",
    "nombre_exposed        167\n",
    "nombre_recovered    17094\n",
    "Name: 119, dtype: int64"
   ]
  },
  {
   "cell_type": "markdown",
   "id": "8c8c36d3",
   "metadata": {},
   "source": [
    "nombre_infected       231\n",
    "nombre_sain          2555\n",
    "nombre_exposed        167\n",
    "nombre_recovered    17047\n",
    "Name: 120, dtype: int64"
   ]
  },
  {
   "cell_type": "markdown",
   "id": "822240cd",
   "metadata": {},
   "source": [
    "nombre_infected       244\n",
    "nombre_sain          2572\n",
    "nombre_exposed        183\n",
    "nombre_recovered    17001\n",
    "Name: 121, dtype: int64"
   ]
  },
  {
   "cell_type": "markdown",
   "id": "eafa9623",
   "metadata": {},
   "source": [
    "nombre_infected       249\n",
    "nombre_sain          2612\n",
    "nombre_exposed        184\n",
    "nombre_recovered    16955\n",
    "Name: 122, dtype: int64"
   ]
  },
  {
   "cell_type": "markdown",
   "id": "0d24ca3b",
   "metadata": {},
   "source": [
    "nombre_infected       269\n",
    "nombre_sain          2640\n",
    "nombre_exposed        171\n",
    "nombre_recovered    16920\n",
    "Name: 123, dtype: int64"
   ]
  },
  {
   "cell_type": "markdown",
   "id": "0c61c061",
   "metadata": {},
   "source": [
    "nombre_infected       278\n",
    "nombre_sain          2658\n",
    "nombre_exposed        172\n",
    "nombre_recovered    16892\n",
    "Name: 124, dtype: int64"
   ]
  },
  {
   "cell_type": "markdown",
   "id": "76f7f332",
   "metadata": {},
   "source": [
    "nombre_infected       290\n",
    "nombre_sain          2675\n",
    "nombre_exposed        176\n",
    "nombre_recovered    16859\n",
    "Name: 125, dtype: int64"
   ]
  },
  {
   "cell_type": "markdown",
   "id": "3605a028",
   "metadata": {},
   "source": [
    "nombre_infected       294\n",
    "nombre_sain          2699\n",
    "nombre_exposed        179\n",
    "nombre_recovered    16828\n",
    "Name: 126, dtype: int64"
   ]
  },
  {
   "cell_type": "markdown",
   "id": "fdbf7312",
   "metadata": {},
   "source": [
    "nombre_infected       304\n",
    "nombre_sain          2737\n",
    "nombre_exposed        180\n",
    "nombre_recovered    16779\n",
    "Name: 127, dtype: int64"
   ]
  },
  {
   "cell_type": "markdown",
   "id": "d3a5ee97",
   "metadata": {},
   "source": [
    "nombre_infected       314\n",
    "nombre_sain          2752\n",
    "nombre_exposed        193\n",
    "nombre_recovered    16741\n",
    "Name: 128, dtype: int64"
   ]
  },
  {
   "cell_type": "markdown",
   "id": "daa254c6",
   "metadata": {},
   "source": [
    "nombre_infected       305\n",
    "nombre_sain          2791\n",
    "nombre_exposed        211\n",
    "nombre_recovered    16693\n",
    "Name: 129, dtype: int64"
   ]
  },
  {
   "cell_type": "markdown",
   "id": "37de87a3",
   "metadata": {},
   "source": [
    "nombre_infected       314\n",
    "nombre_sain          2814\n",
    "nombre_exposed        215\n",
    "nombre_recovered    16657\n",
    "Name: 130, dtype: int64"
   ]
  },
  {
   "cell_type": "markdown",
   "id": "606aaa53",
   "metadata": {},
   "source": [
    "nombre_infected       317\n",
    "nombre_sain          2852\n",
    "nombre_exposed        212\n",
    "nombre_recovered    16619\n",
    "Name: 131, dtype: int64"
   ]
  },
  {
   "cell_type": "markdown",
   "id": "9586ce3d",
   "metadata": {},
   "source": [
    "nombre_infected       328\n",
    "nombre_sain          2905\n",
    "nombre_exposed        207\n",
    "nombre_recovered    16560\n",
    "Name: 132, dtype: int64"
   ]
  },
  {
   "cell_type": "markdown",
   "id": "d621e25b",
   "metadata": {},
   "source": [
    "nombre_infected       334\n",
    "nombre_sain          2929\n",
    "nombre_exposed        211\n",
    "nombre_recovered    16526\n",
    "Name: 133, dtype: int64"
   ]
  },
  {
   "cell_type": "markdown",
   "id": "ad4a6030",
   "metadata": {},
   "source": [
    "nombre_infected       320\n",
    "nombre_sain          2953\n",
    "nombre_exposed        226\n",
    "nombre_recovered    16501\n",
    "Name: 134, dtype: int64"
   ]
  },
  {
   "cell_type": "markdown",
   "id": "f4c485fe",
   "metadata": {},
   "source": [
    "nombre_infected       331\n",
    "nombre_sain          2970\n",
    "nombre_exposed        224\n",
    "nombre_recovered    16475\n",
    "Name: 135, dtype: int64"
   ]
  },
  {
   "cell_type": "markdown",
   "id": "fa19a459",
   "metadata": {},
   "source": [
    "nombre_infected       351\n",
    "nombre_sain          3003\n",
    "nombre_exposed        225\n",
    "nombre_recovered    16421\n",
    "Name: 136, dtype: int64"
   ]
  },
  {
   "cell_type": "markdown",
   "id": "560bdda5",
   "metadata": {},
   "source": [
    "nombre_infected       358\n",
    "nombre_sain          3018\n",
    "nombre_exposed        231\n",
    "nombre_recovered    16393\n",
    "Name: 137, dtype: int64"
   ]
  },
  {
   "cell_type": "markdown",
   "id": "dfc16bb8",
   "metadata": {},
   "source": [
    "nombre_infected       360\n",
    "nombre_sain          3018\n",
    "nombre_exposed        245\n",
    "nombre_recovered    16377\n",
    "Name: 138, dtype: int64"
   ]
  },
  {
   "cell_type": "markdown",
   "id": "cd19dfb1",
   "metadata": {},
   "source": [
    "nombre_infected       357\n",
    "nombre_sain          3016\n",
    "nombre_exposed        268\n",
    "nombre_recovered    16359\n",
    "Name: 139, dtype: int64"
   ]
  },
  {
   "cell_type": "markdown",
   "id": "dafe29c0",
   "metadata": {},
   "source": [
    "nombre_infected       371\n",
    "nombre_sain          3012\n",
    "nombre_exposed        277\n",
    "nombre_recovered    16340\n",
    "Name: 140, dtype: int64"
   ]
  },
  {
   "cell_type": "markdown",
   "id": "b1cf54e0",
   "metadata": {},
   "source": [
    "nombre_infected       387\n",
    "nombre_sain          2998\n",
    "nombre_exposed        300\n",
    "nombre_recovered    16315\n",
    "Name: 141, dtype: int64"
   ]
  },
  {
   "cell_type": "markdown",
   "id": "37a468f2",
   "metadata": {},
   "source": [
    "nombre_infected       400\n",
    "nombre_sain          2960\n",
    "nombre_exposed        329\n",
    "nombre_recovered    16311\n",
    "Name: 142, dtype: int64"
   ]
  },
  {
   "cell_type": "markdown",
   "id": "a292e09f",
   "metadata": {},
   "source": [
    "nombre_infected       425\n",
    "nombre_sain          2947\n",
    "nombre_exposed        306\n",
    "nombre_recovered    16322\n",
    "Name: 143, dtype: int64"
   ]
  },
  {
   "cell_type": "markdown",
   "id": "f3824aef",
   "metadata": {},
   "source": [
    "nombre_infected       453\n",
    "nombre_sain          2939\n",
    "nombre_exposed        309\n",
    "nombre_recovered    16299\n",
    "Name: 144, dtype: int64"
   ]
  },
  {
   "cell_type": "markdown",
   "id": "c750e963",
   "metadata": {},
   "source": [
    "nombre_infected       465\n",
    "nombre_sain          2936\n",
    "nombre_exposed        318\n",
    "nombre_recovered    16281\n",
    "Name: 145, dtype: int64"
   ]
  },
  {
   "cell_type": "markdown",
   "id": "7a79e792",
   "metadata": {},
   "source": [
    "nombre_infected       480\n",
    "nombre_sain          2907\n",
    "nombre_exposed        341\n",
    "nombre_recovered    16272\n",
    "Name: 146, dtype: int64"
   ]
  },
  {
   "cell_type": "markdown",
   "id": "296b45f9",
   "metadata": {},
   "source": [
    "nombre_infected       483\n",
    "nombre_sain          2861\n",
    "nombre_exposed        381\n",
    "nombre_recovered    16275\n",
    "Name: 147, dtype: int64"
   ]
  },
  {
   "cell_type": "markdown",
   "id": "556b4c8b",
   "metadata": {},
   "source": [
    "nombre_infected       489\n",
    "nombre_sain          2852\n",
    "nombre_exposed        380\n",
    "nombre_recovered    16279\n",
    "Name: 148, dtype: int64"
   ]
  },
  {
   "cell_type": "markdown",
   "id": "9d394300",
   "metadata": {},
   "source": [
    "nombre_infected       532\n",
    "nombre_sain          2831\n",
    "nombre_exposed        388\n",
    "nombre_recovered    16249\n",
    "Name: 149, dtype: int64"
   ]
  },
  {
   "cell_type": "markdown",
   "id": "c9dea9c0",
   "metadata": {},
   "source": [
    "nombre_infected       574\n",
    "nombre_sain          2815\n",
    "nombre_exposed        389\n",
    "nombre_recovered    16222\n",
    "Name: 150, dtype: int64"
   ]
  },
  {
   "cell_type": "markdown",
   "id": "a1eabbae",
   "metadata": {},
   "source": [
    "nombre_infected       578\n",
    "nombre_sain          2786\n",
    "nombre_exposed        418\n",
    "nombre_recovered    16218\n",
    "Name: 151, dtype: int64"
   ]
  },
  {
   "cell_type": "markdown",
   "id": "57a9efe1",
   "metadata": {},
   "source": [
    "nombre_infected       602\n",
    "nombre_sain          2756\n",
    "nombre_exposed        438\n",
    "nombre_recovered    16204\n",
    "Name: 152, dtype: int64"
   ]
  },
  {
   "cell_type": "markdown",
   "id": "ebd75886",
   "metadata": {},
   "source": [
    "nombre_infected       620\n",
    "nombre_sain          2733\n",
    "nombre_exposed        433\n",
    "nombre_recovered    16214\n",
    "Name: 153, dtype: int64"
   ]
  },
  {
   "cell_type": "markdown",
   "id": "5283be5c",
   "metadata": {},
   "source": [
    "nombre_infected       639\n",
    "nombre_sain          2666\n",
    "nombre_exposed        455\n",
    "nombre_recovered    16240\n",
    "Name: 154, dtype: int64"
   ]
  },
  {
   "cell_type": "markdown",
   "id": "72af9dd3",
   "metadata": {},
   "source": [
    "nombre_infected       660\n",
    "nombre_sain          2656\n",
    "nombre_exposed        450\n",
    "nombre_recovered    16234\n",
    "Name: 155, dtype: int64"
   ]
  },
  {
   "cell_type": "markdown",
   "id": "4470d06d",
   "metadata": {},
   "source": [
    "nombre_infected       683\n",
    "nombre_sain          2588\n",
    "nombre_exposed        467\n",
    "nombre_recovered    16262\n",
    "Name: 156, dtype: int64"
   ]
  },
  {
   "cell_type": "markdown",
   "id": "bc4bf71f",
   "metadata": {},
   "source": [
    "nombre_infected       688\n",
    "nombre_sain          2515\n",
    "nombre_exposed        489\n",
    "nombre_recovered    16308\n",
    "Name: 157, dtype: int64"
   ]
  },
  {
   "cell_type": "markdown",
   "id": "97c61123",
   "metadata": {},
   "source": [
    "nombre_infected       687\n",
    "nombre_sain          2456\n",
    "nombre_exposed        503\n",
    "nombre_recovered    16354\n",
    "Name: 158, dtype: int64"
   ]
  },
  {
   "cell_type": "markdown",
   "id": "e4a2c6c1",
   "metadata": {},
   "source": [
    "nombre_infected       712\n",
    "nombre_sain          2404\n",
    "nombre_exposed        493\n",
    "nombre_recovered    16391\n",
    "Name: 159, dtype: int64"
   ]
  },
  {
   "cell_type": "markdown",
   "id": "68fec6b4",
   "metadata": {},
   "source": [
    "nombre_infected       736\n",
    "nombre_sain          2369\n",
    "nombre_exposed        473\n",
    "nombre_recovered    16422\n",
    "Name: 160, dtype: int64"
   ]
  },
  {
   "cell_type": "markdown",
   "id": "dc57426d",
   "metadata": {},
   "source": [
    "nombre_infected       720\n",
    "nombre_sain          2307\n",
    "nombre_exposed        502\n",
    "nombre_recovered    16471\n",
    "Name: 161, dtype: int64"
   ]
  },
  {
   "cell_type": "markdown",
   "id": "23d26dfa",
   "metadata": {},
   "source": [
    "nombre_infected       725\n",
    "nombre_sain          2262\n",
    "nombre_exposed        486\n",
    "nombre_recovered    16527\n",
    "Name: 162, dtype: int64"
   ]
  },
  {
   "cell_type": "markdown",
   "id": "126c829b",
   "metadata": {},
   "source": [
    "nombre_infected       765\n",
    "nombre_sain          2212\n",
    "nombre_exposed        468\n",
    "nombre_recovered    16555\n",
    "Name: 163, dtype: int64"
   ]
  },
  {
   "cell_type": "markdown",
   "id": "9db8662c",
   "metadata": {},
   "source": [
    "nombre_infected       770\n",
    "nombre_sain          2177\n",
    "nombre_exposed        455\n",
    "nombre_recovered    16598\n",
    "Name: 164, dtype: int64"
   ]
  },
  {
   "cell_type": "markdown",
   "id": "bc66a23f",
   "metadata": {},
   "source": [
    "nombre_infected       767\n",
    "nombre_sain          2135\n",
    "nombre_exposed        464\n",
    "nombre_recovered    16634\n",
    "Name: 165, dtype: int64"
   ]
  },
  {
   "cell_type": "markdown",
   "id": "4b52663e",
   "metadata": {},
   "source": [
    "nombre_infected       796\n",
    "nombre_sain          2088\n",
    "nombre_exposed        436\n",
    "nombre_recovered    16680\n",
    "Name: 166, dtype: int64"
   ]
  },
  {
   "cell_type": "markdown",
   "id": "d673e201",
   "metadata": {},
   "source": [
    "nombre_infected       792\n",
    "nombre_sain          2060\n",
    "nombre_exposed        424\n",
    "nombre_recovered    16724\n",
    "Name: 167, dtype: int64"
   ]
  },
  {
   "cell_type": "markdown",
   "id": "5fe9b895",
   "metadata": {},
   "source": [
    "nombre_infected       774\n",
    "nombre_sain          2029\n",
    "nombre_exposed        410\n",
    "nombre_recovered    16787\n",
    "Name: 168, dtype: int64"
   ]
  },
  {
   "cell_type": "markdown",
   "id": "17617e29",
   "metadata": {},
   "source": [
    "nombre_infected       784\n",
    "nombre_sain          1996\n",
    "nombre_exposed        406\n",
    "nombre_recovered    16814\n",
    "Name: 169, dtype: int64"
   ]
  },
  {
   "cell_type": "markdown",
   "id": "b0d46501",
   "metadata": {},
   "source": [
    "nombre_infected       766\n",
    "nombre_sain          1961\n",
    "nombre_exposed        409\n",
    "nombre_recovered    16864\n",
    "Name: 170, dtype: int64"
   ]
  },
  {
   "cell_type": "markdown",
   "id": "55461109",
   "metadata": {},
   "source": [
    "nombre_infected       767\n",
    "nombre_sain          1959\n",
    "nombre_exposed        383\n",
    "nombre_recovered    16891\n",
    "Name: 171, dtype: int64"
   ]
  },
  {
   "cell_type": "markdown",
   "id": "aa7b17fd",
   "metadata": {},
   "source": [
    "nombre_infected       759\n",
    "nombre_sain          1932\n",
    "nombre_exposed        377\n",
    "nombre_recovered    16932\n",
    "Name: 172, dtype: int64"
   ]
  },
  {
   "cell_type": "markdown",
   "id": "a08d7641",
   "metadata": {},
   "source": [
    "nombre_infected       747\n",
    "nombre_sain          1902\n",
    "nombre_exposed        380\n",
    "nombre_recovered    16971\n",
    "Name: 173, dtype: int64"
   ]
  },
  {
   "cell_type": "markdown",
   "id": "ca8535a7",
   "metadata": {},
   "source": [
    "nombre_infected       723\n",
    "nombre_sain          1896\n",
    "nombre_exposed        372\n",
    "nombre_recovered    17009\n",
    "Name: 174, dtype: int64"
   ]
  },
  {
   "cell_type": "markdown",
   "id": "196d6b23",
   "metadata": {},
   "source": [
    "nombre_infected       724\n",
    "nombre_sain          1891\n",
    "nombre_exposed        365\n",
    "nombre_recovered    17020\n",
    "Name: 175, dtype: int64"
   ]
  },
  {
   "cell_type": "markdown",
   "id": "41b8362a",
   "metadata": {},
   "source": [
    "nombre_infected       699\n",
    "nombre_sain          1884\n",
    "nombre_exposed        376\n",
    "nombre_recovered    17041\n",
    "Name: 176, dtype: int64"
   ]
  },
  {
   "cell_type": "markdown",
   "id": "bfdab7c9",
   "metadata": {},
   "source": [
    "nombre_infected       672\n",
    "nombre_sain          1904\n",
    "nombre_exposed        390\n",
    "nombre_recovered    17034\n",
    "Name: 177, dtype: int64"
   ]
  },
  {
   "cell_type": "markdown",
   "id": "e5ff3a96",
   "metadata": {},
   "source": [
    "nombre_infected       655\n",
    "nombre_sain          1929\n",
    "nombre_exposed        364\n",
    "nombre_recovered    17052\n",
    "Name: 178, dtype: int64"
   ]
  },
  {
   "cell_type": "markdown",
   "id": "92c56811",
   "metadata": {},
   "source": [
    "nombre_infected       652\n",
    "nombre_sain          1935\n",
    "nombre_exposed        352\n",
    "nombre_recovered    17061\n",
    "Name: 179, dtype: int64"
   ]
  },
  {
   "cell_type": "markdown",
   "id": "2a4c076e",
   "metadata": {},
   "source": [
    "nombre_infected       648\n",
    "nombre_sain          1933\n",
    "nombre_exposed        358\n",
    "nombre_recovered    17061\n",
    "Name: 180, dtype: int64"
   ]
  },
  {
   "cell_type": "markdown",
   "id": "eb7f4137",
   "metadata": {},
   "source": [
    "nombre_infected       648\n",
    "nombre_sain          1939\n",
    "nombre_exposed        353\n",
    "nombre_recovered    17060\n",
    "Name: 181, dtype: int64"
   ]
  },
  {
   "cell_type": "markdown",
   "id": "0c47667e",
   "metadata": {},
   "source": [
    "nombre_infected       632\n",
    "nombre_sain          1952\n",
    "nombre_exposed        372\n",
    "nombre_recovered    17044\n",
    "Name: 182, dtype: int64"
   ]
  },
  {
   "cell_type": "markdown",
   "id": "86ca8364",
   "metadata": {},
   "source": [
    "nombre_infected       635\n",
    "nombre_sain          1970\n",
    "nombre_exposed        373\n",
    "nombre_recovered    17022\n",
    "Name: 183, dtype: int64"
   ]
  },
  {
   "cell_type": "markdown",
   "id": "ffc0f498",
   "metadata": {},
   "source": [
    "nombre_infected       634\n",
    "nombre_sain          1985\n",
    "nombre_exposed        377\n",
    "nombre_recovered    17004\n",
    "Name: 184, dtype: int64"
   ]
  },
  {
   "cell_type": "markdown",
   "id": "04251c51",
   "metadata": {},
   "source": [
    "nombre_infected       638\n",
    "nombre_sain          2000\n",
    "nombre_exposed        369\n",
    "nombre_recovered    16993\n",
    "Name: 185, dtype: int64"
   ]
  },
  {
   "cell_type": "markdown",
   "id": "e9724538",
   "metadata": {},
   "source": [
    "nombre_infected       637\n",
    "nombre_sain          1998\n",
    "nombre_exposed        361\n",
    "nombre_recovered    17004\n",
    "Name: 186, dtype: int64"
   ]
  },
  {
   "cell_type": "markdown",
   "id": "4406add5",
   "metadata": {},
   "source": [
    "nombre_infected       650\n",
    "nombre_sain          2017\n",
    "nombre_exposed        351\n",
    "nombre_recovered    16982\n",
    "Name: 187, dtype: int64"
   ]
  },
  {
   "cell_type": "markdown",
   "id": "eded8454",
   "metadata": {},
   "source": [
    "nombre_infected       657\n",
    "nombre_sain          2029\n",
    "nombre_exposed        343\n",
    "nombre_recovered    16971\n",
    "Name: 188, dtype: int64"
   ]
  },
  {
   "cell_type": "markdown",
   "id": "fef5a81e",
   "metadata": {},
   "source": [
    "nombre_infected       655\n",
    "nombre_sain          2051\n",
    "nombre_exposed        336\n",
    "nombre_recovered    16958\n",
    "Name: 189, dtype: int64"
   ]
  },
  {
   "cell_type": "markdown",
   "id": "178fc401",
   "metadata": {},
   "source": [
    "nombre_infected       663\n",
    "nombre_sain          2049\n",
    "nombre_exposed        335\n",
    "nombre_recovered    16953\n",
    "Name: 190, dtype: int64"
   ]
  },
  {
   "cell_type": "markdown",
   "id": "f118f0a6",
   "metadata": {},
   "source": [
    "nombre_infected       663\n",
    "nombre_sain          2058\n",
    "nombre_exposed        313\n",
    "nombre_recovered    16966\n",
    "Name: 191, dtype: int64"
   ]
  },
  {
   "cell_type": "markdown",
   "id": "f022bbb6",
   "metadata": {},
   "source": [
    "nombre_infected       640\n",
    "nombre_sain          2047\n",
    "nombre_exposed        341\n",
    "nombre_recovered    16972\n",
    "Name: 192, dtype: int64"
   ]
  },
  {
   "cell_type": "markdown",
   "id": "f02a5915",
   "metadata": {},
   "source": [
    "nombre_infected       632\n",
    "nombre_sain          2044\n",
    "nombre_exposed        360\n",
    "nombre_recovered    16964\n",
    "Name: 193, dtype: int64"
   ]
  },
  {
   "cell_type": "markdown",
   "id": "8ca94036",
   "metadata": {},
   "source": [
    "nombre_infected       636\n",
    "nombre_sain          2061\n",
    "nombre_exposed        353\n",
    "nombre_recovered    16950\n",
    "Name: 194, dtype: int64"
   ]
  },
  {
   "cell_type": "markdown",
   "id": "a2341555",
   "metadata": {},
   "source": [
    "nombre_infected       639\n",
    "nombre_sain          2091\n",
    "nombre_exposed        347\n",
    "nombre_recovered    16923\n",
    "Name: 195, dtype: int64"
   ]
  },
  {
   "cell_type": "markdown",
   "id": "710690c5",
   "metadata": {},
   "source": [
    "nombre_infected       630\n",
    "nombre_sain          2099\n",
    "nombre_exposed        353\n",
    "nombre_recovered    16918\n",
    "Name: 196, dtype: int64"
   ]
  },
  {
   "cell_type": "markdown",
   "id": "ce9bf73f",
   "metadata": {},
   "source": [
    "nombre_infected       614\n",
    "nombre_sain          2098\n",
    "nombre_exposed        372\n",
    "nombre_recovered    16916\n",
    "Name: 197, dtype: int64"
   ]
  },
  {
   "cell_type": "markdown",
   "id": "366d31f8",
   "metadata": {},
   "source": [
    "nombre_infected       618\n",
    "nombre_sain          2113\n",
    "nombre_exposed        364\n",
    "nombre_recovered    16905\n",
    "Name: 198, dtype: int64"
   ]
  },
  {
   "cell_type": "markdown",
   "id": "a1da78b5",
   "metadata": {},
   "source": [
    "nombre_infected       622\n",
    "nombre_sain          2110\n",
    "nombre_exposed        358\n",
    "nombre_recovered    16910\n",
    "Name: 199, dtype: int64"
   ]
  },
  {
   "cell_type": "markdown",
   "id": "0e5f234c",
   "metadata": {},
   "source": [
    "nombre_infected       642\n",
    "nombre_sain          2108\n",
    "nombre_exposed        341\n",
    "nombre_recovered    16909\n",
    "Name: 200, dtype: int64"
   ]
  },
  {
   "cell_type": "markdown",
   "id": "fca7d985",
   "metadata": {},
   "source": [
    "nombre_infected       644\n",
    "nombre_sain          2087\n",
    "nombre_exposed        363\n",
    "nombre_recovered    16906\n",
    "Name: 201, dtype: int64"
   ]
  },
  {
   "cell_type": "markdown",
   "id": "b156d073",
   "metadata": {},
   "source": [
    "nombre_infected       636\n",
    "nombre_sain          2079\n",
    "nombre_exposed        378\n",
    "nombre_recovered    16907\n",
    "Name: 202, dtype: int64"
   ]
  },
  {
   "cell_type": "markdown",
   "id": "456e7d8e",
   "metadata": {},
   "source": [
    "nombre_infected       664\n",
    "nombre_sain          2079\n",
    "nombre_exposed        363\n",
    "nombre_recovered    16894\n",
    "Name: 203, dtype: int64"
   ]
  },
  {
   "cell_type": "markdown",
   "id": "9047b7a8",
   "metadata": {},
   "source": [
    "nombre_infected       663\n",
    "nombre_sain          2088\n",
    "nombre_exposed        354\n",
    "nombre_recovered    16895\n",
    "Name: 204, dtype: int64"
   ]
  },
  {
   "cell_type": "markdown",
   "id": "c7e06eaa",
   "metadata": {},
   "source": [
    "nombre_infected       675\n",
    "nombre_sain          2093\n",
    "nombre_exposed        360\n",
    "nombre_recovered    16872\n",
    "Name: 205, dtype: int64"
   ]
  },
  {
   "cell_type": "markdown",
   "id": "875abe71",
   "metadata": {},
   "source": [
    "nombre_infected       670\n",
    "nombre_sain          2106\n",
    "nombre_exposed        364\n",
    "nombre_recovered    16860\n",
    "Name: 206, dtype: int64"
   ]
  },
  {
   "cell_type": "markdown",
   "id": "e12dc237",
   "metadata": {},
   "source": [
    "nombre_infected       672\n",
    "nombre_sain          2102\n",
    "nombre_exposed        379\n",
    "nombre_recovered    16847\n",
    "Name: 207, dtype: int64"
   ]
  },
  {
   "cell_type": "markdown",
   "id": "8b53a254",
   "metadata": {},
   "source": [
    "nombre_infected       682\n",
    "nombre_sain          2093\n",
    "nombre_exposed        376\n",
    "nombre_recovered    16849\n",
    "Name: 208, dtype: int64"
   ]
  },
  {
   "cell_type": "markdown",
   "id": "ddf56253",
   "metadata": {},
   "source": [
    "nombre_infected       696\n",
    "nombre_sain          2083\n",
    "nombre_exposed        362\n",
    "nombre_recovered    16859\n",
    "Name: 209, dtype: int64"
   ]
  },
  {
   "cell_type": "markdown",
   "id": "45ad7a22",
   "metadata": {},
   "source": [
    "nombre_infected       675\n",
    "nombre_sain          2059\n",
    "nombre_exposed        365\n",
    "nombre_recovered    16901\n",
    "Name: 210, dtype: int64"
   ]
  },
  {
   "cell_type": "markdown",
   "id": "e155fd01",
   "metadata": {},
   "source": [
    "nombre_infected       703\n",
    "nombre_sain          2076\n",
    "nombre_exposed        345\n",
    "nombre_recovered    16876\n",
    "Name: 211, dtype: int64"
   ]
  },
  {
   "cell_type": "markdown",
   "id": "6858f1b5",
   "metadata": {},
   "source": [
    "nombre_infected       686\n",
    "nombre_sain          2064\n",
    "nombre_exposed        363\n",
    "nombre_recovered    16887\n",
    "Name: 212, dtype: int64"
   ]
  },
  {
   "cell_type": "markdown",
   "id": "dbb9dfa9",
   "metadata": {},
   "source": [
    "nombre_infected       701\n",
    "nombre_sain          2050\n",
    "nombre_exposed        365\n",
    "nombre_recovered    16884\n",
    "Name: 213, dtype: int64"
   ]
  },
  {
   "cell_type": "markdown",
   "id": "850b500e",
   "metadata": {},
   "source": [
    "nombre_infected       715\n",
    "nombre_sain          2038\n",
    "nombre_exposed        370\n",
    "nombre_recovered    16877\n",
    "Name: 214, dtype: int64"
   ]
  },
  {
   "cell_type": "markdown",
   "id": "1f6530c3",
   "metadata": {},
   "source": [
    "nombre_infected       703\n",
    "nombre_sain          2051\n",
    "nombre_exposed        376\n",
    "nombre_recovered    16870\n",
    "Name: 215, dtype: int64"
   ]
  },
  {
   "cell_type": "markdown",
   "id": "95992984",
   "metadata": {},
   "source": [
    "nombre_infected       707\n",
    "nombre_sain          2058\n",
    "nombre_exposed        359\n",
    "nombre_recovered    16876\n",
    "Name: 216, dtype: int64"
   ]
  },
  {
   "cell_type": "markdown",
   "id": "536fc2e3",
   "metadata": {},
   "source": [
    "nombre_infected       718\n",
    "nombre_sain          2068\n",
    "nombre_exposed        334\n",
    "nombre_recovered    16880\n",
    "Name: 217, dtype: int64"
   ]
  },
  {
   "cell_type": "markdown",
   "id": "03aa38ca",
   "metadata": {},
   "source": [
    "nombre_infected       710\n",
    "nombre_sain          2094\n",
    "nombre_exposed        328\n",
    "nombre_recovered    16868\n",
    "Name: 218, dtype: int64"
   ]
  },
  {
   "cell_type": "markdown",
   "id": "d1e4ae17",
   "metadata": {},
   "source": [
    "nombre_infected       698\n",
    "nombre_sain          2100\n",
    "nombre_exposed        319\n",
    "nombre_recovered    16883\n",
    "Name: 219, dtype: int64"
   ]
  },
  {
   "cell_type": "markdown",
   "id": "bf25644e",
   "metadata": {},
   "source": [
    "nombre_infected       698\n",
    "nombre_sain          2086\n",
    "nombre_exposed        328\n",
    "nombre_recovered    16888\n",
    "Name: 220, dtype: int64"
   ]
  },
  {
   "cell_type": "markdown",
   "id": "521bcfd6",
   "metadata": {},
   "source": [
    "nombre_infected       685\n",
    "nombre_sain          2103\n",
    "nombre_exposed        328\n",
    "nombre_recovered    16884\n",
    "Name: 221, dtype: int64"
   ]
  },
  {
   "cell_type": "markdown",
   "id": "5017ba80",
   "metadata": {},
   "source": [
    "nombre_infected       693\n",
    "nombre_sain          2101\n",
    "nombre_exposed        317\n",
    "nombre_recovered    16889\n",
    "Name: 222, dtype: int64"
   ]
  },
  {
   "cell_type": "markdown",
   "id": "fbf46467",
   "metadata": {},
   "source": [
    "nombre_infected       704\n",
    "nombre_sain          2099\n",
    "nombre_exposed        317\n",
    "nombre_recovered    16880\n",
    "Name: 223, dtype: int64"
   ]
  },
  {
   "cell_type": "markdown",
   "id": "87755d35",
   "metadata": {},
   "source": [
    "nombre_infected       706\n",
    "nombre_sain          2078\n",
    "nombre_exposed        310\n",
    "nombre_recovered    16906\n",
    "Name: 224, dtype: int64"
   ]
  },
  {
   "cell_type": "markdown",
   "id": "6e08b7c7",
   "metadata": {},
   "source": [
    "nombre_infected       704\n",
    "nombre_sain          2056\n",
    "nombre_exposed        324\n",
    "nombre_recovered    16916\n",
    "Name: 225, dtype: int64"
   ]
  },
  {
   "cell_type": "markdown",
   "id": "ad22e93b",
   "metadata": {},
   "source": [
    "nombre_infected       692\n",
    "nombre_sain          2064\n",
    "nombre_exposed        327\n",
    "nombre_recovered    16917\n",
    "Name: 226, dtype: int64"
   ]
  },
  {
   "cell_type": "markdown",
   "id": "2ab34df9",
   "metadata": {},
   "source": [
    "nombre_infected       684\n",
    "nombre_sain          2067\n",
    "nombre_exposed        323\n",
    "nombre_recovered    16926\n",
    "Name: 227, dtype: int64"
   ]
  },
  {
   "cell_type": "markdown",
   "id": "866b11c0",
   "metadata": {},
   "source": [
    "nombre_infected       679\n",
    "nombre_sain          2081\n",
    "nombre_exposed        317\n",
    "nombre_recovered    16923\n",
    "Name: 228, dtype: int64"
   ]
  },
  {
   "cell_type": "markdown",
   "id": "84b1f88b",
   "metadata": {},
   "source": [
    "nombre_infected       689\n",
    "nombre_sain          2094\n",
    "nombre_exposed        313\n",
    "nombre_recovered    16904\n",
    "Name: 229, dtype: int64"
   ]
  },
  {
   "cell_type": "markdown",
   "id": "36c20952",
   "metadata": {},
   "source": [
    "nombre_infected       687\n",
    "nombre_sain          2094\n",
    "nombre_exposed        329\n",
    "nombre_recovered    16890\n",
    "Name: 230, dtype: int64"
   ]
  },
  {
   "cell_type": "markdown",
   "id": "9c2fc644",
   "metadata": {},
   "source": [
    "nombre_infected       694\n",
    "nombre_sain          2118\n",
    "nombre_exposed        314\n",
    "nombre_recovered    16874\n",
    "Name: 231, dtype: int64"
   ]
  },
  {
   "cell_type": "markdown",
   "id": "32dbd739",
   "metadata": {},
   "source": [
    "nombre_infected       680\n",
    "nombre_sain          2140\n",
    "nombre_exposed        325\n",
    "nombre_recovered    16855\n",
    "Name: 232, dtype: int64"
   ]
  },
  {
   "cell_type": "markdown",
   "id": "9140cfde",
   "metadata": {},
   "source": [
    "nombre_infected       665\n",
    "nombre_sain          2143\n",
    "nombre_exposed        336\n",
    "nombre_recovered    16856\n",
    "Name: 233, dtype: int64"
   ]
  },
  {
   "cell_type": "markdown",
   "id": "41b52bf0",
   "metadata": {},
   "source": [
    "nombre_infected       660\n",
    "nombre_sain          2171\n",
    "nombre_exposed        343\n",
    "nombre_recovered    16826\n",
    "Name: 234, dtype: int64"
   ]
  },
  {
   "cell_type": "markdown",
   "id": "1ad4347e",
   "metadata": {},
   "source": [
    "nombre_infected       677\n",
    "nombre_sain          2211\n",
    "nombre_exposed        315\n",
    "nombre_recovered    16797\n",
    "Name: 235, dtype: int64"
   ]
  },
  {
   "cell_type": "markdown",
   "id": "bb0ec669",
   "metadata": {},
   "source": [
    "nombre_infected       678\n",
    "nombre_sain          2219\n",
    "nombre_exposed        317\n",
    "nombre_recovered    16786\n",
    "Name: 236, dtype: int64"
   ]
  },
  {
   "cell_type": "markdown",
   "id": "a4804e37",
   "metadata": {},
   "source": [
    "nombre_infected       642\n",
    "nombre_sain          2213\n",
    "nombre_exposed        346\n",
    "nombre_recovered    16799\n",
    "Name: 237, dtype: int64"
   ]
  },
  {
   "cell_type": "markdown",
   "id": "1cfa049c",
   "metadata": {},
   "source": [
    "nombre_infected       620\n",
    "nombre_sain          2258\n",
    "nombre_exposed        344\n",
    "nombre_recovered    16778\n",
    "Name: 238, dtype: int64"
   ]
  },
  {
   "cell_type": "markdown",
   "id": "c3bdea63",
   "metadata": {},
   "source": [
    "nombre_infected       628\n",
    "nombre_sain          2267\n",
    "nombre_exposed        340\n",
    "nombre_recovered    16765\n",
    "Name: 239, dtype: int64"
   ]
  },
  {
   "cell_type": "markdown",
   "id": "0deb8732",
   "metadata": {},
   "source": [
    "nombre_infected       638\n",
    "nombre_sain          2252\n",
    "nombre_exposed        354\n",
    "nombre_recovered    16756\n",
    "Name: 240, dtype: int64"
   ]
  },
  {
   "cell_type": "markdown",
   "id": "33f74bce",
   "metadata": {},
   "source": [
    "nombre_infected       648\n",
    "nombre_sain          2293\n",
    "nombre_exposed        338\n",
    "nombre_recovered    16721\n",
    "Name: 241, dtype: int64"
   ]
  },
  {
   "cell_type": "markdown",
   "id": "c87afe3b",
   "metadata": {},
   "source": [
    "nombre_infected       679\n",
    "nombre_sain          2314\n",
    "nombre_exposed        315\n",
    "nombre_recovered    16692\n",
    "Name: 242, dtype: int64"
   ]
  },
  {
   "cell_type": "markdown",
   "id": "095e633e",
   "metadata": {},
   "source": [
    "nombre_infected       665\n",
    "nombre_sain          2298\n",
    "nombre_exposed        336\n",
    "nombre_recovered    16701\n",
    "Name: 243, dtype: int64"
   ]
  },
  {
   "cell_type": "markdown",
   "id": "b70d8393",
   "metadata": {},
   "source": [
    "nombre_infected       642\n",
    "nombre_sain          2305\n",
    "nombre_exposed        361\n",
    "nombre_recovered    16692\n",
    "Name: 244, dtype: int64"
   ]
  },
  {
   "cell_type": "markdown",
   "id": "96fb8987",
   "metadata": {},
   "source": [
    "nombre_infected       664\n",
    "nombre_sain          2308\n",
    "nombre_exposed        354\n",
    "nombre_recovered    16674\n",
    "Name: 245, dtype: int64"
   ]
  },
  {
   "cell_type": "markdown",
   "id": "0a080615",
   "metadata": {},
   "source": [
    "nombre_infected       677\n",
    "nombre_sain          2294\n",
    "nombre_exposed        354\n",
    "nombre_recovered    16675\n",
    "Name: 246, dtype: int64"
   ]
  },
  {
   "cell_type": "markdown",
   "id": "f350d47f",
   "metadata": {},
   "source": [
    "nombre_infected       672\n",
    "nombre_sain          2312\n",
    "nombre_exposed        344\n",
    "nombre_recovered    16672\n",
    "Name: 247, dtype: int64"
   ]
  },
  {
   "cell_type": "markdown",
   "id": "fb17ee18",
   "metadata": {},
   "source": [
    "nombre_infected       675\n",
    "nombre_sain          2326\n",
    "nombre_exposed        352\n",
    "nombre_recovered    16647\n",
    "Name: 248, dtype: int64"
   ]
  },
  {
   "cell_type": "markdown",
   "id": "d4289f39",
   "metadata": {},
   "source": [
    "nombre_infected       661\n",
    "nombre_sain          2366\n",
    "nombre_exposed        346\n",
    "nombre_recovered    16627\n",
    "Name: 249, dtype: int64"
   ]
  },
  {
   "cell_type": "markdown",
   "id": "a460c594",
   "metadata": {},
   "source": [
    "nombre_infected       665\n",
    "nombre_sain          2389\n",
    "nombre_exposed        345\n",
    "nombre_recovered    16601\n",
    "Name: 250, dtype: int64"
   ]
  },
  {
   "cell_type": "markdown",
   "id": "dc7dacbb",
   "metadata": {},
   "source": [
    "nombre_infected       656\n",
    "nombre_sain          2388\n",
    "nombre_exposed        355\n",
    "nombre_recovered    16601\n",
    "Name: 251, dtype: int64"
   ]
  },
  {
   "cell_type": "markdown",
   "id": "d78a307c",
   "metadata": {},
   "source": [
    "nombre_infected       650\n",
    "nombre_sain          2424\n",
    "nombre_exposed        356\n",
    "nombre_recovered    16570\n",
    "Name: 252, dtype: int64"
   ]
  },
  {
   "cell_type": "markdown",
   "id": "2a0bab50",
   "metadata": {},
   "source": [
    "nombre_infected       658\n",
    "nombre_sain          2449\n",
    "nombre_exposed        335\n",
    "nombre_recovered    16558\n",
    "Name: 253, dtype: int64"
   ]
  },
  {
   "cell_type": "markdown",
   "id": "9d44986f",
   "metadata": {},
   "source": [
    "nombre_infected       662\n",
    "nombre_sain          2422\n",
    "nombre_exposed        363\n",
    "nombre_recovered    16553\n",
    "Name: 254, dtype: int64"
   ]
  },
  {
   "cell_type": "markdown",
   "id": "e4983d5a",
   "metadata": {},
   "source": [
    "nombre_infected       658\n",
    "nombre_sain          2432\n",
    "nombre_exposed        382\n",
    "nombre_recovered    16528\n",
    "Name: 255, dtype: int64"
   ]
  },
  {
   "cell_type": "markdown",
   "id": "94de25c3",
   "metadata": {},
   "source": [
    "nombre_infected       673\n",
    "nombre_sain          2414\n",
    "nombre_exposed        395\n",
    "nombre_recovered    16518\n",
    "Name: 256, dtype: int64"
   ]
  },
  {
   "cell_type": "markdown",
   "id": "836e0072",
   "metadata": {},
   "source": [
    "nombre_infected       687\n",
    "nombre_sain          2422\n",
    "nombre_exposed        400\n",
    "nombre_recovered    16491\n",
    "Name: 257, dtype: int64"
   ]
  },
  {
   "cell_type": "markdown",
   "id": "510da150",
   "metadata": {},
   "source": [
    "nombre_infected       695\n",
    "nombre_sain          2440\n",
    "nombre_exposed        393\n",
    "nombre_recovered    16472\n",
    "Name: 258, dtype: int64"
   ]
  },
  {
   "cell_type": "markdown",
   "id": "57732dcf",
   "metadata": {},
   "source": [
    "nombre_infected       692\n",
    "nombre_sain          2439\n",
    "nombre_exposed        417\n",
    "nombre_recovered    16452\n",
    "Name: 259, dtype: int64"
   ]
  },
  {
   "cell_type": "markdown",
   "id": "4c7d5415",
   "metadata": {},
   "source": [
    "nombre_infected       680\n",
    "nombre_sain          2446\n",
    "nombre_exposed        435\n",
    "nombre_recovered    16439\n",
    "Name: 260, dtype: int64"
   ]
  },
  {
   "cell_type": "markdown",
   "id": "4eb7a788",
   "metadata": {},
   "source": [
    "nombre_infected       715\n",
    "nombre_sain          2462\n",
    "nombre_exposed        413\n",
    "nombre_recovered    16410\n",
    "Name: 261, dtype: int64"
   ]
  },
  {
   "cell_type": "markdown",
   "id": "fd195878",
   "metadata": {},
   "source": [
    "nombre_infected       734\n",
    "nombre_sain          2438\n",
    "nombre_exposed        430\n",
    "nombre_recovered    16398\n",
    "Name: 262, dtype: int64"
   ]
  },
  {
   "cell_type": "markdown",
   "id": "a93c1be3",
   "metadata": {},
   "source": [
    "nombre_infected       733\n",
    "nombre_sain          2437\n",
    "nombre_exposed        460\n",
    "nombre_recovered    16370\n",
    "Name: 263, dtype: int64"
   ]
  },
  {
   "cell_type": "markdown",
   "id": "7de1455d",
   "metadata": {},
   "source": [
    "nombre_infected       758\n",
    "nombre_sain          2445\n",
    "nombre_exposed        464\n",
    "nombre_recovered    16333\n",
    "Name: 264, dtype: int64"
   ]
  },
  {
   "cell_type": "markdown",
   "id": "c6122570",
   "metadata": {},
   "source": [
    "nombre_infected       769\n",
    "nombre_sain          2451\n",
    "nombre_exposed        464\n",
    "nombre_recovered    16316\n",
    "Name: 265, dtype: int64"
   ]
  },
  {
   "cell_type": "markdown",
   "id": "b762ba3f",
   "metadata": {},
   "source": [
    "nombre_infected       799\n",
    "nombre_sain          2436\n",
    "nombre_exposed        471\n",
    "nombre_recovered    16294\n",
    "Name: 266, dtype: int64"
   ]
  },
  {
   "cell_type": "markdown",
   "id": "f2dbb2e9",
   "metadata": {},
   "source": [
    "nombre_infected       817\n",
    "nombre_sain          2449\n",
    "nombre_exposed        476\n",
    "nombre_recovered    16258\n",
    "Name: 267, dtype: int64"
   ]
  },
  {
   "cell_type": "markdown",
   "id": "60627068",
   "metadata": {},
   "source": [
    "nombre_infected       865\n",
    "nombre_sain          2418\n",
    "nombre_exposed        471\n",
    "nombre_recovered    16246\n",
    "Name: 268, dtype: int64"
   ]
  },
  {
   "cell_type": "markdown",
   "id": "09b03b4e",
   "metadata": {},
   "source": [
    "nombre_infected       874\n",
    "nombre_sain          2417\n",
    "nombre_exposed        465\n",
    "nombre_recovered    16244\n",
    "Name: 269, dtype: int64"
   ]
  },
  {
   "cell_type": "markdown",
   "id": "f33c2676",
   "metadata": {},
   "source": [
    "nombre_infected       876\n",
    "nombre_sain          2420\n",
    "nombre_exposed        474\n",
    "nombre_recovered    16230\n",
    "Name: 270, dtype: int64"
   ]
  },
  {
   "cell_type": "markdown",
   "id": "d85e0d26",
   "metadata": {},
   "source": [
    "nombre_infected       883\n",
    "nombre_sain          2400\n",
    "nombre_exposed        476\n",
    "nombre_recovered    16241\n",
    "Name: 271, dtype: int64"
   ]
  },
  {
   "cell_type": "markdown",
   "id": "aa5db27f",
   "metadata": {},
   "source": [
    "nombre_infected       896\n",
    "nombre_sain          2382\n",
    "nombre_exposed        467\n",
    "nombre_recovered    16255\n",
    "Name: 272, dtype: int64"
   ]
  },
  {
   "cell_type": "markdown",
   "id": "c9a21e28",
   "metadata": {},
   "source": [
    "nombre_infected       887\n",
    "nombre_sain          2375\n",
    "nombre_exposed        493\n",
    "nombre_recovered    16245\n",
    "Name: 273, dtype: int64"
   ]
  },
  {
   "cell_type": "markdown",
   "id": "c8cd2223",
   "metadata": {},
   "source": [
    "nombre_infected       883\n",
    "nombre_sain          2387\n",
    "nombre_exposed        504\n",
    "nombre_recovered    16226\n",
    "Name: 274, dtype: int64"
   ]
  },
  {
   "cell_type": "markdown",
   "id": "e10520b5",
   "metadata": {},
   "source": [
    "nombre_infected       900\n",
    "nombre_sain          2389\n",
    "nombre_exposed        495\n",
    "nombre_recovered    16216\n",
    "Name: 275, dtype: int64"
   ]
  },
  {
   "cell_type": "markdown",
   "id": "9b28594a",
   "metadata": {},
   "source": [
    "nombre_infected       888\n",
    "nombre_sain          2383\n",
    "nombre_exposed        513\n",
    "nombre_recovered    16216\n",
    "Name: 276, dtype: int64"
   ]
  },
  {
   "cell_type": "markdown",
   "id": "12628862",
   "metadata": {},
   "source": [
    "nombre_infected       909\n",
    "nombre_sain          2353\n",
    "nombre_exposed        517\n",
    "nombre_recovered    16221\n",
    "Name: 277, dtype: int64"
   ]
  },
  {
   "cell_type": "markdown",
   "id": "5a0997f9",
   "metadata": {},
   "source": [
    "nombre_infected       926\n",
    "nombre_sain          2351\n",
    "nombre_exposed        511\n",
    "nombre_recovered    16212\n",
    "Name: 278, dtype: int64"
   ]
  },
  {
   "cell_type": "markdown",
   "id": "217341b6",
   "metadata": {},
   "source": [
    "nombre_infected       926\n",
    "nombre_sain          2314\n",
    "nombre_exposed        546\n",
    "nombre_recovered    16214\n",
    "Name: 279, dtype: int64"
   ]
  },
  {
   "cell_type": "markdown",
   "id": "7093e296",
   "metadata": {},
   "source": [
    "nombre_infected       943\n",
    "nombre_sain          2285\n",
    "nombre_exposed        549\n",
    "nombre_recovered    16223\n",
    "Name: 280, dtype: int64"
   ]
  },
  {
   "cell_type": "markdown",
   "id": "97bb8cb7",
   "metadata": {},
   "source": [
    "nombre_infected       942\n",
    "nombre_sain          2252\n",
    "nombre_exposed        554\n",
    "nombre_recovered    16252\n",
    "Name: 281, dtype: int64"
   ]
  },
  {
   "cell_type": "markdown",
   "id": "8b1989bb",
   "metadata": {},
   "source": [
    "nombre_infected       973\n",
    "nombre_sain          2219\n",
    "nombre_exposed        544\n",
    "nombre_recovered    16264\n",
    "Name: 282, dtype: int64"
   ]
  },
  {
   "cell_type": "markdown",
   "id": "a6b68c1f",
   "metadata": {},
   "source": [
    "nombre_infected       976\n",
    "nombre_sain          2175\n",
    "nombre_exposed        549\n",
    "nombre_recovered    16300\n",
    "Name: 283, dtype: int64"
   ]
  },
  {
   "cell_type": "markdown",
   "id": "cbc725cb",
   "metadata": {},
   "source": [
    "nombre_infected       985\n",
    "nombre_sain          2126\n",
    "nombre_exposed        555\n",
    "nombre_recovered    16334\n",
    "Name: 284, dtype: int64"
   ]
  },
  {
   "cell_type": "markdown",
   "id": "f1b9e7f6",
   "metadata": {},
   "source": [
    "nombre_infected       996\n",
    "nombre_sain          2070\n",
    "nombre_exposed        562\n",
    "nombre_recovered    16372\n",
    "Name: 285, dtype: int64"
   ]
  },
  {
   "cell_type": "markdown",
   "id": "ebdb5611",
   "metadata": {},
   "source": [
    "nombre_infected      1017\n",
    "nombre_sain          2021\n",
    "nombre_exposed        562\n",
    "nombre_recovered    16400\n",
    "Name: 286, dtype: int64"
   ]
  },
  {
   "cell_type": "markdown",
   "id": "60b4bc94",
   "metadata": {},
   "source": [
    "nombre_infected      1033\n",
    "nombre_sain          1986\n",
    "nombre_exposed        549\n",
    "nombre_recovered    16432\n",
    "Name: 287, dtype: int64"
   ]
  },
  {
   "cell_type": "markdown",
   "id": "acdac990",
   "metadata": {},
   "source": [
    "nombre_infected      1060\n",
    "nombre_sain          1951\n",
    "nombre_exposed        542\n",
    "nombre_recovered    16447\n",
    "Name: 288, dtype: int64"
   ]
  },
  {
   "cell_type": "markdown",
   "id": "7bc06419",
   "metadata": {},
   "source": [
    "nombre_infected      1085\n",
    "nombre_sain          1910\n",
    "nombre_exposed        524\n",
    "nombre_recovered    16481\n",
    "Name: 289, dtype: int64"
   ]
  },
  {
   "cell_type": "markdown",
   "id": "c432395e",
   "metadata": {},
   "source": [
    "nombre_infected      1065\n",
    "nombre_sain          1895\n",
    "nombre_exposed        526\n",
    "nombre_recovered    16514\n",
    "Name: 290, dtype: int64"
   ]
  },
  {
   "cell_type": "markdown",
   "id": "7fd84f6a",
   "metadata": {},
   "source": [
    "nombre_infected      1054\n",
    "nombre_sain          1885\n",
    "nombre_exposed        522\n",
    "nombre_recovered    16539\n",
    "Name: 291, dtype: int64"
   ]
  },
  {
   "cell_type": "markdown",
   "id": "f0c7cd39",
   "metadata": {},
   "source": [
    "nombre_infected      1056\n",
    "nombre_sain          1888\n",
    "nombre_exposed        507\n",
    "nombre_recovered    16549\n",
    "Name: 292, dtype: int64"
   ]
  },
  {
   "cell_type": "markdown",
   "id": "a2958a43",
   "metadata": {},
   "source": [
    "nombre_infected      1078\n",
    "nombre_sain          1874\n",
    "nombre_exposed        520\n",
    "nombre_recovered    16528\n",
    "Name: 293, dtype: int64"
   ]
  },
  {
   "cell_type": "markdown",
   "id": "ab6d12b7",
   "metadata": {},
   "source": [
    "nombre_infected      1063\n",
    "nombre_sain          1860\n",
    "nombre_exposed        510\n",
    "nombre_recovered    16567\n",
    "Name: 294, dtype: int64"
   ]
  },
  {
   "cell_type": "markdown",
   "id": "978760f6",
   "metadata": {},
   "source": [
    "nombre_infected      1066\n",
    "nombre_sain          1853\n",
    "nombre_exposed        516\n",
    "nombre_recovered    16565\n",
    "Name: 295, dtype: int64"
   ]
  },
  {
   "cell_type": "markdown",
   "id": "2645a2ff",
   "metadata": {},
   "source": [
    "nombre_infected      1055\n",
    "nombre_sain          1841\n",
    "nombre_exposed        532\n",
    "nombre_recovered    16572\n",
    "Name: 296, dtype: int64"
   ]
  },
  {
   "cell_type": "markdown",
   "id": "a2946715",
   "metadata": {},
   "source": [
    "nombre_infected      1065\n",
    "nombre_sain          1851\n",
    "nombre_exposed        515\n",
    "nombre_recovered    16569\n",
    "Name: 297, dtype: int64"
   ]
  },
  {
   "cell_type": "markdown",
   "id": "7d0b020b",
   "metadata": {},
   "source": [
    "nombre_infected      1056\n",
    "nombre_sain          1849\n",
    "nombre_exposed        505\n",
    "nombre_recovered    16590\n",
    "Name: 298, dtype: int64"
   ]
  },
  {
   "cell_type": "markdown",
   "id": "28fcd625",
   "metadata": {},
   "source": [
    "nombre_infected      1067\n",
    "nombre_sain          1843\n",
    "nombre_exposed        483\n",
    "nombre_recovered    16607\n",
    "Name: 299, dtype: int64"
   ]
  },
  {
   "cell_type": "markdown",
   "id": "9601ef23",
   "metadata": {},
   "source": [
    "nombre_infected      1051\n",
    "nombre_sain          1846\n",
    "nombre_exposed        478\n",
    "nombre_recovered    16625\n",
    "Name: 300, dtype: int64"
   ]
  },
  {
   "cell_type": "markdown",
   "id": "c8fca4f1",
   "metadata": {},
   "source": [
    "nombre_infected      1027\n",
    "nombre_sain          1850\n",
    "nombre_exposed        490\n",
    "nombre_recovered    16633\n",
    "Name: 301, dtype: int64"
   ]
  },
  {
   "cell_type": "markdown",
   "id": "0824fa9f",
   "metadata": {},
   "source": [
    "nombre_infected      1025\n",
    "nombre_sain          1867\n",
    "nombre_exposed        497\n",
    "nombre_recovered    16611\n",
    "Name: 302, dtype: int64"
   ]
  },
  {
   "cell_type": "markdown",
   "id": "1570d819",
   "metadata": {},
   "source": [
    "nombre_infected      1011\n",
    "nombre_sain          1905\n",
    "nombre_exposed        500\n",
    "nombre_recovered    16584\n",
    "Name: 303, dtype: int64"
   ]
  },
  {
   "cell_type": "markdown",
   "id": "9a8b539d",
   "metadata": {},
   "source": [
    "nombre_infected      1019\n",
    "nombre_sain          1904\n",
    "nombre_exposed        477\n",
    "nombre_recovered    16600\n",
    "Name: 304, dtype: int64"
   ]
  },
  {
   "cell_type": "markdown",
   "id": "be8c61c6",
   "metadata": {},
   "source": [
    "nombre_infected      1032\n",
    "nombre_sain          1910\n",
    "nombre_exposed        471\n",
    "nombre_recovered    16587\n",
    "Name: 305, dtype: int64"
   ]
  },
  {
   "cell_type": "markdown",
   "id": "f65c82bb",
   "metadata": {},
   "source": [
    "nombre_infected      1023\n",
    "nombre_sain          1921\n",
    "nombre_exposed        472\n",
    "nombre_recovered    16584\n",
    "Name: 306, dtype: int64"
   ]
  },
  {
   "cell_type": "markdown",
   "id": "2cb210d6",
   "metadata": {},
   "source": [
    "nombre_infected      1022\n",
    "nombre_sain          1914\n",
    "nombre_exposed        470\n",
    "nombre_recovered    16594\n",
    "Name: 307, dtype: int64"
   ]
  },
  {
   "cell_type": "markdown",
   "id": "0d2d4ecb",
   "metadata": {},
   "source": [
    "nombre_infected      1017\n",
    "nombre_sain          1906\n",
    "nombre_exposed        465\n",
    "nombre_recovered    16612\n",
    "Name: 308, dtype: int64"
   ]
  },
  {
   "cell_type": "markdown",
   "id": "825b930d",
   "metadata": {},
   "source": [
    "nombre_infected      1015\n",
    "nombre_sain          1877\n",
    "nombre_exposed        474\n",
    "nombre_recovered    16634\n",
    "Name: 309, dtype: int64"
   ]
  },
  {
   "cell_type": "markdown",
   "id": "9d7bb948",
   "metadata": {},
   "source": [
    "nombre_infected       990\n",
    "nombre_sain          1856\n",
    "nombre_exposed        489\n",
    "nombre_recovered    16665\n",
    "Name: 310, dtype: int64"
   ]
  },
  {
   "cell_type": "markdown",
   "id": "596fe098",
   "metadata": {},
   "source": [
    "nombre_infected      1002\n",
    "nombre_sain          1824\n",
    "nombre_exposed        475\n",
    "nombre_recovered    16699\n",
    "Name: 311, dtype: int64"
   ]
  },
  {
   "cell_type": "markdown",
   "id": "1ce0589e",
   "metadata": {},
   "source": [
    "nombre_infected       986\n",
    "nombre_sain          1815\n",
    "nombre_exposed        458\n",
    "nombre_recovered    16741\n",
    "Name: 312, dtype: int64"
   ]
  },
  {
   "cell_type": "markdown",
   "id": "336a9577",
   "metadata": {},
   "source": [
    "nombre_infected      1001\n",
    "nombre_sain          1779\n",
    "nombre_exposed        454\n",
    "nombre_recovered    16766\n",
    "Name: 313, dtype: int64"
   ]
  },
  {
   "cell_type": "markdown",
   "id": "892ddd57",
   "metadata": {},
   "source": [
    "nombre_infected       995\n",
    "nombre_sain          1735\n",
    "nombre_exposed        477\n",
    "nombre_recovered    16793\n",
    "Name: 314, dtype: int64"
   ]
  },
  {
   "cell_type": "markdown",
   "id": "388d854b",
   "metadata": {},
   "source": [
    "nombre_infected       992\n",
    "nombre_sain          1728\n",
    "nombre_exposed        466\n",
    "nombre_recovered    16814\n",
    "Name: 315, dtype: int64"
   ]
  },
  {
   "cell_type": "markdown",
   "id": "ae0caf12",
   "metadata": {},
   "source": [
    "nombre_infected       991\n",
    "nombre_sain          1705\n",
    "nombre_exposed        454\n",
    "nombre_recovered    16850\n",
    "Name: 316, dtype: int64"
   ]
  },
  {
   "cell_type": "markdown",
   "id": "91efd31e",
   "metadata": {},
   "source": [
    "nombre_infected       997\n",
    "nombre_sain          1677\n",
    "nombre_exposed        455\n",
    "nombre_recovered    16871\n",
    "Name: 317, dtype: int64"
   ]
  },
  {
   "cell_type": "markdown",
   "id": "3d44291a",
   "metadata": {},
   "source": [
    "nombre_infected       980\n",
    "nombre_sain          1665\n",
    "nombre_exposed        439\n",
    "nombre_recovered    16916\n",
    "Name: 318, dtype: int64"
   ]
  },
  {
   "cell_type": "markdown",
   "id": "d9ec4825",
   "metadata": {},
   "source": [
    "nombre_infected       972\n",
    "nombre_sain          1653\n",
    "nombre_exposed        435\n",
    "nombre_recovered    16940\n",
    "Name: 319, dtype: int64"
   ]
  },
  {
   "cell_type": "markdown",
   "id": "43818a40",
   "metadata": {},
   "source": [
    "nombre_infected       951\n",
    "nombre_sain          1644\n",
    "nombre_exposed        433\n",
    "nombre_recovered    16972\n",
    "Name: 320, dtype: int64"
   ]
  },
  {
   "cell_type": "markdown",
   "id": "4e57e2c5",
   "metadata": {},
   "source": [
    "nombre_infected       934\n",
    "nombre_sain          1652\n",
    "nombre_exposed        426\n",
    "nombre_recovered    16988\n",
    "Name: 321, dtype: int64"
   ]
  },
  {
   "cell_type": "markdown",
   "id": "8cea64c4",
   "metadata": {},
   "source": [
    "nombre_infected       933\n",
    "nombre_sain          1661\n",
    "nombre_exposed        409\n",
    "nombre_recovered    16997\n",
    "Name: 322, dtype: int64"
   ]
  },
  {
   "cell_type": "markdown",
   "id": "c5f99936",
   "metadata": {},
   "source": [
    "nombre_infected       925\n",
    "nombre_sain          1653\n",
    "nombre_exposed        400\n",
    "nombre_recovered    17022\n",
    "Name: 323, dtype: int64"
   ]
  },
  {
   "cell_type": "markdown",
   "id": "d86108c6",
   "metadata": {},
   "source": [
    "nombre_infected       913\n",
    "nombre_sain          1655\n",
    "nombre_exposed        402\n",
    "nombre_recovered    17030\n",
    "Name: 324, dtype: int64"
   ]
  },
  {
   "cell_type": "markdown",
   "id": "fc881dff",
   "metadata": {},
   "source": [
    "nombre_infected       920\n",
    "nombre_sain          1657\n",
    "nombre_exposed        399\n",
    "nombre_recovered    17024\n",
    "Name: 325, dtype: int64"
   ]
  },
  {
   "cell_type": "markdown",
   "id": "969ffe43",
   "metadata": {},
   "source": [
    "nombre_infected       926\n",
    "nombre_sain          1662\n",
    "nombre_exposed        390\n",
    "nombre_recovered    17022\n",
    "Name: 326, dtype: int64"
   ]
  },
  {
   "cell_type": "markdown",
   "id": "278916dc",
   "metadata": {},
   "source": [
    "nombre_infected       928\n",
    "nombre_sain          1659\n",
    "nombre_exposed        400\n",
    "nombre_recovered    17013\n",
    "Name: 327, dtype: int64"
   ]
  },
  {
   "cell_type": "markdown",
   "id": "4ccd4e79",
   "metadata": {},
   "source": [
    "nombre_infected       903\n",
    "nombre_sain          1638\n",
    "nombre_exposed        418\n",
    "nombre_recovered    17041\n",
    "Name: 328, dtype: int64"
   ]
  },
  {
   "cell_type": "markdown",
   "id": "fa40eef5",
   "metadata": {},
   "source": [
    "nombre_infected       883\n",
    "nombre_sain          1659\n",
    "nombre_exposed        406\n",
    "nombre_recovered    17052\n",
    "Name: 329, dtype: int64"
   ]
  },
  {
   "cell_type": "markdown",
   "id": "61269909",
   "metadata": {},
   "source": [
    "nombre_infected       895\n",
    "nombre_sain          1653\n",
    "nombre_exposed        388\n",
    "nombre_recovered    17064\n",
    "Name: 330, dtype: int64"
   ]
  },
  {
   "cell_type": "markdown",
   "id": "40c848e4",
   "metadata": {},
   "source": [
    "nombre_infected       894\n",
    "nombre_sain          1658\n",
    "nombre_exposed        379\n",
    "nombre_recovered    17069\n",
    "Name: 331, dtype: int64"
   ]
  },
  {
   "cell_type": "markdown",
   "id": "ce0591f7",
   "metadata": {},
   "source": [
    "nombre_infected       884\n",
    "nombre_sain          1661\n",
    "nombre_exposed        384\n",
    "nombre_recovered    17071\n",
    "Name: 332, dtype: int64"
   ]
  },
  {
   "cell_type": "markdown",
   "id": "e50e36ac",
   "metadata": {},
   "source": [
    "nombre_infected       860\n",
    "nombre_sain          1659\n",
    "nombre_exposed        395\n",
    "nombre_recovered    17086\n",
    "Name: 333, dtype: int64"
   ]
  },
  {
   "cell_type": "markdown",
   "id": "efd6b8de",
   "metadata": {},
   "source": [
    "nombre_infected       852\n",
    "nombre_sain          1672\n",
    "nombre_exposed        381\n",
    "nombre_recovered    17095\n",
    "Name: 334, dtype: int64"
   ]
  },
  {
   "cell_type": "markdown",
   "id": "a7eb9ccb",
   "metadata": {},
   "source": [
    "nombre_infected       860\n",
    "nombre_sain          1678\n",
    "nombre_exposed        368\n",
    "nombre_recovered    17094\n",
    "Name: 335, dtype: int64"
   ]
  },
  {
   "cell_type": "markdown",
   "id": "2c8dae36",
   "metadata": {},
   "source": [
    "nombre_infected       848\n",
    "nombre_sain          1691\n",
    "nombre_exposed        364\n",
    "nombre_recovered    17097\n",
    "Name: 336, dtype: int64"
   ]
  },
  {
   "cell_type": "markdown",
   "id": "271e16c9",
   "metadata": {},
   "source": [
    "nombre_infected       833\n",
    "nombre_sain          1699\n",
    "nombre_exposed        354\n",
    "nombre_recovered    17114\n",
    "Name: 337, dtype: int64"
   ]
  },
  {
   "cell_type": "markdown",
   "id": "22a5fdf0",
   "metadata": {},
   "source": [
    "nombre_infected       809\n",
    "nombre_sain          1714\n",
    "nombre_exposed        356\n",
    "nombre_recovered    17121\n",
    "Name: 338, dtype: int64"
   ]
  },
  {
   "cell_type": "markdown",
   "id": "77d91116",
   "metadata": {},
   "source": [
    "nombre_infected       812\n",
    "nombre_sain          1715\n",
    "nombre_exposed        356\n",
    "nombre_recovered    17117\n",
    "Name: 339, dtype: int64"
   ]
  },
  {
   "cell_type": "markdown",
   "id": "6cadc2a5",
   "metadata": {},
   "source": [
    "nombre_infected       800\n",
    "nombre_sain          1719\n",
    "nombre_exposed        367\n",
    "nombre_recovered    17114\n",
    "Name: 340, dtype: int64"
   ]
  },
  {
   "cell_type": "markdown",
   "id": "67a6a2ab",
   "metadata": {},
   "source": [
    "nombre_infected       795\n",
    "nombre_sain          1748\n",
    "nombre_exposed        352\n",
    "nombre_recovered    17105\n",
    "Name: 341, dtype: int64"
   ]
  },
  {
   "cell_type": "markdown",
   "id": "03208e4b",
   "metadata": {},
   "source": [
    "nombre_infected       783\n",
    "nombre_sain          1752\n",
    "nombre_exposed        363\n",
    "nombre_recovered    17102\n",
    "Name: 342, dtype: int64"
   ]
  },
  {
   "cell_type": "markdown",
   "id": "63a8df09",
   "metadata": {},
   "source": [
    "nombre_infected       770\n",
    "nombre_sain          1775\n",
    "nombre_exposed        358\n",
    "nombre_recovered    17097\n",
    "Name: 343, dtype: int64"
   ]
  },
  {
   "cell_type": "markdown",
   "id": "0a0be90e",
   "metadata": {},
   "source": [
    "nombre_infected       758\n",
    "nombre_sain          1790\n",
    "nombre_exposed        358\n",
    "nombre_recovered    17094\n",
    "Name: 344, dtype: int64"
   ]
  },
  {
   "cell_type": "markdown",
   "id": "8dcd0f49",
   "metadata": {},
   "source": [
    "nombre_infected       761\n",
    "nombre_sain          1807\n",
    "nombre_exposed        362\n",
    "nombre_recovered    17070\n",
    "Name: 345, dtype: int64"
   ]
  },
  {
   "cell_type": "markdown",
   "id": "64cc74c2",
   "metadata": {},
   "source": [
    "nombre_infected       763\n",
    "nombre_sain          1822\n",
    "nombre_exposed        353\n",
    "nombre_recovered    17062\n",
    "Name: 346, dtype: int64"
   ]
  },
  {
   "cell_type": "markdown",
   "id": "0a729ef9",
   "metadata": {},
   "source": [
    "nombre_infected       767\n",
    "nombre_sain          1848\n",
    "nombre_exposed        330\n",
    "nombre_recovered    17055\n",
    "Name: 347, dtype: int64"
   ]
  },
  {
   "cell_type": "markdown",
   "id": "b04f412f",
   "metadata": {},
   "source": [
    "nombre_infected       776\n",
    "nombre_sain          1863\n",
    "nombre_exposed        336\n",
    "nombre_recovered    17025\n",
    "Name: 348, dtype: int64"
   ]
  },
  {
   "cell_type": "markdown",
   "id": "4454e5eb",
   "metadata": {},
   "source": [
    "nombre_infected       766\n",
    "nombre_sain          1861\n",
    "nombre_exposed        354\n",
    "nombre_recovered    17019\n",
    "Name: 349, dtype: int64"
   ]
  },
  {
   "cell_type": "markdown",
   "id": "6958acc1",
   "metadata": {},
   "source": [
    "nombre_infected       780\n",
    "nombre_sain          1879\n",
    "nombre_exposed        347\n",
    "nombre_recovered    16994\n",
    "Name: 350, dtype: int64"
   ]
  },
  {
   "cell_type": "markdown",
   "id": "2d6a7b95",
   "metadata": {},
   "source": [
    "nombre_infected       774\n",
    "nombre_sain          1878\n",
    "nombre_exposed        355\n",
    "nombre_recovered    16993\n",
    "Name: 351, dtype: int64"
   ]
  },
  {
   "cell_type": "markdown",
   "id": "e7949d40",
   "metadata": {},
   "source": [
    "nombre_infected       770\n",
    "nombre_sain          1880\n",
    "nombre_exposed        349\n",
    "nombre_recovered    17001\n",
    "Name: 352, dtype: int64"
   ]
  },
  {
   "cell_type": "markdown",
   "id": "8c826feb",
   "metadata": {},
   "source": [
    "nombre_infected       757\n",
    "nombre_sain          1909\n",
    "nombre_exposed        347\n",
    "nombre_recovered    16987\n",
    "Name: 353, dtype: int64"
   ]
  },
  {
   "cell_type": "markdown",
   "id": "87068edb",
   "metadata": {},
   "source": [
    "nombre_infected       733\n",
    "nombre_sain          1929\n",
    "nombre_exposed        376\n",
    "nombre_recovered    16962\n",
    "Name: 354, dtype: int64"
   ]
  },
  {
   "cell_type": "markdown",
   "id": "da28e737",
   "metadata": {},
   "source": [
    "nombre_infected       732\n",
    "nombre_sain          1954\n",
    "nombre_exposed        370\n",
    "nombre_recovered    16944\n",
    "Name: 355, dtype: int64"
   ]
  },
  {
   "cell_type": "markdown",
   "id": "5e6c3a3f",
   "metadata": {},
   "source": [
    "nombre_infected       720\n",
    "nombre_sain          1975\n",
    "nombre_exposed        377\n",
    "nombre_recovered    16928\n",
    "Name: 356, dtype: int64"
   ]
  },
  {
   "cell_type": "markdown",
   "id": "0d655410",
   "metadata": {},
   "source": [
    "nombre_infected       743\n",
    "nombre_sain          1985\n",
    "nombre_exposed        364\n",
    "nombre_recovered    16908\n",
    "Name: 357, dtype: int64"
   ]
  },
  {
   "cell_type": "markdown",
   "id": "a5631e7a",
   "metadata": {},
   "source": [
    "nombre_infected       738\n",
    "nombre_sain          2003\n",
    "nombre_exposed        374\n",
    "nombre_recovered    16885\n",
    "Name: 358, dtype: int64"
   ]
  },
  {
   "cell_type": "markdown",
   "id": "c154d0bd",
   "metadata": {},
   "source": [
    "nombre_infected       758\n",
    "nombre_sain          2008\n",
    "nombre_exposed        377\n",
    "nombre_recovered    16857\n",
    "Name: 359, dtype: int64"
   ]
  },
  {
   "cell_type": "markdown",
   "id": "de48bfc7",
   "metadata": {},
   "source": [
    "nombre_infected       761\n",
    "nombre_sain          2038\n",
    "nombre_exposed        388\n",
    "nombre_recovered    16813\n",
    "Name: 360, dtype: int64"
   ]
  },
  {
   "cell_type": "markdown",
   "id": "b811e535",
   "metadata": {},
   "source": [
    "nombre_infected       762\n",
    "nombre_sain          2086\n",
    "nombre_exposed        378\n",
    "nombre_recovered    16774\n",
    "Name: 361, dtype: int64"
   ]
  },
  {
   "cell_type": "markdown",
   "id": "2daaa77c",
   "metadata": {},
   "source": [
    "nombre_infected       752\n",
    "nombre_sain          2128\n",
    "nombre_exposed        385\n",
    "nombre_recovered    16735\n",
    "Name: 362, dtype: int64"
   ]
  },
  {
   "cell_type": "markdown",
   "id": "ff6d6f89",
   "metadata": {},
   "source": [
    "nombre_infected       757\n",
    "nombre_sain          2141\n",
    "nombre_exposed        394\n",
    "nombre_recovered    16708\n",
    "Name: 363, dtype: int64"
   ]
  },
  {
   "cell_type": "markdown",
   "id": "aad9a33d",
   "metadata": {},
   "source": [
    "nombre_infected       773\n",
    "nombre_sain          2148\n",
    "nombre_exposed        408\n",
    "nombre_recovered    16671\n",
    "Name: 364, dtype: int64"
   ]
  },
  {
   "cell_type": "markdown",
   "id": "d2f0e617",
   "metadata": {},
   "source": [
    "nombre_infected       787\n",
    "nombre_sain          2163\n",
    "nombre_exposed        405\n",
    "nombre_recovered    16645\n",
    "Name: 365, dtype: int64"
   ]
  },
  {
   "cell_type": "markdown",
   "id": "061069e7",
   "metadata": {},
   "source": [
    "nombre_infected       807\n",
    "nombre_sain          2147\n",
    "nombre_exposed        394\n",
    "nombre_recovered    16652\n",
    "Name: 366, dtype: int64"
   ]
  },
  {
   "cell_type": "markdown",
   "id": "177357ed",
   "metadata": {},
   "source": [
    "nombre_infected       805\n",
    "nombre_sain          2134\n",
    "nombre_exposed        397\n",
    "nombre_recovered    16664\n",
    "Name: 367, dtype: int64"
   ]
  },
  {
   "cell_type": "markdown",
   "id": "b051f091",
   "metadata": {},
   "source": [
    "nombre_infected       812\n",
    "nombre_sain          2088\n",
    "nombre_exposed        421\n",
    "nombre_recovered    16679\n",
    "Name: 368, dtype: int64"
   ]
  },
  {
   "cell_type": "markdown",
   "id": "60914393",
   "metadata": {},
   "source": [
    "nombre_infected       820\n",
    "nombre_sain          2057\n",
    "nombre_exposed        434\n",
    "nombre_recovered    16689\n",
    "Name: 369, dtype: int64"
   ]
  },
  {
   "cell_type": "markdown",
   "id": "74e91826",
   "metadata": {},
   "source": [
    "nombre_infected       826\n",
    "nombre_sain          2062\n",
    "nombre_exposed        419\n",
    "nombre_recovered    16693\n",
    "Name: 370, dtype: int64"
   ]
  },
  {
   "cell_type": "markdown",
   "id": "617c1ec9",
   "metadata": {},
   "source": [
    "nombre_infected       845\n",
    "nombre_sain          2045\n",
    "nombre_exposed        412\n",
    "nombre_recovered    16698\n",
    "Name: 371, dtype: int64"
   ]
  },
  {
   "cell_type": "markdown",
   "id": "d4849938",
   "metadata": {},
   "source": [
    "nombre_infected       826\n",
    "nombre_sain          2025\n",
    "nombre_exposed        430\n",
    "nombre_recovered    16719\n",
    "Name: 372, dtype: int64"
   ]
  },
  {
   "cell_type": "markdown",
   "id": "a70d6d0a",
   "metadata": {},
   "source": [
    "nombre_infected       816\n",
    "nombre_sain          2014\n",
    "nombre_exposed        417\n",
    "nombre_recovered    16753\n",
    "Name: 373, dtype: int64"
   ]
  },
  {
   "cell_type": "markdown",
   "id": "18b1ea69",
   "metadata": {},
   "source": [
    "nombre_infected       834\n",
    "nombre_sain          1989\n",
    "nombre_exposed        422\n",
    "nombre_recovered    16755\n",
    "Name: 374, dtype: int64"
   ]
  },
  {
   "cell_type": "markdown",
   "id": "d3fb8d00",
   "metadata": {},
   "source": [
    "nombre_infected       822\n",
    "nombre_sain          1999\n",
    "nombre_exposed        424\n",
    "nombre_recovered    16755\n",
    "Name: 375, dtype: int64"
   ]
  },
  {
   "cell_type": "markdown",
   "id": "1e53c4b6",
   "metadata": {},
   "source": [
    "nombre_infected       823\n",
    "nombre_sain          1989\n",
    "nombre_exposed        430\n",
    "nombre_recovered    16758\n",
    "Name: 376, dtype: int64"
   ]
  },
  {
   "cell_type": "markdown",
   "id": "74c066a3",
   "metadata": {},
   "source": [
    "nombre_infected       824\n",
    "nombre_sain          1991\n",
    "nombre_exposed        430\n",
    "nombre_recovered    16755\n",
    "Name: 377, dtype: int64"
   ]
  },
  {
   "cell_type": "markdown",
   "id": "2026f8c1",
   "metadata": {},
   "source": [
    "nombre_infected       849\n",
    "nombre_sain          1991\n",
    "nombre_exposed        402\n",
    "nombre_recovered    16758\n",
    "Name: 378, dtype: int64"
   ]
  },
  {
   "cell_type": "markdown",
   "id": "3da7e3f9",
   "metadata": {},
   "source": [
    "nombre_infected       839\n",
    "nombre_sain          1998\n",
    "nombre_exposed        390\n",
    "nombre_recovered    16773\n",
    "Name: 379, dtype: int64"
   ]
  },
  {
   "cell_type": "markdown",
   "id": "bf57ff05",
   "metadata": {},
   "source": [
    "nombre_infected       833\n",
    "nombre_sain          2035\n",
    "nombre_exposed        369\n",
    "nombre_recovered    16763\n",
    "Name: 380, dtype: int64"
   ]
  },
  {
   "cell_type": "markdown",
   "id": "6f7309c4",
   "metadata": {},
   "source": [
    "nombre_infected       846\n",
    "nombre_sain          2030\n",
    "nombre_exposed        358\n",
    "nombre_recovered    16766\n",
    "Name: 381, dtype: int64"
   ]
  },
  {
   "cell_type": "markdown",
   "id": "7cd53c6f",
   "metadata": {},
   "source": [
    "nombre_infected       822\n",
    "nombre_sain          2023\n",
    "nombre_exposed        366\n",
    "nombre_recovered    16789\n",
    "Name: 382, dtype: int64"
   ]
  },
  {
   "cell_type": "markdown",
   "id": "dc20cdd2",
   "metadata": {},
   "source": [
    "nombre_infected       793\n",
    "nombre_sain          2066\n",
    "nombre_exposed        364\n",
    "nombre_recovered    16777\n",
    "Name: 383, dtype: int64"
   ]
  },
  {
   "cell_type": "markdown",
   "id": "557b765f",
   "metadata": {},
   "source": [
    "nombre_infected       795\n",
    "nombre_sain          2074\n",
    "nombre_exposed        368\n",
    "nombre_recovered    16763\n",
    "Name: 384, dtype: int64"
   ]
  },
  {
   "cell_type": "markdown",
   "id": "9f197138",
   "metadata": {},
   "source": [
    "nombre_infected       791\n",
    "nombre_sain          2069\n",
    "nombre_exposed        366\n",
    "nombre_recovered    16774\n",
    "Name: 385, dtype: int64"
   ]
  },
  {
   "cell_type": "markdown",
   "id": "d3893bd7",
   "metadata": {},
   "source": [
    "nombre_infected       792\n",
    "nombre_sain          2098\n",
    "nombre_exposed        371\n",
    "nombre_recovered    16739\n",
    "Name: 386, dtype: int64"
   ]
  },
  {
   "cell_type": "markdown",
   "id": "517effb9",
   "metadata": {},
   "source": [
    "nombre_infected       767\n",
    "nombre_sain          2115\n",
    "nombre_exposed        380\n",
    "nombre_recovered    16738\n",
    "Name: 387, dtype: int64"
   ]
  },
  {
   "cell_type": "markdown",
   "id": "be6f99c1",
   "metadata": {},
   "source": [
    "nombre_infected       764\n",
    "nombre_sain          2123\n",
    "nombre_exposed        382\n",
    "nombre_recovered    16731\n",
    "Name: 388, dtype: int64"
   ]
  },
  {
   "cell_type": "markdown",
   "id": "05106dc5",
   "metadata": {},
   "source": [
    "nombre_infected       766\n",
    "nombre_sain          2143\n",
    "nombre_exposed        377\n",
    "nombre_recovered    16714\n",
    "Name: 389, dtype: int64"
   ]
  },
  {
   "cell_type": "markdown",
   "id": "17bfece6",
   "metadata": {},
   "source": [
    "nombre_infected       768\n",
    "nombre_sain          2123\n",
    "nombre_exposed        400\n",
    "nombre_recovered    16709\n",
    "Name: 390, dtype: int64"
   ]
  },
  {
   "cell_type": "markdown",
   "id": "f661a560",
   "metadata": {},
   "source": [
    "nombre_infected       777\n",
    "nombre_sain          2158\n",
    "nombre_exposed        389\n",
    "nombre_recovered    16676\n",
    "Name: 391, dtype: int64"
   ]
  },
  {
   "cell_type": "markdown",
   "id": "adcd0cc2",
   "metadata": {},
   "source": [
    "nombre_infected       767\n",
    "nombre_sain          2149\n",
    "nombre_exposed        412\n",
    "nombre_recovered    16672\n",
    "Name: 392, dtype: int64"
   ]
  },
  {
   "cell_type": "markdown",
   "id": "db1f80c5",
   "metadata": {},
   "source": [
    "nombre_infected       766\n",
    "nombre_sain          2140\n",
    "nombre_exposed        432\n",
    "nombre_recovered    16662\n",
    "Name: 393, dtype: int64"
   ]
  },
  {
   "cell_type": "markdown",
   "id": "ae8b42bd",
   "metadata": {},
   "source": [
    "nombre_infected       789\n",
    "nombre_sain          2160\n",
    "nombre_exposed        421\n",
    "nombre_recovered    16630\n",
    "Name: 394, dtype: int64"
   ]
  },
  {
   "cell_type": "markdown",
   "id": "210717b1",
   "metadata": {},
   "source": [
    "nombre_infected       778\n",
    "nombre_sain          2151\n",
    "nombre_exposed        422\n",
    "nombre_recovered    16649\n",
    "Name: 395, dtype: int64"
   ]
  },
  {
   "cell_type": "markdown",
   "id": "c05e6d65",
   "metadata": {},
   "source": [
    "nombre_infected       790\n",
    "nombre_sain          2145\n",
    "nombre_exposed        424\n",
    "nombre_recovered    16641\n",
    "Name: 396, dtype: int64"
   ]
  },
  {
   "cell_type": "markdown",
   "id": "f4be1814",
   "metadata": {},
   "source": [
    "nombre_infected       784\n",
    "nombre_sain          2139\n",
    "nombre_exposed        437\n",
    "nombre_recovered    16640\n",
    "Name: 397, dtype: int64"
   ]
  },
  {
   "cell_type": "markdown",
   "id": "701a542f",
   "metadata": {},
   "source": [
    "nombre_infected       796\n",
    "nombre_sain          2172\n",
    "nombre_exposed        420\n",
    "nombre_recovered    16612\n",
    "Name: 398, dtype: int64"
   ]
  },
  {
   "cell_type": "markdown",
   "id": "142a30e3",
   "metadata": {},
   "source": [
    "nombre_infected       775\n",
    "nombre_sain          2178\n",
    "nombre_exposed        416\n",
    "nombre_recovered    16631\n",
    "Name: 399, dtype: int64"
   ]
  },
  {
   "cell_type": "markdown",
   "id": "606fd228",
   "metadata": {},
   "source": [
    "nombre_infected       800\n",
    "nombre_sain          2196\n",
    "nombre_exposed        401\n",
    "nombre_recovered    16603\n",
    "Name: 400, dtype: int64"
   ]
  },
  {
   "cell_type": "markdown",
   "id": "dfd5fb73",
   "metadata": {},
   "source": [
    "nombre_infected       803\n",
    "nombre_sain          2181\n",
    "nombre_exposed        425\n",
    "nombre_recovered    16591\n",
    "Name: 401, dtype: int64"
   ]
  },
  {
   "cell_type": "markdown",
   "id": "6c0182eb",
   "metadata": {},
   "source": [
    "nombre_infected       800\n",
    "nombre_sain          2200\n",
    "nombre_exposed        404\n",
    "nombre_recovered    16596\n",
    "Name: 402, dtype: int64"
   ]
  },
  {
   "cell_type": "markdown",
   "id": "265524db",
   "metadata": {},
   "source": [
    "nombre_infected       785\n",
    "nombre_sain          2198\n",
    "nombre_exposed        424\n",
    "nombre_recovered    16593\n",
    "Name: 403, dtype: int64"
   ]
  },
  {
   "cell_type": "markdown",
   "id": "0a06153f",
   "metadata": {},
   "source": [
    "nombre_infected       778\n",
    "nombre_sain          2216\n",
    "nombre_exposed        429\n",
    "nombre_recovered    16577\n",
    "Name: 404, dtype: int64"
   ]
  },
  {
   "cell_type": "markdown",
   "id": "91023400",
   "metadata": {},
   "source": [
    "nombre_infected       779\n",
    "nombre_sain          2203\n",
    "nombre_exposed        443\n",
    "nombre_recovered    16575\n",
    "Name: 405, dtype: int64"
   ]
  },
  {
   "cell_type": "markdown",
   "id": "59bcc938",
   "metadata": {},
   "source": [
    "nombre_infected       791\n",
    "nombre_sain          2210\n",
    "nombre_exposed        470\n",
    "nombre_recovered    16529\n",
    "Name: 406, dtype: int64"
   ]
  },
  {
   "cell_type": "markdown",
   "id": "8518aa3e",
   "metadata": {},
   "source": [
    "nombre_infected       792\n",
    "nombre_sain          2220\n",
    "nombre_exposed        445\n",
    "nombre_recovered    16543\n",
    "Name: 407, dtype: int64"
   ]
  },
  {
   "cell_type": "markdown",
   "id": "6c61874a",
   "metadata": {},
   "source": [
    "nombre_infected       798\n",
    "nombre_sain          2219\n",
    "nombre_exposed        456\n",
    "nombre_recovered    16527\n",
    "Name: 408, dtype: int64"
   ]
  },
  {
   "cell_type": "markdown",
   "id": "56e5f168",
   "metadata": {},
   "source": [
    "nombre_infected       787\n",
    "nombre_sain          2218\n",
    "nombre_exposed        462\n",
    "nombre_recovered    16533\n",
    "Name: 409, dtype: int64"
   ]
  },
  {
   "cell_type": "markdown",
   "id": "487a15ae",
   "metadata": {},
   "source": [
    "nombre_infected       788\n",
    "nombre_sain          2222\n",
    "nombre_exposed        457\n",
    "nombre_recovered    16533\n",
    "Name: 410, dtype: int64"
   ]
  },
  {
   "cell_type": "markdown",
   "id": "d315fd78",
   "metadata": {},
   "source": [
    "nombre_infected       808\n",
    "nombre_sain          2206\n",
    "nombre_exposed        462\n",
    "nombre_recovered    16524\n",
    "Name: 411, dtype: int64"
   ]
  },
  {
   "cell_type": "markdown",
   "id": "8e344a0f",
   "metadata": {},
   "source": [
    "nombre_infected       803\n",
    "nombre_sain          2188\n",
    "nombre_exposed        467\n",
    "nombre_recovered    16542\n",
    "Name: 412, dtype: int64"
   ]
  },
  {
   "cell_type": "markdown",
   "id": "d4376332",
   "metadata": {},
   "source": [
    "nombre_infected       800\n",
    "nombre_sain          2182\n",
    "nombre_exposed        471\n",
    "nombre_recovered    16547\n",
    "Name: 413, dtype: int64"
   ]
  },
  {
   "cell_type": "markdown",
   "id": "ffa8f406",
   "metadata": {},
   "source": [
    "nombre_infected       796\n",
    "nombre_sain          2196\n",
    "nombre_exposed        467\n",
    "nombre_recovered    16541\n",
    "Name: 414, dtype: int64"
   ]
  },
  {
   "cell_type": "markdown",
   "id": "67b1014c",
   "metadata": {},
   "source": [
    "nombre_infected       771\n",
    "nombre_sain          2184\n",
    "nombre_exposed        490\n",
    "nombre_recovered    16555\n",
    "Name: 415, dtype: int64"
   ]
  },
  {
   "cell_type": "markdown",
   "id": "879eaa21",
   "metadata": {},
   "source": [
    "nombre_infected       761\n",
    "nombre_sain          2170\n",
    "nombre_exposed        486\n",
    "nombre_recovered    16583\n",
    "Name: 416, dtype: int64"
   ]
  },
  {
   "cell_type": "markdown",
   "id": "7f637a60",
   "metadata": {},
   "source": [
    "nombre_infected       786\n",
    "nombre_sain          2168\n",
    "nombre_exposed        469\n",
    "nombre_recovered    16577\n",
    "Name: 417, dtype: int64"
   ]
  },
  {
   "cell_type": "markdown",
   "id": "978c28f7",
   "metadata": {},
   "source": [
    "nombre_infected       783\n",
    "nombre_sain          2174\n",
    "nombre_exposed        461\n",
    "nombre_recovered    16582\n",
    "Name: 418, dtype: int64"
   ]
  },
  {
   "cell_type": "markdown",
   "id": "42df8234",
   "metadata": {},
   "source": [
    "nombre_infected       791\n",
    "nombre_sain          2197\n",
    "nombre_exposed        450\n",
    "nombre_recovered    16562\n",
    "Name: 419, dtype: int64"
   ]
  },
  {
   "cell_type": "markdown",
   "id": "4130eff3",
   "metadata": {},
   "source": [
    "nombre_infected       793\n",
    "nombre_sain          2167\n",
    "nombre_exposed        475\n",
    "nombre_recovered    16565\n",
    "Name: 420, dtype: int64"
   ]
  },
  {
   "cell_type": "markdown",
   "id": "bd10d4e4",
   "metadata": {},
   "source": [
    "nombre_infected       814\n",
    "nombre_sain          2163\n",
    "nombre_exposed        453\n",
    "nombre_recovered    16570\n",
    "Name: 421, dtype: int64"
   ]
  },
  {
   "cell_type": "markdown",
   "id": "adc628c5",
   "metadata": {},
   "source": [
    "nombre_infected       824\n",
    "nombre_sain          2180\n",
    "nombre_exposed        435\n",
    "nombre_recovered    16561\n",
    "Name: 422, dtype: int64"
   ]
  },
  {
   "cell_type": "markdown",
   "id": "a25bbaac",
   "metadata": {},
   "source": [
    "nombre_infected       820\n",
    "nombre_sain          2144\n",
    "nombre_exposed        459\n",
    "nombre_recovered    16577\n",
    "Name: 423, dtype: int64"
   ]
  },
  {
   "cell_type": "markdown",
   "id": "042a0a28",
   "metadata": {},
   "source": [
    "nombre_infected       796\n",
    "nombre_sain          2138\n",
    "nombre_exposed        467\n",
    "nombre_recovered    16599\n",
    "Name: 424, dtype: int64"
   ]
  },
  {
   "cell_type": "markdown",
   "id": "8a78ce50",
   "metadata": {},
   "source": [
    "nombre_infected       796\n",
    "nombre_sain          2111\n",
    "nombre_exposed        476\n",
    "nombre_recovered    16617\n",
    "Name: 425, dtype: int64"
   ]
  },
  {
   "cell_type": "markdown",
   "id": "be7475cb",
   "metadata": {},
   "source": [
    "nombre_infected       793\n",
    "nombre_sain          2108\n",
    "nombre_exposed        482\n",
    "nombre_recovered    16617\n",
    "Name: 426, dtype: int64"
   ]
  },
  {
   "cell_type": "markdown",
   "id": "ecdcb147",
   "metadata": {},
   "source": [
    "nombre_infected       812\n",
    "nombre_sain          2079\n",
    "nombre_exposed        472\n",
    "nombre_recovered    16637\n",
    "Name: 427, dtype: int64"
   ]
  },
  {
   "cell_type": "markdown",
   "id": "39fa7ebd",
   "metadata": {},
   "source": [
    "nombre_infected       819\n",
    "nombre_sain          2065\n",
    "nombre_exposed        461\n",
    "nombre_recovered    16655\n",
    "Name: 428, dtype: int64"
   ]
  },
  {
   "cell_type": "markdown",
   "id": "95667c03",
   "metadata": {},
   "source": [
    "nombre_infected       815\n",
    "nombre_sain          2076\n",
    "nombre_exposed        448\n",
    "nombre_recovered    16661\n",
    "Name: 429, dtype: int64"
   ]
  },
  {
   "cell_type": "markdown",
   "id": "bde15ff1",
   "metadata": {},
   "source": [
    "nombre_infected       818\n",
    "nombre_sain          2056\n",
    "nombre_exposed        454\n",
    "nombre_recovered    16672\n",
    "Name: 430, dtype: int64"
   ]
  },
  {
   "cell_type": "markdown",
   "id": "7e44b5f4",
   "metadata": {},
   "source": [
    "nombre_infected       801\n",
    "nombre_sain          2030\n",
    "nombre_exposed        448\n",
    "nombre_recovered    16721\n",
    "Name: 431, dtype: int64"
   ]
  },
  {
   "cell_type": "markdown",
   "id": "20487367",
   "metadata": {},
   "source": [
    "nombre_infected       815\n",
    "nombre_sain          2017\n",
    "nombre_exposed        433\n",
    "nombre_recovered    16735\n",
    "Name: 432, dtype: int64"
   ]
  },
  {
   "cell_type": "markdown",
   "id": "25c84fd0",
   "metadata": {},
   "source": [
    "nombre_infected       807\n",
    "nombre_sain          2000\n",
    "nombre_exposed        441\n",
    "nombre_recovered    16752\n",
    "Name: 433, dtype: int64"
   ]
  },
  {
   "cell_type": "markdown",
   "id": "c4999351",
   "metadata": {},
   "source": [
    "nombre_infected       790\n",
    "nombre_sain          2027\n",
    "nombre_exposed        434\n",
    "nombre_recovered    16749\n",
    "Name: 434, dtype: int64"
   ]
  },
  {
   "cell_type": "markdown",
   "id": "592e5f3d",
   "metadata": {},
   "source": [
    "nombre_infected       804\n",
    "nombre_sain          2009\n",
    "nombre_exposed        424\n",
    "nombre_recovered    16763\n",
    "Name: 435, dtype: int64"
   ]
  },
  {
   "cell_type": "markdown",
   "id": "c4a63c82",
   "metadata": {},
   "source": [
    "nombre_infected       790\n",
    "nombre_sain          2003\n",
    "nombre_exposed        431\n",
    "nombre_recovered    16776\n",
    "Name: 436, dtype: int64"
   ]
  },
  {
   "cell_type": "markdown",
   "id": "e6f671c8",
   "metadata": {},
   "source": [
    "nombre_infected       782\n",
    "nombre_sain          2013\n",
    "nombre_exposed        423\n",
    "nombre_recovered    16782\n",
    "Name: 437, dtype: int64"
   ]
  },
  {
   "cell_type": "markdown",
   "id": "bddb8176",
   "metadata": {},
   "source": [
    "nombre_infected       783\n",
    "nombre_sain          2024\n",
    "nombre_exposed        412\n",
    "nombre_recovered    16781\n",
    "Name: 438, dtype: int64"
   ]
  },
  {
   "cell_type": "markdown",
   "id": "eee57512",
   "metadata": {},
   "source": [
    "nombre_infected       784\n",
    "nombre_sain          2024\n",
    "nombre_exposed        416\n",
    "nombre_recovered    16776\n",
    "Name: 439, dtype: int64"
   ]
  },
  {
   "cell_type": "markdown",
   "id": "5de60ed7",
   "metadata": {},
   "source": [
    "nombre_infected       769\n",
    "nombre_sain          2050\n",
    "nombre_exposed        417\n",
    "nombre_recovered    16764\n",
    "Name: 440, dtype: int64"
   ]
  },
  {
   "cell_type": "markdown",
   "id": "39835cac",
   "metadata": {},
   "source": [
    "nombre_infected       756\n",
    "nombre_sain          2080\n",
    "nombre_exposed        414\n",
    "nombre_recovered    16750\n",
    "Name: 441, dtype: int64"
   ]
  },
  {
   "cell_type": "markdown",
   "id": "0b813bff",
   "metadata": {},
   "source": [
    "nombre_infected       745\n",
    "nombre_sain          2082\n",
    "nombre_exposed        411\n",
    "nombre_recovered    16762\n",
    "Name: 442, dtype: int64"
   ]
  },
  {
   "cell_type": "markdown",
   "id": "c660c315",
   "metadata": {},
   "source": [
    "nombre_infected       761\n",
    "nombre_sain          2098\n",
    "nombre_exposed        384\n",
    "nombre_recovered    16757\n",
    "Name: 443, dtype: int64"
   ]
  },
  {
   "cell_type": "markdown",
   "id": "90ec32b3",
   "metadata": {},
   "source": [
    "nombre_infected       757\n",
    "nombre_sain          2124\n",
    "nombre_exposed        364\n",
    "nombre_recovered    16755\n",
    "Name: 444, dtype: int64"
   ]
  },
  {
   "cell_type": "markdown",
   "id": "9abe687c",
   "metadata": {},
   "source": [
    "nombre_infected       749\n",
    "nombre_sain          2131\n",
    "nombre_exposed        366\n",
    "nombre_recovered    16754\n",
    "Name: 445, dtype: int64"
   ]
  },
  {
   "cell_type": "markdown",
   "id": "caf6dc68",
   "metadata": {},
   "source": [
    "nombre_infected       716\n",
    "nombre_sain          2130\n",
    "nombre_exposed        379\n",
    "nombre_recovered    16775\n",
    "Name: 446, dtype: int64"
   ]
  },
  {
   "cell_type": "markdown",
   "id": "0ff17964",
   "metadata": {},
   "source": [
    "nombre_infected       688\n",
    "nombre_sain          2132\n",
    "nombre_exposed        392\n",
    "nombre_recovered    16788\n",
    "Name: 447, dtype: int64"
   ]
  },
  {
   "cell_type": "markdown",
   "id": "83e54a36",
   "metadata": {},
   "source": [
    "nombre_infected       691\n",
    "nombre_sain          2141\n",
    "nombre_exposed        398\n",
    "nombre_recovered    16770\n",
    "Name: 448, dtype: int64"
   ]
  },
  {
   "cell_type": "markdown",
   "id": "aadb27ca",
   "metadata": {},
   "source": [
    "nombre_infected       689\n",
    "nombre_sain          2154\n",
    "nombre_exposed        389\n",
    "nombre_recovered    16768\n",
    "Name: 449, dtype: int64"
   ]
  },
  {
   "cell_type": "markdown",
   "id": "d9e56237",
   "metadata": {},
   "source": [
    "nombre_infected       696\n",
    "nombre_sain          2154\n",
    "nombre_exposed        388\n",
    "nombre_recovered    16762\n",
    "Name: 450, dtype: int64"
   ]
  },
  {
   "cell_type": "markdown",
   "id": "b67cfda6",
   "metadata": {},
   "source": [
    "nombre_infected       693\n",
    "nombre_sain          2137\n",
    "nombre_exposed        397\n",
    "nombre_recovered    16773\n",
    "Name: 451, dtype: int64"
   ]
  },
  {
   "cell_type": "markdown",
   "id": "bcf4d029",
   "metadata": {},
   "source": [
    "nombre_infected       709\n",
    "nombre_sain          2139\n",
    "nombre_exposed        396\n",
    "nombre_recovered    16756\n",
    "Name: 452, dtype: int64"
   ]
  },
  {
   "cell_type": "markdown",
   "id": "8b37151d",
   "metadata": {},
   "source": [
    "nombre_infected       704\n",
    "nombre_sain          2125\n",
    "nombre_exposed        396\n",
    "nombre_recovered    16775\n",
    "Name: 453, dtype: int64"
   ]
  },
  {
   "cell_type": "markdown",
   "id": "bc5dda07",
   "metadata": {},
   "source": [
    "nombre_infected       689\n",
    "nombre_sain          2156\n",
    "nombre_exposed        401\n",
    "nombre_recovered    16754\n",
    "Name: 454, dtype: int64"
   ]
  },
  {
   "cell_type": "markdown",
   "id": "ff080a74",
   "metadata": {},
   "source": [
    "nombre_infected       692\n",
    "nombre_sain          2154\n",
    "nombre_exposed        412\n",
    "nombre_recovered    16742\n",
    "Name: 455, dtype: int64"
   ]
  },
  {
   "cell_type": "markdown",
   "id": "16598fa1",
   "metadata": {},
   "source": [
    "nombre_infected       704\n",
    "nombre_sain          2161\n",
    "nombre_exposed        402\n",
    "nombre_recovered    16733\n",
    "Name: 456, dtype: int64"
   ]
  },
  {
   "cell_type": "markdown",
   "id": "c4eb5dcc",
   "metadata": {},
   "source": [
    "nombre_infected       696\n",
    "nombre_sain          2182\n",
    "nombre_exposed        389\n",
    "nombre_recovered    16733\n",
    "Name: 457, dtype: int64"
   ]
  },
  {
   "cell_type": "markdown",
   "id": "0fe1d05d",
   "metadata": {},
   "source": [
    "nombre_infected       719\n",
    "nombre_sain          2182\n",
    "nombre_exposed        388\n",
    "nombre_recovered    16711\n",
    "Name: 458, dtype: int64"
   ]
  },
  {
   "cell_type": "markdown",
   "id": "86241119",
   "metadata": {},
   "source": [
    "nombre_infected       704\n",
    "nombre_sain          2213\n",
    "nombre_exposed        392\n",
    "nombre_recovered    16691\n",
    "Name: 459, dtype: int64"
   ]
  },
  {
   "cell_type": "markdown",
   "id": "6c3f303b",
   "metadata": {},
   "source": [
    "nombre_infected       698\n",
    "nombre_sain          2227\n",
    "nombre_exposed        392\n",
    "nombre_recovered    16683\n",
    "Name: 460, dtype: int64"
   ]
  },
  {
   "cell_type": "markdown",
   "id": "b5e42626",
   "metadata": {},
   "source": [
    "nombre_infected       719\n",
    "nombre_sain          2234\n",
    "nombre_exposed        388\n",
    "nombre_recovered    16659\n",
    "Name: 461, dtype: int64"
   ]
  },
  {
   "cell_type": "markdown",
   "id": "1772a10b",
   "metadata": {},
   "source": [
    "nombre_infected       715\n",
    "nombre_sain          2265\n",
    "nombre_exposed        398\n",
    "nombre_recovered    16622\n",
    "Name: 462, dtype: int64"
   ]
  },
  {
   "cell_type": "markdown",
   "id": "134197db",
   "metadata": {},
   "source": [
    "nombre_infected       715\n",
    "nombre_sain          2283\n",
    "nombre_exposed        399\n",
    "nombre_recovered    16603\n",
    "Name: 463, dtype: int64"
   ]
  },
  {
   "cell_type": "markdown",
   "id": "bfd46a3d",
   "metadata": {},
   "source": [
    "nombre_infected       720\n",
    "nombre_sain          2272\n",
    "nombre_exposed        406\n",
    "nombre_recovered    16602\n",
    "Name: 464, dtype: int64"
   ]
  },
  {
   "cell_type": "markdown",
   "id": "5a64de39",
   "metadata": {},
   "source": [
    "nombre_infected       718\n",
    "nombre_sain          2271\n",
    "nombre_exposed        406\n",
    "nombre_recovered    16605\n",
    "Name: 465, dtype: int64"
   ]
  },
  {
   "cell_type": "markdown",
   "id": "5a2443fc",
   "metadata": {},
   "source": [
    "nombre_infected       727\n",
    "nombre_sain          2250\n",
    "nombre_exposed        413\n",
    "nombre_recovered    16610\n",
    "Name: 466, dtype: int64"
   ]
  },
  {
   "cell_type": "markdown",
   "id": "3fcaad5b",
   "metadata": {},
   "source": [
    "nombre_infected       715\n",
    "nombre_sain          2257\n",
    "nombre_exposed        420\n",
    "nombre_recovered    16608\n",
    "Name: 467, dtype: int64"
   ]
  },
  {
   "cell_type": "markdown",
   "id": "073a4497",
   "metadata": {},
   "source": [
    "nombre_infected       720\n",
    "nombre_sain          2282\n",
    "nombre_exposed        412\n",
    "nombre_recovered    16586\n",
    "Name: 468, dtype: int64"
   ]
  },
  {
   "cell_type": "markdown",
   "id": "c2823d48",
   "metadata": {},
   "source": [
    "nombre_infected       696\n",
    "nombre_sain          2291\n",
    "nombre_exposed        433\n",
    "nombre_recovered    16580\n",
    "Name: 469, dtype: int64"
   ]
  },
  {
   "cell_type": "markdown",
   "id": "3d3a1c81",
   "metadata": {},
   "source": [
    "nombre_infected       693\n",
    "nombre_sain          2315\n",
    "nombre_exposed        431\n",
    "nombre_recovered    16561\n",
    "Name: 470, dtype: int64"
   ]
  },
  {
   "cell_type": "markdown",
   "id": "7ab50042",
   "metadata": {},
   "source": [
    "nombre_infected       679\n",
    "nombre_sain          2310\n",
    "nombre_exposed        449\n",
    "nombre_recovered    16562\n",
    "Name: 471, dtype: int64"
   ]
  },
  {
   "cell_type": "markdown",
   "id": "986b5472",
   "metadata": {},
   "source": [
    "nombre_infected       699\n",
    "nombre_sain          2332\n",
    "nombre_exposed        435\n",
    "nombre_recovered    16534\n",
    "Name: 472, dtype: int64"
   ]
  },
  {
   "cell_type": "markdown",
   "id": "e28803f0",
   "metadata": {},
   "source": [
    "nombre_infected       728\n",
    "nombre_sain          2336\n",
    "nombre_exposed        418\n",
    "nombre_recovered    16518\n",
    "Name: 473, dtype: int64"
   ]
  },
  {
   "cell_type": "markdown",
   "id": "a3df953f",
   "metadata": {},
   "source": [
    "nombre_infected       731\n",
    "nombre_sain          2318\n",
    "nombre_exposed        433\n",
    "nombre_recovered    16518\n",
    "Name: 474, dtype: int64"
   ]
  },
  {
   "cell_type": "markdown",
   "id": "f6967378",
   "metadata": {},
   "source": [
    "nombre_infected       729\n",
    "nombre_sain          2328\n",
    "nombre_exposed        428\n",
    "nombre_recovered    16515\n",
    "Name: 475, dtype: int64"
   ]
  },
  {
   "cell_type": "markdown",
   "id": "fcb53050",
   "metadata": {},
   "source": [
    "nombre_infected       731\n",
    "nombre_sain          2317\n",
    "nombre_exposed        430\n",
    "nombre_recovered    16522\n",
    "Name: 476, dtype: int64"
   ]
  },
  {
   "cell_type": "markdown",
   "id": "22be3e82",
   "metadata": {},
   "source": [
    "nombre_infected       733\n",
    "nombre_sain          2299\n",
    "nombre_exposed        450\n",
    "nombre_recovered    16518\n",
    "Name: 477, dtype: int64"
   ]
  },
  {
   "cell_type": "markdown",
   "id": "7f73086b",
   "metadata": {},
   "source": [
    "nombre_infected       722\n",
    "nombre_sain          2304\n",
    "nombre_exposed        455\n",
    "nombre_recovered    16519\n",
    "Name: 478, dtype: int64"
   ]
  },
  {
   "cell_type": "markdown",
   "id": "57af908f",
   "metadata": {},
   "source": [
    "nombre_infected       742\n",
    "nombre_sain          2303\n",
    "nombre_exposed        446\n",
    "nombre_recovered    16509\n",
    "Name: 479, dtype: int64"
   ]
  },
  {
   "cell_type": "markdown",
   "id": "c47bcdd4",
   "metadata": {},
   "source": [
    "nombre_infected       777\n",
    "nombre_sain          2302\n",
    "nombre_exposed        436\n",
    "nombre_recovered    16485\n",
    "Name: 480, dtype: int64"
   ]
  },
  {
   "cell_type": "markdown",
   "id": "f1b4b242",
   "metadata": {},
   "source": [
    "nombre_infected       792\n",
    "nombre_sain          2298\n",
    "nombre_exposed        425\n",
    "nombre_recovered    16485\n",
    "Name: 481, dtype: int64"
   ]
  },
  {
   "cell_type": "markdown",
   "id": "9d5ec9cd",
   "metadata": {},
   "source": [
    "nombre_infected       785\n",
    "nombre_sain          2307\n",
    "nombre_exposed        427\n",
    "nombre_recovered    16481\n",
    "Name: 482, dtype: int64"
   ]
  },
  {
   "cell_type": "markdown",
   "id": "667c3833",
   "metadata": {},
   "source": [
    "nombre_infected       765\n",
    "nombre_sain          2293\n",
    "nombre_exposed        447\n",
    "nombre_recovered    16495\n",
    "Name: 483, dtype: int64"
   ]
  },
  {
   "cell_type": "markdown",
   "id": "3d393238",
   "metadata": {},
   "source": [
    "nombre_infected       747\n",
    "nombre_sain          2305\n",
    "nombre_exposed        465\n",
    "nombre_recovered    16483\n",
    "Name: 484, dtype: int64"
   ]
  },
  {
   "cell_type": "markdown",
   "id": "f2947f5c",
   "metadata": {},
   "source": [
    "nombre_infected       759\n",
    "nombre_sain          2299\n",
    "nombre_exposed        469\n",
    "nombre_recovered    16473\n",
    "Name: 485, dtype: int64"
   ]
  },
  {
   "cell_type": "markdown",
   "id": "83dfb00a",
   "metadata": {},
   "source": [
    "nombre_infected       786\n",
    "nombre_sain          2284\n",
    "nombre_exposed        467\n",
    "nombre_recovered    16463\n",
    "Name: 486, dtype: int64"
   ]
  },
  {
   "cell_type": "markdown",
   "id": "3fad48f1",
   "metadata": {},
   "source": [
    "nombre_infected       826\n",
    "nombre_sain          2284\n",
    "nombre_exposed        456\n",
    "nombre_recovered    16434\n",
    "Name: 487, dtype: int64"
   ]
  },
  {
   "cell_type": "markdown",
   "id": "06cc7a94",
   "metadata": {},
   "source": [
    "nombre_infected       850\n",
    "nombre_sain          2324\n",
    "nombre_exposed        446\n",
    "nombre_recovered    16380\n",
    "Name: 488, dtype: int64"
   ]
  },
  {
   "cell_type": "markdown",
   "id": "18fd6dfe",
   "metadata": {},
   "source": [
    "nombre_infected       843\n",
    "nombre_sain          2337\n",
    "nombre_exposed        443\n",
    "nombre_recovered    16377\n",
    "Name: 489, dtype: int64"
   ]
  },
  {
   "cell_type": "markdown",
   "id": "0d26ae61",
   "metadata": {},
   "source": [
    "nombre_infected       830\n",
    "nombre_sain          2307\n",
    "nombre_exposed        469\n",
    "nombre_recovered    16394\n",
    "Name: 490, dtype: int64"
   ]
  },
  {
   "cell_type": "markdown",
   "id": "72ea1dbd",
   "metadata": {},
   "source": [
    "nombre_infected       849\n",
    "nombre_sain          2305\n",
    "nombre_exposed        483\n",
    "nombre_recovered    16363\n",
    "Name: 491, dtype: int64"
   ]
  },
  {
   "cell_type": "markdown",
   "id": "5c5b5d7e",
   "metadata": {},
   "source": [
    "nombre_infected       848\n",
    "nombre_sain          2304\n",
    "nombre_exposed        490\n",
    "nombre_recovered    16358\n",
    "Name: 492, dtype: int64"
   ]
  },
  {
   "cell_type": "markdown",
   "id": "bd3c95f4",
   "metadata": {},
   "source": [
    "nombre_infected       842\n",
    "nombre_sain          2309\n",
    "nombre_exposed        491\n",
    "nombre_recovered    16358\n",
    "Name: 493, dtype: int64"
   ]
  },
  {
   "cell_type": "markdown",
   "id": "ba52e992",
   "metadata": {},
   "source": [
    "nombre_infected       852\n",
    "nombre_sain          2302\n",
    "nombre_exposed        492\n",
    "nombre_recovered    16354\n",
    "Name: 494, dtype: int64"
   ]
  },
  {
   "cell_type": "markdown",
   "id": "3e211f49",
   "metadata": {},
   "source": [
    "nombre_infected       869\n",
    "nombre_sain          2310\n",
    "nombre_exposed        490\n",
    "nombre_recovered    16331\n",
    "Name: 495, dtype: int64"
   ]
  },
  {
   "cell_type": "markdown",
   "id": "1f0e883a",
   "metadata": {},
   "source": [
    "nombre_infected       864\n",
    "nombre_sain          2290\n",
    "nombre_exposed        503\n",
    "nombre_recovered    16343\n",
    "Name: 496, dtype: int64"
   ]
  },
  {
   "cell_type": "markdown",
   "id": "ae0d400f",
   "metadata": {},
   "source": [
    "nombre_infected       873\n",
    "nombre_sain          2287\n",
    "nombre_exposed        496\n",
    "nombre_recovered    16344\n",
    "Name: 497, dtype: int64"
   ]
  },
  {
   "cell_type": "markdown",
   "id": "83d7de87",
   "metadata": {},
   "source": [
    "nombre_infected       895\n",
    "nombre_sain          2270\n",
    "nombre_exposed        487\n",
    "nombre_recovered    16348\n",
    "Name: 498, dtype: int64"
   ]
  },
  {
   "cell_type": "markdown",
   "id": "e5f92c1d",
   "metadata": {},
   "source": [
    "nombre_infected       907\n",
    "nombre_sain          2231\n",
    "nombre_exposed        500\n",
    "nombre_recovered    16362\n",
    "Name: 499, dtype: int64"
   ]
  },
  {
   "cell_type": "markdown",
   "id": "610102c5",
   "metadata": {},
   "source": [
    "nombre_infected       914\n",
    "nombre_sain          2204\n",
    "nombre_exposed        499\n",
    "nombre_recovered    16383\n",
    "Name: 500, dtype: int64"
   ]
  },
  {
   "cell_type": "markdown",
   "id": "fcb4fc02",
   "metadata": {},
   "source": [
    "nombre_infected       914\n",
    "nombre_sain          2166\n",
    "nombre_exposed        512\n",
    "nombre_recovered    16408\n",
    "Name: 501, dtype: int64"
   ]
  },
  {
   "cell_type": "markdown",
   "id": "87e837cb",
   "metadata": {},
   "source": [
    "nombre_infected       905\n",
    "nombre_sain          2135\n",
    "nombre_exposed        535\n",
    "nombre_recovered    16425\n",
    "Name: 502, dtype: int64"
   ]
  },
  {
   "cell_type": "markdown",
   "id": "f1d9ef80",
   "metadata": {},
   "source": [
    "nombre_infected       938\n",
    "nombre_sain          2122\n",
    "nombre_exposed        527\n",
    "nombre_recovered    16413\n",
    "Name: 503, dtype: int64"
   ]
  },
  {
   "cell_type": "markdown",
   "id": "38f2aa0f",
   "metadata": {},
   "source": [
    "nombre_infected       980\n",
    "nombre_sain          2102\n",
    "nombre_exposed        499\n",
    "nombre_recovered    16419\n",
    "Name: 504, dtype: int64"
   ]
  },
  {
   "cell_type": "markdown",
   "id": "e51ba510",
   "metadata": {},
   "source": [
    "nombre_infected       987\n",
    "nombre_sain          2091\n",
    "nombre_exposed        486\n",
    "nombre_recovered    16436\n",
    "Name: 505, dtype: int64"
   ]
  },
  {
   "cell_type": "markdown",
   "id": "bab9d17c",
   "metadata": {},
   "source": [
    "nombre_infected       990\n",
    "nombre_sain          2091\n",
    "nombre_exposed        479\n",
    "nombre_recovered    16440\n",
    "Name: 506, dtype: int64"
   ]
  },
  {
   "cell_type": "markdown",
   "id": "63cd43e1",
   "metadata": {},
   "source": [
    "nombre_infected       965\n",
    "nombre_sain          2066\n",
    "nombre_exposed        502\n",
    "nombre_recovered    16467\n",
    "Name: 507, dtype: int64"
   ]
  },
  {
   "cell_type": "markdown",
   "id": "db46fd52",
   "metadata": {},
   "source": [
    "nombre_infected       968\n",
    "nombre_sain          2079\n",
    "nombre_exposed        478\n",
    "nombre_recovered    16475\n",
    "Name: 508, dtype: int64"
   ]
  },
  {
   "cell_type": "markdown",
   "id": "61ea4f2c",
   "metadata": {},
   "source": [
    "nombre_infected       949\n",
    "nombre_sain          2067\n",
    "nombre_exposed        490\n",
    "nombre_recovered    16494\n",
    "Name: 509, dtype: int64"
   ]
  },
  {
   "cell_type": "markdown",
   "id": "fdf6b658",
   "metadata": {},
   "source": [
    "nombre_infected       955\n",
    "nombre_sain          2071\n",
    "nombre_exposed        479\n",
    "nombre_recovered    16495\n",
    "Name: 510, dtype: int64"
   ]
  },
  {
   "cell_type": "markdown",
   "id": "42af9466",
   "metadata": {},
   "source": [
    "nombre_infected       946\n",
    "nombre_sain          2066\n",
    "nombre_exposed        481\n",
    "nombre_recovered    16507\n",
    "Name: 511, dtype: int64"
   ]
  },
  {
   "cell_type": "markdown",
   "id": "3b29646d",
   "metadata": {},
   "source": [
    "nombre_infected       959\n",
    "nombre_sain          2057\n",
    "nombre_exposed        489\n",
    "nombre_recovered    16495\n",
    "Name: 512, dtype: int64"
   ]
  },
  {
   "cell_type": "markdown",
   "id": "86de8ef7",
   "metadata": {},
   "source": [
    "nombre_infected       966\n",
    "nombre_sain          2076\n",
    "nombre_exposed        472\n",
    "nombre_recovered    16486\n",
    "Name: 513, dtype: int64"
   ]
  },
  {
   "cell_type": "markdown",
   "id": "3e103c59",
   "metadata": {},
   "source": [
    "nombre_infected       967\n",
    "nombre_sain          2055\n",
    "nombre_exposed        497\n",
    "nombre_recovered    16481\n",
    "Name: 514, dtype: int64"
   ]
  },
  {
   "cell_type": "markdown",
   "id": "4ccc43cf",
   "metadata": {},
   "source": [
    "nombre_infected       961\n",
    "nombre_sain          2038\n",
    "nombre_exposed        516\n",
    "nombre_recovered    16485\n",
    "Name: 515, dtype: int64"
   ]
  },
  {
   "cell_type": "markdown",
   "id": "df1ecbb6",
   "metadata": {},
   "source": [
    "nombre_infected       952\n",
    "nombre_sain          2041\n",
    "nombre_exposed        538\n",
    "nombre_recovered    16469\n",
    "Name: 516, dtype: int64"
   ]
  },
  {
   "cell_type": "markdown",
   "id": "19d65a57",
   "metadata": {},
   "source": [
    "nombre_infected       973\n",
    "nombre_sain          2032\n",
    "nombre_exposed        544\n",
    "nombre_recovered    16451\n",
    "Name: 517, dtype: int64"
   ]
  },
  {
   "cell_type": "markdown",
   "id": "9cd8541b",
   "metadata": {},
   "source": [
    "nombre_infected       992\n",
    "nombre_sain          2018\n",
    "nombre_exposed        551\n",
    "nombre_recovered    16439\n",
    "Name: 518, dtype: int64"
   ]
  },
  {
   "cell_type": "markdown",
   "id": "b977f81b",
   "metadata": {},
   "source": [
    "nombre_infected      1012\n",
    "nombre_sain          1989\n",
    "nombre_exposed        569\n",
    "nombre_recovered    16430\n",
    "Name: 519, dtype: int64"
   ]
  },
  {
   "cell_type": "markdown",
   "id": "4b40c6f5",
   "metadata": {},
   "source": [
    "nombre_infected      1025\n",
    "nombre_sain          2011\n",
    "nombre_exposed        554\n",
    "nombre_recovered    16410\n",
    "Name: 520, dtype: int64"
   ]
  },
  {
   "cell_type": "markdown",
   "id": "67db6aa7",
   "metadata": {},
   "source": [
    "nombre_infected      1042\n",
    "nombre_sain          2028\n",
    "nombre_exposed        535\n",
    "nombre_recovered    16395\n",
    "Name: 521, dtype: int64"
   ]
  },
  {
   "cell_type": "markdown",
   "id": "aa1eefdf",
   "metadata": {},
   "source": [
    "nombre_infected      1046\n",
    "nombre_sain          2019\n",
    "nombre_exposed        545\n",
    "nombre_recovered    16390\n",
    "Name: 522, dtype: int64"
   ]
  },
  {
   "cell_type": "markdown",
   "id": "eabc6582",
   "metadata": {},
   "source": [
    "nombre_infected      1049\n",
    "nombre_sain          2016\n",
    "nombre_exposed        551\n",
    "nombre_recovered    16384\n",
    "Name: 523, dtype: int64"
   ]
  },
  {
   "cell_type": "markdown",
   "id": "3d5df2c8",
   "metadata": {},
   "source": [
    "nombre_infected      1040\n",
    "nombre_sain          2027\n",
    "nombre_exposed        511\n",
    "nombre_recovered    16422\n",
    "Name: 524, dtype: int64"
   ]
  },
  {
   "cell_type": "markdown",
   "id": "1f0317bd",
   "metadata": {},
   "source": [
    "nombre_infected      1055\n",
    "nombre_sain          2018\n",
    "nombre_exposed        498\n",
    "nombre_recovered    16429\n",
    "Name: 525, dtype: int64"
   ]
  },
  {
   "cell_type": "markdown",
   "id": "35cffa98",
   "metadata": {},
   "source": [
    "nombre_infected      1052\n",
    "nombre_sain          2002\n",
    "nombre_exposed        512\n",
    "nombre_recovered    16434\n",
    "Name: 526, dtype: int64"
   ]
  },
  {
   "cell_type": "markdown",
   "id": "ae31f4c9",
   "metadata": {},
   "source": [
    "nombre_infected      1039\n",
    "nombre_sain          1995\n",
    "nombre_exposed        513\n",
    "nombre_recovered    16453\n",
    "Name: 527, dtype: int64"
   ]
  },
  {
   "cell_type": "markdown",
   "id": "ad5d412e",
   "metadata": {},
   "source": [
    "nombre_infected      1039\n",
    "nombre_sain          1973\n",
    "nombre_exposed        527\n",
    "nombre_recovered    16461\n",
    "Name: 528, dtype: int64"
   ]
  },
  {
   "cell_type": "markdown",
   "id": "7757d9b8",
   "metadata": {},
   "source": [
    "nombre_infected      1031\n",
    "nombre_sain          1979\n",
    "nombre_exposed        519\n",
    "nombre_recovered    16471\n",
    "Name: 529, dtype: int64"
   ]
  },
  {
   "cell_type": "markdown",
   "id": "360cf7bc",
   "metadata": {},
   "source": [
    "nombre_infected      1033\n",
    "nombre_sain          1971\n",
    "nombre_exposed        513\n",
    "nombre_recovered    16483\n",
    "Name: 530, dtype: int64"
   ]
  },
  {
   "cell_type": "markdown",
   "id": "c574efdb",
   "metadata": {},
   "source": [
    "nombre_infected      1006\n",
    "nombre_sain          1978\n",
    "nombre_exposed        528\n",
    "nombre_recovered    16488\n",
    "Name: 531, dtype: int64"
   ]
  },
  {
   "cell_type": "markdown",
   "id": "fc7388ec",
   "metadata": {},
   "source": [
    "nombre_infected      1014\n",
    "nombre_sain          1983\n",
    "nombre_exposed        529\n",
    "nombre_recovered    16474\n",
    "Name: 532, dtype: int64"
   ]
  },
  {
   "cell_type": "markdown",
   "id": "df53311e",
   "metadata": {},
   "source": [
    "nombre_infected      1008\n",
    "nombre_sain          1972\n",
    "nombre_exposed        525\n",
    "nombre_recovered    16495\n",
    "Name: 533, dtype: int64"
   ]
  },
  {
   "cell_type": "markdown",
   "id": "7893a9ba",
   "metadata": {},
   "source": [
    "nombre_infected      1004\n",
    "nombre_sain          1968\n",
    "nombre_exposed        535\n",
    "nombre_recovered    16493\n",
    "Name: 534, dtype: int64"
   ]
  },
  {
   "cell_type": "markdown",
   "id": "0c3254b5",
   "metadata": {},
   "source": [
    "nombre_infected      1001\n",
    "nombre_sain          1954\n",
    "nombre_exposed        528\n",
    "nombre_recovered    16517\n",
    "Name: 535, dtype: int64"
   ]
  },
  {
   "cell_type": "markdown",
   "id": "40761da0",
   "metadata": {},
   "source": [
    "nombre_infected      1010\n",
    "nombre_sain          1948\n",
    "nombre_exposed        543\n",
    "nombre_recovered    16499\n",
    "Name: 536, dtype: int64"
   ]
  },
  {
   "cell_type": "markdown",
   "id": "1f6d1d76",
   "metadata": {},
   "source": [
    "nombre_infected      1001\n",
    "nombre_sain          1938\n",
    "nombre_exposed        545\n",
    "nombre_recovered    16516\n",
    "Name: 537, dtype: int64"
   ]
  },
  {
   "cell_type": "markdown",
   "id": "d459ade5",
   "metadata": {},
   "source": [
    "nombre_infected       994\n",
    "nombre_sain          1949\n",
    "nombre_exposed        540\n",
    "nombre_recovered    16517\n",
    "Name: 538, dtype: int64"
   ]
  },
  {
   "cell_type": "markdown",
   "id": "896a3ebc",
   "metadata": {},
   "source": [
    "nombre_infected       986\n",
    "nombre_sain          1970\n",
    "nombre_exposed        510\n",
    "nombre_recovered    16534\n",
    "Name: 539, dtype: int64"
   ]
  },
  {
   "cell_type": "markdown",
   "id": "44647bd0",
   "metadata": {},
   "source": [
    "nombre_infected       990\n",
    "nombre_sain          1982\n",
    "nombre_exposed        502\n",
    "nombre_recovered    16526\n",
    "Name: 540, dtype: int64"
   ]
  },
  {
   "cell_type": "markdown",
   "id": "725363c9",
   "metadata": {},
   "source": [
    "nombre_infected       986\n",
    "nombre_sain          1960\n",
    "nombre_exposed        524\n",
    "nombre_recovered    16530\n",
    "Name: 541, dtype: int64"
   ]
  },
  {
   "cell_type": "markdown",
   "id": "640dea13",
   "metadata": {},
   "source": [
    "nombre_infected       980\n",
    "nombre_sain          1966\n",
    "nombre_exposed        509\n",
    "nombre_recovered    16545\n",
    "Name: 542, dtype: int64"
   ]
  },
  {
   "cell_type": "markdown",
   "id": "cdfd14e2",
   "metadata": {},
   "source": [
    "nombre_infected       976\n",
    "nombre_sain          1951\n",
    "nombre_exposed        533\n",
    "nombre_recovered    16540\n",
    "Name: 543, dtype: int64"
   ]
  },
  {
   "cell_type": "markdown",
   "id": "9aa4af44",
   "metadata": {},
   "source": [
    "nombre_infected       962\n",
    "nombre_sain          1956\n",
    "nombre_exposed        533\n",
    "nombre_recovered    16549\n",
    "Name: 544, dtype: int64"
   ]
  },
  {
   "cell_type": "markdown",
   "id": "9389a48c",
   "metadata": {},
   "source": [
    "nombre_infected       958\n",
    "nombre_sain          1968\n",
    "nombre_exposed        519\n",
    "nombre_recovered    16555\n",
    "Name: 545, dtype: int64"
   ]
  },
  {
   "cell_type": "markdown",
   "id": "72d905de",
   "metadata": {},
   "source": [
    "nombre_infected       956\n",
    "nombre_sain          1997\n",
    "nombre_exposed        496\n",
    "nombre_recovered    16551\n",
    "Name: 546, dtype: int64"
   ]
  },
  {
   "cell_type": "markdown",
   "id": "c3e2f048",
   "metadata": {},
   "source": [
    "nombre_infected       973\n",
    "nombre_sain          2010\n",
    "nombre_exposed        486\n",
    "nombre_recovered    16531\n",
    "Name: 547, dtype: int64"
   ]
  },
  {
   "cell_type": "markdown",
   "id": "77b3ca4c",
   "metadata": {},
   "source": [
    "nombre_infected       981\n",
    "nombre_sain          2000\n",
    "nombre_exposed        496\n",
    "nombre_recovered    16523\n",
    "Name: 548, dtype: int64"
   ]
  },
  {
   "cell_type": "markdown",
   "id": "29ff63c6",
   "metadata": {},
   "source": [
    "nombre_infected       952\n",
    "nombre_sain          2004\n",
    "nombre_exposed        514\n",
    "nombre_recovered    16530\n",
    "Name: 549, dtype: int64"
   ]
  },
  {
   "cell_type": "markdown",
   "id": "5b462848",
   "metadata": {},
   "source": [
    "nombre_infected       953\n",
    "nombre_sain          2007\n",
    "nombre_exposed        533\n",
    "nombre_recovered    16507\n",
    "Name: 550, dtype: int64"
   ]
  },
  {
   "cell_type": "markdown",
   "id": "b2ade534",
   "metadata": {},
   "source": [
    "nombre_infected       929\n",
    "nombre_sain          1999\n",
    "nombre_exposed        536\n",
    "nombre_recovered    16536\n",
    "Name: 551, dtype: int64"
   ]
  },
  {
   "cell_type": "markdown",
   "id": "7fd1ced3",
   "metadata": {},
   "source": [
    "nombre_infected       963\n",
    "nombre_sain          2005\n",
    "nombre_exposed        511\n",
    "nombre_recovered    16521\n",
    "Name: 552, dtype: int64"
   ]
  },
  {
   "cell_type": "markdown",
   "id": "dc5912d0",
   "metadata": {},
   "source": [
    "nombre_infected       985\n",
    "nombre_sain          1986\n",
    "nombre_exposed        520\n",
    "nombre_recovered    16509\n",
    "Name: 553, dtype: int64"
   ]
  },
  {
   "cell_type": "markdown",
   "id": "30c39020",
   "metadata": {},
   "source": [
    "nombre_infected       972\n",
    "nombre_sain          1966\n",
    "nombre_exposed        521\n",
    "nombre_recovered    16541\n",
    "Name: 554, dtype: int64"
   ]
  },
  {
   "cell_type": "markdown",
   "id": "2daa4a30",
   "metadata": {},
   "source": [
    "nombre_infected       976\n",
    "nombre_sain          1941\n",
    "nombre_exposed        538\n",
    "nombre_recovered    16545\n",
    "Name: 555, dtype: int64"
   ]
  },
  {
   "cell_type": "markdown",
   "id": "4ae647b0",
   "metadata": {},
   "source": [
    "nombre_infected       990\n",
    "nombre_sain          1914\n",
    "nombre_exposed        560\n",
    "nombre_recovered    16536\n",
    "Name: 556, dtype: int64"
   ]
  },
  {
   "cell_type": "markdown",
   "id": "95cd38a7",
   "metadata": {},
   "source": [
    "nombre_infected       986\n",
    "nombre_sain          1887\n",
    "nombre_exposed        588\n",
    "nombre_recovered    16539\n",
    "Name: 557, dtype: int64"
   ]
  },
  {
   "cell_type": "markdown",
   "id": "c588b383",
   "metadata": {},
   "source": [
    "nombre_infected       996\n",
    "nombre_sain          1874\n",
    "nombre_exposed        563\n",
    "nombre_recovered    16567\n",
    "Name: 558, dtype: int64"
   ]
  },
  {
   "cell_type": "markdown",
   "id": "476f75b8",
   "metadata": {},
   "source": [
    "nombre_infected      1025\n",
    "nombre_sain          1862\n",
    "nombre_exposed        538\n",
    "nombre_recovered    16575\n",
    "Name: 559, dtype: int64"
   ]
  },
  {
   "cell_type": "markdown",
   "id": "9d10a100",
   "metadata": {},
   "source": [
    "nombre_infected      1024\n",
    "nombre_sain          1849\n",
    "nombre_exposed        536\n",
    "nombre_recovered    16591\n",
    "Name: 560, dtype: int64"
   ]
  },
  {
   "cell_type": "markdown",
   "id": "4fd07537",
   "metadata": {},
   "source": [
    "nombre_infected      1015\n",
    "nombre_sain          1846\n",
    "nombre_exposed        532\n",
    "nombre_recovered    16607\n",
    "Name: 561, dtype: int64"
   ]
  },
  {
   "cell_type": "markdown",
   "id": "524f78c8",
   "metadata": {},
   "source": [
    "nombre_infected      1023\n",
    "nombre_sain          1822\n",
    "nombre_exposed        537\n",
    "nombre_recovered    16618\n",
    "Name: 562, dtype: int64"
   ]
  },
  {
   "cell_type": "markdown",
   "id": "ac870877",
   "metadata": {},
   "source": [
    "nombre_infected      1014\n",
    "nombre_sain          1824\n",
    "nombre_exposed        523\n",
    "nombre_recovered    16639\n",
    "Name: 563, dtype: int64"
   ]
  },
  {
   "cell_type": "markdown",
   "id": "903787c0",
   "metadata": {},
   "source": [
    "nombre_infected      1002\n",
    "nombre_sain          1780\n",
    "nombre_exposed        537\n",
    "nombre_recovered    16681\n",
    "Name: 564, dtype: int64"
   ]
  },
  {
   "cell_type": "markdown",
   "id": "6dd13071",
   "metadata": {},
   "source": [
    "nombre_infected      1004\n",
    "nombre_sain          1785\n",
    "nombre_exposed        521\n",
    "nombre_recovered    16690\n",
    "Name: 565, dtype: int64"
   ]
  },
  {
   "cell_type": "markdown",
   "id": "22e43a2b",
   "metadata": {},
   "source": [
    "nombre_infected       988\n",
    "nombre_sain          1809\n",
    "nombre_exposed        508\n",
    "nombre_recovered    16695\n",
    "Name: 566, dtype: int64"
   ]
  },
  {
   "cell_type": "markdown",
   "id": "563be2df",
   "metadata": {},
   "source": [
    "nombre_infected      1010\n",
    "nombre_sain          1800\n",
    "nombre_exposed        516\n",
    "nombre_recovered    16674\n",
    "Name: 567, dtype: int64"
   ]
  },
  {
   "cell_type": "markdown",
   "id": "0b023a65",
   "metadata": {},
   "source": [
    "nombre_infected      1029\n",
    "nombre_sain          1807\n",
    "nombre_exposed        499\n",
    "nombre_recovered    16665\n",
    "Name: 568, dtype: int64"
   ]
  },
  {
   "cell_type": "markdown",
   "id": "4c0bdc66",
   "metadata": {},
   "source": [
    "nombre_infected      1013\n",
    "nombre_sain          1790\n",
    "nombre_exposed        493\n",
    "nombre_recovered    16704\n",
    "Name: 569, dtype: int64"
   ]
  },
  {
   "cell_type": "markdown",
   "id": "6d3e35b8",
   "metadata": {},
   "source": [
    "nombre_infected       992\n",
    "nombre_sain          1788\n",
    "nombre_exposed        482\n",
    "nombre_recovered    16738\n",
    "Name: 570, dtype: int64"
   ]
  },
  {
   "cell_type": "markdown",
   "id": "ba032ba9",
   "metadata": {},
   "source": [
    "nombre_infected       983\n",
    "nombre_sain          1801\n",
    "nombre_exposed        478\n",
    "nombre_recovered    16738\n",
    "Name: 571, dtype: int64"
   ]
  },
  {
   "cell_type": "markdown",
   "id": "04583940",
   "metadata": {},
   "source": [
    "nombre_infected       974\n",
    "nombre_sain          1780\n",
    "nombre_exposed        483\n",
    "nombre_recovered    16763\n",
    "Name: 572, dtype: int64"
   ]
  },
  {
   "cell_type": "markdown",
   "id": "8d10880f",
   "metadata": {},
   "source": [
    "nombre_infected       972\n",
    "nombre_sain          1794\n",
    "nombre_exposed        470\n",
    "nombre_recovered    16764\n",
    "Name: 573, dtype: int64"
   ]
  },
  {
   "cell_type": "markdown",
   "id": "3ffc6f86",
   "metadata": {},
   "source": [
    "nombre_infected       965\n",
    "nombre_sain          1799\n",
    "nombre_exposed        467\n",
    "nombre_recovered    16769\n",
    "Name: 574, dtype: int64"
   ]
  },
  {
   "cell_type": "markdown",
   "id": "82ba7bf7",
   "metadata": {},
   "source": [
    "nombre_infected       945\n",
    "nombre_sain          1776\n",
    "nombre_exposed        465\n",
    "nombre_recovered    16814\n",
    "Name: 575, dtype: int64"
   ]
  },
  {
   "cell_type": "markdown",
   "id": "d6363415",
   "metadata": {},
   "source": [
    "nombre_infected       955\n",
    "nombre_sain          1794\n",
    "nombre_exposed        433\n",
    "nombre_recovered    16818\n",
    "Name: 576, dtype: int64"
   ]
  },
  {
   "cell_type": "markdown",
   "id": "f6bb7f12",
   "metadata": {},
   "source": [
    "nombre_infected       972\n",
    "nombre_sain          1789\n",
    "nombre_exposed        423\n",
    "nombre_recovered    16816\n",
    "Name: 577, dtype: int64"
   ]
  },
  {
   "cell_type": "markdown",
   "id": "3b70e2ec",
   "metadata": {},
   "source": [
    "nombre_infected       956\n",
    "nombre_sain          1810\n",
    "nombre_exposed        422\n",
    "nombre_recovered    16812\n",
    "Name: 578, dtype: int64"
   ]
  },
  {
   "cell_type": "markdown",
   "id": "f897ede5",
   "metadata": {},
   "source": [
    "nombre_infected       931\n",
    "nombre_sain          1806\n",
    "nombre_exposed        426\n",
    "nombre_recovered    16837\n",
    "Name: 579, dtype: int64"
   ]
  },
  {
   "cell_type": "markdown",
   "id": "a0b6c524",
   "metadata": {},
   "source": [
    "nombre_infected       900\n",
    "nombre_sain          1833\n",
    "nombre_exposed        420\n",
    "nombre_recovered    16847\n",
    "Name: 580, dtype: int64"
   ]
  },
  {
   "cell_type": "markdown",
   "id": "da57fb90",
   "metadata": {},
   "source": [
    "nombre_infected       885\n",
    "nombre_sain          1845\n",
    "nombre_exposed        419\n",
    "nombre_recovered    16851\n",
    "Name: 581, dtype: int64"
   ]
  },
  {
   "cell_type": "markdown",
   "id": "e13b009f",
   "metadata": {},
   "source": [
    "nombre_infected       900\n",
    "nombre_sain          1889\n",
    "nombre_exposed        399\n",
    "nombre_recovered    16812\n",
    "Name: 582, dtype: int64"
   ]
  },
  {
   "cell_type": "markdown",
   "id": "728fbad9",
   "metadata": {},
   "source": [
    "nombre_infected       873\n",
    "nombre_sain          1895\n",
    "nombre_exposed        396\n",
    "nombre_recovered    16836\n",
    "Name: 583, dtype: int64"
   ]
  },
  {
   "cell_type": "markdown",
   "id": "ac2c3e37",
   "metadata": {},
   "source": [
    "nombre_infected       886\n",
    "nombre_sain          1910\n",
    "nombre_exposed        397\n",
    "nombre_recovered    16807\n",
    "Name: 584, dtype: int64"
   ]
  },
  {
   "cell_type": "markdown",
   "id": "ebf360a3",
   "metadata": {},
   "source": [
    "nombre_infected       863\n",
    "nombre_sain          1927\n",
    "nombre_exposed        406\n",
    "nombre_recovered    16804\n",
    "Name: 585, dtype: int64"
   ]
  },
  {
   "cell_type": "markdown",
   "id": "1bdf5f35",
   "metadata": {},
   "source": [
    "nombre_infected       867\n",
    "nombre_sain          1963\n",
    "nombre_exposed        401\n",
    "nombre_recovered    16769\n",
    "Name: 586, dtype: int64"
   ]
  },
  {
   "cell_type": "markdown",
   "id": "4ad4fb96",
   "metadata": {},
   "source": [
    "nombre_infected       871\n",
    "nombre_sain          1968\n",
    "nombre_exposed        399\n",
    "nombre_recovered    16762\n",
    "Name: 587, dtype: int64"
   ]
  },
  {
   "cell_type": "markdown",
   "id": "b596c626",
   "metadata": {},
   "source": [
    "nombre_infected       849\n",
    "nombre_sain          2000\n",
    "nombre_exposed        431\n",
    "nombre_recovered    16720\n",
    "Name: 588, dtype: int64"
   ]
  },
  {
   "cell_type": "markdown",
   "id": "f74706e2",
   "metadata": {},
   "source": [
    "nombre_infected       827\n",
    "nombre_sain          2015\n",
    "nombre_exposed        452\n",
    "nombre_recovered    16706\n",
    "Name: 589, dtype: int64"
   ]
  },
  {
   "cell_type": "markdown",
   "id": "5c9fdf8d",
   "metadata": {},
   "source": [
    "nombre_infected       817\n",
    "nombre_sain          2043\n",
    "nombre_exposed        457\n",
    "nombre_recovered    16683\n",
    "Name: 590, dtype: int64"
   ]
  },
  {
   "cell_type": "markdown",
   "id": "13b7cffd",
   "metadata": {},
   "source": [
    "nombre_infected       829\n",
    "nombre_sain          2069\n",
    "nombre_exposed        442\n",
    "nombre_recovered    16660\n",
    "Name: 591, dtype: int64"
   ]
  },
  {
   "cell_type": "markdown",
   "id": "e525166f",
   "metadata": {},
   "source": [
    "nombre_infected       836\n",
    "nombre_sain          2071\n",
    "nombre_exposed        444\n",
    "nombre_recovered    16649\n",
    "Name: 592, dtype: int64"
   ]
  },
  {
   "cell_type": "markdown",
   "id": "51f1a29d",
   "metadata": {},
   "source": [
    "nombre_infected       862\n",
    "nombre_sain          2081\n",
    "nombre_exposed        453\n",
    "nombre_recovered    16604\n",
    "Name: 593, dtype: int64"
   ]
  },
  {
   "cell_type": "markdown",
   "id": "a64c543e",
   "metadata": {},
   "source": [
    "nombre_infected       848\n",
    "nombre_sain          2087\n",
    "nombre_exposed        466\n",
    "nombre_recovered    16599\n",
    "Name: 594, dtype: int64"
   ]
  },
  {
   "cell_type": "markdown",
   "id": "dbb541b7",
   "metadata": {},
   "source": [
    "nombre_infected       841\n",
    "nombre_sain          2097\n",
    "nombre_exposed        481\n",
    "nombre_recovered    16581\n",
    "Name: 595, dtype: int64"
   ]
  },
  {
   "cell_type": "markdown",
   "id": "ea9ea77e",
   "metadata": {},
   "source": [
    "nombre_infected       858\n",
    "nombre_sain          2081\n",
    "nombre_exposed        475\n",
    "nombre_recovered    16586\n",
    "Name: 596, dtype: int64"
   ]
  },
  {
   "cell_type": "markdown",
   "id": "020c9dc7",
   "metadata": {},
   "source": [
    "nombre_infected       885\n",
    "nombre_sain          2111\n",
    "nombre_exposed        460\n",
    "nombre_recovered    16544\n",
    "Name: 597, dtype: int64"
   ]
  },
  {
   "cell_type": "markdown",
   "id": "a7921d61",
   "metadata": {},
   "source": [
    "nombre_infected       882\n",
    "nombre_sain          2107\n",
    "nombre_exposed        453\n",
    "nombre_recovered    16558\n",
    "Name: 598, dtype: int64"
   ]
  },
  {
   "cell_type": "markdown",
   "id": "b93b9bf8",
   "metadata": {},
   "source": [
    "nombre_infected       854\n",
    "nombre_sain          2094\n",
    "nombre_exposed        458\n",
    "nombre_recovered    16594\n",
    "Name: 599, dtype: int64"
   ]
  },
  {
   "cell_type": "markdown",
   "id": "8aa4ec2f",
   "metadata": {},
   "source": [
    "nombre_infected       855\n",
    "nombre_sain          2111\n",
    "nombre_exposed        441\n",
    "nombre_recovered    16593\n",
    "Name: 600, dtype: int64"
   ]
  },
  {
   "cell_type": "markdown",
   "id": "5480a6dc",
   "metadata": {},
   "source": [
    "nombre_infected       861\n",
    "nombre_sain          2135\n",
    "nombre_exposed        436\n",
    "nombre_recovered    16568\n",
    "Name: 601, dtype: int64"
   ]
  },
  {
   "cell_type": "markdown",
   "id": "b31909d4",
   "metadata": {},
   "source": [
    "nombre_infected       866\n",
    "nombre_sain          2121\n",
    "nombre_exposed        437\n",
    "nombre_recovered    16576\n",
    "Name: 602, dtype: int64"
   ]
  },
  {
   "cell_type": "markdown",
   "id": "a3a17a08",
   "metadata": {},
   "source": [
    "nombre_infected       863\n",
    "nombre_sain          2142\n",
    "nombre_exposed        423\n",
    "nombre_recovered    16572\n",
    "Name: 603, dtype: int64"
   ]
  },
  {
   "cell_type": "markdown",
   "id": "af464cc0",
   "metadata": {},
   "source": [
    "nombre_infected       847\n",
    "nombre_sain          2145\n",
    "nombre_exposed        450\n",
    "nombre_recovered    16558\n",
    "Name: 604, dtype: int64"
   ]
  },
  {
   "cell_type": "markdown",
   "id": "26a9ec79",
   "metadata": {},
   "source": [
    "nombre_infected       851\n",
    "nombre_sain          2139\n",
    "nombre_exposed        458\n",
    "nombre_recovered    16552\n",
    "Name: 605, dtype: int64"
   ]
  },
  {
   "cell_type": "markdown",
   "id": "24785bc1",
   "metadata": {},
   "source": [
    "nombre_infected       877\n",
    "nombre_sain          2130\n",
    "nombre_exposed        455\n",
    "nombre_recovered    16538\n",
    "Name: 606, dtype: int64"
   ]
  },
  {
   "cell_type": "markdown",
   "id": "a85ed192",
   "metadata": {},
   "source": [
    "nombre_infected       900\n",
    "nombre_sain          2113\n",
    "nombre_exposed        439\n",
    "nombre_recovered    16548\n",
    "Name: 607, dtype: int64"
   ]
  },
  {
   "cell_type": "markdown",
   "id": "7808f3e3",
   "metadata": {},
   "source": [
    "nombre_infected       875\n",
    "nombre_sain          2106\n",
    "nombre_exposed        461\n",
    "nombre_recovered    16558\n",
    "Name: 608, dtype: int64"
   ]
  },
  {
   "cell_type": "markdown",
   "id": "f88f3088",
   "metadata": {},
   "source": [
    "nombre_infected       870\n",
    "nombre_sain          2092\n",
    "nombre_exposed        474\n",
    "nombre_recovered    16564\n",
    "Name: 609, dtype: int64"
   ]
  },
  {
   "cell_type": "markdown",
   "id": "afc2cb93",
   "metadata": {},
   "source": [
    "nombre_infected       893\n",
    "nombre_sain          2098\n",
    "nombre_exposed        453\n",
    "nombre_recovered    16556\n",
    "Name: 610, dtype: int64"
   ]
  },
  {
   "cell_type": "markdown",
   "id": "8cf5c74b",
   "metadata": {},
   "source": [
    "nombre_infected       908\n",
    "nombre_sain          2079\n",
    "nombre_exposed        439\n",
    "nombre_recovered    16574\n",
    "Name: 611, dtype: int64"
   ]
  },
  {
   "cell_type": "markdown",
   "id": "0bf3e3c4",
   "metadata": {},
   "source": [
    "nombre_infected       898\n",
    "nombre_sain          2077\n",
    "nombre_exposed        436\n",
    "nombre_recovered    16589\n",
    "Name: 612, dtype: int64"
   ]
  },
  {
   "cell_type": "markdown",
   "id": "497e0b25",
   "metadata": {},
   "source": [
    "nombre_infected       878\n",
    "nombre_sain          2050\n",
    "nombre_exposed        468\n",
    "nombre_recovered    16604\n",
    "Name: 613, dtype: int64"
   ]
  },
  {
   "cell_type": "markdown",
   "id": "ce86d275",
   "metadata": {},
   "source": [
    "nombre_infected       873\n",
    "nombre_sain          2061\n",
    "nombre_exposed        467\n",
    "nombre_recovered    16599\n",
    "Name: 614, dtype: int64"
   ]
  },
  {
   "cell_type": "markdown",
   "id": "8943cc01",
   "metadata": {},
   "source": [
    "nombre_infected       886\n",
    "nombre_sain          2057\n",
    "nombre_exposed        455\n",
    "nombre_recovered    16602\n",
    "Name: 615, dtype: int64"
   ]
  },
  {
   "cell_type": "markdown",
   "id": "bc6e8b89",
   "metadata": {},
   "source": [
    "nombre_infected       896\n",
    "nombre_sain          2048\n",
    "nombre_exposed        429\n",
    "nombre_recovered    16627\n",
    "Name: 616, dtype: int64"
   ]
  },
  {
   "cell_type": "markdown",
   "id": "2f589fdf",
   "metadata": {},
   "source": [
    "nombre_infected       921\n",
    "nombre_sain          2040\n",
    "nombre_exposed        416\n",
    "nombre_recovered    16623\n",
    "Name: 617, dtype: int64"
   ]
  },
  {
   "cell_type": "markdown",
   "id": "34fcc9dc",
   "metadata": {},
   "source": [
    "nombre_infected       903\n",
    "nombre_sain          2051\n",
    "nombre_exposed        425\n",
    "nombre_recovered    16621\n",
    "Name: 618, dtype: int64"
   ]
  },
  {
   "cell_type": "markdown",
   "id": "a6e0eeb1",
   "metadata": {},
   "source": [
    "nombre_infected       891\n",
    "nombre_sain          2026\n",
    "nombre_exposed        434\n",
    "nombre_recovered    16649\n",
    "Name: 619, dtype: int64"
   ]
  },
  {
   "cell_type": "markdown",
   "id": "22e6d841",
   "metadata": {},
   "source": [
    "nombre_infected       879\n",
    "nombre_sain          2007\n",
    "nombre_exposed        431\n",
    "nombre_recovered    16683\n",
    "Name: 620, dtype: int64"
   ]
  },
  {
   "cell_type": "markdown",
   "id": "359644e4",
   "metadata": {},
   "source": [
    "nombre_infected       904\n",
    "nombre_sain          1994\n",
    "nombre_exposed        429\n",
    "nombre_recovered    16673\n",
    "Name: 621, dtype: int64"
   ]
  },
  {
   "cell_type": "markdown",
   "id": "b3390c37",
   "metadata": {},
   "source": [
    "nombre_infected       905\n",
    "nombre_sain          1969\n",
    "nombre_exposed        453\n",
    "nombre_recovered    16673\n",
    "Name: 622, dtype: int64"
   ]
  },
  {
   "cell_type": "markdown",
   "id": "51fc472e",
   "metadata": {},
   "source": [
    "nombre_infected       903\n",
    "nombre_sain          1966\n",
    "nombre_exposed        445\n",
    "nombre_recovered    16686\n",
    "Name: 623, dtype: int64"
   ]
  },
  {
   "cell_type": "markdown",
   "id": "d4ba65a0",
   "metadata": {},
   "source": [
    "nombre_infected       901\n",
    "nombre_sain          1961\n",
    "nombre_exposed        439\n",
    "nombre_recovered    16699\n",
    "Name: 624, dtype: int64"
   ]
  },
  {
   "cell_type": "markdown",
   "id": "870a1430",
   "metadata": {},
   "source": [
    "nombre_infected       885\n",
    "nombre_sain          1959\n",
    "nombre_exposed        438\n",
    "nombre_recovered    16718\n",
    "Name: 625, dtype: int64"
   ]
  },
  {
   "cell_type": "markdown",
   "id": "2234ecd8",
   "metadata": {},
   "source": [
    "nombre_infected       892\n",
    "nombre_sain          1978\n",
    "nombre_exposed        440\n",
    "nombre_recovered    16690\n",
    "Name: 626, dtype: int64"
   ]
  },
  {
   "cell_type": "markdown",
   "id": "6dc1d127",
   "metadata": {},
   "source": [
    "nombre_infected       883\n",
    "nombre_sain          2013\n",
    "nombre_exposed        423\n",
    "nombre_recovered    16681\n",
    "Name: 627, dtype: int64"
   ]
  },
  {
   "cell_type": "markdown",
   "id": "ef129be0",
   "metadata": {},
   "source": [
    "nombre_infected       860\n",
    "nombre_sain          2023\n",
    "nombre_exposed        447\n",
    "nombre_recovered    16670\n",
    "Name: 628, dtype: int64"
   ]
  },
  {
   "cell_type": "markdown",
   "id": "a7aacb75",
   "metadata": {},
   "source": [
    "nombre_infected       865\n",
    "nombre_sain          2023\n",
    "nombre_exposed        450\n",
    "nombre_recovered    16662\n",
    "Name: 629, dtype: int64"
   ]
  },
  {
   "cell_type": "markdown",
   "id": "ae4230ab",
   "metadata": {},
   "source": [
    "nombre_infected       867\n",
    "nombre_sain          2030\n",
    "nombre_exposed        458\n",
    "nombre_recovered    16645\n",
    "Name: 630, dtype: int64"
   ]
  },
  {
   "cell_type": "markdown",
   "id": "398e9fe4",
   "metadata": {},
   "source": [
    "nombre_infected       888\n",
    "nombre_sain          2051\n",
    "nombre_exposed        456\n",
    "nombre_recovered    16605\n",
    "Name: 631, dtype: int64"
   ]
  },
  {
   "cell_type": "markdown",
   "id": "6c727fb6",
   "metadata": {},
   "source": [
    "nombre_infected       865\n",
    "nombre_sain          2061\n",
    "nombre_exposed        464\n",
    "nombre_recovered    16610\n",
    "Name: 632, dtype: int64"
   ]
  },
  {
   "cell_type": "markdown",
   "id": "26f1a54b",
   "metadata": {},
   "source": [
    "nombre_infected       875\n",
    "nombre_sain          2077\n",
    "nombre_exposed        445\n",
    "nombre_recovered    16603\n",
    "Name: 633, dtype: int64"
   ]
  },
  {
   "cell_type": "markdown",
   "id": "070147a8",
   "metadata": {},
   "source": [
    "nombre_infected       896\n",
    "nombre_sain          2098\n",
    "nombre_exposed        443\n",
    "nombre_recovered    16563\n",
    "Name: 634, dtype: int64"
   ]
  },
  {
   "cell_type": "markdown",
   "id": "c533ae5b",
   "metadata": {},
   "source": [
    "nombre_infected       894\n",
    "nombre_sain          2132\n",
    "nombre_exposed        435\n",
    "nombre_recovered    16539\n",
    "Name: 635, dtype: int64"
   ]
  },
  {
   "cell_type": "markdown",
   "id": "51779eb4",
   "metadata": {},
   "source": [
    "nombre_infected       880\n",
    "nombre_sain          2126\n",
    "nombre_exposed        441\n",
    "nombre_recovered    16553\n",
    "Name: 636, dtype: int64"
   ]
  },
  {
   "cell_type": "markdown",
   "id": "b363293a",
   "metadata": {},
   "source": [
    "nombre_infected       883\n",
    "nombre_sain          2132\n",
    "nombre_exposed        454\n",
    "nombre_recovered    16531\n",
    "Name: 637, dtype: int64"
   ]
  },
  {
   "cell_type": "markdown",
   "id": "5a6115fe",
   "metadata": {},
   "source": [
    "nombre_infected       896\n",
    "nombre_sain          2144\n",
    "nombre_exposed        457\n",
    "nombre_recovered    16503\n",
    "Name: 638, dtype: int64"
   ]
  },
  {
   "cell_type": "markdown",
   "id": "df75203f",
   "metadata": {},
   "source": [
    "nombre_infected       889\n",
    "nombre_sain          2163\n",
    "nombre_exposed        441\n",
    "nombre_recovered    16507\n",
    "Name: 639, dtype: int64"
   ]
  },
  {
   "cell_type": "markdown",
   "id": "194a9b41",
   "metadata": {},
   "source": [
    "nombre_infected       883\n",
    "nombre_sain          2154\n",
    "nombre_exposed        460\n",
    "nombre_recovered    16503\n",
    "Name: 640, dtype: int64"
   ]
  },
  {
   "cell_type": "markdown",
   "id": "2ff1c643",
   "metadata": {},
   "source": [
    "nombre_infected       895\n",
    "nombre_sain          2133\n",
    "nombre_exposed        466\n",
    "nombre_recovered    16506\n",
    "Name: 641, dtype: int64"
   ]
  },
  {
   "cell_type": "markdown",
   "id": "d12a5287",
   "metadata": {},
   "source": [
    "nombre_infected       905\n",
    "nombre_sain          2120\n",
    "nombre_exposed        450\n",
    "nombre_recovered    16525\n",
    "Name: 642, dtype: int64"
   ]
  },
  {
   "cell_type": "markdown",
   "id": "27d40f3a",
   "metadata": {},
   "source": [
    "nombre_infected       910\n",
    "nombre_sain          2111\n",
    "nombre_exposed        448\n",
    "nombre_recovered    16531\n",
    "Name: 643, dtype: int64"
   ]
  },
  {
   "cell_type": "markdown",
   "id": "73abdc52",
   "metadata": {},
   "source": [
    "nombre_infected       908\n",
    "nombre_sain          2084\n",
    "nombre_exposed        461\n",
    "nombre_recovered    16547\n",
    "Name: 644, dtype: int64"
   ]
  },
  {
   "cell_type": "markdown",
   "id": "409d656f",
   "metadata": {},
   "source": [
    "nombre_infected       884\n",
    "nombre_sain          2074\n",
    "nombre_exposed        465\n",
    "nombre_recovered    16577\n",
    "Name: 645, dtype: int64"
   ]
  },
  {
   "cell_type": "markdown",
   "id": "f8a0761f",
   "metadata": {},
   "source": [
    "nombre_infected       863\n",
    "nombre_sain          2070\n",
    "nombre_exposed        471\n",
    "nombre_recovered    16596\n",
    "Name: 646, dtype: int64"
   ]
  },
  {
   "cell_type": "markdown",
   "id": "32222844",
   "metadata": {},
   "source": [
    "nombre_infected       873\n",
    "nombre_sain          2059\n",
    "nombre_exposed        454\n",
    "nombre_recovered    16614\n",
    "Name: 647, dtype: int64"
   ]
  },
  {
   "cell_type": "markdown",
   "id": "b2745357",
   "metadata": {},
   "source": [
    "nombre_infected       893\n",
    "nombre_sain          2035\n",
    "nombre_exposed        432\n",
    "nombre_recovered    16640\n",
    "Name: 648, dtype: int64"
   ]
  },
  {
   "cell_type": "markdown",
   "id": "bb4634f8",
   "metadata": {},
   "source": [
    "nombre_infected       882\n",
    "nombre_sain          2064\n",
    "nombre_exposed        439\n",
    "nombre_recovered    16615\n",
    "Name: 649, dtype: int64"
   ]
  },
  {
   "cell_type": "markdown",
   "id": "e7dceeab",
   "metadata": {},
   "source": [
    "nombre_infected       892\n",
    "nombre_sain          2047\n",
    "nombre_exposed        435\n",
    "nombre_recovered    16626\n",
    "Name: 650, dtype: int64"
   ]
  },
  {
   "cell_type": "markdown",
   "id": "681c798f",
   "metadata": {},
   "source": [
    "nombre_infected       909\n",
    "nombre_sain          2051\n",
    "nombre_exposed        412\n",
    "nombre_recovered    16628\n",
    "Name: 651, dtype: int64"
   ]
  },
  {
   "cell_type": "markdown",
   "id": "308ec555",
   "metadata": {},
   "source": [
    "nombre_infected       904\n",
    "nombre_sain          2055\n",
    "nombre_exposed        408\n",
    "nombre_recovered    16633\n",
    "Name: 652, dtype: int64"
   ]
  },
  {
   "cell_type": "markdown",
   "id": "22e9f006",
   "metadata": {},
   "source": [
    "nombre_infected       886\n",
    "nombre_sain          2048\n",
    "nombre_exposed        417\n",
    "nombre_recovered    16649\n",
    "Name: 653, dtype: int64"
   ]
  },
  {
   "cell_type": "markdown",
   "id": "0dd83644",
   "metadata": {},
   "source": [
    "nombre_infected       879\n",
    "nombre_sain          2050\n",
    "nombre_exposed        419\n",
    "nombre_recovered    16652\n",
    "Name: 654, dtype: int64"
   ]
  },
  {
   "cell_type": "markdown",
   "id": "a947a3d9",
   "metadata": {},
   "source": [
    "nombre_infected       871\n",
    "nombre_sain          2044\n",
    "nombre_exposed        405\n",
    "nombre_recovered    16680\n",
    "Name: 655, dtype: int64"
   ]
  },
  {
   "cell_type": "markdown",
   "id": "0ce91c19",
   "metadata": {},
   "source": [
    "nombre_infected       874\n",
    "nombre_sain          2029\n",
    "nombre_exposed        421\n",
    "nombre_recovered    16676\n",
    "Name: 656, dtype: int64"
   ]
  },
  {
   "cell_type": "markdown",
   "id": "a5882e10",
   "metadata": {},
   "source": [
    "nombre_infected       884\n",
    "nombre_sain          2016\n",
    "nombre_exposed        435\n",
    "nombre_recovered    16665\n",
    "Name: 657, dtype: int64"
   ]
  },
  {
   "cell_type": "markdown",
   "id": "9223780e",
   "metadata": {},
   "source": [
    "nombre_infected       880\n",
    "nombre_sain          2012\n",
    "nombre_exposed        422\n",
    "nombre_recovered    16686\n",
    "Name: 658, dtype: int64"
   ]
  },
  {
   "cell_type": "markdown",
   "id": "2114967e",
   "metadata": {},
   "source": [
    "nombre_infected       882\n",
    "nombre_sain          2015\n",
    "nombre_exposed        409\n",
    "nombre_recovered    16694\n",
    "Name: 659, dtype: int64"
   ]
  },
  {
   "cell_type": "markdown",
   "id": "13e5a8cc",
   "metadata": {},
   "source": [
    "nombre_infected       883\n",
    "nombre_sain          2031\n",
    "nombre_exposed        392\n",
    "nombre_recovered    16694\n",
    "Name: 660, dtype: int64"
   ]
  },
  {
   "cell_type": "markdown",
   "id": "08727473",
   "metadata": {},
   "source": [
    "nombre_infected       884\n",
    "nombre_sain          2015\n",
    "nombre_exposed        407\n",
    "nombre_recovered    16694\n",
    "Name: 661, dtype: int64"
   ]
  },
  {
   "cell_type": "markdown",
   "id": "ea059540",
   "metadata": {},
   "source": [
    "nombre_infected       860\n",
    "nombre_sain          1998\n",
    "nombre_exposed        420\n",
    "nombre_recovered    16722\n",
    "Name: 662, dtype: int64"
   ]
  },
  {
   "cell_type": "markdown",
   "id": "0245baa5",
   "metadata": {},
   "source": [
    "nombre_infected       860\n",
    "nombre_sain          1985\n",
    "nombre_exposed        430\n",
    "nombre_recovered    16725\n",
    "Name: 663, dtype: int64"
   ]
  },
  {
   "cell_type": "markdown",
   "id": "67a6a98b",
   "metadata": {},
   "source": [
    "nombre_infected       855\n",
    "nombre_sain          1975\n",
    "nombre_exposed        446\n",
    "nombre_recovered    16724\n",
    "Name: 664, dtype: int64"
   ]
  },
  {
   "cell_type": "markdown",
   "id": "ffcf2197",
   "metadata": {},
   "source": [
    "nombre_infected       847\n",
    "nombre_sain          2007\n",
    "nombre_exposed        419\n",
    "nombre_recovered    16727\n",
    "Name: 665, dtype: int64"
   ]
  },
  {
   "cell_type": "markdown",
   "id": "bd226e99",
   "metadata": {},
   "source": [
    "nombre_infected       860\n",
    "nombre_sain          2038\n",
    "nombre_exposed        393\n",
    "nombre_recovered    16709\n",
    "Name: 666, dtype: int64"
   ]
  },
  {
   "cell_type": "markdown",
   "id": "ac51af69",
   "metadata": {},
   "source": [
    "nombre_infected       843\n",
    "nombre_sain          2061\n",
    "nombre_exposed        385\n",
    "nombre_recovered    16711\n",
    "Name: 667, dtype: int64"
   ]
  },
  {
   "cell_type": "markdown",
   "id": "14f7061b",
   "metadata": {},
   "source": [
    "nombre_infected       816\n",
    "nombre_sain          2053\n",
    "nombre_exposed        406\n",
    "nombre_recovered    16725\n",
    "Name: 668, dtype: int64"
   ]
  },
  {
   "cell_type": "markdown",
   "id": "c5656293",
   "metadata": {},
   "source": [
    "nombre_infected       823\n",
    "nombre_sain          2072\n",
    "nombre_exposed        393\n",
    "nombre_recovered    16712\n",
    "Name: 669, dtype: int64"
   ]
  },
  {
   "cell_type": "markdown",
   "id": "6429dfa4",
   "metadata": {},
   "source": [
    "nombre_infected       829\n",
    "nombre_sain          2096\n",
    "nombre_exposed        367\n",
    "nombre_recovered    16708\n",
    "Name: 670, dtype: int64"
   ]
  },
  {
   "cell_type": "markdown",
   "id": "dd9f991f",
   "metadata": {},
   "source": [
    "nombre_infected       843\n",
    "nombre_sain          2102\n",
    "nombre_exposed        358\n",
    "nombre_recovered    16697\n",
    "Name: 671, dtype: int64"
   ]
  },
  {
   "cell_type": "markdown",
   "id": "6e786cad",
   "metadata": {},
   "source": [
    "nombre_infected       831\n",
    "nombre_sain          2097\n",
    "nombre_exposed        371\n",
    "nombre_recovered    16701\n",
    "Name: 672, dtype: int64"
   ]
  },
  {
   "cell_type": "markdown",
   "id": "a17c2852",
   "metadata": {},
   "source": [
    "nombre_infected       795\n",
    "nombre_sain          2084\n",
    "nombre_exposed        404\n",
    "nombre_recovered    16717\n",
    "Name: 673, dtype: int64"
   ]
  },
  {
   "cell_type": "markdown",
   "id": "f16a559f",
   "metadata": {},
   "source": [
    "nombre_infected       778\n",
    "nombre_sain          2098\n",
    "nombre_exposed        395\n",
    "nombre_recovered    16729\n",
    "Name: 674, dtype: int64"
   ]
  },
  {
   "cell_type": "markdown",
   "id": "d9c1e7ed",
   "metadata": {},
   "source": [
    "nombre_infected       781\n",
    "nombre_sain          2096\n",
    "nombre_exposed        398\n",
    "nombre_recovered    16725\n",
    "Name: 675, dtype: int64"
   ]
  },
  {
   "cell_type": "markdown",
   "id": "18c3827b",
   "metadata": {},
   "source": [
    "nombre_infected       771\n",
    "nombre_sain          2077\n",
    "nombre_exposed        414\n",
    "nombre_recovered    16738\n",
    "Name: 676, dtype: int64"
   ]
  },
  {
   "cell_type": "markdown",
   "id": "a90075ee",
   "metadata": {},
   "source": [
    "nombre_infected       760\n",
    "nombre_sain          2063\n",
    "nombre_exposed        409\n",
    "nombre_recovered    16768\n",
    "Name: 677, dtype: int64"
   ]
  },
  {
   "cell_type": "markdown",
   "id": "d140ba0f",
   "metadata": {},
   "source": [
    "nombre_infected       771\n",
    "nombre_sain          2076\n",
    "nombre_exposed        406\n",
    "nombre_recovered    16747\n",
    "Name: 678, dtype: int64"
   ]
  },
  {
   "cell_type": "markdown",
   "id": "fbedc69f",
   "metadata": {},
   "source": [
    "nombre_infected       761\n",
    "nombre_sain          2101\n",
    "nombre_exposed        405\n",
    "nombre_recovered    16733\n",
    "Name: 679, dtype: int64"
   ]
  },
  {
   "cell_type": "markdown",
   "id": "dfe87a14",
   "metadata": {},
   "source": [
    "nombre_infected       751\n",
    "nombre_sain          2109\n",
    "nombre_exposed        401\n",
    "nombre_recovered    16739\n",
    "Name: 680, dtype: int64"
   ]
  },
  {
   "cell_type": "markdown",
   "id": "56f98116",
   "metadata": {},
   "source": [
    "nombre_infected       772\n",
    "nombre_sain          2131\n",
    "nombre_exposed        399\n",
    "nombre_recovered    16698\n",
    "Name: 681, dtype: int64"
   ]
  },
  {
   "cell_type": "markdown",
   "id": "9a3bfb5b",
   "metadata": {},
   "source": [
    "nombre_infected       771\n",
    "nombre_sain          2155\n",
    "nombre_exposed        393\n",
    "nombre_recovered    16681\n",
    "Name: 682, dtype: int64"
   ]
  },
  {
   "cell_type": "markdown",
   "id": "e5903129",
   "metadata": {},
   "source": [
    "nombre_infected       781\n",
    "nombre_sain          2169\n",
    "nombre_exposed        379\n",
    "nombre_recovered    16671\n",
    "Name: 683, dtype: int64"
   ]
  },
  {
   "cell_type": "markdown",
   "id": "564f64c4",
   "metadata": {},
   "source": [
    "nombre_infected       776\n",
    "nombre_sain          2189\n",
    "nombre_exposed        374\n",
    "nombre_recovered    16661\n",
    "Name: 684, dtype: int64"
   ]
  },
  {
   "cell_type": "markdown",
   "id": "36fcc1c8",
   "metadata": {},
   "source": [
    "nombre_infected       769\n",
    "nombre_sain          2209\n",
    "nombre_exposed        361\n",
    "nombre_recovered    16661\n",
    "Name: 685, dtype: int64"
   ]
  },
  {
   "cell_type": "markdown",
   "id": "d5d9b22c",
   "metadata": {},
   "source": [
    "nombre_infected       743\n",
    "nombre_sain          2216\n",
    "nombre_exposed        370\n",
    "nombre_recovered    16671\n",
    "Name: 686, dtype: int64"
   ]
  },
  {
   "cell_type": "markdown",
   "id": "7965115b",
   "metadata": {},
   "source": [
    "nombre_infected       740\n",
    "nombre_sain          2239\n",
    "nombre_exposed        376\n",
    "nombre_recovered    16645\n",
    "Name: 687, dtype: int64"
   ]
  },
  {
   "cell_type": "markdown",
   "id": "8721dda1",
   "metadata": {},
   "source": [
    "nombre_infected       765\n",
    "nombre_sain          2285\n",
    "nombre_exposed        363\n",
    "nombre_recovered    16587\n",
    "Name: 688, dtype: int64"
   ]
  },
  {
   "cell_type": "markdown",
   "id": "a29b2262",
   "metadata": {},
   "source": [
    "nombre_infected       747\n",
    "nombre_sain          2286\n",
    "nombre_exposed        382\n",
    "nombre_recovered    16585\n",
    "Name: 689, dtype: int64"
   ]
  },
  {
   "cell_type": "markdown",
   "id": "e5e9191c",
   "metadata": {},
   "source": [
    "nombre_infected       757\n",
    "nombre_sain          2264\n",
    "nombre_exposed        421\n",
    "nombre_recovered    16558\n",
    "Name: 690, dtype: int64"
   ]
  },
  {
   "cell_type": "markdown",
   "id": "87f8d220",
   "metadata": {},
   "source": [
    "nombre_infected       755\n",
    "nombre_sain          2282\n",
    "nombre_exposed        416\n",
    "nombre_recovered    16547\n",
    "Name: 691, dtype: int64"
   ]
  },
  {
   "cell_type": "markdown",
   "id": "e260bab6",
   "metadata": {},
   "source": [
    "nombre_infected       768\n",
    "nombre_sain          2300\n",
    "nombre_exposed        392\n",
    "nombre_recovered    16540\n",
    "Name: 692, dtype: int64"
   ]
  },
  {
   "cell_type": "markdown",
   "id": "490dabc2",
   "metadata": {},
   "source": [
    "nombre_infected       795\n",
    "nombre_sain          2297\n",
    "nombre_exposed        383\n",
    "nombre_recovered    16525\n",
    "Name: 693, dtype: int64"
   ]
  },
  {
   "cell_type": "markdown",
   "id": "3df08fd2",
   "metadata": {},
   "source": [
    "nombre_infected       801\n",
    "nombre_sain          2298\n",
    "nombre_exposed        403\n",
    "nombre_recovered    16498\n",
    "Name: 694, dtype: int64"
   ]
  },
  {
   "cell_type": "markdown",
   "id": "20a87e38",
   "metadata": {},
   "source": [
    "nombre_infected       783\n",
    "nombre_sain          2297\n",
    "nombre_exposed        421\n",
    "nombre_recovered    16499\n",
    "Name: 695, dtype: int64"
   ]
  },
  {
   "cell_type": "markdown",
   "id": "f6dc0c93",
   "metadata": {},
   "source": [
    "nombre_infected       795\n",
    "nombre_sain          2301\n",
    "nombre_exposed        416\n",
    "nombre_recovered    16488\n",
    "Name: 696, dtype: int64"
   ]
  },
  {
   "cell_type": "markdown",
   "id": "3596d3a3",
   "metadata": {},
   "source": [
    "nombre_infected       787\n",
    "nombre_sain          2315\n",
    "nombre_exposed        412\n",
    "nombre_recovered    16486\n",
    "Name: 697, dtype: int64"
   ]
  },
  {
   "cell_type": "markdown",
   "id": "9116149e",
   "metadata": {},
   "source": [
    "nombre_infected       787\n",
    "nombre_sain          2281\n",
    "nombre_exposed        432\n",
    "nombre_recovered    16500\n",
    "Name: 698, dtype: int64"
   ]
  },
  {
   "cell_type": "markdown",
   "id": "6eaf8b07",
   "metadata": {},
   "source": [
    "nombre_infected       770\n",
    "nombre_sain          2274\n",
    "nombre_exposed        431\n",
    "nombre_recovered    16525\n",
    "Name: 699, dtype: int64"
   ]
  },
  {
   "cell_type": "markdown",
   "id": "c7c8427f",
   "metadata": {},
   "source": [
    "nombre_infected       784\n",
    "nombre_sain          2272\n",
    "nombre_exposed        430\n",
    "nombre_recovered    16514\n",
    "Name: 700, dtype: int64"
   ]
  },
  {
   "cell_type": "markdown",
   "id": "20c13495",
   "metadata": {},
   "source": [
    "nombre_infected       783\n",
    "nombre_sain          2254\n",
    "nombre_exposed        435\n",
    "nombre_recovered    16528\n",
    "Name: 701, dtype: int64"
   ]
  },
  {
   "cell_type": "markdown",
   "id": "1737ac17",
   "metadata": {},
   "source": [
    "nombre_infected       787\n",
    "nombre_sain          2263\n",
    "nombre_exposed        445\n",
    "nombre_recovered    16505\n",
    "Name: 702, dtype: int64"
   ]
  },
  {
   "cell_type": "markdown",
   "id": "72b66515",
   "metadata": {},
   "source": [
    "nombre_infected       784\n",
    "nombre_sain          2254\n",
    "nombre_exposed        440\n",
    "nombre_recovered    16522\n",
    "Name: 703, dtype: int64"
   ]
  },
  {
   "cell_type": "markdown",
   "id": "3cc57f95",
   "metadata": {},
   "source": [
    "nombre_infected       773\n",
    "nombre_sain          2256\n",
    "nombre_exposed        448\n",
    "nombre_recovered    16523\n",
    "Name: 704, dtype: int64"
   ]
  },
  {
   "cell_type": "markdown",
   "id": "5d0d3088",
   "metadata": {},
   "source": [
    "nombre_infected       791\n",
    "nombre_sain          2244\n",
    "nombre_exposed        440\n",
    "nombre_recovered    16525\n",
    "Name: 705, dtype: int64"
   ]
  },
  {
   "cell_type": "markdown",
   "id": "e639ae2e",
   "metadata": {},
   "source": [
    "nombre_infected       800\n",
    "nombre_sain          2275\n",
    "nombre_exposed        413\n",
    "nombre_recovered    16512\n",
    "Name: 706, dtype: int64"
   ]
  },
  {
   "cell_type": "markdown",
   "id": "25b96d41",
   "metadata": {},
   "source": [
    "nombre_infected       805\n",
    "nombre_sain          2257\n",
    "nombre_exposed        420\n",
    "nombre_recovered    16518\n",
    "Name: 707, dtype: int64"
   ]
  },
  {
   "cell_type": "markdown",
   "id": "0d771c9f",
   "metadata": {},
   "source": [
    "nombre_infected       798\n",
    "nombre_sain          2246\n",
    "nombre_exposed        435\n",
    "nombre_recovered    16521\n",
    "Name: 708, dtype: int64"
   ]
  },
  {
   "cell_type": "markdown",
   "id": "78573c26",
   "metadata": {},
   "source": [
    "nombre_infected       811\n",
    "nombre_sain          2231\n",
    "nombre_exposed        445\n",
    "nombre_recovered    16513\n",
    "Name: 709, dtype: int64"
   ]
  },
  {
   "cell_type": "markdown",
   "id": "29c86c86",
   "metadata": {},
   "source": [
    "nombre_infected       822\n",
    "nombre_sain          2230\n",
    "nombre_exposed        455\n",
    "nombre_recovered    16493\n",
    "Name: 710, dtype: int64"
   ]
  },
  {
   "cell_type": "markdown",
   "id": "bc037d5c",
   "metadata": {},
   "source": [
    "nombre_infected       824\n",
    "nombre_sain          2241\n",
    "nombre_exposed        446\n",
    "nombre_recovered    16489\n",
    "Name: 711, dtype: int64"
   ]
  },
  {
   "cell_type": "markdown",
   "id": "459d5843",
   "metadata": {},
   "source": [
    "nombre_infected       834\n",
    "nombre_sain          2233\n",
    "nombre_exposed        453\n",
    "nombre_recovered    16480\n",
    "Name: 712, dtype: int64"
   ]
  },
  {
   "cell_type": "markdown",
   "id": "da747e15",
   "metadata": {},
   "source": [
    "nombre_infected       821\n",
    "nombre_sain          2210\n",
    "nombre_exposed        464\n",
    "nombre_recovered    16505\n",
    "Name: 713, dtype: int64"
   ]
  },
  {
   "cell_type": "markdown",
   "id": "4a58659f",
   "metadata": {},
   "source": [
    "nombre_infected       836\n",
    "nombre_sain          2208\n",
    "nombre_exposed        469\n",
    "nombre_recovered    16487\n",
    "Name: 714, dtype: int64"
   ]
  },
  {
   "cell_type": "markdown",
   "id": "d31fe6db",
   "metadata": {},
   "source": [
    "nombre_infected       848\n",
    "nombre_sain          2230\n",
    "nombre_exposed        455\n",
    "nombre_recovered    16467\n",
    "Name: 715, dtype: int64"
   ]
  },
  {
   "cell_type": "markdown",
   "id": "d87d8ab1",
   "metadata": {},
   "source": [
    "nombre_infected       866\n",
    "nombre_sain          2218\n",
    "nombre_exposed        454\n",
    "nombre_recovered    16462\n",
    "Name: 716, dtype: int64"
   ]
  },
  {
   "cell_type": "markdown",
   "id": "1eb32d0f",
   "metadata": {},
   "source": [
    "nombre_infected       884\n",
    "nombre_sain          2195\n",
    "nombre_exposed        452\n",
    "nombre_recovered    16469\n",
    "Name: 717, dtype: int64"
   ]
  },
  {
   "cell_type": "markdown",
   "id": "7fafdbe6",
   "metadata": {},
   "source": [
    "nombre_infected       894\n",
    "nombre_sain          2185\n",
    "nombre_exposed        443\n",
    "nombre_recovered    16478\n",
    "Name: 718, dtype: int64"
   ]
  },
  {
   "cell_type": "markdown",
   "id": "f9cfb9cb",
   "metadata": {},
   "source": [
    "nombre_infected       887\n",
    "nombre_sain          2183\n",
    "nombre_exposed        443\n",
    "nombre_recovered    16487\n",
    "Name: 719, dtype: int64"
   ]
  },
  {
   "cell_type": "markdown",
   "id": "67c3c5c4",
   "metadata": {},
   "source": [
    "nombre_infected       910\n",
    "nombre_sain          2187\n",
    "nombre_exposed        426\n",
    "nombre_recovered    16477\n",
    "Name: 720, dtype: int64"
   ]
  },
  {
   "cell_type": "markdown",
   "id": "22fb250d",
   "metadata": {},
   "source": [
    "nombre_infected       903\n",
    "nombre_sain          2185\n",
    "nombre_exposed        431\n",
    "nombre_recovered    16481\n",
    "Name: 721, dtype: int64"
   ]
  },
  {
   "cell_type": "markdown",
   "id": "c84bf9ff",
   "metadata": {},
   "source": [
    "nombre_infected       898\n",
    "nombre_sain          2169\n",
    "nombre_exposed        444\n",
    "nombre_recovered    16489\n",
    "Name: 722, dtype: int64"
   ]
  },
  {
   "cell_type": "markdown",
   "id": "18de0047",
   "metadata": {},
   "source": [
    "nombre_infected       891\n",
    "nombre_sain          2124\n",
    "nombre_exposed        469\n",
    "nombre_recovered    16516\n",
    "Name: 723, dtype: int64"
   ]
  },
  {
   "cell_type": "markdown",
   "id": "6e6a0835",
   "metadata": {},
   "source": [
    "nombre_infected       885\n",
    "nombre_sain          2091\n",
    "nombre_exposed        479\n",
    "nombre_recovered    16545\n",
    "Name: 724, dtype: int64"
   ]
  },
  {
   "cell_type": "markdown",
   "id": "637c10f3",
   "metadata": {},
   "source": [
    "nombre_infected       897\n",
    "nombre_sain          2074\n",
    "nombre_exposed        482\n",
    "nombre_recovered    16547\n",
    "Name: 725, dtype: int64"
   ]
  },
  {
   "cell_type": "markdown",
   "id": "04f3f734",
   "metadata": {},
   "source": [
    "nombre_infected       890\n",
    "nombre_sain          2071\n",
    "nombre_exposed        476\n",
    "nombre_recovered    16563\n",
    "Name: 726, dtype: int64"
   ]
  },
  {
   "cell_type": "markdown",
   "id": "a1212a9f",
   "metadata": {},
   "source": [
    "nombre_infected       899\n",
    "nombre_sain          2040\n",
    "nombre_exposed        475\n",
    "nombre_recovered    16586\n",
    "Name: 727, dtype: int64"
   ]
  },
  {
   "cell_type": "markdown",
   "id": "ed056933",
   "metadata": {},
   "source": [
    "nombre_infected       894\n",
    "nombre_sain          2023\n",
    "nombre_exposed        466\n",
    "nombre_recovered    16617\n",
    "Name: 728, dtype: int64"
   ]
  },
  {
   "cell_type": "markdown",
   "id": "607db537",
   "metadata": {},
   "source": [
    "nombre_infected       908\n",
    "nombre_sain          2005\n",
    "nombre_exposed        432\n",
    "nombre_recovered    16655\n",
    "Name: 729, dtype: int64"
   ]
  },
  {
   "cell_type": "markdown",
   "id": "8e515530",
   "metadata": {},
   "source": [
    "nombre_infected       907\n",
    "nombre_sain          1980\n",
    "nombre_exposed        439\n",
    "nombre_recovered    16674\n",
    "Name: 730, dtype: int64"
   ]
  }
 ],
 "metadata": {},
 "nbformat": 4,
 "nbformat_minor": 5
}
