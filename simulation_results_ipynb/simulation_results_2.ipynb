{
 "cells": [
  {
   "cell_type": "markdown",
   "id": "9830faf7",
   "metadata": {},
   "source": [
    "nombre_infected        20\n",
    "nombre_sain         19980\n",
    "nombre_exposed          0\n",
    "nombre_recovered        0\n",
    "Name: 0, dtype: int64"
   ]
  },
  {
   "cell_type": "markdown",
   "id": "3206d72b",
   "metadata": {},
   "source": [
    "nombre_infected        20\n",
    "nombre_sain         19969\n",
    "nombre_exposed         11\n",
    "nombre_recovered        0\n",
    "Name: 1, dtype: int64"
   ]
  },
  {
   "cell_type": "markdown",
   "id": "f4784a4a",
   "metadata": {},
   "source": [
    "nombre_infected         0\n",
    "nombre_sain         19958\n",
    "nombre_exposed         22\n",
    "nombre_recovered       20\n",
    "Name: 2, dtype: int64"
   ]
  },
  {
   "cell_type": "markdown",
   "id": "6b2c5930",
   "metadata": {},
   "source": [
    "nombre_infected         3\n",
    "nombre_sain         19955\n",
    "nombre_exposed         22\n",
    "nombre_recovered       20\n",
    "Name: 3, dtype: int64"
   ]
  },
  {
   "cell_type": "markdown",
   "id": "0ba6f1f5",
   "metadata": {},
   "source": [
    "nombre_infected         9\n",
    "nombre_sain         19951\n",
    "nombre_exposed         20\n",
    "nombre_recovered       20\n",
    "Name: 4, dtype: int64"
   ]
  },
  {
   "cell_type": "markdown",
   "id": "cd7a5afb",
   "metadata": {},
   "source": [
    "nombre_infected        11\n",
    "nombre_sain         19935\n",
    "nombre_exposed         33\n",
    "nombre_recovered       21\n",
    "Name: 5, dtype: int64"
   ]
  },
  {
   "cell_type": "markdown",
   "id": "03ccc918",
   "metadata": {},
   "source": [
    "nombre_infected        14\n",
    "nombre_sain         19918\n",
    "nombre_exposed         45\n",
    "nombre_recovered       23\n",
    "Name: 6, dtype: int64"
   ]
  },
  {
   "cell_type": "markdown",
   "id": "40cb6359",
   "metadata": {},
   "source": [
    "nombre_infected        22\n",
    "nombre_sain         19893\n",
    "nombre_exposed         61\n",
    "nombre_recovered       24\n",
    "Name: 7, dtype: int64"
   ]
  },
  {
   "cell_type": "markdown",
   "id": "61989e3f",
   "metadata": {},
   "source": [
    "nombre_infected        25\n",
    "nombre_sain         19860\n",
    "nombre_exposed         88\n",
    "nombre_recovered       27\n",
    "Name: 8, dtype: int64"
   ]
  },
  {
   "cell_type": "markdown",
   "id": "c88f9880",
   "metadata": {},
   "source": [
    "nombre_infected        35\n",
    "nombre_sain         19814\n",
    "nombre_exposed        121\n",
    "nombre_recovered       30\n",
    "Name: 9, dtype: int64"
   ]
  },
  {
   "cell_type": "markdown",
   "id": "a8f9a2f8",
   "metadata": {},
   "source": [
    "nombre_infected        56\n",
    "nombre_sain         19758\n",
    "nombre_exposed        155\n",
    "nombre_recovered       31\n",
    "Name: 10, dtype: int64"
   ]
  },
  {
   "cell_type": "markdown",
   "id": "0a506599",
   "metadata": {},
   "source": [
    "nombre_infected        79\n",
    "nombre_sain         19687\n",
    "nombre_exposed        195\n",
    "nombre_recovered       39\n",
    "Name: 11, dtype: int64"
   ]
  },
  {
   "cell_type": "markdown",
   "id": "b0363cb2",
   "metadata": {},
   "source": [
    "nombre_infected       107\n",
    "nombre_sain         19560\n",
    "nombre_exposed        287\n",
    "nombre_recovered       46\n",
    "Name: 12, dtype: int64"
   ]
  },
  {
   "cell_type": "markdown",
   "id": "19a37236",
   "metadata": {},
   "source": [
    "nombre_infected       150\n",
    "nombre_sain         19399\n",
    "nombre_exposed        396\n",
    "nombre_recovered       55\n",
    "Name: 13, dtype: int64"
   ]
  },
  {
   "cell_type": "markdown",
   "id": "94f19df4",
   "metadata": {},
   "source": [
    "nombre_infected       213\n",
    "nombre_sain         19178\n",
    "nombre_exposed        546\n",
    "nombre_recovered       63\n",
    "Name: 14, dtype: int64"
   ]
  },
  {
   "cell_type": "markdown",
   "id": "6ebd708b",
   "metadata": {},
   "source": [
    "nombre_infected       289\n",
    "nombre_sain         18897\n",
    "nombre_exposed        728\n",
    "nombre_recovered       86\n",
    "Name: 15, dtype: int64"
   ]
  },
  {
   "cell_type": "markdown",
   "id": "b4465dda",
   "metadata": {},
   "source": [
    "nombre_infected       381\n",
    "nombre_sain         18499\n",
    "nombre_exposed       1005\n",
    "nombre_recovered      115\n",
    "Name: 16, dtype: int64"
   ]
  },
  {
   "cell_type": "markdown",
   "id": "3c72daac",
   "metadata": {},
   "source": [
    "nombre_infected       521\n",
    "nombre_sain         17991\n",
    "nombre_exposed       1338\n",
    "nombre_recovered      150\n",
    "Name: 17, dtype: int64"
   ]
  },
  {
   "cell_type": "markdown",
   "id": "8e07de3d",
   "metadata": {},
   "source": [
    "nombre_infected       698\n",
    "nombre_sain         17371\n",
    "nombre_exposed       1729\n",
    "nombre_recovered      202\n",
    "Name: 18, dtype: int64"
   ]
  },
  {
   "cell_type": "markdown",
   "id": "a45782bc",
   "metadata": {},
   "source": [
    "nombre_infected       977\n",
    "nombre_sain         16502\n",
    "nombre_exposed       2255\n",
    "nombre_recovered      266\n",
    "Name: 19, dtype: int64"
   ]
  },
  {
   "cell_type": "markdown",
   "id": "0b164f3a",
   "metadata": {},
   "source": [
    "nombre_infected      1266\n",
    "nombre_sain         15440\n",
    "nombre_exposed       2941\n",
    "nombre_recovered      353\n",
    "Name: 20, dtype: int64"
   ]
  },
  {
   "cell_type": "markdown",
   "id": "87bc566d",
   "metadata": {},
   "source": [
    "nombre_infected      1674\n",
    "nombre_sain         14182\n",
    "nombre_exposed       3665\n",
    "nombre_recovered      479\n",
    "Name: 21, dtype: int64"
   ]
  },
  {
   "cell_type": "markdown",
   "id": "d62ce078",
   "metadata": {},
   "source": [
    "nombre_infected      2274\n",
    "nombre_sain         12605\n",
    "nombre_exposed       4505\n",
    "nombre_recovered      616\n",
    "Name: 22, dtype: int64"
   ]
  },
  {
   "cell_type": "markdown",
   "id": "10e9a860",
   "metadata": {},
   "source": [
    "nombre_infected      2925\n",
    "nombre_sain         10891\n",
    "nombre_exposed       5342\n",
    "nombre_recovered      842\n",
    "Name: 23, dtype: int64"
   ]
  },
  {
   "cell_type": "markdown",
   "id": "48297c28",
   "metadata": {},
   "source": [
    "nombre_infected     3733\n",
    "nombre_sain         9101\n",
    "nombre_exposed      6076\n",
    "nombre_recovered    1090\n",
    "Name: 24, dtype: int64"
   ]
  },
  {
   "cell_type": "markdown",
   "id": "5eaf6dbd",
   "metadata": {},
   "source": [
    "nombre_infected     4619\n",
    "nombre_sain         7275\n",
    "nombre_exposed      6649\n",
    "nombre_recovered    1457\n",
    "Name: 25, dtype: int64"
   ]
  },
  {
   "cell_type": "markdown",
   "id": "92f504b2",
   "metadata": {},
   "source": [
    "nombre_infected     5535\n",
    "nombre_sain         5583\n",
    "nombre_exposed      6953\n",
    "nombre_recovered    1929\n",
    "Name: 26, dtype: int64"
   ]
  },
  {
   "cell_type": "markdown",
   "id": "911acce1",
   "metadata": {},
   "source": [
    "nombre_infected     6477\n",
    "nombre_sain         4118\n",
    "nombre_exposed      6865\n",
    "nombre_recovered    2540\n",
    "Name: 27, dtype: int64"
   ]
  },
  {
   "cell_type": "markdown",
   "id": "7c75b1e5",
   "metadata": {},
   "source": [
    "nombre_infected     7366\n",
    "nombre_sain         2895\n",
    "nombre_exposed      6539\n",
    "nombre_recovered    3200\n",
    "Name: 28, dtype: int64"
   ]
  },
  {
   "cell_type": "markdown",
   "id": "0c9265c7",
   "metadata": {},
   "source": [
    "nombre_infected     8097\n",
    "nombre_sain         2032\n",
    "nombre_exposed      5852\n",
    "nombre_recovered    4019\n",
    "Name: 29, dtype: int64"
   ]
  },
  {
   "cell_type": "markdown",
   "id": "7d9c98cc",
   "metadata": {},
   "source": [
    "nombre_infected     8604\n",
    "nombre_sain         1403\n",
    "nombre_exposed      5100\n",
    "nombre_recovered    4893\n",
    "Name: 30, dtype: int64"
   ]
  },
  {
   "cell_type": "markdown",
   "id": "ead6b9e0",
   "metadata": {},
   "source": [
    "nombre_infected     8791\n",
    "nombre_sain          933\n",
    "nombre_exposed      4297\n",
    "nombre_recovered    5979\n",
    "Name: 31, dtype: int64"
   ]
  },
  {
   "cell_type": "markdown",
   "id": "7c5f98d5",
   "metadata": {},
   "source": [
    "nombre_infected     8804\n",
    "nombre_sain          650\n",
    "nombre_exposed      3539\n",
    "nombre_recovered    7007\n",
    "Name: 32, dtype: int64"
   ]
  },
  {
   "cell_type": "markdown",
   "id": "91446c9f",
   "metadata": {},
   "source": [
    "nombre_infected     8671\n",
    "nombre_sain          449\n",
    "nombre_exposed      2809\n",
    "nombre_recovered    8071\n",
    "Name: 33, dtype: int64"
   ]
  },
  {
   "cell_type": "markdown",
   "id": "9d137205",
   "metadata": {},
   "source": [
    "nombre_infected     8273\n",
    "nombre_sain          347\n",
    "nombre_exposed      2195\n",
    "nombre_recovered    9185\n",
    "Name: 34, dtype: int64"
   ]
  },
  {
   "cell_type": "markdown",
   "id": "6929a6e1",
   "metadata": {},
   "source": [
    "nombre_infected      7756\n",
    "nombre_sain           255\n",
    "nombre_exposed       1715\n",
    "nombre_recovered    10274\n",
    "Name: 35, dtype: int64"
   ]
  },
  {
   "cell_type": "markdown",
   "id": "e40c12f6",
   "metadata": {},
   "source": [
    "nombre_infected      7127\n",
    "nombre_sain           200\n",
    "nombre_exposed       1348\n",
    "nombre_recovered    11325\n",
    "Name: 36, dtype: int64"
   ]
  },
  {
   "cell_type": "markdown",
   "id": "cea99a80",
   "metadata": {},
   "source": [
    "nombre_infected      6535\n",
    "nombre_sain           176\n",
    "nombre_exposed       1057\n",
    "nombre_recovered    12232\n",
    "Name: 37, dtype: int64"
   ]
  },
  {
   "cell_type": "markdown",
   "id": "1e83396e",
   "metadata": {},
   "source": [
    "nombre_infected      5915\n",
    "nombre_sain           149\n",
    "nombre_exposed        816\n",
    "nombre_recovered    13120\n",
    "Name: 38, dtype: int64"
   ]
  },
  {
   "cell_type": "markdown",
   "id": "38187799",
   "metadata": {},
   "source": [
    "nombre_infected      5332\n",
    "nombre_sain           157\n",
    "nombre_exposed        608\n",
    "nombre_recovered    13903\n",
    "Name: 39, dtype: int64"
   ]
  },
  {
   "cell_type": "markdown",
   "id": "54eceb96",
   "metadata": {},
   "source": [
    "nombre_infected      4776\n",
    "nombre_sain           156\n",
    "nombre_exposed        472\n",
    "nombre_recovered    14596\n",
    "Name: 40, dtype: int64"
   ]
  },
  {
   "cell_type": "markdown",
   "id": "dfbc4145",
   "metadata": {},
   "source": [
    "nombre_infected      4235\n",
    "nombre_sain           153\n",
    "nombre_exposed        379\n",
    "nombre_recovered    15233\n",
    "Name: 41, dtype: int64"
   ]
  },
  {
   "cell_type": "markdown",
   "id": "6764b857",
   "metadata": {},
   "source": [
    "nombre_infected      3715\n",
    "nombre_sain           156\n",
    "nombre_exposed        321\n",
    "nombre_recovered    15808\n",
    "Name: 42, dtype: int64"
   ]
  },
  {
   "cell_type": "markdown",
   "id": "1126f706",
   "metadata": {},
   "source": [
    "nombre_infected      3276\n",
    "nombre_sain           193\n",
    "nombre_exposed        262\n",
    "nombre_recovered    16269\n",
    "Name: 43, dtype: int64"
   ]
  },
  {
   "cell_type": "markdown",
   "id": "b40cff85",
   "metadata": {},
   "source": [
    "nombre_infected      2940\n",
    "nombre_sain           220\n",
    "nombre_exposed        219\n",
    "nombre_recovered    16621\n",
    "Name: 44, dtype: int64"
   ]
  },
  {
   "cell_type": "markdown",
   "id": "31d05579",
   "metadata": {},
   "source": [
    "nombre_infected      2587\n",
    "nombre_sain           272\n",
    "nombre_exposed        201\n",
    "nombre_recovered    16940\n",
    "Name: 45, dtype: int64"
   ]
  },
  {
   "cell_type": "markdown",
   "id": "841deb2e",
   "metadata": {},
   "source": [
    "nombre_infected      2302\n",
    "nombre_sain           309\n",
    "nombre_exposed        179\n",
    "nombre_recovered    17210\n",
    "Name: 46, dtype: int64"
   ]
  },
  {
   "cell_type": "markdown",
   "id": "9bd92cec",
   "metadata": {},
   "source": [
    "nombre_infected      2078\n",
    "nombre_sain           352\n",
    "nombre_exposed        167\n",
    "nombre_recovered    17403\n",
    "Name: 47, dtype: int64"
   ]
  },
  {
   "cell_type": "markdown",
   "id": "f4551588",
   "metadata": {},
   "source": [
    "nombre_infected      1851\n",
    "nombre_sain           409\n",
    "nombre_exposed        164\n",
    "nombre_recovered    17576\n",
    "Name: 48, dtype: int64"
   ]
  },
  {
   "cell_type": "markdown",
   "id": "d6b4033d",
   "metadata": {},
   "source": [
    "nombre_infected      1660\n",
    "nombre_sain           451\n",
    "nombre_exposed        165\n",
    "nombre_recovered    17724\n",
    "Name: 49, dtype: int64"
   ]
  },
  {
   "cell_type": "markdown",
   "id": "bfa5b5ce",
   "metadata": {},
   "source": [
    "nombre_infected      1480\n",
    "nombre_sain           503\n",
    "nombre_exposed        170\n",
    "nombre_recovered    17847\n",
    "Name: 50, dtype: int64"
   ]
  },
  {
   "cell_type": "markdown",
   "id": "f2430c93",
   "metadata": {},
   "source": [
    "nombre_infected      1335\n",
    "nombre_sain           563\n",
    "nombre_exposed        168\n",
    "nombre_recovered    17934\n",
    "Name: 51, dtype: int64"
   ]
  },
  {
   "cell_type": "markdown",
   "id": "4fafc0ee",
   "metadata": {},
   "source": [
    "nombre_infected      1201\n",
    "nombre_sain           602\n",
    "nombre_exposed        185\n",
    "nombre_recovered    18012\n",
    "Name: 52, dtype: int64"
   ]
  },
  {
   "cell_type": "markdown",
   "id": "4058e66e",
   "metadata": {},
   "source": [
    "nombre_infected      1085\n",
    "nombre_sain           649\n",
    "nombre_exposed        197\n",
    "nombre_recovered    18069\n",
    "Name: 53, dtype: int64"
   ]
  },
  {
   "cell_type": "markdown",
   "id": "5dc51132",
   "metadata": {},
   "source": [
    "nombre_infected       997\n",
    "nombre_sain           697\n",
    "nombre_exposed        191\n",
    "nombre_recovered    18115\n",
    "Name: 54, dtype: int64"
   ]
  },
  {
   "cell_type": "markdown",
   "id": "b4ed4a44",
   "metadata": {},
   "source": [
    "nombre_infected       920\n",
    "nombre_sain           744\n",
    "nombre_exposed        188\n",
    "nombre_recovered    18148\n",
    "Name: 55, dtype: int64"
   ]
  },
  {
   "cell_type": "markdown",
   "id": "9fd3171b",
   "metadata": {},
   "source": [
    "nombre_infected       835\n",
    "nombre_sain           801\n",
    "nombre_exposed        188\n",
    "nombre_recovered    18176\n",
    "Name: 56, dtype: int64"
   ]
  },
  {
   "cell_type": "markdown",
   "id": "3ace7904",
   "metadata": {},
   "source": [
    "nombre_infected       749\n",
    "nombre_sain           848\n",
    "nombre_exposed        187\n",
    "nombre_recovered    18216\n",
    "Name: 57, dtype: int64"
   ]
  },
  {
   "cell_type": "markdown",
   "id": "f1d5e176",
   "metadata": {},
   "source": [
    "nombre_infected       690\n",
    "nombre_sain           896\n",
    "nombre_exposed        175\n",
    "nombre_recovered    18239\n",
    "Name: 58, dtype: int64"
   ]
  },
  {
   "cell_type": "markdown",
   "id": "6671af35",
   "metadata": {},
   "source": [
    "nombre_infected       641\n",
    "nombre_sain           937\n",
    "nombre_exposed        179\n",
    "nombre_recovered    18243\n",
    "Name: 59, dtype: int64"
   ]
  },
  {
   "cell_type": "markdown",
   "id": "8e7c39f5",
   "metadata": {},
   "source": [
    "nombre_infected       590\n",
    "nombre_sain           963\n",
    "nombre_exposed        179\n",
    "nombre_recovered    18268\n",
    "Name: 60, dtype: int64"
   ]
  },
  {
   "cell_type": "markdown",
   "id": "592f9ab2",
   "metadata": {},
   "source": [
    "nombre_infected       543\n",
    "nombre_sain          1023\n",
    "nombre_exposed        174\n",
    "nombre_recovered    18260\n",
    "Name: 61, dtype: int64"
   ]
  },
  {
   "cell_type": "markdown",
   "id": "0d1dc713",
   "metadata": {},
   "source": [
    "nombre_infected       495\n",
    "nombre_sain          1066\n",
    "nombre_exposed        168\n",
    "nombre_recovered    18271\n",
    "Name: 62, dtype: int64"
   ]
  },
  {
   "cell_type": "markdown",
   "id": "f573fee7",
   "metadata": {},
   "source": [
    "nombre_infected       440\n",
    "nombre_sain          1097\n",
    "nombre_exposed        165\n",
    "nombre_recovered    18298\n",
    "Name: 63, dtype: int64"
   ]
  },
  {
   "cell_type": "markdown",
   "id": "ffe4545c",
   "metadata": {},
   "source": [
    "nombre_infected       364\n",
    "nombre_sain          1136\n",
    "nombre_exposed        177\n",
    "nombre_recovered    18323\n",
    "Name: 64, dtype: int64"
   ]
  },
  {
   "cell_type": "markdown",
   "id": "70cec599",
   "metadata": {},
   "source": [
    "nombre_infected       351\n",
    "nombre_sain          1181\n",
    "nombre_exposed        164\n",
    "nombre_recovered    18304\n",
    "Name: 65, dtype: int64"
   ]
  },
  {
   "cell_type": "markdown",
   "id": "e8975687",
   "metadata": {},
   "source": [
    "nombre_infected       315\n",
    "nombre_sain          1230\n",
    "nombre_exposed        159\n",
    "nombre_recovered    18296\n",
    "Name: 66, dtype: int64"
   ]
  },
  {
   "cell_type": "markdown",
   "id": "3da51a68",
   "metadata": {},
   "source": [
    "nombre_infected       271\n",
    "nombre_sain          1313\n",
    "nombre_exposed        142\n",
    "nombre_recovered    18274\n",
    "Name: 67, dtype: int64"
   ]
  },
  {
   "cell_type": "markdown",
   "id": "bffec4be",
   "metadata": {},
   "source": [
    "nombre_infected       249\n",
    "nombre_sain          1381\n",
    "nombre_exposed        128\n",
    "nombre_recovered    18242\n",
    "Name: 68, dtype: int64"
   ]
  },
  {
   "cell_type": "markdown",
   "id": "dcf9bc1a",
   "metadata": {},
   "source": [
    "nombre_infected       238\n",
    "nombre_sain          1454\n",
    "nombre_exposed        113\n",
    "nombre_recovered    18195\n",
    "Name: 69, dtype: int64"
   ]
  },
  {
   "cell_type": "markdown",
   "id": "6efd537d",
   "metadata": {},
   "source": [
    "nombre_infected       216\n",
    "nombre_sain          1541\n",
    "nombre_exposed        116\n",
    "nombre_recovered    18127\n",
    "Name: 70, dtype: int64"
   ]
  },
  {
   "cell_type": "markdown",
   "id": "54fe607d",
   "metadata": {},
   "source": [
    "nombre_infected       209\n",
    "nombre_sain          1620\n",
    "nombre_exposed        113\n",
    "nombre_recovered    18058\n",
    "Name: 71, dtype: int64"
   ]
  },
  {
   "cell_type": "markdown",
   "id": "a2610a55",
   "metadata": {},
   "source": [
    "nombre_infected       211\n",
    "nombre_sain          1727\n",
    "nombre_exposed         92\n",
    "nombre_recovered    17970\n",
    "Name: 72, dtype: int64"
   ]
  },
  {
   "cell_type": "markdown",
   "id": "46bdbaa7",
   "metadata": {},
   "source": [
    "nombre_infected       190\n",
    "nombre_sain          1809\n",
    "nombre_exposed        100\n",
    "nombre_recovered    17901\n",
    "Name: 73, dtype: int64"
   ]
  },
  {
   "cell_type": "markdown",
   "id": "4acf1eb7",
   "metadata": {},
   "source": [
    "nombre_infected       175\n",
    "nombre_sain          1876\n",
    "nombre_exposed         98\n",
    "nombre_recovered    17851\n",
    "Name: 74, dtype: int64"
   ]
  },
  {
   "cell_type": "markdown",
   "id": "0a30f758",
   "metadata": {},
   "source": [
    "nombre_infected       163\n",
    "nombre_sain          1955\n",
    "nombre_exposed         98\n",
    "nombre_recovered    17784\n",
    "Name: 75, dtype: int64"
   ]
  },
  {
   "cell_type": "markdown",
   "id": "d3ad9cfd",
   "metadata": {},
   "source": [
    "nombre_infected       152\n",
    "nombre_sain          2023\n",
    "nombre_exposed        100\n",
    "nombre_recovered    17725\n",
    "Name: 76, dtype: int64"
   ]
  },
  {
   "cell_type": "markdown",
   "id": "5fe6cf34",
   "metadata": {},
   "source": [
    "nombre_infected       148\n",
    "nombre_sain          2109\n",
    "nombre_exposed         90\n",
    "nombre_recovered    17653\n",
    "Name: 77, dtype: int64"
   ]
  },
  {
   "cell_type": "markdown",
   "id": "15c1c4e2",
   "metadata": {},
   "source": [
    "nombre_infected       140\n",
    "nombre_sain          2176\n",
    "nombre_exposed         99\n",
    "nombre_recovered    17585\n",
    "Name: 78, dtype: int64"
   ]
  },
  {
   "cell_type": "markdown",
   "id": "34956c84",
   "metadata": {},
   "source": [
    "nombre_infected       138\n",
    "nombre_sain          2242\n",
    "nombre_exposed         99\n",
    "nombre_recovered    17521\n",
    "Name: 79, dtype: int64"
   ]
  },
  {
   "cell_type": "markdown",
   "id": "4380c50e",
   "metadata": {},
   "source": [
    "nombre_infected       147\n",
    "nombre_sain          2296\n",
    "nombre_exposed         96\n",
    "nombre_recovered    17461\n",
    "Name: 80, dtype: int64"
   ]
  },
  {
   "cell_type": "markdown",
   "id": "d6929c6c",
   "metadata": {},
   "source": [
    "nombre_infected       152\n",
    "nombre_sain          2361\n",
    "nombre_exposed         99\n",
    "nombre_recovered    17388\n",
    "Name: 81, dtype: int64"
   ]
  },
  {
   "cell_type": "markdown",
   "id": "6518ed26",
   "metadata": {},
   "source": [
    "nombre_infected       152\n",
    "nombre_sain          2408\n",
    "nombre_exposed         97\n",
    "nombre_recovered    17343\n",
    "Name: 82, dtype: int64"
   ]
  },
  {
   "cell_type": "markdown",
   "id": "8b1fa15d",
   "metadata": {},
   "source": [
    "nombre_infected       157\n",
    "nombre_sain          2469\n",
    "nombre_exposed         96\n",
    "nombre_recovered    17278\n",
    "Name: 83, dtype: int64"
   ]
  },
  {
   "cell_type": "markdown",
   "id": "c93eb6c4",
   "metadata": {},
   "source": [
    "nombre_infected       155\n",
    "nombre_sain          2526\n",
    "nombre_exposed         96\n",
    "nombre_recovered    17223\n",
    "Name: 84, dtype: int64"
   ]
  },
  {
   "cell_type": "markdown",
   "id": "28726ab6",
   "metadata": {},
   "source": [
    "nombre_infected       148\n",
    "nombre_sain          2575\n",
    "nombre_exposed        105\n",
    "nombre_recovered    17172\n",
    "Name: 85, dtype: int64"
   ]
  },
  {
   "cell_type": "markdown",
   "id": "a1dfc2ca",
   "metadata": {},
   "source": [
    "nombre_infected       149\n",
    "nombre_sain          2614\n",
    "nombre_exposed        109\n",
    "nombre_recovered    17128\n",
    "Name: 86, dtype: int64"
   ]
  },
  {
   "cell_type": "markdown",
   "id": "c22bdc52",
   "metadata": {},
   "source": [
    "nombre_infected       133\n",
    "nombre_sain          2674\n",
    "nombre_exposed        123\n",
    "nombre_recovered    17070\n",
    "Name: 87, dtype: int64"
   ]
  },
  {
   "cell_type": "markdown",
   "id": "c2abc60a",
   "metadata": {},
   "source": [
    "nombre_infected       146\n",
    "nombre_sain          2742\n",
    "nombre_exposed        119\n",
    "nombre_recovered    16993\n",
    "Name: 88, dtype: int64"
   ]
  },
  {
   "cell_type": "markdown",
   "id": "6c056f91",
   "metadata": {},
   "source": [
    "nombre_infected       153\n",
    "nombre_sain          2817\n",
    "nombre_exposed        106\n",
    "nombre_recovered    16924\n",
    "Name: 89, dtype: int64"
   ]
  },
  {
   "cell_type": "markdown",
   "id": "ca4aaa53",
   "metadata": {},
   "source": [
    "nombre_infected       145\n",
    "nombre_sain          2877\n",
    "nombre_exposed        103\n",
    "nombre_recovered    16875\n",
    "Name: 90, dtype: int64"
   ]
  },
  {
   "cell_type": "markdown",
   "id": "5a99ec88",
   "metadata": {},
   "source": [
    "nombre_infected       137\n",
    "nombre_sain          2939\n",
    "nombre_exposed        108\n",
    "nombre_recovered    16816\n",
    "Name: 91, dtype: int64"
   ]
  },
  {
   "cell_type": "markdown",
   "id": "776859b7",
   "metadata": {},
   "source": [
    "nombre_infected       128\n",
    "nombre_sain          2994\n",
    "nombre_exposed        117\n",
    "nombre_recovered    16761\n",
    "Name: 92, dtype: int64"
   ]
  },
  {
   "cell_type": "markdown",
   "id": "e3a98914",
   "metadata": {},
   "source": [
    "nombre_infected       130\n",
    "nombre_sain          3023\n",
    "nombre_exposed        114\n",
    "nombre_recovered    16733\n",
    "Name: 93, dtype: int64"
   ]
  },
  {
   "cell_type": "markdown",
   "id": "250b0a72",
   "metadata": {},
   "source": [
    "nombre_infected       149\n",
    "nombre_sain          3064\n",
    "nombre_exposed        114\n",
    "nombre_recovered    16673\n",
    "Name: 94, dtype: int64"
   ]
  },
  {
   "cell_type": "markdown",
   "id": "391a9a2f",
   "metadata": {},
   "source": [
    "nombre_infected       151\n",
    "nombre_sain          3085\n",
    "nombre_exposed        123\n",
    "nombre_recovered    16641\n",
    "Name: 95, dtype: int64"
   ]
  },
  {
   "cell_type": "markdown",
   "id": "46be580c",
   "metadata": {},
   "source": [
    "nombre_infected       151\n",
    "nombre_sain          3101\n",
    "nombre_exposed        119\n",
    "nombre_recovered    16629\n",
    "Name: 96, dtype: int64"
   ]
  },
  {
   "cell_type": "markdown",
   "id": "605b5d99",
   "metadata": {},
   "source": [
    "nombre_infected       151\n",
    "nombre_sain          3117\n",
    "nombre_exposed        127\n",
    "nombre_recovered    16605\n",
    "Name: 97, dtype: int64"
   ]
  },
  {
   "cell_type": "markdown",
   "id": "2ca90da7",
   "metadata": {},
   "source": [
    "nombre_infected       162\n",
    "nombre_sain          3118\n",
    "nombre_exposed        139\n",
    "nombre_recovered    16581\n",
    "Name: 98, dtype: int64"
   ]
  },
  {
   "cell_type": "markdown",
   "id": "efb838a1",
   "metadata": {},
   "source": [
    "nombre_infected       167\n",
    "nombre_sain          3145\n",
    "nombre_exposed        135\n",
    "nombre_recovered    16553\n",
    "Name: 99, dtype: int64"
   ]
  },
  {
   "cell_type": "markdown",
   "id": "ce792e55",
   "metadata": {},
   "source": [
    "nombre_infected       183\n",
    "nombre_sain          3159\n",
    "nombre_exposed        131\n",
    "nombre_recovered    16527\n",
    "Name: 100, dtype: int64"
   ]
  },
  {
   "cell_type": "markdown",
   "id": "e39a6f40",
   "metadata": {},
   "source": [
    "nombre_infected       179\n",
    "nombre_sain          3170\n",
    "nombre_exposed        139\n",
    "nombre_recovered    16512\n",
    "Name: 101, dtype: int64"
   ]
  },
  {
   "cell_type": "markdown",
   "id": "837d0b0c",
   "metadata": {},
   "source": [
    "nombre_infected       180\n",
    "nombre_sain          3174\n",
    "nombre_exposed        133\n",
    "nombre_recovered    16513\n",
    "Name: 102, dtype: int64"
   ]
  },
  {
   "cell_type": "markdown",
   "id": "c3464c5a",
   "metadata": {},
   "source": [
    "nombre_infected       187\n",
    "nombre_sain          3199\n",
    "nombre_exposed        134\n",
    "nombre_recovered    16480\n",
    "Name: 103, dtype: int64"
   ]
  },
  {
   "cell_type": "markdown",
   "id": "9675054e",
   "metadata": {},
   "source": [
    "nombre_infected       187\n",
    "nombre_sain          3197\n",
    "nombre_exposed        148\n",
    "nombre_recovered    16468\n",
    "Name: 104, dtype: int64"
   ]
  },
  {
   "cell_type": "markdown",
   "id": "ce647529",
   "metadata": {},
   "source": [
    "nombre_infected       205\n",
    "nombre_sain          3194\n",
    "nombre_exposed        152\n",
    "nombre_recovered    16449\n",
    "Name: 105, dtype: int64"
   ]
  },
  {
   "cell_type": "markdown",
   "id": "c210b30c",
   "metadata": {},
   "source": [
    "nombre_infected       208\n",
    "nombre_sain          3186\n",
    "nombre_exposed        165\n",
    "nombre_recovered    16441\n",
    "Name: 106, dtype: int64"
   ]
  },
  {
   "cell_type": "markdown",
   "id": "9dcfb636",
   "metadata": {},
   "source": [
    "nombre_infected       212\n",
    "nombre_sain          3186\n",
    "nombre_exposed        164\n",
    "nombre_recovered    16438\n",
    "Name: 107, dtype: int64"
   ]
  },
  {
   "cell_type": "markdown",
   "id": "0265a921",
   "metadata": {},
   "source": [
    "nombre_infected       225\n",
    "nombre_sain          3192\n",
    "nombre_exposed        158\n",
    "nombre_recovered    16425\n",
    "Name: 108, dtype: int64"
   ]
  },
  {
   "cell_type": "markdown",
   "id": "f74dacb4",
   "metadata": {},
   "source": [
    "nombre_infected       218\n",
    "nombre_sain          3198\n",
    "nombre_exposed        172\n",
    "nombre_recovered    16412\n",
    "Name: 109, dtype: int64"
   ]
  },
  {
   "cell_type": "markdown",
   "id": "cc3862be",
   "metadata": {},
   "source": [
    "nombre_infected       223\n",
    "nombre_sain          3197\n",
    "nombre_exposed        183\n",
    "nombre_recovered    16397\n",
    "Name: 110, dtype: int64"
   ]
  },
  {
   "cell_type": "markdown",
   "id": "c24c6019",
   "metadata": {},
   "source": [
    "nombre_infected       224\n",
    "nombre_sain          3191\n",
    "nombre_exposed        203\n",
    "nombre_recovered    16382\n",
    "Name: 111, dtype: int64"
   ]
  },
  {
   "cell_type": "markdown",
   "id": "3784151b",
   "metadata": {},
   "source": [
    "nombre_infected       246\n",
    "nombre_sain          3204\n",
    "nombre_exposed        177\n",
    "nombre_recovered    16373\n",
    "Name: 112, dtype: int64"
   ]
  },
  {
   "cell_type": "markdown",
   "id": "3d0ab44a",
   "metadata": {},
   "source": [
    "nombre_infected       257\n",
    "nombre_sain          3214\n",
    "nombre_exposed        176\n",
    "nombre_recovered    16353\n",
    "Name: 113, dtype: int64"
   ]
  },
  {
   "cell_type": "markdown",
   "id": "b8637f19",
   "metadata": {},
   "source": [
    "nombre_infected       255\n",
    "nombre_sain          3207\n",
    "nombre_exposed        188\n",
    "nombre_recovered    16350\n",
    "Name: 114, dtype: int64"
   ]
  },
  {
   "cell_type": "markdown",
   "id": "e6601029",
   "metadata": {},
   "source": [
    "nombre_infected       269\n",
    "nombre_sain          3200\n",
    "nombre_exposed        190\n",
    "nombre_recovered    16341\n",
    "Name: 115, dtype: int64"
   ]
  },
  {
   "cell_type": "markdown",
   "id": "29b49ca2",
   "metadata": {},
   "source": [
    "nombre_infected       254\n",
    "nombre_sain          3218\n",
    "nombre_exposed        208\n",
    "nombre_recovered    16320\n",
    "Name: 116, dtype: int64"
   ]
  },
  {
   "cell_type": "markdown",
   "id": "f2d6ac4f",
   "metadata": {},
   "source": [
    "nombre_infected       259\n",
    "nombre_sain          3243\n",
    "nombre_exposed        199\n",
    "nombre_recovered    16299\n",
    "Name: 117, dtype: int64"
   ]
  },
  {
   "cell_type": "markdown",
   "id": "71eb0e56",
   "metadata": {},
   "source": [
    "nombre_infected       271\n",
    "nombre_sain          3271\n",
    "nombre_exposed        192\n",
    "nombre_recovered    16266\n",
    "Name: 118, dtype: int64"
   ]
  },
  {
   "cell_type": "markdown",
   "id": "40d8b76a",
   "metadata": {},
   "source": [
    "nombre_infected       266\n",
    "nombre_sain          3277\n",
    "nombre_exposed        217\n",
    "nombre_recovered    16240\n",
    "Name: 119, dtype: int64"
   ]
  },
  {
   "cell_type": "markdown",
   "id": "8821f58a",
   "metadata": {},
   "source": [
    "nombre_infected       261\n",
    "nombre_sain          3284\n",
    "nombre_exposed        230\n",
    "nombre_recovered    16225\n",
    "Name: 120, dtype: int64"
   ]
  },
  {
   "cell_type": "markdown",
   "id": "392d701c",
   "metadata": {},
   "source": [
    "nombre_infected       267\n",
    "nombre_sain          3298\n",
    "nombre_exposed        234\n",
    "nombre_recovered    16201\n",
    "Name: 121, dtype: int64"
   ]
  },
  {
   "cell_type": "markdown",
   "id": "bb23621a",
   "metadata": {},
   "source": [
    "nombre_infected       278\n",
    "nombre_sain          3313\n",
    "nombre_exposed        249\n",
    "nombre_recovered    16160\n",
    "Name: 122, dtype: int64"
   ]
  },
  {
   "cell_type": "markdown",
   "id": "8703b16b",
   "metadata": {},
   "source": [
    "nombre_infected       297\n",
    "nombre_sain          3324\n",
    "nombre_exposed        257\n",
    "nombre_recovered    16122\n",
    "Name: 123, dtype: int64"
   ]
  },
  {
   "cell_type": "markdown",
   "id": "09261890",
   "metadata": {},
   "source": [
    "nombre_infected       319\n",
    "nombre_sain          3323\n",
    "nombre_exposed        264\n",
    "nombre_recovered    16094\n",
    "Name: 124, dtype: int64"
   ]
  },
  {
   "cell_type": "markdown",
   "id": "25e26f31",
   "metadata": {},
   "source": [
    "nombre_infected       343\n",
    "nombre_sain          3321\n",
    "nombre_exposed        280\n",
    "nombre_recovered    16056\n",
    "Name: 125, dtype: int64"
   ]
  },
  {
   "cell_type": "markdown",
   "id": "f8962c93",
   "metadata": {},
   "source": [
    "nombre_infected       358\n",
    "nombre_sain          3331\n",
    "nombre_exposed        282\n",
    "nombre_recovered    16029\n",
    "Name: 126, dtype: int64"
   ]
  },
  {
   "cell_type": "markdown",
   "id": "a335ea0a",
   "metadata": {},
   "source": [
    "nombre_infected       381\n",
    "nombre_sain          3342\n",
    "nombre_exposed        282\n",
    "nombre_recovered    15995\n",
    "Name: 127, dtype: int64"
   ]
  },
  {
   "cell_type": "markdown",
   "id": "72667a00",
   "metadata": {},
   "source": [
    "nombre_infected       399\n",
    "nombre_sain          3349\n",
    "nombre_exposed        297\n",
    "nombre_recovered    15955\n",
    "Name: 128, dtype: int64"
   ]
  },
  {
   "cell_type": "markdown",
   "id": "85ca6a1c",
   "metadata": {},
   "source": [
    "nombre_infected       420\n",
    "nombre_sain          3351\n",
    "nombre_exposed        316\n",
    "nombre_recovered    15913\n",
    "Name: 129, dtype: int64"
   ]
  },
  {
   "cell_type": "markdown",
   "id": "06f87229",
   "metadata": {},
   "source": [
    "nombre_infected       434\n",
    "nombre_sain          3339\n",
    "nombre_exposed        333\n",
    "nombre_recovered    15894\n",
    "Name: 130, dtype: int64"
   ]
  },
  {
   "cell_type": "markdown",
   "id": "c0185979",
   "metadata": {},
   "source": [
    "nombre_infected       465\n",
    "nombre_sain          3338\n",
    "nombre_exposed        346\n",
    "nombre_recovered    15851\n",
    "Name: 131, dtype: int64"
   ]
  },
  {
   "cell_type": "markdown",
   "id": "a4cad2e5",
   "metadata": {},
   "source": [
    "nombre_infected       473\n",
    "nombre_sain          3316\n",
    "nombre_exposed        382\n",
    "nombre_recovered    15829\n",
    "Name: 132, dtype: int64"
   ]
  },
  {
   "cell_type": "markdown",
   "id": "435ec55a",
   "metadata": {},
   "source": [
    "nombre_infected       482\n",
    "nombre_sain          3327\n",
    "nombre_exposed        404\n",
    "nombre_recovered    15787\n",
    "Name: 133, dtype: int64"
   ]
  },
  {
   "cell_type": "markdown",
   "id": "a96d2d59",
   "metadata": {},
   "source": [
    "nombre_infected       486\n",
    "nombre_sain          3332\n",
    "nombre_exposed        411\n",
    "nombre_recovered    15771\n",
    "Name: 134, dtype: int64"
   ]
  },
  {
   "cell_type": "markdown",
   "id": "bdd99581",
   "metadata": {},
   "source": [
    "nombre_infected       494\n",
    "nombre_sain          3321\n",
    "nombre_exposed        423\n",
    "nombre_recovered    15762\n",
    "Name: 135, dtype: int64"
   ]
  },
  {
   "cell_type": "markdown",
   "id": "73e696a8",
   "metadata": {},
   "source": [
    "nombre_infected       520\n",
    "nombre_sain          3295\n",
    "nombre_exposed        417\n",
    "nombre_recovered    15768\n",
    "Name: 136, dtype: int64"
   ]
  },
  {
   "cell_type": "markdown",
   "id": "0a96bb84",
   "metadata": {},
   "source": [
    "nombre_infected       547\n",
    "nombre_sain          3259\n",
    "nombre_exposed        443\n",
    "nombre_recovered    15751\n",
    "Name: 137, dtype: int64"
   ]
  },
  {
   "cell_type": "markdown",
   "id": "131c1c11",
   "metadata": {},
   "source": [
    "nombre_infected       575\n",
    "nombre_sain          3213\n",
    "nombre_exposed        454\n",
    "nombre_recovered    15758\n",
    "Name: 138, dtype: int64"
   ]
  },
  {
   "cell_type": "markdown",
   "id": "e4fcfcaa",
   "metadata": {},
   "source": [
    "nombre_infected       586\n",
    "nombre_sain          3139\n",
    "nombre_exposed        483\n",
    "nombre_recovered    15792\n",
    "Name: 139, dtype: int64"
   ]
  },
  {
   "cell_type": "markdown",
   "id": "f14a0372",
   "metadata": {},
   "source": [
    "nombre_infected       606\n",
    "nombre_sain          3064\n",
    "nombre_exposed        499\n",
    "nombre_recovered    15831\n",
    "Name: 140, dtype: int64"
   ]
  },
  {
   "cell_type": "markdown",
   "id": "7bbddbfa",
   "metadata": {},
   "source": [
    "nombre_infected       629\n",
    "nombre_sain          3028\n",
    "nombre_exposed        498\n",
    "nombre_recovered    15845\n",
    "Name: 141, dtype: int64"
   ]
  },
  {
   "cell_type": "markdown",
   "id": "e2f633f3",
   "metadata": {},
   "source": [
    "nombre_infected       648\n",
    "nombre_sain          2986\n",
    "nombre_exposed        494\n",
    "nombre_recovered    15872\n",
    "Name: 142, dtype: int64"
   ]
  },
  {
   "cell_type": "markdown",
   "id": "1f58327a",
   "metadata": {},
   "source": [
    "nombre_infected       671\n",
    "nombre_sain          2950\n",
    "nombre_exposed        486\n",
    "nombre_recovered    15893\n",
    "Name: 143, dtype: int64"
   ]
  },
  {
   "cell_type": "markdown",
   "id": "0163a359",
   "metadata": {},
   "source": [
    "nombre_infected       675\n",
    "nombre_sain          2886\n",
    "nombre_exposed        504\n",
    "nombre_recovered    15935\n",
    "Name: 144, dtype: int64"
   ]
  },
  {
   "cell_type": "markdown",
   "id": "21955c22",
   "metadata": {},
   "source": [
    "nombre_infected       695\n",
    "nombre_sain          2838\n",
    "nombre_exposed        507\n",
    "nombre_recovered    15960\n",
    "Name: 145, dtype: int64"
   ]
  },
  {
   "cell_type": "markdown",
   "id": "d6d9364f",
   "metadata": {},
   "source": [
    "nombre_infected       698\n",
    "nombre_sain          2782\n",
    "nombre_exposed        514\n",
    "nombre_recovered    16006\n",
    "Name: 146, dtype: int64"
   ]
  },
  {
   "cell_type": "markdown",
   "id": "0178d65b",
   "metadata": {},
   "source": [
    "nombre_infected       720\n",
    "nombre_sain          2768\n",
    "nombre_exposed        492\n",
    "nombre_recovered    16020\n",
    "Name: 147, dtype: int64"
   ]
  },
  {
   "cell_type": "markdown",
   "id": "d3139186",
   "metadata": {},
   "source": [
    "nombre_infected       724\n",
    "nombre_sain          2722\n",
    "nombre_exposed        485\n",
    "nombre_recovered    16069\n",
    "Name: 148, dtype: int64"
   ]
  },
  {
   "cell_type": "markdown",
   "id": "70ec2f37",
   "metadata": {},
   "source": [
    "nombre_infected       724\n",
    "nombre_sain          2661\n",
    "nombre_exposed        500\n",
    "nombre_recovered    16115\n",
    "Name: 149, dtype: int64"
   ]
  },
  {
   "cell_type": "markdown",
   "id": "956706fd",
   "metadata": {},
   "source": [
    "nombre_infected       735\n",
    "nombre_sain          2609\n",
    "nombre_exposed        500\n",
    "nombre_recovered    16156\n",
    "Name: 150, dtype: int64"
   ]
  },
  {
   "cell_type": "markdown",
   "id": "54bcbbc7",
   "metadata": {},
   "source": [
    "nombre_infected       754\n",
    "nombre_sain          2547\n",
    "nombre_exposed        501\n",
    "nombre_recovered    16198\n",
    "Name: 151, dtype: int64"
   ]
  },
  {
   "cell_type": "markdown",
   "id": "9751d57c",
   "metadata": {},
   "source": [
    "nombre_infected       766\n",
    "nombre_sain          2478\n",
    "nombre_exposed        482\n",
    "nombre_recovered    16274\n",
    "Name: 152, dtype: int64"
   ]
  },
  {
   "cell_type": "markdown",
   "id": "ecbc3d4e",
   "metadata": {},
   "source": [
    "nombre_infected       773\n",
    "nombre_sain          2433\n",
    "nombre_exposed        474\n",
    "nombre_recovered    16320\n",
    "Name: 153, dtype: int64"
   ]
  },
  {
   "cell_type": "markdown",
   "id": "8bde5ee2",
   "metadata": {},
   "source": [
    "nombre_infected       745\n",
    "nombre_sain          2383\n",
    "nombre_exposed        485\n",
    "nombre_recovered    16387\n",
    "Name: 154, dtype: int64"
   ]
  },
  {
   "cell_type": "markdown",
   "id": "576422f5",
   "metadata": {},
   "source": [
    "nombre_infected       755\n",
    "nombre_sain          2329\n",
    "nombre_exposed        463\n",
    "nombre_recovered    16453\n",
    "Name: 155, dtype: int64"
   ]
  },
  {
   "cell_type": "markdown",
   "id": "21166bc3",
   "metadata": {},
   "source": [
    "nombre_infected       765\n",
    "nombre_sain          2282\n",
    "nombre_exposed        445\n",
    "nombre_recovered    16508\n",
    "Name: 156, dtype: int64"
   ]
  },
  {
   "cell_type": "markdown",
   "id": "00744f78",
   "metadata": {},
   "source": [
    "nombre_infected       734\n",
    "nombre_sain          2253\n",
    "nombre_exposed        450\n",
    "nombre_recovered    16563\n",
    "Name: 157, dtype: int64"
   ]
  },
  {
   "cell_type": "markdown",
   "id": "aeceedc5",
   "metadata": {},
   "source": [
    "nombre_infected       725\n",
    "nombre_sain          2244\n",
    "nombre_exposed        438\n",
    "nombre_recovered    16593\n",
    "Name: 158, dtype: int64"
   ]
  },
  {
   "cell_type": "markdown",
   "id": "bdcc5a96",
   "metadata": {},
   "source": [
    "nombre_infected       704\n",
    "nombre_sain          2221\n",
    "nombre_exposed        448\n",
    "nombre_recovered    16627\n",
    "Name: 159, dtype: int64"
   ]
  },
  {
   "cell_type": "markdown",
   "id": "cbac39d0",
   "metadata": {},
   "source": [
    "nombre_infected       686\n",
    "nombre_sain          2213\n",
    "nombre_exposed        439\n",
    "nombre_recovered    16662\n",
    "Name: 160, dtype: int64"
   ]
  },
  {
   "cell_type": "markdown",
   "id": "80f0ca97",
   "metadata": {},
   "source": [
    "nombre_infected       676\n",
    "nombre_sain          2231\n",
    "nombre_exposed        406\n",
    "nombre_recovered    16687\n",
    "Name: 161, dtype: int64"
   ]
  },
  {
   "cell_type": "markdown",
   "id": "151bce83",
   "metadata": {},
   "source": [
    "nombre_infected       674\n",
    "nombre_sain          2270\n",
    "nombre_exposed        367\n",
    "nombre_recovered    16689\n",
    "Name: 162, dtype: int64"
   ]
  },
  {
   "cell_type": "markdown",
   "id": "9d92f4ff",
   "metadata": {},
   "source": [
    "nombre_infected       669\n",
    "nombre_sain          2269\n",
    "nombre_exposed        358\n",
    "nombre_recovered    16704\n",
    "Name: 163, dtype: int64"
   ]
  },
  {
   "cell_type": "markdown",
   "id": "5b611ee8",
   "metadata": {},
   "source": [
    "nombre_infected       642\n",
    "nombre_sain          2288\n",
    "nombre_exposed        345\n",
    "nombre_recovered    16725\n",
    "Name: 164, dtype: int64"
   ]
  },
  {
   "cell_type": "markdown",
   "id": "2b65d0e3",
   "metadata": {},
   "source": [
    "nombre_infected       635\n",
    "nombre_sain          2332\n",
    "nombre_exposed        325\n",
    "nombre_recovered    16708\n",
    "Name: 165, dtype: int64"
   ]
  },
  {
   "cell_type": "markdown",
   "id": "6517ed10",
   "metadata": {},
   "source": [
    "nombre_infected       629\n",
    "nombre_sain          2360\n",
    "nombre_exposed        333\n",
    "nombre_recovered    16678\n",
    "Name: 166, dtype: int64"
   ]
  },
  {
   "cell_type": "markdown",
   "id": "506be1b6",
   "metadata": {},
   "source": [
    "nombre_infected       605\n",
    "nombre_sain          2385\n",
    "nombre_exposed        350\n",
    "nombre_recovered    16660\n",
    "Name: 167, dtype: int64"
   ]
  },
  {
   "cell_type": "markdown",
   "id": "81c90126",
   "metadata": {},
   "source": [
    "nombre_infected       599\n",
    "nombre_sain          2410\n",
    "nombre_exposed        337\n",
    "nombre_recovered    16654\n",
    "Name: 168, dtype: int64"
   ]
  },
  {
   "cell_type": "markdown",
   "id": "e1b83fdf",
   "metadata": {},
   "source": [
    "nombre_infected       599\n",
    "nombre_sain          2443\n",
    "nombre_exposed        342\n",
    "nombre_recovered    16616\n",
    "Name: 169, dtype: int64"
   ]
  },
  {
   "cell_type": "markdown",
   "id": "314f8bd1",
   "metadata": {},
   "source": [
    "nombre_infected       593\n",
    "nombre_sain          2501\n",
    "nombre_exposed        320\n",
    "nombre_recovered    16586\n",
    "Name: 170, dtype: int64"
   ]
  },
  {
   "cell_type": "markdown",
   "id": "3af04c74",
   "metadata": {},
   "source": [
    "nombre_infected       587\n",
    "nombre_sain          2521\n",
    "nombre_exposed        339\n",
    "nombre_recovered    16553\n",
    "Name: 171, dtype: int64"
   ]
  },
  {
   "cell_type": "markdown",
   "id": "c257ff6e",
   "metadata": {},
   "source": [
    "nombre_infected       567\n",
    "nombre_sain          2546\n",
    "nombre_exposed        352\n",
    "nombre_recovered    16535\n",
    "Name: 172, dtype: int64"
   ]
  },
  {
   "cell_type": "markdown",
   "id": "447a6334",
   "metadata": {},
   "source": [
    "nombre_infected       576\n",
    "nombre_sain          2578\n",
    "nombre_exposed        350\n",
    "nombre_recovered    16496\n",
    "Name: 173, dtype: int64"
   ]
  },
  {
   "cell_type": "markdown",
   "id": "eecba7c1",
   "metadata": {},
   "source": [
    "nombre_infected       592\n",
    "nombre_sain          2611\n",
    "nombre_exposed        350\n",
    "nombre_recovered    16447\n",
    "Name: 174, dtype: int64"
   ]
  },
  {
   "cell_type": "markdown",
   "id": "52baf5a9",
   "metadata": {},
   "source": [
    "nombre_infected       576\n",
    "nombre_sain          2619\n",
    "nombre_exposed        379\n",
    "nombre_recovered    16426\n",
    "Name: 175, dtype: int64"
   ]
  },
  {
   "cell_type": "markdown",
   "id": "b3c1eb4b",
   "metadata": {},
   "source": [
    "nombre_infected       567\n",
    "nombre_sain          2664\n",
    "nombre_exposed        390\n",
    "nombre_recovered    16379\n",
    "Name: 176, dtype: int64"
   ]
  },
  {
   "cell_type": "markdown",
   "id": "a91f911e",
   "metadata": {},
   "source": [
    "nombre_infected       582\n",
    "nombre_sain          2705\n",
    "nombre_exposed        374\n",
    "nombre_recovered    16339\n",
    "Name: 177, dtype: int64"
   ]
  },
  {
   "cell_type": "markdown",
   "id": "a4d980a0",
   "metadata": {},
   "source": [
    "nombre_infected       583\n",
    "nombre_sain          2725\n",
    "nombre_exposed        390\n",
    "nombre_recovered    16302\n",
    "Name: 178, dtype: int64"
   ]
  },
  {
   "cell_type": "markdown",
   "id": "bd5945e0",
   "metadata": {},
   "source": [
    "nombre_infected       581\n",
    "nombre_sain          2766\n",
    "nombre_exposed        392\n",
    "nombre_recovered    16261\n",
    "Name: 179, dtype: int64"
   ]
  },
  {
   "cell_type": "markdown",
   "id": "1e821895",
   "metadata": {},
   "source": [
    "nombre_infected       583\n",
    "nombre_sain          2801\n",
    "nombre_exposed        403\n",
    "nombre_recovered    16213\n",
    "Name: 180, dtype: int64"
   ]
  },
  {
   "cell_type": "markdown",
   "id": "f625eee1",
   "metadata": {},
   "source": [
    "nombre_infected       584\n",
    "nombre_sain          2835\n",
    "nombre_exposed        409\n",
    "nombre_recovered    16172\n",
    "Name: 181, dtype: int64"
   ]
  },
  {
   "cell_type": "markdown",
   "id": "e2d539dd",
   "metadata": {},
   "source": [
    "nombre_infected       584\n",
    "nombre_sain          2852\n",
    "nombre_exposed        411\n",
    "nombre_recovered    16153\n",
    "Name: 182, dtype: int64"
   ]
  },
  {
   "cell_type": "markdown",
   "id": "7dc8682c",
   "metadata": {},
   "source": [
    "nombre_infected       604\n",
    "nombre_sain          2857\n",
    "nombre_exposed        428\n",
    "nombre_recovered    16111\n",
    "Name: 183, dtype: int64"
   ]
  },
  {
   "cell_type": "markdown",
   "id": "4b7cdbdb",
   "metadata": {},
   "source": [
    "nombre_infected       616\n",
    "nombre_sain          2877\n",
    "nombre_exposed        430\n",
    "nombre_recovered    16077\n",
    "Name: 184, dtype: int64"
   ]
  },
  {
   "cell_type": "markdown",
   "id": "db5231f0",
   "metadata": {},
   "source": [
    "nombre_infected       638\n",
    "nombre_sain          2882\n",
    "nombre_exposed        435\n",
    "nombre_recovered    16045\n",
    "Name: 185, dtype: int64"
   ]
  },
  {
   "cell_type": "markdown",
   "id": "8cc34b73",
   "metadata": {},
   "source": [
    "nombre_infected       627\n",
    "nombre_sain          2889\n",
    "nombre_exposed        458\n",
    "nombre_recovered    16026\n",
    "Name: 186, dtype: int64"
   ]
  },
  {
   "cell_type": "markdown",
   "id": "3e7ae79c",
   "metadata": {},
   "source": [
    "nombre_infected       614\n",
    "nombre_sain          2906\n",
    "nombre_exposed        448\n",
    "nombre_recovered    16032\n",
    "Name: 187, dtype: int64"
   ]
  },
  {
   "cell_type": "markdown",
   "id": "50b23ce8",
   "metadata": {},
   "source": [
    "nombre_infected       620\n",
    "nombre_sain          2898\n",
    "nombre_exposed        455\n",
    "nombre_recovered    16027\n",
    "Name: 188, dtype: int64"
   ]
  },
  {
   "cell_type": "markdown",
   "id": "8741a60e",
   "metadata": {},
   "source": [
    "nombre_infected       647\n",
    "nombre_sain          2898\n",
    "nombre_exposed        460\n",
    "nombre_recovered    15995\n",
    "Name: 189, dtype: int64"
   ]
  },
  {
   "cell_type": "markdown",
   "id": "fa9435c2",
   "metadata": {},
   "source": [
    "nombre_infected       649\n",
    "nombre_sain          2909\n",
    "nombre_exposed        478\n",
    "nombre_recovered    15964\n",
    "Name: 190, dtype: int64"
   ]
  },
  {
   "cell_type": "markdown",
   "id": "81779bf8",
   "metadata": {},
   "source": [
    "nombre_infected       659\n",
    "nombre_sain          2914\n",
    "nombre_exposed        471\n",
    "nombre_recovered    15956\n",
    "Name: 191, dtype: int64"
   ]
  },
  {
   "cell_type": "markdown",
   "id": "b0641c3f",
   "metadata": {},
   "source": [
    "nombre_infected       643\n",
    "nombre_sain          2875\n",
    "nombre_exposed        520\n",
    "nombre_recovered    15962\n",
    "Name: 192, dtype: int64"
   ]
  },
  {
   "cell_type": "markdown",
   "id": "f831eaa6",
   "metadata": {},
   "source": [
    "nombre_infected       649\n",
    "nombre_sain          2876\n",
    "nombre_exposed        534\n",
    "nombre_recovered    15941\n",
    "Name: 193, dtype: int64"
   ]
  },
  {
   "cell_type": "markdown",
   "id": "57877477",
   "metadata": {},
   "source": [
    "nombre_infected       656\n",
    "nombre_sain          2868\n",
    "nombre_exposed        536\n",
    "nombre_recovered    15940\n",
    "Name: 194, dtype: int64"
   ]
  },
  {
   "cell_type": "markdown",
   "id": "bd84692d",
   "metadata": {},
   "source": [
    "nombre_infected       662\n",
    "nombre_sain          2858\n",
    "nombre_exposed        541\n",
    "nombre_recovered    15939\n",
    "Name: 195, dtype: int64"
   ]
  },
  {
   "cell_type": "markdown",
   "id": "c0300903",
   "metadata": {},
   "source": [
    "nombre_infected       663\n",
    "nombre_sain          2854\n",
    "nombre_exposed        552\n",
    "nombre_recovered    15931\n",
    "Name: 196, dtype: int64"
   ]
  },
  {
   "cell_type": "markdown",
   "id": "9f40225f",
   "metadata": {},
   "source": [
    "nombre_infected       702\n",
    "nombre_sain          2819\n",
    "nombre_exposed        557\n",
    "nombre_recovered    15922\n",
    "Name: 197, dtype: int64"
   ]
  },
  {
   "cell_type": "markdown",
   "id": "1bf9d3be",
   "metadata": {},
   "source": [
    "nombre_infected       716\n",
    "nombre_sain          2805\n",
    "nombre_exposed        552\n",
    "nombre_recovered    15927\n",
    "Name: 198, dtype: int64"
   ]
  },
  {
   "cell_type": "markdown",
   "id": "924820c8",
   "metadata": {},
   "source": [
    "nombre_infected       736\n",
    "nombre_sain          2771\n",
    "nombre_exposed        553\n",
    "nombre_recovered    15940\n",
    "Name: 199, dtype: int64"
   ]
  },
  {
   "cell_type": "markdown",
   "id": "48c3e330",
   "metadata": {},
   "source": [
    "nombre_infected       751\n",
    "nombre_sain          2738\n",
    "nombre_exposed        561\n",
    "nombre_recovered    15950\n",
    "Name: 200, dtype: int64"
   ]
  },
  {
   "cell_type": "markdown",
   "id": "dfc83ba4",
   "metadata": {},
   "source": [
    "nombre_infected       728\n",
    "nombre_sain          2704\n",
    "nombre_exposed        578\n",
    "nombre_recovered    15990\n",
    "Name: 201, dtype: int64"
   ]
  },
  {
   "cell_type": "markdown",
   "id": "907e6b89",
   "metadata": {},
   "source": [
    "nombre_infected       741\n",
    "nombre_sain          2679\n",
    "nombre_exposed        570\n",
    "nombre_recovered    16010\n",
    "Name: 202, dtype: int64"
   ]
  },
  {
   "cell_type": "markdown",
   "id": "7365f105",
   "metadata": {},
   "source": [
    "nombre_infected       762\n",
    "nombre_sain          2647\n",
    "nombre_exposed        554\n",
    "nombre_recovered    16037\n",
    "Name: 203, dtype: int64"
   ]
  },
  {
   "cell_type": "markdown",
   "id": "2fd09028",
   "metadata": {},
   "source": [
    "nombre_infected       778\n",
    "nombre_sain          2599\n",
    "nombre_exposed        550\n",
    "nombre_recovered    16073\n",
    "Name: 204, dtype: int64"
   ]
  },
  {
   "cell_type": "markdown",
   "id": "381ed8e2",
   "metadata": {},
   "source": [
    "nombre_infected       812\n",
    "nombre_sain          2579\n",
    "nombre_exposed        524\n",
    "nombre_recovered    16085\n",
    "Name: 205, dtype: int64"
   ]
  },
  {
   "cell_type": "markdown",
   "id": "b8bc7154",
   "metadata": {},
   "source": [
    "nombre_infected       798\n",
    "nombre_sain          2571\n",
    "nombre_exposed        520\n",
    "nombre_recovered    16111\n",
    "Name: 206, dtype: int64"
   ]
  },
  {
   "cell_type": "markdown",
   "id": "fba9743d",
   "metadata": {},
   "source": [
    "nombre_infected       797\n",
    "nombre_sain          2546\n",
    "nombre_exposed        523\n",
    "nombre_recovered    16134\n",
    "Name: 207, dtype: int64"
   ]
  },
  {
   "cell_type": "markdown",
   "id": "1fc54ae5",
   "metadata": {},
   "source": [
    "nombre_infected       790\n",
    "nombre_sain          2513\n",
    "nombre_exposed        516\n",
    "nombre_recovered    16181\n",
    "Name: 208, dtype: int64"
   ]
  },
  {
   "cell_type": "markdown",
   "id": "5db2ddd1",
   "metadata": {},
   "source": [
    "nombre_infected       806\n",
    "nombre_sain          2484\n",
    "nombre_exposed        497\n",
    "nombre_recovered    16213\n",
    "Name: 209, dtype: int64"
   ]
  },
  {
   "cell_type": "markdown",
   "id": "ba9c57ba",
   "metadata": {},
   "source": [
    "nombre_infected       812\n",
    "nombre_sain          2452\n",
    "nombre_exposed        517\n",
    "nombre_recovered    16219\n",
    "Name: 210, dtype: int64"
   ]
  },
  {
   "cell_type": "markdown",
   "id": "1c88c1c7",
   "metadata": {},
   "source": [
    "nombre_infected       824\n",
    "nombre_sain          2423\n",
    "nombre_exposed        521\n",
    "nombre_recovered    16232\n",
    "Name: 211, dtype: int64"
   ]
  },
  {
   "cell_type": "markdown",
   "id": "23307973",
   "metadata": {},
   "source": [
    "nombre_infected       792\n",
    "nombre_sain          2397\n",
    "nombre_exposed        528\n",
    "nombre_recovered    16283\n",
    "Name: 212, dtype: int64"
   ]
  },
  {
   "cell_type": "markdown",
   "id": "ca6ee08f",
   "metadata": {},
   "source": [
    "nombre_infected       772\n",
    "nombre_sain          2382\n",
    "nombre_exposed        531\n",
    "nombre_recovered    16315\n",
    "Name: 213, dtype: int64"
   ]
  },
  {
   "cell_type": "markdown",
   "id": "a856a7e1",
   "metadata": {},
   "source": [
    "nombre_infected       767\n",
    "nombre_sain          2357\n",
    "nombre_exposed        530\n",
    "nombre_recovered    16346\n",
    "Name: 214, dtype: int64"
   ]
  },
  {
   "cell_type": "markdown",
   "id": "1b18121d",
   "metadata": {},
   "source": [
    "nombre_infected       751\n",
    "nombre_sain          2358\n",
    "nombre_exposed        515\n",
    "nombre_recovered    16376\n",
    "Name: 215, dtype: int64"
   ]
  },
  {
   "cell_type": "markdown",
   "id": "0500f30e",
   "metadata": {},
   "source": [
    "nombre_infected       785\n",
    "nombre_sain          2362\n",
    "nombre_exposed        480\n",
    "nombre_recovered    16373\n",
    "Name: 216, dtype: int64"
   ]
  },
  {
   "cell_type": "markdown",
   "id": "a8ee6603",
   "metadata": {},
   "source": [
    "nombre_infected       778\n",
    "nombre_sain          2348\n",
    "nombre_exposed        489\n",
    "nombre_recovered    16385\n",
    "Name: 217, dtype: int64"
   ]
  },
  {
   "cell_type": "markdown",
   "id": "4c8edfa3",
   "metadata": {},
   "source": [
    "nombre_infected       771\n",
    "nombre_sain          2338\n",
    "nombre_exposed        506\n",
    "nombre_recovered    16385\n",
    "Name: 218, dtype: int64"
   ]
  },
  {
   "cell_type": "markdown",
   "id": "99bfd811",
   "metadata": {},
   "source": [
    "nombre_infected       759\n",
    "nombre_sain          2349\n",
    "nombre_exposed        501\n",
    "nombre_recovered    16391\n",
    "Name: 219, dtype: int64"
   ]
  },
  {
   "cell_type": "markdown",
   "id": "4b90175c",
   "metadata": {},
   "source": [
    "nombre_infected       797\n",
    "nombre_sain          2335\n",
    "nombre_exposed        470\n",
    "nombre_recovered    16398\n",
    "Name: 220, dtype: int64"
   ]
  },
  {
   "cell_type": "markdown",
   "id": "b25ae747",
   "metadata": {},
   "source": [
    "nombre_infected       803\n",
    "nombre_sain          2323\n",
    "nombre_exposed        477\n",
    "nombre_recovered    16397\n",
    "Name: 221, dtype: int64"
   ]
  },
  {
   "cell_type": "markdown",
   "id": "9d770a4d",
   "metadata": {},
   "source": [
    "nombre_infected       778\n",
    "nombre_sain          2333\n",
    "nombre_exposed        479\n",
    "nombre_recovered    16410\n",
    "Name: 222, dtype: int64"
   ]
  },
  {
   "cell_type": "markdown",
   "id": "0a0091cb",
   "metadata": {},
   "source": [
    "nombre_infected       776\n",
    "nombre_sain          2327\n",
    "nombre_exposed        482\n",
    "nombre_recovered    16415\n",
    "Name: 223, dtype: int64"
   ]
  },
  {
   "cell_type": "markdown",
   "id": "3679469d",
   "metadata": {},
   "source": [
    "nombre_infected       755\n",
    "nombre_sain          2321\n",
    "nombre_exposed        500\n",
    "nombre_recovered    16424\n",
    "Name: 224, dtype: int64"
   ]
  },
  {
   "cell_type": "markdown",
   "id": "2fc5c0f3",
   "metadata": {},
   "source": [
    "nombre_infected       752\n",
    "nombre_sain          2311\n",
    "nombre_exposed        510\n",
    "nombre_recovered    16427\n",
    "Name: 225, dtype: int64"
   ]
  },
  {
   "cell_type": "markdown",
   "id": "7a1d7300",
   "metadata": {},
   "source": [
    "nombre_infected       775\n",
    "nombre_sain          2301\n",
    "nombre_exposed        506\n",
    "nombre_recovered    16418\n",
    "Name: 226, dtype: int64"
   ]
  },
  {
   "cell_type": "markdown",
   "id": "d0555559",
   "metadata": {},
   "source": [
    "nombre_infected       798\n",
    "nombre_sain          2335\n",
    "nombre_exposed        470\n",
    "nombre_recovered    16397\n",
    "Name: 227, dtype: int64"
   ]
  },
  {
   "cell_type": "markdown",
   "id": "f5898b53",
   "metadata": {},
   "source": [
    "nombre_infected       801\n",
    "nombre_sain          2335\n",
    "nombre_exposed        465\n",
    "nombre_recovered    16399\n",
    "Name: 228, dtype: int64"
   ]
  },
  {
   "cell_type": "markdown",
   "id": "8e219cbc",
   "metadata": {},
   "source": [
    "nombre_infected       800\n",
    "nombre_sain          2325\n",
    "nombre_exposed        463\n",
    "nombre_recovered    16412\n",
    "Name: 229, dtype: int64"
   ]
  },
  {
   "cell_type": "markdown",
   "id": "f2556bfd",
   "metadata": {},
   "source": [
    "nombre_infected       797\n",
    "nombre_sain          2313\n",
    "nombre_exposed        475\n",
    "nombre_recovered    16415\n",
    "Name: 230, dtype: int64"
   ]
  },
  {
   "cell_type": "markdown",
   "id": "8f1d6220",
   "metadata": {},
   "source": [
    "nombre_infected       804\n",
    "nombre_sain          2325\n",
    "nombre_exposed        471\n",
    "nombre_recovered    16400\n",
    "Name: 231, dtype: int64"
   ]
  },
  {
   "cell_type": "markdown",
   "id": "647ce119",
   "metadata": {},
   "source": [
    "nombre_infected       787\n",
    "nombre_sain          2310\n",
    "nombre_exposed        473\n",
    "nombre_recovered    16430\n",
    "Name: 232, dtype: int64"
   ]
  },
  {
   "cell_type": "markdown",
   "id": "ee04683d",
   "metadata": {},
   "source": [
    "nombre_infected       791\n",
    "nombre_sain          2302\n",
    "nombre_exposed        453\n",
    "nombre_recovered    16454\n",
    "Name: 233, dtype: int64"
   ]
  },
  {
   "cell_type": "markdown",
   "id": "bee1105b",
   "metadata": {},
   "source": [
    "nombre_infected       777\n",
    "nombre_sain          2310\n",
    "nombre_exposed        452\n",
    "nombre_recovered    16461\n",
    "Name: 234, dtype: int64"
   ]
  },
  {
   "cell_type": "markdown",
   "id": "9bd934f0",
   "metadata": {},
   "source": [
    "nombre_infected       758\n",
    "nombre_sain          2310\n",
    "nombre_exposed        455\n",
    "nombre_recovered    16477\n",
    "Name: 235, dtype: int64"
   ]
  },
  {
   "cell_type": "markdown",
   "id": "66a6a423",
   "metadata": {},
   "source": [
    "nombre_infected       755\n",
    "nombre_sain          2299\n",
    "nombre_exposed        477\n",
    "nombre_recovered    16469\n",
    "Name: 236, dtype: int64"
   ]
  },
  {
   "cell_type": "markdown",
   "id": "8dc93d9f",
   "metadata": {},
   "source": [
    "nombre_infected       754\n",
    "nombre_sain          2318\n",
    "nombre_exposed        490\n",
    "nombre_recovered    16438\n",
    "Name: 237, dtype: int64"
   ]
  },
  {
   "cell_type": "markdown",
   "id": "fb4c2118",
   "metadata": {},
   "source": [
    "nombre_infected       753\n",
    "nombre_sain          2333\n",
    "nombre_exposed        493\n",
    "nombre_recovered    16421\n",
    "Name: 238, dtype: int64"
   ]
  },
  {
   "cell_type": "markdown",
   "id": "593dea9a",
   "metadata": {},
   "source": [
    "nombre_infected       759\n",
    "nombre_sain          2328\n",
    "nombre_exposed        492\n",
    "nombre_recovered    16421\n",
    "Name: 239, dtype: int64"
   ]
  },
  {
   "cell_type": "markdown",
   "id": "f796d0a5",
   "metadata": {},
   "source": [
    "nombre_infected       774\n",
    "nombre_sain          2340\n",
    "nombre_exposed        478\n",
    "nombre_recovered    16408\n",
    "Name: 240, dtype: int64"
   ]
  },
  {
   "cell_type": "markdown",
   "id": "cf66833e",
   "metadata": {},
   "source": [
    "nombre_infected       770\n",
    "nombre_sain          2358\n",
    "nombre_exposed        475\n",
    "nombre_recovered    16397\n",
    "Name: 241, dtype: int64"
   ]
  },
  {
   "cell_type": "markdown",
   "id": "15e423ae",
   "metadata": {},
   "source": [
    "nombre_infected       805\n",
    "nombre_sain          2380\n",
    "nombre_exposed        466\n",
    "nombre_recovered    16349\n",
    "Name: 242, dtype: int64"
   ]
  },
  {
   "cell_type": "markdown",
   "id": "5f157617",
   "metadata": {},
   "source": [
    "nombre_infected       804\n",
    "nombre_sain          2380\n",
    "nombre_exposed        487\n",
    "nombre_recovered    16329\n",
    "Name: 243, dtype: int64"
   ]
  },
  {
   "cell_type": "markdown",
   "id": "753434b4",
   "metadata": {},
   "source": [
    "nombre_infected       788\n",
    "nombre_sain          2399\n",
    "nombre_exposed        510\n",
    "nombre_recovered    16303\n",
    "Name: 244, dtype: int64"
   ]
  },
  {
   "cell_type": "markdown",
   "id": "5d5d687e",
   "metadata": {},
   "source": [
    "nombre_infected       798\n",
    "nombre_sain          2436\n",
    "nombre_exposed        491\n",
    "nombre_recovered    16275\n",
    "Name: 245, dtype: int64"
   ]
  },
  {
   "cell_type": "markdown",
   "id": "538b1c6f",
   "metadata": {},
   "source": [
    "nombre_infected       809\n",
    "nombre_sain          2474\n",
    "nombre_exposed        495\n",
    "nombre_recovered    16222\n",
    "Name: 246, dtype: int64"
   ]
  },
  {
   "cell_type": "markdown",
   "id": "75845757",
   "metadata": {},
   "source": [
    "nombre_infected       815\n",
    "nombre_sain          2501\n",
    "nombre_exposed        483\n",
    "nombre_recovered    16201\n",
    "Name: 247, dtype: int64"
   ]
  },
  {
   "cell_type": "markdown",
   "id": "ae9a9b96",
   "metadata": {},
   "source": [
    "nombre_infected       824\n",
    "nombre_sain          2499\n",
    "nombre_exposed        502\n",
    "nombre_recovered    16175\n",
    "Name: 248, dtype: int64"
   ]
  },
  {
   "cell_type": "markdown",
   "id": "15482f3f",
   "metadata": {},
   "source": [
    "nombre_infected       834\n",
    "nombre_sain          2515\n",
    "nombre_exposed        485\n",
    "nombre_recovered    16166\n",
    "Name: 249, dtype: int64"
   ]
  },
  {
   "cell_type": "markdown",
   "id": "ff80bc28",
   "metadata": {},
   "source": [
    "nombre_infected       836\n",
    "nombre_sain          2516\n",
    "nombre_exposed        524\n",
    "nombre_recovered    16124\n",
    "Name: 250, dtype: int64"
   ]
  },
  {
   "cell_type": "markdown",
   "id": "af0c06ae",
   "metadata": {},
   "source": [
    "nombre_infected       820\n",
    "nombre_sain          2513\n",
    "nombre_exposed        529\n",
    "nombre_recovered    16138\n",
    "Name: 251, dtype: int64"
   ]
  },
  {
   "cell_type": "markdown",
   "id": "c92dc33f",
   "metadata": {},
   "source": [
    "nombre_infected       836\n",
    "nombre_sain          2542\n",
    "nombre_exposed        510\n",
    "nombre_recovered    16112\n",
    "Name: 252, dtype: int64"
   ]
  },
  {
   "cell_type": "markdown",
   "id": "3c457cd6",
   "metadata": {},
   "source": [
    "nombre_infected       835\n",
    "nombre_sain          2566\n",
    "nombre_exposed        520\n",
    "nombre_recovered    16079\n",
    "Name: 253, dtype: int64"
   ]
  },
  {
   "cell_type": "markdown",
   "id": "8ba244b2",
   "metadata": {},
   "source": [
    "nombre_infected       831\n",
    "nombre_sain          2579\n",
    "nombre_exposed        513\n",
    "nombre_recovered    16077\n",
    "Name: 254, dtype: int64"
   ]
  },
  {
   "cell_type": "markdown",
   "id": "9983c9a3",
   "metadata": {},
   "source": [
    "nombre_infected       854\n",
    "nombre_sain          2589\n",
    "nombre_exposed        527\n",
    "nombre_recovered    16030\n",
    "Name: 255, dtype: int64"
   ]
  },
  {
   "cell_type": "markdown",
   "id": "433d7f09",
   "metadata": {},
   "source": [
    "nombre_infected       843\n",
    "nombre_sain          2587\n",
    "nombre_exposed        540\n",
    "nombre_recovered    16030\n",
    "Name: 256, dtype: int64"
   ]
  },
  {
   "cell_type": "markdown",
   "id": "a6e5f7ea",
   "metadata": {},
   "source": [
    "nombre_infected       842\n",
    "nombre_sain          2591\n",
    "nombre_exposed        532\n",
    "nombre_recovered    16035\n",
    "Name: 257, dtype: int64"
   ]
  },
  {
   "cell_type": "markdown",
   "id": "e3a7fc35",
   "metadata": {},
   "source": [
    "nombre_infected       832\n",
    "nombre_sain          2598\n",
    "nombre_exposed        540\n",
    "nombre_recovered    16030\n",
    "Name: 258, dtype: int64"
   ]
  },
  {
   "cell_type": "markdown",
   "id": "ba194b57",
   "metadata": {},
   "source": [
    "nombre_infected       847\n",
    "nombre_sain          2586\n",
    "nombre_exposed        545\n",
    "nombre_recovered    16022\n",
    "Name: 259, dtype: int64"
   ]
  },
  {
   "cell_type": "markdown",
   "id": "98b66a14",
   "metadata": {},
   "source": [
    "nombre_infected       829\n",
    "nombre_sain          2583\n",
    "nombre_exposed        545\n",
    "nombre_recovered    16043\n",
    "Name: 260, dtype: int64"
   ]
  },
  {
   "cell_type": "markdown",
   "id": "c6d86b43",
   "metadata": {},
   "source": [
    "nombre_infected       871\n",
    "nombre_sain          2584\n",
    "nombre_exposed        512\n",
    "nombre_recovered    16033\n",
    "Name: 261, dtype: int64"
   ]
  },
  {
   "cell_type": "markdown",
   "id": "3a8b8062",
   "metadata": {},
   "source": [
    "nombre_infected       857\n",
    "nombre_sain          2553\n",
    "nombre_exposed        530\n",
    "nombre_recovered    16060\n",
    "Name: 262, dtype: int64"
   ]
  },
  {
   "cell_type": "markdown",
   "id": "ab262bfe",
   "metadata": {},
   "source": [
    "nombre_infected       863\n",
    "nombre_sain          2573\n",
    "nombre_exposed        521\n",
    "nombre_recovered    16043\n",
    "Name: 263, dtype: int64"
   ]
  },
  {
   "cell_type": "markdown",
   "id": "ab16aea2",
   "metadata": {},
   "source": [
    "nombre_infected       846\n",
    "nombre_sain          2570\n",
    "nombre_exposed        524\n",
    "nombre_recovered    16060\n",
    "Name: 264, dtype: int64"
   ]
  },
  {
   "cell_type": "markdown",
   "id": "c2c62a2d",
   "metadata": {},
   "source": [
    "nombre_infected       842\n",
    "nombre_sain          2533\n",
    "nombre_exposed        520\n",
    "nombre_recovered    16105\n",
    "Name: 265, dtype: int64"
   ]
  },
  {
   "cell_type": "markdown",
   "id": "a1f77f52",
   "metadata": {},
   "source": [
    "nombre_infected       815\n",
    "nombre_sain          2532\n",
    "nombre_exposed        539\n",
    "nombre_recovered    16114\n",
    "Name: 266, dtype: int64"
   ]
  },
  {
   "cell_type": "markdown",
   "id": "767eff15",
   "metadata": {},
   "source": [
    "nombre_infected       802\n",
    "nombre_sain          2541\n",
    "nombre_exposed        540\n",
    "nombre_recovered    16117\n",
    "Name: 267, dtype: int64"
   ]
  },
  {
   "cell_type": "markdown",
   "id": "4f424642",
   "metadata": {},
   "source": [
    "nombre_infected       825\n",
    "nombre_sain          2557\n",
    "nombre_exposed        519\n",
    "nombre_recovered    16099\n",
    "Name: 268, dtype: int64"
   ]
  },
  {
   "cell_type": "markdown",
   "id": "d88953f8",
   "metadata": {},
   "source": [
    "nombre_infected       835\n",
    "nombre_sain          2558\n",
    "nombre_exposed        518\n",
    "nombre_recovered    16089\n",
    "Name: 269, dtype: int64"
   ]
  },
  {
   "cell_type": "markdown",
   "id": "201df496",
   "metadata": {},
   "source": [
    "nombre_infected       823\n",
    "nombre_sain          2570\n",
    "nombre_exposed        519\n",
    "nombre_recovered    16088\n",
    "Name: 270, dtype: int64"
   ]
  },
  {
   "cell_type": "markdown",
   "id": "514d2217",
   "metadata": {},
   "source": [
    "nombre_infected       819\n",
    "nombre_sain          2581\n",
    "nombre_exposed        512\n",
    "nombre_recovered    16088\n",
    "Name: 271, dtype: int64"
   ]
  },
  {
   "cell_type": "markdown",
   "id": "013d6d0c",
   "metadata": {},
   "source": [
    "nombre_infected       801\n",
    "nombre_sain          2595\n",
    "nombre_exposed        501\n",
    "nombre_recovered    16103\n",
    "Name: 272, dtype: int64"
   ]
  },
  {
   "cell_type": "markdown",
   "id": "e59a87e5",
   "metadata": {},
   "source": [
    "nombre_infected       822\n",
    "nombre_sain          2582\n",
    "nombre_exposed        474\n",
    "nombre_recovered    16122\n",
    "Name: 273, dtype: int64"
   ]
  },
  {
   "cell_type": "markdown",
   "id": "b0602639",
   "metadata": {},
   "source": [
    "nombre_infected       856\n",
    "nombre_sain          2579\n",
    "nombre_exposed        457\n",
    "nombre_recovered    16108\n",
    "Name: 274, dtype: int64"
   ]
  },
  {
   "cell_type": "markdown",
   "id": "b184bcbb",
   "metadata": {},
   "source": [
    "nombre_infected       822\n",
    "nombre_sain          2594\n",
    "nombre_exposed        453\n",
    "nombre_recovered    16131\n",
    "Name: 275, dtype: int64"
   ]
  },
  {
   "cell_type": "markdown",
   "id": "d57fb797",
   "metadata": {},
   "source": [
    "nombre_infected       795\n",
    "nombre_sain          2603\n",
    "nombre_exposed        481\n",
    "nombre_recovered    16121\n",
    "Name: 276, dtype: int64"
   ]
  },
  {
   "cell_type": "markdown",
   "id": "8b7ad248",
   "metadata": {},
   "source": [
    "nombre_infected       802\n",
    "nombre_sain          2587\n",
    "nombre_exposed        478\n",
    "nombre_recovered    16133\n",
    "Name: 277, dtype: int64"
   ]
  },
  {
   "cell_type": "markdown",
   "id": "28358705",
   "metadata": {},
   "source": [
    "nombre_infected       787\n",
    "nombre_sain          2598\n",
    "nombre_exposed        476\n",
    "nombre_recovered    16139\n",
    "Name: 278, dtype: int64"
   ]
  },
  {
   "cell_type": "markdown",
   "id": "4d203ac3",
   "metadata": {},
   "source": [
    "nombre_infected       790\n",
    "nombre_sain          2590\n",
    "nombre_exposed        493\n",
    "nombre_recovered    16127\n",
    "Name: 279, dtype: int64"
   ]
  },
  {
   "cell_type": "markdown",
   "id": "5e3de8c0",
   "metadata": {},
   "source": [
    "nombre_infected       780\n",
    "nombre_sain          2593\n",
    "nombre_exposed        497\n",
    "nombre_recovered    16130\n",
    "Name: 280, dtype: int64"
   ]
  },
  {
   "cell_type": "markdown",
   "id": "1619b339",
   "metadata": {},
   "source": [
    "nombre_infected       769\n",
    "nombre_sain          2589\n",
    "nombre_exposed        519\n",
    "nombre_recovered    16123\n",
    "Name: 281, dtype: int64"
   ]
  },
  {
   "cell_type": "markdown",
   "id": "93a82407",
   "metadata": {},
   "source": [
    "nombre_infected       771\n",
    "nombre_sain          2564\n",
    "nombre_exposed        518\n",
    "nombre_recovered    16147\n",
    "Name: 282, dtype: int64"
   ]
  },
  {
   "cell_type": "markdown",
   "id": "94ccba93",
   "metadata": {},
   "source": [
    "nombre_infected       789\n",
    "nombre_sain          2555\n",
    "nombre_exposed        499\n",
    "nombre_recovered    16157\n",
    "Name: 283, dtype: int64"
   ]
  },
  {
   "cell_type": "markdown",
   "id": "41d12851",
   "metadata": {},
   "source": [
    "nombre_infected       788\n",
    "nombre_sain          2539\n",
    "nombre_exposed        511\n",
    "nombre_recovered    16162\n",
    "Name: 284, dtype: int64"
   ]
  },
  {
   "cell_type": "markdown",
   "id": "92694846",
   "metadata": {},
   "source": [
    "nombre_infected       790\n",
    "nombre_sain          2520\n",
    "nombre_exposed        520\n",
    "nombre_recovered    16170\n",
    "Name: 285, dtype: int64"
   ]
  },
  {
   "cell_type": "markdown",
   "id": "80e3ac0e",
   "metadata": {},
   "source": [
    "nombre_infected       804\n",
    "nombre_sain          2516\n",
    "nombre_exposed        510\n",
    "nombre_recovered    16170\n",
    "Name: 286, dtype: int64"
   ]
  },
  {
   "cell_type": "markdown",
   "id": "bcb1619b",
   "metadata": {},
   "source": [
    "nombre_infected       810\n",
    "nombre_sain          2513\n",
    "nombre_exposed        508\n",
    "nombre_recovered    16169\n",
    "Name: 287, dtype: int64"
   ]
  },
  {
   "cell_type": "markdown",
   "id": "e11308d9",
   "metadata": {},
   "source": [
    "nombre_infected       829\n",
    "nombre_sain          2505\n",
    "nombre_exposed        498\n",
    "nombre_recovered    16168\n",
    "Name: 288, dtype: int64"
   ]
  },
  {
   "cell_type": "markdown",
   "id": "0dc19bef",
   "metadata": {},
   "source": [
    "nombre_infected       845\n",
    "nombre_sain          2483\n",
    "nombre_exposed        511\n",
    "nombre_recovered    16161\n",
    "Name: 289, dtype: int64"
   ]
  },
  {
   "cell_type": "markdown",
   "id": "0417e27e",
   "metadata": {},
   "source": [
    "nombre_infected       831\n",
    "nombre_sain          2467\n",
    "nombre_exposed        516\n",
    "nombre_recovered    16186\n",
    "Name: 290, dtype: int64"
   ]
  },
  {
   "cell_type": "markdown",
   "id": "1990f6dc",
   "metadata": {},
   "source": [
    "nombre_infected       845\n",
    "nombre_sain          2422\n",
    "nombre_exposed        534\n",
    "nombre_recovered    16199\n",
    "Name: 291, dtype: int64"
   ]
  },
  {
   "cell_type": "markdown",
   "id": "fc8c547d",
   "metadata": {},
   "source": [
    "nombre_infected       848\n",
    "nombre_sain          2439\n",
    "nombre_exposed        530\n",
    "nombre_recovered    16183\n",
    "Name: 292, dtype: int64"
   ]
  },
  {
   "cell_type": "markdown",
   "id": "88d7399c",
   "metadata": {},
   "source": [
    "nombre_infected       837\n",
    "nombre_sain          2430\n",
    "nombre_exposed        543\n",
    "nombre_recovered    16190\n",
    "Name: 293, dtype: int64"
   ]
  },
  {
   "cell_type": "markdown",
   "id": "fc4283d6",
   "metadata": {},
   "source": [
    "nombre_infected       835\n",
    "nombre_sain          2451\n",
    "nombre_exposed        530\n",
    "nombre_recovered    16184\n",
    "Name: 294, dtype: int64"
   ]
  },
  {
   "cell_type": "markdown",
   "id": "a3662c31",
   "metadata": {},
   "source": [
    "nombre_infected       864\n",
    "nombre_sain          2439\n",
    "nombre_exposed        510\n",
    "nombre_recovered    16187\n",
    "Name: 295, dtype: int64"
   ]
  },
  {
   "cell_type": "markdown",
   "id": "0a814cef",
   "metadata": {},
   "source": [
    "nombre_infected       861\n",
    "nombre_sain          2429\n",
    "nombre_exposed        515\n",
    "nombre_recovered    16195\n",
    "Name: 296, dtype: int64"
   ]
  },
  {
   "cell_type": "markdown",
   "id": "ab65409f",
   "metadata": {},
   "source": [
    "nombre_infected       882\n",
    "nombre_sain          2455\n",
    "nombre_exposed        491\n",
    "nombre_recovered    16172\n",
    "Name: 297, dtype: int64"
   ]
  },
  {
   "cell_type": "markdown",
   "id": "579e7e19",
   "metadata": {},
   "source": [
    "nombre_infected       884\n",
    "nombre_sain          2436\n",
    "nombre_exposed        490\n",
    "nombre_recovered    16190\n",
    "Name: 298, dtype: int64"
   ]
  },
  {
   "cell_type": "markdown",
   "id": "141deeb9",
   "metadata": {},
   "source": [
    "nombre_infected       878\n",
    "nombre_sain          2435\n",
    "nombre_exposed        491\n",
    "nombre_recovered    16196\n",
    "Name: 299, dtype: int64"
   ]
  },
  {
   "cell_type": "markdown",
   "id": "1d652333",
   "metadata": {},
   "source": [
    "nombre_infected       865\n",
    "nombre_sain          2421\n",
    "nombre_exposed        511\n",
    "nombre_recovered    16203\n",
    "Name: 300, dtype: int64"
   ]
  },
  {
   "cell_type": "markdown",
   "id": "ea6e8999",
   "metadata": {},
   "source": [
    "nombre_infected       882\n",
    "nombre_sain          2417\n",
    "nombre_exposed        495\n",
    "nombre_recovered    16206\n",
    "Name: 301, dtype: int64"
   ]
  },
  {
   "cell_type": "markdown",
   "id": "08eb43c5",
   "metadata": {},
   "source": [
    "nombre_infected       883\n",
    "nombre_sain          2410\n",
    "nombre_exposed        508\n",
    "nombre_recovered    16199\n",
    "Name: 302, dtype: int64"
   ]
  },
  {
   "cell_type": "markdown",
   "id": "f46dd412",
   "metadata": {},
   "source": [
    "nombre_infected       897\n",
    "nombre_sain          2408\n",
    "nombre_exposed        519\n",
    "nombre_recovered    16176\n",
    "Name: 303, dtype: int64"
   ]
  },
  {
   "cell_type": "markdown",
   "id": "0432fe6b",
   "metadata": {},
   "source": [
    "nombre_infected       899\n",
    "nombre_sain          2395\n",
    "nombre_exposed        542\n",
    "nombre_recovered    16164\n",
    "Name: 304, dtype: int64"
   ]
  },
  {
   "cell_type": "markdown",
   "id": "7319e7db",
   "metadata": {},
   "source": [
    "nombre_infected       887\n",
    "nombre_sain          2368\n",
    "nombre_exposed        557\n",
    "nombre_recovered    16188\n",
    "Name: 305, dtype: int64"
   ]
  },
  {
   "cell_type": "markdown",
   "id": "d03d1f98",
   "metadata": {},
   "source": [
    "nombre_infected       917\n",
    "nombre_sain          2396\n",
    "nombre_exposed        544\n",
    "nombre_recovered    16143\n",
    "Name: 306, dtype: int64"
   ]
  },
  {
   "cell_type": "markdown",
   "id": "c21c74ce",
   "metadata": {},
   "source": [
    "nombre_infected       932\n",
    "nombre_sain          2399\n",
    "nombre_exposed        546\n",
    "nombre_recovered    16123\n",
    "Name: 307, dtype: int64"
   ]
  },
  {
   "cell_type": "markdown",
   "id": "e26947fa",
   "metadata": {},
   "source": [
    "nombre_infected       973\n",
    "nombre_sain          2417\n",
    "nombre_exposed        526\n",
    "nombre_recovered    16084\n",
    "Name: 308, dtype: int64"
   ]
  },
  {
   "cell_type": "markdown",
   "id": "929d9cbf",
   "metadata": {},
   "source": [
    "nombre_infected       984\n",
    "nombre_sain          2425\n",
    "nombre_exposed        531\n",
    "nombre_recovered    16060\n",
    "Name: 309, dtype: int64"
   ]
  },
  {
   "cell_type": "markdown",
   "id": "2a3829aa",
   "metadata": {},
   "source": [
    "nombre_infected       987\n",
    "nombre_sain          2415\n",
    "nombre_exposed        539\n",
    "nombre_recovered    16059\n",
    "Name: 310, dtype: int64"
   ]
  },
  {
   "cell_type": "markdown",
   "id": "caf1272b",
   "metadata": {},
   "source": [
    "nombre_infected      1010\n",
    "nombre_sain          2438\n",
    "nombre_exposed        539\n",
    "nombre_recovered    16013\n",
    "Name: 311, dtype: int64"
   ]
  },
  {
   "cell_type": "markdown",
   "id": "7e63334f",
   "metadata": {},
   "source": [
    "nombre_infected      1013\n",
    "nombre_sain          2427\n",
    "nombre_exposed        549\n",
    "nombre_recovered    16011\n",
    "Name: 312, dtype: int64"
   ]
  },
  {
   "cell_type": "markdown",
   "id": "862ffff3",
   "metadata": {},
   "source": [
    "nombre_infected      1005\n",
    "nombre_sain          2424\n",
    "nombre_exposed        547\n",
    "nombre_recovered    16024\n",
    "Name: 313, dtype: int64"
   ]
  },
  {
   "cell_type": "markdown",
   "id": "59d4d723",
   "metadata": {},
   "source": [
    "nombre_infected      1006\n",
    "nombre_sain          2426\n",
    "nombre_exposed        559\n",
    "nombre_recovered    16009\n",
    "Name: 314, dtype: int64"
   ]
  },
  {
   "cell_type": "markdown",
   "id": "79ba79e0",
   "metadata": {},
   "source": [
    "nombre_infected       999\n",
    "nombre_sain          2375\n",
    "nombre_exposed        606\n",
    "nombre_recovered    16020\n",
    "Name: 315, dtype: int64"
   ]
  },
  {
   "cell_type": "markdown",
   "id": "a1f0e91b",
   "metadata": {},
   "source": [
    "nombre_infected      1007\n",
    "nombre_sain          2340\n",
    "nombre_exposed        624\n",
    "nombre_recovered    16029\n",
    "Name: 316, dtype: int64"
   ]
  },
  {
   "cell_type": "markdown",
   "id": "8d9c784a",
   "metadata": {},
   "source": [
    "nombre_infected      1032\n",
    "nombre_sain          2307\n",
    "nombre_exposed        631\n",
    "nombre_recovered    16030\n",
    "Name: 317, dtype: int64"
   ]
  },
  {
   "cell_type": "markdown",
   "id": "561c509c",
   "metadata": {},
   "source": [
    "nombre_infected      1041\n",
    "nombre_sain          2280\n",
    "nombre_exposed        625\n",
    "nombre_recovered    16054\n",
    "Name: 318, dtype: int64"
   ]
  },
  {
   "cell_type": "markdown",
   "id": "620955f9",
   "metadata": {},
   "source": [
    "nombre_infected      1064\n",
    "nombre_sain          2265\n",
    "nombre_exposed        602\n",
    "nombre_recovered    16069\n",
    "Name: 319, dtype: int64"
   ]
  },
  {
   "cell_type": "markdown",
   "id": "7294b911",
   "metadata": {},
   "source": [
    "nombre_infected      1075\n",
    "nombre_sain          2244\n",
    "nombre_exposed        592\n",
    "nombre_recovered    16089\n",
    "Name: 320, dtype: int64"
   ]
  },
  {
   "cell_type": "markdown",
   "id": "22f2c395",
   "metadata": {},
   "source": [
    "nombre_infected      1079\n",
    "nombre_sain          2222\n",
    "nombre_exposed        594\n",
    "nombre_recovered    16105\n",
    "Name: 321, dtype: int64"
   ]
  },
  {
   "cell_type": "markdown",
   "id": "e9d5e846",
   "metadata": {},
   "source": [
    "nombre_infected      1087\n",
    "nombre_sain          2198\n",
    "nombre_exposed        607\n",
    "nombre_recovered    16108\n",
    "Name: 322, dtype: int64"
   ]
  },
  {
   "cell_type": "markdown",
   "id": "68b5f80c",
   "metadata": {},
   "source": [
    "nombre_infected      1099\n",
    "nombre_sain          2180\n",
    "nombre_exposed        587\n",
    "nombre_recovered    16134\n",
    "Name: 323, dtype: int64"
   ]
  },
  {
   "cell_type": "markdown",
   "id": "1be6a670",
   "metadata": {},
   "source": [
    "nombre_infected      1076\n",
    "nombre_sain          2164\n",
    "nombre_exposed        554\n",
    "nombre_recovered    16206\n",
    "Name: 324, dtype: int64"
   ]
  },
  {
   "cell_type": "markdown",
   "id": "e5a0e13f",
   "metadata": {},
   "source": [
    "nombre_infected      1095\n",
    "nombre_sain          2141\n",
    "nombre_exposed        537\n",
    "nombre_recovered    16227\n",
    "Name: 325, dtype: int64"
   ]
  },
  {
   "cell_type": "markdown",
   "id": "e98098d7",
   "metadata": {},
   "source": [
    "nombre_infected      1072\n",
    "nombre_sain          2124\n",
    "nombre_exposed        543\n",
    "nombre_recovered    16261\n",
    "Name: 326, dtype: int64"
   ]
  },
  {
   "cell_type": "markdown",
   "id": "c018e553",
   "metadata": {},
   "source": [
    "nombre_infected      1055\n",
    "nombre_sain          2121\n",
    "nombre_exposed        544\n",
    "nombre_recovered    16280\n",
    "Name: 327, dtype: int64"
   ]
  },
  {
   "cell_type": "markdown",
   "id": "a1479339",
   "metadata": {},
   "source": [
    "nombre_infected      1070\n",
    "nombre_sain          2116\n",
    "nombre_exposed        532\n",
    "nombre_recovered    16282\n",
    "Name: 328, dtype: int64"
   ]
  },
  {
   "cell_type": "markdown",
   "id": "7fe2de00",
   "metadata": {},
   "source": [
    "nombre_infected      1061\n",
    "nombre_sain          2134\n",
    "nombre_exposed        515\n",
    "nombre_recovered    16290\n",
    "Name: 329, dtype: int64"
   ]
  },
  {
   "cell_type": "markdown",
   "id": "158454aa",
   "metadata": {},
   "source": [
    "nombre_infected      1021\n",
    "nombre_sain          2124\n",
    "nombre_exposed        521\n",
    "nombre_recovered    16334\n",
    "Name: 330, dtype: int64"
   ]
  },
  {
   "cell_type": "markdown",
   "id": "61dcceba",
   "metadata": {},
   "source": [
    "nombre_infected       986\n",
    "nombre_sain          2139\n",
    "nombre_exposed        526\n",
    "nombre_recovered    16349\n",
    "Name: 331, dtype: int64"
   ]
  },
  {
   "cell_type": "markdown",
   "id": "45ed915c",
   "metadata": {},
   "source": [
    "nombre_infected       970\n",
    "nombre_sain          2122\n",
    "nombre_exposed        533\n",
    "nombre_recovered    16375\n",
    "Name: 332, dtype: int64"
   ]
  },
  {
   "cell_type": "markdown",
   "id": "be52ad7f",
   "metadata": {},
   "source": [
    "nombre_infected       983\n",
    "nombre_sain          2143\n",
    "nombre_exposed        516\n",
    "nombre_recovered    16358\n",
    "Name: 333, dtype: int64"
   ]
  },
  {
   "cell_type": "markdown",
   "id": "9eddce2d",
   "metadata": {},
   "source": [
    "nombre_infected       963\n",
    "nombre_sain          2172\n",
    "nombre_exposed        516\n",
    "nombre_recovered    16349\n",
    "Name: 334, dtype: int64"
   ]
  },
  {
   "cell_type": "markdown",
   "id": "ae21c9e1",
   "metadata": {},
   "source": [
    "nombre_infected       959\n",
    "nombre_sain          2182\n",
    "nombre_exposed        519\n",
    "nombre_recovered    16340\n",
    "Name: 335, dtype: int64"
   ]
  },
  {
   "cell_type": "markdown",
   "id": "2d181065",
   "metadata": {},
   "source": [
    "nombre_infected       960\n",
    "nombre_sain          2211\n",
    "nombre_exposed        541\n",
    "nombre_recovered    16288\n",
    "Name: 336, dtype: int64"
   ]
  },
  {
   "cell_type": "markdown",
   "id": "64ee1718",
   "metadata": {},
   "source": [
    "nombre_infected       963\n",
    "nombre_sain          2262\n",
    "nombre_exposed        535\n",
    "nombre_recovered    16240\n",
    "Name: 337, dtype: int64"
   ]
  },
  {
   "cell_type": "markdown",
   "id": "caabb8ed",
   "metadata": {},
   "source": [
    "nombre_infected       982\n",
    "nombre_sain          2304\n",
    "nombre_exposed        523\n",
    "nombre_recovered    16191\n",
    "Name: 338, dtype: int64"
   ]
  },
  {
   "cell_type": "markdown",
   "id": "fc5a1cfd",
   "metadata": {},
   "source": [
    "nombre_infected       964\n",
    "nombre_sain          2321\n",
    "nombre_exposed        537\n",
    "nombre_recovered    16178\n",
    "Name: 339, dtype: int64"
   ]
  },
  {
   "cell_type": "markdown",
   "id": "5b6a5629",
   "metadata": {},
   "source": [
    "nombre_infected       959\n",
    "nombre_sain          2365\n",
    "nombre_exposed        525\n",
    "nombre_recovered    16151\n",
    "Name: 340, dtype: int64"
   ]
  },
  {
   "cell_type": "markdown",
   "id": "88d788e1",
   "metadata": {},
   "source": [
    "nombre_infected       947\n",
    "nombre_sain          2383\n",
    "nombre_exposed        522\n",
    "nombre_recovered    16148\n",
    "Name: 341, dtype: int64"
   ]
  },
  {
   "cell_type": "markdown",
   "id": "0bbbdb46",
   "metadata": {},
   "source": [
    "nombre_infected       974\n",
    "nombre_sain          2408\n",
    "nombre_exposed        528\n",
    "nombre_recovered    16090\n",
    "Name: 342, dtype: int64"
   ]
  },
  {
   "cell_type": "markdown",
   "id": "24b507d9",
   "metadata": {},
   "source": [
    "nombre_infected       960\n",
    "nombre_sain          2405\n",
    "nombre_exposed        553\n",
    "nombre_recovered    16082\n",
    "Name: 343, dtype: int64"
   ]
  },
  {
   "cell_type": "markdown",
   "id": "6a1a58ff",
   "metadata": {},
   "source": [
    "nombre_infected       956\n",
    "nombre_sain          2404\n",
    "nombre_exposed        558\n",
    "nombre_recovered    16082\n",
    "Name: 344, dtype: int64"
   ]
  },
  {
   "cell_type": "markdown",
   "id": "ce232f49",
   "metadata": {},
   "source": [
    "nombre_infected       948\n",
    "nombre_sain          2393\n",
    "nombre_exposed        588\n",
    "nombre_recovered    16071\n",
    "Name: 345, dtype: int64"
   ]
  },
  {
   "cell_type": "markdown",
   "id": "2fd6e094",
   "metadata": {},
   "source": [
    "nombre_infected       939\n",
    "nombre_sain          2391\n",
    "nombre_exposed        617\n",
    "nombre_recovered    16053\n",
    "Name: 346, dtype: int64"
   ]
  },
  {
   "cell_type": "markdown",
   "id": "92b5c2bc",
   "metadata": {},
   "source": [
    "nombre_infected       962\n",
    "nombre_sain          2430\n",
    "nombre_exposed        595\n",
    "nombre_recovered    16013\n",
    "Name: 347, dtype: int64"
   ]
  },
  {
   "cell_type": "markdown",
   "id": "c9bb3698",
   "metadata": {},
   "source": [
    "nombre_infected       964\n",
    "nombre_sain          2449\n",
    "nombre_exposed        581\n",
    "nombre_recovered    16006\n",
    "Name: 348, dtype: int64"
   ]
  },
  {
   "cell_type": "markdown",
   "id": "f3e84188",
   "metadata": {},
   "source": [
    "nombre_infected       957\n",
    "nombre_sain          2469\n",
    "nombre_exposed        579\n",
    "nombre_recovered    15995\n",
    "Name: 349, dtype: int64"
   ]
  },
  {
   "cell_type": "markdown",
   "id": "d4c2c874",
   "metadata": {},
   "source": [
    "nombre_infected       977\n",
    "nombre_sain          2466\n",
    "nombre_exposed        588\n",
    "nombre_recovered    15969\n",
    "Name: 350, dtype: int64"
   ]
  },
  {
   "cell_type": "markdown",
   "id": "cfb6a386",
   "metadata": {},
   "source": [
    "nombre_infected       993\n",
    "nombre_sain          2473\n",
    "nombre_exposed        590\n",
    "nombre_recovered    15944\n",
    "Name: 351, dtype: int64"
   ]
  },
  {
   "cell_type": "markdown",
   "id": "3b1e6e1f",
   "metadata": {},
   "source": [
    "nombre_infected       993\n",
    "nombre_sain          2462\n",
    "nombre_exposed        609\n",
    "nombre_recovered    15936\n",
    "Name: 352, dtype: int64"
   ]
  },
  {
   "cell_type": "markdown",
   "id": "b6659d98",
   "metadata": {},
   "source": [
    "nombre_infected      1009\n",
    "nombre_sain          2459\n",
    "nombre_exposed        616\n",
    "nombre_recovered    15916\n",
    "Name: 353, dtype: int64"
   ]
  },
  {
   "cell_type": "markdown",
   "id": "4e6cd4a9",
   "metadata": {},
   "source": [
    "nombre_infected      1007\n",
    "nombre_sain          2461\n",
    "nombre_exposed        618\n",
    "nombre_recovered    15914\n",
    "Name: 354, dtype: int64"
   ]
  },
  {
   "cell_type": "markdown",
   "id": "2960db08",
   "metadata": {},
   "source": [
    "nombre_infected       990\n",
    "nombre_sain          2507\n",
    "nombre_exposed        598\n",
    "nombre_recovered    15905\n",
    "Name: 355, dtype: int64"
   ]
  },
  {
   "cell_type": "markdown",
   "id": "aeb8614b",
   "metadata": {},
   "source": [
    "nombre_infected       995\n",
    "nombre_sain          2577\n",
    "nombre_exposed        582\n",
    "nombre_recovered    15846\n",
    "Name: 356, dtype: int64"
   ]
  },
  {
   "cell_type": "markdown",
   "id": "51a191ad",
   "metadata": {},
   "source": [
    "nombre_infected       991\n",
    "nombre_sain          2603\n",
    "nombre_exposed        590\n",
    "nombre_recovered    15816\n",
    "Name: 357, dtype: int64"
   ]
  },
  {
   "cell_type": "markdown",
   "id": "84f5e15b",
   "metadata": {},
   "source": [
    "nombre_infected       981\n",
    "nombre_sain          2611\n",
    "nombre_exposed        601\n",
    "nombre_recovered    15807\n",
    "Name: 358, dtype: int64"
   ]
  },
  {
   "cell_type": "markdown",
   "id": "182bc8b9",
   "metadata": {},
   "source": [
    "nombre_infected       985\n",
    "nombre_sain          2611\n",
    "nombre_exposed        608\n",
    "nombre_recovered    15796\n",
    "Name: 359, dtype: int64"
   ]
  },
  {
   "cell_type": "markdown",
   "id": "7e753c48",
   "metadata": {},
   "source": [
    "nombre_infected       960\n",
    "nombre_sain          2645\n",
    "nombre_exposed        611\n",
    "nombre_recovered    15784\n",
    "Name: 360, dtype: int64"
   ]
  },
  {
   "cell_type": "markdown",
   "id": "b927c5f9",
   "metadata": {},
   "source": [
    "nombre_infected       934\n",
    "nombre_sain          2657\n",
    "nombre_exposed        633\n",
    "nombre_recovered    15776\n",
    "Name: 361, dtype: int64"
   ]
  },
  {
   "cell_type": "markdown",
   "id": "5b7cb55e",
   "metadata": {},
   "source": [
    "nombre_infected       938\n",
    "nombre_sain          2639\n",
    "nombre_exposed        665\n",
    "nombre_recovered    15758\n",
    "Name: 362, dtype: int64"
   ]
  },
  {
   "cell_type": "markdown",
   "id": "ec03b5ac",
   "metadata": {},
   "source": [
    "nombre_infected       953\n",
    "nombre_sain          2648\n",
    "nombre_exposed        666\n",
    "nombre_recovered    15733\n",
    "Name: 363, dtype: int64"
   ]
  },
  {
   "cell_type": "markdown",
   "id": "71716507",
   "metadata": {},
   "source": [
    "nombre_infected       978\n",
    "nombre_sain          2649\n",
    "nombre_exposed        647\n",
    "nombre_recovered    15726\n",
    "Name: 364, dtype: int64"
   ]
  },
  {
   "cell_type": "markdown",
   "id": "92f02fd1",
   "metadata": {},
   "source": [
    "nombre_infected       981\n",
    "nombre_sain          2636\n",
    "nombre_exposed        695\n",
    "nombre_recovered    15688\n",
    "Name: 365, dtype: int64"
   ]
  },
  {
   "cell_type": "markdown",
   "id": "cc9d4094",
   "metadata": {},
   "source": [
    "nombre_infected       960\n",
    "nombre_sain          2603\n",
    "nombre_exposed        712\n",
    "nombre_recovered    15725\n",
    "Name: 366, dtype: int64"
   ]
  },
  {
   "cell_type": "markdown",
   "id": "c40e48c8",
   "metadata": {},
   "source": [
    "nombre_infected       961\n",
    "nombre_sain          2573\n",
    "nombre_exposed        731\n",
    "nombre_recovered    15735\n",
    "Name: 367, dtype: int64"
   ]
  },
  {
   "cell_type": "markdown",
   "id": "a766a9a4",
   "metadata": {},
   "source": [
    "nombre_infected      1004\n",
    "nombre_sain          2547\n",
    "nombre_exposed        712\n",
    "nombre_recovered    15737\n",
    "Name: 368, dtype: int64"
   ]
  },
  {
   "cell_type": "markdown",
   "id": "9b4e0ddf",
   "metadata": {},
   "source": [
    "nombre_infected       993\n",
    "nombre_sain          2566\n",
    "nombre_exposed        696\n",
    "nombre_recovered    15745\n",
    "Name: 369, dtype: int64"
   ]
  },
  {
   "cell_type": "markdown",
   "id": "c98f1341",
   "metadata": {},
   "source": [
    "nombre_infected      1011\n",
    "nombre_sain          2529\n",
    "nombre_exposed        694\n",
    "nombre_recovered    15766\n",
    "Name: 370, dtype: int64"
   ]
  },
  {
   "cell_type": "markdown",
   "id": "6299eb2b",
   "metadata": {},
   "source": [
    "nombre_infected      1022\n",
    "nombre_sain          2500\n",
    "nombre_exposed        682\n",
    "nombre_recovered    15796\n",
    "Name: 371, dtype: int64"
   ]
  },
  {
   "cell_type": "markdown",
   "id": "b99e9a84",
   "metadata": {},
   "source": [
    "nombre_infected      1012\n",
    "nombre_sain          2510\n",
    "nombre_exposed        653\n",
    "nombre_recovered    15825\n",
    "Name: 372, dtype: int64"
   ]
  },
  {
   "cell_type": "markdown",
   "id": "5de42b7f",
   "metadata": {},
   "source": [
    "nombre_infected      1038\n",
    "nombre_sain          2487\n",
    "nombre_exposed        640\n",
    "nombre_recovered    15835\n",
    "Name: 373, dtype: int64"
   ]
  },
  {
   "cell_type": "markdown",
   "id": "b9cc9d5b",
   "metadata": {},
   "source": [
    "nombre_infected      1030\n",
    "nombre_sain          2460\n",
    "nombre_exposed        655\n",
    "nombre_recovered    15855\n",
    "Name: 374, dtype: int64"
   ]
  },
  {
   "cell_type": "markdown",
   "id": "270f6f52",
   "metadata": {},
   "source": [
    "nombre_infected      1025\n",
    "nombre_sain          2435\n",
    "nombre_exposed        662\n",
    "nombre_recovered    15878\n",
    "Name: 375, dtype: int64"
   ]
  },
  {
   "cell_type": "markdown",
   "id": "ae892681",
   "metadata": {},
   "source": [
    "nombre_infected      1014\n",
    "nombre_sain          2411\n",
    "nombre_exposed        671\n",
    "nombre_recovered    15904\n",
    "Name: 376, dtype: int64"
   ]
  },
  {
   "cell_type": "markdown",
   "id": "ac86cec8",
   "metadata": {},
   "source": [
    "nombre_infected      1022\n",
    "nombre_sain          2399\n",
    "nombre_exposed        653\n",
    "nombre_recovered    15926\n",
    "Name: 377, dtype: int64"
   ]
  },
  {
   "cell_type": "markdown",
   "id": "f73968a0",
   "metadata": {},
   "source": [
    "nombre_infected      1012\n",
    "nombre_sain          2383\n",
    "nombre_exposed        654\n",
    "nombre_recovered    15951\n",
    "Name: 378, dtype: int64"
   ]
  },
  {
   "cell_type": "markdown",
   "id": "9844366d",
   "metadata": {},
   "source": [
    "nombre_infected       997\n",
    "nombre_sain          2375\n",
    "nombre_exposed        656\n",
    "nombre_recovered    15972\n",
    "Name: 379, dtype: int64"
   ]
  },
  {
   "cell_type": "markdown",
   "id": "e5b5d906",
   "metadata": {},
   "source": [
    "nombre_infected       994\n",
    "nombre_sain          2366\n",
    "nombre_exposed        646\n",
    "nombre_recovered    15994\n",
    "Name: 380, dtype: int64"
   ]
  },
  {
   "cell_type": "markdown",
   "id": "7aab00f7",
   "metadata": {},
   "source": [
    "nombre_infected      1006\n",
    "nombre_sain          2357\n",
    "nombre_exposed        612\n",
    "nombre_recovered    16025\n",
    "Name: 381, dtype: int64"
   ]
  },
  {
   "cell_type": "markdown",
   "id": "7f3002ca",
   "metadata": {},
   "source": [
    "nombre_infected       997\n",
    "nombre_sain          2334\n",
    "nombre_exposed        611\n",
    "nombre_recovered    16058\n",
    "Name: 382, dtype: int64"
   ]
  },
  {
   "cell_type": "markdown",
   "id": "8e591af3",
   "metadata": {},
   "source": [
    "nombre_infected       983\n",
    "nombre_sain          2322\n",
    "nombre_exposed        620\n",
    "nombre_recovered    16075\n",
    "Name: 383, dtype: int64"
   ]
  },
  {
   "cell_type": "markdown",
   "id": "aea97214",
   "metadata": {},
   "source": [
    "nombre_infected       981\n",
    "nombre_sain          2310\n",
    "nombre_exposed        611\n",
    "nombre_recovered    16098\n",
    "Name: 384, dtype: int64"
   ]
  },
  {
   "cell_type": "markdown",
   "id": "a8cde907",
   "metadata": {},
   "source": [
    "nombre_infected       972\n",
    "nombre_sain          2300\n",
    "nombre_exposed        607\n",
    "nombre_recovered    16121\n",
    "Name: 385, dtype: int64"
   ]
  },
  {
   "cell_type": "markdown",
   "id": "e2357c05",
   "metadata": {},
   "source": [
    "nombre_infected       966\n",
    "nombre_sain          2294\n",
    "nombre_exposed        599\n",
    "nombre_recovered    16141\n",
    "Name: 386, dtype: int64"
   ]
  },
  {
   "cell_type": "markdown",
   "id": "6bc69657",
   "metadata": {},
   "source": [
    "nombre_infected       939\n",
    "nombre_sain          2249\n",
    "nombre_exposed        622\n",
    "nombre_recovered    16190\n",
    "Name: 387, dtype: int64"
   ]
  },
  {
   "cell_type": "markdown",
   "id": "264f042a",
   "metadata": {},
   "source": [
    "nombre_infected       907\n",
    "nombre_sain          2217\n",
    "nombre_exposed        640\n",
    "nombre_recovered    16236\n",
    "Name: 388, dtype: int64"
   ]
  },
  {
   "cell_type": "markdown",
   "id": "9ca0a483",
   "metadata": {},
   "source": [
    "nombre_infected       892\n",
    "nombre_sain          2206\n",
    "nombre_exposed        623\n",
    "nombre_recovered    16279\n",
    "Name: 389, dtype: int64"
   ]
  },
  {
   "cell_type": "markdown",
   "id": "66227b31",
   "metadata": {},
   "source": [
    "nombre_infected       890\n",
    "nombre_sain          2195\n",
    "nombre_exposed        601\n",
    "nombre_recovered    16314\n",
    "Name: 390, dtype: int64"
   ]
  },
  {
   "cell_type": "markdown",
   "id": "db5cfce6",
   "metadata": {},
   "source": [
    "nombre_infected       901\n",
    "nombre_sain          2185\n",
    "nombre_exposed        564\n",
    "nombre_recovered    16350\n",
    "Name: 391, dtype: int64"
   ]
  },
  {
   "cell_type": "markdown",
   "id": "7f82b55f",
   "metadata": {},
   "source": [
    "nombre_infected       888\n",
    "nombre_sain          2190\n",
    "nombre_exposed        550\n",
    "nombre_recovered    16372\n",
    "Name: 392, dtype: int64"
   ]
  },
  {
   "cell_type": "markdown",
   "id": "2319cf7f",
   "metadata": {},
   "source": [
    "nombre_infected       890\n",
    "nombre_sain          2184\n",
    "nombre_exposed        534\n",
    "nombre_recovered    16392\n",
    "Name: 393, dtype: int64"
   ]
  },
  {
   "cell_type": "markdown",
   "id": "f34e5b8a",
   "metadata": {},
   "source": [
    "nombre_infected       877\n",
    "nombre_sain          2162\n",
    "nombre_exposed        521\n",
    "nombre_recovered    16440\n",
    "Name: 394, dtype: int64"
   ]
  },
  {
   "cell_type": "markdown",
   "id": "a0d4cf63",
   "metadata": {},
   "source": [
    "nombre_infected       848\n",
    "nombre_sain          2169\n",
    "nombre_exposed        511\n",
    "nombre_recovered    16472\n",
    "Name: 395, dtype: int64"
   ]
  },
  {
   "cell_type": "markdown",
   "id": "03b20ded",
   "metadata": {},
   "source": [
    "nombre_infected       861\n",
    "nombre_sain          2164\n",
    "nombre_exposed        487\n",
    "nombre_recovered    16488\n",
    "Name: 396, dtype: int64"
   ]
  },
  {
   "cell_type": "markdown",
   "id": "a9e43eaa",
   "metadata": {},
   "source": [
    "nombre_infected       852\n",
    "nombre_sain          2169\n",
    "nombre_exposed        478\n",
    "nombre_recovered    16501\n",
    "Name: 397, dtype: int64"
   ]
  },
  {
   "cell_type": "markdown",
   "id": "2653ad2f",
   "metadata": {},
   "source": [
    "nombre_infected       830\n",
    "nombre_sain          2181\n",
    "nombre_exposed        458\n",
    "nombre_recovered    16531\n",
    "Name: 398, dtype: int64"
   ]
  },
  {
   "cell_type": "markdown",
   "id": "3d3f0af1",
   "metadata": {},
   "source": [
    "nombre_infected       795\n",
    "nombre_sain          2179\n",
    "nombre_exposed        456\n",
    "nombre_recovered    16570\n",
    "Name: 399, dtype: int64"
   ]
  },
  {
   "cell_type": "markdown",
   "id": "39be3f3b",
   "metadata": {},
   "source": [
    "nombre_infected       765\n",
    "nombre_sain          2192\n",
    "nombre_exposed        464\n",
    "nombre_recovered    16579\n",
    "Name: 400, dtype: int64"
   ]
  },
  {
   "cell_type": "markdown",
   "id": "47043120",
   "metadata": {},
   "source": [
    "nombre_infected       732\n",
    "nombre_sain          2209\n",
    "nombre_exposed        470\n",
    "nombre_recovered    16589\n",
    "Name: 401, dtype: int64"
   ]
  },
  {
   "cell_type": "markdown",
   "id": "2931b1d6",
   "metadata": {},
   "source": [
    "nombre_infected       709\n",
    "nombre_sain          2220\n",
    "nombre_exposed        460\n",
    "nombre_recovered    16611\n",
    "Name: 402, dtype: int64"
   ]
  },
  {
   "cell_type": "markdown",
   "id": "35fa41af",
   "metadata": {},
   "source": [
    "nombre_infected       719\n",
    "nombre_sain          2262\n",
    "nombre_exposed        439\n",
    "nombre_recovered    16580\n",
    "Name: 403, dtype: int64"
   ]
  },
  {
   "cell_type": "markdown",
   "id": "cbf9cbc6",
   "metadata": {},
   "source": [
    "nombre_infected       707\n",
    "nombre_sain          2262\n",
    "nombre_exposed        448\n",
    "nombre_recovered    16583\n",
    "Name: 404, dtype: int64"
   ]
  },
  {
   "cell_type": "markdown",
   "id": "a8125d3d",
   "metadata": {},
   "source": [
    "nombre_infected       699\n",
    "nombre_sain          2295\n",
    "nombre_exposed        438\n",
    "nombre_recovered    16568\n",
    "Name: 405, dtype: int64"
   ]
  },
  {
   "cell_type": "markdown",
   "id": "492bd908",
   "metadata": {},
   "source": [
    "nombre_infected       685\n",
    "nombre_sain          2335\n",
    "nombre_exposed        398\n",
    "nombre_recovered    16582\n",
    "Name: 406, dtype: int64"
   ]
  },
  {
   "cell_type": "markdown",
   "id": "4a0e8a82",
   "metadata": {},
   "source": [
    "nombre_infected       683\n",
    "nombre_sain          2332\n",
    "nombre_exposed        435\n",
    "nombre_recovered    16550\n",
    "Name: 407, dtype: int64"
   ]
  },
  {
   "cell_type": "markdown",
   "id": "2dca3ef6",
   "metadata": {},
   "source": [
    "nombre_infected       667\n",
    "nombre_sain          2358\n",
    "nombre_exposed        429\n",
    "nombre_recovered    16546\n",
    "Name: 408, dtype: int64"
   ]
  },
  {
   "cell_type": "markdown",
   "id": "6c4981fb",
   "metadata": {},
   "source": [
    "nombre_infected       638\n",
    "nombre_sain          2385\n",
    "nombre_exposed        423\n",
    "nombre_recovered    16554\n",
    "Name: 409, dtype: int64"
   ]
  },
  {
   "cell_type": "markdown",
   "id": "49d7b7a6",
   "metadata": {},
   "source": [
    "nombre_infected       625\n",
    "nombre_sain          2408\n",
    "nombre_exposed        420\n",
    "nombre_recovered    16547\n",
    "Name: 410, dtype: int64"
   ]
  },
  {
   "cell_type": "markdown",
   "id": "c02a74e7",
   "metadata": {},
   "source": [
    "nombre_infected       619\n",
    "nombre_sain          2433\n",
    "nombre_exposed        422\n",
    "nombre_recovered    16526\n",
    "Name: 411, dtype: int64"
   ]
  },
  {
   "cell_type": "markdown",
   "id": "0d564e84",
   "metadata": {},
   "source": [
    "nombre_infected       612\n",
    "nombre_sain          2459\n",
    "nombre_exposed        402\n",
    "nombre_recovered    16527\n",
    "Name: 412, dtype: int64"
   ]
  },
  {
   "cell_type": "markdown",
   "id": "d70f843e",
   "metadata": {},
   "source": [
    "nombre_infected       594\n",
    "nombre_sain          2501\n",
    "nombre_exposed        395\n",
    "nombre_recovered    16510\n",
    "Name: 413, dtype: int64"
   ]
  },
  {
   "cell_type": "markdown",
   "id": "7c9e6779",
   "metadata": {},
   "source": [
    "nombre_infected       597\n",
    "nombre_sain          2517\n",
    "nombre_exposed        401\n",
    "nombre_recovered    16485\n",
    "Name: 414, dtype: int64"
   ]
  },
  {
   "cell_type": "markdown",
   "id": "3552ed61",
   "metadata": {},
   "source": [
    "nombre_infected       607\n",
    "nombre_sain          2543\n",
    "nombre_exposed        397\n",
    "nombre_recovered    16453\n",
    "Name: 415, dtype: int64"
   ]
  },
  {
   "cell_type": "markdown",
   "id": "cfd7230c",
   "metadata": {},
   "source": [
    "nombre_infected       604\n",
    "nombre_sain          2539\n",
    "nombre_exposed        429\n",
    "nombre_recovered    16428\n",
    "Name: 416, dtype: int64"
   ]
  },
  {
   "cell_type": "markdown",
   "id": "6225c4d5",
   "metadata": {},
   "source": [
    "nombre_infected       586\n",
    "nombre_sain          2584\n",
    "nombre_exposed        432\n",
    "nombre_recovered    16398\n",
    "Name: 417, dtype: int64"
   ]
  },
  {
   "cell_type": "markdown",
   "id": "e26b92b5",
   "metadata": {},
   "source": [
    "nombre_infected       593\n",
    "nombre_sain          2599\n",
    "nombre_exposed        436\n",
    "nombre_recovered    16372\n",
    "Name: 418, dtype: int64"
   ]
  },
  {
   "cell_type": "markdown",
   "id": "0711931f",
   "metadata": {},
   "source": [
    "nombre_infected       596\n",
    "nombre_sain          2605\n",
    "nombre_exposed        432\n",
    "nombre_recovered    16367\n",
    "Name: 419, dtype: int64"
   ]
  },
  {
   "cell_type": "markdown",
   "id": "89a21ae4",
   "metadata": {},
   "source": [
    "nombre_infected       595\n",
    "nombre_sain          2628\n",
    "nombre_exposed        433\n",
    "nombre_recovered    16344\n",
    "Name: 420, dtype: int64"
   ]
  },
  {
   "cell_type": "markdown",
   "id": "0921fe12",
   "metadata": {},
   "source": [
    "nombre_infected       610\n",
    "nombre_sain          2660\n",
    "nombre_exposed        426\n",
    "nombre_recovered    16304\n",
    "Name: 421, dtype: int64"
   ]
  },
  {
   "cell_type": "markdown",
   "id": "7108d15b",
   "metadata": {},
   "source": [
    "nombre_infected       593\n",
    "nombre_sain          2678\n",
    "nombre_exposed        441\n",
    "nombre_recovered    16288\n",
    "Name: 422, dtype: int64"
   ]
  },
  {
   "cell_type": "markdown",
   "id": "78dc4aca",
   "metadata": {},
   "source": [
    "nombre_infected       595\n",
    "nombre_sain          2700\n",
    "nombre_exposed        440\n",
    "nombre_recovered    16265\n",
    "Name: 423, dtype: int64"
   ]
  },
  {
   "cell_type": "markdown",
   "id": "40888918",
   "metadata": {},
   "source": [
    "nombre_infected       607\n",
    "nombre_sain          2715\n",
    "nombre_exposed        451\n",
    "nombre_recovered    16227\n",
    "Name: 424, dtype: int64"
   ]
  },
  {
   "cell_type": "markdown",
   "id": "f3b70637",
   "metadata": {},
   "source": [
    "nombre_infected       619\n",
    "nombre_sain          2755\n",
    "nombre_exposed        439\n",
    "nombre_recovered    16187\n",
    "Name: 425, dtype: int64"
   ]
  },
  {
   "cell_type": "markdown",
   "id": "269f19bd",
   "metadata": {},
   "source": [
    "nombre_infected       637\n",
    "nombre_sain          2782\n",
    "nombre_exposed        422\n",
    "nombre_recovered    16159\n",
    "Name: 426, dtype: int64"
   ]
  },
  {
   "cell_type": "markdown",
   "id": "7f8cecd0",
   "metadata": {},
   "source": [
    "nombre_infected       662\n",
    "nombre_sain          2806\n",
    "nombre_exposed        416\n",
    "nombre_recovered    16116\n",
    "Name: 427, dtype: int64"
   ]
  },
  {
   "cell_type": "markdown",
   "id": "badc2b2d",
   "metadata": {},
   "source": [
    "nombre_infected       675\n",
    "nombre_sain          2824\n",
    "nombre_exposed        421\n",
    "nombre_recovered    16080\n",
    "Name: 428, dtype: int64"
   ]
  },
  {
   "cell_type": "markdown",
   "id": "eb07cb2c",
   "metadata": {},
   "source": [
    "nombre_infected       649\n",
    "nombre_sain          2838\n",
    "nombre_exposed        447\n",
    "nombre_recovered    16066\n",
    "Name: 429, dtype: int64"
   ]
  },
  {
   "cell_type": "markdown",
   "id": "f9d35360",
   "metadata": {},
   "source": [
    "nombre_infected       661\n",
    "nombre_sain          2830\n",
    "nombre_exposed        471\n",
    "nombre_recovered    16038\n",
    "Name: 430, dtype: int64"
   ]
  },
  {
   "cell_type": "markdown",
   "id": "26b5af3c",
   "metadata": {},
   "source": [
    "nombre_infected       656\n",
    "nombre_sain          2843\n",
    "nombre_exposed        471\n",
    "nombre_recovered    16030\n",
    "Name: 431, dtype: int64"
   ]
  },
  {
   "cell_type": "markdown",
   "id": "1bb2fd2f",
   "metadata": {},
   "source": [
    "nombre_infected       677\n",
    "nombre_sain          2855\n",
    "nombre_exposed        478\n",
    "nombre_recovered    15990\n",
    "Name: 432, dtype: int64"
   ]
  },
  {
   "cell_type": "markdown",
   "id": "0d154c33",
   "metadata": {},
   "source": [
    "nombre_infected       680\n",
    "nombre_sain          2841\n",
    "nombre_exposed        498\n",
    "nombre_recovered    15981\n",
    "Name: 433, dtype: int64"
   ]
  },
  {
   "cell_type": "markdown",
   "id": "cab20c6a",
   "metadata": {},
   "source": [
    "nombre_infected       696\n",
    "nombre_sain          2829\n",
    "nombre_exposed        519\n",
    "nombre_recovered    15956\n",
    "Name: 434, dtype: int64"
   ]
  },
  {
   "cell_type": "markdown",
   "id": "fc24bd3e",
   "metadata": {},
   "source": [
    "nombre_infected       712\n",
    "nombre_sain          2826\n",
    "nombre_exposed        515\n",
    "nombre_recovered    15947\n",
    "Name: 435, dtype: int64"
   ]
  },
  {
   "cell_type": "markdown",
   "id": "b8d36106",
   "metadata": {},
   "source": [
    "nombre_infected       736\n",
    "nombre_sain          2802\n",
    "nombre_exposed        529\n",
    "nombre_recovered    15933\n",
    "Name: 436, dtype: int64"
   ]
  },
  {
   "cell_type": "markdown",
   "id": "8bc5bddb",
   "metadata": {},
   "source": [
    "nombre_infected       760\n",
    "nombre_sain          2766\n",
    "nombre_exposed        561\n",
    "nombre_recovered    15913\n",
    "Name: 437, dtype: int64"
   ]
  },
  {
   "cell_type": "markdown",
   "id": "f138c8b9",
   "metadata": {},
   "source": [
    "nombre_infected       775\n",
    "nombre_sain          2767\n",
    "nombre_exposed        548\n",
    "nombre_recovered    15910\n",
    "Name: 438, dtype: int64"
   ]
  },
  {
   "cell_type": "markdown",
   "id": "e5bca887",
   "metadata": {},
   "source": [
    "nombre_infected       779\n",
    "nombre_sain          2748\n",
    "nombre_exposed        534\n",
    "nombre_recovered    15939\n",
    "Name: 439, dtype: int64"
   ]
  },
  {
   "cell_type": "markdown",
   "id": "936db4b7",
   "metadata": {},
   "source": [
    "nombre_infected       785\n",
    "nombre_sain          2713\n",
    "nombre_exposed        559\n",
    "nombre_recovered    15943\n",
    "Name: 440, dtype: int64"
   ]
  },
  {
   "cell_type": "markdown",
   "id": "b958ec1e",
   "metadata": {},
   "source": [
    "nombre_infected       785\n",
    "nombre_sain          2695\n",
    "nombre_exposed        555\n",
    "nombre_recovered    15965\n",
    "Name: 441, dtype: int64"
   ]
  },
  {
   "cell_type": "markdown",
   "id": "e9a7a884",
   "metadata": {},
   "source": [
    "nombre_infected       796\n",
    "nombre_sain          2673\n",
    "nombre_exposed        562\n",
    "nombre_recovered    15969\n",
    "Name: 442, dtype: int64"
   ]
  },
  {
   "cell_type": "markdown",
   "id": "e8848371",
   "metadata": {},
   "source": [
    "nombre_infected       809\n",
    "nombre_sain          2672\n",
    "nombre_exposed        550\n",
    "nombre_recovered    15969\n",
    "Name: 443, dtype: int64"
   ]
  },
  {
   "cell_type": "markdown",
   "id": "a23fc92c",
   "metadata": {},
   "source": [
    "nombre_infected       828\n",
    "nombre_sain          2640\n",
    "nombre_exposed        547\n",
    "nombre_recovered    15985\n",
    "Name: 444, dtype: int64"
   ]
  },
  {
   "cell_type": "markdown",
   "id": "aef4c8e3",
   "metadata": {},
   "source": [
    "nombre_infected       841\n",
    "nombre_sain          2604\n",
    "nombre_exposed        557\n",
    "nombre_recovered    15998\n",
    "Name: 445, dtype: int64"
   ]
  },
  {
   "cell_type": "markdown",
   "id": "433a31fd",
   "metadata": {},
   "source": [
    "nombre_infected       859\n",
    "nombre_sain          2621\n",
    "nombre_exposed        539\n",
    "nombre_recovered    15981\n",
    "Name: 446, dtype: int64"
   ]
  },
  {
   "cell_type": "markdown",
   "id": "6adf752d",
   "metadata": {},
   "source": [
    "nombre_infected       879\n",
    "nombre_sain          2574\n",
    "nombre_exposed        564\n",
    "nombre_recovered    15983\n",
    "Name: 447, dtype: int64"
   ]
  },
  {
   "cell_type": "markdown",
   "id": "149e84ef",
   "metadata": {},
   "source": [
    "nombre_infected       889\n",
    "nombre_sain          2521\n",
    "nombre_exposed        594\n",
    "nombre_recovered    15996\n",
    "Name: 448, dtype: int64"
   ]
  },
  {
   "cell_type": "markdown",
   "id": "23605057",
   "metadata": {},
   "source": [
    "nombre_infected       887\n",
    "nombre_sain          2522\n",
    "nombre_exposed        589\n",
    "nombre_recovered    16002\n",
    "Name: 449, dtype: int64"
   ]
  },
  {
   "cell_type": "markdown",
   "id": "133249aa",
   "metadata": {},
   "source": [
    "nombre_infected       903\n",
    "nombre_sain          2505\n",
    "nombre_exposed        581\n",
    "nombre_recovered    16011\n",
    "Name: 450, dtype: int64"
   ]
  },
  {
   "cell_type": "markdown",
   "id": "d41d35fd",
   "metadata": {},
   "source": [
    "nombre_infected       907\n",
    "nombre_sain          2485\n",
    "nombre_exposed        597\n",
    "nombre_recovered    16011\n",
    "Name: 451, dtype: int64"
   ]
  },
  {
   "cell_type": "markdown",
   "id": "801db4b2",
   "metadata": {},
   "source": [
    "nombre_infected       894\n",
    "nombre_sain          2456\n",
    "nombre_exposed        605\n",
    "nombre_recovered    16045\n",
    "Name: 452, dtype: int64"
   ]
  },
  {
   "cell_type": "markdown",
   "id": "2eb14537",
   "metadata": {},
   "source": [
    "nombre_infected       894\n",
    "nombre_sain          2440\n",
    "nombre_exposed        624\n",
    "nombre_recovered    16042\n",
    "Name: 453, dtype: int64"
   ]
  },
  {
   "cell_type": "markdown",
   "id": "4b9769d1",
   "metadata": {},
   "source": [
    "nombre_infected       922\n",
    "nombre_sain          2411\n",
    "nombre_exposed        636\n",
    "nombre_recovered    16031\n",
    "Name: 454, dtype: int64"
   ]
  },
  {
   "cell_type": "markdown",
   "id": "a4f4e5fe",
   "metadata": {},
   "source": [
    "nombre_infected       945\n",
    "nombre_sain          2407\n",
    "nombre_exposed        611\n",
    "nombre_recovered    16037\n",
    "Name: 455, dtype: int64"
   ]
  },
  {
   "cell_type": "markdown",
   "id": "38e01710",
   "metadata": {},
   "source": [
    "nombre_infected       959\n",
    "nombre_sain          2389\n",
    "nombre_exposed        618\n",
    "nombre_recovered    16034\n",
    "Name: 456, dtype: int64"
   ]
  },
  {
   "cell_type": "markdown",
   "id": "d1fd1f1a",
   "metadata": {},
   "source": [
    "nombre_infected       962\n",
    "nombre_sain          2377\n",
    "nombre_exposed        626\n",
    "nombre_recovered    16035\n",
    "Name: 457, dtype: int64"
   ]
  },
  {
   "cell_type": "markdown",
   "id": "6cfee867",
   "metadata": {},
   "source": [
    "nombre_infected       966\n",
    "nombre_sain          2353\n",
    "nombre_exposed        639\n",
    "nombre_recovered    16042\n",
    "Name: 458, dtype: int64"
   ]
  },
  {
   "cell_type": "markdown",
   "id": "e12d68b0",
   "metadata": {},
   "source": [
    "nombre_infected       992\n",
    "nombre_sain          2353\n",
    "nombre_exposed        635\n",
    "nombre_recovered    16020\n",
    "Name: 459, dtype: int64"
   ]
  },
  {
   "cell_type": "markdown",
   "id": "7adfc2a3",
   "metadata": {},
   "source": [
    "nombre_infected      1013\n",
    "nombre_sain          2337\n",
    "nombre_exposed        624\n",
    "nombre_recovered    16026\n",
    "Name: 460, dtype: int64"
   ]
  },
  {
   "cell_type": "markdown",
   "id": "144ae44f",
   "metadata": {},
   "source": [
    "nombre_infected      1018\n",
    "nombre_sain          2311\n",
    "nombre_exposed        661\n",
    "nombre_recovered    16010\n",
    "Name: 461, dtype: int64"
   ]
  },
  {
   "cell_type": "markdown",
   "id": "fde6fd8c",
   "metadata": {},
   "source": [
    "nombre_infected      1026\n",
    "nombre_sain          2317\n",
    "nombre_exposed        657\n",
    "nombre_recovered    16000\n",
    "Name: 462, dtype: int64"
   ]
  },
  {
   "cell_type": "markdown",
   "id": "24e986c2",
   "metadata": {},
   "source": [
    "nombre_infected      1034\n",
    "nombre_sain          2310\n",
    "nombre_exposed        643\n",
    "nombre_recovered    16013\n",
    "Name: 463, dtype: int64"
   ]
  },
  {
   "cell_type": "markdown",
   "id": "06b225e2",
   "metadata": {},
   "source": [
    "nombre_infected      1054\n",
    "nombre_sain          2308\n",
    "nombre_exposed        613\n",
    "nombre_recovered    16025\n",
    "Name: 464, dtype: int64"
   ]
  },
  {
   "cell_type": "markdown",
   "id": "3a34b789",
   "metadata": {},
   "source": [
    "nombre_infected      1069\n",
    "nombre_sain          2306\n",
    "nombre_exposed        592\n",
    "nombre_recovered    16033\n",
    "Name: 465, dtype: int64"
   ]
  },
  {
   "cell_type": "markdown",
   "id": "0b1a1668",
   "metadata": {},
   "source": [
    "nombre_infected      1038\n",
    "nombre_sain          2298\n",
    "nombre_exposed        596\n",
    "nombre_recovered    16068\n",
    "Name: 466, dtype: int64"
   ]
  },
  {
   "cell_type": "markdown",
   "id": "d57f99ad",
   "metadata": {},
   "source": [
    "nombre_infected      1031\n",
    "nombre_sain          2268\n",
    "nombre_exposed        606\n",
    "nombre_recovered    16095\n",
    "Name: 467, dtype: int64"
   ]
  },
  {
   "cell_type": "markdown",
   "id": "765c9e37",
   "metadata": {},
   "source": [
    "nombre_infected      1018\n",
    "nombre_sain          2246\n",
    "nombre_exposed        622\n",
    "nombre_recovered    16114\n",
    "Name: 468, dtype: int64"
   ]
  },
  {
   "cell_type": "markdown",
   "id": "71f1c93c",
   "metadata": {},
   "source": [
    "nombre_infected      1038\n",
    "nombre_sain          2216\n",
    "nombre_exposed        624\n",
    "nombre_recovered    16122\n",
    "Name: 469, dtype: int64"
   ]
  },
  {
   "cell_type": "markdown",
   "id": "8eef0780",
   "metadata": {},
   "source": [
    "nombre_infected      1008\n",
    "nombre_sain          2191\n",
    "nombre_exposed        630\n",
    "nombre_recovered    16171\n",
    "Name: 470, dtype: int64"
   ]
  },
  {
   "cell_type": "markdown",
   "id": "35c05939",
   "metadata": {},
   "source": [
    "nombre_infected      1026\n",
    "nombre_sain          2198\n",
    "nombre_exposed        614\n",
    "nombre_recovered    16162\n",
    "Name: 471, dtype: int64"
   ]
  },
  {
   "cell_type": "markdown",
   "id": "cc4e7e5e",
   "metadata": {},
   "source": [
    "nombre_infected      1045\n",
    "nombre_sain          2167\n",
    "nombre_exposed        618\n",
    "nombre_recovered    16170\n",
    "Name: 472, dtype: int64"
   ]
  },
  {
   "cell_type": "markdown",
   "id": "51f3296f",
   "metadata": {},
   "source": [
    "nombre_infected      1023\n",
    "nombre_sain          2149\n",
    "nombre_exposed        626\n",
    "nombre_recovered    16202\n",
    "Name: 473, dtype: int64"
   ]
  },
  {
   "cell_type": "markdown",
   "id": "7fe081e5",
   "metadata": {},
   "source": [
    "nombre_infected      1044\n",
    "nombre_sain          2124\n",
    "nombre_exposed        616\n",
    "nombre_recovered    16216\n",
    "Name: 474, dtype: int64"
   ]
  },
  {
   "cell_type": "markdown",
   "id": "78146402",
   "metadata": {},
   "source": [
    "nombre_infected      1026\n",
    "nombre_sain          2120\n",
    "nombre_exposed        621\n",
    "nombre_recovered    16233\n",
    "Name: 475, dtype: int64"
   ]
  },
  {
   "cell_type": "markdown",
   "id": "82a51a5f",
   "metadata": {},
   "source": [
    "nombre_infected      1033\n",
    "nombre_sain          2142\n",
    "nombre_exposed        597\n",
    "nombre_recovered    16228\n",
    "Name: 476, dtype: int64"
   ]
  },
  {
   "cell_type": "markdown",
   "id": "7abf3d1a",
   "metadata": {},
   "source": [
    "nombre_infected      1049\n",
    "nombre_sain          2149\n",
    "nombre_exposed        560\n",
    "nombre_recovered    16242\n",
    "Name: 477, dtype: int64"
   ]
  },
  {
   "cell_type": "markdown",
   "id": "49eff8f2",
   "metadata": {},
   "source": [
    "nombre_infected      1019\n",
    "nombre_sain          2152\n",
    "nombre_exposed        578\n",
    "nombre_recovered    16251\n",
    "Name: 478, dtype: int64"
   ]
  },
  {
   "cell_type": "markdown",
   "id": "b199fd77",
   "metadata": {},
   "source": [
    "nombre_infected      1009\n",
    "nombre_sain          2171\n",
    "nombre_exposed        567\n",
    "nombre_recovered    16253\n",
    "Name: 479, dtype: int64"
   ]
  },
  {
   "cell_type": "markdown",
   "id": "6daf4c7e",
   "metadata": {},
   "source": [
    "nombre_infected       992\n",
    "nombre_sain          2181\n",
    "nombre_exposed        556\n",
    "nombre_recovered    16271\n",
    "Name: 480, dtype: int64"
   ]
  },
  {
   "cell_type": "markdown",
   "id": "9492cd56",
   "metadata": {},
   "source": [
    "nombre_infected       985\n",
    "nombre_sain          2193\n",
    "nombre_exposed        546\n",
    "nombre_recovered    16276\n",
    "Name: 481, dtype: int64"
   ]
  },
  {
   "cell_type": "markdown",
   "id": "a54b5304",
   "metadata": {},
   "source": [
    "nombre_infected       985\n",
    "nombre_sain          2206\n",
    "nombre_exposed        530\n",
    "nombre_recovered    16279\n",
    "Name: 482, dtype: int64"
   ]
  },
  {
   "cell_type": "markdown",
   "id": "db53a556",
   "metadata": {},
   "source": [
    "nombre_infected       950\n",
    "nombre_sain          2233\n",
    "nombre_exposed        523\n",
    "nombre_recovered    16294\n",
    "Name: 483, dtype: int64"
   ]
  },
  {
   "cell_type": "markdown",
   "id": "2c3ec846",
   "metadata": {},
   "source": [
    "nombre_infected       952\n",
    "nombre_sain          2246\n",
    "nombre_exposed        506\n",
    "nombre_recovered    16296\n",
    "Name: 484, dtype: int64"
   ]
  },
  {
   "cell_type": "markdown",
   "id": "7772ffb2",
   "metadata": {},
   "source": [
    "nombre_infected       941\n",
    "nombre_sain          2246\n",
    "nombre_exposed        531\n",
    "nombre_recovered    16282\n",
    "Name: 485, dtype: int64"
   ]
  },
  {
   "cell_type": "markdown",
   "id": "2932d680",
   "metadata": {},
   "source": [
    "nombre_infected       928\n",
    "nombre_sain          2245\n",
    "nombre_exposed        540\n",
    "nombre_recovered    16287\n",
    "Name: 486, dtype: int64"
   ]
  },
  {
   "cell_type": "markdown",
   "id": "9fa269e5",
   "metadata": {},
   "source": [
    "nombre_infected       910\n",
    "nombre_sain          2248\n",
    "nombre_exposed        543\n",
    "nombre_recovered    16299\n",
    "Name: 487, dtype: int64"
   ]
  },
  {
   "cell_type": "markdown",
   "id": "9c3deef9",
   "metadata": {},
   "source": [
    "nombre_infected       900\n",
    "nombre_sain          2262\n",
    "nombre_exposed        519\n",
    "nombre_recovered    16319\n",
    "Name: 488, dtype: int64"
   ]
  },
  {
   "cell_type": "markdown",
   "id": "c555cc62",
   "metadata": {},
   "source": [
    "nombre_infected       870\n",
    "nombre_sain          2258\n",
    "nombre_exposed        529\n",
    "nombre_recovered    16343\n",
    "Name: 489, dtype: int64"
   ]
  },
  {
   "cell_type": "markdown",
   "id": "00474cf3",
   "metadata": {},
   "source": [
    "nombre_infected       842\n",
    "nombre_sain          2285\n",
    "nombre_exposed        531\n",
    "nombre_recovered    16342\n",
    "Name: 490, dtype: int64"
   ]
  },
  {
   "cell_type": "markdown",
   "id": "a2cd3b39",
   "metadata": {},
   "source": [
    "nombre_infected       844\n",
    "nombre_sain          2322\n",
    "nombre_exposed        510\n",
    "nombre_recovered    16324\n",
    "Name: 491, dtype: int64"
   ]
  },
  {
   "cell_type": "markdown",
   "id": "d0488720",
   "metadata": {},
   "source": [
    "nombre_infected       840\n",
    "nombre_sain          2331\n",
    "nombre_exposed        496\n",
    "nombre_recovered    16333\n",
    "Name: 492, dtype: int64"
   ]
  },
  {
   "cell_type": "markdown",
   "id": "dd9645a1",
   "metadata": {},
   "source": [
    "nombre_infected       831\n",
    "nombre_sain          2328\n",
    "nombre_exposed        494\n",
    "nombre_recovered    16347\n",
    "Name: 493, dtype: int64"
   ]
  },
  {
   "cell_type": "markdown",
   "id": "6a26d259",
   "metadata": {},
   "source": [
    "nombre_infected       833\n",
    "nombre_sain          2348\n",
    "nombre_exposed        490\n",
    "nombre_recovered    16329\n",
    "Name: 494, dtype: int64"
   ]
  },
  {
   "cell_type": "markdown",
   "id": "ece1f87d",
   "metadata": {},
   "source": [
    "nombre_infected       824\n",
    "nombre_sain          2379\n",
    "nombre_exposed        494\n",
    "nombre_recovered    16303\n",
    "Name: 495, dtype: int64"
   ]
  },
  {
   "cell_type": "markdown",
   "id": "fd64c87b",
   "metadata": {},
   "source": [
    "nombre_infected       818\n",
    "nombre_sain          2392\n",
    "nombre_exposed        503\n",
    "nombre_recovered    16287\n",
    "Name: 496, dtype: int64"
   ]
  },
  {
   "cell_type": "markdown",
   "id": "fd48af49",
   "metadata": {},
   "source": [
    "nombre_infected       792\n",
    "nombre_sain          2445\n",
    "nombre_exposed        489\n",
    "nombre_recovered    16274\n",
    "Name: 497, dtype: int64"
   ]
  },
  {
   "cell_type": "markdown",
   "id": "6bcfc5b7",
   "metadata": {},
   "source": [
    "nombre_infected       787\n",
    "nombre_sain          2465\n",
    "nombre_exposed        489\n",
    "nombre_recovered    16259\n",
    "Name: 498, dtype: int64"
   ]
  },
  {
   "cell_type": "markdown",
   "id": "994f2a9a",
   "metadata": {},
   "source": [
    "nombre_infected       776\n",
    "nombre_sain          2494\n",
    "nombre_exposed        482\n",
    "nombre_recovered    16248\n",
    "Name: 499, dtype: int64"
   ]
  },
  {
   "cell_type": "markdown",
   "id": "1c23420e",
   "metadata": {},
   "source": [
    "nombre_infected       760\n",
    "nombre_sain          2517\n",
    "nombre_exposed        489\n",
    "nombre_recovered    16234\n",
    "Name: 500, dtype: int64"
   ]
  },
  {
   "cell_type": "markdown",
   "id": "3adf63de",
   "metadata": {},
   "source": [
    "nombre_infected       752\n",
    "nombre_sain          2570\n",
    "nombre_exposed        487\n",
    "nombre_recovered    16191\n",
    "Name: 501, dtype: int64"
   ]
  },
  {
   "cell_type": "markdown",
   "id": "0f23b0d3",
   "metadata": {},
   "source": [
    "nombre_infected       774\n",
    "nombre_sain          2602\n",
    "nombre_exposed        474\n",
    "nombre_recovered    16150\n",
    "Name: 502, dtype: int64"
   ]
  },
  {
   "cell_type": "markdown",
   "id": "0a50fe87",
   "metadata": {},
   "source": [
    "nombre_infected       773\n",
    "nombre_sain          2617\n",
    "nombre_exposed        495\n",
    "nombre_recovered    16115\n",
    "Name: 503, dtype: int64"
   ]
  },
  {
   "cell_type": "markdown",
   "id": "62d059fe",
   "metadata": {},
   "source": [
    "nombre_infected       760\n",
    "nombre_sain          2647\n",
    "nombre_exposed        504\n",
    "nombre_recovered    16089\n",
    "Name: 504, dtype: int64"
   ]
  },
  {
   "cell_type": "markdown",
   "id": "76680bdf",
   "metadata": {},
   "source": [
    "nombre_infected       761\n",
    "nombre_sain          2691\n",
    "nombre_exposed        489\n",
    "nombre_recovered    16059\n",
    "Name: 505, dtype: int64"
   ]
  },
  {
   "cell_type": "markdown",
   "id": "b4adedbd",
   "metadata": {},
   "source": [
    "nombre_infected       759\n",
    "nombre_sain          2724\n",
    "nombre_exposed        506\n",
    "nombre_recovered    16011\n",
    "Name: 506, dtype: int64"
   ]
  },
  {
   "cell_type": "markdown",
   "id": "de282892",
   "metadata": {},
   "source": [
    "nombre_infected       765\n",
    "nombre_sain          2736\n",
    "nombre_exposed        549\n",
    "nombre_recovered    15950\n",
    "Name: 507, dtype: int64"
   ]
  },
  {
   "cell_type": "markdown",
   "id": "96014e31",
   "metadata": {},
   "source": [
    "nombre_infected       771\n",
    "nombre_sain          2758\n",
    "nombre_exposed        580\n",
    "nombre_recovered    15891\n",
    "Name: 508, dtype: int64"
   ]
  },
  {
   "cell_type": "markdown",
   "id": "a8021666",
   "metadata": {},
   "source": [
    "nombre_infected       784\n",
    "nombre_sain          2743\n",
    "nombre_exposed        596\n",
    "nombre_recovered    15877\n",
    "Name: 509, dtype: int64"
   ]
  },
  {
   "cell_type": "markdown",
   "id": "a1624542",
   "metadata": {},
   "source": [
    "nombre_infected       819\n",
    "nombre_sain          2773\n",
    "nombre_exposed        579\n",
    "nombre_recovered    15829\n",
    "Name: 510, dtype: int64"
   ]
  },
  {
   "cell_type": "markdown",
   "id": "3af84412",
   "metadata": {},
   "source": [
    "nombre_infected       821\n",
    "nombre_sain          2802\n",
    "nombre_exposed        567\n",
    "nombre_recovered    15810\n",
    "Name: 511, dtype: int64"
   ]
  },
  {
   "cell_type": "markdown",
   "id": "36b5d128",
   "metadata": {},
   "source": [
    "nombre_infected       863\n",
    "nombre_sain          2806\n",
    "nombre_exposed        543\n",
    "nombre_recovered    15788\n",
    "Name: 512, dtype: int64"
   ]
  },
  {
   "cell_type": "markdown",
   "id": "e434fe9c",
   "metadata": {},
   "source": [
    "nombre_infected       849\n",
    "nombre_sain          2806\n",
    "nombre_exposed        559\n",
    "nombre_recovered    15786\n",
    "Name: 513, dtype: int64"
   ]
  },
  {
   "cell_type": "markdown",
   "id": "4fe918f1",
   "metadata": {},
   "source": [
    "nombre_infected       831\n",
    "nombre_sain          2786\n",
    "nombre_exposed        584\n",
    "nombre_recovered    15799\n",
    "Name: 514, dtype: int64"
   ]
  },
  {
   "cell_type": "markdown",
   "id": "0cf03bda",
   "metadata": {},
   "source": [
    "nombre_infected       853\n",
    "nombre_sain          2729\n",
    "nombre_exposed        611\n",
    "nombre_recovered    15807\n",
    "Name: 515, dtype: int64"
   ]
  },
  {
   "cell_type": "markdown",
   "id": "e30f9c23",
   "metadata": {},
   "source": [
    "nombre_infected       868\n",
    "nombre_sain          2734\n",
    "nombre_exposed        592\n",
    "nombre_recovered    15806\n",
    "Name: 516, dtype: int64"
   ]
  },
  {
   "cell_type": "markdown",
   "id": "9d31f801",
   "metadata": {},
   "source": [
    "nombre_infected       902\n",
    "nombre_sain          2690\n",
    "nombre_exposed        606\n",
    "nombre_recovered    15802\n",
    "Name: 517, dtype: int64"
   ]
  },
  {
   "cell_type": "markdown",
   "id": "972fca17",
   "metadata": {},
   "source": [
    "nombre_infected       919\n",
    "nombre_sain          2663\n",
    "nombre_exposed        618\n",
    "nombre_recovered    15800\n",
    "Name: 518, dtype: int64"
   ]
  },
  {
   "cell_type": "markdown",
   "id": "ea8b9ecb",
   "metadata": {},
   "source": [
    "nombre_infected       936\n",
    "nombre_sain          2633\n",
    "nombre_exposed        620\n",
    "nombre_recovered    15811\n",
    "Name: 519, dtype: int64"
   ]
  },
  {
   "cell_type": "markdown",
   "id": "f272224b",
   "metadata": {},
   "source": [
    "nombre_infected       947\n",
    "nombre_sain          2589\n",
    "nombre_exposed        646\n",
    "nombre_recovered    15818\n",
    "Name: 520, dtype: int64"
   ]
  },
  {
   "cell_type": "markdown",
   "id": "75ef9605",
   "metadata": {},
   "source": [
    "nombre_infected       952\n",
    "nombre_sain          2575\n",
    "nombre_exposed        634\n",
    "nombre_recovered    15839\n",
    "Name: 521, dtype: int64"
   ]
  },
  {
   "cell_type": "markdown",
   "id": "e473ac46",
   "metadata": {},
   "source": [
    "nombre_infected       981\n",
    "nombre_sain          2581\n",
    "nombre_exposed        611\n",
    "nombre_recovered    15827\n",
    "Name: 522, dtype: int64"
   ]
  },
  {
   "cell_type": "markdown",
   "id": "8ad797ea",
   "metadata": {},
   "source": [
    "nombre_infected      1003\n",
    "nombre_sain          2560\n",
    "nombre_exposed        609\n",
    "nombre_recovered    15828\n",
    "Name: 523, dtype: int64"
   ]
  },
  {
   "cell_type": "markdown",
   "id": "c37857c7",
   "metadata": {},
   "source": [
    "nombre_infected       999\n",
    "nombre_sain          2543\n",
    "nombre_exposed        639\n",
    "nombre_recovered    15819\n",
    "Name: 524, dtype: int64"
   ]
  },
  {
   "cell_type": "markdown",
   "id": "7d19b085",
   "metadata": {},
   "source": [
    "nombre_infected       992\n",
    "nombre_sain          2522\n",
    "nombre_exposed        651\n",
    "nombre_recovered    15835\n",
    "Name: 525, dtype: int64"
   ]
  },
  {
   "cell_type": "markdown",
   "id": "03c22635",
   "metadata": {},
   "source": [
    "nombre_infected      1033\n",
    "nombre_sain          2518\n",
    "nombre_exposed        619\n",
    "nombre_recovered    15830\n",
    "Name: 526, dtype: int64"
   ]
  },
  {
   "cell_type": "markdown",
   "id": "35fa4bf4",
   "metadata": {},
   "source": [
    "nombre_infected      1029\n",
    "nombre_sain          2470\n",
    "nombre_exposed        646\n",
    "nombre_recovered    15855\n",
    "Name: 527, dtype: int64"
   ]
  },
  {
   "cell_type": "markdown",
   "id": "1f8f2d51",
   "metadata": {},
   "source": [
    "nombre_infected      1062\n",
    "nombre_sain          2446\n",
    "nombre_exposed        631\n",
    "nombre_recovered    15861\n",
    "Name: 528, dtype: int64"
   ]
  },
  {
   "cell_type": "markdown",
   "id": "378a973d",
   "metadata": {},
   "source": [
    "nombre_infected      1068\n",
    "nombre_sain          2405\n",
    "nombre_exposed        640\n",
    "nombre_recovered    15887\n",
    "Name: 529, dtype: int64"
   ]
  },
  {
   "cell_type": "markdown",
   "id": "ecfb397d",
   "metadata": {},
   "source": [
    "nombre_infected      1058\n",
    "nombre_sain          2403\n",
    "nombre_exposed        645\n",
    "nombre_recovered    15894\n",
    "Name: 530, dtype: int64"
   ]
  },
  {
   "cell_type": "markdown",
   "id": "85566eb8",
   "metadata": {},
   "source": [
    "nombre_infected      1059\n",
    "nombre_sain          2385\n",
    "nombre_exposed        661\n",
    "nombre_recovered    15895\n",
    "Name: 531, dtype: int64"
   ]
  },
  {
   "cell_type": "markdown",
   "id": "7258d0f4",
   "metadata": {},
   "source": [
    "nombre_infected      1061\n",
    "nombre_sain          2370\n",
    "nombre_exposed        662\n",
    "nombre_recovered    15907\n",
    "Name: 532, dtype: int64"
   ]
  },
  {
   "cell_type": "markdown",
   "id": "15bbdf0d",
   "metadata": {},
   "source": [
    "nombre_infected      1076\n",
    "nombre_sain          2345\n",
    "nombre_exposed        646\n",
    "nombre_recovered    15933\n",
    "Name: 533, dtype: int64"
   ]
  },
  {
   "cell_type": "markdown",
   "id": "99a8c0cc",
   "metadata": {},
   "source": [
    "nombre_infected      1066\n",
    "nombre_sain          2341\n",
    "nombre_exposed        639\n",
    "nombre_recovered    15954\n",
    "Name: 534, dtype: int64"
   ]
  },
  {
   "cell_type": "markdown",
   "id": "89530d7d",
   "metadata": {},
   "source": [
    "nombre_infected      1084\n",
    "nombre_sain          2339\n",
    "nombre_exposed        598\n",
    "nombre_recovered    15979\n",
    "Name: 535, dtype: int64"
   ]
  },
  {
   "cell_type": "markdown",
   "id": "5fce05ed",
   "metadata": {},
   "source": [
    "nombre_infected      1054\n",
    "nombre_sain          2321\n",
    "nombre_exposed        606\n",
    "nombre_recovered    16019\n",
    "Name: 536, dtype: int64"
   ]
  },
  {
   "cell_type": "markdown",
   "id": "9e5c98ac",
   "metadata": {},
   "source": [
    "nombre_infected      1040\n",
    "nombre_sain          2339\n",
    "nombre_exposed        597\n",
    "nombre_recovered    16024\n",
    "Name: 537, dtype: int64"
   ]
  },
  {
   "cell_type": "markdown",
   "id": "0a93bfaa",
   "metadata": {},
   "source": [
    "nombre_infected      1041\n",
    "nombre_sain          2302\n",
    "nombre_exposed        598\n",
    "nombre_recovered    16059\n",
    "Name: 538, dtype: int64"
   ]
  },
  {
   "cell_type": "markdown",
   "id": "10d02a8b",
   "metadata": {},
   "source": [
    "nombre_infected      1018\n",
    "nombre_sain          2286\n",
    "nombre_exposed        619\n",
    "nombre_recovered    16077\n",
    "Name: 539, dtype: int64"
   ]
  },
  {
   "cell_type": "markdown",
   "id": "0a9ae181",
   "metadata": {},
   "source": [
    "nombre_infected       996\n",
    "nombre_sain          2293\n",
    "nombre_exposed        601\n",
    "nombre_recovered    16110\n",
    "Name: 540, dtype: int64"
   ]
  },
  {
   "cell_type": "markdown",
   "id": "b1648595",
   "metadata": {},
   "source": [
    "nombre_infected       976\n",
    "nombre_sain          2295\n",
    "nombre_exposed        597\n",
    "nombre_recovered    16132\n",
    "Name: 541, dtype: int64"
   ]
  },
  {
   "cell_type": "markdown",
   "id": "58af96bb",
   "metadata": {},
   "source": [
    "nombre_infected       990\n",
    "nombre_sain          2285\n",
    "nombre_exposed        605\n",
    "nombre_recovered    16120\n",
    "Name: 542, dtype: int64"
   ]
  },
  {
   "cell_type": "markdown",
   "id": "5b7616f1",
   "metadata": {},
   "source": [
    "nombre_infected       968\n",
    "nombre_sain          2303\n",
    "nombre_exposed        605\n",
    "nombre_recovered    16124\n",
    "Name: 543, dtype: int64"
   ]
  },
  {
   "cell_type": "markdown",
   "id": "7d627719",
   "metadata": {},
   "source": [
    "nombre_infected       982\n",
    "nombre_sain          2318\n",
    "nombre_exposed        580\n",
    "nombre_recovered    16120\n",
    "Name: 544, dtype: int64"
   ]
  },
  {
   "cell_type": "markdown",
   "id": "8a925993",
   "metadata": {},
   "source": [
    "nombre_infected       984\n",
    "nombre_sain          2340\n",
    "nombre_exposed        595\n",
    "nombre_recovered    16081\n",
    "Name: 545, dtype: int64"
   ]
  },
  {
   "cell_type": "markdown",
   "id": "15621d49",
   "metadata": {},
   "source": [
    "nombre_infected       954\n",
    "nombre_sain          2337\n",
    "nombre_exposed        619\n",
    "nombre_recovered    16090\n",
    "Name: 546, dtype: int64"
   ]
  },
  {
   "cell_type": "markdown",
   "id": "20ada45f",
   "metadata": {},
   "source": [
    "nombre_infected       944\n",
    "nombre_sain          2358\n",
    "nombre_exposed        609\n",
    "nombre_recovered    16089\n",
    "Name: 547, dtype: int64"
   ]
  },
  {
   "cell_type": "markdown",
   "id": "1c3ffd4b",
   "metadata": {},
   "source": [
    "nombre_infected       935\n",
    "nombre_sain          2358\n",
    "nombre_exposed        625\n",
    "nombre_recovered    16082\n",
    "Name: 548, dtype: int64"
   ]
  },
  {
   "cell_type": "markdown",
   "id": "08bbdedd",
   "metadata": {},
   "source": [
    "nombre_infected       936\n",
    "nombre_sain          2368\n",
    "nombre_exposed        615\n",
    "nombre_recovered    16081\n",
    "Name: 549, dtype: int64"
   ]
  },
  {
   "cell_type": "markdown",
   "id": "fa1f99f6",
   "metadata": {},
   "source": [
    "nombre_infected       932\n",
    "nombre_sain          2368\n",
    "nombre_exposed        611\n",
    "nombre_recovered    16089\n",
    "Name: 550, dtype: int64"
   ]
  },
  {
   "cell_type": "markdown",
   "id": "25289dcd",
   "metadata": {},
   "source": [
    "nombre_infected       931\n",
    "nombre_sain          2391\n",
    "nombre_exposed        596\n",
    "nombre_recovered    16082\n",
    "Name: 551, dtype: int64"
   ]
  },
  {
   "cell_type": "markdown",
   "id": "d81dd8e3",
   "metadata": {},
   "source": [
    "nombre_infected       919\n",
    "nombre_sain          2411\n",
    "nombre_exposed        580\n",
    "nombre_recovered    16090\n",
    "Name: 552, dtype: int64"
   ]
  },
  {
   "cell_type": "markdown",
   "id": "0e896062",
   "metadata": {},
   "source": [
    "nombre_infected       961\n",
    "nombre_sain          2415\n",
    "nombre_exposed        570\n",
    "nombre_recovered    16054\n",
    "Name: 553, dtype: int64"
   ]
  },
  {
   "cell_type": "markdown",
   "id": "08fc8a28",
   "metadata": {},
   "source": [
    "nombre_infected       945\n",
    "nombre_sain          2432\n",
    "nombre_exposed        576\n",
    "nombre_recovered    16047\n",
    "Name: 554, dtype: int64"
   ]
  },
  {
   "cell_type": "markdown",
   "id": "e7e31b6c",
   "metadata": {},
   "source": [
    "nombre_infected       959\n",
    "nombre_sain          2417\n",
    "nombre_exposed        573\n",
    "nombre_recovered    16051\n",
    "Name: 555, dtype: int64"
   ]
  },
  {
   "cell_type": "markdown",
   "id": "fcc86022",
   "metadata": {},
   "source": [
    "nombre_infected       942\n",
    "nombre_sain          2428\n",
    "nombre_exposed        585\n",
    "nombre_recovered    16045\n",
    "Name: 556, dtype: int64"
   ]
  },
  {
   "cell_type": "markdown",
   "id": "9b95b49c",
   "metadata": {},
   "source": [
    "nombre_infected       959\n",
    "nombre_sain          2471\n",
    "nombre_exposed        541\n",
    "nombre_recovered    16029\n",
    "Name: 557, dtype: int64"
   ]
  },
  {
   "cell_type": "markdown",
   "id": "b67307e2",
   "metadata": {},
   "source": [
    "nombre_infected       952\n",
    "nombre_sain          2495\n",
    "nombre_exposed        537\n",
    "nombre_recovered    16016\n",
    "Name: 558, dtype: int64"
   ]
  },
  {
   "cell_type": "markdown",
   "id": "257076d6",
   "metadata": {},
   "source": [
    "nombre_infected       948\n",
    "nombre_sain          2523\n",
    "nombre_exposed        547\n",
    "nombre_recovered    15982\n",
    "Name: 559, dtype: int64"
   ]
  },
  {
   "cell_type": "markdown",
   "id": "51067992",
   "metadata": {},
   "source": [
    "nombre_infected       930\n",
    "nombre_sain          2536\n",
    "nombre_exposed        577\n",
    "nombre_recovered    15957\n",
    "Name: 560, dtype: int64"
   ]
  },
  {
   "cell_type": "markdown",
   "id": "dba3a2fa",
   "metadata": {},
   "source": [
    "nombre_infected       911\n",
    "nombre_sain          2532\n",
    "nombre_exposed        604\n",
    "nombre_recovered    15953\n",
    "Name: 561, dtype: int64"
   ]
  },
  {
   "cell_type": "markdown",
   "id": "7e3ef774",
   "metadata": {},
   "source": [
    "nombre_infected       949\n",
    "nombre_sain          2523\n",
    "nombre_exposed        603\n",
    "nombre_recovered    15925\n",
    "Name: 562, dtype: int64"
   ]
  },
  {
   "cell_type": "markdown",
   "id": "3db9b15a",
   "metadata": {},
   "source": [
    "nombre_infected       967\n",
    "nombre_sain          2554\n",
    "nombre_exposed        598\n",
    "nombre_recovered    15881\n",
    "Name: 563, dtype: int64"
   ]
  },
  {
   "cell_type": "markdown",
   "id": "f0b00a68",
   "metadata": {},
   "source": [
    "nombre_infected       971\n",
    "nombre_sain          2572\n",
    "nombre_exposed        575\n",
    "nombre_recovered    15882\n",
    "Name: 564, dtype: int64"
   ]
  },
  {
   "cell_type": "markdown",
   "id": "eb4236ce",
   "metadata": {},
   "source": [
    "nombre_infected       982\n",
    "nombre_sain          2577\n",
    "nombre_exposed        575\n",
    "nombre_recovered    15866\n",
    "Name: 565, dtype: int64"
   ]
  },
  {
   "cell_type": "markdown",
   "id": "7e422007",
   "metadata": {},
   "source": [
    "nombre_infected       970\n",
    "nombre_sain          2560\n",
    "nombre_exposed        605\n",
    "nombre_recovered    15865\n",
    "Name: 566, dtype: int64"
   ]
  },
  {
   "cell_type": "markdown",
   "id": "59078981",
   "metadata": {},
   "source": [
    "nombre_infected       966\n",
    "nombre_sain          2534\n",
    "nombre_exposed        654\n",
    "nombre_recovered    15846\n",
    "Name: 567, dtype: int64"
   ]
  },
  {
   "cell_type": "markdown",
   "id": "eb88fe14",
   "metadata": {},
   "source": [
    "nombre_infected       968\n",
    "nombre_sain          2519\n",
    "nombre_exposed        671\n",
    "nombre_recovered    15842\n",
    "Name: 568, dtype: int64"
   ]
  },
  {
   "cell_type": "markdown",
   "id": "ec2c4e99",
   "metadata": {},
   "source": [
    "nombre_infected       987\n",
    "nombre_sain          2504\n",
    "nombre_exposed        664\n",
    "nombre_recovered    15845\n",
    "Name: 569, dtype: int64"
   ]
  },
  {
   "cell_type": "markdown",
   "id": "80d6aee5",
   "metadata": {},
   "source": [
    "nombre_infected      1002\n",
    "nombre_sain          2480\n",
    "nombre_exposed        675\n",
    "nombre_recovered    15843\n",
    "Name: 570, dtype: int64"
   ]
  },
  {
   "cell_type": "markdown",
   "id": "f0327ff9",
   "metadata": {},
   "source": [
    "nombre_infected      1007\n",
    "nombre_sain          2462\n",
    "nombre_exposed        683\n",
    "nombre_recovered    15848\n",
    "Name: 571, dtype: int64"
   ]
  },
  {
   "cell_type": "markdown",
   "id": "5d5698a7",
   "metadata": {},
   "source": [
    "nombre_infected      1027\n",
    "nombre_sain          2445\n",
    "nombre_exposed        680\n",
    "nombre_recovered    15848\n",
    "Name: 572, dtype: int64"
   ]
  },
  {
   "cell_type": "markdown",
   "id": "f03148d3",
   "metadata": {},
   "source": [
    "nombre_infected      1046\n",
    "nombre_sain          2412\n",
    "nombre_exposed        682\n",
    "nombre_recovered    15860\n",
    "Name: 573, dtype: int64"
   ]
  },
  {
   "cell_type": "markdown",
   "id": "70eb2887",
   "metadata": {},
   "source": [
    "nombre_infected      1097\n",
    "nombre_sain          2357\n",
    "nombre_exposed        683\n",
    "nombre_recovered    15863\n",
    "Name: 574, dtype: int64"
   ]
  },
  {
   "cell_type": "markdown",
   "id": "40ce9b83",
   "metadata": {},
   "source": [
    "nombre_infected      1113\n",
    "nombre_sain          2338\n",
    "nombre_exposed        683\n",
    "nombre_recovered    15866\n",
    "Name: 575, dtype: int64"
   ]
  },
  {
   "cell_type": "markdown",
   "id": "5d6483d3",
   "metadata": {},
   "source": [
    "nombre_infected      1130\n",
    "nombre_sain          2335\n",
    "nombre_exposed        662\n",
    "nombre_recovered    15873\n",
    "Name: 576, dtype: int64"
   ]
  },
  {
   "cell_type": "markdown",
   "id": "95bbebe8",
   "metadata": {},
   "source": [
    "nombre_infected      1099\n",
    "nombre_sain          2301\n",
    "nombre_exposed        674\n",
    "nombre_recovered    15926\n",
    "Name: 577, dtype: int64"
   ]
  },
  {
   "cell_type": "markdown",
   "id": "4080131b",
   "metadata": {},
   "source": [
    "nombre_infected      1093\n",
    "nombre_sain          2296\n",
    "nombre_exposed        648\n",
    "nombre_recovered    15963\n",
    "Name: 578, dtype: int64"
   ]
  },
  {
   "cell_type": "markdown",
   "id": "3b5685d6",
   "metadata": {},
   "source": [
    "nombre_infected      1098\n",
    "nombre_sain          2288\n",
    "nombre_exposed        630\n",
    "nombre_recovered    15984\n",
    "Name: 579, dtype: int64"
   ]
  },
  {
   "cell_type": "markdown",
   "id": "dab5f8a3",
   "metadata": {},
   "source": [
    "nombre_infected      1091\n",
    "nombre_sain          2259\n",
    "nombre_exposed        643\n",
    "nombre_recovered    16007\n",
    "Name: 580, dtype: int64"
   ]
  },
  {
   "cell_type": "markdown",
   "id": "af90bfb0",
   "metadata": {},
   "source": [
    "nombre_infected      1098\n",
    "nombre_sain          2249\n",
    "nombre_exposed        636\n",
    "nombre_recovered    16017\n",
    "Name: 581, dtype: int64"
   ]
  },
  {
   "cell_type": "markdown",
   "id": "fc073e52",
   "metadata": {},
   "source": [
    "nombre_infected      1087\n",
    "nombre_sain          2258\n",
    "nombre_exposed        610\n",
    "nombre_recovered    16045\n",
    "Name: 582, dtype: int64"
   ]
  },
  {
   "cell_type": "markdown",
   "id": "3219b58a",
   "metadata": {},
   "source": [
    "nombre_infected      1085\n",
    "nombre_sain          2249\n",
    "nombre_exposed        593\n",
    "nombre_recovered    16073\n",
    "Name: 583, dtype: int64"
   ]
  },
  {
   "cell_type": "markdown",
   "id": "b4cea3e9",
   "metadata": {},
   "source": [
    "nombre_infected      1052\n",
    "nombre_sain          2249\n",
    "nombre_exposed        599\n",
    "nombre_recovered    16100\n",
    "Name: 584, dtype: int64"
   ]
  },
  {
   "cell_type": "markdown",
   "id": "d8b4e22a",
   "metadata": {},
   "source": [
    "nombre_infected      1039\n",
    "nombre_sain          2275\n",
    "nombre_exposed        591\n",
    "nombre_recovered    16095\n",
    "Name: 585, dtype: int64"
   ]
  },
  {
   "cell_type": "markdown",
   "id": "2cd722c1",
   "metadata": {},
   "source": [
    "nombre_infected      1050\n",
    "nombre_sain          2273\n",
    "nombre_exposed        573\n",
    "nombre_recovered    16104\n",
    "Name: 586, dtype: int64"
   ]
  },
  {
   "cell_type": "markdown",
   "id": "3735dc9b",
   "metadata": {},
   "source": [
    "nombre_infected      1020\n",
    "nombre_sain          2282\n",
    "nombre_exposed        591\n",
    "nombre_recovered    16107\n",
    "Name: 587, dtype: int64"
   ]
  },
  {
   "cell_type": "markdown",
   "id": "07f1b61d",
   "metadata": {},
   "source": [
    "nombre_infected      1018\n",
    "nombre_sain          2278\n",
    "nombre_exposed        596\n",
    "nombre_recovered    16108\n",
    "Name: 588, dtype: int64"
   ]
  },
  {
   "cell_type": "markdown",
   "id": "eac8f7ca",
   "metadata": {},
   "source": [
    "nombre_infected       998\n",
    "nombre_sain          2282\n",
    "nombre_exposed        614\n",
    "nombre_recovered    16106\n",
    "Name: 589, dtype: int64"
   ]
  },
  {
   "cell_type": "markdown",
   "id": "77e5ea5c",
   "metadata": {},
   "source": [
    "nombre_infected       996\n",
    "nombre_sain          2270\n",
    "nombre_exposed        609\n",
    "nombre_recovered    16125\n",
    "Name: 590, dtype: int64"
   ]
  },
  {
   "cell_type": "markdown",
   "id": "4cae9ed6",
   "metadata": {},
   "source": [
    "nombre_infected       980\n",
    "nombre_sain          2257\n",
    "nombre_exposed        635\n",
    "nombre_recovered    16128\n",
    "Name: 591, dtype: int64"
   ]
  },
  {
   "cell_type": "markdown",
   "id": "e42808b6",
   "metadata": {},
   "source": [
    "nombre_infected      1003\n",
    "nombre_sain          2252\n",
    "nombre_exposed        626\n",
    "nombre_recovered    16119\n",
    "Name: 592, dtype: int64"
   ]
  },
  {
   "cell_type": "markdown",
   "id": "d0de08b8",
   "metadata": {},
   "source": [
    "nombre_infected      1002\n",
    "nombre_sain          2255\n",
    "nombre_exposed        628\n",
    "nombre_recovered    16115\n",
    "Name: 593, dtype: int64"
   ]
  },
  {
   "cell_type": "markdown",
   "id": "9ac1b4ac",
   "metadata": {},
   "source": [
    "nombre_infected       966\n",
    "nombre_sain          2235\n",
    "nombre_exposed        641\n",
    "nombre_recovered    16158\n",
    "Name: 594, dtype: int64"
   ]
  },
  {
   "cell_type": "markdown",
   "id": "f53b0519",
   "metadata": {},
   "source": [
    "nombre_infected       968\n",
    "nombre_sain          2238\n",
    "nombre_exposed        642\n",
    "nombre_recovered    16152\n",
    "Name: 595, dtype: int64"
   ]
  },
  {
   "cell_type": "markdown",
   "id": "10b83c7d",
   "metadata": {},
   "source": [
    "nombre_infected       996\n",
    "nombre_sain          2252\n",
    "nombre_exposed        622\n",
    "nombre_recovered    16130\n",
    "Name: 596, dtype: int64"
   ]
  },
  {
   "cell_type": "markdown",
   "id": "f14bb875",
   "metadata": {},
   "source": [
    "nombre_infected      1029\n",
    "nombre_sain          2247\n",
    "nombre_exposed        586\n",
    "nombre_recovered    16138\n",
    "Name: 597, dtype: int64"
   ]
  },
  {
   "cell_type": "markdown",
   "id": "e4b7b366",
   "metadata": {},
   "source": [
    "nombre_infected      1030\n",
    "nombre_sain          2228\n",
    "nombre_exposed        598\n",
    "nombre_recovered    16144\n",
    "Name: 598, dtype: int64"
   ]
  },
  {
   "cell_type": "markdown",
   "id": "5a88681f",
   "metadata": {},
   "source": [
    "nombre_infected      1009\n",
    "nombre_sain          2230\n",
    "nombre_exposed        601\n",
    "nombre_recovered    16160\n",
    "Name: 599, dtype: int64"
   ]
  },
  {
   "cell_type": "markdown",
   "id": "f2ce4763",
   "metadata": {},
   "source": [
    "nombre_infected      1017\n",
    "nombre_sain          2220\n",
    "nombre_exposed        611\n",
    "nombre_recovered    16152\n",
    "Name: 600, dtype: int64"
   ]
  },
  {
   "cell_type": "markdown",
   "id": "bb297c50",
   "metadata": {},
   "source": [
    "nombre_infected       989\n",
    "nombre_sain          2256\n",
    "nombre_exposed        625\n",
    "nombre_recovered    16130\n",
    "Name: 601, dtype: int64"
   ]
  },
  {
   "cell_type": "markdown",
   "id": "f8014ed2",
   "metadata": {},
   "source": [
    "nombre_infected       998\n",
    "nombre_sain          2263\n",
    "nombre_exposed        613\n",
    "nombre_recovered    16126\n",
    "Name: 602, dtype: int64"
   ]
  },
  {
   "cell_type": "markdown",
   "id": "a0e46c74",
   "metadata": {},
   "source": [
    "nombre_infected       983\n",
    "nombre_sain          2317\n",
    "nombre_exposed        585\n",
    "nombre_recovered    16115\n",
    "Name: 603, dtype: int64"
   ]
  },
  {
   "cell_type": "markdown",
   "id": "67263632",
   "metadata": {},
   "source": [
    "nombre_infected       980\n",
    "nombre_sain          2324\n",
    "nombre_exposed        569\n",
    "nombre_recovered    16127\n",
    "Name: 604, dtype: int64"
   ]
  },
  {
   "cell_type": "markdown",
   "id": "47848412",
   "metadata": {},
   "source": [
    "nombre_infected       952\n",
    "nombre_sain          2335\n",
    "nombre_exposed        572\n",
    "nombre_recovered    16141\n",
    "Name: 605, dtype: int64"
   ]
  },
  {
   "cell_type": "markdown",
   "id": "f4afcefa",
   "metadata": {},
   "source": [
    "nombre_infected       959\n",
    "nombre_sain          2333\n",
    "nombre_exposed        568\n",
    "nombre_recovered    16140\n",
    "Name: 606, dtype: int64"
   ]
  },
  {
   "cell_type": "markdown",
   "id": "7bfc658a",
   "metadata": {},
   "source": [
    "nombre_infected       977\n",
    "nombre_sain          2379\n",
    "nombre_exposed        549\n",
    "nombre_recovered    16095\n",
    "Name: 607, dtype: int64"
   ]
  },
  {
   "cell_type": "markdown",
   "id": "efa94476",
   "metadata": {},
   "source": [
    "nombre_infected       984\n",
    "nombre_sain          2403\n",
    "nombre_exposed        524\n",
    "nombre_recovered    16089\n",
    "Name: 608, dtype: int64"
   ]
  },
  {
   "cell_type": "markdown",
   "id": "a8821867",
   "metadata": {},
   "source": [
    "nombre_infected       972\n",
    "nombre_sain          2376\n",
    "nombre_exposed        553\n",
    "nombre_recovered    16099\n",
    "Name: 609, dtype: int64"
   ]
  },
  {
   "cell_type": "markdown",
   "id": "45bf0c2f",
   "metadata": {},
   "source": [
    "nombre_infected       951\n",
    "nombre_sain          2392\n",
    "nombre_exposed        569\n",
    "nombre_recovered    16088\n",
    "Name: 610, dtype: int64"
   ]
  },
  {
   "cell_type": "markdown",
   "id": "0cf7c294",
   "metadata": {},
   "source": [
    "nombre_infected       939\n",
    "nombre_sain          2376\n",
    "nombre_exposed        564\n",
    "nombre_recovered    16121\n",
    "Name: 611, dtype: int64"
   ]
  },
  {
   "cell_type": "markdown",
   "id": "f2caa4cf",
   "metadata": {},
   "source": [
    "nombre_infected       976\n",
    "nombre_sain          2364\n",
    "nombre_exposed        546\n",
    "nombre_recovered    16114\n",
    "Name: 612, dtype: int64"
   ]
  },
  {
   "cell_type": "markdown",
   "id": "f6aa78ed",
   "metadata": {},
   "source": [
    "nombre_infected       972\n",
    "nombre_sain          2344\n",
    "nombre_exposed        560\n",
    "nombre_recovered    16124\n",
    "Name: 613, dtype: int64"
   ]
  },
  {
   "cell_type": "markdown",
   "id": "a0902d4c",
   "metadata": {},
   "source": [
    "nombre_infected       950\n",
    "nombre_sain          2307\n",
    "nombre_exposed        618\n",
    "nombre_recovered    16125\n",
    "Name: 614, dtype: int64"
   ]
  },
  {
   "cell_type": "markdown",
   "id": "c7106896",
   "metadata": {},
   "source": [
    "nombre_infected       944\n",
    "nombre_sain          2326\n",
    "nombre_exposed        607\n",
    "nombre_recovered    16123\n",
    "Name: 615, dtype: int64"
   ]
  },
  {
   "cell_type": "markdown",
   "id": "9d12f650",
   "metadata": {},
   "source": [
    "nombre_infected       950\n",
    "nombre_sain          2326\n",
    "nombre_exposed        604\n",
    "nombre_recovered    16120\n",
    "Name: 616, dtype: int64"
   ]
  },
  {
   "cell_type": "markdown",
   "id": "fb4a84da",
   "metadata": {},
   "source": [
    "nombre_infected       965\n",
    "nombre_sain          2314\n",
    "nombre_exposed        582\n",
    "nombre_recovered    16139\n",
    "Name: 617, dtype: int64"
   ]
  },
  {
   "cell_type": "markdown",
   "id": "9c4c835f",
   "metadata": {},
   "source": [
    "nombre_infected       939\n",
    "nombre_sain          2301\n",
    "nombre_exposed        578\n",
    "nombre_recovered    16182\n",
    "Name: 618, dtype: int64"
   ]
  },
  {
   "cell_type": "markdown",
   "id": "d7c30df9",
   "metadata": {},
   "source": [
    "nombre_infected       934\n",
    "nombre_sain          2285\n",
    "nombre_exposed        595\n",
    "nombre_recovered    16186\n",
    "Name: 619, dtype: int64"
   ]
  },
  {
   "cell_type": "markdown",
   "id": "615c55b9",
   "metadata": {},
   "source": [
    "nombre_infected       944\n",
    "nombre_sain          2292\n",
    "nombre_exposed        567\n",
    "nombre_recovered    16197\n",
    "Name: 620, dtype: int64"
   ]
  },
  {
   "cell_type": "markdown",
   "id": "bca0a804",
   "metadata": {},
   "source": [
    "nombre_infected       945\n",
    "nombre_sain          2297\n",
    "nombre_exposed        564\n",
    "nombre_recovered    16194\n",
    "Name: 621, dtype: int64"
   ]
  },
  {
   "cell_type": "markdown",
   "id": "0e40f998",
   "metadata": {},
   "source": [
    "nombre_infected       952\n",
    "nombre_sain          2284\n",
    "nombre_exposed        565\n",
    "nombre_recovered    16199\n",
    "Name: 622, dtype: int64"
   ]
  },
  {
   "cell_type": "markdown",
   "id": "3014d058",
   "metadata": {},
   "source": [
    "nombre_infected       939\n",
    "nombre_sain          2274\n",
    "nombre_exposed        576\n",
    "nombre_recovered    16211\n",
    "Name: 623, dtype: int64"
   ]
  },
  {
   "cell_type": "markdown",
   "id": "2dc49ff8",
   "metadata": {},
   "source": [
    "nombre_infected       966\n",
    "nombre_sain          2297\n",
    "nombre_exposed        549\n",
    "nombre_recovered    16188\n",
    "Name: 624, dtype: int64"
   ]
  },
  {
   "cell_type": "markdown",
   "id": "57a04ba8",
   "metadata": {},
   "source": [
    "nombre_infected       960\n",
    "nombre_sain          2306\n",
    "nombre_exposed        545\n",
    "nombre_recovered    16189\n",
    "Name: 625, dtype: int64"
   ]
  },
  {
   "cell_type": "markdown",
   "id": "93861223",
   "metadata": {},
   "source": [
    "nombre_infected       972\n",
    "nombre_sain          2310\n",
    "nombre_exposed        532\n",
    "nombre_recovered    16186\n",
    "Name: 626, dtype: int64"
   ]
  },
  {
   "cell_type": "markdown",
   "id": "f99e7019",
   "metadata": {},
   "source": [
    "nombre_infected       967\n",
    "nombre_sain          2297\n",
    "nombre_exposed        541\n",
    "nombre_recovered    16195\n",
    "Name: 627, dtype: int64"
   ]
  },
  {
   "cell_type": "markdown",
   "id": "2dc8bfe8",
   "metadata": {},
   "source": [
    "nombre_infected       951\n",
    "nombre_sain          2273\n",
    "nombre_exposed        568\n",
    "nombre_recovered    16208\n",
    "Name: 628, dtype: int64"
   ]
  },
  {
   "cell_type": "markdown",
   "id": "fdd00297",
   "metadata": {},
   "source": [
    "nombre_infected       950\n",
    "nombre_sain          2266\n",
    "nombre_exposed        554\n",
    "nombre_recovered    16230\n",
    "Name: 629, dtype: int64"
   ]
  },
  {
   "cell_type": "markdown",
   "id": "fa05352a",
   "metadata": {},
   "source": [
    "nombre_infected       930\n",
    "nombre_sain          2250\n",
    "nombre_exposed        542\n",
    "nombre_recovered    16278\n",
    "Name: 630, dtype: int64"
   ]
  },
  {
   "cell_type": "markdown",
   "id": "e9b895c5",
   "metadata": {},
   "source": [
    "nombre_infected       930\n",
    "nombre_sain          2242\n",
    "nombre_exposed        531\n",
    "nombre_recovered    16297\n",
    "Name: 631, dtype: int64"
   ]
  },
  {
   "cell_type": "markdown",
   "id": "29e5696a",
   "metadata": {},
   "source": [
    "nombre_infected       910\n",
    "nombre_sain          2260\n",
    "nombre_exposed        533\n",
    "nombre_recovered    16297\n",
    "Name: 632, dtype: int64"
   ]
  },
  {
   "cell_type": "markdown",
   "id": "74f28231",
   "metadata": {},
   "source": [
    "nombre_infected       920\n",
    "nombre_sain          2245\n",
    "nombre_exposed        528\n",
    "nombre_recovered    16307\n",
    "Name: 633, dtype: int64"
   ]
  },
  {
   "cell_type": "markdown",
   "id": "f0af4a26",
   "metadata": {},
   "source": [
    "nombre_infected       903\n",
    "nombre_sain          2240\n",
    "nombre_exposed        520\n",
    "nombre_recovered    16337\n",
    "Name: 634, dtype: int64"
   ]
  },
  {
   "cell_type": "markdown",
   "id": "aacbd9d1",
   "metadata": {},
   "source": [
    "nombre_infected       902\n",
    "nombre_sain          2210\n",
    "nombre_exposed        533\n",
    "nombre_recovered    16355\n",
    "Name: 635, dtype: int64"
   ]
  },
  {
   "cell_type": "markdown",
   "id": "72252e2c",
   "metadata": {},
   "source": [
    "nombre_infected       913\n",
    "nombre_sain          2236\n",
    "nombre_exposed        518\n",
    "nombre_recovered    16333\n",
    "Name: 636, dtype: int64"
   ]
  },
  {
   "cell_type": "markdown",
   "id": "21cc878c",
   "metadata": {},
   "source": [
    "nombre_infected       912\n",
    "nombre_sain          2283\n",
    "nombre_exposed        481\n",
    "nombre_recovered    16324\n",
    "Name: 637, dtype: int64"
   ]
  },
  {
   "cell_type": "markdown",
   "id": "594f58ab",
   "metadata": {},
   "source": [
    "nombre_infected       911\n",
    "nombre_sain          2306\n",
    "nombre_exposed        458\n",
    "nombre_recovered    16325\n",
    "Name: 638, dtype: int64"
   ]
  },
  {
   "cell_type": "markdown",
   "id": "f4ff4845",
   "metadata": {},
   "source": [
    "nombre_infected       901\n",
    "nombre_sain          2298\n",
    "nombre_exposed        483\n",
    "nombre_recovered    16318\n",
    "Name: 639, dtype: int64"
   ]
  },
  {
   "cell_type": "markdown",
   "id": "cdaa2f43",
   "metadata": {},
   "source": [
    "nombre_infected       859\n",
    "nombre_sain          2301\n",
    "nombre_exposed        503\n",
    "nombre_recovered    16337\n",
    "Name: 640, dtype: int64"
   ]
  },
  {
   "cell_type": "markdown",
   "id": "8262ec8d",
   "metadata": {},
   "source": [
    "nombre_infected       840\n",
    "nombre_sain          2295\n",
    "nombre_exposed        500\n",
    "nombre_recovered    16365\n",
    "Name: 641, dtype: int64"
   ]
  },
  {
   "cell_type": "markdown",
   "id": "a7fd15b6",
   "metadata": {},
   "source": [
    "nombre_infected       835\n",
    "nombre_sain          2340\n",
    "nombre_exposed        474\n",
    "nombre_recovered    16351\n",
    "Name: 642, dtype: int64"
   ]
  },
  {
   "cell_type": "markdown",
   "id": "9b772f76",
   "metadata": {},
   "source": [
    "nombre_infected       820\n",
    "nombre_sain          2330\n",
    "nombre_exposed        481\n",
    "nombre_recovered    16369\n",
    "Name: 643, dtype: int64"
   ]
  },
  {
   "cell_type": "markdown",
   "id": "cb2e2958",
   "metadata": {},
   "source": [
    "nombre_infected       817\n",
    "nombre_sain          2358\n",
    "nombre_exposed        463\n",
    "nombre_recovered    16362\n",
    "Name: 644, dtype: int64"
   ]
  },
  {
   "cell_type": "markdown",
   "id": "70a8c84b",
   "metadata": {},
   "source": [
    "nombre_infected       814\n",
    "nombre_sain          2393\n",
    "nombre_exposed        454\n",
    "nombre_recovered    16339\n",
    "Name: 645, dtype: int64"
   ]
  },
  {
   "cell_type": "markdown",
   "id": "5fd0d554",
   "metadata": {},
   "source": [
    "nombre_infected       810\n",
    "nombre_sain          2408\n",
    "nombre_exposed        463\n",
    "nombre_recovered    16319\n",
    "Name: 646, dtype: int64"
   ]
  },
  {
   "cell_type": "markdown",
   "id": "25034390",
   "metadata": {},
   "source": [
    "nombre_infected       792\n",
    "nombre_sain          2419\n",
    "nombre_exposed        480\n",
    "nombre_recovered    16309\n",
    "Name: 647, dtype: int64"
   ]
  },
  {
   "cell_type": "markdown",
   "id": "805cc077",
   "metadata": {},
   "source": [
    "nombre_infected       801\n",
    "nombre_sain          2422\n",
    "nombre_exposed        484\n",
    "nombre_recovered    16293\n",
    "Name: 648, dtype: int64"
   ]
  },
  {
   "cell_type": "markdown",
   "id": "528f44ef",
   "metadata": {},
   "source": [
    "nombre_infected       803\n",
    "nombre_sain          2452\n",
    "nombre_exposed        493\n",
    "nombre_recovered    16252\n",
    "Name: 649, dtype: int64"
   ]
  },
  {
   "cell_type": "markdown",
   "id": "d18d73fb",
   "metadata": {},
   "source": [
    "nombre_infected       801\n",
    "nombre_sain          2467\n",
    "nombre_exposed        494\n",
    "nombre_recovered    16238\n",
    "Name: 650, dtype: int64"
   ]
  },
  {
   "cell_type": "markdown",
   "id": "7bfd95bd",
   "metadata": {},
   "source": [
    "nombre_infected       815\n",
    "nombre_sain          2486\n",
    "nombre_exposed        489\n",
    "nombre_recovered    16210\n",
    "Name: 651, dtype: int64"
   ]
  },
  {
   "cell_type": "markdown",
   "id": "c79ebd04",
   "metadata": {},
   "source": [
    "nombre_infected       798\n",
    "nombre_sain          2507\n",
    "nombre_exposed        517\n",
    "nombre_recovered    16178\n",
    "Name: 652, dtype: int64"
   ]
  },
  {
   "cell_type": "markdown",
   "id": "21954dd0",
   "metadata": {},
   "source": [
    "nombre_infected       812\n",
    "nombre_sain          2539\n",
    "nombre_exposed        509\n",
    "nombre_recovered    16140\n",
    "Name: 653, dtype: int64"
   ]
  },
  {
   "cell_type": "markdown",
   "id": "49cea2ef",
   "metadata": {},
   "source": [
    "nombre_infected       829\n",
    "nombre_sain          2532\n",
    "nombre_exposed        512\n",
    "nombre_recovered    16127\n",
    "Name: 654, dtype: int64"
   ]
  },
  {
   "cell_type": "markdown",
   "id": "25c73317",
   "metadata": {},
   "source": [
    "nombre_infected       825\n",
    "nombre_sain          2564\n",
    "nombre_exposed        488\n",
    "nombre_recovered    16123\n",
    "Name: 655, dtype: int64"
   ]
  },
  {
   "cell_type": "markdown",
   "id": "84b63618",
   "metadata": {},
   "source": [
    "nombre_infected       820\n",
    "nombre_sain          2558\n",
    "nombre_exposed        505\n",
    "nombre_recovered    16117\n",
    "Name: 656, dtype: int64"
   ]
  },
  {
   "cell_type": "markdown",
   "id": "860edf18",
   "metadata": {},
   "source": [
    "nombre_infected       804\n",
    "nombre_sain          2556\n",
    "nombre_exposed        527\n",
    "nombre_recovered    16113\n",
    "Name: 657, dtype: int64"
   ]
  },
  {
   "cell_type": "markdown",
   "id": "5ccb2080",
   "metadata": {},
   "source": [
    "nombre_infected       824\n",
    "nombre_sain          2571\n",
    "nombre_exposed        518\n",
    "nombre_recovered    16087\n",
    "Name: 658, dtype: int64"
   ]
  },
  {
   "cell_type": "markdown",
   "id": "4379c889",
   "metadata": {},
   "source": [
    "nombre_infected       846\n",
    "nombre_sain          2582\n",
    "nombre_exposed        517\n",
    "nombre_recovered    16055\n",
    "Name: 659, dtype: int64"
   ]
  },
  {
   "cell_type": "markdown",
   "id": "52d6451b",
   "metadata": {},
   "source": [
    "nombre_infected       831\n",
    "nombre_sain          2586\n",
    "nombre_exposed        551\n",
    "nombre_recovered    16032\n",
    "Name: 660, dtype: int64"
   ]
  },
  {
   "cell_type": "markdown",
   "id": "eb2bf889",
   "metadata": {},
   "source": [
    "nombre_infected       848\n",
    "nombre_sain          2593\n",
    "nombre_exposed        551\n",
    "nombre_recovered    16008\n",
    "Name: 661, dtype: int64"
   ]
  },
  {
   "cell_type": "markdown",
   "id": "1b4a0662",
   "metadata": {},
   "source": [
    "nombre_infected       866\n",
    "nombre_sain          2591\n",
    "nombre_exposed        560\n",
    "nombre_recovered    15983\n",
    "Name: 662, dtype: int64"
   ]
  },
  {
   "cell_type": "markdown",
   "id": "060ed1a7",
   "metadata": {},
   "source": [
    "nombre_infected       869\n",
    "nombre_sain          2569\n",
    "nombre_exposed        565\n",
    "nombre_recovered    15997\n",
    "Name: 663, dtype: int64"
   ]
  },
  {
   "cell_type": "markdown",
   "id": "a6c393a4",
   "metadata": {},
   "source": [
    "nombre_infected       898\n",
    "nombre_sain          2567\n",
    "nombre_exposed        567\n",
    "nombre_recovered    15968\n",
    "Name: 664, dtype: int64"
   ]
  },
  {
   "cell_type": "markdown",
   "id": "8bd2ae66",
   "metadata": {},
   "source": [
    "nombre_infected       914\n",
    "nombre_sain          2612\n",
    "nombre_exposed        555\n",
    "nombre_recovered    15919\n",
    "Name: 665, dtype: int64"
   ]
  },
  {
   "cell_type": "markdown",
   "id": "0b978944",
   "metadata": {},
   "source": [
    "nombre_infected       945\n",
    "nombre_sain          2639\n",
    "nombre_exposed        537\n",
    "nombre_recovered    15879\n",
    "Name: 666, dtype: int64"
   ]
  },
  {
   "cell_type": "markdown",
   "id": "ecb277b9",
   "metadata": {},
   "source": [
    "nombre_infected       929\n",
    "nombre_sain          2644\n",
    "nombre_exposed        547\n",
    "nombre_recovered    15880\n",
    "Name: 667, dtype: int64"
   ]
  },
  {
   "cell_type": "markdown",
   "id": "844d02d6",
   "metadata": {},
   "source": [
    "nombre_infected       947\n",
    "nombre_sain          2621\n",
    "nombre_exposed        558\n",
    "nombre_recovered    15874\n",
    "Name: 668, dtype: int64"
   ]
  },
  {
   "cell_type": "markdown",
   "id": "478d8e56",
   "metadata": {},
   "source": [
    "nombre_infected       928\n",
    "nombre_sain          2613\n",
    "nombre_exposed        574\n",
    "nombre_recovered    15885\n",
    "Name: 669, dtype: int64"
   ]
  },
  {
   "cell_type": "markdown",
   "id": "ac83da81",
   "metadata": {},
   "source": [
    "nombre_infected       944\n",
    "nombre_sain          2619\n",
    "nombre_exposed        572\n",
    "nombre_recovered    15865\n",
    "Name: 670, dtype: int64"
   ]
  },
  {
   "cell_type": "markdown",
   "id": "b6064d7c",
   "metadata": {},
   "source": [
    "nombre_infected       934\n",
    "nombre_sain          2590\n",
    "nombre_exposed        600\n",
    "nombre_recovered    15876\n",
    "Name: 671, dtype: int64"
   ]
  },
  {
   "cell_type": "markdown",
   "id": "2f42f3e2",
   "metadata": {},
   "source": [
    "nombre_infected       941\n",
    "nombre_sain          2584\n",
    "nombre_exposed        620\n",
    "nombre_recovered    15855\n",
    "Name: 672, dtype: int64"
   ]
  },
  {
   "cell_type": "markdown",
   "id": "4b6bad1a",
   "metadata": {},
   "source": [
    "nombre_infected       957\n",
    "nombre_sain          2588\n",
    "nombre_exposed        618\n",
    "nombre_recovered    15837\n",
    "Name: 673, dtype: int64"
   ]
  },
  {
   "cell_type": "markdown",
   "id": "37fba168",
   "metadata": {},
   "source": [
    "nombre_infected       974\n",
    "nombre_sain          2603\n",
    "nombre_exposed        617\n",
    "nombre_recovered    15806\n",
    "Name: 674, dtype: int64"
   ]
  },
  {
   "cell_type": "markdown",
   "id": "2045c46e",
   "metadata": {},
   "source": [
    "nombre_infected       965\n",
    "nombre_sain          2629\n",
    "nombre_exposed        641\n",
    "nombre_recovered    15765\n",
    "Name: 675, dtype: int64"
   ]
  },
  {
   "cell_type": "markdown",
   "id": "54672513",
   "metadata": {},
   "source": [
    "nombre_infected      1007\n",
    "nombre_sain          2610\n",
    "nombre_exposed        628\n",
    "nombre_recovered    15755\n",
    "Name: 676, dtype: int64"
   ]
  },
  {
   "cell_type": "markdown",
   "id": "622cd70e",
   "metadata": {},
   "source": [
    "nombre_infected      1035\n",
    "nombre_sain          2582\n",
    "nombre_exposed        630\n",
    "nombre_recovered    15753\n",
    "Name: 677, dtype: int64"
   ]
  },
  {
   "cell_type": "markdown",
   "id": "043e2a65",
   "metadata": {},
   "source": [
    "nombre_infected      1038\n",
    "nombre_sain          2574\n",
    "nombre_exposed        629\n",
    "nombre_recovered    15759\n",
    "Name: 678, dtype: int64"
   ]
  },
  {
   "cell_type": "markdown",
   "id": "1563898f",
   "metadata": {},
   "source": [
    "nombre_infected      1069\n",
    "nombre_sain          2546\n",
    "nombre_exposed        629\n",
    "nombre_recovered    15756\n",
    "Name: 679, dtype: int64"
   ]
  },
  {
   "cell_type": "markdown",
   "id": "8ecaa274",
   "metadata": {},
   "source": [
    "nombre_infected      1052\n",
    "nombre_sain          2534\n",
    "nombre_exposed        630\n",
    "nombre_recovered    15784\n",
    "Name: 680, dtype: int64"
   ]
  },
  {
   "cell_type": "markdown",
   "id": "c58a41e9",
   "metadata": {},
   "source": [
    "nombre_infected      1080\n",
    "nombre_sain          2496\n",
    "nombre_exposed        645\n",
    "nombre_recovered    15779\n",
    "Name: 681, dtype: int64"
   ]
  },
  {
   "cell_type": "markdown",
   "id": "bc82b2b4",
   "metadata": {},
   "source": [
    "nombre_infected      1063\n",
    "nombre_sain          2456\n",
    "nombre_exposed        661\n",
    "nombre_recovered    15820\n",
    "Name: 682, dtype: int64"
   ]
  },
  {
   "cell_type": "markdown",
   "id": "b231ae5d",
   "metadata": {},
   "source": [
    "nombre_infected      1076\n",
    "nombre_sain          2433\n",
    "nombre_exposed        664\n",
    "nombre_recovered    15827\n",
    "Name: 683, dtype: int64"
   ]
  },
  {
   "cell_type": "markdown",
   "id": "daae3588",
   "metadata": {},
   "source": [
    "nombre_infected      1097\n",
    "nombre_sain          2412\n",
    "nombre_exposed        662\n",
    "nombre_recovered    15829\n",
    "Name: 684, dtype: int64"
   ]
  },
  {
   "cell_type": "markdown",
   "id": "6d05987c",
   "metadata": {},
   "source": [
    "nombre_infected      1094\n",
    "nombre_sain          2349\n",
    "nombre_exposed        687\n",
    "nombre_recovered    15870\n",
    "Name: 685, dtype: int64"
   ]
  },
  {
   "cell_type": "markdown",
   "id": "0353fa72",
   "metadata": {},
   "source": [
    "nombre_infected      1095\n",
    "nombre_sain          2339\n",
    "nombre_exposed        682\n",
    "nombre_recovered    15884\n",
    "Name: 686, dtype: int64"
   ]
  },
  {
   "cell_type": "markdown",
   "id": "7f2d5c2e",
   "metadata": {},
   "source": [
    "nombre_infected      1087\n",
    "nombre_sain          2327\n",
    "nombre_exposed        686\n",
    "nombre_recovered    15900\n",
    "Name: 687, dtype: int64"
   ]
  },
  {
   "cell_type": "markdown",
   "id": "1870de1a",
   "metadata": {},
   "source": [
    "nombre_infected      1088\n",
    "nombre_sain          2311\n",
    "nombre_exposed        703\n",
    "nombre_recovered    15898\n",
    "Name: 688, dtype: int64"
   ]
  },
  {
   "cell_type": "markdown",
   "id": "3278c25d",
   "metadata": {},
   "source": [
    "nombre_infected      1099\n",
    "nombre_sain          2288\n",
    "nombre_exposed        697\n",
    "nombre_recovered    15916\n",
    "Name: 689, dtype: int64"
   ]
  },
  {
   "cell_type": "markdown",
   "id": "defaafa0",
   "metadata": {},
   "source": [
    "nombre_infected      1110\n",
    "nombre_sain          2281\n",
    "nombre_exposed        705\n",
    "nombre_recovered    15904\n",
    "Name: 690, dtype: int64"
   ]
  },
  {
   "cell_type": "markdown",
   "id": "6c34ac62",
   "metadata": {},
   "source": [
    "nombre_infected      1118\n",
    "nombre_sain          2276\n",
    "nombre_exposed        703\n",
    "nombre_recovered    15903\n",
    "Name: 691, dtype: int64"
   ]
  },
  {
   "cell_type": "markdown",
   "id": "57cc8605",
   "metadata": {},
   "source": [
    "nombre_infected      1114\n",
    "nombre_sain          2260\n",
    "nombre_exposed        701\n",
    "nombre_recovered    15925\n",
    "Name: 692, dtype: int64"
   ]
  },
  {
   "cell_type": "markdown",
   "id": "05e1bcaa",
   "metadata": {},
   "source": [
    "nombre_infected      1143\n",
    "nombre_sain          2259\n",
    "nombre_exposed        663\n",
    "nombre_recovered    15935\n",
    "Name: 693, dtype: int64"
   ]
  },
  {
   "cell_type": "markdown",
   "id": "2250b698",
   "metadata": {},
   "source": [
    "nombre_infected      1150\n",
    "nombre_sain          2244\n",
    "nombre_exposed        641\n",
    "nombre_recovered    15965\n",
    "Name: 694, dtype: int64"
   ]
  },
  {
   "cell_type": "markdown",
   "id": "c505556c",
   "metadata": {},
   "source": [
    "nombre_infected      1157\n",
    "nombre_sain          2262\n",
    "nombre_exposed        620\n",
    "nombre_recovered    15961\n",
    "Name: 695, dtype: int64"
   ]
  },
  {
   "cell_type": "markdown",
   "id": "ac1b3ca2",
   "metadata": {},
   "source": [
    "nombre_infected      1137\n",
    "nombre_sain          2281\n",
    "nombre_exposed        615\n",
    "nombre_recovered    15967\n",
    "Name: 696, dtype: int64"
   ]
  },
  {
   "cell_type": "markdown",
   "id": "776dfdd7",
   "metadata": {},
   "source": [
    "nombre_infected      1136\n",
    "nombre_sain          2266\n",
    "nombre_exposed        601\n",
    "nombre_recovered    15997\n",
    "Name: 697, dtype: int64"
   ]
  },
  {
   "cell_type": "markdown",
   "id": "57e5f2ed",
   "metadata": {},
   "source": [
    "nombre_infected      1137\n",
    "nombre_sain          2282\n",
    "nombre_exposed        587\n",
    "nombre_recovered    15994\n",
    "Name: 698, dtype: int64"
   ]
  },
  {
   "cell_type": "markdown",
   "id": "1c8c61e1",
   "metadata": {},
   "source": [
    "nombre_infected      1115\n",
    "nombre_sain          2255\n",
    "nombre_exposed        621\n",
    "nombre_recovered    16009\n",
    "Name: 699, dtype: int64"
   ]
  },
  {
   "cell_type": "markdown",
   "id": "7f0e6320",
   "metadata": {},
   "source": [
    "nombre_infected      1092\n",
    "nombre_sain          2268\n",
    "nombre_exposed        630\n",
    "nombre_recovered    16010\n",
    "Name: 700, dtype: int64"
   ]
  },
  {
   "cell_type": "markdown",
   "id": "af180543",
   "metadata": {},
   "source": [
    "nombre_infected      1051\n",
    "nombre_sain          2254\n",
    "nombre_exposed        635\n",
    "nombre_recovered    16060\n",
    "Name: 701, dtype: int64"
   ]
  },
  {
   "cell_type": "markdown",
   "id": "51d05933",
   "metadata": {},
   "source": [
    "nombre_infected      1044\n",
    "nombre_sain          2213\n",
    "nombre_exposed        651\n",
    "nombre_recovered    16092\n",
    "Name: 702, dtype: int64"
   ]
  },
  {
   "cell_type": "markdown",
   "id": "3e35cec3",
   "metadata": {},
   "source": [
    "nombre_infected      1049\n",
    "nombre_sain          2190\n",
    "nombre_exposed        652\n",
    "nombre_recovered    16109\n",
    "Name: 703, dtype: int64"
   ]
  },
  {
   "cell_type": "markdown",
   "id": "57a6b9c3",
   "metadata": {},
   "source": [
    "nombre_infected      1061\n",
    "nombre_sain          2160\n",
    "nombre_exposed        667\n",
    "nombre_recovered    16112\n",
    "Name: 704, dtype: int64"
   ]
  },
  {
   "cell_type": "markdown",
   "id": "2e60e3b1",
   "metadata": {},
   "source": [
    "nombre_infected      1056\n",
    "nombre_sain          2185\n",
    "nombre_exposed        653\n",
    "nombre_recovered    16106\n",
    "Name: 705, dtype: int64"
   ]
  },
  {
   "cell_type": "markdown",
   "id": "273d888f",
   "metadata": {},
   "source": [
    "nombre_infected      1065\n",
    "nombre_sain          2176\n",
    "nombre_exposed        646\n",
    "nombre_recovered    16113\n",
    "Name: 706, dtype: int64"
   ]
  },
  {
   "cell_type": "markdown",
   "id": "5ad14cb3",
   "metadata": {},
   "source": [
    "nombre_infected      1044\n",
    "nombre_sain          2174\n",
    "nombre_exposed        644\n",
    "nombre_recovered    16138\n",
    "Name: 707, dtype: int64"
   ]
  },
  {
   "cell_type": "markdown",
   "id": "8f1b3ec8",
   "metadata": {},
   "source": [
    "nombre_infected      1032\n",
    "nombre_sain          2186\n",
    "nombre_exposed        623\n",
    "nombre_recovered    16159\n",
    "Name: 708, dtype: int64"
   ]
  },
  {
   "cell_type": "markdown",
   "id": "9490b08e",
   "metadata": {},
   "source": [
    "nombre_infected      1030\n",
    "nombre_sain          2195\n",
    "nombre_exposed        615\n",
    "nombre_recovered    16160\n",
    "Name: 709, dtype: int64"
   ]
  },
  {
   "cell_type": "markdown",
   "id": "7392b1e4",
   "metadata": {},
   "source": [
    "nombre_infected      1053\n",
    "nombre_sain          2197\n",
    "nombre_exposed        610\n",
    "nombre_recovered    16140\n",
    "Name: 710, dtype: int64"
   ]
  },
  {
   "cell_type": "markdown",
   "id": "a26e167e",
   "metadata": {},
   "source": [
    "nombre_infected      1060\n",
    "nombre_sain          2156\n",
    "nombre_exposed        630\n",
    "nombre_recovered    16154\n",
    "Name: 711, dtype: int64"
   ]
  },
  {
   "cell_type": "markdown",
   "id": "bc92c022",
   "metadata": {},
   "source": [
    "nombre_infected      1032\n",
    "nombre_sain          2166\n",
    "nombre_exposed        616\n",
    "nombre_recovered    16186\n",
    "Name: 712, dtype: int64"
   ]
  },
  {
   "cell_type": "markdown",
   "id": "d5c5b331",
   "metadata": {},
   "source": [
    "nombre_infected      1049\n",
    "nombre_sain          2177\n",
    "nombre_exposed        586\n",
    "nombre_recovered    16188\n",
    "Name: 713, dtype: int64"
   ]
  },
  {
   "cell_type": "markdown",
   "id": "0845a159",
   "metadata": {},
   "source": [
    "nombre_infected      1031\n",
    "nombre_sain          2185\n",
    "nombre_exposed        586\n",
    "nombre_recovered    16198\n",
    "Name: 714, dtype: int64"
   ]
  },
  {
   "cell_type": "markdown",
   "id": "354ceb07",
   "metadata": {},
   "source": [
    "nombre_infected       996\n",
    "nombre_sain          2202\n",
    "nombre_exposed        595\n",
    "nombre_recovered    16207\n",
    "Name: 715, dtype: int64"
   ]
  },
  {
   "cell_type": "markdown",
   "id": "a99dcf57",
   "metadata": {},
   "source": [
    "nombre_infected       973\n",
    "nombre_sain          2208\n",
    "nombre_exposed        586\n",
    "nombre_recovered    16233\n",
    "Name: 716, dtype: int64"
   ]
  },
  {
   "cell_type": "markdown",
   "id": "c1654791",
   "metadata": {},
   "source": [
    "nombre_infected       973\n",
    "nombre_sain          2185\n",
    "nombre_exposed        597\n",
    "nombre_recovered    16245\n",
    "Name: 717, dtype: int64"
   ]
  },
  {
   "cell_type": "markdown",
   "id": "e7fc4a66",
   "metadata": {},
   "source": [
    "nombre_infected       972\n",
    "nombre_sain          2179\n",
    "nombre_exposed        595\n",
    "nombre_recovered    16254\n",
    "Name: 718, dtype: int64"
   ]
  },
  {
   "cell_type": "markdown",
   "id": "61dfb289",
   "metadata": {},
   "source": [
    "nombre_infected       957\n",
    "nombre_sain          2186\n",
    "nombre_exposed        599\n",
    "nombre_recovered    16258\n",
    "Name: 719, dtype: int64"
   ]
  },
  {
   "cell_type": "markdown",
   "id": "b1efad56",
   "metadata": {},
   "source": [
    "nombre_infected       941\n",
    "nombre_sain          2182\n",
    "nombre_exposed        626\n",
    "nombre_recovered    16251\n",
    "Name: 720, dtype: int64"
   ]
  },
  {
   "cell_type": "markdown",
   "id": "1ca44553",
   "metadata": {},
   "source": [
    "nombre_infected       931\n",
    "nombre_sain          2209\n",
    "nombre_exposed        618\n",
    "nombre_recovered    16242\n",
    "Name: 721, dtype: int64"
   ]
  },
  {
   "cell_type": "markdown",
   "id": "fd399eb0",
   "metadata": {},
   "source": [
    "nombre_infected       954\n",
    "nombre_sain          2212\n",
    "nombre_exposed        597\n",
    "nombre_recovered    16237\n",
    "Name: 722, dtype: int64"
   ]
  },
  {
   "cell_type": "markdown",
   "id": "2a293744",
   "metadata": {},
   "source": [
    "nombre_infected       961\n",
    "nombre_sain          2202\n",
    "nombre_exposed        593\n",
    "nombre_recovered    16244\n",
    "Name: 723, dtype: int64"
   ]
  },
  {
   "cell_type": "markdown",
   "id": "10b5fa5e",
   "metadata": {},
   "source": [
    "nombre_infected       963\n",
    "nombre_sain          2205\n",
    "nombre_exposed        588\n",
    "nombre_recovered    16244\n",
    "Name: 724, dtype: int64"
   ]
  },
  {
   "cell_type": "markdown",
   "id": "7fae921e",
   "metadata": {},
   "source": [
    "nombre_infected       945\n",
    "nombre_sain          2217\n",
    "nombre_exposed        583\n",
    "nombre_recovered    16255\n",
    "Name: 725, dtype: int64"
   ]
  },
  {
   "cell_type": "markdown",
   "id": "dc0d4704",
   "metadata": {},
   "source": [
    "nombre_infected       937\n",
    "nombre_sain          2234\n",
    "nombre_exposed        560\n",
    "nombre_recovered    16269\n",
    "Name: 726, dtype: int64"
   ]
  },
  {
   "cell_type": "markdown",
   "id": "177ff7eb",
   "metadata": {},
   "source": [
    "nombre_infected       910\n",
    "nombre_sain          2236\n",
    "nombre_exposed        580\n",
    "nombre_recovered    16274\n",
    "Name: 727, dtype: int64"
   ]
  },
  {
   "cell_type": "markdown",
   "id": "5eb7ba49",
   "metadata": {},
   "source": [
    "nombre_infected       916\n",
    "nombre_sain          2240\n",
    "nombre_exposed        574\n",
    "nombre_recovered    16270\n",
    "Name: 728, dtype: int64"
   ]
  },
  {
   "cell_type": "markdown",
   "id": "7b3d7a81",
   "metadata": {},
   "source": [
    "nombre_infected       923\n",
    "nombre_sain          2283\n",
    "nombre_exposed        554\n",
    "nombre_recovered    16240\n",
    "Name: 729, dtype: int64"
   ]
  },
  {
   "cell_type": "markdown",
   "id": "bf7fcec4",
   "metadata": {},
   "source": [
    "nombre_infected       928\n",
    "nombre_sain          2296\n",
    "nombre_exposed        523\n",
    "nombre_recovered    16253\n",
    "Name: 730, dtype: int64"
   ]
  }
 ],
 "metadata": {},
 "nbformat": 4,
 "nbformat_minor": 5
}
