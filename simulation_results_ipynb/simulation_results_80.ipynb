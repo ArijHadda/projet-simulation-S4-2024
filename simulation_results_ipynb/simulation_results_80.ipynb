{
 "cells": [
  {
   "cell_type": "markdown",
   "id": "3974c07d",
   "metadata": {},
   "source": [
    "nombre_infected        20\n",
    "nombre_sain         19980\n",
    "nombre_exposed          0\n",
    "nombre_recovered        0\n",
    "Name: 0, dtype: int64"
   ]
  },
  {
   "cell_type": "markdown",
   "id": "ea3dd099",
   "metadata": {},
   "source": [
    "nombre_infected        20\n",
    "nombre_sain         19965\n",
    "nombre_exposed         15\n",
    "nombre_recovered        0\n",
    "Name: 1, dtype: int64"
   ]
  },
  {
   "cell_type": "markdown",
   "id": "246e7b80",
   "metadata": {},
   "source": [
    "nombre_infected        20\n",
    "nombre_sain         19947\n",
    "nombre_exposed         33\n",
    "nombre_recovered        0\n",
    "Name: 2, dtype: int64"
   ]
  },
  {
   "cell_type": "markdown",
   "id": "3796de96",
   "metadata": {},
   "source": [
    "nombre_infected        23\n",
    "nombre_sain         19912\n",
    "nombre_exposed         65\n",
    "nombre_recovered        0\n",
    "Name: 3, dtype: int64"
   ]
  },
  {
   "cell_type": "markdown",
   "id": "dd5bef8d",
   "metadata": {},
   "source": [
    "nombre_infected        35\n",
    "nombre_sain         19872\n",
    "nombre_exposed         93\n",
    "nombre_recovered        0\n",
    "Name: 4, dtype: int64"
   ]
  },
  {
   "cell_type": "markdown",
   "id": "fc6eff21",
   "metadata": {},
   "source": [
    "nombre_infected        27\n",
    "nombre_sain         19829\n",
    "nombre_exposed        124\n",
    "nombre_recovered       20\n",
    "Name: 5, dtype: int64"
   ]
  },
  {
   "cell_type": "markdown",
   "id": "3847a5cb",
   "metadata": {},
   "source": [
    "nombre_infected        39\n",
    "nombre_sain         19787\n",
    "nombre_exposed        151\n",
    "nombre_recovered       23\n",
    "Name: 6, dtype: int64"
   ]
  },
  {
   "cell_type": "markdown",
   "id": "e5b6fdf0",
   "metadata": {},
   "source": [
    "nombre_infected        58\n",
    "nombre_sain         19742\n",
    "nombre_exposed        177\n",
    "nombre_recovered       23\n",
    "Name: 7, dtype: int64"
   ]
  },
  {
   "cell_type": "markdown",
   "id": "b1c9093d",
   "metadata": {},
   "source": [
    "nombre_infected        84\n",
    "nombre_sain         19657\n",
    "nombre_exposed        229\n",
    "nombre_recovered       30\n",
    "Name: 8, dtype: int64"
   ]
  },
  {
   "cell_type": "markdown",
   "id": "e0eb1e61",
   "metadata": {},
   "source": [
    "nombre_infected       117\n",
    "nombre_sain         19538\n",
    "nombre_exposed        312\n",
    "nombre_recovered       33\n",
    "Name: 9, dtype: int64"
   ]
  },
  {
   "cell_type": "markdown",
   "id": "7e49f427",
   "metadata": {},
   "source": [
    "nombre_infected       160\n",
    "nombre_sain         19389\n",
    "nombre_exposed        402\n",
    "nombre_recovered       49\n",
    "Name: 10, dtype: int64"
   ]
  },
  {
   "cell_type": "markdown",
   "id": "7295fbb4",
   "metadata": {},
   "source": [
    "nombre_infected       216\n",
    "nombre_sain         19139\n",
    "nombre_exposed        587\n",
    "nombre_recovered       58\n",
    "Name: 11, dtype: int64"
   ]
  },
  {
   "cell_type": "markdown",
   "id": "1a8fa51a",
   "metadata": {},
   "source": [
    "nombre_infected       285\n",
    "nombre_sain         18827\n",
    "nombre_exposed        809\n",
    "nombre_recovered       79\n",
    "Name: 12, dtype: int64"
   ]
  },
  {
   "cell_type": "markdown",
   "id": "a56d5e15",
   "metadata": {},
   "source": [
    "nombre_infected       398\n",
    "nombre_sain         18438\n",
    "nombre_exposed       1056\n",
    "nombre_recovered      108\n",
    "Name: 13, dtype: int64"
   ]
  },
  {
   "cell_type": "markdown",
   "id": "c111f025",
   "metadata": {},
   "source": [
    "nombre_infected       525\n",
    "nombre_sain         17898\n",
    "nombre_exposed       1441\n",
    "nombre_recovered      136\n",
    "Name: 14, dtype: int64"
   ]
  },
  {
   "cell_type": "markdown",
   "id": "52334607",
   "metadata": {},
   "source": [
    "nombre_infected       722\n",
    "nombre_sain         17237\n",
    "nombre_exposed       1858\n",
    "nombre_recovered      183\n",
    "Name: 15, dtype: int64"
   ]
  },
  {
   "cell_type": "markdown",
   "id": "4b2a43c8",
   "metadata": {},
   "source": [
    "nombre_infected       977\n",
    "nombre_sain         16427\n",
    "nombre_exposed       2344\n",
    "nombre_recovered      252\n",
    "Name: 16, dtype: int64"
   ]
  },
  {
   "cell_type": "markdown",
   "id": "a0e786f2",
   "metadata": {},
   "source": [
    "nombre_infected      1310\n",
    "nombre_sain         15358\n",
    "nombre_exposed       2987\n",
    "nombre_recovered      345\n",
    "Name: 17, dtype: int64"
   ]
  },
  {
   "cell_type": "markdown",
   "id": "68a52fdd",
   "metadata": {},
   "source": [
    "nombre_infected      1681\n",
    "nombre_sain         14031\n",
    "nombre_exposed       3816\n",
    "nombre_recovered      472\n",
    "Name: 18, dtype: int64"
   ]
  },
  {
   "cell_type": "markdown",
   "id": "79a162d8",
   "metadata": {},
   "source": [
    "nombre_infected      2241\n",
    "nombre_sain         12533\n",
    "nombre_exposed       4604\n",
    "nombre_recovered      622\n",
    "Name: 19, dtype: int64"
   ]
  },
  {
   "cell_type": "markdown",
   "id": "7dcd728c",
   "metadata": {},
   "source": [
    "nombre_infected      2850\n",
    "nombre_sain         10894\n",
    "nombre_exposed       5415\n",
    "nombre_recovered      841\n",
    "Name: 20, dtype: int64"
   ]
  },
  {
   "cell_type": "markdown",
   "id": "e5800578",
   "metadata": {},
   "source": [
    "nombre_infected     3618\n",
    "nombre_sain         9067\n",
    "nombre_exposed      6220\n",
    "nombre_recovered    1095\n",
    "Name: 21, dtype: int64"
   ]
  },
  {
   "cell_type": "markdown",
   "id": "a963ece5",
   "metadata": {},
   "source": [
    "nombre_infected     4429\n",
    "nombre_sain         7280\n",
    "nombre_exposed      6842\n",
    "nombre_recovered    1449\n",
    "Name: 22, dtype: int64"
   ]
  },
  {
   "cell_type": "markdown",
   "id": "b3495d55",
   "metadata": {},
   "source": [
    "nombre_infected     5333\n",
    "nombre_sain         5699\n",
    "nombre_exposed      7046\n",
    "nombre_recovered    1922\n",
    "Name: 23, dtype: int64"
   ]
  },
  {
   "cell_type": "markdown",
   "id": "7c5338e9",
   "metadata": {},
   "source": [
    "nombre_infected     6316\n",
    "nombre_sain         4278\n",
    "nombre_exposed      6951\n",
    "nombre_recovered    2455\n",
    "Name: 24, dtype: int64"
   ]
  },
  {
   "cell_type": "markdown",
   "id": "dc7ece74",
   "metadata": {},
   "source": [
    "nombre_infected     7244\n",
    "nombre_sain         3078\n",
    "nombre_exposed      6594\n",
    "nombre_recovered    3084\n",
    "Name: 25, dtype: int64"
   ]
  },
  {
   "cell_type": "markdown",
   "id": "d8500388",
   "metadata": {},
   "source": [
    "nombre_infected     7874\n",
    "nombre_sain         2137\n",
    "nombre_exposed      6101\n",
    "nombre_recovered    3888\n",
    "Name: 26, dtype: int64"
   ]
  },
  {
   "cell_type": "markdown",
   "id": "ee2844e4",
   "metadata": {},
   "source": [
    "nombre_infected     8466\n",
    "nombre_sain         1492\n",
    "nombre_exposed      5288\n",
    "nombre_recovered    4754\n",
    "Name: 27, dtype: int64"
   ]
  },
  {
   "cell_type": "markdown",
   "id": "749f6b84",
   "metadata": {},
   "source": [
    "nombre_infected     8871\n",
    "nombre_sain         1017\n",
    "nombre_exposed      4447\n",
    "nombre_recovered    5665\n",
    "Name: 28, dtype: int64"
   ]
  },
  {
   "cell_type": "markdown",
   "id": "72480249",
   "metadata": {},
   "source": [
    "nombre_infected     8931\n",
    "nombre_sain          667\n",
    "nombre_exposed      3685\n",
    "nombre_recovered    6717\n",
    "Name: 29, dtype: int64"
   ]
  },
  {
   "cell_type": "markdown",
   "id": "25a1a98c",
   "metadata": {},
   "source": [
    "nombre_infected     8857\n",
    "nombre_sain          490\n",
    "nombre_exposed      2942\n",
    "nombre_recovered    7711\n",
    "Name: 30, dtype: int64"
   ]
  },
  {
   "cell_type": "markdown",
   "id": "43e13eb6",
   "metadata": {},
   "source": [
    "nombre_infected     8682\n",
    "nombre_sain          355\n",
    "nombre_exposed      2249\n",
    "nombre_recovered    8714\n",
    "Name: 31, dtype: int64"
   ]
  },
  {
   "cell_type": "markdown",
   "id": "39b4e852",
   "metadata": {},
   "source": [
    "nombre_infected     8305\n",
    "nombre_sain          253\n",
    "nombre_exposed      1735\n",
    "nombre_recovered    9707\n",
    "Name: 32, dtype: int64"
   ]
  },
  {
   "cell_type": "markdown",
   "id": "d31775c4",
   "metadata": {},
   "source": [
    "nombre_infected      7782\n",
    "nombre_sain           200\n",
    "nombre_exposed       1327\n",
    "nombre_recovered    10691\n",
    "Name: 33, dtype: int64"
   ]
  },
  {
   "cell_type": "markdown",
   "id": "4e8daea1",
   "metadata": {},
   "source": [
    "nombre_infected      7249\n",
    "nombre_sain           170\n",
    "nombre_exposed       1015\n",
    "nombre_recovered    11566\n",
    "Name: 34, dtype: int64"
   ]
  },
  {
   "cell_type": "markdown",
   "id": "c2c145b8",
   "metadata": {},
   "source": [
    "nombre_infected      6631\n",
    "nombre_sain           167\n",
    "nombre_exposed        786\n",
    "nombre_recovered    12416\n",
    "Name: 35, dtype: int64"
   ]
  },
  {
   "cell_type": "markdown",
   "id": "7a183348",
   "metadata": {},
   "source": [
    "nombre_infected      6080\n",
    "nombre_sain           151\n",
    "nombre_exposed        607\n",
    "nombre_recovered    13162\n",
    "Name: 36, dtype: int64"
   ]
  },
  {
   "cell_type": "markdown",
   "id": "ee3d1b64",
   "metadata": {},
   "source": [
    "nombre_infected      5526\n",
    "nombre_sain           153\n",
    "nombre_exposed        475\n",
    "nombre_recovered    13846\n",
    "Name: 37, dtype: int64"
   ]
  },
  {
   "cell_type": "markdown",
   "id": "a1059aa1",
   "metadata": {},
   "source": [
    "nombre_infected      4987\n",
    "nombre_sain           170\n",
    "nombre_exposed        367\n",
    "nombre_recovered    14476\n",
    "Name: 38, dtype: int64"
   ]
  },
  {
   "cell_type": "markdown",
   "id": "7345122c",
   "metadata": {},
   "source": [
    "nombre_infected      4502\n",
    "nombre_sain           182\n",
    "nombre_exposed        295\n",
    "nombre_recovered    15021\n",
    "Name: 39, dtype: int64"
   ]
  },
  {
   "cell_type": "markdown",
   "id": "9572306a",
   "metadata": {},
   "source": [
    "nombre_infected      4018\n",
    "nombre_sain           191\n",
    "nombre_exposed        253\n",
    "nombre_recovered    15538\n",
    "Name: 40, dtype: int64"
   ]
  },
  {
   "cell_type": "markdown",
   "id": "b77a30a0",
   "metadata": {},
   "source": [
    "nombre_infected      3599\n",
    "nombre_sain           187\n",
    "nombre_exposed        217\n",
    "nombre_recovered    15997\n",
    "Name: 41, dtype: int64"
   ]
  },
  {
   "cell_type": "markdown",
   "id": "0264bdf7",
   "metadata": {},
   "source": [
    "nombre_infected      3200\n",
    "nombre_sain           206\n",
    "nombre_exposed        174\n",
    "nombre_recovered    16420\n",
    "Name: 42, dtype: int64"
   ]
  },
  {
   "cell_type": "markdown",
   "id": "e84be51c",
   "metadata": {},
   "source": [
    "nombre_infected      2825\n",
    "nombre_sain           207\n",
    "nombre_exposed        136\n",
    "nombre_recovered    16832\n",
    "Name: 43, dtype: int64"
   ]
  },
  {
   "cell_type": "markdown",
   "id": "d204bf2e",
   "metadata": {},
   "source": [
    "nombre_infected      2502\n",
    "nombre_sain           212\n",
    "nombre_exposed        123\n",
    "nombre_recovered    17163\n",
    "Name: 44, dtype: int64"
   ]
  },
  {
   "cell_type": "markdown",
   "id": "260f023a",
   "metadata": {},
   "source": [
    "nombre_infected      2193\n",
    "nombre_sain           221\n",
    "nombre_exposed        109\n",
    "nombre_recovered    17477\n",
    "Name: 45, dtype: int64"
   ]
  },
  {
   "cell_type": "markdown",
   "id": "6e7c6ff5",
   "metadata": {},
   "source": [
    "nombre_infected      1919\n",
    "nombre_sain           231\n",
    "nombre_exposed        100\n",
    "nombre_recovered    17750\n",
    "Name: 46, dtype: int64"
   ]
  },
  {
   "cell_type": "markdown",
   "id": "5381787f",
   "metadata": {},
   "source": [
    "nombre_infected      1691\n",
    "nombre_sain           248\n",
    "nombre_exposed         93\n",
    "nombre_recovered    17968\n",
    "Name: 47, dtype: int64"
   ]
  },
  {
   "cell_type": "markdown",
   "id": "1917a1bd",
   "metadata": {},
   "source": [
    "nombre_infected      1451\n",
    "nombre_sain           259\n",
    "nombre_exposed         96\n",
    "nombre_recovered    18194\n",
    "Name: 48, dtype: int64"
   ]
  },
  {
   "cell_type": "markdown",
   "id": "7cbc830f",
   "metadata": {},
   "source": [
    "nombre_infected      1279\n",
    "nombre_sain           283\n",
    "nombre_exposed         96\n",
    "nombre_recovered    18342\n",
    "Name: 49, dtype: int64"
   ]
  },
  {
   "cell_type": "markdown",
   "id": "342b1578",
   "metadata": {},
   "source": [
    "nombre_infected      1110\n",
    "nombre_sain           320\n",
    "nombre_exposed         89\n",
    "nombre_recovered    18481\n",
    "Name: 50, dtype: int64"
   ]
  },
  {
   "cell_type": "markdown",
   "id": "381d0cd6",
   "metadata": {},
   "source": [
    "nombre_infected       957\n",
    "nombre_sain           366\n",
    "nombre_exposed         82\n",
    "nombre_recovered    18595\n",
    "Name: 51, dtype: int64"
   ]
  },
  {
   "cell_type": "markdown",
   "id": "e2cb3294",
   "metadata": {},
   "source": [
    "nombre_infected       837\n",
    "nombre_sain           419\n",
    "nombre_exposed         85\n",
    "nombre_recovered    18659\n",
    "Name: 52, dtype: int64"
   ]
  },
  {
   "cell_type": "markdown",
   "id": "c509dbe3",
   "metadata": {},
   "source": [
    "nombre_infected       739\n",
    "nombre_sain           476\n",
    "nombre_exposed         67\n",
    "nombre_recovered    18718\n",
    "Name: 53, dtype: int64"
   ]
  },
  {
   "cell_type": "markdown",
   "id": "ff4e940d",
   "metadata": {},
   "source": [
    "nombre_infected       647\n",
    "nombre_sain           527\n",
    "nombre_exposed         66\n",
    "nombre_recovered    18760\n",
    "Name: 54, dtype: int64"
   ]
  },
  {
   "cell_type": "markdown",
   "id": "335547ce",
   "metadata": {},
   "source": [
    "nombre_infected       569\n",
    "nombre_sain           575\n",
    "nombre_exposed         61\n",
    "nombre_recovered    18795\n",
    "Name: 55, dtype: int64"
   ]
  },
  {
   "cell_type": "markdown",
   "id": "f9c961e3",
   "metadata": {},
   "source": [
    "nombre_infected       512\n",
    "nombre_sain           627\n",
    "nombre_exposed         62\n",
    "nombre_recovered    18799\n",
    "Name: 56, dtype: int64"
   ]
  },
  {
   "cell_type": "markdown",
   "id": "dd54021a",
   "metadata": {},
   "source": [
    "nombre_infected       482\n",
    "nombre_sain           681\n",
    "nombre_exposed         58\n",
    "nombre_recovered    18779\n",
    "Name: 57, dtype: int64"
   ]
  },
  {
   "cell_type": "markdown",
   "id": "f3fa0620",
   "metadata": {},
   "source": [
    "nombre_infected       435\n",
    "nombre_sain           735\n",
    "nombre_exposed         68\n",
    "nombre_recovered    18762\n",
    "Name: 58, dtype: int64"
   ]
  },
  {
   "cell_type": "markdown",
   "id": "04c78a1c",
   "metadata": {},
   "source": [
    "nombre_infected       406\n",
    "nombre_sain           783\n",
    "nombre_exposed         67\n",
    "nombre_recovered    18744\n",
    "Name: 59, dtype: int64"
   ]
  },
  {
   "cell_type": "markdown",
   "id": "d0141397",
   "metadata": {},
   "source": [
    "nombre_infected       386\n",
    "nombre_sain           832\n",
    "nombre_exposed         68\n",
    "nombre_recovered    18714\n",
    "Name: 60, dtype: int64"
   ]
  },
  {
   "cell_type": "markdown",
   "id": "2e868fab",
   "metadata": {},
   "source": [
    "nombre_infected       367\n",
    "nombre_sain           879\n",
    "nombre_exposed         65\n",
    "nombre_recovered    18689\n",
    "Name: 61, dtype: int64"
   ]
  },
  {
   "cell_type": "markdown",
   "id": "cf5340c9",
   "metadata": {},
   "source": [
    "nombre_infected       348\n",
    "nombre_sain           921\n",
    "nombre_exposed         64\n",
    "nombre_recovered    18667\n",
    "Name: 62, dtype: int64"
   ]
  },
  {
   "cell_type": "markdown",
   "id": "dbcdc3a6",
   "metadata": {},
   "source": [
    "nombre_infected       332\n",
    "nombre_sain           967\n",
    "nombre_exposed         68\n",
    "nombre_recovered    18633\n",
    "Name: 63, dtype: int64"
   ]
  },
  {
   "cell_type": "markdown",
   "id": "2d02aff4",
   "metadata": {},
   "source": [
    "nombre_infected       310\n",
    "nombre_sain          1013\n",
    "nombre_exposed         70\n",
    "nombre_recovered    18607\n",
    "Name: 64, dtype: int64"
   ]
  },
  {
   "cell_type": "markdown",
   "id": "8720732f",
   "metadata": {},
   "source": [
    "nombre_infected       302\n",
    "nombre_sain          1097\n",
    "nombre_exposed         68\n",
    "nombre_recovered    18533\n",
    "Name: 65, dtype: int64"
   ]
  },
  {
   "cell_type": "markdown",
   "id": "dd318302",
   "metadata": {},
   "source": [
    "nombre_infected       282\n",
    "nombre_sain          1171\n",
    "nombre_exposed         64\n",
    "nombre_recovered    18483\n",
    "Name: 66, dtype: int64"
   ]
  },
  {
   "cell_type": "markdown",
   "id": "8ef71cdf",
   "metadata": {},
   "source": [
    "nombre_infected       263\n",
    "nombre_sain          1244\n",
    "nombre_exposed         69\n",
    "nombre_recovered    18424\n",
    "Name: 67, dtype: int64"
   ]
  },
  {
   "cell_type": "markdown",
   "id": "269b848b",
   "metadata": {},
   "source": [
    "nombre_infected       248\n",
    "nombre_sain          1319\n",
    "nombre_exposed         73\n",
    "nombre_recovered    18360\n",
    "Name: 68, dtype: int64"
   ]
  },
  {
   "cell_type": "markdown",
   "id": "874136f1",
   "metadata": {},
   "source": [
    "nombre_infected       226\n",
    "nombre_sain          1399\n",
    "nombre_exposed         74\n",
    "nombre_recovered    18301\n",
    "Name: 69, dtype: int64"
   ]
  },
  {
   "cell_type": "markdown",
   "id": "93e4f703",
   "metadata": {},
   "source": [
    "nombre_infected       211\n",
    "nombre_sain          1469\n",
    "nombre_exposed         77\n",
    "nombre_recovered    18243\n",
    "Name: 70, dtype: int64"
   ]
  },
  {
   "cell_type": "markdown",
   "id": "9b9de1fb",
   "metadata": {},
   "source": [
    "nombre_infected       202\n",
    "nombre_sain          1557\n",
    "nombre_exposed         86\n",
    "nombre_recovered    18155\n",
    "Name: 71, dtype: int64"
   ]
  },
  {
   "cell_type": "markdown",
   "id": "414f4c0b",
   "metadata": {},
   "source": [
    "nombre_infected       201\n",
    "nombre_sain          1610\n",
    "nombre_exposed         84\n",
    "nombre_recovered    18105\n",
    "Name: 72, dtype: int64"
   ]
  },
  {
   "cell_type": "markdown",
   "id": "ae924755",
   "metadata": {},
   "source": [
    "nombre_infected       198\n",
    "nombre_sain          1686\n",
    "nombre_exposed         77\n",
    "nombre_recovered    18039\n",
    "Name: 73, dtype: int64"
   ]
  },
  {
   "cell_type": "markdown",
   "id": "ad549ce8",
   "metadata": {},
   "source": [
    "nombre_infected       199\n",
    "nombre_sain          1767\n",
    "nombre_exposed         67\n",
    "nombre_recovered    17967\n",
    "Name: 74, dtype: int64"
   ]
  },
  {
   "cell_type": "markdown",
   "id": "be72b1af",
   "metadata": {},
   "source": [
    "nombre_infected       189\n",
    "nombre_sain          1830\n",
    "nombre_exposed         60\n",
    "nombre_recovered    17921\n",
    "Name: 75, dtype: int64"
   ]
  },
  {
   "cell_type": "markdown",
   "id": "a4df6147",
   "metadata": {},
   "source": [
    "nombre_infected       184\n",
    "nombre_sain          1875\n",
    "nombre_exposed         63\n",
    "nombre_recovered    17878\n",
    "Name: 76, dtype: int64"
   ]
  },
  {
   "cell_type": "markdown",
   "id": "73c4bd35",
   "metadata": {},
   "source": [
    "nombre_infected       171\n",
    "nombre_sain          1923\n",
    "nombre_exposed         72\n",
    "nombre_recovered    17834\n",
    "Name: 77, dtype: int64"
   ]
  },
  {
   "cell_type": "markdown",
   "id": "50fa8b3d",
   "metadata": {},
   "source": [
    "nombre_infected       171\n",
    "nombre_sain          1973\n",
    "nombre_exposed         65\n",
    "nombre_recovered    17791\n",
    "Name: 78, dtype: int64"
   ]
  },
  {
   "cell_type": "markdown",
   "id": "fdfd4a1e",
   "metadata": {},
   "source": [
    "nombre_infected       168\n",
    "nombre_sain          2004\n",
    "nombre_exposed         79\n",
    "nombre_recovered    17749\n",
    "Name: 79, dtype: int64"
   ]
  },
  {
   "cell_type": "markdown",
   "id": "5e63b786",
   "metadata": {},
   "source": [
    "nombre_infected       172\n",
    "nombre_sain          2029\n",
    "nombre_exposed         97\n",
    "nombre_recovered    17702\n",
    "Name: 80, dtype: int64"
   ]
  },
  {
   "cell_type": "markdown",
   "id": "f0c9ec47",
   "metadata": {},
   "source": [
    "nombre_infected       178\n",
    "nombre_sain          2068\n",
    "nombre_exposed         92\n",
    "nombre_recovered    17662\n",
    "Name: 81, dtype: int64"
   ]
  },
  {
   "cell_type": "markdown",
   "id": "2642253b",
   "metadata": {},
   "source": [
    "nombre_infected       188\n",
    "nombre_sain          2101\n",
    "nombre_exposed         92\n",
    "nombre_recovered    17619\n",
    "Name: 82, dtype: int64"
   ]
  },
  {
   "cell_type": "markdown",
   "id": "8ac0253e",
   "metadata": {},
   "source": [
    "nombre_infected       179\n",
    "nombre_sain          2143\n",
    "nombre_exposed        108\n",
    "nombre_recovered    17570\n",
    "Name: 83, dtype: int64"
   ]
  },
  {
   "cell_type": "markdown",
   "id": "043bd140",
   "metadata": {},
   "source": [
    "nombre_infected       172\n",
    "nombre_sain          2161\n",
    "nombre_exposed         96\n",
    "nombre_recovered    17571\n",
    "Name: 84, dtype: int64"
   ]
  },
  {
   "cell_type": "markdown",
   "id": "00637b0e",
   "metadata": {},
   "source": [
    "nombre_infected       183\n",
    "nombre_sain          2205\n",
    "nombre_exposed         80\n",
    "nombre_recovered    17532\n",
    "Name: 85, dtype: int64"
   ]
  },
  {
   "cell_type": "markdown",
   "id": "cdbbb22f",
   "metadata": {},
   "source": [
    "nombre_infected       186\n",
    "nombre_sain          2238\n",
    "nombre_exposed         86\n",
    "nombre_recovered    17490\n",
    "Name: 86, dtype: int64"
   ]
  },
  {
   "cell_type": "markdown",
   "id": "41a34101",
   "metadata": {},
   "source": [
    "nombre_infected       177\n",
    "nombre_sain          2278\n",
    "nombre_exposed         85\n",
    "nombre_recovered    17460\n",
    "Name: 87, dtype: int64"
   ]
  },
  {
   "cell_type": "markdown",
   "id": "3ffb569d",
   "metadata": {},
   "source": [
    "nombre_infected       170\n",
    "nombre_sain          2323\n",
    "nombre_exposed         85\n",
    "nombre_recovered    17422\n",
    "Name: 88, dtype: int64"
   ]
  },
  {
   "cell_type": "markdown",
   "id": "84fa4175",
   "metadata": {},
   "source": [
    "nombre_infected       167\n",
    "nombre_sain          2357\n",
    "nombre_exposed        100\n",
    "nombre_recovered    17376\n",
    "Name: 89, dtype: int64"
   ]
  },
  {
   "cell_type": "markdown",
   "id": "2a8ce032",
   "metadata": {},
   "source": [
    "nombre_infected       174\n",
    "nombre_sain          2402\n",
    "nombre_exposed        103\n",
    "nombre_recovered    17321\n",
    "Name: 90, dtype: int64"
   ]
  },
  {
   "cell_type": "markdown",
   "id": "77b71722",
   "metadata": {},
   "source": [
    "nombre_infected       174\n",
    "nombre_sain          2434\n",
    "nombre_exposed        102\n",
    "nombre_recovered    17290\n",
    "Name: 91, dtype: int64"
   ]
  },
  {
   "cell_type": "markdown",
   "id": "a5d0ccea",
   "metadata": {},
   "source": [
    "nombre_infected       184\n",
    "nombre_sain          2472\n",
    "nombre_exposed         92\n",
    "nombre_recovered    17252\n",
    "Name: 92, dtype: int64"
   ]
  },
  {
   "cell_type": "markdown",
   "id": "9403893a",
   "metadata": {},
   "source": [
    "nombre_infected       178\n",
    "nombre_sain          2499\n",
    "nombre_exposed         96\n",
    "nombre_recovered    17227\n",
    "Name: 93, dtype: int64"
   ]
  },
  {
   "cell_type": "markdown",
   "id": "20ccd8ac",
   "metadata": {},
   "source": [
    "nombre_infected       176\n",
    "nombre_sain          2524\n",
    "nombre_exposed        102\n",
    "nombre_recovered    17198\n",
    "Name: 94, dtype: int64"
   ]
  },
  {
   "cell_type": "markdown",
   "id": "13d4d02a",
   "metadata": {},
   "source": [
    "nombre_infected       169\n",
    "nombre_sain          2566\n",
    "nombre_exposed        100\n",
    "nombre_recovered    17165\n",
    "Name: 95, dtype: int64"
   ]
  },
  {
   "cell_type": "markdown",
   "id": "a0789f74",
   "metadata": {},
   "source": [
    "nombre_infected       168\n",
    "nombre_sain          2592\n",
    "nombre_exposed        100\n",
    "nombre_recovered    17140\n",
    "Name: 96, dtype: int64"
   ]
  },
  {
   "cell_type": "markdown",
   "id": "076beb01",
   "metadata": {},
   "source": [
    "nombre_infected       166\n",
    "nombre_sain          2612\n",
    "nombre_exposed        107\n",
    "nombre_recovered    17115\n",
    "Name: 97, dtype: int64"
   ]
  },
  {
   "cell_type": "markdown",
   "id": "0931ef81",
   "metadata": {},
   "source": [
    "nombre_infected       154\n",
    "nombre_sain          2617\n",
    "nombre_exposed        123\n",
    "nombre_recovered    17106\n",
    "Name: 98, dtype: int64"
   ]
  },
  {
   "cell_type": "markdown",
   "id": "f5817ef7",
   "metadata": {},
   "source": [
    "nombre_infected       154\n",
    "nombre_sain          2640\n",
    "nombre_exposed        127\n",
    "nombre_recovered    17079\n",
    "Name: 99, dtype: int64"
   ]
  },
  {
   "cell_type": "markdown",
   "id": "c589c785",
   "metadata": {},
   "source": [
    "nombre_infected       159\n",
    "nombre_sain          2671\n",
    "nombre_exposed        123\n",
    "nombre_recovered    17047\n",
    "Name: 100, dtype: int64"
   ]
  },
  {
   "cell_type": "markdown",
   "id": "0d90320c",
   "metadata": {},
   "source": [
    "nombre_infected       153\n",
    "nombre_sain          2698\n",
    "nombre_exposed        124\n",
    "nombre_recovered    17025\n",
    "Name: 101, dtype: int64"
   ]
  },
  {
   "cell_type": "markdown",
   "id": "aac5ec34",
   "metadata": {},
   "source": [
    "nombre_infected       155\n",
    "nombre_sain          2719\n",
    "nombre_exposed        120\n",
    "nombre_recovered    17006\n",
    "Name: 102, dtype: int64"
   ]
  },
  {
   "cell_type": "markdown",
   "id": "e018be37",
   "metadata": {},
   "source": [
    "nombre_infected       177\n",
    "nombre_sain          2736\n",
    "nombre_exposed        120\n",
    "nombre_recovered    16967\n",
    "Name: 103, dtype: int64"
   ]
  },
  {
   "cell_type": "markdown",
   "id": "d201aee8",
   "metadata": {},
   "source": [
    "nombre_infected       180\n",
    "nombre_sain          2759\n",
    "nombre_exposed        119\n",
    "nombre_recovered    16942\n",
    "Name: 104, dtype: int64"
   ]
  },
  {
   "cell_type": "markdown",
   "id": "309acf9d",
   "metadata": {},
   "source": [
    "nombre_infected       187\n",
    "nombre_sain          2770\n",
    "nombre_exposed        121\n",
    "nombre_recovered    16922\n",
    "Name: 105, dtype: int64"
   ]
  },
  {
   "cell_type": "markdown",
   "id": "53de8e8d",
   "metadata": {},
   "source": [
    "nombre_infected       185\n",
    "nombre_sain          2792\n",
    "nombre_exposed        120\n",
    "nombre_recovered    16903\n",
    "Name: 106, dtype: int64"
   ]
  },
  {
   "cell_type": "markdown",
   "id": "b8d79060",
   "metadata": {},
   "source": [
    "nombre_infected       185\n",
    "nombre_sain          2799\n",
    "nombre_exposed        130\n",
    "nombre_recovered    16886\n",
    "Name: 107, dtype: int64"
   ]
  },
  {
   "cell_type": "markdown",
   "id": "dafcdadb",
   "metadata": {},
   "source": [
    "nombre_infected       184\n",
    "nombre_sain          2813\n",
    "nombre_exposed        126\n",
    "nombre_recovered    16877\n",
    "Name: 108, dtype: int64"
   ]
  },
  {
   "cell_type": "markdown",
   "id": "a9b9f7bd",
   "metadata": {},
   "source": [
    "nombre_infected       185\n",
    "nombre_sain          2817\n",
    "nombre_exposed        141\n",
    "nombre_recovered    16857\n",
    "Name: 109, dtype: int64"
   ]
  },
  {
   "cell_type": "markdown",
   "id": "6795b165",
   "metadata": {},
   "source": [
    "nombre_infected       189\n",
    "nombre_sain          2820\n",
    "nombre_exposed        160\n",
    "nombre_recovered    16831\n",
    "Name: 110, dtype: int64"
   ]
  },
  {
   "cell_type": "markdown",
   "id": "74580580",
   "metadata": {},
   "source": [
    "nombre_infected       189\n",
    "nombre_sain          2839\n",
    "nombre_exposed        162\n",
    "nombre_recovered    16810\n",
    "Name: 111, dtype: int64"
   ]
  },
  {
   "cell_type": "markdown",
   "id": "dfcd2d58",
   "metadata": {},
   "source": [
    "nombre_infected       206\n",
    "nombre_sain          2837\n",
    "nombre_exposed        165\n",
    "nombre_recovered    16792\n",
    "Name: 112, dtype: int64"
   ]
  },
  {
   "cell_type": "markdown",
   "id": "b09b38d8",
   "metadata": {},
   "source": [
    "nombre_infected       203\n",
    "nombre_sain          2853\n",
    "nombre_exposed        175\n",
    "nombre_recovered    16769\n",
    "Name: 113, dtype: int64"
   ]
  },
  {
   "cell_type": "markdown",
   "id": "a42c4ea4",
   "metadata": {},
   "source": [
    "nombre_infected       216\n",
    "nombre_sain          2871\n",
    "nombre_exposed        175\n",
    "nombre_recovered    16738\n",
    "Name: 114, dtype: int64"
   ]
  },
  {
   "cell_type": "markdown",
   "id": "068e3980",
   "metadata": {},
   "source": [
    "nombre_infected       226\n",
    "nombre_sain          2877\n",
    "nombre_exposed        180\n",
    "nombre_recovered    16717\n",
    "Name: 115, dtype: int64"
   ]
  },
  {
   "cell_type": "markdown",
   "id": "e9e84f48",
   "metadata": {},
   "source": [
    "nombre_infected       246\n",
    "nombre_sain          2874\n",
    "nombre_exposed        191\n",
    "nombre_recovered    16689\n",
    "Name: 116, dtype: int64"
   ]
  },
  {
   "cell_type": "markdown",
   "id": "7be179e8",
   "metadata": {},
   "source": [
    "nombre_infected       262\n",
    "nombre_sain          2899\n",
    "nombre_exposed        187\n",
    "nombre_recovered    16652\n",
    "Name: 117, dtype: int64"
   ]
  },
  {
   "cell_type": "markdown",
   "id": "10c92cfd",
   "metadata": {},
   "source": [
    "nombre_infected       277\n",
    "nombre_sain          2930\n",
    "nombre_exposed        179\n",
    "nombre_recovered    16614\n",
    "Name: 118, dtype: int64"
   ]
  },
  {
   "cell_type": "markdown",
   "id": "45bd49ed",
   "metadata": {},
   "source": [
    "nombre_infected       285\n",
    "nombre_sain          2935\n",
    "nombre_exposed        192\n",
    "nombre_recovered    16588\n",
    "Name: 119, dtype: int64"
   ]
  },
  {
   "cell_type": "markdown",
   "id": "0956abf9",
   "metadata": {},
   "source": [
    "nombre_infected       283\n",
    "nombre_sain          2945\n",
    "nombre_exposed        212\n",
    "nombre_recovered    16560\n",
    "Name: 120, dtype: int64"
   ]
  },
  {
   "cell_type": "markdown",
   "id": "781a30be",
   "metadata": {},
   "source": [
    "nombre_infected       285\n",
    "nombre_sain          2959\n",
    "nombre_exposed        220\n",
    "nombre_recovered    16536\n",
    "Name: 121, dtype: int64"
   ]
  },
  {
   "cell_type": "markdown",
   "id": "4f8f399b",
   "metadata": {},
   "source": [
    "nombre_infected       297\n",
    "nombre_sain          2969\n",
    "nombre_exposed        225\n",
    "nombre_recovered    16509\n",
    "Name: 122, dtype: int64"
   ]
  },
  {
   "cell_type": "markdown",
   "id": "0a150a06",
   "metadata": {},
   "source": [
    "nombre_infected       314\n",
    "nombre_sain          2976\n",
    "nombre_exposed        232\n",
    "nombre_recovered    16478\n",
    "Name: 123, dtype: int64"
   ]
  },
  {
   "cell_type": "markdown",
   "id": "c109837e",
   "metadata": {},
   "source": [
    "nombre_infected       297\n",
    "nombre_sain          2998\n",
    "nombre_exposed        254\n",
    "nombre_recovered    16451\n",
    "Name: 124, dtype: int64"
   ]
  },
  {
   "cell_type": "markdown",
   "id": "ff59baa7",
   "metadata": {},
   "source": [
    "nombre_infected       315\n",
    "nombre_sain          3011\n",
    "nombre_exposed        261\n",
    "nombre_recovered    16413\n",
    "Name: 125, dtype: int64"
   ]
  },
  {
   "cell_type": "markdown",
   "id": "6898cc06",
   "metadata": {},
   "source": [
    "nombre_infected       310\n",
    "nombre_sain          3018\n",
    "nombre_exposed        281\n",
    "nombre_recovered    16391\n",
    "Name: 126, dtype: int64"
   ]
  },
  {
   "cell_type": "markdown",
   "id": "da6d57ab",
   "metadata": {},
   "source": [
    "nombre_infected       333\n",
    "nombre_sain          3025\n",
    "nombre_exposed        282\n",
    "nombre_recovered    16360\n",
    "Name: 127, dtype: int64"
   ]
  },
  {
   "cell_type": "markdown",
   "id": "40c944f1",
   "metadata": {},
   "source": [
    "nombre_infected       346\n",
    "nombre_sain          3029\n",
    "nombre_exposed        289\n",
    "nombre_recovered    16336\n",
    "Name: 128, dtype: int64"
   ]
  },
  {
   "cell_type": "markdown",
   "id": "1fffde73",
   "metadata": {},
   "source": [
    "nombre_infected       373\n",
    "nombre_sain          3054\n",
    "nombre_exposed        292\n",
    "nombre_recovered    16281\n",
    "Name: 129, dtype: int64"
   ]
  },
  {
   "cell_type": "markdown",
   "id": "ae747691",
   "metadata": {},
   "source": [
    "nombre_infected       394\n",
    "nombre_sain          3040\n",
    "nombre_exposed        308\n",
    "nombre_recovered    16258\n",
    "Name: 130, dtype: int64"
   ]
  },
  {
   "cell_type": "markdown",
   "id": "3875af29",
   "metadata": {},
   "source": [
    "nombre_infected       408\n",
    "nombre_sain          3047\n",
    "nombre_exposed        312\n",
    "nombre_recovered    16233\n",
    "Name: 131, dtype: int64"
   ]
  },
  {
   "cell_type": "markdown",
   "id": "810e0138",
   "metadata": {},
   "source": [
    "nombre_infected       427\n",
    "nombre_sain          3058\n",
    "nombre_exposed        311\n",
    "nombre_recovered    16204\n",
    "Name: 132, dtype: int64"
   ]
  },
  {
   "cell_type": "markdown",
   "id": "164c2585",
   "metadata": {},
   "source": [
    "nombre_infected       435\n",
    "nombre_sain          3043\n",
    "nombre_exposed        325\n",
    "nombre_recovered    16197\n",
    "Name: 133, dtype: int64"
   ]
  },
  {
   "cell_type": "markdown",
   "id": "d1abce5f",
   "metadata": {},
   "source": [
    "nombre_infected       445\n",
    "nombre_sain          3024\n",
    "nombre_exposed        349\n",
    "nombre_recovered    16182\n",
    "Name: 134, dtype: int64"
   ]
  },
  {
   "cell_type": "markdown",
   "id": "6ffd1bbf",
   "metadata": {},
   "source": [
    "nombre_infected       473\n",
    "nombre_sain          2999\n",
    "nombre_exposed        363\n",
    "nombre_recovered    16165\n",
    "Name: 135, dtype: int64"
   ]
  },
  {
   "cell_type": "markdown",
   "id": "a3f9ba3d",
   "metadata": {},
   "source": [
    "nombre_infected       496\n",
    "nombre_sain          2957\n",
    "nombre_exposed        396\n",
    "nombre_recovered    16151\n",
    "Name: 136, dtype: int64"
   ]
  },
  {
   "cell_type": "markdown",
   "id": "4688f973",
   "metadata": {},
   "source": [
    "nombre_infected       500\n",
    "nombre_sain          2943\n",
    "nombre_exposed        416\n",
    "nombre_recovered    16141\n",
    "Name: 137, dtype: int64"
   ]
  },
  {
   "cell_type": "markdown",
   "id": "ec893c11",
   "metadata": {},
   "source": [
    "nombre_infected       528\n",
    "nombre_sain          2925\n",
    "nombre_exposed        425\n",
    "nombre_recovered    16122\n",
    "Name: 138, dtype: int64"
   ]
  },
  {
   "cell_type": "markdown",
   "id": "afadf741",
   "metadata": {},
   "source": [
    "nombre_infected       566\n",
    "nombre_sain          2911\n",
    "nombre_exposed        405\n",
    "nombre_recovered    16118\n",
    "Name: 139, dtype: int64"
   ]
  },
  {
   "cell_type": "markdown",
   "id": "418c7091",
   "metadata": {},
   "source": [
    "nombre_infected       595\n",
    "nombre_sain          2869\n",
    "nombre_exposed        398\n",
    "nombre_recovered    16138\n",
    "Name: 140, dtype: int64"
   ]
  },
  {
   "cell_type": "markdown",
   "id": "3e824f01",
   "metadata": {},
   "source": [
    "nombre_infected       603\n",
    "nombre_sain          2831\n",
    "nombre_exposed        403\n",
    "nombre_recovered    16163\n",
    "Name: 141, dtype: int64"
   ]
  },
  {
   "cell_type": "markdown",
   "id": "a348fce1",
   "metadata": {},
   "source": [
    "nombre_infected       613\n",
    "nombre_sain          2785\n",
    "nombre_exposed        435\n",
    "nombre_recovered    16167\n",
    "Name: 142, dtype: int64"
   ]
  },
  {
   "cell_type": "markdown",
   "id": "40933482",
   "metadata": {},
   "source": [
    "nombre_infected       633\n",
    "nombre_sain          2739\n",
    "nombre_exposed        444\n",
    "nombre_recovered    16184\n",
    "Name: 143, dtype: int64"
   ]
  },
  {
   "cell_type": "markdown",
   "id": "f03a63ef",
   "metadata": {},
   "source": [
    "nombre_infected       652\n",
    "nombre_sain          2672\n",
    "nombre_exposed        454\n",
    "nombre_recovered    16222\n",
    "Name: 144, dtype: int64"
   ]
  },
  {
   "cell_type": "markdown",
   "id": "d8a680a1",
   "metadata": {},
   "source": [
    "nombre_infected       672\n",
    "nombre_sain          2611\n",
    "nombre_exposed        467\n",
    "nombre_recovered    16250\n",
    "Name: 145, dtype: int64"
   ]
  },
  {
   "cell_type": "markdown",
   "id": "68ea057a",
   "metadata": {},
   "source": [
    "nombre_infected       682\n",
    "nombre_sain          2559\n",
    "nombre_exposed        483\n",
    "nombre_recovered    16276\n",
    "Name: 146, dtype: int64"
   ]
  },
  {
   "cell_type": "markdown",
   "id": "33c2074a",
   "metadata": {},
   "source": [
    "nombre_infected       694\n",
    "nombre_sain          2513\n",
    "nombre_exposed        483\n",
    "nombre_recovered    16310\n",
    "Name: 147, dtype: int64"
   ]
  },
  {
   "cell_type": "markdown",
   "id": "104ef805",
   "metadata": {},
   "source": [
    "nombre_infected       712\n",
    "nombre_sain          2457\n",
    "nombre_exposed        487\n",
    "nombre_recovered    16344\n",
    "Name: 148, dtype: int64"
   ]
  },
  {
   "cell_type": "markdown",
   "id": "de3e530d",
   "metadata": {},
   "source": [
    "nombre_infected       740\n",
    "nombre_sain          2405\n",
    "nombre_exposed        485\n",
    "nombre_recovered    16370\n",
    "Name: 149, dtype: int64"
   ]
  },
  {
   "cell_type": "markdown",
   "id": "39962bce",
   "metadata": {},
   "source": [
    "nombre_infected       755\n",
    "nombre_sain          2366\n",
    "nombre_exposed        473\n",
    "nombre_recovered    16406\n",
    "Name: 150, dtype: int64"
   ]
  },
  {
   "cell_type": "markdown",
   "id": "c7ef6b31",
   "metadata": {},
   "source": [
    "nombre_infected       778\n",
    "nombre_sain          2323\n",
    "nombre_exposed        449\n",
    "nombre_recovered    16450\n",
    "Name: 151, dtype: int64"
   ]
  },
  {
   "cell_type": "markdown",
   "id": "42670f69",
   "metadata": {},
   "source": [
    "nombre_infected       782\n",
    "nombre_sain          2297\n",
    "nombre_exposed        433\n",
    "nombre_recovered    16488\n",
    "Name: 152, dtype: int64"
   ]
  },
  {
   "cell_type": "markdown",
   "id": "5c13d5bb",
   "metadata": {},
   "source": [
    "nombre_infected       785\n",
    "nombre_sain          2244\n",
    "nombre_exposed        447\n",
    "nombre_recovered    16524\n",
    "Name: 153, dtype: int64"
   ]
  },
  {
   "cell_type": "markdown",
   "id": "1b454a4a",
   "metadata": {},
   "source": [
    "nombre_infected       772\n",
    "nombre_sain          2190\n",
    "nombre_exposed        467\n",
    "nombre_recovered    16571\n",
    "Name: 154, dtype: int64"
   ]
  },
  {
   "cell_type": "markdown",
   "id": "08a4415f",
   "metadata": {},
   "source": [
    "nombre_infected       770\n",
    "nombre_sain          2180\n",
    "nombre_exposed        465\n",
    "nombre_recovered    16585\n",
    "Name: 155, dtype: int64"
   ]
  },
  {
   "cell_type": "markdown",
   "id": "d0e1d10b",
   "metadata": {},
   "source": [
    "nombre_infected       765\n",
    "nombre_sain          2143\n",
    "nombre_exposed        460\n",
    "nombre_recovered    16632\n",
    "Name: 156, dtype: int64"
   ]
  },
  {
   "cell_type": "markdown",
   "id": "880afe4a",
   "metadata": {},
   "source": [
    "nombre_infected       779\n",
    "nombre_sain          2117\n",
    "nombre_exposed        465\n",
    "nombre_recovered    16639\n",
    "Name: 157, dtype: int64"
   ]
  },
  {
   "cell_type": "markdown",
   "id": "648757e1",
   "metadata": {},
   "source": [
    "nombre_infected       786\n",
    "nombre_sain          2074\n",
    "nombre_exposed        481\n",
    "nombre_recovered    16659\n",
    "Name: 158, dtype: int64"
   ]
  },
  {
   "cell_type": "markdown",
   "id": "869d31ff",
   "metadata": {},
   "source": [
    "nombre_infected       770\n",
    "nombre_sain          2068\n",
    "nombre_exposed        469\n",
    "nombre_recovered    16693\n",
    "Name: 159, dtype: int64"
   ]
  },
  {
   "cell_type": "markdown",
   "id": "45d72421",
   "metadata": {},
   "source": [
    "nombre_infected       775\n",
    "nombre_sain          2039\n",
    "nombre_exposed        448\n",
    "nombre_recovered    16738\n",
    "Name: 160, dtype: int64"
   ]
  },
  {
   "cell_type": "markdown",
   "id": "11206c3b",
   "metadata": {},
   "source": [
    "nombre_infected       810\n",
    "nombre_sain          2029\n",
    "nombre_exposed        412\n",
    "nombre_recovered    16749\n",
    "Name: 161, dtype: int64"
   ]
  },
  {
   "cell_type": "markdown",
   "id": "2db17ba6",
   "metadata": {},
   "source": [
    "nombre_infected       819\n",
    "nombre_sain          1999\n",
    "nombre_exposed        393\n",
    "nombre_recovered    16789\n",
    "Name: 162, dtype: int64"
   ]
  },
  {
   "cell_type": "markdown",
   "id": "9f31c7f5",
   "metadata": {},
   "source": [
    "nombre_infected       804\n",
    "nombre_sain          1969\n",
    "nombre_exposed        403\n",
    "nombre_recovered    16824\n",
    "Name: 163, dtype: int64"
   ]
  },
  {
   "cell_type": "markdown",
   "id": "ca294b56",
   "metadata": {},
   "source": [
    "nombre_infected       779\n",
    "nombre_sain          1944\n",
    "nombre_exposed        406\n",
    "nombre_recovered    16871\n",
    "Name: 164, dtype: int64"
   ]
  },
  {
   "cell_type": "markdown",
   "id": "ae4459bf",
   "metadata": {},
   "source": [
    "nombre_infected       783\n",
    "nombre_sain          1912\n",
    "nombre_exposed        397\n",
    "nombre_recovered    16908\n",
    "Name: 165, dtype: int64"
   ]
  },
  {
   "cell_type": "markdown",
   "id": "2fcd0908",
   "metadata": {},
   "source": [
    "nombre_infected       796\n",
    "nombre_sain          1892\n",
    "nombre_exposed        372\n",
    "nombre_recovered    16940\n",
    "Name: 166, dtype: int64"
   ]
  },
  {
   "cell_type": "markdown",
   "id": "c32bd41c",
   "metadata": {},
   "source": [
    "nombre_infected       784\n",
    "nombre_sain          1863\n",
    "nombre_exposed        370\n",
    "nombre_recovered    16983\n",
    "Name: 167, dtype: int64"
   ]
  },
  {
   "cell_type": "markdown",
   "id": "cbfaa938",
   "metadata": {},
   "source": [
    "nombre_infected       755\n",
    "nombre_sain          1860\n",
    "nombre_exposed        364\n",
    "nombre_recovered    17021\n",
    "Name: 168, dtype: int64"
   ]
  },
  {
   "cell_type": "markdown",
   "id": "cd017fa5",
   "metadata": {},
   "source": [
    "nombre_infected       747\n",
    "nombre_sain          1835\n",
    "nombre_exposed        340\n",
    "nombre_recovered    17078\n",
    "Name: 169, dtype: int64"
   ]
  },
  {
   "cell_type": "markdown",
   "id": "da762146",
   "metadata": {},
   "source": [
    "nombre_infected       727\n",
    "nombre_sain          1818\n",
    "nombre_exposed        345\n",
    "nombre_recovered    17110\n",
    "Name: 170, dtype: int64"
   ]
  },
  {
   "cell_type": "markdown",
   "id": "548617b5",
   "metadata": {},
   "source": [
    "nombre_infected       709\n",
    "nombre_sain          1810\n",
    "nombre_exposed        338\n",
    "nombre_recovered    17143\n",
    "Name: 171, dtype: int64"
   ]
  },
  {
   "cell_type": "markdown",
   "id": "bd9595a3",
   "metadata": {},
   "source": [
    "nombre_infected       674\n",
    "nombre_sain          1813\n",
    "nombre_exposed        343\n",
    "nombre_recovered    17170\n",
    "Name: 172, dtype: int64"
   ]
  },
  {
   "cell_type": "markdown",
   "id": "c7d2a165",
   "metadata": {},
   "source": [
    "nombre_infected       652\n",
    "nombre_sain          1809\n",
    "nombre_exposed        351\n",
    "nombre_recovered    17188\n",
    "Name: 173, dtype: int64"
   ]
  },
  {
   "cell_type": "markdown",
   "id": "69188675",
   "metadata": {},
   "source": [
    "nombre_infected       645\n",
    "nombre_sain          1831\n",
    "nombre_exposed        339\n",
    "nombre_recovered    17185\n",
    "Name: 174, dtype: int64"
   ]
  },
  {
   "cell_type": "markdown",
   "id": "2da83027",
   "metadata": {},
   "source": [
    "nombre_infected       650\n",
    "nombre_sain          1831\n",
    "nombre_exposed        330\n",
    "nombre_recovered    17189\n",
    "Name: 175, dtype: int64"
   ]
  },
  {
   "cell_type": "markdown",
   "id": "84184c08",
   "metadata": {},
   "source": [
    "nombre_infected       629\n",
    "nombre_sain          1858\n",
    "nombre_exposed        316\n",
    "nombre_recovered    17197\n",
    "Name: 176, dtype: int64"
   ]
  },
  {
   "cell_type": "markdown",
   "id": "5466cfb1",
   "metadata": {},
   "source": [
    "nombre_infected       629\n",
    "nombre_sain          1886\n",
    "nombre_exposed        295\n",
    "nombre_recovered    17190\n",
    "Name: 177, dtype: int64"
   ]
  },
  {
   "cell_type": "markdown",
   "id": "26de0887",
   "metadata": {},
   "source": [
    "nombre_infected       598\n",
    "nombre_sain          1907\n",
    "nombre_exposed        309\n",
    "nombre_recovered    17186\n",
    "Name: 178, dtype: int64"
   ]
  },
  {
   "cell_type": "markdown",
   "id": "e24bb03e",
   "metadata": {},
   "source": [
    "nombre_infected       593\n",
    "nombre_sain          1952\n",
    "nombre_exposed        298\n",
    "nombre_recovered    17157\n",
    "Name: 179, dtype: int64"
   ]
  },
  {
   "cell_type": "markdown",
   "id": "c0524551",
   "metadata": {},
   "source": [
    "nombre_infected       568\n",
    "nombre_sain          1967\n",
    "nombre_exposed        296\n",
    "nombre_recovered    17169\n",
    "Name: 180, dtype: int64"
   ]
  },
  {
   "cell_type": "markdown",
   "id": "e94dc15b",
   "metadata": {},
   "source": [
    "nombre_infected       568\n",
    "nombre_sain          2013\n",
    "nombre_exposed        282\n",
    "nombre_recovered    17137\n",
    "Name: 181, dtype: int64"
   ]
  },
  {
   "cell_type": "markdown",
   "id": "bd12799a",
   "metadata": {},
   "source": [
    "nombre_infected       553\n",
    "nombre_sain          2037\n",
    "nombre_exposed        295\n",
    "nombre_recovered    17115\n",
    "Name: 182, dtype: int64"
   ]
  },
  {
   "cell_type": "markdown",
   "id": "6e7766af",
   "metadata": {},
   "source": [
    "nombre_infected       548\n",
    "nombre_sain          2094\n",
    "nombre_exposed        292\n",
    "nombre_recovered    17066\n",
    "Name: 183, dtype: int64"
   ]
  },
  {
   "cell_type": "markdown",
   "id": "20e974b8",
   "metadata": {},
   "source": [
    "nombre_infected       545\n",
    "nombre_sain          2107\n",
    "nombre_exposed        293\n",
    "nombre_recovered    17055\n",
    "Name: 184, dtype: int64"
   ]
  },
  {
   "cell_type": "markdown",
   "id": "d7d45f48",
   "metadata": {},
   "source": [
    "nombre_infected       547\n",
    "nombre_sain          2124\n",
    "nombre_exposed        289\n",
    "nombre_recovered    17040\n",
    "Name: 185, dtype: int64"
   ]
  },
  {
   "cell_type": "markdown",
   "id": "68c98d8b",
   "metadata": {},
   "source": [
    "nombre_infected       553\n",
    "nombre_sain          2155\n",
    "nombre_exposed        267\n",
    "nombre_recovered    17025\n",
    "Name: 186, dtype: int64"
   ]
  },
  {
   "cell_type": "markdown",
   "id": "d6d171aa",
   "metadata": {},
   "source": [
    "nombre_infected       545\n",
    "nombre_sain          2163\n",
    "nombre_exposed        271\n",
    "nombre_recovered    17021\n",
    "Name: 187, dtype: int64"
   ]
  },
  {
   "cell_type": "markdown",
   "id": "381c3e85",
   "metadata": {},
   "source": [
    "nombre_infected       552\n",
    "nombre_sain          2167\n",
    "nombre_exposed        268\n",
    "nombre_recovered    17013\n",
    "Name: 188, dtype: int64"
   ]
  },
  {
   "cell_type": "markdown",
   "id": "99130a14",
   "metadata": {},
   "source": [
    "nombre_infected       541\n",
    "nombre_sain          2182\n",
    "nombre_exposed        279\n",
    "nombre_recovered    16998\n",
    "Name: 189, dtype: int64"
   ]
  },
  {
   "cell_type": "markdown",
   "id": "e5f709eb",
   "metadata": {},
   "source": [
    "nombre_infected       554\n",
    "nombre_sain          2197\n",
    "nombre_exposed        257\n",
    "nombre_recovered    16992\n",
    "Name: 190, dtype: int64"
   ]
  },
  {
   "cell_type": "markdown",
   "id": "91e3dce1",
   "metadata": {},
   "source": [
    "nombre_infected       547\n",
    "nombre_sain          2183\n",
    "nombre_exposed        277\n",
    "nombre_recovered    16993\n",
    "Name: 191, dtype: int64"
   ]
  },
  {
   "cell_type": "markdown",
   "id": "1e4bfff3",
   "metadata": {},
   "source": [
    "nombre_infected       536\n",
    "nombre_sain          2186\n",
    "nombre_exposed        286\n",
    "nombre_recovered    16992\n",
    "Name: 192, dtype: int64"
   ]
  },
  {
   "cell_type": "markdown",
   "id": "64c29c00",
   "metadata": {},
   "source": [
    "nombre_infected       523\n",
    "nombre_sain          2213\n",
    "nombre_exposed        296\n",
    "nombre_recovered    16968\n",
    "Name: 193, dtype: int64"
   ]
  },
  {
   "cell_type": "markdown",
   "id": "4106b88d",
   "metadata": {},
   "source": [
    "nombre_infected       529\n",
    "nombre_sain          2230\n",
    "nombre_exposed        299\n",
    "nombre_recovered    16942\n",
    "Name: 194, dtype: int64"
   ]
  },
  {
   "cell_type": "markdown",
   "id": "3dd9b28b",
   "metadata": {},
   "source": [
    "nombre_infected       535\n",
    "nombre_sain          2224\n",
    "nombre_exposed        322\n",
    "nombre_recovered    16919\n",
    "Name: 195, dtype: int64"
   ]
  },
  {
   "cell_type": "markdown",
   "id": "4bddb348",
   "metadata": {},
   "source": [
    "nombre_infected       516\n",
    "nombre_sain          2220\n",
    "nombre_exposed        364\n",
    "nombre_recovered    16900\n",
    "Name: 196, dtype: int64"
   ]
  },
  {
   "cell_type": "markdown",
   "id": "c36f7d0d",
   "metadata": {},
   "source": [
    "nombre_infected       517\n",
    "nombre_sain          2249\n",
    "nombre_exposed        362\n",
    "nombre_recovered    16872\n",
    "Name: 197, dtype: int64"
   ]
  },
  {
   "cell_type": "markdown",
   "id": "fe305421",
   "metadata": {},
   "source": [
    "nombre_infected       553\n",
    "nombre_sain          2280\n",
    "nombre_exposed        347\n",
    "nombre_recovered    16820\n",
    "Name: 198, dtype: int64"
   ]
  },
  {
   "cell_type": "markdown",
   "id": "08ae56e5",
   "metadata": {},
   "source": [
    "nombre_infected       546\n",
    "nombre_sain          2313\n",
    "nombre_exposed        346\n",
    "nombre_recovered    16795\n",
    "Name: 199, dtype: int64"
   ]
  },
  {
   "cell_type": "markdown",
   "id": "5964b05d",
   "metadata": {},
   "source": [
    "nombre_infected       569\n",
    "nombre_sain          2340\n",
    "nombre_exposed        340\n",
    "nombre_recovered    16751\n",
    "Name: 200, dtype: int64"
   ]
  },
  {
   "cell_type": "markdown",
   "id": "bf18e267",
   "metadata": {},
   "source": [
    "nombre_infected       586\n",
    "nombre_sain          2352\n",
    "nombre_exposed        342\n",
    "nombre_recovered    16720\n",
    "Name: 201, dtype: int64"
   ]
  },
  {
   "cell_type": "markdown",
   "id": "6f490b58",
   "metadata": {},
   "source": [
    "nombre_infected       599\n",
    "nombre_sain          2355\n",
    "nombre_exposed        344\n",
    "nombre_recovered    16702\n",
    "Name: 202, dtype: int64"
   ]
  },
  {
   "cell_type": "markdown",
   "id": "dd9cda4e",
   "metadata": {},
   "source": [
    "nombre_infected       602\n",
    "nombre_sain          2363\n",
    "nombre_exposed        362\n",
    "nombre_recovered    16673\n",
    "Name: 203, dtype: int64"
   ]
  },
  {
   "cell_type": "markdown",
   "id": "a317047f",
   "metadata": {},
   "source": [
    "nombre_infected       598\n",
    "nombre_sain          2338\n",
    "nombre_exposed        382\n",
    "nombre_recovered    16682\n",
    "Name: 204, dtype: int64"
   ]
  },
  {
   "cell_type": "markdown",
   "id": "41e0550b",
   "metadata": {},
   "source": [
    "nombre_infected       593\n",
    "nombre_sain          2329\n",
    "nombre_exposed        419\n",
    "nombre_recovered    16659\n",
    "Name: 205, dtype: int64"
   ]
  },
  {
   "cell_type": "markdown",
   "id": "844290c3",
   "metadata": {},
   "source": [
    "nombre_infected       620\n",
    "nombre_sain          2340\n",
    "nombre_exposed        386\n",
    "nombre_recovered    16654\n",
    "Name: 206, dtype: int64"
   ]
  },
  {
   "cell_type": "markdown",
   "id": "5c4fbc53",
   "metadata": {},
   "source": [
    "nombre_infected       641\n",
    "nombre_sain          2360\n",
    "nombre_exposed        363\n",
    "nombre_recovered    16636\n",
    "Name: 207, dtype: int64"
   ]
  },
  {
   "cell_type": "markdown",
   "id": "166ad60d",
   "metadata": {},
   "source": [
    "nombre_infected       649\n",
    "nombre_sain          2354\n",
    "nombre_exposed        357\n",
    "nombre_recovered    16640\n",
    "Name: 208, dtype: int64"
   ]
  },
  {
   "cell_type": "markdown",
   "id": "62824232",
   "metadata": {},
   "source": [
    "nombre_infected       639\n",
    "nombre_sain          2354\n",
    "nombre_exposed        354\n",
    "nombre_recovered    16653\n",
    "Name: 209, dtype: int64"
   ]
  },
  {
   "cell_type": "markdown",
   "id": "b42a187e",
   "metadata": {},
   "source": [
    "nombre_infected       634\n",
    "nombre_sain          2315\n",
    "nombre_exposed        386\n",
    "nombre_recovered    16665\n",
    "Name: 210, dtype: int64"
   ]
  },
  {
   "cell_type": "markdown",
   "id": "22b54000",
   "metadata": {},
   "source": [
    "nombre_infected       647\n",
    "nombre_sain          2339\n",
    "nombre_exposed        374\n",
    "nombre_recovered    16640\n",
    "Name: 211, dtype: int64"
   ]
  },
  {
   "cell_type": "markdown",
   "id": "354ed808",
   "metadata": {},
   "source": [
    "nombre_infected       660\n",
    "nombre_sain          2342\n",
    "nombre_exposed        376\n",
    "nombre_recovered    16622\n",
    "Name: 212, dtype: int64"
   ]
  },
  {
   "cell_type": "markdown",
   "id": "99e80d0c",
   "metadata": {},
   "source": [
    "nombre_infected       672\n",
    "nombre_sain          2323\n",
    "nombre_exposed        393\n",
    "nombre_recovered    16612\n",
    "Name: 213, dtype: int64"
   ]
  },
  {
   "cell_type": "markdown",
   "id": "83831c68",
   "metadata": {},
   "source": [
    "nombre_infected       659\n",
    "nombre_sain          2313\n",
    "nombre_exposed        411\n",
    "nombre_recovered    16617\n",
    "Name: 214, dtype: int64"
   ]
  },
  {
   "cell_type": "markdown",
   "id": "ebf3dfa5",
   "metadata": {},
   "source": [
    "nombre_infected       662\n",
    "nombre_sain          2326\n",
    "nombre_exposed        416\n",
    "nombre_recovered    16596\n",
    "Name: 215, dtype: int64"
   ]
  },
  {
   "cell_type": "markdown",
   "id": "b8632627",
   "metadata": {},
   "source": [
    "nombre_infected       681\n",
    "nombre_sain          2317\n",
    "nombre_exposed        416\n",
    "nombre_recovered    16586\n",
    "Name: 216, dtype: int64"
   ]
  },
  {
   "cell_type": "markdown",
   "id": "cdfcf941",
   "metadata": {},
   "source": [
    "nombre_infected       687\n",
    "nombre_sain          2341\n",
    "nombre_exposed        409\n",
    "nombre_recovered    16563\n",
    "Name: 217, dtype: int64"
   ]
  },
  {
   "cell_type": "markdown",
   "id": "e1a6e5ab",
   "metadata": {},
   "source": [
    "nombre_infected       700\n",
    "nombre_sain          2321\n",
    "nombre_exposed        410\n",
    "nombre_recovered    16569\n",
    "Name: 218, dtype: int64"
   ]
  },
  {
   "cell_type": "markdown",
   "id": "ea949655",
   "metadata": {},
   "source": [
    "nombre_infected       704\n",
    "nombre_sain          2309\n",
    "nombre_exposed        412\n",
    "nombre_recovered    16575\n",
    "Name: 219, dtype: int64"
   ]
  },
  {
   "cell_type": "markdown",
   "id": "ecd0f250",
   "metadata": {},
   "source": [
    "nombre_infected       713\n",
    "nombre_sain          2279\n",
    "nombre_exposed        431\n",
    "nombre_recovered    16577\n",
    "Name: 220, dtype: int64"
   ]
  },
  {
   "cell_type": "markdown",
   "id": "87ec8f29",
   "metadata": {},
   "source": [
    "nombre_infected       713\n",
    "nombre_sain          2285\n",
    "nombre_exposed        424\n",
    "nombre_recovered    16578\n",
    "Name: 221, dtype: int64"
   ]
  },
  {
   "cell_type": "markdown",
   "id": "0b37958a",
   "metadata": {},
   "source": [
    "nombre_infected       722\n",
    "nombre_sain          2261\n",
    "nombre_exposed        434\n",
    "nombre_recovered    16583\n",
    "Name: 222, dtype: int64"
   ]
  },
  {
   "cell_type": "markdown",
   "id": "ed5c4c12",
   "metadata": {},
   "source": [
    "nombre_infected       731\n",
    "nombre_sain          2240\n",
    "nombre_exposed        446\n",
    "nombre_recovered    16583\n",
    "Name: 223, dtype: int64"
   ]
  },
  {
   "cell_type": "markdown",
   "id": "414d0e59",
   "metadata": {},
   "source": [
    "nombre_infected       722\n",
    "nombre_sain          2223\n",
    "nombre_exposed        452\n",
    "nombre_recovered    16603\n",
    "Name: 224, dtype: int64"
   ]
  },
  {
   "cell_type": "markdown",
   "id": "b10ec112",
   "metadata": {},
   "source": [
    "nombre_infected       719\n",
    "nombre_sain          2203\n",
    "nombre_exposed        475\n",
    "nombre_recovered    16603\n",
    "Name: 225, dtype: int64"
   ]
  },
  {
   "cell_type": "markdown",
   "id": "0f6f0bcd",
   "metadata": {},
   "source": [
    "nombre_infected       745\n",
    "nombre_sain          2195\n",
    "nombre_exposed        456\n",
    "nombre_recovered    16604\n",
    "Name: 226, dtype: int64"
   ]
  },
  {
   "cell_type": "markdown",
   "id": "68e03cc9",
   "metadata": {},
   "source": [
    "nombre_infected       761\n",
    "nombre_sain          2203\n",
    "nombre_exposed        446\n",
    "nombre_recovered    16590\n",
    "Name: 227, dtype: int64"
   ]
  },
  {
   "cell_type": "markdown",
   "id": "b7f37290",
   "metadata": {},
   "source": [
    "nombre_infected       789\n",
    "nombre_sain          2191\n",
    "nombre_exposed        429\n",
    "nombre_recovered    16591\n",
    "Name: 228, dtype: int64"
   ]
  },
  {
   "cell_type": "markdown",
   "id": "f438a7e4",
   "metadata": {},
   "source": [
    "nombre_infected       801\n",
    "nombre_sain          2174\n",
    "nombre_exposed        428\n",
    "nombre_recovered    16597\n",
    "Name: 229, dtype: int64"
   ]
  },
  {
   "cell_type": "markdown",
   "id": "b99cb25e",
   "metadata": {},
   "source": [
    "nombre_infected       802\n",
    "nombre_sain          2166\n",
    "nombre_exposed        431\n",
    "nombre_recovered    16601\n",
    "Name: 230, dtype: int64"
   ]
  },
  {
   "cell_type": "markdown",
   "id": "5e5b1ca7",
   "metadata": {},
   "source": [
    "nombre_infected       804\n",
    "nombre_sain          2169\n",
    "nombre_exposed        441\n",
    "nombre_recovered    16586\n",
    "Name: 231, dtype: int64"
   ]
  },
  {
   "cell_type": "markdown",
   "id": "a2a8c3de",
   "metadata": {},
   "source": [
    "nombre_infected       789\n",
    "nombre_sain          2172\n",
    "nombre_exposed        450\n",
    "nombre_recovered    16589\n",
    "Name: 232, dtype: int64"
   ]
  },
  {
   "cell_type": "markdown",
   "id": "61019eec",
   "metadata": {},
   "source": [
    "nombre_infected       780\n",
    "nombre_sain          2164\n",
    "nombre_exposed        471\n",
    "nombre_recovered    16585\n",
    "Name: 233, dtype: int64"
   ]
  },
  {
   "cell_type": "markdown",
   "id": "78ca3a98",
   "metadata": {},
   "source": [
    "nombre_infected       809\n",
    "nombre_sain          2181\n",
    "nombre_exposed        430\n",
    "nombre_recovered    16580\n",
    "Name: 234, dtype: int64"
   ]
  },
  {
   "cell_type": "markdown",
   "id": "6230dee7",
   "metadata": {},
   "source": [
    "nombre_infected       831\n",
    "nombre_sain          2186\n",
    "nombre_exposed        419\n",
    "nombre_recovered    16564\n",
    "Name: 235, dtype: int64"
   ]
  },
  {
   "cell_type": "markdown",
   "id": "d35bb3ff",
   "metadata": {},
   "source": [
    "nombre_infected       817\n",
    "nombre_sain          2188\n",
    "nombre_exposed        437\n",
    "nombre_recovered    16558\n",
    "Name: 236, dtype: int64"
   ]
  },
  {
   "cell_type": "markdown",
   "id": "acc26103",
   "metadata": {},
   "source": [
    "nombre_infected       798\n",
    "nombre_sain          2188\n",
    "nombre_exposed        460\n",
    "nombre_recovered    16554\n",
    "Name: 237, dtype: int64"
   ]
  },
  {
   "cell_type": "markdown",
   "id": "c1365c6b",
   "metadata": {},
   "source": [
    "nombre_infected       802\n",
    "nombre_sain          2167\n",
    "nombre_exposed        467\n",
    "nombre_recovered    16564\n",
    "Name: 238, dtype: int64"
   ]
  },
  {
   "cell_type": "markdown",
   "id": "db4677de",
   "metadata": {},
   "source": [
    "nombre_infected       789\n",
    "nombre_sain          2161\n",
    "nombre_exposed        488\n",
    "nombre_recovered    16562\n",
    "Name: 239, dtype: int64"
   ]
  },
  {
   "cell_type": "markdown",
   "id": "ba4a3e91",
   "metadata": {},
   "source": [
    "nombre_infected       820\n",
    "nombre_sain          2158\n",
    "nombre_exposed        492\n",
    "nombre_recovered    16530\n",
    "Name: 240, dtype: int64"
   ]
  },
  {
   "cell_type": "markdown",
   "id": "65e1992a",
   "metadata": {},
   "source": [
    "nombre_infected       820\n",
    "nombre_sain          2188\n",
    "nombre_exposed        465\n",
    "nombre_recovered    16527\n",
    "Name: 241, dtype: int64"
   ]
  },
  {
   "cell_type": "markdown",
   "id": "f358fa5e",
   "metadata": {},
   "source": [
    "nombre_infected       816\n",
    "nombre_sain          2184\n",
    "nombre_exposed        477\n",
    "nombre_recovered    16523\n",
    "Name: 242, dtype: int64"
   ]
  },
  {
   "cell_type": "markdown",
   "id": "b0fe9942",
   "metadata": {},
   "source": [
    "nombre_infected       821\n",
    "nombre_sain          2175\n",
    "nombre_exposed        477\n",
    "nombre_recovered    16527\n",
    "Name: 243, dtype: int64"
   ]
  },
  {
   "cell_type": "markdown",
   "id": "853d4ddf",
   "metadata": {},
   "source": [
    "nombre_infected       832\n",
    "nombre_sain          2189\n",
    "nombre_exposed        469\n",
    "nombre_recovered    16510\n",
    "Name: 244, dtype: int64"
   ]
  },
  {
   "cell_type": "markdown",
   "id": "6f04b70a",
   "metadata": {},
   "source": [
    "nombre_infected       850\n",
    "nombre_sain          2151\n",
    "nombre_exposed        475\n",
    "nombre_recovered    16524\n",
    "Name: 245, dtype: int64"
   ]
  },
  {
   "cell_type": "markdown",
   "id": "59c55617",
   "metadata": {},
   "source": [
    "nombre_infected       852\n",
    "nombre_sain          2154\n",
    "nombre_exposed        473\n",
    "nombre_recovered    16521\n",
    "Name: 246, dtype: int64"
   ]
  },
  {
   "cell_type": "markdown",
   "id": "108da792",
   "metadata": {},
   "source": [
    "nombre_infected       847\n",
    "nombre_sain          2175\n",
    "nombre_exposed        469\n",
    "nombre_recovered    16509\n",
    "Name: 247, dtype: int64"
   ]
  },
  {
   "cell_type": "markdown",
   "id": "a48341b3",
   "metadata": {},
   "source": [
    "nombre_infected       874\n",
    "nombre_sain          2172\n",
    "nombre_exposed        460\n",
    "nombre_recovered    16494\n",
    "Name: 248, dtype: int64"
   ]
  },
  {
   "cell_type": "markdown",
   "id": "2a3b63dd",
   "metadata": {},
   "source": [
    "nombre_infected       882\n",
    "nombre_sain          2172\n",
    "nombre_exposed        452\n",
    "nombre_recovered    16494\n",
    "Name: 249, dtype: int64"
   ]
  },
  {
   "cell_type": "markdown",
   "id": "1cd8b048",
   "metadata": {},
   "source": [
    "nombre_infected       890\n",
    "nombre_sain          2144\n",
    "nombre_exposed        469\n",
    "nombre_recovered    16497\n",
    "Name: 250, dtype: int64"
   ]
  },
  {
   "cell_type": "markdown",
   "id": "febad21a",
   "metadata": {},
   "source": [
    "nombre_infected       878\n",
    "nombre_sain          2135\n",
    "nombre_exposed        489\n",
    "nombre_recovered    16498\n",
    "Name: 251, dtype: int64"
   ]
  },
  {
   "cell_type": "markdown",
   "id": "9da32cd5",
   "metadata": {},
   "source": [
    "nombre_infected       865\n",
    "nombre_sain          2100\n",
    "nombre_exposed        508\n",
    "nombre_recovered    16527\n",
    "Name: 252, dtype: int64"
   ]
  },
  {
   "cell_type": "markdown",
   "id": "c31e890a",
   "metadata": {},
   "source": [
    "nombre_infected       841\n",
    "nombre_sain          2106\n",
    "nombre_exposed        516\n",
    "nombre_recovered    16537\n",
    "Name: 253, dtype: int64"
   ]
  },
  {
   "cell_type": "markdown",
   "id": "df8d4ada",
   "metadata": {},
   "source": [
    "nombre_infected       858\n",
    "nombre_sain          2102\n",
    "nombre_exposed        496\n",
    "nombre_recovered    16544\n",
    "Name: 254, dtype: int64"
   ]
  },
  {
   "cell_type": "markdown",
   "id": "3ccb4826",
   "metadata": {},
   "source": [
    "nombre_infected       854\n",
    "nombre_sain          2098\n",
    "nombre_exposed        483\n",
    "nombre_recovered    16565\n",
    "Name: 255, dtype: int64"
   ]
  },
  {
   "cell_type": "markdown",
   "id": "269a0b1c",
   "metadata": {},
   "source": [
    "nombre_infected       858\n",
    "nombre_sain          2126\n",
    "nombre_exposed        460\n",
    "nombre_recovered    16556\n",
    "Name: 256, dtype: int64"
   ]
  },
  {
   "cell_type": "markdown",
   "id": "fce4d552",
   "metadata": {},
   "source": [
    "nombre_infected       879\n",
    "nombre_sain          2143\n",
    "nombre_exposed        430\n",
    "nombre_recovered    16548\n",
    "Name: 257, dtype: int64"
   ]
  },
  {
   "cell_type": "markdown",
   "id": "022f78ec",
   "metadata": {},
   "source": [
    "nombre_infected       861\n",
    "nombre_sain          2139\n",
    "nombre_exposed        444\n",
    "nombre_recovered    16556\n",
    "Name: 258, dtype: int64"
   ]
  },
  {
   "cell_type": "markdown",
   "id": "13418892",
   "metadata": {},
   "source": [
    "nombre_infected       840\n",
    "nombre_sain          2124\n",
    "nombre_exposed        456\n",
    "nombre_recovered    16580\n",
    "Name: 259, dtype: int64"
   ]
  },
  {
   "cell_type": "markdown",
   "id": "9fe07c26",
   "metadata": {},
   "source": [
    "nombre_infected       823\n",
    "nombre_sain          2110\n",
    "nombre_exposed        466\n",
    "nombre_recovered    16601\n",
    "Name: 260, dtype: int64"
   ]
  },
  {
   "cell_type": "markdown",
   "id": "0bf33294",
   "metadata": {},
   "source": [
    "nombre_infected       806\n",
    "nombre_sain          2139\n",
    "nombre_exposed        473\n",
    "nombre_recovered    16582\n",
    "Name: 261, dtype: int64"
   ]
  },
  {
   "cell_type": "markdown",
   "id": "9b838a69",
   "metadata": {},
   "source": [
    "nombre_infected       812\n",
    "nombre_sain          2169\n",
    "nombre_exposed        441\n",
    "nombre_recovered    16578\n",
    "Name: 262, dtype: int64"
   ]
  },
  {
   "cell_type": "markdown",
   "id": "f4476337",
   "metadata": {},
   "source": [
    "nombre_infected       809\n",
    "nombre_sain          2181\n",
    "nombre_exposed        427\n",
    "nombre_recovered    16583\n",
    "Name: 263, dtype: int64"
   ]
  },
  {
   "cell_type": "markdown",
   "id": "4b49642e",
   "metadata": {},
   "source": [
    "nombre_infected       806\n",
    "nombre_sain          2166\n",
    "nombre_exposed        441\n",
    "nombre_recovered    16587\n",
    "Name: 264, dtype: int64"
   ]
  },
  {
   "cell_type": "markdown",
   "id": "b79fa99a",
   "metadata": {},
   "source": [
    "nombre_infected       785\n",
    "nombre_sain          2169\n",
    "nombre_exposed        432\n",
    "nombre_recovered    16614\n",
    "Name: 265, dtype: int64"
   ]
  },
  {
   "cell_type": "markdown",
   "id": "996dcd8e",
   "metadata": {},
   "source": [
    "nombre_infected       782\n",
    "nombre_sain          2162\n",
    "nombre_exposed        428\n",
    "nombre_recovered    16628\n",
    "Name: 266, dtype: int64"
   ]
  },
  {
   "cell_type": "markdown",
   "id": "40c81122",
   "metadata": {},
   "source": [
    "nombre_infected       784\n",
    "nombre_sain          2157\n",
    "nombre_exposed        421\n",
    "nombre_recovered    16638\n",
    "Name: 267, dtype: int64"
   ]
  },
  {
   "cell_type": "markdown",
   "id": "abcd297c",
   "metadata": {},
   "source": [
    "nombre_infected       773\n",
    "nombre_sain          2140\n",
    "nombre_exposed        450\n",
    "nombre_recovered    16637\n",
    "Name: 268, dtype: int64"
   ]
  },
  {
   "cell_type": "markdown",
   "id": "e62cb90c",
   "metadata": {},
   "source": [
    "nombre_infected       776\n",
    "nombre_sain          2161\n",
    "nombre_exposed        443\n",
    "nombre_recovered    16620\n",
    "Name: 269, dtype: int64"
   ]
  },
  {
   "cell_type": "markdown",
   "id": "70a80723",
   "metadata": {},
   "source": [
    "nombre_infected       760\n",
    "nombre_sain          2145\n",
    "nombre_exposed        452\n",
    "nombre_recovered    16643\n",
    "Name: 270, dtype: int64"
   ]
  },
  {
   "cell_type": "markdown",
   "id": "a5cc5311",
   "metadata": {},
   "source": [
    "nombre_infected       743\n",
    "nombre_sain          2144\n",
    "nombre_exposed        458\n",
    "nombre_recovered    16655\n",
    "Name: 271, dtype: int64"
   ]
  },
  {
   "cell_type": "markdown",
   "id": "2d03d192",
   "metadata": {},
   "source": [
    "nombre_infected       747\n",
    "nombre_sain          2141\n",
    "nombre_exposed        456\n",
    "nombre_recovered    16656\n",
    "Name: 272, dtype: int64"
   ]
  },
  {
   "cell_type": "markdown",
   "id": "c799e55a",
   "metadata": {},
   "source": [
    "nombre_infected       752\n",
    "nombre_sain          2131\n",
    "nombre_exposed        446\n",
    "nombre_recovered    16671\n",
    "Name: 273, dtype: int64"
   ]
  },
  {
   "cell_type": "markdown",
   "id": "9e2418ab",
   "metadata": {},
   "source": [
    "nombre_infected       752\n",
    "nombre_sain          2131\n",
    "nombre_exposed        438\n",
    "nombre_recovered    16679\n",
    "Name: 274, dtype: int64"
   ]
  },
  {
   "cell_type": "markdown",
   "id": "5c4ff9f7",
   "metadata": {},
   "source": [
    "nombre_infected       738\n",
    "nombre_sain          2139\n",
    "nombre_exposed        429\n",
    "nombre_recovered    16694\n",
    "Name: 275, dtype: int64"
   ]
  },
  {
   "cell_type": "markdown",
   "id": "5103c1f7",
   "metadata": {},
   "source": [
    "nombre_infected       752\n",
    "nombre_sain          2150\n",
    "nombre_exposed        395\n",
    "nombre_recovered    16703\n",
    "Name: 276, dtype: int64"
   ]
  },
  {
   "cell_type": "markdown",
   "id": "81c627d8",
   "metadata": {},
   "source": [
    "nombre_infected       740\n",
    "nombre_sain          2134\n",
    "nombre_exposed        403\n",
    "nombre_recovered    16723\n",
    "Name: 277, dtype: int64"
   ]
  },
  {
   "cell_type": "markdown",
   "id": "4d19b833",
   "metadata": {},
   "source": [
    "nombre_infected       719\n",
    "nombre_sain          2132\n",
    "nombre_exposed        410\n",
    "nombre_recovered    16739\n",
    "Name: 278, dtype: int64"
   ]
  },
  {
   "cell_type": "markdown",
   "id": "8f0dc19a",
   "metadata": {},
   "source": [
    "nombre_infected       723\n",
    "nombre_sain          2153\n",
    "nombre_exposed        377\n",
    "nombre_recovered    16747\n",
    "Name: 279, dtype: int64"
   ]
  },
  {
   "cell_type": "markdown",
   "id": "c4df32e0",
   "metadata": {},
   "source": [
    "nombre_infected       730\n",
    "nombre_sain          2139\n",
    "nombre_exposed        380\n",
    "nombre_recovered    16751\n",
    "Name: 280, dtype: int64"
   ]
  },
  {
   "cell_type": "markdown",
   "id": "eed47734",
   "metadata": {},
   "source": [
    "nombre_infected       709\n",
    "nombre_sain          2130\n",
    "nombre_exposed        394\n",
    "nombre_recovered    16767\n",
    "Name: 281, dtype: int64"
   ]
  },
  {
   "cell_type": "markdown",
   "id": "d87054ed",
   "metadata": {},
   "source": [
    "nombre_infected       706\n",
    "nombre_sain          2140\n",
    "nombre_exposed        387\n",
    "nombre_recovered    16767\n",
    "Name: 282, dtype: int64"
   ]
  },
  {
   "cell_type": "markdown",
   "id": "79b1f4ec",
   "metadata": {},
   "source": [
    "nombre_infected       714\n",
    "nombre_sain          2133\n",
    "nombre_exposed        398\n",
    "nombre_recovered    16755\n",
    "Name: 283, dtype: int64"
   ]
  },
  {
   "cell_type": "markdown",
   "id": "1c4ac75d",
   "metadata": {},
   "source": [
    "nombre_infected       715\n",
    "nombre_sain          2130\n",
    "nombre_exposed        396\n",
    "nombre_recovered    16759\n",
    "Name: 284, dtype: int64"
   ]
  },
  {
   "cell_type": "markdown",
   "id": "c788b5c2",
   "metadata": {},
   "source": [
    "nombre_infected       727\n",
    "nombre_sain          2132\n",
    "nombre_exposed        381\n",
    "nombre_recovered    16760\n",
    "Name: 285, dtype: int64"
   ]
  },
  {
   "cell_type": "markdown",
   "id": "5a6ffdd2",
   "metadata": {},
   "source": [
    "nombre_infected       730\n",
    "nombre_sain          2158\n",
    "nombre_exposed        366\n",
    "nombre_recovered    16746\n",
    "Name: 286, dtype: int64"
   ]
  },
  {
   "cell_type": "markdown",
   "id": "e52ed280",
   "metadata": {},
   "source": [
    "nombre_infected       696\n",
    "nombre_sain          2172\n",
    "nombre_exposed        383\n",
    "nombre_recovered    16749\n",
    "Name: 287, dtype: int64"
   ]
  },
  {
   "cell_type": "markdown",
   "id": "a9600c00",
   "metadata": {},
   "source": [
    "nombre_infected       686\n",
    "nombre_sain          2195\n",
    "nombre_exposed        386\n",
    "nombre_recovered    16733\n",
    "Name: 288, dtype: int64"
   ]
  },
  {
   "cell_type": "markdown",
   "id": "56909e97",
   "metadata": {},
   "source": [
    "nombre_infected       700\n",
    "nombre_sain          2186\n",
    "nombre_exposed        397\n",
    "nombre_recovered    16717\n",
    "Name: 289, dtype: int64"
   ]
  },
  {
   "cell_type": "markdown",
   "id": "96cddc6a",
   "metadata": {},
   "source": [
    "nombre_infected       707\n",
    "nombre_sain          2219\n",
    "nombre_exposed        378\n",
    "nombre_recovered    16696\n",
    "Name: 290, dtype: int64"
   ]
  },
  {
   "cell_type": "markdown",
   "id": "da64bdb0",
   "metadata": {},
   "source": [
    "nombre_infected       712\n",
    "nombre_sain          2249\n",
    "nombre_exposed        367\n",
    "nombre_recovered    16672\n",
    "Name: 291, dtype: int64"
   ]
  },
  {
   "cell_type": "markdown",
   "id": "4010989d",
   "metadata": {},
   "source": [
    "nombre_infected       712\n",
    "nombre_sain          2242\n",
    "nombre_exposed        389\n",
    "nombre_recovered    16657\n",
    "Name: 292, dtype: int64"
   ]
  },
  {
   "cell_type": "markdown",
   "id": "41759283",
   "metadata": {},
   "source": [
    "nombre_infected       702\n",
    "nombre_sain          2250\n",
    "nombre_exposed        407\n",
    "nombre_recovered    16641\n",
    "Name: 293, dtype: int64"
   ]
  },
  {
   "cell_type": "markdown",
   "id": "cb711711",
   "metadata": {},
   "source": [
    "nombre_infected       689\n",
    "nombre_sain          2266\n",
    "nombre_exposed        423\n",
    "nombre_recovered    16622\n",
    "Name: 294, dtype: int64"
   ]
  },
  {
   "cell_type": "markdown",
   "id": "eb32f8fb",
   "metadata": {},
   "source": [
    "nombre_infected       690\n",
    "nombre_sain          2281\n",
    "nombre_exposed        425\n",
    "nombre_recovered    16604\n",
    "Name: 295, dtype: int64"
   ]
  },
  {
   "cell_type": "markdown",
   "id": "90ac5b3a",
   "metadata": {},
   "source": [
    "nombre_infected       695\n",
    "nombre_sain          2277\n",
    "nombre_exposed        446\n",
    "nombre_recovered    16582\n",
    "Name: 296, dtype: int64"
   ]
  },
  {
   "cell_type": "markdown",
   "id": "83c4d5d7",
   "metadata": {},
   "source": [
    "nombre_infected       726\n",
    "nombre_sain          2287\n",
    "nombre_exposed        417\n",
    "nombre_recovered    16570\n",
    "Name: 297, dtype: int64"
   ]
  },
  {
   "cell_type": "markdown",
   "id": "e87f2edd",
   "metadata": {},
   "source": [
    "nombre_infected       746\n",
    "nombre_sain          2303\n",
    "nombre_exposed        418\n",
    "nombre_recovered    16533\n",
    "Name: 298, dtype: int64"
   ]
  },
  {
   "cell_type": "markdown",
   "id": "1d3f52f9",
   "metadata": {},
   "source": [
    "nombre_infected       728\n",
    "nombre_sain          2308\n",
    "nombre_exposed        422\n",
    "nombre_recovered    16542\n",
    "Name: 299, dtype: int64"
   ]
  },
  {
   "cell_type": "markdown",
   "id": "9ab5ff86",
   "metadata": {},
   "source": [
    "nombre_infected       730\n",
    "nombre_sain          2323\n",
    "nombre_exposed        433\n",
    "nombre_recovered    16514\n",
    "Name: 300, dtype: int64"
   ]
  },
  {
   "cell_type": "markdown",
   "id": "fc8fd46f",
   "metadata": {},
   "source": [
    "nombre_infected       729\n",
    "nombre_sain          2322\n",
    "nombre_exposed        434\n",
    "nombre_recovered    16515\n",
    "Name: 301, dtype: int64"
   ]
  },
  {
   "cell_type": "markdown",
   "id": "12f32ae6",
   "metadata": {},
   "source": [
    "nombre_infected       726\n",
    "nombre_sain          2345\n",
    "nombre_exposed        427\n",
    "nombre_recovered    16502\n",
    "Name: 302, dtype: int64"
   ]
  },
  {
   "cell_type": "markdown",
   "id": "985bab05",
   "metadata": {},
   "source": [
    "nombre_infected       723\n",
    "nombre_sain          2361\n",
    "nombre_exposed        422\n",
    "nombre_recovered    16494\n",
    "Name: 303, dtype: int64"
   ]
  },
  {
   "cell_type": "markdown",
   "id": "0cd45714",
   "metadata": {},
   "source": [
    "nombre_infected       729\n",
    "nombre_sain          2383\n",
    "nombre_exposed        413\n",
    "nombre_recovered    16475\n",
    "Name: 304, dtype: int64"
   ]
  },
  {
   "cell_type": "markdown",
   "id": "9ab950b5",
   "metadata": {},
   "source": [
    "nombre_infected       724\n",
    "nombre_sain          2398\n",
    "nombre_exposed        413\n",
    "nombre_recovered    16465\n",
    "Name: 305, dtype: int64"
   ]
  },
  {
   "cell_type": "markdown",
   "id": "030b2fbb",
   "metadata": {},
   "source": [
    "nombre_infected       726\n",
    "nombre_sain          2418\n",
    "nombre_exposed        431\n",
    "nombre_recovered    16425\n",
    "Name: 306, dtype: int64"
   ]
  },
  {
   "cell_type": "markdown",
   "id": "fe787f54",
   "metadata": {},
   "source": [
    "nombre_infected       732\n",
    "nombre_sain          2428\n",
    "nombre_exposed        434\n",
    "nombre_recovered    16406\n",
    "Name: 307, dtype: int64"
   ]
  },
  {
   "cell_type": "markdown",
   "id": "50ae468f",
   "metadata": {},
   "source": [
    "nombre_infected       725\n",
    "nombre_sain          2426\n",
    "nombre_exposed        450\n",
    "nombre_recovered    16399\n",
    "Name: 308, dtype: int64"
   ]
  },
  {
   "cell_type": "markdown",
   "id": "d8840c9e",
   "metadata": {},
   "source": [
    "nombre_infected       736\n",
    "nombre_sain          2435\n",
    "nombre_exposed        427\n",
    "nombre_recovered    16402\n",
    "Name: 309, dtype: int64"
   ]
  },
  {
   "cell_type": "markdown",
   "id": "e06d2d0f",
   "metadata": {},
   "source": [
    "nombre_infected       745\n",
    "nombre_sain          2435\n",
    "nombre_exposed        429\n",
    "nombre_recovered    16391\n",
    "Name: 310, dtype: int64"
   ]
  },
  {
   "cell_type": "markdown",
   "id": "a9fb3f35",
   "metadata": {},
   "source": [
    "nombre_infected       766\n",
    "nombre_sain          2403\n",
    "nombre_exposed        452\n",
    "nombre_recovered    16379\n",
    "Name: 311, dtype: int64"
   ]
  },
  {
   "cell_type": "markdown",
   "id": "fb3a4c5e",
   "metadata": {},
   "source": [
    "nombre_infected       781\n",
    "nombre_sain          2371\n",
    "nombre_exposed        471\n",
    "nombre_recovered    16377\n",
    "Name: 312, dtype: int64"
   ]
  },
  {
   "cell_type": "markdown",
   "id": "f199a87a",
   "metadata": {},
   "source": [
    "nombre_infected       790\n",
    "nombre_sain          2360\n",
    "nombre_exposed        470\n",
    "nombre_recovered    16380\n",
    "Name: 313, dtype: int64"
   ]
  },
  {
   "cell_type": "markdown",
   "id": "cf854795",
   "metadata": {},
   "source": [
    "nombre_infected       809\n",
    "nombre_sain          2358\n",
    "nombre_exposed        446\n",
    "nombre_recovered    16387\n",
    "Name: 314, dtype: int64"
   ]
  },
  {
   "cell_type": "markdown",
   "id": "3fcdadd9",
   "metadata": {},
   "source": [
    "nombre_infected       801\n",
    "nombre_sain          2357\n",
    "nombre_exposed        459\n",
    "nombre_recovered    16383\n",
    "Name: 315, dtype: int64"
   ]
  },
  {
   "cell_type": "markdown",
   "id": "71aa96ee",
   "metadata": {},
   "source": [
    "nombre_infected       812\n",
    "nombre_sain          2352\n",
    "nombre_exposed        426\n",
    "nombre_recovered    16410\n",
    "Name: 316, dtype: int64"
   ]
  },
  {
   "cell_type": "markdown",
   "id": "5962c23b",
   "metadata": {},
   "source": [
    "nombre_infected       829\n",
    "nombre_sain          2334\n",
    "nombre_exposed        422\n",
    "nombre_recovered    16415\n",
    "Name: 317, dtype: int64"
   ]
  },
  {
   "cell_type": "markdown",
   "id": "ff038640",
   "metadata": {},
   "source": [
    "nombre_infected       805\n",
    "nombre_sain          2315\n",
    "nombre_exposed        445\n",
    "nombre_recovered    16435\n",
    "Name: 318, dtype: int64"
   ]
  },
  {
   "cell_type": "markdown",
   "id": "bd6fac27",
   "metadata": {},
   "source": [
    "nombre_infected       791\n",
    "nombre_sain          2303\n",
    "nombre_exposed        453\n",
    "nombre_recovered    16453\n",
    "Name: 319, dtype: int64"
   ]
  },
  {
   "cell_type": "markdown",
   "id": "dcf1616c",
   "metadata": {},
   "source": [
    "nombre_infected       779\n",
    "nombre_sain          2278\n",
    "nombre_exposed        446\n",
    "nombre_recovered    16497\n",
    "Name: 320, dtype: int64"
   ]
  },
  {
   "cell_type": "markdown",
   "id": "1cd4466d",
   "metadata": {},
   "source": [
    "nombre_infected       779\n",
    "nombre_sain          2266\n",
    "nombre_exposed        457\n",
    "nombre_recovered    16498\n",
    "Name: 321, dtype: int64"
   ]
  },
  {
   "cell_type": "markdown",
   "id": "0f92baf1",
   "metadata": {},
   "source": [
    "nombre_infected       769\n",
    "nombre_sain          2262\n",
    "nombre_exposed        456\n",
    "nombre_recovered    16513\n",
    "Name: 322, dtype: int64"
   ]
  },
  {
   "cell_type": "markdown",
   "id": "e3dfc2c6",
   "metadata": {},
   "source": [
    "nombre_infected       784\n",
    "nombre_sain          2257\n",
    "nombre_exposed        446\n",
    "nombre_recovered    16513\n",
    "Name: 323, dtype: int64"
   ]
  },
  {
   "cell_type": "markdown",
   "id": "d95cf4de",
   "metadata": {},
   "source": [
    "nombre_infected       761\n",
    "nombre_sain          2240\n",
    "nombre_exposed        463\n",
    "nombre_recovered    16536\n",
    "Name: 324, dtype: int64"
   ]
  },
  {
   "cell_type": "markdown",
   "id": "69a41bcd",
   "metadata": {},
   "source": [
    "nombre_infected       785\n",
    "nombre_sain          2247\n",
    "nombre_exposed        459\n",
    "nombre_recovered    16509\n",
    "Name: 325, dtype: int64"
   ]
  },
  {
   "cell_type": "markdown",
   "id": "796a193a",
   "metadata": {},
   "source": [
    "nombre_infected       771\n",
    "nombre_sain          2268\n",
    "nombre_exposed        444\n",
    "nombre_recovered    16517\n",
    "Name: 326, dtype: int64"
   ]
  },
  {
   "cell_type": "markdown",
   "id": "ad6a7b7e",
   "metadata": {},
   "source": [
    "nombre_infected       787\n",
    "nombre_sain          2288\n",
    "nombre_exposed        419\n",
    "nombre_recovered    16506\n",
    "Name: 327, dtype: int64"
   ]
  },
  {
   "cell_type": "markdown",
   "id": "598a82b0",
   "metadata": {},
   "source": [
    "nombre_infected       792\n",
    "nombre_sain          2286\n",
    "nombre_exposed        429\n",
    "nombre_recovered    16493\n",
    "Name: 328, dtype: int64"
   ]
  },
  {
   "cell_type": "markdown",
   "id": "ba2c70ff",
   "metadata": {},
   "source": [
    "nombre_infected       773\n",
    "nombre_sain          2296\n",
    "nombre_exposed        434\n",
    "nombre_recovered    16497\n",
    "Name: 329, dtype: int64"
   ]
  },
  {
   "cell_type": "markdown",
   "id": "58ffe914",
   "metadata": {},
   "source": [
    "nombre_infected       773\n",
    "nombre_sain          2317\n",
    "nombre_exposed        439\n",
    "nombre_recovered    16471\n",
    "Name: 330, dtype: int64"
   ]
  },
  {
   "cell_type": "markdown",
   "id": "7cec2b3a",
   "metadata": {},
   "source": [
    "nombre_infected       770\n",
    "nombre_sain          2345\n",
    "nombre_exposed        441\n",
    "nombre_recovered    16444\n",
    "Name: 331, dtype: int64"
   ]
  },
  {
   "cell_type": "markdown",
   "id": "6e453f11",
   "metadata": {},
   "source": [
    "nombre_infected       792\n",
    "nombre_sain          2370\n",
    "nombre_exposed        437\n",
    "nombre_recovered    16401\n",
    "Name: 332, dtype: int64"
   ]
  },
  {
   "cell_type": "markdown",
   "id": "6df30128",
   "metadata": {},
   "source": [
    "nombre_infected       758\n",
    "nombre_sain          2388\n",
    "nombre_exposed        465\n",
    "nombre_recovered    16389\n",
    "Name: 333, dtype: int64"
   ]
  },
  {
   "cell_type": "markdown",
   "id": "fd56a72e",
   "metadata": {},
   "source": [
    "nombre_infected       767\n",
    "nombre_sain          2423\n",
    "nombre_exposed        459\n",
    "nombre_recovered    16351\n",
    "Name: 334, dtype: int64"
   ]
  },
  {
   "cell_type": "markdown",
   "id": "03e17b9b",
   "metadata": {},
   "source": [
    "nombre_infected       772\n",
    "nombre_sain          2441\n",
    "nombre_exposed        466\n",
    "nombre_recovered    16321\n",
    "Name: 335, dtype: int64"
   ]
  },
  {
   "cell_type": "markdown",
   "id": "e789e00c",
   "metadata": {},
   "source": [
    "nombre_infected       770\n",
    "nombre_sain          2461\n",
    "nombre_exposed        490\n",
    "nombre_recovered    16279\n",
    "Name: 336, dtype: int64"
   ]
  },
  {
   "cell_type": "markdown",
   "id": "2e537edf",
   "metadata": {},
   "source": [
    "nombre_infected       773\n",
    "nombre_sain          2485\n",
    "nombre_exposed        488\n",
    "nombre_recovered    16254\n",
    "Name: 337, dtype: int64"
   ]
  },
  {
   "cell_type": "markdown",
   "id": "8a428a0c",
   "metadata": {},
   "source": [
    "nombre_infected       777\n",
    "nombre_sain          2482\n",
    "nombre_exposed        493\n",
    "nombre_recovered    16248\n",
    "Name: 338, dtype: int64"
   ]
  },
  {
   "cell_type": "markdown",
   "id": "716b215f",
   "metadata": {},
   "source": [
    "nombre_infected       779\n",
    "nombre_sain          2505\n",
    "nombre_exposed        492\n",
    "nombre_recovered    16224\n",
    "Name: 339, dtype: int64"
   ]
  },
  {
   "cell_type": "markdown",
   "id": "4e70529d",
   "metadata": {},
   "source": [
    "nombre_infected       794\n",
    "nombre_sain          2534\n",
    "nombre_exposed        495\n",
    "nombre_recovered    16177\n",
    "Name: 340, dtype: int64"
   ]
  },
  {
   "cell_type": "markdown",
   "id": "5f9eaa90",
   "metadata": {},
   "source": [
    "nombre_infected       808\n",
    "nombre_sain          2569\n",
    "nombre_exposed        469\n",
    "nombre_recovered    16154\n",
    "Name: 341, dtype: int64"
   ]
  },
  {
   "cell_type": "markdown",
   "id": "c35102fb",
   "metadata": {},
   "source": [
    "nombre_infected       816\n",
    "nombre_sain          2565\n",
    "nombre_exposed        491\n",
    "nombre_recovered    16128\n",
    "Name: 342, dtype: int64"
   ]
  },
  {
   "cell_type": "markdown",
   "id": "78996188",
   "metadata": {},
   "source": [
    "nombre_infected       829\n",
    "nombre_sain          2527\n",
    "nombre_exposed        523\n",
    "nombre_recovered    16121\n",
    "Name: 343, dtype: int64"
   ]
  },
  {
   "cell_type": "markdown",
   "id": "0d79b86d",
   "metadata": {},
   "source": [
    "nombre_infected       837\n",
    "nombre_sain          2518\n",
    "nombre_exposed        537\n",
    "nombre_recovered    16108\n",
    "Name: 344, dtype: int64"
   ]
  },
  {
   "cell_type": "markdown",
   "id": "c940d1c8",
   "metadata": {},
   "source": [
    "nombre_infected       873\n",
    "nombre_sain          2496\n",
    "nombre_exposed        533\n",
    "nombre_recovered    16098\n",
    "Name: 345, dtype: int64"
   ]
  },
  {
   "cell_type": "markdown",
   "id": "d5fe0476",
   "metadata": {},
   "source": [
    "nombre_infected       891\n",
    "nombre_sain          2467\n",
    "nombre_exposed        548\n",
    "nombre_recovered    16094\n",
    "Name: 346, dtype: int64"
   ]
  },
  {
   "cell_type": "markdown",
   "id": "ac71020f",
   "metadata": {},
   "source": [
    "nombre_infected       925\n",
    "nombre_sain          2435\n",
    "nombre_exposed        543\n",
    "nombre_recovered    16097\n",
    "Name: 347, dtype: int64"
   ]
  },
  {
   "cell_type": "markdown",
   "id": "e08ac1b2",
   "metadata": {},
   "source": [
    "nombre_infected       955\n",
    "nombre_sain          2405\n",
    "nombre_exposed        532\n",
    "nombre_recovered    16108\n",
    "Name: 348, dtype: int64"
   ]
  },
  {
   "cell_type": "markdown",
   "id": "f160ba9b",
   "metadata": {},
   "source": [
    "nombre_infected       971\n",
    "nombre_sain          2373\n",
    "nombre_exposed        554\n",
    "nombre_recovered    16102\n",
    "Name: 349, dtype: int64"
   ]
  },
  {
   "cell_type": "markdown",
   "id": "f0ce5418",
   "metadata": {},
   "source": [
    "nombre_infected       954\n",
    "nombre_sain          2355\n",
    "nombre_exposed        578\n",
    "nombre_recovered    16113\n",
    "Name: 350, dtype: int64"
   ]
  },
  {
   "cell_type": "markdown",
   "id": "8b26445d",
   "metadata": {},
   "source": [
    "nombre_infected       983\n",
    "nombre_sain          2307\n",
    "nombre_exposed        576\n",
    "nombre_recovered    16134\n",
    "Name: 351, dtype: int64"
   ]
  },
  {
   "cell_type": "markdown",
   "id": "7b403c0f",
   "metadata": {},
   "source": [
    "nombre_infected      1029\n",
    "nombre_sain          2280\n",
    "nombre_exposed        549\n",
    "nombre_recovered    16142\n",
    "Name: 352, dtype: int64"
   ]
  },
  {
   "cell_type": "markdown",
   "id": "513c4a27",
   "metadata": {},
   "source": [
    "nombre_infected      1050\n",
    "nombre_sain          2246\n",
    "nombre_exposed        556\n",
    "nombre_recovered    16148\n",
    "Name: 353, dtype: int64"
   ]
  },
  {
   "cell_type": "markdown",
   "id": "cb60e4ce",
   "metadata": {},
   "source": [
    "nombre_infected      1045\n",
    "nombre_sain          2213\n",
    "nombre_exposed        554\n",
    "nombre_recovered    16188\n",
    "Name: 354, dtype: int64"
   ]
  },
  {
   "cell_type": "markdown",
   "id": "a7d4ffbd",
   "metadata": {},
   "source": [
    "nombre_infected      1045\n",
    "nombre_sain          2195\n",
    "nombre_exposed        556\n",
    "nombre_recovered    16204\n",
    "Name: 355, dtype: int64"
   ]
  },
  {
   "cell_type": "markdown",
   "id": "b2ee2488",
   "metadata": {},
   "source": [
    "nombre_infected      1037\n",
    "nombre_sain          2179\n",
    "nombre_exposed        556\n",
    "nombre_recovered    16228\n",
    "Name: 356, dtype: int64"
   ]
  },
  {
   "cell_type": "markdown",
   "id": "bb499e28",
   "metadata": {},
   "source": [
    "nombre_infected      1034\n",
    "nombre_sain          2167\n",
    "nombre_exposed        564\n",
    "nombre_recovered    16235\n",
    "Name: 357, dtype: int64"
   ]
  },
  {
   "cell_type": "markdown",
   "id": "c2acdb19",
   "metadata": {},
   "source": [
    "nombre_infected      1034\n",
    "nombre_sain          2135\n",
    "nombre_exposed        563\n",
    "nombre_recovered    16268\n",
    "Name: 358, dtype: int64"
   ]
  },
  {
   "cell_type": "markdown",
   "id": "19158e0f",
   "metadata": {},
   "source": [
    "nombre_infected      1065\n",
    "nombre_sain          2136\n",
    "nombre_exposed        538\n",
    "nombre_recovered    16261\n",
    "Name: 359, dtype: int64"
   ]
  },
  {
   "cell_type": "markdown",
   "id": "79eb38b5",
   "metadata": {},
   "source": [
    "nombre_infected      1067\n",
    "nombre_sain          2088\n",
    "nombre_exposed        561\n",
    "nombre_recovered    16284\n",
    "Name: 360, dtype: int64"
   ]
  },
  {
   "cell_type": "markdown",
   "id": "d319a7e9",
   "metadata": {},
   "source": [
    "nombre_infected      1063\n",
    "nombre_sain          2051\n",
    "nombre_exposed        587\n",
    "nombre_recovered    16299\n",
    "Name: 361, dtype: int64"
   ]
  },
  {
   "cell_type": "markdown",
   "id": "970226c5",
   "metadata": {},
   "source": [
    "nombre_infected      1079\n",
    "nombre_sain          2040\n",
    "nombre_exposed        581\n",
    "nombre_recovered    16300\n",
    "Name: 362, dtype: int64"
   ]
  },
  {
   "cell_type": "markdown",
   "id": "1912aa41",
   "metadata": {},
   "source": [
    "nombre_infected      1094\n",
    "nombre_sain          2007\n",
    "nombre_exposed        587\n",
    "nombre_recovered    16312\n",
    "Name: 363, dtype: int64"
   ]
  },
  {
   "cell_type": "markdown",
   "id": "921c30bc",
   "metadata": {},
   "source": [
    "nombre_infected      1110\n",
    "nombre_sain          1975\n",
    "nombre_exposed        573\n",
    "nombre_recovered    16342\n",
    "Name: 364, dtype: int64"
   ]
  },
  {
   "cell_type": "markdown",
   "id": "24cfde71",
   "metadata": {},
   "source": [
    "nombre_infected      1111\n",
    "nombre_sain          1935\n",
    "nombre_exposed        575\n",
    "nombre_recovered    16379\n",
    "Name: 365, dtype: int64"
   ]
  },
  {
   "cell_type": "markdown",
   "id": "5f869352",
   "metadata": {},
   "source": [
    "nombre_infected      1107\n",
    "nombre_sain          1891\n",
    "nombre_exposed        601\n",
    "nombre_recovered    16401\n",
    "Name: 366, dtype: int64"
   ]
  },
  {
   "cell_type": "markdown",
   "id": "942610ad",
   "metadata": {},
   "source": [
    "nombre_infected      1120\n",
    "nombre_sain          1872\n",
    "nombre_exposed        579\n",
    "nombre_recovered    16429\n",
    "Name: 367, dtype: int64"
   ]
  },
  {
   "cell_type": "markdown",
   "id": "eb9dd4b5",
   "metadata": {},
   "source": [
    "nombre_infected      1117\n",
    "nombre_sain          1845\n",
    "nombre_exposed        586\n",
    "nombre_recovered    16452\n",
    "Name: 368, dtype: int64"
   ]
  },
  {
   "cell_type": "markdown",
   "id": "91f8c94b",
   "metadata": {},
   "source": [
    "nombre_infected      1128\n",
    "nombre_sain          1813\n",
    "nombre_exposed        570\n",
    "nombre_recovered    16489\n",
    "Name: 369, dtype: int64"
   ]
  },
  {
   "cell_type": "markdown",
   "id": "87c5af83",
   "metadata": {},
   "source": [
    "nombre_infected      1113\n",
    "nombre_sain          1770\n",
    "nombre_exposed        593\n",
    "nombre_recovered    16524\n",
    "Name: 370, dtype: int64"
   ]
  },
  {
   "cell_type": "markdown",
   "id": "48e3a897",
   "metadata": {},
   "source": [
    "nombre_infected      1108\n",
    "nombre_sain          1744\n",
    "nombre_exposed        580\n",
    "nombre_recovered    16568\n",
    "Name: 371, dtype: int64"
   ]
  },
  {
   "cell_type": "markdown",
   "id": "8246f8ad",
   "metadata": {},
   "source": [
    "nombre_infected      1100\n",
    "nombre_sain          1732\n",
    "nombre_exposed        549\n",
    "nombre_recovered    16619\n",
    "Name: 372, dtype: int64"
   ]
  },
  {
   "cell_type": "markdown",
   "id": "23275152",
   "metadata": {},
   "source": [
    "nombre_infected      1072\n",
    "nombre_sain          1729\n",
    "nombre_exposed        526\n",
    "nombre_recovered    16673\n",
    "Name: 373, dtype: int64"
   ]
  },
  {
   "cell_type": "markdown",
   "id": "c36958b0",
   "metadata": {},
   "source": [
    "nombre_infected      1081\n",
    "nombre_sain          1717\n",
    "nombre_exposed        509\n",
    "nombre_recovered    16693\n",
    "Name: 374, dtype: int64"
   ]
  },
  {
   "cell_type": "markdown",
   "id": "f0959487",
   "metadata": {},
   "source": [
    "nombre_infected      1054\n",
    "nombre_sain          1709\n",
    "nombre_exposed        510\n",
    "nombre_recovered    16727\n",
    "Name: 375, dtype: int64"
   ]
  },
  {
   "cell_type": "markdown",
   "id": "6fc68fa3",
   "metadata": {},
   "source": [
    "nombre_infected      1008\n",
    "nombre_sain          1723\n",
    "nombre_exposed        496\n",
    "nombre_recovered    16773\n",
    "Name: 376, dtype: int64"
   ]
  },
  {
   "cell_type": "markdown",
   "id": "564699f0",
   "metadata": {},
   "source": [
    "nombre_infected       995\n",
    "nombre_sain          1741\n",
    "nombre_exposed        476\n",
    "nombre_recovered    16788\n",
    "Name: 377, dtype: int64"
   ]
  },
  {
   "cell_type": "markdown",
   "id": "cdedd2e1",
   "metadata": {},
   "source": [
    "nombre_infected       966\n",
    "nombre_sain          1756\n",
    "nombre_exposed        457\n",
    "nombre_recovered    16821\n",
    "Name: 378, dtype: int64"
   ]
  },
  {
   "cell_type": "markdown",
   "id": "f35a9095",
   "metadata": {},
   "source": [
    "nombre_infected       965\n",
    "nombre_sain          1770\n",
    "nombre_exposed        430\n",
    "nombre_recovered    16835\n",
    "Name: 379, dtype: int64"
   ]
  },
  {
   "cell_type": "markdown",
   "id": "57ff7f9f",
   "metadata": {},
   "source": [
    "nombre_infected       935\n",
    "nombre_sain          1803\n",
    "nombre_exposed        430\n",
    "nombre_recovered    16832\n",
    "Name: 380, dtype: int64"
   ]
  },
  {
   "cell_type": "markdown",
   "id": "c99e609e",
   "metadata": {},
   "source": [
    "nombre_infected       910\n",
    "nombre_sain          1856\n",
    "nombre_exposed        409\n",
    "nombre_recovered    16825\n",
    "Name: 381, dtype: int64"
   ]
  },
  {
   "cell_type": "markdown",
   "id": "af97677d",
   "metadata": {},
   "source": [
    "nombre_infected       881\n",
    "nombre_sain          1883\n",
    "nombre_exposed        423\n",
    "nombre_recovered    16813\n",
    "Name: 382, dtype: int64"
   ]
  },
  {
   "cell_type": "markdown",
   "id": "58a4421f",
   "metadata": {},
   "source": [
    "nombre_infected       863\n",
    "nombre_sain          1887\n",
    "nombre_exposed        437\n",
    "nombre_recovered    16813\n",
    "Name: 383, dtype: int64"
   ]
  },
  {
   "cell_type": "markdown",
   "id": "98be3d93",
   "metadata": {},
   "source": [
    "nombre_infected       870\n",
    "nombre_sain          1912\n",
    "nombre_exposed        426\n",
    "nombre_recovered    16792\n",
    "Name: 384, dtype: int64"
   ]
  },
  {
   "cell_type": "markdown",
   "id": "266bedda",
   "metadata": {},
   "source": [
    "nombre_infected       839\n",
    "nombre_sain          1925\n",
    "nombre_exposed        434\n",
    "nombre_recovered    16802\n",
    "Name: 385, dtype: int64"
   ]
  },
  {
   "cell_type": "markdown",
   "id": "086eb32d",
   "metadata": {},
   "source": [
    "nombre_infected       820\n",
    "nombre_sain          1938\n",
    "nombre_exposed        450\n",
    "nombre_recovered    16792\n",
    "Name: 386, dtype: int64"
   ]
  },
  {
   "cell_type": "markdown",
   "id": "d98b5fad",
   "metadata": {},
   "source": [
    "nombre_infected       819\n",
    "nombre_sain          1995\n",
    "nombre_exposed        440\n",
    "nombre_recovered    16746\n",
    "Name: 387, dtype: int64"
   ]
  },
  {
   "cell_type": "markdown",
   "id": "453adf35",
   "metadata": {},
   "source": [
    "nombre_infected       791\n",
    "nombre_sain          2035\n",
    "nombre_exposed        468\n",
    "nombre_recovered    16706\n",
    "Name: 388, dtype: int64"
   ]
  },
  {
   "cell_type": "markdown",
   "id": "f829b3c4",
   "metadata": {},
   "source": [
    "nombre_infected       791\n",
    "nombre_sain          2082\n",
    "nombre_exposed        447\n",
    "nombre_recovered    16680\n",
    "Name: 389, dtype: int64"
   ]
  },
  {
   "cell_type": "markdown",
   "id": "7df935a1",
   "metadata": {},
   "source": [
    "nombre_infected       805\n",
    "nombre_sain          2107\n",
    "nombre_exposed        435\n",
    "nombre_recovered    16653\n",
    "Name: 390, dtype: int64"
   ]
  },
  {
   "cell_type": "markdown",
   "id": "085e5ec9",
   "metadata": {},
   "source": [
    "nombre_infected       811\n",
    "nombre_sain          2147\n",
    "nombre_exposed        441\n",
    "nombre_recovered    16601\n",
    "Name: 391, dtype: int64"
   ]
  },
  {
   "cell_type": "markdown",
   "id": "4ee472e4",
   "metadata": {},
   "source": [
    "nombre_infected       799\n",
    "nombre_sain          2203\n",
    "nombre_exposed        431\n",
    "nombre_recovered    16567\n",
    "Name: 392, dtype: int64"
   ]
  },
  {
   "cell_type": "markdown",
   "id": "8d054109",
   "metadata": {},
   "source": [
    "nombre_infected       804\n",
    "nombre_sain          2197\n",
    "nombre_exposed        438\n",
    "nombre_recovered    16561\n",
    "Name: 393, dtype: int64"
   ]
  },
  {
   "cell_type": "markdown",
   "id": "48d46651",
   "metadata": {},
   "source": [
    "nombre_infected       805\n",
    "nombre_sain          2212\n",
    "nombre_exposed        438\n",
    "nombre_recovered    16545\n",
    "Name: 394, dtype: int64"
   ]
  },
  {
   "cell_type": "markdown",
   "id": "4956256a",
   "metadata": {},
   "source": [
    "nombre_infected       794\n",
    "nombre_sain          2213\n",
    "nombre_exposed        463\n",
    "nombre_recovered    16530\n",
    "Name: 395, dtype: int64"
   ]
  },
  {
   "cell_type": "markdown",
   "id": "1e90ac50",
   "metadata": {},
   "source": [
    "nombre_infected       802\n",
    "nombre_sain          2195\n",
    "nombre_exposed        470\n",
    "nombre_recovered    16533\n",
    "Name: 396, dtype: int64"
   ]
  },
  {
   "cell_type": "markdown",
   "id": "2e8bc1e1",
   "metadata": {},
   "source": [
    "nombre_infected       776\n",
    "nombre_sain          2202\n",
    "nombre_exposed        507\n",
    "nombre_recovered    16515\n",
    "Name: 397, dtype: int64"
   ]
  },
  {
   "cell_type": "markdown",
   "id": "3cf07d66",
   "metadata": {},
   "source": [
    "nombre_infected       777\n",
    "nombre_sain          2229\n",
    "nombre_exposed        507\n",
    "nombre_recovered    16487\n",
    "Name: 398, dtype: int64"
   ]
  },
  {
   "cell_type": "markdown",
   "id": "7317c8b3",
   "metadata": {},
   "source": [
    "nombre_infected       799\n",
    "nombre_sain          2244\n",
    "nombre_exposed        487\n",
    "nombre_recovered    16470\n",
    "Name: 399, dtype: int64"
   ]
  },
  {
   "cell_type": "markdown",
   "id": "cf13e86d",
   "metadata": {},
   "source": [
    "nombre_infected       813\n",
    "nombre_sain          2241\n",
    "nombre_exposed        496\n",
    "nombre_recovered    16450\n",
    "Name: 400, dtype: int64"
   ]
  },
  {
   "cell_type": "markdown",
   "id": "a700fc1d",
   "metadata": {},
   "source": [
    "nombre_infected       825\n",
    "nombre_sain          2225\n",
    "nombre_exposed        504\n",
    "nombre_recovered    16446\n",
    "Name: 401, dtype: int64"
   ]
  },
  {
   "cell_type": "markdown",
   "id": "93930186",
   "metadata": {},
   "source": [
    "nombre_infected       844\n",
    "nombre_sain          2224\n",
    "nombre_exposed        484\n",
    "nombre_recovered    16448\n",
    "Name: 402, dtype: int64"
   ]
  },
  {
   "cell_type": "markdown",
   "id": "92daf2cf",
   "metadata": {},
   "source": [
    "nombre_infected       861\n",
    "nombre_sain          2229\n",
    "nombre_exposed        475\n",
    "nombre_recovered    16435\n",
    "Name: 403, dtype: int64"
   ]
  },
  {
   "cell_type": "markdown",
   "id": "4fa984e5",
   "metadata": {},
   "source": [
    "nombre_infected       888\n",
    "nombre_sain          2244\n",
    "nombre_exposed        479\n",
    "nombre_recovered    16389\n",
    "Name: 404, dtype: int64"
   ]
  },
  {
   "cell_type": "markdown",
   "id": "f1f28c1d",
   "metadata": {},
   "source": [
    "nombre_infected       905\n",
    "nombre_sain          2203\n",
    "nombre_exposed        502\n",
    "nombre_recovered    16390\n",
    "Name: 405, dtype: int64"
   ]
  },
  {
   "cell_type": "markdown",
   "id": "aa63fe8f",
   "metadata": {},
   "source": [
    "nombre_infected       896\n",
    "nombre_sain          2187\n",
    "nombre_exposed        513\n",
    "nombre_recovered    16404\n",
    "Name: 406, dtype: int64"
   ]
  },
  {
   "cell_type": "markdown",
   "id": "38a54fb4",
   "metadata": {},
   "source": [
    "nombre_infected       874\n",
    "nombre_sain          2189\n",
    "nombre_exposed        515\n",
    "nombre_recovered    16422\n",
    "Name: 407, dtype: int64"
   ]
  },
  {
   "cell_type": "markdown",
   "id": "cdd06772",
   "metadata": {},
   "source": [
    "nombre_infected       864\n",
    "nombre_sain          2200\n",
    "nombre_exposed        536\n",
    "nombre_recovered    16400\n",
    "Name: 408, dtype: int64"
   ]
  },
  {
   "cell_type": "markdown",
   "id": "556348d7",
   "metadata": {},
   "source": [
    "nombre_infected       885\n",
    "nombre_sain          2193\n",
    "nombre_exposed        531\n",
    "nombre_recovered    16391\n",
    "Name: 409, dtype: int64"
   ]
  },
  {
   "cell_type": "markdown",
   "id": "1f04966d",
   "metadata": {},
   "source": [
    "nombre_infected       904\n",
    "nombre_sain          2170\n",
    "nombre_exposed        528\n",
    "nombre_recovered    16398\n",
    "Name: 410, dtype: int64"
   ]
  },
  {
   "cell_type": "markdown",
   "id": "1eded207",
   "metadata": {},
   "source": [
    "nombre_infected       895\n",
    "nombre_sain          2145\n",
    "nombre_exposed        542\n",
    "nombre_recovered    16418\n",
    "Name: 411, dtype: int64"
   ]
  },
  {
   "cell_type": "markdown",
   "id": "5d0076fe",
   "metadata": {},
   "source": [
    "nombre_infected       919\n",
    "nombre_sain          2136\n",
    "nombre_exposed        524\n",
    "nombre_recovered    16421\n",
    "Name: 412, dtype: int64"
   ]
  },
  {
   "cell_type": "markdown",
   "id": "3f769cb1",
   "metadata": {},
   "source": [
    "nombre_infected       927\n",
    "nombre_sain          2138\n",
    "nombre_exposed        527\n",
    "nombre_recovered    16408\n",
    "Name: 413, dtype: int64"
   ]
  },
  {
   "cell_type": "markdown",
   "id": "e4b26b16",
   "metadata": {},
   "source": [
    "nombre_infected       940\n",
    "nombre_sain          2140\n",
    "nombre_exposed        512\n",
    "nombre_recovered    16408\n",
    "Name: 414, dtype: int64"
   ]
  },
  {
   "cell_type": "markdown",
   "id": "cdaf29c3",
   "metadata": {},
   "source": [
    "nombre_infected       956\n",
    "nombre_sain          2116\n",
    "nombre_exposed        499\n",
    "nombre_recovered    16429\n",
    "Name: 415, dtype: int64"
   ]
  },
  {
   "cell_type": "markdown",
   "id": "1ab17975",
   "metadata": {},
   "source": [
    "nombre_infected       941\n",
    "nombre_sain          2152\n",
    "nombre_exposed        485\n",
    "nombre_recovered    16422\n",
    "Name: 416, dtype: int64"
   ]
  },
  {
   "cell_type": "markdown",
   "id": "9f358bc6",
   "metadata": {},
   "source": [
    "nombre_infected       921\n",
    "nombre_sain          2157\n",
    "nombre_exposed        484\n",
    "nombre_recovered    16438\n",
    "Name: 417, dtype: int64"
   ]
  },
  {
   "cell_type": "markdown",
   "id": "55ec01a8",
   "metadata": {},
   "source": [
    "nombre_infected       912\n",
    "nombre_sain          2173\n",
    "nombre_exposed        511\n",
    "nombre_recovered    16404\n",
    "Name: 418, dtype: int64"
   ]
  },
  {
   "cell_type": "markdown",
   "id": "58859a4b",
   "metadata": {},
   "source": [
    "nombre_infected       895\n",
    "nombre_sain          2193\n",
    "nombre_exposed        495\n",
    "nombre_recovered    16417\n",
    "Name: 419, dtype: int64"
   ]
  },
  {
   "cell_type": "markdown",
   "id": "50f80a22",
   "metadata": {},
   "source": [
    "nombre_infected       909\n",
    "nombre_sain          2207\n",
    "nombre_exposed        478\n",
    "nombre_recovered    16406\n",
    "Name: 420, dtype: int64"
   ]
  },
  {
   "cell_type": "markdown",
   "id": "0f943563",
   "metadata": {},
   "source": [
    "nombre_infected       897\n",
    "nombre_sain          2209\n",
    "nombre_exposed        482\n",
    "nombre_recovered    16412\n",
    "Name: 421, dtype: int64"
   ]
  },
  {
   "cell_type": "markdown",
   "id": "31076155",
   "metadata": {},
   "source": [
    "nombre_infected       885\n",
    "nombre_sain          2218\n",
    "nombre_exposed        484\n",
    "nombre_recovered    16413\n",
    "Name: 422, dtype: int64"
   ]
  },
  {
   "cell_type": "markdown",
   "id": "6d7097fd",
   "metadata": {},
   "source": [
    "nombre_infected       884\n",
    "nombre_sain          2219\n",
    "nombre_exposed        465\n",
    "nombre_recovered    16432\n",
    "Name: 423, dtype: int64"
   ]
  },
  {
   "cell_type": "markdown",
   "id": "77a7e051",
   "metadata": {},
   "source": [
    "nombre_infected       900\n",
    "nombre_sain          2235\n",
    "nombre_exposed        468\n",
    "nombre_recovered    16397\n",
    "Name: 424, dtype: int64"
   ]
  },
  {
   "cell_type": "markdown",
   "id": "1e0a5810",
   "metadata": {},
   "source": [
    "nombre_infected       889\n",
    "nombre_sain          2209\n",
    "nombre_exposed        489\n",
    "nombre_recovered    16413\n",
    "Name: 425, dtype: int64"
   ]
  },
  {
   "cell_type": "markdown",
   "id": "8d6c35d0",
   "metadata": {},
   "source": [
    "nombre_infected       890\n",
    "nombre_sain          2208\n",
    "nombre_exposed        487\n",
    "nombre_recovered    16415\n",
    "Name: 426, dtype: int64"
   ]
  },
  {
   "cell_type": "markdown",
   "id": "7abaab9b",
   "metadata": {},
   "source": [
    "nombre_infected       887\n",
    "nombre_sain          2201\n",
    "nombre_exposed        503\n",
    "nombre_recovered    16409\n",
    "Name: 427, dtype: int64"
   ]
  },
  {
   "cell_type": "markdown",
   "id": "3f03274e",
   "metadata": {},
   "source": [
    "nombre_infected       884\n",
    "nombre_sain          2199\n",
    "nombre_exposed        508\n",
    "nombre_recovered    16409\n",
    "Name: 428, dtype: int64"
   ]
  },
  {
   "cell_type": "markdown",
   "id": "056bd709",
   "metadata": {},
   "source": [
    "nombre_infected       902\n",
    "nombre_sain          2195\n",
    "nombre_exposed        490\n",
    "nombre_recovered    16413\n",
    "Name: 429, dtype: int64"
   ]
  },
  {
   "cell_type": "markdown",
   "id": "75397195",
   "metadata": {},
   "source": [
    "nombre_infected       912\n",
    "nombre_sain          2149\n",
    "nombre_exposed        517\n",
    "nombre_recovered    16422\n",
    "Name: 430, dtype: int64"
   ]
  },
  {
   "cell_type": "markdown",
   "id": "cbd35e57",
   "metadata": {},
   "source": [
    "nombre_infected       907\n",
    "nombre_sain          2130\n",
    "nombre_exposed        533\n",
    "nombre_recovered    16430\n",
    "Name: 431, dtype: int64"
   ]
  },
  {
   "cell_type": "markdown",
   "id": "31525474",
   "metadata": {},
   "source": [
    "nombre_infected       904\n",
    "nombre_sain          2102\n",
    "nombre_exposed        519\n",
    "nombre_recovered    16475\n",
    "Name: 432, dtype: int64"
   ]
  },
  {
   "cell_type": "markdown",
   "id": "d3167907",
   "metadata": {},
   "source": [
    "nombre_infected       902\n",
    "nombre_sain          2095\n",
    "nombre_exposed        519\n",
    "nombre_recovered    16484\n",
    "Name: 433, dtype: int64"
   ]
  },
  {
   "cell_type": "markdown",
   "id": "30013056",
   "metadata": {},
   "source": [
    "nombre_infected       900\n",
    "nombre_sain          2079\n",
    "nombre_exposed        522\n",
    "nombre_recovered    16499\n",
    "Name: 434, dtype: int64"
   ]
  },
  {
   "cell_type": "markdown",
   "id": "62ef5495",
   "metadata": {},
   "source": [
    "nombre_infected       909\n",
    "nombre_sain          2065\n",
    "nombre_exposed        501\n",
    "nombre_recovered    16525\n",
    "Name: 435, dtype: int64"
   ]
  },
  {
   "cell_type": "markdown",
   "id": "a7ccf5bf",
   "metadata": {},
   "source": [
    "nombre_infected       923\n",
    "nombre_sain          2080\n",
    "nombre_exposed        482\n",
    "nombre_recovered    16515\n",
    "Name: 436, dtype: int64"
   ]
  },
  {
   "cell_type": "markdown",
   "id": "5d507461",
   "metadata": {},
   "source": [
    "nombre_infected       935\n",
    "nombre_sain          2075\n",
    "nombre_exposed        469\n",
    "nombre_recovered    16521\n",
    "Name: 437, dtype: int64"
   ]
  },
  {
   "cell_type": "markdown",
   "id": "48f998ec",
   "metadata": {},
   "source": [
    "nombre_infected       916\n",
    "nombre_sain          2091\n",
    "nombre_exposed        463\n",
    "nombre_recovered    16530\n",
    "Name: 438, dtype: int64"
   ]
  },
  {
   "cell_type": "markdown",
   "id": "e9798859",
   "metadata": {},
   "source": [
    "nombre_infected       893\n",
    "nombre_sain          2110\n",
    "nombre_exposed        463\n",
    "nombre_recovered    16534\n",
    "Name: 439, dtype: int64"
   ]
  },
  {
   "cell_type": "markdown",
   "id": "bd6b2dd5",
   "metadata": {},
   "source": [
    "nombre_infected       874\n",
    "nombre_sain          2117\n",
    "nombre_exposed        485\n",
    "nombre_recovered    16524\n",
    "Name: 440, dtype: int64"
   ]
  },
  {
   "cell_type": "markdown",
   "id": "8ac57bf5",
   "metadata": {},
   "source": [
    "nombre_infected       847\n",
    "nombre_sain          2099\n",
    "nombre_exposed        521\n",
    "nombre_recovered    16533\n",
    "Name: 441, dtype: int64"
   ]
  },
  {
   "cell_type": "markdown",
   "id": "417e3ba6",
   "metadata": {},
   "source": [
    "nombre_infected       842\n",
    "nombre_sain          2105\n",
    "nombre_exposed        506\n",
    "nombre_recovered    16547\n",
    "Name: 442, dtype: int64"
   ]
  },
  {
   "cell_type": "markdown",
   "id": "8c797191",
   "metadata": {},
   "source": [
    "nombre_infected       846\n",
    "nombre_sain          2090\n",
    "nombre_exposed        496\n",
    "nombre_recovered    16568\n",
    "Name: 443, dtype: int64"
   ]
  },
  {
   "cell_type": "markdown",
   "id": "385cec10",
   "metadata": {},
   "source": [
    "nombre_infected       860\n",
    "nombre_sain          2102\n",
    "nombre_exposed        471\n",
    "nombre_recovered    16567\n",
    "Name: 444, dtype: int64"
   ]
  },
  {
   "cell_type": "markdown",
   "id": "6277b3b9",
   "metadata": {},
   "source": [
    "nombre_infected       843\n",
    "nombre_sain          2090\n",
    "nombre_exposed        489\n",
    "nombre_recovered    16578\n",
    "Name: 445, dtype: int64"
   ]
  },
  {
   "cell_type": "markdown",
   "id": "572cd52a",
   "metadata": {},
   "source": [
    "nombre_infected       835\n",
    "nombre_sain          2120\n",
    "nombre_exposed        491\n",
    "nombre_recovered    16554\n",
    "Name: 446, dtype: int64"
   ]
  },
  {
   "cell_type": "markdown",
   "id": "fc3cf0b7",
   "metadata": {},
   "source": [
    "nombre_infected       844\n",
    "nombre_sain          2127\n",
    "nombre_exposed        474\n",
    "nombre_recovered    16555\n",
    "Name: 447, dtype: int64"
   ]
  },
  {
   "cell_type": "markdown",
   "id": "aa2ea5b0",
   "metadata": {},
   "source": [
    "nombre_infected       846\n",
    "nombre_sain          2123\n",
    "nombre_exposed        469\n",
    "nombre_recovered    16562\n",
    "Name: 448, dtype: int64"
   ]
  },
  {
   "cell_type": "markdown",
   "id": "f6ff0701",
   "metadata": {},
   "source": [
    "nombre_infected       838\n",
    "nombre_sain          2108\n",
    "nombre_exposed        484\n",
    "nombre_recovered    16570\n",
    "Name: 449, dtype: int64"
   ]
  },
  {
   "cell_type": "markdown",
   "id": "6cd1be7f",
   "metadata": {},
   "source": [
    "nombre_infected       863\n",
    "nombre_sain          2087\n",
    "nombre_exposed        487\n",
    "nombre_recovered    16563\n",
    "Name: 450, dtype: int64"
   ]
  },
  {
   "cell_type": "markdown",
   "id": "b60c51ee",
   "metadata": {},
   "source": [
    "nombre_infected       853\n",
    "nombre_sain          2078\n",
    "nombre_exposed        475\n",
    "nombre_recovered    16594\n",
    "Name: 451, dtype: int64"
   ]
  },
  {
   "cell_type": "markdown",
   "id": "02f5ae18",
   "metadata": {},
   "source": [
    "nombre_infected       848\n",
    "nombre_sain          2070\n",
    "nombre_exposed        487\n",
    "nombre_recovered    16595\n",
    "Name: 452, dtype: int64"
   ]
  },
  {
   "cell_type": "markdown",
   "id": "d9c00e8c",
   "metadata": {},
   "source": [
    "nombre_infected       816\n",
    "nombre_sain          2092\n",
    "nombre_exposed        489\n",
    "nombre_recovered    16603\n",
    "Name: 453, dtype: int64"
   ]
  },
  {
   "cell_type": "markdown",
   "id": "ee01216b",
   "metadata": {},
   "source": [
    "nombre_infected       814\n",
    "nombre_sain          2141\n",
    "nombre_exposed        449\n",
    "nombre_recovered    16596\n",
    "Name: 454, dtype: int64"
   ]
  },
  {
   "cell_type": "markdown",
   "id": "ee55ffd8",
   "metadata": {},
   "source": [
    "nombre_infected       810\n",
    "nombre_sain          2134\n",
    "nombre_exposed        447\n",
    "nombre_recovered    16609\n",
    "Name: 455, dtype: int64"
   ]
  },
  {
   "cell_type": "markdown",
   "id": "3ffd66de",
   "metadata": {},
   "source": [
    "nombre_infected       797\n",
    "nombre_sain          2147\n",
    "nombre_exposed        443\n",
    "nombre_recovered    16613\n",
    "Name: 456, dtype: int64"
   ]
  },
  {
   "cell_type": "markdown",
   "id": "d9fbf5f6",
   "metadata": {},
   "source": [
    "nombre_infected       811\n",
    "nombre_sain          2151\n",
    "nombre_exposed        447\n",
    "nombre_recovered    16591\n",
    "Name: 457, dtype: int64"
   ]
  },
  {
   "cell_type": "markdown",
   "id": "ba2c2799",
   "metadata": {},
   "source": [
    "nombre_infected       823\n",
    "nombre_sain          2158\n",
    "nombre_exposed        425\n",
    "nombre_recovered    16594\n",
    "Name: 458, dtype: int64"
   ]
  },
  {
   "cell_type": "markdown",
   "id": "f8fc0a2c",
   "metadata": {},
   "source": [
    "nombre_infected       806\n",
    "nombre_sain          2140\n",
    "nombre_exposed        465\n",
    "nombre_recovered    16589\n",
    "Name: 459, dtype: int64"
   ]
  },
  {
   "cell_type": "markdown",
   "id": "e20d55f7",
   "metadata": {},
   "source": [
    "nombre_infected       784\n",
    "nombre_sain          2136\n",
    "nombre_exposed        468\n",
    "nombre_recovered    16612\n",
    "Name: 460, dtype: int64"
   ]
  },
  {
   "cell_type": "markdown",
   "id": "b2510688",
   "metadata": {},
   "source": [
    "nombre_infected       814\n",
    "nombre_sain          2171\n",
    "nombre_exposed        434\n",
    "nombre_recovered    16581\n",
    "Name: 461, dtype: int64"
   ]
  },
  {
   "cell_type": "markdown",
   "id": "b8f0632a",
   "metadata": {},
   "source": [
    "nombre_infected       823\n",
    "nombre_sain          2182\n",
    "nombre_exposed        446\n",
    "nombre_recovered    16549\n",
    "Name: 462, dtype: int64"
   ]
  },
  {
   "cell_type": "markdown",
   "id": "f303b970",
   "metadata": {},
   "source": [
    "nombre_infected       822\n",
    "nombre_sain          2206\n",
    "nombre_exposed        450\n",
    "nombre_recovered    16522\n",
    "Name: 463, dtype: int64"
   ]
  },
  {
   "cell_type": "markdown",
   "id": "7bbc66a7",
   "metadata": {},
   "source": [
    "nombre_infected       825\n",
    "nombre_sain          2224\n",
    "nombre_exposed        446\n",
    "nombre_recovered    16505\n",
    "Name: 464, dtype: int64"
   ]
  },
  {
   "cell_type": "markdown",
   "id": "84d2bf53",
   "metadata": {},
   "source": [
    "nombre_infected       833\n",
    "nombre_sain          2231\n",
    "nombre_exposed        446\n",
    "nombre_recovered    16490\n",
    "Name: 465, dtype: int64"
   ]
  },
  {
   "cell_type": "markdown",
   "id": "18989ffa",
   "metadata": {},
   "source": [
    "nombre_infected       837\n",
    "nombre_sain          2205\n",
    "nombre_exposed        478\n",
    "nombre_recovered    16480\n",
    "Name: 466, dtype: int64"
   ]
  },
  {
   "cell_type": "markdown",
   "id": "4c7c5d54",
   "metadata": {},
   "source": [
    "nombre_infected       829\n",
    "nombre_sain          2201\n",
    "nombre_exposed        489\n",
    "nombre_recovered    16481\n",
    "Name: 467, dtype: int64"
   ]
  },
  {
   "cell_type": "markdown",
   "id": "497a5db1",
   "metadata": {},
   "source": [
    "nombre_infected       830\n",
    "nombre_sain          2208\n",
    "nombre_exposed        486\n",
    "nombre_recovered    16476\n",
    "Name: 468, dtype: int64"
   ]
  },
  {
   "cell_type": "markdown",
   "id": "15d40664",
   "metadata": {},
   "source": [
    "nombre_infected       852\n",
    "nombre_sain          2209\n",
    "nombre_exposed        476\n",
    "nombre_recovered    16463\n",
    "Name: 469, dtype: int64"
   ]
  },
  {
   "cell_type": "markdown",
   "id": "9df93cee",
   "metadata": {},
   "source": [
    "nombre_infected       845\n",
    "nombre_sain          2202\n",
    "nombre_exposed        500\n",
    "nombre_recovered    16453\n",
    "Name: 470, dtype: int64"
   ]
  },
  {
   "cell_type": "markdown",
   "id": "05c9b975",
   "metadata": {},
   "source": [
    "nombre_infected       833\n",
    "nombre_sain          2213\n",
    "nombre_exposed        511\n",
    "nombre_recovered    16443\n",
    "Name: 471, dtype: int64"
   ]
  },
  {
   "cell_type": "markdown",
   "id": "4352dea7",
   "metadata": {},
   "source": [
    "nombre_infected       857\n",
    "nombre_sain          2224\n",
    "nombre_exposed        515\n",
    "nombre_recovered    16404\n",
    "Name: 472, dtype: int64"
   ]
  },
  {
   "cell_type": "markdown",
   "id": "c0b834e0",
   "metadata": {},
   "source": [
    "nombre_infected       851\n",
    "nombre_sain          2255\n",
    "nombre_exposed        507\n",
    "nombre_recovered    16387\n",
    "Name: 473, dtype: int64"
   ]
  },
  {
   "cell_type": "markdown",
   "id": "942ace96",
   "metadata": {},
   "source": [
    "nombre_infected       874\n",
    "nombre_sain          2247\n",
    "nombre_exposed        517\n",
    "nombre_recovered    16362\n",
    "Name: 474, dtype: int64"
   ]
  },
  {
   "cell_type": "markdown",
   "id": "2bbbe3f9",
   "metadata": {},
   "source": [
    "nombre_infected       877\n",
    "nombre_sain          2256\n",
    "nombre_exposed        515\n",
    "nombre_recovered    16352\n",
    "Name: 475, dtype: int64"
   ]
  },
  {
   "cell_type": "markdown",
   "id": "a535f23f",
   "metadata": {},
   "source": [
    "nombre_infected       890\n",
    "nombre_sain          2258\n",
    "nombre_exposed        510\n",
    "nombre_recovered    16342\n",
    "Name: 476, dtype: int64"
   ]
  },
  {
   "cell_type": "markdown",
   "id": "a9e25775",
   "metadata": {},
   "source": [
    "nombre_infected       895\n",
    "nombre_sain          2233\n",
    "nombre_exposed        527\n",
    "nombre_recovered    16345\n",
    "Name: 477, dtype: int64"
   ]
  },
  {
   "cell_type": "markdown",
   "id": "ead8bed4",
   "metadata": {},
   "source": [
    "nombre_infected       916\n",
    "nombre_sain          2247\n",
    "nombre_exposed        529\n",
    "nombre_recovered    16308\n",
    "Name: 478, dtype: int64"
   ]
  },
  {
   "cell_type": "markdown",
   "id": "5c709fa0",
   "metadata": {},
   "source": [
    "nombre_infected       925\n",
    "nombre_sain          2244\n",
    "nombre_exposed        514\n",
    "nombre_recovered    16317\n",
    "Name: 479, dtype: int64"
   ]
  },
  {
   "cell_type": "markdown",
   "id": "e67eef45",
   "metadata": {},
   "source": [
    "nombre_infected       925\n",
    "nombre_sain          2240\n",
    "nombre_exposed        507\n",
    "nombre_recovered    16328\n",
    "Name: 480, dtype: int64"
   ]
  },
  {
   "cell_type": "markdown",
   "id": "b8fc9535",
   "metadata": {},
   "source": [
    "nombre_infected       902\n",
    "nombre_sain          2242\n",
    "nombre_exposed        521\n",
    "nombre_recovered    16335\n",
    "Name: 481, dtype: int64"
   ]
  },
  {
   "cell_type": "markdown",
   "id": "25a8dffa",
   "metadata": {},
   "source": [
    "nombre_infected       889\n",
    "nombre_sain          2249\n",
    "nombre_exposed        522\n",
    "nombre_recovered    16340\n",
    "Name: 482, dtype: int64"
   ]
  },
  {
   "cell_type": "markdown",
   "id": "8ff5d819",
   "metadata": {},
   "source": [
    "nombre_infected       884\n",
    "nombre_sain          2245\n",
    "nombre_exposed        523\n",
    "nombre_recovered    16348\n",
    "Name: 483, dtype: int64"
   ]
  },
  {
   "cell_type": "markdown",
   "id": "efa4161c",
   "metadata": {},
   "source": [
    "nombre_infected       874\n",
    "nombre_sain          2234\n",
    "nombre_exposed        515\n",
    "nombre_recovered    16377\n",
    "Name: 484, dtype: int64"
   ]
  },
  {
   "cell_type": "markdown",
   "id": "299dbb12",
   "metadata": {},
   "source": [
    "nombre_infected       912\n",
    "nombre_sain          2244\n",
    "nombre_exposed        497\n",
    "nombre_recovered    16347\n",
    "Name: 485, dtype: int64"
   ]
  },
  {
   "cell_type": "markdown",
   "id": "091ecd65",
   "metadata": {},
   "source": [
    "nombre_infected       893\n",
    "nombre_sain          2237\n",
    "nombre_exposed        500\n",
    "nombre_recovered    16370\n",
    "Name: 486, dtype: int64"
   ]
  },
  {
   "cell_type": "markdown",
   "id": "42985dc6",
   "metadata": {},
   "source": [
    "nombre_infected       916\n",
    "nombre_sain          2229\n",
    "nombre_exposed        496\n",
    "nombre_recovered    16359\n",
    "Name: 487, dtype: int64"
   ]
  },
  {
   "cell_type": "markdown",
   "id": "0400088a",
   "metadata": {},
   "source": [
    "nombre_infected       886\n",
    "nombre_sain          2228\n",
    "nombre_exposed        518\n",
    "nombre_recovered    16368\n",
    "Name: 488, dtype: int64"
   ]
  },
  {
   "cell_type": "markdown",
   "id": "fa5469f2",
   "metadata": {},
   "source": [
    "nombre_infected       872\n",
    "nombre_sain          2233\n",
    "nombre_exposed        515\n",
    "nombre_recovered    16380\n",
    "Name: 489, dtype: int64"
   ]
  },
  {
   "cell_type": "markdown",
   "id": "815defa1",
   "metadata": {},
   "source": [
    "nombre_infected       868\n",
    "nombre_sain          2229\n",
    "nombre_exposed        503\n",
    "nombre_recovered    16400\n",
    "Name: 490, dtype: int64"
   ]
  },
  {
   "cell_type": "markdown",
   "id": "07022e3d",
   "metadata": {},
   "source": [
    "nombre_infected       860\n",
    "nombre_sain          2229\n",
    "nombre_exposed        495\n",
    "nombre_recovered    16416\n",
    "Name: 491, dtype: int64"
   ]
  },
  {
   "cell_type": "markdown",
   "id": "0ddccfe0",
   "metadata": {},
   "source": [
    "nombre_infected       870\n",
    "nombre_sain          2234\n",
    "nombre_exposed        483\n",
    "nombre_recovered    16413\n",
    "Name: 492, dtype: int64"
   ]
  },
  {
   "cell_type": "markdown",
   "id": "94d4361d",
   "metadata": {},
   "source": [
    "nombre_infected       865\n",
    "nombre_sain          2236\n",
    "nombre_exposed        497\n",
    "nombre_recovered    16402\n",
    "Name: 493, dtype: int64"
   ]
  },
  {
   "cell_type": "markdown",
   "id": "334d6ae9",
   "metadata": {},
   "source": [
    "nombre_infected       861\n",
    "nombre_sain          2242\n",
    "nombre_exposed        482\n",
    "nombre_recovered    16415\n",
    "Name: 494, dtype: int64"
   ]
  },
  {
   "cell_type": "markdown",
   "id": "f3d2eb45",
   "metadata": {},
   "source": [
    "nombre_infected       859\n",
    "nombre_sain          2253\n",
    "nombre_exposed        469\n",
    "nombre_recovered    16419\n",
    "Name: 495, dtype: int64"
   ]
  },
  {
   "cell_type": "markdown",
   "id": "0d1a377c",
   "metadata": {},
   "source": [
    "nombre_infected       851\n",
    "nombre_sain          2237\n",
    "nombre_exposed        477\n",
    "nombre_recovered    16435\n",
    "Name: 496, dtype: int64"
   ]
  },
  {
   "cell_type": "markdown",
   "id": "9063b08e",
   "metadata": {},
   "source": [
    "nombre_infected       849\n",
    "nombre_sain          2235\n",
    "nombre_exposed        480\n",
    "nombre_recovered    16436\n",
    "Name: 497, dtype: int64"
   ]
  },
  {
   "cell_type": "markdown",
   "id": "80fe5bf8",
   "metadata": {},
   "source": [
    "nombre_infected       837\n",
    "nombre_sain          2276\n",
    "nombre_exposed        478\n",
    "nombre_recovered    16409\n",
    "Name: 498, dtype: int64"
   ]
  },
  {
   "cell_type": "markdown",
   "id": "1e2d7a4e",
   "metadata": {},
   "source": [
    "nombre_infected       856\n",
    "nombre_sain          2301\n",
    "nombre_exposed        462\n",
    "nombre_recovered    16381\n",
    "Name: 499, dtype: int64"
   ]
  },
  {
   "cell_type": "markdown",
   "id": "ce532d54",
   "metadata": {},
   "source": [
    "nombre_infected       852\n",
    "nombre_sain          2303\n",
    "nombre_exposed        466\n",
    "nombre_recovered    16379\n",
    "Name: 500, dtype: int64"
   ]
  },
  {
   "cell_type": "markdown",
   "id": "31b1495b",
   "metadata": {},
   "source": [
    "nombre_infected       830\n",
    "nombre_sain          2316\n",
    "nombre_exposed        479\n",
    "nombre_recovered    16375\n",
    "Name: 501, dtype: int64"
   ]
  },
  {
   "cell_type": "markdown",
   "id": "72f370bb",
   "metadata": {},
   "source": [
    "nombre_infected       852\n",
    "nombre_sain          2309\n",
    "nombre_exposed        455\n",
    "nombre_recovered    16384\n",
    "Name: 502, dtype: int64"
   ]
  },
  {
   "cell_type": "markdown",
   "id": "65c1cb4a",
   "metadata": {},
   "source": [
    "nombre_infected       838\n",
    "nombre_sain          2304\n",
    "nombre_exposed        465\n",
    "nombre_recovered    16393\n",
    "Name: 503, dtype: int64"
   ]
  },
  {
   "cell_type": "markdown",
   "id": "88961902",
   "metadata": {},
   "source": [
    "nombre_infected       857\n",
    "nombre_sain          2274\n",
    "nombre_exposed        492\n",
    "nombre_recovered    16377\n",
    "Name: 504, dtype: int64"
   ]
  },
  {
   "cell_type": "markdown",
   "id": "96ca9e18",
   "metadata": {},
   "source": [
    "nombre_infected       850\n",
    "nombre_sain          2304\n",
    "nombre_exposed        490\n",
    "nombre_recovered    16356\n",
    "Name: 505, dtype: int64"
   ]
  },
  {
   "cell_type": "markdown",
   "id": "4d8e657a",
   "metadata": {},
   "source": [
    "nombre_infected       860\n",
    "nombre_sain          2289\n",
    "nombre_exposed        497\n",
    "nombre_recovered    16354\n",
    "Name: 506, dtype: int64"
   ]
  },
  {
   "cell_type": "markdown",
   "id": "4f5d0e9f",
   "metadata": {},
   "source": [
    "nombre_infected       856\n",
    "nombre_sain          2295\n",
    "nombre_exposed        504\n",
    "nombre_recovered    16345\n",
    "Name: 507, dtype: int64"
   ]
  },
  {
   "cell_type": "markdown",
   "id": "bdb7c8fe",
   "metadata": {},
   "source": [
    "nombre_infected       868\n",
    "nombre_sain          2322\n",
    "nombre_exposed        488\n",
    "nombre_recovered    16322\n",
    "Name: 508, dtype: int64"
   ]
  },
  {
   "cell_type": "markdown",
   "id": "fe657d8c",
   "metadata": {},
   "source": [
    "nombre_infected       873\n",
    "nombre_sain          2301\n",
    "nombre_exposed        507\n",
    "nombre_recovered    16319\n",
    "Name: 509, dtype: int64"
   ]
  },
  {
   "cell_type": "markdown",
   "id": "2fcc0390",
   "metadata": {},
   "source": [
    "nombre_infected       885\n",
    "nombre_sain          2285\n",
    "nombre_exposed        515\n",
    "nombre_recovered    16315\n",
    "Name: 510, dtype: int64"
   ]
  },
  {
   "cell_type": "markdown",
   "id": "3568c57c",
   "metadata": {},
   "source": [
    "nombre_infected       895\n",
    "nombre_sain          2302\n",
    "nombre_exposed        507\n",
    "nombre_recovered    16296\n",
    "Name: 511, dtype: int64"
   ]
  },
  {
   "cell_type": "markdown",
   "id": "edc31670",
   "metadata": {},
   "source": [
    "nombre_infected       916\n",
    "nombre_sain          2286\n",
    "nombre_exposed        493\n",
    "nombre_recovered    16305\n",
    "Name: 512, dtype: int64"
   ]
  },
  {
   "cell_type": "markdown",
   "id": "ecddad55",
   "metadata": {},
   "source": [
    "nombre_infected       913\n",
    "nombre_sain          2287\n",
    "nombre_exposed        501\n",
    "nombre_recovered    16299\n",
    "Name: 513, dtype: int64"
   ]
  },
  {
   "cell_type": "markdown",
   "id": "33a39307",
   "metadata": {},
   "source": [
    "nombre_infected       933\n",
    "nombre_sain          2270\n",
    "nombre_exposed        483\n",
    "nombre_recovered    16314\n",
    "Name: 514, dtype: int64"
   ]
  },
  {
   "cell_type": "markdown",
   "id": "f267742e",
   "metadata": {},
   "source": [
    "nombre_infected       922\n",
    "nombre_sain          2241\n",
    "nombre_exposed        495\n",
    "nombre_recovered    16342\n",
    "Name: 515, dtype: int64"
   ]
  },
  {
   "cell_type": "markdown",
   "id": "3484879b",
   "metadata": {},
   "source": [
    "nombre_infected       927\n",
    "nombre_sain          2238\n",
    "nombre_exposed        485\n",
    "nombre_recovered    16350\n",
    "Name: 516, dtype: int64"
   ]
  },
  {
   "cell_type": "markdown",
   "id": "98ec516a",
   "metadata": {},
   "source": [
    "nombre_infected       927\n",
    "nombre_sain          2236\n",
    "nombre_exposed        484\n",
    "nombre_recovered    16353\n",
    "Name: 517, dtype: int64"
   ]
  },
  {
   "cell_type": "markdown",
   "id": "51cfe5c8",
   "metadata": {},
   "source": [
    "nombre_infected       907\n",
    "nombre_sain          2216\n",
    "nombre_exposed        503\n",
    "nombre_recovered    16374\n",
    "Name: 518, dtype: int64"
   ]
  },
  {
   "cell_type": "markdown",
   "id": "a9e8fa63",
   "metadata": {},
   "source": [
    "nombre_infected       914\n",
    "nombre_sain          2199\n",
    "nombre_exposed        509\n",
    "nombre_recovered    16378\n",
    "Name: 519, dtype: int64"
   ]
  },
  {
   "cell_type": "markdown",
   "id": "027db5da",
   "metadata": {},
   "source": [
    "nombre_infected       896\n",
    "nombre_sain          2177\n",
    "nombre_exposed        526\n",
    "nombre_recovered    16401\n",
    "Name: 520, dtype: int64"
   ]
  },
  {
   "cell_type": "markdown",
   "id": "a8e618d8",
   "metadata": {},
   "source": [
    "nombre_infected       912\n",
    "nombre_sain          2183\n",
    "nombre_exposed        520\n",
    "nombre_recovered    16385\n",
    "Name: 521, dtype: int64"
   ]
  },
  {
   "cell_type": "markdown",
   "id": "141dee82",
   "metadata": {},
   "source": [
    "nombre_infected       933\n",
    "nombre_sain          2184\n",
    "nombre_exposed        498\n",
    "nombre_recovered    16385\n",
    "Name: 522, dtype: int64"
   ]
  },
  {
   "cell_type": "markdown",
   "id": "64e6a078",
   "metadata": {},
   "source": [
    "nombre_infected       950\n",
    "nombre_sain          2174\n",
    "nombre_exposed        492\n",
    "nombre_recovered    16384\n",
    "Name: 523, dtype: int64"
   ]
  },
  {
   "cell_type": "markdown",
   "id": "107bed24",
   "metadata": {},
   "source": [
    "nombre_infected       924\n",
    "nombre_sain          2125\n",
    "nombre_exposed        540\n",
    "nombre_recovered    16411\n",
    "Name: 524, dtype: int64"
   ]
  },
  {
   "cell_type": "markdown",
   "id": "61c602bc",
   "metadata": {},
   "source": [
    "nombre_infected       950\n",
    "nombre_sain          2140\n",
    "nombre_exposed        522\n",
    "nombre_recovered    16388\n",
    "Name: 525, dtype: int64"
   ]
  },
  {
   "cell_type": "markdown",
   "id": "19922d98",
   "metadata": {},
   "source": [
    "nombre_infected       941\n",
    "nombre_sain          2133\n",
    "nombre_exposed        506\n",
    "nombre_recovered    16420\n",
    "Name: 526, dtype: int64"
   ]
  },
  {
   "cell_type": "markdown",
   "id": "9eac5b14",
   "metadata": {},
   "source": [
    "nombre_infected       948\n",
    "nombre_sain          2104\n",
    "nombre_exposed        504\n",
    "nombre_recovered    16444\n",
    "Name: 527, dtype: int64"
   ]
  },
  {
   "cell_type": "markdown",
   "id": "14a40ade",
   "metadata": {},
   "source": [
    "nombre_infected       934\n",
    "nombre_sain          2088\n",
    "nombre_exposed        514\n",
    "nombre_recovered    16464\n",
    "Name: 528, dtype: int64"
   ]
  },
  {
   "cell_type": "markdown",
   "id": "9bdb63e5",
   "metadata": {},
   "source": [
    "nombre_infected       923\n",
    "nombre_sain          2083\n",
    "nombre_exposed        508\n",
    "nombre_recovered    16486\n",
    "Name: 529, dtype: int64"
   ]
  },
  {
   "cell_type": "markdown",
   "id": "9d9ffddf",
   "metadata": {},
   "source": [
    "nombre_infected       915\n",
    "nombre_sain          2067\n",
    "nombre_exposed        523\n",
    "nombre_recovered    16495\n",
    "Name: 530, dtype: int64"
   ]
  },
  {
   "cell_type": "markdown",
   "id": "cdf16293",
   "metadata": {},
   "source": [
    "nombre_infected       925\n",
    "nombre_sain          2055\n",
    "nombre_exposed        529\n",
    "nombre_recovered    16491\n",
    "Name: 531, dtype: int64"
   ]
  },
  {
   "cell_type": "markdown",
   "id": "848fb135",
   "metadata": {},
   "source": [
    "nombre_infected       926\n",
    "nombre_sain          2024\n",
    "nombre_exposed        535\n",
    "nombre_recovered    16515\n",
    "Name: 532, dtype: int64"
   ]
  },
  {
   "cell_type": "markdown",
   "id": "818c4c03",
   "metadata": {},
   "source": [
    "nombre_infected       937\n",
    "nombre_sain          2019\n",
    "nombre_exposed        521\n",
    "nombre_recovered    16523\n",
    "Name: 533, dtype: int64"
   ]
  },
  {
   "cell_type": "markdown",
   "id": "0b4eaa74",
   "metadata": {},
   "source": [
    "nombre_infected       936\n",
    "nombre_sain          1994\n",
    "nombre_exposed        519\n",
    "nombre_recovered    16551\n",
    "Name: 534, dtype: int64"
   ]
  },
  {
   "cell_type": "markdown",
   "id": "8d2bbdfb",
   "metadata": {},
   "source": [
    "nombre_infected       956\n",
    "nombre_sain          1975\n",
    "nombre_exposed        501\n",
    "nombre_recovered    16568\n",
    "Name: 535, dtype: int64"
   ]
  },
  {
   "cell_type": "markdown",
   "id": "5f92b682",
   "metadata": {},
   "source": [
    "nombre_infected       932\n",
    "nombre_sain          1973\n",
    "nombre_exposed        492\n",
    "nombre_recovered    16603\n",
    "Name: 536, dtype: int64"
   ]
  },
  {
   "cell_type": "markdown",
   "id": "07daa684",
   "metadata": {},
   "source": [
    "nombre_infected       935\n",
    "nombre_sain          1967\n",
    "nombre_exposed        478\n",
    "nombre_recovered    16620\n",
    "Name: 537, dtype: int64"
   ]
  },
  {
   "cell_type": "markdown",
   "id": "36dd78e8",
   "metadata": {},
   "source": [
    "nombre_infected       933\n",
    "nombre_sain          1939\n",
    "nombre_exposed        474\n",
    "nombre_recovered    16654\n",
    "Name: 538, dtype: int64"
   ]
  },
  {
   "cell_type": "markdown",
   "id": "a63ffd7e",
   "metadata": {},
   "source": [
    "nombre_infected       874\n",
    "nombre_sain          1917\n",
    "nombre_exposed        492\n",
    "nombre_recovered    16717\n",
    "Name: 539, dtype: int64"
   ]
  },
  {
   "cell_type": "markdown",
   "id": "b9d13c4e",
   "metadata": {},
   "source": [
    "nombre_infected       875\n",
    "nombre_sain          1919\n",
    "nombre_exposed        476\n",
    "nombre_recovered    16730\n",
    "Name: 540, dtype: int64"
   ]
  },
  {
   "cell_type": "markdown",
   "id": "3fbb5940",
   "metadata": {},
   "source": [
    "nombre_infected       846\n",
    "nombre_sain          1894\n",
    "nombre_exposed        482\n",
    "nombre_recovered    16778\n",
    "Name: 541, dtype: int64"
   ]
  },
  {
   "cell_type": "markdown",
   "id": "cde59d9a",
   "metadata": {},
   "source": [
    "nombre_infected       836\n",
    "nombre_sain          1870\n",
    "nombre_exposed        498\n",
    "nombre_recovered    16796\n",
    "Name: 542, dtype: int64"
   ]
  },
  {
   "cell_type": "markdown",
   "id": "3bdf4ab3",
   "metadata": {},
   "source": [
    "nombre_infected       828\n",
    "nombre_sain          1881\n",
    "nombre_exposed        488\n",
    "nombre_recovered    16803\n",
    "Name: 543, dtype: int64"
   ]
  },
  {
   "cell_type": "markdown",
   "id": "dfa5304a",
   "metadata": {},
   "source": [
    "nombre_infected       806\n",
    "nombre_sain          1888\n",
    "nombre_exposed        479\n",
    "nombre_recovered    16827\n",
    "Name: 544, dtype: int64"
   ]
  },
  {
   "cell_type": "markdown",
   "id": "5362a381",
   "metadata": {},
   "source": [
    "nombre_infected       821\n",
    "nombre_sain          1904\n",
    "nombre_exposed        448\n",
    "nombre_recovered    16827\n",
    "Name: 545, dtype: int64"
   ]
  },
  {
   "cell_type": "markdown",
   "id": "edf0bf6c",
   "metadata": {},
   "source": [
    "nombre_infected       811\n",
    "nombre_sain          1897\n",
    "nombre_exposed        460\n",
    "nombre_recovered    16832\n",
    "Name: 546, dtype: int64"
   ]
  },
  {
   "cell_type": "markdown",
   "id": "8151f39b",
   "metadata": {},
   "source": [
    "nombre_infected       807\n",
    "nombre_sain          1903\n",
    "nombre_exposed        453\n",
    "nombre_recovered    16837\n",
    "Name: 547, dtype: int64"
   ]
  },
  {
   "cell_type": "markdown",
   "id": "3f1e1d95",
   "metadata": {},
   "source": [
    "nombre_infected       801\n",
    "nombre_sain          1906\n",
    "nombre_exposed        455\n",
    "nombre_recovered    16838\n",
    "Name: 548, dtype: int64"
   ]
  },
  {
   "cell_type": "markdown",
   "id": "de07778b",
   "metadata": {},
   "source": [
    "nombre_infected       812\n",
    "nombre_sain          1934\n",
    "nombre_exposed        447\n",
    "nombre_recovered    16807\n",
    "Name: 549, dtype: int64"
   ]
  },
  {
   "cell_type": "markdown",
   "id": "4e5c0fb1",
   "metadata": {},
   "source": [
    "nombre_infected       792\n",
    "nombre_sain          1946\n",
    "nombre_exposed        448\n",
    "nombre_recovered    16814\n",
    "Name: 550, dtype: int64"
   ]
  },
  {
   "cell_type": "markdown",
   "id": "86bec0b4",
   "metadata": {},
   "source": [
    "nombre_infected       797\n",
    "nombre_sain          1965\n",
    "nombre_exposed        438\n",
    "nombre_recovered    16800\n",
    "Name: 551, dtype: int64"
   ]
  },
  {
   "cell_type": "markdown",
   "id": "1c6ecdfe",
   "metadata": {},
   "source": [
    "nombre_infected       799\n",
    "nombre_sain          1963\n",
    "nombre_exposed        449\n",
    "nombre_recovered    16789\n",
    "Name: 552, dtype: int64"
   ]
  },
  {
   "cell_type": "markdown",
   "id": "de11f8c1",
   "metadata": {},
   "source": [
    "nombre_infected       801\n",
    "nombre_sain          1959\n",
    "nombre_exposed        440\n",
    "nombre_recovered    16800\n",
    "Name: 553, dtype: int64"
   ]
  },
  {
   "cell_type": "markdown",
   "id": "52da87d2",
   "metadata": {},
   "source": [
    "nombre_infected       785\n",
    "nombre_sain          1999\n",
    "nombre_exposed        433\n",
    "nombre_recovered    16783\n",
    "Name: 554, dtype: int64"
   ]
  },
  {
   "cell_type": "markdown",
   "id": "de7d5fc0",
   "metadata": {},
   "source": [
    "nombre_infected       780\n",
    "nombre_sain          2025\n",
    "nombre_exposed        418\n",
    "nombre_recovered    16777\n",
    "Name: 555, dtype: int64"
   ]
  },
  {
   "cell_type": "markdown",
   "id": "bd5c88fa",
   "metadata": {},
   "source": [
    "nombre_infected       791\n",
    "nombre_sain          2029\n",
    "nombre_exposed        406\n",
    "nombre_recovered    16774\n",
    "Name: 556, dtype: int64"
   ]
  },
  {
   "cell_type": "markdown",
   "id": "69269813",
   "metadata": {},
   "source": [
    "nombre_infected       795\n",
    "nombre_sain          2056\n",
    "nombre_exposed        390\n",
    "nombre_recovered    16759\n",
    "Name: 557, dtype: int64"
   ]
  },
  {
   "cell_type": "markdown",
   "id": "3b231e61",
   "metadata": {},
   "source": [
    "nombre_infected       785\n",
    "nombre_sain          2062\n",
    "nombre_exposed        419\n",
    "nombre_recovered    16734\n",
    "Name: 558, dtype: int64"
   ]
  },
  {
   "cell_type": "markdown",
   "id": "953ece1c",
   "metadata": {},
   "source": [
    "nombre_infected       776\n",
    "nombre_sain          2084\n",
    "nombre_exposed        427\n",
    "nombre_recovered    16713\n",
    "Name: 559, dtype: int64"
   ]
  },
  {
   "cell_type": "markdown",
   "id": "202ad98a",
   "metadata": {},
   "source": [
    "nombre_infected       770\n",
    "nombre_sain          2091\n",
    "nombre_exposed        426\n",
    "nombre_recovered    16713\n",
    "Name: 560, dtype: int64"
   ]
  },
  {
   "cell_type": "markdown",
   "id": "b8c6c381",
   "metadata": {},
   "source": [
    "nombre_infected       770\n",
    "nombre_sain          2100\n",
    "nombre_exposed        441\n",
    "nombre_recovered    16689\n",
    "Name: 561, dtype: int64"
   ]
  },
  {
   "cell_type": "markdown",
   "id": "699a41f5",
   "metadata": {},
   "source": [
    "nombre_infected       791\n",
    "nombre_sain          2108\n",
    "nombre_exposed        448\n",
    "nombre_recovered    16653\n",
    "Name: 562, dtype: int64"
   ]
  },
  {
   "cell_type": "markdown",
   "id": "83d410c8",
   "metadata": {},
   "source": [
    "nombre_infected       800\n",
    "nombre_sain          2100\n",
    "nombre_exposed        460\n",
    "nombre_recovered    16640\n",
    "Name: 563, dtype: int64"
   ]
  },
  {
   "cell_type": "markdown",
   "id": "08296007",
   "metadata": {},
   "source": [
    "nombre_infected       781\n",
    "nombre_sain          2093\n",
    "nombre_exposed        479\n",
    "nombre_recovered    16647\n",
    "Name: 564, dtype: int64"
   ]
  },
  {
   "cell_type": "markdown",
   "id": "50d17f18",
   "metadata": {},
   "source": [
    "nombre_infected       779\n",
    "nombre_sain          2103\n",
    "nombre_exposed        487\n",
    "nombre_recovered    16631\n",
    "Name: 565, dtype: int64"
   ]
  },
  {
   "cell_type": "markdown",
   "id": "ea0d1bb4",
   "metadata": {},
   "source": [
    "nombre_infected       799\n",
    "nombre_sain          2111\n",
    "nombre_exposed        471\n",
    "nombre_recovered    16619\n",
    "Name: 566, dtype: int64"
   ]
  },
  {
   "cell_type": "markdown",
   "id": "1fe1161c",
   "metadata": {},
   "source": [
    "nombre_infected       833\n",
    "nombre_sain          2109\n",
    "nombre_exposed        461\n",
    "nombre_recovered    16597\n",
    "Name: 567, dtype: int64"
   ]
  },
  {
   "cell_type": "markdown",
   "id": "93d4ea5a",
   "metadata": {},
   "source": [
    "nombre_infected       832\n",
    "nombre_sain          2120\n",
    "nombre_exposed        463\n",
    "nombre_recovered    16585\n",
    "Name: 568, dtype: int64"
   ]
  },
  {
   "cell_type": "markdown",
   "id": "4a97d6b8",
   "metadata": {},
   "source": [
    "nombre_infected       819\n",
    "nombre_sain          2135\n",
    "nombre_exposed        457\n",
    "nombre_recovered    16589\n",
    "Name: 569, dtype: int64"
   ]
  },
  {
   "cell_type": "markdown",
   "id": "580817c2",
   "metadata": {},
   "source": [
    "nombre_infected       799\n",
    "nombre_sain          2152\n",
    "nombre_exposed        470\n",
    "nombre_recovered    16579\n",
    "Name: 570, dtype: int64"
   ]
  },
  {
   "cell_type": "markdown",
   "id": "94621d76",
   "metadata": {},
   "source": [
    "nombre_infected       796\n",
    "nombre_sain          2171\n",
    "nombre_exposed        441\n",
    "nombre_recovered    16592\n",
    "Name: 571, dtype: int64"
   ]
  },
  {
   "cell_type": "markdown",
   "id": "3fedd98f",
   "metadata": {},
   "source": [
    "nombre_infected       778\n",
    "nombre_sain          2183\n",
    "nombre_exposed        454\n",
    "nombre_recovered    16585\n",
    "Name: 572, dtype: int64"
   ]
  },
  {
   "cell_type": "markdown",
   "id": "31475fc7",
   "metadata": {},
   "source": [
    "nombre_infected       783\n",
    "nombre_sain          2224\n",
    "nombre_exposed        456\n",
    "nombre_recovered    16537\n",
    "Name: 573, dtype: int64"
   ]
  },
  {
   "cell_type": "markdown",
   "id": "2cf43fe8",
   "metadata": {},
   "source": [
    "nombre_infected       793\n",
    "nombre_sain          2241\n",
    "nombre_exposed        459\n",
    "nombre_recovered    16507\n",
    "Name: 574, dtype: int64"
   ]
  },
  {
   "cell_type": "markdown",
   "id": "c62533a3",
   "metadata": {},
   "source": [
    "nombre_infected       784\n",
    "nombre_sain          2246\n",
    "nombre_exposed        472\n",
    "nombre_recovered    16498\n",
    "Name: 575, dtype: int64"
   ]
  },
  {
   "cell_type": "markdown",
   "id": "95620548",
   "metadata": {},
   "source": [
    "nombre_infected       809\n",
    "nombre_sain          2270\n",
    "nombre_exposed        461\n",
    "nombre_recovered    16460\n",
    "Name: 576, dtype: int64"
   ]
  },
  {
   "cell_type": "markdown",
   "id": "307d15ab",
   "metadata": {},
   "source": [
    "nombre_infected       809\n",
    "nombre_sain          2274\n",
    "nombre_exposed        450\n",
    "nombre_recovered    16467\n",
    "Name: 577, dtype: int64"
   ]
  },
  {
   "cell_type": "markdown",
   "id": "68e36533",
   "metadata": {},
   "source": [
    "nombre_infected       815\n",
    "nombre_sain          2287\n",
    "nombre_exposed        451\n",
    "nombre_recovered    16447\n",
    "Name: 578, dtype: int64"
   ]
  },
  {
   "cell_type": "markdown",
   "id": "7f6c493d",
   "metadata": {},
   "source": [
    "nombre_infected       814\n",
    "nombre_sain          2296\n",
    "nombre_exposed        464\n",
    "nombre_recovered    16426\n",
    "Name: 579, dtype: int64"
   ]
  },
  {
   "cell_type": "markdown",
   "id": "f4d7e52d",
   "metadata": {},
   "source": [
    "nombre_infected       818\n",
    "nombre_sain          2285\n",
    "nombre_exposed        477\n",
    "nombre_recovered    16420\n",
    "Name: 580, dtype: int64"
   ]
  },
  {
   "cell_type": "markdown",
   "id": "ad9183ed",
   "metadata": {},
   "source": [
    "nombre_infected       827\n",
    "nombre_sain          2313\n",
    "nombre_exposed        471\n",
    "nombre_recovered    16389\n",
    "Name: 581, dtype: int64"
   ]
  },
  {
   "cell_type": "markdown",
   "id": "2510dd6a",
   "metadata": {},
   "source": [
    "nombre_infected       837\n",
    "nombre_sain          2315\n",
    "nombre_exposed        474\n",
    "nombre_recovered    16374\n",
    "Name: 582, dtype: int64"
   ]
  },
  {
   "cell_type": "markdown",
   "id": "cc53ae14",
   "metadata": {},
   "source": [
    "nombre_infected       851\n",
    "nombre_sain          2332\n",
    "nombre_exposed        488\n",
    "nombre_recovered    16329\n",
    "Name: 583, dtype: int64"
   ]
  },
  {
   "cell_type": "markdown",
   "id": "83f00808",
   "metadata": {},
   "source": [
    "nombre_infected       839\n",
    "nombre_sain          2324\n",
    "nombre_exposed        509\n",
    "nombre_recovered    16328\n",
    "Name: 584, dtype: int64"
   ]
  },
  {
   "cell_type": "markdown",
   "id": "1ad747d5",
   "metadata": {},
   "source": [
    "nombre_infected       862\n",
    "nombre_sain          2332\n",
    "nombre_exposed        487\n",
    "nombre_recovered    16319\n",
    "Name: 585, dtype: int64"
   ]
  },
  {
   "cell_type": "markdown",
   "id": "ad18a31a",
   "metadata": {},
   "source": [
    "nombre_infected       854\n",
    "nombre_sain          2317\n",
    "nombre_exposed        504\n",
    "nombre_recovered    16325\n",
    "Name: 586, dtype: int64"
   ]
  },
  {
   "cell_type": "markdown",
   "id": "2ca8d5a6",
   "metadata": {},
   "source": [
    "nombre_infected       850\n",
    "nombre_sain          2312\n",
    "nombre_exposed        498\n",
    "nombre_recovered    16340\n",
    "Name: 587, dtype: int64"
   ]
  },
  {
   "cell_type": "markdown",
   "id": "7353db11",
   "metadata": {},
   "source": [
    "nombre_infected       851\n",
    "nombre_sain          2287\n",
    "nombre_exposed        517\n",
    "nombre_recovered    16345\n",
    "Name: 588, dtype: int64"
   ]
  },
  {
   "cell_type": "markdown",
   "id": "93c7d58c",
   "metadata": {},
   "source": [
    "nombre_infected       879\n",
    "nombre_sain          2294\n",
    "nombre_exposed        500\n",
    "nombre_recovered    16327\n",
    "Name: 589, dtype: int64"
   ]
  },
  {
   "cell_type": "markdown",
   "id": "e9153768",
   "metadata": {},
   "source": [
    "nombre_infected       886\n",
    "nombre_sain          2288\n",
    "nombre_exposed        506\n",
    "nombre_recovered    16320\n",
    "Name: 590, dtype: int64"
   ]
  },
  {
   "cell_type": "markdown",
   "id": "41c03dcd",
   "metadata": {},
   "source": [
    "nombre_infected       862\n",
    "nombre_sain          2273\n",
    "nombre_exposed        526\n",
    "nombre_recovered    16339\n",
    "Name: 591, dtype: int64"
   ]
  },
  {
   "cell_type": "markdown",
   "id": "f098110f",
   "metadata": {},
   "source": [
    "nombre_infected       884\n",
    "nombre_sain          2296\n",
    "nombre_exposed        500\n",
    "nombre_recovered    16320\n",
    "Name: 592, dtype: int64"
   ]
  },
  {
   "cell_type": "markdown",
   "id": "3b67ac79",
   "metadata": {},
   "source": [
    "nombre_infected       885\n",
    "nombre_sain          2295\n",
    "nombre_exposed        509\n",
    "nombre_recovered    16311\n",
    "Name: 593, dtype: int64"
   ]
  },
  {
   "cell_type": "markdown",
   "id": "bca2cc11",
   "metadata": {},
   "source": [
    "nombre_infected       895\n",
    "nombre_sain          2295\n",
    "nombre_exposed        514\n",
    "nombre_recovered    16296\n",
    "Name: 594, dtype: int64"
   ]
  },
  {
   "cell_type": "markdown",
   "id": "9b5aba6e",
   "metadata": {},
   "source": [
    "nombre_infected       888\n",
    "nombre_sain          2310\n",
    "nombre_exposed        512\n",
    "nombre_recovered    16290\n",
    "Name: 595, dtype: int64"
   ]
  },
  {
   "cell_type": "markdown",
   "id": "34ce02a4",
   "metadata": {},
   "source": [
    "nombre_infected       904\n",
    "nombre_sain          2316\n",
    "nombre_exposed        511\n",
    "nombre_recovered    16269\n",
    "Name: 596, dtype: int64"
   ]
  },
  {
   "cell_type": "markdown",
   "id": "a0167e4d",
   "metadata": {},
   "source": [
    "nombre_infected       901\n",
    "nombre_sain          2315\n",
    "nombre_exposed        502\n",
    "nombre_recovered    16282\n",
    "Name: 597, dtype: int64"
   ]
  },
  {
   "cell_type": "markdown",
   "id": "36120b83",
   "metadata": {},
   "source": [
    "nombre_infected       901\n",
    "nombre_sain          2333\n",
    "nombre_exposed        489\n",
    "nombre_recovered    16277\n",
    "Name: 598, dtype: int64"
   ]
  },
  {
   "cell_type": "markdown",
   "id": "dd2329c8",
   "metadata": {},
   "source": [
    "nombre_infected       910\n",
    "nombre_sain          2318\n",
    "nombre_exposed        489\n",
    "nombre_recovered    16283\n",
    "Name: 599, dtype: int64"
   ]
  },
  {
   "cell_type": "markdown",
   "id": "75f7a64c",
   "metadata": {},
   "source": [
    "nombre_infected       926\n",
    "nombre_sain          2323\n",
    "nombre_exposed        480\n",
    "nombre_recovered    16271\n",
    "Name: 600, dtype: int64"
   ]
  },
  {
   "cell_type": "markdown",
   "id": "5fcd3f54",
   "metadata": {},
   "source": [
    "nombre_infected       901\n",
    "nombre_sain          2307\n",
    "nombre_exposed        511\n",
    "nombre_recovered    16281\n",
    "Name: 601, dtype: int64"
   ]
  },
  {
   "cell_type": "markdown",
   "id": "f677707c",
   "metadata": {},
   "source": [
    "nombre_infected       877\n",
    "nombre_sain          2286\n",
    "nombre_exposed        521\n",
    "nombre_recovered    16316\n",
    "Name: 602, dtype: int64"
   ]
  },
  {
   "cell_type": "markdown",
   "id": "dacbdc92",
   "metadata": {},
   "source": [
    "nombre_infected       881\n",
    "nombre_sain          2282\n",
    "nombre_exposed        504\n",
    "nombre_recovered    16333\n",
    "Name: 603, dtype: int64"
   ]
  },
  {
   "cell_type": "markdown",
   "id": "65bc210e",
   "metadata": {},
   "source": [
    "nombre_infected       888\n",
    "nombre_sain          2271\n",
    "nombre_exposed        500\n",
    "nombre_recovered    16341\n",
    "Name: 604, dtype: int64"
   ]
  },
  {
   "cell_type": "markdown",
   "id": "bf86274d",
   "metadata": {},
   "source": [
    "nombre_infected       901\n",
    "nombre_sain          2261\n",
    "nombre_exposed        490\n",
    "nombre_recovered    16348\n",
    "Name: 605, dtype: int64"
   ]
  },
  {
   "cell_type": "markdown",
   "id": "4008b030",
   "metadata": {},
   "source": [
    "nombre_infected       896\n",
    "nombre_sain          2264\n",
    "nombre_exposed        484\n",
    "nombre_recovered    16356\n",
    "Name: 606, dtype: int64"
   ]
  },
  {
   "cell_type": "markdown",
   "id": "87f252ca",
   "metadata": {},
   "source": [
    "nombre_infected       925\n",
    "nombre_sain          2267\n",
    "nombre_exposed        481\n",
    "nombre_recovered    16327\n",
    "Name: 607, dtype: int64"
   ]
  },
  {
   "cell_type": "markdown",
   "id": "eb45f51e",
   "metadata": {},
   "source": [
    "nombre_infected       913\n",
    "nombre_sain          2256\n",
    "nombre_exposed        502\n",
    "nombre_recovered    16329\n",
    "Name: 608, dtype: int64"
   ]
  },
  {
   "cell_type": "markdown",
   "id": "14b62d5b",
   "metadata": {},
   "source": [
    "nombre_infected       938\n",
    "nombre_sain          2276\n",
    "nombre_exposed        475\n",
    "nombre_recovered    16311\n",
    "Name: 609, dtype: int64"
   ]
  },
  {
   "cell_type": "markdown",
   "id": "5704b94b",
   "metadata": {},
   "source": [
    "nombre_infected       909\n",
    "nombre_sain          2259\n",
    "nombre_exposed        489\n",
    "nombre_recovered    16343\n",
    "Name: 610, dtype: int64"
   ]
  },
  {
   "cell_type": "markdown",
   "id": "e45e5d41",
   "metadata": {},
   "source": [
    "nombre_infected       886\n",
    "nombre_sain          2258\n",
    "nombre_exposed        516\n",
    "nombre_recovered    16340\n",
    "Name: 611, dtype: int64"
   ]
  },
  {
   "cell_type": "markdown",
   "id": "49f7e1b8",
   "metadata": {},
   "source": [
    "nombre_infected       914\n",
    "nombre_sain          2240\n",
    "nombre_exposed        509\n",
    "nombre_recovered    16337\n",
    "Name: 612, dtype: int64"
   ]
  },
  {
   "cell_type": "markdown",
   "id": "6666c3cd",
   "metadata": {},
   "source": [
    "nombre_infected       944\n",
    "nombre_sain          2224\n",
    "nombre_exposed        516\n",
    "nombre_recovered    16316\n",
    "Name: 613, dtype: int64"
   ]
  },
  {
   "cell_type": "markdown",
   "id": "dcd259fd",
   "metadata": {},
   "source": [
    "nombre_infected       940\n",
    "nombre_sain          2191\n",
    "nombre_exposed        543\n",
    "nombre_recovered    16326\n",
    "Name: 614, dtype: int64"
   ]
  },
  {
   "cell_type": "markdown",
   "id": "28a8a5bc",
   "metadata": {},
   "source": [
    "nombre_infected       946\n",
    "nombre_sain          2163\n",
    "nombre_exposed        543\n",
    "nombre_recovered    16348\n",
    "Name: 615, dtype: int64"
   ]
  },
  {
   "cell_type": "markdown",
   "id": "cb0732ca",
   "metadata": {},
   "source": [
    "nombre_infected       949\n",
    "nombre_sain          2168\n",
    "nombre_exposed        544\n",
    "nombre_recovered    16339\n",
    "Name: 616, dtype: int64"
   ]
  },
  {
   "cell_type": "markdown",
   "id": "620ed3c5",
   "metadata": {},
   "source": [
    "nombre_infected       968\n",
    "nombre_sain          2164\n",
    "nombre_exposed        529\n",
    "nombre_recovered    16339\n",
    "Name: 617, dtype: int64"
   ]
  },
  {
   "cell_type": "markdown",
   "id": "faec33db",
   "metadata": {},
   "source": [
    "nombre_infected       948\n",
    "nombre_sain          2154\n",
    "nombre_exposed        539\n",
    "nombre_recovered    16359\n",
    "Name: 618, dtype: int64"
   ]
  },
  {
   "cell_type": "markdown",
   "id": "1b217670",
   "metadata": {},
   "source": [
    "nombre_infected       978\n",
    "nombre_sain          2162\n",
    "nombre_exposed        525\n",
    "nombre_recovered    16335\n",
    "Name: 619, dtype: int64"
   ]
  },
  {
   "cell_type": "markdown",
   "id": "953b251d",
   "metadata": {},
   "source": [
    "nombre_infected       964\n",
    "nombre_sain          2139\n",
    "nombre_exposed        542\n",
    "nombre_recovered    16355\n",
    "Name: 620, dtype: int64"
   ]
  },
  {
   "cell_type": "markdown",
   "id": "965bf811",
   "metadata": {},
   "source": [
    "nombre_infected       981\n",
    "nombre_sain          2106\n",
    "nombre_exposed        563\n",
    "nombre_recovered    16350\n",
    "Name: 621, dtype: int64"
   ]
  },
  {
   "cell_type": "markdown",
   "id": "30873c19",
   "metadata": {},
   "source": [
    "nombre_infected       984\n",
    "nombre_sain          2143\n",
    "nombre_exposed        528\n",
    "nombre_recovered    16345\n",
    "Name: 622, dtype: int64"
   ]
  },
  {
   "cell_type": "markdown",
   "id": "c69384fb",
   "metadata": {},
   "source": [
    "nombre_infected      1018\n",
    "nombre_sain          2111\n",
    "nombre_exposed        511\n",
    "nombre_recovered    16360\n",
    "Name: 623, dtype: int64"
   ]
  },
  {
   "cell_type": "markdown",
   "id": "3f7c917a",
   "metadata": {},
   "source": [
    "nombre_infected       990\n",
    "nombre_sain          2098\n",
    "nombre_exposed        534\n",
    "nombre_recovered    16378\n",
    "Name: 624, dtype: int64"
   ]
  },
  {
   "cell_type": "markdown",
   "id": "054c1d5d",
   "metadata": {},
   "source": [
    "nombre_infected       972\n",
    "nombre_sain          2100\n",
    "nombre_exposed        541\n",
    "nombre_recovered    16387\n",
    "Name: 625, dtype: int64"
   ]
  },
  {
   "cell_type": "markdown",
   "id": "dae55690",
   "metadata": {},
   "source": [
    "nombre_infected       975\n",
    "nombre_sain          2118\n",
    "nombre_exposed        516\n",
    "nombre_recovered    16391\n",
    "Name: 626, dtype: int64"
   ]
  },
  {
   "cell_type": "markdown",
   "id": "29dcd6e6",
   "metadata": {},
   "source": [
    "nombre_infected       975\n",
    "nombre_sain          2127\n",
    "nombre_exposed        501\n",
    "nombre_recovered    16397\n",
    "Name: 627, dtype: int64"
   ]
  },
  {
   "cell_type": "markdown",
   "id": "c56432e0",
   "metadata": {},
   "source": [
    "nombre_infected       992\n",
    "nombre_sain          2106\n",
    "nombre_exposed        489\n",
    "nombre_recovered    16413\n",
    "Name: 628, dtype: int64"
   ]
  },
  {
   "cell_type": "markdown",
   "id": "68eb4c9f",
   "metadata": {},
   "source": [
    "nombre_infected       982\n",
    "nombre_sain          2094\n",
    "nombre_exposed        507\n",
    "nombre_recovered    16417\n",
    "Name: 629, dtype: int64"
   ]
  },
  {
   "cell_type": "markdown",
   "id": "41e58bcb",
   "metadata": {},
   "source": [
    "nombre_infected       987\n",
    "nombre_sain          2075\n",
    "nombre_exposed        515\n",
    "nombre_recovered    16423\n",
    "Name: 630, dtype: int64"
   ]
  },
  {
   "cell_type": "markdown",
   "id": "79569162",
   "metadata": {},
   "source": [
    "nombre_infected       965\n",
    "nombre_sain          2081\n",
    "nombre_exposed        532\n",
    "nombre_recovered    16422\n",
    "Name: 631, dtype: int64"
   ]
  },
  {
   "cell_type": "markdown",
   "id": "6d21a536",
   "metadata": {},
   "source": [
    "nombre_infected       972\n",
    "nombre_sain          2071\n",
    "nombre_exposed        526\n",
    "nombre_recovered    16431\n",
    "Name: 632, dtype: int64"
   ]
  },
  {
   "cell_type": "markdown",
   "id": "c117984d",
   "metadata": {},
   "source": [
    "nombre_infected       978\n",
    "nombre_sain          2061\n",
    "nombre_exposed        512\n",
    "nombre_recovered    16449\n",
    "Name: 633, dtype: int64"
   ]
  },
  {
   "cell_type": "markdown",
   "id": "f93a94d4",
   "metadata": {},
   "source": [
    "nombre_infected       982\n",
    "nombre_sain          2051\n",
    "nombre_exposed        510\n",
    "nombre_recovered    16457\n",
    "Name: 634, dtype: int64"
   ]
  },
  {
   "cell_type": "markdown",
   "id": "6e50c631",
   "metadata": {},
   "source": [
    "nombre_infected       961\n",
    "nombre_sain          2034\n",
    "nombre_exposed        527\n",
    "nombre_recovered    16478\n",
    "Name: 635, dtype: int64"
   ]
  },
  {
   "cell_type": "markdown",
   "id": "cba62aab",
   "metadata": {},
   "source": [
    "nombre_infected       944\n",
    "nombre_sain          2011\n",
    "nombre_exposed        538\n",
    "nombre_recovered    16507\n",
    "Name: 636, dtype: int64"
   ]
  },
  {
   "cell_type": "markdown",
   "id": "a7f760a8",
   "metadata": {},
   "source": [
    "nombre_infected       939\n",
    "nombre_sain          2013\n",
    "nombre_exposed        527\n",
    "nombre_recovered    16521\n",
    "Name: 637, dtype: int64"
   ]
  },
  {
   "cell_type": "markdown",
   "id": "daf12a5d",
   "metadata": {},
   "source": [
    "nombre_infected       962\n",
    "nombre_sain          2029\n",
    "nombre_exposed        488\n",
    "nombre_recovered    16521\n",
    "Name: 638, dtype: int64"
   ]
  },
  {
   "cell_type": "markdown",
   "id": "58a5053c",
   "metadata": {},
   "source": [
    "nombre_infected       958\n",
    "nombre_sain          2009\n",
    "nombre_exposed        489\n",
    "nombre_recovered    16544\n",
    "Name: 639, dtype: int64"
   ]
  },
  {
   "cell_type": "markdown",
   "id": "b7959468",
   "metadata": {},
   "source": [
    "nombre_infected       978\n",
    "nombre_sain          1984\n",
    "nombre_exposed        502\n",
    "nombre_recovered    16536\n",
    "Name: 640, dtype: int64"
   ]
  },
  {
   "cell_type": "markdown",
   "id": "32cedc5d",
   "metadata": {},
   "source": [
    "nombre_infected       972\n",
    "nombre_sain          1992\n",
    "nombre_exposed        487\n",
    "nombre_recovered    16549\n",
    "Name: 641, dtype: int64"
   ]
  },
  {
   "cell_type": "markdown",
   "id": "1c43c885",
   "metadata": {},
   "source": [
    "nombre_infected       969\n",
    "nombre_sain          1959\n",
    "nombre_exposed        506\n",
    "nombre_recovered    16566\n",
    "Name: 642, dtype: int64"
   ]
  },
  {
   "cell_type": "markdown",
   "id": "0d786acb",
   "metadata": {},
   "source": [
    "nombre_infected       970\n",
    "nombre_sain          1953\n",
    "nombre_exposed        496\n",
    "nombre_recovered    16581\n",
    "Name: 643, dtype: int64"
   ]
  },
  {
   "cell_type": "markdown",
   "id": "04514ba6",
   "metadata": {},
   "source": [
    "nombre_infected       969\n",
    "nombre_sain          1969\n",
    "nombre_exposed        482\n",
    "nombre_recovered    16580\n",
    "Name: 644, dtype: int64"
   ]
  },
  {
   "cell_type": "markdown",
   "id": "d6531347",
   "metadata": {},
   "source": [
    "nombre_infected       958\n",
    "nombre_sain          1982\n",
    "nombre_exposed        492\n",
    "nombre_recovered    16568\n",
    "Name: 645, dtype: int64"
   ]
  },
  {
   "cell_type": "markdown",
   "id": "627de0e7",
   "metadata": {},
   "source": [
    "nombre_infected       947\n",
    "nombre_sain          1993\n",
    "nombre_exposed        491\n",
    "nombre_recovered    16569\n",
    "Name: 646, dtype: int64"
   ]
  },
  {
   "cell_type": "markdown",
   "id": "fb55ff23",
   "metadata": {},
   "source": [
    "nombre_infected       938\n",
    "nombre_sain          2003\n",
    "nombre_exposed        484\n",
    "nombre_recovered    16575\n",
    "Name: 647, dtype: int64"
   ]
  },
  {
   "cell_type": "markdown",
   "id": "c9114227",
   "metadata": {},
   "source": [
    "nombre_infected       952\n",
    "nombre_sain          1995\n",
    "nombre_exposed        489\n",
    "nombre_recovered    16564\n",
    "Name: 648, dtype: int64"
   ]
  },
  {
   "cell_type": "markdown",
   "id": "44be0ea1",
   "metadata": {},
   "source": [
    "nombre_infected       943\n",
    "nombre_sain          1980\n",
    "nombre_exposed        499\n",
    "nombre_recovered    16578\n",
    "Name: 649, dtype: int64"
   ]
  },
  {
   "cell_type": "markdown",
   "id": "9ff59769",
   "metadata": {},
   "source": [
    "nombre_infected       931\n",
    "nombre_sain          2005\n",
    "nombre_exposed        489\n",
    "nombre_recovered    16575\n",
    "Name: 650, dtype: int64"
   ]
  },
  {
   "cell_type": "markdown",
   "id": "dbd30154",
   "metadata": {},
   "source": [
    "nombre_infected       925\n",
    "nombre_sain          2000\n",
    "nombre_exposed        488\n",
    "nombre_recovered    16587\n",
    "Name: 651, dtype: int64"
   ]
  },
  {
   "cell_type": "markdown",
   "id": "29fc0e2b",
   "metadata": {},
   "source": [
    "nombre_infected       940\n",
    "nombre_sain          2002\n",
    "nombre_exposed        487\n",
    "nombre_recovered    16571\n",
    "Name: 652, dtype: int64"
   ]
  },
  {
   "cell_type": "markdown",
   "id": "4a7cb8d0",
   "metadata": {},
   "source": [
    "nombre_infected       939\n",
    "nombre_sain          2026\n",
    "nombre_exposed        472\n",
    "nombre_recovered    16563\n",
    "Name: 653, dtype: int64"
   ]
  },
  {
   "cell_type": "markdown",
   "id": "090960f4",
   "metadata": {},
   "source": [
    "nombre_infected       923\n",
    "nombre_sain          1988\n",
    "nombre_exposed        494\n",
    "nombre_recovered    16595\n",
    "Name: 654, dtype: int64"
   ]
  },
  {
   "cell_type": "markdown",
   "id": "0e8bac63",
   "metadata": {},
   "source": [
    "nombre_infected       914\n",
    "nombre_sain          2005\n",
    "nombre_exposed        479\n",
    "nombre_recovered    16602\n",
    "Name: 655, dtype: int64"
   ]
  },
  {
   "cell_type": "markdown",
   "id": "1b905da1",
   "metadata": {},
   "source": [
    "nombre_infected       901\n",
    "nombre_sain          2007\n",
    "nombre_exposed        480\n",
    "nombre_recovered    16612\n",
    "Name: 656, dtype: int64"
   ]
  },
  {
   "cell_type": "markdown",
   "id": "b2c9ca96",
   "metadata": {},
   "source": [
    "nombre_infected       886\n",
    "nombre_sain          2018\n",
    "nombre_exposed        499\n",
    "nombre_recovered    16597\n",
    "Name: 657, dtype: int64"
   ]
  },
  {
   "cell_type": "markdown",
   "id": "9958eaac",
   "metadata": {},
   "source": [
    "nombre_infected       894\n",
    "nombre_sain          2027\n",
    "nombre_exposed        502\n",
    "nombre_recovered    16577\n",
    "Name: 658, dtype: int64"
   ]
  },
  {
   "cell_type": "markdown",
   "id": "d45c4d92",
   "metadata": {},
   "source": [
    "nombre_infected       889\n",
    "nombre_sain          2047\n",
    "nombre_exposed        490\n",
    "nombre_recovered    16574\n",
    "Name: 659, dtype: int64"
   ]
  },
  {
   "cell_type": "markdown",
   "id": "bc4d8ac8",
   "metadata": {},
   "source": [
    "nombre_infected       885\n",
    "nombre_sain          2034\n",
    "nombre_exposed        502\n",
    "nombre_recovered    16579\n",
    "Name: 660, dtype: int64"
   ]
  },
  {
   "cell_type": "markdown",
   "id": "60623c5c",
   "metadata": {},
   "source": [
    "nombre_infected       890\n",
    "nombre_sain          2026\n",
    "nombre_exposed        513\n",
    "nombre_recovered    16571\n",
    "Name: 661, dtype: int64"
   ]
  },
  {
   "cell_type": "markdown",
   "id": "faf0fd2b",
   "metadata": {},
   "source": [
    "nombre_infected       889\n",
    "nombre_sain          2037\n",
    "nombre_exposed        507\n",
    "nombre_recovered    16567\n",
    "Name: 662, dtype: int64"
   ]
  },
  {
   "cell_type": "markdown",
   "id": "79e5e355",
   "metadata": {},
   "source": [
    "nombre_infected       922\n",
    "nombre_sain          2019\n",
    "nombre_exposed        503\n",
    "nombre_recovered    16556\n",
    "Name: 663, dtype: int64"
   ]
  },
  {
   "cell_type": "markdown",
   "id": "24548bd2",
   "metadata": {},
   "source": [
    "nombre_infected       923\n",
    "nombre_sain          2032\n",
    "nombre_exposed        494\n",
    "nombre_recovered    16551\n",
    "Name: 664, dtype: int64"
   ]
  },
  {
   "cell_type": "markdown",
   "id": "0b930965",
   "metadata": {},
   "source": [
    "nombre_infected       907\n",
    "nombre_sain          2052\n",
    "nombre_exposed        489\n",
    "nombre_recovered    16552\n",
    "Name: 665, dtype: int64"
   ]
  },
  {
   "cell_type": "markdown",
   "id": "92db1722",
   "metadata": {},
   "source": [
    "nombre_infected       895\n",
    "nombre_sain          2052\n",
    "nombre_exposed        506\n",
    "nombre_recovered    16547\n",
    "Name: 666, dtype: int64"
   ]
  },
  {
   "cell_type": "markdown",
   "id": "997cd571",
   "metadata": {},
   "source": [
    "nombre_infected       919\n",
    "nombre_sain          2066\n",
    "nombre_exposed        481\n",
    "nombre_recovered    16534\n",
    "Name: 667, dtype: int64"
   ]
  },
  {
   "cell_type": "markdown",
   "id": "cc283d3e",
   "metadata": {},
   "source": [
    "nombre_infected       919\n",
    "nombre_sain          2070\n",
    "nombre_exposed        483\n",
    "nombre_recovered    16528\n",
    "Name: 668, dtype: int64"
   ]
  },
  {
   "cell_type": "markdown",
   "id": "491301cf",
   "metadata": {},
   "source": [
    "nombre_infected       926\n",
    "nombre_sain          2083\n",
    "nombre_exposed        473\n",
    "nombre_recovered    16518\n",
    "Name: 669, dtype: int64"
   ]
  },
  {
   "cell_type": "markdown",
   "id": "3bc54fac",
   "metadata": {},
   "source": [
    "nombre_infected       919\n",
    "nombre_sain          2102\n",
    "nombre_exposed        479\n",
    "nombre_recovered    16500\n",
    "Name: 670, dtype: int64"
   ]
  },
  {
   "cell_type": "markdown",
   "id": "ee32f80b",
   "metadata": {},
   "source": [
    "nombre_infected       907\n",
    "nombre_sain          2103\n",
    "nombre_exposed        485\n",
    "nombre_recovered    16505\n",
    "Name: 671, dtype: int64"
   ]
  },
  {
   "cell_type": "markdown",
   "id": "27aabd95",
   "metadata": {},
   "source": [
    "nombre_infected       920\n",
    "nombre_sain          2121\n",
    "nombre_exposed        465\n",
    "nombre_recovered    16494\n",
    "Name: 672, dtype: int64"
   ]
  },
  {
   "cell_type": "markdown",
   "id": "1b511857",
   "metadata": {},
   "source": [
    "nombre_infected       888\n",
    "nombre_sain          2133\n",
    "nombre_exposed        469\n",
    "nombre_recovered    16510\n",
    "Name: 673, dtype: int64"
   ]
  },
  {
   "cell_type": "markdown",
   "id": "7eea0633",
   "metadata": {},
   "source": [
    "nombre_infected       901\n",
    "nombre_sain          2133\n",
    "nombre_exposed        455\n",
    "nombre_recovered    16511\n",
    "Name: 674, dtype: int64"
   ]
  },
  {
   "cell_type": "markdown",
   "id": "93fd3c1e",
   "metadata": {},
   "source": [
    "nombre_infected       899\n",
    "nombre_sain          2149\n",
    "nombre_exposed        448\n",
    "nombre_recovered    16504\n",
    "Name: 675, dtype: int64"
   ]
  },
  {
   "cell_type": "markdown",
   "id": "9d356952",
   "metadata": {},
   "source": [
    "nombre_infected       908\n",
    "nombre_sain          2157\n",
    "nombre_exposed        445\n",
    "nombre_recovered    16490\n",
    "Name: 676, dtype: int64"
   ]
  },
  {
   "cell_type": "markdown",
   "id": "5b271ed9",
   "metadata": {},
   "source": [
    "nombre_infected       892\n",
    "nombre_sain          2173\n",
    "nombre_exposed        456\n",
    "nombre_recovered    16479\n",
    "Name: 677, dtype: int64"
   ]
  },
  {
   "cell_type": "markdown",
   "id": "add9e1d7",
   "metadata": {},
   "source": [
    "nombre_infected       875\n",
    "nombre_sain          2141\n",
    "nombre_exposed        486\n",
    "nombre_recovered    16498\n",
    "Name: 678, dtype: int64"
   ]
  },
  {
   "cell_type": "markdown",
   "id": "bc2d24ba",
   "metadata": {},
   "source": [
    "nombre_infected       882\n",
    "nombre_sain          2158\n",
    "nombre_exposed        488\n",
    "nombre_recovered    16472\n",
    "Name: 679, dtype: int64"
   ]
  },
  {
   "cell_type": "markdown",
   "id": "e92789c8",
   "metadata": {},
   "source": [
    "nombre_infected       900\n",
    "nombre_sain          2159\n",
    "nombre_exposed        482\n",
    "nombre_recovered    16459\n",
    "Name: 680, dtype: int64"
   ]
  },
  {
   "cell_type": "markdown",
   "id": "900e529d",
   "metadata": {},
   "source": [
    "nombre_infected       899\n",
    "nombre_sain          2153\n",
    "nombre_exposed        481\n",
    "nombre_recovered    16467\n",
    "Name: 681, dtype: int64"
   ]
  },
  {
   "cell_type": "markdown",
   "id": "aee23806",
   "metadata": {},
   "source": [
    "nombre_infected       928\n",
    "nombre_sain          2156\n",
    "nombre_exposed        464\n",
    "nombre_recovered    16452\n",
    "Name: 682, dtype: int64"
   ]
  },
  {
   "cell_type": "markdown",
   "id": "aac7e5ce",
   "metadata": {},
   "source": [
    "nombre_infected       929\n",
    "nombre_sain          2153\n",
    "nombre_exposed        464\n",
    "nombre_recovered    16454\n",
    "Name: 683, dtype: int64"
   ]
  },
  {
   "cell_type": "markdown",
   "id": "b9a81101",
   "metadata": {},
   "source": [
    "nombre_infected       936\n",
    "nombre_sain          2109\n",
    "nombre_exposed        489\n",
    "nombre_recovered    16466\n",
    "Name: 684, dtype: int64"
   ]
  },
  {
   "cell_type": "markdown",
   "id": "88714cdd",
   "metadata": {},
   "source": [
    "nombre_infected       938\n",
    "nombre_sain          2120\n",
    "nombre_exposed        502\n",
    "nombre_recovered    16440\n",
    "Name: 685, dtype: int64"
   ]
  },
  {
   "cell_type": "markdown",
   "id": "0407ba00",
   "metadata": {},
   "source": [
    "nombre_infected       944\n",
    "nombre_sain          2136\n",
    "nombre_exposed        482\n",
    "nombre_recovered    16438\n",
    "Name: 686, dtype: int64"
   ]
  },
  {
   "cell_type": "markdown",
   "id": "5b27a4b5",
   "metadata": {},
   "source": [
    "nombre_infected       954\n",
    "nombre_sain          2131\n",
    "nombre_exposed        492\n",
    "nombre_recovered    16423\n",
    "Name: 687, dtype: int64"
   ]
  },
  {
   "cell_type": "markdown",
   "id": "e46fddd5",
   "metadata": {},
   "source": [
    "nombre_infected       947\n",
    "nombre_sain          2133\n",
    "nombre_exposed        507\n",
    "nombre_recovered    16413\n",
    "Name: 688, dtype: int64"
   ]
  },
  {
   "cell_type": "markdown",
   "id": "0e5f104f",
   "metadata": {},
   "source": [
    "nombre_infected       943\n",
    "nombre_sain          2125\n",
    "nombre_exposed        500\n",
    "nombre_recovered    16432\n",
    "Name: 689, dtype: int64"
   ]
  },
  {
   "cell_type": "markdown",
   "id": "c8a59a53",
   "metadata": {},
   "source": [
    "nombre_infected       951\n",
    "nombre_sain          2147\n",
    "nombre_exposed        481\n",
    "nombre_recovered    16421\n",
    "Name: 690, dtype: int64"
   ]
  },
  {
   "cell_type": "markdown",
   "id": "c94629c8",
   "metadata": {},
   "source": [
    "nombre_infected       930\n",
    "nombre_sain          2163\n",
    "nombre_exposed        505\n",
    "nombre_recovered    16402\n",
    "Name: 691, dtype: int64"
   ]
  },
  {
   "cell_type": "markdown",
   "id": "ece13440",
   "metadata": {},
   "source": [
    "nombre_infected       924\n",
    "nombre_sain          2160\n",
    "nombre_exposed        506\n",
    "nombre_recovered    16410\n",
    "Name: 692, dtype: int64"
   ]
  },
  {
   "cell_type": "markdown",
   "id": "20ef06e6",
   "metadata": {},
   "source": [
    "nombre_infected       918\n",
    "nombre_sain          2164\n",
    "nombre_exposed        498\n",
    "nombre_recovered    16420\n",
    "Name: 693, dtype: int64"
   ]
  },
  {
   "cell_type": "markdown",
   "id": "590d80fb",
   "metadata": {},
   "source": [
    "nombre_infected       923\n",
    "nombre_sain          2180\n",
    "nombre_exposed        488\n",
    "nombre_recovered    16409\n",
    "Name: 694, dtype: int64"
   ]
  },
  {
   "cell_type": "markdown",
   "id": "015ea82c",
   "metadata": {},
   "source": [
    "nombre_infected       935\n",
    "nombre_sain          2194\n",
    "nombre_exposed        469\n",
    "nombre_recovered    16402\n",
    "Name: 695, dtype: int64"
   ]
  },
  {
   "cell_type": "markdown",
   "id": "5c945187",
   "metadata": {},
   "source": [
    "nombre_infected       919\n",
    "nombre_sain          2222\n",
    "nombre_exposed        485\n",
    "nombre_recovered    16374\n",
    "Name: 696, dtype: int64"
   ]
  },
  {
   "cell_type": "markdown",
   "id": "235b8676",
   "metadata": {},
   "source": [
    "nombre_infected       900\n",
    "nombre_sain          2195\n",
    "nombre_exposed        527\n",
    "nombre_recovered    16378\n",
    "Name: 697, dtype: int64"
   ]
  },
  {
   "cell_type": "markdown",
   "id": "3505bcc9",
   "metadata": {},
   "source": [
    "nombre_infected       919\n",
    "nombre_sain          2198\n",
    "nombre_exposed        518\n",
    "nombre_recovered    16365\n",
    "Name: 698, dtype: int64"
   ]
  },
  {
   "cell_type": "markdown",
   "id": "e51f32ce",
   "metadata": {},
   "source": [
    "nombre_infected       924\n",
    "nombre_sain          2220\n",
    "nombre_exposed        502\n",
    "nombre_recovered    16354\n",
    "Name: 699, dtype: int64"
   ]
  },
  {
   "cell_type": "markdown",
   "id": "174e8e59",
   "metadata": {},
   "source": [
    "nombre_infected       947\n",
    "nombre_sain          2233\n",
    "nombre_exposed        496\n",
    "nombre_recovered    16324\n",
    "Name: 700, dtype: int64"
   ]
  },
  {
   "cell_type": "markdown",
   "id": "5825ac55",
   "metadata": {},
   "source": [
    "nombre_infected       937\n",
    "nombre_sain          2233\n",
    "nombre_exposed        507\n",
    "nombre_recovered    16323\n",
    "Name: 701, dtype: int64"
   ]
  },
  {
   "cell_type": "markdown",
   "id": "03660234",
   "metadata": {},
   "source": [
    "nombre_infected       901\n",
    "nombre_sain          2247\n",
    "nombre_exposed        529\n",
    "nombre_recovered    16323\n",
    "Name: 702, dtype: int64"
   ]
  },
  {
   "cell_type": "markdown",
   "id": "e5b018df",
   "metadata": {},
   "source": [
    "nombre_infected       921\n",
    "nombre_sain          2284\n",
    "nombre_exposed        503\n",
    "nombre_recovered    16292\n",
    "Name: 703, dtype: int64"
   ]
  },
  {
   "cell_type": "markdown",
   "id": "e908c815",
   "metadata": {},
   "source": [
    "nombre_infected       922\n",
    "nombre_sain          2262\n",
    "nombre_exposed        532\n",
    "nombre_recovered    16284\n",
    "Name: 704, dtype: int64"
   ]
  },
  {
   "cell_type": "markdown",
   "id": "3766abd4",
   "metadata": {},
   "source": [
    "nombre_infected       937\n",
    "nombre_sain          2264\n",
    "nombre_exposed        542\n",
    "nombre_recovered    16257\n",
    "Name: 705, dtype: int64"
   ]
  },
  {
   "cell_type": "markdown",
   "id": "a8971aee",
   "metadata": {},
   "source": [
    "nombre_infected       930\n",
    "nombre_sain          2255\n",
    "nombre_exposed        543\n",
    "nombre_recovered    16272\n",
    "Name: 706, dtype: int64"
   ]
  },
  {
   "cell_type": "markdown",
   "id": "f6327bbc",
   "metadata": {},
   "source": [
    "nombre_infected       925\n",
    "nombre_sain          2238\n",
    "nombre_exposed        555\n",
    "nombre_recovered    16282\n",
    "Name: 707, dtype: int64"
   ]
  },
  {
   "cell_type": "markdown",
   "id": "040afece",
   "metadata": {},
   "source": [
    "nombre_infected       913\n",
    "nombre_sain          2223\n",
    "nombre_exposed        563\n",
    "nombre_recovered    16301\n",
    "Name: 708, dtype: int64"
   ]
  },
  {
   "cell_type": "markdown",
   "id": "11352bdc",
   "metadata": {},
   "source": [
    "nombre_infected       915\n",
    "nombre_sain          2218\n",
    "nombre_exposed        551\n",
    "nombre_recovered    16316\n",
    "Name: 709, dtype: int64"
   ]
  },
  {
   "cell_type": "markdown",
   "id": "ea592ab8",
   "metadata": {},
   "source": [
    "nombre_infected       922\n",
    "nombre_sain          2224\n",
    "nombre_exposed        528\n",
    "nombre_recovered    16326\n",
    "Name: 710, dtype: int64"
   ]
  },
  {
   "cell_type": "markdown",
   "id": "15e0323a",
   "metadata": {},
   "source": [
    "nombre_infected       924\n",
    "nombre_sain          2200\n",
    "nombre_exposed        531\n",
    "nombre_recovered    16345\n",
    "Name: 711, dtype: int64"
   ]
  },
  {
   "cell_type": "markdown",
   "id": "195d6a2b",
   "metadata": {},
   "source": [
    "nombre_infected       921\n",
    "nombre_sain          2173\n",
    "nombre_exposed        545\n",
    "nombre_recovered    16361\n",
    "Name: 712, dtype: int64"
   ]
  },
  {
   "cell_type": "markdown",
   "id": "52f4b966",
   "metadata": {},
   "source": [
    "nombre_infected       944\n",
    "nombre_sain          2163\n",
    "nombre_exposed        531\n",
    "nombre_recovered    16362\n",
    "Name: 713, dtype: int64"
   ]
  },
  {
   "cell_type": "markdown",
   "id": "918a98ea",
   "metadata": {},
   "source": [
    "nombre_infected       950\n",
    "nombre_sain          2153\n",
    "nombre_exposed        538\n",
    "nombre_recovered    16359\n",
    "Name: 714, dtype: int64"
   ]
  },
  {
   "cell_type": "markdown",
   "id": "d4248ec2",
   "metadata": {},
   "source": [
    "nombre_infected       970\n",
    "nombre_sain          2116\n",
    "nombre_exposed        545\n",
    "nombre_recovered    16369\n",
    "Name: 715, dtype: int64"
   ]
  },
  {
   "cell_type": "markdown",
   "id": "9de4388e",
   "metadata": {},
   "source": [
    "nombre_infected       979\n",
    "nombre_sain          2101\n",
    "nombre_exposed        554\n",
    "nombre_recovered    16366\n",
    "Name: 716, dtype: int64"
   ]
  },
  {
   "cell_type": "markdown",
   "id": "cf716de5",
   "metadata": {},
   "source": [
    "nombre_infected       990\n",
    "nombre_sain          2081\n",
    "nombre_exposed        550\n",
    "nombre_recovered    16379\n",
    "Name: 717, dtype: int64"
   ]
  },
  {
   "cell_type": "markdown",
   "id": "ce947073",
   "metadata": {},
   "source": [
    "nombre_infected       972\n",
    "nombre_sain          2066\n",
    "nombre_exposed        550\n",
    "nombre_recovered    16412\n",
    "Name: 718, dtype: int64"
   ]
  },
  {
   "cell_type": "markdown",
   "id": "2de4ecf5",
   "metadata": {},
   "source": [
    "nombre_infected       964\n",
    "nombre_sain          2045\n",
    "nombre_exposed        538\n",
    "nombre_recovered    16453\n",
    "Name: 719, dtype: int64"
   ]
  },
  {
   "cell_type": "markdown",
   "id": "3124119b",
   "metadata": {},
   "source": [
    "nombre_infected       951\n",
    "nombre_sain          2037\n",
    "nombre_exposed        526\n",
    "nombre_recovered    16486\n",
    "Name: 720, dtype: int64"
   ]
  },
  {
   "cell_type": "markdown",
   "id": "111c0494",
   "metadata": {},
   "source": [
    "nombre_infected       955\n",
    "nombre_sain          2012\n",
    "nombre_exposed        530\n",
    "nombre_recovered    16503\n",
    "Name: 721, dtype: int64"
   ]
  },
  {
   "cell_type": "markdown",
   "id": "1a80760a",
   "metadata": {},
   "source": [
    "nombre_infected       936\n",
    "nombre_sain          2028\n",
    "nombre_exposed        517\n",
    "nombre_recovered    16519\n",
    "Name: 722, dtype: int64"
   ]
  },
  {
   "cell_type": "markdown",
   "id": "4b793e00",
   "metadata": {},
   "source": [
    "nombre_infected       930\n",
    "nombre_sain          2029\n",
    "nombre_exposed        516\n",
    "nombre_recovered    16525\n",
    "Name: 723, dtype: int64"
   ]
  },
  {
   "cell_type": "markdown",
   "id": "5f4eab7b",
   "metadata": {},
   "source": [
    "nombre_infected       947\n",
    "nombre_sain          2007\n",
    "nombre_exposed        515\n",
    "nombre_recovered    16531\n",
    "Name: 724, dtype: int64"
   ]
  },
  {
   "cell_type": "markdown",
   "id": "9a3fdd9b",
   "metadata": {},
   "source": [
    "nombre_infected       959\n",
    "nombre_sain          2019\n",
    "nombre_exposed        484\n",
    "nombre_recovered    16538\n",
    "Name: 725, dtype: int64"
   ]
  },
  {
   "cell_type": "markdown",
   "id": "d509f8fc",
   "metadata": {},
   "source": [
    "nombre_infected       950\n",
    "nombre_sain          2029\n",
    "nombre_exposed        491\n",
    "nombre_recovered    16530\n",
    "Name: 726, dtype: int64"
   ]
  },
  {
   "cell_type": "markdown",
   "id": "357e61cc",
   "metadata": {},
   "source": [
    "nombre_infected       944\n",
    "nombre_sain          2016\n",
    "nombre_exposed        490\n",
    "nombre_recovered    16550\n",
    "Name: 727, dtype: int64"
   ]
  },
  {
   "cell_type": "markdown",
   "id": "10743599",
   "metadata": {},
   "source": [
    "nombre_infected       927\n",
    "nombre_sain          2026\n",
    "nombre_exposed        503\n",
    "nombre_recovered    16544\n",
    "Name: 728, dtype: int64"
   ]
  },
  {
   "cell_type": "markdown",
   "id": "930fa4b9",
   "metadata": {},
   "source": [
    "nombre_infected       920\n",
    "nombre_sain          2023\n",
    "nombre_exposed        511\n",
    "nombre_recovered    16546\n",
    "Name: 729, dtype: int64"
   ]
  },
  {
   "cell_type": "markdown",
   "id": "b3e79cfe",
   "metadata": {},
   "source": [
    "nombre_infected       889\n",
    "nombre_sain          2041\n",
    "nombre_exposed        492\n",
    "nombre_recovered    16578\n",
    "Name: 730, dtype: int64"
   ]
  }
 ],
 "metadata": {},
 "nbformat": 4,
 "nbformat_minor": 5
}
