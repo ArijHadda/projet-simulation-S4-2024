{
 "cells": [
  {
   "cell_type": "markdown",
   "id": "7737efbc",
   "metadata": {},
   "source": [
    "nombre_infected        20\n",
    "nombre_sain         19980\n",
    "nombre_exposed          0\n",
    "nombre_recovered        0\n",
    "Name: 0, dtype: int64"
   ]
  },
  {
   "cell_type": "markdown",
   "id": "4fb9864a",
   "metadata": {},
   "source": [
    "nombre_infected        20\n",
    "nombre_sain         19968\n",
    "nombre_exposed         12\n",
    "nombre_recovered        0\n",
    "Name: 1, dtype: int64"
   ]
  },
  {
   "cell_type": "markdown",
   "id": "50bac859",
   "metadata": {},
   "source": [
    "nombre_infected         0\n",
    "nombre_sain         19956\n",
    "nombre_exposed         24\n",
    "nombre_recovered       20\n",
    "Name: 2, dtype: int64"
   ]
  },
  {
   "cell_type": "markdown",
   "id": "b7177438",
   "metadata": {},
   "source": [
    "nombre_infected         3\n",
    "nombre_sain         19951\n",
    "nombre_exposed         26\n",
    "nombre_recovered       20\n",
    "Name: 3, dtype: int64"
   ]
  },
  {
   "cell_type": "markdown",
   "id": "2c3c4379",
   "metadata": {},
   "source": [
    "nombre_infected         8\n",
    "nombre_sain         19943\n",
    "nombre_exposed         29\n",
    "nombre_recovered       20\n",
    "Name: 4, dtype: int64"
   ]
  },
  {
   "cell_type": "markdown",
   "id": "f2d53fad",
   "metadata": {},
   "source": [
    "nombre_infected        11\n",
    "nombre_sain         19932\n",
    "nombre_exposed         36\n",
    "nombre_recovered       21\n",
    "Name: 5, dtype: int64"
   ]
  },
  {
   "cell_type": "markdown",
   "id": "0fe8929a",
   "metadata": {},
   "source": [
    "nombre_infected        18\n",
    "nombre_sain         19912\n",
    "nombre_exposed         48\n",
    "nombre_recovered       22\n",
    "Name: 6, dtype: int64"
   ]
  },
  {
   "cell_type": "markdown",
   "id": "546027af",
   "metadata": {},
   "source": [
    "nombre_infected        24\n",
    "nombre_sain         19895\n",
    "nombre_exposed         58\n",
    "nombre_recovered       23\n",
    "Name: 7, dtype: int64"
   ]
  },
  {
   "cell_type": "markdown",
   "id": "04fa1c46",
   "metadata": {},
   "source": [
    "nombre_infected        38\n",
    "nombre_sain         19871\n",
    "nombre_exposed         67\n",
    "nombre_recovered       24\n",
    "Name: 8, dtype: int64"
   ]
  },
  {
   "cell_type": "markdown",
   "id": "dd87fdbb",
   "metadata": {},
   "source": [
    "nombre_infected        46\n",
    "nombre_sain         19822\n",
    "nombre_exposed        104\n",
    "nombre_recovered       28\n",
    "Name: 9, dtype: int64"
   ]
  },
  {
   "cell_type": "markdown",
   "id": "d43cbfde",
   "metadata": {},
   "source": [
    "nombre_infected        60\n",
    "nombre_sain         19759\n",
    "nombre_exposed        149\n",
    "nombre_recovered       32\n",
    "Name: 10, dtype: int64"
   ]
  },
  {
   "cell_type": "markdown",
   "id": "21d8ceb2",
   "metadata": {},
   "source": [
    "nombre_infected        80\n",
    "nombre_sain         19690\n",
    "nombre_exposed        191\n",
    "nombre_recovered       39\n",
    "Name: 11, dtype: int64"
   ]
  },
  {
   "cell_type": "markdown",
   "id": "5a1cd314",
   "metadata": {},
   "source": [
    "nombre_infected       100\n",
    "nombre_sain         19593\n",
    "nombre_exposed        262\n",
    "nombre_recovered       45\n",
    "Name: 12, dtype: int64"
   ]
  },
  {
   "cell_type": "markdown",
   "id": "50a50776",
   "metadata": {},
   "source": [
    "nombre_infected       134\n",
    "nombre_sain         19423\n",
    "nombre_exposed        385\n",
    "nombre_recovered       58\n",
    "Name: 13, dtype: int64"
   ]
  },
  {
   "cell_type": "markdown",
   "id": "a51a4446",
   "metadata": {},
   "source": [
    "nombre_infected       179\n",
    "nombre_sain         19256\n",
    "nombre_exposed        495\n",
    "nombre_recovered       70\n",
    "Name: 14, dtype: int64"
   ]
  },
  {
   "cell_type": "markdown",
   "id": "3050aef9",
   "metadata": {},
   "source": [
    "nombre_infected       233\n",
    "nombre_sain         19019\n",
    "nombre_exposed        660\n",
    "nombre_recovered       88\n",
    "Name: 15, dtype: int64"
   ]
  },
  {
   "cell_type": "markdown",
   "id": "3edd0a48",
   "metadata": {},
   "source": [
    "nombre_infected       330\n",
    "nombre_sain         18690\n",
    "nombre_exposed        876\n",
    "nombre_recovered      104\n",
    "Name: 16, dtype: int64"
   ]
  },
  {
   "cell_type": "markdown",
   "id": "cf4c94f1",
   "metadata": {},
   "source": [
    "nombre_infected       438\n",
    "nombre_sain         18283\n",
    "nombre_exposed       1144\n",
    "nombre_recovered      135\n",
    "Name: 17, dtype: int64"
   ]
  },
  {
   "cell_type": "markdown",
   "id": "4ac1bcec",
   "metadata": {},
   "source": [
    "nombre_infected       586\n",
    "nombre_sain         17754\n",
    "nombre_exposed       1478\n",
    "nombre_recovered      182\n",
    "Name: 18, dtype: int64"
   ]
  },
  {
   "cell_type": "markdown",
   "id": "d2a7d174",
   "metadata": {},
   "source": [
    "nombre_infected       812\n",
    "nombre_sain         17054\n",
    "nombre_exposed       1903\n",
    "nombre_recovered      231\n",
    "Name: 19, dtype: int64"
   ]
  },
  {
   "cell_type": "markdown",
   "id": "70e117c9",
   "metadata": {},
   "source": [
    "nombre_infected      1076\n",
    "nombre_sain         16149\n",
    "nombre_exposed       2461\n",
    "nombre_recovered      314\n",
    "Name: 20, dtype: int64"
   ]
  },
  {
   "cell_type": "markdown",
   "id": "4ff8b053",
   "metadata": {},
   "source": [
    "nombre_infected      1420\n",
    "nombre_sain         15029\n",
    "nombre_exposed       3154\n",
    "nombre_recovered      397\n",
    "Name: 21, dtype: int64"
   ]
  },
  {
   "cell_type": "markdown",
   "id": "377eb9d8",
   "metadata": {},
   "source": [
    "nombre_infected      1843\n",
    "nombre_sain         13625\n",
    "nombre_exposed       4008\n",
    "nombre_recovered      524\n",
    "Name: 22, dtype: int64"
   ]
  },
  {
   "cell_type": "markdown",
   "id": "683c07c2",
   "metadata": {},
   "source": [
    "nombre_infected      2408\n",
    "nombre_sain         12052\n",
    "nombre_exposed       4860\n",
    "nombre_recovered      680\n",
    "Name: 23, dtype: int64"
   ]
  },
  {
   "cell_type": "markdown",
   "id": "921f2c3e",
   "metadata": {},
   "source": [
    "nombre_infected      3099\n",
    "nombre_sain         10337\n",
    "nombre_exposed       5668\n",
    "nombre_recovered      896\n",
    "Name: 24, dtype: int64"
   ]
  },
  {
   "cell_type": "markdown",
   "id": "0cfdcdd8",
   "metadata": {},
   "source": [
    "nombre_infected     3868\n",
    "nombre_sain         8546\n",
    "nombre_exposed      6395\n",
    "nombre_recovered    1191\n",
    "Name: 25, dtype: int64"
   ]
  },
  {
   "cell_type": "markdown",
   "id": "b2c67a0b",
   "metadata": {},
   "source": [
    "nombre_infected     4806\n",
    "nombre_sain         6783\n",
    "nombre_exposed      6842\n",
    "nombre_recovered    1569\n",
    "Name: 26, dtype: int64"
   ]
  },
  {
   "cell_type": "markdown",
   "id": "c48bf51c",
   "metadata": {},
   "source": [
    "nombre_infected     5757\n",
    "nombre_sain         5191\n",
    "nombre_exposed      7001\n",
    "nombre_recovered    2051\n",
    "Name: 27, dtype: int64"
   ]
  },
  {
   "cell_type": "markdown",
   "id": "9adebedb",
   "metadata": {},
   "source": [
    "nombre_infected     6720\n",
    "nombre_sain         3803\n",
    "nombre_exposed      6838\n",
    "nombre_recovered    2639\n",
    "Name: 28, dtype: int64"
   ]
  },
  {
   "cell_type": "markdown",
   "id": "17fc77b5",
   "metadata": {},
   "source": [
    "nombre_infected     7558\n",
    "nombre_sain         2714\n",
    "nombre_exposed      6387\n",
    "nombre_recovered    3341\n",
    "Name: 29, dtype: int64"
   ]
  },
  {
   "cell_type": "markdown",
   "id": "962a5095",
   "metadata": {},
   "source": [
    "nombre_infected     8238\n",
    "nombre_sain         1866\n",
    "nombre_exposed      5776\n",
    "nombre_recovered    4120\n",
    "Name: 30, dtype: int64"
   ]
  },
  {
   "cell_type": "markdown",
   "id": "99cb4eff",
   "metadata": {},
   "source": [
    "nombre_infected     8703\n",
    "nombre_sain         1291\n",
    "nombre_exposed      4953\n",
    "nombre_recovered    5053\n",
    "Name: 31, dtype: int64"
   ]
  },
  {
   "cell_type": "markdown",
   "id": "2662373e",
   "metadata": {},
   "source": [
    "nombre_infected     8998\n",
    "nombre_sain          853\n",
    "nombre_exposed      4119\n",
    "nombre_recovered    6030\n",
    "Name: 32, dtype: int64"
   ]
  },
  {
   "cell_type": "markdown",
   "id": "326fe7ae",
   "metadata": {},
   "source": [
    "nombre_infected     8963\n",
    "nombre_sain          572\n",
    "nombre_exposed      3305\n",
    "nombre_recovered    7160\n",
    "Name: 33, dtype: int64"
   ]
  },
  {
   "cell_type": "markdown",
   "id": "a4cf33c0",
   "metadata": {},
   "source": [
    "nombre_infected     8755\n",
    "nombre_sain          372\n",
    "nombre_exposed      2611\n",
    "nombre_recovered    8262\n",
    "Name: 34, dtype: int64"
   ]
  },
  {
   "cell_type": "markdown",
   "id": "cd2621a1",
   "metadata": {},
   "source": [
    "nombre_infected     8384\n",
    "nombre_sain          254\n",
    "nombre_exposed      2044\n",
    "nombre_recovered    9318\n",
    "Name: 35, dtype: int64"
   ]
  },
  {
   "cell_type": "markdown",
   "id": "333c913a",
   "metadata": {},
   "source": [
    "nombre_infected      7944\n",
    "nombre_sain           176\n",
    "nombre_exposed       1517\n",
    "nombre_recovered    10363\n",
    "Name: 36, dtype: int64"
   ]
  },
  {
   "cell_type": "markdown",
   "id": "15a232ad",
   "metadata": {},
   "source": [
    "nombre_infected      7437\n",
    "nombre_sain           153\n",
    "nombre_exposed       1133\n",
    "nombre_recovered    11277\n",
    "Name: 37, dtype: int64"
   ]
  },
  {
   "cell_type": "markdown",
   "id": "c4bafb2f",
   "metadata": {},
   "source": [
    "nombre_infected      6871\n",
    "nombre_sain           120\n",
    "nombre_exposed        846\n",
    "nombre_recovered    12163\n",
    "Name: 38, dtype: int64"
   ]
  },
  {
   "cell_type": "markdown",
   "id": "c4ec2559",
   "metadata": {},
   "source": [
    "nombre_infected      6322\n",
    "nombre_sain            99\n",
    "nombre_exposed        629\n",
    "nombre_recovered    12950\n",
    "Name: 39, dtype: int64"
   ]
  },
  {
   "cell_type": "markdown",
   "id": "4ed5df26",
   "metadata": {},
   "source": [
    "nombre_infected      5701\n",
    "nombre_sain            84\n",
    "nombre_exposed        479\n",
    "nombre_recovered    13736\n",
    "Name: 40, dtype: int64"
   ]
  },
  {
   "cell_type": "markdown",
   "id": "c418af1c",
   "metadata": {},
   "source": [
    "nombre_infected      5135\n",
    "nombre_sain            62\n",
    "nombre_exposed        380\n",
    "nombre_recovered    14423\n",
    "Name: 41, dtype: int64"
   ]
  },
  {
   "cell_type": "markdown",
   "id": "362dd3a1",
   "metadata": {},
   "source": [
    "nombre_infected      4637\n",
    "nombre_sain            70\n",
    "nombre_exposed        289\n",
    "nombre_recovered    15004\n",
    "Name: 42, dtype: int64"
   ]
  },
  {
   "cell_type": "markdown",
   "id": "0fb0316a",
   "metadata": {},
   "source": [
    "nombre_infected      4155\n",
    "nombre_sain            79\n",
    "nombre_exposed        224\n",
    "nombre_recovered    15542\n",
    "Name: 43, dtype: int64"
   ]
  },
  {
   "cell_type": "markdown",
   "id": "e3836459",
   "metadata": {},
   "source": [
    "nombre_infected      3718\n",
    "nombre_sain            86\n",
    "nombre_exposed        176\n",
    "nombre_recovered    16020\n",
    "Name: 44, dtype: int64"
   ]
  },
  {
   "cell_type": "markdown",
   "id": "3d6dc765",
   "metadata": {},
   "source": [
    "nombre_infected      3281\n",
    "nombre_sain           101\n",
    "nombre_exposed        127\n",
    "nombre_recovered    16491\n",
    "Name: 45, dtype: int64"
   ]
  },
  {
   "cell_type": "markdown",
   "id": "43b55f3a",
   "metadata": {},
   "source": [
    "nombre_infected      2918\n",
    "nombre_sain           115\n",
    "nombre_exposed        116\n",
    "nombre_recovered    16851\n",
    "Name: 46, dtype: int64"
   ]
  },
  {
   "cell_type": "markdown",
   "id": "e93b2f7d",
   "metadata": {},
   "source": [
    "nombre_infected      2570\n",
    "nombre_sain           131\n",
    "nombre_exposed        100\n",
    "nombre_recovered    17199\n",
    "Name: 47, dtype: int64"
   ]
  },
  {
   "cell_type": "markdown",
   "id": "95d8023b",
   "metadata": {},
   "source": [
    "nombre_infected      2260\n",
    "nombre_sain           149\n",
    "nombre_exposed         85\n",
    "nombre_recovered    17506\n",
    "Name: 48, dtype: int64"
   ]
  },
  {
   "cell_type": "markdown",
   "id": "eaa7a133",
   "metadata": {},
   "source": [
    "nombre_infected      1997\n",
    "nombre_sain           169\n",
    "nombre_exposed         83\n",
    "nombre_recovered    17751\n",
    "Name: 49, dtype: int64"
   ]
  },
  {
   "cell_type": "markdown",
   "id": "ef93a155",
   "metadata": {},
   "source": [
    "nombre_infected      1746\n",
    "nombre_sain           181\n",
    "nombre_exposed         70\n",
    "nombre_recovered    18003\n",
    "Name: 50, dtype: int64"
   ]
  },
  {
   "cell_type": "markdown",
   "id": "4102f3b2",
   "metadata": {},
   "source": [
    "nombre_infected      1525\n",
    "nombre_sain           207\n",
    "nombre_exposed         64\n",
    "nombre_recovered    18204\n",
    "Name: 51, dtype: int64"
   ]
  },
  {
   "cell_type": "markdown",
   "id": "bae19966",
   "metadata": {},
   "source": [
    "nombre_infected      1370\n",
    "nombre_sain           233\n",
    "nombre_exposed         58\n",
    "nombre_recovered    18339\n",
    "Name: 52, dtype: int64"
   ]
  },
  {
   "cell_type": "markdown",
   "id": "471df8f2",
   "metadata": {},
   "source": [
    "nombre_infected      1217\n",
    "nombre_sain           262\n",
    "nombre_exposed         59\n",
    "nombre_recovered    18462\n",
    "Name: 53, dtype: int64"
   ]
  },
  {
   "cell_type": "markdown",
   "id": "b7cecd2b",
   "metadata": {},
   "source": [
    "nombre_infected      1066\n",
    "nombre_sain           301\n",
    "nombre_exposed         69\n",
    "nombre_recovered    18564\n",
    "Name: 54, dtype: int64"
   ]
  },
  {
   "cell_type": "markdown",
   "id": "f2853578",
   "metadata": {},
   "source": [
    "nombre_infected       951\n",
    "nombre_sain           345\n",
    "nombre_exposed         69\n",
    "nombre_recovered    18635\n",
    "Name: 55, dtype: int64"
   ]
  },
  {
   "cell_type": "markdown",
   "id": "1fea8774",
   "metadata": {},
   "source": [
    "nombre_infected       842\n",
    "nombre_sain           387\n",
    "nombre_exposed         65\n",
    "nombre_recovered    18706\n",
    "Name: 56, dtype: int64"
   ]
  },
  {
   "cell_type": "markdown",
   "id": "7b7b3751",
   "metadata": {},
   "source": [
    "nombre_infected       747\n",
    "nombre_sain           422\n",
    "nombre_exposed         64\n",
    "nombre_recovered    18767\n",
    "Name: 57, dtype: int64"
   ]
  },
  {
   "cell_type": "markdown",
   "id": "8022aa5c",
   "metadata": {},
   "source": [
    "nombre_infected       671\n",
    "nombre_sain           468\n",
    "nombre_exposed         58\n",
    "nombre_recovered    18803\n",
    "Name: 58, dtype: int64"
   ]
  },
  {
   "cell_type": "markdown",
   "id": "ce58c0d6",
   "metadata": {},
   "source": [
    "nombre_infected       594\n",
    "nombre_sain           494\n",
    "nombre_exposed         63\n",
    "nombre_recovered    18849\n",
    "Name: 59, dtype: int64"
   ]
  },
  {
   "cell_type": "markdown",
   "id": "375e7b72",
   "metadata": {},
   "source": [
    "nombre_infected       540\n",
    "nombre_sain           526\n",
    "nombre_exposed         65\n",
    "nombre_recovered    18869\n",
    "Name: 60, dtype: int64"
   ]
  },
  {
   "cell_type": "markdown",
   "id": "2540620b",
   "metadata": {},
   "source": [
    "nombre_infected       487\n",
    "nombre_sain           553\n",
    "nombre_exposed         67\n",
    "nombre_recovered    18893\n",
    "Name: 61, dtype: int64"
   ]
  },
  {
   "cell_type": "markdown",
   "id": "325a03dd",
   "metadata": {},
   "source": [
    "nombre_infected       448\n",
    "nombre_sain           585\n",
    "nombre_exposed         58\n",
    "nombre_recovered    18909\n",
    "Name: 62, dtype: int64"
   ]
  },
  {
   "cell_type": "markdown",
   "id": "b0762430",
   "metadata": {},
   "source": [
    "nombre_infected       410\n",
    "nombre_sain           622\n",
    "nombre_exposed         57\n",
    "nombre_recovered    18911\n",
    "Name: 63, dtype: int64"
   ]
  },
  {
   "cell_type": "markdown",
   "id": "033e22db",
   "metadata": {},
   "source": [
    "nombre_infected       383\n",
    "nombre_sain           648\n",
    "nombre_exposed         64\n",
    "nombre_recovered    18905\n",
    "Name: 64, dtype: int64"
   ]
  },
  {
   "cell_type": "markdown",
   "id": "613b8782",
   "metadata": {},
   "source": [
    "nombre_infected       331\n",
    "nombre_sain           681\n",
    "nombre_exposed         68\n",
    "nombre_recovered    18920\n",
    "Name: 65, dtype: int64"
   ]
  },
  {
   "cell_type": "markdown",
   "id": "50cdb6ff",
   "metadata": {},
   "source": [
    "nombre_infected       331\n",
    "nombre_sain           724\n",
    "nombre_exposed         58\n",
    "nombre_recovered    18887\n",
    "Name: 66, dtype: int64"
   ]
  },
  {
   "cell_type": "markdown",
   "id": "b6f8ef54",
   "metadata": {},
   "source": [
    "nombre_infected       308\n",
    "nombre_sain           759\n",
    "nombre_exposed         61\n",
    "nombre_recovered    18872\n",
    "Name: 67, dtype: int64"
   ]
  },
  {
   "cell_type": "markdown",
   "id": "155eb1c9",
   "metadata": {},
   "source": [
    "nombre_infected       309\n",
    "nombre_sain           790\n",
    "nombre_exposed         54\n",
    "nombre_recovered    18847\n",
    "Name: 68, dtype: int64"
   ]
  },
  {
   "cell_type": "markdown",
   "id": "a3ca272a",
   "metadata": {},
   "source": [
    "nombre_infected       287\n",
    "nombre_sain           828\n",
    "nombre_exposed         62\n",
    "nombre_recovered    18823\n",
    "Name: 69, dtype: int64"
   ]
  },
  {
   "cell_type": "markdown",
   "id": "390da41a",
   "metadata": {},
   "source": [
    "nombre_infected       282\n",
    "nombre_sain           868\n",
    "nombre_exposed         69\n",
    "nombre_recovered    18781\n",
    "Name: 70, dtype: int64"
   ]
  },
  {
   "cell_type": "markdown",
   "id": "bd53ab59",
   "metadata": {},
   "source": [
    "nombre_infected       272\n",
    "nombre_sain           903\n",
    "nombre_exposed         64\n",
    "nombre_recovered    18761\n",
    "Name: 71, dtype: int64"
   ]
  },
  {
   "cell_type": "markdown",
   "id": "fbd55c84",
   "metadata": {},
   "source": [
    "nombre_infected       268\n",
    "nombre_sain           925\n",
    "nombre_exposed         62\n",
    "nombre_recovered    18745\n",
    "Name: 72, dtype: int64"
   ]
  },
  {
   "cell_type": "markdown",
   "id": "bd8836df",
   "metadata": {},
   "source": [
    "nombre_infected       252\n",
    "nombre_sain           975\n",
    "nombre_exposed         63\n",
    "nombre_recovered    18710\n",
    "Name: 73, dtype: int64"
   ]
  },
  {
   "cell_type": "markdown",
   "id": "301fefa2",
   "metadata": {},
   "source": [
    "nombre_infected       243\n",
    "nombre_sain          1033\n",
    "nombre_exposed         66\n",
    "nombre_recovered    18658\n",
    "Name: 74, dtype: int64"
   ]
  },
  {
   "cell_type": "markdown",
   "id": "e1dce3f8",
   "metadata": {},
   "source": [
    "nombre_infected       240\n",
    "nombre_sain          1084\n",
    "nombre_exposed         62\n",
    "nombre_recovered    18614\n",
    "Name: 75, dtype: int64"
   ]
  },
  {
   "cell_type": "markdown",
   "id": "12c42065",
   "metadata": {},
   "source": [
    "nombre_infected       233\n",
    "nombre_sain          1152\n",
    "nombre_exposed         55\n",
    "nombre_recovered    18560\n",
    "Name: 76, dtype: int64"
   ]
  },
  {
   "cell_type": "markdown",
   "id": "8ad0fdcc",
   "metadata": {},
   "source": [
    "nombre_infected       230\n",
    "nombre_sain          1203\n",
    "nombre_exposed         51\n",
    "nombre_recovered    18516\n",
    "Name: 77, dtype: int64"
   ]
  },
  {
   "cell_type": "markdown",
   "id": "33cbd876",
   "metadata": {},
   "source": [
    "nombre_infected       216\n",
    "nombre_sain          1262\n",
    "nombre_exposed         59\n",
    "nombre_recovered    18463\n",
    "Name: 78, dtype: int64"
   ]
  },
  {
   "cell_type": "markdown",
   "id": "f28648e4",
   "metadata": {},
   "source": [
    "nombre_infected       206\n",
    "nombre_sain          1312\n",
    "nombre_exposed         67\n",
    "nombre_recovered    18415\n",
    "Name: 79, dtype: int64"
   ]
  },
  {
   "cell_type": "markdown",
   "id": "95c876d5",
   "metadata": {},
   "source": [
    "nombre_infected       192\n",
    "nombre_sain          1368\n",
    "nombre_exposed         75\n",
    "nombre_recovered    18365\n",
    "Name: 80, dtype: int64"
   ]
  },
  {
   "cell_type": "markdown",
   "id": "fe7c670e",
   "metadata": {},
   "source": [
    "nombre_infected       170\n",
    "nombre_sain          1443\n",
    "nombre_exposed         81\n",
    "nombre_recovered    18306\n",
    "Name: 81, dtype: int64"
   ]
  },
  {
   "cell_type": "markdown",
   "id": "be4f2c38",
   "metadata": {},
   "source": [
    "nombre_infected       158\n",
    "nombre_sain          1482\n",
    "nombre_exposed         73\n",
    "nombre_recovered    18287\n",
    "Name: 82, dtype: int64"
   ]
  },
  {
   "cell_type": "markdown",
   "id": "3cd0e3bb",
   "metadata": {},
   "source": [
    "nombre_infected       155\n",
    "nombre_sain          1525\n",
    "nombre_exposed         73\n",
    "nombre_recovered    18247\n",
    "Name: 83, dtype: int64"
   ]
  },
  {
   "cell_type": "markdown",
   "id": "5aa3ed06",
   "metadata": {},
   "source": [
    "nombre_infected       141\n",
    "nombre_sain          1586\n",
    "nombre_exposed         69\n",
    "nombre_recovered    18204\n",
    "Name: 84, dtype: int64"
   ]
  },
  {
   "cell_type": "markdown",
   "id": "584da975",
   "metadata": {},
   "source": [
    "nombre_infected       126\n",
    "nombre_sain          1631\n",
    "nombre_exposed         69\n",
    "nombre_recovered    18174\n",
    "Name: 85, dtype: int64"
   ]
  },
  {
   "cell_type": "markdown",
   "id": "11eeef6e",
   "metadata": {},
   "source": [
    "nombre_infected       125\n",
    "nombre_sain          1691\n",
    "nombre_exposed         60\n",
    "nombre_recovered    18124\n",
    "Name: 86, dtype: int64"
   ]
  },
  {
   "cell_type": "markdown",
   "id": "54729e2e",
   "metadata": {},
   "source": [
    "nombre_infected       112\n",
    "nombre_sain          1744\n",
    "nombre_exposed         57\n",
    "nombre_recovered    18087\n",
    "Name: 87, dtype: int64"
   ]
  },
  {
   "cell_type": "markdown",
   "id": "3aad5e0d",
   "metadata": {},
   "source": [
    "nombre_infected       108\n",
    "nombre_sain          1782\n",
    "nombre_exposed         55\n",
    "nombre_recovered    18055\n",
    "Name: 88, dtype: int64"
   ]
  },
  {
   "cell_type": "markdown",
   "id": "8576b706",
   "metadata": {},
   "source": [
    "nombre_infected       106\n",
    "nombre_sain          1828\n",
    "nombre_exposed         54\n",
    "nombre_recovered    18012\n",
    "Name: 89, dtype: int64"
   ]
  },
  {
   "cell_type": "markdown",
   "id": "3eebf23c",
   "metadata": {},
   "source": [
    "nombre_infected        95\n",
    "nombre_sain          1870\n",
    "nombre_exposed         56\n",
    "nombre_recovered    17979\n",
    "Name: 90, dtype: int64"
   ]
  },
  {
   "cell_type": "markdown",
   "id": "9c053f0e",
   "metadata": {},
   "source": [
    "nombre_infected        82\n",
    "nombre_sain          1910\n",
    "nombre_exposed         70\n",
    "nombre_recovered    17938\n",
    "Name: 91, dtype: int64"
   ]
  },
  {
   "cell_type": "markdown",
   "id": "876356dc",
   "metadata": {},
   "source": [
    "nombre_infected        73\n",
    "nombre_sain          1962\n",
    "nombre_exposed         71\n",
    "nombre_recovered    17894\n",
    "Name: 92, dtype: int64"
   ]
  },
  {
   "cell_type": "markdown",
   "id": "563e97d5",
   "metadata": {},
   "source": [
    "nombre_infected        77\n",
    "nombre_sain          2013\n",
    "nombre_exposed         64\n",
    "nombre_recovered    17846\n",
    "Name: 93, dtype: int64"
   ]
  },
  {
   "cell_type": "markdown",
   "id": "2acf6b77",
   "metadata": {},
   "source": [
    "nombre_infected        74\n",
    "nombre_sain          2065\n",
    "nombre_exposed         60\n",
    "nombre_recovered    17801\n",
    "Name: 94, dtype: int64"
   ]
  },
  {
   "cell_type": "markdown",
   "id": "ab57ff3b",
   "metadata": {},
   "source": [
    "nombre_infected        74\n",
    "nombre_sain          2117\n",
    "nombre_exposed         56\n",
    "nombre_recovered    17753\n",
    "Name: 95, dtype: int64"
   ]
  },
  {
   "cell_type": "markdown",
   "id": "02b344be",
   "metadata": {},
   "source": [
    "nombre_infected        77\n",
    "nombre_sain          2168\n",
    "nombre_exposed         57\n",
    "nombre_recovered    17698\n",
    "Name: 96, dtype: int64"
   ]
  },
  {
   "cell_type": "markdown",
   "id": "779e6bfa",
   "metadata": {},
   "source": [
    "nombre_infected        76\n",
    "nombre_sain          2230\n",
    "nombre_exposed         60\n",
    "nombre_recovered    17634\n",
    "Name: 97, dtype: int64"
   ]
  },
  {
   "cell_type": "markdown",
   "id": "ca177335",
   "metadata": {},
   "source": [
    "nombre_infected        68\n",
    "nombre_sain          2287\n",
    "nombre_exposed         62\n",
    "nombre_recovered    17583\n",
    "Name: 98, dtype: int64"
   ]
  },
  {
   "cell_type": "markdown",
   "id": "b9c3fd3b",
   "metadata": {},
   "source": [
    "nombre_infected        75\n",
    "nombre_sain          2345\n",
    "nombre_exposed         54\n",
    "nombre_recovered    17526\n",
    "Name: 99, dtype: int64"
   ]
  },
  {
   "cell_type": "markdown",
   "id": "f1c84f61",
   "metadata": {},
   "source": [
    "nombre_infected        76\n",
    "nombre_sain          2376\n",
    "nombre_exposed         60\n",
    "nombre_recovered    17488\n",
    "Name: 100, dtype: int64"
   ]
  },
  {
   "cell_type": "markdown",
   "id": "f9601d29",
   "metadata": {},
   "source": [
    "nombre_infected        75\n",
    "nombre_sain          2414\n",
    "nombre_exposed         61\n",
    "nombre_recovered    17450\n",
    "Name: 101, dtype: int64"
   ]
  },
  {
   "cell_type": "markdown",
   "id": "0d92fc05",
   "metadata": {},
   "source": [
    "nombre_infected        76\n",
    "nombre_sain          2434\n",
    "nombre_exposed         65\n",
    "nombre_recovered    17425\n",
    "Name: 102, dtype: int64"
   ]
  },
  {
   "cell_type": "markdown",
   "id": "4ee4e810",
   "metadata": {},
   "source": [
    "nombre_infected        89\n",
    "nombre_sain          2466\n",
    "nombre_exposed         55\n",
    "nombre_recovered    17390\n",
    "Name: 103, dtype: int64"
   ]
  },
  {
   "cell_type": "markdown",
   "id": "714b2cdb",
   "metadata": {},
   "source": [
    "nombre_infected        84\n",
    "nombre_sain          2486\n",
    "nombre_exposed         57\n",
    "nombre_recovered    17373\n",
    "Name: 104, dtype: int64"
   ]
  },
  {
   "cell_type": "markdown",
   "id": "459f9441",
   "metadata": {},
   "source": [
    "nombre_infected        84\n",
    "nombre_sain          2507\n",
    "nombre_exposed         64\n",
    "nombre_recovered    17345\n",
    "Name: 105, dtype: int64"
   ]
  },
  {
   "cell_type": "markdown",
   "id": "3a046d67",
   "metadata": {},
   "source": [
    "nombre_infected        86\n",
    "nombre_sain          2524\n",
    "nombre_exposed         64\n",
    "nombre_recovered    17326\n",
    "Name: 106, dtype: int64"
   ]
  },
  {
   "cell_type": "markdown",
   "id": "b2840877",
   "metadata": {},
   "source": [
    "nombre_infected        88\n",
    "nombre_sain          2542\n",
    "nombre_exposed         66\n",
    "nombre_recovered    17304\n",
    "Name: 107, dtype: int64"
   ]
  },
  {
   "cell_type": "markdown",
   "id": "02bc505b",
   "metadata": {},
   "source": [
    "nombre_infected        84\n",
    "nombre_sain          2559\n",
    "nombre_exposed         72\n",
    "nombre_recovered    17285\n",
    "Name: 108, dtype: int64"
   ]
  },
  {
   "cell_type": "markdown",
   "id": "ebef2c67",
   "metadata": {},
   "source": [
    "nombre_infected        98\n",
    "nombre_sain          2575\n",
    "nombre_exposed         66\n",
    "nombre_recovered    17261\n",
    "Name: 109, dtype: int64"
   ]
  },
  {
   "cell_type": "markdown",
   "id": "2811a206",
   "metadata": {},
   "source": [
    "nombre_infected        93\n",
    "nombre_sain          2597\n",
    "nombre_exposed         76\n",
    "nombre_recovered    17234\n",
    "Name: 110, dtype: int64"
   ]
  },
  {
   "cell_type": "markdown",
   "id": "9ce293af",
   "metadata": {},
   "source": [
    "nombre_infected       101\n",
    "nombre_sain          2604\n",
    "nombre_exposed         84\n",
    "nombre_recovered    17211\n",
    "Name: 111, dtype: int64"
   ]
  },
  {
   "cell_type": "markdown",
   "id": "b3f38fc1",
   "metadata": {},
   "source": [
    "nombre_infected        96\n",
    "nombre_sain          2612\n",
    "nombre_exposed         88\n",
    "nombre_recovered    17204\n",
    "Name: 112, dtype: int64"
   ]
  },
  {
   "cell_type": "markdown",
   "id": "57834f0d",
   "metadata": {},
   "source": [
    "nombre_infected       108\n",
    "nombre_sain          2633\n",
    "nombre_exposed         77\n",
    "nombre_recovered    17182\n",
    "Name: 113, dtype: int64"
   ]
  },
  {
   "cell_type": "markdown",
   "id": "410be708",
   "metadata": {},
   "source": [
    "nombre_infected       105\n",
    "nombre_sain          2647\n",
    "nombre_exposed         71\n",
    "nombre_recovered    17177\n",
    "Name: 114, dtype: int64"
   ]
  },
  {
   "cell_type": "markdown",
   "id": "12891401",
   "metadata": {},
   "source": [
    "nombre_infected       113\n",
    "nombre_sain          2672\n",
    "nombre_exposed         64\n",
    "nombre_recovered    17151\n",
    "Name: 115, dtype: int64"
   ]
  },
  {
   "cell_type": "markdown",
   "id": "3309be05",
   "metadata": {},
   "source": [
    "nombre_infected       113\n",
    "nombre_sain          2704\n",
    "nombre_exposed         64\n",
    "nombre_recovered    17119\n",
    "Name: 116, dtype: int64"
   ]
  },
  {
   "cell_type": "markdown",
   "id": "f3fc79f3",
   "metadata": {},
   "source": [
    "nombre_infected       115\n",
    "nombre_sain          2745\n",
    "nombre_exposed         66\n",
    "nombre_recovered    17074\n",
    "Name: 117, dtype: int64"
   ]
  },
  {
   "cell_type": "markdown",
   "id": "1e95a018",
   "metadata": {},
   "source": [
    "nombre_infected       113\n",
    "nombre_sain          2768\n",
    "nombre_exposed         77\n",
    "nombre_recovered    17042\n",
    "Name: 118, dtype: int64"
   ]
  },
  {
   "cell_type": "markdown",
   "id": "d72e48ed",
   "metadata": {},
   "source": [
    "nombre_infected       110\n",
    "nombre_sain          2798\n",
    "nombre_exposed         80\n",
    "nombre_recovered    17012\n",
    "Name: 119, dtype: int64"
   ]
  },
  {
   "cell_type": "markdown",
   "id": "525c4c81",
   "metadata": {},
   "source": [
    "nombre_infected       109\n",
    "nombre_sain          2838\n",
    "nombre_exposed         90\n",
    "nombre_recovered    16963\n",
    "Name: 120, dtype: int64"
   ]
  },
  {
   "cell_type": "markdown",
   "id": "02865587",
   "metadata": {},
   "source": [
    "nombre_infected       100\n",
    "nombre_sain          2869\n",
    "nombre_exposed        100\n",
    "nombre_recovered    16931\n",
    "Name: 121, dtype: int64"
   ]
  },
  {
   "cell_type": "markdown",
   "id": "605f766c",
   "metadata": {},
   "source": [
    "nombre_infected       107\n",
    "nombre_sain          2906\n",
    "nombre_exposed        104\n",
    "nombre_recovered    16883\n",
    "Name: 122, dtype: int64"
   ]
  },
  {
   "cell_type": "markdown",
   "id": "d2760939",
   "metadata": {},
   "source": [
    "nombre_infected       115\n",
    "nombre_sain          2942\n",
    "nombre_exposed        107\n",
    "nombre_recovered    16836\n",
    "Name: 123, dtype: int64"
   ]
  },
  {
   "cell_type": "markdown",
   "id": "70423d52",
   "metadata": {},
   "source": [
    "nombre_infected       123\n",
    "nombre_sain          2975\n",
    "nombre_exposed        104\n",
    "nombre_recovered    16798\n",
    "Name: 124, dtype: int64"
   ]
  },
  {
   "cell_type": "markdown",
   "id": "e8dd4c43",
   "metadata": {},
   "source": [
    "nombre_infected       128\n",
    "nombre_sain          3014\n",
    "nombre_exposed        108\n",
    "nombre_recovered    16750\n",
    "Name: 125, dtype: int64"
   ]
  },
  {
   "cell_type": "markdown",
   "id": "dc2dbb2d",
   "metadata": {},
   "source": [
    "nombre_infected       134\n",
    "nombre_sain          3067\n",
    "nombre_exposed        102\n",
    "nombre_recovered    16697\n",
    "Name: 126, dtype: int64"
   ]
  },
  {
   "cell_type": "markdown",
   "id": "258f8467",
   "metadata": {},
   "source": [
    "nombre_infected       132\n",
    "nombre_sain          3119\n",
    "nombre_exposed        106\n",
    "nombre_recovered    16643\n",
    "Name: 127, dtype: int64"
   ]
  },
  {
   "cell_type": "markdown",
   "id": "68104c7f",
   "metadata": {},
   "source": [
    "nombre_infected       134\n",
    "nombre_sain          3163\n",
    "nombre_exposed        115\n",
    "nombre_recovered    16588\n",
    "Name: 128, dtype: int64"
   ]
  },
  {
   "cell_type": "markdown",
   "id": "937ce0f7",
   "metadata": {},
   "source": [
    "nombre_infected       146\n",
    "nombre_sain          3217\n",
    "nombre_exposed        117\n",
    "nombre_recovered    16520\n",
    "Name: 129, dtype: int64"
   ]
  },
  {
   "cell_type": "markdown",
   "id": "549a0160",
   "metadata": {},
   "source": [
    "nombre_infected       151\n",
    "nombre_sain          3246\n",
    "nombre_exposed        123\n",
    "nombre_recovered    16480\n",
    "Name: 130, dtype: int64"
   ]
  },
  {
   "cell_type": "markdown",
   "id": "1daf3919",
   "metadata": {},
   "source": [
    "nombre_infected       159\n",
    "nombre_sain          3279\n",
    "nombre_exposed        127\n",
    "nombre_recovered    16435\n",
    "Name: 131, dtype: int64"
   ]
  },
  {
   "cell_type": "markdown",
   "id": "6bbaf343",
   "metadata": {},
   "source": [
    "nombre_infected       169\n",
    "nombre_sain          3313\n",
    "nombre_exposed        133\n",
    "nombre_recovered    16385\n",
    "Name: 132, dtype: int64"
   ]
  },
  {
   "cell_type": "markdown",
   "id": "fc0ad337",
   "metadata": {},
   "source": [
    "nombre_infected       181\n",
    "nombre_sain          3344\n",
    "nombre_exposed        135\n",
    "nombre_recovered    16340\n",
    "Name: 133, dtype: int64"
   ]
  },
  {
   "cell_type": "markdown",
   "id": "13287e6c",
   "metadata": {},
   "source": [
    "nombre_infected       199\n",
    "nombre_sain          3347\n",
    "nombre_exposed        161\n",
    "nombre_recovered    16293\n",
    "Name: 134, dtype: int64"
   ]
  },
  {
   "cell_type": "markdown",
   "id": "aa800c6b",
   "metadata": {},
   "source": [
    "nombre_infected       214\n",
    "nombre_sain          3370\n",
    "nombre_exposed        172\n",
    "nombre_recovered    16244\n",
    "Name: 135, dtype: int64"
   ]
  },
  {
   "cell_type": "markdown",
   "id": "75c3b056",
   "metadata": {},
   "source": [
    "nombre_infected       236\n",
    "nombre_sain          3390\n",
    "nombre_exposed        175\n",
    "nombre_recovered    16199\n",
    "Name: 136, dtype: int64"
   ]
  },
  {
   "cell_type": "markdown",
   "id": "984d96f1",
   "metadata": {},
   "source": [
    "nombre_infected       243\n",
    "nombre_sain          3407\n",
    "nombre_exposed        194\n",
    "nombre_recovered    16156\n",
    "Name: 137, dtype: int64"
   ]
  },
  {
   "cell_type": "markdown",
   "id": "a0391c29",
   "metadata": {},
   "source": [
    "nombre_infected       255\n",
    "nombre_sain          3414\n",
    "nombre_exposed        205\n",
    "nombre_recovered    16126\n",
    "Name: 138, dtype: int64"
   ]
  },
  {
   "cell_type": "markdown",
   "id": "1e400693",
   "metadata": {},
   "source": [
    "nombre_infected       263\n",
    "nombre_sain          3410\n",
    "nombre_exposed        219\n",
    "nombre_recovered    16108\n",
    "Name: 139, dtype: int64"
   ]
  },
  {
   "cell_type": "markdown",
   "id": "229e7159",
   "metadata": {},
   "source": [
    "nombre_infected       276\n",
    "nombre_sain          3395\n",
    "nombre_exposed        224\n",
    "nombre_recovered    16105\n",
    "Name: 140, dtype: int64"
   ]
  },
  {
   "cell_type": "markdown",
   "id": "96b4c255",
   "metadata": {},
   "source": [
    "nombre_infected       280\n",
    "nombre_sain          3405\n",
    "nombre_exposed        231\n",
    "nombre_recovered    16084\n",
    "Name: 141, dtype: int64"
   ]
  },
  {
   "cell_type": "markdown",
   "id": "89f07dcf",
   "metadata": {},
   "source": [
    "nombre_infected       301\n",
    "nombre_sain          3392\n",
    "nombre_exposed        233\n",
    "nombre_recovered    16074\n",
    "Name: 142, dtype: int64"
   ]
  },
  {
   "cell_type": "markdown",
   "id": "8a691840",
   "metadata": {},
   "source": [
    "nombre_infected       314\n",
    "nombre_sain          3407\n",
    "nombre_exposed        237\n",
    "nombre_recovered    16042\n",
    "Name: 143, dtype: int64"
   ]
  },
  {
   "cell_type": "markdown",
   "id": "586ba713",
   "metadata": {},
   "source": [
    "nombre_infected       334\n",
    "nombre_sain          3386\n",
    "nombre_exposed        256\n",
    "nombre_recovered    16024\n",
    "Name: 144, dtype: int64"
   ]
  },
  {
   "cell_type": "markdown",
   "id": "e81efdcb",
   "metadata": {},
   "source": [
    "nombre_infected       349\n",
    "nombre_sain          3361\n",
    "nombre_exposed        287\n",
    "nombre_recovered    16003\n",
    "Name: 145, dtype: int64"
   ]
  },
  {
   "cell_type": "markdown",
   "id": "192c4d3c",
   "metadata": {},
   "source": [
    "nombre_infected       378\n",
    "nombre_sain          3340\n",
    "nombre_exposed        291\n",
    "nombre_recovered    15991\n",
    "Name: 146, dtype: int64"
   ]
  },
  {
   "cell_type": "markdown",
   "id": "ed8f490a",
   "metadata": {},
   "source": [
    "nombre_infected       409\n",
    "nombre_sain          3312\n",
    "nombre_exposed        304\n",
    "nombre_recovered    15975\n",
    "Name: 147, dtype: int64"
   ]
  },
  {
   "cell_type": "markdown",
   "id": "c2e76fc9",
   "metadata": {},
   "source": [
    "nombre_infected       431\n",
    "nombre_sain          3293\n",
    "nombre_exposed        323\n",
    "nombre_recovered    15953\n",
    "Name: 148, dtype: int64"
   ]
  },
  {
   "cell_type": "markdown",
   "id": "e22fe188",
   "metadata": {},
   "source": [
    "nombre_infected       456\n",
    "nombre_sain          3278\n",
    "nombre_exposed        320\n",
    "nombre_recovered    15946\n",
    "Name: 149, dtype: int64"
   ]
  },
  {
   "cell_type": "markdown",
   "id": "cff12ab2",
   "metadata": {},
   "source": [
    "nombre_infected       480\n",
    "nombre_sain          3242\n",
    "nombre_exposed        330\n",
    "nombre_recovered    15948\n",
    "Name: 150, dtype: int64"
   ]
  },
  {
   "cell_type": "markdown",
   "id": "2fb8ce25",
   "metadata": {},
   "source": [
    "nombre_infected       495\n",
    "nombre_sain          3178\n",
    "nombre_exposed        376\n",
    "nombre_recovered    15951\n",
    "Name: 151, dtype: int64"
   ]
  },
  {
   "cell_type": "markdown",
   "id": "1cd637f6",
   "metadata": {},
   "source": [
    "nombre_infected       508\n",
    "nombre_sain          3132\n",
    "nombre_exposed        393\n",
    "nombre_recovered    15967\n",
    "Name: 152, dtype: int64"
   ]
  },
  {
   "cell_type": "markdown",
   "id": "b8bf4ef0",
   "metadata": {},
   "source": [
    "nombre_infected       519\n",
    "nombre_sain          3095\n",
    "nombre_exposed        405\n",
    "nombre_recovered    15981\n",
    "Name: 153, dtype: int64"
   ]
  },
  {
   "cell_type": "markdown",
   "id": "a180f8d2",
   "metadata": {},
   "source": [
    "nombre_infected       518\n",
    "nombre_sain          3048\n",
    "nombre_exposed        432\n",
    "nombre_recovered    16002\n",
    "Name: 154, dtype: int64"
   ]
  },
  {
   "cell_type": "markdown",
   "id": "d9e98a6a",
   "metadata": {},
   "source": [
    "nombre_infected       535\n",
    "nombre_sain          2998\n",
    "nombre_exposed        468\n",
    "nombre_recovered    15999\n",
    "Name: 155, dtype: int64"
   ]
  },
  {
   "cell_type": "markdown",
   "id": "3c8a6769",
   "metadata": {},
   "source": [
    "nombre_infected       565\n",
    "nombre_sain          2948\n",
    "nombre_exposed        481\n",
    "nombre_recovered    16006\n",
    "Name: 156, dtype: int64"
   ]
  },
  {
   "cell_type": "markdown",
   "id": "23c7c47d",
   "metadata": {},
   "source": [
    "nombre_infected       596\n",
    "nombre_sain          2905\n",
    "nombre_exposed        474\n",
    "nombre_recovered    16025\n",
    "Name: 157, dtype: int64"
   ]
  },
  {
   "cell_type": "markdown",
   "id": "a740ef66",
   "metadata": {},
   "source": [
    "nombre_infected       633\n",
    "nombre_sain          2825\n",
    "nombre_exposed        504\n",
    "nombre_recovered    16038\n",
    "Name: 158, dtype: int64"
   ]
  },
  {
   "cell_type": "markdown",
   "id": "2ffd9173",
   "metadata": {},
   "source": [
    "nombre_infected       646\n",
    "nombre_sain          2765\n",
    "nombre_exposed        513\n",
    "nombre_recovered    16076\n",
    "Name: 159, dtype: int64"
   ]
  },
  {
   "cell_type": "markdown",
   "id": "46b4914d",
   "metadata": {},
   "source": [
    "nombre_infected       698\n",
    "nombre_sain          2702\n",
    "nombre_exposed        498\n",
    "nombre_recovered    16102\n",
    "Name: 160, dtype: int64"
   ]
  },
  {
   "cell_type": "markdown",
   "id": "209f629a",
   "metadata": {},
   "source": [
    "nombre_infected       721\n",
    "nombre_sain          2629\n",
    "nombre_exposed        520\n",
    "nombre_recovered    16130\n",
    "Name: 161, dtype: int64"
   ]
  },
  {
   "cell_type": "markdown",
   "id": "4223fa31",
   "metadata": {},
   "source": [
    "nombre_infected       741\n",
    "nombre_sain          2570\n",
    "nombre_exposed        523\n",
    "nombre_recovered    16166\n",
    "Name: 162, dtype: int64"
   ]
  },
  {
   "cell_type": "markdown",
   "id": "a8e949b6",
   "metadata": {},
   "source": [
    "nombre_infected       765\n",
    "nombre_sain          2497\n",
    "nombre_exposed        527\n",
    "nombre_recovered    16211\n",
    "Name: 163, dtype: int64"
   ]
  },
  {
   "cell_type": "markdown",
   "id": "f44a183c",
   "metadata": {},
   "source": [
    "nombre_infected       781\n",
    "nombre_sain          2444\n",
    "nombre_exposed        524\n",
    "nombre_recovered    16251\n",
    "Name: 164, dtype: int64"
   ]
  },
  {
   "cell_type": "markdown",
   "id": "66a1117e",
   "metadata": {},
   "source": [
    "nombre_infected       799\n",
    "nombre_sain          2355\n",
    "nombre_exposed        546\n",
    "nombre_recovered    16300\n",
    "Name: 165, dtype: int64"
   ]
  },
  {
   "cell_type": "markdown",
   "id": "dcf02b02",
   "metadata": {},
   "source": [
    "nombre_infected       836\n",
    "nombre_sain          2289\n",
    "nombre_exposed        543\n",
    "nombre_recovered    16332\n",
    "Name: 166, dtype: int64"
   ]
  },
  {
   "cell_type": "markdown",
   "id": "0280a68d",
   "metadata": {},
   "source": [
    "nombre_infected       872\n",
    "nombre_sain          2238\n",
    "nombre_exposed        536\n",
    "nombre_recovered    16354\n",
    "Name: 167, dtype: int64"
   ]
  },
  {
   "cell_type": "markdown",
   "id": "2eb3e88e",
   "metadata": {},
   "source": [
    "nombre_infected       885\n",
    "nombre_sain          2179\n",
    "nombre_exposed        519\n",
    "nombre_recovered    16417\n",
    "Name: 168, dtype: int64"
   ]
  },
  {
   "cell_type": "markdown",
   "id": "55c438db",
   "metadata": {},
   "source": [
    "nombre_infected       895\n",
    "nombre_sain          2127\n",
    "nombre_exposed        515\n",
    "nombre_recovered    16463\n",
    "Name: 169, dtype: int64"
   ]
  },
  {
   "cell_type": "markdown",
   "id": "e5bc04ea",
   "metadata": {},
   "source": [
    "nombre_infected       888\n",
    "nombre_sain          2057\n",
    "nombre_exposed        516\n",
    "nombre_recovered    16539\n",
    "Name: 170, dtype: int64"
   ]
  },
  {
   "cell_type": "markdown",
   "id": "9a4fc8b7",
   "metadata": {},
   "source": [
    "nombre_infected       881\n",
    "nombre_sain          2034\n",
    "nombre_exposed        500\n",
    "nombre_recovered    16585\n",
    "Name: 171, dtype: int64"
   ]
  },
  {
   "cell_type": "markdown",
   "id": "29114f64",
   "metadata": {},
   "source": [
    "nombre_infected       896\n",
    "nombre_sain          1995\n",
    "nombre_exposed        490\n",
    "nombre_recovered    16619\n",
    "Name: 172, dtype: int64"
   ]
  },
  {
   "cell_type": "markdown",
   "id": "34501699",
   "metadata": {},
   "source": [
    "nombre_infected       915\n",
    "nombre_sain          1950\n",
    "nombre_exposed        487\n",
    "nombre_recovered    16648\n",
    "Name: 173, dtype: int64"
   ]
  },
  {
   "cell_type": "markdown",
   "id": "deb218be",
   "metadata": {},
   "source": [
    "nombre_infected       896\n",
    "nombre_sain          1925\n",
    "nombre_exposed        489\n",
    "nombre_recovered    16690\n",
    "Name: 174, dtype: int64"
   ]
  },
  {
   "cell_type": "markdown",
   "id": "4887a76b",
   "metadata": {},
   "source": [
    "nombre_infected       880\n",
    "nombre_sain          1891\n",
    "nombre_exposed        481\n",
    "nombre_recovered    16748\n",
    "Name: 175, dtype: int64"
   ]
  },
  {
   "cell_type": "markdown",
   "id": "f18e7e5a",
   "metadata": {},
   "source": [
    "nombre_infected       895\n",
    "nombre_sain          1845\n",
    "nombre_exposed        485\n",
    "nombre_recovered    16775\n",
    "Name: 176, dtype: int64"
   ]
  },
  {
   "cell_type": "markdown",
   "id": "a0388c52",
   "metadata": {},
   "source": [
    "nombre_infected       878\n",
    "nombre_sain          1803\n",
    "nombre_exposed        502\n",
    "nombre_recovered    16817\n",
    "Name: 177, dtype: int64"
   ]
  },
  {
   "cell_type": "markdown",
   "id": "3b2c5d32",
   "metadata": {},
   "source": [
    "nombre_infected       882\n",
    "nombre_sain          1778\n",
    "nombre_exposed        485\n",
    "nombre_recovered    16855\n",
    "Name: 178, dtype: int64"
   ]
  },
  {
   "cell_type": "markdown",
   "id": "b5ef5860",
   "metadata": {},
   "source": [
    "nombre_infected       886\n",
    "nombre_sain          1740\n",
    "nombre_exposed        492\n",
    "nombre_recovered    16882\n",
    "Name: 179, dtype: int64"
   ]
  },
  {
   "cell_type": "markdown",
   "id": "2ff79de5",
   "metadata": {},
   "source": [
    "nombre_infected       880\n",
    "nombre_sain          1711\n",
    "nombre_exposed        473\n",
    "nombre_recovered    16936\n",
    "Name: 180, dtype: int64"
   ]
  },
  {
   "cell_type": "markdown",
   "id": "4ae8f9d4",
   "metadata": {},
   "source": [
    "nombre_infected       871\n",
    "nombre_sain          1699\n",
    "nombre_exposed        452\n",
    "nombre_recovered    16978\n",
    "Name: 181, dtype: int64"
   ]
  },
  {
   "cell_type": "markdown",
   "id": "e4cc9cd6",
   "metadata": {},
   "source": [
    "nombre_infected       896\n",
    "nombre_sain          1678\n",
    "nombre_exposed        421\n",
    "nombre_recovered    17005\n",
    "Name: 182, dtype: int64"
   ]
  },
  {
   "cell_type": "markdown",
   "id": "d152401a",
   "metadata": {},
   "source": [
    "nombre_infected       891\n",
    "nombre_sain          1645\n",
    "nombre_exposed        407\n",
    "nombre_recovered    17057\n",
    "Name: 183, dtype: int64"
   ]
  },
  {
   "cell_type": "markdown",
   "id": "8cdd52a0",
   "metadata": {},
   "source": [
    "nombre_infected       889\n",
    "nombre_sain          1627\n",
    "nombre_exposed        378\n",
    "nombre_recovered    17106\n",
    "Name: 184, dtype: int64"
   ]
  },
  {
   "cell_type": "markdown",
   "id": "d1a0ba49",
   "metadata": {},
   "source": [
    "nombre_infected       868\n",
    "nombre_sain          1615\n",
    "nombre_exposed        367\n",
    "nombre_recovered    17150\n",
    "Name: 185, dtype: int64"
   ]
  },
  {
   "cell_type": "markdown",
   "id": "16bb0520",
   "metadata": {},
   "source": [
    "nombre_infected       847\n",
    "nombre_sain          1564\n",
    "nombre_exposed        388\n",
    "nombre_recovered    17201\n",
    "Name: 186, dtype: int64"
   ]
  },
  {
   "cell_type": "markdown",
   "id": "a469e4df",
   "metadata": {},
   "source": [
    "nombre_infected       829\n",
    "nombre_sain          1544\n",
    "nombre_exposed        383\n",
    "nombre_recovered    17244\n",
    "Name: 187, dtype: int64"
   ]
  },
  {
   "cell_type": "markdown",
   "id": "be3534f9",
   "metadata": {},
   "source": [
    "nombre_infected       807\n",
    "nombre_sain          1526\n",
    "nombre_exposed        364\n",
    "nombre_recovered    17303\n",
    "Name: 188, dtype: int64"
   ]
  },
  {
   "cell_type": "markdown",
   "id": "de0a3cea",
   "metadata": {},
   "source": [
    "nombre_infected       799\n",
    "nombre_sain          1521\n",
    "nombre_exposed        338\n",
    "nombre_recovered    17342\n",
    "Name: 189, dtype: int64"
   ]
  },
  {
   "cell_type": "markdown",
   "id": "cc3fd4e6",
   "metadata": {},
   "source": [
    "nombre_infected       787\n",
    "nombre_sain          1528\n",
    "nombre_exposed        335\n",
    "nombre_recovered    17350\n",
    "Name: 190, dtype: int64"
   ]
  },
  {
   "cell_type": "markdown",
   "id": "0961e728",
   "metadata": {},
   "source": [
    "nombre_infected       768\n",
    "nombre_sain          1534\n",
    "nombre_exposed        335\n",
    "nombre_recovered    17363\n",
    "Name: 191, dtype: int64"
   ]
  },
  {
   "cell_type": "markdown",
   "id": "68197b3c",
   "metadata": {},
   "source": [
    "nombre_infected       757\n",
    "nombre_sain          1530\n",
    "nombre_exposed        330\n",
    "nombre_recovered    17383\n",
    "Name: 192, dtype: int64"
   ]
  },
  {
   "cell_type": "markdown",
   "id": "202f46aa",
   "metadata": {},
   "source": [
    "nombre_infected       739\n",
    "nombre_sain          1541\n",
    "nombre_exposed        330\n",
    "nombre_recovered    17390\n",
    "Name: 193, dtype: int64"
   ]
  },
  {
   "cell_type": "markdown",
   "id": "c88c6a2d",
   "metadata": {},
   "source": [
    "nombre_infected       720\n",
    "nombre_sain          1557\n",
    "nombre_exposed        337\n",
    "nombre_recovered    17386\n",
    "Name: 194, dtype: int64"
   ]
  },
  {
   "cell_type": "markdown",
   "id": "60ecdb0d",
   "metadata": {},
   "source": [
    "nombre_infected       721\n",
    "nombre_sain          1569\n",
    "nombre_exposed        327\n",
    "nombre_recovered    17383\n",
    "Name: 195, dtype: int64"
   ]
  },
  {
   "cell_type": "markdown",
   "id": "f4fbb2db",
   "metadata": {},
   "source": [
    "nombre_infected       713\n",
    "nombre_sain          1580\n",
    "nombre_exposed        320\n",
    "nombre_recovered    17387\n",
    "Name: 196, dtype: int64"
   ]
  },
  {
   "cell_type": "markdown",
   "id": "bd6e83a4",
   "metadata": {},
   "source": [
    "nombre_infected       715\n",
    "nombre_sain          1598\n",
    "nombre_exposed        312\n",
    "nombre_recovered    17375\n",
    "Name: 197, dtype: int64"
   ]
  },
  {
   "cell_type": "markdown",
   "id": "6fc4dbb2",
   "metadata": {},
   "source": [
    "nombre_infected       715\n",
    "nombre_sain          1617\n",
    "nombre_exposed        298\n",
    "nombre_recovered    17370\n",
    "Name: 198, dtype: int64"
   ]
  },
  {
   "cell_type": "markdown",
   "id": "3232c422",
   "metadata": {},
   "source": [
    "nombre_infected       698\n",
    "nombre_sain          1646\n",
    "nombre_exposed        311\n",
    "nombre_recovered    17345\n",
    "Name: 199, dtype: int64"
   ]
  },
  {
   "cell_type": "markdown",
   "id": "0f480426",
   "metadata": {},
   "source": [
    "nombre_infected       705\n",
    "nombre_sain          1682\n",
    "nombre_exposed        303\n",
    "nombre_recovered    17310\n",
    "Name: 200, dtype: int64"
   ]
  },
  {
   "cell_type": "markdown",
   "id": "be3e47e4",
   "metadata": {},
   "source": [
    "nombre_infected       696\n",
    "nombre_sain          1709\n",
    "nombre_exposed        303\n",
    "nombre_recovered    17292\n",
    "Name: 201, dtype: int64"
   ]
  },
  {
   "cell_type": "markdown",
   "id": "1a56bd32",
   "metadata": {},
   "source": [
    "nombre_infected       680\n",
    "nombre_sain          1748\n",
    "nombre_exposed        304\n",
    "nombre_recovered    17268\n",
    "Name: 202, dtype: int64"
   ]
  },
  {
   "cell_type": "markdown",
   "id": "447fc03b",
   "metadata": {},
   "source": [
    "nombre_infected       658\n",
    "nombre_sain          1760\n",
    "nombre_exposed        322\n",
    "nombre_recovered    17260\n",
    "Name: 203, dtype: int64"
   ]
  },
  {
   "cell_type": "markdown",
   "id": "0fd4991b",
   "metadata": {},
   "source": [
    "nombre_infected       640\n",
    "nombre_sain          1788\n",
    "nombre_exposed        325\n",
    "nombre_recovered    17247\n",
    "Name: 204, dtype: int64"
   ]
  },
  {
   "cell_type": "markdown",
   "id": "afad499b",
   "metadata": {},
   "source": [
    "nombre_infected       660\n",
    "nombre_sain          1814\n",
    "nombre_exposed        307\n",
    "nombre_recovered    17219\n",
    "Name: 205, dtype: int64"
   ]
  },
  {
   "cell_type": "markdown",
   "id": "b29b3a76",
   "metadata": {},
   "source": [
    "nombre_infected       651\n",
    "nombre_sain          1870\n",
    "nombre_exposed        319\n",
    "nombre_recovered    17160\n",
    "Name: 206, dtype: int64"
   ]
  },
  {
   "cell_type": "markdown",
   "id": "f1c47c55",
   "metadata": {},
   "source": [
    "nombre_infected       632\n",
    "nombre_sain          1894\n",
    "nombre_exposed        336\n",
    "nombre_recovered    17138\n",
    "Name: 207, dtype: int64"
   ]
  },
  {
   "cell_type": "markdown",
   "id": "a2fd3f10",
   "metadata": {},
   "source": [
    "nombre_infected       628\n",
    "nombre_sain          1925\n",
    "nombre_exposed        331\n",
    "nombre_recovered    17116\n",
    "Name: 208, dtype: int64"
   ]
  },
  {
   "cell_type": "markdown",
   "id": "dc452cba",
   "metadata": {},
   "source": [
    "nombre_infected       627\n",
    "nombre_sain          1962\n",
    "nombre_exposed        331\n",
    "nombre_recovered    17080\n",
    "Name: 209, dtype: int64"
   ]
  },
  {
   "cell_type": "markdown",
   "id": "36596b5c",
   "metadata": {},
   "source": [
    "nombre_infected       597\n",
    "nombre_sain          1973\n",
    "nombre_exposed        353\n",
    "nombre_recovered    17077\n",
    "Name: 210, dtype: int64"
   ]
  },
  {
   "cell_type": "markdown",
   "id": "81e8d503",
   "metadata": {},
   "source": [
    "nombre_infected       605\n",
    "nombre_sain          2019\n",
    "nombre_exposed        334\n",
    "nombre_recovered    17042\n",
    "Name: 211, dtype: int64"
   ]
  },
  {
   "cell_type": "markdown",
   "id": "acb70de4",
   "metadata": {},
   "source": [
    "nombre_infected       612\n",
    "nombre_sain          2047\n",
    "nombre_exposed        341\n",
    "nombre_recovered    17000\n",
    "Name: 212, dtype: int64"
   ]
  },
  {
   "cell_type": "markdown",
   "id": "877f3d85",
   "metadata": {},
   "source": [
    "nombre_infected       616\n",
    "nombre_sain          2074\n",
    "nombre_exposed        338\n",
    "nombre_recovered    16972\n",
    "Name: 213, dtype: int64"
   ]
  },
  {
   "cell_type": "markdown",
   "id": "32fabe78",
   "metadata": {},
   "source": [
    "nombre_infected       617\n",
    "nombre_sain          2094\n",
    "nombre_exposed        343\n",
    "nombre_recovered    16946\n",
    "Name: 214, dtype: int64"
   ]
  },
  {
   "cell_type": "markdown",
   "id": "84c94d48",
   "metadata": {},
   "source": [
    "nombre_infected       608\n",
    "nombre_sain          2105\n",
    "nombre_exposed        346\n",
    "nombre_recovered    16941\n",
    "Name: 215, dtype: int64"
   ]
  },
  {
   "cell_type": "markdown",
   "id": "2cd34ebc",
   "metadata": {},
   "source": [
    "nombre_infected       619\n",
    "nombre_sain          2124\n",
    "nombre_exposed        332\n",
    "nombre_recovered    16925\n",
    "Name: 216, dtype: int64"
   ]
  },
  {
   "cell_type": "markdown",
   "id": "8c685c92",
   "metadata": {},
   "source": [
    "nombre_infected       600\n",
    "nombre_sain          2135\n",
    "nombre_exposed        351\n",
    "nombre_recovered    16914\n",
    "Name: 217, dtype: int64"
   ]
  },
  {
   "cell_type": "markdown",
   "id": "aeb61b2c",
   "metadata": {},
   "source": [
    "nombre_infected       601\n",
    "nombre_sain          2139\n",
    "nombre_exposed        362\n",
    "nombre_recovered    16898\n",
    "Name: 218, dtype: int64"
   ]
  },
  {
   "cell_type": "markdown",
   "id": "521af194",
   "metadata": {},
   "source": [
    "nombre_infected       593\n",
    "nombre_sain          2162\n",
    "nombre_exposed        377\n",
    "nombre_recovered    16868\n",
    "Name: 219, dtype: int64"
   ]
  },
  {
   "cell_type": "markdown",
   "id": "038833e8",
   "metadata": {},
   "source": [
    "nombre_infected       599\n",
    "nombre_sain          2169\n",
    "nombre_exposed        388\n",
    "nombre_recovered    16844\n",
    "Name: 220, dtype: int64"
   ]
  },
  {
   "cell_type": "markdown",
   "id": "383964c6",
   "metadata": {},
   "source": [
    "nombre_infected       590\n",
    "nombre_sain          2205\n",
    "nombre_exposed        382\n",
    "nombre_recovered    16823\n",
    "Name: 221, dtype: int64"
   ]
  },
  {
   "cell_type": "markdown",
   "id": "a9b8064b",
   "metadata": {},
   "source": [
    "nombre_infected       594\n",
    "nombre_sain          2227\n",
    "nombre_exposed        365\n",
    "nombre_recovered    16814\n",
    "Name: 222, dtype: int64"
   ]
  },
  {
   "cell_type": "markdown",
   "id": "aaa24cc9",
   "metadata": {},
   "source": [
    "nombre_infected       590\n",
    "nombre_sain          2232\n",
    "nombre_exposed        380\n",
    "nombre_recovered    16798\n",
    "Name: 223, dtype: int64"
   ]
  },
  {
   "cell_type": "markdown",
   "id": "5b5251c8",
   "metadata": {},
   "source": [
    "nombre_infected       585\n",
    "nombre_sain          2228\n",
    "nombre_exposed        397\n",
    "nombre_recovered    16790\n",
    "Name: 224, dtype: int64"
   ]
  },
  {
   "cell_type": "markdown",
   "id": "2c899c10",
   "metadata": {},
   "source": [
    "nombre_infected       586\n",
    "nombre_sain          2246\n",
    "nombre_exposed        409\n",
    "nombre_recovered    16759\n",
    "Name: 225, dtype: int64"
   ]
  },
  {
   "cell_type": "markdown",
   "id": "50a622d0",
   "metadata": {},
   "source": [
    "nombre_infected       607\n",
    "nombre_sain          2265\n",
    "nombre_exposed        394\n",
    "nombre_recovered    16734\n",
    "Name: 226, dtype: int64"
   ]
  },
  {
   "cell_type": "markdown",
   "id": "3668e0d0",
   "metadata": {},
   "source": [
    "nombre_infected       603\n",
    "nombre_sain          2287\n",
    "nombre_exposed        406\n",
    "nombre_recovered    16704\n",
    "Name: 227, dtype: int64"
   ]
  },
  {
   "cell_type": "markdown",
   "id": "bb55ec14",
   "metadata": {},
   "source": [
    "nombre_infected       615\n",
    "nombre_sain          2331\n",
    "nombre_exposed        384\n",
    "nombre_recovered    16670\n",
    "Name: 228, dtype: int64"
   ]
  },
  {
   "cell_type": "markdown",
   "id": "e055d204",
   "metadata": {},
   "source": [
    "nombre_infected       623\n",
    "nombre_sain          2362\n",
    "nombre_exposed        396\n",
    "nombre_recovered    16619\n",
    "Name: 229, dtype: int64"
   ]
  },
  {
   "cell_type": "markdown",
   "id": "48c685e6",
   "metadata": {},
   "source": [
    "nombre_infected       629\n",
    "nombre_sain          2366\n",
    "nombre_exposed        403\n",
    "nombre_recovered    16602\n",
    "Name: 230, dtype: int64"
   ]
  },
  {
   "cell_type": "markdown",
   "id": "1a2b4793",
   "metadata": {},
   "source": [
    "nombre_infected       629\n",
    "nombre_sain          2369\n",
    "nombre_exposed        424\n",
    "nombre_recovered    16578\n",
    "Name: 231, dtype: int64"
   ]
  },
  {
   "cell_type": "markdown",
   "id": "ab868e32",
   "metadata": {},
   "source": [
    "nombre_infected       626\n",
    "nombre_sain          2372\n",
    "nombre_exposed        430\n",
    "nombre_recovered    16572\n",
    "Name: 232, dtype: int64"
   ]
  },
  {
   "cell_type": "markdown",
   "id": "1638b5a5",
   "metadata": {},
   "source": [
    "nombre_infected       636\n",
    "nombre_sain          2380\n",
    "nombre_exposed        424\n",
    "nombre_recovered    16560\n",
    "Name: 233, dtype: int64"
   ]
  },
  {
   "cell_type": "markdown",
   "id": "32b41b9e",
   "metadata": {},
   "source": [
    "nombre_infected       646\n",
    "nombre_sain          2374\n",
    "nombre_exposed        437\n",
    "nombre_recovered    16543\n",
    "Name: 234, dtype: int64"
   ]
  },
  {
   "cell_type": "markdown",
   "id": "ea24a373",
   "metadata": {},
   "source": [
    "nombre_infected       664\n",
    "nombre_sain          2349\n",
    "nombre_exposed        447\n",
    "nombre_recovered    16540\n",
    "Name: 235, dtype: int64"
   ]
  },
  {
   "cell_type": "markdown",
   "id": "7f8dc2aa",
   "metadata": {},
   "source": [
    "nombre_infected       676\n",
    "nombre_sain          2348\n",
    "nombre_exposed        469\n",
    "nombre_recovered    16507\n",
    "Name: 236, dtype: int64"
   ]
  },
  {
   "cell_type": "markdown",
   "id": "7fb68141",
   "metadata": {},
   "source": [
    "nombre_infected       679\n",
    "nombre_sain          2350\n",
    "nombre_exposed        459\n",
    "nombre_recovered    16512\n",
    "Name: 237, dtype: int64"
   ]
  },
  {
   "cell_type": "markdown",
   "id": "ff90a40e",
   "metadata": {},
   "source": [
    "nombre_infected       705\n",
    "nombre_sain          2371\n",
    "nombre_exposed        432\n",
    "nombre_recovered    16492\n",
    "Name: 238, dtype: int64"
   ]
  },
  {
   "cell_type": "markdown",
   "id": "7d2110a5",
   "metadata": {},
   "source": [
    "nombre_infected       729\n",
    "nombre_sain          2364\n",
    "nombre_exposed        437\n",
    "nombre_recovered    16470\n",
    "Name: 239, dtype: int64"
   ]
  },
  {
   "cell_type": "markdown",
   "id": "c19c9d55",
   "metadata": {},
   "source": [
    "nombre_infected       752\n",
    "nombre_sain          2368\n",
    "nombre_exposed        425\n",
    "nombre_recovered    16455\n",
    "Name: 240, dtype: int64"
   ]
  },
  {
   "cell_type": "markdown",
   "id": "f618f624",
   "metadata": {},
   "source": [
    "nombre_infected       759\n",
    "nombre_sain          2355\n",
    "nombre_exposed        453\n",
    "nombre_recovered    16433\n",
    "Name: 241, dtype: int64"
   ]
  },
  {
   "cell_type": "markdown",
   "id": "65525280",
   "metadata": {},
   "source": [
    "nombre_infected       741\n",
    "nombre_sain          2361\n",
    "nombre_exposed        466\n",
    "nombre_recovered    16432\n",
    "Name: 242, dtype: int64"
   ]
  },
  {
   "cell_type": "markdown",
   "id": "11bd3205",
   "metadata": {},
   "source": [
    "nombre_infected       754\n",
    "nombre_sain          2357\n",
    "nombre_exposed        487\n",
    "nombre_recovered    16402\n",
    "Name: 243, dtype: int64"
   ]
  },
  {
   "cell_type": "markdown",
   "id": "b670e133",
   "metadata": {},
   "source": [
    "nombre_infected       770\n",
    "nombre_sain          2348\n",
    "nombre_exposed        500\n",
    "nombre_recovered    16382\n",
    "Name: 244, dtype: int64"
   ]
  },
  {
   "cell_type": "markdown",
   "id": "160aa269",
   "metadata": {},
   "source": [
    "nombre_infected       784\n",
    "nombre_sain          2350\n",
    "nombre_exposed        498\n",
    "nombre_recovered    16368\n",
    "Name: 245, dtype: int64"
   ]
  },
  {
   "cell_type": "markdown",
   "id": "43d47d2a",
   "metadata": {},
   "source": [
    "nombre_infected       809\n",
    "nombre_sain          2363\n",
    "nombre_exposed        492\n",
    "nombre_recovered    16336\n",
    "Name: 246, dtype: int64"
   ]
  },
  {
   "cell_type": "markdown",
   "id": "50b92538",
   "metadata": {},
   "source": [
    "nombre_infected       820\n",
    "nombre_sain          2358\n",
    "nombre_exposed        492\n",
    "nombre_recovered    16330\n",
    "Name: 247, dtype: int64"
   ]
  },
  {
   "cell_type": "markdown",
   "id": "32f1fa90",
   "metadata": {},
   "source": [
    "nombre_infected       855\n",
    "nombre_sain          2336\n",
    "nombre_exposed        511\n",
    "nombre_recovered    16298\n",
    "Name: 248, dtype: int64"
   ]
  },
  {
   "cell_type": "markdown",
   "id": "2f744d1d",
   "metadata": {},
   "source": [
    "nombre_infected       877\n",
    "nombre_sain          2315\n",
    "nombre_exposed        524\n",
    "nombre_recovered    16284\n",
    "Name: 249, dtype: int64"
   ]
  },
  {
   "cell_type": "markdown",
   "id": "28ffae33",
   "metadata": {},
   "source": [
    "nombre_infected       886\n",
    "nombre_sain          2316\n",
    "nombre_exposed        510\n",
    "nombre_recovered    16288\n",
    "Name: 250, dtype: int64"
   ]
  },
  {
   "cell_type": "markdown",
   "id": "cd901ee6",
   "metadata": {},
   "source": [
    "nombre_infected       904\n",
    "nombre_sain          2274\n",
    "nombre_exposed        546\n",
    "nombre_recovered    16276\n",
    "Name: 251, dtype: int64"
   ]
  },
  {
   "cell_type": "markdown",
   "id": "de205054",
   "metadata": {},
   "source": [
    "nombre_infected       895\n",
    "nombre_sain          2241\n",
    "nombre_exposed        574\n",
    "nombre_recovered    16290\n",
    "Name: 252, dtype: int64"
   ]
  },
  {
   "cell_type": "markdown",
   "id": "7423256d",
   "metadata": {},
   "source": [
    "nombre_infected       924\n",
    "nombre_sain          2241\n",
    "nombre_exposed        547\n",
    "nombre_recovered    16288\n",
    "Name: 253, dtype: int64"
   ]
  },
  {
   "cell_type": "markdown",
   "id": "fa7c1ed1",
   "metadata": {},
   "source": [
    "nombre_infected       940\n",
    "nombre_sain          2191\n",
    "nombre_exposed        541\n",
    "nombre_recovered    16328\n",
    "Name: 254, dtype: int64"
   ]
  },
  {
   "cell_type": "markdown",
   "id": "1d90bb96",
   "metadata": {},
   "source": [
    "nombre_infected       947\n",
    "nombre_sain          2179\n",
    "nombre_exposed        528\n",
    "nombre_recovered    16346\n",
    "Name: 255, dtype: int64"
   ]
  },
  {
   "cell_type": "markdown",
   "id": "700d96d3",
   "metadata": {},
   "source": [
    "nombre_infected       932\n",
    "nombre_sain          2139\n",
    "nombre_exposed        524\n",
    "nombre_recovered    16405\n",
    "Name: 256, dtype: int64"
   ]
  },
  {
   "cell_type": "markdown",
   "id": "90928bd2",
   "metadata": {},
   "source": [
    "nombre_infected       929\n",
    "nombre_sain          2101\n",
    "nombre_exposed        509\n",
    "nombre_recovered    16461\n",
    "Name: 257, dtype: int64"
   ]
  },
  {
   "cell_type": "markdown",
   "id": "9da9d55a",
   "metadata": {},
   "source": [
    "nombre_infected       901\n",
    "nombre_sain          2084\n",
    "nombre_exposed        497\n",
    "nombre_recovered    16518\n",
    "Name: 258, dtype: int64"
   ]
  },
  {
   "cell_type": "markdown",
   "id": "0ab094bf",
   "metadata": {},
   "source": [
    "nombre_infected       888\n",
    "nombre_sain          2041\n",
    "nombre_exposed        509\n",
    "nombre_recovered    16562\n",
    "Name: 259, dtype: int64"
   ]
  },
  {
   "cell_type": "markdown",
   "id": "8f121303",
   "metadata": {},
   "source": [
    "nombre_infected       880\n",
    "nombre_sain          2030\n",
    "nombre_exposed        499\n",
    "nombre_recovered    16591\n",
    "Name: 260, dtype: int64"
   ]
  },
  {
   "cell_type": "markdown",
   "id": "16a7c505",
   "metadata": {},
   "source": [
    "nombre_infected       877\n",
    "nombre_sain          1997\n",
    "nombre_exposed        497\n",
    "nombre_recovered    16629\n",
    "Name: 261, dtype: int64"
   ]
  },
  {
   "cell_type": "markdown",
   "id": "66844fa2",
   "metadata": {},
   "source": [
    "nombre_infected       863\n",
    "nombre_sain          1989\n",
    "nombre_exposed        480\n",
    "nombre_recovered    16668\n",
    "Name: 262, dtype: int64"
   ]
  },
  {
   "cell_type": "markdown",
   "id": "cbb36f0b",
   "metadata": {},
   "source": [
    "nombre_infected       853\n",
    "nombre_sain          1955\n",
    "nombre_exposed        499\n",
    "nombre_recovered    16693\n",
    "Name: 263, dtype: int64"
   ]
  },
  {
   "cell_type": "markdown",
   "id": "fbc99b96",
   "metadata": {},
   "source": [
    "nombre_infected       846\n",
    "nombre_sain          1923\n",
    "nombre_exposed        502\n",
    "nombre_recovered    16729\n",
    "Name: 264, dtype: int64"
   ]
  },
  {
   "cell_type": "markdown",
   "id": "9206392b",
   "metadata": {},
   "source": [
    "nombre_infected       856\n",
    "nombre_sain          1911\n",
    "nombre_exposed        478\n",
    "nombre_recovered    16755\n",
    "Name: 265, dtype: int64"
   ]
  },
  {
   "cell_type": "markdown",
   "id": "9ee1c3ce",
   "metadata": {},
   "source": [
    "nombre_infected       853\n",
    "nombre_sain          1901\n",
    "nombre_exposed        472\n",
    "nombre_recovered    16774\n",
    "Name: 266, dtype: int64"
   ]
  },
  {
   "cell_type": "markdown",
   "id": "04a8a53e",
   "metadata": {},
   "source": [
    "nombre_infected       832\n",
    "nombre_sain          1895\n",
    "nombre_exposed        474\n",
    "nombre_recovered    16799\n",
    "Name: 267, dtype: int64"
   ]
  },
  {
   "cell_type": "markdown",
   "id": "2977b85a",
   "metadata": {},
   "source": [
    "nombre_infected       825\n",
    "nombre_sain          1890\n",
    "nombre_exposed        455\n",
    "nombre_recovered    16830\n",
    "Name: 268, dtype: int64"
   ]
  },
  {
   "cell_type": "markdown",
   "id": "215e72f5",
   "metadata": {},
   "source": [
    "nombre_infected       805\n",
    "nombre_sain          1872\n",
    "nombre_exposed        457\n",
    "nombre_recovered    16866\n",
    "Name: 269, dtype: int64"
   ]
  },
  {
   "cell_type": "markdown",
   "id": "e1304542",
   "metadata": {},
   "source": [
    "nombre_infected       791\n",
    "nombre_sain          1883\n",
    "nombre_exposed        435\n",
    "nombre_recovered    16891\n",
    "Name: 270, dtype: int64"
   ]
  },
  {
   "cell_type": "markdown",
   "id": "6ca4fc82",
   "metadata": {},
   "source": [
    "nombre_infected       780\n",
    "nombre_sain          1886\n",
    "nombre_exposed        419\n",
    "nombre_recovered    16915\n",
    "Name: 271, dtype: int64"
   ]
  },
  {
   "cell_type": "markdown",
   "id": "68c1c130",
   "metadata": {},
   "source": [
    "nombre_infected       767\n",
    "nombre_sain          1887\n",
    "nombre_exposed        419\n",
    "nombre_recovered    16927\n",
    "Name: 272, dtype: int64"
   ]
  },
  {
   "cell_type": "markdown",
   "id": "ba0c8343",
   "metadata": {},
   "source": [
    "nombre_infected       759\n",
    "nombre_sain          1887\n",
    "nombre_exposed        408\n",
    "nombre_recovered    16946\n",
    "Name: 273, dtype: int64"
   ]
  },
  {
   "cell_type": "markdown",
   "id": "1a259e45",
   "metadata": {},
   "source": [
    "nombre_infected       757\n",
    "nombre_sain          1905\n",
    "nombre_exposed        384\n",
    "nombre_recovered    16954\n",
    "Name: 274, dtype: int64"
   ]
  },
  {
   "cell_type": "markdown",
   "id": "fe082a5d",
   "metadata": {},
   "source": [
    "nombre_infected       748\n",
    "nombre_sain          1909\n",
    "nombre_exposed        381\n",
    "nombre_recovered    16962\n",
    "Name: 275, dtype: int64"
   ]
  },
  {
   "cell_type": "markdown",
   "id": "43ef7ed9",
   "metadata": {},
   "source": [
    "nombre_infected       761\n",
    "nombre_sain          1935\n",
    "nombre_exposed        351\n",
    "nombre_recovered    16953\n",
    "Name: 276, dtype: int64"
   ]
  },
  {
   "cell_type": "markdown",
   "id": "a64c1c56",
   "metadata": {},
   "source": [
    "nombre_infected       738\n",
    "nombre_sain          1955\n",
    "nombre_exposed        354\n",
    "nombre_recovered    16953\n",
    "Name: 277, dtype: int64"
   ]
  },
  {
   "cell_type": "markdown",
   "id": "77351ab4",
   "metadata": {},
   "source": [
    "nombre_infected       711\n",
    "nombre_sain          1958\n",
    "nombre_exposed        361\n",
    "nombre_recovered    16970\n",
    "Name: 278, dtype: int64"
   ]
  },
  {
   "cell_type": "markdown",
   "id": "ebc98eeb",
   "metadata": {},
   "source": [
    "nombre_infected       689\n",
    "nombre_sain          1959\n",
    "nombre_exposed        369\n",
    "nombre_recovered    16983\n",
    "Name: 279, dtype: int64"
   ]
  },
  {
   "cell_type": "markdown",
   "id": "a8ee5008",
   "metadata": {},
   "source": [
    "nombre_infected       678\n",
    "nombre_sain          1968\n",
    "nombre_exposed        373\n",
    "nombre_recovered    16981\n",
    "Name: 280, dtype: int64"
   ]
  },
  {
   "cell_type": "markdown",
   "id": "0f1bf8aa",
   "metadata": {},
   "source": [
    "nombre_infected       656\n",
    "nombre_sain          1991\n",
    "nombre_exposed        386\n",
    "nombre_recovered    16967\n",
    "Name: 281, dtype: int64"
   ]
  },
  {
   "cell_type": "markdown",
   "id": "2ade4ee4",
   "metadata": {},
   "source": [
    "nombre_infected       656\n",
    "nombre_sain          2026\n",
    "nombre_exposed        383\n",
    "nombre_recovered    16935\n",
    "Name: 282, dtype: int64"
   ]
  },
  {
   "cell_type": "markdown",
   "id": "00de579e",
   "metadata": {},
   "source": [
    "nombre_infected       666\n",
    "nombre_sain          2039\n",
    "nombre_exposed        385\n",
    "nombre_recovered    16910\n",
    "Name: 283, dtype: int64"
   ]
  },
  {
   "cell_type": "markdown",
   "id": "057860c9",
   "metadata": {},
   "source": [
    "nombre_infected       646\n",
    "nombre_sain          2055\n",
    "nombre_exposed        390\n",
    "nombre_recovered    16909\n",
    "Name: 284, dtype: int64"
   ]
  },
  {
   "cell_type": "markdown",
   "id": "7458bb46",
   "metadata": {},
   "source": [
    "nombre_infected       648\n",
    "nombre_sain          2085\n",
    "nombre_exposed        380\n",
    "nombre_recovered    16887\n",
    "Name: 285, dtype: int64"
   ]
  },
  {
   "cell_type": "markdown",
   "id": "030eaa9e",
   "metadata": {},
   "source": [
    "nombre_infected       651\n",
    "nombre_sain          2101\n",
    "nombre_exposed        385\n",
    "nombre_recovered    16863\n",
    "Name: 286, dtype: int64"
   ]
  },
  {
   "cell_type": "markdown",
   "id": "b62157e4",
   "metadata": {},
   "source": [
    "nombre_infected       660\n",
    "nombre_sain          2142\n",
    "nombre_exposed        381\n",
    "nombre_recovered    16817\n",
    "Name: 287, dtype: int64"
   ]
  },
  {
   "cell_type": "markdown",
   "id": "687e03ac",
   "metadata": {},
   "source": [
    "nombre_infected       674\n",
    "nombre_sain          2144\n",
    "nombre_exposed        382\n",
    "nombre_recovered    16800\n",
    "Name: 288, dtype: int64"
   ]
  },
  {
   "cell_type": "markdown",
   "id": "5e86f05e",
   "metadata": {},
   "source": [
    "nombre_infected       678\n",
    "nombre_sain          2143\n",
    "nombre_exposed        400\n",
    "nombre_recovered    16779\n",
    "Name: 289, dtype: int64"
   ]
  },
  {
   "cell_type": "markdown",
   "id": "f2e299b2",
   "metadata": {},
   "source": [
    "nombre_infected       674\n",
    "nombre_sain          2152\n",
    "nombre_exposed        407\n",
    "nombre_recovered    16767\n",
    "Name: 290, dtype: int64"
   ]
  },
  {
   "cell_type": "markdown",
   "id": "67fe0ef5",
   "metadata": {},
   "source": [
    "nombre_infected       671\n",
    "nombre_sain          2158\n",
    "nombre_exposed        410\n",
    "nombre_recovered    16761\n",
    "Name: 291, dtype: int64"
   ]
  },
  {
   "cell_type": "markdown",
   "id": "3f1f1589",
   "metadata": {},
   "source": [
    "nombre_infected       679\n",
    "nombre_sain          2196\n",
    "nombre_exposed        398\n",
    "nombre_recovered    16727\n",
    "Name: 292, dtype: int64"
   ]
  },
  {
   "cell_type": "markdown",
   "id": "2357756d",
   "metadata": {},
   "source": [
    "nombre_infected       694\n",
    "nombre_sain          2215\n",
    "nombre_exposed        402\n",
    "nombre_recovered    16689\n",
    "Name: 293, dtype: int64"
   ]
  },
  {
   "cell_type": "markdown",
   "id": "1ae0d12d",
   "metadata": {},
   "source": [
    "nombre_infected       723\n",
    "nombre_sain          2233\n",
    "nombre_exposed        388\n",
    "nombre_recovered    16656\n",
    "Name: 294, dtype: int64"
   ]
  },
  {
   "cell_type": "markdown",
   "id": "ee6dc185",
   "metadata": {},
   "source": [
    "nombre_infected       728\n",
    "nombre_sain          2244\n",
    "nombre_exposed        385\n",
    "nombre_recovered    16643\n",
    "Name: 295, dtype: int64"
   ]
  },
  {
   "cell_type": "markdown",
   "id": "2cda0465",
   "metadata": {},
   "source": [
    "nombre_infected       737\n",
    "nombre_sain          2245\n",
    "nombre_exposed        394\n",
    "nombre_recovered    16624\n",
    "Name: 296, dtype: int64"
   ]
  },
  {
   "cell_type": "markdown",
   "id": "710cb0c3",
   "metadata": {},
   "source": [
    "nombre_infected       709\n",
    "nombre_sain          2264\n",
    "nombre_exposed        424\n",
    "nombre_recovered    16603\n",
    "Name: 297, dtype: int64"
   ]
  },
  {
   "cell_type": "markdown",
   "id": "8fbb33b5",
   "metadata": {},
   "source": [
    "nombre_infected       713\n",
    "nombre_sain          2298\n",
    "nombre_exposed        416\n",
    "nombre_recovered    16573\n",
    "Name: 298, dtype: int64"
   ]
  },
  {
   "cell_type": "markdown",
   "id": "959027e6",
   "metadata": {},
   "source": [
    "nombre_infected       746\n",
    "nombre_sain          2290\n",
    "nombre_exposed        417\n",
    "nombre_recovered    16547\n",
    "Name: 299, dtype: int64"
   ]
  },
  {
   "cell_type": "markdown",
   "id": "a2a5f8c6",
   "metadata": {},
   "source": [
    "nombre_infected       742\n",
    "nombre_sain          2278\n",
    "nombre_exposed        441\n",
    "nombre_recovered    16539\n",
    "Name: 300, dtype: int64"
   ]
  },
  {
   "cell_type": "markdown",
   "id": "d6d33a5c",
   "metadata": {},
   "source": [
    "nombre_infected       752\n",
    "nombre_sain          2257\n",
    "nombre_exposed        447\n",
    "nombre_recovered    16544\n",
    "Name: 301, dtype: int64"
   ]
  },
  {
   "cell_type": "markdown",
   "id": "6ce7ba4d",
   "metadata": {},
   "source": [
    "nombre_infected       763\n",
    "nombre_sain          2250\n",
    "nombre_exposed        440\n",
    "nombre_recovered    16547\n",
    "Name: 302, dtype: int64"
   ]
  },
  {
   "cell_type": "markdown",
   "id": "e1ee9ee8",
   "metadata": {},
   "source": [
    "nombre_infected       759\n",
    "nombre_sain          2246\n",
    "nombre_exposed        433\n",
    "nombre_recovered    16562\n",
    "Name: 303, dtype: int64"
   ]
  },
  {
   "cell_type": "markdown",
   "id": "2b5b4866",
   "metadata": {},
   "source": [
    "nombre_infected       762\n",
    "nombre_sain          2243\n",
    "nombre_exposed        449\n",
    "nombre_recovered    16546\n",
    "Name: 304, dtype: int64"
   ]
  },
  {
   "cell_type": "markdown",
   "id": "52cccf76",
   "metadata": {},
   "source": [
    "nombre_infected       765\n",
    "nombre_sain          2233\n",
    "nombre_exposed        455\n",
    "nombre_recovered    16547\n",
    "Name: 305, dtype: int64"
   ]
  },
  {
   "cell_type": "markdown",
   "id": "067995c5",
   "metadata": {},
   "source": [
    "nombre_infected       784\n",
    "nombre_sain          2240\n",
    "nombre_exposed        441\n",
    "nombre_recovered    16535\n",
    "Name: 306, dtype: int64"
   ]
  },
  {
   "cell_type": "markdown",
   "id": "efac6147",
   "metadata": {},
   "source": [
    "nombre_infected       791\n",
    "nombre_sain          2261\n",
    "nombre_exposed        437\n",
    "nombre_recovered    16511\n",
    "Name: 307, dtype: int64"
   ]
  },
  {
   "cell_type": "markdown",
   "id": "65cfe1d4",
   "metadata": {},
   "source": [
    "nombre_infected       798\n",
    "nombre_sain          2259\n",
    "nombre_exposed        438\n",
    "nombre_recovered    16505\n",
    "Name: 308, dtype: int64"
   ]
  },
  {
   "cell_type": "markdown",
   "id": "72b23746",
   "metadata": {},
   "source": [
    "nombre_infected       806\n",
    "nombre_sain          2256\n",
    "nombre_exposed        448\n",
    "nombre_recovered    16490\n",
    "Name: 309, dtype: int64"
   ]
  },
  {
   "cell_type": "markdown",
   "id": "62d5968d",
   "metadata": {},
   "source": [
    "nombre_infected       819\n",
    "nombre_sain          2255\n",
    "nombre_exposed        446\n",
    "nombre_recovered    16480\n",
    "Name: 310, dtype: int64"
   ]
  },
  {
   "cell_type": "markdown",
   "id": "dd34582c",
   "metadata": {},
   "source": [
    "nombre_infected       815\n",
    "nombre_sain          2262\n",
    "nombre_exposed        444\n",
    "nombre_recovered    16479\n",
    "Name: 311, dtype: int64"
   ]
  },
  {
   "cell_type": "markdown",
   "id": "4e9c9ecf",
   "metadata": {},
   "source": [
    "nombre_infected       798\n",
    "nombre_sain          2278\n",
    "nombre_exposed        444\n",
    "nombre_recovered    16480\n",
    "Name: 312, dtype: int64"
   ]
  },
  {
   "cell_type": "markdown",
   "id": "0b13951f",
   "metadata": {},
   "source": [
    "nombre_infected       783\n",
    "nombre_sain          2279\n",
    "nombre_exposed        466\n",
    "nombre_recovered    16472\n",
    "Name: 313, dtype: int64"
   ]
  },
  {
   "cell_type": "markdown",
   "id": "9683eb24",
   "metadata": {},
   "source": [
    "nombre_infected       779\n",
    "nombre_sain          2283\n",
    "nombre_exposed        472\n",
    "nombre_recovered    16466\n",
    "Name: 314, dtype: int64"
   ]
  },
  {
   "cell_type": "markdown",
   "id": "614a735c",
   "metadata": {},
   "source": [
    "nombre_infected       768\n",
    "nombre_sain          2293\n",
    "nombre_exposed        482\n",
    "nombre_recovered    16457\n",
    "Name: 315, dtype: int64"
   ]
  },
  {
   "cell_type": "markdown",
   "id": "5649c18c",
   "metadata": {},
   "source": [
    "nombre_infected       762\n",
    "nombre_sain          2284\n",
    "nombre_exposed        496\n",
    "nombre_recovered    16458\n",
    "Name: 316, dtype: int64"
   ]
  },
  {
   "cell_type": "markdown",
   "id": "fe7187fd",
   "metadata": {},
   "source": [
    "nombre_infected       764\n",
    "nombre_sain          2264\n",
    "nombre_exposed        500\n",
    "nombre_recovered    16472\n",
    "Name: 317, dtype: int64"
   ]
  },
  {
   "cell_type": "markdown",
   "id": "bc6a1b3d",
   "metadata": {},
   "source": [
    "nombre_infected       766\n",
    "nombre_sain          2272\n",
    "nombre_exposed        495\n",
    "nombre_recovered    16467\n",
    "Name: 318, dtype: int64"
   ]
  },
  {
   "cell_type": "markdown",
   "id": "bcb32cb0",
   "metadata": {},
   "source": [
    "nombre_infected       763\n",
    "nombre_sain          2235\n",
    "nombre_exposed        504\n",
    "nombre_recovered    16498\n",
    "Name: 319, dtype: int64"
   ]
  },
  {
   "cell_type": "markdown",
   "id": "acaf9ec2",
   "metadata": {},
   "source": [
    "nombre_infected       750\n",
    "nombre_sain          2257\n",
    "nombre_exposed        501\n",
    "nombre_recovered    16492\n",
    "Name: 320, dtype: int64"
   ]
  },
  {
   "cell_type": "markdown",
   "id": "98ef5056",
   "metadata": {},
   "source": [
    "nombre_infected       775\n",
    "nombre_sain          2240\n",
    "nombre_exposed        500\n",
    "nombre_recovered    16485\n",
    "Name: 321, dtype: int64"
   ]
  },
  {
   "cell_type": "markdown",
   "id": "16d62354",
   "metadata": {},
   "source": [
    "nombre_infected       806\n",
    "nombre_sain          2249\n",
    "nombre_exposed        490\n",
    "nombre_recovered    16455\n",
    "Name: 322, dtype: int64"
   ]
  },
  {
   "cell_type": "markdown",
   "id": "d26b196c",
   "metadata": {},
   "source": [
    "nombre_infected       811\n",
    "nombre_sain          2241\n",
    "nombre_exposed        478\n",
    "nombre_recovered    16470\n",
    "Name: 323, dtype: int64"
   ]
  },
  {
   "cell_type": "markdown",
   "id": "7709255c",
   "metadata": {},
   "source": [
    "nombre_infected       782\n",
    "nombre_sain          2242\n",
    "nombre_exposed        489\n",
    "nombre_recovered    16487\n",
    "Name: 324, dtype: int64"
   ]
  },
  {
   "cell_type": "markdown",
   "id": "585d867f",
   "metadata": {},
   "source": [
    "nombre_infected       807\n",
    "nombre_sain          2226\n",
    "nombre_exposed        492\n",
    "nombre_recovered    16475\n",
    "Name: 325, dtype: int64"
   ]
  },
  {
   "cell_type": "markdown",
   "id": "45160bf9",
   "metadata": {},
   "source": [
    "nombre_infected       790\n",
    "nombre_sain          2228\n",
    "nombre_exposed        484\n",
    "nombre_recovered    16498\n",
    "Name: 326, dtype: int64"
   ]
  },
  {
   "cell_type": "markdown",
   "id": "487a86f3",
   "metadata": {},
   "source": [
    "nombre_infected       813\n",
    "nombre_sain          2223\n",
    "nombre_exposed        477\n",
    "nombre_recovered    16487\n",
    "Name: 327, dtype: int64"
   ]
  },
  {
   "cell_type": "markdown",
   "id": "b018842d",
   "metadata": {},
   "source": [
    "nombre_infected       807\n",
    "nombre_sain          2224\n",
    "nombre_exposed        484\n",
    "nombre_recovered    16485\n",
    "Name: 328, dtype: int64"
   ]
  },
  {
   "cell_type": "markdown",
   "id": "0faa9640",
   "metadata": {},
   "source": [
    "nombre_infected       811\n",
    "nombre_sain          2228\n",
    "nombre_exposed        477\n",
    "nombre_recovered    16484\n",
    "Name: 329, dtype: int64"
   ]
  },
  {
   "cell_type": "markdown",
   "id": "7fc651c1",
   "metadata": {},
   "source": [
    "nombre_infected       824\n",
    "nombre_sain          2235\n",
    "nombre_exposed        472\n",
    "nombre_recovered    16469\n",
    "Name: 330, dtype: int64"
   ]
  },
  {
   "cell_type": "markdown",
   "id": "729b682d",
   "metadata": {},
   "source": [
    "nombre_infected       844\n",
    "nombre_sain          2205\n",
    "nombre_exposed        472\n",
    "nombre_recovered    16479\n",
    "Name: 331, dtype: int64"
   ]
  },
  {
   "cell_type": "markdown",
   "id": "3b89a8a6",
   "metadata": {},
   "source": [
    "nombre_infected       844\n",
    "nombre_sain          2190\n",
    "nombre_exposed        476\n",
    "nombre_recovered    16490\n",
    "Name: 332, dtype: int64"
   ]
  },
  {
   "cell_type": "markdown",
   "id": "b1db87ab",
   "metadata": {},
   "source": [
    "nombre_infected       856\n",
    "nombre_sain          2186\n",
    "nombre_exposed        458\n",
    "nombre_recovered    16500\n",
    "Name: 333, dtype: int64"
   ]
  },
  {
   "cell_type": "markdown",
   "id": "d27a2065",
   "metadata": {},
   "source": [
    "nombre_infected       859\n",
    "nombre_sain          2199\n",
    "nombre_exposed        448\n",
    "nombre_recovered    16494\n",
    "Name: 334, dtype: int64"
   ]
  },
  {
   "cell_type": "markdown",
   "id": "55c4ceaa",
   "metadata": {},
   "source": [
    "nombre_infected       836\n",
    "nombre_sain          2182\n",
    "nombre_exposed        471\n",
    "nombre_recovered    16511\n",
    "Name: 335, dtype: int64"
   ]
  },
  {
   "cell_type": "markdown",
   "id": "9ee1c057",
   "metadata": {},
   "source": [
    "nombre_infected       831\n",
    "nombre_sain          2190\n",
    "nombre_exposed        468\n",
    "nombre_recovered    16511\n",
    "Name: 336, dtype: int64"
   ]
  },
  {
   "cell_type": "markdown",
   "id": "2b429f85",
   "metadata": {},
   "source": [
    "nombre_infected       840\n",
    "nombre_sain          2188\n",
    "nombre_exposed        471\n",
    "nombre_recovered    16501\n",
    "Name: 337, dtype: int64"
   ]
  },
  {
   "cell_type": "markdown",
   "id": "4dacee86",
   "metadata": {},
   "source": [
    "nombre_infected       834\n",
    "nombre_sain          2205\n",
    "nombre_exposed        467\n",
    "nombre_recovered    16494\n",
    "Name: 338, dtype: int64"
   ]
  },
  {
   "cell_type": "markdown",
   "id": "5444e4ea",
   "metadata": {},
   "source": [
    "nombre_infected       839\n",
    "nombre_sain          2207\n",
    "nombre_exposed        460\n",
    "nombre_recovered    16494\n",
    "Name: 339, dtype: int64"
   ]
  },
  {
   "cell_type": "markdown",
   "id": "36c67bb8",
   "metadata": {},
   "source": [
    "nombre_infected       834\n",
    "nombre_sain          2184\n",
    "nombre_exposed        460\n",
    "nombre_recovered    16522\n",
    "Name: 340, dtype: int64"
   ]
  },
  {
   "cell_type": "markdown",
   "id": "c594f095",
   "metadata": {},
   "source": [
    "nombre_infected       837\n",
    "nombre_sain          2171\n",
    "nombre_exposed        463\n",
    "nombre_recovered    16529\n",
    "Name: 341, dtype: int64"
   ]
  },
  {
   "cell_type": "markdown",
   "id": "8f3bf597",
   "metadata": {},
   "source": [
    "nombre_infected       838\n",
    "nombre_sain          2149\n",
    "nombre_exposed        457\n",
    "nombre_recovered    16556\n",
    "Name: 342, dtype: int64"
   ]
  },
  {
   "cell_type": "markdown",
   "id": "20915e8d",
   "metadata": {},
   "source": [
    "nombre_infected       834\n",
    "nombre_sain          2158\n",
    "nombre_exposed        447\n",
    "nombre_recovered    16561\n",
    "Name: 343, dtype: int64"
   ]
  },
  {
   "cell_type": "markdown",
   "id": "64556a8d",
   "metadata": {},
   "source": [
    "nombre_infected       842\n",
    "nombre_sain          2164\n",
    "nombre_exposed        440\n",
    "nombre_recovered    16554\n",
    "Name: 344, dtype: int64"
   ]
  },
  {
   "cell_type": "markdown",
   "id": "3f86d1c8",
   "metadata": {},
   "source": [
    "nombre_infected       852\n",
    "nombre_sain          2159\n",
    "nombre_exposed        445\n",
    "nombre_recovered    16544\n",
    "Name: 345, dtype: int64"
   ]
  },
  {
   "cell_type": "markdown",
   "id": "020edb17",
   "metadata": {},
   "source": [
    "nombre_infected       853\n",
    "nombre_sain          2145\n",
    "nombre_exposed        441\n",
    "nombre_recovered    16561\n",
    "Name: 346, dtype: int64"
   ]
  },
  {
   "cell_type": "markdown",
   "id": "ce45ff33",
   "metadata": {},
   "source": [
    "nombre_infected       841\n",
    "nombre_sain          2144\n",
    "nombre_exposed        456\n",
    "nombre_recovered    16559\n",
    "Name: 347, dtype: int64"
   ]
  },
  {
   "cell_type": "markdown",
   "id": "4a084e4d",
   "metadata": {},
   "source": [
    "nombre_infected       873\n",
    "nombre_sain          2151\n",
    "nombre_exposed        442\n",
    "nombre_recovered    16534\n",
    "Name: 348, dtype: int64"
   ]
  },
  {
   "cell_type": "markdown",
   "id": "523d8a91",
   "metadata": {},
   "source": [
    "nombre_infected       889\n",
    "nombre_sain          2147\n",
    "nombre_exposed        421\n",
    "nombre_recovered    16543\n",
    "Name: 349, dtype: int64"
   ]
  },
  {
   "cell_type": "markdown",
   "id": "65af18c0",
   "metadata": {},
   "source": [
    "nombre_infected       871\n",
    "nombre_sain          2103\n",
    "nombre_exposed        447\n",
    "nombre_recovered    16579\n",
    "Name: 350, dtype: int64"
   ]
  },
  {
   "cell_type": "markdown",
   "id": "ba84c837",
   "metadata": {},
   "source": [
    "nombre_infected       849\n",
    "nombre_sain          2125\n",
    "nombre_exposed        444\n",
    "nombre_recovered    16582\n",
    "Name: 351, dtype: int64"
   ]
  },
  {
   "cell_type": "markdown",
   "id": "eea5ac4a",
   "metadata": {},
   "source": [
    "nombre_infected       871\n",
    "nombre_sain          2112\n",
    "nombre_exposed        454\n",
    "nombre_recovered    16563\n",
    "Name: 352, dtype: int64"
   ]
  },
  {
   "cell_type": "markdown",
   "id": "cbf7d491",
   "metadata": {},
   "source": [
    "nombre_infected       869\n",
    "nombre_sain          2105\n",
    "nombre_exposed        473\n",
    "nombre_recovered    16553\n",
    "Name: 353, dtype: int64"
   ]
  },
  {
   "cell_type": "markdown",
   "id": "c90ff50a",
   "metadata": {},
   "source": [
    "nombre_infected       851\n",
    "nombre_sain          2120\n",
    "nombre_exposed        494\n",
    "nombre_recovered    16535\n",
    "Name: 354, dtype: int64"
   ]
  },
  {
   "cell_type": "markdown",
   "id": "2381a547",
   "metadata": {},
   "source": [
    "nombre_infected       846\n",
    "nombre_sain          2122\n",
    "nombre_exposed        488\n",
    "nombre_recovered    16544\n",
    "Name: 355, dtype: int64"
   ]
  },
  {
   "cell_type": "markdown",
   "id": "b45bc1f9",
   "metadata": {},
   "source": [
    "nombre_infected       843\n",
    "nombre_sain          2136\n",
    "nombre_exposed        493\n",
    "nombre_recovered    16528\n",
    "Name: 356, dtype: int64"
   ]
  },
  {
   "cell_type": "markdown",
   "id": "916aa54c",
   "metadata": {},
   "source": [
    "nombre_infected       835\n",
    "nombre_sain          2150\n",
    "nombre_exposed        501\n",
    "nombre_recovered    16514\n",
    "Name: 357, dtype: int64"
   ]
  },
  {
   "cell_type": "markdown",
   "id": "92fd5dbc",
   "metadata": {},
   "source": [
    "nombre_infected       846\n",
    "nombre_sain          2140\n",
    "nombre_exposed        511\n",
    "nombre_recovered    16503\n",
    "Name: 358, dtype: int64"
   ]
  },
  {
   "cell_type": "markdown",
   "id": "0d82d651",
   "metadata": {},
   "source": [
    "nombre_infected       860\n",
    "nombre_sain          2137\n",
    "nombre_exposed        516\n",
    "nombre_recovered    16487\n",
    "Name: 359, dtype: int64"
   ]
  },
  {
   "cell_type": "markdown",
   "id": "ba7eec27",
   "metadata": {},
   "source": [
    "nombre_infected       885\n",
    "nombre_sain          2135\n",
    "nombre_exposed        500\n",
    "nombre_recovered    16480\n",
    "Name: 360, dtype: int64"
   ]
  },
  {
   "cell_type": "markdown",
   "id": "977f3176",
   "metadata": {},
   "source": [
    "nombre_infected       866\n",
    "nombre_sain          2167\n",
    "nombre_exposed        501\n",
    "nombre_recovered    16466\n",
    "Name: 361, dtype: int64"
   ]
  },
  {
   "cell_type": "markdown",
   "id": "46de3ae6",
   "metadata": {},
   "source": [
    "nombre_infected       857\n",
    "nombre_sain          2171\n",
    "nombre_exposed        504\n",
    "nombre_recovered    16468\n",
    "Name: 362, dtype: int64"
   ]
  },
  {
   "cell_type": "markdown",
   "id": "3e7f1d16",
   "metadata": {},
   "source": [
    "nombre_infected       866\n",
    "nombre_sain          2193\n",
    "nombre_exposed        472\n",
    "nombre_recovered    16469\n",
    "Name: 363, dtype: int64"
   ]
  },
  {
   "cell_type": "markdown",
   "id": "a577c0cc",
   "metadata": {},
   "source": [
    "nombre_infected       852\n",
    "nombre_sain          2192\n",
    "nombre_exposed        475\n",
    "nombre_recovered    16481\n",
    "Name: 364, dtype: int64"
   ]
  },
  {
   "cell_type": "markdown",
   "id": "01775933",
   "metadata": {},
   "source": [
    "nombre_infected       837\n",
    "nombre_sain          2196\n",
    "nombre_exposed        503\n",
    "nombre_recovered    16464\n",
    "Name: 365, dtype: int64"
   ]
  },
  {
   "cell_type": "markdown",
   "id": "1499a6c6",
   "metadata": {},
   "source": [
    "nombre_infected       843\n",
    "nombre_sain          2196\n",
    "nombre_exposed        513\n",
    "nombre_recovered    16448\n",
    "Name: 366, dtype: int64"
   ]
  },
  {
   "cell_type": "markdown",
   "id": "3ca1c094",
   "metadata": {},
   "source": [
    "nombre_infected       863\n",
    "nombre_sain          2203\n",
    "nombre_exposed        513\n",
    "nombre_recovered    16421\n",
    "Name: 367, dtype: int64"
   ]
  },
  {
   "cell_type": "markdown",
   "id": "ed6d3768",
   "metadata": {},
   "source": [
    "nombre_infected       887\n",
    "nombre_sain          2204\n",
    "nombre_exposed        519\n",
    "nombre_recovered    16390\n",
    "Name: 368, dtype: int64"
   ]
  },
  {
   "cell_type": "markdown",
   "id": "e40b1911",
   "metadata": {},
   "source": [
    "nombre_infected       920\n",
    "nombre_sain          2226\n",
    "nombre_exposed        517\n",
    "nombre_recovered    16337\n",
    "Name: 369, dtype: int64"
   ]
  },
  {
   "cell_type": "markdown",
   "id": "c61baeea",
   "metadata": {},
   "source": [
    "nombre_infected       930\n",
    "nombre_sain          2192\n",
    "nombre_exposed        518\n",
    "nombre_recovered    16360\n",
    "Name: 370, dtype: int64"
   ]
  },
  {
   "cell_type": "markdown",
   "id": "bf3057de",
   "metadata": {},
   "source": [
    "nombre_infected       942\n",
    "nombre_sain          2182\n",
    "nombre_exposed        526\n",
    "nombre_recovered    16350\n",
    "Name: 371, dtype: int64"
   ]
  },
  {
   "cell_type": "markdown",
   "id": "c384b2c4",
   "metadata": {},
   "source": [
    "nombre_infected       945\n",
    "nombre_sain          2195\n",
    "nombre_exposed        520\n",
    "nombre_recovered    16340\n",
    "Name: 372, dtype: int64"
   ]
  },
  {
   "cell_type": "markdown",
   "id": "c217e9a8",
   "metadata": {},
   "source": [
    "nombre_infected       972\n",
    "nombre_sain          2204\n",
    "nombre_exposed        491\n",
    "nombre_recovered    16333\n",
    "Name: 373, dtype: int64"
   ]
  },
  {
   "cell_type": "markdown",
   "id": "307ec7a7",
   "metadata": {},
   "source": [
    "nombre_infected       967\n",
    "nombre_sain          2194\n",
    "nombre_exposed        495\n",
    "nombre_recovered    16344\n",
    "Name: 374, dtype: int64"
   ]
  },
  {
   "cell_type": "markdown",
   "id": "59da252a",
   "metadata": {},
   "source": [
    "nombre_infected       947\n",
    "nombre_sain          2156\n",
    "nombre_exposed        520\n",
    "nombre_recovered    16377\n",
    "Name: 375, dtype: int64"
   ]
  },
  {
   "cell_type": "markdown",
   "id": "4bd5e30b",
   "metadata": {},
   "source": [
    "nombre_infected       935\n",
    "nombre_sain          2143\n",
    "nombre_exposed        520\n",
    "nombre_recovered    16402\n",
    "Name: 376, dtype: int64"
   ]
  },
  {
   "cell_type": "markdown",
   "id": "7312e245",
   "metadata": {},
   "source": [
    "nombre_infected       945\n",
    "nombre_sain          2099\n",
    "nombre_exposed        529\n",
    "nombre_recovered    16427\n",
    "Name: 377, dtype: int64"
   ]
  },
  {
   "cell_type": "markdown",
   "id": "4d7b7545",
   "metadata": {},
   "source": [
    "nombre_infected       956\n",
    "nombre_sain          2092\n",
    "nombre_exposed        517\n",
    "nombre_recovered    16435\n",
    "Name: 378, dtype: int64"
   ]
  },
  {
   "cell_type": "markdown",
   "id": "b66f994e",
   "metadata": {},
   "source": [
    "nombre_infected       983\n",
    "nombre_sain          2070\n",
    "nombre_exposed        488\n",
    "nombre_recovered    16459\n",
    "Name: 379, dtype: int64"
   ]
  },
  {
   "cell_type": "markdown",
   "id": "b92f75ad",
   "metadata": {},
   "source": [
    "nombre_infected       985\n",
    "nombre_sain          2052\n",
    "nombre_exposed        467\n",
    "nombre_recovered    16496\n",
    "Name: 380, dtype: int64"
   ]
  },
  {
   "cell_type": "markdown",
   "id": "98fc5bfe",
   "metadata": {},
   "source": [
    "nombre_infected       948\n",
    "nombre_sain          2031\n",
    "nombre_exposed        485\n",
    "nombre_recovered    16536\n",
    "Name: 381, dtype: int64"
   ]
  },
  {
   "cell_type": "markdown",
   "id": "c8a993ef",
   "metadata": {},
   "source": [
    "nombre_infected       951\n",
    "nombre_sain          2036\n",
    "nombre_exposed        479\n",
    "nombre_recovered    16534\n",
    "Name: 382, dtype: int64"
   ]
  },
  {
   "cell_type": "markdown",
   "id": "9696430e",
   "metadata": {},
   "source": [
    "nombre_infected       938\n",
    "nombre_sain          2045\n",
    "nombre_exposed        466\n",
    "nombre_recovered    16551\n",
    "Name: 383, dtype: int64"
   ]
  },
  {
   "cell_type": "markdown",
   "id": "ee07686b",
   "metadata": {},
   "source": [
    "nombre_infected       931\n",
    "nombre_sain          2022\n",
    "nombre_exposed        489\n",
    "nombre_recovered    16558\n",
    "Name: 384, dtype: int64"
   ]
  },
  {
   "cell_type": "markdown",
   "id": "74ddfda0",
   "metadata": {},
   "source": [
    "nombre_infected       932\n",
    "nombre_sain          2006\n",
    "nombre_exposed        473\n",
    "nombre_recovered    16589\n",
    "Name: 385, dtype: int64"
   ]
  },
  {
   "cell_type": "markdown",
   "id": "5d1edb59",
   "metadata": {},
   "source": [
    "nombre_infected       911\n",
    "nombre_sain          2012\n",
    "nombre_exposed        469\n",
    "nombre_recovered    16608\n",
    "Name: 386, dtype: int64"
   ]
  },
  {
   "cell_type": "markdown",
   "id": "0d94c8c7",
   "metadata": {},
   "source": [
    "nombre_infected       918\n",
    "nombre_sain          2021\n",
    "nombre_exposed        460\n",
    "nombre_recovered    16601\n",
    "Name: 387, dtype: int64"
   ]
  },
  {
   "cell_type": "markdown",
   "id": "8843c757",
   "metadata": {},
   "source": [
    "nombre_infected       925\n",
    "nombre_sain          2019\n",
    "nombre_exposed        445\n",
    "nombre_recovered    16611\n",
    "Name: 388, dtype: int64"
   ]
  },
  {
   "cell_type": "markdown",
   "id": "41d60b60",
   "metadata": {},
   "source": [
    "nombre_infected       897\n",
    "nombre_sain          2006\n",
    "nombre_exposed        451\n",
    "nombre_recovered    16646\n",
    "Name: 389, dtype: int64"
   ]
  },
  {
   "cell_type": "markdown",
   "id": "c473f413",
   "metadata": {},
   "source": [
    "nombre_infected       874\n",
    "nombre_sain          2016\n",
    "nombre_exposed        454\n",
    "nombre_recovered    16656\n",
    "Name: 390, dtype: int64"
   ]
  },
  {
   "cell_type": "markdown",
   "id": "031e0173",
   "metadata": {},
   "source": [
    "nombre_infected       899\n",
    "nombre_sain          2047\n",
    "nombre_exposed        406\n",
    "nombre_recovered    16648\n",
    "Name: 391, dtype: int64"
   ]
  },
  {
   "cell_type": "markdown",
   "id": "2360a8bd",
   "metadata": {},
   "source": [
    "nombre_infected       895\n",
    "nombre_sain          2043\n",
    "nombre_exposed        411\n",
    "nombre_recovered    16651\n",
    "Name: 392, dtype: int64"
   ]
  },
  {
   "cell_type": "markdown",
   "id": "583e3fe7",
   "metadata": {},
   "source": [
    "nombre_infected       854\n",
    "nombre_sain          2076\n",
    "nombre_exposed        418\n",
    "nombre_recovered    16652\n",
    "Name: 393, dtype: int64"
   ]
  },
  {
   "cell_type": "markdown",
   "id": "df0c8985",
   "metadata": {},
   "source": [
    "nombre_infected       858\n",
    "nombre_sain          2078\n",
    "nombre_exposed        411\n",
    "nombre_recovered    16653\n",
    "Name: 394, dtype: int64"
   ]
  },
  {
   "cell_type": "markdown",
   "id": "37c9c5b4",
   "metadata": {},
   "source": [
    "nombre_infected       847\n",
    "nombre_sain          2062\n",
    "nombre_exposed        432\n",
    "nombre_recovered    16659\n",
    "Name: 395, dtype: int64"
   ]
  },
  {
   "cell_type": "markdown",
   "id": "9b0097c2",
   "metadata": {},
   "source": [
    "nombre_infected       842\n",
    "nombre_sain          2065\n",
    "nombre_exposed        445\n",
    "nombre_recovered    16648\n",
    "Name: 396, dtype: int64"
   ]
  },
  {
   "cell_type": "markdown",
   "id": "cfcfc939",
   "metadata": {},
   "source": [
    "nombre_infected       837\n",
    "nombre_sain          2085\n",
    "nombre_exposed        443\n",
    "nombre_recovered    16635\n",
    "Name: 397, dtype: int64"
   ]
  },
  {
   "cell_type": "markdown",
   "id": "ab756df8",
   "metadata": {},
   "source": [
    "nombre_infected       850\n",
    "nombre_sain          2108\n",
    "nombre_exposed        423\n",
    "nombre_recovered    16619\n",
    "Name: 398, dtype: int64"
   ]
  },
  {
   "cell_type": "markdown",
   "id": "5cf60d38",
   "metadata": {},
   "source": [
    "nombre_infected       840\n",
    "nombre_sain          2096\n",
    "nombre_exposed        446\n",
    "nombre_recovered    16618\n",
    "Name: 399, dtype: int64"
   ]
  },
  {
   "cell_type": "markdown",
   "id": "b6ab4e1e",
   "metadata": {},
   "source": [
    "nombre_infected       839\n",
    "nombre_sain          2123\n",
    "nombre_exposed        461\n",
    "nombre_recovered    16577\n",
    "Name: 400, dtype: int64"
   ]
  },
  {
   "cell_type": "markdown",
   "id": "672a033f",
   "metadata": {},
   "source": [
    "nombre_infected       815\n",
    "nombre_sain          2125\n",
    "nombre_exposed        495\n",
    "nombre_recovered    16565\n",
    "Name: 401, dtype: int64"
   ]
  },
  {
   "cell_type": "markdown",
   "id": "0db4a30a",
   "metadata": {},
   "source": [
    "nombre_infected       807\n",
    "nombre_sain          2190\n",
    "nombre_exposed        475\n",
    "nombre_recovered    16528\n",
    "Name: 402, dtype: int64"
   ]
  },
  {
   "cell_type": "markdown",
   "id": "de253b22",
   "metadata": {},
   "source": [
    "nombre_infected       830\n",
    "nombre_sain          2203\n",
    "nombre_exposed        464\n",
    "nombre_recovered    16503\n",
    "Name: 403, dtype: int64"
   ]
  },
  {
   "cell_type": "markdown",
   "id": "00b943a5",
   "metadata": {},
   "source": [
    "nombre_infected       839\n",
    "nombre_sain          2221\n",
    "nombre_exposed        464\n",
    "nombre_recovered    16476\n",
    "Name: 404, dtype: int64"
   ]
  },
  {
   "cell_type": "markdown",
   "id": "2f42e742",
   "metadata": {},
   "source": [
    "nombre_infected       845\n",
    "nombre_sain          2240\n",
    "nombre_exposed        468\n",
    "nombre_recovered    16447\n",
    "Name: 405, dtype: int64"
   ]
  },
  {
   "cell_type": "markdown",
   "id": "59f1b2b4",
   "metadata": {},
   "source": [
    "nombre_infected       835\n",
    "nombre_sain          2249\n",
    "nombre_exposed        477\n",
    "nombre_recovered    16439\n",
    "Name: 406, dtype: int64"
   ]
  },
  {
   "cell_type": "markdown",
   "id": "c06043d7",
   "metadata": {},
   "source": [
    "nombre_infected       862\n",
    "nombre_sain          2256\n",
    "nombre_exposed        488\n",
    "nombre_recovered    16394\n",
    "Name: 407, dtype: int64"
   ]
  },
  {
   "cell_type": "markdown",
   "id": "a6126dc0",
   "metadata": {},
   "source": [
    "nombre_infected       851\n",
    "nombre_sain          2237\n",
    "nombre_exposed        529\n",
    "nombre_recovered    16383\n",
    "Name: 408, dtype: int64"
   ]
  },
  {
   "cell_type": "markdown",
   "id": "fe9614c9",
   "metadata": {},
   "source": [
    "nombre_infected       858\n",
    "nombre_sain          2247\n",
    "nombre_exposed        508\n",
    "nombre_recovered    16387\n",
    "Name: 409, dtype: int64"
   ]
  },
  {
   "cell_type": "markdown",
   "id": "1f745c37",
   "metadata": {},
   "source": [
    "nombre_infected       879\n",
    "nombre_sain          2242\n",
    "nombre_exposed        497\n",
    "nombre_recovered    16382\n",
    "Name: 410, dtype: int64"
   ]
  },
  {
   "cell_type": "markdown",
   "id": "24afde16",
   "metadata": {},
   "source": [
    "nombre_infected       882\n",
    "nombre_sain          2215\n",
    "nombre_exposed        520\n",
    "nombre_recovered    16383\n",
    "Name: 411, dtype: int64"
   ]
  },
  {
   "cell_type": "markdown",
   "id": "8c093205",
   "metadata": {},
   "source": [
    "nombre_infected       898\n",
    "nombre_sain          2206\n",
    "nombre_exposed        520\n",
    "nombre_recovered    16376\n",
    "Name: 412, dtype: int64"
   ]
  },
  {
   "cell_type": "markdown",
   "id": "df16290a",
   "metadata": {},
   "source": [
    "nombre_infected       888\n",
    "nombre_sain          2189\n",
    "nombre_exposed        533\n",
    "nombre_recovered    16390\n",
    "Name: 413, dtype: int64"
   ]
  },
  {
   "cell_type": "markdown",
   "id": "2d1a9ddb",
   "metadata": {},
   "source": [
    "nombre_infected       900\n",
    "nombre_sain          2187\n",
    "nombre_exposed        540\n",
    "nombre_recovered    16373\n",
    "Name: 414, dtype: int64"
   ]
  },
  {
   "cell_type": "markdown",
   "id": "07a58d69",
   "metadata": {},
   "source": [
    "nombre_infected       901\n",
    "nombre_sain          2179\n",
    "nombre_exposed        535\n",
    "nombre_recovered    16385\n",
    "Name: 415, dtype: int64"
   ]
  },
  {
   "cell_type": "markdown",
   "id": "c9ed9b3f",
   "metadata": {},
   "source": [
    "nombre_infected       895\n",
    "nombre_sain          2146\n",
    "nombre_exposed        561\n",
    "nombre_recovered    16398\n",
    "Name: 416, dtype: int64"
   ]
  },
  {
   "cell_type": "markdown",
   "id": "b6ded147",
   "metadata": {},
   "source": [
    "nombre_infected       891\n",
    "nombre_sain          2118\n",
    "nombre_exposed        586\n",
    "nombre_recovered    16405\n",
    "Name: 417, dtype: int64"
   ]
  },
  {
   "cell_type": "markdown",
   "id": "4a79b5f0",
   "metadata": {},
   "source": [
    "nombre_infected       906\n",
    "nombre_sain          2115\n",
    "nombre_exposed        565\n",
    "nombre_recovered    16414\n",
    "Name: 418, dtype: int64"
   ]
  },
  {
   "cell_type": "markdown",
   "id": "00ec93f0",
   "metadata": {},
   "source": [
    "nombre_infected       928\n",
    "nombre_sain          2101\n",
    "nombre_exposed        561\n",
    "nombre_recovered    16410\n",
    "Name: 419, dtype: int64"
   ]
  },
  {
   "cell_type": "markdown",
   "id": "3133b5df",
   "metadata": {},
   "source": [
    "nombre_infected       927\n",
    "nombre_sain          2082\n",
    "nombre_exposed        567\n",
    "nombre_recovered    16424\n",
    "Name: 420, dtype: int64"
   ]
  },
  {
   "cell_type": "markdown",
   "id": "3770683d",
   "metadata": {},
   "source": [
    "nombre_infected       931\n",
    "nombre_sain          2082\n",
    "nombre_exposed        557\n",
    "nombre_recovered    16430\n",
    "Name: 421, dtype: int64"
   ]
  },
  {
   "cell_type": "markdown",
   "id": "b8618e74",
   "metadata": {},
   "source": [
    "nombre_infected       928\n",
    "nombre_sain          2091\n",
    "nombre_exposed        554\n",
    "nombre_recovered    16427\n",
    "Name: 422, dtype: int64"
   ]
  },
  {
   "cell_type": "markdown",
   "id": "17a87705",
   "metadata": {},
   "source": [
    "nombre_infected       933\n",
    "nombre_sain          2127\n",
    "nombre_exposed        530\n",
    "nombre_recovered    16410\n",
    "Name: 423, dtype: int64"
   ]
  },
  {
   "cell_type": "markdown",
   "id": "4f51f402",
   "metadata": {},
   "source": [
    "nombre_infected       928\n",
    "nombre_sain          2125\n",
    "nombre_exposed        534\n",
    "nombre_recovered    16413\n",
    "Name: 424, dtype: int64"
   ]
  },
  {
   "cell_type": "markdown",
   "id": "60d740da",
   "metadata": {},
   "source": [
    "nombre_infected       943\n",
    "nombre_sain          2120\n",
    "nombre_exposed        524\n",
    "nombre_recovered    16413\n",
    "Name: 425, dtype: int64"
   ]
  },
  {
   "cell_type": "markdown",
   "id": "581941ce",
   "metadata": {},
   "source": [
    "nombre_infected       935\n",
    "nombre_sain          2140\n",
    "nombre_exposed        509\n",
    "nombre_recovered    16416\n",
    "Name: 426, dtype: int64"
   ]
  },
  {
   "cell_type": "markdown",
   "id": "7e003ea9",
   "metadata": {},
   "source": [
    "nombre_infected       922\n",
    "nombre_sain          2123\n",
    "nombre_exposed        534\n",
    "nombre_recovered    16421\n",
    "Name: 427, dtype: int64"
   ]
  },
  {
   "cell_type": "markdown",
   "id": "3c4c1cfc",
   "metadata": {},
   "source": [
    "nombre_infected       927\n",
    "nombre_sain          2102\n",
    "nombre_exposed        535\n",
    "nombre_recovered    16436\n",
    "Name: 428, dtype: int64"
   ]
  },
  {
   "cell_type": "markdown",
   "id": "955befd6",
   "metadata": {},
   "source": [
    "nombre_infected       936\n",
    "nombre_sain          2094\n",
    "nombre_exposed        546\n",
    "nombre_recovered    16424\n",
    "Name: 429, dtype: int64"
   ]
  },
  {
   "cell_type": "markdown",
   "id": "205f8826",
   "metadata": {},
   "source": [
    "nombre_infected       955\n",
    "nombre_sain          2100\n",
    "nombre_exposed        533\n",
    "nombre_recovered    16412\n",
    "Name: 430, dtype: int64"
   ]
  },
  {
   "cell_type": "markdown",
   "id": "3946a369",
   "metadata": {},
   "source": [
    "nombre_infected       947\n",
    "nombre_sain          2080\n",
    "nombre_exposed        537\n",
    "nombre_recovered    16436\n",
    "Name: 431, dtype: int64"
   ]
  },
  {
   "cell_type": "markdown",
   "id": "6fcc1df6",
   "metadata": {},
   "source": [
    "nombre_infected       938\n",
    "nombre_sain          2066\n",
    "nombre_exposed        550\n",
    "nombre_recovered    16446\n",
    "Name: 432, dtype: int64"
   ]
  },
  {
   "cell_type": "markdown",
   "id": "564f068f",
   "metadata": {},
   "source": [
    "nombre_infected       897\n",
    "nombre_sain          2073\n",
    "nombre_exposed        570\n",
    "nombre_recovered    16460\n",
    "Name: 433, dtype: int64"
   ]
  },
  {
   "cell_type": "markdown",
   "id": "7184c35f",
   "metadata": {},
   "source": [
    "nombre_infected       909\n",
    "nombre_sain          2050\n",
    "nombre_exposed        585\n",
    "nombre_recovered    16456\n",
    "Name: 434, dtype: int64"
   ]
  },
  {
   "cell_type": "markdown",
   "id": "fbcc7b22",
   "metadata": {},
   "source": [
    "nombre_infected       918\n",
    "nombre_sain          2079\n",
    "nombre_exposed        582\n",
    "nombre_recovered    16421\n",
    "Name: 435, dtype: int64"
   ]
  },
  {
   "cell_type": "markdown",
   "id": "5bed2263",
   "metadata": {},
   "source": [
    "nombre_infected       922\n",
    "nombre_sain          2081\n",
    "nombre_exposed        580\n",
    "nombre_recovered    16417\n",
    "Name: 436, dtype: int64"
   ]
  },
  {
   "cell_type": "markdown",
   "id": "85ccad4c",
   "metadata": {},
   "source": [
    "nombre_infected       908\n",
    "nombre_sain          2101\n",
    "nombre_exposed        570\n",
    "nombre_recovered    16421\n",
    "Name: 437, dtype: int64"
   ]
  },
  {
   "cell_type": "markdown",
   "id": "0acf0e9a",
   "metadata": {},
   "source": [
    "nombre_infected       919\n",
    "nombre_sain          2088\n",
    "nombre_exposed        556\n",
    "nombre_recovered    16437\n",
    "Name: 438, dtype: int64"
   ]
  },
  {
   "cell_type": "markdown",
   "id": "fa142b28",
   "metadata": {},
   "source": [
    "nombre_infected       940\n",
    "nombre_sain          2099\n",
    "nombre_exposed        551\n",
    "nombre_recovered    16410\n",
    "Name: 439, dtype: int64"
   ]
  },
  {
   "cell_type": "markdown",
   "id": "0b49423f",
   "metadata": {},
   "source": [
    "nombre_infected       939\n",
    "nombre_sain          2122\n",
    "nombre_exposed        524\n",
    "nombre_recovered    16415\n",
    "Name: 440, dtype: int64"
   ]
  },
  {
   "cell_type": "markdown",
   "id": "87f5cb3a",
   "metadata": {},
   "source": [
    "nombre_infected       907\n",
    "nombre_sain          2107\n",
    "nombre_exposed        556\n",
    "nombre_recovered    16430\n",
    "Name: 441, dtype: int64"
   ]
  },
  {
   "cell_type": "markdown",
   "id": "7c4834ea",
   "metadata": {},
   "source": [
    "nombre_infected       926\n",
    "nombre_sain          2084\n",
    "nombre_exposed        556\n",
    "nombre_recovered    16434\n",
    "Name: 442, dtype: int64"
   ]
  },
  {
   "cell_type": "markdown",
   "id": "d58b58db",
   "metadata": {},
   "source": [
    "nombre_infected       941\n",
    "nombre_sain          2072\n",
    "nombre_exposed        551\n",
    "nombre_recovered    16436\n",
    "Name: 443, dtype: int64"
   ]
  },
  {
   "cell_type": "markdown",
   "id": "b0a66091",
   "metadata": {},
   "source": [
    "nombre_infected       931\n",
    "nombre_sain          2070\n",
    "nombre_exposed        571\n",
    "nombre_recovered    16428\n",
    "Name: 444, dtype: int64"
   ]
  },
  {
   "cell_type": "markdown",
   "id": "5d34b8d4",
   "metadata": {},
   "source": [
    "nombre_infected       935\n",
    "nombre_sain          2096\n",
    "nombre_exposed        539\n",
    "nombre_recovered    16430\n",
    "Name: 445, dtype: int64"
   ]
  },
  {
   "cell_type": "markdown",
   "id": "6015cab8",
   "metadata": {},
   "source": [
    "nombre_infected       926\n",
    "nombre_sain          2103\n",
    "nombre_exposed        521\n",
    "nombre_recovered    16450\n",
    "Name: 446, dtype: int64"
   ]
  },
  {
   "cell_type": "markdown",
   "id": "c5e42724",
   "metadata": {},
   "source": [
    "nombre_infected       928\n",
    "nombre_sain          2099\n",
    "nombre_exposed        550\n",
    "nombre_recovered    16423\n",
    "Name: 447, dtype: int64"
   ]
  },
  {
   "cell_type": "markdown",
   "id": "d479b845",
   "metadata": {},
   "source": [
    "nombre_infected       925\n",
    "nombre_sain          2121\n",
    "nombre_exposed        537\n",
    "nombre_recovered    16417\n",
    "Name: 448, dtype: int64"
   ]
  },
  {
   "cell_type": "markdown",
   "id": "2187621b",
   "metadata": {},
   "source": [
    "nombre_infected       953\n",
    "nombre_sain          2128\n",
    "nombre_exposed        533\n",
    "nombre_recovered    16386\n",
    "Name: 449, dtype: int64"
   ]
  },
  {
   "cell_type": "markdown",
   "id": "13c01141",
   "metadata": {},
   "source": [
    "nombre_infected       960\n",
    "nombre_sain          2127\n",
    "nombre_exposed        522\n",
    "nombre_recovered    16391\n",
    "Name: 450, dtype: int64"
   ]
  },
  {
   "cell_type": "markdown",
   "id": "ea9fd045",
   "metadata": {},
   "source": [
    "nombre_infected       970\n",
    "nombre_sain          2116\n",
    "nombre_exposed        539\n",
    "nombre_recovered    16375\n",
    "Name: 451, dtype: int64"
   ]
  },
  {
   "cell_type": "markdown",
   "id": "bbfae1cd",
   "metadata": {},
   "source": [
    "nombre_infected       956\n",
    "nombre_sain          2086\n",
    "nombre_exposed        561\n",
    "nombre_recovered    16397\n",
    "Name: 452, dtype: int64"
   ]
  },
  {
   "cell_type": "markdown",
   "id": "f67ad366",
   "metadata": {},
   "source": [
    "nombre_infected       951\n",
    "nombre_sain          2053\n",
    "nombre_exposed        592\n",
    "nombre_recovered    16404\n",
    "Name: 453, dtype: int64"
   ]
  },
  {
   "cell_type": "markdown",
   "id": "92cd9ed8",
   "metadata": {},
   "source": [
    "nombre_infected       945\n",
    "nombre_sain          2029\n",
    "nombre_exposed        598\n",
    "nombre_recovered    16428\n",
    "Name: 454, dtype: int64"
   ]
  },
  {
   "cell_type": "markdown",
   "id": "20a212c2",
   "metadata": {},
   "source": [
    "nombre_infected       942\n",
    "nombre_sain          1990\n",
    "nombre_exposed        620\n",
    "nombre_recovered    16448\n",
    "Name: 455, dtype: int64"
   ]
  },
  {
   "cell_type": "markdown",
   "id": "c59f12c7",
   "metadata": {},
   "source": [
    "nombre_infected       960\n",
    "nombre_sain          1977\n",
    "nombre_exposed        587\n",
    "nombre_recovered    16476\n",
    "Name: 456, dtype: int64"
   ]
  },
  {
   "cell_type": "markdown",
   "id": "4b17f80c",
   "metadata": {},
   "source": [
    "nombre_infected       982\n",
    "nombre_sain          1980\n",
    "nombre_exposed        559\n",
    "nombre_recovered    16479\n",
    "Name: 457, dtype: int64"
   ]
  },
  {
   "cell_type": "markdown",
   "id": "56308d19",
   "metadata": {},
   "source": [
    "nombre_infected       989\n",
    "nombre_sain          1965\n",
    "nombre_exposed        540\n",
    "nombre_recovered    16506\n",
    "Name: 458, dtype: int64"
   ]
  },
  {
   "cell_type": "markdown",
   "id": "bbd80a27",
   "metadata": {},
   "source": [
    "nombre_infected       996\n",
    "nombre_sain          1939\n",
    "nombre_exposed        529\n",
    "nombre_recovered    16536\n",
    "Name: 459, dtype: int64"
   ]
  },
  {
   "cell_type": "markdown",
   "id": "92f6e6f6",
   "metadata": {},
   "source": [
    "nombre_infected      1001\n",
    "nombre_sain          1921\n",
    "nombre_exposed        533\n",
    "nombre_recovered    16545\n",
    "Name: 460, dtype: int64"
   ]
  },
  {
   "cell_type": "markdown",
   "id": "79ffcc61",
   "metadata": {},
   "source": [
    "nombre_infected       988\n",
    "nombre_sain          1898\n",
    "nombre_exposed        527\n",
    "nombre_recovered    16587\n",
    "Name: 461, dtype: int64"
   ]
  },
  {
   "cell_type": "markdown",
   "id": "3ade4653",
   "metadata": {},
   "source": [
    "nombre_infected       987\n",
    "nombre_sain          1866\n",
    "nombre_exposed        538\n",
    "nombre_recovered    16609\n",
    "Name: 462, dtype: int64"
   ]
  },
  {
   "cell_type": "markdown",
   "id": "7f4957db",
   "metadata": {},
   "source": [
    "nombre_infected       978\n",
    "nombre_sain          1865\n",
    "nombre_exposed        536\n",
    "nombre_recovered    16621\n",
    "Name: 463, dtype: int64"
   ]
  },
  {
   "cell_type": "markdown",
   "id": "c9546676",
   "metadata": {},
   "source": [
    "nombre_infected       990\n",
    "nombre_sain          1866\n",
    "nombre_exposed        528\n",
    "nombre_recovered    16616\n",
    "Name: 464, dtype: int64"
   ]
  },
  {
   "cell_type": "markdown",
   "id": "9a5210c0",
   "metadata": {},
   "source": [
    "nombre_infected       969\n",
    "nombre_sain          1853\n",
    "nombre_exposed        529\n",
    "nombre_recovered    16649\n",
    "Name: 465, dtype: int64"
   ]
  },
  {
   "cell_type": "markdown",
   "id": "1fa3702c",
   "metadata": {},
   "source": [
    "nombre_infected       958\n",
    "nombre_sain          1843\n",
    "nombre_exposed        518\n",
    "nombre_recovered    16681\n",
    "Name: 466, dtype: int64"
   ]
  },
  {
   "cell_type": "markdown",
   "id": "b192b8b2",
   "metadata": {},
   "source": [
    "nombre_infected       941\n",
    "nombre_sain          1839\n",
    "nombre_exposed        494\n",
    "nombre_recovered    16726\n",
    "Name: 467, dtype: int64"
   ]
  },
  {
   "cell_type": "markdown",
   "id": "bc637407",
   "metadata": {},
   "source": [
    "nombre_infected       925\n",
    "nombre_sain          1835\n",
    "nombre_exposed        493\n",
    "nombre_recovered    16747\n",
    "Name: 468, dtype: int64"
   ]
  },
  {
   "cell_type": "markdown",
   "id": "cd411a95",
   "metadata": {},
   "source": [
    "nombre_infected       910\n",
    "nombre_sain          1835\n",
    "nombre_exposed        502\n",
    "nombre_recovered    16753\n",
    "Name: 469, dtype: int64"
   ]
  },
  {
   "cell_type": "markdown",
   "id": "89b210cd",
   "metadata": {},
   "source": [
    "nombre_infected       919\n",
    "nombre_sain          1845\n",
    "nombre_exposed        485\n",
    "nombre_recovered    16751\n",
    "Name: 470, dtype: int64"
   ]
  },
  {
   "cell_type": "markdown",
   "id": "f1a698af",
   "metadata": {},
   "source": [
    "nombre_infected       887\n",
    "nombre_sain          1864\n",
    "nombre_exposed        465\n",
    "nombre_recovered    16784\n",
    "Name: 471, dtype: int64"
   ]
  },
  {
   "cell_type": "markdown",
   "id": "544b048c",
   "metadata": {},
   "source": [
    "nombre_infected       869\n",
    "nombre_sain          1892\n",
    "nombre_exposed        454\n",
    "nombre_recovered    16785\n",
    "Name: 472, dtype: int64"
   ]
  },
  {
   "cell_type": "markdown",
   "id": "53df6cf9",
   "metadata": {},
   "source": [
    "nombre_infected       841\n",
    "nombre_sain          1903\n",
    "nombre_exposed        455\n",
    "nombre_recovered    16801\n",
    "Name: 473, dtype: int64"
   ]
  },
  {
   "cell_type": "markdown",
   "id": "9f3e9b12",
   "metadata": {},
   "source": [
    "nombre_infected       833\n",
    "nombre_sain          1934\n",
    "nombre_exposed        434\n",
    "nombre_recovered    16799\n",
    "Name: 474, dtype: int64"
   ]
  },
  {
   "cell_type": "markdown",
   "id": "4428a81d",
   "metadata": {},
   "source": [
    "nombre_infected       834\n",
    "nombre_sain          1945\n",
    "nombre_exposed        437\n",
    "nombre_recovered    16784\n",
    "Name: 475, dtype: int64"
   ]
  },
  {
   "cell_type": "markdown",
   "id": "42c7a96d",
   "metadata": {},
   "source": [
    "nombre_infected       819\n",
    "nombre_sain          1972\n",
    "nombre_exposed        450\n",
    "nombre_recovered    16759\n",
    "Name: 476, dtype: int64"
   ]
  },
  {
   "cell_type": "markdown",
   "id": "58cc5512",
   "metadata": {},
   "source": [
    "nombre_infected       820\n",
    "nombre_sain          1970\n",
    "nombre_exposed        448\n",
    "nombre_recovered    16762\n",
    "Name: 477, dtype: int64"
   ]
  },
  {
   "cell_type": "markdown",
   "id": "efac9270",
   "metadata": {},
   "source": [
    "nombre_infected       829\n",
    "nombre_sain          1965\n",
    "nombre_exposed        445\n",
    "nombre_recovered    16761\n",
    "Name: 478, dtype: int64"
   ]
  },
  {
   "cell_type": "markdown",
   "id": "3209305f",
   "metadata": {},
   "source": [
    "nombre_infected       826\n",
    "nombre_sain          1985\n",
    "nombre_exposed        451\n",
    "nombre_recovered    16738\n",
    "Name: 479, dtype: int64"
   ]
  },
  {
   "cell_type": "markdown",
   "id": "466e5579",
   "metadata": {},
   "source": [
    "nombre_infected       820\n",
    "nombre_sain          1976\n",
    "nombre_exposed        466\n",
    "nombre_recovered    16738\n",
    "Name: 480, dtype: int64"
   ]
  },
  {
   "cell_type": "markdown",
   "id": "b9e31b38",
   "metadata": {},
   "source": [
    "nombre_infected       826\n",
    "nombre_sain          1996\n",
    "nombre_exposed        459\n",
    "nombre_recovered    16719\n",
    "Name: 481, dtype: int64"
   ]
  },
  {
   "cell_type": "markdown",
   "id": "0015c44f",
   "metadata": {},
   "source": [
    "nombre_infected       829\n",
    "nombre_sain          2006\n",
    "nombre_exposed        461\n",
    "nombre_recovered    16704\n",
    "Name: 482, dtype: int64"
   ]
  },
  {
   "cell_type": "markdown",
   "id": "1c9a78d9",
   "metadata": {},
   "source": [
    "nombre_infected       830\n",
    "nombre_sain          2021\n",
    "nombre_exposed        459\n",
    "nombre_recovered    16690\n",
    "Name: 483, dtype: int64"
   ]
  },
  {
   "cell_type": "markdown",
   "id": "913777e6",
   "metadata": {},
   "source": [
    "nombre_infected       813\n",
    "nombre_sain          2033\n",
    "nombre_exposed        449\n",
    "nombre_recovered    16705\n",
    "Name: 484, dtype: int64"
   ]
  },
  {
   "cell_type": "markdown",
   "id": "5c621895",
   "metadata": {},
   "source": [
    "nombre_infected       812\n",
    "nombre_sain          2045\n",
    "nombre_exposed        437\n",
    "nombre_recovered    16706\n",
    "Name: 485, dtype: int64"
   ]
  },
  {
   "cell_type": "markdown",
   "id": "c236e6f9",
   "metadata": {},
   "source": [
    "nombre_infected       820\n",
    "nombre_sain          2051\n",
    "nombre_exposed        432\n",
    "nombre_recovered    16697\n",
    "Name: 486, dtype: int64"
   ]
  },
  {
   "cell_type": "markdown",
   "id": "f18d5db3",
   "metadata": {},
   "source": [
    "nombre_infected       803\n",
    "nombre_sain          2056\n",
    "nombre_exposed        426\n",
    "nombre_recovered    16715\n",
    "Name: 487, dtype: int64"
   ]
  },
  {
   "cell_type": "markdown",
   "id": "bd91e9d1",
   "metadata": {},
   "source": [
    "nombre_infected       799\n",
    "nombre_sain          2087\n",
    "nombre_exposed        421\n",
    "nombre_recovered    16693\n",
    "Name: 488, dtype: int64"
   ]
  },
  {
   "cell_type": "markdown",
   "id": "a2fcf943",
   "metadata": {},
   "source": [
    "nombre_infected       812\n",
    "nombre_sain          2098\n",
    "nombre_exposed        414\n",
    "nombre_recovered    16676\n",
    "Name: 489, dtype: int64"
   ]
  },
  {
   "cell_type": "markdown",
   "id": "97366065",
   "metadata": {},
   "source": [
    "nombre_infected       811\n",
    "nombre_sain          2112\n",
    "nombre_exposed        404\n",
    "nombre_recovered    16673\n",
    "Name: 490, dtype: int64"
   ]
  },
  {
   "cell_type": "markdown",
   "id": "9de545f6",
   "metadata": {},
   "source": [
    "nombre_infected       807\n",
    "nombre_sain          2101\n",
    "nombre_exposed        414\n",
    "nombre_recovered    16678\n",
    "Name: 491, dtype: int64"
   ]
  },
  {
   "cell_type": "markdown",
   "id": "513b367d",
   "metadata": {},
   "source": [
    "nombre_infected       804\n",
    "nombre_sain          2087\n",
    "nombre_exposed        427\n",
    "nombre_recovered    16682\n",
    "Name: 492, dtype: int64"
   ]
  },
  {
   "cell_type": "markdown",
   "id": "f61e1a13",
   "metadata": {},
   "source": [
    "nombre_infected       798\n",
    "nombre_sain          2072\n",
    "nombre_exposed        430\n",
    "nombre_recovered    16700\n",
    "Name: 493, dtype: int64"
   ]
  },
  {
   "cell_type": "markdown",
   "id": "9cd4f740",
   "metadata": {},
   "source": [
    "nombre_infected       785\n",
    "nombre_sain          2060\n",
    "nombre_exposed        430\n",
    "nombre_recovered    16725\n",
    "Name: 494, dtype: int64"
   ]
  },
  {
   "cell_type": "markdown",
   "id": "64573a4e",
   "metadata": {},
   "source": [
    "nombre_infected       791\n",
    "nombre_sain          2049\n",
    "nombre_exposed        430\n",
    "nombre_recovered    16730\n",
    "Name: 495, dtype: int64"
   ]
  },
  {
   "cell_type": "markdown",
   "id": "a21f72b2",
   "metadata": {},
   "source": [
    "nombre_infected       811\n",
    "nombre_sain          2054\n",
    "nombre_exposed        422\n",
    "nombre_recovered    16713\n",
    "Name: 496, dtype: int64"
   ]
  },
  {
   "cell_type": "markdown",
   "id": "79dd2d2c",
   "metadata": {},
   "source": [
    "nombre_infected       793\n",
    "nombre_sain          2048\n",
    "nombre_exposed        437\n",
    "nombre_recovered    16722\n",
    "Name: 497, dtype: int64"
   ]
  },
  {
   "cell_type": "markdown",
   "id": "6f7d28ae",
   "metadata": {},
   "source": [
    "nombre_infected       813\n",
    "nombre_sain          2052\n",
    "nombre_exposed        428\n",
    "nombre_recovered    16707\n",
    "Name: 498, dtype: int64"
   ]
  },
  {
   "cell_type": "markdown",
   "id": "80abe358",
   "metadata": {},
   "source": [
    "nombre_infected       812\n",
    "nombre_sain          2039\n",
    "nombre_exposed        440\n",
    "nombre_recovered    16709\n",
    "Name: 499, dtype: int64"
   ]
  },
  {
   "cell_type": "markdown",
   "id": "c0b52f18",
   "metadata": {},
   "source": [
    "nombre_infected       827\n",
    "nombre_sain          2031\n",
    "nombre_exposed        440\n",
    "nombre_recovered    16702\n",
    "Name: 500, dtype: int64"
   ]
  },
  {
   "cell_type": "markdown",
   "id": "33311aa4",
   "metadata": {},
   "source": [
    "nombre_infected       825\n",
    "nombre_sain          2037\n",
    "nombre_exposed        438\n",
    "nombre_recovered    16700\n",
    "Name: 501, dtype: int64"
   ]
  },
  {
   "cell_type": "markdown",
   "id": "cc7f5a2b",
   "metadata": {},
   "source": [
    "nombre_infected       812\n",
    "nombre_sain          2034\n",
    "nombre_exposed        439\n",
    "nombre_recovered    16715\n",
    "Name: 502, dtype: int64"
   ]
  },
  {
   "cell_type": "markdown",
   "id": "636905f2",
   "metadata": {},
   "source": [
    "nombre_infected       805\n",
    "nombre_sain          2026\n",
    "nombre_exposed        451\n",
    "nombre_recovered    16718\n",
    "Name: 503, dtype: int64"
   ]
  },
  {
   "cell_type": "markdown",
   "id": "ff0efcdc",
   "metadata": {},
   "source": [
    "nombre_infected       822\n",
    "nombre_sain          2054\n",
    "nombre_exposed        436\n",
    "nombre_recovered    16688\n",
    "Name: 504, dtype: int64"
   ]
  },
  {
   "cell_type": "markdown",
   "id": "6e37a1df",
   "metadata": {},
   "source": [
    "nombre_infected       821\n",
    "nombre_sain          2060\n",
    "nombre_exposed        439\n",
    "nombre_recovered    16680\n",
    "Name: 505, dtype: int64"
   ]
  },
  {
   "cell_type": "markdown",
   "id": "add7494d",
   "metadata": {},
   "source": [
    "nombre_infected       843\n",
    "nombre_sain          2069\n",
    "nombre_exposed        425\n",
    "nombre_recovered    16663\n",
    "Name: 506, dtype: int64"
   ]
  },
  {
   "cell_type": "markdown",
   "id": "0af3c02b",
   "metadata": {},
   "source": [
    "nombre_infected       831\n",
    "nombre_sain          2107\n",
    "nombre_exposed        426\n",
    "nombre_recovered    16636\n",
    "Name: 507, dtype: int64"
   ]
  },
  {
   "cell_type": "markdown",
   "id": "9b60c751",
   "metadata": {},
   "source": [
    "nombre_infected       827\n",
    "nombre_sain          2148\n",
    "nombre_exposed        414\n",
    "nombre_recovered    16611\n",
    "Name: 508, dtype: int64"
   ]
  },
  {
   "cell_type": "markdown",
   "id": "dade0e78",
   "metadata": {},
   "source": [
    "nombre_infected       833\n",
    "nombre_sain          2155\n",
    "nombre_exposed        406\n",
    "nombre_recovered    16606\n",
    "Name: 509, dtype: int64"
   ]
  },
  {
   "cell_type": "markdown",
   "id": "e2e87542",
   "metadata": {},
   "source": [
    "nombre_infected       806\n",
    "nombre_sain          2163\n",
    "nombre_exposed        424\n",
    "nombre_recovered    16607\n",
    "Name: 510, dtype: int64"
   ]
  },
  {
   "cell_type": "markdown",
   "id": "5ead61d9",
   "metadata": {},
   "source": [
    "nombre_infected       781\n",
    "nombre_sain          2186\n",
    "nombre_exposed        452\n",
    "nombre_recovered    16581\n",
    "Name: 511, dtype: int64"
   ]
  },
  {
   "cell_type": "markdown",
   "id": "9a2ad940",
   "metadata": {},
   "source": [
    "nombre_infected       792\n",
    "nombre_sain          2193\n",
    "nombre_exposed        459\n",
    "nombre_recovered    16556\n",
    "Name: 512, dtype: int64"
   ]
  },
  {
   "cell_type": "markdown",
   "id": "88811639",
   "metadata": {},
   "source": [
    "nombre_infected       817\n",
    "nombre_sain          2193\n",
    "nombre_exposed        456\n",
    "nombre_recovered    16534\n",
    "Name: 513, dtype: int64"
   ]
  },
  {
   "cell_type": "markdown",
   "id": "0f2aa189",
   "metadata": {},
   "source": [
    "nombre_infected       828\n",
    "nombre_sain          2225\n",
    "nombre_exposed        436\n",
    "nombre_recovered    16511\n",
    "Name: 514, dtype: int64"
   ]
  },
  {
   "cell_type": "markdown",
   "id": "ecf1a983",
   "metadata": {},
   "source": [
    "nombre_infected       831\n",
    "nombre_sain          2202\n",
    "nombre_exposed        445\n",
    "nombre_recovered    16522\n",
    "Name: 515, dtype: int64"
   ]
  },
  {
   "cell_type": "markdown",
   "id": "d6017e0c",
   "metadata": {},
   "source": [
    "nombre_infected       816\n",
    "nombre_sain          2186\n",
    "nombre_exposed        461\n",
    "nombre_recovered    16537\n",
    "Name: 516, dtype: int64"
   ]
  },
  {
   "cell_type": "markdown",
   "id": "92879ee2",
   "metadata": {},
   "source": [
    "nombre_infected       802\n",
    "nombre_sain          2188\n",
    "nombre_exposed        479\n",
    "nombre_recovered    16531\n",
    "Name: 517, dtype: int64"
   ]
  },
  {
   "cell_type": "markdown",
   "id": "6a3316cf",
   "metadata": {},
   "source": [
    "nombre_infected       797\n",
    "nombre_sain          2142\n",
    "nombre_exposed        511\n",
    "nombre_recovered    16550\n",
    "Name: 518, dtype: int64"
   ]
  },
  {
   "cell_type": "markdown",
   "id": "740ffbab",
   "metadata": {},
   "source": [
    "nombre_infected       815\n",
    "nombre_sain          2123\n",
    "nombre_exposed        517\n",
    "nombre_recovered    16545\n",
    "Name: 519, dtype: int64"
   ]
  },
  {
   "cell_type": "markdown",
   "id": "d9e03732",
   "metadata": {},
   "source": [
    "nombre_infected       818\n",
    "nombre_sain          2120\n",
    "nombre_exposed        514\n",
    "nombre_recovered    16548\n",
    "Name: 520, dtype: int64"
   ]
  },
  {
   "cell_type": "markdown",
   "id": "6963e9ef",
   "metadata": {},
   "source": [
    "nombre_infected       830\n",
    "nombre_sain          2157\n",
    "nombre_exposed        478\n",
    "nombre_recovered    16535\n",
    "Name: 521, dtype: int64"
   ]
  },
  {
   "cell_type": "markdown",
   "id": "3d59de5b",
   "metadata": {},
   "source": [
    "nombre_infected       847\n",
    "nombre_sain          2114\n",
    "nombre_exposed        473\n",
    "nombre_recovered    16566\n",
    "Name: 522, dtype: int64"
   ]
  },
  {
   "cell_type": "markdown",
   "id": "3f2240ac",
   "metadata": {},
   "source": [
    "nombre_infected       855\n",
    "nombre_sain          2115\n",
    "nombre_exposed        486\n",
    "nombre_recovered    16544\n",
    "Name: 523, dtype: int64"
   ]
  },
  {
   "cell_type": "markdown",
   "id": "a362bd7a",
   "metadata": {},
   "source": [
    "nombre_infected       837\n",
    "nombre_sain          2127\n",
    "nombre_exposed        487\n",
    "nombre_recovered    16549\n",
    "Name: 524, dtype: int64"
   ]
  },
  {
   "cell_type": "markdown",
   "id": "b36bee00",
   "metadata": {},
   "source": [
    "nombre_infected       849\n",
    "nombre_sain          2102\n",
    "nombre_exposed        484\n",
    "nombre_recovered    16565\n",
    "Name: 525, dtype: int64"
   ]
  },
  {
   "cell_type": "markdown",
   "id": "bbb4cc22",
   "metadata": {},
   "source": [
    "nombre_infected       828\n",
    "nombre_sain          2111\n",
    "nombre_exposed        497\n",
    "nombre_recovered    16564\n",
    "Name: 526, dtype: int64"
   ]
  },
  {
   "cell_type": "markdown",
   "id": "c1bb33e2",
   "metadata": {},
   "source": [
    "nombre_infected       818\n",
    "nombre_sain          2097\n",
    "nombre_exposed        525\n",
    "nombre_recovered    16560\n",
    "Name: 527, dtype: int64"
   ]
  },
  {
   "cell_type": "markdown",
   "id": "7d859340",
   "metadata": {},
   "source": [
    "nombre_infected       850\n",
    "nombre_sain          2096\n",
    "nombre_exposed        501\n",
    "nombre_recovered    16553\n",
    "Name: 528, dtype: int64"
   ]
  },
  {
   "cell_type": "markdown",
   "id": "9626ff01",
   "metadata": {},
   "source": [
    "nombre_infected       883\n",
    "nombre_sain          2064\n",
    "nombre_exposed        498\n",
    "nombre_recovered    16555\n",
    "Name: 529, dtype: int64"
   ]
  },
  {
   "cell_type": "markdown",
   "id": "5dba5537",
   "metadata": {},
   "source": [
    "nombre_infected       915\n",
    "nombre_sain          2039\n",
    "nombre_exposed        480\n",
    "nombre_recovered    16566\n",
    "Name: 530, dtype: int64"
   ]
  },
  {
   "cell_type": "markdown",
   "id": "72d9ac0d",
   "metadata": {},
   "source": [
    "nombre_infected       910\n",
    "nombre_sain          2017\n",
    "nombre_exposed        498\n",
    "nombre_recovered    16575\n",
    "Name: 531, dtype: int64"
   ]
  },
  {
   "cell_type": "markdown",
   "id": "fb94996f",
   "metadata": {},
   "source": [
    "nombre_infected       908\n",
    "nombre_sain          2026\n",
    "nombre_exposed        498\n",
    "nombre_recovered    16568\n",
    "Name: 532, dtype: int64"
   ]
  },
  {
   "cell_type": "markdown",
   "id": "7c1cdbfc",
   "metadata": {},
   "source": [
    "nombre_infected       924\n",
    "nombre_sain          2021\n",
    "nombre_exposed        473\n",
    "nombre_recovered    16582\n",
    "Name: 533, dtype: int64"
   ]
  },
  {
   "cell_type": "markdown",
   "id": "d1219e68",
   "metadata": {},
   "source": [
    "nombre_infected       938\n",
    "nombre_sain          2011\n",
    "nombre_exposed        449\n",
    "nombre_recovered    16602\n",
    "Name: 534, dtype: int64"
   ]
  },
  {
   "cell_type": "markdown",
   "id": "91b168f8",
   "metadata": {},
   "source": [
    "nombre_infected       928\n",
    "nombre_sain          2004\n",
    "nombre_exposed        456\n",
    "nombre_recovered    16612\n",
    "Name: 535, dtype: int64"
   ]
  },
  {
   "cell_type": "markdown",
   "id": "723f1599",
   "metadata": {},
   "source": [
    "nombre_infected       920\n",
    "nombre_sain          2003\n",
    "nombre_exposed        456\n",
    "nombre_recovered    16621\n",
    "Name: 536, dtype: int64"
   ]
  },
  {
   "cell_type": "markdown",
   "id": "1f9e6005",
   "metadata": {},
   "source": [
    "nombre_infected       923\n",
    "nombre_sain          1997\n",
    "nombre_exposed        453\n",
    "nombre_recovered    16627\n",
    "Name: 537, dtype: int64"
   ]
  },
  {
   "cell_type": "markdown",
   "id": "6a8ff793",
   "metadata": {},
   "source": [
    "nombre_infected       922\n",
    "nombre_sain          1960\n",
    "nombre_exposed        458\n",
    "nombre_recovered    16660\n",
    "Name: 538, dtype: int64"
   ]
  },
  {
   "cell_type": "markdown",
   "id": "5950f483",
   "metadata": {},
   "source": [
    "nombre_infected       919\n",
    "nombre_sain          1956\n",
    "nombre_exposed        467\n",
    "nombre_recovered    16658\n",
    "Name: 539, dtype: int64"
   ]
  },
  {
   "cell_type": "markdown",
   "id": "8711dca4",
   "metadata": {},
   "source": [
    "nombre_infected       907\n",
    "nombre_sain          1945\n",
    "nombre_exposed        472\n",
    "nombre_recovered    16676\n",
    "Name: 540, dtype: int64"
   ]
  },
  {
   "cell_type": "markdown",
   "id": "cdf9de3b",
   "metadata": {},
   "source": [
    "nombre_infected       889\n",
    "nombre_sain          1955\n",
    "nombre_exposed        489\n",
    "nombre_recovered    16667\n",
    "Name: 541, dtype: int64"
   ]
  },
  {
   "cell_type": "markdown",
   "id": "17b81a51",
   "metadata": {},
   "source": [
    "nombre_infected       876\n",
    "nombre_sain          1956\n",
    "nombre_exposed        478\n",
    "nombre_recovered    16690\n",
    "Name: 542, dtype: int64"
   ]
  },
  {
   "cell_type": "markdown",
   "id": "0586381f",
   "metadata": {},
   "source": [
    "nombre_infected       893\n",
    "nombre_sain          1925\n",
    "nombre_exposed        502\n",
    "nombre_recovered    16680\n",
    "Name: 543, dtype: int64"
   ]
  },
  {
   "cell_type": "markdown",
   "id": "2e2083d5",
   "metadata": {},
   "source": [
    "nombre_infected       905\n",
    "nombre_sain          1962\n",
    "nombre_exposed        472\n",
    "nombre_recovered    16661\n",
    "Name: 544, dtype: int64"
   ]
  },
  {
   "cell_type": "markdown",
   "id": "db40e2e6",
   "metadata": {},
   "source": [
    "nombre_infected       905\n",
    "nombre_sain          1961\n",
    "nombre_exposed        468\n",
    "nombre_recovered    16666\n",
    "Name: 545, dtype: int64"
   ]
  },
  {
   "cell_type": "markdown",
   "id": "e1215369",
   "metadata": {},
   "source": [
    "nombre_infected       904\n",
    "nombre_sain          1980\n",
    "nombre_exposed        462\n",
    "nombre_recovered    16654\n",
    "Name: 546, dtype: int64"
   ]
  },
  {
   "cell_type": "markdown",
   "id": "b4f1f4f7",
   "metadata": {},
   "source": [
    "nombre_infected       917\n",
    "nombre_sain          1978\n",
    "nombre_exposed        478\n",
    "nombre_recovered    16627\n",
    "Name: 547, dtype: int64"
   ]
  },
  {
   "cell_type": "markdown",
   "id": "e01f77c4",
   "metadata": {},
   "source": [
    "nombre_infected       893\n",
    "nombre_sain          1991\n",
    "nombre_exposed        493\n",
    "nombre_recovered    16623\n",
    "Name: 548, dtype: int64"
   ]
  },
  {
   "cell_type": "markdown",
   "id": "4d5dee1f",
   "metadata": {},
   "source": [
    "nombre_infected       895\n",
    "nombre_sain          1974\n",
    "nombre_exposed        517\n",
    "nombre_recovered    16614\n",
    "Name: 549, dtype: int64"
   ]
  },
  {
   "cell_type": "markdown",
   "id": "38179e9b",
   "metadata": {},
   "source": [
    "nombre_infected       900\n",
    "nombre_sain          1977\n",
    "nombre_exposed        498\n",
    "nombre_recovered    16625\n",
    "Name: 550, dtype: int64"
   ]
  },
  {
   "cell_type": "markdown",
   "id": "5de827ff",
   "metadata": {},
   "source": [
    "nombre_infected       890\n",
    "nombre_sain          1964\n",
    "nombre_exposed        494\n",
    "nombre_recovered    16652\n",
    "Name: 551, dtype: int64"
   ]
  },
  {
   "cell_type": "markdown",
   "id": "9fea5644",
   "metadata": {},
   "source": [
    "nombre_infected       922\n",
    "nombre_sain          1987\n",
    "nombre_exposed        466\n",
    "nombre_recovered    16625\n",
    "Name: 552, dtype: int64"
   ]
  },
  {
   "cell_type": "markdown",
   "id": "612006e8",
   "metadata": {},
   "source": [
    "nombre_infected       930\n",
    "nombre_sain          2007\n",
    "nombre_exposed        444\n",
    "nombre_recovered    16619\n",
    "Name: 553, dtype: int64"
   ]
  },
  {
   "cell_type": "markdown",
   "id": "c4d0bc10",
   "metadata": {},
   "source": [
    "nombre_infected       918\n",
    "nombre_sain          1985\n",
    "nombre_exposed        451\n",
    "nombre_recovered    16646\n",
    "Name: 554, dtype: int64"
   ]
  },
  {
   "cell_type": "markdown",
   "id": "473cc89d",
   "metadata": {},
   "source": [
    "nombre_infected       896\n",
    "nombre_sain          1967\n",
    "nombre_exposed        476\n",
    "nombre_recovered    16661\n",
    "Name: 555, dtype: int64"
   ]
  },
  {
   "cell_type": "markdown",
   "id": "8dca38a7",
   "metadata": {},
   "source": [
    "nombre_infected       877\n",
    "nombre_sain          1932\n",
    "nombre_exposed        507\n",
    "nombre_recovered    16684\n",
    "Name: 556, dtype: int64"
   ]
  },
  {
   "cell_type": "markdown",
   "id": "954cce4c",
   "metadata": {},
   "source": [
    "nombre_infected       874\n",
    "nombre_sain          1910\n",
    "nombre_exposed        515\n",
    "nombre_recovered    16701\n",
    "Name: 557, dtype: int64"
   ]
  },
  {
   "cell_type": "markdown",
   "id": "7e478e2c",
   "metadata": {},
   "source": [
    "nombre_infected       894\n",
    "nombre_sain          1902\n",
    "nombre_exposed        506\n",
    "nombre_recovered    16698\n",
    "Name: 558, dtype: int64"
   ]
  },
  {
   "cell_type": "markdown",
   "id": "ea3134cf",
   "metadata": {},
   "source": [
    "nombre_infected       914\n",
    "nombre_sain          1909\n",
    "nombre_exposed        471\n",
    "nombre_recovered    16706\n",
    "Name: 559, dtype: int64"
   ]
  },
  {
   "cell_type": "markdown",
   "id": "7c053de5",
   "metadata": {},
   "source": [
    "nombre_infected       901\n",
    "nombre_sain          1903\n",
    "nombre_exposed        484\n",
    "nombre_recovered    16712\n",
    "Name: 560, dtype: int64"
   ]
  },
  {
   "cell_type": "markdown",
   "id": "8c4d504b",
   "metadata": {},
   "source": [
    "nombre_infected       934\n",
    "nombre_sain          1903\n",
    "nombre_exposed        469\n",
    "nombre_recovered    16694\n",
    "Name: 561, dtype: int64"
   ]
  },
  {
   "cell_type": "markdown",
   "id": "e2025739",
   "metadata": {},
   "source": [
    "nombre_infected       922\n",
    "nombre_sain          1914\n",
    "nombre_exposed        463\n",
    "nombre_recovered    16701\n",
    "Name: 562, dtype: int64"
   ]
  },
  {
   "cell_type": "markdown",
   "id": "268749a4",
   "metadata": {},
   "source": [
    "nombre_infected       917\n",
    "nombre_sain          1924\n",
    "nombre_exposed        451\n",
    "nombre_recovered    16708\n",
    "Name: 563, dtype: int64"
   ]
  },
  {
   "cell_type": "markdown",
   "id": "09598961",
   "metadata": {},
   "source": [
    "nombre_infected       888\n",
    "nombre_sain          1908\n",
    "nombre_exposed        486\n",
    "nombre_recovered    16718\n",
    "Name: 564, dtype: int64"
   ]
  },
  {
   "cell_type": "markdown",
   "id": "709fb53e",
   "metadata": {},
   "source": [
    "nombre_infected       865\n",
    "nombre_sain          1912\n",
    "nombre_exposed        496\n",
    "nombre_recovered    16727\n",
    "Name: 565, dtype: int64"
   ]
  },
  {
   "cell_type": "markdown",
   "id": "ac914f14",
   "metadata": {},
   "source": [
    "nombre_infected       831\n",
    "nombre_sain          1923\n",
    "nombre_exposed        489\n",
    "nombre_recovered    16757\n",
    "Name: 566, dtype: int64"
   ]
  },
  {
   "cell_type": "markdown",
   "id": "2e04f2bc",
   "metadata": {},
   "source": [
    "nombre_infected       843\n",
    "nombre_sain          1954\n",
    "nombre_exposed        466\n",
    "nombre_recovered    16737\n",
    "Name: 567, dtype: int64"
   ]
  },
  {
   "cell_type": "markdown",
   "id": "912c755d",
   "metadata": {},
   "source": [
    "nombre_infected       855\n",
    "nombre_sain          1969\n",
    "nombre_exposed        453\n",
    "nombre_recovered    16723\n",
    "Name: 568, dtype: int64"
   ]
  },
  {
   "cell_type": "markdown",
   "id": "6c4ce0a0",
   "metadata": {},
   "source": [
    "nombre_infected       855\n",
    "nombre_sain          1988\n",
    "nombre_exposed        445\n",
    "nombre_recovered    16712\n",
    "Name: 569, dtype: int64"
   ]
  },
  {
   "cell_type": "markdown",
   "id": "857348d2",
   "metadata": {},
   "source": [
    "nombre_infected       830\n",
    "nombre_sain          1990\n",
    "nombre_exposed        442\n",
    "nombre_recovered    16738\n",
    "Name: 570, dtype: int64"
   ]
  },
  {
   "cell_type": "markdown",
   "id": "35182c61",
   "metadata": {},
   "source": [
    "nombre_infected       836\n",
    "nombre_sain          1979\n",
    "nombre_exposed        448\n",
    "nombre_recovered    16737\n",
    "Name: 571, dtype: int64"
   ]
  },
  {
   "cell_type": "markdown",
   "id": "fd0b0bf8",
   "metadata": {},
   "source": [
    "nombre_infected       823\n",
    "nombre_sain          1977\n",
    "nombre_exposed        467\n",
    "nombre_recovered    16733\n",
    "Name: 572, dtype: int64"
   ]
  },
  {
   "cell_type": "markdown",
   "id": "da4fbce4",
   "metadata": {},
   "source": [
    "nombre_infected       818\n",
    "nombre_sain          2003\n",
    "nombre_exposed        461\n",
    "nombre_recovered    16718\n",
    "Name: 573, dtype: int64"
   ]
  },
  {
   "cell_type": "markdown",
   "id": "4509e6c2",
   "metadata": {},
   "source": [
    "nombre_infected       832\n",
    "nombre_sain          1988\n",
    "nombre_exposed        442\n",
    "nombre_recovered    16738\n",
    "Name: 574, dtype: int64"
   ]
  },
  {
   "cell_type": "markdown",
   "id": "9ef1603a",
   "metadata": {},
   "source": [
    "nombre_infected       814\n",
    "nombre_sain          1973\n",
    "nombre_exposed        472\n",
    "nombre_recovered    16741\n",
    "Name: 575, dtype: int64"
   ]
  },
  {
   "cell_type": "markdown",
   "id": "28e8c1a6",
   "metadata": {},
   "source": [
    "nombre_infected       794\n",
    "nombre_sain          1992\n",
    "nombre_exposed        466\n",
    "nombre_recovered    16748\n",
    "Name: 576, dtype: int64"
   ]
  },
  {
   "cell_type": "markdown",
   "id": "6b76570f",
   "metadata": {},
   "source": [
    "nombre_infected       792\n",
    "nombre_sain          1983\n",
    "nombre_exposed        487\n",
    "nombre_recovered    16738\n",
    "Name: 577, dtype: int64"
   ]
  },
  {
   "cell_type": "markdown",
   "id": "224a1226",
   "metadata": {},
   "source": [
    "nombre_infected       808\n",
    "nombre_sain          2005\n",
    "nombre_exposed        487\n",
    "nombre_recovered    16700\n",
    "Name: 578, dtype: int64"
   ]
  },
  {
   "cell_type": "markdown",
   "id": "04e3552d",
   "metadata": {},
   "source": [
    "nombre_infected       812\n",
    "nombre_sain          2019\n",
    "nombre_exposed        460\n",
    "nombre_recovered    16709\n",
    "Name: 579, dtype: int64"
   ]
  },
  {
   "cell_type": "markdown",
   "id": "ef9b0ee3",
   "metadata": {},
   "source": [
    "nombre_infected       820\n",
    "nombre_sain          2025\n",
    "nombre_exposed        451\n",
    "nombre_recovered    16704\n",
    "Name: 580, dtype: int64"
   ]
  },
  {
   "cell_type": "markdown",
   "id": "4d2d13a1",
   "metadata": {},
   "source": [
    "nombre_infected       810\n",
    "nombre_sain          2028\n",
    "nombre_exposed        454\n",
    "nombre_recovered    16708\n",
    "Name: 581, dtype: int64"
   ]
  },
  {
   "cell_type": "markdown",
   "id": "fbd21e2f",
   "metadata": {},
   "source": [
    "nombre_infected       809\n",
    "nombre_sain          2076\n",
    "nombre_exposed        435\n",
    "nombre_recovered    16680\n",
    "Name: 582, dtype: int64"
   ]
  },
  {
   "cell_type": "markdown",
   "id": "837bb413",
   "metadata": {},
   "source": [
    "nombre_infected       823\n",
    "nombre_sain          2052\n",
    "nombre_exposed        438\n",
    "nombre_recovered    16687\n",
    "Name: 583, dtype: int64"
   ]
  },
  {
   "cell_type": "markdown",
   "id": "9c1474de",
   "metadata": {},
   "source": [
    "nombre_infected       789\n",
    "nombre_sain          2059\n",
    "nombre_exposed        462\n",
    "nombre_recovered    16690\n",
    "Name: 584, dtype: int64"
   ]
  },
  {
   "cell_type": "markdown",
   "id": "195a69dc",
   "metadata": {},
   "source": [
    "nombre_infected       807\n",
    "nombre_sain          2069\n",
    "nombre_exposed        438\n",
    "nombre_recovered    16686\n",
    "Name: 585, dtype: int64"
   ]
  },
  {
   "cell_type": "markdown",
   "id": "0953452f",
   "metadata": {},
   "source": [
    "nombre_infected       807\n",
    "nombre_sain          2085\n",
    "nombre_exposed        431\n",
    "nombre_recovered    16677\n",
    "Name: 586, dtype: int64"
   ]
  },
  {
   "cell_type": "markdown",
   "id": "a391362e",
   "metadata": {},
   "source": [
    "nombre_infected       816\n",
    "nombre_sain          2088\n",
    "nombre_exposed        433\n",
    "nombre_recovered    16663\n",
    "Name: 587, dtype: int64"
   ]
  },
  {
   "cell_type": "markdown",
   "id": "a5a81fb5",
   "metadata": {},
   "source": [
    "nombre_infected       796\n",
    "nombre_sain          2090\n",
    "nombre_exposed        448\n",
    "nombre_recovered    16666\n",
    "Name: 588, dtype: int64"
   ]
  },
  {
   "cell_type": "markdown",
   "id": "23c5be1a",
   "metadata": {},
   "source": [
    "nombre_infected       800\n",
    "nombre_sain          2090\n",
    "nombre_exposed        440\n",
    "nombre_recovered    16670\n",
    "Name: 589, dtype: int64"
   ]
  },
  {
   "cell_type": "markdown",
   "id": "7e8b5589",
   "metadata": {},
   "source": [
    "nombre_infected       786\n",
    "nombre_sain          2104\n",
    "nombre_exposed        452\n",
    "nombre_recovered    16658\n",
    "Name: 590, dtype: int64"
   ]
  },
  {
   "cell_type": "markdown",
   "id": "963e2a5f",
   "metadata": {},
   "source": [
    "nombre_infected       784\n",
    "nombre_sain          2111\n",
    "nombre_exposed        446\n",
    "nombre_recovered    16659\n",
    "Name: 591, dtype: int64"
   ]
  },
  {
   "cell_type": "markdown",
   "id": "349f3011",
   "metadata": {},
   "source": [
    "nombre_infected       795\n",
    "nombre_sain          2111\n",
    "nombre_exposed        437\n",
    "nombre_recovered    16657\n",
    "Name: 592, dtype: int64"
   ]
  },
  {
   "cell_type": "markdown",
   "id": "bcc09aee",
   "metadata": {},
   "source": [
    "nombre_infected       806\n",
    "nombre_sain          2136\n",
    "nombre_exposed        428\n",
    "nombre_recovered    16630\n",
    "Name: 593, dtype: int64"
   ]
  },
  {
   "cell_type": "markdown",
   "id": "d4ac3331",
   "metadata": {},
   "source": [
    "nombre_infected       799\n",
    "nombre_sain          2148\n",
    "nombre_exposed        435\n",
    "nombre_recovered    16618\n",
    "Name: 594, dtype: int64"
   ]
  },
  {
   "cell_type": "markdown",
   "id": "4b3aeaf0",
   "metadata": {},
   "source": [
    "nombre_infected       788\n",
    "nombre_sain          2139\n",
    "nombre_exposed        462\n",
    "nombre_recovered    16611\n",
    "Name: 595, dtype: int64"
   ]
  },
  {
   "cell_type": "markdown",
   "id": "89b358d9",
   "metadata": {},
   "source": [
    "nombre_infected       775\n",
    "nombre_sain          2138\n",
    "nombre_exposed        445\n",
    "nombre_recovered    16642\n",
    "Name: 596, dtype: int64"
   ]
  },
  {
   "cell_type": "markdown",
   "id": "38952fa4",
   "metadata": {},
   "source": [
    "nombre_infected       792\n",
    "nombre_sain          2134\n",
    "nombre_exposed        445\n",
    "nombre_recovered    16629\n",
    "Name: 597, dtype: int64"
   ]
  },
  {
   "cell_type": "markdown",
   "id": "c4bed22c",
   "metadata": {},
   "source": [
    "nombre_infected       784\n",
    "nombre_sain          2143\n",
    "nombre_exposed        445\n",
    "nombre_recovered    16628\n",
    "Name: 598, dtype: int64"
   ]
  },
  {
   "cell_type": "markdown",
   "id": "c8d70144",
   "metadata": {},
   "source": [
    "nombre_infected       762\n",
    "nombre_sain          2163\n",
    "nombre_exposed        451\n",
    "nombre_recovered    16624\n",
    "Name: 599, dtype: int64"
   ]
  },
  {
   "cell_type": "markdown",
   "id": "4ddb6413",
   "metadata": {},
   "source": [
    "nombre_infected       766\n",
    "nombre_sain          2168\n",
    "nombre_exposed        450\n",
    "nombre_recovered    16616\n",
    "Name: 600, dtype: int64"
   ]
  },
  {
   "cell_type": "markdown",
   "id": "8e5f7eb8",
   "metadata": {},
   "source": [
    "nombre_infected       772\n",
    "nombre_sain          2179\n",
    "nombre_exposed        446\n",
    "nombre_recovered    16603\n",
    "Name: 601, dtype: int64"
   ]
  },
  {
   "cell_type": "markdown",
   "id": "d3fded76",
   "metadata": {},
   "source": [
    "nombre_infected       762\n",
    "nombre_sain          2179\n",
    "nombre_exposed        452\n",
    "nombre_recovered    16607\n",
    "Name: 602, dtype: int64"
   ]
  },
  {
   "cell_type": "markdown",
   "id": "279e324d",
   "metadata": {},
   "source": [
    "nombre_infected       768\n",
    "nombre_sain          2203\n",
    "nombre_exposed        456\n",
    "nombre_recovered    16573\n",
    "Name: 603, dtype: int64"
   ]
  },
  {
   "cell_type": "markdown",
   "id": "b1271545",
   "metadata": {},
   "source": [
    "nombre_infected       768\n",
    "nombre_sain          2215\n",
    "nombre_exposed        451\n",
    "nombre_recovered    16566\n",
    "Name: 604, dtype: int64"
   ]
  },
  {
   "cell_type": "markdown",
   "id": "773bfefe",
   "metadata": {},
   "source": [
    "nombre_infected       774\n",
    "nombre_sain          2267\n",
    "nombre_exposed        420\n",
    "nombre_recovered    16539\n",
    "Name: 605, dtype: int64"
   ]
  },
  {
   "cell_type": "markdown",
   "id": "aa8d20bb",
   "metadata": {},
   "source": [
    "nombre_infected       759\n",
    "nombre_sain          2267\n",
    "nombre_exposed        430\n",
    "nombre_recovered    16544\n",
    "Name: 606, dtype: int64"
   ]
  },
  {
   "cell_type": "markdown",
   "id": "df3a65d0",
   "metadata": {},
   "source": [
    "nombre_infected       750\n",
    "nombre_sain          2269\n",
    "nombre_exposed        456\n",
    "nombre_recovered    16525\n",
    "Name: 607, dtype: int64"
   ]
  },
  {
   "cell_type": "markdown",
   "id": "df511925",
   "metadata": {},
   "source": [
    "nombre_infected       760\n",
    "nombre_sain          2262\n",
    "nombre_exposed        461\n",
    "nombre_recovered    16517\n",
    "Name: 608, dtype: int64"
   ]
  },
  {
   "cell_type": "markdown",
   "id": "c1799007",
   "metadata": {},
   "source": [
    "nombre_infected       774\n",
    "nombre_sain          2280\n",
    "nombre_exposed        444\n",
    "nombre_recovered    16502\n",
    "Name: 609, dtype: int64"
   ]
  },
  {
   "cell_type": "markdown",
   "id": "bd02ffcb",
   "metadata": {},
   "source": [
    "nombre_infected       779\n",
    "nombre_sain          2278\n",
    "nombre_exposed        444\n",
    "nombre_recovered    16499\n",
    "Name: 610, dtype: int64"
   ]
  },
  {
   "cell_type": "markdown",
   "id": "b7028a2b",
   "metadata": {},
   "source": [
    "nombre_infected       778\n",
    "nombre_sain          2284\n",
    "nombre_exposed        437\n",
    "nombre_recovered    16501\n",
    "Name: 611, dtype: int64"
   ]
  },
  {
   "cell_type": "markdown",
   "id": "2f7afede",
   "metadata": {},
   "source": [
    "nombre_infected       785\n",
    "nombre_sain          2283\n",
    "nombre_exposed        442\n",
    "nombre_recovered    16490\n",
    "Name: 612, dtype: int64"
   ]
  },
  {
   "cell_type": "markdown",
   "id": "1e92c8e0",
   "metadata": {},
   "source": [
    "nombre_infected       779\n",
    "nombre_sain          2265\n",
    "nombre_exposed        443\n",
    "nombre_recovered    16513\n",
    "Name: 613, dtype: int64"
   ]
  },
  {
   "cell_type": "markdown",
   "id": "cb414d7a",
   "metadata": {},
   "source": [
    "nombre_infected       774\n",
    "nombre_sain          2283\n",
    "nombre_exposed        437\n",
    "nombre_recovered    16506\n",
    "Name: 614, dtype: int64"
   ]
  },
  {
   "cell_type": "markdown",
   "id": "03ba982e",
   "metadata": {},
   "source": [
    "nombre_infected       760\n",
    "nombre_sain          2307\n",
    "nombre_exposed        432\n",
    "nombre_recovered    16501\n",
    "Name: 615, dtype: int64"
   ]
  },
  {
   "cell_type": "markdown",
   "id": "01d9f74f",
   "metadata": {},
   "source": [
    "nombre_infected       758\n",
    "nombre_sain          2312\n",
    "nombre_exposed        426\n",
    "nombre_recovered    16504\n",
    "Name: 616, dtype: int64"
   ]
  },
  {
   "cell_type": "markdown",
   "id": "42b79e0b",
   "metadata": {},
   "source": [
    "nombre_infected       770\n",
    "nombre_sain          2318\n",
    "nombre_exposed        432\n",
    "nombre_recovered    16480\n",
    "Name: 617, dtype: int64"
   ]
  },
  {
   "cell_type": "markdown",
   "id": "5a24d453",
   "metadata": {},
   "source": [
    "nombre_infected       773\n",
    "nombre_sain          2342\n",
    "nombre_exposed        442\n",
    "nombre_recovered    16443\n",
    "Name: 618, dtype: int64"
   ]
  },
  {
   "cell_type": "markdown",
   "id": "61d82424",
   "metadata": {},
   "source": [
    "nombre_infected       762\n",
    "nombre_sain          2346\n",
    "nombre_exposed        439\n",
    "nombre_recovered    16453\n",
    "Name: 619, dtype: int64"
   ]
  },
  {
   "cell_type": "markdown",
   "id": "d2268fb3",
   "metadata": {},
   "source": [
    "nombre_infected       749\n",
    "nombre_sain          2353\n",
    "nombre_exposed        436\n",
    "nombre_recovered    16462\n",
    "Name: 620, dtype: int64"
   ]
  },
  {
   "cell_type": "markdown",
   "id": "997f2235",
   "metadata": {},
   "source": [
    "nombre_infected       761\n",
    "nombre_sain          2355\n",
    "nombre_exposed        437\n",
    "nombre_recovered    16447\n",
    "Name: 621, dtype: int64"
   ]
  },
  {
   "cell_type": "markdown",
   "id": "a61ccc0c",
   "metadata": {},
   "source": [
    "nombre_infected       758\n",
    "nombre_sain          2366\n",
    "nombre_exposed        463\n",
    "nombre_recovered    16413\n",
    "Name: 622, dtype: int64"
   ]
  },
  {
   "cell_type": "markdown",
   "id": "ca9e1a58",
   "metadata": {},
   "source": [
    "nombre_infected       777\n",
    "nombre_sain          2373\n",
    "nombre_exposed        475\n",
    "nombre_recovered    16375\n",
    "Name: 623, dtype: int64"
   ]
  },
  {
   "cell_type": "markdown",
   "id": "e5e83656",
   "metadata": {},
   "source": [
    "nombre_infected       786\n",
    "nombre_sain          2376\n",
    "nombre_exposed        481\n",
    "nombre_recovered    16357\n",
    "Name: 624, dtype: int64"
   ]
  },
  {
   "cell_type": "markdown",
   "id": "7af1a67a",
   "metadata": {},
   "source": [
    "nombre_infected       800\n",
    "nombre_sain          2352\n",
    "nombre_exposed        501\n",
    "nombre_recovered    16347\n",
    "Name: 625, dtype: int64"
   ]
  },
  {
   "cell_type": "markdown",
   "id": "c0d0ab8c",
   "metadata": {},
   "source": [
    "nombre_infected       818\n",
    "nombre_sain          2365\n",
    "nombre_exposed        492\n",
    "nombre_recovered    16325\n",
    "Name: 626, dtype: int64"
   ]
  },
  {
   "cell_type": "markdown",
   "id": "6fa3ff59",
   "metadata": {},
   "source": [
    "nombre_infected       823\n",
    "nombre_sain          2370\n",
    "nombre_exposed        485\n",
    "nombre_recovered    16322\n",
    "Name: 627, dtype: int64"
   ]
  },
  {
   "cell_type": "markdown",
   "id": "b077735d",
   "metadata": {},
   "source": [
    "nombre_infected       824\n",
    "nombre_sain          2336\n",
    "nombre_exposed        510\n",
    "nombre_recovered    16330\n",
    "Name: 628, dtype: int64"
   ]
  },
  {
   "cell_type": "markdown",
   "id": "809f31ef",
   "metadata": {},
   "source": [
    "nombre_infected       836\n",
    "nombre_sain          2344\n",
    "nombre_exposed        504\n",
    "nombre_recovered    16316\n",
    "Name: 629, dtype: int64"
   ]
  },
  {
   "cell_type": "markdown",
   "id": "89fe3e27",
   "metadata": {},
   "source": [
    "nombre_infected       837\n",
    "nombre_sain          2329\n",
    "nombre_exposed        527\n",
    "nombre_recovered    16307\n",
    "Name: 630, dtype: int64"
   ]
  },
  {
   "cell_type": "markdown",
   "id": "70e6d59b",
   "metadata": {},
   "source": [
    "nombre_infected       852\n",
    "nombre_sain          2311\n",
    "nombre_exposed        549\n",
    "nombre_recovered    16288\n",
    "Name: 631, dtype: int64"
   ]
  },
  {
   "cell_type": "markdown",
   "id": "84594c1e",
   "metadata": {},
   "source": [
    "nombre_infected       876\n",
    "nombre_sain          2279\n",
    "nombre_exposed        558\n",
    "nombre_recovered    16287\n",
    "Name: 632, dtype: int64"
   ]
  },
  {
   "cell_type": "markdown",
   "id": "d26b7857",
   "metadata": {},
   "source": [
    "nombre_infected       901\n",
    "nombre_sain          2280\n",
    "nombre_exposed        545\n",
    "nombre_recovered    16274\n",
    "Name: 633, dtype: int64"
   ]
  },
  {
   "cell_type": "markdown",
   "id": "dda5ad43",
   "metadata": {},
   "source": [
    "nombre_infected       930\n",
    "nombre_sain          2238\n",
    "nombre_exposed        562\n",
    "nombre_recovered    16270\n",
    "Name: 634, dtype: int64"
   ]
  },
  {
   "cell_type": "markdown",
   "id": "0ffa4ed4",
   "metadata": {},
   "source": [
    "nombre_infected       925\n",
    "nombre_sain          2235\n",
    "nombre_exposed        557\n",
    "nombre_recovered    16283\n",
    "Name: 635, dtype: int64"
   ]
  },
  {
   "cell_type": "markdown",
   "id": "14ee7ad2",
   "metadata": {},
   "source": [
    "nombre_infected       929\n",
    "nombre_sain          2209\n",
    "nombre_exposed        565\n",
    "nombre_recovered    16297\n",
    "Name: 636, dtype: int64"
   ]
  },
  {
   "cell_type": "markdown",
   "id": "7e2d17fa",
   "metadata": {},
   "source": [
    "nombre_infected       925\n",
    "nombre_sain          2225\n",
    "nombre_exposed        554\n",
    "nombre_recovered    16296\n",
    "Name: 637, dtype: int64"
   ]
  },
  {
   "cell_type": "markdown",
   "id": "d1396aeb",
   "metadata": {},
   "source": [
    "nombre_infected       916\n",
    "nombre_sain          2205\n",
    "nombre_exposed        578\n",
    "nombre_recovered    16301\n",
    "Name: 638, dtype: int64"
   ]
  },
  {
   "cell_type": "markdown",
   "id": "3a5c51dc",
   "metadata": {},
   "source": [
    "nombre_infected       896\n",
    "nombre_sain          2235\n",
    "nombre_exposed        558\n",
    "nombre_recovered    16311\n",
    "Name: 639, dtype: int64"
   ]
  },
  {
   "cell_type": "markdown",
   "id": "9813b37f",
   "metadata": {},
   "source": [
    "nombre_infected       936\n",
    "nombre_sain          2256\n",
    "nombre_exposed        537\n",
    "nombre_recovered    16271\n",
    "Name: 640, dtype: int64"
   ]
  },
  {
   "cell_type": "markdown",
   "id": "88699d97",
   "metadata": {},
   "source": [
    "nombre_infected       951\n",
    "nombre_sain          2236\n",
    "nombre_exposed        544\n",
    "nombre_recovered    16269\n",
    "Name: 641, dtype: int64"
   ]
  },
  {
   "cell_type": "markdown",
   "id": "9d959bba",
   "metadata": {},
   "source": [
    "nombre_infected       929\n",
    "nombre_sain          2242\n",
    "nombre_exposed        540\n",
    "nombre_recovered    16289\n",
    "Name: 642, dtype: int64"
   ]
  },
  {
   "cell_type": "markdown",
   "id": "3d15fd0c",
   "metadata": {},
   "source": [
    "nombre_infected       923\n",
    "nombre_sain          2241\n",
    "nombre_exposed        541\n",
    "nombre_recovered    16295\n",
    "Name: 643, dtype: int64"
   ]
  },
  {
   "cell_type": "markdown",
   "id": "b636eb8b",
   "metadata": {},
   "source": [
    "nombre_infected       927\n",
    "nombre_sain          2226\n",
    "nombre_exposed        529\n",
    "nombre_recovered    16318\n",
    "Name: 644, dtype: int64"
   ]
  },
  {
   "cell_type": "markdown",
   "id": "ba8d29b8",
   "metadata": {},
   "source": [
    "nombre_infected       895\n",
    "nombre_sain          2206\n",
    "nombre_exposed        558\n",
    "nombre_recovered    16341\n",
    "Name: 645, dtype: int64"
   ]
  },
  {
   "cell_type": "markdown",
   "id": "76de9072",
   "metadata": {},
   "source": [
    "nombre_infected       886\n",
    "nombre_sain          2203\n",
    "nombre_exposed        549\n",
    "nombre_recovered    16362\n",
    "Name: 646, dtype: int64"
   ]
  },
  {
   "cell_type": "markdown",
   "id": "6b74d80b",
   "metadata": {},
   "source": [
    "nombre_infected       908\n",
    "nombre_sain          2197\n",
    "nombre_exposed        526\n",
    "nombre_recovered    16369\n",
    "Name: 647, dtype: int64"
   ]
  },
  {
   "cell_type": "markdown",
   "id": "f3ab5008",
   "metadata": {},
   "source": [
    "nombre_infected       928\n",
    "nombre_sain          2191\n",
    "nombre_exposed        521\n",
    "nombre_recovered    16360\n",
    "Name: 648, dtype: int64"
   ]
  },
  {
   "cell_type": "markdown",
   "id": "91412009",
   "metadata": {},
   "source": [
    "nombre_infected       965\n",
    "nombre_sain          2171\n",
    "nombre_exposed        504\n",
    "nombre_recovered    16360\n",
    "Name: 649, dtype: int64"
   ]
  },
  {
   "cell_type": "markdown",
   "id": "b5d6bb72",
   "metadata": {},
   "source": [
    "nombre_infected       952\n",
    "nombre_sain          2151\n",
    "nombre_exposed        529\n",
    "nombre_recovered    16368\n",
    "Name: 650, dtype: int64"
   ]
  },
  {
   "cell_type": "markdown",
   "id": "05de02ed",
   "metadata": {},
   "source": [
    "nombre_infected       936\n",
    "nombre_sain          2125\n",
    "nombre_exposed        550\n",
    "nombre_recovered    16389\n",
    "Name: 651, dtype: int64"
   ]
  },
  {
   "cell_type": "markdown",
   "id": "be3d8b04",
   "metadata": {},
   "source": [
    "nombre_infected       905\n",
    "nombre_sain          2108\n",
    "nombre_exposed        558\n",
    "nombre_recovered    16429\n",
    "Name: 652, dtype: int64"
   ]
  },
  {
   "cell_type": "markdown",
   "id": "5e1d0b93",
   "metadata": {},
   "source": [
    "nombre_infected       945\n",
    "nombre_sain          2093\n",
    "nombre_exposed        544\n",
    "nombre_recovered    16418\n",
    "Name: 653, dtype: int64"
   ]
  },
  {
   "cell_type": "markdown",
   "id": "bce83dbf",
   "metadata": {},
   "source": [
    "nombre_infected       952\n",
    "nombre_sain          2079\n",
    "nombre_exposed        555\n",
    "nombre_recovered    16414\n",
    "Name: 654, dtype: int64"
   ]
  },
  {
   "cell_type": "markdown",
   "id": "b7ee90ca",
   "metadata": {},
   "source": [
    "nombre_infected       968\n",
    "nombre_sain          2093\n",
    "nombre_exposed        537\n",
    "nombre_recovered    16402\n",
    "Name: 655, dtype: int64"
   ]
  },
  {
   "cell_type": "markdown",
   "id": "9d5f1573",
   "metadata": {},
   "source": [
    "nombre_infected       971\n",
    "nombre_sain          2066\n",
    "nombre_exposed        541\n",
    "nombre_recovered    16422\n",
    "Name: 656, dtype: int64"
   ]
  },
  {
   "cell_type": "markdown",
   "id": "bdc6d809",
   "metadata": {},
   "source": [
    "nombre_infected       963\n",
    "nombre_sain          2067\n",
    "nombre_exposed        535\n",
    "nombre_recovered    16435\n",
    "Name: 657, dtype: int64"
   ]
  },
  {
   "cell_type": "markdown",
   "id": "b7265741",
   "metadata": {},
   "source": [
    "nombre_infected       949\n",
    "nombre_sain          2095\n",
    "nombre_exposed        523\n",
    "nombre_recovered    16433\n",
    "Name: 658, dtype: int64"
   ]
  },
  {
   "cell_type": "markdown",
   "id": "e8ab888b",
   "metadata": {},
   "source": [
    "nombre_infected       944\n",
    "nombre_sain          2115\n",
    "nombre_exposed        507\n",
    "nombre_recovered    16434\n",
    "Name: 659, dtype: int64"
   ]
  },
  {
   "cell_type": "markdown",
   "id": "2a585511",
   "metadata": {},
   "source": [
    "nombre_infected       953\n",
    "nombre_sain          2110\n",
    "nombre_exposed        500\n",
    "nombre_recovered    16437\n",
    "Name: 660, dtype: int64"
   ]
  },
  {
   "cell_type": "markdown",
   "id": "8fc312ed",
   "metadata": {},
   "source": [
    "nombre_infected       950\n",
    "nombre_sain          2138\n",
    "nombre_exposed        501\n",
    "nombre_recovered    16411\n",
    "Name: 661, dtype: int64"
   ]
  },
  {
   "cell_type": "markdown",
   "id": "c3dbac47",
   "metadata": {},
   "source": [
    "nombre_infected       930\n",
    "nombre_sain          2134\n",
    "nombre_exposed        517\n",
    "nombre_recovered    16419\n",
    "Name: 662, dtype: int64"
   ]
  },
  {
   "cell_type": "markdown",
   "id": "3b366439",
   "metadata": {},
   "source": [
    "nombre_infected       913\n",
    "nombre_sain          2145\n",
    "nombre_exposed        525\n",
    "nombre_recovered    16417\n",
    "Name: 663, dtype: int64"
   ]
  },
  {
   "cell_type": "markdown",
   "id": "a18bb436",
   "metadata": {},
   "source": [
    "nombre_infected       910\n",
    "nombre_sain          2140\n",
    "nombre_exposed        519\n",
    "nombre_recovered    16431\n",
    "Name: 664, dtype: int64"
   ]
  },
  {
   "cell_type": "markdown",
   "id": "091dc762",
   "metadata": {},
   "source": [
    "nombre_infected       895\n",
    "nombre_sain          2140\n",
    "nombre_exposed        529\n",
    "nombre_recovered    16436\n",
    "Name: 665, dtype: int64"
   ]
  },
  {
   "cell_type": "markdown",
   "id": "a3f800d0",
   "metadata": {},
   "source": [
    "nombre_infected       901\n",
    "nombre_sain          2158\n",
    "nombre_exposed        500\n",
    "nombre_recovered    16441\n",
    "Name: 666, dtype: int64"
   ]
  },
  {
   "cell_type": "markdown",
   "id": "e3041960",
   "metadata": {},
   "source": [
    "nombre_infected       894\n",
    "nombre_sain          2171\n",
    "nombre_exposed        503\n",
    "nombre_recovered    16432\n",
    "Name: 667, dtype: int64"
   ]
  },
  {
   "cell_type": "markdown",
   "id": "1c9646f9",
   "metadata": {},
   "source": [
    "nombre_infected       899\n",
    "nombre_sain          2168\n",
    "nombre_exposed        504\n",
    "nombre_recovered    16429\n",
    "Name: 668, dtype: int64"
   ]
  },
  {
   "cell_type": "markdown",
   "id": "bbcf3510",
   "metadata": {},
   "source": [
    "nombre_infected       918\n",
    "nombre_sain          2151\n",
    "nombre_exposed        504\n",
    "nombre_recovered    16427\n",
    "Name: 669, dtype: int64"
   ]
  },
  {
   "cell_type": "markdown",
   "id": "a941d0c3",
   "metadata": {},
   "source": [
    "nombre_infected       898\n",
    "nombre_sain          2108\n",
    "nombre_exposed        531\n",
    "nombre_recovered    16463\n",
    "Name: 670, dtype: int64"
   ]
  },
  {
   "cell_type": "markdown",
   "id": "fd067176",
   "metadata": {},
   "source": [
    "nombre_infected       914\n",
    "nombre_sain          2087\n",
    "nombre_exposed        537\n",
    "nombre_recovered    16462\n",
    "Name: 671, dtype: int64"
   ]
  },
  {
   "cell_type": "markdown",
   "id": "b34de4d9",
   "metadata": {},
   "source": [
    "nombre_infected       918\n",
    "nombre_sain          2071\n",
    "nombre_exposed        533\n",
    "nombre_recovered    16478\n",
    "Name: 672, dtype: int64"
   ]
  },
  {
   "cell_type": "markdown",
   "id": "ae3a1593",
   "metadata": {},
   "source": [
    "nombre_infected       930\n",
    "nombre_sain          2068\n",
    "nombre_exposed        520\n",
    "nombre_recovered    16482\n",
    "Name: 673, dtype: int64"
   ]
  },
  {
   "cell_type": "markdown",
   "id": "fcd766e1",
   "metadata": {},
   "source": [
    "nombre_infected       906\n",
    "nombre_sain          2090\n",
    "nombre_exposed        520\n",
    "nombre_recovered    16484\n",
    "Name: 674, dtype: int64"
   ]
  },
  {
   "cell_type": "markdown",
   "id": "47067045",
   "metadata": {},
   "source": [
    "nombre_infected       930\n",
    "nombre_sain          2074\n",
    "nombre_exposed        513\n",
    "nombre_recovered    16483\n",
    "Name: 675, dtype: int64"
   ]
  },
  {
   "cell_type": "markdown",
   "id": "6f36cf6c",
   "metadata": {},
   "source": [
    "nombre_infected       915\n",
    "nombre_sain          2084\n",
    "nombre_exposed        499\n",
    "nombre_recovered    16502\n",
    "Name: 676, dtype: int64"
   ]
  },
  {
   "cell_type": "markdown",
   "id": "661dc253",
   "metadata": {},
   "source": [
    "nombre_infected       915\n",
    "nombre_sain          2108\n",
    "nombre_exposed        481\n",
    "nombre_recovered    16496\n",
    "Name: 677, dtype: int64"
   ]
  },
  {
   "cell_type": "markdown",
   "id": "859787a6",
   "metadata": {},
   "source": [
    "nombre_infected       940\n",
    "nombre_sain          2116\n",
    "nombre_exposed        454\n",
    "nombre_recovered    16490\n",
    "Name: 678, dtype: int64"
   ]
  },
  {
   "cell_type": "markdown",
   "id": "e9a4adbb",
   "metadata": {},
   "source": [
    "nombre_infected       947\n",
    "nombre_sain          2110\n",
    "nombre_exposed        460\n",
    "nombre_recovered    16483\n",
    "Name: 679, dtype: int64"
   ]
  },
  {
   "cell_type": "markdown",
   "id": "6308a26c",
   "metadata": {},
   "source": [
    "nombre_infected       918\n",
    "nombre_sain          2096\n",
    "nombre_exposed        500\n",
    "nombre_recovered    16486\n",
    "Name: 680, dtype: int64"
   ]
  },
  {
   "cell_type": "markdown",
   "id": "e45e5c30",
   "metadata": {},
   "source": [
    "nombre_infected       908\n",
    "nombre_sain          2091\n",
    "nombre_exposed        500\n",
    "nombre_recovered    16501\n",
    "Name: 681, dtype: int64"
   ]
  },
  {
   "cell_type": "markdown",
   "id": "8a018953",
   "metadata": {},
   "source": [
    "nombre_infected       890\n",
    "nombre_sain          2069\n",
    "nombre_exposed        510\n",
    "nombre_recovered    16531\n",
    "Name: 682, dtype: int64"
   ]
  },
  {
   "cell_type": "markdown",
   "id": "c773c239",
   "metadata": {},
   "source": [
    "nombre_infected       900\n",
    "nombre_sain          2068\n",
    "nombre_exposed        495\n",
    "nombre_recovered    16537\n",
    "Name: 683, dtype: int64"
   ]
  },
  {
   "cell_type": "markdown",
   "id": "10a81d96",
   "metadata": {},
   "source": [
    "nombre_infected       911\n",
    "nombre_sain          2104\n",
    "nombre_exposed        481\n",
    "nombre_recovered    16504\n",
    "Name: 684, dtype: int64"
   ]
  },
  {
   "cell_type": "markdown",
   "id": "d371aaf2",
   "metadata": {},
   "source": [
    "nombre_infected       942\n",
    "nombre_sain          2086\n",
    "nombre_exposed        493\n",
    "nombre_recovered    16479\n",
    "Name: 685, dtype: int64"
   ]
  },
  {
   "cell_type": "markdown",
   "id": "8c75ae72",
   "metadata": {},
   "source": [
    "nombre_infected       956\n",
    "nombre_sain          2093\n",
    "nombre_exposed        495\n",
    "nombre_recovered    16456\n",
    "Name: 686, dtype: int64"
   ]
  },
  {
   "cell_type": "markdown",
   "id": "60c3ad89",
   "metadata": {},
   "source": [
    "nombre_infected       928\n",
    "nombre_sain          2107\n",
    "nombre_exposed        505\n",
    "nombre_recovered    16460\n",
    "Name: 687, dtype: int64"
   ]
  },
  {
   "cell_type": "markdown",
   "id": "f18535de",
   "metadata": {},
   "source": [
    "nombre_infected       937\n",
    "nombre_sain          2102\n",
    "nombre_exposed        504\n",
    "nombre_recovered    16457\n",
    "Name: 688, dtype: int64"
   ]
  },
  {
   "cell_type": "markdown",
   "id": "5eb0307a",
   "metadata": {},
   "source": [
    "nombre_infected       920\n",
    "nombre_sain          2099\n",
    "nombre_exposed        523\n",
    "nombre_recovered    16458\n",
    "Name: 689, dtype: int64"
   ]
  },
  {
   "cell_type": "markdown",
   "id": "9e69c23f",
   "metadata": {},
   "source": [
    "nombre_infected       914\n",
    "nombre_sain          2099\n",
    "nombre_exposed        522\n",
    "nombre_recovered    16465\n",
    "Name: 690, dtype: int64"
   ]
  },
  {
   "cell_type": "markdown",
   "id": "48610004",
   "metadata": {},
   "source": [
    "nombre_infected       940\n",
    "nombre_sain          2102\n",
    "nombre_exposed        517\n",
    "nombre_recovered    16441\n",
    "Name: 691, dtype: int64"
   ]
  },
  {
   "cell_type": "markdown",
   "id": "4c384b5b",
   "metadata": {},
   "source": [
    "nombre_infected       937\n",
    "nombre_sain          2071\n",
    "nombre_exposed        551\n",
    "nombre_recovered    16441\n",
    "Name: 692, dtype: int64"
   ]
  },
  {
   "cell_type": "markdown",
   "id": "cf844cab",
   "metadata": {},
   "source": [
    "nombre_infected       915\n",
    "nombre_sain          2080\n",
    "nombre_exposed        535\n",
    "nombre_recovered    16470\n",
    "Name: 693, dtype: int64"
   ]
  },
  {
   "cell_type": "markdown",
   "id": "a2f12dc2",
   "metadata": {},
   "source": [
    "nombre_infected       924\n",
    "nombre_sain          2058\n",
    "nombre_exposed        529\n",
    "nombre_recovered    16489\n",
    "Name: 694, dtype: int64"
   ]
  },
  {
   "cell_type": "markdown",
   "id": "474ed975",
   "metadata": {},
   "source": [
    "nombre_infected       917\n",
    "nombre_sain          2046\n",
    "nombre_exposed        543\n",
    "nombre_recovered    16494\n",
    "Name: 695, dtype: int64"
   ]
  },
  {
   "cell_type": "markdown",
   "id": "e02d6814",
   "metadata": {},
   "source": [
    "nombre_infected       914\n",
    "nombre_sain          2041\n",
    "nombre_exposed        559\n",
    "nombre_recovered    16486\n",
    "Name: 696, dtype: int64"
   ]
  },
  {
   "cell_type": "markdown",
   "id": "c5a41c67",
   "metadata": {},
   "source": [
    "nombre_infected       933\n",
    "nombre_sain          2027\n",
    "nombre_exposed        554\n",
    "nombre_recovered    16486\n",
    "Name: 697, dtype: int64"
   ]
  },
  {
   "cell_type": "markdown",
   "id": "49a4a506",
   "metadata": {},
   "source": [
    "nombre_infected       937\n",
    "nombre_sain          2016\n",
    "nombre_exposed        573\n",
    "nombre_recovered    16474\n",
    "Name: 698, dtype: int64"
   ]
  },
  {
   "cell_type": "markdown",
   "id": "e4efb747",
   "metadata": {},
   "source": [
    "nombre_infected       940\n",
    "nombre_sain          2022\n",
    "nombre_exposed        564\n",
    "nombre_recovered    16474\n",
    "Name: 699, dtype: int64"
   ]
  },
  {
   "cell_type": "markdown",
   "id": "433499b1",
   "metadata": {},
   "source": [
    "nombre_infected       950\n",
    "nombre_sain          1999\n",
    "nombre_exposed        570\n",
    "nombre_recovered    16481\n",
    "Name: 700, dtype: int64"
   ]
  },
  {
   "cell_type": "markdown",
   "id": "061ec5d8",
   "metadata": {},
   "source": [
    "nombre_infected       941\n",
    "nombre_sain          1995\n",
    "nombre_exposed        586\n",
    "nombre_recovered    16478\n",
    "Name: 701, dtype: int64"
   ]
  },
  {
   "cell_type": "markdown",
   "id": "57b76e9a",
   "metadata": {},
   "source": [
    "nombre_infected       951\n",
    "nombre_sain          2005\n",
    "nombre_exposed        577\n",
    "nombre_recovered    16467\n",
    "Name: 702, dtype: int64"
   ]
  },
  {
   "cell_type": "markdown",
   "id": "d787c0dc",
   "metadata": {},
   "source": [
    "nombre_infected       950\n",
    "nombre_sain          2051\n",
    "nombre_exposed        579\n",
    "nombre_recovered    16420\n",
    "Name: 703, dtype: int64"
   ]
  },
  {
   "cell_type": "markdown",
   "id": "1f085833",
   "metadata": {},
   "source": [
    "nombre_infected       935\n",
    "nombre_sain          2067\n",
    "nombre_exposed        566\n",
    "nombre_recovered    16432\n",
    "Name: 704, dtype: int64"
   ]
  },
  {
   "cell_type": "markdown",
   "id": "f059891d",
   "metadata": {},
   "source": [
    "nombre_infected       961\n",
    "nombre_sain          2087\n",
    "nombre_exposed        545\n",
    "nombre_recovered    16407\n",
    "Name: 705, dtype: int64"
   ]
  },
  {
   "cell_type": "markdown",
   "id": "2b7ec29a",
   "metadata": {},
   "source": [
    "nombre_infected       964\n",
    "nombre_sain          2089\n",
    "nombre_exposed        542\n",
    "nombre_recovered    16405\n",
    "Name: 706, dtype: int64"
   ]
  },
  {
   "cell_type": "markdown",
   "id": "968817e0",
   "metadata": {},
   "source": [
    "nombre_infected       953\n",
    "nombre_sain          2099\n",
    "nombre_exposed        547\n",
    "nombre_recovered    16401\n",
    "Name: 707, dtype: int64"
   ]
  },
  {
   "cell_type": "markdown",
   "id": "e4b53e5c",
   "metadata": {},
   "source": [
    "nombre_infected       963\n",
    "nombre_sain          2108\n",
    "nombre_exposed        551\n",
    "nombre_recovered    16378\n",
    "Name: 708, dtype: int64"
   ]
  },
  {
   "cell_type": "markdown",
   "id": "89edd5dc",
   "metadata": {},
   "source": [
    "nombre_infected       963\n",
    "nombre_sain          2131\n",
    "nombre_exposed        538\n",
    "nombre_recovered    16368\n",
    "Name: 709, dtype: int64"
   ]
  },
  {
   "cell_type": "markdown",
   "id": "d2632129",
   "metadata": {},
   "source": [
    "nombre_infected       976\n",
    "nombre_sain          2144\n",
    "nombre_exposed        528\n",
    "nombre_recovered    16352\n",
    "Name: 710, dtype: int64"
   ]
  },
  {
   "cell_type": "markdown",
   "id": "11d62096",
   "metadata": {},
   "source": [
    "nombre_infected       990\n",
    "nombre_sain          2147\n",
    "nombre_exposed        520\n",
    "nombre_recovered    16343\n",
    "Name: 711, dtype: int64"
   ]
  },
  {
   "cell_type": "markdown",
   "id": "fcb699b6",
   "metadata": {},
   "source": [
    "nombre_infected       966\n",
    "nombre_sain          2137\n",
    "nombre_exposed        540\n",
    "nombre_recovered    16357\n",
    "Name: 712, dtype: int64"
   ]
  },
  {
   "cell_type": "markdown",
   "id": "6e8608a6",
   "metadata": {},
   "source": [
    "nombre_infected       942\n",
    "nombre_sain          2154\n",
    "nombre_exposed        553\n",
    "nombre_recovered    16351\n",
    "Name: 713, dtype: int64"
   ]
  },
  {
   "cell_type": "markdown",
   "id": "eb284ddb",
   "metadata": {},
   "source": [
    "nombre_infected       931\n",
    "nombre_sain          2160\n",
    "nombre_exposed        567\n",
    "nombre_recovered    16342\n",
    "Name: 714, dtype: int64"
   ]
  },
  {
   "cell_type": "markdown",
   "id": "c5497f30",
   "metadata": {},
   "source": [
    "nombre_infected       922\n",
    "nombre_sain          2165\n",
    "nombre_exposed        557\n",
    "nombre_recovered    16356\n",
    "Name: 715, dtype: int64"
   ]
  },
  {
   "cell_type": "markdown",
   "id": "363f713f",
   "metadata": {},
   "source": [
    "nombre_infected       938\n",
    "nombre_sain          2163\n",
    "nombre_exposed        551\n",
    "nombre_recovered    16348\n",
    "Name: 716, dtype: int64"
   ]
  },
  {
   "cell_type": "markdown",
   "id": "2d8d811f",
   "metadata": {},
   "source": [
    "nombre_infected       923\n",
    "nombre_sain          2174\n",
    "nombre_exposed        559\n",
    "nombre_recovered    16344\n",
    "Name: 717, dtype: int64"
   ]
  },
  {
   "cell_type": "markdown",
   "id": "095ae534",
   "metadata": {},
   "source": [
    "nombre_infected       946\n",
    "nombre_sain          2144\n",
    "nombre_exposed        580\n",
    "nombre_recovered    16330\n",
    "Name: 718, dtype: int64"
   ]
  },
  {
   "cell_type": "markdown",
   "id": "37f38216",
   "metadata": {},
   "source": [
    "nombre_infected       943\n",
    "nombre_sain          2116\n",
    "nombre_exposed        612\n",
    "nombre_recovered    16329\n",
    "Name: 719, dtype: int64"
   ]
  },
  {
   "cell_type": "markdown",
   "id": "041992a7",
   "metadata": {},
   "source": [
    "nombre_infected       952\n",
    "nombre_sain          2070\n",
    "nombre_exposed        606\n",
    "nombre_recovered    16372\n",
    "Name: 720, dtype: int64"
   ]
  },
  {
   "cell_type": "markdown",
   "id": "ca59c95c",
   "metadata": {},
   "source": [
    "nombre_infected       978\n",
    "nombre_sain          2069\n",
    "nombre_exposed        572\n",
    "nombre_recovered    16381\n",
    "Name: 721, dtype: int64"
   ]
  },
  {
   "cell_type": "markdown",
   "id": "a8610d4c",
   "metadata": {},
   "source": [
    "nombre_infected       984\n",
    "nombre_sain          2047\n",
    "nombre_exposed        568\n",
    "nombre_recovered    16401\n",
    "Name: 722, dtype: int64"
   ]
  },
  {
   "cell_type": "markdown",
   "id": "5157b420",
   "metadata": {},
   "source": [
    "nombre_infected       982\n",
    "nombre_sain          2036\n",
    "nombre_exposed        576\n",
    "nombre_recovered    16406\n",
    "Name: 723, dtype: int64"
   ]
  },
  {
   "cell_type": "markdown",
   "id": "533c9572",
   "metadata": {},
   "source": [
    "nombre_infected       996\n",
    "nombre_sain          2019\n",
    "nombre_exposed        568\n",
    "nombre_recovered    16417\n",
    "Name: 724, dtype: int64"
   ]
  },
  {
   "cell_type": "markdown",
   "id": "199ff386",
   "metadata": {},
   "source": [
    "nombre_infected       994\n",
    "nombre_sain          2031\n",
    "nombre_exposed        549\n",
    "nombre_recovered    16426\n",
    "Name: 725, dtype: int64"
   ]
  },
  {
   "cell_type": "markdown",
   "id": "f63476af",
   "metadata": {},
   "source": [
    "nombre_infected       991\n",
    "nombre_sain          2026\n",
    "nombre_exposed        553\n",
    "nombre_recovered    16430\n",
    "Name: 726, dtype: int64"
   ]
  },
  {
   "cell_type": "markdown",
   "id": "bcb4f9c0",
   "metadata": {},
   "source": [
    "nombre_infected       967\n",
    "nombre_sain          2017\n",
    "nombre_exposed        518\n",
    "nombre_recovered    16498\n",
    "Name: 727, dtype: int64"
   ]
  },
  {
   "cell_type": "markdown",
   "id": "68d69ee2",
   "metadata": {},
   "source": [
    "nombre_infected       991\n",
    "nombre_sain          2015\n",
    "nombre_exposed        482\n",
    "nombre_recovered    16512\n",
    "Name: 728, dtype: int64"
   ]
  },
  {
   "cell_type": "markdown",
   "id": "ab7cadfa",
   "metadata": {},
   "source": [
    "nombre_infected       963\n",
    "nombre_sain          2027\n",
    "nombre_exposed        495\n",
    "nombre_recovered    16515\n",
    "Name: 729, dtype: int64"
   ]
  },
  {
   "cell_type": "markdown",
   "id": "808f19cc",
   "metadata": {},
   "source": [
    "nombre_infected       911\n",
    "nombre_sain          2018\n",
    "nombre_exposed        507\n",
    "nombre_recovered    16564\n",
    "Name: 730, dtype: int64"
   ]
  }
 ],
 "metadata": {},
 "nbformat": 4,
 "nbformat_minor": 5
}
