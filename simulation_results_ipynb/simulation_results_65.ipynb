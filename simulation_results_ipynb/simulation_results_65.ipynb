{
 "cells": [
  {
   "cell_type": "markdown",
   "id": "60c74190",
   "metadata": {},
   "source": [
    "nombre_infected        20\n",
    "nombre_sain         19980\n",
    "nombre_exposed          0\n",
    "nombre_recovered        0\n",
    "Name: 0, dtype: int64"
   ]
  },
  {
   "cell_type": "markdown",
   "id": "4fcd88d1",
   "metadata": {},
   "source": [
    "nombre_infected        20\n",
    "nombre_sain         19955\n",
    "nombre_exposed         25\n",
    "nombre_recovered        0\n",
    "Name: 1, dtype: int64"
   ]
  },
  {
   "cell_type": "markdown",
   "id": "ed9ece3c",
   "metadata": {},
   "source": [
    "nombre_infected        20\n",
    "nombre_sain         19932\n",
    "nombre_exposed         48\n",
    "nombre_recovered        0\n",
    "Name: 2, dtype: int64"
   ]
  },
  {
   "cell_type": "markdown",
   "id": "1e126271",
   "metadata": {},
   "source": [
    "nombre_infected        25\n",
    "nombre_sain         19914\n",
    "nombre_exposed         61\n",
    "nombre_recovered        0\n",
    "Name: 3, dtype: int64"
   ]
  },
  {
   "cell_type": "markdown",
   "id": "a2bb3350",
   "metadata": {},
   "source": [
    "nombre_infected        34\n",
    "nombre_sain         19873\n",
    "nombre_exposed         93\n",
    "nombre_recovered        0\n",
    "Name: 4, dtype: int64"
   ]
  },
  {
   "cell_type": "markdown",
   "id": "4bf1c131",
   "metadata": {},
   "source": [
    "nombre_infected        49\n",
    "nombre_sain         19827\n",
    "nombre_exposed        123\n",
    "nombre_recovered        1\n",
    "Name: 5, dtype: int64"
   ]
  },
  {
   "cell_type": "markdown",
   "id": "7c9189da",
   "metadata": {},
   "source": [
    "nombre_infected        59\n",
    "nombre_sain         19764\n",
    "nombre_exposed        173\n",
    "nombre_recovered        4\n",
    "Name: 6, dtype: int64"
   ]
  },
  {
   "cell_type": "markdown",
   "id": "93979200",
   "metadata": {},
   "source": [
    "nombre_infected        95\n",
    "nombre_sain         19676\n",
    "nombre_exposed        224\n",
    "nombre_recovered        5\n",
    "Name: 7, dtype: int64"
   ]
  },
  {
   "cell_type": "markdown",
   "id": "559fc0c2",
   "metadata": {},
   "source": [
    "nombre_infected       137\n",
    "nombre_sain         19545\n",
    "nombre_exposed        310\n",
    "nombre_recovered        8\n",
    "Name: 8, dtype: int64"
   ]
  },
  {
   "cell_type": "markdown",
   "id": "4a36269b",
   "metadata": {},
   "source": [
    "nombre_infected       173\n",
    "nombre_sain         19361\n",
    "nombre_exposed        444\n",
    "nombre_recovered       22\n",
    "Name: 9, dtype: int64"
   ]
  },
  {
   "cell_type": "markdown",
   "id": "86cf65c3",
   "metadata": {},
   "source": [
    "nombre_infected       254\n",
    "nombre_sain         19110\n",
    "nombre_exposed        605\n",
    "nombre_recovered       31\n",
    "Name: 10, dtype: int64"
   ]
  },
  {
   "cell_type": "markdown",
   "id": "f540f5e3",
   "metadata": {},
   "source": [
    "nombre_infected       337\n",
    "nombre_sain         18755\n",
    "nombre_exposed        857\n",
    "nombre_recovered       51\n",
    "Name: 11, dtype: int64"
   ]
  },
  {
   "cell_type": "markdown",
   "id": "7751883a",
   "metadata": {},
   "source": [
    "nombre_infected       472\n",
    "nombre_sain         18252\n",
    "nombre_exposed       1197\n",
    "nombre_recovered       79\n",
    "Name: 12, dtype: int64"
   ]
  },
  {
   "cell_type": "markdown",
   "id": "f49bc373",
   "metadata": {},
   "source": [
    "nombre_infected       649\n",
    "nombre_sain         17637\n",
    "nombre_exposed       1592\n",
    "nombre_recovered      122\n",
    "Name: 13, dtype: int64"
   ]
  },
  {
   "cell_type": "markdown",
   "id": "f978f6b5",
   "metadata": {},
   "source": [
    "nombre_infected       857\n",
    "nombre_sain         16835\n",
    "nombre_exposed       2118\n",
    "nombre_recovered      190\n",
    "Name: 14, dtype: int64"
   ]
  },
  {
   "cell_type": "markdown",
   "id": "4f44895e",
   "metadata": {},
   "source": [
    "nombre_infected      1171\n",
    "nombre_sain         15864\n",
    "nombre_exposed       2700\n",
    "nombre_recovered      265\n",
    "Name: 15, dtype: int64"
   ]
  },
  {
   "cell_type": "markdown",
   "id": "8f30fc4b",
   "metadata": {},
   "source": [
    "nombre_infected      1608\n",
    "nombre_sain         14648\n",
    "nombre_exposed       3372\n",
    "nombre_recovered      372\n",
    "Name: 16, dtype: int64"
   ]
  },
  {
   "cell_type": "markdown",
   "id": "229b2758",
   "metadata": {},
   "source": [
    "nombre_infected      2071\n",
    "nombre_sain         13150\n",
    "nombre_exposed       4239\n",
    "nombre_recovered      540\n",
    "Name: 17, dtype: int64"
   ]
  },
  {
   "cell_type": "markdown",
   "id": "b8b11931",
   "metadata": {},
   "source": [
    "nombre_infected      2713\n",
    "nombre_sain         11478\n",
    "nombre_exposed       5073\n",
    "nombre_recovered      736\n",
    "Name: 18, dtype: int64"
   ]
  },
  {
   "cell_type": "markdown",
   "id": "625c728d",
   "metadata": {},
   "source": [
    "nombre_infected     3485\n",
    "nombre_sain         9669\n",
    "nombre_exposed      5871\n",
    "nombre_recovered     975\n",
    "Name: 19, dtype: int64"
   ]
  },
  {
   "cell_type": "markdown",
   "id": "962436ad",
   "metadata": {},
   "source": [
    "nombre_infected     4374\n",
    "nombre_sain         7842\n",
    "nombre_exposed      6456\n",
    "nombre_recovered    1328\n",
    "Name: 20, dtype: int64"
   ]
  },
  {
   "cell_type": "markdown",
   "id": "13071c5a",
   "metadata": {},
   "source": [
    "nombre_infected     5340\n",
    "nombre_sain         6094\n",
    "nombre_exposed      6801\n",
    "nombre_recovered    1765\n",
    "Name: 21, dtype: int64"
   ]
  },
  {
   "cell_type": "markdown",
   "id": "b7d78343",
   "metadata": {},
   "source": [
    "nombre_infected     6262\n",
    "nombre_sain         4564\n",
    "nombre_exposed      6833\n",
    "nombre_recovered    2341\n",
    "Name: 22, dtype: int64"
   ]
  },
  {
   "cell_type": "markdown",
   "id": "b0ba9041",
   "metadata": {},
   "source": [
    "nombre_infected     7209\n",
    "nombre_sain         3287\n",
    "nombre_exposed      6474\n",
    "nombre_recovered    3030\n",
    "Name: 23, dtype: int64"
   ]
  },
  {
   "cell_type": "markdown",
   "id": "544bef82",
   "metadata": {},
   "source": [
    "nombre_infected     7933\n",
    "nombre_sain         2282\n",
    "nombre_exposed      5942\n",
    "nombre_recovered    3843\n",
    "Name: 24, dtype: int64"
   ]
  },
  {
   "cell_type": "markdown",
   "id": "ffbc34f9",
   "metadata": {},
   "source": [
    "nombre_infected     8499\n",
    "nombre_sain         1576\n",
    "nombre_exposed      5184\n",
    "nombre_recovered    4741\n",
    "Name: 25, dtype: int64"
   ]
  },
  {
   "cell_type": "markdown",
   "id": "357bc299",
   "metadata": {},
   "source": [
    "nombre_infected     8870\n",
    "nombre_sain         1066\n",
    "nombre_exposed      4389\n",
    "nombre_recovered    5675\n",
    "Name: 26, dtype: int64"
   ]
  },
  {
   "cell_type": "markdown",
   "id": "584e6dc0",
   "metadata": {},
   "source": [
    "nombre_infected     8944\n",
    "nombre_sain          719\n",
    "nombre_exposed      3605\n",
    "nombre_recovered    6732\n",
    "Name: 27, dtype: int64"
   ]
  },
  {
   "cell_type": "markdown",
   "id": "43f2e924",
   "metadata": {},
   "source": [
    "nombre_infected     8764\n",
    "nombre_sain          473\n",
    "nombre_exposed      2960\n",
    "nombre_recovered    7803\n",
    "Name: 28, dtype: int64"
   ]
  },
  {
   "cell_type": "markdown",
   "id": "cb7f5608",
   "metadata": {},
   "source": [
    "nombre_infected     8542\n",
    "nombre_sain          325\n",
    "nombre_exposed      2346\n",
    "nombre_recovered    8787\n",
    "Name: 29, dtype: int64"
   ]
  },
  {
   "cell_type": "markdown",
   "id": "871bb493",
   "metadata": {},
   "source": [
    "nombre_infected     8146\n",
    "nombre_sain          233\n",
    "nombre_exposed      1813\n",
    "nombre_recovered    9808\n",
    "Name: 30, dtype: int64"
   ]
  },
  {
   "cell_type": "markdown",
   "id": "84a16722",
   "metadata": {},
   "source": [
    "nombre_infected      7526\n",
    "nombre_sain           177\n",
    "nombre_exposed       1454\n",
    "nombre_recovered    10843\n",
    "Name: 31, dtype: int64"
   ]
  },
  {
   "cell_type": "markdown",
   "id": "755f79b7",
   "metadata": {},
   "source": [
    "nombre_infected      6953\n",
    "nombre_sain           149\n",
    "nombre_exposed       1112\n",
    "nombre_recovered    11786\n",
    "Name: 32, dtype: int64"
   ]
  },
  {
   "cell_type": "markdown",
   "id": "b04f9d25",
   "metadata": {},
   "source": [
    "nombre_infected      6388\n",
    "nombre_sain           145\n",
    "nombre_exposed        861\n",
    "nombre_recovered    12606\n",
    "Name: 33, dtype: int64"
   ]
  },
  {
   "cell_type": "markdown",
   "id": "529d27b2",
   "metadata": {},
   "source": [
    "nombre_infected      5786\n",
    "nombre_sain           135\n",
    "nombre_exposed        713\n",
    "nombre_recovered    13366\n",
    "Name: 34, dtype: int64"
   ]
  },
  {
   "cell_type": "markdown",
   "id": "b2279b86",
   "metadata": {},
   "source": [
    "nombre_infected      5155\n",
    "nombre_sain           128\n",
    "nombre_exposed        579\n",
    "nombre_recovered    14138\n",
    "Name: 35, dtype: int64"
   ]
  },
  {
   "cell_type": "markdown",
   "id": "98681797",
   "metadata": {},
   "source": [
    "nombre_infected      4602\n",
    "nombre_sain           145\n",
    "nombre_exposed        482\n",
    "nombre_recovered    14771\n",
    "Name: 36, dtype: int64"
   ]
  },
  {
   "cell_type": "markdown",
   "id": "2bf4d15a",
   "metadata": {},
   "source": [
    "nombre_infected      4148\n",
    "nombre_sain           146\n",
    "nombre_exposed        402\n",
    "nombre_recovered    15304\n",
    "Name: 37, dtype: int64"
   ]
  },
  {
   "cell_type": "markdown",
   "id": "a8ccd505",
   "metadata": {},
   "source": [
    "nombre_infected      3705\n",
    "nombre_sain           153\n",
    "nombre_exposed        343\n",
    "nombre_recovered    15799\n",
    "Name: 38, dtype: int64"
   ]
  },
  {
   "cell_type": "markdown",
   "id": "eda3bb51",
   "metadata": {},
   "source": [
    "nombre_infected      3292\n",
    "nombre_sain           183\n",
    "nombre_exposed        299\n",
    "nombre_recovered    16226\n",
    "Name: 39, dtype: int64"
   ]
  },
  {
   "cell_type": "markdown",
   "id": "6aa3f853",
   "metadata": {},
   "source": [
    "nombre_infected      2921\n",
    "nombre_sain           202\n",
    "nombre_exposed        271\n",
    "nombre_recovered    16606\n",
    "Name: 40, dtype: int64"
   ]
  },
  {
   "cell_type": "markdown",
   "id": "c29056c8",
   "metadata": {},
   "source": [
    "nombre_infected      2588\n",
    "nombre_sain           213\n",
    "nombre_exposed        245\n",
    "nombre_recovered    16954\n",
    "Name: 41, dtype: int64"
   ]
  },
  {
   "cell_type": "markdown",
   "id": "ee763ed3",
   "metadata": {},
   "source": [
    "nombre_infected      2318\n",
    "nombre_sain           223\n",
    "nombre_exposed        206\n",
    "nombre_recovered    17253\n",
    "Name: 42, dtype: int64"
   ]
  },
  {
   "cell_type": "markdown",
   "id": "5739667b",
   "metadata": {},
   "source": [
    "nombre_infected      2069\n",
    "nombre_sain           240\n",
    "nombre_exposed        184\n",
    "nombre_recovered    17507\n",
    "Name: 43, dtype: int64"
   ]
  },
  {
   "cell_type": "markdown",
   "id": "d8d21d68",
   "metadata": {},
   "source": [
    "nombre_infected      1840\n",
    "nombre_sain           251\n",
    "nombre_exposed        166\n",
    "nombre_recovered    17743\n",
    "Name: 44, dtype: int64"
   ]
  },
  {
   "cell_type": "markdown",
   "id": "9200d35f",
   "metadata": {},
   "source": [
    "nombre_infected      1624\n",
    "nombre_sain           265\n",
    "nombre_exposed        140\n",
    "nombre_recovered    17971\n",
    "Name: 45, dtype: int64"
   ]
  },
  {
   "cell_type": "markdown",
   "id": "d7f6c97c",
   "metadata": {},
   "source": [
    "nombre_infected      1410\n",
    "nombre_sain           288\n",
    "nombre_exposed        121\n",
    "nombre_recovered    18181\n",
    "Name: 46, dtype: int64"
   ]
  },
  {
   "cell_type": "markdown",
   "id": "cc534264",
   "metadata": {},
   "source": [
    "nombre_infected      1227\n",
    "nombre_sain           304\n",
    "nombre_exposed        110\n",
    "nombre_recovered    18359\n",
    "Name: 47, dtype: int64"
   ]
  },
  {
   "cell_type": "markdown",
   "id": "ca6c66af",
   "metadata": {},
   "source": [
    "nombre_infected      1074\n",
    "nombre_sain           332\n",
    "nombre_exposed        103\n",
    "nombre_recovered    18491\n",
    "Name: 48, dtype: int64"
   ]
  },
  {
   "cell_type": "markdown",
   "id": "c786cfc3",
   "metadata": {},
   "source": [
    "nombre_infected       938\n",
    "nombre_sain           346\n",
    "nombre_exposed        105\n",
    "nombre_recovered    18611\n",
    "Name: 49, dtype: int64"
   ]
  },
  {
   "cell_type": "markdown",
   "id": "b1af0345",
   "metadata": {},
   "source": [
    "nombre_infected       830\n",
    "nombre_sain           361\n",
    "nombre_exposed        102\n",
    "nombre_recovered    18707\n",
    "Name: 50, dtype: int64"
   ]
  },
  {
   "cell_type": "markdown",
   "id": "d6f1e9ea",
   "metadata": {},
   "source": [
    "nombre_infected       751\n",
    "nombre_sain           384\n",
    "nombre_exposed         90\n",
    "nombre_recovered    18775\n",
    "Name: 51, dtype: int64"
   ]
  },
  {
   "cell_type": "markdown",
   "id": "e81e0707",
   "metadata": {},
   "source": [
    "nombre_infected       655\n",
    "nombre_sain           419\n",
    "nombre_exposed         87\n",
    "nombre_recovered    18839\n",
    "Name: 52, dtype: int64"
   ]
  },
  {
   "cell_type": "markdown",
   "id": "8c35b46c",
   "metadata": {},
   "source": [
    "nombre_infected       585\n",
    "nombre_sain           455\n",
    "nombre_exposed         88\n",
    "nombre_recovered    18872\n",
    "Name: 53, dtype: int64"
   ]
  },
  {
   "cell_type": "markdown",
   "id": "a5054708",
   "metadata": {},
   "source": [
    "nombre_infected       523\n",
    "nombre_sain           496\n",
    "nombre_exposed         80\n",
    "nombre_recovered    18901\n",
    "Name: 54, dtype: int64"
   ]
  },
  {
   "cell_type": "markdown",
   "id": "924eeb74",
   "metadata": {},
   "source": [
    "nombre_infected       476\n",
    "nombre_sain           537\n",
    "nombre_exposed         70\n",
    "nombre_recovered    18917\n",
    "Name: 55, dtype: int64"
   ]
  },
  {
   "cell_type": "markdown",
   "id": "89b186d0",
   "metadata": {},
   "source": [
    "nombre_infected       433\n",
    "nombre_sain           583\n",
    "nombre_exposed         66\n",
    "nombre_recovered    18918\n",
    "Name: 56, dtype: int64"
   ]
  },
  {
   "cell_type": "markdown",
   "id": "b6b9c06c",
   "metadata": {},
   "source": [
    "nombre_infected       381\n",
    "nombre_sain           619\n",
    "nombre_exposed         63\n",
    "nombre_recovered    18937\n",
    "Name: 57, dtype: int64"
   ]
  },
  {
   "cell_type": "markdown",
   "id": "142fd7a1",
   "metadata": {},
   "source": [
    "nombre_infected       343\n",
    "nombre_sain           681\n",
    "nombre_exposed         68\n",
    "nombre_recovered    18908\n",
    "Name: 58, dtype: int64"
   ]
  },
  {
   "cell_type": "markdown",
   "id": "ab92079b",
   "metadata": {},
   "source": [
    "nombre_infected       325\n",
    "nombre_sain           722\n",
    "nombre_exposed         61\n",
    "nombre_recovered    18892\n",
    "Name: 59, dtype: int64"
   ]
  },
  {
   "cell_type": "markdown",
   "id": "aeab7a95",
   "metadata": {},
   "source": [
    "nombre_infected       302\n",
    "nombre_sain           789\n",
    "nombre_exposed         72\n",
    "nombre_recovered    18837\n",
    "Name: 60, dtype: int64"
   ]
  },
  {
   "cell_type": "markdown",
   "id": "51234253",
   "metadata": {},
   "source": [
    "nombre_infected       269\n",
    "nombre_sain           847\n",
    "nombre_exposed         69\n",
    "nombre_recovered    18815\n",
    "Name: 61, dtype: int64"
   ]
  },
  {
   "cell_type": "markdown",
   "id": "e1922473",
   "metadata": {},
   "source": [
    "nombre_infected       242\n",
    "nombre_sain           915\n",
    "nombre_exposed         66\n",
    "nombre_recovered    18777\n",
    "Name: 62, dtype: int64"
   ]
  },
  {
   "cell_type": "markdown",
   "id": "9ca07b39",
   "metadata": {},
   "source": [
    "nombre_infected       227\n",
    "nombre_sain           985\n",
    "nombre_exposed         61\n",
    "nombre_recovered    18727\n",
    "Name: 63, dtype: int64"
   ]
  },
  {
   "cell_type": "markdown",
   "id": "41098fe3",
   "metadata": {},
   "source": [
    "nombre_infected       216\n",
    "nombre_sain          1034\n",
    "nombre_exposed         64\n",
    "nombre_recovered    18686\n",
    "Name: 64, dtype: int64"
   ]
  },
  {
   "cell_type": "markdown",
   "id": "577f8672",
   "metadata": {},
   "source": [
    "nombre_infected       212\n",
    "nombre_sain          1088\n",
    "nombre_exposed         60\n",
    "nombre_recovered    18640\n",
    "Name: 65, dtype: int64"
   ]
  },
  {
   "cell_type": "markdown",
   "id": "7eb6f431",
   "metadata": {},
   "source": [
    "nombre_infected       197\n",
    "nombre_sain          1135\n",
    "nombre_exposed         68\n",
    "nombre_recovered    18600\n",
    "Name: 66, dtype: int64"
   ]
  },
  {
   "cell_type": "markdown",
   "id": "db6a74b8",
   "metadata": {},
   "source": [
    "nombre_infected       196\n",
    "nombre_sain          1206\n",
    "nombre_exposed         64\n",
    "nombre_recovered    18534\n",
    "Name: 67, dtype: int64"
   ]
  },
  {
   "cell_type": "markdown",
   "id": "1d06a1b3",
   "metadata": {},
   "source": [
    "nombre_infected       196\n",
    "nombre_sain          1271\n",
    "nombre_exposed         63\n",
    "nombre_recovered    18470\n",
    "Name: 68, dtype: int64"
   ]
  },
  {
   "cell_type": "markdown",
   "id": "60b6fd36",
   "metadata": {},
   "source": [
    "nombre_infected       186\n",
    "nombre_sain          1326\n",
    "nombre_exposed         64\n",
    "nombre_recovered    18424\n",
    "Name: 69, dtype: int64"
   ]
  },
  {
   "cell_type": "markdown",
   "id": "fc7016b4",
   "metadata": {},
   "source": [
    "nombre_infected       186\n",
    "nombre_sain          1386\n",
    "nombre_exposed         66\n",
    "nombre_recovered    18362\n",
    "Name: 70, dtype: int64"
   ]
  },
  {
   "cell_type": "markdown",
   "id": "8852c0ff",
   "metadata": {},
   "source": [
    "nombre_infected       168\n",
    "nombre_sain          1430\n",
    "nombre_exposed         65\n",
    "nombre_recovered    18337\n",
    "Name: 71, dtype: int64"
   ]
  },
  {
   "cell_type": "markdown",
   "id": "66746a3d",
   "metadata": {},
   "source": [
    "nombre_infected       152\n",
    "nombre_sain          1496\n",
    "nombre_exposed         68\n",
    "nombre_recovered    18284\n",
    "Name: 72, dtype: int64"
   ]
  },
  {
   "cell_type": "markdown",
   "id": "717e8f60",
   "metadata": {},
   "source": [
    "nombre_infected       148\n",
    "nombre_sain          1567\n",
    "nombre_exposed         65\n",
    "nombre_recovered    18220\n",
    "Name: 73, dtype: int64"
   ]
  },
  {
   "cell_type": "markdown",
   "id": "55dc6bc9",
   "metadata": {},
   "source": [
    "nombre_infected       136\n",
    "nombre_sain          1596\n",
    "nombre_exposed         66\n",
    "nombre_recovered    18202\n",
    "Name: 74, dtype: int64"
   ]
  },
  {
   "cell_type": "markdown",
   "id": "12fe4eb2",
   "metadata": {},
   "source": [
    "nombre_infected       130\n",
    "nombre_sain          1652\n",
    "nombre_exposed         63\n",
    "nombre_recovered    18155\n",
    "Name: 75, dtype: int64"
   ]
  },
  {
   "cell_type": "markdown",
   "id": "60651028",
   "metadata": {},
   "source": [
    "nombre_infected       116\n",
    "nombre_sain          1694\n",
    "nombre_exposed         61\n",
    "nombre_recovered    18129\n",
    "Name: 76, dtype: int64"
   ]
  },
  {
   "cell_type": "markdown",
   "id": "7795bb0d",
   "metadata": {},
   "source": [
    "nombre_infected       112\n",
    "nombre_sain          1733\n",
    "nombre_exposed         57\n",
    "nombre_recovered    18098\n",
    "Name: 77, dtype: int64"
   ]
  },
  {
   "cell_type": "markdown",
   "id": "048f3b5b",
   "metadata": {},
   "source": [
    "nombre_infected       110\n",
    "nombre_sain          1772\n",
    "nombre_exposed         55\n",
    "nombre_recovered    18063\n",
    "Name: 78, dtype: int64"
   ]
  },
  {
   "cell_type": "markdown",
   "id": "cf765589",
   "metadata": {},
   "source": [
    "nombre_infected       109\n",
    "nombre_sain          1814\n",
    "nombre_exposed         52\n",
    "nombre_recovered    18025\n",
    "Name: 79, dtype: int64"
   ]
  },
  {
   "cell_type": "markdown",
   "id": "24cfb9db",
   "metadata": {},
   "source": [
    "nombre_infected       100\n",
    "nombre_sain          1845\n",
    "nombre_exposed         61\n",
    "nombre_recovered    17994\n",
    "Name: 80, dtype: int64"
   ]
  },
  {
   "cell_type": "markdown",
   "id": "5641a5f1",
   "metadata": {},
   "source": [
    "nombre_infected        99\n",
    "nombre_sain          1887\n",
    "nombre_exposed         64\n",
    "nombre_recovered    17950\n",
    "Name: 81, dtype: int64"
   ]
  },
  {
   "cell_type": "markdown",
   "id": "bf668975",
   "metadata": {},
   "source": [
    "nombre_infected        98\n",
    "nombre_sain          1911\n",
    "nombre_exposed         65\n",
    "nombre_recovered    17926\n",
    "Name: 82, dtype: int64"
   ]
  },
  {
   "cell_type": "markdown",
   "id": "75254c6e",
   "metadata": {},
   "source": [
    "nombre_infected        98\n",
    "nombre_sain          1945\n",
    "nombre_exposed         72\n",
    "nombre_recovered    17885\n",
    "Name: 83, dtype: int64"
   ]
  },
  {
   "cell_type": "markdown",
   "id": "46a0f79e",
   "metadata": {},
   "source": [
    "nombre_infected        94\n",
    "nombre_sain          1991\n",
    "nombre_exposed         72\n",
    "nombre_recovered    17843\n",
    "Name: 84, dtype: int64"
   ]
  },
  {
   "cell_type": "markdown",
   "id": "7aa6e271",
   "metadata": {},
   "source": [
    "nombre_infected        94\n",
    "nombre_sain          2037\n",
    "nombre_exposed         75\n",
    "nombre_recovered    17794\n",
    "Name: 85, dtype: int64"
   ]
  },
  {
   "cell_type": "markdown",
   "id": "572c3d4e",
   "metadata": {},
   "source": [
    "nombre_infected        89\n",
    "nombre_sain          2096\n",
    "nombre_exposed         77\n",
    "nombre_recovered    17738\n",
    "Name: 86, dtype: int64"
   ]
  },
  {
   "cell_type": "markdown",
   "id": "571118ea",
   "metadata": {},
   "source": [
    "nombre_infected        88\n",
    "nombre_sain          2145\n",
    "nombre_exposed         77\n",
    "nombre_recovered    17690\n",
    "Name: 87, dtype: int64"
   ]
  },
  {
   "cell_type": "markdown",
   "id": "4c0e33ad",
   "metadata": {},
   "source": [
    "nombre_infected        95\n",
    "nombre_sain          2197\n",
    "nombre_exposed         71\n",
    "nombre_recovered    17637\n",
    "Name: 88, dtype: int64"
   ]
  },
  {
   "cell_type": "markdown",
   "id": "ee373576",
   "metadata": {},
   "source": [
    "nombre_infected        98\n",
    "nombre_sain          2243\n",
    "nombre_exposed         70\n",
    "nombre_recovered    17589\n",
    "Name: 89, dtype: int64"
   ]
  },
  {
   "cell_type": "markdown",
   "id": "bc41da38",
   "metadata": {},
   "source": [
    "nombre_infected       101\n",
    "nombre_sain          2306\n",
    "nombre_exposed         69\n",
    "nombre_recovered    17524\n",
    "Name: 90, dtype: int64"
   ]
  },
  {
   "cell_type": "markdown",
   "id": "840346f8",
   "metadata": {},
   "source": [
    "nombre_infected       109\n",
    "nombre_sain          2352\n",
    "nombre_exposed         71\n",
    "nombre_recovered    17468\n",
    "Name: 91, dtype: int64"
   ]
  },
  {
   "cell_type": "markdown",
   "id": "9c701238",
   "metadata": {},
   "source": [
    "nombre_infected       115\n",
    "nombre_sain          2416\n",
    "nombre_exposed         64\n",
    "nombre_recovered    17405\n",
    "Name: 92, dtype: int64"
   ]
  },
  {
   "cell_type": "markdown",
   "id": "7e700973",
   "metadata": {},
   "source": [
    "nombre_infected       108\n",
    "nombre_sain          2452\n",
    "nombre_exposed         72\n",
    "nombre_recovered    17368\n",
    "Name: 93, dtype: int64"
   ]
  },
  {
   "cell_type": "markdown",
   "id": "313e8b84",
   "metadata": {},
   "source": [
    "nombre_infected       109\n",
    "nombre_sain          2498\n",
    "nombre_exposed         74\n",
    "nombre_recovered    17319\n",
    "Name: 94, dtype: int64"
   ]
  },
  {
   "cell_type": "markdown",
   "id": "ee1fc12b",
   "metadata": {},
   "source": [
    "nombre_infected       111\n",
    "nombre_sain          2526\n",
    "nombre_exposed         77\n",
    "nombre_recovered    17286\n",
    "Name: 95, dtype: int64"
   ]
  },
  {
   "cell_type": "markdown",
   "id": "4c35a881",
   "metadata": {},
   "source": [
    "nombre_infected       116\n",
    "nombre_sain          2561\n",
    "nombre_exposed         81\n",
    "nombre_recovered    17242\n",
    "Name: 96, dtype: int64"
   ]
  },
  {
   "cell_type": "markdown",
   "id": "ca4241e6",
   "metadata": {},
   "source": [
    "nombre_infected       113\n",
    "nombre_sain          2600\n",
    "nombre_exposed         83\n",
    "nombre_recovered    17204\n",
    "Name: 97, dtype: int64"
   ]
  },
  {
   "cell_type": "markdown",
   "id": "05e72adc",
   "metadata": {},
   "source": [
    "nombre_infected       122\n",
    "nombre_sain          2634\n",
    "nombre_exposed         77\n",
    "nombre_recovered    17167\n",
    "Name: 98, dtype: int64"
   ]
  },
  {
   "cell_type": "markdown",
   "id": "d8b9bfba",
   "metadata": {},
   "source": [
    "nombre_infected       132\n",
    "nombre_sain          2679\n",
    "nombre_exposed         76\n",
    "nombre_recovered    17113\n",
    "Name: 99, dtype: int64"
   ]
  },
  {
   "cell_type": "markdown",
   "id": "7f5e6bc5",
   "metadata": {},
   "source": [
    "nombre_infected       139\n",
    "nombre_sain          2724\n",
    "nombre_exposed         83\n",
    "nombre_recovered    17054\n",
    "Name: 100, dtype: int64"
   ]
  },
  {
   "cell_type": "markdown",
   "id": "5fc9f230",
   "metadata": {},
   "source": [
    "nombre_infected       130\n",
    "nombre_sain          2760\n",
    "nombre_exposed         89\n",
    "nombre_recovered    17021\n",
    "Name: 101, dtype: int64"
   ]
  },
  {
   "cell_type": "markdown",
   "id": "27a09402",
   "metadata": {},
   "source": [
    "nombre_infected       120\n",
    "nombre_sain          2796\n",
    "nombre_exposed        100\n",
    "nombre_recovered    16984\n",
    "Name: 102, dtype: int64"
   ]
  },
  {
   "cell_type": "markdown",
   "id": "aa8f3323",
   "metadata": {},
   "source": [
    "nombre_infected       128\n",
    "nombre_sain          2822\n",
    "nombre_exposed        108\n",
    "nombre_recovered    16942\n",
    "Name: 103, dtype: int64"
   ]
  },
  {
   "cell_type": "markdown",
   "id": "a46d653f",
   "metadata": {},
   "source": [
    "nombre_infected       138\n",
    "nombre_sain          2851\n",
    "nombre_exposed        110\n",
    "nombre_recovered    16901\n",
    "Name: 104, dtype: int64"
   ]
  },
  {
   "cell_type": "markdown",
   "id": "5ea8a3ff",
   "metadata": {},
   "source": [
    "nombre_infected       149\n",
    "nombre_sain          2886\n",
    "nombre_exposed        109\n",
    "nombre_recovered    16856\n",
    "Name: 105, dtype: int64"
   ]
  },
  {
   "cell_type": "markdown",
   "id": "b6e5c391",
   "metadata": {},
   "source": [
    "nombre_infected       158\n",
    "nombre_sain          2916\n",
    "nombre_exposed        103\n",
    "nombre_recovered    16823\n",
    "Name: 106, dtype: int64"
   ]
  },
  {
   "cell_type": "markdown",
   "id": "7f549411",
   "metadata": {},
   "source": [
    "nombre_infected       152\n",
    "nombre_sain          2949\n",
    "nombre_exposed        118\n",
    "nombre_recovered    16781\n",
    "Name: 107, dtype: int64"
   ]
  },
  {
   "cell_type": "markdown",
   "id": "f5fa7aca",
   "metadata": {},
   "source": [
    "nombre_infected       162\n",
    "nombre_sain          3003\n",
    "nombre_exposed        109\n",
    "nombre_recovered    16726\n",
    "Name: 108, dtype: int64"
   ]
  },
  {
   "cell_type": "markdown",
   "id": "ec6c6fd3",
   "metadata": {},
   "source": [
    "nombre_infected       158\n",
    "nombre_sain          3035\n",
    "nombre_exposed        128\n",
    "nombre_recovered    16679\n",
    "Name: 109, dtype: int64"
   ]
  },
  {
   "cell_type": "markdown",
   "id": "92f85696",
   "metadata": {},
   "source": [
    "nombre_infected       155\n",
    "nombre_sain          3064\n",
    "nombre_exposed        142\n",
    "nombre_recovered    16639\n",
    "Name: 110, dtype: int64"
   ]
  },
  {
   "cell_type": "markdown",
   "id": "c418830a",
   "metadata": {},
   "source": [
    "nombre_infected       168\n",
    "nombre_sain          3098\n",
    "nombre_exposed        130\n",
    "nombre_recovered    16604\n",
    "Name: 111, dtype: int64"
   ]
  },
  {
   "cell_type": "markdown",
   "id": "6819cdeb",
   "metadata": {},
   "source": [
    "nombre_infected       174\n",
    "nombre_sain          3112\n",
    "nombre_exposed        143\n",
    "nombre_recovered    16571\n",
    "Name: 112, dtype: int64"
   ]
  },
  {
   "cell_type": "markdown",
   "id": "9e240964",
   "metadata": {},
   "source": [
    "nombre_infected       175\n",
    "nombre_sain          3124\n",
    "nombre_exposed        142\n",
    "nombre_recovered    16559\n",
    "Name: 113, dtype: int64"
   ]
  },
  {
   "cell_type": "markdown",
   "id": "5bf643a0",
   "metadata": {},
   "source": [
    "nombre_infected       181\n",
    "nombre_sain          3128\n",
    "nombre_exposed        150\n",
    "nombre_recovered    16541\n",
    "Name: 114, dtype: int64"
   ]
  },
  {
   "cell_type": "markdown",
   "id": "34e10ae5",
   "metadata": {},
   "source": [
    "nombre_infected       192\n",
    "nombre_sain          3139\n",
    "nombre_exposed        150\n",
    "nombre_recovered    16519\n",
    "Name: 115, dtype: int64"
   ]
  },
  {
   "cell_type": "markdown",
   "id": "e02a4a33",
   "metadata": {},
   "source": [
    "nombre_infected       206\n",
    "nombre_sain          3153\n",
    "nombre_exposed        151\n",
    "nombre_recovered    16490\n",
    "Name: 116, dtype: int64"
   ]
  },
  {
   "cell_type": "markdown",
   "id": "e528e666",
   "metadata": {},
   "source": [
    "nombre_infected       216\n",
    "nombre_sain          3157\n",
    "nombre_exposed        154\n",
    "nombre_recovered    16473\n",
    "Name: 117, dtype: int64"
   ]
  },
  {
   "cell_type": "markdown",
   "id": "25580683",
   "metadata": {},
   "source": [
    "nombre_infected       223\n",
    "nombre_sain          3155\n",
    "nombre_exposed        164\n",
    "nombre_recovered    16458\n",
    "Name: 118, dtype: int64"
   ]
  },
  {
   "cell_type": "markdown",
   "id": "0f5f32e2",
   "metadata": {},
   "source": [
    "nombre_infected       239\n",
    "nombre_sain          3161\n",
    "nombre_exposed        171\n",
    "nombre_recovered    16429\n",
    "Name: 119, dtype: int64"
   ]
  },
  {
   "cell_type": "markdown",
   "id": "4464aa57",
   "metadata": {},
   "source": [
    "nombre_infected       249\n",
    "nombre_sain          3168\n",
    "nombre_exposed        180\n",
    "nombre_recovered    16403\n",
    "Name: 120, dtype: int64"
   ]
  },
  {
   "cell_type": "markdown",
   "id": "d183580c",
   "metadata": {},
   "source": [
    "nombre_infected       250\n",
    "nombre_sain          3181\n",
    "nombre_exposed        180\n",
    "nombre_recovered    16389\n",
    "Name: 121, dtype: int64"
   ]
  },
  {
   "cell_type": "markdown",
   "id": "dbd688e1",
   "metadata": {},
   "source": [
    "nombre_infected       251\n",
    "nombre_sain          3190\n",
    "nombre_exposed        192\n",
    "nombre_recovered    16367\n",
    "Name: 122, dtype: int64"
   ]
  },
  {
   "cell_type": "markdown",
   "id": "bdf651ff",
   "metadata": {},
   "source": [
    "nombre_infected       258\n",
    "nombre_sain          3183\n",
    "nombre_exposed        196\n",
    "nombre_recovered    16363\n",
    "Name: 123, dtype: int64"
   ]
  },
  {
   "cell_type": "markdown",
   "id": "ee31cb43",
   "metadata": {},
   "source": [
    "nombre_infected       265\n",
    "nombre_sain          3176\n",
    "nombre_exposed        216\n",
    "nombre_recovered    16343\n",
    "Name: 124, dtype: int64"
   ]
  },
  {
   "cell_type": "markdown",
   "id": "c2bfe37e",
   "metadata": {},
   "source": [
    "nombre_infected       281\n",
    "nombre_sain          3171\n",
    "nombre_exposed        215\n",
    "nombre_recovered    16333\n",
    "Name: 125, dtype: int64"
   ]
  },
  {
   "cell_type": "markdown",
   "id": "1359e872",
   "metadata": {},
   "source": [
    "nombre_infected       297\n",
    "nombre_sain          3164\n",
    "nombre_exposed        208\n",
    "nombre_recovered    16331\n",
    "Name: 126, dtype: int64"
   ]
  },
  {
   "cell_type": "markdown",
   "id": "6b23d4e9",
   "metadata": {},
   "source": [
    "nombre_infected       312\n",
    "nombre_sain          3149\n",
    "nombre_exposed        217\n",
    "nombre_recovered    16322\n",
    "Name: 127, dtype: int64"
   ]
  },
  {
   "cell_type": "markdown",
   "id": "eb3e1745",
   "metadata": {},
   "source": [
    "nombre_infected       312\n",
    "nombre_sain          3144\n",
    "nombre_exposed        230\n",
    "nombre_recovered    16314\n",
    "Name: 128, dtype: int64"
   ]
  },
  {
   "cell_type": "markdown",
   "id": "9e8b6d07",
   "metadata": {},
   "source": [
    "nombre_infected       316\n",
    "nombre_sain          3125\n",
    "nombre_exposed        240\n",
    "nombre_recovered    16319\n",
    "Name: 129, dtype: int64"
   ]
  },
  {
   "cell_type": "markdown",
   "id": "b482ea83",
   "metadata": {},
   "source": [
    "nombre_infected       322\n",
    "nombre_sain          3104\n",
    "nombre_exposed        252\n",
    "nombre_recovered    16322\n",
    "Name: 130, dtype: int64"
   ]
  },
  {
   "cell_type": "markdown",
   "id": "743866f0",
   "metadata": {},
   "source": [
    "nombre_infected       341\n",
    "nombre_sain          3113\n",
    "nombre_exposed        247\n",
    "nombre_recovered    16299\n",
    "Name: 131, dtype: int64"
   ]
  },
  {
   "cell_type": "markdown",
   "id": "646358b5",
   "metadata": {},
   "source": [
    "nombre_infected       348\n",
    "nombre_sain          3105\n",
    "nombre_exposed        256\n",
    "nombre_recovered    16291\n",
    "Name: 132, dtype: int64"
   ]
  },
  {
   "cell_type": "markdown",
   "id": "6180190f",
   "metadata": {},
   "source": [
    "nombre_infected       372\n",
    "nombre_sain          3088\n",
    "nombre_exposed        255\n",
    "nombre_recovered    16285\n",
    "Name: 133, dtype: int64"
   ]
  },
  {
   "cell_type": "markdown",
   "id": "bc869b8c",
   "metadata": {},
   "source": [
    "nombre_infected       382\n",
    "nombre_sain          3082\n",
    "nombre_exposed        280\n",
    "nombre_recovered    16256\n",
    "Name: 134, dtype: int64"
   ]
  },
  {
   "cell_type": "markdown",
   "id": "5fdeed3c",
   "metadata": {},
   "source": [
    "nombre_infected       407\n",
    "nombre_sain          3068\n",
    "nombre_exposed        285\n",
    "nombre_recovered    16240\n",
    "Name: 135, dtype: int64"
   ]
  },
  {
   "cell_type": "markdown",
   "id": "36867ebd",
   "metadata": {},
   "source": [
    "nombre_infected       419\n",
    "nombre_sain          3046\n",
    "nombre_exposed        308\n",
    "nombre_recovered    16227\n",
    "Name: 136, dtype: int64"
   ]
  },
  {
   "cell_type": "markdown",
   "id": "2b9506cb",
   "metadata": {},
   "source": [
    "nombre_infected       435\n",
    "nombre_sain          3018\n",
    "nombre_exposed        333\n",
    "nombre_recovered    16214\n",
    "Name: 137, dtype: int64"
   ]
  },
  {
   "cell_type": "markdown",
   "id": "8dd1224f",
   "metadata": {},
   "source": [
    "nombre_infected       465\n",
    "nombre_sain          3004\n",
    "nombre_exposed        332\n",
    "nombre_recovered    16199\n",
    "Name: 138, dtype: int64"
   ]
  },
  {
   "cell_type": "markdown",
   "id": "d2e97a58",
   "metadata": {},
   "source": [
    "nombre_infected       478\n",
    "nombre_sain          2996\n",
    "nombre_exposed        328\n",
    "nombre_recovered    16198\n",
    "Name: 139, dtype: int64"
   ]
  },
  {
   "cell_type": "markdown",
   "id": "c4ae5a95",
   "metadata": {},
   "source": [
    "nombre_infected       503\n",
    "nombre_sain          2982\n",
    "nombre_exposed        328\n",
    "nombre_recovered    16187\n",
    "Name: 140, dtype: int64"
   ]
  },
  {
   "cell_type": "markdown",
   "id": "55167a53",
   "metadata": {},
   "source": [
    "nombre_infected       522\n",
    "nombre_sain          2940\n",
    "nombre_exposed        364\n",
    "nombre_recovered    16174\n",
    "Name: 141, dtype: int64"
   ]
  },
  {
   "cell_type": "markdown",
   "id": "a5eb858c",
   "metadata": {},
   "source": [
    "nombre_infected       533\n",
    "nombre_sain          2937\n",
    "nombre_exposed        368\n",
    "nombre_recovered    16162\n",
    "Name: 142, dtype: int64"
   ]
  },
  {
   "cell_type": "markdown",
   "id": "79986ca4",
   "metadata": {},
   "source": [
    "nombre_infected       573\n",
    "nombre_sain          2889\n",
    "nombre_exposed        374\n",
    "nombre_recovered    16164\n",
    "Name: 143, dtype: int64"
   ]
  },
  {
   "cell_type": "markdown",
   "id": "e442289d",
   "metadata": {},
   "source": [
    "nombre_infected       597\n",
    "nombre_sain          2863\n",
    "nombre_exposed        393\n",
    "nombre_recovered    16147\n",
    "Name: 144, dtype: int64"
   ]
  },
  {
   "cell_type": "markdown",
   "id": "949bf5f5",
   "metadata": {},
   "source": [
    "nombre_infected       617\n",
    "nombre_sain          2828\n",
    "nombre_exposed        408\n",
    "nombre_recovered    16147\n",
    "Name: 145, dtype: int64"
   ]
  },
  {
   "cell_type": "markdown",
   "id": "39d7aed4",
   "metadata": {},
   "source": [
    "nombre_infected       638\n",
    "nombre_sain          2778\n",
    "nombre_exposed        422\n",
    "nombre_recovered    16162\n",
    "Name: 146, dtype: int64"
   ]
  },
  {
   "cell_type": "markdown",
   "id": "6b6177e8",
   "metadata": {},
   "source": [
    "nombre_infected       653\n",
    "nombre_sain          2729\n",
    "nombre_exposed        441\n",
    "nombre_recovered    16177\n",
    "Name: 147, dtype: int64"
   ]
  },
  {
   "cell_type": "markdown",
   "id": "543eeebf",
   "metadata": {},
   "source": [
    "nombre_infected       664\n",
    "nombre_sain          2658\n",
    "nombre_exposed        470\n",
    "nombre_recovered    16208\n",
    "Name: 148, dtype: int64"
   ]
  },
  {
   "cell_type": "markdown",
   "id": "3b2f3d88",
   "metadata": {},
   "source": [
    "nombre_infected       690\n",
    "nombre_sain          2627\n",
    "nombre_exposed        453\n",
    "nombre_recovered    16230\n",
    "Name: 149, dtype: int64"
   ]
  },
  {
   "cell_type": "markdown",
   "id": "8ad2484e",
   "metadata": {},
   "source": [
    "nombre_infected       737\n",
    "nombre_sain          2552\n",
    "nombre_exposed        461\n",
    "nombre_recovered    16250\n",
    "Name: 150, dtype: int64"
   ]
  },
  {
   "cell_type": "markdown",
   "id": "69e87ecb",
   "metadata": {},
   "source": [
    "nombre_infected       749\n",
    "nombre_sain          2495\n",
    "nombre_exposed        478\n",
    "nombre_recovered    16278\n",
    "Name: 151, dtype: int64"
   ]
  },
  {
   "cell_type": "markdown",
   "id": "b077f395",
   "metadata": {},
   "source": [
    "nombre_infected       772\n",
    "nombre_sain          2435\n",
    "nombre_exposed        467\n",
    "nombre_recovered    16326\n",
    "Name: 152, dtype: int64"
   ]
  },
  {
   "cell_type": "markdown",
   "id": "46a9a6ab",
   "metadata": {},
   "source": [
    "nombre_infected       793\n",
    "nombre_sain          2356\n",
    "nombre_exposed        483\n",
    "nombre_recovered    16368\n",
    "Name: 153, dtype: int64"
   ]
  },
  {
   "cell_type": "markdown",
   "id": "6ada5b84",
   "metadata": {},
   "source": [
    "nombre_infected       805\n",
    "nombre_sain          2308\n",
    "nombre_exposed        467\n",
    "nombre_recovered    16420\n",
    "Name: 154, dtype: int64"
   ]
  },
  {
   "cell_type": "markdown",
   "id": "a3acb66c",
   "metadata": {},
   "source": [
    "nombre_infected       811\n",
    "nombre_sain          2259\n",
    "nombre_exposed        469\n",
    "nombre_recovered    16461\n",
    "Name: 155, dtype: int64"
   ]
  },
  {
   "cell_type": "markdown",
   "id": "c62a7d39",
   "metadata": {},
   "source": [
    "nombre_infected       800\n",
    "nombre_sain          2232\n",
    "nombre_exposed        483\n",
    "nombre_recovered    16485\n",
    "Name: 156, dtype: int64"
   ]
  },
  {
   "cell_type": "markdown",
   "id": "a188ffe1",
   "metadata": {},
   "source": [
    "nombre_infected       838\n",
    "nombre_sain          2198\n",
    "nombre_exposed        450\n",
    "nombre_recovered    16514\n",
    "Name: 157, dtype: int64"
   ]
  },
  {
   "cell_type": "markdown",
   "id": "18c47e51",
   "metadata": {},
   "source": [
    "nombre_infected       853\n",
    "nombre_sain          2172\n",
    "nombre_exposed        451\n",
    "nombre_recovered    16524\n",
    "Name: 158, dtype: int64"
   ]
  },
  {
   "cell_type": "markdown",
   "id": "7e19181c",
   "metadata": {},
   "source": [
    "nombre_infected       879\n",
    "nombre_sain          2109\n",
    "nombre_exposed        466\n",
    "nombre_recovered    16546\n",
    "Name: 159, dtype: int64"
   ]
  },
  {
   "cell_type": "markdown",
   "id": "a3b01a44",
   "metadata": {},
   "source": [
    "nombre_infected       867\n",
    "nombre_sain          2080\n",
    "nombre_exposed        475\n",
    "nombre_recovered    16578\n",
    "Name: 160, dtype: int64"
   ]
  },
  {
   "cell_type": "markdown",
   "id": "0574c2a7",
   "metadata": {},
   "source": [
    "nombre_infected       866\n",
    "nombre_sain          2070\n",
    "nombre_exposed        461\n",
    "nombre_recovered    16603\n",
    "Name: 161, dtype: int64"
   ]
  },
  {
   "cell_type": "markdown",
   "id": "ad3d3af1",
   "metadata": {},
   "source": [
    "nombre_infected       867\n",
    "nombre_sain          2008\n",
    "nombre_exposed        465\n",
    "nombre_recovered    16660\n",
    "Name: 162, dtype: int64"
   ]
  },
  {
   "cell_type": "markdown",
   "id": "e1ab396a",
   "metadata": {},
   "source": [
    "nombre_infected       883\n",
    "nombre_sain          1979\n",
    "nombre_exposed        452\n",
    "nombre_recovered    16686\n",
    "Name: 163, dtype: int64"
   ]
  },
  {
   "cell_type": "markdown",
   "id": "ff255ca8",
   "metadata": {},
   "source": [
    "nombre_infected       886\n",
    "nombre_sain          1923\n",
    "nombre_exposed        464\n",
    "nombre_recovered    16727\n",
    "Name: 164, dtype: int64"
   ]
  },
  {
   "cell_type": "markdown",
   "id": "272ada7a",
   "metadata": {},
   "source": [
    "nombre_infected       888\n",
    "nombre_sain          1881\n",
    "nombre_exposed        439\n",
    "nombre_recovered    16792\n",
    "Name: 165, dtype: int64"
   ]
  },
  {
   "cell_type": "markdown",
   "id": "50dbc823",
   "metadata": {},
   "source": [
    "nombre_infected       893\n",
    "nombre_sain          1848\n",
    "nombre_exposed        411\n",
    "nombre_recovered    16848\n",
    "Name: 166, dtype: int64"
   ]
  },
  {
   "cell_type": "markdown",
   "id": "77d709f6",
   "metadata": {},
   "source": [
    "nombre_infected       880\n",
    "nombre_sain          1818\n",
    "nombre_exposed        397\n",
    "nombre_recovered    16905\n",
    "Name: 167, dtype: int64"
   ]
  },
  {
   "cell_type": "markdown",
   "id": "c41afc08",
   "metadata": {},
   "source": [
    "nombre_infected       859\n",
    "nombre_sain          1788\n",
    "nombre_exposed        394\n",
    "nombre_recovered    16959\n",
    "Name: 168, dtype: int64"
   ]
  },
  {
   "cell_type": "markdown",
   "id": "407d026a",
   "metadata": {},
   "source": [
    "nombre_infected       862\n",
    "nombre_sain          1757\n",
    "nombre_exposed        384\n",
    "nombre_recovered    16997\n",
    "Name: 169, dtype: int64"
   ]
  },
  {
   "cell_type": "markdown",
   "id": "61837486",
   "metadata": {},
   "source": [
    "nombre_infected       843\n",
    "nombre_sain          1740\n",
    "nombre_exposed        403\n",
    "nombre_recovered    17014\n",
    "Name: 170, dtype: int64"
   ]
  },
  {
   "cell_type": "markdown",
   "id": "5f581508",
   "metadata": {},
   "source": [
    "nombre_infected       833\n",
    "nombre_sain          1737\n",
    "nombre_exposed        396\n",
    "nombre_recovered    17034\n",
    "Name: 171, dtype: int64"
   ]
  },
  {
   "cell_type": "markdown",
   "id": "a0dfe902",
   "metadata": {},
   "source": [
    "nombre_infected       835\n",
    "nombre_sain          1734\n",
    "nombre_exposed        377\n",
    "nombre_recovered    17054\n",
    "Name: 172, dtype: int64"
   ]
  },
  {
   "cell_type": "markdown",
   "id": "70b929f4",
   "metadata": {},
   "source": [
    "nombre_infected       815\n",
    "nombre_sain          1744\n",
    "nombre_exposed        344\n",
    "nombre_recovered    17097\n",
    "Name: 173, dtype: int64"
   ]
  },
  {
   "cell_type": "markdown",
   "id": "08b3515a",
   "metadata": {},
   "source": [
    "nombre_infected       792\n",
    "nombre_sain          1751\n",
    "nombre_exposed        335\n",
    "nombre_recovered    17122\n",
    "Name: 174, dtype: int64"
   ]
  },
  {
   "cell_type": "markdown",
   "id": "4a84ff42",
   "metadata": {},
   "source": [
    "nombre_infected       784\n",
    "nombre_sain          1742\n",
    "nombre_exposed        332\n",
    "nombre_recovered    17142\n",
    "Name: 175, dtype: int64"
   ]
  },
  {
   "cell_type": "markdown",
   "id": "d8495742",
   "metadata": {},
   "source": [
    "nombre_infected       762\n",
    "nombre_sain          1754\n",
    "nombre_exposed        327\n",
    "nombre_recovered    17157\n",
    "Name: 176, dtype: int64"
   ]
  },
  {
   "cell_type": "markdown",
   "id": "2df76df5",
   "metadata": {},
   "source": [
    "nombre_infected       738\n",
    "nombre_sain          1774\n",
    "nombre_exposed        298\n",
    "nombre_recovered    17190\n",
    "Name: 177, dtype: int64"
   ]
  },
  {
   "cell_type": "markdown",
   "id": "9180dbd0",
   "metadata": {},
   "source": [
    "nombre_infected       718\n",
    "nombre_sain          1753\n",
    "nombre_exposed        315\n",
    "nombre_recovered    17214\n",
    "Name: 178, dtype: int64"
   ]
  },
  {
   "cell_type": "markdown",
   "id": "32eff2f2",
   "metadata": {},
   "source": [
    "nombre_infected       692\n",
    "nombre_sain          1755\n",
    "nombre_exposed        324\n",
    "nombre_recovered    17229\n",
    "Name: 179, dtype: int64"
   ]
  },
  {
   "cell_type": "markdown",
   "id": "a9005d06",
   "metadata": {},
   "source": [
    "nombre_infected       676\n",
    "nombre_sain          1772\n",
    "nombre_exposed        308\n",
    "nombre_recovered    17244\n",
    "Name: 180, dtype: int64"
   ]
  },
  {
   "cell_type": "markdown",
   "id": "11fccaf6",
   "metadata": {},
   "source": [
    "nombre_infected       649\n",
    "nombre_sain          1775\n",
    "nombre_exposed        313\n",
    "nombre_recovered    17263\n",
    "Name: 181, dtype: int64"
   ]
  },
  {
   "cell_type": "markdown",
   "id": "16a5c48b",
   "metadata": {},
   "source": [
    "nombre_infected       644\n",
    "nombre_sain          1803\n",
    "nombre_exposed        299\n",
    "nombre_recovered    17254\n",
    "Name: 182, dtype: int64"
   ]
  },
  {
   "cell_type": "markdown",
   "id": "6d7c8142",
   "metadata": {},
   "source": [
    "nombre_infected       631\n",
    "nombre_sain          1802\n",
    "nombre_exposed        319\n",
    "nombre_recovered    17248\n",
    "Name: 183, dtype: int64"
   ]
  },
  {
   "cell_type": "markdown",
   "id": "21ba902e",
   "metadata": {},
   "source": [
    "nombre_infected       638\n",
    "nombre_sain          1810\n",
    "nombre_exposed        308\n",
    "nombre_recovered    17244\n",
    "Name: 184, dtype: int64"
   ]
  },
  {
   "cell_type": "markdown",
   "id": "c6853111",
   "metadata": {},
   "source": [
    "nombre_infected       619\n",
    "nombre_sain          1837\n",
    "nombre_exposed        323\n",
    "nombre_recovered    17221\n",
    "Name: 185, dtype: int64"
   ]
  },
  {
   "cell_type": "markdown",
   "id": "f5e5ce5b",
   "metadata": {},
   "source": [
    "nombre_infected       629\n",
    "nombre_sain          1872\n",
    "nombre_exposed        318\n",
    "nombre_recovered    17181\n",
    "Name: 186, dtype: int64"
   ]
  },
  {
   "cell_type": "markdown",
   "id": "ae7b3f42",
   "metadata": {},
   "source": [
    "nombre_infected       635\n",
    "nombre_sain          1911\n",
    "nombre_exposed        298\n",
    "nombre_recovered    17156\n",
    "Name: 187, dtype: int64"
   ]
  },
  {
   "cell_type": "markdown",
   "id": "8429873b",
   "metadata": {},
   "source": [
    "nombre_infected       627\n",
    "nombre_sain          1940\n",
    "nombre_exposed        302\n",
    "nombre_recovered    17131\n",
    "Name: 188, dtype: int64"
   ]
  },
  {
   "cell_type": "markdown",
   "id": "ecabf4e7",
   "metadata": {},
   "source": [
    "nombre_infected       628\n",
    "nombre_sain          1970\n",
    "nombre_exposed        307\n",
    "nombre_recovered    17095\n",
    "Name: 189, dtype: int64"
   ]
  },
  {
   "cell_type": "markdown",
   "id": "cb5c759a",
   "metadata": {},
   "source": [
    "nombre_infected       614\n",
    "nombre_sain          1998\n",
    "nombre_exposed        313\n",
    "nombre_recovered    17075\n",
    "Name: 190, dtype: int64"
   ]
  },
  {
   "cell_type": "markdown",
   "id": "7c07c490",
   "metadata": {},
   "source": [
    "nombre_infected       597\n",
    "nombre_sain          2043\n",
    "nombre_exposed        310\n",
    "nombre_recovered    17050\n",
    "Name: 191, dtype: int64"
   ]
  },
  {
   "cell_type": "markdown",
   "id": "c5c8157b",
   "metadata": {},
   "source": [
    "nombre_infected       593\n",
    "nombre_sain          2063\n",
    "nombre_exposed        317\n",
    "nombre_recovered    17027\n",
    "Name: 192, dtype: int64"
   ]
  },
  {
   "cell_type": "markdown",
   "id": "5623baa3",
   "metadata": {},
   "source": [
    "nombre_infected       576\n",
    "nombre_sain          2097\n",
    "nombre_exposed        300\n",
    "nombre_recovered    17027\n",
    "Name: 193, dtype: int64"
   ]
  },
  {
   "cell_type": "markdown",
   "id": "b82cd1db",
   "metadata": {},
   "source": [
    "nombre_infected       561\n",
    "nombre_sain          2135\n",
    "nombre_exposed        295\n",
    "nombre_recovered    17009\n",
    "Name: 194, dtype: int64"
   ]
  },
  {
   "cell_type": "markdown",
   "id": "bc43b049",
   "metadata": {},
   "source": [
    "nombre_infected       575\n",
    "nombre_sain          2162\n",
    "nombre_exposed        273\n",
    "nombre_recovered    16990\n",
    "Name: 195, dtype: int64"
   ]
  },
  {
   "cell_type": "markdown",
   "id": "80b64672",
   "metadata": {},
   "source": [
    "nombre_infected       560\n",
    "nombre_sain          2186\n",
    "nombre_exposed        283\n",
    "nombre_recovered    16971\n",
    "Name: 196, dtype: int64"
   ]
  },
  {
   "cell_type": "markdown",
   "id": "6eea54ff",
   "metadata": {},
   "source": [
    "nombre_infected       552\n",
    "nombre_sain          2223\n",
    "nombre_exposed        291\n",
    "nombre_recovered    16934\n",
    "Name: 197, dtype: int64"
   ]
  },
  {
   "cell_type": "markdown",
   "id": "1171fe27",
   "metadata": {},
   "source": [
    "nombre_infected       540\n",
    "nombre_sain          2251\n",
    "nombre_exposed        302\n",
    "nombre_recovered    16907\n",
    "Name: 198, dtype: int64"
   ]
  },
  {
   "cell_type": "markdown",
   "id": "eebb32b5",
   "metadata": {},
   "source": [
    "nombre_infected       538\n",
    "nombre_sain          2304\n",
    "nombre_exposed        307\n",
    "nombre_recovered    16851\n",
    "Name: 199, dtype: int64"
   ]
  },
  {
   "cell_type": "markdown",
   "id": "49958414",
   "metadata": {},
   "source": [
    "nombre_infected       550\n",
    "nombre_sain          2378\n",
    "nombre_exposed        309\n",
    "nombre_recovered    16763\n",
    "Name: 200, dtype: int64"
   ]
  },
  {
   "cell_type": "markdown",
   "id": "e36356ad",
   "metadata": {},
   "source": [
    "nombre_infected       536\n",
    "nombre_sain          2417\n",
    "nombre_exposed        319\n",
    "nombre_recovered    16728\n",
    "Name: 201, dtype: int64"
   ]
  },
  {
   "cell_type": "markdown",
   "id": "22c1ec17",
   "metadata": {},
   "source": [
    "nombre_infected       552\n",
    "nombre_sain          2455\n",
    "nombre_exposed        325\n",
    "nombre_recovered    16668\n",
    "Name: 202, dtype: int64"
   ]
  },
  {
   "cell_type": "markdown",
   "id": "7cd21b5c",
   "metadata": {},
   "source": [
    "nombre_infected       543\n",
    "nombre_sain          2484\n",
    "nombre_exposed        321\n",
    "nombre_recovered    16652\n",
    "Name: 203, dtype: int64"
   ]
  },
  {
   "cell_type": "markdown",
   "id": "11441084",
   "metadata": {},
   "source": [
    "nombre_infected       559\n",
    "nombre_sain          2511\n",
    "nombre_exposed        321\n",
    "nombre_recovered    16609\n",
    "Name: 204, dtype: int64"
   ]
  },
  {
   "cell_type": "markdown",
   "id": "54e61104",
   "metadata": {},
   "source": [
    "nombre_infected       553\n",
    "nombre_sain          2542\n",
    "nombre_exposed        344\n",
    "nombre_recovered    16561\n",
    "Name: 205, dtype: int64"
   ]
  },
  {
   "cell_type": "markdown",
   "id": "859c0aac",
   "metadata": {},
   "source": [
    "nombre_infected       538\n",
    "nombre_sain          2542\n",
    "nombre_exposed        370\n",
    "nombre_recovered    16550\n",
    "Name: 206, dtype: int64"
   ]
  },
  {
   "cell_type": "markdown",
   "id": "322cc26d",
   "metadata": {},
   "source": [
    "nombre_infected       554\n",
    "nombre_sain          2561\n",
    "nombre_exposed        370\n",
    "nombre_recovered    16515\n",
    "Name: 207, dtype: int64"
   ]
  },
  {
   "cell_type": "markdown",
   "id": "9605cd69",
   "metadata": {},
   "source": [
    "nombre_infected       557\n",
    "nombre_sain          2568\n",
    "nombre_exposed        364\n",
    "nombre_recovered    16511\n",
    "Name: 208, dtype: int64"
   ]
  },
  {
   "cell_type": "markdown",
   "id": "69d582d2",
   "metadata": {},
   "source": [
    "nombre_infected       581\n",
    "nombre_sain          2565\n",
    "nombre_exposed        367\n",
    "nombre_recovered    16487\n",
    "Name: 209, dtype: int64"
   ]
  },
  {
   "cell_type": "markdown",
   "id": "0455bea4",
   "metadata": {},
   "source": [
    "nombre_infected       592\n",
    "nombre_sain          2578\n",
    "nombre_exposed        376\n",
    "nombre_recovered    16454\n",
    "Name: 210, dtype: int64"
   ]
  },
  {
   "cell_type": "markdown",
   "id": "d5dca300",
   "metadata": {},
   "source": [
    "nombre_infected       613\n",
    "nombre_sain          2590\n",
    "nombre_exposed        371\n",
    "nombre_recovered    16426\n",
    "Name: 211, dtype: int64"
   ]
  },
  {
   "cell_type": "markdown",
   "id": "fdf51e61",
   "metadata": {},
   "source": [
    "nombre_infected       625\n",
    "nombre_sain          2575\n",
    "nombre_exposed        377\n",
    "nombre_recovered    16423\n",
    "Name: 212, dtype: int64"
   ]
  },
  {
   "cell_type": "markdown",
   "id": "aa633649",
   "metadata": {},
   "source": [
    "nombre_infected       621\n",
    "nombre_sain          2564\n",
    "nombre_exposed        411\n",
    "nombre_recovered    16404\n",
    "Name: 213, dtype: int64"
   ]
  },
  {
   "cell_type": "markdown",
   "id": "d5e1f850",
   "metadata": {},
   "source": [
    "nombre_infected       643\n",
    "nombre_sain          2568\n",
    "nombre_exposed        410\n",
    "nombre_recovered    16379\n",
    "Name: 214, dtype: int64"
   ]
  },
  {
   "cell_type": "markdown",
   "id": "fee182ea",
   "metadata": {},
   "source": [
    "nombre_infected       663\n",
    "nombre_sain          2552\n",
    "nombre_exposed        419\n",
    "nombre_recovered    16366\n",
    "Name: 215, dtype: int64"
   ]
  },
  {
   "cell_type": "markdown",
   "id": "c6b9d291",
   "metadata": {},
   "source": [
    "nombre_infected       667\n",
    "nombre_sain          2555\n",
    "nombre_exposed        429\n",
    "nombre_recovered    16349\n",
    "Name: 216, dtype: int64"
   ]
  },
  {
   "cell_type": "markdown",
   "id": "dc98d441",
   "metadata": {},
   "source": [
    "nombre_infected       664\n",
    "nombre_sain          2550\n",
    "nombre_exposed        441\n",
    "nombre_recovered    16345\n",
    "Name: 217, dtype: int64"
   ]
  },
  {
   "cell_type": "markdown",
   "id": "d3c63293",
   "metadata": {},
   "source": [
    "nombre_infected       684\n",
    "nombre_sain          2545\n",
    "nombre_exposed        447\n",
    "nombre_recovered    16324\n",
    "Name: 218, dtype: int64"
   ]
  },
  {
   "cell_type": "markdown",
   "id": "19454f47",
   "metadata": {},
   "source": [
    "nombre_infected       713\n",
    "nombre_sain          2575\n",
    "nombre_exposed        440\n",
    "nombre_recovered    16272\n",
    "Name: 219, dtype: int64"
   ]
  },
  {
   "cell_type": "markdown",
   "id": "63dca0a3",
   "metadata": {},
   "source": [
    "nombre_infected       724\n",
    "nombre_sain          2607\n",
    "nombre_exposed        427\n",
    "nombre_recovered    16242\n",
    "Name: 220, dtype: int64"
   ]
  },
  {
   "cell_type": "markdown",
   "id": "72f08887",
   "metadata": {},
   "source": [
    "nombre_infected       737\n",
    "nombre_sain          2602\n",
    "nombre_exposed        459\n",
    "nombre_recovered    16202\n",
    "Name: 221, dtype: int64"
   ]
  },
  {
   "cell_type": "markdown",
   "id": "bab76904",
   "metadata": {},
   "source": [
    "nombre_infected       743\n",
    "nombre_sain          2614\n",
    "nombre_exposed        470\n",
    "nombre_recovered    16173\n",
    "Name: 222, dtype: int64"
   ]
  },
  {
   "cell_type": "markdown",
   "id": "c7e43c64",
   "metadata": {},
   "source": [
    "nombre_infected       742\n",
    "nombre_sain          2637\n",
    "nombre_exposed        484\n",
    "nombre_recovered    16137\n",
    "Name: 223, dtype: int64"
   ]
  },
  {
   "cell_type": "markdown",
   "id": "cb91fd15",
   "metadata": {},
   "source": [
    "nombre_infected       750\n",
    "nombre_sain          2638\n",
    "nombre_exposed        483\n",
    "nombre_recovered    16129\n",
    "Name: 224, dtype: int64"
   ]
  },
  {
   "cell_type": "markdown",
   "id": "4753944c",
   "metadata": {},
   "source": [
    "nombre_infected       763\n",
    "nombre_sain          2638\n",
    "nombre_exposed        500\n",
    "nombre_recovered    16099\n",
    "Name: 225, dtype: int64"
   ]
  },
  {
   "cell_type": "markdown",
   "id": "3297da55",
   "metadata": {},
   "source": [
    "nombre_infected       791\n",
    "nombre_sain          2652\n",
    "nombre_exposed        506\n",
    "nombre_recovered    16051\n",
    "Name: 226, dtype: int64"
   ]
  },
  {
   "cell_type": "markdown",
   "id": "297e0738",
   "metadata": {},
   "source": [
    "nombre_infected       803\n",
    "nombre_sain          2652\n",
    "nombre_exposed        507\n",
    "nombre_recovered    16038\n",
    "Name: 227, dtype: int64"
   ]
  },
  {
   "cell_type": "markdown",
   "id": "e2dd1def",
   "metadata": {},
   "source": [
    "nombre_infected       834\n",
    "nombre_sain          2664\n",
    "nombre_exposed        499\n",
    "nombre_recovered    16003\n",
    "Name: 228, dtype: int64"
   ]
  },
  {
   "cell_type": "markdown",
   "id": "44c147d9",
   "metadata": {},
   "source": [
    "nombre_infected       836\n",
    "nombre_sain          2642\n",
    "nombre_exposed        542\n",
    "nombre_recovered    15980\n",
    "Name: 229, dtype: int64"
   ]
  },
  {
   "cell_type": "markdown",
   "id": "edbf2452",
   "metadata": {},
   "source": [
    "nombre_infected       824\n",
    "nombre_sain          2612\n",
    "nombre_exposed        596\n",
    "nombre_recovered    15968\n",
    "Name: 230, dtype: int64"
   ]
  },
  {
   "cell_type": "markdown",
   "id": "e2eecf64",
   "metadata": {},
   "source": [
    "nombre_infected       820\n",
    "nombre_sain          2619\n",
    "nombre_exposed        604\n",
    "nombre_recovered    15957\n",
    "Name: 231, dtype: int64"
   ]
  },
  {
   "cell_type": "markdown",
   "id": "193bad19",
   "metadata": {},
   "source": [
    "nombre_infected       857\n",
    "nombre_sain          2599\n",
    "nombre_exposed        588\n",
    "nombre_recovered    15956\n",
    "Name: 232, dtype: int64"
   ]
  },
  {
   "cell_type": "markdown",
   "id": "543fb638",
   "metadata": {},
   "source": [
    "nombre_infected       885\n",
    "nombre_sain          2546\n",
    "nombre_exposed        600\n",
    "nombre_recovered    15969\n",
    "Name: 233, dtype: int64"
   ]
  },
  {
   "cell_type": "markdown",
   "id": "0c5127f3",
   "metadata": {},
   "source": [
    "nombre_infected       907\n",
    "nombre_sain          2530\n",
    "nombre_exposed        589\n",
    "nombre_recovered    15974\n",
    "Name: 234, dtype: int64"
   ]
  },
  {
   "cell_type": "markdown",
   "id": "6eab0b83",
   "metadata": {},
   "source": [
    "nombre_infected       922\n",
    "nombre_sain          2516\n",
    "nombre_exposed        567\n",
    "nombre_recovered    15995\n",
    "Name: 235, dtype: int64"
   ]
  },
  {
   "cell_type": "markdown",
   "id": "c28d11fb",
   "metadata": {},
   "source": [
    "nombre_infected       936\n",
    "nombre_sain          2484\n",
    "nombre_exposed        563\n",
    "nombre_recovered    16017\n",
    "Name: 236, dtype: int64"
   ]
  },
  {
   "cell_type": "markdown",
   "id": "2f04aca8",
   "metadata": {},
   "source": [
    "nombre_infected       926\n",
    "nombre_sain          2491\n",
    "nombre_exposed        580\n",
    "nombre_recovered    16003\n",
    "Name: 237, dtype: int64"
   ]
  },
  {
   "cell_type": "markdown",
   "id": "5f5a425d",
   "metadata": {},
   "source": [
    "nombre_infected       963\n",
    "nombre_sain          2468\n",
    "nombre_exposed        570\n",
    "nombre_recovered    15999\n",
    "Name: 238, dtype: int64"
   ]
  },
  {
   "cell_type": "markdown",
   "id": "d2bf5aea",
   "metadata": {},
   "source": [
    "nombre_infected       976\n",
    "nombre_sain          2448\n",
    "nombre_exposed        591\n",
    "nombre_recovered    15985\n",
    "Name: 239, dtype: int64"
   ]
  },
  {
   "cell_type": "markdown",
   "id": "cdf02f31",
   "metadata": {},
   "source": [
    "nombre_infected      1002\n",
    "nombre_sain          2398\n",
    "nombre_exposed        600\n",
    "nombre_recovered    16000\n",
    "Name: 240, dtype: int64"
   ]
  },
  {
   "cell_type": "markdown",
   "id": "1b647821",
   "metadata": {},
   "source": [
    "nombre_infected      1014\n",
    "nombre_sain          2360\n",
    "nombre_exposed        578\n",
    "nombre_recovered    16048\n",
    "Name: 241, dtype: int64"
   ]
  },
  {
   "cell_type": "markdown",
   "id": "c66db705",
   "metadata": {},
   "source": [
    "nombre_infected      1014\n",
    "nombre_sain          2314\n",
    "nombre_exposed        603\n",
    "nombre_recovered    16069\n",
    "Name: 242, dtype: int64"
   ]
  },
  {
   "cell_type": "markdown",
   "id": "3ad62757",
   "metadata": {},
   "source": [
    "nombre_infected      1016\n",
    "nombre_sain          2283\n",
    "nombre_exposed        601\n",
    "nombre_recovered    16100\n",
    "Name: 243, dtype: int64"
   ]
  },
  {
   "cell_type": "markdown",
   "id": "73bac02b",
   "metadata": {},
   "source": [
    "nombre_infected      1035\n",
    "nombre_sain          2228\n",
    "nombre_exposed        603\n",
    "nombre_recovered    16134\n",
    "Name: 244, dtype: int64"
   ]
  },
  {
   "cell_type": "markdown",
   "id": "23e0d0ea",
   "metadata": {},
   "source": [
    "nombre_infected      1020\n",
    "nombre_sain          2198\n",
    "nombre_exposed        612\n",
    "nombre_recovered    16170\n",
    "Name: 245, dtype: int64"
   ]
  },
  {
   "cell_type": "markdown",
   "id": "8a7c1042",
   "metadata": {},
   "source": [
    "nombre_infected      1061\n",
    "nombre_sain          2120\n",
    "nombre_exposed        619\n",
    "nombre_recovered    16200\n",
    "Name: 246, dtype: int64"
   ]
  },
  {
   "cell_type": "markdown",
   "id": "b48b18a8",
   "metadata": {},
   "source": [
    "nombre_infected      1040\n",
    "nombre_sain          2068\n",
    "nombre_exposed        636\n",
    "nombre_recovered    16256\n",
    "Name: 247, dtype: int64"
   ]
  },
  {
   "cell_type": "markdown",
   "id": "7381ec03",
   "metadata": {},
   "source": [
    "nombre_infected      1037\n",
    "nombre_sain          2037\n",
    "nombre_exposed        619\n",
    "nombre_recovered    16307\n",
    "Name: 248, dtype: int64"
   ]
  },
  {
   "cell_type": "markdown",
   "id": "4c67aeba",
   "metadata": {},
   "source": [
    "nombre_infected      1075\n",
    "nombre_sain          1989\n",
    "nombre_exposed        614\n",
    "nombre_recovered    16322\n",
    "Name: 249, dtype: int64"
   ]
  },
  {
   "cell_type": "markdown",
   "id": "55b631b9",
   "metadata": {},
   "source": [
    "nombre_infected      1079\n",
    "nombre_sain          1962\n",
    "nombre_exposed        579\n",
    "nombre_recovered    16380\n",
    "Name: 250, dtype: int64"
   ]
  },
  {
   "cell_type": "markdown",
   "id": "60209887",
   "metadata": {},
   "source": [
    "nombre_infected      1077\n",
    "nombre_sain          1914\n",
    "nombre_exposed        564\n",
    "nombre_recovered    16445\n",
    "Name: 251, dtype: int64"
   ]
  },
  {
   "cell_type": "markdown",
   "id": "f983ed48",
   "metadata": {},
   "source": [
    "nombre_infected      1078\n",
    "nombre_sain          1878\n",
    "nombre_exposed        550\n",
    "nombre_recovered    16494\n",
    "Name: 252, dtype: int64"
   ]
  },
  {
   "cell_type": "markdown",
   "id": "b5c779cf",
   "metadata": {},
   "source": [
    "nombre_infected      1060\n",
    "nombre_sain          1869\n",
    "nombre_exposed        537\n",
    "nombre_recovered    16534\n",
    "Name: 253, dtype: int64"
   ]
  },
  {
   "cell_type": "markdown",
   "id": "c3eef54d",
   "metadata": {},
   "source": [
    "nombre_infected      1039\n",
    "nombre_sain          1852\n",
    "nombre_exposed        527\n",
    "nombre_recovered    16582\n",
    "Name: 254, dtype: int64"
   ]
  },
  {
   "cell_type": "markdown",
   "id": "b12a1973",
   "metadata": {},
   "source": [
    "nombre_infected      1022\n",
    "nombre_sain          1841\n",
    "nombre_exposed        515\n",
    "nombre_recovered    16622\n",
    "Name: 255, dtype: int64"
   ]
  },
  {
   "cell_type": "markdown",
   "id": "705d5265",
   "metadata": {},
   "source": [
    "nombre_infected      1001\n",
    "nombre_sain          1830\n",
    "nombre_exposed        511\n",
    "nombre_recovered    16658\n",
    "Name: 256, dtype: int64"
   ]
  },
  {
   "cell_type": "markdown",
   "id": "23f3d34b",
   "metadata": {},
   "source": [
    "nombre_infected       976\n",
    "nombre_sain          1808\n",
    "nombre_exposed        502\n",
    "nombre_recovered    16714\n",
    "Name: 257, dtype: int64"
   ]
  },
  {
   "cell_type": "markdown",
   "id": "bdb42199",
   "metadata": {},
   "source": [
    "nombre_infected       963\n",
    "nombre_sain          1796\n",
    "nombre_exposed        504\n",
    "nombre_recovered    16737\n",
    "Name: 258, dtype: int64"
   ]
  },
  {
   "cell_type": "markdown",
   "id": "5c099f98",
   "metadata": {},
   "source": [
    "nombre_infected       923\n",
    "nombre_sain          1788\n",
    "nombre_exposed        501\n",
    "nombre_recovered    16788\n",
    "Name: 259, dtype: int64"
   ]
  },
  {
   "cell_type": "markdown",
   "id": "7f1e1d87",
   "metadata": {},
   "source": [
    "nombre_infected       920\n",
    "nombre_sain          1786\n",
    "nombre_exposed        492\n",
    "nombre_recovered    16802\n",
    "Name: 260, dtype: int64"
   ]
  },
  {
   "cell_type": "markdown",
   "id": "aeec5da0",
   "metadata": {},
   "source": [
    "nombre_infected       913\n",
    "nombre_sain          1802\n",
    "nombre_exposed        469\n",
    "nombre_recovered    16816\n",
    "Name: 261, dtype: int64"
   ]
  },
  {
   "cell_type": "markdown",
   "id": "39c8c1c8",
   "metadata": {},
   "source": [
    "nombre_infected       914\n",
    "nombre_sain          1810\n",
    "nombre_exposed        452\n",
    "nombre_recovered    16824\n",
    "Name: 262, dtype: int64"
   ]
  },
  {
   "cell_type": "markdown",
   "id": "5e995c7e",
   "metadata": {},
   "source": [
    "nombre_infected       914\n",
    "nombre_sain          1826\n",
    "nombre_exposed        445\n",
    "nombre_recovered    16815\n",
    "Name: 263, dtype: int64"
   ]
  },
  {
   "cell_type": "markdown",
   "id": "dc3ba727",
   "metadata": {},
   "source": [
    "nombre_infected       887\n",
    "nombre_sain          1825\n",
    "nombre_exposed        436\n",
    "nombre_recovered    16852\n",
    "Name: 264, dtype: int64"
   ]
  },
  {
   "cell_type": "markdown",
   "id": "9ef6178e",
   "metadata": {},
   "source": [
    "nombre_infected       872\n",
    "nombre_sain          1808\n",
    "nombre_exposed        437\n",
    "nombre_recovered    16883\n",
    "Name: 265, dtype: int64"
   ]
  },
  {
   "cell_type": "markdown",
   "id": "9d7e78fb",
   "metadata": {},
   "source": [
    "nombre_infected       842\n",
    "nombre_sain          1829\n",
    "nombre_exposed        431\n",
    "nombre_recovered    16898\n",
    "Name: 266, dtype: int64"
   ]
  },
  {
   "cell_type": "markdown",
   "id": "ffeeb8c5",
   "metadata": {},
   "source": [
    "nombre_infected       847\n",
    "nombre_sain          1846\n",
    "nombre_exposed        423\n",
    "nombre_recovered    16884\n",
    "Name: 267, dtype: int64"
   ]
  },
  {
   "cell_type": "markdown",
   "id": "895f53b7",
   "metadata": {},
   "source": [
    "nombre_infected       853\n",
    "nombre_sain          1848\n",
    "nombre_exposed        427\n",
    "nombre_recovered    16872\n",
    "Name: 268, dtype: int64"
   ]
  },
  {
   "cell_type": "markdown",
   "id": "462155f6",
   "metadata": {},
   "source": [
    "nombre_infected       844\n",
    "nombre_sain          1850\n",
    "nombre_exposed        435\n",
    "nombre_recovered    16871\n",
    "Name: 269, dtype: int64"
   ]
  },
  {
   "cell_type": "markdown",
   "id": "4b24a42c",
   "metadata": {},
   "source": [
    "nombre_infected       852\n",
    "nombre_sain          1853\n",
    "nombre_exposed        425\n",
    "nombre_recovered    16870\n",
    "Name: 270, dtype: int64"
   ]
  },
  {
   "cell_type": "markdown",
   "id": "5cd851db",
   "metadata": {},
   "source": [
    "nombre_infected       858\n",
    "nombre_sain          1870\n",
    "nombre_exposed        413\n",
    "nombre_recovered    16859\n",
    "Name: 271, dtype: int64"
   ]
  },
  {
   "cell_type": "markdown",
   "id": "5ce2b9a5",
   "metadata": {},
   "source": [
    "nombre_infected       850\n",
    "nombre_sain          1850\n",
    "nombre_exposed        428\n",
    "nombre_recovered    16872\n",
    "Name: 272, dtype: int64"
   ]
  },
  {
   "cell_type": "markdown",
   "id": "fadb29bc",
   "metadata": {},
   "source": [
    "nombre_infected       872\n",
    "nombre_sain          1846\n",
    "nombre_exposed        412\n",
    "nombre_recovered    16870\n",
    "Name: 273, dtype: int64"
   ]
  },
  {
   "cell_type": "markdown",
   "id": "8d250f9e",
   "metadata": {},
   "source": [
    "nombre_infected       854\n",
    "nombre_sain          1844\n",
    "nombre_exposed        411\n",
    "nombre_recovered    16891\n",
    "Name: 274, dtype: int64"
   ]
  },
  {
   "cell_type": "markdown",
   "id": "354caf14",
   "metadata": {},
   "source": [
    "nombre_infected       864\n",
    "nombre_sain          1848\n",
    "nombre_exposed        389\n",
    "nombre_recovered    16899\n",
    "Name: 275, dtype: int64"
   ]
  },
  {
   "cell_type": "markdown",
   "id": "ebe97e37",
   "metadata": {},
   "source": [
    "nombre_infected       859\n",
    "nombre_sain          1835\n",
    "nombre_exposed        388\n",
    "nombre_recovered    16918\n",
    "Name: 276, dtype: int64"
   ]
  },
  {
   "cell_type": "markdown",
   "id": "5436ff85",
   "metadata": {},
   "source": [
    "nombre_infected       839\n",
    "nombre_sain          1832\n",
    "nombre_exposed        395\n",
    "nombre_recovered    16934\n",
    "Name: 277, dtype: int64"
   ]
  },
  {
   "cell_type": "markdown",
   "id": "b8ef35f7",
   "metadata": {},
   "source": [
    "nombre_infected       832\n",
    "nombre_sain          1847\n",
    "nombre_exposed        378\n",
    "nombre_recovered    16943\n",
    "Name: 278, dtype: int64"
   ]
  },
  {
   "cell_type": "markdown",
   "id": "598a79ed",
   "metadata": {},
   "source": [
    "nombre_infected       841\n",
    "nombre_sain          1844\n",
    "nombre_exposed        369\n",
    "nombre_recovered    16946\n",
    "Name: 279, dtype: int64"
   ]
  },
  {
   "cell_type": "markdown",
   "id": "87ad73af",
   "metadata": {},
   "source": [
    "nombre_infected       834\n",
    "nombre_sain          1866\n",
    "nombre_exposed        364\n",
    "nombre_recovered    16936\n",
    "Name: 280, dtype: int64"
   ]
  },
  {
   "cell_type": "markdown",
   "id": "a399ff85",
   "metadata": {},
   "source": [
    "nombre_infected       822\n",
    "nombre_sain          1867\n",
    "nombre_exposed        369\n",
    "nombre_recovered    16942\n",
    "Name: 281, dtype: int64"
   ]
  },
  {
   "cell_type": "markdown",
   "id": "ad39c27b",
   "metadata": {},
   "source": [
    "nombre_infected       817\n",
    "nombre_sain          1853\n",
    "nombre_exposed        366\n",
    "nombre_recovered    16964\n",
    "Name: 282, dtype: int64"
   ]
  },
  {
   "cell_type": "markdown",
   "id": "1011dbba",
   "metadata": {},
   "source": [
    "nombre_infected       790\n",
    "nombre_sain          1855\n",
    "nombre_exposed        379\n",
    "nombre_recovered    16976\n",
    "Name: 283, dtype: int64"
   ]
  },
  {
   "cell_type": "markdown",
   "id": "fe3194d6",
   "metadata": {},
   "source": [
    "nombre_infected       794\n",
    "nombre_sain          1872\n",
    "nombre_exposed        381\n",
    "nombre_recovered    16953\n",
    "Name: 284, dtype: int64"
   ]
  },
  {
   "cell_type": "markdown",
   "id": "92c217f2",
   "metadata": {},
   "source": [
    "nombre_infected       770\n",
    "nombre_sain          1864\n",
    "nombre_exposed        398\n",
    "nombre_recovered    16968\n",
    "Name: 285, dtype: int64"
   ]
  },
  {
   "cell_type": "markdown",
   "id": "5979a1e3",
   "metadata": {},
   "source": [
    "nombre_infected       780\n",
    "nombre_sain          1849\n",
    "nombre_exposed        404\n",
    "nombre_recovered    16967\n",
    "Name: 286, dtype: int64"
   ]
  },
  {
   "cell_type": "markdown",
   "id": "bbf41276",
   "metadata": {},
   "source": [
    "nombre_infected       791\n",
    "nombre_sain          1847\n",
    "nombre_exposed        388\n",
    "nombre_recovered    16974\n",
    "Name: 287, dtype: int64"
   ]
  },
  {
   "cell_type": "markdown",
   "id": "2b5d752b",
   "metadata": {},
   "source": [
    "nombre_infected       798\n",
    "nombre_sain          1844\n",
    "nombre_exposed        380\n",
    "nombre_recovered    16978\n",
    "Name: 288, dtype: int64"
   ]
  },
  {
   "cell_type": "markdown",
   "id": "2b21e54f",
   "metadata": {},
   "source": [
    "nombre_infected       806\n",
    "nombre_sain          1865\n",
    "nombre_exposed        345\n",
    "nombre_recovered    16984\n",
    "Name: 289, dtype: int64"
   ]
  },
  {
   "cell_type": "markdown",
   "id": "43852256",
   "metadata": {},
   "source": [
    "nombre_infected       788\n",
    "nombre_sain          1849\n",
    "nombre_exposed        359\n",
    "nombre_recovered    17004\n",
    "Name: 290, dtype: int64"
   ]
  },
  {
   "cell_type": "markdown",
   "id": "c1be2340",
   "metadata": {},
   "source": [
    "nombre_infected       772\n",
    "nombre_sain          1822\n",
    "nombre_exposed        372\n",
    "nombre_recovered    17034\n",
    "Name: 291, dtype: int64"
   ]
  },
  {
   "cell_type": "markdown",
   "id": "7c7de2a8",
   "metadata": {},
   "source": [
    "nombre_infected       784\n",
    "nombre_sain          1830\n",
    "nombre_exposed        349\n",
    "nombre_recovered    17037\n",
    "Name: 292, dtype: int64"
   ]
  },
  {
   "cell_type": "markdown",
   "id": "aa7b2e48",
   "metadata": {},
   "source": [
    "nombre_infected       781\n",
    "nombre_sain          1836\n",
    "nombre_exposed        345\n",
    "nombre_recovered    17038\n",
    "Name: 293, dtype: int64"
   ]
  },
  {
   "cell_type": "markdown",
   "id": "37ad79ed",
   "metadata": {},
   "source": [
    "nombre_infected       764\n",
    "nombre_sain          1846\n",
    "nombre_exposed        354\n",
    "nombre_recovered    17036\n",
    "Name: 294, dtype: int64"
   ]
  },
  {
   "cell_type": "markdown",
   "id": "1b6aedcc",
   "metadata": {},
   "source": [
    "nombre_infected       733\n",
    "nombre_sain          1862\n",
    "nombre_exposed        352\n",
    "nombre_recovered    17053\n",
    "Name: 295, dtype: int64"
   ]
  },
  {
   "cell_type": "markdown",
   "id": "c5ab65f1",
   "metadata": {},
   "source": [
    "nombre_infected       708\n",
    "nombre_sain          1860\n",
    "nombre_exposed        339\n",
    "nombre_recovered    17093\n",
    "Name: 296, dtype: int64"
   ]
  },
  {
   "cell_type": "markdown",
   "id": "b1d021ce",
   "metadata": {},
   "source": [
    "nombre_infected       697\n",
    "nombre_sain          1890\n",
    "nombre_exposed        349\n",
    "nombre_recovered    17064\n",
    "Name: 297, dtype: int64"
   ]
  },
  {
   "cell_type": "markdown",
   "id": "d1255e02",
   "metadata": {},
   "source": [
    "nombre_infected       672\n",
    "nombre_sain          1907\n",
    "nombre_exposed        364\n",
    "nombre_recovered    17057\n",
    "Name: 298, dtype: int64"
   ]
  },
  {
   "cell_type": "markdown",
   "id": "2247294a",
   "metadata": {},
   "source": [
    "nombre_infected       671\n",
    "nombre_sain          1937\n",
    "nombre_exposed        354\n",
    "nombre_recovered    17038\n",
    "Name: 299, dtype: int64"
   ]
  },
  {
   "cell_type": "markdown",
   "id": "54c87b48",
   "metadata": {},
   "source": [
    "nombre_infected       682\n",
    "nombre_sain          1981\n",
    "nombre_exposed        328\n",
    "nombre_recovered    17009\n",
    "Name: 300, dtype: int64"
   ]
  },
  {
   "cell_type": "markdown",
   "id": "fe1822de",
   "metadata": {},
   "source": [
    "nombre_infected       690\n",
    "nombre_sain          2023\n",
    "nombre_exposed        305\n",
    "nombre_recovered    16982\n",
    "Name: 301, dtype: int64"
   ]
  },
  {
   "cell_type": "markdown",
   "id": "3a442e6d",
   "metadata": {},
   "source": [
    "nombre_infected       690\n",
    "nombre_sain          2056\n",
    "nombre_exposed        305\n",
    "nombre_recovered    16949\n",
    "Name: 302, dtype: int64"
   ]
  },
  {
   "cell_type": "markdown",
   "id": "4accfba8",
   "metadata": {},
   "source": [
    "nombre_infected       666\n",
    "nombre_sain          2094\n",
    "nombre_exposed        310\n",
    "nombre_recovered    16930\n",
    "Name: 303, dtype: int64"
   ]
  },
  {
   "cell_type": "markdown",
   "id": "2de5865d",
   "metadata": {},
   "source": [
    "nombre_infected       655\n",
    "nombre_sain          2138\n",
    "nombre_exposed        303\n",
    "nombre_recovered    16904\n",
    "Name: 304, dtype: int64"
   ]
  },
  {
   "cell_type": "markdown",
   "id": "2d3e3bf2",
   "metadata": {},
   "source": [
    "nombre_infected       638\n",
    "nombre_sain          2191\n",
    "nombre_exposed        306\n",
    "nombre_recovered    16865\n",
    "Name: 305, dtype: int64"
   ]
  },
  {
   "cell_type": "markdown",
   "id": "05838bc1",
   "metadata": {},
   "source": [
    "nombre_infected       631\n",
    "nombre_sain          2224\n",
    "nombre_exposed        308\n",
    "nombre_recovered    16837\n",
    "Name: 306, dtype: int64"
   ]
  },
  {
   "cell_type": "markdown",
   "id": "a4911ff2",
   "metadata": {},
   "source": [
    "nombre_infected       616\n",
    "nombre_sain          2286\n",
    "nombre_exposed        312\n",
    "nombre_recovered    16786\n",
    "Name: 307, dtype: int64"
   ]
  },
  {
   "cell_type": "markdown",
   "id": "324e4097",
   "metadata": {},
   "source": [
    "nombre_infected       608\n",
    "nombre_sain          2304\n",
    "nombre_exposed        317\n",
    "nombre_recovered    16771\n",
    "Name: 308, dtype: int64"
   ]
  },
  {
   "cell_type": "markdown",
   "id": "de412f7b",
   "metadata": {},
   "source": [
    "nombre_infected       601\n",
    "nombre_sain          2340\n",
    "nombre_exposed        335\n",
    "nombre_recovered    16724\n",
    "Name: 309, dtype: int64"
   ]
  },
  {
   "cell_type": "markdown",
   "id": "b782023e",
   "metadata": {},
   "source": [
    "nombre_infected       587\n",
    "nombre_sain          2363\n",
    "nombre_exposed        341\n",
    "nombre_recovered    16709\n",
    "Name: 310, dtype: int64"
   ]
  },
  {
   "cell_type": "markdown",
   "id": "c3448ba9",
   "metadata": {},
   "source": [
    "nombre_infected       576\n",
    "nombre_sain          2402\n",
    "nombre_exposed        362\n",
    "nombre_recovered    16660\n",
    "Name: 311, dtype: int64"
   ]
  },
  {
   "cell_type": "markdown",
   "id": "7bda4147",
   "metadata": {},
   "source": [
    "nombre_infected       577\n",
    "nombre_sain          2474\n",
    "nombre_exposed        365\n",
    "nombre_recovered    16584\n",
    "Name: 312, dtype: int64"
   ]
  },
  {
   "cell_type": "markdown",
   "id": "de903c5a",
   "metadata": {},
   "source": [
    "nombre_infected       567\n",
    "nombre_sain          2512\n",
    "nombre_exposed        390\n",
    "nombre_recovered    16531\n",
    "Name: 313, dtype: int64"
   ]
  },
  {
   "cell_type": "markdown",
   "id": "0ebea356",
   "metadata": {},
   "source": [
    "nombre_infected       565\n",
    "nombre_sain          2539\n",
    "nombre_exposed        392\n",
    "nombre_recovered    16504\n",
    "Name: 314, dtype: int64"
   ]
  },
  {
   "cell_type": "markdown",
   "id": "1337aa54",
   "metadata": {},
   "source": [
    "nombre_infected       584\n",
    "nombre_sain          2585\n",
    "nombre_exposed        385\n",
    "nombre_recovered    16446\n",
    "Name: 315, dtype: int64"
   ]
  },
  {
   "cell_type": "markdown",
   "id": "fa0e1207",
   "metadata": {},
   "source": [
    "nombre_infected       611\n",
    "nombre_sain          2608\n",
    "nombre_exposed        364\n",
    "nombre_recovered    16417\n",
    "Name: 316, dtype: int64"
   ]
  },
  {
   "cell_type": "markdown",
   "id": "5157cd3a",
   "metadata": {},
   "source": [
    "nombre_infected       627\n",
    "nombre_sain          2615\n",
    "nombre_exposed        373\n",
    "nombre_recovered    16385\n",
    "Name: 317, dtype: int64"
   ]
  },
  {
   "cell_type": "markdown",
   "id": "a3811c38",
   "metadata": {},
   "source": [
    "nombre_infected       625\n",
    "nombre_sain          2611\n",
    "nombre_exposed        382\n",
    "nombre_recovered    16382\n",
    "Name: 318, dtype: int64"
   ]
  },
  {
   "cell_type": "markdown",
   "id": "2c844ab5",
   "metadata": {},
   "source": [
    "nombre_infected       634\n",
    "nombre_sain          2606\n",
    "nombre_exposed        402\n",
    "nombre_recovered    16358\n",
    "Name: 319, dtype: int64"
   ]
  },
  {
   "cell_type": "markdown",
   "id": "127a1863",
   "metadata": {},
   "source": [
    "nombre_infected       636\n",
    "nombre_sain          2583\n",
    "nombre_exposed        417\n",
    "nombre_recovered    16364\n",
    "Name: 320, dtype: int64"
   ]
  },
  {
   "cell_type": "markdown",
   "id": "f40568f6",
   "metadata": {},
   "source": [
    "nombre_infected       639\n",
    "nombre_sain          2586\n",
    "nombre_exposed        432\n",
    "nombre_recovered    16343\n",
    "Name: 321, dtype: int64"
   ]
  },
  {
   "cell_type": "markdown",
   "id": "563af553",
   "metadata": {},
   "source": [
    "nombre_infected       635\n",
    "nombre_sain          2586\n",
    "nombre_exposed        440\n",
    "nombre_recovered    16339\n",
    "Name: 322, dtype: int64"
   ]
  },
  {
   "cell_type": "markdown",
   "id": "9006e883",
   "metadata": {},
   "source": [
    "nombre_infected       659\n",
    "nombre_sain          2590\n",
    "nombre_exposed        425\n",
    "nombre_recovered    16326\n",
    "Name: 323, dtype: int64"
   ]
  },
  {
   "cell_type": "markdown",
   "id": "ffe6c31d",
   "metadata": {},
   "source": [
    "nombre_infected       676\n",
    "nombre_sain          2564\n",
    "nombre_exposed        428\n",
    "nombre_recovered    16332\n",
    "Name: 324, dtype: int64"
   ]
  },
  {
   "cell_type": "markdown",
   "id": "dc910ca6",
   "metadata": {},
   "source": [
    "nombre_infected       707\n",
    "nombre_sain          2580\n",
    "nombre_exposed        429\n",
    "nombre_recovered    16284\n",
    "Name: 325, dtype: int64"
   ]
  },
  {
   "cell_type": "markdown",
   "id": "1b39b0a9",
   "metadata": {},
   "source": [
    "nombre_infected       715\n",
    "nombre_sain          2576\n",
    "nombre_exposed        437\n",
    "nombre_recovered    16272\n",
    "Name: 326, dtype: int64"
   ]
  },
  {
   "cell_type": "markdown",
   "id": "9c5ec3af",
   "metadata": {},
   "source": [
    "nombre_infected       711\n",
    "nombre_sain          2563\n",
    "nombre_exposed        453\n",
    "nombre_recovered    16273\n",
    "Name: 327, dtype: int64"
   ]
  },
  {
   "cell_type": "markdown",
   "id": "536b7b1e",
   "metadata": {},
   "source": [
    "nombre_infected       748\n",
    "nombre_sain          2567\n",
    "nombre_exposed        434\n",
    "nombre_recovered    16251\n",
    "Name: 328, dtype: int64"
   ]
  },
  {
   "cell_type": "markdown",
   "id": "fe120ccc",
   "metadata": {},
   "source": [
    "nombre_infected       730\n",
    "nombre_sain          2585\n",
    "nombre_exposed        448\n",
    "nombre_recovered    16237\n",
    "Name: 329, dtype: int64"
   ]
  },
  {
   "cell_type": "markdown",
   "id": "bbbabdc5",
   "metadata": {},
   "source": [
    "nombre_infected       723\n",
    "nombre_sain          2588\n",
    "nombre_exposed        462\n",
    "nombre_recovered    16227\n",
    "Name: 330, dtype: int64"
   ]
  },
  {
   "cell_type": "markdown",
   "id": "7f355bc3",
   "metadata": {},
   "source": [
    "nombre_infected       736\n",
    "nombre_sain          2569\n",
    "nombre_exposed        487\n",
    "nombre_recovered    16208\n",
    "Name: 331, dtype: int64"
   ]
  },
  {
   "cell_type": "markdown",
   "id": "ad694431",
   "metadata": {},
   "source": [
    "nombre_infected       750\n",
    "nombre_sain          2582\n",
    "nombre_exposed        488\n",
    "nombre_recovered    16180\n",
    "Name: 332, dtype: int64"
   ]
  },
  {
   "cell_type": "markdown",
   "id": "9de0cb86",
   "metadata": {},
   "source": [
    "nombre_infected       754\n",
    "nombre_sain          2573\n",
    "nombre_exposed        507\n",
    "nombre_recovered    16166\n",
    "Name: 333, dtype: int64"
   ]
  },
  {
   "cell_type": "markdown",
   "id": "fe2c4f81",
   "metadata": {},
   "source": [
    "nombre_infected       766\n",
    "nombre_sain          2583\n",
    "nombre_exposed        504\n",
    "nombre_recovered    16147\n",
    "Name: 334, dtype: int64"
   ]
  },
  {
   "cell_type": "markdown",
   "id": "8028a3ee",
   "metadata": {},
   "source": [
    "nombre_infected       767\n",
    "nombre_sain          2596\n",
    "nombre_exposed        509\n",
    "nombre_recovered    16128\n",
    "Name: 335, dtype: int64"
   ]
  },
  {
   "cell_type": "markdown",
   "id": "d5b6564e",
   "metadata": {},
   "source": [
    "nombre_infected       790\n",
    "nombre_sain          2592\n",
    "nombre_exposed        508\n",
    "nombre_recovered    16110\n",
    "Name: 336, dtype: int64"
   ]
  },
  {
   "cell_type": "markdown",
   "id": "ffa33dca",
   "metadata": {},
   "source": [
    "nombre_infected       828\n",
    "nombre_sain          2585\n",
    "nombre_exposed        525\n",
    "nombre_recovered    16062\n",
    "Name: 337, dtype: int64"
   ]
  },
  {
   "cell_type": "markdown",
   "id": "ed45aa03",
   "metadata": {},
   "source": [
    "nombre_infected       846\n",
    "nombre_sain          2561\n",
    "nombre_exposed        536\n",
    "nombre_recovered    16057\n",
    "Name: 338, dtype: int64"
   ]
  },
  {
   "cell_type": "markdown",
   "id": "c0430943",
   "metadata": {},
   "source": [
    "nombre_infected       862\n",
    "nombre_sain          2548\n",
    "nombre_exposed        545\n",
    "nombre_recovered    16045\n",
    "Name: 339, dtype: int64"
   ]
  },
  {
   "cell_type": "markdown",
   "id": "7eb51715",
   "metadata": {},
   "source": [
    "nombre_infected       893\n",
    "nombre_sain          2501\n",
    "nombre_exposed        536\n",
    "nombre_recovered    16070\n",
    "Name: 340, dtype: int64"
   ]
  },
  {
   "cell_type": "markdown",
   "id": "d5f63022",
   "metadata": {},
   "source": [
    "nombre_infected       894\n",
    "nombre_sain          2505\n",
    "nombre_exposed        558\n",
    "nombre_recovered    16043\n",
    "Name: 341, dtype: int64"
   ]
  },
  {
   "cell_type": "markdown",
   "id": "579ddf63",
   "metadata": {},
   "source": [
    "nombre_infected       906\n",
    "nombre_sain          2452\n",
    "nombre_exposed        587\n",
    "nombre_recovered    16055\n",
    "Name: 342, dtype: int64"
   ]
  },
  {
   "cell_type": "markdown",
   "id": "77d671bd",
   "metadata": {},
   "source": [
    "nombre_infected       917\n",
    "nombre_sain          2423\n",
    "nombre_exposed        605\n",
    "nombre_recovered    16055\n",
    "Name: 343, dtype: int64"
   ]
  },
  {
   "cell_type": "markdown",
   "id": "c09cc184",
   "metadata": {},
   "source": [
    "nombre_infected       935\n",
    "nombre_sain          2380\n",
    "nombre_exposed        621\n",
    "nombre_recovered    16064\n",
    "Name: 344, dtype: int64"
   ]
  },
  {
   "cell_type": "markdown",
   "id": "ca8c951f",
   "metadata": {},
   "source": [
    "nombre_infected       980\n",
    "nombre_sain          2350\n",
    "nombre_exposed        599\n",
    "nombre_recovered    16071\n",
    "Name: 345, dtype: int64"
   ]
  },
  {
   "cell_type": "markdown",
   "id": "1a4edbde",
   "metadata": {},
   "source": [
    "nombre_infected      1020\n",
    "nombre_sain          2346\n",
    "nombre_exposed        583\n",
    "nombre_recovered    16051\n",
    "Name: 346, dtype: int64"
   ]
  },
  {
   "cell_type": "markdown",
   "id": "52d693a4",
   "metadata": {},
   "source": [
    "nombre_infected      1040\n",
    "nombre_sain          2335\n",
    "nombre_exposed        561\n",
    "nombre_recovered    16064\n",
    "Name: 347, dtype: int64"
   ]
  },
  {
   "cell_type": "markdown",
   "id": "3fd5d242",
   "metadata": {},
   "source": [
    "nombre_infected      1048\n",
    "nombre_sain          2298\n",
    "nombre_exposed        586\n",
    "nombre_recovered    16068\n",
    "Name: 348, dtype: int64"
   ]
  },
  {
   "cell_type": "markdown",
   "id": "a7d56746",
   "metadata": {},
   "source": [
    "nombre_infected      1070\n",
    "nombre_sain          2273\n",
    "nombre_exposed        600\n",
    "nombre_recovered    16057\n",
    "Name: 349, dtype: int64"
   ]
  },
  {
   "cell_type": "markdown",
   "id": "cbd5b6ad",
   "metadata": {},
   "source": [
    "nombre_infected      1095\n",
    "nombre_sain          2244\n",
    "nombre_exposed        610\n",
    "nombre_recovered    16051\n",
    "Name: 350, dtype: int64"
   ]
  },
  {
   "cell_type": "markdown",
   "id": "0645577f",
   "metadata": {},
   "source": [
    "nombre_infected      1100\n",
    "nombre_sain          2218\n",
    "nombre_exposed        605\n",
    "nombre_recovered    16077\n",
    "Name: 351, dtype: int64"
   ]
  },
  {
   "cell_type": "markdown",
   "id": "8dbccd58",
   "metadata": {},
   "source": [
    "nombre_infected      1106\n",
    "nombre_sain          2179\n",
    "nombre_exposed        619\n",
    "nombre_recovered    16096\n",
    "Name: 352, dtype: int64"
   ]
  },
  {
   "cell_type": "markdown",
   "id": "cca0045b",
   "metadata": {},
   "source": [
    "nombre_infected      1145\n",
    "nombre_sain          2147\n",
    "nombre_exposed        584\n",
    "nombre_recovered    16124\n",
    "Name: 353, dtype: int64"
   ]
  },
  {
   "cell_type": "markdown",
   "id": "17cab24e",
   "metadata": {},
   "source": [
    "nombre_infected      1153\n",
    "nombre_sain          2086\n",
    "nombre_exposed        599\n",
    "nombre_recovered    16162\n",
    "Name: 354, dtype: int64"
   ]
  },
  {
   "cell_type": "markdown",
   "id": "c517822c",
   "metadata": {},
   "source": [
    "nombre_infected      1177\n",
    "nombre_sain          2044\n",
    "nombre_exposed        587\n",
    "nombre_recovered    16192\n",
    "Name: 355, dtype: int64"
   ]
  },
  {
   "cell_type": "markdown",
   "id": "ce00fc7b",
   "metadata": {},
   "source": [
    "nombre_infected      1172\n",
    "nombre_sain          1991\n",
    "nombre_exposed        592\n",
    "nombre_recovered    16245\n",
    "Name: 356, dtype: int64"
   ]
  },
  {
   "cell_type": "markdown",
   "id": "200b5a04",
   "metadata": {},
   "source": [
    "nombre_infected      1159\n",
    "nombre_sain          1936\n",
    "nombre_exposed        626\n",
    "nombre_recovered    16279\n",
    "Name: 357, dtype: int64"
   ]
  },
  {
   "cell_type": "markdown",
   "id": "e99d8852",
   "metadata": {},
   "source": [
    "nombre_infected      1150\n",
    "nombre_sain          1870\n",
    "nombre_exposed        632\n",
    "nombre_recovered    16348\n",
    "Name: 358, dtype: int64"
   ]
  },
  {
   "cell_type": "markdown",
   "id": "897f2b52",
   "metadata": {},
   "source": [
    "nombre_infected      1194\n",
    "nombre_sain          1856\n",
    "nombre_exposed        588\n",
    "nombre_recovered    16362\n",
    "Name: 359, dtype: int64"
   ]
  },
  {
   "cell_type": "markdown",
   "id": "10d78c33",
   "metadata": {},
   "source": [
    "nombre_infected      1196\n",
    "nombre_sain          1838\n",
    "nombre_exposed        602\n",
    "nombre_recovered    16364\n",
    "Name: 360, dtype: int64"
   ]
  },
  {
   "cell_type": "markdown",
   "id": "1fc06f37",
   "metadata": {},
   "source": [
    "nombre_infected      1185\n",
    "nombre_sain          1821\n",
    "nombre_exposed        588\n",
    "nombre_recovered    16406\n",
    "Name: 361, dtype: int64"
   ]
  },
  {
   "cell_type": "markdown",
   "id": "fc1764f7",
   "metadata": {},
   "source": [
    "nombre_infected      1179\n",
    "nombre_sain          1778\n",
    "nombre_exposed        591\n",
    "nombre_recovered    16452\n",
    "Name: 362, dtype: int64"
   ]
  },
  {
   "cell_type": "markdown",
   "id": "be8ee365",
   "metadata": {},
   "source": [
    "nombre_infected      1145\n",
    "nombre_sain          1779\n",
    "nombre_exposed        563\n",
    "nombre_recovered    16513\n",
    "Name: 363, dtype: int64"
   ]
  },
  {
   "cell_type": "markdown",
   "id": "89c3431f",
   "metadata": {},
   "source": [
    "nombre_infected      1129\n",
    "nombre_sain          1748\n",
    "nombre_exposed        585\n",
    "nombre_recovered    16538\n",
    "Name: 364, dtype: int64"
   ]
  },
  {
   "cell_type": "markdown",
   "id": "60ed06fe",
   "metadata": {},
   "source": [
    "nombre_infected      1139\n",
    "nombre_sain          1751\n",
    "nombre_exposed        551\n",
    "nombre_recovered    16559\n",
    "Name: 365, dtype: int64"
   ]
  },
  {
   "cell_type": "markdown",
   "id": "a420b973",
   "metadata": {},
   "source": [
    "nombre_infected      1135\n",
    "nombre_sain          1742\n",
    "nombre_exposed        524\n",
    "nombre_recovered    16599\n",
    "Name: 366, dtype: int64"
   ]
  },
  {
   "cell_type": "markdown",
   "id": "4ac714ec",
   "metadata": {},
   "source": [
    "nombre_infected      1123\n",
    "nombre_sain          1724\n",
    "nombre_exposed        511\n",
    "nombre_recovered    16642\n",
    "Name: 367, dtype: int64"
   ]
  },
  {
   "cell_type": "markdown",
   "id": "f1520e18",
   "metadata": {},
   "source": [
    "nombre_infected      1114\n",
    "nombre_sain          1743\n",
    "nombre_exposed        475\n",
    "nombre_recovered    16668\n",
    "Name: 368, dtype: int64"
   ]
  },
  {
   "cell_type": "markdown",
   "id": "17519025",
   "metadata": {},
   "source": [
    "nombre_infected      1086\n",
    "nombre_sain          1759\n",
    "nombre_exposed        451\n",
    "nombre_recovered    16704\n",
    "Name: 369, dtype: int64"
   ]
  },
  {
   "cell_type": "markdown",
   "id": "00500960",
   "metadata": {},
   "source": [
    "nombre_infected      1061\n",
    "nombre_sain          1713\n",
    "nombre_exposed        475\n",
    "nombre_recovered    16751\n",
    "Name: 370, dtype: int64"
   ]
  },
  {
   "cell_type": "markdown",
   "id": "0c57c492",
   "metadata": {},
   "source": [
    "nombre_infected      1031\n",
    "nombre_sain          1722\n",
    "nombre_exposed        476\n",
    "nombre_recovered    16771\n",
    "Name: 371, dtype: int64"
   ]
  },
  {
   "cell_type": "markdown",
   "id": "3d573deb",
   "metadata": {},
   "source": [
    "nombre_infected      1017\n",
    "nombre_sain          1737\n",
    "nombre_exposed        475\n",
    "nombre_recovered    16771\n",
    "Name: 372, dtype: int64"
   ]
  },
  {
   "cell_type": "markdown",
   "id": "2962fea4",
   "metadata": {},
   "source": [
    "nombre_infected      1012\n",
    "nombre_sain          1736\n",
    "nombre_exposed        450\n",
    "nombre_recovered    16802\n",
    "Name: 373, dtype: int64"
   ]
  },
  {
   "cell_type": "markdown",
   "id": "29f381a1",
   "metadata": {},
   "source": [
    "nombre_infected       995\n",
    "nombre_sain          1729\n",
    "nombre_exposed        431\n",
    "nombre_recovered    16845\n",
    "Name: 374, dtype: int64"
   ]
  },
  {
   "cell_type": "markdown",
   "id": "043efa96",
   "metadata": {},
   "source": [
    "nombre_infected       977\n",
    "nombre_sain          1722\n",
    "nombre_exposed        438\n",
    "nombre_recovered    16863\n",
    "Name: 375, dtype: int64"
   ]
  },
  {
   "cell_type": "markdown",
   "id": "654a1f0b",
   "metadata": {},
   "source": [
    "nombre_infected       975\n",
    "nombre_sain          1724\n",
    "nombre_exposed        437\n",
    "nombre_recovered    16864\n",
    "Name: 376, dtype: int64"
   ]
  },
  {
   "cell_type": "markdown",
   "id": "0e3b0b2d",
   "metadata": {},
   "source": [
    "nombre_infected       947\n",
    "nombre_sain          1752\n",
    "nombre_exposed        437\n",
    "nombre_recovered    16864\n",
    "Name: 377, dtype: int64"
   ]
  },
  {
   "cell_type": "markdown",
   "id": "768fcdfd",
   "metadata": {},
   "source": [
    "nombre_infected       900\n",
    "nombre_sain          1761\n",
    "nombre_exposed        448\n",
    "nombre_recovered    16891\n",
    "Name: 378, dtype: int64"
   ]
  },
  {
   "cell_type": "markdown",
   "id": "7acb3160",
   "metadata": {},
   "source": [
    "nombre_infected       889\n",
    "nombre_sain          1789\n",
    "nombre_exposed        438\n",
    "nombre_recovered    16884\n",
    "Name: 379, dtype: int64"
   ]
  },
  {
   "cell_type": "markdown",
   "id": "b7021c0b",
   "metadata": {},
   "source": [
    "nombre_infected       856\n",
    "nombre_sain          1810\n",
    "nombre_exposed        444\n",
    "nombre_recovered    16890\n",
    "Name: 380, dtype: int64"
   ]
  },
  {
   "cell_type": "markdown",
   "id": "d347e99d",
   "metadata": {},
   "source": [
    "nombre_infected       858\n",
    "nombre_sain          1864\n",
    "nombre_exposed        416\n",
    "nombre_recovered    16862\n",
    "Name: 381, dtype: int64"
   ]
  },
  {
   "cell_type": "markdown",
   "id": "86b70b58",
   "metadata": {},
   "source": [
    "nombre_infected       840\n",
    "nombre_sain          1889\n",
    "nombre_exposed        398\n",
    "nombre_recovered    16873\n",
    "Name: 382, dtype: int64"
   ]
  },
  {
   "cell_type": "markdown",
   "id": "5192f656",
   "metadata": {},
   "source": [
    "nombre_infected       823\n",
    "nombre_sain          1890\n",
    "nombre_exposed        419\n",
    "nombre_recovered    16868\n",
    "Name: 383, dtype: int64"
   ]
  },
  {
   "cell_type": "markdown",
   "id": "8e77a116",
   "metadata": {},
   "source": [
    "nombre_infected       808\n",
    "nombre_sain          1940\n",
    "nombre_exposed        414\n",
    "nombre_recovered    16838\n",
    "Name: 384, dtype: int64"
   ]
  },
  {
   "cell_type": "markdown",
   "id": "18035d90",
   "metadata": {},
   "source": [
    "nombre_infected       796\n",
    "nombre_sain          1973\n",
    "nombre_exposed        413\n",
    "nombre_recovered    16818\n",
    "Name: 385, dtype: int64"
   ]
  },
  {
   "cell_type": "markdown",
   "id": "52f339ec",
   "metadata": {},
   "source": [
    "nombre_infected       791\n",
    "nombre_sain          2001\n",
    "nombre_exposed        411\n",
    "nombre_recovered    16797\n",
    "Name: 386, dtype: int64"
   ]
  },
  {
   "cell_type": "markdown",
   "id": "3bc470b9",
   "metadata": {},
   "source": [
    "nombre_infected       785\n",
    "nombre_sain          2032\n",
    "nombre_exposed        440\n",
    "nombre_recovered    16743\n",
    "Name: 387, dtype: int64"
   ]
  },
  {
   "cell_type": "markdown",
   "id": "a7f025d3",
   "metadata": {},
   "source": [
    "nombre_infected       773\n",
    "nombre_sain          2063\n",
    "nombre_exposed        439\n",
    "nombre_recovered    16725\n",
    "Name: 388, dtype: int64"
   ]
  },
  {
   "cell_type": "markdown",
   "id": "5e9e6cc1",
   "metadata": {},
   "source": [
    "nombre_infected       779\n",
    "nombre_sain          2108\n",
    "nombre_exposed        442\n",
    "nombre_recovered    16671\n",
    "Name: 389, dtype: int64"
   ]
  },
  {
   "cell_type": "markdown",
   "id": "cfed62a2",
   "metadata": {},
   "source": [
    "nombre_infected       790\n",
    "nombre_sain          2128\n",
    "nombre_exposed        440\n",
    "nombre_recovered    16642\n",
    "Name: 390, dtype: int64"
   ]
  },
  {
   "cell_type": "markdown",
   "id": "8f8e1346",
   "metadata": {},
   "source": [
    "nombre_infected       778\n",
    "nombre_sain          2162\n",
    "nombre_exposed        456\n",
    "nombre_recovered    16604\n",
    "Name: 391, dtype: int64"
   ]
  },
  {
   "cell_type": "markdown",
   "id": "17bdac4c",
   "metadata": {},
   "source": [
    "nombre_infected       762\n",
    "nombre_sain          2203\n",
    "nombre_exposed        441\n",
    "nombre_recovered    16594\n",
    "Name: 392, dtype: int64"
   ]
  },
  {
   "cell_type": "markdown",
   "id": "df8c0e9a",
   "metadata": {},
   "source": [
    "nombre_infected       767\n",
    "nombre_sain          2249\n",
    "nombre_exposed        435\n",
    "nombre_recovered    16549\n",
    "Name: 393, dtype: int64"
   ]
  },
  {
   "cell_type": "markdown",
   "id": "861beb16",
   "metadata": {},
   "source": [
    "nombre_infected       759\n",
    "nombre_sain          2244\n",
    "nombre_exposed        469\n",
    "nombre_recovered    16528\n",
    "Name: 394, dtype: int64"
   ]
  },
  {
   "cell_type": "markdown",
   "id": "b848abec",
   "metadata": {},
   "source": [
    "nombre_infected       770\n",
    "nombre_sain          2246\n",
    "nombre_exposed        465\n",
    "nombre_recovered    16519\n",
    "Name: 395, dtype: int64"
   ]
  },
  {
   "cell_type": "markdown",
   "id": "ddad442b",
   "metadata": {},
   "source": [
    "nombre_infected       777\n",
    "nombre_sain          2261\n",
    "nombre_exposed        458\n",
    "nombre_recovered    16504\n",
    "Name: 396, dtype: int64"
   ]
  },
  {
   "cell_type": "markdown",
   "id": "c98190d8",
   "metadata": {},
   "source": [
    "nombre_infected       780\n",
    "nombre_sain          2243\n",
    "nombre_exposed        471\n",
    "nombre_recovered    16506\n",
    "Name: 397, dtype: int64"
   ]
  },
  {
   "cell_type": "markdown",
   "id": "0e7b3259",
   "metadata": {},
   "source": [
    "nombre_infected       773\n",
    "nombre_sain          2245\n",
    "nombre_exposed        477\n",
    "nombre_recovered    16505\n",
    "Name: 398, dtype: int64"
   ]
  },
  {
   "cell_type": "markdown",
   "id": "38f609c0",
   "metadata": {},
   "source": [
    "nombre_infected       785\n",
    "nombre_sain          2267\n",
    "nombre_exposed        470\n",
    "nombre_recovered    16478\n",
    "Name: 399, dtype: int64"
   ]
  },
  {
   "cell_type": "markdown",
   "id": "7f7bcac0",
   "metadata": {},
   "source": [
    "nombre_infected       804\n",
    "nombre_sain          2248\n",
    "nombre_exposed        472\n",
    "nombre_recovered    16476\n",
    "Name: 400, dtype: int64"
   ]
  },
  {
   "cell_type": "markdown",
   "id": "32a6b86a",
   "metadata": {},
   "source": [
    "nombre_infected       794\n",
    "nombre_sain          2261\n",
    "nombre_exposed        477\n",
    "nombre_recovered    16468\n",
    "Name: 401, dtype: int64"
   ]
  },
  {
   "cell_type": "markdown",
   "id": "fc25e192",
   "metadata": {},
   "source": [
    "nombre_infected       797\n",
    "nombre_sain          2270\n",
    "nombre_exposed        488\n",
    "nombre_recovered    16445\n",
    "Name: 402, dtype: int64"
   ]
  },
  {
   "cell_type": "markdown",
   "id": "c0d966f7",
   "metadata": {},
   "source": [
    "nombre_infected       789\n",
    "nombre_sain          2289\n",
    "nombre_exposed        477\n",
    "nombre_recovered    16445\n",
    "Name: 403, dtype: int64"
   ]
  },
  {
   "cell_type": "markdown",
   "id": "8f00e6e2",
   "metadata": {},
   "source": [
    "nombre_infected       785\n",
    "nombre_sain          2314\n",
    "nombre_exposed        489\n",
    "nombre_recovered    16412\n",
    "Name: 404, dtype: int64"
   ]
  },
  {
   "cell_type": "markdown",
   "id": "11e74933",
   "metadata": {},
   "source": [
    "nombre_infected       794\n",
    "nombre_sain          2329\n",
    "nombre_exposed        463\n",
    "nombre_recovered    16414\n",
    "Name: 405, dtype: int64"
   ]
  },
  {
   "cell_type": "markdown",
   "id": "c7b4c6b7",
   "metadata": {},
   "source": [
    "nombre_infected       820\n",
    "nombre_sain          2354\n",
    "nombre_exposed        448\n",
    "nombre_recovered    16378\n",
    "Name: 406, dtype: int64"
   ]
  },
  {
   "cell_type": "markdown",
   "id": "fa103f58",
   "metadata": {},
   "source": [
    "nombre_infected       820\n",
    "nombre_sain          2353\n",
    "nombre_exposed        478\n",
    "nombre_recovered    16349\n",
    "Name: 407, dtype: int64"
   ]
  },
  {
   "cell_type": "markdown",
   "id": "979be60e",
   "metadata": {},
   "source": [
    "nombre_infected       818\n",
    "nombre_sain          2374\n",
    "nombre_exposed        488\n",
    "nombre_recovered    16320\n",
    "Name: 408, dtype: int64"
   ]
  },
  {
   "cell_type": "markdown",
   "id": "5460a93d",
   "metadata": {},
   "source": [
    "nombre_infected       839\n",
    "nombre_sain          2386\n",
    "nombre_exposed        500\n",
    "nombre_recovered    16275\n",
    "Name: 409, dtype: int64"
   ]
  },
  {
   "cell_type": "markdown",
   "id": "4aaa0e85",
   "metadata": {},
   "source": [
    "nombre_infected       819\n",
    "nombre_sain          2403\n",
    "nombre_exposed        511\n",
    "nombre_recovered    16267\n",
    "Name: 410, dtype: int64"
   ]
  },
  {
   "cell_type": "markdown",
   "id": "8cfad369",
   "metadata": {},
   "source": [
    "nombre_infected       824\n",
    "nombre_sain          2372\n",
    "nombre_exposed        534\n",
    "nombre_recovered    16270\n",
    "Name: 411, dtype: int64"
   ]
  },
  {
   "cell_type": "markdown",
   "id": "b1dd9401",
   "metadata": {},
   "source": [
    "nombre_infected       826\n",
    "nombre_sain          2379\n",
    "nombre_exposed        531\n",
    "nombre_recovered    16264\n",
    "Name: 412, dtype: int64"
   ]
  },
  {
   "cell_type": "markdown",
   "id": "9a2fb347",
   "metadata": {},
   "source": [
    "nombre_infected       840\n",
    "nombre_sain          2399\n",
    "nombre_exposed        496\n",
    "nombre_recovered    16265\n",
    "Name: 413, dtype: int64"
   ]
  },
  {
   "cell_type": "markdown",
   "id": "b00ba323",
   "metadata": {},
   "source": [
    "nombre_infected       869\n",
    "nombre_sain          2360\n",
    "nombre_exposed        529\n",
    "nombre_recovered    16242\n",
    "Name: 414, dtype: int64"
   ]
  },
  {
   "cell_type": "markdown",
   "id": "fe9881a6",
   "metadata": {},
   "source": [
    "nombre_infected       874\n",
    "nombre_sain          2343\n",
    "nombre_exposed        548\n",
    "nombre_recovered    16235\n",
    "Name: 415, dtype: int64"
   ]
  },
  {
   "cell_type": "markdown",
   "id": "0fa99bca",
   "metadata": {},
   "source": [
    "nombre_infected       881\n",
    "nombre_sain          2318\n",
    "nombre_exposed        557\n",
    "nombre_recovered    16244\n",
    "Name: 416, dtype: int64"
   ]
  },
  {
   "cell_type": "markdown",
   "id": "12eaec04",
   "metadata": {},
   "source": [
    "nombre_infected       858\n",
    "nombre_sain          2326\n",
    "nombre_exposed        561\n",
    "nombre_recovered    16255\n",
    "Name: 417, dtype: int64"
   ]
  },
  {
   "cell_type": "markdown",
   "id": "e43fe745",
   "metadata": {},
   "source": [
    "nombre_infected       846\n",
    "nombre_sain          2324\n",
    "nombre_exposed        566\n",
    "nombre_recovered    16264\n",
    "Name: 418, dtype: int64"
   ]
  },
  {
   "cell_type": "markdown",
   "id": "255c42ef",
   "metadata": {},
   "source": [
    "nombre_infected       876\n",
    "nombre_sain          2343\n",
    "nombre_exposed        544\n",
    "nombre_recovered    16237\n",
    "Name: 419, dtype: int64"
   ]
  },
  {
   "cell_type": "markdown",
   "id": "3f395abb",
   "metadata": {},
   "source": [
    "nombre_infected       876\n",
    "nombre_sain          2359\n",
    "nombre_exposed        551\n",
    "nombre_recovered    16214\n",
    "Name: 420, dtype: int64"
   ]
  },
  {
   "cell_type": "markdown",
   "id": "dc81a498",
   "metadata": {},
   "source": [
    "nombre_infected       876\n",
    "nombre_sain          2387\n",
    "nombre_exposed        542\n",
    "nombre_recovered    16195\n",
    "Name: 421, dtype: int64"
   ]
  },
  {
   "cell_type": "markdown",
   "id": "abaaebe3",
   "metadata": {},
   "source": [
    "nombre_infected       899\n",
    "nombre_sain          2400\n",
    "nombre_exposed        530\n",
    "nombre_recovered    16171\n",
    "Name: 422, dtype: int64"
   ]
  },
  {
   "cell_type": "markdown",
   "id": "6f862ac5",
   "metadata": {},
   "source": [
    "nombre_infected       886\n",
    "nombre_sain          2404\n",
    "nombre_exposed        537\n",
    "nombre_recovered    16173\n",
    "Name: 423, dtype: int64"
   ]
  },
  {
   "cell_type": "markdown",
   "id": "8d71ddfe",
   "metadata": {},
   "source": [
    "nombre_infected       852\n",
    "nombre_sain          2411\n",
    "nombre_exposed        541\n",
    "nombre_recovered    16196\n",
    "Name: 424, dtype: int64"
   ]
  },
  {
   "cell_type": "markdown",
   "id": "154a4baf",
   "metadata": {},
   "source": [
    "nombre_infected       868\n",
    "nombre_sain          2402\n",
    "nombre_exposed        550\n",
    "nombre_recovered    16180\n",
    "Name: 425, dtype: int64"
   ]
  },
  {
   "cell_type": "markdown",
   "id": "304fd35f",
   "metadata": {},
   "source": [
    "nombre_infected       876\n",
    "nombre_sain          2389\n",
    "nombre_exposed        553\n",
    "nombre_recovered    16182\n",
    "Name: 426, dtype: int64"
   ]
  },
  {
   "cell_type": "markdown",
   "id": "53b5caad",
   "metadata": {},
   "source": [
    "nombre_infected       887\n",
    "nombre_sain          2368\n",
    "nombre_exposed        574\n",
    "nombre_recovered    16171\n",
    "Name: 427, dtype: int64"
   ]
  },
  {
   "cell_type": "markdown",
   "id": "6526399a",
   "metadata": {},
   "source": [
    "nombre_infected       912\n",
    "nombre_sain          2340\n",
    "nombre_exposed        582\n",
    "nombre_recovered    16166\n",
    "Name: 428, dtype: int64"
   ]
  },
  {
   "cell_type": "markdown",
   "id": "d73d550e",
   "metadata": {},
   "source": [
    "nombre_infected       893\n",
    "nombre_sain          2328\n",
    "nombre_exposed        588\n",
    "nombre_recovered    16191\n",
    "Name: 429, dtype: int64"
   ]
  },
  {
   "cell_type": "markdown",
   "id": "168f42ba",
   "metadata": {},
   "source": [
    "nombre_infected       911\n",
    "nombre_sain          2305\n",
    "nombre_exposed        567\n",
    "nombre_recovered    16217\n",
    "Name: 430, dtype: int64"
   ]
  },
  {
   "cell_type": "markdown",
   "id": "21fbc591",
   "metadata": {},
   "source": [
    "nombre_infected       937\n",
    "nombre_sain          2316\n",
    "nombre_exposed        548\n",
    "nombre_recovered    16199\n",
    "Name: 431, dtype: int64"
   ]
  },
  {
   "cell_type": "markdown",
   "id": "4dc0844d",
   "metadata": {},
   "source": [
    "nombre_infected       966\n",
    "nombre_sain          2312\n",
    "nombre_exposed        533\n",
    "nombre_recovered    16189\n",
    "Name: 432, dtype: int64"
   ]
  },
  {
   "cell_type": "markdown",
   "id": "a1c59316",
   "metadata": {},
   "source": [
    "nombre_infected       962\n",
    "nombre_sain          2290\n",
    "nombre_exposed        537\n",
    "nombre_recovered    16211\n",
    "Name: 433, dtype: int64"
   ]
  },
  {
   "cell_type": "markdown",
   "id": "83ea1792",
   "metadata": {},
   "source": [
    "nombre_infected       953\n",
    "nombre_sain          2280\n",
    "nombre_exposed        552\n",
    "nombre_recovered    16215\n",
    "Name: 434, dtype: int64"
   ]
  },
  {
   "cell_type": "markdown",
   "id": "a8fa2606",
   "metadata": {},
   "source": [
    "nombre_infected       948\n",
    "nombre_sain          2292\n",
    "nombre_exposed        546\n",
    "nombre_recovered    16214\n",
    "Name: 435, dtype: int64"
   ]
  },
  {
   "cell_type": "markdown",
   "id": "8d1163de",
   "metadata": {},
   "source": [
    "nombre_infected       960\n",
    "nombre_sain          2301\n",
    "nombre_exposed        538\n",
    "nombre_recovered    16201\n",
    "Name: 436, dtype: int64"
   ]
  },
  {
   "cell_type": "markdown",
   "id": "4d4451e7",
   "metadata": {},
   "source": [
    "nombre_infected       960\n",
    "nombre_sain          2284\n",
    "nombre_exposed        550\n",
    "nombre_recovered    16206\n",
    "Name: 437, dtype: int64"
   ]
  },
  {
   "cell_type": "markdown",
   "id": "00a3a2ca",
   "metadata": {},
   "source": [
    "nombre_infected       966\n",
    "nombre_sain          2238\n",
    "nombre_exposed        571\n",
    "nombre_recovered    16225\n",
    "Name: 438, dtype: int64"
   ]
  },
  {
   "cell_type": "markdown",
   "id": "6b060cfc",
   "metadata": {},
   "source": [
    "nombre_infected       973\n",
    "nombre_sain          2234\n",
    "nombre_exposed        569\n",
    "nombre_recovered    16224\n",
    "Name: 439, dtype: int64"
   ]
  },
  {
   "cell_type": "markdown",
   "id": "c3ba9092",
   "metadata": {},
   "source": [
    "nombre_infected       959\n",
    "nombre_sain          2225\n",
    "nombre_exposed        579\n",
    "nombre_recovered    16237\n",
    "Name: 440, dtype: int64"
   ]
  },
  {
   "cell_type": "markdown",
   "id": "311b20a6",
   "metadata": {},
   "source": [
    "nombre_infected       975\n",
    "nombre_sain          2212\n",
    "nombre_exposed        575\n",
    "nombre_recovered    16238\n",
    "Name: 441, dtype: int64"
   ]
  },
  {
   "cell_type": "markdown",
   "id": "b7f9244e",
   "metadata": {},
   "source": [
    "nombre_infected       993\n",
    "nombre_sain          2223\n",
    "nombre_exposed        562\n",
    "nombre_recovered    16222\n",
    "Name: 442, dtype: int64"
   ]
  },
  {
   "cell_type": "markdown",
   "id": "e7cdc57a",
   "metadata": {},
   "source": [
    "nombre_infected       982\n",
    "nombre_sain          2235\n",
    "nombre_exposed        560\n",
    "nombre_recovered    16223\n",
    "Name: 443, dtype: int64"
   ]
  },
  {
   "cell_type": "markdown",
   "id": "28c0b084",
   "metadata": {},
   "source": [
    "nombre_infected       967\n",
    "nombre_sain          2238\n",
    "nombre_exposed        554\n",
    "nombre_recovered    16241\n",
    "Name: 444, dtype: int64"
   ]
  },
  {
   "cell_type": "markdown",
   "id": "13080ed3",
   "metadata": {},
   "source": [
    "nombre_infected       950\n",
    "nombre_sain          2264\n",
    "nombre_exposed        553\n",
    "nombre_recovered    16233\n",
    "Name: 445, dtype: int64"
   ]
  },
  {
   "cell_type": "markdown",
   "id": "817854e1",
   "metadata": {},
   "source": [
    "nombre_infected       931\n",
    "nombre_sain          2271\n",
    "nombre_exposed        539\n",
    "nombre_recovered    16259\n",
    "Name: 446, dtype: int64"
   ]
  },
  {
   "cell_type": "markdown",
   "id": "97c9d3d6",
   "metadata": {},
   "source": [
    "nombre_infected       927\n",
    "nombre_sain          2274\n",
    "nombre_exposed        527\n",
    "nombre_recovered    16272\n",
    "Name: 447, dtype: int64"
   ]
  },
  {
   "cell_type": "markdown",
   "id": "11556476",
   "metadata": {},
   "source": [
    "nombre_infected       918\n",
    "nombre_sain          2266\n",
    "nombre_exposed        562\n",
    "nombre_recovered    16254\n",
    "Name: 448, dtype: int64"
   ]
  },
  {
   "cell_type": "markdown",
   "id": "dab95871",
   "metadata": {},
   "source": [
    "nombre_infected       914\n",
    "nombre_sain          2248\n",
    "nombre_exposed        566\n",
    "nombre_recovered    16272\n",
    "Name: 449, dtype: int64"
   ]
  },
  {
   "cell_type": "markdown",
   "id": "9ea93815",
   "metadata": {},
   "source": [
    "nombre_infected       903\n",
    "nombre_sain          2234\n",
    "nombre_exposed        571\n",
    "nombre_recovered    16292\n",
    "Name: 450, dtype: int64"
   ]
  },
  {
   "cell_type": "markdown",
   "id": "9eaa5b11",
   "metadata": {},
   "source": [
    "nombre_infected       896\n",
    "nombre_sain          2254\n",
    "nombre_exposed        538\n",
    "nombre_recovered    16312\n",
    "Name: 451, dtype: int64"
   ]
  },
  {
   "cell_type": "markdown",
   "id": "897a7b33",
   "metadata": {},
   "source": [
    "nombre_infected       902\n",
    "nombre_sain          2237\n",
    "nombre_exposed        553\n",
    "nombre_recovered    16308\n",
    "Name: 452, dtype: int64"
   ]
  },
  {
   "cell_type": "markdown",
   "id": "76d62931",
   "metadata": {},
   "source": [
    "nombre_infected       930\n",
    "nombre_sain          2243\n",
    "nombre_exposed        537\n",
    "nombre_recovered    16290\n",
    "Name: 453, dtype: int64"
   ]
  },
  {
   "cell_type": "markdown",
   "id": "126b62c9",
   "metadata": {},
   "source": [
    "nombre_infected       921\n",
    "nombre_sain          2224\n",
    "nombre_exposed        548\n",
    "nombre_recovered    16307\n",
    "Name: 454, dtype: int64"
   ]
  },
  {
   "cell_type": "markdown",
   "id": "a6aaf648",
   "metadata": {},
   "source": [
    "nombre_infected       912\n",
    "nombre_sain          2211\n",
    "nombre_exposed        549\n",
    "nombre_recovered    16328\n",
    "Name: 455, dtype: int64"
   ]
  },
  {
   "cell_type": "markdown",
   "id": "74782acd",
   "metadata": {},
   "source": [
    "nombre_infected       942\n",
    "nombre_sain          2181\n",
    "nombre_exposed        542\n",
    "nombre_recovered    16335\n",
    "Name: 456, dtype: int64"
   ]
  },
  {
   "cell_type": "markdown",
   "id": "2d6c0eae",
   "metadata": {},
   "source": [
    "nombre_infected       949\n",
    "nombre_sain          2174\n",
    "nombre_exposed        562\n",
    "nombre_recovered    16315\n",
    "Name: 457, dtype: int64"
   ]
  },
  {
   "cell_type": "markdown",
   "id": "ac898e6c",
   "metadata": {},
   "source": [
    "nombre_infected       961\n",
    "nombre_sain          2172\n",
    "nombre_exposed        533\n",
    "nombre_recovered    16334\n",
    "Name: 458, dtype: int64"
   ]
  },
  {
   "cell_type": "markdown",
   "id": "707149fc",
   "metadata": {},
   "source": [
    "nombre_infected       967\n",
    "nombre_sain          2169\n",
    "nombre_exposed        523\n",
    "nombre_recovered    16341\n",
    "Name: 459, dtype: int64"
   ]
  },
  {
   "cell_type": "markdown",
   "id": "291e2ed8",
   "metadata": {},
   "source": [
    "nombre_infected       969\n",
    "nombre_sain          2144\n",
    "nombre_exposed        500\n",
    "nombre_recovered    16387\n",
    "Name: 460, dtype: int64"
   ]
  },
  {
   "cell_type": "markdown",
   "id": "308ab83e",
   "metadata": {},
   "source": [
    "nombre_infected       974\n",
    "nombre_sain          2126\n",
    "nombre_exposed        501\n",
    "nombre_recovered    16399\n",
    "Name: 461, dtype: int64"
   ]
  },
  {
   "cell_type": "markdown",
   "id": "32ff66a2",
   "metadata": {},
   "source": [
    "nombre_infected       939\n",
    "nombre_sain          2121\n",
    "nombre_exposed        523\n",
    "nombre_recovered    16417\n",
    "Name: 462, dtype: int64"
   ]
  },
  {
   "cell_type": "markdown",
   "id": "6a182773",
   "metadata": {},
   "source": [
    "nombre_infected       946\n",
    "nombre_sain          2126\n",
    "nombre_exposed        503\n",
    "nombre_recovered    16425\n",
    "Name: 463, dtype: int64"
   ]
  },
  {
   "cell_type": "markdown",
   "id": "c93253b7",
   "metadata": {},
   "source": [
    "nombre_infected       974\n",
    "nombre_sain          2115\n",
    "nombre_exposed        489\n",
    "nombre_recovered    16422\n",
    "Name: 464, dtype: int64"
   ]
  },
  {
   "cell_type": "markdown",
   "id": "8a1d94c2",
   "metadata": {},
   "source": [
    "nombre_infected       971\n",
    "nombre_sain          2132\n",
    "nombre_exposed        495\n",
    "nombre_recovered    16402\n",
    "Name: 465, dtype: int64"
   ]
  },
  {
   "cell_type": "markdown",
   "id": "55b77471",
   "metadata": {},
   "source": [
    "nombre_infected       947\n",
    "nombre_sain          2104\n",
    "nombre_exposed        524\n",
    "nombre_recovered    16425\n",
    "Name: 466, dtype: int64"
   ]
  },
  {
   "cell_type": "markdown",
   "id": "f5561036",
   "metadata": {},
   "source": [
    "nombre_infected       945\n",
    "nombre_sain          2101\n",
    "nombre_exposed        513\n",
    "nombre_recovered    16441\n",
    "Name: 467, dtype: int64"
   ]
  },
  {
   "cell_type": "markdown",
   "id": "780d0bf4",
   "metadata": {},
   "source": [
    "nombre_infected       973\n",
    "nombre_sain          2091\n",
    "nombre_exposed        480\n",
    "nombre_recovered    16456\n",
    "Name: 468, dtype: int64"
   ]
  },
  {
   "cell_type": "markdown",
   "id": "baab451b",
   "metadata": {},
   "source": [
    "nombre_infected       955\n",
    "nombre_sain          2076\n",
    "nombre_exposed        502\n",
    "nombre_recovered    16467\n",
    "Name: 469, dtype: int64"
   ]
  },
  {
   "cell_type": "markdown",
   "id": "8ac1a490",
   "metadata": {},
   "source": [
    "nombre_infected       966\n",
    "nombre_sain          2068\n",
    "nombre_exposed        503\n",
    "nombre_recovered    16463\n",
    "Name: 470, dtype: int64"
   ]
  },
  {
   "cell_type": "markdown",
   "id": "1ec84bde",
   "metadata": {},
   "source": [
    "nombre_infected       969\n",
    "nombre_sain          2069\n",
    "nombre_exposed        524\n",
    "nombre_recovered    16438\n",
    "Name: 471, dtype: int64"
   ]
  },
  {
   "cell_type": "markdown",
   "id": "5e0b4fea",
   "metadata": {},
   "source": [
    "nombre_infected       974\n",
    "nombre_sain          2073\n",
    "nombre_exposed        506\n",
    "nombre_recovered    16447\n",
    "Name: 472, dtype: int64"
   ]
  },
  {
   "cell_type": "markdown",
   "id": "d74e808c",
   "metadata": {},
   "source": [
    "nombre_infected       996\n",
    "nombre_sain          2102\n",
    "nombre_exposed        485\n",
    "nombre_recovered    16417\n",
    "Name: 473, dtype: int64"
   ]
  },
  {
   "cell_type": "markdown",
   "id": "269f8ef2",
   "metadata": {},
   "source": [
    "nombre_infected      1001\n",
    "nombre_sain          2103\n",
    "nombre_exposed        486\n",
    "nombre_recovered    16410\n",
    "Name: 474, dtype: int64"
   ]
  },
  {
   "cell_type": "markdown",
   "id": "cc6d5221",
   "metadata": {},
   "source": [
    "nombre_infected       966\n",
    "nombre_sain          2080\n",
    "nombre_exposed        511\n",
    "nombre_recovered    16443\n",
    "Name: 475, dtype: int64"
   ]
  },
  {
   "cell_type": "markdown",
   "id": "71ade1d9",
   "metadata": {},
   "source": [
    "nombre_infected       949\n",
    "nombre_sain          2074\n",
    "nombre_exposed        542\n",
    "nombre_recovered    16435\n",
    "Name: 476, dtype: int64"
   ]
  },
  {
   "cell_type": "markdown",
   "id": "7720ad7e",
   "metadata": {},
   "source": [
    "nombre_infected       939\n",
    "nombre_sain          2078\n",
    "nombre_exposed        531\n",
    "nombre_recovered    16452\n",
    "Name: 477, dtype: int64"
   ]
  },
  {
   "cell_type": "markdown",
   "id": "8fa12eb6",
   "metadata": {},
   "source": [
    "nombre_infected       942\n",
    "nombre_sain          2067\n",
    "nombre_exposed        550\n",
    "nombre_recovered    16441\n",
    "Name: 478, dtype: int64"
   ]
  },
  {
   "cell_type": "markdown",
   "id": "500edec3",
   "metadata": {},
   "source": [
    "nombre_infected       948\n",
    "nombre_sain          2052\n",
    "nombre_exposed        546\n",
    "nombre_recovered    16454\n",
    "Name: 479, dtype: int64"
   ]
  },
  {
   "cell_type": "markdown",
   "id": "05a441be",
   "metadata": {},
   "source": [
    "nombre_infected       957\n",
    "nombre_sain          2053\n",
    "nombre_exposed        513\n",
    "nombre_recovered    16477\n",
    "Name: 480, dtype: int64"
   ]
  },
  {
   "cell_type": "markdown",
   "id": "dde44848",
   "metadata": {},
   "source": [
    "nombre_infected       946\n",
    "nombre_sain          2045\n",
    "nombre_exposed        510\n",
    "nombre_recovered    16499\n",
    "Name: 481, dtype: int64"
   ]
  },
  {
   "cell_type": "markdown",
   "id": "300e824c",
   "metadata": {},
   "source": [
    "nombre_infected       967\n",
    "nombre_sain          2011\n",
    "nombre_exposed        495\n",
    "nombre_recovered    16527\n",
    "Name: 482, dtype: int64"
   ]
  },
  {
   "cell_type": "markdown",
   "id": "25431cf7",
   "metadata": {},
   "source": [
    "nombre_infected       972\n",
    "nombre_sain          2001\n",
    "nombre_exposed        497\n",
    "nombre_recovered    16530\n",
    "Name: 483, dtype: int64"
   ]
  },
  {
   "cell_type": "markdown",
   "id": "fce059aa",
   "metadata": {},
   "source": [
    "nombre_infected       954\n",
    "nombre_sain          1979\n",
    "nombre_exposed        503\n",
    "nombre_recovered    16564\n",
    "Name: 484, dtype: int64"
   ]
  },
  {
   "cell_type": "markdown",
   "id": "09f51a81",
   "metadata": {},
   "source": [
    "nombre_infected       938\n",
    "nombre_sain          1971\n",
    "nombre_exposed        495\n",
    "nombre_recovered    16596\n",
    "Name: 485, dtype: int64"
   ]
  },
  {
   "cell_type": "markdown",
   "id": "42eadfac",
   "metadata": {},
   "source": [
    "nombre_infected       934\n",
    "nombre_sain          1937\n",
    "nombre_exposed        510\n",
    "nombre_recovered    16619\n",
    "Name: 486, dtype: int64"
   ]
  },
  {
   "cell_type": "markdown",
   "id": "bca8274a",
   "metadata": {},
   "source": [
    "nombre_infected       927\n",
    "nombre_sain          1940\n",
    "nombre_exposed        493\n",
    "nombre_recovered    16640\n",
    "Name: 487, dtype: int64"
   ]
  },
  {
   "cell_type": "markdown",
   "id": "b9b544ea",
   "metadata": {},
   "source": [
    "nombre_infected       918\n",
    "nombre_sain          1922\n",
    "nombre_exposed        482\n",
    "nombre_recovered    16678\n",
    "Name: 488, dtype: int64"
   ]
  },
  {
   "cell_type": "markdown",
   "id": "968f9fee",
   "metadata": {},
   "source": [
    "nombre_infected       917\n",
    "nombre_sain          1886\n",
    "nombre_exposed        468\n",
    "nombre_recovered    16729\n",
    "Name: 489, dtype: int64"
   ]
  },
  {
   "cell_type": "markdown",
   "id": "4cbb6edb",
   "metadata": {},
   "source": [
    "nombre_infected       927\n",
    "nombre_sain          1856\n",
    "nombre_exposed        455\n",
    "nombre_recovered    16762\n",
    "Name: 490, dtype: int64"
   ]
  },
  {
   "cell_type": "markdown",
   "id": "43f61c81",
   "metadata": {},
   "source": [
    "nombre_infected       913\n",
    "nombre_sain          1829\n",
    "nombre_exposed        470\n",
    "nombre_recovered    16788\n",
    "Name: 491, dtype: int64"
   ]
  },
  {
   "cell_type": "markdown",
   "id": "cb58d457",
   "metadata": {},
   "source": [
    "nombre_infected       886\n",
    "nombre_sain          1846\n",
    "nombre_exposed        471\n",
    "nombre_recovered    16797\n",
    "Name: 492, dtype: int64"
   ]
  },
  {
   "cell_type": "markdown",
   "id": "3bb1c02f",
   "metadata": {},
   "source": [
    "nombre_infected       891\n",
    "nombre_sain          1840\n",
    "nombre_exposed        457\n",
    "nombre_recovered    16812\n",
    "Name: 493, dtype: int64"
   ]
  },
  {
   "cell_type": "markdown",
   "id": "ce9f101f",
   "metadata": {},
   "source": [
    "nombre_infected       870\n",
    "nombre_sain          1838\n",
    "nombre_exposed        459\n",
    "nombre_recovered    16833\n",
    "Name: 494, dtype: int64"
   ]
  },
  {
   "cell_type": "markdown",
   "id": "98c65f6e",
   "metadata": {},
   "source": [
    "nombre_infected       882\n",
    "nombre_sain          1868\n",
    "nombre_exposed        419\n",
    "nombre_recovered    16831\n",
    "Name: 495, dtype: int64"
   ]
  },
  {
   "cell_type": "markdown",
   "id": "dcb111ca",
   "metadata": {},
   "source": [
    "nombre_infected       866\n",
    "nombre_sain          1865\n",
    "nombre_exposed        416\n",
    "nombre_recovered    16853\n",
    "Name: 496, dtype: int64"
   ]
  },
  {
   "cell_type": "markdown",
   "id": "6ad3f8ef",
   "metadata": {},
   "source": [
    "nombre_infected       841\n",
    "nombre_sain          1879\n",
    "nombre_exposed        429\n",
    "nombre_recovered    16851\n",
    "Name: 497, dtype: int64"
   ]
  },
  {
   "cell_type": "markdown",
   "id": "8255fa21",
   "metadata": {},
   "source": [
    "nombre_infected       814\n",
    "nombre_sain          1914\n",
    "nombre_exposed        420\n",
    "nombre_recovered    16852\n",
    "Name: 498, dtype: int64"
   ]
  },
  {
   "cell_type": "markdown",
   "id": "72eb1ea4",
   "metadata": {},
   "source": [
    "nombre_infected       832\n",
    "nombre_sain          1911\n",
    "nombre_exposed        428\n",
    "nombre_recovered    16829\n",
    "Name: 499, dtype: int64"
   ]
  },
  {
   "cell_type": "markdown",
   "id": "88892002",
   "metadata": {},
   "source": [
    "nombre_infected       814\n",
    "nombre_sain          1935\n",
    "nombre_exposed        438\n",
    "nombre_recovered    16813\n",
    "Name: 500, dtype: int64"
   ]
  },
  {
   "cell_type": "markdown",
   "id": "810292f5",
   "metadata": {},
   "source": [
    "nombre_infected       818\n",
    "nombre_sain          1953\n",
    "nombre_exposed        432\n",
    "nombre_recovered    16797\n",
    "Name: 501, dtype: int64"
   ]
  },
  {
   "cell_type": "markdown",
   "id": "71ad2fd3",
   "metadata": {},
   "source": [
    "nombre_infected       820\n",
    "nombre_sain          1976\n",
    "nombre_exposed        428\n",
    "nombre_recovered    16776\n",
    "Name: 502, dtype: int64"
   ]
  },
  {
   "cell_type": "markdown",
   "id": "b2ae4849",
   "metadata": {},
   "source": [
    "nombre_infected       807\n",
    "nombre_sain          2010\n",
    "nombre_exposed        426\n",
    "nombre_recovered    16757\n",
    "Name: 503, dtype: int64"
   ]
  },
  {
   "cell_type": "markdown",
   "id": "50500e35",
   "metadata": {},
   "source": [
    "nombre_infected       789\n",
    "nombre_sain          2026\n",
    "nombre_exposed        426\n",
    "nombre_recovered    16759\n",
    "Name: 504, dtype: int64"
   ]
  },
  {
   "cell_type": "markdown",
   "id": "8416c1aa",
   "metadata": {},
   "source": [
    "nombre_infected       778\n",
    "nombre_sain          2052\n",
    "nombre_exposed        404\n",
    "nombre_recovered    16766\n",
    "Name: 505, dtype: int64"
   ]
  },
  {
   "cell_type": "markdown",
   "id": "edbe8e03",
   "metadata": {},
   "source": [
    "nombre_infected       786\n",
    "nombre_sain          2078\n",
    "nombre_exposed        396\n",
    "nombre_recovered    16740\n",
    "Name: 506, dtype: int64"
   ]
  },
  {
   "cell_type": "markdown",
   "id": "32226dd0",
   "metadata": {},
   "source": [
    "nombre_infected       789\n",
    "nombre_sain          2082\n",
    "nombre_exposed        391\n",
    "nombre_recovered    16738\n",
    "Name: 507, dtype: int64"
   ]
  },
  {
   "cell_type": "markdown",
   "id": "b4cd1772",
   "metadata": {},
   "source": [
    "nombre_infected       788\n",
    "nombre_sain          2076\n",
    "nombre_exposed        399\n",
    "nombre_recovered    16737\n",
    "Name: 508, dtype: int64"
   ]
  },
  {
   "cell_type": "markdown",
   "id": "fba4e150",
   "metadata": {},
   "source": [
    "nombre_infected       772\n",
    "nombre_sain          2091\n",
    "nombre_exposed        401\n",
    "nombre_recovered    16736\n",
    "Name: 509, dtype: int64"
   ]
  },
  {
   "cell_type": "markdown",
   "id": "0aaa6d85",
   "metadata": {},
   "source": [
    "nombre_infected       758\n",
    "nombre_sain          2097\n",
    "nombre_exposed        404\n",
    "nombre_recovered    16741\n",
    "Name: 510, dtype: int64"
   ]
  },
  {
   "cell_type": "markdown",
   "id": "f27b3d47",
   "metadata": {},
   "source": [
    "nombre_infected       777\n",
    "nombre_sain          2091\n",
    "nombre_exposed        385\n",
    "nombre_recovered    16747\n",
    "Name: 511, dtype: int64"
   ]
  },
  {
   "cell_type": "markdown",
   "id": "b89c4665",
   "metadata": {},
   "source": [
    "nombre_infected       741\n",
    "nombre_sain          2080\n",
    "nombre_exposed        420\n",
    "nombre_recovered    16759\n",
    "Name: 512, dtype: int64"
   ]
  },
  {
   "cell_type": "markdown",
   "id": "411bd2d0",
   "metadata": {},
   "source": [
    "nombre_infected       718\n",
    "nombre_sain          2101\n",
    "nombre_exposed        428\n",
    "nombre_recovered    16753\n",
    "Name: 513, dtype: int64"
   ]
  },
  {
   "cell_type": "markdown",
   "id": "e4a4916a",
   "metadata": {},
   "source": [
    "nombre_infected       722\n",
    "nombre_sain          2120\n",
    "nombre_exposed        402\n",
    "nombre_recovered    16756\n",
    "Name: 514, dtype: int64"
   ]
  },
  {
   "cell_type": "markdown",
   "id": "4296378e",
   "metadata": {},
   "source": [
    "nombre_infected       749\n",
    "nombre_sain          2127\n",
    "nombre_exposed        366\n",
    "nombre_recovered    16758\n",
    "Name: 515, dtype: int64"
   ]
  },
  {
   "cell_type": "markdown",
   "id": "b6ed3411",
   "metadata": {},
   "source": [
    "nombre_infected       748\n",
    "nombre_sain          2138\n",
    "nombre_exposed        357\n",
    "nombre_recovered    16757\n",
    "Name: 516, dtype: int64"
   ]
  },
  {
   "cell_type": "markdown",
   "id": "8e507f80",
   "metadata": {},
   "source": [
    "nombre_infected       734\n",
    "nombre_sain          2150\n",
    "nombre_exposed        367\n",
    "nombre_recovered    16749\n",
    "Name: 517, dtype: int64"
   ]
  },
  {
   "cell_type": "markdown",
   "id": "dd0819b0",
   "metadata": {},
   "source": [
    "nombre_infected       714\n",
    "nombre_sain          2159\n",
    "nombre_exposed        397\n",
    "nombre_recovered    16730\n",
    "Name: 518, dtype: int64"
   ]
  },
  {
   "cell_type": "markdown",
   "id": "a0538ada",
   "metadata": {},
   "source": [
    "nombre_infected       694\n",
    "nombre_sain          2174\n",
    "nombre_exposed        411\n",
    "nombre_recovered    16721\n",
    "Name: 519, dtype: int64"
   ]
  },
  {
   "cell_type": "markdown",
   "id": "243d12a7",
   "metadata": {},
   "source": [
    "nombre_infected       701\n",
    "nombre_sain          2182\n",
    "nombre_exposed        413\n",
    "nombre_recovered    16704\n",
    "Name: 520, dtype: int64"
   ]
  },
  {
   "cell_type": "markdown",
   "id": "92b6f1ca",
   "metadata": {},
   "source": [
    "nombre_infected       705\n",
    "nombre_sain          2170\n",
    "nombre_exposed        430\n",
    "nombre_recovered    16695\n",
    "Name: 521, dtype: int64"
   ]
  },
  {
   "cell_type": "markdown",
   "id": "59dc27e3",
   "metadata": {},
   "source": [
    "nombre_infected       726\n",
    "nombre_sain          2179\n",
    "nombre_exposed        406\n",
    "nombre_recovered    16689\n",
    "Name: 522, dtype: int64"
   ]
  },
  {
   "cell_type": "markdown",
   "id": "c9e63d6e",
   "metadata": {},
   "source": [
    "nombre_infected       749\n",
    "nombre_sain          2165\n",
    "nombre_exposed        393\n",
    "nombre_recovered    16693\n",
    "Name: 523, dtype: int64"
   ]
  },
  {
   "cell_type": "markdown",
   "id": "3c3dc9cd",
   "metadata": {},
   "source": [
    "nombre_infected       754\n",
    "nombre_sain          2156\n",
    "nombre_exposed        399\n",
    "nombre_recovered    16691\n",
    "Name: 524, dtype: int64"
   ]
  },
  {
   "cell_type": "markdown",
   "id": "de2715a1",
   "metadata": {},
   "source": [
    "nombre_infected       733\n",
    "nombre_sain          2169\n",
    "nombre_exposed        400\n",
    "nombre_recovered    16698\n",
    "Name: 525, dtype: int64"
   ]
  },
  {
   "cell_type": "markdown",
   "id": "7c7df867",
   "metadata": {},
   "source": [
    "nombre_infected       741\n",
    "nombre_sain          2171\n",
    "nombre_exposed        393\n",
    "nombre_recovered    16695\n",
    "Name: 526, dtype: int64"
   ]
  },
  {
   "cell_type": "markdown",
   "id": "3959e0db",
   "metadata": {},
   "source": [
    "nombre_infected       734\n",
    "nombre_sain          2151\n",
    "nombre_exposed        409\n",
    "nombre_recovered    16706\n",
    "Name: 527, dtype: int64"
   ]
  },
  {
   "cell_type": "markdown",
   "id": "6867218a",
   "metadata": {},
   "source": [
    "nombre_infected       726\n",
    "nombre_sain          2154\n",
    "nombre_exposed        405\n",
    "nombre_recovered    16715\n",
    "Name: 528, dtype: int64"
   ]
  },
  {
   "cell_type": "markdown",
   "id": "a2da322f",
   "metadata": {},
   "source": [
    "nombre_infected       741\n",
    "nombre_sain          2154\n",
    "nombre_exposed        395\n",
    "nombre_recovered    16710\n",
    "Name: 529, dtype: int64"
   ]
  },
  {
   "cell_type": "markdown",
   "id": "d4b0818e",
   "metadata": {},
   "source": [
    "nombre_infected       735\n",
    "nombre_sain          2166\n",
    "nombre_exposed        392\n",
    "nombre_recovered    16707\n",
    "Name: 530, dtype: int64"
   ]
  },
  {
   "cell_type": "markdown",
   "id": "7bcf30cb",
   "metadata": {},
   "source": [
    "nombre_infected       723\n",
    "nombre_sain          2177\n",
    "nombre_exposed        383\n",
    "nombre_recovered    16717\n",
    "Name: 531, dtype: int64"
   ]
  },
  {
   "cell_type": "markdown",
   "id": "93993410",
   "metadata": {},
   "source": [
    "nombre_infected       731\n",
    "nombre_sain          2196\n",
    "nombre_exposed        384\n",
    "nombre_recovered    16689\n",
    "Name: 532, dtype: int64"
   ]
  },
  {
   "cell_type": "markdown",
   "id": "79c42875",
   "metadata": {},
   "source": [
    "nombre_infected       732\n",
    "nombre_sain          2217\n",
    "nombre_exposed        394\n",
    "nombre_recovered    16657\n",
    "Name: 533, dtype: int64"
   ]
  },
  {
   "cell_type": "markdown",
   "id": "937e0e06",
   "metadata": {},
   "source": [
    "nombre_infected       721\n",
    "nombre_sain          2236\n",
    "nombre_exposed        410\n",
    "nombre_recovered    16633\n",
    "Name: 534, dtype: int64"
   ]
  },
  {
   "cell_type": "markdown",
   "id": "365ada0d",
   "metadata": {},
   "source": [
    "nombre_infected       727\n",
    "nombre_sain          2232\n",
    "nombre_exposed        422\n",
    "nombre_recovered    16619\n",
    "Name: 535, dtype: int64"
   ]
  },
  {
   "cell_type": "markdown",
   "id": "ac0cbb07",
   "metadata": {},
   "source": [
    "nombre_infected       731\n",
    "nombre_sain          2238\n",
    "nombre_exposed        414\n",
    "nombre_recovered    16617\n",
    "Name: 536, dtype: int64"
   ]
  },
  {
   "cell_type": "markdown",
   "id": "05c0c470",
   "metadata": {},
   "source": [
    "nombre_infected       737\n",
    "nombre_sain          2257\n",
    "nombre_exposed        406\n",
    "nombre_recovered    16600\n",
    "Name: 537, dtype: int64"
   ]
  },
  {
   "cell_type": "markdown",
   "id": "56c60ba8",
   "metadata": {},
   "source": [
    "nombre_infected       764\n",
    "nombre_sain          2281\n",
    "nombre_exposed        390\n",
    "nombre_recovered    16565\n",
    "Name: 538, dtype: int64"
   ]
  },
  {
   "cell_type": "markdown",
   "id": "ac4feda8",
   "metadata": {},
   "source": [
    "nombre_infected       755\n",
    "nombre_sain          2307\n",
    "nombre_exposed        379\n",
    "nombre_recovered    16559\n",
    "Name: 539, dtype: int64"
   ]
  },
  {
   "cell_type": "markdown",
   "id": "69f9c074",
   "metadata": {},
   "source": [
    "nombre_infected       751\n",
    "nombre_sain          2324\n",
    "nombre_exposed        379\n",
    "nombre_recovered    16546\n",
    "Name: 540, dtype: int64"
   ]
  },
  {
   "cell_type": "markdown",
   "id": "bd7d2e87",
   "metadata": {},
   "source": [
    "nombre_infected       745\n",
    "nombre_sain          2323\n",
    "nombre_exposed        378\n",
    "nombre_recovered    16554\n",
    "Name: 541, dtype: int64"
   ]
  },
  {
   "cell_type": "markdown",
   "id": "9eb79148",
   "metadata": {},
   "source": [
    "nombre_infected       748\n",
    "nombre_sain          2352\n",
    "nombre_exposed        378\n",
    "nombre_recovered    16522\n",
    "Name: 542, dtype: int64"
   ]
  },
  {
   "cell_type": "markdown",
   "id": "40518df7",
   "metadata": {},
   "source": [
    "nombre_infected       740\n",
    "nombre_sain          2360\n",
    "nombre_exposed        384\n",
    "nombre_recovered    16516\n",
    "Name: 543, dtype: int64"
   ]
  },
  {
   "cell_type": "markdown",
   "id": "47870d97",
   "metadata": {},
   "source": [
    "nombre_infected       763\n",
    "nombre_sain          2369\n",
    "nombre_exposed        379\n",
    "nombre_recovered    16489\n",
    "Name: 544, dtype: int64"
   ]
  },
  {
   "cell_type": "markdown",
   "id": "dfaaf8f4",
   "metadata": {},
   "source": [
    "nombre_infected       752\n",
    "nombre_sain          2341\n",
    "nombre_exposed        406\n",
    "nombre_recovered    16501\n",
    "Name: 545, dtype: int64"
   ]
  },
  {
   "cell_type": "markdown",
   "id": "5418bf67",
   "metadata": {},
   "source": [
    "nombre_infected       756\n",
    "nombre_sain          2323\n",
    "nombre_exposed        419\n",
    "nombre_recovered    16502\n",
    "Name: 546, dtype: int64"
   ]
  },
  {
   "cell_type": "markdown",
   "id": "919d91e0",
   "metadata": {},
   "source": [
    "nombre_infected       776\n",
    "nombre_sain          2322\n",
    "nombre_exposed        412\n",
    "nombre_recovered    16490\n",
    "Name: 547, dtype: int64"
   ]
  },
  {
   "cell_type": "markdown",
   "id": "862e869a",
   "metadata": {},
   "source": [
    "nombre_infected       784\n",
    "nombre_sain          2340\n",
    "nombre_exposed        404\n",
    "nombre_recovered    16472\n",
    "Name: 548, dtype: int64"
   ]
  },
  {
   "cell_type": "markdown",
   "id": "b4ca8a61",
   "metadata": {},
   "source": [
    "nombre_infected       807\n",
    "nombre_sain          2323\n",
    "nombre_exposed        413\n",
    "nombre_recovered    16457\n",
    "Name: 549, dtype: int64"
   ]
  },
  {
   "cell_type": "markdown",
   "id": "77247524",
   "metadata": {},
   "source": [
    "nombre_infected       778\n",
    "nombre_sain          2333\n",
    "nombre_exposed        425\n",
    "nombre_recovered    16464\n",
    "Name: 550, dtype: int64"
   ]
  },
  {
   "cell_type": "markdown",
   "id": "bdbf75ac",
   "metadata": {},
   "source": [
    "nombre_infected       785\n",
    "nombre_sain          2348\n",
    "nombre_exposed        421\n",
    "nombre_recovered    16446\n",
    "Name: 551, dtype: int64"
   ]
  },
  {
   "cell_type": "markdown",
   "id": "49722511",
   "metadata": {},
   "source": [
    "nombre_infected       789\n",
    "nombre_sain          2353\n",
    "nombre_exposed        445\n",
    "nombre_recovered    16413\n",
    "Name: 552, dtype: int64"
   ]
  },
  {
   "cell_type": "markdown",
   "id": "1f723ea5",
   "metadata": {},
   "source": [
    "nombre_infected       795\n",
    "nombre_sain          2324\n",
    "nombre_exposed        469\n",
    "nombre_recovered    16412\n",
    "Name: 553, dtype: int64"
   ]
  },
  {
   "cell_type": "markdown",
   "id": "a9209806",
   "metadata": {},
   "source": [
    "nombre_infected       815\n",
    "nombre_sain          2319\n",
    "nombre_exposed        469\n",
    "nombre_recovered    16397\n",
    "Name: 554, dtype: int64"
   ]
  },
  {
   "cell_type": "markdown",
   "id": "e85e6b53",
   "metadata": {},
   "source": [
    "nombre_infected       859\n",
    "nombre_sain          2296\n",
    "nombre_exposed        459\n",
    "nombre_recovered    16386\n",
    "Name: 555, dtype: int64"
   ]
  },
  {
   "cell_type": "markdown",
   "id": "2b4e9308",
   "metadata": {},
   "source": [
    "nombre_infected       873\n",
    "nombre_sain          2316\n",
    "nombre_exposed        453\n",
    "nombre_recovered    16358\n",
    "Name: 556, dtype: int64"
   ]
  },
  {
   "cell_type": "markdown",
   "id": "b470c72f",
   "metadata": {},
   "source": [
    "nombre_infected       856\n",
    "nombre_sain          2317\n",
    "nombre_exposed        446\n",
    "nombre_recovered    16381\n",
    "Name: 557, dtype: int64"
   ]
  },
  {
   "cell_type": "markdown",
   "id": "b32030e3",
   "metadata": {},
   "source": [
    "nombre_infected       860\n",
    "nombre_sain          2302\n",
    "nombre_exposed        446\n",
    "nombre_recovered    16392\n",
    "Name: 558, dtype: int64"
   ]
  },
  {
   "cell_type": "markdown",
   "id": "90e08b87",
   "metadata": {},
   "source": [
    "nombre_infected       835\n",
    "nombre_sain          2297\n",
    "nombre_exposed        443\n",
    "nombre_recovered    16425\n",
    "Name: 559, dtype: int64"
   ]
  },
  {
   "cell_type": "markdown",
   "id": "4c5b02dc",
   "metadata": {},
   "source": [
    "nombre_infected       838\n",
    "nombre_sain          2276\n",
    "nombre_exposed        436\n",
    "nombre_recovered    16450\n",
    "Name: 560, dtype: int64"
   ]
  },
  {
   "cell_type": "markdown",
   "id": "ce482e45",
   "metadata": {},
   "source": [
    "nombre_infected       832\n",
    "nombre_sain          2239\n",
    "nombre_exposed        448\n",
    "nombre_recovered    16481\n",
    "Name: 561, dtype: int64"
   ]
  },
  {
   "cell_type": "markdown",
   "id": "1b8cecd3",
   "metadata": {},
   "source": [
    "nombre_infected       822\n",
    "nombre_sain          2213\n",
    "nombre_exposed        454\n",
    "nombre_recovered    16511\n",
    "Name: 562, dtype: int64"
   ]
  },
  {
   "cell_type": "markdown",
   "id": "e987da13",
   "metadata": {},
   "source": [
    "nombre_infected       841\n",
    "nombre_sain          2177\n",
    "nombre_exposed        453\n",
    "nombre_recovered    16529\n",
    "Name: 563, dtype: int64"
   ]
  },
  {
   "cell_type": "markdown",
   "id": "b6b5b43f",
   "metadata": {},
   "source": [
    "nombre_infected       831\n",
    "nombre_sain          2170\n",
    "nombre_exposed        448\n",
    "nombre_recovered    16551\n",
    "Name: 564, dtype: int64"
   ]
  },
  {
   "cell_type": "markdown",
   "id": "85b45300",
   "metadata": {},
   "source": [
    "nombre_infected       831\n",
    "nombre_sain          2161\n",
    "nombre_exposed        442\n",
    "nombre_recovered    16566\n",
    "Name: 565, dtype: int64"
   ]
  },
  {
   "cell_type": "markdown",
   "id": "b16ef04b",
   "metadata": {},
   "source": [
    "nombre_infected       848\n",
    "nombre_sain          2155\n",
    "nombre_exposed        439\n",
    "nombre_recovered    16558\n",
    "Name: 566, dtype: int64"
   ]
  },
  {
   "cell_type": "markdown",
   "id": "6d3394a1",
   "metadata": {},
   "source": [
    "nombre_infected       849\n",
    "nombre_sain          2146\n",
    "nombre_exposed        437\n",
    "nombre_recovered    16568\n",
    "Name: 567, dtype: int64"
   ]
  },
  {
   "cell_type": "markdown",
   "id": "b833f1dc",
   "metadata": {},
   "source": [
    "nombre_infected       833\n",
    "nombre_sain          2130\n",
    "nombre_exposed        445\n",
    "nombre_recovered    16592\n",
    "Name: 568, dtype: int64"
   ]
  },
  {
   "cell_type": "markdown",
   "id": "04cf54fe",
   "metadata": {},
   "source": [
    "nombre_infected       848\n",
    "nombre_sain          2106\n",
    "nombre_exposed        452\n",
    "nombre_recovered    16594\n",
    "Name: 569, dtype: int64"
   ]
  },
  {
   "cell_type": "markdown",
   "id": "c8d59618",
   "metadata": {},
   "source": [
    "nombre_infected       877\n",
    "nombre_sain          2069\n",
    "nombre_exposed        444\n",
    "nombre_recovered    16610\n",
    "Name: 570, dtype: int64"
   ]
  },
  {
   "cell_type": "markdown",
   "id": "e1f02557",
   "metadata": {},
   "source": [
    "nombre_infected       885\n",
    "nombre_sain          2062\n",
    "nombre_exposed        434\n",
    "nombre_recovered    16619\n",
    "Name: 571, dtype: int64"
   ]
  },
  {
   "cell_type": "markdown",
   "id": "dd803cdb",
   "metadata": {},
   "source": [
    "nombre_infected       859\n",
    "nombre_sain          2025\n",
    "nombre_exposed        461\n",
    "nombre_recovered    16655\n",
    "Name: 572, dtype: int64"
   ]
  },
  {
   "cell_type": "markdown",
   "id": "9baf0f71",
   "metadata": {},
   "source": [
    "nombre_infected       876\n",
    "nombre_sain          2029\n",
    "nombre_exposed        439\n",
    "nombre_recovered    16656\n",
    "Name: 573, dtype: int64"
   ]
  },
  {
   "cell_type": "markdown",
   "id": "594619eb",
   "metadata": {},
   "source": [
    "nombre_infected       892\n",
    "nombre_sain          2017\n",
    "nombre_exposed        442\n",
    "nombre_recovered    16649\n",
    "Name: 574, dtype: int64"
   ]
  },
  {
   "cell_type": "markdown",
   "id": "f9429808",
   "metadata": {},
   "source": [
    "nombre_infected       892\n",
    "nombre_sain          2011\n",
    "nombre_exposed        434\n",
    "nombre_recovered    16663\n",
    "Name: 575, dtype: int64"
   ]
  },
  {
   "cell_type": "markdown",
   "id": "0a97875a",
   "metadata": {},
   "source": [
    "nombre_infected       876\n",
    "nombre_sain          2008\n",
    "nombre_exposed        436\n",
    "nombre_recovered    16680\n",
    "Name: 576, dtype: int64"
   ]
  },
  {
   "cell_type": "markdown",
   "id": "570a8dc0",
   "metadata": {},
   "source": [
    "nombre_infected       858\n",
    "nombre_sain          2019\n",
    "nombre_exposed        429\n",
    "nombre_recovered    16694\n",
    "Name: 577, dtype: int64"
   ]
  },
  {
   "cell_type": "markdown",
   "id": "dfca1e8d",
   "metadata": {},
   "source": [
    "nombre_infected       854\n",
    "nombre_sain          2017\n",
    "nombre_exposed        429\n",
    "nombre_recovered    16700\n",
    "Name: 578, dtype: int64"
   ]
  },
  {
   "cell_type": "markdown",
   "id": "308d3143",
   "metadata": {},
   "source": [
    "nombre_infected       839\n",
    "nombre_sain          2030\n",
    "nombre_exposed        438\n",
    "nombre_recovered    16693\n",
    "Name: 579, dtype: int64"
   ]
  },
  {
   "cell_type": "markdown",
   "id": "0f5faa61",
   "metadata": {},
   "source": [
    "nombre_infected       828\n",
    "nombre_sain          2071\n",
    "nombre_exposed        425\n",
    "nombre_recovered    16676\n",
    "Name: 580, dtype: int64"
   ]
  },
  {
   "cell_type": "markdown",
   "id": "2a2b4708",
   "metadata": {},
   "source": [
    "nombre_infected       841\n",
    "nombre_sain          2077\n",
    "nombre_exposed        412\n",
    "nombre_recovered    16670\n",
    "Name: 581, dtype: int64"
   ]
  },
  {
   "cell_type": "markdown",
   "id": "1671d14d",
   "metadata": {},
   "source": [
    "nombre_infected       830\n",
    "nombre_sain          2081\n",
    "nombre_exposed        434\n",
    "nombre_recovered    16655\n",
    "Name: 582, dtype: int64"
   ]
  },
  {
   "cell_type": "markdown",
   "id": "e17c3c22",
   "metadata": {},
   "source": [
    "nombre_infected       844\n",
    "nombre_sain          2068\n",
    "nombre_exposed        444\n",
    "nombre_recovered    16644\n",
    "Name: 583, dtype: int64"
   ]
  },
  {
   "cell_type": "markdown",
   "id": "41c97600",
   "metadata": {},
   "source": [
    "nombre_infected       851\n",
    "nombre_sain          2066\n",
    "nombre_exposed        451\n",
    "nombre_recovered    16632\n",
    "Name: 584, dtype: int64"
   ]
  },
  {
   "cell_type": "markdown",
   "id": "68d21996",
   "metadata": {},
   "source": [
    "nombre_infected       847\n",
    "nombre_sain          2065\n",
    "nombre_exposed        452\n",
    "nombre_recovered    16636\n",
    "Name: 585, dtype: int64"
   ]
  },
  {
   "cell_type": "markdown",
   "id": "09e1ce98",
   "metadata": {},
   "source": [
    "nombre_infected       829\n",
    "nombre_sain          2084\n",
    "nombre_exposed        447\n",
    "nombre_recovered    16640\n",
    "Name: 586, dtype: int64"
   ]
  },
  {
   "cell_type": "markdown",
   "id": "242ee5e7",
   "metadata": {},
   "source": [
    "nombre_infected       830\n",
    "nombre_sain          2076\n",
    "nombre_exposed        462\n",
    "nombre_recovered    16632\n",
    "Name: 587, dtype: int64"
   ]
  },
  {
   "cell_type": "markdown",
   "id": "02e6d27e",
   "metadata": {},
   "source": [
    "nombre_infected       811\n",
    "nombre_sain          2088\n",
    "nombre_exposed        455\n",
    "nombre_recovered    16646\n",
    "Name: 588, dtype: int64"
   ]
  },
  {
   "cell_type": "markdown",
   "id": "15ea4c4c",
   "metadata": {},
   "source": [
    "nombre_infected       793\n",
    "nombre_sain          2084\n",
    "nombre_exposed        466\n",
    "nombre_recovered    16657\n",
    "Name: 589, dtype: int64"
   ]
  },
  {
   "cell_type": "markdown",
   "id": "c6418789",
   "metadata": {},
   "source": [
    "nombre_infected       811\n",
    "nombre_sain          2095\n",
    "nombre_exposed        471\n",
    "nombre_recovered    16623\n",
    "Name: 590, dtype: int64"
   ]
  },
  {
   "cell_type": "markdown",
   "id": "1c993a4b",
   "metadata": {},
   "source": [
    "nombre_infected       819\n",
    "nombre_sain          2077\n",
    "nombre_exposed        470\n",
    "nombre_recovered    16634\n",
    "Name: 591, dtype: int64"
   ]
  },
  {
   "cell_type": "markdown",
   "id": "e70f6fc6",
   "metadata": {},
   "source": [
    "nombre_infected       793\n",
    "nombre_sain          2135\n",
    "nombre_exposed        463\n",
    "nombre_recovered    16609\n",
    "Name: 592, dtype: int64"
   ]
  },
  {
   "cell_type": "markdown",
   "id": "7fa9c002",
   "metadata": {},
   "source": [
    "nombre_infected       813\n",
    "nombre_sain          2162\n",
    "nombre_exposed        454\n",
    "nombre_recovered    16571\n",
    "Name: 593, dtype: int64"
   ]
  },
  {
   "cell_type": "markdown",
   "id": "f672fc62",
   "metadata": {},
   "source": [
    "nombre_infected       826\n",
    "nombre_sain          2176\n",
    "nombre_exposed        446\n",
    "nombre_recovered    16552\n",
    "Name: 594, dtype: int64"
   ]
  },
  {
   "cell_type": "markdown",
   "id": "06008bbc",
   "metadata": {},
   "source": [
    "nombre_infected       826\n",
    "nombre_sain          2199\n",
    "nombre_exposed        426\n",
    "nombre_recovered    16549\n",
    "Name: 595, dtype: int64"
   ]
  },
  {
   "cell_type": "markdown",
   "id": "fc072e8b",
   "metadata": {},
   "source": [
    "nombre_infected       802\n",
    "nombre_sain          2210\n",
    "nombre_exposed        455\n",
    "nombre_recovered    16533\n",
    "Name: 596, dtype: int64"
   ]
  },
  {
   "cell_type": "markdown",
   "id": "09406c95",
   "metadata": {},
   "source": [
    "nombre_infected       802\n",
    "nombre_sain          2203\n",
    "nombre_exposed        460\n",
    "nombre_recovered    16535\n",
    "Name: 597, dtype: int64"
   ]
  },
  {
   "cell_type": "markdown",
   "id": "b82bd7a9",
   "metadata": {},
   "source": [
    "nombre_infected       813\n",
    "nombre_sain          2185\n",
    "nombre_exposed        467\n",
    "nombre_recovered    16535\n",
    "Name: 598, dtype: int64"
   ]
  },
  {
   "cell_type": "markdown",
   "id": "8dbb3544",
   "metadata": {},
   "source": [
    "nombre_infected       820\n",
    "nombre_sain          2178\n",
    "nombre_exposed        463\n",
    "nombre_recovered    16539\n",
    "Name: 599, dtype: int64"
   ]
  },
  {
   "cell_type": "markdown",
   "id": "1b19989f",
   "metadata": {},
   "source": [
    "nombre_infected       815\n",
    "nombre_sain          2219\n",
    "nombre_exposed        449\n",
    "nombre_recovered    16517\n",
    "Name: 600, dtype: int64"
   ]
  },
  {
   "cell_type": "markdown",
   "id": "d38268c1",
   "metadata": {},
   "source": [
    "nombre_infected       821\n",
    "nombre_sain          2218\n",
    "nombre_exposed        464\n",
    "nombre_recovered    16497\n",
    "Name: 601, dtype: int64"
   ]
  },
  {
   "cell_type": "markdown",
   "id": "94e2031e",
   "metadata": {},
   "source": [
    "nombre_infected       819\n",
    "nombre_sain          2200\n",
    "nombre_exposed        499\n",
    "nombre_recovered    16482\n",
    "Name: 602, dtype: int64"
   ]
  },
  {
   "cell_type": "markdown",
   "id": "d917a4d1",
   "metadata": {},
   "source": [
    "nombre_infected       816\n",
    "nombre_sain          2218\n",
    "nombre_exposed        491\n",
    "nombre_recovered    16475\n",
    "Name: 603, dtype: int64"
   ]
  },
  {
   "cell_type": "markdown",
   "id": "d89a7d2a",
   "metadata": {},
   "source": [
    "nombre_infected       821\n",
    "nombre_sain          2227\n",
    "nombre_exposed        500\n",
    "nombre_recovered    16452\n",
    "Name: 604, dtype: int64"
   ]
  },
  {
   "cell_type": "markdown",
   "id": "c283a685",
   "metadata": {},
   "source": [
    "nombre_infected       832\n",
    "nombre_sain          2237\n",
    "nombre_exposed        485\n",
    "nombre_recovered    16446\n",
    "Name: 605, dtype: int64"
   ]
  },
  {
   "cell_type": "markdown",
   "id": "09039043",
   "metadata": {},
   "source": [
    "nombre_infected       831\n",
    "nombre_sain          2250\n",
    "nombre_exposed        512\n",
    "nombre_recovered    16407\n",
    "Name: 606, dtype: int64"
   ]
  },
  {
   "cell_type": "markdown",
   "id": "b151f320",
   "metadata": {},
   "source": [
    "nombre_infected       857\n",
    "nombre_sain          2261\n",
    "nombre_exposed        507\n",
    "nombre_recovered    16375\n",
    "Name: 607, dtype: int64"
   ]
  },
  {
   "cell_type": "markdown",
   "id": "43cfaf7a",
   "metadata": {},
   "source": [
    "nombre_infected       883\n",
    "nombre_sain          2256\n",
    "nombre_exposed        490\n",
    "nombre_recovered    16371\n",
    "Name: 608, dtype: int64"
   ]
  },
  {
   "cell_type": "markdown",
   "id": "a27a7d9b",
   "metadata": {},
   "source": [
    "nombre_infected       895\n",
    "nombre_sain          2294\n",
    "nombre_exposed        490\n",
    "nombre_recovered    16321\n",
    "Name: 609, dtype: int64"
   ]
  },
  {
   "cell_type": "markdown",
   "id": "521cb825",
   "metadata": {},
   "source": [
    "nombre_infected       911\n",
    "nombre_sain          2302\n",
    "nombre_exposed        510\n",
    "nombre_recovered    16277\n",
    "Name: 610, dtype: int64"
   ]
  },
  {
   "cell_type": "markdown",
   "id": "49a34f7d",
   "metadata": {},
   "source": [
    "nombre_infected       887\n",
    "nombre_sain          2302\n",
    "nombre_exposed        551\n",
    "nombre_recovered    16260\n",
    "Name: 611, dtype: int64"
   ]
  },
  {
   "cell_type": "markdown",
   "id": "e693b92d",
   "metadata": {},
   "source": [
    "nombre_infected       889\n",
    "nombre_sain          2310\n",
    "nombre_exposed        544\n",
    "nombre_recovered    16257\n",
    "Name: 612, dtype: int64"
   ]
  },
  {
   "cell_type": "markdown",
   "id": "47851387",
   "metadata": {},
   "source": [
    "nombre_infected       894\n",
    "nombre_sain          2329\n",
    "nombre_exposed        523\n",
    "nombre_recovered    16254\n",
    "Name: 613, dtype: int64"
   ]
  },
  {
   "cell_type": "markdown",
   "id": "d2f80ed6",
   "metadata": {},
   "source": [
    "nombre_infected       921\n",
    "nombre_sain          2315\n",
    "nombre_exposed        523\n",
    "nombre_recovered    16241\n",
    "Name: 614, dtype: int64"
   ]
  },
  {
   "cell_type": "markdown",
   "id": "68c144f7",
   "metadata": {},
   "source": [
    "nombre_infected       906\n",
    "nombre_sain          2271\n",
    "nombre_exposed        554\n",
    "nombre_recovered    16269\n",
    "Name: 615, dtype: int64"
   ]
  },
  {
   "cell_type": "markdown",
   "id": "9ee44ecf",
   "metadata": {},
   "source": [
    "nombre_infected       923\n",
    "nombre_sain          2278\n",
    "nombre_exposed        535\n",
    "nombre_recovered    16264\n",
    "Name: 616, dtype: int64"
   ]
  },
  {
   "cell_type": "markdown",
   "id": "91bb0af4",
   "metadata": {},
   "source": [
    "nombre_infected       948\n",
    "nombre_sain          2236\n",
    "nombre_exposed        537\n",
    "nombre_recovered    16279\n",
    "Name: 617, dtype: int64"
   ]
  },
  {
   "cell_type": "markdown",
   "id": "cbdca564",
   "metadata": {},
   "source": [
    "nombre_infected       950\n",
    "nombre_sain          2212\n",
    "nombre_exposed        556\n",
    "nombre_recovered    16282\n",
    "Name: 618, dtype: int64"
   ]
  },
  {
   "cell_type": "markdown",
   "id": "252ea139",
   "metadata": {},
   "source": [
    "nombre_infected       970\n",
    "nombre_sain          2187\n",
    "nombre_exposed        544\n",
    "nombre_recovered    16299\n",
    "Name: 619, dtype: int64"
   ]
  },
  {
   "cell_type": "markdown",
   "id": "17bb8559",
   "metadata": {},
   "source": [
    "nombre_infected       961\n",
    "nombre_sain          2160\n",
    "nombre_exposed        558\n",
    "nombre_recovered    16321\n",
    "Name: 620, dtype: int64"
   ]
  },
  {
   "cell_type": "markdown",
   "id": "6b976ea6",
   "metadata": {},
   "source": [
    "nombre_infected       947\n",
    "nombre_sain          2149\n",
    "nombre_exposed        557\n",
    "nombre_recovered    16347\n",
    "Name: 621, dtype: int64"
   ]
  },
  {
   "cell_type": "markdown",
   "id": "355de102",
   "metadata": {},
   "source": [
    "nombre_infected       943\n",
    "nombre_sain          2156\n",
    "nombre_exposed        554\n",
    "nombre_recovered    16347\n",
    "Name: 622, dtype: int64"
   ]
  },
  {
   "cell_type": "markdown",
   "id": "79218501",
   "metadata": {},
   "source": [
    "nombre_infected       953\n",
    "nombre_sain          2125\n",
    "nombre_exposed        558\n",
    "nombre_recovered    16364\n",
    "Name: 623, dtype: int64"
   ]
  },
  {
   "cell_type": "markdown",
   "id": "4a39583a",
   "metadata": {},
   "source": [
    "nombre_infected       952\n",
    "nombre_sain          2130\n",
    "nombre_exposed        558\n",
    "nombre_recovered    16360\n",
    "Name: 624, dtype: int64"
   ]
  },
  {
   "cell_type": "markdown",
   "id": "9579188d",
   "metadata": {},
   "source": [
    "nombre_infected       958\n",
    "nombre_sain          2128\n",
    "nombre_exposed        546\n",
    "nombre_recovered    16368\n",
    "Name: 625, dtype: int64"
   ]
  },
  {
   "cell_type": "markdown",
   "id": "07e338e0",
   "metadata": {},
   "source": [
    "nombre_infected       943\n",
    "nombre_sain          2102\n",
    "nombre_exposed        540\n",
    "nombre_recovered    16415\n",
    "Name: 626, dtype: int64"
   ]
  },
  {
   "cell_type": "markdown",
   "id": "e95781ee",
   "metadata": {},
   "source": [
    "nombre_infected       959\n",
    "nombre_sain          2105\n",
    "nombre_exposed        528\n",
    "nombre_recovered    16408\n",
    "Name: 627, dtype: int64"
   ]
  },
  {
   "cell_type": "markdown",
   "id": "66f71c67",
   "metadata": {},
   "source": [
    "nombre_infected       947\n",
    "nombre_sain          2113\n",
    "nombre_exposed        524\n",
    "nombre_recovered    16416\n",
    "Name: 628, dtype: int64"
   ]
  },
  {
   "cell_type": "markdown",
   "id": "85dfbc62",
   "metadata": {},
   "source": [
    "nombre_infected       943\n",
    "nombre_sain          2097\n",
    "nombre_exposed        548\n",
    "nombre_recovered    16412\n",
    "Name: 629, dtype: int64"
   ]
  },
  {
   "cell_type": "markdown",
   "id": "e493de13",
   "metadata": {},
   "source": [
    "nombre_infected       969\n",
    "nombre_sain          2078\n",
    "nombre_exposed        531\n",
    "nombre_recovered    16422\n",
    "Name: 630, dtype: int64"
   ]
  },
  {
   "cell_type": "markdown",
   "id": "ff7b7e21",
   "metadata": {},
   "source": [
    "nombre_infected       975\n",
    "nombre_sain          2070\n",
    "nombre_exposed        524\n",
    "nombre_recovered    16431\n",
    "Name: 631, dtype: int64"
   ]
  },
  {
   "cell_type": "markdown",
   "id": "50ad47f0",
   "metadata": {},
   "source": [
    "nombre_infected       960\n",
    "nombre_sain          2059\n",
    "nombre_exposed        536\n",
    "nombre_recovered    16445\n",
    "Name: 632, dtype: int64"
   ]
  },
  {
   "cell_type": "markdown",
   "id": "74b9370c",
   "metadata": {},
   "source": [
    "nombre_infected       945\n",
    "nombre_sain          2041\n",
    "nombre_exposed        540\n",
    "nombre_recovered    16474\n",
    "Name: 633, dtype: int64"
   ]
  },
  {
   "cell_type": "markdown",
   "id": "65de37f3",
   "metadata": {},
   "source": [
    "nombre_infected       933\n",
    "nombre_sain          2056\n",
    "nombre_exposed        536\n",
    "nombre_recovered    16475\n",
    "Name: 634, dtype: int64"
   ]
  },
  {
   "cell_type": "markdown",
   "id": "a1ee3202",
   "metadata": {},
   "source": [
    "nombre_infected       938\n",
    "nombre_sain          2081\n",
    "nombre_exposed        509\n",
    "nombre_recovered    16472\n",
    "Name: 635, dtype: int64"
   ]
  },
  {
   "cell_type": "markdown",
   "id": "9c856e50",
   "metadata": {},
   "source": [
    "nombre_infected       937\n",
    "nombre_sain          2080\n",
    "nombre_exposed        505\n",
    "nombre_recovered    16478\n",
    "Name: 636, dtype: int64"
   ]
  },
  {
   "cell_type": "markdown",
   "id": "89de068f",
   "metadata": {},
   "source": [
    "nombre_infected       924\n",
    "nombre_sain          2124\n",
    "nombre_exposed        491\n",
    "nombre_recovered    16461\n",
    "Name: 637, dtype: int64"
   ]
  },
  {
   "cell_type": "markdown",
   "id": "257e5e16",
   "metadata": {},
   "source": [
    "nombre_infected       934\n",
    "nombre_sain          2166\n",
    "nombre_exposed        468\n",
    "nombre_recovered    16432\n",
    "Name: 638, dtype: int64"
   ]
  },
  {
   "cell_type": "markdown",
   "id": "abe55594",
   "metadata": {},
   "source": [
    "nombre_infected       914\n",
    "nombre_sain          2186\n",
    "nombre_exposed        476\n",
    "nombre_recovered    16424\n",
    "Name: 639, dtype: int64"
   ]
  },
  {
   "cell_type": "markdown",
   "id": "d046cbef",
   "metadata": {},
   "source": [
    "nombre_infected       907\n",
    "nombre_sain          2196\n",
    "nombre_exposed        489\n",
    "nombre_recovered    16408\n",
    "Name: 640, dtype: int64"
   ]
  },
  {
   "cell_type": "markdown",
   "id": "0bc8652e",
   "metadata": {},
   "source": [
    "nombre_infected       920\n",
    "nombre_sain          2226\n",
    "nombre_exposed        499\n",
    "nombre_recovered    16355\n",
    "Name: 641, dtype: int64"
   ]
  },
  {
   "cell_type": "markdown",
   "id": "1982f6bc",
   "metadata": {},
   "source": [
    "nombre_infected       927\n",
    "nombre_sain          2223\n",
    "nombre_exposed        517\n",
    "nombre_recovered    16333\n",
    "Name: 642, dtype: int64"
   ]
  },
  {
   "cell_type": "markdown",
   "id": "87e1050d",
   "metadata": {},
   "source": [
    "nombre_infected       942\n",
    "nombre_sain          2251\n",
    "nombre_exposed        506\n",
    "nombre_recovered    16301\n",
    "Name: 643, dtype: int64"
   ]
  },
  {
   "cell_type": "markdown",
   "id": "500833de",
   "metadata": {},
   "source": [
    "nombre_infected       960\n",
    "nombre_sain          2267\n",
    "nombre_exposed        499\n",
    "nombre_recovered    16274\n",
    "Name: 644, dtype: int64"
   ]
  },
  {
   "cell_type": "markdown",
   "id": "68aa8a4f",
   "metadata": {},
   "source": [
    "nombre_infected       965\n",
    "nombre_sain          2277\n",
    "nombre_exposed        515\n",
    "nombre_recovered    16243\n",
    "Name: 645, dtype: int64"
   ]
  },
  {
   "cell_type": "markdown",
   "id": "c18c5e19",
   "metadata": {},
   "source": [
    "nombre_infected       933\n",
    "nombre_sain          2252\n",
    "nombre_exposed        544\n",
    "nombre_recovered    16271\n",
    "Name: 646, dtype: int64"
   ]
  },
  {
   "cell_type": "markdown",
   "id": "690fb633",
   "metadata": {},
   "source": [
    "nombre_infected       948\n",
    "nombre_sain          2285\n",
    "nombre_exposed        529\n",
    "nombre_recovered    16238\n",
    "Name: 647, dtype: int64"
   ]
  },
  {
   "cell_type": "markdown",
   "id": "31db45bb",
   "metadata": {},
   "source": [
    "nombre_infected       974\n",
    "nombre_sain          2300\n",
    "nombre_exposed        517\n",
    "nombre_recovered    16209\n",
    "Name: 648, dtype: int64"
   ]
  },
  {
   "cell_type": "markdown",
   "id": "b43be5d9",
   "metadata": {},
   "source": [
    "nombre_infected       967\n",
    "nombre_sain          2308\n",
    "nombre_exposed        538\n",
    "nombre_recovered    16187\n",
    "Name: 649, dtype: int64"
   ]
  },
  {
   "cell_type": "markdown",
   "id": "a715485d",
   "metadata": {},
   "source": [
    "nombre_infected       981\n",
    "nombre_sain          2318\n",
    "nombre_exposed        538\n",
    "nombre_recovered    16163\n",
    "Name: 650, dtype: int64"
   ]
  },
  {
   "cell_type": "markdown",
   "id": "7f2153b3",
   "metadata": {},
   "source": [
    "nombre_infected      1003\n",
    "nombre_sain          2335\n",
    "nombre_exposed        520\n",
    "nombre_recovered    16142\n",
    "Name: 651, dtype: int64"
   ]
  },
  {
   "cell_type": "markdown",
   "id": "6f7116af",
   "metadata": {},
   "source": [
    "nombre_infected      1003\n",
    "nombre_sain          2341\n",
    "nombre_exposed        539\n",
    "nombre_recovered    16117\n",
    "Name: 652, dtype: int64"
   ]
  },
  {
   "cell_type": "markdown",
   "id": "bec5c3ac",
   "metadata": {},
   "source": [
    "nombre_infected       988\n",
    "nombre_sain          2355\n",
    "nombre_exposed        554\n",
    "nombre_recovered    16103\n",
    "Name: 653, dtype: int64"
   ]
  },
  {
   "cell_type": "markdown",
   "id": "117ef3a8",
   "metadata": {},
   "source": [
    "nombre_infected       983\n",
    "nombre_sain          2333\n",
    "nombre_exposed        585\n",
    "nombre_recovered    16099\n",
    "Name: 654, dtype: int64"
   ]
  },
  {
   "cell_type": "markdown",
   "id": "636b4d48",
   "metadata": {},
   "source": [
    "nombre_infected       992\n",
    "nombre_sain          2325\n",
    "nombre_exposed        595\n",
    "nombre_recovered    16088\n",
    "Name: 655, dtype: int64"
   ]
  },
  {
   "cell_type": "markdown",
   "id": "ed0f4ea1",
   "metadata": {},
   "source": [
    "nombre_infected      1028\n",
    "nombre_sain          2341\n",
    "nombre_exposed        571\n",
    "nombre_recovered    16060\n",
    "Name: 656, dtype: int64"
   ]
  },
  {
   "cell_type": "markdown",
   "id": "970d4ce9",
   "metadata": {},
   "source": [
    "nombre_infected      1061\n",
    "nombre_sain          2338\n",
    "nombre_exposed        559\n",
    "nombre_recovered    16042\n",
    "Name: 657, dtype: int64"
   ]
  },
  {
   "cell_type": "markdown",
   "id": "2fca4311",
   "metadata": {},
   "source": [
    "nombre_infected      1058\n",
    "nombre_sain          2305\n",
    "nombre_exposed        582\n",
    "nombre_recovered    16055\n",
    "Name: 658, dtype: int64"
   ]
  },
  {
   "cell_type": "markdown",
   "id": "b1466b96",
   "metadata": {},
   "source": [
    "nombre_infected      1080\n",
    "nombre_sain          2272\n",
    "nombre_exposed        578\n",
    "nombre_recovered    16070\n",
    "Name: 659, dtype: int64"
   ]
  },
  {
   "cell_type": "markdown",
   "id": "adaaac82",
   "metadata": {},
   "source": [
    "nombre_infected      1083\n",
    "nombre_sain          2230\n",
    "nombre_exposed        585\n",
    "nombre_recovered    16102\n",
    "Name: 660, dtype: int64"
   ]
  },
  {
   "cell_type": "markdown",
   "id": "5d1c29ee",
   "metadata": {},
   "source": [
    "nombre_infected      1087\n",
    "nombre_sain          2195\n",
    "nombre_exposed        585\n",
    "nombre_recovered    16133\n",
    "Name: 661, dtype: int64"
   ]
  },
  {
   "cell_type": "markdown",
   "id": "f69bdb69",
   "metadata": {},
   "source": [
    "nombre_infected      1090\n",
    "nombre_sain          2161\n",
    "nombre_exposed        596\n",
    "nombre_recovered    16153\n",
    "Name: 662, dtype: int64"
   ]
  },
  {
   "cell_type": "markdown",
   "id": "ebda87d5",
   "metadata": {},
   "source": [
    "nombre_infected      1101\n",
    "nombre_sain          2132\n",
    "nombre_exposed        593\n",
    "nombre_recovered    16174\n",
    "Name: 663, dtype: int64"
   ]
  },
  {
   "cell_type": "markdown",
   "id": "c2828e5e",
   "metadata": {},
   "source": [
    "nombre_infected      1086\n",
    "nombre_sain          2109\n",
    "nombre_exposed        607\n",
    "nombre_recovered    16198\n",
    "Name: 664, dtype: int64"
   ]
  },
  {
   "cell_type": "markdown",
   "id": "5bc9b54b",
   "metadata": {},
   "source": [
    "nombre_infected      1123\n",
    "nombre_sain          2111\n",
    "nombre_exposed        586\n",
    "nombre_recovered    16180\n",
    "Name: 665, dtype: int64"
   ]
  },
  {
   "cell_type": "markdown",
   "id": "3ce148d5",
   "metadata": {},
   "source": [
    "nombre_infected      1113\n",
    "nombre_sain          2082\n",
    "nombre_exposed        579\n",
    "nombre_recovered    16226\n",
    "Name: 666, dtype: int64"
   ]
  },
  {
   "cell_type": "markdown",
   "id": "efbc0fe9",
   "metadata": {},
   "source": [
    "nombre_infected      1135\n",
    "nombre_sain          2063\n",
    "nombre_exposed        564\n",
    "nombre_recovered    16238\n",
    "Name: 667, dtype: int64"
   ]
  },
  {
   "cell_type": "markdown",
   "id": "bbd295be",
   "metadata": {},
   "source": [
    "nombre_infected      1148\n",
    "nombre_sain          2067\n",
    "nombre_exposed        552\n",
    "nombre_recovered    16233\n",
    "Name: 668, dtype: int64"
   ]
  },
  {
   "cell_type": "markdown",
   "id": "b711cd7f",
   "metadata": {},
   "source": [
    "nombre_infected      1169\n",
    "nombre_sain          2068\n",
    "nombre_exposed        555\n",
    "nombre_recovered    16208\n",
    "Name: 669, dtype: int64"
   ]
  },
  {
   "cell_type": "markdown",
   "id": "2c0f253b",
   "metadata": {},
   "source": [
    "nombre_infected      1131\n",
    "nombre_sain          2068\n",
    "nombre_exposed        576\n",
    "nombre_recovered    16225\n",
    "Name: 670, dtype: int64"
   ]
  },
  {
   "cell_type": "markdown",
   "id": "5e1ee980",
   "metadata": {},
   "source": [
    "nombre_infected      1132\n",
    "nombre_sain          2075\n",
    "nombre_exposed        570\n",
    "nombre_recovered    16223\n",
    "Name: 671, dtype: int64"
   ]
  },
  {
   "cell_type": "markdown",
   "id": "1a456b39",
   "metadata": {},
   "source": [
    "nombre_infected      1132\n",
    "nombre_sain          2061\n",
    "nombre_exposed        581\n",
    "nombre_recovered    16226\n",
    "Name: 672, dtype: int64"
   ]
  },
  {
   "cell_type": "markdown",
   "id": "594bb255",
   "metadata": {},
   "source": [
    "nombre_infected      1153\n",
    "nombre_sain          2051\n",
    "nombre_exposed        580\n",
    "nombre_recovered    16216\n",
    "Name: 673, dtype: int64"
   ]
  },
  {
   "cell_type": "markdown",
   "id": "ade158c3",
   "metadata": {},
   "source": [
    "nombre_infected      1173\n",
    "nombre_sain          2073\n",
    "nombre_exposed        538\n",
    "nombre_recovered    16216\n",
    "Name: 674, dtype: int64"
   ]
  },
  {
   "cell_type": "markdown",
   "id": "005a4b59",
   "metadata": {},
   "source": [
    "nombre_infected      1154\n",
    "nombre_sain          2090\n",
    "nombre_exposed        534\n",
    "nombre_recovered    16222\n",
    "Name: 675, dtype: int64"
   ]
  },
  {
   "cell_type": "markdown",
   "id": "e3ae8eb3",
   "metadata": {},
   "source": [
    "nombre_infected      1154\n",
    "nombre_sain          2092\n",
    "nombre_exposed        531\n",
    "nombre_recovered    16223\n",
    "Name: 676, dtype: int64"
   ]
  },
  {
   "cell_type": "markdown",
   "id": "cfd37e3f",
   "metadata": {},
   "source": [
    "nombre_infected      1145\n",
    "nombre_sain          2103\n",
    "nombre_exposed        536\n",
    "nombre_recovered    16216\n",
    "Name: 677, dtype: int64"
   ]
  },
  {
   "cell_type": "markdown",
   "id": "9a8469bb",
   "metadata": {},
   "source": [
    "nombre_infected      1121\n",
    "nombre_sain          2080\n",
    "nombre_exposed        569\n",
    "nombre_recovered    16230\n",
    "Name: 678, dtype: int64"
   ]
  },
  {
   "cell_type": "markdown",
   "id": "cffdf22f",
   "metadata": {},
   "source": [
    "nombre_infected      1119\n",
    "nombre_sain          2073\n",
    "nombre_exposed        589\n",
    "nombre_recovered    16219\n",
    "Name: 679, dtype: int64"
   ]
  },
  {
   "cell_type": "markdown",
   "id": "792e3970",
   "metadata": {},
   "source": [
    "nombre_infected      1130\n",
    "nombre_sain          2074\n",
    "nombre_exposed        595\n",
    "nombre_recovered    16201\n",
    "Name: 680, dtype: int64"
   ]
  },
  {
   "cell_type": "markdown",
   "id": "d9d85415",
   "metadata": {},
   "source": [
    "nombre_infected      1128\n",
    "nombre_sain          2089\n",
    "nombre_exposed        581\n",
    "nombre_recovered    16202\n",
    "Name: 681, dtype: int64"
   ]
  },
  {
   "cell_type": "markdown",
   "id": "f8f3427a",
   "metadata": {},
   "source": [
    "nombre_infected      1136\n",
    "nombre_sain          2105\n",
    "nombre_exposed        591\n",
    "nombre_recovered    16168\n",
    "Name: 682, dtype: int64"
   ]
  },
  {
   "cell_type": "markdown",
   "id": "b01fe971",
   "metadata": {},
   "source": [
    "nombre_infected      1140\n",
    "nombre_sain          2090\n",
    "nombre_exposed        594\n",
    "nombre_recovered    16176\n",
    "Name: 683, dtype: int64"
   ]
  },
  {
   "cell_type": "markdown",
   "id": "036304ea",
   "metadata": {},
   "source": [
    "nombre_infected      1135\n",
    "nombre_sain          2062\n",
    "nombre_exposed        610\n",
    "nombre_recovered    16193\n",
    "Name: 684, dtype: int64"
   ]
  },
  {
   "cell_type": "markdown",
   "id": "ff0748c7",
   "metadata": {},
   "source": [
    "nombre_infected      1156\n",
    "nombre_sain          2065\n",
    "nombre_exposed        607\n",
    "nombre_recovered    16172\n",
    "Name: 685, dtype: int64"
   ]
  },
  {
   "cell_type": "markdown",
   "id": "6b180f19",
   "metadata": {},
   "source": [
    "nombre_infected      1145\n",
    "nombre_sain          2036\n",
    "nombre_exposed        620\n",
    "nombre_recovered    16199\n",
    "Name: 686, dtype: int64"
   ]
  },
  {
   "cell_type": "markdown",
   "id": "59c22ff7",
   "metadata": {},
   "source": [
    "nombre_infected      1155\n",
    "nombre_sain          2019\n",
    "nombre_exposed        633\n",
    "nombre_recovered    16193\n",
    "Name: 687, dtype: int64"
   ]
  },
  {
   "cell_type": "markdown",
   "id": "ada1ec28",
   "metadata": {},
   "source": [
    "nombre_infected      1130\n",
    "nombre_sain          2030\n",
    "nombre_exposed        634\n",
    "nombre_recovered    16206\n",
    "Name: 688, dtype: int64"
   ]
  },
  {
   "cell_type": "markdown",
   "id": "5be82ef5",
   "metadata": {},
   "source": [
    "nombre_infected      1124\n",
    "nombre_sain          2026\n",
    "nombre_exposed        627\n",
    "nombre_recovered    16223\n",
    "Name: 689, dtype: int64"
   ]
  },
  {
   "cell_type": "markdown",
   "id": "7fddeff7",
   "metadata": {},
   "source": [
    "nombre_infected      1129\n",
    "nombre_sain          1989\n",
    "nombre_exposed        643\n",
    "nombre_recovered    16239\n",
    "Name: 690, dtype: int64"
   ]
  },
  {
   "cell_type": "markdown",
   "id": "505a0bd0",
   "metadata": {},
   "source": [
    "nombre_infected      1136\n",
    "nombre_sain          1951\n",
    "nombre_exposed        649\n",
    "nombre_recovered    16264\n",
    "Name: 691, dtype: int64"
   ]
  },
  {
   "cell_type": "markdown",
   "id": "c2d280d5",
   "metadata": {},
   "source": [
    "nombre_infected      1143\n",
    "nombre_sain          1945\n",
    "nombre_exposed        645\n",
    "nombre_recovered    16267\n",
    "Name: 692, dtype: int64"
   ]
  },
  {
   "cell_type": "markdown",
   "id": "157354c9",
   "metadata": {},
   "source": [
    "nombre_infected      1157\n",
    "nombre_sain          1912\n",
    "nombre_exposed        632\n",
    "nombre_recovered    16299\n",
    "Name: 693, dtype: int64"
   ]
  },
  {
   "cell_type": "markdown",
   "id": "efac940d",
   "metadata": {},
   "source": [
    "nombre_infected      1135\n",
    "nombre_sain          1911\n",
    "nombre_exposed        638\n",
    "nombre_recovered    16316\n",
    "Name: 694, dtype: int64"
   ]
  },
  {
   "cell_type": "markdown",
   "id": "f0575591",
   "metadata": {},
   "source": [
    "nombre_infected      1134\n",
    "nombre_sain          1888\n",
    "nombre_exposed        614\n",
    "nombre_recovered    16364\n",
    "Name: 695, dtype: int64"
   ]
  },
  {
   "cell_type": "markdown",
   "id": "76fc4b1c",
   "metadata": {},
   "source": [
    "nombre_infected      1102\n",
    "nombre_sain          1884\n",
    "nombre_exposed        597\n",
    "nombre_recovered    16417\n",
    "Name: 696, dtype: int64"
   ]
  },
  {
   "cell_type": "markdown",
   "id": "e72444e0",
   "metadata": {},
   "source": [
    "nombre_infected      1099\n",
    "nombre_sain          1882\n",
    "nombre_exposed        585\n",
    "nombre_recovered    16434\n",
    "Name: 697, dtype: int64"
   ]
  },
  {
   "cell_type": "markdown",
   "id": "5f0f8a95",
   "metadata": {},
   "source": [
    "nombre_infected      1070\n",
    "nombre_sain          1876\n",
    "nombre_exposed        579\n",
    "nombre_recovered    16475\n",
    "Name: 698, dtype: int64"
   ]
  },
  {
   "cell_type": "markdown",
   "id": "5e568476",
   "metadata": {},
   "source": [
    "nombre_infected      1058\n",
    "nombre_sain          1875\n",
    "nombre_exposed        568\n",
    "nombre_recovered    16499\n",
    "Name: 699, dtype: int64"
   ]
  },
  {
   "cell_type": "markdown",
   "id": "08109b02",
   "metadata": {},
   "source": [
    "nombre_infected      1058\n",
    "nombre_sain          1863\n",
    "nombre_exposed        563\n",
    "nombre_recovered    16516\n",
    "Name: 700, dtype: int64"
   ]
  },
  {
   "cell_type": "markdown",
   "id": "cbe388d6",
   "metadata": {},
   "source": [
    "nombre_infected      1040\n",
    "nombre_sain          1857\n",
    "nombre_exposed        578\n",
    "nombre_recovered    16525\n",
    "Name: 701, dtype: int64"
   ]
  },
  {
   "cell_type": "markdown",
   "id": "3fd1e64f",
   "metadata": {},
   "source": [
    "nombre_infected      1027\n",
    "nombre_sain          1856\n",
    "nombre_exposed        564\n",
    "nombre_recovered    16553\n",
    "Name: 702, dtype: int64"
   ]
  },
  {
   "cell_type": "markdown",
   "id": "b66a26e3",
   "metadata": {},
   "source": [
    "nombre_infected      1025\n",
    "nombre_sain          1877\n",
    "nombre_exposed        518\n",
    "nombre_recovered    16580\n",
    "Name: 703, dtype: int64"
   ]
  },
  {
   "cell_type": "markdown",
   "id": "d2f21d38",
   "metadata": {},
   "source": [
    "nombre_infected       998\n",
    "nombre_sain          1877\n",
    "nombre_exposed        528\n",
    "nombre_recovered    16597\n",
    "Name: 704, dtype: int64"
   ]
  },
  {
   "cell_type": "markdown",
   "id": "1c40a175",
   "metadata": {},
   "source": [
    "nombre_infected       967\n",
    "nombre_sain          1868\n",
    "nombre_exposed        545\n",
    "nombre_recovered    16620\n",
    "Name: 705, dtype: int64"
   ]
  },
  {
   "cell_type": "markdown",
   "id": "25df61f9",
   "metadata": {},
   "source": [
    "nombre_infected       950\n",
    "nombre_sain          1871\n",
    "nombre_exposed        544\n",
    "nombre_recovered    16635\n",
    "Name: 706, dtype: int64"
   ]
  },
  {
   "cell_type": "markdown",
   "id": "be1af6bb",
   "metadata": {},
   "source": [
    "nombre_infected       951\n",
    "nombre_sain          1852\n",
    "nombre_exposed        532\n",
    "nombre_recovered    16665\n",
    "Name: 707, dtype: int64"
   ]
  },
  {
   "cell_type": "markdown",
   "id": "1ecf28c1",
   "metadata": {},
   "source": [
    "nombre_infected       938\n",
    "nombre_sain          1862\n",
    "nombre_exposed        522\n",
    "nombre_recovered    16678\n",
    "Name: 708, dtype: int64"
   ]
  },
  {
   "cell_type": "markdown",
   "id": "52b854b9",
   "metadata": {},
   "source": [
    "nombre_infected       913\n",
    "nombre_sain          1875\n",
    "nombre_exposed        500\n",
    "nombre_recovered    16712\n",
    "Name: 709, dtype: int64"
   ]
  },
  {
   "cell_type": "markdown",
   "id": "2f7a5fed",
   "metadata": {},
   "source": [
    "nombre_infected       934\n",
    "nombre_sain          1886\n",
    "nombre_exposed        479\n",
    "nombre_recovered    16701\n",
    "Name: 710, dtype: int64"
   ]
  },
  {
   "cell_type": "markdown",
   "id": "ca9503e4",
   "metadata": {},
   "source": [
    "nombre_infected       949\n",
    "nombre_sain          1866\n",
    "nombre_exposed        480\n",
    "nombre_recovered    16705\n",
    "Name: 711, dtype: int64"
   ]
  },
  {
   "cell_type": "markdown",
   "id": "597b811a",
   "metadata": {},
   "source": [
    "nombre_infected       946\n",
    "nombre_sain          1852\n",
    "nombre_exposed        491\n",
    "nombre_recovered    16711\n",
    "Name: 712, dtype: int64"
   ]
  },
  {
   "cell_type": "markdown",
   "id": "5fd08285",
   "metadata": {},
   "source": [
    "nombre_infected       929\n",
    "nombre_sain          1881\n",
    "nombre_exposed        456\n",
    "nombre_recovered    16734\n",
    "Name: 713, dtype: int64"
   ]
  },
  {
   "cell_type": "markdown",
   "id": "a3afcec7",
   "metadata": {},
   "source": [
    "nombre_infected       927\n",
    "nombre_sain          1878\n",
    "nombre_exposed        443\n",
    "nombre_recovered    16752\n",
    "Name: 714, dtype: int64"
   ]
  },
  {
   "cell_type": "markdown",
   "id": "6fe1c7fd",
   "metadata": {},
   "source": [
    "nombre_infected       914\n",
    "nombre_sain          1880\n",
    "nombre_exposed        441\n",
    "nombre_recovered    16765\n",
    "Name: 715, dtype: int64"
   ]
  },
  {
   "cell_type": "markdown",
   "id": "12e6716d",
   "metadata": {},
   "source": [
    "nombre_infected       887\n",
    "nombre_sain          1878\n",
    "nombre_exposed        448\n",
    "nombre_recovered    16787\n",
    "Name: 716, dtype: int64"
   ]
  },
  {
   "cell_type": "markdown",
   "id": "eb4143bf",
   "metadata": {},
   "source": [
    "nombre_infected       882\n",
    "nombre_sain          1897\n",
    "nombre_exposed        433\n",
    "nombre_recovered    16788\n",
    "Name: 717, dtype: int64"
   ]
  },
  {
   "cell_type": "markdown",
   "id": "7af8159f",
   "metadata": {},
   "source": [
    "nombre_infected       856\n",
    "nombre_sain          1888\n",
    "nombre_exposed        447\n",
    "nombre_recovered    16809\n",
    "Name: 718, dtype: int64"
   ]
  },
  {
   "cell_type": "markdown",
   "id": "2bacb4f1",
   "metadata": {},
   "source": [
    "nombre_infected       843\n",
    "nombre_sain          1890\n",
    "nombre_exposed        448\n",
    "nombre_recovered    16819\n",
    "Name: 719, dtype: int64"
   ]
  },
  {
   "cell_type": "markdown",
   "id": "593a382e",
   "metadata": {},
   "source": [
    "nombre_infected       827\n",
    "nombre_sain          1905\n",
    "nombre_exposed        442\n",
    "nombre_recovered    16826\n",
    "Name: 720, dtype: int64"
   ]
  },
  {
   "cell_type": "markdown",
   "id": "723728d3",
   "metadata": {},
   "source": [
    "nombre_infected       844\n",
    "nombre_sain          1893\n",
    "nombre_exposed        425\n",
    "nombre_recovered    16838\n",
    "Name: 721, dtype: int64"
   ]
  },
  {
   "cell_type": "markdown",
   "id": "cd744206",
   "metadata": {},
   "source": [
    "nombre_infected       829\n",
    "nombre_sain          1905\n",
    "nombre_exposed        427\n",
    "nombre_recovered    16839\n",
    "Name: 722, dtype: int64"
   ]
  },
  {
   "cell_type": "markdown",
   "id": "501cfe9e",
   "metadata": {},
   "source": [
    "nombre_infected       814\n",
    "nombre_sain          1931\n",
    "nombre_exposed        416\n",
    "nombre_recovered    16839\n",
    "Name: 723, dtype: int64"
   ]
  },
  {
   "cell_type": "markdown",
   "id": "c5ebcbf5",
   "metadata": {},
   "source": [
    "nombre_infected       788\n",
    "nombre_sain          1959\n",
    "nombre_exposed        413\n",
    "nombre_recovered    16840\n",
    "Name: 724, dtype: int64"
   ]
  },
  {
   "cell_type": "markdown",
   "id": "1a739120",
   "metadata": {},
   "source": [
    "nombre_infected       777\n",
    "nombre_sain          1980\n",
    "nombre_exposed        412\n",
    "nombre_recovered    16831\n",
    "Name: 725, dtype: int64"
   ]
  },
  {
   "cell_type": "markdown",
   "id": "ca926c82",
   "metadata": {},
   "source": [
    "nombre_infected       744\n",
    "nombre_sain          2006\n",
    "nombre_exposed        417\n",
    "nombre_recovered    16833\n",
    "Name: 726, dtype: int64"
   ]
  },
  {
   "cell_type": "markdown",
   "id": "b0f15e8f",
   "metadata": {},
   "source": [
    "nombre_infected       733\n",
    "nombre_sain          2020\n",
    "nombre_exposed        428\n",
    "nombre_recovered    16819\n",
    "Name: 727, dtype: int64"
   ]
  },
  {
   "cell_type": "markdown",
   "id": "9309975a",
   "metadata": {},
   "source": [
    "nombre_infected       756\n",
    "nombre_sain          2020\n",
    "nombre_exposed        424\n",
    "nombre_recovered    16800\n",
    "Name: 728, dtype: int64"
   ]
  },
  {
   "cell_type": "markdown",
   "id": "19ecf93d",
   "metadata": {},
   "source": [
    "nombre_infected       758\n",
    "nombre_sain          2028\n",
    "nombre_exposed        420\n",
    "nombre_recovered    16794\n",
    "Name: 729, dtype: int64"
   ]
  },
  {
   "cell_type": "markdown",
   "id": "15455639",
   "metadata": {},
   "source": [
    "nombre_infected       744\n",
    "nombre_sain          2018\n",
    "nombre_exposed        424\n",
    "nombre_recovered    16814\n",
    "Name: 730, dtype: int64"
   ]
  }
 ],
 "metadata": {},
 "nbformat": 4,
 "nbformat_minor": 5
}
