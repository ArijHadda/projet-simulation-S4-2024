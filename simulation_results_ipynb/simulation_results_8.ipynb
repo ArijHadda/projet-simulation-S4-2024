{
 "cells": [
  {
   "cell_type": "markdown",
   "id": "2461011d",
   "metadata": {},
   "source": [
    "nombre_infected        20\n",
    "nombre_sain         19980\n",
    "nombre_exposed          0\n",
    "nombre_recovered        0\n",
    "Name: 0, dtype: int64"
   ]
  },
  {
   "cell_type": "markdown",
   "id": "252966c2",
   "metadata": {},
   "source": [
    "nombre_infected        20\n",
    "nombre_sain         19965\n",
    "nombre_exposed         15\n",
    "nombre_recovered        0\n",
    "Name: 1, dtype: int64"
   ]
  },
  {
   "cell_type": "markdown",
   "id": "5a40b75d",
   "metadata": {},
   "source": [
    "nombre_infected        20\n",
    "nombre_sain         19940\n",
    "nombre_exposed         40\n",
    "nombre_recovered        0\n",
    "Name: 2, dtype: int64"
   ]
  },
  {
   "cell_type": "markdown",
   "id": "c1e66e75",
   "metadata": {},
   "source": [
    "nombre_infected        24\n",
    "nombre_sain         19917\n",
    "nombre_exposed         59\n",
    "nombre_recovered        0\n",
    "Name: 3, dtype: int64"
   ]
  },
  {
   "cell_type": "markdown",
   "id": "1d378229",
   "metadata": {},
   "source": [
    "nombre_infected        38\n",
    "nombre_sain         19882\n",
    "nombre_exposed         80\n",
    "nombre_recovered        0\n",
    "Name: 4, dtype: int64"
   ]
  },
  {
   "cell_type": "markdown",
   "id": "8bee87dd",
   "metadata": {},
   "source": [
    "nombre_infected        49\n",
    "nombre_sain         19842\n",
    "nombre_exposed        109\n",
    "nombre_recovered        0\n",
    "Name: 5, dtype: int64"
   ]
  },
  {
   "cell_type": "markdown",
   "id": "31dba86d",
   "metadata": {},
   "source": [
    "nombre_infected        71\n",
    "nombre_sain         19760\n",
    "nombre_exposed        167\n",
    "nombre_recovered        2\n",
    "Name: 6, dtype: int64"
   ]
  },
  {
   "cell_type": "markdown",
   "id": "cbc043da",
   "metadata": {},
   "source": [
    "nombre_infected        91\n",
    "nombre_sain         19651\n",
    "nombre_exposed        253\n",
    "nombre_recovered        5\n",
    "Name: 7, dtype: int64"
   ]
  },
  {
   "cell_type": "markdown",
   "id": "5fb31c08",
   "metadata": {},
   "source": [
    "nombre_infected       127\n",
    "nombre_sain         19517\n",
    "nombre_exposed        347\n",
    "nombre_recovered        9\n",
    "Name: 8, dtype: int64"
   ]
  },
  {
   "cell_type": "markdown",
   "id": "813cb1d4",
   "metadata": {},
   "source": [
    "nombre_infected       162\n",
    "nombre_sain         19327\n",
    "nombre_exposed        471\n",
    "nombre_recovered       40\n",
    "Name: 9, dtype: int64"
   ]
  },
  {
   "cell_type": "markdown",
   "id": "3ff50dd3",
   "metadata": {},
   "source": [
    "nombre_infected       223\n",
    "nombre_sain         19085\n",
    "nombre_exposed        640\n",
    "nombre_recovered       52\n",
    "Name: 10, dtype: int64"
   ]
  },
  {
   "cell_type": "markdown",
   "id": "d2ac4985",
   "metadata": {},
   "source": [
    "nombre_infected       317\n",
    "nombre_sain         18784\n",
    "nombre_exposed        830\n",
    "nombre_recovered       69\n",
    "Name: 11, dtype: int64"
   ]
  },
  {
   "cell_type": "markdown",
   "id": "7a28d4cf",
   "metadata": {},
   "source": [
    "nombre_infected       439\n",
    "nombre_sain         18326\n",
    "nombre_exposed       1136\n",
    "nombre_recovered       99\n",
    "Name: 12, dtype: int64"
   ]
  },
  {
   "cell_type": "markdown",
   "id": "c0ac784c",
   "metadata": {},
   "source": [
    "nombre_infected       587\n",
    "nombre_sain         17767\n",
    "nombre_exposed       1512\n",
    "nombre_recovered      134\n",
    "Name: 13, dtype: int64"
   ]
  },
  {
   "cell_type": "markdown",
   "id": "e2099c79",
   "metadata": {},
   "source": [
    "nombre_infected       786\n",
    "nombre_sain         17109\n",
    "nombre_exposed       1908\n",
    "nombre_recovered      197\n",
    "Name: 14, dtype: int64"
   ]
  },
  {
   "cell_type": "markdown",
   "id": "8c64dd4f",
   "metadata": {},
   "source": [
    "nombre_infected      1048\n",
    "nombre_sain         16215\n",
    "nombre_exposed       2462\n",
    "nombre_recovered      275\n",
    "Name: 15, dtype: int64"
   ]
  },
  {
   "cell_type": "markdown",
   "id": "cd4f30a8",
   "metadata": {},
   "source": [
    "nombre_infected      1381\n",
    "nombre_sain         15050\n",
    "nombre_exposed       3204\n",
    "nombre_recovered      365\n",
    "Name: 16, dtype: int64"
   ]
  },
  {
   "cell_type": "markdown",
   "id": "6e1ee1f6",
   "metadata": {},
   "source": [
    "nombre_infected      1817\n",
    "nombre_sain         13677\n",
    "nombre_exposed       4002\n",
    "nombre_recovered      504\n",
    "Name: 17, dtype: int64"
   ]
  },
  {
   "cell_type": "markdown",
   "id": "6080ad3c",
   "metadata": {},
   "source": [
    "nombre_infected      2393\n",
    "nombre_sain         12110\n",
    "nombre_exposed       4828\n",
    "nombre_recovered      669\n",
    "Name: 18, dtype: int64"
   ]
  },
  {
   "cell_type": "markdown",
   "id": "a041987b",
   "metadata": {},
   "source": [
    "nombre_infected      3105\n",
    "nombre_sain         10390\n",
    "nombre_exposed       5633\n",
    "nombre_recovered      872\n",
    "Name: 19, dtype: int64"
   ]
  },
  {
   "cell_type": "markdown",
   "id": "3e343513",
   "metadata": {},
   "source": [
    "nombre_infected     3885\n",
    "nombre_sain         8581\n",
    "nombre_exposed      6368\n",
    "nombre_recovered    1166\n",
    "Name: 20, dtype: int64"
   ]
  },
  {
   "cell_type": "markdown",
   "id": "b036b6f7",
   "metadata": {},
   "source": [
    "nombre_infected     4782\n",
    "nombre_sain         6838\n",
    "nombre_exposed      6848\n",
    "nombre_recovered    1532\n",
    "Name: 21, dtype: int64"
   ]
  },
  {
   "cell_type": "markdown",
   "id": "95231640",
   "metadata": {},
   "source": [
    "nombre_infected     5792\n",
    "nombre_sain         5209\n",
    "nombre_exposed      7013\n",
    "nombre_recovered    1986\n",
    "Name: 22, dtype: int64"
   ]
  },
  {
   "cell_type": "markdown",
   "id": "6041686d",
   "metadata": {},
   "source": [
    "nombre_infected     6775\n",
    "nombre_sain         3829\n",
    "nombre_exposed      6870\n",
    "nombre_recovered    2526\n",
    "Name: 23, dtype: int64"
   ]
  },
  {
   "cell_type": "markdown",
   "id": "0ea1de66",
   "metadata": {},
   "source": [
    "nombre_infected     7611\n",
    "nombre_sain         2747\n",
    "nombre_exposed      6395\n",
    "nombre_recovered    3247\n",
    "Name: 24, dtype: int64"
   ]
  },
  {
   "cell_type": "markdown",
   "id": "673bbfbb",
   "metadata": {},
   "source": [
    "nombre_infected     8330\n",
    "nombre_sain         1887\n",
    "nombre_exposed      5709\n",
    "nombre_recovered    4074\n",
    "Name: 25, dtype: int64"
   ]
  },
  {
   "cell_type": "markdown",
   "id": "d1f1f537",
   "metadata": {},
   "source": [
    "nombre_infected     8864\n",
    "nombre_sain         1266\n",
    "nombre_exposed      4933\n",
    "nombre_recovered    4937\n",
    "Name: 26, dtype: int64"
   ]
  },
  {
   "cell_type": "markdown",
   "id": "eb9ac1e6",
   "metadata": {},
   "source": [
    "nombre_infected     9118\n",
    "nombre_sain          836\n",
    "nombre_exposed      4129\n",
    "nombre_recovered    5917\n",
    "Name: 27, dtype: int64"
   ]
  },
  {
   "cell_type": "markdown",
   "id": "6381a49f",
   "metadata": {},
   "source": [
    "nombre_infected     9094\n",
    "nombre_sain          556\n",
    "nombre_exposed      3364\n",
    "nombre_recovered    6986\n",
    "Name: 28, dtype: int64"
   ]
  },
  {
   "cell_type": "markdown",
   "id": "16cabc55",
   "metadata": {},
   "source": [
    "nombre_infected     8955\n",
    "nombre_sain          387\n",
    "nombre_exposed      2645\n",
    "nombre_recovered    8013\n",
    "Name: 29, dtype: int64"
   ]
  },
  {
   "cell_type": "markdown",
   "id": "631e1589",
   "metadata": {},
   "source": [
    "nombre_infected     8619\n",
    "nombre_sain          258\n",
    "nombre_exposed      2077\n",
    "nombre_recovered    9046\n",
    "Name: 30, dtype: int64"
   ]
  },
  {
   "cell_type": "markdown",
   "id": "c1d292f6",
   "metadata": {},
   "source": [
    "nombre_infected      8083\n",
    "nombre_sain           204\n",
    "nombre_exposed       1606\n",
    "nombre_recovered    10107\n",
    "Name: 31, dtype: int64"
   ]
  },
  {
   "cell_type": "markdown",
   "id": "8362de9a",
   "metadata": {},
   "source": [
    "nombre_infected      7441\n",
    "nombre_sain           163\n",
    "nombre_exposed       1258\n",
    "nombre_recovered    11138\n",
    "Name: 32, dtype: int64"
   ]
  },
  {
   "cell_type": "markdown",
   "id": "46182969",
   "metadata": {},
   "source": [
    "nombre_infected      6858\n",
    "nombre_sain           137\n",
    "nombre_exposed        956\n",
    "nombre_recovered    12049\n",
    "Name: 33, dtype: int64"
   ]
  },
  {
   "cell_type": "markdown",
   "id": "9f54034e",
   "metadata": {},
   "source": [
    "nombre_infected      6307\n",
    "nombre_sain           120\n",
    "nombre_exposed        720\n",
    "nombre_recovered    12853\n",
    "Name: 34, dtype: int64"
   ]
  },
  {
   "cell_type": "markdown",
   "id": "b50fa710",
   "metadata": {},
   "source": [
    "nombre_infected      5750\n",
    "nombre_sain           109\n",
    "nombre_exposed        559\n",
    "nombre_recovered    13582\n",
    "Name: 35, dtype: int64"
   ]
  },
  {
   "cell_type": "markdown",
   "id": "49594147",
   "metadata": {},
   "source": [
    "nombre_infected      5161\n",
    "nombre_sain           108\n",
    "nombre_exposed        423\n",
    "nombre_recovered    14308\n",
    "Name: 36, dtype: int64"
   ]
  },
  {
   "cell_type": "markdown",
   "id": "9fb09780",
   "metadata": {},
   "source": [
    "nombre_infected      4636\n",
    "nombre_sain           114\n",
    "nombre_exposed        325\n",
    "nombre_recovered    14925\n",
    "Name: 37, dtype: int64"
   ]
  },
  {
   "cell_type": "markdown",
   "id": "bfc08f66",
   "metadata": {},
   "source": [
    "nombre_infected      4182\n",
    "nombre_sain           121\n",
    "nombre_exposed        262\n",
    "nombre_recovered    15435\n",
    "Name: 38, dtype: int64"
   ]
  },
  {
   "cell_type": "markdown",
   "id": "b588e722",
   "metadata": {},
   "source": [
    "nombre_infected      3764\n",
    "nombre_sain           134\n",
    "nombre_exposed        204\n",
    "nombre_recovered    15898\n",
    "Name: 39, dtype: int64"
   ]
  },
  {
   "cell_type": "markdown",
   "id": "273611f5",
   "metadata": {},
   "source": [
    "nombre_infected      3353\n",
    "nombre_sain           132\n",
    "nombre_exposed        174\n",
    "nombre_recovered    16341\n",
    "Name: 40, dtype: int64"
   ]
  },
  {
   "cell_type": "markdown",
   "id": "8e6f785e",
   "metadata": {},
   "source": [
    "nombre_infected      2987\n",
    "nombre_sain           138\n",
    "nombre_exposed        142\n",
    "nombre_recovered    16733\n",
    "Name: 41, dtype: int64"
   ]
  },
  {
   "cell_type": "markdown",
   "id": "f77c7f21",
   "metadata": {},
   "source": [
    "nombre_infected      2657\n",
    "nombre_sain           160\n",
    "nombre_exposed        122\n",
    "nombre_recovered    17061\n",
    "Name: 42, dtype: int64"
   ]
  },
  {
   "cell_type": "markdown",
   "id": "94098b27",
   "metadata": {},
   "source": [
    "nombre_infected      2332\n",
    "nombre_sain           205\n",
    "nombre_exposed         99\n",
    "nombre_recovered    17364\n",
    "Name: 43, dtype: int64"
   ]
  },
  {
   "cell_type": "markdown",
   "id": "fa0765c2",
   "metadata": {},
   "source": [
    "nombre_infected      2046\n",
    "nombre_sain           249\n",
    "nombre_exposed        102\n",
    "nombre_recovered    17603\n",
    "Name: 44, dtype: int64"
   ]
  },
  {
   "cell_type": "markdown",
   "id": "f1efc73f",
   "metadata": {},
   "source": [
    "nombre_infected      1788\n",
    "nombre_sain           281\n",
    "nombre_exposed        100\n",
    "nombre_recovered    17831\n",
    "Name: 45, dtype: int64"
   ]
  },
  {
   "cell_type": "markdown",
   "id": "1a964a13",
   "metadata": {},
   "source": [
    "nombre_infected      1575\n",
    "nombre_sain           331\n",
    "nombre_exposed         94\n",
    "nombre_recovered    18000\n",
    "Name: 46, dtype: int64"
   ]
  },
  {
   "cell_type": "markdown",
   "id": "e78480de",
   "metadata": {},
   "source": [
    "nombre_infected      1343\n",
    "nombre_sain           384\n",
    "nombre_exposed         94\n",
    "nombre_recovered    18179\n",
    "Name: 47, dtype: int64"
   ]
  },
  {
   "cell_type": "markdown",
   "id": "5cc8c2db",
   "metadata": {},
   "source": [
    "nombre_infected      1137\n",
    "nombre_sain           426\n",
    "nombre_exposed        100\n",
    "nombre_recovered    18337\n",
    "Name: 48, dtype: int64"
   ]
  },
  {
   "cell_type": "markdown",
   "id": "21df9a44",
   "metadata": {},
   "source": [
    "nombre_infected       961\n",
    "nombre_sain           466\n",
    "nombre_exposed        100\n",
    "nombre_recovered    18473\n",
    "Name: 49, dtype: int64"
   ]
  },
  {
   "cell_type": "markdown",
   "id": "1c784138",
   "metadata": {},
   "source": [
    "nombre_infected       824\n",
    "nombre_sain           506\n",
    "nombre_exposed         98\n",
    "nombre_recovered    18572\n",
    "Name: 50, dtype: int64"
   ]
  },
  {
   "cell_type": "markdown",
   "id": "1ca93c89",
   "metadata": {},
   "source": [
    "nombre_infected       701\n",
    "nombre_sain           553\n",
    "nombre_exposed         96\n",
    "nombre_recovered    18650\n",
    "Name: 51, dtype: int64"
   ]
  },
  {
   "cell_type": "markdown",
   "id": "e0bb274f",
   "metadata": {},
   "source": [
    "nombre_infected       588\n",
    "nombre_sain           599\n",
    "nombre_exposed        101\n",
    "nombre_recovered    18712\n",
    "Name: 52, dtype: int64"
   ]
  },
  {
   "cell_type": "markdown",
   "id": "2170749c",
   "metadata": {},
   "source": [
    "nombre_infected       493\n",
    "nombre_sain           635\n",
    "nombre_exposed        109\n",
    "nombre_recovered    18763\n",
    "Name: 53, dtype: int64"
   ]
  },
  {
   "cell_type": "markdown",
   "id": "3b5d3208",
   "metadata": {},
   "source": [
    "nombre_infected       435\n",
    "nombre_sain           669\n",
    "nombre_exposed         98\n",
    "nombre_recovered    18798\n",
    "Name: 54, dtype: int64"
   ]
  },
  {
   "cell_type": "markdown",
   "id": "1b269324",
   "metadata": {},
   "source": [
    "nombre_infected       388\n",
    "nombre_sain           706\n",
    "nombre_exposed         85\n",
    "nombre_recovered    18821\n",
    "Name: 55, dtype: int64"
   ]
  },
  {
   "cell_type": "markdown",
   "id": "eb5c90bf",
   "metadata": {},
   "source": [
    "nombre_infected       347\n",
    "nombre_sain           740\n",
    "nombre_exposed         79\n",
    "nombre_recovered    18834\n",
    "Name: 56, dtype: int64"
   ]
  },
  {
   "cell_type": "markdown",
   "id": "254d101d",
   "metadata": {},
   "source": [
    "nombre_infected       306\n",
    "nombre_sain           774\n",
    "nombre_exposed         71\n",
    "nombre_recovered    18849\n",
    "Name: 57, dtype: int64"
   ]
  },
  {
   "cell_type": "markdown",
   "id": "5d945d47",
   "metadata": {},
   "source": [
    "nombre_infected       280\n",
    "nombre_sain           810\n",
    "nombre_exposed         68\n",
    "nombre_recovered    18842\n",
    "Name: 58, dtype: int64"
   ]
  },
  {
   "cell_type": "markdown",
   "id": "4fd9b533",
   "metadata": {},
   "source": [
    "nombre_infected       258\n",
    "nombre_sain           833\n",
    "nombre_exposed         60\n",
    "nombre_recovered    18849\n",
    "Name: 59, dtype: int64"
   ]
  },
  {
   "cell_type": "markdown",
   "id": "eb42eb42",
   "metadata": {},
   "source": [
    "nombre_infected       235\n",
    "nombre_sain           862\n",
    "nombre_exposed         59\n",
    "nombre_recovered    18844\n",
    "Name: 60, dtype: int64"
   ]
  },
  {
   "cell_type": "markdown",
   "id": "969992b2",
   "metadata": {},
   "source": [
    "nombre_infected       206\n",
    "nombre_sain           901\n",
    "nombre_exposed         52\n",
    "nombre_recovered    18841\n",
    "Name: 61, dtype: int64"
   ]
  },
  {
   "cell_type": "markdown",
   "id": "9fef00fd",
   "metadata": {},
   "source": [
    "nombre_infected       190\n",
    "nombre_sain           956\n",
    "nombre_exposed         43\n",
    "nombre_recovered    18811\n",
    "Name: 62, dtype: int64"
   ]
  },
  {
   "cell_type": "markdown",
   "id": "fbbbda22",
   "metadata": {},
   "source": [
    "nombre_infected       175\n",
    "nombre_sain          1000\n",
    "nombre_exposed         46\n",
    "nombre_recovered    18779\n",
    "Name: 63, dtype: int64"
   ]
  },
  {
   "cell_type": "markdown",
   "id": "30bed6ae",
   "metadata": {},
   "source": [
    "nombre_infected       158\n",
    "nombre_sain          1037\n",
    "nombre_exposed         43\n",
    "nombre_recovered    18762\n",
    "Name: 64, dtype: int64"
   ]
  },
  {
   "cell_type": "markdown",
   "id": "7fe324c0",
   "metadata": {},
   "source": [
    "nombre_infected       150\n",
    "nombre_sain          1092\n",
    "nombre_exposed         36\n",
    "nombre_recovered    18722\n",
    "Name: 65, dtype: int64"
   ]
  },
  {
   "cell_type": "markdown",
   "id": "842d0a87",
   "metadata": {},
   "source": [
    "nombre_infected       138\n",
    "nombre_sain          1154\n",
    "nombre_exposed         39\n",
    "nombre_recovered    18669\n",
    "Name: 66, dtype: int64"
   ]
  },
  {
   "cell_type": "markdown",
   "id": "5e24fab1",
   "metadata": {},
   "source": [
    "nombre_infected       129\n",
    "nombre_sain          1202\n",
    "nombre_exposed         41\n",
    "nombre_recovered    18628\n",
    "Name: 67, dtype: int64"
   ]
  },
  {
   "cell_type": "markdown",
   "id": "df173111",
   "metadata": {},
   "source": [
    "nombre_infected       120\n",
    "nombre_sain          1246\n",
    "nombre_exposed         39\n",
    "nombre_recovered    18595\n",
    "Name: 68, dtype: int64"
   ]
  },
  {
   "cell_type": "markdown",
   "id": "274b2990",
   "metadata": {},
   "source": [
    "nombre_infected       117\n",
    "nombre_sain          1311\n",
    "nombre_exposed         28\n",
    "nombre_recovered    18544\n",
    "Name: 69, dtype: int64"
   ]
  },
  {
   "cell_type": "markdown",
   "id": "d221a0be",
   "metadata": {},
   "source": [
    "nombre_infected       100\n",
    "nombre_sain          1359\n",
    "nombre_exposed         34\n",
    "nombre_recovered    18507\n",
    "Name: 70, dtype: int64"
   ]
  },
  {
   "cell_type": "markdown",
   "id": "1d29aeae",
   "metadata": {},
   "source": [
    "nombre_infected        88\n",
    "nombre_sain          1405\n",
    "nombre_exposed         35\n",
    "nombre_recovered    18472\n",
    "Name: 71, dtype: int64"
   ]
  },
  {
   "cell_type": "markdown",
   "id": "611a7890",
   "metadata": {},
   "source": [
    "nombre_infected        88\n",
    "nombre_sain          1465\n",
    "nombre_exposed         31\n",
    "nombre_recovered    18416\n",
    "Name: 72, dtype: int64"
   ]
  },
  {
   "cell_type": "markdown",
   "id": "0e1cfa5b",
   "metadata": {},
   "source": [
    "nombre_infected        82\n",
    "nombre_sain          1514\n",
    "nombre_exposed         31\n",
    "nombre_recovered    18373\n",
    "Name: 73, dtype: int64"
   ]
  },
  {
   "cell_type": "markdown",
   "id": "a589b62c",
   "metadata": {},
   "source": [
    "nombre_infected        75\n",
    "nombre_sain          1581\n",
    "nombre_exposed         32\n",
    "nombre_recovered    18312\n",
    "Name: 74, dtype: int64"
   ]
  },
  {
   "cell_type": "markdown",
   "id": "5bddd3e7",
   "metadata": {},
   "source": [
    "nombre_infected        77\n",
    "nombre_sain          1640\n",
    "nombre_exposed         26\n",
    "nombre_recovered    18257\n",
    "Name: 75, dtype: int64"
   ]
  },
  {
   "cell_type": "markdown",
   "id": "c66d64ae",
   "metadata": {},
   "source": [
    "nombre_infected        68\n",
    "nombre_sain          1711\n",
    "nombre_exposed         28\n",
    "nombre_recovered    18193\n",
    "Name: 76, dtype: int64"
   ]
  },
  {
   "cell_type": "markdown",
   "id": "df0ef5b8",
   "metadata": {},
   "source": [
    "nombre_infected        59\n",
    "nombre_sain          1777\n",
    "nombre_exposed         30\n",
    "nombre_recovered    18134\n",
    "Name: 77, dtype: int64"
   ]
  },
  {
   "cell_type": "markdown",
   "id": "8c8f9c6c",
   "metadata": {},
   "source": [
    "nombre_infected        59\n",
    "nombre_sain          1836\n",
    "nombre_exposed         32\n",
    "nombre_recovered    18073\n",
    "Name: 78, dtype: int64"
   ]
  },
  {
   "cell_type": "markdown",
   "id": "147ef3cf",
   "metadata": {},
   "source": [
    "nombre_infected        59\n",
    "nombre_sain          1901\n",
    "nombre_exposed         27\n",
    "nombre_recovered    18013\n",
    "Name: 79, dtype: int64"
   ]
  },
  {
   "cell_type": "markdown",
   "id": "57feef9d",
   "metadata": {},
   "source": [
    "nombre_infected        55\n",
    "nombre_sain          1955\n",
    "nombre_exposed         30\n",
    "nombre_recovered    17960\n",
    "Name: 80, dtype: int64"
   ]
  },
  {
   "cell_type": "markdown",
   "id": "5f10b386",
   "metadata": {},
   "source": [
    "nombre_infected        59\n",
    "nombre_sain          2018\n",
    "nombre_exposed         29\n",
    "nombre_recovered    17894\n",
    "Name: 81, dtype: int64"
   ]
  },
  {
   "cell_type": "markdown",
   "id": "53fc9372",
   "metadata": {},
   "source": [
    "nombre_infected        57\n",
    "nombre_sain          2090\n",
    "nombre_exposed         32\n",
    "nombre_recovered    17821\n",
    "Name: 82, dtype: int64"
   ]
  },
  {
   "cell_type": "markdown",
   "id": "29462bc1",
   "metadata": {},
   "source": [
    "nombre_infected        52\n",
    "nombre_sain          2163\n",
    "nombre_exposed         33\n",
    "nombre_recovered    17752\n",
    "Name: 83, dtype: int64"
   ]
  },
  {
   "cell_type": "markdown",
   "id": "24cf4d3c",
   "metadata": {},
   "source": [
    "nombre_infected        54\n",
    "nombre_sain          2233\n",
    "nombre_exposed         28\n",
    "nombre_recovered    17685\n",
    "Name: 84, dtype: int64"
   ]
  },
  {
   "cell_type": "markdown",
   "id": "72ab2b19",
   "metadata": {},
   "source": [
    "nombre_infected        55\n",
    "nombre_sain          2308\n",
    "nombre_exposed         26\n",
    "nombre_recovered    17611\n",
    "Name: 85, dtype: int64"
   ]
  },
  {
   "cell_type": "markdown",
   "id": "803efe45",
   "metadata": {},
   "source": [
    "nombre_infected        54\n",
    "nombre_sain          2375\n",
    "nombre_exposed         31\n",
    "nombre_recovered    17540\n",
    "Name: 86, dtype: int64"
   ]
  },
  {
   "cell_type": "markdown",
   "id": "a89ece4e",
   "metadata": {},
   "source": [
    "nombre_infected        51\n",
    "nombre_sain          2423\n",
    "nombre_exposed         27\n",
    "nombre_recovered    17499\n",
    "Name: 87, dtype: int64"
   ]
  },
  {
   "cell_type": "markdown",
   "id": "081e588d",
   "metadata": {},
   "source": [
    "nombre_infected        50\n",
    "nombre_sain          2489\n",
    "nombre_exposed         29\n",
    "nombre_recovered    17432\n",
    "Name: 88, dtype: int64"
   ]
  },
  {
   "cell_type": "markdown",
   "id": "a9aac72a",
   "metadata": {},
   "source": [
    "nombre_infected        52\n",
    "nombre_sain          2552\n",
    "nombre_exposed         32\n",
    "nombre_recovered    17364\n",
    "Name: 89, dtype: int64"
   ]
  },
  {
   "cell_type": "markdown",
   "id": "e8c82a37",
   "metadata": {},
   "source": [
    "nombre_infected        52\n",
    "nombre_sain          2606\n",
    "nombre_exposed         32\n",
    "nombre_recovered    17310\n",
    "Name: 90, dtype: int64"
   ]
  },
  {
   "cell_type": "markdown",
   "id": "e2396835",
   "metadata": {},
   "source": [
    "nombre_infected        55\n",
    "nombre_sain          2661\n",
    "nombre_exposed         34\n",
    "nombre_recovered    17250\n",
    "Name: 91, dtype: int64"
   ]
  },
  {
   "cell_type": "markdown",
   "id": "d177b4a5",
   "metadata": {},
   "source": [
    "nombre_infected        60\n",
    "nombre_sain          2697\n",
    "nombre_exposed         32\n",
    "nombre_recovered    17211\n",
    "Name: 92, dtype: int64"
   ]
  },
  {
   "cell_type": "markdown",
   "id": "b7c2307f",
   "metadata": {},
   "source": [
    "nombre_infected        62\n",
    "nombre_sain          2730\n",
    "nombre_exposed         36\n",
    "nombre_recovered    17172\n",
    "Name: 93, dtype: int64"
   ]
  },
  {
   "cell_type": "markdown",
   "id": "25569936",
   "metadata": {},
   "source": [
    "nombre_infected        62\n",
    "nombre_sain          2790\n",
    "nombre_exposed         41\n",
    "nombre_recovered    17107\n",
    "Name: 94, dtype: int64"
   ]
  },
  {
   "cell_type": "markdown",
   "id": "2b3a0665",
   "metadata": {},
   "source": [
    "nombre_infected        61\n",
    "nombre_sain          2851\n",
    "nombre_exposed         44\n",
    "nombre_recovered    17044\n",
    "Name: 95, dtype: int64"
   ]
  },
  {
   "cell_type": "markdown",
   "id": "ba8f1caf",
   "metadata": {},
   "source": [
    "nombre_infected        64\n",
    "nombre_sain          2891\n",
    "nombre_exposed         50\n",
    "nombre_recovered    16995\n",
    "Name: 96, dtype: int64"
   ]
  },
  {
   "cell_type": "markdown",
   "id": "5e98afcb",
   "metadata": {},
   "source": [
    "nombre_infected        68\n",
    "nombre_sain          2927\n",
    "nombre_exposed         58\n",
    "nombre_recovered    16947\n",
    "Name: 97, dtype: int64"
   ]
  },
  {
   "cell_type": "markdown",
   "id": "4f28ef09",
   "metadata": {},
   "source": [
    "nombre_infected        74\n",
    "nombre_sain          2964\n",
    "nombre_exposed         52\n",
    "nombre_recovered    16910\n",
    "Name: 98, dtype: int64"
   ]
  },
  {
   "cell_type": "markdown",
   "id": "2e32ee9d",
   "metadata": {},
   "source": [
    "nombre_infected        74\n",
    "nombre_sain          3003\n",
    "nombre_exposed         50\n",
    "nombre_recovered    16873\n",
    "Name: 99, dtype: int64"
   ]
  },
  {
   "cell_type": "markdown",
   "id": "f305663c",
   "metadata": {},
   "source": [
    "nombre_infected        81\n",
    "nombre_sain          3040\n",
    "nombre_exposed         48\n",
    "nombre_recovered    16831\n",
    "Name: 100, dtype: int64"
   ]
  },
  {
   "cell_type": "markdown",
   "id": "4d025666",
   "metadata": {},
   "source": [
    "nombre_infected        87\n",
    "nombre_sain          3063\n",
    "nombre_exposed         56\n",
    "nombre_recovered    16794\n",
    "Name: 101, dtype: int64"
   ]
  },
  {
   "cell_type": "markdown",
   "id": "36e90a99",
   "metadata": {},
   "source": [
    "nombre_infected        85\n",
    "nombre_sain          3101\n",
    "nombre_exposed         59\n",
    "nombre_recovered    16755\n",
    "Name: 102, dtype: int64"
   ]
  },
  {
   "cell_type": "markdown",
   "id": "758c2f3d",
   "metadata": {},
   "source": [
    "nombre_infected        93\n",
    "nombre_sain          3137\n",
    "nombre_exposed         57\n",
    "nombre_recovered    16713\n",
    "Name: 103, dtype: int64"
   ]
  },
  {
   "cell_type": "markdown",
   "id": "0b34a93f",
   "metadata": {},
   "source": [
    "nombre_infected        99\n",
    "nombre_sain          3177\n",
    "nombre_exposed         55\n",
    "nombre_recovered    16669\n",
    "Name: 104, dtype: int64"
   ]
  },
  {
   "cell_type": "markdown",
   "id": "d8f2f87b",
   "metadata": {},
   "source": [
    "nombre_infected       101\n",
    "nombre_sain          3205\n",
    "nombre_exposed         64\n",
    "nombre_recovered    16630\n",
    "Name: 105, dtype: int64"
   ]
  },
  {
   "cell_type": "markdown",
   "id": "51009ce2",
   "metadata": {},
   "source": [
    "nombre_infected       101\n",
    "nombre_sain          3242\n",
    "nombre_exposed         77\n",
    "nombre_recovered    16580\n",
    "Name: 106, dtype: int64"
   ]
  },
  {
   "cell_type": "markdown",
   "id": "008ff5a6",
   "metadata": {},
   "source": [
    "nombre_infected        99\n",
    "nombre_sain          3283\n",
    "nombre_exposed         87\n",
    "nombre_recovered    16531\n",
    "Name: 107, dtype: int64"
   ]
  },
  {
   "cell_type": "markdown",
   "id": "2f7779bf",
   "metadata": {},
   "source": [
    "nombre_infected       104\n",
    "nombre_sain          3301\n",
    "nombre_exposed         95\n",
    "nombre_recovered    16500\n",
    "Name: 108, dtype: int64"
   ]
  },
  {
   "cell_type": "markdown",
   "id": "36d38030",
   "metadata": {},
   "source": [
    "nombre_infected       117\n",
    "nombre_sain          3348\n",
    "nombre_exposed         92\n",
    "nombre_recovered    16443\n",
    "Name: 109, dtype: int64"
   ]
  },
  {
   "cell_type": "markdown",
   "id": "8766ec4c",
   "metadata": {},
   "source": [
    "nombre_infected       122\n",
    "nombre_sain          3381\n",
    "nombre_exposed         94\n",
    "nombre_recovered    16403\n",
    "Name: 110, dtype: int64"
   ]
  },
  {
   "cell_type": "markdown",
   "id": "3ae6d2ed",
   "metadata": {},
   "source": [
    "nombre_infected       124\n",
    "nombre_sain          3402\n",
    "nombre_exposed        112\n",
    "nombre_recovered    16362\n",
    "Name: 111, dtype: int64"
   ]
  },
  {
   "cell_type": "markdown",
   "id": "626a345c",
   "metadata": {},
   "source": [
    "nombre_infected       133\n",
    "nombre_sain          3455\n",
    "nombre_exposed        120\n",
    "nombre_recovered    16292\n",
    "Name: 112, dtype: int64"
   ]
  },
  {
   "cell_type": "markdown",
   "id": "0edc998b",
   "metadata": {},
   "source": [
    "nombre_infected       145\n",
    "nombre_sain          3491\n",
    "nombre_exposed        117\n",
    "nombre_recovered    16247\n",
    "Name: 113, dtype: int64"
   ]
  },
  {
   "cell_type": "markdown",
   "id": "2ec083fe",
   "metadata": {},
   "source": [
    "nombre_infected       150\n",
    "nombre_sain          3516\n",
    "nombre_exposed        126\n",
    "nombre_recovered    16208\n",
    "Name: 114, dtype: int64"
   ]
  },
  {
   "cell_type": "markdown",
   "id": "273b8635",
   "metadata": {},
   "source": [
    "nombre_infected       152\n",
    "nombre_sain          3559\n",
    "nombre_exposed        128\n",
    "nombre_recovered    16161\n",
    "Name: 115, dtype: int64"
   ]
  },
  {
   "cell_type": "markdown",
   "id": "2f1ef6be",
   "metadata": {},
   "source": [
    "nombre_infected       171\n",
    "nombre_sain          3605\n",
    "nombre_exposed        122\n",
    "nombre_recovered    16102\n",
    "Name: 116, dtype: int64"
   ]
  },
  {
   "cell_type": "markdown",
   "id": "615e5624",
   "metadata": {},
   "source": [
    "nombre_infected       177\n",
    "nombre_sain          3643\n",
    "nombre_exposed        125\n",
    "nombre_recovered    16055\n",
    "Name: 117, dtype: int64"
   ]
  },
  {
   "cell_type": "markdown",
   "id": "4d34fdea",
   "metadata": {},
   "source": [
    "nombre_infected       196\n",
    "nombre_sain          3678\n",
    "nombre_exposed        118\n",
    "nombre_recovered    16008\n",
    "Name: 118, dtype: int64"
   ]
  },
  {
   "cell_type": "markdown",
   "id": "3b09124f",
   "metadata": {},
   "source": [
    "nombre_infected       198\n",
    "nombre_sain          3688\n",
    "nombre_exposed        153\n",
    "nombre_recovered    15961\n",
    "Name: 119, dtype: int64"
   ]
  },
  {
   "cell_type": "markdown",
   "id": "a17ab82f",
   "metadata": {},
   "source": [
    "nombre_infected       205\n",
    "nombre_sain          3710\n",
    "nombre_exposed        168\n",
    "nombre_recovered    15917\n",
    "Name: 120, dtype: int64"
   ]
  },
  {
   "cell_type": "markdown",
   "id": "b3c16342",
   "metadata": {},
   "source": [
    "nombre_infected       215\n",
    "nombre_sain          3721\n",
    "nombre_exposed        182\n",
    "nombre_recovered    15882\n",
    "Name: 121, dtype: int64"
   ]
  },
  {
   "cell_type": "markdown",
   "id": "602b417d",
   "metadata": {},
   "source": [
    "nombre_infected       224\n",
    "nombre_sain          3727\n",
    "nombre_exposed        199\n",
    "nombre_recovered    15850\n",
    "Name: 122, dtype: int64"
   ]
  },
  {
   "cell_type": "markdown",
   "id": "051a0a22",
   "metadata": {},
   "source": [
    "nombre_infected       243\n",
    "nombre_sain          3722\n",
    "nombre_exposed        211\n",
    "nombre_recovered    15824\n",
    "Name: 123, dtype: int64"
   ]
  },
  {
   "cell_type": "markdown",
   "id": "2eb227c0",
   "metadata": {},
   "source": [
    "nombre_infected       265\n",
    "nombre_sain          3739\n",
    "nombre_exposed        195\n",
    "nombre_recovered    15801\n",
    "Name: 124, dtype: int64"
   ]
  },
  {
   "cell_type": "markdown",
   "id": "f3d11bd5",
   "metadata": {},
   "source": [
    "nombre_infected       285\n",
    "nombre_sain          3709\n",
    "nombre_exposed        223\n",
    "nombre_recovered    15783\n",
    "Name: 125, dtype: int64"
   ]
  },
  {
   "cell_type": "markdown",
   "id": "ef07a339",
   "metadata": {},
   "source": [
    "nombre_infected       288\n",
    "nombre_sain          3686\n",
    "nombre_exposed        255\n",
    "nombre_recovered    15771\n",
    "Name: 126, dtype: int64"
   ]
  },
  {
   "cell_type": "markdown",
   "id": "6bc2ae5c",
   "metadata": {},
   "source": [
    "nombre_infected       303\n",
    "nombre_sain          3666\n",
    "nombre_exposed        278\n",
    "nombre_recovered    15753\n",
    "Name: 127, dtype: int64"
   ]
  },
  {
   "cell_type": "markdown",
   "id": "1d545a85",
   "metadata": {},
   "source": [
    "nombre_infected       323\n",
    "nombre_sain          3648\n",
    "nombre_exposed        298\n",
    "nombre_recovered    15731\n",
    "Name: 128, dtype: int64"
   ]
  },
  {
   "cell_type": "markdown",
   "id": "d955b1fb",
   "metadata": {},
   "source": [
    "nombre_infected       365\n",
    "nombre_sain          3624\n",
    "nombre_exposed        301\n",
    "nombre_recovered    15710\n",
    "Name: 129, dtype: int64"
   ]
  },
  {
   "cell_type": "markdown",
   "id": "e850a6e9",
   "metadata": {},
   "source": [
    "nombre_infected       394\n",
    "nombre_sain          3586\n",
    "nombre_exposed        317\n",
    "nombre_recovered    15703\n",
    "Name: 130, dtype: int64"
   ]
  },
  {
   "cell_type": "markdown",
   "id": "4441d1df",
   "metadata": {},
   "source": [
    "nombre_infected       408\n",
    "nombre_sain          3533\n",
    "nombre_exposed        346\n",
    "nombre_recovered    15713\n",
    "Name: 131, dtype: int64"
   ]
  },
  {
   "cell_type": "markdown",
   "id": "ea07233c",
   "metadata": {},
   "source": [
    "nombre_infected       433\n",
    "nombre_sain          3502\n",
    "nombre_exposed        355\n",
    "nombre_recovered    15710\n",
    "Name: 132, dtype: int64"
   ]
  },
  {
   "cell_type": "markdown",
   "id": "3f5b9536",
   "metadata": {},
   "source": [
    "nombre_infected       465\n",
    "nombre_sain          3447\n",
    "nombre_exposed        383\n",
    "nombre_recovered    15705\n",
    "Name: 133, dtype: int64"
   ]
  },
  {
   "cell_type": "markdown",
   "id": "33254c2a",
   "metadata": {},
   "source": [
    "nombre_infected       489\n",
    "nombre_sain          3390\n",
    "nombre_exposed        416\n",
    "nombre_recovered    15705\n",
    "Name: 134, dtype: int64"
   ]
  },
  {
   "cell_type": "markdown",
   "id": "ff61be41",
   "metadata": {},
   "source": [
    "nombre_infected       524\n",
    "nombre_sain          3339\n",
    "nombre_exposed        416\n",
    "nombre_recovered    15721\n",
    "Name: 135, dtype: int64"
   ]
  },
  {
   "cell_type": "markdown",
   "id": "b42c83c4",
   "metadata": {},
   "source": [
    "nombre_infected       552\n",
    "nombre_sain          3277\n",
    "nombre_exposed        430\n",
    "nombre_recovered    15741\n",
    "Name: 136, dtype: int64"
   ]
  },
  {
   "cell_type": "markdown",
   "id": "b652f536",
   "metadata": {},
   "source": [
    "nombre_infected       586\n",
    "nombre_sain          3202\n",
    "nombre_exposed        447\n",
    "nombre_recovered    15765\n",
    "Name: 137, dtype: int64"
   ]
  },
  {
   "cell_type": "markdown",
   "id": "cd697d9d",
   "metadata": {},
   "source": [
    "nombre_infected       615\n",
    "nombre_sain          3154\n",
    "nombre_exposed        458\n",
    "nombre_recovered    15773\n",
    "Name: 138, dtype: int64"
   ]
  },
  {
   "cell_type": "markdown",
   "id": "f575e38a",
   "metadata": {},
   "source": [
    "nombre_infected       647\n",
    "nombre_sain          3097\n",
    "nombre_exposed        467\n",
    "nombre_recovered    15789\n",
    "Name: 139, dtype: int64"
   ]
  },
  {
   "cell_type": "markdown",
   "id": "2638cd0a",
   "metadata": {},
   "source": [
    "nombre_infected       671\n",
    "nombre_sain          3032\n",
    "nombre_exposed        495\n",
    "nombre_recovered    15802\n",
    "Name: 140, dtype: int64"
   ]
  },
  {
   "cell_type": "markdown",
   "id": "557ecba9",
   "metadata": {},
   "source": [
    "nombre_infected       700\n",
    "nombre_sain          2987\n",
    "nombre_exposed        519\n",
    "nombre_recovered    15794\n",
    "Name: 141, dtype: int64"
   ]
  },
  {
   "cell_type": "markdown",
   "id": "abf21ec7",
   "metadata": {},
   "source": [
    "nombre_infected       730\n",
    "nombre_sain          2923\n",
    "nombre_exposed        543\n",
    "nombre_recovered    15804\n",
    "Name: 142, dtype: int64"
   ]
  },
  {
   "cell_type": "markdown",
   "id": "41f6f050",
   "metadata": {},
   "source": [
    "nombre_infected       748\n",
    "nombre_sain          2885\n",
    "nombre_exposed        557\n",
    "nombre_recovered    15810\n",
    "Name: 143, dtype: int64"
   ]
  },
  {
   "cell_type": "markdown",
   "id": "4d2dea5d",
   "metadata": {},
   "source": [
    "nombre_infected       765\n",
    "nombre_sain          2833\n",
    "nombre_exposed        569\n",
    "nombre_recovered    15833\n",
    "Name: 144, dtype: int64"
   ]
  },
  {
   "cell_type": "markdown",
   "id": "d4dd8bb4",
   "metadata": {},
   "source": [
    "nombre_infected       817\n",
    "nombre_sain          2758\n",
    "nombre_exposed        578\n",
    "nombre_recovered    15847\n",
    "Name: 145, dtype: int64"
   ]
  },
  {
   "cell_type": "markdown",
   "id": "2bb553d0",
   "metadata": {},
   "source": [
    "nombre_infected       854\n",
    "nombre_sain          2690\n",
    "nombre_exposed        596\n",
    "nombre_recovered    15860\n",
    "Name: 146, dtype: int64"
   ]
  },
  {
   "cell_type": "markdown",
   "id": "68cd668d",
   "metadata": {},
   "source": [
    "nombre_infected       885\n",
    "nombre_sain          2640\n",
    "nombre_exposed        579\n",
    "nombre_recovered    15896\n",
    "Name: 147, dtype: int64"
   ]
  },
  {
   "cell_type": "markdown",
   "id": "ed934a2c",
   "metadata": {},
   "source": [
    "nombre_infected       920\n",
    "nombre_sain          2579\n",
    "nombre_exposed        586\n",
    "nombre_recovered    15915\n",
    "Name: 148, dtype: int64"
   ]
  },
  {
   "cell_type": "markdown",
   "id": "1e614ddf",
   "metadata": {},
   "source": [
    "nombre_infected       942\n",
    "nombre_sain          2508\n",
    "nombre_exposed        599\n",
    "nombre_recovered    15951\n",
    "Name: 149, dtype: int64"
   ]
  },
  {
   "cell_type": "markdown",
   "id": "c98f80d3",
   "metadata": {},
   "source": [
    "nombre_infected       942\n",
    "nombre_sain          2465\n",
    "nombre_exposed        605\n",
    "nombre_recovered    15988\n",
    "Name: 150, dtype: int64"
   ]
  },
  {
   "cell_type": "markdown",
   "id": "55a425da",
   "metadata": {},
   "source": [
    "nombre_infected       943\n",
    "nombre_sain          2413\n",
    "nombre_exposed        606\n",
    "nombre_recovered    16038\n",
    "Name: 151, dtype: int64"
   ]
  },
  {
   "cell_type": "markdown",
   "id": "f91ea4ba",
   "metadata": {},
   "source": [
    "nombre_infected       973\n",
    "nombre_sain          2334\n",
    "nombre_exposed        592\n",
    "nombre_recovered    16101\n",
    "Name: 152, dtype: int64"
   ]
  },
  {
   "cell_type": "markdown",
   "id": "deae3dee",
   "metadata": {},
   "source": [
    "nombre_infected       977\n",
    "nombre_sain          2287\n",
    "nombre_exposed        581\n",
    "nombre_recovered    16155\n",
    "Name: 153, dtype: int64"
   ]
  },
  {
   "cell_type": "markdown",
   "id": "3be46fc5",
   "metadata": {},
   "source": [
    "nombre_infected       975\n",
    "nombre_sain          2227\n",
    "nombre_exposed        573\n",
    "nombre_recovered    16225\n",
    "Name: 154, dtype: int64"
   ]
  },
  {
   "cell_type": "markdown",
   "id": "e2f730fb",
   "metadata": {},
   "source": [
    "nombre_infected       996\n",
    "nombre_sain          2147\n",
    "nombre_exposed        564\n",
    "nombre_recovered    16293\n",
    "Name: 155, dtype: int64"
   ]
  },
  {
   "cell_type": "markdown",
   "id": "8468f37e",
   "metadata": {},
   "source": [
    "nombre_infected      1002\n",
    "nombre_sain          2077\n",
    "nombre_exposed        572\n",
    "nombre_recovered    16349\n",
    "Name: 156, dtype: int64"
   ]
  },
  {
   "cell_type": "markdown",
   "id": "bca100e4",
   "metadata": {},
   "source": [
    "nombre_infected       993\n",
    "nombre_sain          2018\n",
    "nombre_exposed        568\n",
    "nombre_recovered    16421\n",
    "Name: 157, dtype: int64"
   ]
  },
  {
   "cell_type": "markdown",
   "id": "637b9ee9",
   "metadata": {},
   "source": [
    "nombre_infected      1016\n",
    "nombre_sain          1968\n",
    "nombre_exposed        556\n",
    "nombre_recovered    16460\n",
    "Name: 158, dtype: int64"
   ]
  },
  {
   "cell_type": "markdown",
   "id": "6209962b",
   "metadata": {},
   "source": [
    "nombre_infected      1027\n",
    "nombre_sain          1947\n",
    "nombre_exposed        526\n",
    "nombre_recovered    16500\n",
    "Name: 159, dtype: int64"
   ]
  },
  {
   "cell_type": "markdown",
   "id": "db0bd691",
   "metadata": {},
   "source": [
    "nombre_infected      1005\n",
    "nombre_sain          1909\n",
    "nombre_exposed        528\n",
    "nombre_recovered    16558\n",
    "Name: 160, dtype: int64"
   ]
  },
  {
   "cell_type": "markdown",
   "id": "c3a1458a",
   "metadata": {},
   "source": [
    "nombre_infected       989\n",
    "nombre_sain          1865\n",
    "nombre_exposed        553\n",
    "nombre_recovered    16593\n",
    "Name: 161, dtype: int64"
   ]
  },
  {
   "cell_type": "markdown",
   "id": "46ef2343",
   "metadata": {},
   "source": [
    "nombre_infected       993\n",
    "nombre_sain          1845\n",
    "nombre_exposed        517\n",
    "nombre_recovered    16645\n",
    "Name: 162, dtype: int64"
   ]
  },
  {
   "cell_type": "markdown",
   "id": "5d5d3e9c",
   "metadata": {},
   "source": [
    "nombre_infected      1004\n",
    "nombre_sain          1828\n",
    "nombre_exposed        494\n",
    "nombre_recovered    16674\n",
    "Name: 163, dtype: int64"
   ]
  },
  {
   "cell_type": "markdown",
   "id": "5396504d",
   "metadata": {},
   "source": [
    "nombre_infected       980\n",
    "nombre_sain          1796\n",
    "nombre_exposed        510\n",
    "nombre_recovered    16714\n",
    "Name: 164, dtype: int64"
   ]
  },
  {
   "cell_type": "markdown",
   "id": "363f1514",
   "metadata": {},
   "source": [
    "nombre_infected       961\n",
    "nombre_sain          1777\n",
    "nombre_exposed        506\n",
    "nombre_recovered    16756\n",
    "Name: 165, dtype: int64"
   ]
  },
  {
   "cell_type": "markdown",
   "id": "085db087",
   "metadata": {},
   "source": [
    "nombre_infected       968\n",
    "nombre_sain          1746\n",
    "nombre_exposed        497\n",
    "nombre_recovered    16789\n",
    "Name: 166, dtype: int64"
   ]
  },
  {
   "cell_type": "markdown",
   "id": "70e7e1dc",
   "metadata": {},
   "source": [
    "nombre_infected       965\n",
    "nombre_sain          1707\n",
    "nombre_exposed        495\n",
    "nombre_recovered    16833\n",
    "Name: 167, dtype: int64"
   ]
  },
  {
   "cell_type": "markdown",
   "id": "1570efc6",
   "metadata": {},
   "source": [
    "nombre_infected       951\n",
    "nombre_sain          1702\n",
    "nombre_exposed        482\n",
    "nombre_recovered    16865\n",
    "Name: 168, dtype: int64"
   ]
  },
  {
   "cell_type": "markdown",
   "id": "5f6b8f7a",
   "metadata": {},
   "source": [
    "nombre_infected       937\n",
    "nombre_sain          1701\n",
    "nombre_exposed        477\n",
    "nombre_recovered    16885\n",
    "Name: 169, dtype: int64"
   ]
  },
  {
   "cell_type": "markdown",
   "id": "9a6cbc5b",
   "metadata": {},
   "source": [
    "nombre_infected       938\n",
    "nombre_sain          1701\n",
    "nombre_exposed        449\n",
    "nombre_recovered    16912\n",
    "Name: 170, dtype: int64"
   ]
  },
  {
   "cell_type": "markdown",
   "id": "6526e729",
   "metadata": {},
   "source": [
    "nombre_infected       933\n",
    "nombre_sain          1699\n",
    "nombre_exposed        430\n",
    "nombre_recovered    16938\n",
    "Name: 171, dtype: int64"
   ]
  },
  {
   "cell_type": "markdown",
   "id": "8cfbf145",
   "metadata": {},
   "source": [
    "nombre_infected       915\n",
    "nombre_sain          1692\n",
    "nombre_exposed        415\n",
    "nombre_recovered    16978\n",
    "Name: 172, dtype: int64"
   ]
  },
  {
   "cell_type": "markdown",
   "id": "1306a71f",
   "metadata": {},
   "source": [
    "nombre_infected       889\n",
    "nombre_sain          1703\n",
    "nombre_exposed        403\n",
    "nombre_recovered    17005\n",
    "Name: 173, dtype: int64"
   ]
  },
  {
   "cell_type": "markdown",
   "id": "effbdf12",
   "metadata": {},
   "source": [
    "nombre_infected       878\n",
    "nombre_sain          1703\n",
    "nombre_exposed        403\n",
    "nombre_recovered    17016\n",
    "Name: 174, dtype: int64"
   ]
  },
  {
   "cell_type": "markdown",
   "id": "3a3b2f14",
   "metadata": {},
   "source": [
    "nombre_infected       851\n",
    "nombre_sain          1694\n",
    "nombre_exposed        414\n",
    "nombre_recovered    17041\n",
    "Name: 175, dtype: int64"
   ]
  },
  {
   "cell_type": "markdown",
   "id": "eeada50b",
   "metadata": {},
   "source": [
    "nombre_infected       848\n",
    "nombre_sain          1679\n",
    "nombre_exposed        396\n",
    "nombre_recovered    17077\n",
    "Name: 176, dtype: int64"
   ]
  },
  {
   "cell_type": "markdown",
   "id": "11100f25",
   "metadata": {},
   "source": [
    "nombre_infected       824\n",
    "nombre_sain          1667\n",
    "nombre_exposed        402\n",
    "nombre_recovered    17107\n",
    "Name: 177, dtype: int64"
   ]
  },
  {
   "cell_type": "markdown",
   "id": "e5824fdd",
   "metadata": {},
   "source": [
    "nombre_infected       829\n",
    "nombre_sain          1643\n",
    "nombre_exposed        406\n",
    "nombre_recovered    17122\n",
    "Name: 178, dtype: int64"
   ]
  },
  {
   "cell_type": "markdown",
   "id": "d1bba9ef",
   "metadata": {},
   "source": [
    "nombre_infected       801\n",
    "nombre_sain          1623\n",
    "nombre_exposed        397\n",
    "nombre_recovered    17179\n",
    "Name: 179, dtype: int64"
   ]
  },
  {
   "cell_type": "markdown",
   "id": "99106519",
   "metadata": {},
   "source": [
    "nombre_infected       792\n",
    "nombre_sain          1595\n",
    "nombre_exposed        392\n",
    "nombre_recovered    17221\n",
    "Name: 180, dtype: int64"
   ]
  },
  {
   "cell_type": "markdown",
   "id": "d751f85d",
   "metadata": {},
   "source": [
    "nombre_infected       781\n",
    "nombre_sain          1598\n",
    "nombre_exposed        364\n",
    "nombre_recovered    17257\n",
    "Name: 181, dtype: int64"
   ]
  },
  {
   "cell_type": "markdown",
   "id": "522ce4b0",
   "metadata": {},
   "source": [
    "nombre_infected       756\n",
    "nombre_sain          1594\n",
    "nombre_exposed        360\n",
    "nombre_recovered    17290\n",
    "Name: 182, dtype: int64"
   ]
  },
  {
   "cell_type": "markdown",
   "id": "d67ac2c9",
   "metadata": {},
   "source": [
    "nombre_infected       738\n",
    "nombre_sain          1597\n",
    "nombre_exposed        358\n",
    "nombre_recovered    17307\n",
    "Name: 183, dtype: int64"
   ]
  },
  {
   "cell_type": "markdown",
   "id": "9b2d5e69",
   "metadata": {},
   "source": [
    "nombre_infected       726\n",
    "nombre_sain          1624\n",
    "nombre_exposed        325\n",
    "nombre_recovered    17325\n",
    "Name: 184, dtype: int64"
   ]
  },
  {
   "cell_type": "markdown",
   "id": "29a4acf9",
   "metadata": {},
   "source": [
    "nombre_infected       723\n",
    "nombre_sain          1665\n",
    "nombre_exposed        296\n",
    "nombre_recovered    17316\n",
    "Name: 185, dtype: int64"
   ]
  },
  {
   "cell_type": "markdown",
   "id": "9d38063e",
   "metadata": {},
   "source": [
    "nombre_infected       706\n",
    "nombre_sain          1698\n",
    "nombre_exposed        286\n",
    "nombre_recovered    17310\n",
    "Name: 186, dtype: int64"
   ]
  },
  {
   "cell_type": "markdown",
   "id": "7e7cc686",
   "metadata": {},
   "source": [
    "nombre_infected       678\n",
    "nombre_sain          1734\n",
    "nombre_exposed        287\n",
    "nombre_recovered    17301\n",
    "Name: 187, dtype: int64"
   ]
  },
  {
   "cell_type": "markdown",
   "id": "ec5531e4",
   "metadata": {},
   "source": [
    "nombre_infected       663\n",
    "nombre_sain          1782\n",
    "nombre_exposed        284\n",
    "nombre_recovered    17271\n",
    "Name: 188, dtype: int64"
   ]
  },
  {
   "cell_type": "markdown",
   "id": "bf56e21a",
   "metadata": {},
   "source": [
    "nombre_infected       625\n",
    "nombre_sain          1831\n",
    "nombre_exposed        309\n",
    "nombre_recovered    17235\n",
    "Name: 189, dtype: int64"
   ]
  },
  {
   "cell_type": "markdown",
   "id": "c9d24043",
   "metadata": {},
   "source": [
    "nombre_infected       607\n",
    "nombre_sain          1889\n",
    "nombre_exposed        322\n",
    "nombre_recovered    17182\n",
    "Name: 190, dtype: int64"
   ]
  },
  {
   "cell_type": "markdown",
   "id": "edf68641",
   "metadata": {},
   "source": [
    "nombre_infected       599\n",
    "nombre_sain          1927\n",
    "nombre_exposed        330\n",
    "nombre_recovered    17144\n",
    "Name: 191, dtype: int64"
   ]
  },
  {
   "cell_type": "markdown",
   "id": "7070f393",
   "metadata": {},
   "source": [
    "nombre_infected       596\n",
    "nombre_sain          1985\n",
    "nombre_exposed        330\n",
    "nombre_recovered    17089\n",
    "Name: 192, dtype: int64"
   ]
  },
  {
   "cell_type": "markdown",
   "id": "1ca46cdb",
   "metadata": {},
   "source": [
    "nombre_infected       583\n",
    "nombre_sain          2034\n",
    "nombre_exposed        347\n",
    "nombre_recovered    17036\n",
    "Name: 193, dtype: int64"
   ]
  },
  {
   "cell_type": "markdown",
   "id": "ecf28960",
   "metadata": {},
   "source": [
    "nombre_infected       612\n",
    "nombre_sain          2080\n",
    "nombre_exposed        336\n",
    "nombre_recovered    16972\n",
    "Name: 194, dtype: int64"
   ]
  },
  {
   "cell_type": "markdown",
   "id": "4d4b5611",
   "metadata": {},
   "source": [
    "nombre_infected       628\n",
    "nombre_sain          2116\n",
    "nombre_exposed        329\n",
    "nombre_recovered    16927\n",
    "Name: 195, dtype: int64"
   ]
  },
  {
   "cell_type": "markdown",
   "id": "9e85b916",
   "metadata": {},
   "source": [
    "nombre_infected       627\n",
    "nombre_sain          2159\n",
    "nombre_exposed        331\n",
    "nombre_recovered    16883\n",
    "Name: 196, dtype: int64"
   ]
  },
  {
   "cell_type": "markdown",
   "id": "a2e0d284",
   "metadata": {},
   "source": [
    "nombre_infected       614\n",
    "nombre_sain          2189\n",
    "nombre_exposed        338\n",
    "nombre_recovered    16859\n",
    "Name: 197, dtype: int64"
   ]
  },
  {
   "cell_type": "markdown",
   "id": "6b829258",
   "metadata": {},
   "source": [
    "nombre_infected       609\n",
    "nombre_sain          2218\n",
    "nombre_exposed        344\n",
    "nombre_recovered    16829\n",
    "Name: 198, dtype: int64"
   ]
  },
  {
   "cell_type": "markdown",
   "id": "509d13bc",
   "metadata": {},
   "source": [
    "nombre_infected       600\n",
    "nombre_sain          2232\n",
    "nombre_exposed        360\n",
    "nombre_recovered    16808\n",
    "Name: 199, dtype: int64"
   ]
  },
  {
   "cell_type": "markdown",
   "id": "718b05fa",
   "metadata": {},
   "source": [
    "nombre_infected       604\n",
    "nombre_sain          2264\n",
    "nombre_exposed        360\n",
    "nombre_recovered    16772\n",
    "Name: 200, dtype: int64"
   ]
  },
  {
   "cell_type": "markdown",
   "id": "d5268a28",
   "metadata": {},
   "source": [
    "nombre_infected       618\n",
    "nombre_sain          2273\n",
    "nombre_exposed        368\n",
    "nombre_recovered    16741\n",
    "Name: 201, dtype: int64"
   ]
  },
  {
   "cell_type": "markdown",
   "id": "b9552b42",
   "metadata": {},
   "source": [
    "nombre_infected       629\n",
    "nombre_sain          2306\n",
    "nombre_exposed        360\n",
    "nombre_recovered    16705\n",
    "Name: 202, dtype: int64"
   ]
  },
  {
   "cell_type": "markdown",
   "id": "eacc6a03",
   "metadata": {},
   "source": [
    "nombre_infected       620\n",
    "nombre_sain          2309\n",
    "nombre_exposed        385\n",
    "nombre_recovered    16686\n",
    "Name: 203, dtype: int64"
   ]
  },
  {
   "cell_type": "markdown",
   "id": "2e66aeac",
   "metadata": {},
   "source": [
    "nombre_infected       605\n",
    "nombre_sain          2340\n",
    "nombre_exposed        407\n",
    "nombre_recovered    16648\n",
    "Name: 204, dtype: int64"
   ]
  },
  {
   "cell_type": "markdown",
   "id": "b54dfe42",
   "metadata": {},
   "source": [
    "nombre_infected       625\n",
    "nombre_sain          2371\n",
    "nombre_exposed        386\n",
    "nombre_recovered    16618\n",
    "Name: 205, dtype: int64"
   ]
  },
  {
   "cell_type": "markdown",
   "id": "a36b2486",
   "metadata": {},
   "source": [
    "nombre_infected       652\n",
    "nombre_sain          2378\n",
    "nombre_exposed        370\n",
    "nombre_recovered    16600\n",
    "Name: 206, dtype: int64"
   ]
  },
  {
   "cell_type": "markdown",
   "id": "7b839625",
   "metadata": {},
   "source": [
    "nombre_infected       675\n",
    "nombre_sain          2400\n",
    "nombre_exposed        386\n",
    "nombre_recovered    16539\n",
    "Name: 207, dtype: int64"
   ]
  },
  {
   "cell_type": "markdown",
   "id": "d8b8d031",
   "metadata": {},
   "source": [
    "nombre_infected       696\n",
    "nombre_sain          2417\n",
    "nombre_exposed        368\n",
    "nombre_recovered    16519\n",
    "Name: 208, dtype: int64"
   ]
  },
  {
   "cell_type": "markdown",
   "id": "8fb663b0",
   "metadata": {},
   "source": [
    "nombre_infected       696\n",
    "nombre_sain          2422\n",
    "nombre_exposed        379\n",
    "nombre_recovered    16503\n",
    "Name: 209, dtype: int64"
   ]
  },
  {
   "cell_type": "markdown",
   "id": "018213aa",
   "metadata": {},
   "source": [
    "nombre_infected       697\n",
    "nombre_sain          2428\n",
    "nombre_exposed        399\n",
    "nombre_recovered    16476\n",
    "Name: 210, dtype: int64"
   ]
  },
  {
   "cell_type": "markdown",
   "id": "dbced959",
   "metadata": {},
   "source": [
    "nombre_infected       691\n",
    "nombre_sain          2408\n",
    "nombre_exposed        436\n",
    "nombre_recovered    16465\n",
    "Name: 211, dtype: int64"
   ]
  },
  {
   "cell_type": "markdown",
   "id": "9774263c",
   "metadata": {},
   "source": [
    "nombre_infected       698\n",
    "nombre_sain          2407\n",
    "nombre_exposed        443\n",
    "nombre_recovered    16452\n",
    "Name: 212, dtype: int64"
   ]
  },
  {
   "cell_type": "markdown",
   "id": "1f9c01ec",
   "metadata": {},
   "source": [
    "nombre_infected       713\n",
    "nombre_sain          2409\n",
    "nombre_exposed        459\n",
    "nombre_recovered    16419\n",
    "Name: 213, dtype: int64"
   ]
  },
  {
   "cell_type": "markdown",
   "id": "41402c54",
   "metadata": {},
   "source": [
    "nombre_infected       719\n",
    "nombre_sain          2427\n",
    "nombre_exposed        454\n",
    "nombre_recovered    16400\n",
    "Name: 214, dtype: int64"
   ]
  },
  {
   "cell_type": "markdown",
   "id": "44f9ef29",
   "metadata": {},
   "source": [
    "nombre_infected       740\n",
    "nombre_sain          2446\n",
    "nombre_exposed        438\n",
    "nombre_recovered    16376\n",
    "Name: 215, dtype: int64"
   ]
  },
  {
   "cell_type": "markdown",
   "id": "ed0b2741",
   "metadata": {},
   "source": [
    "nombre_infected       750\n",
    "nombre_sain          2430\n",
    "nombre_exposed        459\n",
    "nombre_recovered    16361\n",
    "Name: 216, dtype: int64"
   ]
  },
  {
   "cell_type": "markdown",
   "id": "5baa7cc9",
   "metadata": {},
   "source": [
    "nombre_infected       774\n",
    "nombre_sain          2439\n",
    "nombre_exposed        473\n",
    "nombre_recovered    16314\n",
    "Name: 217, dtype: int64"
   ]
  },
  {
   "cell_type": "markdown",
   "id": "bf5c80cf",
   "metadata": {},
   "source": [
    "nombre_infected       814\n",
    "nombre_sain          2415\n",
    "nombre_exposed        476\n",
    "nombre_recovered    16295\n",
    "Name: 218, dtype: int64"
   ]
  },
  {
   "cell_type": "markdown",
   "id": "eb220946",
   "metadata": {},
   "source": [
    "nombre_infected       818\n",
    "nombre_sain          2402\n",
    "nombre_exposed        468\n",
    "nombre_recovered    16312\n",
    "Name: 219, dtype: int64"
   ]
  },
  {
   "cell_type": "markdown",
   "id": "e3c068b2",
   "metadata": {},
   "source": [
    "nombre_infected       835\n",
    "nombre_sain          2390\n",
    "nombre_exposed        471\n",
    "nombre_recovered    16304\n",
    "Name: 220, dtype: int64"
   ]
  },
  {
   "cell_type": "markdown",
   "id": "62593c42",
   "metadata": {},
   "source": [
    "nombre_infected       840\n",
    "nombre_sain          2339\n",
    "nombre_exposed        504\n",
    "nombre_recovered    16317\n",
    "Name: 221, dtype: int64"
   ]
  },
  {
   "cell_type": "markdown",
   "id": "40d1383f",
   "metadata": {},
   "source": [
    "nombre_infected       867\n",
    "nombre_sain          2304\n",
    "nombre_exposed        510\n",
    "nombre_recovered    16319\n",
    "Name: 222, dtype: int64"
   ]
  },
  {
   "cell_type": "markdown",
   "id": "c71de8d6",
   "metadata": {},
   "source": [
    "nombre_infected       881\n",
    "nombre_sain          2279\n",
    "nombre_exposed        503\n",
    "nombre_recovered    16337\n",
    "Name: 223, dtype: int64"
   ]
  },
  {
   "cell_type": "markdown",
   "id": "ef3f0f35",
   "metadata": {},
   "source": [
    "nombre_infected       900\n",
    "nombre_sain          2257\n",
    "nombre_exposed        494\n",
    "nombre_recovered    16349\n",
    "Name: 224, dtype: int64"
   ]
  },
  {
   "cell_type": "markdown",
   "id": "b76e7dbe",
   "metadata": {},
   "source": [
    "nombre_infected       916\n",
    "nombre_sain          2202\n",
    "nombre_exposed        519\n",
    "nombre_recovered    16363\n",
    "Name: 225, dtype: int64"
   ]
  },
  {
   "cell_type": "markdown",
   "id": "d036b353",
   "metadata": {},
   "source": [
    "nombre_infected       933\n",
    "nombre_sain          2177\n",
    "nombre_exposed        504\n",
    "nombre_recovered    16386\n",
    "Name: 226, dtype: int64"
   ]
  },
  {
   "cell_type": "markdown",
   "id": "e83cdbc2",
   "metadata": {},
   "source": [
    "nombre_infected       956\n",
    "nombre_sain          2159\n",
    "nombre_exposed        478\n",
    "nombre_recovered    16407\n",
    "Name: 227, dtype: int64"
   ]
  },
  {
   "cell_type": "markdown",
   "id": "8c5532d5",
   "metadata": {},
   "source": [
    "nombre_infected       952\n",
    "nombre_sain          2136\n",
    "nombre_exposed        495\n",
    "nombre_recovered    16417\n",
    "Name: 228, dtype: int64"
   ]
  },
  {
   "cell_type": "markdown",
   "id": "ee78f297",
   "metadata": {},
   "source": [
    "nombre_infected       945\n",
    "nombre_sain          2100\n",
    "nombre_exposed        513\n",
    "nombre_recovered    16442\n",
    "Name: 229, dtype: int64"
   ]
  },
  {
   "cell_type": "markdown",
   "id": "95b27fa0",
   "metadata": {},
   "source": [
    "nombre_infected       952\n",
    "nombre_sain          2068\n",
    "nombre_exposed        515\n",
    "nombre_recovered    16465\n",
    "Name: 230, dtype: int64"
   ]
  },
  {
   "cell_type": "markdown",
   "id": "0311ebce",
   "metadata": {},
   "source": [
    "nombre_infected       962\n",
    "nombre_sain          2029\n",
    "nombre_exposed        497\n",
    "nombre_recovered    16512\n",
    "Name: 231, dtype: int64"
   ]
  },
  {
   "cell_type": "markdown",
   "id": "11321e70",
   "metadata": {},
   "source": [
    "nombre_infected       957\n",
    "nombre_sain          2001\n",
    "nombre_exposed        505\n",
    "nombre_recovered    16537\n",
    "Name: 232, dtype: int64"
   ]
  },
  {
   "cell_type": "markdown",
   "id": "7bafcb2a",
   "metadata": {},
   "source": [
    "nombre_infected       959\n",
    "nombre_sain          1963\n",
    "nombre_exposed        528\n",
    "nombre_recovered    16550\n",
    "Name: 233, dtype: int64"
   ]
  },
  {
   "cell_type": "markdown",
   "id": "c7d84175",
   "metadata": {},
   "source": [
    "nombre_infected       974\n",
    "nombre_sain          1925\n",
    "nombre_exposed        539\n",
    "nombre_recovered    16562\n",
    "Name: 234, dtype: int64"
   ]
  },
  {
   "cell_type": "markdown",
   "id": "423295fe",
   "metadata": {},
   "source": [
    "nombre_infected       976\n",
    "nombre_sain          1889\n",
    "nombre_exposed        540\n",
    "nombre_recovered    16595\n",
    "Name: 235, dtype: int64"
   ]
  },
  {
   "cell_type": "markdown",
   "id": "13de7f22",
   "metadata": {},
   "source": [
    "nombre_infected       980\n",
    "nombre_sain          1827\n",
    "nombre_exposed        538\n",
    "nombre_recovered    16655\n",
    "Name: 236, dtype: int64"
   ]
  },
  {
   "cell_type": "markdown",
   "id": "e38f68d9",
   "metadata": {},
   "source": [
    "nombre_infected       987\n",
    "nombre_sain          1816\n",
    "nombre_exposed        511\n",
    "nombre_recovered    16686\n",
    "Name: 237, dtype: int64"
   ]
  },
  {
   "cell_type": "markdown",
   "id": "f575032d",
   "metadata": {},
   "source": [
    "nombre_infected      1003\n",
    "nombre_sain          1791\n",
    "nombre_exposed        503\n",
    "nombre_recovered    16703\n",
    "Name: 238, dtype: int64"
   ]
  },
  {
   "cell_type": "markdown",
   "id": "fd4ab51d",
   "metadata": {},
   "source": [
    "nombre_infected      1002\n",
    "nombre_sain          1778\n",
    "nombre_exposed        482\n",
    "nombre_recovered    16738\n",
    "Name: 239, dtype: int64"
   ]
  },
  {
   "cell_type": "markdown",
   "id": "c9e5137e",
   "metadata": {},
   "source": [
    "nombre_infected       996\n",
    "nombre_sain          1764\n",
    "nombre_exposed        476\n",
    "nombre_recovered    16764\n",
    "Name: 240, dtype: int64"
   ]
  },
  {
   "cell_type": "markdown",
   "id": "11f5d0b0",
   "metadata": {},
   "source": [
    "nombre_infected       969\n",
    "nombre_sain          1756\n",
    "nombre_exposed        474\n",
    "nombre_recovered    16801\n",
    "Name: 241, dtype: int64"
   ]
  },
  {
   "cell_type": "markdown",
   "id": "bcc065fe",
   "metadata": {},
   "source": [
    "nombre_infected       939\n",
    "nombre_sain          1742\n",
    "nombre_exposed        470\n",
    "nombre_recovered    16849\n",
    "Name: 242, dtype: int64"
   ]
  },
  {
   "cell_type": "markdown",
   "id": "5a35ea54",
   "metadata": {},
   "source": [
    "nombre_infected       929\n",
    "nombre_sain          1739\n",
    "nombre_exposed        457\n",
    "nombre_recovered    16875\n",
    "Name: 243, dtype: int64"
   ]
  },
  {
   "cell_type": "markdown",
   "id": "c5ef685b",
   "metadata": {},
   "source": [
    "nombre_infected       917\n",
    "nombre_sain          1734\n",
    "nombre_exposed        446\n",
    "nombre_recovered    16903\n",
    "Name: 244, dtype: int64"
   ]
  },
  {
   "cell_type": "markdown",
   "id": "20855364",
   "metadata": {},
   "source": [
    "nombre_infected       910\n",
    "nombre_sain          1741\n",
    "nombre_exposed        422\n",
    "nombre_recovered    16927\n",
    "Name: 245, dtype: int64"
   ]
  },
  {
   "cell_type": "markdown",
   "id": "867fab44",
   "metadata": {},
   "source": [
    "nombre_infected       883\n",
    "nombre_sain          1735\n",
    "nombre_exposed        424\n",
    "nombre_recovered    16958\n",
    "Name: 246, dtype: int64"
   ]
  },
  {
   "cell_type": "markdown",
   "id": "6e0bd0d1",
   "metadata": {},
   "source": [
    "nombre_infected       866\n",
    "nombre_sain          1758\n",
    "nombre_exposed        399\n",
    "nombre_recovered    16977\n",
    "Name: 247, dtype: int64"
   ]
  },
  {
   "cell_type": "markdown",
   "id": "174c3787",
   "metadata": {},
   "source": [
    "nombre_infected       868\n",
    "nombre_sain          1768\n",
    "nombre_exposed        386\n",
    "nombre_recovered    16978\n",
    "Name: 248, dtype: int64"
   ]
  },
  {
   "cell_type": "markdown",
   "id": "b602b390",
   "metadata": {},
   "source": [
    "nombre_infected       865\n",
    "nombre_sain          1765\n",
    "nombre_exposed        392\n",
    "nombre_recovered    16978\n",
    "Name: 249, dtype: int64"
   ]
  },
  {
   "cell_type": "markdown",
   "id": "c6732415",
   "metadata": {},
   "source": [
    "nombre_infected       867\n",
    "nombre_sain          1758\n",
    "nombre_exposed        376\n",
    "nombre_recovered    16999\n",
    "Name: 250, dtype: int64"
   ]
  },
  {
   "cell_type": "markdown",
   "id": "f7b1558e",
   "metadata": {},
   "source": [
    "nombre_infected       844\n",
    "nombre_sain          1752\n",
    "nombre_exposed        375\n",
    "nombre_recovered    17029\n",
    "Name: 251, dtype: int64"
   ]
  },
  {
   "cell_type": "markdown",
   "id": "8cb1775a",
   "metadata": {},
   "source": [
    "nombre_infected       812\n",
    "nombre_sain          1748\n",
    "nombre_exposed        393\n",
    "nombre_recovered    17047\n",
    "Name: 252, dtype: int64"
   ]
  },
  {
   "cell_type": "markdown",
   "id": "b6a6a0f8",
   "metadata": {},
   "source": [
    "nombre_infected       810\n",
    "nombre_sain          1751\n",
    "nombre_exposed        388\n",
    "nombre_recovered    17051\n",
    "Name: 253, dtype: int64"
   ]
  },
  {
   "cell_type": "markdown",
   "id": "12f1f880",
   "metadata": {},
   "source": [
    "nombre_infected       787\n",
    "nombre_sain          1750\n",
    "nombre_exposed        378\n",
    "nombre_recovered    17085\n",
    "Name: 254, dtype: int64"
   ]
  },
  {
   "cell_type": "markdown",
   "id": "db753bc5",
   "metadata": {},
   "source": [
    "nombre_infected       783\n",
    "nombre_sain          1764\n",
    "nombre_exposed        351\n",
    "nombre_recovered    17102\n",
    "Name: 255, dtype: int64"
   ]
  },
  {
   "cell_type": "markdown",
   "id": "e802e100",
   "metadata": {},
   "source": [
    "nombre_infected       765\n",
    "nombre_sain          1772\n",
    "nombre_exposed        345\n",
    "nombre_recovered    17118\n",
    "Name: 256, dtype: int64"
   ]
  },
  {
   "cell_type": "markdown",
   "id": "879d62b1",
   "metadata": {},
   "source": [
    "nombre_infected       751\n",
    "nombre_sain          1787\n",
    "nombre_exposed        340\n",
    "nombre_recovered    17122\n",
    "Name: 257, dtype: int64"
   ]
  },
  {
   "cell_type": "markdown",
   "id": "8335e90f",
   "metadata": {},
   "source": [
    "nombre_infected       728\n",
    "nombre_sain          1806\n",
    "nombre_exposed        343\n",
    "nombre_recovered    17123\n",
    "Name: 258, dtype: int64"
   ]
  },
  {
   "cell_type": "markdown",
   "id": "04cfffa0",
   "metadata": {},
   "source": [
    "nombre_infected       709\n",
    "nombre_sain          1822\n",
    "nombre_exposed        352\n",
    "nombre_recovered    17117\n",
    "Name: 259, dtype: int64"
   ]
  },
  {
   "cell_type": "markdown",
   "id": "c1a22bc1",
   "metadata": {},
   "source": [
    "nombre_infected       694\n",
    "nombre_sain          1842\n",
    "nombre_exposed        350\n",
    "nombre_recovered    17114\n",
    "Name: 260, dtype: int64"
   ]
  },
  {
   "cell_type": "markdown",
   "id": "8e9a37cb",
   "metadata": {},
   "source": [
    "nombre_infected       696\n",
    "nombre_sain          1847\n",
    "nombre_exposed        358\n",
    "nombre_recovered    17099\n",
    "Name: 261, dtype: int64"
   ]
  },
  {
   "cell_type": "markdown",
   "id": "2abd1b7c",
   "metadata": {},
   "source": [
    "nombre_infected       683\n",
    "nombre_sain          1881\n",
    "nombre_exposed        345\n",
    "nombre_recovered    17091\n",
    "Name: 262, dtype: int64"
   ]
  },
  {
   "cell_type": "markdown",
   "id": "4819bf79",
   "metadata": {},
   "source": [
    "nombre_infected       674\n",
    "nombre_sain          1903\n",
    "nombre_exposed        338\n",
    "nombre_recovered    17085\n",
    "Name: 263, dtype: int64"
   ]
  },
  {
   "cell_type": "markdown",
   "id": "32336618",
   "metadata": {},
   "source": [
    "nombre_infected       689\n",
    "nombre_sain          1935\n",
    "nombre_exposed        304\n",
    "nombre_recovered    17072\n",
    "Name: 264, dtype: int64"
   ]
  },
  {
   "cell_type": "markdown",
   "id": "1cb1bfd2",
   "metadata": {},
   "source": [
    "nombre_infected       671\n",
    "nombre_sain          1950\n",
    "nombre_exposed        321\n",
    "nombre_recovered    17058\n",
    "Name: 265, dtype: int64"
   ]
  },
  {
   "cell_type": "markdown",
   "id": "a2510526",
   "metadata": {},
   "source": [
    "nombre_infected       652\n",
    "nombre_sain          1968\n",
    "nombre_exposed        320\n",
    "nombre_recovered    17060\n",
    "Name: 266, dtype: int64"
   ]
  },
  {
   "cell_type": "markdown",
   "id": "363e7202",
   "metadata": {},
   "source": [
    "nombre_infected       630\n",
    "nombre_sain          2005\n",
    "nombre_exposed        339\n",
    "nombre_recovered    17026\n",
    "Name: 267, dtype: int64"
   ]
  },
  {
   "cell_type": "markdown",
   "id": "b3fa92e5",
   "metadata": {},
   "source": [
    "nombre_infected       621\n",
    "nombre_sain          2024\n",
    "nombre_exposed        363\n",
    "nombre_recovered    16992\n",
    "Name: 268, dtype: int64"
   ]
  },
  {
   "cell_type": "markdown",
   "id": "693ecd28",
   "metadata": {},
   "source": [
    "nombre_infected       627\n",
    "nombre_sain          2062\n",
    "nombre_exposed        343\n",
    "nombre_recovered    16968\n",
    "Name: 269, dtype: int64"
   ]
  },
  {
   "cell_type": "markdown",
   "id": "a1e952c5",
   "metadata": {},
   "source": [
    "nombre_infected       642\n",
    "nombre_sain          2107\n",
    "nombre_exposed        326\n",
    "nombre_recovered    16925\n",
    "Name: 270, dtype: int64"
   ]
  },
  {
   "cell_type": "markdown",
   "id": "330865ba",
   "metadata": {},
   "source": [
    "nombre_infected       665\n",
    "nombre_sain          2170\n",
    "nombre_exposed        288\n",
    "nombre_recovered    16877\n",
    "Name: 271, dtype: int64"
   ]
  },
  {
   "cell_type": "markdown",
   "id": "1b1125dd",
   "metadata": {},
   "source": [
    "nombre_infected       661\n",
    "nombre_sain          2194\n",
    "nombre_exposed        302\n",
    "nombre_recovered    16843\n",
    "Name: 272, dtype: int64"
   ]
  },
  {
   "cell_type": "markdown",
   "id": "c91d5392",
   "metadata": {},
   "source": [
    "nombre_infected       624\n",
    "nombre_sain          2222\n",
    "nombre_exposed        333\n",
    "nombre_recovered    16821\n",
    "Name: 273, dtype: int64"
   ]
  },
  {
   "cell_type": "markdown",
   "id": "95d34ebe",
   "metadata": {},
   "source": [
    "nombre_infected       620\n",
    "nombre_sain          2243\n",
    "nombre_exposed        348\n",
    "nombre_recovered    16789\n",
    "Name: 274, dtype: int64"
   ]
  },
  {
   "cell_type": "markdown",
   "id": "153c9c21",
   "metadata": {},
   "source": [
    "nombre_infected       625\n",
    "nombre_sain          2289\n",
    "nombre_exposed        362\n",
    "nombre_recovered    16724\n",
    "Name: 275, dtype: int64"
   ]
  },
  {
   "cell_type": "markdown",
   "id": "4ccf58f0",
   "metadata": {},
   "source": [
    "nombre_infected       629\n",
    "nombre_sain          2329\n",
    "nombre_exposed        358\n",
    "nombre_recovered    16684\n",
    "Name: 276, dtype: int64"
   ]
  },
  {
   "cell_type": "markdown",
   "id": "2f65c989",
   "metadata": {},
   "source": [
    "nombre_infected       633\n",
    "nombre_sain          2369\n",
    "nombre_exposed        356\n",
    "nombre_recovered    16642\n",
    "Name: 277, dtype: int64"
   ]
  },
  {
   "cell_type": "markdown",
   "id": "a6a5b2f4",
   "metadata": {},
   "source": [
    "nombre_infected       636\n",
    "nombre_sain          2389\n",
    "nombre_exposed        369\n",
    "nombre_recovered    16606\n",
    "Name: 278, dtype: int64"
   ]
  },
  {
   "cell_type": "markdown",
   "id": "3c6e0d9e",
   "metadata": {},
   "source": [
    "nombre_infected       643\n",
    "nombre_sain          2416\n",
    "nombre_exposed        369\n",
    "nombre_recovered    16572\n",
    "Name: 279, dtype: int64"
   ]
  },
  {
   "cell_type": "markdown",
   "id": "2025c9eb",
   "metadata": {},
   "source": [
    "nombre_infected       649\n",
    "nombre_sain          2415\n",
    "nombre_exposed        412\n",
    "nombre_recovered    16524\n",
    "Name: 280, dtype: int64"
   ]
  },
  {
   "cell_type": "markdown",
   "id": "97ed8f90",
   "metadata": {},
   "source": [
    "nombre_infected       678\n",
    "nombre_sain          2429\n",
    "nombre_exposed        420\n",
    "nombre_recovered    16473\n",
    "Name: 281, dtype: int64"
   ]
  },
  {
   "cell_type": "markdown",
   "id": "cdfde364",
   "metadata": {},
   "source": [
    "nombre_infected       697\n",
    "nombre_sain          2425\n",
    "nombre_exposed        429\n",
    "nombre_recovered    16449\n",
    "Name: 282, dtype: int64"
   ]
  },
  {
   "cell_type": "markdown",
   "id": "d41fec60",
   "metadata": {},
   "source": [
    "nombre_infected       732\n",
    "nombre_sain          2430\n",
    "nombre_exposed        419\n",
    "nombre_recovered    16419\n",
    "Name: 283, dtype: int64"
   ]
  },
  {
   "cell_type": "markdown",
   "id": "d92a3618",
   "metadata": {},
   "source": [
    "nombre_infected       753\n",
    "nombre_sain          2436\n",
    "nombre_exposed        428\n",
    "nombre_recovered    16383\n",
    "Name: 284, dtype: int64"
   ]
  },
  {
   "cell_type": "markdown",
   "id": "a330c969",
   "metadata": {},
   "source": [
    "nombre_infected       749\n",
    "nombre_sain          2416\n",
    "nombre_exposed        464\n",
    "nombre_recovered    16371\n",
    "Name: 285, dtype: int64"
   ]
  },
  {
   "cell_type": "markdown",
   "id": "82948a88",
   "metadata": {},
   "source": [
    "nombre_infected       753\n",
    "nombre_sain          2413\n",
    "nombre_exposed        481\n",
    "nombre_recovered    16353\n",
    "Name: 286, dtype: int64"
   ]
  },
  {
   "cell_type": "markdown",
   "id": "1a7ef53e",
   "metadata": {},
   "source": [
    "nombre_infected       752\n",
    "nombre_sain          2411\n",
    "nombre_exposed        501\n",
    "nombre_recovered    16336\n",
    "Name: 287, dtype: int64"
   ]
  },
  {
   "cell_type": "markdown",
   "id": "95c08375",
   "metadata": {},
   "source": [
    "nombre_infected       805\n",
    "nombre_sain          2408\n",
    "nombre_exposed        492\n",
    "nombre_recovered    16295\n",
    "Name: 288, dtype: int64"
   ]
  },
  {
   "cell_type": "markdown",
   "id": "a7740ec7",
   "metadata": {},
   "source": [
    "nombre_infected       853\n",
    "nombre_sain          2405\n",
    "nombre_exposed        506\n",
    "nombre_recovered    16236\n",
    "Name: 289, dtype: int64"
   ]
  },
  {
   "cell_type": "markdown",
   "id": "7ae0786b",
   "metadata": {},
   "source": [
    "nombre_infected       868\n",
    "nombre_sain          2399\n",
    "nombre_exposed        505\n",
    "nombre_recovered    16228\n",
    "Name: 290, dtype: int64"
   ]
  },
  {
   "cell_type": "markdown",
   "id": "b8d5c8bd",
   "metadata": {},
   "source": [
    "nombre_infected       870\n",
    "nombre_sain          2381\n",
    "nombre_exposed        531\n",
    "nombre_recovered    16218\n",
    "Name: 291, dtype: int64"
   ]
  },
  {
   "cell_type": "markdown",
   "id": "a07861c1",
   "metadata": {},
   "source": [
    "nombre_infected       885\n",
    "nombre_sain          2358\n",
    "nombre_exposed        542\n",
    "nombre_recovered    16215\n",
    "Name: 292, dtype: int64"
   ]
  },
  {
   "cell_type": "markdown",
   "id": "f9e48f2a",
   "metadata": {},
   "source": [
    "nombre_infected       915\n",
    "nombre_sain          2338\n",
    "nombre_exposed        538\n",
    "nombre_recovered    16209\n",
    "Name: 293, dtype: int64"
   ]
  },
  {
   "cell_type": "markdown",
   "id": "d896e216",
   "metadata": {},
   "source": [
    "nombre_infected       938\n",
    "nombre_sain          2308\n",
    "nombre_exposed        551\n",
    "nombre_recovered    16203\n",
    "Name: 294, dtype: int64"
   ]
  },
  {
   "cell_type": "markdown",
   "id": "4b55e116",
   "metadata": {},
   "source": [
    "nombre_infected       977\n",
    "nombre_sain          2313\n",
    "nombre_exposed        532\n",
    "nombre_recovered    16178\n",
    "Name: 295, dtype: int64"
   ]
  },
  {
   "cell_type": "markdown",
   "id": "c8318d80",
   "metadata": {},
   "source": [
    "nombre_infected       978\n",
    "nombre_sain          2319\n",
    "nombre_exposed        549\n",
    "nombre_recovered    16154\n",
    "Name: 296, dtype: int64"
   ]
  },
  {
   "cell_type": "markdown",
   "id": "360ef88c",
   "metadata": {},
   "source": [
    "nombre_infected       994\n",
    "nombre_sain          2301\n",
    "nombre_exposed        547\n",
    "nombre_recovered    16158\n",
    "Name: 297, dtype: int64"
   ]
  },
  {
   "cell_type": "markdown",
   "id": "850f61a6",
   "metadata": {},
   "source": [
    "nombre_infected       994\n",
    "nombre_sain          2274\n",
    "nombre_exposed        569\n",
    "nombre_recovered    16163\n",
    "Name: 298, dtype: int64"
   ]
  },
  {
   "cell_type": "markdown",
   "id": "cfff18c1",
   "metadata": {},
   "source": [
    "nombre_infected      1017\n",
    "nombre_sain          2246\n",
    "nombre_exposed        579\n",
    "nombre_recovered    16158\n",
    "Name: 299, dtype: int64"
   ]
  },
  {
   "cell_type": "markdown",
   "id": "0a910733",
   "metadata": {},
   "source": [
    "nombre_infected      1037\n",
    "nombre_sain          2227\n",
    "nombre_exposed        597\n",
    "nombre_recovered    16139\n",
    "Name: 300, dtype: int64"
   ]
  },
  {
   "cell_type": "markdown",
   "id": "92304211",
   "metadata": {},
   "source": [
    "nombre_infected      1069\n",
    "nombre_sain          2201\n",
    "nombre_exposed        606\n",
    "nombre_recovered    16124\n",
    "Name: 301, dtype: int64"
   ]
  },
  {
   "cell_type": "markdown",
   "id": "833a5b2e",
   "metadata": {},
   "source": [
    "nombre_infected      1103\n",
    "nombre_sain          2167\n",
    "nombre_exposed        605\n",
    "nombre_recovered    16125\n",
    "Name: 302, dtype: int64"
   ]
  },
  {
   "cell_type": "markdown",
   "id": "658c922a",
   "metadata": {},
   "source": [
    "nombre_infected      1140\n",
    "nombre_sain          2134\n",
    "nombre_exposed        632\n",
    "nombre_recovered    16094\n",
    "Name: 303, dtype: int64"
   ]
  },
  {
   "cell_type": "markdown",
   "id": "fe7f31fd",
   "metadata": {},
   "source": [
    "nombre_infected      1137\n",
    "nombre_sain          2129\n",
    "nombre_exposed        645\n",
    "nombre_recovered    16089\n",
    "Name: 304, dtype: int64"
   ]
  },
  {
   "cell_type": "markdown",
   "id": "c853c682",
   "metadata": {},
   "source": [
    "nombre_infected      1170\n",
    "nombre_sain          2111\n",
    "nombre_exposed        632\n",
    "nombre_recovered    16087\n",
    "Name: 305, dtype: int64"
   ]
  },
  {
   "cell_type": "markdown",
   "id": "ae0d775d",
   "metadata": {},
   "source": [
    "nombre_infected      1186\n",
    "nombre_sain          2069\n",
    "nombre_exposed        634\n",
    "nombre_recovered    16111\n",
    "Name: 306, dtype: int64"
   ]
  },
  {
   "cell_type": "markdown",
   "id": "ab4dc5a5",
   "metadata": {},
   "source": [
    "nombre_infected      1200\n",
    "nombre_sain          2057\n",
    "nombre_exposed        640\n",
    "nombre_recovered    16103\n",
    "Name: 307, dtype: int64"
   ]
  },
  {
   "cell_type": "markdown",
   "id": "67d156cd",
   "metadata": {},
   "source": [
    "nombre_infected      1212\n",
    "nombre_sain          2019\n",
    "nombre_exposed        633\n",
    "nombre_recovered    16136\n",
    "Name: 308, dtype: int64"
   ]
  },
  {
   "cell_type": "markdown",
   "id": "d3592eb0",
   "metadata": {},
   "source": [
    "nombre_infected      1231\n",
    "nombre_sain          1994\n",
    "nombre_exposed        617\n",
    "nombre_recovered    16158\n",
    "Name: 309, dtype: int64"
   ]
  },
  {
   "cell_type": "markdown",
   "id": "23375f87",
   "metadata": {},
   "source": [
    "nombre_infected      1224\n",
    "nombre_sain          1952\n",
    "nombre_exposed        641\n",
    "nombre_recovered    16183\n",
    "Name: 310, dtype: int64"
   ]
  },
  {
   "cell_type": "markdown",
   "id": "ad0d085a",
   "metadata": {},
   "source": [
    "nombre_infected      1271\n",
    "nombre_sain          1908\n",
    "nombre_exposed        639\n",
    "nombre_recovered    16182\n",
    "Name: 311, dtype: int64"
   ]
  },
  {
   "cell_type": "markdown",
   "id": "d8a4fc11",
   "metadata": {},
   "source": [
    "nombre_infected      1297\n",
    "nombre_sain          1891\n",
    "nombre_exposed        612\n",
    "nombre_recovered    16200\n",
    "Name: 312, dtype: int64"
   ]
  },
  {
   "cell_type": "markdown",
   "id": "7221b24f",
   "metadata": {},
   "source": [
    "nombre_infected      1328\n",
    "nombre_sain          1855\n",
    "nombre_exposed        604\n",
    "nombre_recovered    16213\n",
    "Name: 313, dtype: int64"
   ]
  },
  {
   "cell_type": "markdown",
   "id": "a920d1d6",
   "metadata": {},
   "source": [
    "nombre_infected      1291\n",
    "nombre_sain          1840\n",
    "nombre_exposed        613\n",
    "nombre_recovered    16256\n",
    "Name: 314, dtype: int64"
   ]
  },
  {
   "cell_type": "markdown",
   "id": "595a7e9b",
   "metadata": {},
   "source": [
    "nombre_infected      1320\n",
    "nombre_sain          1846\n",
    "nombre_exposed        571\n",
    "nombre_recovered    16263\n",
    "Name: 315, dtype: int64"
   ]
  },
  {
   "cell_type": "markdown",
   "id": "e661061a",
   "metadata": {},
   "source": [
    "nombre_infected      1332\n",
    "nombre_sain          1819\n",
    "nombre_exposed        549\n",
    "nombre_recovered    16300\n",
    "Name: 316, dtype: int64"
   ]
  },
  {
   "cell_type": "markdown",
   "id": "e9cce6ea",
   "metadata": {},
   "source": [
    "nombre_infected      1329\n",
    "nombre_sain          1808\n",
    "nombre_exposed        551\n",
    "nombre_recovered    16312\n",
    "Name: 317, dtype: int64"
   ]
  },
  {
   "cell_type": "markdown",
   "id": "57f19200",
   "metadata": {},
   "source": [
    "nombre_infected      1313\n",
    "nombre_sain          1785\n",
    "nombre_exposed        576\n",
    "nombre_recovered    16326\n",
    "Name: 318, dtype: int64"
   ]
  },
  {
   "cell_type": "markdown",
   "id": "c0897f7e",
   "metadata": {},
   "source": [
    "nombre_infected      1293\n",
    "nombre_sain          1778\n",
    "nombre_exposed        567\n",
    "nombre_recovered    16362\n",
    "Name: 319, dtype: int64"
   ]
  },
  {
   "cell_type": "markdown",
   "id": "79feaedc",
   "metadata": {},
   "source": [
    "nombre_infected      1265\n",
    "nombre_sain          1763\n",
    "nombre_exposed        571\n",
    "nombre_recovered    16401\n",
    "Name: 320, dtype: int64"
   ]
  },
  {
   "cell_type": "markdown",
   "id": "a7c1e953",
   "metadata": {},
   "source": [
    "nombre_infected      1248\n",
    "nombre_sain          1765\n",
    "nombre_exposed        549\n",
    "nombre_recovered    16438\n",
    "Name: 321, dtype: int64"
   ]
  },
  {
   "cell_type": "markdown",
   "id": "5d55c624",
   "metadata": {},
   "source": [
    "nombre_infected      1277\n",
    "nombre_sain          1754\n",
    "nombre_exposed        529\n",
    "nombre_recovered    16440\n",
    "Name: 322, dtype: int64"
   ]
  },
  {
   "cell_type": "markdown",
   "id": "467f6351",
   "metadata": {},
   "source": [
    "nombre_infected      1262\n",
    "nombre_sain          1736\n",
    "nombre_exposed        527\n",
    "nombre_recovered    16475\n",
    "Name: 323, dtype: int64"
   ]
  },
  {
   "cell_type": "markdown",
   "id": "f730338a",
   "metadata": {},
   "source": [
    "nombre_infected      1235\n",
    "nombre_sain          1685\n",
    "nombre_exposed        563\n",
    "nombre_recovered    16517\n",
    "Name: 324, dtype: int64"
   ]
  },
  {
   "cell_type": "markdown",
   "id": "69099048",
   "metadata": {},
   "source": [
    "nombre_infected      1235\n",
    "nombre_sain          1685\n",
    "nombre_exposed        543\n",
    "nombre_recovered    16537\n",
    "Name: 325, dtype: int64"
   ]
  },
  {
   "cell_type": "markdown",
   "id": "e610b6a1",
   "metadata": {},
   "source": [
    "nombre_infected      1236\n",
    "nombre_sain          1652\n",
    "nombre_exposed        542\n",
    "nombre_recovered    16570\n",
    "Name: 326, dtype: int64"
   ]
  },
  {
   "cell_type": "markdown",
   "id": "048c7ee6",
   "metadata": {},
   "source": [
    "nombre_infected      1218\n",
    "nombre_sain          1657\n",
    "nombre_exposed        534\n",
    "nombre_recovered    16591\n",
    "Name: 327, dtype: int64"
   ]
  },
  {
   "cell_type": "markdown",
   "id": "cfb97ae1",
   "metadata": {},
   "source": [
    "nombre_infected      1210\n",
    "nombre_sain          1642\n",
    "nombre_exposed        548\n",
    "nombre_recovered    16600\n",
    "Name: 328, dtype: int64"
   ]
  },
  {
   "cell_type": "markdown",
   "id": "1ed82e5d",
   "metadata": {},
   "source": [
    "nombre_infected      1201\n",
    "nombre_sain          1621\n",
    "nombre_exposed        543\n",
    "nombre_recovered    16635\n",
    "Name: 329, dtype: int64"
   ]
  },
  {
   "cell_type": "markdown",
   "id": "ccd7fbde",
   "metadata": {},
   "source": [
    "nombre_infected      1197\n",
    "nombre_sain          1642\n",
    "nombre_exposed        510\n",
    "nombre_recovered    16651\n",
    "Name: 330, dtype: int64"
   ]
  },
  {
   "cell_type": "markdown",
   "id": "af0255e4",
   "metadata": {},
   "source": [
    "nombre_infected      1176\n",
    "nombre_sain          1633\n",
    "nombre_exposed        489\n",
    "nombre_recovered    16702\n",
    "Name: 331, dtype: int64"
   ]
  },
  {
   "cell_type": "markdown",
   "id": "5122b171",
   "metadata": {},
   "source": [
    "nombre_infected      1139\n",
    "nombre_sain          1619\n",
    "nombre_exposed        512\n",
    "nombre_recovered    16730\n",
    "Name: 332, dtype: int64"
   ]
  },
  {
   "cell_type": "markdown",
   "id": "ce489cbf",
   "metadata": {},
   "source": [
    "nombre_infected      1132\n",
    "nombre_sain          1634\n",
    "nombre_exposed        501\n",
    "nombre_recovered    16733\n",
    "Name: 333, dtype: int64"
   ]
  },
  {
   "cell_type": "markdown",
   "id": "48f96b7d",
   "metadata": {},
   "source": [
    "nombre_infected      1111\n",
    "nombre_sain          1636\n",
    "nombre_exposed        515\n",
    "nombre_recovered    16738\n",
    "Name: 334, dtype: int64"
   ]
  },
  {
   "cell_type": "markdown",
   "id": "6bc79dac",
   "metadata": {},
   "source": [
    "nombre_infected      1116\n",
    "nombre_sain          1665\n",
    "nombre_exposed        495\n",
    "nombre_recovered    16724\n",
    "Name: 335, dtype: int64"
   ]
  },
  {
   "cell_type": "markdown",
   "id": "c7791620",
   "metadata": {},
   "source": [
    "nombre_infected      1119\n",
    "nombre_sain          1691\n",
    "nombre_exposed        487\n",
    "nombre_recovered    16703\n",
    "Name: 336, dtype: int64"
   ]
  },
  {
   "cell_type": "markdown",
   "id": "d7a1186e",
   "metadata": {},
   "source": [
    "nombre_infected      1072\n",
    "nombre_sain          1700\n",
    "nombre_exposed        498\n",
    "nombre_recovered    16730\n",
    "Name: 337, dtype: int64"
   ]
  },
  {
   "cell_type": "markdown",
   "id": "bd6cca76",
   "metadata": {},
   "source": [
    "nombre_infected      1058\n",
    "nombre_sain          1706\n",
    "nombre_exposed        491\n",
    "nombre_recovered    16745\n",
    "Name: 338, dtype: int64"
   ]
  },
  {
   "cell_type": "markdown",
   "id": "5e559a4b",
   "metadata": {},
   "source": [
    "nombre_infected      1053\n",
    "nombre_sain          1745\n",
    "nombre_exposed        478\n",
    "nombre_recovered    16724\n",
    "Name: 339, dtype: int64"
   ]
  },
  {
   "cell_type": "markdown",
   "id": "5da16a54",
   "metadata": {},
   "source": [
    "nombre_infected      1039\n",
    "nombre_sain          1748\n",
    "nombre_exposed        475\n",
    "nombre_recovered    16738\n",
    "Name: 340, dtype: int64"
   ]
  },
  {
   "cell_type": "markdown",
   "id": "0782e4c1",
   "metadata": {},
   "source": [
    "nombre_infected      1023\n",
    "nombre_sain          1777\n",
    "nombre_exposed        451\n",
    "nombre_recovered    16749\n",
    "Name: 341, dtype: int64"
   ]
  },
  {
   "cell_type": "markdown",
   "id": "eea6f8be",
   "metadata": {},
   "source": [
    "nombre_infected      1004\n",
    "nombre_sain          1802\n",
    "nombre_exposed        454\n",
    "nombre_recovered    16740\n",
    "Name: 342, dtype: int64"
   ]
  },
  {
   "cell_type": "markdown",
   "id": "0ff7fcf3",
   "metadata": {},
   "source": [
    "nombre_infected       979\n",
    "nombre_sain          1821\n",
    "nombre_exposed        445\n",
    "nombre_recovered    16755\n",
    "Name: 343, dtype: int64"
   ]
  },
  {
   "cell_type": "markdown",
   "id": "4eb1e858",
   "metadata": {},
   "source": [
    "nombre_infected       970\n",
    "nombre_sain          1824\n",
    "nombre_exposed        439\n",
    "nombre_recovered    16767\n",
    "Name: 344, dtype: int64"
   ]
  },
  {
   "cell_type": "markdown",
   "id": "8d5e5657",
   "metadata": {},
   "source": [
    "nombre_infected       949\n",
    "nombre_sain          1831\n",
    "nombre_exposed        449\n",
    "nombre_recovered    16771\n",
    "Name: 345, dtype: int64"
   ]
  },
  {
   "cell_type": "markdown",
   "id": "f1fa97ef",
   "metadata": {},
   "source": [
    "nombre_infected       943\n",
    "nombre_sain          1846\n",
    "nombre_exposed        450\n",
    "nombre_recovered    16761\n",
    "Name: 346, dtype: int64"
   ]
  },
  {
   "cell_type": "markdown",
   "id": "3a960bc9",
   "metadata": {},
   "source": [
    "nombre_infected       931\n",
    "nombre_sain          1835\n",
    "nombre_exposed        467\n",
    "nombre_recovered    16767\n",
    "Name: 347, dtype: int64"
   ]
  },
  {
   "cell_type": "markdown",
   "id": "ecc99337",
   "metadata": {},
   "source": [
    "nombre_infected       922\n",
    "nombre_sain          1846\n",
    "nombre_exposed        455\n",
    "nombre_recovered    16777\n",
    "Name: 348, dtype: int64"
   ]
  },
  {
   "cell_type": "markdown",
   "id": "3673bb4d",
   "metadata": {},
   "source": [
    "nombre_infected       907\n",
    "nombre_sain          1861\n",
    "nombre_exposed        442\n",
    "nombre_recovered    16790\n",
    "Name: 349, dtype: int64"
   ]
  },
  {
   "cell_type": "markdown",
   "id": "7885cce6",
   "metadata": {},
   "source": [
    "nombre_infected       887\n",
    "nombre_sain          1884\n",
    "nombre_exposed        438\n",
    "nombre_recovered    16791\n",
    "Name: 350, dtype: int64"
   ]
  },
  {
   "cell_type": "markdown",
   "id": "5bcad3d3",
   "metadata": {},
   "source": [
    "nombre_infected       864\n",
    "nombre_sain          1912\n",
    "nombre_exposed        421\n",
    "nombre_recovered    16803\n",
    "Name: 351, dtype: int64"
   ]
  },
  {
   "cell_type": "markdown",
   "id": "a1c5bd61",
   "metadata": {},
   "source": [
    "nombre_infected       859\n",
    "nombre_sain          1914\n",
    "nombre_exposed        419\n",
    "nombre_recovered    16808\n",
    "Name: 352, dtype: int64"
   ]
  },
  {
   "cell_type": "markdown",
   "id": "eecf7aa8",
   "metadata": {},
   "source": [
    "nombre_infected       847\n",
    "nombre_sain          1912\n",
    "nombre_exposed        422\n",
    "nombre_recovered    16819\n",
    "Name: 353, dtype: int64"
   ]
  },
  {
   "cell_type": "markdown",
   "id": "d10ba2e3",
   "metadata": {},
   "source": [
    "nombre_infected       827\n",
    "nombre_sain          1905\n",
    "nombre_exposed        425\n",
    "nombre_recovered    16843\n",
    "Name: 354, dtype: int64"
   ]
  },
  {
   "cell_type": "markdown",
   "id": "aa26d034",
   "metadata": {},
   "source": [
    "nombre_infected       813\n",
    "nombre_sain          1896\n",
    "nombre_exposed        454\n",
    "nombre_recovered    16837\n",
    "Name: 355, dtype: int64"
   ]
  },
  {
   "cell_type": "markdown",
   "id": "a2a2597f",
   "metadata": {},
   "source": [
    "nombre_infected       802\n",
    "nombre_sain          1913\n",
    "nombre_exposed        442\n",
    "nombre_recovered    16843\n",
    "Name: 356, dtype: int64"
   ]
  },
  {
   "cell_type": "markdown",
   "id": "31752039",
   "metadata": {},
   "source": [
    "nombre_infected       822\n",
    "nombre_sain          1922\n",
    "nombre_exposed        436\n",
    "nombre_recovered    16820\n",
    "Name: 357, dtype: int64"
   ]
  },
  {
   "cell_type": "markdown",
   "id": "a96081cf",
   "metadata": {},
   "source": [
    "nombre_infected       825\n",
    "nombre_sain          1936\n",
    "nombre_exposed        434\n",
    "nombre_recovered    16805\n",
    "Name: 358, dtype: int64"
   ]
  },
  {
   "cell_type": "markdown",
   "id": "610e3086",
   "metadata": {},
   "source": [
    "nombre_infected       816\n",
    "nombre_sain          1957\n",
    "nombre_exposed        435\n",
    "nombre_recovered    16792\n",
    "Name: 359, dtype: int64"
   ]
  },
  {
   "cell_type": "markdown",
   "id": "b812cf96",
   "metadata": {},
   "source": [
    "nombre_infected       810\n",
    "nombre_sain          1985\n",
    "nombre_exposed        430\n",
    "nombre_recovered    16775\n",
    "Name: 360, dtype: int64"
   ]
  },
  {
   "cell_type": "markdown",
   "id": "8097b451",
   "metadata": {},
   "source": [
    "nombre_infected       803\n",
    "nombre_sain          2010\n",
    "nombre_exposed        418\n",
    "nombre_recovered    16769\n",
    "Name: 361, dtype: int64"
   ]
  },
  {
   "cell_type": "markdown",
   "id": "36832ed9",
   "metadata": {},
   "source": [
    "nombre_infected       815\n",
    "nombre_sain          2029\n",
    "nombre_exposed        404\n",
    "nombre_recovered    16752\n",
    "Name: 362, dtype: int64"
   ]
  },
  {
   "cell_type": "markdown",
   "id": "19f38f2e",
   "metadata": {},
   "source": [
    "nombre_infected       801\n",
    "nombre_sain          2045\n",
    "nombre_exposed        418\n",
    "nombre_recovered    16736\n",
    "Name: 363, dtype: int64"
   ]
  },
  {
   "cell_type": "markdown",
   "id": "48239588",
   "metadata": {},
   "source": [
    "nombre_infected       785\n",
    "nombre_sain          2073\n",
    "nombre_exposed        408\n",
    "nombre_recovered    16734\n",
    "Name: 364, dtype: int64"
   ]
  },
  {
   "cell_type": "markdown",
   "id": "17083843",
   "metadata": {},
   "source": [
    "nombre_infected       788\n",
    "nombre_sain          2079\n",
    "nombre_exposed        408\n",
    "nombre_recovered    16725\n",
    "Name: 365, dtype: int64"
   ]
  },
  {
   "cell_type": "markdown",
   "id": "2fe225c5",
   "metadata": {},
   "source": [
    "nombre_infected       773\n",
    "nombre_sain          2116\n",
    "nombre_exposed        398\n",
    "nombre_recovered    16713\n",
    "Name: 366, dtype: int64"
   ]
  },
  {
   "cell_type": "markdown",
   "id": "45d562ac",
   "metadata": {},
   "source": [
    "nombre_infected       777\n",
    "nombre_sain          2111\n",
    "nombre_exposed        405\n",
    "nombre_recovered    16707\n",
    "Name: 367, dtype: int64"
   ]
  },
  {
   "cell_type": "markdown",
   "id": "ed493a91",
   "metadata": {},
   "source": [
    "nombre_infected       748\n",
    "nombre_sain          2175\n",
    "nombre_exposed        413\n",
    "nombre_recovered    16664\n",
    "Name: 368, dtype: int64"
   ]
  },
  {
   "cell_type": "markdown",
   "id": "e30d201a",
   "metadata": {},
   "source": [
    "nombre_infected       755\n",
    "nombre_sain          2210\n",
    "nombre_exposed        421\n",
    "nombre_recovered    16614\n",
    "Name: 369, dtype: int64"
   ]
  },
  {
   "cell_type": "markdown",
   "id": "d01c1e9c",
   "metadata": {},
   "source": [
    "nombre_infected       773\n",
    "nombre_sain          2220\n",
    "nombre_exposed        425\n",
    "nombre_recovered    16582\n",
    "Name: 370, dtype: int64"
   ]
  },
  {
   "cell_type": "markdown",
   "id": "fb66eceb",
   "metadata": {},
   "source": [
    "nombre_infected       730\n",
    "nombre_sain          2232\n",
    "nombre_exposed        451\n",
    "nombre_recovered    16587\n",
    "Name: 371, dtype: int64"
   ]
  },
  {
   "cell_type": "markdown",
   "id": "4de16898",
   "metadata": {},
   "source": [
    "nombre_infected       758\n",
    "nombre_sain          2272\n",
    "nombre_exposed        422\n",
    "nombre_recovered    16548\n",
    "Name: 372, dtype: int64"
   ]
  },
  {
   "cell_type": "markdown",
   "id": "2974c1e3",
   "metadata": {},
   "source": [
    "nombre_infected       767\n",
    "nombre_sain          2306\n",
    "nombre_exposed        433\n",
    "nombre_recovered    16494\n",
    "Name: 373, dtype: int64"
   ]
  },
  {
   "cell_type": "markdown",
   "id": "d35dcbff",
   "metadata": {},
   "source": [
    "nombre_infected       755\n",
    "nombre_sain          2334\n",
    "nombre_exposed        439\n",
    "nombre_recovered    16472\n",
    "Name: 374, dtype: int64"
   ]
  },
  {
   "cell_type": "markdown",
   "id": "6a01a975",
   "metadata": {},
   "source": [
    "nombre_infected       774\n",
    "nombre_sain          2346\n",
    "nombre_exposed        434\n",
    "nombre_recovered    16446\n",
    "Name: 375, dtype: int64"
   ]
  },
  {
   "cell_type": "markdown",
   "id": "2c33bdf5",
   "metadata": {},
   "source": [
    "nombre_infected       772\n",
    "nombre_sain          2374\n",
    "nombre_exposed        435\n",
    "nombre_recovered    16419\n",
    "Name: 376, dtype: int64"
   ]
  },
  {
   "cell_type": "markdown",
   "id": "2e20e6b4",
   "metadata": {},
   "source": [
    "nombre_infected       769\n",
    "nombre_sain          2386\n",
    "nombre_exposed        442\n",
    "nombre_recovered    16403\n",
    "Name: 377, dtype: int64"
   ]
  },
  {
   "cell_type": "markdown",
   "id": "d2a4b944",
   "metadata": {},
   "source": [
    "nombre_infected       785\n",
    "nombre_sain          2401\n",
    "nombre_exposed        429\n",
    "nombre_recovered    16385\n",
    "Name: 378, dtype: int64"
   ]
  },
  {
   "cell_type": "markdown",
   "id": "10aad01b",
   "metadata": {},
   "source": [
    "nombre_infected       790\n",
    "nombre_sain          2380\n",
    "nombre_exposed        455\n",
    "nombre_recovered    16375\n",
    "Name: 379, dtype: int64"
   ]
  },
  {
   "cell_type": "markdown",
   "id": "82c2cba7",
   "metadata": {},
   "source": [
    "nombre_infected       791\n",
    "nombre_sain          2401\n",
    "nombre_exposed        445\n",
    "nombre_recovered    16363\n",
    "Name: 380, dtype: int64"
   ]
  },
  {
   "cell_type": "markdown",
   "id": "5b90235e",
   "metadata": {},
   "source": [
    "nombre_infected       788\n",
    "nombre_sain          2400\n",
    "nombre_exposed        447\n",
    "nombre_recovered    16365\n",
    "Name: 381, dtype: int64"
   ]
  },
  {
   "cell_type": "markdown",
   "id": "704dae0f",
   "metadata": {},
   "source": [
    "nombre_infected       769\n",
    "nombre_sain          2421\n",
    "nombre_exposed        465\n",
    "nombre_recovered    16345\n",
    "Name: 382, dtype: int64"
   ]
  },
  {
   "cell_type": "markdown",
   "id": "c891f2fa",
   "metadata": {},
   "source": [
    "nombre_infected       792\n",
    "nombre_sain          2434\n",
    "nombre_exposed        457\n",
    "nombre_recovered    16317\n",
    "Name: 383, dtype: int64"
   ]
  },
  {
   "cell_type": "markdown",
   "id": "93b50595",
   "metadata": {},
   "source": [
    "nombre_infected       812\n",
    "nombre_sain          2446\n",
    "nombre_exposed        456\n",
    "nombre_recovered    16286\n",
    "Name: 384, dtype: int64"
   ]
  },
  {
   "cell_type": "markdown",
   "id": "5f4354f6",
   "metadata": {},
   "source": [
    "nombre_infected       808\n",
    "nombre_sain          2455\n",
    "nombre_exposed        476\n",
    "nombre_recovered    16261\n",
    "Name: 385, dtype: int64"
   ]
  },
  {
   "cell_type": "markdown",
   "id": "e8e3f311",
   "metadata": {},
   "source": [
    "nombre_infected       824\n",
    "nombre_sain          2462\n",
    "nombre_exposed        490\n",
    "nombre_recovered    16224\n",
    "Name: 386, dtype: int64"
   ]
  },
  {
   "cell_type": "markdown",
   "id": "2aaff165",
   "metadata": {},
   "source": [
    "nombre_infected       837\n",
    "nombre_sain          2485\n",
    "nombre_exposed        490\n",
    "nombre_recovered    16188\n",
    "Name: 387, dtype: int64"
   ]
  },
  {
   "cell_type": "markdown",
   "id": "339e8726",
   "metadata": {},
   "source": [
    "nombre_infected       854\n",
    "nombre_sain          2496\n",
    "nombre_exposed        494\n",
    "nombre_recovered    16156\n",
    "Name: 388, dtype: int64"
   ]
  },
  {
   "cell_type": "markdown",
   "id": "3265746b",
   "metadata": {},
   "source": [
    "nombre_infected       851\n",
    "nombre_sain          2506\n",
    "nombre_exposed        499\n",
    "nombre_recovered    16144\n",
    "Name: 389, dtype: int64"
   ]
  },
  {
   "cell_type": "markdown",
   "id": "8a9d2acd",
   "metadata": {},
   "source": [
    "nombre_infected       848\n",
    "nombre_sain          2482\n",
    "nombre_exposed        531\n",
    "nombre_recovered    16139\n",
    "Name: 390, dtype: int64"
   ]
  },
  {
   "cell_type": "markdown",
   "id": "9a256b80",
   "metadata": {},
   "source": [
    "nombre_infected       856\n",
    "nombre_sain          2493\n",
    "nombre_exposed        554\n",
    "nombre_recovered    16097\n",
    "Name: 391, dtype: int64"
   ]
  },
  {
   "cell_type": "markdown",
   "id": "3d9a79a7",
   "metadata": {},
   "source": [
    "nombre_infected       873\n",
    "nombre_sain          2483\n",
    "nombre_exposed        574\n",
    "nombre_recovered    16070\n",
    "Name: 392, dtype: int64"
   ]
  },
  {
   "cell_type": "markdown",
   "id": "abeb501a",
   "metadata": {},
   "source": [
    "nombre_infected       883\n",
    "nombre_sain          2475\n",
    "nombre_exposed        568\n",
    "nombre_recovered    16074\n",
    "Name: 393, dtype: int64"
   ]
  },
  {
   "cell_type": "markdown",
   "id": "4207cf34",
   "metadata": {},
   "source": [
    "nombre_infected       916\n",
    "nombre_sain          2474\n",
    "nombre_exposed        554\n",
    "nombre_recovered    16056\n",
    "Name: 394, dtype: int64"
   ]
  },
  {
   "cell_type": "markdown",
   "id": "f327b132",
   "metadata": {},
   "source": [
    "nombre_infected       938\n",
    "nombre_sain          2465\n",
    "nombre_exposed        557\n",
    "nombre_recovered    16040\n",
    "Name: 395, dtype: int64"
   ]
  },
  {
   "cell_type": "markdown",
   "id": "36f6728e",
   "metadata": {},
   "source": [
    "nombre_infected       966\n",
    "nombre_sain          2427\n",
    "nombre_exposed        592\n",
    "nombre_recovered    16015\n",
    "Name: 396, dtype: int64"
   ]
  },
  {
   "cell_type": "markdown",
   "id": "a69122ae",
   "metadata": {},
   "source": [
    "nombre_infected       963\n",
    "nombre_sain          2403\n",
    "nombre_exposed        607\n",
    "nombre_recovered    16027\n",
    "Name: 397, dtype: int64"
   ]
  },
  {
   "cell_type": "markdown",
   "id": "818ec4d6",
   "metadata": {},
   "source": [
    "nombre_infected       996\n",
    "nombre_sain          2370\n",
    "nombre_exposed        624\n",
    "nombre_recovered    16010\n",
    "Name: 398, dtype: int64"
   ]
  },
  {
   "cell_type": "markdown",
   "id": "2c34fcc6",
   "metadata": {},
   "source": [
    "nombre_infected      1019\n",
    "nombre_sain          2381\n",
    "nombre_exposed        603\n",
    "nombre_recovered    15997\n",
    "Name: 399, dtype: int64"
   ]
  },
  {
   "cell_type": "markdown",
   "id": "85653ca2",
   "metadata": {},
   "source": [
    "nombre_infected      1034\n",
    "nombre_sain          2401\n",
    "nombre_exposed        597\n",
    "nombre_recovered    15968\n",
    "Name: 400, dtype: int64"
   ]
  },
  {
   "cell_type": "markdown",
   "id": "0bb8bf44",
   "metadata": {},
   "source": [
    "nombre_infected      1037\n",
    "nombre_sain          2361\n",
    "nombre_exposed        617\n",
    "nombre_recovered    15985\n",
    "Name: 401, dtype: int64"
   ]
  },
  {
   "cell_type": "markdown",
   "id": "d3417b33",
   "metadata": {},
   "source": [
    "nombre_infected      1028\n",
    "nombre_sain          2311\n",
    "nombre_exposed        639\n",
    "nombre_recovered    16022\n",
    "Name: 402, dtype: int64"
   ]
  },
  {
   "cell_type": "markdown",
   "id": "9835ed33",
   "metadata": {},
   "source": [
    "nombre_infected      1032\n",
    "nombre_sain          2290\n",
    "nombre_exposed        643\n",
    "nombre_recovered    16035\n",
    "Name: 403, dtype: int64"
   ]
  },
  {
   "cell_type": "markdown",
   "id": "c8206cf8",
   "metadata": {},
   "source": [
    "nombre_infected      1026\n",
    "nombre_sain          2260\n",
    "nombre_exposed        642\n",
    "nombre_recovered    16072\n",
    "Name: 404, dtype: int64"
   ]
  },
  {
   "cell_type": "markdown",
   "id": "1562944e",
   "metadata": {},
   "source": [
    "nombre_infected      1050\n",
    "nombre_sain          2227\n",
    "nombre_exposed        638\n",
    "nombre_recovered    16085\n",
    "Name: 405, dtype: int64"
   ]
  },
  {
   "cell_type": "markdown",
   "id": "67a64037",
   "metadata": {},
   "source": [
    "nombre_infected      1066\n",
    "nombre_sain          2207\n",
    "nombre_exposed        620\n",
    "nombre_recovered    16107\n",
    "Name: 406, dtype: int64"
   ]
  },
  {
   "cell_type": "markdown",
   "id": "5a782117",
   "metadata": {},
   "source": [
    "nombre_infected      1077\n",
    "nombre_sain          2206\n",
    "nombre_exposed        604\n",
    "nombre_recovered    16113\n",
    "Name: 407, dtype: int64"
   ]
  },
  {
   "cell_type": "markdown",
   "id": "fb6e6fe2",
   "metadata": {},
   "source": [
    "nombre_infected      1068\n",
    "nombre_sain          2174\n",
    "nombre_exposed        639\n",
    "nombre_recovered    16119\n",
    "Name: 408, dtype: int64"
   ]
  },
  {
   "cell_type": "markdown",
   "id": "3884e6fc",
   "metadata": {},
   "source": [
    "nombre_infected      1073\n",
    "nombre_sain          2148\n",
    "nombre_exposed        639\n",
    "nombre_recovered    16140\n",
    "Name: 409, dtype: int64"
   ]
  },
  {
   "cell_type": "markdown",
   "id": "cd8450df",
   "metadata": {},
   "source": [
    "nombre_infected      1104\n",
    "nombre_sain          2117\n",
    "nombre_exposed        638\n",
    "nombre_recovered    16141\n",
    "Name: 410, dtype: int64"
   ]
  },
  {
   "cell_type": "markdown",
   "id": "4cf0d537",
   "metadata": {},
   "source": [
    "nombre_infected      1123\n",
    "nombre_sain          2082\n",
    "nombre_exposed        635\n",
    "nombre_recovered    16160\n",
    "Name: 411, dtype: int64"
   ]
  },
  {
   "cell_type": "markdown",
   "id": "c315368e",
   "metadata": {},
   "source": [
    "nombre_infected      1122\n",
    "nombre_sain          2067\n",
    "nombre_exposed        622\n",
    "nombre_recovered    16189\n",
    "Name: 412, dtype: int64"
   ]
  },
  {
   "cell_type": "markdown",
   "id": "b273149a",
   "metadata": {},
   "source": [
    "nombre_infected      1126\n",
    "nombre_sain          2060\n",
    "nombre_exposed        605\n",
    "nombre_recovered    16209\n",
    "Name: 413, dtype: int64"
   ]
  },
  {
   "cell_type": "markdown",
   "id": "9dc1c36e",
   "metadata": {},
   "source": [
    "nombre_infected      1109\n",
    "nombre_sain          2060\n",
    "nombre_exposed        611\n",
    "nombre_recovered    16220\n",
    "Name: 414, dtype: int64"
   ]
  },
  {
   "cell_type": "markdown",
   "id": "772c8818",
   "metadata": {},
   "source": [
    "nombre_infected      1146\n",
    "nombre_sain          2057\n",
    "nombre_exposed        593\n",
    "nombre_recovered    16204\n",
    "Name: 415, dtype: int64"
   ]
  },
  {
   "cell_type": "markdown",
   "id": "57c382ba",
   "metadata": {},
   "source": [
    "nombre_infected      1145\n",
    "nombre_sain          2026\n",
    "nombre_exposed        606\n",
    "nombre_recovered    16223\n",
    "Name: 416, dtype: int64"
   ]
  },
  {
   "cell_type": "markdown",
   "id": "a3204342",
   "metadata": {},
   "source": [
    "nombre_infected      1130\n",
    "nombre_sain          2010\n",
    "nombre_exposed        616\n",
    "nombre_recovered    16244\n",
    "Name: 417, dtype: int64"
   ]
  },
  {
   "cell_type": "markdown",
   "id": "a1df7bf4",
   "metadata": {},
   "source": [
    "nombre_infected      1125\n",
    "nombre_sain          2001\n",
    "nombre_exposed        622\n",
    "nombre_recovered    16252\n",
    "Name: 418, dtype: int64"
   ]
  },
  {
   "cell_type": "markdown",
   "id": "14570b4b",
   "metadata": {},
   "source": [
    "nombre_infected      1133\n",
    "nombre_sain          1999\n",
    "nombre_exposed        601\n",
    "nombre_recovered    16267\n",
    "Name: 419, dtype: int64"
   ]
  },
  {
   "cell_type": "markdown",
   "id": "f23be9b9",
   "metadata": {},
   "source": [
    "nombre_infected      1152\n",
    "nombre_sain          2000\n",
    "nombre_exposed        570\n",
    "nombre_recovered    16278\n",
    "Name: 420, dtype: int64"
   ]
  },
  {
   "cell_type": "markdown",
   "id": "608f23ca",
   "metadata": {},
   "source": [
    "nombre_infected      1137\n",
    "nombre_sain          1995\n",
    "nombre_exposed        572\n",
    "nombre_recovered    16296\n",
    "Name: 421, dtype: int64"
   ]
  },
  {
   "cell_type": "markdown",
   "id": "bb0cc8e0",
   "metadata": {},
   "source": [
    "nombre_infected      1131\n",
    "nombre_sain          1981\n",
    "nombre_exposed        567\n",
    "nombre_recovered    16321\n",
    "Name: 422, dtype: int64"
   ]
  },
  {
   "cell_type": "markdown",
   "id": "e301bc65",
   "metadata": {},
   "source": [
    "nombre_infected      1119\n",
    "nombre_sain          1984\n",
    "nombre_exposed        558\n",
    "nombre_recovered    16339\n",
    "Name: 423, dtype: int64"
   ]
  },
  {
   "cell_type": "markdown",
   "id": "85072d58",
   "metadata": {},
   "source": [
    "nombre_infected      1111\n",
    "nombre_sain          1973\n",
    "nombre_exposed        546\n",
    "nombre_recovered    16370\n",
    "Name: 424, dtype: int64"
   ]
  },
  {
   "cell_type": "markdown",
   "id": "89cff474",
   "metadata": {},
   "source": [
    "nombre_infected      1092\n",
    "nombre_sain          1932\n",
    "nombre_exposed        548\n",
    "nombre_recovered    16428\n",
    "Name: 425, dtype: int64"
   ]
  },
  {
   "cell_type": "markdown",
   "id": "e14b652c",
   "metadata": {},
   "source": [
    "nombre_infected      1083\n",
    "nombre_sain          1939\n",
    "nombre_exposed        526\n",
    "nombre_recovered    16452\n",
    "Name: 426, dtype: int64"
   ]
  },
  {
   "cell_type": "markdown",
   "id": "f6cab9fd",
   "metadata": {},
   "source": [
    "nombre_infected      1080\n",
    "nombre_sain          1930\n",
    "nombre_exposed        522\n",
    "nombre_recovered    16468\n",
    "Name: 427, dtype: int64"
   ]
  },
  {
   "cell_type": "markdown",
   "id": "280b66ab",
   "metadata": {},
   "source": [
    "nombre_infected      1084\n",
    "nombre_sain          1926\n",
    "nombre_exposed        521\n",
    "nombre_recovered    16469\n",
    "Name: 428, dtype: int64"
   ]
  },
  {
   "cell_type": "markdown",
   "id": "e1df1efd",
   "metadata": {},
   "source": [
    "nombre_infected      1064\n",
    "nombre_sain          1938\n",
    "nombre_exposed        541\n",
    "nombre_recovered    16457\n",
    "Name: 429, dtype: int64"
   ]
  },
  {
   "cell_type": "markdown",
   "id": "e606ff46",
   "metadata": {},
   "source": [
    "nombre_infected      1032\n",
    "nombre_sain          1926\n",
    "nombre_exposed        568\n",
    "nombre_recovered    16474\n",
    "Name: 430, dtype: int64"
   ]
  },
  {
   "cell_type": "markdown",
   "id": "f92abd03",
   "metadata": {},
   "source": [
    "nombre_infected      1030\n",
    "nombre_sain          1939\n",
    "nombre_exposed        550\n",
    "nombre_recovered    16481\n",
    "Name: 431, dtype: int64"
   ]
  },
  {
   "cell_type": "markdown",
   "id": "7ac07eb8",
   "metadata": {},
   "source": [
    "nombre_infected      1037\n",
    "nombre_sain          1954\n",
    "nombre_exposed        516\n",
    "nombre_recovered    16493\n",
    "Name: 432, dtype: int64"
   ]
  },
  {
   "cell_type": "markdown",
   "id": "48cdf2ef",
   "metadata": {},
   "source": [
    "nombre_infected      1043\n",
    "nombre_sain          1980\n",
    "nombre_exposed        507\n",
    "nombre_recovered    16470\n",
    "Name: 433, dtype: int64"
   ]
  },
  {
   "cell_type": "markdown",
   "id": "81227dfc",
   "metadata": {},
   "source": [
    "nombre_infected      1058\n",
    "nombre_sain          1963\n",
    "nombre_exposed        519\n",
    "nombre_recovered    16460\n",
    "Name: 434, dtype: int64"
   ]
  },
  {
   "cell_type": "markdown",
   "id": "ccc83888",
   "metadata": {},
   "source": [
    "nombre_infected      1023\n",
    "nombre_sain          1980\n",
    "nombre_exposed        531\n",
    "nombre_recovered    16466\n",
    "Name: 435, dtype: int64"
   ]
  },
  {
   "cell_type": "markdown",
   "id": "edb92a6a",
   "metadata": {},
   "source": [
    "nombre_infected      1035\n",
    "nombre_sain          1967\n",
    "nombre_exposed        547\n",
    "nombre_recovered    16451\n",
    "Name: 436, dtype: int64"
   ]
  },
  {
   "cell_type": "markdown",
   "id": "913c54a3",
   "metadata": {},
   "source": [
    "nombre_infected      1039\n",
    "nombre_sain          1967\n",
    "nombre_exposed        531\n",
    "nombre_recovered    16463\n",
    "Name: 437, dtype: int64"
   ]
  },
  {
   "cell_type": "markdown",
   "id": "af2f3aae",
   "metadata": {},
   "source": [
    "nombre_infected      1020\n",
    "nombre_sain          1978\n",
    "nombre_exposed        540\n",
    "nombre_recovered    16462\n",
    "Name: 438, dtype: int64"
   ]
  },
  {
   "cell_type": "markdown",
   "id": "add6434e",
   "metadata": {},
   "source": [
    "nombre_infected      1026\n",
    "nombre_sain          1994\n",
    "nombre_exposed        508\n",
    "nombre_recovered    16472\n",
    "Name: 439, dtype: int64"
   ]
  },
  {
   "cell_type": "markdown",
   "id": "e8d8014e",
   "metadata": {},
   "source": [
    "nombre_infected      1008\n",
    "nombre_sain          2001\n",
    "nombre_exposed        525\n",
    "nombre_recovered    16466\n",
    "Name: 440, dtype: int64"
   ]
  },
  {
   "cell_type": "markdown",
   "id": "b1550f3d",
   "metadata": {},
   "source": [
    "nombre_infected      1011\n",
    "nombre_sain          2010\n",
    "nombre_exposed        519\n",
    "nombre_recovered    16460\n",
    "Name: 441, dtype: int64"
   ]
  },
  {
   "cell_type": "markdown",
   "id": "d493b9ea",
   "metadata": {},
   "source": [
    "nombre_infected      1006\n",
    "nombre_sain          2001\n",
    "nombre_exposed        533\n",
    "nombre_recovered    16460\n",
    "Name: 442, dtype: int64"
   ]
  },
  {
   "cell_type": "markdown",
   "id": "6900a245",
   "metadata": {},
   "source": [
    "nombre_infected      1019\n",
    "nombre_sain          2017\n",
    "nombre_exposed        529\n",
    "nombre_recovered    16435\n",
    "Name: 443, dtype: int64"
   ]
  },
  {
   "cell_type": "markdown",
   "id": "6ee02ef4",
   "metadata": {},
   "source": [
    "nombre_infected      1005\n",
    "nombre_sain          2022\n",
    "nombre_exposed        508\n",
    "nombre_recovered    16465\n",
    "Name: 444, dtype: int64"
   ]
  },
  {
   "cell_type": "markdown",
   "id": "8c338112",
   "metadata": {},
   "source": [
    "nombre_infected       993\n",
    "nombre_sain          2009\n",
    "nombre_exposed        511\n",
    "nombre_recovered    16487\n",
    "Name: 445, dtype: int64"
   ]
  },
  {
   "cell_type": "markdown",
   "id": "7e8448bc",
   "metadata": {},
   "source": [
    "nombre_infected       990\n",
    "nombre_sain          2010\n",
    "nombre_exposed        524\n",
    "nombre_recovered    16476\n",
    "Name: 446, dtype: int64"
   ]
  },
  {
   "cell_type": "markdown",
   "id": "87773e20",
   "metadata": {},
   "source": [
    "nombre_infected       969\n",
    "nombre_sain          2018\n",
    "nombre_exposed        516\n",
    "nombre_recovered    16497\n",
    "Name: 447, dtype: int64"
   ]
  },
  {
   "cell_type": "markdown",
   "id": "7307449d",
   "metadata": {},
   "source": [
    "nombre_infected       968\n",
    "nombre_sain          2004\n",
    "nombre_exposed        529\n",
    "nombre_recovered    16499\n",
    "Name: 448, dtype: int64"
   ]
  },
  {
   "cell_type": "markdown",
   "id": "03b1accc",
   "metadata": {},
   "source": [
    "nombre_infected       980\n",
    "nombre_sain          2011\n",
    "nombre_exposed        516\n",
    "nombre_recovered    16493\n",
    "Name: 449, dtype: int64"
   ]
  },
  {
   "cell_type": "markdown",
   "id": "bb5b8e2d",
   "metadata": {},
   "source": [
    "nombre_infected       971\n",
    "nombre_sain          2002\n",
    "nombre_exposed        524\n",
    "nombre_recovered    16503\n",
    "Name: 450, dtype: int64"
   ]
  },
  {
   "cell_type": "markdown",
   "id": "4264665d",
   "metadata": {},
   "source": [
    "nombre_infected       953\n",
    "nombre_sain          2013\n",
    "nombre_exposed        536\n",
    "nombre_recovered    16498\n",
    "Name: 451, dtype: int64"
   ]
  },
  {
   "cell_type": "markdown",
   "id": "860cc202",
   "metadata": {},
   "source": [
    "nombre_infected       958\n",
    "nombre_sain          1998\n",
    "nombre_exposed        550\n",
    "nombre_recovered    16494\n",
    "Name: 452, dtype: int64"
   ]
  },
  {
   "cell_type": "markdown",
   "id": "9da6ac38",
   "metadata": {},
   "source": [
    "nombre_infected       945\n",
    "nombre_sain          2017\n",
    "nombre_exposed        546\n",
    "nombre_recovered    16492\n",
    "Name: 453, dtype: int64"
   ]
  },
  {
   "cell_type": "markdown",
   "id": "b83d8bfc",
   "metadata": {},
   "source": [
    "nombre_infected       946\n",
    "nombre_sain          2011\n",
    "nombre_exposed        545\n",
    "nombre_recovered    16498\n",
    "Name: 454, dtype: int64"
   ]
  },
  {
   "cell_type": "markdown",
   "id": "1edd99ce",
   "metadata": {},
   "source": [
    "nombre_infected       914\n",
    "nombre_sain          2003\n",
    "nombre_exposed        562\n",
    "nombre_recovered    16521\n",
    "Name: 455, dtype: int64"
   ]
  },
  {
   "cell_type": "markdown",
   "id": "fbfe8e60",
   "metadata": {},
   "source": [
    "nombre_infected       908\n",
    "nombre_sain          2014\n",
    "nombre_exposed        554\n",
    "nombre_recovered    16524\n",
    "Name: 456, dtype: int64"
   ]
  },
  {
   "cell_type": "markdown",
   "id": "d64a5127",
   "metadata": {},
   "source": [
    "nombre_infected       900\n",
    "nombre_sain          2000\n",
    "nombre_exposed        562\n",
    "nombre_recovered    16538\n",
    "Name: 457, dtype: int64"
   ]
  },
  {
   "cell_type": "markdown",
   "id": "e7f4db42",
   "metadata": {},
   "source": [
    "nombre_infected       930\n",
    "nombre_sain          1991\n",
    "nombre_exposed        556\n",
    "nombre_recovered    16523\n",
    "Name: 458, dtype: int64"
   ]
  },
  {
   "cell_type": "markdown",
   "id": "03649676",
   "metadata": {},
   "source": [
    "nombre_infected       920\n",
    "nombre_sain          1973\n",
    "nombre_exposed        564\n",
    "nombre_recovered    16543\n",
    "Name: 459, dtype: int64"
   ]
  },
  {
   "cell_type": "markdown",
   "id": "240c9731",
   "metadata": {},
   "source": [
    "nombre_infected       918\n",
    "nombre_sain          1956\n",
    "nombre_exposed        548\n",
    "nombre_recovered    16578\n",
    "Name: 460, dtype: int64"
   ]
  },
  {
   "cell_type": "markdown",
   "id": "4c9f10f1",
   "metadata": {},
   "source": [
    "nombre_infected       935\n",
    "nombre_sain          1939\n",
    "nombre_exposed        550\n",
    "nombre_recovered    16576\n",
    "Name: 461, dtype: int64"
   ]
  },
  {
   "cell_type": "markdown",
   "id": "fa1306b9",
   "metadata": {},
   "source": [
    "nombre_infected       950\n",
    "nombre_sain          1956\n",
    "nombre_exposed        513\n",
    "nombre_recovered    16581\n",
    "Name: 462, dtype: int64"
   ]
  },
  {
   "cell_type": "markdown",
   "id": "d345286d",
   "metadata": {},
   "source": [
    "nombre_infected       936\n",
    "nombre_sain          1968\n",
    "nombre_exposed        509\n",
    "nombre_recovered    16587\n",
    "Name: 463, dtype: int64"
   ]
  },
  {
   "cell_type": "markdown",
   "id": "35641a9e",
   "metadata": {},
   "source": [
    "nombre_infected       911\n",
    "nombre_sain          1981\n",
    "nombre_exposed        498\n",
    "nombre_recovered    16610\n",
    "Name: 464, dtype: int64"
   ]
  },
  {
   "cell_type": "markdown",
   "id": "ca50f2c6",
   "metadata": {},
   "source": [
    "nombre_infected       931\n",
    "nombre_sain          1990\n",
    "nombre_exposed        477\n",
    "nombre_recovered    16602\n",
    "Name: 465, dtype: int64"
   ]
  },
  {
   "cell_type": "markdown",
   "id": "f03a3cf2",
   "metadata": {},
   "source": [
    "nombre_infected       920\n",
    "nombre_sain          1979\n",
    "nombre_exposed        489\n",
    "nombre_recovered    16612\n",
    "Name: 466, dtype: int64"
   ]
  },
  {
   "cell_type": "markdown",
   "id": "2cb7c71a",
   "metadata": {},
   "source": [
    "nombre_infected       914\n",
    "nombre_sain          1960\n",
    "nombre_exposed        484\n",
    "nombre_recovered    16642\n",
    "Name: 467, dtype: int64"
   ]
  },
  {
   "cell_type": "markdown",
   "id": "70195821",
   "metadata": {},
   "source": [
    "nombre_infected       915\n",
    "nombre_sain          1965\n",
    "nombre_exposed        479\n",
    "nombre_recovered    16641\n",
    "Name: 468, dtype: int64"
   ]
  },
  {
   "cell_type": "markdown",
   "id": "b5a987cd",
   "metadata": {},
   "source": [
    "nombre_infected       918\n",
    "nombre_sain          1972\n",
    "nombre_exposed        483\n",
    "nombre_recovered    16627\n",
    "Name: 469, dtype: int64"
   ]
  },
  {
   "cell_type": "markdown",
   "id": "227940ea",
   "metadata": {},
   "source": [
    "nombre_infected       947\n",
    "nombre_sain          1982\n",
    "nombre_exposed        457\n",
    "nombre_recovered    16614\n",
    "Name: 470, dtype: int64"
   ]
  },
  {
   "cell_type": "markdown",
   "id": "7d1660da",
   "metadata": {},
   "source": [
    "nombre_infected       942\n",
    "nombre_sain          1997\n",
    "nombre_exposed        457\n",
    "nombre_recovered    16604\n",
    "Name: 471, dtype: int64"
   ]
  },
  {
   "cell_type": "markdown",
   "id": "ba44cf0f",
   "metadata": {},
   "source": [
    "nombre_infected       939\n",
    "nombre_sain          1999\n",
    "nombre_exposed        463\n",
    "nombre_recovered    16599\n",
    "Name: 472, dtype: int64"
   ]
  },
  {
   "cell_type": "markdown",
   "id": "0080a88d",
   "metadata": {},
   "source": [
    "nombre_infected       946\n",
    "nombre_sain          2020\n",
    "nombre_exposed        439\n",
    "nombre_recovered    16595\n",
    "Name: 473, dtype: int64"
   ]
  },
  {
   "cell_type": "markdown",
   "id": "ccd32918",
   "metadata": {},
   "source": [
    "nombre_infected       951\n",
    "nombre_sain          2002\n",
    "nombre_exposed        451\n",
    "nombre_recovered    16596\n",
    "Name: 474, dtype: int64"
   ]
  },
  {
   "cell_type": "markdown",
   "id": "bc7594a0",
   "metadata": {},
   "source": [
    "nombre_infected       961\n",
    "nombre_sain          1995\n",
    "nombre_exposed        449\n",
    "nombre_recovered    16595\n",
    "Name: 475, dtype: int64"
   ]
  },
  {
   "cell_type": "markdown",
   "id": "52e1f3a3",
   "metadata": {},
   "source": [
    "nombre_infected       960\n",
    "nombre_sain          1993\n",
    "nombre_exposed        462\n",
    "nombre_recovered    16585\n",
    "Name: 476, dtype: int64"
   ]
  },
  {
   "cell_type": "markdown",
   "id": "dfbdfd9b",
   "metadata": {},
   "source": [
    "nombre_infected       960\n",
    "nombre_sain          2007\n",
    "nombre_exposed        469\n",
    "nombre_recovered    16564\n",
    "Name: 477, dtype: int64"
   ]
  },
  {
   "cell_type": "markdown",
   "id": "fcac7071",
   "metadata": {},
   "source": [
    "nombre_infected       971\n",
    "nombre_sain          2019\n",
    "nombre_exposed        460\n",
    "nombre_recovered    16550\n",
    "Name: 478, dtype: int64"
   ]
  },
  {
   "cell_type": "markdown",
   "id": "a6de0b6e",
   "metadata": {},
   "source": [
    "nombre_infected       973\n",
    "nombre_sain          2017\n",
    "nombre_exposed        478\n",
    "nombre_recovered    16532\n",
    "Name: 479, dtype: int64"
   ]
  },
  {
   "cell_type": "markdown",
   "id": "a98b5b12",
   "metadata": {},
   "source": [
    "nombre_infected       977\n",
    "nombre_sain          1999\n",
    "nombre_exposed        497\n",
    "nombre_recovered    16527\n",
    "Name: 480, dtype: int64"
   ]
  },
  {
   "cell_type": "markdown",
   "id": "5398c4e1",
   "metadata": {},
   "source": [
    "nombre_infected       985\n",
    "nombre_sain          1991\n",
    "nombre_exposed        485\n",
    "nombre_recovered    16539\n",
    "Name: 481, dtype: int64"
   ]
  },
  {
   "cell_type": "markdown",
   "id": "1ce5f053",
   "metadata": {},
   "source": [
    "nombre_infected       998\n",
    "nombre_sain          1993\n",
    "nombre_exposed        486\n",
    "nombre_recovered    16523\n",
    "Name: 482, dtype: int64"
   ]
  },
  {
   "cell_type": "markdown",
   "id": "93ba17da",
   "metadata": {},
   "source": [
    "nombre_infected      1011\n",
    "nombre_sain          1980\n",
    "nombre_exposed        495\n",
    "nombre_recovered    16514\n",
    "Name: 483, dtype: int64"
   ]
  },
  {
   "cell_type": "markdown",
   "id": "f37222ce",
   "metadata": {},
   "source": [
    "nombre_infected      1014\n",
    "nombre_sain          1974\n",
    "nombre_exposed        479\n",
    "nombre_recovered    16533\n",
    "Name: 484, dtype: int64"
   ]
  },
  {
   "cell_type": "markdown",
   "id": "1ea79e91",
   "metadata": {},
   "source": [
    "nombre_infected      1029\n",
    "nombre_sain          1981\n",
    "nombre_exposed        468\n",
    "nombre_recovered    16522\n",
    "Name: 485, dtype: int64"
   ]
  },
  {
   "cell_type": "markdown",
   "id": "2d07f94e",
   "metadata": {},
   "source": [
    "nombre_infected      1030\n",
    "nombre_sain          1973\n",
    "nombre_exposed        479\n",
    "nombre_recovered    16518\n",
    "Name: 486, dtype: int64"
   ]
  },
  {
   "cell_type": "markdown",
   "id": "87946691",
   "metadata": {},
   "source": [
    "nombre_infected      1014\n",
    "nombre_sain          1972\n",
    "nombre_exposed        499\n",
    "nombre_recovered    16515\n",
    "Name: 487, dtype: int64"
   ]
  },
  {
   "cell_type": "markdown",
   "id": "c0f9ec64",
   "metadata": {},
   "source": [
    "nombre_infected      1001\n",
    "nombre_sain          1940\n",
    "nombre_exposed        509\n",
    "nombre_recovered    16550\n",
    "Name: 488, dtype: int64"
   ]
  },
  {
   "cell_type": "markdown",
   "id": "e56cdfa7",
   "metadata": {},
   "source": [
    "nombre_infected       987\n",
    "nombre_sain          1922\n",
    "nombre_exposed        497\n",
    "nombre_recovered    16594\n",
    "Name: 489, dtype: int64"
   ]
  },
  {
   "cell_type": "markdown",
   "id": "91969274",
   "metadata": {},
   "source": [
    "nombre_infected       953\n",
    "nombre_sain          1902\n",
    "nombre_exposed        518\n",
    "nombre_recovered    16627\n",
    "Name: 490, dtype: int64"
   ]
  },
  {
   "cell_type": "markdown",
   "id": "46498d19",
   "metadata": {},
   "source": [
    "nombre_infected       976\n",
    "nombre_sain          1909\n",
    "nombre_exposed        490\n",
    "nombre_recovered    16625\n",
    "Name: 491, dtype: int64"
   ]
  },
  {
   "cell_type": "markdown",
   "id": "2a33ca37",
   "metadata": {},
   "source": [
    "nombre_infected       957\n",
    "nombre_sain          1890\n",
    "nombre_exposed        500\n",
    "nombre_recovered    16653\n",
    "Name: 492, dtype: int64"
   ]
  },
  {
   "cell_type": "markdown",
   "id": "06edc388",
   "metadata": {},
   "source": [
    "nombre_infected       960\n",
    "nombre_sain          1887\n",
    "nombre_exposed        504\n",
    "nombre_recovered    16649\n",
    "Name: 493, dtype: int64"
   ]
  },
  {
   "cell_type": "markdown",
   "id": "60f30f6b",
   "metadata": {},
   "source": [
    "nombre_infected       953\n",
    "nombre_sain          1877\n",
    "nombre_exposed        487\n",
    "nombre_recovered    16683\n",
    "Name: 494, dtype: int64"
   ]
  },
  {
   "cell_type": "markdown",
   "id": "cbce4ec4",
   "metadata": {},
   "source": [
    "nombre_infected       956\n",
    "nombre_sain          1869\n",
    "nombre_exposed        481\n",
    "nombre_recovered    16694\n",
    "Name: 495, dtype: int64"
   ]
  },
  {
   "cell_type": "markdown",
   "id": "88172cfe",
   "metadata": {},
   "source": [
    "nombre_infected       936\n",
    "nombre_sain          1877\n",
    "nombre_exposed        476\n",
    "nombre_recovered    16711\n",
    "Name: 496, dtype: int64"
   ]
  },
  {
   "cell_type": "markdown",
   "id": "cbbe1d4b",
   "metadata": {},
   "source": [
    "nombre_infected       937\n",
    "nombre_sain          1890\n",
    "nombre_exposed        472\n",
    "nombre_recovered    16701\n",
    "Name: 497, dtype: int64"
   ]
  },
  {
   "cell_type": "markdown",
   "id": "e0eca72d",
   "metadata": {},
   "source": [
    "nombre_infected       925\n",
    "nombre_sain          1918\n",
    "nombre_exposed        455\n",
    "nombre_recovered    16702\n",
    "Name: 498, dtype: int64"
   ]
  },
  {
   "cell_type": "markdown",
   "id": "75f64d16",
   "metadata": {},
   "source": [
    "nombre_infected       914\n",
    "nombre_sain          1921\n",
    "nombre_exposed        431\n",
    "nombre_recovered    16734\n",
    "Name: 499, dtype: int64"
   ]
  },
  {
   "cell_type": "markdown",
   "id": "e7b99f4c",
   "metadata": {},
   "source": [
    "nombre_infected       891\n",
    "nombre_sain          1925\n",
    "nombre_exposed        448\n",
    "nombre_recovered    16736\n",
    "Name: 500, dtype: int64"
   ]
  },
  {
   "cell_type": "markdown",
   "id": "e35aa452",
   "metadata": {},
   "source": [
    "nombre_infected       884\n",
    "nombre_sain          1938\n",
    "nombre_exposed        429\n",
    "nombre_recovered    16749\n",
    "Name: 501, dtype: int64"
   ]
  },
  {
   "cell_type": "markdown",
   "id": "7d5fbc56",
   "metadata": {},
   "source": [
    "nombre_infected       880\n",
    "nombre_sain          1944\n",
    "nombre_exposed        426\n",
    "nombre_recovered    16750\n",
    "Name: 502, dtype: int64"
   ]
  },
  {
   "cell_type": "markdown",
   "id": "6d9c329e",
   "metadata": {},
   "source": [
    "nombre_infected       858\n",
    "nombre_sain          1952\n",
    "nombre_exposed        444\n",
    "nombre_recovered    16746\n",
    "Name: 503, dtype: int64"
   ]
  },
  {
   "cell_type": "markdown",
   "id": "ce4c9bb6",
   "metadata": {},
   "source": [
    "nombre_infected       828\n",
    "nombre_sain          1946\n",
    "nombre_exposed        436\n",
    "nombre_recovered    16790\n",
    "Name: 504, dtype: int64"
   ]
  },
  {
   "cell_type": "markdown",
   "id": "f5cf2ef4",
   "metadata": {},
   "source": [
    "nombre_infected       837\n",
    "nombre_sain          1939\n",
    "nombre_exposed        430\n",
    "nombre_recovered    16794\n",
    "Name: 505, dtype: int64"
   ]
  },
  {
   "cell_type": "markdown",
   "id": "87fb822b",
   "metadata": {},
   "source": [
    "nombre_infected       818\n",
    "nombre_sain          1919\n",
    "nombre_exposed        450\n",
    "nombre_recovered    16813\n",
    "Name: 506, dtype: int64"
   ]
  },
  {
   "cell_type": "markdown",
   "id": "6e34ef10",
   "metadata": {},
   "source": [
    "nombre_infected       822\n",
    "nombre_sain          1931\n",
    "nombre_exposed        448\n",
    "nombre_recovered    16799\n",
    "Name: 507, dtype: int64"
   ]
  },
  {
   "cell_type": "markdown",
   "id": "f269d90f",
   "metadata": {},
   "source": [
    "nombre_infected       812\n",
    "nombre_sain          1934\n",
    "nombre_exposed        436\n",
    "nombre_recovered    16818\n",
    "Name: 508, dtype: int64"
   ]
  },
  {
   "cell_type": "markdown",
   "id": "b47830ab",
   "metadata": {},
   "source": [
    "nombre_infected       829\n",
    "nombre_sain          1953\n",
    "nombre_exposed        418\n",
    "nombre_recovered    16800\n",
    "Name: 509, dtype: int64"
   ]
  },
  {
   "cell_type": "markdown",
   "id": "36b16e94",
   "metadata": {},
   "source": [
    "nombre_infected       827\n",
    "nombre_sain          1971\n",
    "nombre_exposed        404\n",
    "nombre_recovered    16798\n",
    "Name: 510, dtype: int64"
   ]
  },
  {
   "cell_type": "markdown",
   "id": "cd3db5b7",
   "metadata": {},
   "source": [
    "nombre_infected       793\n",
    "nombre_sain          1972\n",
    "nombre_exposed        409\n",
    "nombre_recovered    16826\n",
    "Name: 511, dtype: int64"
   ]
  },
  {
   "cell_type": "markdown",
   "id": "f17d403b",
   "metadata": {},
   "source": [
    "nombre_infected       803\n",
    "nombre_sain          1992\n",
    "nombre_exposed        386\n",
    "nombre_recovered    16819\n",
    "Name: 512, dtype: int64"
   ]
  },
  {
   "cell_type": "markdown",
   "id": "9b3f6a0b",
   "metadata": {},
   "source": [
    "nombre_infected       768\n",
    "nombre_sain          1994\n",
    "nombre_exposed        418\n",
    "nombre_recovered    16820\n",
    "Name: 513, dtype: int64"
   ]
  },
  {
   "cell_type": "markdown",
   "id": "071c1552",
   "metadata": {},
   "source": [
    "nombre_infected       778\n",
    "nombre_sain          2008\n",
    "nombre_exposed        425\n",
    "nombre_recovered    16789\n",
    "Name: 514, dtype: int64"
   ]
  },
  {
   "cell_type": "markdown",
   "id": "ac420b27",
   "metadata": {},
   "source": [
    "nombre_infected       753\n",
    "nombre_sain          2017\n",
    "nombre_exposed        423\n",
    "nombre_recovered    16807\n",
    "Name: 515, dtype: int64"
   ]
  },
  {
   "cell_type": "markdown",
   "id": "c6be38bf",
   "metadata": {},
   "source": [
    "nombre_infected       761\n",
    "nombre_sain          2030\n",
    "nombre_exposed        418\n",
    "nombre_recovered    16791\n",
    "Name: 516, dtype: int64"
   ]
  },
  {
   "cell_type": "markdown",
   "id": "ed27a3d1",
   "metadata": {},
   "source": [
    "nombre_infected       749\n",
    "nombre_sain          2053\n",
    "nombre_exposed        429\n",
    "nombre_recovered    16769\n",
    "Name: 517, dtype: int64"
   ]
  },
  {
   "cell_type": "markdown",
   "id": "b1c194d9",
   "metadata": {},
   "source": [
    "nombre_infected       737\n",
    "nombre_sain          2064\n",
    "nombre_exposed        438\n",
    "nombre_recovered    16761\n",
    "Name: 518, dtype: int64"
   ]
  },
  {
   "cell_type": "markdown",
   "id": "00d46df9",
   "metadata": {},
   "source": [
    "nombre_infected       754\n",
    "nombre_sain          2079\n",
    "nombre_exposed        415\n",
    "nombre_recovered    16752\n",
    "Name: 519, dtype: int64"
   ]
  },
  {
   "cell_type": "markdown",
   "id": "5b6ff120",
   "metadata": {},
   "source": [
    "nombre_infected       743\n",
    "nombre_sain          2091\n",
    "nombre_exposed        413\n",
    "nombre_recovered    16753\n",
    "Name: 520, dtype: int64"
   ]
  },
  {
   "cell_type": "markdown",
   "id": "7601c134",
   "metadata": {},
   "source": [
    "nombre_infected       733\n",
    "nombre_sain          2116\n",
    "nombre_exposed        406\n",
    "nombre_recovered    16745\n",
    "Name: 521, dtype: int64"
   ]
  },
  {
   "cell_type": "markdown",
   "id": "ad8eeb31",
   "metadata": {},
   "source": [
    "nombre_infected       716\n",
    "nombre_sain          2134\n",
    "nombre_exposed        406\n",
    "nombre_recovered    16744\n",
    "Name: 522, dtype: int64"
   ]
  },
  {
   "cell_type": "markdown",
   "id": "7e261f24",
   "metadata": {},
   "source": [
    "nombre_infected       709\n",
    "nombre_sain          2121\n",
    "nombre_exposed        434\n",
    "nombre_recovered    16736\n",
    "Name: 523, dtype: int64"
   ]
  },
  {
   "cell_type": "markdown",
   "id": "9e708c9f",
   "metadata": {},
   "source": [
    "nombre_infected       715\n",
    "nombre_sain          2148\n",
    "nombre_exposed        405\n",
    "nombre_recovered    16732\n",
    "Name: 524, dtype: int64"
   ]
  },
  {
   "cell_type": "markdown",
   "id": "306185a5",
   "metadata": {},
   "source": [
    "nombre_infected       720\n",
    "nombre_sain          2164\n",
    "nombre_exposed        408\n",
    "nombre_recovered    16708\n",
    "Name: 525, dtype: int64"
   ]
  },
  {
   "cell_type": "markdown",
   "id": "f95f6026",
   "metadata": {},
   "source": [
    "nombre_infected       691\n",
    "nombre_sain          2175\n",
    "nombre_exposed        410\n",
    "nombre_recovered    16724\n",
    "Name: 526, dtype: int64"
   ]
  },
  {
   "cell_type": "markdown",
   "id": "643a1a43",
   "metadata": {},
   "source": [
    "nombre_infected       688\n",
    "nombre_sain          2191\n",
    "nombre_exposed        413\n",
    "nombre_recovered    16708\n",
    "Name: 527, dtype: int64"
   ]
  },
  {
   "cell_type": "markdown",
   "id": "aed09faa",
   "metadata": {},
   "source": [
    "nombre_infected       703\n",
    "nombre_sain          2225\n",
    "nombre_exposed        407\n",
    "nombre_recovered    16665\n",
    "Name: 528, dtype: int64"
   ]
  },
  {
   "cell_type": "markdown",
   "id": "775cb184",
   "metadata": {},
   "source": [
    "nombre_infected       722\n",
    "nombre_sain          2242\n",
    "nombre_exposed        401\n",
    "nombre_recovered    16635\n",
    "Name: 529, dtype: int64"
   ]
  },
  {
   "cell_type": "markdown",
   "id": "b31d3ed7",
   "metadata": {},
   "source": [
    "nombre_infected       728\n",
    "nombre_sain          2254\n",
    "nombre_exposed        405\n",
    "nombre_recovered    16613\n",
    "Name: 530, dtype: int64"
   ]
  },
  {
   "cell_type": "markdown",
   "id": "0f4b4892",
   "metadata": {},
   "source": [
    "nombre_infected       727\n",
    "nombre_sain          2279\n",
    "nombre_exposed        413\n",
    "nombre_recovered    16581\n",
    "Name: 531, dtype: int64"
   ]
  },
  {
   "cell_type": "markdown",
   "id": "76dd7437",
   "metadata": {},
   "source": [
    "nombre_infected       729\n",
    "nombre_sain          2281\n",
    "nombre_exposed        430\n",
    "nombre_recovered    16560\n",
    "Name: 532, dtype: int64"
   ]
  },
  {
   "cell_type": "markdown",
   "id": "05b7ff09",
   "metadata": {},
   "source": [
    "nombre_infected       741\n",
    "nombre_sain          2290\n",
    "nombre_exposed        439\n",
    "nombre_recovered    16530\n",
    "Name: 533, dtype: int64"
   ]
  },
  {
   "cell_type": "markdown",
   "id": "0c11d5d0",
   "metadata": {},
   "source": [
    "nombre_infected       742\n",
    "nombre_sain          2305\n",
    "nombre_exposed        430\n",
    "nombre_recovered    16523\n",
    "Name: 534, dtype: int64"
   ]
  },
  {
   "cell_type": "markdown",
   "id": "572db15b",
   "metadata": {},
   "source": [
    "nombre_infected       752\n",
    "nombre_sain          2304\n",
    "nombre_exposed        453\n",
    "nombre_recovered    16491\n",
    "Name: 535, dtype: int64"
   ]
  },
  {
   "cell_type": "markdown",
   "id": "03798d0f",
   "metadata": {},
   "source": [
    "nombre_infected       757\n",
    "nombre_sain          2324\n",
    "nombre_exposed        464\n",
    "nombre_recovered    16455\n",
    "Name: 536, dtype: int64"
   ]
  },
  {
   "cell_type": "markdown",
   "id": "6c6c445e",
   "metadata": {},
   "source": [
    "nombre_infected       765\n",
    "nombre_sain          2376\n",
    "nombre_exposed        471\n",
    "nombre_recovered    16388\n",
    "Name: 537, dtype: int64"
   ]
  },
  {
   "cell_type": "markdown",
   "id": "2399b4c8",
   "metadata": {},
   "source": [
    "nombre_infected       792\n",
    "nombre_sain          2389\n",
    "nombre_exposed        473\n",
    "nombre_recovered    16346\n",
    "Name: 538, dtype: int64"
   ]
  },
  {
   "cell_type": "markdown",
   "id": "9190a58f",
   "metadata": {},
   "source": [
    "nombre_infected       830\n",
    "nombre_sain          2386\n",
    "nombre_exposed        481\n",
    "nombre_recovered    16303\n",
    "Name: 539, dtype: int64"
   ]
  },
  {
   "cell_type": "markdown",
   "id": "a8d402d5",
   "metadata": {},
   "source": [
    "nombre_infected       847\n",
    "nombre_sain          2396\n",
    "nombre_exposed        485\n",
    "nombre_recovered    16272\n",
    "Name: 540, dtype: int64"
   ]
  },
  {
   "cell_type": "markdown",
   "id": "2eba5d8c",
   "metadata": {},
   "source": [
    "nombre_infected       876\n",
    "nombre_sain          2385\n",
    "nombre_exposed        501\n",
    "nombre_recovered    16238\n",
    "Name: 541, dtype: int64"
   ]
  },
  {
   "cell_type": "markdown",
   "id": "e958a5cc",
   "metadata": {},
   "source": [
    "nombre_infected       868\n",
    "nombre_sain          2394\n",
    "nombre_exposed        514\n",
    "nombre_recovered    16224\n",
    "Name: 542, dtype: int64"
   ]
  },
  {
   "cell_type": "markdown",
   "id": "1a454a3f",
   "metadata": {},
   "source": [
    "nombre_infected       884\n",
    "nombre_sain          2395\n",
    "nombre_exposed        509\n",
    "nombre_recovered    16212\n",
    "Name: 543, dtype: int64"
   ]
  },
  {
   "cell_type": "markdown",
   "id": "36c80912",
   "metadata": {},
   "source": [
    "nombre_infected       902\n",
    "nombre_sain          2397\n",
    "nombre_exposed        497\n",
    "nombre_recovered    16204\n",
    "Name: 544, dtype: int64"
   ]
  },
  {
   "cell_type": "markdown",
   "id": "1bae91a6",
   "metadata": {},
   "source": [
    "nombre_infected       909\n",
    "nombre_sain          2388\n",
    "nombre_exposed        495\n",
    "nombre_recovered    16208\n",
    "Name: 545, dtype: int64"
   ]
  },
  {
   "cell_type": "markdown",
   "id": "02c079e4",
   "metadata": {},
   "source": [
    "nombre_infected       927\n",
    "nombre_sain          2397\n",
    "nombre_exposed        514\n",
    "nombre_recovered    16162\n",
    "Name: 546, dtype: int64"
   ]
  },
  {
   "cell_type": "markdown",
   "id": "ef1fc69b",
   "metadata": {},
   "source": [
    "nombre_infected       929\n",
    "nombre_sain          2401\n",
    "nombre_exposed        521\n",
    "nombre_recovered    16149\n",
    "Name: 547, dtype: int64"
   ]
  },
  {
   "cell_type": "markdown",
   "id": "254549bd",
   "metadata": {},
   "source": [
    "nombre_infected       917\n",
    "nombre_sain          2399\n",
    "nombre_exposed        562\n",
    "nombre_recovered    16122\n",
    "Name: 548, dtype: int64"
   ]
  },
  {
   "cell_type": "markdown",
   "id": "5f5fd4d9",
   "metadata": {},
   "source": [
    "nombre_infected       922\n",
    "nombre_sain          2405\n",
    "nombre_exposed        576\n",
    "nombre_recovered    16097\n",
    "Name: 549, dtype: int64"
   ]
  },
  {
   "cell_type": "markdown",
   "id": "a3b949ee",
   "metadata": {},
   "source": [
    "nombre_infected       929\n",
    "nombre_sain          2413\n",
    "nombre_exposed        594\n",
    "nombre_recovered    16064\n",
    "Name: 550, dtype: int64"
   ]
  },
  {
   "cell_type": "markdown",
   "id": "55da8076",
   "metadata": {},
   "source": [
    "nombre_infected       942\n",
    "nombre_sain          2412\n",
    "nombre_exposed        609\n",
    "nombre_recovered    16037\n",
    "Name: 551, dtype: int64"
   ]
  },
  {
   "cell_type": "markdown",
   "id": "f848e2dc",
   "metadata": {},
   "source": [
    "nombre_infected       988\n",
    "nombre_sain          2413\n",
    "nombre_exposed        581\n",
    "nombre_recovered    16018\n",
    "Name: 552, dtype: int64"
   ]
  },
  {
   "cell_type": "markdown",
   "id": "aac2b1f0",
   "metadata": {},
   "source": [
    "nombre_infected      1018\n",
    "nombre_sain          2387\n",
    "nombre_exposed        590\n",
    "nombre_recovered    16005\n",
    "Name: 553, dtype: int64"
   ]
  },
  {
   "cell_type": "markdown",
   "id": "b1c86886",
   "metadata": {},
   "source": [
    "nombre_infected      1036\n",
    "nombre_sain          2391\n",
    "nombre_exposed        576\n",
    "nombre_recovered    15997\n",
    "Name: 554, dtype: int64"
   ]
  },
  {
   "cell_type": "markdown",
   "id": "6f9ef9f7",
   "metadata": {},
   "source": [
    "nombre_infected      1041\n",
    "nombre_sain          2349\n",
    "nombre_exposed        605\n",
    "nombre_recovered    16005\n",
    "Name: 555, dtype: int64"
   ]
  },
  {
   "cell_type": "markdown",
   "id": "79c19d6c",
   "metadata": {},
   "source": [
    "nombre_infected      1050\n",
    "nombre_sain          2351\n",
    "nombre_exposed        598\n",
    "nombre_recovered    16001\n",
    "Name: 556, dtype: int64"
   ]
  },
  {
   "cell_type": "markdown",
   "id": "e0522ad6",
   "metadata": {},
   "source": [
    "nombre_infected      1050\n",
    "nombre_sain          2336\n",
    "nombre_exposed        602\n",
    "nombre_recovered    16012\n",
    "Name: 557, dtype: int64"
   ]
  },
  {
   "cell_type": "markdown",
   "id": "496d0087",
   "metadata": {},
   "source": [
    "nombre_infected      1093\n",
    "nombre_sain          2335\n",
    "nombre_exposed        573\n",
    "nombre_recovered    15999\n",
    "Name: 558, dtype: int64"
   ]
  },
  {
   "cell_type": "markdown",
   "id": "2e4026e7",
   "metadata": {},
   "source": [
    "nombre_infected      1097\n",
    "nombre_sain          2305\n",
    "nombre_exposed        605\n",
    "nombre_recovered    15993\n",
    "Name: 559, dtype: int64"
   ]
  },
  {
   "cell_type": "markdown",
   "id": "23e30c87",
   "metadata": {},
   "source": [
    "nombre_infected      1104\n",
    "nombre_sain          2287\n",
    "nombre_exposed        619\n",
    "nombre_recovered    15990\n",
    "Name: 560, dtype: int64"
   ]
  },
  {
   "cell_type": "markdown",
   "id": "62e11446",
   "metadata": {},
   "source": [
    "nombre_infected      1120\n",
    "nombre_sain          2253\n",
    "nombre_exposed        628\n",
    "nombre_recovered    15999\n",
    "Name: 561, dtype: int64"
   ]
  },
  {
   "cell_type": "markdown",
   "id": "ca2ec97a",
   "metadata": {},
   "source": [
    "nombre_infected      1147\n",
    "nombre_sain          2222\n",
    "nombre_exposed        628\n",
    "nombre_recovered    16003\n",
    "Name: 562, dtype: int64"
   ]
  },
  {
   "cell_type": "markdown",
   "id": "feaef9c1",
   "metadata": {},
   "source": [
    "nombre_infected      1186\n",
    "nombre_sain          2204\n",
    "nombre_exposed        631\n",
    "nombre_recovered    15979\n",
    "Name: 563, dtype: int64"
   ]
  },
  {
   "cell_type": "markdown",
   "id": "3340dad2",
   "metadata": {},
   "source": [
    "nombre_infected      1202\n",
    "nombre_sain          2161\n",
    "nombre_exposed        623\n",
    "nombre_recovered    16014\n",
    "Name: 564, dtype: int64"
   ]
  },
  {
   "cell_type": "markdown",
   "id": "4b3887a9",
   "metadata": {},
   "source": [
    "nombre_infected      1203\n",
    "nombre_sain          2141\n",
    "nombre_exposed        630\n",
    "nombre_recovered    16026\n",
    "Name: 565, dtype: int64"
   ]
  },
  {
   "cell_type": "markdown",
   "id": "49ef80e9",
   "metadata": {},
   "source": [
    "nombre_infected      1210\n",
    "nombre_sain          2109\n",
    "nombre_exposed        640\n",
    "nombre_recovered    16041\n",
    "Name: 566, dtype: int64"
   ]
  },
  {
   "cell_type": "markdown",
   "id": "29bff63d",
   "metadata": {},
   "source": [
    "nombre_infected      1212\n",
    "nombre_sain          2107\n",
    "nombre_exposed        637\n",
    "nombre_recovered    16044\n",
    "Name: 567, dtype: int64"
   ]
  },
  {
   "cell_type": "markdown",
   "id": "f7a2e7c8",
   "metadata": {},
   "source": [
    "nombre_infected      1212\n",
    "nombre_sain          2084\n",
    "nombre_exposed        633\n",
    "nombre_recovered    16071\n",
    "Name: 568, dtype: int64"
   ]
  },
  {
   "cell_type": "markdown",
   "id": "f4942341",
   "metadata": {},
   "source": [
    "nombre_infected      1229\n",
    "nombre_sain          2042\n",
    "nombre_exposed        632\n",
    "nombre_recovered    16097\n",
    "Name: 569, dtype: int64"
   ]
  },
  {
   "cell_type": "markdown",
   "id": "cb997ec6",
   "metadata": {},
   "source": [
    "nombre_infected      1246\n",
    "nombre_sain          2011\n",
    "nombre_exposed        622\n",
    "nombre_recovered    16121\n",
    "Name: 570, dtype: int64"
   ]
  },
  {
   "cell_type": "markdown",
   "id": "35d095e1",
   "metadata": {},
   "source": [
    "nombre_infected      1258\n",
    "nombre_sain          1971\n",
    "nombre_exposed        642\n",
    "nombre_recovered    16129\n",
    "Name: 571, dtype: int64"
   ]
  },
  {
   "cell_type": "markdown",
   "id": "b49ff72c",
   "metadata": {},
   "source": [
    "nombre_infected      1254\n",
    "nombre_sain          1959\n",
    "nombre_exposed        654\n",
    "nombre_recovered    16133\n",
    "Name: 572, dtype: int64"
   ]
  },
  {
   "cell_type": "markdown",
   "id": "1e3df400",
   "metadata": {},
   "source": [
    "nombre_infected      1252\n",
    "nombre_sain          1928\n",
    "nombre_exposed        659\n",
    "nombre_recovered    16161\n",
    "Name: 573, dtype: int64"
   ]
  },
  {
   "cell_type": "markdown",
   "id": "dcc9a69b",
   "metadata": {},
   "source": [
    "nombre_infected      1290\n",
    "nombre_sain          1922\n",
    "nombre_exposed        620\n",
    "nombre_recovered    16168\n",
    "Name: 574, dtype: int64"
   ]
  },
  {
   "cell_type": "markdown",
   "id": "9f244851",
   "metadata": {},
   "source": [
    "nombre_infected      1287\n",
    "nombre_sain          1905\n",
    "nombre_exposed        618\n",
    "nombre_recovered    16190\n",
    "Name: 575, dtype: int64"
   ]
  },
  {
   "cell_type": "markdown",
   "id": "261b135c",
   "metadata": {},
   "source": [
    "nombre_infected      1280\n",
    "nombre_sain          1900\n",
    "nombre_exposed        619\n",
    "nombre_recovered    16201\n",
    "Name: 576, dtype: int64"
   ]
  },
  {
   "cell_type": "markdown",
   "id": "d6bcc294",
   "metadata": {},
   "source": [
    "nombre_infected      1295\n",
    "nombre_sain          1879\n",
    "nombre_exposed        612\n",
    "nombre_recovered    16214\n",
    "Name: 577, dtype: int64"
   ]
  },
  {
   "cell_type": "markdown",
   "id": "610098ea",
   "metadata": {},
   "source": [
    "nombre_infected      1279\n",
    "nombre_sain          1900\n",
    "nombre_exposed        604\n",
    "nombre_recovered    16217\n",
    "Name: 578, dtype: int64"
   ]
  },
  {
   "cell_type": "markdown",
   "id": "9e6e73e5",
   "metadata": {},
   "source": [
    "nombre_infected      1277\n",
    "nombre_sain          1879\n",
    "nombre_exposed        591\n",
    "nombre_recovered    16253\n",
    "Name: 579, dtype: int64"
   ]
  },
  {
   "cell_type": "markdown",
   "id": "40885a7e",
   "metadata": {},
   "source": [
    "nombre_infected      1274\n",
    "nombre_sain          1885\n",
    "nombre_exposed        582\n",
    "nombre_recovered    16259\n",
    "Name: 580, dtype: int64"
   ]
  },
  {
   "cell_type": "markdown",
   "id": "94bec3dd",
   "metadata": {},
   "source": [
    "nombre_infected      1243\n",
    "nombre_sain          1886\n",
    "nombre_exposed        594\n",
    "nombre_recovered    16277\n",
    "Name: 581, dtype: int64"
   ]
  },
  {
   "cell_type": "markdown",
   "id": "bdd25632",
   "metadata": {},
   "source": [
    "nombre_infected      1260\n",
    "nombre_sain          1910\n",
    "nombre_exposed        583\n",
    "nombre_recovered    16247\n",
    "Name: 582, dtype: int64"
   ]
  },
  {
   "cell_type": "markdown",
   "id": "5b29a23a",
   "metadata": {},
   "source": [
    "nombre_infected      1248\n",
    "nombre_sain          1897\n",
    "nombre_exposed        598\n",
    "nombre_recovered    16257\n",
    "Name: 583, dtype: int64"
   ]
  },
  {
   "cell_type": "markdown",
   "id": "db0221ea",
   "metadata": {},
   "source": [
    "nombre_infected      1245\n",
    "nombre_sain          1877\n",
    "nombre_exposed        592\n",
    "nombre_recovered    16286\n",
    "Name: 584, dtype: int64"
   ]
  },
  {
   "cell_type": "markdown",
   "id": "09440d88",
   "metadata": {},
   "source": [
    "nombre_infected      1224\n",
    "nombre_sain          1884\n",
    "nombre_exposed        578\n",
    "nombre_recovered    16314\n",
    "Name: 585, dtype: int64"
   ]
  },
  {
   "cell_type": "markdown",
   "id": "a76502ed",
   "metadata": {},
   "source": [
    "nombre_infected      1190\n",
    "nombre_sain          1909\n",
    "nombre_exposed        561\n",
    "nombre_recovered    16340\n",
    "Name: 586, dtype: int64"
   ]
  },
  {
   "cell_type": "markdown",
   "id": "d8aa3caa",
   "metadata": {},
   "source": [
    "nombre_infected      1172\n",
    "nombre_sain          1917\n",
    "nombre_exposed        560\n",
    "nombre_recovered    16351\n",
    "Name: 587, dtype: int64"
   ]
  },
  {
   "cell_type": "markdown",
   "id": "80a7cf9b",
   "metadata": {},
   "source": [
    "nombre_infected      1156\n",
    "nombre_sain          1901\n",
    "nombre_exposed        574\n",
    "nombre_recovered    16369\n",
    "Name: 588, dtype: int64"
   ]
  },
  {
   "cell_type": "markdown",
   "id": "8e41d0c7",
   "metadata": {},
   "source": [
    "nombre_infected      1148\n",
    "nombre_sain          1936\n",
    "nombre_exposed        558\n",
    "nombre_recovered    16358\n",
    "Name: 589, dtype: int64"
   ]
  },
  {
   "cell_type": "markdown",
   "id": "5bd88040",
   "metadata": {},
   "source": [
    "nombre_infected      1152\n",
    "nombre_sain          1946\n",
    "nombre_exposed        539\n",
    "nombre_recovered    16363\n",
    "Name: 590, dtype: int64"
   ]
  },
  {
   "cell_type": "markdown",
   "id": "06a20cea",
   "metadata": {},
   "source": [
    "nombre_infected      1126\n",
    "nombre_sain          1944\n",
    "nombre_exposed        556\n",
    "nombre_recovered    16374\n",
    "Name: 591, dtype: int64"
   ]
  },
  {
   "cell_type": "markdown",
   "id": "a5199249",
   "metadata": {},
   "source": [
    "nombre_infected      1124\n",
    "nombre_sain          1949\n",
    "nombre_exposed        557\n",
    "nombre_recovered    16370\n",
    "Name: 592, dtype: int64"
   ]
  },
  {
   "cell_type": "markdown",
   "id": "8c926300",
   "metadata": {},
   "source": [
    "nombre_infected      1150\n",
    "nombre_sain          1936\n",
    "nombre_exposed        545\n",
    "nombre_recovered    16369\n",
    "Name: 593, dtype: int64"
   ]
  },
  {
   "cell_type": "markdown",
   "id": "5e2e7d47",
   "metadata": {},
   "source": [
    "nombre_infected      1145\n",
    "nombre_sain          1921\n",
    "nombre_exposed        574\n",
    "nombre_recovered    16360\n",
    "Name: 594, dtype: int64"
   ]
  },
  {
   "cell_type": "markdown",
   "id": "c1166b77",
   "metadata": {},
   "source": [
    "nombre_infected      1107\n",
    "nombre_sain          1926\n",
    "nombre_exposed        588\n",
    "nombre_recovered    16379\n",
    "Name: 595, dtype: int64"
   ]
  },
  {
   "cell_type": "markdown",
   "id": "2c6eed74",
   "metadata": {},
   "source": [
    "nombre_infected      1107\n",
    "nombre_sain          1951\n",
    "nombre_exposed        562\n",
    "nombre_recovered    16380\n",
    "Name: 596, dtype: int64"
   ]
  },
  {
   "cell_type": "markdown",
   "id": "81c45bfb",
   "metadata": {},
   "source": [
    "nombre_infected      1099\n",
    "nombre_sain          1963\n",
    "nombre_exposed        568\n",
    "nombre_recovered    16370\n",
    "Name: 597, dtype: int64"
   ]
  },
  {
   "cell_type": "markdown",
   "id": "2c998460",
   "metadata": {},
   "source": [
    "nombre_infected      1100\n",
    "nombre_sain          1969\n",
    "nombre_exposed        572\n",
    "nombre_recovered    16359\n",
    "Name: 598, dtype: int64"
   ]
  },
  {
   "cell_type": "markdown",
   "id": "395545c5",
   "metadata": {},
   "source": [
    "nombre_infected      1096\n",
    "nombre_sain          1981\n",
    "nombre_exposed        568\n",
    "nombre_recovered    16355\n",
    "Name: 599, dtype: int64"
   ]
  },
  {
   "cell_type": "markdown",
   "id": "015cf0d2",
   "metadata": {},
   "source": [
    "nombre_infected      1106\n",
    "nombre_sain          1979\n",
    "nombre_exposed        558\n",
    "nombre_recovered    16357\n",
    "Name: 600, dtype: int64"
   ]
  },
  {
   "cell_type": "markdown",
   "id": "f2813904",
   "metadata": {},
   "source": [
    "nombre_infected      1085\n",
    "nombre_sain          1977\n",
    "nombre_exposed        576\n",
    "nombre_recovered    16362\n",
    "Name: 601, dtype: int64"
   ]
  },
  {
   "cell_type": "markdown",
   "id": "789f5697",
   "metadata": {},
   "source": [
    "nombre_infected      1087\n",
    "nombre_sain          1993\n",
    "nombre_exposed        574\n",
    "nombre_recovered    16346\n",
    "Name: 602, dtype: int64"
   ]
  },
  {
   "cell_type": "markdown",
   "id": "8ccdc802",
   "metadata": {},
   "source": [
    "nombre_infected      1090\n",
    "nombre_sain          2039\n",
    "nombre_exposed        554\n",
    "nombre_recovered    16317\n",
    "Name: 603, dtype: int64"
   ]
  },
  {
   "cell_type": "markdown",
   "id": "7fbc24ad",
   "metadata": {},
   "source": [
    "nombre_infected      1073\n",
    "nombre_sain          2065\n",
    "nombre_exposed        525\n",
    "nombre_recovered    16337\n",
    "Name: 604, dtype: int64"
   ]
  },
  {
   "cell_type": "markdown",
   "id": "51b19489",
   "metadata": {},
   "source": [
    "nombre_infected      1087\n",
    "nombre_sain          2075\n",
    "nombre_exposed        487\n",
    "nombre_recovered    16351\n",
    "Name: 605, dtype: int64"
   ]
  },
  {
   "cell_type": "markdown",
   "id": "82c014b4",
   "metadata": {},
   "source": [
    "nombre_infected      1073\n",
    "nombre_sain          2074\n",
    "nombre_exposed        492\n",
    "nombre_recovered    16361\n",
    "Name: 606, dtype: int64"
   ]
  },
  {
   "cell_type": "markdown",
   "id": "8a4bbb68",
   "metadata": {},
   "source": [
    "nombre_infected      1046\n",
    "nombre_sain          2075\n",
    "nombre_exposed        494\n",
    "nombre_recovered    16385\n",
    "Name: 607, dtype: int64"
   ]
  },
  {
   "cell_type": "markdown",
   "id": "f59680f7",
   "metadata": {},
   "source": [
    "nombre_infected      1033\n",
    "nombre_sain          2070\n",
    "nombre_exposed        509\n",
    "nombre_recovered    16388\n",
    "Name: 608, dtype: int64"
   ]
  },
  {
   "cell_type": "markdown",
   "id": "ad26ea1e",
   "metadata": {},
   "source": [
    "nombre_infected      1015\n",
    "nombre_sain          2059\n",
    "nombre_exposed        541\n",
    "nombre_recovered    16385\n",
    "Name: 609, dtype: int64"
   ]
  },
  {
   "cell_type": "markdown",
   "id": "4b01ff38",
   "metadata": {},
   "source": [
    "nombre_infected      1016\n",
    "nombre_sain          2083\n",
    "nombre_exposed        525\n",
    "nombre_recovered    16376\n",
    "Name: 610, dtype: int64"
   ]
  },
  {
   "cell_type": "markdown",
   "id": "669f4d42",
   "metadata": {},
   "source": [
    "nombre_infected      1039\n",
    "nombre_sain          2095\n",
    "nombre_exposed        505\n",
    "nombre_recovered    16361\n",
    "Name: 611, dtype: int64"
   ]
  },
  {
   "cell_type": "markdown",
   "id": "26b34bee",
   "metadata": {},
   "source": [
    "nombre_infected      1031\n",
    "nombre_sain          2119\n",
    "nombre_exposed        502\n",
    "nombre_recovered    16348\n",
    "Name: 612, dtype: int64"
   ]
  },
  {
   "cell_type": "markdown",
   "id": "94570af6",
   "metadata": {},
   "source": [
    "nombre_infected       999\n",
    "nombre_sain          2122\n",
    "nombre_exposed        526\n",
    "nombre_recovered    16353\n",
    "Name: 613, dtype: int64"
   ]
  },
  {
   "cell_type": "markdown",
   "id": "be1fa6f9",
   "metadata": {},
   "source": [
    "nombre_infected      1016\n",
    "nombre_sain          2112\n",
    "nombre_exposed        519\n",
    "nombre_recovered    16353\n",
    "Name: 614, dtype: int64"
   ]
  },
  {
   "cell_type": "markdown",
   "id": "644850da",
   "metadata": {},
   "source": [
    "nombre_infected      1018\n",
    "nombre_sain          2079\n",
    "nombre_exposed        543\n",
    "nombre_recovered    16360\n",
    "Name: 615, dtype: int64"
   ]
  },
  {
   "cell_type": "markdown",
   "id": "81a275c8",
   "metadata": {},
   "source": [
    "nombre_infected      1017\n",
    "nombre_sain          2066\n",
    "nombre_exposed        565\n",
    "nombre_recovered    16352\n",
    "Name: 616, dtype: int64"
   ]
  },
  {
   "cell_type": "markdown",
   "id": "30f35251",
   "metadata": {},
   "source": [
    "nombre_infected      1025\n",
    "nombre_sain          2085\n",
    "nombre_exposed        542\n",
    "nombre_recovered    16348\n",
    "Name: 617, dtype: int64"
   ]
  },
  {
   "cell_type": "markdown",
   "id": "cf6a3963",
   "metadata": {},
   "source": [
    "nombre_infected      1035\n",
    "nombre_sain          2070\n",
    "nombre_exposed        542\n",
    "nombre_recovered    16353\n",
    "Name: 618, dtype: int64"
   ]
  },
  {
   "cell_type": "markdown",
   "id": "2c62f1b6",
   "metadata": {},
   "source": [
    "nombre_infected      1024\n",
    "nombre_sain          2066\n",
    "nombre_exposed        543\n",
    "nombre_recovered    16367\n",
    "Name: 619, dtype: int64"
   ]
  },
  {
   "cell_type": "markdown",
   "id": "0ef892db",
   "metadata": {},
   "source": [
    "nombre_infected      1009\n",
    "nombre_sain          2066\n",
    "nombre_exposed        534\n",
    "nombre_recovered    16391\n",
    "Name: 620, dtype: int64"
   ]
  },
  {
   "cell_type": "markdown",
   "id": "b8b49a8a",
   "metadata": {},
   "source": [
    "nombre_infected      1023\n",
    "nombre_sain          2066\n",
    "nombre_exposed        506\n",
    "nombre_recovered    16405\n",
    "Name: 621, dtype: int64"
   ]
  },
  {
   "cell_type": "markdown",
   "id": "37340a90",
   "metadata": {},
   "source": [
    "nombre_infected      1015\n",
    "nombre_sain          2078\n",
    "nombre_exposed        503\n",
    "nombre_recovered    16404\n",
    "Name: 622, dtype: int64"
   ]
  },
  {
   "cell_type": "markdown",
   "id": "d7732111",
   "metadata": {},
   "source": [
    "nombre_infected      1034\n",
    "nombre_sain          2108\n",
    "nombre_exposed        471\n",
    "nombre_recovered    16387\n",
    "Name: 623, dtype: int64"
   ]
  },
  {
   "cell_type": "markdown",
   "id": "bd328b2d",
   "metadata": {},
   "source": [
    "nombre_infected      1023\n",
    "nombre_sain          2118\n",
    "nombre_exposed        480\n",
    "nombre_recovered    16379\n",
    "Name: 624, dtype: int64"
   ]
  },
  {
   "cell_type": "markdown",
   "id": "56473db6",
   "metadata": {},
   "source": [
    "nombre_infected      1040\n",
    "nombre_sain          2106\n",
    "nombre_exposed        486\n",
    "nombre_recovered    16368\n",
    "Name: 625, dtype: int64"
   ]
  },
  {
   "cell_type": "markdown",
   "id": "362253fc",
   "metadata": {},
   "source": [
    "nombre_infected      1043\n",
    "nombre_sain          2062\n",
    "nombre_exposed        510\n",
    "nombre_recovered    16385\n",
    "Name: 626, dtype: int64"
   ]
  },
  {
   "cell_type": "markdown",
   "id": "2651623e",
   "metadata": {},
   "source": [
    "nombre_infected      1023\n",
    "nombre_sain          2046\n",
    "nombre_exposed        545\n",
    "nombre_recovered    16386\n",
    "Name: 627, dtype: int64"
   ]
  },
  {
   "cell_type": "markdown",
   "id": "2b8a34f1",
   "metadata": {},
   "source": [
    "nombre_infected       985\n",
    "nombre_sain          2061\n",
    "nombre_exposed        551\n",
    "nombre_recovered    16403\n",
    "Name: 628, dtype: int64"
   ]
  },
  {
   "cell_type": "markdown",
   "id": "d55c1550",
   "metadata": {},
   "source": [
    "nombre_infected       998\n",
    "nombre_sain          2029\n",
    "nombre_exposed        570\n",
    "nombre_recovered    16403\n",
    "Name: 629, dtype: int64"
   ]
  },
  {
   "cell_type": "markdown",
   "id": "05606cb7",
   "metadata": {},
   "source": [
    "nombre_infected      1017\n",
    "nombre_sain          2020\n",
    "nombre_exposed        546\n",
    "nombre_recovered    16417\n",
    "Name: 630, dtype: int64"
   ]
  },
  {
   "cell_type": "markdown",
   "id": "bc721a8e",
   "metadata": {},
   "source": [
    "nombre_infected      1012\n",
    "nombre_sain          2014\n",
    "nombre_exposed        534\n",
    "nombre_recovered    16440\n",
    "Name: 631, dtype: int64"
   ]
  },
  {
   "cell_type": "markdown",
   "id": "a578cb63",
   "metadata": {},
   "source": [
    "nombre_infected      1023\n",
    "nombre_sain          1997\n",
    "nombre_exposed        513\n",
    "nombre_recovered    16467\n",
    "Name: 632, dtype: int64"
   ]
  },
  {
   "cell_type": "markdown",
   "id": "23b3f258",
   "metadata": {},
   "source": [
    "nombre_infected      1025\n",
    "nombre_sain          1986\n",
    "nombre_exposed        518\n",
    "nombre_recovered    16471\n",
    "Name: 633, dtype: int64"
   ]
  },
  {
   "cell_type": "markdown",
   "id": "948c4036",
   "metadata": {},
   "source": [
    "nombre_infected      1031\n",
    "nombre_sain          1984\n",
    "nombre_exposed        514\n",
    "nombre_recovered    16471\n",
    "Name: 634, dtype: int64"
   ]
  },
  {
   "cell_type": "markdown",
   "id": "88e8459c",
   "metadata": {},
   "source": [
    "nombre_infected      1051\n",
    "nombre_sain          1986\n",
    "nombre_exposed        508\n",
    "nombre_recovered    16455\n",
    "Name: 635, dtype: int64"
   ]
  },
  {
   "cell_type": "markdown",
   "id": "7cc15929",
   "metadata": {},
   "source": [
    "nombre_infected      1045\n",
    "nombre_sain          1987\n",
    "nombre_exposed        508\n",
    "nombre_recovered    16460\n",
    "Name: 636, dtype: int64"
   ]
  },
  {
   "cell_type": "markdown",
   "id": "f2fa1147",
   "metadata": {},
   "source": [
    "nombre_infected      1035\n",
    "nombre_sain          1991\n",
    "nombre_exposed        517\n",
    "nombre_recovered    16457\n",
    "Name: 637, dtype: int64"
   ]
  },
  {
   "cell_type": "markdown",
   "id": "97ec5a11",
   "metadata": {},
   "source": [
    "nombre_infected      1035\n",
    "nombre_sain          1969\n",
    "nombre_exposed        503\n",
    "nombre_recovered    16493\n",
    "Name: 638, dtype: int64"
   ]
  },
  {
   "cell_type": "markdown",
   "id": "aa6a14e6",
   "metadata": {},
   "source": [
    "nombre_infected      1032\n",
    "nombre_sain          1965\n",
    "nombre_exposed        508\n",
    "nombre_recovered    16495\n",
    "Name: 639, dtype: int64"
   ]
  },
  {
   "cell_type": "markdown",
   "id": "c5745ebe",
   "metadata": {},
   "source": [
    "nombre_infected      1011\n",
    "nombre_sain          1954\n",
    "nombre_exposed        514\n",
    "nombre_recovered    16521\n",
    "Name: 640, dtype: int64"
   ]
  },
  {
   "cell_type": "markdown",
   "id": "46ca3331",
   "metadata": {},
   "source": [
    "nombre_infected      1003\n",
    "nombre_sain          1962\n",
    "nombre_exposed        490\n",
    "nombre_recovered    16545\n",
    "Name: 641, dtype: int64"
   ]
  },
  {
   "cell_type": "markdown",
   "id": "f5cb1fda",
   "metadata": {},
   "source": [
    "nombre_infected      1003\n",
    "nombre_sain          1973\n",
    "nombre_exposed        478\n",
    "nombre_recovered    16546\n",
    "Name: 642, dtype: int64"
   ]
  },
  {
   "cell_type": "markdown",
   "id": "28148aef",
   "metadata": {},
   "source": [
    "nombre_infected       991\n",
    "nombre_sain          1979\n",
    "nombre_exposed        498\n",
    "nombre_recovered    16532\n",
    "Name: 643, dtype: int64"
   ]
  },
  {
   "cell_type": "markdown",
   "id": "bb1cd382",
   "metadata": {},
   "source": [
    "nombre_infected       994\n",
    "nombre_sain          2006\n",
    "nombre_exposed        467\n",
    "nombre_recovered    16533\n",
    "Name: 644, dtype: int64"
   ]
  },
  {
   "cell_type": "markdown",
   "id": "94976ed2",
   "metadata": {},
   "source": [
    "nombre_infected      1011\n",
    "nombre_sain          2002\n",
    "nombre_exposed        478\n",
    "nombre_recovered    16509\n",
    "Name: 645, dtype: int64"
   ]
  },
  {
   "cell_type": "markdown",
   "id": "34350b1f",
   "metadata": {},
   "source": [
    "nombre_infected       974\n",
    "nombre_sain          2008\n",
    "nombre_exposed        500\n",
    "nombre_recovered    16518\n",
    "Name: 646, dtype: int64"
   ]
  },
  {
   "cell_type": "markdown",
   "id": "4155a26d",
   "metadata": {},
   "source": [
    "nombre_infected       982\n",
    "nombre_sain          2009\n",
    "nombre_exposed        508\n",
    "nombre_recovered    16501\n",
    "Name: 647, dtype: int64"
   ]
  },
  {
   "cell_type": "markdown",
   "id": "dd550750",
   "metadata": {},
   "source": [
    "nombre_infected       993\n",
    "nombre_sain          1999\n",
    "nombre_exposed        505\n",
    "nombre_recovered    16503\n",
    "Name: 648, dtype: int64"
   ]
  },
  {
   "cell_type": "markdown",
   "id": "9c684ab5",
   "metadata": {},
   "source": [
    "nombre_infected       976\n",
    "nombre_sain          2028\n",
    "nombre_exposed        496\n",
    "nombre_recovered    16500\n",
    "Name: 649, dtype: int64"
   ]
  },
  {
   "cell_type": "markdown",
   "id": "f73cd92f",
   "metadata": {},
   "source": [
    "nombre_infected       967\n",
    "nombre_sain          2020\n",
    "nombre_exposed        489\n",
    "nombre_recovered    16524\n",
    "Name: 650, dtype: int64"
   ]
  },
  {
   "cell_type": "markdown",
   "id": "8774e565",
   "metadata": {},
   "source": [
    "nombre_infected       964\n",
    "nombre_sain          1999\n",
    "nombre_exposed        499\n",
    "nombre_recovered    16538\n",
    "Name: 651, dtype: int64"
   ]
  },
  {
   "cell_type": "markdown",
   "id": "0d93b5f4",
   "metadata": {},
   "source": [
    "nombre_infected       960\n",
    "nombre_sain          1989\n",
    "nombre_exposed        494\n",
    "nombre_recovered    16557\n",
    "Name: 652, dtype: int64"
   ]
  },
  {
   "cell_type": "markdown",
   "id": "c7867193",
   "metadata": {},
   "source": [
    "nombre_infected       964\n",
    "nombre_sain          1966\n",
    "nombre_exposed        506\n",
    "nombre_recovered    16564\n",
    "Name: 653, dtype: int64"
   ]
  },
  {
   "cell_type": "markdown",
   "id": "e11ab3b3",
   "metadata": {},
   "source": [
    "nombre_infected       957\n",
    "nombre_sain          1972\n",
    "nombre_exposed        500\n",
    "nombre_recovered    16571\n",
    "Name: 654, dtype: int64"
   ]
  },
  {
   "cell_type": "markdown",
   "id": "fb5a5313",
   "metadata": {},
   "source": [
    "nombre_infected       949\n",
    "nombre_sain          1974\n",
    "nombre_exposed        495\n",
    "nombre_recovered    16582\n",
    "Name: 655, dtype: int64"
   ]
  },
  {
   "cell_type": "markdown",
   "id": "a6d13eef",
   "metadata": {},
   "source": [
    "nombre_infected       947\n",
    "nombre_sain          1951\n",
    "nombre_exposed        502\n",
    "nombre_recovered    16600\n",
    "Name: 656, dtype: int64"
   ]
  },
  {
   "cell_type": "markdown",
   "id": "01c53ec9",
   "metadata": {},
   "source": [
    "nombre_infected       948\n",
    "nombre_sain          1953\n",
    "nombre_exposed        503\n",
    "nombre_recovered    16596\n",
    "Name: 657, dtype: int64"
   ]
  },
  {
   "cell_type": "markdown",
   "id": "b5a93a40",
   "metadata": {},
   "source": [
    "nombre_infected       923\n",
    "nombre_sain          1995\n",
    "nombre_exposed        488\n",
    "nombre_recovered    16594\n",
    "Name: 658, dtype: int64"
   ]
  },
  {
   "cell_type": "markdown",
   "id": "d7f969fa",
   "metadata": {},
   "source": [
    "nombre_infected       933\n",
    "nombre_sain          2019\n",
    "nombre_exposed        458\n",
    "nombre_recovered    16590\n",
    "Name: 659, dtype: int64"
   ]
  },
  {
   "cell_type": "markdown",
   "id": "5333fa96",
   "metadata": {},
   "source": [
    "nombre_infected       920\n",
    "nombre_sain          2006\n",
    "nombre_exposed        479\n",
    "nombre_recovered    16595\n",
    "Name: 660, dtype: int64"
   ]
  },
  {
   "cell_type": "markdown",
   "id": "97a87b52",
   "metadata": {},
   "source": [
    "nombre_infected       918\n",
    "nombre_sain          2026\n",
    "nombre_exposed        462\n",
    "nombre_recovered    16594\n",
    "Name: 661, dtype: int64"
   ]
  },
  {
   "cell_type": "markdown",
   "id": "a27adf07",
   "metadata": {},
   "source": [
    "nombre_infected       937\n",
    "nombre_sain          2032\n",
    "nombre_exposed        443\n",
    "nombre_recovered    16588\n",
    "Name: 662, dtype: int64"
   ]
  },
  {
   "cell_type": "markdown",
   "id": "845d1228",
   "metadata": {},
   "source": [
    "nombre_infected       938\n",
    "nombre_sain          2042\n",
    "nombre_exposed        466\n",
    "nombre_recovered    16554\n",
    "Name: 663, dtype: int64"
   ]
  },
  {
   "cell_type": "markdown",
   "id": "6f58314c",
   "metadata": {},
   "source": [
    "nombre_infected       937\n",
    "nombre_sain          2029\n",
    "nombre_exposed        473\n",
    "nombre_recovered    16561\n",
    "Name: 664, dtype: int64"
   ]
  },
  {
   "cell_type": "markdown",
   "id": "59eb11dd",
   "metadata": {},
   "source": [
    "nombre_infected       907\n",
    "nombre_sain          2018\n",
    "nombre_exposed        496\n",
    "nombre_recovered    16579\n",
    "Name: 665, dtype: int64"
   ]
  },
  {
   "cell_type": "markdown",
   "id": "cc5f1028",
   "metadata": {},
   "source": [
    "nombre_infected       885\n",
    "nombre_sain          2009\n",
    "nombre_exposed        512\n",
    "nombre_recovered    16594\n",
    "Name: 666, dtype: int64"
   ]
  },
  {
   "cell_type": "markdown",
   "id": "d1a56b30",
   "metadata": {},
   "source": [
    "nombre_infected       879\n",
    "nombre_sain          2000\n",
    "nombre_exposed        509\n",
    "nombre_recovered    16612\n",
    "Name: 667, dtype: int64"
   ]
  },
  {
   "cell_type": "markdown",
   "id": "6b449bcc",
   "metadata": {},
   "source": [
    "nombre_infected       901\n",
    "nombre_sain          1991\n",
    "nombre_exposed        509\n",
    "nombre_recovered    16599\n",
    "Name: 668, dtype: int64"
   ]
  },
  {
   "cell_type": "markdown",
   "id": "4a98daa4",
   "metadata": {},
   "source": [
    "nombre_infected       910\n",
    "nombre_sain          2021\n",
    "nombre_exposed        481\n",
    "nombre_recovered    16588\n",
    "Name: 669, dtype: int64"
   ]
  },
  {
   "cell_type": "markdown",
   "id": "5e009d71",
   "metadata": {},
   "source": [
    "nombre_infected       933\n",
    "nombre_sain          2023\n",
    "nombre_exposed        474\n",
    "nombre_recovered    16570\n",
    "Name: 670, dtype: int64"
   ]
  },
  {
   "cell_type": "markdown",
   "id": "80fe9144",
   "metadata": {},
   "source": [
    "nombre_infected       926\n",
    "nombre_sain          2018\n",
    "nombre_exposed        478\n",
    "nombre_recovered    16578\n",
    "Name: 671, dtype: int64"
   ]
  },
  {
   "cell_type": "markdown",
   "id": "254356aa",
   "metadata": {},
   "source": [
    "nombre_infected       891\n",
    "nombre_sain          2025\n",
    "nombre_exposed        511\n",
    "nombre_recovered    16573\n",
    "Name: 672, dtype: int64"
   ]
  },
  {
   "cell_type": "markdown",
   "id": "4dacea0e",
   "metadata": {},
   "source": [
    "nombre_infected       915\n",
    "nombre_sain          2016\n",
    "nombre_exposed        496\n",
    "nombre_recovered    16573\n",
    "Name: 673, dtype: int64"
   ]
  },
  {
   "cell_type": "markdown",
   "id": "d68c3d34",
   "metadata": {},
   "source": [
    "nombre_infected       903\n",
    "nombre_sain          2026\n",
    "nombre_exposed        499\n",
    "nombre_recovered    16572\n",
    "Name: 674, dtype: int64"
   ]
  },
  {
   "cell_type": "markdown",
   "id": "e673e1c2",
   "metadata": {},
   "source": [
    "nombre_infected       895\n",
    "nombre_sain          2020\n",
    "nombre_exposed        495\n",
    "nombre_recovered    16590\n",
    "Name: 675, dtype: int64"
   ]
  },
  {
   "cell_type": "markdown",
   "id": "8e4a8f98",
   "metadata": {},
   "source": [
    "nombre_infected       887\n",
    "nombre_sain          2029\n",
    "nombre_exposed        499\n",
    "nombre_recovered    16585\n",
    "Name: 676, dtype: int64"
   ]
  },
  {
   "cell_type": "markdown",
   "id": "8cb53d51",
   "metadata": {},
   "source": [
    "nombre_infected       882\n",
    "nombre_sain          2045\n",
    "nombre_exposed        494\n",
    "nombre_recovered    16579\n",
    "Name: 677, dtype: int64"
   ]
  },
  {
   "cell_type": "markdown",
   "id": "5c2a7ac4",
   "metadata": {},
   "source": [
    "nombre_infected       917\n",
    "nombre_sain          2041\n",
    "nombre_exposed        472\n",
    "nombre_recovered    16570\n",
    "Name: 678, dtype: int64"
   ]
  },
  {
   "cell_type": "markdown",
   "id": "89a6f7b6",
   "metadata": {},
   "source": [
    "nombre_infected       886\n",
    "nombre_sain          2018\n",
    "nombre_exposed        487\n",
    "nombre_recovered    16609\n",
    "Name: 679, dtype: int64"
   ]
  },
  {
   "cell_type": "markdown",
   "id": "8a64c144",
   "metadata": {},
   "source": [
    "nombre_infected       882\n",
    "nombre_sain          2011\n",
    "nombre_exposed        506\n",
    "nombre_recovered    16601\n",
    "Name: 680, dtype: int64"
   ]
  },
  {
   "cell_type": "markdown",
   "id": "c05770bc",
   "metadata": {},
   "source": [
    "nombre_infected       875\n",
    "nombre_sain          2003\n",
    "nombre_exposed        491\n",
    "nombre_recovered    16631\n",
    "Name: 681, dtype: int64"
   ]
  },
  {
   "cell_type": "markdown",
   "id": "fc21c695",
   "metadata": {},
   "source": [
    "nombre_infected       857\n",
    "nombre_sain          2001\n",
    "nombre_exposed        506\n",
    "nombre_recovered    16636\n",
    "Name: 682, dtype: int64"
   ]
  },
  {
   "cell_type": "markdown",
   "id": "f7bd9e4b",
   "metadata": {},
   "source": [
    "nombre_infected       871\n",
    "nombre_sain          2000\n",
    "nombre_exposed        486\n",
    "nombre_recovered    16643\n",
    "Name: 683, dtype: int64"
   ]
  },
  {
   "cell_type": "markdown",
   "id": "d565caf1",
   "metadata": {},
   "source": [
    "nombre_infected       876\n",
    "nombre_sain          1979\n",
    "nombre_exposed        495\n",
    "nombre_recovered    16650\n",
    "Name: 684, dtype: int64"
   ]
  },
  {
   "cell_type": "markdown",
   "id": "f5cb2067",
   "metadata": {},
   "source": [
    "nombre_infected       869\n",
    "nombre_sain          1981\n",
    "nombre_exposed        493\n",
    "nombre_recovered    16657\n",
    "Name: 685, dtype: int64"
   ]
  },
  {
   "cell_type": "markdown",
   "id": "5e754eb2",
   "metadata": {},
   "source": [
    "nombre_infected       880\n",
    "nombre_sain          1997\n",
    "nombre_exposed        478\n",
    "nombre_recovered    16645\n",
    "Name: 686, dtype: int64"
   ]
  },
  {
   "cell_type": "markdown",
   "id": "6f485869",
   "metadata": {},
   "source": [
    "nombre_infected       867\n",
    "nombre_sain          1996\n",
    "nombre_exposed        475\n",
    "nombre_recovered    16662\n",
    "Name: 687, dtype: int64"
   ]
  },
  {
   "cell_type": "markdown",
   "id": "b400f8de",
   "metadata": {},
   "source": [
    "nombre_infected       855\n",
    "nombre_sain          1994\n",
    "nombre_exposed        480\n",
    "nombre_recovered    16671\n",
    "Name: 688, dtype: int64"
   ]
  },
  {
   "cell_type": "markdown",
   "id": "b13fca01",
   "metadata": {},
   "source": [
    "nombre_infected       862\n",
    "nombre_sain          2001\n",
    "nombre_exposed        459\n",
    "nombre_recovered    16678\n",
    "Name: 689, dtype: int64"
   ]
  },
  {
   "cell_type": "markdown",
   "id": "fd010e8d",
   "metadata": {},
   "source": [
    "nombre_infected       856\n",
    "nombre_sain          1997\n",
    "nombre_exposed        459\n",
    "nombre_recovered    16688\n",
    "Name: 690, dtype: int64"
   ]
  },
  {
   "cell_type": "markdown",
   "id": "69a9f03a",
   "metadata": {},
   "source": [
    "nombre_infected       866\n",
    "nombre_sain          1992\n",
    "nombre_exposed        471\n",
    "nombre_recovered    16671\n",
    "Name: 691, dtype: int64"
   ]
  },
  {
   "cell_type": "markdown",
   "id": "19226ac9",
   "metadata": {},
   "source": [
    "nombre_infected       856\n",
    "nombre_sain          1999\n",
    "nombre_exposed        473\n",
    "nombre_recovered    16672\n",
    "Name: 692, dtype: int64"
   ]
  },
  {
   "cell_type": "markdown",
   "id": "e537f89e",
   "metadata": {},
   "source": [
    "nombre_infected       836\n",
    "nombre_sain          1999\n",
    "nombre_exposed        491\n",
    "nombre_recovered    16674\n",
    "Name: 693, dtype: int64"
   ]
  },
  {
   "cell_type": "markdown",
   "id": "63b12d7b",
   "metadata": {},
   "source": [
    "nombre_infected       854\n",
    "nombre_sain          1985\n",
    "nombre_exposed        484\n",
    "nombre_recovered    16677\n",
    "Name: 694, dtype: int64"
   ]
  },
  {
   "cell_type": "markdown",
   "id": "2b950bcc",
   "metadata": {},
   "source": [
    "nombre_infected       865\n",
    "nombre_sain          1987\n",
    "nombre_exposed        487\n",
    "nombre_recovered    16661\n",
    "Name: 695, dtype: int64"
   ]
  },
  {
   "cell_type": "markdown",
   "id": "52ee55a2",
   "metadata": {},
   "source": [
    "nombre_infected       854\n",
    "nombre_sain          1979\n",
    "nombre_exposed        485\n",
    "nombre_recovered    16682\n",
    "Name: 696, dtype: int64"
   ]
  },
  {
   "cell_type": "markdown",
   "id": "0b6c472a",
   "metadata": {},
   "source": [
    "nombre_infected       856\n",
    "nombre_sain          1988\n",
    "nombre_exposed        490\n",
    "nombre_recovered    16666\n",
    "Name: 697, dtype: int64"
   ]
  },
  {
   "cell_type": "markdown",
   "id": "2953938d",
   "metadata": {},
   "source": [
    "nombre_infected       894\n",
    "nombre_sain          2005\n",
    "nombre_exposed        447\n",
    "nombre_recovered    16654\n",
    "Name: 698, dtype: int64"
   ]
  },
  {
   "cell_type": "markdown",
   "id": "b4d300be",
   "metadata": {},
   "source": [
    "nombre_infected       885\n",
    "nombre_sain          2010\n",
    "nombre_exposed        450\n",
    "nombre_recovered    16655\n",
    "Name: 699, dtype: int64"
   ]
  },
  {
   "cell_type": "markdown",
   "id": "33cf3265",
   "metadata": {},
   "source": [
    "nombre_infected       904\n",
    "nombre_sain          2010\n",
    "nombre_exposed        460\n",
    "nombre_recovered    16626\n",
    "Name: 700, dtype: int64"
   ]
  },
  {
   "cell_type": "markdown",
   "id": "b86428ae",
   "metadata": {},
   "source": [
    "nombre_infected       900\n",
    "nombre_sain          2011\n",
    "nombre_exposed        472\n",
    "nombre_recovered    16617\n",
    "Name: 701, dtype: int64"
   ]
  },
  {
   "cell_type": "markdown",
   "id": "1e4db9a1",
   "metadata": {},
   "source": [
    "nombre_infected       884\n",
    "nombre_sain          2031\n",
    "nombre_exposed        464\n",
    "nombre_recovered    16621\n",
    "Name: 702, dtype: int64"
   ]
  },
  {
   "cell_type": "markdown",
   "id": "0f2ebf25",
   "metadata": {},
   "source": [
    "nombre_infected       893\n",
    "nombre_sain          2015\n",
    "nombre_exposed        473\n",
    "nombre_recovered    16619\n",
    "Name: 703, dtype: int64"
   ]
  },
  {
   "cell_type": "markdown",
   "id": "f9797d6f",
   "metadata": {},
   "source": [
    "nombre_infected       895\n",
    "nombre_sain          2050\n",
    "nombre_exposed        447\n",
    "nombre_recovered    16608\n",
    "Name: 704, dtype: int64"
   ]
  },
  {
   "cell_type": "markdown",
   "id": "15e05562",
   "metadata": {},
   "source": [
    "nombre_infected       895\n",
    "nombre_sain          2055\n",
    "nombre_exposed        431\n",
    "nombre_recovered    16619\n",
    "Name: 705, dtype: int64"
   ]
  },
  {
   "cell_type": "markdown",
   "id": "37cc1a0f",
   "metadata": {},
   "source": [
    "nombre_infected       903\n",
    "nombre_sain          2034\n",
    "nombre_exposed        437\n",
    "nombre_recovered    16626\n",
    "Name: 706, dtype: int64"
   ]
  },
  {
   "cell_type": "markdown",
   "id": "4da344e7",
   "metadata": {},
   "source": [
    "nombre_infected       906\n",
    "nombre_sain          2047\n",
    "nombre_exposed        437\n",
    "nombre_recovered    16610\n",
    "Name: 707, dtype: int64"
   ]
  },
  {
   "cell_type": "markdown",
   "id": "d539bf54",
   "metadata": {},
   "source": [
    "nombre_infected       916\n",
    "nombre_sain          2046\n",
    "nombre_exposed        451\n",
    "nombre_recovered    16587\n",
    "Name: 708, dtype: int64"
   ]
  },
  {
   "cell_type": "markdown",
   "id": "ee0b0147",
   "metadata": {},
   "source": [
    "nombre_infected       907\n",
    "nombre_sain          2019\n",
    "nombre_exposed        477\n",
    "nombre_recovered    16597\n",
    "Name: 709, dtype: int64"
   ]
  },
  {
   "cell_type": "markdown",
   "id": "6c89c1a2",
   "metadata": {},
   "source": [
    "nombre_infected       884\n",
    "nombre_sain          2020\n",
    "nombre_exposed        474\n",
    "nombre_recovered    16622\n",
    "Name: 710, dtype: int64"
   ]
  },
  {
   "cell_type": "markdown",
   "id": "036270ee",
   "metadata": {},
   "source": [
    "nombre_infected       868\n",
    "nombre_sain          2039\n",
    "nombre_exposed        457\n",
    "nombre_recovered    16636\n",
    "Name: 711, dtype: int64"
   ]
  },
  {
   "cell_type": "markdown",
   "id": "9e55f9f2",
   "metadata": {},
   "source": [
    "nombre_infected       870\n",
    "nombre_sain          2061\n",
    "nombre_exposed        456\n",
    "nombre_recovered    16613\n",
    "Name: 712, dtype: int64"
   ]
  },
  {
   "cell_type": "markdown",
   "id": "f2840ecb",
   "metadata": {},
   "source": [
    "nombre_infected       857\n",
    "nombre_sain          2071\n",
    "nombre_exposed        473\n",
    "nombre_recovered    16599\n",
    "Name: 713, dtype: int64"
   ]
  },
  {
   "cell_type": "markdown",
   "id": "c8d190ee",
   "metadata": {},
   "source": [
    "nombre_infected       852\n",
    "nombre_sain          2083\n",
    "nombre_exposed        469\n",
    "nombre_recovered    16596\n",
    "Name: 714, dtype: int64"
   ]
  },
  {
   "cell_type": "markdown",
   "id": "aae0b981",
   "metadata": {},
   "source": [
    "nombre_infected       849\n",
    "nombre_sain          2105\n",
    "nombre_exposed        446\n",
    "nombre_recovered    16600\n",
    "Name: 715, dtype: int64"
   ]
  },
  {
   "cell_type": "markdown",
   "id": "b8b13284",
   "metadata": {},
   "source": [
    "nombre_infected       827\n",
    "nombre_sain          2139\n",
    "nombre_exposed        462\n",
    "nombre_recovered    16572\n",
    "Name: 716, dtype: int64"
   ]
  },
  {
   "cell_type": "markdown",
   "id": "5b779729",
   "metadata": {},
   "source": [
    "nombre_infected       848\n",
    "nombre_sain          2156\n",
    "nombre_exposed        452\n",
    "nombre_recovered    16544\n",
    "Name: 717, dtype: int64"
   ]
  },
  {
   "cell_type": "markdown",
   "id": "35957e73",
   "metadata": {},
   "source": [
    "nombre_infected       842\n",
    "nombre_sain          2181\n",
    "nombre_exposed        458\n",
    "nombre_recovered    16519\n",
    "Name: 718, dtype: int64"
   ]
  },
  {
   "cell_type": "markdown",
   "id": "74153e19",
   "metadata": {},
   "source": [
    "nombre_infected       821\n",
    "nombre_sain          2190\n",
    "nombre_exposed        467\n",
    "nombre_recovered    16522\n",
    "Name: 719, dtype: int64"
   ]
  },
  {
   "cell_type": "markdown",
   "id": "3aaf6596",
   "metadata": {},
   "source": [
    "nombre_infected       815\n",
    "nombre_sain          2190\n",
    "nombre_exposed        493\n",
    "nombre_recovered    16502\n",
    "Name: 720, dtype: int64"
   ]
  },
  {
   "cell_type": "markdown",
   "id": "264f73a8",
   "metadata": {},
   "source": [
    "nombre_infected       819\n",
    "nombre_sain          2179\n",
    "nombre_exposed        504\n",
    "nombre_recovered    16498\n",
    "Name: 721, dtype: int64"
   ]
  },
  {
   "cell_type": "markdown",
   "id": "03fee2d8",
   "metadata": {},
   "source": [
    "nombre_infected       849\n",
    "nombre_sain          2189\n",
    "nombre_exposed        496\n",
    "nombre_recovered    16466\n",
    "Name: 722, dtype: int64"
   ]
  },
  {
   "cell_type": "markdown",
   "id": "892c8a94",
   "metadata": {},
   "source": [
    "nombre_infected       820\n",
    "nombre_sain          2212\n",
    "nombre_exposed        505\n",
    "nombre_recovered    16463\n",
    "Name: 723, dtype: int64"
   ]
  },
  {
   "cell_type": "markdown",
   "id": "e5c6f625",
   "metadata": {},
   "source": [
    "nombre_infected       824\n",
    "nombre_sain          2202\n",
    "nombre_exposed        516\n",
    "nombre_recovered    16458\n",
    "Name: 724, dtype: int64"
   ]
  },
  {
   "cell_type": "markdown",
   "id": "17312d8f",
   "metadata": {},
   "source": [
    "nombre_infected       841\n",
    "nombre_sain          2204\n",
    "nombre_exposed        514\n",
    "nombre_recovered    16441\n",
    "Name: 725, dtype: int64"
   ]
  },
  {
   "cell_type": "markdown",
   "id": "54313d86",
   "metadata": {},
   "source": [
    "nombre_infected       843\n",
    "nombre_sain          2229\n",
    "nombre_exposed        508\n",
    "nombre_recovered    16420\n",
    "Name: 726, dtype: int64"
   ]
  },
  {
   "cell_type": "markdown",
   "id": "74ed1ab0",
   "metadata": {},
   "source": [
    "nombre_infected       856\n",
    "nombre_sain          2208\n",
    "nombre_exposed        516\n",
    "nombre_recovered    16420\n",
    "Name: 727, dtype: int64"
   ]
  },
  {
   "cell_type": "markdown",
   "id": "13e537d3",
   "metadata": {},
   "source": [
    "nombre_infected       847\n",
    "nombre_sain          2211\n",
    "nombre_exposed        522\n",
    "nombre_recovered    16420\n",
    "Name: 728, dtype: int64"
   ]
  },
  {
   "cell_type": "markdown",
   "id": "d3051c36",
   "metadata": {},
   "source": [
    "nombre_infected       836\n",
    "nombre_sain          2222\n",
    "nombre_exposed        510\n",
    "nombre_recovered    16432\n",
    "Name: 729, dtype: int64"
   ]
  },
  {
   "cell_type": "markdown",
   "id": "d427306b",
   "metadata": {},
   "source": [
    "nombre_infected       829\n",
    "nombre_sain          2226\n",
    "nombre_exposed        519\n",
    "nombre_recovered    16426\n",
    "Name: 730, dtype: int64"
   ]
  }
 ],
 "metadata": {},
 "nbformat": 4,
 "nbformat_minor": 5
}
