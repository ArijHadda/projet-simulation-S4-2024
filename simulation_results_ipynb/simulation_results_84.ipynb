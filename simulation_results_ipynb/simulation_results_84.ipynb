{
 "cells": [
  {
   "cell_type": "markdown",
   "id": "33dbf156",
   "metadata": {},
   "source": [
    "nombre_infected        20\n",
    "nombre_sain         19980\n",
    "nombre_exposed          0\n",
    "nombre_recovered        0\n",
    "Name: 0, dtype: int64"
   ]
  },
  {
   "cell_type": "markdown",
   "id": "9f40650a",
   "metadata": {},
   "source": [
    "nombre_infected        20\n",
    "nombre_sain         19954\n",
    "nombre_exposed         26\n",
    "nombre_recovered        0\n",
    "Name: 1, dtype: int64"
   ]
  },
  {
   "cell_type": "markdown",
   "id": "0aef8d1e",
   "metadata": {},
   "source": [
    "nombre_infected         0\n",
    "nombre_sain         19939\n",
    "nombre_exposed         41\n",
    "nombre_recovered       20\n",
    "Name: 2, dtype: int64"
   ]
  },
  {
   "cell_type": "markdown",
   "id": "e793a7d3",
   "metadata": {},
   "source": [
    "nombre_infected         6\n",
    "nombre_sain         19934\n",
    "nombre_exposed         40\n",
    "nombre_recovered       20\n",
    "Name: 3, dtype: int64"
   ]
  },
  {
   "cell_type": "markdown",
   "id": "4b0dcb02",
   "metadata": {},
   "source": [
    "nombre_infected        18\n",
    "nombre_sain         19922\n",
    "nombre_exposed         40\n",
    "nombre_recovered       20\n",
    "Name: 4, dtype: int64"
   ]
  },
  {
   "cell_type": "markdown",
   "id": "f6413406",
   "metadata": {},
   "source": [
    "nombre_infected        27\n",
    "nombre_sain         19897\n",
    "nombre_exposed         55\n",
    "nombre_recovered       21\n",
    "Name: 5, dtype: int64"
   ]
  },
  {
   "cell_type": "markdown",
   "id": "10d82a0a",
   "metadata": {},
   "source": [
    "nombre_infected        35\n",
    "nombre_sain         19859\n",
    "nombre_exposed         83\n",
    "nombre_recovered       23\n",
    "Name: 6, dtype: int64"
   ]
  },
  {
   "cell_type": "markdown",
   "id": "9e6ca30c",
   "metadata": {},
   "source": [
    "nombre_infected        45\n",
    "nombre_sain         19809\n",
    "nombre_exposed        120\n",
    "nombre_recovered       26\n",
    "Name: 7, dtype: int64"
   ]
  },
  {
   "cell_type": "markdown",
   "id": "58447b8b",
   "metadata": {},
   "source": [
    "nombre_infected        69\n",
    "nombre_sain         19726\n",
    "nombre_exposed        177\n",
    "nombre_recovered       28\n",
    "Name: 8, dtype: int64"
   ]
  },
  {
   "cell_type": "markdown",
   "id": "b2a24235",
   "metadata": {},
   "source": [
    "nombre_infected       101\n",
    "nombre_sain         19626\n",
    "nombre_exposed        242\n",
    "nombre_recovered       31\n",
    "Name: 9, dtype: int64"
   ]
  },
  {
   "cell_type": "markdown",
   "id": "9ea22f4f",
   "metadata": {},
   "source": [
    "nombre_infected       133\n",
    "nombre_sain         19489\n",
    "nombre_exposed        338\n",
    "nombre_recovered       40\n",
    "Name: 10, dtype: int64"
   ]
  },
  {
   "cell_type": "markdown",
   "id": "211323a6",
   "metadata": {},
   "source": [
    "nombre_infected       175\n",
    "nombre_sain         19298\n",
    "nombre_exposed        476\n",
    "nombre_recovered       51\n",
    "Name: 11, dtype: int64"
   ]
  },
  {
   "cell_type": "markdown",
   "id": "4f1e84ea",
   "metadata": {},
   "source": [
    "nombre_infected       247\n",
    "nombre_sain         19072\n",
    "nombre_exposed        619\n",
    "nombre_recovered       62\n",
    "Name: 12, dtype: int64"
   ]
  },
  {
   "cell_type": "markdown",
   "id": "a8c97a29",
   "metadata": {},
   "source": [
    "nombre_infected       334\n",
    "nombre_sain         18728\n",
    "nombre_exposed        858\n",
    "nombre_recovered       80\n",
    "Name: 13, dtype: int64"
   ]
  },
  {
   "cell_type": "markdown",
   "id": "c88a709d",
   "metadata": {},
   "source": [
    "nombre_infected       426\n",
    "nombre_sain         18329\n",
    "nombre_exposed       1133\n",
    "nombre_recovered      112\n",
    "Name: 14, dtype: int64"
   ]
  },
  {
   "cell_type": "markdown",
   "id": "4a53aab8",
   "metadata": {},
   "source": [
    "nombre_infected       588\n",
    "nombre_sain         17818\n",
    "nombre_exposed       1450\n",
    "nombre_recovered      144\n",
    "Name: 15, dtype: int64"
   ]
  },
  {
   "cell_type": "markdown",
   "id": "66c094b4",
   "metadata": {},
   "source": [
    "nombre_infected       810\n",
    "nombre_sain         17069\n",
    "nombre_exposed       1936\n",
    "nombre_recovered      185\n",
    "Name: 16, dtype: int64"
   ]
  },
  {
   "cell_type": "markdown",
   "id": "cc5bc8e9",
   "metadata": {},
   "source": [
    "nombre_infected      1051\n",
    "nombre_sain         16126\n",
    "nombre_exposed       2572\n",
    "nombre_recovered      251\n",
    "Name: 17, dtype: int64"
   ]
  },
  {
   "cell_type": "markdown",
   "id": "5ba85321",
   "metadata": {},
   "source": [
    "nombre_infected      1414\n",
    "nombre_sain         15028\n",
    "nombre_exposed       3214\n",
    "nombre_recovered      344\n",
    "Name: 18, dtype: int64"
   ]
  },
  {
   "cell_type": "markdown",
   "id": "dbb61363",
   "metadata": {},
   "source": [
    "nombre_infected      1921\n",
    "nombre_sain         13663\n",
    "nombre_exposed       3962\n",
    "nombre_recovered      454\n",
    "Name: 19, dtype: int64"
   ]
  },
  {
   "cell_type": "markdown",
   "id": "f4493729",
   "metadata": {},
   "source": [
    "nombre_infected      2496\n",
    "nombre_sain         11981\n",
    "nombre_exposed       4921\n",
    "nombre_recovered      602\n",
    "Name: 20, dtype: int64"
   ]
  },
  {
   "cell_type": "markdown",
   "id": "a6c8b4e8",
   "metadata": {},
   "source": [
    "nombre_infected      3197\n",
    "nombre_sain         10158\n",
    "nombre_exposed       5819\n",
    "nombre_recovered      826\n",
    "Name: 21, dtype: int64"
   ]
  },
  {
   "cell_type": "markdown",
   "id": "673ebbc8",
   "metadata": {},
   "source": [
    "nombre_infected     3981\n",
    "nombre_sain         8408\n",
    "nombre_exposed      6513\n",
    "nombre_recovered    1098\n",
    "Name: 22, dtype: int64"
   ]
  },
  {
   "cell_type": "markdown",
   "id": "494de75f",
   "metadata": {},
   "source": [
    "nombre_infected     4986\n",
    "nombre_sain         6674\n",
    "nombre_exposed      6908\n",
    "nombre_recovered    1432\n",
    "Name: 23, dtype: int64"
   ]
  },
  {
   "cell_type": "markdown",
   "id": "2329708b",
   "metadata": {},
   "source": [
    "nombre_infected     6047\n",
    "nombre_sain         5075\n",
    "nombre_exposed      7051\n",
    "nombre_recovered    1827\n",
    "Name: 24, dtype: int64"
   ]
  },
  {
   "cell_type": "markdown",
   "id": "291efea0",
   "metadata": {},
   "source": [
    "nombre_infected     7037\n",
    "nombre_sain         3684\n",
    "nombre_exposed      6878\n",
    "nombre_recovered    2401\n",
    "Name: 25, dtype: int64"
   ]
  },
  {
   "cell_type": "markdown",
   "id": "643216c0",
   "metadata": {},
   "source": [
    "nombre_infected     7798\n",
    "nombre_sain         2607\n",
    "nombre_exposed      6497\n",
    "nombre_recovered    3098\n",
    "Name: 26, dtype: int64"
   ]
  },
  {
   "cell_type": "markdown",
   "id": "88fa69b4",
   "metadata": {},
   "source": [
    "nombre_infected     8490\n",
    "nombre_sain         1807\n",
    "nombre_exposed      5769\n",
    "nombre_recovered    3934\n",
    "Name: 27, dtype: int64"
   ]
  },
  {
   "cell_type": "markdown",
   "id": "e19bc186",
   "metadata": {},
   "source": [
    "nombre_infected     8996\n",
    "nombre_sain         1197\n",
    "nombre_exposed      4977\n",
    "nombre_recovered    4830\n",
    "Name: 28, dtype: int64"
   ]
  },
  {
   "cell_type": "markdown",
   "id": "f9d679b7",
   "metadata": {},
   "source": [
    "nombre_infected     9225\n",
    "nombre_sain          817\n",
    "nombre_exposed      4157\n",
    "nombre_recovered    5801\n",
    "Name: 29, dtype: int64"
   ]
  },
  {
   "cell_type": "markdown",
   "id": "207893a0",
   "metadata": {},
   "source": [
    "nombre_infected     9214\n",
    "nombre_sain          540\n",
    "nombre_exposed      3403\n",
    "nombre_recovered    6843\n",
    "Name: 30, dtype: int64"
   ]
  },
  {
   "cell_type": "markdown",
   "id": "ede732b3",
   "metadata": {},
   "source": [
    "nombre_infected     9010\n",
    "nombre_sain          372\n",
    "nombre_exposed      2689\n",
    "nombre_recovered    7929\n",
    "Name: 31, dtype: int64"
   ]
  },
  {
   "cell_type": "markdown",
   "id": "deb5a218",
   "metadata": {},
   "source": [
    "nombre_infected     8659\n",
    "nombre_sain          275\n",
    "nombre_exposed      2086\n",
    "nombre_recovered    8980\n",
    "Name: 32, dtype: int64"
   ]
  },
  {
   "cell_type": "markdown",
   "id": "f76a8cf4",
   "metadata": {},
   "source": [
    "nombre_infected      8100\n",
    "nombre_sain           215\n",
    "nombre_exposed       1631\n",
    "nombre_recovered    10054\n",
    "Name: 33, dtype: int64"
   ]
  },
  {
   "cell_type": "markdown",
   "id": "2f2a1c14",
   "metadata": {},
   "source": [
    "nombre_infected      7471\n",
    "nombre_sain           162\n",
    "nombre_exposed       1291\n",
    "nombre_recovered    11076\n",
    "Name: 34, dtype: int64"
   ]
  },
  {
   "cell_type": "markdown",
   "id": "ae1e2593",
   "metadata": {},
   "source": [
    "nombre_infected      6793\n",
    "nombre_sain           147\n",
    "nombre_exposed       1020\n",
    "nombre_recovered    12040\n",
    "Name: 35, dtype: int64"
   ]
  },
  {
   "cell_type": "markdown",
   "id": "ebb93b43",
   "metadata": {},
   "source": [
    "nombre_infected      6147\n",
    "nombre_sain           153\n",
    "nombre_exposed        760\n",
    "nombre_recovered    12940\n",
    "Name: 36, dtype: int64"
   ]
  },
  {
   "cell_type": "markdown",
   "id": "458ebeca",
   "metadata": {},
   "source": [
    "nombre_infected      5547\n",
    "nombre_sain           149\n",
    "nombre_exposed        586\n",
    "nombre_recovered    13718\n",
    "Name: 37, dtype: int64"
   ]
  },
  {
   "cell_type": "markdown",
   "id": "a9f13248",
   "metadata": {},
   "source": [
    "nombre_infected      4933\n",
    "nombre_sain           159\n",
    "nombre_exposed        484\n",
    "nombre_recovered    14424\n",
    "Name: 38, dtype: int64"
   ]
  },
  {
   "cell_type": "markdown",
   "id": "44a8a076",
   "metadata": {},
   "source": [
    "nombre_infected      4360\n",
    "nombre_sain           175\n",
    "nombre_exposed        386\n",
    "nombre_recovered    15079\n",
    "Name: 39, dtype: int64"
   ]
  },
  {
   "cell_type": "markdown",
   "id": "1e545c3d",
   "metadata": {},
   "source": [
    "nombre_infected      3898\n",
    "nombre_sain           199\n",
    "nombre_exposed        318\n",
    "nombre_recovered    15585\n",
    "Name: 40, dtype: int64"
   ]
  },
  {
   "cell_type": "markdown",
   "id": "3a91dd96",
   "metadata": {},
   "source": [
    "nombre_infected      3487\n",
    "nombre_sain           216\n",
    "nombre_exposed        265\n",
    "nombre_recovered    16032\n",
    "Name: 41, dtype: int64"
   ]
  },
  {
   "cell_type": "markdown",
   "id": "42c6fe98",
   "metadata": {},
   "source": [
    "nombre_infected      3128\n",
    "nombre_sain           235\n",
    "nombre_exposed        259\n",
    "nombre_recovered    16378\n",
    "Name: 42, dtype: int64"
   ]
  },
  {
   "cell_type": "markdown",
   "id": "c053bea5",
   "metadata": {},
   "source": [
    "nombre_infected      2808\n",
    "nombre_sain           261\n",
    "nombre_exposed        222\n",
    "nombre_recovered    16709\n",
    "Name: 43, dtype: int64"
   ]
  },
  {
   "cell_type": "markdown",
   "id": "ae9e388a",
   "metadata": {},
   "source": [
    "nombre_infected      2563\n",
    "nombre_sain           283\n",
    "nombre_exposed        195\n",
    "nombre_recovered    16959\n",
    "Name: 44, dtype: int64"
   ]
  },
  {
   "cell_type": "markdown",
   "id": "6e7ed099",
   "metadata": {},
   "source": [
    "nombre_infected      2297\n",
    "nombre_sain           303\n",
    "nombre_exposed        184\n",
    "nombre_recovered    17216\n",
    "Name: 45, dtype: int64"
   ]
  },
  {
   "cell_type": "markdown",
   "id": "152572a5",
   "metadata": {},
   "source": [
    "nombre_infected      2057\n",
    "nombre_sain           336\n",
    "nombre_exposed        182\n",
    "nombre_recovered    17425\n",
    "Name: 46, dtype: int64"
   ]
  },
  {
   "cell_type": "markdown",
   "id": "c4eb56b9",
   "metadata": {},
   "source": [
    "nombre_infected      1845\n",
    "nombre_sain           355\n",
    "nombre_exposed        163\n",
    "nombre_recovered    17637\n",
    "Name: 47, dtype: int64"
   ]
  },
  {
   "cell_type": "markdown",
   "id": "886315b0",
   "metadata": {},
   "source": [
    "nombre_infected      1646\n",
    "nombre_sain           375\n",
    "nombre_exposed        143\n",
    "nombre_recovered    17836\n",
    "Name: 48, dtype: int64"
   ]
  },
  {
   "cell_type": "markdown",
   "id": "08607ad2",
   "metadata": {},
   "source": [
    "nombre_infected      1500\n",
    "nombre_sain           405\n",
    "nombre_exposed        131\n",
    "nombre_recovered    17964\n",
    "Name: 49, dtype: int64"
   ]
  },
  {
   "cell_type": "markdown",
   "id": "fcc9946c",
   "metadata": {},
   "source": [
    "nombre_infected      1368\n",
    "nombre_sain           432\n",
    "nombre_exposed        136\n",
    "nombre_recovered    18064\n",
    "Name: 50, dtype: int64"
   ]
  },
  {
   "cell_type": "markdown",
   "id": "322b280a",
   "metadata": {},
   "source": [
    "nombre_infected      1233\n",
    "nombre_sain           459\n",
    "nombre_exposed        130\n",
    "nombre_recovered    18178\n",
    "Name: 51, dtype: int64"
   ]
  },
  {
   "cell_type": "markdown",
   "id": "d66577d5",
   "metadata": {},
   "source": [
    "nombre_infected      1106\n",
    "nombre_sain           477\n",
    "nombre_exposed        124\n",
    "nombre_recovered    18293\n",
    "Name: 52, dtype: int64"
   ]
  },
  {
   "cell_type": "markdown",
   "id": "9f5fc648",
   "metadata": {},
   "source": [
    "nombre_infected      1005\n",
    "nombre_sain           498\n",
    "nombre_exposed        116\n",
    "nombre_recovered    18381\n",
    "Name: 53, dtype: int64"
   ]
  },
  {
   "cell_type": "markdown",
   "id": "1683032b",
   "metadata": {},
   "source": [
    "nombre_infected       907\n",
    "nombre_sain           534\n",
    "nombre_exposed        112\n",
    "nombre_recovered    18447\n",
    "Name: 54, dtype: int64"
   ]
  },
  {
   "cell_type": "markdown",
   "id": "e28cfe63",
   "metadata": {},
   "source": [
    "nombre_infected       825\n",
    "nombre_sain           590\n",
    "nombre_exposed        105\n",
    "nombre_recovered    18480\n",
    "Name: 55, dtype: int64"
   ]
  },
  {
   "cell_type": "markdown",
   "id": "48bce001",
   "metadata": {},
   "source": [
    "nombre_infected       769\n",
    "nombre_sain           630\n",
    "nombre_exposed        106\n",
    "nombre_recovered    18495\n",
    "Name: 56, dtype: int64"
   ]
  },
  {
   "cell_type": "markdown",
   "id": "9c933a07",
   "metadata": {},
   "source": [
    "nombre_infected       710\n",
    "nombre_sain           685\n",
    "nombre_exposed        103\n",
    "nombre_recovered    18502\n",
    "Name: 57, dtype: int64"
   ]
  },
  {
   "cell_type": "markdown",
   "id": "de55178d",
   "metadata": {},
   "source": [
    "nombre_infected       655\n",
    "nombre_sain           732\n",
    "nombre_exposed        107\n",
    "nombre_recovered    18506\n",
    "Name: 58, dtype: int64"
   ]
  },
  {
   "cell_type": "markdown",
   "id": "519cc601",
   "metadata": {},
   "source": [
    "nombre_infected       612\n",
    "nombre_sain           790\n",
    "nombre_exposed        104\n",
    "nombre_recovered    18494\n",
    "Name: 59, dtype: int64"
   ]
  },
  {
   "cell_type": "markdown",
   "id": "0b6cada5",
   "metadata": {},
   "source": [
    "nombre_infected       565\n",
    "nombre_sain           859\n",
    "nombre_exposed         99\n",
    "nombre_recovered    18477\n",
    "Name: 60, dtype: int64"
   ]
  },
  {
   "cell_type": "markdown",
   "id": "70e535cf",
   "metadata": {},
   "source": [
    "nombre_infected       506\n",
    "nombre_sain           928\n",
    "nombre_exposed        114\n",
    "nombre_recovered    18452\n",
    "Name: 61, dtype: int64"
   ]
  },
  {
   "cell_type": "markdown",
   "id": "18432991",
   "metadata": {},
   "source": [
    "nombre_infected       464\n",
    "nombre_sain          1015\n",
    "nombre_exposed        108\n",
    "nombre_recovered    18413\n",
    "Name: 62, dtype: int64"
   ]
  },
  {
   "cell_type": "markdown",
   "id": "74d5a59c",
   "metadata": {},
   "source": [
    "nombre_infected       430\n",
    "nombre_sain          1097\n",
    "nombre_exposed         94\n",
    "nombre_recovered    18379\n",
    "Name: 63, dtype: int64"
   ]
  },
  {
   "cell_type": "markdown",
   "id": "58ef629b",
   "metadata": {},
   "source": [
    "nombre_infected       399\n",
    "nombre_sain          1161\n",
    "nombre_exposed         95\n",
    "nombre_recovered    18345\n",
    "Name: 64, dtype: int64"
   ]
  },
  {
   "cell_type": "markdown",
   "id": "dcbd8bc2",
   "metadata": {},
   "source": [
    "nombre_infected       357\n",
    "nombre_sain          1253\n",
    "nombre_exposed         97\n",
    "nombre_recovered    18293\n",
    "Name: 65, dtype: int64"
   ]
  },
  {
   "cell_type": "markdown",
   "id": "5323a833",
   "metadata": {},
   "source": [
    "nombre_infected       339\n",
    "nombre_sain          1344\n",
    "nombre_exposed         92\n",
    "nombre_recovered    18225\n",
    "Name: 66, dtype: int64"
   ]
  },
  {
   "cell_type": "markdown",
   "id": "3ef89dbe",
   "metadata": {},
   "source": [
    "nombre_infected       311\n",
    "nombre_sain          1409\n",
    "nombre_exposed         92\n",
    "nombre_recovered    18188\n",
    "Name: 67, dtype: int64"
   ]
  },
  {
   "cell_type": "markdown",
   "id": "5a644dcf",
   "metadata": {},
   "source": [
    "nombre_infected       290\n",
    "nombre_sain          1495\n",
    "nombre_exposed        102\n",
    "nombre_recovered    18113\n",
    "Name: 68, dtype: int64"
   ]
  },
  {
   "cell_type": "markdown",
   "id": "0f62c310",
   "metadata": {},
   "source": [
    "nombre_infected       256\n",
    "nombre_sain          1586\n",
    "nombre_exposed         99\n",
    "nombre_recovered    18059\n",
    "Name: 69, dtype: int64"
   ]
  },
  {
   "cell_type": "markdown",
   "id": "e1561455",
   "metadata": {},
   "source": [
    "nombre_infected       238\n",
    "nombre_sain          1666\n",
    "nombre_exposed        103\n",
    "nombre_recovered    17993\n",
    "Name: 70, dtype: int64"
   ]
  },
  {
   "cell_type": "markdown",
   "id": "d760a871",
   "metadata": {},
   "source": [
    "nombre_infected       206\n",
    "nombre_sain          1729\n",
    "nombre_exposed        106\n",
    "nombre_recovered    17959\n",
    "Name: 71, dtype: int64"
   ]
  },
  {
   "cell_type": "markdown",
   "id": "55a984d7",
   "metadata": {},
   "source": [
    "nombre_infected       200\n",
    "nombre_sain          1815\n",
    "nombre_exposed         98\n",
    "nombre_recovered    17887\n",
    "Name: 72, dtype: int64"
   ]
  },
  {
   "cell_type": "markdown",
   "id": "a32a706d",
   "metadata": {},
   "source": [
    "nombre_infected       201\n",
    "nombre_sain          1862\n",
    "nombre_exposed         86\n",
    "nombre_recovered    17851\n",
    "Name: 73, dtype: int64"
   ]
  },
  {
   "cell_type": "markdown",
   "id": "29cf1ce5",
   "metadata": {},
   "source": [
    "nombre_infected       193\n",
    "nombre_sain          1904\n",
    "nombre_exposed         91\n",
    "nombre_recovered    17812\n",
    "Name: 74, dtype: int64"
   ]
  },
  {
   "cell_type": "markdown",
   "id": "94bdf4b8",
   "metadata": {},
   "source": [
    "nombre_infected       184\n",
    "nombre_sain          1952\n",
    "nombre_exposed         99\n",
    "nombre_recovered    17765\n",
    "Name: 75, dtype: int64"
   ]
  },
  {
   "cell_type": "markdown",
   "id": "a15c996d",
   "metadata": {},
   "source": [
    "nombre_infected       180\n",
    "nombre_sain          1996\n",
    "nombre_exposed         89\n",
    "nombre_recovered    17735\n",
    "Name: 76, dtype: int64"
   ]
  },
  {
   "cell_type": "markdown",
   "id": "5d51c429",
   "metadata": {},
   "source": [
    "nombre_infected       178\n",
    "nombre_sain          2052\n",
    "nombre_exposed         79\n",
    "nombre_recovered    17691\n",
    "Name: 77, dtype: int64"
   ]
  },
  {
   "cell_type": "markdown",
   "id": "07d2e6c1",
   "metadata": {},
   "source": [
    "nombre_infected       170\n",
    "nombre_sain          2100\n",
    "nombre_exposed         76\n",
    "nombre_recovered    17654\n",
    "Name: 78, dtype: int64"
   ]
  },
  {
   "cell_type": "markdown",
   "id": "d65a0882",
   "metadata": {},
   "source": [
    "nombre_infected       169\n",
    "nombre_sain          2155\n",
    "nombre_exposed         82\n",
    "nombre_recovered    17594\n",
    "Name: 79, dtype: int64"
   ]
  },
  {
   "cell_type": "markdown",
   "id": "ee040772",
   "metadata": {},
   "source": [
    "nombre_infected       162\n",
    "nombre_sain          2212\n",
    "nombre_exposed         86\n",
    "nombre_recovered    17540\n",
    "Name: 80, dtype: int64"
   ]
  },
  {
   "cell_type": "markdown",
   "id": "5a8a2e05",
   "metadata": {},
   "source": [
    "nombre_infected       157\n",
    "nombre_sain          2246\n",
    "nombre_exposed         99\n",
    "nombre_recovered    17498\n",
    "Name: 81, dtype: int64"
   ]
  },
  {
   "cell_type": "markdown",
   "id": "22b9b333",
   "metadata": {},
   "source": [
    "nombre_infected       154\n",
    "nombre_sain          2308\n",
    "nombre_exposed        102\n",
    "nombre_recovered    17436\n",
    "Name: 82, dtype: int64"
   ]
  },
  {
   "cell_type": "markdown",
   "id": "4d2f7dd3",
   "metadata": {},
   "source": [
    "nombre_infected       154\n",
    "nombre_sain          2350\n",
    "nombre_exposed        110\n",
    "nombre_recovered    17386\n",
    "Name: 83, dtype: int64"
   ]
  },
  {
   "cell_type": "markdown",
   "id": "44fd2092",
   "metadata": {},
   "source": [
    "nombre_infected       169\n",
    "nombre_sain          2406\n",
    "nombre_exposed        101\n",
    "nombre_recovered    17324\n",
    "Name: 84, dtype: int64"
   ]
  },
  {
   "cell_type": "markdown",
   "id": "2d4c5d94",
   "metadata": {},
   "source": [
    "nombre_infected       177\n",
    "nombre_sain          2438\n",
    "nombre_exposed        107\n",
    "nombre_recovered    17278\n",
    "Name: 85, dtype: int64"
   ]
  },
  {
   "cell_type": "markdown",
   "id": "ef1239fd",
   "metadata": {},
   "source": [
    "nombre_infected       176\n",
    "nombre_sain          2485\n",
    "nombre_exposed        110\n",
    "nombre_recovered    17229\n",
    "Name: 86, dtype: int64"
   ]
  },
  {
   "cell_type": "markdown",
   "id": "29e9607b",
   "metadata": {},
   "source": [
    "nombre_infected       165\n",
    "nombre_sain          2524\n",
    "nombre_exposed        108\n",
    "nombre_recovered    17203\n",
    "Name: 87, dtype: int64"
   ]
  },
  {
   "cell_type": "markdown",
   "id": "35534774",
   "metadata": {},
   "source": [
    "nombre_infected       159\n",
    "nombre_sain          2564\n",
    "nombre_exposed        110\n",
    "nombre_recovered    17167\n",
    "Name: 88, dtype: int64"
   ]
  },
  {
   "cell_type": "markdown",
   "id": "0b6e4795",
   "metadata": {},
   "source": [
    "nombre_infected       162\n",
    "nombre_sain          2609\n",
    "nombre_exposed        104\n",
    "nombre_recovered    17125\n",
    "Name: 89, dtype: int64"
   ]
  },
  {
   "cell_type": "markdown",
   "id": "a10d71e9",
   "metadata": {},
   "source": [
    "nombre_infected       160\n",
    "nombre_sain          2648\n",
    "nombre_exposed        106\n",
    "nombre_recovered    17086\n",
    "Name: 90, dtype: int64"
   ]
  },
  {
   "cell_type": "markdown",
   "id": "5ccd0a57",
   "metadata": {},
   "source": [
    "nombre_infected       173\n",
    "nombre_sain          2686\n",
    "nombre_exposed         95\n",
    "nombre_recovered    17046\n",
    "Name: 91, dtype: int64"
   ]
  },
  {
   "cell_type": "markdown",
   "id": "573736d6",
   "metadata": {},
   "source": [
    "nombre_infected       177\n",
    "nombre_sain          2718\n",
    "nombre_exposed         99\n",
    "nombre_recovered    17006\n",
    "Name: 92, dtype: int64"
   ]
  },
  {
   "cell_type": "markdown",
   "id": "9a8237d4",
   "metadata": {},
   "source": [
    "nombre_infected       175\n",
    "nombre_sain          2748\n",
    "nombre_exposed        108\n",
    "nombre_recovered    16969\n",
    "Name: 93, dtype: int64"
   ]
  },
  {
   "cell_type": "markdown",
   "id": "7bbf9d53",
   "metadata": {},
   "source": [
    "nombre_infected       184\n",
    "nombre_sain          2790\n",
    "nombre_exposed        113\n",
    "nombre_recovered    16913\n",
    "Name: 94, dtype: int64"
   ]
  },
  {
   "cell_type": "markdown",
   "id": "2a31ebbd",
   "metadata": {},
   "source": [
    "nombre_infected       189\n",
    "nombre_sain          2817\n",
    "nombre_exposed        121\n",
    "nombre_recovered    16873\n",
    "Name: 95, dtype: int64"
   ]
  },
  {
   "cell_type": "markdown",
   "id": "00338e6f",
   "metadata": {},
   "source": [
    "nombre_infected       192\n",
    "nombre_sain          2874\n",
    "nombre_exposed        121\n",
    "nombre_recovered    16813\n",
    "Name: 96, dtype: int64"
   ]
  },
  {
   "cell_type": "markdown",
   "id": "1bcc40b4",
   "metadata": {},
   "source": [
    "nombre_infected       197\n",
    "nombre_sain          2922\n",
    "nombre_exposed        121\n",
    "nombre_recovered    16760\n",
    "Name: 97, dtype: int64"
   ]
  },
  {
   "cell_type": "markdown",
   "id": "6d40c594",
   "metadata": {},
   "source": [
    "nombre_infected       209\n",
    "nombre_sain          2973\n",
    "nombre_exposed        129\n",
    "nombre_recovered    16689\n",
    "Name: 98, dtype: int64"
   ]
  },
  {
   "cell_type": "markdown",
   "id": "eda7f5e6",
   "metadata": {},
   "source": [
    "nombre_infected       218\n",
    "nombre_sain          3005\n",
    "nombre_exposed        148\n",
    "nombre_recovered    16629\n",
    "Name: 99, dtype: int64"
   ]
  },
  {
   "cell_type": "markdown",
   "id": "d58ee9b2",
   "metadata": {},
   "source": [
    "nombre_infected       224\n",
    "nombre_sain          3040\n",
    "nombre_exposed        162\n",
    "nombre_recovered    16574\n",
    "Name: 100, dtype: int64"
   ]
  },
  {
   "cell_type": "markdown",
   "id": "04b4f066",
   "metadata": {},
   "source": [
    "nombre_infected       226\n",
    "nombre_sain          3075\n",
    "nombre_exposed        171\n",
    "nombre_recovered    16528\n",
    "Name: 101, dtype: int64"
   ]
  },
  {
   "cell_type": "markdown",
   "id": "8115ac9f",
   "metadata": {},
   "source": [
    "nombre_infected       242\n",
    "nombre_sain          3101\n",
    "nombre_exposed        177\n",
    "nombre_recovered    16480\n",
    "Name: 102, dtype: int64"
   ]
  },
  {
   "cell_type": "markdown",
   "id": "642cb6b7",
   "metadata": {},
   "source": [
    "nombre_infected       262\n",
    "nombre_sain          3113\n",
    "nombre_exposed        193\n",
    "nombre_recovered    16432\n",
    "Name: 103, dtype: int64"
   ]
  },
  {
   "cell_type": "markdown",
   "id": "1e937097",
   "metadata": {},
   "source": [
    "nombre_infected       274\n",
    "nombre_sain          3146\n",
    "nombre_exposed        204\n",
    "nombre_recovered    16376\n",
    "Name: 104, dtype: int64"
   ]
  },
  {
   "cell_type": "markdown",
   "id": "d0de40a6",
   "metadata": {},
   "source": [
    "nombre_infected       308\n",
    "nombre_sain          3161\n",
    "nombre_exposed        206\n",
    "nombre_recovered    16325\n",
    "Name: 105, dtype: int64"
   ]
  },
  {
   "cell_type": "markdown",
   "id": "22d74a8e",
   "metadata": {},
   "source": [
    "nombre_infected       329\n",
    "nombre_sain          3184\n",
    "nombre_exposed        211\n",
    "nombre_recovered    16276\n",
    "Name: 106, dtype: int64"
   ]
  },
  {
   "cell_type": "markdown",
   "id": "c831c042",
   "metadata": {},
   "source": [
    "nombre_infected       345\n",
    "nombre_sain          3181\n",
    "nombre_exposed        222\n",
    "nombre_recovered    16252\n",
    "Name: 107, dtype: int64"
   ]
  },
  {
   "cell_type": "markdown",
   "id": "51d0ba0b",
   "metadata": {},
   "source": [
    "nombre_infected       360\n",
    "nombre_sain          3173\n",
    "nombre_exposed        237\n",
    "nombre_recovered    16230\n",
    "Name: 108, dtype: int64"
   ]
  },
  {
   "cell_type": "markdown",
   "id": "5a7e21b8",
   "metadata": {},
   "source": [
    "nombre_infected       388\n",
    "nombre_sain          3163\n",
    "nombre_exposed        263\n",
    "nombre_recovered    16186\n",
    "Name: 109, dtype: int64"
   ]
  },
  {
   "cell_type": "markdown",
   "id": "86183b26",
   "metadata": {},
   "source": [
    "nombre_infected       407\n",
    "nombre_sain          3170\n",
    "nombre_exposed        273\n",
    "nombre_recovered    16150\n",
    "Name: 110, dtype: int64"
   ]
  },
  {
   "cell_type": "markdown",
   "id": "b434b2d2",
   "metadata": {},
   "source": [
    "nombre_infected       417\n",
    "nombre_sain          3160\n",
    "nombre_exposed        283\n",
    "nombre_recovered    16140\n",
    "Name: 111, dtype: int64"
   ]
  },
  {
   "cell_type": "markdown",
   "id": "e2526157",
   "metadata": {},
   "source": [
    "nombre_infected       439\n",
    "nombre_sain          3176\n",
    "nombre_exposed        303\n",
    "nombre_recovered    16082\n",
    "Name: 112, dtype: int64"
   ]
  },
  {
   "cell_type": "markdown",
   "id": "f0eea6e4",
   "metadata": {},
   "source": [
    "nombre_infected       450\n",
    "nombre_sain          3161\n",
    "nombre_exposed        325\n",
    "nombre_recovered    16064\n",
    "Name: 113, dtype: int64"
   ]
  },
  {
   "cell_type": "markdown",
   "id": "26205ded",
   "metadata": {},
   "source": [
    "nombre_infected       463\n",
    "nombre_sain          3147\n",
    "nombre_exposed        352\n",
    "nombre_recovered    16038\n",
    "Name: 114, dtype: int64"
   ]
  },
  {
   "cell_type": "markdown",
   "id": "c8e5ac0c",
   "metadata": {},
   "source": [
    "nombre_infected       492\n",
    "nombre_sain          3141\n",
    "nombre_exposed        361\n",
    "nombre_recovered    16006\n",
    "Name: 115, dtype: int64"
   ]
  },
  {
   "cell_type": "markdown",
   "id": "66e67b8c",
   "metadata": {},
   "source": [
    "nombre_infected       534\n",
    "nombre_sain          3117\n",
    "nombre_exposed        376\n",
    "nombre_recovered    15973\n",
    "Name: 116, dtype: int64"
   ]
  },
  {
   "cell_type": "markdown",
   "id": "6346c0ef",
   "metadata": {},
   "source": [
    "nombre_infected       567\n",
    "nombre_sain          3095\n",
    "nombre_exposed        373\n",
    "nombre_recovered    15965\n",
    "Name: 117, dtype: int64"
   ]
  },
  {
   "cell_type": "markdown",
   "id": "ca39ba3b",
   "metadata": {},
   "source": [
    "nombre_infected       601\n",
    "nombre_sain          3056\n",
    "nombre_exposed        395\n",
    "nombre_recovered    15948\n",
    "Name: 118, dtype: int64"
   ]
  },
  {
   "cell_type": "markdown",
   "id": "f43c2984",
   "metadata": {},
   "source": [
    "nombre_infected       627\n",
    "nombre_sain          3034\n",
    "nombre_exposed        417\n",
    "nombre_recovered    15922\n",
    "Name: 119, dtype: int64"
   ]
  },
  {
   "cell_type": "markdown",
   "id": "814752f8",
   "metadata": {},
   "source": [
    "nombre_infected       653\n",
    "nombre_sain          2992\n",
    "nombre_exposed        456\n",
    "nombre_recovered    15899\n",
    "Name: 120, dtype: int64"
   ]
  },
  {
   "cell_type": "markdown",
   "id": "4a9c3497",
   "metadata": {},
   "source": [
    "nombre_infected       680\n",
    "nombre_sain          2949\n",
    "nombre_exposed        472\n",
    "nombre_recovered    15899\n",
    "Name: 121, dtype: int64"
   ]
  },
  {
   "cell_type": "markdown",
   "id": "40daa7d7",
   "metadata": {},
   "source": [
    "nombre_infected       702\n",
    "nombre_sain          2891\n",
    "nombre_exposed        494\n",
    "nombre_recovered    15913\n",
    "Name: 122, dtype: int64"
   ]
  },
  {
   "cell_type": "markdown",
   "id": "3f674b3f",
   "metadata": {},
   "source": [
    "nombre_infected       765\n",
    "nombre_sain          2845\n",
    "nombre_exposed        493\n",
    "nombre_recovered    15897\n",
    "Name: 123, dtype: int64"
   ]
  },
  {
   "cell_type": "markdown",
   "id": "665db861",
   "metadata": {},
   "source": [
    "nombre_infected       801\n",
    "nombre_sain          2792\n",
    "nombre_exposed        503\n",
    "nombre_recovered    15904\n",
    "Name: 124, dtype: int64"
   ]
  },
  {
   "cell_type": "markdown",
   "id": "cc8863cb",
   "metadata": {},
   "source": [
    "nombre_infected       831\n",
    "nombre_sain          2747\n",
    "nombre_exposed        496\n",
    "nombre_recovered    15926\n",
    "Name: 125, dtype: int64"
   ]
  },
  {
   "cell_type": "markdown",
   "id": "f4536d77",
   "metadata": {},
   "source": [
    "nombre_infected       855\n",
    "nombre_sain          2689\n",
    "nombre_exposed        519\n",
    "nombre_recovered    15937\n",
    "Name: 126, dtype: int64"
   ]
  },
  {
   "cell_type": "markdown",
   "id": "877ad92f",
   "metadata": {},
   "source": [
    "nombre_infected       891\n",
    "nombre_sain          2625\n",
    "nombre_exposed        554\n",
    "nombre_recovered    15930\n",
    "Name: 127, dtype: int64"
   ]
  },
  {
   "cell_type": "markdown",
   "id": "90efec59",
   "metadata": {},
   "source": [
    "nombre_infected       922\n",
    "nombre_sain          2581\n",
    "nombre_exposed        556\n",
    "nombre_recovered    15941\n",
    "Name: 128, dtype: int64"
   ]
  },
  {
   "cell_type": "markdown",
   "id": "d7c7f131",
   "metadata": {},
   "source": [
    "nombre_infected       953\n",
    "nombre_sain          2517\n",
    "nombre_exposed        553\n",
    "nombre_recovered    15977\n",
    "Name: 129, dtype: int64"
   ]
  },
  {
   "cell_type": "markdown",
   "id": "0a27d7e5",
   "metadata": {},
   "source": [
    "nombre_infected       983\n",
    "nombre_sain          2457\n",
    "nombre_exposed        540\n",
    "nombre_recovered    16020\n",
    "Name: 130, dtype: int64"
   ]
  },
  {
   "cell_type": "markdown",
   "id": "8c65b297",
   "metadata": {},
   "source": [
    "nombre_infected       995\n",
    "nombre_sain          2397\n",
    "nombre_exposed        549\n",
    "nombre_recovered    16059\n",
    "Name: 131, dtype: int64"
   ]
  },
  {
   "cell_type": "markdown",
   "id": "064bd559",
   "metadata": {},
   "source": [
    "nombre_infected      1000\n",
    "nombre_sain          2323\n",
    "nombre_exposed        580\n",
    "nombre_recovered    16097\n",
    "Name: 132, dtype: int64"
   ]
  },
  {
   "cell_type": "markdown",
   "id": "411cc831",
   "metadata": {},
   "source": [
    "nombre_infected      1018\n",
    "nombre_sain          2268\n",
    "nombre_exposed        592\n",
    "nombre_recovered    16122\n",
    "Name: 133, dtype: int64"
   ]
  },
  {
   "cell_type": "markdown",
   "id": "45799942",
   "metadata": {},
   "source": [
    "nombre_infected      1038\n",
    "nombre_sain          2232\n",
    "nombre_exposed        600\n",
    "nombre_recovered    16130\n",
    "Name: 134, dtype: int64"
   ]
  },
  {
   "cell_type": "markdown",
   "id": "1dc90a7f",
   "metadata": {},
   "source": [
    "nombre_infected      1066\n",
    "nombre_sain          2186\n",
    "nombre_exposed        584\n",
    "nombre_recovered    16164\n",
    "Name: 135, dtype: int64"
   ]
  },
  {
   "cell_type": "markdown",
   "id": "05567f8c",
   "metadata": {},
   "source": [
    "nombre_infected      1077\n",
    "nombre_sain          2137\n",
    "nombre_exposed        608\n",
    "nombre_recovered    16178\n",
    "Name: 136, dtype: int64"
   ]
  },
  {
   "cell_type": "markdown",
   "id": "68ffa05a",
   "metadata": {},
   "source": [
    "nombre_infected      1096\n",
    "nombre_sain          2110\n",
    "nombre_exposed        580\n",
    "nombre_recovered    16214\n",
    "Name: 137, dtype: int64"
   ]
  },
  {
   "cell_type": "markdown",
   "id": "2ef9fcd9",
   "metadata": {},
   "source": [
    "nombre_infected      1118\n",
    "nombre_sain          2060\n",
    "nombre_exposed        592\n",
    "nombre_recovered    16230\n",
    "Name: 138, dtype: int64"
   ]
  },
  {
   "cell_type": "markdown",
   "id": "cd34f117",
   "metadata": {},
   "source": [
    "nombre_infected      1118\n",
    "nombre_sain          1982\n",
    "nombre_exposed        592\n",
    "nombre_recovered    16308\n",
    "Name: 139, dtype: int64"
   ]
  },
  {
   "cell_type": "markdown",
   "id": "be63effb",
   "metadata": {},
   "source": [
    "nombre_infected      1115\n",
    "nombre_sain          1967\n",
    "nombre_exposed        570\n",
    "nombre_recovered    16348\n",
    "Name: 140, dtype: int64"
   ]
  },
  {
   "cell_type": "markdown",
   "id": "b661dc4d",
   "metadata": {},
   "source": [
    "nombre_infected      1136\n",
    "nombre_sain          1923\n",
    "nombre_exposed        556\n",
    "nombre_recovered    16385\n",
    "Name: 141, dtype: int64"
   ]
  },
  {
   "cell_type": "markdown",
   "id": "c02e5e58",
   "metadata": {},
   "source": [
    "nombre_infected      1125\n",
    "nombre_sain          1879\n",
    "nombre_exposed        562\n",
    "nombre_recovered    16434\n",
    "Name: 142, dtype: int64"
   ]
  },
  {
   "cell_type": "markdown",
   "id": "08e4e6e0",
   "metadata": {},
   "source": [
    "nombre_infected      1102\n",
    "nombre_sain          1853\n",
    "nombre_exposed        561\n",
    "nombre_recovered    16484\n",
    "Name: 143, dtype: int64"
   ]
  },
  {
   "cell_type": "markdown",
   "id": "34f5dc3a",
   "metadata": {},
   "source": [
    "nombre_infected      1119\n",
    "nombre_sain          1821\n",
    "nombre_exposed        557\n",
    "nombre_recovered    16503\n",
    "Name: 144, dtype: int64"
   ]
  },
  {
   "cell_type": "markdown",
   "id": "829e504f",
   "metadata": {},
   "source": [
    "nombre_infected      1106\n",
    "nombre_sain          1786\n",
    "nombre_exposed        554\n",
    "nombre_recovered    16554\n",
    "Name: 145, dtype: int64"
   ]
  },
  {
   "cell_type": "markdown",
   "id": "9ebd59b0",
   "metadata": {},
   "source": [
    "nombre_infected      1108\n",
    "nombre_sain          1784\n",
    "nombre_exposed        539\n",
    "nombre_recovered    16569\n",
    "Name: 146, dtype: int64"
   ]
  },
  {
   "cell_type": "markdown",
   "id": "6f4519a2",
   "metadata": {},
   "source": [
    "nombre_infected      1097\n",
    "nombre_sain          1768\n",
    "nombre_exposed        524\n",
    "nombre_recovered    16611\n",
    "Name: 147, dtype: int64"
   ]
  },
  {
   "cell_type": "markdown",
   "id": "3f6a8677",
   "metadata": {},
   "source": [
    "nombre_infected      1097\n",
    "nombre_sain          1757\n",
    "nombre_exposed        503\n",
    "nombre_recovered    16643\n",
    "Name: 148, dtype: int64"
   ]
  },
  {
   "cell_type": "markdown",
   "id": "4531bb1e",
   "metadata": {},
   "source": [
    "nombre_infected      1092\n",
    "nombre_sain          1746\n",
    "nombre_exposed        482\n",
    "nombre_recovered    16680\n",
    "Name: 149, dtype: int64"
   ]
  },
  {
   "cell_type": "markdown",
   "id": "396e652f",
   "metadata": {},
   "source": [
    "nombre_infected      1073\n",
    "nombre_sain          1739\n",
    "nombre_exposed        466\n",
    "nombre_recovered    16722\n",
    "Name: 150, dtype: int64"
   ]
  },
  {
   "cell_type": "markdown",
   "id": "59836209",
   "metadata": {},
   "source": [
    "nombre_infected      1055\n",
    "nombre_sain          1717\n",
    "nombre_exposed        474\n",
    "nombre_recovered    16754\n",
    "Name: 151, dtype: int64"
   ]
  },
  {
   "cell_type": "markdown",
   "id": "b8f743d7",
   "metadata": {},
   "source": [
    "nombre_infected      1032\n",
    "nombre_sain          1711\n",
    "nombre_exposed        462\n",
    "nombre_recovered    16795\n",
    "Name: 152, dtype: int64"
   ]
  },
  {
   "cell_type": "markdown",
   "id": "d9ebc669",
   "metadata": {},
   "source": [
    "nombre_infected      1011\n",
    "nombre_sain          1690\n",
    "nombre_exposed        456\n",
    "nombre_recovered    16843\n",
    "Name: 153, dtype: int64"
   ]
  },
  {
   "cell_type": "markdown",
   "id": "0c7db29b",
   "metadata": {},
   "source": [
    "nombre_infected      1021\n",
    "nombre_sain          1709\n",
    "nombre_exposed        434\n",
    "nombre_recovered    16836\n",
    "Name: 154, dtype: int64"
   ]
  },
  {
   "cell_type": "markdown",
   "id": "bb0258f4",
   "metadata": {},
   "source": [
    "nombre_infected       989\n",
    "nombre_sain          1684\n",
    "nombre_exposed        450\n",
    "nombre_recovered    16877\n",
    "Name: 155, dtype: int64"
   ]
  },
  {
   "cell_type": "markdown",
   "id": "e99aa05f",
   "metadata": {},
   "source": [
    "nombre_infected       970\n",
    "nombre_sain          1697\n",
    "nombre_exposed        426\n",
    "nombre_recovered    16907\n",
    "Name: 156, dtype: int64"
   ]
  },
  {
   "cell_type": "markdown",
   "id": "3612a918",
   "metadata": {},
   "source": [
    "nombre_infected       962\n",
    "nombre_sain          1687\n",
    "nombre_exposed        418\n",
    "nombre_recovered    16933\n",
    "Name: 157, dtype: int64"
   ]
  },
  {
   "cell_type": "markdown",
   "id": "c8c2fcd0",
   "metadata": {},
   "source": [
    "nombre_infected       932\n",
    "nombre_sain          1670\n",
    "nombre_exposed        415\n",
    "nombre_recovered    16983\n",
    "Name: 158, dtype: int64"
   ]
  },
  {
   "cell_type": "markdown",
   "id": "c1d4b8c8",
   "metadata": {},
   "source": [
    "nombre_infected       881\n",
    "nombre_sain          1661\n",
    "nombre_exposed        427\n",
    "nombre_recovered    17031\n",
    "Name: 159, dtype: int64"
   ]
  },
  {
   "cell_type": "markdown",
   "id": "0f7363e9",
   "metadata": {},
   "source": [
    "nombre_infected       850\n",
    "nombre_sain          1670\n",
    "nombre_exposed        420\n",
    "nombre_recovered    17060\n",
    "Name: 160, dtype: int64"
   ]
  },
  {
   "cell_type": "markdown",
   "id": "f012bc78",
   "metadata": {},
   "source": [
    "nombre_infected       838\n",
    "nombre_sain          1697\n",
    "nombre_exposed        393\n",
    "nombre_recovered    17072\n",
    "Name: 161, dtype: int64"
   ]
  },
  {
   "cell_type": "markdown",
   "id": "f0ff5ab4",
   "metadata": {},
   "source": [
    "nombre_infected       817\n",
    "nombre_sain          1697\n",
    "nombre_exposed        395\n",
    "nombre_recovered    17091\n",
    "Name: 162, dtype: int64"
   ]
  },
  {
   "cell_type": "markdown",
   "id": "c1c861a2",
   "metadata": {},
   "source": [
    "nombre_infected       796\n",
    "nombre_sain          1693\n",
    "nombre_exposed        376\n",
    "nombre_recovered    17135\n",
    "Name: 163, dtype: int64"
   ]
  },
  {
   "cell_type": "markdown",
   "id": "c4b95b77",
   "metadata": {},
   "source": [
    "nombre_infected       775\n",
    "nombre_sain          1697\n",
    "nombre_exposed        358\n",
    "nombre_recovered    17170\n",
    "Name: 164, dtype: int64"
   ]
  },
  {
   "cell_type": "markdown",
   "id": "33360d7a",
   "metadata": {},
   "source": [
    "nombre_infected       753\n",
    "nombre_sain          1705\n",
    "nombre_exposed        371\n",
    "nombre_recovered    17171\n",
    "Name: 165, dtype: int64"
   ]
  },
  {
   "cell_type": "markdown",
   "id": "fecc4d22",
   "metadata": {},
   "source": [
    "nombre_infected       736\n",
    "nombre_sain          1735\n",
    "nombre_exposed        347\n",
    "nombre_recovered    17182\n",
    "Name: 166, dtype: int64"
   ]
  },
  {
   "cell_type": "markdown",
   "id": "9ebf8851",
   "metadata": {},
   "source": [
    "nombre_infected       735\n",
    "nombre_sain          1735\n",
    "nombre_exposed        334\n",
    "nombre_recovered    17196\n",
    "Name: 167, dtype: int64"
   ]
  },
  {
   "cell_type": "markdown",
   "id": "ce9dac30",
   "metadata": {},
   "source": [
    "nombre_infected       717\n",
    "nombre_sain          1752\n",
    "nombre_exposed        323\n",
    "nombre_recovered    17208\n",
    "Name: 168, dtype: int64"
   ]
  },
  {
   "cell_type": "markdown",
   "id": "7f02b74d",
   "metadata": {},
   "source": [
    "nombre_infected       677\n",
    "nombre_sain          1778\n",
    "nombre_exposed        321\n",
    "nombre_recovered    17224\n",
    "Name: 169, dtype: int64"
   ]
  },
  {
   "cell_type": "markdown",
   "id": "bf19a3e4",
   "metadata": {},
   "source": [
    "nombre_infected       649\n",
    "nombre_sain          1794\n",
    "nombre_exposed        324\n",
    "nombre_recovered    17233\n",
    "Name: 170, dtype: int64"
   ]
  },
  {
   "cell_type": "markdown",
   "id": "e2a94f0a",
   "metadata": {},
   "source": [
    "nombre_infected       639\n",
    "nombre_sain          1806\n",
    "nombre_exposed        318\n",
    "nombre_recovered    17237\n",
    "Name: 171, dtype: int64"
   ]
  },
  {
   "cell_type": "markdown",
   "id": "932e6c8e",
   "metadata": {},
   "source": [
    "nombre_infected       634\n",
    "nombre_sain          1834\n",
    "nombre_exposed        307\n",
    "nombre_recovered    17225\n",
    "Name: 172, dtype: int64"
   ]
  },
  {
   "cell_type": "markdown",
   "id": "58df5ccf",
   "metadata": {},
   "source": [
    "nombre_infected       624\n",
    "nombre_sain          1883\n",
    "nombre_exposed        287\n",
    "nombre_recovered    17206\n",
    "Name: 173, dtype: int64"
   ]
  },
  {
   "cell_type": "markdown",
   "id": "4749d3d3",
   "metadata": {},
   "source": [
    "nombre_infected       612\n",
    "nombre_sain          1916\n",
    "nombre_exposed        276\n",
    "nombre_recovered    17196\n",
    "Name: 174, dtype: int64"
   ]
  },
  {
   "cell_type": "markdown",
   "id": "79dd7575",
   "metadata": {},
   "source": [
    "nombre_infected       576\n",
    "nombre_sain          1916\n",
    "nombre_exposed        298\n",
    "nombre_recovered    17210\n",
    "Name: 175, dtype: int64"
   ]
  },
  {
   "cell_type": "markdown",
   "id": "7bb83d88",
   "metadata": {},
   "source": [
    "nombre_infected       564\n",
    "nombre_sain          1920\n",
    "nombre_exposed        315\n",
    "nombre_recovered    17201\n",
    "Name: 176, dtype: int64"
   ]
  },
  {
   "cell_type": "markdown",
   "id": "b542780e",
   "metadata": {},
   "source": [
    "nombre_infected       558\n",
    "nombre_sain          1936\n",
    "nombre_exposed        312\n",
    "nombre_recovered    17194\n",
    "Name: 177, dtype: int64"
   ]
  },
  {
   "cell_type": "markdown",
   "id": "8b5da249",
   "metadata": {},
   "source": [
    "nombre_infected       546\n",
    "nombre_sain          1963\n",
    "nombre_exposed        305\n",
    "nombre_recovered    17186\n",
    "Name: 178, dtype: int64"
   ]
  },
  {
   "cell_type": "markdown",
   "id": "a7d2af07",
   "metadata": {},
   "source": [
    "nombre_infected       525\n",
    "nombre_sain          1993\n",
    "nombre_exposed        301\n",
    "nombre_recovered    17181\n",
    "Name: 179, dtype: int64"
   ]
  },
  {
   "cell_type": "markdown",
   "id": "06a3d85e",
   "metadata": {},
   "source": [
    "nombre_infected       522\n",
    "nombre_sain          2056\n",
    "nombre_exposed        276\n",
    "nombre_recovered    17146\n",
    "Name: 180, dtype: int64"
   ]
  },
  {
   "cell_type": "markdown",
   "id": "6e17b19a",
   "metadata": {},
   "source": [
    "nombre_infected       510\n",
    "nombre_sain          2097\n",
    "nombre_exposed        265\n",
    "nombre_recovered    17128\n",
    "Name: 181, dtype: int64"
   ]
  },
  {
   "cell_type": "markdown",
   "id": "9912de1c",
   "metadata": {},
   "source": [
    "nombre_infected       504\n",
    "nombre_sain          2110\n",
    "nombre_exposed        266\n",
    "nombre_recovered    17120\n",
    "Name: 182, dtype: int64"
   ]
  },
  {
   "cell_type": "markdown",
   "id": "ff9c9aa5",
   "metadata": {},
   "source": [
    "nombre_infected       498\n",
    "nombre_sain          2131\n",
    "nombre_exposed        262\n",
    "nombre_recovered    17109\n",
    "Name: 183, dtype: int64"
   ]
  },
  {
   "cell_type": "markdown",
   "id": "78ee4e0c",
   "metadata": {},
   "source": [
    "nombre_infected       505\n",
    "nombre_sain          2164\n",
    "nombre_exposed        268\n",
    "nombre_recovered    17063\n",
    "Name: 184, dtype: int64"
   ]
  },
  {
   "cell_type": "markdown",
   "id": "d9c1a0bf",
   "metadata": {},
   "source": [
    "nombre_infected       482\n",
    "nombre_sain          2205\n",
    "nombre_exposed        276\n",
    "nombre_recovered    17037\n",
    "Name: 185, dtype: int64"
   ]
  },
  {
   "cell_type": "markdown",
   "id": "4b8ce082",
   "metadata": {},
   "source": [
    "nombre_infected       490\n",
    "nombre_sain          2229\n",
    "nombre_exposed        278\n",
    "nombre_recovered    17003\n",
    "Name: 186, dtype: int64"
   ]
  },
  {
   "cell_type": "markdown",
   "id": "ccd33bf5",
   "metadata": {},
   "source": [
    "nombre_infected       484\n",
    "nombre_sain          2238\n",
    "nombre_exposed        288\n",
    "nombre_recovered    16990\n",
    "Name: 187, dtype: int64"
   ]
  },
  {
   "cell_type": "markdown",
   "id": "4713be52",
   "metadata": {},
   "source": [
    "nombre_infected       502\n",
    "nombre_sain          2289\n",
    "nombre_exposed        278\n",
    "nombre_recovered    16931\n",
    "Name: 188, dtype: int64"
   ]
  },
  {
   "cell_type": "markdown",
   "id": "0627e3c9",
   "metadata": {},
   "source": [
    "nombre_infected       502\n",
    "nombre_sain          2319\n",
    "nombre_exposed        274\n",
    "nombre_recovered    16905\n",
    "Name: 189, dtype: int64"
   ]
  },
  {
   "cell_type": "markdown",
   "id": "b54849e0",
   "metadata": {},
   "source": [
    "nombre_infected       501\n",
    "nombre_sain          2346\n",
    "nombre_exposed        281\n",
    "nombre_recovered    16872\n",
    "Name: 190, dtype: int64"
   ]
  },
  {
   "cell_type": "markdown",
   "id": "ea9bdc45",
   "metadata": {},
   "source": [
    "nombre_infected       508\n",
    "nombre_sain          2388\n",
    "nombre_exposed        289\n",
    "nombre_recovered    16815\n",
    "Name: 191, dtype: int64"
   ]
  },
  {
   "cell_type": "markdown",
   "id": "82597dcd",
   "metadata": {},
   "source": [
    "nombre_infected       510\n",
    "nombre_sain          2436\n",
    "nombre_exposed        298\n",
    "nombre_recovered    16756\n",
    "Name: 192, dtype: int64"
   ]
  },
  {
   "cell_type": "markdown",
   "id": "91d29ee4",
   "metadata": {},
   "source": [
    "nombre_infected       527\n",
    "nombre_sain          2484\n",
    "nombre_exposed        295\n",
    "nombre_recovered    16694\n",
    "Name: 193, dtype: int64"
   ]
  },
  {
   "cell_type": "markdown",
   "id": "0065f66c",
   "metadata": {},
   "source": [
    "nombre_infected       541\n",
    "nombre_sain          2506\n",
    "nombre_exposed        313\n",
    "nombre_recovered    16640\n",
    "Name: 194, dtype: int64"
   ]
  },
  {
   "cell_type": "markdown",
   "id": "6b0b977d",
   "metadata": {},
   "source": [
    "nombre_infected       554\n",
    "nombre_sain          2544\n",
    "nombre_exposed        308\n",
    "nombre_recovered    16594\n",
    "Name: 195, dtype: int64"
   ]
  },
  {
   "cell_type": "markdown",
   "id": "0e90da1f",
   "metadata": {},
   "source": [
    "nombre_infected       570\n",
    "nombre_sain          2571\n",
    "nombre_exposed        333\n",
    "nombre_recovered    16526\n",
    "Name: 196, dtype: int64"
   ]
  },
  {
   "cell_type": "markdown",
   "id": "336c8437",
   "metadata": {},
   "source": [
    "nombre_infected       577\n",
    "nombre_sain          2569\n",
    "nombre_exposed        343\n",
    "nombre_recovered    16511\n",
    "Name: 197, dtype: int64"
   ]
  },
  {
   "cell_type": "markdown",
   "id": "4696b981",
   "metadata": {},
   "source": [
    "nombre_infected       591\n",
    "nombre_sain          2594\n",
    "nombre_exposed        349\n",
    "nombre_recovered    16466\n",
    "Name: 198, dtype: int64"
   ]
  },
  {
   "cell_type": "markdown",
   "id": "87ee51fb",
   "metadata": {},
   "source": [
    "nombre_infected       615\n",
    "nombre_sain          2577\n",
    "nombre_exposed        365\n",
    "nombre_recovered    16443\n",
    "Name: 199, dtype: int64"
   ]
  },
  {
   "cell_type": "markdown",
   "id": "1c836ae8",
   "metadata": {},
   "source": [
    "nombre_infected       621\n",
    "nombre_sain          2597\n",
    "nombre_exposed        361\n",
    "nombre_recovered    16421\n",
    "Name: 200, dtype: int64"
   ]
  },
  {
   "cell_type": "markdown",
   "id": "8c38430d",
   "metadata": {},
   "source": [
    "nombre_infected       634\n",
    "nombre_sain          2595\n",
    "nombre_exposed        371\n",
    "nombre_recovered    16400\n",
    "Name: 201, dtype: int64"
   ]
  },
  {
   "cell_type": "markdown",
   "id": "7e08f622",
   "metadata": {},
   "source": [
    "nombre_infected       650\n",
    "nombre_sain          2631\n",
    "nombre_exposed        362\n",
    "nombre_recovered    16357\n",
    "Name: 202, dtype: int64"
   ]
  },
  {
   "cell_type": "markdown",
   "id": "5a49ea4a",
   "metadata": {},
   "source": [
    "nombre_infected       667\n",
    "nombre_sain          2624\n",
    "nombre_exposed        386\n",
    "nombre_recovered    16323\n",
    "Name: 203, dtype: int64"
   ]
  },
  {
   "cell_type": "markdown",
   "id": "572df8cd",
   "metadata": {},
   "source": [
    "nombre_infected       671\n",
    "nombre_sain          2593\n",
    "nombre_exposed        427\n",
    "nombre_recovered    16309\n",
    "Name: 204, dtype: int64"
   ]
  },
  {
   "cell_type": "markdown",
   "id": "62d89a73",
   "metadata": {},
   "source": [
    "nombre_infected       686\n",
    "nombre_sain          2606\n",
    "nombre_exposed        429\n",
    "nombre_recovered    16279\n",
    "Name: 205, dtype: int64"
   ]
  },
  {
   "cell_type": "markdown",
   "id": "99f9cfa7",
   "metadata": {},
   "source": [
    "nombre_infected       692\n",
    "nombre_sain          2580\n",
    "nombre_exposed        451\n",
    "nombre_recovered    16277\n",
    "Name: 206, dtype: int64"
   ]
  },
  {
   "cell_type": "markdown",
   "id": "48d5fed2",
   "metadata": {},
   "source": [
    "nombre_infected       726\n",
    "nombre_sain          2573\n",
    "nombre_exposed        439\n",
    "nombre_recovered    16262\n",
    "Name: 207, dtype: int64"
   ]
  },
  {
   "cell_type": "markdown",
   "id": "dabdcff3",
   "metadata": {},
   "source": [
    "nombre_infected       759\n",
    "nombre_sain          2544\n",
    "nombre_exposed        449\n",
    "nombre_recovered    16248\n",
    "Name: 208, dtype: int64"
   ]
  },
  {
   "cell_type": "markdown",
   "id": "c6153cac",
   "metadata": {},
   "source": [
    "nombre_infected       759\n",
    "nombre_sain          2507\n",
    "nombre_exposed        472\n",
    "nombre_recovered    16262\n",
    "Name: 209, dtype: int64"
   ]
  },
  {
   "cell_type": "markdown",
   "id": "4b2157f8",
   "metadata": {},
   "source": [
    "nombre_infected       792\n",
    "nombre_sain          2527\n",
    "nombre_exposed        456\n",
    "nombre_recovered    16225\n",
    "Name: 210, dtype: int64"
   ]
  },
  {
   "cell_type": "markdown",
   "id": "8f439a4b",
   "metadata": {},
   "source": [
    "nombre_infected       816\n",
    "nombre_sain          2502\n",
    "nombre_exposed        449\n",
    "nombre_recovered    16233\n",
    "Name: 211, dtype: int64"
   ]
  },
  {
   "cell_type": "markdown",
   "id": "ecc86a48",
   "metadata": {},
   "source": [
    "nombre_infected       811\n",
    "nombre_sain          2492\n",
    "nombre_exposed        493\n",
    "nombre_recovered    16204\n",
    "Name: 212, dtype: int64"
   ]
  },
  {
   "cell_type": "markdown",
   "id": "9d56f33b",
   "metadata": {},
   "source": [
    "nombre_infected       827\n",
    "nombre_sain          2480\n",
    "nombre_exposed        505\n",
    "nombre_recovered    16188\n",
    "Name: 213, dtype: int64"
   ]
  },
  {
   "cell_type": "markdown",
   "id": "93e0ad10",
   "metadata": {},
   "source": [
    "nombre_infected       851\n",
    "nombre_sain          2483\n",
    "nombre_exposed        504\n",
    "nombre_recovered    16162\n",
    "Name: 214, dtype: int64"
   ]
  },
  {
   "cell_type": "markdown",
   "id": "8605943a",
   "metadata": {},
   "source": [
    "nombre_infected       877\n",
    "nombre_sain          2489\n",
    "nombre_exposed        479\n",
    "nombre_recovered    16155\n",
    "Name: 215, dtype: int64"
   ]
  },
  {
   "cell_type": "markdown",
   "id": "79637054",
   "metadata": {},
   "source": [
    "nombre_infected       863\n",
    "nombre_sain          2487\n",
    "nombre_exposed        490\n",
    "nombre_recovered    16160\n",
    "Name: 216, dtype: int64"
   ]
  },
  {
   "cell_type": "markdown",
   "id": "56c45b4b",
   "metadata": {},
   "source": [
    "nombre_infected       888\n",
    "nombre_sain          2481\n",
    "nombre_exposed        501\n",
    "nombre_recovered    16130\n",
    "Name: 217, dtype: int64"
   ]
  },
  {
   "cell_type": "markdown",
   "id": "9c3f9a8f",
   "metadata": {},
   "source": [
    "nombre_infected       895\n",
    "nombre_sain          2449\n",
    "nombre_exposed        519\n",
    "nombre_recovered    16137\n",
    "Name: 218, dtype: int64"
   ]
  },
  {
   "cell_type": "markdown",
   "id": "78db7205",
   "metadata": {},
   "source": [
    "nombre_infected       908\n",
    "nombre_sain          2406\n",
    "nombre_exposed        546\n",
    "nombre_recovered    16140\n",
    "Name: 219, dtype: int64"
   ]
  },
  {
   "cell_type": "markdown",
   "id": "c2d19214",
   "metadata": {},
   "source": [
    "nombre_infected       930\n",
    "nombre_sain          2417\n",
    "nombre_exposed        530\n",
    "nombre_recovered    16123\n",
    "Name: 220, dtype: int64"
   ]
  },
  {
   "cell_type": "markdown",
   "id": "50c9c4c1",
   "metadata": {},
   "source": [
    "nombre_infected       951\n",
    "nombre_sain          2405\n",
    "nombre_exposed        529\n",
    "nombre_recovered    16115\n",
    "Name: 221, dtype: int64"
   ]
  },
  {
   "cell_type": "markdown",
   "id": "b236de8d",
   "metadata": {},
   "source": [
    "nombre_infected       970\n",
    "nombre_sain          2408\n",
    "nombre_exposed        509\n",
    "nombre_recovered    16113\n",
    "Name: 222, dtype: int64"
   ]
  },
  {
   "cell_type": "markdown",
   "id": "3f00b967",
   "metadata": {},
   "source": [
    "nombre_infected       978\n",
    "nombre_sain          2390\n",
    "nombre_exposed        518\n",
    "nombre_recovered    16114\n",
    "Name: 223, dtype: int64"
   ]
  },
  {
   "cell_type": "markdown",
   "id": "b4daab5c",
   "metadata": {},
   "source": [
    "nombre_infected       972\n",
    "nombre_sain          2365\n",
    "nombre_exposed        557\n",
    "nombre_recovered    16106\n",
    "Name: 224, dtype: int64"
   ]
  },
  {
   "cell_type": "markdown",
   "id": "e612bebe",
   "metadata": {},
   "source": [
    "nombre_infected      1004\n",
    "nombre_sain          2336\n",
    "nombre_exposed        567\n",
    "nombre_recovered    16093\n",
    "Name: 225, dtype: int64"
   ]
  },
  {
   "cell_type": "markdown",
   "id": "34d54872",
   "metadata": {},
   "source": [
    "nombre_infected      1021\n",
    "nombre_sain          2325\n",
    "nombre_exposed        561\n",
    "nombre_recovered    16093\n",
    "Name: 226, dtype: int64"
   ]
  },
  {
   "cell_type": "markdown",
   "id": "0cb29c27",
   "metadata": {},
   "source": [
    "nombre_infected      1051\n",
    "nombre_sain          2294\n",
    "nombre_exposed        571\n",
    "nombre_recovered    16084\n",
    "Name: 227, dtype: int64"
   ]
  },
  {
   "cell_type": "markdown",
   "id": "d6546bef",
   "metadata": {},
   "source": [
    "nombre_infected      1088\n",
    "nombre_sain          2287\n",
    "nombre_exposed        560\n",
    "nombre_recovered    16065\n",
    "Name: 228, dtype: int64"
   ]
  },
  {
   "cell_type": "markdown",
   "id": "47c28369",
   "metadata": {},
   "source": [
    "nombre_infected      1089\n",
    "nombre_sain          2278\n",
    "nombre_exposed        575\n",
    "nombre_recovered    16058\n",
    "Name: 229, dtype: int64"
   ]
  },
  {
   "cell_type": "markdown",
   "id": "7881141e",
   "metadata": {},
   "source": [
    "nombre_infected      1090\n",
    "nombre_sain          2276\n",
    "nombre_exposed        574\n",
    "nombre_recovered    16060\n",
    "Name: 230, dtype: int64"
   ]
  },
  {
   "cell_type": "markdown",
   "id": "cab8346e",
   "metadata": {},
   "source": [
    "nombre_infected      1079\n",
    "nombre_sain          2251\n",
    "nombre_exposed        593\n",
    "nombre_recovered    16077\n",
    "Name: 231, dtype: int64"
   ]
  },
  {
   "cell_type": "markdown",
   "id": "ab14b677",
   "metadata": {},
   "source": [
    "nombre_infected      1090\n",
    "nombre_sain          2241\n",
    "nombre_exposed        590\n",
    "nombre_recovered    16079\n",
    "Name: 232, dtype: int64"
   ]
  },
  {
   "cell_type": "markdown",
   "id": "9d43027d",
   "metadata": {},
   "source": [
    "nombre_infected      1105\n",
    "nombre_sain          2204\n",
    "nombre_exposed        595\n",
    "nombre_recovered    16096\n",
    "Name: 233, dtype: int64"
   ]
  },
  {
   "cell_type": "markdown",
   "id": "e614f655",
   "metadata": {},
   "source": [
    "nombre_infected      1110\n",
    "nombre_sain          2198\n",
    "nombre_exposed        609\n",
    "nombre_recovered    16083\n",
    "Name: 234, dtype: int64"
   ]
  },
  {
   "cell_type": "markdown",
   "id": "b48e21e1",
   "metadata": {},
   "source": [
    "nombre_infected      1130\n",
    "nombre_sain          2202\n",
    "nombre_exposed        590\n",
    "nombre_recovered    16078\n",
    "Name: 235, dtype: int64"
   ]
  },
  {
   "cell_type": "markdown",
   "id": "2a634b21",
   "metadata": {},
   "source": [
    "nombre_infected      1147\n",
    "nombre_sain          2199\n",
    "nombre_exposed        563\n",
    "nombre_recovered    16091\n",
    "Name: 236, dtype: int64"
   ]
  },
  {
   "cell_type": "markdown",
   "id": "db4cff8f",
   "metadata": {},
   "source": [
    "nombre_infected      1129\n",
    "nombre_sain          2203\n",
    "nombre_exposed        583\n",
    "nombre_recovered    16085\n",
    "Name: 237, dtype: int64"
   ]
  },
  {
   "cell_type": "markdown",
   "id": "757175f8",
   "metadata": {},
   "source": [
    "nombre_infected      1102\n",
    "nombre_sain          2178\n",
    "nombre_exposed        598\n",
    "nombre_recovered    16122\n",
    "Name: 238, dtype: int64"
   ]
  },
  {
   "cell_type": "markdown",
   "id": "e90af806",
   "metadata": {},
   "source": [
    "nombre_infected      1066\n",
    "nombre_sain          2160\n",
    "nombre_exposed        617\n",
    "nombre_recovered    16157\n",
    "Name: 239, dtype: int64"
   ]
  },
  {
   "cell_type": "markdown",
   "id": "f3e62cd3",
   "metadata": {},
   "source": [
    "nombre_infected      1109\n",
    "nombre_sain          2157\n",
    "nombre_exposed        604\n",
    "nombre_recovered    16130\n",
    "Name: 240, dtype: int64"
   ]
  },
  {
   "cell_type": "markdown",
   "id": "07baa5d8",
   "metadata": {},
   "source": [
    "nombre_infected      1086\n",
    "nombre_sain          2178\n",
    "nombre_exposed        589\n",
    "nombre_recovered    16147\n",
    "Name: 241, dtype: int64"
   ]
  },
  {
   "cell_type": "markdown",
   "id": "f41d1a48",
   "metadata": {},
   "source": [
    "nombre_infected      1112\n",
    "nombre_sain          2170\n",
    "nombre_exposed        557\n",
    "nombre_recovered    16161\n",
    "Name: 242, dtype: int64"
   ]
  },
  {
   "cell_type": "markdown",
   "id": "c55555b1",
   "metadata": {},
   "source": [
    "nombre_infected      1107\n",
    "nombre_sain          2152\n",
    "nombre_exposed        566\n",
    "nombre_recovered    16175\n",
    "Name: 243, dtype: int64"
   ]
  },
  {
   "cell_type": "markdown",
   "id": "9d1a1703",
   "metadata": {},
   "source": [
    "nombre_infected      1110\n",
    "nombre_sain          2137\n",
    "nombre_exposed        566\n",
    "nombre_recovered    16187\n",
    "Name: 244, dtype: int64"
   ]
  },
  {
   "cell_type": "markdown",
   "id": "2ceebcd4",
   "metadata": {},
   "source": [
    "nombre_infected      1096\n",
    "nombre_sain          2123\n",
    "nombre_exposed        573\n",
    "nombre_recovered    16208\n",
    "Name: 245, dtype: int64"
   ]
  },
  {
   "cell_type": "markdown",
   "id": "d093d1cb",
   "metadata": {},
   "source": [
    "nombre_infected      1066\n",
    "nombre_sain          2091\n",
    "nombre_exposed        610\n",
    "nombre_recovered    16233\n",
    "Name: 246, dtype: int64"
   ]
  },
  {
   "cell_type": "markdown",
   "id": "7716f9c4",
   "metadata": {},
   "source": [
    "nombre_infected      1052\n",
    "nombre_sain          2114\n",
    "nombre_exposed        598\n",
    "nombre_recovered    16236\n",
    "Name: 247, dtype: int64"
   ]
  },
  {
   "cell_type": "markdown",
   "id": "e1e3fc56",
   "metadata": {},
   "source": [
    "nombre_infected      1057\n",
    "nombre_sain          2100\n",
    "nombre_exposed        583\n",
    "nombre_recovered    16260\n",
    "Name: 248, dtype: int64"
   ]
  },
  {
   "cell_type": "markdown",
   "id": "e74c825d",
   "metadata": {},
   "source": [
    "nombre_infected      1094\n",
    "nombre_sain          2086\n",
    "nombre_exposed        561\n",
    "nombre_recovered    16259\n",
    "Name: 249, dtype: int64"
   ]
  },
  {
   "cell_type": "markdown",
   "id": "6f8e5b46",
   "metadata": {},
   "source": [
    "nombre_infected      1102\n",
    "nombre_sain          2079\n",
    "nombre_exposed        569\n",
    "nombre_recovered    16250\n",
    "Name: 250, dtype: int64"
   ]
  },
  {
   "cell_type": "markdown",
   "id": "60928681",
   "metadata": {},
   "source": [
    "nombre_infected      1080\n",
    "nombre_sain          2071\n",
    "nombre_exposed        579\n",
    "nombre_recovered    16270\n",
    "Name: 251, dtype: int64"
   ]
  },
  {
   "cell_type": "markdown",
   "id": "71be1ccc",
   "metadata": {},
   "source": [
    "nombre_infected      1044\n",
    "nombre_sain          2075\n",
    "nombre_exposed        588\n",
    "nombre_recovered    16293\n",
    "Name: 252, dtype: int64"
   ]
  },
  {
   "cell_type": "markdown",
   "id": "9bc6a6a2",
   "metadata": {},
   "source": [
    "nombre_infected      1051\n",
    "nombre_sain          2085\n",
    "nombre_exposed        586\n",
    "nombre_recovered    16278\n",
    "Name: 253, dtype: int64"
   ]
  },
  {
   "cell_type": "markdown",
   "id": "ddc32e19",
   "metadata": {},
   "source": [
    "nombre_infected      1047\n",
    "nombre_sain          2077\n",
    "nombre_exposed        588\n",
    "nombre_recovered    16288\n",
    "Name: 254, dtype: int64"
   ]
  },
  {
   "cell_type": "markdown",
   "id": "a27ca836",
   "metadata": {},
   "source": [
    "nombre_infected      1019\n",
    "nombre_sain          2082\n",
    "nombre_exposed        601\n",
    "nombre_recovered    16298\n",
    "Name: 255, dtype: int64"
   ]
  },
  {
   "cell_type": "markdown",
   "id": "bf842300",
   "metadata": {},
   "source": [
    "nombre_infected      1007\n",
    "nombre_sain          2094\n",
    "nombre_exposed        610\n",
    "nombre_recovered    16289\n",
    "Name: 256, dtype: int64"
   ]
  },
  {
   "cell_type": "markdown",
   "id": "9c11b8b4",
   "metadata": {},
   "source": [
    "nombre_infected      1016\n",
    "nombre_sain          2134\n",
    "nombre_exposed        586\n",
    "nombre_recovered    16264\n",
    "Name: 257, dtype: int64"
   ]
  },
  {
   "cell_type": "markdown",
   "id": "a6d4e0e8",
   "metadata": {},
   "source": [
    "nombre_infected      1043\n",
    "nombre_sain          2125\n",
    "nombre_exposed        563\n",
    "nombre_recovered    16269\n",
    "Name: 258, dtype: int64"
   ]
  },
  {
   "cell_type": "markdown",
   "id": "c81033ef",
   "metadata": {},
   "source": [
    "nombre_infected      1028\n",
    "nombre_sain          2150\n",
    "nombre_exposed        558\n",
    "nombre_recovered    16264\n",
    "Name: 259, dtype: int64"
   ]
  },
  {
   "cell_type": "markdown",
   "id": "60b6a39f",
   "metadata": {},
   "source": [
    "nombre_infected      1011\n",
    "nombre_sain          2122\n",
    "nombre_exposed        586\n",
    "nombre_recovered    16281\n",
    "Name: 260, dtype: int64"
   ]
  },
  {
   "cell_type": "markdown",
   "id": "067ac923",
   "metadata": {},
   "source": [
    "nombre_infected      1010\n",
    "nombre_sain          2129\n",
    "nombre_exposed        578\n",
    "nombre_recovered    16283\n",
    "Name: 261, dtype: int64"
   ]
  },
  {
   "cell_type": "markdown",
   "id": "70b1de7e",
   "metadata": {},
   "source": [
    "nombre_infected      1019\n",
    "nombre_sain          2110\n",
    "nombre_exposed        570\n",
    "nombre_recovered    16301\n",
    "Name: 262, dtype: int64"
   ]
  },
  {
   "cell_type": "markdown",
   "id": "8261a40c",
   "metadata": {},
   "source": [
    "nombre_infected      1038\n",
    "nombre_sain          2112\n",
    "nombre_exposed        557\n",
    "nombre_recovered    16293\n",
    "Name: 263, dtype: int64"
   ]
  },
  {
   "cell_type": "markdown",
   "id": "00f7272b",
   "metadata": {},
   "source": [
    "nombre_infected      1069\n",
    "nombre_sain          2107\n",
    "nombre_exposed        536\n",
    "nombre_recovered    16288\n",
    "Name: 264, dtype: int64"
   ]
  },
  {
   "cell_type": "markdown",
   "id": "c06a227d",
   "metadata": {},
   "source": [
    "nombre_infected      1066\n",
    "nombre_sain          2113\n",
    "nombre_exposed        552\n",
    "nombre_recovered    16269\n",
    "Name: 265, dtype: int64"
   ]
  },
  {
   "cell_type": "markdown",
   "id": "4fa0aa6c",
   "metadata": {},
   "source": [
    "nombre_infected      1065\n",
    "nombre_sain          2126\n",
    "nombre_exposed        545\n",
    "nombre_recovered    16264\n",
    "Name: 266, dtype: int64"
   ]
  },
  {
   "cell_type": "markdown",
   "id": "5a499009",
   "metadata": {},
   "source": [
    "nombre_infected      1049\n",
    "nombre_sain          2130\n",
    "nombre_exposed        555\n",
    "nombre_recovered    16266\n",
    "Name: 267, dtype: int64"
   ]
  },
  {
   "cell_type": "markdown",
   "id": "23538d68",
   "metadata": {},
   "source": [
    "nombre_infected      1027\n",
    "nombre_sain          2142\n",
    "nombre_exposed        546\n",
    "nombre_recovered    16285\n",
    "Name: 268, dtype: int64"
   ]
  },
  {
   "cell_type": "markdown",
   "id": "c1b2a50c",
   "metadata": {},
   "source": [
    "nombre_infected      1050\n",
    "nombre_sain          2144\n",
    "nombre_exposed        548\n",
    "nombre_recovered    16258\n",
    "Name: 269, dtype: int64"
   ]
  },
  {
   "cell_type": "markdown",
   "id": "e53dcf7f",
   "metadata": {},
   "source": [
    "nombre_infected      1042\n",
    "nombre_sain          2139\n",
    "nombre_exposed        559\n",
    "nombre_recovered    16260\n",
    "Name: 270, dtype: int64"
   ]
  },
  {
   "cell_type": "markdown",
   "id": "00e6ba42",
   "metadata": {},
   "source": [
    "nombre_infected      1066\n",
    "nombre_sain          2151\n",
    "nombre_exposed        553\n",
    "nombre_recovered    16230\n",
    "Name: 271, dtype: int64"
   ]
  },
  {
   "cell_type": "markdown",
   "id": "7551045b",
   "metadata": {},
   "source": [
    "nombre_infected      1057\n",
    "nombre_sain          2145\n",
    "nombre_exposed        567\n",
    "nombre_recovered    16231\n",
    "Name: 272, dtype: int64"
   ]
  },
  {
   "cell_type": "markdown",
   "id": "f10a85a1",
   "metadata": {},
   "source": [
    "nombre_infected      1058\n",
    "nombre_sain          2142\n",
    "nombre_exposed        566\n",
    "nombre_recovered    16234\n",
    "Name: 273, dtype: int64"
   ]
  },
  {
   "cell_type": "markdown",
   "id": "adbafec5",
   "metadata": {},
   "source": [
    "nombre_infected      1065\n",
    "nombre_sain          2123\n",
    "nombre_exposed        575\n",
    "nombre_recovered    16237\n",
    "Name: 274, dtype: int64"
   ]
  },
  {
   "cell_type": "markdown",
   "id": "0052592f",
   "metadata": {},
   "source": [
    "nombre_infected      1062\n",
    "nombre_sain          2154\n",
    "nombre_exposed        597\n",
    "nombre_recovered    16187\n",
    "Name: 275, dtype: int64"
   ]
  },
  {
   "cell_type": "markdown",
   "id": "58429e2d",
   "metadata": {},
   "source": [
    "nombre_infected      1069\n",
    "nombre_sain          2130\n",
    "nombre_exposed        590\n",
    "nombre_recovered    16211\n",
    "Name: 276, dtype: int64"
   ]
  },
  {
   "cell_type": "markdown",
   "id": "7232367f",
   "metadata": {},
   "source": [
    "nombre_infected      1094\n",
    "nombre_sain          2104\n",
    "nombre_exposed        594\n",
    "nombre_recovered    16208\n",
    "Name: 277, dtype: int64"
   ]
  },
  {
   "cell_type": "markdown",
   "id": "e7c59f5b",
   "metadata": {},
   "source": [
    "nombre_infected      1089\n",
    "nombre_sain          2070\n",
    "nombre_exposed        605\n",
    "nombre_recovered    16236\n",
    "Name: 278, dtype: int64"
   ]
  },
  {
   "cell_type": "markdown",
   "id": "9aedc778",
   "metadata": {},
   "source": [
    "nombre_infected      1107\n",
    "nombre_sain          2078\n",
    "nombre_exposed        592\n",
    "nombre_recovered    16223\n",
    "Name: 279, dtype: int64"
   ]
  },
  {
   "cell_type": "markdown",
   "id": "683dfe62",
   "metadata": {},
   "source": [
    "nombre_infected      1112\n",
    "nombre_sain          2080\n",
    "nombre_exposed        595\n",
    "nombre_recovered    16213\n",
    "Name: 280, dtype: int64"
   ]
  },
  {
   "cell_type": "markdown",
   "id": "7875259e",
   "metadata": {},
   "source": [
    "nombre_infected      1133\n",
    "nombre_sain          2037\n",
    "nombre_exposed        619\n",
    "nombre_recovered    16211\n",
    "Name: 281, dtype: int64"
   ]
  },
  {
   "cell_type": "markdown",
   "id": "a3fdb07a",
   "metadata": {},
   "source": [
    "nombre_infected      1146\n",
    "nombre_sain          2029\n",
    "nombre_exposed        613\n",
    "nombre_recovered    16212\n",
    "Name: 282, dtype: int64"
   ]
  },
  {
   "cell_type": "markdown",
   "id": "185b2a46",
   "metadata": {},
   "source": [
    "nombre_infected      1155\n",
    "nombre_sain          2034\n",
    "nombre_exposed        587\n",
    "nombre_recovered    16224\n",
    "Name: 283, dtype: int64"
   ]
  },
  {
   "cell_type": "markdown",
   "id": "c678f453",
   "metadata": {},
   "source": [
    "nombre_infected      1152\n",
    "nombre_sain          2019\n",
    "nombre_exposed        575\n",
    "nombre_recovered    16254\n",
    "Name: 284, dtype: int64"
   ]
  },
  {
   "cell_type": "markdown",
   "id": "3d915644",
   "metadata": {},
   "source": [
    "nombre_infected      1130\n",
    "nombre_sain          1996\n",
    "nombre_exposed        604\n",
    "nombre_recovered    16270\n",
    "Name: 285, dtype: int64"
   ]
  },
  {
   "cell_type": "markdown",
   "id": "dbd2f9b4",
   "metadata": {},
   "source": [
    "nombre_infected      1135\n",
    "nombre_sain          1994\n",
    "nombre_exposed        583\n",
    "nombre_recovered    16288\n",
    "Name: 286, dtype: int64"
   ]
  },
  {
   "cell_type": "markdown",
   "id": "55903bf4",
   "metadata": {},
   "source": [
    "nombre_infected      1113\n",
    "nombre_sain          1981\n",
    "nombre_exposed        606\n",
    "nombre_recovered    16300\n",
    "Name: 287, dtype: int64"
   ]
  },
  {
   "cell_type": "markdown",
   "id": "22aa3ea9",
   "metadata": {},
   "source": [
    "nombre_infected      1099\n",
    "nombre_sain          1978\n",
    "nombre_exposed        612\n",
    "nombre_recovered    16311\n",
    "Name: 288, dtype: int64"
   ]
  },
  {
   "cell_type": "markdown",
   "id": "cb8d8d1e",
   "metadata": {},
   "source": [
    "nombre_infected      1101\n",
    "nombre_sain          1964\n",
    "nombre_exposed        606\n",
    "nombre_recovered    16329\n",
    "Name: 289, dtype: int64"
   ]
  },
  {
   "cell_type": "markdown",
   "id": "e34d7cc5",
   "metadata": {},
   "source": [
    "nombre_infected      1107\n",
    "nombre_sain          1985\n",
    "nombre_exposed        575\n",
    "nombre_recovered    16333\n",
    "Name: 290, dtype: int64"
   ]
  },
  {
   "cell_type": "markdown",
   "id": "16bb03e3",
   "metadata": {},
   "source": [
    "nombre_infected      1112\n",
    "nombre_sain          1996\n",
    "nombre_exposed        570\n",
    "nombre_recovered    16322\n",
    "Name: 291, dtype: int64"
   ]
  },
  {
   "cell_type": "markdown",
   "id": "89c417b8",
   "metadata": {},
   "source": [
    "nombre_infected      1093\n",
    "nombre_sain          1998\n",
    "nombre_exposed        559\n",
    "nombre_recovered    16350\n",
    "Name: 292, dtype: int64"
   ]
  },
  {
   "cell_type": "markdown",
   "id": "c563f210",
   "metadata": {},
   "source": [
    "nombre_infected      1093\n",
    "nombre_sain          2007\n",
    "nombre_exposed        550\n",
    "nombre_recovered    16350\n",
    "Name: 293, dtype: int64"
   ]
  },
  {
   "cell_type": "markdown",
   "id": "b53c9657",
   "metadata": {},
   "source": [
    "nombre_infected      1098\n",
    "nombre_sain          1998\n",
    "nombre_exposed        560\n",
    "nombre_recovered    16344\n",
    "Name: 294, dtype: int64"
   ]
  },
  {
   "cell_type": "markdown",
   "id": "861e7a83",
   "metadata": {},
   "source": [
    "nombre_infected      1109\n",
    "nombre_sain          1983\n",
    "nombre_exposed        573\n",
    "nombre_recovered    16335\n",
    "Name: 295, dtype: int64"
   ]
  },
  {
   "cell_type": "markdown",
   "id": "94e6ef48",
   "metadata": {},
   "source": [
    "nombre_infected      1093\n",
    "nombre_sain          1975\n",
    "nombre_exposed        587\n",
    "nombre_recovered    16345\n",
    "Name: 296, dtype: int64"
   ]
  },
  {
   "cell_type": "markdown",
   "id": "0f573f77",
   "metadata": {},
   "source": [
    "nombre_infected      1100\n",
    "nombre_sain          1985\n",
    "nombre_exposed        584\n",
    "nombre_recovered    16331\n",
    "Name: 297, dtype: int64"
   ]
  },
  {
   "cell_type": "markdown",
   "id": "e10ca64c",
   "metadata": {},
   "source": [
    "nombre_infected      1123\n",
    "nombre_sain          1969\n",
    "nombre_exposed        577\n",
    "nombre_recovered    16331\n",
    "Name: 298, dtype: int64"
   ]
  },
  {
   "cell_type": "markdown",
   "id": "a0336869",
   "metadata": {},
   "source": [
    "nombre_infected      1111\n",
    "nombre_sain          1968\n",
    "nombre_exposed        592\n",
    "nombre_recovered    16329\n",
    "Name: 299, dtype: int64"
   ]
  },
  {
   "cell_type": "markdown",
   "id": "08992e2a",
   "metadata": {},
   "source": [
    "nombre_infected      1083\n",
    "nombre_sain          1988\n",
    "nombre_exposed        566\n",
    "nombre_recovered    16363\n",
    "Name: 300, dtype: int64"
   ]
  },
  {
   "cell_type": "markdown",
   "id": "a2295b36",
   "metadata": {},
   "source": [
    "nombre_infected      1103\n",
    "nombre_sain          1993\n",
    "nombre_exposed        546\n",
    "nombre_recovered    16358\n",
    "Name: 301, dtype: int64"
   ]
  },
  {
   "cell_type": "markdown",
   "id": "f49f4ffc",
   "metadata": {},
   "source": [
    "nombre_infected      1062\n",
    "nombre_sain          1994\n",
    "nombre_exposed        568\n",
    "nombre_recovered    16376\n",
    "Name: 302, dtype: int64"
   ]
  },
  {
   "cell_type": "markdown",
   "id": "49c5f4d4",
   "metadata": {},
   "source": [
    "nombre_infected      1046\n",
    "nombre_sain          1971\n",
    "nombre_exposed        586\n",
    "nombre_recovered    16397\n",
    "Name: 303, dtype: int64"
   ]
  },
  {
   "cell_type": "markdown",
   "id": "6a8053d2",
   "metadata": {},
   "source": [
    "nombre_infected      1027\n",
    "nombre_sain          1984\n",
    "nombre_exposed        578\n",
    "nombre_recovered    16411\n",
    "Name: 304, dtype: int64"
   ]
  },
  {
   "cell_type": "markdown",
   "id": "65d93cb8",
   "metadata": {},
   "source": [
    "nombre_infected      1035\n",
    "nombre_sain          2000\n",
    "nombre_exposed        558\n",
    "nombre_recovered    16407\n",
    "Name: 305, dtype: int64"
   ]
  },
  {
   "cell_type": "markdown",
   "id": "7ba82b79",
   "metadata": {},
   "source": [
    "nombre_infected      1046\n",
    "nombre_sain          1998\n",
    "nombre_exposed        552\n",
    "nombre_recovered    16404\n",
    "Name: 306, dtype: int64"
   ]
  },
  {
   "cell_type": "markdown",
   "id": "d6b5d609",
   "metadata": {},
   "source": [
    "nombre_infected      1059\n",
    "nombre_sain          2029\n",
    "nombre_exposed        517\n",
    "nombre_recovered    16395\n",
    "Name: 307, dtype: int64"
   ]
  },
  {
   "cell_type": "markdown",
   "id": "9735c879",
   "metadata": {},
   "source": [
    "nombre_infected      1049\n",
    "nombre_sain          1987\n",
    "nombre_exposed        538\n",
    "nombre_recovered    16426\n",
    "Name: 308, dtype: int64"
   ]
  },
  {
   "cell_type": "markdown",
   "id": "f93f76df",
   "metadata": {},
   "source": [
    "nombre_infected      1044\n",
    "nombre_sain          1999\n",
    "nombre_exposed        521\n",
    "nombre_recovered    16436\n",
    "Name: 309, dtype: int64"
   ]
  },
  {
   "cell_type": "markdown",
   "id": "773dad9c",
   "metadata": {},
   "source": [
    "nombre_infected      1024\n",
    "nombre_sain          1984\n",
    "nombre_exposed        519\n",
    "nombre_recovered    16473\n",
    "Name: 310, dtype: int64"
   ]
  },
  {
   "cell_type": "markdown",
   "id": "0bd26b6b",
   "metadata": {},
   "source": [
    "nombre_infected      1036\n",
    "nombre_sain          1985\n",
    "nombre_exposed        515\n",
    "nombre_recovered    16464\n",
    "Name: 311, dtype: int64"
   ]
  },
  {
   "cell_type": "markdown",
   "id": "a552d07b",
   "metadata": {},
   "source": [
    "nombre_infected      1041\n",
    "nombre_sain          1990\n",
    "nombre_exposed        522\n",
    "nombre_recovered    16447\n",
    "Name: 312, dtype: int64"
   ]
  },
  {
   "cell_type": "markdown",
   "id": "a58fff65",
   "metadata": {},
   "source": [
    "nombre_infected      1023\n",
    "nombre_sain          1991\n",
    "nombre_exposed        506\n",
    "nombre_recovered    16480\n",
    "Name: 313, dtype: int64"
   ]
  },
  {
   "cell_type": "markdown",
   "id": "1415788c",
   "metadata": {},
   "source": [
    "nombre_infected      1018\n",
    "nombre_sain          2011\n",
    "nombre_exposed        480\n",
    "nombre_recovered    16491\n",
    "Name: 314, dtype: int64"
   ]
  },
  {
   "cell_type": "markdown",
   "id": "297d2b74",
   "metadata": {},
   "source": [
    "nombre_infected       999\n",
    "nombre_sain          2031\n",
    "nombre_exposed        486\n",
    "nombre_recovered    16484\n",
    "Name: 315, dtype: int64"
   ]
  },
  {
   "cell_type": "markdown",
   "id": "9a9953cd",
   "metadata": {},
   "source": [
    "nombre_infected       991\n",
    "nombre_sain          2014\n",
    "nombre_exposed        491\n",
    "nombre_recovered    16504\n",
    "Name: 316, dtype: int64"
   ]
  },
  {
   "cell_type": "markdown",
   "id": "fbe8c123",
   "metadata": {},
   "source": [
    "nombre_infected       931\n",
    "nombre_sain          2032\n",
    "nombre_exposed        516\n",
    "nombre_recovered    16521\n",
    "Name: 317, dtype: int64"
   ]
  },
  {
   "cell_type": "markdown",
   "id": "059fe9a8",
   "metadata": {},
   "source": [
    "nombre_infected       918\n",
    "nombre_sain          2024\n",
    "nombre_exposed        536\n",
    "nombre_recovered    16522\n",
    "Name: 318, dtype: int64"
   ]
  },
  {
   "cell_type": "markdown",
   "id": "cf29649f",
   "metadata": {},
   "source": [
    "nombre_infected       910\n",
    "nombre_sain          2029\n",
    "nombre_exposed        543\n",
    "nombre_recovered    16518\n",
    "Name: 319, dtype: int64"
   ]
  },
  {
   "cell_type": "markdown",
   "id": "a8b93af5",
   "metadata": {},
   "source": [
    "nombre_infected       921\n",
    "nombre_sain          2032\n",
    "nombre_exposed        520\n",
    "nombre_recovered    16527\n",
    "Name: 320, dtype: int64"
   ]
  },
  {
   "cell_type": "markdown",
   "id": "5e731cd2",
   "metadata": {},
   "source": [
    "nombre_infected       937\n",
    "nombre_sain          2051\n",
    "nombre_exposed        504\n",
    "nombre_recovered    16508\n",
    "Name: 321, dtype: int64"
   ]
  },
  {
   "cell_type": "markdown",
   "id": "954119b9",
   "metadata": {},
   "source": [
    "nombre_infected       931\n",
    "nombre_sain          2065\n",
    "nombre_exposed        512\n",
    "nombre_recovered    16492\n",
    "Name: 322, dtype: int64"
   ]
  },
  {
   "cell_type": "markdown",
   "id": "6497501f",
   "metadata": {},
   "source": [
    "nombre_infected       939\n",
    "nombre_sain          2070\n",
    "nombre_exposed        517\n",
    "nombre_recovered    16474\n",
    "Name: 323, dtype: int64"
   ]
  },
  {
   "cell_type": "markdown",
   "id": "9e6075a6",
   "metadata": {},
   "source": [
    "nombre_infected       913\n",
    "nombre_sain          2071\n",
    "nombre_exposed        527\n",
    "nombre_recovered    16489\n",
    "Name: 324, dtype: int64"
   ]
  },
  {
   "cell_type": "markdown",
   "id": "27597af7",
   "metadata": {},
   "source": [
    "nombre_infected       916\n",
    "nombre_sain          2075\n",
    "nombre_exposed        526\n",
    "nombre_recovered    16483\n",
    "Name: 325, dtype: int64"
   ]
  },
  {
   "cell_type": "markdown",
   "id": "9a713b5b",
   "metadata": {},
   "source": [
    "nombre_infected       922\n",
    "nombre_sain          2070\n",
    "nombre_exposed        513\n",
    "nombre_recovered    16495\n",
    "Name: 326, dtype: int64"
   ]
  },
  {
   "cell_type": "markdown",
   "id": "a9cecaad",
   "metadata": {},
   "source": [
    "nombre_infected       923\n",
    "nombre_sain          2078\n",
    "nombre_exposed        508\n",
    "nombre_recovered    16491\n",
    "Name: 327, dtype: int64"
   ]
  },
  {
   "cell_type": "markdown",
   "id": "012b31d6",
   "metadata": {},
   "source": [
    "nombre_infected       940\n",
    "nombre_sain          2060\n",
    "nombre_exposed        481\n",
    "nombre_recovered    16519\n",
    "Name: 328, dtype: int64"
   ]
  },
  {
   "cell_type": "markdown",
   "id": "6b57a5b4",
   "metadata": {},
   "source": [
    "nombre_infected       919\n",
    "nombre_sain          2048\n",
    "nombre_exposed        492\n",
    "nombre_recovered    16541\n",
    "Name: 329, dtype: int64"
   ]
  },
  {
   "cell_type": "markdown",
   "id": "4c8fba4d",
   "metadata": {},
   "source": [
    "nombre_infected       911\n",
    "nombre_sain          2043\n",
    "nombre_exposed        496\n",
    "nombre_recovered    16550\n",
    "Name: 330, dtype: int64"
   ]
  },
  {
   "cell_type": "markdown",
   "id": "f620fd48",
   "metadata": {},
   "source": [
    "nombre_infected       915\n",
    "nombre_sain          2010\n",
    "nombre_exposed        493\n",
    "nombre_recovered    16582\n",
    "Name: 331, dtype: int64"
   ]
  },
  {
   "cell_type": "markdown",
   "id": "b526d680",
   "metadata": {},
   "source": [
    "nombre_infected       919\n",
    "nombre_sain          2019\n",
    "nombre_exposed        459\n",
    "nombre_recovered    16603\n",
    "Name: 332, dtype: int64"
   ]
  },
  {
   "cell_type": "markdown",
   "id": "3ff720a6",
   "metadata": {},
   "source": [
    "nombre_infected       890\n",
    "nombre_sain          2028\n",
    "nombre_exposed        442\n",
    "nombre_recovered    16640\n",
    "Name: 333, dtype: int64"
   ]
  },
  {
   "cell_type": "markdown",
   "id": "ca963618",
   "metadata": {},
   "source": [
    "nombre_infected       865\n",
    "nombre_sain          2024\n",
    "nombre_exposed        436\n",
    "nombre_recovered    16675\n",
    "Name: 334, dtype: int64"
   ]
  },
  {
   "cell_type": "markdown",
   "id": "9e9bf7a2",
   "metadata": {},
   "source": [
    "nombre_infected       847\n",
    "nombre_sain          2030\n",
    "nombre_exposed        438\n",
    "nombre_recovered    16685\n",
    "Name: 335, dtype: int64"
   ]
  },
  {
   "cell_type": "markdown",
   "id": "83d9ba49",
   "metadata": {},
   "source": [
    "nombre_infected       825\n",
    "nombre_sain          2033\n",
    "nombre_exposed        425\n",
    "nombre_recovered    16717\n",
    "Name: 336, dtype: int64"
   ]
  },
  {
   "cell_type": "markdown",
   "id": "7f9f619e",
   "metadata": {},
   "source": [
    "nombre_infected       823\n",
    "nombre_sain          2029\n",
    "nombre_exposed        428\n",
    "nombre_recovered    16720\n",
    "Name: 337, dtype: int64"
   ]
  },
  {
   "cell_type": "markdown",
   "id": "9eb264ab",
   "metadata": {},
   "source": [
    "nombre_infected       839\n",
    "nombre_sain          2006\n",
    "nombre_exposed        429\n",
    "nombre_recovered    16726\n",
    "Name: 338, dtype: int64"
   ]
  },
  {
   "cell_type": "markdown",
   "id": "9f265032",
   "metadata": {},
   "source": [
    "nombre_infected       802\n",
    "nombre_sain          2021\n",
    "nombre_exposed        428\n",
    "nombre_recovered    16749\n",
    "Name: 339, dtype: int64"
   ]
  },
  {
   "cell_type": "markdown",
   "id": "23e02bf5",
   "metadata": {},
   "source": [
    "nombre_infected       805\n",
    "nombre_sain          2039\n",
    "nombre_exposed        415\n",
    "nombre_recovered    16741\n",
    "Name: 340, dtype: int64"
   ]
  },
  {
   "cell_type": "markdown",
   "id": "b7854b8c",
   "metadata": {},
   "source": [
    "nombre_infected       806\n",
    "nombre_sain          2041\n",
    "nombre_exposed        409\n",
    "nombre_recovered    16744\n",
    "Name: 341, dtype: int64"
   ]
  },
  {
   "cell_type": "markdown",
   "id": "41ffa192",
   "metadata": {},
   "source": [
    "nombre_infected       787\n",
    "nombre_sain          2048\n",
    "nombre_exposed        415\n",
    "nombre_recovered    16750\n",
    "Name: 342, dtype: int64"
   ]
  },
  {
   "cell_type": "markdown",
   "id": "a824e4de",
   "metadata": {},
   "source": [
    "nombre_infected       802\n",
    "nombre_sain          2047\n",
    "nombre_exposed        401\n",
    "nombre_recovered    16750\n",
    "Name: 343, dtype: int64"
   ]
  },
  {
   "cell_type": "markdown",
   "id": "4315373b",
   "metadata": {},
   "source": [
    "nombre_infected       805\n",
    "nombre_sain          2061\n",
    "nombre_exposed        394\n",
    "nombre_recovered    16740\n",
    "Name: 344, dtype: int64"
   ]
  },
  {
   "cell_type": "markdown",
   "id": "20831f39",
   "metadata": {},
   "source": [
    "nombre_infected       801\n",
    "nombre_sain          2071\n",
    "nombre_exposed        389\n",
    "nombre_recovered    16739\n",
    "Name: 345, dtype: int64"
   ]
  },
  {
   "cell_type": "markdown",
   "id": "1b9505ce",
   "metadata": {},
   "source": [
    "nombre_infected       791\n",
    "nombre_sain          2068\n",
    "nombre_exposed        403\n",
    "nombre_recovered    16738\n",
    "Name: 346, dtype: int64"
   ]
  },
  {
   "cell_type": "markdown",
   "id": "962a2586",
   "metadata": {},
   "source": [
    "nombre_infected       792\n",
    "nombre_sain          2088\n",
    "nombre_exposed        404\n",
    "nombre_recovered    16716\n",
    "Name: 347, dtype: int64"
   ]
  },
  {
   "cell_type": "markdown",
   "id": "177585c7",
   "metadata": {},
   "source": [
    "nombre_infected       799\n",
    "nombre_sain          2093\n",
    "nombre_exposed        394\n",
    "nombre_recovered    16714\n",
    "Name: 348, dtype: int64"
   ]
  },
  {
   "cell_type": "markdown",
   "id": "928c1d33",
   "metadata": {},
   "source": [
    "nombre_infected       805\n",
    "nombre_sain          2121\n",
    "nombre_exposed        398\n",
    "nombre_recovered    16676\n",
    "Name: 349, dtype: int64"
   ]
  },
  {
   "cell_type": "markdown",
   "id": "6ec5d23e",
   "metadata": {},
   "source": [
    "nombre_infected       792\n",
    "nombre_sain          2144\n",
    "nombre_exposed        387\n",
    "nombre_recovered    16677\n",
    "Name: 350, dtype: int64"
   ]
  },
  {
   "cell_type": "markdown",
   "id": "fb67a177",
   "metadata": {},
   "source": [
    "nombre_infected       790\n",
    "nombre_sain          2174\n",
    "nombre_exposed        374\n",
    "nombre_recovered    16662\n",
    "Name: 351, dtype: int64"
   ]
  },
  {
   "cell_type": "markdown",
   "id": "3c19d446",
   "metadata": {},
   "source": [
    "nombre_infected       790\n",
    "nombre_sain          2194\n",
    "nombre_exposed        405\n",
    "nombre_recovered    16611\n",
    "Name: 352, dtype: int64"
   ]
  },
  {
   "cell_type": "markdown",
   "id": "e92ffc34",
   "metadata": {},
   "source": [
    "nombre_infected       778\n",
    "nombre_sain          2187\n",
    "nombre_exposed        431\n",
    "nombre_recovered    16604\n",
    "Name: 353, dtype: int64"
   ]
  },
  {
   "cell_type": "markdown",
   "id": "02e51232",
   "metadata": {},
   "source": [
    "nombre_infected       798\n",
    "nombre_sain          2214\n",
    "nombre_exposed        407\n",
    "nombre_recovered    16581\n",
    "Name: 354, dtype: int64"
   ]
  },
  {
   "cell_type": "markdown",
   "id": "8e15271c",
   "metadata": {},
   "source": [
    "nombre_infected       802\n",
    "nombre_sain          2235\n",
    "nombre_exposed        415\n",
    "nombre_recovered    16548\n",
    "Name: 355, dtype: int64"
   ]
  },
  {
   "cell_type": "markdown",
   "id": "874e9371",
   "metadata": {},
   "source": [
    "nombre_infected       806\n",
    "nombre_sain          2268\n",
    "nombre_exposed        424\n",
    "nombre_recovered    16502\n",
    "Name: 356, dtype: int64"
   ]
  },
  {
   "cell_type": "markdown",
   "id": "24e4297c",
   "metadata": {},
   "source": [
    "nombre_infected       787\n",
    "nombre_sain          2277\n",
    "nombre_exposed        452\n",
    "nombre_recovered    16484\n",
    "Name: 357, dtype: int64"
   ]
  },
  {
   "cell_type": "markdown",
   "id": "ca44cbb8",
   "metadata": {},
   "source": [
    "nombre_infected       758\n",
    "nombre_sain          2269\n",
    "nombre_exposed        475\n",
    "nombre_recovered    16498\n",
    "Name: 358, dtype: int64"
   ]
  },
  {
   "cell_type": "markdown",
   "id": "1ad48874",
   "metadata": {},
   "source": [
    "nombre_infected       767\n",
    "nombre_sain          2271\n",
    "nombre_exposed        467\n",
    "nombre_recovered    16495\n",
    "Name: 359, dtype: int64"
   ]
  },
  {
   "cell_type": "markdown",
   "id": "f2a91c5a",
   "metadata": {},
   "source": [
    "nombre_infected       812\n",
    "nombre_sain          2286\n",
    "nombre_exposed        452\n",
    "nombre_recovered    16450\n",
    "Name: 360, dtype: int64"
   ]
  },
  {
   "cell_type": "markdown",
   "id": "e46e3286",
   "metadata": {},
   "source": [
    "nombre_infected       812\n",
    "nombre_sain          2273\n",
    "nombre_exposed        471\n",
    "nombre_recovered    16444\n",
    "Name: 361, dtype: int64"
   ]
  },
  {
   "cell_type": "markdown",
   "id": "9f48c4c6",
   "metadata": {},
   "source": [
    "nombre_infected       839\n",
    "nombre_sain          2275\n",
    "nombre_exposed        466\n",
    "nombre_recovered    16420\n",
    "Name: 362, dtype: int64"
   ]
  },
  {
   "cell_type": "markdown",
   "id": "ff897fd2",
   "metadata": {},
   "source": [
    "nombre_infected       848\n",
    "nombre_sain          2278\n",
    "nombre_exposed        486\n",
    "nombre_recovered    16388\n",
    "Name: 363, dtype: int64"
   ]
  },
  {
   "cell_type": "markdown",
   "id": "048aca57",
   "metadata": {},
   "source": [
    "nombre_infected       860\n",
    "nombre_sain          2253\n",
    "nombre_exposed        502\n",
    "nombre_recovered    16385\n",
    "Name: 364, dtype: int64"
   ]
  },
  {
   "cell_type": "markdown",
   "id": "8a82a7bc",
   "metadata": {},
   "source": [
    "nombre_infected       888\n",
    "nombre_sain          2266\n",
    "nombre_exposed        481\n",
    "nombre_recovered    16365\n",
    "Name: 365, dtype: int64"
   ]
  },
  {
   "cell_type": "markdown",
   "id": "2724d627",
   "metadata": {},
   "source": [
    "nombre_infected       905\n",
    "nombre_sain          2266\n",
    "nombre_exposed        473\n",
    "nombre_recovered    16356\n",
    "Name: 366, dtype: int64"
   ]
  },
  {
   "cell_type": "markdown",
   "id": "5a586dae",
   "metadata": {},
   "source": [
    "nombre_infected       921\n",
    "nombre_sain          2256\n",
    "nombre_exposed        491\n",
    "nombre_recovered    16332\n",
    "Name: 367, dtype: int64"
   ]
  },
  {
   "cell_type": "markdown",
   "id": "dc7f6025",
   "metadata": {},
   "source": [
    "nombre_infected       936\n",
    "nombre_sain          2253\n",
    "nombre_exposed        498\n",
    "nombre_recovered    16313\n",
    "Name: 368, dtype: int64"
   ]
  },
  {
   "cell_type": "markdown",
   "id": "82700610",
   "metadata": {},
   "source": [
    "nombre_infected       937\n",
    "nombre_sain          2267\n",
    "nombre_exposed        482\n",
    "nombre_recovered    16314\n",
    "Name: 369, dtype: int64"
   ]
  },
  {
   "cell_type": "markdown",
   "id": "f430ba4d",
   "metadata": {},
   "source": [
    "nombre_infected       936\n",
    "nombre_sain          2242\n",
    "nombre_exposed        516\n",
    "nombre_recovered    16306\n",
    "Name: 370, dtype: int64"
   ]
  },
  {
   "cell_type": "markdown",
   "id": "85976bff",
   "metadata": {},
   "source": [
    "nombre_infected       952\n",
    "nombre_sain          2231\n",
    "nombre_exposed        503\n",
    "nombre_recovered    16314\n",
    "Name: 371, dtype: int64"
   ]
  },
  {
   "cell_type": "markdown",
   "id": "4b073ef2",
   "metadata": {},
   "source": [
    "nombre_infected      1007\n",
    "nombre_sain          2231\n",
    "nombre_exposed        478\n",
    "nombre_recovered    16284\n",
    "Name: 372, dtype: int64"
   ]
  },
  {
   "cell_type": "markdown",
   "id": "218b27ba",
   "metadata": {},
   "source": [
    "nombre_infected       991\n",
    "nombre_sain          2216\n",
    "nombre_exposed        497\n",
    "nombre_recovered    16296\n",
    "Name: 373, dtype: int64"
   ]
  },
  {
   "cell_type": "markdown",
   "id": "9c74aac2",
   "metadata": {},
   "source": [
    "nombre_infected       996\n",
    "nombre_sain          2209\n",
    "nombre_exposed        501\n",
    "nombre_recovered    16294\n",
    "Name: 374, dtype: int64"
   ]
  },
  {
   "cell_type": "markdown",
   "id": "933960ed",
   "metadata": {},
   "source": [
    "nombre_infected      1030\n",
    "nombre_sain          2195\n",
    "nombre_exposed        521\n",
    "nombre_recovered    16254\n",
    "Name: 375, dtype: int64"
   ]
  },
  {
   "cell_type": "markdown",
   "id": "d3b07968",
   "metadata": {},
   "source": [
    "nombre_infected       986\n",
    "nombre_sain          2187\n",
    "nombre_exposed        531\n",
    "nombre_recovered    16296\n",
    "Name: 376, dtype: int64"
   ]
  },
  {
   "cell_type": "markdown",
   "id": "f0fb0f08",
   "metadata": {},
   "source": [
    "nombre_infected       982\n",
    "nombre_sain          2202\n",
    "nombre_exposed        516\n",
    "nombre_recovered    16300\n",
    "Name: 377, dtype: int64"
   ]
  },
  {
   "cell_type": "markdown",
   "id": "e2a10e76",
   "metadata": {},
   "source": [
    "nombre_infected       995\n",
    "nombre_sain          2176\n",
    "nombre_exposed        526\n",
    "nombre_recovered    16303\n",
    "Name: 378, dtype: int64"
   ]
  },
  {
   "cell_type": "markdown",
   "id": "5c90a686",
   "metadata": {},
   "source": [
    "nombre_infected      1000\n",
    "nombre_sain          2178\n",
    "nombre_exposed        536\n",
    "nombre_recovered    16286\n",
    "Name: 379, dtype: int64"
   ]
  },
  {
   "cell_type": "markdown",
   "id": "2e4f47b7",
   "metadata": {},
   "source": [
    "nombre_infected      1020\n",
    "nombre_sain          2191\n",
    "nombre_exposed        517\n",
    "nombre_recovered    16272\n",
    "Name: 380, dtype: int64"
   ]
  },
  {
   "cell_type": "markdown",
   "id": "0c47b943",
   "metadata": {},
   "source": [
    "nombre_infected      1034\n",
    "nombre_sain          2137\n",
    "nombre_exposed        525\n",
    "nombre_recovered    16304\n",
    "Name: 381, dtype: int64"
   ]
  },
  {
   "cell_type": "markdown",
   "id": "a49b0822",
   "metadata": {},
   "source": [
    "nombre_infected      1044\n",
    "nombre_sain          2116\n",
    "nombre_exposed        513\n",
    "nombre_recovered    16327\n",
    "Name: 382, dtype: int64"
   ]
  },
  {
   "cell_type": "markdown",
   "id": "79710ca4",
   "metadata": {},
   "source": [
    "nombre_infected      1030\n",
    "nombre_sain          2090\n",
    "nombre_exposed        524\n",
    "nombre_recovered    16356\n",
    "Name: 383, dtype: int64"
   ]
  },
  {
   "cell_type": "markdown",
   "id": "63eea2d3",
   "metadata": {},
   "source": [
    "nombre_infected      1023\n",
    "nombre_sain          2106\n",
    "nombre_exposed        506\n",
    "nombre_recovered    16365\n",
    "Name: 384, dtype: int64"
   ]
  },
  {
   "cell_type": "markdown",
   "id": "c123dd66",
   "metadata": {},
   "source": [
    "nombre_infected      1022\n",
    "nombre_sain          2107\n",
    "nombre_exposed        507\n",
    "nombre_recovered    16364\n",
    "Name: 385, dtype: int64"
   ]
  },
  {
   "cell_type": "markdown",
   "id": "5257212f",
   "metadata": {},
   "source": [
    "nombre_infected      1031\n",
    "nombre_sain          2081\n",
    "nombre_exposed        519\n",
    "nombre_recovered    16369\n",
    "Name: 386, dtype: int64"
   ]
  },
  {
   "cell_type": "markdown",
   "id": "0202dd0c",
   "metadata": {},
   "source": [
    "nombre_infected      1038\n",
    "nombre_sain          2053\n",
    "nombre_exposed        531\n",
    "nombre_recovered    16378\n",
    "Name: 387, dtype: int64"
   ]
  },
  {
   "cell_type": "markdown",
   "id": "68c5c68d",
   "metadata": {},
   "source": [
    "nombre_infected      1033\n",
    "nombre_sain          2039\n",
    "nombre_exposed        530\n",
    "nombre_recovered    16398\n",
    "Name: 388, dtype: int64"
   ]
  },
  {
   "cell_type": "markdown",
   "id": "44b0ab67",
   "metadata": {},
   "source": [
    "nombre_infected      1006\n",
    "nombre_sain          2002\n",
    "nombre_exposed        550\n",
    "nombre_recovered    16442\n",
    "Name: 389, dtype: int64"
   ]
  },
  {
   "cell_type": "markdown",
   "id": "e47c689d",
   "metadata": {},
   "source": [
    "nombre_infected      1010\n",
    "nombre_sain          1994\n",
    "nombre_exposed        546\n",
    "nombre_recovered    16450\n",
    "Name: 390, dtype: int64"
   ]
  },
  {
   "cell_type": "markdown",
   "id": "bc594ba1",
   "metadata": {},
   "source": [
    "nombre_infected      1008\n",
    "nombre_sain          1991\n",
    "nombre_exposed        554\n",
    "nombre_recovered    16447\n",
    "Name: 391, dtype: int64"
   ]
  },
  {
   "cell_type": "markdown",
   "id": "af3ee168",
   "metadata": {},
   "source": [
    "nombre_infected      1010\n",
    "nombre_sain          2013\n",
    "nombre_exposed        531\n",
    "nombre_recovered    16446\n",
    "Name: 392, dtype: int64"
   ]
  },
  {
   "cell_type": "markdown",
   "id": "a3a438e5",
   "metadata": {},
   "source": [
    "nombre_infected      1012\n",
    "nombre_sain          1997\n",
    "nombre_exposed        548\n",
    "nombre_recovered    16443\n",
    "Name: 393, dtype: int64"
   ]
  },
  {
   "cell_type": "markdown",
   "id": "ddcf1f87",
   "metadata": {},
   "source": [
    "nombre_infected      1013\n",
    "nombre_sain          1945\n",
    "nombre_exposed        580\n",
    "nombre_recovered    16462\n",
    "Name: 394, dtype: int64"
   ]
  },
  {
   "cell_type": "markdown",
   "id": "d99bf3bf",
   "metadata": {},
   "source": [
    "nombre_infected      1011\n",
    "nombre_sain          1959\n",
    "nombre_exposed        574\n",
    "nombre_recovered    16456\n",
    "Name: 395, dtype: int64"
   ]
  },
  {
   "cell_type": "markdown",
   "id": "113bb1a4",
   "metadata": {},
   "source": [
    "nombre_infected      1043\n",
    "nombre_sain          1966\n",
    "nombre_exposed        555\n",
    "nombre_recovered    16436\n",
    "Name: 396, dtype: int64"
   ]
  },
  {
   "cell_type": "markdown",
   "id": "635955cd",
   "metadata": {},
   "source": [
    "nombre_infected      1063\n",
    "nombre_sain          1951\n",
    "nombre_exposed        546\n",
    "nombre_recovered    16440\n",
    "Name: 397, dtype: int64"
   ]
  },
  {
   "cell_type": "markdown",
   "id": "909c5827",
   "metadata": {},
   "source": [
    "nombre_infected      1076\n",
    "nombre_sain          1960\n",
    "nombre_exposed        513\n",
    "nombre_recovered    16451\n",
    "Name: 398, dtype: int64"
   ]
  },
  {
   "cell_type": "markdown",
   "id": "955e7421",
   "metadata": {},
   "source": [
    "nombre_infected      1073\n",
    "nombre_sain          1977\n",
    "nombre_exposed        526\n",
    "nombre_recovered    16424\n",
    "Name: 399, dtype: int64"
   ]
  },
  {
   "cell_type": "markdown",
   "id": "679f0252",
   "metadata": {},
   "source": [
    "nombre_infected      1071\n",
    "nombre_sain          1973\n",
    "nombre_exposed        525\n",
    "nombre_recovered    16431\n",
    "Name: 400, dtype: int64"
   ]
  },
  {
   "cell_type": "markdown",
   "id": "7567271f",
   "metadata": {},
   "source": [
    "nombre_infected      1066\n",
    "nombre_sain          1990\n",
    "nombre_exposed        518\n",
    "nombre_recovered    16426\n",
    "Name: 401, dtype: int64"
   ]
  },
  {
   "cell_type": "markdown",
   "id": "84da937e",
   "metadata": {},
   "source": [
    "nombre_infected      1066\n",
    "nombre_sain          1980\n",
    "nombre_exposed        511\n",
    "nombre_recovered    16443\n",
    "Name: 402, dtype: int64"
   ]
  },
  {
   "cell_type": "markdown",
   "id": "c13d050f",
   "metadata": {},
   "source": [
    "nombre_infected      1056\n",
    "nombre_sain          1971\n",
    "nombre_exposed        527\n",
    "nombre_recovered    16446\n",
    "Name: 403, dtype: int64"
   ]
  },
  {
   "cell_type": "markdown",
   "id": "afc6fda2",
   "metadata": {},
   "source": [
    "nombre_infected      1031\n",
    "nombre_sain          1988\n",
    "nombre_exposed        532\n",
    "nombre_recovered    16449\n",
    "Name: 404, dtype: int64"
   ]
  },
  {
   "cell_type": "markdown",
   "id": "87ee7d52",
   "metadata": {},
   "source": [
    "nombre_infected      1031\n",
    "nombre_sain          2008\n",
    "nombre_exposed        508\n",
    "nombre_recovered    16453\n",
    "Name: 405, dtype: int64"
   ]
  },
  {
   "cell_type": "markdown",
   "id": "963bca9a",
   "metadata": {},
   "source": [
    "nombre_infected      1037\n",
    "nombre_sain          2027\n",
    "nombre_exposed        493\n",
    "nombre_recovered    16443\n",
    "Name: 406, dtype: int64"
   ]
  },
  {
   "cell_type": "markdown",
   "id": "f49338cb",
   "metadata": {},
   "source": [
    "nombre_infected      1059\n",
    "nombre_sain          2029\n",
    "nombre_exposed        487\n",
    "nombre_recovered    16425\n",
    "Name: 407, dtype: int64"
   ]
  },
  {
   "cell_type": "markdown",
   "id": "74d08971",
   "metadata": {},
   "source": [
    "nombre_infected      1055\n",
    "nombre_sain          2019\n",
    "nombre_exposed        515\n",
    "nombre_recovered    16411\n",
    "Name: 408, dtype: int64"
   ]
  },
  {
   "cell_type": "markdown",
   "id": "29fe1b41",
   "metadata": {},
   "source": [
    "nombre_infected      1076\n",
    "nombre_sain          2049\n",
    "nombre_exposed        503\n",
    "nombre_recovered    16372\n",
    "Name: 409, dtype: int64"
   ]
  },
  {
   "cell_type": "markdown",
   "id": "2db4211c",
   "metadata": {},
   "source": [
    "nombre_infected      1058\n",
    "nombre_sain          2071\n",
    "nombre_exposed        520\n",
    "nombre_recovered    16351\n",
    "Name: 410, dtype: int64"
   ]
  },
  {
   "cell_type": "markdown",
   "id": "8994896c",
   "metadata": {},
   "source": [
    "nombre_infected      1037\n",
    "nombre_sain          2065\n",
    "nombre_exposed        549\n",
    "nombre_recovered    16349\n",
    "Name: 411, dtype: int64"
   ]
  },
  {
   "cell_type": "markdown",
   "id": "18f28e36",
   "metadata": {},
   "source": [
    "nombre_infected      1022\n",
    "nombre_sain          2090\n",
    "nombre_exposed        543\n",
    "nombre_recovered    16345\n",
    "Name: 412, dtype: int64"
   ]
  },
  {
   "cell_type": "markdown",
   "id": "6e7f0d19",
   "metadata": {},
   "source": [
    "nombre_infected      1039\n",
    "nombre_sain          2081\n",
    "nombre_exposed        543\n",
    "nombre_recovered    16337\n",
    "Name: 413, dtype: int64"
   ]
  },
  {
   "cell_type": "markdown",
   "id": "33e51f03",
   "metadata": {},
   "source": [
    "nombre_infected      1045\n",
    "nombre_sain          2090\n",
    "nombre_exposed        534\n",
    "nombre_recovered    16331\n",
    "Name: 414, dtype: int64"
   ]
  },
  {
   "cell_type": "markdown",
   "id": "7daafb87",
   "metadata": {},
   "source": [
    "nombre_infected      1045\n",
    "nombre_sain          2101\n",
    "nombre_exposed        532\n",
    "nombre_recovered    16322\n",
    "Name: 415, dtype: int64"
   ]
  },
  {
   "cell_type": "markdown",
   "id": "2ab22424",
   "metadata": {},
   "source": [
    "nombre_infected      1056\n",
    "nombre_sain          2113\n",
    "nombre_exposed        522\n",
    "nombre_recovered    16309\n",
    "Name: 416, dtype: int64"
   ]
  },
  {
   "cell_type": "markdown",
   "id": "07cd781d",
   "metadata": {},
   "source": [
    "nombre_infected      1041\n",
    "nombre_sain          2137\n",
    "nombre_exposed        527\n",
    "nombre_recovered    16295\n",
    "Name: 417, dtype: int64"
   ]
  },
  {
   "cell_type": "markdown",
   "id": "cef6de96",
   "metadata": {},
   "source": [
    "nombre_infected      1037\n",
    "nombre_sain          2112\n",
    "nombre_exposed        546\n",
    "nombre_recovered    16305\n",
    "Name: 418, dtype: int64"
   ]
  },
  {
   "cell_type": "markdown",
   "id": "b5b845c4",
   "metadata": {},
   "source": [
    "nombre_infected      1044\n",
    "nombre_sain          2116\n",
    "nombre_exposed        571\n",
    "nombre_recovered    16269\n",
    "Name: 419, dtype: int64"
   ]
  },
  {
   "cell_type": "markdown",
   "id": "405102c2",
   "metadata": {},
   "source": [
    "nombre_infected      1038\n",
    "nombre_sain          2123\n",
    "nombre_exposed        564\n",
    "nombre_recovered    16275\n",
    "Name: 420, dtype: int64"
   ]
  },
  {
   "cell_type": "markdown",
   "id": "9867c6c9",
   "metadata": {},
   "source": [
    "nombre_infected      1053\n",
    "nombre_sain          2118\n",
    "nombre_exposed        551\n",
    "nombre_recovered    16278\n",
    "Name: 421, dtype: int64"
   ]
  },
  {
   "cell_type": "markdown",
   "id": "4b90ad1d",
   "metadata": {},
   "source": [
    "nombre_infected      1056\n",
    "nombre_sain          2083\n",
    "nombre_exposed        575\n",
    "nombre_recovered    16286\n",
    "Name: 422, dtype: int64"
   ]
  },
  {
   "cell_type": "markdown",
   "id": "345fb379",
   "metadata": {},
   "source": [
    "nombre_infected      1065\n",
    "nombre_sain          2087\n",
    "nombre_exposed        577\n",
    "nombre_recovered    16271\n",
    "Name: 423, dtype: int64"
   ]
  },
  {
   "cell_type": "markdown",
   "id": "29b4df04",
   "metadata": {},
   "source": [
    "nombre_infected      1064\n",
    "nombre_sain          2087\n",
    "nombre_exposed        576\n",
    "nombre_recovered    16273\n",
    "Name: 424, dtype: int64"
   ]
  },
  {
   "cell_type": "markdown",
   "id": "e8ec935d",
   "metadata": {},
   "source": [
    "nombre_infected      1069\n",
    "nombre_sain          2037\n",
    "nombre_exposed        615\n",
    "nombre_recovered    16279\n",
    "Name: 425, dtype: int64"
   ]
  },
  {
   "cell_type": "markdown",
   "id": "f9035a34",
   "metadata": {},
   "source": [
    "nombre_infected      1096\n",
    "nombre_sain          2053\n",
    "nombre_exposed        573\n",
    "nombre_recovered    16278\n",
    "Name: 426, dtype: int64"
   ]
  },
  {
   "cell_type": "markdown",
   "id": "fc40d1bb",
   "metadata": {},
   "source": [
    "nombre_infected      1117\n",
    "nombre_sain          2052\n",
    "nombre_exposed        573\n",
    "nombre_recovered    16258\n",
    "Name: 427, dtype: int64"
   ]
  },
  {
   "cell_type": "markdown",
   "id": "d1ceb142",
   "metadata": {},
   "source": [
    "nombre_infected      1103\n",
    "nombre_sain          2051\n",
    "nombre_exposed        594\n",
    "nombre_recovered    16252\n",
    "Name: 428, dtype: int64"
   ]
  },
  {
   "cell_type": "markdown",
   "id": "e8670f87",
   "metadata": {},
   "source": [
    "nombre_infected      1120\n",
    "nombre_sain          2045\n",
    "nombre_exposed        590\n",
    "nombre_recovered    16245\n",
    "Name: 429, dtype: int64"
   ]
  },
  {
   "cell_type": "markdown",
   "id": "e7e9fa3a",
   "metadata": {},
   "source": [
    "nombre_infected      1121\n",
    "nombre_sain          2025\n",
    "nombre_exposed        610\n",
    "nombre_recovered    16244\n",
    "Name: 430, dtype: int64"
   ]
  },
  {
   "cell_type": "markdown",
   "id": "10b056ab",
   "metadata": {},
   "source": [
    "nombre_infected      1115\n",
    "nombre_sain          2043\n",
    "nombre_exposed        578\n",
    "nombre_recovered    16264\n",
    "Name: 431, dtype: int64"
   ]
  },
  {
   "cell_type": "markdown",
   "id": "b821ca82",
   "metadata": {},
   "source": [
    "nombre_infected      1130\n",
    "nombre_sain          2016\n",
    "nombre_exposed        586\n",
    "nombre_recovered    16268\n",
    "Name: 432, dtype: int64"
   ]
  },
  {
   "cell_type": "markdown",
   "id": "bb1619ad",
   "metadata": {},
   "source": [
    "nombre_infected      1129\n",
    "nombre_sain          2029\n",
    "nombre_exposed        561\n",
    "nombre_recovered    16281\n",
    "Name: 433, dtype: int64"
   ]
  },
  {
   "cell_type": "markdown",
   "id": "c28e18da",
   "metadata": {},
   "source": [
    "nombre_infected      1120\n",
    "nombre_sain          2022\n",
    "nombre_exposed        554\n",
    "nombre_recovered    16304\n",
    "Name: 434, dtype: int64"
   ]
  },
  {
   "cell_type": "markdown",
   "id": "98f6835a",
   "metadata": {},
   "source": [
    "nombre_infected      1115\n",
    "nombre_sain          2021\n",
    "nombre_exposed        561\n",
    "nombre_recovered    16303\n",
    "Name: 435, dtype: int64"
   ]
  },
  {
   "cell_type": "markdown",
   "id": "36f9ccb9",
   "metadata": {},
   "source": [
    "nombre_infected      1099\n",
    "nombre_sain          1987\n",
    "nombre_exposed        602\n",
    "nombre_recovered    16312\n",
    "Name: 436, dtype: int64"
   ]
  },
  {
   "cell_type": "markdown",
   "id": "bf3e6874",
   "metadata": {},
   "source": [
    "nombre_infected      1102\n",
    "nombre_sain          1975\n",
    "nombre_exposed        593\n",
    "nombre_recovered    16330\n",
    "Name: 437, dtype: int64"
   ]
  },
  {
   "cell_type": "markdown",
   "id": "69394d26",
   "metadata": {},
   "source": [
    "nombre_infected      1120\n",
    "nombre_sain          1996\n",
    "nombre_exposed        547\n",
    "nombre_recovered    16337\n",
    "Name: 438, dtype: int64"
   ]
  },
  {
   "cell_type": "markdown",
   "id": "367a5db8",
   "metadata": {},
   "source": [
    "nombre_infected      1093\n",
    "nombre_sain          2014\n",
    "nombre_exposed        551\n",
    "nombre_recovered    16342\n",
    "Name: 439, dtype: int64"
   ]
  },
  {
   "cell_type": "markdown",
   "id": "4c998eb7",
   "metadata": {},
   "source": [
    "nombre_infected      1069\n",
    "nombre_sain          2022\n",
    "nombre_exposed        524\n",
    "nombre_recovered    16385\n",
    "Name: 440, dtype: int64"
   ]
  },
  {
   "cell_type": "markdown",
   "id": "7f4d88e0",
   "metadata": {},
   "source": [
    "nombre_infected      1049\n",
    "nombre_sain          2045\n",
    "nombre_exposed        507\n",
    "nombre_recovered    16399\n",
    "Name: 441, dtype: int64"
   ]
  },
  {
   "cell_type": "markdown",
   "id": "8b476670",
   "metadata": {},
   "source": [
    "nombre_infected      1041\n",
    "nombre_sain          2063\n",
    "nombre_exposed        509\n",
    "nombre_recovered    16387\n",
    "Name: 442, dtype: int64"
   ]
  },
  {
   "cell_type": "markdown",
   "id": "5c610af1",
   "metadata": {},
   "source": [
    "nombre_infected      1021\n",
    "nombre_sain          2070\n",
    "nombre_exposed        519\n",
    "nombre_recovered    16390\n",
    "Name: 443, dtype: int64"
   ]
  },
  {
   "cell_type": "markdown",
   "id": "ba8a1045",
   "metadata": {},
   "source": [
    "nombre_infected      1008\n",
    "nombre_sain          2086\n",
    "nombre_exposed        522\n",
    "nombre_recovered    16384\n",
    "Name: 444, dtype: int64"
   ]
  },
  {
   "cell_type": "markdown",
   "id": "7f13e515",
   "metadata": {},
   "source": [
    "nombre_infected      1008\n",
    "nombre_sain          2108\n",
    "nombre_exposed        523\n",
    "nombre_recovered    16361\n",
    "Name: 445, dtype: int64"
   ]
  },
  {
   "cell_type": "markdown",
   "id": "39feef68",
   "metadata": {},
   "source": [
    "nombre_infected       986\n",
    "nombre_sain          2097\n",
    "nombre_exposed        560\n",
    "nombre_recovered    16357\n",
    "Name: 446, dtype: int64"
   ]
  },
  {
   "cell_type": "markdown",
   "id": "c762a8b5",
   "metadata": {},
   "source": [
    "nombre_infected       959\n",
    "nombre_sain          2123\n",
    "nombre_exposed        555\n",
    "nombre_recovered    16363\n",
    "Name: 447, dtype: int64"
   ]
  },
  {
   "cell_type": "markdown",
   "id": "738f80a0",
   "metadata": {},
   "source": [
    "nombre_infected       946\n",
    "nombre_sain          2134\n",
    "nombre_exposed        558\n",
    "nombre_recovered    16362\n",
    "Name: 448, dtype: int64"
   ]
  },
  {
   "cell_type": "markdown",
   "id": "3d73e302",
   "metadata": {},
   "source": [
    "nombre_infected       908\n",
    "nombre_sain          2165\n",
    "nombre_exposed        565\n",
    "nombre_recovered    16362\n",
    "Name: 449, dtype: int64"
   ]
  },
  {
   "cell_type": "markdown",
   "id": "01ba806b",
   "metadata": {},
   "source": [
    "nombre_infected       921\n",
    "nombre_sain          2210\n",
    "nombre_exposed        547\n",
    "nombre_recovered    16322\n",
    "Name: 450, dtype: int64"
   ]
  },
  {
   "cell_type": "markdown",
   "id": "803f8832",
   "metadata": {},
   "source": [
    "nombre_infected       938\n",
    "nombre_sain          2205\n",
    "nombre_exposed        544\n",
    "nombre_recovered    16313\n",
    "Name: 451, dtype: int64"
   ]
  },
  {
   "cell_type": "markdown",
   "id": "f839c799",
   "metadata": {},
   "source": [
    "nombre_infected       945\n",
    "nombre_sain          2228\n",
    "nombre_exposed        545\n",
    "nombre_recovered    16282\n",
    "Name: 452, dtype: int64"
   ]
  },
  {
   "cell_type": "markdown",
   "id": "31cdbb41",
   "metadata": {},
   "source": [
    "nombre_infected       961\n",
    "nombre_sain          2222\n",
    "nombre_exposed        556\n",
    "nombre_recovered    16261\n",
    "Name: 453, dtype: int64"
   ]
  },
  {
   "cell_type": "markdown",
   "id": "3fb598d9",
   "metadata": {},
   "source": [
    "nombre_infected       967\n",
    "nombre_sain          2228\n",
    "nombre_exposed        570\n",
    "nombre_recovered    16235\n",
    "Name: 454, dtype: int64"
   ]
  },
  {
   "cell_type": "markdown",
   "id": "b7ea5fdb",
   "metadata": {},
   "source": [
    "nombre_infected       981\n",
    "nombre_sain          2236\n",
    "nombre_exposed        564\n",
    "nombre_recovered    16219\n",
    "Name: 455, dtype: int64"
   ]
  },
  {
   "cell_type": "markdown",
   "id": "6178531f",
   "metadata": {},
   "source": [
    "nombre_infected      1005\n",
    "nombre_sain          2243\n",
    "nombre_exposed        563\n",
    "nombre_recovered    16189\n",
    "Name: 456, dtype: int64"
   ]
  },
  {
   "cell_type": "markdown",
   "id": "e1fd6517",
   "metadata": {},
   "source": [
    "nombre_infected      1008\n",
    "nombre_sain          2278\n",
    "nombre_exposed        558\n",
    "nombre_recovered    16156\n",
    "Name: 457, dtype: int64"
   ]
  },
  {
   "cell_type": "markdown",
   "id": "73258380",
   "metadata": {},
   "source": [
    "nombre_infected      1010\n",
    "nombre_sain          2291\n",
    "nombre_exposed        548\n",
    "nombre_recovered    16151\n",
    "Name: 458, dtype: int64"
   ]
  },
  {
   "cell_type": "markdown",
   "id": "af7e2b25",
   "metadata": {},
   "source": [
    "nombre_infected      1029\n",
    "nombre_sain          2276\n",
    "nombre_exposed        552\n",
    "nombre_recovered    16143\n",
    "Name: 459, dtype: int64"
   ]
  },
  {
   "cell_type": "markdown",
   "id": "1b298834",
   "metadata": {},
   "source": [
    "nombre_infected      1033\n",
    "nombre_sain          2271\n",
    "nombre_exposed        566\n",
    "nombre_recovered    16130\n",
    "Name: 460, dtype: int64"
   ]
  },
  {
   "cell_type": "markdown",
   "id": "2b39dcb5",
   "metadata": {},
   "source": [
    "nombre_infected      1002\n",
    "nombre_sain          2296\n",
    "nombre_exposed        579\n",
    "nombre_recovered    16123\n",
    "Name: 461, dtype: int64"
   ]
  },
  {
   "cell_type": "markdown",
   "id": "11fe8bb1",
   "metadata": {},
   "source": [
    "nombre_infected      1019\n",
    "nombre_sain          2274\n",
    "nombre_exposed        592\n",
    "nombre_recovered    16115\n",
    "Name: 462, dtype: int64"
   ]
  },
  {
   "cell_type": "markdown",
   "id": "e5ea8b25",
   "metadata": {},
   "source": [
    "nombre_infected      1026\n",
    "nombre_sain          2283\n",
    "nombre_exposed        592\n",
    "nombre_recovered    16099\n",
    "Name: 463, dtype: int64"
   ]
  },
  {
   "cell_type": "markdown",
   "id": "2ee2a102",
   "metadata": {},
   "source": [
    "nombre_infected      1027\n",
    "nombre_sain          2291\n",
    "nombre_exposed        589\n",
    "nombre_recovered    16093\n",
    "Name: 464, dtype: int64"
   ]
  },
  {
   "cell_type": "markdown",
   "id": "da5af528",
   "metadata": {},
   "source": [
    "nombre_infected      1036\n",
    "nombre_sain          2282\n",
    "nombre_exposed        598\n",
    "nombre_recovered    16084\n",
    "Name: 465, dtype: int64"
   ]
  },
  {
   "cell_type": "markdown",
   "id": "0f47b613",
   "metadata": {},
   "source": [
    "nombre_infected      1064\n",
    "nombre_sain          2301\n",
    "nombre_exposed        592\n",
    "nombre_recovered    16043\n",
    "Name: 466, dtype: int64"
   ]
  },
  {
   "cell_type": "markdown",
   "id": "c0be04c7",
   "metadata": {},
   "source": [
    "nombre_infected      1093\n",
    "nombre_sain          2306\n",
    "nombre_exposed        610\n",
    "nombre_recovered    15991\n",
    "Name: 467, dtype: int64"
   ]
  },
  {
   "cell_type": "markdown",
   "id": "94e04875",
   "metadata": {},
   "source": [
    "nombre_infected      1070\n",
    "nombre_sain          2301\n",
    "nombre_exposed        646\n",
    "nombre_recovered    15983\n",
    "Name: 468, dtype: int64"
   ]
  },
  {
   "cell_type": "markdown",
   "id": "245f23a8",
   "metadata": {},
   "source": [
    "nombre_infected      1082\n",
    "nombre_sain          2297\n",
    "nombre_exposed        646\n",
    "nombre_recovered    15975\n",
    "Name: 469, dtype: int64"
   ]
  },
  {
   "cell_type": "markdown",
   "id": "cb541177",
   "metadata": {},
   "source": [
    "nombre_infected      1113\n",
    "nombre_sain          2282\n",
    "nombre_exposed        646\n",
    "nombre_recovered    15959\n",
    "Name: 470, dtype: int64"
   ]
  },
  {
   "cell_type": "markdown",
   "id": "63ce8ea6",
   "metadata": {},
   "source": [
    "nombre_infected      1122\n",
    "nombre_sain          2261\n",
    "nombre_exposed        641\n",
    "nombre_recovered    15976\n",
    "Name: 471, dtype: int64"
   ]
  },
  {
   "cell_type": "markdown",
   "id": "f87237b3",
   "metadata": {},
   "source": [
    "nombre_infected      1151\n",
    "nombre_sain          2230\n",
    "nombre_exposed        658\n",
    "nombre_recovered    15961\n",
    "Name: 472, dtype: int64"
   ]
  },
  {
   "cell_type": "markdown",
   "id": "da7a3fb9",
   "metadata": {},
   "source": [
    "nombre_infected      1153\n",
    "nombre_sain          2211\n",
    "nombre_exposed        664\n",
    "nombre_recovered    15972\n",
    "Name: 473, dtype: int64"
   ]
  },
  {
   "cell_type": "markdown",
   "id": "8311d97c",
   "metadata": {},
   "source": [
    "nombre_infected      1160\n",
    "nombre_sain          2180\n",
    "nombre_exposed        687\n",
    "nombre_recovered    15973\n",
    "Name: 474, dtype: int64"
   ]
  },
  {
   "cell_type": "markdown",
   "id": "0d70d99d",
   "metadata": {},
   "source": [
    "nombre_infected      1170\n",
    "nombre_sain          2158\n",
    "nombre_exposed        678\n",
    "nombre_recovered    15994\n",
    "Name: 475, dtype: int64"
   ]
  },
  {
   "cell_type": "markdown",
   "id": "8815a911",
   "metadata": {},
   "source": [
    "nombre_infected      1177\n",
    "nombre_sain          2137\n",
    "nombre_exposed        683\n",
    "nombre_recovered    16003\n",
    "Name: 476, dtype: int64"
   ]
  },
  {
   "cell_type": "markdown",
   "id": "e86d4521",
   "metadata": {},
   "source": [
    "nombre_infected      1189\n",
    "nombre_sain          2127\n",
    "nombre_exposed        682\n",
    "nombre_recovered    16002\n",
    "Name: 477, dtype: int64"
   ]
  },
  {
   "cell_type": "markdown",
   "id": "edcd653b",
   "metadata": {},
   "source": [
    "nombre_infected      1191\n",
    "nombre_sain          2121\n",
    "nombre_exposed        677\n",
    "nombre_recovered    16011\n",
    "Name: 478, dtype: int64"
   ]
  },
  {
   "cell_type": "markdown",
   "id": "929aebcc",
   "metadata": {},
   "source": [
    "nombre_infected      1219\n",
    "nombre_sain          2118\n",
    "nombre_exposed        665\n",
    "nombre_recovered    15998\n",
    "Name: 479, dtype: int64"
   ]
  },
  {
   "cell_type": "markdown",
   "id": "e42b4241",
   "metadata": {},
   "source": [
    "nombre_infected      1224\n",
    "nombre_sain          2130\n",
    "nombre_exposed        637\n",
    "nombre_recovered    16009\n",
    "Name: 480, dtype: int64"
   ]
  },
  {
   "cell_type": "markdown",
   "id": "3507f473",
   "metadata": {},
   "source": [
    "nombre_infected      1201\n",
    "nombre_sain          2118\n",
    "nombre_exposed        638\n",
    "nombre_recovered    16043\n",
    "Name: 481, dtype: int64"
   ]
  },
  {
   "cell_type": "markdown",
   "id": "86f24d35",
   "metadata": {},
   "source": [
    "nombre_infected      1188\n",
    "nombre_sain          2127\n",
    "nombre_exposed        647\n",
    "nombre_recovered    16038\n",
    "Name: 482, dtype: int64"
   ]
  },
  {
   "cell_type": "markdown",
   "id": "9d716855",
   "metadata": {},
   "source": [
    "nombre_infected      1184\n",
    "nombre_sain          2141\n",
    "nombre_exposed        655\n",
    "nombre_recovered    16020\n",
    "Name: 483, dtype: int64"
   ]
  },
  {
   "cell_type": "markdown",
   "id": "954150c3",
   "metadata": {},
   "source": [
    "nombre_infected      1191\n",
    "nombre_sain          2125\n",
    "nombre_exposed        660\n",
    "nombre_recovered    16024\n",
    "Name: 484, dtype: int64"
   ]
  },
  {
   "cell_type": "markdown",
   "id": "6fe6afce",
   "metadata": {},
   "source": [
    "nombre_infected      1178\n",
    "nombre_sain          2137\n",
    "nombre_exposed        639\n",
    "nombre_recovered    16046\n",
    "Name: 485, dtype: int64"
   ]
  },
  {
   "cell_type": "markdown",
   "id": "b0481e97",
   "metadata": {},
   "source": [
    "nombre_infected      1190\n",
    "nombre_sain          2145\n",
    "nombre_exposed        647\n",
    "nombre_recovered    16018\n",
    "Name: 486, dtype: int64"
   ]
  },
  {
   "cell_type": "markdown",
   "id": "49bc7acd",
   "metadata": {},
   "source": [
    "nombre_infected      1182\n",
    "nombre_sain          2132\n",
    "nombre_exposed        645\n",
    "nombre_recovered    16041\n",
    "Name: 487, dtype: int64"
   ]
  },
  {
   "cell_type": "markdown",
   "id": "2655a1e5",
   "metadata": {},
   "source": [
    "nombre_infected      1205\n",
    "nombre_sain          2121\n",
    "nombre_exposed        648\n",
    "nombre_recovered    16026\n",
    "Name: 488, dtype: int64"
   ]
  },
  {
   "cell_type": "markdown",
   "id": "7af16f3a",
   "metadata": {},
   "source": [
    "nombre_infected      1199\n",
    "nombre_sain          2114\n",
    "nombre_exposed        655\n",
    "nombre_recovered    16032\n",
    "Name: 489, dtype: int64"
   ]
  },
  {
   "cell_type": "markdown",
   "id": "9eee7a54",
   "metadata": {},
   "source": [
    "nombre_infected      1201\n",
    "nombre_sain          2091\n",
    "nombre_exposed        689\n",
    "nombre_recovered    16019\n",
    "Name: 490, dtype: int64"
   ]
  },
  {
   "cell_type": "markdown",
   "id": "1828eb6a",
   "metadata": {},
   "source": [
    "nombre_infected      1180\n",
    "nombre_sain          2078\n",
    "nombre_exposed        696\n",
    "nombre_recovered    16046\n",
    "Name: 491, dtype: int64"
   ]
  },
  {
   "cell_type": "markdown",
   "id": "1b9ead5d",
   "metadata": {},
   "source": [
    "nombre_infected      1212\n",
    "nombre_sain          2066\n",
    "nombre_exposed        652\n",
    "nombre_recovered    16070\n",
    "Name: 492, dtype: int64"
   ]
  },
  {
   "cell_type": "markdown",
   "id": "c8463ccf",
   "metadata": {},
   "source": [
    "nombre_infected      1215\n",
    "nombre_sain          2046\n",
    "nombre_exposed        643\n",
    "nombre_recovered    16096\n",
    "Name: 493, dtype: int64"
   ]
  },
  {
   "cell_type": "markdown",
   "id": "2264a5cb",
   "metadata": {},
   "source": [
    "nombre_infected      1215\n",
    "nombre_sain          2056\n",
    "nombre_exposed        628\n",
    "nombre_recovered    16101\n",
    "Name: 494, dtype: int64"
   ]
  },
  {
   "cell_type": "markdown",
   "id": "4933d846",
   "metadata": {},
   "source": [
    "nombre_infected      1221\n",
    "nombre_sain          2065\n",
    "nombre_exposed        625\n",
    "nombre_recovered    16089\n",
    "Name: 495, dtype: int64"
   ]
  },
  {
   "cell_type": "markdown",
   "id": "c2547051",
   "metadata": {},
   "source": [
    "nombre_infected      1219\n",
    "nombre_sain          2047\n",
    "nombre_exposed        633\n",
    "nombre_recovered    16101\n",
    "Name: 496, dtype: int64"
   ]
  },
  {
   "cell_type": "markdown",
   "id": "e7b18d38",
   "metadata": {},
   "source": [
    "nombre_infected      1231\n",
    "nombre_sain          2046\n",
    "nombre_exposed        600\n",
    "nombre_recovered    16123\n",
    "Name: 497, dtype: int64"
   ]
  },
  {
   "cell_type": "markdown",
   "id": "9b96f454",
   "metadata": {},
   "source": [
    "nombre_infected      1243\n",
    "nombre_sain          2053\n",
    "nombre_exposed        587\n",
    "nombre_recovered    16117\n",
    "Name: 498, dtype: int64"
   ]
  },
  {
   "cell_type": "markdown",
   "id": "c9c2dd12",
   "metadata": {},
   "source": [
    "nombre_infected      1210\n",
    "nombre_sain          2057\n",
    "nombre_exposed        595\n",
    "nombre_recovered    16138\n",
    "Name: 499, dtype: int64"
   ]
  },
  {
   "cell_type": "markdown",
   "id": "a9521b13",
   "metadata": {},
   "source": [
    "nombre_infected      1210\n",
    "nombre_sain          2031\n",
    "nombre_exposed        606\n",
    "nombre_recovered    16153\n",
    "Name: 500, dtype: int64"
   ]
  },
  {
   "cell_type": "markdown",
   "id": "057a1355",
   "metadata": {},
   "source": [
    "nombre_infected      1178\n",
    "nombre_sain          2026\n",
    "nombre_exposed        630\n",
    "nombre_recovered    16166\n",
    "Name: 501, dtype: int64"
   ]
  },
  {
   "cell_type": "markdown",
   "id": "ec06f240",
   "metadata": {},
   "source": [
    "nombre_infected      1204\n",
    "nombre_sain          2007\n",
    "nombre_exposed        618\n",
    "nombre_recovered    16171\n",
    "Name: 502, dtype: int64"
   ]
  },
  {
   "cell_type": "markdown",
   "id": "a9b75170",
   "metadata": {},
   "source": [
    "nombre_infected      1201\n",
    "nombre_sain          2007\n",
    "nombre_exposed        608\n",
    "nombre_recovered    16184\n",
    "Name: 503, dtype: int64"
   ]
  },
  {
   "cell_type": "markdown",
   "id": "995a440c",
   "metadata": {},
   "source": [
    "nombre_infected      1200\n",
    "nombre_sain          2009\n",
    "nombre_exposed        619\n",
    "nombre_recovered    16172\n",
    "Name: 504, dtype: int64"
   ]
  },
  {
   "cell_type": "markdown",
   "id": "7ec749c0",
   "metadata": {},
   "source": [
    "nombre_infected      1205\n",
    "nombre_sain          2003\n",
    "nombre_exposed        627\n",
    "nombre_recovered    16165\n",
    "Name: 505, dtype: int64"
   ]
  },
  {
   "cell_type": "markdown",
   "id": "da45a37e",
   "metadata": {},
   "source": [
    "nombre_infected      1203\n",
    "nombre_sain          2028\n",
    "nombre_exposed        621\n",
    "nombre_recovered    16148\n",
    "Name: 506, dtype: int64"
   ]
  },
  {
   "cell_type": "markdown",
   "id": "1a9f57cd",
   "metadata": {},
   "source": [
    "nombre_infected      1226\n",
    "nombre_sain          2014\n",
    "nombre_exposed        599\n",
    "nombre_recovered    16161\n",
    "Name: 507, dtype: int64"
   ]
  },
  {
   "cell_type": "markdown",
   "id": "ab604f17",
   "metadata": {},
   "source": [
    "nombre_infected      1219\n",
    "nombre_sain          1997\n",
    "nombre_exposed        610\n",
    "nombre_recovered    16174\n",
    "Name: 508, dtype: int64"
   ]
  },
  {
   "cell_type": "markdown",
   "id": "424c33af",
   "metadata": {},
   "source": [
    "nombre_infected      1197\n",
    "nombre_sain          1985\n",
    "nombre_exposed        616\n",
    "nombre_recovered    16202\n",
    "Name: 509, dtype: int64"
   ]
  },
  {
   "cell_type": "markdown",
   "id": "770e6456",
   "metadata": {},
   "source": [
    "nombre_infected      1212\n",
    "nombre_sain          1971\n",
    "nombre_exposed        612\n",
    "nombre_recovered    16205\n",
    "Name: 510, dtype: int64"
   ]
  },
  {
   "cell_type": "markdown",
   "id": "99b237f0",
   "metadata": {},
   "source": [
    "nombre_infected      1181\n",
    "nombre_sain          1986\n",
    "nombre_exposed        620\n",
    "nombre_recovered    16213\n",
    "Name: 511, dtype: int64"
   ]
  },
  {
   "cell_type": "markdown",
   "id": "9a52f858",
   "metadata": {},
   "source": [
    "nombre_infected      1180\n",
    "nombre_sain          1993\n",
    "nombre_exposed        614\n",
    "nombre_recovered    16213\n",
    "Name: 512, dtype: int64"
   ]
  },
  {
   "cell_type": "markdown",
   "id": "5af37ae3",
   "metadata": {},
   "source": [
    "nombre_infected      1185\n",
    "nombre_sain          1949\n",
    "nombre_exposed        614\n",
    "nombre_recovered    16252\n",
    "Name: 513, dtype: int64"
   ]
  },
  {
   "cell_type": "markdown",
   "id": "08658215",
   "metadata": {},
   "source": [
    "nombre_infected      1173\n",
    "nombre_sain          1943\n",
    "nombre_exposed        609\n",
    "nombre_recovered    16275\n",
    "Name: 514, dtype: int64"
   ]
  },
  {
   "cell_type": "markdown",
   "id": "34406c00",
   "metadata": {},
   "source": [
    "nombre_infected      1170\n",
    "nombre_sain          1943\n",
    "nombre_exposed        610\n",
    "nombre_recovered    16277\n",
    "Name: 515, dtype: int64"
   ]
  },
  {
   "cell_type": "markdown",
   "id": "a8dbe74f",
   "metadata": {},
   "source": [
    "nombre_infected      1161\n",
    "nombre_sain          1953\n",
    "nombre_exposed        581\n",
    "nombre_recovered    16305\n",
    "Name: 516, dtype: int64"
   ]
  },
  {
   "cell_type": "markdown",
   "id": "dffbf0ba",
   "metadata": {},
   "source": [
    "nombre_infected      1153\n",
    "nombre_sain          1945\n",
    "nombre_exposed        586\n",
    "nombre_recovered    16316\n",
    "Name: 517, dtype: int64"
   ]
  },
  {
   "cell_type": "markdown",
   "id": "244d3317",
   "metadata": {},
   "source": [
    "nombre_infected      1139\n",
    "nombre_sain          1964\n",
    "nombre_exposed        561\n",
    "nombre_recovered    16336\n",
    "Name: 518, dtype: int64"
   ]
  },
  {
   "cell_type": "markdown",
   "id": "9715005e",
   "metadata": {},
   "source": [
    "nombre_infected      1142\n",
    "nombre_sain          1974\n",
    "nombre_exposed        548\n",
    "nombre_recovered    16336\n",
    "Name: 519, dtype: int64"
   ]
  },
  {
   "cell_type": "markdown",
   "id": "23ddb3ec",
   "metadata": {},
   "source": [
    "nombre_infected      1146\n",
    "nombre_sain          1982\n",
    "nombre_exposed        542\n",
    "nombre_recovered    16330\n",
    "Name: 520, dtype: int64"
   ]
  },
  {
   "cell_type": "markdown",
   "id": "d93fd763",
   "metadata": {},
   "source": [
    "nombre_infected      1141\n",
    "nombre_sain          1989\n",
    "nombre_exposed        532\n",
    "nombre_recovered    16338\n",
    "Name: 521, dtype: int64"
   ]
  },
  {
   "cell_type": "markdown",
   "id": "099a0b16",
   "metadata": {},
   "source": [
    "nombre_infected      1110\n",
    "nombre_sain          1984\n",
    "nombre_exposed        531\n",
    "nombre_recovered    16375\n",
    "Name: 522, dtype: int64"
   ]
  },
  {
   "cell_type": "markdown",
   "id": "a70dd136",
   "metadata": {},
   "source": [
    "nombre_infected      1098\n",
    "nombre_sain          1997\n",
    "nombre_exposed        548\n",
    "nombre_recovered    16357\n",
    "Name: 523, dtype: int64"
   ]
  },
  {
   "cell_type": "markdown",
   "id": "769a73cc",
   "metadata": {},
   "source": [
    "nombre_infected      1080\n",
    "nombre_sain          2028\n",
    "nombre_exposed        520\n",
    "nombre_recovered    16372\n",
    "Name: 524, dtype: int64"
   ]
  },
  {
   "cell_type": "markdown",
   "id": "09bdd673",
   "metadata": {},
   "source": [
    "nombre_infected      1085\n",
    "nombre_sain          2010\n",
    "nombre_exposed        527\n",
    "nombre_recovered    16378\n",
    "Name: 525, dtype: int64"
   ]
  },
  {
   "cell_type": "markdown",
   "id": "3fac4d3b",
   "metadata": {},
   "source": [
    "nombre_infected      1073\n",
    "nombre_sain          2021\n",
    "nombre_exposed        523\n",
    "nombre_recovered    16383\n",
    "Name: 526, dtype: int64"
   ]
  },
  {
   "cell_type": "markdown",
   "id": "0ab7f03c",
   "metadata": {},
   "source": [
    "nombre_infected      1046\n",
    "nombre_sain          2018\n",
    "nombre_exposed        516\n",
    "nombre_recovered    16420\n",
    "Name: 527, dtype: int64"
   ]
  },
  {
   "cell_type": "markdown",
   "id": "3f7c7c49",
   "metadata": {},
   "source": [
    "nombre_infected      1039\n",
    "nombre_sain          2044\n",
    "nombre_exposed        507\n",
    "nombre_recovered    16410\n",
    "Name: 528, dtype: int64"
   ]
  },
  {
   "cell_type": "markdown",
   "id": "8b7f16d4",
   "metadata": {},
   "source": [
    "nombre_infected      1007\n",
    "nombre_sain          2092\n",
    "nombre_exposed        508\n",
    "nombre_recovered    16393\n",
    "Name: 529, dtype: int64"
   ]
  },
  {
   "cell_type": "markdown",
   "id": "528619c7",
   "metadata": {},
   "source": [
    "nombre_infected      1006\n",
    "nombre_sain          2097\n",
    "nombre_exposed        524\n",
    "nombre_recovered    16373\n",
    "Name: 530, dtype: int64"
   ]
  },
  {
   "cell_type": "markdown",
   "id": "b22383c8",
   "metadata": {},
   "source": [
    "nombre_infected      1014\n",
    "nombre_sain          2102\n",
    "nombre_exposed        554\n",
    "nombre_recovered    16330\n",
    "Name: 531, dtype: int64"
   ]
  },
  {
   "cell_type": "markdown",
   "id": "d7232c0b",
   "metadata": {},
   "source": [
    "nombre_infected      1021\n",
    "nombre_sain          2120\n",
    "nombre_exposed        549\n",
    "nombre_recovered    16310\n",
    "Name: 532, dtype: int64"
   ]
  },
  {
   "cell_type": "markdown",
   "id": "1f3747b7",
   "metadata": {},
   "source": [
    "nombre_infected      1044\n",
    "nombre_sain          2122\n",
    "nombre_exposed        548\n",
    "nombre_recovered    16286\n",
    "Name: 533, dtype: int64"
   ]
  },
  {
   "cell_type": "markdown",
   "id": "90ecf79c",
   "metadata": {},
   "source": [
    "nombre_infected      1044\n",
    "nombre_sain          2126\n",
    "nombre_exposed        547\n",
    "nombre_recovered    16283\n",
    "Name: 534, dtype: int64"
   ]
  },
  {
   "cell_type": "markdown",
   "id": "9c4d9971",
   "metadata": {},
   "source": [
    "nombre_infected      1039\n",
    "nombre_sain          2166\n",
    "nombre_exposed        514\n",
    "nombre_recovered    16281\n",
    "Name: 535, dtype: int64"
   ]
  },
  {
   "cell_type": "markdown",
   "id": "2f9ea4eb",
   "metadata": {},
   "source": [
    "nombre_infected      1042\n",
    "nombre_sain          2175\n",
    "nombre_exposed        510\n",
    "nombre_recovered    16273\n",
    "Name: 536, dtype: int64"
   ]
  },
  {
   "cell_type": "markdown",
   "id": "2839cda0",
   "metadata": {},
   "source": [
    "nombre_infected      1056\n",
    "nombre_sain          2135\n",
    "nombre_exposed        539\n",
    "nombre_recovered    16270\n",
    "Name: 537, dtype: int64"
   ]
  },
  {
   "cell_type": "markdown",
   "id": "954904a8",
   "metadata": {},
   "source": [
    "nombre_infected      1047\n",
    "nombre_sain          2089\n",
    "nombre_exposed        565\n",
    "nombre_recovered    16299\n",
    "Name: 538, dtype: int64"
   ]
  },
  {
   "cell_type": "markdown",
   "id": "4d530388",
   "metadata": {},
   "source": [
    "nombre_infected      1051\n",
    "nombre_sain          2076\n",
    "nombre_exposed        563\n",
    "nombre_recovered    16310\n",
    "Name: 539, dtype: int64"
   ]
  },
  {
   "cell_type": "markdown",
   "id": "7ce52668",
   "metadata": {},
   "source": [
    "nombre_infected      1060\n",
    "nombre_sain          2059\n",
    "nombre_exposed        567\n",
    "nombre_recovered    16314\n",
    "Name: 540, dtype: int64"
   ]
  },
  {
   "cell_type": "markdown",
   "id": "b0262121",
   "metadata": {},
   "source": [
    "nombre_infected      1061\n",
    "nombre_sain          2071\n",
    "nombre_exposed        562\n",
    "nombre_recovered    16306\n",
    "Name: 541, dtype: int64"
   ]
  },
  {
   "cell_type": "markdown",
   "id": "c990408d",
   "metadata": {},
   "source": [
    "nombre_infected      1073\n",
    "nombre_sain          2069\n",
    "nombre_exposed        552\n",
    "nombre_recovered    16306\n",
    "Name: 542, dtype: int64"
   ]
  },
  {
   "cell_type": "markdown",
   "id": "1674328c",
   "metadata": {},
   "source": [
    "nombre_infected      1063\n",
    "nombre_sain          2051\n",
    "nombre_exposed        564\n",
    "nombre_recovered    16322\n",
    "Name: 543, dtype: int64"
   ]
  },
  {
   "cell_type": "markdown",
   "id": "3321e471",
   "metadata": {},
   "source": [
    "nombre_infected      1068\n",
    "nombre_sain          2048\n",
    "nombre_exposed        545\n",
    "nombre_recovered    16339\n",
    "Name: 544, dtype: int64"
   ]
  },
  {
   "cell_type": "markdown",
   "id": "91c47b2a",
   "metadata": {},
   "source": [
    "nombre_infected      1065\n",
    "nombre_sain          2043\n",
    "nombre_exposed        543\n",
    "nombre_recovered    16349\n",
    "Name: 545, dtype: int64"
   ]
  },
  {
   "cell_type": "markdown",
   "id": "4c2b0e88",
   "metadata": {},
   "source": [
    "nombre_infected      1062\n",
    "nombre_sain          2044\n",
    "nombre_exposed        564\n",
    "nombre_recovered    16330\n",
    "Name: 546, dtype: int64"
   ]
  },
  {
   "cell_type": "markdown",
   "id": "b0ac0b6a",
   "metadata": {},
   "source": [
    "nombre_infected      1091\n",
    "nombre_sain          2040\n",
    "nombre_exposed        575\n",
    "nombre_recovered    16294\n",
    "Name: 547, dtype: int64"
   ]
  },
  {
   "cell_type": "markdown",
   "id": "eccc7d88",
   "metadata": {},
   "source": [
    "nombre_infected      1115\n",
    "nombre_sain          2052\n",
    "nombre_exposed        570\n",
    "nombre_recovered    16263\n",
    "Name: 548, dtype: int64"
   ]
  },
  {
   "cell_type": "markdown",
   "id": "dab90c04",
   "metadata": {},
   "source": [
    "nombre_infected      1117\n",
    "nombre_sain          2055\n",
    "nombre_exposed        563\n",
    "nombre_recovered    16265\n",
    "Name: 549, dtype: int64"
   ]
  },
  {
   "cell_type": "markdown",
   "id": "78633dd8",
   "metadata": {},
   "source": [
    "nombre_infected      1107\n",
    "nombre_sain          2052\n",
    "nombre_exposed        568\n",
    "nombre_recovered    16273\n",
    "Name: 550, dtype: int64"
   ]
  },
  {
   "cell_type": "markdown",
   "id": "153b80e4",
   "metadata": {},
   "source": [
    "nombre_infected      1101\n",
    "nombre_sain          2062\n",
    "nombre_exposed        571\n",
    "nombre_recovered    16266\n",
    "Name: 551, dtype: int64"
   ]
  },
  {
   "cell_type": "markdown",
   "id": "2d7671bb",
   "metadata": {},
   "source": [
    "nombre_infected      1099\n",
    "nombre_sain          2056\n",
    "nombre_exposed        584\n",
    "nombre_recovered    16261\n",
    "Name: 552, dtype: int64"
   ]
  },
  {
   "cell_type": "markdown",
   "id": "9e7fdf78",
   "metadata": {},
   "source": [
    "nombre_infected      1103\n",
    "nombre_sain          2067\n",
    "nombre_exposed        579\n",
    "nombre_recovered    16251\n",
    "Name: 553, dtype: int64"
   ]
  },
  {
   "cell_type": "markdown",
   "id": "69b44e7c",
   "metadata": {},
   "source": [
    "nombre_infected      1114\n",
    "nombre_sain          2038\n",
    "nombre_exposed        575\n",
    "nombre_recovered    16273\n",
    "Name: 554, dtype: int64"
   ]
  },
  {
   "cell_type": "markdown",
   "id": "95cc4ec5",
   "metadata": {},
   "source": [
    "nombre_infected      1096\n",
    "nombre_sain          2036\n",
    "nombre_exposed        564\n",
    "nombre_recovered    16304\n",
    "Name: 555, dtype: int64"
   ]
  },
  {
   "cell_type": "markdown",
   "id": "708daade",
   "metadata": {},
   "source": [
    "nombre_infected      1110\n",
    "nombre_sain          2035\n",
    "nombre_exposed        560\n",
    "nombre_recovered    16295\n",
    "Name: 556, dtype: int64"
   ]
  },
  {
   "cell_type": "markdown",
   "id": "6e403d20",
   "metadata": {},
   "source": [
    "nombre_infected      1133\n",
    "nombre_sain          2039\n",
    "nombre_exposed        529\n",
    "nombre_recovered    16299\n",
    "Name: 557, dtype: int64"
   ]
  },
  {
   "cell_type": "markdown",
   "id": "9a2137db",
   "metadata": {},
   "source": [
    "nombre_infected      1132\n",
    "nombre_sain          2021\n",
    "nombre_exposed        550\n",
    "nombre_recovered    16297\n",
    "Name: 558, dtype: int64"
   ]
  },
  {
   "cell_type": "markdown",
   "id": "f26dcec4",
   "metadata": {},
   "source": [
    "nombre_infected      1106\n",
    "nombre_sain          2003\n",
    "nombre_exposed        558\n",
    "nombre_recovered    16333\n",
    "Name: 559, dtype: int64"
   ]
  },
  {
   "cell_type": "markdown",
   "id": "274167eb",
   "metadata": {},
   "source": [
    "nombre_infected      1100\n",
    "nombre_sain          2005\n",
    "nombre_exposed        551\n",
    "nombre_recovered    16344\n",
    "Name: 560, dtype: int64"
   ]
  },
  {
   "cell_type": "markdown",
   "id": "a3fa733a",
   "metadata": {},
   "source": [
    "nombre_infected      1070\n",
    "nombre_sain          2018\n",
    "nombre_exposed        565\n",
    "nombre_recovered    16347\n",
    "Name: 561, dtype: int64"
   ]
  },
  {
   "cell_type": "markdown",
   "id": "ae28e524",
   "metadata": {},
   "source": [
    "nombre_infected      1047\n",
    "nombre_sain          2017\n",
    "nombre_exposed        560\n",
    "nombre_recovered    16376\n",
    "Name: 562, dtype: int64"
   ]
  },
  {
   "cell_type": "markdown",
   "id": "f22aac20",
   "metadata": {},
   "source": [
    "nombre_infected      1035\n",
    "nombre_sain          2005\n",
    "nombre_exposed        568\n",
    "nombre_recovered    16392\n",
    "Name: 563, dtype: int64"
   ]
  },
  {
   "cell_type": "markdown",
   "id": "029e9cab",
   "metadata": {},
   "source": [
    "nombre_infected      1045\n",
    "nombre_sain          2017\n",
    "nombre_exposed        558\n",
    "nombre_recovered    16380\n",
    "Name: 564, dtype: int64"
   ]
  },
  {
   "cell_type": "markdown",
   "id": "82720625",
   "metadata": {},
   "source": [
    "nombre_infected      1064\n",
    "nombre_sain          2062\n",
    "nombre_exposed        539\n",
    "nombre_recovered    16335\n",
    "Name: 565, dtype: int64"
   ]
  },
  {
   "cell_type": "markdown",
   "id": "7f30b60f",
   "metadata": {},
   "source": [
    "nombre_infected      1066\n",
    "nombre_sain          2062\n",
    "nombre_exposed        536\n",
    "nombre_recovered    16336\n",
    "Name: 566, dtype: int64"
   ]
  },
  {
   "cell_type": "markdown",
   "id": "075e2707",
   "metadata": {},
   "source": [
    "nombre_infected      1056\n",
    "nombre_sain          2050\n",
    "nombre_exposed        566\n",
    "nombre_recovered    16328\n",
    "Name: 567, dtype: int64"
   ]
  },
  {
   "cell_type": "markdown",
   "id": "366b26d8",
   "metadata": {},
   "source": [
    "nombre_infected      1053\n",
    "nombre_sain          2063\n",
    "nombre_exposed        576\n",
    "nombre_recovered    16308\n",
    "Name: 568, dtype: int64"
   ]
  },
  {
   "cell_type": "markdown",
   "id": "5ca8681d",
   "metadata": {},
   "source": [
    "nombre_infected      1069\n",
    "nombre_sain          2079\n",
    "nombre_exposed        540\n",
    "nombre_recovered    16312\n",
    "Name: 569, dtype: int64"
   ]
  },
  {
   "cell_type": "markdown",
   "id": "f0e6dc13",
   "metadata": {},
   "source": [
    "nombre_infected      1093\n",
    "nombre_sain          2084\n",
    "nombre_exposed        530\n",
    "nombre_recovered    16293\n",
    "Name: 570, dtype: int64"
   ]
  },
  {
   "cell_type": "markdown",
   "id": "31fcf8c4",
   "metadata": {},
   "source": [
    "nombre_infected      1094\n",
    "nombre_sain          2096\n",
    "nombre_exposed        524\n",
    "nombre_recovered    16286\n",
    "Name: 571, dtype: int64"
   ]
  },
  {
   "cell_type": "markdown",
   "id": "1a2740fb",
   "metadata": {},
   "source": [
    "nombre_infected      1071\n",
    "nombre_sain          2119\n",
    "nombre_exposed        509\n",
    "nombre_recovered    16301\n",
    "Name: 572, dtype: int64"
   ]
  },
  {
   "cell_type": "markdown",
   "id": "70321e24",
   "metadata": {},
   "source": [
    "nombre_infected      1037\n",
    "nombre_sain          2123\n",
    "nombre_exposed        542\n",
    "nombre_recovered    16298\n",
    "Name: 573, dtype: int64"
   ]
  },
  {
   "cell_type": "markdown",
   "id": "7f373361",
   "metadata": {},
   "source": [
    "nombre_infected      1051\n",
    "nombre_sain          2134\n",
    "nombre_exposed        551\n",
    "nombre_recovered    16264\n",
    "Name: 574, dtype: int64"
   ]
  },
  {
   "cell_type": "markdown",
   "id": "8b970286",
   "metadata": {},
   "source": [
    "nombre_infected      1030\n",
    "nombre_sain          2133\n",
    "nombre_exposed        586\n",
    "nombre_recovered    16251\n",
    "Name: 575, dtype: int64"
   ]
  },
  {
   "cell_type": "markdown",
   "id": "48320d13",
   "metadata": {},
   "source": [
    "nombre_infected      1032\n",
    "nombre_sain          2133\n",
    "nombre_exposed        570\n",
    "nombre_recovered    16265\n",
    "Name: 576, dtype: int64"
   ]
  },
  {
   "cell_type": "markdown",
   "id": "50a78c93",
   "metadata": {},
   "source": [
    "nombre_infected      1042\n",
    "nombre_sain          2139\n",
    "nombre_exposed        549\n",
    "nombre_recovered    16270\n",
    "Name: 577, dtype: int64"
   ]
  },
  {
   "cell_type": "markdown",
   "id": "da0b776e",
   "metadata": {},
   "source": [
    "nombre_infected      1048\n",
    "nombre_sain          2131\n",
    "nombre_exposed        546\n",
    "nombre_recovered    16275\n",
    "Name: 578, dtype: int64"
   ]
  },
  {
   "cell_type": "markdown",
   "id": "d70486c7",
   "metadata": {},
   "source": [
    "nombre_infected      1045\n",
    "nombre_sain          2149\n",
    "nombre_exposed        527\n",
    "nombre_recovered    16279\n",
    "Name: 579, dtype: int64"
   ]
  },
  {
   "cell_type": "markdown",
   "id": "3df2d74d",
   "metadata": {},
   "source": [
    "nombre_infected      1055\n",
    "nombre_sain          2138\n",
    "nombre_exposed        505\n",
    "nombre_recovered    16302\n",
    "Name: 580, dtype: int64"
   ]
  },
  {
   "cell_type": "markdown",
   "id": "a7412e1f",
   "metadata": {},
   "source": [
    "nombre_infected      1069\n",
    "nombre_sain          2146\n",
    "nombre_exposed        514\n",
    "nombre_recovered    16271\n",
    "Name: 581, dtype: int64"
   ]
  },
  {
   "cell_type": "markdown",
   "id": "47d70367",
   "metadata": {},
   "source": [
    "nombre_infected      1075\n",
    "nombre_sain          2156\n",
    "nombre_exposed        513\n",
    "nombre_recovered    16256\n",
    "Name: 582, dtype: int64"
   ]
  },
  {
   "cell_type": "markdown",
   "id": "f7f2d7b5",
   "metadata": {},
   "source": [
    "nombre_infected      1047\n",
    "nombre_sain          2169\n",
    "nombre_exposed        519\n",
    "nombre_recovered    16265\n",
    "Name: 583, dtype: int64"
   ]
  },
  {
   "cell_type": "markdown",
   "id": "e0fc7a8c",
   "metadata": {},
   "source": [
    "nombre_infected      1055\n",
    "nombre_sain          2169\n",
    "nombre_exposed        524\n",
    "nombre_recovered    16252\n",
    "Name: 584, dtype: int64"
   ]
  },
  {
   "cell_type": "markdown",
   "id": "da1f8043",
   "metadata": {},
   "source": [
    "nombre_infected      1057\n",
    "nombre_sain          2141\n",
    "nombre_exposed        542\n",
    "nombre_recovered    16260\n",
    "Name: 585, dtype: int64"
   ]
  },
  {
   "cell_type": "markdown",
   "id": "7a1b66c4",
   "metadata": {},
   "source": [
    "nombre_infected      1072\n",
    "nombre_sain          2124\n",
    "nombre_exposed        550\n",
    "nombre_recovered    16254\n",
    "Name: 586, dtype: int64"
   ]
  },
  {
   "cell_type": "markdown",
   "id": "ce934b3f",
   "metadata": {},
   "source": [
    "nombre_infected      1059\n",
    "nombre_sain          2123\n",
    "nombre_exposed        560\n",
    "nombre_recovered    16258\n",
    "Name: 587, dtype: int64"
   ]
  },
  {
   "cell_type": "markdown",
   "id": "f3bc6402",
   "metadata": {},
   "source": [
    "nombre_infected      1058\n",
    "nombre_sain          2124\n",
    "nombre_exposed        563\n",
    "nombre_recovered    16255\n",
    "Name: 588, dtype: int64"
   ]
  },
  {
   "cell_type": "markdown",
   "id": "f7e84bf4",
   "metadata": {},
   "source": [
    "nombre_infected      1059\n",
    "nombre_sain          2119\n",
    "nombre_exposed        565\n",
    "nombre_recovered    16257\n",
    "Name: 589, dtype: int64"
   ]
  },
  {
   "cell_type": "markdown",
   "id": "fb65ed20",
   "metadata": {},
   "source": [
    "nombre_infected      1058\n",
    "nombre_sain          2119\n",
    "nombre_exposed        577\n",
    "nombre_recovered    16246\n",
    "Name: 590, dtype: int64"
   ]
  },
  {
   "cell_type": "markdown",
   "id": "2e549c71",
   "metadata": {},
   "source": [
    "nombre_infected      1041\n",
    "nombre_sain          2121\n",
    "nombre_exposed        596\n",
    "nombre_recovered    16242\n",
    "Name: 591, dtype: int64"
   ]
  },
  {
   "cell_type": "markdown",
   "id": "beb2ce01",
   "metadata": {},
   "source": [
    "nombre_infected      1042\n",
    "nombre_sain          2128\n",
    "nombre_exposed        584\n",
    "nombre_recovered    16246\n",
    "Name: 592, dtype: int64"
   ]
  },
  {
   "cell_type": "markdown",
   "id": "6c309d7e",
   "metadata": {},
   "source": [
    "nombre_infected      1054\n",
    "nombre_sain          2129\n",
    "nombre_exposed        567\n",
    "nombre_recovered    16250\n",
    "Name: 593, dtype: int64"
   ]
  },
  {
   "cell_type": "markdown",
   "id": "38dcf1df",
   "metadata": {},
   "source": [
    "nombre_infected      1068\n",
    "nombre_sain          2123\n",
    "nombre_exposed        559\n",
    "nombre_recovered    16250\n",
    "Name: 594, dtype: int64"
   ]
  },
  {
   "cell_type": "markdown",
   "id": "f8b96980",
   "metadata": {},
   "source": [
    "nombre_infected      1058\n",
    "nombre_sain          2106\n",
    "nombre_exposed        571\n",
    "nombre_recovered    16265\n",
    "Name: 595, dtype: int64"
   ]
  },
  {
   "cell_type": "markdown",
   "id": "f8ca6d51",
   "metadata": {},
   "source": [
    "nombre_infected      1080\n",
    "nombre_sain          2113\n",
    "nombre_exposed        551\n",
    "nombre_recovered    16256\n",
    "Name: 596, dtype: int64"
   ]
  },
  {
   "cell_type": "markdown",
   "id": "50bdf357",
   "metadata": {},
   "source": [
    "nombre_infected      1083\n",
    "nombre_sain          2129\n",
    "nombre_exposed        554\n",
    "nombre_recovered    16234\n",
    "Name: 597, dtype: int64"
   ]
  },
  {
   "cell_type": "markdown",
   "id": "a280695f",
   "metadata": {},
   "source": [
    "nombre_infected      1080\n",
    "nombre_sain          2154\n",
    "nombre_exposed        538\n",
    "nombre_recovered    16228\n",
    "Name: 598, dtype: int64"
   ]
  },
  {
   "cell_type": "markdown",
   "id": "0578c6af",
   "metadata": {},
   "source": [
    "nombre_infected      1059\n",
    "nombre_sain          2183\n",
    "nombre_exposed        532\n",
    "nombre_recovered    16226\n",
    "Name: 599, dtype: int64"
   ]
  },
  {
   "cell_type": "markdown",
   "id": "5ee5482c",
   "metadata": {},
   "source": [
    "nombre_infected      1042\n",
    "nombre_sain          2198\n",
    "nombre_exposed        545\n",
    "nombre_recovered    16215\n",
    "Name: 600, dtype: int64"
   ]
  },
  {
   "cell_type": "markdown",
   "id": "d260f8aa",
   "metadata": {},
   "source": [
    "nombre_infected      1052\n",
    "nombre_sain          2213\n",
    "nombre_exposed        532\n",
    "nombre_recovered    16203\n",
    "Name: 601, dtype: int64"
   ]
  },
  {
   "cell_type": "markdown",
   "id": "660dc7da",
   "metadata": {},
   "source": [
    "nombre_infected      1055\n",
    "nombre_sain          2211\n",
    "nombre_exposed        548\n",
    "nombre_recovered    16186\n",
    "Name: 602, dtype: int64"
   ]
  },
  {
   "cell_type": "markdown",
   "id": "6cb2c3ff",
   "metadata": {},
   "source": [
    "nombre_infected      1063\n",
    "nombre_sain          2234\n",
    "nombre_exposed        573\n",
    "nombre_recovered    16130\n",
    "Name: 603, dtype: int64"
   ]
  },
  {
   "cell_type": "markdown",
   "id": "0b495bdd",
   "metadata": {},
   "source": [
    "nombre_infected      1044\n",
    "nombre_sain          2263\n",
    "nombre_exposed        588\n",
    "nombre_recovered    16105\n",
    "Name: 604, dtype: int64"
   ]
  },
  {
   "cell_type": "markdown",
   "id": "2dc4cec4",
   "metadata": {},
   "source": [
    "nombre_infected      1028\n",
    "nombre_sain          2236\n",
    "nombre_exposed        600\n",
    "nombre_recovered    16136\n",
    "Name: 605, dtype: int64"
   ]
  },
  {
   "cell_type": "markdown",
   "id": "26e25e03",
   "metadata": {},
   "source": [
    "nombre_infected      1043\n",
    "nombre_sain          2242\n",
    "nombre_exposed        603\n",
    "nombre_recovered    16112\n",
    "Name: 606, dtype: int64"
   ]
  },
  {
   "cell_type": "markdown",
   "id": "7501d841",
   "metadata": {},
   "source": [
    "nombre_infected      1044\n",
    "nombre_sain          2258\n",
    "nombre_exposed        574\n",
    "nombre_recovered    16124\n",
    "Name: 607, dtype: int64"
   ]
  },
  {
   "cell_type": "markdown",
   "id": "e736723f",
   "metadata": {},
   "source": [
    "nombre_infected      1067\n",
    "nombre_sain          2218\n",
    "nombre_exposed        578\n",
    "nombre_recovered    16137\n",
    "Name: 608, dtype: int64"
   ]
  },
  {
   "cell_type": "markdown",
   "id": "f7f578ee",
   "metadata": {},
   "source": [
    "nombre_infected      1071\n",
    "nombre_sain          2222\n",
    "nombre_exposed        565\n",
    "nombre_recovered    16142\n",
    "Name: 609, dtype: int64"
   ]
  },
  {
   "cell_type": "markdown",
   "id": "0fb2afdc",
   "metadata": {},
   "source": [
    "nombre_infected      1077\n",
    "nombre_sain          2217\n",
    "nombre_exposed        556\n",
    "nombre_recovered    16150\n",
    "Name: 610, dtype: int64"
   ]
  },
  {
   "cell_type": "markdown",
   "id": "83e80a60",
   "metadata": {},
   "source": [
    "nombre_infected      1073\n",
    "nombre_sain          2173\n",
    "nombre_exposed        575\n",
    "nombre_recovered    16179\n",
    "Name: 611, dtype: int64"
   ]
  },
  {
   "cell_type": "markdown",
   "id": "7a665943",
   "metadata": {},
   "source": [
    "nombre_infected      1076\n",
    "nombre_sain          2149\n",
    "nombre_exposed        572\n",
    "nombre_recovered    16203\n",
    "Name: 612, dtype: int64"
   ]
  },
  {
   "cell_type": "markdown",
   "id": "17eb1b5f",
   "metadata": {},
   "source": [
    "nombre_infected      1091\n",
    "nombre_sain          2143\n",
    "nombre_exposed        566\n",
    "nombre_recovered    16200\n",
    "Name: 613, dtype: int64"
   ]
  },
  {
   "cell_type": "markdown",
   "id": "b4a8aa0e",
   "metadata": {},
   "source": [
    "nombre_infected      1088\n",
    "nombre_sain          2147\n",
    "nombre_exposed        548\n",
    "nombre_recovered    16217\n",
    "Name: 614, dtype: int64"
   ]
  },
  {
   "cell_type": "markdown",
   "id": "7388c781",
   "metadata": {},
   "source": [
    "nombre_infected      1077\n",
    "nombre_sain          2096\n",
    "nombre_exposed        583\n",
    "nombre_recovered    16244\n",
    "Name: 615, dtype: int64"
   ]
  },
  {
   "cell_type": "markdown",
   "id": "f0cc22ac",
   "metadata": {},
   "source": [
    "nombre_infected      1079\n",
    "nombre_sain          2062\n",
    "nombre_exposed        589\n",
    "nombre_recovered    16270\n",
    "Name: 616, dtype: int64"
   ]
  },
  {
   "cell_type": "markdown",
   "id": "53570aeb",
   "metadata": {},
   "source": [
    "nombre_infected      1080\n",
    "nombre_sain          2062\n",
    "nombre_exposed        567\n",
    "nombre_recovered    16291\n",
    "Name: 617, dtype: int64"
   ]
  },
  {
   "cell_type": "markdown",
   "id": "3dbb72ab",
   "metadata": {},
   "source": [
    "nombre_infected      1070\n",
    "nombre_sain          2001\n",
    "nombre_exposed        585\n",
    "nombre_recovered    16344\n",
    "Name: 618, dtype: int64"
   ]
  },
  {
   "cell_type": "markdown",
   "id": "fb7613fc",
   "metadata": {},
   "source": [
    "nombre_infected      1072\n",
    "nombre_sain          1996\n",
    "nombre_exposed        597\n",
    "nombre_recovered    16335\n",
    "Name: 619, dtype: int64"
   ]
  },
  {
   "cell_type": "markdown",
   "id": "69663599",
   "metadata": {},
   "source": [
    "nombre_infected      1064\n",
    "nombre_sain          2022\n",
    "nombre_exposed        566\n",
    "nombre_recovered    16348\n",
    "Name: 620, dtype: int64"
   ]
  },
  {
   "cell_type": "markdown",
   "id": "d4390007",
   "metadata": {},
   "source": [
    "nombre_infected      1064\n",
    "nombre_sain          2041\n",
    "nombre_exposed        540\n",
    "nombre_recovered    16355\n",
    "Name: 621, dtype: int64"
   ]
  },
  {
   "cell_type": "markdown",
   "id": "c0c42b86",
   "metadata": {},
   "source": [
    "nombre_infected      1067\n",
    "nombre_sain          2021\n",
    "nombre_exposed        543\n",
    "nombre_recovered    16369\n",
    "Name: 622, dtype: int64"
   ]
  },
  {
   "cell_type": "markdown",
   "id": "8facd9dc",
   "metadata": {},
   "source": [
    "nombre_infected      1039\n",
    "nombre_sain          2004\n",
    "nombre_exposed        554\n",
    "nombre_recovered    16403\n",
    "Name: 623, dtype: int64"
   ]
  },
  {
   "cell_type": "markdown",
   "id": "08f787b2",
   "metadata": {},
   "source": [
    "nombre_infected      1042\n",
    "nombre_sain          1991\n",
    "nombre_exposed        560\n",
    "nombre_recovered    16407\n",
    "Name: 624, dtype: int64"
   ]
  },
  {
   "cell_type": "markdown",
   "id": "97b6adde",
   "metadata": {},
   "source": [
    "nombre_infected      1056\n",
    "nombre_sain          2017\n",
    "nombre_exposed        526\n",
    "nombre_recovered    16401\n",
    "Name: 625, dtype: int64"
   ]
  },
  {
   "cell_type": "markdown",
   "id": "3303f5d9",
   "metadata": {},
   "source": [
    "nombre_infected      1055\n",
    "nombre_sain          2035\n",
    "nombre_exposed        526\n",
    "nombre_recovered    16384\n",
    "Name: 626, dtype: int64"
   ]
  },
  {
   "cell_type": "markdown",
   "id": "ce1c0628",
   "metadata": {},
   "source": [
    "nombre_infected      1053\n",
    "nombre_sain          2025\n",
    "nombre_exposed        526\n",
    "nombre_recovered    16396\n",
    "Name: 627, dtype: int64"
   ]
  },
  {
   "cell_type": "markdown",
   "id": "759b986c",
   "metadata": {},
   "source": [
    "nombre_infected      1057\n",
    "nombre_sain          2011\n",
    "nombre_exposed        541\n",
    "nombre_recovered    16391\n",
    "Name: 628, dtype: int64"
   ]
  },
  {
   "cell_type": "markdown",
   "id": "a7ca1b41",
   "metadata": {},
   "source": [
    "nombre_infected      1050\n",
    "nombre_sain          2009\n",
    "nombre_exposed        541\n",
    "nombre_recovered    16400\n",
    "Name: 629, dtype: int64"
   ]
  },
  {
   "cell_type": "markdown",
   "id": "f4c66132",
   "metadata": {},
   "source": [
    "nombre_infected      1038\n",
    "nombre_sain          2039\n",
    "nombre_exposed        506\n",
    "nombre_recovered    16417\n",
    "Name: 630, dtype: int64"
   ]
  },
  {
   "cell_type": "markdown",
   "id": "a5af3e36",
   "metadata": {},
   "source": [
    "nombre_infected      1050\n",
    "nombre_sain          2060\n",
    "nombre_exposed        505\n",
    "nombre_recovered    16385\n",
    "Name: 631, dtype: int64"
   ]
  },
  {
   "cell_type": "markdown",
   "id": "599351c5",
   "metadata": {},
   "source": [
    "nombre_infected      1025\n",
    "nombre_sain          2054\n",
    "nombre_exposed        532\n",
    "nombre_recovered    16389\n",
    "Name: 632, dtype: int64"
   ]
  },
  {
   "cell_type": "markdown",
   "id": "934f0f4c",
   "metadata": {},
   "source": [
    "nombre_infected      1011\n",
    "nombre_sain          2046\n",
    "nombre_exposed        537\n",
    "nombre_recovered    16406\n",
    "Name: 633, dtype: int64"
   ]
  },
  {
   "cell_type": "markdown",
   "id": "e2bd3bf7",
   "metadata": {},
   "source": [
    "nombre_infected       982\n",
    "nombre_sain          2046\n",
    "nombre_exposed        543\n",
    "nombre_recovered    16429\n",
    "Name: 634, dtype: int64"
   ]
  },
  {
   "cell_type": "markdown",
   "id": "0bac27fb",
   "metadata": {},
   "source": [
    "nombre_infected       991\n",
    "nombre_sain          2035\n",
    "nombre_exposed        542\n",
    "nombre_recovered    16432\n",
    "Name: 635, dtype: int64"
   ]
  },
  {
   "cell_type": "markdown",
   "id": "17af8771",
   "metadata": {},
   "source": [
    "nombre_infected       995\n",
    "nombre_sain          2054\n",
    "nombre_exposed        538\n",
    "nombre_recovered    16413\n",
    "Name: 636, dtype: int64"
   ]
  },
  {
   "cell_type": "markdown",
   "id": "e4d168ab",
   "metadata": {},
   "source": [
    "nombre_infected      1013\n",
    "nombre_sain          2079\n",
    "nombre_exposed        521\n",
    "nombre_recovered    16387\n",
    "Name: 637, dtype: int64"
   ]
  },
  {
   "cell_type": "markdown",
   "id": "702b827d",
   "metadata": {},
   "source": [
    "nombre_infected      1009\n",
    "nombre_sain          2071\n",
    "nombre_exposed        548\n",
    "nombre_recovered    16372\n",
    "Name: 638, dtype: int64"
   ]
  },
  {
   "cell_type": "markdown",
   "id": "404c30a8",
   "metadata": {},
   "source": [
    "nombre_infected      1002\n",
    "nombre_sain          2082\n",
    "nombre_exposed        515\n",
    "nombre_recovered    16401\n",
    "Name: 639, dtype: int64"
   ]
  },
  {
   "cell_type": "markdown",
   "id": "238d9bcf",
   "metadata": {},
   "source": [
    "nombre_infected      1019\n",
    "nombre_sain          2076\n",
    "nombre_exposed        535\n",
    "nombre_recovered    16370\n",
    "Name: 640, dtype: int64"
   ]
  },
  {
   "cell_type": "markdown",
   "id": "c6067baf",
   "metadata": {},
   "source": [
    "nombre_infected      1034\n",
    "nombre_sain          2075\n",
    "nombre_exposed        521\n",
    "nombre_recovered    16370\n",
    "Name: 641, dtype: int64"
   ]
  },
  {
   "cell_type": "markdown",
   "id": "ab95d3b9",
   "metadata": {},
   "source": [
    "nombre_infected      1040\n",
    "nombre_sain          2084\n",
    "nombre_exposed        524\n",
    "nombre_recovered    16352\n",
    "Name: 642, dtype: int64"
   ]
  },
  {
   "cell_type": "markdown",
   "id": "fcaa86fe",
   "metadata": {},
   "source": [
    "nombre_infected      1017\n",
    "nombre_sain          2118\n",
    "nombre_exposed        519\n",
    "nombre_recovered    16346\n",
    "Name: 643, dtype: int64"
   ]
  },
  {
   "cell_type": "markdown",
   "id": "2ba113f6",
   "metadata": {},
   "source": [
    "nombre_infected       990\n",
    "nombre_sain          2107\n",
    "nombre_exposed        516\n",
    "nombre_recovered    16387\n",
    "Name: 644, dtype: int64"
   ]
  },
  {
   "cell_type": "markdown",
   "id": "ab77332e",
   "metadata": {},
   "source": [
    "nombre_infected       973\n",
    "nombre_sain          2084\n",
    "nombre_exposed        533\n",
    "nombre_recovered    16410\n",
    "Name: 645, dtype: int64"
   ]
  },
  {
   "cell_type": "markdown",
   "id": "15631845",
   "metadata": {},
   "source": [
    "nombre_infected       948\n",
    "nombre_sain          2090\n",
    "nombre_exposed        532\n",
    "nombre_recovered    16430\n",
    "Name: 646, dtype: int64"
   ]
  },
  {
   "cell_type": "markdown",
   "id": "4baab99b",
   "metadata": {},
   "source": [
    "nombre_infected       970\n",
    "nombre_sain          2105\n",
    "nombre_exposed        522\n",
    "nombre_recovered    16403\n",
    "Name: 647, dtype: int64"
   ]
  },
  {
   "cell_type": "markdown",
   "id": "88bb099e",
   "metadata": {},
   "source": [
    "nombre_infected       989\n",
    "nombre_sain          2088\n",
    "nombre_exposed        538\n",
    "nombre_recovered    16385\n",
    "Name: 648, dtype: int64"
   ]
  },
  {
   "cell_type": "markdown",
   "id": "812d8d6e",
   "metadata": {},
   "source": [
    "nombre_infected       995\n",
    "nombre_sain          2106\n",
    "nombre_exposed        517\n",
    "nombre_recovered    16382\n",
    "Name: 649, dtype: int64"
   ]
  },
  {
   "cell_type": "markdown",
   "id": "31a189b8",
   "metadata": {},
   "source": [
    "nombre_infected       985\n",
    "nombre_sain          2122\n",
    "nombre_exposed        499\n",
    "nombre_recovered    16394\n",
    "Name: 650, dtype: int64"
   ]
  },
  {
   "cell_type": "markdown",
   "id": "0c60dd7f",
   "metadata": {},
   "source": [
    "nombre_infected       976\n",
    "nombre_sain          2133\n",
    "nombre_exposed        514\n",
    "nombre_recovered    16377\n",
    "Name: 651, dtype: int64"
   ]
  },
  {
   "cell_type": "markdown",
   "id": "0692db49",
   "metadata": {},
   "source": [
    "nombre_infected       979\n",
    "nombre_sain          2144\n",
    "nombre_exposed        505\n",
    "nombre_recovered    16372\n",
    "Name: 652, dtype: int64"
   ]
  },
  {
   "cell_type": "markdown",
   "id": "4631abfc",
   "metadata": {},
   "source": [
    "nombre_infected       964\n",
    "nombre_sain          2129\n",
    "nombre_exposed        523\n",
    "nombre_recovered    16384\n",
    "Name: 653, dtype: int64"
   ]
  },
  {
   "cell_type": "markdown",
   "id": "d4e38e6c",
   "metadata": {},
   "source": [
    "nombre_infected       984\n",
    "nombre_sain          2146\n",
    "nombre_exposed        508\n",
    "nombre_recovered    16362\n",
    "Name: 654, dtype: int64"
   ]
  },
  {
   "cell_type": "markdown",
   "id": "bb42a038",
   "metadata": {},
   "source": [
    "nombre_infected       988\n",
    "nombre_sain          2143\n",
    "nombre_exposed        525\n",
    "nombre_recovered    16344\n",
    "Name: 655, dtype: int64"
   ]
  },
  {
   "cell_type": "markdown",
   "id": "1bdebbd7",
   "metadata": {},
   "source": [
    "nombre_infected      1006\n",
    "nombre_sain          2150\n",
    "nombre_exposed        532\n",
    "nombre_recovered    16312\n",
    "Name: 656, dtype: int64"
   ]
  },
  {
   "cell_type": "markdown",
   "id": "5a35432b",
   "metadata": {},
   "source": [
    "nombre_infected      1001\n",
    "nombre_sain          2167\n",
    "nombre_exposed        523\n",
    "nombre_recovered    16309\n",
    "Name: 657, dtype: int64"
   ]
  },
  {
   "cell_type": "markdown",
   "id": "41f8ad1e",
   "metadata": {},
   "source": [
    "nombre_infected      1006\n",
    "nombre_sain          2193\n",
    "nombre_exposed        508\n",
    "nombre_recovered    16293\n",
    "Name: 658, dtype: int64"
   ]
  },
  {
   "cell_type": "markdown",
   "id": "f4fc4351",
   "metadata": {},
   "source": [
    "nombre_infected      1006\n",
    "nombre_sain          2188\n",
    "nombre_exposed        521\n",
    "nombre_recovered    16285\n",
    "Name: 659, dtype: int64"
   ]
  },
  {
   "cell_type": "markdown",
   "id": "d76ff4d4",
   "metadata": {},
   "source": [
    "nombre_infected      1008\n",
    "nombre_sain          2178\n",
    "nombre_exposed        530\n",
    "nombre_recovered    16284\n",
    "Name: 660, dtype: int64"
   ]
  },
  {
   "cell_type": "markdown",
   "id": "1cda9d82",
   "metadata": {},
   "source": [
    "nombre_infected      1014\n",
    "nombre_sain          2181\n",
    "nombre_exposed        526\n",
    "nombre_recovered    16279\n",
    "Name: 661, dtype: int64"
   ]
  },
  {
   "cell_type": "markdown",
   "id": "1c6412a3",
   "metadata": {},
   "source": [
    "nombre_infected      1018\n",
    "nombre_sain          2165\n",
    "nombre_exposed        536\n",
    "nombre_recovered    16281\n",
    "Name: 662, dtype: int64"
   ]
  },
  {
   "cell_type": "markdown",
   "id": "bc14253c",
   "metadata": {},
   "source": [
    "nombre_infected      1010\n",
    "nombre_sain          2178\n",
    "nombre_exposed        561\n",
    "nombre_recovered    16251\n",
    "Name: 663, dtype: int64"
   ]
  },
  {
   "cell_type": "markdown",
   "id": "7a15647f",
   "metadata": {},
   "source": [
    "nombre_infected      1016\n",
    "nombre_sain          2181\n",
    "nombre_exposed        552\n",
    "nombre_recovered    16251\n",
    "Name: 664, dtype: int64"
   ]
  },
  {
   "cell_type": "markdown",
   "id": "250294fc",
   "metadata": {},
   "source": [
    "nombre_infected      1015\n",
    "nombre_sain          2156\n",
    "nombre_exposed        579\n",
    "nombre_recovered    16250\n",
    "Name: 665, dtype: int64"
   ]
  },
  {
   "cell_type": "markdown",
   "id": "8e7eafb4",
   "metadata": {},
   "source": [
    "nombre_infected      1034\n",
    "nombre_sain          2116\n",
    "nombre_exposed        598\n",
    "nombre_recovered    16252\n",
    "Name: 666, dtype: int64"
   ]
  },
  {
   "cell_type": "markdown",
   "id": "b0fa02fb",
   "metadata": {},
   "source": [
    "nombre_infected      1048\n",
    "nombre_sain          2098\n",
    "nombre_exposed        606\n",
    "nombre_recovered    16248\n",
    "Name: 667, dtype: int64"
   ]
  },
  {
   "cell_type": "markdown",
   "id": "5cc64cc4",
   "metadata": {},
   "source": [
    "nombre_infected      1090\n",
    "nombre_sain          2106\n",
    "nombre_exposed        559\n",
    "nombre_recovered    16245\n",
    "Name: 668, dtype: int64"
   ]
  },
  {
   "cell_type": "markdown",
   "id": "dd91657e",
   "metadata": {},
   "source": [
    "nombre_infected      1100\n",
    "nombre_sain          2091\n",
    "nombre_exposed        540\n",
    "nombre_recovered    16269\n",
    "Name: 669, dtype: int64"
   ]
  },
  {
   "cell_type": "markdown",
   "id": "152b0537",
   "metadata": {},
   "source": [
    "nombre_infected      1099\n",
    "nombre_sain          2097\n",
    "nombre_exposed        537\n",
    "nombre_recovered    16267\n",
    "Name: 670, dtype: int64"
   ]
  },
  {
   "cell_type": "markdown",
   "id": "5d9785cb",
   "metadata": {},
   "source": [
    "nombre_infected      1090\n",
    "nombre_sain          2067\n",
    "nombre_exposed        545\n",
    "nombre_recovered    16298\n",
    "Name: 671, dtype: int64"
   ]
  },
  {
   "cell_type": "markdown",
   "id": "e47bcd30",
   "metadata": {},
   "source": [
    "nombre_infected      1072\n",
    "nombre_sain          2058\n",
    "nombre_exposed        553\n",
    "nombre_recovered    16317\n",
    "Name: 672, dtype: int64"
   ]
  },
  {
   "cell_type": "markdown",
   "id": "b54adac5",
   "metadata": {},
   "source": [
    "nombre_infected      1061\n",
    "nombre_sain          2064\n",
    "nombre_exposed        547\n",
    "nombre_recovered    16328\n",
    "Name: 673, dtype: int64"
   ]
  },
  {
   "cell_type": "markdown",
   "id": "7c41f1fa",
   "metadata": {},
   "source": [
    "nombre_infected      1074\n",
    "nombre_sain          2048\n",
    "nombre_exposed        564\n",
    "nombre_recovered    16314\n",
    "Name: 674, dtype: int64"
   ]
  },
  {
   "cell_type": "markdown",
   "id": "15b1f449",
   "metadata": {},
   "source": [
    "nombre_infected      1068\n",
    "nombre_sain          2035\n",
    "nombre_exposed        587\n",
    "nombre_recovered    16310\n",
    "Name: 675, dtype: int64"
   ]
  },
  {
   "cell_type": "markdown",
   "id": "9819705f",
   "metadata": {},
   "source": [
    "nombre_infected      1057\n",
    "nombre_sain          2029\n",
    "nombre_exposed        596\n",
    "nombre_recovered    16318\n",
    "Name: 676, dtype: int64"
   ]
  },
  {
   "cell_type": "markdown",
   "id": "6053adbf",
   "metadata": {},
   "source": [
    "nombre_infected      1092\n",
    "nombre_sain          2016\n",
    "nombre_exposed        587\n",
    "nombre_recovered    16305\n",
    "Name: 677, dtype: int64"
   ]
  },
  {
   "cell_type": "markdown",
   "id": "dc22f53c",
   "metadata": {},
   "source": [
    "nombre_infected      1101\n",
    "nombre_sain          2010\n",
    "nombre_exposed        548\n",
    "nombre_recovered    16341\n",
    "Name: 678, dtype: int64"
   ]
  },
  {
   "cell_type": "markdown",
   "id": "e92cd877",
   "metadata": {},
   "source": [
    "nombre_infected      1097\n",
    "nombre_sain          1995\n",
    "nombre_exposed        561\n",
    "nombre_recovered    16347\n",
    "Name: 679, dtype: int64"
   ]
  },
  {
   "cell_type": "markdown",
   "id": "6fd3c3ed",
   "metadata": {},
   "source": [
    "nombre_infected      1101\n",
    "nombre_sain          1987\n",
    "nombre_exposed        564\n",
    "nombre_recovered    16348\n",
    "Name: 680, dtype: int64"
   ]
  },
  {
   "cell_type": "markdown",
   "id": "0dff1fc6",
   "metadata": {},
   "source": [
    "nombre_infected      1090\n",
    "nombre_sain          1970\n",
    "nombre_exposed        579\n",
    "nombre_recovered    16361\n",
    "Name: 681, dtype: int64"
   ]
  },
  {
   "cell_type": "markdown",
   "id": "7a8a4838",
   "metadata": {},
   "source": [
    "nombre_infected      1132\n",
    "nombre_sain          1984\n",
    "nombre_exposed        548\n",
    "nombre_recovered    16336\n",
    "Name: 682, dtype: int64"
   ]
  },
  {
   "cell_type": "markdown",
   "id": "96a08685",
   "metadata": {},
   "source": [
    "nombre_infected      1127\n",
    "nombre_sain          1986\n",
    "nombre_exposed        543\n",
    "nombre_recovered    16344\n",
    "Name: 683, dtype: int64"
   ]
  },
  {
   "cell_type": "markdown",
   "id": "cc675b5c",
   "metadata": {},
   "source": [
    "nombre_infected      1119\n",
    "nombre_sain          1966\n",
    "nombre_exposed        549\n",
    "nombre_recovered    16366\n",
    "Name: 684, dtype: int64"
   ]
  },
  {
   "cell_type": "markdown",
   "id": "5344751e",
   "metadata": {},
   "source": [
    "nombre_infected      1113\n",
    "nombre_sain          1980\n",
    "nombre_exposed        532\n",
    "nombre_recovered    16375\n",
    "Name: 685, dtype: int64"
   ]
  },
  {
   "cell_type": "markdown",
   "id": "1c26073d",
   "metadata": {},
   "source": [
    "nombre_infected      1098\n",
    "nombre_sain          1978\n",
    "nombre_exposed        531\n",
    "nombre_recovered    16393\n",
    "Name: 686, dtype: int64"
   ]
  },
  {
   "cell_type": "markdown",
   "id": "66fc6267",
   "metadata": {},
   "source": [
    "nombre_infected      1073\n",
    "nombre_sain          1988\n",
    "nombre_exposed        535\n",
    "nombre_recovered    16404\n",
    "Name: 687, dtype: int64"
   ]
  },
  {
   "cell_type": "markdown",
   "id": "71daa551",
   "metadata": {},
   "source": [
    "nombre_infected      1057\n",
    "nombre_sain          1968\n",
    "nombre_exposed        551\n",
    "nombre_recovered    16424\n",
    "Name: 688, dtype: int64"
   ]
  },
  {
   "cell_type": "markdown",
   "id": "a56b2169",
   "metadata": {},
   "source": [
    "nombre_infected      1077\n",
    "nombre_sain          1986\n",
    "nombre_exposed        528\n",
    "nombre_recovered    16409\n",
    "Name: 689, dtype: int64"
   ]
  },
  {
   "cell_type": "markdown",
   "id": "2ebc5fe2",
   "metadata": {},
   "source": [
    "nombre_infected      1092\n",
    "nombre_sain          1996\n",
    "nombre_exposed        523\n",
    "nombre_recovered    16389\n",
    "Name: 690, dtype: int64"
   ]
  },
  {
   "cell_type": "markdown",
   "id": "15b332fb",
   "metadata": {},
   "source": [
    "nombre_infected      1090\n",
    "nombre_sain          2000\n",
    "nombre_exposed        532\n",
    "nombre_recovered    16378\n",
    "Name: 691, dtype: int64"
   ]
  },
  {
   "cell_type": "markdown",
   "id": "f4fa1052",
   "metadata": {},
   "source": [
    "nombre_infected      1087\n",
    "nombre_sain          1992\n",
    "nombre_exposed        563\n",
    "nombre_recovered    16358\n",
    "Name: 692, dtype: int64"
   ]
  },
  {
   "cell_type": "markdown",
   "id": "d805d173",
   "metadata": {},
   "source": [
    "nombre_infected      1088\n",
    "nombre_sain          2009\n",
    "nombre_exposed        556\n",
    "nombre_recovered    16347\n",
    "Name: 693, dtype: int64"
   ]
  },
  {
   "cell_type": "markdown",
   "id": "6f092afd",
   "metadata": {},
   "source": [
    "nombre_infected      1090\n",
    "nombre_sain          1994\n",
    "nombre_exposed        551\n",
    "nombre_recovered    16365\n",
    "Name: 694, dtype: int64"
   ]
  },
  {
   "cell_type": "markdown",
   "id": "4da8899f",
   "metadata": {},
   "source": [
    "nombre_infected      1092\n",
    "nombre_sain          1989\n",
    "nombre_exposed        555\n",
    "nombre_recovered    16364\n",
    "Name: 695, dtype: int64"
   ]
  },
  {
   "cell_type": "markdown",
   "id": "40078931",
   "metadata": {},
   "source": [
    "nombre_infected      1096\n",
    "nombre_sain          1993\n",
    "nombre_exposed        545\n",
    "nombre_recovered    16366\n",
    "Name: 696, dtype: int64"
   ]
  },
  {
   "cell_type": "markdown",
   "id": "5f497305",
   "metadata": {},
   "source": [
    "nombre_infected      1073\n",
    "nombre_sain          1998\n",
    "nombre_exposed        543\n",
    "nombre_recovered    16386\n",
    "Name: 697, dtype: int64"
   ]
  },
  {
   "cell_type": "markdown",
   "id": "0c2a67ca",
   "metadata": {},
   "source": [
    "nombre_infected      1073\n",
    "nombre_sain          2012\n",
    "nombre_exposed        508\n",
    "nombre_recovered    16407\n",
    "Name: 698, dtype: int64"
   ]
  },
  {
   "cell_type": "markdown",
   "id": "1db64ab4",
   "metadata": {},
   "source": [
    "nombre_infected      1060\n",
    "nombre_sain          2028\n",
    "nombre_exposed        516\n",
    "nombre_recovered    16396\n",
    "Name: 699, dtype: int64"
   ]
  },
  {
   "cell_type": "markdown",
   "id": "c217dc5d",
   "metadata": {},
   "source": [
    "nombre_infected      1033\n",
    "nombre_sain          2013\n",
    "nombre_exposed        540\n",
    "nombre_recovered    16414\n",
    "Name: 700, dtype: int64"
   ]
  },
  {
   "cell_type": "markdown",
   "id": "51a580c9",
   "metadata": {},
   "source": [
    "nombre_infected      1013\n",
    "nombre_sain          2027\n",
    "nombre_exposed        564\n",
    "nombre_recovered    16396\n",
    "Name: 701, dtype: int64"
   ]
  },
  {
   "cell_type": "markdown",
   "id": "f7aaab54",
   "metadata": {},
   "source": [
    "nombre_infected      1027\n",
    "nombre_sain          2036\n",
    "nombre_exposed        543\n",
    "nombre_recovered    16394\n",
    "Name: 702, dtype: int64"
   ]
  },
  {
   "cell_type": "markdown",
   "id": "b6ff32c4",
   "metadata": {},
   "source": [
    "nombre_infected      1020\n",
    "nombre_sain          2041\n",
    "nombre_exposed        538\n",
    "nombre_recovered    16401\n",
    "Name: 703, dtype: int64"
   ]
  },
  {
   "cell_type": "markdown",
   "id": "e0000e53",
   "metadata": {},
   "source": [
    "nombre_infected       999\n",
    "nombre_sain          2070\n",
    "nombre_exposed        516\n",
    "nombre_recovered    16415\n",
    "Name: 704, dtype: int64"
   ]
  },
  {
   "cell_type": "markdown",
   "id": "07cbf867",
   "metadata": {},
   "source": [
    "nombre_infected       977\n",
    "nombre_sain          2102\n",
    "nombre_exposed        510\n",
    "nombre_recovered    16411\n",
    "Name: 705, dtype: int64"
   ]
  },
  {
   "cell_type": "markdown",
   "id": "3594c671",
   "metadata": {},
   "source": [
    "nombre_infected       974\n",
    "nombre_sain          2135\n",
    "nombre_exposed        499\n",
    "nombre_recovered    16392\n",
    "Name: 706, dtype: int64"
   ]
  },
  {
   "cell_type": "markdown",
   "id": "16f569ae",
   "metadata": {},
   "source": [
    "nombre_infected       950\n",
    "nombre_sain          2150\n",
    "nombre_exposed        490\n",
    "nombre_recovered    16410\n",
    "Name: 707, dtype: int64"
   ]
  },
  {
   "cell_type": "markdown",
   "id": "35e0f6a8",
   "metadata": {},
   "source": [
    "nombre_infected       941\n",
    "nombre_sain          2171\n",
    "nombre_exposed        516\n",
    "nombre_recovered    16372\n",
    "Name: 708, dtype: int64"
   ]
  },
  {
   "cell_type": "markdown",
   "id": "d3117c92",
   "metadata": {},
   "source": [
    "nombre_infected       941\n",
    "nombre_sain          2222\n",
    "nombre_exposed        494\n",
    "nombre_recovered    16343\n",
    "Name: 709, dtype: int64"
   ]
  },
  {
   "cell_type": "markdown",
   "id": "e46d6366",
   "metadata": {},
   "source": [
    "nombre_infected       934\n",
    "nombre_sain          2234\n",
    "nombre_exposed        513\n",
    "nombre_recovered    16319\n",
    "Name: 710, dtype: int64"
   ]
  },
  {
   "cell_type": "markdown",
   "id": "48c0cba5",
   "metadata": {},
   "source": [
    "nombre_infected       949\n",
    "nombre_sain          2255\n",
    "nombre_exposed        526\n",
    "nombre_recovered    16270\n",
    "Name: 711, dtype: int64"
   ]
  },
  {
   "cell_type": "markdown",
   "id": "66804bfd",
   "metadata": {},
   "source": [
    "nombre_infected       956\n",
    "nombre_sain          2271\n",
    "nombre_exposed        517\n",
    "nombre_recovered    16256\n",
    "Name: 712, dtype: int64"
   ]
  },
  {
   "cell_type": "markdown",
   "id": "ac86ece9",
   "metadata": {},
   "source": [
    "nombre_infected       956\n",
    "nombre_sain          2291\n",
    "nombre_exposed        512\n",
    "nombre_recovered    16241\n",
    "Name: 713, dtype: int64"
   ]
  },
  {
   "cell_type": "markdown",
   "id": "0ec523b0",
   "metadata": {},
   "source": [
    "nombre_infected       944\n",
    "nombre_sain          2306\n",
    "nombre_exposed        510\n",
    "nombre_recovered    16240\n",
    "Name: 714, dtype: int64"
   ]
  },
  {
   "cell_type": "markdown",
   "id": "56e5f953",
   "metadata": {},
   "source": [
    "nombre_infected       932\n",
    "nombre_sain          2318\n",
    "nombre_exposed        536\n",
    "nombre_recovered    16214\n",
    "Name: 715, dtype: int64"
   ]
  },
  {
   "cell_type": "markdown",
   "id": "7f4e07b8",
   "metadata": {},
   "source": [
    "nombre_infected       932\n",
    "nombre_sain          2341\n",
    "nombre_exposed        531\n",
    "nombre_recovered    16196\n",
    "Name: 716, dtype: int64"
   ]
  },
  {
   "cell_type": "markdown",
   "id": "f59556f0",
   "metadata": {},
   "source": [
    "nombre_infected       934\n",
    "nombre_sain          2326\n",
    "nombre_exposed        560\n",
    "nombre_recovered    16180\n",
    "Name: 717, dtype: int64"
   ]
  },
  {
   "cell_type": "markdown",
   "id": "5ae03374",
   "metadata": {},
   "source": [
    "nombre_infected       971\n",
    "nombre_sain          2311\n",
    "nombre_exposed        564\n",
    "nombre_recovered    16154\n",
    "Name: 718, dtype: int64"
   ]
  },
  {
   "cell_type": "markdown",
   "id": "44864ab6",
   "metadata": {},
   "source": [
    "nombre_infected       949\n",
    "nombre_sain          2285\n",
    "nombre_exposed        593\n",
    "nombre_recovered    16173\n",
    "Name: 719, dtype: int64"
   ]
  },
  {
   "cell_type": "markdown",
   "id": "874dcaf3",
   "metadata": {},
   "source": [
    "nombre_infected       972\n",
    "nombre_sain          2266\n",
    "nombre_exposed        592\n",
    "nombre_recovered    16170\n",
    "Name: 720, dtype: int64"
   ]
  },
  {
   "cell_type": "markdown",
   "id": "8a16d8d1",
   "metadata": {},
   "source": [
    "nombre_infected      1015\n",
    "nombre_sain          2265\n",
    "nombre_exposed        578\n",
    "nombre_recovered    16142\n",
    "Name: 721, dtype: int64"
   ]
  },
  {
   "cell_type": "markdown",
   "id": "ff1f1ca6",
   "metadata": {},
   "source": [
    "nombre_infected      1020\n",
    "nombre_sain          2281\n",
    "nombre_exposed        568\n",
    "nombre_recovered    16131\n",
    "Name: 722, dtype: int64"
   ]
  },
  {
   "cell_type": "markdown",
   "id": "4e6069e0",
   "metadata": {},
   "source": [
    "nombre_infected      1016\n",
    "nombre_sain          2279\n",
    "nombre_exposed        572\n",
    "nombre_recovered    16133\n",
    "Name: 723, dtype: int64"
   ]
  },
  {
   "cell_type": "markdown",
   "id": "7e9e2b75",
   "metadata": {},
   "source": [
    "nombre_infected      1023\n",
    "nombre_sain          2287\n",
    "nombre_exposed        582\n",
    "nombre_recovered    16108\n",
    "Name: 724, dtype: int64"
   ]
  },
  {
   "cell_type": "markdown",
   "id": "8255fd50",
   "metadata": {},
   "source": [
    "nombre_infected      1021\n",
    "nombre_sain          2277\n",
    "nombre_exposed        581\n",
    "nombre_recovered    16121\n",
    "Name: 725, dtype: int64"
   ]
  },
  {
   "cell_type": "markdown",
   "id": "e0fe93dc",
   "metadata": {},
   "source": [
    "nombre_infected      1045\n",
    "nombre_sain          2232\n",
    "nombre_exposed        595\n",
    "nombre_recovered    16128\n",
    "Name: 726, dtype: int64"
   ]
  },
  {
   "cell_type": "markdown",
   "id": "ec339e3f",
   "metadata": {},
   "source": [
    "nombre_infected      1046\n",
    "nombre_sain          2248\n",
    "nombre_exposed        588\n",
    "nombre_recovered    16118\n",
    "Name: 727, dtype: int64"
   ]
  },
  {
   "cell_type": "markdown",
   "id": "a444741f",
   "metadata": {},
   "source": [
    "nombre_infected      1044\n",
    "nombre_sain          2240\n",
    "nombre_exposed        580\n",
    "nombre_recovered    16136\n",
    "Name: 728, dtype: int64"
   ]
  },
  {
   "cell_type": "markdown",
   "id": "52872aec",
   "metadata": {},
   "source": [
    "nombre_infected      1045\n",
    "nombre_sain          2228\n",
    "nombre_exposed        596\n",
    "nombre_recovered    16131\n",
    "Name: 729, dtype: int64"
   ]
  },
  {
   "cell_type": "markdown",
   "id": "3a9b9d6b",
   "metadata": {},
   "source": [
    "nombre_infected      1047\n",
    "nombre_sain          2231\n",
    "nombre_exposed        587\n",
    "nombre_recovered    16135\n",
    "Name: 730, dtype: int64"
   ]
  }
 ],
 "metadata": {},
 "nbformat": 4,
 "nbformat_minor": 5
}
