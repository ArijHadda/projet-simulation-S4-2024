{
 "cells": [
  {
   "cell_type": "markdown",
   "id": "f7441602",
   "metadata": {},
   "source": [
    "nombre_infected        20\n",
    "nombre_sain         19980\n",
    "nombre_exposed          0\n",
    "nombre_recovered        0\n",
    "Name: 0, dtype: int64"
   ]
  },
  {
   "cell_type": "markdown",
   "id": "2fe84075",
   "metadata": {},
   "source": [
    "nombre_infected        20\n",
    "nombre_sain         19959\n",
    "nombre_exposed         21\n",
    "nombre_recovered        0\n",
    "Name: 1, dtype: int64"
   ]
  },
  {
   "cell_type": "markdown",
   "id": "fc1114d8",
   "metadata": {},
   "source": [
    "nombre_infected         3\n",
    "nombre_sain         19942\n",
    "nombre_exposed         38\n",
    "nombre_recovered       17\n",
    "Name: 2, dtype: int64"
   ]
  },
  {
   "cell_type": "markdown",
   "id": "2ec82a08",
   "metadata": {},
   "source": [
    "nombre_infected         7\n",
    "nombre_sain         19936\n",
    "nombre_exposed         40\n",
    "nombre_recovered       17\n",
    "Name: 3, dtype: int64"
   ]
  },
  {
   "cell_type": "markdown",
   "id": "c7881b9f",
   "metadata": {},
   "source": [
    "nombre_infected        13\n",
    "nombre_sain         19918\n",
    "nombre_exposed         52\n",
    "nombre_recovered       17\n",
    "Name: 4, dtype: int64"
   ]
  },
  {
   "cell_type": "markdown",
   "id": "68e2a268",
   "metadata": {},
   "source": [
    "nombre_infected        18\n",
    "nombre_sain         19904\n",
    "nombre_exposed         60\n",
    "nombre_recovered       18\n",
    "Name: 5, dtype: int64"
   ]
  },
  {
   "cell_type": "markdown",
   "id": "0d5f9595",
   "metadata": {},
   "source": [
    "nombre_infected        35\n",
    "nombre_sain         19871\n",
    "nombre_exposed         74\n",
    "nombre_recovered       20\n",
    "Name: 6, dtype: int64"
   ]
  },
  {
   "cell_type": "markdown",
   "id": "f35ea321",
   "metadata": {},
   "source": [
    "nombre_infected        43\n",
    "nombre_sain         19829\n",
    "nombre_exposed        106\n",
    "nombre_recovered       22\n",
    "Name: 7, dtype: int64"
   ]
  },
  {
   "cell_type": "markdown",
   "id": "e9ca7350",
   "metadata": {},
   "source": [
    "nombre_infected        57\n",
    "nombre_sain         19760\n",
    "nombre_exposed        160\n",
    "nombre_recovered       23\n",
    "Name: 8, dtype: int64"
   ]
  },
  {
   "cell_type": "markdown",
   "id": "c6e87881",
   "metadata": {},
   "source": [
    "nombre_infected        83\n",
    "nombre_sain         19660\n",
    "nombre_exposed        229\n",
    "nombre_recovered       28\n",
    "Name: 9, dtype: int64"
   ]
  },
  {
   "cell_type": "markdown",
   "id": "1f634341",
   "metadata": {},
   "source": [
    "nombre_infected       119\n",
    "nombre_sain         19535\n",
    "nombre_exposed        311\n",
    "nombre_recovered       35\n",
    "Name: 10, dtype: int64"
   ]
  },
  {
   "cell_type": "markdown",
   "id": "75aa2399",
   "metadata": {},
   "source": [
    "nombre_infected       162\n",
    "nombre_sain         19385\n",
    "nombre_exposed        411\n",
    "nombre_recovered       42\n",
    "Name: 11, dtype: int64"
   ]
  },
  {
   "cell_type": "markdown",
   "id": "a2a65f68",
   "metadata": {},
   "source": [
    "nombre_infected       226\n",
    "nombre_sain         19175\n",
    "nombre_exposed        547\n",
    "nombre_recovered       52\n",
    "Name: 12, dtype: int64"
   ]
  },
  {
   "cell_type": "markdown",
   "id": "09f47fdd",
   "metadata": {},
   "source": [
    "nombre_infected       299\n",
    "nombre_sain         18869\n",
    "nombre_exposed        756\n",
    "nombre_recovered       76\n",
    "Name: 13, dtype: int64"
   ]
  },
  {
   "cell_type": "markdown",
   "id": "95048331",
   "metadata": {},
   "source": [
    "nombre_infected       403\n",
    "nombre_sain         18441\n",
    "nombre_exposed       1057\n",
    "nombre_recovered       99\n",
    "Name: 14, dtype: int64"
   ]
  },
  {
   "cell_type": "markdown",
   "id": "c902b798",
   "metadata": {},
   "source": [
    "nombre_infected       533\n",
    "nombre_sain         17928\n",
    "nombre_exposed       1410\n",
    "nombre_recovered      129\n",
    "Name: 15, dtype: int64"
   ]
  },
  {
   "cell_type": "markdown",
   "id": "54b5b5f8",
   "metadata": {},
   "source": [
    "nombre_infected       729\n",
    "nombre_sain         17239\n",
    "nombre_exposed       1845\n",
    "nombre_recovered      187\n",
    "Name: 16, dtype: int64"
   ]
  },
  {
   "cell_type": "markdown",
   "id": "b14d401b",
   "metadata": {},
   "source": [
    "nombre_infected       976\n",
    "nombre_sain         16291\n",
    "nombre_exposed       2483\n",
    "nombre_recovered      250\n",
    "Name: 17, dtype: int64"
   ]
  },
  {
   "cell_type": "markdown",
   "id": "dd42bd56",
   "metadata": {},
   "source": [
    "nombre_infected      1312\n",
    "nombre_sain         15201\n",
    "nombre_exposed       3174\n",
    "nombre_recovered      313\n",
    "Name: 18, dtype: int64"
   ]
  },
  {
   "cell_type": "markdown",
   "id": "2b6bbe1d",
   "metadata": {},
   "source": [
    "nombre_infected      1768\n",
    "nombre_sain         13923\n",
    "nombre_exposed       3860\n",
    "nombre_recovered      449\n",
    "Name: 19, dtype: int64"
   ]
  },
  {
   "cell_type": "markdown",
   "id": "300b1b4a",
   "metadata": {},
   "source": [
    "nombre_infected      2354\n",
    "nombre_sain         12373\n",
    "nombre_exposed       4679\n",
    "nombre_recovered      594\n",
    "Name: 20, dtype: int64"
   ]
  },
  {
   "cell_type": "markdown",
   "id": "2406ff10",
   "metadata": {},
   "source": [
    "nombre_infected      2997\n",
    "nombre_sain         10629\n",
    "nombre_exposed       5563\n",
    "nombre_recovered      811\n",
    "Name: 21, dtype: int64"
   ]
  },
  {
   "cell_type": "markdown",
   "id": "ce691644",
   "metadata": {},
   "source": [
    "nombre_infected     3805\n",
    "nombre_sain         8902\n",
    "nombre_exposed      6169\n",
    "nombre_recovered    1124\n",
    "Name: 22, dtype: int64"
   ]
  },
  {
   "cell_type": "markdown",
   "id": "ba9bd6ec",
   "metadata": {},
   "source": [
    "nombre_infected     4713\n",
    "nombre_sain         7037\n",
    "nombre_exposed      6772\n",
    "nombre_recovered    1478\n",
    "Name: 23, dtype: int64"
   ]
  },
  {
   "cell_type": "markdown",
   "id": "c2dfad1a",
   "metadata": {},
   "source": [
    "nombre_infected     5606\n",
    "nombre_sain         5413\n",
    "nombre_exposed      7056\n",
    "nombre_recovered    1925\n",
    "Name: 24, dtype: int64"
   ]
  },
  {
   "cell_type": "markdown",
   "id": "5e2d18e8",
   "metadata": {},
   "source": [
    "nombre_infected     6500\n",
    "nombre_sain         3969\n",
    "nombre_exposed      7024\n",
    "nombre_recovered    2507\n",
    "Name: 25, dtype: int64"
   ]
  },
  {
   "cell_type": "markdown",
   "id": "13b9ebe8",
   "metadata": {},
   "source": [
    "nombre_infected     7413\n",
    "nombre_sain         2855\n",
    "nombre_exposed      6626\n",
    "nombre_recovered    3106\n",
    "Name: 26, dtype: int64"
   ]
  },
  {
   "cell_type": "markdown",
   "id": "ae4058d9",
   "metadata": {},
   "source": [
    "nombre_infected     8156\n",
    "nombre_sain         1987\n",
    "nombre_exposed      6016\n",
    "nombre_recovered    3841\n",
    "Name: 27, dtype: int64"
   ]
  },
  {
   "cell_type": "markdown",
   "id": "880939b3",
   "metadata": {},
   "source": [
    "nombre_infected     8660\n",
    "nombre_sain         1377\n",
    "nombre_exposed      5274\n",
    "nombre_recovered    4689\n",
    "Name: 28, dtype: int64"
   ]
  },
  {
   "cell_type": "markdown",
   "id": "a27ba8dd",
   "metadata": {},
   "source": [
    "nombre_infected     8952\n",
    "nombre_sain          924\n",
    "nombre_exposed      4510\n",
    "nombre_recovered    5614\n",
    "Name: 29, dtype: int64"
   ]
  },
  {
   "cell_type": "markdown",
   "id": "a4feaedd",
   "metadata": {},
   "source": [
    "nombre_infected     9071\n",
    "nombre_sain          656\n",
    "nombre_exposed      3688\n",
    "nombre_recovered    6585\n",
    "Name: 30, dtype: int64"
   ]
  },
  {
   "cell_type": "markdown",
   "id": "ce0fb14d",
   "metadata": {},
   "source": [
    "nombre_infected     8960\n",
    "nombre_sain          449\n",
    "nombre_exposed      3002\n",
    "nombre_recovered    7589\n",
    "Name: 31, dtype: int64"
   ]
  },
  {
   "cell_type": "markdown",
   "id": "289900be",
   "metadata": {},
   "source": [
    "nombre_infected     8700\n",
    "nombre_sain          301\n",
    "nombre_exposed      2420\n",
    "nombre_recovered    8579\n",
    "Name: 32, dtype: int64"
   ]
  },
  {
   "cell_type": "markdown",
   "id": "3224d93e",
   "metadata": {},
   "source": [
    "nombre_infected     8233\n",
    "nombre_sain          216\n",
    "nombre_exposed      1918\n",
    "nombre_recovered    9633\n",
    "Name: 33, dtype: int64"
   ]
  },
  {
   "cell_type": "markdown",
   "id": "873636ce",
   "metadata": {},
   "source": [
    "nombre_infected      7745\n",
    "nombre_sain           166\n",
    "nombre_exposed       1505\n",
    "nombre_recovered    10584\n",
    "Name: 34, dtype: int64"
   ]
  },
  {
   "cell_type": "markdown",
   "id": "ffe51ae7",
   "metadata": {},
   "source": [
    "nombre_infected      7206\n",
    "nombre_sain           128\n",
    "nombre_exposed       1185\n",
    "nombre_recovered    11481\n",
    "Name: 35, dtype: int64"
   ]
  },
  {
   "cell_type": "markdown",
   "id": "dc95347a",
   "metadata": {},
   "source": [
    "nombre_infected      6605\n",
    "nombre_sain            98\n",
    "nombre_exposed        926\n",
    "nombre_recovered    12371\n",
    "Name: 36, dtype: int64"
   ]
  },
  {
   "cell_type": "markdown",
   "id": "c8367c36",
   "metadata": {},
   "source": [
    "nombre_infected      5958\n",
    "nombre_sain            91\n",
    "nombre_exposed        714\n",
    "nombre_recovered    13237\n",
    "Name: 37, dtype: int64"
   ]
  },
  {
   "cell_type": "markdown",
   "id": "4bd94688",
   "metadata": {},
   "source": [
    "nombre_infected      5382\n",
    "nombre_sain            84\n",
    "nombre_exposed        560\n",
    "nombre_recovered    13974\n",
    "Name: 38, dtype: int64"
   ]
  },
  {
   "cell_type": "markdown",
   "id": "6e2a1e80",
   "metadata": {},
   "source": [
    "nombre_infected      4816\n",
    "nombre_sain            85\n",
    "nombre_exposed        442\n",
    "nombre_recovered    14657\n",
    "Name: 39, dtype: int64"
   ]
  },
  {
   "cell_type": "markdown",
   "id": "3439342a",
   "metadata": {},
   "source": [
    "nombre_infected      4258\n",
    "nombre_sain            95\n",
    "nombre_exposed        356\n",
    "nombre_recovered    15291\n",
    "Name: 40, dtype: int64"
   ]
  },
  {
   "cell_type": "markdown",
   "id": "0d4431c9",
   "metadata": {},
   "source": [
    "nombre_infected      3809\n",
    "nombre_sain           115\n",
    "nombre_exposed        278\n",
    "nombre_recovered    15798\n",
    "Name: 41, dtype: int64"
   ]
  },
  {
   "cell_type": "markdown",
   "id": "7823a40d",
   "metadata": {},
   "source": [
    "nombre_infected      3375\n",
    "nombre_sain           127\n",
    "nombre_exposed        220\n",
    "nombre_recovered    16278\n",
    "Name: 42, dtype: int64"
   ]
  },
  {
   "cell_type": "markdown",
   "id": "85f44dce",
   "metadata": {},
   "source": [
    "nombre_infected      2952\n",
    "nombre_sain           144\n",
    "nombre_exposed        183\n",
    "nombre_recovered    16721\n",
    "Name: 43, dtype: int64"
   ]
  },
  {
   "cell_type": "markdown",
   "id": "8f6af4cd",
   "metadata": {},
   "source": [
    "nombre_infected      2632\n",
    "nombre_sain           176\n",
    "nombre_exposed        164\n",
    "nombre_recovered    17028\n",
    "Name: 44, dtype: int64"
   ]
  },
  {
   "cell_type": "markdown",
   "id": "a56d883c",
   "metadata": {},
   "source": [
    "nombre_infected      2313\n",
    "nombre_sain           208\n",
    "nombre_exposed        157\n",
    "nombre_recovered    17322\n",
    "Name: 45, dtype: int64"
   ]
  },
  {
   "cell_type": "markdown",
   "id": "2c66d557",
   "metadata": {},
   "source": [
    "nombre_infected      1981\n",
    "nombre_sain           237\n",
    "nombre_exposed        149\n",
    "nombre_recovered    17633\n",
    "Name: 46, dtype: int64"
   ]
  },
  {
   "cell_type": "markdown",
   "id": "0eccc265",
   "metadata": {},
   "source": [
    "nombre_infected      1715\n",
    "nombre_sain           265\n",
    "nombre_exposed        146\n",
    "nombre_recovered    17874\n",
    "Name: 47, dtype: int64"
   ]
  },
  {
   "cell_type": "markdown",
   "id": "18283f8a",
   "metadata": {},
   "source": [
    "nombre_infected      1483\n",
    "nombre_sain           286\n",
    "nombre_exposed        148\n",
    "nombre_recovered    18083\n",
    "Name: 48, dtype: int64"
   ]
  },
  {
   "cell_type": "markdown",
   "id": "aa49cdb0",
   "metadata": {},
   "source": [
    "nombre_infected      1277\n",
    "nombre_sain           330\n",
    "nombre_exposed        144\n",
    "nombre_recovered    18249\n",
    "Name: 49, dtype: int64"
   ]
  },
  {
   "cell_type": "markdown",
   "id": "4f453962",
   "metadata": {},
   "source": [
    "nombre_infected      1142\n",
    "nombre_sain           351\n",
    "nombre_exposed        147\n",
    "nombre_recovered    18360\n",
    "Name: 50, dtype: int64"
   ]
  },
  {
   "cell_type": "markdown",
   "id": "e52fb494",
   "metadata": {},
   "source": [
    "nombre_infected       974\n",
    "nombre_sain           378\n",
    "nombre_exposed        144\n",
    "nombre_recovered    18504\n",
    "Name: 51, dtype: int64"
   ]
  },
  {
   "cell_type": "markdown",
   "id": "57419ec1",
   "metadata": {},
   "source": [
    "nombre_infected       842\n",
    "nombre_sain           412\n",
    "nombre_exposed        145\n",
    "nombre_recovered    18601\n",
    "Name: 52, dtype: int64"
   ]
  },
  {
   "cell_type": "markdown",
   "id": "ee1b1038",
   "metadata": {},
   "source": [
    "nombre_infected       760\n",
    "nombre_sain           449\n",
    "nombre_exposed        129\n",
    "nombre_recovered    18662\n",
    "Name: 53, dtype: int64"
   ]
  },
  {
   "cell_type": "markdown",
   "id": "1fb2501d",
   "metadata": {},
   "source": [
    "nombre_infected       681\n",
    "nombre_sain           490\n",
    "nombre_exposed        117\n",
    "nombre_recovered    18712\n",
    "Name: 54, dtype: int64"
   ]
  },
  {
   "cell_type": "markdown",
   "id": "bcd76b4f",
   "metadata": {},
   "source": [
    "nombre_infected       604\n",
    "nombre_sain           517\n",
    "nombre_exposed        113\n",
    "nombre_recovered    18766\n",
    "Name: 55, dtype: int64"
   ]
  },
  {
   "cell_type": "markdown",
   "id": "f57db7f3",
   "metadata": {},
   "source": [
    "nombre_infected       556\n",
    "nombre_sain           546\n",
    "nombre_exposed        104\n",
    "nombre_recovered    18794\n",
    "Name: 56, dtype: int64"
   ]
  },
  {
   "cell_type": "markdown",
   "id": "e8144c8a",
   "metadata": {},
   "source": [
    "nombre_infected       486\n",
    "nombre_sain           587\n",
    "nombre_exposed         97\n",
    "nombre_recovered    18830\n",
    "Name: 57, dtype: int64"
   ]
  },
  {
   "cell_type": "markdown",
   "id": "fdb8e5f5",
   "metadata": {},
   "source": [
    "nombre_infected       438\n",
    "nombre_sain           613\n",
    "nombre_exposed         91\n",
    "nombre_recovered    18858\n",
    "Name: 58, dtype: int64"
   ]
  },
  {
   "cell_type": "markdown",
   "id": "48c1fea5",
   "metadata": {},
   "source": [
    "nombre_infected       404\n",
    "nombre_sain           645\n",
    "nombre_exposed         82\n",
    "nombre_recovered    18869\n",
    "Name: 59, dtype: int64"
   ]
  },
  {
   "cell_type": "markdown",
   "id": "c2e55a51",
   "metadata": {},
   "source": [
    "nombre_infected       377\n",
    "nombre_sain           678\n",
    "nombre_exposed         78\n",
    "nombre_recovered    18867\n",
    "Name: 60, dtype: int64"
   ]
  },
  {
   "cell_type": "markdown",
   "id": "eb8834a8",
   "metadata": {},
   "source": [
    "nombre_infected       349\n",
    "nombre_sain           716\n",
    "nombre_exposed         71\n",
    "nombre_recovered    18864\n",
    "Name: 61, dtype: int64"
   ]
  },
  {
   "cell_type": "markdown",
   "id": "2c85a204",
   "metadata": {},
   "source": [
    "nombre_infected       323\n",
    "nombre_sain           737\n",
    "nombre_exposed         70\n",
    "nombre_recovered    18870\n",
    "Name: 62, dtype: int64"
   ]
  },
  {
   "cell_type": "markdown",
   "id": "fd4c4064",
   "metadata": {},
   "source": [
    "nombre_infected       286\n",
    "nombre_sain           778\n",
    "nombre_exposed         69\n",
    "nombre_recovered    18867\n",
    "Name: 63, dtype: int64"
   ]
  },
  {
   "cell_type": "markdown",
   "id": "200e9694",
   "metadata": {},
   "source": [
    "nombre_infected       265\n",
    "nombre_sain           818\n",
    "nombre_exposed         61\n",
    "nombre_recovered    18856\n",
    "Name: 64, dtype: int64"
   ]
  },
  {
   "cell_type": "markdown",
   "id": "321c5c52",
   "metadata": {},
   "source": [
    "nombre_infected       237\n",
    "nombre_sain           852\n",
    "nombre_exposed         64\n",
    "nombre_recovered    18847\n",
    "Name: 65, dtype: int64"
   ]
  },
  {
   "cell_type": "markdown",
   "id": "d24866e2",
   "metadata": {},
   "source": [
    "nombre_infected       224\n",
    "nombre_sain           894\n",
    "nombre_exposed         52\n",
    "nombre_recovered    18830\n",
    "Name: 66, dtype: int64"
   ]
  },
  {
   "cell_type": "markdown",
   "id": "9e9b544b",
   "metadata": {},
   "source": [
    "nombre_infected       200\n",
    "nombre_sain           920\n",
    "nombre_exposed         54\n",
    "nombre_recovered    18826\n",
    "Name: 67, dtype: int64"
   ]
  },
  {
   "cell_type": "markdown",
   "id": "c431b602",
   "metadata": {},
   "source": [
    "nombre_infected       183\n",
    "nombre_sain           970\n",
    "nombre_exposed         57\n",
    "nombre_recovered    18790\n",
    "Name: 68, dtype: int64"
   ]
  },
  {
   "cell_type": "markdown",
   "id": "24fa63b0",
   "metadata": {},
   "source": [
    "nombre_infected       171\n",
    "nombre_sain          1021\n",
    "nombre_exposed         53\n",
    "nombre_recovered    18755\n",
    "Name: 69, dtype: int64"
   ]
  },
  {
   "cell_type": "markdown",
   "id": "15f15918",
   "metadata": {},
   "source": [
    "nombre_infected       166\n",
    "nombre_sain          1058\n",
    "nombre_exposed         53\n",
    "nombre_recovered    18723\n",
    "Name: 70, dtype: int64"
   ]
  },
  {
   "cell_type": "markdown",
   "id": "f02b3930",
   "metadata": {},
   "source": [
    "nombre_infected       151\n",
    "nombre_sain          1110\n",
    "nombre_exposed         50\n",
    "nombre_recovered    18689\n",
    "Name: 71, dtype: int64"
   ]
  },
  {
   "cell_type": "markdown",
   "id": "f964a381",
   "metadata": {},
   "source": [
    "nombre_infected       148\n",
    "nombre_sain          1149\n",
    "nombre_exposed         47\n",
    "nombre_recovered    18656\n",
    "Name: 72, dtype: int64"
   ]
  },
  {
   "cell_type": "markdown",
   "id": "8ca15de3",
   "metadata": {},
   "source": [
    "nombre_infected       134\n",
    "nombre_sain          1201\n",
    "nombre_exposed         53\n",
    "nombre_recovered    18612\n",
    "Name: 73, dtype: int64"
   ]
  },
  {
   "cell_type": "markdown",
   "id": "5d8e95fd",
   "metadata": {},
   "source": [
    "nombre_infected       118\n",
    "nombre_sain          1252\n",
    "nombre_exposed         53\n",
    "nombre_recovered    18577\n",
    "Name: 74, dtype: int64"
   ]
  },
  {
   "cell_type": "markdown",
   "id": "897b0c62",
   "metadata": {},
   "source": [
    "nombre_infected       113\n",
    "nombre_sain          1302\n",
    "nombre_exposed         49\n",
    "nombre_recovered    18536\n",
    "Name: 75, dtype: int64"
   ]
  },
  {
   "cell_type": "markdown",
   "id": "8fc738a1",
   "metadata": {},
   "source": [
    "nombre_infected       112\n",
    "nombre_sain          1353\n",
    "nombre_exposed         44\n",
    "nombre_recovered    18491\n",
    "Name: 76, dtype: int64"
   ]
  },
  {
   "cell_type": "markdown",
   "id": "541f5f73",
   "metadata": {},
   "source": [
    "nombre_infected       107\n",
    "nombre_sain          1405\n",
    "nombre_exposed         49\n",
    "nombre_recovered    18439\n",
    "Name: 77, dtype: int64"
   ]
  },
  {
   "cell_type": "markdown",
   "id": "cd5ab560",
   "metadata": {},
   "source": [
    "nombre_infected       107\n",
    "nombre_sain          1460\n",
    "nombre_exposed         51\n",
    "nombre_recovered    18382\n",
    "Name: 78, dtype: int64"
   ]
  },
  {
   "cell_type": "markdown",
   "id": "c1d44898",
   "metadata": {},
   "source": [
    "nombre_infected       106\n",
    "nombre_sain          1506\n",
    "nombre_exposed         50\n",
    "nombre_recovered    18338\n",
    "Name: 79, dtype: int64"
   ]
  },
  {
   "cell_type": "markdown",
   "id": "b5c49817",
   "metadata": {},
   "source": [
    "nombre_infected       112\n",
    "nombre_sain          1568\n",
    "nombre_exposed         42\n",
    "nombre_recovered    18278\n",
    "Name: 80, dtype: int64"
   ]
  },
  {
   "cell_type": "markdown",
   "id": "871f189a",
   "metadata": {},
   "source": [
    "nombre_infected       112\n",
    "nombre_sain          1608\n",
    "nombre_exposed         44\n",
    "nombre_recovered    18236\n",
    "Name: 81, dtype: int64"
   ]
  },
  {
   "cell_type": "markdown",
   "id": "93b2ca7e",
   "metadata": {},
   "source": [
    "nombre_infected        93\n",
    "nombre_sain          1660\n",
    "nombre_exposed         53\n",
    "nombre_recovered    18194\n",
    "Name: 82, dtype: int64"
   ]
  },
  {
   "cell_type": "markdown",
   "id": "257d3c63",
   "metadata": {},
   "source": [
    "nombre_infected        94\n",
    "nombre_sain          1691\n",
    "nombre_exposed         50\n",
    "nombre_recovered    18165\n",
    "Name: 83, dtype: int64"
   ]
  },
  {
   "cell_type": "markdown",
   "id": "fe167c7d",
   "metadata": {},
   "source": [
    "nombre_infected        90\n",
    "nombre_sain          1720\n",
    "nombre_exposed         54\n",
    "nombre_recovered    18136\n",
    "Name: 84, dtype: int64"
   ]
  },
  {
   "cell_type": "markdown",
   "id": "7bcd69d3",
   "metadata": {},
   "source": [
    "nombre_infected        92\n",
    "nombre_sain          1771\n",
    "nombre_exposed         47\n",
    "nombre_recovered    18090\n",
    "Name: 85, dtype: int64"
   ]
  },
  {
   "cell_type": "markdown",
   "id": "4067fc77",
   "metadata": {},
   "source": [
    "nombre_infected        87\n",
    "nombre_sain          1817\n",
    "nombre_exposed         48\n",
    "nombre_recovered    18048\n",
    "Name: 86, dtype: int64"
   ]
  },
  {
   "cell_type": "markdown",
   "id": "ac9f1e8e",
   "metadata": {},
   "source": [
    "nombre_infected        82\n",
    "nombre_sain          1862\n",
    "nombre_exposed         43\n",
    "nombre_recovered    18013\n",
    "Name: 87, dtype: int64"
   ]
  },
  {
   "cell_type": "markdown",
   "id": "608ba59a",
   "metadata": {},
   "source": [
    "nombre_infected        85\n",
    "nombre_sain          1900\n",
    "nombre_exposed         33\n",
    "nombre_recovered    17982\n",
    "Name: 88, dtype: int64"
   ]
  },
  {
   "cell_type": "markdown",
   "id": "c4dd1512",
   "metadata": {},
   "source": [
    "nombre_infected        85\n",
    "nombre_sain          1927\n",
    "nombre_exposed         34\n",
    "nombre_recovered    17954\n",
    "Name: 89, dtype: int64"
   ]
  },
  {
   "cell_type": "markdown",
   "id": "01ba1238",
   "metadata": {},
   "source": [
    "nombre_infected        85\n",
    "nombre_sain          1949\n",
    "nombre_exposed         34\n",
    "nombre_recovered    17932\n",
    "Name: 90, dtype: int64"
   ]
  },
  {
   "cell_type": "markdown",
   "id": "ae5d6ca1",
   "metadata": {},
   "source": [
    "nombre_infected        81\n",
    "nombre_sain          1962\n",
    "nombre_exposed         43\n",
    "nombre_recovered    17914\n",
    "Name: 91, dtype: int64"
   ]
  },
  {
   "cell_type": "markdown",
   "id": "b2d28c08",
   "metadata": {},
   "source": [
    "nombre_infected        79\n",
    "nombre_sain          1988\n",
    "nombre_exposed         49\n",
    "nombre_recovered    17884\n",
    "Name: 92, dtype: int64"
   ]
  },
  {
   "cell_type": "markdown",
   "id": "920256eb",
   "metadata": {},
   "source": [
    "nombre_infected        82\n",
    "nombre_sain          2013\n",
    "nombre_exposed         49\n",
    "nombre_recovered    17856\n",
    "Name: 93, dtype: int64"
   ]
  },
  {
   "cell_type": "markdown",
   "id": "d593747e",
   "metadata": {},
   "source": [
    "nombre_infected        78\n",
    "nombre_sain          2040\n",
    "nombre_exposed         59\n",
    "nombre_recovered    17823\n",
    "Name: 94, dtype: int64"
   ]
  },
  {
   "cell_type": "markdown",
   "id": "addcc359",
   "metadata": {},
   "source": [
    "nombre_infected        79\n",
    "nombre_sain          2061\n",
    "nombre_exposed         59\n",
    "nombre_recovered    17801\n",
    "Name: 95, dtype: int64"
   ]
  },
  {
   "cell_type": "markdown",
   "id": "0e235188",
   "metadata": {},
   "source": [
    "nombre_infected        82\n",
    "nombre_sain          2105\n",
    "nombre_exposed         51\n",
    "nombre_recovered    17762\n",
    "Name: 96, dtype: int64"
   ]
  },
  {
   "cell_type": "markdown",
   "id": "554fd843",
   "metadata": {},
   "source": [
    "nombre_infected        87\n",
    "nombre_sain          2125\n",
    "nombre_exposed         55\n",
    "nombre_recovered    17733\n",
    "Name: 97, dtype: int64"
   ]
  },
  {
   "cell_type": "markdown",
   "id": "98822dae",
   "metadata": {},
   "source": [
    "nombre_infected        86\n",
    "nombre_sain          2164\n",
    "nombre_exposed         58\n",
    "nombre_recovered    17692\n",
    "Name: 98, dtype: int64"
   ]
  },
  {
   "cell_type": "markdown",
   "id": "59cfb737",
   "metadata": {},
   "source": [
    "nombre_infected        91\n",
    "nombre_sain          2192\n",
    "nombre_exposed         56\n",
    "nombre_recovered    17661\n",
    "Name: 99, dtype: int64"
   ]
  },
  {
   "cell_type": "markdown",
   "id": "315daab8",
   "metadata": {},
   "source": [
    "nombre_infected        93\n",
    "nombre_sain          2224\n",
    "nombre_exposed         54\n",
    "nombre_recovered    17629\n",
    "Name: 100, dtype: int64"
   ]
  },
  {
   "cell_type": "markdown",
   "id": "e2067fef",
   "metadata": {},
   "source": [
    "nombre_infected       103\n",
    "nombre_sain          2242\n",
    "nombre_exposed         53\n",
    "nombre_recovered    17602\n",
    "Name: 101, dtype: int64"
   ]
  },
  {
   "cell_type": "markdown",
   "id": "77c2a1a9",
   "metadata": {},
   "source": [
    "nombre_infected       103\n",
    "nombre_sain          2276\n",
    "nombre_exposed         63\n",
    "nombre_recovered    17558\n",
    "Name: 102, dtype: int64"
   ]
  },
  {
   "cell_type": "markdown",
   "id": "2f8eede5",
   "metadata": {},
   "source": [
    "nombre_infected       101\n",
    "nombre_sain          2312\n",
    "nombre_exposed         70\n",
    "nombre_recovered    17517\n",
    "Name: 103, dtype: int64"
   ]
  },
  {
   "cell_type": "markdown",
   "id": "ae88863c",
   "metadata": {},
   "source": [
    "nombre_infected       103\n",
    "nombre_sain          2350\n",
    "nombre_exposed         84\n",
    "nombre_recovered    17463\n",
    "Name: 104, dtype: int64"
   ]
  },
  {
   "cell_type": "markdown",
   "id": "5fd1f340",
   "metadata": {},
   "source": [
    "nombre_infected       113\n",
    "nombre_sain          2381\n",
    "nombre_exposed         78\n",
    "nombre_recovered    17428\n",
    "Name: 105, dtype: int64"
   ]
  },
  {
   "cell_type": "markdown",
   "id": "f668944b",
   "metadata": {},
   "source": [
    "nombre_infected       118\n",
    "nombre_sain          2431\n",
    "nombre_exposed         78\n",
    "nombre_recovered    17373\n",
    "Name: 106, dtype: int64"
   ]
  },
  {
   "cell_type": "markdown",
   "id": "ee5a4da1",
   "metadata": {},
   "source": [
    "nombre_infected       121\n",
    "nombre_sain          2471\n",
    "nombre_exposed         78\n",
    "nombre_recovered    17330\n",
    "Name: 107, dtype: int64"
   ]
  },
  {
   "cell_type": "markdown",
   "id": "f49aeaa4",
   "metadata": {},
   "source": [
    "nombre_infected       127\n",
    "nombre_sain          2501\n",
    "nombre_exposed         92\n",
    "nombre_recovered    17280\n",
    "Name: 108, dtype: int64"
   ]
  },
  {
   "cell_type": "markdown",
   "id": "5ae2706d",
   "metadata": {},
   "source": [
    "nombre_infected       129\n",
    "nombre_sain          2559\n",
    "nombre_exposed         91\n",
    "nombre_recovered    17221\n",
    "Name: 109, dtype: int64"
   ]
  },
  {
   "cell_type": "markdown",
   "id": "fdf61f74",
   "metadata": {},
   "source": [
    "nombre_infected       146\n",
    "nombre_sain          2613\n",
    "nombre_exposed         86\n",
    "nombre_recovered    17155\n",
    "Name: 110, dtype: int64"
   ]
  },
  {
   "cell_type": "markdown",
   "id": "62596533",
   "metadata": {},
   "source": [
    "nombre_infected       151\n",
    "nombre_sain          2670\n",
    "nombre_exposed         88\n",
    "nombre_recovered    17091\n",
    "Name: 111, dtype: int64"
   ]
  },
  {
   "cell_type": "markdown",
   "id": "517be6f4",
   "metadata": {},
   "source": [
    "nombre_infected       157\n",
    "nombre_sain          2731\n",
    "nombre_exposed         98\n",
    "nombre_recovered    17014\n",
    "Name: 112, dtype: int64"
   ]
  },
  {
   "cell_type": "markdown",
   "id": "c1de552d",
   "metadata": {},
   "source": [
    "nombre_infected       164\n",
    "nombre_sain          2789\n",
    "nombre_exposed        101\n",
    "nombre_recovered    16946\n",
    "Name: 113, dtype: int64"
   ]
  },
  {
   "cell_type": "markdown",
   "id": "f8a15e0d",
   "metadata": {},
   "source": [
    "nombre_infected       166\n",
    "nombre_sain          2847\n",
    "nombre_exposed        114\n",
    "nombre_recovered    16873\n",
    "Name: 114, dtype: int64"
   ]
  },
  {
   "cell_type": "markdown",
   "id": "4e0d1739",
   "metadata": {},
   "source": [
    "nombre_infected       167\n",
    "nombre_sain          2915\n",
    "nombre_exposed        118\n",
    "nombre_recovered    16800\n",
    "Name: 115, dtype: int64"
   ]
  },
  {
   "cell_type": "markdown",
   "id": "58ce0811",
   "metadata": {},
   "source": [
    "nombre_infected       175\n",
    "nombre_sain          2973\n",
    "nombre_exposed        131\n",
    "nombre_recovered    16721\n",
    "Name: 116, dtype: int64"
   ]
  },
  {
   "cell_type": "markdown",
   "id": "8069e196",
   "metadata": {},
   "source": [
    "nombre_infected       184\n",
    "nombre_sain          3021\n",
    "nombre_exposed        130\n",
    "nombre_recovered    16665\n",
    "Name: 117, dtype: int64"
   ]
  },
  {
   "cell_type": "markdown",
   "id": "3b3bf5d4",
   "metadata": {},
   "source": [
    "nombre_infected       193\n",
    "nombre_sain          3069\n",
    "nombre_exposed        128\n",
    "nombre_recovered    16610\n",
    "Name: 118, dtype: int64"
   ]
  },
  {
   "cell_type": "markdown",
   "id": "ebf45231",
   "metadata": {},
   "source": [
    "nombre_infected       204\n",
    "nombre_sain          3110\n",
    "nombre_exposed        141\n",
    "nombre_recovered    16545\n",
    "Name: 119, dtype: int64"
   ]
  },
  {
   "cell_type": "markdown",
   "id": "505c794a",
   "metadata": {},
   "source": [
    "nombre_infected       215\n",
    "nombre_sain          3142\n",
    "nombre_exposed        143\n",
    "nombre_recovered    16500\n",
    "Name: 120, dtype: int64"
   ]
  },
  {
   "cell_type": "markdown",
   "id": "25a6f6f8",
   "metadata": {},
   "source": [
    "nombre_infected       225\n",
    "nombre_sain          3180\n",
    "nombre_exposed        150\n",
    "nombre_recovered    16445\n",
    "Name: 121, dtype: int64"
   ]
  },
  {
   "cell_type": "markdown",
   "id": "d14b6b60",
   "metadata": {},
   "source": [
    "nombre_infected       228\n",
    "nombre_sain          3195\n",
    "nombre_exposed        169\n",
    "nombre_recovered    16408\n",
    "Name: 122, dtype: int64"
   ]
  },
  {
   "cell_type": "markdown",
   "id": "1a6fa37c",
   "metadata": {},
   "source": [
    "nombre_infected       238\n",
    "nombre_sain          3226\n",
    "nombre_exposed        178\n",
    "nombre_recovered    16358\n",
    "Name: 123, dtype: int64"
   ]
  },
  {
   "cell_type": "markdown",
   "id": "660bce4f",
   "metadata": {},
   "source": [
    "nombre_infected       235\n",
    "nombre_sain          3223\n",
    "nombre_exposed        210\n",
    "nombre_recovered    16332\n",
    "Name: 124, dtype: int64"
   ]
  },
  {
   "cell_type": "markdown",
   "id": "d559c0eb",
   "metadata": {},
   "source": [
    "nombre_infected       265\n",
    "nombre_sain          3235\n",
    "nombre_exposed        208\n",
    "nombre_recovered    16292\n",
    "Name: 125, dtype: int64"
   ]
  },
  {
   "cell_type": "markdown",
   "id": "68e12c2f",
   "metadata": {},
   "source": [
    "nombre_infected       280\n",
    "nombre_sain          3258\n",
    "nombre_exposed        218\n",
    "nombre_recovered    16244\n",
    "Name: 126, dtype: int64"
   ]
  },
  {
   "cell_type": "markdown",
   "id": "7c6f6378",
   "metadata": {},
   "source": [
    "nombre_infected       301\n",
    "nombre_sain          3244\n",
    "nombre_exposed        240\n",
    "nombre_recovered    16215\n",
    "Name: 127, dtype: int64"
   ]
  },
  {
   "cell_type": "markdown",
   "id": "d01d89b4",
   "metadata": {},
   "source": [
    "nombre_infected       328\n",
    "nombre_sain          3241\n",
    "nombre_exposed        254\n",
    "nombre_recovered    16177\n",
    "Name: 128, dtype: int64"
   ]
  },
  {
   "cell_type": "markdown",
   "id": "b0c86fef",
   "metadata": {},
   "source": [
    "nombre_infected       335\n",
    "nombre_sain          3238\n",
    "nombre_exposed        277\n",
    "nombre_recovered    16150\n",
    "Name: 129, dtype: int64"
   ]
  },
  {
   "cell_type": "markdown",
   "id": "a48a5ef1",
   "metadata": {},
   "source": [
    "nombre_infected       353\n",
    "nombre_sain          3233\n",
    "nombre_exposed        286\n",
    "nombre_recovered    16128\n",
    "Name: 130, dtype: int64"
   ]
  },
  {
   "cell_type": "markdown",
   "id": "39bfeffd",
   "metadata": {},
   "source": [
    "nombre_infected       381\n",
    "nombre_sain          3246\n",
    "nombre_exposed        281\n",
    "nombre_recovered    16092\n",
    "Name: 131, dtype: int64"
   ]
  },
  {
   "cell_type": "markdown",
   "id": "26021c9c",
   "metadata": {},
   "source": [
    "nombre_infected       387\n",
    "nombre_sain          3236\n",
    "nombre_exposed        298\n",
    "nombre_recovered    16079\n",
    "Name: 132, dtype: int64"
   ]
  },
  {
   "cell_type": "markdown",
   "id": "c508bf0c",
   "metadata": {},
   "source": [
    "nombre_infected       405\n",
    "nombre_sain          3208\n",
    "nombre_exposed        317\n",
    "nombre_recovered    16070\n",
    "Name: 133, dtype: int64"
   ]
  },
  {
   "cell_type": "markdown",
   "id": "89e3ab7e",
   "metadata": {},
   "source": [
    "nombre_infected       424\n",
    "nombre_sain          3189\n",
    "nombre_exposed        339\n",
    "nombre_recovered    16048\n",
    "Name: 134, dtype: int64"
   ]
  },
  {
   "cell_type": "markdown",
   "id": "edcc9cfa",
   "metadata": {},
   "source": [
    "nombre_infected       465\n",
    "nombre_sain          3169\n",
    "nombre_exposed        340\n",
    "nombre_recovered    16026\n",
    "Name: 135, dtype: int64"
   ]
  },
  {
   "cell_type": "markdown",
   "id": "f4978701",
   "metadata": {},
   "source": [
    "nombre_infected       482\n",
    "nombre_sain          3125\n",
    "nombre_exposed        365\n",
    "nombre_recovered    16028\n",
    "Name: 136, dtype: int64"
   ]
  },
  {
   "cell_type": "markdown",
   "id": "1e6364aa",
   "metadata": {},
   "source": [
    "nombre_infected       502\n",
    "nombre_sain          3100\n",
    "nombre_exposed        389\n",
    "nombre_recovered    16009\n",
    "Name: 137, dtype: int64"
   ]
  },
  {
   "cell_type": "markdown",
   "id": "b075ad17",
   "metadata": {},
   "source": [
    "nombre_infected       549\n",
    "nombre_sain          3063\n",
    "nombre_exposed        399\n",
    "nombre_recovered    15989\n",
    "Name: 138, dtype: int64"
   ]
  },
  {
   "cell_type": "markdown",
   "id": "02b46af0",
   "metadata": {},
   "source": [
    "nombre_infected       565\n",
    "nombre_sain          3009\n",
    "nombre_exposed        461\n",
    "nombre_recovered    15965\n",
    "Name: 139, dtype: int64"
   ]
  },
  {
   "cell_type": "markdown",
   "id": "91e1891b",
   "metadata": {},
   "source": [
    "nombre_infected       616\n",
    "nombre_sain          2949\n",
    "nombre_exposed        481\n",
    "nombre_recovered    15954\n",
    "Name: 140, dtype: int64"
   ]
  },
  {
   "cell_type": "markdown",
   "id": "db9f3848",
   "metadata": {},
   "source": [
    "nombre_infected       677\n",
    "nombre_sain          2909\n",
    "nombre_exposed        488\n",
    "nombre_recovered    15926\n",
    "Name: 141, dtype: int64"
   ]
  },
  {
   "cell_type": "markdown",
   "id": "b2a6b7fb",
   "metadata": {},
   "source": [
    "nombre_infected       716\n",
    "nombre_sain          2871\n",
    "nombre_exposed        512\n",
    "nombre_recovered    15901\n",
    "Name: 142, dtype: int64"
   ]
  },
  {
   "cell_type": "markdown",
   "id": "45cc0670",
   "metadata": {},
   "source": [
    "nombre_infected       744\n",
    "nombre_sain          2814\n",
    "nombre_exposed        543\n",
    "nombre_recovered    15899\n",
    "Name: 143, dtype: int64"
   ]
  },
  {
   "cell_type": "markdown",
   "id": "7089ef50",
   "metadata": {},
   "source": [
    "nombre_infected       751\n",
    "nombre_sain          2769\n",
    "nombre_exposed        569\n",
    "nombre_recovered    15911\n",
    "Name: 144, dtype: int64"
   ]
  },
  {
   "cell_type": "markdown",
   "id": "f743de08",
   "metadata": {},
   "source": [
    "nombre_infected       792\n",
    "nombre_sain          2701\n",
    "nombre_exposed        584\n",
    "nombre_recovered    15923\n",
    "Name: 145, dtype: int64"
   ]
  },
  {
   "cell_type": "markdown",
   "id": "517eb45f",
   "metadata": {},
   "source": [
    "nombre_infected       837\n",
    "nombre_sain          2630\n",
    "nombre_exposed        601\n",
    "nombre_recovered    15932\n",
    "Name: 146, dtype: int64"
   ]
  },
  {
   "cell_type": "markdown",
   "id": "0d8367a6",
   "metadata": {},
   "source": [
    "nombre_infected       872\n",
    "nombre_sain          2574\n",
    "nombre_exposed        616\n",
    "nombre_recovered    15938\n",
    "Name: 147, dtype: int64"
   ]
  },
  {
   "cell_type": "markdown",
   "id": "2f3ceef8",
   "metadata": {},
   "source": [
    "nombre_infected       921\n",
    "nombre_sain          2474\n",
    "nombre_exposed        642\n",
    "nombre_recovered    15963\n",
    "Name: 148, dtype: int64"
   ]
  },
  {
   "cell_type": "markdown",
   "id": "00677034",
   "metadata": {},
   "source": [
    "nombre_infected       967\n",
    "nombre_sain          2406\n",
    "nombre_exposed        663\n",
    "nombre_recovered    15964\n",
    "Name: 149, dtype: int64"
   ]
  },
  {
   "cell_type": "markdown",
   "id": "dc3b3fe4",
   "metadata": {},
   "source": [
    "nombre_infected      1039\n",
    "nombre_sain          2349\n",
    "nombre_exposed        650\n",
    "nombre_recovered    15962\n",
    "Name: 150, dtype: int64"
   ]
  },
  {
   "cell_type": "markdown",
   "id": "80a99da3",
   "metadata": {},
   "source": [
    "nombre_infected      1072\n",
    "nombre_sain          2282\n",
    "nombre_exposed        641\n",
    "nombre_recovered    16005\n",
    "Name: 151, dtype: int64"
   ]
  },
  {
   "cell_type": "markdown",
   "id": "1791d898",
   "metadata": {},
   "source": [
    "nombre_infected      1123\n",
    "nombre_sain          2197\n",
    "nombre_exposed        630\n",
    "nombre_recovered    16050\n",
    "Name: 152, dtype: int64"
   ]
  },
  {
   "cell_type": "markdown",
   "id": "2e5b8492",
   "metadata": {},
   "source": [
    "nombre_infected      1150\n",
    "nombre_sain          2121\n",
    "nombre_exposed        630\n",
    "nombre_recovered    16099\n",
    "Name: 153, dtype: int64"
   ]
  },
  {
   "cell_type": "markdown",
   "id": "a1d54d65",
   "metadata": {},
   "source": [
    "nombre_infected      1191\n",
    "nombre_sain          2028\n",
    "nombre_exposed        653\n",
    "nombre_recovered    16128\n",
    "Name: 154, dtype: int64"
   ]
  },
  {
   "cell_type": "markdown",
   "id": "799cdb6a",
   "metadata": {},
   "source": [
    "nombre_infected      1211\n",
    "nombre_sain          1920\n",
    "nombre_exposed        660\n",
    "nombre_recovered    16209\n",
    "Name: 155, dtype: int64"
   ]
  },
  {
   "cell_type": "markdown",
   "id": "2f6c20c9",
   "metadata": {},
   "source": [
    "nombre_infected      1232\n",
    "nombre_sain          1851\n",
    "nombre_exposed        654\n",
    "nombre_recovered    16263\n",
    "Name: 156, dtype: int64"
   ]
  },
  {
   "cell_type": "markdown",
   "id": "48f33004",
   "metadata": {},
   "source": [
    "nombre_infected      1233\n",
    "nombre_sain          1777\n",
    "nombre_exposed        643\n",
    "nombre_recovered    16347\n",
    "Name: 157, dtype: int64"
   ]
  },
  {
   "cell_type": "markdown",
   "id": "b6cb586a",
   "metadata": {},
   "source": [
    "nombre_infected      1249\n",
    "nombre_sain          1723\n",
    "nombre_exposed        621\n",
    "nombre_recovered    16407\n",
    "Name: 158, dtype: int64"
   ]
  },
  {
   "cell_type": "markdown",
   "id": "3fb0203f",
   "metadata": {},
   "source": [
    "nombre_infected      1263\n",
    "nombre_sain          1694\n",
    "nombre_exposed        586\n",
    "nombre_recovered    16457\n",
    "Name: 159, dtype: int64"
   ]
  },
  {
   "cell_type": "markdown",
   "id": "c6ccea4e",
   "metadata": {},
   "source": [
    "nombre_infected      1240\n",
    "nombre_sain          1633\n",
    "nombre_exposed        575\n",
    "nombre_recovered    16552\n",
    "Name: 160, dtype: int64"
   ]
  },
  {
   "cell_type": "markdown",
   "id": "1b69b625",
   "metadata": {},
   "source": [
    "nombre_infected      1237\n",
    "nombre_sain          1566\n",
    "nombre_exposed        591\n",
    "nombre_recovered    16606\n",
    "Name: 161, dtype: int64"
   ]
  },
  {
   "cell_type": "markdown",
   "id": "59cd1d83",
   "metadata": {},
   "source": [
    "nombre_infected      1208\n",
    "nombre_sain          1484\n",
    "nombre_exposed        612\n",
    "nombre_recovered    16696\n",
    "Name: 162, dtype: int64"
   ]
  },
  {
   "cell_type": "markdown",
   "id": "984d3ead",
   "metadata": {},
   "source": [
    "nombre_infected      1204\n",
    "nombre_sain          1415\n",
    "nombre_exposed        608\n",
    "nombre_recovered    16773\n",
    "Name: 163, dtype: int64"
   ]
  },
  {
   "cell_type": "markdown",
   "id": "38a1ab61",
   "metadata": {},
   "source": [
    "nombre_infected      1214\n",
    "nombre_sain          1380\n",
    "nombre_exposed        576\n",
    "nombre_recovered    16830\n",
    "Name: 164, dtype: int64"
   ]
  },
  {
   "cell_type": "markdown",
   "id": "52757d18",
   "metadata": {},
   "source": [
    "nombre_infected      1211\n",
    "nombre_sain          1373\n",
    "nombre_exposed        538\n",
    "nombre_recovered    16878\n",
    "Name: 165, dtype: int64"
   ]
  },
  {
   "cell_type": "markdown",
   "id": "2ce2598f",
   "metadata": {},
   "source": [
    "nombre_infected      1203\n",
    "nombre_sain          1349\n",
    "nombre_exposed        503\n",
    "nombre_recovered    16945\n",
    "Name: 166, dtype: int64"
   ]
  },
  {
   "cell_type": "markdown",
   "id": "37c59248",
   "metadata": {},
   "source": [
    "nombre_infected      1187\n",
    "nombre_sain          1326\n",
    "nombre_exposed        491\n",
    "nombre_recovered    16996\n",
    "Name: 167, dtype: int64"
   ]
  },
  {
   "cell_type": "markdown",
   "id": "0f6c687e",
   "metadata": {},
   "source": [
    "nombre_infected      1164\n",
    "nombre_sain          1307\n",
    "nombre_exposed        464\n",
    "nombre_recovered    17065\n",
    "Name: 168, dtype: int64"
   ]
  },
  {
   "cell_type": "markdown",
   "id": "f5c6e83d",
   "metadata": {},
   "source": [
    "nombre_infected      1159\n",
    "nombre_sain          1324\n",
    "nombre_exposed        439\n",
    "nombre_recovered    17078\n",
    "Name: 169, dtype: int64"
   ]
  },
  {
   "cell_type": "markdown",
   "id": "96ca302c",
   "metadata": {},
   "source": [
    "nombre_infected      1115\n",
    "nombre_sain          1300\n",
    "nombre_exposed        446\n",
    "nombre_recovered    17139\n",
    "Name: 170, dtype: int64"
   ]
  },
  {
   "cell_type": "markdown",
   "id": "3c9e4975",
   "metadata": {},
   "source": [
    "nombre_infected      1097\n",
    "nombre_sain          1301\n",
    "nombre_exposed        414\n",
    "nombre_recovered    17188\n",
    "Name: 171, dtype: int64"
   ]
  },
  {
   "cell_type": "markdown",
   "id": "26ca5943",
   "metadata": {},
   "source": [
    "nombre_infected      1051\n",
    "nombre_sain          1312\n",
    "nombre_exposed        398\n",
    "nombre_recovered    17239\n",
    "Name: 172, dtype: int64"
   ]
  },
  {
   "cell_type": "markdown",
   "id": "dd455624",
   "metadata": {},
   "source": [
    "nombre_infected      1047\n",
    "nombre_sain          1301\n",
    "nombre_exposed        374\n",
    "nombre_recovered    17278\n",
    "Name: 173, dtype: int64"
   ]
  },
  {
   "cell_type": "markdown",
   "id": "298f60ef",
   "metadata": {},
   "source": [
    "nombre_infected      1012\n",
    "nombre_sain          1324\n",
    "nombre_exposed        362\n",
    "nombre_recovered    17302\n",
    "Name: 174, dtype: int64"
   ]
  },
  {
   "cell_type": "markdown",
   "id": "c237134a",
   "metadata": {},
   "source": [
    "nombre_infected       982\n",
    "nombre_sain          1317\n",
    "nombre_exposed        360\n",
    "nombre_recovered    17341\n",
    "Name: 175, dtype: int64"
   ]
  },
  {
   "cell_type": "markdown",
   "id": "f8a7daa8",
   "metadata": {},
   "source": [
    "nombre_infected       937\n",
    "nombre_sain          1335\n",
    "nombre_exposed        385\n",
    "nombre_recovered    17343\n",
    "Name: 176, dtype: int64"
   ]
  },
  {
   "cell_type": "markdown",
   "id": "842c39da",
   "metadata": {},
   "source": [
    "nombre_infected       893\n",
    "nombre_sain          1380\n",
    "nombre_exposed        378\n",
    "nombre_recovered    17349\n",
    "Name: 177, dtype: int64"
   ]
  },
  {
   "cell_type": "markdown",
   "id": "e3751861",
   "metadata": {},
   "source": [
    "nombre_infected       876\n",
    "nombre_sain          1407\n",
    "nombre_exposed        359\n",
    "nombre_recovered    17358\n",
    "Name: 178, dtype: int64"
   ]
  },
  {
   "cell_type": "markdown",
   "id": "fea0f923",
   "metadata": {},
   "source": [
    "nombre_infected       853\n",
    "nombre_sain          1442\n",
    "nombre_exposed        352\n",
    "nombre_recovered    17353\n",
    "Name: 179, dtype: int64"
   ]
  },
  {
   "cell_type": "markdown",
   "id": "becdc3fe",
   "metadata": {},
   "source": [
    "nombre_infected       844\n",
    "nombre_sain          1478\n",
    "nombre_exposed        347\n",
    "nombre_recovered    17331\n",
    "Name: 180, dtype: int64"
   ]
  },
  {
   "cell_type": "markdown",
   "id": "10d5f552",
   "metadata": {},
   "source": [
    "nombre_infected       814\n",
    "nombre_sain          1516\n",
    "nombre_exposed        340\n",
    "nombre_recovered    17330\n",
    "Name: 181, dtype: int64"
   ]
  },
  {
   "cell_type": "markdown",
   "id": "d107eedf",
   "metadata": {},
   "source": [
    "nombre_infected       802\n",
    "nombre_sain          1536\n",
    "nombre_exposed        330\n",
    "nombre_recovered    17332\n",
    "Name: 182, dtype: int64"
   ]
  },
  {
   "cell_type": "markdown",
   "id": "7e5b5cd4",
   "metadata": {},
   "source": [
    "nombre_infected       772\n",
    "nombre_sain          1565\n",
    "nombre_exposed        328\n",
    "nombre_recovered    17335\n",
    "Name: 183, dtype: int64"
   ]
  },
  {
   "cell_type": "markdown",
   "id": "1ee4b77f",
   "metadata": {},
   "source": [
    "nombre_infected       740\n",
    "nombre_sain          1576\n",
    "nombre_exposed        324\n",
    "nombre_recovered    17360\n",
    "Name: 184, dtype: int64"
   ]
  },
  {
   "cell_type": "markdown",
   "id": "860b44a9",
   "metadata": {},
   "source": [
    "nombre_infected       729\n",
    "nombre_sain          1601\n",
    "nombre_exposed        327\n",
    "nombre_recovered    17343\n",
    "Name: 185, dtype: int64"
   ]
  },
  {
   "cell_type": "markdown",
   "id": "7272f4cc",
   "metadata": {},
   "source": [
    "nombre_infected       738\n",
    "nombre_sain          1628\n",
    "nombre_exposed        325\n",
    "nombre_recovered    17309\n",
    "Name: 186, dtype: int64"
   ]
  },
  {
   "cell_type": "markdown",
   "id": "e3085bec",
   "metadata": {},
   "source": [
    "nombre_infected       726\n",
    "nombre_sain          1643\n",
    "nombre_exposed        324\n",
    "nombre_recovered    17307\n",
    "Name: 187, dtype: int64"
   ]
  },
  {
   "cell_type": "markdown",
   "id": "6a58ba75",
   "metadata": {},
   "source": [
    "nombre_infected       723\n",
    "nombre_sain          1649\n",
    "nombre_exposed        322\n",
    "nombre_recovered    17306\n",
    "Name: 188, dtype: int64"
   ]
  },
  {
   "cell_type": "markdown",
   "id": "e0950e21",
   "metadata": {},
   "source": [
    "nombre_infected       708\n",
    "nombre_sain          1642\n",
    "nombre_exposed        341\n",
    "nombre_recovered    17309\n",
    "Name: 189, dtype: int64"
   ]
  },
  {
   "cell_type": "markdown",
   "id": "a5a1cc31",
   "metadata": {},
   "source": [
    "nombre_infected       695\n",
    "nombre_sain          1644\n",
    "nombre_exposed        329\n",
    "nombre_recovered    17332\n",
    "Name: 190, dtype: int64"
   ]
  },
  {
   "cell_type": "markdown",
   "id": "9194c4a8",
   "metadata": {},
   "source": [
    "nombre_infected       685\n",
    "nombre_sain          1637\n",
    "nombre_exposed        328\n",
    "nombre_recovered    17350\n",
    "Name: 191, dtype: int64"
   ]
  },
  {
   "cell_type": "markdown",
   "id": "b0c7cb1b",
   "metadata": {},
   "source": [
    "nombre_infected       691\n",
    "nombre_sain          1637\n",
    "nombre_exposed        317\n",
    "nombre_recovered    17355\n",
    "Name: 192, dtype: int64"
   ]
  },
  {
   "cell_type": "markdown",
   "id": "bdbc0189",
   "metadata": {},
   "source": [
    "nombre_infected       682\n",
    "nombre_sain          1647\n",
    "nombre_exposed        318\n",
    "nombre_recovered    17353\n",
    "Name: 193, dtype: int64"
   ]
  },
  {
   "cell_type": "markdown",
   "id": "aff57da4",
   "metadata": {},
   "source": [
    "nombre_infected       678\n",
    "nombre_sain          1643\n",
    "nombre_exposed        302\n",
    "nombre_recovered    17377\n",
    "Name: 194, dtype: int64"
   ]
  },
  {
   "cell_type": "markdown",
   "id": "3bfbb6be",
   "metadata": {},
   "source": [
    "nombre_infected       674\n",
    "nombre_sain          1638\n",
    "nombre_exposed        303\n",
    "nombre_recovered    17385\n",
    "Name: 195, dtype: int64"
   ]
  },
  {
   "cell_type": "markdown",
   "id": "061cc51b",
   "metadata": {},
   "source": [
    "nombre_infected       647\n",
    "nombre_sain          1632\n",
    "nombre_exposed        313\n",
    "nombre_recovered    17408\n",
    "Name: 196, dtype: int64"
   ]
  },
  {
   "cell_type": "markdown",
   "id": "0f853380",
   "metadata": {},
   "source": [
    "nombre_infected       647\n",
    "nombre_sain          1639\n",
    "nombre_exposed        309\n",
    "nombre_recovered    17405\n",
    "Name: 197, dtype: int64"
   ]
  },
  {
   "cell_type": "markdown",
   "id": "f890c599",
   "metadata": {},
   "source": [
    "nombre_infected       633\n",
    "nombre_sain          1658\n",
    "nombre_exposed        304\n",
    "nombre_recovered    17405\n",
    "Name: 198, dtype: int64"
   ]
  },
  {
   "cell_type": "markdown",
   "id": "d1210895",
   "metadata": {},
   "source": [
    "nombre_infected       655\n",
    "nombre_sain          1668\n",
    "nombre_exposed        285\n",
    "nombre_recovered    17392\n",
    "Name: 199, dtype: int64"
   ]
  },
  {
   "cell_type": "markdown",
   "id": "cdc4a70a",
   "metadata": {},
   "source": [
    "nombre_infected       661\n",
    "nombre_sain          1684\n",
    "nombre_exposed        270\n",
    "nombre_recovered    17385\n",
    "Name: 200, dtype: int64"
   ]
  },
  {
   "cell_type": "markdown",
   "id": "b04c0b0c",
   "metadata": {},
   "source": [
    "nombre_infected       635\n",
    "nombre_sain          1713\n",
    "nombre_exposed        275\n",
    "nombre_recovered    17377\n",
    "Name: 201, dtype: int64"
   ]
  },
  {
   "cell_type": "markdown",
   "id": "cd36f0c3",
   "metadata": {},
   "source": [
    "nombre_infected       610\n",
    "nombre_sain          1722\n",
    "nombre_exposed        281\n",
    "nombre_recovered    17387\n",
    "Name: 202, dtype: int64"
   ]
  },
  {
   "cell_type": "markdown",
   "id": "7048292a",
   "metadata": {},
   "source": [
    "nombre_infected       594\n",
    "nombre_sain          1726\n",
    "nombre_exposed        285\n",
    "nombre_recovered    17395\n",
    "Name: 203, dtype: int64"
   ]
  },
  {
   "cell_type": "markdown",
   "id": "ca22c071",
   "metadata": {},
   "source": [
    "nombre_infected       582\n",
    "nombre_sain          1747\n",
    "nombre_exposed        288\n",
    "nombre_recovered    17383\n",
    "Name: 204, dtype: int64"
   ]
  },
  {
   "cell_type": "markdown",
   "id": "3f989902",
   "metadata": {},
   "source": [
    "nombre_infected       569\n",
    "nombre_sain          1761\n",
    "nombre_exposed        298\n",
    "nombre_recovered    17372\n",
    "Name: 205, dtype: int64"
   ]
  },
  {
   "cell_type": "markdown",
   "id": "3f868f17",
   "metadata": {},
   "source": [
    "nombre_infected       587\n",
    "nombre_sain          1769\n",
    "nombre_exposed        285\n",
    "nombre_recovered    17359\n",
    "Name: 206, dtype: int64"
   ]
  },
  {
   "cell_type": "markdown",
   "id": "5b0b70d1",
   "metadata": {},
   "source": [
    "nombre_infected       591\n",
    "nombre_sain          1791\n",
    "nombre_exposed        273\n",
    "nombre_recovered    17345\n",
    "Name: 207, dtype: int64"
   ]
  },
  {
   "cell_type": "markdown",
   "id": "23dfb5b7",
   "metadata": {},
   "source": [
    "nombre_infected       582\n",
    "nombre_sain          1789\n",
    "nombre_exposed        281\n",
    "nombre_recovered    17348\n",
    "Name: 208, dtype: int64"
   ]
  },
  {
   "cell_type": "markdown",
   "id": "4eae4006",
   "metadata": {},
   "source": [
    "nombre_infected       572\n",
    "nombre_sain          1819\n",
    "nombre_exposed        292\n",
    "nombre_recovered    17317\n",
    "Name: 209, dtype: int64"
   ]
  },
  {
   "cell_type": "markdown",
   "id": "53e1b525",
   "metadata": {},
   "source": [
    "nombre_infected       578\n",
    "nombre_sain          1843\n",
    "nombre_exposed        279\n",
    "nombre_recovered    17300\n",
    "Name: 210, dtype: int64"
   ]
  },
  {
   "cell_type": "markdown",
   "id": "b4aa0af6",
   "metadata": {},
   "source": [
    "nombre_infected       584\n",
    "nombre_sain          1839\n",
    "nombre_exposed        275\n",
    "nombre_recovered    17302\n",
    "Name: 211, dtype: int64"
   ]
  },
  {
   "cell_type": "markdown",
   "id": "e4fccfd2",
   "metadata": {},
   "source": [
    "nombre_infected       562\n",
    "nombre_sain          1856\n",
    "nombre_exposed        281\n",
    "nombre_recovered    17301\n",
    "Name: 212, dtype: int64"
   ]
  },
  {
   "cell_type": "markdown",
   "id": "4dc285ed",
   "metadata": {},
   "source": [
    "nombre_infected       561\n",
    "nombre_sain          1856\n",
    "nombre_exposed        296\n",
    "nombre_recovered    17287\n",
    "Name: 213, dtype: int64"
   ]
  },
  {
   "cell_type": "markdown",
   "id": "8058309c",
   "metadata": {},
   "source": [
    "nombre_infected       550\n",
    "nombre_sain          1880\n",
    "nombre_exposed        304\n",
    "nombre_recovered    17266\n",
    "Name: 214, dtype: int64"
   ]
  },
  {
   "cell_type": "markdown",
   "id": "fd269e69",
   "metadata": {},
   "source": [
    "nombre_infected       558\n",
    "nombre_sain          1901\n",
    "nombre_exposed        299\n",
    "nombre_recovered    17242\n",
    "Name: 215, dtype: int64"
   ]
  },
  {
   "cell_type": "markdown",
   "id": "2ab997c1",
   "metadata": {},
   "source": [
    "nombre_infected       574\n",
    "nombre_sain          1901\n",
    "nombre_exposed        282\n",
    "nombre_recovered    17243\n",
    "Name: 216, dtype: int64"
   ]
  },
  {
   "cell_type": "markdown",
   "id": "2f0df904",
   "metadata": {},
   "source": [
    "nombre_infected       586\n",
    "nombre_sain          1918\n",
    "nombre_exposed        281\n",
    "nombre_recovered    17215\n",
    "Name: 217, dtype: int64"
   ]
  },
  {
   "cell_type": "markdown",
   "id": "bea7cc93",
   "metadata": {},
   "source": [
    "nombre_infected       588\n",
    "nombre_sain          1931\n",
    "nombre_exposed        284\n",
    "nombre_recovered    17197\n",
    "Name: 218, dtype: int64"
   ]
  },
  {
   "cell_type": "markdown",
   "id": "1c76c151",
   "metadata": {},
   "source": [
    "nombre_infected       585\n",
    "nombre_sain          1946\n",
    "nombre_exposed        283\n",
    "nombre_recovered    17186\n",
    "Name: 219, dtype: int64"
   ]
  },
  {
   "cell_type": "markdown",
   "id": "e60ea58e",
   "metadata": {},
   "source": [
    "nombre_infected       590\n",
    "nombre_sain          1957\n",
    "nombre_exposed        282\n",
    "nombre_recovered    17171\n",
    "Name: 220, dtype: int64"
   ]
  },
  {
   "cell_type": "markdown",
   "id": "44a437f9",
   "metadata": {},
   "source": [
    "nombre_infected       586\n",
    "nombre_sain          1967\n",
    "nombre_exposed        283\n",
    "nombre_recovered    17164\n",
    "Name: 221, dtype: int64"
   ]
  },
  {
   "cell_type": "markdown",
   "id": "fb095601",
   "metadata": {},
   "source": [
    "nombre_infected       577\n",
    "nombre_sain          1983\n",
    "nombre_exposed        285\n",
    "nombre_recovered    17155\n",
    "Name: 222, dtype: int64"
   ]
  },
  {
   "cell_type": "markdown",
   "id": "b70244fe",
   "metadata": {},
   "source": [
    "nombre_infected       587\n",
    "nombre_sain          1985\n",
    "nombre_exposed        292\n",
    "nombre_recovered    17136\n",
    "Name: 223, dtype: int64"
   ]
  },
  {
   "cell_type": "markdown",
   "id": "72b0d8b1",
   "metadata": {},
   "source": [
    "nombre_infected       583\n",
    "nombre_sain          1985\n",
    "nombre_exposed        301\n",
    "nombre_recovered    17131\n",
    "Name: 224, dtype: int64"
   ]
  },
  {
   "cell_type": "markdown",
   "id": "3b9a7f0e",
   "metadata": {},
   "source": [
    "nombre_infected       581\n",
    "nombre_sain          1981\n",
    "nombre_exposed        322\n",
    "nombre_recovered    17116\n",
    "Name: 225, dtype: int64"
   ]
  },
  {
   "cell_type": "markdown",
   "id": "d88229f5",
   "metadata": {},
   "source": [
    "nombre_infected       587\n",
    "nombre_sain          1986\n",
    "nombre_exposed        338\n",
    "nombre_recovered    17089\n",
    "Name: 226, dtype: int64"
   ]
  },
  {
   "cell_type": "markdown",
   "id": "b0ddb0b5",
   "metadata": {},
   "source": [
    "nombre_infected       600\n",
    "nombre_sain          2022\n",
    "nombre_exposed        336\n",
    "nombre_recovered    17042\n",
    "Name: 227, dtype: int64"
   ]
  },
  {
   "cell_type": "markdown",
   "id": "11a92dc2",
   "metadata": {},
   "source": [
    "nombre_infected       619\n",
    "nombre_sain          2057\n",
    "nombre_exposed        315\n",
    "nombre_recovered    17009\n",
    "Name: 228, dtype: int64"
   ]
  },
  {
   "cell_type": "markdown",
   "id": "d6a27c80",
   "metadata": {},
   "source": [
    "nombre_infected       618\n",
    "nombre_sain          2099\n",
    "nombre_exposed        310\n",
    "nombre_recovered    16973\n",
    "Name: 229, dtype: int64"
   ]
  },
  {
   "cell_type": "markdown",
   "id": "dfdfeb11",
   "metadata": {},
   "source": [
    "nombre_infected       618\n",
    "nombre_sain          2124\n",
    "nombre_exposed        323\n",
    "nombre_recovered    16935\n",
    "Name: 230, dtype: int64"
   ]
  },
  {
   "cell_type": "markdown",
   "id": "bade1c70",
   "metadata": {},
   "source": [
    "nombre_infected       630\n",
    "nombre_sain          2142\n",
    "nombre_exposed        347\n",
    "nombre_recovered    16881\n",
    "Name: 231, dtype: int64"
   ]
  },
  {
   "cell_type": "markdown",
   "id": "aeba7d13",
   "metadata": {},
   "source": [
    "nombre_infected       626\n",
    "nombre_sain          2185\n",
    "nombre_exposed        355\n",
    "nombre_recovered    16834\n",
    "Name: 232, dtype: int64"
   ]
  },
  {
   "cell_type": "markdown",
   "id": "b12b6b87",
   "metadata": {},
   "source": [
    "nombre_infected       638\n",
    "nombre_sain          2212\n",
    "nombre_exposed        365\n",
    "nombre_recovered    16785\n",
    "Name: 233, dtype: int64"
   ]
  },
  {
   "cell_type": "markdown",
   "id": "5cfc6c7f",
   "metadata": {},
   "source": [
    "nombre_infected       649\n",
    "nombre_sain          2226\n",
    "nombre_exposed        361\n",
    "nombre_recovered    16764\n",
    "Name: 234, dtype: int64"
   ]
  },
  {
   "cell_type": "markdown",
   "id": "52ff9294",
   "metadata": {},
   "source": [
    "nombre_infected       668\n",
    "nombre_sain          2235\n",
    "nombre_exposed        356\n",
    "nombre_recovered    16741\n",
    "Name: 235, dtype: int64"
   ]
  },
  {
   "cell_type": "markdown",
   "id": "d8808b5e",
   "metadata": {},
   "source": [
    "nombre_infected       696\n",
    "nombre_sain          2255\n",
    "nombre_exposed        342\n",
    "nombre_recovered    16707\n",
    "Name: 236, dtype: int64"
   ]
  },
  {
   "cell_type": "markdown",
   "id": "5fcafc74",
   "metadata": {},
   "source": [
    "nombre_infected       681\n",
    "nombre_sain          2252\n",
    "nombre_exposed        374\n",
    "nombre_recovered    16693\n",
    "Name: 237, dtype: int64"
   ]
  },
  {
   "cell_type": "markdown",
   "id": "29bebd9a",
   "metadata": {},
   "source": [
    "nombre_infected       680\n",
    "nombre_sain          2272\n",
    "nombre_exposed        378\n",
    "nombre_recovered    16670\n",
    "Name: 238, dtype: int64"
   ]
  },
  {
   "cell_type": "markdown",
   "id": "e9a90e9e",
   "metadata": {},
   "source": [
    "nombre_infected       705\n",
    "nombre_sain          2307\n",
    "nombre_exposed        374\n",
    "nombre_recovered    16614\n",
    "Name: 239, dtype: int64"
   ]
  },
  {
   "cell_type": "markdown",
   "id": "811878aa",
   "metadata": {},
   "source": [
    "nombre_infected       727\n",
    "nombre_sain          2336\n",
    "nombre_exposed        370\n",
    "nombre_recovered    16567\n",
    "Name: 240, dtype: int64"
   ]
  },
  {
   "cell_type": "markdown",
   "id": "32e9dda4",
   "metadata": {},
   "source": [
    "nombre_infected       699\n",
    "nombre_sain          2363\n",
    "nombre_exposed        389\n",
    "nombre_recovered    16549\n",
    "Name: 241, dtype: int64"
   ]
  },
  {
   "cell_type": "markdown",
   "id": "dfc3bffd",
   "metadata": {},
   "source": [
    "nombre_infected       713\n",
    "nombre_sain          2361\n",
    "nombre_exposed        396\n",
    "nombre_recovered    16530\n",
    "Name: 242, dtype: int64"
   ]
  },
  {
   "cell_type": "markdown",
   "id": "41b20bff",
   "metadata": {},
   "source": [
    "nombre_infected       721\n",
    "nombre_sain          2382\n",
    "nombre_exposed        406\n",
    "nombre_recovered    16491\n",
    "Name: 243, dtype: int64"
   ]
  },
  {
   "cell_type": "markdown",
   "id": "0afc440d",
   "metadata": {},
   "source": [
    "nombre_infected       725\n",
    "nombre_sain          2394\n",
    "nombre_exposed        424\n",
    "nombre_recovered    16457\n",
    "Name: 244, dtype: int64"
   ]
  },
  {
   "cell_type": "markdown",
   "id": "c18d6f10",
   "metadata": {},
   "source": [
    "nombre_infected       742\n",
    "nombre_sain          2429\n",
    "nombre_exposed        421\n",
    "nombre_recovered    16408\n",
    "Name: 245, dtype: int64"
   ]
  },
  {
   "cell_type": "markdown",
   "id": "f7241a89",
   "metadata": {},
   "source": [
    "nombre_infected       752\n",
    "nombre_sain          2432\n",
    "nombre_exposed        437\n",
    "nombre_recovered    16379\n",
    "Name: 246, dtype: int64"
   ]
  },
  {
   "cell_type": "markdown",
   "id": "f1cd2219",
   "metadata": {},
   "source": [
    "nombre_infected       773\n",
    "nombre_sain          2454\n",
    "nombre_exposed        447\n",
    "nombre_recovered    16326\n",
    "Name: 247, dtype: int64"
   ]
  },
  {
   "cell_type": "markdown",
   "id": "bdc789b0",
   "metadata": {},
   "source": [
    "nombre_infected       788\n",
    "nombre_sain          2458\n",
    "nombre_exposed        454\n",
    "nombre_recovered    16300\n",
    "Name: 248, dtype: int64"
   ]
  },
  {
   "cell_type": "markdown",
   "id": "85af63a6",
   "metadata": {},
   "source": [
    "nombre_infected       806\n",
    "nombre_sain          2497\n",
    "nombre_exposed        468\n",
    "nombre_recovered    16229\n",
    "Name: 249, dtype: int64"
   ]
  },
  {
   "cell_type": "markdown",
   "id": "59f8500e",
   "metadata": {},
   "source": [
    "nombre_infected       828\n",
    "nombre_sain          2484\n",
    "nombre_exposed        508\n",
    "nombre_recovered    16180\n",
    "Name: 250, dtype: int64"
   ]
  },
  {
   "cell_type": "markdown",
   "id": "2234b8fa",
   "metadata": {},
   "source": [
    "nombre_infected       868\n",
    "nombre_sain          2502\n",
    "nombre_exposed        505\n",
    "nombre_recovered    16125\n",
    "Name: 251, dtype: int64"
   ]
  },
  {
   "cell_type": "markdown",
   "id": "8f26fb4a",
   "metadata": {},
   "source": [
    "nombre_infected       881\n",
    "nombre_sain          2488\n",
    "nombre_exposed        522\n",
    "nombre_recovered    16109\n",
    "Name: 252, dtype: int64"
   ]
  },
  {
   "cell_type": "markdown",
   "id": "2514a2c7",
   "metadata": {},
   "source": [
    "nombre_infected       919\n",
    "nombre_sain          2512\n",
    "nombre_exposed        526\n",
    "nombre_recovered    16043\n",
    "Name: 253, dtype: int64"
   ]
  },
  {
   "cell_type": "markdown",
   "id": "99efecfd",
   "metadata": {},
   "source": [
    "nombre_infected       956\n",
    "nombre_sain          2529\n",
    "nombre_exposed        531\n",
    "nombre_recovered    15984\n",
    "Name: 254, dtype: int64"
   ]
  },
  {
   "cell_type": "markdown",
   "id": "338c435c",
   "metadata": {},
   "source": [
    "nombre_infected       958\n",
    "nombre_sain          2521\n",
    "nombre_exposed        574\n",
    "nombre_recovered    15947\n",
    "Name: 255, dtype: int64"
   ]
  },
  {
   "cell_type": "markdown",
   "id": "3a3f66b5",
   "metadata": {},
   "source": [
    "nombre_infected       999\n",
    "nombre_sain          2497\n",
    "nombre_exposed        597\n",
    "nombre_recovered    15907\n",
    "Name: 256, dtype: int64"
   ]
  },
  {
   "cell_type": "markdown",
   "id": "db763a4e",
   "metadata": {},
   "source": [
    "nombre_infected      1028\n",
    "nombre_sain          2483\n",
    "nombre_exposed        629\n",
    "nombre_recovered    15860\n",
    "Name: 257, dtype: int64"
   ]
  },
  {
   "cell_type": "markdown",
   "id": "d0f4e4b8",
   "metadata": {},
   "source": [
    "nombre_infected      1072\n",
    "nombre_sain          2460\n",
    "nombre_exposed        641\n",
    "nombre_recovered    15827\n",
    "Name: 258, dtype: int64"
   ]
  },
  {
   "cell_type": "markdown",
   "id": "82f7f678",
   "metadata": {},
   "source": [
    "nombre_infected      1109\n",
    "nombre_sain          2428\n",
    "nombre_exposed        643\n",
    "nombre_recovered    15820\n",
    "Name: 259, dtype: int64"
   ]
  },
  {
   "cell_type": "markdown",
   "id": "e7cc5a65",
   "metadata": {},
   "source": [
    "nombre_infected      1123\n",
    "nombre_sain          2407\n",
    "nombre_exposed        641\n",
    "nombre_recovered    15829\n",
    "Name: 260, dtype: int64"
   ]
  },
  {
   "cell_type": "markdown",
   "id": "07bb3391",
   "metadata": {},
   "source": [
    "nombre_infected      1146\n",
    "nombre_sain          2362\n",
    "nombre_exposed        643\n",
    "nombre_recovered    15849\n",
    "Name: 261, dtype: int64"
   ]
  },
  {
   "cell_type": "markdown",
   "id": "fabb27ec",
   "metadata": {},
   "source": [
    "nombre_infected      1164\n",
    "nombre_sain          2319\n",
    "nombre_exposed        675\n",
    "nombre_recovered    15842\n",
    "Name: 262, dtype: int64"
   ]
  },
  {
   "cell_type": "markdown",
   "id": "d9ca3e55",
   "metadata": {},
   "source": [
    "nombre_infected      1214\n",
    "nombre_sain          2284\n",
    "nombre_exposed        656\n",
    "nombre_recovered    15846\n",
    "Name: 263, dtype: int64"
   ]
  },
  {
   "cell_type": "markdown",
   "id": "3604d4a3",
   "metadata": {},
   "source": [
    "nombre_infected      1238\n",
    "nombre_sain          2233\n",
    "nombre_exposed        671\n",
    "nombre_recovered    15858\n",
    "Name: 264, dtype: int64"
   ]
  },
  {
   "cell_type": "markdown",
   "id": "6946712e",
   "metadata": {},
   "source": [
    "nombre_infected      1279\n",
    "nombre_sain          2166\n",
    "nombre_exposed        675\n",
    "nombre_recovered    15880\n",
    "Name: 265, dtype: int64"
   ]
  },
  {
   "cell_type": "markdown",
   "id": "dc65d45c",
   "metadata": {},
   "source": [
    "nombre_infected      1304\n",
    "nombre_sain          2110\n",
    "nombre_exposed        681\n",
    "nombre_recovered    15905\n",
    "Name: 266, dtype: int64"
   ]
  },
  {
   "cell_type": "markdown",
   "id": "5de6f94d",
   "metadata": {},
   "source": [
    "nombre_infected      1300\n",
    "nombre_sain          2043\n",
    "nombre_exposed        720\n",
    "nombre_recovered    15937\n",
    "Name: 267, dtype: int64"
   ]
  },
  {
   "cell_type": "markdown",
   "id": "f74d58a0",
   "metadata": {},
   "source": [
    "nombre_infected      1322\n",
    "nombre_sain          1991\n",
    "nombre_exposed        710\n",
    "nombre_recovered    15977\n",
    "Name: 268, dtype: int64"
   ]
  },
  {
   "cell_type": "markdown",
   "id": "14859fdd",
   "metadata": {},
   "source": [
    "nombre_infected      1366\n",
    "nombre_sain          1941\n",
    "nombre_exposed        691\n",
    "nombre_recovered    16002\n",
    "Name: 269, dtype: int64"
   ]
  },
  {
   "cell_type": "markdown",
   "id": "822d653b",
   "metadata": {},
   "source": [
    "nombre_infected      1412\n",
    "nombre_sain          1896\n",
    "nombre_exposed        662\n",
    "nombre_recovered    16030\n",
    "Name: 270, dtype: int64"
   ]
  },
  {
   "cell_type": "markdown",
   "id": "df2a805e",
   "metadata": {},
   "source": [
    "nombre_infected      1425\n",
    "nombre_sain          1838\n",
    "nombre_exposed        680\n",
    "nombre_recovered    16057\n",
    "Name: 271, dtype: int64"
   ]
  },
  {
   "cell_type": "markdown",
   "id": "58149a25",
   "metadata": {},
   "source": [
    "nombre_infected      1389\n",
    "nombre_sain          1797\n",
    "nombre_exposed        669\n",
    "nombre_recovered    16145\n",
    "Name: 272, dtype: int64"
   ]
  },
  {
   "cell_type": "markdown",
   "id": "a691cc78",
   "metadata": {},
   "source": [
    "nombre_infected      1388\n",
    "nombre_sain          1765\n",
    "nombre_exposed        671\n",
    "nombre_recovered    16176\n",
    "Name: 273, dtype: int64"
   ]
  },
  {
   "cell_type": "markdown",
   "id": "2ab8bd43",
   "metadata": {},
   "source": [
    "nombre_infected      1363\n",
    "nombre_sain          1751\n",
    "nombre_exposed        657\n",
    "nombre_recovered    16229\n",
    "Name: 274, dtype: int64"
   ]
  },
  {
   "cell_type": "markdown",
   "id": "443d2ce9",
   "metadata": {},
   "source": [
    "nombre_infected      1382\n",
    "nombre_sain          1749\n",
    "nombre_exposed        607\n",
    "nombre_recovered    16262\n",
    "Name: 275, dtype: int64"
   ]
  },
  {
   "cell_type": "markdown",
   "id": "73f6a3d2",
   "metadata": {},
   "source": [
    "nombre_infected      1407\n",
    "nombre_sain          1729\n",
    "nombre_exposed        607\n",
    "nombre_recovered    16257\n",
    "Name: 276, dtype: int64"
   ]
  },
  {
   "cell_type": "markdown",
   "id": "a77f22ec",
   "metadata": {},
   "source": [
    "nombre_infected      1397\n",
    "nombre_sain          1714\n",
    "nombre_exposed        621\n",
    "nombre_recovered    16268\n",
    "Name: 277, dtype: int64"
   ]
  },
  {
   "cell_type": "markdown",
   "id": "fd2ea1ba",
   "metadata": {},
   "source": [
    "nombre_infected      1404\n",
    "nombre_sain          1680\n",
    "nombre_exposed        611\n",
    "nombre_recovered    16305\n",
    "Name: 278, dtype: int64"
   ]
  },
  {
   "cell_type": "markdown",
   "id": "eb8dc002",
   "metadata": {},
   "source": [
    "nombre_infected      1382\n",
    "nombre_sain          1654\n",
    "nombre_exposed        621\n",
    "nombre_recovered    16343\n",
    "Name: 279, dtype: int64"
   ]
  },
  {
   "cell_type": "markdown",
   "id": "c9a304d4",
   "metadata": {},
   "source": [
    "nombre_infected      1422\n",
    "nombre_sain          1624\n",
    "nombre_exposed        602\n",
    "nombre_recovered    16352\n",
    "Name: 280, dtype: int64"
   ]
  },
  {
   "cell_type": "markdown",
   "id": "97bfe079",
   "metadata": {},
   "source": [
    "nombre_infected      1385\n",
    "nombre_sain          1574\n",
    "nombre_exposed        627\n",
    "nombre_recovered    16414\n",
    "Name: 281, dtype: int64"
   ]
  },
  {
   "cell_type": "markdown",
   "id": "c6e3a675",
   "metadata": {},
   "source": [
    "nombre_infected      1370\n",
    "nombre_sain          1546\n",
    "nombre_exposed        613\n",
    "nombre_recovered    16471\n",
    "Name: 282, dtype: int64"
   ]
  },
  {
   "cell_type": "markdown",
   "id": "1faf3faa",
   "metadata": {},
   "source": [
    "nombre_infected      1372\n",
    "nombre_sain          1561\n",
    "nombre_exposed        600\n",
    "nombre_recovered    16467\n",
    "Name: 283, dtype: int64"
   ]
  },
  {
   "cell_type": "markdown",
   "id": "5b9addf7",
   "metadata": {},
   "source": [
    "nombre_infected      1384\n",
    "nombre_sain          1558\n",
    "nombre_exposed        555\n",
    "nombre_recovered    16503\n",
    "Name: 284, dtype: int64"
   ]
  },
  {
   "cell_type": "markdown",
   "id": "d858b6a7",
   "metadata": {},
   "source": [
    "nombre_infected      1357\n",
    "nombre_sain          1542\n",
    "nombre_exposed        543\n",
    "nombre_recovered    16558\n",
    "Name: 285, dtype: int64"
   ]
  },
  {
   "cell_type": "markdown",
   "id": "1c6dcc50",
   "metadata": {},
   "source": [
    "nombre_infected      1344\n",
    "nombre_sain          1518\n",
    "nombre_exposed        525\n",
    "nombre_recovered    16613\n",
    "Name: 286, dtype: int64"
   ]
  },
  {
   "cell_type": "markdown",
   "id": "5068a073",
   "metadata": {},
   "source": [
    "nombre_infected      1339\n",
    "nombre_sain          1498\n",
    "nombre_exposed        521\n",
    "nombre_recovered    16642\n",
    "Name: 287, dtype: int64"
   ]
  },
  {
   "cell_type": "markdown",
   "id": "84e15b3c",
   "metadata": {},
   "source": [
    "nombre_infected      1295\n",
    "nombre_sain          1472\n",
    "nombre_exposed        528\n",
    "nombre_recovered    16705\n",
    "Name: 288, dtype: int64"
   ]
  },
  {
   "cell_type": "markdown",
   "id": "9f52d8ef",
   "metadata": {},
   "source": [
    "nombre_infected      1262\n",
    "nombre_sain          1471\n",
    "nombre_exposed        522\n",
    "nombre_recovered    16745\n",
    "Name: 289, dtype: int64"
   ]
  },
  {
   "cell_type": "markdown",
   "id": "4808bc69",
   "metadata": {},
   "source": [
    "nombre_infected      1244\n",
    "nombre_sain          1471\n",
    "nombre_exposed        499\n",
    "nombre_recovered    16786\n",
    "Name: 290, dtype: int64"
   ]
  },
  {
   "cell_type": "markdown",
   "id": "7a9d8774",
   "metadata": {},
   "source": [
    "nombre_infected      1251\n",
    "nombre_sain          1477\n",
    "nombre_exposed        463\n",
    "nombre_recovered    16809\n",
    "Name: 291, dtype: int64"
   ]
  },
  {
   "cell_type": "markdown",
   "id": "243916f1",
   "metadata": {},
   "source": [
    "nombre_infected      1223\n",
    "nombre_sain          1477\n",
    "nombre_exposed        468\n",
    "nombre_recovered    16832\n",
    "Name: 292, dtype: int64"
   ]
  },
  {
   "cell_type": "markdown",
   "id": "5d83a7f7",
   "metadata": {},
   "source": [
    "nombre_infected      1181\n",
    "nombre_sain          1480\n",
    "nombre_exposed        458\n",
    "nombre_recovered    16881\n",
    "Name: 293, dtype: int64"
   ]
  },
  {
   "cell_type": "markdown",
   "id": "644b8734",
   "metadata": {},
   "source": [
    "nombre_infected      1157\n",
    "nombre_sain          1454\n",
    "nombre_exposed        463\n",
    "nombre_recovered    16926\n",
    "Name: 294, dtype: int64"
   ]
  },
  {
   "cell_type": "markdown",
   "id": "bd41b598",
   "metadata": {},
   "source": [
    "nombre_infected      1124\n",
    "nombre_sain          1413\n",
    "nombre_exposed        479\n",
    "nombre_recovered    16984\n",
    "Name: 295, dtype: int64"
   ]
  },
  {
   "cell_type": "markdown",
   "id": "9054d6a6",
   "metadata": {},
   "source": [
    "nombre_infected      1090\n",
    "nombre_sain          1421\n",
    "nombre_exposed        469\n",
    "nombre_recovered    17020\n",
    "Name: 296, dtype: int64"
   ]
  },
  {
   "cell_type": "markdown",
   "id": "57a56b06",
   "metadata": {},
   "source": [
    "nombre_infected      1099\n",
    "nombre_sain          1436\n",
    "nombre_exposed        427\n",
    "nombre_recovered    17038\n",
    "Name: 297, dtype: int64"
   ]
  },
  {
   "cell_type": "markdown",
   "id": "704880ed",
   "metadata": {},
   "source": [
    "nombre_infected      1107\n",
    "nombre_sain          1448\n",
    "nombre_exposed        406\n",
    "nombre_recovered    17039\n",
    "Name: 298, dtype: int64"
   ]
  },
  {
   "cell_type": "markdown",
   "id": "85092758",
   "metadata": {},
   "source": [
    "nombre_infected      1069\n",
    "nombre_sain          1477\n",
    "nombre_exposed        409\n",
    "nombre_recovered    17045\n",
    "Name: 299, dtype: int64"
   ]
  },
  {
   "cell_type": "markdown",
   "id": "ef44bd73",
   "metadata": {},
   "source": [
    "nombre_infected      1043\n",
    "nombre_sain          1495\n",
    "nombre_exposed        407\n",
    "nombre_recovered    17055\n",
    "Name: 300, dtype: int64"
   ]
  },
  {
   "cell_type": "markdown",
   "id": "05867649",
   "metadata": {},
   "source": [
    "nombre_infected      1026\n",
    "nombre_sain          1506\n",
    "nombre_exposed        414\n",
    "nombre_recovered    17054\n",
    "Name: 301, dtype: int64"
   ]
  },
  {
   "cell_type": "markdown",
   "id": "1a4d6a93",
   "metadata": {},
   "source": [
    "nombre_infected       986\n",
    "nombre_sain          1511\n",
    "nombre_exposed        427\n",
    "nombre_recovered    17076\n",
    "Name: 302, dtype: int64"
   ]
  },
  {
   "cell_type": "markdown",
   "id": "4bee643f",
   "metadata": {},
   "source": [
    "nombre_infected       954\n",
    "nombre_sain          1536\n",
    "nombre_exposed        409\n",
    "nombre_recovered    17101\n",
    "Name: 303, dtype: int64"
   ]
  },
  {
   "cell_type": "markdown",
   "id": "eacfce64",
   "metadata": {},
   "source": [
    "nombre_infected       926\n",
    "nombre_sain          1560\n",
    "nombre_exposed        403\n",
    "nombre_recovered    17111\n",
    "Name: 304, dtype: int64"
   ]
  },
  {
   "cell_type": "markdown",
   "id": "bc5a8aff",
   "metadata": {},
   "source": [
    "nombre_infected       901\n",
    "nombre_sain          1565\n",
    "nombre_exposed        435\n",
    "nombre_recovered    17099\n",
    "Name: 305, dtype: int64"
   ]
  },
  {
   "cell_type": "markdown",
   "id": "b9c4b99c",
   "metadata": {},
   "source": [
    "nombre_infected       864\n",
    "nombre_sain          1589\n",
    "nombre_exposed        429\n",
    "nombre_recovered    17118\n",
    "Name: 306, dtype: int64"
   ]
  },
  {
   "cell_type": "markdown",
   "id": "b185a665",
   "metadata": {},
   "source": [
    "nombre_infected       846\n",
    "nombre_sain          1629\n",
    "nombre_exposed        399\n",
    "nombre_recovered    17126\n",
    "Name: 307, dtype: int64"
   ]
  },
  {
   "cell_type": "markdown",
   "id": "29f05cb2",
   "metadata": {},
   "source": [
    "nombre_infected       841\n",
    "nombre_sain          1666\n",
    "nombre_exposed        392\n",
    "nombre_recovered    17101\n",
    "Name: 308, dtype: int64"
   ]
  },
  {
   "cell_type": "markdown",
   "id": "3ecad9cc",
   "metadata": {},
   "source": [
    "nombre_infected       807\n",
    "nombre_sain          1684\n",
    "nombre_exposed        400\n",
    "nombre_recovered    17109\n",
    "Name: 309, dtype: int64"
   ]
  },
  {
   "cell_type": "markdown",
   "id": "9fbb57ef",
   "metadata": {},
   "source": [
    "nombre_infected       792\n",
    "nombre_sain          1718\n",
    "nombre_exposed        396\n",
    "nombre_recovered    17094\n",
    "Name: 310, dtype: int64"
   ]
  },
  {
   "cell_type": "markdown",
   "id": "f494695f",
   "metadata": {},
   "source": [
    "nombre_infected       809\n",
    "nombre_sain          1741\n",
    "nombre_exposed        386\n",
    "nombre_recovered    17064\n",
    "Name: 311, dtype: int64"
   ]
  },
  {
   "cell_type": "markdown",
   "id": "1b82ddd8",
   "metadata": {},
   "source": [
    "nombre_infected       791\n",
    "nombre_sain          1764\n",
    "nombre_exposed        395\n",
    "nombre_recovered    17050\n",
    "Name: 312, dtype: int64"
   ]
  },
  {
   "cell_type": "markdown",
   "id": "7fc8b4c4",
   "metadata": {},
   "source": [
    "nombre_infected       775\n",
    "nombre_sain          1806\n",
    "nombre_exposed        388\n",
    "nombre_recovered    17031\n",
    "Name: 313, dtype: int64"
   ]
  },
  {
   "cell_type": "markdown",
   "id": "ea0c5f54",
   "metadata": {},
   "source": [
    "nombre_infected       792\n",
    "nombre_sain          1833\n",
    "nombre_exposed        369\n",
    "nombre_recovered    17006\n",
    "Name: 314, dtype: int64"
   ]
  },
  {
   "cell_type": "markdown",
   "id": "79747980",
   "metadata": {},
   "source": [
    "nombre_infected       786\n",
    "nombre_sain          1845\n",
    "nombre_exposed        388\n",
    "nombre_recovered    16981\n",
    "Name: 315, dtype: int64"
   ]
  },
  {
   "cell_type": "markdown",
   "id": "85275f78",
   "metadata": {},
   "source": [
    "nombre_infected       760\n",
    "nombre_sain          1860\n",
    "nombre_exposed        414\n",
    "nombre_recovered    16966\n",
    "Name: 316, dtype: int64"
   ]
  },
  {
   "cell_type": "markdown",
   "id": "8572fb47",
   "metadata": {},
   "source": [
    "nombre_infected       755\n",
    "nombre_sain          1898\n",
    "nombre_exposed        403\n",
    "nombre_recovered    16944\n",
    "Name: 317, dtype: int64"
   ]
  },
  {
   "cell_type": "markdown",
   "id": "4f85ec44",
   "metadata": {},
   "source": [
    "nombre_infected       757\n",
    "nombre_sain          1941\n",
    "nombre_exposed        385\n",
    "nombre_recovered    16917\n",
    "Name: 318, dtype: int64"
   ]
  },
  {
   "cell_type": "markdown",
   "id": "a3a12579",
   "metadata": {},
   "source": [
    "nombre_infected       747\n",
    "nombre_sain          1945\n",
    "nombre_exposed        398\n",
    "nombre_recovered    16910\n",
    "Name: 319, dtype: int64"
   ]
  },
  {
   "cell_type": "markdown",
   "id": "12ce4531",
   "metadata": {},
   "source": [
    "nombre_infected       760\n",
    "nombre_sain          1973\n",
    "nombre_exposed        385\n",
    "nombre_recovered    16882\n",
    "Name: 320, dtype: int64"
   ]
  },
  {
   "cell_type": "markdown",
   "id": "d1cc333a",
   "metadata": {},
   "source": [
    "nombre_infected       774\n",
    "nombre_sain          1986\n",
    "nombre_exposed        389\n",
    "nombre_recovered    16851\n",
    "Name: 321, dtype: int64"
   ]
  },
  {
   "cell_type": "markdown",
   "id": "85b8aec7",
   "metadata": {},
   "source": [
    "nombre_infected       752\n",
    "nombre_sain          2018\n",
    "nombre_exposed        413\n",
    "nombre_recovered    16817\n",
    "Name: 322, dtype: int64"
   ]
  },
  {
   "cell_type": "markdown",
   "id": "1051895e",
   "metadata": {},
   "source": [
    "nombre_infected       745\n",
    "nombre_sain          2012\n",
    "nombre_exposed        441\n",
    "nombre_recovered    16802\n",
    "Name: 323, dtype: int64"
   ]
  },
  {
   "cell_type": "markdown",
   "id": "1e71ef5b",
   "metadata": {},
   "source": [
    "nombre_infected       757\n",
    "nombre_sain          2025\n",
    "nombre_exposed        442\n",
    "nombre_recovered    16776\n",
    "Name: 324, dtype: int64"
   ]
  },
  {
   "cell_type": "markdown",
   "id": "d320dc98",
   "metadata": {},
   "source": [
    "nombre_infected       762\n",
    "nombre_sain          2042\n",
    "nombre_exposed        449\n",
    "nombre_recovered    16747\n",
    "Name: 325, dtype: int64"
   ]
  },
  {
   "cell_type": "markdown",
   "id": "c5c4f3e2",
   "metadata": {},
   "source": [
    "nombre_infected       777\n",
    "nombre_sain          2074\n",
    "nombre_exposed        428\n",
    "nombre_recovered    16721\n",
    "Name: 326, dtype: int64"
   ]
  },
  {
   "cell_type": "markdown",
   "id": "ceede9dc",
   "metadata": {},
   "source": [
    "nombre_infected       772\n",
    "nombre_sain          2111\n",
    "nombre_exposed        441\n",
    "nombre_recovered    16676\n",
    "Name: 327, dtype: int64"
   ]
  },
  {
   "cell_type": "markdown",
   "id": "1dd0830b",
   "metadata": {},
   "source": [
    "nombre_infected       769\n",
    "nombre_sain          2144\n",
    "nombre_exposed        441\n",
    "nombre_recovered    16646\n",
    "Name: 328, dtype: int64"
   ]
  },
  {
   "cell_type": "markdown",
   "id": "ed09275a",
   "metadata": {},
   "source": [
    "nombre_infected       756\n",
    "nombre_sain          2157\n",
    "nombre_exposed        447\n",
    "nombre_recovered    16640\n",
    "Name: 329, dtype: int64"
   ]
  },
  {
   "cell_type": "markdown",
   "id": "c119109f",
   "metadata": {},
   "source": [
    "nombre_infected       761\n",
    "nombre_sain          2194\n",
    "nombre_exposed        452\n",
    "nombre_recovered    16593\n",
    "Name: 330, dtype: int64"
   ]
  },
  {
   "cell_type": "markdown",
   "id": "fae6d722",
   "metadata": {},
   "source": [
    "nombre_infected       771\n",
    "nombre_sain          2234\n",
    "nombre_exposed        443\n",
    "nombre_recovered    16552\n",
    "Name: 331, dtype: int64"
   ]
  },
  {
   "cell_type": "markdown",
   "id": "869b80dd",
   "metadata": {},
   "source": [
    "nombre_infected       784\n",
    "nombre_sain          2236\n",
    "nombre_exposed        461\n",
    "nombre_recovered    16519\n",
    "Name: 332, dtype: int64"
   ]
  },
  {
   "cell_type": "markdown",
   "id": "285e7c77",
   "metadata": {},
   "source": [
    "nombre_infected       764\n",
    "nombre_sain          2250\n",
    "nombre_exposed        494\n",
    "nombre_recovered    16492\n",
    "Name: 333, dtype: int64"
   ]
  },
  {
   "cell_type": "markdown",
   "id": "3da29120",
   "metadata": {},
   "source": [
    "nombre_infected       776\n",
    "nombre_sain          2259\n",
    "nombre_exposed        509\n",
    "nombre_recovered    16456\n",
    "Name: 334, dtype: int64"
   ]
  },
  {
   "cell_type": "markdown",
   "id": "da328d50",
   "metadata": {},
   "source": [
    "nombre_infected       778\n",
    "nombre_sain          2239\n",
    "nombre_exposed        522\n",
    "nombre_recovered    16461\n",
    "Name: 335, dtype: int64"
   ]
  },
  {
   "cell_type": "markdown",
   "id": "9a836b5e",
   "metadata": {},
   "source": [
    "nombre_infected       800\n",
    "nombre_sain          2214\n",
    "nombre_exposed        533\n",
    "nombre_recovered    16453\n",
    "Name: 336, dtype: int64"
   ]
  },
  {
   "cell_type": "markdown",
   "id": "d0d72eba",
   "metadata": {},
   "source": [
    "nombre_infected       809\n",
    "nombre_sain          2236\n",
    "nombre_exposed        512\n",
    "nombre_recovered    16443\n",
    "Name: 337, dtype: int64"
   ]
  },
  {
   "cell_type": "markdown",
   "id": "ac62292e",
   "metadata": {},
   "source": [
    "nombre_infected       838\n",
    "nombre_sain          2211\n",
    "nombre_exposed        515\n",
    "nombre_recovered    16436\n",
    "Name: 338, dtype: int64"
   ]
  },
  {
   "cell_type": "markdown",
   "id": "44eee6f1",
   "metadata": {},
   "source": [
    "nombre_infected       837\n",
    "nombre_sain          2209\n",
    "nombre_exposed        537\n",
    "nombre_recovered    16417\n",
    "Name: 339, dtype: int64"
   ]
  },
  {
   "cell_type": "markdown",
   "id": "60104b3a",
   "metadata": {},
   "source": [
    "nombre_infected       832\n",
    "nombre_sain          2194\n",
    "nombre_exposed        567\n",
    "nombre_recovered    16407\n",
    "Name: 340, dtype: int64"
   ]
  },
  {
   "cell_type": "markdown",
   "id": "f9e651a3",
   "metadata": {},
   "source": [
    "nombre_infected       855\n",
    "nombre_sain          2206\n",
    "nombre_exposed        552\n",
    "nombre_recovered    16387\n",
    "Name: 341, dtype: int64"
   ]
  },
  {
   "cell_type": "markdown",
   "id": "52852361",
   "metadata": {},
   "source": [
    "nombre_infected       853\n",
    "nombre_sain          2193\n",
    "nombre_exposed        543\n",
    "nombre_recovered    16411\n",
    "Name: 342, dtype: int64"
   ]
  },
  {
   "cell_type": "markdown",
   "id": "afebdead",
   "metadata": {},
   "source": [
    "nombre_infected       874\n",
    "nombre_sain          2181\n",
    "nombre_exposed        550\n",
    "nombre_recovered    16395\n",
    "Name: 343, dtype: int64"
   ]
  },
  {
   "cell_type": "markdown",
   "id": "f407c0d5",
   "metadata": {},
   "source": [
    "nombre_infected       867\n",
    "nombre_sain          2161\n",
    "nombre_exposed        572\n",
    "nombre_recovered    16400\n",
    "Name: 344, dtype: int64"
   ]
  },
  {
   "cell_type": "markdown",
   "id": "2f4aaa03",
   "metadata": {},
   "source": [
    "nombre_infected       895\n",
    "nombre_sain          2183\n",
    "nombre_exposed        548\n",
    "nombre_recovered    16374\n",
    "Name: 345, dtype: int64"
   ]
  },
  {
   "cell_type": "markdown",
   "id": "152bc78d",
   "metadata": {},
   "source": [
    "nombre_infected       905\n",
    "nombre_sain          2176\n",
    "nombre_exposed        552\n",
    "nombre_recovered    16367\n",
    "Name: 346, dtype: int64"
   ]
  },
  {
   "cell_type": "markdown",
   "id": "b524db60",
   "metadata": {},
   "source": [
    "nombre_infected       904\n",
    "nombre_sain          2169\n",
    "nombre_exposed        565\n",
    "nombre_recovered    16362\n",
    "Name: 347, dtype: int64"
   ]
  },
  {
   "cell_type": "markdown",
   "id": "ba66f3f1",
   "metadata": {},
   "source": [
    "nombre_infected       894\n",
    "nombre_sain          2133\n",
    "nombre_exposed        588\n",
    "nombre_recovered    16385\n",
    "Name: 348, dtype: int64"
   ]
  },
  {
   "cell_type": "markdown",
   "id": "05531e16",
   "metadata": {},
   "source": [
    "nombre_infected       905\n",
    "nombre_sain          2121\n",
    "nombre_exposed        586\n",
    "nombre_recovered    16388\n",
    "Name: 349, dtype: int64"
   ]
  },
  {
   "cell_type": "markdown",
   "id": "37c7d77b",
   "metadata": {},
   "source": [
    "nombre_infected       912\n",
    "nombre_sain          2111\n",
    "nombre_exposed        598\n",
    "nombre_recovered    16379\n",
    "Name: 350, dtype: int64"
   ]
  },
  {
   "cell_type": "markdown",
   "id": "8b2dc619",
   "metadata": {},
   "source": [
    "nombre_infected       975\n",
    "nombre_sain          2099\n",
    "nombre_exposed        580\n",
    "nombre_recovered    16346\n",
    "Name: 351, dtype: int64"
   ]
  },
  {
   "cell_type": "markdown",
   "id": "29dff364",
   "metadata": {},
   "source": [
    "nombre_infected       994\n",
    "nombre_sain          2052\n",
    "nombre_exposed        593\n",
    "nombre_recovered    16361\n",
    "Name: 352, dtype: int64"
   ]
  },
  {
   "cell_type": "markdown",
   "id": "4d4cf413",
   "metadata": {},
   "source": [
    "nombre_infected       998\n",
    "nombre_sain          2030\n",
    "nombre_exposed        606\n",
    "nombre_recovered    16366\n",
    "Name: 353, dtype: int64"
   ]
  },
  {
   "cell_type": "markdown",
   "id": "12397d4b",
   "metadata": {},
   "source": [
    "nombre_infected      1014\n",
    "nombre_sain          2031\n",
    "nombre_exposed        603\n",
    "nombre_recovered    16352\n",
    "Name: 354, dtype: int64"
   ]
  },
  {
   "cell_type": "markdown",
   "id": "2cfaf4ae",
   "metadata": {},
   "source": [
    "nombre_infected      1040\n",
    "nombre_sain          2036\n",
    "nombre_exposed        580\n",
    "nombre_recovered    16344\n",
    "Name: 355, dtype: int64"
   ]
  },
  {
   "cell_type": "markdown",
   "id": "d8319997",
   "metadata": {},
   "source": [
    "nombre_infected      1041\n",
    "nombre_sain          2026\n",
    "nombre_exposed        584\n",
    "nombre_recovered    16349\n",
    "Name: 356, dtype: int64"
   ]
  },
  {
   "cell_type": "markdown",
   "id": "5f871658",
   "metadata": {},
   "source": [
    "nombre_infected      1030\n",
    "nombre_sain          2030\n",
    "nombre_exposed        573\n",
    "nombre_recovered    16367\n",
    "Name: 357, dtype: int64"
   ]
  },
  {
   "cell_type": "markdown",
   "id": "1377c4c5",
   "metadata": {},
   "source": [
    "nombre_infected      1053\n",
    "nombre_sain          2032\n",
    "nombre_exposed        554\n",
    "nombre_recovered    16361\n",
    "Name: 358, dtype: int64"
   ]
  },
  {
   "cell_type": "markdown",
   "id": "a6399b1d",
   "metadata": {},
   "source": [
    "nombre_infected      1051\n",
    "nombre_sain          2009\n",
    "nombre_exposed        561\n",
    "nombre_recovered    16379\n",
    "Name: 359, dtype: int64"
   ]
  },
  {
   "cell_type": "markdown",
   "id": "eb102fdb",
   "metadata": {},
   "source": [
    "nombre_infected      1060\n",
    "nombre_sain          1979\n",
    "nombre_exposed        576\n",
    "nombre_recovered    16385\n",
    "Name: 360, dtype: int64"
   ]
  },
  {
   "cell_type": "markdown",
   "id": "117c22f1",
   "metadata": {},
   "source": [
    "nombre_infected      1063\n",
    "nombre_sain          1971\n",
    "nombre_exposed        567\n",
    "nombre_recovered    16399\n",
    "Name: 361, dtype: int64"
   ]
  },
  {
   "cell_type": "markdown",
   "id": "f0991bda",
   "metadata": {},
   "source": [
    "nombre_infected      1074\n",
    "nombre_sain          1967\n",
    "nombre_exposed        547\n",
    "nombre_recovered    16412\n",
    "Name: 362, dtype: int64"
   ]
  },
  {
   "cell_type": "markdown",
   "id": "b08cc608",
   "metadata": {},
   "source": [
    "nombre_infected      1072\n",
    "nombre_sain          1952\n",
    "nombre_exposed        549\n",
    "nombre_recovered    16427\n",
    "Name: 363, dtype: int64"
   ]
  },
  {
   "cell_type": "markdown",
   "id": "b14658bb",
   "metadata": {},
   "source": [
    "nombre_infected      1085\n",
    "nombre_sain          1944\n",
    "nombre_exposed        543\n",
    "nombre_recovered    16428\n",
    "Name: 364, dtype: int64"
   ]
  },
  {
   "cell_type": "markdown",
   "id": "6fa4328a",
   "metadata": {},
   "source": [
    "nombre_infected      1120\n",
    "nombre_sain          1942\n",
    "nombre_exposed        515\n",
    "nombre_recovered    16423\n",
    "Name: 365, dtype: int64"
   ]
  },
  {
   "cell_type": "markdown",
   "id": "00bdf7e0",
   "metadata": {},
   "source": [
    "nombre_infected      1149\n",
    "nombre_sain          1917\n",
    "nombre_exposed        516\n",
    "nombre_recovered    16418\n",
    "Name: 366, dtype: int64"
   ]
  },
  {
   "cell_type": "markdown",
   "id": "79c0bce7",
   "metadata": {},
   "source": [
    "nombre_infected      1115\n",
    "nombre_sain          1884\n",
    "nombre_exposed        539\n",
    "nombre_recovered    16462\n",
    "Name: 367, dtype: int64"
   ]
  },
  {
   "cell_type": "markdown",
   "id": "0924063a",
   "metadata": {},
   "source": [
    "nombre_infected      1122\n",
    "nombre_sain          1856\n",
    "nombre_exposed        551\n",
    "nombre_recovered    16471\n",
    "Name: 368, dtype: int64"
   ]
  },
  {
   "cell_type": "markdown",
   "id": "72f663e8",
   "metadata": {},
   "source": [
    "nombre_infected      1092\n",
    "nombre_sain          1861\n",
    "nombre_exposed        544\n",
    "nombre_recovered    16503\n",
    "Name: 369, dtype: int64"
   ]
  },
  {
   "cell_type": "markdown",
   "id": "a09127b8",
   "metadata": {},
   "source": [
    "nombre_infected      1107\n",
    "nombre_sain          1826\n",
    "nombre_exposed        539\n",
    "nombre_recovered    16528\n",
    "Name: 370, dtype: int64"
   ]
  },
  {
   "cell_type": "markdown",
   "id": "58c1b117",
   "metadata": {},
   "source": [
    "nombre_infected      1097\n",
    "nombre_sain          1804\n",
    "nombre_exposed        553\n",
    "nombre_recovered    16546\n",
    "Name: 371, dtype: int64"
   ]
  },
  {
   "cell_type": "markdown",
   "id": "f9223b2a",
   "metadata": {},
   "source": [
    "nombre_infected      1095\n",
    "nombre_sain          1793\n",
    "nombre_exposed        546\n",
    "nombre_recovered    16566\n",
    "Name: 372, dtype: int64"
   ]
  },
  {
   "cell_type": "markdown",
   "id": "2ad619ea",
   "metadata": {},
   "source": [
    "nombre_infected      1103\n",
    "nombre_sain          1781\n",
    "nombre_exposed        532\n",
    "nombre_recovered    16584\n",
    "Name: 373, dtype: int64"
   ]
  },
  {
   "cell_type": "markdown",
   "id": "4b542137",
   "metadata": {},
   "source": [
    "nombre_infected      1075\n",
    "nombre_sain          1785\n",
    "nombre_exposed        534\n",
    "nombre_recovered    16606\n",
    "Name: 374, dtype: int64"
   ]
  },
  {
   "cell_type": "markdown",
   "id": "b1697161",
   "metadata": {},
   "source": [
    "nombre_infected      1082\n",
    "nombre_sain          1767\n",
    "nombre_exposed        513\n",
    "nombre_recovered    16638\n",
    "Name: 375, dtype: int64"
   ]
  },
  {
   "cell_type": "markdown",
   "id": "c1e8d9dd",
   "metadata": {},
   "source": [
    "nombre_infected      1076\n",
    "nombre_sain          1748\n",
    "nombre_exposed        524\n",
    "nombre_recovered    16652\n",
    "Name: 376, dtype: int64"
   ]
  },
  {
   "cell_type": "markdown",
   "id": "01804240",
   "metadata": {},
   "source": [
    "nombre_infected      1060\n",
    "nombre_sain          1737\n",
    "nombre_exposed        519\n",
    "nombre_recovered    16684\n",
    "Name: 377, dtype: int64"
   ]
  },
  {
   "cell_type": "markdown",
   "id": "b7d7b55b",
   "metadata": {},
   "source": [
    "nombre_infected      1046\n",
    "nombre_sain          1737\n",
    "nombre_exposed        526\n",
    "nombre_recovered    16691\n",
    "Name: 378, dtype: int64"
   ]
  },
  {
   "cell_type": "markdown",
   "id": "08ba7708",
   "metadata": {},
   "source": [
    "nombre_infected      1048\n",
    "nombre_sain          1738\n",
    "nombre_exposed        505\n",
    "nombre_recovered    16709\n",
    "Name: 379, dtype: int64"
   ]
  },
  {
   "cell_type": "markdown",
   "id": "43c93275",
   "metadata": {},
   "source": [
    "nombre_infected      1055\n",
    "nombre_sain          1748\n",
    "nombre_exposed        493\n",
    "nombre_recovered    16704\n",
    "Name: 380, dtype: int64"
   ]
  },
  {
   "cell_type": "markdown",
   "id": "4a6cb46b",
   "metadata": {},
   "source": [
    "nombre_infected      1047\n",
    "nombre_sain          1729\n",
    "nombre_exposed        503\n",
    "nombre_recovered    16721\n",
    "Name: 381, dtype: int64"
   ]
  },
  {
   "cell_type": "markdown",
   "id": "11f28ba5",
   "metadata": {},
   "source": [
    "nombre_infected      1067\n",
    "nombre_sain          1720\n",
    "nombre_exposed        482\n",
    "nombre_recovered    16731\n",
    "Name: 382, dtype: int64"
   ]
  },
  {
   "cell_type": "markdown",
   "id": "52f1c6c4",
   "metadata": {},
   "source": [
    "nombre_infected      1041\n",
    "nombre_sain          1703\n",
    "nombre_exposed        492\n",
    "nombre_recovered    16764\n",
    "Name: 383, dtype: int64"
   ]
  },
  {
   "cell_type": "markdown",
   "id": "2d80834b",
   "metadata": {},
   "source": [
    "nombre_infected      1049\n",
    "nombre_sain          1691\n",
    "nombre_exposed        466\n",
    "nombre_recovered    16794\n",
    "Name: 384, dtype: int64"
   ]
  },
  {
   "cell_type": "markdown",
   "id": "c9d4f5f3",
   "metadata": {},
   "source": [
    "nombre_infected      1045\n",
    "nombre_sain          1673\n",
    "nombre_exposed        448\n",
    "nombre_recovered    16834\n",
    "Name: 385, dtype: int64"
   ]
  },
  {
   "cell_type": "markdown",
   "id": "bc3b8a04",
   "metadata": {},
   "source": [
    "nombre_infected       997\n",
    "nombre_sain          1673\n",
    "nombre_exposed        452\n",
    "nombre_recovered    16878\n",
    "Name: 386, dtype: int64"
   ]
  },
  {
   "cell_type": "markdown",
   "id": "02c596f1",
   "metadata": {},
   "source": [
    "nombre_infected       983\n",
    "nombre_sain          1689\n",
    "nombre_exposed        432\n",
    "nombre_recovered    16896\n",
    "Name: 387, dtype: int64"
   ]
  },
  {
   "cell_type": "markdown",
   "id": "bf6b7eca",
   "metadata": {},
   "source": [
    "nombre_infected       981\n",
    "nombre_sain          1686\n",
    "nombre_exposed        424\n",
    "nombre_recovered    16909\n",
    "Name: 388, dtype: int64"
   ]
  },
  {
   "cell_type": "markdown",
   "id": "d11ade34",
   "metadata": {},
   "source": [
    "nombre_infected       978\n",
    "nombre_sain          1676\n",
    "nombre_exposed        438\n",
    "nombre_recovered    16908\n",
    "Name: 389, dtype: int64"
   ]
  },
  {
   "cell_type": "markdown",
   "id": "31cdb78a",
   "metadata": {},
   "source": [
    "nombre_infected       947\n",
    "nombre_sain          1698\n",
    "nombre_exposed        438\n",
    "nombre_recovered    16917\n",
    "Name: 390, dtype: int64"
   ]
  },
  {
   "cell_type": "markdown",
   "id": "9bde7098",
   "metadata": {},
   "source": [
    "nombre_infected       933\n",
    "nombre_sain          1718\n",
    "nombre_exposed        428\n",
    "nombre_recovered    16921\n",
    "Name: 391, dtype: int64"
   ]
  },
  {
   "cell_type": "markdown",
   "id": "485f4204",
   "metadata": {},
   "source": [
    "nombre_infected       922\n",
    "nombre_sain          1726\n",
    "nombre_exposed        421\n",
    "nombre_recovered    16931\n",
    "Name: 392, dtype: int64"
   ]
  },
  {
   "cell_type": "markdown",
   "id": "eb420e41",
   "metadata": {},
   "source": [
    "nombre_infected       922\n",
    "nombre_sain          1757\n",
    "nombre_exposed        403\n",
    "nombre_recovered    16918\n",
    "Name: 393, dtype: int64"
   ]
  },
  {
   "cell_type": "markdown",
   "id": "3e25285d",
   "metadata": {},
   "source": [
    "nombre_infected       897\n",
    "nombre_sain          1772\n",
    "nombre_exposed        416\n",
    "nombre_recovered    16915\n",
    "Name: 394, dtype: int64"
   ]
  },
  {
   "cell_type": "markdown",
   "id": "5ba982c7",
   "metadata": {},
   "source": [
    "nombre_infected       889\n",
    "nombre_sain          1786\n",
    "nombre_exposed        410\n",
    "nombre_recovered    16915\n",
    "Name: 395, dtype: int64"
   ]
  },
  {
   "cell_type": "markdown",
   "id": "0ba0dad0",
   "metadata": {},
   "source": [
    "nombre_infected       876\n",
    "nombre_sain          1799\n",
    "nombre_exposed        428\n",
    "nombre_recovered    16897\n",
    "Name: 396, dtype: int64"
   ]
  },
  {
   "cell_type": "markdown",
   "id": "9c622a07",
   "metadata": {},
   "source": [
    "nombre_infected       885\n",
    "nombre_sain          1844\n",
    "nombre_exposed        411\n",
    "nombre_recovered    16860\n",
    "Name: 397, dtype: int64"
   ]
  },
  {
   "cell_type": "markdown",
   "id": "cf0123e1",
   "metadata": {},
   "source": [
    "nombre_infected       883\n",
    "nombre_sain          1876\n",
    "nombre_exposed        403\n",
    "nombre_recovered    16838\n",
    "Name: 398, dtype: int64"
   ]
  },
  {
   "cell_type": "markdown",
   "id": "d4798b69",
   "metadata": {},
   "source": [
    "nombre_infected       881\n",
    "nombre_sain          1872\n",
    "nombre_exposed        423\n",
    "nombre_recovered    16824\n",
    "Name: 399, dtype: int64"
   ]
  },
  {
   "cell_type": "markdown",
   "id": "2ae739c5",
   "metadata": {},
   "source": [
    "nombre_infected       873\n",
    "nombre_sain          1886\n",
    "nombre_exposed        418\n",
    "nombre_recovered    16823\n",
    "Name: 400, dtype: int64"
   ]
  },
  {
   "cell_type": "markdown",
   "id": "0afd6c3b",
   "metadata": {},
   "source": [
    "nombre_infected       865\n",
    "nombre_sain          1890\n",
    "nombre_exposed        433\n",
    "nombre_recovered    16812\n",
    "Name: 401, dtype: int64"
   ]
  },
  {
   "cell_type": "markdown",
   "id": "49704e09",
   "metadata": {},
   "source": [
    "nombre_infected       859\n",
    "nombre_sain          1901\n",
    "nombre_exposed        431\n",
    "nombre_recovered    16809\n",
    "Name: 402, dtype: int64"
   ]
  },
  {
   "cell_type": "markdown",
   "id": "06d2566c",
   "metadata": {},
   "source": [
    "nombre_infected       841\n",
    "nombre_sain          1926\n",
    "nombre_exposed        432\n",
    "nombre_recovered    16801\n",
    "Name: 403, dtype: int64"
   ]
  },
  {
   "cell_type": "markdown",
   "id": "230d0763",
   "metadata": {},
   "source": [
    "nombre_infected       837\n",
    "nombre_sain          1952\n",
    "nombre_exposed        436\n",
    "nombre_recovered    16775\n",
    "Name: 404, dtype: int64"
   ]
  },
  {
   "cell_type": "markdown",
   "id": "836d1625",
   "metadata": {},
   "source": [
    "nombre_infected       811\n",
    "nombre_sain          1967\n",
    "nombre_exposed        450\n",
    "nombre_recovered    16772\n",
    "Name: 405, dtype: int64"
   ]
  },
  {
   "cell_type": "markdown",
   "id": "71983386",
   "metadata": {},
   "source": [
    "nombre_infected       827\n",
    "nombre_sain          1998\n",
    "nombre_exposed        441\n",
    "nombre_recovered    16734\n",
    "Name: 406, dtype: int64"
   ]
  },
  {
   "cell_type": "markdown",
   "id": "b1e81e69",
   "metadata": {},
   "source": [
    "nombre_infected       836\n",
    "nombre_sain          1997\n",
    "nombre_exposed        436\n",
    "nombre_recovered    16731\n",
    "Name: 407, dtype: int64"
   ]
  },
  {
   "cell_type": "markdown",
   "id": "16d8fb7e",
   "metadata": {},
   "source": [
    "nombre_infected       819\n",
    "nombre_sain          2011\n",
    "nombre_exposed        459\n",
    "nombre_recovered    16711\n",
    "Name: 408, dtype: int64"
   ]
  },
  {
   "cell_type": "markdown",
   "id": "fa112cee",
   "metadata": {},
   "source": [
    "nombre_infected       834\n",
    "nombre_sain          2022\n",
    "nombre_exposed        451\n",
    "nombre_recovered    16693\n",
    "Name: 409, dtype: int64"
   ]
  },
  {
   "cell_type": "markdown",
   "id": "678279aa",
   "metadata": {},
   "source": [
    "nombre_infected       836\n",
    "nombre_sain          2029\n",
    "nombre_exposed        442\n",
    "nombre_recovered    16693\n",
    "Name: 410, dtype: int64"
   ]
  },
  {
   "cell_type": "markdown",
   "id": "e99c718a",
   "metadata": {},
   "source": [
    "nombre_infected       843\n",
    "nombre_sain          2034\n",
    "nombre_exposed        444\n",
    "nombre_recovered    16679\n",
    "Name: 411, dtype: int64"
   ]
  },
  {
   "cell_type": "markdown",
   "id": "8e7502a8",
   "metadata": {},
   "source": [
    "nombre_infected       831\n",
    "nombre_sain          2026\n",
    "nombre_exposed        455\n",
    "nombre_recovered    16688\n",
    "Name: 412, dtype: int64"
   ]
  },
  {
   "cell_type": "markdown",
   "id": "aec59210",
   "metadata": {},
   "source": [
    "nombre_infected       846\n",
    "nombre_sain          2016\n",
    "nombre_exposed        461\n",
    "nombre_recovered    16677\n",
    "Name: 413, dtype: int64"
   ]
  },
  {
   "cell_type": "markdown",
   "id": "0af7c6b6",
   "metadata": {},
   "source": [
    "nombre_infected       849\n",
    "nombre_sain          2010\n",
    "nombre_exposed        473\n",
    "nombre_recovered    16668\n",
    "Name: 414, dtype: int64"
   ]
  },
  {
   "cell_type": "markdown",
   "id": "2345be94",
   "metadata": {},
   "source": [
    "nombre_infected       858\n",
    "nombre_sain          1999\n",
    "nombre_exposed        479\n",
    "nombre_recovered    16664\n",
    "Name: 415, dtype: int64"
   ]
  },
  {
   "cell_type": "markdown",
   "id": "569098c9",
   "metadata": {},
   "source": [
    "nombre_infected       857\n",
    "nombre_sain          2020\n",
    "nombre_exposed        475\n",
    "nombre_recovered    16648\n",
    "Name: 416, dtype: int64"
   ]
  },
  {
   "cell_type": "markdown",
   "id": "bc055f3d",
   "metadata": {},
   "source": [
    "nombre_infected       870\n",
    "nombre_sain          2016\n",
    "nombre_exposed        468\n",
    "nombre_recovered    16646\n",
    "Name: 417, dtype: int64"
   ]
  },
  {
   "cell_type": "markdown",
   "id": "fbe67830",
   "metadata": {},
   "source": [
    "nombre_infected       881\n",
    "nombre_sain          2021\n",
    "nombre_exposed        459\n",
    "nombre_recovered    16639\n",
    "Name: 418, dtype: int64"
   ]
  },
  {
   "cell_type": "markdown",
   "id": "09271c5d",
   "metadata": {},
   "source": [
    "nombre_infected       881\n",
    "nombre_sain          2010\n",
    "nombre_exposed        470\n",
    "nombre_recovered    16639\n",
    "Name: 419, dtype: int64"
   ]
  },
  {
   "cell_type": "markdown",
   "id": "e5e0423b",
   "metadata": {},
   "source": [
    "nombre_infected       882\n",
    "nombre_sain          2011\n",
    "nombre_exposed        466\n",
    "nombre_recovered    16641\n",
    "Name: 420, dtype: int64"
   ]
  },
  {
   "cell_type": "markdown",
   "id": "cfc921f6",
   "metadata": {},
   "source": [
    "nombre_infected       891\n",
    "nombre_sain          2008\n",
    "nombre_exposed        466\n",
    "nombre_recovered    16635\n",
    "Name: 421, dtype: int64"
   ]
  },
  {
   "cell_type": "markdown",
   "id": "665b084f",
   "metadata": {},
   "source": [
    "nombre_infected       880\n",
    "nombre_sain          1984\n",
    "nombre_exposed        484\n",
    "nombre_recovered    16652\n",
    "Name: 422, dtype: int64"
   ]
  },
  {
   "cell_type": "markdown",
   "id": "1614a5c8",
   "metadata": {},
   "source": [
    "nombre_infected       885\n",
    "nombre_sain          1991\n",
    "nombre_exposed        485\n",
    "nombre_recovered    16639\n",
    "Name: 423, dtype: int64"
   ]
  },
  {
   "cell_type": "markdown",
   "id": "e1c1b388",
   "metadata": {},
   "source": [
    "nombre_infected       915\n",
    "nombre_sain          1991\n",
    "nombre_exposed        484\n",
    "nombre_recovered    16610\n",
    "Name: 424, dtype: int64"
   ]
  },
  {
   "cell_type": "markdown",
   "id": "54b568c8",
   "metadata": {},
   "source": [
    "nombre_infected       904\n",
    "nombre_sain          1995\n",
    "nombre_exposed        496\n",
    "nombre_recovered    16605\n",
    "Name: 425, dtype: int64"
   ]
  },
  {
   "cell_type": "markdown",
   "id": "fc6387d9",
   "metadata": {},
   "source": [
    "nombre_infected       912\n",
    "nombre_sain          1984\n",
    "nombre_exposed        496\n",
    "nombre_recovered    16608\n",
    "Name: 426, dtype: int64"
   ]
  },
  {
   "cell_type": "markdown",
   "id": "d5a396d6",
   "metadata": {},
   "source": [
    "nombre_infected       918\n",
    "nombre_sain          1980\n",
    "nombre_exposed        480\n",
    "nombre_recovered    16622\n",
    "Name: 427, dtype: int64"
   ]
  },
  {
   "cell_type": "markdown",
   "id": "afacd7d9",
   "metadata": {},
   "source": [
    "nombre_infected       944\n",
    "nombre_sain          1997\n",
    "nombre_exposed        472\n",
    "nombre_recovered    16587\n",
    "Name: 428, dtype: int64"
   ]
  },
  {
   "cell_type": "markdown",
   "id": "9d267b18",
   "metadata": {},
   "source": [
    "nombre_infected       945\n",
    "nombre_sain          2003\n",
    "nombre_exposed        487\n",
    "nombre_recovered    16565\n",
    "Name: 429, dtype: int64"
   ]
  },
  {
   "cell_type": "markdown",
   "id": "5b86be4a",
   "metadata": {},
   "source": [
    "nombre_infected       938\n",
    "nombre_sain          1982\n",
    "nombre_exposed        494\n",
    "nombre_recovered    16586\n",
    "Name: 430, dtype: int64"
   ]
  },
  {
   "cell_type": "markdown",
   "id": "d1279bd5",
   "metadata": {},
   "source": [
    "nombre_infected       942\n",
    "nombre_sain          1984\n",
    "nombre_exposed        501\n",
    "nombre_recovered    16573\n",
    "Name: 431, dtype: int64"
   ]
  },
  {
   "cell_type": "markdown",
   "id": "5b263033",
   "metadata": {},
   "source": [
    "nombre_infected       925\n",
    "nombre_sain          1976\n",
    "nombre_exposed        504\n",
    "nombre_recovered    16595\n",
    "Name: 432, dtype: int64"
   ]
  },
  {
   "cell_type": "markdown",
   "id": "7753cfe0",
   "metadata": {},
   "source": [
    "nombre_infected       941\n",
    "nombre_sain          1962\n",
    "nombre_exposed        522\n",
    "nombre_recovered    16575\n",
    "Name: 433, dtype: int64"
   ]
  },
  {
   "cell_type": "markdown",
   "id": "0a3230ad",
   "metadata": {},
   "source": [
    "nombre_infected       931\n",
    "nombre_sain          1947\n",
    "nombre_exposed        511\n",
    "nombre_recovered    16611\n",
    "Name: 434, dtype: int64"
   ]
  },
  {
   "cell_type": "markdown",
   "id": "15044683",
   "metadata": {},
   "source": [
    "nombre_infected       938\n",
    "nombre_sain          1960\n",
    "nombre_exposed        498\n",
    "nombre_recovered    16604\n",
    "Name: 435, dtype: int64"
   ]
  },
  {
   "cell_type": "markdown",
   "id": "4e6ea4c9",
   "metadata": {},
   "source": [
    "nombre_infected       924\n",
    "nombre_sain          1941\n",
    "nombre_exposed        522\n",
    "nombre_recovered    16613\n",
    "Name: 436, dtype: int64"
   ]
  },
  {
   "cell_type": "markdown",
   "id": "8eb500c5",
   "metadata": {},
   "source": [
    "nombre_infected       927\n",
    "nombre_sain          1938\n",
    "nombre_exposed        515\n",
    "nombre_recovered    16620\n",
    "Name: 437, dtype: int64"
   ]
  },
  {
   "cell_type": "markdown",
   "id": "58e3ba60",
   "metadata": {},
   "source": [
    "nombre_infected       938\n",
    "nombre_sain          1919\n",
    "nombre_exposed        521\n",
    "nombre_recovered    16622\n",
    "Name: 438, dtype: int64"
   ]
  },
  {
   "cell_type": "markdown",
   "id": "a1f02391",
   "metadata": {},
   "source": [
    "nombre_infected       937\n",
    "nombre_sain          1923\n",
    "nombre_exposed        506\n",
    "nombre_recovered    16634\n",
    "Name: 439, dtype: int64"
   ]
  },
  {
   "cell_type": "markdown",
   "id": "6494b8ae",
   "metadata": {},
   "source": [
    "nombre_infected       960\n",
    "nombre_sain          1930\n",
    "nombre_exposed        474\n",
    "nombre_recovered    16636\n",
    "Name: 440, dtype: int64"
   ]
  },
  {
   "cell_type": "markdown",
   "id": "d053e12b",
   "metadata": {},
   "source": [
    "nombre_infected       947\n",
    "nombre_sain          1909\n",
    "nombre_exposed        489\n",
    "nombre_recovered    16655\n",
    "Name: 441, dtype: int64"
   ]
  },
  {
   "cell_type": "markdown",
   "id": "3114cd40",
   "metadata": {},
   "source": [
    "nombre_infected       951\n",
    "nombre_sain          1920\n",
    "nombre_exposed        485\n",
    "nombre_recovered    16644\n",
    "Name: 442, dtype: int64"
   ]
  },
  {
   "cell_type": "markdown",
   "id": "85d448c9",
   "metadata": {},
   "source": [
    "nombre_infected       962\n",
    "nombre_sain          1933\n",
    "nombre_exposed        474\n",
    "nombre_recovered    16631\n",
    "Name: 443, dtype: int64"
   ]
  },
  {
   "cell_type": "markdown",
   "id": "aaed4e75",
   "metadata": {},
   "source": [
    "nombre_infected       972\n",
    "nombre_sain          1934\n",
    "nombre_exposed        489\n",
    "nombre_recovered    16605\n",
    "Name: 444, dtype: int64"
   ]
  },
  {
   "cell_type": "markdown",
   "id": "1b7afcd5",
   "metadata": {},
   "source": [
    "nombre_infected       950\n",
    "nombre_sain          1931\n",
    "nombre_exposed        496\n",
    "nombre_recovered    16623\n",
    "Name: 445, dtype: int64"
   ]
  },
  {
   "cell_type": "markdown",
   "id": "05f802d3",
   "metadata": {},
   "source": [
    "nombre_infected       953\n",
    "nombre_sain          1917\n",
    "nombre_exposed        500\n",
    "nombre_recovered    16630\n",
    "Name: 446, dtype: int64"
   ]
  },
  {
   "cell_type": "markdown",
   "id": "23010a01",
   "metadata": {},
   "source": [
    "nombre_infected       952\n",
    "nombre_sain          1902\n",
    "nombre_exposed        492\n",
    "nombre_recovered    16654\n",
    "Name: 447, dtype: int64"
   ]
  },
  {
   "cell_type": "markdown",
   "id": "5440d623",
   "metadata": {},
   "source": [
    "nombre_infected       930\n",
    "nombre_sain          1885\n",
    "nombre_exposed        509\n",
    "nombre_recovered    16676\n",
    "Name: 448, dtype: int64"
   ]
  },
  {
   "cell_type": "markdown",
   "id": "b7c31949",
   "metadata": {},
   "source": [
    "nombre_infected       943\n",
    "nombre_sain          1867\n",
    "nombre_exposed        506\n",
    "nombre_recovered    16684\n",
    "Name: 449, dtype: int64"
   ]
  },
  {
   "cell_type": "markdown",
   "id": "e123c664",
   "metadata": {},
   "source": [
    "nombre_infected       950\n",
    "nombre_sain          1858\n",
    "nombre_exposed        511\n",
    "nombre_recovered    16681\n",
    "Name: 450, dtype: int64"
   ]
  },
  {
   "cell_type": "markdown",
   "id": "8492f9f7",
   "metadata": {},
   "source": [
    "nombre_infected       962\n",
    "nombre_sain          1846\n",
    "nombre_exposed        516\n",
    "nombre_recovered    16676\n",
    "Name: 451, dtype: int64"
   ]
  },
  {
   "cell_type": "markdown",
   "id": "7ec3fa99",
   "metadata": {},
   "source": [
    "nombre_infected       966\n",
    "nombre_sain          1844\n",
    "nombre_exposed        499\n",
    "nombre_recovered    16691\n",
    "Name: 452, dtype: int64"
   ]
  },
  {
   "cell_type": "markdown",
   "id": "39c73cb5",
   "metadata": {},
   "source": [
    "nombre_infected       959\n",
    "nombre_sain          1845\n",
    "nombre_exposed        498\n",
    "nombre_recovered    16698\n",
    "Name: 453, dtype: int64"
   ]
  },
  {
   "cell_type": "markdown",
   "id": "31cc7e6c",
   "metadata": {},
   "source": [
    "nombre_infected       972\n",
    "nombre_sain          1843\n",
    "nombre_exposed        478\n",
    "nombre_recovered    16707\n",
    "Name: 454, dtype: int64"
   ]
  },
  {
   "cell_type": "markdown",
   "id": "9099a5c6",
   "metadata": {},
   "source": [
    "nombre_infected       961\n",
    "nombre_sain          1871\n",
    "nombre_exposed        449\n",
    "nombre_recovered    16719\n",
    "Name: 455, dtype: int64"
   ]
  },
  {
   "cell_type": "markdown",
   "id": "b39e4c93",
   "metadata": {},
   "source": [
    "nombre_infected       949\n",
    "nombre_sain          1895\n",
    "nombre_exposed        449\n",
    "nombre_recovered    16707\n",
    "Name: 456, dtype: int64"
   ]
  },
  {
   "cell_type": "markdown",
   "id": "5ed79d34",
   "metadata": {},
   "source": [
    "nombre_infected       941\n",
    "nombre_sain          1892\n",
    "nombre_exposed        470\n",
    "nombre_recovered    16697\n",
    "Name: 457, dtype: int64"
   ]
  },
  {
   "cell_type": "markdown",
   "id": "c00443ac",
   "metadata": {},
   "source": [
    "nombre_infected       927\n",
    "nombre_sain          1882\n",
    "nombre_exposed        487\n",
    "nombre_recovered    16704\n",
    "Name: 458, dtype: int64"
   ]
  },
  {
   "cell_type": "markdown",
   "id": "646839de",
   "metadata": {},
   "source": [
    "nombre_infected       939\n",
    "nombre_sain          1868\n",
    "nombre_exposed        477\n",
    "nombre_recovered    16716\n",
    "Name: 459, dtype: int64"
   ]
  },
  {
   "cell_type": "markdown",
   "id": "b247c86b",
   "metadata": {},
   "source": [
    "nombre_infected       946\n",
    "nombre_sain          1870\n",
    "nombre_exposed        479\n",
    "nombre_recovered    16705\n",
    "Name: 460, dtype: int64"
   ]
  },
  {
   "cell_type": "markdown",
   "id": "1ab7d612",
   "metadata": {},
   "source": [
    "nombre_infected       912\n",
    "nombre_sain          1890\n",
    "nombre_exposed        464\n",
    "nombre_recovered    16734\n",
    "Name: 461, dtype: int64"
   ]
  },
  {
   "cell_type": "markdown",
   "id": "208e0894",
   "metadata": {},
   "source": [
    "nombre_infected       906\n",
    "nombre_sain          1899\n",
    "nombre_exposed        473\n",
    "nombre_recovered    16722\n",
    "Name: 462, dtype: int64"
   ]
  },
  {
   "cell_type": "markdown",
   "id": "0c215ebc",
   "metadata": {},
   "source": [
    "nombre_infected       898\n",
    "nombre_sain          1904\n",
    "nombre_exposed        483\n",
    "nombre_recovered    16715\n",
    "Name: 463, dtype: int64"
   ]
  },
  {
   "cell_type": "markdown",
   "id": "7563e5ea",
   "metadata": {},
   "source": [
    "nombre_infected       893\n",
    "nombre_sain          1910\n",
    "nombre_exposed        487\n",
    "nombre_recovered    16710\n",
    "Name: 464, dtype: int64"
   ]
  },
  {
   "cell_type": "markdown",
   "id": "9a22801a",
   "metadata": {},
   "source": [
    "nombre_infected       900\n",
    "nombre_sain          1947\n",
    "nombre_exposed        488\n",
    "nombre_recovered    16665\n",
    "Name: 465, dtype: int64"
   ]
  },
  {
   "cell_type": "markdown",
   "id": "d6efb07d",
   "metadata": {},
   "source": [
    "nombre_infected       908\n",
    "nombre_sain          1983\n",
    "nombre_exposed        476\n",
    "nombre_recovered    16633\n",
    "Name: 466, dtype: int64"
   ]
  },
  {
   "cell_type": "markdown",
   "id": "36adf103",
   "metadata": {},
   "source": [
    "nombre_infected       904\n",
    "nombre_sain          1991\n",
    "nombre_exposed        484\n",
    "nombre_recovered    16621\n",
    "Name: 467, dtype: int64"
   ]
  },
  {
   "cell_type": "markdown",
   "id": "570d2a46",
   "metadata": {},
   "source": [
    "nombre_infected       901\n",
    "nombre_sain          2021\n",
    "nombre_exposed        474\n",
    "nombre_recovered    16604\n",
    "Name: 468, dtype: int64"
   ]
  },
  {
   "cell_type": "markdown",
   "id": "944f16e7",
   "metadata": {},
   "source": [
    "nombre_infected       907\n",
    "nombre_sain          2044\n",
    "nombre_exposed        470\n",
    "nombre_recovered    16579\n",
    "Name: 469, dtype: int64"
   ]
  },
  {
   "cell_type": "markdown",
   "id": "4b1fe719",
   "metadata": {},
   "source": [
    "nombre_infected       895\n",
    "nombre_sain          2027\n",
    "nombre_exposed        478\n",
    "nombre_recovered    16600\n",
    "Name: 470, dtype: int64"
   ]
  },
  {
   "cell_type": "markdown",
   "id": "db61dc8b",
   "metadata": {},
   "source": [
    "nombre_infected       891\n",
    "nombre_sain          2024\n",
    "nombre_exposed        495\n",
    "nombre_recovered    16590\n",
    "Name: 471, dtype: int64"
   ]
  },
  {
   "cell_type": "markdown",
   "id": "989f65b0",
   "metadata": {},
   "source": [
    "nombre_infected       887\n",
    "nombre_sain          2037\n",
    "nombre_exposed        487\n",
    "nombre_recovered    16589\n",
    "Name: 472, dtype: int64"
   ]
  },
  {
   "cell_type": "markdown",
   "id": "86001834",
   "metadata": {},
   "source": [
    "nombre_infected       889\n",
    "nombre_sain          2045\n",
    "nombre_exposed        474\n",
    "nombre_recovered    16592\n",
    "Name: 473, dtype: int64"
   ]
  },
  {
   "cell_type": "markdown",
   "id": "676c311b",
   "metadata": {},
   "source": [
    "nombre_infected       916\n",
    "nombre_sain          2062\n",
    "nombre_exposed        460\n",
    "nombre_recovered    16562\n",
    "Name: 474, dtype: int64"
   ]
  },
  {
   "cell_type": "markdown",
   "id": "65c43c42",
   "metadata": {},
   "source": [
    "nombre_infected       896\n",
    "nombre_sain          2067\n",
    "nombre_exposed        467\n",
    "nombre_recovered    16570\n",
    "Name: 475, dtype: int64"
   ]
  },
  {
   "cell_type": "markdown",
   "id": "6eaf818d",
   "metadata": {},
   "source": [
    "nombre_infected       888\n",
    "nombre_sain          2088\n",
    "nombre_exposed        456\n",
    "nombre_recovered    16568\n",
    "Name: 476, dtype: int64"
   ]
  },
  {
   "cell_type": "markdown",
   "id": "de199a39",
   "metadata": {},
   "source": [
    "nombre_infected       889\n",
    "nombre_sain          2087\n",
    "nombre_exposed        469\n",
    "nombre_recovered    16555\n",
    "Name: 477, dtype: int64"
   ]
  },
  {
   "cell_type": "markdown",
   "id": "3c4b0e42",
   "metadata": {},
   "source": [
    "nombre_infected       865\n",
    "nombre_sain          2112\n",
    "nombre_exposed        469\n",
    "nombre_recovered    16554\n",
    "Name: 478, dtype: int64"
   ]
  },
  {
   "cell_type": "markdown",
   "id": "c2a334e6",
   "metadata": {},
   "source": [
    "nombre_infected       863\n",
    "nombre_sain          2122\n",
    "nombre_exposed        478\n",
    "nombre_recovered    16537\n",
    "Name: 479, dtype: int64"
   ]
  },
  {
   "cell_type": "markdown",
   "id": "a926604d",
   "metadata": {},
   "source": [
    "nombre_infected       865\n",
    "nombre_sain          2130\n",
    "nombre_exposed        495\n",
    "nombre_recovered    16510\n",
    "Name: 480, dtype: int64"
   ]
  },
  {
   "cell_type": "markdown",
   "id": "6cb8945b",
   "metadata": {},
   "source": [
    "nombre_infected       860\n",
    "nombre_sain          2162\n",
    "nombre_exposed        496\n",
    "nombre_recovered    16482\n",
    "Name: 481, dtype: int64"
   ]
  },
  {
   "cell_type": "markdown",
   "id": "6f6792dc",
   "metadata": {},
   "source": [
    "nombre_infected       863\n",
    "nombre_sain          2181\n",
    "nombre_exposed        499\n",
    "nombre_recovered    16457\n",
    "Name: 482, dtype: int64"
   ]
  },
  {
   "cell_type": "markdown",
   "id": "aa4ac64f",
   "metadata": {},
   "source": [
    "nombre_infected       891\n",
    "nombre_sain          2205\n",
    "nombre_exposed        495\n",
    "nombre_recovered    16409\n",
    "Name: 483, dtype: int64"
   ]
  },
  {
   "cell_type": "markdown",
   "id": "3d671075",
   "metadata": {},
   "source": [
    "nombre_infected       924\n",
    "nombre_sain          2222\n",
    "nombre_exposed        487\n",
    "nombre_recovered    16367\n",
    "Name: 484, dtype: int64"
   ]
  },
  {
   "cell_type": "markdown",
   "id": "c1ececf3",
   "metadata": {},
   "source": [
    "nombre_infected       909\n",
    "nombre_sain          2218\n",
    "nombre_exposed        512\n",
    "nombre_recovered    16361\n",
    "Name: 485, dtype: int64"
   ]
  },
  {
   "cell_type": "markdown",
   "id": "f70bcb60",
   "metadata": {},
   "source": [
    "nombre_infected       900\n",
    "nombre_sain          2237\n",
    "nombre_exposed        516\n",
    "nombre_recovered    16347\n",
    "Name: 486, dtype: int64"
   ]
  },
  {
   "cell_type": "markdown",
   "id": "97755d8c",
   "metadata": {},
   "source": [
    "nombre_infected       891\n",
    "nombre_sain          2263\n",
    "nombre_exposed        526\n",
    "nombre_recovered    16320\n",
    "Name: 487, dtype: int64"
   ]
  },
  {
   "cell_type": "markdown",
   "id": "e8001bb9",
   "metadata": {},
   "source": [
    "nombre_infected       902\n",
    "nombre_sain          2277\n",
    "nombre_exposed        527\n",
    "nombre_recovered    16294\n",
    "Name: 488, dtype: int64"
   ]
  },
  {
   "cell_type": "markdown",
   "id": "6ce9de01",
   "metadata": {},
   "source": [
    "nombre_infected       920\n",
    "nombre_sain          2285\n",
    "nombre_exposed        522\n",
    "nombre_recovered    16273\n",
    "Name: 489, dtype: int64"
   ]
  },
  {
   "cell_type": "markdown",
   "id": "2d117c86",
   "metadata": {},
   "source": [
    "nombre_infected       942\n",
    "nombre_sain          2299\n",
    "nombre_exposed        489\n",
    "nombre_recovered    16270\n",
    "Name: 490, dtype: int64"
   ]
  },
  {
   "cell_type": "markdown",
   "id": "01911361",
   "metadata": {},
   "source": [
    "nombre_infected       938\n",
    "nombre_sain          2297\n",
    "nombre_exposed        506\n",
    "nombre_recovered    16259\n",
    "Name: 491, dtype: int64"
   ]
  },
  {
   "cell_type": "markdown",
   "id": "ee27b5d4",
   "metadata": {},
   "source": [
    "nombre_infected       952\n",
    "nombre_sain          2294\n",
    "nombre_exposed        532\n",
    "nombre_recovered    16222\n",
    "Name: 492, dtype: int64"
   ]
  },
  {
   "cell_type": "markdown",
   "id": "e14058f5",
   "metadata": {},
   "source": [
    "nombre_infected       969\n",
    "nombre_sain          2303\n",
    "nombre_exposed        538\n",
    "nombre_recovered    16190\n",
    "Name: 493, dtype: int64"
   ]
  },
  {
   "cell_type": "markdown",
   "id": "56f31e4d",
   "metadata": {},
   "source": [
    "nombre_infected       961\n",
    "nombre_sain          2268\n",
    "nombre_exposed        587\n",
    "nombre_recovered    16184\n",
    "Name: 494, dtype: int64"
   ]
  },
  {
   "cell_type": "markdown",
   "id": "0199a33d",
   "metadata": {},
   "source": [
    "nombre_infected       965\n",
    "nombre_sain          2244\n",
    "nombre_exposed        598\n",
    "nombre_recovered    16193\n",
    "Name: 495, dtype: int64"
   ]
  },
  {
   "cell_type": "markdown",
   "id": "167ff52e",
   "metadata": {},
   "source": [
    "nombre_infected      1012\n",
    "nombre_sain          2261\n",
    "nombre_exposed        575\n",
    "nombre_recovered    16152\n",
    "Name: 496, dtype: int64"
   ]
  },
  {
   "cell_type": "markdown",
   "id": "ee2f4656",
   "metadata": {},
   "source": [
    "nombre_infected      1040\n",
    "nombre_sain          2258\n",
    "nombre_exposed        592\n",
    "nombre_recovered    16110\n",
    "Name: 497, dtype: int64"
   ]
  },
  {
   "cell_type": "markdown",
   "id": "dc629c0d",
   "metadata": {},
   "source": [
    "nombre_infected      1073\n",
    "nombre_sain          2225\n",
    "nombre_exposed        617\n",
    "nombre_recovered    16085\n",
    "Name: 498, dtype: int64"
   ]
  },
  {
   "cell_type": "markdown",
   "id": "7a3200b2",
   "metadata": {},
   "source": [
    "nombre_infected      1094\n",
    "nombre_sain          2251\n",
    "nombre_exposed        614\n",
    "nombre_recovered    16041\n",
    "Name: 499, dtype: int64"
   ]
  },
  {
   "cell_type": "markdown",
   "id": "58c3fec6",
   "metadata": {},
   "source": [
    "nombre_infected      1143\n",
    "nombre_sain          2257\n",
    "nombre_exposed        603\n",
    "nombre_recovered    15997\n",
    "Name: 500, dtype: int64"
   ]
  },
  {
   "cell_type": "markdown",
   "id": "6ca663a1",
   "metadata": {},
   "source": [
    "nombre_infected      1163\n",
    "nombre_sain          2242\n",
    "nombre_exposed        625\n",
    "nombre_recovered    15970\n",
    "Name: 501, dtype: int64"
   ]
  },
  {
   "cell_type": "markdown",
   "id": "d1adace4",
   "metadata": {},
   "source": [
    "nombre_infected      1163\n",
    "nombre_sain          2239\n",
    "nombre_exposed        628\n",
    "nombre_recovered    15970\n",
    "Name: 502, dtype: int64"
   ]
  },
  {
   "cell_type": "markdown",
   "id": "256b6009",
   "metadata": {},
   "source": [
    "nombre_infected      1187\n",
    "nombre_sain          2214\n",
    "nombre_exposed        620\n",
    "nombre_recovered    15979\n",
    "Name: 503, dtype: int64"
   ]
  },
  {
   "cell_type": "markdown",
   "id": "f3e029b6",
   "metadata": {},
   "source": [
    "nombre_infected      1217\n",
    "nombre_sain          2205\n",
    "nombre_exposed        621\n",
    "nombre_recovered    15957\n",
    "Name: 504, dtype: int64"
   ]
  },
  {
   "cell_type": "markdown",
   "id": "0d9be75d",
   "metadata": {},
   "source": [
    "nombre_infected      1225\n",
    "nombre_sain          2160\n",
    "nombre_exposed        643\n",
    "nombre_recovered    15972\n",
    "Name: 505, dtype: int64"
   ]
  },
  {
   "cell_type": "markdown",
   "id": "2ab9baa3",
   "metadata": {},
   "source": [
    "nombre_infected      1214\n",
    "nombre_sain          2141\n",
    "nombre_exposed        665\n",
    "nombre_recovered    15980\n",
    "Name: 506, dtype: int64"
   ]
  },
  {
   "cell_type": "markdown",
   "id": "42c289ab",
   "metadata": {},
   "source": [
    "nombre_infected      1229\n",
    "nombre_sain          2114\n",
    "nombre_exposed        665\n",
    "nombre_recovered    15992\n",
    "Name: 507, dtype: int64"
   ]
  },
  {
   "cell_type": "markdown",
   "id": "5c1c0a7c",
   "metadata": {},
   "source": [
    "nombre_infected      1249\n",
    "nombre_sain          2121\n",
    "nombre_exposed        640\n",
    "nombre_recovered    15990\n",
    "Name: 508, dtype: int64"
   ]
  },
  {
   "cell_type": "markdown",
   "id": "a304b83b",
   "metadata": {},
   "source": [
    "nombre_infected      1281\n",
    "nombre_sain          2113\n",
    "nombre_exposed        620\n",
    "nombre_recovered    15986\n",
    "Name: 509, dtype: int64"
   ]
  },
  {
   "cell_type": "markdown",
   "id": "dcf4749e",
   "metadata": {},
   "source": [
    "nombre_infected      1298\n",
    "nombre_sain          2069\n",
    "nombre_exposed        632\n",
    "nombre_recovered    16001\n",
    "Name: 510, dtype: int64"
   ]
  },
  {
   "cell_type": "markdown",
   "id": "acd571b6",
   "metadata": {},
   "source": [
    "nombre_infected      1286\n",
    "nombre_sain          2060\n",
    "nombre_exposed        658\n",
    "nombre_recovered    15996\n",
    "Name: 511, dtype: int64"
   ]
  },
  {
   "cell_type": "markdown",
   "id": "abc8fa1c",
   "metadata": {},
   "source": [
    "nombre_infected      1292\n",
    "nombre_sain          2028\n",
    "nombre_exposed        670\n",
    "nombre_recovered    16010\n",
    "Name: 512, dtype: int64"
   ]
  },
  {
   "cell_type": "markdown",
   "id": "095e1740",
   "metadata": {},
   "source": [
    "nombre_infected      1320\n",
    "nombre_sain          1992\n",
    "nombre_exposed        675\n",
    "nombre_recovered    16013\n",
    "Name: 513, dtype: int64"
   ]
  },
  {
   "cell_type": "markdown",
   "id": "bba161af",
   "metadata": {},
   "source": [
    "nombre_infected      1306\n",
    "nombre_sain          1971\n",
    "nombre_exposed        701\n",
    "nombre_recovered    16022\n",
    "Name: 514, dtype: int64"
   ]
  },
  {
   "cell_type": "markdown",
   "id": "54518e32",
   "metadata": {},
   "source": [
    "nombre_infected      1331\n",
    "nombre_sain          1933\n",
    "nombre_exposed        705\n",
    "nombre_recovered    16031\n",
    "Name: 515, dtype: int64"
   ]
  },
  {
   "cell_type": "markdown",
   "id": "aae1a774",
   "metadata": {},
   "source": [
    "nombre_infected      1374\n",
    "nombre_sain          1898\n",
    "nombre_exposed        678\n",
    "nombre_recovered    16050\n",
    "Name: 516, dtype: int64"
   ]
  },
  {
   "cell_type": "markdown",
   "id": "07dc03f5",
   "metadata": {},
   "source": [
    "nombre_infected      1367\n",
    "nombre_sain          1868\n",
    "nombre_exposed        687\n",
    "nombre_recovered    16078\n",
    "Name: 517, dtype: int64"
   ]
  },
  {
   "cell_type": "markdown",
   "id": "787a594c",
   "metadata": {},
   "source": [
    "nombre_infected      1363\n",
    "nombre_sain          1830\n",
    "nombre_exposed        695\n",
    "nombre_recovered    16112\n",
    "Name: 518, dtype: int64"
   ]
  },
  {
   "cell_type": "markdown",
   "id": "fa49d9da",
   "metadata": {},
   "source": [
    "nombre_infected      1368\n",
    "nombre_sain          1826\n",
    "nombre_exposed        657\n",
    "nombre_recovered    16149\n",
    "Name: 519, dtype: int64"
   ]
  },
  {
   "cell_type": "markdown",
   "id": "83312a9a",
   "metadata": {},
   "source": [
    "nombre_infected      1378\n",
    "nombre_sain          1775\n",
    "nombre_exposed        651\n",
    "nombre_recovered    16196\n",
    "Name: 520, dtype: int64"
   ]
  },
  {
   "cell_type": "markdown",
   "id": "c360a965",
   "metadata": {},
   "source": [
    "nombre_infected      1365\n",
    "nombre_sain          1742\n",
    "nombre_exposed        636\n",
    "nombre_recovered    16257\n",
    "Name: 521, dtype: int64"
   ]
  },
  {
   "cell_type": "markdown",
   "id": "91565969",
   "metadata": {},
   "source": [
    "nombre_infected      1354\n",
    "nombre_sain          1730\n",
    "nombre_exposed        632\n",
    "nombre_recovered    16284\n",
    "Name: 522, dtype: int64"
   ]
  },
  {
   "cell_type": "markdown",
   "id": "508d60e7",
   "metadata": {},
   "source": [
    "nombre_infected      1326\n",
    "nombre_sain          1720\n",
    "nombre_exposed        634\n",
    "nombre_recovered    16320\n",
    "Name: 523, dtype: int64"
   ]
  },
  {
   "cell_type": "markdown",
   "id": "95d35e3b",
   "metadata": {},
   "source": [
    "nombre_infected      1329\n",
    "nombre_sain          1684\n",
    "nombre_exposed        614\n",
    "nombre_recovered    16373\n",
    "Name: 524, dtype: int64"
   ]
  },
  {
   "cell_type": "markdown",
   "id": "a1bf9416",
   "metadata": {},
   "source": [
    "nombre_infected      1323\n",
    "nombre_sain          1649\n",
    "nombre_exposed        602\n",
    "nombre_recovered    16426\n",
    "Name: 525, dtype: int64"
   ]
  },
  {
   "cell_type": "markdown",
   "id": "283c8c04",
   "metadata": {},
   "source": [
    "nombre_infected      1302\n",
    "nombre_sain          1631\n",
    "nombre_exposed        595\n",
    "nombre_recovered    16472\n",
    "Name: 526, dtype: int64"
   ]
  },
  {
   "cell_type": "markdown",
   "id": "75ffd11d",
   "metadata": {},
   "source": [
    "nombre_infected      1281\n",
    "nombre_sain          1610\n",
    "nombre_exposed        577\n",
    "nombre_recovered    16532\n",
    "Name: 527, dtype: int64"
   ]
  },
  {
   "cell_type": "markdown",
   "id": "90bdd53b",
   "metadata": {},
   "source": [
    "nombre_infected      1268\n",
    "nombre_sain          1611\n",
    "nombre_exposed        572\n",
    "nombre_recovered    16549\n",
    "Name: 528, dtype: int64"
   ]
  },
  {
   "cell_type": "markdown",
   "id": "8c4ea0d9",
   "metadata": {},
   "source": [
    "nombre_infected      1268\n",
    "nombre_sain          1600\n",
    "nombre_exposed        549\n",
    "nombre_recovered    16583\n",
    "Name: 529, dtype: int64"
   ]
  },
  {
   "cell_type": "markdown",
   "id": "b809979c",
   "metadata": {},
   "source": [
    "nombre_infected      1244\n",
    "nombre_sain          1573\n",
    "nombre_exposed        563\n",
    "nombre_recovered    16620\n",
    "Name: 530, dtype: int64"
   ]
  },
  {
   "cell_type": "markdown",
   "id": "fff4b703",
   "metadata": {},
   "source": [
    "nombre_infected      1208\n",
    "nombre_sain          1567\n",
    "nombre_exposed        551\n",
    "nombre_recovered    16674\n",
    "Name: 531, dtype: int64"
   ]
  },
  {
   "cell_type": "markdown",
   "id": "db4675a3",
   "metadata": {},
   "source": [
    "nombre_infected      1208\n",
    "nombre_sain          1583\n",
    "nombre_exposed        521\n",
    "nombre_recovered    16688\n",
    "Name: 532, dtype: int64"
   ]
  },
  {
   "cell_type": "markdown",
   "id": "6bdd0ce2",
   "metadata": {},
   "source": [
    "nombre_infected      1175\n",
    "nombre_sain          1573\n",
    "nombre_exposed        533\n",
    "nombre_recovered    16719\n",
    "Name: 533, dtype: int64"
   ]
  },
  {
   "cell_type": "markdown",
   "id": "50ef2993",
   "metadata": {},
   "source": [
    "nombre_infected      1165\n",
    "nombre_sain          1595\n",
    "nombre_exposed        515\n",
    "nombre_recovered    16725\n",
    "Name: 534, dtype: int64"
   ]
  },
  {
   "cell_type": "markdown",
   "id": "6b335f4b",
   "metadata": {},
   "source": [
    "nombre_infected      1147\n",
    "nombre_sain          1609\n",
    "nombre_exposed        498\n",
    "nombre_recovered    16746\n",
    "Name: 535, dtype: int64"
   ]
  },
  {
   "cell_type": "markdown",
   "id": "851e0657",
   "metadata": {},
   "source": [
    "nombre_infected      1149\n",
    "nombre_sain          1665\n",
    "nombre_exposed        481\n",
    "nombre_recovered    16705\n",
    "Name: 536, dtype: int64"
   ]
  },
  {
   "cell_type": "markdown",
   "id": "ddaadda9",
   "metadata": {},
   "source": [
    "nombre_infected      1108\n",
    "nombre_sain          1690\n",
    "nombre_exposed        486\n",
    "nombre_recovered    16716\n",
    "Name: 537, dtype: int64"
   ]
  },
  {
   "cell_type": "markdown",
   "id": "9d4f6b24",
   "metadata": {},
   "source": [
    "nombre_infected      1080\n",
    "nombre_sain          1714\n",
    "nombre_exposed        484\n",
    "nombre_recovered    16722\n",
    "Name: 538, dtype: int64"
   ]
  },
  {
   "cell_type": "markdown",
   "id": "e7eb56c7",
   "metadata": {},
   "source": [
    "nombre_infected      1061\n",
    "nombre_sain          1713\n",
    "nombre_exposed        500\n",
    "nombre_recovered    16726\n",
    "Name: 539, dtype: int64"
   ]
  },
  {
   "cell_type": "markdown",
   "id": "c6fc9a2b",
   "metadata": {},
   "source": [
    "nombre_infected      1057\n",
    "nombre_sain          1737\n",
    "nombre_exposed        500\n",
    "nombre_recovered    16706\n",
    "Name: 540, dtype: int64"
   ]
  },
  {
   "cell_type": "markdown",
   "id": "60754526",
   "metadata": {},
   "source": [
    "nombre_infected      1072\n",
    "nombre_sain          1773\n",
    "nombre_exposed        489\n",
    "nombre_recovered    16666\n",
    "Name: 541, dtype: int64"
   ]
  },
  {
   "cell_type": "markdown",
   "id": "b441faf8",
   "metadata": {},
   "source": [
    "nombre_infected      1063\n",
    "nombre_sain          1764\n",
    "nombre_exposed        503\n",
    "nombre_recovered    16670\n",
    "Name: 542, dtype: int64"
   ]
  },
  {
   "cell_type": "markdown",
   "id": "7067942e",
   "metadata": {},
   "source": [
    "nombre_infected      1067\n",
    "nombre_sain          1805\n",
    "nombre_exposed        478\n",
    "nombre_recovered    16650\n",
    "Name: 543, dtype: int64"
   ]
  },
  {
   "cell_type": "markdown",
   "id": "6cbae4c9",
   "metadata": {},
   "source": [
    "nombre_infected      1050\n",
    "nombre_sain          1817\n",
    "nombre_exposed        498\n",
    "nombre_recovered    16635\n",
    "Name: 544, dtype: int64"
   ]
  },
  {
   "cell_type": "markdown",
   "id": "385fc1a7",
   "metadata": {},
   "source": [
    "nombre_infected      1043\n",
    "nombre_sain          1801\n",
    "nombre_exposed        513\n",
    "nombre_recovered    16643\n",
    "Name: 545, dtype: int64"
   ]
  },
  {
   "cell_type": "markdown",
   "id": "35e4c0e4",
   "metadata": {},
   "source": [
    "nombre_infected      1078\n",
    "nombre_sain          1816\n",
    "nombre_exposed        499\n",
    "nombre_recovered    16607\n",
    "Name: 546, dtype: int64"
   ]
  },
  {
   "cell_type": "markdown",
   "id": "6f6a6112",
   "metadata": {},
   "source": [
    "nombre_infected      1060\n",
    "nombre_sain          1816\n",
    "nombre_exposed        516\n",
    "nombre_recovered    16608\n",
    "Name: 547, dtype: int64"
   ]
  },
  {
   "cell_type": "markdown",
   "id": "fd2731b0",
   "metadata": {},
   "source": [
    "nombre_infected      1064\n",
    "nombre_sain          1805\n",
    "nombre_exposed        523\n",
    "nombre_recovered    16608\n",
    "Name: 548, dtype: int64"
   ]
  },
  {
   "cell_type": "markdown",
   "id": "70d492b7",
   "metadata": {},
   "source": [
    "nombre_infected      1092\n",
    "nombre_sain          1804\n",
    "nombre_exposed        523\n",
    "nombre_recovered    16581\n",
    "Name: 549, dtype: int64"
   ]
  },
  {
   "cell_type": "markdown",
   "id": "e72e82ab",
   "metadata": {},
   "source": [
    "nombre_infected      1080\n",
    "nombre_sain          1804\n",
    "nombre_exposed        522\n",
    "nombre_recovered    16594\n",
    "Name: 550, dtype: int64"
   ]
  },
  {
   "cell_type": "markdown",
   "id": "61a5f87f",
   "metadata": {},
   "source": [
    "nombre_infected      1093\n",
    "nombre_sain          1824\n",
    "nombre_exposed        495\n",
    "nombre_recovered    16588\n",
    "Name: 551, dtype: int64"
   ]
  },
  {
   "cell_type": "markdown",
   "id": "76a8b0a8",
   "metadata": {},
   "source": [
    "nombre_infected      1079\n",
    "nombre_sain          1794\n",
    "nombre_exposed        529\n",
    "nombre_recovered    16598\n",
    "Name: 552, dtype: int64"
   ]
  },
  {
   "cell_type": "markdown",
   "id": "98cd6e20",
   "metadata": {},
   "source": [
    "nombre_infected      1098\n",
    "nombre_sain          1776\n",
    "nombre_exposed        522\n",
    "nombre_recovered    16604\n",
    "Name: 553, dtype: int64"
   ]
  },
  {
   "cell_type": "markdown",
   "id": "66c4666f",
   "metadata": {},
   "source": [
    "nombre_infected      1127\n",
    "nombre_sain          1756\n",
    "nombre_exposed        536\n",
    "nombre_recovered    16581\n",
    "Name: 554, dtype: int64"
   ]
  },
  {
   "cell_type": "markdown",
   "id": "02163a40",
   "metadata": {},
   "source": [
    "nombre_infected      1114\n",
    "nombre_sain          1748\n",
    "nombre_exposed        542\n",
    "nombre_recovered    16596\n",
    "Name: 555, dtype: int64"
   ]
  },
  {
   "cell_type": "markdown",
   "id": "250fa4cb",
   "metadata": {},
   "source": [
    "nombre_infected      1106\n",
    "nombre_sain          1751\n",
    "nombre_exposed        528\n",
    "nombre_recovered    16615\n",
    "Name: 556, dtype: int64"
   ]
  },
  {
   "cell_type": "markdown",
   "id": "86528599",
   "metadata": {},
   "source": [
    "nombre_infected      1125\n",
    "nombre_sain          1739\n",
    "nombre_exposed        506\n",
    "nombre_recovered    16630\n",
    "Name: 557, dtype: int64"
   ]
  },
  {
   "cell_type": "markdown",
   "id": "a1c1320f",
   "metadata": {},
   "source": [
    "nombre_infected      1121\n",
    "nombre_sain          1743\n",
    "nombre_exposed        499\n",
    "nombre_recovered    16637\n",
    "Name: 558, dtype: int64"
   ]
  },
  {
   "cell_type": "markdown",
   "id": "d9009782",
   "metadata": {},
   "source": [
    "nombre_infected      1108\n",
    "nombre_sain          1726\n",
    "nombre_exposed        503\n",
    "nombre_recovered    16663\n",
    "Name: 559, dtype: int64"
   ]
  },
  {
   "cell_type": "markdown",
   "id": "061ddb81",
   "metadata": {},
   "source": [
    "nombre_infected      1119\n",
    "nombre_sain          1730\n",
    "nombre_exposed        501\n",
    "nombre_recovered    16650\n",
    "Name: 560, dtype: int64"
   ]
  },
  {
   "cell_type": "markdown",
   "id": "739c3700",
   "metadata": {},
   "source": [
    "nombre_infected      1101\n",
    "nombre_sain          1735\n",
    "nombre_exposed        519\n",
    "nombre_recovered    16645\n",
    "Name: 561, dtype: int64"
   ]
  },
  {
   "cell_type": "markdown",
   "id": "ce3da287",
   "metadata": {},
   "source": [
    "nombre_infected      1080\n",
    "nombre_sain          1729\n",
    "nombre_exposed        529\n",
    "nombre_recovered    16662\n",
    "Name: 562, dtype: int64"
   ]
  },
  {
   "cell_type": "markdown",
   "id": "ecb168c5",
   "metadata": {},
   "source": [
    "nombre_infected      1080\n",
    "nombre_sain          1730\n",
    "nombre_exposed        518\n",
    "nombre_recovered    16672\n",
    "Name: 563, dtype: int64"
   ]
  },
  {
   "cell_type": "markdown",
   "id": "9f177334",
   "metadata": {},
   "source": [
    "nombre_infected      1087\n",
    "nombre_sain          1705\n",
    "nombre_exposed        516\n",
    "nombre_recovered    16692\n",
    "Name: 564, dtype: int64"
   ]
  },
  {
   "cell_type": "markdown",
   "id": "482619ed",
   "metadata": {},
   "source": [
    "nombre_infected      1075\n",
    "nombre_sain          1687\n",
    "nombre_exposed        518\n",
    "nombre_recovered    16720\n",
    "Name: 565, dtype: int64"
   ]
  },
  {
   "cell_type": "markdown",
   "id": "fd2e6541",
   "metadata": {},
   "source": [
    "nombre_infected      1074\n",
    "nombre_sain          1703\n",
    "nombre_exposed        503\n",
    "nombre_recovered    16720\n",
    "Name: 566, dtype: int64"
   ]
  },
  {
   "cell_type": "markdown",
   "id": "ff51df4f",
   "metadata": {},
   "source": [
    "nombre_infected      1083\n",
    "nombre_sain          1693\n",
    "nombre_exposed        494\n",
    "nombre_recovered    16730\n",
    "Name: 567, dtype: int64"
   ]
  },
  {
   "cell_type": "markdown",
   "id": "78ae1f6e",
   "metadata": {},
   "source": [
    "nombre_infected      1093\n",
    "nombre_sain          1685\n",
    "nombre_exposed        483\n",
    "nombre_recovered    16739\n",
    "Name: 568, dtype: int64"
   ]
  },
  {
   "cell_type": "markdown",
   "id": "21d639ac",
   "metadata": {},
   "source": [
    "nombre_infected      1061\n",
    "nombre_sain          1698\n",
    "nombre_exposed        479\n",
    "nombre_recovered    16762\n",
    "Name: 569, dtype: int64"
   ]
  },
  {
   "cell_type": "markdown",
   "id": "480d50cc",
   "metadata": {},
   "source": [
    "nombre_infected      1077\n",
    "nombre_sain          1702\n",
    "nombre_exposed        460\n",
    "nombre_recovered    16761\n",
    "Name: 570, dtype: int64"
   ]
  },
  {
   "cell_type": "markdown",
   "id": "2823758d",
   "metadata": {},
   "source": [
    "nombre_infected      1047\n",
    "nombre_sain          1702\n",
    "nombre_exposed        466\n",
    "nombre_recovered    16785\n",
    "Name: 571, dtype: int64"
   ]
  },
  {
   "cell_type": "markdown",
   "id": "caa87504",
   "metadata": {},
   "source": [
    "nombre_infected      1021\n",
    "nombre_sain          1696\n",
    "nombre_exposed        474\n",
    "nombre_recovered    16809\n",
    "Name: 572, dtype: int64"
   ]
  },
  {
   "cell_type": "markdown",
   "id": "79b5dadf",
   "metadata": {},
   "source": [
    "nombre_infected      1014\n",
    "nombre_sain          1716\n",
    "nombre_exposed        452\n",
    "nombre_recovered    16818\n",
    "Name: 573, dtype: int64"
   ]
  },
  {
   "cell_type": "markdown",
   "id": "da383612",
   "metadata": {},
   "source": [
    "nombre_infected       993\n",
    "nombre_sain          1722\n",
    "nombre_exposed        472\n",
    "nombre_recovered    16813\n",
    "Name: 574, dtype: int64"
   ]
  },
  {
   "cell_type": "markdown",
   "id": "53e5c910",
   "metadata": {},
   "source": [
    "nombre_infected       968\n",
    "nombre_sain          1712\n",
    "nombre_exposed        477\n",
    "nombre_recovered    16843\n",
    "Name: 575, dtype: int64"
   ]
  },
  {
   "cell_type": "markdown",
   "id": "54319cce",
   "metadata": {},
   "source": [
    "nombre_infected       988\n",
    "nombre_sain          1694\n",
    "nombre_exposed        471\n",
    "nombre_recovered    16847\n",
    "Name: 576, dtype: int64"
   ]
  },
  {
   "cell_type": "markdown",
   "id": "b5dab44a",
   "metadata": {},
   "source": [
    "nombre_infected       992\n",
    "nombre_sain          1707\n",
    "nombre_exposed        457\n",
    "nombre_recovered    16844\n",
    "Name: 577, dtype: int64"
   ]
  },
  {
   "cell_type": "markdown",
   "id": "42dd2837",
   "metadata": {},
   "source": [
    "nombre_infected       984\n",
    "nombre_sain          1711\n",
    "nombre_exposed        472\n",
    "nombre_recovered    16833\n",
    "Name: 578, dtype: int64"
   ]
  },
  {
   "cell_type": "markdown",
   "id": "709a46e4",
   "metadata": {},
   "source": [
    "nombre_infected       951\n",
    "nombre_sain          1701\n",
    "nombre_exposed        473\n",
    "nombre_recovered    16875\n",
    "Name: 579, dtype: int64"
   ]
  },
  {
   "cell_type": "markdown",
   "id": "608ddd75",
   "metadata": {},
   "source": [
    "nombre_infected       921\n",
    "nombre_sain          1693\n",
    "nombre_exposed        498\n",
    "nombre_recovered    16888\n",
    "Name: 580, dtype: int64"
   ]
  },
  {
   "cell_type": "markdown",
   "id": "dda79c51",
   "metadata": {},
   "source": [
    "nombre_infected       933\n",
    "nombre_sain          1700\n",
    "nombre_exposed        480\n",
    "nombre_recovered    16887\n",
    "Name: 581, dtype: int64"
   ]
  },
  {
   "cell_type": "markdown",
   "id": "e2222dda",
   "metadata": {},
   "source": [
    "nombre_infected       911\n",
    "nombre_sain          1716\n",
    "nombre_exposed        482\n",
    "nombre_recovered    16891\n",
    "Name: 582, dtype: int64"
   ]
  },
  {
   "cell_type": "markdown",
   "id": "17fa08cf",
   "metadata": {},
   "source": [
    "nombre_infected       908\n",
    "nombre_sain          1725\n",
    "nombre_exposed        463\n",
    "nombre_recovered    16904\n",
    "Name: 583, dtype: int64"
   ]
  },
  {
   "cell_type": "markdown",
   "id": "b723b0f7",
   "metadata": {},
   "source": [
    "nombre_infected       929\n",
    "nombre_sain          1722\n",
    "nombre_exposed        447\n",
    "nombre_recovered    16902\n",
    "Name: 584, dtype: int64"
   ]
  },
  {
   "cell_type": "markdown",
   "id": "ef251e1c",
   "metadata": {},
   "source": [
    "nombre_infected       952\n",
    "nombre_sain          1718\n",
    "nombre_exposed        453\n",
    "nombre_recovered    16877\n",
    "Name: 585, dtype: int64"
   ]
  },
  {
   "cell_type": "markdown",
   "id": "cebd410b",
   "metadata": {},
   "source": [
    "nombre_infected       936\n",
    "nombre_sain          1724\n",
    "nombre_exposed        445\n",
    "nombre_recovered    16895\n",
    "Name: 586, dtype: int64"
   ]
  },
  {
   "cell_type": "markdown",
   "id": "d706638b",
   "metadata": {},
   "source": [
    "nombre_infected       938\n",
    "nombre_sain          1717\n",
    "nombre_exposed        439\n",
    "nombre_recovered    16906\n",
    "Name: 587, dtype: int64"
   ]
  },
  {
   "cell_type": "markdown",
   "id": "89f33a01",
   "metadata": {},
   "source": [
    "nombre_infected       915\n",
    "nombre_sain          1724\n",
    "nombre_exposed        441\n",
    "nombre_recovered    16920\n",
    "Name: 588, dtype: int64"
   ]
  },
  {
   "cell_type": "markdown",
   "id": "02f186e4",
   "metadata": {},
   "source": [
    "nombre_infected       921\n",
    "nombre_sain          1729\n",
    "nombre_exposed        420\n",
    "nombre_recovered    16930\n",
    "Name: 589, dtype: int64"
   ]
  },
  {
   "cell_type": "markdown",
   "id": "390d650c",
   "metadata": {},
   "source": [
    "nombre_infected       889\n",
    "nombre_sain          1728\n",
    "nombre_exposed        447\n",
    "nombre_recovered    16936\n",
    "Name: 590, dtype: int64"
   ]
  },
  {
   "cell_type": "markdown",
   "id": "4b40e5d9",
   "metadata": {},
   "source": [
    "nombre_infected       882\n",
    "nombre_sain          1750\n",
    "nombre_exposed        457\n",
    "nombre_recovered    16911\n",
    "Name: 591, dtype: int64"
   ]
  },
  {
   "cell_type": "markdown",
   "id": "ff9a767a",
   "metadata": {},
   "source": [
    "nombre_infected       880\n",
    "nombre_sain          1767\n",
    "nombre_exposed        463\n",
    "nombre_recovered    16890\n",
    "Name: 592, dtype: int64"
   ]
  },
  {
   "cell_type": "markdown",
   "id": "a02889e6",
   "metadata": {},
   "source": [
    "nombre_infected       847\n",
    "nombre_sain          1764\n",
    "nombre_exposed        459\n",
    "nombre_recovered    16930\n",
    "Name: 593, dtype: int64"
   ]
  },
  {
   "cell_type": "markdown",
   "id": "5dd1f76c",
   "metadata": {},
   "source": [
    "nombre_infected       856\n",
    "nombre_sain          1787\n",
    "nombre_exposed        454\n",
    "nombre_recovered    16903\n",
    "Name: 594, dtype: int64"
   ]
  },
  {
   "cell_type": "markdown",
   "id": "f8f6e67c",
   "metadata": {},
   "source": [
    "nombre_infected       860\n",
    "nombre_sain          1810\n",
    "nombre_exposed        453\n",
    "nombre_recovered    16877\n",
    "Name: 595, dtype: int64"
   ]
  },
  {
   "cell_type": "markdown",
   "id": "890b2de2",
   "metadata": {},
   "source": [
    "nombre_infected       870\n",
    "nombre_sain          1826\n",
    "nombre_exposed        454\n",
    "nombre_recovered    16850\n",
    "Name: 596, dtype: int64"
   ]
  },
  {
   "cell_type": "markdown",
   "id": "211b8201",
   "metadata": {},
   "source": [
    "nombre_infected       875\n",
    "nombre_sain          1831\n",
    "nombre_exposed        456\n",
    "nombre_recovered    16838\n",
    "Name: 597, dtype: int64"
   ]
  },
  {
   "cell_type": "markdown",
   "id": "42c86d3d",
   "metadata": {},
   "source": [
    "nombre_infected       859\n",
    "nombre_sain          1857\n",
    "nombre_exposed        456\n",
    "nombre_recovered    16828\n",
    "Name: 598, dtype: int64"
   ]
  },
  {
   "cell_type": "markdown",
   "id": "91d4a800",
   "metadata": {},
   "source": [
    "nombre_infected       832\n",
    "nombre_sain          1858\n",
    "nombre_exposed        458\n",
    "nombre_recovered    16852\n",
    "Name: 599, dtype: int64"
   ]
  },
  {
   "cell_type": "markdown",
   "id": "1992ca4d",
   "metadata": {},
   "source": [
    "nombre_infected       834\n",
    "nombre_sain          1862\n",
    "nombre_exposed        447\n",
    "nombre_recovered    16857\n",
    "Name: 600, dtype: int64"
   ]
  },
  {
   "cell_type": "markdown",
   "id": "a35e475e",
   "metadata": {},
   "source": [
    "nombre_infected       818\n",
    "nombre_sain          1867\n",
    "nombre_exposed        455\n",
    "nombre_recovered    16860\n",
    "Name: 601, dtype: int64"
   ]
  },
  {
   "cell_type": "markdown",
   "id": "3e1ad85d",
   "metadata": {},
   "source": [
    "nombre_infected       809\n",
    "nombre_sain          1884\n",
    "nombre_exposed        441\n",
    "nombre_recovered    16866\n",
    "Name: 602, dtype: int64"
   ]
  },
  {
   "cell_type": "markdown",
   "id": "ea21c381",
   "metadata": {},
   "source": [
    "nombre_infected       803\n",
    "nombre_sain          1908\n",
    "nombre_exposed        451\n",
    "nombre_recovered    16838\n",
    "Name: 603, dtype: int64"
   ]
  },
  {
   "cell_type": "markdown",
   "id": "a0145ece",
   "metadata": {},
   "source": [
    "nombre_infected       813\n",
    "nombre_sain          1922\n",
    "nombre_exposed        439\n",
    "nombre_recovered    16826\n",
    "Name: 604, dtype: int64"
   ]
  },
  {
   "cell_type": "markdown",
   "id": "117c191f",
   "metadata": {},
   "source": [
    "nombre_infected       789\n",
    "nombre_sain          1939\n",
    "nombre_exposed        445\n",
    "nombre_recovered    16827\n",
    "Name: 605, dtype: int64"
   ]
  },
  {
   "cell_type": "markdown",
   "id": "fd9494d1",
   "metadata": {},
   "source": [
    "nombre_infected       778\n",
    "nombre_sain          1957\n",
    "nombre_exposed        453\n",
    "nombre_recovered    16812\n",
    "Name: 606, dtype: int64"
   ]
  },
  {
   "cell_type": "markdown",
   "id": "baffd8be",
   "metadata": {},
   "source": [
    "nombre_infected       782\n",
    "nombre_sain          1979\n",
    "nombre_exposed        447\n",
    "nombre_recovered    16792\n",
    "Name: 607, dtype: int64"
   ]
  },
  {
   "cell_type": "markdown",
   "id": "45aa8099",
   "metadata": {},
   "source": [
    "nombre_infected       787\n",
    "nombre_sain          1983\n",
    "nombre_exposed        451\n",
    "nombre_recovered    16779\n",
    "Name: 608, dtype: int64"
   ]
  },
  {
   "cell_type": "markdown",
   "id": "cae492e5",
   "metadata": {},
   "source": [
    "nombre_infected       791\n",
    "nombre_sain          2010\n",
    "nombre_exposed        446\n",
    "nombre_recovered    16753\n",
    "Name: 609, dtype: int64"
   ]
  },
  {
   "cell_type": "markdown",
   "id": "515a416b",
   "metadata": {},
   "source": [
    "nombre_infected       813\n",
    "nombre_sain          2026\n",
    "nombre_exposed        454\n",
    "nombre_recovered    16707\n",
    "Name: 610, dtype: int64"
   ]
  },
  {
   "cell_type": "markdown",
   "id": "36999caa",
   "metadata": {},
   "source": [
    "nombre_infected       814\n",
    "nombre_sain          2053\n",
    "nombre_exposed        428\n",
    "nombre_recovered    16705\n",
    "Name: 611, dtype: int64"
   ]
  },
  {
   "cell_type": "markdown",
   "id": "c5052fd1",
   "metadata": {},
   "source": [
    "nombre_infected       811\n",
    "nombre_sain          2059\n",
    "nombre_exposed        430\n",
    "nombre_recovered    16700\n",
    "Name: 612, dtype: int64"
   ]
  },
  {
   "cell_type": "markdown",
   "id": "cc0bbe44",
   "metadata": {},
   "source": [
    "nombre_infected       804\n",
    "nombre_sain          2099\n",
    "nombre_exposed        431\n",
    "nombre_recovered    16666\n",
    "Name: 613, dtype: int64"
   ]
  },
  {
   "cell_type": "markdown",
   "id": "8a4f041f",
   "metadata": {},
   "source": [
    "nombre_infected       776\n",
    "nombre_sain          2098\n",
    "nombre_exposed        466\n",
    "nombre_recovered    16660\n",
    "Name: 614, dtype: int64"
   ]
  },
  {
   "cell_type": "markdown",
   "id": "185e54b4",
   "metadata": {},
   "source": [
    "nombre_infected       794\n",
    "nombre_sain          2110\n",
    "nombre_exposed        466\n",
    "nombre_recovered    16630\n",
    "Name: 615, dtype: int64"
   ]
  },
  {
   "cell_type": "markdown",
   "id": "83ea27bf",
   "metadata": {},
   "source": [
    "nombre_infected       807\n",
    "nombre_sain          2157\n",
    "nombre_exposed        455\n",
    "nombre_recovered    16581\n",
    "Name: 616, dtype: int64"
   ]
  },
  {
   "cell_type": "markdown",
   "id": "a261c620",
   "metadata": {},
   "source": [
    "nombre_infected       841\n",
    "nombre_sain          2170\n",
    "nombre_exposed        457\n",
    "nombre_recovered    16532\n",
    "Name: 617, dtype: int64"
   ]
  },
  {
   "cell_type": "markdown",
   "id": "6038bae8",
   "metadata": {},
   "source": [
    "nombre_infected       864\n",
    "nombre_sain          2172\n",
    "nombre_exposed        466\n",
    "nombre_recovered    16498\n",
    "Name: 618, dtype: int64"
   ]
  },
  {
   "cell_type": "markdown",
   "id": "4b04b844",
   "metadata": {},
   "source": [
    "nombre_infected       873\n",
    "nombre_sain          2193\n",
    "nombre_exposed        463\n",
    "nombre_recovered    16471\n",
    "Name: 619, dtype: int64"
   ]
  },
  {
   "cell_type": "markdown",
   "id": "e2af0bec",
   "metadata": {},
   "source": [
    "nombre_infected       874\n",
    "nombre_sain          2179\n",
    "nombre_exposed        473\n",
    "nombre_recovered    16474\n",
    "Name: 620, dtype: int64"
   ]
  },
  {
   "cell_type": "markdown",
   "id": "84ed3161",
   "metadata": {},
   "source": [
    "nombre_infected       869\n",
    "nombre_sain          2216\n",
    "nombre_exposed        468\n",
    "nombre_recovered    16447\n",
    "Name: 621, dtype: int64"
   ]
  },
  {
   "cell_type": "markdown",
   "id": "c9165bca",
   "metadata": {},
   "source": [
    "nombre_infected       872\n",
    "nombre_sain          2214\n",
    "nombre_exposed        478\n",
    "nombre_recovered    16436\n",
    "Name: 622, dtype: int64"
   ]
  },
  {
   "cell_type": "markdown",
   "id": "944faa39",
   "metadata": {},
   "source": [
    "nombre_infected       897\n",
    "nombre_sain          2223\n",
    "nombre_exposed        490\n",
    "nombre_recovered    16390\n",
    "Name: 623, dtype: int64"
   ]
  },
  {
   "cell_type": "markdown",
   "id": "a60395f1",
   "metadata": {},
   "source": [
    "nombre_infected       912\n",
    "nombre_sain          2216\n",
    "nombre_exposed        504\n",
    "nombre_recovered    16368\n",
    "Name: 624, dtype: int64"
   ]
  },
  {
   "cell_type": "markdown",
   "id": "2f200fc1",
   "metadata": {},
   "source": [
    "nombre_infected       933\n",
    "nombre_sain          2215\n",
    "nombre_exposed        489\n",
    "nombre_recovered    16363\n",
    "Name: 625, dtype: int64"
   ]
  },
  {
   "cell_type": "markdown",
   "id": "04ad0c8e",
   "metadata": {},
   "source": [
    "nombre_infected       965\n",
    "nombre_sain          2204\n",
    "nombre_exposed        481\n",
    "nombre_recovered    16350\n",
    "Name: 626, dtype: int64"
   ]
  },
  {
   "cell_type": "markdown",
   "id": "5c80cbaa",
   "metadata": {},
   "source": [
    "nombre_infected       946\n",
    "nombre_sain          2207\n",
    "nombre_exposed        499\n",
    "nombre_recovered    16348\n",
    "Name: 627, dtype: int64"
   ]
  },
  {
   "cell_type": "markdown",
   "id": "3a72319f",
   "metadata": {},
   "source": [
    "nombre_infected       949\n",
    "nombre_sain          2197\n",
    "nombre_exposed        517\n",
    "nombre_recovered    16337\n",
    "Name: 628, dtype: int64"
   ]
  },
  {
   "cell_type": "markdown",
   "id": "31d1c380",
   "metadata": {},
   "source": [
    "nombre_infected       942\n",
    "nombre_sain          2205\n",
    "nombre_exposed        514\n",
    "nombre_recovered    16339\n",
    "Name: 629, dtype: int64"
   ]
  },
  {
   "cell_type": "markdown",
   "id": "5de8976f",
   "metadata": {},
   "source": [
    "nombre_infected       976\n",
    "nombre_sain          2193\n",
    "nombre_exposed        500\n",
    "nombre_recovered    16331\n",
    "Name: 630, dtype: int64"
   ]
  },
  {
   "cell_type": "markdown",
   "id": "c7389e84",
   "metadata": {},
   "source": [
    "nombre_infected       987\n",
    "nombre_sain          2187\n",
    "nombre_exposed        518\n",
    "nombre_recovered    16308\n",
    "Name: 631, dtype: int64"
   ]
  },
  {
   "cell_type": "markdown",
   "id": "f42e1a7a",
   "metadata": {},
   "source": [
    "nombre_infected      1008\n",
    "nombre_sain          2177\n",
    "nombre_exposed        511\n",
    "nombre_recovered    16304\n",
    "Name: 632, dtype: int64"
   ]
  },
  {
   "cell_type": "markdown",
   "id": "7bf9b3a9",
   "metadata": {},
   "source": [
    "nombre_infected      1008\n",
    "nombre_sain          2170\n",
    "nombre_exposed        525\n",
    "nombre_recovered    16297\n",
    "Name: 633, dtype: int64"
   ]
  },
  {
   "cell_type": "markdown",
   "id": "daeb4359",
   "metadata": {},
   "source": [
    "nombre_infected      1004\n",
    "nombre_sain          2148\n",
    "nombre_exposed        536\n",
    "nombre_recovered    16312\n",
    "Name: 634, dtype: int64"
   ]
  },
  {
   "cell_type": "markdown",
   "id": "dae6bf14",
   "metadata": {},
   "source": [
    "nombre_infected       992\n",
    "nombre_sain          2137\n",
    "nombre_exposed        552\n",
    "nombre_recovered    16319\n",
    "Name: 635, dtype: int64"
   ]
  },
  {
   "cell_type": "markdown",
   "id": "484e9dcd",
   "metadata": {},
   "source": [
    "nombre_infected       995\n",
    "nombre_sain          2133\n",
    "nombre_exposed        565\n",
    "nombre_recovered    16307\n",
    "Name: 636, dtype: int64"
   ]
  },
  {
   "cell_type": "markdown",
   "id": "c399f40c",
   "metadata": {},
   "source": [
    "nombre_infected      1013\n",
    "nombre_sain          2099\n",
    "nombre_exposed        570\n",
    "nombre_recovered    16318\n",
    "Name: 637, dtype: int64"
   ]
  },
  {
   "cell_type": "markdown",
   "id": "d1e6adca",
   "metadata": {},
   "source": [
    "nombre_infected      1026\n",
    "nombre_sain          2081\n",
    "nombre_exposed        591\n",
    "nombre_recovered    16302\n",
    "Name: 638, dtype: int64"
   ]
  },
  {
   "cell_type": "markdown",
   "id": "aa69f5c8",
   "metadata": {},
   "source": [
    "nombre_infected      1050\n",
    "nombre_sain          2080\n",
    "nombre_exposed        579\n",
    "nombre_recovered    16291\n",
    "Name: 639, dtype: int64"
   ]
  },
  {
   "cell_type": "markdown",
   "id": "273697cc",
   "metadata": {},
   "source": [
    "nombre_infected      1064\n",
    "nombre_sain          2064\n",
    "nombre_exposed        595\n",
    "nombre_recovered    16277\n",
    "Name: 640, dtype: int64"
   ]
  },
  {
   "cell_type": "markdown",
   "id": "6741e763",
   "metadata": {},
   "source": [
    "nombre_infected      1051\n",
    "nombre_sain          2038\n",
    "nombre_exposed        613\n",
    "nombre_recovered    16298\n",
    "Name: 641, dtype: int64"
   ]
  },
  {
   "cell_type": "markdown",
   "id": "f2b6fb42",
   "metadata": {},
   "source": [
    "nombre_infected      1041\n",
    "nombre_sain          2002\n",
    "nombre_exposed        624\n",
    "nombre_recovered    16333\n",
    "Name: 642, dtype: int64"
   ]
  },
  {
   "cell_type": "markdown",
   "id": "120099b7",
   "metadata": {},
   "source": [
    "nombre_infected      1043\n",
    "nombre_sain          1965\n",
    "nombre_exposed        644\n",
    "nombre_recovered    16348\n",
    "Name: 643, dtype: int64"
   ]
  },
  {
   "cell_type": "markdown",
   "id": "fa3d17b0",
   "metadata": {},
   "source": [
    "nombre_infected      1057\n",
    "nombre_sain          1963\n",
    "nombre_exposed        622\n",
    "nombre_recovered    16358\n",
    "Name: 644, dtype: int64"
   ]
  },
  {
   "cell_type": "markdown",
   "id": "1f9f0406",
   "metadata": {},
   "source": [
    "nombre_infected      1068\n",
    "nombre_sain          1939\n",
    "nombre_exposed        627\n",
    "nombre_recovered    16366\n",
    "Name: 645, dtype: int64"
   ]
  },
  {
   "cell_type": "markdown",
   "id": "a96630dd",
   "metadata": {},
   "source": [
    "nombre_infected      1085\n",
    "nombre_sain          1935\n",
    "nombre_exposed        604\n",
    "nombre_recovered    16376\n",
    "Name: 646, dtype: int64"
   ]
  },
  {
   "cell_type": "markdown",
   "id": "3153cfb0",
   "metadata": {},
   "source": [
    "nombre_infected      1105\n",
    "nombre_sain          1916\n",
    "nombre_exposed        609\n",
    "nombre_recovered    16370\n",
    "Name: 647, dtype: int64"
   ]
  },
  {
   "cell_type": "markdown",
   "id": "9db682cb",
   "metadata": {},
   "source": [
    "nombre_infected      1091\n",
    "nombre_sain          1923\n",
    "nombre_exposed        600\n",
    "nombre_recovered    16386\n",
    "Name: 648, dtype: int64"
   ]
  },
  {
   "cell_type": "markdown",
   "id": "5f069750",
   "metadata": {},
   "source": [
    "nombre_infected      1061\n",
    "nombre_sain          1933\n",
    "nombre_exposed        588\n",
    "nombre_recovered    16418\n",
    "Name: 649, dtype: int64"
   ]
  },
  {
   "cell_type": "markdown",
   "id": "55263e97",
   "metadata": {},
   "source": [
    "nombre_infected      1049\n",
    "nombre_sain          1954\n",
    "nombre_exposed        582\n",
    "nombre_recovered    16415\n",
    "Name: 650, dtype: int64"
   ]
  },
  {
   "cell_type": "markdown",
   "id": "4e8855a7",
   "metadata": {},
   "source": [
    "nombre_infected      1041\n",
    "nombre_sain          1923\n",
    "nombre_exposed        596\n",
    "nombre_recovered    16440\n",
    "Name: 651, dtype: int64"
   ]
  },
  {
   "cell_type": "markdown",
   "id": "d5bc804b",
   "metadata": {},
   "source": [
    "nombre_infected      1052\n",
    "nombre_sain          1913\n",
    "nombre_exposed        583\n",
    "nombre_recovered    16452\n",
    "Name: 652, dtype: int64"
   ]
  },
  {
   "cell_type": "markdown",
   "id": "59a7e001",
   "metadata": {},
   "source": [
    "nombre_infected      1064\n",
    "nombre_sain          1921\n",
    "nombre_exposed        564\n",
    "nombre_recovered    16451\n",
    "Name: 653, dtype: int64"
   ]
  },
  {
   "cell_type": "markdown",
   "id": "2968047b",
   "metadata": {},
   "source": [
    "nombre_infected      1054\n",
    "nombre_sain          1915\n",
    "nombre_exposed        557\n",
    "nombre_recovered    16474\n",
    "Name: 654, dtype: int64"
   ]
  },
  {
   "cell_type": "markdown",
   "id": "7629cbf9",
   "metadata": {},
   "source": [
    "nombre_infected      1053\n",
    "nombre_sain          1891\n",
    "nombre_exposed        556\n",
    "nombre_recovered    16500\n",
    "Name: 655, dtype: int64"
   ]
  },
  {
   "cell_type": "markdown",
   "id": "f3ab2695",
   "metadata": {},
   "source": [
    "nombre_infected      1060\n",
    "nombre_sain          1893\n",
    "nombre_exposed        546\n",
    "nombre_recovered    16501\n",
    "Name: 656, dtype: int64"
   ]
  },
  {
   "cell_type": "markdown",
   "id": "49d09833",
   "metadata": {},
   "source": [
    "nombre_infected      1052\n",
    "nombre_sain          1849\n",
    "nombre_exposed        559\n",
    "nombre_recovered    16540\n",
    "Name: 657, dtype: int64"
   ]
  },
  {
   "cell_type": "markdown",
   "id": "67463521",
   "metadata": {},
   "source": [
    "nombre_infected      1029\n",
    "nombre_sain          1839\n",
    "nombre_exposed        558\n",
    "nombre_recovered    16574\n",
    "Name: 658, dtype: int64"
   ]
  },
  {
   "cell_type": "markdown",
   "id": "ca070900",
   "metadata": {},
   "source": [
    "nombre_infected      1018\n",
    "nombre_sain          1840\n",
    "nombre_exposed        551\n",
    "nombre_recovered    16591\n",
    "Name: 659, dtype: int64"
   ]
  },
  {
   "cell_type": "markdown",
   "id": "b35c1263",
   "metadata": {},
   "source": [
    "nombre_infected      1016\n",
    "nombre_sain          1843\n",
    "nombre_exposed        542\n",
    "nombre_recovered    16599\n",
    "Name: 660, dtype: int64"
   ]
  },
  {
   "cell_type": "markdown",
   "id": "0e4adaea",
   "metadata": {},
   "source": [
    "nombre_infected      1017\n",
    "nombre_sain          1828\n",
    "nombre_exposed        528\n",
    "nombre_recovered    16627\n",
    "Name: 661, dtype: int64"
   ]
  },
  {
   "cell_type": "markdown",
   "id": "578a7700",
   "metadata": {},
   "source": [
    "nombre_infected       991\n",
    "nombre_sain          1831\n",
    "nombre_exposed        526\n",
    "nombre_recovered    16652\n",
    "Name: 662, dtype: int64"
   ]
  },
  {
   "cell_type": "markdown",
   "id": "8986801e",
   "metadata": {},
   "source": [
    "nombre_infected       976\n",
    "nombre_sain          1815\n",
    "nombre_exposed        523\n",
    "nombre_recovered    16686\n",
    "Name: 663, dtype: int64"
   ]
  },
  {
   "cell_type": "markdown",
   "id": "ce8645c3",
   "metadata": {},
   "source": [
    "nombre_infected       978\n",
    "nombre_sain          1816\n",
    "nombre_exposed        521\n",
    "nombre_recovered    16685\n",
    "Name: 664, dtype: int64"
   ]
  },
  {
   "cell_type": "markdown",
   "id": "9ca238d5",
   "metadata": {},
   "source": [
    "nombre_infected       984\n",
    "nombre_sain          1816\n",
    "nombre_exposed        513\n",
    "nombre_recovered    16687\n",
    "Name: 665, dtype: int64"
   ]
  },
  {
   "cell_type": "markdown",
   "id": "c47db431",
   "metadata": {},
   "source": [
    "nombre_infected       980\n",
    "nombre_sain          1834\n",
    "nombre_exposed        502\n",
    "nombre_recovered    16684\n",
    "Name: 666, dtype: int64"
   ]
  },
  {
   "cell_type": "markdown",
   "id": "f589d5a3",
   "metadata": {},
   "source": [
    "nombre_infected       965\n",
    "nombre_sain          1856\n",
    "nombre_exposed        506\n",
    "nombre_recovered    16673\n",
    "Name: 667, dtype: int64"
   ]
  },
  {
   "cell_type": "markdown",
   "id": "8629e5e9",
   "metadata": {},
   "source": [
    "nombre_infected       971\n",
    "nombre_sain          1886\n",
    "nombre_exposed        480\n",
    "nombre_recovered    16663\n",
    "Name: 668, dtype: int64"
   ]
  },
  {
   "cell_type": "markdown",
   "id": "bc8bf13f",
   "metadata": {},
   "source": [
    "nombre_infected       962\n",
    "nombre_sain          1929\n",
    "nombre_exposed        468\n",
    "nombre_recovered    16641\n",
    "Name: 669, dtype: int64"
   ]
  },
  {
   "cell_type": "markdown",
   "id": "93929ae0",
   "metadata": {},
   "source": [
    "nombre_infected       950\n",
    "nombre_sain          1911\n",
    "nombre_exposed        503\n",
    "nombre_recovered    16636\n",
    "Name: 670, dtype: int64"
   ]
  },
  {
   "cell_type": "markdown",
   "id": "023d5737",
   "metadata": {},
   "source": [
    "nombre_infected       925\n",
    "nombre_sain          1915\n",
    "nombre_exposed        527\n",
    "nombre_recovered    16633\n",
    "Name: 671, dtype: int64"
   ]
  },
  {
   "cell_type": "markdown",
   "id": "537f6c51",
   "metadata": {},
   "source": [
    "nombre_infected       912\n",
    "nombre_sain          1937\n",
    "nombre_exposed        513\n",
    "nombre_recovered    16638\n",
    "Name: 672, dtype: int64"
   ]
  },
  {
   "cell_type": "markdown",
   "id": "17c88054",
   "metadata": {},
   "source": [
    "nombre_infected       896\n",
    "nombre_sain          1952\n",
    "nombre_exposed        525\n",
    "nombre_recovered    16627\n",
    "Name: 673, dtype: int64"
   ]
  },
  {
   "cell_type": "markdown",
   "id": "41ebe704",
   "metadata": {},
   "source": [
    "nombre_infected       897\n",
    "nombre_sain          1963\n",
    "nombre_exposed        529\n",
    "nombre_recovered    16611\n",
    "Name: 674, dtype: int64"
   ]
  },
  {
   "cell_type": "markdown",
   "id": "85e1677f",
   "metadata": {},
   "source": [
    "nombre_infected       919\n",
    "nombre_sain          1977\n",
    "nombre_exposed        515\n",
    "nombre_recovered    16589\n",
    "Name: 675, dtype: int64"
   ]
  },
  {
   "cell_type": "markdown",
   "id": "aed4f5cd",
   "metadata": {},
   "source": [
    "nombre_infected       958\n",
    "nombre_sain          1961\n",
    "nombre_exposed        512\n",
    "nombre_recovered    16569\n",
    "Name: 676, dtype: int64"
   ]
  },
  {
   "cell_type": "markdown",
   "id": "ed8348a6",
   "metadata": {},
   "source": [
    "nombre_infected       959\n",
    "nombre_sain          1974\n",
    "nombre_exposed        498\n",
    "nombre_recovered    16569\n",
    "Name: 677, dtype: int64"
   ]
  },
  {
   "cell_type": "markdown",
   "id": "7abd2e6a",
   "metadata": {},
   "source": [
    "nombre_infected       951\n",
    "nombre_sain          1995\n",
    "nombre_exposed        497\n",
    "nombre_recovered    16557\n",
    "Name: 678, dtype: int64"
   ]
  },
  {
   "cell_type": "markdown",
   "id": "2a94d1f6",
   "metadata": {},
   "source": [
    "nombre_infected       969\n",
    "nombre_sain          2001\n",
    "nombre_exposed        493\n",
    "nombre_recovered    16537\n",
    "Name: 679, dtype: int64"
   ]
  },
  {
   "cell_type": "markdown",
   "id": "245b792a",
   "metadata": {},
   "source": [
    "nombre_infected       954\n",
    "nombre_sain          2020\n",
    "nombre_exposed        511\n",
    "nombre_recovered    16515\n",
    "Name: 680, dtype: int64"
   ]
  },
  {
   "cell_type": "markdown",
   "id": "b8c6231d",
   "metadata": {},
   "source": [
    "nombre_infected       954\n",
    "nombre_sain          2038\n",
    "nombre_exposed        506\n",
    "nombre_recovered    16502\n",
    "Name: 681, dtype: int64"
   ]
  },
  {
   "cell_type": "markdown",
   "id": "925ef6b3",
   "metadata": {},
   "source": [
    "nombre_infected       978\n",
    "nombre_sain          2046\n",
    "nombre_exposed        484\n",
    "nombre_recovered    16492\n",
    "Name: 682, dtype: int64"
   ]
  },
  {
   "cell_type": "markdown",
   "id": "6ffeaa7d",
   "metadata": {},
   "source": [
    "nombre_infected       993\n",
    "nombre_sain          2057\n",
    "nombre_exposed        489\n",
    "nombre_recovered    16461\n",
    "Name: 683, dtype: int64"
   ]
  },
  {
   "cell_type": "markdown",
   "id": "97ef5f7d",
   "metadata": {},
   "source": [
    "nombre_infected       999\n",
    "nombre_sain          2039\n",
    "nombre_exposed        528\n",
    "nombre_recovered    16434\n",
    "Name: 684, dtype: int64"
   ]
  },
  {
   "cell_type": "markdown",
   "id": "1305cc9e",
   "metadata": {},
   "source": [
    "nombre_infected       994\n",
    "nombre_sain          2027\n",
    "nombre_exposed        537\n",
    "nombre_recovered    16442\n",
    "Name: 685, dtype: int64"
   ]
  },
  {
   "cell_type": "markdown",
   "id": "0f2db041",
   "metadata": {},
   "source": [
    "nombre_infected      1004\n",
    "nombre_sain          1998\n",
    "nombre_exposed        550\n",
    "nombre_recovered    16448\n",
    "Name: 686, dtype: int64"
   ]
  },
  {
   "cell_type": "markdown",
   "id": "d6a3fa20",
   "metadata": {},
   "source": [
    "nombre_infected      1012\n",
    "nombre_sain          1972\n",
    "nombre_exposed        556\n",
    "nombre_recovered    16460\n",
    "Name: 687, dtype: int64"
   ]
  },
  {
   "cell_type": "markdown",
   "id": "7eb66121",
   "metadata": {},
   "source": [
    "nombre_infected      1010\n",
    "nombre_sain          1968\n",
    "nombre_exposed        558\n",
    "nombre_recovered    16464\n",
    "Name: 688, dtype: int64"
   ]
  },
  {
   "cell_type": "markdown",
   "id": "fbbb4e9e",
   "metadata": {},
   "source": [
    "nombre_infected      1017\n",
    "nombre_sain          1946\n",
    "nombre_exposed        555\n",
    "nombre_recovered    16482\n",
    "Name: 689, dtype: int64"
   ]
  },
  {
   "cell_type": "markdown",
   "id": "c52b9ab5",
   "metadata": {},
   "source": [
    "nombre_infected      1053\n",
    "nombre_sain          1945\n",
    "nombre_exposed        527\n",
    "nombre_recovered    16475\n",
    "Name: 690, dtype: int64"
   ]
  },
  {
   "cell_type": "markdown",
   "id": "e73a0a00",
   "metadata": {},
   "source": [
    "nombre_infected      1065\n",
    "nombre_sain          1957\n",
    "nombre_exposed        530\n",
    "nombre_recovered    16448\n",
    "Name: 691, dtype: int64"
   ]
  },
  {
   "cell_type": "markdown",
   "id": "1a409c2d",
   "metadata": {},
   "source": [
    "nombre_infected      1088\n",
    "nombre_sain          1943\n",
    "nombre_exposed        524\n",
    "nombre_recovered    16445\n",
    "Name: 692, dtype: int64"
   ]
  },
  {
   "cell_type": "markdown",
   "id": "c44338c3",
   "metadata": {},
   "source": [
    "nombre_infected      1086\n",
    "nombre_sain          1927\n",
    "nombre_exposed        537\n",
    "nombre_recovered    16450\n",
    "Name: 693, dtype: int64"
   ]
  },
  {
   "cell_type": "markdown",
   "id": "74e5490e",
   "metadata": {},
   "source": [
    "nombre_infected      1096\n",
    "nombre_sain          1910\n",
    "nombre_exposed        525\n",
    "nombre_recovered    16469\n",
    "Name: 694, dtype: int64"
   ]
  },
  {
   "cell_type": "markdown",
   "id": "e4e7c693",
   "metadata": {},
   "source": [
    "nombre_infected      1105\n",
    "nombre_sain          1890\n",
    "nombre_exposed        533\n",
    "nombre_recovered    16472\n",
    "Name: 695, dtype: int64"
   ]
  },
  {
   "cell_type": "markdown",
   "id": "960c01cc",
   "metadata": {},
   "source": [
    "nombre_infected      1105\n",
    "nombre_sain          1867\n",
    "nombre_exposed        552\n",
    "nombre_recovered    16476\n",
    "Name: 696, dtype: int64"
   ]
  },
  {
   "cell_type": "markdown",
   "id": "1afce85c",
   "metadata": {},
   "source": [
    "nombre_infected      1125\n",
    "nombre_sain          1864\n",
    "nombre_exposed        539\n",
    "nombre_recovered    16472\n",
    "Name: 697, dtype: int64"
   ]
  },
  {
   "cell_type": "markdown",
   "id": "4f13cc42",
   "metadata": {},
   "source": [
    "nombre_infected      1131\n",
    "nombre_sain          1845\n",
    "nombre_exposed        552\n",
    "nombre_recovered    16472\n",
    "Name: 698, dtype: int64"
   ]
  },
  {
   "cell_type": "markdown",
   "id": "c80f8c12",
   "metadata": {},
   "source": [
    "nombre_infected      1114\n",
    "nombre_sain          1830\n",
    "nombre_exposed        561\n",
    "nombre_recovered    16495\n",
    "Name: 699, dtype: int64"
   ]
  },
  {
   "cell_type": "markdown",
   "id": "19b28c92",
   "metadata": {},
   "source": [
    "nombre_infected      1139\n",
    "nombre_sain          1849\n",
    "nombre_exposed        526\n",
    "nombre_recovered    16486\n",
    "Name: 700, dtype: int64"
   ]
  },
  {
   "cell_type": "markdown",
   "id": "f7490138",
   "metadata": {},
   "source": [
    "nombre_infected      1142\n",
    "nombre_sain          1819\n",
    "nombre_exposed        535\n",
    "nombre_recovered    16504\n",
    "Name: 701, dtype: int64"
   ]
  },
  {
   "cell_type": "markdown",
   "id": "168e5115",
   "metadata": {},
   "source": [
    "nombre_infected      1149\n",
    "nombre_sain          1802\n",
    "nombre_exposed        524\n",
    "nombre_recovered    16525\n",
    "Name: 702, dtype: int64"
   ]
  },
  {
   "cell_type": "markdown",
   "id": "2e31cf8a",
   "metadata": {},
   "source": [
    "nombre_infected      1157\n",
    "nombre_sain          1797\n",
    "nombre_exposed        509\n",
    "nombre_recovered    16537\n",
    "Name: 703, dtype: int64"
   ]
  },
  {
   "cell_type": "markdown",
   "id": "b73c40ac",
   "metadata": {},
   "source": [
    "nombre_infected      1129\n",
    "nombre_sain          1806\n",
    "nombre_exposed        502\n",
    "nombre_recovered    16563\n",
    "Name: 704, dtype: int64"
   ]
  },
  {
   "cell_type": "markdown",
   "id": "8d8e0f2d",
   "metadata": {},
   "source": [
    "nombre_infected      1115\n",
    "nombre_sain          1796\n",
    "nombre_exposed        514\n",
    "nombre_recovered    16575\n",
    "Name: 705, dtype: int64"
   ]
  },
  {
   "cell_type": "markdown",
   "id": "26904674",
   "metadata": {},
   "source": [
    "nombre_infected      1070\n",
    "nombre_sain          1788\n",
    "nombre_exposed        531\n",
    "nombre_recovered    16611\n",
    "Name: 706, dtype: int64"
   ]
  },
  {
   "cell_type": "markdown",
   "id": "f3b673f2",
   "metadata": {},
   "source": [
    "nombre_infected      1077\n",
    "nombre_sain          1785\n",
    "nombre_exposed        534\n",
    "nombre_recovered    16604\n",
    "Name: 707, dtype: int64"
   ]
  },
  {
   "cell_type": "markdown",
   "id": "5c53df91",
   "metadata": {},
   "source": [
    "nombre_infected      1087\n",
    "nombre_sain          1799\n",
    "nombre_exposed        508\n",
    "nombre_recovered    16606\n",
    "Name: 708, dtype: int64"
   ]
  },
  {
   "cell_type": "markdown",
   "id": "e722a65a",
   "metadata": {},
   "source": [
    "nombre_infected      1097\n",
    "nombre_sain          1792\n",
    "nombre_exposed        495\n",
    "nombre_recovered    16616\n",
    "Name: 709, dtype: int64"
   ]
  },
  {
   "cell_type": "markdown",
   "id": "86e6db15",
   "metadata": {},
   "source": [
    "nombre_infected      1080\n",
    "nombre_sain          1772\n",
    "nombre_exposed        520\n",
    "nombre_recovered    16628\n",
    "Name: 710, dtype: int64"
   ]
  },
  {
   "cell_type": "markdown",
   "id": "fb761def",
   "metadata": {},
   "source": [
    "nombre_infected      1065\n",
    "nombre_sain          1768\n",
    "nombre_exposed        520\n",
    "nombre_recovered    16647\n",
    "Name: 711, dtype: int64"
   ]
  },
  {
   "cell_type": "markdown",
   "id": "c7c38c37",
   "metadata": {},
   "source": [
    "nombre_infected      1067\n",
    "nombre_sain          1751\n",
    "nombre_exposed        528\n",
    "nombre_recovered    16654\n",
    "Name: 712, dtype: int64"
   ]
  },
  {
   "cell_type": "markdown",
   "id": "de0e5dd4",
   "metadata": {},
   "source": [
    "nombre_infected      1067\n",
    "nombre_sain          1745\n",
    "nombre_exposed        524\n",
    "nombre_recovered    16664\n",
    "Name: 713, dtype: int64"
   ]
  },
  {
   "cell_type": "markdown",
   "id": "10935f8e",
   "metadata": {},
   "source": [
    "nombre_infected      1085\n",
    "nombre_sain          1730\n",
    "nombre_exposed        501\n",
    "nombre_recovered    16684\n",
    "Name: 714, dtype: int64"
   ]
  },
  {
   "cell_type": "markdown",
   "id": "5e21cff6",
   "metadata": {},
   "source": [
    "nombre_infected      1066\n",
    "nombre_sain          1703\n",
    "nombre_exposed        520\n",
    "nombre_recovered    16711\n",
    "Name: 715, dtype: int64"
   ]
  },
  {
   "cell_type": "markdown",
   "id": "766c03da",
   "metadata": {},
   "source": [
    "nombre_infected      1049\n",
    "nombre_sain          1703\n",
    "nombre_exposed        512\n",
    "nombre_recovered    16736\n",
    "Name: 716, dtype: int64"
   ]
  },
  {
   "cell_type": "markdown",
   "id": "9e909cfd",
   "metadata": {},
   "source": [
    "nombre_infected      1032\n",
    "nombre_sain          1693\n",
    "nombre_exposed        515\n",
    "nombre_recovered    16760\n",
    "Name: 717, dtype: int64"
   ]
  },
  {
   "cell_type": "markdown",
   "id": "61a38776",
   "metadata": {},
   "source": [
    "nombre_infected      1059\n",
    "nombre_sain          1693\n",
    "nombre_exposed        488\n",
    "nombre_recovered    16760\n",
    "Name: 718, dtype: int64"
   ]
  },
  {
   "cell_type": "markdown",
   "id": "19850327",
   "metadata": {},
   "source": [
    "nombre_infected      1043\n",
    "nombre_sain          1688\n",
    "nombre_exposed        487\n",
    "nombre_recovered    16782\n",
    "Name: 719, dtype: int64"
   ]
  },
  {
   "cell_type": "markdown",
   "id": "18ecee42",
   "metadata": {},
   "source": [
    "nombre_infected      1036\n",
    "nombre_sain          1698\n",
    "nombre_exposed        465\n",
    "nombre_recovered    16801\n",
    "Name: 720, dtype: int64"
   ]
  },
  {
   "cell_type": "markdown",
   "id": "d1c3aeec",
   "metadata": {},
   "source": [
    "nombre_infected      1034\n",
    "nombre_sain          1714\n",
    "nombre_exposed        431\n",
    "nombre_recovered    16821\n",
    "Name: 721, dtype: int64"
   ]
  },
  {
   "cell_type": "markdown",
   "id": "be4fc67f",
   "metadata": {},
   "source": [
    "nombre_infected      1031\n",
    "nombre_sain          1734\n",
    "nombre_exposed        416\n",
    "nombre_recovered    16819\n",
    "Name: 722, dtype: int64"
   ]
  },
  {
   "cell_type": "markdown",
   "id": "dc9fe28a",
   "metadata": {},
   "source": [
    "nombre_infected      1015\n",
    "nombre_sain          1741\n",
    "nombre_exposed        421\n",
    "nombre_recovered    16823\n",
    "Name: 723, dtype: int64"
   ]
  },
  {
   "cell_type": "markdown",
   "id": "a8d2000c",
   "metadata": {},
   "source": [
    "nombre_infected       985\n",
    "nombre_sain          1764\n",
    "nombre_exposed        432\n",
    "nombre_recovered    16819\n",
    "Name: 724, dtype: int64"
   ]
  },
  {
   "cell_type": "markdown",
   "id": "f079faee",
   "metadata": {},
   "source": [
    "nombre_infected       964\n",
    "nombre_sain          1774\n",
    "nombre_exposed        439\n",
    "nombre_recovered    16823\n",
    "Name: 725, dtype: int64"
   ]
  },
  {
   "cell_type": "markdown",
   "id": "edee33ea",
   "metadata": {},
   "source": [
    "nombre_infected       949\n",
    "nombre_sain          1773\n",
    "nombre_exposed        448\n",
    "nombre_recovered    16830\n",
    "Name: 726, dtype: int64"
   ]
  },
  {
   "cell_type": "markdown",
   "id": "f4aec013",
   "metadata": {},
   "source": [
    "nombre_infected       962\n",
    "nombre_sain          1787\n",
    "nombre_exposed        435\n",
    "nombre_recovered    16816\n",
    "Name: 727, dtype: int64"
   ]
  },
  {
   "cell_type": "markdown",
   "id": "a31544c6",
   "metadata": {},
   "source": [
    "nombre_infected       959\n",
    "nombre_sain          1783\n",
    "nombre_exposed        450\n",
    "nombre_recovered    16808\n",
    "Name: 728, dtype: int64"
   ]
  },
  {
   "cell_type": "markdown",
   "id": "4ee72c9d",
   "metadata": {},
   "source": [
    "nombre_infected       942\n",
    "nombre_sain          1808\n",
    "nombre_exposed        464\n",
    "nombre_recovered    16786\n",
    "Name: 729, dtype: int64"
   ]
  },
  {
   "cell_type": "markdown",
   "id": "aec8776c",
   "metadata": {},
   "source": [
    "nombre_infected       956\n",
    "nombre_sain          1845\n",
    "nombre_exposed        437\n",
    "nombre_recovered    16762\n",
    "Name: 730, dtype: int64"
   ]
  }
 ],
 "metadata": {},
 "nbformat": 4,
 "nbformat_minor": 5
}
