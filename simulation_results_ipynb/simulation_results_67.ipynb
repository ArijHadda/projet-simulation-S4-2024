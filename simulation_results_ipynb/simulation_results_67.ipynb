{
 "cells": [
  {
   "cell_type": "markdown",
   "id": "e37d943c",
   "metadata": {},
   "source": [
    "nombre_infected        20\n",
    "nombre_sain         19980\n",
    "nombre_exposed          0\n",
    "nombre_recovered        0\n",
    "Name: 0, dtype: int64"
   ]
  },
  {
   "cell_type": "markdown",
   "id": "6e63e0c8",
   "metadata": {},
   "source": [
    "nombre_infected        20\n",
    "nombre_sain         19973\n",
    "nombre_exposed          7\n",
    "nombre_recovered        0\n",
    "Name: 1, dtype: int64"
   ]
  },
  {
   "cell_type": "markdown",
   "id": "06cb880a",
   "metadata": {},
   "source": [
    "nombre_infected        20\n",
    "nombre_sain         19950\n",
    "nombre_exposed         30\n",
    "nombre_recovered        0\n",
    "Name: 2, dtype: int64"
   ]
  },
  {
   "cell_type": "markdown",
   "id": "135329d4",
   "metadata": {},
   "source": [
    "nombre_infected        22\n",
    "nombre_sain         19914\n",
    "nombre_exposed         64\n",
    "nombre_recovered        0\n",
    "Name: 3, dtype: int64"
   ]
  },
  {
   "cell_type": "markdown",
   "id": "7f12cbe1",
   "metadata": {},
   "source": [
    "nombre_infected        26\n",
    "nombre_sain         19890\n",
    "nombre_exposed         84\n",
    "nombre_recovered        0\n",
    "Name: 4, dtype: int64"
   ]
  },
  {
   "cell_type": "markdown",
   "id": "5b9034eb",
   "metadata": {},
   "source": [
    "nombre_infected        43\n",
    "nombre_sain         19845\n",
    "nombre_exposed        111\n",
    "nombre_recovered        1\n",
    "Name: 5, dtype: int64"
   ]
  },
  {
   "cell_type": "markdown",
   "id": "f8c417df",
   "metadata": {},
   "source": [
    "nombre_infected        67\n",
    "nombre_sain         19781\n",
    "nombre_exposed        151\n",
    "nombre_recovered        1\n",
    "Name: 6, dtype: int64"
   ]
  },
  {
   "cell_type": "markdown",
   "id": "03d0eb5b",
   "metadata": {},
   "source": [
    "nombre_infected        88\n",
    "nombre_sain         19659\n",
    "nombre_exposed        248\n",
    "nombre_recovered        5\n",
    "Name: 7, dtype: int64"
   ]
  },
  {
   "cell_type": "markdown",
   "id": "0e326708",
   "metadata": {},
   "source": [
    "nombre_infected       118\n",
    "nombre_sain         19540\n",
    "nombre_exposed        331\n",
    "nombre_recovered       11\n",
    "Name: 8, dtype: int64"
   ]
  },
  {
   "cell_type": "markdown",
   "id": "16f5aee2",
   "metadata": {},
   "source": [
    "nombre_infected       164\n",
    "nombre_sain         19377\n",
    "nombre_exposed        436\n",
    "nombre_recovered       23\n",
    "Name: 9, dtype: int64"
   ]
  },
  {
   "cell_type": "markdown",
   "id": "3b512668",
   "metadata": {},
   "source": [
    "nombre_infected       254\n",
    "nombre_sain         19137\n",
    "nombre_exposed        578\n",
    "nombre_recovered       31\n",
    "Name: 10, dtype: int64"
   ]
  },
  {
   "cell_type": "markdown",
   "id": "d1be56c7",
   "metadata": {},
   "source": [
    "nombre_infected       344\n",
    "nombre_sain         18827\n",
    "nombre_exposed        783\n",
    "nombre_recovered       46\n",
    "Name: 11, dtype: int64"
   ]
  },
  {
   "cell_type": "markdown",
   "id": "0f62a65d",
   "metadata": {},
   "source": [
    "nombre_infected       448\n",
    "nombre_sain         18410\n",
    "nombre_exposed       1056\n",
    "nombre_recovered       86\n",
    "Name: 12, dtype: int64"
   ]
  },
  {
   "cell_type": "markdown",
   "id": "cd172731",
   "metadata": {},
   "source": [
    "nombre_infected       593\n",
    "nombre_sain         17844\n",
    "nombre_exposed       1427\n",
    "nombre_recovered      136\n",
    "Name: 13, dtype: int64"
   ]
  },
  {
   "cell_type": "markdown",
   "id": "78f085f9",
   "metadata": {},
   "source": [
    "nombre_infected       821\n",
    "nombre_sain         17063\n",
    "nombre_exposed       1935\n",
    "nombre_recovered      181\n",
    "Name: 14, dtype: int64"
   ]
  },
  {
   "cell_type": "markdown",
   "id": "05615361",
   "metadata": {},
   "source": [
    "nombre_infected      1044\n",
    "nombre_sain         16158\n",
    "nombre_exposed       2522\n",
    "nombre_recovered      276\n",
    "Name: 15, dtype: int64"
   ]
  },
  {
   "cell_type": "markdown",
   "id": "7ca92818",
   "metadata": {},
   "source": [
    "nombre_infected      1408\n",
    "nombre_sain         15029\n",
    "nombre_exposed       3192\n",
    "nombre_recovered      371\n",
    "Name: 16, dtype: int64"
   ]
  },
  {
   "cell_type": "markdown",
   "id": "7ab486d8",
   "metadata": {},
   "source": [
    "nombre_infected      1871\n",
    "nombre_sain         13677\n",
    "nombre_exposed       3940\n",
    "nombre_recovered      512\n",
    "Name: 17, dtype: int64"
   ]
  },
  {
   "cell_type": "markdown",
   "id": "ae7a683c",
   "metadata": {},
   "source": [
    "nombre_infected      2491\n",
    "nombre_sain         12118\n",
    "nombre_exposed       4715\n",
    "nombre_recovered      676\n",
    "Name: 18, dtype: int64"
   ]
  },
  {
   "cell_type": "markdown",
   "id": "b54f9520",
   "metadata": {},
   "source": [
    "nombre_infected      3297\n",
    "nombre_sain         10407\n",
    "nombre_exposed       5445\n",
    "nombre_recovered      851\n",
    "Name: 19, dtype: int64"
   ]
  },
  {
   "cell_type": "markdown",
   "id": "0984c3a4",
   "metadata": {},
   "source": [
    "nombre_infected     4113\n",
    "nombre_sain         8482\n",
    "nombre_exposed      6269\n",
    "nombre_recovered    1136\n",
    "Name: 20, dtype: int64"
   ]
  },
  {
   "cell_type": "markdown",
   "id": "4a32a36b",
   "metadata": {},
   "source": [
    "nombre_infected     5093\n",
    "nombre_sain         6698\n",
    "nombre_exposed      6701\n",
    "nombre_recovered    1508\n",
    "Name: 21, dtype: int64"
   ]
  },
  {
   "cell_type": "markdown",
   "id": "caa108fc",
   "metadata": {},
   "source": [
    "nombre_infected     6075\n",
    "nombre_sain         5059\n",
    "nombre_exposed      6879\n",
    "nombre_recovered    1987\n",
    "Name: 22, dtype: int64"
   ]
  },
  {
   "cell_type": "markdown",
   "id": "a564bc08",
   "metadata": {},
   "source": [
    "nombre_infected     7102\n",
    "nombre_sain         3740\n",
    "nombre_exposed      6584\n",
    "nombre_recovered    2574\n",
    "Name: 23, dtype: int64"
   ]
  },
  {
   "cell_type": "markdown",
   "id": "8db7f7ab",
   "metadata": {},
   "source": [
    "nombre_infected     7978\n",
    "nombre_sain         2639\n",
    "nombre_exposed      6135\n",
    "nombre_recovered    3248\n",
    "Name: 24, dtype: int64"
   ]
  },
  {
   "cell_type": "markdown",
   "id": "7e1b041f",
   "metadata": {},
   "source": [
    "nombre_infected     8663\n",
    "nombre_sain         1826\n",
    "nombre_exposed      5459\n",
    "nombre_recovered    4052\n",
    "Name: 25, dtype: int64"
   ]
  },
  {
   "cell_type": "markdown",
   "id": "1bff0e05",
   "metadata": {},
   "source": [
    "nombre_infected     9185\n",
    "nombre_sain         1235\n",
    "nombre_exposed      4675\n",
    "nombre_recovered    4905\n",
    "Name: 26, dtype: int64"
   ]
  },
  {
   "cell_type": "markdown",
   "id": "bf78623b",
   "metadata": {},
   "source": [
    "nombre_infected     9491\n",
    "nombre_sain          848\n",
    "nombre_exposed      3875\n",
    "nombre_recovered    5786\n",
    "Name: 27, dtype: int64"
   ]
  },
  {
   "cell_type": "markdown",
   "id": "77cbc662",
   "metadata": {},
   "source": [
    "nombre_infected     9545\n",
    "nombre_sain          561\n",
    "nombre_exposed      3160\n",
    "nombre_recovered    6734\n",
    "Name: 28, dtype: int64"
   ]
  },
  {
   "cell_type": "markdown",
   "id": "211616f1",
   "metadata": {},
   "source": [
    "nombre_infected     9433\n",
    "nombre_sain          371\n",
    "nombre_exposed      2504\n",
    "nombre_recovered    7692\n",
    "Name: 29, dtype: int64"
   ]
  },
  {
   "cell_type": "markdown",
   "id": "c39b0010",
   "metadata": {},
   "source": [
    "nombre_infected     9090\n",
    "nombre_sain          274\n",
    "nombre_exposed      1983\n",
    "nombre_recovered    8653\n",
    "Name: 30, dtype: int64"
   ]
  },
  {
   "cell_type": "markdown",
   "id": "db1402a2",
   "metadata": {},
   "source": [
    "nombre_infected     8633\n",
    "nombre_sain          191\n",
    "nombre_exposed      1520\n",
    "nombre_recovered    9656\n",
    "Name: 31, dtype: int64"
   ]
  },
  {
   "cell_type": "markdown",
   "id": "0715e023",
   "metadata": {},
   "source": [
    "nombre_infected      8102\n",
    "nombre_sain           141\n",
    "nombre_exposed       1219\n",
    "nombre_recovered    10538\n",
    "Name: 32, dtype: int64"
   ]
  },
  {
   "cell_type": "markdown",
   "id": "c4b6396b",
   "metadata": {},
   "source": [
    "nombre_infected      7551\n",
    "nombre_sain           110\n",
    "nombre_exposed        938\n",
    "nombre_recovered    11401\n",
    "Name: 33, dtype: int64"
   ]
  },
  {
   "cell_type": "markdown",
   "id": "d5ada558",
   "metadata": {},
   "source": [
    "nombre_infected      6984\n",
    "nombre_sain            93\n",
    "nombre_exposed        709\n",
    "nombre_recovered    12214\n",
    "Name: 34, dtype: int64"
   ]
  },
  {
   "cell_type": "markdown",
   "id": "9f333360",
   "metadata": {},
   "source": [
    "nombre_infected      6392\n",
    "nombre_sain            84\n",
    "nombre_exposed        559\n",
    "nombre_recovered    12965\n",
    "Name: 35, dtype: int64"
   ]
  },
  {
   "cell_type": "markdown",
   "id": "a0476a33",
   "metadata": {},
   "source": [
    "nombre_infected      5844\n",
    "nombre_sain            79\n",
    "nombre_exposed        435\n",
    "nombre_recovered    13642\n",
    "Name: 36, dtype: int64"
   ]
  },
  {
   "cell_type": "markdown",
   "id": "4fb29775",
   "metadata": {},
   "source": [
    "nombre_infected      5311\n",
    "nombre_sain            80\n",
    "nombre_exposed        312\n",
    "nombre_recovered    14297\n",
    "Name: 37, dtype: int64"
   ]
  },
  {
   "cell_type": "markdown",
   "id": "fde143c4",
   "metadata": {},
   "source": [
    "nombre_infected      4744\n",
    "nombre_sain            79\n",
    "nombre_exposed        251\n",
    "nombre_recovered    14926\n",
    "Name: 38, dtype: int64"
   ]
  },
  {
   "cell_type": "markdown",
   "id": "6875bca0",
   "metadata": {},
   "source": [
    "nombre_infected      4225\n",
    "nombre_sain            99\n",
    "nombre_exposed        202\n",
    "nombre_recovered    15474\n",
    "Name: 39, dtype: int64"
   ]
  },
  {
   "cell_type": "markdown",
   "id": "557b49e1",
   "metadata": {},
   "source": [
    "nombre_infected      3737\n",
    "nombre_sain           114\n",
    "nombre_exposed        177\n",
    "nombre_recovered    15972\n",
    "Name: 40, dtype: int64"
   ]
  },
  {
   "cell_type": "markdown",
   "id": "56de14ee",
   "metadata": {},
   "source": [
    "nombre_infected      3345\n",
    "nombre_sain           137\n",
    "nombre_exposed        143\n",
    "nombre_recovered    16375\n",
    "Name: 41, dtype: int64"
   ]
  },
  {
   "cell_type": "markdown",
   "id": "4078b127",
   "metadata": {},
   "source": [
    "nombre_infected      2992\n",
    "nombre_sain           174\n",
    "nombre_exposed        121\n",
    "nombre_recovered    16713\n",
    "Name: 42, dtype: int64"
   ]
  },
  {
   "cell_type": "markdown",
   "id": "0e6b13c1",
   "metadata": {},
   "source": [
    "nombre_infected      2699\n",
    "nombre_sain           188\n",
    "nombre_exposed        120\n",
    "nombre_recovered    16993\n",
    "Name: 43, dtype: int64"
   ]
  },
  {
   "cell_type": "markdown",
   "id": "c7cca038",
   "metadata": {},
   "source": [
    "nombre_infected      2389\n",
    "nombre_sain           214\n",
    "nombre_exposed        106\n",
    "nombre_recovered    17291\n",
    "Name: 44, dtype: int64"
   ]
  },
  {
   "cell_type": "markdown",
   "id": "7431ddc0",
   "metadata": {},
   "source": [
    "nombre_infected      2090\n",
    "nombre_sain           239\n",
    "nombre_exposed         95\n",
    "nombre_recovered    17576\n",
    "Name: 45, dtype: int64"
   ]
  },
  {
   "cell_type": "markdown",
   "id": "233b74e0",
   "metadata": {},
   "source": [
    "nombre_infected      1843\n",
    "nombre_sain           266\n",
    "nombre_exposed         87\n",
    "nombre_recovered    17804\n",
    "Name: 46, dtype: int64"
   ]
  },
  {
   "cell_type": "markdown",
   "id": "ac3a4b08",
   "metadata": {},
   "source": [
    "nombre_infected      1637\n",
    "nombre_sain           294\n",
    "nombre_exposed         84\n",
    "nombre_recovered    17985\n",
    "Name: 47, dtype: int64"
   ]
  },
  {
   "cell_type": "markdown",
   "id": "3ed6d296",
   "metadata": {},
   "source": [
    "nombre_infected      1425\n",
    "nombre_sain           321\n",
    "nombre_exposed         94\n",
    "nombre_recovered    18160\n",
    "Name: 48, dtype: int64"
   ]
  },
  {
   "cell_type": "markdown",
   "id": "55792133",
   "metadata": {},
   "source": [
    "nombre_infected      1236\n",
    "nombre_sain           362\n",
    "nombre_exposed         98\n",
    "nombre_recovered    18304\n",
    "Name: 49, dtype: int64"
   ]
  },
  {
   "cell_type": "markdown",
   "id": "34d59ff3",
   "metadata": {},
   "source": [
    "nombre_infected      1101\n",
    "nombre_sain           400\n",
    "nombre_exposed         92\n",
    "nombre_recovered    18407\n",
    "Name: 50, dtype: int64"
   ]
  },
  {
   "cell_type": "markdown",
   "id": "132e2ebb",
   "metadata": {},
   "source": [
    "nombre_infected       985\n",
    "nombre_sain           445\n",
    "nombre_exposed         91\n",
    "nombre_recovered    18479\n",
    "Name: 51, dtype: int64"
   ]
  },
  {
   "cell_type": "markdown",
   "id": "025422f6",
   "metadata": {},
   "source": [
    "nombre_infected       880\n",
    "nombre_sain           490\n",
    "nombre_exposed         95\n",
    "nombre_recovered    18535\n",
    "Name: 52, dtype: int64"
   ]
  },
  {
   "cell_type": "markdown",
   "id": "bf8347e0",
   "metadata": {},
   "source": [
    "nombre_infected       780\n",
    "nombre_sain           528\n",
    "nombre_exposed         94\n",
    "nombre_recovered    18598\n",
    "Name: 53, dtype: int64"
   ]
  },
  {
   "cell_type": "markdown",
   "id": "d14613b8",
   "metadata": {},
   "source": [
    "nombre_infected       705\n",
    "nombre_sain           576\n",
    "nombre_exposed         88\n",
    "nombre_recovered    18631\n",
    "Name: 54, dtype: int64"
   ]
  },
  {
   "cell_type": "markdown",
   "id": "fa148527",
   "metadata": {},
   "source": [
    "nombre_infected       644\n",
    "nombre_sain           624\n",
    "nombre_exposed         89\n",
    "nombre_recovered    18643\n",
    "Name: 55, dtype: int64"
   ]
  },
  {
   "cell_type": "markdown",
   "id": "5f0e6bea",
   "metadata": {},
   "source": [
    "nombre_infected       590\n",
    "nombre_sain           685\n",
    "nombre_exposed         84\n",
    "nombre_recovered    18641\n",
    "Name: 56, dtype: int64"
   ]
  },
  {
   "cell_type": "markdown",
   "id": "0c94990d",
   "metadata": {},
   "source": [
    "nombre_infected       522\n",
    "nombre_sain           726\n",
    "nombre_exposed         93\n",
    "nombre_recovered    18659\n",
    "Name: 57, dtype: int64"
   ]
  },
  {
   "cell_type": "markdown",
   "id": "479fc93d",
   "metadata": {},
   "source": [
    "nombre_infected       486\n",
    "nombre_sain           786\n",
    "nombre_exposed         95\n",
    "nombre_recovered    18633\n",
    "Name: 58, dtype: int64"
   ]
  },
  {
   "cell_type": "markdown",
   "id": "8982430b",
   "metadata": {},
   "source": [
    "nombre_infected       442\n",
    "nombre_sain           837\n",
    "nombre_exposed         97\n",
    "nombre_recovered    18624\n",
    "Name: 59, dtype: int64"
   ]
  },
  {
   "cell_type": "markdown",
   "id": "a07cb7c2",
   "metadata": {},
   "source": [
    "nombre_infected       418\n",
    "nombre_sain           865\n",
    "nombre_exposed         97\n",
    "nombre_recovered    18620\n",
    "Name: 60, dtype: int64"
   ]
  },
  {
   "cell_type": "markdown",
   "id": "3594de36",
   "metadata": {},
   "source": [
    "nombre_infected       378\n",
    "nombre_sain           908\n",
    "nombre_exposed        100\n",
    "nombre_recovered    18614\n",
    "Name: 61, dtype: int64"
   ]
  },
  {
   "cell_type": "markdown",
   "id": "52f32cb1",
   "metadata": {},
   "source": [
    "nombre_infected       358\n",
    "nombre_sain           943\n",
    "nombre_exposed        101\n",
    "nombre_recovered    18598\n",
    "Name: 62, dtype: int64"
   ]
  },
  {
   "cell_type": "markdown",
   "id": "3ef053f8",
   "metadata": {},
   "source": [
    "nombre_infected       345\n",
    "nombre_sain           994\n",
    "nombre_exposed         96\n",
    "nombre_recovered    18565\n",
    "Name: 63, dtype: int64"
   ]
  },
  {
   "cell_type": "markdown",
   "id": "ac2f5ca3",
   "metadata": {},
   "source": [
    "nombre_infected       344\n",
    "nombre_sain          1019\n",
    "nombre_exposed         91\n",
    "nombre_recovered    18546\n",
    "Name: 64, dtype: int64"
   ]
  },
  {
   "cell_type": "markdown",
   "id": "c2fc2bc6",
   "metadata": {},
   "source": [
    "nombre_infected       335\n",
    "nombre_sain          1051\n",
    "nombre_exposed         91\n",
    "nombre_recovered    18523\n",
    "Name: 65, dtype: int64"
   ]
  },
  {
   "cell_type": "markdown",
   "id": "4ae0a8f3",
   "metadata": {},
   "source": [
    "nombre_infected       322\n",
    "nombre_sain          1062\n",
    "nombre_exposed         93\n",
    "nombre_recovered    18523\n",
    "Name: 66, dtype: int64"
   ]
  },
  {
   "cell_type": "markdown",
   "id": "a8004e8d",
   "metadata": {},
   "source": [
    "nombre_infected       321\n",
    "nombre_sain          1105\n",
    "nombre_exposed         85\n",
    "nombre_recovered    18489\n",
    "Name: 67, dtype: int64"
   ]
  },
  {
   "cell_type": "markdown",
   "id": "47f44a84",
   "metadata": {},
   "source": [
    "nombre_infected       299\n",
    "nombre_sain          1121\n",
    "nombre_exposed         95\n",
    "nombre_recovered    18485\n",
    "Name: 68, dtype: int64"
   ]
  },
  {
   "cell_type": "markdown",
   "id": "9e13d10d",
   "metadata": {},
   "source": [
    "nombre_infected       287\n",
    "nombre_sain          1149\n",
    "nombre_exposed         84\n",
    "nombre_recovered    18480\n",
    "Name: 69, dtype: int64"
   ]
  },
  {
   "cell_type": "markdown",
   "id": "9a8c2ae1",
   "metadata": {},
   "source": [
    "nombre_infected       276\n",
    "nombre_sain          1182\n",
    "nombre_exposed         91\n",
    "nombre_recovered    18451\n",
    "Name: 70, dtype: int64"
   ]
  },
  {
   "cell_type": "markdown",
   "id": "54e30e54",
   "metadata": {},
   "source": [
    "nombre_infected       263\n",
    "nombre_sain          1227\n",
    "nombre_exposed         90\n",
    "nombre_recovered    18420\n",
    "Name: 71, dtype: int64"
   ]
  },
  {
   "cell_type": "markdown",
   "id": "5ae913a2",
   "metadata": {},
   "source": [
    "nombre_infected       273\n",
    "nombre_sain          1255\n",
    "nombre_exposed         81\n",
    "nombre_recovered    18391\n",
    "Name: 72, dtype: int64"
   ]
  },
  {
   "cell_type": "markdown",
   "id": "728cd6c6",
   "metadata": {},
   "source": [
    "nombre_infected       270\n",
    "nombre_sain          1284\n",
    "nombre_exposed         79\n",
    "nombre_recovered    18367\n",
    "Name: 73, dtype: int64"
   ]
  },
  {
   "cell_type": "markdown",
   "id": "e4b6ca73",
   "metadata": {},
   "source": [
    "nombre_infected       259\n",
    "nombre_sain          1316\n",
    "nombre_exposed         79\n",
    "nombre_recovered    18346\n",
    "Name: 74, dtype: int64"
   ]
  },
  {
   "cell_type": "markdown",
   "id": "c6d14649",
   "metadata": {},
   "source": [
    "nombre_infected       251\n",
    "nombre_sain          1350\n",
    "nombre_exposed         79\n",
    "nombre_recovered    18320\n",
    "Name: 75, dtype: int64"
   ]
  },
  {
   "cell_type": "markdown",
   "id": "82114b73",
   "metadata": {},
   "source": [
    "nombre_infected       251\n",
    "nombre_sain          1413\n",
    "nombre_exposed         80\n",
    "nombre_recovered    18256\n",
    "Name: 76, dtype: int64"
   ]
  },
  {
   "cell_type": "markdown",
   "id": "57adef50",
   "metadata": {},
   "source": [
    "nombre_infected       233\n",
    "nombre_sain          1470\n",
    "nombre_exposed         71\n",
    "nombre_recovered    18226\n",
    "Name: 77, dtype: int64"
   ]
  },
  {
   "cell_type": "markdown",
   "id": "7759d44e",
   "metadata": {},
   "source": [
    "nombre_infected       219\n",
    "nombre_sain          1526\n",
    "nombre_exposed         71\n",
    "nombre_recovered    18184\n",
    "Name: 78, dtype: int64"
   ]
  },
  {
   "cell_type": "markdown",
   "id": "bda98c8e",
   "metadata": {},
   "source": [
    "nombre_infected       209\n",
    "nombre_sain          1588\n",
    "nombre_exposed         71\n",
    "nombre_recovered    18132\n",
    "Name: 79, dtype: int64"
   ]
  },
  {
   "cell_type": "markdown",
   "id": "19b385f1",
   "metadata": {},
   "source": [
    "nombre_infected       204\n",
    "nombre_sain          1659\n",
    "nombre_exposed         66\n",
    "nombre_recovered    18071\n",
    "Name: 80, dtype: int64"
   ]
  },
  {
   "cell_type": "markdown",
   "id": "8a6a0173",
   "metadata": {},
   "source": [
    "nombre_infected       194\n",
    "nombre_sain          1699\n",
    "nombre_exposed         77\n",
    "nombre_recovered    18030\n",
    "Name: 81, dtype: int64"
   ]
  },
  {
   "cell_type": "markdown",
   "id": "4c39c7e1",
   "metadata": {},
   "source": [
    "nombre_infected       184\n",
    "nombre_sain          1762\n",
    "nombre_exposed         75\n",
    "nombre_recovered    17979\n",
    "Name: 82, dtype: int64"
   ]
  },
  {
   "cell_type": "markdown",
   "id": "1ae5b1be",
   "metadata": {},
   "source": [
    "nombre_infected       175\n",
    "nombre_sain          1819\n",
    "nombre_exposed         71\n",
    "nombre_recovered    17935\n",
    "Name: 83, dtype: int64"
   ]
  },
  {
   "cell_type": "markdown",
   "id": "2442cc3b",
   "metadata": {},
   "source": [
    "nombre_infected       170\n",
    "nombre_sain          1885\n",
    "nombre_exposed         73\n",
    "nombre_recovered    17872\n",
    "Name: 84, dtype: int64"
   ]
  },
  {
   "cell_type": "markdown",
   "id": "77151679",
   "metadata": {},
   "source": [
    "nombre_infected       157\n",
    "nombre_sain          1931\n",
    "nombre_exposed         78\n",
    "nombre_recovered    17834\n",
    "Name: 85, dtype: int64"
   ]
  },
  {
   "cell_type": "markdown",
   "id": "000d1269",
   "metadata": {},
   "source": [
    "nombre_infected       166\n",
    "nombre_sain          1981\n",
    "nombre_exposed         73\n",
    "nombre_recovered    17780\n",
    "Name: 86, dtype: int64"
   ]
  },
  {
   "cell_type": "markdown",
   "id": "56f403d3",
   "metadata": {},
   "source": [
    "nombre_infected       164\n",
    "nombre_sain          2050\n",
    "nombre_exposed         78\n",
    "nombre_recovered    17708\n",
    "Name: 87, dtype: int64"
   ]
  },
  {
   "cell_type": "markdown",
   "id": "835bf139",
   "metadata": {},
   "source": [
    "nombre_infected       150\n",
    "nombre_sain          2101\n",
    "nombre_exposed         77\n",
    "nombre_recovered    17672\n",
    "Name: 88, dtype: int64"
   ]
  },
  {
   "cell_type": "markdown",
   "id": "7acd104b",
   "metadata": {},
   "source": [
    "nombre_infected       152\n",
    "nombre_sain          2156\n",
    "nombre_exposed         75\n",
    "nombre_recovered    17617\n",
    "Name: 89, dtype: int64"
   ]
  },
  {
   "cell_type": "markdown",
   "id": "8f14e972",
   "metadata": {},
   "source": [
    "nombre_infected       153\n",
    "nombre_sain          2206\n",
    "nombre_exposed         81\n",
    "nombre_recovered    17560\n",
    "Name: 90, dtype: int64"
   ]
  },
  {
   "cell_type": "markdown",
   "id": "fd0008df",
   "metadata": {},
   "source": [
    "nombre_infected       149\n",
    "nombre_sain          2254\n",
    "nombre_exposed         91\n",
    "nombre_recovered    17506\n",
    "Name: 91, dtype: int64"
   ]
  },
  {
   "cell_type": "markdown",
   "id": "17535c2e",
   "metadata": {},
   "source": [
    "nombre_infected       140\n",
    "nombre_sain          2301\n",
    "nombre_exposed         84\n",
    "nombre_recovered    17475\n",
    "Name: 92, dtype: int64"
   ]
  },
  {
   "cell_type": "markdown",
   "id": "bf26015e",
   "metadata": {},
   "source": [
    "nombre_infected       147\n",
    "nombre_sain          2330\n",
    "nombre_exposed         86\n",
    "nombre_recovered    17437\n",
    "Name: 93, dtype: int64"
   ]
  },
  {
   "cell_type": "markdown",
   "id": "4601c7dc",
   "metadata": {},
   "source": [
    "nombre_infected       153\n",
    "nombre_sain          2359\n",
    "nombre_exposed         79\n",
    "nombre_recovered    17409\n",
    "Name: 94, dtype: int64"
   ]
  },
  {
   "cell_type": "markdown",
   "id": "ac505d17",
   "metadata": {},
   "source": [
    "nombre_infected       158\n",
    "nombre_sain          2411\n",
    "nombre_exposed         81\n",
    "nombre_recovered    17350\n",
    "Name: 95, dtype: int64"
   ]
  },
  {
   "cell_type": "markdown",
   "id": "e1c019bd",
   "metadata": {},
   "source": [
    "nombre_infected       158\n",
    "nombre_sain          2433\n",
    "nombre_exposed         85\n",
    "nombre_recovered    17324\n",
    "Name: 96, dtype: int64"
   ]
  },
  {
   "cell_type": "markdown",
   "id": "0b2de7bf",
   "metadata": {},
   "source": [
    "nombre_infected       162\n",
    "nombre_sain          2457\n",
    "nombre_exposed         94\n",
    "nombre_recovered    17287\n",
    "Name: 97, dtype: int64"
   ]
  },
  {
   "cell_type": "markdown",
   "id": "9f7c2a20",
   "metadata": {},
   "source": [
    "nombre_infected       173\n",
    "nombre_sain          2495\n",
    "nombre_exposed         91\n",
    "nombre_recovered    17241\n",
    "Name: 98, dtype: int64"
   ]
  },
  {
   "cell_type": "markdown",
   "id": "f46fc692",
   "metadata": {},
   "source": [
    "nombre_infected       180\n",
    "nombre_sain          2527\n",
    "nombre_exposed         81\n",
    "nombre_recovered    17212\n",
    "Name: 99, dtype: int64"
   ]
  },
  {
   "cell_type": "markdown",
   "id": "72fa5b09",
   "metadata": {},
   "source": [
    "nombre_infected       175\n",
    "nombre_sain          2561\n",
    "nombre_exposed         93\n",
    "nombre_recovered    17171\n",
    "Name: 100, dtype: int64"
   ]
  },
  {
   "cell_type": "markdown",
   "id": "50409976",
   "metadata": {},
   "source": [
    "nombre_infected       164\n",
    "nombre_sain          2587\n",
    "nombre_exposed        102\n",
    "nombre_recovered    17147\n",
    "Name: 101, dtype: int64"
   ]
  },
  {
   "cell_type": "markdown",
   "id": "e05c0069",
   "metadata": {},
   "source": [
    "nombre_infected       166\n",
    "nombre_sain          2612\n",
    "nombre_exposed        113\n",
    "nombre_recovered    17109\n",
    "Name: 102, dtype: int64"
   ]
  },
  {
   "cell_type": "markdown",
   "id": "bdf427d8",
   "metadata": {},
   "source": [
    "nombre_infected       173\n",
    "nombre_sain          2643\n",
    "nombre_exposed        108\n",
    "nombre_recovered    17076\n",
    "Name: 103, dtype: int64"
   ]
  },
  {
   "cell_type": "markdown",
   "id": "28794a26",
   "metadata": {},
   "source": [
    "nombre_infected       178\n",
    "nombre_sain          2674\n",
    "nombre_exposed        109\n",
    "nombre_recovered    17039\n",
    "Name: 104, dtype: int64"
   ]
  },
  {
   "cell_type": "markdown",
   "id": "c9cf85a8",
   "metadata": {},
   "source": [
    "nombre_infected       180\n",
    "nombre_sain          2711\n",
    "nombre_exposed        105\n",
    "nombre_recovered    17004\n",
    "Name: 105, dtype: int64"
   ]
  },
  {
   "cell_type": "markdown",
   "id": "4419e2b9",
   "metadata": {},
   "source": [
    "nombre_infected       181\n",
    "nombre_sain          2716\n",
    "nombre_exposed        119\n",
    "nombre_recovered    16984\n",
    "Name: 106, dtype: int64"
   ]
  },
  {
   "cell_type": "markdown",
   "id": "77e9f39f",
   "metadata": {},
   "source": [
    "nombre_infected       180\n",
    "nombre_sain          2735\n",
    "nombre_exposed        126\n",
    "nombre_recovered    16959\n",
    "Name: 107, dtype: int64"
   ]
  },
  {
   "cell_type": "markdown",
   "id": "874fdb15",
   "metadata": {},
   "source": [
    "nombre_infected       178\n",
    "nombre_sain          2753\n",
    "nombre_exposed        121\n",
    "nombre_recovered    16948\n",
    "Name: 108, dtype: int64"
   ]
  },
  {
   "cell_type": "markdown",
   "id": "8b77356f",
   "metadata": {},
   "source": [
    "nombre_infected       174\n",
    "nombre_sain          2763\n",
    "nombre_exposed        132\n",
    "nombre_recovered    16931\n",
    "Name: 109, dtype: int64"
   ]
  },
  {
   "cell_type": "markdown",
   "id": "580dd24c",
   "metadata": {},
   "source": [
    "nombre_infected       190\n",
    "nombre_sain          2780\n",
    "nombre_exposed        130\n",
    "nombre_recovered    16900\n",
    "Name: 110, dtype: int64"
   ]
  },
  {
   "cell_type": "markdown",
   "id": "9121529b",
   "metadata": {},
   "source": [
    "nombre_infected       211\n",
    "nombre_sain          2784\n",
    "nombre_exposed        126\n",
    "nombre_recovered    16879\n",
    "Name: 111, dtype: int64"
   ]
  },
  {
   "cell_type": "markdown",
   "id": "c947e36a",
   "metadata": {},
   "source": [
    "nombre_infected       219\n",
    "nombre_sain          2794\n",
    "nombre_exposed        128\n",
    "nombre_recovered    16859\n",
    "Name: 112, dtype: int64"
   ]
  },
  {
   "cell_type": "markdown",
   "id": "ff7ce3ca",
   "metadata": {},
   "source": [
    "nombre_infected       227\n",
    "nombre_sain          2783\n",
    "nombre_exposed        139\n",
    "nombre_recovered    16851\n",
    "Name: 113, dtype: int64"
   ]
  },
  {
   "cell_type": "markdown",
   "id": "8084e086",
   "metadata": {},
   "source": [
    "nombre_infected       226\n",
    "nombre_sain          2800\n",
    "nombre_exposed        139\n",
    "nombre_recovered    16835\n",
    "Name: 114, dtype: int64"
   ]
  },
  {
   "cell_type": "markdown",
   "id": "debc09cd",
   "metadata": {},
   "source": [
    "nombre_infected       239\n",
    "nombre_sain          2820\n",
    "nombre_exposed        127\n",
    "nombre_recovered    16814\n",
    "Name: 115, dtype: int64"
   ]
  },
  {
   "cell_type": "markdown",
   "id": "cb4ddc6d",
   "metadata": {},
   "source": [
    "nombre_infected       229\n",
    "nombre_sain          2834\n",
    "nombre_exposed        145\n",
    "nombre_recovered    16792\n",
    "Name: 116, dtype: int64"
   ]
  },
  {
   "cell_type": "markdown",
   "id": "5a02292f",
   "metadata": {},
   "source": [
    "nombre_infected       226\n",
    "nombre_sain          2844\n",
    "nombre_exposed        152\n",
    "nombre_recovered    16778\n",
    "Name: 117, dtype: int64"
   ]
  },
  {
   "cell_type": "markdown",
   "id": "ac0e73bc",
   "metadata": {},
   "source": [
    "nombre_infected       235\n",
    "nombre_sain          2857\n",
    "nombre_exposed        153\n",
    "nombre_recovered    16755\n",
    "Name: 118, dtype: int64"
   ]
  },
  {
   "cell_type": "markdown",
   "id": "b1c869b1",
   "metadata": {},
   "source": [
    "nombre_infected       241\n",
    "nombre_sain          2875\n",
    "nombre_exposed        162\n",
    "nombre_recovered    16722\n",
    "Name: 119, dtype: int64"
   ]
  },
  {
   "cell_type": "markdown",
   "id": "ec92eeb5",
   "metadata": {},
   "source": [
    "nombre_infected       257\n",
    "nombre_sain          2890\n",
    "nombre_exposed        158\n",
    "nombre_recovered    16695\n",
    "Name: 120, dtype: int64"
   ]
  },
  {
   "cell_type": "markdown",
   "id": "aa36849b",
   "metadata": {},
   "source": [
    "nombre_infected       269\n",
    "nombre_sain          2928\n",
    "nombre_exposed        159\n",
    "nombre_recovered    16644\n",
    "Name: 121, dtype: int64"
   ]
  },
  {
   "cell_type": "markdown",
   "id": "1224a4d7",
   "metadata": {},
   "source": [
    "nombre_infected       281\n",
    "nombre_sain          2938\n",
    "nombre_exposed        162\n",
    "nombre_recovered    16619\n",
    "Name: 122, dtype: int64"
   ]
  },
  {
   "cell_type": "markdown",
   "id": "70a2bf84",
   "metadata": {},
   "source": [
    "nombre_infected       285\n",
    "nombre_sain          2977\n",
    "nombre_exposed        170\n",
    "nombre_recovered    16568\n",
    "Name: 123, dtype: int64"
   ]
  },
  {
   "cell_type": "markdown",
   "id": "6179a7d9",
   "metadata": {},
   "source": [
    "nombre_infected       279\n",
    "nombre_sain          3001\n",
    "nombre_exposed        183\n",
    "nombre_recovered    16537\n",
    "Name: 124, dtype: int64"
   ]
  },
  {
   "cell_type": "markdown",
   "id": "c80b8c8e",
   "metadata": {},
   "source": [
    "nombre_infected       291\n",
    "nombre_sain          3016\n",
    "nombre_exposed        184\n",
    "nombre_recovered    16509\n",
    "Name: 125, dtype: int64"
   ]
  },
  {
   "cell_type": "markdown",
   "id": "e56abff2",
   "metadata": {},
   "source": [
    "nombre_infected       288\n",
    "nombre_sain          3012\n",
    "nombre_exposed        213\n",
    "nombre_recovered    16487\n",
    "Name: 126, dtype: int64"
   ]
  },
  {
   "cell_type": "markdown",
   "id": "e7bd1b65",
   "metadata": {},
   "source": [
    "nombre_infected       289\n",
    "nombre_sain          3022\n",
    "nombre_exposed        228\n",
    "nombre_recovered    16461\n",
    "Name: 127, dtype: int64"
   ]
  },
  {
   "cell_type": "markdown",
   "id": "523aae57",
   "metadata": {},
   "source": [
    "nombre_infected       308\n",
    "nombre_sain          3054\n",
    "nombre_exposed        216\n",
    "nombre_recovered    16422\n",
    "Name: 128, dtype: int64"
   ]
  },
  {
   "cell_type": "markdown",
   "id": "15713526",
   "metadata": {},
   "source": [
    "nombre_infected       334\n",
    "nombre_sain          3031\n",
    "nombre_exposed        228\n",
    "nombre_recovered    16407\n",
    "Name: 129, dtype: int64"
   ]
  },
  {
   "cell_type": "markdown",
   "id": "7c55ade7",
   "metadata": {},
   "source": [
    "nombre_infected       346\n",
    "nombre_sain          3031\n",
    "nombre_exposed        242\n",
    "nombre_recovered    16381\n",
    "Name: 130, dtype: int64"
   ]
  },
  {
   "cell_type": "markdown",
   "id": "a0f500fd",
   "metadata": {},
   "source": [
    "nombre_infected       365\n",
    "nombre_sain          3018\n",
    "nombre_exposed        249\n",
    "nombre_recovered    16368\n",
    "Name: 131, dtype: int64"
   ]
  },
  {
   "cell_type": "markdown",
   "id": "2f1acd89",
   "metadata": {},
   "source": [
    "nombre_infected       363\n",
    "nombre_sain          3030\n",
    "nombre_exposed        243\n",
    "nombre_recovered    16364\n",
    "Name: 132, dtype: int64"
   ]
  },
  {
   "cell_type": "markdown",
   "id": "e18d2ab7",
   "metadata": {},
   "source": [
    "nombre_infected       370\n",
    "nombre_sain          3019\n",
    "nombre_exposed        270\n",
    "nombre_recovered    16341\n",
    "Name: 133, dtype: int64"
   ]
  },
  {
   "cell_type": "markdown",
   "id": "73bafd02",
   "metadata": {},
   "source": [
    "nombre_infected       382\n",
    "nombre_sain          3019\n",
    "nombre_exposed        280\n",
    "nombre_recovered    16319\n",
    "Name: 134, dtype: int64"
   ]
  },
  {
   "cell_type": "markdown",
   "id": "92af776f",
   "metadata": {},
   "source": [
    "nombre_infected       415\n",
    "nombre_sain          3026\n",
    "nombre_exposed        260\n",
    "nombre_recovered    16299\n",
    "Name: 135, dtype: int64"
   ]
  },
  {
   "cell_type": "markdown",
   "id": "5abc94b2",
   "metadata": {},
   "source": [
    "nombre_infected       425\n",
    "nombre_sain          3037\n",
    "nombre_exposed        265\n",
    "nombre_recovered    16273\n",
    "Name: 136, dtype: int64"
   ]
  },
  {
   "cell_type": "markdown",
   "id": "864efb17",
   "metadata": {},
   "source": [
    "nombre_infected       434\n",
    "nombre_sain          3029\n",
    "nombre_exposed        278\n",
    "nombre_recovered    16259\n",
    "Name: 137, dtype: int64"
   ]
  },
  {
   "cell_type": "markdown",
   "id": "3777a00d",
   "metadata": {},
   "source": [
    "nombre_infected       452\n",
    "nombre_sain          3009\n",
    "nombre_exposed        312\n",
    "nombre_recovered    16227\n",
    "Name: 138, dtype: int64"
   ]
  },
  {
   "cell_type": "markdown",
   "id": "d10a95ab",
   "metadata": {},
   "source": [
    "nombre_infected       464\n",
    "nombre_sain          3014\n",
    "nombre_exposed        329\n",
    "nombre_recovered    16193\n",
    "Name: 139, dtype: int64"
   ]
  },
  {
   "cell_type": "markdown",
   "id": "8f2205d7",
   "metadata": {},
   "source": [
    "nombre_infected       483\n",
    "nombre_sain          3005\n",
    "nombre_exposed        333\n",
    "nombre_recovered    16179\n",
    "Name: 140, dtype: int64"
   ]
  },
  {
   "cell_type": "markdown",
   "id": "c21977e6",
   "metadata": {},
   "source": [
    "nombre_infected       522\n",
    "nombre_sain          2991\n",
    "nombre_exposed        337\n",
    "nombre_recovered    16150\n",
    "Name: 141, dtype: int64"
   ]
  },
  {
   "cell_type": "markdown",
   "id": "b2ae6fd5",
   "metadata": {},
   "source": [
    "nombre_infected       547\n",
    "nombre_sain          2978\n",
    "nombre_exposed        345\n",
    "nombre_recovered    16130\n",
    "Name: 142, dtype: int64"
   ]
  },
  {
   "cell_type": "markdown",
   "id": "67027a7b",
   "metadata": {},
   "source": [
    "nombre_infected       581\n",
    "nombre_sain          2963\n",
    "nombre_exposed        341\n",
    "nombre_recovered    16115\n",
    "Name: 143, dtype: int64"
   ]
  },
  {
   "cell_type": "markdown",
   "id": "4008a10a",
   "metadata": {},
   "source": [
    "nombre_infected       606\n",
    "nombre_sain          2918\n",
    "nombre_exposed        375\n",
    "nombre_recovered    16101\n",
    "Name: 144, dtype: int64"
   ]
  },
  {
   "cell_type": "markdown",
   "id": "73361bc8",
   "metadata": {},
   "source": [
    "nombre_infected       628\n",
    "nombre_sain          2891\n",
    "nombre_exposed        387\n",
    "nombre_recovered    16094\n",
    "Name: 145, dtype: int64"
   ]
  },
  {
   "cell_type": "markdown",
   "id": "1963724a",
   "metadata": {},
   "source": [
    "nombre_infected       637\n",
    "nombre_sain          2876\n",
    "nombre_exposed        383\n",
    "nombre_recovered    16104\n",
    "Name: 146, dtype: int64"
   ]
  },
  {
   "cell_type": "markdown",
   "id": "f2604c1d",
   "metadata": {},
   "source": [
    "nombre_infected       670\n",
    "nombre_sain          2814\n",
    "nombre_exposed        402\n",
    "nombre_recovered    16114\n",
    "Name: 147, dtype: int64"
   ]
  },
  {
   "cell_type": "markdown",
   "id": "91499a90",
   "metadata": {},
   "source": [
    "nombre_infected       667\n",
    "nombre_sain          2783\n",
    "nombre_exposed        424\n",
    "nombre_recovered    16126\n",
    "Name: 148, dtype: int64"
   ]
  },
  {
   "cell_type": "markdown",
   "id": "ea9ae968",
   "metadata": {},
   "source": [
    "nombre_infected       693\n",
    "nombre_sain          2743\n",
    "nombre_exposed        429\n",
    "nombre_recovered    16135\n",
    "Name: 149, dtype: int64"
   ]
  },
  {
   "cell_type": "markdown",
   "id": "824c31d9",
   "metadata": {},
   "source": [
    "nombre_infected       710\n",
    "nombre_sain          2707\n",
    "nombre_exposed        444\n",
    "nombre_recovered    16139\n",
    "Name: 150, dtype: int64"
   ]
  },
  {
   "cell_type": "markdown",
   "id": "969238e0",
   "metadata": {},
   "source": [
    "nombre_infected       725\n",
    "nombre_sain          2674\n",
    "nombre_exposed        455\n",
    "nombre_recovered    16146\n",
    "Name: 151, dtype: int64"
   ]
  },
  {
   "cell_type": "markdown",
   "id": "0c4d5b81",
   "metadata": {},
   "source": [
    "nombre_infected       748\n",
    "nombre_sain          2649\n",
    "nombre_exposed        455\n",
    "nombre_recovered    16148\n",
    "Name: 152, dtype: int64"
   ]
  },
  {
   "cell_type": "markdown",
   "id": "7c945414",
   "metadata": {},
   "source": [
    "nombre_infected       768\n",
    "nombre_sain          2590\n",
    "nombre_exposed        480\n",
    "nombre_recovered    16162\n",
    "Name: 153, dtype: int64"
   ]
  },
  {
   "cell_type": "markdown",
   "id": "5efd2148",
   "metadata": {},
   "source": [
    "nombre_infected       794\n",
    "nombre_sain          2537\n",
    "nombre_exposed        502\n",
    "nombre_recovered    16167\n",
    "Name: 154, dtype: int64"
   ]
  },
  {
   "cell_type": "markdown",
   "id": "5085ded9",
   "metadata": {},
   "source": [
    "nombre_infected       815\n",
    "nombre_sain          2480\n",
    "nombre_exposed        521\n",
    "nombre_recovered    16184\n",
    "Name: 155, dtype: int64"
   ]
  },
  {
   "cell_type": "markdown",
   "id": "46790878",
   "metadata": {},
   "source": [
    "nombre_infected       852\n",
    "nombre_sain          2423\n",
    "nombre_exposed        506\n",
    "nombre_recovered    16219\n",
    "Name: 156, dtype: int64"
   ]
  },
  {
   "cell_type": "markdown",
   "id": "ca5937a1",
   "metadata": {},
   "source": [
    "nombre_infected       884\n",
    "nombre_sain          2377\n",
    "nombre_exposed        507\n",
    "nombre_recovered    16232\n",
    "Name: 157, dtype: int64"
   ]
  },
  {
   "cell_type": "markdown",
   "id": "e1942626",
   "metadata": {},
   "source": [
    "nombre_infected       889\n",
    "nombre_sain          2331\n",
    "nombre_exposed        509\n",
    "nombre_recovered    16271\n",
    "Name: 158, dtype: int64"
   ]
  },
  {
   "cell_type": "markdown",
   "id": "697008fa",
   "metadata": {},
   "source": [
    "nombre_infected       914\n",
    "nombre_sain          2264\n",
    "nombre_exposed        508\n",
    "nombre_recovered    16314\n",
    "Name: 159, dtype: int64"
   ]
  },
  {
   "cell_type": "markdown",
   "id": "4b240f18",
   "metadata": {},
   "source": [
    "nombre_infected       929\n",
    "nombre_sain          2196\n",
    "nombre_exposed        521\n",
    "nombre_recovered    16354\n",
    "Name: 160, dtype: int64"
   ]
  },
  {
   "cell_type": "markdown",
   "id": "10ff3ed6",
   "metadata": {},
   "source": [
    "nombre_infected       915\n",
    "nombre_sain          2151\n",
    "nombre_exposed        528\n",
    "nombre_recovered    16406\n",
    "Name: 161, dtype: int64"
   ]
  },
  {
   "cell_type": "markdown",
   "id": "9618fcc0",
   "metadata": {},
   "source": [
    "nombre_infected       943\n",
    "nombre_sain          2114\n",
    "nombre_exposed        516\n",
    "nombre_recovered    16427\n",
    "Name: 162, dtype: int64"
   ]
  },
  {
   "cell_type": "markdown",
   "id": "f6670ad4",
   "metadata": {},
   "source": [
    "nombre_infected       940\n",
    "nombre_sain          2071\n",
    "nombre_exposed        527\n",
    "nombre_recovered    16462\n",
    "Name: 163, dtype: int64"
   ]
  },
  {
   "cell_type": "markdown",
   "id": "1373360d",
   "metadata": {},
   "source": [
    "nombre_infected       930\n",
    "nombre_sain          2051\n",
    "nombre_exposed        501\n",
    "nombre_recovered    16518\n",
    "Name: 164, dtype: int64"
   ]
  },
  {
   "cell_type": "markdown",
   "id": "cf868526",
   "metadata": {},
   "source": [
    "nombre_infected       954\n",
    "nombre_sain          2029\n",
    "nombre_exposed        487\n",
    "nombre_recovered    16530\n",
    "Name: 165, dtype: int64"
   ]
  },
  {
   "cell_type": "markdown",
   "id": "bfb5dc59",
   "metadata": {},
   "source": [
    "nombre_infected       958\n",
    "nombre_sain          2007\n",
    "nombre_exposed        477\n",
    "nombre_recovered    16558\n",
    "Name: 166, dtype: int64"
   ]
  },
  {
   "cell_type": "markdown",
   "id": "0840106e",
   "metadata": {},
   "source": [
    "nombre_infected       963\n",
    "nombre_sain          2001\n",
    "nombre_exposed        459\n",
    "nombre_recovered    16577\n",
    "Name: 167, dtype: int64"
   ]
  },
  {
   "cell_type": "markdown",
   "id": "56605ac6",
   "metadata": {},
   "source": [
    "nombre_infected       985\n",
    "nombre_sain          1977\n",
    "nombre_exposed        453\n",
    "nombre_recovered    16585\n",
    "Name: 168, dtype: int64"
   ]
  },
  {
   "cell_type": "markdown",
   "id": "62603aaf",
   "metadata": {},
   "source": [
    "nombre_infected       974\n",
    "nombre_sain          1978\n",
    "nombre_exposed        454\n",
    "nombre_recovered    16594\n",
    "Name: 169, dtype: int64"
   ]
  },
  {
   "cell_type": "markdown",
   "id": "32369d81",
   "metadata": {},
   "source": [
    "nombre_infected       966\n",
    "nombre_sain          1946\n",
    "nombre_exposed        456\n",
    "nombre_recovered    16632\n",
    "Name: 170, dtype: int64"
   ]
  },
  {
   "cell_type": "markdown",
   "id": "bb6c3bd4",
   "metadata": {},
   "source": [
    "nombre_infected       972\n",
    "nombre_sain          1942\n",
    "nombre_exposed        433\n",
    "nombre_recovered    16653\n",
    "Name: 171, dtype: int64"
   ]
  },
  {
   "cell_type": "markdown",
   "id": "3aa3b18d",
   "metadata": {},
   "source": [
    "nombre_infected       981\n",
    "nombre_sain          1916\n",
    "nombre_exposed        422\n",
    "nombre_recovered    16681\n",
    "Name: 172, dtype: int64"
   ]
  },
  {
   "cell_type": "markdown",
   "id": "7471187b",
   "metadata": {},
   "source": [
    "nombre_infected       988\n",
    "nombre_sain          1909\n",
    "nombre_exposed        419\n",
    "nombre_recovered    16684\n",
    "Name: 173, dtype: int64"
   ]
  },
  {
   "cell_type": "markdown",
   "id": "cd48d06b",
   "metadata": {},
   "source": [
    "nombre_infected       989\n",
    "nombre_sain          1904\n",
    "nombre_exposed        437\n",
    "nombre_recovered    16670\n",
    "Name: 174, dtype: int64"
   ]
  },
  {
   "cell_type": "markdown",
   "id": "af51c146",
   "metadata": {},
   "source": [
    "nombre_infected       982\n",
    "nombre_sain          1915\n",
    "nombre_exposed        447\n",
    "nombre_recovered    16656\n",
    "Name: 175, dtype: int64"
   ]
  },
  {
   "cell_type": "markdown",
   "id": "04517c45",
   "metadata": {},
   "source": [
    "nombre_infected      1000\n",
    "nombre_sain          1885\n",
    "nombre_exposed        449\n",
    "nombre_recovered    16666\n",
    "Name: 176, dtype: int64"
   ]
  },
  {
   "cell_type": "markdown",
   "id": "27abc70c",
   "metadata": {},
   "source": [
    "nombre_infected       995\n",
    "nombre_sain          1883\n",
    "nombre_exposed        458\n",
    "nombre_recovered    16664\n",
    "Name: 177, dtype: int64"
   ]
  },
  {
   "cell_type": "markdown",
   "id": "a5df9029",
   "metadata": {},
   "source": [
    "nombre_infected      1008\n",
    "nombre_sain          1878\n",
    "nombre_exposed        453\n",
    "nombre_recovered    16661\n",
    "Name: 178, dtype: int64"
   ]
  },
  {
   "cell_type": "markdown",
   "id": "9dcdfe18",
   "metadata": {},
   "source": [
    "nombre_infected      1024\n",
    "nombre_sain          1883\n",
    "nombre_exposed        433\n",
    "nombre_recovered    16660\n",
    "Name: 179, dtype: int64"
   ]
  },
  {
   "cell_type": "markdown",
   "id": "b0453aa1",
   "metadata": {},
   "source": [
    "nombre_infected      1005\n",
    "nombre_sain          1892\n",
    "nombre_exposed        433\n",
    "nombre_recovered    16670\n",
    "Name: 180, dtype: int64"
   ]
  },
  {
   "cell_type": "markdown",
   "id": "591c4568",
   "metadata": {},
   "source": [
    "nombre_infected      1003\n",
    "nombre_sain          1886\n",
    "nombre_exposed        437\n",
    "nombre_recovered    16674\n",
    "Name: 181, dtype: int64"
   ]
  },
  {
   "cell_type": "markdown",
   "id": "c813a5ca",
   "metadata": {},
   "source": [
    "nombre_infected      1012\n",
    "nombre_sain          1888\n",
    "nombre_exposed        426\n",
    "nombre_recovered    16674\n",
    "Name: 182, dtype: int64"
   ]
  },
  {
   "cell_type": "markdown",
   "id": "970bb38d",
   "metadata": {},
   "source": [
    "nombre_infected      1015\n",
    "nombre_sain          1884\n",
    "nombre_exposed        415\n",
    "nombre_recovered    16686\n",
    "Name: 183, dtype: int64"
   ]
  },
  {
   "cell_type": "markdown",
   "id": "cd787fa5",
   "metadata": {},
   "source": [
    "nombre_infected       996\n",
    "nombre_sain          1881\n",
    "nombre_exposed        409\n",
    "nombre_recovered    16714\n",
    "Name: 184, dtype: int64"
   ]
  },
  {
   "cell_type": "markdown",
   "id": "bf6eeced",
   "metadata": {},
   "source": [
    "nombre_infected       987\n",
    "nombre_sain          1868\n",
    "nombre_exposed        410\n",
    "nombre_recovered    16735\n",
    "Name: 185, dtype: int64"
   ]
  },
  {
   "cell_type": "markdown",
   "id": "2bb0bd64",
   "metadata": {},
   "source": [
    "nombre_infected       988\n",
    "nombre_sain          1857\n",
    "nombre_exposed        423\n",
    "nombre_recovered    16732\n",
    "Name: 186, dtype: int64"
   ]
  },
  {
   "cell_type": "markdown",
   "id": "e9a8e5a0",
   "metadata": {},
   "source": [
    "nombre_infected       971\n",
    "nombre_sain          1867\n",
    "nombre_exposed        414\n",
    "nombre_recovered    16748\n",
    "Name: 187, dtype: int64"
   ]
  },
  {
   "cell_type": "markdown",
   "id": "089fd0c6",
   "metadata": {},
   "source": [
    "nombre_infected       966\n",
    "nombre_sain          1843\n",
    "nombre_exposed        423\n",
    "nombre_recovered    16768\n",
    "Name: 188, dtype: int64"
   ]
  },
  {
   "cell_type": "markdown",
   "id": "f24d1b70",
   "metadata": {},
   "source": [
    "nombre_infected       976\n",
    "nombre_sain          1809\n",
    "nombre_exposed        432\n",
    "nombre_recovered    16783\n",
    "Name: 189, dtype: int64"
   ]
  },
  {
   "cell_type": "markdown",
   "id": "744d5eb1",
   "metadata": {},
   "source": [
    "nombre_infected       961\n",
    "nombre_sain          1805\n",
    "nombre_exposed        428\n",
    "nombre_recovered    16806\n",
    "Name: 190, dtype: int64"
   ]
  },
  {
   "cell_type": "markdown",
   "id": "4810d29c",
   "metadata": {},
   "source": [
    "nombre_infected       980\n",
    "nombre_sain          1784\n",
    "nombre_exposed        407\n",
    "nombre_recovered    16829\n",
    "Name: 191, dtype: int64"
   ]
  },
  {
   "cell_type": "markdown",
   "id": "c7e170b1",
   "metadata": {},
   "source": [
    "nombre_infected      1003\n",
    "nombre_sain          1761\n",
    "nombre_exposed        393\n",
    "nombre_recovered    16843\n",
    "Name: 192, dtype: int64"
   ]
  },
  {
   "cell_type": "markdown",
   "id": "476a4573",
   "metadata": {},
   "source": [
    "nombre_infected       974\n",
    "nombre_sain          1768\n",
    "nombre_exposed        406\n",
    "nombre_recovered    16852\n",
    "Name: 193, dtype: int64"
   ]
  },
  {
   "cell_type": "markdown",
   "id": "c2a67b64",
   "metadata": {},
   "source": [
    "nombre_infected       958\n",
    "nombre_sain          1751\n",
    "nombre_exposed        418\n",
    "nombre_recovered    16873\n",
    "Name: 194, dtype: int64"
   ]
  },
  {
   "cell_type": "markdown",
   "id": "32aa9fa6",
   "metadata": {},
   "source": [
    "nombre_infected       942\n",
    "nombre_sain          1722\n",
    "nombre_exposed        427\n",
    "nombre_recovered    16909\n",
    "Name: 195, dtype: int64"
   ]
  },
  {
   "cell_type": "markdown",
   "id": "d2a841ed",
   "metadata": {},
   "source": [
    "nombre_infected       940\n",
    "nombre_sain          1725\n",
    "nombre_exposed        403\n",
    "nombre_recovered    16932\n",
    "Name: 196, dtype: int64"
   ]
  },
  {
   "cell_type": "markdown",
   "id": "9738d7ab",
   "metadata": {},
   "source": [
    "nombre_infected       951\n",
    "nombre_sain          1693\n",
    "nombre_exposed        402\n",
    "nombre_recovered    16954\n",
    "Name: 197, dtype: int64"
   ]
  },
  {
   "cell_type": "markdown",
   "id": "f84dbe9c",
   "metadata": {},
   "source": [
    "nombre_infected       947\n",
    "nombre_sain          1673\n",
    "nombre_exposed        414\n",
    "nombre_recovered    16966\n",
    "Name: 198, dtype: int64"
   ]
  },
  {
   "cell_type": "markdown",
   "id": "15375825",
   "metadata": {},
   "source": [
    "nombre_infected       936\n",
    "nombre_sain          1653\n",
    "nombre_exposed        407\n",
    "nombre_recovered    17004\n",
    "Name: 199, dtype: int64"
   ]
  },
  {
   "cell_type": "markdown",
   "id": "62b3736e",
   "metadata": {},
   "source": [
    "nombre_infected       942\n",
    "nombre_sain          1648\n",
    "nombre_exposed        407\n",
    "nombre_recovered    17003\n",
    "Name: 200, dtype: int64"
   ]
  },
  {
   "cell_type": "markdown",
   "id": "a3bf2275",
   "metadata": {},
   "source": [
    "nombre_infected       927\n",
    "nombre_sain          1621\n",
    "nombre_exposed        413\n",
    "nombre_recovered    17039\n",
    "Name: 201, dtype: int64"
   ]
  },
  {
   "cell_type": "markdown",
   "id": "c33bd97e",
   "metadata": {},
   "source": [
    "nombre_infected       921\n",
    "nombre_sain          1604\n",
    "nombre_exposed        432\n",
    "nombre_recovered    17043\n",
    "Name: 202, dtype: int64"
   ]
  },
  {
   "cell_type": "markdown",
   "id": "ec7e7f11",
   "metadata": {},
   "source": [
    "nombre_infected       931\n",
    "nombre_sain          1589\n",
    "nombre_exposed        417\n",
    "nombre_recovered    17063\n",
    "Name: 203, dtype: int64"
   ]
  },
  {
   "cell_type": "markdown",
   "id": "b4f4988b",
   "metadata": {},
   "source": [
    "nombre_infected       909\n",
    "nombre_sain          1586\n",
    "nombre_exposed        417\n",
    "nombre_recovered    17088\n",
    "Name: 204, dtype: int64"
   ]
  },
  {
   "cell_type": "markdown",
   "id": "0135d0df",
   "metadata": {},
   "source": [
    "nombre_infected       940\n",
    "nombre_sain          1575\n",
    "nombre_exposed        395\n",
    "nombre_recovered    17090\n",
    "Name: 205, dtype: int64"
   ]
  },
  {
   "cell_type": "markdown",
   "id": "feb34009",
   "metadata": {},
   "source": [
    "nombre_infected       941\n",
    "nombre_sain          1572\n",
    "nombre_exposed        391\n",
    "nombre_recovered    17096\n",
    "Name: 206, dtype: int64"
   ]
  },
  {
   "cell_type": "markdown",
   "id": "99a9bf81",
   "metadata": {},
   "source": [
    "nombre_infected       929\n",
    "nombre_sain          1583\n",
    "nombre_exposed        373\n",
    "nombre_recovered    17115\n",
    "Name: 207, dtype: int64"
   ]
  },
  {
   "cell_type": "markdown",
   "id": "6ead4dc7",
   "metadata": {},
   "source": [
    "nombre_infected       926\n",
    "nombre_sain          1577\n",
    "nombre_exposed        381\n",
    "nombre_recovered    17116\n",
    "Name: 208, dtype: int64"
   ]
  },
  {
   "cell_type": "markdown",
   "id": "56403e52",
   "metadata": {},
   "source": [
    "nombre_infected       892\n",
    "nombre_sain          1607\n",
    "nombre_exposed        384\n",
    "nombre_recovered    17117\n",
    "Name: 209, dtype: int64"
   ]
  },
  {
   "cell_type": "markdown",
   "id": "99a751f8",
   "metadata": {},
   "source": [
    "nombre_infected       912\n",
    "nombre_sain          1630\n",
    "nombre_exposed        359\n",
    "nombre_recovered    17099\n",
    "Name: 210, dtype: int64"
   ]
  },
  {
   "cell_type": "markdown",
   "id": "3b18e911",
   "metadata": {},
   "source": [
    "nombre_infected       909\n",
    "nombre_sain          1668\n",
    "nombre_exposed        335\n",
    "nombre_recovered    17088\n",
    "Name: 211, dtype: int64"
   ]
  },
  {
   "cell_type": "markdown",
   "id": "035cb3d8",
   "metadata": {},
   "source": [
    "nombre_infected       894\n",
    "nombre_sain          1678\n",
    "nombre_exposed        340\n",
    "nombre_recovered    17088\n",
    "Name: 212, dtype: int64"
   ]
  },
  {
   "cell_type": "markdown",
   "id": "971019d3",
   "metadata": {},
   "source": [
    "nombre_infected       849\n",
    "nombre_sain          1680\n",
    "nombre_exposed        361\n",
    "nombre_recovered    17110\n",
    "Name: 213, dtype: int64"
   ]
  },
  {
   "cell_type": "markdown",
   "id": "fe48daf2",
   "metadata": {},
   "source": [
    "nombre_infected       845\n",
    "nombre_sain          1697\n",
    "nombre_exposed        353\n",
    "nombre_recovered    17105\n",
    "Name: 214, dtype: int64"
   ]
  },
  {
   "cell_type": "markdown",
   "id": "59708e66",
   "metadata": {},
   "source": [
    "nombre_infected       818\n",
    "nombre_sain          1687\n",
    "nombre_exposed        368\n",
    "nombre_recovered    17127\n",
    "Name: 215, dtype: int64"
   ]
  },
  {
   "cell_type": "markdown",
   "id": "2de13f1d",
   "metadata": {},
   "source": [
    "nombre_infected       820\n",
    "nombre_sain          1693\n",
    "nombre_exposed        364\n",
    "nombre_recovered    17123\n",
    "Name: 216, dtype: int64"
   ]
  },
  {
   "cell_type": "markdown",
   "id": "242c7a23",
   "metadata": {},
   "source": [
    "nombre_infected       801\n",
    "nombre_sain          1711\n",
    "nombre_exposed        356\n",
    "nombre_recovered    17132\n",
    "Name: 217, dtype: int64"
   ]
  },
  {
   "cell_type": "markdown",
   "id": "d90b4672",
   "metadata": {},
   "source": [
    "nombre_infected       784\n",
    "nombre_sain          1730\n",
    "nombre_exposed        351\n",
    "nombre_recovered    17135\n",
    "Name: 218, dtype: int64"
   ]
  },
  {
   "cell_type": "markdown",
   "id": "ad5ae51a",
   "metadata": {},
   "source": [
    "nombre_infected       780\n",
    "nombre_sain          1727\n",
    "nombre_exposed        355\n",
    "nombre_recovered    17138\n",
    "Name: 219, dtype: int64"
   ]
  },
  {
   "cell_type": "markdown",
   "id": "fe968133",
   "metadata": {},
   "source": [
    "nombre_infected       769\n",
    "nombre_sain          1735\n",
    "nombre_exposed        360\n",
    "nombre_recovered    17136\n",
    "Name: 220, dtype: int64"
   ]
  },
  {
   "cell_type": "markdown",
   "id": "9a1b6423",
   "metadata": {},
   "source": [
    "nombre_infected       778\n",
    "nombre_sain          1774\n",
    "nombre_exposed        330\n",
    "nombre_recovered    17118\n",
    "Name: 221, dtype: int64"
   ]
  },
  {
   "cell_type": "markdown",
   "id": "e4757b2d",
   "metadata": {},
   "source": [
    "nombre_infected       771\n",
    "nombre_sain          1774\n",
    "nombre_exposed        333\n",
    "nombre_recovered    17122\n",
    "Name: 222, dtype: int64"
   ]
  },
  {
   "cell_type": "markdown",
   "id": "6343134d",
   "metadata": {},
   "source": [
    "nombre_infected       751\n",
    "nombre_sain          1797\n",
    "nombre_exposed        323\n",
    "nombre_recovered    17129\n",
    "Name: 223, dtype: int64"
   ]
  },
  {
   "cell_type": "markdown",
   "id": "88149b3e",
   "metadata": {},
   "source": [
    "nombre_infected       726\n",
    "nombre_sain          1812\n",
    "nombre_exposed        325\n",
    "nombre_recovered    17137\n",
    "Name: 224, dtype: int64"
   ]
  },
  {
   "cell_type": "markdown",
   "id": "1045ff3b",
   "metadata": {},
   "source": [
    "nombre_infected       707\n",
    "nombre_sain          1853\n",
    "nombre_exposed        313\n",
    "nombre_recovered    17127\n",
    "Name: 225, dtype: int64"
   ]
  },
  {
   "cell_type": "markdown",
   "id": "ef2d89bf",
   "metadata": {},
   "source": [
    "nombre_infected       710\n",
    "nombre_sain          1885\n",
    "nombre_exposed        297\n",
    "nombre_recovered    17108\n",
    "Name: 226, dtype: int64"
   ]
  },
  {
   "cell_type": "markdown",
   "id": "f18a552d",
   "metadata": {},
   "source": [
    "nombre_infected       710\n",
    "nombre_sain          1890\n",
    "nombre_exposed        317\n",
    "nombre_recovered    17083\n",
    "Name: 227, dtype: int64"
   ]
  },
  {
   "cell_type": "markdown",
   "id": "edcabc30",
   "metadata": {},
   "source": [
    "nombre_infected       718\n",
    "nombre_sain          1910\n",
    "nombre_exposed        304\n",
    "nombre_recovered    17068\n",
    "Name: 228, dtype: int64"
   ]
  },
  {
   "cell_type": "markdown",
   "id": "b45ec228",
   "metadata": {},
   "source": [
    "nombre_infected       725\n",
    "nombre_sain          1932\n",
    "nombre_exposed        308\n",
    "nombre_recovered    17035\n",
    "Name: 229, dtype: int64"
   ]
  },
  {
   "cell_type": "markdown",
   "id": "e80c52ba",
   "metadata": {},
   "source": [
    "nombre_infected       719\n",
    "nombre_sain          1954\n",
    "nombre_exposed        305\n",
    "nombre_recovered    17022\n",
    "Name: 230, dtype: int64"
   ]
  },
  {
   "cell_type": "markdown",
   "id": "1a4b290d",
   "metadata": {},
   "source": [
    "nombre_infected       722\n",
    "nombre_sain          1955\n",
    "nombre_exposed        309\n",
    "nombre_recovered    17014\n",
    "Name: 231, dtype: int64"
   ]
  },
  {
   "cell_type": "markdown",
   "id": "93bf9132",
   "metadata": {},
   "source": [
    "nombre_infected       690\n",
    "nombre_sain          1957\n",
    "nombre_exposed        339\n",
    "nombre_recovered    17014\n",
    "Name: 232, dtype: int64"
   ]
  },
  {
   "cell_type": "markdown",
   "id": "bbeea057",
   "metadata": {},
   "source": [
    "nombre_infected       668\n",
    "nombre_sain          1999\n",
    "nombre_exposed        334\n",
    "nombre_recovered    16999\n",
    "Name: 233, dtype: int64"
   ]
  },
  {
   "cell_type": "markdown",
   "id": "5250a812",
   "metadata": {},
   "source": [
    "nombre_infected       680\n",
    "nombre_sain          2045\n",
    "nombre_exposed        308\n",
    "nombre_recovered    16967\n",
    "Name: 234, dtype: int64"
   ]
  },
  {
   "cell_type": "markdown",
   "id": "0c9d7752",
   "metadata": {},
   "source": [
    "nombre_infected       689\n",
    "nombre_sain          2048\n",
    "nombre_exposed        319\n",
    "nombre_recovered    16944\n",
    "Name: 235, dtype: int64"
   ]
  },
  {
   "cell_type": "markdown",
   "id": "cb58738a",
   "metadata": {},
   "source": [
    "nombre_infected       676\n",
    "nombre_sain          2093\n",
    "nombre_exposed        299\n",
    "nombre_recovered    16932\n",
    "Name: 236, dtype: int64"
   ]
  },
  {
   "cell_type": "markdown",
   "id": "b11393a2",
   "metadata": {},
   "source": [
    "nombre_infected       678\n",
    "nombre_sain          2132\n",
    "nombre_exposed        287\n",
    "nombre_recovered    16903\n",
    "Name: 237, dtype: int64"
   ]
  },
  {
   "cell_type": "markdown",
   "id": "2ee1e21d",
   "metadata": {},
   "source": [
    "nombre_infected       671\n",
    "nombre_sain          2154\n",
    "nombre_exposed        297\n",
    "nombre_recovered    16878\n",
    "Name: 238, dtype: int64"
   ]
  },
  {
   "cell_type": "markdown",
   "id": "7896b2d3",
   "metadata": {},
   "source": [
    "nombre_infected       648\n",
    "nombre_sain          2155\n",
    "nombre_exposed        351\n",
    "nombre_recovered    16846\n",
    "Name: 239, dtype: int64"
   ]
  },
  {
   "cell_type": "markdown",
   "id": "9c47d0ca",
   "metadata": {},
   "source": [
    "nombre_infected       655\n",
    "nombre_sain          2187\n",
    "nombre_exposed        346\n",
    "nombre_recovered    16812\n",
    "Name: 240, dtype: int64"
   ]
  },
  {
   "cell_type": "markdown",
   "id": "e254999e",
   "metadata": {},
   "source": [
    "nombre_infected       655\n",
    "nombre_sain          2221\n",
    "nombre_exposed        349\n",
    "nombre_recovered    16775\n",
    "Name: 241, dtype: int64"
   ]
  },
  {
   "cell_type": "markdown",
   "id": "d4f8dd97",
   "metadata": {},
   "source": [
    "nombre_infected       646\n",
    "nombre_sain          2231\n",
    "nombre_exposed        370\n",
    "nombre_recovered    16753\n",
    "Name: 242, dtype: int64"
   ]
  },
  {
   "cell_type": "markdown",
   "id": "aa431ab3",
   "metadata": {},
   "source": [
    "nombre_infected       656\n",
    "nombre_sain          2259\n",
    "nombre_exposed        344\n",
    "nombre_recovered    16741\n",
    "Name: 243, dtype: int64"
   ]
  },
  {
   "cell_type": "markdown",
   "id": "8634a7cc",
   "metadata": {},
   "source": [
    "nombre_infected       658\n",
    "nombre_sain          2288\n",
    "nombre_exposed        328\n",
    "nombre_recovered    16726\n",
    "Name: 244, dtype: int64"
   ]
  },
  {
   "cell_type": "markdown",
   "id": "78069557",
   "metadata": {},
   "source": [
    "nombre_infected       661\n",
    "nombre_sain          2312\n",
    "nombre_exposed        348\n",
    "nombre_recovered    16679\n",
    "Name: 245, dtype: int64"
   ]
  },
  {
   "cell_type": "markdown",
   "id": "11bee2ea",
   "metadata": {},
   "source": [
    "nombre_infected       657\n",
    "nombre_sain          2319\n",
    "nombre_exposed        368\n",
    "nombre_recovered    16656\n",
    "Name: 246, dtype: int64"
   ]
  },
  {
   "cell_type": "markdown",
   "id": "9bbd3286",
   "metadata": {},
   "source": [
    "nombre_infected       675\n",
    "nombre_sain          2325\n",
    "nombre_exposed        373\n",
    "nombre_recovered    16627\n",
    "Name: 247, dtype: int64"
   ]
  },
  {
   "cell_type": "markdown",
   "id": "835bf090",
   "metadata": {},
   "source": [
    "nombre_infected       692\n",
    "nombre_sain          2314\n",
    "nombre_exposed        383\n",
    "nombre_recovered    16611\n",
    "Name: 248, dtype: int64"
   ]
  },
  {
   "cell_type": "markdown",
   "id": "dddbefa5",
   "metadata": {},
   "source": [
    "nombre_infected       689\n",
    "nombre_sain          2323\n",
    "nombre_exposed        395\n",
    "nombre_recovered    16593\n",
    "Name: 249, dtype: int64"
   ]
  },
  {
   "cell_type": "markdown",
   "id": "1b154edb",
   "metadata": {},
   "source": [
    "nombre_infected       720\n",
    "nombre_sain          2348\n",
    "nombre_exposed        390\n",
    "nombre_recovered    16542\n",
    "Name: 250, dtype: int64"
   ]
  },
  {
   "cell_type": "markdown",
   "id": "20a90517",
   "metadata": {},
   "source": [
    "nombre_infected       722\n",
    "nombre_sain          2358\n",
    "nombre_exposed        398\n",
    "nombre_recovered    16522\n",
    "Name: 251, dtype: int64"
   ]
  },
  {
   "cell_type": "markdown",
   "id": "9c158027",
   "metadata": {},
   "source": [
    "nombre_infected       726\n",
    "nombre_sain          2375\n",
    "nombre_exposed        397\n",
    "nombre_recovered    16502\n",
    "Name: 252, dtype: int64"
   ]
  },
  {
   "cell_type": "markdown",
   "id": "d794c8a0",
   "metadata": {},
   "source": [
    "nombre_infected       732\n",
    "nombre_sain          2384\n",
    "nombre_exposed        398\n",
    "nombre_recovered    16486\n",
    "Name: 253, dtype: int64"
   ]
  },
  {
   "cell_type": "markdown",
   "id": "357649bf",
   "metadata": {},
   "source": [
    "nombre_infected       764\n",
    "nombre_sain          2391\n",
    "nombre_exposed        393\n",
    "nombre_recovered    16452\n",
    "Name: 254, dtype: int64"
   ]
  },
  {
   "cell_type": "markdown",
   "id": "391151ad",
   "metadata": {},
   "source": [
    "nombre_infected       777\n",
    "nombre_sain          2400\n",
    "nombre_exposed        395\n",
    "nombre_recovered    16428\n",
    "Name: 255, dtype: int64"
   ]
  },
  {
   "cell_type": "markdown",
   "id": "a93465e0",
   "metadata": {},
   "source": [
    "nombre_infected       773\n",
    "nombre_sain          2415\n",
    "nombre_exposed        419\n",
    "nombre_recovered    16393\n",
    "Name: 256, dtype: int64"
   ]
  },
  {
   "cell_type": "markdown",
   "id": "2ed24e7f",
   "metadata": {},
   "source": [
    "nombre_infected       782\n",
    "nombre_sain          2404\n",
    "nombre_exposed        430\n",
    "nombre_recovered    16384\n",
    "Name: 257, dtype: int64"
   ]
  },
  {
   "cell_type": "markdown",
   "id": "ce38867a",
   "metadata": {},
   "source": [
    "nombre_infected       788\n",
    "nombre_sain          2386\n",
    "nombre_exposed        441\n",
    "nombre_recovered    16385\n",
    "Name: 258, dtype: int64"
   ]
  },
  {
   "cell_type": "markdown",
   "id": "059a0fc0",
   "metadata": {},
   "source": [
    "nombre_infected       831\n",
    "nombre_sain          2377\n",
    "nombre_exposed        439\n",
    "nombre_recovered    16353\n",
    "Name: 259, dtype: int64"
   ]
  },
  {
   "cell_type": "markdown",
   "id": "b1cf0f46",
   "metadata": {},
   "source": [
    "nombre_infected       850\n",
    "nombre_sain          2357\n",
    "nombre_exposed        458\n",
    "nombre_recovered    16335\n",
    "Name: 260, dtype: int64"
   ]
  },
  {
   "cell_type": "markdown",
   "id": "21121e46",
   "metadata": {},
   "source": [
    "nombre_infected       864\n",
    "nombre_sain          2340\n",
    "nombre_exposed        472\n",
    "nombre_recovered    16324\n",
    "Name: 261, dtype: int64"
   ]
  },
  {
   "cell_type": "markdown",
   "id": "9af0143c",
   "metadata": {},
   "source": [
    "nombre_infected       875\n",
    "nombre_sain          2313\n",
    "nombre_exposed        464\n",
    "nombre_recovered    16348\n",
    "Name: 262, dtype: int64"
   ]
  },
  {
   "cell_type": "markdown",
   "id": "7d396198",
   "metadata": {},
   "source": [
    "nombre_infected       885\n",
    "nombre_sain          2308\n",
    "nombre_exposed        463\n",
    "nombre_recovered    16344\n",
    "Name: 263, dtype: int64"
   ]
  },
  {
   "cell_type": "markdown",
   "id": "b7790b2e",
   "metadata": {},
   "source": [
    "nombre_infected       894\n",
    "nombre_sain          2294\n",
    "nombre_exposed        473\n",
    "nombre_recovered    16339\n",
    "Name: 264, dtype: int64"
   ]
  },
  {
   "cell_type": "markdown",
   "id": "9899ceda",
   "metadata": {},
   "source": [
    "nombre_infected       905\n",
    "nombre_sain          2266\n",
    "nombre_exposed        465\n",
    "nombre_recovered    16364\n",
    "Name: 265, dtype: int64"
   ]
  },
  {
   "cell_type": "markdown",
   "id": "67aa0d6b",
   "metadata": {},
   "source": [
    "nombre_infected       910\n",
    "nombre_sain          2236\n",
    "nombre_exposed        482\n",
    "nombre_recovered    16372\n",
    "Name: 266, dtype: int64"
   ]
  },
  {
   "cell_type": "markdown",
   "id": "aaaf5a3b",
   "metadata": {},
   "source": [
    "nombre_infected       919\n",
    "nombre_sain          2216\n",
    "nombre_exposed        487\n",
    "nombre_recovered    16378\n",
    "Name: 267, dtype: int64"
   ]
  },
  {
   "cell_type": "markdown",
   "id": "9d1b5e73",
   "metadata": {},
   "source": [
    "nombre_infected       924\n",
    "nombre_sain          2201\n",
    "nombre_exposed        481\n",
    "nombre_recovered    16394\n",
    "Name: 268, dtype: int64"
   ]
  },
  {
   "cell_type": "markdown",
   "id": "510fd119",
   "metadata": {},
   "source": [
    "nombre_infected       937\n",
    "nombre_sain          2172\n",
    "nombre_exposed        480\n",
    "nombre_recovered    16411\n",
    "Name: 269, dtype: int64"
   ]
  },
  {
   "cell_type": "markdown",
   "id": "ef5cb7ff",
   "metadata": {},
   "source": [
    "nombre_infected       942\n",
    "nombre_sain          2157\n",
    "nombre_exposed        459\n",
    "nombre_recovered    16442\n",
    "Name: 270, dtype: int64"
   ]
  },
  {
   "cell_type": "markdown",
   "id": "f7706986",
   "metadata": {},
   "source": [
    "nombre_infected       932\n",
    "nombre_sain          2133\n",
    "nombre_exposed        455\n",
    "nombre_recovered    16480\n",
    "Name: 271, dtype: int64"
   ]
  },
  {
   "cell_type": "markdown",
   "id": "be496fe8",
   "metadata": {},
   "source": [
    "nombre_infected       936\n",
    "nombre_sain          2118\n",
    "nombre_exposed        450\n",
    "nombre_recovered    16496\n",
    "Name: 272, dtype: int64"
   ]
  },
  {
   "cell_type": "markdown",
   "id": "ad52bf78",
   "metadata": {},
   "source": [
    "nombre_infected       954\n",
    "nombre_sain          2107\n",
    "nombre_exposed        440\n",
    "nombre_recovered    16499\n",
    "Name: 273, dtype: int64"
   ]
  },
  {
   "cell_type": "markdown",
   "id": "e05c9b4e",
   "metadata": {},
   "source": [
    "nombre_infected       961\n",
    "nombre_sain          2094\n",
    "nombre_exposed        443\n",
    "nombre_recovered    16502\n",
    "Name: 274, dtype: int64"
   ]
  },
  {
   "cell_type": "markdown",
   "id": "7ff4dd62",
   "metadata": {},
   "source": [
    "nombre_infected       963\n",
    "nombre_sain          2103\n",
    "nombre_exposed        437\n",
    "nombre_recovered    16497\n",
    "Name: 275, dtype: int64"
   ]
  },
  {
   "cell_type": "markdown",
   "id": "f2e8042d",
   "metadata": {},
   "source": [
    "nombre_infected       962\n",
    "nombre_sain          2074\n",
    "nombre_exposed        465\n",
    "nombre_recovered    16499\n",
    "Name: 276, dtype: int64"
   ]
  },
  {
   "cell_type": "markdown",
   "id": "f849ec9d",
   "metadata": {},
   "source": [
    "nombre_infected       952\n",
    "nombre_sain          2068\n",
    "nombre_exposed        484\n",
    "nombre_recovered    16496\n",
    "Name: 277, dtype: int64"
   ]
  },
  {
   "cell_type": "markdown",
   "id": "d9e4c0b2",
   "metadata": {},
   "source": [
    "nombre_infected       963\n",
    "nombre_sain          2073\n",
    "nombre_exposed        468\n",
    "nombre_recovered    16496\n",
    "Name: 278, dtype: int64"
   ]
  },
  {
   "cell_type": "markdown",
   "id": "8d20a5c8",
   "metadata": {},
   "source": [
    "nombre_infected       965\n",
    "nombre_sain          2094\n",
    "nombre_exposed        457\n",
    "nombre_recovered    16484\n",
    "Name: 279, dtype: int64"
   ]
  },
  {
   "cell_type": "markdown",
   "id": "b6afe147",
   "metadata": {},
   "source": [
    "nombre_infected       997\n",
    "nombre_sain          2088\n",
    "nombre_exposed        442\n",
    "nombre_recovered    16473\n",
    "Name: 280, dtype: int64"
   ]
  },
  {
   "cell_type": "markdown",
   "id": "abb2d7c5",
   "metadata": {},
   "source": [
    "nombre_infected       954\n",
    "nombre_sain          2083\n",
    "nombre_exposed        466\n",
    "nombre_recovered    16497\n",
    "Name: 281, dtype: int64"
   ]
  },
  {
   "cell_type": "markdown",
   "id": "afbf8742",
   "metadata": {},
   "source": [
    "nombre_infected       947\n",
    "nombre_sain          2084\n",
    "nombre_exposed        475\n",
    "nombre_recovered    16494\n",
    "Name: 282, dtype: int64"
   ]
  },
  {
   "cell_type": "markdown",
   "id": "8846b05a",
   "metadata": {},
   "source": [
    "nombre_infected       929\n",
    "nombre_sain          2072\n",
    "nombre_exposed        497\n",
    "nombre_recovered    16502\n",
    "Name: 283, dtype: int64"
   ]
  },
  {
   "cell_type": "markdown",
   "id": "0d110852",
   "metadata": {},
   "source": [
    "nombre_infected       934\n",
    "nombre_sain          2055\n",
    "nombre_exposed        494\n",
    "nombre_recovered    16517\n",
    "Name: 284, dtype: int64"
   ]
  },
  {
   "cell_type": "markdown",
   "id": "8fd91662",
   "metadata": {},
   "source": [
    "nombre_infected       969\n",
    "nombre_sain          2051\n",
    "nombre_exposed        468\n",
    "nombre_recovered    16512\n",
    "Name: 285, dtype: int64"
   ]
  },
  {
   "cell_type": "markdown",
   "id": "6226e4f1",
   "metadata": {},
   "source": [
    "nombre_infected      1000\n",
    "nombre_sain          2038\n",
    "nombre_exposed        461\n",
    "nombre_recovered    16501\n",
    "Name: 286, dtype: int64"
   ]
  },
  {
   "cell_type": "markdown",
   "id": "109fd1ea",
   "metadata": {},
   "source": [
    "nombre_infected       991\n",
    "nombre_sain          2017\n",
    "nombre_exposed        460\n",
    "nombre_recovered    16532\n",
    "Name: 287, dtype: int64"
   ]
  },
  {
   "cell_type": "markdown",
   "id": "f2294b98",
   "metadata": {},
   "source": [
    "nombre_infected       992\n",
    "nombre_sain          2012\n",
    "nombre_exposed        453\n",
    "nombre_recovered    16543\n",
    "Name: 288, dtype: int64"
   ]
  },
  {
   "cell_type": "markdown",
   "id": "a7331074",
   "metadata": {},
   "source": [
    "nombre_infected       983\n",
    "nombre_sain          1977\n",
    "nombre_exposed        455\n",
    "nombre_recovered    16585\n",
    "Name: 289, dtype: int64"
   ]
  },
  {
   "cell_type": "markdown",
   "id": "db2fe05c",
   "metadata": {},
   "source": [
    "nombre_infected       962\n",
    "nombre_sain          1961\n",
    "nombre_exposed        465\n",
    "nombre_recovered    16612\n",
    "Name: 290, dtype: int64"
   ]
  },
  {
   "cell_type": "markdown",
   "id": "ff4c826c",
   "metadata": {},
   "source": [
    "nombre_infected       981\n",
    "nombre_sain          1931\n",
    "nombre_exposed        463\n",
    "nombre_recovered    16625\n",
    "Name: 291, dtype: int64"
   ]
  },
  {
   "cell_type": "markdown",
   "id": "20fe3d92",
   "metadata": {},
   "source": [
    "nombre_infected       983\n",
    "nombre_sain          1904\n",
    "nombre_exposed        455\n",
    "nombre_recovered    16658\n",
    "Name: 292, dtype: int64"
   ]
  },
  {
   "cell_type": "markdown",
   "id": "1c6c7687",
   "metadata": {},
   "source": [
    "nombre_infected       960\n",
    "nombre_sain          1903\n",
    "nombre_exposed        435\n",
    "nombre_recovered    16702\n",
    "Name: 293, dtype: int64"
   ]
  },
  {
   "cell_type": "markdown",
   "id": "aceda8cd",
   "metadata": {},
   "source": [
    "nombre_infected       948\n",
    "nombre_sain          1881\n",
    "nombre_exposed        451\n",
    "nombre_recovered    16720\n",
    "Name: 294, dtype: int64"
   ]
  },
  {
   "cell_type": "markdown",
   "id": "ca71959b",
   "metadata": {},
   "source": [
    "nombre_infected       937\n",
    "nombre_sain          1864\n",
    "nombre_exposed        447\n",
    "nombre_recovered    16752\n",
    "Name: 295, dtype: int64"
   ]
  },
  {
   "cell_type": "markdown",
   "id": "be704f33",
   "metadata": {},
   "source": [
    "nombre_infected       948\n",
    "nombre_sain          1873\n",
    "nombre_exposed        438\n",
    "nombre_recovered    16741\n",
    "Name: 296, dtype: int64"
   ]
  },
  {
   "cell_type": "markdown",
   "id": "10547768",
   "metadata": {},
   "source": [
    "nombre_infected       953\n",
    "nombre_sain          1889\n",
    "nombre_exposed        419\n",
    "nombre_recovered    16739\n",
    "Name: 297, dtype: int64"
   ]
  },
  {
   "cell_type": "markdown",
   "id": "b8b52532",
   "metadata": {},
   "source": [
    "nombre_infected       961\n",
    "nombre_sain          1892\n",
    "nombre_exposed        418\n",
    "nombre_recovered    16729\n",
    "Name: 298, dtype: int64"
   ]
  },
  {
   "cell_type": "markdown",
   "id": "b77e5135",
   "metadata": {},
   "source": [
    "nombre_infected       950\n",
    "nombre_sain          1889\n",
    "nombre_exposed        408\n",
    "nombre_recovered    16753\n",
    "Name: 299, dtype: int64"
   ]
  },
  {
   "cell_type": "markdown",
   "id": "eec5fb29",
   "metadata": {},
   "source": [
    "nombre_infected       943\n",
    "nombre_sain          1912\n",
    "nombre_exposed        396\n",
    "nombre_recovered    16749\n",
    "Name: 300, dtype: int64"
   ]
  },
  {
   "cell_type": "markdown",
   "id": "3a94bf98",
   "metadata": {},
   "source": [
    "nombre_infected       927\n",
    "nombre_sain          1892\n",
    "nombre_exposed        416\n",
    "nombre_recovered    16765\n",
    "Name: 301, dtype: int64"
   ]
  },
  {
   "cell_type": "markdown",
   "id": "cf9d0ef0",
   "metadata": {},
   "source": [
    "nombre_infected       901\n",
    "nombre_sain          1861\n",
    "nombre_exposed        465\n",
    "nombre_recovered    16773\n",
    "Name: 302, dtype: int64"
   ]
  },
  {
   "cell_type": "markdown",
   "id": "2fbf82af",
   "metadata": {},
   "source": [
    "nombre_infected       903\n",
    "nombre_sain          1871\n",
    "nombre_exposed        458\n",
    "nombre_recovered    16768\n",
    "Name: 303, dtype: int64"
   ]
  },
  {
   "cell_type": "markdown",
   "id": "1754647e",
   "metadata": {},
   "source": [
    "nombre_infected       878\n",
    "nombre_sain          1873\n",
    "nombre_exposed        483\n",
    "nombre_recovered    16766\n",
    "Name: 304, dtype: int64"
   ]
  },
  {
   "cell_type": "markdown",
   "id": "db7afde2",
   "metadata": {},
   "source": [
    "nombre_infected       881\n",
    "nombre_sain          1886\n",
    "nombre_exposed        472\n",
    "nombre_recovered    16761\n",
    "Name: 305, dtype: int64"
   ]
  },
  {
   "cell_type": "markdown",
   "id": "b2ac23af",
   "metadata": {},
   "source": [
    "nombre_infected       886\n",
    "nombre_sain          1895\n",
    "nombre_exposed        469\n",
    "nombre_recovered    16750\n",
    "Name: 306, dtype: int64"
   ]
  },
  {
   "cell_type": "markdown",
   "id": "9ec9c414",
   "metadata": {},
   "source": [
    "nombre_infected       912\n",
    "nombre_sain          1896\n",
    "nombre_exposed        464\n",
    "nombre_recovered    16728\n",
    "Name: 307, dtype: int64"
   ]
  },
  {
   "cell_type": "markdown",
   "id": "874092d6",
   "metadata": {},
   "source": [
    "nombre_infected       902\n",
    "nombre_sain          1904\n",
    "nombre_exposed        464\n",
    "nombre_recovered    16730\n",
    "Name: 308, dtype: int64"
   ]
  },
  {
   "cell_type": "markdown",
   "id": "2c5b071c",
   "metadata": {},
   "source": [
    "nombre_infected       905\n",
    "nombre_sain          1921\n",
    "nombre_exposed        442\n",
    "nombre_recovered    16732\n",
    "Name: 309, dtype: int64"
   ]
  },
  {
   "cell_type": "markdown",
   "id": "e9cece3c",
   "metadata": {},
   "source": [
    "nombre_infected       914\n",
    "nombre_sain          1912\n",
    "nombre_exposed        451\n",
    "nombre_recovered    16723\n",
    "Name: 310, dtype: int64"
   ]
  },
  {
   "cell_type": "markdown",
   "id": "62f96ef8",
   "metadata": {},
   "source": [
    "nombre_infected       922\n",
    "nombre_sain          1921\n",
    "nombre_exposed        434\n",
    "nombre_recovered    16723\n",
    "Name: 311, dtype: int64"
   ]
  },
  {
   "cell_type": "markdown",
   "id": "1c06201c",
   "metadata": {},
   "source": [
    "nombre_infected       942\n",
    "nombre_sain          1938\n",
    "nombre_exposed        407\n",
    "nombre_recovered    16713\n",
    "Name: 312, dtype: int64"
   ]
  },
  {
   "cell_type": "markdown",
   "id": "d82eaef2",
   "metadata": {},
   "source": [
    "nombre_infected       924\n",
    "nombre_sain          1944\n",
    "nombre_exposed        414\n",
    "nombre_recovered    16718\n",
    "Name: 313, dtype: int64"
   ]
  },
  {
   "cell_type": "markdown",
   "id": "97dbb39b",
   "metadata": {},
   "source": [
    "nombre_infected       902\n",
    "nombre_sain          1954\n",
    "nombre_exposed        428\n",
    "nombre_recovered    16716\n",
    "Name: 314, dtype: int64"
   ]
  },
  {
   "cell_type": "markdown",
   "id": "7bf6339f",
   "metadata": {},
   "source": [
    "nombre_infected       892\n",
    "nombre_sain          1946\n",
    "nombre_exposed        440\n",
    "nombre_recovered    16722\n",
    "Name: 315, dtype: int64"
   ]
  },
  {
   "cell_type": "markdown",
   "id": "d87709c3",
   "metadata": {},
   "source": [
    "nombre_infected       891\n",
    "nombre_sain          1963\n",
    "nombre_exposed        449\n",
    "nombre_recovered    16697\n",
    "Name: 316, dtype: int64"
   ]
  },
  {
   "cell_type": "markdown",
   "id": "2ede3ef8",
   "metadata": {},
   "source": [
    "nombre_infected       919\n",
    "nombre_sain          1971\n",
    "nombre_exposed        444\n",
    "nombre_recovered    16666\n",
    "Name: 317, dtype: int64"
   ]
  },
  {
   "cell_type": "markdown",
   "id": "31cadc31",
   "metadata": {},
   "source": [
    "nombre_infected       933\n",
    "nombre_sain          1996\n",
    "nombre_exposed        431\n",
    "nombre_recovered    16640\n",
    "Name: 318, dtype: int64"
   ]
  },
  {
   "cell_type": "markdown",
   "id": "d84a05d1",
   "metadata": {},
   "source": [
    "nombre_infected       933\n",
    "nombre_sain          1989\n",
    "nombre_exposed        454\n",
    "nombre_recovered    16624\n",
    "Name: 319, dtype: int64"
   ]
  },
  {
   "cell_type": "markdown",
   "id": "1c89a5d3",
   "metadata": {},
   "source": [
    "nombre_infected       941\n",
    "nombre_sain          1979\n",
    "nombre_exposed        445\n",
    "nombre_recovered    16635\n",
    "Name: 320, dtype: int64"
   ]
  },
  {
   "cell_type": "markdown",
   "id": "9ad1a396",
   "metadata": {},
   "source": [
    "nombre_infected       938\n",
    "nombre_sain          1983\n",
    "nombre_exposed        423\n",
    "nombre_recovered    16656\n",
    "Name: 321, dtype: int64"
   ]
  },
  {
   "cell_type": "markdown",
   "id": "4102c8c8",
   "metadata": {},
   "source": [
    "nombre_infected       941\n",
    "nombre_sain          2004\n",
    "nombre_exposed        414\n",
    "nombre_recovered    16641\n",
    "Name: 322, dtype: int64"
   ]
  },
  {
   "cell_type": "markdown",
   "id": "cae63c06",
   "metadata": {},
   "source": [
    "nombre_infected       932\n",
    "nombre_sain          1980\n",
    "nombre_exposed        411\n",
    "nombre_recovered    16677\n",
    "Name: 323, dtype: int64"
   ]
  },
  {
   "cell_type": "markdown",
   "id": "010e7fc0",
   "metadata": {},
   "source": [
    "nombre_infected       911\n",
    "nombre_sain          1964\n",
    "nombre_exposed        444\n",
    "nombre_recovered    16681\n",
    "Name: 324, dtype: int64"
   ]
  },
  {
   "cell_type": "markdown",
   "id": "1bc1b417",
   "metadata": {},
   "source": [
    "nombre_infected       935\n",
    "nombre_sain          1950\n",
    "nombre_exposed        429\n",
    "nombre_recovered    16686\n",
    "Name: 325, dtype: int64"
   ]
  },
  {
   "cell_type": "markdown",
   "id": "7ee1356d",
   "metadata": {},
   "source": [
    "nombre_infected       951\n",
    "nombre_sain          1931\n",
    "nombre_exposed        436\n",
    "nombre_recovered    16682\n",
    "Name: 326, dtype: int64"
   ]
  },
  {
   "cell_type": "markdown",
   "id": "365d26c5",
   "metadata": {},
   "source": [
    "nombre_infected       977\n",
    "nombre_sain          1920\n",
    "nombre_exposed        427\n",
    "nombre_recovered    16676\n",
    "Name: 327, dtype: int64"
   ]
  },
  {
   "cell_type": "markdown",
   "id": "04ef05ae",
   "metadata": {},
   "source": [
    "nombre_infected       982\n",
    "nombre_sain          1905\n",
    "nombre_exposed        424\n",
    "nombre_recovered    16689\n",
    "Name: 328, dtype: int64"
   ]
  },
  {
   "cell_type": "markdown",
   "id": "14d116aa",
   "metadata": {},
   "source": [
    "nombre_infected       981\n",
    "nombre_sain          1890\n",
    "nombre_exposed        426\n",
    "nombre_recovered    16703\n",
    "Name: 329, dtype: int64"
   ]
  },
  {
   "cell_type": "markdown",
   "id": "c166b720",
   "metadata": {},
   "source": [
    "nombre_infected       974\n",
    "nombre_sain          1889\n",
    "nombre_exposed        422\n",
    "nombre_recovered    16715\n",
    "Name: 330, dtype: int64"
   ]
  },
  {
   "cell_type": "markdown",
   "id": "4ed293b3",
   "metadata": {},
   "source": [
    "nombre_infected       975\n",
    "nombre_sain          1871\n",
    "nombre_exposed        411\n",
    "nombre_recovered    16743\n",
    "Name: 331, dtype: int64"
   ]
  },
  {
   "cell_type": "markdown",
   "id": "45b1a473",
   "metadata": {},
   "source": [
    "nombre_infected       968\n",
    "nombre_sain          1867\n",
    "nombre_exposed        405\n",
    "nombre_recovered    16760\n",
    "Name: 332, dtype: int64"
   ]
  },
  {
   "cell_type": "markdown",
   "id": "34877487",
   "metadata": {},
   "source": [
    "nombre_infected       967\n",
    "nombre_sain          1854\n",
    "nombre_exposed        395\n",
    "nombre_recovered    16784\n",
    "Name: 333, dtype: int64"
   ]
  },
  {
   "cell_type": "markdown",
   "id": "10c5f0d9",
   "metadata": {},
   "source": [
    "nombre_infected       948\n",
    "nombre_sain          1880\n",
    "nombre_exposed        391\n",
    "nombre_recovered    16781\n",
    "Name: 334, dtype: int64"
   ]
  },
  {
   "cell_type": "markdown",
   "id": "7de52713",
   "metadata": {},
   "source": [
    "nombre_infected       957\n",
    "nombre_sain          1839\n",
    "nombre_exposed        405\n",
    "nombre_recovered    16799\n",
    "Name: 335, dtype: int64"
   ]
  },
  {
   "cell_type": "markdown",
   "id": "bc444e9c",
   "metadata": {},
   "source": [
    "nombre_infected       947\n",
    "nombre_sain          1840\n",
    "nombre_exposed        404\n",
    "nombre_recovered    16809\n",
    "Name: 336, dtype: int64"
   ]
  },
  {
   "cell_type": "markdown",
   "id": "b4064643",
   "metadata": {},
   "source": [
    "nombre_infected       947\n",
    "nombre_sain          1850\n",
    "nombre_exposed        388\n",
    "nombre_recovered    16815\n",
    "Name: 337, dtype: int64"
   ]
  },
  {
   "cell_type": "markdown",
   "id": "6e53f144",
   "metadata": {},
   "source": [
    "nombre_infected       949\n",
    "nombre_sain          1851\n",
    "nombre_exposed        368\n",
    "nombre_recovered    16832\n",
    "Name: 338, dtype: int64"
   ]
  },
  {
   "cell_type": "markdown",
   "id": "6dffed79",
   "metadata": {},
   "source": [
    "nombre_infected       943\n",
    "nombre_sain          1835\n",
    "nombre_exposed        365\n",
    "nombre_recovered    16857\n",
    "Name: 339, dtype: int64"
   ]
  },
  {
   "cell_type": "markdown",
   "id": "31028fb1",
   "metadata": {},
   "source": [
    "nombre_infected       918\n",
    "nombre_sain          1868\n",
    "nombre_exposed        384\n",
    "nombre_recovered    16830\n",
    "Name: 340, dtype: int64"
   ]
  },
  {
   "cell_type": "markdown",
   "id": "cc7f03c6",
   "metadata": {},
   "source": [
    "nombre_infected       913\n",
    "nombre_sain          1866\n",
    "nombre_exposed        380\n",
    "nombre_recovered    16841\n",
    "Name: 341, dtype: int64"
   ]
  },
  {
   "cell_type": "markdown",
   "id": "24646535",
   "metadata": {},
   "source": [
    "nombre_infected       911\n",
    "nombre_sain          1871\n",
    "nombre_exposed        404\n",
    "nombre_recovered    16814\n",
    "Name: 342, dtype: int64"
   ]
  },
  {
   "cell_type": "markdown",
   "id": "26b734a6",
   "metadata": {},
   "source": [
    "nombre_infected       903\n",
    "nombre_sain          1906\n",
    "nombre_exposed        395\n",
    "nombre_recovered    16796\n",
    "Name: 343, dtype: int64"
   ]
  },
  {
   "cell_type": "markdown",
   "id": "80aef56f",
   "metadata": {},
   "source": [
    "nombre_infected       894\n",
    "nombre_sain          1882\n",
    "nombre_exposed        409\n",
    "nombre_recovered    16815\n",
    "Name: 344, dtype: int64"
   ]
  },
  {
   "cell_type": "markdown",
   "id": "ea8ae193",
   "metadata": {},
   "source": [
    "nombre_infected       919\n",
    "nombre_sain          1902\n",
    "nombre_exposed        392\n",
    "nombre_recovered    16787\n",
    "Name: 345, dtype: int64"
   ]
  },
  {
   "cell_type": "markdown",
   "id": "d807a43e",
   "metadata": {},
   "source": [
    "nombre_infected       917\n",
    "nombre_sain          1903\n",
    "nombre_exposed        414\n",
    "nombre_recovered    16766\n",
    "Name: 346, dtype: int64"
   ]
  },
  {
   "cell_type": "markdown",
   "id": "abcb932e",
   "metadata": {},
   "source": [
    "nombre_infected       930\n",
    "nombre_sain          1911\n",
    "nombre_exposed        422\n",
    "nombre_recovered    16737\n",
    "Name: 347, dtype: int64"
   ]
  },
  {
   "cell_type": "markdown",
   "id": "0f3ad966",
   "metadata": {},
   "source": [
    "nombre_infected       923\n",
    "nombre_sain          1950\n",
    "nombre_exposed        414\n",
    "nombre_recovered    16713\n",
    "Name: 348, dtype: int64"
   ]
  },
  {
   "cell_type": "markdown",
   "id": "6dfaa10d",
   "metadata": {},
   "source": [
    "nombre_infected       924\n",
    "nombre_sain          1974\n",
    "nombre_exposed        412\n",
    "nombre_recovered    16690\n",
    "Name: 349, dtype: int64"
   ]
  },
  {
   "cell_type": "markdown",
   "id": "836e0d45",
   "metadata": {},
   "source": [
    "nombre_infected       930\n",
    "nombre_sain          1980\n",
    "nombre_exposed        418\n",
    "nombre_recovered    16672\n",
    "Name: 350, dtype: int64"
   ]
  },
  {
   "cell_type": "markdown",
   "id": "0d78526e",
   "metadata": {},
   "source": [
    "nombre_infected       943\n",
    "nombre_sain          1964\n",
    "nombre_exposed        434\n",
    "nombre_recovered    16659\n",
    "Name: 351, dtype: int64"
   ]
  },
  {
   "cell_type": "markdown",
   "id": "78cab085",
   "metadata": {},
   "source": [
    "nombre_infected       931\n",
    "nombre_sain          1996\n",
    "nombre_exposed        436\n",
    "nombre_recovered    16637\n",
    "Name: 352, dtype: int64"
   ]
  },
  {
   "cell_type": "markdown",
   "id": "a7bd9bcc",
   "metadata": {},
   "source": [
    "nombre_infected       945\n",
    "nombre_sain          2008\n",
    "nombre_exposed        434\n",
    "nombre_recovered    16613\n",
    "Name: 353, dtype: int64"
   ]
  },
  {
   "cell_type": "markdown",
   "id": "1d5b2e5b",
   "metadata": {},
   "source": [
    "nombre_infected       953\n",
    "nombre_sain          1992\n",
    "nombre_exposed        449\n",
    "nombre_recovered    16606\n",
    "Name: 354, dtype: int64"
   ]
  },
  {
   "cell_type": "markdown",
   "id": "bf432383",
   "metadata": {},
   "source": [
    "nombre_infected       954\n",
    "nombre_sain          2020\n",
    "nombre_exposed        446\n",
    "nombre_recovered    16580\n",
    "Name: 355, dtype: int64"
   ]
  },
  {
   "cell_type": "markdown",
   "id": "91dd0e6c",
   "metadata": {},
   "source": [
    "nombre_infected       971\n",
    "nombre_sain          2045\n",
    "nombre_exposed        436\n",
    "nombre_recovered    16548\n",
    "Name: 356, dtype: int64"
   ]
  },
  {
   "cell_type": "markdown",
   "id": "a192c51f",
   "metadata": {},
   "source": [
    "nombre_infected       985\n",
    "nombre_sain          2051\n",
    "nombre_exposed        419\n",
    "nombre_recovered    16545\n",
    "Name: 357, dtype: int64"
   ]
  },
  {
   "cell_type": "markdown",
   "id": "80ea0140",
   "metadata": {},
   "source": [
    "nombre_infected       980\n",
    "nombre_sain          2054\n",
    "nombre_exposed        417\n",
    "nombre_recovered    16549\n",
    "Name: 358, dtype: int64"
   ]
  },
  {
   "cell_type": "markdown",
   "id": "fcf5bcd6",
   "metadata": {},
   "source": [
    "nombre_infected       981\n",
    "nombre_sain          2062\n",
    "nombre_exposed        427\n",
    "nombre_recovered    16530\n",
    "Name: 359, dtype: int64"
   ]
  },
  {
   "cell_type": "markdown",
   "id": "90d1e3b3",
   "metadata": {},
   "source": [
    "nombre_infected       962\n",
    "nombre_sain          2060\n",
    "nombre_exposed        462\n",
    "nombre_recovered    16516\n",
    "Name: 360, dtype: int64"
   ]
  },
  {
   "cell_type": "markdown",
   "id": "f5819fbf",
   "metadata": {},
   "source": [
    "nombre_infected       985\n",
    "nombre_sain          2066\n",
    "nombre_exposed        466\n",
    "nombre_recovered    16483\n",
    "Name: 361, dtype: int64"
   ]
  },
  {
   "cell_type": "markdown",
   "id": "9ffa765f",
   "metadata": {},
   "source": [
    "nombre_infected       988\n",
    "nombre_sain          2104\n",
    "nombre_exposed        454\n",
    "nombre_recovered    16454\n",
    "Name: 362, dtype: int64"
   ]
  },
  {
   "cell_type": "markdown",
   "id": "9a26f6e5",
   "metadata": {},
   "source": [
    "nombre_infected       997\n",
    "nombre_sain          2132\n",
    "nombre_exposed        445\n",
    "nombre_recovered    16426\n",
    "Name: 363, dtype: int64"
   ]
  },
  {
   "cell_type": "markdown",
   "id": "bfbb3845",
   "metadata": {},
   "source": [
    "nombre_infected      1015\n",
    "nombre_sain          2127\n",
    "nombre_exposed        447\n",
    "nombre_recovered    16411\n",
    "Name: 364, dtype: int64"
   ]
  },
  {
   "cell_type": "markdown",
   "id": "1492bd3e",
   "metadata": {},
   "source": [
    "nombre_infected      1018\n",
    "nombre_sain          2141\n",
    "nombre_exposed        473\n",
    "nombre_recovered    16368\n",
    "Name: 365, dtype: int64"
   ]
  },
  {
   "cell_type": "markdown",
   "id": "0baf9bf1",
   "metadata": {},
   "source": [
    "nombre_infected      1001\n",
    "nombre_sain          2129\n",
    "nombre_exposed        499\n",
    "nombre_recovered    16371\n",
    "Name: 366, dtype: int64"
   ]
  },
  {
   "cell_type": "markdown",
   "id": "62a31419",
   "metadata": {},
   "source": [
    "nombre_infected      1023\n",
    "nombre_sain          2148\n",
    "nombre_exposed        495\n",
    "nombre_recovered    16334\n",
    "Name: 367, dtype: int64"
   ]
  },
  {
   "cell_type": "markdown",
   "id": "30960a7b",
   "metadata": {},
   "source": [
    "nombre_infected      1041\n",
    "nombre_sain          2140\n",
    "nombre_exposed        516\n",
    "nombre_recovered    16303\n",
    "Name: 368, dtype: int64"
   ]
  },
  {
   "cell_type": "markdown",
   "id": "fe874d3c",
   "metadata": {},
   "source": [
    "nombre_infected      1023\n",
    "nombre_sain          2129\n",
    "nombre_exposed        535\n",
    "nombre_recovered    16313\n",
    "Name: 369, dtype: int64"
   ]
  },
  {
   "cell_type": "markdown",
   "id": "e8d6cf5c",
   "metadata": {},
   "source": [
    "nombre_infected      1032\n",
    "nombre_sain          2128\n",
    "nombre_exposed        547\n",
    "nombre_recovered    16293\n",
    "Name: 370, dtype: int64"
   ]
  },
  {
   "cell_type": "markdown",
   "id": "7fdb641c",
   "metadata": {},
   "source": [
    "nombre_infected      1042\n",
    "nombre_sain          2141\n",
    "nombre_exposed        536\n",
    "nombre_recovered    16281\n",
    "Name: 371, dtype: int64"
   ]
  },
  {
   "cell_type": "markdown",
   "id": "879570d4",
   "metadata": {},
   "source": [
    "nombre_infected      1056\n",
    "nombre_sain          2122\n",
    "nombre_exposed        535\n",
    "nombre_recovered    16287\n",
    "Name: 372, dtype: int64"
   ]
  },
  {
   "cell_type": "markdown",
   "id": "58c7c739",
   "metadata": {},
   "source": [
    "nombre_infected      1065\n",
    "nombre_sain          2103\n",
    "nombre_exposed        557\n",
    "nombre_recovered    16275\n",
    "Name: 373, dtype: int64"
   ]
  },
  {
   "cell_type": "markdown",
   "id": "a729e1fe",
   "metadata": {},
   "source": [
    "nombre_infected      1082\n",
    "nombre_sain          2097\n",
    "nombre_exposed        560\n",
    "nombre_recovered    16261\n",
    "Name: 374, dtype: int64"
   ]
  },
  {
   "cell_type": "markdown",
   "id": "c9cf89fa",
   "metadata": {},
   "source": [
    "nombre_infected      1083\n",
    "nombre_sain          2071\n",
    "nombre_exposed        603\n",
    "nombre_recovered    16243\n",
    "Name: 375, dtype: int64"
   ]
  },
  {
   "cell_type": "markdown",
   "id": "ac8905d1",
   "metadata": {},
   "source": [
    "nombre_infected      1100\n",
    "nombre_sain          2085\n",
    "nombre_exposed        578\n",
    "nombre_recovered    16237\n",
    "Name: 376, dtype: int64"
   ]
  },
  {
   "cell_type": "markdown",
   "id": "762daf32",
   "metadata": {},
   "source": [
    "nombre_infected      1128\n",
    "nombre_sain          2069\n",
    "nombre_exposed        564\n",
    "nombre_recovered    16239\n",
    "Name: 377, dtype: int64"
   ]
  },
  {
   "cell_type": "markdown",
   "id": "00224fe6",
   "metadata": {},
   "source": [
    "nombre_infected      1144\n",
    "nombre_sain          2049\n",
    "nombre_exposed        552\n",
    "nombre_recovered    16255\n",
    "Name: 378, dtype: int64"
   ]
  },
  {
   "cell_type": "markdown",
   "id": "cc5e346a",
   "metadata": {},
   "source": [
    "nombre_infected      1155\n",
    "nombre_sain          2043\n",
    "nombre_exposed        569\n",
    "nombre_recovered    16233\n",
    "Name: 379, dtype: int64"
   ]
  },
  {
   "cell_type": "markdown",
   "id": "3b6e2558",
   "metadata": {},
   "source": [
    "nombre_infected      1184\n",
    "nombre_sain          2009\n",
    "nombre_exposed        572\n",
    "nombre_recovered    16235\n",
    "Name: 380, dtype: int64"
   ]
  },
  {
   "cell_type": "markdown",
   "id": "7c5aaa1f",
   "metadata": {},
   "source": [
    "nombre_infected      1199\n",
    "nombre_sain          1979\n",
    "nombre_exposed        581\n",
    "nombre_recovered    16241\n",
    "Name: 381, dtype: int64"
   ]
  },
  {
   "cell_type": "markdown",
   "id": "e909a751",
   "metadata": {},
   "source": [
    "nombre_infected      1206\n",
    "nombre_sain          1960\n",
    "nombre_exposed        583\n",
    "nombre_recovered    16251\n",
    "Name: 382, dtype: int64"
   ]
  },
  {
   "cell_type": "markdown",
   "id": "d3a99edd",
   "metadata": {},
   "source": [
    "nombre_infected      1195\n",
    "nombre_sain          1919\n",
    "nombre_exposed        612\n",
    "nombre_recovered    16274\n",
    "Name: 383, dtype: int64"
   ]
  },
  {
   "cell_type": "markdown",
   "id": "45a85883",
   "metadata": {},
   "source": [
    "nombre_infected      1195\n",
    "nombre_sain          1908\n",
    "nombre_exposed        614\n",
    "nombre_recovered    16283\n",
    "Name: 384, dtype: int64"
   ]
  },
  {
   "cell_type": "markdown",
   "id": "4f9f0948",
   "metadata": {},
   "source": [
    "nombre_infected      1205\n",
    "nombre_sain          1871\n",
    "nombre_exposed        637\n",
    "nombre_recovered    16287\n",
    "Name: 385, dtype: int64"
   ]
  },
  {
   "cell_type": "markdown",
   "id": "1928e465",
   "metadata": {},
   "source": [
    "nombre_infected      1214\n",
    "nombre_sain          1899\n",
    "nombre_exposed        612\n",
    "nombre_recovered    16275\n",
    "Name: 386, dtype: int64"
   ]
  },
  {
   "cell_type": "markdown",
   "id": "756e411b",
   "metadata": {},
   "source": [
    "nombre_infected      1242\n",
    "nombre_sain          1857\n",
    "nombre_exposed        598\n",
    "nombre_recovered    16303\n",
    "Name: 387, dtype: int64"
   ]
  },
  {
   "cell_type": "markdown",
   "id": "6a26f085",
   "metadata": {},
   "source": [
    "nombre_infected      1228\n",
    "nombre_sain          1826\n",
    "nombre_exposed        622\n",
    "nombre_recovered    16324\n",
    "Name: 388, dtype: int64"
   ]
  },
  {
   "cell_type": "markdown",
   "id": "f8396051",
   "metadata": {},
   "source": [
    "nombre_infected      1222\n",
    "nombre_sain          1794\n",
    "nombre_exposed        632\n",
    "nombre_recovered    16352\n",
    "Name: 389, dtype: int64"
   ]
  },
  {
   "cell_type": "markdown",
   "id": "b5aa7126",
   "metadata": {},
   "source": [
    "nombre_infected      1208\n",
    "nombre_sain          1806\n",
    "nombre_exposed        598\n",
    "nombre_recovered    16388\n",
    "Name: 390, dtype: int64"
   ]
  },
  {
   "cell_type": "markdown",
   "id": "da1c3f6b",
   "metadata": {},
   "source": [
    "nombre_infected      1191\n",
    "nombre_sain          1786\n",
    "nombre_exposed        589\n",
    "nombre_recovered    16434\n",
    "Name: 391, dtype: int64"
   ]
  },
  {
   "cell_type": "markdown",
   "id": "6bbf9bea",
   "metadata": {},
   "source": [
    "nombre_infected      1195\n",
    "nombre_sain          1785\n",
    "nombre_exposed        577\n",
    "nombre_recovered    16443\n",
    "Name: 392, dtype: int64"
   ]
  },
  {
   "cell_type": "markdown",
   "id": "b18aa34c",
   "metadata": {},
   "source": [
    "nombre_infected      1185\n",
    "nombre_sain          1762\n",
    "nombre_exposed        569\n",
    "nombre_recovered    16484\n",
    "Name: 393, dtype: int64"
   ]
  },
  {
   "cell_type": "markdown",
   "id": "4c9f25f9",
   "metadata": {},
   "source": [
    "nombre_infected      1195\n",
    "nombre_sain          1749\n",
    "nombre_exposed        543\n",
    "nombre_recovered    16513\n",
    "Name: 394, dtype: int64"
   ]
  },
  {
   "cell_type": "markdown",
   "id": "6aae48cc",
   "metadata": {},
   "source": [
    "nombre_infected      1180\n",
    "nombre_sain          1738\n",
    "nombre_exposed        531\n",
    "nombre_recovered    16551\n",
    "Name: 395, dtype: int64"
   ]
  },
  {
   "cell_type": "markdown",
   "id": "5f66022d",
   "metadata": {},
   "source": [
    "nombre_infected      1174\n",
    "nombre_sain          1728\n",
    "nombre_exposed        517\n",
    "nombre_recovered    16581\n",
    "Name: 396, dtype: int64"
   ]
  },
  {
   "cell_type": "markdown",
   "id": "ebdc3837",
   "metadata": {},
   "source": [
    "nombre_infected      1125\n",
    "nombre_sain          1731\n",
    "nombre_exposed        524\n",
    "nombre_recovered    16620\n",
    "Name: 397, dtype: int64"
   ]
  },
  {
   "cell_type": "markdown",
   "id": "c54584f4",
   "metadata": {},
   "source": [
    "nombre_infected      1087\n",
    "nombre_sain          1766\n",
    "nombre_exposed        507\n",
    "nombre_recovered    16640\n",
    "Name: 398, dtype: int64"
   ]
  },
  {
   "cell_type": "markdown",
   "id": "e6d1379e",
   "metadata": {},
   "source": [
    "nombre_infected      1106\n",
    "nombre_sain          1786\n",
    "nombre_exposed        475\n",
    "nombre_recovered    16633\n",
    "Name: 399, dtype: int64"
   ]
  },
  {
   "cell_type": "markdown",
   "id": "e96f0473",
   "metadata": {},
   "source": [
    "nombre_infected      1049\n",
    "nombre_sain          1801\n",
    "nombre_exposed        486\n",
    "nombre_recovered    16664\n",
    "Name: 400, dtype: int64"
   ]
  },
  {
   "cell_type": "markdown",
   "id": "14ce15fb",
   "metadata": {},
   "source": [
    "nombre_infected      1019\n",
    "nombre_sain          1821\n",
    "nombre_exposed        478\n",
    "nombre_recovered    16682\n",
    "Name: 401, dtype: int64"
   ]
  },
  {
   "cell_type": "markdown",
   "id": "98257e57",
   "metadata": {},
   "source": [
    "nombre_infected      1001\n",
    "nombre_sain          1827\n",
    "nombre_exposed        496\n",
    "nombre_recovered    16676\n",
    "Name: 402, dtype: int64"
   ]
  },
  {
   "cell_type": "markdown",
   "id": "9f4f624b",
   "metadata": {},
   "source": [
    "nombre_infected       987\n",
    "nombre_sain          1825\n",
    "nombre_exposed        489\n",
    "nombre_recovered    16699\n",
    "Name: 403, dtype: int64"
   ]
  },
  {
   "cell_type": "markdown",
   "id": "8a8ceace",
   "metadata": {},
   "source": [
    "nombre_infected       945\n",
    "nombre_sain          1827\n",
    "nombre_exposed        491\n",
    "nombre_recovered    16737\n",
    "Name: 404, dtype: int64"
   ]
  },
  {
   "cell_type": "markdown",
   "id": "8f833af3",
   "metadata": {},
   "source": [
    "nombre_infected       923\n",
    "nombre_sain          1853\n",
    "nombre_exposed        485\n",
    "nombre_recovered    16739\n",
    "Name: 405, dtype: int64"
   ]
  },
  {
   "cell_type": "markdown",
   "id": "5b6a8b60",
   "metadata": {},
   "source": [
    "nombre_infected       913\n",
    "nombre_sain          1865\n",
    "nombre_exposed        454\n",
    "nombre_recovered    16768\n",
    "Name: 406, dtype: int64"
   ]
  },
  {
   "cell_type": "markdown",
   "id": "96bc5009",
   "metadata": {},
   "source": [
    "nombre_infected       910\n",
    "nombre_sain          1877\n",
    "nombre_exposed        438\n",
    "nombre_recovered    16775\n",
    "Name: 407, dtype: int64"
   ]
  },
  {
   "cell_type": "markdown",
   "id": "b12c61a5",
   "metadata": {},
   "source": [
    "nombre_infected       917\n",
    "nombre_sain          1887\n",
    "nombre_exposed        416\n",
    "nombre_recovered    16780\n",
    "Name: 408, dtype: int64"
   ]
  },
  {
   "cell_type": "markdown",
   "id": "c2b2daf7",
   "metadata": {},
   "source": [
    "nombre_infected       895\n",
    "nombre_sain          1910\n",
    "nombre_exposed        417\n",
    "nombre_recovered    16778\n",
    "Name: 409, dtype: int64"
   ]
  },
  {
   "cell_type": "markdown",
   "id": "fa38157f",
   "metadata": {},
   "source": [
    "nombre_infected       877\n",
    "nombre_sain          1912\n",
    "nombre_exposed        420\n",
    "nombre_recovered    16791\n",
    "Name: 410, dtype: int64"
   ]
  },
  {
   "cell_type": "markdown",
   "id": "a208308a",
   "metadata": {},
   "source": [
    "nombre_infected       861\n",
    "nombre_sain          1919\n",
    "nombre_exposed        426\n",
    "nombre_recovered    16794\n",
    "Name: 411, dtype: int64"
   ]
  },
  {
   "cell_type": "markdown",
   "id": "a3b42165",
   "metadata": {},
   "source": [
    "nombre_infected       848\n",
    "nombre_sain          1931\n",
    "nombre_exposed        430\n",
    "nombre_recovered    16791\n",
    "Name: 412, dtype: int64"
   ]
  },
  {
   "cell_type": "markdown",
   "id": "618bbc5a",
   "metadata": {},
   "source": [
    "nombre_infected       823\n",
    "nombre_sain          1921\n",
    "nombre_exposed        427\n",
    "nombre_recovered    16829\n",
    "Name: 413, dtype: int64"
   ]
  },
  {
   "cell_type": "markdown",
   "id": "92945f8d",
   "metadata": {},
   "source": [
    "nombre_infected       794\n",
    "nombre_sain          1902\n",
    "nombre_exposed        429\n",
    "nombre_recovered    16875\n",
    "Name: 414, dtype: int64"
   ]
  },
  {
   "cell_type": "markdown",
   "id": "db6f705c",
   "metadata": {},
   "source": [
    "nombre_infected       792\n",
    "nombre_sain          1898\n",
    "nombre_exposed        441\n",
    "nombre_recovered    16869\n",
    "Name: 415, dtype: int64"
   ]
  },
  {
   "cell_type": "markdown",
   "id": "6f6122c0",
   "metadata": {},
   "source": [
    "nombre_infected       806\n",
    "nombre_sain          1911\n",
    "nombre_exposed        422\n",
    "nombre_recovered    16861\n",
    "Name: 416, dtype: int64"
   ]
  },
  {
   "cell_type": "markdown",
   "id": "fe27b016",
   "metadata": {},
   "source": [
    "nombre_infected       831\n",
    "nombre_sain          1929\n",
    "nombre_exposed        383\n",
    "nombre_recovered    16857\n",
    "Name: 417, dtype: int64"
   ]
  },
  {
   "cell_type": "markdown",
   "id": "d83bc42a",
   "metadata": {},
   "source": [
    "nombre_infected       806\n",
    "nombre_sain          1934\n",
    "nombre_exposed        393\n",
    "nombre_recovered    16867\n",
    "Name: 418, dtype: int64"
   ]
  },
  {
   "cell_type": "markdown",
   "id": "2769e7f8",
   "metadata": {},
   "source": [
    "nombre_infected       781\n",
    "nombre_sain          1962\n",
    "nombre_exposed        384\n",
    "nombre_recovered    16873\n",
    "Name: 419, dtype: int64"
   ]
  },
  {
   "cell_type": "markdown",
   "id": "c661ac5b",
   "metadata": {},
   "source": [
    "nombre_infected       762\n",
    "nombre_sain          1983\n",
    "nombre_exposed        373\n",
    "nombre_recovered    16882\n",
    "Name: 420, dtype: int64"
   ]
  },
  {
   "cell_type": "markdown",
   "id": "8f3fb64d",
   "metadata": {},
   "source": [
    "nombre_infected       775\n",
    "nombre_sain          1986\n",
    "nombre_exposed        372\n",
    "nombre_recovered    16867\n",
    "Name: 421, dtype: int64"
   ]
  },
  {
   "cell_type": "markdown",
   "id": "140bfd97",
   "metadata": {},
   "source": [
    "nombre_infected       742\n",
    "nombre_sain          1991\n",
    "nombre_exposed        389\n",
    "nombre_recovered    16878\n",
    "Name: 422, dtype: int64"
   ]
  },
  {
   "cell_type": "markdown",
   "id": "44da3fe4",
   "metadata": {},
   "source": [
    "nombre_infected       744\n",
    "nombre_sain          1994\n",
    "nombre_exposed        392\n",
    "nombre_recovered    16870\n",
    "Name: 423, dtype: int64"
   ]
  },
  {
   "cell_type": "markdown",
   "id": "1b09ac70",
   "metadata": {},
   "source": [
    "nombre_infected       735\n",
    "nombre_sain          2033\n",
    "nombre_exposed        375\n",
    "nombre_recovered    16857\n",
    "Name: 424, dtype: int64"
   ]
  },
  {
   "cell_type": "markdown",
   "id": "f68ce162",
   "metadata": {},
   "source": [
    "nombre_infected       755\n",
    "nombre_sain          2049\n",
    "nombre_exposed        356\n",
    "nombre_recovered    16840\n",
    "Name: 425, dtype: int64"
   ]
  },
  {
   "cell_type": "markdown",
   "id": "9106f423",
   "metadata": {},
   "source": [
    "nombre_infected       742\n",
    "nombre_sain          2065\n",
    "nombre_exposed        358\n",
    "nombre_recovered    16835\n",
    "Name: 426, dtype: int64"
   ]
  },
  {
   "cell_type": "markdown",
   "id": "eb63613d",
   "metadata": {},
   "source": [
    "nombre_infected       711\n",
    "nombre_sain          2079\n",
    "nombre_exposed        364\n",
    "nombre_recovered    16846\n",
    "Name: 427, dtype: int64"
   ]
  },
  {
   "cell_type": "markdown",
   "id": "73b4aad7",
   "metadata": {},
   "source": [
    "nombre_infected       699\n",
    "nombre_sain          2096\n",
    "nombre_exposed        385\n",
    "nombre_recovered    16820\n",
    "Name: 428, dtype: int64"
   ]
  },
  {
   "cell_type": "markdown",
   "id": "fb99c935",
   "metadata": {},
   "source": [
    "nombre_infected       711\n",
    "nombre_sain          2098\n",
    "nombre_exposed        376\n",
    "nombre_recovered    16815\n",
    "Name: 429, dtype: int64"
   ]
  },
  {
   "cell_type": "markdown",
   "id": "41cf8542",
   "metadata": {},
   "source": [
    "nombre_infected       704\n",
    "nombre_sain          2116\n",
    "nombre_exposed        368\n",
    "nombre_recovered    16812\n",
    "Name: 430, dtype: int64"
   ]
  },
  {
   "cell_type": "markdown",
   "id": "a742bbc4",
   "metadata": {},
   "source": [
    "nombre_infected       705\n",
    "nombre_sain          2126\n",
    "nombre_exposed        365\n",
    "nombre_recovered    16804\n",
    "Name: 431, dtype: int64"
   ]
  },
  {
   "cell_type": "markdown",
   "id": "f382e699",
   "metadata": {},
   "source": [
    "nombre_infected       713\n",
    "nombre_sain          2129\n",
    "nombre_exposed        369\n",
    "nombre_recovered    16789\n",
    "Name: 432, dtype: int64"
   ]
  },
  {
   "cell_type": "markdown",
   "id": "d02091a5",
   "metadata": {},
   "source": [
    "nombre_infected       705\n",
    "nombre_sain          2160\n",
    "nombre_exposed        360\n",
    "nombre_recovered    16775\n",
    "Name: 433, dtype: int64"
   ]
  },
  {
   "cell_type": "markdown",
   "id": "f08071c0",
   "metadata": {},
   "source": [
    "nombre_infected       703\n",
    "nombre_sain          2151\n",
    "nombre_exposed        384\n",
    "nombre_recovered    16762\n",
    "Name: 434, dtype: int64"
   ]
  },
  {
   "cell_type": "markdown",
   "id": "4d88b0f1",
   "metadata": {},
   "source": [
    "nombre_infected       711\n",
    "nombre_sain          2168\n",
    "nombre_exposed        379\n",
    "nombre_recovered    16742\n",
    "Name: 435, dtype: int64"
   ]
  },
  {
   "cell_type": "markdown",
   "id": "a875e992",
   "metadata": {},
   "source": [
    "nombre_infected       704\n",
    "nombre_sain          2182\n",
    "nombre_exposed        370\n",
    "nombre_recovered    16744\n",
    "Name: 436, dtype: int64"
   ]
  },
  {
   "cell_type": "markdown",
   "id": "412ae404",
   "metadata": {},
   "source": [
    "nombre_infected       724\n",
    "nombre_sain          2176\n",
    "nombre_exposed        373\n",
    "nombre_recovered    16727\n",
    "Name: 437, dtype: int64"
   ]
  },
  {
   "cell_type": "markdown",
   "id": "71c4f389",
   "metadata": {},
   "source": [
    "nombre_infected       697\n",
    "nombre_sain          2177\n",
    "nombre_exposed        390\n",
    "nombre_recovered    16736\n",
    "Name: 438, dtype: int64"
   ]
  },
  {
   "cell_type": "markdown",
   "id": "896c74ba",
   "metadata": {},
   "source": [
    "nombre_infected       703\n",
    "nombre_sain          2189\n",
    "nombre_exposed        380\n",
    "nombre_recovered    16728\n",
    "Name: 439, dtype: int64"
   ]
  },
  {
   "cell_type": "markdown",
   "id": "e84e1e78",
   "metadata": {},
   "source": [
    "nombre_infected       700\n",
    "nombre_sain          2215\n",
    "nombre_exposed        366\n",
    "nombre_recovered    16719\n",
    "Name: 440, dtype: int64"
   ]
  },
  {
   "cell_type": "markdown",
   "id": "ced2a25e",
   "metadata": {},
   "source": [
    "nombre_infected       687\n",
    "nombre_sain          2199\n",
    "nombre_exposed        391\n",
    "nombre_recovered    16723\n",
    "Name: 441, dtype: int64"
   ]
  },
  {
   "cell_type": "markdown",
   "id": "1c938c0f",
   "metadata": {},
   "source": [
    "nombre_infected       700\n",
    "nombre_sain          2182\n",
    "nombre_exposed        398\n",
    "nombre_recovered    16720\n",
    "Name: 442, dtype: int64"
   ]
  },
  {
   "cell_type": "markdown",
   "id": "65f5179e",
   "metadata": {},
   "source": [
    "nombre_infected       710\n",
    "nombre_sain          2208\n",
    "nombre_exposed        393\n",
    "nombre_recovered    16689\n",
    "Name: 443, dtype: int64"
   ]
  },
  {
   "cell_type": "markdown",
   "id": "8849b237",
   "metadata": {},
   "source": [
    "nombre_infected       726\n",
    "nombre_sain          2184\n",
    "nombre_exposed        394\n",
    "nombre_recovered    16696\n",
    "Name: 444, dtype: int64"
   ]
  },
  {
   "cell_type": "markdown",
   "id": "69dbaf27",
   "metadata": {},
   "source": [
    "nombre_infected       734\n",
    "nombre_sain          2171\n",
    "nombre_exposed        402\n",
    "nombre_recovered    16693\n",
    "Name: 445, dtype: int64"
   ]
  },
  {
   "cell_type": "markdown",
   "id": "2690bc7b",
   "metadata": {},
   "source": [
    "nombre_infected       740\n",
    "nombre_sain          2159\n",
    "nombre_exposed        402\n",
    "nombre_recovered    16699\n",
    "Name: 446, dtype: int64"
   ]
  },
  {
   "cell_type": "markdown",
   "id": "5c5e2219",
   "metadata": {},
   "source": [
    "nombre_infected       755\n",
    "nombre_sain          2159\n",
    "nombre_exposed        400\n",
    "nombre_recovered    16686\n",
    "Name: 447, dtype: int64"
   ]
  },
  {
   "cell_type": "markdown",
   "id": "3db8b901",
   "metadata": {},
   "source": [
    "nombre_infected       773\n",
    "nombre_sain          2156\n",
    "nombre_exposed        405\n",
    "nombre_recovered    16666\n",
    "Name: 448, dtype: int64"
   ]
  },
  {
   "cell_type": "markdown",
   "id": "edc2ce1f",
   "metadata": {},
   "source": [
    "nombre_infected       782\n",
    "nombre_sain          2137\n",
    "nombre_exposed        423\n",
    "nombre_recovered    16658\n",
    "Name: 449, dtype: int64"
   ]
  },
  {
   "cell_type": "markdown",
   "id": "934ed72b",
   "metadata": {},
   "source": [
    "nombre_infected       788\n",
    "nombre_sain          2097\n",
    "nombre_exposed        428\n",
    "nombre_recovered    16687\n",
    "Name: 450, dtype: int64"
   ]
  },
  {
   "cell_type": "markdown",
   "id": "531e1d8b",
   "metadata": {},
   "source": [
    "nombre_infected       800\n",
    "nombre_sain          2085\n",
    "nombre_exposed        435\n",
    "nombre_recovered    16680\n",
    "Name: 451, dtype: int64"
   ]
  },
  {
   "cell_type": "markdown",
   "id": "49efb1b4",
   "metadata": {},
   "source": [
    "nombre_infected       814\n",
    "nombre_sain          2094\n",
    "nombre_exposed        420\n",
    "nombre_recovered    16672\n",
    "Name: 452, dtype: int64"
   ]
  },
  {
   "cell_type": "markdown",
   "id": "be77d45e",
   "metadata": {},
   "source": [
    "nombre_infected       816\n",
    "nombre_sain          2118\n",
    "nombre_exposed        427\n",
    "nombre_recovered    16639\n",
    "Name: 453, dtype: int64"
   ]
  },
  {
   "cell_type": "markdown",
   "id": "e0412e69",
   "metadata": {},
   "source": [
    "nombre_infected       834\n",
    "nombre_sain          2137\n",
    "nombre_exposed        407\n",
    "nombre_recovered    16622\n",
    "Name: 454, dtype: int64"
   ]
  },
  {
   "cell_type": "markdown",
   "id": "80b18ec0",
   "metadata": {},
   "source": [
    "nombre_infected       844\n",
    "nombre_sain          2118\n",
    "nombre_exposed        401\n",
    "nombre_recovered    16637\n",
    "Name: 455, dtype: int64"
   ]
  },
  {
   "cell_type": "markdown",
   "id": "f30578f7",
   "metadata": {},
   "source": [
    "nombre_infected       829\n",
    "nombre_sain          2109\n",
    "nombre_exposed        421\n",
    "nombre_recovered    16641\n",
    "Name: 456, dtype: int64"
   ]
  },
  {
   "cell_type": "markdown",
   "id": "f50dccc3",
   "metadata": {},
   "source": [
    "nombre_infected       817\n",
    "nombre_sain          2078\n",
    "nombre_exposed        466\n",
    "nombre_recovered    16639\n",
    "Name: 457, dtype: int64"
   ]
  },
  {
   "cell_type": "markdown",
   "id": "1485729b",
   "metadata": {},
   "source": [
    "nombre_infected       841\n",
    "nombre_sain          2066\n",
    "nombre_exposed        443\n",
    "nombre_recovered    16650\n",
    "Name: 458, dtype: int64"
   ]
  },
  {
   "cell_type": "markdown",
   "id": "2909d4ac",
   "metadata": {},
   "source": [
    "nombre_infected       841\n",
    "nombre_sain          2077\n",
    "nombre_exposed        444\n",
    "nombre_recovered    16638\n",
    "Name: 459, dtype: int64"
   ]
  },
  {
   "cell_type": "markdown",
   "id": "d861bca5",
   "metadata": {},
   "source": [
    "nombre_infected       855\n",
    "nombre_sain          2083\n",
    "nombre_exposed        424\n",
    "nombre_recovered    16638\n",
    "Name: 460, dtype: int64"
   ]
  },
  {
   "cell_type": "markdown",
   "id": "ed3d4f11",
   "metadata": {},
   "source": [
    "nombre_infected       852\n",
    "nombre_sain          2077\n",
    "nombre_exposed        416\n",
    "nombre_recovered    16655\n",
    "Name: 461, dtype: int64"
   ]
  },
  {
   "cell_type": "markdown",
   "id": "ac2d6e37",
   "metadata": {},
   "source": [
    "nombre_infected       847\n",
    "nombre_sain          2059\n",
    "nombre_exposed        430\n",
    "nombre_recovered    16664\n",
    "Name: 462, dtype: int64"
   ]
  },
  {
   "cell_type": "markdown",
   "id": "bd0192c5",
   "metadata": {},
   "source": [
    "nombre_infected       839\n",
    "nombre_sain          2069\n",
    "nombre_exposed        426\n",
    "nombre_recovered    16666\n",
    "Name: 463, dtype: int64"
   ]
  },
  {
   "cell_type": "markdown",
   "id": "8f5d9e88",
   "metadata": {},
   "source": [
    "nombre_infected       865\n",
    "nombre_sain          2058\n",
    "nombre_exposed        420\n",
    "nombre_recovered    16657\n",
    "Name: 464, dtype: int64"
   ]
  },
  {
   "cell_type": "markdown",
   "id": "dc02b4e6",
   "metadata": {},
   "source": [
    "nombre_infected       858\n",
    "nombre_sain          2041\n",
    "nombre_exposed        436\n",
    "nombre_recovered    16665\n",
    "Name: 465, dtype: int64"
   ]
  },
  {
   "cell_type": "markdown",
   "id": "ec5b5474",
   "metadata": {},
   "source": [
    "nombre_infected       868\n",
    "nombre_sain          2067\n",
    "nombre_exposed        426\n",
    "nombre_recovered    16639\n",
    "Name: 466, dtype: int64"
   ]
  },
  {
   "cell_type": "markdown",
   "id": "ac120f8f",
   "metadata": {},
   "source": [
    "nombre_infected       865\n",
    "nombre_sain          2072\n",
    "nombre_exposed        422\n",
    "nombre_recovered    16641\n",
    "Name: 467, dtype: int64"
   ]
  },
  {
   "cell_type": "markdown",
   "id": "0bbcd15f",
   "metadata": {},
   "source": [
    "nombre_infected       865\n",
    "nombre_sain          2068\n",
    "nombre_exposed        412\n",
    "nombre_recovered    16655\n",
    "Name: 468, dtype: int64"
   ]
  },
  {
   "cell_type": "markdown",
   "id": "1955c6cf",
   "metadata": {},
   "source": [
    "nombre_infected       861\n",
    "nombre_sain          2068\n",
    "nombre_exposed        436\n",
    "nombre_recovered    16635\n",
    "Name: 469, dtype: int64"
   ]
  },
  {
   "cell_type": "markdown",
   "id": "104e3dce",
   "metadata": {},
   "source": [
    "nombre_infected       864\n",
    "nombre_sain          2043\n",
    "nombre_exposed        452\n",
    "nombre_recovered    16641\n",
    "Name: 470, dtype: int64"
   ]
  },
  {
   "cell_type": "markdown",
   "id": "7eb3686d",
   "metadata": {},
   "source": [
    "nombre_infected       877\n",
    "nombre_sain          2050\n",
    "nombre_exposed        434\n",
    "nombre_recovered    16639\n",
    "Name: 471, dtype: int64"
   ]
  },
  {
   "cell_type": "markdown",
   "id": "ea0b2cdb",
   "metadata": {},
   "source": [
    "nombre_infected       882\n",
    "nombre_sain          2043\n",
    "nombre_exposed        425\n",
    "nombre_recovered    16650\n",
    "Name: 472, dtype: int64"
   ]
  },
  {
   "cell_type": "markdown",
   "id": "5c939075",
   "metadata": {},
   "source": [
    "nombre_infected       868\n",
    "nombre_sain          2060\n",
    "nombre_exposed        434\n",
    "nombre_recovered    16638\n",
    "Name: 473, dtype: int64"
   ]
  },
  {
   "cell_type": "markdown",
   "id": "99eac8f6",
   "metadata": {},
   "source": [
    "nombre_infected       888\n",
    "nombre_sain          2055\n",
    "nombre_exposed        428\n",
    "nombre_recovered    16629\n",
    "Name: 474, dtype: int64"
   ]
  },
  {
   "cell_type": "markdown",
   "id": "bdeb1fd3",
   "metadata": {},
   "source": [
    "nombre_infected       900\n",
    "nombre_sain          2038\n",
    "nombre_exposed        425\n",
    "nombre_recovered    16637\n",
    "Name: 475, dtype: int64"
   ]
  },
  {
   "cell_type": "markdown",
   "id": "ce7a469c",
   "metadata": {},
   "source": [
    "nombre_infected       895\n",
    "nombre_sain          2047\n",
    "nombre_exposed        449\n",
    "nombre_recovered    16609\n",
    "Name: 476, dtype: int64"
   ]
  },
  {
   "cell_type": "markdown",
   "id": "e7fed77b",
   "metadata": {},
   "source": [
    "nombre_infected       900\n",
    "nombre_sain          2042\n",
    "nombre_exposed        452\n",
    "nombre_recovered    16606\n",
    "Name: 477, dtype: int64"
   ]
  },
  {
   "cell_type": "markdown",
   "id": "11076b37",
   "metadata": {},
   "source": [
    "nombre_infected       894\n",
    "nombre_sain          2061\n",
    "nombre_exposed        452\n",
    "nombre_recovered    16593\n",
    "Name: 478, dtype: int64"
   ]
  },
  {
   "cell_type": "markdown",
   "id": "380a2d94",
   "metadata": {},
   "source": [
    "nombre_infected       926\n",
    "nombre_sain          2066\n",
    "nombre_exposed        431\n",
    "nombre_recovered    16577\n",
    "Name: 479, dtype: int64"
   ]
  },
  {
   "cell_type": "markdown",
   "id": "bc120710",
   "metadata": {},
   "source": [
    "nombre_infected       908\n",
    "nombre_sain          2061\n",
    "nombre_exposed        468\n",
    "nombre_recovered    16563\n",
    "Name: 480, dtype: int64"
   ]
  },
  {
   "cell_type": "markdown",
   "id": "f2e3d007",
   "metadata": {},
   "source": [
    "nombre_infected       895\n",
    "nombre_sain          2060\n",
    "nombre_exposed        488\n",
    "nombre_recovered    16557\n",
    "Name: 481, dtype: int64"
   ]
  },
  {
   "cell_type": "markdown",
   "id": "d3e2bc64",
   "metadata": {},
   "source": [
    "nombre_infected       905\n",
    "nombre_sain          2073\n",
    "nombre_exposed        473\n",
    "nombre_recovered    16549\n",
    "Name: 482, dtype: int64"
   ]
  },
  {
   "cell_type": "markdown",
   "id": "c29a3842",
   "metadata": {},
   "source": [
    "nombre_infected       905\n",
    "nombre_sain          2060\n",
    "nombre_exposed        492\n",
    "nombre_recovered    16543\n",
    "Name: 483, dtype: int64"
   ]
  },
  {
   "cell_type": "markdown",
   "id": "e7bd0a86",
   "metadata": {},
   "source": [
    "nombre_infected       916\n",
    "nombre_sain          2067\n",
    "nombre_exposed        485\n",
    "nombre_recovered    16532\n",
    "Name: 484, dtype: int64"
   ]
  },
  {
   "cell_type": "markdown",
   "id": "73e3b1c8",
   "metadata": {},
   "source": [
    "nombre_infected       909\n",
    "nombre_sain          2082\n",
    "nombre_exposed        491\n",
    "nombre_recovered    16518\n",
    "Name: 485, dtype: int64"
   ]
  },
  {
   "cell_type": "markdown",
   "id": "1b37492f",
   "metadata": {},
   "source": [
    "nombre_infected       912\n",
    "nombre_sain          2093\n",
    "nombre_exposed        495\n",
    "nombre_recovered    16500\n",
    "Name: 486, dtype: int64"
   ]
  },
  {
   "cell_type": "markdown",
   "id": "3ebe9318",
   "metadata": {},
   "source": [
    "nombre_infected       917\n",
    "nombre_sain          2119\n",
    "nombre_exposed        498\n",
    "nombre_recovered    16466\n",
    "Name: 487, dtype: int64"
   ]
  },
  {
   "cell_type": "markdown",
   "id": "b5f3c031",
   "metadata": {},
   "source": [
    "nombre_infected       950\n",
    "nombre_sain          2137\n",
    "nombre_exposed        477\n",
    "nombre_recovered    16436\n",
    "Name: 488, dtype: int64"
   ]
  },
  {
   "cell_type": "markdown",
   "id": "cf3553cf",
   "metadata": {},
   "source": [
    "nombre_infected       978\n",
    "nombre_sain          2166\n",
    "nombre_exposed        444\n",
    "nombre_recovered    16412\n",
    "Name: 489, dtype: int64"
   ]
  },
  {
   "cell_type": "markdown",
   "id": "ee790b8a",
   "metadata": {},
   "source": [
    "nombre_infected       981\n",
    "nombre_sain          2144\n",
    "nombre_exposed        478\n",
    "nombre_recovered    16397\n",
    "Name: 490, dtype: int64"
   ]
  },
  {
   "cell_type": "markdown",
   "id": "e18e3432",
   "metadata": {},
   "source": [
    "nombre_infected       954\n",
    "nombre_sain          2170\n",
    "nombre_exposed        491\n",
    "nombre_recovered    16385\n",
    "Name: 491, dtype: int64"
   ]
  },
  {
   "cell_type": "markdown",
   "id": "97582346",
   "metadata": {},
   "source": [
    "nombre_infected       971\n",
    "nombre_sain          2173\n",
    "nombre_exposed        495\n",
    "nombre_recovered    16361\n",
    "Name: 492, dtype: int64"
   ]
  },
  {
   "cell_type": "markdown",
   "id": "242e90c8",
   "metadata": {},
   "source": [
    "nombre_infected       997\n",
    "nombre_sain          2162\n",
    "nombre_exposed        499\n",
    "nombre_recovered    16342\n",
    "Name: 493, dtype: int64"
   ]
  },
  {
   "cell_type": "markdown",
   "id": "fce6a79f",
   "metadata": {},
   "source": [
    "nombre_infected      1006\n",
    "nombre_sain          2149\n",
    "nombre_exposed        504\n",
    "nombre_recovered    16341\n",
    "Name: 494, dtype: int64"
   ]
  },
  {
   "cell_type": "markdown",
   "id": "b12040d0",
   "metadata": {},
   "source": [
    "nombre_infected      1011\n",
    "nombre_sain          2137\n",
    "nombre_exposed        527\n",
    "nombre_recovered    16325\n",
    "Name: 495, dtype: int64"
   ]
  },
  {
   "cell_type": "markdown",
   "id": "5b8196bd",
   "metadata": {},
   "source": [
    "nombre_infected      1035\n",
    "nombre_sain          2138\n",
    "nombre_exposed        521\n",
    "nombre_recovered    16306\n",
    "Name: 496, dtype: int64"
   ]
  },
  {
   "cell_type": "markdown",
   "id": "872535ec",
   "metadata": {},
   "source": [
    "nombre_infected      1047\n",
    "nombre_sain          2156\n",
    "nombre_exposed        509\n",
    "nombre_recovered    16288\n",
    "Name: 497, dtype: int64"
   ]
  },
  {
   "cell_type": "markdown",
   "id": "5d79e7e3",
   "metadata": {},
   "source": [
    "nombre_infected      1061\n",
    "nombre_sain          2150\n",
    "nombre_exposed        497\n",
    "nombre_recovered    16292\n",
    "Name: 498, dtype: int64"
   ]
  },
  {
   "cell_type": "markdown",
   "id": "c0f98bfc",
   "metadata": {},
   "source": [
    "nombre_infected      1048\n",
    "nombre_sain          2173\n",
    "nombre_exposed        489\n",
    "nombre_recovered    16290\n",
    "Name: 499, dtype: int64"
   ]
  },
  {
   "cell_type": "markdown",
   "id": "f0dc6757",
   "metadata": {},
   "source": [
    "nombre_infected      1028\n",
    "nombre_sain          2203\n",
    "nombre_exposed        500\n",
    "nombre_recovered    16269\n",
    "Name: 500, dtype: int64"
   ]
  },
  {
   "cell_type": "markdown",
   "id": "f36aee8d",
   "metadata": {},
   "source": [
    "nombre_infected      1011\n",
    "nombre_sain          2198\n",
    "nombre_exposed        520\n",
    "nombre_recovered    16271\n",
    "Name: 501, dtype: int64"
   ]
  },
  {
   "cell_type": "markdown",
   "id": "fffc1fdf",
   "metadata": {},
   "source": [
    "nombre_infected      1021\n",
    "nombre_sain          2198\n",
    "nombre_exposed        516\n",
    "nombre_recovered    16265\n",
    "Name: 502, dtype: int64"
   ]
  },
  {
   "cell_type": "markdown",
   "id": "a53a368b",
   "metadata": {},
   "source": [
    "nombre_infected      1027\n",
    "nombre_sain          2208\n",
    "nombre_exposed        507\n",
    "nombre_recovered    16258\n",
    "Name: 503, dtype: int64"
   ]
  },
  {
   "cell_type": "markdown",
   "id": "95b8bb38",
   "metadata": {},
   "source": [
    "nombre_infected      1037\n",
    "nombre_sain          2220\n",
    "nombre_exposed        511\n",
    "nombre_recovered    16232\n",
    "Name: 504, dtype: int64"
   ]
  },
  {
   "cell_type": "markdown",
   "id": "fa15b1ec",
   "metadata": {},
   "source": [
    "nombre_infected      1008\n",
    "nombre_sain          2230\n",
    "nombre_exposed        544\n",
    "nombre_recovered    16218\n",
    "Name: 505, dtype: int64"
   ]
  },
  {
   "cell_type": "markdown",
   "id": "a39bd3e9",
   "metadata": {},
   "source": [
    "nombre_infected      1027\n",
    "nombre_sain          2220\n",
    "nombre_exposed        549\n",
    "nombre_recovered    16204\n",
    "Name: 506, dtype: int64"
   ]
  },
  {
   "cell_type": "markdown",
   "id": "f6ac8dc5",
   "metadata": {},
   "source": [
    "nombre_infected      1032\n",
    "nombre_sain          2221\n",
    "nombre_exposed        564\n",
    "nombre_recovered    16183\n",
    "Name: 507, dtype: int64"
   ]
  },
  {
   "cell_type": "markdown",
   "id": "89a5a01e",
   "metadata": {},
   "source": [
    "nombre_infected      1054\n",
    "nombre_sain          2226\n",
    "nombre_exposed        549\n",
    "nombre_recovered    16171\n",
    "Name: 508, dtype: int64"
   ]
  },
  {
   "cell_type": "markdown",
   "id": "77f7c958",
   "metadata": {},
   "source": [
    "nombre_infected      1109\n",
    "nombre_sain          2240\n",
    "nombre_exposed        519\n",
    "nombre_recovered    16132\n",
    "Name: 509, dtype: int64"
   ]
  },
  {
   "cell_type": "markdown",
   "id": "0ca727bb",
   "metadata": {},
   "source": [
    "nombre_infected      1136\n",
    "nombre_sain          2217\n",
    "nombre_exposed        520\n",
    "nombre_recovered    16127\n",
    "Name: 510, dtype: int64"
   ]
  },
  {
   "cell_type": "markdown",
   "id": "d139be29",
   "metadata": {},
   "source": [
    "nombre_infected      1143\n",
    "nombre_sain          2192\n",
    "nombre_exposed        532\n",
    "nombre_recovered    16133\n",
    "Name: 511, dtype: int64"
   ]
  },
  {
   "cell_type": "markdown",
   "id": "c213dc77",
   "metadata": {},
   "source": [
    "nombre_infected      1130\n",
    "nombre_sain          2174\n",
    "nombre_exposed        534\n",
    "nombre_recovered    16162\n",
    "Name: 512, dtype: int64"
   ]
  },
  {
   "cell_type": "markdown",
   "id": "42244ce3",
   "metadata": {},
   "source": [
    "nombre_infected      1129\n",
    "nombre_sain          2175\n",
    "nombre_exposed        542\n",
    "nombre_recovered    16154\n",
    "Name: 513, dtype: int64"
   ]
  },
  {
   "cell_type": "markdown",
   "id": "05741d64",
   "metadata": {},
   "source": [
    "nombre_infected      1128\n",
    "nombre_sain          2158\n",
    "nombre_exposed        550\n",
    "nombre_recovered    16164\n",
    "Name: 514, dtype: int64"
   ]
  },
  {
   "cell_type": "markdown",
   "id": "31cc4802",
   "metadata": {},
   "source": [
    "nombre_infected      1144\n",
    "nombre_sain          2149\n",
    "nombre_exposed        564\n",
    "nombre_recovered    16143\n",
    "Name: 515, dtype: int64"
   ]
  },
  {
   "cell_type": "markdown",
   "id": "5a874d6c",
   "metadata": {},
   "source": [
    "nombre_infected      1152\n",
    "nombre_sain          2122\n",
    "nombre_exposed        559\n",
    "nombre_recovered    16167\n",
    "Name: 516, dtype: int64"
   ]
  },
  {
   "cell_type": "markdown",
   "id": "efaa6c93",
   "metadata": {},
   "source": [
    "nombre_infected      1138\n",
    "nombre_sain          2112\n",
    "nombre_exposed        564\n",
    "nombre_recovered    16186\n",
    "Name: 517, dtype: int64"
   ]
  },
  {
   "cell_type": "markdown",
   "id": "be353d48",
   "metadata": {},
   "source": [
    "nombre_infected      1161\n",
    "nombre_sain          2091\n",
    "nombre_exposed        559\n",
    "nombre_recovered    16189\n",
    "Name: 518, dtype: int64"
   ]
  },
  {
   "cell_type": "markdown",
   "id": "aebbe0f6",
   "metadata": {},
   "source": [
    "nombre_infected      1187\n",
    "nombre_sain          2073\n",
    "nombre_exposed        545\n",
    "nombre_recovered    16195\n",
    "Name: 519, dtype: int64"
   ]
  },
  {
   "cell_type": "markdown",
   "id": "fd7ee64e",
   "metadata": {},
   "source": [
    "nombre_infected      1184\n",
    "nombre_sain          2043\n",
    "nombre_exposed        544\n",
    "nombre_recovered    16229\n",
    "Name: 520, dtype: int64"
   ]
  },
  {
   "cell_type": "markdown",
   "id": "bd09bab4",
   "metadata": {},
   "source": [
    "nombre_infected      1177\n",
    "nombre_sain          1998\n",
    "nombre_exposed        557\n",
    "nombre_recovered    16268\n",
    "Name: 521, dtype: int64"
   ]
  },
  {
   "cell_type": "markdown",
   "id": "194a99e7",
   "metadata": {},
   "source": [
    "nombre_infected      1160\n",
    "nombre_sain          1960\n",
    "nombre_exposed        564\n",
    "nombre_recovered    16316\n",
    "Name: 522, dtype: int64"
   ]
  },
  {
   "cell_type": "markdown",
   "id": "27d9e8ef",
   "metadata": {},
   "source": [
    "nombre_infected      1157\n",
    "nombre_sain          1922\n",
    "nombre_exposed        578\n",
    "nombre_recovered    16343\n",
    "Name: 523, dtype: int64"
   ]
  },
  {
   "cell_type": "markdown",
   "id": "2665bbd5",
   "metadata": {},
   "source": [
    "nombre_infected      1177\n",
    "nombre_sain          1919\n",
    "nombre_exposed        573\n",
    "nombre_recovered    16331\n",
    "Name: 524, dtype: int64"
   ]
  },
  {
   "cell_type": "markdown",
   "id": "8c2222e7",
   "metadata": {},
   "source": [
    "nombre_infected      1187\n",
    "nombre_sain          1902\n",
    "nombre_exposed        549\n",
    "nombre_recovered    16362\n",
    "Name: 525, dtype: int64"
   ]
  },
  {
   "cell_type": "markdown",
   "id": "47eba606",
   "metadata": {},
   "source": [
    "nombre_infected      1209\n",
    "nombre_sain          1859\n",
    "nombre_exposed        557\n",
    "nombre_recovered    16375\n",
    "Name: 526, dtype: int64"
   ]
  },
  {
   "cell_type": "markdown",
   "id": "c0c5bebd",
   "metadata": {},
   "source": [
    "nombre_infected      1201\n",
    "nombre_sain          1851\n",
    "nombre_exposed        547\n",
    "nombre_recovered    16401\n",
    "Name: 527, dtype: int64"
   ]
  },
  {
   "cell_type": "markdown",
   "id": "1e5166a2",
   "metadata": {},
   "source": [
    "nombre_infected      1209\n",
    "nombre_sain          1809\n",
    "nombre_exposed        536\n",
    "nombre_recovered    16446\n",
    "Name: 528, dtype: int64"
   ]
  },
  {
   "cell_type": "markdown",
   "id": "83f37b6f",
   "metadata": {},
   "source": [
    "nombre_infected      1192\n",
    "nombre_sain          1790\n",
    "nombre_exposed        543\n",
    "nombre_recovered    16475\n",
    "Name: 529, dtype: int64"
   ]
  },
  {
   "cell_type": "markdown",
   "id": "6d8e6976",
   "metadata": {},
   "source": [
    "nombre_infected      1155\n",
    "nombre_sain          1772\n",
    "nombre_exposed        550\n",
    "nombre_recovered    16523\n",
    "Name: 530, dtype: int64"
   ]
  },
  {
   "cell_type": "markdown",
   "id": "9564072b",
   "metadata": {},
   "source": [
    "nombre_infected      1152\n",
    "nombre_sain          1740\n",
    "nombre_exposed        527\n",
    "nombre_recovered    16581\n",
    "Name: 531, dtype: int64"
   ]
  },
  {
   "cell_type": "markdown",
   "id": "cd171220",
   "metadata": {},
   "source": [
    "nombre_infected      1159\n",
    "nombre_sain          1749\n",
    "nombre_exposed        513\n",
    "nombre_recovered    16579\n",
    "Name: 532, dtype: int64"
   ]
  },
  {
   "cell_type": "markdown",
   "id": "e6a73082",
   "metadata": {},
   "source": [
    "nombre_infected      1161\n",
    "nombre_sain          1737\n",
    "nombre_exposed        489\n",
    "nombre_recovered    16613\n",
    "Name: 533, dtype: int64"
   ]
  },
  {
   "cell_type": "markdown",
   "id": "634c7e65",
   "metadata": {},
   "source": [
    "nombre_infected      1122\n",
    "nombre_sain          1714\n",
    "nombre_exposed        510\n",
    "nombre_recovered    16654\n",
    "Name: 534, dtype: int64"
   ]
  },
  {
   "cell_type": "markdown",
   "id": "73583e28",
   "metadata": {},
   "source": [
    "nombre_infected      1116\n",
    "nombre_sain          1708\n",
    "nombre_exposed        506\n",
    "nombre_recovered    16670\n",
    "Name: 535, dtype: int64"
   ]
  },
  {
   "cell_type": "markdown",
   "id": "27414e6f",
   "metadata": {},
   "source": [
    "nombre_infected      1123\n",
    "nombre_sain          1713\n",
    "nombre_exposed        485\n",
    "nombre_recovered    16679\n",
    "Name: 536, dtype: int64"
   ]
  },
  {
   "cell_type": "markdown",
   "id": "905b72b1",
   "metadata": {},
   "source": [
    "nombre_infected      1125\n",
    "nombre_sain          1733\n",
    "nombre_exposed        455\n",
    "nombre_recovered    16687\n",
    "Name: 537, dtype: int64"
   ]
  },
  {
   "cell_type": "markdown",
   "id": "41f9a95f",
   "metadata": {},
   "source": [
    "nombre_infected      1121\n",
    "nombre_sain          1737\n",
    "nombre_exposed        445\n",
    "nombre_recovered    16697\n",
    "Name: 538, dtype: int64"
   ]
  },
  {
   "cell_type": "markdown",
   "id": "344e188c",
   "metadata": {},
   "source": [
    "nombre_infected      1096\n",
    "nombre_sain          1731\n",
    "nombre_exposed        455\n",
    "nombre_recovered    16718\n",
    "Name: 539, dtype: int64"
   ]
  },
  {
   "cell_type": "markdown",
   "id": "36cc66aa",
   "metadata": {},
   "source": [
    "nombre_infected      1085\n",
    "nombre_sain          1734\n",
    "nombre_exposed        452\n",
    "nombre_recovered    16729\n",
    "Name: 540, dtype: int64"
   ]
  },
  {
   "cell_type": "markdown",
   "id": "a1baf0aa",
   "metadata": {},
   "source": [
    "nombre_infected      1074\n",
    "nombre_sain          1727\n",
    "nombre_exposed        454\n",
    "nombre_recovered    16745\n",
    "Name: 541, dtype: int64"
   ]
  },
  {
   "cell_type": "markdown",
   "id": "4df7900e",
   "metadata": {},
   "source": [
    "nombre_infected      1052\n",
    "nombre_sain          1745\n",
    "nombre_exposed        468\n",
    "nombre_recovered    16735\n",
    "Name: 542, dtype: int64"
   ]
  },
  {
   "cell_type": "markdown",
   "id": "830f988c",
   "metadata": {},
   "source": [
    "nombre_infected      1030\n",
    "nombre_sain          1731\n",
    "nombre_exposed        471\n",
    "nombre_recovered    16768\n",
    "Name: 543, dtype: int64"
   ]
  },
  {
   "cell_type": "markdown",
   "id": "ecd88db1",
   "metadata": {},
   "source": [
    "nombre_infected      1017\n",
    "nombre_sain          1744\n",
    "nombre_exposed        472\n",
    "nombre_recovered    16767\n",
    "Name: 544, dtype: int64"
   ]
  },
  {
   "cell_type": "markdown",
   "id": "d067afc3",
   "metadata": {},
   "source": [
    "nombre_infected      1033\n",
    "nombre_sain          1767\n",
    "nombre_exposed        460\n",
    "nombre_recovered    16740\n",
    "Name: 545, dtype: int64"
   ]
  },
  {
   "cell_type": "markdown",
   "id": "2e3d337f",
   "metadata": {},
   "source": [
    "nombre_infected      1034\n",
    "nombre_sain          1780\n",
    "nombre_exposed        440\n",
    "nombre_recovered    16746\n",
    "Name: 546, dtype: int64"
   ]
  },
  {
   "cell_type": "markdown",
   "id": "87242d7b",
   "metadata": {},
   "source": [
    "nombre_infected      1030\n",
    "nombre_sain          1746\n",
    "nombre_exposed        450\n",
    "nombre_recovered    16774\n",
    "Name: 547, dtype: int64"
   ]
  },
  {
   "cell_type": "markdown",
   "id": "e4a4a060",
   "metadata": {},
   "source": [
    "nombre_infected      1053\n",
    "nombre_sain          1757\n",
    "nombre_exposed        424\n",
    "nombre_recovered    16766\n",
    "Name: 548, dtype: int64"
   ]
  },
  {
   "cell_type": "markdown",
   "id": "4eed398a",
   "metadata": {},
   "source": [
    "nombre_infected      1043\n",
    "nombre_sain          1760\n",
    "nombre_exposed        423\n",
    "nombre_recovered    16774\n",
    "Name: 549, dtype: int64"
   ]
  },
  {
   "cell_type": "markdown",
   "id": "08dbbb17",
   "metadata": {},
   "source": [
    "nombre_infected      1051\n",
    "nombre_sain          1777\n",
    "nombre_exposed        398\n",
    "nombre_recovered    16774\n",
    "Name: 550, dtype: int64"
   ]
  },
  {
   "cell_type": "markdown",
   "id": "c931f5ef",
   "metadata": {},
   "source": [
    "nombre_infected      1015\n",
    "nombre_sain          1794\n",
    "nombre_exposed        398\n",
    "nombre_recovered    16793\n",
    "Name: 551, dtype: int64"
   ]
  },
  {
   "cell_type": "markdown",
   "id": "6d36eb6e",
   "metadata": {},
   "source": [
    "nombre_infected       994\n",
    "nombre_sain          1796\n",
    "nombre_exposed        409\n",
    "nombre_recovered    16801\n",
    "Name: 552, dtype: int64"
   ]
  },
  {
   "cell_type": "markdown",
   "id": "fbb92f0c",
   "metadata": {},
   "source": [
    "nombre_infected       980\n",
    "nombre_sain          1817\n",
    "nombre_exposed        424\n",
    "nombre_recovered    16779\n",
    "Name: 553, dtype: int64"
   ]
  },
  {
   "cell_type": "markdown",
   "id": "58eeed9d",
   "metadata": {},
   "source": [
    "nombre_infected       973\n",
    "nombre_sain          1818\n",
    "nombre_exposed        399\n",
    "nombre_recovered    16810\n",
    "Name: 554, dtype: int64"
   ]
  },
  {
   "cell_type": "markdown",
   "id": "ee76c52a",
   "metadata": {},
   "source": [
    "nombre_infected       973\n",
    "nombre_sain          1854\n",
    "nombre_exposed        396\n",
    "nombre_recovered    16777\n",
    "Name: 555, dtype: int64"
   ]
  },
  {
   "cell_type": "markdown",
   "id": "d95013c0",
   "metadata": {},
   "source": [
    "nombre_infected       952\n",
    "nombre_sain          1881\n",
    "nombre_exposed        388\n",
    "nombre_recovered    16779\n",
    "Name: 556, dtype: int64"
   ]
  },
  {
   "cell_type": "markdown",
   "id": "41e64f5b",
   "metadata": {},
   "source": [
    "nombre_infected       908\n",
    "nombre_sain          1885\n",
    "nombre_exposed        406\n",
    "nombre_recovered    16801\n",
    "Name: 557, dtype: int64"
   ]
  },
  {
   "cell_type": "markdown",
   "id": "75f65d6c",
   "metadata": {},
   "source": [
    "nombre_infected       897\n",
    "nombre_sain          1876\n",
    "nombre_exposed        422\n",
    "nombre_recovered    16805\n",
    "Name: 558, dtype: int64"
   ]
  },
  {
   "cell_type": "markdown",
   "id": "8c3c0801",
   "metadata": {},
   "source": [
    "nombre_infected       888\n",
    "nombre_sain          1889\n",
    "nombre_exposed        416\n",
    "nombre_recovered    16807\n",
    "Name: 559, dtype: int64"
   ]
  },
  {
   "cell_type": "markdown",
   "id": "f436433d",
   "metadata": {},
   "source": [
    "nombre_infected       869\n",
    "nombre_sain          1912\n",
    "nombre_exposed        417\n",
    "nombre_recovered    16802\n",
    "Name: 560, dtype: int64"
   ]
  },
  {
   "cell_type": "markdown",
   "id": "ebffc160",
   "metadata": {},
   "source": [
    "nombre_infected       888\n",
    "nombre_sain          1913\n",
    "nombre_exposed        412\n",
    "nombre_recovered    16787\n",
    "Name: 561, dtype: int64"
   ]
  },
  {
   "cell_type": "markdown",
   "id": "31d7a080",
   "metadata": {},
   "source": [
    "nombre_infected       877\n",
    "nombre_sain          1936\n",
    "nombre_exposed        426\n",
    "nombre_recovered    16761\n",
    "Name: 562, dtype: int64"
   ]
  },
  {
   "cell_type": "markdown",
   "id": "4dfa62a5",
   "metadata": {},
   "source": [
    "nombre_infected       885\n",
    "nombre_sain          1946\n",
    "nombre_exposed        429\n",
    "nombre_recovered    16740\n",
    "Name: 563, dtype: int64"
   ]
  },
  {
   "cell_type": "markdown",
   "id": "73d9cc08",
   "metadata": {},
   "source": [
    "nombre_infected       875\n",
    "nombre_sain          1936\n",
    "nombre_exposed        439\n",
    "nombre_recovered    16750\n",
    "Name: 564, dtype: int64"
   ]
  },
  {
   "cell_type": "markdown",
   "id": "b387a973",
   "metadata": {},
   "source": [
    "nombre_infected       880\n",
    "nombre_sain          1950\n",
    "nombre_exposed        437\n",
    "nombre_recovered    16733\n",
    "Name: 565, dtype: int64"
   ]
  },
  {
   "cell_type": "markdown",
   "id": "208aa611",
   "metadata": {},
   "source": [
    "nombre_infected       882\n",
    "nombre_sain          1951\n",
    "nombre_exposed        436\n",
    "nombre_recovered    16731\n",
    "Name: 566, dtype: int64"
   ]
  },
  {
   "cell_type": "markdown",
   "id": "efc0a57f",
   "metadata": {},
   "source": [
    "nombre_infected       874\n",
    "nombre_sain          1959\n",
    "nombre_exposed        415\n",
    "nombre_recovered    16752\n",
    "Name: 567, dtype: int64"
   ]
  },
  {
   "cell_type": "markdown",
   "id": "c162c94b",
   "metadata": {},
   "source": [
    "nombre_infected       860\n",
    "nombre_sain          1986\n",
    "nombre_exposed        421\n",
    "nombre_recovered    16733\n",
    "Name: 568, dtype: int64"
   ]
  },
  {
   "cell_type": "markdown",
   "id": "798945c2",
   "metadata": {},
   "source": [
    "nombre_infected       862\n",
    "nombre_sain          1991\n",
    "nombre_exposed        421\n",
    "nombre_recovered    16726\n",
    "Name: 569, dtype: int64"
   ]
  },
  {
   "cell_type": "markdown",
   "id": "9a44a6c5",
   "metadata": {},
   "source": [
    "nombre_infected       860\n",
    "nombre_sain          2001\n",
    "nombre_exposed        415\n",
    "nombre_recovered    16724\n",
    "Name: 570, dtype: int64"
   ]
  },
  {
   "cell_type": "markdown",
   "id": "1200c853",
   "metadata": {},
   "source": [
    "nombre_infected       850\n",
    "nombre_sain          1991\n",
    "nombre_exposed        420\n",
    "nombre_recovered    16739\n",
    "Name: 571, dtype: int64"
   ]
  },
  {
   "cell_type": "markdown",
   "id": "3062d37c",
   "metadata": {},
   "source": [
    "nombre_infected       821\n",
    "nombre_sain          2017\n",
    "nombre_exposed        408\n",
    "nombre_recovered    16754\n",
    "Name: 572, dtype: int64"
   ]
  },
  {
   "cell_type": "markdown",
   "id": "260ffa59",
   "metadata": {},
   "source": [
    "nombre_infected       829\n",
    "nombre_sain          2037\n",
    "nombre_exposed        403\n",
    "nombre_recovered    16731\n",
    "Name: 573, dtype: int64"
   ]
  },
  {
   "cell_type": "markdown",
   "id": "7c5a8cd5",
   "metadata": {},
   "source": [
    "nombre_infected       804\n",
    "nombre_sain          2062\n",
    "nombre_exposed        412\n",
    "nombre_recovered    16722\n",
    "Name: 574, dtype: int64"
   ]
  },
  {
   "cell_type": "markdown",
   "id": "6e5e97bb",
   "metadata": {},
   "source": [
    "nombre_infected       776\n",
    "nombre_sain          2085\n",
    "nombre_exposed        423\n",
    "nombre_recovered    16716\n",
    "Name: 575, dtype: int64"
   ]
  },
  {
   "cell_type": "markdown",
   "id": "2c499f1a",
   "metadata": {},
   "source": [
    "nombre_infected       797\n",
    "nombre_sain          2106\n",
    "nombre_exposed        407\n",
    "nombre_recovered    16690\n",
    "Name: 576, dtype: int64"
   ]
  },
  {
   "cell_type": "markdown",
   "id": "2c609979",
   "metadata": {},
   "source": [
    "nombre_infected       814\n",
    "nombre_sain          2104\n",
    "nombre_exposed        397\n",
    "nombre_recovered    16685\n",
    "Name: 577, dtype: int64"
   ]
  },
  {
   "cell_type": "markdown",
   "id": "b0499c82",
   "metadata": {},
   "source": [
    "nombre_infected       809\n",
    "nombre_sain          2125\n",
    "nombre_exposed        402\n",
    "nombre_recovered    16664\n",
    "Name: 578, dtype: int64"
   ]
  },
  {
   "cell_type": "markdown",
   "id": "d8b54e26",
   "metadata": {},
   "source": [
    "nombre_infected       805\n",
    "nombre_sain          2137\n",
    "nombre_exposed        429\n",
    "nombre_recovered    16629\n",
    "Name: 579, dtype: int64"
   ]
  },
  {
   "cell_type": "markdown",
   "id": "c6fdcae5",
   "metadata": {},
   "source": [
    "nombre_infected       805\n",
    "nombre_sain          2143\n",
    "nombre_exposed        439\n",
    "nombre_recovered    16613\n",
    "Name: 580, dtype: int64"
   ]
  },
  {
   "cell_type": "markdown",
   "id": "d26ae788",
   "metadata": {},
   "source": [
    "nombre_infected       785\n",
    "nombre_sain          2136\n",
    "nombre_exposed        450\n",
    "nombre_recovered    16629\n",
    "Name: 581, dtype: int64"
   ]
  },
  {
   "cell_type": "markdown",
   "id": "0e6697dd",
   "metadata": {},
   "source": [
    "nombre_infected       766\n",
    "nombre_sain          2154\n",
    "nombre_exposed        452\n",
    "nombre_recovered    16628\n",
    "Name: 582, dtype: int64"
   ]
  },
  {
   "cell_type": "markdown",
   "id": "9484d36c",
   "metadata": {},
   "source": [
    "nombre_infected       779\n",
    "nombre_sain          2169\n",
    "nombre_exposed        442\n",
    "nombre_recovered    16610\n",
    "Name: 583, dtype: int64"
   ]
  },
  {
   "cell_type": "markdown",
   "id": "a1ac2630",
   "metadata": {},
   "source": [
    "nombre_infected       797\n",
    "nombre_sain          2166\n",
    "nombre_exposed        445\n",
    "nombre_recovered    16592\n",
    "Name: 584, dtype: int64"
   ]
  },
  {
   "cell_type": "markdown",
   "id": "0956375c",
   "metadata": {},
   "source": [
    "nombre_infected       798\n",
    "nombre_sain          2254\n",
    "nombre_exposed        441\n",
    "nombre_recovered    16507\n",
    "Name: 585, dtype: int64"
   ]
  },
  {
   "cell_type": "markdown",
   "id": "1b5537a1",
   "metadata": {},
   "source": [
    "nombre_infected       806\n",
    "nombre_sain          2291\n",
    "nombre_exposed        450\n",
    "nombre_recovered    16453\n",
    "Name: 586, dtype: int64"
   ]
  },
  {
   "cell_type": "markdown",
   "id": "e59a293e",
   "metadata": {},
   "source": [
    "nombre_infected       791\n",
    "nombre_sain          2301\n",
    "nombre_exposed        477\n",
    "nombre_recovered    16431\n",
    "Name: 587, dtype: int64"
   ]
  },
  {
   "cell_type": "markdown",
   "id": "e8a04cb5",
   "metadata": {},
   "source": [
    "nombre_infected       814\n",
    "nombre_sain          2299\n",
    "nombre_exposed        481\n",
    "nombre_recovered    16406\n",
    "Name: 588, dtype: int64"
   ]
  },
  {
   "cell_type": "markdown",
   "id": "2e48861f",
   "metadata": {},
   "source": [
    "nombre_infected       805\n",
    "nombre_sain          2300\n",
    "nombre_exposed        503\n",
    "nombre_recovered    16392\n",
    "Name: 589, dtype: int64"
   ]
  },
  {
   "cell_type": "markdown",
   "id": "2cf804f6",
   "metadata": {},
   "source": [
    "nombre_infected       824\n",
    "nombre_sain          2307\n",
    "nombre_exposed        501\n",
    "nombre_recovered    16368\n",
    "Name: 590, dtype: int64"
   ]
  },
  {
   "cell_type": "markdown",
   "id": "d9087a61",
   "metadata": {},
   "source": [
    "nombre_infected       830\n",
    "nombre_sain          2331\n",
    "nombre_exposed        504\n",
    "nombre_recovered    16335\n",
    "Name: 591, dtype: int64"
   ]
  },
  {
   "cell_type": "markdown",
   "id": "d588aef9",
   "metadata": {},
   "source": [
    "nombre_infected       855\n",
    "nombre_sain          2345\n",
    "nombre_exposed        514\n",
    "nombre_recovered    16286\n",
    "Name: 592, dtype: int64"
   ]
  },
  {
   "cell_type": "markdown",
   "id": "ab73e6ad",
   "metadata": {},
   "source": [
    "nombre_infected       847\n",
    "nombre_sain          2346\n",
    "nombre_exposed        534\n",
    "nombre_recovered    16273\n",
    "Name: 593, dtype: int64"
   ]
  },
  {
   "cell_type": "markdown",
   "id": "ce1b59e7",
   "metadata": {},
   "source": [
    "nombre_infected       873\n",
    "nombre_sain          2371\n",
    "nombre_exposed        509\n",
    "nombre_recovered    16247\n",
    "Name: 594, dtype: int64"
   ]
  },
  {
   "cell_type": "markdown",
   "id": "636b4f68",
   "metadata": {},
   "source": [
    "nombre_infected       888\n",
    "nombre_sain          2381\n",
    "nombre_exposed        529\n",
    "nombre_recovered    16202\n",
    "Name: 595, dtype: int64"
   ]
  },
  {
   "cell_type": "markdown",
   "id": "b0caaf71",
   "metadata": {},
   "source": [
    "nombre_infected       886\n",
    "nombre_sain          2374\n",
    "nombre_exposed        543\n",
    "nombre_recovered    16197\n",
    "Name: 596, dtype: int64"
   ]
  },
  {
   "cell_type": "markdown",
   "id": "30531dba",
   "metadata": {},
   "source": [
    "nombre_infected       913\n",
    "nombre_sain          2352\n",
    "nombre_exposed        559\n",
    "nombre_recovered    16176\n",
    "Name: 597, dtype: int64"
   ]
  },
  {
   "cell_type": "markdown",
   "id": "71d1706a",
   "metadata": {},
   "source": [
    "nombre_infected       917\n",
    "nombre_sain          2333\n",
    "nombre_exposed        592\n",
    "nombre_recovered    16158\n",
    "Name: 598, dtype: int64"
   ]
  },
  {
   "cell_type": "markdown",
   "id": "635a87e4",
   "metadata": {},
   "source": [
    "nombre_infected       950\n",
    "nombre_sain          2307\n",
    "nombre_exposed        594\n",
    "nombre_recovered    16149\n",
    "Name: 599, dtype: int64"
   ]
  },
  {
   "cell_type": "markdown",
   "id": "65eac867",
   "metadata": {},
   "source": [
    "nombre_infected       980\n",
    "nombre_sain          2302\n",
    "nombre_exposed        569\n",
    "nombre_recovered    16149\n",
    "Name: 600, dtype: int64"
   ]
  },
  {
   "cell_type": "markdown",
   "id": "a194a951",
   "metadata": {},
   "source": [
    "nombre_infected      1010\n",
    "nombre_sain          2259\n",
    "nombre_exposed        582\n",
    "nombre_recovered    16149\n",
    "Name: 601, dtype: int64"
   ]
  },
  {
   "cell_type": "markdown",
   "id": "3949682c",
   "metadata": {},
   "source": [
    "nombre_infected      1026\n",
    "nombre_sain          2255\n",
    "nombre_exposed        568\n",
    "nombre_recovered    16151\n",
    "Name: 602, dtype: int64"
   ]
  },
  {
   "cell_type": "markdown",
   "id": "fdb4178e",
   "metadata": {},
   "source": [
    "nombre_infected      1034\n",
    "nombre_sain          2220\n",
    "nombre_exposed        579\n",
    "nombre_recovered    16167\n",
    "Name: 603, dtype: int64"
   ]
  },
  {
   "cell_type": "markdown",
   "id": "3a8fc3b9",
   "metadata": {},
   "source": [
    "nombre_infected      1036\n",
    "nombre_sain          2197\n",
    "nombre_exposed        569\n",
    "nombre_recovered    16198\n",
    "Name: 604, dtype: int64"
   ]
  },
  {
   "cell_type": "markdown",
   "id": "e9bbcc04",
   "metadata": {},
   "source": [
    "nombre_infected      1032\n",
    "nombre_sain          2169\n",
    "nombre_exposed        579\n",
    "nombre_recovered    16220\n",
    "Name: 605, dtype: int64"
   ]
  },
  {
   "cell_type": "markdown",
   "id": "ee2012bb",
   "metadata": {},
   "source": [
    "nombre_infected      1041\n",
    "nombre_sain          2141\n",
    "nombre_exposed        585\n",
    "nombre_recovered    16233\n",
    "Name: 606, dtype: int64"
   ]
  },
  {
   "cell_type": "markdown",
   "id": "f5491382",
   "metadata": {},
   "source": [
    "nombre_infected      1039\n",
    "nombre_sain          2117\n",
    "nombre_exposed        586\n",
    "nombre_recovered    16258\n",
    "Name: 607, dtype: int64"
   ]
  },
  {
   "cell_type": "markdown",
   "id": "561bb9b9",
   "metadata": {},
   "source": [
    "nombre_infected      1027\n",
    "nombre_sain          2072\n",
    "nombre_exposed        600\n",
    "nombre_recovered    16301\n",
    "Name: 608, dtype: int64"
   ]
  },
  {
   "cell_type": "markdown",
   "id": "58bf05e3",
   "metadata": {},
   "source": [
    "nombre_infected      1040\n",
    "nombre_sain          2080\n",
    "nombre_exposed        587\n",
    "nombre_recovered    16293\n",
    "Name: 609, dtype: int64"
   ]
  },
  {
   "cell_type": "markdown",
   "id": "d7c8f6ee",
   "metadata": {},
   "source": [
    "nombre_infected      1038\n",
    "nombre_sain          2057\n",
    "nombre_exposed        594\n",
    "nombre_recovered    16311\n",
    "Name: 610, dtype: int64"
   ]
  },
  {
   "cell_type": "markdown",
   "id": "1baef9c9",
   "metadata": {},
   "source": [
    "nombre_infected      1041\n",
    "nombre_sain          2033\n",
    "nombre_exposed        590\n",
    "nombre_recovered    16336\n",
    "Name: 611, dtype: int64"
   ]
  },
  {
   "cell_type": "markdown",
   "id": "1d10fb6e",
   "metadata": {},
   "source": [
    "nombre_infected      1067\n",
    "nombre_sain          2014\n",
    "nombre_exposed        580\n",
    "nombre_recovered    16339\n",
    "Name: 612, dtype: int64"
   ]
  },
  {
   "cell_type": "markdown",
   "id": "be8feef4",
   "metadata": {},
   "source": [
    "nombre_infected      1082\n",
    "nombre_sain          1991\n",
    "nombre_exposed        568\n",
    "nombre_recovered    16359\n",
    "Name: 613, dtype: int64"
   ]
  },
  {
   "cell_type": "markdown",
   "id": "92ebd399",
   "metadata": {},
   "source": [
    "nombre_infected      1106\n",
    "nombre_sain          1974\n",
    "nombre_exposed        554\n",
    "nombre_recovered    16366\n",
    "Name: 614, dtype: int64"
   ]
  },
  {
   "cell_type": "markdown",
   "id": "9fe2a901",
   "metadata": {},
   "source": [
    "nombre_infected      1095\n",
    "nombre_sain          1971\n",
    "nombre_exposed        552\n",
    "nombre_recovered    16382\n",
    "Name: 615, dtype: int64"
   ]
  },
  {
   "cell_type": "markdown",
   "id": "c07d3d86",
   "metadata": {},
   "source": [
    "nombre_infected      1100\n",
    "nombre_sain          1953\n",
    "nombre_exposed        531\n",
    "nombre_recovered    16416\n",
    "Name: 616, dtype: int64"
   ]
  },
  {
   "cell_type": "markdown",
   "id": "235beba6",
   "metadata": {},
   "source": [
    "nombre_infected      1086\n",
    "nombre_sain          1933\n",
    "nombre_exposed        529\n",
    "nombre_recovered    16452\n",
    "Name: 617, dtype: int64"
   ]
  },
  {
   "cell_type": "markdown",
   "id": "b2429cfe",
   "metadata": {},
   "source": [
    "nombre_infected      1058\n",
    "nombre_sain          1902\n",
    "nombre_exposed        540\n",
    "nombre_recovered    16500\n",
    "Name: 618, dtype: int64"
   ]
  },
  {
   "cell_type": "markdown",
   "id": "d762525e",
   "metadata": {},
   "source": [
    "nombre_infected      1063\n",
    "nombre_sain          1883\n",
    "nombre_exposed        518\n",
    "nombre_recovered    16536\n",
    "Name: 619, dtype: int64"
   ]
  },
  {
   "cell_type": "markdown",
   "id": "f48a088e",
   "metadata": {},
   "source": [
    "nombre_infected      1074\n",
    "nombre_sain          1908\n",
    "nombre_exposed        492\n",
    "nombre_recovered    16526\n",
    "Name: 620, dtype: int64"
   ]
  },
  {
   "cell_type": "markdown",
   "id": "14ee198c",
   "metadata": {},
   "source": [
    "nombre_infected      1076\n",
    "nombre_sain          1904\n",
    "nombre_exposed        467\n",
    "nombre_recovered    16553\n",
    "Name: 621, dtype: int64"
   ]
  },
  {
   "cell_type": "markdown",
   "id": "15f2d872",
   "metadata": {},
   "source": [
    "nombre_infected      1045\n",
    "nombre_sain          1894\n",
    "nombre_exposed        490\n",
    "nombre_recovered    16571\n",
    "Name: 622, dtype: int64"
   ]
  },
  {
   "cell_type": "markdown",
   "id": "c75c4abb",
   "metadata": {},
   "source": [
    "nombre_infected      1026\n",
    "nombre_sain          1884\n",
    "nombre_exposed        489\n",
    "nombre_recovered    16601\n",
    "Name: 623, dtype: int64"
   ]
  },
  {
   "cell_type": "markdown",
   "id": "2106defb",
   "metadata": {},
   "source": [
    "nombre_infected      1032\n",
    "nombre_sain          1860\n",
    "nombre_exposed        467\n",
    "nombre_recovered    16641\n",
    "Name: 624, dtype: int64"
   ]
  },
  {
   "cell_type": "markdown",
   "id": "66760f9a",
   "metadata": {},
   "source": [
    "nombre_infected      1037\n",
    "nombre_sain          1850\n",
    "nombre_exposed        461\n",
    "nombre_recovered    16652\n",
    "Name: 625, dtype: int64"
   ]
  },
  {
   "cell_type": "markdown",
   "id": "16ba726b",
   "metadata": {},
   "source": [
    "nombre_infected      1023\n",
    "nombre_sain          1838\n",
    "nombre_exposed        461\n",
    "nombre_recovered    16678\n",
    "Name: 626, dtype: int64"
   ]
  },
  {
   "cell_type": "markdown",
   "id": "6eb13235",
   "metadata": {},
   "source": [
    "nombre_infected      1012\n",
    "nombre_sain          1809\n",
    "nombre_exposed        460\n",
    "nombre_recovered    16719\n",
    "Name: 627, dtype: int64"
   ]
  },
  {
   "cell_type": "markdown",
   "id": "eaee1fc1",
   "metadata": {},
   "source": [
    "nombre_infected      1026\n",
    "nombre_sain          1808\n",
    "nombre_exposed        434\n",
    "nombre_recovered    16732\n",
    "Name: 628, dtype: int64"
   ]
  },
  {
   "cell_type": "markdown",
   "id": "adb4bf39",
   "metadata": {},
   "source": [
    "nombre_infected      1015\n",
    "nombre_sain          1790\n",
    "nombre_exposed        452\n",
    "nombre_recovered    16743\n",
    "Name: 629, dtype: int64"
   ]
  },
  {
   "cell_type": "markdown",
   "id": "6f257d41",
   "metadata": {},
   "source": [
    "nombre_infected       989\n",
    "nombre_sain          1778\n",
    "nombre_exposed        446\n",
    "nombre_recovered    16787\n",
    "Name: 630, dtype: int64"
   ]
  },
  {
   "cell_type": "markdown",
   "id": "aee74c9d",
   "metadata": {},
   "source": [
    "nombre_infected       986\n",
    "nombre_sain          1778\n",
    "nombre_exposed        421\n",
    "nombre_recovered    16815\n",
    "Name: 631, dtype: int64"
   ]
  },
  {
   "cell_type": "markdown",
   "id": "f564d536",
   "metadata": {},
   "source": [
    "nombre_infected       971\n",
    "nombre_sain          1791\n",
    "nombre_exposed        411\n",
    "nombre_recovered    16827\n",
    "Name: 632, dtype: int64"
   ]
  },
  {
   "cell_type": "markdown",
   "id": "2d118289",
   "metadata": {},
   "source": [
    "nombre_infected       970\n",
    "nombre_sain          1807\n",
    "nombre_exposed        413\n",
    "nombre_recovered    16810\n",
    "Name: 633, dtype: int64"
   ]
  },
  {
   "cell_type": "markdown",
   "id": "8041cee9",
   "metadata": {},
   "source": [
    "nombre_infected       956\n",
    "nombre_sain          1791\n",
    "nombre_exposed        412\n",
    "nombre_recovered    16841\n",
    "Name: 634, dtype: int64"
   ]
  },
  {
   "cell_type": "markdown",
   "id": "f6e29f27",
   "metadata": {},
   "source": [
    "nombre_infected       925\n",
    "nombre_sain          1778\n",
    "nombre_exposed        432\n",
    "nombre_recovered    16865\n",
    "Name: 635, dtype: int64"
   ]
  },
  {
   "cell_type": "markdown",
   "id": "387c101c",
   "metadata": {},
   "source": [
    "nombre_infected       904\n",
    "nombre_sain          1792\n",
    "nombre_exposed        418\n",
    "nombre_recovered    16886\n",
    "Name: 636, dtype: int64"
   ]
  },
  {
   "cell_type": "markdown",
   "id": "e3b4003b",
   "metadata": {},
   "source": [
    "nombre_infected       909\n",
    "nombre_sain          1807\n",
    "nombre_exposed        401\n",
    "nombre_recovered    16883\n",
    "Name: 637, dtype: int64"
   ]
  },
  {
   "cell_type": "markdown",
   "id": "502ae847",
   "metadata": {},
   "source": [
    "nombre_infected       923\n",
    "nombre_sain          1813\n",
    "nombre_exposed        390\n",
    "nombre_recovered    16874\n",
    "Name: 638, dtype: int64"
   ]
  },
  {
   "cell_type": "markdown",
   "id": "73e921e3",
   "metadata": {},
   "source": [
    "nombre_infected       926\n",
    "nombre_sain          1827\n",
    "nombre_exposed        367\n",
    "nombre_recovered    16880\n",
    "Name: 639, dtype: int64"
   ]
  },
  {
   "cell_type": "markdown",
   "id": "47fecab0",
   "metadata": {},
   "source": [
    "nombre_infected       924\n",
    "nombre_sain          1821\n",
    "nombre_exposed        367\n",
    "nombre_recovered    16888\n",
    "Name: 640, dtype: int64"
   ]
  },
  {
   "cell_type": "markdown",
   "id": "0ddd0957",
   "metadata": {},
   "source": [
    "nombre_infected       887\n",
    "nombre_sain          1835\n",
    "nombre_exposed        376\n",
    "nombre_recovered    16902\n",
    "Name: 641, dtype: int64"
   ]
  },
  {
   "cell_type": "markdown",
   "id": "66960029",
   "metadata": {},
   "source": [
    "nombre_infected       866\n",
    "nombre_sain          1833\n",
    "nombre_exposed        391\n",
    "nombre_recovered    16910\n",
    "Name: 642, dtype: int64"
   ]
  },
  {
   "cell_type": "markdown",
   "id": "1241b7b6",
   "metadata": {},
   "source": [
    "nombre_infected       864\n",
    "nombre_sain          1845\n",
    "nombre_exposed        391\n",
    "nombre_recovered    16900\n",
    "Name: 643, dtype: int64"
   ]
  },
  {
   "cell_type": "markdown",
   "id": "01b7b536",
   "metadata": {},
   "source": [
    "nombre_infected       867\n",
    "nombre_sain          1832\n",
    "nombre_exposed        384\n",
    "nombre_recovered    16917\n",
    "Name: 644, dtype: int64"
   ]
  },
  {
   "cell_type": "markdown",
   "id": "f62131d1",
   "metadata": {},
   "source": [
    "nombre_infected       868\n",
    "nombre_sain          1828\n",
    "nombre_exposed        396\n",
    "nombre_recovered    16908\n",
    "Name: 645, dtype: int64"
   ]
  },
  {
   "cell_type": "markdown",
   "id": "9bc78a2d",
   "metadata": {},
   "source": [
    "nombre_infected       860\n",
    "nombre_sain          1837\n",
    "nombre_exposed        397\n",
    "nombre_recovered    16906\n",
    "Name: 646, dtype: int64"
   ]
  },
  {
   "cell_type": "markdown",
   "id": "fbb446fc",
   "metadata": {},
   "source": [
    "nombre_infected       865\n",
    "nombre_sain          1830\n",
    "nombre_exposed        411\n",
    "nombre_recovered    16894\n",
    "Name: 647, dtype: int64"
   ]
  },
  {
   "cell_type": "markdown",
   "id": "9285d33c",
   "metadata": {},
   "source": [
    "nombre_infected       864\n",
    "nombre_sain          1851\n",
    "nombre_exposed        398\n",
    "nombre_recovered    16887\n",
    "Name: 648, dtype: int64"
   ]
  },
  {
   "cell_type": "markdown",
   "id": "79cff00f",
   "metadata": {},
   "source": [
    "nombre_infected       887\n",
    "nombre_sain          1857\n",
    "nombre_exposed        381\n",
    "nombre_recovered    16875\n",
    "Name: 649, dtype: int64"
   ]
  },
  {
   "cell_type": "markdown",
   "id": "7969c3a2",
   "metadata": {},
   "source": [
    "nombre_infected       875\n",
    "nombre_sain          1849\n",
    "nombre_exposed        366\n",
    "nombre_recovered    16910\n",
    "Name: 650, dtype: int64"
   ]
  },
  {
   "cell_type": "markdown",
   "id": "3a8fe7db",
   "metadata": {},
   "source": [
    "nombre_infected       879\n",
    "nombre_sain          1873\n",
    "nombre_exposed        355\n",
    "nombre_recovered    16893\n",
    "Name: 651, dtype: int64"
   ]
  },
  {
   "cell_type": "markdown",
   "id": "f73beb07",
   "metadata": {},
   "source": [
    "nombre_infected       859\n",
    "nombre_sain          1894\n",
    "nombre_exposed        338\n",
    "nombre_recovered    16909\n",
    "Name: 652, dtype: int64"
   ]
  },
  {
   "cell_type": "markdown",
   "id": "df10d24d",
   "metadata": {},
   "source": [
    "nombre_infected       854\n",
    "nombre_sain          1899\n",
    "nombre_exposed        337\n",
    "nombre_recovered    16910\n",
    "Name: 653, dtype: int64"
   ]
  },
  {
   "cell_type": "markdown",
   "id": "cf4142a4",
   "metadata": {},
   "source": [
    "nombre_infected       816\n",
    "nombre_sain          1871\n",
    "nombre_exposed        369\n",
    "nombre_recovered    16944\n",
    "Name: 654, dtype: int64"
   ]
  },
  {
   "cell_type": "markdown",
   "id": "924a3581",
   "metadata": {},
   "source": [
    "nombre_infected       814\n",
    "nombre_sain          1878\n",
    "nombre_exposed        365\n",
    "nombre_recovered    16943\n",
    "Name: 655, dtype: int64"
   ]
  },
  {
   "cell_type": "markdown",
   "id": "531221d6",
   "metadata": {},
   "source": [
    "nombre_infected       791\n",
    "nombre_sain          1877\n",
    "nombre_exposed        361\n",
    "nombre_recovered    16971\n",
    "Name: 656, dtype: int64"
   ]
  },
  {
   "cell_type": "markdown",
   "id": "0cc10bdf",
   "metadata": {},
   "source": [
    "nombre_infected       803\n",
    "nombre_sain          1884\n",
    "nombre_exposed        352\n",
    "nombre_recovered    16961\n",
    "Name: 657, dtype: int64"
   ]
  },
  {
   "cell_type": "markdown",
   "id": "6706546d",
   "metadata": {},
   "source": [
    "nombre_infected       807\n",
    "nombre_sain          1899\n",
    "nombre_exposed        341\n",
    "nombre_recovered    16953\n",
    "Name: 658, dtype: int64"
   ]
  },
  {
   "cell_type": "markdown",
   "id": "56c71716",
   "metadata": {},
   "source": [
    "nombre_infected       791\n",
    "nombre_sain          1919\n",
    "nombre_exposed        338\n",
    "nombre_recovered    16952\n",
    "Name: 659, dtype: int64"
   ]
  },
  {
   "cell_type": "markdown",
   "id": "5c65c3d2",
   "metadata": {},
   "source": [
    "nombre_infected       804\n",
    "nombre_sain          1930\n",
    "nombre_exposed        347\n",
    "nombre_recovered    16919\n",
    "Name: 660, dtype: int64"
   ]
  },
  {
   "cell_type": "markdown",
   "id": "955ebf7e",
   "metadata": {},
   "source": [
    "nombre_infected       795\n",
    "nombre_sain          1931\n",
    "nombre_exposed        374\n",
    "nombre_recovered    16900\n",
    "Name: 661, dtype: int64"
   ]
  },
  {
   "cell_type": "markdown",
   "id": "253e4303",
   "metadata": {},
   "source": [
    "nombre_infected       811\n",
    "nombre_sain          1951\n",
    "nombre_exposed        365\n",
    "nombre_recovered    16873\n",
    "Name: 662, dtype: int64"
   ]
  },
  {
   "cell_type": "markdown",
   "id": "a6b53758",
   "metadata": {},
   "source": [
    "nombre_infected       808\n",
    "nombre_sain          1974\n",
    "nombre_exposed        340\n",
    "nombre_recovered    16878\n",
    "Name: 663, dtype: int64"
   ]
  },
  {
   "cell_type": "markdown",
   "id": "ad9a37ad",
   "metadata": {},
   "source": [
    "nombre_infected       807\n",
    "nombre_sain          1980\n",
    "nombre_exposed        354\n",
    "nombre_recovered    16859\n",
    "Name: 664, dtype: int64"
   ]
  },
  {
   "cell_type": "markdown",
   "id": "e8b741d1",
   "metadata": {},
   "source": [
    "nombre_infected       799\n",
    "nombre_sain          1989\n",
    "nombre_exposed        355\n",
    "nombre_recovered    16857\n",
    "Name: 665, dtype: int64"
   ]
  },
  {
   "cell_type": "markdown",
   "id": "95dba0d0",
   "metadata": {},
   "source": [
    "nombre_infected       799\n",
    "nombre_sain          2014\n",
    "nombre_exposed        344\n",
    "nombre_recovered    16843\n",
    "Name: 666, dtype: int64"
   ]
  },
  {
   "cell_type": "markdown",
   "id": "360f080e",
   "metadata": {},
   "source": [
    "nombre_infected       802\n",
    "nombre_sain          2023\n",
    "nombre_exposed        358\n",
    "nombre_recovered    16817\n",
    "Name: 667, dtype: int64"
   ]
  },
  {
   "cell_type": "markdown",
   "id": "0e8dafd1",
   "metadata": {},
   "source": [
    "nombre_infected       793\n",
    "nombre_sain          2043\n",
    "nombre_exposed        368\n",
    "nombre_recovered    16796\n",
    "Name: 668, dtype: int64"
   ]
  },
  {
   "cell_type": "markdown",
   "id": "d564c3c7",
   "metadata": {},
   "source": [
    "nombre_infected       801\n",
    "nombre_sain          2069\n",
    "nombre_exposed        363\n",
    "nombre_recovered    16767\n",
    "Name: 669, dtype: int64"
   ]
  },
  {
   "cell_type": "markdown",
   "id": "3a1e1022",
   "metadata": {},
   "source": [
    "nombre_infected       793\n",
    "nombre_sain          2069\n",
    "nombre_exposed        382\n",
    "nombre_recovered    16756\n",
    "Name: 670, dtype: int64"
   ]
  },
  {
   "cell_type": "markdown",
   "id": "1d7f531b",
   "metadata": {},
   "source": [
    "nombre_infected       774\n",
    "nombre_sain          2099\n",
    "nombre_exposed        385\n",
    "nombre_recovered    16742\n",
    "Name: 671, dtype: int64"
   ]
  },
  {
   "cell_type": "markdown",
   "id": "19d091aa",
   "metadata": {},
   "source": [
    "nombre_infected       760\n",
    "nombre_sain          2108\n",
    "nombre_exposed        399\n",
    "nombre_recovered    16733\n",
    "Name: 672, dtype: int64"
   ]
  },
  {
   "cell_type": "markdown",
   "id": "9e3f436a",
   "metadata": {},
   "source": [
    "nombre_infected       769\n",
    "nombre_sain          2132\n",
    "nombre_exposed        406\n",
    "nombre_recovered    16693\n",
    "Name: 673, dtype: int64"
   ]
  },
  {
   "cell_type": "markdown",
   "id": "d0de7df8",
   "metadata": {},
   "source": [
    "nombre_infected       775\n",
    "nombre_sain          2177\n",
    "nombre_exposed        403\n",
    "nombre_recovered    16645\n",
    "Name: 674, dtype: int64"
   ]
  },
  {
   "cell_type": "markdown",
   "id": "1efcc616",
   "metadata": {},
   "source": [
    "nombre_infected       787\n",
    "nombre_sain          2218\n",
    "nombre_exposed        388\n",
    "nombre_recovered    16607\n",
    "Name: 675, dtype: int64"
   ]
  },
  {
   "cell_type": "markdown",
   "id": "01574a57",
   "metadata": {},
   "source": [
    "nombre_infected       803\n",
    "nombre_sain          2279\n",
    "nombre_exposed        374\n",
    "nombre_recovered    16544\n",
    "Name: 676, dtype: int64"
   ]
  },
  {
   "cell_type": "markdown",
   "id": "a9e2e0da",
   "metadata": {},
   "source": [
    "nombre_infected       816\n",
    "nombre_sain          2272\n",
    "nombre_exposed        409\n",
    "nombre_recovered    16503\n",
    "Name: 677, dtype: int64"
   ]
  },
  {
   "cell_type": "markdown",
   "id": "289fcdf0",
   "metadata": {},
   "source": [
    "nombre_infected       814\n",
    "nombre_sain          2298\n",
    "nombre_exposed        430\n",
    "nombre_recovered    16458\n",
    "Name: 678, dtype: int64"
   ]
  },
  {
   "cell_type": "markdown",
   "id": "ad55f520",
   "metadata": {},
   "source": [
    "nombre_infected       804\n",
    "nombre_sain          2338\n",
    "nombre_exposed        426\n",
    "nombre_recovered    16432\n",
    "Name: 679, dtype: int64"
   ]
  },
  {
   "cell_type": "markdown",
   "id": "3fca7b2c",
   "metadata": {},
   "source": [
    "nombre_infected       813\n",
    "nombre_sain          2368\n",
    "nombre_exposed        423\n",
    "nombre_recovered    16396\n",
    "Name: 680, dtype: int64"
   ]
  },
  {
   "cell_type": "markdown",
   "id": "c2317776",
   "metadata": {},
   "source": [
    "nombre_infected       845\n",
    "nombre_sain          2401\n",
    "nombre_exposed        428\n",
    "nombre_recovered    16326\n",
    "Name: 681, dtype: int64"
   ]
  },
  {
   "cell_type": "markdown",
   "id": "45f272dd",
   "metadata": {},
   "source": [
    "nombre_infected       849\n",
    "nombre_sain          2399\n",
    "nombre_exposed        446\n",
    "nombre_recovered    16306\n",
    "Name: 682, dtype: int64"
   ]
  },
  {
   "cell_type": "markdown",
   "id": "f714ac1b",
   "metadata": {},
   "source": [
    "nombre_infected       851\n",
    "nombre_sain          2414\n",
    "nombre_exposed        462\n",
    "nombre_recovered    16273\n",
    "Name: 683, dtype: int64"
   ]
  },
  {
   "cell_type": "markdown",
   "id": "576f8c9b",
   "metadata": {},
   "source": [
    "nombre_infected       880\n",
    "nombre_sain          2405\n",
    "nombre_exposed        480\n",
    "nombre_recovered    16235\n",
    "Name: 684, dtype: int64"
   ]
  },
  {
   "cell_type": "markdown",
   "id": "966254d6",
   "metadata": {},
   "source": [
    "nombre_infected       900\n",
    "nombre_sain          2446\n",
    "nombre_exposed        465\n",
    "nombre_recovered    16189\n",
    "Name: 685, dtype: int64"
   ]
  },
  {
   "cell_type": "markdown",
   "id": "71117647",
   "metadata": {},
   "source": [
    "nombre_infected       906\n",
    "nombre_sain          2429\n",
    "nombre_exposed        467\n",
    "nombre_recovered    16198\n",
    "Name: 686, dtype: int64"
   ]
  },
  {
   "cell_type": "markdown",
   "id": "437b2102",
   "metadata": {},
   "source": [
    "nombre_infected       921\n",
    "nombre_sain          2403\n",
    "nombre_exposed        485\n",
    "nombre_recovered    16191\n",
    "Name: 687, dtype: int64"
   ]
  },
  {
   "cell_type": "markdown",
   "id": "b4da0726",
   "metadata": {},
   "source": [
    "nombre_infected       927\n",
    "nombre_sain          2395\n",
    "nombre_exposed        481\n",
    "nombre_recovered    16197\n",
    "Name: 688, dtype: int64"
   ]
  },
  {
   "cell_type": "markdown",
   "id": "240fd003",
   "metadata": {},
   "source": [
    "nombre_infected       935\n",
    "nombre_sain          2362\n",
    "nombre_exposed        489\n",
    "nombre_recovered    16214\n",
    "Name: 689, dtype: int64"
   ]
  },
  {
   "cell_type": "markdown",
   "id": "c42a98a4",
   "metadata": {},
   "source": [
    "nombre_infected       949\n",
    "nombre_sain          2352\n",
    "nombre_exposed        493\n",
    "nombre_recovered    16206\n",
    "Name: 690, dtype: int64"
   ]
  },
  {
   "cell_type": "markdown",
   "id": "a9d2afdb",
   "metadata": {},
   "source": [
    "nombre_infected       981\n",
    "nombre_sain          2352\n",
    "nombre_exposed        485\n",
    "nombre_recovered    16182\n",
    "Name: 691, dtype: int64"
   ]
  },
  {
   "cell_type": "markdown",
   "id": "8efbb91b",
   "metadata": {},
   "source": [
    "nombre_infected      1005\n",
    "nombre_sain          2320\n",
    "nombre_exposed        502\n",
    "nombre_recovered    16173\n",
    "Name: 692, dtype: int64"
   ]
  },
  {
   "cell_type": "markdown",
   "id": "c8895766",
   "metadata": {},
   "source": [
    "nombre_infected       995\n",
    "nombre_sain          2281\n",
    "nombre_exposed        539\n",
    "nombre_recovered    16185\n",
    "Name: 693, dtype: int64"
   ]
  },
  {
   "cell_type": "markdown",
   "id": "80cd494f",
   "metadata": {},
   "source": [
    "nombre_infected      1021\n",
    "nombre_sain          2267\n",
    "nombre_exposed        526\n",
    "nombre_recovered    16186\n",
    "Name: 694, dtype: int64"
   ]
  },
  {
   "cell_type": "markdown",
   "id": "6bd91ba8",
   "metadata": {},
   "source": [
    "nombre_infected      1002\n",
    "nombre_sain          2261\n",
    "nombre_exposed        525\n",
    "nombre_recovered    16212\n",
    "Name: 695, dtype: int64"
   ]
  },
  {
   "cell_type": "markdown",
   "id": "991eb447",
   "metadata": {},
   "source": [
    "nombre_infected      1047\n",
    "nombre_sain          2222\n",
    "nombre_exposed        526\n",
    "nombre_recovered    16205\n",
    "Name: 696, dtype: int64"
   ]
  },
  {
   "cell_type": "markdown",
   "id": "e20d5453",
   "metadata": {},
   "source": [
    "nombre_infected      1070\n",
    "nombre_sain          2195\n",
    "nombre_exposed        542\n",
    "nombre_recovered    16193\n",
    "Name: 697, dtype: int64"
   ]
  },
  {
   "cell_type": "markdown",
   "id": "75d6dd5e",
   "metadata": {},
   "source": [
    "nombre_infected      1099\n",
    "nombre_sain          2167\n",
    "nombre_exposed        531\n",
    "nombre_recovered    16203\n",
    "Name: 698, dtype: int64"
   ]
  },
  {
   "cell_type": "markdown",
   "id": "3acf5014",
   "metadata": {},
   "source": [
    "nombre_infected      1105\n",
    "nombre_sain          2143\n",
    "nombre_exposed        568\n",
    "nombre_recovered    16184\n",
    "Name: 699, dtype: int64"
   ]
  },
  {
   "cell_type": "markdown",
   "id": "2665e95e",
   "metadata": {},
   "source": [
    "nombre_infected      1111\n",
    "nombre_sain          2121\n",
    "nombre_exposed        570\n",
    "nombre_recovered    16198\n",
    "Name: 700, dtype: int64"
   ]
  },
  {
   "cell_type": "markdown",
   "id": "097ce89e",
   "metadata": {},
   "source": [
    "nombre_infected      1118\n",
    "nombre_sain          2101\n",
    "nombre_exposed        588\n",
    "nombre_recovered    16193\n",
    "Name: 701, dtype: int64"
   ]
  },
  {
   "cell_type": "markdown",
   "id": "3aef807b",
   "metadata": {},
   "source": [
    "nombre_infected      1135\n",
    "nombre_sain          2073\n",
    "nombre_exposed        586\n",
    "nombre_recovered    16206\n",
    "Name: 702, dtype: int64"
   ]
  },
  {
   "cell_type": "markdown",
   "id": "bde3ad3b",
   "metadata": {},
   "source": [
    "nombre_infected      1149\n",
    "nombre_sain          2075\n",
    "nombre_exposed        561\n",
    "nombre_recovered    16215\n",
    "Name: 703, dtype: int64"
   ]
  },
  {
   "cell_type": "markdown",
   "id": "cbedc9ca",
   "metadata": {},
   "source": [
    "nombre_infected      1141\n",
    "nombre_sain          2044\n",
    "nombre_exposed        574\n",
    "nombre_recovered    16241\n",
    "Name: 704, dtype: int64"
   ]
  },
  {
   "cell_type": "markdown",
   "id": "577ec02c",
   "metadata": {},
   "source": [
    "nombre_infected      1140\n",
    "nombre_sain          1994\n",
    "nombre_exposed        593\n",
    "nombre_recovered    16273\n",
    "Name: 705, dtype: int64"
   ]
  },
  {
   "cell_type": "markdown",
   "id": "74d3c512",
   "metadata": {},
   "source": [
    "nombre_infected      1147\n",
    "nombre_sain          1983\n",
    "nombre_exposed        584\n",
    "nombre_recovered    16286\n",
    "Name: 706, dtype: int64"
   ]
  },
  {
   "cell_type": "markdown",
   "id": "c7be626c",
   "metadata": {},
   "source": [
    "nombre_infected      1147\n",
    "nombre_sain          1939\n",
    "nombre_exposed        588\n",
    "nombre_recovered    16326\n",
    "Name: 707, dtype: int64"
   ]
  },
  {
   "cell_type": "markdown",
   "id": "222bdf0e",
   "metadata": {},
   "source": [
    "nombre_infected      1162\n",
    "nombre_sain          1897\n",
    "nombre_exposed        584\n",
    "nombre_recovered    16357\n",
    "Name: 708, dtype: int64"
   ]
  },
  {
   "cell_type": "markdown",
   "id": "372cac36",
   "metadata": {},
   "source": [
    "nombre_infected      1170\n",
    "nombre_sain          1864\n",
    "nombre_exposed        588\n",
    "nombre_recovered    16378\n",
    "Name: 709, dtype: int64"
   ]
  },
  {
   "cell_type": "markdown",
   "id": "fabada6c",
   "metadata": {},
   "source": [
    "nombre_infected      1188\n",
    "nombre_sain          1868\n",
    "nombre_exposed        557\n",
    "nombre_recovered    16387\n",
    "Name: 710, dtype: int64"
   ]
  },
  {
   "cell_type": "markdown",
   "id": "b510c19d",
   "metadata": {},
   "source": [
    "nombre_infected      1206\n",
    "nombre_sain          1844\n",
    "nombre_exposed        550\n",
    "nombre_recovered    16400\n",
    "Name: 711, dtype: int64"
   ]
  },
  {
   "cell_type": "markdown",
   "id": "e8cbd4d5",
   "metadata": {},
   "source": [
    "nombre_infected      1196\n",
    "nombre_sain          1829\n",
    "nombre_exposed        564\n",
    "nombre_recovered    16411\n",
    "Name: 712, dtype: int64"
   ]
  },
  {
   "cell_type": "markdown",
   "id": "b9fdab46",
   "metadata": {},
   "source": [
    "nombre_infected      1193\n",
    "nombre_sain          1807\n",
    "nombre_exposed        578\n",
    "nombre_recovered    16422\n",
    "Name: 713, dtype: int64"
   ]
  },
  {
   "cell_type": "markdown",
   "id": "db77e6a7",
   "metadata": {},
   "source": [
    "nombre_infected      1177\n",
    "nombre_sain          1798\n",
    "nombre_exposed        575\n",
    "nombre_recovered    16450\n",
    "Name: 714, dtype: int64"
   ]
  },
  {
   "cell_type": "markdown",
   "id": "73b8a7a0",
   "metadata": {},
   "source": [
    "nombre_infected      1191\n",
    "nombre_sain          1811\n",
    "nombre_exposed        553\n",
    "nombre_recovered    16445\n",
    "Name: 715, dtype: int64"
   ]
  },
  {
   "cell_type": "markdown",
   "id": "1050599b",
   "metadata": {},
   "source": [
    "nombre_infected      1203\n",
    "nombre_sain          1826\n",
    "nombre_exposed        544\n",
    "nombre_recovered    16427\n",
    "Name: 716, dtype: int64"
   ]
  },
  {
   "cell_type": "markdown",
   "id": "855ed87c",
   "metadata": {},
   "source": [
    "nombre_infected      1187\n",
    "nombre_sain          1819\n",
    "nombre_exposed        522\n",
    "nombre_recovered    16472\n",
    "Name: 717, dtype: int64"
   ]
  },
  {
   "cell_type": "markdown",
   "id": "bb080789",
   "metadata": {},
   "source": [
    "nombre_infected      1178\n",
    "nombre_sain          1821\n",
    "nombre_exposed        515\n",
    "nombre_recovered    16486\n",
    "Name: 718, dtype: int64"
   ]
  },
  {
   "cell_type": "markdown",
   "id": "2ba880f2",
   "metadata": {},
   "source": [
    "nombre_infected      1148\n",
    "nombre_sain          1841\n",
    "nombre_exposed        514\n",
    "nombre_recovered    16497\n",
    "Name: 719, dtype: int64"
   ]
  },
  {
   "cell_type": "markdown",
   "id": "5e32e2d3",
   "metadata": {},
   "source": [
    "nombre_infected      1135\n",
    "nombre_sain          1864\n",
    "nombre_exposed        515\n",
    "nombre_recovered    16486\n",
    "Name: 720, dtype: int64"
   ]
  },
  {
   "cell_type": "markdown",
   "id": "9f65b40e",
   "metadata": {},
   "source": [
    "nombre_infected      1129\n",
    "nombre_sain          1871\n",
    "nombre_exposed        510\n",
    "nombre_recovered    16490\n",
    "Name: 721, dtype: int64"
   ]
  },
  {
   "cell_type": "markdown",
   "id": "2f642841",
   "metadata": {},
   "source": [
    "nombre_infected      1118\n",
    "nombre_sain          1875\n",
    "nombre_exposed        511\n",
    "nombre_recovered    16496\n",
    "Name: 722, dtype: int64"
   ]
  },
  {
   "cell_type": "markdown",
   "id": "79efdf51",
   "metadata": {},
   "source": [
    "nombre_infected      1103\n",
    "nombre_sain          1883\n",
    "nombre_exposed        502\n",
    "nombre_recovered    16512\n",
    "Name: 723, dtype: int64"
   ]
  },
  {
   "cell_type": "markdown",
   "id": "a8978281",
   "metadata": {},
   "source": [
    "nombre_infected      1079\n",
    "nombre_sain          1899\n",
    "nombre_exposed        516\n",
    "nombre_recovered    16506\n",
    "Name: 724, dtype: int64"
   ]
  },
  {
   "cell_type": "markdown",
   "id": "1ab9c29e",
   "metadata": {},
   "source": [
    "nombre_infected      1084\n",
    "nombre_sain          1941\n",
    "nombre_exposed        495\n",
    "nombre_recovered    16480\n",
    "Name: 725, dtype: int64"
   ]
  },
  {
   "cell_type": "markdown",
   "id": "159384a9",
   "metadata": {},
   "source": [
    "nombre_infected      1100\n",
    "nombre_sain          1957\n",
    "nombre_exposed        482\n",
    "nombre_recovered    16461\n",
    "Name: 726, dtype: int64"
   ]
  },
  {
   "cell_type": "markdown",
   "id": "c1eba560",
   "metadata": {},
   "source": [
    "nombre_infected      1061\n",
    "nombre_sain          1942\n",
    "nombre_exposed        519\n",
    "nombre_recovered    16478\n",
    "Name: 727, dtype: int64"
   ]
  },
  {
   "cell_type": "markdown",
   "id": "138f1f86",
   "metadata": {},
   "source": [
    "nombre_infected      1057\n",
    "nombre_sain          1957\n",
    "nombre_exposed        520\n",
    "nombre_recovered    16466\n",
    "Name: 728, dtype: int64"
   ]
  },
  {
   "cell_type": "markdown",
   "id": "f28c6e0f",
   "metadata": {},
   "source": [
    "nombre_infected      1037\n",
    "nombre_sain          1962\n",
    "nombre_exposed        520\n",
    "nombre_recovered    16481\n",
    "Name: 729, dtype: int64"
   ]
  },
  {
   "cell_type": "markdown",
   "id": "ac1efb56",
   "metadata": {},
   "source": [
    "nombre_infected      1082\n",
    "nombre_sain          1961\n",
    "nombre_exposed        485\n",
    "nombre_recovered    16472\n",
    "Name: 730, dtype: int64"
   ]
  }
 ],
 "metadata": {},
 "nbformat": 4,
 "nbformat_minor": 5
}
