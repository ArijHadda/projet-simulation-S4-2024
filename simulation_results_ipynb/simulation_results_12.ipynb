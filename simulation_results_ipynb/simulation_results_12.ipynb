{
 "cells": [
  {
   "cell_type": "markdown",
   "id": "2df0214e",
   "metadata": {},
   "source": [
    "nombre_infected        20\n",
    "nombre_sain         19980\n",
    "nombre_exposed          0\n",
    "nombre_recovered        0\n",
    "Name: 0, dtype: int64"
   ]
  },
  {
   "cell_type": "markdown",
   "id": "6b376d07",
   "metadata": {},
   "source": [
    "nombre_infected        20\n",
    "nombre_sain         19959\n",
    "nombre_exposed         21\n",
    "nombre_recovered        0\n",
    "Name: 1, dtype: int64"
   ]
  },
  {
   "cell_type": "markdown",
   "id": "7172524a",
   "metadata": {},
   "source": [
    "nombre_infected        20\n",
    "nombre_sain         19938\n",
    "nombre_exposed         42\n",
    "nombre_recovered        0\n",
    "Name: 2, dtype: int64"
   ]
  },
  {
   "cell_type": "markdown",
   "id": "cbb7e920",
   "metadata": {},
   "source": [
    "nombre_infected        29\n",
    "nombre_sain         19898\n",
    "nombre_exposed         73\n",
    "nombre_recovered        0\n",
    "Name: 3, dtype: int64"
   ]
  },
  {
   "cell_type": "markdown",
   "id": "452fd926",
   "metadata": {},
   "source": [
    "nombre_infected        36\n",
    "nombre_sain         19855\n",
    "nombre_exposed        109\n",
    "nombre_recovered        0\n",
    "Name: 4, dtype: int64"
   ]
  },
  {
   "cell_type": "markdown",
   "id": "aea8b6eb",
   "metadata": {},
   "source": [
    "nombre_infected        39\n",
    "nombre_sain         19816\n",
    "nombre_exposed        131\n",
    "nombre_recovered       14\n",
    "Name: 5, dtype: int64"
   ]
  },
  {
   "cell_type": "markdown",
   "id": "2dd34eed",
   "metadata": {},
   "source": [
    "nombre_infected        61\n",
    "nombre_sain         19759\n",
    "nombre_exposed        163\n",
    "nombre_recovered       17\n",
    "Name: 6, dtype: int64"
   ]
  },
  {
   "cell_type": "markdown",
   "id": "1c0ee09b",
   "metadata": {},
   "source": [
    "nombre_infected        85\n",
    "nombre_sain         19665\n",
    "nombre_exposed        229\n",
    "nombre_recovered       21\n",
    "Name: 7, dtype: int64"
   ]
  },
  {
   "cell_type": "markdown",
   "id": "562161ee",
   "metadata": {},
   "source": [
    "nombre_infected       107\n",
    "nombre_sain         19529\n",
    "nombre_exposed        334\n",
    "nombre_recovered       30\n",
    "Name: 8, dtype: int64"
   ]
  },
  {
   "cell_type": "markdown",
   "id": "1cd9082a",
   "metadata": {},
   "source": [
    "nombre_infected       156\n",
    "nombre_sain         19368\n",
    "nombre_exposed        431\n",
    "nombre_recovered       45\n",
    "Name: 9, dtype: int64"
   ]
  },
  {
   "cell_type": "markdown",
   "id": "bb533666",
   "metadata": {},
   "source": [
    "nombre_infected       215\n",
    "nombre_sain         19141\n",
    "nombre_exposed        583\n",
    "nombre_recovered       61\n",
    "Name: 10, dtype: int64"
   ]
  },
  {
   "cell_type": "markdown",
   "id": "fc0e808a",
   "metadata": {},
   "source": [
    "nombre_infected       283\n",
    "nombre_sain         18837\n",
    "nombre_exposed        797\n",
    "nombre_recovered       83\n",
    "Name: 11, dtype: int64"
   ]
  },
  {
   "cell_type": "markdown",
   "id": "11955843",
   "metadata": {},
   "source": [
    "nombre_infected       399\n",
    "nombre_sain         18398\n",
    "nombre_exposed       1086\n",
    "nombre_recovered      117\n",
    "Name: 12, dtype: int64"
   ]
  },
  {
   "cell_type": "markdown",
   "id": "3235dfac",
   "metadata": {},
   "source": [
    "nombre_infected       538\n",
    "nombre_sain         17876\n",
    "nombre_exposed       1425\n",
    "nombre_recovered      161\n",
    "Name: 13, dtype: int64"
   ]
  },
  {
   "cell_type": "markdown",
   "id": "85e06796",
   "metadata": {},
   "source": [
    "nombre_infected       721\n",
    "nombre_sain         17175\n",
    "nombre_exposed       1896\n",
    "nombre_recovered      208\n",
    "Name: 14, dtype: int64"
   ]
  },
  {
   "cell_type": "markdown",
   "id": "93e49f0c",
   "metadata": {},
   "source": [
    "nombre_infected       969\n",
    "nombre_sain         16367\n",
    "nombre_exposed       2383\n",
    "nombre_recovered      281\n",
    "Name: 15, dtype: int64"
   ]
  },
  {
   "cell_type": "markdown",
   "id": "3d2d6f6f",
   "metadata": {},
   "source": [
    "nombre_infected      1306\n",
    "nombre_sain         15320\n",
    "nombre_exposed       2991\n",
    "nombre_recovered      383\n",
    "Name: 16, dtype: int64"
   ]
  },
  {
   "cell_type": "markdown",
   "id": "d79a0fa1",
   "metadata": {},
   "source": [
    "nombre_infected      1658\n",
    "nombre_sain         14020\n",
    "nombre_exposed       3796\n",
    "nombre_recovered      526\n",
    "Name: 17, dtype: int64"
   ]
  },
  {
   "cell_type": "markdown",
   "id": "3519de3d",
   "metadata": {},
   "source": [
    "nombre_infected      2156\n",
    "nombre_sain         12569\n",
    "nombre_exposed       4558\n",
    "nombre_recovered      717\n",
    "Name: 18, dtype: int64"
   ]
  },
  {
   "cell_type": "markdown",
   "id": "a03574ab",
   "metadata": {},
   "source": [
    "nombre_infected      2761\n",
    "nombre_sain         10966\n",
    "nombre_exposed       5291\n",
    "nombre_recovered      982\n",
    "Name: 19, dtype: int64"
   ]
  },
  {
   "cell_type": "markdown",
   "id": "897a7971",
   "metadata": {},
   "source": [
    "nombre_infected     3508\n",
    "nombre_sain         9212\n",
    "nombre_exposed      6010\n",
    "nombre_recovered    1270\n",
    "Name: 20, dtype: int64"
   ]
  },
  {
   "cell_type": "markdown",
   "id": "a497833c",
   "metadata": {},
   "source": [
    "nombre_infected     4237\n",
    "nombre_sain         7504\n",
    "nombre_exposed      6591\n",
    "nombre_recovered    1668\n",
    "Name: 21, dtype: int64"
   ]
  },
  {
   "cell_type": "markdown",
   "id": "02ebc098",
   "metadata": {},
   "source": [
    "nombre_infected     5119\n",
    "nombre_sain         5924\n",
    "nombre_exposed      6820\n",
    "nombre_recovered    2137\n",
    "Name: 22, dtype: int64"
   ]
  },
  {
   "cell_type": "markdown",
   "id": "c77508f5",
   "metadata": {},
   "source": [
    "nombre_infected     5930\n",
    "nombre_sain         4500\n",
    "nombre_exposed      6846\n",
    "nombre_recovered    2724\n",
    "Name: 23, dtype: int64"
   ]
  },
  {
   "cell_type": "markdown",
   "id": "ab34c69d",
   "metadata": {},
   "source": [
    "nombre_infected     6662\n",
    "nombre_sain         3326\n",
    "nombre_exposed      6569\n",
    "nombre_recovered    3443\n",
    "Name: 24, dtype: int64"
   ]
  },
  {
   "cell_type": "markdown",
   "id": "b1486c1f",
   "metadata": {},
   "source": [
    "nombre_infected     7313\n",
    "nombre_sain         2438\n",
    "nombre_exposed      6051\n",
    "nombre_recovered    4198\n",
    "Name: 25, dtype: int64"
   ]
  },
  {
   "cell_type": "markdown",
   "id": "a5735508",
   "metadata": {},
   "source": [
    "nombre_infected     7798\n",
    "nombre_sain         1728\n",
    "nombre_exposed      5396\n",
    "nombre_recovered    5078\n",
    "Name: 26, dtype: int64"
   ]
  },
  {
   "cell_type": "markdown",
   "id": "7741e98b",
   "metadata": {},
   "source": [
    "nombre_infected     8064\n",
    "nombre_sain         1176\n",
    "nombre_exposed      4754\n",
    "nombre_recovered    6006\n",
    "Name: 27, dtype: int64"
   ]
  },
  {
   "cell_type": "markdown",
   "id": "3de8bcec",
   "metadata": {},
   "source": [
    "nombre_infected     8088\n",
    "nombre_sain          860\n",
    "nombre_exposed      4041\n",
    "nombre_recovered    7011\n",
    "Name: 28, dtype: int64"
   ]
  },
  {
   "cell_type": "markdown",
   "id": "90fae3c5",
   "metadata": {},
   "source": [
    "nombre_infected     8082\n",
    "nombre_sain          586\n",
    "nombre_exposed      3344\n",
    "nombre_recovered    7988\n",
    "Name: 29, dtype: int64"
   ]
  },
  {
   "cell_type": "markdown",
   "id": "0adb24cc",
   "metadata": {},
   "source": [
    "nombre_infected     7910\n",
    "nombre_sain          425\n",
    "nombre_exposed      2704\n",
    "nombre_recovered    8961\n",
    "Name: 30, dtype: int64"
   ]
  },
  {
   "cell_type": "markdown",
   "id": "ac353859",
   "metadata": {},
   "source": [
    "nombre_infected     7553\n",
    "nombre_sain          298\n",
    "nombre_exposed      2211\n",
    "nombre_recovered    9938\n",
    "Name: 31, dtype: int64"
   ]
  },
  {
   "cell_type": "markdown",
   "id": "c23e0074",
   "metadata": {},
   "source": [
    "nombre_infected      7163\n",
    "nombre_sain           243\n",
    "nombre_exposed       1755\n",
    "nombre_recovered    10839\n",
    "Name: 32, dtype: int64"
   ]
  },
  {
   "cell_type": "markdown",
   "id": "452316bb",
   "metadata": {},
   "source": [
    "nombre_infected      6679\n",
    "nombre_sain           206\n",
    "nombre_exposed       1374\n",
    "nombre_recovered    11741\n",
    "Name: 33, dtype: int64"
   ]
  },
  {
   "cell_type": "markdown",
   "id": "2d3c751b",
   "metadata": {},
   "source": [
    "nombre_infected      6206\n",
    "nombre_sain           178\n",
    "nombre_exposed       1060\n",
    "nombre_recovered    12556\n",
    "Name: 34, dtype: int64"
   ]
  },
  {
   "cell_type": "markdown",
   "id": "101ceaf9",
   "metadata": {},
   "source": [
    "nombre_infected      5708\n",
    "nombre_sain           170\n",
    "nombre_exposed        838\n",
    "nombre_recovered    13284\n",
    "Name: 35, dtype: int64"
   ]
  },
  {
   "cell_type": "markdown",
   "id": "7e039f2c",
   "metadata": {},
   "source": [
    "nombre_infected      5175\n",
    "nombre_sain           162\n",
    "nombre_exposed        691\n",
    "nombre_recovered    13972\n",
    "Name: 36, dtype: int64"
   ]
  },
  {
   "cell_type": "markdown",
   "id": "6624be41",
   "metadata": {},
   "source": [
    "nombre_infected      4698\n",
    "nombre_sain           163\n",
    "nombre_exposed        535\n",
    "nombre_recovered    14604\n",
    "Name: 37, dtype: int64"
   ]
  },
  {
   "cell_type": "markdown",
   "id": "c6d1537c",
   "metadata": {},
   "source": [
    "nombre_infected      4303\n",
    "nombre_sain           152\n",
    "nombre_exposed        436\n",
    "nombre_recovered    15109\n",
    "Name: 38, dtype: int64"
   ]
  },
  {
   "cell_type": "markdown",
   "id": "c1aa4416",
   "metadata": {},
   "source": [
    "nombre_infected      3902\n",
    "nombre_sain           160\n",
    "nombre_exposed        340\n",
    "nombre_recovered    15598\n",
    "Name: 39, dtype: int64"
   ]
  },
  {
   "cell_type": "markdown",
   "id": "82730fc6",
   "metadata": {},
   "source": [
    "nombre_infected      3522\n",
    "nombre_sain           160\n",
    "nombre_exposed        269\n",
    "nombre_recovered    16049\n",
    "Name: 40, dtype: int64"
   ]
  },
  {
   "cell_type": "markdown",
   "id": "ae4d680e",
   "metadata": {},
   "source": [
    "nombre_infected      3147\n",
    "nombre_sain           162\n",
    "nombre_exposed        214\n",
    "nombre_recovered    16477\n",
    "Name: 41, dtype: int64"
   ]
  },
  {
   "cell_type": "markdown",
   "id": "49e78860",
   "metadata": {},
   "source": [
    "nombre_infected      2830\n",
    "nombre_sain           162\n",
    "nombre_exposed        176\n",
    "nombre_recovered    16832\n",
    "Name: 42, dtype: int64"
   ]
  },
  {
   "cell_type": "markdown",
   "id": "4f74682d",
   "metadata": {},
   "source": [
    "nombre_infected      2512\n",
    "nombre_sain           179\n",
    "nombre_exposed        139\n",
    "nombre_recovered    17170\n",
    "Name: 43, dtype: int64"
   ]
  },
  {
   "cell_type": "markdown",
   "id": "5a2b6789",
   "metadata": {},
   "source": [
    "nombre_infected      2226\n",
    "nombre_sain           186\n",
    "nombre_exposed        112\n",
    "nombre_recovered    17476\n",
    "Name: 44, dtype: int64"
   ]
  },
  {
   "cell_type": "markdown",
   "id": "efd8d241",
   "metadata": {},
   "source": [
    "nombre_infected      1981\n",
    "nombre_sain           206\n",
    "nombre_exposed         94\n",
    "nombre_recovered    17719\n",
    "Name: 45, dtype: int64"
   ]
  },
  {
   "cell_type": "markdown",
   "id": "91a59644",
   "metadata": {},
   "source": [
    "nombre_infected      1762\n",
    "nombre_sain           227\n",
    "nombre_exposed         93\n",
    "nombre_recovered    17918\n",
    "Name: 46, dtype: int64"
   ]
  },
  {
   "cell_type": "markdown",
   "id": "aecff129",
   "metadata": {},
   "source": [
    "nombre_infected      1565\n",
    "nombre_sain           245\n",
    "nombre_exposed         93\n",
    "nombre_recovered    18097\n",
    "Name: 47, dtype: int64"
   ]
  },
  {
   "cell_type": "markdown",
   "id": "874fb7b1",
   "metadata": {},
   "source": [
    "nombre_infected      1412\n",
    "nombre_sain           287\n",
    "nombre_exposed         85\n",
    "nombre_recovered    18216\n",
    "Name: 48, dtype: int64"
   ]
  },
  {
   "cell_type": "markdown",
   "id": "90a5340e",
   "metadata": {},
   "source": [
    "nombre_infected      1251\n",
    "nombre_sain           319\n",
    "nombre_exposed         81\n",
    "nombre_recovered    18349\n",
    "Name: 49, dtype: int64"
   ]
  },
  {
   "cell_type": "markdown",
   "id": "8a7b5e42",
   "metadata": {},
   "source": [
    "nombre_infected      1112\n",
    "nombre_sain           353\n",
    "nombre_exposed         81\n",
    "nombre_recovered    18454\n",
    "Name: 50, dtype: int64"
   ]
  },
  {
   "cell_type": "markdown",
   "id": "1a33b82e",
   "metadata": {},
   "source": [
    "nombre_infected      1006\n",
    "nombre_sain           387\n",
    "nombre_exposed         80\n",
    "nombre_recovered    18527\n",
    "Name: 51, dtype: int64"
   ]
  },
  {
   "cell_type": "markdown",
   "id": "627a0733",
   "metadata": {},
   "source": [
    "nombre_infected       889\n",
    "nombre_sain           429\n",
    "nombre_exposed         82\n",
    "nombre_recovered    18600\n",
    "Name: 52, dtype: int64"
   ]
  },
  {
   "cell_type": "markdown",
   "id": "931848d8",
   "metadata": {},
   "source": [
    "nombre_infected       812\n",
    "nombre_sain           464\n",
    "nombre_exposed         79\n",
    "nombre_recovered    18645\n",
    "Name: 53, dtype: int64"
   ]
  },
  {
   "cell_type": "markdown",
   "id": "c1045733",
   "metadata": {},
   "source": [
    "nombre_infected       721\n",
    "nombre_sain           520\n",
    "nombre_exposed         76\n",
    "nombre_recovered    18683\n",
    "Name: 54, dtype: int64"
   ]
  },
  {
   "cell_type": "markdown",
   "id": "9a8e6a50",
   "metadata": {},
   "source": [
    "nombre_infected       637\n",
    "nombre_sain           603\n",
    "nombre_exposed         76\n",
    "nombre_recovered    18684\n",
    "Name: 55, dtype: int64"
   ]
  },
  {
   "cell_type": "markdown",
   "id": "d17f98f8",
   "metadata": {},
   "source": [
    "nombre_infected       572\n",
    "nombre_sain           657\n",
    "nombre_exposed         77\n",
    "nombre_recovered    18694\n",
    "Name: 56, dtype: int64"
   ]
  },
  {
   "cell_type": "markdown",
   "id": "e9dc95e9",
   "metadata": {},
   "source": [
    "nombre_infected       520\n",
    "nombre_sain           725\n",
    "nombre_exposed         78\n",
    "nombre_recovered    18677\n",
    "Name: 57, dtype: int64"
   ]
  },
  {
   "cell_type": "markdown",
   "id": "d26417c7",
   "metadata": {},
   "source": [
    "nombre_infected       470\n",
    "nombre_sain           779\n",
    "nombre_exposed         81\n",
    "nombre_recovered    18670\n",
    "Name: 58, dtype: int64"
   ]
  },
  {
   "cell_type": "markdown",
   "id": "44adf7df",
   "metadata": {},
   "source": [
    "nombre_infected       427\n",
    "nombre_sain           827\n",
    "nombre_exposed         88\n",
    "nombre_recovered    18658\n",
    "Name: 59, dtype: int64"
   ]
  },
  {
   "cell_type": "markdown",
   "id": "662d730d",
   "metadata": {},
   "source": [
    "nombre_infected       402\n",
    "nombre_sain           871\n",
    "nombre_exposed         86\n",
    "nombre_recovered    18641\n",
    "Name: 60, dtype: int64"
   ]
  },
  {
   "cell_type": "markdown",
   "id": "b5900be4",
   "metadata": {},
   "source": [
    "nombre_infected       371\n",
    "nombre_sain           925\n",
    "nombre_exposed         83\n",
    "nombre_recovered    18621\n",
    "Name: 61, dtype: int64"
   ]
  },
  {
   "cell_type": "markdown",
   "id": "52cefb5f",
   "metadata": {},
   "source": [
    "nombre_infected       365\n",
    "nombre_sain           994\n",
    "nombre_exposed         72\n",
    "nombre_recovered    18569\n",
    "Name: 62, dtype: int64"
   ]
  },
  {
   "cell_type": "markdown",
   "id": "48657e56",
   "metadata": {},
   "source": [
    "nombre_infected       351\n",
    "nombre_sain          1049\n",
    "nombre_exposed         80\n",
    "nombre_recovered    18520\n",
    "Name: 63, dtype: int64"
   ]
  },
  {
   "cell_type": "markdown",
   "id": "de437574",
   "metadata": {},
   "source": [
    "nombre_infected       325\n",
    "nombre_sain          1128\n",
    "nombre_exposed         83\n",
    "nombre_recovered    18464\n",
    "Name: 64, dtype: int64"
   ]
  },
  {
   "cell_type": "markdown",
   "id": "d2e08003",
   "metadata": {},
   "source": [
    "nombre_infected       309\n",
    "nombre_sain          1175\n",
    "nombre_exposed         81\n",
    "nombre_recovered    18435\n",
    "Name: 65, dtype: int64"
   ]
  },
  {
   "cell_type": "markdown",
   "id": "ad2aebd7",
   "metadata": {},
   "source": [
    "nombre_infected       281\n",
    "nombre_sain          1241\n",
    "nombre_exposed         84\n",
    "nombre_recovered    18394\n",
    "Name: 66, dtype: int64"
   ]
  },
  {
   "cell_type": "markdown",
   "id": "cf3c2ff0",
   "metadata": {},
   "source": [
    "nombre_infected       265\n",
    "nombre_sain          1311\n",
    "nombre_exposed         70\n",
    "nombre_recovered    18354\n",
    "Name: 67, dtype: int64"
   ]
  },
  {
   "cell_type": "markdown",
   "id": "a789aabe",
   "metadata": {},
   "source": [
    "nombre_infected       250\n",
    "nombre_sain          1369\n",
    "nombre_exposed         70\n",
    "nombre_recovered    18311\n",
    "Name: 68, dtype: int64"
   ]
  },
  {
   "cell_type": "markdown",
   "id": "56afa518",
   "metadata": {},
   "source": [
    "nombre_infected       230\n",
    "nombre_sain          1399\n",
    "nombre_exposed         77\n",
    "nombre_recovered    18294\n",
    "Name: 69, dtype: int64"
   ]
  },
  {
   "cell_type": "markdown",
   "id": "9b2b95d1",
   "metadata": {},
   "source": [
    "nombre_infected       213\n",
    "nombre_sain          1450\n",
    "nombre_exposed         82\n",
    "nombre_recovered    18255\n",
    "Name: 70, dtype: int64"
   ]
  },
  {
   "cell_type": "markdown",
   "id": "69dae957",
   "metadata": {},
   "source": [
    "nombre_infected       204\n",
    "nombre_sain          1525\n",
    "nombre_exposed         77\n",
    "nombre_recovered    18194\n",
    "Name: 71, dtype: int64"
   ]
  },
  {
   "cell_type": "markdown",
   "id": "b225f934",
   "metadata": {},
   "source": [
    "nombre_infected       197\n",
    "nombre_sain          1569\n",
    "nombre_exposed         82\n",
    "nombre_recovered    18152\n",
    "Name: 72, dtype: int64"
   ]
  },
  {
   "cell_type": "markdown",
   "id": "bdac7425",
   "metadata": {},
   "source": [
    "nombre_infected       194\n",
    "nombre_sain          1628\n",
    "nombre_exposed         78\n",
    "nombre_recovered    18100\n",
    "Name: 73, dtype: int64"
   ]
  },
  {
   "cell_type": "markdown",
   "id": "c92c02d9",
   "metadata": {},
   "source": [
    "nombre_infected       195\n",
    "nombre_sain          1693\n",
    "nombre_exposed         67\n",
    "nombre_recovered    18045\n",
    "Name: 74, dtype: int64"
   ]
  },
  {
   "cell_type": "markdown",
   "id": "87d7e5af",
   "metadata": {},
   "source": [
    "nombre_infected       188\n",
    "nombre_sain          1766\n",
    "nombre_exposed         68\n",
    "nombre_recovered    17978\n",
    "Name: 75, dtype: int64"
   ]
  },
  {
   "cell_type": "markdown",
   "id": "8f157034",
   "metadata": {},
   "source": [
    "nombre_infected       179\n",
    "nombre_sain          1824\n",
    "nombre_exposed         71\n",
    "nombre_recovered    17926\n",
    "Name: 76, dtype: int64"
   ]
  },
  {
   "cell_type": "markdown",
   "id": "36b99272",
   "metadata": {},
   "source": [
    "nombre_infected       167\n",
    "nombre_sain          1890\n",
    "nombre_exposed         75\n",
    "nombre_recovered    17868\n",
    "Name: 77, dtype: int64"
   ]
  },
  {
   "cell_type": "markdown",
   "id": "18ac5d84",
   "metadata": {},
   "source": [
    "nombre_infected       160\n",
    "nombre_sain          1958\n",
    "nombre_exposed         70\n",
    "nombre_recovered    17812\n",
    "Name: 78, dtype: int64"
   ]
  },
  {
   "cell_type": "markdown",
   "id": "7a13892a",
   "metadata": {},
   "source": [
    "nombre_infected       156\n",
    "nombre_sain          2018\n",
    "nombre_exposed         71\n",
    "nombre_recovered    17755\n",
    "Name: 79, dtype: int64"
   ]
  },
  {
   "cell_type": "markdown",
   "id": "871225d6",
   "metadata": {},
   "source": [
    "nombre_infected       159\n",
    "nombre_sain          2080\n",
    "nombre_exposed         73\n",
    "nombre_recovered    17688\n",
    "Name: 80, dtype: int64"
   ]
  },
  {
   "cell_type": "markdown",
   "id": "42a69985",
   "metadata": {},
   "source": [
    "nombre_infected       162\n",
    "nombre_sain          2130\n",
    "nombre_exposed         69\n",
    "nombre_recovered    17639\n",
    "Name: 81, dtype: int64"
   ]
  },
  {
   "cell_type": "markdown",
   "id": "76c8b0c1",
   "metadata": {},
   "source": [
    "nombre_infected       159\n",
    "nombre_sain          2157\n",
    "nombre_exposed         86\n",
    "nombre_recovered    17598\n",
    "Name: 82, dtype: int64"
   ]
  },
  {
   "cell_type": "markdown",
   "id": "1f1f5e79",
   "metadata": {},
   "source": [
    "nombre_infected       160\n",
    "nombre_sain          2200\n",
    "nombre_exposed         81\n",
    "nombre_recovered    17559\n",
    "Name: 83, dtype: int64"
   ]
  },
  {
   "cell_type": "markdown",
   "id": "524f4607",
   "metadata": {},
   "source": [
    "nombre_infected       169\n",
    "nombre_sain          2240\n",
    "nombre_exposed         82\n",
    "nombre_recovered    17509\n",
    "Name: 84, dtype: int64"
   ]
  },
  {
   "cell_type": "markdown",
   "id": "b2d3e43d",
   "metadata": {},
   "source": [
    "nombre_infected       166\n",
    "nombre_sain          2274\n",
    "nombre_exposed         90\n",
    "nombre_recovered    17470\n",
    "Name: 85, dtype: int64"
   ]
  },
  {
   "cell_type": "markdown",
   "id": "448cb6f8",
   "metadata": {},
   "source": [
    "nombre_infected       159\n",
    "nombre_sain          2323\n",
    "nombre_exposed         93\n",
    "nombre_recovered    17425\n",
    "Name: 86, dtype: int64"
   ]
  },
  {
   "cell_type": "markdown",
   "id": "f91763de",
   "metadata": {},
   "source": [
    "nombre_infected       169\n",
    "nombre_sain          2364\n",
    "nombre_exposed         86\n",
    "nombre_recovered    17381\n",
    "Name: 87, dtype: int64"
   ]
  },
  {
   "cell_type": "markdown",
   "id": "f7113c63",
   "metadata": {},
   "source": [
    "nombre_infected       173\n",
    "nombre_sain          2408\n",
    "nombre_exposed         90\n",
    "nombre_recovered    17329\n",
    "Name: 88, dtype: int64"
   ]
  },
  {
   "cell_type": "markdown",
   "id": "31e8f3a9",
   "metadata": {},
   "source": [
    "nombre_infected       166\n",
    "nombre_sain          2462\n",
    "nombre_exposed         83\n",
    "nombre_recovered    17289\n",
    "Name: 89, dtype: int64"
   ]
  },
  {
   "cell_type": "markdown",
   "id": "42207512",
   "metadata": {},
   "source": [
    "nombre_infected       176\n",
    "nombre_sain          2514\n",
    "nombre_exposed         85\n",
    "nombre_recovered    17225\n",
    "Name: 90, dtype: int64"
   ]
  },
  {
   "cell_type": "markdown",
   "id": "ff9c7a87",
   "metadata": {},
   "source": [
    "nombre_infected       174\n",
    "nombre_sain          2543\n",
    "nombre_exposed        104\n",
    "nombre_recovered    17179\n",
    "Name: 91, dtype: int64"
   ]
  },
  {
   "cell_type": "markdown",
   "id": "dde3c371",
   "metadata": {},
   "source": [
    "nombre_infected       171\n",
    "nombre_sain          2605\n",
    "nombre_exposed        106\n",
    "nombre_recovered    17118\n",
    "Name: 92, dtype: int64"
   ]
  },
  {
   "cell_type": "markdown",
   "id": "f2fbc42f",
   "metadata": {},
   "source": [
    "nombre_infected       176\n",
    "nombre_sain          2667\n",
    "nombre_exposed        106\n",
    "nombre_recovered    17051\n",
    "Name: 93, dtype: int64"
   ]
  },
  {
   "cell_type": "markdown",
   "id": "cb8c6bfa",
   "metadata": {},
   "source": [
    "nombre_infected       183\n",
    "nombre_sain          2736\n",
    "nombre_exposed        107\n",
    "nombre_recovered    16974\n",
    "Name: 94, dtype: int64"
   ]
  },
  {
   "cell_type": "markdown",
   "id": "a1a73f5b",
   "metadata": {},
   "source": [
    "nombre_infected       185\n",
    "nombre_sain          2802\n",
    "nombre_exposed        118\n",
    "nombre_recovered    16895\n",
    "Name: 95, dtype: int64"
   ]
  },
  {
   "cell_type": "markdown",
   "id": "f186d8d6",
   "metadata": {},
   "source": [
    "nombre_infected       180\n",
    "nombre_sain          2875\n",
    "nombre_exposed        134\n",
    "nombre_recovered    16811\n",
    "Name: 96, dtype: int64"
   ]
  },
  {
   "cell_type": "markdown",
   "id": "f542d867",
   "metadata": {},
   "source": [
    "nombre_infected       198\n",
    "nombre_sain          2958\n",
    "nombre_exposed        135\n",
    "nombre_recovered    16709\n",
    "Name: 97, dtype: int64"
   ]
  },
  {
   "cell_type": "markdown",
   "id": "58a2f65b",
   "metadata": {},
   "source": [
    "nombre_infected       220\n",
    "nombre_sain          3028\n",
    "nombre_exposed        126\n",
    "nombre_recovered    16626\n",
    "Name: 98, dtype: int64"
   ]
  },
  {
   "cell_type": "markdown",
   "id": "9bb72754",
   "metadata": {},
   "source": [
    "nombre_infected       223\n",
    "nombre_sain          3092\n",
    "nombre_exposed        146\n",
    "nombre_recovered    16539\n",
    "Name: 99, dtype: int64"
   ]
  },
  {
   "cell_type": "markdown",
   "id": "c4ab78b3",
   "metadata": {},
   "source": [
    "nombre_infected       239\n",
    "nombre_sain          3178\n",
    "nombre_exposed        149\n",
    "nombre_recovered    16434\n",
    "Name: 100, dtype: int64"
   ]
  },
  {
   "cell_type": "markdown",
   "id": "075e59dd",
   "metadata": {},
   "source": [
    "nombre_infected       252\n",
    "nombre_sain          3224\n",
    "nombre_exposed        152\n",
    "nombre_recovered    16372\n",
    "Name: 101, dtype: int64"
   ]
  },
  {
   "cell_type": "markdown",
   "id": "fdd7beb7",
   "metadata": {},
   "source": [
    "nombre_infected       261\n",
    "nombre_sain          3271\n",
    "nombre_exposed        159\n",
    "nombre_recovered    16309\n",
    "Name: 102, dtype: int64"
   ]
  },
  {
   "cell_type": "markdown",
   "id": "53d334f0",
   "metadata": {},
   "source": [
    "nombre_infected       276\n",
    "nombre_sain          3329\n",
    "nombre_exposed        173\n",
    "nombre_recovered    16222\n",
    "Name: 103, dtype: int64"
   ]
  },
  {
   "cell_type": "markdown",
   "id": "dcf8332f",
   "metadata": {},
   "source": [
    "nombre_infected       278\n",
    "nombre_sain          3359\n",
    "nombre_exposed        188\n",
    "nombre_recovered    16175\n",
    "Name: 104, dtype: int64"
   ]
  },
  {
   "cell_type": "markdown",
   "id": "dc7c7e02",
   "metadata": {},
   "source": [
    "nombre_infected       290\n",
    "nombre_sain          3376\n",
    "nombre_exposed        201\n",
    "nombre_recovered    16133\n",
    "Name: 105, dtype: int64"
   ]
  },
  {
   "cell_type": "markdown",
   "id": "8907d64f",
   "metadata": {},
   "source": [
    "nombre_infected       300\n",
    "nombre_sain          3392\n",
    "nombre_exposed        221\n",
    "nombre_recovered    16087\n",
    "Name: 106, dtype: int64"
   ]
  },
  {
   "cell_type": "markdown",
   "id": "f8ffa652",
   "metadata": {},
   "source": [
    "nombre_infected       339\n",
    "nombre_sain          3421\n",
    "nombre_exposed        216\n",
    "nombre_recovered    16024\n",
    "Name: 107, dtype: int64"
   ]
  },
  {
   "cell_type": "markdown",
   "id": "b6b5143b",
   "metadata": {},
   "source": [
    "nombre_infected       340\n",
    "nombre_sain          3420\n",
    "nombre_exposed        253\n",
    "nombre_recovered    15987\n",
    "Name: 108, dtype: int64"
   ]
  },
  {
   "cell_type": "markdown",
   "id": "9fbbbd3f",
   "metadata": {},
   "source": [
    "nombre_infected       351\n",
    "nombre_sain          3404\n",
    "nombre_exposed        276\n",
    "nombre_recovered    15969\n",
    "Name: 109, dtype: int64"
   ]
  },
  {
   "cell_type": "markdown",
   "id": "69cdae1f",
   "metadata": {},
   "source": [
    "nombre_infected       365\n",
    "nombre_sain          3413\n",
    "nombre_exposed        295\n",
    "nombre_recovered    15927\n",
    "Name: 110, dtype: int64"
   ]
  },
  {
   "cell_type": "markdown",
   "id": "593c39a4",
   "metadata": {},
   "source": [
    "nombre_infected       387\n",
    "nombre_sain          3395\n",
    "nombre_exposed        303\n",
    "nombre_recovered    15915\n",
    "Name: 111, dtype: int64"
   ]
  },
  {
   "cell_type": "markdown",
   "id": "37ef17ad",
   "metadata": {},
   "source": [
    "nombre_infected       418\n",
    "nombre_sain          3374\n",
    "nombre_exposed        317\n",
    "nombre_recovered    15891\n",
    "Name: 112, dtype: int64"
   ]
  },
  {
   "cell_type": "markdown",
   "id": "df6dcf0d",
   "metadata": {},
   "source": [
    "nombre_infected       431\n",
    "nombre_sain          3356\n",
    "nombre_exposed        340\n",
    "nombre_recovered    15873\n",
    "Name: 113, dtype: int64"
   ]
  },
  {
   "cell_type": "markdown",
   "id": "a15bf135",
   "metadata": {},
   "source": [
    "nombre_infected       459\n",
    "nombre_sain          3341\n",
    "nombre_exposed        355\n",
    "nombre_recovered    15845\n",
    "Name: 114, dtype: int64"
   ]
  },
  {
   "cell_type": "markdown",
   "id": "869ed778",
   "metadata": {},
   "source": [
    "nombre_infected       489\n",
    "nombre_sain          3314\n",
    "nombre_exposed        365\n",
    "nombre_recovered    15832\n",
    "Name: 115, dtype: int64"
   ]
  },
  {
   "cell_type": "markdown",
   "id": "3907cf19",
   "metadata": {},
   "source": [
    "nombre_infected       518\n",
    "nombre_sain          3298\n",
    "nombre_exposed        380\n",
    "nombre_recovered    15804\n",
    "Name: 116, dtype: int64"
   ]
  },
  {
   "cell_type": "markdown",
   "id": "4d10cbe4",
   "metadata": {},
   "source": [
    "nombre_infected       555\n",
    "nombre_sain          3260\n",
    "nombre_exposed        405\n",
    "nombre_recovered    15780\n",
    "Name: 117, dtype: int64"
   ]
  },
  {
   "cell_type": "markdown",
   "id": "34e00f8a",
   "metadata": {},
   "source": [
    "nombre_infected       600\n",
    "nombre_sain          3201\n",
    "nombre_exposed        419\n",
    "nombre_recovered    15780\n",
    "Name: 118, dtype: int64"
   ]
  },
  {
   "cell_type": "markdown",
   "id": "1d16d4ec",
   "metadata": {},
   "source": [
    "nombre_infected       634\n",
    "nombre_sain          3145\n",
    "nombre_exposed        444\n",
    "nombre_recovered    15777\n",
    "Name: 119, dtype: int64"
   ]
  },
  {
   "cell_type": "markdown",
   "id": "020bc589",
   "metadata": {},
   "source": [
    "nombre_infected       640\n",
    "nombre_sain          3098\n",
    "nombre_exposed        458\n",
    "nombre_recovered    15804\n",
    "Name: 120, dtype: int64"
   ]
  },
  {
   "cell_type": "markdown",
   "id": "a1152f34",
   "metadata": {},
   "source": [
    "nombre_infected       675\n",
    "nombre_sain          3012\n",
    "nombre_exposed        478\n",
    "nombre_recovered    15835\n",
    "Name: 121, dtype: int64"
   ]
  },
  {
   "cell_type": "markdown",
   "id": "37ef685a",
   "metadata": {},
   "source": [
    "nombre_infected       708\n",
    "nombre_sain          2960\n",
    "nombre_exposed        493\n",
    "nombre_recovered    15839\n",
    "Name: 122, dtype: int64"
   ]
  },
  {
   "cell_type": "markdown",
   "id": "792a8bdf",
   "metadata": {},
   "source": [
    "nombre_infected       754\n",
    "nombre_sain          2891\n",
    "nombre_exposed        498\n",
    "nombre_recovered    15857\n",
    "Name: 123, dtype: int64"
   ]
  },
  {
   "cell_type": "markdown",
   "id": "fc7cf556",
   "metadata": {},
   "source": [
    "nombre_infected       785\n",
    "nombre_sain          2787\n",
    "nombre_exposed        520\n",
    "nombre_recovered    15908\n",
    "Name: 124, dtype: int64"
   ]
  },
  {
   "cell_type": "markdown",
   "id": "fc86f4ce",
   "metadata": {},
   "source": [
    "nombre_infected       824\n",
    "nombre_sain          2707\n",
    "nombre_exposed        516\n",
    "nombre_recovered    15953\n",
    "Name: 125, dtype: int64"
   ]
  },
  {
   "cell_type": "markdown",
   "id": "503c9624",
   "metadata": {},
   "source": [
    "nombre_infected       845\n",
    "nombre_sain          2600\n",
    "nombre_exposed        532\n",
    "nombre_recovered    16023\n",
    "Name: 126, dtype: int64"
   ]
  },
  {
   "cell_type": "markdown",
   "id": "0589f738",
   "metadata": {},
   "source": [
    "nombre_infected       857\n",
    "nombre_sain          2490\n",
    "nombre_exposed        557\n",
    "nombre_recovered    16096\n",
    "Name: 127, dtype: int64"
   ]
  },
  {
   "cell_type": "markdown",
   "id": "e0b2c422",
   "metadata": {},
   "source": [
    "nombre_infected       890\n",
    "nombre_sain          2417\n",
    "nombre_exposed        563\n",
    "nombre_recovered    16130\n",
    "Name: 128, dtype: int64"
   ]
  },
  {
   "cell_type": "markdown",
   "id": "3e4d70f6",
   "metadata": {},
   "source": [
    "nombre_infected       920\n",
    "nombre_sain          2318\n",
    "nombre_exposed        577\n",
    "nombre_recovered    16185\n",
    "Name: 129, dtype: int64"
   ]
  },
  {
   "cell_type": "markdown",
   "id": "c752a119",
   "metadata": {},
   "source": [
    "nombre_infected       939\n",
    "nombre_sain          2241\n",
    "nombre_exposed        579\n",
    "nombre_recovered    16241\n",
    "Name: 130, dtype: int64"
   ]
  },
  {
   "cell_type": "markdown",
   "id": "1a671d96",
   "metadata": {},
   "source": [
    "nombre_infected       961\n",
    "nombre_sain          2190\n",
    "nombre_exposed        549\n",
    "nombre_recovered    16300\n",
    "Name: 131, dtype: int64"
   ]
  },
  {
   "cell_type": "markdown",
   "id": "3c6a5d1b",
   "metadata": {},
   "source": [
    "nombre_infected       999\n",
    "nombre_sain          2117\n",
    "nombre_exposed        537\n",
    "nombre_recovered    16347\n",
    "Name: 132, dtype: int64"
   ]
  },
  {
   "cell_type": "markdown",
   "id": "16094574",
   "metadata": {},
   "source": [
    "nombre_infected      1017\n",
    "nombre_sain          2029\n",
    "nombre_exposed        531\n",
    "nombre_recovered    16423\n",
    "Name: 133, dtype: int64"
   ]
  },
  {
   "cell_type": "markdown",
   "id": "fd112daa",
   "metadata": {},
   "source": [
    "nombre_infected      1015\n",
    "nombre_sain          1969\n",
    "nombre_exposed        541\n",
    "nombre_recovered    16475\n",
    "Name: 134, dtype: int64"
   ]
  },
  {
   "cell_type": "markdown",
   "id": "1693c9b6",
   "metadata": {},
   "source": [
    "nombre_infected      1022\n",
    "nombre_sain          1914\n",
    "nombre_exposed        521\n",
    "nombre_recovered    16543\n",
    "Name: 135, dtype: int64"
   ]
  },
  {
   "cell_type": "markdown",
   "id": "93e075a7",
   "metadata": {},
   "source": [
    "nombre_infected      1033\n",
    "nombre_sain          1826\n",
    "nombre_exposed        526\n",
    "nombre_recovered    16615\n",
    "Name: 136, dtype: int64"
   ]
  },
  {
   "cell_type": "markdown",
   "id": "98131727",
   "metadata": {},
   "source": [
    "nombre_infected      1035\n",
    "nombre_sain          1792\n",
    "nombre_exposed        499\n",
    "nombre_recovered    16674\n",
    "Name: 137, dtype: int64"
   ]
  },
  {
   "cell_type": "markdown",
   "id": "ea79956b",
   "metadata": {},
   "source": [
    "nombre_infected      1042\n",
    "nombre_sain          1729\n",
    "nombre_exposed        500\n",
    "nombre_recovered    16729\n",
    "Name: 138, dtype: int64"
   ]
  },
  {
   "cell_type": "markdown",
   "id": "e1f3e5c9",
   "metadata": {},
   "source": [
    "nombre_infected      1027\n",
    "nombre_sain          1694\n",
    "nombre_exposed        503\n",
    "nombre_recovered    16776\n",
    "Name: 139, dtype: int64"
   ]
  },
  {
   "cell_type": "markdown",
   "id": "58627923",
   "metadata": {},
   "source": [
    "nombre_infected      1047\n",
    "nombre_sain          1643\n",
    "nombre_exposed        481\n",
    "nombre_recovered    16829\n",
    "Name: 140, dtype: int64"
   ]
  },
  {
   "cell_type": "markdown",
   "id": "5990b661",
   "metadata": {},
   "source": [
    "nombre_infected      1023\n",
    "nombre_sain          1612\n",
    "nombre_exposed        461\n",
    "nombre_recovered    16904\n",
    "Name: 141, dtype: int64"
   ]
  },
  {
   "cell_type": "markdown",
   "id": "5d0dd2d4",
   "metadata": {},
   "source": [
    "nombre_infected      1032\n",
    "nombre_sain          1585\n",
    "nombre_exposed        445\n",
    "nombre_recovered    16938\n",
    "Name: 142, dtype: int64"
   ]
  },
  {
   "cell_type": "markdown",
   "id": "1bffe527",
   "metadata": {},
   "source": [
    "nombre_infected       994\n",
    "nombre_sain          1541\n",
    "nombre_exposed        463\n",
    "nombre_recovered    17002\n",
    "Name: 143, dtype: int64"
   ]
  },
  {
   "cell_type": "markdown",
   "id": "09979c1b",
   "metadata": {},
   "source": [
    "nombre_infected       986\n",
    "nombre_sain          1512\n",
    "nombre_exposed        451\n",
    "nombre_recovered    17051\n",
    "Name: 144, dtype: int64"
   ]
  },
  {
   "cell_type": "markdown",
   "id": "db2ec9ba",
   "metadata": {},
   "source": [
    "nombre_infected       982\n",
    "nombre_sain          1506\n",
    "nombre_exposed        429\n",
    "nombre_recovered    17083\n",
    "Name: 145, dtype: int64"
   ]
  },
  {
   "cell_type": "markdown",
   "id": "4dc424a7",
   "metadata": {},
   "source": [
    "nombre_infected       962\n",
    "nombre_sain          1490\n",
    "nombre_exposed        420\n",
    "nombre_recovered    17128\n",
    "Name: 146, dtype: int64"
   ]
  },
  {
   "cell_type": "markdown",
   "id": "d54963a3",
   "metadata": {},
   "source": [
    "nombre_infected       964\n",
    "nombre_sain          1491\n",
    "nombre_exposed        398\n",
    "nombre_recovered    17147\n",
    "Name: 147, dtype: int64"
   ]
  },
  {
   "cell_type": "markdown",
   "id": "e3e940da",
   "metadata": {},
   "source": [
    "nombre_infected       937\n",
    "nombre_sain          1490\n",
    "nombre_exposed        384\n",
    "nombre_recovered    17189\n",
    "Name: 148, dtype: int64"
   ]
  },
  {
   "cell_type": "markdown",
   "id": "b1929d26",
   "metadata": {},
   "source": [
    "nombre_infected       911\n",
    "nombre_sain          1495\n",
    "nombre_exposed        386\n",
    "nombre_recovered    17208\n",
    "Name: 149, dtype: int64"
   ]
  },
  {
   "cell_type": "markdown",
   "id": "bcdf7031",
   "metadata": {},
   "source": [
    "nombre_infected       907\n",
    "nombre_sain          1513\n",
    "nombre_exposed        355\n",
    "nombre_recovered    17225\n",
    "Name: 150, dtype: int64"
   ]
  },
  {
   "cell_type": "markdown",
   "id": "1d82077b",
   "metadata": {},
   "source": [
    "nombre_infected       891\n",
    "nombre_sain          1534\n",
    "nombre_exposed        340\n",
    "nombre_recovered    17235\n",
    "Name: 151, dtype: int64"
   ]
  },
  {
   "cell_type": "markdown",
   "id": "671dfdb5",
   "metadata": {},
   "source": [
    "nombre_infected       855\n",
    "nombre_sain          1574\n",
    "nombre_exposed        337\n",
    "nombre_recovered    17234\n",
    "Name: 152, dtype: int64"
   ]
  },
  {
   "cell_type": "markdown",
   "id": "b0483027",
   "metadata": {},
   "source": [
    "nombre_infected       827\n",
    "nombre_sain          1613\n",
    "nombre_exposed        327\n",
    "nombre_recovered    17233\n",
    "Name: 153, dtype: int64"
   ]
  },
  {
   "cell_type": "markdown",
   "id": "dc7f1dc0",
   "metadata": {},
   "source": [
    "nombre_infected       802\n",
    "nombre_sain          1648\n",
    "nombre_exposed        322\n",
    "nombre_recovered    17228\n",
    "Name: 154, dtype: int64"
   ]
  },
  {
   "cell_type": "markdown",
   "id": "c4bf1c84",
   "metadata": {},
   "source": [
    "nombre_infected       781\n",
    "nombre_sain          1685\n",
    "nombre_exposed        311\n",
    "nombre_recovered    17223\n",
    "Name: 155, dtype: int64"
   ]
  },
  {
   "cell_type": "markdown",
   "id": "d545e957",
   "metadata": {},
   "source": [
    "nombre_infected       776\n",
    "nombre_sain          1708\n",
    "nombre_exposed        314\n",
    "nombre_recovered    17202\n",
    "Name: 156, dtype: int64"
   ]
  },
  {
   "cell_type": "markdown",
   "id": "925cb9e4",
   "metadata": {},
   "source": [
    "nombre_infected       750\n",
    "nombre_sain          1730\n",
    "nombre_exposed        315\n",
    "nombre_recovered    17205\n",
    "Name: 157, dtype: int64"
   ]
  },
  {
   "cell_type": "markdown",
   "id": "de1ae207",
   "metadata": {},
   "source": [
    "nombre_infected       740\n",
    "nombre_sain          1750\n",
    "nombre_exposed        323\n",
    "nombre_recovered    17187\n",
    "Name: 158, dtype: int64"
   ]
  },
  {
   "cell_type": "markdown",
   "id": "333dea8e",
   "metadata": {},
   "source": [
    "nombre_infected       722\n",
    "nombre_sain          1789\n",
    "nombre_exposed        321\n",
    "nombre_recovered    17168\n",
    "Name: 159, dtype: int64"
   ]
  },
  {
   "cell_type": "markdown",
   "id": "0f51d1ff",
   "metadata": {},
   "source": [
    "nombre_infected       693\n",
    "nombre_sain          1805\n",
    "nombre_exposed        320\n",
    "nombre_recovered    17182\n",
    "Name: 160, dtype: int64"
   ]
  },
  {
   "cell_type": "markdown",
   "id": "565b2107",
   "metadata": {},
   "source": [
    "nombre_infected       684\n",
    "nombre_sain          1839\n",
    "nombre_exposed        312\n",
    "nombre_recovered    17165\n",
    "Name: 161, dtype: int64"
   ]
  },
  {
   "cell_type": "markdown",
   "id": "9874660c",
   "metadata": {},
   "source": [
    "nombre_infected       663\n",
    "nombre_sain          1861\n",
    "nombre_exposed        312\n",
    "nombre_recovered    17164\n",
    "Name: 162, dtype: int64"
   ]
  },
  {
   "cell_type": "markdown",
   "id": "a82943a2",
   "metadata": {},
   "source": [
    "nombre_infected       649\n",
    "nombre_sain          1902\n",
    "nombre_exposed        312\n",
    "nombre_recovered    17137\n",
    "Name: 163, dtype: int64"
   ]
  },
  {
   "cell_type": "markdown",
   "id": "cf64f4f4",
   "metadata": {},
   "source": [
    "nombre_infected       642\n",
    "nombre_sain          1924\n",
    "nombre_exposed        315\n",
    "nombre_recovered    17119\n",
    "Name: 164, dtype: int64"
   ]
  },
  {
   "cell_type": "markdown",
   "id": "15cb8d8c",
   "metadata": {},
   "source": [
    "nombre_infected       636\n",
    "nombre_sain          1933\n",
    "nombre_exposed        323\n",
    "nombre_recovered    17108\n",
    "Name: 165, dtype: int64"
   ]
  },
  {
   "cell_type": "markdown",
   "id": "9f5de2d7",
   "metadata": {},
   "source": [
    "nombre_infected       635\n",
    "nombre_sain          1952\n",
    "nombre_exposed        327\n",
    "nombre_recovered    17086\n",
    "Name: 166, dtype: int64"
   ]
  },
  {
   "cell_type": "markdown",
   "id": "71fd4c56",
   "metadata": {},
   "source": [
    "nombre_infected       629\n",
    "nombre_sain          1974\n",
    "nombre_exposed        331\n",
    "nombre_recovered    17066\n",
    "Name: 167, dtype: int64"
   ]
  },
  {
   "cell_type": "markdown",
   "id": "34f860d7",
   "metadata": {},
   "source": [
    "nombre_infected       631\n",
    "nombre_sain          2024\n",
    "nombre_exposed        304\n",
    "nombre_recovered    17041\n",
    "Name: 168, dtype: int64"
   ]
  },
  {
   "cell_type": "markdown",
   "id": "4fed417f",
   "metadata": {},
   "source": [
    "nombre_infected       622\n",
    "nombre_sain          2020\n",
    "nombre_exposed        333\n",
    "nombre_recovered    17025\n",
    "Name: 169, dtype: int64"
   ]
  },
  {
   "cell_type": "markdown",
   "id": "d9807c56",
   "metadata": {},
   "source": [
    "nombre_infected       616\n",
    "nombre_sain          2052\n",
    "nombre_exposed        315\n",
    "nombre_recovered    17017\n",
    "Name: 170, dtype: int64"
   ]
  },
  {
   "cell_type": "markdown",
   "id": "72d78585",
   "metadata": {},
   "source": [
    "nombre_infected       616\n",
    "nombre_sain          2081\n",
    "nombre_exposed        321\n",
    "nombre_recovered    16982\n",
    "Name: 171, dtype: int64"
   ]
  },
  {
   "cell_type": "markdown",
   "id": "5ab100bf",
   "metadata": {},
   "source": [
    "nombre_infected       619\n",
    "nombre_sain          2100\n",
    "nombre_exposed        310\n",
    "nombre_recovered    16971\n",
    "Name: 172, dtype: int64"
   ]
  },
  {
   "cell_type": "markdown",
   "id": "84390067",
   "metadata": {},
   "source": [
    "nombre_infected       608\n",
    "nombre_sain          2104\n",
    "nombre_exposed        337\n",
    "nombre_recovered    16951\n",
    "Name: 173, dtype: int64"
   ]
  },
  {
   "cell_type": "markdown",
   "id": "ace05aae",
   "metadata": {},
   "source": [
    "nombre_infected       614\n",
    "nombre_sain          2134\n",
    "nombre_exposed        329\n",
    "nombre_recovered    16923\n",
    "Name: 174, dtype: int64"
   ]
  },
  {
   "cell_type": "markdown",
   "id": "d3422a1c",
   "metadata": {},
   "source": [
    "nombre_infected       622\n",
    "nombre_sain          2180\n",
    "nombre_exposed        315\n",
    "nombre_recovered    16883\n",
    "Name: 175, dtype: int64"
   ]
  },
  {
   "cell_type": "markdown",
   "id": "0e5dde75",
   "metadata": {},
   "source": [
    "nombre_infected       636\n",
    "nombre_sain          2207\n",
    "nombre_exposed        317\n",
    "nombre_recovered    16840\n",
    "Name: 176, dtype: int64"
   ]
  },
  {
   "cell_type": "markdown",
   "id": "23f55982",
   "metadata": {},
   "source": [
    "nombre_infected       619\n",
    "nombre_sain          2217\n",
    "nombre_exposed        320\n",
    "nombre_recovered    16844\n",
    "Name: 177, dtype: int64"
   ]
  },
  {
   "cell_type": "markdown",
   "id": "06a15b61",
   "metadata": {},
   "source": [
    "nombre_infected       609\n",
    "nombre_sain          2253\n",
    "nombre_exposed        317\n",
    "nombre_recovered    16821\n",
    "Name: 178, dtype: int64"
   ]
  },
  {
   "cell_type": "markdown",
   "id": "afb89d0e",
   "metadata": {},
   "source": [
    "nombre_infected       582\n",
    "nombre_sain          2276\n",
    "nombre_exposed        330\n",
    "nombre_recovered    16812\n",
    "Name: 179, dtype: int64"
   ]
  },
  {
   "cell_type": "markdown",
   "id": "a27a8d2c",
   "metadata": {},
   "source": [
    "nombre_infected       582\n",
    "nombre_sain          2323\n",
    "nombre_exposed        333\n",
    "nombre_recovered    16762\n",
    "Name: 180, dtype: int64"
   ]
  },
  {
   "cell_type": "markdown",
   "id": "dd588c8f",
   "metadata": {},
   "source": [
    "nombre_infected       585\n",
    "nombre_sain          2357\n",
    "nombre_exposed        315\n",
    "nombre_recovered    16743\n",
    "Name: 181, dtype: int64"
   ]
  },
  {
   "cell_type": "markdown",
   "id": "67999ef1",
   "metadata": {},
   "source": [
    "nombre_infected       588\n",
    "nombre_sain          2399\n",
    "nombre_exposed        309\n",
    "nombre_recovered    16704\n",
    "Name: 182, dtype: int64"
   ]
  },
  {
   "cell_type": "markdown",
   "id": "3d36c7c9",
   "metadata": {},
   "source": [
    "nombre_infected       584\n",
    "nombre_sain          2418\n",
    "nombre_exposed        322\n",
    "nombre_recovered    16676\n",
    "Name: 183, dtype: int64"
   ]
  },
  {
   "cell_type": "markdown",
   "id": "17504f57",
   "metadata": {},
   "source": [
    "nombre_infected       565\n",
    "nombre_sain          2457\n",
    "nombre_exposed        322\n",
    "nombre_recovered    16656\n",
    "Name: 184, dtype: int64"
   ]
  },
  {
   "cell_type": "markdown",
   "id": "2c209281",
   "metadata": {},
   "source": [
    "nombre_infected       562\n",
    "nombre_sain          2485\n",
    "nombre_exposed        326\n",
    "nombre_recovered    16627\n",
    "Name: 185, dtype: int64"
   ]
  },
  {
   "cell_type": "markdown",
   "id": "fc6caf52",
   "metadata": {},
   "source": [
    "nombre_infected       550\n",
    "nombre_sain          2534\n",
    "nombre_exposed        331\n",
    "nombre_recovered    16585\n",
    "Name: 186, dtype: int64"
   ]
  },
  {
   "cell_type": "markdown",
   "id": "62ddb289",
   "metadata": {},
   "source": [
    "nombre_infected       566\n",
    "nombre_sain          2583\n",
    "nombre_exposed        331\n",
    "nombre_recovered    16520\n",
    "Name: 187, dtype: int64"
   ]
  },
  {
   "cell_type": "markdown",
   "id": "30329c9d",
   "metadata": {},
   "source": [
    "nombre_infected       575\n",
    "nombre_sain          2608\n",
    "nombre_exposed        352\n",
    "nombre_recovered    16465\n",
    "Name: 188, dtype: int64"
   ]
  },
  {
   "cell_type": "markdown",
   "id": "274ca201",
   "metadata": {},
   "source": [
    "nombre_infected       573\n",
    "nombre_sain          2657\n",
    "nombre_exposed        342\n",
    "nombre_recovered    16428\n",
    "Name: 189, dtype: int64"
   ]
  },
  {
   "cell_type": "markdown",
   "id": "a6604d40",
   "metadata": {},
   "source": [
    "nombre_infected       586\n",
    "nombre_sain          2695\n",
    "nombre_exposed        329\n",
    "nombre_recovered    16390\n",
    "Name: 190, dtype: int64"
   ]
  },
  {
   "cell_type": "markdown",
   "id": "0763af88",
   "metadata": {},
   "source": [
    "nombre_infected       577\n",
    "nombre_sain          2700\n",
    "nombre_exposed        351\n",
    "nombre_recovered    16372\n",
    "Name: 191, dtype: int64"
   ]
  },
  {
   "cell_type": "markdown",
   "id": "a131a483",
   "metadata": {},
   "source": [
    "nombre_infected       610\n",
    "nombre_sain          2692\n",
    "nombre_exposed        364\n",
    "nombre_recovered    16334\n",
    "Name: 192, dtype: int64"
   ]
  },
  {
   "cell_type": "markdown",
   "id": "0c3c86f0",
   "metadata": {},
   "source": [
    "nombre_infected       596\n",
    "nombre_sain          2723\n",
    "nombre_exposed        389\n",
    "nombre_recovered    16292\n",
    "Name: 193, dtype: int64"
   ]
  },
  {
   "cell_type": "markdown",
   "id": "1d943eb6",
   "metadata": {},
   "source": [
    "nombre_infected       612\n",
    "nombre_sain          2748\n",
    "nombre_exposed        385\n",
    "nombre_recovered    16255\n",
    "Name: 194, dtype: int64"
   ]
  },
  {
   "cell_type": "markdown",
   "id": "4ce8bf68",
   "metadata": {},
   "source": [
    "nombre_infected       614\n",
    "nombre_sain          2779\n",
    "nombre_exposed        404\n",
    "nombre_recovered    16203\n",
    "Name: 195, dtype: int64"
   ]
  },
  {
   "cell_type": "markdown",
   "id": "7def15c2",
   "metadata": {},
   "source": [
    "nombre_infected       615\n",
    "nombre_sain          2783\n",
    "nombre_exposed        427\n",
    "nombre_recovered    16175\n",
    "Name: 196, dtype: int64"
   ]
  },
  {
   "cell_type": "markdown",
   "id": "4a08c55a",
   "metadata": {},
   "source": [
    "nombre_infected       621\n",
    "nombre_sain          2800\n",
    "nombre_exposed        432\n",
    "nombre_recovered    16147\n",
    "Name: 197, dtype: int64"
   ]
  },
  {
   "cell_type": "markdown",
   "id": "a265065c",
   "metadata": {},
   "source": [
    "nombre_infected       664\n",
    "nombre_sain          2818\n",
    "nombre_exposed        410\n",
    "nombre_recovered    16108\n",
    "Name: 198, dtype: int64"
   ]
  },
  {
   "cell_type": "markdown",
   "id": "8374eb9e",
   "metadata": {},
   "source": [
    "nombre_infected       684\n",
    "nombre_sain          2827\n",
    "nombre_exposed        402\n",
    "nombre_recovered    16087\n",
    "Name: 199, dtype: int64"
   ]
  },
  {
   "cell_type": "markdown",
   "id": "3ace6a25",
   "metadata": {},
   "source": [
    "nombre_infected       703\n",
    "nombre_sain          2803\n",
    "nombre_exposed        432\n",
    "nombre_recovered    16062\n",
    "Name: 200, dtype: int64"
   ]
  },
  {
   "cell_type": "markdown",
   "id": "4370e281",
   "metadata": {},
   "source": [
    "nombre_infected       715\n",
    "nombre_sain          2804\n",
    "nombre_exposed        446\n",
    "nombre_recovered    16035\n",
    "Name: 201, dtype: int64"
   ]
  },
  {
   "cell_type": "markdown",
   "id": "7969c26c",
   "metadata": {},
   "source": [
    "nombre_infected       704\n",
    "nombre_sain          2795\n",
    "nombre_exposed        473\n",
    "nombre_recovered    16028\n",
    "Name: 202, dtype: int64"
   ]
  },
  {
   "cell_type": "markdown",
   "id": "242e05a7",
   "metadata": {},
   "source": [
    "nombre_infected       714\n",
    "nombre_sain          2814\n",
    "nombre_exposed        483\n",
    "nombre_recovered    15989\n",
    "Name: 203, dtype: int64"
   ]
  },
  {
   "cell_type": "markdown",
   "id": "6b8ec650",
   "metadata": {},
   "source": [
    "nombre_infected       718\n",
    "nombre_sain          2828\n",
    "nombre_exposed        485\n",
    "nombre_recovered    15969\n",
    "Name: 204, dtype: int64"
   ]
  },
  {
   "cell_type": "markdown",
   "id": "3a0f292c",
   "metadata": {},
   "source": [
    "nombre_infected       762\n",
    "nombre_sain          2849\n",
    "nombre_exposed        477\n",
    "nombre_recovered    15912\n",
    "Name: 205, dtype: int64"
   ]
  },
  {
   "cell_type": "markdown",
   "id": "5da7dc87",
   "metadata": {},
   "source": [
    "nombre_infected       773\n",
    "nombre_sain          2834\n",
    "nombre_exposed        499\n",
    "nombre_recovered    15894\n",
    "Name: 206, dtype: int64"
   ]
  },
  {
   "cell_type": "markdown",
   "id": "b7a38677",
   "metadata": {},
   "source": [
    "nombre_infected       765\n",
    "nombre_sain          2813\n",
    "nombre_exposed        540\n",
    "nombre_recovered    15882\n",
    "Name: 207, dtype: int64"
   ]
  },
  {
   "cell_type": "markdown",
   "id": "a5a01459",
   "metadata": {},
   "source": [
    "nombre_infected       796\n",
    "nombre_sain          2795\n",
    "nombre_exposed        552\n",
    "nombre_recovered    15857\n",
    "Name: 208, dtype: int64"
   ]
  },
  {
   "cell_type": "markdown",
   "id": "be8231fc",
   "metadata": {},
   "source": [
    "nombre_infected       824\n",
    "nombre_sain          2768\n",
    "nombre_exposed        543\n",
    "nombre_recovered    15865\n",
    "Name: 209, dtype: int64"
   ]
  },
  {
   "cell_type": "markdown",
   "id": "c90230e8",
   "metadata": {},
   "source": [
    "nombre_infected       841\n",
    "nombre_sain          2752\n",
    "nombre_exposed        569\n",
    "nombre_recovered    15838\n",
    "Name: 210, dtype: int64"
   ]
  },
  {
   "cell_type": "markdown",
   "id": "34f01fc8",
   "metadata": {},
   "source": [
    "nombre_infected       864\n",
    "nombre_sain          2706\n",
    "nombre_exposed        580\n",
    "nombre_recovered    15850\n",
    "Name: 211, dtype: int64"
   ]
  },
  {
   "cell_type": "markdown",
   "id": "2740ecc8",
   "metadata": {},
   "source": [
    "nombre_infected       873\n",
    "nombre_sain          2688\n",
    "nombre_exposed        594\n",
    "nombre_recovered    15845\n",
    "Name: 212, dtype: int64"
   ]
  },
  {
   "cell_type": "markdown",
   "id": "623080fe",
   "metadata": {},
   "source": [
    "nombre_infected       910\n",
    "nombre_sain          2675\n",
    "nombre_exposed        585\n",
    "nombre_recovered    15830\n",
    "Name: 213, dtype: int64"
   ]
  },
  {
   "cell_type": "markdown",
   "id": "36d67ab2",
   "metadata": {},
   "source": [
    "nombre_infected       936\n",
    "nombre_sain          2636\n",
    "nombre_exposed        595\n",
    "nombre_recovered    15833\n",
    "Name: 214, dtype: int64"
   ]
  },
  {
   "cell_type": "markdown",
   "id": "409ca635",
   "metadata": {},
   "source": [
    "nombre_infected       967\n",
    "nombre_sain          2586\n",
    "nombre_exposed        631\n",
    "nombre_recovered    15816\n",
    "Name: 215, dtype: int64"
   ]
  },
  {
   "cell_type": "markdown",
   "id": "15b66347",
   "metadata": {},
   "source": [
    "nombre_infected       984\n",
    "nombre_sain          2539\n",
    "nombre_exposed        657\n",
    "nombre_recovered    15820\n",
    "Name: 216, dtype: int64"
   ]
  },
  {
   "cell_type": "markdown",
   "id": "48f85cbc",
   "metadata": {},
   "source": [
    "nombre_infected      1009\n",
    "nombre_sain          2489\n",
    "nombre_exposed        669\n",
    "nombre_recovered    15833\n",
    "Name: 217, dtype: int64"
   ]
  },
  {
   "cell_type": "markdown",
   "id": "f7acb890",
   "metadata": {},
   "source": [
    "nombre_infected      1014\n",
    "nombre_sain          2427\n",
    "nombre_exposed        694\n",
    "nombre_recovered    15865\n",
    "Name: 218, dtype: int64"
   ]
  },
  {
   "cell_type": "markdown",
   "id": "3aa5701a",
   "metadata": {},
   "source": [
    "nombre_infected      1036\n",
    "nombre_sain          2389\n",
    "nombre_exposed        688\n",
    "nombre_recovered    15887\n",
    "Name: 219, dtype: int64"
   ]
  },
  {
   "cell_type": "markdown",
   "id": "07b0354d",
   "metadata": {},
   "source": [
    "nombre_infected      1095\n",
    "nombre_sain          2355\n",
    "nombre_exposed        653\n",
    "nombre_recovered    15897\n",
    "Name: 220, dtype: int64"
   ]
  },
  {
   "cell_type": "markdown",
   "id": "627304d2",
   "metadata": {},
   "source": [
    "nombre_infected      1121\n",
    "nombre_sain          2296\n",
    "nombre_exposed        662\n",
    "nombre_recovered    15921\n",
    "Name: 221, dtype: int64"
   ]
  },
  {
   "cell_type": "markdown",
   "id": "e3636912",
   "metadata": {},
   "source": [
    "nombre_infected      1158\n",
    "nombre_sain          2214\n",
    "nombre_exposed        685\n",
    "nombre_recovered    15943\n",
    "Name: 222, dtype: int64"
   ]
  },
  {
   "cell_type": "markdown",
   "id": "c6550fcc",
   "metadata": {},
   "source": [
    "nombre_infected      1194\n",
    "nombre_sain          2188\n",
    "nombre_exposed        657\n",
    "nombre_recovered    15961\n",
    "Name: 223, dtype: int64"
   ]
  },
  {
   "cell_type": "markdown",
   "id": "854bf975",
   "metadata": {},
   "source": [
    "nombre_infected      1233\n",
    "nombre_sain          2143\n",
    "nombre_exposed        638\n",
    "nombre_recovered    15986\n",
    "Name: 224, dtype: int64"
   ]
  },
  {
   "cell_type": "markdown",
   "id": "632b659d",
   "metadata": {},
   "source": [
    "nombre_infected      1221\n",
    "nombre_sain          2114\n",
    "nombre_exposed        626\n",
    "nombre_recovered    16039\n",
    "Name: 225, dtype: int64"
   ]
  },
  {
   "cell_type": "markdown",
   "id": "6ea70e9e",
   "metadata": {},
   "source": [
    "nombre_infected      1234\n",
    "nombre_sain          2074\n",
    "nombre_exposed        618\n",
    "nombre_recovered    16074\n",
    "Name: 226, dtype: int64"
   ]
  },
  {
   "cell_type": "markdown",
   "id": "1aca98b8",
   "metadata": {},
   "source": [
    "nombre_infected      1215\n",
    "nombre_sain          2034\n",
    "nombre_exposed        632\n",
    "nombre_recovered    16119\n",
    "Name: 227, dtype: int64"
   ]
  },
  {
   "cell_type": "markdown",
   "id": "446a1938",
   "metadata": {},
   "source": [
    "nombre_infected      1226\n",
    "nombre_sain          1972\n",
    "nombre_exposed        636\n",
    "nombre_recovered    16166\n",
    "Name: 228, dtype: int64"
   ]
  },
  {
   "cell_type": "markdown",
   "id": "7d81b74f",
   "metadata": {},
   "source": [
    "nombre_infected      1239\n",
    "nombre_sain          1947\n",
    "nombre_exposed        636\n",
    "nombre_recovered    16178\n",
    "Name: 229, dtype: int64"
   ]
  },
  {
   "cell_type": "markdown",
   "id": "14542519",
   "metadata": {},
   "source": [
    "nombre_infected      1240\n",
    "nombre_sain          1925\n",
    "nombre_exposed        620\n",
    "nombre_recovered    16215\n",
    "Name: 230, dtype: int64"
   ]
  },
  {
   "cell_type": "markdown",
   "id": "c4262ab5",
   "metadata": {},
   "source": [
    "nombre_infected      1259\n",
    "nombre_sain          1908\n",
    "nombre_exposed        602\n",
    "nombre_recovered    16231\n",
    "Name: 231, dtype: int64"
   ]
  },
  {
   "cell_type": "markdown",
   "id": "f3a279aa",
   "metadata": {},
   "source": [
    "nombre_infected      1248\n",
    "nombre_sain          1845\n",
    "nombre_exposed        605\n",
    "nombre_recovered    16302\n",
    "Name: 232, dtype: int64"
   ]
  },
  {
   "cell_type": "markdown",
   "id": "244e5237",
   "metadata": {},
   "source": [
    "nombre_infected      1276\n",
    "nombre_sain          1802\n",
    "nombre_exposed        596\n",
    "nombre_recovered    16326\n",
    "Name: 233, dtype: int64"
   ]
  },
  {
   "cell_type": "markdown",
   "id": "13f20ee7",
   "metadata": {},
   "source": [
    "nombre_infected      1289\n",
    "nombre_sain          1776\n",
    "nombre_exposed        577\n",
    "nombre_recovered    16358\n",
    "Name: 234, dtype: int64"
   ]
  },
  {
   "cell_type": "markdown",
   "id": "b61f29a6",
   "metadata": {},
   "source": [
    "nombre_infected      1283\n",
    "nombre_sain          1753\n",
    "nombre_exposed        575\n",
    "nombre_recovered    16389\n",
    "Name: 235, dtype: int64"
   ]
  },
  {
   "cell_type": "markdown",
   "id": "3a2d5397",
   "metadata": {},
   "source": [
    "nombre_infected      1250\n",
    "nombre_sain          1748\n",
    "nombre_exposed        574\n",
    "nombre_recovered    16428\n",
    "Name: 236, dtype: int64"
   ]
  },
  {
   "cell_type": "markdown",
   "id": "69b94bc2",
   "metadata": {},
   "source": [
    "nombre_infected      1217\n",
    "nombre_sain          1769\n",
    "nombre_exposed        554\n",
    "nombre_recovered    16460\n",
    "Name: 237, dtype: int64"
   ]
  },
  {
   "cell_type": "markdown",
   "id": "a432f474",
   "metadata": {},
   "source": [
    "nombre_infected      1214\n",
    "nombre_sain          1774\n",
    "nombre_exposed        523\n",
    "nombre_recovered    16489\n",
    "Name: 238, dtype: int64"
   ]
  },
  {
   "cell_type": "markdown",
   "id": "870c335d",
   "metadata": {},
   "source": [
    "nombre_infected      1175\n",
    "nombre_sain          1760\n",
    "nombre_exposed        532\n",
    "nombre_recovered    16533\n",
    "Name: 239, dtype: int64"
   ]
  },
  {
   "cell_type": "markdown",
   "id": "202ec15f",
   "metadata": {},
   "source": [
    "nombre_infected      1157\n",
    "nombre_sain          1766\n",
    "nombre_exposed        535\n",
    "nombre_recovered    16542\n",
    "Name: 240, dtype: int64"
   ]
  },
  {
   "cell_type": "markdown",
   "id": "924c7d1e",
   "metadata": {},
   "source": [
    "nombre_infected      1123\n",
    "nombre_sain          1761\n",
    "nombre_exposed        535\n",
    "nombre_recovered    16581\n",
    "Name: 241, dtype: int64"
   ]
  },
  {
   "cell_type": "markdown",
   "id": "70d98682",
   "metadata": {},
   "source": [
    "nombre_infected      1114\n",
    "nombre_sain          1781\n",
    "nombre_exposed        522\n",
    "nombre_recovered    16583\n",
    "Name: 242, dtype: int64"
   ]
  },
  {
   "cell_type": "markdown",
   "id": "4d8c6166",
   "metadata": {},
   "source": [
    "nombre_infected      1099\n",
    "nombre_sain          1778\n",
    "nombre_exposed        526\n",
    "nombre_recovered    16597\n",
    "Name: 243, dtype: int64"
   ]
  },
  {
   "cell_type": "markdown",
   "id": "a35084b4",
   "metadata": {},
   "source": [
    "nombre_infected      1086\n",
    "nombre_sain          1775\n",
    "nombre_exposed        510\n",
    "nombre_recovered    16629\n",
    "Name: 244, dtype: int64"
   ]
  },
  {
   "cell_type": "markdown",
   "id": "9db28ef6",
   "metadata": {},
   "source": [
    "nombre_infected      1084\n",
    "nombre_sain          1771\n",
    "nombre_exposed        495\n",
    "nombre_recovered    16650\n",
    "Name: 245, dtype: int64"
   ]
  },
  {
   "cell_type": "markdown",
   "id": "dd30536b",
   "metadata": {},
   "source": [
    "nombre_infected      1074\n",
    "nombre_sain          1759\n",
    "nombre_exposed        486\n",
    "nombre_recovered    16681\n",
    "Name: 246, dtype: int64"
   ]
  },
  {
   "cell_type": "markdown",
   "id": "9e4e329f",
   "metadata": {},
   "source": [
    "nombre_infected      1067\n",
    "nombre_sain          1743\n",
    "nombre_exposed        487\n",
    "nombre_recovered    16703\n",
    "Name: 247, dtype: int64"
   ]
  },
  {
   "cell_type": "markdown",
   "id": "2f5483b0",
   "metadata": {},
   "source": [
    "nombre_infected      1042\n",
    "nombre_sain          1737\n",
    "nombre_exposed        496\n",
    "nombre_recovered    16725\n",
    "Name: 248, dtype: int64"
   ]
  },
  {
   "cell_type": "markdown",
   "id": "a8e7bfbc",
   "metadata": {},
   "source": [
    "nombre_infected      1034\n",
    "nombre_sain          1751\n",
    "nombre_exposed        465\n",
    "nombre_recovered    16750\n",
    "Name: 249, dtype: int64"
   ]
  },
  {
   "cell_type": "markdown",
   "id": "4814601a",
   "metadata": {},
   "source": [
    "nombre_infected      1016\n",
    "nombre_sain          1748\n",
    "nombre_exposed        457\n",
    "nombre_recovered    16779\n",
    "Name: 250, dtype: int64"
   ]
  },
  {
   "cell_type": "markdown",
   "id": "6c5fb0ca",
   "metadata": {},
   "source": [
    "nombre_infected      1012\n",
    "nombre_sain          1753\n",
    "nombre_exposed        444\n",
    "nombre_recovered    16791\n",
    "Name: 251, dtype: int64"
   ]
  },
  {
   "cell_type": "markdown",
   "id": "33b3efcd",
   "metadata": {},
   "source": [
    "nombre_infected       997\n",
    "nombre_sain          1751\n",
    "nombre_exposed        441\n",
    "nombre_recovered    16811\n",
    "Name: 252, dtype: int64"
   ]
  },
  {
   "cell_type": "markdown",
   "id": "382b3de3",
   "metadata": {},
   "source": [
    "nombre_infected       953\n",
    "nombre_sain          1752\n",
    "nombre_exposed        446\n",
    "nombre_recovered    16849\n",
    "Name: 253, dtype: int64"
   ]
  },
  {
   "cell_type": "markdown",
   "id": "d3b592b8",
   "metadata": {},
   "source": [
    "nombre_infected       935\n",
    "nombre_sain          1735\n",
    "nombre_exposed        447\n",
    "nombre_recovered    16883\n",
    "Name: 254, dtype: int64"
   ]
  },
  {
   "cell_type": "markdown",
   "id": "86a86a72",
   "metadata": {},
   "source": [
    "nombre_infected       900\n",
    "nombre_sain          1770\n",
    "nombre_exposed        450\n",
    "nombre_recovered    16880\n",
    "Name: 255, dtype: int64"
   ]
  },
  {
   "cell_type": "markdown",
   "id": "77ed6313",
   "metadata": {},
   "source": [
    "nombre_infected       912\n",
    "nombre_sain          1774\n",
    "nombre_exposed        433\n",
    "nombre_recovered    16881\n",
    "Name: 256, dtype: int64"
   ]
  },
  {
   "cell_type": "markdown",
   "id": "57116d61",
   "metadata": {},
   "source": [
    "nombre_infected       877\n",
    "nombre_sain          1766\n",
    "nombre_exposed        455\n",
    "nombre_recovered    16902\n",
    "Name: 257, dtype: int64"
   ]
  },
  {
   "cell_type": "markdown",
   "id": "fba2ae9f",
   "metadata": {},
   "source": [
    "nombre_infected       870\n",
    "nombre_sain          1767\n",
    "nombre_exposed        451\n",
    "nombre_recovered    16912\n",
    "Name: 258, dtype: int64"
   ]
  },
  {
   "cell_type": "markdown",
   "id": "b98ddd70",
   "metadata": {},
   "source": [
    "nombre_infected       877\n",
    "nombre_sain          1789\n",
    "nombre_exposed        432\n",
    "nombre_recovered    16902\n",
    "Name: 259, dtype: int64"
   ]
  },
  {
   "cell_type": "markdown",
   "id": "7205ba68",
   "metadata": {},
   "source": [
    "nombre_infected       866\n",
    "nombre_sain          1791\n",
    "nombre_exposed        428\n",
    "nombre_recovered    16915\n",
    "Name: 260, dtype: int64"
   ]
  },
  {
   "cell_type": "markdown",
   "id": "2c37eb5d",
   "metadata": {},
   "source": [
    "nombre_infected       837\n",
    "nombre_sain          1809\n",
    "nombre_exposed        443\n",
    "nombre_recovered    16911\n",
    "Name: 261, dtype: int64"
   ]
  },
  {
   "cell_type": "markdown",
   "id": "a714d642",
   "metadata": {},
   "source": [
    "nombre_infected       849\n",
    "nombre_sain          1852\n",
    "nombre_exposed        425\n",
    "nombre_recovered    16874\n",
    "Name: 262, dtype: int64"
   ]
  },
  {
   "cell_type": "markdown",
   "id": "1a0a6d02",
   "metadata": {},
   "source": [
    "nombre_infected       834\n",
    "nombre_sain          1867\n",
    "nombre_exposed        401\n",
    "nombre_recovered    16898\n",
    "Name: 263, dtype: int64"
   ]
  },
  {
   "cell_type": "markdown",
   "id": "73299bdc",
   "metadata": {},
   "source": [
    "nombre_infected       851\n",
    "nombre_sain          1877\n",
    "nombre_exposed        393\n",
    "nombre_recovered    16879\n",
    "Name: 264, dtype: int64"
   ]
  },
  {
   "cell_type": "markdown",
   "id": "672ed070",
   "metadata": {},
   "source": [
    "nombre_infected       824\n",
    "nombre_sain          1885\n",
    "nombre_exposed        426\n",
    "nombre_recovered    16865\n",
    "Name: 265, dtype: int64"
   ]
  },
  {
   "cell_type": "markdown",
   "id": "dd01aa8a",
   "metadata": {},
   "source": [
    "nombre_infected       825\n",
    "nombre_sain          1863\n",
    "nombre_exposed        436\n",
    "nombre_recovered    16876\n",
    "Name: 266, dtype: int64"
   ]
  },
  {
   "cell_type": "markdown",
   "id": "4174b840",
   "metadata": {},
   "source": [
    "nombre_infected       838\n",
    "nombre_sain          1875\n",
    "nombre_exposed        424\n",
    "nombre_recovered    16863\n",
    "Name: 267, dtype: int64"
   ]
  },
  {
   "cell_type": "markdown",
   "id": "f29db54c",
   "metadata": {},
   "source": [
    "nombre_infected       824\n",
    "nombre_sain          1883\n",
    "nombre_exposed        419\n",
    "nombre_recovered    16874\n",
    "Name: 268, dtype: int64"
   ]
  },
  {
   "cell_type": "markdown",
   "id": "d7b97ba4",
   "metadata": {},
   "source": [
    "nombre_infected       833\n",
    "nombre_sain          1891\n",
    "nombre_exposed        414\n",
    "nombre_recovered    16862\n",
    "Name: 269, dtype: int64"
   ]
  },
  {
   "cell_type": "markdown",
   "id": "24be9a8c",
   "metadata": {},
   "source": [
    "nombre_infected       835\n",
    "nombre_sain          1915\n",
    "nombre_exposed        427\n",
    "nombre_recovered    16823\n",
    "Name: 270, dtype: int64"
   ]
  },
  {
   "cell_type": "markdown",
   "id": "451774c6",
   "metadata": {},
   "source": [
    "nombre_infected       831\n",
    "nombre_sain          1913\n",
    "nombre_exposed        429\n",
    "nombre_recovered    16827\n",
    "Name: 271, dtype: int64"
   ]
  },
  {
   "cell_type": "markdown",
   "id": "7584b695",
   "metadata": {},
   "source": [
    "nombre_infected       782\n",
    "nombre_sain          1911\n",
    "nombre_exposed        444\n",
    "nombre_recovered    16863\n",
    "Name: 272, dtype: int64"
   ]
  },
  {
   "cell_type": "markdown",
   "id": "a9bebd19",
   "metadata": {},
   "source": [
    "nombre_infected       781\n",
    "nombre_sain          1920\n",
    "nombre_exposed        431\n",
    "nombre_recovered    16868\n",
    "Name: 273, dtype: int64"
   ]
  },
  {
   "cell_type": "markdown",
   "id": "b4db2dbb",
   "metadata": {},
   "source": [
    "nombre_infected       801\n",
    "nombre_sain          1954\n",
    "nombre_exposed        411\n",
    "nombre_recovered    16834\n",
    "Name: 274, dtype: int64"
   ]
  },
  {
   "cell_type": "markdown",
   "id": "f4ee843c",
   "metadata": {},
   "source": [
    "nombre_infected       814\n",
    "nombre_sain          1960\n",
    "nombre_exposed        400\n",
    "nombre_recovered    16826\n",
    "Name: 275, dtype: int64"
   ]
  },
  {
   "cell_type": "markdown",
   "id": "e9a3764f",
   "metadata": {},
   "source": [
    "nombre_infected       809\n",
    "nombre_sain          1954\n",
    "nombre_exposed        396\n",
    "nombre_recovered    16841\n",
    "Name: 276, dtype: int64"
   ]
  },
  {
   "cell_type": "markdown",
   "id": "17ef915c",
   "metadata": {},
   "source": [
    "nombre_infected       818\n",
    "nombre_sain          1937\n",
    "nombre_exposed        422\n",
    "nombre_recovered    16823\n",
    "Name: 277, dtype: int64"
   ]
  },
  {
   "cell_type": "markdown",
   "id": "db47e57b",
   "metadata": {},
   "source": [
    "nombre_infected       820\n",
    "nombre_sain          1947\n",
    "nombre_exposed        420\n",
    "nombre_recovered    16813\n",
    "Name: 278, dtype: int64"
   ]
  },
  {
   "cell_type": "markdown",
   "id": "638a5ccd",
   "metadata": {},
   "source": [
    "nombre_infected       815\n",
    "nombre_sain          1994\n",
    "nombre_exposed        385\n",
    "nombre_recovered    16806\n",
    "Name: 279, dtype: int64"
   ]
  },
  {
   "cell_type": "markdown",
   "id": "3d3f3f82",
   "metadata": {},
   "source": [
    "nombre_infected       826\n",
    "nombre_sain          2022\n",
    "nombre_exposed        385\n",
    "nombre_recovered    16767\n",
    "Name: 280, dtype: int64"
   ]
  },
  {
   "cell_type": "markdown",
   "id": "a3747d3f",
   "metadata": {},
   "source": [
    "nombre_infected       808\n",
    "nombre_sain          2028\n",
    "nombre_exposed        394\n",
    "nombre_recovered    16770\n",
    "Name: 281, dtype: int64"
   ]
  },
  {
   "cell_type": "markdown",
   "id": "361fc883",
   "metadata": {},
   "source": [
    "nombre_infected       787\n",
    "nombre_sain          2033\n",
    "nombre_exposed        397\n",
    "nombre_recovered    16783\n",
    "Name: 282, dtype: int64"
   ]
  },
  {
   "cell_type": "markdown",
   "id": "7be7336a",
   "metadata": {},
   "source": [
    "nombre_infected       779\n",
    "nombre_sain          2021\n",
    "nombre_exposed        421\n",
    "nombre_recovered    16779\n",
    "Name: 283, dtype: int64"
   ]
  },
  {
   "cell_type": "markdown",
   "id": "0e99df09",
   "metadata": {},
   "source": [
    "nombre_infected       759\n",
    "nombre_sain          2070\n",
    "nombre_exposed        412\n",
    "nombre_recovered    16759\n",
    "Name: 284, dtype: int64"
   ]
  },
  {
   "cell_type": "markdown",
   "id": "5d80233c",
   "metadata": {},
   "source": [
    "nombre_infected       759\n",
    "nombre_sain          2067\n",
    "nombre_exposed        403\n",
    "nombre_recovered    16771\n",
    "Name: 285, dtype: int64"
   ]
  },
  {
   "cell_type": "markdown",
   "id": "4315d8ef",
   "metadata": {},
   "source": [
    "nombre_infected       764\n",
    "nombre_sain          2062\n",
    "nombre_exposed        406\n",
    "nombre_recovered    16768\n",
    "Name: 286, dtype: int64"
   ]
  },
  {
   "cell_type": "markdown",
   "id": "0696d020",
   "metadata": {},
   "source": [
    "nombre_infected       781\n",
    "nombre_sain          2102\n",
    "nombre_exposed        387\n",
    "nombre_recovered    16730\n",
    "Name: 287, dtype: int64"
   ]
  },
  {
   "cell_type": "markdown",
   "id": "573147bb",
   "metadata": {},
   "source": [
    "nombre_infected       766\n",
    "nombre_sain          2111\n",
    "nombre_exposed        400\n",
    "nombre_recovered    16723\n",
    "Name: 288, dtype: int64"
   ]
  },
  {
   "cell_type": "markdown",
   "id": "6b2a01e0",
   "metadata": {},
   "source": [
    "nombre_infected       763\n",
    "nombre_sain          2132\n",
    "nombre_exposed        393\n",
    "nombre_recovered    16712\n",
    "Name: 289, dtype: int64"
   ]
  },
  {
   "cell_type": "markdown",
   "id": "2273d6ce",
   "metadata": {},
   "source": [
    "nombre_infected       746\n",
    "nombre_sain          2180\n",
    "nombre_exposed        403\n",
    "nombre_recovered    16671\n",
    "Name: 290, dtype: int64"
   ]
  },
  {
   "cell_type": "markdown",
   "id": "ff632738",
   "metadata": {},
   "source": [
    "nombre_infected       730\n",
    "nombre_sain          2214\n",
    "nombre_exposed        405\n",
    "nombre_recovered    16651\n",
    "Name: 291, dtype: int64"
   ]
  },
  {
   "cell_type": "markdown",
   "id": "5a4b4ebe",
   "metadata": {},
   "source": [
    "nombre_infected       713\n",
    "nombre_sain          2248\n",
    "nombre_exposed        409\n",
    "nombre_recovered    16630\n",
    "Name: 292, dtype: int64"
   ]
  },
  {
   "cell_type": "markdown",
   "id": "19d473e4",
   "metadata": {},
   "source": [
    "nombre_infected       716\n",
    "nombre_sain          2289\n",
    "nombre_exposed        404\n",
    "nombre_recovered    16591\n",
    "Name: 293, dtype: int64"
   ]
  },
  {
   "cell_type": "markdown",
   "id": "1ff19b9a",
   "metadata": {},
   "source": [
    "nombre_infected       732\n",
    "nombre_sain          2340\n",
    "nombre_exposed        387\n",
    "nombre_recovered    16541\n",
    "Name: 294, dtype: int64"
   ]
  },
  {
   "cell_type": "markdown",
   "id": "dbe10c30",
   "metadata": {},
   "source": [
    "nombre_infected       740\n",
    "nombre_sain          2351\n",
    "nombre_exposed        394\n",
    "nombre_recovered    16515\n",
    "Name: 295, dtype: int64"
   ]
  },
  {
   "cell_type": "markdown",
   "id": "35157ad7",
   "metadata": {},
   "source": [
    "nombre_infected       739\n",
    "nombre_sain          2332\n",
    "nombre_exposed        434\n",
    "nombre_recovered    16495\n",
    "Name: 296, dtype: int64"
   ]
  },
  {
   "cell_type": "markdown",
   "id": "ad65d267",
   "metadata": {},
   "source": [
    "nombre_infected       748\n",
    "nombre_sain          2355\n",
    "nombre_exposed        451\n",
    "nombre_recovered    16446\n",
    "Name: 297, dtype: int64"
   ]
  },
  {
   "cell_type": "markdown",
   "id": "71e28073",
   "metadata": {},
   "source": [
    "nombre_infected       770\n",
    "nombre_sain          2369\n",
    "nombre_exposed        462\n",
    "nombre_recovered    16399\n",
    "Name: 298, dtype: int64"
   ]
  },
  {
   "cell_type": "markdown",
   "id": "04e39808",
   "metadata": {},
   "source": [
    "nombre_infected       805\n",
    "nombre_sain          2393\n",
    "nombre_exposed        442\n",
    "nombre_recovered    16360\n",
    "Name: 299, dtype: int64"
   ]
  },
  {
   "cell_type": "markdown",
   "id": "b0e2dbbe",
   "metadata": {},
   "source": [
    "nombre_infected       813\n",
    "nombre_sain          2421\n",
    "nombre_exposed        456\n",
    "nombre_recovered    16310\n",
    "Name: 300, dtype: int64"
   ]
  },
  {
   "cell_type": "markdown",
   "id": "07a5d3f1",
   "metadata": {},
   "source": [
    "nombre_infected       835\n",
    "nombre_sain          2399\n",
    "nombre_exposed        488\n",
    "nombre_recovered    16278\n",
    "Name: 301, dtype: int64"
   ]
  },
  {
   "cell_type": "markdown",
   "id": "9f6c4720",
   "metadata": {},
   "source": [
    "nombre_infected       870\n",
    "nombre_sain          2412\n",
    "nombre_exposed        487\n",
    "nombre_recovered    16231\n",
    "Name: 302, dtype: int64"
   ]
  },
  {
   "cell_type": "markdown",
   "id": "b2c37172",
   "metadata": {},
   "source": [
    "nombre_infected       881\n",
    "nombre_sain          2424\n",
    "nombre_exposed        497\n",
    "nombre_recovered    16198\n",
    "Name: 303, dtype: int64"
   ]
  },
  {
   "cell_type": "markdown",
   "id": "cf02f81d",
   "metadata": {},
   "source": [
    "nombre_infected       886\n",
    "nombre_sain          2419\n",
    "nombre_exposed        518\n",
    "nombre_recovered    16177\n",
    "Name: 304, dtype: int64"
   ]
  },
  {
   "cell_type": "markdown",
   "id": "7aae6ed4",
   "metadata": {},
   "source": [
    "nombre_infected       906\n",
    "nombre_sain          2403\n",
    "nombre_exposed        531\n",
    "nombre_recovered    16160\n",
    "Name: 305, dtype: int64"
   ]
  },
  {
   "cell_type": "markdown",
   "id": "7e899d44",
   "metadata": {},
   "source": [
    "nombre_infected       926\n",
    "nombre_sain          2384\n",
    "nombre_exposed        541\n",
    "nombre_recovered    16149\n",
    "Name: 306, dtype: int64"
   ]
  },
  {
   "cell_type": "markdown",
   "id": "3d30ea99",
   "metadata": {},
   "source": [
    "nombre_infected       962\n",
    "nombre_sain          2380\n",
    "nombre_exposed        550\n",
    "nombre_recovered    16108\n",
    "Name: 307, dtype: int64"
   ]
  },
  {
   "cell_type": "markdown",
   "id": "3cd44226",
   "metadata": {},
   "source": [
    "nombre_infected       953\n",
    "nombre_sain          2353\n",
    "nombre_exposed        593\n",
    "nombre_recovered    16101\n",
    "Name: 308, dtype: int64"
   ]
  },
  {
   "cell_type": "markdown",
   "id": "6171fe47",
   "metadata": {},
   "source": [
    "nombre_infected       950\n",
    "nombre_sain          2364\n",
    "nombre_exposed        594\n",
    "nombre_recovered    16092\n",
    "Name: 309, dtype: int64"
   ]
  },
  {
   "cell_type": "markdown",
   "id": "5e8ec13c",
   "metadata": {},
   "source": [
    "nombre_infected       983\n",
    "nombre_sain          2348\n",
    "nombre_exposed        597\n",
    "nombre_recovered    16072\n",
    "Name: 310, dtype: int64"
   ]
  },
  {
   "cell_type": "markdown",
   "id": "40bcfbe9",
   "metadata": {},
   "source": [
    "nombre_infected      1002\n",
    "nombre_sain          2343\n",
    "nombre_exposed        611\n",
    "nombre_recovered    16044\n",
    "Name: 311, dtype: int64"
   ]
  },
  {
   "cell_type": "markdown",
   "id": "7da7891a",
   "metadata": {},
   "source": [
    "nombre_infected      1031\n",
    "nombre_sain          2360\n",
    "nombre_exposed        609\n",
    "nombre_recovered    16000\n",
    "Name: 312, dtype: int64"
   ]
  },
  {
   "cell_type": "markdown",
   "id": "22454c3b",
   "metadata": {},
   "source": [
    "nombre_infected      1019\n",
    "nombre_sain          2334\n",
    "nombre_exposed        616\n",
    "nombre_recovered    16031\n",
    "Name: 313, dtype: int64"
   ]
  },
  {
   "cell_type": "markdown",
   "id": "d692247e",
   "metadata": {},
   "source": [
    "nombre_infected      1043\n",
    "nombre_sain          2286\n",
    "nombre_exposed        637\n",
    "nombre_recovered    16034\n",
    "Name: 314, dtype: int64"
   ]
  },
  {
   "cell_type": "markdown",
   "id": "090a9f65",
   "metadata": {},
   "source": [
    "nombre_infected      1047\n",
    "nombre_sain          2308\n",
    "nombre_exposed        626\n",
    "nombre_recovered    16019\n",
    "Name: 315, dtype: int64"
   ]
  },
  {
   "cell_type": "markdown",
   "id": "506cfd3a",
   "metadata": {},
   "source": [
    "nombre_infected      1055\n",
    "nombre_sain          2289\n",
    "nombre_exposed        627\n",
    "nombre_recovered    16029\n",
    "Name: 316, dtype: int64"
   ]
  },
  {
   "cell_type": "markdown",
   "id": "e0ed1721",
   "metadata": {},
   "source": [
    "nombre_infected      1076\n",
    "nombre_sain          2317\n",
    "nombre_exposed        616\n",
    "nombre_recovered    15991\n",
    "Name: 317, dtype: int64"
   ]
  },
  {
   "cell_type": "markdown",
   "id": "2d26110c",
   "metadata": {},
   "source": [
    "nombre_infected      1072\n",
    "nombre_sain          2319\n",
    "nombre_exposed        590\n",
    "nombre_recovered    16019\n",
    "Name: 318, dtype: int64"
   ]
  },
  {
   "cell_type": "markdown",
   "id": "712a6cba",
   "metadata": {},
   "source": [
    "nombre_infected      1065\n",
    "nombre_sain          2283\n",
    "nombre_exposed        612\n",
    "nombre_recovered    16040\n",
    "Name: 319, dtype: int64"
   ]
  },
  {
   "cell_type": "markdown",
   "id": "858808de",
   "metadata": {},
   "source": [
    "nombre_infected      1080\n",
    "nombre_sain          2288\n",
    "nombre_exposed        619\n",
    "nombre_recovered    16013\n",
    "Name: 320, dtype: int64"
   ]
  },
  {
   "cell_type": "markdown",
   "id": "915bca2c",
   "metadata": {},
   "source": [
    "nombre_infected      1104\n",
    "nombre_sain          2297\n",
    "nombre_exposed        602\n",
    "nombre_recovered    15997\n",
    "Name: 321, dtype: int64"
   ]
  },
  {
   "cell_type": "markdown",
   "id": "75916de8",
   "metadata": {},
   "source": [
    "nombre_infected      1104\n",
    "nombre_sain          2253\n",
    "nombre_exposed        620\n",
    "nombre_recovered    16023\n",
    "Name: 322, dtype: int64"
   ]
  },
  {
   "cell_type": "markdown",
   "id": "9fbc6a68",
   "metadata": {},
   "source": [
    "nombre_infected      1127\n",
    "nombre_sain          2218\n",
    "nombre_exposed        638\n",
    "nombre_recovered    16017\n",
    "Name: 323, dtype: int64"
   ]
  },
  {
   "cell_type": "markdown",
   "id": "3e601a92",
   "metadata": {},
   "source": [
    "nombre_infected      1106\n",
    "nombre_sain          2192\n",
    "nombre_exposed        631\n",
    "nombre_recovered    16071\n",
    "Name: 324, dtype: int64"
   ]
  },
  {
   "cell_type": "markdown",
   "id": "7a33b493",
   "metadata": {},
   "source": [
    "nombre_infected      1126\n",
    "nombre_sain          2138\n",
    "nombre_exposed        638\n",
    "nombre_recovered    16098\n",
    "Name: 325, dtype: int64"
   ]
  },
  {
   "cell_type": "markdown",
   "id": "6530d078",
   "metadata": {},
   "source": [
    "nombre_infected      1145\n",
    "nombre_sain          2110\n",
    "nombre_exposed        651\n",
    "nombre_recovered    16094\n",
    "Name: 326, dtype: int64"
   ]
  },
  {
   "cell_type": "markdown",
   "id": "47c5abc5",
   "metadata": {},
   "source": [
    "nombre_infected      1179\n",
    "nombre_sain          2063\n",
    "nombre_exposed        642\n",
    "nombre_recovered    16116\n",
    "Name: 327, dtype: int64"
   ]
  },
  {
   "cell_type": "markdown",
   "id": "a521736a",
   "metadata": {},
   "source": [
    "nombre_infected      1167\n",
    "nombre_sain          2010\n",
    "nombre_exposed        655\n",
    "nombre_recovered    16168\n",
    "Name: 328, dtype: int64"
   ]
  },
  {
   "cell_type": "markdown",
   "id": "bdb9b2a3",
   "metadata": {},
   "source": [
    "nombre_infected      1167\n",
    "nombre_sain          1993\n",
    "nombre_exposed        633\n",
    "nombre_recovered    16207\n",
    "Name: 329, dtype: int64"
   ]
  },
  {
   "cell_type": "markdown",
   "id": "77312035",
   "metadata": {},
   "source": [
    "nombre_infected      1156\n",
    "nombre_sain          1975\n",
    "nombre_exposed        624\n",
    "nombre_recovered    16245\n",
    "Name: 330, dtype: int64"
   ]
  },
  {
   "cell_type": "markdown",
   "id": "a39a1982",
   "metadata": {},
   "source": [
    "nombre_infected      1152\n",
    "nombre_sain          1936\n",
    "nombre_exposed        629\n",
    "nombre_recovered    16283\n",
    "Name: 331, dtype: int64"
   ]
  },
  {
   "cell_type": "markdown",
   "id": "37837dca",
   "metadata": {},
   "source": [
    "nombre_infected      1127\n",
    "nombre_sain          1910\n",
    "nombre_exposed        624\n",
    "nombre_recovered    16339\n",
    "Name: 332, dtype: int64"
   ]
  },
  {
   "cell_type": "markdown",
   "id": "be85c18b",
   "metadata": {},
   "source": [
    "nombre_infected      1122\n",
    "nombre_sain          1906\n",
    "nombre_exposed        618\n",
    "nombre_recovered    16354\n",
    "Name: 333, dtype: int64"
   ]
  },
  {
   "cell_type": "markdown",
   "id": "ef91fbfa",
   "metadata": {},
   "source": [
    "nombre_infected      1127\n",
    "nombre_sain          1890\n",
    "nombre_exposed        587\n",
    "nombre_recovered    16396\n",
    "Name: 334, dtype: int64"
   ]
  },
  {
   "cell_type": "markdown",
   "id": "f3e82128",
   "metadata": {},
   "source": [
    "nombre_infected      1138\n",
    "nombre_sain          1876\n",
    "nombre_exposed        570\n",
    "nombre_recovered    16416\n",
    "Name: 335, dtype: int64"
   ]
  },
  {
   "cell_type": "markdown",
   "id": "23477206",
   "metadata": {},
   "source": [
    "nombre_infected      1108\n",
    "nombre_sain          1874\n",
    "nombre_exposed        569\n",
    "nombre_recovered    16449\n",
    "Name: 336, dtype: int64"
   ]
  },
  {
   "cell_type": "markdown",
   "id": "337ccca0",
   "metadata": {},
   "source": [
    "nombre_infected      1094\n",
    "nombre_sain          1883\n",
    "nombre_exposed        536\n",
    "nombre_recovered    16487\n",
    "Name: 337, dtype: int64"
   ]
  },
  {
   "cell_type": "markdown",
   "id": "99ef67e8",
   "metadata": {},
   "source": [
    "nombre_infected      1087\n",
    "nombre_sain          1885\n",
    "nombre_exposed        527\n",
    "nombre_recovered    16501\n",
    "Name: 338, dtype: int64"
   ]
  },
  {
   "cell_type": "markdown",
   "id": "dfc0ef99",
   "metadata": {},
   "source": [
    "nombre_infected      1062\n",
    "nombre_sain          1921\n",
    "nombre_exposed        494\n",
    "nombre_recovered    16523\n",
    "Name: 339, dtype: int64"
   ]
  },
  {
   "cell_type": "markdown",
   "id": "adbe7139",
   "metadata": {},
   "source": [
    "nombre_infected      1050\n",
    "nombre_sain          1949\n",
    "nombre_exposed        482\n",
    "nombre_recovered    16519\n",
    "Name: 340, dtype: int64"
   ]
  },
  {
   "cell_type": "markdown",
   "id": "2a97c479",
   "metadata": {},
   "source": [
    "nombre_infected      1032\n",
    "nombre_sain          1953\n",
    "nombre_exposed        485\n",
    "nombre_recovered    16530\n",
    "Name: 341, dtype: int64"
   ]
  },
  {
   "cell_type": "markdown",
   "id": "00717e8a",
   "metadata": {},
   "source": [
    "nombre_infected      1022\n",
    "nombre_sain          1976\n",
    "nombre_exposed        485\n",
    "nombre_recovered    16517\n",
    "Name: 342, dtype: int64"
   ]
  },
  {
   "cell_type": "markdown",
   "id": "6d0097cb",
   "metadata": {},
   "source": [
    "nombre_infected       980\n",
    "nombre_sain          1990\n",
    "nombre_exposed        496\n",
    "nombre_recovered    16534\n",
    "Name: 343, dtype: int64"
   ]
  },
  {
   "cell_type": "markdown",
   "id": "0254a656",
   "metadata": {},
   "source": [
    "nombre_infected       976\n",
    "nombre_sain          2001\n",
    "nombre_exposed        480\n",
    "nombre_recovered    16543\n",
    "Name: 344, dtype: int64"
   ]
  },
  {
   "cell_type": "markdown",
   "id": "6239fca9",
   "metadata": {},
   "source": [
    "nombre_infected       952\n",
    "nombre_sain          2004\n",
    "nombre_exposed        486\n",
    "nombre_recovered    16558\n",
    "Name: 345, dtype: int64"
   ]
  },
  {
   "cell_type": "markdown",
   "id": "62c7bf5d",
   "metadata": {},
   "source": [
    "nombre_infected       945\n",
    "nombre_sain          2011\n",
    "nombre_exposed        474\n",
    "nombre_recovered    16570\n",
    "Name: 346, dtype: int64"
   ]
  },
  {
   "cell_type": "markdown",
   "id": "f5ccf884",
   "metadata": {},
   "source": [
    "nombre_infected       942\n",
    "nombre_sain          2037\n",
    "nombre_exposed        462\n",
    "nombre_recovered    16559\n",
    "Name: 347, dtype: int64"
   ]
  },
  {
   "cell_type": "markdown",
   "id": "ee133c0f",
   "metadata": {},
   "source": [
    "nombre_infected       924\n",
    "nombre_sain          2072\n",
    "nombre_exposed        459\n",
    "nombre_recovered    16545\n",
    "Name: 348, dtype: int64"
   ]
  },
  {
   "cell_type": "markdown",
   "id": "a4d6c84b",
   "metadata": {},
   "source": [
    "nombre_infected       903\n",
    "nombre_sain          2099\n",
    "nombre_exposed        442\n",
    "nombre_recovered    16556\n",
    "Name: 349, dtype: int64"
   ]
  },
  {
   "cell_type": "markdown",
   "id": "85350629",
   "metadata": {},
   "source": [
    "nombre_infected       892\n",
    "nombre_sain          2126\n",
    "nombre_exposed        445\n",
    "nombre_recovered    16537\n",
    "Name: 350, dtype: int64"
   ]
  },
  {
   "cell_type": "markdown",
   "id": "e90089ed",
   "metadata": {},
   "source": [
    "nombre_infected       860\n",
    "nombre_sain          2143\n",
    "nombre_exposed        465\n",
    "nombre_recovered    16532\n",
    "Name: 351, dtype: int64"
   ]
  },
  {
   "cell_type": "markdown",
   "id": "a3353464",
   "metadata": {},
   "source": [
    "nombre_infected       878\n",
    "nombre_sain          2139\n",
    "nombre_exposed        465\n",
    "nombre_recovered    16518\n",
    "Name: 352, dtype: int64"
   ]
  },
  {
   "cell_type": "markdown",
   "id": "e993e71a",
   "metadata": {},
   "source": [
    "nombre_infected       866\n",
    "nombre_sain          2145\n",
    "nombre_exposed        466\n",
    "nombre_recovered    16523\n",
    "Name: 353, dtype: int64"
   ]
  },
  {
   "cell_type": "markdown",
   "id": "6a3b3022",
   "metadata": {},
   "source": [
    "nombre_infected       864\n",
    "nombre_sain          2173\n",
    "nombre_exposed        476\n",
    "nombre_recovered    16487\n",
    "Name: 354, dtype: int64"
   ]
  },
  {
   "cell_type": "markdown",
   "id": "4cb0f73e",
   "metadata": {},
   "source": [
    "nombre_infected       850\n",
    "nombre_sain          2163\n",
    "nombre_exposed        483\n",
    "nombre_recovered    16504\n",
    "Name: 355, dtype: int64"
   ]
  },
  {
   "cell_type": "markdown",
   "id": "89c2bf16",
   "metadata": {},
   "source": [
    "nombre_infected       829\n",
    "nombre_sain          2152\n",
    "nombre_exposed        497\n",
    "nombre_recovered    16522\n",
    "Name: 356, dtype: int64"
   ]
  },
  {
   "cell_type": "markdown",
   "id": "bf95275b",
   "metadata": {},
   "source": [
    "nombre_infected       830\n",
    "nombre_sain          2163\n",
    "nombre_exposed        491\n",
    "nombre_recovered    16516\n",
    "Name: 357, dtype: int64"
   ]
  },
  {
   "cell_type": "markdown",
   "id": "58713dd5",
   "metadata": {},
   "source": [
    "nombre_infected       827\n",
    "nombre_sain          2190\n",
    "nombre_exposed        489\n",
    "nombre_recovered    16494\n",
    "Name: 358, dtype: int64"
   ]
  },
  {
   "cell_type": "markdown",
   "id": "206d7fab",
   "metadata": {},
   "source": [
    "nombre_infected       817\n",
    "nombre_sain          2216\n",
    "nombre_exposed        499\n",
    "nombre_recovered    16468\n",
    "Name: 359, dtype: int64"
   ]
  },
  {
   "cell_type": "markdown",
   "id": "48ecd5cd",
   "metadata": {},
   "source": [
    "nombre_infected       840\n",
    "nombre_sain          2216\n",
    "nombre_exposed        509\n",
    "nombre_recovered    16435\n",
    "Name: 360, dtype: int64"
   ]
  },
  {
   "cell_type": "markdown",
   "id": "3808a760",
   "metadata": {},
   "source": [
    "nombre_infected       853\n",
    "nombre_sain          2222\n",
    "nombre_exposed        523\n",
    "nombre_recovered    16402\n",
    "Name: 361, dtype: int64"
   ]
  },
  {
   "cell_type": "markdown",
   "id": "de6d43e2",
   "metadata": {},
   "source": [
    "nombre_infected       858\n",
    "nombre_sain          2245\n",
    "nombre_exposed        506\n",
    "nombre_recovered    16391\n",
    "Name: 362, dtype: int64"
   ]
  },
  {
   "cell_type": "markdown",
   "id": "5bf13b2a",
   "metadata": {},
   "source": [
    "nombre_infected       852\n",
    "nombre_sain          2242\n",
    "nombre_exposed        520\n",
    "nombre_recovered    16386\n",
    "Name: 363, dtype: int64"
   ]
  },
  {
   "cell_type": "markdown",
   "id": "83db0259",
   "metadata": {},
   "source": [
    "nombre_infected       859\n",
    "nombre_sain          2234\n",
    "nombre_exposed        545\n",
    "nombre_recovered    16362\n",
    "Name: 364, dtype: int64"
   ]
  },
  {
   "cell_type": "markdown",
   "id": "f4c8921f",
   "metadata": {},
   "source": [
    "nombre_infected       838\n",
    "nombre_sain          2255\n",
    "nombre_exposed        564\n",
    "nombre_recovered    16343\n",
    "Name: 365, dtype: int64"
   ]
  },
  {
   "cell_type": "markdown",
   "id": "56993c4d",
   "metadata": {},
   "source": [
    "nombre_infected       848\n",
    "nombre_sain          2267\n",
    "nombre_exposed        562\n",
    "nombre_recovered    16323\n",
    "Name: 366, dtype: int64"
   ]
  },
  {
   "cell_type": "markdown",
   "id": "9a51e8d1",
   "metadata": {},
   "source": [
    "nombre_infected       867\n",
    "nombre_sain          2299\n",
    "nombre_exposed        547\n",
    "nombre_recovered    16287\n",
    "Name: 367, dtype: int64"
   ]
  },
  {
   "cell_type": "markdown",
   "id": "b51e8cee",
   "metadata": {},
   "source": [
    "nombre_infected       876\n",
    "nombre_sain          2329\n",
    "nombre_exposed        544\n",
    "nombre_recovered    16251\n",
    "Name: 368, dtype: int64"
   ]
  },
  {
   "cell_type": "markdown",
   "id": "928bd486",
   "metadata": {},
   "source": [
    "nombre_infected       880\n",
    "nombre_sain          2378\n",
    "nombre_exposed        522\n",
    "nombre_recovered    16220\n",
    "Name: 369, dtype: int64"
   ]
  },
  {
   "cell_type": "markdown",
   "id": "85a4b650",
   "metadata": {},
   "source": [
    "nombre_infected       898\n",
    "nombre_sain          2383\n",
    "nombre_exposed        523\n",
    "nombre_recovered    16196\n",
    "Name: 370, dtype: int64"
   ]
  },
  {
   "cell_type": "markdown",
   "id": "d4ce4757",
   "metadata": {},
   "source": [
    "nombre_infected       905\n",
    "nombre_sain          2404\n",
    "nombre_exposed        526\n",
    "nombre_recovered    16165\n",
    "Name: 371, dtype: int64"
   ]
  },
  {
   "cell_type": "markdown",
   "id": "ad4b0eb6",
   "metadata": {},
   "source": [
    "nombre_infected       916\n",
    "nombre_sain          2398\n",
    "nombre_exposed        528\n",
    "nombre_recovered    16158\n",
    "Name: 372, dtype: int64"
   ]
  },
  {
   "cell_type": "markdown",
   "id": "596b7c72",
   "metadata": {},
   "source": [
    "nombre_infected       910\n",
    "nombre_sain          2401\n",
    "nombre_exposed        546\n",
    "nombre_recovered    16143\n",
    "Name: 373, dtype: int64"
   ]
  },
  {
   "cell_type": "markdown",
   "id": "424a6eaf",
   "metadata": {},
   "source": [
    "nombre_infected       926\n",
    "nombre_sain          2381\n",
    "nombre_exposed        548\n",
    "nombre_recovered    16145\n",
    "Name: 374, dtype: int64"
   ]
  },
  {
   "cell_type": "markdown",
   "id": "9653e3f3",
   "metadata": {},
   "source": [
    "nombre_infected       921\n",
    "nombre_sain          2355\n",
    "nombre_exposed        566\n",
    "nombre_recovered    16158\n",
    "Name: 375, dtype: int64"
   ]
  },
  {
   "cell_type": "markdown",
   "id": "916c4cd1",
   "metadata": {},
   "source": [
    "nombre_infected       965\n",
    "nombre_sain          2318\n",
    "nombre_exposed        573\n",
    "nombre_recovered    16144\n",
    "Name: 376, dtype: int64"
   ]
  },
  {
   "cell_type": "markdown",
   "id": "3306526f",
   "metadata": {},
   "source": [
    "nombre_infected       968\n",
    "nombre_sain          2314\n",
    "nombre_exposed        591\n",
    "nombre_recovered    16127\n",
    "Name: 377, dtype: int64"
   ]
  },
  {
   "cell_type": "markdown",
   "id": "7f2184ea",
   "metadata": {},
   "source": [
    "nombre_infected       984\n",
    "nombre_sain          2281\n",
    "nombre_exposed        599\n",
    "nombre_recovered    16136\n",
    "Name: 378, dtype: int64"
   ]
  },
  {
   "cell_type": "markdown",
   "id": "934f1796",
   "metadata": {},
   "source": [
    "nombre_infected      1006\n",
    "nombre_sain          2245\n",
    "nombre_exposed        622\n",
    "nombre_recovered    16127\n",
    "Name: 379, dtype: int64"
   ]
  },
  {
   "cell_type": "markdown",
   "id": "92fd1a39",
   "metadata": {},
   "source": [
    "nombre_infected      1041\n",
    "nombre_sain          2225\n",
    "nombre_exposed        621\n",
    "nombre_recovered    16113\n",
    "Name: 380, dtype: int64"
   ]
  },
  {
   "cell_type": "markdown",
   "id": "59208f26",
   "metadata": {},
   "source": [
    "nombre_infected      1077\n",
    "nombre_sain          2191\n",
    "nombre_exposed        629\n",
    "nombre_recovered    16103\n",
    "Name: 381, dtype: int64"
   ]
  },
  {
   "cell_type": "markdown",
   "id": "7a47c7d4",
   "metadata": {},
   "source": [
    "nombre_infected      1064\n",
    "nombre_sain          2181\n",
    "nombre_exposed        624\n",
    "nombre_recovered    16131\n",
    "Name: 382, dtype: int64"
   ]
  },
  {
   "cell_type": "markdown",
   "id": "1eb58efe",
   "metadata": {},
   "source": [
    "nombre_infected      1082\n",
    "nombre_sain          2189\n",
    "nombre_exposed        611\n",
    "nombre_recovered    16118\n",
    "Name: 383, dtype: int64"
   ]
  },
  {
   "cell_type": "markdown",
   "id": "9924cfd6",
   "metadata": {},
   "source": [
    "nombre_infected      1094\n",
    "nombre_sain          2161\n",
    "nombre_exposed        613\n",
    "nombre_recovered    16132\n",
    "Name: 384, dtype: int64"
   ]
  },
  {
   "cell_type": "markdown",
   "id": "d095c87c",
   "metadata": {},
   "source": [
    "nombre_infected      1108\n",
    "nombre_sain          2134\n",
    "nombre_exposed        631\n",
    "nombre_recovered    16127\n",
    "Name: 385, dtype: int64"
   ]
  },
  {
   "cell_type": "markdown",
   "id": "0e887d53",
   "metadata": {},
   "source": [
    "nombre_infected      1132\n",
    "nombre_sain          2115\n",
    "nombre_exposed        630\n",
    "nombre_recovered    16123\n",
    "Name: 386, dtype: int64"
   ]
  },
  {
   "cell_type": "markdown",
   "id": "36451e8f",
   "metadata": {},
   "source": [
    "nombre_infected      1151\n",
    "nombre_sain          2101\n",
    "nombre_exposed        610\n",
    "nombre_recovered    16138\n",
    "Name: 387, dtype: int64"
   ]
  },
  {
   "cell_type": "markdown",
   "id": "418f8378",
   "metadata": {},
   "source": [
    "nombre_infected      1139\n",
    "nombre_sain          2123\n",
    "nombre_exposed        589\n",
    "nombre_recovered    16149\n",
    "Name: 388, dtype: int64"
   ]
  },
  {
   "cell_type": "markdown",
   "id": "15f3863d",
   "metadata": {},
   "source": [
    "nombre_infected      1142\n",
    "nombre_sain          2127\n",
    "nombre_exposed        565\n",
    "nombre_recovered    16166\n",
    "Name: 389, dtype: int64"
   ]
  },
  {
   "cell_type": "markdown",
   "id": "5520bcd4",
   "metadata": {},
   "source": [
    "nombre_infected      1136\n",
    "nombre_sain          2117\n",
    "nombre_exposed        566\n",
    "nombre_recovered    16181\n",
    "Name: 390, dtype: int64"
   ]
  },
  {
   "cell_type": "markdown",
   "id": "8fb5054d",
   "metadata": {},
   "source": [
    "nombre_infected      1142\n",
    "nombre_sain          2105\n",
    "nombre_exposed        578\n",
    "nombre_recovered    16175\n",
    "Name: 391, dtype: int64"
   ]
  },
  {
   "cell_type": "markdown",
   "id": "8a3b8d01",
   "metadata": {},
   "source": [
    "nombre_infected      1124\n",
    "nombre_sain          2088\n",
    "nombre_exposed        602\n",
    "nombre_recovered    16186\n",
    "Name: 392, dtype: int64"
   ]
  },
  {
   "cell_type": "markdown",
   "id": "ae7bbb13",
   "metadata": {},
   "source": [
    "nombre_infected      1101\n",
    "nombre_sain          2059\n",
    "nombre_exposed        654\n",
    "nombre_recovered    16186\n",
    "Name: 393, dtype: int64"
   ]
  },
  {
   "cell_type": "markdown",
   "id": "b7ea0cf2",
   "metadata": {},
   "source": [
    "nombre_infected      1109\n",
    "nombre_sain          2022\n",
    "nombre_exposed        657\n",
    "nombre_recovered    16212\n",
    "Name: 394, dtype: int64"
   ]
  },
  {
   "cell_type": "markdown",
   "id": "96f16e29",
   "metadata": {},
   "source": [
    "nombre_infected      1117\n",
    "nombre_sain          2015\n",
    "nombre_exposed        653\n",
    "nombre_recovered    16215\n",
    "Name: 395, dtype: int64"
   ]
  },
  {
   "cell_type": "markdown",
   "id": "d4b59984",
   "metadata": {},
   "source": [
    "nombre_infected      1121\n",
    "nombre_sain          1990\n",
    "nombre_exposed        653\n",
    "nombre_recovered    16236\n",
    "Name: 396, dtype: int64"
   ]
  },
  {
   "cell_type": "markdown",
   "id": "a85c155a",
   "metadata": {},
   "source": [
    "nombre_infected      1128\n",
    "nombre_sain          1965\n",
    "nombre_exposed        666\n",
    "nombre_recovered    16241\n",
    "Name: 397, dtype: int64"
   ]
  },
  {
   "cell_type": "markdown",
   "id": "52d9996a",
   "metadata": {},
   "source": [
    "nombre_infected      1148\n",
    "nombre_sain          1942\n",
    "nombre_exposed        641\n",
    "nombre_recovered    16269\n",
    "Name: 398, dtype: int64"
   ]
  },
  {
   "cell_type": "markdown",
   "id": "67e6ecee",
   "metadata": {},
   "source": [
    "nombre_infected      1126\n",
    "nombre_sain          1943\n",
    "nombre_exposed        620\n",
    "nombre_recovered    16311\n",
    "Name: 399, dtype: int64"
   ]
  },
  {
   "cell_type": "markdown",
   "id": "04d1751f",
   "metadata": {},
   "source": [
    "nombre_infected      1111\n",
    "nombre_sain          1943\n",
    "nombre_exposed        620\n",
    "nombre_recovered    16326\n",
    "Name: 400, dtype: int64"
   ]
  },
  {
   "cell_type": "markdown",
   "id": "dec40bd6",
   "metadata": {},
   "source": [
    "nombre_infected      1081\n",
    "nombre_sain          1937\n",
    "nombre_exposed        620\n",
    "nombre_recovered    16362\n",
    "Name: 401, dtype: int64"
   ]
  },
  {
   "cell_type": "markdown",
   "id": "50623a69",
   "metadata": {},
   "source": [
    "nombre_infected      1079\n",
    "nombre_sain          1926\n",
    "nombre_exposed        605\n",
    "nombre_recovered    16390\n",
    "Name: 402, dtype: int64"
   ]
  },
  {
   "cell_type": "markdown",
   "id": "1d622e36",
   "metadata": {},
   "source": [
    "nombre_infected      1082\n",
    "nombre_sain          1923\n",
    "nombre_exposed        584\n",
    "nombre_recovered    16411\n",
    "Name: 403, dtype: int64"
   ]
  },
  {
   "cell_type": "markdown",
   "id": "28a798bf",
   "metadata": {},
   "source": [
    "nombre_infected      1068\n",
    "nombre_sain          1933\n",
    "nombre_exposed        587\n",
    "nombre_recovered    16412\n",
    "Name: 404, dtype: int64"
   ]
  },
  {
   "cell_type": "markdown",
   "id": "a67e9472",
   "metadata": {},
   "source": [
    "nombre_infected      1071\n",
    "nombre_sain          1913\n",
    "nombre_exposed        600\n",
    "nombre_recovered    16416\n",
    "Name: 405, dtype: int64"
   ]
  },
  {
   "cell_type": "markdown",
   "id": "41419373",
   "metadata": {},
   "source": [
    "nombre_infected      1063\n",
    "nombre_sain          1893\n",
    "nombre_exposed        620\n",
    "nombre_recovered    16424\n",
    "Name: 406, dtype: int64"
   ]
  },
  {
   "cell_type": "markdown",
   "id": "2dce9f63",
   "metadata": {},
   "source": [
    "nombre_infected      1074\n",
    "nombre_sain          1893\n",
    "nombre_exposed        593\n",
    "nombre_recovered    16440\n",
    "Name: 407, dtype: int64"
   ]
  },
  {
   "cell_type": "markdown",
   "id": "196aa1fd",
   "metadata": {},
   "source": [
    "nombre_infected      1089\n",
    "nombre_sain          1895\n",
    "nombre_exposed        566\n",
    "nombre_recovered    16450\n",
    "Name: 408, dtype: int64"
   ]
  },
  {
   "cell_type": "markdown",
   "id": "b1cb71eb",
   "metadata": {},
   "source": [
    "nombre_infected      1114\n",
    "nombre_sain          1899\n",
    "nombre_exposed        552\n",
    "nombre_recovered    16435\n",
    "Name: 409, dtype: int64"
   ]
  },
  {
   "cell_type": "markdown",
   "id": "9edf08d5",
   "metadata": {},
   "source": [
    "nombre_infected      1112\n",
    "nombre_sain          1871\n",
    "nombre_exposed        565\n",
    "nombre_recovered    16452\n",
    "Name: 410, dtype: int64"
   ]
  },
  {
   "cell_type": "markdown",
   "id": "1cecf2e6",
   "metadata": {},
   "source": [
    "nombre_infected      1096\n",
    "nombre_sain          1845\n",
    "nombre_exposed        565\n",
    "nombre_recovered    16494\n",
    "Name: 411, dtype: int64"
   ]
  },
  {
   "cell_type": "markdown",
   "id": "905abdcf",
   "metadata": {},
   "source": [
    "nombre_infected      1085\n",
    "nombre_sain          1817\n",
    "nombre_exposed        585\n",
    "nombre_recovered    16513\n",
    "Name: 412, dtype: int64"
   ]
  },
  {
   "cell_type": "markdown",
   "id": "a5a1238c",
   "metadata": {},
   "source": [
    "nombre_infected      1081\n",
    "nombre_sain          1784\n",
    "nombre_exposed        593\n",
    "nombre_recovered    16542\n",
    "Name: 413, dtype: int64"
   ]
  },
  {
   "cell_type": "markdown",
   "id": "a5c0967a",
   "metadata": {},
   "source": [
    "nombre_infected      1070\n",
    "nombre_sain          1767\n",
    "nombre_exposed        590\n",
    "nombre_recovered    16573\n",
    "Name: 414, dtype: int64"
   ]
  },
  {
   "cell_type": "markdown",
   "id": "25ea74bb",
   "metadata": {},
   "source": [
    "nombre_infected      1115\n",
    "nombre_sain          1765\n",
    "nombre_exposed        539\n",
    "nombre_recovered    16581\n",
    "Name: 415, dtype: int64"
   ]
  },
  {
   "cell_type": "markdown",
   "id": "5ec7a2dc",
   "metadata": {},
   "source": [
    "nombre_infected      1105\n",
    "nombre_sain          1779\n",
    "nombre_exposed        533\n",
    "nombre_recovered    16583\n",
    "Name: 416, dtype: int64"
   ]
  },
  {
   "cell_type": "markdown",
   "id": "305e2df3",
   "metadata": {},
   "source": [
    "nombre_infected      1085\n",
    "nombre_sain          1803\n",
    "nombre_exposed        526\n",
    "nombre_recovered    16586\n",
    "Name: 417, dtype: int64"
   ]
  },
  {
   "cell_type": "markdown",
   "id": "3bd77bb6",
   "metadata": {},
   "source": [
    "nombre_infected      1080\n",
    "nombre_sain          1797\n",
    "nombre_exposed        538\n",
    "nombre_recovered    16585\n",
    "Name: 418, dtype: int64"
   ]
  },
  {
   "cell_type": "markdown",
   "id": "8b6793df",
   "metadata": {},
   "source": [
    "nombre_infected      1040\n",
    "nombre_sain          1787\n",
    "nombre_exposed        544\n",
    "nombre_recovered    16629\n",
    "Name: 419, dtype: int64"
   ]
  },
  {
   "cell_type": "markdown",
   "id": "29c37fb9",
   "metadata": {},
   "source": [
    "nombre_infected      1052\n",
    "nombre_sain          1795\n",
    "nombre_exposed        526\n",
    "nombre_recovered    16627\n",
    "Name: 420, dtype: int64"
   ]
  },
  {
   "cell_type": "markdown",
   "id": "9c9593b4",
   "metadata": {},
   "source": [
    "nombre_infected      1048\n",
    "nombre_sain          1812\n",
    "nombre_exposed        500\n",
    "nombre_recovered    16640\n",
    "Name: 421, dtype: int64"
   ]
  },
  {
   "cell_type": "markdown",
   "id": "ae1ae23b",
   "metadata": {},
   "source": [
    "nombre_infected      1031\n",
    "nombre_sain          1819\n",
    "nombre_exposed        519\n",
    "nombre_recovered    16631\n",
    "Name: 422, dtype: int64"
   ]
  },
  {
   "cell_type": "markdown",
   "id": "1292ee47",
   "metadata": {},
   "source": [
    "nombre_infected      1006\n",
    "nombre_sain          1834\n",
    "nombre_exposed        516\n",
    "nombre_recovered    16644\n",
    "Name: 423, dtype: int64"
   ]
  },
  {
   "cell_type": "markdown",
   "id": "527f4840",
   "metadata": {},
   "source": [
    "nombre_infected      1020\n",
    "nombre_sain          1848\n",
    "nombre_exposed        488\n",
    "nombre_recovered    16644\n",
    "Name: 424, dtype: int64"
   ]
  },
  {
   "cell_type": "markdown",
   "id": "c1b1cbf5",
   "metadata": {},
   "source": [
    "nombre_infected      1031\n",
    "nombre_sain          1860\n",
    "nombre_exposed        478\n",
    "nombre_recovered    16631\n",
    "Name: 425, dtype: int64"
   ]
  },
  {
   "cell_type": "markdown",
   "id": "be9a5b40",
   "metadata": {},
   "source": [
    "nombre_infected      1017\n",
    "nombre_sain          1867\n",
    "nombre_exposed        477\n",
    "nombre_recovered    16639\n",
    "Name: 426, dtype: int64"
   ]
  },
  {
   "cell_type": "markdown",
   "id": "40534f88",
   "metadata": {},
   "source": [
    "nombre_infected      1007\n",
    "nombre_sain          1883\n",
    "nombre_exposed        464\n",
    "nombre_recovered    16646\n",
    "Name: 427, dtype: int64"
   ]
  },
  {
   "cell_type": "markdown",
   "id": "31b691d0",
   "metadata": {},
   "source": [
    "nombre_infected       994\n",
    "nombre_sain          1887\n",
    "nombre_exposed        456\n",
    "nombre_recovered    16663\n",
    "Name: 428, dtype: int64"
   ]
  },
  {
   "cell_type": "markdown",
   "id": "7b24db77",
   "metadata": {},
   "source": [
    "nombre_infected       965\n",
    "nombre_sain          1910\n",
    "nombre_exposed        470\n",
    "nombre_recovered    16655\n",
    "Name: 429, dtype: int64"
   ]
  },
  {
   "cell_type": "markdown",
   "id": "97ff7ea0",
   "metadata": {},
   "source": [
    "nombre_infected       970\n",
    "nombre_sain          1911\n",
    "nombre_exposed        476\n",
    "nombre_recovered    16643\n",
    "Name: 430, dtype: int64"
   ]
  },
  {
   "cell_type": "markdown",
   "id": "eb9ea184",
   "metadata": {},
   "source": [
    "nombre_infected       986\n",
    "nombre_sain          1924\n",
    "nombre_exposed        455\n",
    "nombre_recovered    16635\n",
    "Name: 431, dtype: int64"
   ]
  },
  {
   "cell_type": "markdown",
   "id": "73b0668e",
   "metadata": {},
   "source": [
    "nombre_infected       967\n",
    "nombre_sain          1946\n",
    "nombre_exposed        447\n",
    "nombre_recovered    16640\n",
    "Name: 432, dtype: int64"
   ]
  },
  {
   "cell_type": "markdown",
   "id": "e072f219",
   "metadata": {},
   "source": [
    "nombre_infected       982\n",
    "nombre_sain          1955\n",
    "nombre_exposed        445\n",
    "nombre_recovered    16618\n",
    "Name: 433, dtype: int64"
   ]
  },
  {
   "cell_type": "markdown",
   "id": "3004493b",
   "metadata": {},
   "source": [
    "nombre_infected       968\n",
    "nombre_sain          1952\n",
    "nombre_exposed        441\n",
    "nombre_recovered    16639\n",
    "Name: 434, dtype: int64"
   ]
  },
  {
   "cell_type": "markdown",
   "id": "160552c1",
   "metadata": {},
   "source": [
    "nombre_infected       980\n",
    "nombre_sain          1945\n",
    "nombre_exposed        430\n",
    "nombre_recovered    16645\n",
    "Name: 435, dtype: int64"
   ]
  },
  {
   "cell_type": "markdown",
   "id": "2b2770d5",
   "metadata": {},
   "source": [
    "nombre_infected       963\n",
    "nombre_sain          1952\n",
    "nombre_exposed        427\n",
    "nombre_recovered    16658\n",
    "Name: 436, dtype: int64"
   ]
  },
  {
   "cell_type": "markdown",
   "id": "6ba83dd9",
   "metadata": {},
   "source": [
    "nombre_infected       946\n",
    "nombre_sain          1928\n",
    "nombre_exposed        435\n",
    "nombre_recovered    16691\n",
    "Name: 437, dtype: int64"
   ]
  },
  {
   "cell_type": "markdown",
   "id": "417f19bc",
   "metadata": {},
   "source": [
    "nombre_infected       920\n",
    "nombre_sain          1941\n",
    "nombre_exposed        424\n",
    "nombre_recovered    16715\n",
    "Name: 438, dtype: int64"
   ]
  },
  {
   "cell_type": "markdown",
   "id": "33956d43",
   "metadata": {},
   "source": [
    "nombre_infected       917\n",
    "nombre_sain          1961\n",
    "nombre_exposed        395\n",
    "nombre_recovered    16727\n",
    "Name: 439, dtype: int64"
   ]
  },
  {
   "cell_type": "markdown",
   "id": "d2caaaf7",
   "metadata": {},
   "source": [
    "nombre_infected       897\n",
    "nombre_sain          1970\n",
    "nombre_exposed        401\n",
    "nombre_recovered    16732\n",
    "Name: 440, dtype: int64"
   ]
  },
  {
   "cell_type": "markdown",
   "id": "0e1625b3",
   "metadata": {},
   "source": [
    "nombre_infected       895\n",
    "nombre_sain          1966\n",
    "nombre_exposed        417\n",
    "nombre_recovered    16722\n",
    "Name: 441, dtype: int64"
   ]
  },
  {
   "cell_type": "markdown",
   "id": "9a16cf64",
   "metadata": {},
   "source": [
    "nombre_infected       879\n",
    "nombre_sain          1973\n",
    "nombre_exposed        423\n",
    "nombre_recovered    16725\n",
    "Name: 442, dtype: int64"
   ]
  },
  {
   "cell_type": "markdown",
   "id": "be265dbc",
   "metadata": {},
   "source": [
    "nombre_infected       868\n",
    "nombre_sain          1979\n",
    "nombre_exposed        419\n",
    "nombre_recovered    16734\n",
    "Name: 443, dtype: int64"
   ]
  },
  {
   "cell_type": "markdown",
   "id": "53e9c290",
   "metadata": {},
   "source": [
    "nombre_infected       870\n",
    "nombre_sain          2005\n",
    "nombre_exposed        416\n",
    "nombre_recovered    16709\n",
    "Name: 444, dtype: int64"
   ]
  },
  {
   "cell_type": "markdown",
   "id": "66d06687",
   "metadata": {},
   "source": [
    "nombre_infected       879\n",
    "nombre_sain          2051\n",
    "nombre_exposed        384\n",
    "nombre_recovered    16686\n",
    "Name: 445, dtype: int64"
   ]
  },
  {
   "cell_type": "markdown",
   "id": "420bf880",
   "metadata": {},
   "source": [
    "nombre_infected       856\n",
    "nombre_sain          2067\n",
    "nombre_exposed        380\n",
    "nombre_recovered    16697\n",
    "Name: 446, dtype: int64"
   ]
  },
  {
   "cell_type": "markdown",
   "id": "6309531f",
   "metadata": {},
   "source": [
    "nombre_infected       840\n",
    "nombre_sain          2103\n",
    "nombre_exposed        381\n",
    "nombre_recovered    16676\n",
    "Name: 447, dtype: int64"
   ]
  },
  {
   "cell_type": "markdown",
   "id": "e4ac8382",
   "metadata": {},
   "source": [
    "nombre_infected       821\n",
    "nombre_sain          2113\n",
    "nombre_exposed        379\n",
    "nombre_recovered    16687\n",
    "Name: 448, dtype: int64"
   ]
  },
  {
   "cell_type": "markdown",
   "id": "24ac2957",
   "metadata": {},
   "source": [
    "nombre_infected       800\n",
    "nombre_sain          2115\n",
    "nombre_exposed        396\n",
    "nombre_recovered    16689\n",
    "Name: 449, dtype: int64"
   ]
  },
  {
   "cell_type": "markdown",
   "id": "5f968401",
   "metadata": {},
   "source": [
    "nombre_infected       777\n",
    "nombre_sain          2124\n",
    "nombre_exposed        409\n",
    "nombre_recovered    16690\n",
    "Name: 450, dtype: int64"
   ]
  },
  {
   "cell_type": "markdown",
   "id": "e0d6da47",
   "metadata": {},
   "source": [
    "nombre_infected       757\n",
    "nombre_sain          2127\n",
    "nombre_exposed        417\n",
    "nombre_recovered    16699\n",
    "Name: 451, dtype: int64"
   ]
  },
  {
   "cell_type": "markdown",
   "id": "1f41434a",
   "metadata": {},
   "source": [
    "nombre_infected       789\n",
    "nombre_sain          2182\n",
    "nombre_exposed        375\n",
    "nombre_recovered    16654\n",
    "Name: 452, dtype: int64"
   ]
  },
  {
   "cell_type": "markdown",
   "id": "f8de67d9",
   "metadata": {},
   "source": [
    "nombre_infected       806\n",
    "nombre_sain          2174\n",
    "nombre_exposed        375\n",
    "nombre_recovered    16645\n",
    "Name: 453, dtype: int64"
   ]
  },
  {
   "cell_type": "markdown",
   "id": "b032b1ff",
   "metadata": {},
   "source": [
    "nombre_infected       796\n",
    "nombre_sain          2182\n",
    "nombre_exposed        399\n",
    "nombre_recovered    16623\n",
    "Name: 454, dtype: int64"
   ]
  },
  {
   "cell_type": "markdown",
   "id": "b33b5df7",
   "metadata": {},
   "source": [
    "nombre_infected       792\n",
    "nombre_sain          2208\n",
    "nombre_exposed        406\n",
    "nombre_recovered    16594\n",
    "Name: 455, dtype: int64"
   ]
  },
  {
   "cell_type": "markdown",
   "id": "276cf24f",
   "metadata": {},
   "source": [
    "nombre_infected       801\n",
    "nombre_sain          2183\n",
    "nombre_exposed        440\n",
    "nombre_recovered    16576\n",
    "Name: 456, dtype: int64"
   ]
  },
  {
   "cell_type": "markdown",
   "id": "9e308b98",
   "metadata": {},
   "source": [
    "nombre_infected       785\n",
    "nombre_sain          2205\n",
    "nombre_exposed        443\n",
    "nombre_recovered    16567\n",
    "Name: 457, dtype: int64"
   ]
  },
  {
   "cell_type": "markdown",
   "id": "905ec02d",
   "metadata": {},
   "source": [
    "nombre_infected       796\n",
    "nombre_sain          2234\n",
    "nombre_exposed        458\n",
    "nombre_recovered    16512\n",
    "Name: 458, dtype: int64"
   ]
  },
  {
   "cell_type": "markdown",
   "id": "d3cf9e46",
   "metadata": {},
   "source": [
    "nombre_infected       823\n",
    "nombre_sain          2249\n",
    "nombre_exposed        451\n",
    "nombre_recovered    16477\n",
    "Name: 459, dtype: int64"
   ]
  },
  {
   "cell_type": "markdown",
   "id": "fde0a03d",
   "metadata": {},
   "source": [
    "nombre_infected       845\n",
    "nombre_sain          2279\n",
    "nombre_exposed        430\n",
    "nombre_recovered    16446\n",
    "Name: 460, dtype: int64"
   ]
  },
  {
   "cell_type": "markdown",
   "id": "25c7b59a",
   "metadata": {},
   "source": [
    "nombre_infected       844\n",
    "nombre_sain          2298\n",
    "nombre_exposed        421\n",
    "nombre_recovered    16437\n",
    "Name: 461, dtype: int64"
   ]
  },
  {
   "cell_type": "markdown",
   "id": "9c749cb9",
   "metadata": {},
   "source": [
    "nombre_infected       842\n",
    "nombre_sain          2306\n",
    "nombre_exposed        421\n",
    "nombre_recovered    16431\n",
    "Name: 462, dtype: int64"
   ]
  },
  {
   "cell_type": "markdown",
   "id": "bdec99cb",
   "metadata": {},
   "source": [
    "nombre_infected       826\n",
    "nombre_sain          2348\n",
    "nombre_exposed        437\n",
    "nombre_recovered    16389\n",
    "Name: 463, dtype: int64"
   ]
  },
  {
   "cell_type": "markdown",
   "id": "d63d2a8e",
   "metadata": {},
   "source": [
    "nombre_infected       831\n",
    "nombre_sain          2356\n",
    "nombre_exposed        444\n",
    "nombre_recovered    16369\n",
    "Name: 464, dtype: int64"
   ]
  },
  {
   "cell_type": "markdown",
   "id": "aeb81646",
   "metadata": {},
   "source": [
    "nombre_infected       834\n",
    "nombre_sain          2368\n",
    "nombre_exposed        460\n",
    "nombre_recovered    16338\n",
    "Name: 465, dtype: int64"
   ]
  },
  {
   "cell_type": "markdown",
   "id": "c6bfff29",
   "metadata": {},
   "source": [
    "nombre_infected       851\n",
    "nombre_sain          2394\n",
    "nombre_exposed        464\n",
    "nombre_recovered    16291\n",
    "Name: 466, dtype: int64"
   ]
  },
  {
   "cell_type": "markdown",
   "id": "12e81f9b",
   "metadata": {},
   "source": [
    "nombre_infected       839\n",
    "nombre_sain          2402\n",
    "nombre_exposed        483\n",
    "nombre_recovered    16276\n",
    "Name: 467, dtype: int64"
   ]
  },
  {
   "cell_type": "markdown",
   "id": "f8ba25f4",
   "metadata": {},
   "source": [
    "nombre_infected       830\n",
    "nombre_sain          2430\n",
    "nombre_exposed        481\n",
    "nombre_recovered    16259\n",
    "Name: 468, dtype: int64"
   ]
  },
  {
   "cell_type": "markdown",
   "id": "65d7e80c",
   "metadata": {},
   "source": [
    "nombre_infected       841\n",
    "nombre_sain          2454\n",
    "nombre_exposed        477\n",
    "nombre_recovered    16228\n",
    "Name: 469, dtype: int64"
   ]
  },
  {
   "cell_type": "markdown",
   "id": "0e0d4b5a",
   "metadata": {},
   "source": [
    "nombre_infected       829\n",
    "nombre_sain          2470\n",
    "nombre_exposed        501\n",
    "nombre_recovered    16200\n",
    "Name: 470, dtype: int64"
   ]
  },
  {
   "cell_type": "markdown",
   "id": "9b867c7b",
   "metadata": {},
   "source": [
    "nombre_infected       836\n",
    "nombre_sain          2485\n",
    "nombre_exposed        505\n",
    "nombre_recovered    16174\n",
    "Name: 471, dtype: int64"
   ]
  },
  {
   "cell_type": "markdown",
   "id": "e5a4f731",
   "metadata": {},
   "source": [
    "nombre_infected       859\n",
    "nombre_sain          2472\n",
    "nombre_exposed        502\n",
    "nombre_recovered    16167\n",
    "Name: 472, dtype: int64"
   ]
  },
  {
   "cell_type": "markdown",
   "id": "0dc39f16",
   "metadata": {},
   "source": [
    "nombre_infected       869\n",
    "nombre_sain          2475\n",
    "nombre_exposed        517\n",
    "nombre_recovered    16139\n",
    "Name: 473, dtype: int64"
   ]
  },
  {
   "cell_type": "markdown",
   "id": "1d738271",
   "metadata": {},
   "source": [
    "nombre_infected       884\n",
    "nombre_sain          2456\n",
    "nombre_exposed        550\n",
    "nombre_recovered    16110\n",
    "Name: 474, dtype: int64"
   ]
  },
  {
   "cell_type": "markdown",
   "id": "4e89c6ce",
   "metadata": {},
   "source": [
    "nombre_infected       893\n",
    "nombre_sain          2471\n",
    "nombre_exposed        546\n",
    "nombre_recovered    16090\n",
    "Name: 475, dtype: int64"
   ]
  },
  {
   "cell_type": "markdown",
   "id": "844bb80b",
   "metadata": {},
   "source": [
    "nombre_infected       905\n",
    "nombre_sain          2449\n",
    "nombre_exposed        551\n",
    "nombre_recovered    16095\n",
    "Name: 476, dtype: int64"
   ]
  },
  {
   "cell_type": "markdown",
   "id": "e83c5f14",
   "metadata": {},
   "source": [
    "nombre_infected       942\n",
    "nombre_sain          2450\n",
    "nombre_exposed        539\n",
    "nombre_recovered    16069\n",
    "Name: 477, dtype: int64"
   ]
  },
  {
   "cell_type": "markdown",
   "id": "fe9c609e",
   "metadata": {},
   "source": [
    "nombre_infected       946\n",
    "nombre_sain          2440\n",
    "nombre_exposed        549\n",
    "nombre_recovered    16065\n",
    "Name: 478, dtype: int64"
   ]
  },
  {
   "cell_type": "markdown",
   "id": "0f225e5d",
   "metadata": {},
   "source": [
    "nombre_infected       950\n",
    "nombre_sain          2419\n",
    "nombre_exposed        569\n",
    "nombre_recovered    16062\n",
    "Name: 479, dtype: int64"
   ]
  },
  {
   "cell_type": "markdown",
   "id": "80978f8c",
   "metadata": {},
   "source": [
    "nombre_infected       930\n",
    "nombre_sain          2394\n",
    "nombre_exposed        592\n",
    "nombre_recovered    16084\n",
    "Name: 480, dtype: int64"
   ]
  },
  {
   "cell_type": "markdown",
   "id": "cbf56fd2",
   "metadata": {},
   "source": [
    "nombre_infected       957\n",
    "nombre_sain          2374\n",
    "nombre_exposed        600\n",
    "nombre_recovered    16069\n",
    "Name: 481, dtype: int64"
   ]
  },
  {
   "cell_type": "markdown",
   "id": "68fa9865",
   "metadata": {},
   "source": [
    "nombre_infected       939\n",
    "nombre_sain          2361\n",
    "nombre_exposed        604\n",
    "nombre_recovered    16096\n",
    "Name: 482, dtype: int64"
   ]
  },
  {
   "cell_type": "markdown",
   "id": "c3f75e81",
   "metadata": {},
   "source": [
    "nombre_infected       958\n",
    "nombre_sain          2363\n",
    "nombre_exposed        590\n",
    "nombre_recovered    16089\n",
    "Name: 483, dtype: int64"
   ]
  },
  {
   "cell_type": "markdown",
   "id": "f09d6e67",
   "metadata": {},
   "source": [
    "nombre_infected       986\n",
    "nombre_sain          2348\n",
    "nombre_exposed        585\n",
    "nombre_recovered    16081\n",
    "Name: 484, dtype: int64"
   ]
  },
  {
   "cell_type": "markdown",
   "id": "0c7dff3e",
   "metadata": {},
   "source": [
    "nombre_infected       994\n",
    "nombre_sain          2338\n",
    "nombre_exposed        584\n",
    "nombre_recovered    16084\n",
    "Name: 485, dtype: int64"
   ]
  },
  {
   "cell_type": "markdown",
   "id": "01bd63e3",
   "metadata": {},
   "source": [
    "nombre_infected       995\n",
    "nombre_sain          2308\n",
    "nombre_exposed        586\n",
    "nombre_recovered    16111\n",
    "Name: 486, dtype: int64"
   ]
  },
  {
   "cell_type": "markdown",
   "id": "95bec73e",
   "metadata": {},
   "source": [
    "nombre_infected      1002\n",
    "nombre_sain          2290\n",
    "nombre_exposed        599\n",
    "nombre_recovered    16109\n",
    "Name: 487, dtype: int64"
   ]
  },
  {
   "cell_type": "markdown",
   "id": "3e1c7a5c",
   "metadata": {},
   "source": [
    "nombre_infected      1037\n",
    "nombre_sain          2255\n",
    "nombre_exposed        602\n",
    "nombre_recovered    16106\n",
    "Name: 488, dtype: int64"
   ]
  },
  {
   "cell_type": "markdown",
   "id": "6f6d9484",
   "metadata": {},
   "source": [
    "nombre_infected      1053\n",
    "nombre_sain          2240\n",
    "nombre_exposed        586\n",
    "nombre_recovered    16121\n",
    "Name: 489, dtype: int64"
   ]
  },
  {
   "cell_type": "markdown",
   "id": "f62c1348",
   "metadata": {},
   "source": [
    "nombre_infected      1065\n",
    "nombre_sain          2198\n",
    "nombre_exposed        586\n",
    "nombre_recovered    16151\n",
    "Name: 490, dtype: int64"
   ]
  },
  {
   "cell_type": "markdown",
   "id": "d9de244e",
   "metadata": {},
   "source": [
    "nombre_infected      1068\n",
    "nombre_sain          2185\n",
    "nombre_exposed        587\n",
    "nombre_recovered    16160\n",
    "Name: 491, dtype: int64"
   ]
  },
  {
   "cell_type": "markdown",
   "id": "24ff9329",
   "metadata": {},
   "source": [
    "nombre_infected      1092\n",
    "nombre_sain          2145\n",
    "nombre_exposed        588\n",
    "nombre_recovered    16175\n",
    "Name: 492, dtype: int64"
   ]
  },
  {
   "cell_type": "markdown",
   "id": "5c392cb1",
   "metadata": {},
   "source": [
    "nombre_infected      1088\n",
    "nombre_sain          2105\n",
    "nombre_exposed        609\n",
    "nombre_recovered    16198\n",
    "Name: 493, dtype: int64"
   ]
  },
  {
   "cell_type": "markdown",
   "id": "1acb8b5f",
   "metadata": {},
   "source": [
    "nombre_infected      1098\n",
    "nombre_sain          2083\n",
    "nombre_exposed        591\n",
    "nombre_recovered    16228\n",
    "Name: 494, dtype: int64"
   ]
  },
  {
   "cell_type": "markdown",
   "id": "daaf94ed",
   "metadata": {},
   "source": [
    "nombre_infected      1116\n",
    "nombre_sain          2066\n",
    "nombre_exposed        575\n",
    "nombre_recovered    16243\n",
    "Name: 495, dtype: int64"
   ]
  },
  {
   "cell_type": "markdown",
   "id": "3b6bb3be",
   "metadata": {},
   "source": [
    "nombre_infected      1122\n",
    "nombre_sain          2047\n",
    "nombre_exposed        580\n",
    "nombre_recovered    16251\n",
    "Name: 496, dtype: int64"
   ]
  },
  {
   "cell_type": "markdown",
   "id": "f80fedf8",
   "metadata": {},
   "source": [
    "nombre_infected      1150\n",
    "nombre_sain          2050\n",
    "nombre_exposed        553\n",
    "nombre_recovered    16247\n",
    "Name: 497, dtype: int64"
   ]
  },
  {
   "cell_type": "markdown",
   "id": "a3be901b",
   "metadata": {},
   "source": [
    "nombre_infected      1109\n",
    "nombre_sain          2047\n",
    "nombre_exposed        558\n",
    "nombre_recovered    16286\n",
    "Name: 498, dtype: int64"
   ]
  },
  {
   "cell_type": "markdown",
   "id": "41c9f682",
   "metadata": {},
   "source": [
    "nombre_infected      1084\n",
    "nombre_sain          2029\n",
    "nombre_exposed        591\n",
    "nombre_recovered    16296\n",
    "Name: 499, dtype: int64"
   ]
  },
  {
   "cell_type": "markdown",
   "id": "2d42d89f",
   "metadata": {},
   "source": [
    "nombre_infected      1079\n",
    "nombre_sain          2014\n",
    "nombre_exposed        581\n",
    "nombre_recovered    16326\n",
    "Name: 500, dtype: int64"
   ]
  },
  {
   "cell_type": "markdown",
   "id": "57e14b6f",
   "metadata": {},
   "source": [
    "nombre_infected      1097\n",
    "nombre_sain          2040\n",
    "nombre_exposed        553\n",
    "nombre_recovered    16310\n",
    "Name: 501, dtype: int64"
   ]
  },
  {
   "cell_type": "markdown",
   "id": "0b8a75ba",
   "metadata": {},
   "source": [
    "nombre_infected      1095\n",
    "nombre_sain          2031\n",
    "nombre_exposed        558\n",
    "nombre_recovered    16316\n",
    "Name: 502, dtype: int64"
   ]
  },
  {
   "cell_type": "markdown",
   "id": "21c8c90b",
   "metadata": {},
   "source": [
    "nombre_infected      1078\n",
    "nombre_sain          2024\n",
    "nombre_exposed        564\n",
    "nombre_recovered    16334\n",
    "Name: 503, dtype: int64"
   ]
  },
  {
   "cell_type": "markdown",
   "id": "9f02fa5f",
   "metadata": {},
   "source": [
    "nombre_infected      1081\n",
    "nombre_sain          2040\n",
    "nombre_exposed        548\n",
    "nombre_recovered    16331\n",
    "Name: 504, dtype: int64"
   ]
  },
  {
   "cell_type": "markdown",
   "id": "3a845459",
   "metadata": {},
   "source": [
    "nombre_infected      1111\n",
    "nombre_sain          2015\n",
    "nombre_exposed        524\n",
    "nombre_recovered    16350\n",
    "Name: 505, dtype: int64"
   ]
  },
  {
   "cell_type": "markdown",
   "id": "86882eff",
   "metadata": {},
   "source": [
    "nombre_infected      1132\n",
    "nombre_sain          1986\n",
    "nombre_exposed        535\n",
    "nombre_recovered    16347\n",
    "Name: 506, dtype: int64"
   ]
  },
  {
   "cell_type": "markdown",
   "id": "ba58aa28",
   "metadata": {},
   "source": [
    "nombre_infected      1114\n",
    "nombre_sain          1993\n",
    "nombre_exposed        528\n",
    "nombre_recovered    16365\n",
    "Name: 507, dtype: int64"
   ]
  },
  {
   "cell_type": "markdown",
   "id": "bc8a6b0b",
   "metadata": {},
   "source": [
    "nombre_infected      1118\n",
    "nombre_sain          1980\n",
    "nombre_exposed        534\n",
    "nombre_recovered    16368\n",
    "Name: 508, dtype: int64"
   ]
  },
  {
   "cell_type": "markdown",
   "id": "3dd79239",
   "metadata": {},
   "source": [
    "nombre_infected      1108\n",
    "nombre_sain          1968\n",
    "nombre_exposed        550\n",
    "nombre_recovered    16374\n",
    "Name: 509, dtype: int64"
   ]
  },
  {
   "cell_type": "markdown",
   "id": "f4a1b659",
   "metadata": {},
   "source": [
    "nombre_infected      1091\n",
    "nombre_sain          1929\n",
    "nombre_exposed        582\n",
    "nombre_recovered    16398\n",
    "Name: 510, dtype: int64"
   ]
  },
  {
   "cell_type": "markdown",
   "id": "c1d1a658",
   "metadata": {},
   "source": [
    "nombre_infected      1075\n",
    "nombre_sain          1900\n",
    "nombre_exposed        587\n",
    "nombre_recovered    16438\n",
    "Name: 511, dtype: int64"
   ]
  },
  {
   "cell_type": "markdown",
   "id": "23ffd896",
   "metadata": {},
   "source": [
    "nombre_infected      1071\n",
    "nombre_sain          1899\n",
    "nombre_exposed        575\n",
    "nombre_recovered    16455\n",
    "Name: 512, dtype: int64"
   ]
  },
  {
   "cell_type": "markdown",
   "id": "75b9dda6",
   "metadata": {},
   "source": [
    "nombre_infected      1073\n",
    "nombre_sain          1867\n",
    "nombre_exposed        584\n",
    "nombre_recovered    16476\n",
    "Name: 513, dtype: int64"
   ]
  },
  {
   "cell_type": "markdown",
   "id": "9d39873c",
   "metadata": {},
   "source": [
    "nombre_infected      1075\n",
    "nombre_sain          1880\n",
    "nombre_exposed        575\n",
    "nombre_recovered    16470\n",
    "Name: 514, dtype: int64"
   ]
  },
  {
   "cell_type": "markdown",
   "id": "a65aa534",
   "metadata": {},
   "source": [
    "nombre_infected      1098\n",
    "nombre_sain          1859\n",
    "nombre_exposed        555\n",
    "nombre_recovered    16488\n",
    "Name: 515, dtype: int64"
   ]
  },
  {
   "cell_type": "markdown",
   "id": "10d681a9",
   "metadata": {},
   "source": [
    "nombre_infected      1080\n",
    "nombre_sain          1855\n",
    "nombre_exposed        555\n",
    "nombre_recovered    16510\n",
    "Name: 516, dtype: int64"
   ]
  },
  {
   "cell_type": "markdown",
   "id": "a444c852",
   "metadata": {},
   "source": [
    "nombre_infected      1058\n",
    "nombre_sain          1856\n",
    "nombre_exposed        550\n",
    "nombre_recovered    16536\n",
    "Name: 517, dtype: int64"
   ]
  },
  {
   "cell_type": "markdown",
   "id": "ddebfd24",
   "metadata": {},
   "source": [
    "nombre_infected      1044\n",
    "nombre_sain          1858\n",
    "nombre_exposed        543\n",
    "nombre_recovered    16555\n",
    "Name: 518, dtype: int64"
   ]
  },
  {
   "cell_type": "markdown",
   "id": "92ad2be9",
   "metadata": {},
   "source": [
    "nombre_infected      1040\n",
    "nombre_sain          1865\n",
    "nombre_exposed        523\n",
    "nombre_recovered    16572\n",
    "Name: 519, dtype: int64"
   ]
  },
  {
   "cell_type": "markdown",
   "id": "a0cff68a",
   "metadata": {},
   "source": [
    "nombre_infected      1038\n",
    "nombre_sain          1834\n",
    "nombre_exposed        541\n",
    "nombre_recovered    16587\n",
    "Name: 520, dtype: int64"
   ]
  },
  {
   "cell_type": "markdown",
   "id": "4947fc56",
   "metadata": {},
   "source": [
    "nombre_infected      1015\n",
    "nombre_sain          1847\n",
    "nombre_exposed        533\n",
    "nombre_recovered    16605\n",
    "Name: 521, dtype: int64"
   ]
  },
  {
   "cell_type": "markdown",
   "id": "1eb34d50",
   "metadata": {},
   "source": [
    "nombre_infected       985\n",
    "nombre_sain          1850\n",
    "nombre_exposed        550\n",
    "nombre_recovered    16615\n",
    "Name: 522, dtype: int64"
   ]
  },
  {
   "cell_type": "markdown",
   "id": "8f96056c",
   "metadata": {},
   "source": [
    "nombre_infected       983\n",
    "nombre_sain          1864\n",
    "nombre_exposed        529\n",
    "nombre_recovered    16624\n",
    "Name: 523, dtype: int64"
   ]
  },
  {
   "cell_type": "markdown",
   "id": "b2bbc4e1",
   "metadata": {},
   "source": [
    "nombre_infected       984\n",
    "nombre_sain          1853\n",
    "nombre_exposed        521\n",
    "nombre_recovered    16642\n",
    "Name: 524, dtype: int64"
   ]
  },
  {
   "cell_type": "markdown",
   "id": "a64b1292",
   "metadata": {},
   "source": [
    "nombre_infected       954\n",
    "nombre_sain          1849\n",
    "nombre_exposed        528\n",
    "nombre_recovered    16669\n",
    "Name: 525, dtype: int64"
   ]
  },
  {
   "cell_type": "markdown",
   "id": "f3494995",
   "metadata": {},
   "source": [
    "nombre_infected       945\n",
    "nombre_sain          1873\n",
    "nombre_exposed        519\n",
    "nombre_recovered    16663\n",
    "Name: 526, dtype: int64"
   ]
  },
  {
   "cell_type": "markdown",
   "id": "ca023fdf",
   "metadata": {},
   "source": [
    "nombre_infected       946\n",
    "nombre_sain          1911\n",
    "nombre_exposed        498\n",
    "nombre_recovered    16645\n",
    "Name: 527, dtype: int64"
   ]
  },
  {
   "cell_type": "markdown",
   "id": "28357c5e",
   "metadata": {},
   "source": [
    "nombre_infected       937\n",
    "nombre_sain          1920\n",
    "nombre_exposed        498\n",
    "nombre_recovered    16645\n",
    "Name: 528, dtype: int64"
   ]
  },
  {
   "cell_type": "markdown",
   "id": "3f774b4d",
   "metadata": {},
   "source": [
    "nombre_infected       915\n",
    "nombre_sain          1929\n",
    "nombre_exposed        499\n",
    "nombre_recovered    16657\n",
    "Name: 529, dtype: int64"
   ]
  },
  {
   "cell_type": "markdown",
   "id": "4f4fd1ec",
   "metadata": {},
   "source": [
    "nombre_infected       918\n",
    "nombre_sain          1953\n",
    "nombre_exposed        462\n",
    "nombre_recovered    16667\n",
    "Name: 530, dtype: int64"
   ]
  },
  {
   "cell_type": "markdown",
   "id": "24c197b3",
   "metadata": {},
   "source": [
    "nombre_infected       927\n",
    "nombre_sain          1940\n",
    "nombre_exposed        464\n",
    "nombre_recovered    16669\n",
    "Name: 531, dtype: int64"
   ]
  },
  {
   "cell_type": "markdown",
   "id": "4d8d96ae",
   "metadata": {},
   "source": [
    "nombre_infected       883\n",
    "nombre_sain          1955\n",
    "nombre_exposed        471\n",
    "nombre_recovered    16691\n",
    "Name: 532, dtype: int64"
   ]
  },
  {
   "cell_type": "markdown",
   "id": "d3cba28f",
   "metadata": {},
   "source": [
    "nombre_infected       837\n",
    "nombre_sain          1982\n",
    "nombre_exposed        468\n",
    "nombre_recovered    16713\n",
    "Name: 533, dtype: int64"
   ]
  },
  {
   "cell_type": "markdown",
   "id": "6219d0ed",
   "metadata": {},
   "source": [
    "nombre_infected       822\n",
    "nombre_sain          1998\n",
    "nombre_exposed        459\n",
    "nombre_recovered    16721\n",
    "Name: 534, dtype: int64"
   ]
  },
  {
   "cell_type": "markdown",
   "id": "4366fa31",
   "metadata": {},
   "source": [
    "nombre_infected       794\n",
    "nombre_sain          2036\n",
    "nombre_exposed        465\n",
    "nombre_recovered    16705\n",
    "Name: 535, dtype: int64"
   ]
  },
  {
   "cell_type": "markdown",
   "id": "f7fd28d0",
   "metadata": {},
   "source": [
    "nombre_infected       776\n",
    "nombre_sain          2033\n",
    "nombre_exposed        493\n",
    "nombre_recovered    16698\n",
    "Name: 536, dtype: int64"
   ]
  },
  {
   "cell_type": "markdown",
   "id": "f298fe83",
   "metadata": {},
   "source": [
    "nombre_infected       790\n",
    "nombre_sain          2057\n",
    "nombre_exposed        486\n",
    "nombre_recovered    16667\n",
    "Name: 537, dtype: int64"
   ]
  },
  {
   "cell_type": "markdown",
   "id": "6fb89836",
   "metadata": {},
   "source": [
    "nombre_infected       818\n",
    "nombre_sain          2096\n",
    "nombre_exposed        458\n",
    "nombre_recovered    16628\n",
    "Name: 538, dtype: int64"
   ]
  },
  {
   "cell_type": "markdown",
   "id": "d816e1fa",
   "metadata": {},
   "source": [
    "nombre_infected       823\n",
    "nombre_sain          2111\n",
    "nombre_exposed        442\n",
    "nombre_recovered    16624\n",
    "Name: 539, dtype: int64"
   ]
  },
  {
   "cell_type": "markdown",
   "id": "04942d87",
   "metadata": {},
   "source": [
    "nombre_infected       806\n",
    "nombre_sain          2129\n",
    "nombre_exposed        445\n",
    "nombre_recovered    16620\n",
    "Name: 540, dtype: int64"
   ]
  },
  {
   "cell_type": "markdown",
   "id": "7a58d7cf",
   "metadata": {},
   "source": [
    "nombre_infected       810\n",
    "nombre_sain          2153\n",
    "nombre_exposed        436\n",
    "nombre_recovered    16601\n",
    "Name: 541, dtype: int64"
   ]
  },
  {
   "cell_type": "markdown",
   "id": "f2de445f",
   "metadata": {},
   "source": [
    "nombre_infected       821\n",
    "nombre_sain          2157\n",
    "nombre_exposed        426\n",
    "nombre_recovered    16596\n",
    "Name: 542, dtype: int64"
   ]
  },
  {
   "cell_type": "markdown",
   "id": "4b26528b",
   "metadata": {},
   "source": [
    "nombre_infected       819\n",
    "nombre_sain          2194\n",
    "nombre_exposed        429\n",
    "nombre_recovered    16558\n",
    "Name: 543, dtype: int64"
   ]
  },
  {
   "cell_type": "markdown",
   "id": "b524831a",
   "metadata": {},
   "source": [
    "nombre_infected       783\n",
    "nombre_sain          2193\n",
    "nombre_exposed        459\n",
    "nombre_recovered    16565\n",
    "Name: 544, dtype: int64"
   ]
  },
  {
   "cell_type": "markdown",
   "id": "651ca075",
   "metadata": {},
   "source": [
    "nombre_infected       783\n",
    "nombre_sain          2191\n",
    "nombre_exposed        481\n",
    "nombre_recovered    16545\n",
    "Name: 545, dtype: int64"
   ]
  },
  {
   "cell_type": "markdown",
   "id": "0056931f",
   "metadata": {},
   "source": [
    "nombre_infected       793\n",
    "nombre_sain          2193\n",
    "nombre_exposed        476\n",
    "nombre_recovered    16538\n",
    "Name: 546, dtype: int64"
   ]
  },
  {
   "cell_type": "markdown",
   "id": "f14fa49f",
   "metadata": {},
   "source": [
    "nombre_infected       806\n",
    "nombre_sain          2213\n",
    "nombre_exposed        458\n",
    "nombre_recovered    16523\n",
    "Name: 547, dtype: int64"
   ]
  },
  {
   "cell_type": "markdown",
   "id": "62f43d63",
   "metadata": {},
   "source": [
    "nombre_infected       813\n",
    "nombre_sain          2237\n",
    "nombre_exposed        431\n",
    "nombre_recovered    16519\n",
    "Name: 548, dtype: int64"
   ]
  },
  {
   "cell_type": "markdown",
   "id": "03bbcd6a",
   "metadata": {},
   "source": [
    "nombre_infected       811\n",
    "nombre_sain          2239\n",
    "nombre_exposed        449\n",
    "nombre_recovered    16501\n",
    "Name: 549, dtype: int64"
   ]
  },
  {
   "cell_type": "markdown",
   "id": "71106027",
   "metadata": {},
   "source": [
    "nombre_infected       807\n",
    "nombre_sain          2235\n",
    "nombre_exposed        465\n",
    "nombre_recovered    16493\n",
    "Name: 550, dtype: int64"
   ]
  },
  {
   "cell_type": "markdown",
   "id": "6b5fa780",
   "metadata": {},
   "source": [
    "nombre_infected       800\n",
    "nombre_sain          2257\n",
    "nombre_exposed        460\n",
    "nombre_recovered    16483\n",
    "Name: 551, dtype: int64"
   ]
  },
  {
   "cell_type": "markdown",
   "id": "0ba65dc1",
   "metadata": {},
   "source": [
    "nombre_infected       815\n",
    "nombre_sain          2245\n",
    "nombre_exposed        470\n",
    "nombre_recovered    16470\n",
    "Name: 552, dtype: int64"
   ]
  },
  {
   "cell_type": "markdown",
   "id": "103845be",
   "metadata": {},
   "source": [
    "nombre_infected       825\n",
    "nombre_sain          2284\n",
    "nombre_exposed        442\n",
    "nombre_recovered    16449\n",
    "Name: 553, dtype: int64"
   ]
  },
  {
   "cell_type": "markdown",
   "id": "e0d428df",
   "metadata": {},
   "source": [
    "nombre_infected       864\n",
    "nombre_sain          2290\n",
    "nombre_exposed        437\n",
    "nombre_recovered    16409\n",
    "Name: 554, dtype: int64"
   ]
  },
  {
   "cell_type": "markdown",
   "id": "97ef6edc",
   "metadata": {},
   "source": [
    "nombre_infected       865\n",
    "nombre_sain          2297\n",
    "nombre_exposed        467\n",
    "nombre_recovered    16371\n",
    "Name: 555, dtype: int64"
   ]
  },
  {
   "cell_type": "markdown",
   "id": "798ef5a0",
   "metadata": {},
   "source": [
    "nombre_infected       872\n",
    "nombre_sain          2279\n",
    "nombre_exposed        472\n",
    "nombre_recovered    16377\n",
    "Name: 556, dtype: int64"
   ]
  },
  {
   "cell_type": "markdown",
   "id": "30eec7c9",
   "metadata": {},
   "source": [
    "nombre_infected       860\n",
    "nombre_sain          2261\n",
    "nombre_exposed        506\n",
    "nombre_recovered    16373\n",
    "Name: 557, dtype: int64"
   ]
  },
  {
   "cell_type": "markdown",
   "id": "4b9cb14f",
   "metadata": {},
   "source": [
    "nombre_infected       854\n",
    "nombre_sain          2248\n",
    "nombre_exposed        525\n",
    "nombre_recovered    16373\n",
    "Name: 558, dtype: int64"
   ]
  },
  {
   "cell_type": "markdown",
   "id": "bf94b1d0",
   "metadata": {},
   "source": [
    "nombre_infected       885\n",
    "nombre_sain          2265\n",
    "nombre_exposed        504\n",
    "nombre_recovered    16346\n",
    "Name: 559, dtype: int64"
   ]
  },
  {
   "cell_type": "markdown",
   "id": "33fa1d85",
   "metadata": {},
   "source": [
    "nombre_infected       897\n",
    "nombre_sain          2248\n",
    "nombre_exposed        505\n",
    "nombre_recovered    16350\n",
    "Name: 560, dtype: int64"
   ]
  },
  {
   "cell_type": "markdown",
   "id": "0cfb134a",
   "metadata": {},
   "source": [
    "nombre_infected       897\n",
    "nombre_sain          2260\n",
    "nombre_exposed        522\n",
    "nombre_recovered    16321\n",
    "Name: 561, dtype: int64"
   ]
  },
  {
   "cell_type": "markdown",
   "id": "cd90cdbf",
   "metadata": {},
   "source": [
    "nombre_infected       939\n",
    "nombre_sain          2257\n",
    "nombre_exposed        504\n",
    "nombre_recovered    16300\n",
    "Name: 562, dtype: int64"
   ]
  },
  {
   "cell_type": "markdown",
   "id": "91df9227",
   "metadata": {},
   "source": [
    "nombre_infected       950\n",
    "nombre_sain          2222\n",
    "nombre_exposed        521\n",
    "nombre_recovered    16307\n",
    "Name: 563, dtype: int64"
   ]
  },
  {
   "cell_type": "markdown",
   "id": "cd3bb9e0",
   "metadata": {},
   "source": [
    "nombre_infected       949\n",
    "nombre_sain          2227\n",
    "nombre_exposed        539\n",
    "nombre_recovered    16285\n",
    "Name: 564, dtype: int64"
   ]
  },
  {
   "cell_type": "markdown",
   "id": "93aab283",
   "metadata": {},
   "source": [
    "nombre_infected       960\n",
    "nombre_sain          2217\n",
    "nombre_exposed        530\n",
    "nombre_recovered    16293\n",
    "Name: 565, dtype: int64"
   ]
  },
  {
   "cell_type": "markdown",
   "id": "45548239",
   "metadata": {},
   "source": [
    "nombre_infected       963\n",
    "nombre_sain          2255\n",
    "nombre_exposed        529\n",
    "nombre_recovered    16253\n",
    "Name: 566, dtype: int64"
   ]
  },
  {
   "cell_type": "markdown",
   "id": "c22aa7d6",
   "metadata": {},
   "source": [
    "nombre_infected       977\n",
    "nombre_sain          2232\n",
    "nombre_exposed        526\n",
    "nombre_recovered    16265\n",
    "Name: 567, dtype: int64"
   ]
  },
  {
   "cell_type": "markdown",
   "id": "1d523f96",
   "metadata": {},
   "source": [
    "nombre_infected       978\n",
    "nombre_sain          2214\n",
    "nombre_exposed        540\n",
    "nombre_recovered    16268\n",
    "Name: 568, dtype: int64"
   ]
  },
  {
   "cell_type": "markdown",
   "id": "17c12d5e",
   "metadata": {},
   "source": [
    "nombre_infected       993\n",
    "nombre_sain          2244\n",
    "nombre_exposed        518\n",
    "nombre_recovered    16245\n",
    "Name: 569, dtype: int64"
   ]
  },
  {
   "cell_type": "markdown",
   "id": "f2880963",
   "metadata": {},
   "source": [
    "nombre_infected       986\n",
    "nombre_sain          2250\n",
    "nombre_exposed        532\n",
    "nombre_recovered    16232\n",
    "Name: 570, dtype: int64"
   ]
  },
  {
   "cell_type": "markdown",
   "id": "0f75ac82",
   "metadata": {},
   "source": [
    "nombre_infected       968\n",
    "nombre_sain          2277\n",
    "nombre_exposed        525\n",
    "nombre_recovered    16230\n",
    "Name: 571, dtype: int64"
   ]
  },
  {
   "cell_type": "markdown",
   "id": "59ce829d",
   "metadata": {},
   "source": [
    "nombre_infected       965\n",
    "nombre_sain          2286\n",
    "nombre_exposed        554\n",
    "nombre_recovered    16195\n",
    "Name: 572, dtype: int64"
   ]
  },
  {
   "cell_type": "markdown",
   "id": "5c9215b6",
   "metadata": {},
   "source": [
    "nombre_infected       957\n",
    "nombre_sain          2305\n",
    "nombre_exposed        551\n",
    "nombre_recovered    16187\n",
    "Name: 573, dtype: int64"
   ]
  },
  {
   "cell_type": "markdown",
   "id": "a4fe828c",
   "metadata": {},
   "source": [
    "nombre_infected       954\n",
    "nombre_sain          2344\n",
    "nombre_exposed        527\n",
    "nombre_recovered    16175\n",
    "Name: 574, dtype: int64"
   ]
  },
  {
   "cell_type": "markdown",
   "id": "f1eee279",
   "metadata": {},
   "source": [
    "nombre_infected       971\n",
    "nombre_sain          2358\n",
    "nombre_exposed        553\n",
    "nombre_recovered    16118\n",
    "Name: 575, dtype: int64"
   ]
  },
  {
   "cell_type": "markdown",
   "id": "6fb8a326",
   "metadata": {},
   "source": [
    "nombre_infected       985\n",
    "nombre_sain          2359\n",
    "nombre_exposed        571\n",
    "nombre_recovered    16085\n",
    "Name: 576, dtype: int64"
   ]
  },
  {
   "cell_type": "markdown",
   "id": "bdee6bea",
   "metadata": {},
   "source": [
    "nombre_infected      1001\n",
    "nombre_sain          2352\n",
    "nombre_exposed        567\n",
    "nombre_recovered    16080\n",
    "Name: 577, dtype: int64"
   ]
  },
  {
   "cell_type": "markdown",
   "id": "1bc34e31",
   "metadata": {},
   "source": [
    "nombre_infected      1031\n",
    "nombre_sain          2339\n",
    "nombre_exposed        569\n",
    "nombre_recovered    16061\n",
    "Name: 578, dtype: int64"
   ]
  },
  {
   "cell_type": "markdown",
   "id": "3676379d",
   "metadata": {},
   "source": [
    "nombre_infected      1043\n",
    "nombre_sain          2351\n",
    "nombre_exposed        592\n",
    "nombre_recovered    16014\n",
    "Name: 579, dtype: int64"
   ]
  },
  {
   "cell_type": "markdown",
   "id": "7d7e1559",
   "metadata": {},
   "source": [
    "nombre_infected      1060\n",
    "nombre_sain          2359\n",
    "nombre_exposed        576\n",
    "nombre_recovered    16005\n",
    "Name: 580, dtype: int64"
   ]
  },
  {
   "cell_type": "markdown",
   "id": "db615c7e",
   "metadata": {},
   "source": [
    "nombre_infected      1054\n",
    "nombre_sain          2369\n",
    "nombre_exposed        582\n",
    "nombre_recovered    15995\n",
    "Name: 581, dtype: int64"
   ]
  },
  {
   "cell_type": "markdown",
   "id": "0006068e",
   "metadata": {},
   "source": [
    "nombre_infected      1047\n",
    "nombre_sain          2387\n",
    "nombre_exposed        587\n",
    "nombre_recovered    15979\n",
    "Name: 582, dtype: int64"
   ]
  },
  {
   "cell_type": "markdown",
   "id": "212162a6",
   "metadata": {},
   "source": [
    "nombre_infected      1041\n",
    "nombre_sain          2387\n",
    "nombre_exposed        625\n",
    "nombre_recovered    15947\n",
    "Name: 583, dtype: int64"
   ]
  },
  {
   "cell_type": "markdown",
   "id": "0dfbb697",
   "metadata": {},
   "source": [
    "nombre_infected      1050\n",
    "nombre_sain          2386\n",
    "nombre_exposed        636\n",
    "nombre_recovered    15928\n",
    "Name: 584, dtype: int64"
   ]
  },
  {
   "cell_type": "markdown",
   "id": "fbffbeff",
   "metadata": {},
   "source": [
    "nombre_infected      1078\n",
    "nombre_sain          2396\n",
    "nombre_exposed        624\n",
    "nombre_recovered    15902\n",
    "Name: 585, dtype: int64"
   ]
  },
  {
   "cell_type": "markdown",
   "id": "959084a7",
   "metadata": {},
   "source": [
    "nombre_infected      1123\n",
    "nombre_sain          2374\n",
    "nombre_exposed        612\n",
    "nombre_recovered    15891\n",
    "Name: 586, dtype: int64"
   ]
  },
  {
   "cell_type": "markdown",
   "id": "d0a42484",
   "metadata": {},
   "source": [
    "nombre_infected      1149\n",
    "nombre_sain          2374\n",
    "nombre_exposed        620\n",
    "nombre_recovered    15857\n",
    "Name: 587, dtype: int64"
   ]
  },
  {
   "cell_type": "markdown",
   "id": "1c8337ee",
   "metadata": {},
   "source": [
    "nombre_infected      1147\n",
    "nombre_sain          2369\n",
    "nombre_exposed        617\n",
    "nombre_recovered    15867\n",
    "Name: 588, dtype: int64"
   ]
  },
  {
   "cell_type": "markdown",
   "id": "edcbb1b5",
   "metadata": {},
   "source": [
    "nombre_infected      1170\n",
    "nombre_sain          2341\n",
    "nombre_exposed        628\n",
    "nombre_recovered    15861\n",
    "Name: 589, dtype: int64"
   ]
  },
  {
   "cell_type": "markdown",
   "id": "bd3799e0",
   "metadata": {},
   "source": [
    "nombre_infected      1170\n",
    "nombre_sain          2331\n",
    "nombre_exposed        637\n",
    "nombre_recovered    15862\n",
    "Name: 590, dtype: int64"
   ]
  },
  {
   "cell_type": "markdown",
   "id": "ebfa94b4",
   "metadata": {},
   "source": [
    "nombre_infected      1192\n",
    "nombre_sain          2301\n",
    "nombre_exposed        655\n",
    "nombre_recovered    15852\n",
    "Name: 591, dtype: int64"
   ]
  },
  {
   "cell_type": "markdown",
   "id": "c9521b35",
   "metadata": {},
   "source": [
    "nombre_infected      1225\n",
    "nombre_sain          2281\n",
    "nombre_exposed        644\n",
    "nombre_recovered    15850\n",
    "Name: 592, dtype: int64"
   ]
  },
  {
   "cell_type": "markdown",
   "id": "1c85acde",
   "metadata": {},
   "source": [
    "nombre_infected      1226\n",
    "nombre_sain          2243\n",
    "nombre_exposed        632\n",
    "nombre_recovered    15899\n",
    "Name: 593, dtype: int64"
   ]
  },
  {
   "cell_type": "markdown",
   "id": "30044b40",
   "metadata": {},
   "source": [
    "nombre_infected      1212\n",
    "nombre_sain          2216\n",
    "nombre_exposed        650\n",
    "nombre_recovered    15922\n",
    "Name: 594, dtype: int64"
   ]
  },
  {
   "cell_type": "markdown",
   "id": "7d6e384c",
   "metadata": {},
   "source": [
    "nombre_infected      1235\n",
    "nombre_sain          2157\n",
    "nombre_exposed        670\n",
    "nombre_recovered    15938\n",
    "Name: 595, dtype: int64"
   ]
  },
  {
   "cell_type": "markdown",
   "id": "63d1248e",
   "metadata": {},
   "source": [
    "nombre_infected      1249\n",
    "nombre_sain          2129\n",
    "nombre_exposed        689\n",
    "nombre_recovered    15933\n",
    "Name: 596, dtype: int64"
   ]
  },
  {
   "cell_type": "markdown",
   "id": "8d791af4",
   "metadata": {},
   "source": [
    "nombre_infected      1269\n",
    "nombre_sain          2105\n",
    "nombre_exposed        665\n",
    "nombre_recovered    15961\n",
    "Name: 597, dtype: int64"
   ]
  },
  {
   "cell_type": "markdown",
   "id": "b7eadd42",
   "metadata": {},
   "source": [
    "nombre_infected      1283\n",
    "nombre_sain          2077\n",
    "nombre_exposed        666\n",
    "nombre_recovered    15974\n",
    "Name: 598, dtype: int64"
   ]
  },
  {
   "cell_type": "markdown",
   "id": "7d19aa4c",
   "metadata": {},
   "source": [
    "nombre_infected      1285\n",
    "nombre_sain          2051\n",
    "nombre_exposed        656\n",
    "nombre_recovered    16008\n",
    "Name: 599, dtype: int64"
   ]
  },
  {
   "cell_type": "markdown",
   "id": "2a762747",
   "metadata": {},
   "source": [
    "nombre_infected      1303\n",
    "nombre_sain          2021\n",
    "nombre_exposed        661\n",
    "nombre_recovered    16015\n",
    "Name: 600, dtype: int64"
   ]
  },
  {
   "cell_type": "markdown",
   "id": "96e9b1d7",
   "metadata": {},
   "source": [
    "nombre_infected      1313\n",
    "nombre_sain          1966\n",
    "nombre_exposed        681\n",
    "nombre_recovered    16040\n",
    "Name: 601, dtype: int64"
   ]
  },
  {
   "cell_type": "markdown",
   "id": "6a6e0f6e",
   "metadata": {},
   "source": [
    "nombre_infected      1340\n",
    "nombre_sain          1937\n",
    "nombre_exposed        683\n",
    "nombre_recovered    16040\n",
    "Name: 602, dtype: int64"
   ]
  },
  {
   "cell_type": "markdown",
   "id": "07006fc8",
   "metadata": {},
   "source": [
    "nombre_infected      1358\n",
    "nombre_sain          1931\n",
    "nombre_exposed        658\n",
    "nombre_recovered    16053\n",
    "Name: 603, dtype: int64"
   ]
  },
  {
   "cell_type": "markdown",
   "id": "a5ab8eaa",
   "metadata": {},
   "source": [
    "nombre_infected      1372\n",
    "nombre_sain          1898\n",
    "nombre_exposed        656\n",
    "nombre_recovered    16074\n",
    "Name: 604, dtype: int64"
   ]
  },
  {
   "cell_type": "markdown",
   "id": "d2944e11",
   "metadata": {},
   "source": [
    "nombre_infected      1380\n",
    "nombre_sain          1887\n",
    "nombre_exposed        637\n",
    "nombre_recovered    16096\n",
    "Name: 605, dtype: int64"
   ]
  },
  {
   "cell_type": "markdown",
   "id": "16a020b9",
   "metadata": {},
   "source": [
    "nombre_infected      1353\n",
    "nombre_sain          1885\n",
    "nombre_exposed        630\n",
    "nombre_recovered    16132\n",
    "Name: 606, dtype: int64"
   ]
  },
  {
   "cell_type": "markdown",
   "id": "26700ffc",
   "metadata": {},
   "source": [
    "nombre_infected      1337\n",
    "nombre_sain          1834\n",
    "nombre_exposed        646\n",
    "nombre_recovered    16183\n",
    "Name: 607, dtype: int64"
   ]
  },
  {
   "cell_type": "markdown",
   "id": "cc1aad85",
   "metadata": {},
   "source": [
    "nombre_infected      1342\n",
    "nombre_sain          1796\n",
    "nombre_exposed        642\n",
    "nombre_recovered    16220\n",
    "Name: 608, dtype: int64"
   ]
  },
  {
   "cell_type": "markdown",
   "id": "038759c1",
   "metadata": {},
   "source": [
    "nombre_infected      1355\n",
    "nombre_sain          1796\n",
    "nombre_exposed        634\n",
    "nombre_recovered    16215\n",
    "Name: 609, dtype: int64"
   ]
  },
  {
   "cell_type": "markdown",
   "id": "efb4f9c4",
   "metadata": {},
   "source": [
    "nombre_infected      1341\n",
    "nombre_sain          1778\n",
    "nombre_exposed        637\n",
    "nombre_recovered    16244\n",
    "Name: 610, dtype: int64"
   ]
  },
  {
   "cell_type": "markdown",
   "id": "416568b2",
   "metadata": {},
   "source": [
    "nombre_infected      1353\n",
    "nombre_sain          1765\n",
    "nombre_exposed        608\n",
    "nombre_recovered    16274\n",
    "Name: 611, dtype: int64"
   ]
  },
  {
   "cell_type": "markdown",
   "id": "92a70c6a",
   "metadata": {},
   "source": [
    "nombre_infected      1362\n",
    "nombre_sain          1762\n",
    "nombre_exposed        574\n",
    "nombre_recovered    16302\n",
    "Name: 612, dtype: int64"
   ]
  },
  {
   "cell_type": "markdown",
   "id": "d2a26ef0",
   "metadata": {},
   "source": [
    "nombre_infected      1368\n",
    "nombre_sain          1778\n",
    "nombre_exposed        552\n",
    "nombre_recovered    16302\n",
    "Name: 613, dtype: int64"
   ]
  },
  {
   "cell_type": "markdown",
   "id": "6d2dfbf3",
   "metadata": {},
   "source": [
    "nombre_infected      1341\n",
    "nombre_sain          1807\n",
    "nombre_exposed        534\n",
    "nombre_recovered    16318\n",
    "Name: 614, dtype: int64"
   ]
  },
  {
   "cell_type": "markdown",
   "id": "9b783d57",
   "metadata": {},
   "source": [
    "nombre_infected      1324\n",
    "nombre_sain          1809\n",
    "nombre_exposed        548\n",
    "nombre_recovered    16319\n",
    "Name: 615, dtype: int64"
   ]
  },
  {
   "cell_type": "markdown",
   "id": "3e4bc508",
   "metadata": {},
   "source": [
    "nombre_infected      1300\n",
    "nombre_sain          1785\n",
    "nombre_exposed        551\n",
    "nombre_recovered    16364\n",
    "Name: 616, dtype: int64"
   ]
  },
  {
   "cell_type": "markdown",
   "id": "0b8f1570",
   "metadata": {},
   "source": [
    "nombre_infected      1269\n",
    "nombre_sain          1772\n",
    "nombre_exposed        536\n",
    "nombre_recovered    16423\n",
    "Name: 617, dtype: int64"
   ]
  },
  {
   "cell_type": "markdown",
   "id": "9e88ffe3",
   "metadata": {},
   "source": [
    "nombre_infected      1262\n",
    "nombre_sain          1762\n",
    "nombre_exposed        511\n",
    "nombre_recovered    16465\n",
    "Name: 618, dtype: int64"
   ]
  },
  {
   "cell_type": "markdown",
   "id": "e52551db",
   "metadata": {},
   "source": [
    "nombre_infected      1270\n",
    "nombre_sain          1734\n",
    "nombre_exposed        508\n",
    "nombre_recovered    16488\n",
    "Name: 619, dtype: int64"
   ]
  },
  {
   "cell_type": "markdown",
   "id": "2e5c33b8",
   "metadata": {},
   "source": [
    "nombre_infected      1246\n",
    "nombre_sain          1744\n",
    "nombre_exposed        518\n",
    "nombre_recovered    16492\n",
    "Name: 620, dtype: int64"
   ]
  },
  {
   "cell_type": "markdown",
   "id": "570622d3",
   "metadata": {},
   "source": [
    "nombre_infected      1226\n",
    "nombre_sain          1782\n",
    "nombre_exposed        497\n",
    "nombre_recovered    16495\n",
    "Name: 621, dtype: int64"
   ]
  },
  {
   "cell_type": "markdown",
   "id": "752511c5",
   "metadata": {},
   "source": [
    "nombre_infected      1204\n",
    "nombre_sain          1788\n",
    "nombre_exposed        525\n",
    "nombre_recovered    16483\n",
    "Name: 622, dtype: int64"
   ]
  },
  {
   "cell_type": "markdown",
   "id": "65227093",
   "metadata": {},
   "source": [
    "nombre_infected      1174\n",
    "nombre_sain          1819\n",
    "nombre_exposed        497\n",
    "nombre_recovered    16510\n",
    "Name: 623, dtype: int64"
   ]
  },
  {
   "cell_type": "markdown",
   "id": "d5884aff",
   "metadata": {},
   "source": [
    "nombre_infected      1155\n",
    "nombre_sain          1810\n",
    "nombre_exposed        513\n",
    "nombre_recovered    16522\n",
    "Name: 624, dtype: int64"
   ]
  },
  {
   "cell_type": "markdown",
   "id": "012e0b1c",
   "metadata": {},
   "source": [
    "nombre_infected      1142\n",
    "nombre_sain          1828\n",
    "nombre_exposed        504\n",
    "nombre_recovered    16526\n",
    "Name: 625, dtype: int64"
   ]
  },
  {
   "cell_type": "markdown",
   "id": "9c17155d",
   "metadata": {},
   "source": [
    "nombre_infected      1114\n",
    "nombre_sain          1833\n",
    "nombre_exposed        518\n",
    "nombre_recovered    16535\n",
    "Name: 626, dtype: int64"
   ]
  },
  {
   "cell_type": "markdown",
   "id": "8bbc5cde",
   "metadata": {},
   "source": [
    "nombre_infected      1086\n",
    "nombre_sain          1873\n",
    "nombre_exposed        489\n",
    "nombre_recovered    16552\n",
    "Name: 627, dtype: int64"
   ]
  },
  {
   "cell_type": "markdown",
   "id": "c578c575",
   "metadata": {},
   "source": [
    "nombre_infected      1052\n",
    "nombre_sain          1912\n",
    "nombre_exposed        471\n",
    "nombre_recovered    16565\n",
    "Name: 628, dtype: int64"
   ]
  },
  {
   "cell_type": "markdown",
   "id": "0aabf6e9",
   "metadata": {},
   "source": [
    "nombre_infected      1026\n",
    "nombre_sain          1916\n",
    "nombre_exposed        476\n",
    "nombre_recovered    16582\n",
    "Name: 629, dtype: int64"
   ]
  },
  {
   "cell_type": "markdown",
   "id": "a4274285",
   "metadata": {},
   "source": [
    "nombre_infected       986\n",
    "nombre_sain          1941\n",
    "nombre_exposed        472\n",
    "nombre_recovered    16601\n",
    "Name: 630, dtype: int64"
   ]
  },
  {
   "cell_type": "markdown",
   "id": "85ef0b7e",
   "metadata": {},
   "source": [
    "nombre_infected       953\n",
    "nombre_sain          1959\n",
    "nombre_exposed        486\n",
    "nombre_recovered    16602\n",
    "Name: 631, dtype: int64"
   ]
  },
  {
   "cell_type": "markdown",
   "id": "f4c0a3ae",
   "metadata": {},
   "source": [
    "nombre_infected       938\n",
    "nombre_sain          1994\n",
    "nombre_exposed        480\n",
    "nombre_recovered    16588\n",
    "Name: 632, dtype: int64"
   ]
  },
  {
   "cell_type": "markdown",
   "id": "7104147c",
   "metadata": {},
   "source": [
    "nombre_infected       933\n",
    "nombre_sain          1993\n",
    "nombre_exposed        484\n",
    "nombre_recovered    16590\n",
    "Name: 633, dtype: int64"
   ]
  },
  {
   "cell_type": "markdown",
   "id": "61e84549",
   "metadata": {},
   "source": [
    "nombre_infected       927\n",
    "nombre_sain          2035\n",
    "nombre_exposed        466\n",
    "nombre_recovered    16572\n",
    "Name: 634, dtype: int64"
   ]
  },
  {
   "cell_type": "markdown",
   "id": "0fdb5f93",
   "metadata": {},
   "source": [
    "nombre_infected       920\n",
    "nombre_sain          2061\n",
    "nombre_exposed        455\n",
    "nombre_recovered    16564\n",
    "Name: 635, dtype: int64"
   ]
  },
  {
   "cell_type": "markdown",
   "id": "ee2cf70a",
   "metadata": {},
   "source": [
    "nombre_infected       913\n",
    "nombre_sain          2043\n",
    "nombre_exposed        467\n",
    "nombre_recovered    16577\n",
    "Name: 636, dtype: int64"
   ]
  },
  {
   "cell_type": "markdown",
   "id": "86207926",
   "metadata": {},
   "source": [
    "nombre_infected       896\n",
    "nombre_sain          2068\n",
    "nombre_exposed        479\n",
    "nombre_recovered    16557\n",
    "Name: 637, dtype: int64"
   ]
  },
  {
   "cell_type": "markdown",
   "id": "eef21328",
   "metadata": {},
   "source": [
    "nombre_infected       899\n",
    "nombre_sain          2105\n",
    "nombre_exposed        461\n",
    "nombre_recovered    16535\n",
    "Name: 638, dtype: int64"
   ]
  },
  {
   "cell_type": "markdown",
   "id": "0534a303",
   "metadata": {},
   "source": [
    "nombre_infected       878\n",
    "nombre_sain          2140\n",
    "nombre_exposed        448\n",
    "nombre_recovered    16534\n",
    "Name: 639, dtype: int64"
   ]
  },
  {
   "cell_type": "markdown",
   "id": "2092750e",
   "metadata": {},
   "source": [
    "nombre_infected       832\n",
    "nombre_sain          2161\n",
    "nombre_exposed        449\n",
    "nombre_recovered    16558\n",
    "Name: 640, dtype: int64"
   ]
  },
  {
   "cell_type": "markdown",
   "id": "a5cf1cc6",
   "metadata": {},
   "source": [
    "nombre_infected       814\n",
    "nombre_sain          2213\n",
    "nombre_exposed        458\n",
    "nombre_recovered    16515\n",
    "Name: 641, dtype: int64"
   ]
  },
  {
   "cell_type": "markdown",
   "id": "28f62193",
   "metadata": {},
   "source": [
    "nombre_infected       813\n",
    "nombre_sain          2231\n",
    "nombre_exposed        451\n",
    "nombre_recovered    16505\n",
    "Name: 642, dtype: int64"
   ]
  },
  {
   "cell_type": "markdown",
   "id": "c70c69d0",
   "metadata": {},
   "source": [
    "nombre_infected       818\n",
    "nombre_sain          2264\n",
    "nombre_exposed        430\n",
    "nombre_recovered    16488\n",
    "Name: 643, dtype: int64"
   ]
  },
  {
   "cell_type": "markdown",
   "id": "bbeba355",
   "metadata": {},
   "source": [
    "nombre_infected       801\n",
    "nombre_sain          2291\n",
    "nombre_exposed        432\n",
    "nombre_recovered    16476\n",
    "Name: 644, dtype: int64"
   ]
  },
  {
   "cell_type": "markdown",
   "id": "99fd6423",
   "metadata": {},
   "source": [
    "nombre_infected       794\n",
    "nombre_sain          2298\n",
    "nombre_exposed        453\n",
    "nombre_recovered    16455\n",
    "Name: 645, dtype: int64"
   ]
  },
  {
   "cell_type": "markdown",
   "id": "93a6e5dc",
   "metadata": {},
   "source": [
    "nombre_infected       783\n",
    "nombre_sain          2312\n",
    "nombre_exposed        459\n",
    "nombre_recovered    16446\n",
    "Name: 646, dtype: int64"
   ]
  },
  {
   "cell_type": "markdown",
   "id": "202d88de",
   "metadata": {},
   "source": [
    "nombre_infected       789\n",
    "nombre_sain          2338\n",
    "nombre_exposed        467\n",
    "nombre_recovered    16406\n",
    "Name: 647, dtype: int64"
   ]
  },
  {
   "cell_type": "markdown",
   "id": "f85d691e",
   "metadata": {},
   "source": [
    "nombre_infected       793\n",
    "nombre_sain          2344\n",
    "nombre_exposed        489\n",
    "nombre_recovered    16374\n",
    "Name: 648, dtype: int64"
   ]
  },
  {
   "cell_type": "markdown",
   "id": "36f9a7de",
   "metadata": {},
   "source": [
    "nombre_infected       800\n",
    "nombre_sain          2388\n",
    "nombre_exposed        462\n",
    "nombre_recovered    16350\n",
    "Name: 649, dtype: int64"
   ]
  },
  {
   "cell_type": "markdown",
   "id": "64b8f77f",
   "metadata": {},
   "source": [
    "nombre_infected       811\n",
    "nombre_sain          2418\n",
    "nombre_exposed        455\n",
    "nombre_recovered    16316\n",
    "Name: 650, dtype: int64"
   ]
  },
  {
   "cell_type": "markdown",
   "id": "bac86896",
   "metadata": {},
   "source": [
    "nombre_infected       824\n",
    "nombre_sain          2414\n",
    "nombre_exposed        464\n",
    "nombre_recovered    16298\n",
    "Name: 651, dtype: int64"
   ]
  },
  {
   "cell_type": "markdown",
   "id": "8ab1bf58",
   "metadata": {},
   "source": [
    "nombre_infected       834\n",
    "nombre_sain          2396\n",
    "nombre_exposed        466\n",
    "nombre_recovered    16304\n",
    "Name: 652, dtype: int64"
   ]
  },
  {
   "cell_type": "markdown",
   "id": "77f21abe",
   "metadata": {},
   "source": [
    "nombre_infected       825\n",
    "nombre_sain          2404\n",
    "nombre_exposed        479\n",
    "nombre_recovered    16292\n",
    "Name: 653, dtype: int64"
   ]
  },
  {
   "cell_type": "markdown",
   "id": "efb1190c",
   "metadata": {},
   "source": [
    "nombre_infected       834\n",
    "nombre_sain          2399\n",
    "nombre_exposed        488\n",
    "nombre_recovered    16279\n",
    "Name: 654, dtype: int64"
   ]
  },
  {
   "cell_type": "markdown",
   "id": "f186f5b1",
   "metadata": {},
   "source": [
    "nombre_infected       821\n",
    "nombre_sain          2404\n",
    "nombre_exposed        505\n",
    "nombre_recovered    16270\n",
    "Name: 655, dtype: int64"
   ]
  },
  {
   "cell_type": "markdown",
   "id": "3c66e24d",
   "metadata": {},
   "source": [
    "nombre_infected       847\n",
    "nombre_sain          2388\n",
    "nombre_exposed        509\n",
    "nombre_recovered    16256\n",
    "Name: 656, dtype: int64"
   ]
  },
  {
   "cell_type": "markdown",
   "id": "7ff19b0d",
   "metadata": {},
   "source": [
    "nombre_infected       874\n",
    "nombre_sain          2386\n",
    "nombre_exposed        511\n",
    "nombre_recovered    16229\n",
    "Name: 657, dtype: int64"
   ]
  },
  {
   "cell_type": "markdown",
   "id": "55d9323d",
   "metadata": {},
   "source": [
    "nombre_infected       861\n",
    "nombre_sain          2374\n",
    "nombre_exposed        530\n",
    "nombre_recovered    16235\n",
    "Name: 658, dtype: int64"
   ]
  },
  {
   "cell_type": "markdown",
   "id": "6dd9d324",
   "metadata": {},
   "source": [
    "nombre_infected       841\n",
    "nombre_sain          2387\n",
    "nombre_exposed        537\n",
    "nombre_recovered    16235\n",
    "Name: 659, dtype: int64"
   ]
  },
  {
   "cell_type": "markdown",
   "id": "b7bbe7f5",
   "metadata": {},
   "source": [
    "nombre_infected       827\n",
    "nombre_sain          2365\n",
    "nombre_exposed        525\n",
    "nombre_recovered    16283\n",
    "Name: 660, dtype: int64"
   ]
  },
  {
   "cell_type": "markdown",
   "id": "76011858",
   "metadata": {},
   "source": [
    "nombre_infected       839\n",
    "nombre_sain          2347\n",
    "nombre_exposed        526\n",
    "nombre_recovered    16288\n",
    "Name: 661, dtype: int64"
   ]
  },
  {
   "cell_type": "markdown",
   "id": "7e77ff34",
   "metadata": {},
   "source": [
    "nombre_infected       850\n",
    "nombre_sain          2338\n",
    "nombre_exposed        517\n",
    "nombre_recovered    16295\n",
    "Name: 662, dtype: int64"
   ]
  },
  {
   "cell_type": "markdown",
   "id": "68ec6470",
   "metadata": {},
   "source": [
    "nombre_infected       877\n",
    "nombre_sain          2350\n",
    "nombre_exposed        505\n",
    "nombre_recovered    16268\n",
    "Name: 663, dtype: int64"
   ]
  },
  {
   "cell_type": "markdown",
   "id": "adc1eeb1",
   "metadata": {},
   "source": [
    "nombre_infected       887\n",
    "nombre_sain          2360\n",
    "nombre_exposed        499\n",
    "nombre_recovered    16254\n",
    "Name: 664, dtype: int64"
   ]
  },
  {
   "cell_type": "markdown",
   "id": "de683fb1",
   "metadata": {},
   "source": [
    "nombre_infected       885\n",
    "nombre_sain          2362\n",
    "nombre_exposed        502\n",
    "nombre_recovered    16251\n",
    "Name: 665, dtype: int64"
   ]
  },
  {
   "cell_type": "markdown",
   "id": "f7c031f2",
   "metadata": {},
   "source": [
    "nombre_infected       859\n",
    "nombre_sain          2379\n",
    "nombre_exposed        521\n",
    "nombre_recovered    16241\n",
    "Name: 666, dtype: int64"
   ]
  },
  {
   "cell_type": "markdown",
   "id": "41301821",
   "metadata": {},
   "source": [
    "nombre_infected       861\n",
    "nombre_sain          2365\n",
    "nombre_exposed        534\n",
    "nombre_recovered    16240\n",
    "Name: 667, dtype: int64"
   ]
  },
  {
   "cell_type": "markdown",
   "id": "7b8dc3a7",
   "metadata": {},
   "source": [
    "nombre_infected       882\n",
    "nombre_sain          2354\n",
    "nombre_exposed        510\n",
    "nombre_recovered    16254\n",
    "Name: 668, dtype: int64"
   ]
  },
  {
   "cell_type": "markdown",
   "id": "6959def3",
   "metadata": {},
   "source": [
    "nombre_infected       915\n",
    "nombre_sain          2333\n",
    "nombre_exposed        516\n",
    "nombre_recovered    16236\n",
    "Name: 669, dtype: int64"
   ]
  },
  {
   "cell_type": "markdown",
   "id": "ee462028",
   "metadata": {},
   "source": [
    "nombre_infected       913\n",
    "nombre_sain          2347\n",
    "nombre_exposed        499\n",
    "nombre_recovered    16241\n",
    "Name: 670, dtype: int64"
   ]
  },
  {
   "cell_type": "markdown",
   "id": "15224649",
   "metadata": {},
   "source": [
    "nombre_infected       917\n",
    "nombre_sain          2368\n",
    "nombre_exposed        483\n",
    "nombre_recovered    16232\n",
    "Name: 671, dtype: int64"
   ]
  },
  {
   "cell_type": "markdown",
   "id": "2739d4d2",
   "metadata": {},
   "source": [
    "nombre_infected       935\n",
    "nombre_sain          2359\n",
    "nombre_exposed        526\n",
    "nombre_recovered    16180\n",
    "Name: 672, dtype: int64"
   ]
  },
  {
   "cell_type": "markdown",
   "id": "fa4dda29",
   "metadata": {},
   "source": [
    "nombre_infected       940\n",
    "nombre_sain          2340\n",
    "nombre_exposed        555\n",
    "nombre_recovered    16165\n",
    "Name: 673, dtype: int64"
   ]
  },
  {
   "cell_type": "markdown",
   "id": "b99b4c64",
   "metadata": {},
   "source": [
    "nombre_infected       947\n",
    "nombre_sain          2316\n",
    "nombre_exposed        548\n",
    "nombre_recovered    16189\n",
    "Name: 674, dtype: int64"
   ]
  },
  {
   "cell_type": "markdown",
   "id": "c8275d25",
   "metadata": {},
   "source": [
    "nombre_infected       974\n",
    "nombre_sain          2296\n",
    "nombre_exposed        555\n",
    "nombre_recovered    16175\n",
    "Name: 675, dtype: int64"
   ]
  },
  {
   "cell_type": "markdown",
   "id": "84847a95",
   "metadata": {},
   "source": [
    "nombre_infected       978\n",
    "nombre_sain          2273\n",
    "nombre_exposed        543\n",
    "nombre_recovered    16206\n",
    "Name: 676, dtype: int64"
   ]
  },
  {
   "cell_type": "markdown",
   "id": "d81d8689",
   "metadata": {},
   "source": [
    "nombre_infected       972\n",
    "nombre_sain          2277\n",
    "nombre_exposed        543\n",
    "nombre_recovered    16208\n",
    "Name: 677, dtype: int64"
   ]
  },
  {
   "cell_type": "markdown",
   "id": "395f7dab",
   "metadata": {},
   "source": [
    "nombre_infected       973\n",
    "nombre_sain          2249\n",
    "nombre_exposed        541\n",
    "nombre_recovered    16237\n",
    "Name: 678, dtype: int64"
   ]
  },
  {
   "cell_type": "markdown",
   "id": "705caec7",
   "metadata": {},
   "source": [
    "nombre_infected       965\n",
    "nombre_sain          2253\n",
    "nombre_exposed        520\n",
    "nombre_recovered    16262\n",
    "Name: 679, dtype: int64"
   ]
  },
  {
   "cell_type": "markdown",
   "id": "46513114",
   "metadata": {},
   "source": [
    "nombre_infected       956\n",
    "nombre_sain          2264\n",
    "nombre_exposed        511\n",
    "nombre_recovered    16269\n",
    "Name: 680, dtype: int64"
   ]
  },
  {
   "cell_type": "markdown",
   "id": "6bf12fcf",
   "metadata": {},
   "source": [
    "nombre_infected       924\n",
    "nombre_sain          2254\n",
    "nombre_exposed        531\n",
    "nombre_recovered    16291\n",
    "Name: 681, dtype: int64"
   ]
  },
  {
   "cell_type": "markdown",
   "id": "8e1da16a",
   "metadata": {},
   "source": [
    "nombre_infected       934\n",
    "nombre_sain          2237\n",
    "nombre_exposed        527\n",
    "nombre_recovered    16302\n",
    "Name: 682, dtype: int64"
   ]
  },
  {
   "cell_type": "markdown",
   "id": "d34dc63a",
   "metadata": {},
   "source": [
    "nombre_infected       944\n",
    "nombre_sain          2219\n",
    "nombre_exposed        535\n",
    "nombre_recovered    16302\n",
    "Name: 683, dtype: int64"
   ]
  },
  {
   "cell_type": "markdown",
   "id": "547a249a",
   "metadata": {},
   "source": [
    "nombre_infected       946\n",
    "nombre_sain          2202\n",
    "nombre_exposed        543\n",
    "nombre_recovered    16309\n",
    "Name: 684, dtype: int64"
   ]
  },
  {
   "cell_type": "markdown",
   "id": "0d5c26a2",
   "metadata": {},
   "source": [
    "nombre_infected       950\n",
    "nombre_sain          2203\n",
    "nombre_exposed        542\n",
    "nombre_recovered    16305\n",
    "Name: 685, dtype: int64"
   ]
  },
  {
   "cell_type": "markdown",
   "id": "ff43f46a",
   "metadata": {},
   "source": [
    "nombre_infected       932\n",
    "nombre_sain          2208\n",
    "nombre_exposed        538\n",
    "nombre_recovered    16322\n",
    "Name: 686, dtype: int64"
   ]
  },
  {
   "cell_type": "markdown",
   "id": "78be3691",
   "metadata": {},
   "source": [
    "nombre_infected       946\n",
    "nombre_sain          2205\n",
    "nombre_exposed        515\n",
    "nombre_recovered    16334\n",
    "Name: 687, dtype: int64"
   ]
  },
  {
   "cell_type": "markdown",
   "id": "c6afeab1",
   "metadata": {},
   "source": [
    "nombre_infected       955\n",
    "nombre_sain          2206\n",
    "nombre_exposed        516\n",
    "nombre_recovered    16323\n",
    "Name: 688, dtype: int64"
   ]
  },
  {
   "cell_type": "markdown",
   "id": "629e03b6",
   "metadata": {},
   "source": [
    "nombre_infected       976\n",
    "nombre_sain          2179\n",
    "nombre_exposed        527\n",
    "nombre_recovered    16318\n",
    "Name: 689, dtype: int64"
   ]
  },
  {
   "cell_type": "markdown",
   "id": "a73e5a35",
   "metadata": {},
   "source": [
    "nombre_infected       986\n",
    "nombre_sain          2160\n",
    "nombre_exposed        540\n",
    "nombre_recovered    16314\n",
    "Name: 690, dtype: int64"
   ]
  },
  {
   "cell_type": "markdown",
   "id": "2ec99e6c",
   "metadata": {},
   "source": [
    "nombre_infected       981\n",
    "nombre_sain          2140\n",
    "nombre_exposed        536\n",
    "nombre_recovered    16343\n",
    "Name: 691, dtype: int64"
   ]
  },
  {
   "cell_type": "markdown",
   "id": "8ba1644c",
   "metadata": {},
   "source": [
    "nombre_infected       952\n",
    "nombre_sain          2122\n",
    "nombre_exposed        554\n",
    "nombre_recovered    16372\n",
    "Name: 692, dtype: int64"
   ]
  },
  {
   "cell_type": "markdown",
   "id": "533a65c9",
   "metadata": {},
   "source": [
    "nombre_infected       957\n",
    "nombre_sain          2116\n",
    "nombre_exposed        553\n",
    "nombre_recovered    16374\n",
    "Name: 693, dtype: int64"
   ]
  },
  {
   "cell_type": "markdown",
   "id": "361d125b",
   "metadata": {},
   "source": [
    "nombre_infected       953\n",
    "nombre_sain          2120\n",
    "nombre_exposed        539\n",
    "nombre_recovered    16388\n",
    "Name: 694, dtype: int64"
   ]
  },
  {
   "cell_type": "markdown",
   "id": "1f1a333d",
   "metadata": {},
   "source": [
    "nombre_infected       960\n",
    "nombre_sain          2140\n",
    "nombre_exposed        539\n",
    "nombre_recovered    16361\n",
    "Name: 695, dtype: int64"
   ]
  },
  {
   "cell_type": "markdown",
   "id": "61bd62f1",
   "metadata": {},
   "source": [
    "nombre_infected       947\n",
    "nombre_sain          2132\n",
    "nombre_exposed        565\n",
    "nombre_recovered    16356\n",
    "Name: 696, dtype: int64"
   ]
  },
  {
   "cell_type": "markdown",
   "id": "0d896f46",
   "metadata": {},
   "source": [
    "nombre_infected       927\n",
    "nombre_sain          2105\n",
    "nombre_exposed        601\n",
    "nombre_recovered    16367\n",
    "Name: 697, dtype: int64"
   ]
  },
  {
   "cell_type": "markdown",
   "id": "406e6f19",
   "metadata": {},
   "source": [
    "nombre_infected       977\n",
    "nombre_sain          2110\n",
    "nombre_exposed        562\n",
    "nombre_recovered    16351\n",
    "Name: 698, dtype: int64"
   ]
  },
  {
   "cell_type": "markdown",
   "id": "18ef0078",
   "metadata": {},
   "source": [
    "nombre_infected       962\n",
    "nombre_sain          2113\n",
    "nombre_exposed        566\n",
    "nombre_recovered    16359\n",
    "Name: 699, dtype: int64"
   ]
  },
  {
   "cell_type": "markdown",
   "id": "4c1028ef",
   "metadata": {},
   "source": [
    "nombre_infected       945\n",
    "nombre_sain          2135\n",
    "nombre_exposed        560\n",
    "nombre_recovered    16360\n",
    "Name: 700, dtype: int64"
   ]
  },
  {
   "cell_type": "markdown",
   "id": "fb2da830",
   "metadata": {},
   "source": [
    "nombre_infected       958\n",
    "nombre_sain          2129\n",
    "nombre_exposed        537\n",
    "nombre_recovered    16376\n",
    "Name: 701, dtype: int64"
   ]
  },
  {
   "cell_type": "markdown",
   "id": "bf4c78b9",
   "metadata": {},
   "source": [
    "nombre_infected       947\n",
    "nombre_sain          2149\n",
    "nombre_exposed        534\n",
    "nombre_recovered    16370\n",
    "Name: 702, dtype: int64"
   ]
  },
  {
   "cell_type": "markdown",
   "id": "653c97f3",
   "metadata": {},
   "source": [
    "nombre_infected       947\n",
    "nombre_sain          2177\n",
    "nombre_exposed        535\n",
    "nombre_recovered    16341\n",
    "Name: 703, dtype: int64"
   ]
  },
  {
   "cell_type": "markdown",
   "id": "cdb67dc8",
   "metadata": {},
   "source": [
    "nombre_infected       945\n",
    "nombre_sain          2176\n",
    "nombre_exposed        559\n",
    "nombre_recovered    16320\n",
    "Name: 704, dtype: int64"
   ]
  },
  {
   "cell_type": "markdown",
   "id": "80eeaf4a",
   "metadata": {},
   "source": [
    "nombre_infected       923\n",
    "nombre_sain          2182\n",
    "nombre_exposed        575\n",
    "nombre_recovered    16320\n",
    "Name: 705, dtype: int64"
   ]
  },
  {
   "cell_type": "markdown",
   "id": "d145c347",
   "metadata": {},
   "source": [
    "nombre_infected       947\n",
    "nombre_sain          2211\n",
    "nombre_exposed        552\n",
    "nombre_recovered    16290\n",
    "Name: 706, dtype: int64"
   ]
  },
  {
   "cell_type": "markdown",
   "id": "7b24dacf",
   "metadata": {},
   "source": [
    "nombre_infected       989\n",
    "nombre_sain          2224\n",
    "nombre_exposed        530\n",
    "nombre_recovered    16257\n",
    "Name: 707, dtype: int64"
   ]
  },
  {
   "cell_type": "markdown",
   "id": "e63dc4c2",
   "metadata": {},
   "source": [
    "nombre_infected       995\n",
    "nombre_sain          2226\n",
    "nombre_exposed        512\n",
    "nombre_recovered    16267\n",
    "Name: 708, dtype: int64"
   ]
  },
  {
   "cell_type": "markdown",
   "id": "e5d7c565",
   "metadata": {},
   "source": [
    "nombre_infected       982\n",
    "nombre_sain          2202\n",
    "nombre_exposed        528\n",
    "nombre_recovered    16288\n",
    "Name: 709, dtype: int64"
   ]
  },
  {
   "cell_type": "markdown",
   "id": "8628a96b",
   "metadata": {},
   "source": [
    "nombre_infected       969\n",
    "nombre_sain          2214\n",
    "nombre_exposed        536\n",
    "nombre_recovered    16281\n",
    "Name: 710, dtype: int64"
   ]
  },
  {
   "cell_type": "markdown",
   "id": "b74b5f02",
   "metadata": {},
   "source": [
    "nombre_infected       964\n",
    "nombre_sain          2242\n",
    "nombre_exposed        541\n",
    "nombre_recovered    16253\n",
    "Name: 711, dtype: int64"
   ]
  },
  {
   "cell_type": "markdown",
   "id": "f7299d80",
   "metadata": {},
   "source": [
    "nombre_infected       967\n",
    "nombre_sain          2260\n",
    "nombre_exposed        548\n",
    "nombre_recovered    16225\n",
    "Name: 712, dtype: int64"
   ]
  },
  {
   "cell_type": "markdown",
   "id": "9cef267e",
   "metadata": {},
   "source": [
    "nombre_infected       966\n",
    "nombre_sain          2275\n",
    "nombre_exposed        540\n",
    "nombre_recovered    16219\n",
    "Name: 713, dtype: int64"
   ]
  },
  {
   "cell_type": "markdown",
   "id": "2caa69e3",
   "metadata": {},
   "source": [
    "nombre_infected       980\n",
    "nombre_sain          2301\n",
    "nombre_exposed        534\n",
    "nombre_recovered    16185\n",
    "Name: 714, dtype: int64"
   ]
  },
  {
   "cell_type": "markdown",
   "id": "309d35ba",
   "metadata": {},
   "source": [
    "nombre_infected       973\n",
    "nombre_sain          2305\n",
    "nombre_exposed        562\n",
    "nombre_recovered    16160\n",
    "Name: 715, dtype: int64"
   ]
  },
  {
   "cell_type": "markdown",
   "id": "abd32599",
   "metadata": {},
   "source": [
    "nombre_infected       962\n",
    "nombre_sain          2368\n",
    "nombre_exposed        551\n",
    "nombre_recovered    16119\n",
    "Name: 716, dtype: int64"
   ]
  },
  {
   "cell_type": "markdown",
   "id": "e346fd47",
   "metadata": {},
   "source": [
    "nombre_infected       968\n",
    "nombre_sain          2389\n",
    "nombre_exposed        554\n",
    "nombre_recovered    16089\n",
    "Name: 717, dtype: int64"
   ]
  },
  {
   "cell_type": "markdown",
   "id": "f8036de6",
   "metadata": {},
   "source": [
    "nombre_infected       988\n",
    "nombre_sain          2398\n",
    "nombre_exposed        585\n",
    "nombre_recovered    16029\n",
    "Name: 718, dtype: int64"
   ]
  },
  {
   "cell_type": "markdown",
   "id": "528043ac",
   "metadata": {},
   "source": [
    "nombre_infected       976\n",
    "nombre_sain          2430\n",
    "nombre_exposed        616\n",
    "nombre_recovered    15978\n",
    "Name: 719, dtype: int64"
   ]
  },
  {
   "cell_type": "markdown",
   "id": "7987ee78",
   "metadata": {},
   "source": [
    "nombre_infected       985\n",
    "nombre_sain          2433\n",
    "nombre_exposed        615\n",
    "nombre_recovered    15967\n",
    "Name: 720, dtype: int64"
   ]
  },
  {
   "cell_type": "markdown",
   "id": "c26ee1f3",
   "metadata": {},
   "source": [
    "nombre_infected       973\n",
    "nombre_sain          2419\n",
    "nombre_exposed        638\n",
    "nombre_recovered    15970\n",
    "Name: 721, dtype: int64"
   ]
  },
  {
   "cell_type": "markdown",
   "id": "2d92dd6e",
   "metadata": {},
   "source": [
    "nombre_infected       982\n",
    "nombre_sain          2445\n",
    "nombre_exposed        635\n",
    "nombre_recovered    15938\n",
    "Name: 722, dtype: int64"
   ]
  },
  {
   "cell_type": "markdown",
   "id": "0a2c6b31",
   "metadata": {},
   "source": [
    "nombre_infected      1013\n",
    "nombre_sain          2445\n",
    "nombre_exposed        620\n",
    "nombre_recovered    15922\n",
    "Name: 723, dtype: int64"
   ]
  },
  {
   "cell_type": "markdown",
   "id": "c5c3c94d",
   "metadata": {},
   "source": [
    "nombre_infected      1037\n",
    "nombre_sain          2426\n",
    "nombre_exposed        630\n",
    "nombre_recovered    15907\n",
    "Name: 724, dtype: int64"
   ]
  },
  {
   "cell_type": "markdown",
   "id": "4d5fb6b3",
   "metadata": {},
   "source": [
    "nombre_infected      1062\n",
    "nombre_sain          2385\n",
    "nombre_exposed        656\n",
    "nombre_recovered    15897\n",
    "Name: 725, dtype: int64"
   ]
  },
  {
   "cell_type": "markdown",
   "id": "7c81c3cd",
   "metadata": {},
   "source": [
    "nombre_infected      1082\n",
    "nombre_sain          2369\n",
    "nombre_exposed        647\n",
    "nombre_recovered    15902\n",
    "Name: 726, dtype: int64"
   ]
  },
  {
   "cell_type": "markdown",
   "id": "a656de3e",
   "metadata": {},
   "source": [
    "nombre_infected      1104\n",
    "nombre_sain          2375\n",
    "nombre_exposed        633\n",
    "nombre_recovered    15888\n",
    "Name: 727, dtype: int64"
   ]
  },
  {
   "cell_type": "markdown",
   "id": "9de1b046",
   "metadata": {},
   "source": [
    "nombre_infected      1122\n",
    "nombre_sain          2357\n",
    "nombre_exposed        631\n",
    "nombre_recovered    15890\n",
    "Name: 728, dtype: int64"
   ]
  },
  {
   "cell_type": "markdown",
   "id": "95ce234c",
   "metadata": {},
   "source": [
    "nombre_infected      1116\n",
    "nombre_sain          2365\n",
    "nombre_exposed        629\n",
    "nombre_recovered    15890\n",
    "Name: 729, dtype: int64"
   ]
  },
  {
   "cell_type": "markdown",
   "id": "6ae2cce4",
   "metadata": {},
   "source": [
    "nombre_infected      1110\n",
    "nombre_sain          2328\n",
    "nombre_exposed        655\n",
    "nombre_recovered    15907\n",
    "Name: 730, dtype: int64"
   ]
  }
 ],
 "metadata": {},
 "nbformat": 4,
 "nbformat_minor": 5
}
