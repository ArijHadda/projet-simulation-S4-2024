{
 "cells": [
  {
   "cell_type": "markdown",
   "id": "09fa8f81",
   "metadata": {},
   "source": [
    "nombre_infected        20\n",
    "nombre_sain         19980\n",
    "nombre_exposed          0\n",
    "nombre_recovered        0\n",
    "Name: 0, dtype: int64"
   ]
  },
  {
   "cell_type": "markdown",
   "id": "2f47d28f",
   "metadata": {},
   "source": [
    "nombre_infected        20\n",
    "nombre_sain         19970\n",
    "nombre_exposed         10\n",
    "nombre_recovered        0\n",
    "Name: 1, dtype: int64"
   ]
  },
  {
   "cell_type": "markdown",
   "id": "ccb82f9b",
   "metadata": {},
   "source": [
    "nombre_infected        20\n",
    "nombre_sain         19951\n",
    "nombre_exposed         29\n",
    "nombre_recovered        0\n",
    "Name: 2, dtype: int64"
   ]
  },
  {
   "cell_type": "markdown",
   "id": "70eb47fd",
   "metadata": {},
   "source": [
    "nombre_infected        21\n",
    "nombre_sain         19924\n",
    "nombre_exposed         55\n",
    "nombre_recovered        0\n",
    "Name: 3, dtype: int64"
   ]
  },
  {
   "cell_type": "markdown",
   "id": "c38c6610",
   "metadata": {},
   "source": [
    "nombre_infected        26\n",
    "nombre_sain         19891\n",
    "nombre_exposed         83\n",
    "nombre_recovered        0\n",
    "Name: 4, dtype: int64"
   ]
  },
  {
   "cell_type": "markdown",
   "id": "82f152c1",
   "metadata": {},
   "source": [
    "nombre_infected        39\n",
    "nombre_sain         19850\n",
    "nombre_exposed        111\n",
    "nombre_recovered        0\n",
    "Name: 5, dtype: int64"
   ]
  },
  {
   "cell_type": "markdown",
   "id": "8187a989",
   "metadata": {},
   "source": [
    "nombre_infected        56\n",
    "nombre_sain         19792\n",
    "nombre_exposed        151\n",
    "nombre_recovered        1\n",
    "Name: 6, dtype: int64"
   ]
  },
  {
   "cell_type": "markdown",
   "id": "5423c9de",
   "metadata": {},
   "source": [
    "nombre_infected        81\n",
    "nombre_sain         19708\n",
    "nombre_exposed        209\n",
    "nombre_recovered        2\n",
    "Name: 7, dtype: int64"
   ]
  },
  {
   "cell_type": "markdown",
   "id": "2d521999",
   "metadata": {},
   "source": [
    "nombre_infected       116\n",
    "nombre_sain         19563\n",
    "nombre_exposed        315\n",
    "nombre_recovered        6\n",
    "Name: 8, dtype: int64"
   ]
  },
  {
   "cell_type": "markdown",
   "id": "9b16a871",
   "metadata": {},
   "source": [
    "nombre_infected       156\n",
    "nombre_sain         19394\n",
    "nombre_exposed        438\n",
    "nombre_recovered       12\n",
    "Name: 9, dtype: int64"
   ]
  },
  {
   "cell_type": "markdown",
   "id": "485814f7",
   "metadata": {},
   "source": [
    "nombre_infected       215\n",
    "nombre_sain         19190\n",
    "nombre_exposed        569\n",
    "nombre_recovered       26\n",
    "Name: 10, dtype: int64"
   ]
  },
  {
   "cell_type": "markdown",
   "id": "9de53528",
   "metadata": {},
   "source": [
    "nombre_infected       278\n",
    "nombre_sain         18920\n",
    "nombre_exposed        737\n",
    "nombre_recovered       65\n",
    "Name: 11, dtype: int64"
   ]
  },
  {
   "cell_type": "markdown",
   "id": "db24b7eb",
   "metadata": {},
   "source": [
    "nombre_infected       398\n",
    "nombre_sain         18576\n",
    "nombre_exposed        945\n",
    "nombre_recovered       81\n",
    "Name: 12, dtype: int64"
   ]
  },
  {
   "cell_type": "markdown",
   "id": "3beed258",
   "metadata": {},
   "source": [
    "nombre_infected       552\n",
    "nombre_sain         18088\n",
    "nombre_exposed       1242\n",
    "nombre_recovered      118\n",
    "Name: 13, dtype: int64"
   ]
  },
  {
   "cell_type": "markdown",
   "id": "651fadcb",
   "metadata": {},
   "source": [
    "nombre_infected       708\n",
    "nombre_sain         17435\n",
    "nombre_exposed       1684\n",
    "nombre_recovered      173\n",
    "Name: 14, dtype: int64"
   ]
  },
  {
   "cell_type": "markdown",
   "id": "a7e601cd",
   "metadata": {},
   "source": [
    "nombre_infected       914\n",
    "nombre_sain         16636\n",
    "nombre_exposed       2210\n",
    "nombre_recovered      240\n",
    "Name: 15, dtype: int64"
   ]
  },
  {
   "cell_type": "markdown",
   "id": "a21f3997",
   "metadata": {},
   "source": [
    "nombre_infected      1241\n",
    "nombre_sain         15640\n",
    "nombre_exposed       2786\n",
    "nombre_recovered      333\n",
    "Name: 16, dtype: int64"
   ]
  },
  {
   "cell_type": "markdown",
   "id": "f80f97eb",
   "metadata": {},
   "source": [
    "nombre_infected      1626\n",
    "nombre_sain         14418\n",
    "nombre_exposed       3509\n",
    "nombre_recovered      447\n",
    "Name: 17, dtype: int64"
   ]
  },
  {
   "cell_type": "markdown",
   "id": "9df892d9",
   "metadata": {},
   "source": [
    "nombre_infected      2140\n",
    "nombre_sain         12929\n",
    "nombre_exposed       4349\n",
    "nombre_recovered      582\n",
    "Name: 18, dtype: int64"
   ]
  },
  {
   "cell_type": "markdown",
   "id": "6a9191d6",
   "metadata": {},
   "source": [
    "nombre_infected      2720\n",
    "nombre_sain         11238\n",
    "nombre_exposed       5259\n",
    "nombre_recovered      783\n",
    "Name: 19, dtype: int64"
   ]
  },
  {
   "cell_type": "markdown",
   "id": "b24852a3",
   "metadata": {},
   "source": [
    "nombre_infected     3440\n",
    "nombre_sain         9479\n",
    "nombre_exposed      6023\n",
    "nombre_recovered    1058\n",
    "Name: 20, dtype: int64"
   ]
  },
  {
   "cell_type": "markdown",
   "id": "31724eaa",
   "metadata": {},
   "source": [
    "nombre_infected     4295\n",
    "nombre_sain         7760\n",
    "nombre_exposed      6544\n",
    "nombre_recovered    1401\n",
    "Name: 21, dtype: int64"
   ]
  },
  {
   "cell_type": "markdown",
   "id": "9b0f9663",
   "metadata": {},
   "source": [
    "nombre_infected     5211\n",
    "nombre_sain         6067\n",
    "nombre_exposed      6900\n",
    "nombre_recovered    1822\n",
    "Name: 22, dtype: int64"
   ]
  },
  {
   "cell_type": "markdown",
   "id": "00bfc0c3",
   "metadata": {},
   "source": [
    "nombre_infected     6070\n",
    "nombre_sain         4549\n",
    "nombre_exposed      7026\n",
    "nombre_recovered    2355\n",
    "Name: 23, dtype: int64"
   ]
  },
  {
   "cell_type": "markdown",
   "id": "5ee35c34",
   "metadata": {},
   "source": [
    "nombre_infected     6941\n",
    "nombre_sain         3329\n",
    "nombre_exposed      6745\n",
    "nombre_recovered    2985\n",
    "Name: 24, dtype: int64"
   ]
  },
  {
   "cell_type": "markdown",
   "id": "28c7e3b5",
   "metadata": {},
   "source": [
    "nombre_infected     7739\n",
    "nombre_sain         2311\n",
    "nombre_exposed      6222\n",
    "nombre_recovered    3728\n",
    "Name: 25, dtype: int64"
   ]
  },
  {
   "cell_type": "markdown",
   "id": "6c372b43",
   "metadata": {},
   "source": [
    "nombre_infected     8319\n",
    "nombre_sain         1621\n",
    "nombre_exposed      5512\n",
    "nombre_recovered    4548\n",
    "Name: 26, dtype: int64"
   ]
  },
  {
   "cell_type": "markdown",
   "id": "2572717f",
   "metadata": {},
   "source": [
    "nombre_infected     8611\n",
    "nombre_sain         1108\n",
    "nombre_exposed      4766\n",
    "nombre_recovered    5515\n",
    "Name: 27, dtype: int64"
   ]
  },
  {
   "cell_type": "markdown",
   "id": "2f491b70",
   "metadata": {},
   "source": [
    "nombre_infected     8652\n",
    "nombre_sain          779\n",
    "nombre_exposed      3983\n",
    "nombre_recovered    6586\n",
    "Name: 28, dtype: int64"
   ]
  },
  {
   "cell_type": "markdown",
   "id": "cce7a016",
   "metadata": {},
   "source": [
    "nombre_infected     8493\n",
    "nombre_sain          521\n",
    "nombre_exposed      3260\n",
    "nombre_recovered    7726\n",
    "Name: 29, dtype: int64"
   ]
  },
  {
   "cell_type": "markdown",
   "id": "6ddb23c2",
   "metadata": {},
   "source": [
    "nombre_infected     8289\n",
    "nombre_sain          369\n",
    "nombre_exposed      2579\n",
    "nombre_recovered    8763\n",
    "Name: 30, dtype: int64"
   ]
  },
  {
   "cell_type": "markdown",
   "id": "45bc11ee",
   "metadata": {},
   "source": [
    "nombre_infected     7815\n",
    "nombre_sain          266\n",
    "nombre_exposed      2056\n",
    "nombre_recovered    9863\n",
    "Name: 31, dtype: int64"
   ]
  },
  {
   "cell_type": "markdown",
   "id": "ae93a7b6",
   "metadata": {},
   "source": [
    "nombre_infected      7280\n",
    "nombre_sain           185\n",
    "nombre_exposed       1649\n",
    "nombre_recovered    10886\n",
    "Name: 32, dtype: int64"
   ]
  },
  {
   "cell_type": "markdown",
   "id": "13b8f10d",
   "metadata": {},
   "source": [
    "nombre_infected      6775\n",
    "nombre_sain           150\n",
    "nombre_exposed       1283\n",
    "nombre_recovered    11792\n",
    "Name: 33, dtype: int64"
   ]
  },
  {
   "cell_type": "markdown",
   "id": "40c37c66",
   "metadata": {},
   "source": [
    "nombre_infected      6200\n",
    "nombre_sain           129\n",
    "nombre_exposed        979\n",
    "nombre_recovered    12692\n",
    "Name: 34, dtype: int64"
   ]
  },
  {
   "cell_type": "markdown",
   "id": "6450156d",
   "metadata": {},
   "source": [
    "nombre_infected      5655\n",
    "nombre_sain           116\n",
    "nombre_exposed        771\n",
    "nombre_recovered    13458\n",
    "Name: 35, dtype: int64"
   ]
  },
  {
   "cell_type": "markdown",
   "id": "0da171cd",
   "metadata": {},
   "source": [
    "nombre_infected      5173\n",
    "nombre_sain           111\n",
    "nombre_exposed        564\n",
    "nombre_recovered    14152\n",
    "Name: 36, dtype: int64"
   ]
  },
  {
   "cell_type": "markdown",
   "id": "cf804e71",
   "metadata": {},
   "source": [
    "nombre_infected      4692\n",
    "nombre_sain           111\n",
    "nombre_exposed        445\n",
    "nombre_recovered    14752\n",
    "Name: 37, dtype: int64"
   ]
  },
  {
   "cell_type": "markdown",
   "id": "7a2b8c72",
   "metadata": {},
   "source": [
    "nombre_infected      4221\n",
    "nombre_sain           121\n",
    "nombre_exposed        357\n",
    "nombre_recovered    15301\n",
    "Name: 38, dtype: int64"
   ]
  },
  {
   "cell_type": "markdown",
   "id": "ec319932",
   "metadata": {},
   "source": [
    "nombre_infected      3833\n",
    "nombre_sain           132\n",
    "nombre_exposed        274\n",
    "nombre_recovered    15761\n",
    "Name: 39, dtype: int64"
   ]
  },
  {
   "cell_type": "markdown",
   "id": "c2947710",
   "metadata": {},
   "source": [
    "nombre_infected      3418\n",
    "nombre_sain           159\n",
    "nombre_exposed        219\n",
    "nombre_recovered    16204\n",
    "Name: 40, dtype: int64"
   ]
  },
  {
   "cell_type": "markdown",
   "id": "3ecd626e",
   "metadata": {},
   "source": [
    "nombre_infected      3048\n",
    "nombre_sain           180\n",
    "nombre_exposed        186\n",
    "nombre_recovered    16586\n",
    "Name: 41, dtype: int64"
   ]
  },
  {
   "cell_type": "markdown",
   "id": "be7a0e08",
   "metadata": {},
   "source": [
    "nombre_infected      2733\n",
    "nombre_sain           197\n",
    "nombre_exposed        151\n",
    "nombre_recovered    16919\n",
    "Name: 42, dtype: int64"
   ]
  },
  {
   "cell_type": "markdown",
   "id": "5a10cbe1",
   "metadata": {},
   "source": [
    "nombre_infected      2459\n",
    "nombre_sain           216\n",
    "nombre_exposed        136\n",
    "nombre_recovered    17189\n",
    "Name: 43, dtype: int64"
   ]
  },
  {
   "cell_type": "markdown",
   "id": "a7bbc4f2",
   "metadata": {},
   "source": [
    "nombre_infected      2181\n",
    "nombre_sain           239\n",
    "nombre_exposed        130\n",
    "nombre_recovered    17450\n",
    "Name: 44, dtype: int64"
   ]
  },
  {
   "cell_type": "markdown",
   "id": "e5bb36bf",
   "metadata": {},
   "source": [
    "nombre_infected      1915\n",
    "nombre_sain           242\n",
    "nombre_exposed        141\n",
    "nombre_recovered    17702\n",
    "Name: 45, dtype: int64"
   ]
  },
  {
   "cell_type": "markdown",
   "id": "b4b4f70e",
   "metadata": {},
   "source": [
    "nombre_infected      1723\n",
    "nombre_sain           249\n",
    "nombre_exposed        139\n",
    "nombre_recovered    17889\n",
    "Name: 46, dtype: int64"
   ]
  },
  {
   "cell_type": "markdown",
   "id": "7f801d22",
   "metadata": {},
   "source": [
    "nombre_infected      1532\n",
    "nombre_sain           267\n",
    "nombre_exposed        134\n",
    "nombre_recovered    18067\n",
    "Name: 47, dtype: int64"
   ]
  },
  {
   "cell_type": "markdown",
   "id": "34271939",
   "metadata": {},
   "source": [
    "nombre_infected      1358\n",
    "nombre_sain           294\n",
    "nombre_exposed        127\n",
    "nombre_recovered    18221\n",
    "Name: 48, dtype: int64"
   ]
  },
  {
   "cell_type": "markdown",
   "id": "55477068",
   "metadata": {},
   "source": [
    "nombre_infected      1237\n",
    "nombre_sain           305\n",
    "nombre_exposed        124\n",
    "nombre_recovered    18334\n",
    "Name: 49, dtype: int64"
   ]
  },
  {
   "cell_type": "markdown",
   "id": "1fb82339",
   "metadata": {},
   "source": [
    "nombre_infected      1072\n",
    "nombre_sain           310\n",
    "nombre_exposed        113\n",
    "nombre_recovered    18505\n",
    "Name: 50, dtype: int64"
   ]
  },
  {
   "cell_type": "markdown",
   "id": "07685823",
   "metadata": {},
   "source": [
    "nombre_infected       940\n",
    "nombre_sain           335\n",
    "nombre_exposed        104\n",
    "nombre_recovered    18621\n",
    "Name: 51, dtype: int64"
   ]
  },
  {
   "cell_type": "markdown",
   "id": "33f9f57f",
   "metadata": {},
   "source": [
    "nombre_infected       820\n",
    "nombre_sain           359\n",
    "nombre_exposed         91\n",
    "nombre_recovered    18730\n",
    "Name: 52, dtype: int64"
   ]
  },
  {
   "cell_type": "markdown",
   "id": "0a7b635a",
   "metadata": {},
   "source": [
    "nombre_infected       732\n",
    "nombre_sain           394\n",
    "nombre_exposed         88\n",
    "nombre_recovered    18786\n",
    "Name: 53, dtype: int64"
   ]
  },
  {
   "cell_type": "markdown",
   "id": "0fd4a7a4",
   "metadata": {},
   "source": [
    "nombre_infected       626\n",
    "nombre_sain           447\n",
    "nombre_exposed         80\n",
    "nombre_recovered    18847\n",
    "Name: 54, dtype: int64"
   ]
  },
  {
   "cell_type": "markdown",
   "id": "d0423e9f",
   "metadata": {},
   "source": [
    "nombre_infected       551\n",
    "nombre_sain           489\n",
    "nombre_exposed         77\n",
    "nombre_recovered    18883\n",
    "Name: 55, dtype: int64"
   ]
  },
  {
   "cell_type": "markdown",
   "id": "27fdccdb",
   "metadata": {},
   "source": [
    "nombre_infected       478\n",
    "nombre_sain           519\n",
    "nombre_exposed         78\n",
    "nombre_recovered    18925\n",
    "Name: 56, dtype: int64"
   ]
  },
  {
   "cell_type": "markdown",
   "id": "8225ee0f",
   "metadata": {},
   "source": [
    "nombre_infected       395\n",
    "nombre_sain           561\n",
    "nombre_exposed         70\n",
    "nombre_recovered    18974\n",
    "Name: 57, dtype: int64"
   ]
  },
  {
   "cell_type": "markdown",
   "id": "2c5f42f9",
   "metadata": {},
   "source": [
    "nombre_infected       349\n",
    "nombre_sain           612\n",
    "nombre_exposed         58\n",
    "nombre_recovered    18981\n",
    "Name: 58, dtype: int64"
   ]
  },
  {
   "cell_type": "markdown",
   "id": "d6fdc298",
   "metadata": {},
   "source": [
    "nombre_infected       298\n",
    "nombre_sain           642\n",
    "nombre_exposed         60\n",
    "nombre_recovered    19000\n",
    "Name: 59, dtype: int64"
   ]
  },
  {
   "cell_type": "markdown",
   "id": "20decbb7",
   "metadata": {},
   "source": [
    "nombre_infected       254\n",
    "nombre_sain           671\n",
    "nombre_exposed         53\n",
    "nombre_recovered    19022\n",
    "Name: 60, dtype: int64"
   ]
  },
  {
   "cell_type": "markdown",
   "id": "f2cdfb02",
   "metadata": {},
   "source": [
    "nombre_infected       223\n",
    "nombre_sain           722\n",
    "nombre_exposed         46\n",
    "nombre_recovered    19009\n",
    "Name: 61, dtype: int64"
   ]
  },
  {
   "cell_type": "markdown",
   "id": "f2cfd7d9",
   "metadata": {},
   "source": [
    "nombre_infected       192\n",
    "nombre_sain           778\n",
    "nombre_exposed         38\n",
    "nombre_recovered    18992\n",
    "Name: 62, dtype: int64"
   ]
  },
  {
   "cell_type": "markdown",
   "id": "cc452b3b",
   "metadata": {},
   "source": [
    "nombre_infected       173\n",
    "nombre_sain           828\n",
    "nombre_exposed         34\n",
    "nombre_recovered    18965\n",
    "Name: 63, dtype: int64"
   ]
  },
  {
   "cell_type": "markdown",
   "id": "76a51caf",
   "metadata": {},
   "source": [
    "nombre_infected       159\n",
    "nombre_sain           884\n",
    "nombre_exposed         32\n",
    "nombre_recovered    18925\n",
    "Name: 64, dtype: int64"
   ]
  },
  {
   "cell_type": "markdown",
   "id": "360d4f58",
   "metadata": {},
   "source": [
    "nombre_infected       146\n",
    "nombre_sain           937\n",
    "nombre_exposed         30\n",
    "nombre_recovered    18887\n",
    "Name: 65, dtype: int64"
   ]
  },
  {
   "cell_type": "markdown",
   "id": "7d65562f",
   "metadata": {},
   "source": [
    "nombre_infected       125\n",
    "nombre_sain           995\n",
    "nombre_exposed         33\n",
    "nombre_recovered    18847\n",
    "Name: 66, dtype: int64"
   ]
  },
  {
   "cell_type": "markdown",
   "id": "77d88776",
   "metadata": {},
   "source": [
    "nombre_infected       110\n",
    "nombre_sain          1079\n",
    "nombre_exposed         34\n",
    "nombre_recovered    18777\n",
    "Name: 67, dtype: int64"
   ]
  },
  {
   "cell_type": "markdown",
   "id": "507f9a9d",
   "metadata": {},
   "source": [
    "nombre_infected       100\n",
    "nombre_sain          1143\n",
    "nombre_exposed         36\n",
    "nombre_recovered    18721\n",
    "Name: 68, dtype: int64"
   ]
  },
  {
   "cell_type": "markdown",
   "id": "1fe34449",
   "metadata": {},
   "source": [
    "nombre_infected        95\n",
    "nombre_sain          1202\n",
    "nombre_exposed         34\n",
    "nombre_recovered    18669\n",
    "Name: 69, dtype: int64"
   ]
  },
  {
   "cell_type": "markdown",
   "id": "3a9d9c8a",
   "metadata": {},
   "source": [
    "nombre_infected        82\n",
    "nombre_sain          1258\n",
    "nombre_exposed         37\n",
    "nombre_recovered    18623\n",
    "Name: 70, dtype: int64"
   ]
  },
  {
   "cell_type": "markdown",
   "id": "a29898fe",
   "metadata": {},
   "source": [
    "nombre_infected        76\n",
    "nombre_sain          1329\n",
    "nombre_exposed         38\n",
    "nombre_recovered    18557\n",
    "Name: 71, dtype: int64"
   ]
  },
  {
   "cell_type": "markdown",
   "id": "a7e7a4b4",
   "metadata": {},
   "source": [
    "nombre_infected        67\n",
    "nombre_sain          1387\n",
    "nombre_exposed         32\n",
    "nombre_recovered    18514\n",
    "Name: 72, dtype: int64"
   ]
  },
  {
   "cell_type": "markdown",
   "id": "73e430f4",
   "metadata": {},
   "source": [
    "nombre_infected        68\n",
    "nombre_sain          1443\n",
    "nombre_exposed         29\n",
    "nombre_recovered    18460\n",
    "Name: 73, dtype: int64"
   ]
  },
  {
   "cell_type": "markdown",
   "id": "49e97a07",
   "metadata": {},
   "source": [
    "nombre_infected        63\n",
    "nombre_sain          1500\n",
    "nombre_exposed         27\n",
    "nombre_recovered    18410\n",
    "Name: 74, dtype: int64"
   ]
  },
  {
   "cell_type": "markdown",
   "id": "5030a2c0",
   "metadata": {},
   "source": [
    "nombre_infected        52\n",
    "nombre_sain          1537\n",
    "nombre_exposed         32\n",
    "nombre_recovered    18379\n",
    "Name: 75, dtype: int64"
   ]
  },
  {
   "cell_type": "markdown",
   "id": "61f55c9f",
   "metadata": {},
   "source": [
    "nombre_infected        51\n",
    "nombre_sain          1585\n",
    "nombre_exposed         34\n",
    "nombre_recovered    18330\n",
    "Name: 76, dtype: int64"
   ]
  },
  {
   "cell_type": "markdown",
   "id": "68dcebdf",
   "metadata": {},
   "source": [
    "nombre_infected        46\n",
    "nombre_sain          1637\n",
    "nombre_exposed         34\n",
    "nombre_recovered    18283\n",
    "Name: 77, dtype: int64"
   ]
  },
  {
   "cell_type": "markdown",
   "id": "07e6b663",
   "metadata": {},
   "source": [
    "nombre_infected        37\n",
    "nombre_sain          1687\n",
    "nombre_exposed         29\n",
    "nombre_recovered    18247\n",
    "Name: 78, dtype: int64"
   ]
  },
  {
   "cell_type": "markdown",
   "id": "3cda85fb",
   "metadata": {},
   "source": [
    "nombre_infected        40\n",
    "nombre_sain          1725\n",
    "nombre_exposed         23\n",
    "nombre_recovered    18212\n",
    "Name: 79, dtype: int64"
   ]
  },
  {
   "cell_type": "markdown",
   "id": "fd6919d2",
   "metadata": {},
   "source": [
    "nombre_infected        39\n",
    "nombre_sain          1767\n",
    "nombre_exposed         22\n",
    "nombre_recovered    18172\n",
    "Name: 80, dtype: int64"
   ]
  },
  {
   "cell_type": "markdown",
   "id": "40b6ab62",
   "metadata": {},
   "source": [
    "nombre_infected        42\n",
    "nombre_sain          1812\n",
    "nombre_exposed         17\n",
    "nombre_recovered    18129\n",
    "Name: 81, dtype: int64"
   ]
  },
  {
   "cell_type": "markdown",
   "id": "1ba0247d",
   "metadata": {},
   "source": [
    "nombre_infected        35\n",
    "nombre_sain          1861\n",
    "nombre_exposed         19\n",
    "nombre_recovered    18085\n",
    "Name: 82, dtype: int64"
   ]
  },
  {
   "cell_type": "markdown",
   "id": "348b4c74",
   "metadata": {},
   "source": [
    "nombre_infected        29\n",
    "nombre_sain          1918\n",
    "nombre_exposed         20\n",
    "nombre_recovered    18033\n",
    "Name: 83, dtype: int64"
   ]
  },
  {
   "cell_type": "markdown",
   "id": "df3186d5",
   "metadata": {},
   "source": [
    "nombre_infected        29\n",
    "nombre_sain          1993\n",
    "nombre_exposed         13\n",
    "nombre_recovered    17965\n",
    "Name: 84, dtype: int64"
   ]
  },
  {
   "cell_type": "markdown",
   "id": "7cc96068",
   "metadata": {},
   "source": [
    "nombre_infected        30\n",
    "nombre_sain          2043\n",
    "nombre_exposed         11\n",
    "nombre_recovered    17916\n",
    "Name: 85, dtype: int64"
   ]
  },
  {
   "cell_type": "markdown",
   "id": "0bb9b04a",
   "metadata": {},
   "source": [
    "nombre_infected        24\n",
    "nombre_sain          2095\n",
    "nombre_exposed         13\n",
    "nombre_recovered    17868\n",
    "Name: 86, dtype: int64"
   ]
  },
  {
   "cell_type": "markdown",
   "id": "bff6aa7a",
   "metadata": {},
   "source": [
    "nombre_infected        26\n",
    "nombre_sain          2144\n",
    "nombre_exposed         12\n",
    "nombre_recovered    17818\n",
    "Name: 87, dtype: int64"
   ]
  },
  {
   "cell_type": "markdown",
   "id": "9aa7b437",
   "metadata": {},
   "source": [
    "nombre_infected        21\n",
    "nombre_sain          2191\n",
    "nombre_exposed         11\n",
    "nombre_recovered    17777\n",
    "Name: 88, dtype: int64"
   ]
  },
  {
   "cell_type": "markdown",
   "id": "8e5369d5",
   "metadata": {},
   "source": [
    "nombre_infected        23\n",
    "nombre_sain          2251\n",
    "nombre_exposed          8\n",
    "nombre_recovered    17718\n",
    "Name: 89, dtype: int64"
   ]
  },
  {
   "cell_type": "markdown",
   "id": "7b4a1aea",
   "metadata": {},
   "source": [
    "nombre_infected        24\n",
    "nombre_sain          2299\n",
    "nombre_exposed         11\n",
    "nombre_recovered    17666\n",
    "Name: 90, dtype: int64"
   ]
  },
  {
   "cell_type": "markdown",
   "id": "98051fb6",
   "metadata": {},
   "source": [
    "nombre_infected        19\n",
    "nombre_sain          2349\n",
    "nombre_exposed         11\n",
    "nombre_recovered    17621\n",
    "Name: 91, dtype: int64"
   ]
  },
  {
   "cell_type": "markdown",
   "id": "b0423186",
   "metadata": {},
   "source": [
    "nombre_infected        19\n",
    "nombre_sain          2399\n",
    "nombre_exposed         13\n",
    "nombre_recovered    17569\n",
    "Name: 92, dtype: int64"
   ]
  },
  {
   "cell_type": "markdown",
   "id": "56e45cde",
   "metadata": {},
   "source": [
    "nombre_infected        15\n",
    "nombre_sain          2453\n",
    "nombre_exposed         13\n",
    "nombre_recovered    17519\n",
    "Name: 93, dtype: int64"
   ]
  },
  {
   "cell_type": "markdown",
   "id": "8dcdf50e",
   "metadata": {},
   "source": [
    "nombre_infected        17\n",
    "nombre_sain          2508\n",
    "nombre_exposed         10\n",
    "nombre_recovered    17465\n",
    "Name: 94, dtype: int64"
   ]
  },
  {
   "cell_type": "markdown",
   "id": "892c2191",
   "metadata": {},
   "source": [
    "nombre_infected        17\n",
    "nombre_sain          2559\n",
    "nombre_exposed         10\n",
    "nombre_recovered    17414\n",
    "Name: 95, dtype: int64"
   ]
  },
  {
   "cell_type": "markdown",
   "id": "e24f0aa1",
   "metadata": {},
   "source": [
    "nombre_infected        16\n",
    "nombre_sain          2594\n",
    "nombre_exposed         11\n",
    "nombre_recovered    17379\n",
    "Name: 96, dtype: int64"
   ]
  },
  {
   "cell_type": "markdown",
   "id": "84f618ff",
   "metadata": {},
   "source": [
    "nombre_infected        15\n",
    "nombre_sain          2625\n",
    "nombre_exposed         12\n",
    "nombre_recovered    17348\n",
    "Name: 97, dtype: int64"
   ]
  },
  {
   "cell_type": "markdown",
   "id": "ffea77ec",
   "metadata": {},
   "source": [
    "nombre_infected        14\n",
    "nombre_sain          2674\n",
    "nombre_exposed         11\n",
    "nombre_recovered    17301\n",
    "Name: 98, dtype: int64"
   ]
  },
  {
   "cell_type": "markdown",
   "id": "d279f2fb",
   "metadata": {},
   "source": [
    "nombre_infected        14\n",
    "nombre_sain          2718\n",
    "nombre_exposed         10\n",
    "nombre_recovered    17258\n",
    "Name: 99, dtype: int64"
   ]
  },
  {
   "cell_type": "markdown",
   "id": "def3e1f4",
   "metadata": {},
   "source": [
    "nombre_infected        16\n",
    "nombre_sain          2743\n",
    "nombre_exposed          8\n",
    "nombre_recovered    17233\n",
    "Name: 100, dtype: int64"
   ]
  },
  {
   "cell_type": "markdown",
   "id": "4a8534e5",
   "metadata": {},
   "source": [
    "nombre_infected        15\n",
    "nombre_sain          2772\n",
    "nombre_exposed          8\n",
    "nombre_recovered    17205\n",
    "Name: 101, dtype: int64"
   ]
  },
  {
   "cell_type": "markdown",
   "id": "b34b9745",
   "metadata": {},
   "source": [
    "nombre_infected        12\n",
    "nombre_sain          2796\n",
    "nombre_exposed          8\n",
    "nombre_recovered    17184\n",
    "Name: 102, dtype: int64"
   ]
  },
  {
   "cell_type": "markdown",
   "id": "635fc679",
   "metadata": {},
   "source": [
    "nombre_infected        11\n",
    "nombre_sain          2828\n",
    "nombre_exposed          6\n",
    "nombre_recovered    17155\n",
    "Name: 103, dtype: int64"
   ]
  },
  {
   "cell_type": "markdown",
   "id": "3cf9e56e",
   "metadata": {},
   "source": [
    "nombre_infected        11\n",
    "nombre_sain          2856\n",
    "nombre_exposed         10\n",
    "nombre_recovered    17123\n",
    "Name: 104, dtype: int64"
   ]
  },
  {
   "cell_type": "markdown",
   "id": "031c30e4",
   "metadata": {},
   "source": [
    "nombre_infected        10\n",
    "nombre_sain          2880\n",
    "nombre_exposed         11\n",
    "nombre_recovered    17099\n",
    "Name: 105, dtype: int64"
   ]
  },
  {
   "cell_type": "markdown",
   "id": "5607cc1a",
   "metadata": {},
   "source": [
    "nombre_infected        12\n",
    "nombre_sain          2909\n",
    "nombre_exposed          9\n",
    "nombre_recovered    17070\n",
    "Name: 106, dtype: int64"
   ]
  },
  {
   "cell_type": "markdown",
   "id": "574d5b44",
   "metadata": {},
   "source": [
    "nombre_infected         9\n",
    "nombre_sain          2943\n",
    "nombre_exposed          7\n",
    "nombre_recovered    17041\n",
    "Name: 107, dtype: int64"
   ]
  },
  {
   "cell_type": "markdown",
   "id": "934e11c9",
   "metadata": {},
   "source": [
    "nombre_infected         9\n",
    "nombre_sain          2987\n",
    "nombre_exposed          7\n",
    "nombre_recovered    16997\n",
    "Name: 108, dtype: int64"
   ]
  },
  {
   "cell_type": "markdown",
   "id": "b2049462",
   "metadata": {},
   "source": [
    "nombre_infected        11\n",
    "nombre_sain          3024\n",
    "nombre_exposed          7\n",
    "nombre_recovered    16958\n",
    "Name: 109, dtype: int64"
   ]
  },
  {
   "cell_type": "markdown",
   "id": "fe7397a4",
   "metadata": {},
   "source": [
    "nombre_infected        12\n",
    "nombre_sain          3056\n",
    "nombre_exposed          9\n",
    "nombre_recovered    16923\n",
    "Name: 110, dtype: int64"
   ]
  },
  {
   "cell_type": "markdown",
   "id": "38978b48",
   "metadata": {},
   "source": [
    "nombre_infected        10\n",
    "nombre_sain          3099\n",
    "nombre_exposed         11\n",
    "nombre_recovered    16880\n",
    "Name: 111, dtype: int64"
   ]
  },
  {
   "cell_type": "markdown",
   "id": "4bf928c7",
   "metadata": {},
   "source": [
    "nombre_infected        11\n",
    "nombre_sain          3153\n",
    "nombre_exposed          9\n",
    "nombre_recovered    16827\n",
    "Name: 112, dtype: int64"
   ]
  },
  {
   "cell_type": "markdown",
   "id": "4073ca5a",
   "metadata": {},
   "source": [
    "nombre_infected        12\n",
    "nombre_sain          3216\n",
    "nombre_exposed          9\n",
    "nombre_recovered    16763\n",
    "Name: 113, dtype: int64"
   ]
  },
  {
   "cell_type": "markdown",
   "id": "dde4c27d",
   "metadata": {},
   "source": [
    "nombre_infected        13\n",
    "nombre_sain          3268\n",
    "nombre_exposed          9\n",
    "nombre_recovered    16710\n",
    "Name: 114, dtype: int64"
   ]
  },
  {
   "cell_type": "markdown",
   "id": "c751f086",
   "metadata": {},
   "source": [
    "nombre_infected        13\n",
    "nombre_sain          3332\n",
    "nombre_exposed         10\n",
    "nombre_recovered    16645\n",
    "Name: 115, dtype: int64"
   ]
  },
  {
   "cell_type": "markdown",
   "id": "b88eeae4",
   "metadata": {},
   "source": [
    "nombre_infected        12\n",
    "nombre_sain          3407\n",
    "nombre_exposed         10\n",
    "nombre_recovered    16571\n",
    "Name: 116, dtype: int64"
   ]
  },
  {
   "cell_type": "markdown",
   "id": "d578052b",
   "metadata": {},
   "source": [
    "nombre_infected        12\n",
    "nombre_sain          3475\n",
    "nombre_exposed         13\n",
    "nombre_recovered    16500\n",
    "Name: 117, dtype: int64"
   ]
  },
  {
   "cell_type": "markdown",
   "id": "ebec0b3c",
   "metadata": {},
   "source": [
    "nombre_infected        15\n",
    "nombre_sain          3525\n",
    "nombre_exposed         11\n",
    "nombre_recovered    16449\n",
    "Name: 118, dtype: int64"
   ]
  },
  {
   "cell_type": "markdown",
   "id": "2a6365c2",
   "metadata": {},
   "source": [
    "nombre_infected        17\n",
    "nombre_sain          3579\n",
    "nombre_exposed         11\n",
    "nombre_recovered    16393\n",
    "Name: 119, dtype: int64"
   ]
  },
  {
   "cell_type": "markdown",
   "id": "445c0420",
   "metadata": {},
   "source": [
    "nombre_infected        15\n",
    "nombre_sain          3627\n",
    "nombre_exposed         11\n",
    "nombre_recovered    16347\n",
    "Name: 120, dtype: int64"
   ]
  },
  {
   "cell_type": "markdown",
   "id": "0beea63f",
   "metadata": {},
   "source": [
    "nombre_infected        15\n",
    "nombre_sain          3671\n",
    "nombre_exposed         15\n",
    "nombre_recovered    16299\n",
    "Name: 121, dtype: int64"
   ]
  },
  {
   "cell_type": "markdown",
   "id": "8b89ae06",
   "metadata": {},
   "source": [
    "nombre_infected        15\n",
    "nombre_sain          3715\n",
    "nombre_exposed         15\n",
    "nombre_recovered    16255\n",
    "Name: 122, dtype: int64"
   ]
  },
  {
   "cell_type": "markdown",
   "id": "3ff5426b",
   "metadata": {},
   "source": [
    "nombre_infected        20\n",
    "nombre_sain          3762\n",
    "nombre_exposed         11\n",
    "nombre_recovered    16207\n",
    "Name: 123, dtype: int64"
   ]
  },
  {
   "cell_type": "markdown",
   "id": "a625b55b",
   "metadata": {},
   "source": [
    "nombre_infected        19\n",
    "nombre_sain          3810\n",
    "nombre_exposed         11\n",
    "nombre_recovered    16160\n",
    "Name: 124, dtype: int64"
   ]
  },
  {
   "cell_type": "markdown",
   "id": "8cd96ef0",
   "metadata": {},
   "source": [
    "nombre_infected        20\n",
    "nombre_sain          3854\n",
    "nombre_exposed          8\n",
    "nombre_recovered    16118\n",
    "Name: 125, dtype: int64"
   ]
  },
  {
   "cell_type": "markdown",
   "id": "ea4c3f81",
   "metadata": {},
   "source": [
    "nombre_infected        18\n",
    "nombre_sain          3895\n",
    "nombre_exposed          8\n",
    "nombre_recovered    16079\n",
    "Name: 126, dtype: int64"
   ]
  },
  {
   "cell_type": "markdown",
   "id": "891bd6b3",
   "metadata": {},
   "source": [
    "nombre_infected        15\n",
    "nombre_sain          3941\n",
    "nombre_exposed         10\n",
    "nombre_recovered    16034\n",
    "Name: 127, dtype: int64"
   ]
  },
  {
   "cell_type": "markdown",
   "id": "0e74f5de",
   "metadata": {},
   "source": [
    "nombre_infected        16\n",
    "nombre_sain          3997\n",
    "nombre_exposed         12\n",
    "nombre_recovered    15975\n",
    "Name: 128, dtype: int64"
   ]
  },
  {
   "cell_type": "markdown",
   "id": "27321ab6",
   "metadata": {},
   "source": [
    "nombre_infected        16\n",
    "nombre_sain          4049\n",
    "nombre_exposed         12\n",
    "nombre_recovered    15923\n",
    "Name: 129, dtype: int64"
   ]
  },
  {
   "cell_type": "markdown",
   "id": "3fa987f4",
   "metadata": {},
   "source": [
    "nombre_infected        16\n",
    "nombre_sain          4096\n",
    "nombre_exposed         13\n",
    "nombre_recovered    15875\n",
    "Name: 130, dtype: int64"
   ]
  },
  {
   "cell_type": "markdown",
   "id": "c8f737d3",
   "metadata": {},
   "source": [
    "nombre_infected        17\n",
    "nombre_sain          4124\n",
    "nombre_exposed         15\n",
    "nombre_recovered    15844\n",
    "Name: 131, dtype: int64"
   ]
  },
  {
   "cell_type": "markdown",
   "id": "87db62e7",
   "metadata": {},
   "source": [
    "nombre_infected        19\n",
    "nombre_sain          4166\n",
    "nombre_exposed         18\n",
    "nombre_recovered    15797\n",
    "Name: 132, dtype: int64"
   ]
  },
  {
   "cell_type": "markdown",
   "id": "61a1e177",
   "metadata": {},
   "source": [
    "nombre_infected        20\n",
    "nombre_sain          4214\n",
    "nombre_exposed         22\n",
    "nombre_recovered    15744\n",
    "Name: 133, dtype: int64"
   ]
  },
  {
   "cell_type": "markdown",
   "id": "1cc19ad7",
   "metadata": {},
   "source": [
    "nombre_infected        25\n",
    "nombre_sain          4259\n",
    "nombre_exposed         19\n",
    "nombre_recovered    15697\n",
    "Name: 134, dtype: int64"
   ]
  },
  {
   "cell_type": "markdown",
   "id": "b8e2073e",
   "metadata": {},
   "source": [
    "nombre_infected        24\n",
    "nombre_sain          4292\n",
    "nombre_exposed         22\n",
    "nombre_recovered    15662\n",
    "Name: 135, dtype: int64"
   ]
  },
  {
   "cell_type": "markdown",
   "id": "c1061f4d",
   "metadata": {},
   "source": [
    "nombre_infected        26\n",
    "nombre_sain          4333\n",
    "nombre_exposed         22\n",
    "nombre_recovered    15619\n",
    "Name: 136, dtype: int64"
   ]
  },
  {
   "cell_type": "markdown",
   "id": "7d352a12",
   "metadata": {},
   "source": [
    "nombre_infected        26\n",
    "nombre_sain          4379\n",
    "nombre_exposed         25\n",
    "nombre_recovered    15570\n",
    "Name: 137, dtype: int64"
   ]
  },
  {
   "cell_type": "markdown",
   "id": "afe1b48c",
   "metadata": {},
   "source": [
    "nombre_infected        26\n",
    "nombre_sain          4425\n",
    "nombre_exposed         25\n",
    "nombre_recovered    15524\n",
    "Name: 138, dtype: int64"
   ]
  },
  {
   "cell_type": "markdown",
   "id": "b84714e5",
   "metadata": {},
   "source": [
    "nombre_infected        25\n",
    "nombre_sain          4469\n",
    "nombre_exposed         26\n",
    "nombre_recovered    15480\n",
    "Name: 139, dtype: int64"
   ]
  },
  {
   "cell_type": "markdown",
   "id": "c3298ee1",
   "metadata": {},
   "source": [
    "nombre_infected        25\n",
    "nombre_sain          4490\n",
    "nombre_exposed         28\n",
    "nombre_recovered    15457\n",
    "Name: 140, dtype: int64"
   ]
  },
  {
   "cell_type": "markdown",
   "id": "67f3489c",
   "metadata": {},
   "source": [
    "nombre_infected        26\n",
    "nombre_sain          4509\n",
    "nombre_exposed         33\n",
    "nombre_recovered    15432\n",
    "Name: 141, dtype: int64"
   ]
  },
  {
   "cell_type": "markdown",
   "id": "1c9de193",
   "metadata": {},
   "source": [
    "nombre_infected        27\n",
    "nombre_sain          4566\n",
    "nombre_exposed         31\n",
    "nombre_recovered    15376\n",
    "Name: 142, dtype: int64"
   ]
  },
  {
   "cell_type": "markdown",
   "id": "0ce67a3a",
   "metadata": {},
   "source": [
    "nombre_infected        25\n",
    "nombre_sain          4607\n",
    "nombre_exposed         42\n",
    "nombre_recovered    15326\n",
    "Name: 143, dtype: int64"
   ]
  },
  {
   "cell_type": "markdown",
   "id": "8fa478e1",
   "metadata": {},
   "source": [
    "nombre_infected        31\n",
    "nombre_sain          4651\n",
    "nombre_exposed         41\n",
    "nombre_recovered    15277\n",
    "Name: 144, dtype: int64"
   ]
  },
  {
   "cell_type": "markdown",
   "id": "222de7f5",
   "metadata": {},
   "source": [
    "nombre_infected        36\n",
    "nombre_sain          4691\n",
    "nombre_exposed         39\n",
    "nombre_recovered    15234\n",
    "Name: 145, dtype: int64"
   ]
  },
  {
   "cell_type": "markdown",
   "id": "af9a270e",
   "metadata": {},
   "source": [
    "nombre_infected        39\n",
    "nombre_sain          4758\n",
    "nombre_exposed         40\n",
    "nombre_recovered    15163\n",
    "Name: 146, dtype: int64"
   ]
  },
  {
   "cell_type": "markdown",
   "id": "78ebe6ef",
   "metadata": {},
   "source": [
    "nombre_infected        39\n",
    "nombre_sain          4809\n",
    "nombre_exposed         49\n",
    "nombre_recovered    15103\n",
    "Name: 147, dtype: int64"
   ]
  },
  {
   "cell_type": "markdown",
   "id": "3fa29b38",
   "metadata": {},
   "source": [
    "nombre_infected        41\n",
    "nombre_sain          4842\n",
    "nombre_exposed         50\n",
    "nombre_recovered    15067\n",
    "Name: 148, dtype: int64"
   ]
  },
  {
   "cell_type": "markdown",
   "id": "cad82fb0",
   "metadata": {},
   "source": [
    "nombre_infected        51\n",
    "nombre_sain          4881\n",
    "nombre_exposed         50\n",
    "nombre_recovered    15018\n",
    "Name: 149, dtype: int64"
   ]
  },
  {
   "cell_type": "markdown",
   "id": "dcb0f3fd",
   "metadata": {},
   "source": [
    "nombre_infected        59\n",
    "nombre_sain          4923\n",
    "nombre_exposed         58\n",
    "nombre_recovered    14960\n",
    "Name: 150, dtype: int64"
   ]
  },
  {
   "cell_type": "markdown",
   "id": "f3309b5e",
   "metadata": {},
   "source": [
    "nombre_infected        51\n",
    "nombre_sain          4961\n",
    "nombre_exposed         72\n",
    "nombre_recovered    14916\n",
    "Name: 151, dtype: int64"
   ]
  },
  {
   "cell_type": "markdown",
   "id": "1b60d285",
   "metadata": {},
   "source": [
    "nombre_infected        56\n",
    "nombre_sain          5001\n",
    "nombre_exposed         76\n",
    "nombre_recovered    14867\n",
    "Name: 152, dtype: int64"
   ]
  },
  {
   "cell_type": "markdown",
   "id": "7f56afe9",
   "metadata": {},
   "source": [
    "nombre_infected        62\n",
    "nombre_sain          5030\n",
    "nombre_exposed         82\n",
    "nombre_recovered    14826\n",
    "Name: 153, dtype: int64"
   ]
  },
  {
   "cell_type": "markdown",
   "id": "5bc98896",
   "metadata": {},
   "source": [
    "nombre_infected        72\n",
    "nombre_sain          5077\n",
    "nombre_exposed         83\n",
    "nombre_recovered    14768\n",
    "Name: 154, dtype: int64"
   ]
  },
  {
   "cell_type": "markdown",
   "id": "f24fb28d",
   "metadata": {},
   "source": [
    "nombre_infected        83\n",
    "nombre_sain          5101\n",
    "nombre_exposed         91\n",
    "nombre_recovered    14725\n",
    "Name: 155, dtype: int64"
   ]
  },
  {
   "cell_type": "markdown",
   "id": "79016eaf",
   "metadata": {},
   "source": [
    "nombre_infected        86\n",
    "nombre_sain          5117\n",
    "nombre_exposed        115\n",
    "nombre_recovered    14682\n",
    "Name: 156, dtype: int64"
   ]
  },
  {
   "cell_type": "markdown",
   "id": "08b28874",
   "metadata": {},
   "source": [
    "nombre_infected        93\n",
    "nombre_sain          5138\n",
    "nombre_exposed        122\n",
    "nombre_recovered    14647\n",
    "Name: 157, dtype: int64"
   ]
  },
  {
   "cell_type": "markdown",
   "id": "5a929501",
   "metadata": {},
   "source": [
    "nombre_infected        99\n",
    "nombre_sain          5155\n",
    "nombre_exposed        131\n",
    "nombre_recovered    14615\n",
    "Name: 158, dtype: int64"
   ]
  },
  {
   "cell_type": "markdown",
   "id": "122f7daa",
   "metadata": {},
   "source": [
    "nombre_infected       114\n",
    "nombre_sain          5163\n",
    "nombre_exposed        148\n",
    "nombre_recovered    14575\n",
    "Name: 159, dtype: int64"
   ]
  },
  {
   "cell_type": "markdown",
   "id": "78c17270",
   "metadata": {},
   "source": [
    "nombre_infected       125\n",
    "nombre_sain          5156\n",
    "nombre_exposed        157\n",
    "nombre_recovered    14562\n",
    "Name: 160, dtype: int64"
   ]
  },
  {
   "cell_type": "markdown",
   "id": "b988af1e",
   "metadata": {},
   "source": [
    "nombre_infected       140\n",
    "nombre_sain          5150\n",
    "nombre_exposed        171\n",
    "nombre_recovered    14539\n",
    "Name: 161, dtype: int64"
   ]
  },
  {
   "cell_type": "markdown",
   "id": "8231421d",
   "metadata": {},
   "source": [
    "nombre_infected       160\n",
    "nombre_sain          5139\n",
    "nombre_exposed        176\n",
    "nombre_recovered    14525\n",
    "Name: 162, dtype: int64"
   ]
  },
  {
   "cell_type": "markdown",
   "id": "98e2b99c",
   "metadata": {},
   "source": [
    "nombre_infected       190\n",
    "nombre_sain          5120\n",
    "nombre_exposed        184\n",
    "nombre_recovered    14506\n",
    "Name: 163, dtype: int64"
   ]
  },
  {
   "cell_type": "markdown",
   "id": "3505da90",
   "metadata": {},
   "source": [
    "nombre_infected       190\n",
    "nombre_sain          5094\n",
    "nombre_exposed        217\n",
    "nombre_recovered    14499\n",
    "Name: 164, dtype: int64"
   ]
  },
  {
   "cell_type": "markdown",
   "id": "cd42325c",
   "metadata": {},
   "source": [
    "nombre_infected       199\n",
    "nombre_sain          5051\n",
    "nombre_exposed        258\n",
    "nombre_recovered    14492\n",
    "Name: 165, dtype: int64"
   ]
  },
  {
   "cell_type": "markdown",
   "id": "a1829712",
   "metadata": {},
   "source": [
    "nombre_infected       220\n",
    "nombre_sain          5004\n",
    "nombre_exposed        275\n",
    "nombre_recovered    14501\n",
    "Name: 166, dtype: int64"
   ]
  },
  {
   "cell_type": "markdown",
   "id": "ac0dce30",
   "metadata": {},
   "source": [
    "nombre_infected       243\n",
    "nombre_sain          4976\n",
    "nombre_exposed        280\n",
    "nombre_recovered    14501\n",
    "Name: 167, dtype: int64"
   ]
  },
  {
   "cell_type": "markdown",
   "id": "e9f48901",
   "metadata": {},
   "source": [
    "nombre_infected       273\n",
    "nombre_sain          4939\n",
    "nombre_exposed        283\n",
    "nombre_recovered    14505\n",
    "Name: 168, dtype: int64"
   ]
  },
  {
   "cell_type": "markdown",
   "id": "f786af24",
   "metadata": {},
   "source": [
    "nombre_infected       306\n",
    "nombre_sain          4890\n",
    "nombre_exposed        303\n",
    "nombre_recovered    14501\n",
    "Name: 169, dtype: int64"
   ]
  },
  {
   "cell_type": "markdown",
   "id": "58c6f3df",
   "metadata": {},
   "source": [
    "nombre_infected       332\n",
    "nombre_sain          4828\n",
    "nombre_exposed        333\n",
    "nombre_recovered    14507\n",
    "Name: 170, dtype: int64"
   ]
  },
  {
   "cell_type": "markdown",
   "id": "15002993",
   "metadata": {},
   "source": [
    "nombre_infected       356\n",
    "nombre_sain          4742\n",
    "nombre_exposed        391\n",
    "nombre_recovered    14511\n",
    "Name: 171, dtype: int64"
   ]
  },
  {
   "cell_type": "markdown",
   "id": "08888c3b",
   "metadata": {},
   "source": [
    "nombre_infected       377\n",
    "nombre_sain          4696\n",
    "nombre_exposed        409\n",
    "nombre_recovered    14518\n",
    "Name: 172, dtype: int64"
   ]
  },
  {
   "cell_type": "markdown",
   "id": "0f10781b",
   "metadata": {},
   "source": [
    "nombre_infected       429\n",
    "nombre_sain          4610\n",
    "nombre_exposed        437\n",
    "nombre_recovered    14524\n",
    "Name: 173, dtype: int64"
   ]
  },
  {
   "cell_type": "markdown",
   "id": "b96b9ec3",
   "metadata": {},
   "source": [
    "nombre_infected       454\n",
    "nombre_sain          4539\n",
    "nombre_exposed        488\n",
    "nombre_recovered    14519\n",
    "Name: 174, dtype: int64"
   ]
  },
  {
   "cell_type": "markdown",
   "id": "6dbe3f37",
   "metadata": {},
   "source": [
    "nombre_infected       508\n",
    "nombre_sain          4444\n",
    "nombre_exposed        517\n",
    "nombre_recovered    14531\n",
    "Name: 175, dtype: int64"
   ]
  },
  {
   "cell_type": "markdown",
   "id": "f2544d57",
   "metadata": {},
   "source": [
    "nombre_infected       535\n",
    "nombre_sain          4337\n",
    "nombre_exposed        598\n",
    "nombre_recovered    14530\n",
    "Name: 176, dtype: int64"
   ]
  },
  {
   "cell_type": "markdown",
   "id": "72a19dd1",
   "metadata": {},
   "source": [
    "nombre_infected       589\n",
    "nombre_sain          4239\n",
    "nombre_exposed        644\n",
    "nombre_recovered    14528\n",
    "Name: 177, dtype: int64"
   ]
  },
  {
   "cell_type": "markdown",
   "id": "3af13c54",
   "metadata": {},
   "source": [
    "nombre_infected       657\n",
    "nombre_sain          4127\n",
    "nombre_exposed        680\n",
    "nombre_recovered    14536\n",
    "Name: 178, dtype: int64"
   ]
  },
  {
   "cell_type": "markdown",
   "id": "5427b11f",
   "metadata": {},
   "source": [
    "nombre_infected       694\n",
    "nombre_sain          4024\n",
    "nombre_exposed        718\n",
    "nombre_recovered    14564\n",
    "Name: 179, dtype: int64"
   ]
  },
  {
   "cell_type": "markdown",
   "id": "9b0ef3ba",
   "metadata": {},
   "source": [
    "nombre_infected       731\n",
    "nombre_sain          3931\n",
    "nombre_exposed        739\n",
    "nombre_recovered    14599\n",
    "Name: 180, dtype: int64"
   ]
  },
  {
   "cell_type": "markdown",
   "id": "a6170100",
   "metadata": {},
   "source": [
    "nombre_infected       783\n",
    "nombre_sain          3806\n",
    "nombre_exposed        767\n",
    "nombre_recovered    14644\n",
    "Name: 181, dtype: int64"
   ]
  },
  {
   "cell_type": "markdown",
   "id": "539394c1",
   "metadata": {},
   "source": [
    "nombre_infected       857\n",
    "nombre_sain          3671\n",
    "nombre_exposed        790\n",
    "nombre_recovered    14682\n",
    "Name: 182, dtype: int64"
   ]
  },
  {
   "cell_type": "markdown",
   "id": "6c1a1b90",
   "metadata": {},
   "source": [
    "nombre_infected       904\n",
    "nombre_sain          3518\n",
    "nombre_exposed        831\n",
    "nombre_recovered    14747\n",
    "Name: 183, dtype: int64"
   ]
  },
  {
   "cell_type": "markdown",
   "id": "14d5b26b",
   "metadata": {},
   "source": [
    "nombre_infected      1006\n",
    "nombre_sain          3330\n",
    "nombre_exposed        848\n",
    "nombre_recovered    14816\n",
    "Name: 184, dtype: int64"
   ]
  },
  {
   "cell_type": "markdown",
   "id": "87b878be",
   "metadata": {},
   "source": [
    "nombre_infected      1078\n",
    "nombre_sain          3160\n",
    "nombre_exposed        890\n",
    "nombre_recovered    14872\n",
    "Name: 185, dtype: int64"
   ]
  },
  {
   "cell_type": "markdown",
   "id": "9419973c",
   "metadata": {},
   "source": [
    "nombre_infected      1146\n",
    "nombre_sain          3001\n",
    "nombre_exposed        907\n",
    "nombre_recovered    14946\n",
    "Name: 186, dtype: int64"
   ]
  },
  {
   "cell_type": "markdown",
   "id": "7ee1e018",
   "metadata": {},
   "source": [
    "nombre_infected      1178\n",
    "nombre_sain          2844\n",
    "nombre_exposed        925\n",
    "nombre_recovered    15053\n",
    "Name: 187, dtype: int64"
   ]
  },
  {
   "cell_type": "markdown",
   "id": "6efdec96",
   "metadata": {},
   "source": [
    "nombre_infected      1234\n",
    "nombre_sain          2673\n",
    "nombre_exposed        943\n",
    "nombre_recovered    15150\n",
    "Name: 188, dtype: int64"
   ]
  },
  {
   "cell_type": "markdown",
   "id": "14ef1012",
   "metadata": {},
   "source": [
    "nombre_infected      1286\n",
    "nombre_sain          2508\n",
    "nombre_exposed        941\n",
    "nombre_recovered    15265\n",
    "Name: 189, dtype: int64"
   ]
  },
  {
   "cell_type": "markdown",
   "id": "86da66b5",
   "metadata": {},
   "source": [
    "nombre_infected      1297\n",
    "nombre_sain          2353\n",
    "nombre_exposed        948\n",
    "nombre_recovered    15402\n",
    "Name: 190, dtype: int64"
   ]
  },
  {
   "cell_type": "markdown",
   "id": "e6074964",
   "metadata": {},
   "source": [
    "nombre_infected      1346\n",
    "nombre_sain          2223\n",
    "nombre_exposed        904\n",
    "nombre_recovered    15527\n",
    "Name: 191, dtype: int64"
   ]
  },
  {
   "cell_type": "markdown",
   "id": "d7c1d318",
   "metadata": {},
   "source": [
    "nombre_infected      1380\n",
    "nombre_sain          2111\n",
    "nombre_exposed        859\n",
    "nombre_recovered    15650\n",
    "Name: 192, dtype: int64"
   ]
  },
  {
   "cell_type": "markdown",
   "id": "725e78f4",
   "metadata": {},
   "source": [
    "nombre_infected      1406\n",
    "nombre_sain          1987\n",
    "nombre_exposed        848\n",
    "nombre_recovered    15759\n",
    "Name: 193, dtype: int64"
   ]
  },
  {
   "cell_type": "markdown",
   "id": "096f06eb",
   "metadata": {},
   "source": [
    "nombre_infected      1379\n",
    "nombre_sain          1866\n",
    "nombre_exposed        867\n",
    "nombre_recovered    15888\n",
    "Name: 194, dtype: int64"
   ]
  },
  {
   "cell_type": "markdown",
   "id": "9f10073a",
   "metadata": {},
   "source": [
    "nombre_infected      1348\n",
    "nombre_sain          1791\n",
    "nombre_exposed        829\n",
    "nombre_recovered    16032\n",
    "Name: 195, dtype: int64"
   ]
  },
  {
   "cell_type": "markdown",
   "id": "386271e1",
   "metadata": {},
   "source": [
    "nombre_infected      1320\n",
    "nombre_sain          1717\n",
    "nombre_exposed        810\n",
    "nombre_recovered    16153\n",
    "Name: 196, dtype: int64"
   ]
  },
  {
   "cell_type": "markdown",
   "id": "e3c979ca",
   "metadata": {},
   "source": [
    "nombre_infected      1320\n",
    "nombre_sain          1646\n",
    "nombre_exposed        758\n",
    "nombre_recovered    16276\n",
    "Name: 197, dtype: int64"
   ]
  },
  {
   "cell_type": "markdown",
   "id": "4d79c846",
   "metadata": {},
   "source": [
    "nombre_infected      1294\n",
    "nombre_sain          1552\n",
    "nombre_exposed        770\n",
    "nombre_recovered    16384\n",
    "Name: 198, dtype: int64"
   ]
  },
  {
   "cell_type": "markdown",
   "id": "c5760cbe",
   "metadata": {},
   "source": [
    "nombre_infected      1299\n",
    "nombre_sain          1528\n",
    "nombre_exposed        701\n",
    "nombre_recovered    16472\n",
    "Name: 199, dtype: int64"
   ]
  },
  {
   "cell_type": "markdown",
   "id": "bdfdfc91",
   "metadata": {},
   "source": [
    "nombre_infected      1292\n",
    "nombre_sain          1477\n",
    "nombre_exposed        672\n",
    "nombre_recovered    16559\n",
    "Name: 200, dtype: int64"
   ]
  },
  {
   "cell_type": "markdown",
   "id": "1b2d0471",
   "metadata": {},
   "source": [
    "nombre_infected      1272\n",
    "nombre_sain          1439\n",
    "nombre_exposed        629\n",
    "nombre_recovered    16660\n",
    "Name: 201, dtype: int64"
   ]
  },
  {
   "cell_type": "markdown",
   "id": "1c6cda71",
   "metadata": {},
   "source": [
    "nombre_infected      1227\n",
    "nombre_sain          1380\n",
    "nombre_exposed        602\n",
    "nombre_recovered    16791\n",
    "Name: 202, dtype: int64"
   ]
  },
  {
   "cell_type": "markdown",
   "id": "539c0228",
   "metadata": {},
   "source": [
    "nombre_infected      1193\n",
    "nombre_sain          1373\n",
    "nombre_exposed        571\n",
    "nombre_recovered    16863\n",
    "Name: 203, dtype: int64"
   ]
  },
  {
   "cell_type": "markdown",
   "id": "ae89b214",
   "metadata": {},
   "source": [
    "nombre_infected      1156\n",
    "nombre_sain          1336\n",
    "nombre_exposed        551\n",
    "nombre_recovered    16957\n",
    "Name: 204, dtype: int64"
   ]
  },
  {
   "cell_type": "markdown",
   "id": "ead49aa9",
   "metadata": {},
   "source": [
    "nombre_infected      1107\n",
    "nombre_sain          1317\n",
    "nombre_exposed        523\n",
    "nombre_recovered    17053\n",
    "Name: 205, dtype: int64"
   ]
  },
  {
   "cell_type": "markdown",
   "id": "0965047d",
   "metadata": {},
   "source": [
    "nombre_infected      1088\n",
    "nombre_sain          1304\n",
    "nombre_exposed        483\n",
    "nombre_recovered    17125\n",
    "Name: 206, dtype: int64"
   ]
  },
  {
   "cell_type": "markdown",
   "id": "54904a83",
   "metadata": {},
   "source": [
    "nombre_infected      1061\n",
    "nombre_sain          1297\n",
    "nombre_exposed        451\n",
    "nombre_recovered    17191\n",
    "Name: 207, dtype: int64"
   ]
  },
  {
   "cell_type": "markdown",
   "id": "87db3971",
   "metadata": {},
   "source": [
    "nombre_infected      1009\n",
    "nombre_sain          1290\n",
    "nombre_exposed        423\n",
    "nombre_recovered    17278\n",
    "Name: 208, dtype: int64"
   ]
  },
  {
   "cell_type": "markdown",
   "id": "f65396a3",
   "metadata": {},
   "source": [
    "nombre_infected       936\n",
    "nombre_sain          1305\n",
    "nombre_exposed        409\n",
    "nombre_recovered    17350\n",
    "Name: 209, dtype: int64"
   ]
  },
  {
   "cell_type": "markdown",
   "id": "35ab0ee7",
   "metadata": {},
   "source": [
    "nombre_infected       888\n",
    "nombre_sain          1285\n",
    "nombre_exposed        400\n",
    "nombre_recovered    17427\n",
    "Name: 210, dtype: int64"
   ]
  },
  {
   "cell_type": "markdown",
   "id": "62de157d",
   "metadata": {},
   "source": [
    "nombre_infected       861\n",
    "nombre_sain          1298\n",
    "nombre_exposed        382\n",
    "nombre_recovered    17459\n",
    "Name: 211, dtype: int64"
   ]
  },
  {
   "cell_type": "markdown",
   "id": "0b517ef3",
   "metadata": {},
   "source": [
    "nombre_infected       814\n",
    "nombre_sain          1307\n",
    "nombre_exposed        379\n",
    "nombre_recovered    17500\n",
    "Name: 212, dtype: int64"
   ]
  },
  {
   "cell_type": "markdown",
   "id": "2202ab8d",
   "metadata": {},
   "source": [
    "nombre_infected       809\n",
    "nombre_sain          1314\n",
    "nombre_exposed        362\n",
    "nombre_recovered    17515\n",
    "Name: 213, dtype: int64"
   ]
  },
  {
   "cell_type": "markdown",
   "id": "9e618a1b",
   "metadata": {},
   "source": [
    "nombre_infected       788\n",
    "nombre_sain          1321\n",
    "nombre_exposed        351\n",
    "nombre_recovered    17540\n",
    "Name: 214, dtype: int64"
   ]
  },
  {
   "cell_type": "markdown",
   "id": "c9242a18",
   "metadata": {},
   "source": [
    "nombre_infected       747\n",
    "nombre_sain          1358\n",
    "nombre_exposed        337\n",
    "nombre_recovered    17558\n",
    "Name: 215, dtype: int64"
   ]
  },
  {
   "cell_type": "markdown",
   "id": "e8dc95c6",
   "metadata": {},
   "source": [
    "nombre_infected       710\n",
    "nombre_sain          1390\n",
    "nombre_exposed        300\n",
    "nombre_recovered    17600\n",
    "Name: 216, dtype: int64"
   ]
  },
  {
   "cell_type": "markdown",
   "id": "65e9adb8",
   "metadata": {},
   "source": [
    "nombre_infected       680\n",
    "nombre_sain          1402\n",
    "nombre_exposed        294\n",
    "nombre_recovered    17624\n",
    "Name: 217, dtype: int64"
   ]
  },
  {
   "cell_type": "markdown",
   "id": "e54923be",
   "metadata": {},
   "source": [
    "nombre_infected       646\n",
    "nombre_sain          1425\n",
    "nombre_exposed        295\n",
    "nombre_recovered    17634\n",
    "Name: 218, dtype: int64"
   ]
  },
  {
   "cell_type": "markdown",
   "id": "672365a7",
   "metadata": {},
   "source": [
    "nombre_infected       608\n",
    "nombre_sain          1449\n",
    "nombre_exposed        299\n",
    "nombre_recovered    17644\n",
    "Name: 219, dtype: int64"
   ]
  },
  {
   "cell_type": "markdown",
   "id": "193e1c7e",
   "metadata": {},
   "source": [
    "nombre_infected       560\n",
    "nombre_sain          1472\n",
    "nombre_exposed        286\n",
    "nombre_recovered    17682\n",
    "Name: 220, dtype: int64"
   ]
  },
  {
   "cell_type": "markdown",
   "id": "a0cc2d2f",
   "metadata": {},
   "source": [
    "nombre_infected       561\n",
    "nombre_sain          1491\n",
    "nombre_exposed        264\n",
    "nombre_recovered    17684\n",
    "Name: 221, dtype: int64"
   ]
  },
  {
   "cell_type": "markdown",
   "id": "62521035",
   "metadata": {},
   "source": [
    "nombre_infected       541\n",
    "nombre_sain          1533\n",
    "nombre_exposed        260\n",
    "nombre_recovered    17666\n",
    "Name: 222, dtype: int64"
   ]
  },
  {
   "cell_type": "markdown",
   "id": "32daf0b4",
   "metadata": {},
   "source": [
    "nombre_infected       498\n",
    "nombre_sain          1568\n",
    "nombre_exposed        261\n",
    "nombre_recovered    17673\n",
    "Name: 223, dtype: int64"
   ]
  },
  {
   "cell_type": "markdown",
   "id": "9b66004f",
   "metadata": {},
   "source": [
    "nombre_infected       479\n",
    "nombre_sain          1591\n",
    "nombre_exposed        247\n",
    "nombre_recovered    17683\n",
    "Name: 224, dtype: int64"
   ]
  },
  {
   "cell_type": "markdown",
   "id": "84319a25",
   "metadata": {},
   "source": [
    "nombre_infected       461\n",
    "nombre_sain          1635\n",
    "nombre_exposed        236\n",
    "nombre_recovered    17668\n",
    "Name: 225, dtype: int64"
   ]
  },
  {
   "cell_type": "markdown",
   "id": "18ed64bd",
   "metadata": {},
   "source": [
    "nombre_infected       440\n",
    "nombre_sain          1666\n",
    "nombre_exposed        236\n",
    "nombre_recovered    17658\n",
    "Name: 226, dtype: int64"
   ]
  },
  {
   "cell_type": "markdown",
   "id": "1d40552e",
   "metadata": {},
   "source": [
    "nombre_infected       429\n",
    "nombre_sain          1703\n",
    "nombre_exposed        220\n",
    "nombre_recovered    17648\n",
    "Name: 227, dtype: int64"
   ]
  },
  {
   "cell_type": "markdown",
   "id": "f44ffd2f",
   "metadata": {},
   "source": [
    "nombre_infected       412\n",
    "nombre_sain          1735\n",
    "nombre_exposed        232\n",
    "nombre_recovered    17621\n",
    "Name: 228, dtype: int64"
   ]
  },
  {
   "cell_type": "markdown",
   "id": "67f98660",
   "metadata": {},
   "source": [
    "nombre_infected       388\n",
    "nombre_sain          1780\n",
    "nombre_exposed        235\n",
    "nombre_recovered    17597\n",
    "Name: 229, dtype: int64"
   ]
  },
  {
   "cell_type": "markdown",
   "id": "8d6e4f87",
   "metadata": {},
   "source": [
    "nombre_infected       398\n",
    "nombre_sain          1835\n",
    "nombre_exposed        209\n",
    "nombre_recovered    17558\n",
    "Name: 230, dtype: int64"
   ]
  },
  {
   "cell_type": "markdown",
   "id": "607b0f35",
   "metadata": {},
   "source": [
    "nombre_infected       403\n",
    "nombre_sain          1858\n",
    "nombre_exposed        204\n",
    "nombre_recovered    17535\n",
    "Name: 231, dtype: int64"
   ]
  },
  {
   "cell_type": "markdown",
   "id": "c64a56f5",
   "metadata": {},
   "source": [
    "nombre_infected       400\n",
    "nombre_sain          1887\n",
    "nombre_exposed        213\n",
    "nombre_recovered    17500\n",
    "Name: 232, dtype: int64"
   ]
  },
  {
   "cell_type": "markdown",
   "id": "afe426c8",
   "metadata": {},
   "source": [
    "nombre_infected       376\n",
    "nombre_sain          1928\n",
    "nombre_exposed        216\n",
    "nombre_recovered    17480\n",
    "Name: 233, dtype: int64"
   ]
  },
  {
   "cell_type": "markdown",
   "id": "30397bdf",
   "metadata": {},
   "source": [
    "nombre_infected       370\n",
    "nombre_sain          1981\n",
    "nombre_exposed        219\n",
    "nombre_recovered    17430\n",
    "Name: 234, dtype: int64"
   ]
  },
  {
   "cell_type": "markdown",
   "id": "79eefe94",
   "metadata": {},
   "source": [
    "nombre_infected       356\n",
    "nombre_sain          2045\n",
    "nombre_exposed        216\n",
    "nombre_recovered    17383\n",
    "Name: 235, dtype: int64"
   ]
  },
  {
   "cell_type": "markdown",
   "id": "a7614cba",
   "metadata": {},
   "source": [
    "nombre_infected       354\n",
    "nombre_sain          2104\n",
    "nombre_exposed        211\n",
    "nombre_recovered    17331\n",
    "Name: 236, dtype: int64"
   ]
  },
  {
   "cell_type": "markdown",
   "id": "18404ca4",
   "metadata": {},
   "source": [
    "nombre_infected       345\n",
    "nombre_sain          2184\n",
    "nombre_exposed        198\n",
    "nombre_recovered    17273\n",
    "Name: 237, dtype: int64"
   ]
  },
  {
   "cell_type": "markdown",
   "id": "df93dbff",
   "metadata": {},
   "source": [
    "nombre_infected       349\n",
    "nombre_sain          2219\n",
    "nombre_exposed        206\n",
    "nombre_recovered    17226\n",
    "Name: 238, dtype: int64"
   ]
  },
  {
   "cell_type": "markdown",
   "id": "0996a4c4",
   "metadata": {},
   "source": [
    "nombre_infected       327\n",
    "nombre_sain          2276\n",
    "nombre_exposed        217\n",
    "nombre_recovered    17180\n",
    "Name: 239, dtype: int64"
   ]
  },
  {
   "cell_type": "markdown",
   "id": "fb623221",
   "metadata": {},
   "source": [
    "nombre_infected       327\n",
    "nombre_sain          2339\n",
    "nombre_exposed        220\n",
    "nombre_recovered    17114\n",
    "Name: 240, dtype: int64"
   ]
  },
  {
   "cell_type": "markdown",
   "id": "cc9a8189",
   "metadata": {},
   "source": [
    "nombre_infected       330\n",
    "nombre_sain          2384\n",
    "nombre_exposed        215\n",
    "nombre_recovered    17071\n",
    "Name: 241, dtype: int64"
   ]
  },
  {
   "cell_type": "markdown",
   "id": "f1e14925",
   "metadata": {},
   "source": [
    "nombre_infected       332\n",
    "nombre_sain          2444\n",
    "nombre_exposed        207\n",
    "nombre_recovered    17017\n",
    "Name: 242, dtype: int64"
   ]
  },
  {
   "cell_type": "markdown",
   "id": "9ddbcfcb",
   "metadata": {},
   "source": [
    "nombre_infected       326\n",
    "nombre_sain          2492\n",
    "nombre_exposed        221\n",
    "nombre_recovered    16961\n",
    "Name: 243, dtype: int64"
   ]
  },
  {
   "cell_type": "markdown",
   "id": "8a2b64e3",
   "metadata": {},
   "source": [
    "nombre_infected       322\n",
    "nombre_sain          2560\n",
    "nombre_exposed        215\n",
    "nombre_recovered    16903\n",
    "Name: 244, dtype: int64"
   ]
  },
  {
   "cell_type": "markdown",
   "id": "7bad80fc",
   "metadata": {},
   "source": [
    "nombre_infected       322\n",
    "nombre_sain          2606\n",
    "nombre_exposed        222\n",
    "nombre_recovered    16850\n",
    "Name: 245, dtype: int64"
   ]
  },
  {
   "cell_type": "markdown",
   "id": "37d30601",
   "metadata": {},
   "source": [
    "nombre_infected       324\n",
    "nombre_sain          2663\n",
    "nombre_exposed        237\n",
    "nombre_recovered    16776\n",
    "Name: 246, dtype: int64"
   ]
  },
  {
   "cell_type": "markdown",
   "id": "c5a825d2",
   "metadata": {},
   "source": [
    "nombre_infected       318\n",
    "nombre_sain          2709\n",
    "nombre_exposed        242\n",
    "nombre_recovered    16731\n",
    "Name: 247, dtype: int64"
   ]
  },
  {
   "cell_type": "markdown",
   "id": "01f9137a",
   "metadata": {},
   "source": [
    "nombre_infected       327\n",
    "nombre_sain          2750\n",
    "nombre_exposed        240\n",
    "nombre_recovered    16683\n",
    "Name: 248, dtype: int64"
   ]
  },
  {
   "cell_type": "markdown",
   "id": "ffc83612",
   "metadata": {},
   "source": [
    "nombre_infected       312\n",
    "nombre_sain          2805\n",
    "nombre_exposed        262\n",
    "nombre_recovered    16621\n",
    "Name: 249, dtype: int64"
   ]
  },
  {
   "cell_type": "markdown",
   "id": "de767fec",
   "metadata": {},
   "source": [
    "nombre_infected       302\n",
    "nombre_sain          2862\n",
    "nombre_exposed        264\n",
    "nombre_recovered    16572\n",
    "Name: 250, dtype: int64"
   ]
  },
  {
   "cell_type": "markdown",
   "id": "4dc73fef",
   "metadata": {},
   "source": [
    "nombre_infected       310\n",
    "nombre_sain          2905\n",
    "nombre_exposed        276\n",
    "nombre_recovered    16509\n",
    "Name: 251, dtype: int64"
   ]
  },
  {
   "cell_type": "markdown",
   "id": "b33d4be6",
   "metadata": {},
   "source": [
    "nombre_infected       317\n",
    "nombre_sain          2968\n",
    "nombre_exposed        267\n",
    "nombre_recovered    16448\n",
    "Name: 252, dtype: int64"
   ]
  },
  {
   "cell_type": "markdown",
   "id": "9d96ab85",
   "metadata": {},
   "source": [
    "nombre_infected       316\n",
    "nombre_sain          3014\n",
    "nombre_exposed        262\n",
    "nombre_recovered    16408\n",
    "Name: 253, dtype: int64"
   ]
  },
  {
   "cell_type": "markdown",
   "id": "ea2668de",
   "metadata": {},
   "source": [
    "nombre_infected       334\n",
    "nombre_sain          3071\n",
    "nombre_exposed        243\n",
    "nombre_recovered    16352\n",
    "Name: 254, dtype: int64"
   ]
  },
  {
   "cell_type": "markdown",
   "id": "9adafdb5",
   "metadata": {},
   "source": [
    "nombre_infected       334\n",
    "nombre_sain          3106\n",
    "nombre_exposed        250\n",
    "nombre_recovered    16310\n",
    "Name: 255, dtype: int64"
   ]
  },
  {
   "cell_type": "markdown",
   "id": "d0bb15fa",
   "metadata": {},
   "source": [
    "nombre_infected       335\n",
    "nombre_sain          3170\n",
    "nombre_exposed        275\n",
    "nombre_recovered    16220\n",
    "Name: 256, dtype: int64"
   ]
  },
  {
   "cell_type": "markdown",
   "id": "36a2a963",
   "metadata": {},
   "source": [
    "nombre_infected       330\n",
    "nombre_sain          3201\n",
    "nombre_exposed        306\n",
    "nombre_recovered    16163\n",
    "Name: 257, dtype: int64"
   ]
  },
  {
   "cell_type": "markdown",
   "id": "a0f2958d",
   "metadata": {},
   "source": [
    "nombre_infected       335\n",
    "nombre_sain          3246\n",
    "nombre_exposed        306\n",
    "nombre_recovered    16113\n",
    "Name: 258, dtype: int64"
   ]
  },
  {
   "cell_type": "markdown",
   "id": "a56ff703",
   "metadata": {},
   "source": [
    "nombre_infected       359\n",
    "nombre_sain          3301\n",
    "nombre_exposed        312\n",
    "nombre_recovered    16028\n",
    "Name: 259, dtype: int64"
   ]
  },
  {
   "cell_type": "markdown",
   "id": "fa6d586d",
   "metadata": {},
   "source": [
    "nombre_infected       379\n",
    "nombre_sain          3353\n",
    "nombre_exposed        308\n",
    "nombre_recovered    15960\n",
    "Name: 260, dtype: int64"
   ]
  },
  {
   "cell_type": "markdown",
   "id": "3d158dbe",
   "metadata": {},
   "source": [
    "nombre_infected       397\n",
    "nombre_sain          3390\n",
    "nombre_exposed        298\n",
    "nombre_recovered    15915\n",
    "Name: 261, dtype: int64"
   ]
  },
  {
   "cell_type": "markdown",
   "id": "e829196e",
   "metadata": {},
   "source": [
    "nombre_infected       413\n",
    "nombre_sain          3408\n",
    "nombre_exposed        309\n",
    "nombre_recovered    15870\n",
    "Name: 262, dtype: int64"
   ]
  },
  {
   "cell_type": "markdown",
   "id": "26634644",
   "metadata": {},
   "source": [
    "nombre_infected       410\n",
    "nombre_sain          3435\n",
    "nombre_exposed        330\n",
    "nombre_recovered    15825\n",
    "Name: 263, dtype: int64"
   ]
  },
  {
   "cell_type": "markdown",
   "id": "f40627b8",
   "metadata": {},
   "source": [
    "nombre_infected       411\n",
    "nombre_sain          3431\n",
    "nombre_exposed        361\n",
    "nombre_recovered    15797\n",
    "Name: 264, dtype: int64"
   ]
  },
  {
   "cell_type": "markdown",
   "id": "0cddc8e2",
   "metadata": {},
   "source": [
    "nombre_infected       412\n",
    "nombre_sain          3429\n",
    "nombre_exposed        375\n",
    "nombre_recovered    15784\n",
    "Name: 265, dtype: int64"
   ]
  },
  {
   "cell_type": "markdown",
   "id": "368d4dc7",
   "metadata": {},
   "source": [
    "nombre_infected       423\n",
    "nombre_sain          3407\n",
    "nombre_exposed        412\n",
    "nombre_recovered    15758\n",
    "Name: 266, dtype: int64"
   ]
  },
  {
   "cell_type": "markdown",
   "id": "b6e2cf31",
   "metadata": {},
   "source": [
    "nombre_infected       457\n",
    "nombre_sain          3382\n",
    "nombre_exposed        426\n",
    "nombre_recovered    15735\n",
    "Name: 267, dtype: int64"
   ]
  },
  {
   "cell_type": "markdown",
   "id": "88110290",
   "metadata": {},
   "source": [
    "nombre_infected       496\n",
    "nombre_sain          3357\n",
    "nombre_exposed        435\n",
    "nombre_recovered    15712\n",
    "Name: 268, dtype: int64"
   ]
  },
  {
   "cell_type": "markdown",
   "id": "f2f09e78",
   "metadata": {},
   "source": [
    "nombre_infected       527\n",
    "nombre_sain          3348\n",
    "nombre_exposed        434\n",
    "nombre_recovered    15691\n",
    "Name: 269, dtype: int64"
   ]
  },
  {
   "cell_type": "markdown",
   "id": "2173b1f2",
   "metadata": {},
   "source": [
    "nombre_infected       562\n",
    "nombre_sain          3331\n",
    "nombre_exposed        438\n",
    "nombre_recovered    15669\n",
    "Name: 270, dtype: int64"
   ]
  },
  {
   "cell_type": "markdown",
   "id": "e161391f",
   "metadata": {},
   "source": [
    "nombre_infected       571\n",
    "nombre_sain          3292\n",
    "nombre_exposed        475\n",
    "nombre_recovered    15662\n",
    "Name: 271, dtype: int64"
   ]
  },
  {
   "cell_type": "markdown",
   "id": "3f3e6a96",
   "metadata": {},
   "source": [
    "nombre_infected       574\n",
    "nombre_sain          3262\n",
    "nombre_exposed        495\n",
    "nombre_recovered    15669\n",
    "Name: 272, dtype: int64"
   ]
  },
  {
   "cell_type": "markdown",
   "id": "3a1c2d8b",
   "metadata": {},
   "source": [
    "nombre_infected       597\n",
    "nombre_sain          3237\n",
    "nombre_exposed        507\n",
    "nombre_recovered    15659\n",
    "Name: 273, dtype: int64"
   ]
  },
  {
   "cell_type": "markdown",
   "id": "820d60cc",
   "metadata": {},
   "source": [
    "nombre_infected       608\n",
    "nombre_sain          3178\n",
    "nombre_exposed        553\n",
    "nombre_recovered    15661\n",
    "Name: 274, dtype: int64"
   ]
  },
  {
   "cell_type": "markdown",
   "id": "146f62c4",
   "metadata": {},
   "source": [
    "nombre_infected       621\n",
    "nombre_sain          3134\n",
    "nombre_exposed        578\n",
    "nombre_recovered    15667\n",
    "Name: 275, dtype: int64"
   ]
  },
  {
   "cell_type": "markdown",
   "id": "11a855c5",
   "metadata": {},
   "source": [
    "nombre_infected       638\n",
    "nombre_sain          3091\n",
    "nombre_exposed        621\n",
    "nombre_recovered    15650\n",
    "Name: 276, dtype: int64"
   ]
  },
  {
   "cell_type": "markdown",
   "id": "74793b30",
   "metadata": {},
   "source": [
    "nombre_infected       697\n",
    "nombre_sain          3054\n",
    "nombre_exposed        609\n",
    "nombre_recovered    15640\n",
    "Name: 277, dtype: int64"
   ]
  },
  {
   "cell_type": "markdown",
   "id": "955cbd0d",
   "metadata": {},
   "source": [
    "nombre_infected       732\n",
    "nombre_sain          3003\n",
    "nombre_exposed        618\n",
    "nombre_recovered    15647\n",
    "Name: 278, dtype: int64"
   ]
  },
  {
   "cell_type": "markdown",
   "id": "5bf63093",
   "metadata": {},
   "source": [
    "nombre_infected       777\n",
    "nombre_sain          2948\n",
    "nombre_exposed        613\n",
    "nombre_recovered    15662\n",
    "Name: 279, dtype: int64"
   ]
  },
  {
   "cell_type": "markdown",
   "id": "a77b4ede",
   "metadata": {},
   "source": [
    "nombre_infected       781\n",
    "nombre_sain          2899\n",
    "nombre_exposed        638\n",
    "nombre_recovered    15682\n",
    "Name: 280, dtype: int64"
   ]
  },
  {
   "cell_type": "markdown",
   "id": "de86501a",
   "metadata": {},
   "source": [
    "nombre_infected       796\n",
    "nombre_sain          2887\n",
    "nombre_exposed        629\n",
    "nombre_recovered    15688\n",
    "Name: 281, dtype: int64"
   ]
  },
  {
   "cell_type": "markdown",
   "id": "3353e136",
   "metadata": {},
   "source": [
    "nombre_infected       820\n",
    "nombre_sain          2842\n",
    "nombre_exposed        645\n",
    "nombre_recovered    15693\n",
    "Name: 282, dtype: int64"
   ]
  },
  {
   "cell_type": "markdown",
   "id": "d3967bf1",
   "metadata": {},
   "source": [
    "nombre_infected       847\n",
    "nombre_sain          2793\n",
    "nombre_exposed        660\n",
    "nombre_recovered    15700\n",
    "Name: 283, dtype: int64"
   ]
  },
  {
   "cell_type": "markdown",
   "id": "9b367340",
   "metadata": {},
   "source": [
    "nombre_infected       870\n",
    "nombre_sain          2773\n",
    "nombre_exposed        670\n",
    "nombre_recovered    15687\n",
    "Name: 284, dtype: int64"
   ]
  },
  {
   "cell_type": "markdown",
   "id": "e8b1dfb3",
   "metadata": {},
   "source": [
    "nombre_infected       896\n",
    "nombre_sain          2737\n",
    "nombre_exposed        672\n",
    "nombre_recovered    15695\n",
    "Name: 285, dtype: int64"
   ]
  },
  {
   "cell_type": "markdown",
   "id": "f2e1cc56",
   "metadata": {},
   "source": [
    "nombre_infected       918\n",
    "nombre_sain          2711\n",
    "nombre_exposed        677\n",
    "nombre_recovered    15694\n",
    "Name: 286, dtype: int64"
   ]
  },
  {
   "cell_type": "markdown",
   "id": "98309c9d",
   "metadata": {},
   "source": [
    "nombre_infected       945\n",
    "nombre_sain          2658\n",
    "nombre_exposed        678\n",
    "nombre_recovered    15719\n",
    "Name: 287, dtype: int64"
   ]
  },
  {
   "cell_type": "markdown",
   "id": "0a633010",
   "metadata": {},
   "source": [
    "nombre_infected       977\n",
    "nombre_sain          2636\n",
    "nombre_exposed        657\n",
    "nombre_recovered    15730\n",
    "Name: 288, dtype: int64"
   ]
  },
  {
   "cell_type": "markdown",
   "id": "f575e273",
   "metadata": {},
   "source": [
    "nombre_infected       982\n",
    "nombre_sain          2591\n",
    "nombre_exposed        687\n",
    "nombre_recovered    15740\n",
    "Name: 289, dtype: int64"
   ]
  },
  {
   "cell_type": "markdown",
   "id": "9b928742",
   "metadata": {},
   "source": [
    "nombre_infected       982\n",
    "nombre_sain          2522\n",
    "nombre_exposed        719\n",
    "nombre_recovered    15777\n",
    "Name: 290, dtype: int64"
   ]
  },
  {
   "cell_type": "markdown",
   "id": "00b47d8d",
   "metadata": {},
   "source": [
    "nombre_infected       983\n",
    "nombre_sain          2478\n",
    "nombre_exposed        744\n",
    "nombre_recovered    15795\n",
    "Name: 291, dtype: int64"
   ]
  },
  {
   "cell_type": "markdown",
   "id": "b66fc2bb",
   "metadata": {},
   "source": [
    "nombre_infected      1024\n",
    "nombre_sain          2437\n",
    "nombre_exposed        741\n",
    "nombre_recovered    15798\n",
    "Name: 292, dtype: int64"
   ]
  },
  {
   "cell_type": "markdown",
   "id": "6fd4e946",
   "metadata": {},
   "source": [
    "nombre_infected      1027\n",
    "nombre_sain          2420\n",
    "nombre_exposed        726\n",
    "nombre_recovered    15827\n",
    "Name: 293, dtype: int64"
   ]
  },
  {
   "cell_type": "markdown",
   "id": "4393573d",
   "metadata": {},
   "source": [
    "nombre_infected      1050\n",
    "nombre_sain          2388\n",
    "nombre_exposed        710\n",
    "nombre_recovered    15852\n",
    "Name: 294, dtype: int64"
   ]
  },
  {
   "cell_type": "markdown",
   "id": "7ea502af",
   "metadata": {},
   "source": [
    "nombre_infected      1082\n",
    "nombre_sain          2333\n",
    "nombre_exposed        706\n",
    "nombre_recovered    15879\n",
    "Name: 295, dtype: int64"
   ]
  },
  {
   "cell_type": "markdown",
   "id": "4f8b42af",
   "metadata": {},
   "source": [
    "nombre_infected      1078\n",
    "nombre_sain          2288\n",
    "nombre_exposed        727\n",
    "nombre_recovered    15907\n",
    "Name: 296, dtype: int64"
   ]
  },
  {
   "cell_type": "markdown",
   "id": "42d3923f",
   "metadata": {},
   "source": [
    "nombre_infected      1074\n",
    "nombre_sain          2252\n",
    "nombre_exposed        729\n",
    "nombre_recovered    15945\n",
    "Name: 297, dtype: int64"
   ]
  },
  {
   "cell_type": "markdown",
   "id": "38337ccd",
   "metadata": {},
   "source": [
    "nombre_infected      1108\n",
    "nombre_sain          2171\n",
    "nombre_exposed        740\n",
    "nombre_recovered    15981\n",
    "Name: 298, dtype: int64"
   ]
  },
  {
   "cell_type": "markdown",
   "id": "a910bc26",
   "metadata": {},
   "source": [
    "nombre_infected      1099\n",
    "nombre_sain          2123\n",
    "nombre_exposed        768\n",
    "nombre_recovered    16010\n",
    "Name: 299, dtype: int64"
   ]
  },
  {
   "cell_type": "markdown",
   "id": "cc261f7b",
   "metadata": {},
   "source": [
    "nombre_infected      1103\n",
    "nombre_sain          2114\n",
    "nombre_exposed        741\n",
    "nombre_recovered    16042\n",
    "Name: 300, dtype: int64"
   ]
  },
  {
   "cell_type": "markdown",
   "id": "84b1b559",
   "metadata": {},
   "source": [
    "nombre_infected      1101\n",
    "nombre_sain          2091\n",
    "nombre_exposed        723\n",
    "nombre_recovered    16085\n",
    "Name: 301, dtype: int64"
   ]
  },
  {
   "cell_type": "markdown",
   "id": "88c986a6",
   "metadata": {},
   "source": [
    "nombre_infected      1118\n",
    "nombre_sain          2061\n",
    "nombre_exposed        718\n",
    "nombre_recovered    16103\n",
    "Name: 302, dtype: int64"
   ]
  },
  {
   "cell_type": "markdown",
   "id": "d4f0fbc5",
   "metadata": {},
   "source": [
    "nombre_infected      1120\n",
    "nombre_sain          2052\n",
    "nombre_exposed        674\n",
    "nombre_recovered    16154\n",
    "Name: 303, dtype: int64"
   ]
  },
  {
   "cell_type": "markdown",
   "id": "ba04480f",
   "metadata": {},
   "source": [
    "nombre_infected      1088\n",
    "nombre_sain          2037\n",
    "nombre_exposed        681\n",
    "nombre_recovered    16194\n",
    "Name: 304, dtype: int64"
   ]
  },
  {
   "cell_type": "markdown",
   "id": "99d3d298",
   "metadata": {},
   "source": [
    "nombre_infected      1089\n",
    "nombre_sain          2002\n",
    "nombre_exposed        672\n",
    "nombre_recovered    16237\n",
    "Name: 305, dtype: int64"
   ]
  },
  {
   "cell_type": "markdown",
   "id": "39aedd44",
   "metadata": {},
   "source": [
    "nombre_infected      1079\n",
    "nombre_sain          1992\n",
    "nombre_exposed        675\n",
    "nombre_recovered    16254\n",
    "Name: 306, dtype: int64"
   ]
  },
  {
   "cell_type": "markdown",
   "id": "7117ddee",
   "metadata": {},
   "source": [
    "nombre_infected      1054\n",
    "nombre_sain          1989\n",
    "nombre_exposed        649\n",
    "nombre_recovered    16308\n",
    "Name: 307, dtype: int64"
   ]
  },
  {
   "cell_type": "markdown",
   "id": "ce9b1adb",
   "metadata": {},
   "source": [
    "nombre_infected      1056\n",
    "nombre_sain          1962\n",
    "nombre_exposed        630\n",
    "nombre_recovered    16352\n",
    "Name: 308, dtype: int64"
   ]
  },
  {
   "cell_type": "markdown",
   "id": "7238ba04",
   "metadata": {},
   "source": [
    "nombre_infected      1077\n",
    "nombre_sain          1958\n",
    "nombre_exposed        614\n",
    "nombre_recovered    16351\n",
    "Name: 309, dtype: int64"
   ]
  },
  {
   "cell_type": "markdown",
   "id": "1afca39b",
   "metadata": {},
   "source": [
    "nombre_infected      1075\n",
    "nombre_sain          1957\n",
    "nombre_exposed        598\n",
    "nombre_recovered    16370\n",
    "Name: 310, dtype: int64"
   ]
  },
  {
   "cell_type": "markdown",
   "id": "12076563",
   "metadata": {},
   "source": [
    "nombre_infected      1061\n",
    "nombre_sain          1951\n",
    "nombre_exposed        593\n",
    "nombre_recovered    16395\n",
    "Name: 311, dtype: int64"
   ]
  },
  {
   "cell_type": "markdown",
   "id": "4c66dc6d",
   "metadata": {},
   "source": [
    "nombre_infected      1035\n",
    "nombre_sain          1920\n",
    "nombre_exposed        608\n",
    "nombre_recovered    16437\n",
    "Name: 312, dtype: int64"
   ]
  },
  {
   "cell_type": "markdown",
   "id": "9d5d12e4",
   "metadata": {},
   "source": [
    "nombre_infected      1041\n",
    "nombre_sain          1953\n",
    "nombre_exposed        578\n",
    "nombre_recovered    16428\n",
    "Name: 313, dtype: int64"
   ]
  },
  {
   "cell_type": "markdown",
   "id": "9777e09d",
   "metadata": {},
   "source": [
    "nombre_infected      1036\n",
    "nombre_sain          1958\n",
    "nombre_exposed        577\n",
    "nombre_recovered    16429\n",
    "Name: 314, dtype: int64"
   ]
  },
  {
   "cell_type": "markdown",
   "id": "dc9dce41",
   "metadata": {},
   "source": [
    "nombre_infected      1023\n",
    "nombre_sain          1947\n",
    "nombre_exposed        588\n",
    "nombre_recovered    16442\n",
    "Name: 315, dtype: int64"
   ]
  },
  {
   "cell_type": "markdown",
   "id": "58fb2a82",
   "metadata": {},
   "source": [
    "nombre_infected      1004\n",
    "nombre_sain          1958\n",
    "nombre_exposed        575\n",
    "nombre_recovered    16463\n",
    "Name: 316, dtype: int64"
   ]
  },
  {
   "cell_type": "markdown",
   "id": "d76a6db8",
   "metadata": {},
   "source": [
    "nombre_infected       967\n",
    "nombre_sain          1945\n",
    "nombre_exposed        599\n",
    "nombre_recovered    16489\n",
    "Name: 317, dtype: int64"
   ]
  },
  {
   "cell_type": "markdown",
   "id": "448f5aa5",
   "metadata": {},
   "source": [
    "nombre_infected       937\n",
    "nombre_sain          1934\n",
    "nombre_exposed        612\n",
    "nombre_recovered    16517\n",
    "Name: 318, dtype: int64"
   ]
  },
  {
   "cell_type": "markdown",
   "id": "d81e70d8",
   "metadata": {},
   "source": [
    "nombre_infected       947\n",
    "nombre_sain          1940\n",
    "nombre_exposed        580\n",
    "nombre_recovered    16533\n",
    "Name: 319, dtype: int64"
   ]
  },
  {
   "cell_type": "markdown",
   "id": "76002686",
   "metadata": {},
   "source": [
    "nombre_infected       926\n",
    "nombre_sain          1960\n",
    "nombre_exposed        577\n",
    "nombre_recovered    16537\n",
    "Name: 320, dtype: int64"
   ]
  },
  {
   "cell_type": "markdown",
   "id": "1e7f6729",
   "metadata": {},
   "source": [
    "nombre_infected       939\n",
    "nombre_sain          1942\n",
    "nombre_exposed        586\n",
    "nombre_recovered    16533\n",
    "Name: 321, dtype: int64"
   ]
  },
  {
   "cell_type": "markdown",
   "id": "fc29b5b8",
   "metadata": {},
   "source": [
    "nombre_infected       966\n",
    "nombre_sain          1959\n",
    "nombre_exposed        571\n",
    "nombre_recovered    16504\n",
    "Name: 322, dtype: int64"
   ]
  },
  {
   "cell_type": "markdown",
   "id": "b2fd1cdf",
   "metadata": {},
   "source": [
    "nombre_infected       975\n",
    "nombre_sain          1978\n",
    "nombre_exposed        543\n",
    "nombre_recovered    16504\n",
    "Name: 323, dtype: int64"
   ]
  },
  {
   "cell_type": "markdown",
   "id": "c056fb57",
   "metadata": {},
   "source": [
    "nombre_infected      1013\n",
    "nombre_sain          2024\n",
    "nombre_exposed        509\n",
    "nombre_recovered    16454\n",
    "Name: 324, dtype: int64"
   ]
  },
  {
   "cell_type": "markdown",
   "id": "49822d84",
   "metadata": {},
   "source": [
    "nombre_infected      1017\n",
    "nombre_sain          2025\n",
    "nombre_exposed        505\n",
    "nombre_recovered    16453\n",
    "Name: 325, dtype: int64"
   ]
  },
  {
   "cell_type": "markdown",
   "id": "2b71464a",
   "metadata": {},
   "source": [
    "nombre_infected       991\n",
    "nombre_sain          2027\n",
    "nombre_exposed        515\n",
    "nombre_recovered    16467\n",
    "Name: 326, dtype: int64"
   ]
  },
  {
   "cell_type": "markdown",
   "id": "bf9c5814",
   "metadata": {},
   "source": [
    "nombre_infected       980\n",
    "nombre_sain          2019\n",
    "nombre_exposed        533\n",
    "nombre_recovered    16468\n",
    "Name: 327, dtype: int64"
   ]
  },
  {
   "cell_type": "markdown",
   "id": "926108a4",
   "metadata": {},
   "source": [
    "nombre_infected       999\n",
    "nombre_sain          2037\n",
    "nombre_exposed        510\n",
    "nombre_recovered    16454\n",
    "Name: 328, dtype: int64"
   ]
  },
  {
   "cell_type": "markdown",
   "id": "9f3a80df",
   "metadata": {},
   "source": [
    "nombre_infected      1001\n",
    "nombre_sain          2016\n",
    "nombre_exposed        527\n",
    "nombre_recovered    16456\n",
    "Name: 329, dtype: int64"
   ]
  },
  {
   "cell_type": "markdown",
   "id": "f905af85",
   "metadata": {},
   "source": [
    "nombre_infected       986\n",
    "nombre_sain          2000\n",
    "nombre_exposed        538\n",
    "nombre_recovered    16476\n",
    "Name: 330, dtype: int64"
   ]
  },
  {
   "cell_type": "markdown",
   "id": "d242d397",
   "metadata": {},
   "source": [
    "nombre_infected       981\n",
    "nombre_sain          2007\n",
    "nombre_exposed        528\n",
    "nombre_recovered    16484\n",
    "Name: 331, dtype: int64"
   ]
  },
  {
   "cell_type": "markdown",
   "id": "252e6b07",
   "metadata": {},
   "source": [
    "nombre_infected       995\n",
    "nombre_sain          1996\n",
    "nombre_exposed        534\n",
    "nombre_recovered    16475\n",
    "Name: 332, dtype: int64"
   ]
  },
  {
   "cell_type": "markdown",
   "id": "7bb5720d",
   "metadata": {},
   "source": [
    "nombre_infected       996\n",
    "nombre_sain          2007\n",
    "nombre_exposed        523\n",
    "nombre_recovered    16474\n",
    "Name: 333, dtype: int64"
   ]
  },
  {
   "cell_type": "markdown",
   "id": "e0491669",
   "metadata": {},
   "source": [
    "nombre_infected      1013\n",
    "nombre_sain          2004\n",
    "nombre_exposed        508\n",
    "nombre_recovered    16475\n",
    "Name: 334, dtype: int64"
   ]
  },
  {
   "cell_type": "markdown",
   "id": "aa399452",
   "metadata": {},
   "source": [
    "nombre_infected       976\n",
    "nombre_sain          2001\n",
    "nombre_exposed        511\n",
    "nombre_recovered    16512\n",
    "Name: 335, dtype: int64"
   ]
  },
  {
   "cell_type": "markdown",
   "id": "85802a2c",
   "metadata": {},
   "source": [
    "nombre_infected       961\n",
    "nombre_sain          1955\n",
    "nombre_exposed        543\n",
    "nombre_recovered    16541\n",
    "Name: 336, dtype: int64"
   ]
  },
  {
   "cell_type": "markdown",
   "id": "bb47e656",
   "metadata": {},
   "source": [
    "nombre_infected       953\n",
    "nombre_sain          1938\n",
    "nombre_exposed        546\n",
    "nombre_recovered    16563\n",
    "Name: 337, dtype: int64"
   ]
  },
  {
   "cell_type": "markdown",
   "id": "32862aa5",
   "metadata": {},
   "source": [
    "nombre_infected       963\n",
    "nombre_sain          1932\n",
    "nombre_exposed        538\n",
    "nombre_recovered    16567\n",
    "Name: 338, dtype: int64"
   ]
  },
  {
   "cell_type": "markdown",
   "id": "c52845c8",
   "metadata": {},
   "source": [
    "nombre_infected       952\n",
    "nombre_sain          1932\n",
    "nombre_exposed        525\n",
    "nombre_recovered    16591\n",
    "Name: 339, dtype: int64"
   ]
  },
  {
   "cell_type": "markdown",
   "id": "458bfea7",
   "metadata": {},
   "source": [
    "nombre_infected       948\n",
    "nombre_sain          1911\n",
    "nombre_exposed        517\n",
    "nombre_recovered    16624\n",
    "Name: 340, dtype: int64"
   ]
  },
  {
   "cell_type": "markdown",
   "id": "3d6914a3",
   "metadata": {},
   "source": [
    "nombre_infected       906\n",
    "nombre_sain          1927\n",
    "nombre_exposed        510\n",
    "nombre_recovered    16657\n",
    "Name: 341, dtype: int64"
   ]
  },
  {
   "cell_type": "markdown",
   "id": "9d252ccf",
   "metadata": {},
   "source": [
    "nombre_infected       905\n",
    "nombre_sain          1937\n",
    "nombre_exposed        483\n",
    "nombre_recovered    16675\n",
    "Name: 342, dtype: int64"
   ]
  },
  {
   "cell_type": "markdown",
   "id": "4f4e0cb2",
   "metadata": {},
   "source": [
    "nombre_infected       883\n",
    "nombre_sain          1943\n",
    "nombre_exposed        479\n",
    "nombre_recovered    16695\n",
    "Name: 343, dtype: int64"
   ]
  },
  {
   "cell_type": "markdown",
   "id": "b53f6a4d",
   "metadata": {},
   "source": [
    "nombre_infected       849\n",
    "nombre_sain          1948\n",
    "nombre_exposed        479\n",
    "nombre_recovered    16724\n",
    "Name: 344, dtype: int64"
   ]
  },
  {
   "cell_type": "markdown",
   "id": "244915bb",
   "metadata": {},
   "source": [
    "nombre_infected       846\n",
    "nombre_sain          1959\n",
    "nombre_exposed        475\n",
    "nombre_recovered    16720\n",
    "Name: 345, dtype: int64"
   ]
  },
  {
   "cell_type": "markdown",
   "id": "e709987a",
   "metadata": {},
   "source": [
    "nombre_infected       843\n",
    "nombre_sain          1959\n",
    "nombre_exposed        488\n",
    "nombre_recovered    16710\n",
    "Name: 346, dtype: int64"
   ]
  },
  {
   "cell_type": "markdown",
   "id": "e2a0f643",
   "metadata": {},
   "source": [
    "nombre_infected       859\n",
    "nombre_sain          1952\n",
    "nombre_exposed        476\n",
    "nombre_recovered    16713\n",
    "Name: 347, dtype: int64"
   ]
  },
  {
   "cell_type": "markdown",
   "id": "ed4eeb93",
   "metadata": {},
   "source": [
    "nombre_infected       863\n",
    "nombre_sain          1986\n",
    "nombre_exposed        449\n",
    "nombre_recovered    16702\n",
    "Name: 348, dtype: int64"
   ]
  },
  {
   "cell_type": "markdown",
   "id": "0f50abcd",
   "metadata": {},
   "source": [
    "nombre_infected       872\n",
    "nombre_sain          2000\n",
    "nombre_exposed        439\n",
    "nombre_recovered    16689\n",
    "Name: 349, dtype: int64"
   ]
  },
  {
   "cell_type": "markdown",
   "id": "e3ee53e5",
   "metadata": {},
   "source": [
    "nombre_infected       840\n",
    "nombre_sain          2006\n",
    "nombre_exposed        450\n",
    "nombre_recovered    16704\n",
    "Name: 350, dtype: int64"
   ]
  },
  {
   "cell_type": "markdown",
   "id": "a76a0cbf",
   "metadata": {},
   "source": [
    "nombre_infected       803\n",
    "nombre_sain          2036\n",
    "nombre_exposed        429\n",
    "nombre_recovered    16732\n",
    "Name: 351, dtype: int64"
   ]
  },
  {
   "cell_type": "markdown",
   "id": "c9983749",
   "metadata": {},
   "source": [
    "nombre_infected       786\n",
    "nombre_sain          2034\n",
    "nombre_exposed        447\n",
    "nombre_recovered    16733\n",
    "Name: 352, dtype: int64"
   ]
  },
  {
   "cell_type": "markdown",
   "id": "1357bc5c",
   "metadata": {},
   "source": [
    "nombre_infected       748\n",
    "nombre_sain          2054\n",
    "nombre_exposed        447\n",
    "nombre_recovered    16751\n",
    "Name: 353, dtype: int64"
   ]
  },
  {
   "cell_type": "markdown",
   "id": "94bcd0b1",
   "metadata": {},
   "source": [
    "nombre_infected       742\n",
    "nombre_sain          2064\n",
    "nombre_exposed        451\n",
    "nombre_recovered    16743\n",
    "Name: 354, dtype: int64"
   ]
  },
  {
   "cell_type": "markdown",
   "id": "c4f6bc9e",
   "metadata": {},
   "source": [
    "nombre_infected       753\n",
    "nombre_sain          2061\n",
    "nombre_exposed        442\n",
    "nombre_recovered    16744\n",
    "Name: 355, dtype: int64"
   ]
  },
  {
   "cell_type": "markdown",
   "id": "87cd7b18",
   "metadata": {},
   "source": [
    "nombre_infected       757\n",
    "nombre_sain          2068\n",
    "nombre_exposed        450\n",
    "nombre_recovered    16725\n",
    "Name: 356, dtype: int64"
   ]
  },
  {
   "cell_type": "markdown",
   "id": "2839d781",
   "metadata": {},
   "source": [
    "nombre_infected       766\n",
    "nombre_sain          2062\n",
    "nombre_exposed        439\n",
    "nombre_recovered    16733\n",
    "Name: 357, dtype: int64"
   ]
  },
  {
   "cell_type": "markdown",
   "id": "c992c10c",
   "metadata": {},
   "source": [
    "nombre_infected       758\n",
    "nombre_sain          2055\n",
    "nombre_exposed        441\n",
    "nombre_recovered    16746\n",
    "Name: 358, dtype: int64"
   ]
  },
  {
   "cell_type": "markdown",
   "id": "35c8288c",
   "metadata": {},
   "source": [
    "nombre_infected       747\n",
    "nombre_sain          2052\n",
    "nombre_exposed        456\n",
    "nombre_recovered    16745\n",
    "Name: 359, dtype: int64"
   ]
  },
  {
   "cell_type": "markdown",
   "id": "fd3bb9f1",
   "metadata": {},
   "source": [
    "nombre_infected       736\n",
    "nombre_sain          2031\n",
    "nombre_exposed        468\n",
    "nombre_recovered    16765\n",
    "Name: 360, dtype: int64"
   ]
  },
  {
   "cell_type": "markdown",
   "id": "5470576c",
   "metadata": {},
   "source": [
    "nombre_infected       722\n",
    "nombre_sain          2059\n",
    "nombre_exposed        460\n",
    "nombre_recovered    16759\n",
    "Name: 361, dtype: int64"
   ]
  },
  {
   "cell_type": "markdown",
   "id": "ce657cc7",
   "metadata": {},
   "source": [
    "nombre_infected       718\n",
    "nombre_sain          2082\n",
    "nombre_exposed        434\n",
    "nombre_recovered    16766\n",
    "Name: 362, dtype: int64"
   ]
  },
  {
   "cell_type": "markdown",
   "id": "00dc37c9",
   "metadata": {},
   "source": [
    "nombre_infected       718\n",
    "nombre_sain          2110\n",
    "nombre_exposed        423\n",
    "nombre_recovered    16749\n",
    "Name: 363, dtype: int64"
   ]
  },
  {
   "cell_type": "markdown",
   "id": "ce82683a",
   "metadata": {},
   "source": [
    "nombre_infected       711\n",
    "nombre_sain          2108\n",
    "nombre_exposed        439\n",
    "nombre_recovered    16742\n",
    "Name: 364, dtype: int64"
   ]
  },
  {
   "cell_type": "markdown",
   "id": "1e4a7aa6",
   "metadata": {},
   "source": [
    "nombre_infected       719\n",
    "nombre_sain          2120\n",
    "nombre_exposed        426\n",
    "nombre_recovered    16735\n",
    "Name: 365, dtype: int64"
   ]
  },
  {
   "cell_type": "markdown",
   "id": "5919e26e",
   "metadata": {},
   "source": [
    "nombre_infected       699\n",
    "nombre_sain          2117\n",
    "nombre_exposed        429\n",
    "nombre_recovered    16755\n",
    "Name: 366, dtype: int64"
   ]
  },
  {
   "cell_type": "markdown",
   "id": "1c64c6cf",
   "metadata": {},
   "source": [
    "nombre_infected       694\n",
    "nombre_sain          2122\n",
    "nombre_exposed        439\n",
    "nombre_recovered    16745\n",
    "Name: 367, dtype: int64"
   ]
  },
  {
   "cell_type": "markdown",
   "id": "7c763eaa",
   "metadata": {},
   "source": [
    "nombre_infected       682\n",
    "nombre_sain          2142\n",
    "nombre_exposed        434\n",
    "nombre_recovered    16742\n",
    "Name: 368, dtype: int64"
   ]
  },
  {
   "cell_type": "markdown",
   "id": "789d1cc1",
   "metadata": {},
   "source": [
    "nombre_infected       693\n",
    "nombre_sain          2142\n",
    "nombre_exposed        442\n",
    "nombre_recovered    16723\n",
    "Name: 369, dtype: int64"
   ]
  },
  {
   "cell_type": "markdown",
   "id": "edbd0d4f",
   "metadata": {},
   "source": [
    "nombre_infected       671\n",
    "nombre_sain          2132\n",
    "nombre_exposed        471\n",
    "nombre_recovered    16726\n",
    "Name: 370, dtype: int64"
   ]
  },
  {
   "cell_type": "markdown",
   "id": "1f301db9",
   "metadata": {},
   "source": [
    "nombre_infected       687\n",
    "nombre_sain          2152\n",
    "nombre_exposed        455\n",
    "nombre_recovered    16706\n",
    "Name: 371, dtype: int64"
   ]
  },
  {
   "cell_type": "markdown",
   "id": "ea7b1cbc",
   "metadata": {},
   "source": [
    "nombre_infected       697\n",
    "nombre_sain          2162\n",
    "nombre_exposed        460\n",
    "nombre_recovered    16681\n",
    "Name: 372, dtype: int64"
   ]
  },
  {
   "cell_type": "markdown",
   "id": "4609e732",
   "metadata": {},
   "source": [
    "nombre_infected       708\n",
    "nombre_sain          2168\n",
    "nombre_exposed        439\n",
    "nombre_recovered    16685\n",
    "Name: 373, dtype: int64"
   ]
  },
  {
   "cell_type": "markdown",
   "id": "c608a66b",
   "metadata": {},
   "source": [
    "nombre_infected       693\n",
    "nombre_sain          2184\n",
    "nombre_exposed        436\n",
    "nombre_recovered    16687\n",
    "Name: 374, dtype: int64"
   ]
  },
  {
   "cell_type": "markdown",
   "id": "39c96602",
   "metadata": {},
   "source": [
    "nombre_infected       696\n",
    "nombre_sain          2206\n",
    "nombre_exposed        419\n",
    "nombre_recovered    16679\n",
    "Name: 375, dtype: int64"
   ]
  },
  {
   "cell_type": "markdown",
   "id": "1f706e36",
   "metadata": {},
   "source": [
    "nombre_infected       704\n",
    "nombre_sain          2242\n",
    "nombre_exposed        435\n",
    "nombre_recovered    16619\n",
    "Name: 376, dtype: int64"
   ]
  },
  {
   "cell_type": "markdown",
   "id": "89466711",
   "metadata": {},
   "source": [
    "nombre_infected       689\n",
    "nombre_sain          2268\n",
    "nombre_exposed        454\n",
    "nombre_recovered    16589\n",
    "Name: 377, dtype: int64"
   ]
  },
  {
   "cell_type": "markdown",
   "id": "e26d9e7c",
   "metadata": {},
   "source": [
    "nombre_infected       682\n",
    "nombre_sain          2288\n",
    "nombre_exposed        441\n",
    "nombre_recovered    16589\n",
    "Name: 378, dtype: int64"
   ]
  },
  {
   "cell_type": "markdown",
   "id": "23780f32",
   "metadata": {},
   "source": [
    "nombre_infected       690\n",
    "nombre_sain          2308\n",
    "nombre_exposed        452\n",
    "nombre_recovered    16550\n",
    "Name: 379, dtype: int64"
   ]
  },
  {
   "cell_type": "markdown",
   "id": "416be7ae",
   "metadata": {},
   "source": [
    "nombre_infected       683\n",
    "nombre_sain          2330\n",
    "nombre_exposed        472\n",
    "nombre_recovered    16515\n",
    "Name: 380, dtype: int64"
   ]
  },
  {
   "cell_type": "markdown",
   "id": "625e773c",
   "metadata": {},
   "source": [
    "nombre_infected       702\n",
    "nombre_sain          2327\n",
    "nombre_exposed        472\n",
    "nombre_recovered    16499\n",
    "Name: 381, dtype: int64"
   ]
  },
  {
   "cell_type": "markdown",
   "id": "c1d04e11",
   "metadata": {},
   "source": [
    "nombre_infected       721\n",
    "nombre_sain          2352\n",
    "nombre_exposed        478\n",
    "nombre_recovered    16449\n",
    "Name: 382, dtype: int64"
   ]
  },
  {
   "cell_type": "markdown",
   "id": "30033099",
   "metadata": {},
   "source": [
    "nombre_infected       710\n",
    "nombre_sain          2366\n",
    "nombre_exposed        480\n",
    "nombre_recovered    16444\n",
    "Name: 383, dtype: int64"
   ]
  },
  {
   "cell_type": "markdown",
   "id": "af9a1f99",
   "metadata": {},
   "source": [
    "nombre_infected       723\n",
    "nombre_sain          2402\n",
    "nombre_exposed        463\n",
    "nombre_recovered    16412\n",
    "Name: 384, dtype: int64"
   ]
  },
  {
   "cell_type": "markdown",
   "id": "686a04eb",
   "metadata": {},
   "source": [
    "nombre_infected       719\n",
    "nombre_sain          2409\n",
    "nombre_exposed        482\n",
    "nombre_recovered    16390\n",
    "Name: 385, dtype: int64"
   ]
  },
  {
   "cell_type": "markdown",
   "id": "c73b47d7",
   "metadata": {},
   "source": [
    "nombre_infected       723\n",
    "nombre_sain          2417\n",
    "nombre_exposed        480\n",
    "nombre_recovered    16380\n",
    "Name: 386, dtype: int64"
   ]
  },
  {
   "cell_type": "markdown",
   "id": "c46d7e64",
   "metadata": {},
   "source": [
    "nombre_infected       737\n",
    "nombre_sain          2394\n",
    "nombre_exposed        500\n",
    "nombre_recovered    16369\n",
    "Name: 387, dtype: int64"
   ]
  },
  {
   "cell_type": "markdown",
   "id": "c47d5bdf",
   "metadata": {},
   "source": [
    "nombre_infected       736\n",
    "nombre_sain          2396\n",
    "nombre_exposed        529\n",
    "nombre_recovered    16339\n",
    "Name: 388, dtype: int64"
   ]
  },
  {
   "cell_type": "markdown",
   "id": "0443a554",
   "metadata": {},
   "source": [
    "nombre_infected       768\n",
    "nombre_sain          2400\n",
    "nombre_exposed        504\n",
    "nombre_recovered    16328\n",
    "Name: 389, dtype: int64"
   ]
  },
  {
   "cell_type": "markdown",
   "id": "ae4df6f1",
   "metadata": {},
   "source": [
    "nombre_infected       799\n",
    "nombre_sain          2395\n",
    "nombre_exposed        500\n",
    "nombre_recovered    16306\n",
    "Name: 390, dtype: int64"
   ]
  },
  {
   "cell_type": "markdown",
   "id": "8f76f3b7",
   "metadata": {},
   "source": [
    "nombre_infected       789\n",
    "nombre_sain          2381\n",
    "nombre_exposed        515\n",
    "nombre_recovered    16315\n",
    "Name: 391, dtype: int64"
   ]
  },
  {
   "cell_type": "markdown",
   "id": "cdd7d8a4",
   "metadata": {},
   "source": [
    "nombre_infected       793\n",
    "nombre_sain          2371\n",
    "nombre_exposed        513\n",
    "nombre_recovered    16323\n",
    "Name: 392, dtype: int64"
   ]
  },
  {
   "cell_type": "markdown",
   "id": "c1e54b52",
   "metadata": {},
   "source": [
    "nombre_infected       804\n",
    "nombre_sain          2344\n",
    "nombre_exposed        534\n",
    "nombre_recovered    16318\n",
    "Name: 393, dtype: int64"
   ]
  },
  {
   "cell_type": "markdown",
   "id": "ca376851",
   "metadata": {},
   "source": [
    "nombre_infected       811\n",
    "nombre_sain          2332\n",
    "nombre_exposed        525\n",
    "nombre_recovered    16332\n",
    "Name: 394, dtype: int64"
   ]
  },
  {
   "cell_type": "markdown",
   "id": "62944a63",
   "metadata": {},
   "source": [
    "nombre_infected       822\n",
    "nombre_sain          2295\n",
    "nombre_exposed        534\n",
    "nombre_recovered    16349\n",
    "Name: 395, dtype: int64"
   ]
  },
  {
   "cell_type": "markdown",
   "id": "85b4c3b0",
   "metadata": {},
   "source": [
    "nombre_infected       814\n",
    "nombre_sain          2265\n",
    "nombre_exposed        540\n",
    "nombre_recovered    16381\n",
    "Name: 396, dtype: int64"
   ]
  },
  {
   "cell_type": "markdown",
   "id": "9ee9cb59",
   "metadata": {},
   "source": [
    "nombre_infected       801\n",
    "nombre_sain          2243\n",
    "nombre_exposed        528\n",
    "nombre_recovered    16428\n",
    "Name: 397, dtype: int64"
   ]
  },
  {
   "cell_type": "markdown",
   "id": "04da0ed4",
   "metadata": {},
   "source": [
    "nombre_infected       803\n",
    "nombre_sain          2240\n",
    "nombre_exposed        516\n",
    "nombre_recovered    16441\n",
    "Name: 398, dtype: int64"
   ]
  },
  {
   "cell_type": "markdown",
   "id": "fb003f70",
   "metadata": {},
   "source": [
    "nombre_infected       800\n",
    "nombre_sain          2223\n",
    "nombre_exposed        504\n",
    "nombre_recovered    16473\n",
    "Name: 399, dtype: int64"
   ]
  },
  {
   "cell_type": "markdown",
   "id": "f4a8310b",
   "metadata": {},
   "source": [
    "nombre_infected       817\n",
    "nombre_sain          2181\n",
    "nombre_exposed        504\n",
    "nombre_recovered    16498\n",
    "Name: 400, dtype: int64"
   ]
  },
  {
   "cell_type": "markdown",
   "id": "18e86941",
   "metadata": {},
   "source": [
    "nombre_infected       825\n",
    "nombre_sain          2148\n",
    "nombre_exposed        497\n",
    "nombre_recovered    16530\n",
    "Name: 401, dtype: int64"
   ]
  },
  {
   "cell_type": "markdown",
   "id": "6d9002c1",
   "metadata": {},
   "source": [
    "nombre_infected       825\n",
    "nombre_sain          2136\n",
    "nombre_exposed        490\n",
    "nombre_recovered    16549\n",
    "Name: 402, dtype: int64"
   ]
  },
  {
   "cell_type": "markdown",
   "id": "dae1eb59",
   "metadata": {},
   "source": [
    "nombre_infected       805\n",
    "nombre_sain          2134\n",
    "nombre_exposed        492\n",
    "nombre_recovered    16569\n",
    "Name: 403, dtype: int64"
   ]
  },
  {
   "cell_type": "markdown",
   "id": "bf2b72d4",
   "metadata": {},
   "source": [
    "nombre_infected       812\n",
    "nombre_sain          2143\n",
    "nombre_exposed        489\n",
    "nombre_recovered    16556\n",
    "Name: 404, dtype: int64"
   ]
  },
  {
   "cell_type": "markdown",
   "id": "9b6907ac",
   "metadata": {},
   "source": [
    "nombre_infected       811\n",
    "nombre_sain          2124\n",
    "nombre_exposed        484\n",
    "nombre_recovered    16581\n",
    "Name: 405, dtype: int64"
   ]
  },
  {
   "cell_type": "markdown",
   "id": "a626b589",
   "metadata": {},
   "source": [
    "nombre_infected       815\n",
    "nombre_sain          2099\n",
    "nombre_exposed        474\n",
    "nombre_recovered    16612\n",
    "Name: 406, dtype: int64"
   ]
  },
  {
   "cell_type": "markdown",
   "id": "6aba7a7d",
   "metadata": {},
   "source": [
    "nombre_infected       810\n",
    "nombre_sain          2106\n",
    "nombre_exposed        465\n",
    "nombre_recovered    16619\n",
    "Name: 407, dtype: int64"
   ]
  },
  {
   "cell_type": "markdown",
   "id": "4adc24e6",
   "metadata": {},
   "source": [
    "nombre_infected       811\n",
    "nombre_sain          2100\n",
    "nombre_exposed        462\n",
    "nombre_recovered    16627\n",
    "Name: 408, dtype: int64"
   ]
  },
  {
   "cell_type": "markdown",
   "id": "1fd85116",
   "metadata": {},
   "source": [
    "nombre_infected       803\n",
    "nombre_sain          2101\n",
    "nombre_exposed        451\n",
    "nombre_recovered    16645\n",
    "Name: 409, dtype: int64"
   ]
  },
  {
   "cell_type": "markdown",
   "id": "8bf42938",
   "metadata": {},
   "source": [
    "nombre_infected       797\n",
    "nombre_sain          2085\n",
    "nombre_exposed        462\n",
    "nombre_recovered    16656\n",
    "Name: 410, dtype: int64"
   ]
  },
  {
   "cell_type": "markdown",
   "id": "f4688dc6",
   "metadata": {},
   "source": [
    "nombre_infected       773\n",
    "nombre_sain          2092\n",
    "nombre_exposed        459\n",
    "nombre_recovered    16676\n",
    "Name: 411, dtype: int64"
   ]
  },
  {
   "cell_type": "markdown",
   "id": "add8e73d",
   "metadata": {},
   "source": [
    "nombre_infected       786\n",
    "nombre_sain          2072\n",
    "nombre_exposed        460\n",
    "nombre_recovered    16682\n",
    "Name: 412, dtype: int64"
   ]
  },
  {
   "cell_type": "markdown",
   "id": "7b8dcdd3",
   "metadata": {},
   "source": [
    "nombre_infected       790\n",
    "nombre_sain          2082\n",
    "nombre_exposed        458\n",
    "nombre_recovered    16670\n",
    "Name: 413, dtype: int64"
   ]
  },
  {
   "cell_type": "markdown",
   "id": "4b66f221",
   "metadata": {},
   "source": [
    "nombre_infected       768\n",
    "nombre_sain          2096\n",
    "nombre_exposed        455\n",
    "nombre_recovered    16681\n",
    "Name: 414, dtype: int64"
   ]
  },
  {
   "cell_type": "markdown",
   "id": "80442141",
   "metadata": {},
   "source": [
    "nombre_infected       757\n",
    "nombre_sain          2096\n",
    "nombre_exposed        447\n",
    "nombre_recovered    16700\n",
    "Name: 415, dtype: int64"
   ]
  },
  {
   "cell_type": "markdown",
   "id": "4db2e5f1",
   "metadata": {},
   "source": [
    "nombre_infected       753\n",
    "nombre_sain          2103\n",
    "nombre_exposed        432\n",
    "nombre_recovered    16712\n",
    "Name: 416, dtype: int64"
   ]
  },
  {
   "cell_type": "markdown",
   "id": "58ecd938",
   "metadata": {},
   "source": [
    "nombre_infected       726\n",
    "nombre_sain          2119\n",
    "nombre_exposed        427\n",
    "nombre_recovered    16728\n",
    "Name: 417, dtype: int64"
   ]
  },
  {
   "cell_type": "markdown",
   "id": "0e403ded",
   "metadata": {},
   "source": [
    "nombre_infected       725\n",
    "nombre_sain          2105\n",
    "nombre_exposed        446\n",
    "nombre_recovered    16724\n",
    "Name: 418, dtype: int64"
   ]
  },
  {
   "cell_type": "markdown",
   "id": "8a1fa550",
   "metadata": {},
   "source": [
    "nombre_infected       701\n",
    "nombre_sain          2101\n",
    "nombre_exposed        458\n",
    "nombre_recovered    16740\n",
    "Name: 419, dtype: int64"
   ]
  },
  {
   "cell_type": "markdown",
   "id": "c68a7080",
   "metadata": {},
   "source": [
    "nombre_infected       706\n",
    "nombre_sain          2112\n",
    "nombre_exposed        457\n",
    "nombre_recovered    16725\n",
    "Name: 420, dtype: int64"
   ]
  },
  {
   "cell_type": "markdown",
   "id": "3aa8db4a",
   "metadata": {},
   "source": [
    "nombre_infected       716\n",
    "nombre_sain          2114\n",
    "nombre_exposed        438\n",
    "nombre_recovered    16732\n",
    "Name: 421, dtype: int64"
   ]
  },
  {
   "cell_type": "markdown",
   "id": "ed9cabb2",
   "metadata": {},
   "source": [
    "nombre_infected       709\n",
    "nombre_sain          2123\n",
    "nombre_exposed        436\n",
    "nombre_recovered    16732\n",
    "Name: 422, dtype: int64"
   ]
  },
  {
   "cell_type": "markdown",
   "id": "bf0ed336",
   "metadata": {},
   "source": [
    "nombre_infected       707\n",
    "nombre_sain          2143\n",
    "nombre_exposed        424\n",
    "nombre_recovered    16726\n",
    "Name: 423, dtype: int64"
   ]
  },
  {
   "cell_type": "markdown",
   "id": "11dcae56",
   "metadata": {},
   "source": [
    "nombre_infected       706\n",
    "nombre_sain          2149\n",
    "nombre_exposed        420\n",
    "nombre_recovered    16725\n",
    "Name: 424, dtype: int64"
   ]
  },
  {
   "cell_type": "markdown",
   "id": "f1897583",
   "metadata": {},
   "source": [
    "nombre_infected       696\n",
    "nombre_sain          2178\n",
    "nombre_exposed        430\n",
    "nombre_recovered    16696\n",
    "Name: 425, dtype: int64"
   ]
  },
  {
   "cell_type": "markdown",
   "id": "6e730cb2",
   "metadata": {},
   "source": [
    "nombre_infected       668\n",
    "nombre_sain          2203\n",
    "nombre_exposed        430\n",
    "nombre_recovered    16699\n",
    "Name: 426, dtype: int64"
   ]
  },
  {
   "cell_type": "markdown",
   "id": "63d2a260",
   "metadata": {},
   "source": [
    "nombre_infected       656\n",
    "nombre_sain          2249\n",
    "nombre_exposed        417\n",
    "nombre_recovered    16678\n",
    "Name: 427, dtype: int64"
   ]
  },
  {
   "cell_type": "markdown",
   "id": "8338e986",
   "metadata": {},
   "source": [
    "nombre_infected       645\n",
    "nombre_sain          2268\n",
    "nombre_exposed        419\n",
    "nombre_recovered    16668\n",
    "Name: 428, dtype: int64"
   ]
  },
  {
   "cell_type": "markdown",
   "id": "0271026f",
   "metadata": {},
   "source": [
    "nombre_infected       672\n",
    "nombre_sain          2303\n",
    "nombre_exposed        402\n",
    "nombre_recovered    16623\n",
    "Name: 429, dtype: int64"
   ]
  },
  {
   "cell_type": "markdown",
   "id": "29d7f29f",
   "metadata": {},
   "source": [
    "nombre_infected       654\n",
    "nombre_sain          2310\n",
    "nombre_exposed        427\n",
    "nombre_recovered    16609\n",
    "Name: 430, dtype: int64"
   ]
  },
  {
   "cell_type": "markdown",
   "id": "e8d3d2f7",
   "metadata": {},
   "source": [
    "nombre_infected       661\n",
    "nombre_sain          2319\n",
    "nombre_exposed        429\n",
    "nombre_recovered    16591\n",
    "Name: 431, dtype: int64"
   ]
  },
  {
   "cell_type": "markdown",
   "id": "c4e877ba",
   "metadata": {},
   "source": [
    "nombre_infected       675\n",
    "nombre_sain          2341\n",
    "nombre_exposed        426\n",
    "nombre_recovered    16558\n",
    "Name: 432, dtype: int64"
   ]
  },
  {
   "cell_type": "markdown",
   "id": "5f04151e",
   "metadata": {},
   "source": [
    "nombre_infected       672\n",
    "nombre_sain          2357\n",
    "nombre_exposed        420\n",
    "nombre_recovered    16551\n",
    "Name: 433, dtype: int64"
   ]
  },
  {
   "cell_type": "markdown",
   "id": "93eb10af",
   "metadata": {},
   "source": [
    "nombre_infected       661\n",
    "nombre_sain          2379\n",
    "nombre_exposed        418\n",
    "nombre_recovered    16542\n",
    "Name: 434, dtype: int64"
   ]
  },
  {
   "cell_type": "markdown",
   "id": "d4c4b937",
   "metadata": {},
   "source": [
    "nombre_infected       674\n",
    "nombre_sain          2399\n",
    "nombre_exposed        415\n",
    "nombre_recovered    16512\n",
    "Name: 435, dtype: int64"
   ]
  },
  {
   "cell_type": "markdown",
   "id": "ee24d2d0",
   "metadata": {},
   "source": [
    "nombre_infected       666\n",
    "nombre_sain          2431\n",
    "nombre_exposed        403\n",
    "nombre_recovered    16500\n",
    "Name: 436, dtype: int64"
   ]
  },
  {
   "cell_type": "markdown",
   "id": "b667d285",
   "metadata": {},
   "source": [
    "nombre_infected       691\n",
    "nombre_sain          2464\n",
    "nombre_exposed        382\n",
    "nombre_recovered    16463\n",
    "Name: 437, dtype: int64"
   ]
  },
  {
   "cell_type": "markdown",
   "id": "351a8352",
   "metadata": {},
   "source": [
    "nombre_infected       675\n",
    "nombre_sain          2486\n",
    "nombre_exposed        385\n",
    "nombre_recovered    16454\n",
    "Name: 438, dtype: int64"
   ]
  },
  {
   "cell_type": "markdown",
   "id": "9364183a",
   "metadata": {},
   "source": [
    "nombre_infected       680\n",
    "nombre_sain          2471\n",
    "nombre_exposed        402\n",
    "nombre_recovered    16447\n",
    "Name: 439, dtype: int64"
   ]
  },
  {
   "cell_type": "markdown",
   "id": "60e33d19",
   "metadata": {},
   "source": [
    "nombre_infected       671\n",
    "nombre_sain          2477\n",
    "nombre_exposed        417\n",
    "nombre_recovered    16435\n",
    "Name: 440, dtype: int64"
   ]
  },
  {
   "cell_type": "markdown",
   "id": "7aaaa082",
   "metadata": {},
   "source": [
    "nombre_infected       639\n",
    "nombre_sain          2477\n",
    "nombre_exposed        427\n",
    "nombre_recovered    16457\n",
    "Name: 441, dtype: int64"
   ]
  },
  {
   "cell_type": "markdown",
   "id": "093c1299",
   "metadata": {},
   "source": [
    "nombre_infected       639\n",
    "nombre_sain          2490\n",
    "nombre_exposed        441\n",
    "nombre_recovered    16430\n",
    "Name: 442, dtype: int64"
   ]
  },
  {
   "cell_type": "markdown",
   "id": "62c1dbc3",
   "metadata": {},
   "source": [
    "nombre_infected       638\n",
    "nombre_sain          2500\n",
    "nombre_exposed        447\n",
    "nombre_recovered    16415\n",
    "Name: 443, dtype: int64"
   ]
  },
  {
   "cell_type": "markdown",
   "id": "7f5defaa",
   "metadata": {},
   "source": [
    "nombre_infected       649\n",
    "nombre_sain          2499\n",
    "nombre_exposed        440\n",
    "nombre_recovered    16412\n",
    "Name: 444, dtype: int64"
   ]
  },
  {
   "cell_type": "markdown",
   "id": "521cbaaa",
   "metadata": {},
   "source": [
    "nombre_infected       654\n",
    "nombre_sain          2497\n",
    "nombre_exposed        458\n",
    "nombre_recovered    16391\n",
    "Name: 445, dtype: int64"
   ]
  },
  {
   "cell_type": "markdown",
   "id": "a33b2ee1",
   "metadata": {},
   "source": [
    "nombre_infected       659\n",
    "nombre_sain          2502\n",
    "nombre_exposed        456\n",
    "nombre_recovered    16383\n",
    "Name: 446, dtype: int64"
   ]
  },
  {
   "cell_type": "markdown",
   "id": "192b3406",
   "metadata": {},
   "source": [
    "nombre_infected       663\n",
    "nombre_sain          2512\n",
    "nombre_exposed        460\n",
    "nombre_recovered    16365\n",
    "Name: 447, dtype: int64"
   ]
  },
  {
   "cell_type": "markdown",
   "id": "7ede7f2a",
   "metadata": {},
   "source": [
    "nombre_infected       662\n",
    "nombre_sain          2532\n",
    "nombre_exposed        460\n",
    "nombre_recovered    16346\n",
    "Name: 448, dtype: int64"
   ]
  },
  {
   "cell_type": "markdown",
   "id": "7a5d5981",
   "metadata": {},
   "source": [
    "nombre_infected       666\n",
    "nombre_sain          2528\n",
    "nombre_exposed        470\n",
    "nombre_recovered    16336\n",
    "Name: 449, dtype: int64"
   ]
  },
  {
   "cell_type": "markdown",
   "id": "72fe7fe6",
   "metadata": {},
   "source": [
    "nombre_infected       668\n",
    "nombre_sain          2539\n",
    "nombre_exposed        479\n",
    "nombre_recovered    16314\n",
    "Name: 450, dtype: int64"
   ]
  },
  {
   "cell_type": "markdown",
   "id": "d2ec614f",
   "metadata": {},
   "source": [
    "nombre_infected       657\n",
    "nombre_sain          2532\n",
    "nombre_exposed        499\n",
    "nombre_recovered    16312\n",
    "Name: 451, dtype: int64"
   ]
  },
  {
   "cell_type": "markdown",
   "id": "4624b92c",
   "metadata": {},
   "source": [
    "nombre_infected       674\n",
    "nombre_sain          2525\n",
    "nombre_exposed        500\n",
    "nombre_recovered    16301\n",
    "Name: 452, dtype: int64"
   ]
  },
  {
   "cell_type": "markdown",
   "id": "060a27e4",
   "metadata": {},
   "source": [
    "nombre_infected       683\n",
    "nombre_sain          2507\n",
    "nombre_exposed        508\n",
    "nombre_recovered    16302\n",
    "Name: 453, dtype: int64"
   ]
  },
  {
   "cell_type": "markdown",
   "id": "60b2c52d",
   "metadata": {},
   "source": [
    "nombre_infected       697\n",
    "nombre_sain          2512\n",
    "nombre_exposed        499\n",
    "nombre_recovered    16292\n",
    "Name: 454, dtype: int64"
   ]
  },
  {
   "cell_type": "markdown",
   "id": "8abd1a58",
   "metadata": {},
   "source": [
    "nombre_infected       723\n",
    "nombre_sain          2517\n",
    "nombre_exposed        480\n",
    "nombre_recovered    16280\n",
    "Name: 455, dtype: int64"
   ]
  },
  {
   "cell_type": "markdown",
   "id": "6a0f6fe8",
   "metadata": {},
   "source": [
    "nombre_infected       741\n",
    "nombre_sain          2483\n",
    "nombre_exposed        488\n",
    "nombre_recovered    16288\n",
    "Name: 456, dtype: int64"
   ]
  },
  {
   "cell_type": "markdown",
   "id": "a27c7e6a",
   "metadata": {},
   "source": [
    "nombre_infected       740\n",
    "nombre_sain          2452\n",
    "nombre_exposed        512\n",
    "nombre_recovered    16296\n",
    "Name: 457, dtype: int64"
   ]
  },
  {
   "cell_type": "markdown",
   "id": "2cdb9aca",
   "metadata": {},
   "source": [
    "nombre_infected       743\n",
    "nombre_sain          2435\n",
    "nombre_exposed        523\n",
    "nombre_recovered    16299\n",
    "Name: 458, dtype: int64"
   ]
  },
  {
   "cell_type": "markdown",
   "id": "bae81d48",
   "metadata": {},
   "source": [
    "nombre_infected       758\n",
    "nombre_sain          2413\n",
    "nombre_exposed        524\n",
    "nombre_recovered    16305\n",
    "Name: 459, dtype: int64"
   ]
  },
  {
   "cell_type": "markdown",
   "id": "1c8fb9b2",
   "metadata": {},
   "source": [
    "nombre_infected       785\n",
    "nombre_sain          2422\n",
    "nombre_exposed        502\n",
    "nombre_recovered    16291\n",
    "Name: 460, dtype: int64"
   ]
  },
  {
   "cell_type": "markdown",
   "id": "1c958287",
   "metadata": {},
   "source": [
    "nombre_infected       766\n",
    "nombre_sain          2388\n",
    "nombre_exposed        526\n",
    "nombre_recovered    16320\n",
    "Name: 461, dtype: int64"
   ]
  },
  {
   "cell_type": "markdown",
   "id": "9f28d27b",
   "metadata": {},
   "source": [
    "nombre_infected       780\n",
    "nombre_sain          2397\n",
    "nombre_exposed        504\n",
    "nombre_recovered    16319\n",
    "Name: 462, dtype: int64"
   ]
  },
  {
   "cell_type": "markdown",
   "id": "08cbc389",
   "metadata": {},
   "source": [
    "nombre_infected       779\n",
    "nombre_sain          2386\n",
    "nombre_exposed        514\n",
    "nombre_recovered    16321\n",
    "Name: 463, dtype: int64"
   ]
  },
  {
   "cell_type": "markdown",
   "id": "81674f87",
   "metadata": {},
   "source": [
    "nombre_infected       762\n",
    "nombre_sain          2383\n",
    "nombre_exposed        523\n",
    "nombre_recovered    16332\n",
    "Name: 464, dtype: int64"
   ]
  },
  {
   "cell_type": "markdown",
   "id": "09954566",
   "metadata": {},
   "source": [
    "nombre_infected       784\n",
    "nombre_sain          2363\n",
    "nombre_exposed        522\n",
    "nombre_recovered    16331\n",
    "Name: 465, dtype: int64"
   ]
  },
  {
   "cell_type": "markdown",
   "id": "458a7fe7",
   "metadata": {},
   "source": [
    "nombre_infected       789\n",
    "nombre_sain          2335\n",
    "nombre_exposed        525\n",
    "nombre_recovered    16351\n",
    "Name: 466, dtype: int64"
   ]
  },
  {
   "cell_type": "markdown",
   "id": "b8388ea0",
   "metadata": {},
   "source": [
    "nombre_infected       793\n",
    "nombre_sain          2336\n",
    "nombre_exposed        528\n",
    "nombre_recovered    16343\n",
    "Name: 467, dtype: int64"
   ]
  },
  {
   "cell_type": "markdown",
   "id": "52bd6787",
   "metadata": {},
   "source": [
    "nombre_infected       816\n",
    "nombre_sain          2316\n",
    "nombre_exposed        508\n",
    "nombre_recovered    16360\n",
    "Name: 468, dtype: int64"
   ]
  },
  {
   "cell_type": "markdown",
   "id": "54ab1d00",
   "metadata": {},
   "source": [
    "nombre_infected       800\n",
    "nombre_sain          2340\n",
    "nombre_exposed        505\n",
    "nombre_recovered    16355\n",
    "Name: 469, dtype: int64"
   ]
  },
  {
   "cell_type": "markdown",
   "id": "7fa7221b",
   "metadata": {},
   "source": [
    "nombre_infected       815\n",
    "nombre_sain          2337\n",
    "nombre_exposed        475\n",
    "nombre_recovered    16373\n",
    "Name: 470, dtype: int64"
   ]
  },
  {
   "cell_type": "markdown",
   "id": "3fa74867",
   "metadata": {},
   "source": [
    "nombre_infected       830\n",
    "nombre_sain          2319\n",
    "nombre_exposed        463\n",
    "nombre_recovered    16388\n",
    "Name: 471, dtype: int64"
   ]
  },
  {
   "cell_type": "markdown",
   "id": "b4d545f4",
   "metadata": {},
   "source": [
    "nombre_infected       809\n",
    "nombre_sain          2308\n",
    "nombre_exposed        477\n",
    "nombre_recovered    16406\n",
    "Name: 472, dtype: int64"
   ]
  },
  {
   "cell_type": "markdown",
   "id": "a70d6e62",
   "metadata": {},
   "source": [
    "nombre_infected       807\n",
    "nombre_sain          2310\n",
    "nombre_exposed        474\n",
    "nombre_recovered    16409\n",
    "Name: 473, dtype: int64"
   ]
  },
  {
   "cell_type": "markdown",
   "id": "8052b299",
   "metadata": {},
   "source": [
    "nombre_infected       812\n",
    "nombre_sain          2303\n",
    "nombre_exposed        455\n",
    "nombre_recovered    16430\n",
    "Name: 474, dtype: int64"
   ]
  },
  {
   "cell_type": "markdown",
   "id": "26e52136",
   "metadata": {},
   "source": [
    "nombre_infected       807\n",
    "nombre_sain          2292\n",
    "nombre_exposed        458\n",
    "nombre_recovered    16443\n",
    "Name: 475, dtype: int64"
   ]
  },
  {
   "cell_type": "markdown",
   "id": "0b950542",
   "metadata": {},
   "source": [
    "nombre_infected       767\n",
    "nombre_sain          2284\n",
    "nombre_exposed        488\n",
    "nombre_recovered    16461\n",
    "Name: 476, dtype: int64"
   ]
  },
  {
   "cell_type": "markdown",
   "id": "6bc60fb9",
   "metadata": {},
   "source": [
    "nombre_infected       758\n",
    "nombre_sain          2285\n",
    "nombre_exposed        488\n",
    "nombre_recovered    16469\n",
    "Name: 477, dtype: int64"
   ]
  },
  {
   "cell_type": "markdown",
   "id": "ebc9d929",
   "metadata": {},
   "source": [
    "nombre_infected       757\n",
    "nombre_sain          2288\n",
    "nombre_exposed        483\n",
    "nombre_recovered    16472\n",
    "Name: 478, dtype: int64"
   ]
  },
  {
   "cell_type": "markdown",
   "id": "045f24c2",
   "metadata": {},
   "source": [
    "nombre_infected       770\n",
    "nombre_sain          2300\n",
    "nombre_exposed        456\n",
    "nombre_recovered    16474\n",
    "Name: 479, dtype: int64"
   ]
  },
  {
   "cell_type": "markdown",
   "id": "640479e8",
   "metadata": {},
   "source": [
    "nombre_infected       784\n",
    "nombre_sain          2293\n",
    "nombre_exposed        456\n",
    "nombre_recovered    16467\n",
    "Name: 480, dtype: int64"
   ]
  },
  {
   "cell_type": "markdown",
   "id": "347cadd1",
   "metadata": {},
   "source": [
    "nombre_infected       758\n",
    "nombre_sain          2286\n",
    "nombre_exposed        471\n",
    "nombre_recovered    16485\n",
    "Name: 481, dtype: int64"
   ]
  },
  {
   "cell_type": "markdown",
   "id": "489f07df",
   "metadata": {},
   "source": [
    "nombre_infected       733\n",
    "nombre_sain          2285\n",
    "nombre_exposed        468\n",
    "nombre_recovered    16514\n",
    "Name: 482, dtype: int64"
   ]
  },
  {
   "cell_type": "markdown",
   "id": "d9568b85",
   "metadata": {},
   "source": [
    "nombre_infected       729\n",
    "nombre_sain          2286\n",
    "nombre_exposed        476\n",
    "nombre_recovered    16509\n",
    "Name: 483, dtype: int64"
   ]
  },
  {
   "cell_type": "markdown",
   "id": "90705d84",
   "metadata": {},
   "source": [
    "nombre_infected       742\n",
    "nombre_sain          2303\n",
    "nombre_exposed        441\n",
    "nombre_recovered    16514\n",
    "Name: 484, dtype: int64"
   ]
  },
  {
   "cell_type": "markdown",
   "id": "b81fd5b9",
   "metadata": {},
   "source": [
    "nombre_infected       754\n",
    "nombre_sain          2302\n",
    "nombre_exposed        444\n",
    "nombre_recovered    16500\n",
    "Name: 485, dtype: int64"
   ]
  },
  {
   "cell_type": "markdown",
   "id": "d5a95319",
   "metadata": {},
   "source": [
    "nombre_infected       742\n",
    "nombre_sain          2293\n",
    "nombre_exposed        470\n",
    "nombre_recovered    16495\n",
    "Name: 486, dtype: int64"
   ]
  },
  {
   "cell_type": "markdown",
   "id": "cc6794c8",
   "metadata": {},
   "source": [
    "nombre_infected       726\n",
    "nombre_sain          2304\n",
    "nombre_exposed        479\n",
    "nombre_recovered    16491\n",
    "Name: 487, dtype: int64"
   ]
  },
  {
   "cell_type": "markdown",
   "id": "5b6be56b",
   "metadata": {},
   "source": [
    "nombre_infected       711\n",
    "nombre_sain          2331\n",
    "nombre_exposed        469\n",
    "nombre_recovered    16489\n",
    "Name: 488, dtype: int64"
   ]
  },
  {
   "cell_type": "markdown",
   "id": "59743117",
   "metadata": {},
   "source": [
    "nombre_infected       688\n",
    "nombre_sain          2322\n",
    "nombre_exposed        499\n",
    "nombre_recovered    16491\n",
    "Name: 489, dtype: int64"
   ]
  },
  {
   "cell_type": "markdown",
   "id": "bf294822",
   "metadata": {},
   "source": [
    "nombre_infected       700\n",
    "nombre_sain          2353\n",
    "nombre_exposed        460\n",
    "nombre_recovered    16487\n",
    "Name: 490, dtype: int64"
   ]
  },
  {
   "cell_type": "markdown",
   "id": "34f7a5fc",
   "metadata": {},
   "source": [
    "nombre_infected       692\n",
    "nombre_sain          2374\n",
    "nombre_exposed        462\n",
    "nombre_recovered    16472\n",
    "Name: 491, dtype: int64"
   ]
  },
  {
   "cell_type": "markdown",
   "id": "359f1888",
   "metadata": {},
   "source": [
    "nombre_infected       680\n",
    "nombre_sain          2376\n",
    "nombre_exposed        473\n",
    "nombre_recovered    16471\n",
    "Name: 492, dtype: int64"
   ]
  },
  {
   "cell_type": "markdown",
   "id": "dac6f340",
   "metadata": {},
   "source": [
    "nombre_infected       684\n",
    "nombre_sain          2414\n",
    "nombre_exposed        447\n",
    "nombre_recovered    16455\n",
    "Name: 493, dtype: int64"
   ]
  },
  {
   "cell_type": "markdown",
   "id": "676e7d69",
   "metadata": {},
   "source": [
    "nombre_infected       688\n",
    "nombre_sain          2428\n",
    "nombre_exposed        432\n",
    "nombre_recovered    16452\n",
    "Name: 494, dtype: int64"
   ]
  },
  {
   "cell_type": "markdown",
   "id": "49be0997",
   "metadata": {},
   "source": [
    "nombre_infected       687\n",
    "nombre_sain          2415\n",
    "nombre_exposed        452\n",
    "nombre_recovered    16446\n",
    "Name: 495, dtype: int64"
   ]
  },
  {
   "cell_type": "markdown",
   "id": "aa8ef24d",
   "metadata": {},
   "source": [
    "nombre_infected       667\n",
    "nombre_sain          2431\n",
    "nombre_exposed        472\n",
    "nombre_recovered    16430\n",
    "Name: 496, dtype: int64"
   ]
  },
  {
   "cell_type": "markdown",
   "id": "8bec9515",
   "metadata": {},
   "source": [
    "nombre_infected       675\n",
    "nombre_sain          2410\n",
    "nombre_exposed        480\n",
    "nombre_recovered    16435\n",
    "Name: 497, dtype: int64"
   ]
  },
  {
   "cell_type": "markdown",
   "id": "55319f4b",
   "metadata": {},
   "source": [
    "nombre_infected       659\n",
    "nombre_sain          2435\n",
    "nombre_exposed        484\n",
    "nombre_recovered    16422\n",
    "Name: 498, dtype: int64"
   ]
  },
  {
   "cell_type": "markdown",
   "id": "e9658ef9",
   "metadata": {},
   "source": [
    "nombre_infected       678\n",
    "nombre_sain          2461\n",
    "nombre_exposed        454\n",
    "nombre_recovered    16407\n",
    "Name: 499, dtype: int64"
   ]
  },
  {
   "cell_type": "markdown",
   "id": "2e36b28d",
   "metadata": {},
   "source": [
    "nombre_infected       686\n",
    "nombre_sain          2493\n",
    "nombre_exposed        442\n",
    "nombre_recovered    16379\n",
    "Name: 500, dtype: int64"
   ]
  },
  {
   "cell_type": "markdown",
   "id": "795aaa27",
   "metadata": {},
   "source": [
    "nombre_infected       710\n",
    "nombre_sain          2481\n",
    "nombre_exposed        434\n",
    "nombre_recovered    16375\n",
    "Name: 501, dtype: int64"
   ]
  },
  {
   "cell_type": "markdown",
   "id": "2e4f1a64",
   "metadata": {},
   "source": [
    "nombre_infected       714\n",
    "nombre_sain          2481\n",
    "nombre_exposed        462\n",
    "nombre_recovered    16343\n",
    "Name: 502, dtype: int64"
   ]
  },
  {
   "cell_type": "markdown",
   "id": "ef54e9ee",
   "metadata": {},
   "source": [
    "nombre_infected       711\n",
    "nombre_sain          2468\n",
    "nombre_exposed        486\n",
    "nombre_recovered    16335\n",
    "Name: 503, dtype: int64"
   ]
  },
  {
   "cell_type": "markdown",
   "id": "560a2a8f",
   "metadata": {},
   "source": [
    "nombre_infected       729\n",
    "nombre_sain          2477\n",
    "nombre_exposed        502\n",
    "nombre_recovered    16292\n",
    "Name: 504, dtype: int64"
   ]
  },
  {
   "cell_type": "markdown",
   "id": "12bde239",
   "metadata": {},
   "source": [
    "nombre_infected       751\n",
    "nombre_sain          2486\n",
    "nombre_exposed        490\n",
    "nombre_recovered    16273\n",
    "Name: 505, dtype: int64"
   ]
  },
  {
   "cell_type": "markdown",
   "id": "2db6df05",
   "metadata": {},
   "source": [
    "nombre_infected       781\n",
    "nombre_sain          2479\n",
    "nombre_exposed        489\n",
    "nombre_recovered    16251\n",
    "Name: 506, dtype: int64"
   ]
  },
  {
   "cell_type": "markdown",
   "id": "d0cda0ce",
   "metadata": {},
   "source": [
    "nombre_infected       795\n",
    "nombre_sain          2454\n",
    "nombre_exposed        504\n",
    "nombre_recovered    16247\n",
    "Name: 507, dtype: int64"
   ]
  },
  {
   "cell_type": "markdown",
   "id": "e6f2032c",
   "metadata": {},
   "source": [
    "nombre_infected       787\n",
    "nombre_sain          2437\n",
    "nombre_exposed        531\n",
    "nombre_recovered    16245\n",
    "Name: 508, dtype: int64"
   ]
  },
  {
   "cell_type": "markdown",
   "id": "cb4958b7",
   "metadata": {},
   "source": [
    "nombre_infected       782\n",
    "nombre_sain          2453\n",
    "nombre_exposed        525\n",
    "nombre_recovered    16240\n",
    "Name: 509, dtype: int64"
   ]
  },
  {
   "cell_type": "markdown",
   "id": "aa1417b1",
   "metadata": {},
   "source": [
    "nombre_infected       816\n",
    "nombre_sain          2460\n",
    "nombre_exposed        527\n",
    "nombre_recovered    16197\n",
    "Name: 510, dtype: int64"
   ]
  },
  {
   "cell_type": "markdown",
   "id": "e25dfe3f",
   "metadata": {},
   "source": [
    "nombre_infected       822\n",
    "nombre_sain          2466\n",
    "nombre_exposed        524\n",
    "nombre_recovered    16188\n",
    "Name: 511, dtype: int64"
   ]
  },
  {
   "cell_type": "markdown",
   "id": "ecce267a",
   "metadata": {},
   "source": [
    "nombre_infected       850\n",
    "nombre_sain          2490\n",
    "nombre_exposed        511\n",
    "nombre_recovered    16149\n",
    "Name: 512, dtype: int64"
   ]
  },
  {
   "cell_type": "markdown",
   "id": "43d93a64",
   "metadata": {},
   "source": [
    "nombre_infected       849\n",
    "nombre_sain          2491\n",
    "nombre_exposed        508\n",
    "nombre_recovered    16152\n",
    "Name: 513, dtype: int64"
   ]
  },
  {
   "cell_type": "markdown",
   "id": "5a3badde",
   "metadata": {},
   "source": [
    "nombre_infected       814\n",
    "nombre_sain          2479\n",
    "nombre_exposed        538\n",
    "nombre_recovered    16169\n",
    "Name: 514, dtype: int64"
   ]
  },
  {
   "cell_type": "markdown",
   "id": "db7559c3",
   "metadata": {},
   "source": [
    "nombre_infected       814\n",
    "nombre_sain          2492\n",
    "nombre_exposed        556\n",
    "nombre_recovered    16138\n",
    "Name: 515, dtype: int64"
   ]
  },
  {
   "cell_type": "markdown",
   "id": "c0fe8c4c",
   "metadata": {},
   "source": [
    "nombre_infected       794\n",
    "nombre_sain          2492\n",
    "nombre_exposed        570\n",
    "nombre_recovered    16144\n",
    "Name: 516, dtype: int64"
   ]
  },
  {
   "cell_type": "markdown",
   "id": "b59ef683",
   "metadata": {},
   "source": [
    "nombre_infected       825\n",
    "nombre_sain          2504\n",
    "nombre_exposed        563\n",
    "nombre_recovered    16108\n",
    "Name: 517, dtype: int64"
   ]
  },
  {
   "cell_type": "markdown",
   "id": "38006dbe",
   "metadata": {},
   "source": [
    "nombre_infected       841\n",
    "nombre_sain          2511\n",
    "nombre_exposed        555\n",
    "nombre_recovered    16093\n",
    "Name: 518, dtype: int64"
   ]
  },
  {
   "cell_type": "markdown",
   "id": "cc0cbb38",
   "metadata": {},
   "source": [
    "nombre_infected       845\n",
    "nombre_sain          2484\n",
    "nombre_exposed        581\n",
    "nombre_recovered    16090\n",
    "Name: 519, dtype: int64"
   ]
  },
  {
   "cell_type": "markdown",
   "id": "832b9bcb",
   "metadata": {},
   "source": [
    "nombre_infected       855\n",
    "nombre_sain          2483\n",
    "nombre_exposed        583\n",
    "nombre_recovered    16079\n",
    "Name: 520, dtype: int64"
   ]
  },
  {
   "cell_type": "markdown",
   "id": "0a17ca44",
   "metadata": {},
   "source": [
    "nombre_infected       877\n",
    "nombre_sain          2463\n",
    "nombre_exposed        594\n",
    "nombre_recovered    16066\n",
    "Name: 521, dtype: int64"
   ]
  },
  {
   "cell_type": "markdown",
   "id": "968b2653",
   "metadata": {},
   "source": [
    "nombre_infected       869\n",
    "nombre_sain          2446\n",
    "nombre_exposed        615\n",
    "nombre_recovered    16070\n",
    "Name: 522, dtype: int64"
   ]
  },
  {
   "cell_type": "markdown",
   "id": "99810d2d",
   "metadata": {},
   "source": [
    "nombre_infected       870\n",
    "nombre_sain          2431\n",
    "nombre_exposed        616\n",
    "nombre_recovered    16083\n",
    "Name: 523, dtype: int64"
   ]
  },
  {
   "cell_type": "markdown",
   "id": "654ee092",
   "metadata": {},
   "source": [
    "nombre_infected       858\n",
    "nombre_sain          2450\n",
    "nombre_exposed        613\n",
    "nombre_recovered    16079\n",
    "Name: 524, dtype: int64"
   ]
  },
  {
   "cell_type": "markdown",
   "id": "0aca657f",
   "metadata": {},
   "source": [
    "nombre_infected       867\n",
    "nombre_sain          2459\n",
    "nombre_exposed        597\n",
    "nombre_recovered    16077\n",
    "Name: 525, dtype: int64"
   ]
  },
  {
   "cell_type": "markdown",
   "id": "8e9b8902",
   "metadata": {},
   "source": [
    "nombre_infected       875\n",
    "nombre_sain          2462\n",
    "nombre_exposed        610\n",
    "nombre_recovered    16053\n",
    "Name: 526, dtype: int64"
   ]
  },
  {
   "cell_type": "markdown",
   "id": "9ec323f5",
   "metadata": {},
   "source": [
    "nombre_infected       871\n",
    "nombre_sain          2465\n",
    "nombre_exposed        608\n",
    "nombre_recovered    16056\n",
    "Name: 527, dtype: int64"
   ]
  },
  {
   "cell_type": "markdown",
   "id": "da11ee0b",
   "metadata": {},
   "source": [
    "nombre_infected       854\n",
    "nombre_sain          2485\n",
    "nombre_exposed        596\n",
    "nombre_recovered    16065\n",
    "Name: 528, dtype: int64"
   ]
  },
  {
   "cell_type": "markdown",
   "id": "f15dbf62",
   "metadata": {},
   "source": [
    "nombre_infected       867\n",
    "nombre_sain          2476\n",
    "nombre_exposed        596\n",
    "nombre_recovered    16061\n",
    "Name: 529, dtype: int64"
   ]
  },
  {
   "cell_type": "markdown",
   "id": "b7cd84ac",
   "metadata": {},
   "source": [
    "nombre_infected       865\n",
    "nombre_sain          2447\n",
    "nombre_exposed        610\n",
    "nombre_recovered    16078\n",
    "Name: 530, dtype: int64"
   ]
  },
  {
   "cell_type": "markdown",
   "id": "70928d2f",
   "metadata": {},
   "source": [
    "nombre_infected       905\n",
    "nombre_sain          2453\n",
    "nombre_exposed        586\n",
    "nombre_recovered    16056\n",
    "Name: 531, dtype: int64"
   ]
  },
  {
   "cell_type": "markdown",
   "id": "04e1debb",
   "metadata": {},
   "source": [
    "nombre_infected       897\n",
    "nombre_sain          2435\n",
    "nombre_exposed        618\n",
    "nombre_recovered    16050\n",
    "Name: 532, dtype: int64"
   ]
  },
  {
   "cell_type": "markdown",
   "id": "f41bd550",
   "metadata": {},
   "source": [
    "nombre_infected       897\n",
    "nombre_sain          2415\n",
    "nombre_exposed        612\n",
    "nombre_recovered    16076\n",
    "Name: 533, dtype: int64"
   ]
  },
  {
   "cell_type": "markdown",
   "id": "5aaa2abb",
   "metadata": {},
   "source": [
    "nombre_infected       911\n",
    "nombre_sain          2390\n",
    "nombre_exposed        614\n",
    "nombre_recovered    16085\n",
    "Name: 534, dtype: int64"
   ]
  },
  {
   "cell_type": "markdown",
   "id": "75e05d0f",
   "metadata": {},
   "source": [
    "nombre_infected       895\n",
    "nombre_sain          2361\n",
    "nombre_exposed        627\n",
    "nombre_recovered    16117\n",
    "Name: 535, dtype: int64"
   ]
  },
  {
   "cell_type": "markdown",
   "id": "a5507449",
   "metadata": {},
   "source": [
    "nombre_infected       912\n",
    "nombre_sain          2349\n",
    "nombre_exposed        607\n",
    "nombre_recovered    16132\n",
    "Name: 536, dtype: int64"
   ]
  },
  {
   "cell_type": "markdown",
   "id": "a03dfc0d",
   "metadata": {},
   "source": [
    "nombre_infected       905\n",
    "nombre_sain          2296\n",
    "nombre_exposed        644\n",
    "nombre_recovered    16155\n",
    "Name: 537, dtype: int64"
   ]
  },
  {
   "cell_type": "markdown",
   "id": "a31cac05",
   "metadata": {},
   "source": [
    "nombre_infected       900\n",
    "nombre_sain          2274\n",
    "nombre_exposed        634\n",
    "nombre_recovered    16192\n",
    "Name: 538, dtype: int64"
   ]
  },
  {
   "cell_type": "markdown",
   "id": "4a047b35",
   "metadata": {},
   "source": [
    "nombre_infected       939\n",
    "nombre_sain          2293\n",
    "nombre_exposed        593\n",
    "nombre_recovered    16175\n",
    "Name: 539, dtype: int64"
   ]
  },
  {
   "cell_type": "markdown",
   "id": "f0eeb5ff",
   "metadata": {},
   "source": [
    "nombre_infected       938\n",
    "nombre_sain          2260\n",
    "nombre_exposed        608\n",
    "nombre_recovered    16194\n",
    "Name: 540, dtype: int64"
   ]
  },
  {
   "cell_type": "markdown",
   "id": "dd469169",
   "metadata": {},
   "source": [
    "nombre_infected       975\n",
    "nombre_sain          2260\n",
    "nombre_exposed        589\n",
    "nombre_recovered    16176\n",
    "Name: 541, dtype: int64"
   ]
  },
  {
   "cell_type": "markdown",
   "id": "d11c3fef",
   "metadata": {},
   "source": [
    "nombre_infected       961\n",
    "nombre_sain          2239\n",
    "nombre_exposed        604\n",
    "nombre_recovered    16196\n",
    "Name: 542, dtype: int64"
   ]
  },
  {
   "cell_type": "markdown",
   "id": "4a50372a",
   "metadata": {},
   "source": [
    "nombre_infected       928\n",
    "nombre_sain          2194\n",
    "nombre_exposed        642\n",
    "nombre_recovered    16236\n",
    "Name: 543, dtype: int64"
   ]
  },
  {
   "cell_type": "markdown",
   "id": "836a54f5",
   "metadata": {},
   "source": [
    "nombre_infected       942\n",
    "nombre_sain          2184\n",
    "nombre_exposed        631\n",
    "nombre_recovered    16243\n",
    "Name: 544, dtype: int64"
   ]
  },
  {
   "cell_type": "markdown",
   "id": "a3d94c80",
   "metadata": {},
   "source": [
    "nombre_infected       952\n",
    "nombre_sain          2183\n",
    "nombre_exposed        622\n",
    "nombre_recovered    16243\n",
    "Name: 545, dtype: int64"
   ]
  },
  {
   "cell_type": "markdown",
   "id": "ee844cec",
   "metadata": {},
   "source": [
    "nombre_infected       957\n",
    "nombre_sain          2164\n",
    "nombre_exposed        628\n",
    "nombre_recovered    16251\n",
    "Name: 546, dtype: int64"
   ]
  },
  {
   "cell_type": "markdown",
   "id": "e15b5159",
   "metadata": {},
   "source": [
    "nombre_infected       941\n",
    "nombre_sain          2129\n",
    "nombre_exposed        630\n",
    "nombre_recovered    16300\n",
    "Name: 547, dtype: int64"
   ]
  },
  {
   "cell_type": "markdown",
   "id": "1216adf1",
   "metadata": {},
   "source": [
    "nombre_infected       969\n",
    "nombre_sain          2141\n",
    "nombre_exposed        604\n",
    "nombre_recovered    16286\n",
    "Name: 548, dtype: int64"
   ]
  },
  {
   "cell_type": "markdown",
   "id": "dba36f3c",
   "metadata": {},
   "source": [
    "nombre_infected       982\n",
    "nombre_sain          2151\n",
    "nombre_exposed        566\n",
    "nombre_recovered    16301\n",
    "Name: 549, dtype: int64"
   ]
  },
  {
   "cell_type": "markdown",
   "id": "072af69b",
   "metadata": {},
   "source": [
    "nombre_infected       967\n",
    "nombre_sain          2143\n",
    "nombre_exposed        579\n",
    "nombre_recovered    16311\n",
    "Name: 550, dtype: int64"
   ]
  },
  {
   "cell_type": "markdown",
   "id": "b595afec",
   "metadata": {},
   "source": [
    "nombre_infected       963\n",
    "nombre_sain          2127\n",
    "nombre_exposed        594\n",
    "nombre_recovered    16316\n",
    "Name: 551, dtype: int64"
   ]
  },
  {
   "cell_type": "markdown",
   "id": "b2b79fc4",
   "metadata": {},
   "source": [
    "nombre_infected       972\n",
    "nombre_sain          2085\n",
    "nombre_exposed        599\n",
    "nombre_recovered    16344\n",
    "Name: 552, dtype: int64"
   ]
  },
  {
   "cell_type": "markdown",
   "id": "99df939a",
   "metadata": {},
   "source": [
    "nombre_infected       981\n",
    "nombre_sain          2049\n",
    "nombre_exposed        610\n",
    "nombre_recovered    16360\n",
    "Name: 553, dtype: int64"
   ]
  },
  {
   "cell_type": "markdown",
   "id": "64138e63",
   "metadata": {},
   "source": [
    "nombre_infected      1003\n",
    "nombre_sain          2026\n",
    "nombre_exposed        610\n",
    "nombre_recovered    16361\n",
    "Name: 554, dtype: int64"
   ]
  },
  {
   "cell_type": "markdown",
   "id": "586ae480",
   "metadata": {},
   "source": [
    "nombre_infected       992\n",
    "nombre_sain          2009\n",
    "nombre_exposed        627\n",
    "nombre_recovered    16372\n",
    "Name: 555, dtype: int64"
   ]
  },
  {
   "cell_type": "markdown",
   "id": "ae7d4fdb",
   "metadata": {},
   "source": [
    "nombre_infected       988\n",
    "nombre_sain          1986\n",
    "nombre_exposed        640\n",
    "nombre_recovered    16386\n",
    "Name: 556, dtype: int64"
   ]
  },
  {
   "cell_type": "markdown",
   "id": "cba2aca2",
   "metadata": {},
   "source": [
    "nombre_infected      1004\n",
    "nombre_sain          1991\n",
    "nombre_exposed        645\n",
    "nombre_recovered    16360\n",
    "Name: 557, dtype: int64"
   ]
  },
  {
   "cell_type": "markdown",
   "id": "0b9ada05",
   "metadata": {},
   "source": [
    "nombre_infected      1004\n",
    "nombre_sain          1998\n",
    "nombre_exposed        632\n",
    "nombre_recovered    16366\n",
    "Name: 558, dtype: int64"
   ]
  },
  {
   "cell_type": "markdown",
   "id": "c7b5a0e7",
   "metadata": {},
   "source": [
    "nombre_infected      1005\n",
    "nombre_sain          1981\n",
    "nombre_exposed        644\n",
    "nombre_recovered    16370\n",
    "Name: 559, dtype: int64"
   ]
  },
  {
   "cell_type": "markdown",
   "id": "33721261",
   "metadata": {},
   "source": [
    "nombre_infected      1022\n",
    "nombre_sain          1977\n",
    "nombre_exposed        645\n",
    "nombre_recovered    16356\n",
    "Name: 560, dtype: int64"
   ]
  },
  {
   "cell_type": "markdown",
   "id": "e61e0ab9",
   "metadata": {},
   "source": [
    "nombre_infected      1016\n",
    "nombre_sain          1998\n",
    "nombre_exposed        639\n",
    "nombre_recovered    16347\n",
    "Name: 561, dtype: int64"
   ]
  },
  {
   "cell_type": "markdown",
   "id": "8fa1db99",
   "metadata": {},
   "source": [
    "nombre_infected      1025\n",
    "nombre_sain          2043\n",
    "nombre_exposed        617\n",
    "nombre_recovered    16315\n",
    "Name: 562, dtype: int64"
   ]
  },
  {
   "cell_type": "markdown",
   "id": "a48ab5e8",
   "metadata": {},
   "source": [
    "nombre_infected      1023\n",
    "nombre_sain          2048\n",
    "nombre_exposed        607\n",
    "nombre_recovered    16322\n",
    "Name: 563, dtype: int64"
   ]
  },
  {
   "cell_type": "markdown",
   "id": "a8e4e429",
   "metadata": {},
   "source": [
    "nombre_infected      1015\n",
    "nombre_sain          2046\n",
    "nombre_exposed        605\n",
    "nombre_recovered    16334\n",
    "Name: 564, dtype: int64"
   ]
  },
  {
   "cell_type": "markdown",
   "id": "c03fa945",
   "metadata": {},
   "source": [
    "nombre_infected      1007\n",
    "nombre_sain          2037\n",
    "nombre_exposed        614\n",
    "nombre_recovered    16342\n",
    "Name: 565, dtype: int64"
   ]
  },
  {
   "cell_type": "markdown",
   "id": "ed3c8902",
   "metadata": {},
   "source": [
    "nombre_infected      1000\n",
    "nombre_sain          2010\n",
    "nombre_exposed        635\n",
    "nombre_recovered    16355\n",
    "Name: 566, dtype: int64"
   ]
  },
  {
   "cell_type": "markdown",
   "id": "d567587e",
   "metadata": {},
   "source": [
    "nombre_infected      1000\n",
    "nombre_sain          1997\n",
    "nombre_exposed        667\n",
    "nombre_recovered    16336\n",
    "Name: 567, dtype: int64"
   ]
  },
  {
   "cell_type": "markdown",
   "id": "bbeff699",
   "metadata": {},
   "source": [
    "nombre_infected      1017\n",
    "nombre_sain          1994\n",
    "nombre_exposed        654\n",
    "nombre_recovered    16335\n",
    "Name: 568, dtype: int64"
   ]
  },
  {
   "cell_type": "markdown",
   "id": "6f48331e",
   "metadata": {},
   "source": [
    "nombre_infected      1048\n",
    "nombre_sain          1965\n",
    "nombre_exposed        656\n",
    "nombre_recovered    16331\n",
    "Name: 569, dtype: int64"
   ]
  },
  {
   "cell_type": "markdown",
   "id": "4504ea07",
   "metadata": {},
   "source": [
    "nombre_infected      1037\n",
    "nombre_sain          1947\n",
    "nombre_exposed        656\n",
    "nombre_recovered    16360\n",
    "Name: 570, dtype: int64"
   ]
  },
  {
   "cell_type": "markdown",
   "id": "f4a905e8",
   "metadata": {},
   "source": [
    "nombre_infected      1055\n",
    "nombre_sain          1913\n",
    "nombre_exposed        645\n",
    "nombre_recovered    16387\n",
    "Name: 571, dtype: int64"
   ]
  },
  {
   "cell_type": "markdown",
   "id": "96f3e66c",
   "metadata": {},
   "source": [
    "nombre_infected      1057\n",
    "nombre_sain          1904\n",
    "nombre_exposed        630\n",
    "nombre_recovered    16409\n",
    "Name: 572, dtype: int64"
   ]
  },
  {
   "cell_type": "markdown",
   "id": "f2868217",
   "metadata": {},
   "source": [
    "nombre_infected      1052\n",
    "nombre_sain          1883\n",
    "nombre_exposed        620\n",
    "nombre_recovered    16445\n",
    "Name: 573, dtype: int64"
   ]
  },
  {
   "cell_type": "markdown",
   "id": "4be1bebb",
   "metadata": {},
   "source": [
    "nombre_infected      1051\n",
    "nombre_sain          1857\n",
    "nombre_exposed        590\n",
    "nombre_recovered    16502\n",
    "Name: 574, dtype: int64"
   ]
  },
  {
   "cell_type": "markdown",
   "id": "bfaf8c93",
   "metadata": {},
   "source": [
    "nombre_infected      1024\n",
    "nombre_sain          1862\n",
    "nombre_exposed        574\n",
    "nombre_recovered    16540\n",
    "Name: 575, dtype: int64"
   ]
  },
  {
   "cell_type": "markdown",
   "id": "dc411ea0",
   "metadata": {},
   "source": [
    "nombre_infected      1015\n",
    "nombre_sain          1848\n",
    "nombre_exposed        571\n",
    "nombre_recovered    16566\n",
    "Name: 576, dtype: int64"
   ]
  },
  {
   "cell_type": "markdown",
   "id": "1e4c7e23",
   "metadata": {},
   "source": [
    "nombre_infected       994\n",
    "nombre_sain          1852\n",
    "nombre_exposed        542\n",
    "nombre_recovered    16612\n",
    "Name: 577, dtype: int64"
   ]
  },
  {
   "cell_type": "markdown",
   "id": "6a00d958",
   "metadata": {},
   "source": [
    "nombre_infected       966\n",
    "nombre_sain          1819\n",
    "nombre_exposed        541\n",
    "nombre_recovered    16674\n",
    "Name: 578, dtype: int64"
   ]
  },
  {
   "cell_type": "markdown",
   "id": "5e19d64a",
   "metadata": {},
   "source": [
    "nombre_infected       945\n",
    "nombre_sain          1831\n",
    "nombre_exposed        530\n",
    "nombre_recovered    16694\n",
    "Name: 579, dtype: int64"
   ]
  },
  {
   "cell_type": "markdown",
   "id": "639babc2",
   "metadata": {},
   "source": [
    "nombre_infected       906\n",
    "nombre_sain          1819\n",
    "nombre_exposed        538\n",
    "nombre_recovered    16737\n",
    "Name: 580, dtype: int64"
   ]
  },
  {
   "cell_type": "markdown",
   "id": "1d55c516",
   "metadata": {},
   "source": [
    "nombre_infected       885\n",
    "nombre_sain          1813\n",
    "nombre_exposed        534\n",
    "nombre_recovered    16768\n",
    "Name: 581, dtype: int64"
   ]
  },
  {
   "cell_type": "markdown",
   "id": "81ba2e96",
   "metadata": {},
   "source": [
    "nombre_infected       861\n",
    "nombre_sain          1814\n",
    "nombre_exposed        533\n",
    "nombre_recovered    16792\n",
    "Name: 582, dtype: int64"
   ]
  },
  {
   "cell_type": "markdown",
   "id": "973a09d4",
   "metadata": {},
   "source": [
    "nombre_infected       849\n",
    "nombre_sain          1802\n",
    "nombre_exposed        520\n",
    "nombre_recovered    16829\n",
    "Name: 583, dtype: int64"
   ]
  },
  {
   "cell_type": "markdown",
   "id": "317810dc",
   "metadata": {},
   "source": [
    "nombre_infected       854\n",
    "nombre_sain          1822\n",
    "nombre_exposed        499\n",
    "nombre_recovered    16825\n",
    "Name: 584, dtype: int64"
   ]
  },
  {
   "cell_type": "markdown",
   "id": "85d89819",
   "metadata": {},
   "source": [
    "nombre_infected       848\n",
    "nombre_sain          1830\n",
    "nombre_exposed        489\n",
    "nombre_recovered    16833\n",
    "Name: 585, dtype: int64"
   ]
  },
  {
   "cell_type": "markdown",
   "id": "af62f3d9",
   "metadata": {},
   "source": [
    "nombre_infected       855\n",
    "nombre_sain          1842\n",
    "nombre_exposed        479\n",
    "nombre_recovered    16824\n",
    "Name: 586, dtype: int64"
   ]
  },
  {
   "cell_type": "markdown",
   "id": "6c37961f",
   "metadata": {},
   "source": [
    "nombre_infected       819\n",
    "nombre_sain          1860\n",
    "nombre_exposed        467\n",
    "nombre_recovered    16854\n",
    "Name: 587, dtype: int64"
   ]
  },
  {
   "cell_type": "markdown",
   "id": "cd551d10",
   "metadata": {},
   "source": [
    "nombre_infected       805\n",
    "nombre_sain          1869\n",
    "nombre_exposed        461\n",
    "nombre_recovered    16865\n",
    "Name: 588, dtype: int64"
   ]
  },
  {
   "cell_type": "markdown",
   "id": "e428ba74",
   "metadata": {},
   "source": [
    "nombre_infected       779\n",
    "nombre_sain          1887\n",
    "nombre_exposed        460\n",
    "nombre_recovered    16874\n",
    "Name: 589, dtype: int64"
   ]
  },
  {
   "cell_type": "markdown",
   "id": "fee10cfd",
   "metadata": {},
   "source": [
    "nombre_infected       761\n",
    "nombre_sain          1913\n",
    "nombre_exposed        454\n",
    "nombre_recovered    16872\n",
    "Name: 590, dtype: int64"
   ]
  },
  {
   "cell_type": "markdown",
   "id": "8c3ddf2c",
   "metadata": {},
   "source": [
    "nombre_infected       761\n",
    "nombre_sain          1930\n",
    "nombre_exposed        465\n",
    "nombre_recovered    16844\n",
    "Name: 591, dtype: int64"
   ]
  },
  {
   "cell_type": "markdown",
   "id": "172899df",
   "metadata": {},
   "source": [
    "nombre_infected       745\n",
    "nombre_sain          1954\n",
    "nombre_exposed        470\n",
    "nombre_recovered    16831\n",
    "Name: 592, dtype: int64"
   ]
  },
  {
   "cell_type": "markdown",
   "id": "46cc6213",
   "metadata": {},
   "source": [
    "nombre_infected       730\n",
    "nombre_sain          1964\n",
    "nombre_exposed        458\n",
    "nombre_recovered    16848\n",
    "Name: 593, dtype: int64"
   ]
  },
  {
   "cell_type": "markdown",
   "id": "965ef18e",
   "metadata": {},
   "source": [
    "nombre_infected       762\n",
    "nombre_sain          1978\n",
    "nombre_exposed        431\n",
    "nombre_recovered    16829\n",
    "Name: 594, dtype: int64"
   ]
  },
  {
   "cell_type": "markdown",
   "id": "fb52aee0",
   "metadata": {},
   "source": [
    "nombre_infected       758\n",
    "nombre_sain          1985\n",
    "nombre_exposed        411\n",
    "nombre_recovered    16846\n",
    "Name: 595, dtype: int64"
   ]
  },
  {
   "cell_type": "markdown",
   "id": "ca0cb8ed",
   "metadata": {},
   "source": [
    "nombre_infected       752\n",
    "nombre_sain          2006\n",
    "nombre_exposed        411\n",
    "nombre_recovered    16831\n",
    "Name: 596, dtype: int64"
   ]
  },
  {
   "cell_type": "markdown",
   "id": "af6b62d3",
   "metadata": {},
   "source": [
    "nombre_infected       745\n",
    "nombre_sain          2017\n",
    "nombre_exposed        418\n",
    "nombre_recovered    16820\n",
    "Name: 597, dtype: int64"
   ]
  },
  {
   "cell_type": "markdown",
   "id": "708a0d33",
   "metadata": {},
   "source": [
    "nombre_infected       724\n",
    "nombre_sain          2024\n",
    "nombre_exposed        434\n",
    "nombre_recovered    16818\n",
    "Name: 598, dtype: int64"
   ]
  },
  {
   "cell_type": "markdown",
   "id": "4c40319c",
   "metadata": {},
   "source": [
    "nombre_infected       729\n",
    "nombre_sain          2029\n",
    "nombre_exposed        434\n",
    "nombre_recovered    16808\n",
    "Name: 599, dtype: int64"
   ]
  },
  {
   "cell_type": "markdown",
   "id": "df64bdaf",
   "metadata": {},
   "source": [
    "nombre_infected       698\n",
    "nombre_sain          2067\n",
    "nombre_exposed        427\n",
    "nombre_recovered    16808\n",
    "Name: 600, dtype: int64"
   ]
  },
  {
   "cell_type": "markdown",
   "id": "debb5e98",
   "metadata": {},
   "source": [
    "nombre_infected       690\n",
    "nombre_sain          2073\n",
    "nombre_exposed        414\n",
    "nombre_recovered    16823\n",
    "Name: 601, dtype: int64"
   ]
  },
  {
   "cell_type": "markdown",
   "id": "32d93212",
   "metadata": {},
   "source": [
    "nombre_infected       679\n",
    "nombre_sain          2103\n",
    "nombre_exposed        408\n",
    "nombre_recovered    16810\n",
    "Name: 602, dtype: int64"
   ]
  },
  {
   "cell_type": "markdown",
   "id": "6d4cb773",
   "metadata": {},
   "source": [
    "nombre_infected       680\n",
    "nombre_sain          2132\n",
    "nombre_exposed        399\n",
    "nombre_recovered    16789\n",
    "Name: 603, dtype: int64"
   ]
  },
  {
   "cell_type": "markdown",
   "id": "f49a06dd",
   "metadata": {},
   "source": [
    "nombre_infected       668\n",
    "nombre_sain          2160\n",
    "nombre_exposed        409\n",
    "nombre_recovered    16763\n",
    "Name: 604, dtype: int64"
   ]
  },
  {
   "cell_type": "markdown",
   "id": "efe81dbc",
   "metadata": {},
   "source": [
    "nombre_infected       691\n",
    "nombre_sain          2184\n",
    "nombre_exposed        389\n",
    "nombre_recovered    16736\n",
    "Name: 605, dtype: int64"
   ]
  },
  {
   "cell_type": "markdown",
   "id": "9f8270cf",
   "metadata": {},
   "source": [
    "nombre_infected       679\n",
    "nombre_sain          2205\n",
    "nombre_exposed        406\n",
    "nombre_recovered    16710\n",
    "Name: 606, dtype: int64"
   ]
  },
  {
   "cell_type": "markdown",
   "id": "92736a56",
   "metadata": {},
   "source": [
    "nombre_infected       666\n",
    "nombre_sain          2207\n",
    "nombre_exposed        432\n",
    "nombre_recovered    16695\n",
    "Name: 607, dtype: int64"
   ]
  },
  {
   "cell_type": "markdown",
   "id": "a0e8bfc3",
   "metadata": {},
   "source": [
    "nombre_infected       664\n",
    "nombre_sain          2225\n",
    "nombre_exposed        431\n",
    "nombre_recovered    16680\n",
    "Name: 608, dtype: int64"
   ]
  },
  {
   "cell_type": "markdown",
   "id": "86c60a52",
   "metadata": {},
   "source": [
    "nombre_infected       669\n",
    "nombre_sain          2228\n",
    "nombre_exposed        439\n",
    "nombre_recovered    16664\n",
    "Name: 609, dtype: int64"
   ]
  },
  {
   "cell_type": "markdown",
   "id": "7c6edc4a",
   "metadata": {},
   "source": [
    "nombre_infected       668\n",
    "nombre_sain          2216\n",
    "nombre_exposed        443\n",
    "nombre_recovered    16673\n",
    "Name: 610, dtype: int64"
   ]
  },
  {
   "cell_type": "markdown",
   "id": "399ac822",
   "metadata": {},
   "source": [
    "nombre_infected       670\n",
    "nombre_sain          2230\n",
    "nombre_exposed        430\n",
    "nombre_recovered    16670\n",
    "Name: 611, dtype: int64"
   ]
  },
  {
   "cell_type": "markdown",
   "id": "3276260f",
   "metadata": {},
   "source": [
    "nombre_infected       685\n",
    "nombre_sain          2262\n",
    "nombre_exposed        404\n",
    "nombre_recovered    16649\n",
    "Name: 612, dtype: int64"
   ]
  },
  {
   "cell_type": "markdown",
   "id": "160559cb",
   "metadata": {},
   "source": [
    "nombre_infected       686\n",
    "nombre_sain          2246\n",
    "nombre_exposed        433\n",
    "nombre_recovered    16635\n",
    "Name: 613, dtype: int64"
   ]
  },
  {
   "cell_type": "markdown",
   "id": "55a5fa6f",
   "metadata": {},
   "source": [
    "nombre_infected       674\n",
    "nombre_sain          2286\n",
    "nombre_exposed        431\n",
    "nombre_recovered    16609\n",
    "Name: 614, dtype: int64"
   ]
  },
  {
   "cell_type": "markdown",
   "id": "8ff3bfd0",
   "metadata": {},
   "source": [
    "nombre_infected       682\n",
    "nombre_sain          2296\n",
    "nombre_exposed        438\n",
    "nombre_recovered    16584\n",
    "Name: 615, dtype: int64"
   ]
  },
  {
   "cell_type": "markdown",
   "id": "45d15a6a",
   "metadata": {},
   "source": [
    "nombre_infected       699\n",
    "nombre_sain          2331\n",
    "nombre_exposed        421\n",
    "nombre_recovered    16549\n",
    "Name: 616, dtype: int64"
   ]
  },
  {
   "cell_type": "markdown",
   "id": "3c468b7e",
   "metadata": {},
   "source": [
    "nombre_infected       691\n",
    "nombre_sain          2330\n",
    "nombre_exposed        453\n",
    "nombre_recovered    16526\n",
    "Name: 617, dtype: int64"
   ]
  },
  {
   "cell_type": "markdown",
   "id": "c7b276f3",
   "metadata": {},
   "source": [
    "nombre_infected       693\n",
    "nombre_sain          2346\n",
    "nombre_exposed        467\n",
    "nombre_recovered    16494\n",
    "Name: 618, dtype: int64"
   ]
  },
  {
   "cell_type": "markdown",
   "id": "2588891a",
   "metadata": {},
   "source": [
    "nombre_infected       702\n",
    "nombre_sain          2321\n",
    "nombre_exposed        492\n",
    "nombre_recovered    16485\n",
    "Name: 619, dtype: int64"
   ]
  },
  {
   "cell_type": "markdown",
   "id": "84b5202f",
   "metadata": {},
   "source": [
    "nombre_infected       700\n",
    "nombre_sain          2326\n",
    "nombre_exposed        504\n",
    "nombre_recovered    16470\n",
    "Name: 620, dtype: int64"
   ]
  },
  {
   "cell_type": "markdown",
   "id": "52a3497f",
   "metadata": {},
   "source": [
    "nombre_infected       741\n",
    "nombre_sain          2328\n",
    "nombre_exposed        489\n",
    "nombre_recovered    16442\n",
    "Name: 621, dtype: int64"
   ]
  },
  {
   "cell_type": "markdown",
   "id": "47310de4",
   "metadata": {},
   "source": [
    "nombre_infected       738\n",
    "nombre_sain          2343\n",
    "nombre_exposed        483\n",
    "nombre_recovered    16436\n",
    "Name: 622, dtype: int64"
   ]
  },
  {
   "cell_type": "markdown",
   "id": "5952a3bc",
   "metadata": {},
   "source": [
    "nombre_infected       731\n",
    "nombre_sain          2348\n",
    "nombre_exposed        509\n",
    "nombre_recovered    16412\n",
    "Name: 623, dtype: int64"
   ]
  },
  {
   "cell_type": "markdown",
   "id": "7ebb01c3",
   "metadata": {},
   "source": [
    "nombre_infected       734\n",
    "nombre_sain          2342\n",
    "nombre_exposed        505\n",
    "nombre_recovered    16419\n",
    "Name: 624, dtype: int64"
   ]
  },
  {
   "cell_type": "markdown",
   "id": "f20dfd95",
   "metadata": {},
   "source": [
    "nombre_infected       742\n",
    "nombre_sain          2349\n",
    "nombre_exposed        486\n",
    "nombre_recovered    16423\n",
    "Name: 625, dtype: int64"
   ]
  },
  {
   "cell_type": "markdown",
   "id": "3c4df113",
   "metadata": {},
   "source": [
    "nombre_infected       732\n",
    "nombre_sain          2376\n",
    "nombre_exposed        477\n",
    "nombre_recovered    16415\n",
    "Name: 626, dtype: int64"
   ]
  },
  {
   "cell_type": "markdown",
   "id": "6945e714",
   "metadata": {},
   "source": [
    "nombre_infected       740\n",
    "nombre_sain          2383\n",
    "nombre_exposed        479\n",
    "nombre_recovered    16398\n",
    "Name: 627, dtype: int64"
   ]
  },
  {
   "cell_type": "markdown",
   "id": "a83af8fb",
   "metadata": {},
   "source": [
    "nombre_infected       755\n",
    "nombre_sain          2385\n",
    "nombre_exposed        484\n",
    "nombre_recovered    16376\n",
    "Name: 628, dtype: int64"
   ]
  },
  {
   "cell_type": "markdown",
   "id": "b4890894",
   "metadata": {},
   "source": [
    "nombre_infected       752\n",
    "nombre_sain          2377\n",
    "nombre_exposed        491\n",
    "nombre_recovered    16380\n",
    "Name: 629, dtype: int64"
   ]
  },
  {
   "cell_type": "markdown",
   "id": "4c9e49fc",
   "metadata": {},
   "source": [
    "nombre_infected       771\n",
    "nombre_sain          2347\n",
    "nombre_exposed        499\n",
    "nombre_recovered    16383\n",
    "Name: 630, dtype: int64"
   ]
  },
  {
   "cell_type": "markdown",
   "id": "3dc7b752",
   "metadata": {},
   "source": [
    "nombre_infected       769\n",
    "nombre_sain          2331\n",
    "nombre_exposed        525\n",
    "nombre_recovered    16375\n",
    "Name: 631, dtype: int64"
   ]
  },
  {
   "cell_type": "markdown",
   "id": "fd79d02c",
   "metadata": {},
   "source": [
    "nombre_infected       803\n",
    "nombre_sain          2351\n",
    "nombre_exposed        491\n",
    "nombre_recovered    16355\n",
    "Name: 632, dtype: int64"
   ]
  },
  {
   "cell_type": "markdown",
   "id": "c2b48739",
   "metadata": {},
   "source": [
    "nombre_infected       805\n",
    "nombre_sain          2359\n",
    "nombre_exposed        500\n",
    "nombre_recovered    16336\n",
    "Name: 633, dtype: int64"
   ]
  },
  {
   "cell_type": "markdown",
   "id": "3f129b9b",
   "metadata": {},
   "source": [
    "nombre_infected       813\n",
    "nombre_sain          2355\n",
    "nombre_exposed        506\n",
    "nombre_recovered    16326\n",
    "Name: 634, dtype: int64"
   ]
  },
  {
   "cell_type": "markdown",
   "id": "1e5e9316",
   "metadata": {},
   "source": [
    "nombre_infected       820\n",
    "nombre_sain          2367\n",
    "nombre_exposed        498\n",
    "nombre_recovered    16315\n",
    "Name: 635, dtype: int64"
   ]
  },
  {
   "cell_type": "markdown",
   "id": "3b5dc517",
   "metadata": {},
   "source": [
    "nombre_infected       811\n",
    "nombre_sain          2378\n",
    "nombre_exposed        508\n",
    "nombre_recovered    16303\n",
    "Name: 636, dtype: int64"
   ]
  },
  {
   "cell_type": "markdown",
   "id": "6e01fc74",
   "metadata": {},
   "source": [
    "nombre_infected       836\n",
    "nombre_sain          2381\n",
    "nombre_exposed        480\n",
    "nombre_recovered    16303\n",
    "Name: 637, dtype: int64"
   ]
  },
  {
   "cell_type": "markdown",
   "id": "aa8d027a",
   "metadata": {},
   "source": [
    "nombre_infected       817\n",
    "nombre_sain          2382\n",
    "nombre_exposed        483\n",
    "nombre_recovered    16318\n",
    "Name: 638, dtype: int64"
   ]
  },
  {
   "cell_type": "markdown",
   "id": "4948e029",
   "metadata": {},
   "source": [
    "nombre_infected       813\n",
    "nombre_sain          2358\n",
    "nombre_exposed        491\n",
    "nombre_recovered    16338\n",
    "Name: 639, dtype: int64"
   ]
  },
  {
   "cell_type": "markdown",
   "id": "0133da98",
   "metadata": {},
   "source": [
    "nombre_infected       815\n",
    "nombre_sain          2357\n",
    "nombre_exposed        501\n",
    "nombre_recovered    16327\n",
    "Name: 640, dtype: int64"
   ]
  },
  {
   "cell_type": "markdown",
   "id": "5e791167",
   "metadata": {},
   "source": [
    "nombre_infected       812\n",
    "nombre_sain          2337\n",
    "nombre_exposed        511\n",
    "nombre_recovered    16340\n",
    "Name: 641, dtype: int64"
   ]
  },
  {
   "cell_type": "markdown",
   "id": "9f43a5eb",
   "metadata": {},
   "source": [
    "nombre_infected       826\n",
    "nombre_sain          2339\n",
    "nombre_exposed        483\n",
    "nombre_recovered    16352\n",
    "Name: 642, dtype: int64"
   ]
  },
  {
   "cell_type": "markdown",
   "id": "3bead8d4",
   "metadata": {},
   "source": [
    "nombre_infected       807\n",
    "nombre_sain          2337\n",
    "nombre_exposed        504\n",
    "nombre_recovered    16352\n",
    "Name: 643, dtype: int64"
   ]
  },
  {
   "cell_type": "markdown",
   "id": "93f3fab2",
   "metadata": {},
   "source": [
    "nombre_infected       803\n",
    "nombre_sain          2344\n",
    "nombre_exposed        511\n",
    "nombre_recovered    16342\n",
    "Name: 644, dtype: int64"
   ]
  },
  {
   "cell_type": "markdown",
   "id": "366fd022",
   "metadata": {},
   "source": [
    "nombre_infected       804\n",
    "nombre_sain          2359\n",
    "nombre_exposed        516\n",
    "nombre_recovered    16321\n",
    "Name: 645, dtype: int64"
   ]
  },
  {
   "cell_type": "markdown",
   "id": "c3a70e5c",
   "metadata": {},
   "source": [
    "nombre_infected       794\n",
    "nombre_sain          2341\n",
    "nombre_exposed        534\n",
    "nombre_recovered    16331\n",
    "Name: 646, dtype: int64"
   ]
  },
  {
   "cell_type": "markdown",
   "id": "353ddff6",
   "metadata": {},
   "source": [
    "nombre_infected       803\n",
    "nombre_sain          2336\n",
    "nombre_exposed        538\n",
    "nombre_recovered    16323\n",
    "Name: 647, dtype: int64"
   ]
  },
  {
   "cell_type": "markdown",
   "id": "4c3bc88c",
   "metadata": {},
   "source": [
    "nombre_infected       801\n",
    "nombre_sain          2326\n",
    "nombre_exposed        523\n",
    "nombre_recovered    16350\n",
    "Name: 648, dtype: int64"
   ]
  },
  {
   "cell_type": "markdown",
   "id": "b4c209fa",
   "metadata": {},
   "source": [
    "nombre_infected       804\n",
    "nombre_sain          2352\n",
    "nombre_exposed        513\n",
    "nombre_recovered    16331\n",
    "Name: 649, dtype: int64"
   ]
  },
  {
   "cell_type": "markdown",
   "id": "c448061d",
   "metadata": {},
   "source": [
    "nombre_infected       816\n",
    "nombre_sain          2360\n",
    "nombre_exposed        512\n",
    "nombre_recovered    16312\n",
    "Name: 650, dtype: int64"
   ]
  },
  {
   "cell_type": "markdown",
   "id": "cd248b93",
   "metadata": {},
   "source": [
    "nombre_infected       818\n",
    "nombre_sain          2378\n",
    "nombre_exposed        518\n",
    "nombre_recovered    16286\n",
    "Name: 651, dtype: int64"
   ]
  },
  {
   "cell_type": "markdown",
   "id": "3b7ffed1",
   "metadata": {},
   "source": [
    "nombre_infected       827\n",
    "nombre_sain          2367\n",
    "nombre_exposed        527\n",
    "nombre_recovered    16279\n",
    "Name: 652, dtype: int64"
   ]
  },
  {
   "cell_type": "markdown",
   "id": "36fd4889",
   "metadata": {},
   "source": [
    "nombre_infected       844\n",
    "nombre_sain          2375\n",
    "nombre_exposed        537\n",
    "nombre_recovered    16244\n",
    "Name: 653, dtype: int64"
   ]
  },
  {
   "cell_type": "markdown",
   "id": "ac8ba57c",
   "metadata": {},
   "source": [
    "nombre_infected       834\n",
    "nombre_sain          2385\n",
    "nombre_exposed        546\n",
    "nombre_recovered    16235\n",
    "Name: 654, dtype: int64"
   ]
  },
  {
   "cell_type": "markdown",
   "id": "c611e70b",
   "metadata": {},
   "source": [
    "nombre_infected       848\n",
    "nombre_sain          2388\n",
    "nombre_exposed        544\n",
    "nombre_recovered    16220\n",
    "Name: 655, dtype: int64"
   ]
  },
  {
   "cell_type": "markdown",
   "id": "8b8dbfca",
   "metadata": {},
   "source": [
    "nombre_infected       851\n",
    "nombre_sain          2365\n",
    "nombre_exposed        528\n",
    "nombre_recovered    16256\n",
    "Name: 656, dtype: int64"
   ]
  },
  {
   "cell_type": "markdown",
   "id": "3bf40b0b",
   "metadata": {},
   "source": [
    "nombre_infected       839\n",
    "nombre_sain          2354\n",
    "nombre_exposed        541\n",
    "nombre_recovered    16266\n",
    "Name: 657, dtype: int64"
   ]
  },
  {
   "cell_type": "markdown",
   "id": "dd4277be",
   "metadata": {},
   "source": [
    "nombre_infected       834\n",
    "nombre_sain          2361\n",
    "nombre_exposed        541\n",
    "nombre_recovered    16264\n",
    "Name: 658, dtype: int64"
   ]
  },
  {
   "cell_type": "markdown",
   "id": "600b00e8",
   "metadata": {},
   "source": [
    "nombre_infected       818\n",
    "nombre_sain          2359\n",
    "nombre_exposed        557\n",
    "nombre_recovered    16266\n",
    "Name: 659, dtype: int64"
   ]
  },
  {
   "cell_type": "markdown",
   "id": "46a979c1",
   "metadata": {},
   "source": [
    "nombre_infected       837\n",
    "nombre_sain          2346\n",
    "nombre_exposed        549\n",
    "nombre_recovered    16268\n",
    "Name: 660, dtype: int64"
   ]
  },
  {
   "cell_type": "markdown",
   "id": "390d26eb",
   "metadata": {},
   "source": [
    "nombre_infected       815\n",
    "nombre_sain          2338\n",
    "nombre_exposed        553\n",
    "nombre_recovered    16294\n",
    "Name: 661, dtype: int64"
   ]
  },
  {
   "cell_type": "markdown",
   "id": "5c88ef3c",
   "metadata": {},
   "source": [
    "nombre_infected       820\n",
    "nombre_sain          2353\n",
    "nombre_exposed        546\n",
    "nombre_recovered    16281\n",
    "Name: 662, dtype: int64"
   ]
  },
  {
   "cell_type": "markdown",
   "id": "41f5e6b9",
   "metadata": {},
   "source": [
    "nombre_infected       846\n",
    "nombre_sain          2352\n",
    "nombre_exposed        518\n",
    "nombre_recovered    16284\n",
    "Name: 663, dtype: int64"
   ]
  },
  {
   "cell_type": "markdown",
   "id": "ed8a1c13",
   "metadata": {},
   "source": [
    "nombre_infected       823\n",
    "nombre_sain          2351\n",
    "nombre_exposed        528\n",
    "nombre_recovered    16298\n",
    "Name: 664, dtype: int64"
   ]
  },
  {
   "cell_type": "markdown",
   "id": "618807bb",
   "metadata": {},
   "source": [
    "nombre_infected       809\n",
    "nombre_sain          2383\n",
    "nombre_exposed        510\n",
    "nombre_recovered    16298\n",
    "Name: 665, dtype: int64"
   ]
  },
  {
   "cell_type": "markdown",
   "id": "6baedde6",
   "metadata": {},
   "source": [
    "nombre_infected       798\n",
    "nombre_sain          2390\n",
    "nombre_exposed        508\n",
    "nombre_recovered    16304\n",
    "Name: 666, dtype: int64"
   ]
  },
  {
   "cell_type": "markdown",
   "id": "0a8fbf6a",
   "metadata": {},
   "source": [
    "nombre_infected       796\n",
    "nombre_sain          2371\n",
    "nombre_exposed        521\n",
    "nombre_recovered    16312\n",
    "Name: 667, dtype: int64"
   ]
  },
  {
   "cell_type": "markdown",
   "id": "692eec99",
   "metadata": {},
   "source": [
    "nombre_infected       791\n",
    "nombre_sain          2365\n",
    "nombre_exposed        531\n",
    "nombre_recovered    16313\n",
    "Name: 668, dtype: int64"
   ]
  },
  {
   "cell_type": "markdown",
   "id": "81d234c4",
   "metadata": {},
   "source": [
    "nombre_infected       774\n",
    "nombre_sain          2360\n",
    "nombre_exposed        538\n",
    "nombre_recovered    16328\n",
    "Name: 669, dtype: int64"
   ]
  },
  {
   "cell_type": "markdown",
   "id": "1cd0f418",
   "metadata": {},
   "source": [
    "nombre_infected       779\n",
    "nombre_sain          2335\n",
    "nombre_exposed        529\n",
    "nombre_recovered    16357\n",
    "Name: 670, dtype: int64"
   ]
  },
  {
   "cell_type": "markdown",
   "id": "9e6f133f",
   "metadata": {},
   "source": [
    "nombre_infected       776\n",
    "nombre_sain          2320\n",
    "nombre_exposed        533\n",
    "nombre_recovered    16371\n",
    "Name: 671, dtype: int64"
   ]
  },
  {
   "cell_type": "markdown",
   "id": "eeb52152",
   "metadata": {},
   "source": [
    "nombre_infected       799\n",
    "nombre_sain          2320\n",
    "nombre_exposed        507\n",
    "nombre_recovered    16374\n",
    "Name: 672, dtype: int64"
   ]
  },
  {
   "cell_type": "markdown",
   "id": "6bc0c5ab",
   "metadata": {},
   "source": [
    "nombre_infected       821\n",
    "nombre_sain          2317\n",
    "nombre_exposed        501\n",
    "nombre_recovered    16361\n",
    "Name: 673, dtype: int64"
   ]
  },
  {
   "cell_type": "markdown",
   "id": "f7b6389b",
   "metadata": {},
   "source": [
    "nombre_infected       811\n",
    "nombre_sain          2300\n",
    "nombre_exposed        511\n",
    "nombre_recovered    16378\n",
    "Name: 674, dtype: int64"
   ]
  },
  {
   "cell_type": "markdown",
   "id": "5b3857ab",
   "metadata": {},
   "source": [
    "nombre_infected       828\n",
    "nombre_sain          2278\n",
    "nombre_exposed        498\n",
    "nombre_recovered    16396\n",
    "Name: 675, dtype: int64"
   ]
  },
  {
   "cell_type": "markdown",
   "id": "38fbc745",
   "metadata": {},
   "source": [
    "nombre_infected       807\n",
    "nombre_sain          2234\n",
    "nombre_exposed        529\n",
    "nombre_recovered    16430\n",
    "Name: 676, dtype: int64"
   ]
  },
  {
   "cell_type": "markdown",
   "id": "c356538c",
   "metadata": {},
   "source": [
    "nombre_infected       808\n",
    "nombre_sain          2199\n",
    "nombre_exposed        548\n",
    "nombre_recovered    16445\n",
    "Name: 677, dtype: int64"
   ]
  },
  {
   "cell_type": "markdown",
   "id": "0e974282",
   "metadata": {},
   "source": [
    "nombre_infected       817\n",
    "nombre_sain          2196\n",
    "nombre_exposed        530\n",
    "nombre_recovered    16457\n",
    "Name: 678, dtype: int64"
   ]
  },
  {
   "cell_type": "markdown",
   "id": "919b709d",
   "metadata": {},
   "source": [
    "nombre_infected       848\n",
    "nombre_sain          2172\n",
    "nombre_exposed        516\n",
    "nombre_recovered    16464\n",
    "Name: 679, dtype: int64"
   ]
  },
  {
   "cell_type": "markdown",
   "id": "07928a8e",
   "metadata": {},
   "source": [
    "nombre_infected       828\n",
    "nombre_sain          2152\n",
    "nombre_exposed        521\n",
    "nombre_recovered    16499\n",
    "Name: 680, dtype: int64"
   ]
  },
  {
   "cell_type": "markdown",
   "id": "12f60e38",
   "metadata": {},
   "source": [
    "nombre_infected       829\n",
    "nombre_sain          2139\n",
    "nombre_exposed        506\n",
    "nombre_recovered    16526\n",
    "Name: 681, dtype: int64"
   ]
  },
  {
   "cell_type": "markdown",
   "id": "b4096090",
   "metadata": {},
   "source": [
    "nombre_infected       809\n",
    "nombre_sain          2165\n",
    "nombre_exposed        484\n",
    "nombre_recovered    16542\n",
    "Name: 682, dtype: int64"
   ]
  },
  {
   "cell_type": "markdown",
   "id": "a20d9721",
   "metadata": {},
   "source": [
    "nombre_infected       790\n",
    "nombre_sain          2180\n",
    "nombre_exposed        480\n",
    "nombre_recovered    16550\n",
    "Name: 683, dtype: int64"
   ]
  },
  {
   "cell_type": "markdown",
   "id": "c81aea2f",
   "metadata": {},
   "source": [
    "nombre_infected       780\n",
    "nombre_sain          2161\n",
    "nombre_exposed        480\n",
    "nombre_recovered    16579\n",
    "Name: 684, dtype: int64"
   ]
  },
  {
   "cell_type": "markdown",
   "id": "499ac518",
   "metadata": {},
   "source": [
    "nombre_infected       789\n",
    "nombre_sain          2155\n",
    "nombre_exposed        455\n",
    "nombre_recovered    16601\n",
    "Name: 685, dtype: int64"
   ]
  },
  {
   "cell_type": "markdown",
   "id": "a209c410",
   "metadata": {},
   "source": [
    "nombre_infected       765\n",
    "nombre_sain          2163\n",
    "nombre_exposed        474\n",
    "nombre_recovered    16598\n",
    "Name: 686, dtype: int64"
   ]
  },
  {
   "cell_type": "markdown",
   "id": "37629ccf",
   "metadata": {},
   "source": [
    "nombre_infected       754\n",
    "nombre_sain          2164\n",
    "nombre_exposed        468\n",
    "nombre_recovered    16614\n",
    "Name: 687, dtype: int64"
   ]
  },
  {
   "cell_type": "markdown",
   "id": "f5a59c00",
   "metadata": {},
   "source": [
    "nombre_infected       769\n",
    "nombre_sain          2169\n",
    "nombre_exposed        446\n",
    "nombre_recovered    16616\n",
    "Name: 688, dtype: int64"
   ]
  },
  {
   "cell_type": "markdown",
   "id": "7685cf6f",
   "metadata": {},
   "source": [
    "nombre_infected       776\n",
    "nombre_sain          2144\n",
    "nombre_exposed        448\n",
    "nombre_recovered    16632\n",
    "Name: 689, dtype: int64"
   ]
  },
  {
   "cell_type": "markdown",
   "id": "4b091c55",
   "metadata": {},
   "source": [
    "nombre_infected       762\n",
    "nombre_sain          2151\n",
    "nombre_exposed        450\n",
    "nombre_recovered    16637\n",
    "Name: 690, dtype: int64"
   ]
  },
  {
   "cell_type": "markdown",
   "id": "527188ec",
   "metadata": {},
   "source": [
    "nombre_infected       755\n",
    "nombre_sain          2157\n",
    "nombre_exposed        442\n",
    "nombre_recovered    16646\n",
    "Name: 691, dtype: int64"
   ]
  },
  {
   "cell_type": "markdown",
   "id": "61c28a5d",
   "metadata": {},
   "source": [
    "nombre_infected       761\n",
    "nombre_sain          2162\n",
    "nombre_exposed        434\n",
    "nombre_recovered    16643\n",
    "Name: 692, dtype: int64"
   ]
  },
  {
   "cell_type": "markdown",
   "id": "da160cc3",
   "metadata": {},
   "source": [
    "nombre_infected       746\n",
    "nombre_sain          2169\n",
    "nombre_exposed        431\n",
    "nombre_recovered    16654\n",
    "Name: 693, dtype: int64"
   ]
  },
  {
   "cell_type": "markdown",
   "id": "d0596471",
   "metadata": {},
   "source": [
    "nombre_infected       731\n",
    "nombre_sain          2169\n",
    "nombre_exposed        435\n",
    "nombre_recovered    16665\n",
    "Name: 694, dtype: int64"
   ]
  },
  {
   "cell_type": "markdown",
   "id": "2fa1cce5",
   "metadata": {},
   "source": [
    "nombre_infected       732\n",
    "nombre_sain          2157\n",
    "nombre_exposed        428\n",
    "nombre_recovered    16683\n",
    "Name: 695, dtype: int64"
   ]
  },
  {
   "cell_type": "markdown",
   "id": "54e4660a",
   "metadata": {},
   "source": [
    "nombre_infected       725\n",
    "nombre_sain          2177\n",
    "nombre_exposed        425\n",
    "nombre_recovered    16673\n",
    "Name: 696, dtype: int64"
   ]
  },
  {
   "cell_type": "markdown",
   "id": "33cd2539",
   "metadata": {},
   "source": [
    "nombre_infected       715\n",
    "nombre_sain          2194\n",
    "nombre_exposed        399\n",
    "nombre_recovered    16692\n",
    "Name: 697, dtype: int64"
   ]
  },
  {
   "cell_type": "markdown",
   "id": "54089188",
   "metadata": {},
   "source": [
    "nombre_infected       709\n",
    "nombre_sain          2191\n",
    "nombre_exposed        400\n",
    "nombre_recovered    16700\n",
    "Name: 698, dtype: int64"
   ]
  },
  {
   "cell_type": "markdown",
   "id": "9c8d13e7",
   "metadata": {},
   "source": [
    "nombre_infected       704\n",
    "nombre_sain          2174\n",
    "nombre_exposed        408\n",
    "nombre_recovered    16714\n",
    "Name: 699, dtype: int64"
   ]
  },
  {
   "cell_type": "markdown",
   "id": "f2828cd8",
   "metadata": {},
   "source": [
    "nombre_infected       692\n",
    "nombre_sain          2176\n",
    "nombre_exposed        407\n",
    "nombre_recovered    16725\n",
    "Name: 700, dtype: int64"
   ]
  },
  {
   "cell_type": "markdown",
   "id": "740bdb1d",
   "metadata": {},
   "source": [
    "nombre_infected       674\n",
    "nombre_sain          2190\n",
    "nombre_exposed        404\n",
    "nombre_recovered    16732\n",
    "Name: 701, dtype: int64"
   ]
  },
  {
   "cell_type": "markdown",
   "id": "73311e82",
   "metadata": {},
   "source": [
    "nombre_infected       654\n",
    "nombre_sain          2202\n",
    "nombre_exposed        403\n",
    "nombre_recovered    16741\n",
    "Name: 702, dtype: int64"
   ]
  },
  {
   "cell_type": "markdown",
   "id": "348daa15",
   "metadata": {},
   "source": [
    "nombre_infected       653\n",
    "nombre_sain          2215\n",
    "nombre_exposed        399\n",
    "nombre_recovered    16733\n",
    "Name: 703, dtype: int64"
   ]
  },
  {
   "cell_type": "markdown",
   "id": "93319832",
   "metadata": {},
   "source": [
    "nombre_infected       653\n",
    "nombre_sain          2230\n",
    "nombre_exposed        393\n",
    "nombre_recovered    16724\n",
    "Name: 704, dtype: int64"
   ]
  },
  {
   "cell_type": "markdown",
   "id": "2bc6134b",
   "metadata": {},
   "source": [
    "nombre_infected       646\n",
    "nombre_sain          2250\n",
    "nombre_exposed        404\n",
    "nombre_recovered    16700\n",
    "Name: 705, dtype: int64"
   ]
  },
  {
   "cell_type": "markdown",
   "id": "20f0c1c5",
   "metadata": {},
   "source": [
    "nombre_infected       647\n",
    "nombre_sain          2268\n",
    "nombre_exposed        435\n",
    "nombre_recovered    16650\n",
    "Name: 706, dtype: int64"
   ]
  },
  {
   "cell_type": "markdown",
   "id": "85bf5712",
   "metadata": {},
   "source": [
    "nombre_infected       654\n",
    "nombre_sain          2281\n",
    "nombre_exposed        437\n",
    "nombre_recovered    16628\n",
    "Name: 707, dtype: int64"
   ]
  },
  {
   "cell_type": "markdown",
   "id": "5e5c627e",
   "metadata": {},
   "source": [
    "nombre_infected       662\n",
    "nombre_sain          2295\n",
    "nombre_exposed        424\n",
    "nombre_recovered    16619\n",
    "Name: 708, dtype: int64"
   ]
  },
  {
   "cell_type": "markdown",
   "id": "52647cf9",
   "metadata": {},
   "source": [
    "nombre_infected       646\n",
    "nombre_sain          2325\n",
    "nombre_exposed        434\n",
    "nombre_recovered    16595\n",
    "Name: 709, dtype: int64"
   ]
  },
  {
   "cell_type": "markdown",
   "id": "29279acc",
   "metadata": {},
   "source": [
    "nombre_infected       664\n",
    "nombre_sain          2312\n",
    "nombre_exposed        439\n",
    "nombre_recovered    16585\n",
    "Name: 710, dtype: int64"
   ]
  },
  {
   "cell_type": "markdown",
   "id": "06fe52e3",
   "metadata": {},
   "source": [
    "nombre_infected       672\n",
    "nombre_sain          2349\n",
    "nombre_exposed        418\n",
    "nombre_recovered    16561\n",
    "Name: 711, dtype: int64"
   ]
  },
  {
   "cell_type": "markdown",
   "id": "73886d3e",
   "metadata": {},
   "source": [
    "nombre_infected       673\n",
    "nombre_sain          2362\n",
    "nombre_exposed        426\n",
    "nombre_recovered    16539\n",
    "Name: 712, dtype: int64"
   ]
  },
  {
   "cell_type": "markdown",
   "id": "775b4440",
   "metadata": {},
   "source": [
    "nombre_infected       682\n",
    "nombre_sain          2387\n",
    "nombre_exposed        431\n",
    "nombre_recovered    16500\n",
    "Name: 713, dtype: int64"
   ]
  },
  {
   "cell_type": "markdown",
   "id": "2f70d8c3",
   "metadata": {},
   "source": [
    "nombre_infected       664\n",
    "nombre_sain          2404\n",
    "nombre_exposed        440\n",
    "nombre_recovered    16492\n",
    "Name: 714, dtype: int64"
   ]
  },
  {
   "cell_type": "markdown",
   "id": "d8b5ed72",
   "metadata": {},
   "source": [
    "nombre_infected       677\n",
    "nombre_sain          2413\n",
    "nombre_exposed        430\n",
    "nombre_recovered    16480\n",
    "Name: 715, dtype: int64"
   ]
  },
  {
   "cell_type": "markdown",
   "id": "a66415b3",
   "metadata": {},
   "source": [
    "nombre_infected       677\n",
    "nombre_sain          2412\n",
    "nombre_exposed        439\n",
    "nombre_recovered    16472\n",
    "Name: 716, dtype: int64"
   ]
  },
  {
   "cell_type": "markdown",
   "id": "dc460667",
   "metadata": {},
   "source": [
    "nombre_infected       691\n",
    "nombre_sain          2417\n",
    "nombre_exposed        436\n",
    "nombre_recovered    16456\n",
    "Name: 717, dtype: int64"
   ]
  },
  {
   "cell_type": "markdown",
   "id": "d858b1cb",
   "metadata": {},
   "source": [
    "nombre_infected       686\n",
    "nombre_sain          2411\n",
    "nombre_exposed        441\n",
    "nombre_recovered    16462\n",
    "Name: 718, dtype: int64"
   ]
  },
  {
   "cell_type": "markdown",
   "id": "be3417f8",
   "metadata": {},
   "source": [
    "nombre_infected       689\n",
    "nombre_sain          2407\n",
    "nombre_exposed        447\n",
    "nombre_recovered    16457\n",
    "Name: 719, dtype: int64"
   ]
  },
  {
   "cell_type": "markdown",
   "id": "973d5730",
   "metadata": {},
   "source": [
    "nombre_infected       677\n",
    "nombre_sain          2417\n",
    "nombre_exposed        452\n",
    "nombre_recovered    16454\n",
    "Name: 720, dtype: int64"
   ]
  },
  {
   "cell_type": "markdown",
   "id": "eed4f7cd",
   "metadata": {},
   "source": [
    "nombre_infected       678\n",
    "nombre_sain          2402\n",
    "nombre_exposed        468\n",
    "nombre_recovered    16452\n",
    "Name: 721, dtype: int64"
   ]
  },
  {
   "cell_type": "markdown",
   "id": "b6a9ba4d",
   "metadata": {},
   "source": [
    "nombre_infected       665\n",
    "nombre_sain          2384\n",
    "nombre_exposed        471\n",
    "nombre_recovered    16480\n",
    "Name: 722, dtype: int64"
   ]
  },
  {
   "cell_type": "markdown",
   "id": "de3232d0",
   "metadata": {},
   "source": [
    "nombre_infected       669\n",
    "nombre_sain          2394\n",
    "nombre_exposed        470\n",
    "nombre_recovered    16467\n",
    "Name: 723, dtype: int64"
   ]
  },
  {
   "cell_type": "markdown",
   "id": "7609612b",
   "metadata": {},
   "source": [
    "nombre_infected       686\n",
    "nombre_sain          2395\n",
    "nombre_exposed        458\n",
    "nombre_recovered    16461\n",
    "Name: 724, dtype: int64"
   ]
  },
  {
   "cell_type": "markdown",
   "id": "b0db0b14",
   "metadata": {},
   "source": [
    "nombre_infected       709\n",
    "nombre_sain          2404\n",
    "nombre_exposed        434\n",
    "nombre_recovered    16453\n",
    "Name: 725, dtype: int64"
   ]
  },
  {
   "cell_type": "markdown",
   "id": "4b9ad444",
   "metadata": {},
   "source": [
    "nombre_infected       732\n",
    "nombre_sain          2393\n",
    "nombre_exposed        456\n",
    "nombre_recovered    16419\n",
    "Name: 726, dtype: int64"
   ]
  },
  {
   "cell_type": "markdown",
   "id": "f952b66c",
   "metadata": {},
   "source": [
    "nombre_infected       735\n",
    "nombre_sain          2393\n",
    "nombre_exposed        466\n",
    "nombre_recovered    16406\n",
    "Name: 727, dtype: int64"
   ]
  },
  {
   "cell_type": "markdown",
   "id": "5234cab3",
   "metadata": {},
   "source": [
    "nombre_infected       733\n",
    "nombre_sain          2397\n",
    "nombre_exposed        456\n",
    "nombre_recovered    16414\n",
    "Name: 728, dtype: int64"
   ]
  },
  {
   "cell_type": "markdown",
   "id": "a4cd8217",
   "metadata": {},
   "source": [
    "nombre_infected       726\n",
    "nombre_sain          2392\n",
    "nombre_exposed        460\n",
    "nombre_recovered    16422\n",
    "Name: 729, dtype: int64"
   ]
  },
  {
   "cell_type": "markdown",
   "id": "32cf63e2",
   "metadata": {},
   "source": [
    "nombre_infected       730\n",
    "nombre_sain          2396\n",
    "nombre_exposed        479\n",
    "nombre_recovered    16395\n",
    "Name: 730, dtype: int64"
   ]
  }
 ],
 "metadata": {},
 "nbformat": 4,
 "nbformat_minor": 5
}
