{
 "cells": [
  {
   "cell_type": "markdown",
   "id": "45cf0a16",
   "metadata": {},
   "source": [
    "nombre_infected        20\n",
    "nombre_sain         19980\n",
    "nombre_exposed          0\n",
    "nombre_recovered        0\n",
    "Name: 0, dtype: int64"
   ]
  },
  {
   "cell_type": "markdown",
   "id": "d5de6e90",
   "metadata": {},
   "source": [
    "nombre_infected        20\n",
    "nombre_sain         19969\n",
    "nombre_exposed         11\n",
    "nombre_recovered        0\n",
    "Name: 1, dtype: int64"
   ]
  },
  {
   "cell_type": "markdown",
   "id": "9b6a70e4",
   "metadata": {},
   "source": [
    "nombre_infected        20\n",
    "nombre_sain         19950\n",
    "nombre_exposed         30\n",
    "nombre_recovered        0\n",
    "Name: 2, dtype: int64"
   ]
  },
  {
   "cell_type": "markdown",
   "id": "c5efafe1",
   "metadata": {},
   "source": [
    "nombre_infected        23\n",
    "nombre_sain         19928\n",
    "nombre_exposed         49\n",
    "nombre_recovered        0\n",
    "Name: 3, dtype: int64"
   ]
  },
  {
   "cell_type": "markdown",
   "id": "e8bcf786",
   "metadata": {},
   "source": [
    "nombre_infected        17\n",
    "nombre_sain         19902\n",
    "nombre_exposed         69\n",
    "nombre_recovered       12\n",
    "Name: 4, dtype: int64"
   ]
  },
  {
   "cell_type": "markdown",
   "id": "ca93504f",
   "metadata": {},
   "source": [
    "nombre_infected        24\n",
    "nombre_sain         19882\n",
    "nombre_exposed         82\n",
    "nombre_recovered       12\n",
    "Name: 5, dtype: int64"
   ]
  },
  {
   "cell_type": "markdown",
   "id": "de7e152e",
   "metadata": {},
   "source": [
    "nombre_infected        35\n",
    "nombre_sain         19850\n",
    "nombre_exposed        103\n",
    "nombre_recovered       12\n",
    "Name: 6, dtype: int64"
   ]
  },
  {
   "cell_type": "markdown",
   "id": "b96d3287",
   "metadata": {},
   "source": [
    "nombre_infected        57\n",
    "nombre_sain         19786\n",
    "nombre_exposed        142\n",
    "nombre_recovered       15\n",
    "Name: 7, dtype: int64"
   ]
  },
  {
   "cell_type": "markdown",
   "id": "a9c24bee",
   "metadata": {},
   "source": [
    "nombre_infected        76\n",
    "nombre_sain         19690\n",
    "nombre_exposed        215\n",
    "nombre_recovered       19\n",
    "Name: 8, dtype: int64"
   ]
  },
  {
   "cell_type": "markdown",
   "id": "6ca2ca1b",
   "metadata": {},
   "source": [
    "nombre_infected       107\n",
    "nombre_sain         19576\n",
    "nombre_exposed        292\n",
    "nombre_recovered       25\n",
    "Name: 9, dtype: int64"
   ]
  },
  {
   "cell_type": "markdown",
   "id": "71a57c31",
   "metadata": {},
   "source": [
    "nombre_infected       148\n",
    "nombre_sain         19425\n",
    "nombre_exposed        394\n",
    "nombre_recovered       33\n",
    "Name: 10, dtype: int64"
   ]
  },
  {
   "cell_type": "markdown",
   "id": "99d5ffc8",
   "metadata": {},
   "source": [
    "nombre_infected       208\n",
    "nombre_sain         19197\n",
    "nombre_exposed        550\n",
    "nombre_recovered       45\n",
    "Name: 11, dtype: int64"
   ]
  },
  {
   "cell_type": "markdown",
   "id": "7118371e",
   "metadata": {},
   "source": [
    "nombre_infected       275\n",
    "nombre_sain         18927\n",
    "nombre_exposed        740\n",
    "nombre_recovered       58\n",
    "Name: 12, dtype: int64"
   ]
  },
  {
   "cell_type": "markdown",
   "id": "a941a9a0",
   "metadata": {},
   "source": [
    "nombre_infected       360\n",
    "nombre_sain         18544\n",
    "nombre_exposed       1008\n",
    "nombre_recovered       88\n",
    "Name: 13, dtype: int64"
   ]
  },
  {
   "cell_type": "markdown",
   "id": "89dfcdb5",
   "metadata": {},
   "source": [
    "nombre_infected       497\n",
    "nombre_sain         18047\n",
    "nombre_exposed       1331\n",
    "nombre_recovered      125\n",
    "Name: 14, dtype: int64"
   ]
  },
  {
   "cell_type": "markdown",
   "id": "a1287996",
   "metadata": {},
   "source": [
    "nombre_infected       679\n",
    "nombre_sain         17423\n",
    "nombre_exposed       1723\n",
    "nombre_recovered      175\n",
    "Name: 15, dtype: int64"
   ]
  },
  {
   "cell_type": "markdown",
   "id": "5ebdcfd7",
   "metadata": {},
   "source": [
    "nombre_infected       922\n",
    "nombre_sain         16587\n",
    "nombre_exposed       2267\n",
    "nombre_recovered      224\n",
    "Name: 16, dtype: int64"
   ]
  },
  {
   "cell_type": "markdown",
   "id": "dbc10fe3",
   "metadata": {},
   "source": [
    "nombre_infected      1239\n",
    "nombre_sain         15523\n",
    "nombre_exposed       2934\n",
    "nombre_recovered      304\n",
    "Name: 17, dtype: int64"
   ]
  },
  {
   "cell_type": "markdown",
   "id": "ce0b8b3f",
   "metadata": {},
   "source": [
    "nombre_infected      1600\n",
    "nombre_sain         14276\n",
    "nombre_exposed       3715\n",
    "nombre_recovered      409\n",
    "Name: 18, dtype: int64"
   ]
  },
  {
   "cell_type": "markdown",
   "id": "abf16487",
   "metadata": {},
   "source": [
    "nombre_infected      2074\n",
    "nombre_sain         12831\n",
    "nombre_exposed       4542\n",
    "nombre_recovered      553\n",
    "Name: 19, dtype: int64"
   ]
  },
  {
   "cell_type": "markdown",
   "id": "874d6bcf",
   "metadata": {},
   "source": [
    "nombre_infected      2712\n",
    "nombre_sain         11130\n",
    "nombre_exposed       5408\n",
    "nombre_recovered      750\n",
    "Name: 20, dtype: int64"
   ]
  },
  {
   "cell_type": "markdown",
   "id": "7f40f003",
   "metadata": {},
   "source": [
    "nombre_infected     3487\n",
    "nombre_sain         9414\n",
    "nombre_exposed      6121\n",
    "nombre_recovered     978\n",
    "Name: 21, dtype: int64"
   ]
  },
  {
   "cell_type": "markdown",
   "id": "97aa6f47",
   "metadata": {},
   "source": [
    "nombre_infected     4358\n",
    "nombre_sain         7631\n",
    "nombre_exposed      6714\n",
    "nombre_recovered    1297\n",
    "Name: 22, dtype: int64"
   ]
  },
  {
   "cell_type": "markdown",
   "id": "16565e42",
   "metadata": {},
   "source": [
    "nombre_infected     5267\n",
    "nombre_sain         5978\n",
    "nombre_exposed      7032\n",
    "nombre_recovered    1723\n",
    "Name: 23, dtype: int64"
   ]
  },
  {
   "cell_type": "markdown",
   "id": "78de0181",
   "metadata": {},
   "source": [
    "nombre_infected     6159\n",
    "nombre_sain         4562\n",
    "nombre_exposed      7069\n",
    "nombre_recovered    2210\n",
    "Name: 24, dtype: int64"
   ]
  },
  {
   "cell_type": "markdown",
   "id": "0e297f71",
   "metadata": {},
   "source": [
    "nombre_infected     7064\n",
    "nombre_sain         3295\n",
    "nombre_exposed      6823\n",
    "nombre_recovered    2818\n",
    "Name: 25, dtype: int64"
   ]
  },
  {
   "cell_type": "markdown",
   "id": "27d77226",
   "metadata": {},
   "source": [
    "nombre_infected     7832\n",
    "nombre_sain         2335\n",
    "nombre_exposed      6328\n",
    "nombre_recovered    3505\n",
    "Name: 26, dtype: int64"
   ]
  },
  {
   "cell_type": "markdown",
   "id": "10e65dc2",
   "metadata": {},
   "source": [
    "nombre_infected     8454\n",
    "nombre_sain         1587\n",
    "nombre_exposed      5627\n",
    "nombre_recovered    4332\n",
    "Name: 27, dtype: int64"
   ]
  },
  {
   "cell_type": "markdown",
   "id": "4190ecc2",
   "metadata": {},
   "source": [
    "nombre_infected     8791\n",
    "nombre_sain         1098\n",
    "nombre_exposed      4863\n",
    "nombre_recovered    5248\n",
    "Name: 28, dtype: int64"
   ]
  },
  {
   "cell_type": "markdown",
   "id": "578b8a5e",
   "metadata": {},
   "source": [
    "nombre_infected     8943\n",
    "nombre_sain          742\n",
    "nombre_exposed      4088\n",
    "nombre_recovered    6227\n",
    "Name: 29, dtype: int64"
   ]
  },
  {
   "cell_type": "markdown",
   "id": "f06f41f7",
   "metadata": {},
   "source": [
    "nombre_infected     8820\n",
    "nombre_sain          506\n",
    "nombre_exposed      3427\n",
    "nombre_recovered    7247\n",
    "Name: 30, dtype: int64"
   ]
  },
  {
   "cell_type": "markdown",
   "id": "1a636066",
   "metadata": {},
   "source": [
    "nombre_infected     8621\n",
    "nombre_sain          356\n",
    "nombre_exposed      2780\n",
    "nombre_recovered    8243\n",
    "Name: 31, dtype: int64"
   ]
  },
  {
   "cell_type": "markdown",
   "id": "0e410e03",
   "metadata": {},
   "source": [
    "nombre_infected     8314\n",
    "nombre_sain          281\n",
    "nombre_exposed      2213\n",
    "nombre_recovered    9192\n",
    "Name: 32, dtype: int64"
   ]
  },
  {
   "cell_type": "markdown",
   "id": "30485900",
   "metadata": {},
   "source": [
    "nombre_infected      7893\n",
    "nombre_sain           225\n",
    "nombre_exposed       1776\n",
    "nombre_recovered    10106\n",
    "Name: 33, dtype: int64"
   ]
  },
  {
   "cell_type": "markdown",
   "id": "1cd849a0",
   "metadata": {},
   "source": [
    "nombre_infected      7425\n",
    "nombre_sain           214\n",
    "nombre_exposed       1429\n",
    "nombre_recovered    10932\n",
    "Name: 34, dtype: int64"
   ]
  },
  {
   "cell_type": "markdown",
   "id": "89487250",
   "metadata": {},
   "source": [
    "nombre_infected      6881\n",
    "nombre_sain           185\n",
    "nombre_exposed       1159\n",
    "nombre_recovered    11775\n",
    "Name: 35, dtype: int64"
   ]
  },
  {
   "cell_type": "markdown",
   "id": "a9df7442",
   "metadata": {},
   "source": [
    "nombre_infected      6326\n",
    "nombre_sain           183\n",
    "nombre_exposed        941\n",
    "nombre_recovered    12550\n",
    "Name: 36, dtype: int64"
   ]
  },
  {
   "cell_type": "markdown",
   "id": "e25ceab4",
   "metadata": {},
   "source": [
    "nombre_infected      5829\n",
    "nombre_sain           191\n",
    "nombre_exposed        767\n",
    "nombre_recovered    13213\n",
    "Name: 37, dtype: int64"
   ]
  },
  {
   "cell_type": "markdown",
   "id": "85e927f1",
   "metadata": {},
   "source": [
    "nombre_infected      5368\n",
    "nombre_sain           182\n",
    "nombre_exposed        634\n",
    "nombre_recovered    13816\n",
    "Name: 38, dtype: int64"
   ]
  },
  {
   "cell_type": "markdown",
   "id": "8faa8155",
   "metadata": {},
   "source": [
    "nombre_infected      4873\n",
    "nombre_sain           193\n",
    "nombre_exposed        503\n",
    "nombre_recovered    14431\n",
    "Name: 39, dtype: int64"
   ]
  },
  {
   "cell_type": "markdown",
   "id": "63bbe26c",
   "metadata": {},
   "source": [
    "nombre_infected      4489\n",
    "nombre_sain           190\n",
    "nombre_exposed        421\n",
    "nombre_recovered    14900\n",
    "Name: 40, dtype: int64"
   ]
  },
  {
   "cell_type": "markdown",
   "id": "c6a7fe23",
   "metadata": {},
   "source": [
    "nombre_infected      4102\n",
    "nombre_sain           196\n",
    "nombre_exposed        371\n",
    "nombre_recovered    15331\n",
    "Name: 41, dtype: int64"
   ]
  },
  {
   "cell_type": "markdown",
   "id": "f5c1be92",
   "metadata": {},
   "source": [
    "nombre_infected      3757\n",
    "nombre_sain           216\n",
    "nombre_exposed        311\n",
    "nombre_recovered    15716\n",
    "Name: 42, dtype: int64"
   ]
  },
  {
   "cell_type": "markdown",
   "id": "a5af64cc",
   "metadata": {},
   "source": [
    "nombre_infected      3396\n",
    "nombre_sain           233\n",
    "nombre_exposed        269\n",
    "nombre_recovered    16102\n",
    "Name: 43, dtype: int64"
   ]
  },
  {
   "cell_type": "markdown",
   "id": "0d34db99",
   "metadata": {},
   "source": [
    "nombre_infected      3087\n",
    "nombre_sain           256\n",
    "nombre_exposed        234\n",
    "nombre_recovered    16423\n",
    "Name: 44, dtype: int64"
   ]
  },
  {
   "cell_type": "markdown",
   "id": "5f376949",
   "metadata": {},
   "source": [
    "nombre_infected      2782\n",
    "nombre_sain           298\n",
    "nombre_exposed        199\n",
    "nombre_recovered    16721\n",
    "Name: 45, dtype: int64"
   ]
  },
  {
   "cell_type": "markdown",
   "id": "7e918bc8",
   "metadata": {},
   "source": [
    "nombre_infected      2484\n",
    "nombre_sain           326\n",
    "nombre_exposed        187\n",
    "nombre_recovered    17003\n",
    "Name: 46, dtype: int64"
   ]
  },
  {
   "cell_type": "markdown",
   "id": "6cba79f4",
   "metadata": {},
   "source": [
    "nombre_infected      2209\n",
    "nombre_sain           337\n",
    "nombre_exposed        186\n",
    "nombre_recovered    17268\n",
    "Name: 47, dtype: int64"
   ]
  },
  {
   "cell_type": "markdown",
   "id": "ce1ecfa0",
   "metadata": {},
   "source": [
    "nombre_infected      1967\n",
    "nombre_sain           378\n",
    "nombre_exposed        170\n",
    "nombre_recovered    17485\n",
    "Name: 48, dtype: int64"
   ]
  },
  {
   "cell_type": "markdown",
   "id": "57835fce",
   "metadata": {},
   "source": [
    "nombre_infected      1774\n",
    "nombre_sain           411\n",
    "nombre_exposed        160\n",
    "nombre_recovered    17655\n",
    "Name: 49, dtype: int64"
   ]
  },
  {
   "cell_type": "markdown",
   "id": "113ae75b",
   "metadata": {},
   "source": [
    "nombre_infected      1540\n",
    "nombre_sain           450\n",
    "nombre_exposed        155\n",
    "nombre_recovered    17855\n",
    "Name: 50, dtype: int64"
   ]
  },
  {
   "cell_type": "markdown",
   "id": "7fa4ab42",
   "metadata": {},
   "source": [
    "nombre_infected      1350\n",
    "nombre_sain           495\n",
    "nombre_exposed        151\n",
    "nombre_recovered    18004\n",
    "Name: 51, dtype: int64"
   ]
  },
  {
   "cell_type": "markdown",
   "id": "6fea372c",
   "metadata": {},
   "source": [
    "nombre_infected      1179\n",
    "nombre_sain           539\n",
    "nombre_exposed        153\n",
    "nombre_recovered    18129\n",
    "Name: 52, dtype: int64"
   ]
  },
  {
   "cell_type": "markdown",
   "id": "333afb25",
   "metadata": {},
   "source": [
    "nombre_infected      1067\n",
    "nombre_sain           584\n",
    "nombre_exposed        130\n",
    "nombre_recovered    18219\n",
    "Name: 53, dtype: int64"
   ]
  },
  {
   "cell_type": "markdown",
   "id": "356a63d3",
   "metadata": {},
   "source": [
    "nombre_infected       917\n",
    "nombre_sain           614\n",
    "nombre_exposed        141\n",
    "nombre_recovered    18328\n",
    "Name: 54, dtype: int64"
   ]
  },
  {
   "cell_type": "markdown",
   "id": "c93bc3ac",
   "metadata": {},
   "source": [
    "nombre_infected       804\n",
    "nombre_sain           646\n",
    "nombre_exposed        146\n",
    "nombre_recovered    18404\n",
    "Name: 55, dtype: int64"
   ]
  },
  {
   "cell_type": "markdown",
   "id": "f7deb913",
   "metadata": {},
   "source": [
    "nombre_infected       698\n",
    "nombre_sain           680\n",
    "nombre_exposed        137\n",
    "nombre_recovered    18485\n",
    "Name: 56, dtype: int64"
   ]
  },
  {
   "cell_type": "markdown",
   "id": "404f132c",
   "metadata": {},
   "source": [
    "nombre_infected       631\n",
    "nombre_sain           721\n",
    "nombre_exposed        117\n",
    "nombre_recovered    18531\n",
    "Name: 57, dtype: int64"
   ]
  },
  {
   "cell_type": "markdown",
   "id": "acf92cb4",
   "metadata": {},
   "source": [
    "nombre_infected       575\n",
    "nombre_sain           760\n",
    "nombre_exposed         97\n",
    "nombre_recovered    18568\n",
    "Name: 58, dtype: int64"
   ]
  },
  {
   "cell_type": "markdown",
   "id": "24daa076",
   "metadata": {},
   "source": [
    "nombre_infected       518\n",
    "nombre_sain           804\n",
    "nombre_exposed         97\n",
    "nombre_recovered    18581\n",
    "Name: 59, dtype: int64"
   ]
  },
  {
   "cell_type": "markdown",
   "id": "eb5ad284",
   "metadata": {},
   "source": [
    "nombre_infected       478\n",
    "nombre_sain           830\n",
    "nombre_exposed         89\n",
    "nombre_recovered    18603\n",
    "Name: 60, dtype: int64"
   ]
  },
  {
   "cell_type": "markdown",
   "id": "f604c345",
   "metadata": {},
   "source": [
    "nombre_infected       423\n",
    "nombre_sain           872\n",
    "nombre_exposed         91\n",
    "nombre_recovered    18614\n",
    "Name: 61, dtype: int64"
   ]
  },
  {
   "cell_type": "markdown",
   "id": "d51e266d",
   "metadata": {},
   "source": [
    "nombre_infected       393\n",
    "nombre_sain           925\n",
    "nombre_exposed         82\n",
    "nombre_recovered    18600\n",
    "Name: 62, dtype: int64"
   ]
  },
  {
   "cell_type": "markdown",
   "id": "ec166d40",
   "metadata": {},
   "source": [
    "nombre_infected       348\n",
    "nombre_sain           970\n",
    "nombre_exposed         68\n",
    "nombre_recovered    18614\n",
    "Name: 63, dtype: int64"
   ]
  },
  {
   "cell_type": "markdown",
   "id": "b9f6c7a9",
   "metadata": {},
   "source": [
    "nombre_infected       300\n",
    "nombre_sain           995\n",
    "nombre_exposed         73\n",
    "nombre_recovered    18632\n",
    "Name: 64, dtype: int64"
   ]
  },
  {
   "cell_type": "markdown",
   "id": "a21210e3",
   "metadata": {},
   "source": [
    "nombre_infected       272\n",
    "nombre_sain          1026\n",
    "nombre_exposed         71\n",
    "nombre_recovered    18631\n",
    "Name: 65, dtype: int64"
   ]
  },
  {
   "cell_type": "markdown",
   "id": "8ce12856",
   "metadata": {},
   "source": [
    "nombre_infected       264\n",
    "nombre_sain          1062\n",
    "nombre_exposed         70\n",
    "nombre_recovered    18604\n",
    "Name: 66, dtype: int64"
   ]
  },
  {
   "cell_type": "markdown",
   "id": "5c21bf35",
   "metadata": {},
   "source": [
    "nombre_infected       244\n",
    "nombre_sain          1099\n",
    "nombre_exposed         64\n",
    "nombre_recovered    18593\n",
    "Name: 67, dtype: int64"
   ]
  },
  {
   "cell_type": "markdown",
   "id": "75c1c181",
   "metadata": {},
   "source": [
    "nombre_infected       226\n",
    "nombre_sain          1138\n",
    "nombre_exposed         56\n",
    "nombre_recovered    18580\n",
    "Name: 68, dtype: int64"
   ]
  },
  {
   "cell_type": "markdown",
   "id": "de17861b",
   "metadata": {},
   "source": [
    "nombre_infected       209\n",
    "nombre_sain          1170\n",
    "nombre_exposed         48\n",
    "nombre_recovered    18573\n",
    "Name: 69, dtype: int64"
   ]
  },
  {
   "cell_type": "markdown",
   "id": "b0bda3ec",
   "metadata": {},
   "source": [
    "nombre_infected       171\n",
    "nombre_sain          1208\n",
    "nombre_exposed         57\n",
    "nombre_recovered    18564\n",
    "Name: 70, dtype: int64"
   ]
  },
  {
   "cell_type": "markdown",
   "id": "7aef5321",
   "metadata": {},
   "source": [
    "nombre_infected       154\n",
    "nombre_sain          1243\n",
    "nombre_exposed         52\n",
    "nombre_recovered    18551\n",
    "Name: 71, dtype: int64"
   ]
  },
  {
   "cell_type": "markdown",
   "id": "23291719",
   "metadata": {},
   "source": [
    "nombre_infected       140\n",
    "nombre_sain          1284\n",
    "nombre_exposed         47\n",
    "nombre_recovered    18529\n",
    "Name: 72, dtype: int64"
   ]
  },
  {
   "cell_type": "markdown",
   "id": "ad8be4e7",
   "metadata": {},
   "source": [
    "nombre_infected       136\n",
    "nombre_sain          1313\n",
    "nombre_exposed         49\n",
    "nombre_recovered    18502\n",
    "Name: 73, dtype: int64"
   ]
  },
  {
   "cell_type": "markdown",
   "id": "c25c23a1",
   "metadata": {},
   "source": [
    "nombre_infected       121\n",
    "nombre_sain          1353\n",
    "nombre_exposed         50\n",
    "nombre_recovered    18476\n",
    "Name: 74, dtype: int64"
   ]
  },
  {
   "cell_type": "markdown",
   "id": "0ab80482",
   "metadata": {},
   "source": [
    "nombre_infected       118\n",
    "nombre_sain          1385\n",
    "nombre_exposed         40\n",
    "nombre_recovered    18457\n",
    "Name: 75, dtype: int64"
   ]
  },
  {
   "cell_type": "markdown",
   "id": "9646c78f",
   "metadata": {},
   "source": [
    "nombre_infected       104\n",
    "nombre_sain          1441\n",
    "nombre_exposed         33\n",
    "nombre_recovered    18422\n",
    "Name: 76, dtype: int64"
   ]
  },
  {
   "cell_type": "markdown",
   "id": "acf75e61",
   "metadata": {},
   "source": [
    "nombre_infected        93\n",
    "nombre_sain          1488\n",
    "nombre_exposed         31\n",
    "nombre_recovered    18388\n",
    "Name: 77, dtype: int64"
   ]
  },
  {
   "cell_type": "markdown",
   "id": "a1f2c08e",
   "metadata": {},
   "source": [
    "nombre_infected        84\n",
    "nombre_sain          1536\n",
    "nombre_exposed         31\n",
    "nombre_recovered    18349\n",
    "Name: 78, dtype: int64"
   ]
  },
  {
   "cell_type": "markdown",
   "id": "76b039ef",
   "metadata": {},
   "source": [
    "nombre_infected        73\n",
    "nombre_sain          1583\n",
    "nombre_exposed         32\n",
    "nombre_recovered    18312\n",
    "Name: 79, dtype: int64"
   ]
  },
  {
   "cell_type": "markdown",
   "id": "6d03a92a",
   "metadata": {},
   "source": [
    "nombre_infected        72\n",
    "nombre_sain          1621\n",
    "nombre_exposed         32\n",
    "nombre_recovered    18275\n",
    "Name: 80, dtype: int64"
   ]
  },
  {
   "cell_type": "markdown",
   "id": "4d8525ba",
   "metadata": {},
   "source": [
    "nombre_infected        66\n",
    "nombre_sain          1671\n",
    "nombre_exposed         28\n",
    "nombre_recovered    18235\n",
    "Name: 81, dtype: int64"
   ]
  },
  {
   "cell_type": "markdown",
   "id": "a3737129",
   "metadata": {},
   "source": [
    "nombre_infected        64\n",
    "nombre_sain          1710\n",
    "nombre_exposed         23\n",
    "nombre_recovered    18203\n",
    "Name: 82, dtype: int64"
   ]
  },
  {
   "cell_type": "markdown",
   "id": "4eadaa3a",
   "metadata": {},
   "source": [
    "nombre_infected        64\n",
    "nombre_sain          1758\n",
    "nombre_exposed         26\n",
    "nombre_recovered    18152\n",
    "Name: 83, dtype: int64"
   ]
  },
  {
   "cell_type": "markdown",
   "id": "4b124813",
   "metadata": {},
   "source": [
    "nombre_infected        58\n",
    "nombre_sain          1798\n",
    "nombre_exposed         27\n",
    "nombre_recovered    18117\n",
    "Name: 84, dtype: int64"
   ]
  },
  {
   "cell_type": "markdown",
   "id": "e8d7a311",
   "metadata": {},
   "source": [
    "nombre_infected        61\n",
    "nombre_sain          1830\n",
    "nombre_exposed         25\n",
    "nombre_recovered    18084\n",
    "Name: 85, dtype: int64"
   ]
  },
  {
   "cell_type": "markdown",
   "id": "d4fc1f74",
   "metadata": {},
   "source": [
    "nombre_infected        67\n",
    "nombre_sain          1878\n",
    "nombre_exposed         21\n",
    "nombre_recovered    18034\n",
    "Name: 86, dtype: int64"
   ]
  },
  {
   "cell_type": "markdown",
   "id": "42e31644",
   "metadata": {},
   "source": [
    "nombre_infected        64\n",
    "nombre_sain          1921\n",
    "nombre_exposed         28\n",
    "nombre_recovered    17987\n",
    "Name: 87, dtype: int64"
   ]
  },
  {
   "cell_type": "markdown",
   "id": "f29b3352",
   "metadata": {},
   "source": [
    "nombre_infected        61\n",
    "nombre_sain          1948\n",
    "nombre_exposed         33\n",
    "nombre_recovered    17958\n",
    "Name: 88, dtype: int64"
   ]
  },
  {
   "cell_type": "markdown",
   "id": "31013af3",
   "metadata": {},
   "source": [
    "nombre_infected        54\n",
    "nombre_sain          1997\n",
    "nombre_exposed         33\n",
    "nombre_recovered    17916\n",
    "Name: 89, dtype: int64"
   ]
  },
  {
   "cell_type": "markdown",
   "id": "109b4c9d",
   "metadata": {},
   "source": [
    "nombre_infected        54\n",
    "nombre_sain          2043\n",
    "nombre_exposed         35\n",
    "nombre_recovered    17868\n",
    "Name: 90, dtype: int64"
   ]
  },
  {
   "cell_type": "markdown",
   "id": "47ec1c6c",
   "metadata": {},
   "source": [
    "nombre_infected        52\n",
    "nombre_sain          2090\n",
    "nombre_exposed         36\n",
    "nombre_recovered    17822\n",
    "Name: 91, dtype: int64"
   ]
  },
  {
   "cell_type": "markdown",
   "id": "0099fbf9",
   "metadata": {},
   "source": [
    "nombre_infected        59\n",
    "nombre_sain          2120\n",
    "nombre_exposed         33\n",
    "nombre_recovered    17788\n",
    "Name: 92, dtype: int64"
   ]
  },
  {
   "cell_type": "markdown",
   "id": "1f772145",
   "metadata": {},
   "source": [
    "nombre_infected        64\n",
    "nombre_sain          2150\n",
    "nombre_exposed         37\n",
    "nombre_recovered    17749\n",
    "Name: 93, dtype: int64"
   ]
  },
  {
   "cell_type": "markdown",
   "id": "8e009611",
   "metadata": {},
   "source": [
    "nombre_infected        62\n",
    "nombre_sain          2203\n",
    "nombre_exposed         36\n",
    "nombre_recovered    17699\n",
    "Name: 94, dtype: int64"
   ]
  },
  {
   "cell_type": "markdown",
   "id": "bf8e7bb8",
   "metadata": {},
   "source": [
    "nombre_infected        58\n",
    "nombre_sain          2255\n",
    "nombre_exposed         35\n",
    "nombre_recovered    17652\n",
    "Name: 95, dtype: int64"
   ]
  },
  {
   "cell_type": "markdown",
   "id": "0d155aeb",
   "metadata": {},
   "source": [
    "nombre_infected        56\n",
    "nombre_sain          2304\n",
    "nombre_exposed         36\n",
    "nombre_recovered    17604\n",
    "Name: 96, dtype: int64"
   ]
  },
  {
   "cell_type": "markdown",
   "id": "e4061067",
   "metadata": {},
   "source": [
    "nombre_infected        57\n",
    "nombre_sain          2341\n",
    "nombre_exposed         41\n",
    "nombre_recovered    17561\n",
    "Name: 97, dtype: int64"
   ]
  },
  {
   "cell_type": "markdown",
   "id": "530adcc9",
   "metadata": {},
   "source": [
    "nombre_infected        62\n",
    "nombre_sain          2372\n",
    "nombre_exposed         46\n",
    "nombre_recovered    17520\n",
    "Name: 98, dtype: int64"
   ]
  },
  {
   "cell_type": "markdown",
   "id": "e9bd7dc3",
   "metadata": {},
   "source": [
    "nombre_infected        63\n",
    "nombre_sain          2415\n",
    "nombre_exposed         43\n",
    "nombre_recovered    17479\n",
    "Name: 99, dtype: int64"
   ]
  },
  {
   "cell_type": "markdown",
   "id": "3309144b",
   "metadata": {},
   "source": [
    "nombre_infected        62\n",
    "nombre_sain          2463\n",
    "nombre_exposed         38\n",
    "nombre_recovered    17437\n",
    "Name: 100, dtype: int64"
   ]
  },
  {
   "cell_type": "markdown",
   "id": "525e7f26",
   "metadata": {},
   "source": [
    "nombre_infected        66\n",
    "nombre_sain          2510\n",
    "nombre_exposed         34\n",
    "nombre_recovered    17390\n",
    "Name: 101, dtype: int64"
   ]
  },
  {
   "cell_type": "markdown",
   "id": "912762df",
   "metadata": {},
   "source": [
    "nombre_infected        69\n",
    "nombre_sain          2561\n",
    "nombre_exposed         36\n",
    "nombre_recovered    17334\n",
    "Name: 102, dtype: int64"
   ]
  },
  {
   "cell_type": "markdown",
   "id": "0cbd5390",
   "metadata": {},
   "source": [
    "nombre_infected        77\n",
    "nombre_sain          2618\n",
    "nombre_exposed         34\n",
    "nombre_recovered    17271\n",
    "Name: 103, dtype: int64"
   ]
  },
  {
   "cell_type": "markdown",
   "id": "73baf961",
   "metadata": {},
   "source": [
    "nombre_infected        74\n",
    "nombre_sain          2674\n",
    "nombre_exposed         40\n",
    "nombre_recovered    17212\n",
    "Name: 104, dtype: int64"
   ]
  },
  {
   "cell_type": "markdown",
   "id": "dce7c146",
   "metadata": {},
   "source": [
    "nombre_infected        67\n",
    "nombre_sain          2732\n",
    "nombre_exposed         50\n",
    "nombre_recovered    17151\n",
    "Name: 105, dtype: int64"
   ]
  },
  {
   "cell_type": "markdown",
   "id": "404c9da1",
   "metadata": {},
   "source": [
    "nombre_infected        63\n",
    "nombre_sain          2798\n",
    "nombre_exposed         49\n",
    "nombre_recovered    17090\n",
    "Name: 106, dtype: int64"
   ]
  },
  {
   "cell_type": "markdown",
   "id": "bac136bf",
   "metadata": {},
   "source": [
    "nombre_infected        63\n",
    "nombre_sain          2852\n",
    "nombre_exposed         53\n",
    "nombre_recovered    17032\n",
    "Name: 107, dtype: int64"
   ]
  },
  {
   "cell_type": "markdown",
   "id": "6ec70c93",
   "metadata": {},
   "source": [
    "nombre_infected        66\n",
    "nombre_sain          2929\n",
    "nombre_exposed         53\n",
    "nombre_recovered    16952\n",
    "Name: 108, dtype: int64"
   ]
  },
  {
   "cell_type": "markdown",
   "id": "2a3f4388",
   "metadata": {},
   "source": [
    "nombre_infected        74\n",
    "nombre_sain          2989\n",
    "nombre_exposed         51\n",
    "nombre_recovered    16886\n",
    "Name: 109, dtype: int64"
   ]
  },
  {
   "cell_type": "markdown",
   "id": "15204874",
   "metadata": {},
   "source": [
    "nombre_infected        78\n",
    "nombre_sain          3039\n",
    "nombre_exposed         60\n",
    "nombre_recovered    16823\n",
    "Name: 110, dtype: int64"
   ]
  },
  {
   "cell_type": "markdown",
   "id": "3343a6b1",
   "metadata": {},
   "source": [
    "nombre_infected        80\n",
    "nombre_sain          3093\n",
    "nombre_exposed         67\n",
    "nombre_recovered    16760\n",
    "Name: 111, dtype: int64"
   ]
  },
  {
   "cell_type": "markdown",
   "id": "ab0cac6a",
   "metadata": {},
   "source": [
    "nombre_infected        88\n",
    "nombre_sain          3152\n",
    "nombre_exposed         71\n",
    "nombre_recovered    16689\n",
    "Name: 112, dtype: int64"
   ]
  },
  {
   "cell_type": "markdown",
   "id": "9a88ad44",
   "metadata": {},
   "source": [
    "nombre_infected        97\n",
    "nombre_sain          3193\n",
    "nombre_exposed         76\n",
    "nombre_recovered    16634\n",
    "Name: 113, dtype: int64"
   ]
  },
  {
   "cell_type": "markdown",
   "id": "74f2edc2",
   "metadata": {},
   "source": [
    "nombre_infected       100\n",
    "nombre_sain          3256\n",
    "nombre_exposed         78\n",
    "nombre_recovered    16566\n",
    "Name: 114, dtype: int64"
   ]
  },
  {
   "cell_type": "markdown",
   "id": "4c7fca04",
   "metadata": {},
   "source": [
    "nombre_infected       108\n",
    "nombre_sain          3302\n",
    "nombre_exposed         84\n",
    "nombre_recovered    16506\n",
    "Name: 115, dtype: int64"
   ]
  },
  {
   "cell_type": "markdown",
   "id": "c7d314d7",
   "metadata": {},
   "source": [
    "nombre_infected        94\n",
    "nombre_sain          3345\n",
    "nombre_exposed         99\n",
    "nombre_recovered    16462\n",
    "Name: 116, dtype: int64"
   ]
  },
  {
   "cell_type": "markdown",
   "id": "79634a1d",
   "metadata": {},
   "source": [
    "nombre_infected       104\n",
    "nombre_sain          3388\n",
    "nombre_exposed         98\n",
    "nombre_recovered    16410\n",
    "Name: 117, dtype: int64"
   ]
  },
  {
   "cell_type": "markdown",
   "id": "6cd65186",
   "metadata": {},
   "source": [
    "nombre_infected       114\n",
    "nombre_sain          3425\n",
    "nombre_exposed        106\n",
    "nombre_recovered    16355\n",
    "Name: 118, dtype: int64"
   ]
  },
  {
   "cell_type": "markdown",
   "id": "e6beb192",
   "metadata": {},
   "source": [
    "nombre_infected       120\n",
    "nombre_sain          3466\n",
    "nombre_exposed        106\n",
    "nombre_recovered    16308\n",
    "Name: 119, dtype: int64"
   ]
  },
  {
   "cell_type": "markdown",
   "id": "ece47052",
   "metadata": {},
   "source": [
    "nombre_infected       114\n",
    "nombre_sain          3495\n",
    "nombre_exposed        115\n",
    "nombre_recovered    16276\n",
    "Name: 120, dtype: int64"
   ]
  },
  {
   "cell_type": "markdown",
   "id": "07fffb8d",
   "metadata": {},
   "source": [
    "nombre_infected       122\n",
    "nombre_sain          3535\n",
    "nombre_exposed        113\n",
    "nombre_recovered    16230\n",
    "Name: 121, dtype: int64"
   ]
  },
  {
   "cell_type": "markdown",
   "id": "3177eef1",
   "metadata": {},
   "source": [
    "nombre_infected       139\n",
    "nombre_sain          3566\n",
    "nombre_exposed        112\n",
    "nombre_recovered    16183\n",
    "Name: 122, dtype: int64"
   ]
  },
  {
   "cell_type": "markdown",
   "id": "c256468a",
   "metadata": {},
   "source": [
    "nombre_infected       151\n",
    "nombre_sain          3571\n",
    "nombre_exposed        131\n",
    "nombre_recovered    16147\n",
    "Name: 123, dtype: int64"
   ]
  },
  {
   "cell_type": "markdown",
   "id": "97b1da30",
   "metadata": {},
   "source": [
    "nombre_infected       150\n",
    "nombre_sain          3578\n",
    "nombre_exposed        147\n",
    "nombre_recovered    16125\n",
    "Name: 124, dtype: int64"
   ]
  },
  {
   "cell_type": "markdown",
   "id": "b5266d1e",
   "metadata": {},
   "source": [
    "nombre_infected       160\n",
    "nombre_sain          3601\n",
    "nombre_exposed        150\n",
    "nombre_recovered    16089\n",
    "Name: 125, dtype: int64"
   ]
  },
  {
   "cell_type": "markdown",
   "id": "f61371c6",
   "metadata": {},
   "source": [
    "nombre_infected       174\n",
    "nombre_sain          3619\n",
    "nombre_exposed        156\n",
    "nombre_recovered    16051\n",
    "Name: 126, dtype: int64"
   ]
  },
  {
   "cell_type": "markdown",
   "id": "9a8d241b",
   "metadata": {},
   "source": [
    "nombre_infected       180\n",
    "nombre_sain          3624\n",
    "nombre_exposed        167\n",
    "nombre_recovered    16029\n",
    "Name: 127, dtype: int64"
   ]
  },
  {
   "cell_type": "markdown",
   "id": "0acb7f92",
   "metadata": {},
   "source": [
    "nombre_infected       188\n",
    "nombre_sain          3640\n",
    "nombre_exposed        173\n",
    "nombre_recovered    15999\n",
    "Name: 128, dtype: int64"
   ]
  },
  {
   "cell_type": "markdown",
   "id": "9d3b383d",
   "metadata": {},
   "source": [
    "nombre_infected       204\n",
    "nombre_sain          3642\n",
    "nombre_exposed        185\n",
    "nombre_recovered    15969\n",
    "Name: 129, dtype: int64"
   ]
  },
  {
   "cell_type": "markdown",
   "id": "ff00daac",
   "metadata": {},
   "source": [
    "nombre_infected       229\n",
    "nombre_sain          3634\n",
    "nombre_exposed        195\n",
    "nombre_recovered    15942\n",
    "Name: 130, dtype: int64"
   ]
  },
  {
   "cell_type": "markdown",
   "id": "771e2031",
   "metadata": {},
   "source": [
    "nombre_infected       228\n",
    "nombre_sain          3629\n",
    "nombre_exposed        212\n",
    "nombre_recovered    15931\n",
    "Name: 131, dtype: int64"
   ]
  },
  {
   "cell_type": "markdown",
   "id": "44eb96b0",
   "metadata": {},
   "source": [
    "nombre_infected       247\n",
    "nombre_sain          3633\n",
    "nombre_exposed        233\n",
    "nombre_recovered    15887\n",
    "Name: 132, dtype: int64"
   ]
  },
  {
   "cell_type": "markdown",
   "id": "95ce56d0",
   "metadata": {},
   "source": [
    "nombre_infected       267\n",
    "nombre_sain          3608\n",
    "nombre_exposed        247\n",
    "nombre_recovered    15878\n",
    "Name: 133, dtype: int64"
   ]
  },
  {
   "cell_type": "markdown",
   "id": "90ade577",
   "metadata": {},
   "source": [
    "nombre_infected       291\n",
    "nombre_sain          3585\n",
    "nombre_exposed        254\n",
    "nombre_recovered    15870\n",
    "Name: 134, dtype: int64"
   ]
  },
  {
   "cell_type": "markdown",
   "id": "6c27cf5e",
   "metadata": {},
   "source": [
    "nombre_infected       325\n",
    "nombre_sain          3574\n",
    "nombre_exposed        244\n",
    "nombre_recovered    15857\n",
    "Name: 135, dtype: int64"
   ]
  },
  {
   "cell_type": "markdown",
   "id": "1f499d70",
   "metadata": {},
   "source": [
    "nombre_infected       351\n",
    "nombre_sain          3526\n",
    "nombre_exposed        274\n",
    "nombre_recovered    15849\n",
    "Name: 136, dtype: int64"
   ]
  },
  {
   "cell_type": "markdown",
   "id": "f41fa73f",
   "metadata": {},
   "source": [
    "nombre_infected       360\n",
    "nombre_sain          3505\n",
    "nombre_exposed        298\n",
    "nombre_recovered    15837\n",
    "Name: 137, dtype: int64"
   ]
  },
  {
   "cell_type": "markdown",
   "id": "93267dc0",
   "metadata": {},
   "source": [
    "nombre_infected       375\n",
    "nombre_sain          3480\n",
    "nombre_exposed        314\n",
    "nombre_recovered    15831\n",
    "Name: 138, dtype: int64"
   ]
  },
  {
   "cell_type": "markdown",
   "id": "112b0e76",
   "metadata": {},
   "source": [
    "nombre_infected       394\n",
    "nombre_sain          3436\n",
    "nombre_exposed        336\n",
    "nombre_recovered    15834\n",
    "Name: 139, dtype: int64"
   ]
  },
  {
   "cell_type": "markdown",
   "id": "23e605f8",
   "metadata": {},
   "source": [
    "nombre_infected       430\n",
    "nombre_sain          3383\n",
    "nombre_exposed        367\n",
    "nombre_recovered    15820\n",
    "Name: 140, dtype: int64"
   ]
  },
  {
   "cell_type": "markdown",
   "id": "ed9a08a1",
   "metadata": {},
   "source": [
    "nombre_infected       474\n",
    "nombre_sain          3329\n",
    "nombre_exposed        368\n",
    "nombre_recovered    15829\n",
    "Name: 141, dtype: int64"
   ]
  },
  {
   "cell_type": "markdown",
   "id": "b0031e64",
   "metadata": {},
   "source": [
    "nombre_infected       496\n",
    "nombre_sain          3304\n",
    "nombre_exposed        362\n",
    "nombre_recovered    15838\n",
    "Name: 142, dtype: int64"
   ]
  },
  {
   "cell_type": "markdown",
   "id": "9c38d693",
   "metadata": {},
   "source": [
    "nombre_infected       508\n",
    "nombre_sain          3264\n",
    "nombre_exposed        374\n",
    "nombre_recovered    15854\n",
    "Name: 143, dtype: int64"
   ]
  },
  {
   "cell_type": "markdown",
   "id": "9c8174e7",
   "metadata": {},
   "source": [
    "nombre_infected       537\n",
    "nombre_sain          3192\n",
    "nombre_exposed        407\n",
    "nombre_recovered    15864\n",
    "Name: 144, dtype: int64"
   ]
  },
  {
   "cell_type": "markdown",
   "id": "0bbbe300",
   "metadata": {},
   "source": [
    "nombre_infected       556\n",
    "nombre_sain          3158\n",
    "nombre_exposed        416\n",
    "nombre_recovered    15870\n",
    "Name: 145, dtype: int64"
   ]
  },
  {
   "cell_type": "markdown",
   "id": "0f113823",
   "metadata": {},
   "source": [
    "nombre_infected       578\n",
    "nombre_sain          3105\n",
    "nombre_exposed        438\n",
    "nombre_recovered    15879\n",
    "Name: 146, dtype: int64"
   ]
  },
  {
   "cell_type": "markdown",
   "id": "06b181c1",
   "metadata": {},
   "source": [
    "nombre_infected       611\n",
    "nombre_sain          3086\n",
    "nombre_exposed        442\n",
    "nombre_recovered    15861\n",
    "Name: 147, dtype: int64"
   ]
  },
  {
   "cell_type": "markdown",
   "id": "13aa1db5",
   "metadata": {},
   "source": [
    "nombre_infected       631\n",
    "nombre_sain          3087\n",
    "nombre_exposed        449\n",
    "nombre_recovered    15833\n",
    "Name: 148, dtype: int64"
   ]
  },
  {
   "cell_type": "markdown",
   "id": "426f9bac",
   "metadata": {},
   "source": [
    "nombre_infected       634\n",
    "nombre_sain          3048\n",
    "nombre_exposed        469\n",
    "nombre_recovered    15849\n",
    "Name: 149, dtype: int64"
   ]
  },
  {
   "cell_type": "markdown",
   "id": "103b1054",
   "metadata": {},
   "source": [
    "nombre_infected       669\n",
    "nombre_sain          2999\n",
    "nombre_exposed        475\n",
    "nombre_recovered    15857\n",
    "Name: 150, dtype: int64"
   ]
  },
  {
   "cell_type": "markdown",
   "id": "4c988d95",
   "metadata": {},
   "source": [
    "nombre_infected       717\n",
    "nombre_sain          2952\n",
    "nombre_exposed        466\n",
    "nombre_recovered    15865\n",
    "Name: 151, dtype: int64"
   ]
  },
  {
   "cell_type": "markdown",
   "id": "6ad4502f",
   "metadata": {},
   "source": [
    "nombre_infected       729\n",
    "nombre_sain          2898\n",
    "nombre_exposed        506\n",
    "nombre_recovered    15867\n",
    "Name: 152, dtype: int64"
   ]
  },
  {
   "cell_type": "markdown",
   "id": "5e01a296",
   "metadata": {},
   "source": [
    "nombre_infected       752\n",
    "nombre_sain          2838\n",
    "nombre_exposed        522\n",
    "nombre_recovered    15888\n",
    "Name: 153, dtype: int64"
   ]
  },
  {
   "cell_type": "markdown",
   "id": "da8ee59a",
   "metadata": {},
   "source": [
    "nombre_infected       786\n",
    "nombre_sain          2777\n",
    "nombre_exposed        535\n",
    "nombre_recovered    15902\n",
    "Name: 154, dtype: int64"
   ]
  },
  {
   "cell_type": "markdown",
   "id": "804bdfee",
   "metadata": {},
   "source": [
    "nombre_infected       820\n",
    "nombre_sain          2719\n",
    "nombre_exposed        534\n",
    "nombre_recovered    15927\n",
    "Name: 155, dtype: int64"
   ]
  },
  {
   "cell_type": "markdown",
   "id": "8a1ffbe8",
   "metadata": {},
   "source": [
    "nombre_infected       841\n",
    "nombre_sain          2635\n",
    "nombre_exposed        550\n",
    "nombre_recovered    15974\n",
    "Name: 156, dtype: int64"
   ]
  },
  {
   "cell_type": "markdown",
   "id": "b46b7764",
   "metadata": {},
   "source": [
    "nombre_infected       839\n",
    "nombre_sain          2563\n",
    "nombre_exposed        583\n",
    "nombre_recovered    16015\n",
    "Name: 157, dtype: int64"
   ]
  },
  {
   "cell_type": "markdown",
   "id": "29c22558",
   "metadata": {},
   "source": [
    "nombre_infected       879\n",
    "nombre_sain          2482\n",
    "nombre_exposed        587\n",
    "nombre_recovered    16052\n",
    "Name: 158, dtype: int64"
   ]
  },
  {
   "cell_type": "markdown",
   "id": "410a540c",
   "metadata": {},
   "source": [
    "nombre_infected       898\n",
    "nombre_sain          2405\n",
    "nombre_exposed        591\n",
    "nombre_recovered    16106\n",
    "Name: 159, dtype: int64"
   ]
  },
  {
   "cell_type": "markdown",
   "id": "d043a7af",
   "metadata": {},
   "source": [
    "nombre_infected       917\n",
    "nombre_sain          2328\n",
    "nombre_exposed        591\n",
    "nombre_recovered    16164\n",
    "Name: 160, dtype: int64"
   ]
  },
  {
   "cell_type": "markdown",
   "id": "55de3a56",
   "metadata": {},
   "source": [
    "nombre_infected       950\n",
    "nombre_sain          2284\n",
    "nombre_exposed        554\n",
    "nombre_recovered    16212\n",
    "Name: 161, dtype: int64"
   ]
  },
  {
   "cell_type": "markdown",
   "id": "26849745",
   "metadata": {},
   "source": [
    "nombre_infected       951\n",
    "nombre_sain          2211\n",
    "nombre_exposed        550\n",
    "nombre_recovered    16288\n",
    "Name: 162, dtype: int64"
   ]
  },
  {
   "cell_type": "markdown",
   "id": "a0bdd2db",
   "metadata": {},
   "source": [
    "nombre_infected       964\n",
    "nombre_sain          2144\n",
    "nombre_exposed        557\n",
    "nombre_recovered    16335\n",
    "Name: 163, dtype: int64"
   ]
  },
  {
   "cell_type": "markdown",
   "id": "4ff512bd",
   "metadata": {},
   "source": [
    "nombre_infected       989\n",
    "nombre_sain          2093\n",
    "nombre_exposed        545\n",
    "nombre_recovered    16373\n",
    "Name: 164, dtype: int64"
   ]
  },
  {
   "cell_type": "markdown",
   "id": "2e8a1c76",
   "metadata": {},
   "source": [
    "nombre_infected       956\n",
    "nombre_sain          2030\n",
    "nombre_exposed        559\n",
    "nombre_recovered    16455\n",
    "Name: 165, dtype: int64"
   ]
  },
  {
   "cell_type": "markdown",
   "id": "99ce6e66",
   "metadata": {},
   "source": [
    "nombre_infected       951\n",
    "nombre_sain          1984\n",
    "nombre_exposed        553\n",
    "nombre_recovered    16512\n",
    "Name: 166, dtype: int64"
   ]
  },
  {
   "cell_type": "markdown",
   "id": "79f64abe",
   "metadata": {},
   "source": [
    "nombre_infected       943\n",
    "nombre_sain          1955\n",
    "nombre_exposed        552\n",
    "nombre_recovered    16550\n",
    "Name: 167, dtype: int64"
   ]
  },
  {
   "cell_type": "markdown",
   "id": "dab7c599",
   "metadata": {},
   "source": [
    "nombre_infected       967\n",
    "nombre_sain          1911\n",
    "nombre_exposed        542\n",
    "nombre_recovered    16580\n",
    "Name: 168, dtype: int64"
   ]
  },
  {
   "cell_type": "markdown",
   "id": "f67b85b5",
   "metadata": {},
   "source": [
    "nombre_infected       966\n",
    "nombre_sain          1884\n",
    "nombre_exposed        514\n",
    "nombre_recovered    16636\n",
    "Name: 169, dtype: int64"
   ]
  },
  {
   "cell_type": "markdown",
   "id": "14c101df",
   "metadata": {},
   "source": [
    "nombre_infected       994\n",
    "nombre_sain          1878\n",
    "nombre_exposed        487\n",
    "nombre_recovered    16641\n",
    "Name: 170, dtype: int64"
   ]
  },
  {
   "cell_type": "markdown",
   "id": "8ab89b21",
   "metadata": {},
   "source": [
    "nombre_infected       978\n",
    "nombre_sain          1845\n",
    "nombre_exposed        495\n",
    "nombre_recovered    16682\n",
    "Name: 171, dtype: int64"
   ]
  },
  {
   "cell_type": "markdown",
   "id": "422c75fa",
   "metadata": {},
   "source": [
    "nombre_infected       953\n",
    "nombre_sain          1838\n",
    "nombre_exposed        484\n",
    "nombre_recovered    16725\n",
    "Name: 172, dtype: int64"
   ]
  },
  {
   "cell_type": "markdown",
   "id": "d8750e8e",
   "metadata": {},
   "source": [
    "nombre_infected       948\n",
    "nombre_sain          1824\n",
    "nombre_exposed        478\n",
    "nombre_recovered    16750\n",
    "Name: 173, dtype: int64"
   ]
  },
  {
   "cell_type": "markdown",
   "id": "81579be5",
   "metadata": {},
   "source": [
    "nombre_infected       926\n",
    "nombre_sain          1810\n",
    "nombre_exposed        474\n",
    "nombre_recovered    16790\n",
    "Name: 174, dtype: int64"
   ]
  },
  {
   "cell_type": "markdown",
   "id": "ae5378e4",
   "metadata": {},
   "source": [
    "nombre_infected       893\n",
    "nombre_sain          1808\n",
    "nombre_exposed        474\n",
    "nombre_recovered    16825\n",
    "Name: 175, dtype: int64"
   ]
  },
  {
   "cell_type": "markdown",
   "id": "f9cb0a36",
   "metadata": {},
   "source": [
    "nombre_infected       858\n",
    "nombre_sain          1800\n",
    "nombre_exposed        476\n",
    "nombre_recovered    16866\n",
    "Name: 176, dtype: int64"
   ]
  },
  {
   "cell_type": "markdown",
   "id": "6f3fed5d",
   "metadata": {},
   "source": [
    "nombre_infected       848\n",
    "nombre_sain          1810\n",
    "nombre_exposed        461\n",
    "nombre_recovered    16881\n",
    "Name: 177, dtype: int64"
   ]
  },
  {
   "cell_type": "markdown",
   "id": "4f69369d",
   "metadata": {},
   "source": [
    "nombre_infected       851\n",
    "nombre_sain          1797\n",
    "nombre_exposed        446\n",
    "nombre_recovered    16906\n",
    "Name: 178, dtype: int64"
   ]
  },
  {
   "cell_type": "markdown",
   "id": "72aa664a",
   "metadata": {},
   "source": [
    "nombre_infected       843\n",
    "nombre_sain          1794\n",
    "nombre_exposed        434\n",
    "nombre_recovered    16929\n",
    "Name: 179, dtype: int64"
   ]
  },
  {
   "cell_type": "markdown",
   "id": "d759aa7d",
   "metadata": {},
   "source": [
    "nombre_infected       802\n",
    "nombre_sain          1791\n",
    "nombre_exposed        429\n",
    "nombre_recovered    16978\n",
    "Name: 180, dtype: int64"
   ]
  },
  {
   "cell_type": "markdown",
   "id": "9729fe40",
   "metadata": {},
   "source": [
    "nombre_infected       791\n",
    "nombre_sain          1796\n",
    "nombre_exposed        401\n",
    "nombre_recovered    17012\n",
    "Name: 181, dtype: int64"
   ]
  },
  {
   "cell_type": "markdown",
   "id": "cf70b742",
   "metadata": {},
   "source": [
    "nombre_infected       784\n",
    "nombre_sain          1762\n",
    "nombre_exposed        416\n",
    "nombre_recovered    17038\n",
    "Name: 182, dtype: int64"
   ]
  },
  {
   "cell_type": "markdown",
   "id": "fd755abc",
   "metadata": {},
   "source": [
    "nombre_infected       766\n",
    "nombre_sain          1767\n",
    "nombre_exposed        407\n",
    "nombre_recovered    17060\n",
    "Name: 183, dtype: int64"
   ]
  },
  {
   "cell_type": "markdown",
   "id": "f15345ca",
   "metadata": {},
   "source": [
    "nombre_infected       759\n",
    "nombre_sain          1746\n",
    "nombre_exposed        398\n",
    "nombre_recovered    17097\n",
    "Name: 184, dtype: int64"
   ]
  },
  {
   "cell_type": "markdown",
   "id": "1b21ed9b",
   "metadata": {},
   "source": [
    "nombre_infected       715\n",
    "nombre_sain          1763\n",
    "nombre_exposed        385\n",
    "nombre_recovered    17137\n",
    "Name: 185, dtype: int64"
   ]
  },
  {
   "cell_type": "markdown",
   "id": "d8b56ca8",
   "metadata": {},
   "source": [
    "nombre_infected       717\n",
    "nombre_sain          1769\n",
    "nombre_exposed        367\n",
    "nombre_recovered    17147\n",
    "Name: 186, dtype: int64"
   ]
  },
  {
   "cell_type": "markdown",
   "id": "fbd089b4",
   "metadata": {},
   "source": [
    "nombre_infected       711\n",
    "nombre_sain          1747\n",
    "nombre_exposed        378\n",
    "nombre_recovered    17164\n",
    "Name: 187, dtype: int64"
   ]
  },
  {
   "cell_type": "markdown",
   "id": "c863e06e",
   "metadata": {},
   "source": [
    "nombre_infected       683\n",
    "nombre_sain          1729\n",
    "nombre_exposed        393\n",
    "nombre_recovered    17195\n",
    "Name: 188, dtype: int64"
   ]
  },
  {
   "cell_type": "markdown",
   "id": "0f8a692d",
   "metadata": {},
   "source": [
    "nombre_infected       704\n",
    "nombre_sain          1729\n",
    "nombre_exposed        372\n",
    "nombre_recovered    17195\n",
    "Name: 189, dtype: int64"
   ]
  },
  {
   "cell_type": "markdown",
   "id": "129aa6b4",
   "metadata": {},
   "source": [
    "nombre_infected       703\n",
    "nombre_sain          1738\n",
    "nombre_exposed        360\n",
    "nombre_recovered    17199\n",
    "Name: 190, dtype: int64"
   ]
  },
  {
   "cell_type": "markdown",
   "id": "f3815335",
   "metadata": {},
   "source": [
    "nombre_infected       698\n",
    "nombre_sain          1742\n",
    "nombre_exposed        349\n",
    "nombre_recovered    17211\n",
    "Name: 191, dtype: int64"
   ]
  },
  {
   "cell_type": "markdown",
   "id": "f3b4d7db",
   "metadata": {},
   "source": [
    "nombre_infected       690\n",
    "nombre_sain          1744\n",
    "nombre_exposed        335\n",
    "nombre_recovered    17231\n",
    "Name: 192, dtype: int64"
   ]
  },
  {
   "cell_type": "markdown",
   "id": "cc3960da",
   "metadata": {},
   "source": [
    "nombre_infected       655\n",
    "nombre_sain          1785\n",
    "nombre_exposed        319\n",
    "nombre_recovered    17241\n",
    "Name: 193, dtype: int64"
   ]
  },
  {
   "cell_type": "markdown",
   "id": "9f454682",
   "metadata": {},
   "source": [
    "nombre_infected       637\n",
    "nombre_sain          1807\n",
    "nombre_exposed        317\n",
    "nombre_recovered    17239\n",
    "Name: 194, dtype: int64"
   ]
  },
  {
   "cell_type": "markdown",
   "id": "7195b8d4",
   "metadata": {},
   "source": [
    "nombre_infected       633\n",
    "nombre_sain          1837\n",
    "nombre_exposed        316\n",
    "nombre_recovered    17214\n",
    "Name: 195, dtype: int64"
   ]
  },
  {
   "cell_type": "markdown",
   "id": "a88d5ef6",
   "metadata": {},
   "source": [
    "nombre_infected       616\n",
    "nombre_sain          1836\n",
    "nombre_exposed        330\n",
    "nombre_recovered    17218\n",
    "Name: 196, dtype: int64"
   ]
  },
  {
   "cell_type": "markdown",
   "id": "e83d3755",
   "metadata": {},
   "source": [
    "nombre_infected       610\n",
    "nombre_sain          1850\n",
    "nombre_exposed        319\n",
    "nombre_recovered    17221\n",
    "Name: 197, dtype: int64"
   ]
  },
  {
   "cell_type": "markdown",
   "id": "e7fdc27b",
   "metadata": {},
   "source": [
    "nombre_infected       603\n",
    "nombre_sain          1885\n",
    "nombre_exposed        309\n",
    "nombre_recovered    17203\n",
    "Name: 198, dtype: int64"
   ]
  },
  {
   "cell_type": "markdown",
   "id": "564ade3a",
   "metadata": {},
   "source": [
    "nombre_infected       573\n",
    "nombre_sain          1924\n",
    "nombre_exposed        305\n",
    "nombre_recovered    17198\n",
    "Name: 199, dtype: int64"
   ]
  },
  {
   "cell_type": "markdown",
   "id": "cb4cb373",
   "metadata": {},
   "source": [
    "nombre_infected       572\n",
    "nombre_sain          1946\n",
    "nombre_exposed        284\n",
    "nombre_recovered    17198\n",
    "Name: 200, dtype: int64"
   ]
  },
  {
   "cell_type": "markdown",
   "id": "6c048d0d",
   "metadata": {},
   "source": [
    "nombre_infected       564\n",
    "nombre_sain          1981\n",
    "nombre_exposed        297\n",
    "nombre_recovered    17158\n",
    "Name: 201, dtype: int64"
   ]
  },
  {
   "cell_type": "markdown",
   "id": "cc2502f7",
   "metadata": {},
   "source": [
    "nombre_infected       542\n",
    "nombre_sain          2003\n",
    "nombre_exposed        308\n",
    "nombre_recovered    17147\n",
    "Name: 202, dtype: int64"
   ]
  },
  {
   "cell_type": "markdown",
   "id": "044e7f66",
   "metadata": {},
   "source": [
    "nombre_infected       541\n",
    "nombre_sain          2013\n",
    "nombre_exposed        314\n",
    "nombre_recovered    17132\n",
    "Name: 203, dtype: int64"
   ]
  },
  {
   "cell_type": "markdown",
   "id": "28070220",
   "metadata": {},
   "source": [
    "nombre_infected       530\n",
    "nombre_sain          2026\n",
    "nombre_exposed        320\n",
    "nombre_recovered    17124\n",
    "Name: 204, dtype: int64"
   ]
  },
  {
   "cell_type": "markdown",
   "id": "cc299d49",
   "metadata": {},
   "source": [
    "nombre_infected       539\n",
    "nombre_sain          2039\n",
    "nombre_exposed        313\n",
    "nombre_recovered    17109\n",
    "Name: 205, dtype: int64"
   ]
  },
  {
   "cell_type": "markdown",
   "id": "40358e1d",
   "metadata": {},
   "source": [
    "nombre_infected       549\n",
    "nombre_sain          2069\n",
    "nombre_exposed        287\n",
    "nombre_recovered    17095\n",
    "Name: 206, dtype: int64"
   ]
  },
  {
   "cell_type": "markdown",
   "id": "a3f111d7",
   "metadata": {},
   "source": [
    "nombre_infected       537\n",
    "nombre_sain          2082\n",
    "nombre_exposed        293\n",
    "nombre_recovered    17088\n",
    "Name: 207, dtype: int64"
   ]
  },
  {
   "cell_type": "markdown",
   "id": "153e7a2e",
   "metadata": {},
   "source": [
    "nombre_infected       535\n",
    "nombre_sain          2094\n",
    "nombre_exposed        305\n",
    "nombre_recovered    17066\n",
    "Name: 208, dtype: int64"
   ]
  },
  {
   "cell_type": "markdown",
   "id": "5ee9c438",
   "metadata": {},
   "source": [
    "nombre_infected       531\n",
    "nombre_sain          2114\n",
    "nombre_exposed        293\n",
    "nombre_recovered    17062\n",
    "Name: 209, dtype: int64"
   ]
  },
  {
   "cell_type": "markdown",
   "id": "d8fcebb9",
   "metadata": {},
   "source": [
    "nombre_infected       537\n",
    "nombre_sain          2136\n",
    "nombre_exposed        282\n",
    "nombre_recovered    17045\n",
    "Name: 210, dtype: int64"
   ]
  },
  {
   "cell_type": "markdown",
   "id": "5a112bca",
   "metadata": {},
   "source": [
    "nombre_infected       540\n",
    "nombre_sain          2156\n",
    "nombre_exposed        265\n",
    "nombre_recovered    17039\n",
    "Name: 211, dtype: int64"
   ]
  },
  {
   "cell_type": "markdown",
   "id": "3df740a4",
   "metadata": {},
   "source": [
    "nombre_infected       531\n",
    "nombre_sain          2147\n",
    "nombre_exposed        287\n",
    "nombre_recovered    17035\n",
    "Name: 212, dtype: int64"
   ]
  },
  {
   "cell_type": "markdown",
   "id": "f7c62bdd",
   "metadata": {},
   "source": [
    "nombre_infected       519\n",
    "nombre_sain          2163\n",
    "nombre_exposed        304\n",
    "nombre_recovered    17014\n",
    "Name: 213, dtype: int64"
   ]
  },
  {
   "cell_type": "markdown",
   "id": "f691f751",
   "metadata": {},
   "source": [
    "nombre_infected       517\n",
    "nombre_sain          2178\n",
    "nombre_exposed        302\n",
    "nombre_recovered    17003\n",
    "Name: 214, dtype: int64"
   ]
  },
  {
   "cell_type": "markdown",
   "id": "4745ade5",
   "metadata": {},
   "source": [
    "nombre_infected       515\n",
    "nombre_sain          2166\n",
    "nombre_exposed        307\n",
    "nombre_recovered    17012\n",
    "Name: 215, dtype: int64"
   ]
  },
  {
   "cell_type": "markdown",
   "id": "a9a7276a",
   "metadata": {},
   "source": [
    "nombre_infected       497\n",
    "nombre_sain          2193\n",
    "nombre_exposed        314\n",
    "nombre_recovered    16996\n",
    "Name: 216, dtype: int64"
   ]
  },
  {
   "cell_type": "markdown",
   "id": "bec5373e",
   "metadata": {},
   "source": [
    "nombre_infected       500\n",
    "nombre_sain          2190\n",
    "nombre_exposed        308\n",
    "nombre_recovered    17002\n",
    "Name: 217, dtype: int64"
   ]
  },
  {
   "cell_type": "markdown",
   "id": "d1786118",
   "metadata": {},
   "source": [
    "nombre_infected       494\n",
    "nombre_sain          2197\n",
    "nombre_exposed        325\n",
    "nombre_recovered    16984\n",
    "Name: 218, dtype: int64"
   ]
  },
  {
   "cell_type": "markdown",
   "id": "f48d44b6",
   "metadata": {},
   "source": [
    "nombre_infected       491\n",
    "nombre_sain          2202\n",
    "nombre_exposed        325\n",
    "nombre_recovered    16982\n",
    "Name: 219, dtype: int64"
   ]
  },
  {
   "cell_type": "markdown",
   "id": "d655c92f",
   "metadata": {},
   "source": [
    "nombre_infected       495\n",
    "nombre_sain          2199\n",
    "nombre_exposed        340\n",
    "nombre_recovered    16966\n",
    "Name: 220, dtype: int64"
   ]
  },
  {
   "cell_type": "markdown",
   "id": "11af7905",
   "metadata": {},
   "source": [
    "nombre_infected       503\n",
    "nombre_sain          2219\n",
    "nombre_exposed        333\n",
    "nombre_recovered    16945\n",
    "Name: 221, dtype: int64"
   ]
  },
  {
   "cell_type": "markdown",
   "id": "6cc641bb",
   "metadata": {},
   "source": [
    "nombre_infected       523\n",
    "nombre_sain          2211\n",
    "nombre_exposed        333\n",
    "nombre_recovered    16933\n",
    "Name: 222, dtype: int64"
   ]
  },
  {
   "cell_type": "markdown",
   "id": "cfa2cf19",
   "metadata": {},
   "source": [
    "nombre_infected       544\n",
    "nombre_sain          2214\n",
    "nombre_exposed        333\n",
    "nombre_recovered    16909\n",
    "Name: 223, dtype: int64"
   ]
  },
  {
   "cell_type": "markdown",
   "id": "1f87be42",
   "metadata": {},
   "source": [
    "nombre_infected       544\n",
    "nombre_sain          2218\n",
    "nombre_exposed        345\n",
    "nombre_recovered    16893\n",
    "Name: 224, dtype: int64"
   ]
  },
  {
   "cell_type": "markdown",
   "id": "c9e1ac72",
   "metadata": {},
   "source": [
    "nombre_infected       538\n",
    "nombre_sain          2218\n",
    "nombre_exposed        365\n",
    "nombre_recovered    16879\n",
    "Name: 225, dtype: int64"
   ]
  },
  {
   "cell_type": "markdown",
   "id": "e0363976",
   "metadata": {},
   "source": [
    "nombre_infected       551\n",
    "nombre_sain          2257\n",
    "nombre_exposed        363\n",
    "nombre_recovered    16829\n",
    "Name: 226, dtype: int64"
   ]
  },
  {
   "cell_type": "markdown",
   "id": "4b7d58d4",
   "metadata": {},
   "source": [
    "nombre_infected       565\n",
    "nombre_sain          2270\n",
    "nombre_exposed        358\n",
    "nombre_recovered    16807\n",
    "Name: 227, dtype: int64"
   ]
  },
  {
   "cell_type": "markdown",
   "id": "aa8dd086",
   "metadata": {},
   "source": [
    "nombre_infected       580\n",
    "nombre_sain          2297\n",
    "nombre_exposed        356\n",
    "nombre_recovered    16767\n",
    "Name: 228, dtype: int64"
   ]
  },
  {
   "cell_type": "markdown",
   "id": "6a587b9e",
   "metadata": {},
   "source": [
    "nombre_infected       584\n",
    "nombre_sain          2303\n",
    "nombre_exposed        377\n",
    "nombre_recovered    16736\n",
    "Name: 229, dtype: int64"
   ]
  },
  {
   "cell_type": "markdown",
   "id": "a433f233",
   "metadata": {},
   "source": [
    "nombre_infected       572\n",
    "nombre_sain          2325\n",
    "nombre_exposed        399\n",
    "nombre_recovered    16704\n",
    "Name: 230, dtype: int64"
   ]
  },
  {
   "cell_type": "markdown",
   "id": "2119cac8",
   "metadata": {},
   "source": [
    "nombre_infected       563\n",
    "nombre_sain          2340\n",
    "nombre_exposed        422\n",
    "nombre_recovered    16675\n",
    "Name: 231, dtype: int64"
   ]
  },
  {
   "cell_type": "markdown",
   "id": "bdf6efda",
   "metadata": {},
   "source": [
    "nombre_infected       588\n",
    "nombre_sain          2378\n",
    "nombre_exposed        405\n",
    "nombre_recovered    16629\n",
    "Name: 232, dtype: int64"
   ]
  },
  {
   "cell_type": "markdown",
   "id": "46fd1968",
   "metadata": {},
   "source": [
    "nombre_infected       602\n",
    "nombre_sain          2390\n",
    "nombre_exposed        422\n",
    "nombre_recovered    16586\n",
    "Name: 233, dtype: int64"
   ]
  },
  {
   "cell_type": "markdown",
   "id": "ec687b1f",
   "metadata": {},
   "source": [
    "nombre_infected       602\n",
    "nombre_sain          2411\n",
    "nombre_exposed        430\n",
    "nombre_recovered    16557\n",
    "Name: 234, dtype: int64"
   ]
  },
  {
   "cell_type": "markdown",
   "id": "7f1719aa",
   "metadata": {},
   "source": [
    "nombre_infected       596\n",
    "nombre_sain          2436\n",
    "nombre_exposed        441\n",
    "nombre_recovered    16527\n",
    "Name: 235, dtype: int64"
   ]
  },
  {
   "cell_type": "markdown",
   "id": "7ae42ee6",
   "metadata": {},
   "source": [
    "nombre_infected       614\n",
    "nombre_sain          2470\n",
    "nombre_exposed        447\n",
    "nombre_recovered    16469\n",
    "Name: 236, dtype: int64"
   ]
  },
  {
   "cell_type": "markdown",
   "id": "a9561e41",
   "metadata": {},
   "source": [
    "nombre_infected       624\n",
    "nombre_sain          2501\n",
    "nombre_exposed        439\n",
    "nombre_recovered    16436\n",
    "Name: 237, dtype: int64"
   ]
  },
  {
   "cell_type": "markdown",
   "id": "6fd42cbe",
   "metadata": {},
   "source": [
    "nombre_infected       650\n",
    "nombre_sain          2524\n",
    "nombre_exposed        422\n",
    "nombre_recovered    16404\n",
    "Name: 238, dtype: int64"
   ]
  },
  {
   "cell_type": "markdown",
   "id": "1a412bfb",
   "metadata": {},
   "source": [
    "nombre_infected       686\n",
    "nombre_sain          2525\n",
    "nombre_exposed        439\n",
    "nombre_recovered    16350\n",
    "Name: 239, dtype: int64"
   ]
  },
  {
   "cell_type": "markdown",
   "id": "7452d768",
   "metadata": {},
   "source": [
    "nombre_infected       697\n",
    "nombre_sain          2554\n",
    "nombre_exposed        444\n",
    "nombre_recovered    16305\n",
    "Name: 240, dtype: int64"
   ]
  },
  {
   "cell_type": "markdown",
   "id": "866ae60c",
   "metadata": {},
   "source": [
    "nombre_infected       710\n",
    "nombre_sain          2572\n",
    "nombre_exposed        458\n",
    "nombre_recovered    16260\n",
    "Name: 241, dtype: int64"
   ]
  },
  {
   "cell_type": "markdown",
   "id": "6dc99d5f",
   "metadata": {},
   "source": [
    "nombre_infected       710\n",
    "nombre_sain          2580\n",
    "nombre_exposed        481\n",
    "nombre_recovered    16229\n",
    "Name: 242, dtype: int64"
   ]
  },
  {
   "cell_type": "markdown",
   "id": "90580086",
   "metadata": {},
   "source": [
    "nombre_infected       718\n",
    "nombre_sain          2577\n",
    "nombre_exposed        514\n",
    "nombre_recovered    16191\n",
    "Name: 243, dtype: int64"
   ]
  },
  {
   "cell_type": "markdown",
   "id": "f6a355d1",
   "metadata": {},
   "source": [
    "nombre_infected       742\n",
    "nombre_sain          2589\n",
    "nombre_exposed        516\n",
    "nombre_recovered    16153\n",
    "Name: 244, dtype: int64"
   ]
  },
  {
   "cell_type": "markdown",
   "id": "b067f8b8",
   "metadata": {},
   "source": [
    "nombre_infected       762\n",
    "nombre_sain          2571\n",
    "nombre_exposed        556\n",
    "nombre_recovered    16111\n",
    "Name: 245, dtype: int64"
   ]
  },
  {
   "cell_type": "markdown",
   "id": "6ae47b02",
   "metadata": {},
   "source": [
    "nombre_infected       789\n",
    "nombre_sain          2554\n",
    "nombre_exposed        554\n",
    "nombre_recovered    16103\n",
    "Name: 246, dtype: int64"
   ]
  },
  {
   "cell_type": "markdown",
   "id": "386e8083",
   "metadata": {},
   "source": [
    "nombre_infected       832\n",
    "nombre_sain          2547\n",
    "nombre_exposed        542\n",
    "nombre_recovered    16079\n",
    "Name: 247, dtype: int64"
   ]
  },
  {
   "cell_type": "markdown",
   "id": "b8bfddb1",
   "metadata": {},
   "source": [
    "nombre_infected       840\n",
    "nombre_sain          2491\n",
    "nombre_exposed        568\n",
    "nombre_recovered    16101\n",
    "Name: 248, dtype: int64"
   ]
  },
  {
   "cell_type": "markdown",
   "id": "750c37c1",
   "metadata": {},
   "source": [
    "nombre_infected       850\n",
    "nombre_sain          2463\n",
    "nombre_exposed        573\n",
    "nombre_recovered    16114\n",
    "Name: 249, dtype: int64"
   ]
  },
  {
   "cell_type": "markdown",
   "id": "214b697e",
   "metadata": {},
   "source": [
    "nombre_infected       876\n",
    "nombre_sain          2440\n",
    "nombre_exposed        555\n",
    "nombre_recovered    16129\n",
    "Name: 250, dtype: int64"
   ]
  },
  {
   "cell_type": "markdown",
   "id": "136fcc07",
   "metadata": {},
   "source": [
    "nombre_infected       889\n",
    "nombre_sain          2395\n",
    "nombre_exposed        579\n",
    "nombre_recovered    16137\n",
    "Name: 251, dtype: int64"
   ]
  },
  {
   "cell_type": "markdown",
   "id": "7c5a7582",
   "metadata": {},
   "source": [
    "nombre_infected       913\n",
    "nombre_sain          2353\n",
    "nombre_exposed        579\n",
    "nombre_recovered    16155\n",
    "Name: 252, dtype: int64"
   ]
  },
  {
   "cell_type": "markdown",
   "id": "96f45919",
   "metadata": {},
   "source": [
    "nombre_infected       938\n",
    "nombre_sain          2335\n",
    "nombre_exposed        575\n",
    "nombre_recovered    16152\n",
    "Name: 253, dtype: int64"
   ]
  },
  {
   "cell_type": "markdown",
   "id": "04985004",
   "metadata": {},
   "source": [
    "nombre_infected       949\n",
    "nombre_sain          2291\n",
    "nombre_exposed        572\n",
    "nombre_recovered    16188\n",
    "Name: 254, dtype: int64"
   ]
  },
  {
   "cell_type": "markdown",
   "id": "0d1d7352",
   "metadata": {},
   "source": [
    "nombre_infected       960\n",
    "nombre_sain          2223\n",
    "nombre_exposed        594\n",
    "nombre_recovered    16223\n",
    "Name: 255, dtype: int64"
   ]
  },
  {
   "cell_type": "markdown",
   "id": "50663c92",
   "metadata": {},
   "source": [
    "nombre_infected       975\n",
    "nombre_sain          2172\n",
    "nombre_exposed        586\n",
    "nombre_recovered    16267\n",
    "Name: 256, dtype: int64"
   ]
  },
  {
   "cell_type": "markdown",
   "id": "08e3148c",
   "metadata": {},
   "source": [
    "nombre_infected       995\n",
    "nombre_sain          2131\n",
    "nombre_exposed        581\n",
    "nombre_recovered    16293\n",
    "Name: 257, dtype: int64"
   ]
  },
  {
   "cell_type": "markdown",
   "id": "6916aec6",
   "metadata": {},
   "source": [
    "nombre_infected       988\n",
    "nombre_sain          2080\n",
    "nombre_exposed        584\n",
    "nombre_recovered    16348\n",
    "Name: 258, dtype: int64"
   ]
  },
  {
   "cell_type": "markdown",
   "id": "7f9c7153",
   "metadata": {},
   "source": [
    "nombre_infected       973\n",
    "nombre_sain          2056\n",
    "nombre_exposed        583\n",
    "nombre_recovered    16388\n",
    "Name: 259, dtype: int64"
   ]
  },
  {
   "cell_type": "markdown",
   "id": "df1e84b8",
   "metadata": {},
   "source": [
    "nombre_infected      1011\n",
    "nombre_sain          2027\n",
    "nombre_exposed        556\n",
    "nombre_recovered    16406\n",
    "Name: 260, dtype: int64"
   ]
  },
  {
   "cell_type": "markdown",
   "id": "3b594689",
   "metadata": {},
   "source": [
    "nombre_infected      1009\n",
    "nombre_sain          1988\n",
    "nombre_exposed        545\n",
    "nombre_recovered    16458\n",
    "Name: 261, dtype: int64"
   ]
  },
  {
   "cell_type": "markdown",
   "id": "ace53f5d",
   "metadata": {},
   "source": [
    "nombre_infected      1008\n",
    "nombre_sain          1970\n",
    "nombre_exposed        539\n",
    "nombre_recovered    16483\n",
    "Name: 262, dtype: int64"
   ]
  },
  {
   "cell_type": "markdown",
   "id": "a703111f",
   "metadata": {},
   "source": [
    "nombre_infected      1019\n",
    "nombre_sain          1926\n",
    "nombre_exposed        538\n",
    "nombre_recovered    16517\n",
    "Name: 263, dtype: int64"
   ]
  },
  {
   "cell_type": "markdown",
   "id": "95509206",
   "metadata": {},
   "source": [
    "nombre_infected       998\n",
    "nombre_sain          1900\n",
    "nombre_exposed        546\n",
    "nombre_recovered    16556\n",
    "Name: 264, dtype: int64"
   ]
  },
  {
   "cell_type": "markdown",
   "id": "6b94e492",
   "metadata": {},
   "source": [
    "nombre_infected      1003\n",
    "nombre_sain          1873\n",
    "nombre_exposed        543\n",
    "nombre_recovered    16581\n",
    "Name: 265, dtype: int64"
   ]
  },
  {
   "cell_type": "markdown",
   "id": "2d972778",
   "metadata": {},
   "source": [
    "nombre_infected      1013\n",
    "nombre_sain          1863\n",
    "nombre_exposed        531\n",
    "nombre_recovered    16593\n",
    "Name: 266, dtype: int64"
   ]
  },
  {
   "cell_type": "markdown",
   "id": "3574fdff",
   "metadata": {},
   "source": [
    "nombre_infected      1003\n",
    "nombre_sain          1812\n",
    "nombre_exposed        536\n",
    "nombre_recovered    16649\n",
    "Name: 267, dtype: int64"
   ]
  },
  {
   "cell_type": "markdown",
   "id": "2d787ae0",
   "metadata": {},
   "source": [
    "nombre_infected       997\n",
    "nombre_sain          1792\n",
    "nombre_exposed        535\n",
    "nombre_recovered    16676\n",
    "Name: 268, dtype: int64"
   ]
  },
  {
   "cell_type": "markdown",
   "id": "73fbd9d9",
   "metadata": {},
   "source": [
    "nombre_infected       995\n",
    "nombre_sain          1791\n",
    "nombre_exposed        511\n",
    "nombre_recovered    16703\n",
    "Name: 269, dtype: int64"
   ]
  },
  {
   "cell_type": "markdown",
   "id": "25764f0d",
   "metadata": {},
   "source": [
    "nombre_infected       988\n",
    "nombre_sain          1744\n",
    "nombre_exposed        515\n",
    "nombre_recovered    16753\n",
    "Name: 270, dtype: int64"
   ]
  },
  {
   "cell_type": "markdown",
   "id": "84d1f93c",
   "metadata": {},
   "source": [
    "nombre_infected       966\n",
    "nombre_sain          1729\n",
    "nombre_exposed        512\n",
    "nombre_recovered    16793\n",
    "Name: 271, dtype: int64"
   ]
  },
  {
   "cell_type": "markdown",
   "id": "2b2a7da6",
   "metadata": {},
   "source": [
    "nombre_infected       942\n",
    "nombre_sain          1732\n",
    "nombre_exposed        500\n",
    "nombre_recovered    16826\n",
    "Name: 272, dtype: int64"
   ]
  },
  {
   "cell_type": "markdown",
   "id": "9f27c9a7",
   "metadata": {},
   "source": [
    "nombre_infected       927\n",
    "nombre_sain          1734\n",
    "nombre_exposed        487\n",
    "nombre_recovered    16852\n",
    "Name: 273, dtype: int64"
   ]
  },
  {
   "cell_type": "markdown",
   "id": "620760fa",
   "metadata": {},
   "source": [
    "nombre_infected       936\n",
    "nombre_sain          1743\n",
    "nombre_exposed        478\n",
    "nombre_recovered    16843\n",
    "Name: 274, dtype: int64"
   ]
  },
  {
   "cell_type": "markdown",
   "id": "be1085fb",
   "metadata": {},
   "source": [
    "nombre_infected       925\n",
    "nombre_sain          1731\n",
    "nombre_exposed        460\n",
    "nombre_recovered    16884\n",
    "Name: 275, dtype: int64"
   ]
  },
  {
   "cell_type": "markdown",
   "id": "71cf3d9e",
   "metadata": {},
   "source": [
    "nombre_infected       906\n",
    "nombre_sain          1726\n",
    "nombre_exposed        461\n",
    "nombre_recovered    16907\n",
    "Name: 276, dtype: int64"
   ]
  },
  {
   "cell_type": "markdown",
   "id": "908fc154",
   "metadata": {},
   "source": [
    "nombre_infected       895\n",
    "nombre_sain          1726\n",
    "nombre_exposed        448\n",
    "nombre_recovered    16931\n",
    "Name: 277, dtype: int64"
   ]
  },
  {
   "cell_type": "markdown",
   "id": "dfa939f8",
   "metadata": {},
   "source": [
    "nombre_infected       867\n",
    "nombre_sain          1736\n",
    "nombre_exposed        445\n",
    "nombre_recovered    16952\n",
    "Name: 278, dtype: int64"
   ]
  },
  {
   "cell_type": "markdown",
   "id": "44b189e3",
   "metadata": {},
   "source": [
    "nombre_infected       842\n",
    "nombre_sain          1751\n",
    "nombre_exposed        439\n",
    "nombre_recovered    16968\n",
    "Name: 279, dtype: int64"
   ]
  },
  {
   "cell_type": "markdown",
   "id": "d42b51bf",
   "metadata": {},
   "source": [
    "nombre_infected       847\n",
    "nombre_sain          1771\n",
    "nombre_exposed        407\n",
    "nombre_recovered    16975\n",
    "Name: 280, dtype: int64"
   ]
  },
  {
   "cell_type": "markdown",
   "id": "c1830404",
   "metadata": {},
   "source": [
    "nombre_infected       851\n",
    "nombre_sain          1784\n",
    "nombre_exposed        404\n",
    "nombre_recovered    16961\n",
    "Name: 281, dtype: int64"
   ]
  },
  {
   "cell_type": "markdown",
   "id": "447bb29f",
   "metadata": {},
   "source": [
    "nombre_infected       846\n",
    "nombre_sain          1821\n",
    "nombre_exposed        384\n",
    "nombre_recovered    16949\n",
    "Name: 282, dtype: int64"
   ]
  },
  {
   "cell_type": "markdown",
   "id": "37391727",
   "metadata": {},
   "source": [
    "nombre_infected       853\n",
    "nombre_sain          1826\n",
    "nombre_exposed        376\n",
    "nombre_recovered    16945\n",
    "Name: 283, dtype: int64"
   ]
  },
  {
   "cell_type": "markdown",
   "id": "84b1d892",
   "metadata": {},
   "source": [
    "nombre_infected       814\n",
    "nombre_sain          1841\n",
    "nombre_exposed        391\n",
    "nombre_recovered    16954\n",
    "Name: 284, dtype: int64"
   ]
  },
  {
   "cell_type": "markdown",
   "id": "7bf0b8ae",
   "metadata": {},
   "source": [
    "nombre_infected       793\n",
    "nombre_sain          1877\n",
    "nombre_exposed        391\n",
    "nombre_recovered    16939\n",
    "Name: 285, dtype: int64"
   ]
  },
  {
   "cell_type": "markdown",
   "id": "b7850e8c",
   "metadata": {},
   "source": [
    "nombre_infected       761\n",
    "nombre_sain          1869\n",
    "nombre_exposed        413\n",
    "nombre_recovered    16957\n",
    "Name: 286, dtype: int64"
   ]
  },
  {
   "cell_type": "markdown",
   "id": "a7908b27",
   "metadata": {},
   "source": [
    "nombre_infected       769\n",
    "nombre_sain          1877\n",
    "nombre_exposed        408\n",
    "nombre_recovered    16946\n",
    "Name: 287, dtype: int64"
   ]
  },
  {
   "cell_type": "markdown",
   "id": "0798bfad",
   "metadata": {},
   "source": [
    "nombre_infected       774\n",
    "nombre_sain          1906\n",
    "nombre_exposed        392\n",
    "nombre_recovered    16928\n",
    "Name: 288, dtype: int64"
   ]
  },
  {
   "cell_type": "markdown",
   "id": "0239e72d",
   "metadata": {},
   "source": [
    "nombre_infected       771\n",
    "nombre_sain          1929\n",
    "nombre_exposed        391\n",
    "nombre_recovered    16909\n",
    "Name: 289, dtype: int64"
   ]
  },
  {
   "cell_type": "markdown",
   "id": "ea0dc7b7",
   "metadata": {},
   "source": [
    "nombre_infected       753\n",
    "nombre_sain          1925\n",
    "nombre_exposed        406\n",
    "nombre_recovered    16916\n",
    "Name: 290, dtype: int64"
   ]
  },
  {
   "cell_type": "markdown",
   "id": "f1deb439",
   "metadata": {},
   "source": [
    "nombre_infected       726\n",
    "nombre_sain          1950\n",
    "nombre_exposed        403\n",
    "nombre_recovered    16921\n",
    "Name: 291, dtype: int64"
   ]
  },
  {
   "cell_type": "markdown",
   "id": "e0b445fb",
   "metadata": {},
   "source": [
    "nombre_infected       725\n",
    "nombre_sain          1960\n",
    "nombre_exposed        393\n",
    "nombre_recovered    16922\n",
    "Name: 292, dtype: int64"
   ]
  },
  {
   "cell_type": "markdown",
   "id": "b4866a17",
   "metadata": {},
   "source": [
    "nombre_infected       728\n",
    "nombre_sain          1981\n",
    "nombre_exposed        381\n",
    "nombre_recovered    16910\n",
    "Name: 293, dtype: int64"
   ]
  },
  {
   "cell_type": "markdown",
   "id": "291af241",
   "metadata": {},
   "source": [
    "nombre_infected       734\n",
    "nombre_sain          1989\n",
    "nombre_exposed        378\n",
    "nombre_recovered    16899\n",
    "Name: 294, dtype: int64"
   ]
  },
  {
   "cell_type": "markdown",
   "id": "23c29dda",
   "metadata": {},
   "source": [
    "nombre_infected       706\n",
    "nombre_sain          2019\n",
    "nombre_exposed        377\n",
    "nombre_recovered    16898\n",
    "Name: 295, dtype: int64"
   ]
  },
  {
   "cell_type": "markdown",
   "id": "52841779",
   "metadata": {},
   "source": [
    "nombre_infected       710\n",
    "nombre_sain          2031\n",
    "nombre_exposed        362\n",
    "nombre_recovered    16897\n",
    "Name: 296, dtype: int64"
   ]
  },
  {
   "cell_type": "markdown",
   "id": "b0d3a07f",
   "metadata": {},
   "source": [
    "nombre_infected       709\n",
    "nombre_sain          2035\n",
    "nombre_exposed        358\n",
    "nombre_recovered    16898\n",
    "Name: 297, dtype: int64"
   ]
  },
  {
   "cell_type": "markdown",
   "id": "3448037c",
   "metadata": {},
   "source": [
    "nombre_infected       681\n",
    "nombre_sain          2080\n",
    "nombre_exposed        346\n",
    "nombre_recovered    16893\n",
    "Name: 298, dtype: int64"
   ]
  },
  {
   "cell_type": "markdown",
   "id": "b1d77ff4",
   "metadata": {},
   "source": [
    "nombre_infected       674\n",
    "nombre_sain          2095\n",
    "nombre_exposed        342\n",
    "nombre_recovered    16889\n",
    "Name: 299, dtype: int64"
   ]
  },
  {
   "cell_type": "markdown",
   "id": "800014b7",
   "metadata": {},
   "source": [
    "nombre_infected       676\n",
    "nombre_sain          2122\n",
    "nombre_exposed        335\n",
    "nombre_recovered    16867\n",
    "Name: 300, dtype: int64"
   ]
  },
  {
   "cell_type": "markdown",
   "id": "f6760b69",
   "metadata": {},
   "source": [
    "nombre_infected       650\n",
    "nombre_sain          2122\n",
    "nombre_exposed        369\n",
    "nombre_recovered    16859\n",
    "Name: 301, dtype: int64"
   ]
  },
  {
   "cell_type": "markdown",
   "id": "f5047ae1",
   "metadata": {},
   "source": [
    "nombre_infected       651\n",
    "nombre_sain          2129\n",
    "nombre_exposed        375\n",
    "nombre_recovered    16845\n",
    "Name: 302, dtype: int64"
   ]
  },
  {
   "cell_type": "markdown",
   "id": "d356c8fd",
   "metadata": {},
   "source": [
    "nombre_infected       667\n",
    "nombre_sain          2162\n",
    "nombre_exposed        365\n",
    "nombre_recovered    16806\n",
    "Name: 303, dtype: int64"
   ]
  },
  {
   "cell_type": "markdown",
   "id": "3e9bf37a",
   "metadata": {},
   "source": [
    "nombre_infected       659\n",
    "nombre_sain          2202\n",
    "nombre_exposed        349\n",
    "nombre_recovered    16790\n",
    "Name: 304, dtype: int64"
   ]
  },
  {
   "cell_type": "markdown",
   "id": "9fd113ad",
   "metadata": {},
   "source": [
    "nombre_infected       671\n",
    "nombre_sain          2225\n",
    "nombre_exposed        330\n",
    "nombre_recovered    16774\n",
    "Name: 305, dtype: int64"
   ]
  },
  {
   "cell_type": "markdown",
   "id": "8beb64bc",
   "metadata": {},
   "source": [
    "nombre_infected       650\n",
    "nombre_sain          2248\n",
    "nombre_exposed        346\n",
    "nombre_recovered    16756\n",
    "Name: 306, dtype: int64"
   ]
  },
  {
   "cell_type": "markdown",
   "id": "01acb10c",
   "metadata": {},
   "source": [
    "nombre_infected       633\n",
    "nombre_sain          2243\n",
    "nombre_exposed        359\n",
    "nombre_recovered    16765\n",
    "Name: 307, dtype: int64"
   ]
  },
  {
   "cell_type": "markdown",
   "id": "36d21d3d",
   "metadata": {},
   "source": [
    "nombre_infected       636\n",
    "nombre_sain          2243\n",
    "nombre_exposed        369\n",
    "nombre_recovered    16752\n",
    "Name: 308, dtype: int64"
   ]
  },
  {
   "cell_type": "markdown",
   "id": "e3b410ef",
   "metadata": {},
   "source": [
    "nombre_infected       622\n",
    "nombre_sain          2253\n",
    "nombre_exposed        385\n",
    "nombre_recovered    16740\n",
    "Name: 309, dtype: int64"
   ]
  },
  {
   "cell_type": "markdown",
   "id": "4c16f1a8",
   "metadata": {},
   "source": [
    "nombre_infected       631\n",
    "nombre_sain          2254\n",
    "nombre_exposed        395\n",
    "nombre_recovered    16720\n",
    "Name: 310, dtype: int64"
   ]
  },
  {
   "cell_type": "markdown",
   "id": "f66abdfc",
   "metadata": {},
   "source": [
    "nombre_infected       621\n",
    "nombre_sain          2247\n",
    "nombre_exposed        417\n",
    "nombre_recovered    16715\n",
    "Name: 311, dtype: int64"
   ]
  },
  {
   "cell_type": "markdown",
   "id": "dd837264",
   "metadata": {},
   "source": [
    "nombre_infected       636\n",
    "nombre_sain          2274\n",
    "nombre_exposed        397\n",
    "nombre_recovered    16693\n",
    "Name: 312, dtype: int64"
   ]
  },
  {
   "cell_type": "markdown",
   "id": "a166743f",
   "metadata": {},
   "source": [
    "nombre_infected       609\n",
    "nombre_sain          2287\n",
    "nombre_exposed        408\n",
    "nombre_recovered    16696\n",
    "Name: 313, dtype: int64"
   ]
  },
  {
   "cell_type": "markdown",
   "id": "1d27b724",
   "metadata": {},
   "source": [
    "nombre_infected       622\n",
    "nombre_sain          2279\n",
    "nombre_exposed        410\n",
    "nombre_recovered    16689\n",
    "Name: 314, dtype: int64"
   ]
  },
  {
   "cell_type": "markdown",
   "id": "95cced12",
   "metadata": {},
   "source": [
    "nombre_infected       620\n",
    "nombre_sain          2294\n",
    "nombre_exposed        407\n",
    "nombre_recovered    16679\n",
    "Name: 315, dtype: int64"
   ]
  },
  {
   "cell_type": "markdown",
   "id": "a3647801",
   "metadata": {},
   "source": [
    "nombre_infected       609\n",
    "nombre_sain          2313\n",
    "nombre_exposed        412\n",
    "nombre_recovered    16666\n",
    "Name: 316, dtype: int64"
   ]
  },
  {
   "cell_type": "markdown",
   "id": "43ac7552",
   "metadata": {},
   "source": [
    "nombre_infected       635\n",
    "nombre_sain          2337\n",
    "nombre_exposed        401\n",
    "nombre_recovered    16627\n",
    "Name: 317, dtype: int64"
   ]
  },
  {
   "cell_type": "markdown",
   "id": "8bc4bdf2",
   "metadata": {},
   "source": [
    "nombre_infected       630\n",
    "nombre_sain          2377\n",
    "nombre_exposed        395\n",
    "nombre_recovered    16598\n",
    "Name: 318, dtype: int64"
   ]
  },
  {
   "cell_type": "markdown",
   "id": "e8fc7a5f",
   "metadata": {},
   "source": [
    "nombre_infected       623\n",
    "nombre_sain          2404\n",
    "nombre_exposed        384\n",
    "nombre_recovered    16589\n",
    "Name: 319, dtype: int64"
   ]
  },
  {
   "cell_type": "markdown",
   "id": "6962151f",
   "metadata": {},
   "source": [
    "nombre_infected       640\n",
    "nombre_sain          2442\n",
    "nombre_exposed        370\n",
    "nombre_recovered    16548\n",
    "Name: 320, dtype: int64"
   ]
  },
  {
   "cell_type": "markdown",
   "id": "db414b96",
   "metadata": {},
   "source": [
    "nombre_infected       616\n",
    "nombre_sain          2439\n",
    "nombre_exposed        386\n",
    "nombre_recovered    16559\n",
    "Name: 321, dtype: int64"
   ]
  },
  {
   "cell_type": "markdown",
   "id": "1e6e0a4f",
   "metadata": {},
   "source": [
    "nombre_infected       611\n",
    "nombre_sain          2473\n",
    "nombre_exposed        393\n",
    "nombre_recovered    16523\n",
    "Name: 322, dtype: int64"
   ]
  },
  {
   "cell_type": "markdown",
   "id": "977a71c6",
   "metadata": {},
   "source": [
    "nombre_infected       617\n",
    "nombre_sain          2505\n",
    "nombre_exposed        401\n",
    "nombre_recovered    16477\n",
    "Name: 323, dtype: int64"
   ]
  },
  {
   "cell_type": "markdown",
   "id": "38c8416c",
   "metadata": {},
   "source": [
    "nombre_infected       622\n",
    "nombre_sain          2515\n",
    "nombre_exposed        413\n",
    "nombre_recovered    16450\n",
    "Name: 324, dtype: int64"
   ]
  },
  {
   "cell_type": "markdown",
   "id": "bbfd2f0c",
   "metadata": {},
   "source": [
    "nombre_infected       617\n",
    "nombre_sain          2525\n",
    "nombre_exposed        440\n",
    "nombre_recovered    16418\n",
    "Name: 325, dtype: int64"
   ]
  },
  {
   "cell_type": "markdown",
   "id": "5a497f8b",
   "metadata": {},
   "source": [
    "nombre_infected       630\n",
    "nombre_sain          2538\n",
    "nombre_exposed        435\n",
    "nombre_recovered    16397\n",
    "Name: 326, dtype: int64"
   ]
  },
  {
   "cell_type": "markdown",
   "id": "085de03d",
   "metadata": {},
   "source": [
    "nombre_infected       633\n",
    "nombre_sain          2546\n",
    "nombre_exposed        441\n",
    "nombre_recovered    16380\n",
    "Name: 327, dtype: int64"
   ]
  },
  {
   "cell_type": "markdown",
   "id": "2b8e0e26",
   "metadata": {},
   "source": [
    "nombre_infected       659\n",
    "nombre_sain          2540\n",
    "nombre_exposed        442\n",
    "nombre_recovered    16359\n",
    "Name: 328, dtype: int64"
   ]
  },
  {
   "cell_type": "markdown",
   "id": "d21e32d5",
   "metadata": {},
   "source": [
    "nombre_infected       663\n",
    "nombre_sain          2549\n",
    "nombre_exposed        451\n",
    "nombre_recovered    16337\n",
    "Name: 329, dtype: int64"
   ]
  },
  {
   "cell_type": "markdown",
   "id": "cff4475b",
   "metadata": {},
   "source": [
    "nombre_infected       665\n",
    "nombre_sain          2564\n",
    "nombre_exposed        446\n",
    "nombre_recovered    16325\n",
    "Name: 330, dtype: int64"
   ]
  },
  {
   "cell_type": "markdown",
   "id": "628c855e",
   "metadata": {},
   "source": [
    "nombre_infected       676\n",
    "nombre_sain          2560\n",
    "nombre_exposed        449\n",
    "nombre_recovered    16315\n",
    "Name: 331, dtype: int64"
   ]
  },
  {
   "cell_type": "markdown",
   "id": "eb302714",
   "metadata": {},
   "source": [
    "nombre_infected       670\n",
    "nombre_sain          2548\n",
    "nombre_exposed        451\n",
    "nombre_recovered    16331\n",
    "Name: 332, dtype: int64"
   ]
  },
  {
   "cell_type": "markdown",
   "id": "02795a78",
   "metadata": {},
   "source": [
    "nombre_infected       674\n",
    "nombre_sain          2584\n",
    "nombre_exposed        429\n",
    "nombre_recovered    16313\n",
    "Name: 333, dtype: int64"
   ]
  },
  {
   "cell_type": "markdown",
   "id": "bb112aa3",
   "metadata": {},
   "source": [
    "nombre_infected       657\n",
    "nombre_sain          2581\n",
    "nombre_exposed        453\n",
    "nombre_recovered    16309\n",
    "Name: 334, dtype: int64"
   ]
  },
  {
   "cell_type": "markdown",
   "id": "9c8f46f3",
   "metadata": {},
   "source": [
    "nombre_infected       665\n",
    "nombre_sain          2616\n",
    "nombre_exposed        461\n",
    "nombre_recovered    16258\n",
    "Name: 335, dtype: int64"
   ]
  },
  {
   "cell_type": "markdown",
   "id": "4c7596e4",
   "metadata": {},
   "source": [
    "nombre_infected       698\n",
    "nombre_sain          2616\n",
    "nombre_exposed        454\n",
    "nombre_recovered    16232\n",
    "Name: 336, dtype: int64"
   ]
  },
  {
   "cell_type": "markdown",
   "id": "314a2299",
   "metadata": {},
   "source": [
    "nombre_infected       716\n",
    "nombre_sain          2603\n",
    "nombre_exposed        478\n",
    "nombre_recovered    16203\n",
    "Name: 337, dtype: int64"
   ]
  },
  {
   "cell_type": "markdown",
   "id": "ab5e9724",
   "metadata": {},
   "source": [
    "nombre_infected       732\n",
    "nombre_sain          2605\n",
    "nombre_exposed        468\n",
    "nombre_recovered    16195\n",
    "Name: 338, dtype: int64"
   ]
  },
  {
   "cell_type": "markdown",
   "id": "9a0f85e1",
   "metadata": {},
   "source": [
    "nombre_infected       708\n",
    "nombre_sain          2628\n",
    "nombre_exposed        474\n",
    "nombre_recovered    16190\n",
    "Name: 339, dtype: int64"
   ]
  },
  {
   "cell_type": "markdown",
   "id": "17a3018a",
   "metadata": {},
   "source": [
    "nombre_infected       729\n",
    "nombre_sain          2638\n",
    "nombre_exposed        468\n",
    "nombre_recovered    16165\n",
    "Name: 340, dtype: int64"
   ]
  },
  {
   "cell_type": "markdown",
   "id": "37920c4e",
   "metadata": {},
   "source": [
    "nombre_infected       736\n",
    "nombre_sain          2652\n",
    "nombre_exposed        483\n",
    "nombre_recovered    16129\n",
    "Name: 341, dtype: int64"
   ]
  },
  {
   "cell_type": "markdown",
   "id": "f80eb950",
   "metadata": {},
   "source": [
    "nombre_infected       743\n",
    "nombre_sain          2641\n",
    "nombre_exposed        516\n",
    "nombre_recovered    16100\n",
    "Name: 342, dtype: int64"
   ]
  },
  {
   "cell_type": "markdown",
   "id": "35675905",
   "metadata": {},
   "source": [
    "nombre_infected       737\n",
    "nombre_sain          2635\n",
    "nombre_exposed        522\n",
    "nombre_recovered    16106\n",
    "Name: 343, dtype: int64"
   ]
  },
  {
   "cell_type": "markdown",
   "id": "6ee103ae",
   "metadata": {},
   "source": [
    "nombre_infected       743\n",
    "nombre_sain          2629\n",
    "nombre_exposed        529\n",
    "nombre_recovered    16099\n",
    "Name: 344, dtype: int64"
   ]
  },
  {
   "cell_type": "markdown",
   "id": "863d5b39",
   "metadata": {},
   "source": [
    "nombre_infected       780\n",
    "nombre_sain          2615\n",
    "nombre_exposed        538\n",
    "nombre_recovered    16067\n",
    "Name: 345, dtype: int64"
   ]
  },
  {
   "cell_type": "markdown",
   "id": "eb28ff1f",
   "metadata": {},
   "source": [
    "nombre_infected       774\n",
    "nombre_sain          2614\n",
    "nombre_exposed        546\n",
    "nombre_recovered    16066\n",
    "Name: 346, dtype: int64"
   ]
  },
  {
   "cell_type": "markdown",
   "id": "6ddc3d28",
   "metadata": {},
   "source": [
    "nombre_infected       788\n",
    "nombre_sain          2605\n",
    "nombre_exposed        555\n",
    "nombre_recovered    16052\n",
    "Name: 347, dtype: int64"
   ]
  },
  {
   "cell_type": "markdown",
   "id": "b1f88937",
   "metadata": {},
   "source": [
    "nombre_infected       791\n",
    "nombre_sain          2599\n",
    "nombre_exposed        541\n",
    "nombre_recovered    16069\n",
    "Name: 348, dtype: int64"
   ]
  },
  {
   "cell_type": "markdown",
   "id": "a1d92b78",
   "metadata": {},
   "source": [
    "nombre_infected       811\n",
    "nombre_sain          2598\n",
    "nombre_exposed        551\n",
    "nombre_recovered    16040\n",
    "Name: 349, dtype: int64"
   ]
  },
  {
   "cell_type": "markdown",
   "id": "a165b04d",
   "metadata": {},
   "source": [
    "nombre_infected       814\n",
    "nombre_sain          2558\n",
    "nombre_exposed        589\n",
    "nombre_recovered    16039\n",
    "Name: 350, dtype: int64"
   ]
  },
  {
   "cell_type": "markdown",
   "id": "8df46da8",
   "metadata": {},
   "source": [
    "nombre_infected       851\n",
    "nombre_sain          2542\n",
    "nombre_exposed        582\n",
    "nombre_recovered    16025\n",
    "Name: 351, dtype: int64"
   ]
  },
  {
   "cell_type": "markdown",
   "id": "ff0d3306",
   "metadata": {},
   "source": [
    "nombre_infected       852\n",
    "nombre_sain          2535\n",
    "nombre_exposed        591\n",
    "nombre_recovered    16022\n",
    "Name: 352, dtype: int64"
   ]
  },
  {
   "cell_type": "markdown",
   "id": "ee077a8d",
   "metadata": {},
   "source": [
    "nombre_infected       887\n",
    "nombre_sain          2497\n",
    "nombre_exposed        601\n",
    "nombre_recovered    16015\n",
    "Name: 353, dtype: int64"
   ]
  },
  {
   "cell_type": "markdown",
   "id": "6a6388d1",
   "metadata": {},
   "source": [
    "nombre_infected       925\n",
    "nombre_sain          2511\n",
    "nombre_exposed        577\n",
    "nombre_recovered    15987\n",
    "Name: 354, dtype: int64"
   ]
  },
  {
   "cell_type": "markdown",
   "id": "1d134187",
   "metadata": {},
   "source": [
    "nombre_infected       958\n",
    "nombre_sain          2477\n",
    "nombre_exposed        579\n",
    "nombre_recovered    15986\n",
    "Name: 355, dtype: int64"
   ]
  },
  {
   "cell_type": "markdown",
   "id": "7522b758",
   "metadata": {},
   "source": [
    "nombre_infected       953\n",
    "nombre_sain          2449\n",
    "nombre_exposed        601\n",
    "nombre_recovered    15997\n",
    "Name: 356, dtype: int64"
   ]
  },
  {
   "cell_type": "markdown",
   "id": "b8a6ff40",
   "metadata": {},
   "source": [
    "nombre_infected       962\n",
    "nombre_sain          2417\n",
    "nombre_exposed        621\n",
    "nombre_recovered    16000\n",
    "Name: 357, dtype: int64"
   ]
  },
  {
   "cell_type": "markdown",
   "id": "4a6f63a9",
   "metadata": {},
   "source": [
    "nombre_infected       990\n",
    "nombre_sain          2394\n",
    "nombre_exposed        612\n",
    "nombre_recovered    16004\n",
    "Name: 358, dtype: int64"
   ]
  },
  {
   "cell_type": "markdown",
   "id": "8ff00365",
   "metadata": {},
   "source": [
    "nombre_infected       986\n",
    "nombre_sain          2364\n",
    "nombre_exposed        625\n",
    "nombre_recovered    16025\n",
    "Name: 359, dtype: int64"
   ]
  },
  {
   "cell_type": "markdown",
   "id": "830ba263",
   "metadata": {},
   "source": [
    "nombre_infected      1033\n",
    "nombre_sain          2338\n",
    "nombre_exposed        622\n",
    "nombre_recovered    16007\n",
    "Name: 360, dtype: int64"
   ]
  },
  {
   "cell_type": "markdown",
   "id": "80daa91a",
   "metadata": {},
   "source": [
    "nombre_infected      1036\n",
    "nombre_sain          2330\n",
    "nombre_exposed        635\n",
    "nombre_recovered    15999\n",
    "Name: 361, dtype: int64"
   ]
  },
  {
   "cell_type": "markdown",
   "id": "41061881",
   "metadata": {},
   "source": [
    "nombre_infected      1050\n",
    "nombre_sain          2296\n",
    "nombre_exposed        636\n",
    "nombre_recovered    16018\n",
    "Name: 362, dtype: int64"
   ]
  },
  {
   "cell_type": "markdown",
   "id": "c3560cd8",
   "metadata": {},
   "source": [
    "nombre_infected      1080\n",
    "nombre_sain          2265\n",
    "nombre_exposed        630\n",
    "nombre_recovered    16025\n",
    "Name: 363, dtype: int64"
   ]
  },
  {
   "cell_type": "markdown",
   "id": "24de0c8a",
   "metadata": {},
   "source": [
    "nombre_infected      1099\n",
    "nombre_sain          2198\n",
    "nombre_exposed        641\n",
    "nombre_recovered    16062\n",
    "Name: 364, dtype: int64"
   ]
  },
  {
   "cell_type": "markdown",
   "id": "c7ce8905",
   "metadata": {},
   "source": [
    "nombre_infected      1078\n",
    "nombre_sain          2206\n",
    "nombre_exposed        637\n",
    "nombre_recovered    16079\n",
    "Name: 365, dtype: int64"
   ]
  },
  {
   "cell_type": "markdown",
   "id": "ba88a300",
   "metadata": {},
   "source": [
    "nombre_infected      1114\n",
    "nombre_sain          2166\n",
    "nombre_exposed        630\n",
    "nombre_recovered    16090\n",
    "Name: 366, dtype: int64"
   ]
  },
  {
   "cell_type": "markdown",
   "id": "d9eeeb5b",
   "metadata": {},
   "source": [
    "nombre_infected      1079\n",
    "nombre_sain          2154\n",
    "nombre_exposed        648\n",
    "nombre_recovered    16119\n",
    "Name: 367, dtype: int64"
   ]
  },
  {
   "cell_type": "markdown",
   "id": "8d104d27",
   "metadata": {},
   "source": [
    "nombre_infected      1097\n",
    "nombre_sain          2122\n",
    "nombre_exposed        630\n",
    "nombre_recovered    16151\n",
    "Name: 368, dtype: int64"
   ]
  },
  {
   "cell_type": "markdown",
   "id": "4f0b5e05",
   "metadata": {},
   "source": [
    "nombre_infected      1115\n",
    "nombre_sain          2113\n",
    "nombre_exposed        605\n",
    "nombre_recovered    16167\n",
    "Name: 369, dtype: int64"
   ]
  },
  {
   "cell_type": "markdown",
   "id": "808f8b6a",
   "metadata": {},
   "source": [
    "nombre_infected      1109\n",
    "nombre_sain          2071\n",
    "nombre_exposed        610\n",
    "nombre_recovered    16210\n",
    "Name: 370, dtype: int64"
   ]
  },
  {
   "cell_type": "markdown",
   "id": "d8910996",
   "metadata": {},
   "source": [
    "nombre_infected      1111\n",
    "nombre_sain          2062\n",
    "nombre_exposed        602\n",
    "nombre_recovered    16225\n",
    "Name: 371, dtype: int64"
   ]
  },
  {
   "cell_type": "markdown",
   "id": "c0738c69",
   "metadata": {},
   "source": [
    "nombre_infected      1140\n",
    "nombre_sain          2043\n",
    "nombre_exposed        574\n",
    "nombre_recovered    16243\n",
    "Name: 372, dtype: int64"
   ]
  },
  {
   "cell_type": "markdown",
   "id": "72f1fc72",
   "metadata": {},
   "source": [
    "nombre_infected      1149\n",
    "nombre_sain          2019\n",
    "nombre_exposed        575\n",
    "nombre_recovered    16257\n",
    "Name: 373, dtype: int64"
   ]
  },
  {
   "cell_type": "markdown",
   "id": "04a31659",
   "metadata": {},
   "source": [
    "nombre_infected      1149\n",
    "nombre_sain          1991\n",
    "nombre_exposed        584\n",
    "nombre_recovered    16276\n",
    "Name: 374, dtype: int64"
   ]
  },
  {
   "cell_type": "markdown",
   "id": "89d8bd47",
   "metadata": {},
   "source": [
    "nombre_infected      1148\n",
    "nombre_sain          1967\n",
    "nombre_exposed        588\n",
    "nombre_recovered    16297\n",
    "Name: 375, dtype: int64"
   ]
  },
  {
   "cell_type": "markdown",
   "id": "475b4096",
   "metadata": {},
   "source": [
    "nombre_infected      1147\n",
    "nombre_sain          1962\n",
    "nombre_exposed        569\n",
    "nombre_recovered    16322\n",
    "Name: 376, dtype: int64"
   ]
  },
  {
   "cell_type": "markdown",
   "id": "fd759df7",
   "metadata": {},
   "source": [
    "nombre_infected      1134\n",
    "nombre_sain          1945\n",
    "nombre_exposed        574\n",
    "nombre_recovered    16347\n",
    "Name: 377, dtype: int64"
   ]
  },
  {
   "cell_type": "markdown",
   "id": "c2791b16",
   "metadata": {},
   "source": [
    "nombre_infected      1125\n",
    "nombre_sain          1928\n",
    "nombre_exposed        575\n",
    "nombre_recovered    16372\n",
    "Name: 378, dtype: int64"
   ]
  },
  {
   "cell_type": "markdown",
   "id": "d88e0156",
   "metadata": {},
   "source": [
    "nombre_infected      1142\n",
    "nombre_sain          1893\n",
    "nombre_exposed        585\n",
    "nombre_recovered    16380\n",
    "Name: 379, dtype: int64"
   ]
  },
  {
   "cell_type": "markdown",
   "id": "c561e29f",
   "metadata": {},
   "source": [
    "nombre_infected      1136\n",
    "nombre_sain          1908\n",
    "nombre_exposed        578\n",
    "nombre_recovered    16378\n",
    "Name: 380, dtype: int64"
   ]
  },
  {
   "cell_type": "markdown",
   "id": "06af3a9b",
   "metadata": {},
   "source": [
    "nombre_infected      1143\n",
    "nombre_sain          1905\n",
    "nombre_exposed        552\n",
    "nombre_recovered    16400\n",
    "Name: 381, dtype: int64"
   ]
  },
  {
   "cell_type": "markdown",
   "id": "06266e51",
   "metadata": {},
   "source": [
    "nombre_infected      1114\n",
    "nombre_sain          1907\n",
    "nombre_exposed        576\n",
    "nombre_recovered    16403\n",
    "Name: 382, dtype: int64"
   ]
  },
  {
   "cell_type": "markdown",
   "id": "4478776d",
   "metadata": {},
   "source": [
    "nombre_infected      1128\n",
    "nombre_sain          1941\n",
    "nombre_exposed        554\n",
    "nombre_recovered    16377\n",
    "Name: 383, dtype: int64"
   ]
  },
  {
   "cell_type": "markdown",
   "id": "d6a89143",
   "metadata": {},
   "source": [
    "nombre_infected      1109\n",
    "nombre_sain          1923\n",
    "nombre_exposed        552\n",
    "nombre_recovered    16416\n",
    "Name: 384, dtype: int64"
   ]
  },
  {
   "cell_type": "markdown",
   "id": "a505c177",
   "metadata": {},
   "source": [
    "nombre_infected      1102\n",
    "nombre_sain          1941\n",
    "nombre_exposed        555\n",
    "nombre_recovered    16402\n",
    "Name: 385, dtype: int64"
   ]
  },
  {
   "cell_type": "markdown",
   "id": "64eef3cc",
   "metadata": {},
   "source": [
    "nombre_infected      1110\n",
    "nombre_sain          1943\n",
    "nombre_exposed        543\n",
    "nombre_recovered    16404\n",
    "Name: 386, dtype: int64"
   ]
  },
  {
   "cell_type": "markdown",
   "id": "2736201e",
   "metadata": {},
   "source": [
    "nombre_infected      1081\n",
    "nombre_sain          1971\n",
    "nombre_exposed        539\n",
    "nombre_recovered    16409\n",
    "Name: 387, dtype: int64"
   ]
  },
  {
   "cell_type": "markdown",
   "id": "f5a233ad",
   "metadata": {},
   "source": [
    "nombre_infected      1083\n",
    "nombre_sain          1995\n",
    "nombre_exposed        513\n",
    "nombre_recovered    16409\n",
    "Name: 388, dtype: int64"
   ]
  },
  {
   "cell_type": "markdown",
   "id": "2c2ed5e5",
   "metadata": {},
   "source": [
    "nombre_infected      1055\n",
    "nombre_sain          2015\n",
    "nombre_exposed        526\n",
    "nombre_recovered    16404\n",
    "Name: 389, dtype: int64"
   ]
  },
  {
   "cell_type": "markdown",
   "id": "78bacf60",
   "metadata": {},
   "source": [
    "nombre_infected      1048\n",
    "nombre_sain          2024\n",
    "nombre_exposed        528\n",
    "nombre_recovered    16400\n",
    "Name: 390, dtype: int64"
   ]
  },
  {
   "cell_type": "markdown",
   "id": "47622926",
   "metadata": {},
   "source": [
    "nombre_infected      1062\n",
    "nombre_sain          2051\n",
    "nombre_exposed        509\n",
    "nombre_recovered    16378\n",
    "Name: 391, dtype: int64"
   ]
  },
  {
   "cell_type": "markdown",
   "id": "709b066f",
   "metadata": {},
   "source": [
    "nombre_infected      1079\n",
    "nombre_sain          2046\n",
    "nombre_exposed        503\n",
    "nombre_recovered    16372\n",
    "Name: 392, dtype: int64"
   ]
  },
  {
   "cell_type": "markdown",
   "id": "84b3fa87",
   "metadata": {},
   "source": [
    "nombre_infected      1067\n",
    "nombre_sain          2041\n",
    "nombre_exposed        519\n",
    "nombre_recovered    16373\n",
    "Name: 393, dtype: int64"
   ]
  },
  {
   "cell_type": "markdown",
   "id": "d2e99572",
   "metadata": {},
   "source": [
    "nombre_infected      1046\n",
    "nombre_sain          2018\n",
    "nombre_exposed        541\n",
    "nombre_recovered    16395\n",
    "Name: 394, dtype: int64"
   ]
  },
  {
   "cell_type": "markdown",
   "id": "7a2d38b2",
   "metadata": {},
   "source": [
    "nombre_infected      1042\n",
    "nombre_sain          2010\n",
    "nombre_exposed        537\n",
    "nombre_recovered    16411\n",
    "Name: 395, dtype: int64"
   ]
  },
  {
   "cell_type": "markdown",
   "id": "f2f77a5b",
   "metadata": {},
   "source": [
    "nombre_infected      1021\n",
    "nombre_sain          2001\n",
    "nombre_exposed        532\n",
    "nombre_recovered    16446\n",
    "Name: 396, dtype: int64"
   ]
  },
  {
   "cell_type": "markdown",
   "id": "c14e7746",
   "metadata": {},
   "source": [
    "nombre_infected      1040\n",
    "nombre_sain          2005\n",
    "nombre_exposed        507\n",
    "nombre_recovered    16448\n",
    "Name: 397, dtype: int64"
   ]
  },
  {
   "cell_type": "markdown",
   "id": "9d9fa20a",
   "metadata": {},
   "source": [
    "nombre_infected      1024\n",
    "nombre_sain          1980\n",
    "nombre_exposed        505\n",
    "nombre_recovered    16491\n",
    "Name: 398, dtype: int64"
   ]
  },
  {
   "cell_type": "markdown",
   "id": "8a173626",
   "metadata": {},
   "source": [
    "nombre_infected      1023\n",
    "nombre_sain          1960\n",
    "nombre_exposed        504\n",
    "nombre_recovered    16513\n",
    "Name: 399, dtype: int64"
   ]
  },
  {
   "cell_type": "markdown",
   "id": "db342673",
   "metadata": {},
   "source": [
    "nombre_infected       987\n",
    "nombre_sain          1952\n",
    "nombre_exposed        521\n",
    "nombre_recovered    16540\n",
    "Name: 400, dtype: int64"
   ]
  },
  {
   "cell_type": "markdown",
   "id": "fdb47bc5",
   "metadata": {},
   "source": [
    "nombre_infected       998\n",
    "nombre_sain          1974\n",
    "nombre_exposed        490\n",
    "nombre_recovered    16538\n",
    "Name: 401, dtype: int64"
   ]
  },
  {
   "cell_type": "markdown",
   "id": "efc9f596",
   "metadata": {},
   "source": [
    "nombre_infected       997\n",
    "nombre_sain          1952\n",
    "nombre_exposed        492\n",
    "nombre_recovered    16559\n",
    "Name: 402, dtype: int64"
   ]
  },
  {
   "cell_type": "markdown",
   "id": "0e49d646",
   "metadata": {},
   "source": [
    "nombre_infected      1005\n",
    "nombre_sain          1917\n",
    "nombre_exposed        502\n",
    "nombre_recovered    16576\n",
    "Name: 403, dtype: int64"
   ]
  },
  {
   "cell_type": "markdown",
   "id": "39bd45ba",
   "metadata": {},
   "source": [
    "nombre_infected       980\n",
    "nombre_sain          1887\n",
    "nombre_exposed        514\n",
    "nombre_recovered    16619\n",
    "Name: 404, dtype: int64"
   ]
  },
  {
   "cell_type": "markdown",
   "id": "3bd24eec",
   "metadata": {},
   "source": [
    "nombre_infected       985\n",
    "nombre_sain          1867\n",
    "nombre_exposed        511\n",
    "nombre_recovered    16637\n",
    "Name: 405, dtype: int64"
   ]
  },
  {
   "cell_type": "markdown",
   "id": "01adda0b",
   "metadata": {},
   "source": [
    "nombre_infected       989\n",
    "nombre_sain          1833\n",
    "nombre_exposed        518\n",
    "nombre_recovered    16660\n",
    "Name: 406, dtype: int64"
   ]
  },
  {
   "cell_type": "markdown",
   "id": "286bb143",
   "metadata": {},
   "source": [
    "nombre_infected       999\n",
    "nombre_sain          1805\n",
    "nombre_exposed        511\n",
    "nombre_recovered    16685\n",
    "Name: 407, dtype: int64"
   ]
  },
  {
   "cell_type": "markdown",
   "id": "482a8a56",
   "metadata": {},
   "source": [
    "nombre_infected       993\n",
    "nombre_sain          1769\n",
    "nombre_exposed        512\n",
    "nombre_recovered    16726\n",
    "Name: 408, dtype: int64"
   ]
  },
  {
   "cell_type": "markdown",
   "id": "b51bbb05",
   "metadata": {},
   "source": [
    "nombre_infected      1001\n",
    "nombre_sain          1761\n",
    "nombre_exposed        495\n",
    "nombre_recovered    16743\n",
    "Name: 409, dtype: int64"
   ]
  },
  {
   "cell_type": "markdown",
   "id": "81029cca",
   "metadata": {},
   "source": [
    "nombre_infected       989\n",
    "nombre_sain          1782\n",
    "nombre_exposed        468\n",
    "nombre_recovered    16761\n",
    "Name: 410, dtype: int64"
   ]
  },
  {
   "cell_type": "markdown",
   "id": "f17d67bd",
   "metadata": {},
   "source": [
    "nombre_infected       991\n",
    "nombre_sain          1801\n",
    "nombre_exposed        437\n",
    "nombre_recovered    16771\n",
    "Name: 411, dtype: int64"
   ]
  },
  {
   "cell_type": "markdown",
   "id": "eb57d84c",
   "metadata": {},
   "source": [
    "nombre_infected       968\n",
    "nombre_sain          1793\n",
    "nombre_exposed        451\n",
    "nombre_recovered    16788\n",
    "Name: 412, dtype: int64"
   ]
  },
  {
   "cell_type": "markdown",
   "id": "00fb9ee0",
   "metadata": {},
   "source": [
    "nombre_infected       956\n",
    "nombre_sain          1806\n",
    "nombre_exposed        445\n",
    "nombre_recovered    16793\n",
    "Name: 413, dtype: int64"
   ]
  },
  {
   "cell_type": "markdown",
   "id": "a7be6d96",
   "metadata": {},
   "source": [
    "nombre_infected       953\n",
    "nombre_sain          1815\n",
    "nombre_exposed        449\n",
    "nombre_recovered    16783\n",
    "Name: 414, dtype: int64"
   ]
  },
  {
   "cell_type": "markdown",
   "id": "1c81b9f5",
   "metadata": {},
   "source": [
    "nombre_infected       923\n",
    "nombre_sain          1835\n",
    "nombre_exposed        467\n",
    "nombre_recovered    16775\n",
    "Name: 415, dtype: int64"
   ]
  },
  {
   "cell_type": "markdown",
   "id": "9ba5725b",
   "metadata": {},
   "source": [
    "nombre_infected       900\n",
    "nombre_sain          1846\n",
    "nombre_exposed        471\n",
    "nombre_recovered    16783\n",
    "Name: 416, dtype: int64"
   ]
  },
  {
   "cell_type": "markdown",
   "id": "d0d6a7ea",
   "metadata": {},
   "source": [
    "nombre_infected       891\n",
    "nombre_sain          1879\n",
    "nombre_exposed        477\n",
    "nombre_recovered    16753\n",
    "Name: 417, dtype: int64"
   ]
  },
  {
   "cell_type": "markdown",
   "id": "5b8578e2",
   "metadata": {},
   "source": [
    "nombre_infected       891\n",
    "nombre_sain          1886\n",
    "nombre_exposed        470\n",
    "nombre_recovered    16753\n",
    "Name: 418, dtype: int64"
   ]
  },
  {
   "cell_type": "markdown",
   "id": "f0290d2c",
   "metadata": {},
   "source": [
    "nombre_infected       869\n",
    "nombre_sain          1883\n",
    "nombre_exposed        482\n",
    "nombre_recovered    16766\n",
    "Name: 419, dtype: int64"
   ]
  },
  {
   "cell_type": "markdown",
   "id": "e3a76221",
   "metadata": {},
   "source": [
    "nombre_infected       889\n",
    "nombre_sain          1897\n",
    "nombre_exposed        460\n",
    "nombre_recovered    16754\n",
    "Name: 420, dtype: int64"
   ]
  },
  {
   "cell_type": "markdown",
   "id": "a4dfd994",
   "metadata": {},
   "source": [
    "nombre_infected       906\n",
    "nombre_sain          1895\n",
    "nombre_exposed        458\n",
    "nombre_recovered    16741\n",
    "Name: 421, dtype: int64"
   ]
  },
  {
   "cell_type": "markdown",
   "id": "43bdb4c6",
   "metadata": {},
   "source": [
    "nombre_infected       869\n",
    "nombre_sain          1900\n",
    "nombre_exposed        485\n",
    "nombre_recovered    16746\n",
    "Name: 422, dtype: int64"
   ]
  },
  {
   "cell_type": "markdown",
   "id": "2d29881f",
   "metadata": {},
   "source": [
    "nombre_infected       860\n",
    "nombre_sain          1934\n",
    "nombre_exposed        455\n",
    "nombre_recovered    16751\n",
    "Name: 423, dtype: int64"
   ]
  },
  {
   "cell_type": "markdown",
   "id": "8831b809",
   "metadata": {},
   "source": [
    "nombre_infected       879\n",
    "nombre_sain          1956\n",
    "nombre_exposed        424\n",
    "nombre_recovered    16741\n",
    "Name: 424, dtype: int64"
   ]
  },
  {
   "cell_type": "markdown",
   "id": "5fc8842f",
   "metadata": {},
   "source": [
    "nombre_infected       860\n",
    "nombre_sain          1990\n",
    "nombre_exposed        401\n",
    "nombre_recovered    16749\n",
    "Name: 425, dtype: int64"
   ]
  },
  {
   "cell_type": "markdown",
   "id": "5e3a8920",
   "metadata": {},
   "source": [
    "nombre_infected       849\n",
    "nombre_sain          2007\n",
    "nombre_exposed        406\n",
    "nombre_recovered    16738\n",
    "Name: 426, dtype: int64"
   ]
  },
  {
   "cell_type": "markdown",
   "id": "00bbba43",
   "metadata": {},
   "source": [
    "nombre_infected       839\n",
    "nombre_sain          2035\n",
    "nombre_exposed        414\n",
    "nombre_recovered    16712\n",
    "Name: 427, dtype: int64"
   ]
  },
  {
   "cell_type": "markdown",
   "id": "74bc7018",
   "metadata": {},
   "source": [
    "nombre_infected       864\n",
    "nombre_sain          2063\n",
    "nombre_exposed        416\n",
    "nombre_recovered    16657\n",
    "Name: 428, dtype: int64"
   ]
  },
  {
   "cell_type": "markdown",
   "id": "39d40833",
   "metadata": {},
   "source": [
    "nombre_infected       850\n",
    "nombre_sain          2064\n",
    "nombre_exposed        442\n",
    "nombre_recovered    16644\n",
    "Name: 429, dtype: int64"
   ]
  },
  {
   "cell_type": "markdown",
   "id": "81c42d6b",
   "metadata": {},
   "source": [
    "nombre_infected       844\n",
    "nombre_sain          2088\n",
    "nombre_exposed        452\n",
    "nombre_recovered    16616\n",
    "Name: 430, dtype: int64"
   ]
  },
  {
   "cell_type": "markdown",
   "id": "04e48391",
   "metadata": {},
   "source": [
    "nombre_infected       847\n",
    "nombre_sain          2097\n",
    "nombre_exposed        453\n",
    "nombre_recovered    16603\n",
    "Name: 431, dtype: int64"
   ]
  },
  {
   "cell_type": "markdown",
   "id": "7e1ea00b",
   "metadata": {},
   "source": [
    "nombre_infected       828\n",
    "nombre_sain          2121\n",
    "nombre_exposed        462\n",
    "nombre_recovered    16589\n",
    "Name: 432, dtype: int64"
   ]
  },
  {
   "cell_type": "markdown",
   "id": "a849a10f",
   "metadata": {},
   "source": [
    "nombre_infected       829\n",
    "nombre_sain          2139\n",
    "nombre_exposed        463\n",
    "nombre_recovered    16569\n",
    "Name: 433, dtype: int64"
   ]
  },
  {
   "cell_type": "markdown",
   "id": "02925333",
   "metadata": {},
   "source": [
    "nombre_infected       830\n",
    "nombre_sain          2149\n",
    "nombre_exposed        484\n",
    "nombre_recovered    16537\n",
    "Name: 434, dtype: int64"
   ]
  },
  {
   "cell_type": "markdown",
   "id": "80aa1ad7",
   "metadata": {},
   "source": [
    "nombre_infected       866\n",
    "nombre_sain          2177\n",
    "nombre_exposed        468\n",
    "nombre_recovered    16489\n",
    "Name: 435, dtype: int64"
   ]
  },
  {
   "cell_type": "markdown",
   "id": "b9c29745",
   "metadata": {},
   "source": [
    "nombre_infected       883\n",
    "nombre_sain          2151\n",
    "nombre_exposed        502\n",
    "nombre_recovered    16464\n",
    "Name: 436, dtype: int64"
   ]
  },
  {
   "cell_type": "markdown",
   "id": "91e352a3",
   "metadata": {},
   "source": [
    "nombre_infected       870\n",
    "nombre_sain          2145\n",
    "nombre_exposed        528\n",
    "nombre_recovered    16457\n",
    "Name: 437, dtype: int64"
   ]
  },
  {
   "cell_type": "markdown",
   "id": "1db33185",
   "metadata": {},
   "source": [
    "nombre_infected       884\n",
    "nombre_sain          2131\n",
    "nombre_exposed        525\n",
    "nombre_recovered    16460\n",
    "Name: 438, dtype: int64"
   ]
  },
  {
   "cell_type": "markdown",
   "id": "10215e60",
   "metadata": {},
   "source": [
    "nombre_infected       892\n",
    "nombre_sain          2143\n",
    "nombre_exposed        529\n",
    "nombre_recovered    16436\n",
    "Name: 439, dtype: int64"
   ]
  },
  {
   "cell_type": "markdown",
   "id": "37fbf355",
   "metadata": {},
   "source": [
    "nombre_infected       897\n",
    "nombre_sain          2141\n",
    "nombre_exposed        530\n",
    "nombre_recovered    16432\n",
    "Name: 440, dtype: int64"
   ]
  },
  {
   "cell_type": "markdown",
   "id": "65b92fc4",
   "metadata": {},
   "source": [
    "nombre_infected       923\n",
    "nombre_sain          2136\n",
    "nombre_exposed        520\n",
    "nombre_recovered    16421\n",
    "Name: 441, dtype: int64"
   ]
  },
  {
   "cell_type": "markdown",
   "id": "f680d9d4",
   "metadata": {},
   "source": [
    "nombre_infected       925\n",
    "nombre_sain          2132\n",
    "nombre_exposed        537\n",
    "nombre_recovered    16406\n",
    "Name: 442, dtype: int64"
   ]
  },
  {
   "cell_type": "markdown",
   "id": "76cecc72",
   "metadata": {},
   "source": [
    "nombre_infected       942\n",
    "nombre_sain          2153\n",
    "nombre_exposed        515\n",
    "nombre_recovered    16390\n",
    "Name: 443, dtype: int64"
   ]
  },
  {
   "cell_type": "markdown",
   "id": "b47a9dac",
   "metadata": {},
   "source": [
    "nombre_infected       940\n",
    "nombre_sain          2141\n",
    "nombre_exposed        513\n",
    "nombre_recovered    16406\n",
    "Name: 444, dtype: int64"
   ]
  },
  {
   "cell_type": "markdown",
   "id": "02c9ac21",
   "metadata": {},
   "source": [
    "nombre_infected       938\n",
    "nombre_sain          2147\n",
    "nombre_exposed        508\n",
    "nombre_recovered    16407\n",
    "Name: 445, dtype: int64"
   ]
  },
  {
   "cell_type": "markdown",
   "id": "8652a696",
   "metadata": {},
   "source": [
    "nombre_infected       932\n",
    "nombre_sain          2124\n",
    "nombre_exposed        509\n",
    "nombre_recovered    16435\n",
    "Name: 446, dtype: int64"
   ]
  },
  {
   "cell_type": "markdown",
   "id": "eb6f720c",
   "metadata": {},
   "source": [
    "nombre_infected       910\n",
    "nombre_sain          2149\n",
    "nombre_exposed        509\n",
    "nombre_recovered    16432\n",
    "Name: 447, dtype: int64"
   ]
  },
  {
   "cell_type": "markdown",
   "id": "af3de20a",
   "metadata": {},
   "source": [
    "nombre_infected       916\n",
    "nombre_sain          2142\n",
    "nombre_exposed        510\n",
    "nombre_recovered    16432\n",
    "Name: 448, dtype: int64"
   ]
  },
  {
   "cell_type": "markdown",
   "id": "620fd40d",
   "metadata": {},
   "source": [
    "nombre_infected       899\n",
    "nombre_sain          2113\n",
    "nombre_exposed        520\n",
    "nombre_recovered    16468\n",
    "Name: 449, dtype: int64"
   ]
  },
  {
   "cell_type": "markdown",
   "id": "cc615e1c",
   "metadata": {},
   "source": [
    "nombre_infected       916\n",
    "nombre_sain          2109\n",
    "nombre_exposed        523\n",
    "nombre_recovered    16452\n",
    "Name: 450, dtype: int64"
   ]
  },
  {
   "cell_type": "markdown",
   "id": "e0460019",
   "metadata": {},
   "source": [
    "nombre_infected       932\n",
    "nombre_sain          2115\n",
    "nombre_exposed        518\n",
    "nombre_recovered    16435\n",
    "Name: 451, dtype: int64"
   ]
  },
  {
   "cell_type": "markdown",
   "id": "8b90bade",
   "metadata": {},
   "source": [
    "nombre_infected       926\n",
    "nombre_sain          2105\n",
    "nombre_exposed        553\n",
    "nombre_recovered    16416\n",
    "Name: 452, dtype: int64"
   ]
  },
  {
   "cell_type": "markdown",
   "id": "3426fd66",
   "metadata": {},
   "source": [
    "nombre_infected       932\n",
    "nombre_sain          2073\n",
    "nombre_exposed        566\n",
    "nombre_recovered    16429\n",
    "Name: 453, dtype: int64"
   ]
  },
  {
   "cell_type": "markdown",
   "id": "f2654730",
   "metadata": {},
   "source": [
    "nombre_infected       954\n",
    "nombre_sain          2050\n",
    "nombre_exposed        567\n",
    "nombre_recovered    16429\n",
    "Name: 454, dtype: int64"
   ]
  },
  {
   "cell_type": "markdown",
   "id": "95faa198",
   "metadata": {},
   "source": [
    "nombre_infected       988\n",
    "nombre_sain          2035\n",
    "nombre_exposed        536\n",
    "nombre_recovered    16441\n",
    "Name: 455, dtype: int64"
   ]
  },
  {
   "cell_type": "markdown",
   "id": "3fcfaa68",
   "metadata": {},
   "source": [
    "nombre_infected       987\n",
    "nombre_sain          2016\n",
    "nombre_exposed        546\n",
    "nombre_recovered    16451\n",
    "Name: 456, dtype: int64"
   ]
  },
  {
   "cell_type": "markdown",
   "id": "af557c60",
   "metadata": {},
   "source": [
    "nombre_infected      1006\n",
    "nombre_sain          2032\n",
    "nombre_exposed        524\n",
    "nombre_recovered    16438\n",
    "Name: 457, dtype: int64"
   ]
  },
  {
   "cell_type": "markdown",
   "id": "34bab601",
   "metadata": {},
   "source": [
    "nombre_infected      1003\n",
    "nombre_sain          2016\n",
    "nombre_exposed        537\n",
    "nombre_recovered    16444\n",
    "Name: 458, dtype: int64"
   ]
  },
  {
   "cell_type": "markdown",
   "id": "3443117d",
   "metadata": {},
   "source": [
    "nombre_infected       994\n",
    "nombre_sain          2021\n",
    "nombre_exposed        521\n",
    "nombre_recovered    16464\n",
    "Name: 459, dtype: int64"
   ]
  },
  {
   "cell_type": "markdown",
   "id": "e2e0ea12",
   "metadata": {},
   "source": [
    "nombre_infected       994\n",
    "nombre_sain          2011\n",
    "nombre_exposed        503\n",
    "nombre_recovered    16492\n",
    "Name: 460, dtype: int64"
   ]
  },
  {
   "cell_type": "markdown",
   "id": "dd5e0351",
   "metadata": {},
   "source": [
    "nombre_infected       977\n",
    "nombre_sain          2014\n",
    "nombre_exposed        501\n",
    "nombre_recovered    16508\n",
    "Name: 461, dtype: int64"
   ]
  },
  {
   "cell_type": "markdown",
   "id": "10568196",
   "metadata": {},
   "source": [
    "nombre_infected       942\n",
    "nombre_sain          2015\n",
    "nombre_exposed        504\n",
    "nombre_recovered    16539\n",
    "Name: 462, dtype: int64"
   ]
  },
  {
   "cell_type": "markdown",
   "id": "07e16746",
   "metadata": {},
   "source": [
    "nombre_infected       919\n",
    "nombre_sain          1983\n",
    "nombre_exposed        522\n",
    "nombre_recovered    16576\n",
    "Name: 463, dtype: int64"
   ]
  },
  {
   "cell_type": "markdown",
   "id": "beb2a361",
   "metadata": {},
   "source": [
    "nombre_infected       930\n",
    "nombre_sain          2012\n",
    "nombre_exposed        499\n",
    "nombre_recovered    16559\n",
    "Name: 464, dtype: int64"
   ]
  },
  {
   "cell_type": "markdown",
   "id": "ad73d797",
   "metadata": {},
   "source": [
    "nombre_infected       937\n",
    "nombre_sain          2029\n",
    "nombre_exposed        496\n",
    "nombre_recovered    16538\n",
    "Name: 465, dtype: int64"
   ]
  },
  {
   "cell_type": "markdown",
   "id": "70e157f3",
   "metadata": {},
   "source": [
    "nombre_infected       939\n",
    "nombre_sain          2053\n",
    "nombre_exposed        493\n",
    "nombre_recovered    16515\n",
    "Name: 466, dtype: int64"
   ]
  },
  {
   "cell_type": "markdown",
   "id": "74aa7158",
   "metadata": {},
   "source": [
    "nombre_infected       934\n",
    "nombre_sain          2089\n",
    "nombre_exposed        485\n",
    "nombre_recovered    16492\n",
    "Name: 467, dtype: int64"
   ]
  },
  {
   "cell_type": "markdown",
   "id": "ccc6ca7e",
   "metadata": {},
   "source": [
    "nombre_infected       929\n",
    "nombre_sain          2113\n",
    "nombre_exposed        489\n",
    "nombre_recovered    16469\n",
    "Name: 468, dtype: int64"
   ]
  },
  {
   "cell_type": "markdown",
   "id": "98f97e94",
   "metadata": {},
   "source": [
    "nombre_infected       939\n",
    "nombre_sain          2133\n",
    "nombre_exposed        483\n",
    "nombre_recovered    16445\n",
    "Name: 469, dtype: int64"
   ]
  },
  {
   "cell_type": "markdown",
   "id": "2ad09692",
   "metadata": {},
   "source": [
    "nombre_infected       931\n",
    "nombre_sain          2131\n",
    "nombre_exposed        498\n",
    "nombre_recovered    16440\n",
    "Name: 470, dtype: int64"
   ]
  },
  {
   "cell_type": "markdown",
   "id": "1dc21169",
   "metadata": {},
   "source": [
    "nombre_infected       914\n",
    "nombre_sain          2145\n",
    "nombre_exposed        499\n",
    "nombre_recovered    16442\n",
    "Name: 471, dtype: int64"
   ]
  },
  {
   "cell_type": "markdown",
   "id": "bfc017d2",
   "metadata": {},
   "source": [
    "nombre_infected       895\n",
    "nombre_sain          2172\n",
    "nombre_exposed        500\n",
    "nombre_recovered    16433\n",
    "Name: 472, dtype: int64"
   ]
  },
  {
   "cell_type": "markdown",
   "id": "73218a26",
   "metadata": {},
   "source": [
    "nombre_infected       927\n",
    "nombre_sain          2162\n",
    "nombre_exposed        498\n",
    "nombre_recovered    16413\n",
    "Name: 473, dtype: int64"
   ]
  },
  {
   "cell_type": "markdown",
   "id": "183d56a1",
   "metadata": {},
   "source": [
    "nombre_infected       906\n",
    "nombre_sain          2145\n",
    "nombre_exposed        532\n",
    "nombre_recovered    16417\n",
    "Name: 474, dtype: int64"
   ]
  },
  {
   "cell_type": "markdown",
   "id": "0a6eae9f",
   "metadata": {},
   "source": [
    "nombre_infected       912\n",
    "nombre_sain          2149\n",
    "nombre_exposed        516\n",
    "nombre_recovered    16423\n",
    "Name: 475, dtype: int64"
   ]
  },
  {
   "cell_type": "markdown",
   "id": "ed0e4fea",
   "metadata": {},
   "source": [
    "nombre_infected       930\n",
    "nombre_sain          2171\n",
    "nombre_exposed        500\n",
    "nombre_recovered    16399\n",
    "Name: 476, dtype: int64"
   ]
  },
  {
   "cell_type": "markdown",
   "id": "d89fc2a5",
   "metadata": {},
   "source": [
    "nombre_infected       936\n",
    "nombre_sain          2154\n",
    "nombre_exposed        510\n",
    "nombre_recovered    16400\n",
    "Name: 477, dtype: int64"
   ]
  },
  {
   "cell_type": "markdown",
   "id": "56f861c6",
   "metadata": {},
   "source": [
    "nombre_infected       928\n",
    "nombre_sain          2155\n",
    "nombre_exposed        513\n",
    "nombre_recovered    16404\n",
    "Name: 478, dtype: int64"
   ]
  },
  {
   "cell_type": "markdown",
   "id": "4178110d",
   "metadata": {},
   "source": [
    "nombre_infected       932\n",
    "nombre_sain          2157\n",
    "nombre_exposed        519\n",
    "nombre_recovered    16392\n",
    "Name: 479, dtype: int64"
   ]
  },
  {
   "cell_type": "markdown",
   "id": "0fe02dce",
   "metadata": {},
   "source": [
    "nombre_infected       941\n",
    "nombre_sain          2168\n",
    "nombre_exposed        517\n",
    "nombre_recovered    16374\n",
    "Name: 480, dtype: int64"
   ]
  },
  {
   "cell_type": "markdown",
   "id": "036ff303",
   "metadata": {},
   "source": [
    "nombre_infected       923\n",
    "nombre_sain          2167\n",
    "nombre_exposed        529\n",
    "nombre_recovered    16381\n",
    "Name: 481, dtype: int64"
   ]
  },
  {
   "cell_type": "markdown",
   "id": "7fe66145",
   "metadata": {},
   "source": [
    "nombre_infected       924\n",
    "nombre_sain          2164\n",
    "nombre_exposed        526\n",
    "nombre_recovered    16386\n",
    "Name: 482, dtype: int64"
   ]
  },
  {
   "cell_type": "markdown",
   "id": "b36900ae",
   "metadata": {},
   "source": [
    "nombre_infected       933\n",
    "nombre_sain          2150\n",
    "nombre_exposed        543\n",
    "nombre_recovered    16374\n",
    "Name: 483, dtype: int64"
   ]
  },
  {
   "cell_type": "markdown",
   "id": "577c5016",
   "metadata": {},
   "source": [
    "nombre_infected       939\n",
    "nombre_sain          2117\n",
    "nombre_exposed        547\n",
    "nombre_recovered    16397\n",
    "Name: 484, dtype: int64"
   ]
  },
  {
   "cell_type": "markdown",
   "id": "69822a5d",
   "metadata": {},
   "source": [
    "nombre_infected       951\n",
    "nombre_sain          2120\n",
    "nombre_exposed        536\n",
    "nombre_recovered    16393\n",
    "Name: 485, dtype: int64"
   ]
  },
  {
   "cell_type": "markdown",
   "id": "4d5021ee",
   "metadata": {},
   "source": [
    "nombre_infected       955\n",
    "nombre_sain          2105\n",
    "nombre_exposed        533\n",
    "nombre_recovered    16407\n",
    "Name: 486, dtype: int64"
   ]
  },
  {
   "cell_type": "markdown",
   "id": "cfb889e1",
   "metadata": {},
   "source": [
    "nombre_infected       962\n",
    "nombre_sain          2124\n",
    "nombre_exposed        528\n",
    "nombre_recovered    16386\n",
    "Name: 487, dtype: int64"
   ]
  },
  {
   "cell_type": "markdown",
   "id": "ce662d9a",
   "metadata": {},
   "source": [
    "nombre_infected       979\n",
    "nombre_sain          2124\n",
    "nombre_exposed        522\n",
    "nombre_recovered    16375\n",
    "Name: 488, dtype: int64"
   ]
  },
  {
   "cell_type": "markdown",
   "id": "9d96b224",
   "metadata": {},
   "source": [
    "nombre_infected       976\n",
    "nombre_sain          2110\n",
    "nombre_exposed        531\n",
    "nombre_recovered    16383\n",
    "Name: 489, dtype: int64"
   ]
  },
  {
   "cell_type": "markdown",
   "id": "7a22038c",
   "metadata": {},
   "source": [
    "nombre_infected       969\n",
    "nombre_sain          2102\n",
    "nombre_exposed        532\n",
    "nombre_recovered    16397\n",
    "Name: 490, dtype: int64"
   ]
  },
  {
   "cell_type": "markdown",
   "id": "0796c73b",
   "metadata": {},
   "source": [
    "nombre_infected       962\n",
    "nombre_sain          2079\n",
    "nombre_exposed        552\n",
    "nombre_recovered    16407\n",
    "Name: 491, dtype: int64"
   ]
  },
  {
   "cell_type": "markdown",
   "id": "671b7323",
   "metadata": {},
   "source": [
    "nombre_infected       950\n",
    "nombre_sain          2074\n",
    "nombre_exposed        547\n",
    "nombre_recovered    16429\n",
    "Name: 492, dtype: int64"
   ]
  },
  {
   "cell_type": "markdown",
   "id": "ff7b46db",
   "metadata": {},
   "source": [
    "nombre_infected       951\n",
    "nombre_sain          2048\n",
    "nombre_exposed        552\n",
    "nombre_recovered    16449\n",
    "Name: 493, dtype: int64"
   ]
  },
  {
   "cell_type": "markdown",
   "id": "595bbc86",
   "metadata": {},
   "source": [
    "nombre_infected       932\n",
    "nombre_sain          2037\n",
    "nombre_exposed        558\n",
    "nombre_recovered    16473\n",
    "Name: 494, dtype: int64"
   ]
  },
  {
   "cell_type": "markdown",
   "id": "4d55a31b",
   "metadata": {},
   "source": [
    "nombre_infected       911\n",
    "nombre_sain          2021\n",
    "nombre_exposed        560\n",
    "nombre_recovered    16508\n",
    "Name: 495, dtype: int64"
   ]
  },
  {
   "cell_type": "markdown",
   "id": "8a25afde",
   "metadata": {},
   "source": [
    "nombre_infected       914\n",
    "nombre_sain          2009\n",
    "nombre_exposed        538\n",
    "nombre_recovered    16539\n",
    "Name: 496, dtype: int64"
   ]
  },
  {
   "cell_type": "markdown",
   "id": "f16d34b0",
   "metadata": {},
   "source": [
    "nombre_infected       912\n",
    "nombre_sain          1996\n",
    "nombre_exposed        526\n",
    "nombre_recovered    16566\n",
    "Name: 497, dtype: int64"
   ]
  },
  {
   "cell_type": "markdown",
   "id": "b9ea7b90",
   "metadata": {},
   "source": [
    "nombre_infected       913\n",
    "nombre_sain          1997\n",
    "nombre_exposed        514\n",
    "nombre_recovered    16576\n",
    "Name: 498, dtype: int64"
   ]
  },
  {
   "cell_type": "markdown",
   "id": "e1727a3c",
   "metadata": {},
   "source": [
    "nombre_infected       911\n",
    "nombre_sain          1988\n",
    "nombre_exposed        506\n",
    "nombre_recovered    16595\n",
    "Name: 499, dtype: int64"
   ]
  },
  {
   "cell_type": "markdown",
   "id": "8c5901a0",
   "metadata": {},
   "source": [
    "nombre_infected       914\n",
    "nombre_sain          1996\n",
    "nombre_exposed        477\n",
    "nombre_recovered    16613\n",
    "Name: 500, dtype: int64"
   ]
  },
  {
   "cell_type": "markdown",
   "id": "6da665fe",
   "metadata": {},
   "source": [
    "nombre_infected       920\n",
    "nombre_sain          1980\n",
    "nombre_exposed        471\n",
    "nombre_recovered    16629\n",
    "Name: 501, dtype: int64"
   ]
  },
  {
   "cell_type": "markdown",
   "id": "41799cfb",
   "metadata": {},
   "source": [
    "nombre_infected       920\n",
    "nombre_sain          1951\n",
    "nombre_exposed        460\n",
    "nombre_recovered    16669\n",
    "Name: 502, dtype: int64"
   ]
  },
  {
   "cell_type": "markdown",
   "id": "7ccfead6",
   "metadata": {},
   "source": [
    "nombre_infected       937\n",
    "nombre_sain          1937\n",
    "nombre_exposed        451\n",
    "nombre_recovered    16675\n",
    "Name: 503, dtype: int64"
   ]
  },
  {
   "cell_type": "markdown",
   "id": "54c2bac1",
   "metadata": {},
   "source": [
    "nombre_infected       950\n",
    "nombre_sain          1913\n",
    "nombre_exposed        471\n",
    "nombre_recovered    16666\n",
    "Name: 504, dtype: int64"
   ]
  },
  {
   "cell_type": "markdown",
   "id": "a0cd772a",
   "metadata": {},
   "source": [
    "nombre_infected       929\n",
    "nombre_sain          1913\n",
    "nombre_exposed        491\n",
    "nombre_recovered    16667\n",
    "Name: 505, dtype: int64"
   ]
  },
  {
   "cell_type": "markdown",
   "id": "cabc237f",
   "metadata": {},
   "source": [
    "nombre_infected       909\n",
    "nombre_sain          1917\n",
    "nombre_exposed        476\n",
    "nombre_recovered    16698\n",
    "Name: 506, dtype: int64"
   ]
  },
  {
   "cell_type": "markdown",
   "id": "7f4cbdfe",
   "metadata": {},
   "source": [
    "nombre_infected       905\n",
    "nombre_sain          1877\n",
    "nombre_exposed        482\n",
    "nombre_recovered    16736\n",
    "Name: 507, dtype: int64"
   ]
  },
  {
   "cell_type": "markdown",
   "id": "15c25f7e",
   "metadata": {},
   "source": [
    "nombre_infected       877\n",
    "nombre_sain          1885\n",
    "nombre_exposed        472\n",
    "nombre_recovered    16766\n",
    "Name: 508, dtype: int64"
   ]
  },
  {
   "cell_type": "markdown",
   "id": "232dca53",
   "metadata": {},
   "source": [
    "nombre_infected       863\n",
    "nombre_sain          1891\n",
    "nombre_exposed        460\n",
    "nombre_recovered    16786\n",
    "Name: 509, dtype: int64"
   ]
  },
  {
   "cell_type": "markdown",
   "id": "2cc26aed",
   "metadata": {},
   "source": [
    "nombre_infected       852\n",
    "nombre_sain          1881\n",
    "nombre_exposed        467\n",
    "nombre_recovered    16800\n",
    "Name: 510, dtype: int64"
   ]
  },
  {
   "cell_type": "markdown",
   "id": "6c3dc2f3",
   "metadata": {},
   "source": [
    "nombre_infected       849\n",
    "nombre_sain          1889\n",
    "nombre_exposed        463\n",
    "nombre_recovered    16799\n",
    "Name: 511, dtype: int64"
   ]
  },
  {
   "cell_type": "markdown",
   "id": "00e5c4ba",
   "metadata": {},
   "source": [
    "nombre_infected       866\n",
    "nombre_sain          1892\n",
    "nombre_exposed        445\n",
    "nombre_recovered    16797\n",
    "Name: 512, dtype: int64"
   ]
  },
  {
   "cell_type": "markdown",
   "id": "ff1bef97",
   "metadata": {},
   "source": [
    "nombre_infected       848\n",
    "nombre_sain          1891\n",
    "nombre_exposed        445\n",
    "nombre_recovered    16816\n",
    "Name: 513, dtype: int64"
   ]
  },
  {
   "cell_type": "markdown",
   "id": "7b6e3e4d",
   "metadata": {},
   "source": [
    "nombre_infected       843\n",
    "nombre_sain          1912\n",
    "nombre_exposed        422\n",
    "nombre_recovered    16823\n",
    "Name: 514, dtype: int64"
   ]
  },
  {
   "cell_type": "markdown",
   "id": "d8a7c04c",
   "metadata": {},
   "source": [
    "nombre_infected       813\n",
    "nombre_sain          1944\n",
    "nombre_exposed        420\n",
    "nombre_recovered    16823\n",
    "Name: 515, dtype: int64"
   ]
  },
  {
   "cell_type": "markdown",
   "id": "a9a6c904",
   "metadata": {},
   "source": [
    "nombre_infected       793\n",
    "nombre_sain          1949\n",
    "nombre_exposed        444\n",
    "nombre_recovered    16814\n",
    "Name: 516, dtype: int64"
   ]
  },
  {
   "cell_type": "markdown",
   "id": "0f803e4f",
   "metadata": {},
   "source": [
    "nombre_infected       790\n",
    "nombre_sain          1963\n",
    "nombre_exposed        443\n",
    "nombre_recovered    16804\n",
    "Name: 517, dtype: int64"
   ]
  },
  {
   "cell_type": "markdown",
   "id": "2794a824",
   "metadata": {},
   "source": [
    "nombre_infected       769\n",
    "nombre_sain          2008\n",
    "nombre_exposed        447\n",
    "nombre_recovered    16776\n",
    "Name: 518, dtype: int64"
   ]
  },
  {
   "cell_type": "markdown",
   "id": "241b6da4",
   "metadata": {},
   "source": [
    "nombre_infected       763\n",
    "nombre_sain          2017\n",
    "nombre_exposed        430\n",
    "nombre_recovered    16790\n",
    "Name: 519, dtype: int64"
   ]
  },
  {
   "cell_type": "markdown",
   "id": "040b89b8",
   "metadata": {},
   "source": [
    "nombre_infected       765\n",
    "nombre_sain          2021\n",
    "nombre_exposed        441\n",
    "nombre_recovered    16773\n",
    "Name: 520, dtype: int64"
   ]
  },
  {
   "cell_type": "markdown",
   "id": "f3765148",
   "metadata": {},
   "source": [
    "nombre_infected       784\n",
    "nombre_sain          2049\n",
    "nombre_exposed        421\n",
    "nombre_recovered    16746\n",
    "Name: 521, dtype: int64"
   ]
  },
  {
   "cell_type": "markdown",
   "id": "90242c38",
   "metadata": {},
   "source": [
    "nombre_infected       795\n",
    "nombre_sain          2054\n",
    "nombre_exposed        413\n",
    "nombre_recovered    16738\n",
    "Name: 522, dtype: int64"
   ]
  },
  {
   "cell_type": "markdown",
   "id": "139d85e6",
   "metadata": {},
   "source": [
    "nombre_infected       777\n",
    "nombre_sain          2049\n",
    "nombre_exposed        433\n",
    "nombre_recovered    16741\n",
    "Name: 523, dtype: int64"
   ]
  },
  {
   "cell_type": "markdown",
   "id": "d214111b",
   "metadata": {},
   "source": [
    "nombre_infected       759\n",
    "nombre_sain          2096\n",
    "nombre_exposed        431\n",
    "nombre_recovered    16714\n",
    "Name: 524, dtype: int64"
   ]
  },
  {
   "cell_type": "markdown",
   "id": "227212f7",
   "metadata": {},
   "source": [
    "nombre_infected       754\n",
    "nombre_sain          2138\n",
    "nombre_exposed        421\n",
    "nombre_recovered    16687\n",
    "Name: 525, dtype: int64"
   ]
  },
  {
   "cell_type": "markdown",
   "id": "f6359f05",
   "metadata": {},
   "source": [
    "nombre_infected       753\n",
    "nombre_sain          2139\n",
    "nombre_exposed        435\n",
    "nombre_recovered    16673\n",
    "Name: 526, dtype: int64"
   ]
  },
  {
   "cell_type": "markdown",
   "id": "77707296",
   "metadata": {},
   "source": [
    "nombre_infected       746\n",
    "nombre_sain          2164\n",
    "nombre_exposed        416\n",
    "nombre_recovered    16674\n",
    "Name: 527, dtype: int64"
   ]
  },
  {
   "cell_type": "markdown",
   "id": "ab46eea0",
   "metadata": {},
   "source": [
    "nombre_infected       750\n",
    "nombre_sain          2189\n",
    "nombre_exposed        395\n",
    "nombre_recovered    16666\n",
    "Name: 528, dtype: int64"
   ]
  },
  {
   "cell_type": "markdown",
   "id": "09836486",
   "metadata": {},
   "source": [
    "nombre_infected       736\n",
    "nombre_sain          2200\n",
    "nombre_exposed        425\n",
    "nombre_recovered    16639\n",
    "Name: 529, dtype: int64"
   ]
  },
  {
   "cell_type": "markdown",
   "id": "f9c14db2",
   "metadata": {},
   "source": [
    "nombre_infected       719\n",
    "nombre_sain          2213\n",
    "nombre_exposed        435\n",
    "nombre_recovered    16633\n",
    "Name: 530, dtype: int64"
   ]
  },
  {
   "cell_type": "markdown",
   "id": "38197f0e",
   "metadata": {},
   "source": [
    "nombre_infected       715\n",
    "nombre_sain          2217\n",
    "nombre_exposed        442\n",
    "nombre_recovered    16626\n",
    "Name: 531, dtype: int64"
   ]
  },
  {
   "cell_type": "markdown",
   "id": "3e71b506",
   "metadata": {},
   "source": [
    "nombre_infected       724\n",
    "nombre_sain          2225\n",
    "nombre_exposed        445\n",
    "nombre_recovered    16606\n",
    "Name: 532, dtype: int64"
   ]
  },
  {
   "cell_type": "markdown",
   "id": "cf143132",
   "metadata": {},
   "source": [
    "nombre_infected       706\n",
    "nombre_sain          2197\n",
    "nombre_exposed        480\n",
    "nombre_recovered    16617\n",
    "Name: 533, dtype: int64"
   ]
  },
  {
   "cell_type": "markdown",
   "id": "38d8f61f",
   "metadata": {},
   "source": [
    "nombre_infected       693\n",
    "nombre_sain          2194\n",
    "nombre_exposed        479\n",
    "nombre_recovered    16634\n",
    "Name: 534, dtype: int64"
   ]
  },
  {
   "cell_type": "markdown",
   "id": "25a4d424",
   "metadata": {},
   "source": [
    "nombre_infected       714\n",
    "nombre_sain          2183\n",
    "nombre_exposed        484\n",
    "nombre_recovered    16619\n",
    "Name: 535, dtype: int64"
   ]
  },
  {
   "cell_type": "markdown",
   "id": "9587de62",
   "metadata": {},
   "source": [
    "nombre_infected       725\n",
    "nombre_sain          2197\n",
    "nombre_exposed        450\n",
    "nombre_recovered    16628\n",
    "Name: 536, dtype: int64"
   ]
  },
  {
   "cell_type": "markdown",
   "id": "59b3ea94",
   "metadata": {},
   "source": [
    "nombre_infected       744\n",
    "nombre_sain          2206\n",
    "nombre_exposed        434\n",
    "nombre_recovered    16616\n",
    "Name: 537, dtype: int64"
   ]
  },
  {
   "cell_type": "markdown",
   "id": "de6ce0c7",
   "metadata": {},
   "source": [
    "nombre_infected       740\n",
    "nombre_sain          2217\n",
    "nombre_exposed        429\n",
    "nombre_recovered    16614\n",
    "Name: 538, dtype: int64"
   ]
  },
  {
   "cell_type": "markdown",
   "id": "e1e91be7",
   "metadata": {},
   "source": [
    "nombre_infected       735\n",
    "nombre_sain          2217\n",
    "nombre_exposed        445\n",
    "nombre_recovered    16603\n",
    "Name: 539, dtype: int64"
   ]
  },
  {
   "cell_type": "markdown",
   "id": "de5255b7",
   "metadata": {},
   "source": [
    "nombre_infected       723\n",
    "nombre_sain          2223\n",
    "nombre_exposed        466\n",
    "nombre_recovered    16588\n",
    "Name: 540, dtype: int64"
   ]
  },
  {
   "cell_type": "markdown",
   "id": "ccda87ab",
   "metadata": {},
   "source": [
    "nombre_infected       713\n",
    "nombre_sain          2214\n",
    "nombre_exposed        471\n",
    "nombre_recovered    16602\n",
    "Name: 541, dtype: int64"
   ]
  },
  {
   "cell_type": "markdown",
   "id": "51942f89",
   "metadata": {},
   "source": [
    "nombre_infected       731\n",
    "nombre_sain          2217\n",
    "nombre_exposed        461\n",
    "nombre_recovered    16591\n",
    "Name: 542, dtype: int64"
   ]
  },
  {
   "cell_type": "markdown",
   "id": "d387b303",
   "metadata": {},
   "source": [
    "nombre_infected       733\n",
    "nombre_sain          2221\n",
    "nombre_exposed        450\n",
    "nombre_recovered    16596\n",
    "Name: 543, dtype: int64"
   ]
  },
  {
   "cell_type": "markdown",
   "id": "7998ecf9",
   "metadata": {},
   "source": [
    "nombre_infected       736\n",
    "nombre_sain          2208\n",
    "nombre_exposed        455\n",
    "nombre_recovered    16601\n",
    "Name: 544, dtype: int64"
   ]
  },
  {
   "cell_type": "markdown",
   "id": "21e7a729",
   "metadata": {},
   "source": [
    "nombre_infected       745\n",
    "nombre_sain          2212\n",
    "nombre_exposed        453\n",
    "nombre_recovered    16590\n",
    "Name: 545, dtype: int64"
   ]
  },
  {
   "cell_type": "markdown",
   "id": "422fa027",
   "metadata": {},
   "source": [
    "nombre_infected       744\n",
    "nombre_sain          2210\n",
    "nombre_exposed        452\n",
    "nombre_recovered    16594\n",
    "Name: 546, dtype: int64"
   ]
  },
  {
   "cell_type": "markdown",
   "id": "67406be6",
   "metadata": {},
   "source": [
    "nombre_infected       731\n",
    "nombre_sain          2199\n",
    "nombre_exposed        447\n",
    "nombre_recovered    16623\n",
    "Name: 547, dtype: int64"
   ]
  },
  {
   "cell_type": "markdown",
   "id": "091744d1",
   "metadata": {},
   "source": [
    "nombre_infected       722\n",
    "nombre_sain          2193\n",
    "nombre_exposed        449\n",
    "nombre_recovered    16636\n",
    "Name: 548, dtype: int64"
   ]
  },
  {
   "cell_type": "markdown",
   "id": "cea6dcdb",
   "metadata": {},
   "source": [
    "nombre_infected       730\n",
    "nombre_sain          2193\n",
    "nombre_exposed        428\n",
    "nombre_recovered    16649\n",
    "Name: 549, dtype: int64"
   ]
  },
  {
   "cell_type": "markdown",
   "id": "c5feb4e8",
   "metadata": {},
   "source": [
    "nombre_infected       706\n",
    "nombre_sain          2193\n",
    "nombre_exposed        446\n",
    "nombre_recovered    16655\n",
    "Name: 550, dtype: int64"
   ]
  },
  {
   "cell_type": "markdown",
   "id": "c796908b",
   "metadata": {},
   "source": [
    "nombre_infected       700\n",
    "nombre_sain          2186\n",
    "nombre_exposed        452\n",
    "nombre_recovered    16662\n",
    "Name: 551, dtype: int64"
   ]
  },
  {
   "cell_type": "markdown",
   "id": "4436ef4a",
   "metadata": {},
   "source": [
    "nombre_infected       700\n",
    "nombre_sain          2183\n",
    "nombre_exposed        436\n",
    "nombre_recovered    16681\n",
    "Name: 552, dtype: int64"
   ]
  },
  {
   "cell_type": "markdown",
   "id": "9da67503",
   "metadata": {},
   "source": [
    "nombre_infected       698\n",
    "nombre_sain          2174\n",
    "nombre_exposed        439\n",
    "nombre_recovered    16689\n",
    "Name: 553, dtype: int64"
   ]
  },
  {
   "cell_type": "markdown",
   "id": "c4c0e2f9",
   "metadata": {},
   "source": [
    "nombre_infected       687\n",
    "nombre_sain          2178\n",
    "nombre_exposed        447\n",
    "nombre_recovered    16688\n",
    "Name: 554, dtype: int64"
   ]
  },
  {
   "cell_type": "markdown",
   "id": "bc4b139c",
   "metadata": {},
   "source": [
    "nombre_infected       660\n",
    "nombre_sain          2196\n",
    "nombre_exposed        445\n",
    "nombre_recovered    16699\n",
    "Name: 555, dtype: int64"
   ]
  },
  {
   "cell_type": "markdown",
   "id": "2a539c41",
   "metadata": {},
   "source": [
    "nombre_infected       667\n",
    "nombre_sain          2237\n",
    "nombre_exposed        431\n",
    "nombre_recovered    16665\n",
    "Name: 556, dtype: int64"
   ]
  },
  {
   "cell_type": "markdown",
   "id": "1cd3962d",
   "metadata": {},
   "source": [
    "nombre_infected       684\n",
    "nombre_sain          2245\n",
    "nombre_exposed        423\n",
    "nombre_recovered    16648\n",
    "Name: 557, dtype: int64"
   ]
  },
  {
   "cell_type": "markdown",
   "id": "5f7f9ed0",
   "metadata": {},
   "source": [
    "nombre_infected       667\n",
    "nombre_sain          2258\n",
    "nombre_exposed        441\n",
    "nombre_recovered    16634\n",
    "Name: 558, dtype: int64"
   ]
  },
  {
   "cell_type": "markdown",
   "id": "a85756d4",
   "metadata": {},
   "source": [
    "nombre_infected       685\n",
    "nombre_sain          2313\n",
    "nombre_exposed        424\n",
    "nombre_recovered    16578\n",
    "Name: 559, dtype: int64"
   ]
  },
  {
   "cell_type": "markdown",
   "id": "8c6388d1",
   "metadata": {},
   "source": [
    "nombre_infected       677\n",
    "nombre_sain          2324\n",
    "nombre_exposed        436\n",
    "nombre_recovered    16563\n",
    "Name: 560, dtype: int64"
   ]
  },
  {
   "cell_type": "markdown",
   "id": "f9071d6e",
   "metadata": {},
   "source": [
    "nombre_infected       688\n",
    "nombre_sain          2334\n",
    "nombre_exposed        444\n",
    "nombre_recovered    16534\n",
    "Name: 561, dtype: int64"
   ]
  },
  {
   "cell_type": "markdown",
   "id": "eb1f5b1b",
   "metadata": {},
   "source": [
    "nombre_infected       703\n",
    "nombre_sain          2353\n",
    "nombre_exposed        443\n",
    "nombre_recovered    16501\n",
    "Name: 562, dtype: int64"
   ]
  },
  {
   "cell_type": "markdown",
   "id": "5e7dad6a",
   "metadata": {},
   "source": [
    "nombre_infected       710\n",
    "nombre_sain          2393\n",
    "nombre_exposed        439\n",
    "nombre_recovered    16458\n",
    "Name: 563, dtype: int64"
   ]
  },
  {
   "cell_type": "markdown",
   "id": "605becef",
   "metadata": {},
   "source": [
    "nombre_infected       682\n",
    "nombre_sain          2425\n",
    "nombre_exposed        446\n",
    "nombre_recovered    16447\n",
    "Name: 564, dtype: int64"
   ]
  },
  {
   "cell_type": "markdown",
   "id": "c8251bf0",
   "metadata": {},
   "source": [
    "nombre_infected       694\n",
    "nombre_sain          2461\n",
    "nombre_exposed        444\n",
    "nombre_recovered    16401\n",
    "Name: 565, dtype: int64"
   ]
  },
  {
   "cell_type": "markdown",
   "id": "60c141f9",
   "metadata": {},
   "source": [
    "nombre_infected       715\n",
    "nombre_sain          2482\n",
    "nombre_exposed        419\n",
    "nombre_recovered    16384\n",
    "Name: 566, dtype: int64"
   ]
  },
  {
   "cell_type": "markdown",
   "id": "acd79c73",
   "metadata": {},
   "source": [
    "nombre_infected       709\n",
    "nombre_sain          2498\n",
    "nombre_exposed        440\n",
    "nombre_recovered    16353\n",
    "Name: 567, dtype: int64"
   ]
  },
  {
   "cell_type": "markdown",
   "id": "94c2b175",
   "metadata": {},
   "source": [
    "nombre_infected       686\n",
    "nombre_sain          2512\n",
    "nombre_exposed        445\n",
    "nombre_recovered    16357\n",
    "Name: 568, dtype: int64"
   ]
  },
  {
   "cell_type": "markdown",
   "id": "3c333b69",
   "metadata": {},
   "source": [
    "nombre_infected       693\n",
    "nombre_sain          2500\n",
    "nombre_exposed        453\n",
    "nombre_recovered    16354\n",
    "Name: 569, dtype: int64"
   ]
  },
  {
   "cell_type": "markdown",
   "id": "b8a13b8b",
   "metadata": {},
   "source": [
    "nombre_infected       710\n",
    "nombre_sain          2492\n",
    "nombre_exposed        434\n",
    "nombre_recovered    16364\n",
    "Name: 570, dtype: int64"
   ]
  },
  {
   "cell_type": "markdown",
   "id": "cffdbf1c",
   "metadata": {},
   "source": [
    "nombre_infected       708\n",
    "nombre_sain          2462\n",
    "nombre_exposed        461\n",
    "nombre_recovered    16369\n",
    "Name: 571, dtype: int64"
   ]
  },
  {
   "cell_type": "markdown",
   "id": "0636da1e",
   "metadata": {},
   "source": [
    "nombre_infected       693\n",
    "nombre_sain          2462\n",
    "nombre_exposed        469\n",
    "nombre_recovered    16376\n",
    "Name: 572, dtype: int64"
   ]
  },
  {
   "cell_type": "markdown",
   "id": "d857d337",
   "metadata": {},
   "source": [
    "nombre_infected       700\n",
    "nombre_sain          2474\n",
    "nombre_exposed        471\n",
    "nombre_recovered    16355\n",
    "Name: 573, dtype: int64"
   ]
  },
  {
   "cell_type": "markdown",
   "id": "bbcea19a",
   "metadata": {},
   "source": [
    "nombre_infected       711\n",
    "nombre_sain          2458\n",
    "nombre_exposed        470\n",
    "nombre_recovered    16361\n",
    "Name: 574, dtype: int64"
   ]
  },
  {
   "cell_type": "markdown",
   "id": "529ab37e",
   "metadata": {},
   "source": [
    "nombre_infected       723\n",
    "nombre_sain          2469\n",
    "nombre_exposed        456\n",
    "nombre_recovered    16352\n",
    "Name: 575, dtype: int64"
   ]
  },
  {
   "cell_type": "markdown",
   "id": "005a4410",
   "metadata": {},
   "source": [
    "nombre_infected       731\n",
    "nombre_sain          2476\n",
    "nombre_exposed        460\n",
    "nombre_recovered    16333\n",
    "Name: 576, dtype: int64"
   ]
  },
  {
   "cell_type": "markdown",
   "id": "da951b3e",
   "metadata": {},
   "source": [
    "nombre_infected       726\n",
    "nombre_sain          2466\n",
    "nombre_exposed        464\n",
    "nombre_recovered    16344\n",
    "Name: 577, dtype: int64"
   ]
  },
  {
   "cell_type": "markdown",
   "id": "7ff89fbb",
   "metadata": {},
   "source": [
    "nombre_infected       720\n",
    "nombre_sain          2495\n",
    "nombre_exposed        457\n",
    "nombre_recovered    16328\n",
    "Name: 578, dtype: int64"
   ]
  },
  {
   "cell_type": "markdown",
   "id": "a955e94d",
   "metadata": {},
   "source": [
    "nombre_infected       721\n",
    "nombre_sain          2526\n",
    "nombre_exposed        440\n",
    "nombre_recovered    16313\n",
    "Name: 579, dtype: int64"
   ]
  },
  {
   "cell_type": "markdown",
   "id": "717c1e43",
   "metadata": {},
   "source": [
    "nombre_infected       747\n",
    "nombre_sain          2549\n",
    "nombre_exposed        424\n",
    "nombre_recovered    16280\n",
    "Name: 580, dtype: int64"
   ]
  },
  {
   "cell_type": "markdown",
   "id": "2a266a29",
   "metadata": {},
   "source": [
    "nombre_infected       750\n",
    "nombre_sain          2529\n",
    "nombre_exposed        452\n",
    "nombre_recovered    16269\n",
    "Name: 581, dtype: int64"
   ]
  },
  {
   "cell_type": "markdown",
   "id": "9dccd578",
   "metadata": {},
   "source": [
    "nombre_infected       740\n",
    "nombre_sain          2552\n",
    "nombre_exposed        450\n",
    "nombre_recovered    16258\n",
    "Name: 582, dtype: int64"
   ]
  },
  {
   "cell_type": "markdown",
   "id": "7a12efcd",
   "metadata": {},
   "source": [
    "nombre_infected       726\n",
    "nombre_sain          2579\n",
    "nombre_exposed        442\n",
    "nombre_recovered    16253\n",
    "Name: 583, dtype: int64"
   ]
  },
  {
   "cell_type": "markdown",
   "id": "a4068c29",
   "metadata": {},
   "source": [
    "nombre_infected       730\n",
    "nombre_sain          2608\n",
    "nombre_exposed        441\n",
    "nombre_recovered    16221\n",
    "Name: 584, dtype: int64"
   ]
  },
  {
   "cell_type": "markdown",
   "id": "a6959793",
   "metadata": {},
   "source": [
    "nombre_infected       726\n",
    "nombre_sain          2624\n",
    "nombre_exposed        442\n",
    "nombre_recovered    16208\n",
    "Name: 585, dtype: int64"
   ]
  },
  {
   "cell_type": "markdown",
   "id": "4ffc77fd",
   "metadata": {},
   "source": [
    "nombre_infected       713\n",
    "nombre_sain          2624\n",
    "nombre_exposed        474\n",
    "nombre_recovered    16189\n",
    "Name: 586, dtype: int64"
   ]
  },
  {
   "cell_type": "markdown",
   "id": "b5758270",
   "metadata": {},
   "source": [
    "nombre_infected       719\n",
    "nombre_sain          2640\n",
    "nombre_exposed        463\n",
    "nombre_recovered    16178\n",
    "Name: 587, dtype: int64"
   ]
  },
  {
   "cell_type": "markdown",
   "id": "8d87d25e",
   "metadata": {},
   "source": [
    "nombre_infected       731\n",
    "nombre_sain          2652\n",
    "nombre_exposed        477\n",
    "nombre_recovered    16140\n",
    "Name: 588, dtype: int64"
   ]
  },
  {
   "cell_type": "markdown",
   "id": "defb39b6",
   "metadata": {},
   "source": [
    "nombre_infected       751\n",
    "nombre_sain          2645\n",
    "nombre_exposed        492\n",
    "nombre_recovered    16112\n",
    "Name: 589, dtype: int64"
   ]
  },
  {
   "cell_type": "markdown",
   "id": "ed991b1a",
   "metadata": {},
   "source": [
    "nombre_infected       771\n",
    "nombre_sain          2637\n",
    "nombre_exposed        494\n",
    "nombre_recovered    16098\n",
    "Name: 590, dtype: int64"
   ]
  },
  {
   "cell_type": "markdown",
   "id": "d0667762",
   "metadata": {},
   "source": [
    "nombre_infected       788\n",
    "nombre_sain          2621\n",
    "nombre_exposed        514\n",
    "nombre_recovered    16077\n",
    "Name: 591, dtype: int64"
   ]
  },
  {
   "cell_type": "markdown",
   "id": "018eb98d",
   "metadata": {},
   "source": [
    "nombre_infected       802\n",
    "nombre_sain          2592\n",
    "nombre_exposed        540\n",
    "nombre_recovered    16066\n",
    "Name: 592, dtype: int64"
   ]
  },
  {
   "cell_type": "markdown",
   "id": "e0e3b52f",
   "metadata": {},
   "source": [
    "nombre_infected       808\n",
    "nombre_sain          2579\n",
    "nombre_exposed        550\n",
    "nombre_recovered    16063\n",
    "Name: 593, dtype: int64"
   ]
  },
  {
   "cell_type": "markdown",
   "id": "284d35d4",
   "metadata": {},
   "source": [
    "nombre_infected       836\n",
    "nombre_sain          2579\n",
    "nombre_exposed        543\n",
    "nombre_recovered    16042\n",
    "Name: 594, dtype: int64"
   ]
  },
  {
   "cell_type": "markdown",
   "id": "a9c5c883",
   "metadata": {},
   "source": [
    "nombre_infected       833\n",
    "nombre_sain          2567\n",
    "nombre_exposed        548\n",
    "nombre_recovered    16052\n",
    "Name: 595, dtype: int64"
   ]
  },
  {
   "cell_type": "markdown",
   "id": "b4bd14ad",
   "metadata": {},
   "source": [
    "nombre_infected       839\n",
    "nombre_sain          2537\n",
    "nombre_exposed        546\n",
    "nombre_recovered    16078\n",
    "Name: 596, dtype: int64"
   ]
  },
  {
   "cell_type": "markdown",
   "id": "e7ca0b10",
   "metadata": {},
   "source": [
    "nombre_infected       849\n",
    "nombre_sain          2523\n",
    "nombre_exposed        562\n",
    "nombre_recovered    16066\n",
    "Name: 597, dtype: int64"
   ]
  },
  {
   "cell_type": "markdown",
   "id": "18aaddfd",
   "metadata": {},
   "source": [
    "nombre_infected       857\n",
    "nombre_sain          2528\n",
    "nombre_exposed        536\n",
    "nombre_recovered    16079\n",
    "Name: 598, dtype: int64"
   ]
  },
  {
   "cell_type": "markdown",
   "id": "b24b7f79",
   "metadata": {},
   "source": [
    "nombre_infected       880\n",
    "nombre_sain          2501\n",
    "nombre_exposed        572\n",
    "nombre_recovered    16047\n",
    "Name: 599, dtype: int64"
   ]
  },
  {
   "cell_type": "markdown",
   "id": "0e0c66be",
   "metadata": {},
   "source": [
    "nombre_infected       886\n",
    "nombre_sain          2524\n",
    "nombre_exposed        542\n",
    "nombre_recovered    16048\n",
    "Name: 600, dtype: int64"
   ]
  },
  {
   "cell_type": "markdown",
   "id": "6575a73b",
   "metadata": {},
   "source": [
    "nombre_infected       892\n",
    "nombre_sain          2509\n",
    "nombre_exposed        555\n",
    "nombre_recovered    16044\n",
    "Name: 601, dtype: int64"
   ]
  },
  {
   "cell_type": "markdown",
   "id": "dd487ca6",
   "metadata": {},
   "source": [
    "nombre_infected       872\n",
    "nombre_sain          2490\n",
    "nombre_exposed        566\n",
    "nombre_recovered    16072\n",
    "Name: 602, dtype: int64"
   ]
  },
  {
   "cell_type": "markdown",
   "id": "f53a7f54",
   "metadata": {},
   "source": [
    "nombre_infected       881\n",
    "nombre_sain          2471\n",
    "nombre_exposed        567\n",
    "nombre_recovered    16081\n",
    "Name: 603, dtype: int64"
   ]
  },
  {
   "cell_type": "markdown",
   "id": "2c5bab58",
   "metadata": {},
   "source": [
    "nombre_infected       899\n",
    "nombre_sain          2416\n",
    "nombre_exposed        576\n",
    "nombre_recovered    16109\n",
    "Name: 604, dtype: int64"
   ]
  },
  {
   "cell_type": "markdown",
   "id": "f5c4456c",
   "metadata": {},
   "source": [
    "nombre_infected       882\n",
    "nombre_sain          2415\n",
    "nombre_exposed        582\n",
    "nombre_recovered    16121\n",
    "Name: 605, dtype: int64"
   ]
  },
  {
   "cell_type": "markdown",
   "id": "45e84c74",
   "metadata": {},
   "source": [
    "nombre_infected       882\n",
    "nombre_sain          2383\n",
    "nombre_exposed        589\n",
    "nombre_recovered    16146\n",
    "Name: 606, dtype: int64"
   ]
  },
  {
   "cell_type": "markdown",
   "id": "9f13ce84",
   "metadata": {},
   "source": [
    "nombre_infected       890\n",
    "nombre_sain          2337\n",
    "nombre_exposed        589\n",
    "nombre_recovered    16184\n",
    "Name: 607, dtype: int64"
   ]
  },
  {
   "cell_type": "markdown",
   "id": "2a78065e",
   "metadata": {},
   "source": [
    "nombre_infected       908\n",
    "nombre_sain          2318\n",
    "nombre_exposed        570\n",
    "nombre_recovered    16204\n",
    "Name: 608, dtype: int64"
   ]
  },
  {
   "cell_type": "markdown",
   "id": "93052228",
   "metadata": {},
   "source": [
    "nombre_infected       928\n",
    "nombre_sain          2286\n",
    "nombre_exposed        564\n",
    "nombre_recovered    16222\n",
    "Name: 609, dtype: int64"
   ]
  },
  {
   "cell_type": "markdown",
   "id": "d170ecc6",
   "metadata": {},
   "source": [
    "nombre_infected       922\n",
    "nombre_sain          2290\n",
    "nombre_exposed        557\n",
    "nombre_recovered    16231\n",
    "Name: 610, dtype: int64"
   ]
  },
  {
   "cell_type": "markdown",
   "id": "380e6d95",
   "metadata": {},
   "source": [
    "nombre_infected       902\n",
    "nombre_sain          2275\n",
    "nombre_exposed        558\n",
    "nombre_recovered    16265\n",
    "Name: 611, dtype: int64"
   ]
  },
  {
   "cell_type": "markdown",
   "id": "9c6d8427",
   "metadata": {},
   "source": [
    "nombre_infected       904\n",
    "nombre_sain          2255\n",
    "nombre_exposed        554\n",
    "nombre_recovered    16287\n",
    "Name: 612, dtype: int64"
   ]
  },
  {
   "cell_type": "markdown",
   "id": "fa2b7e62",
   "metadata": {},
   "source": [
    "nombre_infected       868\n",
    "nombre_sain          2212\n",
    "nombre_exposed        603\n",
    "nombre_recovered    16317\n",
    "Name: 613, dtype: int64"
   ]
  },
  {
   "cell_type": "markdown",
   "id": "f4792b36",
   "metadata": {},
   "source": [
    "nombre_infected       877\n",
    "nombre_sain          2211\n",
    "nombre_exposed        567\n",
    "nombre_recovered    16345\n",
    "Name: 614, dtype: int64"
   ]
  },
  {
   "cell_type": "markdown",
   "id": "0d7f65ea",
   "metadata": {},
   "source": [
    "nombre_infected       888\n",
    "nombre_sain          2191\n",
    "nombre_exposed        566\n",
    "nombre_recovered    16355\n",
    "Name: 615, dtype: int64"
   ]
  },
  {
   "cell_type": "markdown",
   "id": "5dd4d12b",
   "metadata": {},
   "source": [
    "nombre_infected       908\n",
    "nombre_sain          2194\n",
    "nombre_exposed        545\n",
    "nombre_recovered    16353\n",
    "Name: 616, dtype: int64"
   ]
  },
  {
   "cell_type": "markdown",
   "id": "50fe16b2",
   "metadata": {},
   "source": [
    "nombre_infected       896\n",
    "nombre_sain          2170\n",
    "nombre_exposed        550\n",
    "nombre_recovered    16384\n",
    "Name: 617, dtype: int64"
   ]
  },
  {
   "cell_type": "markdown",
   "id": "6ce7931d",
   "metadata": {},
   "source": [
    "nombre_infected       908\n",
    "nombre_sain          2178\n",
    "nombre_exposed        536\n",
    "nombre_recovered    16378\n",
    "Name: 618, dtype: int64"
   ]
  },
  {
   "cell_type": "markdown",
   "id": "c096249e",
   "metadata": {},
   "source": [
    "nombre_infected       907\n",
    "nombre_sain          2154\n",
    "nombre_exposed        572\n",
    "nombre_recovered    16367\n",
    "Name: 619, dtype: int64"
   ]
  },
  {
   "cell_type": "markdown",
   "id": "5c1fb100",
   "metadata": {},
   "source": [
    "nombre_infected       922\n",
    "nombre_sain          2181\n",
    "nombre_exposed        555\n",
    "nombre_recovered    16342\n",
    "Name: 620, dtype: int64"
   ]
  },
  {
   "cell_type": "markdown",
   "id": "8fbc8c41",
   "metadata": {},
   "source": [
    "nombre_infected       895\n",
    "nombre_sain          2182\n",
    "nombre_exposed        550\n",
    "nombre_recovered    16373\n",
    "Name: 621, dtype: int64"
   ]
  },
  {
   "cell_type": "markdown",
   "id": "445c61c0",
   "metadata": {},
   "source": [
    "nombre_infected       882\n",
    "nombre_sain          2186\n",
    "nombre_exposed        542\n",
    "nombre_recovered    16390\n",
    "Name: 622, dtype: int64"
   ]
  },
  {
   "cell_type": "markdown",
   "id": "07e01c41",
   "metadata": {},
   "source": [
    "nombre_infected       853\n",
    "nombre_sain          2193\n",
    "nombre_exposed        548\n",
    "nombre_recovered    16406\n",
    "Name: 623, dtype: int64"
   ]
  },
  {
   "cell_type": "markdown",
   "id": "23f6388b",
   "metadata": {},
   "source": [
    "nombre_infected       858\n",
    "nombre_sain          2240\n",
    "nombre_exposed        522\n",
    "nombre_recovered    16380\n",
    "Name: 624, dtype: int64"
   ]
  },
  {
   "cell_type": "markdown",
   "id": "8f841eb0",
   "metadata": {},
   "source": [
    "nombre_infected       841\n",
    "nombre_sain          2254\n",
    "nombre_exposed        525\n",
    "nombre_recovered    16380\n",
    "Name: 625, dtype: int64"
   ]
  },
  {
   "cell_type": "markdown",
   "id": "8af53cd7",
   "metadata": {},
   "source": [
    "nombre_infected       823\n",
    "nombre_sain          2281\n",
    "nombre_exposed        529\n",
    "nombre_recovered    16367\n",
    "Name: 626, dtype: int64"
   ]
  },
  {
   "cell_type": "markdown",
   "id": "56668de9",
   "metadata": {},
   "source": [
    "nombre_infected       816\n",
    "nombre_sain          2296\n",
    "nombre_exposed        524\n",
    "nombre_recovered    16364\n",
    "Name: 627, dtype: int64"
   ]
  },
  {
   "cell_type": "markdown",
   "id": "30e84699",
   "metadata": {},
   "source": [
    "nombre_infected       824\n",
    "nombre_sain          2307\n",
    "nombre_exposed        533\n",
    "nombre_recovered    16336\n",
    "Name: 628, dtype: int64"
   ]
  },
  {
   "cell_type": "markdown",
   "id": "fc949ae8",
   "metadata": {},
   "source": [
    "nombre_infected       800\n",
    "nombre_sain          2316\n",
    "nombre_exposed        556\n",
    "nombre_recovered    16328\n",
    "Name: 629, dtype: int64"
   ]
  },
  {
   "cell_type": "markdown",
   "id": "c38d3ab2",
   "metadata": {},
   "source": [
    "nombre_infected       819\n",
    "nombre_sain          2294\n",
    "nombre_exposed        568\n",
    "nombre_recovered    16319\n",
    "Name: 630, dtype: int64"
   ]
  },
  {
   "cell_type": "markdown",
   "id": "47d6d5ed",
   "metadata": {},
   "source": [
    "nombre_infected       836\n",
    "nombre_sain          2310\n",
    "nombre_exposed        570\n",
    "nombre_recovered    16284\n",
    "Name: 631, dtype: int64"
   ]
  },
  {
   "cell_type": "markdown",
   "id": "d4c27032",
   "metadata": {},
   "source": [
    "nombre_infected       850\n",
    "nombre_sain          2308\n",
    "nombre_exposed        558\n",
    "nombre_recovered    16284\n",
    "Name: 632, dtype: int64"
   ]
  },
  {
   "cell_type": "markdown",
   "id": "ab68d915",
   "metadata": {},
   "source": [
    "nombre_infected       845\n",
    "nombre_sain          2309\n",
    "nombre_exposed        577\n",
    "nombre_recovered    16269\n",
    "Name: 633, dtype: int64"
   ]
  },
  {
   "cell_type": "markdown",
   "id": "be8fa69e",
   "metadata": {},
   "source": [
    "nombre_infected       851\n",
    "nombre_sain          2312\n",
    "nombre_exposed        555\n",
    "nombre_recovered    16282\n",
    "Name: 634, dtype: int64"
   ]
  },
  {
   "cell_type": "markdown",
   "id": "448a70df",
   "metadata": {},
   "source": [
    "nombre_infected       863\n",
    "nombre_sain          2300\n",
    "nombre_exposed        563\n",
    "nombre_recovered    16274\n",
    "Name: 635, dtype: int64"
   ]
  },
  {
   "cell_type": "markdown",
   "id": "6638959d",
   "metadata": {},
   "source": [
    "nombre_infected       866\n",
    "nombre_sain          2328\n",
    "nombre_exposed        547\n",
    "nombre_recovered    16259\n",
    "Name: 636, dtype: int64"
   ]
  },
  {
   "cell_type": "markdown",
   "id": "9a9b1626",
   "metadata": {},
   "source": [
    "nombre_infected       859\n",
    "nombre_sain          2326\n",
    "nombre_exposed        556\n",
    "nombre_recovered    16259\n",
    "Name: 637, dtype: int64"
   ]
  },
  {
   "cell_type": "markdown",
   "id": "65cefcd8",
   "metadata": {},
   "source": [
    "nombre_infected       861\n",
    "nombre_sain          2326\n",
    "nombre_exposed        546\n",
    "nombre_recovered    16267\n",
    "Name: 638, dtype: int64"
   ]
  },
  {
   "cell_type": "markdown",
   "id": "8c21a55c",
   "metadata": {},
   "source": [
    "nombre_infected       850\n",
    "nombre_sain          2319\n",
    "nombre_exposed        552\n",
    "nombre_recovered    16279\n",
    "Name: 639, dtype: int64"
   ]
  },
  {
   "cell_type": "markdown",
   "id": "cc8306a8",
   "metadata": {},
   "source": [
    "nombre_infected       863\n",
    "nombre_sain          2332\n",
    "nombre_exposed        546\n",
    "nombre_recovered    16259\n",
    "Name: 640, dtype: int64"
   ]
  },
  {
   "cell_type": "markdown",
   "id": "962e4ace",
   "metadata": {},
   "source": [
    "nombre_infected       859\n",
    "nombre_sain          2305\n",
    "nombre_exposed        551\n",
    "nombre_recovered    16285\n",
    "Name: 641, dtype: int64"
   ]
  },
  {
   "cell_type": "markdown",
   "id": "25d6417b",
   "metadata": {},
   "source": [
    "nombre_infected       864\n",
    "nombre_sain          2264\n",
    "nombre_exposed        585\n",
    "nombre_recovered    16287\n",
    "Name: 642, dtype: int64"
   ]
  },
  {
   "cell_type": "markdown",
   "id": "27a9378b",
   "metadata": {},
   "source": [
    "nombre_infected       866\n",
    "nombre_sain          2263\n",
    "nombre_exposed        586\n",
    "nombre_recovered    16285\n",
    "Name: 643, dtype: int64"
   ]
  },
  {
   "cell_type": "markdown",
   "id": "bb66ce5a",
   "metadata": {},
   "source": [
    "nombre_infected       900\n",
    "nombre_sain          2230\n",
    "nombre_exposed        588\n",
    "nombre_recovered    16282\n",
    "Name: 644, dtype: int64"
   ]
  },
  {
   "cell_type": "markdown",
   "id": "125cc036",
   "metadata": {},
   "source": [
    "nombre_infected       908\n",
    "nombre_sain          2230\n",
    "nombre_exposed        571\n",
    "nombre_recovered    16291\n",
    "Name: 645, dtype: int64"
   ]
  },
  {
   "cell_type": "markdown",
   "id": "867a3f86",
   "metadata": {},
   "source": [
    "nombre_infected       914\n",
    "nombre_sain          2237\n",
    "nombre_exposed        561\n",
    "nombre_recovered    16288\n",
    "Name: 646, dtype: int64"
   ]
  },
  {
   "cell_type": "markdown",
   "id": "63d5f639",
   "metadata": {},
   "source": [
    "nombre_infected       920\n",
    "nombre_sain          2223\n",
    "nombre_exposed        544\n",
    "nombre_recovered    16313\n",
    "Name: 647, dtype: int64"
   ]
  },
  {
   "cell_type": "markdown",
   "id": "3b73cf80",
   "metadata": {},
   "source": [
    "nombre_infected       928\n",
    "nombre_sain          2206\n",
    "nombre_exposed        573\n",
    "nombre_recovered    16293\n",
    "Name: 648, dtype: int64"
   ]
  },
  {
   "cell_type": "markdown",
   "id": "112184d9",
   "metadata": {},
   "source": [
    "nombre_infected       933\n",
    "nombre_sain          2176\n",
    "nombre_exposed        573\n",
    "nombre_recovered    16318\n",
    "Name: 649, dtype: int64"
   ]
  },
  {
   "cell_type": "markdown",
   "id": "0622db31",
   "metadata": {},
   "source": [
    "nombre_infected       985\n",
    "nombre_sain          2149\n",
    "nombre_exposed        547\n",
    "nombre_recovered    16319\n",
    "Name: 650, dtype: int64"
   ]
  },
  {
   "cell_type": "markdown",
   "id": "f2778b43",
   "metadata": {},
   "source": [
    "nombre_infected       994\n",
    "nombre_sain          2097\n",
    "nombre_exposed        571\n",
    "nombre_recovered    16338\n",
    "Name: 651, dtype: int64"
   ]
  },
  {
   "cell_type": "markdown",
   "id": "79185067",
   "metadata": {},
   "source": [
    "nombre_infected       988\n",
    "nombre_sain          2075\n",
    "nombre_exposed        569\n",
    "nombre_recovered    16368\n",
    "Name: 652, dtype: int64"
   ]
  },
  {
   "cell_type": "markdown",
   "id": "73a1dd94",
   "metadata": {},
   "source": [
    "nombre_infected       984\n",
    "nombre_sain          2067\n",
    "nombre_exposed        552\n",
    "nombre_recovered    16397\n",
    "Name: 653, dtype: int64"
   ]
  },
  {
   "cell_type": "markdown",
   "id": "f18bda45",
   "metadata": {},
   "source": [
    "nombre_infected       990\n",
    "nombre_sain          2053\n",
    "nombre_exposed        562\n",
    "nombre_recovered    16395\n",
    "Name: 654, dtype: int64"
   ]
  },
  {
   "cell_type": "markdown",
   "id": "918177c4",
   "metadata": {},
   "source": [
    "nombre_infected       978\n",
    "nombre_sain          2042\n",
    "nombre_exposed        558\n",
    "nombre_recovered    16422\n",
    "Name: 655, dtype: int64"
   ]
  },
  {
   "cell_type": "markdown",
   "id": "49255499",
   "metadata": {},
   "source": [
    "nombre_infected       977\n",
    "nombre_sain          2046\n",
    "nombre_exposed        544\n",
    "nombre_recovered    16433\n",
    "Name: 656, dtype: int64"
   ]
  },
  {
   "cell_type": "markdown",
   "id": "69609b81",
   "metadata": {},
   "source": [
    "nombre_infected       942\n",
    "nombre_sain          2055\n",
    "nombre_exposed        562\n",
    "nombre_recovered    16441\n",
    "Name: 657, dtype: int64"
   ]
  },
  {
   "cell_type": "markdown",
   "id": "5d25b26b",
   "metadata": {},
   "source": [
    "nombre_infected       939\n",
    "nombre_sain          2044\n",
    "nombre_exposed        578\n",
    "nombre_recovered    16439\n",
    "Name: 658, dtype: int64"
   ]
  },
  {
   "cell_type": "markdown",
   "id": "5c10e3ce",
   "metadata": {},
   "source": [
    "nombre_infected       962\n",
    "nombre_sain          2047\n",
    "nombre_exposed        562\n",
    "nombre_recovered    16429\n",
    "Name: 659, dtype: int64"
   ]
  },
  {
   "cell_type": "markdown",
   "id": "23b3590e",
   "metadata": {},
   "source": [
    "nombre_infected       984\n",
    "nombre_sain          2045\n",
    "nombre_exposed        558\n",
    "nombre_recovered    16413\n",
    "Name: 660, dtype: int64"
   ]
  },
  {
   "cell_type": "markdown",
   "id": "cf380d33",
   "metadata": {},
   "source": [
    "nombre_infected       978\n",
    "nombre_sain          2025\n",
    "nombre_exposed        568\n",
    "nombre_recovered    16429\n",
    "Name: 661, dtype: int64"
   ]
  },
  {
   "cell_type": "markdown",
   "id": "754ff9dd",
   "metadata": {},
   "source": [
    "nombre_infected       977\n",
    "nombre_sain          2010\n",
    "nombre_exposed        566\n",
    "nombre_recovered    16447\n",
    "Name: 662, dtype: int64"
   ]
  },
  {
   "cell_type": "markdown",
   "id": "4867096f",
   "metadata": {},
   "source": [
    "nombre_infected      1002\n",
    "nombre_sain          2032\n",
    "nombre_exposed        533\n",
    "nombre_recovered    16433\n",
    "Name: 663, dtype: int64"
   ]
  },
  {
   "cell_type": "markdown",
   "id": "fda22a14",
   "metadata": {},
   "source": [
    "nombre_infected      1016\n",
    "nombre_sain          2045\n",
    "nombre_exposed        524\n",
    "nombre_recovered    16415\n",
    "Name: 664, dtype: int64"
   ]
  },
  {
   "cell_type": "markdown",
   "id": "5655ea36",
   "metadata": {},
   "source": [
    "nombre_infected       994\n",
    "nombre_sain          2016\n",
    "nombre_exposed        558\n",
    "nombre_recovered    16432\n",
    "Name: 665, dtype: int64"
   ]
  },
  {
   "cell_type": "markdown",
   "id": "9694eabe",
   "metadata": {},
   "source": [
    "nombre_infected       997\n",
    "nombre_sain          2051\n",
    "nombre_exposed        538\n",
    "nombre_recovered    16414\n",
    "Name: 666, dtype: int64"
   ]
  },
  {
   "cell_type": "markdown",
   "id": "e46c8bfa",
   "metadata": {},
   "source": [
    "nombre_infected       992\n",
    "nombre_sain          2039\n",
    "nombre_exposed        529\n",
    "nombre_recovered    16440\n",
    "Name: 667, dtype: int64"
   ]
  },
  {
   "cell_type": "markdown",
   "id": "498f9b62",
   "metadata": {},
   "source": [
    "nombre_infected       974\n",
    "nombre_sain          2049\n",
    "nombre_exposed        538\n",
    "nombre_recovered    16439\n",
    "Name: 668, dtype: int64"
   ]
  },
  {
   "cell_type": "markdown",
   "id": "8172e0d8",
   "metadata": {},
   "source": [
    "nombre_infected       974\n",
    "nombre_sain          2047\n",
    "nombre_exposed        536\n",
    "nombre_recovered    16443\n",
    "Name: 669, dtype: int64"
   ]
  },
  {
   "cell_type": "markdown",
   "id": "484b6a76",
   "metadata": {},
   "source": [
    "nombre_infected       955\n",
    "nombre_sain          2066\n",
    "nombre_exposed        538\n",
    "nombre_recovered    16441\n",
    "Name: 670, dtype: int64"
   ]
  },
  {
   "cell_type": "markdown",
   "id": "257211af",
   "metadata": {},
   "source": [
    "nombre_infected       961\n",
    "nombre_sain          2060\n",
    "nombre_exposed        534\n",
    "nombre_recovered    16445\n",
    "Name: 671, dtype: int64"
   ]
  },
  {
   "cell_type": "markdown",
   "id": "4e6d476f",
   "metadata": {},
   "source": [
    "nombre_infected       950\n",
    "nombre_sain          2063\n",
    "nombre_exposed        538\n",
    "nombre_recovered    16449\n",
    "Name: 672, dtype: int64"
   ]
  },
  {
   "cell_type": "markdown",
   "id": "7f368ce0",
   "metadata": {},
   "source": [
    "nombre_infected       940\n",
    "nombre_sain          2067\n",
    "nombre_exposed        543\n",
    "nombre_recovered    16450\n",
    "Name: 673, dtype: int64"
   ]
  },
  {
   "cell_type": "markdown",
   "id": "dac8c37b",
   "metadata": {},
   "source": [
    "nombre_infected       945\n",
    "nombre_sain          2063\n",
    "nombre_exposed        520\n",
    "nombre_recovered    16472\n",
    "Name: 674, dtype: int64"
   ]
  },
  {
   "cell_type": "markdown",
   "id": "1d2dc0ee",
   "metadata": {},
   "source": [
    "nombre_infected       950\n",
    "nombre_sain          2046\n",
    "nombre_exposed        531\n",
    "nombre_recovered    16473\n",
    "Name: 675, dtype: int64"
   ]
  },
  {
   "cell_type": "markdown",
   "id": "b8e15a5c",
   "metadata": {},
   "source": [
    "nombre_infected       955\n",
    "nombre_sain          2035\n",
    "nombre_exposed        538\n",
    "nombre_recovered    16472\n",
    "Name: 676, dtype: int64"
   ]
  },
  {
   "cell_type": "markdown",
   "id": "fc72a817",
   "metadata": {},
   "source": [
    "nombre_infected       968\n",
    "nombre_sain          2037\n",
    "nombre_exposed        550\n",
    "nombre_recovered    16445\n",
    "Name: 677, dtype: int64"
   ]
  },
  {
   "cell_type": "markdown",
   "id": "aa2ffc83",
   "metadata": {},
   "source": [
    "nombre_infected       957\n",
    "nombre_sain          2065\n",
    "nombre_exposed        531\n",
    "nombre_recovered    16447\n",
    "Name: 678, dtype: int64"
   ]
  },
  {
   "cell_type": "markdown",
   "id": "a1f051c4",
   "metadata": {},
   "source": [
    "nombre_infected       930\n",
    "nombre_sain          2054\n",
    "nombre_exposed        547\n",
    "nombre_recovered    16469\n",
    "Name: 679, dtype: int64"
   ]
  },
  {
   "cell_type": "markdown",
   "id": "7f875792",
   "metadata": {},
   "source": [
    "nombre_infected       943\n",
    "nombre_sain          2084\n",
    "nombre_exposed        511\n",
    "nombre_recovered    16462\n",
    "Name: 680, dtype: int64"
   ]
  },
  {
   "cell_type": "markdown",
   "id": "04a02237",
   "metadata": {},
   "source": [
    "nombre_infected       941\n",
    "nombre_sain          2096\n",
    "nombre_exposed        512\n",
    "nombre_recovered    16451\n",
    "Name: 681, dtype: int64"
   ]
  },
  {
   "cell_type": "markdown",
   "id": "2f9fc0e4",
   "metadata": {},
   "source": [
    "nombre_infected       934\n",
    "nombre_sain          2095\n",
    "nombre_exposed        509\n",
    "nombre_recovered    16462\n",
    "Name: 682, dtype: int64"
   ]
  },
  {
   "cell_type": "markdown",
   "id": "8300d652",
   "metadata": {},
   "source": [
    "nombre_infected       942\n",
    "nombre_sain          2107\n",
    "nombre_exposed        514\n",
    "nombre_recovered    16437\n",
    "Name: 683, dtype: int64"
   ]
  },
  {
   "cell_type": "markdown",
   "id": "77d2ca19",
   "metadata": {},
   "source": [
    "nombre_infected       941\n",
    "nombre_sain          2102\n",
    "nombre_exposed        513\n",
    "nombre_recovered    16444\n",
    "Name: 684, dtype: int64"
   ]
  },
  {
   "cell_type": "markdown",
   "id": "d82a6a1e",
   "metadata": {},
   "source": [
    "nombre_infected       948\n",
    "nombre_sain          2130\n",
    "nombre_exposed        490\n",
    "nombre_recovered    16432\n",
    "Name: 685, dtype: int64"
   ]
  },
  {
   "cell_type": "markdown",
   "id": "35c44814",
   "metadata": {},
   "source": [
    "nombre_infected       945\n",
    "nombre_sain          2138\n",
    "nombre_exposed        484\n",
    "nombre_recovered    16433\n",
    "Name: 686, dtype: int64"
   ]
  },
  {
   "cell_type": "markdown",
   "id": "ac0f86f3",
   "metadata": {},
   "source": [
    "nombre_infected       938\n",
    "nombre_sain          2153\n",
    "nombre_exposed        504\n",
    "nombre_recovered    16405\n",
    "Name: 687, dtype: int64"
   ]
  },
  {
   "cell_type": "markdown",
   "id": "2abb6d2b",
   "metadata": {},
   "source": [
    "nombre_infected       958\n",
    "nombre_sain          2140\n",
    "nombre_exposed        517\n",
    "nombre_recovered    16385\n",
    "Name: 688, dtype: int64"
   ]
  },
  {
   "cell_type": "markdown",
   "id": "ca972df5",
   "metadata": {},
   "source": [
    "nombre_infected       962\n",
    "nombre_sain          2157\n",
    "nombre_exposed        508\n",
    "nombre_recovered    16373\n",
    "Name: 689, dtype: int64"
   ]
  },
  {
   "cell_type": "markdown",
   "id": "cabbb7d7",
   "metadata": {},
   "source": [
    "nombre_infected       956\n",
    "nombre_sain          2165\n",
    "nombre_exposed        511\n",
    "nombre_recovered    16368\n",
    "Name: 690, dtype: int64"
   ]
  },
  {
   "cell_type": "markdown",
   "id": "bc1e8d58",
   "metadata": {},
   "source": [
    "nombre_infected       974\n",
    "nombre_sain          2166\n",
    "nombre_exposed        497\n",
    "nombre_recovered    16363\n",
    "Name: 691, dtype: int64"
   ]
  },
  {
   "cell_type": "markdown",
   "id": "2bce95fc",
   "metadata": {},
   "source": [
    "nombre_infected       978\n",
    "nombre_sain          2184\n",
    "nombre_exposed        513\n",
    "nombre_recovered    16325\n",
    "Name: 692, dtype: int64"
   ]
  },
  {
   "cell_type": "markdown",
   "id": "de0f56f6",
   "metadata": {},
   "source": [
    "nombre_infected      1001\n",
    "nombre_sain          2187\n",
    "nombre_exposed        527\n",
    "nombre_recovered    16285\n",
    "Name: 693, dtype: int64"
   ]
  },
  {
   "cell_type": "markdown",
   "id": "c9c7a23c",
   "metadata": {},
   "source": [
    "nombre_infected       992\n",
    "nombre_sain          2205\n",
    "nombre_exposed        537\n",
    "nombre_recovered    16266\n",
    "Name: 694, dtype: int64"
   ]
  },
  {
   "cell_type": "markdown",
   "id": "78b1100f",
   "metadata": {},
   "source": [
    "nombre_infected       995\n",
    "nombre_sain          2204\n",
    "nombre_exposed        542\n",
    "nombre_recovered    16259\n",
    "Name: 695, dtype: int64"
   ]
  },
  {
   "cell_type": "markdown",
   "id": "df0c7068",
   "metadata": {},
   "source": [
    "nombre_infected       993\n",
    "nombre_sain          2217\n",
    "nombre_exposed        539\n",
    "nombre_recovered    16251\n",
    "Name: 696, dtype: int64"
   ]
  },
  {
   "cell_type": "markdown",
   "id": "4852f78c",
   "metadata": {},
   "source": [
    "nombre_infected      1017\n",
    "nombre_sain          2210\n",
    "nombre_exposed        535\n",
    "nombre_recovered    16238\n",
    "Name: 697, dtype: int64"
   ]
  },
  {
   "cell_type": "markdown",
   "id": "6cd1aea8",
   "metadata": {},
   "source": [
    "nombre_infected      1029\n",
    "nombre_sain          2194\n",
    "nombre_exposed        544\n",
    "nombre_recovered    16233\n",
    "Name: 698, dtype: int64"
   ]
  },
  {
   "cell_type": "markdown",
   "id": "f64f7011",
   "metadata": {},
   "source": [
    "nombre_infected      1033\n",
    "nombre_sain          2196\n",
    "nombre_exposed        570\n",
    "nombre_recovered    16201\n",
    "Name: 699, dtype: int64"
   ]
  },
  {
   "cell_type": "markdown",
   "id": "3425e95b",
   "metadata": {},
   "source": [
    "nombre_infected      1046\n",
    "nombre_sain          2218\n",
    "nombre_exposed        547\n",
    "nombre_recovered    16189\n",
    "Name: 700, dtype: int64"
   ]
  },
  {
   "cell_type": "markdown",
   "id": "6906e430",
   "metadata": {},
   "source": [
    "nombre_infected      1063\n",
    "nombre_sain          2195\n",
    "nombre_exposed        544\n",
    "nombre_recovered    16198\n",
    "Name: 701, dtype: int64"
   ]
  },
  {
   "cell_type": "markdown",
   "id": "435c541f",
   "metadata": {},
   "source": [
    "nombre_infected      1043\n",
    "nombre_sain          2203\n",
    "nombre_exposed        546\n",
    "nombre_recovered    16208\n",
    "Name: 702, dtype: int64"
   ]
  },
  {
   "cell_type": "markdown",
   "id": "9f482aa9",
   "metadata": {},
   "source": [
    "nombre_infected      1037\n",
    "nombre_sain          2204\n",
    "nombre_exposed        545\n",
    "nombre_recovered    16214\n",
    "Name: 703, dtype: int64"
   ]
  },
  {
   "cell_type": "markdown",
   "id": "69bdef57",
   "metadata": {},
   "source": [
    "nombre_infected      1062\n",
    "nombre_sain          2183\n",
    "nombre_exposed        550\n",
    "nombre_recovered    16205\n",
    "Name: 704, dtype: int64"
   ]
  },
  {
   "cell_type": "markdown",
   "id": "063a8196",
   "metadata": {},
   "source": [
    "nombre_infected      1056\n",
    "nombre_sain          2187\n",
    "nombre_exposed        565\n",
    "nombre_recovered    16192\n",
    "Name: 705, dtype: int64"
   ]
  },
  {
   "cell_type": "markdown",
   "id": "884c650f",
   "metadata": {},
   "source": [
    "nombre_infected      1049\n",
    "nombre_sain          2199\n",
    "nombre_exposed        558\n",
    "nombre_recovered    16194\n",
    "Name: 706, dtype: int64"
   ]
  },
  {
   "cell_type": "markdown",
   "id": "860c7bbc",
   "metadata": {},
   "source": [
    "nombre_infected      1052\n",
    "nombre_sain          2211\n",
    "nombre_exposed        552\n",
    "nombre_recovered    16185\n",
    "Name: 707, dtype: int64"
   ]
  },
  {
   "cell_type": "markdown",
   "id": "4d1ac212",
   "metadata": {},
   "source": [
    "nombre_infected      1039\n",
    "nombre_sain          2209\n",
    "nombre_exposed        568\n",
    "nombre_recovered    16184\n",
    "Name: 708, dtype: int64"
   ]
  },
  {
   "cell_type": "markdown",
   "id": "335c537a",
   "metadata": {},
   "source": [
    "nombre_infected      1058\n",
    "nombre_sain          2191\n",
    "nombre_exposed        573\n",
    "nombre_recovered    16178\n",
    "Name: 709, dtype: int64"
   ]
  },
  {
   "cell_type": "markdown",
   "id": "9411dd12",
   "metadata": {},
   "source": [
    "nombre_infected      1059\n",
    "nombre_sain          2194\n",
    "nombre_exposed        565\n",
    "nombre_recovered    16182\n",
    "Name: 710, dtype: int64"
   ]
  },
  {
   "cell_type": "markdown",
   "id": "f0e5c63a",
   "metadata": {},
   "source": [
    "nombre_infected      1060\n",
    "nombre_sain          2179\n",
    "nombre_exposed        575\n",
    "nombre_recovered    16186\n",
    "Name: 711, dtype: int64"
   ]
  },
  {
   "cell_type": "markdown",
   "id": "60c36023",
   "metadata": {},
   "source": [
    "nombre_infected      1074\n",
    "nombre_sain          2158\n",
    "nombre_exposed        577\n",
    "nombre_recovered    16191\n",
    "Name: 712, dtype: int64"
   ]
  },
  {
   "cell_type": "markdown",
   "id": "c1b9cdd0",
   "metadata": {},
   "source": [
    "nombre_infected      1070\n",
    "nombre_sain          2166\n",
    "nombre_exposed        572\n",
    "nombre_recovered    16192\n",
    "Name: 713, dtype: int64"
   ]
  },
  {
   "cell_type": "markdown",
   "id": "2f5a7765",
   "metadata": {},
   "source": [
    "nombre_infected      1081\n",
    "nombre_sain          2160\n",
    "nombre_exposed        575\n",
    "nombre_recovered    16184\n",
    "Name: 714, dtype: int64"
   ]
  },
  {
   "cell_type": "markdown",
   "id": "7f909a31",
   "metadata": {},
   "source": [
    "nombre_infected      1102\n",
    "nombre_sain          2142\n",
    "nombre_exposed        572\n",
    "nombre_recovered    16184\n",
    "Name: 715, dtype: int64"
   ]
  },
  {
   "cell_type": "markdown",
   "id": "f08e23ad",
   "metadata": {},
   "source": [
    "nombre_infected      1123\n",
    "nombre_sain          2133\n",
    "nombre_exposed        556\n",
    "nombre_recovered    16188\n",
    "Name: 716, dtype: int64"
   ]
  },
  {
   "cell_type": "markdown",
   "id": "a3ef7ff8",
   "metadata": {},
   "source": [
    "nombre_infected      1124\n",
    "nombre_sain          2125\n",
    "nombre_exposed        572\n",
    "nombre_recovered    16179\n",
    "Name: 717, dtype: int64"
   ]
  },
  {
   "cell_type": "markdown",
   "id": "9c1c8933",
   "metadata": {},
   "source": [
    "nombre_infected      1139\n",
    "nombre_sain          2112\n",
    "nombre_exposed        573\n",
    "nombre_recovered    16176\n",
    "Name: 718, dtype: int64"
   ]
  },
  {
   "cell_type": "markdown",
   "id": "38127ab3",
   "metadata": {},
   "source": [
    "nombre_infected      1141\n",
    "nombre_sain          2122\n",
    "nombre_exposed        556\n",
    "nombre_recovered    16181\n",
    "Name: 719, dtype: int64"
   ]
  },
  {
   "cell_type": "markdown",
   "id": "3f555f71",
   "metadata": {},
   "source": [
    "nombre_infected      1152\n",
    "nombre_sain          2083\n",
    "nombre_exposed        572\n",
    "nombre_recovered    16193\n",
    "Name: 720, dtype: int64"
   ]
  },
  {
   "cell_type": "markdown",
   "id": "e979cfa3",
   "metadata": {},
   "source": [
    "nombre_infected      1139\n",
    "nombre_sain          2085\n",
    "nombre_exposed        584\n",
    "nombre_recovered    16192\n",
    "Name: 721, dtype: int64"
   ]
  },
  {
   "cell_type": "markdown",
   "id": "80f63b3b",
   "metadata": {},
   "source": [
    "nombre_infected      1123\n",
    "nombre_sain          2077\n",
    "nombre_exposed        583\n",
    "nombre_recovered    16217\n",
    "Name: 722, dtype: int64"
   ]
  },
  {
   "cell_type": "markdown",
   "id": "b8a270ce",
   "metadata": {},
   "source": [
    "nombre_infected      1111\n",
    "nombre_sain          2050\n",
    "nombre_exposed        600\n",
    "nombre_recovered    16239\n",
    "Name: 723, dtype: int64"
   ]
  },
  {
   "cell_type": "markdown",
   "id": "dc1505bd",
   "metadata": {},
   "source": [
    "nombre_infected      1112\n",
    "nombre_sain          2028\n",
    "nombre_exposed        592\n",
    "nombre_recovered    16268\n",
    "Name: 724, dtype: int64"
   ]
  },
  {
   "cell_type": "markdown",
   "id": "1b39c997",
   "metadata": {},
   "source": [
    "nombre_infected      1143\n",
    "nombre_sain          1981\n",
    "nombre_exposed        593\n",
    "nombre_recovered    16283\n",
    "Name: 725, dtype: int64"
   ]
  },
  {
   "cell_type": "markdown",
   "id": "42f5fc1f",
   "metadata": {},
   "source": [
    "nombre_infected      1095\n",
    "nombre_sain          1966\n",
    "nombre_exposed        613\n",
    "nombre_recovered    16326\n",
    "Name: 726, dtype: int64"
   ]
  },
  {
   "cell_type": "markdown",
   "id": "fe046e56",
   "metadata": {},
   "source": [
    "nombre_infected      1099\n",
    "nombre_sain          1971\n",
    "nombre_exposed        595\n",
    "nombre_recovered    16335\n",
    "Name: 727, dtype: int64"
   ]
  },
  {
   "cell_type": "markdown",
   "id": "6fd78073",
   "metadata": {},
   "source": [
    "nombre_infected      1109\n",
    "nombre_sain          1952\n",
    "nombre_exposed        569\n",
    "nombre_recovered    16370\n",
    "Name: 728, dtype: int64"
   ]
  },
  {
   "cell_type": "markdown",
   "id": "d1d91dc5",
   "metadata": {},
   "source": [
    "nombre_infected      1089\n",
    "nombre_sain          1936\n",
    "nombre_exposed        557\n",
    "nombre_recovered    16418\n",
    "Name: 729, dtype: int64"
   ]
  },
  {
   "cell_type": "markdown",
   "id": "1c8afc38",
   "metadata": {},
   "source": [
    "nombre_infected      1090\n",
    "nombre_sain          1910\n",
    "nombre_exposed        582\n",
    "nombre_recovered    16418\n",
    "Name: 730, dtype: int64"
   ]
  }
 ],
 "metadata": {},
 "nbformat": 4,
 "nbformat_minor": 5
}
