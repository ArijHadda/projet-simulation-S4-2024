{
 "cells": [
  {
   "cell_type": "markdown",
   "id": "a346e08c",
   "metadata": {},
   "source": [
    "nombre_infected        20\n",
    "nombre_sain         19980\n",
    "nombre_exposed          0\n",
    "nombre_recovered        0\n",
    "Name: 0, dtype: int64"
   ]
  },
  {
   "cell_type": "markdown",
   "id": "b6910cf8",
   "metadata": {},
   "source": [
    "nombre_infected        20\n",
    "nombre_sain         19962\n",
    "nombre_exposed         18\n",
    "nombre_recovered        0\n",
    "Name: 1, dtype: int64"
   ]
  },
  {
   "cell_type": "markdown",
   "id": "7df0fe54",
   "metadata": {},
   "source": [
    "nombre_infected        20\n",
    "nombre_sain         19945\n",
    "nombre_exposed         35\n",
    "nombre_recovered        0\n",
    "Name: 2, dtype: int64"
   ]
  },
  {
   "cell_type": "markdown",
   "id": "91a15461",
   "metadata": {},
   "source": [
    "nombre_infected        24\n",
    "nombre_sain         19922\n",
    "nombre_exposed         54\n",
    "nombre_recovered        0\n",
    "Name: 3, dtype: int64"
   ]
  },
  {
   "cell_type": "markdown",
   "id": "73f91b15",
   "metadata": {},
   "source": [
    "nombre_infected        36\n",
    "nombre_sain         19880\n",
    "nombre_exposed         84\n",
    "nombre_recovered        0\n",
    "Name: 4, dtype: int64"
   ]
  },
  {
   "cell_type": "markdown",
   "id": "0f88bff2",
   "metadata": {},
   "source": [
    "nombre_infected        23\n",
    "nombre_sain         19853\n",
    "nombre_exposed        102\n",
    "nombre_recovered       22\n",
    "Name: 5, dtype: int64"
   ]
  },
  {
   "cell_type": "markdown",
   "id": "b5310ea4",
   "metadata": {},
   "source": [
    "nombre_infected        41\n",
    "nombre_sain         19806\n",
    "nombre_exposed        130\n",
    "nombre_recovered       23\n",
    "Name: 6, dtype: int64"
   ]
  },
  {
   "cell_type": "markdown",
   "id": "64037c0a",
   "metadata": {},
   "source": [
    "nombre_infected        63\n",
    "nombre_sain         19723\n",
    "nombre_exposed        186\n",
    "nombre_recovered       28\n",
    "Name: 7, dtype: int64"
   ]
  },
  {
   "cell_type": "markdown",
   "id": "030c2fca",
   "metadata": {},
   "source": [
    "nombre_infected        81\n",
    "nombre_sain         19639\n",
    "nombre_exposed        248\n",
    "nombre_recovered       32\n",
    "Name: 8, dtype: int64"
   ]
  },
  {
   "cell_type": "markdown",
   "id": "054bcad6",
   "metadata": {},
   "source": [
    "nombre_infected       114\n",
    "nombre_sain         19520\n",
    "nombre_exposed        324\n",
    "nombre_recovered       42\n",
    "Name: 9, dtype: int64"
   ]
  },
  {
   "cell_type": "markdown",
   "id": "cb3a4411",
   "metadata": {},
   "source": [
    "nombre_infected       166\n",
    "nombre_sain         19354\n",
    "nombre_exposed        432\n",
    "nombre_recovered       48\n",
    "Name: 10, dtype: int64"
   ]
  },
  {
   "cell_type": "markdown",
   "id": "4f6c5eb2",
   "metadata": {},
   "source": [
    "nombre_infected       215\n",
    "nombre_sain         19149\n",
    "nombre_exposed        568\n",
    "nombre_recovered       68\n",
    "Name: 11, dtype: int64"
   ]
  },
  {
   "cell_type": "markdown",
   "id": "4c80393d",
   "metadata": {},
   "source": [
    "nombre_infected       288\n",
    "nombre_sain         18832\n",
    "nombre_exposed        793\n",
    "nombre_recovered       87\n",
    "Name: 12, dtype: int64"
   ]
  },
  {
   "cell_type": "markdown",
   "id": "cdf2a9a7",
   "metadata": {},
   "source": [
    "nombre_infected       381\n",
    "nombre_sain         18434\n",
    "nombre_exposed       1070\n",
    "nombre_recovered      115\n",
    "Name: 13, dtype: int64"
   ]
  },
  {
   "cell_type": "markdown",
   "id": "0b4c9186",
   "metadata": {},
   "source": [
    "nombre_infected       533\n",
    "nombre_sain         17911\n",
    "nombre_exposed       1405\n",
    "nombre_recovered      151\n",
    "Name: 14, dtype: int64"
   ]
  },
  {
   "cell_type": "markdown",
   "id": "a31d1335",
   "metadata": {},
   "source": [
    "nombre_infected       744\n",
    "nombre_sain         17207\n",
    "nombre_exposed       1865\n",
    "nombre_recovered      184\n",
    "Name: 15, dtype: int64"
   ]
  },
  {
   "cell_type": "markdown",
   "id": "6ecd7315",
   "metadata": {},
   "source": [
    "nombre_infected       995\n",
    "nombre_sain         16328\n",
    "nombre_exposed       2431\n",
    "nombre_recovered      246\n",
    "Name: 16, dtype: int64"
   ]
  },
  {
   "cell_type": "markdown",
   "id": "7a12640f",
   "metadata": {},
   "source": [
    "nombre_infected      1348\n",
    "nombre_sain         15279\n",
    "nombre_exposed       3036\n",
    "nombre_recovered      337\n",
    "Name: 17, dtype: int64"
   ]
  },
  {
   "cell_type": "markdown",
   "id": "09dfe92d",
   "metadata": {},
   "source": [
    "nombre_infected      1790\n",
    "nombre_sain         13906\n",
    "nombre_exposed       3847\n",
    "nombre_recovered      457\n",
    "Name: 18, dtype: int64"
   ]
  },
  {
   "cell_type": "markdown",
   "id": "d9721568",
   "metadata": {},
   "source": [
    "nombre_infected      2323\n",
    "nombre_sain         12355\n",
    "nombre_exposed       4700\n",
    "nombre_recovered      622\n",
    "Name: 19, dtype: int64"
   ]
  },
  {
   "cell_type": "markdown",
   "id": "02355672",
   "metadata": {},
   "source": [
    "nombre_infected      2927\n",
    "nombre_sain         10661\n",
    "nombre_exposed       5574\n",
    "nombre_recovered      838\n",
    "Name: 20, dtype: int64"
   ]
  },
  {
   "cell_type": "markdown",
   "id": "2bbef334",
   "metadata": {},
   "source": [
    "nombre_infected     3679\n",
    "nombre_sain         8940\n",
    "nombre_exposed      6232\n",
    "nombre_recovered    1149\n",
    "Name: 21, dtype: int64"
   ]
  },
  {
   "cell_type": "markdown",
   "id": "38fe4a91",
   "metadata": {},
   "source": [
    "nombre_infected     4505\n",
    "nombre_sain         7208\n",
    "nombre_exposed      6738\n",
    "nombre_recovered    1549\n",
    "Name: 22, dtype: int64"
   ]
  },
  {
   "cell_type": "markdown",
   "id": "583e6e8f",
   "metadata": {},
   "source": [
    "nombre_infected     5379\n",
    "nombre_sain         5592\n",
    "nombre_exposed      7036\n",
    "nombre_recovered    1993\n",
    "Name: 23, dtype: int64"
   ]
  },
  {
   "cell_type": "markdown",
   "id": "afd66f64",
   "metadata": {},
   "source": [
    "nombre_infected     6302\n",
    "nombre_sain         4139\n",
    "nombre_exposed      7026\n",
    "nombre_recovered    2533\n",
    "Name: 24, dtype: int64"
   ]
  },
  {
   "cell_type": "markdown",
   "id": "9121a36d",
   "metadata": {},
   "source": [
    "nombre_infected     7160\n",
    "nombre_sain         3008\n",
    "nombre_exposed      6622\n",
    "nombre_recovered    3210\n",
    "Name: 25, dtype: int64"
   ]
  },
  {
   "cell_type": "markdown",
   "id": "eb079726",
   "metadata": {},
   "source": [
    "nombre_infected     7846\n",
    "nombre_sain         2135\n",
    "nombre_exposed      6014\n",
    "nombre_recovered    4005\n",
    "Name: 26, dtype: int64"
   ]
  },
  {
   "cell_type": "markdown",
   "id": "47752c8a",
   "metadata": {},
   "source": [
    "nombre_infected     8339\n",
    "nombre_sain         1470\n",
    "nombre_exposed      5329\n",
    "nombre_recovered    4862\n",
    "Name: 27, dtype: int64"
   ]
  },
  {
   "cell_type": "markdown",
   "id": "5ca6409b",
   "metadata": {},
   "source": [
    "nombre_infected     8575\n",
    "nombre_sain         1032\n",
    "nombre_exposed      4571\n",
    "nombre_recovered    5822\n",
    "Name: 28, dtype: int64"
   ]
  },
  {
   "cell_type": "markdown",
   "id": "18bb8a1c",
   "metadata": {},
   "source": [
    "nombre_infected     8661\n",
    "nombre_sain          716\n",
    "nombre_exposed      3838\n",
    "nombre_recovered    6785\n",
    "Name: 29, dtype: int64"
   ]
  },
  {
   "cell_type": "markdown",
   "id": "05b54a69",
   "metadata": {},
   "source": [
    "nombre_infected     8592\n",
    "nombre_sain          522\n",
    "nombre_exposed      3124\n",
    "nombre_recovered    7762\n",
    "Name: 30, dtype: int64"
   ]
  },
  {
   "cell_type": "markdown",
   "id": "a26bfc6b",
   "metadata": {},
   "source": [
    "nombre_infected     8307\n",
    "nombre_sain          374\n",
    "nombre_exposed      2519\n",
    "nombre_recovered    8800\n",
    "Name: 31, dtype: int64"
   ]
  },
  {
   "cell_type": "markdown",
   "id": "6105a381",
   "metadata": {},
   "source": [
    "nombre_infected     7978\n",
    "nombre_sain          276\n",
    "nombre_exposed      1991\n",
    "nombre_recovered    9755\n",
    "Name: 32, dtype: int64"
   ]
  },
  {
   "cell_type": "markdown",
   "id": "4ef8bcca",
   "metadata": {},
   "source": [
    "nombre_infected      7528\n",
    "nombre_sain           209\n",
    "nombre_exposed       1567\n",
    "nombre_recovered    10696\n",
    "Name: 33, dtype: int64"
   ]
  },
  {
   "cell_type": "markdown",
   "id": "8154643d",
   "metadata": {},
   "source": [
    "nombre_infected      6981\n",
    "nombre_sain           204\n",
    "nombre_exposed       1218\n",
    "nombre_recovered    11597\n",
    "Name: 34, dtype: int64"
   ]
  },
  {
   "cell_type": "markdown",
   "id": "798bf659",
   "metadata": {},
   "source": [
    "nombre_infected      6450\n",
    "nombre_sain           187\n",
    "nombre_exposed        960\n",
    "nombre_recovered    12403\n",
    "Name: 35, dtype: int64"
   ]
  },
  {
   "cell_type": "markdown",
   "id": "5ba8b439",
   "metadata": {},
   "source": [
    "nombre_infected      5981\n",
    "nombre_sain           176\n",
    "nombre_exposed        728\n",
    "nombre_recovered    13115\n",
    "Name: 36, dtype: int64"
   ]
  },
  {
   "cell_type": "markdown",
   "id": "645b46e7",
   "metadata": {},
   "source": [
    "nombre_infected      5442\n",
    "nombre_sain           173\n",
    "nombre_exposed        597\n",
    "nombre_recovered    13788\n",
    "Name: 37, dtype: int64"
   ]
  },
  {
   "cell_type": "markdown",
   "id": "d9dfb488",
   "metadata": {},
   "source": [
    "nombre_infected      4942\n",
    "nombre_sain           179\n",
    "nombre_exposed        464\n",
    "nombre_recovered    14415\n",
    "Name: 38, dtype: int64"
   ]
  },
  {
   "cell_type": "markdown",
   "id": "6ee8e44a",
   "metadata": {},
   "source": [
    "nombre_infected      4450\n",
    "nombre_sain           197\n",
    "nombre_exposed        357\n",
    "nombre_recovered    14996\n",
    "Name: 39, dtype: int64"
   ]
  },
  {
   "cell_type": "markdown",
   "id": "ec3c7592",
   "metadata": {},
   "source": [
    "nombre_infected      3996\n",
    "nombre_sain           199\n",
    "nombre_exposed        283\n",
    "nombre_recovered    15522\n",
    "Name: 40, dtype: int64"
   ]
  },
  {
   "cell_type": "markdown",
   "id": "dd648cce",
   "metadata": {},
   "source": [
    "nombre_infected      3548\n",
    "nombre_sain           213\n",
    "nombre_exposed        229\n",
    "nombre_recovered    16010\n",
    "Name: 41, dtype: int64"
   ]
  },
  {
   "cell_type": "markdown",
   "id": "dd37354a",
   "metadata": {},
   "source": [
    "nombre_infected      3126\n",
    "nombre_sain           230\n",
    "nombre_exposed        201\n",
    "nombre_recovered    16443\n",
    "Name: 42, dtype: int64"
   ]
  },
  {
   "cell_type": "markdown",
   "id": "79fc92f7",
   "metadata": {},
   "source": [
    "nombre_infected      2784\n",
    "nombre_sain           241\n",
    "nombre_exposed        179\n",
    "nombre_recovered    16796\n",
    "Name: 43, dtype: int64"
   ]
  },
  {
   "cell_type": "markdown",
   "id": "40d2d9d2",
   "metadata": {},
   "source": [
    "nombre_infected      2488\n",
    "nombre_sain           261\n",
    "nombre_exposed        169\n",
    "nombre_recovered    17082\n",
    "Name: 44, dtype: int64"
   ]
  },
  {
   "cell_type": "markdown",
   "id": "09041882",
   "metadata": {},
   "source": [
    "nombre_infected      2203\n",
    "nombre_sain           291\n",
    "nombre_exposed        162\n",
    "nombre_recovered    17344\n",
    "Name: 45, dtype: int64"
   ]
  },
  {
   "cell_type": "markdown",
   "id": "20e0fa8c",
   "metadata": {},
   "source": [
    "nombre_infected      1986\n",
    "nombre_sain           301\n",
    "nombre_exposed        151\n",
    "nombre_recovered    17562\n",
    "Name: 46, dtype: int64"
   ]
  },
  {
   "cell_type": "markdown",
   "id": "51cc6954",
   "metadata": {},
   "source": [
    "nombre_infected      1746\n",
    "nombre_sain           339\n",
    "nombre_exposed        142\n",
    "nombre_recovered    17773\n",
    "Name: 47, dtype: int64"
   ]
  },
  {
   "cell_type": "markdown",
   "id": "257cde2a",
   "metadata": {},
   "source": [
    "nombre_infected      1555\n",
    "nombre_sain           393\n",
    "nombre_exposed        132\n",
    "nombre_recovered    17920\n",
    "Name: 48, dtype: int64"
   ]
  },
  {
   "cell_type": "markdown",
   "id": "b0800937",
   "metadata": {},
   "source": [
    "nombre_infected      1380\n",
    "nombre_sain           430\n",
    "nombre_exposed        130\n",
    "nombre_recovered    18060\n",
    "Name: 49, dtype: int64"
   ]
  },
  {
   "cell_type": "markdown",
   "id": "8f4a6d70",
   "metadata": {},
   "source": [
    "nombre_infected      1226\n",
    "nombre_sain           479\n",
    "nombre_exposed        125\n",
    "nombre_recovered    18170\n",
    "Name: 50, dtype: int64"
   ]
  },
  {
   "cell_type": "markdown",
   "id": "bd8dd418",
   "metadata": {},
   "source": [
    "nombre_infected      1092\n",
    "nombre_sain           524\n",
    "nombre_exposed        121\n",
    "nombre_recovered    18263\n",
    "Name: 51, dtype: int64"
   ]
  },
  {
   "cell_type": "markdown",
   "id": "8099c164",
   "metadata": {},
   "source": [
    "nombre_infected       959\n",
    "nombre_sain           573\n",
    "nombre_exposed        117\n",
    "nombre_recovered    18351\n",
    "Name: 52, dtype: int64"
   ]
  },
  {
   "cell_type": "markdown",
   "id": "0c4dabc2",
   "metadata": {},
   "source": [
    "nombre_infected       842\n",
    "nombre_sain           610\n",
    "nombre_exposed        119\n",
    "nombre_recovered    18429\n",
    "Name: 53, dtype: int64"
   ]
  },
  {
   "cell_type": "markdown",
   "id": "3040946e",
   "metadata": {},
   "source": [
    "nombre_infected       739\n",
    "nombre_sain           644\n",
    "nombre_exposed        105\n",
    "nombre_recovered    18512\n",
    "Name: 54, dtype: int64"
   ]
  },
  {
   "cell_type": "markdown",
   "id": "6dd5110b",
   "metadata": {},
   "source": [
    "nombre_infected       637\n",
    "nombre_sain           694\n",
    "nombre_exposed        105\n",
    "nombre_recovered    18564\n",
    "Name: 55, dtype: int64"
   ]
  },
  {
   "cell_type": "markdown",
   "id": "c1c73ef2",
   "metadata": {},
   "source": [
    "nombre_infected       555\n",
    "nombre_sain           767\n",
    "nombre_exposed        102\n",
    "nombre_recovered    18576\n",
    "Name: 56, dtype: int64"
   ]
  },
  {
   "cell_type": "markdown",
   "id": "3e983c49",
   "metadata": {},
   "source": [
    "nombre_infected       497\n",
    "nombre_sain           819\n",
    "nombre_exposed         95\n",
    "nombre_recovered    18589\n",
    "Name: 57, dtype: int64"
   ]
  },
  {
   "cell_type": "markdown",
   "id": "c4c8e3c7",
   "metadata": {},
   "source": [
    "nombre_infected       438\n",
    "nombre_sain           882\n",
    "nombre_exposed         83\n",
    "nombre_recovered    18597\n",
    "Name: 58, dtype: int64"
   ]
  },
  {
   "cell_type": "markdown",
   "id": "72697665",
   "metadata": {},
   "source": [
    "nombre_infected       393\n",
    "nombre_sain           937\n",
    "nombre_exposed         77\n",
    "nombre_recovered    18593\n",
    "Name: 59, dtype: int64"
   ]
  },
  {
   "cell_type": "markdown",
   "id": "4b9c52a2",
   "metadata": {},
   "source": [
    "nombre_infected       356\n",
    "nombre_sain           989\n",
    "nombre_exposed         80\n",
    "nombre_recovered    18575\n",
    "Name: 60, dtype: int64"
   ]
  },
  {
   "cell_type": "markdown",
   "id": "af028fb8",
   "metadata": {},
   "source": [
    "nombre_infected       310\n",
    "nombre_sain          1064\n",
    "nombre_exposed         68\n",
    "nombre_recovered    18558\n",
    "Name: 61, dtype: int64"
   ]
  },
  {
   "cell_type": "markdown",
   "id": "b79db8fa",
   "metadata": {},
   "source": [
    "nombre_infected       275\n",
    "nombre_sain          1132\n",
    "nombre_exposed         65\n",
    "nombre_recovered    18528\n",
    "Name: 62, dtype: int64"
   ]
  },
  {
   "cell_type": "markdown",
   "id": "b9c425e2",
   "metadata": {},
   "source": [
    "nombre_infected       248\n",
    "nombre_sain          1196\n",
    "nombre_exposed         60\n",
    "nombre_recovered    18496\n",
    "Name: 63, dtype: int64"
   ]
  },
  {
   "cell_type": "markdown",
   "id": "0b53fea1",
   "metadata": {},
   "source": [
    "nombre_infected       233\n",
    "nombre_sain          1252\n",
    "nombre_exposed         57\n",
    "nombre_recovered    18458\n",
    "Name: 64, dtype: int64"
   ]
  },
  {
   "cell_type": "markdown",
   "id": "288560c9",
   "metadata": {},
   "source": [
    "nombre_infected       211\n",
    "nombre_sain          1328\n",
    "nombre_exposed         56\n",
    "nombre_recovered    18405\n",
    "Name: 65, dtype: int64"
   ]
  },
  {
   "cell_type": "markdown",
   "id": "19cb9750",
   "metadata": {},
   "source": [
    "nombre_infected       196\n",
    "nombre_sain          1377\n",
    "nombre_exposed         58\n",
    "nombre_recovered    18369\n",
    "Name: 66, dtype: int64"
   ]
  },
  {
   "cell_type": "markdown",
   "id": "90119e5a",
   "metadata": {},
   "source": [
    "nombre_infected       180\n",
    "nombre_sain          1451\n",
    "nombre_exposed         59\n",
    "nombre_recovered    18310\n",
    "Name: 67, dtype: int64"
   ]
  },
  {
   "cell_type": "markdown",
   "id": "4d39807e",
   "metadata": {},
   "source": [
    "nombre_infected       168\n",
    "nombre_sain          1498\n",
    "nombre_exposed         57\n",
    "nombre_recovered    18277\n",
    "Name: 68, dtype: int64"
   ]
  },
  {
   "cell_type": "markdown",
   "id": "c6ce4078",
   "metadata": {},
   "source": [
    "nombre_infected       158\n",
    "nombre_sain          1538\n",
    "nombre_exposed         55\n",
    "nombre_recovered    18249\n",
    "Name: 69, dtype: int64"
   ]
  },
  {
   "cell_type": "markdown",
   "id": "a4031d1a",
   "metadata": {},
   "source": [
    "nombre_infected       143\n",
    "nombre_sain          1592\n",
    "nombre_exposed         54\n",
    "nombre_recovered    18211\n",
    "Name: 70, dtype: int64"
   ]
  },
  {
   "cell_type": "markdown",
   "id": "f0701a66",
   "metadata": {},
   "source": [
    "nombre_infected       129\n",
    "nombre_sain          1618\n",
    "nombre_exposed         62\n",
    "nombre_recovered    18191\n",
    "Name: 71, dtype: int64"
   ]
  },
  {
   "cell_type": "markdown",
   "id": "c68a8ff5",
   "metadata": {},
   "source": [
    "nombre_infected       127\n",
    "nombre_sain          1667\n",
    "nombre_exposed         61\n",
    "nombre_recovered    18145\n",
    "Name: 72, dtype: int64"
   ]
  },
  {
   "cell_type": "markdown",
   "id": "8808d6d1",
   "metadata": {},
   "source": [
    "nombre_infected       125\n",
    "nombre_sain          1718\n",
    "nombre_exposed         58\n",
    "nombre_recovered    18099\n",
    "Name: 73, dtype: int64"
   ]
  },
  {
   "cell_type": "markdown",
   "id": "08d8be82",
   "metadata": {},
   "source": [
    "nombre_infected       111\n",
    "nombre_sain          1778\n",
    "nombre_exposed         53\n",
    "nombre_recovered    18058\n",
    "Name: 74, dtype: int64"
   ]
  },
  {
   "cell_type": "markdown",
   "id": "fb48ed18",
   "metadata": {},
   "source": [
    "nombre_infected       108\n",
    "nombre_sain          1820\n",
    "nombre_exposed         43\n",
    "nombre_recovered    18029\n",
    "Name: 75, dtype: int64"
   ]
  },
  {
   "cell_type": "markdown",
   "id": "4ca059be",
   "metadata": {},
   "source": [
    "nombre_infected       108\n",
    "nombre_sain          1858\n",
    "nombre_exposed         39\n",
    "nombre_recovered    17995\n",
    "Name: 76, dtype: int64"
   ]
  },
  {
   "cell_type": "markdown",
   "id": "264bbc6a",
   "metadata": {},
   "source": [
    "nombre_infected       108\n",
    "nombre_sain          1904\n",
    "nombre_exposed         40\n",
    "nombre_recovered    17948\n",
    "Name: 77, dtype: int64"
   ]
  },
  {
   "cell_type": "markdown",
   "id": "974a0120",
   "metadata": {},
   "source": [
    "nombre_infected        99\n",
    "nombre_sain          1945\n",
    "nombre_exposed         49\n",
    "nombre_recovered    17907\n",
    "Name: 78, dtype: int64"
   ]
  },
  {
   "cell_type": "markdown",
   "id": "ebf05e77",
   "metadata": {},
   "source": [
    "nombre_infected        95\n",
    "nombre_sain          1983\n",
    "nombre_exposed         47\n",
    "nombre_recovered    17875\n",
    "Name: 79, dtype: int64"
   ]
  },
  {
   "cell_type": "markdown",
   "id": "2c5c79e0",
   "metadata": {},
   "source": [
    "nombre_infected        87\n",
    "nombre_sain          2033\n",
    "nombre_exposed         47\n",
    "nombre_recovered    17833\n",
    "Name: 80, dtype: int64"
   ]
  },
  {
   "cell_type": "markdown",
   "id": "a01deb02",
   "metadata": {},
   "source": [
    "nombre_infected        93\n",
    "nombre_sain          2066\n",
    "nombre_exposed         39\n",
    "nombre_recovered    17802\n",
    "Name: 81, dtype: int64"
   ]
  },
  {
   "cell_type": "markdown",
   "id": "9905b1c1",
   "metadata": {},
   "source": [
    "nombre_infected        94\n",
    "nombre_sain          2106\n",
    "nombre_exposed         35\n",
    "nombre_recovered    17765\n",
    "Name: 82, dtype: int64"
   ]
  },
  {
   "cell_type": "markdown",
   "id": "75ad398e",
   "metadata": {},
   "source": [
    "nombre_infected        89\n",
    "nombre_sain          2141\n",
    "nombre_exposed         35\n",
    "nombre_recovered    17735\n",
    "Name: 83, dtype: int64"
   ]
  },
  {
   "cell_type": "markdown",
   "id": "b11fbc46",
   "metadata": {},
   "source": [
    "nombre_infected        81\n",
    "nombre_sain          2184\n",
    "nombre_exposed         34\n",
    "nombre_recovered    17701\n",
    "Name: 84, dtype: int64"
   ]
  },
  {
   "cell_type": "markdown",
   "id": "cd7e7189",
   "metadata": {},
   "source": [
    "nombre_infected        74\n",
    "nombre_sain          2204\n",
    "nombre_exposed         38\n",
    "nombre_recovered    17684\n",
    "Name: 85, dtype: int64"
   ]
  },
  {
   "cell_type": "markdown",
   "id": "3139fb54",
   "metadata": {},
   "source": [
    "nombre_infected        67\n",
    "nombre_sain          2220\n",
    "nombre_exposed         40\n",
    "nombre_recovered    17673\n",
    "Name: 86, dtype: int64"
   ]
  },
  {
   "cell_type": "markdown",
   "id": "748a06b2",
   "metadata": {},
   "source": [
    "nombre_infected        63\n",
    "nombre_sain          2255\n",
    "nombre_exposed         38\n",
    "nombre_recovered    17644\n",
    "Name: 87, dtype: int64"
   ]
  },
  {
   "cell_type": "markdown",
   "id": "99f3150e",
   "metadata": {},
   "source": [
    "nombre_infected        64\n",
    "nombre_sain          2287\n",
    "nombre_exposed         38\n",
    "nombre_recovered    17611\n",
    "Name: 88, dtype: int64"
   ]
  },
  {
   "cell_type": "markdown",
   "id": "11124331",
   "metadata": {},
   "source": [
    "nombre_infected        65\n",
    "nombre_sain          2311\n",
    "nombre_exposed         38\n",
    "nombre_recovered    17586\n",
    "Name: 89, dtype: int64"
   ]
  },
  {
   "cell_type": "markdown",
   "id": "70c7cdb4",
   "metadata": {},
   "source": [
    "nombre_infected        66\n",
    "nombre_sain          2328\n",
    "nombre_exposed         38\n",
    "nombre_recovered    17568\n",
    "Name: 90, dtype: int64"
   ]
  },
  {
   "cell_type": "markdown",
   "id": "9e79c7ba",
   "metadata": {},
   "source": [
    "nombre_infected        63\n",
    "nombre_sain          2354\n",
    "nombre_exposed         42\n",
    "nombre_recovered    17541\n",
    "Name: 91, dtype: int64"
   ]
  },
  {
   "cell_type": "markdown",
   "id": "695db393",
   "metadata": {},
   "source": [
    "nombre_infected        70\n",
    "nombre_sain          2373\n",
    "nombre_exposed         39\n",
    "nombre_recovered    17518\n",
    "Name: 92, dtype: int64"
   ]
  },
  {
   "cell_type": "markdown",
   "id": "fbd2f729",
   "metadata": {},
   "source": [
    "nombre_infected        74\n",
    "nombre_sain          2405\n",
    "nombre_exposed         38\n",
    "nombre_recovered    17483\n",
    "Name: 93, dtype: int64"
   ]
  },
  {
   "cell_type": "markdown",
   "id": "0e29812b",
   "metadata": {},
   "source": [
    "nombre_infected        79\n",
    "nombre_sain          2427\n",
    "nombre_exposed         36\n",
    "nombre_recovered    17458\n",
    "Name: 94, dtype: int64"
   ]
  },
  {
   "cell_type": "markdown",
   "id": "5bbc35da",
   "metadata": {},
   "source": [
    "nombre_infected        80\n",
    "nombre_sain          2459\n",
    "nombre_exposed         37\n",
    "nombre_recovered    17424\n",
    "Name: 95, dtype: int64"
   ]
  },
  {
   "cell_type": "markdown",
   "id": "a68ddfc5",
   "metadata": {},
   "source": [
    "nombre_infected        72\n",
    "nombre_sain          2489\n",
    "nombre_exposed         35\n",
    "nombre_recovered    17404\n",
    "Name: 96, dtype: int64"
   ]
  },
  {
   "cell_type": "markdown",
   "id": "90c871cf",
   "metadata": {},
   "source": [
    "nombre_infected        65\n",
    "nombre_sain          2509\n",
    "nombre_exposed         42\n",
    "nombre_recovered    17384\n",
    "Name: 97, dtype: int64"
   ]
  },
  {
   "cell_type": "markdown",
   "id": "3b9ad795",
   "metadata": {},
   "source": [
    "nombre_infected        66\n",
    "nombre_sain          2537\n",
    "nombre_exposed         40\n",
    "nombre_recovered    17357\n",
    "Name: 98, dtype: int64"
   ]
  },
  {
   "cell_type": "markdown",
   "id": "896bc61f",
   "metadata": {},
   "source": [
    "nombre_infected        57\n",
    "nombre_sain          2555\n",
    "nombre_exposed         41\n",
    "nombre_recovered    17347\n",
    "Name: 99, dtype: int64"
   ]
  },
  {
   "cell_type": "markdown",
   "id": "2ff08f59",
   "metadata": {},
   "source": [
    "nombre_infected        56\n",
    "nombre_sain          2576\n",
    "nombre_exposed         45\n",
    "nombre_recovered    17323\n",
    "Name: 100, dtype: int64"
   ]
  },
  {
   "cell_type": "markdown",
   "id": "4f359a2c",
   "metadata": {},
   "source": [
    "nombre_infected        55\n",
    "nombre_sain          2616\n",
    "nombre_exposed         42\n",
    "nombre_recovered    17287\n",
    "Name: 101, dtype: int64"
   ]
  },
  {
   "cell_type": "markdown",
   "id": "6ace31db",
   "metadata": {},
   "source": [
    "nombre_infected        52\n",
    "nombre_sain          2652\n",
    "nombre_exposed         43\n",
    "nombre_recovered    17253\n",
    "Name: 102, dtype: int64"
   ]
  },
  {
   "cell_type": "markdown",
   "id": "473d9f18",
   "metadata": {},
   "source": [
    "nombre_infected        54\n",
    "nombre_sain          2695\n",
    "nombre_exposed         48\n",
    "nombre_recovered    17203\n",
    "Name: 103, dtype: int64"
   ]
  },
  {
   "cell_type": "markdown",
   "id": "226c07a4",
   "metadata": {},
   "source": [
    "nombre_infected        61\n",
    "nombre_sain          2728\n",
    "nombre_exposed         46\n",
    "nombre_recovered    17165\n",
    "Name: 104, dtype: int64"
   ]
  },
  {
   "cell_type": "markdown",
   "id": "6ecf44fa",
   "metadata": {},
   "source": [
    "nombre_infected        65\n",
    "nombre_sain          2777\n",
    "nombre_exposed         50\n",
    "nombre_recovered    17108\n",
    "Name: 105, dtype: int64"
   ]
  },
  {
   "cell_type": "markdown",
   "id": "c8334c2a",
   "metadata": {},
   "source": [
    "nombre_infected        68\n",
    "nombre_sain          2814\n",
    "nombre_exposed         54\n",
    "nombre_recovered    17064\n",
    "Name: 106, dtype: int64"
   ]
  },
  {
   "cell_type": "markdown",
   "id": "c33d526b",
   "metadata": {},
   "source": [
    "nombre_infected        67\n",
    "nombre_sain          2855\n",
    "nombre_exposed         67\n",
    "nombre_recovered    17011\n",
    "Name: 107, dtype: int64"
   ]
  },
  {
   "cell_type": "markdown",
   "id": "b4568256",
   "metadata": {},
   "source": [
    "nombre_infected        70\n",
    "nombre_sain          2900\n",
    "nombre_exposed         61\n",
    "nombre_recovered    16969\n",
    "Name: 108, dtype: int64"
   ]
  },
  {
   "cell_type": "markdown",
   "id": "8ec82ce8",
   "metadata": {},
   "source": [
    "nombre_infected        80\n",
    "nombre_sain          2935\n",
    "nombre_exposed         66\n",
    "nombre_recovered    16919\n",
    "Name: 109, dtype: int64"
   ]
  },
  {
   "cell_type": "markdown",
   "id": "eadc600c",
   "metadata": {},
   "source": [
    "nombre_infected        89\n",
    "nombre_sain          2993\n",
    "nombre_exposed         55\n",
    "nombre_recovered    16863\n",
    "Name: 110, dtype: int64"
   ]
  },
  {
   "cell_type": "markdown",
   "id": "0c55eb3b",
   "metadata": {},
   "source": [
    "nombre_infected        86\n",
    "nombre_sain          3038\n",
    "nombre_exposed         64\n",
    "nombre_recovered    16812\n",
    "Name: 111, dtype: int64"
   ]
  },
  {
   "cell_type": "markdown",
   "id": "9ba2bb2a",
   "metadata": {},
   "source": [
    "nombre_infected        89\n",
    "nombre_sain          3080\n",
    "nombre_exposed         72\n",
    "nombre_recovered    16759\n",
    "Name: 112, dtype: int64"
   ]
  },
  {
   "cell_type": "markdown",
   "id": "f3357730",
   "metadata": {},
   "source": [
    "nombre_infected        89\n",
    "nombre_sain          3129\n",
    "nombre_exposed         85\n",
    "nombre_recovered    16697\n",
    "Name: 113, dtype: int64"
   ]
  },
  {
   "cell_type": "markdown",
   "id": "0961dc07",
   "metadata": {},
   "source": [
    "nombre_infected        93\n",
    "nombre_sain          3194\n",
    "nombre_exposed         80\n",
    "nombre_recovered    16633\n",
    "Name: 114, dtype: int64"
   ]
  },
  {
   "cell_type": "markdown",
   "id": "69180118",
   "metadata": {},
   "source": [
    "nombre_infected       114\n",
    "nombre_sain          3246\n",
    "nombre_exposed         76\n",
    "nombre_recovered    16564\n",
    "Name: 115, dtype: int64"
   ]
  },
  {
   "cell_type": "markdown",
   "id": "615fb39c",
   "metadata": {},
   "source": [
    "nombre_infected       114\n",
    "nombre_sain          3294\n",
    "nombre_exposed         84\n",
    "nombre_recovered    16508\n",
    "Name: 116, dtype: int64"
   ]
  },
  {
   "cell_type": "markdown",
   "id": "2222611a",
   "metadata": {},
   "source": [
    "nombre_infected       118\n",
    "nombre_sain          3337\n",
    "nombre_exposed         88\n",
    "nombre_recovered    16457\n",
    "Name: 117, dtype: int64"
   ]
  },
  {
   "cell_type": "markdown",
   "id": "750d0b43",
   "metadata": {},
   "source": [
    "nombre_infected       128\n",
    "nombre_sain          3367\n",
    "nombre_exposed         92\n",
    "nombre_recovered    16413\n",
    "Name: 118, dtype: int64"
   ]
  },
  {
   "cell_type": "markdown",
   "id": "af367c28",
   "metadata": {},
   "source": [
    "nombre_infected       133\n",
    "nombre_sain          3395\n",
    "nombre_exposed         98\n",
    "nombre_recovered    16374\n",
    "Name: 119, dtype: int64"
   ]
  },
  {
   "cell_type": "markdown",
   "id": "55f4ea4f",
   "metadata": {},
   "source": [
    "nombre_infected       137\n",
    "nombre_sain          3443\n",
    "nombre_exposed         96\n",
    "nombre_recovered    16324\n",
    "Name: 120, dtype: int64"
   ]
  },
  {
   "cell_type": "markdown",
   "id": "2ecc555e",
   "metadata": {},
   "source": [
    "nombre_infected       141\n",
    "nombre_sain          3465\n",
    "nombre_exposed        103\n",
    "nombre_recovered    16291\n",
    "Name: 121, dtype: int64"
   ]
  },
  {
   "cell_type": "markdown",
   "id": "a505f770",
   "metadata": {},
   "source": [
    "nombre_infected       152\n",
    "nombre_sain          3498\n",
    "nombre_exposed        112\n",
    "nombre_recovered    16238\n",
    "Name: 122, dtype: int64"
   ]
  },
  {
   "cell_type": "markdown",
   "id": "144478c8",
   "metadata": {},
   "source": [
    "nombre_infected       153\n",
    "nombre_sain          3520\n",
    "nombre_exposed        123\n",
    "nombre_recovered    16204\n",
    "Name: 123, dtype: int64"
   ]
  },
  {
   "cell_type": "markdown",
   "id": "c3c070b6",
   "metadata": {},
   "source": [
    "nombre_infected       165\n",
    "nombre_sain          3524\n",
    "nombre_exposed        132\n",
    "nombre_recovered    16179\n",
    "Name: 124, dtype: int64"
   ]
  },
  {
   "cell_type": "markdown",
   "id": "4c8ca407",
   "metadata": {},
   "source": [
    "nombre_infected       168\n",
    "nombre_sain          3528\n",
    "nombre_exposed        149\n",
    "nombre_recovered    16155\n",
    "Name: 125, dtype: int64"
   ]
  },
  {
   "cell_type": "markdown",
   "id": "970b4330",
   "metadata": {},
   "source": [
    "nombre_infected       182\n",
    "nombre_sain          3538\n",
    "nombre_exposed        144\n",
    "nombre_recovered    16136\n",
    "Name: 126, dtype: int64"
   ]
  },
  {
   "cell_type": "markdown",
   "id": "d166d1a8",
   "metadata": {},
   "source": [
    "nombre_infected       193\n",
    "nombre_sain          3530\n",
    "nombre_exposed        158\n",
    "nombre_recovered    16119\n",
    "Name: 127, dtype: int64"
   ]
  },
  {
   "cell_type": "markdown",
   "id": "c6cc5677",
   "metadata": {},
   "source": [
    "nombre_infected       206\n",
    "nombre_sain          3519\n",
    "nombre_exposed        173\n",
    "nombre_recovered    16102\n",
    "Name: 128, dtype: int64"
   ]
  },
  {
   "cell_type": "markdown",
   "id": "57d609bb",
   "metadata": {},
   "source": [
    "nombre_infected       222\n",
    "nombre_sain          3513\n",
    "nombre_exposed        175\n",
    "nombre_recovered    16090\n",
    "Name: 129, dtype: int64"
   ]
  },
  {
   "cell_type": "markdown",
   "id": "4cad2217",
   "metadata": {},
   "source": [
    "nombre_infected       235\n",
    "nombre_sain          3497\n",
    "nombre_exposed        186\n",
    "nombre_recovered    16082\n",
    "Name: 130, dtype: int64"
   ]
  },
  {
   "cell_type": "markdown",
   "id": "8b906760",
   "metadata": {},
   "source": [
    "nombre_infected       252\n",
    "nombre_sain          3487\n",
    "nombre_exposed        186\n",
    "nombre_recovered    16075\n",
    "Name: 131, dtype: int64"
   ]
  },
  {
   "cell_type": "markdown",
   "id": "86ed1453",
   "metadata": {},
   "source": [
    "nombre_infected       264\n",
    "nombre_sain          3472\n",
    "nombre_exposed        203\n",
    "nombre_recovered    16061\n",
    "Name: 132, dtype: int64"
   ]
  },
  {
   "cell_type": "markdown",
   "id": "8cfca523",
   "metadata": {},
   "source": [
    "nombre_infected       275\n",
    "nombre_sain          3454\n",
    "nombre_exposed        216\n",
    "nombre_recovered    16055\n",
    "Name: 133, dtype: int64"
   ]
  },
  {
   "cell_type": "markdown",
   "id": "592f9023",
   "metadata": {},
   "source": [
    "nombre_infected       296\n",
    "nombre_sain          3440\n",
    "nombre_exposed        219\n",
    "nombre_recovered    16045\n",
    "Name: 134, dtype: int64"
   ]
  },
  {
   "cell_type": "markdown",
   "id": "76238c0b",
   "metadata": {},
   "source": [
    "nombre_infected       305\n",
    "nombre_sain          3437\n",
    "nombre_exposed        222\n",
    "nombre_recovered    16036\n",
    "Name: 135, dtype: int64"
   ]
  },
  {
   "cell_type": "markdown",
   "id": "a51b5c24",
   "metadata": {},
   "source": [
    "nombre_infected       321\n",
    "nombre_sain          3418\n",
    "nombre_exposed        234\n",
    "nombre_recovered    16027\n",
    "Name: 136, dtype: int64"
   ]
  },
  {
   "cell_type": "markdown",
   "id": "15f1b3d4",
   "metadata": {},
   "source": [
    "nombre_infected       345\n",
    "nombre_sain          3417\n",
    "nombre_exposed        239\n",
    "nombre_recovered    15999\n",
    "Name: 137, dtype: int64"
   ]
  },
  {
   "cell_type": "markdown",
   "id": "a39bb852",
   "metadata": {},
   "source": [
    "nombre_infected       357\n",
    "nombre_sain          3405\n",
    "nombre_exposed        248\n",
    "nombre_recovered    15990\n",
    "Name: 138, dtype: int64"
   ]
  },
  {
   "cell_type": "markdown",
   "id": "959a08fd",
   "metadata": {},
   "source": [
    "nombre_infected       388\n",
    "nombre_sain          3368\n",
    "nombre_exposed        282\n",
    "nombre_recovered    15962\n",
    "Name: 139, dtype: int64"
   ]
  },
  {
   "cell_type": "markdown",
   "id": "5583e1a0",
   "metadata": {},
   "source": [
    "nombre_infected       403\n",
    "nombre_sain          3355\n",
    "nombre_exposed        294\n",
    "nombre_recovered    15948\n",
    "Name: 140, dtype: int64"
   ]
  },
  {
   "cell_type": "markdown",
   "id": "c094de70",
   "metadata": {},
   "source": [
    "nombre_infected       419\n",
    "nombre_sain          3351\n",
    "nombre_exposed        293\n",
    "nombre_recovered    15937\n",
    "Name: 141, dtype: int64"
   ]
  },
  {
   "cell_type": "markdown",
   "id": "e5a20923",
   "metadata": {},
   "source": [
    "nombre_infected       451\n",
    "nombre_sain          3323\n",
    "nombre_exposed        310\n",
    "nombre_recovered    15916\n",
    "Name: 142, dtype: int64"
   ]
  },
  {
   "cell_type": "markdown",
   "id": "b5e92da7",
   "metadata": {},
   "source": [
    "nombre_infected       482\n",
    "nombre_sain          3288\n",
    "nombre_exposed        327\n",
    "nombre_recovered    15903\n",
    "Name: 143, dtype: int64"
   ]
  },
  {
   "cell_type": "markdown",
   "id": "f711e89b",
   "metadata": {},
   "source": [
    "nombre_infected       514\n",
    "nombre_sain          3259\n",
    "nombre_exposed        336\n",
    "nombre_recovered    15891\n",
    "Name: 144, dtype: int64"
   ]
  },
  {
   "cell_type": "markdown",
   "id": "e9bda582",
   "metadata": {},
   "source": [
    "nombre_infected       550\n",
    "nombre_sain          3241\n",
    "nombre_exposed        329\n",
    "nombre_recovered    15880\n",
    "Name: 145, dtype: int64"
   ]
  },
  {
   "cell_type": "markdown",
   "id": "e64405c6",
   "metadata": {},
   "source": [
    "nombre_infected       567\n",
    "nombre_sain          3206\n",
    "nombre_exposed        358\n",
    "nombre_recovered    15869\n",
    "Name: 146, dtype: int64"
   ]
  },
  {
   "cell_type": "markdown",
   "id": "1f7647fb",
   "metadata": {},
   "source": [
    "nombre_infected       589\n",
    "nombre_sain          3210\n",
    "nombre_exposed        359\n",
    "nombre_recovered    15842\n",
    "Name: 147, dtype: int64"
   ]
  },
  {
   "cell_type": "markdown",
   "id": "abf8ba09",
   "metadata": {},
   "source": [
    "nombre_infected       617\n",
    "nombre_sain          3188\n",
    "nombre_exposed        367\n",
    "nombre_recovered    15828\n",
    "Name: 148, dtype: int64"
   ]
  },
  {
   "cell_type": "markdown",
   "id": "98cfe40b",
   "metadata": {},
   "source": [
    "nombre_infected       640\n",
    "nombre_sain          3153\n",
    "nombre_exposed        393\n",
    "nombre_recovered    15814\n",
    "Name: 149, dtype: int64"
   ]
  },
  {
   "cell_type": "markdown",
   "id": "f719fe7a",
   "metadata": {},
   "source": [
    "nombre_infected       654\n",
    "nombre_sain          3097\n",
    "nombre_exposed        437\n",
    "nombre_recovered    15812\n",
    "Name: 150, dtype: int64"
   ]
  },
  {
   "cell_type": "markdown",
   "id": "5e9e8995",
   "metadata": {},
   "source": [
    "nombre_infected       676\n",
    "nombre_sain          3058\n",
    "nombre_exposed        462\n",
    "nombre_recovered    15804\n",
    "Name: 151, dtype: int64"
   ]
  },
  {
   "cell_type": "markdown",
   "id": "ce9b5397",
   "metadata": {},
   "source": [
    "nombre_infected       700\n",
    "nombre_sain          3018\n",
    "nombre_exposed        489\n",
    "nombre_recovered    15793\n",
    "Name: 152, dtype: int64"
   ]
  },
  {
   "cell_type": "markdown",
   "id": "ce67efc9",
   "metadata": {},
   "source": [
    "nombre_infected       747\n",
    "nombre_sain          2979\n",
    "nombre_exposed        482\n",
    "nombre_recovered    15792\n",
    "Name: 153, dtype: int64"
   ]
  },
  {
   "cell_type": "markdown",
   "id": "40c923d9",
   "metadata": {},
   "source": [
    "nombre_infected       790\n",
    "nombre_sain          2923\n",
    "nombre_exposed        497\n",
    "nombre_recovered    15790\n",
    "Name: 154, dtype: int64"
   ]
  },
  {
   "cell_type": "markdown",
   "id": "66f00e71",
   "metadata": {},
   "source": [
    "nombre_infected       806\n",
    "nombre_sain          2873\n",
    "nombre_exposed        520\n",
    "nombre_recovered    15801\n",
    "Name: 155, dtype: int64"
   ]
  },
  {
   "cell_type": "markdown",
   "id": "f1b24120",
   "metadata": {},
   "source": [
    "nombre_infected       825\n",
    "nombre_sain          2824\n",
    "nombre_exposed        515\n",
    "nombre_recovered    15836\n",
    "Name: 156, dtype: int64"
   ]
  },
  {
   "cell_type": "markdown",
   "id": "1c0b1286",
   "metadata": {},
   "source": [
    "nombre_infected       860\n",
    "nombre_sain          2764\n",
    "nombre_exposed        516\n",
    "nombre_recovered    15860\n",
    "Name: 157, dtype: int64"
   ]
  },
  {
   "cell_type": "markdown",
   "id": "bbddf5e3",
   "metadata": {},
   "source": [
    "nombre_infected       883\n",
    "nombre_sain          2693\n",
    "nombre_exposed        539\n",
    "nombre_recovered    15885\n",
    "Name: 158, dtype: int64"
   ]
  },
  {
   "cell_type": "markdown",
   "id": "15ff01b3",
   "metadata": {},
   "source": [
    "nombre_infected       897\n",
    "nombre_sain          2629\n",
    "nombre_exposed        558\n",
    "nombre_recovered    15916\n",
    "Name: 159, dtype: int64"
   ]
  },
  {
   "cell_type": "markdown",
   "id": "f520c0b7",
   "metadata": {},
   "source": [
    "nombre_infected       918\n",
    "nombre_sain          2576\n",
    "nombre_exposed        544\n",
    "nombre_recovered    15962\n",
    "Name: 160, dtype: int64"
   ]
  },
  {
   "cell_type": "markdown",
   "id": "3adf3668",
   "metadata": {},
   "source": [
    "nombre_infected       941\n",
    "nombre_sain          2496\n",
    "nombre_exposed        551\n",
    "nombre_recovered    16012\n",
    "Name: 161, dtype: int64"
   ]
  },
  {
   "cell_type": "markdown",
   "id": "48656b09",
   "metadata": {},
   "source": [
    "nombre_infected       951\n",
    "nombre_sain          2443\n",
    "nombre_exposed        563\n",
    "nombre_recovered    16043\n",
    "Name: 162, dtype: int64"
   ]
  },
  {
   "cell_type": "markdown",
   "id": "e647b966",
   "metadata": {},
   "source": [
    "nombre_infected       971\n",
    "nombre_sain          2372\n",
    "nombre_exposed        571\n",
    "nombre_recovered    16086\n",
    "Name: 163, dtype: int64"
   ]
  },
  {
   "cell_type": "markdown",
   "id": "703803a1",
   "metadata": {},
   "source": [
    "nombre_infected       995\n",
    "nombre_sain          2302\n",
    "nombre_exposed        585\n",
    "nombre_recovered    16118\n",
    "Name: 164, dtype: int64"
   ]
  },
  {
   "cell_type": "markdown",
   "id": "0628600f",
   "metadata": {},
   "source": [
    "nombre_infected      1017\n",
    "nombre_sain          2207\n",
    "nombre_exposed        604\n",
    "nombre_recovered    16172\n",
    "Name: 165, dtype: int64"
   ]
  },
  {
   "cell_type": "markdown",
   "id": "eb7d1426",
   "metadata": {},
   "source": [
    "nombre_infected      1029\n",
    "nombre_sain          2146\n",
    "nombre_exposed        619\n",
    "nombre_recovered    16206\n",
    "Name: 166, dtype: int64"
   ]
  },
  {
   "cell_type": "markdown",
   "id": "144b0640",
   "metadata": {},
   "source": [
    "nombre_infected      1043\n",
    "nombre_sain          2137\n",
    "nombre_exposed        580\n",
    "nombre_recovered    16240\n",
    "Name: 167, dtype: int64"
   ]
  },
  {
   "cell_type": "markdown",
   "id": "5dddda46",
   "metadata": {},
   "source": [
    "nombre_infected      1035\n",
    "nombre_sain          2085\n",
    "nombre_exposed        591\n",
    "nombre_recovered    16289\n",
    "Name: 168, dtype: int64"
   ]
  },
  {
   "cell_type": "markdown",
   "id": "8ddd60c5",
   "metadata": {},
   "source": [
    "nombre_infected      1048\n",
    "nombre_sain          2030\n",
    "nombre_exposed        606\n",
    "nombre_recovered    16316\n",
    "Name: 169, dtype: int64"
   ]
  },
  {
   "cell_type": "markdown",
   "id": "c6bcfd01",
   "metadata": {},
   "source": [
    "nombre_infected      1020\n",
    "nombre_sain          2012\n",
    "nombre_exposed        584\n",
    "nombre_recovered    16384\n",
    "Name: 170, dtype: int64"
   ]
  },
  {
   "cell_type": "markdown",
   "id": "d3097a11",
   "metadata": {},
   "source": [
    "nombre_infected      1038\n",
    "nombre_sain          1957\n",
    "nombre_exposed        580\n",
    "nombre_recovered    16425\n",
    "Name: 171, dtype: int64"
   ]
  },
  {
   "cell_type": "markdown",
   "id": "afa47c00",
   "metadata": {},
   "source": [
    "nombre_infected      1027\n",
    "nombre_sain          1948\n",
    "nombre_exposed        551\n",
    "nombre_recovered    16474\n",
    "Name: 172, dtype: int64"
   ]
  },
  {
   "cell_type": "markdown",
   "id": "530c8966",
   "metadata": {},
   "source": [
    "nombre_infected      1006\n",
    "nombre_sain          1920\n",
    "nombre_exposed        539\n",
    "nombre_recovered    16535\n",
    "Name: 173, dtype: int64"
   ]
  },
  {
   "cell_type": "markdown",
   "id": "db4b6c0f",
   "metadata": {},
   "source": [
    "nombre_infected       983\n",
    "nombre_sain          1895\n",
    "nombre_exposed        543\n",
    "nombre_recovered    16579\n",
    "Name: 174, dtype: int64"
   ]
  },
  {
   "cell_type": "markdown",
   "id": "d3070640",
   "metadata": {},
   "source": [
    "nombre_infected       983\n",
    "nombre_sain          1855\n",
    "nombre_exposed        531\n",
    "nombre_recovered    16631\n",
    "Name: 175, dtype: int64"
   ]
  },
  {
   "cell_type": "markdown",
   "id": "076a84ab",
   "metadata": {},
   "source": [
    "nombre_infected       997\n",
    "nombre_sain          1835\n",
    "nombre_exposed        487\n",
    "nombre_recovered    16681\n",
    "Name: 176, dtype: int64"
   ]
  },
  {
   "cell_type": "markdown",
   "id": "a7bc1292",
   "metadata": {},
   "source": [
    "nombre_infected       991\n",
    "nombre_sain          1799\n",
    "nombre_exposed        481\n",
    "nombre_recovered    16729\n",
    "Name: 177, dtype: int64"
   ]
  },
  {
   "cell_type": "markdown",
   "id": "48fb58a4",
   "metadata": {},
   "source": [
    "nombre_infected       989\n",
    "nombre_sain          1787\n",
    "nombre_exposed        468\n",
    "nombre_recovered    16756\n",
    "Name: 178, dtype: int64"
   ]
  },
  {
   "cell_type": "markdown",
   "id": "d838d8d1",
   "metadata": {},
   "source": [
    "nombre_infected       945\n",
    "nombre_sain          1782\n",
    "nombre_exposed        459\n",
    "nombre_recovered    16814\n",
    "Name: 179, dtype: int64"
   ]
  },
  {
   "cell_type": "markdown",
   "id": "78aecc37",
   "metadata": {},
   "source": [
    "nombre_infected       916\n",
    "nombre_sain          1754\n",
    "nombre_exposed        474\n",
    "nombre_recovered    16856\n",
    "Name: 180, dtype: int64"
   ]
  },
  {
   "cell_type": "markdown",
   "id": "3d5031be",
   "metadata": {},
   "source": [
    "nombre_infected       902\n",
    "nombre_sain          1753\n",
    "nombre_exposed        462\n",
    "nombre_recovered    16883\n",
    "Name: 181, dtype: int64"
   ]
  },
  {
   "cell_type": "markdown",
   "id": "24347f25",
   "metadata": {},
   "source": [
    "nombre_infected       888\n",
    "nombre_sain          1769\n",
    "nombre_exposed        463\n",
    "nombre_recovered    16880\n",
    "Name: 182, dtype: int64"
   ]
  },
  {
   "cell_type": "markdown",
   "id": "bc4182d0",
   "metadata": {},
   "source": [
    "nombre_infected       882\n",
    "nombre_sain          1763\n",
    "nombre_exposed        460\n",
    "nombre_recovered    16895\n",
    "Name: 183, dtype: int64"
   ]
  },
  {
   "cell_type": "markdown",
   "id": "44e674b8",
   "metadata": {},
   "source": [
    "nombre_infected       853\n",
    "nombre_sain          1781\n",
    "nombre_exposed        441\n",
    "nombre_recovered    16925\n",
    "Name: 184, dtype: int64"
   ]
  },
  {
   "cell_type": "markdown",
   "id": "2833b8a6",
   "metadata": {},
   "source": [
    "nombre_infected       869\n",
    "nombre_sain          1777\n",
    "nombre_exposed        428\n",
    "nombre_recovered    16926\n",
    "Name: 185, dtype: int64"
   ]
  },
  {
   "cell_type": "markdown",
   "id": "6b51e502",
   "metadata": {},
   "source": [
    "nombre_infected       834\n",
    "nombre_sain          1778\n",
    "nombre_exposed        445\n",
    "nombre_recovered    16943\n",
    "Name: 186, dtype: int64"
   ]
  },
  {
   "cell_type": "markdown",
   "id": "3035e773",
   "metadata": {},
   "source": [
    "nombre_infected       823\n",
    "nombre_sain          1769\n",
    "nombre_exposed        442\n",
    "nombre_recovered    16966\n",
    "Name: 187, dtype: int64"
   ]
  },
  {
   "cell_type": "markdown",
   "id": "4abb2d1d",
   "metadata": {},
   "source": [
    "nombre_infected       840\n",
    "nombre_sain          1750\n",
    "nombre_exposed        431\n",
    "nombre_recovered    16979\n",
    "Name: 188, dtype: int64"
   ]
  },
  {
   "cell_type": "markdown",
   "id": "d6373fa1",
   "metadata": {},
   "source": [
    "nombre_infected       827\n",
    "nombre_sain          1771\n",
    "nombre_exposed        418\n",
    "nombre_recovered    16984\n",
    "Name: 189, dtype: int64"
   ]
  },
  {
   "cell_type": "markdown",
   "id": "2f8858c5",
   "metadata": {},
   "source": [
    "nombre_infected       819\n",
    "nombre_sain          1774\n",
    "nombre_exposed        409\n",
    "nombre_recovered    16998\n",
    "Name: 190, dtype: int64"
   ]
  },
  {
   "cell_type": "markdown",
   "id": "f1a13a5e",
   "metadata": {},
   "source": [
    "nombre_infected       776\n",
    "nombre_sain          1762\n",
    "nombre_exposed        407\n",
    "nombre_recovered    17055\n",
    "Name: 191, dtype: int64"
   ]
  },
  {
   "cell_type": "markdown",
   "id": "3df1b8a9",
   "metadata": {},
   "source": [
    "nombre_infected       760\n",
    "nombre_sain          1758\n",
    "nombre_exposed        407\n",
    "nombre_recovered    17075\n",
    "Name: 192, dtype: int64"
   ]
  },
  {
   "cell_type": "markdown",
   "id": "aba269e5",
   "metadata": {},
   "source": [
    "nombre_infected       753\n",
    "nombre_sain          1772\n",
    "nombre_exposed        377\n",
    "nombre_recovered    17098\n",
    "Name: 193, dtype: int64"
   ]
  },
  {
   "cell_type": "markdown",
   "id": "4a724e14",
   "metadata": {},
   "source": [
    "nombre_infected       745\n",
    "nombre_sain          1774\n",
    "nombre_exposed        371\n",
    "nombre_recovered    17110\n",
    "Name: 194, dtype: int64"
   ]
  },
  {
   "cell_type": "markdown",
   "id": "0aa66c96",
   "metadata": {},
   "source": [
    "nombre_infected       726\n",
    "nombre_sain          1784\n",
    "nombre_exposed        363\n",
    "nombre_recovered    17127\n",
    "Name: 195, dtype: int64"
   ]
  },
  {
   "cell_type": "markdown",
   "id": "05f2a9be",
   "metadata": {},
   "source": [
    "nombre_infected       714\n",
    "nombre_sain          1812\n",
    "nombre_exposed        342\n",
    "nombre_recovered    17132\n",
    "Name: 196, dtype: int64"
   ]
  },
  {
   "cell_type": "markdown",
   "id": "0413b5a4",
   "metadata": {},
   "source": [
    "nombre_infected       691\n",
    "nombre_sain          1824\n",
    "nombre_exposed        348\n",
    "nombre_recovered    17137\n",
    "Name: 197, dtype: int64"
   ]
  },
  {
   "cell_type": "markdown",
   "id": "de1d3987",
   "metadata": {},
   "source": [
    "nombre_infected       669\n",
    "nombre_sain          1847\n",
    "nombre_exposed        348\n",
    "nombre_recovered    17136\n",
    "Name: 198, dtype: int64"
   ]
  },
  {
   "cell_type": "markdown",
   "id": "135fb29c",
   "metadata": {},
   "source": [
    "nombre_infected       652\n",
    "nombre_sain          1870\n",
    "nombre_exposed        347\n",
    "nombre_recovered    17131\n",
    "Name: 199, dtype: int64"
   ]
  },
  {
   "cell_type": "markdown",
   "id": "47e986bd",
   "metadata": {},
   "source": [
    "nombre_infected       648\n",
    "nombre_sain          1904\n",
    "nombre_exposed        327\n",
    "nombre_recovered    17121\n",
    "Name: 200, dtype: int64"
   ]
  },
  {
   "cell_type": "markdown",
   "id": "8b648fad",
   "metadata": {},
   "source": [
    "nombre_infected       637\n",
    "nombre_sain          1931\n",
    "nombre_exposed        324\n",
    "nombre_recovered    17108\n",
    "Name: 201, dtype: int64"
   ]
  },
  {
   "cell_type": "markdown",
   "id": "d89340d6",
   "metadata": {},
   "source": [
    "nombre_infected       647\n",
    "nombre_sain          1952\n",
    "nombre_exposed        317\n",
    "nombre_recovered    17084\n",
    "Name: 202, dtype: int64"
   ]
  },
  {
   "cell_type": "markdown",
   "id": "679b7dbf",
   "metadata": {},
   "source": [
    "nombre_infected       635\n",
    "nombre_sain          1956\n",
    "nombre_exposed        325\n",
    "nombre_recovered    17084\n",
    "Name: 203, dtype: int64"
   ]
  },
  {
   "cell_type": "markdown",
   "id": "63f2f356",
   "metadata": {},
   "source": [
    "nombre_infected       624\n",
    "nombre_sain          1984\n",
    "nombre_exposed        332\n",
    "nombre_recovered    17060\n",
    "Name: 204, dtype: int64"
   ]
  },
  {
   "cell_type": "markdown",
   "id": "03500637",
   "metadata": {},
   "source": [
    "nombre_infected       623\n",
    "nombre_sain          2004\n",
    "nombre_exposed        332\n",
    "nombre_recovered    17041\n",
    "Name: 205, dtype: int64"
   ]
  },
  {
   "cell_type": "markdown",
   "id": "74357f37",
   "metadata": {},
   "source": [
    "nombre_infected       621\n",
    "nombre_sain          2026\n",
    "nombre_exposed        333\n",
    "nombre_recovered    17020\n",
    "Name: 206, dtype: int64"
   ]
  },
  {
   "cell_type": "markdown",
   "id": "f084defb",
   "metadata": {},
   "source": [
    "nombre_infected       636\n",
    "nombre_sain          2037\n",
    "nombre_exposed        330\n",
    "nombre_recovered    16997\n",
    "Name: 207, dtype: int64"
   ]
  },
  {
   "cell_type": "markdown",
   "id": "a59e47bc",
   "metadata": {},
   "source": [
    "nombre_infected       598\n",
    "nombre_sain          2075\n",
    "nombre_exposed        341\n",
    "nombre_recovered    16986\n",
    "Name: 208, dtype: int64"
   ]
  },
  {
   "cell_type": "markdown",
   "id": "9612109b",
   "metadata": {},
   "source": [
    "nombre_infected       581\n",
    "nombre_sain          2100\n",
    "nombre_exposed        332\n",
    "nombre_recovered    16987\n",
    "Name: 209, dtype: int64"
   ]
  },
  {
   "cell_type": "markdown",
   "id": "ead6516d",
   "metadata": {},
   "source": [
    "nombre_infected       589\n",
    "nombre_sain          2122\n",
    "nombre_exposed        323\n",
    "nombre_recovered    16966\n",
    "Name: 210, dtype: int64"
   ]
  },
  {
   "cell_type": "markdown",
   "id": "bee557fc",
   "metadata": {},
   "source": [
    "nombre_infected       560\n",
    "nombre_sain          2156\n",
    "nombre_exposed        311\n",
    "nombre_recovered    16973\n",
    "Name: 211, dtype: int64"
   ]
  },
  {
   "cell_type": "markdown",
   "id": "ad401486",
   "metadata": {},
   "source": [
    "nombre_infected       567\n",
    "nombre_sain          2197\n",
    "nombre_exposed        304\n",
    "nombre_recovered    16932\n",
    "Name: 212, dtype: int64"
   ]
  },
  {
   "cell_type": "markdown",
   "id": "dc9df702",
   "metadata": {},
   "source": [
    "nombre_infected       572\n",
    "nombre_sain          2239\n",
    "nombre_exposed        297\n",
    "nombre_recovered    16892\n",
    "Name: 213, dtype: int64"
   ]
  },
  {
   "cell_type": "markdown",
   "id": "e3206803",
   "metadata": {},
   "source": [
    "nombre_infected       568\n",
    "nombre_sain          2259\n",
    "nombre_exposed        313\n",
    "nombre_recovered    16860\n",
    "Name: 214, dtype: int64"
   ]
  },
  {
   "cell_type": "markdown",
   "id": "5e489592",
   "metadata": {},
   "source": [
    "nombre_infected       548\n",
    "nombre_sain          2275\n",
    "nombre_exposed        341\n",
    "nombre_recovered    16836\n",
    "Name: 215, dtype: int64"
   ]
  },
  {
   "cell_type": "markdown",
   "id": "14459178",
   "metadata": {},
   "source": [
    "nombre_infected       567\n",
    "nombre_sain          2282\n",
    "nombre_exposed        340\n",
    "nombre_recovered    16811\n",
    "Name: 216, dtype: int64"
   ]
  },
  {
   "cell_type": "markdown",
   "id": "b522e06c",
   "metadata": {},
   "source": [
    "nombre_infected       573\n",
    "nombre_sain          2299\n",
    "nombre_exposed        350\n",
    "nombre_recovered    16778\n",
    "Name: 217, dtype: int64"
   ]
  },
  {
   "cell_type": "markdown",
   "id": "6dde9f25",
   "metadata": {},
   "source": [
    "nombre_infected       585\n",
    "nombre_sain          2315\n",
    "nombre_exposed        339\n",
    "nombre_recovered    16761\n",
    "Name: 218, dtype: int64"
   ]
  },
  {
   "cell_type": "markdown",
   "id": "532084b0",
   "metadata": {},
   "source": [
    "nombre_infected       568\n",
    "nombre_sain          2319\n",
    "nombre_exposed        349\n",
    "nombre_recovered    16764\n",
    "Name: 219, dtype: int64"
   ]
  },
  {
   "cell_type": "markdown",
   "id": "ca9fefb8",
   "metadata": {},
   "source": [
    "nombre_infected       566\n",
    "nombre_sain          2312\n",
    "nombre_exposed        357\n",
    "nombre_recovered    16765\n",
    "Name: 220, dtype: int64"
   ]
  },
  {
   "cell_type": "markdown",
   "id": "23a426f6",
   "metadata": {},
   "source": [
    "nombre_infected       549\n",
    "nombre_sain          2334\n",
    "nombre_exposed        358\n",
    "nombre_recovered    16759\n",
    "Name: 221, dtype: int64"
   ]
  },
  {
   "cell_type": "markdown",
   "id": "d9a3adbc",
   "metadata": {},
   "source": [
    "nombre_infected       553\n",
    "nombre_sain          2348\n",
    "nombre_exposed        354\n",
    "nombre_recovered    16745\n",
    "Name: 222, dtype: int64"
   ]
  },
  {
   "cell_type": "markdown",
   "id": "6f82b9e1",
   "metadata": {},
   "source": [
    "nombre_infected       575\n",
    "nombre_sain          2361\n",
    "nombre_exposed        341\n",
    "nombre_recovered    16723\n",
    "Name: 223, dtype: int64"
   ]
  },
  {
   "cell_type": "markdown",
   "id": "d880560e",
   "metadata": {},
   "source": [
    "nombre_infected       585\n",
    "nombre_sain          2392\n",
    "nombre_exposed        335\n",
    "nombre_recovered    16688\n",
    "Name: 224, dtype: int64"
   ]
  },
  {
   "cell_type": "markdown",
   "id": "c751df4b",
   "metadata": {},
   "source": [
    "nombre_infected       604\n",
    "nombre_sain          2396\n",
    "nombre_exposed        348\n",
    "nombre_recovered    16652\n",
    "Name: 225, dtype: int64"
   ]
  },
  {
   "cell_type": "markdown",
   "id": "6a28d544",
   "metadata": {},
   "source": [
    "nombre_infected       572\n",
    "nombre_sain          2429\n",
    "nombre_exposed        367\n",
    "nombre_recovered    16632\n",
    "Name: 226, dtype: int64"
   ]
  },
  {
   "cell_type": "markdown",
   "id": "6aa87545",
   "metadata": {},
   "source": [
    "nombre_infected       571\n",
    "nombre_sain          2453\n",
    "nombre_exposed        362\n",
    "nombre_recovered    16614\n",
    "Name: 227, dtype: int64"
   ]
  },
  {
   "cell_type": "markdown",
   "id": "f26f9900",
   "metadata": {},
   "source": [
    "nombre_infected       575\n",
    "nombre_sain          2469\n",
    "nombre_exposed        359\n",
    "nombre_recovered    16597\n",
    "Name: 228, dtype: int64"
   ]
  },
  {
   "cell_type": "markdown",
   "id": "743408cf",
   "metadata": {},
   "source": [
    "nombre_infected       570\n",
    "nombre_sain          2498\n",
    "nombre_exposed        338\n",
    "nombre_recovered    16594\n",
    "Name: 229, dtype: int64"
   ]
  },
  {
   "cell_type": "markdown",
   "id": "e5eda810",
   "metadata": {},
   "source": [
    "nombre_infected       575\n",
    "nombre_sain          2504\n",
    "nombre_exposed        339\n",
    "nombre_recovered    16582\n",
    "Name: 230, dtype: int64"
   ]
  },
  {
   "cell_type": "markdown",
   "id": "36c6b27c",
   "metadata": {},
   "source": [
    "nombre_infected       567\n",
    "nombre_sain          2491\n",
    "nombre_exposed        358\n",
    "nombre_recovered    16584\n",
    "Name: 231, dtype: int64"
   ]
  },
  {
   "cell_type": "markdown",
   "id": "3b95c28a",
   "metadata": {},
   "source": [
    "nombre_infected       575\n",
    "nombre_sain          2513\n",
    "nombre_exposed        343\n",
    "nombre_recovered    16569\n",
    "Name: 232, dtype: int64"
   ]
  },
  {
   "cell_type": "markdown",
   "id": "483a1683",
   "metadata": {},
   "source": [
    "nombre_infected       583\n",
    "nombre_sain          2499\n",
    "nombre_exposed        364\n",
    "nombre_recovered    16554\n",
    "Name: 233, dtype: int64"
   ]
  },
  {
   "cell_type": "markdown",
   "id": "9d9e0a60",
   "metadata": {},
   "source": [
    "nombre_infected       577\n",
    "nombre_sain          2504\n",
    "nombre_exposed        355\n",
    "nombre_recovered    16564\n",
    "Name: 234, dtype: int64"
   ]
  },
  {
   "cell_type": "markdown",
   "id": "7062f7e2",
   "metadata": {},
   "source": [
    "nombre_infected       590\n",
    "nombre_sain          2505\n",
    "nombre_exposed        347\n",
    "nombre_recovered    16558\n",
    "Name: 235, dtype: int64"
   ]
  },
  {
   "cell_type": "markdown",
   "id": "72626406",
   "metadata": {},
   "source": [
    "nombre_infected       583\n",
    "nombre_sain          2500\n",
    "nombre_exposed        361\n",
    "nombre_recovered    16556\n",
    "Name: 236, dtype: int64"
   ]
  },
  {
   "cell_type": "markdown",
   "id": "84bf7028",
   "metadata": {},
   "source": [
    "nombre_infected       608\n",
    "nombre_sain          2517\n",
    "nombre_exposed        343\n",
    "nombre_recovered    16532\n",
    "Name: 237, dtype: int64"
   ]
  },
  {
   "cell_type": "markdown",
   "id": "ee2d43be",
   "metadata": {},
   "source": [
    "nombre_infected       619\n",
    "nombre_sain          2508\n",
    "nombre_exposed        348\n",
    "nombre_recovered    16525\n",
    "Name: 238, dtype: int64"
   ]
  },
  {
   "cell_type": "markdown",
   "id": "bc53ff7a",
   "metadata": {},
   "source": [
    "nombre_infected       596\n",
    "nombre_sain          2537\n",
    "nombre_exposed        355\n",
    "nombre_recovered    16512\n",
    "Name: 239, dtype: int64"
   ]
  },
  {
   "cell_type": "markdown",
   "id": "db24d4d4",
   "metadata": {},
   "source": [
    "nombre_infected       616\n",
    "nombre_sain          2522\n",
    "nombre_exposed        369\n",
    "nombre_recovered    16493\n",
    "Name: 240, dtype: int64"
   ]
  },
  {
   "cell_type": "markdown",
   "id": "7a4392a1",
   "metadata": {},
   "source": [
    "nombre_infected       602\n",
    "nombre_sain          2547\n",
    "nombre_exposed        349\n",
    "nombre_recovered    16502\n",
    "Name: 241, dtype: int64"
   ]
  },
  {
   "cell_type": "markdown",
   "id": "f873b61e",
   "metadata": {},
   "source": [
    "nombre_infected       610\n",
    "nombre_sain          2536\n",
    "nombre_exposed        375\n",
    "nombre_recovered    16479\n",
    "Name: 242, dtype: int64"
   ]
  },
  {
   "cell_type": "markdown",
   "id": "acabf783",
   "metadata": {},
   "source": [
    "nombre_infected       627\n",
    "nombre_sain          2561\n",
    "nombre_exposed        357\n",
    "nombre_recovered    16455\n",
    "Name: 243, dtype: int64"
   ]
  },
  {
   "cell_type": "markdown",
   "id": "04e4172e",
   "metadata": {},
   "source": [
    "nombre_infected       637\n",
    "nombre_sain          2587\n",
    "nombre_exposed        355\n",
    "nombre_recovered    16421\n",
    "Name: 244, dtype: int64"
   ]
  },
  {
   "cell_type": "markdown",
   "id": "6d765865",
   "metadata": {},
   "source": [
    "nombre_infected       650\n",
    "nombre_sain          2584\n",
    "nombre_exposed        374\n",
    "nombre_recovered    16392\n",
    "Name: 245, dtype: int64"
   ]
  },
  {
   "cell_type": "markdown",
   "id": "e9bab37a",
   "metadata": {},
   "source": [
    "nombre_infected       667\n",
    "nombre_sain          2602\n",
    "nombre_exposed        372\n",
    "nombre_recovered    16359\n",
    "Name: 246, dtype: int64"
   ]
  },
  {
   "cell_type": "markdown",
   "id": "d1460132",
   "metadata": {},
   "source": [
    "nombre_infected       665\n",
    "nombre_sain          2580\n",
    "nombre_exposed        402\n",
    "nombre_recovered    16353\n",
    "Name: 247, dtype: int64"
   ]
  },
  {
   "cell_type": "markdown",
   "id": "6b38a26b",
   "metadata": {},
   "source": [
    "nombre_infected       687\n",
    "nombre_sain          2580\n",
    "nombre_exposed        394\n",
    "nombre_recovered    16339\n",
    "Name: 248, dtype: int64"
   ]
  },
  {
   "cell_type": "markdown",
   "id": "4f66a256",
   "metadata": {},
   "source": [
    "nombre_infected       701\n",
    "nombre_sain          2592\n",
    "nombre_exposed        380\n",
    "nombre_recovered    16327\n",
    "Name: 249, dtype: int64"
   ]
  },
  {
   "cell_type": "markdown",
   "id": "b92453f1",
   "metadata": {},
   "source": [
    "nombre_infected       682\n",
    "nombre_sain          2564\n",
    "nombre_exposed        416\n",
    "nombre_recovered    16338\n",
    "Name: 250, dtype: int64"
   ]
  },
  {
   "cell_type": "markdown",
   "id": "ae82f786",
   "metadata": {},
   "source": [
    "nombre_infected       707\n",
    "nombre_sain          2575\n",
    "nombre_exposed        411\n",
    "nombre_recovered    16307\n",
    "Name: 251, dtype: int64"
   ]
  },
  {
   "cell_type": "markdown",
   "id": "1fe18caf",
   "metadata": {},
   "source": [
    "nombre_infected       706\n",
    "nombre_sain          2570\n",
    "nombre_exposed        417\n",
    "nombre_recovered    16307\n",
    "Name: 252, dtype: int64"
   ]
  },
  {
   "cell_type": "markdown",
   "id": "72212531",
   "metadata": {},
   "source": [
    "nombre_infected       724\n",
    "nombre_sain          2557\n",
    "nombre_exposed        407\n",
    "nombre_recovered    16312\n",
    "Name: 253, dtype: int64"
   ]
  },
  {
   "cell_type": "markdown",
   "id": "1111e912",
   "metadata": {},
   "source": [
    "nombre_infected       728\n",
    "nombre_sain          2539\n",
    "nombre_exposed        410\n",
    "nombre_recovered    16323\n",
    "Name: 254, dtype: int64"
   ]
  },
  {
   "cell_type": "markdown",
   "id": "5cc2736c",
   "metadata": {},
   "source": [
    "nombre_infected       751\n",
    "nombre_sain          2538\n",
    "nombre_exposed        410\n",
    "nombre_recovered    16301\n",
    "Name: 255, dtype: int64"
   ]
  },
  {
   "cell_type": "markdown",
   "id": "605a3695",
   "metadata": {},
   "source": [
    "nombre_infected       749\n",
    "nombre_sain          2526\n",
    "nombre_exposed        416\n",
    "nombre_recovered    16309\n",
    "Name: 256, dtype: int64"
   ]
  },
  {
   "cell_type": "markdown",
   "id": "87f96d45",
   "metadata": {},
   "source": [
    "nombre_infected       765\n",
    "nombre_sain          2522\n",
    "nombre_exposed        409\n",
    "nombre_recovered    16304\n",
    "Name: 257, dtype: int64"
   ]
  },
  {
   "cell_type": "markdown",
   "id": "d8a11bbe",
   "metadata": {},
   "source": [
    "nombre_infected       763\n",
    "nombre_sain          2512\n",
    "nombre_exposed        426\n",
    "nombre_recovered    16299\n",
    "Name: 258, dtype: int64"
   ]
  },
  {
   "cell_type": "markdown",
   "id": "56e061b8",
   "metadata": {},
   "source": [
    "nombre_infected       772\n",
    "nombre_sain          2522\n",
    "nombre_exposed        424\n",
    "nombre_recovered    16282\n",
    "Name: 259, dtype: int64"
   ]
  },
  {
   "cell_type": "markdown",
   "id": "734cb795",
   "metadata": {},
   "source": [
    "nombre_infected       792\n",
    "nombre_sain          2506\n",
    "nombre_exposed        415\n",
    "nombre_recovered    16287\n",
    "Name: 260, dtype: int64"
   ]
  },
  {
   "cell_type": "markdown",
   "id": "bef79363",
   "metadata": {},
   "source": [
    "nombre_infected       781\n",
    "nombre_sain          2502\n",
    "nombre_exposed        412\n",
    "nombre_recovered    16305\n",
    "Name: 261, dtype: int64"
   ]
  },
  {
   "cell_type": "markdown",
   "id": "5a9b1de1",
   "metadata": {},
   "source": [
    "nombre_infected       767\n",
    "nombre_sain          2502\n",
    "nombre_exposed        428\n",
    "nombre_recovered    16303\n",
    "Name: 262, dtype: int64"
   ]
  },
  {
   "cell_type": "markdown",
   "id": "6055d05e",
   "metadata": {},
   "source": [
    "nombre_infected       767\n",
    "nombre_sain          2496\n",
    "nombre_exposed        442\n",
    "nombre_recovered    16295\n",
    "Name: 263, dtype: int64"
   ]
  },
  {
   "cell_type": "markdown",
   "id": "f91ca31c",
   "metadata": {},
   "source": [
    "nombre_infected       782\n",
    "nombre_sain          2497\n",
    "nombre_exposed        432\n",
    "nombre_recovered    16289\n",
    "Name: 264, dtype: int64"
   ]
  },
  {
   "cell_type": "markdown",
   "id": "d5936861",
   "metadata": {},
   "source": [
    "nombre_infected       790\n",
    "nombre_sain          2476\n",
    "nombre_exposed        440\n",
    "nombre_recovered    16294\n",
    "Name: 265, dtype: int64"
   ]
  },
  {
   "cell_type": "markdown",
   "id": "9ac1c30c",
   "metadata": {},
   "source": [
    "nombre_infected       773\n",
    "nombre_sain          2481\n",
    "nombre_exposed        454\n",
    "nombre_recovered    16292\n",
    "Name: 266, dtype: int64"
   ]
  },
  {
   "cell_type": "markdown",
   "id": "b86de1ad",
   "metadata": {},
   "source": [
    "nombre_infected       758\n",
    "nombre_sain          2484\n",
    "nombre_exposed        472\n",
    "nombre_recovered    16286\n",
    "Name: 267, dtype: int64"
   ]
  },
  {
   "cell_type": "markdown",
   "id": "ea160d87",
   "metadata": {},
   "source": [
    "nombre_infected       751\n",
    "nombre_sain          2484\n",
    "nombre_exposed        476\n",
    "nombre_recovered    16289\n",
    "Name: 268, dtype: int64"
   ]
  },
  {
   "cell_type": "markdown",
   "id": "e4fd60d5",
   "metadata": {},
   "source": [
    "nombre_infected       761\n",
    "nombre_sain          2506\n",
    "nombre_exposed        466\n",
    "nombre_recovered    16267\n",
    "Name: 269, dtype: int64"
   ]
  },
  {
   "cell_type": "markdown",
   "id": "beb63b81",
   "metadata": {},
   "source": [
    "nombre_infected       757\n",
    "nombre_sain          2498\n",
    "nombre_exposed        462\n",
    "nombre_recovered    16283\n",
    "Name: 270, dtype: int64"
   ]
  },
  {
   "cell_type": "markdown",
   "id": "89cbd003",
   "metadata": {},
   "source": [
    "nombre_infected       785\n",
    "nombre_sain          2499\n",
    "nombre_exposed        443\n",
    "nombre_recovered    16273\n",
    "Name: 271, dtype: int64"
   ]
  },
  {
   "cell_type": "markdown",
   "id": "384393fa",
   "metadata": {},
   "source": [
    "nombre_infected       776\n",
    "nombre_sain          2506\n",
    "nombre_exposed        469\n",
    "nombre_recovered    16249\n",
    "Name: 272, dtype: int64"
   ]
  },
  {
   "cell_type": "markdown",
   "id": "9963d9f5",
   "metadata": {},
   "source": [
    "nombre_infected       795\n",
    "nombre_sain          2539\n",
    "nombre_exposed        456\n",
    "nombre_recovered    16210\n",
    "Name: 273, dtype: int64"
   ]
  },
  {
   "cell_type": "markdown",
   "id": "1ee9627b",
   "metadata": {},
   "source": [
    "nombre_infected       788\n",
    "nombre_sain          2560\n",
    "nombre_exposed        480\n",
    "nombre_recovered    16172\n",
    "Name: 274, dtype: int64"
   ]
  },
  {
   "cell_type": "markdown",
   "id": "edbe2eb7",
   "metadata": {},
   "source": [
    "nombre_infected       785\n",
    "nombre_sain          2557\n",
    "nombre_exposed        484\n",
    "nombre_recovered    16174\n",
    "Name: 275, dtype: int64"
   ]
  },
  {
   "cell_type": "markdown",
   "id": "84e339e2",
   "metadata": {},
   "source": [
    "nombre_infected       783\n",
    "nombre_sain          2530\n",
    "nombre_exposed        482\n",
    "nombre_recovered    16205\n",
    "Name: 276, dtype: int64"
   ]
  },
  {
   "cell_type": "markdown",
   "id": "858693b2",
   "metadata": {},
   "source": [
    "nombre_infected       795\n",
    "nombre_sain          2518\n",
    "nombre_exposed        470\n",
    "nombre_recovered    16217\n",
    "Name: 277, dtype: int64"
   ]
  },
  {
   "cell_type": "markdown",
   "id": "f19138c8",
   "metadata": {},
   "source": [
    "nombre_infected       803\n",
    "nombre_sain          2521\n",
    "nombre_exposed        498\n",
    "nombre_recovered    16178\n",
    "Name: 278, dtype: int64"
   ]
  },
  {
   "cell_type": "markdown",
   "id": "64e0c7e3",
   "metadata": {},
   "source": [
    "nombre_infected       812\n",
    "nombre_sain          2512\n",
    "nombre_exposed        490\n",
    "nombre_recovered    16186\n",
    "Name: 279, dtype: int64"
   ]
  },
  {
   "cell_type": "markdown",
   "id": "9eaca2fe",
   "metadata": {},
   "source": [
    "nombre_infected       818\n",
    "nombre_sain          2507\n",
    "nombre_exposed        498\n",
    "nombre_recovered    16177\n",
    "Name: 280, dtype: int64"
   ]
  },
  {
   "cell_type": "markdown",
   "id": "c7013522",
   "metadata": {},
   "source": [
    "nombre_infected       838\n",
    "nombre_sain          2497\n",
    "nombre_exposed        513\n",
    "nombre_recovered    16152\n",
    "Name: 281, dtype: int64"
   ]
  },
  {
   "cell_type": "markdown",
   "id": "49717c03",
   "metadata": {},
   "source": [
    "nombre_infected       865\n",
    "nombre_sain          2463\n",
    "nombre_exposed        521\n",
    "nombre_recovered    16151\n",
    "Name: 282, dtype: int64"
   ]
  },
  {
   "cell_type": "markdown",
   "id": "a077e33b",
   "metadata": {},
   "source": [
    "nombre_infected       870\n",
    "nombre_sain          2473\n",
    "nombre_exposed        503\n",
    "nombre_recovered    16154\n",
    "Name: 283, dtype: int64"
   ]
  },
  {
   "cell_type": "markdown",
   "id": "7f990b0f",
   "metadata": {},
   "source": [
    "nombre_infected       885\n",
    "nombre_sain          2510\n",
    "nombre_exposed        459\n",
    "nombre_recovered    16146\n",
    "Name: 284, dtype: int64"
   ]
  },
  {
   "cell_type": "markdown",
   "id": "d9dc7e86",
   "metadata": {},
   "source": [
    "nombre_infected       868\n",
    "nombre_sain          2475\n",
    "nombre_exposed        482\n",
    "nombre_recovered    16175\n",
    "Name: 285, dtype: int64"
   ]
  },
  {
   "cell_type": "markdown",
   "id": "1c98d353",
   "metadata": {},
   "source": [
    "nombre_infected       855\n",
    "nombre_sain          2481\n",
    "nombre_exposed        488\n",
    "nombre_recovered    16176\n",
    "Name: 286, dtype: int64"
   ]
  },
  {
   "cell_type": "markdown",
   "id": "36c1428f",
   "metadata": {},
   "source": [
    "nombre_infected       850\n",
    "nombre_sain          2457\n",
    "nombre_exposed        507\n",
    "nombre_recovered    16186\n",
    "Name: 287, dtype: int64"
   ]
  },
  {
   "cell_type": "markdown",
   "id": "f2f070ee",
   "metadata": {},
   "source": [
    "nombre_infected       852\n",
    "nombre_sain          2442\n",
    "nombre_exposed        517\n",
    "nombre_recovered    16189\n",
    "Name: 288, dtype: int64"
   ]
  },
  {
   "cell_type": "markdown",
   "id": "960c1696",
   "metadata": {},
   "source": [
    "nombre_infected       876\n",
    "nombre_sain          2434\n",
    "nombre_exposed        493\n",
    "nombre_recovered    16197\n",
    "Name: 289, dtype: int64"
   ]
  },
  {
   "cell_type": "markdown",
   "id": "ded78293",
   "metadata": {},
   "source": [
    "nombre_infected       876\n",
    "nombre_sain          2440\n",
    "nombre_exposed        511\n",
    "nombre_recovered    16173\n",
    "Name: 290, dtype: int64"
   ]
  },
  {
   "cell_type": "markdown",
   "id": "4c9293fa",
   "metadata": {},
   "source": [
    "nombre_infected       889\n",
    "nombre_sain          2437\n",
    "nombre_exposed        536\n",
    "nombre_recovered    16138\n",
    "Name: 291, dtype: int64"
   ]
  },
  {
   "cell_type": "markdown",
   "id": "b39ed13a",
   "metadata": {},
   "source": [
    "nombre_infected       926\n",
    "nombre_sain          2422\n",
    "nombre_exposed        520\n",
    "nombre_recovered    16132\n",
    "Name: 292, dtype: int64"
   ]
  },
  {
   "cell_type": "markdown",
   "id": "ff4295e8",
   "metadata": {},
   "source": [
    "nombre_infected       956\n",
    "nombre_sain          2404\n",
    "nombre_exposed        543\n",
    "nombre_recovered    16097\n",
    "Name: 293, dtype: int64"
   ]
  },
  {
   "cell_type": "markdown",
   "id": "7f080711",
   "metadata": {},
   "source": [
    "nombre_infected       931\n",
    "nombre_sain          2407\n",
    "nombre_exposed        535\n",
    "nombre_recovered    16127\n",
    "Name: 294, dtype: int64"
   ]
  },
  {
   "cell_type": "markdown",
   "id": "b981fd79",
   "metadata": {},
   "source": [
    "nombre_infected       938\n",
    "nombre_sain          2409\n",
    "nombre_exposed        516\n",
    "nombre_recovered    16137\n",
    "Name: 295, dtype: int64"
   ]
  },
  {
   "cell_type": "markdown",
   "id": "16bc79be",
   "metadata": {},
   "source": [
    "nombre_infected       955\n",
    "nombre_sain          2392\n",
    "nombre_exposed        508\n",
    "nombre_recovered    16145\n",
    "Name: 296, dtype: int64"
   ]
  },
  {
   "cell_type": "markdown",
   "id": "dbbefcec",
   "metadata": {},
   "source": [
    "nombre_infected       946\n",
    "nombre_sain          2375\n",
    "nombre_exposed        521\n",
    "nombre_recovered    16158\n",
    "Name: 297, dtype: int64"
   ]
  },
  {
   "cell_type": "markdown",
   "id": "bd111335",
   "metadata": {},
   "source": [
    "nombre_infected       941\n",
    "nombre_sain          2334\n",
    "nombre_exposed        545\n",
    "nombre_recovered    16180\n",
    "Name: 298, dtype: int64"
   ]
  },
  {
   "cell_type": "markdown",
   "id": "ea4b8b97",
   "metadata": {},
   "source": [
    "nombre_infected       928\n",
    "nombre_sain          2323\n",
    "nombre_exposed        545\n",
    "nombre_recovered    16204\n",
    "Name: 299, dtype: int64"
   ]
  },
  {
   "cell_type": "markdown",
   "id": "936ef0c0",
   "metadata": {},
   "source": [
    "nombre_infected       940\n",
    "nombre_sain          2276\n",
    "nombre_exposed        566\n",
    "nombre_recovered    16218\n",
    "Name: 300, dtype: int64"
   ]
  },
  {
   "cell_type": "markdown",
   "id": "1c2ed2a8",
   "metadata": {},
   "source": [
    "nombre_infected       940\n",
    "nombre_sain          2239\n",
    "nombre_exposed        572\n",
    "nombre_recovered    16249\n",
    "Name: 301, dtype: int64"
   ]
  },
  {
   "cell_type": "markdown",
   "id": "18d519ba",
   "metadata": {},
   "source": [
    "nombre_infected      1004\n",
    "nombre_sain          2204\n",
    "nombre_exposed        553\n",
    "nombre_recovered    16239\n",
    "Name: 302, dtype: int64"
   ]
  },
  {
   "cell_type": "markdown",
   "id": "84ed0418",
   "metadata": {},
   "source": [
    "nombre_infected      1008\n",
    "nombre_sain          2172\n",
    "nombre_exposed        565\n",
    "nombre_recovered    16255\n",
    "Name: 303, dtype: int64"
   ]
  },
  {
   "cell_type": "markdown",
   "id": "5674521d",
   "metadata": {},
   "source": [
    "nombre_infected      1022\n",
    "nombre_sain          2138\n",
    "nombre_exposed        548\n",
    "nombre_recovered    16292\n",
    "Name: 304, dtype: int64"
   ]
  },
  {
   "cell_type": "markdown",
   "id": "1b205d28",
   "metadata": {},
   "source": [
    "nombre_infected      1006\n",
    "nombre_sain          2088\n",
    "nombre_exposed        565\n",
    "nombre_recovered    16341\n",
    "Name: 305, dtype: int64"
   ]
  },
  {
   "cell_type": "markdown",
   "id": "fb42dc41",
   "metadata": {},
   "source": [
    "nombre_infected       991\n",
    "nombre_sain          2076\n",
    "nombre_exposed        548\n",
    "nombre_recovered    16385\n",
    "Name: 306, dtype: int64"
   ]
  },
  {
   "cell_type": "markdown",
   "id": "b187c74a",
   "metadata": {},
   "source": [
    "nombre_infected       978\n",
    "nombre_sain          2047\n",
    "nombre_exposed        545\n",
    "nombre_recovered    16430\n",
    "Name: 307, dtype: int64"
   ]
  },
  {
   "cell_type": "markdown",
   "id": "9addbdb2",
   "metadata": {},
   "source": [
    "nombre_infected       985\n",
    "nombre_sain          2029\n",
    "nombre_exposed        522\n",
    "nombre_recovered    16464\n",
    "Name: 308, dtype: int64"
   ]
  },
  {
   "cell_type": "markdown",
   "id": "499db2ca",
   "metadata": {},
   "source": [
    "nombre_infected       995\n",
    "nombre_sain          2036\n",
    "nombre_exposed        509\n",
    "nombre_recovered    16460\n",
    "Name: 309, dtype: int64"
   ]
  },
  {
   "cell_type": "markdown",
   "id": "61bb42b9",
   "metadata": {},
   "source": [
    "nombre_infected       997\n",
    "nombre_sain          2015\n",
    "nombre_exposed        515\n",
    "nombre_recovered    16473\n",
    "Name: 310, dtype: int64"
   ]
  },
  {
   "cell_type": "markdown",
   "id": "44d460f0",
   "metadata": {},
   "source": [
    "nombre_infected       986\n",
    "nombre_sain          2054\n",
    "nombre_exposed        497\n",
    "nombre_recovered    16463\n",
    "Name: 311, dtype: int64"
   ]
  },
  {
   "cell_type": "markdown",
   "id": "b78ad80e",
   "metadata": {},
   "source": [
    "nombre_infected       974\n",
    "nombre_sain          2065\n",
    "nombre_exposed        502\n",
    "nombre_recovered    16459\n",
    "Name: 312, dtype: int64"
   ]
  },
  {
   "cell_type": "markdown",
   "id": "f107b370",
   "metadata": {},
   "source": [
    "nombre_infected       983\n",
    "nombre_sain          2060\n",
    "nombre_exposed        482\n",
    "nombre_recovered    16475\n",
    "Name: 313, dtype: int64"
   ]
  },
  {
   "cell_type": "markdown",
   "id": "6d0b183f",
   "metadata": {},
   "source": [
    "nombre_infected       974\n",
    "nombre_sain          2089\n",
    "nombre_exposed        470\n",
    "nombre_recovered    16467\n",
    "Name: 314, dtype: int64"
   ]
  },
  {
   "cell_type": "markdown",
   "id": "380d21b8",
   "metadata": {},
   "source": [
    "nombre_infected       976\n",
    "nombre_sain          2055\n",
    "nombre_exposed        512\n",
    "nombre_recovered    16457\n",
    "Name: 315, dtype: int64"
   ]
  },
  {
   "cell_type": "markdown",
   "id": "885a9995",
   "metadata": {},
   "source": [
    "nombre_infected       958\n",
    "nombre_sain          2066\n",
    "nombre_exposed        521\n",
    "nombre_recovered    16455\n",
    "Name: 316, dtype: int64"
   ]
  },
  {
   "cell_type": "markdown",
   "id": "e5e7cb0c",
   "metadata": {},
   "source": [
    "nombre_infected       964\n",
    "nombre_sain          2083\n",
    "nombre_exposed        521\n",
    "nombre_recovered    16432\n",
    "Name: 317, dtype: int64"
   ]
  },
  {
   "cell_type": "markdown",
   "id": "1b3bc624",
   "metadata": {},
   "source": [
    "nombre_infected       968\n",
    "nombre_sain          2084\n",
    "nombre_exposed        526\n",
    "nombre_recovered    16422\n",
    "Name: 318, dtype: int64"
   ]
  },
  {
   "cell_type": "markdown",
   "id": "2065bfab",
   "metadata": {},
   "source": [
    "nombre_infected       957\n",
    "nombre_sain          2101\n",
    "nombre_exposed        540\n",
    "nombre_recovered    16402\n",
    "Name: 319, dtype: int64"
   ]
  },
  {
   "cell_type": "markdown",
   "id": "fc4d6de2",
   "metadata": {},
   "source": [
    "nombre_infected       942\n",
    "nombre_sain          2112\n",
    "nombre_exposed        543\n",
    "nombre_recovered    16403\n",
    "Name: 320, dtype: int64"
   ]
  },
  {
   "cell_type": "markdown",
   "id": "f4f52c54",
   "metadata": {},
   "source": [
    "nombre_infected       924\n",
    "nombre_sain          2107\n",
    "nombre_exposed        529\n",
    "nombre_recovered    16440\n",
    "Name: 321, dtype: int64"
   ]
  },
  {
   "cell_type": "markdown",
   "id": "0e01c07e",
   "metadata": {},
   "source": [
    "nombre_infected       926\n",
    "nombre_sain          2126\n",
    "nombre_exposed        510\n",
    "nombre_recovered    16438\n",
    "Name: 322, dtype: int64"
   ]
  },
  {
   "cell_type": "markdown",
   "id": "e18e4502",
   "metadata": {},
   "source": [
    "nombre_infected       913\n",
    "nombre_sain          2128\n",
    "nombre_exposed        514\n",
    "nombre_recovered    16445\n",
    "Name: 323, dtype: int64"
   ]
  },
  {
   "cell_type": "markdown",
   "id": "89c2a17e",
   "metadata": {},
   "source": [
    "nombre_infected       913\n",
    "nombre_sain          2146\n",
    "nombre_exposed        505\n",
    "nombre_recovered    16436\n",
    "Name: 324, dtype: int64"
   ]
  },
  {
   "cell_type": "markdown",
   "id": "14e92af9",
   "metadata": {},
   "source": [
    "nombre_infected       901\n",
    "nombre_sain          2130\n",
    "nombre_exposed        516\n",
    "nombre_recovered    16453\n",
    "Name: 325, dtype: int64"
   ]
  },
  {
   "cell_type": "markdown",
   "id": "b3e2761c",
   "metadata": {},
   "source": [
    "nombre_infected       892\n",
    "nombre_sain          2161\n",
    "nombre_exposed        496\n",
    "nombre_recovered    16451\n",
    "Name: 326, dtype: int64"
   ]
  },
  {
   "cell_type": "markdown",
   "id": "d3b8ea15",
   "metadata": {},
   "source": [
    "nombre_infected       884\n",
    "nombre_sain          2170\n",
    "nombre_exposed        499\n",
    "nombre_recovered    16447\n",
    "Name: 327, dtype: int64"
   ]
  },
  {
   "cell_type": "markdown",
   "id": "6cb46f85",
   "metadata": {},
   "source": [
    "nombre_infected       887\n",
    "nombre_sain          2176\n",
    "nombre_exposed        484\n",
    "nombre_recovered    16453\n",
    "Name: 328, dtype: int64"
   ]
  },
  {
   "cell_type": "markdown",
   "id": "17cee89d",
   "metadata": {},
   "source": [
    "nombre_infected       884\n",
    "nombre_sain          2188\n",
    "nombre_exposed        484\n",
    "nombre_recovered    16444\n",
    "Name: 329, dtype: int64"
   ]
  },
  {
   "cell_type": "markdown",
   "id": "9c804dcf",
   "metadata": {},
   "source": [
    "nombre_infected       868\n",
    "nombre_sain          2206\n",
    "nombre_exposed        472\n",
    "nombre_recovered    16454\n",
    "Name: 330, dtype: int64"
   ]
  },
  {
   "cell_type": "markdown",
   "id": "98e668ad",
   "metadata": {},
   "source": [
    "nombre_infected       893\n",
    "nombre_sain          2161\n",
    "nombre_exposed        481\n",
    "nombre_recovered    16465\n",
    "Name: 331, dtype: int64"
   ]
  },
  {
   "cell_type": "markdown",
   "id": "e0fc4f9e",
   "metadata": {},
   "source": [
    "nombre_infected       885\n",
    "nombre_sain          2156\n",
    "nombre_exposed        501\n",
    "nombre_recovered    16458\n",
    "Name: 332, dtype: int64"
   ]
  },
  {
   "cell_type": "markdown",
   "id": "fd0693b9",
   "metadata": {},
   "source": [
    "nombre_infected       887\n",
    "nombre_sain          2157\n",
    "nombre_exposed        501\n",
    "nombre_recovered    16455\n",
    "Name: 333, dtype: int64"
   ]
  },
  {
   "cell_type": "markdown",
   "id": "d2efa2af",
   "metadata": {},
   "source": [
    "nombre_infected       890\n",
    "nombre_sain          2138\n",
    "nombre_exposed        504\n",
    "nombre_recovered    16468\n",
    "Name: 334, dtype: int64"
   ]
  },
  {
   "cell_type": "markdown",
   "id": "95e954dc",
   "metadata": {},
   "source": [
    "nombre_infected       869\n",
    "nombre_sain          2124\n",
    "nombre_exposed        525\n",
    "nombre_recovered    16482\n",
    "Name: 335, dtype: int64"
   ]
  },
  {
   "cell_type": "markdown",
   "id": "7b34b3e6",
   "metadata": {},
   "source": [
    "nombre_infected       872\n",
    "nombre_sain          2119\n",
    "nombre_exposed        538\n",
    "nombre_recovered    16471\n",
    "Name: 336, dtype: int64"
   ]
  },
  {
   "cell_type": "markdown",
   "id": "d9a442d5",
   "metadata": {},
   "source": [
    "nombre_infected       905\n",
    "nombre_sain          2132\n",
    "nombre_exposed        504\n",
    "nombre_recovered    16459\n",
    "Name: 337, dtype: int64"
   ]
  },
  {
   "cell_type": "markdown",
   "id": "66fae5e6",
   "metadata": {},
   "source": [
    "nombre_infected       944\n",
    "nombre_sain          2129\n",
    "nombre_exposed        488\n",
    "nombre_recovered    16439\n",
    "Name: 338, dtype: int64"
   ]
  },
  {
   "cell_type": "markdown",
   "id": "43e2bb73",
   "metadata": {},
   "source": [
    "nombre_infected       944\n",
    "nombre_sain          2127\n",
    "nombre_exposed        487\n",
    "nombre_recovered    16442\n",
    "Name: 339, dtype: int64"
   ]
  },
  {
   "cell_type": "markdown",
   "id": "627167bc",
   "metadata": {},
   "source": [
    "nombre_infected       937\n",
    "nombre_sain          2134\n",
    "nombre_exposed        499\n",
    "nombre_recovered    16430\n",
    "Name: 340, dtype: int64"
   ]
  },
  {
   "cell_type": "markdown",
   "id": "a56f8c7c",
   "metadata": {},
   "source": [
    "nombre_infected       945\n",
    "nombre_sain          2131\n",
    "nombre_exposed        501\n",
    "nombre_recovered    16423\n",
    "Name: 341, dtype: int64"
   ]
  },
  {
   "cell_type": "markdown",
   "id": "3a88331f",
   "metadata": {},
   "source": [
    "nombre_infected       947\n",
    "nombre_sain          2107\n",
    "nombre_exposed        515\n",
    "nombre_recovered    16431\n",
    "Name: 342, dtype: int64"
   ]
  },
  {
   "cell_type": "markdown",
   "id": "92dfb000",
   "metadata": {},
   "source": [
    "nombre_infected       942\n",
    "nombre_sain          2099\n",
    "nombre_exposed        521\n",
    "nombre_recovered    16438\n",
    "Name: 343, dtype: int64"
   ]
  },
  {
   "cell_type": "markdown",
   "id": "1ae3b08e",
   "metadata": {},
   "source": [
    "nombre_infected       939\n",
    "nombre_sain          2117\n",
    "nombre_exposed        510\n",
    "nombre_recovered    16434\n",
    "Name: 344, dtype: int64"
   ]
  },
  {
   "cell_type": "markdown",
   "id": "a7b89e7d",
   "metadata": {},
   "source": [
    "nombre_infected       946\n",
    "nombre_sain          2120\n",
    "nombre_exposed        495\n",
    "nombre_recovered    16439\n",
    "Name: 345, dtype: int64"
   ]
  },
  {
   "cell_type": "markdown",
   "id": "fe28bc4f",
   "metadata": {},
   "source": [
    "nombre_infected       944\n",
    "nombre_sain          2088\n",
    "nombre_exposed        519\n",
    "nombre_recovered    16449\n",
    "Name: 346, dtype: int64"
   ]
  },
  {
   "cell_type": "markdown",
   "id": "7de0685c",
   "metadata": {},
   "source": [
    "nombre_infected       912\n",
    "nombre_sain          2079\n",
    "nombre_exposed        536\n",
    "nombre_recovered    16473\n",
    "Name: 347, dtype: int64"
   ]
  },
  {
   "cell_type": "markdown",
   "id": "cfbfb431",
   "metadata": {},
   "source": [
    "nombre_infected       930\n",
    "nombre_sain          2082\n",
    "nombre_exposed        527\n",
    "nombre_recovered    16461\n",
    "Name: 348, dtype: int64"
   ]
  },
  {
   "cell_type": "markdown",
   "id": "19c18285",
   "metadata": {},
   "source": [
    "nombre_infected       935\n",
    "nombre_sain          2071\n",
    "nombre_exposed        521\n",
    "nombre_recovered    16473\n",
    "Name: 349, dtype: int64"
   ]
  },
  {
   "cell_type": "markdown",
   "id": "dd107b93",
   "metadata": {},
   "source": [
    "nombre_infected       945\n",
    "nombre_sain          2064\n",
    "nombre_exposed        510\n",
    "nombre_recovered    16481\n",
    "Name: 350, dtype: int64"
   ]
  },
  {
   "cell_type": "markdown",
   "id": "5f671613",
   "metadata": {},
   "source": [
    "nombre_infected       951\n",
    "nombre_sain          2057\n",
    "nombre_exposed        503\n",
    "nombre_recovered    16489\n",
    "Name: 351, dtype: int64"
   ]
  },
  {
   "cell_type": "markdown",
   "id": "9675186e",
   "metadata": {},
   "source": [
    "nombre_infected       941\n",
    "nombre_sain          2055\n",
    "nombre_exposed        506\n",
    "nombre_recovered    16498\n",
    "Name: 352, dtype: int64"
   ]
  },
  {
   "cell_type": "markdown",
   "id": "3e3febc4",
   "metadata": {},
   "source": [
    "nombre_infected       927\n",
    "nombre_sain          2037\n",
    "nombre_exposed        522\n",
    "nombre_recovered    16514\n",
    "Name: 353, dtype: int64"
   ]
  },
  {
   "cell_type": "markdown",
   "id": "1df43056",
   "metadata": {},
   "source": [
    "nombre_infected       942\n",
    "nombre_sain          2024\n",
    "nombre_exposed        523\n",
    "nombre_recovered    16511\n",
    "Name: 354, dtype: int64"
   ]
  },
  {
   "cell_type": "markdown",
   "id": "fb50e668",
   "metadata": {},
   "source": [
    "nombre_infected       927\n",
    "nombre_sain          2034\n",
    "nombre_exposed        529\n",
    "nombre_recovered    16510\n",
    "Name: 355, dtype: int64"
   ]
  },
  {
   "cell_type": "markdown",
   "id": "e3444a32",
   "metadata": {},
   "source": [
    "nombre_infected       930\n",
    "nombre_sain          2041\n",
    "nombre_exposed        517\n",
    "nombre_recovered    16512\n",
    "Name: 356, dtype: int64"
   ]
  },
  {
   "cell_type": "markdown",
   "id": "2e41eb8d",
   "metadata": {},
   "source": [
    "nombre_infected       947\n",
    "nombre_sain          2033\n",
    "nombre_exposed        497\n",
    "nombre_recovered    16523\n",
    "Name: 357, dtype: int64"
   ]
  },
  {
   "cell_type": "markdown",
   "id": "7c8b82f9",
   "metadata": {},
   "source": [
    "nombre_infected       953\n",
    "nombre_sain          2024\n",
    "nombre_exposed        506\n",
    "nombre_recovered    16517\n",
    "Name: 358, dtype: int64"
   ]
  },
  {
   "cell_type": "markdown",
   "id": "8697194e",
   "metadata": {},
   "source": [
    "nombre_infected       948\n",
    "nombre_sain          2027\n",
    "nombre_exposed        512\n",
    "nombre_recovered    16513\n",
    "Name: 359, dtype: int64"
   ]
  },
  {
   "cell_type": "markdown",
   "id": "b5838bb8",
   "metadata": {},
   "source": [
    "nombre_infected       964\n",
    "nombre_sain          2034\n",
    "nombre_exposed        494\n",
    "nombre_recovered    16508\n",
    "Name: 360, dtype: int64"
   ]
  },
  {
   "cell_type": "markdown",
   "id": "04bd00af",
   "metadata": {},
   "source": [
    "nombre_infected       959\n",
    "nombre_sain          2028\n",
    "nombre_exposed        485\n",
    "nombre_recovered    16528\n",
    "Name: 361, dtype: int64"
   ]
  },
  {
   "cell_type": "markdown",
   "id": "cbdb8b7c",
   "metadata": {},
   "source": [
    "nombre_infected       958\n",
    "nombre_sain          2026\n",
    "nombre_exposed        498\n",
    "nombre_recovered    16518\n",
    "Name: 362, dtype: int64"
   ]
  },
  {
   "cell_type": "markdown",
   "id": "2ad3b951",
   "metadata": {},
   "source": [
    "nombre_infected       948\n",
    "nombre_sain          2052\n",
    "nombre_exposed        485\n",
    "nombre_recovered    16515\n",
    "Name: 363, dtype: int64"
   ]
  },
  {
   "cell_type": "markdown",
   "id": "2b1c4d76",
   "metadata": {},
   "source": [
    "nombre_infected       918\n",
    "nombre_sain          2020\n",
    "nombre_exposed        495\n",
    "nombre_recovered    16567\n",
    "Name: 364, dtype: int64"
   ]
  },
  {
   "cell_type": "markdown",
   "id": "8fa2e7e1",
   "metadata": {},
   "source": [
    "nombre_infected       901\n",
    "nombre_sain          2006\n",
    "nombre_exposed        497\n",
    "nombre_recovered    16596\n",
    "Name: 365, dtype: int64"
   ]
  },
  {
   "cell_type": "markdown",
   "id": "9e1b385f",
   "metadata": {},
   "source": [
    "nombre_infected       904\n",
    "nombre_sain          2012\n",
    "nombre_exposed        485\n",
    "nombre_recovered    16599\n",
    "Name: 366, dtype: int64"
   ]
  },
  {
   "cell_type": "markdown",
   "id": "9baea4f3",
   "metadata": {},
   "source": [
    "nombre_infected       914\n",
    "nombre_sain          2040\n",
    "nombre_exposed        465\n",
    "nombre_recovered    16581\n",
    "Name: 367, dtype: int64"
   ]
  },
  {
   "cell_type": "markdown",
   "id": "4660c537",
   "metadata": {},
   "source": [
    "nombre_infected       926\n",
    "nombre_sain          1998\n",
    "nombre_exposed        464\n",
    "nombre_recovered    16612\n",
    "Name: 368, dtype: int64"
   ]
  },
  {
   "cell_type": "markdown",
   "id": "4994e62a",
   "metadata": {},
   "source": [
    "nombre_infected       931\n",
    "nombre_sain          1981\n",
    "nombre_exposed        454\n",
    "nombre_recovered    16634\n",
    "Name: 369, dtype: int64"
   ]
  },
  {
   "cell_type": "markdown",
   "id": "c205bca1",
   "metadata": {},
   "source": [
    "nombre_infected       932\n",
    "nombre_sain          1973\n",
    "nombre_exposed        454\n",
    "nombre_recovered    16641\n",
    "Name: 370, dtype: int64"
   ]
  },
  {
   "cell_type": "markdown",
   "id": "b86f5c14",
   "metadata": {},
   "source": [
    "nombre_infected       919\n",
    "nombre_sain          1977\n",
    "nombre_exposed        440\n",
    "nombre_recovered    16664\n",
    "Name: 371, dtype: int64"
   ]
  },
  {
   "cell_type": "markdown",
   "id": "b0fe593f",
   "metadata": {},
   "source": [
    "nombre_infected       884\n",
    "nombre_sain          1978\n",
    "nombre_exposed        450\n",
    "nombre_recovered    16688\n",
    "Name: 372, dtype: int64"
   ]
  },
  {
   "cell_type": "markdown",
   "id": "be4ade76",
   "metadata": {},
   "source": [
    "nombre_infected       863\n",
    "nombre_sain          1957\n",
    "nombre_exposed        476\n",
    "nombre_recovered    16704\n",
    "Name: 373, dtype: int64"
   ]
  },
  {
   "cell_type": "markdown",
   "id": "7189670e",
   "metadata": {},
   "source": [
    "nombre_infected       841\n",
    "nombre_sain          1958\n",
    "nombre_exposed        455\n",
    "nombre_recovered    16746\n",
    "Name: 374, dtype: int64"
   ]
  },
  {
   "cell_type": "markdown",
   "id": "1f84432c",
   "metadata": {},
   "source": [
    "nombre_infected       826\n",
    "nombre_sain          1948\n",
    "nombre_exposed        462\n",
    "nombre_recovered    16764\n",
    "Name: 375, dtype: int64"
   ]
  },
  {
   "cell_type": "markdown",
   "id": "649dff00",
   "metadata": {},
   "source": [
    "nombre_infected       842\n",
    "nombre_sain          1942\n",
    "nombre_exposed        457\n",
    "nombre_recovered    16759\n",
    "Name: 376, dtype: int64"
   ]
  },
  {
   "cell_type": "markdown",
   "id": "00d1cfa1",
   "metadata": {},
   "source": [
    "nombre_infected       832\n",
    "nombre_sain          1951\n",
    "nombre_exposed        445\n",
    "nombre_recovered    16772\n",
    "Name: 377, dtype: int64"
   ]
  },
  {
   "cell_type": "markdown",
   "id": "b9942d81",
   "metadata": {},
   "source": [
    "nombre_infected       827\n",
    "nombre_sain          1952\n",
    "nombre_exposed        460\n",
    "nombre_recovered    16761\n",
    "Name: 378, dtype: int64"
   ]
  },
  {
   "cell_type": "markdown",
   "id": "cc2a8101",
   "metadata": {},
   "source": [
    "nombre_infected       794\n",
    "nombre_sain          1953\n",
    "nombre_exposed        487\n",
    "nombre_recovered    16766\n",
    "Name: 379, dtype: int64"
   ]
  },
  {
   "cell_type": "markdown",
   "id": "24fd4a3f",
   "metadata": {},
   "source": [
    "nombre_infected       821\n",
    "nombre_sain          1964\n",
    "nombre_exposed        459\n",
    "nombre_recovered    16756\n",
    "Name: 380, dtype: int64"
   ]
  },
  {
   "cell_type": "markdown",
   "id": "3f9991ad",
   "metadata": {},
   "source": [
    "nombre_infected       815\n",
    "nombre_sain          1964\n",
    "nombre_exposed        457\n",
    "nombre_recovered    16764\n",
    "Name: 381, dtype: int64"
   ]
  },
  {
   "cell_type": "markdown",
   "id": "7687dbcb",
   "metadata": {},
   "source": [
    "nombre_infected       834\n",
    "nombre_sain          1975\n",
    "nombre_exposed        437\n",
    "nombre_recovered    16754\n",
    "Name: 382, dtype: int64"
   ]
  },
  {
   "cell_type": "markdown",
   "id": "157489c2",
   "metadata": {},
   "source": [
    "nombre_infected       812\n",
    "nombre_sain          2009\n",
    "nombre_exposed        419\n",
    "nombre_recovered    16760\n",
    "Name: 383, dtype: int64"
   ]
  },
  {
   "cell_type": "markdown",
   "id": "0dd2fd5c",
   "metadata": {},
   "source": [
    "nombre_infected       794\n",
    "nombre_sain          2035\n",
    "nombre_exposed        409\n",
    "nombre_recovered    16762\n",
    "Name: 384, dtype: int64"
   ]
  },
  {
   "cell_type": "markdown",
   "id": "9ac36996",
   "metadata": {},
   "source": [
    "nombre_infected       804\n",
    "nombre_sain          2042\n",
    "nombre_exposed        416\n",
    "nombre_recovered    16738\n",
    "Name: 385, dtype: int64"
   ]
  },
  {
   "cell_type": "markdown",
   "id": "fcddf2af",
   "metadata": {},
   "source": [
    "nombre_infected       808\n",
    "nombre_sain          2046\n",
    "nombre_exposed        411\n",
    "nombre_recovered    16735\n",
    "Name: 386, dtype: int64"
   ]
  },
  {
   "cell_type": "markdown",
   "id": "42f87c0f",
   "metadata": {},
   "source": [
    "nombre_infected       805\n",
    "nombre_sain          2052\n",
    "nombre_exposed        427\n",
    "nombre_recovered    16716\n",
    "Name: 387, dtype: int64"
   ]
  },
  {
   "cell_type": "markdown",
   "id": "23a7c22a",
   "metadata": {},
   "source": [
    "nombre_infected       795\n",
    "nombre_sain          2061\n",
    "nombre_exposed        418\n",
    "nombre_recovered    16726\n",
    "Name: 388, dtype: int64"
   ]
  },
  {
   "cell_type": "markdown",
   "id": "dffd0fd1",
   "metadata": {},
   "source": [
    "nombre_infected       807\n",
    "nombre_sain          2048\n",
    "nombre_exposed        415\n",
    "nombre_recovered    16730\n",
    "Name: 389, dtype: int64"
   ]
  },
  {
   "cell_type": "markdown",
   "id": "5977bf17",
   "metadata": {},
   "source": [
    "nombre_infected       805\n",
    "nombre_sain          2032\n",
    "nombre_exposed        433\n",
    "nombre_recovered    16730\n",
    "Name: 390, dtype: int64"
   ]
  },
  {
   "cell_type": "markdown",
   "id": "1df98bc6",
   "metadata": {},
   "source": [
    "nombre_infected       798\n",
    "nombre_sain          2042\n",
    "nombre_exposed        448\n",
    "nombre_recovered    16712\n",
    "Name: 391, dtype: int64"
   ]
  },
  {
   "cell_type": "markdown",
   "id": "314b572d",
   "metadata": {},
   "source": [
    "nombre_infected       804\n",
    "nombre_sain          2045\n",
    "nombre_exposed        435\n",
    "nombre_recovered    16716\n",
    "Name: 392, dtype: int64"
   ]
  },
  {
   "cell_type": "markdown",
   "id": "aeb6e4c3",
   "metadata": {},
   "source": [
    "nombre_infected       779\n",
    "nombre_sain          2049\n",
    "nombre_exposed        446\n",
    "nombre_recovered    16726\n",
    "Name: 393, dtype: int64"
   ]
  },
  {
   "cell_type": "markdown",
   "id": "de69e629",
   "metadata": {},
   "source": [
    "nombre_infected       779\n",
    "nombre_sain          2061\n",
    "nombre_exposed        435\n",
    "nombre_recovered    16725\n",
    "Name: 394, dtype: int64"
   ]
  },
  {
   "cell_type": "markdown",
   "id": "17883a2c",
   "metadata": {},
   "source": [
    "nombre_infected       790\n",
    "nombre_sain          2051\n",
    "nombre_exposed        421\n",
    "nombre_recovered    16738\n",
    "Name: 395, dtype: int64"
   ]
  },
  {
   "cell_type": "markdown",
   "id": "513b90f0",
   "metadata": {},
   "source": [
    "nombre_infected       776\n",
    "nombre_sain          2057\n",
    "nombre_exposed        435\n",
    "nombre_recovered    16732\n",
    "Name: 396, dtype: int64"
   ]
  },
  {
   "cell_type": "markdown",
   "id": "840af0b3",
   "metadata": {},
   "source": [
    "nombre_infected       775\n",
    "nombre_sain          2052\n",
    "nombre_exposed        431\n",
    "nombre_recovered    16742\n",
    "Name: 397, dtype: int64"
   ]
  },
  {
   "cell_type": "markdown",
   "id": "b4945404",
   "metadata": {},
   "source": [
    "nombre_infected       765\n",
    "nombre_sain          2075\n",
    "nombre_exposed        427\n",
    "nombre_recovered    16733\n",
    "Name: 398, dtype: int64"
   ]
  },
  {
   "cell_type": "markdown",
   "id": "2d7a0afc",
   "metadata": {},
   "source": [
    "nombre_infected       757\n",
    "nombre_sain          2083\n",
    "nombre_exposed        421\n",
    "nombre_recovered    16739\n",
    "Name: 399, dtype: int64"
   ]
  },
  {
   "cell_type": "markdown",
   "id": "7570934b",
   "metadata": {},
   "source": [
    "nombre_infected       762\n",
    "nombre_sain          2085\n",
    "nombre_exposed        406\n",
    "nombre_recovered    16747\n",
    "Name: 400, dtype: int64"
   ]
  },
  {
   "cell_type": "markdown",
   "id": "a8f22e50",
   "metadata": {},
   "source": [
    "nombre_infected       742\n",
    "nombre_sain          2086\n",
    "nombre_exposed        424\n",
    "nombre_recovered    16748\n",
    "Name: 401, dtype: int64"
   ]
  },
  {
   "cell_type": "markdown",
   "id": "8e21adbe",
   "metadata": {},
   "source": [
    "nombre_infected       737\n",
    "nombre_sain          2097\n",
    "nombre_exposed        426\n",
    "nombre_recovered    16740\n",
    "Name: 402, dtype: int64"
   ]
  },
  {
   "cell_type": "markdown",
   "id": "81cf0f1b",
   "metadata": {},
   "source": [
    "nombre_infected       747\n",
    "nombre_sain          2114\n",
    "nombre_exposed        416\n",
    "nombre_recovered    16723\n",
    "Name: 403, dtype: int64"
   ]
  },
  {
   "cell_type": "markdown",
   "id": "1c38cd85",
   "metadata": {},
   "source": [
    "nombre_infected       750\n",
    "nombre_sain          2137\n",
    "nombre_exposed        401\n",
    "nombre_recovered    16712\n",
    "Name: 404, dtype: int64"
   ]
  },
  {
   "cell_type": "markdown",
   "id": "7cbbffc7",
   "metadata": {},
   "source": [
    "nombre_infected       749\n",
    "nombre_sain          2127\n",
    "nombre_exposed        410\n",
    "nombre_recovered    16714\n",
    "Name: 405, dtype: int64"
   ]
  },
  {
   "cell_type": "markdown",
   "id": "6304c0c0",
   "metadata": {},
   "source": [
    "nombre_infected       752\n",
    "nombre_sain          2142\n",
    "nombre_exposed        420\n",
    "nombre_recovered    16686\n",
    "Name: 406, dtype: int64"
   ]
  },
  {
   "cell_type": "markdown",
   "id": "36cc8d79",
   "metadata": {},
   "source": [
    "nombre_infected       733\n",
    "nombre_sain          2148\n",
    "nombre_exposed        434\n",
    "nombre_recovered    16685\n",
    "Name: 407, dtype: int64"
   ]
  },
  {
   "cell_type": "markdown",
   "id": "d00fc021",
   "metadata": {},
   "source": [
    "nombre_infected       708\n",
    "nombre_sain          2145\n",
    "nombre_exposed        442\n",
    "nombre_recovered    16705\n",
    "Name: 408, dtype: int64"
   ]
  },
  {
   "cell_type": "markdown",
   "id": "e1a36eee",
   "metadata": {},
   "source": [
    "nombre_infected       725\n",
    "nombre_sain          2159\n",
    "nombre_exposed        439\n",
    "nombre_recovered    16677\n",
    "Name: 409, dtype: int64"
   ]
  },
  {
   "cell_type": "markdown",
   "id": "2a622589",
   "metadata": {},
   "source": [
    "nombre_infected       741\n",
    "nombre_sain          2181\n",
    "nombre_exposed        435\n",
    "nombre_recovered    16643\n",
    "Name: 410, dtype: int64"
   ]
  },
  {
   "cell_type": "markdown",
   "id": "08a24f0b",
   "metadata": {},
   "source": [
    "nombre_infected       759\n",
    "nombre_sain          2182\n",
    "nombre_exposed        430\n",
    "nombre_recovered    16629\n",
    "Name: 411, dtype: int64"
   ]
  },
  {
   "cell_type": "markdown",
   "id": "c7cea767",
   "metadata": {},
   "source": [
    "nombre_infected       766\n",
    "nombre_sain          2195\n",
    "nombre_exposed        429\n",
    "nombre_recovered    16610\n",
    "Name: 412, dtype: int64"
   ]
  },
  {
   "cell_type": "markdown",
   "id": "24a5d4b6",
   "metadata": {},
   "source": [
    "nombre_infected       760\n",
    "nombre_sain          2223\n",
    "nombre_exposed        437\n",
    "nombre_recovered    16580\n",
    "Name: 413, dtype: int64"
   ]
  },
  {
   "cell_type": "markdown",
   "id": "e3d0cd9d",
   "metadata": {},
   "source": [
    "nombre_infected       757\n",
    "nombre_sain          2233\n",
    "nombre_exposed        462\n",
    "nombre_recovered    16548\n",
    "Name: 414, dtype: int64"
   ]
  },
  {
   "cell_type": "markdown",
   "id": "709884cd",
   "metadata": {},
   "source": [
    "nombre_infected       777\n",
    "nombre_sain          2235\n",
    "nombre_exposed        471\n",
    "nombre_recovered    16517\n",
    "Name: 415, dtype: int64"
   ]
  },
  {
   "cell_type": "markdown",
   "id": "fb100731",
   "metadata": {},
   "source": [
    "nombre_infected       795\n",
    "nombre_sain          2224\n",
    "nombre_exposed        479\n",
    "nombre_recovered    16502\n",
    "Name: 416, dtype: int64"
   ]
  },
  {
   "cell_type": "markdown",
   "id": "990544e9",
   "metadata": {},
   "source": [
    "nombre_infected       803\n",
    "nombre_sain          2219\n",
    "nombre_exposed        475\n",
    "nombre_recovered    16503\n",
    "Name: 417, dtype: int64"
   ]
  },
  {
   "cell_type": "markdown",
   "id": "d18155ee",
   "metadata": {},
   "source": [
    "nombre_infected       819\n",
    "nombre_sain          2242\n",
    "nombre_exposed        438\n",
    "nombre_recovered    16501\n",
    "Name: 418, dtype: int64"
   ]
  },
  {
   "cell_type": "markdown",
   "id": "6bd0868b",
   "metadata": {},
   "source": [
    "nombre_infected       844\n",
    "nombre_sain          2255\n",
    "nombre_exposed        428\n",
    "nombre_recovered    16473\n",
    "Name: 419, dtype: int64"
   ]
  },
  {
   "cell_type": "markdown",
   "id": "2bed0386",
   "metadata": {},
   "source": [
    "nombre_infected       831\n",
    "nombre_sain          2246\n",
    "nombre_exposed        444\n",
    "nombre_recovered    16479\n",
    "Name: 420, dtype: int64"
   ]
  },
  {
   "cell_type": "markdown",
   "id": "778e4ba2",
   "metadata": {},
   "source": [
    "nombre_infected       838\n",
    "nombre_sain          2235\n",
    "nombre_exposed        444\n",
    "nombre_recovered    16483\n",
    "Name: 421, dtype: int64"
   ]
  },
  {
   "cell_type": "markdown",
   "id": "49a95dcb",
   "metadata": {},
   "source": [
    "nombre_infected       851\n",
    "nombre_sain          2216\n",
    "nombre_exposed        446\n",
    "nombre_recovered    16487\n",
    "Name: 422, dtype: int64"
   ]
  },
  {
   "cell_type": "markdown",
   "id": "99c362f0",
   "metadata": {},
   "source": [
    "nombre_infected       861\n",
    "nombre_sain          2197\n",
    "nombre_exposed        445\n",
    "nombre_recovered    16497\n",
    "Name: 423, dtype: int64"
   ]
  },
  {
   "cell_type": "markdown",
   "id": "baf620af",
   "metadata": {},
   "source": [
    "nombre_infected       852\n",
    "nombre_sain          2181\n",
    "nombre_exposed        442\n",
    "nombre_recovered    16525\n",
    "Name: 424, dtype: int64"
   ]
  },
  {
   "cell_type": "markdown",
   "id": "ab27031a",
   "metadata": {},
   "source": [
    "nombre_infected       837\n",
    "nombre_sain          2205\n",
    "nombre_exposed        419\n",
    "nombre_recovered    16539\n",
    "Name: 425, dtype: int64"
   ]
  },
  {
   "cell_type": "markdown",
   "id": "2d5e1e76",
   "metadata": {},
   "source": [
    "nombre_infected       858\n",
    "nombre_sain          2205\n",
    "nombre_exposed        403\n",
    "nombre_recovered    16534\n",
    "Name: 426, dtype: int64"
   ]
  },
  {
   "cell_type": "markdown",
   "id": "7fc7c929",
   "metadata": {},
   "source": [
    "nombre_infected       843\n",
    "nombre_sain          2209\n",
    "nombre_exposed        418\n",
    "nombre_recovered    16530\n",
    "Name: 427, dtype: int64"
   ]
  },
  {
   "cell_type": "markdown",
   "id": "fa83ffef",
   "metadata": {},
   "source": [
    "nombre_infected       823\n",
    "nombre_sain          2223\n",
    "nombre_exposed        407\n",
    "nombre_recovered    16547\n",
    "Name: 428, dtype: int64"
   ]
  },
  {
   "cell_type": "markdown",
   "id": "5e0fcc59",
   "metadata": {},
   "source": [
    "nombre_infected       808\n",
    "nombre_sain          2243\n",
    "nombre_exposed        406\n",
    "nombre_recovered    16543\n",
    "Name: 429, dtype: int64"
   ]
  },
  {
   "cell_type": "markdown",
   "id": "a663c46e",
   "metadata": {},
   "source": [
    "nombre_infected       828\n",
    "nombre_sain          2249\n",
    "nombre_exposed        403\n",
    "nombre_recovered    16520\n",
    "Name: 430, dtype: int64"
   ]
  },
  {
   "cell_type": "markdown",
   "id": "17e9237a",
   "metadata": {},
   "source": [
    "nombre_infected       817\n",
    "nombre_sain          2253\n",
    "nombre_exposed        405\n",
    "nombre_recovered    16525\n",
    "Name: 431, dtype: int64"
   ]
  },
  {
   "cell_type": "markdown",
   "id": "c36866d3",
   "metadata": {},
   "source": [
    "nombre_infected       804\n",
    "nombre_sain          2242\n",
    "nombre_exposed        435\n",
    "nombre_recovered    16519\n",
    "Name: 432, dtype: int64"
   ]
  },
  {
   "cell_type": "markdown",
   "id": "bc7a8453",
   "metadata": {},
   "source": [
    "nombre_infected       782\n",
    "nombre_sain          2245\n",
    "nombre_exposed        424\n",
    "nombre_recovered    16549\n",
    "Name: 433, dtype: int64"
   ]
  },
  {
   "cell_type": "markdown",
   "id": "aa447839",
   "metadata": {},
   "source": [
    "nombre_infected       789\n",
    "nombre_sain          2256\n",
    "nombre_exposed        396\n",
    "nombre_recovered    16559\n",
    "Name: 434, dtype: int64"
   ]
  },
  {
   "cell_type": "markdown",
   "id": "dae28c4e",
   "metadata": {},
   "source": [
    "nombre_infected       763\n",
    "nombre_sain          2245\n",
    "nombre_exposed        411\n",
    "nombre_recovered    16581\n",
    "Name: 435, dtype: int64"
   ]
  },
  {
   "cell_type": "markdown",
   "id": "5e03c8dd",
   "metadata": {},
   "source": [
    "nombre_infected       740\n",
    "nombre_sain          2260\n",
    "nombre_exposed        420\n",
    "nombre_recovered    16580\n",
    "Name: 436, dtype: int64"
   ]
  },
  {
   "cell_type": "markdown",
   "id": "f3fd66d4",
   "metadata": {},
   "source": [
    "nombre_infected       765\n",
    "nombre_sain          2276\n",
    "nombre_exposed        393\n",
    "nombre_recovered    16566\n",
    "Name: 437, dtype: int64"
   ]
  },
  {
   "cell_type": "markdown",
   "id": "3b261ad2",
   "metadata": {},
   "source": [
    "nombre_infected       742\n",
    "nombre_sain          2272\n",
    "nombre_exposed        421\n",
    "nombre_recovered    16565\n",
    "Name: 438, dtype: int64"
   ]
  },
  {
   "cell_type": "markdown",
   "id": "87bcfebc",
   "metadata": {},
   "source": [
    "nombre_infected       745\n",
    "nombre_sain          2275\n",
    "nombre_exposed        414\n",
    "nombre_recovered    16566\n",
    "Name: 439, dtype: int64"
   ]
  },
  {
   "cell_type": "markdown",
   "id": "306f0bab",
   "metadata": {},
   "source": [
    "nombre_infected       746\n",
    "nombre_sain          2292\n",
    "nombre_exposed        424\n",
    "nombre_recovered    16538\n",
    "Name: 440, dtype: int64"
   ]
  },
  {
   "cell_type": "markdown",
   "id": "0d267994",
   "metadata": {},
   "source": [
    "nombre_infected       744\n",
    "nombre_sain          2327\n",
    "nombre_exposed        416\n",
    "nombre_recovered    16513\n",
    "Name: 441, dtype: int64"
   ]
  },
  {
   "cell_type": "markdown",
   "id": "2e097292",
   "metadata": {},
   "source": [
    "nombre_infected       738\n",
    "nombre_sain          2330\n",
    "nombre_exposed        420\n",
    "nombre_recovered    16512\n",
    "Name: 442, dtype: int64"
   ]
  },
  {
   "cell_type": "markdown",
   "id": "dda67cb1",
   "metadata": {},
   "source": [
    "nombre_infected       747\n",
    "nombre_sain          2355\n",
    "nombre_exposed        412\n",
    "nombre_recovered    16486\n",
    "Name: 443, dtype: int64"
   ]
  },
  {
   "cell_type": "markdown",
   "id": "3503e850",
   "metadata": {},
   "source": [
    "nombre_infected       766\n",
    "nombre_sain          2392\n",
    "nombre_exposed        387\n",
    "nombre_recovered    16455\n",
    "Name: 444, dtype: int64"
   ]
  },
  {
   "cell_type": "markdown",
   "id": "ae8ae087",
   "metadata": {},
   "source": [
    "nombre_infected       742\n",
    "nombre_sain          2410\n",
    "nombre_exposed        401\n",
    "nombre_recovered    16447\n",
    "Name: 445, dtype: int64"
   ]
  },
  {
   "cell_type": "markdown",
   "id": "2bd6eb0b",
   "metadata": {},
   "source": [
    "nombre_infected       740\n",
    "nombre_sain          2424\n",
    "nombre_exposed        404\n",
    "nombre_recovered    16432\n",
    "Name: 446, dtype: int64"
   ]
  },
  {
   "cell_type": "markdown",
   "id": "78e2355e",
   "metadata": {},
   "source": [
    "nombre_infected       710\n",
    "nombre_sain          2422\n",
    "nombre_exposed        452\n",
    "nombre_recovered    16416\n",
    "Name: 447, dtype: int64"
   ]
  },
  {
   "cell_type": "markdown",
   "id": "d3ae29aa",
   "metadata": {},
   "source": [
    "nombre_infected       708\n",
    "nombre_sain          2476\n",
    "nombre_exposed        426\n",
    "nombre_recovered    16390\n",
    "Name: 448, dtype: int64"
   ]
  },
  {
   "cell_type": "markdown",
   "id": "81868c66",
   "metadata": {},
   "source": [
    "nombre_infected       716\n",
    "nombre_sain          2517\n",
    "nombre_exposed        423\n",
    "nombre_recovered    16344\n",
    "Name: 449, dtype: int64"
   ]
  },
  {
   "cell_type": "markdown",
   "id": "7d510820",
   "metadata": {},
   "source": [
    "nombre_infected       718\n",
    "nombre_sain          2525\n",
    "nombre_exposed        439\n",
    "nombre_recovered    16318\n",
    "Name: 450, dtype: int64"
   ]
  },
  {
   "cell_type": "markdown",
   "id": "afd9f4a4",
   "metadata": {},
   "source": [
    "nombre_infected       720\n",
    "nombre_sain          2529\n",
    "nombre_exposed        438\n",
    "nombre_recovered    16313\n",
    "Name: 451, dtype: int64"
   ]
  },
  {
   "cell_type": "markdown",
   "id": "64b189a4",
   "metadata": {},
   "source": [
    "nombre_infected       723\n",
    "nombre_sain          2526\n",
    "nombre_exposed        449\n",
    "nombre_recovered    16302\n",
    "Name: 452, dtype: int64"
   ]
  },
  {
   "cell_type": "markdown",
   "id": "99b44ec2",
   "metadata": {},
   "source": [
    "nombre_infected       752\n",
    "nombre_sain          2528\n",
    "nombre_exposed        442\n",
    "nombre_recovered    16278\n",
    "Name: 453, dtype: int64"
   ]
  },
  {
   "cell_type": "markdown",
   "id": "eb566b80",
   "metadata": {},
   "source": [
    "nombre_infected       774\n",
    "nombre_sain          2524\n",
    "nombre_exposed        455\n",
    "nombre_recovered    16247\n",
    "Name: 454, dtype: int64"
   ]
  },
  {
   "cell_type": "markdown",
   "id": "f5d8fa3b",
   "metadata": {},
   "source": [
    "nombre_infected       785\n",
    "nombre_sain          2539\n",
    "nombre_exposed        447\n",
    "nombre_recovered    16229\n",
    "Name: 455, dtype: int64"
   ]
  },
  {
   "cell_type": "markdown",
   "id": "250fcc0d",
   "metadata": {},
   "source": [
    "nombre_infected       802\n",
    "nombre_sain          2558\n",
    "nombre_exposed        436\n",
    "nombre_recovered    16204\n",
    "Name: 456, dtype: int64"
   ]
  },
  {
   "cell_type": "markdown",
   "id": "05338909",
   "metadata": {},
   "source": [
    "nombre_infected       802\n",
    "nombre_sain          2553\n",
    "nombre_exposed        453\n",
    "nombre_recovered    16192\n",
    "Name: 457, dtype: int64"
   ]
  },
  {
   "cell_type": "markdown",
   "id": "7769ab3a",
   "metadata": {},
   "source": [
    "nombre_infected       804\n",
    "nombre_sain          2550\n",
    "nombre_exposed        463\n",
    "nombre_recovered    16183\n",
    "Name: 458, dtype: int64"
   ]
  },
  {
   "cell_type": "markdown",
   "id": "d540cd5a",
   "metadata": {},
   "source": [
    "nombre_infected       804\n",
    "nombre_sain          2550\n",
    "nombre_exposed        482\n",
    "nombre_recovered    16164\n",
    "Name: 459, dtype: int64"
   ]
  },
  {
   "cell_type": "markdown",
   "id": "1b76fa30",
   "metadata": {},
   "source": [
    "nombre_infected       815\n",
    "nombre_sain          2511\n",
    "nombre_exposed        483\n",
    "nombre_recovered    16191\n",
    "Name: 460, dtype: int64"
   ]
  },
  {
   "cell_type": "markdown",
   "id": "867f8d25",
   "metadata": {},
   "source": [
    "nombre_infected       834\n",
    "nombre_sain          2476\n",
    "nombre_exposed        489\n",
    "nombre_recovered    16201\n",
    "Name: 461, dtype: int64"
   ]
  },
  {
   "cell_type": "markdown",
   "id": "5432d251",
   "metadata": {},
   "source": [
    "nombre_infected       854\n",
    "nombre_sain          2445\n",
    "nombre_exposed        490\n",
    "nombre_recovered    16211\n",
    "Name: 462, dtype: int64"
   ]
  },
  {
   "cell_type": "markdown",
   "id": "fec6d45d",
   "metadata": {},
   "source": [
    "nombre_infected       856\n",
    "nombre_sain          2438\n",
    "nombre_exposed        502\n",
    "nombre_recovered    16204\n",
    "Name: 463, dtype: int64"
   ]
  },
  {
   "cell_type": "markdown",
   "id": "26c60823",
   "metadata": {},
   "source": [
    "nombre_infected       856\n",
    "nombre_sain          2436\n",
    "nombre_exposed        492\n",
    "nombre_recovered    16216\n",
    "Name: 464, dtype: int64"
   ]
  },
  {
   "cell_type": "markdown",
   "id": "e1ee5b79",
   "metadata": {},
   "source": [
    "nombre_infected       866\n",
    "nombre_sain          2432\n",
    "nombre_exposed        502\n",
    "nombre_recovered    16200\n",
    "Name: 465, dtype: int64"
   ]
  },
  {
   "cell_type": "markdown",
   "id": "4f063b4d",
   "metadata": {},
   "source": [
    "nombre_infected       849\n",
    "nombre_sain          2427\n",
    "nombre_exposed        522\n",
    "nombre_recovered    16202\n",
    "Name: 466, dtype: int64"
   ]
  },
  {
   "cell_type": "markdown",
   "id": "843cd284",
   "metadata": {},
   "source": [
    "nombre_infected       847\n",
    "nombre_sain          2415\n",
    "nombre_exposed        539\n",
    "nombre_recovered    16199\n",
    "Name: 467, dtype: int64"
   ]
  },
  {
   "cell_type": "markdown",
   "id": "df925b14",
   "metadata": {},
   "source": [
    "nombre_infected       873\n",
    "nombre_sain          2408\n",
    "nombre_exposed        508\n",
    "nombre_recovered    16211\n",
    "Name: 468, dtype: int64"
   ]
  },
  {
   "cell_type": "markdown",
   "id": "efd1a813",
   "metadata": {},
   "source": [
    "nombre_infected       890\n",
    "nombre_sain          2424\n",
    "nombre_exposed        490\n",
    "nombre_recovered    16196\n",
    "Name: 469, dtype: int64"
   ]
  },
  {
   "cell_type": "markdown",
   "id": "ace1eda8",
   "metadata": {},
   "source": [
    "nombre_infected       887\n",
    "nombre_sain          2427\n",
    "nombre_exposed        474\n",
    "nombre_recovered    16212\n",
    "Name: 470, dtype: int64"
   ]
  },
  {
   "cell_type": "markdown",
   "id": "e4d2a39e",
   "metadata": {},
   "source": [
    "nombre_infected       881\n",
    "nombre_sain          2395\n",
    "nombre_exposed        510\n",
    "nombre_recovered    16214\n",
    "Name: 471, dtype: int64"
   ]
  },
  {
   "cell_type": "markdown",
   "id": "13d2559e",
   "metadata": {},
   "source": [
    "nombre_infected       869\n",
    "nombre_sain          2376\n",
    "nombre_exposed        529\n",
    "nombre_recovered    16226\n",
    "Name: 472, dtype: int64"
   ]
  },
  {
   "cell_type": "markdown",
   "id": "2d119429",
   "metadata": {},
   "source": [
    "nombre_infected       857\n",
    "nombre_sain          2366\n",
    "nombre_exposed        549\n",
    "nombre_recovered    16228\n",
    "Name: 473, dtype: int64"
   ]
  },
  {
   "cell_type": "markdown",
   "id": "c292c8a6",
   "metadata": {},
   "source": [
    "nombre_infected       873\n",
    "nombre_sain          2360\n",
    "nombre_exposed        538\n",
    "nombre_recovered    16229\n",
    "Name: 474, dtype: int64"
   ]
  },
  {
   "cell_type": "markdown",
   "id": "379472e4",
   "metadata": {},
   "source": [
    "nombre_infected       882\n",
    "nombre_sain          2346\n",
    "nombre_exposed        548\n",
    "nombre_recovered    16224\n",
    "Name: 475, dtype: int64"
   ]
  },
  {
   "cell_type": "markdown",
   "id": "ea654d32",
   "metadata": {},
   "source": [
    "nombre_infected       894\n",
    "nombre_sain          2344\n",
    "nombre_exposed        555\n",
    "nombre_recovered    16207\n",
    "Name: 476, dtype: int64"
   ]
  },
  {
   "cell_type": "markdown",
   "id": "da95dd6a",
   "metadata": {},
   "source": [
    "nombre_infected       884\n",
    "nombre_sain          2357\n",
    "nombre_exposed        526\n",
    "nombre_recovered    16233\n",
    "Name: 477, dtype: int64"
   ]
  },
  {
   "cell_type": "markdown",
   "id": "6526fbf4",
   "metadata": {},
   "source": [
    "nombre_infected       890\n",
    "nombre_sain          2338\n",
    "nombre_exposed        519\n",
    "nombre_recovered    16253\n",
    "Name: 478, dtype: int64"
   ]
  },
  {
   "cell_type": "markdown",
   "id": "8240fca0",
   "metadata": {},
   "source": [
    "nombre_infected       887\n",
    "nombre_sain          2307\n",
    "nombre_exposed        537\n",
    "nombre_recovered    16269\n",
    "Name: 479, dtype: int64"
   ]
  },
  {
   "cell_type": "markdown",
   "id": "fc1f45f7",
   "metadata": {},
   "source": [
    "nombre_infected       915\n",
    "nombre_sain          2314\n",
    "nombre_exposed        532\n",
    "nombre_recovered    16239\n",
    "Name: 480, dtype: int64"
   ]
  },
  {
   "cell_type": "markdown",
   "id": "a4e602c8",
   "metadata": {},
   "source": [
    "nombre_infected       911\n",
    "nombre_sain          2307\n",
    "nombre_exposed        523\n",
    "nombre_recovered    16259\n",
    "Name: 481, dtype: int64"
   ]
  },
  {
   "cell_type": "markdown",
   "id": "a412d37f",
   "metadata": {},
   "source": [
    "nombre_infected       932\n",
    "nombre_sain          2281\n",
    "nombre_exposed        526\n",
    "nombre_recovered    16261\n",
    "Name: 482, dtype: int64"
   ]
  },
  {
   "cell_type": "markdown",
   "id": "ae152a09",
   "metadata": {},
   "source": [
    "nombre_infected       918\n",
    "nombre_sain          2282\n",
    "nombre_exposed        532\n",
    "nombre_recovered    16268\n",
    "Name: 483, dtype: int64"
   ]
  },
  {
   "cell_type": "markdown",
   "id": "64f717a0",
   "metadata": {},
   "source": [
    "nombre_infected       945\n",
    "nombre_sain          2272\n",
    "nombre_exposed        554\n",
    "nombre_recovered    16229\n",
    "Name: 484, dtype: int64"
   ]
  },
  {
   "cell_type": "markdown",
   "id": "028f2331",
   "metadata": {},
   "source": [
    "nombre_infected       957\n",
    "nombre_sain          2253\n",
    "nombre_exposed        576\n",
    "nombre_recovered    16214\n",
    "Name: 485, dtype: int64"
   ]
  },
  {
   "cell_type": "markdown",
   "id": "4e6dadd1",
   "metadata": {},
   "source": [
    "nombre_infected       972\n",
    "nombre_sain          2257\n",
    "nombre_exposed        568\n",
    "nombre_recovered    16203\n",
    "Name: 486, dtype: int64"
   ]
  },
  {
   "cell_type": "markdown",
   "id": "6cea3133",
   "metadata": {},
   "source": [
    "nombre_infected       964\n",
    "nombre_sain          2263\n",
    "nombre_exposed        558\n",
    "nombre_recovered    16215\n",
    "Name: 487, dtype: int64"
   ]
  },
  {
   "cell_type": "markdown",
   "id": "47871fb9",
   "metadata": {},
   "source": [
    "nombre_infected       972\n",
    "nombre_sain          2266\n",
    "nombre_exposed        548\n",
    "nombre_recovered    16214\n",
    "Name: 488, dtype: int64"
   ]
  },
  {
   "cell_type": "markdown",
   "id": "df5e5d32",
   "metadata": {},
   "source": [
    "nombre_infected       977\n",
    "nombre_sain          2238\n",
    "nombre_exposed        561\n",
    "nombre_recovered    16224\n",
    "Name: 489, dtype: int64"
   ]
  },
  {
   "cell_type": "markdown",
   "id": "6e74bd3c",
   "metadata": {},
   "source": [
    "nombre_infected       972\n",
    "nombre_sain          2219\n",
    "nombre_exposed        594\n",
    "nombre_recovered    16215\n",
    "Name: 490, dtype: int64"
   ]
  },
  {
   "cell_type": "markdown",
   "id": "4e009ea8",
   "metadata": {},
   "source": [
    "nombre_infected       992\n",
    "nombre_sain          2239\n",
    "nombre_exposed        557\n",
    "nombre_recovered    16212\n",
    "Name: 491, dtype: int64"
   ]
  },
  {
   "cell_type": "markdown",
   "id": "faa9cbe5",
   "metadata": {},
   "source": [
    "nombre_infected      1000\n",
    "nombre_sain          2229\n",
    "nombre_exposed        560\n",
    "nombre_recovered    16211\n",
    "Name: 492, dtype: int64"
   ]
  },
  {
   "cell_type": "markdown",
   "id": "3d1ecf24",
   "metadata": {},
   "source": [
    "nombre_infected      1009\n",
    "nombre_sain          2225\n",
    "nombre_exposed        557\n",
    "nombre_recovered    16209\n",
    "Name: 493, dtype: int64"
   ]
  },
  {
   "cell_type": "markdown",
   "id": "674dc9be",
   "metadata": {},
   "source": [
    "nombre_infected      1012\n",
    "nombre_sain          2211\n",
    "nombre_exposed        555\n",
    "nombre_recovered    16222\n",
    "Name: 494, dtype: int64"
   ]
  },
  {
   "cell_type": "markdown",
   "id": "0cd57888",
   "metadata": {},
   "source": [
    "nombre_infected      1012\n",
    "nombre_sain          2193\n",
    "nombre_exposed        567\n",
    "nombre_recovered    16228\n",
    "Name: 495, dtype: int64"
   ]
  },
  {
   "cell_type": "markdown",
   "id": "57cc223b",
   "metadata": {},
   "source": [
    "nombre_infected       981\n",
    "nombre_sain          2199\n",
    "nombre_exposed        577\n",
    "nombre_recovered    16243\n",
    "Name: 496, dtype: int64"
   ]
  },
  {
   "cell_type": "markdown",
   "id": "91ef4910",
   "metadata": {},
   "source": [
    "nombre_infected       988\n",
    "nombre_sain          2200\n",
    "nombre_exposed        571\n",
    "nombre_recovered    16241\n",
    "Name: 497, dtype: int64"
   ]
  },
  {
   "cell_type": "markdown",
   "id": "1d8de792",
   "metadata": {},
   "source": [
    "nombre_infected       994\n",
    "nombre_sain          2217\n",
    "nombre_exposed        555\n",
    "nombre_recovered    16234\n",
    "Name: 498, dtype: int64"
   ]
  },
  {
   "cell_type": "markdown",
   "id": "15bb5b1f",
   "metadata": {},
   "source": [
    "nombre_infected       997\n",
    "nombre_sain          2198\n",
    "nombre_exposed        565\n",
    "nombre_recovered    16240\n",
    "Name: 499, dtype: int64"
   ]
  },
  {
   "cell_type": "markdown",
   "id": "5c787498",
   "metadata": {},
   "source": [
    "nombre_infected      1000\n",
    "nombre_sain          2190\n",
    "nombre_exposed        561\n",
    "nombre_recovered    16249\n",
    "Name: 500, dtype: int64"
   ]
  },
  {
   "cell_type": "markdown",
   "id": "10878d0d",
   "metadata": {},
   "source": [
    "nombre_infected       998\n",
    "nombre_sain          2221\n",
    "nombre_exposed        533\n",
    "nombre_recovered    16248\n",
    "Name: 501, dtype: int64"
   ]
  },
  {
   "cell_type": "markdown",
   "id": "2919dde0",
   "metadata": {},
   "source": [
    "nombre_infected      1004\n",
    "nombre_sain          2211\n",
    "nombre_exposed        522\n",
    "nombre_recovered    16263\n",
    "Name: 502, dtype: int64"
   ]
  },
  {
   "cell_type": "markdown",
   "id": "afaef1be",
   "metadata": {},
   "source": [
    "nombre_infected       978\n",
    "nombre_sain          2226\n",
    "nombre_exposed        527\n",
    "nombre_recovered    16269\n",
    "Name: 503, dtype: int64"
   ]
  },
  {
   "cell_type": "markdown",
   "id": "1bf4a7b9",
   "metadata": {},
   "source": [
    "nombre_infected       980\n",
    "nombre_sain          2224\n",
    "nombre_exposed        527\n",
    "nombre_recovered    16269\n",
    "Name: 504, dtype: int64"
   ]
  },
  {
   "cell_type": "markdown",
   "id": "a2f4960b",
   "metadata": {},
   "source": [
    "nombre_infected       995\n",
    "nombre_sain          2200\n",
    "nombre_exposed        533\n",
    "nombre_recovered    16272\n",
    "Name: 505, dtype: int64"
   ]
  },
  {
   "cell_type": "markdown",
   "id": "e37933ef",
   "metadata": {},
   "source": [
    "nombre_infected       980\n",
    "nombre_sain          2196\n",
    "nombre_exposed        540\n",
    "nombre_recovered    16284\n",
    "Name: 506, dtype: int64"
   ]
  },
  {
   "cell_type": "markdown",
   "id": "d7a4976e",
   "metadata": {},
   "source": [
    "nombre_infected       992\n",
    "nombre_sain          2171\n",
    "nombre_exposed        546\n",
    "nombre_recovered    16291\n",
    "Name: 507, dtype: int64"
   ]
  },
  {
   "cell_type": "markdown",
   "id": "3f0e28e3",
   "metadata": {},
   "source": [
    "nombre_infected       967\n",
    "nombre_sain          2153\n",
    "nombre_exposed        564\n",
    "nombre_recovered    16316\n",
    "Name: 508, dtype: int64"
   ]
  },
  {
   "cell_type": "markdown",
   "id": "933a90f1",
   "metadata": {},
   "source": [
    "nombre_infected       996\n",
    "nombre_sain          2157\n",
    "nombre_exposed        554\n",
    "nombre_recovered    16293\n",
    "Name: 509, dtype: int64"
   ]
  },
  {
   "cell_type": "markdown",
   "id": "2874d82e",
   "metadata": {},
   "source": [
    "nombre_infected      1000\n",
    "nombre_sain          2161\n",
    "nombre_exposed        540\n",
    "nombre_recovered    16299\n",
    "Name: 510, dtype: int64"
   ]
  },
  {
   "cell_type": "markdown",
   "id": "e9c0cc92",
   "metadata": {},
   "source": [
    "nombre_infected      1003\n",
    "nombre_sain          2156\n",
    "nombre_exposed        531\n",
    "nombre_recovered    16310\n",
    "Name: 511, dtype: int64"
   ]
  },
  {
   "cell_type": "markdown",
   "id": "b7d23e74",
   "metadata": {},
   "source": [
    "nombre_infected       997\n",
    "nombre_sain          2158\n",
    "nombre_exposed        536\n",
    "nombre_recovered    16309\n",
    "Name: 512, dtype: int64"
   ]
  },
  {
   "cell_type": "markdown",
   "id": "8f97af11",
   "metadata": {},
   "source": [
    "nombre_infected      1007\n",
    "nombre_sain          2126\n",
    "nombre_exposed        534\n",
    "nombre_recovered    16333\n",
    "Name: 513, dtype: int64"
   ]
  },
  {
   "cell_type": "markdown",
   "id": "3d25a183",
   "metadata": {},
   "source": [
    "nombre_infected       998\n",
    "nombre_sain          2114\n",
    "nombre_exposed        530\n",
    "nombre_recovered    16358\n",
    "Name: 514, dtype: int64"
   ]
  },
  {
   "cell_type": "markdown",
   "id": "22b00f73",
   "metadata": {},
   "source": [
    "nombre_infected       981\n",
    "nombre_sain          2099\n",
    "nombre_exposed        528\n",
    "nombre_recovered    16392\n",
    "Name: 515, dtype: int64"
   ]
  },
  {
   "cell_type": "markdown",
   "id": "602c7788",
   "metadata": {},
   "source": [
    "nombre_infected       984\n",
    "nombre_sain          2081\n",
    "nombre_exposed        524\n",
    "nombre_recovered    16411\n",
    "Name: 516, dtype: int64"
   ]
  },
  {
   "cell_type": "markdown",
   "id": "ffb796c8",
   "metadata": {},
   "source": [
    "nombre_infected       965\n",
    "nombre_sain          2073\n",
    "nombre_exposed        534\n",
    "nombre_recovered    16428\n",
    "Name: 517, dtype: int64"
   ]
  },
  {
   "cell_type": "markdown",
   "id": "0265053f",
   "metadata": {},
   "source": [
    "nombre_infected       968\n",
    "nombre_sain          2060\n",
    "nombre_exposed        553\n",
    "nombre_recovered    16419\n",
    "Name: 518, dtype: int64"
   ]
  },
  {
   "cell_type": "markdown",
   "id": "eebbab47",
   "metadata": {},
   "source": [
    "nombre_infected       961\n",
    "nombre_sain          2072\n",
    "nombre_exposed        529\n",
    "nombre_recovered    16438\n",
    "Name: 519, dtype: int64"
   ]
  },
  {
   "cell_type": "markdown",
   "id": "3027618f",
   "metadata": {},
   "source": [
    "nombre_infected       963\n",
    "nombre_sain          2054\n",
    "nombre_exposed        523\n",
    "nombre_recovered    16460\n",
    "Name: 520, dtype: int64"
   ]
  },
  {
   "cell_type": "markdown",
   "id": "d572920b",
   "metadata": {},
   "source": [
    "nombre_infected       959\n",
    "nombre_sain          2035\n",
    "nombre_exposed        523\n",
    "nombre_recovered    16483\n",
    "Name: 521, dtype: int64"
   ]
  },
  {
   "cell_type": "markdown",
   "id": "bc415e21",
   "metadata": {},
   "source": [
    "nombre_infected       965\n",
    "nombre_sain          2002\n",
    "nombre_exposed        539\n",
    "nombre_recovered    16494\n",
    "Name: 522, dtype: int64"
   ]
  },
  {
   "cell_type": "markdown",
   "id": "13213e74",
   "metadata": {},
   "source": [
    "nombre_infected       962\n",
    "nombre_sain          2014\n",
    "nombre_exposed        537\n",
    "nombre_recovered    16487\n",
    "Name: 523, dtype: int64"
   ]
  },
  {
   "cell_type": "markdown",
   "id": "7a97b562",
   "metadata": {},
   "source": [
    "nombre_infected       956\n",
    "nombre_sain          2021\n",
    "nombre_exposed        529\n",
    "nombre_recovered    16494\n",
    "Name: 524, dtype: int64"
   ]
  },
  {
   "cell_type": "markdown",
   "id": "b14d53c5",
   "metadata": {},
   "source": [
    "nombre_infected       930\n",
    "nombre_sain          2035\n",
    "nombre_exposed        524\n",
    "nombre_recovered    16511\n",
    "Name: 525, dtype: int64"
   ]
  },
  {
   "cell_type": "markdown",
   "id": "cac6d212",
   "metadata": {},
   "source": [
    "nombre_infected       943\n",
    "nombre_sain          2037\n",
    "nombre_exposed        514\n",
    "nombre_recovered    16506\n",
    "Name: 526, dtype: int64"
   ]
  },
  {
   "cell_type": "markdown",
   "id": "766bb7e1",
   "metadata": {},
   "source": [
    "nombre_infected       939\n",
    "nombre_sain          2034\n",
    "nombre_exposed        534\n",
    "nombre_recovered    16493\n",
    "Name: 527, dtype: int64"
   ]
  },
  {
   "cell_type": "markdown",
   "id": "5e0dd39f",
   "metadata": {},
   "source": [
    "nombre_infected       956\n",
    "nombre_sain          2070\n",
    "nombre_exposed        519\n",
    "nombre_recovered    16455\n",
    "Name: 528, dtype: int64"
   ]
  },
  {
   "cell_type": "markdown",
   "id": "1c42a43f",
   "metadata": {},
   "source": [
    "nombre_infected       960\n",
    "nombre_sain          2057\n",
    "nombre_exposed        523\n",
    "nombre_recovered    16460\n",
    "Name: 529, dtype: int64"
   ]
  },
  {
   "cell_type": "markdown",
   "id": "a5342995",
   "metadata": {},
   "source": [
    "nombre_infected       951\n",
    "nombre_sain          2070\n",
    "nombre_exposed        526\n",
    "nombre_recovered    16453\n",
    "Name: 530, dtype: int64"
   ]
  },
  {
   "cell_type": "markdown",
   "id": "736cbccb",
   "metadata": {},
   "source": [
    "nombre_infected       931\n",
    "nombre_sain          2083\n",
    "nombre_exposed        517\n",
    "nombre_recovered    16469\n",
    "Name: 531, dtype: int64"
   ]
  },
  {
   "cell_type": "markdown",
   "id": "35e15e28",
   "metadata": {},
   "source": [
    "nombre_infected       933\n",
    "nombre_sain          2076\n",
    "nombre_exposed        513\n",
    "nombre_recovered    16478\n",
    "Name: 532, dtype: int64"
   ]
  },
  {
   "cell_type": "markdown",
   "id": "2c4fa606",
   "metadata": {},
   "source": [
    "nombre_infected       925\n",
    "nombre_sain          2078\n",
    "nombre_exposed        503\n",
    "nombre_recovered    16494\n",
    "Name: 533, dtype: int64"
   ]
  },
  {
   "cell_type": "markdown",
   "id": "501be282",
   "metadata": {},
   "source": [
    "nombre_infected       911\n",
    "nombre_sain          2088\n",
    "nombre_exposed        501\n",
    "nombre_recovered    16500\n",
    "Name: 534, dtype: int64"
   ]
  },
  {
   "cell_type": "markdown",
   "id": "eb2873da",
   "metadata": {},
   "source": [
    "nombre_infected       905\n",
    "nombre_sain          2113\n",
    "nombre_exposed        484\n",
    "nombre_recovered    16498\n",
    "Name: 535, dtype: int64"
   ]
  },
  {
   "cell_type": "markdown",
   "id": "81282078",
   "metadata": {},
   "source": [
    "nombre_infected       898\n",
    "nombre_sain          2101\n",
    "nombre_exposed        496\n",
    "nombre_recovered    16505\n",
    "Name: 536, dtype: int64"
   ]
  },
  {
   "cell_type": "markdown",
   "id": "3bbb66c0",
   "metadata": {},
   "source": [
    "nombre_infected       896\n",
    "nombre_sain          2083\n",
    "nombre_exposed        500\n",
    "nombre_recovered    16521\n",
    "Name: 537, dtype: int64"
   ]
  },
  {
   "cell_type": "markdown",
   "id": "5fd028bc",
   "metadata": {},
   "source": [
    "nombre_infected       912\n",
    "nombre_sain          2087\n",
    "nombre_exposed        475\n",
    "nombre_recovered    16526\n",
    "Name: 538, dtype: int64"
   ]
  },
  {
   "cell_type": "markdown",
   "id": "b62d1372",
   "metadata": {},
   "source": [
    "nombre_infected       904\n",
    "nombre_sain          2138\n",
    "nombre_exposed        466\n",
    "nombre_recovered    16492\n",
    "Name: 539, dtype: int64"
   ]
  },
  {
   "cell_type": "markdown",
   "id": "1247c349",
   "metadata": {},
   "source": [
    "nombre_infected       894\n",
    "nombre_sain          2147\n",
    "nombre_exposed        459\n",
    "nombre_recovered    16500\n",
    "Name: 540, dtype: int64"
   ]
  },
  {
   "cell_type": "markdown",
   "id": "be9ed1f5",
   "metadata": {},
   "source": [
    "nombre_infected       868\n",
    "nombre_sain          2160\n",
    "nombre_exposed        464\n",
    "nombre_recovered    16508\n",
    "Name: 541, dtype: int64"
   ]
  },
  {
   "cell_type": "markdown",
   "id": "5e7499de",
   "metadata": {},
   "source": [
    "nombre_infected       866\n",
    "nombre_sain          2153\n",
    "nombre_exposed        463\n",
    "nombre_recovered    16518\n",
    "Name: 542, dtype: int64"
   ]
  },
  {
   "cell_type": "markdown",
   "id": "9d692d7d",
   "metadata": {},
   "source": [
    "nombre_infected       856\n",
    "nombre_sain          2155\n",
    "nombre_exposed        453\n",
    "nombre_recovered    16536\n",
    "Name: 543, dtype: int64"
   ]
  },
  {
   "cell_type": "markdown",
   "id": "26728262",
   "metadata": {},
   "source": [
    "nombre_infected       858\n",
    "nombre_sain          2167\n",
    "nombre_exposed        440\n",
    "nombre_recovered    16535\n",
    "Name: 544, dtype: int64"
   ]
  },
  {
   "cell_type": "markdown",
   "id": "14383af1",
   "metadata": {},
   "source": [
    "nombre_infected       870\n",
    "nombre_sain          2173\n",
    "nombre_exposed        426\n",
    "nombre_recovered    16531\n",
    "Name: 545, dtype: int64"
   ]
  },
  {
   "cell_type": "markdown",
   "id": "13a0a787",
   "metadata": {},
   "source": [
    "nombre_infected       858\n",
    "nombre_sain          2194\n",
    "nombre_exposed        415\n",
    "nombre_recovered    16533\n",
    "Name: 546, dtype: int64"
   ]
  },
  {
   "cell_type": "markdown",
   "id": "db515119",
   "metadata": {},
   "source": [
    "nombre_infected       847\n",
    "nombre_sain          2208\n",
    "nombre_exposed        412\n",
    "nombre_recovered    16533\n",
    "Name: 547, dtype: int64"
   ]
  },
  {
   "cell_type": "markdown",
   "id": "881f4a1b",
   "metadata": {},
   "source": [
    "nombre_infected       838\n",
    "nombre_sain          2204\n",
    "nombre_exposed        423\n",
    "nombre_recovered    16535\n",
    "Name: 548, dtype: int64"
   ]
  },
  {
   "cell_type": "markdown",
   "id": "0fef1ab6",
   "metadata": {},
   "source": [
    "nombre_infected       830\n",
    "nombre_sain          2210\n",
    "nombre_exposed        439\n",
    "nombre_recovered    16521\n",
    "Name: 549, dtype: int64"
   ]
  },
  {
   "cell_type": "markdown",
   "id": "45b024e0",
   "metadata": {},
   "source": [
    "nombre_infected       804\n",
    "nombre_sain          2224\n",
    "nombre_exposed        451\n",
    "nombre_recovered    16521\n",
    "Name: 550, dtype: int64"
   ]
  },
  {
   "cell_type": "markdown",
   "id": "9a162365",
   "metadata": {},
   "source": [
    "nombre_infected       830\n",
    "nombre_sain          2245\n",
    "nombre_exposed        429\n",
    "nombre_recovered    16496\n",
    "Name: 551, dtype: int64"
   ]
  },
  {
   "cell_type": "markdown",
   "id": "6605978d",
   "metadata": {},
   "source": [
    "nombre_infected       814\n",
    "nombre_sain          2263\n",
    "nombre_exposed        442\n",
    "nombre_recovered    16481\n",
    "Name: 552, dtype: int64"
   ]
  },
  {
   "cell_type": "markdown",
   "id": "2522dccf",
   "metadata": {},
   "source": [
    "nombre_infected       824\n",
    "nombre_sain          2313\n",
    "nombre_exposed        413\n",
    "nombre_recovered    16450\n",
    "Name: 553, dtype: int64"
   ]
  },
  {
   "cell_type": "markdown",
   "id": "c382dcf1",
   "metadata": {},
   "source": [
    "nombre_infected       826\n",
    "nombre_sain          2327\n",
    "nombre_exposed        422\n",
    "nombre_recovered    16425\n",
    "Name: 554, dtype: int64"
   ]
  },
  {
   "cell_type": "markdown",
   "id": "386c794e",
   "metadata": {},
   "source": [
    "nombre_infected       815\n",
    "nombre_sain          2328\n",
    "nombre_exposed        445\n",
    "nombre_recovered    16412\n",
    "Name: 555, dtype: int64"
   ]
  },
  {
   "cell_type": "markdown",
   "id": "6bc45845",
   "metadata": {},
   "source": [
    "nombre_infected       829\n",
    "nombre_sain          2343\n",
    "nombre_exposed        461\n",
    "nombre_recovered    16367\n",
    "Name: 556, dtype: int64"
   ]
  },
  {
   "cell_type": "markdown",
   "id": "f29afe17",
   "metadata": {},
   "source": [
    "nombre_infected       815\n",
    "nombre_sain          2329\n",
    "nombre_exposed        502\n",
    "nombre_recovered    16354\n",
    "Name: 557, dtype: int64"
   ]
  },
  {
   "cell_type": "markdown",
   "id": "ea140407",
   "metadata": {},
   "source": [
    "nombre_infected       800\n",
    "nombre_sain          2357\n",
    "nombre_exposed        502\n",
    "nombre_recovered    16341\n",
    "Name: 558, dtype: int64"
   ]
  },
  {
   "cell_type": "markdown",
   "id": "0c55d017",
   "metadata": {},
   "source": [
    "nombre_infected       825\n",
    "nombre_sain          2370\n",
    "nombre_exposed        479\n",
    "nombre_recovered    16326\n",
    "Name: 559, dtype: int64"
   ]
  },
  {
   "cell_type": "markdown",
   "id": "03ac7160",
   "metadata": {},
   "source": [
    "nombre_infected       858\n",
    "nombre_sain          2367\n",
    "nombre_exposed        466\n",
    "nombre_recovered    16309\n",
    "Name: 560, dtype: int64"
   ]
  },
  {
   "cell_type": "markdown",
   "id": "b1f7d009",
   "metadata": {},
   "source": [
    "nombre_infected       864\n",
    "nombre_sain          2364\n",
    "nombre_exposed        471\n",
    "nombre_recovered    16301\n",
    "Name: 561, dtype: int64"
   ]
  },
  {
   "cell_type": "markdown",
   "id": "36a1af5e",
   "metadata": {},
   "source": [
    "nombre_infected       869\n",
    "nombre_sain          2373\n",
    "nombre_exposed        474\n",
    "nombre_recovered    16284\n",
    "Name: 562, dtype: int64"
   ]
  },
  {
   "cell_type": "markdown",
   "id": "5185cba7",
   "metadata": {},
   "source": [
    "nombre_infected       864\n",
    "nombre_sain          2363\n",
    "nombre_exposed        476\n",
    "nombre_recovered    16297\n",
    "Name: 563, dtype: int64"
   ]
  },
  {
   "cell_type": "markdown",
   "id": "1330d051",
   "metadata": {},
   "source": [
    "nombre_infected       865\n",
    "nombre_sain          2353\n",
    "nombre_exposed        481\n",
    "nombre_recovered    16301\n",
    "Name: 564, dtype: int64"
   ]
  },
  {
   "cell_type": "markdown",
   "id": "b8cde702",
   "metadata": {},
   "source": [
    "nombre_infected       876\n",
    "nombre_sain          2365\n",
    "nombre_exposed        493\n",
    "nombre_recovered    16266\n",
    "Name: 565, dtype: int64"
   ]
  },
  {
   "cell_type": "markdown",
   "id": "bc37e6df",
   "metadata": {},
   "source": [
    "nombre_infected       870\n",
    "nombre_sain          2354\n",
    "nombre_exposed        493\n",
    "nombre_recovered    16283\n",
    "Name: 566, dtype: int64"
   ]
  },
  {
   "cell_type": "markdown",
   "id": "c53655d7",
   "metadata": {},
   "source": [
    "nombre_infected       879\n",
    "nombre_sain          2337\n",
    "nombre_exposed        498\n",
    "nombre_recovered    16286\n",
    "Name: 567, dtype: int64"
   ]
  },
  {
   "cell_type": "markdown",
   "id": "4a93e260",
   "metadata": {},
   "source": [
    "nombre_infected       872\n",
    "nombre_sain          2359\n",
    "nombre_exposed        499\n",
    "nombre_recovered    16270\n",
    "Name: 568, dtype: int64"
   ]
  },
  {
   "cell_type": "markdown",
   "id": "a4cc5cf2",
   "metadata": {},
   "source": [
    "nombre_infected       891\n",
    "nombre_sain          2348\n",
    "nombre_exposed        492\n",
    "nombre_recovered    16269\n",
    "Name: 569, dtype: int64"
   ]
  },
  {
   "cell_type": "markdown",
   "id": "ee8a5b3d",
   "metadata": {},
   "source": [
    "nombre_infected       904\n",
    "nombre_sain          2366\n",
    "nombre_exposed        484\n",
    "nombre_recovered    16246\n",
    "Name: 570, dtype: int64"
   ]
  },
  {
   "cell_type": "markdown",
   "id": "fe2d512f",
   "metadata": {},
   "source": [
    "nombre_infected       891\n",
    "nombre_sain          2329\n",
    "nombre_exposed        526\n",
    "nombre_recovered    16254\n",
    "Name: 571, dtype: int64"
   ]
  },
  {
   "cell_type": "markdown",
   "id": "bab0e54c",
   "metadata": {},
   "source": [
    "nombre_infected       899\n",
    "nombre_sain          2318\n",
    "nombre_exposed        525\n",
    "nombre_recovered    16258\n",
    "Name: 572, dtype: int64"
   ]
  },
  {
   "cell_type": "markdown",
   "id": "9f407b1d",
   "metadata": {},
   "source": [
    "nombre_infected       914\n",
    "nombre_sain          2325\n",
    "nombre_exposed        512\n",
    "nombre_recovered    16249\n",
    "Name: 573, dtype: int64"
   ]
  },
  {
   "cell_type": "markdown",
   "id": "ae61760b",
   "metadata": {},
   "source": [
    "nombre_infected       903\n",
    "nombre_sain          2294\n",
    "nombre_exposed        541\n",
    "nombre_recovered    16262\n",
    "Name: 574, dtype: int64"
   ]
  },
  {
   "cell_type": "markdown",
   "id": "27b020c6",
   "metadata": {},
   "source": [
    "nombre_infected       898\n",
    "nombre_sain          2277\n",
    "nombre_exposed        545\n",
    "nombre_recovered    16280\n",
    "Name: 575, dtype: int64"
   ]
  },
  {
   "cell_type": "markdown",
   "id": "ee60d99d",
   "metadata": {},
   "source": [
    "nombre_infected       918\n",
    "nombre_sain          2293\n",
    "nombre_exposed        516\n",
    "nombre_recovered    16273\n",
    "Name: 576, dtype: int64"
   ]
  },
  {
   "cell_type": "markdown",
   "id": "e3186db9",
   "metadata": {},
   "source": [
    "nombre_infected       929\n",
    "nombre_sain          2289\n",
    "nombre_exposed        506\n",
    "nombre_recovered    16276\n",
    "Name: 577, dtype: int64"
   ]
  },
  {
   "cell_type": "markdown",
   "id": "d6161690",
   "metadata": {},
   "source": [
    "nombre_infected       941\n",
    "nombre_sain          2293\n",
    "nombre_exposed        509\n",
    "nombre_recovered    16257\n",
    "Name: 578, dtype: int64"
   ]
  },
  {
   "cell_type": "markdown",
   "id": "eae115fa",
   "metadata": {},
   "source": [
    "nombre_infected       965\n",
    "nombre_sain          2279\n",
    "nombre_exposed        498\n",
    "nombre_recovered    16258\n",
    "Name: 579, dtype: int64"
   ]
  },
  {
   "cell_type": "markdown",
   "id": "61cb15af",
   "metadata": {},
   "source": [
    "nombre_infected       972\n",
    "nombre_sain          2271\n",
    "nombre_exposed        522\n",
    "nombre_recovered    16235\n",
    "Name: 580, dtype: int64"
   ]
  },
  {
   "cell_type": "markdown",
   "id": "15990cb3",
   "metadata": {},
   "source": [
    "nombre_infected       975\n",
    "nombre_sain          2250\n",
    "nombre_exposed        538\n",
    "nombre_recovered    16237\n",
    "Name: 581, dtype: int64"
   ]
  },
  {
   "cell_type": "markdown",
   "id": "d5e11263",
   "metadata": {},
   "source": [
    "nombre_infected       969\n",
    "nombre_sain          2260\n",
    "nombre_exposed        548\n",
    "nombre_recovered    16223\n",
    "Name: 582, dtype: int64"
   ]
  },
  {
   "cell_type": "markdown",
   "id": "c44baa08",
   "metadata": {},
   "source": [
    "nombre_infected       979\n",
    "nombre_sain          2226\n",
    "nombre_exposed        563\n",
    "nombre_recovered    16232\n",
    "Name: 583, dtype: int64"
   ]
  },
  {
   "cell_type": "markdown",
   "id": "f1e9bea1",
   "metadata": {},
   "source": [
    "nombre_infected       999\n",
    "nombre_sain          2206\n",
    "nombre_exposed        567\n",
    "nombre_recovered    16228\n",
    "Name: 584, dtype: int64"
   ]
  },
  {
   "cell_type": "markdown",
   "id": "03e1fd04",
   "metadata": {},
   "source": [
    "nombre_infected       999\n",
    "nombre_sain          2180\n",
    "nombre_exposed        581\n",
    "nombre_recovered    16240\n",
    "Name: 585, dtype: int64"
   ]
  },
  {
   "cell_type": "markdown",
   "id": "04cdc6a9",
   "metadata": {},
   "source": [
    "nombre_infected       995\n",
    "nombre_sain          2206\n",
    "nombre_exposed        576\n",
    "nombre_recovered    16223\n",
    "Name: 586, dtype: int64"
   ]
  },
  {
   "cell_type": "markdown",
   "id": "6a4c8609",
   "metadata": {},
   "source": [
    "nombre_infected      1025\n",
    "nombre_sain          2150\n",
    "nombre_exposed        576\n",
    "nombre_recovered    16249\n",
    "Name: 587, dtype: int64"
   ]
  },
  {
   "cell_type": "markdown",
   "id": "91c0e5df",
   "metadata": {},
   "source": [
    "nombre_infected      1026\n",
    "nombre_sain          2140\n",
    "nombre_exposed        592\n",
    "nombre_recovered    16242\n",
    "Name: 588, dtype: int64"
   ]
  },
  {
   "cell_type": "markdown",
   "id": "763ba6e4",
   "metadata": {},
   "source": [
    "nombre_infected      1054\n",
    "nombre_sain          2132\n",
    "nombre_exposed        567\n",
    "nombre_recovered    16247\n",
    "Name: 589, dtype: int64"
   ]
  },
  {
   "cell_type": "markdown",
   "id": "5ac5d5fb",
   "metadata": {},
   "source": [
    "nombre_infected      1030\n",
    "nombre_sain          2137\n",
    "nombre_exposed        550\n",
    "nombre_recovered    16283\n",
    "Name: 590, dtype: int64"
   ]
  },
  {
   "cell_type": "markdown",
   "id": "b2e3e744",
   "metadata": {},
   "source": [
    "nombre_infected      1019\n",
    "nombre_sain          2134\n",
    "nombre_exposed        565\n",
    "nombre_recovered    16282\n",
    "Name: 591, dtype: int64"
   ]
  },
  {
   "cell_type": "markdown",
   "id": "70e78659",
   "metadata": {},
   "source": [
    "nombre_infected      1029\n",
    "nombre_sain          2149\n",
    "nombre_exposed        564\n",
    "nombre_recovered    16258\n",
    "Name: 592, dtype: int64"
   ]
  },
  {
   "cell_type": "markdown",
   "id": "1e9a5dbc",
   "metadata": {},
   "source": [
    "nombre_infected      1052\n",
    "nombre_sain          2133\n",
    "nombre_exposed        572\n",
    "nombre_recovered    16243\n",
    "Name: 593, dtype: int64"
   ]
  },
  {
   "cell_type": "markdown",
   "id": "d9d6ec44",
   "metadata": {},
   "source": [
    "nombre_infected      1089\n",
    "nombre_sain          2158\n",
    "nombre_exposed        548\n",
    "nombre_recovered    16205\n",
    "Name: 594, dtype: int64"
   ]
  },
  {
   "cell_type": "markdown",
   "id": "59b33f4a",
   "metadata": {},
   "source": [
    "nombre_infected      1084\n",
    "nombre_sain          2155\n",
    "nombre_exposed        553\n",
    "nombre_recovered    16208\n",
    "Name: 595, dtype: int64"
   ]
  },
  {
   "cell_type": "markdown",
   "id": "d01f933b",
   "metadata": {},
   "source": [
    "nombre_infected      1080\n",
    "nombre_sain          2130\n",
    "nombre_exposed        554\n",
    "nombre_recovered    16236\n",
    "Name: 596, dtype: int64"
   ]
  },
  {
   "cell_type": "markdown",
   "id": "3478d741",
   "metadata": {},
   "source": [
    "nombre_infected      1106\n",
    "nombre_sain          2115\n",
    "nombre_exposed        571\n",
    "nombre_recovered    16208\n",
    "Name: 597, dtype: int64"
   ]
  },
  {
   "cell_type": "markdown",
   "id": "2ae965c7",
   "metadata": {},
   "source": [
    "nombre_infected      1112\n",
    "nombre_sain          2103\n",
    "nombre_exposed        578\n",
    "nombre_recovered    16207\n",
    "Name: 598, dtype: int64"
   ]
  },
  {
   "cell_type": "markdown",
   "id": "07160e83",
   "metadata": {},
   "source": [
    "nombre_infected      1097\n",
    "nombre_sain          2082\n",
    "nombre_exposed        581\n",
    "nombre_recovered    16240\n",
    "Name: 599, dtype: int64"
   ]
  },
  {
   "cell_type": "markdown",
   "id": "835a4d64",
   "metadata": {},
   "source": [
    "nombre_infected      1100\n",
    "nombre_sain          2051\n",
    "nombre_exposed        591\n",
    "nombre_recovered    16258\n",
    "Name: 600, dtype: int64"
   ]
  },
  {
   "cell_type": "markdown",
   "id": "4ae77b03",
   "metadata": {},
   "source": [
    "nombre_infected      1110\n",
    "nombre_sain          2035\n",
    "nombre_exposed        586\n",
    "nombre_recovered    16269\n",
    "Name: 601, dtype: int64"
   ]
  },
  {
   "cell_type": "markdown",
   "id": "3f3d3795",
   "metadata": {},
   "source": [
    "nombre_infected      1095\n",
    "nombre_sain          2032\n",
    "nombre_exposed        589\n",
    "nombre_recovered    16284\n",
    "Name: 602, dtype: int64"
   ]
  },
  {
   "cell_type": "markdown",
   "id": "72b7314a",
   "metadata": {},
   "source": [
    "nombre_infected      1102\n",
    "nombre_sain          2013\n",
    "nombre_exposed        575\n",
    "nombre_recovered    16310\n",
    "Name: 603, dtype: int64"
   ]
  },
  {
   "cell_type": "markdown",
   "id": "3542f571",
   "metadata": {},
   "source": [
    "nombre_infected      1092\n",
    "nombre_sain          1998\n",
    "nombre_exposed        583\n",
    "nombre_recovered    16327\n",
    "Name: 604, dtype: int64"
   ]
  },
  {
   "cell_type": "markdown",
   "id": "ecc2fc03",
   "metadata": {},
   "source": [
    "nombre_infected      1093\n",
    "nombre_sain          1960\n",
    "nombre_exposed        570\n",
    "nombre_recovered    16377\n",
    "Name: 605, dtype: int64"
   ]
  },
  {
   "cell_type": "markdown",
   "id": "7c6bb483",
   "metadata": {},
   "source": [
    "nombre_infected      1095\n",
    "nombre_sain          1955\n",
    "nombre_exposed        568\n",
    "nombre_recovered    16382\n",
    "Name: 606, dtype: int64"
   ]
  },
  {
   "cell_type": "markdown",
   "id": "3780cfe2",
   "metadata": {},
   "source": [
    "nombre_infected      1108\n",
    "nombre_sain          1928\n",
    "nombre_exposed        575\n",
    "nombre_recovered    16389\n",
    "Name: 607, dtype: int64"
   ]
  },
  {
   "cell_type": "markdown",
   "id": "679fdc8a",
   "metadata": {},
   "source": [
    "nombre_infected      1119\n",
    "nombre_sain          1933\n",
    "nombre_exposed        553\n",
    "nombre_recovered    16395\n",
    "Name: 608, dtype: int64"
   ]
  },
  {
   "cell_type": "markdown",
   "id": "29090498",
   "metadata": {},
   "source": [
    "nombre_infected      1109\n",
    "nombre_sain          1916\n",
    "nombre_exposed        560\n",
    "nombre_recovered    16415\n",
    "Name: 609, dtype: int64"
   ]
  },
  {
   "cell_type": "markdown",
   "id": "6d2a9c5b",
   "metadata": {},
   "source": [
    "nombre_infected      1110\n",
    "nombre_sain          1879\n",
    "nombre_exposed        573\n",
    "nombre_recovered    16438\n",
    "Name: 610, dtype: int64"
   ]
  },
  {
   "cell_type": "markdown",
   "id": "ec50c340",
   "metadata": {},
   "source": [
    "nombre_infected      1086\n",
    "nombre_sain          1864\n",
    "nombre_exposed        576\n",
    "nombre_recovered    16474\n",
    "Name: 611, dtype: int64"
   ]
  },
  {
   "cell_type": "markdown",
   "id": "0bea29c9",
   "metadata": {},
   "source": [
    "nombre_infected      1078\n",
    "nombre_sain          1863\n",
    "nombre_exposed        565\n",
    "nombre_recovered    16494\n",
    "Name: 612, dtype: int64"
   ]
  },
  {
   "cell_type": "markdown",
   "id": "980d4c39",
   "metadata": {},
   "source": [
    "nombre_infected      1091\n",
    "nombre_sain          1848\n",
    "nombre_exposed        553\n",
    "nombre_recovered    16508\n",
    "Name: 613, dtype: int64"
   ]
  },
  {
   "cell_type": "markdown",
   "id": "32ccaa7c",
   "metadata": {},
   "source": [
    "nombre_infected      1071\n",
    "nombre_sain          1855\n",
    "nombre_exposed        540\n",
    "nombre_recovered    16534\n",
    "Name: 614, dtype: int64"
   ]
  },
  {
   "cell_type": "markdown",
   "id": "62c702e3",
   "metadata": {},
   "source": [
    "nombre_infected      1059\n",
    "nombre_sain          1851\n",
    "nombre_exposed        523\n",
    "nombre_recovered    16567\n",
    "Name: 615, dtype: int64"
   ]
  },
  {
   "cell_type": "markdown",
   "id": "94ef4f8c",
   "metadata": {},
   "source": [
    "nombre_infected      1042\n",
    "nombre_sain          1825\n",
    "nombre_exposed        533\n",
    "nombre_recovered    16600\n",
    "Name: 616, dtype: int64"
   ]
  },
  {
   "cell_type": "markdown",
   "id": "b0dbce66",
   "metadata": {},
   "source": [
    "nombre_infected      1013\n",
    "nombre_sain          1832\n",
    "nombre_exposed        518\n",
    "nombre_recovered    16637\n",
    "Name: 617, dtype: int64"
   ]
  },
  {
   "cell_type": "markdown",
   "id": "fe214cca",
   "metadata": {},
   "source": [
    "nombre_infected       979\n",
    "nombre_sain          1851\n",
    "nombre_exposed        500\n",
    "nombre_recovered    16670\n",
    "Name: 618, dtype: int64"
   ]
  },
  {
   "cell_type": "markdown",
   "id": "5b109afa",
   "metadata": {},
   "source": [
    "nombre_infected       960\n",
    "nombre_sain          1844\n",
    "nombre_exposed        509\n",
    "nombre_recovered    16687\n",
    "Name: 619, dtype: int64"
   ]
  },
  {
   "cell_type": "markdown",
   "id": "c8bfcddc",
   "metadata": {},
   "source": [
    "nombre_infected       964\n",
    "nombre_sain          1841\n",
    "nombre_exposed        508\n",
    "nombre_recovered    16687\n",
    "Name: 620, dtype: int64"
   ]
  },
  {
   "cell_type": "markdown",
   "id": "b3dd2c78",
   "metadata": {},
   "source": [
    "nombre_infected       945\n",
    "nombre_sain          1870\n",
    "nombre_exposed        489\n",
    "nombre_recovered    16696\n",
    "Name: 621, dtype: int64"
   ]
  },
  {
   "cell_type": "markdown",
   "id": "dfbc8448",
   "metadata": {},
   "source": [
    "nombre_infected       953\n",
    "nombre_sain          1882\n",
    "nombre_exposed        468\n",
    "nombre_recovered    16697\n",
    "Name: 622, dtype: int64"
   ]
  },
  {
   "cell_type": "markdown",
   "id": "0f78c0a7",
   "metadata": {},
   "source": [
    "nombre_infected       951\n",
    "nombre_sain          1908\n",
    "nombre_exposed        464\n",
    "nombre_recovered    16677\n",
    "Name: 623, dtype: int64"
   ]
  },
  {
   "cell_type": "markdown",
   "id": "a3158468",
   "metadata": {},
   "source": [
    "nombre_infected       916\n",
    "nombre_sain          1906\n",
    "nombre_exposed        468\n",
    "nombre_recovered    16710\n",
    "Name: 624, dtype: int64"
   ]
  },
  {
   "cell_type": "markdown",
   "id": "c5a43321",
   "metadata": {},
   "source": [
    "nombre_infected       899\n",
    "nombre_sain          1938\n",
    "nombre_exposed        466\n",
    "nombre_recovered    16697\n",
    "Name: 625, dtype: int64"
   ]
  },
  {
   "cell_type": "markdown",
   "id": "1f6024fc",
   "metadata": {},
   "source": [
    "nombre_infected       888\n",
    "nombre_sain          1967\n",
    "nombre_exposed        453\n",
    "nombre_recovered    16692\n",
    "Name: 626, dtype: int64"
   ]
  },
  {
   "cell_type": "markdown",
   "id": "0b4ad4df",
   "metadata": {},
   "source": [
    "nombre_infected       882\n",
    "nombre_sain          1984\n",
    "nombre_exposed        454\n",
    "nombre_recovered    16680\n",
    "Name: 627, dtype: int64"
   ]
  },
  {
   "cell_type": "markdown",
   "id": "23a848ac",
   "metadata": {},
   "source": [
    "nombre_infected       863\n",
    "nombre_sain          2020\n",
    "nombre_exposed        451\n",
    "nombre_recovered    16666\n",
    "Name: 628, dtype: int64"
   ]
  },
  {
   "cell_type": "markdown",
   "id": "400e9d93",
   "metadata": {},
   "source": [
    "nombre_infected       858\n",
    "nombre_sain          2031\n",
    "nombre_exposed        445\n",
    "nombre_recovered    16666\n",
    "Name: 629, dtype: int64"
   ]
  },
  {
   "cell_type": "markdown",
   "id": "db824c59",
   "metadata": {},
   "source": [
    "nombre_infected       865\n",
    "nombre_sain          2037\n",
    "nombre_exposed        450\n",
    "nombre_recovered    16648\n",
    "Name: 630, dtype: int64"
   ]
  },
  {
   "cell_type": "markdown",
   "id": "98d27211",
   "metadata": {},
   "source": [
    "nombre_infected       858\n",
    "nombre_sain          2065\n",
    "nombre_exposed        448\n",
    "nombre_recovered    16629\n",
    "Name: 631, dtype: int64"
   ]
  },
  {
   "cell_type": "markdown",
   "id": "8006bedf",
   "metadata": {},
   "source": [
    "nombre_infected       855\n",
    "nombre_sain          2080\n",
    "nombre_exposed        466\n",
    "nombre_recovered    16599\n",
    "Name: 632, dtype: int64"
   ]
  },
  {
   "cell_type": "markdown",
   "id": "f4625e03",
   "metadata": {},
   "source": [
    "nombre_infected       835\n",
    "nombre_sain          2101\n",
    "nombre_exposed        460\n",
    "nombre_recovered    16604\n",
    "Name: 633, dtype: int64"
   ]
  },
  {
   "cell_type": "markdown",
   "id": "a349d7a1",
   "metadata": {},
   "source": [
    "nombre_infected       841\n",
    "nombre_sain          2140\n",
    "nombre_exposed        437\n",
    "nombre_recovered    16582\n",
    "Name: 634, dtype: int64"
   ]
  },
  {
   "cell_type": "markdown",
   "id": "c0f48e63",
   "metadata": {},
   "source": [
    "nombre_infected       836\n",
    "nombre_sain          2149\n",
    "nombre_exposed        457\n",
    "nombre_recovered    16558\n",
    "Name: 635, dtype: int64"
   ]
  },
  {
   "cell_type": "markdown",
   "id": "59e52db4",
   "metadata": {},
   "source": [
    "nombre_infected       812\n",
    "nombre_sain          2164\n",
    "nombre_exposed        479\n",
    "nombre_recovered    16545\n",
    "Name: 636, dtype: int64"
   ]
  },
  {
   "cell_type": "markdown",
   "id": "e62ba5a7",
   "metadata": {},
   "source": [
    "nombre_infected       821\n",
    "nombre_sain          2176\n",
    "nombre_exposed        459\n",
    "nombre_recovered    16544\n",
    "Name: 637, dtype: int64"
   ]
  },
  {
   "cell_type": "markdown",
   "id": "8fd205bd",
   "metadata": {},
   "source": [
    "nombre_infected       801\n",
    "nombre_sain          2220\n",
    "nombre_exposed        451\n",
    "nombre_recovered    16528\n",
    "Name: 638, dtype: int64"
   ]
  },
  {
   "cell_type": "markdown",
   "id": "056c20ce",
   "metadata": {},
   "source": [
    "nombre_infected       796\n",
    "nombre_sain          2211\n",
    "nombre_exposed        463\n",
    "nombre_recovered    16530\n",
    "Name: 639, dtype: int64"
   ]
  },
  {
   "cell_type": "markdown",
   "id": "ee2efcb2",
   "metadata": {},
   "source": [
    "nombre_infected       799\n",
    "nombre_sain          2237\n",
    "nombre_exposed        447\n",
    "nombre_recovered    16517\n",
    "Name: 640, dtype: int64"
   ]
  },
  {
   "cell_type": "markdown",
   "id": "6f73341d",
   "metadata": {},
   "source": [
    "nombre_infected       802\n",
    "nombre_sain          2223\n",
    "nombre_exposed        464\n",
    "nombre_recovered    16511\n",
    "Name: 641, dtype: int64"
   ]
  },
  {
   "cell_type": "markdown",
   "id": "72e533ac",
   "metadata": {},
   "source": [
    "nombre_infected       770\n",
    "nombre_sain          2232\n",
    "nombre_exposed        493\n",
    "nombre_recovered    16505\n",
    "Name: 642, dtype: int64"
   ]
  },
  {
   "cell_type": "markdown",
   "id": "79c23e28",
   "metadata": {},
   "source": [
    "nombre_infected       779\n",
    "nombre_sain          2259\n",
    "nombre_exposed        481\n",
    "nombre_recovered    16481\n",
    "Name: 643, dtype: int64"
   ]
  },
  {
   "cell_type": "markdown",
   "id": "9faf4f47",
   "metadata": {},
   "source": [
    "nombre_infected       789\n",
    "nombre_sain          2286\n",
    "nombre_exposed        477\n",
    "nombre_recovered    16448\n",
    "Name: 644, dtype: int64"
   ]
  },
  {
   "cell_type": "markdown",
   "id": "ff8e914e",
   "metadata": {},
   "source": [
    "nombre_infected       792\n",
    "nombre_sain          2296\n",
    "nombre_exposed        482\n",
    "nombre_recovered    16430\n",
    "Name: 645, dtype: int64"
   ]
  },
  {
   "cell_type": "markdown",
   "id": "aaf5fb6b",
   "metadata": {},
   "source": [
    "nombre_infected       808\n",
    "nombre_sain          2298\n",
    "nombre_exposed        485\n",
    "nombre_recovered    16409\n",
    "Name: 646, dtype: int64"
   ]
  },
  {
   "cell_type": "markdown",
   "id": "4e4dd1d8",
   "metadata": {},
   "source": [
    "nombre_infected       828\n",
    "nombre_sain          2291\n",
    "nombre_exposed        507\n",
    "nombre_recovered    16374\n",
    "Name: 647, dtype: int64"
   ]
  },
  {
   "cell_type": "markdown",
   "id": "8c446550",
   "metadata": {},
   "source": [
    "nombre_infected       867\n",
    "nombre_sain          2308\n",
    "nombre_exposed        486\n",
    "nombre_recovered    16339\n",
    "Name: 648, dtype: int64"
   ]
  },
  {
   "cell_type": "markdown",
   "id": "560380d2",
   "metadata": {},
   "source": [
    "nombre_infected       873\n",
    "nombre_sain          2270\n",
    "nombre_exposed        501\n",
    "nombre_recovered    16356\n",
    "Name: 649, dtype: int64"
   ]
  },
  {
   "cell_type": "markdown",
   "id": "aaadc306",
   "metadata": {},
   "source": [
    "nombre_infected       872\n",
    "nombre_sain          2274\n",
    "nombre_exposed        496\n",
    "nombre_recovered    16358\n",
    "Name: 650, dtype: int64"
   ]
  },
  {
   "cell_type": "markdown",
   "id": "c9ae13ee",
   "metadata": {},
   "source": [
    "nombre_infected       884\n",
    "nombre_sain          2284\n",
    "nombre_exposed        488\n",
    "nombre_recovered    16344\n",
    "Name: 651, dtype: int64"
   ]
  },
  {
   "cell_type": "markdown",
   "id": "2e8ab408",
   "metadata": {},
   "source": [
    "nombre_infected       909\n",
    "nombre_sain          2288\n",
    "nombre_exposed        484\n",
    "nombre_recovered    16319\n",
    "Name: 652, dtype: int64"
   ]
  },
  {
   "cell_type": "markdown",
   "id": "f766f9d9",
   "metadata": {},
   "source": [
    "nombre_infected       907\n",
    "nombre_sain          2291\n",
    "nombre_exposed        499\n",
    "nombre_recovered    16303\n",
    "Name: 653, dtype: int64"
   ]
  },
  {
   "cell_type": "markdown",
   "id": "e511db3d",
   "metadata": {},
   "source": [
    "nombre_infected       944\n",
    "nombre_sain          2263\n",
    "nombre_exposed        499\n",
    "nombre_recovered    16294\n",
    "Name: 654, dtype: int64"
   ]
  },
  {
   "cell_type": "markdown",
   "id": "cbf7d9c5",
   "metadata": {},
   "source": [
    "nombre_infected       953\n",
    "nombre_sain          2248\n",
    "nombre_exposed        510\n",
    "nombre_recovered    16289\n",
    "Name: 655, dtype: int64"
   ]
  },
  {
   "cell_type": "markdown",
   "id": "f7d5e375",
   "metadata": {},
   "source": [
    "nombre_infected       972\n",
    "nombre_sain          2224\n",
    "nombre_exposed        524\n",
    "nombre_recovered    16280\n",
    "Name: 656, dtype: int64"
   ]
  },
  {
   "cell_type": "markdown",
   "id": "5425c80f",
   "metadata": {},
   "source": [
    "nombre_infected       986\n",
    "nombre_sain          2234\n",
    "nombre_exposed        497\n",
    "nombre_recovered    16283\n",
    "Name: 657, dtype: int64"
   ]
  },
  {
   "cell_type": "markdown",
   "id": "3d7baba9",
   "metadata": {},
   "source": [
    "nombre_infected       974\n",
    "nombre_sain          2221\n",
    "nombre_exposed        524\n",
    "nombre_recovered    16281\n",
    "Name: 658, dtype: int64"
   ]
  },
  {
   "cell_type": "markdown",
   "id": "dd3d5439",
   "metadata": {},
   "source": [
    "nombre_infected       994\n",
    "nombre_sain          2209\n",
    "nombre_exposed        520\n",
    "nombre_recovered    16277\n",
    "Name: 659, dtype: int64"
   ]
  },
  {
   "cell_type": "markdown",
   "id": "431afe03",
   "metadata": {},
   "source": [
    "nombre_infected       982\n",
    "nombre_sain          2178\n",
    "nombre_exposed        540\n",
    "nombre_recovered    16300\n",
    "Name: 660, dtype: int64"
   ]
  },
  {
   "cell_type": "markdown",
   "id": "afeff8ef",
   "metadata": {},
   "source": [
    "nombre_infected       991\n",
    "nombre_sain          2140\n",
    "nombre_exposed        561\n",
    "nombre_recovered    16308\n",
    "Name: 661, dtype: int64"
   ]
  },
  {
   "cell_type": "markdown",
   "id": "3f6a393e",
   "metadata": {},
   "source": [
    "nombre_infected      1014\n",
    "nombre_sain          2132\n",
    "nombre_exposed        557\n",
    "nombre_recovered    16297\n",
    "Name: 662, dtype: int64"
   ]
  },
  {
   "cell_type": "markdown",
   "id": "d09479fe",
   "metadata": {},
   "source": [
    "nombre_infected      1003\n",
    "nombre_sain          2117\n",
    "nombre_exposed        569\n",
    "nombre_recovered    16311\n",
    "Name: 663, dtype: int64"
   ]
  },
  {
   "cell_type": "markdown",
   "id": "984724b1",
   "metadata": {},
   "source": [
    "nombre_infected      1029\n",
    "nombre_sain          2107\n",
    "nombre_exposed        541\n",
    "nombre_recovered    16323\n",
    "Name: 664, dtype: int64"
   ]
  },
  {
   "cell_type": "markdown",
   "id": "43a1bf6d",
   "metadata": {},
   "source": [
    "nombre_infected      1050\n",
    "nombre_sain          2071\n",
    "nombre_exposed        549\n",
    "nombre_recovered    16330\n",
    "Name: 665, dtype: int64"
   ]
  },
  {
   "cell_type": "markdown",
   "id": "8c9794e0",
   "metadata": {},
   "source": [
    "nombre_infected      1052\n",
    "nombre_sain          2096\n",
    "nombre_exposed        538\n",
    "nombre_recovered    16314\n",
    "Name: 666, dtype: int64"
   ]
  },
  {
   "cell_type": "markdown",
   "id": "6f82eeea",
   "metadata": {},
   "source": [
    "nombre_infected      1069\n",
    "nombre_sain          2104\n",
    "nombre_exposed        519\n",
    "nombre_recovered    16308\n",
    "Name: 667, dtype: int64"
   ]
  },
  {
   "cell_type": "markdown",
   "id": "068bd71f",
   "metadata": {},
   "source": [
    "nombre_infected      1038\n",
    "nombre_sain          2085\n",
    "nombre_exposed        553\n",
    "nombre_recovered    16324\n",
    "Name: 668, dtype: int64"
   ]
  },
  {
   "cell_type": "markdown",
   "id": "a34f4e55",
   "metadata": {},
   "source": [
    "nombre_infected      1040\n",
    "nombre_sain          2070\n",
    "nombre_exposed        549\n",
    "nombre_recovered    16341\n",
    "Name: 669, dtype: int64"
   ]
  },
  {
   "cell_type": "markdown",
   "id": "bfc7ff2d",
   "metadata": {},
   "source": [
    "nombre_infected      1049\n",
    "nombre_sain          2090\n",
    "nombre_exposed        547\n",
    "nombre_recovered    16314\n",
    "Name: 670, dtype: int64"
   ]
  },
  {
   "cell_type": "markdown",
   "id": "cce9849a",
   "metadata": {},
   "source": [
    "nombre_infected      1032\n",
    "nombre_sain          2093\n",
    "nombre_exposed        556\n",
    "nombre_recovered    16319\n",
    "Name: 671, dtype: int64"
   ]
  },
  {
   "cell_type": "markdown",
   "id": "a8d79517",
   "metadata": {},
   "source": [
    "nombre_infected      1052\n",
    "nombre_sain          2071\n",
    "nombre_exposed        531\n",
    "nombre_recovered    16346\n",
    "Name: 672, dtype: int64"
   ]
  },
  {
   "cell_type": "markdown",
   "id": "89deb9be",
   "metadata": {},
   "source": [
    "nombre_infected      1052\n",
    "nombre_sain          2051\n",
    "nombre_exposed        531\n",
    "nombre_recovered    16366\n",
    "Name: 673, dtype: int64"
   ]
  },
  {
   "cell_type": "markdown",
   "id": "4b92ceaf",
   "metadata": {},
   "source": [
    "nombre_infected      1026\n",
    "nombre_sain          2050\n",
    "nombre_exposed        538\n",
    "nombre_recovered    16386\n",
    "Name: 674, dtype: int64"
   ]
  },
  {
   "cell_type": "markdown",
   "id": "884498c1",
   "metadata": {},
   "source": [
    "nombre_infected      1030\n",
    "nombre_sain          2030\n",
    "nombre_exposed        537\n",
    "nombre_recovered    16403\n",
    "Name: 675, dtype: int64"
   ]
  },
  {
   "cell_type": "markdown",
   "id": "5e79bce5",
   "metadata": {},
   "source": [
    "nombre_infected      1041\n",
    "nombre_sain          2006\n",
    "nombre_exposed        541\n",
    "nombre_recovered    16412\n",
    "Name: 676, dtype: int64"
   ]
  },
  {
   "cell_type": "markdown",
   "id": "cdba3a1b",
   "metadata": {},
   "source": [
    "nombre_infected      1053\n",
    "nombre_sain          2013\n",
    "nombre_exposed        516\n",
    "nombre_recovered    16418\n",
    "Name: 677, dtype: int64"
   ]
  },
  {
   "cell_type": "markdown",
   "id": "64995635",
   "metadata": {},
   "source": [
    "nombre_infected      1069\n",
    "nombre_sain          2001\n",
    "nombre_exposed        513\n",
    "nombre_recovered    16417\n",
    "Name: 678, dtype: int64"
   ]
  },
  {
   "cell_type": "markdown",
   "id": "02af8a5a",
   "metadata": {},
   "source": [
    "nombre_infected      1055\n",
    "nombre_sain          2003\n",
    "nombre_exposed        512\n",
    "nombre_recovered    16430\n",
    "Name: 679, dtype: int64"
   ]
  },
  {
   "cell_type": "markdown",
   "id": "723c1322",
   "metadata": {},
   "source": [
    "nombre_infected      1065\n",
    "nombre_sain          2002\n",
    "nombre_exposed        482\n",
    "nombre_recovered    16451\n",
    "Name: 680, dtype: int64"
   ]
  },
  {
   "cell_type": "markdown",
   "id": "6c276fc8",
   "metadata": {},
   "source": [
    "nombre_infected      1045\n",
    "nombre_sain          1991\n",
    "nombre_exposed        485\n",
    "nombre_recovered    16479\n",
    "Name: 681, dtype: int64"
   ]
  },
  {
   "cell_type": "markdown",
   "id": "62c1a287",
   "metadata": {},
   "source": [
    "nombre_infected      1014\n",
    "nombre_sain          1985\n",
    "nombre_exposed        497\n",
    "nombre_recovered    16504\n",
    "Name: 682, dtype: int64"
   ]
  },
  {
   "cell_type": "markdown",
   "id": "4ca1cf15",
   "metadata": {},
   "source": [
    "nombre_infected      1008\n",
    "nombre_sain          1983\n",
    "nombre_exposed        495\n",
    "nombre_recovered    16514\n",
    "Name: 683, dtype: int64"
   ]
  },
  {
   "cell_type": "markdown",
   "id": "0b3826ce",
   "metadata": {},
   "source": [
    "nombre_infected       997\n",
    "nombre_sain          2008\n",
    "nombre_exposed        487\n",
    "nombre_recovered    16508\n",
    "Name: 684, dtype: int64"
   ]
  },
  {
   "cell_type": "markdown",
   "id": "c3431e95",
   "metadata": {},
   "source": [
    "nombre_infected       993\n",
    "nombre_sain          2020\n",
    "nombre_exposed        489\n",
    "nombre_recovered    16498\n",
    "Name: 685, dtype: int64"
   ]
  },
  {
   "cell_type": "markdown",
   "id": "f1fec395",
   "metadata": {},
   "source": [
    "nombre_infected       984\n",
    "nombre_sain          1982\n",
    "nombre_exposed        512\n",
    "nombre_recovered    16522\n",
    "Name: 686, dtype: int64"
   ]
  },
  {
   "cell_type": "markdown",
   "id": "5eb59656",
   "metadata": {},
   "source": [
    "nombre_infected       955\n",
    "nombre_sain          1987\n",
    "nombre_exposed        494\n",
    "nombre_recovered    16564\n",
    "Name: 687, dtype: int64"
   ]
  },
  {
   "cell_type": "markdown",
   "id": "0c7e2df5",
   "metadata": {},
   "source": [
    "nombre_infected       943\n",
    "nombre_sain          2004\n",
    "nombre_exposed        456\n",
    "nombre_recovered    16597\n",
    "Name: 688, dtype: int64"
   ]
  },
  {
   "cell_type": "markdown",
   "id": "93240a79",
   "metadata": {},
   "source": [
    "nombre_infected       925\n",
    "nombre_sain          2033\n",
    "nombre_exposed        460\n",
    "nombre_recovered    16582\n",
    "Name: 689, dtype: int64"
   ]
  },
  {
   "cell_type": "markdown",
   "id": "1e4dd3a5",
   "metadata": {},
   "source": [
    "nombre_infected       921\n",
    "nombre_sain          2033\n",
    "nombre_exposed        460\n",
    "nombre_recovered    16586\n",
    "Name: 690, dtype: int64"
   ]
  },
  {
   "cell_type": "markdown",
   "id": "8d1e7650",
   "metadata": {},
   "source": [
    "nombre_infected       917\n",
    "nombre_sain          2057\n",
    "nombre_exposed        461\n",
    "nombre_recovered    16565\n",
    "Name: 691, dtype: int64"
   ]
  },
  {
   "cell_type": "markdown",
   "id": "92e34759",
   "metadata": {},
   "source": [
    "nombre_infected       910\n",
    "nombre_sain          2063\n",
    "nombre_exposed        452\n",
    "nombre_recovered    16575\n",
    "Name: 692, dtype: int64"
   ]
  },
  {
   "cell_type": "markdown",
   "id": "c822a97b",
   "metadata": {},
   "source": [
    "nombre_infected       901\n",
    "nombre_sain          2077\n",
    "nombre_exposed        457\n",
    "nombre_recovered    16565\n",
    "Name: 693, dtype: int64"
   ]
  },
  {
   "cell_type": "markdown",
   "id": "49af649d",
   "metadata": {},
   "source": [
    "nombre_infected       892\n",
    "nombre_sain          2104\n",
    "nombre_exposed        444\n",
    "nombre_recovered    16560\n",
    "Name: 694, dtype: int64"
   ]
  },
  {
   "cell_type": "markdown",
   "id": "837a260b",
   "metadata": {},
   "source": [
    "nombre_infected       889\n",
    "nombre_sain          2096\n",
    "nombre_exposed        460\n",
    "nombre_recovered    16555\n",
    "Name: 695, dtype: int64"
   ]
  },
  {
   "cell_type": "markdown",
   "id": "8c32637a",
   "metadata": {},
   "source": [
    "nombre_infected       872\n",
    "nombre_sain          2122\n",
    "nombre_exposed        465\n",
    "nombre_recovered    16541\n",
    "Name: 696, dtype: int64"
   ]
  },
  {
   "cell_type": "markdown",
   "id": "690962cf",
   "metadata": {},
   "source": [
    "nombre_infected       848\n",
    "nombre_sain          2128\n",
    "nombre_exposed        480\n",
    "nombre_recovered    16544\n",
    "Name: 697, dtype: int64"
   ]
  },
  {
   "cell_type": "markdown",
   "id": "9d6743a3",
   "metadata": {},
   "source": [
    "nombre_infected       845\n",
    "nombre_sain          2160\n",
    "nombre_exposed        476\n",
    "nombre_recovered    16519\n",
    "Name: 698, dtype: int64"
   ]
  },
  {
   "cell_type": "markdown",
   "id": "9b72328c",
   "metadata": {},
   "source": [
    "nombre_infected       855\n",
    "nombre_sain          2158\n",
    "nombre_exposed        493\n",
    "nombre_recovered    16494\n",
    "Name: 699, dtype: int64"
   ]
  },
  {
   "cell_type": "markdown",
   "id": "b382bef5",
   "metadata": {},
   "source": [
    "nombre_infected       871\n",
    "nombre_sain          2170\n",
    "nombre_exposed        479\n",
    "nombre_recovered    16480\n",
    "Name: 700, dtype: int64"
   ]
  },
  {
   "cell_type": "markdown",
   "id": "edc4e4fa",
   "metadata": {},
   "source": [
    "nombre_infected       893\n",
    "nombre_sain          2192\n",
    "nombre_exposed        448\n",
    "nombre_recovered    16467\n",
    "Name: 701, dtype: int64"
   ]
  },
  {
   "cell_type": "markdown",
   "id": "c535b2d7",
   "metadata": {},
   "source": [
    "nombre_infected       875\n",
    "nombre_sain          2189\n",
    "nombre_exposed        450\n",
    "nombre_recovered    16486\n",
    "Name: 702, dtype: int64"
   ]
  },
  {
   "cell_type": "markdown",
   "id": "88839a0a",
   "metadata": {},
   "source": [
    "nombre_infected       872\n",
    "nombre_sain          2191\n",
    "nombre_exposed        447\n",
    "nombre_recovered    16490\n",
    "Name: 703, dtype: int64"
   ]
  },
  {
   "cell_type": "markdown",
   "id": "a78a0fea",
   "metadata": {},
   "source": [
    "nombre_infected       859\n",
    "nombre_sain          2184\n",
    "nombre_exposed        457\n",
    "nombre_recovered    16500\n",
    "Name: 704, dtype: int64"
   ]
  },
  {
   "cell_type": "markdown",
   "id": "9795ee1a",
   "metadata": {},
   "source": [
    "nombre_infected       866\n",
    "nombre_sain          2180\n",
    "nombre_exposed        450\n",
    "nombre_recovered    16504\n",
    "Name: 705, dtype: int64"
   ]
  },
  {
   "cell_type": "markdown",
   "id": "3f93c60d",
   "metadata": {},
   "source": [
    "nombre_infected       859\n",
    "nombre_sain          2186\n",
    "nombre_exposed        471\n",
    "nombre_recovered    16484\n",
    "Name: 706, dtype: int64"
   ]
  },
  {
   "cell_type": "markdown",
   "id": "a860e13f",
   "metadata": {},
   "source": [
    "nombre_infected       846\n",
    "nombre_sain          2193\n",
    "nombre_exposed        469\n",
    "nombre_recovered    16492\n",
    "Name: 707, dtype: int64"
   ]
  },
  {
   "cell_type": "markdown",
   "id": "7fc87559",
   "metadata": {},
   "source": [
    "nombre_infected       851\n",
    "nombre_sain          2211\n",
    "nombre_exposed        472\n",
    "nombre_recovered    16466\n",
    "Name: 708, dtype: int64"
   ]
  },
  {
   "cell_type": "markdown",
   "id": "56f22197",
   "metadata": {},
   "source": [
    "nombre_infected       847\n",
    "nombre_sain          2196\n",
    "nombre_exposed        488\n",
    "nombre_recovered    16469\n",
    "Name: 709, dtype: int64"
   ]
  },
  {
   "cell_type": "markdown",
   "id": "76c82e84",
   "metadata": {},
   "source": [
    "nombre_infected       827\n",
    "nombre_sain          2195\n",
    "nombre_exposed        496\n",
    "nombre_recovered    16482\n",
    "Name: 710, dtype: int64"
   ]
  },
  {
   "cell_type": "markdown",
   "id": "efade31b",
   "metadata": {},
   "source": [
    "nombre_infected       817\n",
    "nombre_sain          2176\n",
    "nombre_exposed        503\n",
    "nombre_recovered    16504\n",
    "Name: 711, dtype: int64"
   ]
  },
  {
   "cell_type": "markdown",
   "id": "2b206cb2",
   "metadata": {},
   "source": [
    "nombre_infected       841\n",
    "nombre_sain          2192\n",
    "nombre_exposed        495\n",
    "nombre_recovered    16472\n",
    "Name: 712, dtype: int64"
   ]
  },
  {
   "cell_type": "markdown",
   "id": "6cc546df",
   "metadata": {},
   "source": [
    "nombre_infected       860\n",
    "nombre_sain          2205\n",
    "nombre_exposed        477\n",
    "nombre_recovered    16458\n",
    "Name: 713, dtype: int64"
   ]
  },
  {
   "cell_type": "markdown",
   "id": "b9f982a4",
   "metadata": {},
   "source": [
    "nombre_infected       855\n",
    "nombre_sain          2203\n",
    "nombre_exposed        482\n",
    "nombre_recovered    16460\n",
    "Name: 714, dtype: int64"
   ]
  },
  {
   "cell_type": "markdown",
   "id": "9706ac34",
   "metadata": {},
   "source": [
    "nombre_infected       855\n",
    "nombre_sain          2223\n",
    "nombre_exposed        480\n",
    "nombre_recovered    16442\n",
    "Name: 715, dtype: int64"
   ]
  },
  {
   "cell_type": "markdown",
   "id": "01acf198",
   "metadata": {},
   "source": [
    "nombre_infected       858\n",
    "nombre_sain          2200\n",
    "nombre_exposed        483\n",
    "nombre_recovered    16459\n",
    "Name: 716, dtype: int64"
   ]
  },
  {
   "cell_type": "markdown",
   "id": "173dbdb8",
   "metadata": {},
   "source": [
    "nombre_infected       863\n",
    "nombre_sain          2214\n",
    "nombre_exposed        470\n",
    "nombre_recovered    16453\n",
    "Name: 717, dtype: int64"
   ]
  },
  {
   "cell_type": "markdown",
   "id": "5f877f8d",
   "metadata": {},
   "source": [
    "nombre_infected       873\n",
    "nombre_sain          2218\n",
    "nombre_exposed        449\n",
    "nombre_recovered    16460\n",
    "Name: 718, dtype: int64"
   ]
  },
  {
   "cell_type": "markdown",
   "id": "b0a6e078",
   "metadata": {},
   "source": [
    "nombre_infected       855\n",
    "nombre_sain          2203\n",
    "nombre_exposed        475\n",
    "nombre_recovered    16467\n",
    "Name: 719, dtype: int64"
   ]
  },
  {
   "cell_type": "markdown",
   "id": "ab54d535",
   "metadata": {},
   "source": [
    "nombre_infected       844\n",
    "nombre_sain          2194\n",
    "nombre_exposed        485\n",
    "nombre_recovered    16477\n",
    "Name: 720, dtype: int64"
   ]
  },
  {
   "cell_type": "markdown",
   "id": "b2642a81",
   "metadata": {},
   "source": [
    "nombre_infected       830\n",
    "nombre_sain          2224\n",
    "nombre_exposed        470\n",
    "nombre_recovered    16476\n",
    "Name: 721, dtype: int64"
   ]
  },
  {
   "cell_type": "markdown",
   "id": "ce50863a",
   "metadata": {},
   "source": [
    "nombre_infected       810\n",
    "nombre_sain          2237\n",
    "nombre_exposed        462\n",
    "nombre_recovered    16491\n",
    "Name: 722, dtype: int64"
   ]
  },
  {
   "cell_type": "markdown",
   "id": "35ee8410",
   "metadata": {},
   "source": [
    "nombre_infected       816\n",
    "nombre_sain          2239\n",
    "nombre_exposed        447\n",
    "nombre_recovered    16498\n",
    "Name: 723, dtype: int64"
   ]
  },
  {
   "cell_type": "markdown",
   "id": "13fe9735",
   "metadata": {},
   "source": [
    "nombre_infected       824\n",
    "nombre_sain          2232\n",
    "nombre_exposed        443\n",
    "nombre_recovered    16501\n",
    "Name: 724, dtype: int64"
   ]
  },
  {
   "cell_type": "markdown",
   "id": "bda51799",
   "metadata": {},
   "source": [
    "nombre_infected       829\n",
    "nombre_sain          2241\n",
    "nombre_exposed        437\n",
    "nombre_recovered    16493\n",
    "Name: 725, dtype: int64"
   ]
  },
  {
   "cell_type": "markdown",
   "id": "976dfaa2",
   "metadata": {},
   "source": [
    "nombre_infected       818\n",
    "nombre_sain          2223\n",
    "nombre_exposed        443\n",
    "nombre_recovered    16516\n",
    "Name: 726, dtype: int64"
   ]
  },
  {
   "cell_type": "markdown",
   "id": "5873dc9a",
   "metadata": {},
   "source": [
    "nombre_infected       805\n",
    "nombre_sain          2222\n",
    "nombre_exposed        461\n",
    "nombre_recovered    16512\n",
    "Name: 727, dtype: int64"
   ]
  },
  {
   "cell_type": "markdown",
   "id": "20bdbb64",
   "metadata": {},
   "source": [
    "nombre_infected       810\n",
    "nombre_sain          2227\n",
    "nombre_exposed        441\n",
    "nombre_recovered    16522\n",
    "Name: 728, dtype: int64"
   ]
  },
  {
   "cell_type": "markdown",
   "id": "192ce1c9",
   "metadata": {},
   "source": [
    "nombre_infected       806\n",
    "nombre_sain          2237\n",
    "nombre_exposed        438\n",
    "nombre_recovered    16519\n",
    "Name: 729, dtype: int64"
   ]
  },
  {
   "cell_type": "markdown",
   "id": "a449a057",
   "metadata": {},
   "source": [
    "nombre_infected       792\n",
    "nombre_sain          2216\n",
    "nombre_exposed        461\n",
    "nombre_recovered    16531\n",
    "Name: 730, dtype: int64"
   ]
  }
 ],
 "metadata": {},
 "nbformat": 4,
 "nbformat_minor": 5
}
