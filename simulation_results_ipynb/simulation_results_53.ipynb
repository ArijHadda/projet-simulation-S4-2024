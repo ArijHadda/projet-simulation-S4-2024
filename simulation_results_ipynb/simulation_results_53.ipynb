{
 "cells": [
  {
   "cell_type": "markdown",
   "id": "038c2ae1",
   "metadata": {},
   "source": [
    "nombre_infected        20\n",
    "nombre_sain         19980\n",
    "nombre_exposed          0\n",
    "nombre_recovered        0\n",
    "Name: 0, dtype: int64"
   ]
  },
  {
   "cell_type": "markdown",
   "id": "d2f7fa17",
   "metadata": {},
   "source": [
    "nombre_infected        20\n",
    "nombre_sain         19965\n",
    "nombre_exposed         15\n",
    "nombre_recovered        0\n",
    "Name: 1, dtype: int64"
   ]
  },
  {
   "cell_type": "markdown",
   "id": "fa0da23a",
   "metadata": {},
   "source": [
    "nombre_infected        20\n",
    "nombre_sain         19936\n",
    "nombre_exposed         44\n",
    "nombre_recovered        0\n",
    "Name: 2, dtype: int64"
   ]
  },
  {
   "cell_type": "markdown",
   "id": "5191639d",
   "metadata": {},
   "source": [
    "nombre_infected        23\n",
    "nombre_sain         19900\n",
    "nombre_exposed         77\n",
    "nombre_recovered        0\n",
    "Name: 3, dtype: int64"
   ]
  },
  {
   "cell_type": "markdown",
   "id": "8d8f36bc",
   "metadata": {},
   "source": [
    "nombre_infected        36\n",
    "nombre_sain         19870\n",
    "nombre_exposed         94\n",
    "nombre_recovered        0\n",
    "Name: 4, dtype: int64"
   ]
  },
  {
   "cell_type": "markdown",
   "id": "0629660e",
   "metadata": {},
   "source": [
    "nombre_infected        53\n",
    "nombre_sain         19824\n",
    "nombre_exposed        122\n",
    "nombre_recovered        1\n",
    "Name: 5, dtype: int64"
   ]
  },
  {
   "cell_type": "markdown",
   "id": "cdbbefce",
   "metadata": {},
   "source": [
    "nombre_infected        67\n",
    "nombre_sain         19744\n",
    "nombre_exposed        182\n",
    "nombre_recovered        7\n",
    "Name: 6, dtype: int64"
   ]
  },
  {
   "cell_type": "markdown",
   "id": "15dd3943",
   "metadata": {},
   "source": [
    "nombre_infected        87\n",
    "nombre_sain         19639\n",
    "nombre_exposed        261\n",
    "nombre_recovered       13\n",
    "Name: 7, dtype: int64"
   ]
  },
  {
   "cell_type": "markdown",
   "id": "a246e200",
   "metadata": {},
   "source": [
    "nombre_infected       127\n",
    "nombre_sain         19512\n",
    "nombre_exposed        340\n",
    "nombre_recovered       21\n",
    "Name: 8, dtype: int64"
   ]
  },
  {
   "cell_type": "markdown",
   "id": "692b1115",
   "metadata": {},
   "source": [
    "nombre_infected       190\n",
    "nombre_sain         19364\n",
    "nombre_exposed        420\n",
    "nombre_recovered       26\n",
    "Name: 9, dtype: int64"
   ]
  },
  {
   "cell_type": "markdown",
   "id": "5d9cb33e",
   "metadata": {},
   "source": [
    "nombre_infected       244\n",
    "nombre_sain         19114\n",
    "nombre_exposed        598\n",
    "nombre_recovered       44\n",
    "Name: 10, dtype: int64"
   ]
  },
  {
   "cell_type": "markdown",
   "id": "615739e5",
   "metadata": {},
   "source": [
    "nombre_infected       312\n",
    "nombre_sain         18763\n",
    "nombre_exposed        854\n",
    "nombre_recovered       71\n",
    "Name: 11, dtype: int64"
   ]
  },
  {
   "cell_type": "markdown",
   "id": "6f80b9e0",
   "metadata": {},
   "source": [
    "nombre_infected       442\n",
    "nombre_sain         18370\n",
    "nombre_exposed       1099\n",
    "nombre_recovered       89\n",
    "Name: 12, dtype: int64"
   ]
  },
  {
   "cell_type": "markdown",
   "id": "c0125c17",
   "metadata": {},
   "source": [
    "nombre_infected       615\n",
    "nombre_sain         17763\n",
    "nombre_exposed       1502\n",
    "nombre_recovered      120\n",
    "Name: 13, dtype: int64"
   ]
  },
  {
   "cell_type": "markdown",
   "id": "47070b77",
   "metadata": {},
   "source": [
    "nombre_infected       823\n",
    "nombre_sain         16940\n",
    "nombre_exposed       2066\n",
    "nombre_recovered      171\n",
    "Name: 14, dtype: int64"
   ]
  },
  {
   "cell_type": "markdown",
   "id": "8cc5d908",
   "metadata": {},
   "source": [
    "nombre_infected      1117\n",
    "nombre_sain         15983\n",
    "nombre_exposed       2658\n",
    "nombre_recovered      242\n",
    "Name: 15, dtype: int64"
   ]
  },
  {
   "cell_type": "markdown",
   "id": "9d3d541b",
   "metadata": {},
   "source": [
    "nombre_infected      1559\n",
    "nombre_sain         14763\n",
    "nombre_exposed       3359\n",
    "nombre_recovered      319\n",
    "Name: 16, dtype: int64"
   ]
  },
  {
   "cell_type": "markdown",
   "id": "918060ff",
   "metadata": {},
   "source": [
    "nombre_infected      2060\n",
    "nombre_sain         13290\n",
    "nombre_exposed       4183\n",
    "nombre_recovered      467\n",
    "Name: 17, dtype: int64"
   ]
  },
  {
   "cell_type": "markdown",
   "id": "f8e5f9d6",
   "metadata": {},
   "source": [
    "nombre_infected      2673\n",
    "nombre_sain         11643\n",
    "nombre_exposed       5045\n",
    "nombre_recovered      639\n",
    "Name: 18, dtype: int64"
   ]
  },
  {
   "cell_type": "markdown",
   "id": "b7a4e81d",
   "metadata": {},
   "source": [
    "nombre_infected     3495\n",
    "nombre_sain         9838\n",
    "nombre_exposed      5827\n",
    "nombre_recovered     840\n",
    "Name: 19, dtype: int64"
   ]
  },
  {
   "cell_type": "markdown",
   "id": "34e314fd",
   "metadata": {},
   "source": [
    "nombre_infected     4368\n",
    "nombre_sain         7943\n",
    "nombre_exposed      6549\n",
    "nombre_recovered    1140\n",
    "Name: 20, dtype: int64"
   ]
  },
  {
   "cell_type": "markdown",
   "id": "62b0938d",
   "metadata": {},
   "source": [
    "nombre_infected     5357\n",
    "nombre_sain         6197\n",
    "nombre_exposed      6897\n",
    "nombre_recovered    1549\n",
    "Name: 21, dtype: int64"
   ]
  },
  {
   "cell_type": "markdown",
   "id": "6f0523b3",
   "metadata": {},
   "source": [
    "nombre_infected     6391\n",
    "nombre_sain         4644\n",
    "nombre_exposed      6902\n",
    "nombre_recovered    2063\n",
    "Name: 22, dtype: int64"
   ]
  },
  {
   "cell_type": "markdown",
   "id": "0d1d1564",
   "metadata": {},
   "source": [
    "nombre_infected     7431\n",
    "nombre_sain         3345\n",
    "nombre_exposed      6554\n",
    "nombre_recovered    2670\n",
    "Name: 23, dtype: int64"
   ]
  },
  {
   "cell_type": "markdown",
   "id": "eac71efb",
   "metadata": {},
   "source": [
    "nombre_infected     8259\n",
    "nombre_sain         2275\n",
    "nombre_exposed      6083\n",
    "nombre_recovered    3383\n",
    "Name: 24, dtype: int64"
   ]
  },
  {
   "cell_type": "markdown",
   "id": "f7239b7f",
   "metadata": {},
   "source": [
    "nombre_infected     8854\n",
    "nombre_sain         1564\n",
    "nombre_exposed      5327\n",
    "nombre_recovered    4255\n",
    "Name: 25, dtype: int64"
   ]
  },
  {
   "cell_type": "markdown",
   "id": "2c3cf5c9",
   "metadata": {},
   "source": [
    "nombre_infected     9398\n",
    "nombre_sain         1066\n",
    "nombre_exposed      4416\n",
    "nombre_recovered    5120\n",
    "Name: 26, dtype: int64"
   ]
  },
  {
   "cell_type": "markdown",
   "id": "9d4196eb",
   "metadata": {},
   "source": [
    "nombre_infected     9506\n",
    "nombre_sain          721\n",
    "nombre_exposed      3632\n",
    "nombre_recovered    6141\n",
    "Name: 27, dtype: int64"
   ]
  },
  {
   "cell_type": "markdown",
   "id": "d952a8dc",
   "metadata": {},
   "source": [
    "nombre_infected     9397\n",
    "nombre_sain          520\n",
    "nombre_exposed      2902\n",
    "nombre_recovered    7181\n",
    "Name: 28, dtype: int64"
   ]
  },
  {
   "cell_type": "markdown",
   "id": "c9427b9f",
   "metadata": {},
   "source": [
    "nombre_infected     9007\n",
    "nombre_sain          362\n",
    "nombre_exposed      2333\n",
    "nombre_recovered    8298\n",
    "Name: 29, dtype: int64"
   ]
  },
  {
   "cell_type": "markdown",
   "id": "03f61669",
   "metadata": {},
   "source": [
    "nombre_infected     8519\n",
    "nombre_sain          269\n",
    "nombre_exposed      1855\n",
    "nombre_recovered    9357\n",
    "Name: 30, dtype: int64"
   ]
  },
  {
   "cell_type": "markdown",
   "id": "4b1c2f44",
   "metadata": {},
   "source": [
    "nombre_infected      7970\n",
    "nombre_sain           207\n",
    "nombre_exposed       1433\n",
    "nombre_recovered    10390\n",
    "Name: 31, dtype: int64"
   ]
  },
  {
   "cell_type": "markdown",
   "id": "87f4f7ba",
   "metadata": {},
   "source": [
    "nombre_infected      7338\n",
    "nombre_sain           171\n",
    "nombre_exposed       1124\n",
    "nombre_recovered    11367\n",
    "Name: 32, dtype: int64"
   ]
  },
  {
   "cell_type": "markdown",
   "id": "e3fac691",
   "metadata": {},
   "source": [
    "nombre_infected      6654\n",
    "nombre_sain           140\n",
    "nombre_exposed        914\n",
    "nombre_recovered    12292\n",
    "Name: 33, dtype: int64"
   ]
  },
  {
   "cell_type": "markdown",
   "id": "f63cbf6d",
   "metadata": {},
   "source": [
    "nombre_infected      5971\n",
    "nombre_sain           135\n",
    "nombre_exposed        742\n",
    "nombre_recovered    13152\n",
    "Name: 34, dtype: int64"
   ]
  },
  {
   "cell_type": "markdown",
   "id": "17cb6c12",
   "metadata": {},
   "source": [
    "nombre_infected      5364\n",
    "nombre_sain           154\n",
    "nombre_exposed        587\n",
    "nombre_recovered    13895\n",
    "Name: 35, dtype: int64"
   ]
  },
  {
   "cell_type": "markdown",
   "id": "3ab9b305",
   "metadata": {},
   "source": [
    "nombre_infected      4803\n",
    "nombre_sain           153\n",
    "nombre_exposed        493\n",
    "nombre_recovered    14551\n",
    "Name: 36, dtype: int64"
   ]
  },
  {
   "cell_type": "markdown",
   "id": "0db7191f",
   "metadata": {},
   "source": [
    "nombre_infected      4307\n",
    "nombre_sain           172\n",
    "nombre_exposed        404\n",
    "nombre_recovered    15117\n",
    "Name: 37, dtype: int64"
   ]
  },
  {
   "cell_type": "markdown",
   "id": "b67e6e3b",
   "metadata": {},
   "source": [
    "nombre_infected      3784\n",
    "nombre_sain           191\n",
    "nombre_exposed        339\n",
    "nombre_recovered    15686\n",
    "Name: 38, dtype: int64"
   ]
  },
  {
   "cell_type": "markdown",
   "id": "7e38821b",
   "metadata": {},
   "source": [
    "nombre_infected      3324\n",
    "nombre_sain           212\n",
    "nombre_exposed        310\n",
    "nombre_recovered    16154\n",
    "Name: 39, dtype: int64"
   ]
  },
  {
   "cell_type": "markdown",
   "id": "00a3c4c6",
   "metadata": {},
   "source": [
    "nombre_infected      2891\n",
    "nombre_sain           235\n",
    "nombre_exposed        270\n",
    "nombre_recovered    16604\n",
    "Name: 40, dtype: int64"
   ]
  },
  {
   "cell_type": "markdown",
   "id": "239375d5",
   "metadata": {},
   "source": [
    "nombre_infected      2530\n",
    "nombre_sain           256\n",
    "nombre_exposed        238\n",
    "nombre_recovered    16976\n",
    "Name: 41, dtype: int64"
   ]
  },
  {
   "cell_type": "markdown",
   "id": "2331180a",
   "metadata": {},
   "source": [
    "nombre_infected      2215\n",
    "nombre_sain           272\n",
    "nombre_exposed        221\n",
    "nombre_recovered    17292\n",
    "Name: 42, dtype: int64"
   ]
  },
  {
   "cell_type": "markdown",
   "id": "6d18eee7",
   "metadata": {},
   "source": [
    "nombre_infected      1949\n",
    "nombre_sain           305\n",
    "nombre_exposed        202\n",
    "nombre_recovered    17544\n",
    "Name: 43, dtype: int64"
   ]
  },
  {
   "cell_type": "markdown",
   "id": "e7da0473",
   "metadata": {},
   "source": [
    "nombre_infected      1702\n",
    "nombre_sain           346\n",
    "nombre_exposed        185\n",
    "nombre_recovered    17767\n",
    "Name: 44, dtype: int64"
   ]
  },
  {
   "cell_type": "markdown",
   "id": "b56b6513",
   "metadata": {},
   "source": [
    "nombre_infected      1519\n",
    "nombre_sain           396\n",
    "nombre_exposed        166\n",
    "nombre_recovered    17919\n",
    "Name: 45, dtype: int64"
   ]
  },
  {
   "cell_type": "markdown",
   "id": "6aac81e1",
   "metadata": {},
   "source": [
    "nombre_infected      1378\n",
    "nombre_sain           416\n",
    "nombre_exposed        164\n",
    "nombre_recovered    18042\n",
    "Name: 46, dtype: int64"
   ]
  },
  {
   "cell_type": "markdown",
   "id": "bb97ff72",
   "metadata": {},
   "source": [
    "nombre_infected      1213\n",
    "nombre_sain           438\n",
    "nombre_exposed        162\n",
    "nombre_recovered    18187\n",
    "Name: 47, dtype: int64"
   ]
  },
  {
   "cell_type": "markdown",
   "id": "23302d1e",
   "metadata": {},
   "source": [
    "nombre_infected      1090\n",
    "nombre_sain           473\n",
    "nombre_exposed        157\n",
    "nombre_recovered    18280\n",
    "Name: 48, dtype: int64"
   ]
  },
  {
   "cell_type": "markdown",
   "id": "eb5bb013",
   "metadata": {},
   "source": [
    "nombre_infected       982\n",
    "nombre_sain           522\n",
    "nombre_exposed        148\n",
    "nombre_recovered    18348\n",
    "Name: 49, dtype: int64"
   ]
  },
  {
   "cell_type": "markdown",
   "id": "87579552",
   "metadata": {},
   "source": [
    "nombre_infected       886\n",
    "nombre_sain           585\n",
    "nombre_exposed        155\n",
    "nombre_recovered    18374\n",
    "Name: 50, dtype: int64"
   ]
  },
  {
   "cell_type": "markdown",
   "id": "1d79ce63",
   "metadata": {},
   "source": [
    "nombre_infected       816\n",
    "nombre_sain           630\n",
    "nombre_exposed        143\n",
    "nombre_recovered    18411\n",
    "Name: 51, dtype: int64"
   ]
  },
  {
   "cell_type": "markdown",
   "id": "23a52f8e",
   "metadata": {},
   "source": [
    "nombre_infected       745\n",
    "nombre_sain           677\n",
    "nombre_exposed        140\n",
    "nombre_recovered    18438\n",
    "Name: 52, dtype: int64"
   ]
  },
  {
   "cell_type": "markdown",
   "id": "81f7cc93",
   "metadata": {},
   "source": [
    "nombre_infected       688\n",
    "nombre_sain           724\n",
    "nombre_exposed        129\n",
    "nombre_recovered    18459\n",
    "Name: 53, dtype: int64"
   ]
  },
  {
   "cell_type": "markdown",
   "id": "a693519c",
   "metadata": {},
   "source": [
    "nombre_infected       632\n",
    "nombre_sain           765\n",
    "nombre_exposed        122\n",
    "nombre_recovered    18481\n",
    "Name: 54, dtype: int64"
   ]
  },
  {
   "cell_type": "markdown",
   "id": "b59d729b",
   "metadata": {},
   "source": [
    "nombre_infected       577\n",
    "nombre_sain           813\n",
    "nombre_exposed        118\n",
    "nombre_recovered    18492\n",
    "Name: 55, dtype: int64"
   ]
  },
  {
   "cell_type": "markdown",
   "id": "d12070f0",
   "metadata": {},
   "source": [
    "nombre_infected       534\n",
    "nombre_sain           846\n",
    "nombre_exposed        106\n",
    "nombre_recovered    18514\n",
    "Name: 56, dtype: int64"
   ]
  },
  {
   "cell_type": "markdown",
   "id": "4bcaa092",
   "metadata": {},
   "source": [
    "nombre_infected       485\n",
    "nombre_sain           892\n",
    "nombre_exposed        103\n",
    "nombre_recovered    18520\n",
    "Name: 57, dtype: int64"
   ]
  },
  {
   "cell_type": "markdown",
   "id": "6a641187",
   "metadata": {},
   "source": [
    "nombre_infected       449\n",
    "nombre_sain           923\n",
    "nombre_exposed         95\n",
    "nombre_recovered    18533\n",
    "Name: 58, dtype: int64"
   ]
  },
  {
   "cell_type": "markdown",
   "id": "222aca05",
   "metadata": {},
   "source": [
    "nombre_infected       418\n",
    "nombre_sain           949\n",
    "nombre_exposed        101\n",
    "nombre_recovered    18532\n",
    "Name: 59, dtype: int64"
   ]
  },
  {
   "cell_type": "markdown",
   "id": "4dc12333",
   "metadata": {},
   "source": [
    "nombre_infected       387\n",
    "nombre_sain           986\n",
    "nombre_exposed         97\n",
    "nombre_recovered    18530\n",
    "Name: 60, dtype: int64"
   ]
  },
  {
   "cell_type": "markdown",
   "id": "3a3e388f",
   "metadata": {},
   "source": [
    "nombre_infected       369\n",
    "nombre_sain          1000\n",
    "nombre_exposed         92\n",
    "nombre_recovered    18539\n",
    "Name: 61, dtype: int64"
   ]
  },
  {
   "cell_type": "markdown",
   "id": "a9e46fb1",
   "metadata": {},
   "source": [
    "nombre_infected       346\n",
    "nombre_sain          1026\n",
    "nombre_exposed         83\n",
    "nombre_recovered    18545\n",
    "Name: 62, dtype: int64"
   ]
  },
  {
   "cell_type": "markdown",
   "id": "1cf630e4",
   "metadata": {},
   "source": [
    "nombre_infected       312\n",
    "nombre_sain          1077\n",
    "nombre_exposed         79\n",
    "nombre_recovered    18532\n",
    "Name: 63, dtype: int64"
   ]
  },
  {
   "cell_type": "markdown",
   "id": "f1de2fb0",
   "metadata": {},
   "source": [
    "nombre_infected       294\n",
    "nombre_sain          1119\n",
    "nombre_exposed         75\n",
    "nombre_recovered    18512\n",
    "Name: 64, dtype: int64"
   ]
  },
  {
   "cell_type": "markdown",
   "id": "e7ed8039",
   "metadata": {},
   "source": [
    "nombre_infected       265\n",
    "nombre_sain          1167\n",
    "nombre_exposed         79\n",
    "nombre_recovered    18489\n",
    "Name: 65, dtype: int64"
   ]
  },
  {
   "cell_type": "markdown",
   "id": "11f9f6d2",
   "metadata": {},
   "source": [
    "nombre_infected       253\n",
    "nombre_sain          1188\n",
    "nombre_exposed         78\n",
    "nombre_recovered    18481\n",
    "Name: 66, dtype: int64"
   ]
  },
  {
   "cell_type": "markdown",
   "id": "125b7c9c",
   "metadata": {},
   "source": [
    "nombre_infected       244\n",
    "nombre_sain          1247\n",
    "nombre_exposed         73\n",
    "nombre_recovered    18436\n",
    "Name: 67, dtype: int64"
   ]
  },
  {
   "cell_type": "markdown",
   "id": "e8501d16",
   "metadata": {},
   "source": [
    "nombre_infected       219\n",
    "nombre_sain          1297\n",
    "nombre_exposed         72\n",
    "nombre_recovered    18412\n",
    "Name: 68, dtype: int64"
   ]
  },
  {
   "cell_type": "markdown",
   "id": "aafb1713",
   "metadata": {},
   "source": [
    "nombre_infected       217\n",
    "nombre_sain          1360\n",
    "nombre_exposed         59\n",
    "nombre_recovered    18364\n",
    "Name: 69, dtype: int64"
   ]
  },
  {
   "cell_type": "markdown",
   "id": "dd06bc2e",
   "metadata": {},
   "source": [
    "nombre_infected       210\n",
    "nombre_sain          1406\n",
    "nombre_exposed         52\n",
    "nombre_recovered    18332\n",
    "Name: 70, dtype: int64"
   ]
  },
  {
   "cell_type": "markdown",
   "id": "c27cbfef",
   "metadata": {},
   "source": [
    "nombre_infected       193\n",
    "nombre_sain          1441\n",
    "nombre_exposed         56\n",
    "nombre_recovered    18310\n",
    "Name: 71, dtype: int64"
   ]
  },
  {
   "cell_type": "markdown",
   "id": "11677852",
   "metadata": {},
   "source": [
    "nombre_infected       175\n",
    "nombre_sain          1495\n",
    "nombre_exposed         60\n",
    "nombre_recovered    18270\n",
    "Name: 72, dtype: int64"
   ]
  },
  {
   "cell_type": "markdown",
   "id": "82bfc510",
   "metadata": {},
   "source": [
    "nombre_infected       160\n",
    "nombre_sain          1529\n",
    "nombre_exposed         66\n",
    "nombre_recovered    18245\n",
    "Name: 73, dtype: int64"
   ]
  },
  {
   "cell_type": "markdown",
   "id": "bb0eb984",
   "metadata": {},
   "source": [
    "nombre_infected       158\n",
    "nombre_sain          1572\n",
    "nombre_exposed         65\n",
    "nombre_recovered    18205\n",
    "Name: 74, dtype: int64"
   ]
  },
  {
   "cell_type": "markdown",
   "id": "78c0b623",
   "metadata": {},
   "source": [
    "nombre_infected       160\n",
    "nombre_sain          1616\n",
    "nombre_exposed         59\n",
    "nombre_recovered    18165\n",
    "Name: 75, dtype: int64"
   ]
  },
  {
   "cell_type": "markdown",
   "id": "9aa93cbf",
   "metadata": {},
   "source": [
    "nombre_infected       156\n",
    "nombre_sain          1655\n",
    "nombre_exposed         54\n",
    "nombre_recovered    18135\n",
    "Name: 76, dtype: int64"
   ]
  },
  {
   "cell_type": "markdown",
   "id": "fe5f4c3a",
   "metadata": {},
   "source": [
    "nombre_infected       145\n",
    "nombre_sain          1713\n",
    "nombre_exposed         47\n",
    "nombre_recovered    18095\n",
    "Name: 77, dtype: int64"
   ]
  },
  {
   "cell_type": "markdown",
   "id": "1e1eb9ea",
   "metadata": {},
   "source": [
    "nombre_infected       147\n",
    "nombre_sain          1767\n",
    "nombre_exposed         54\n",
    "nombre_recovered    18032\n",
    "Name: 78, dtype: int64"
   ]
  },
  {
   "cell_type": "markdown",
   "id": "ce277f82",
   "metadata": {},
   "source": [
    "nombre_infected       140\n",
    "nombre_sain          1821\n",
    "nombre_exposed         57\n",
    "nombre_recovered    17982\n",
    "Name: 79, dtype: int64"
   ]
  },
  {
   "cell_type": "markdown",
   "id": "55a047fb",
   "metadata": {},
   "source": [
    "nombre_infected       128\n",
    "nombre_sain          1884\n",
    "nombre_exposed         59\n",
    "nombre_recovered    17929\n",
    "Name: 80, dtype: int64"
   ]
  },
  {
   "cell_type": "markdown",
   "id": "054a561b",
   "metadata": {},
   "source": [
    "nombre_infected       125\n",
    "nombre_sain          1947\n",
    "nombre_exposed         59\n",
    "nombre_recovered    17869\n",
    "Name: 81, dtype: int64"
   ]
  },
  {
   "cell_type": "markdown",
   "id": "45627301",
   "metadata": {},
   "source": [
    "nombre_infected       123\n",
    "nombre_sain          2023\n",
    "nombre_exposed         53\n",
    "nombre_recovered    17801\n",
    "Name: 82, dtype: int64"
   ]
  },
  {
   "cell_type": "markdown",
   "id": "a9ef4edb",
   "metadata": {},
   "source": [
    "nombre_infected       123\n",
    "nombre_sain          2090\n",
    "nombre_exposed         53\n",
    "nombre_recovered    17734\n",
    "Name: 83, dtype: int64"
   ]
  },
  {
   "cell_type": "markdown",
   "id": "51f3194c",
   "metadata": {},
   "source": [
    "nombre_infected       127\n",
    "nombre_sain          2153\n",
    "nombre_exposed         47\n",
    "nombre_recovered    17673\n",
    "Name: 84, dtype: int64"
   ]
  },
  {
   "cell_type": "markdown",
   "id": "0a41f02b",
   "metadata": {},
   "source": [
    "nombre_infected       120\n",
    "nombre_sain          2209\n",
    "nombre_exposed         60\n",
    "nombre_recovered    17611\n",
    "Name: 85, dtype: int64"
   ]
  },
  {
   "cell_type": "markdown",
   "id": "6e703498",
   "metadata": {},
   "source": [
    "nombre_infected       115\n",
    "nombre_sain          2275\n",
    "nombre_exposed         70\n",
    "nombre_recovered    17540\n",
    "Name: 86, dtype: int64"
   ]
  },
  {
   "cell_type": "markdown",
   "id": "7bb1e3ff",
   "metadata": {},
   "source": [
    "nombre_infected       111\n",
    "nombre_sain          2351\n",
    "nombre_exposed         74\n",
    "nombre_recovered    17464\n",
    "Name: 87, dtype: int64"
   ]
  },
  {
   "cell_type": "markdown",
   "id": "6d5e7118",
   "metadata": {},
   "source": [
    "nombre_infected       118\n",
    "nombre_sain          2410\n",
    "nombre_exposed         71\n",
    "nombre_recovered    17401\n",
    "Name: 88, dtype: int64"
   ]
  },
  {
   "cell_type": "markdown",
   "id": "2ae15515",
   "metadata": {},
   "source": [
    "nombre_infected       123\n",
    "nombre_sain          2482\n",
    "nombre_exposed         73\n",
    "nombre_recovered    17322\n",
    "Name: 89, dtype: int64"
   ]
  },
  {
   "cell_type": "markdown",
   "id": "9e9c43ad",
   "metadata": {},
   "source": [
    "nombre_infected       117\n",
    "nombre_sain          2551\n",
    "nombre_exposed         75\n",
    "nombre_recovered    17257\n",
    "Name: 90, dtype: int64"
   ]
  },
  {
   "cell_type": "markdown",
   "id": "20ff5a29",
   "metadata": {},
   "source": [
    "nombre_infected       127\n",
    "nombre_sain          2622\n",
    "nombre_exposed         82\n",
    "nombre_recovered    17169\n",
    "Name: 91, dtype: int64"
   ]
  },
  {
   "cell_type": "markdown",
   "id": "f1330a70",
   "metadata": {},
   "source": [
    "nombre_infected       131\n",
    "nombre_sain          2683\n",
    "nombre_exposed         81\n",
    "nombre_recovered    17105\n",
    "Name: 92, dtype: int64"
   ]
  },
  {
   "cell_type": "markdown",
   "id": "5f62d9c5",
   "metadata": {},
   "source": [
    "nombre_infected       145\n",
    "nombre_sain          2733\n",
    "nombre_exposed         79\n",
    "nombre_recovered    17043\n",
    "Name: 93, dtype: int64"
   ]
  },
  {
   "cell_type": "markdown",
   "id": "8a6ae3a7",
   "metadata": {},
   "source": [
    "nombre_infected       145\n",
    "nombre_sain          2791\n",
    "nombre_exposed         83\n",
    "nombre_recovered    16981\n",
    "Name: 94, dtype: int64"
   ]
  },
  {
   "cell_type": "markdown",
   "id": "e1ad25c6",
   "metadata": {},
   "source": [
    "nombre_infected       141\n",
    "nombre_sain          2843\n",
    "nombre_exposed         90\n",
    "nombre_recovered    16926\n",
    "Name: 95, dtype: int64"
   ]
  },
  {
   "cell_type": "markdown",
   "id": "f33a6803",
   "metadata": {},
   "source": [
    "nombre_infected       137\n",
    "nombre_sain          2900\n",
    "nombre_exposed        101\n",
    "nombre_recovered    16862\n",
    "Name: 96, dtype: int64"
   ]
  },
  {
   "cell_type": "markdown",
   "id": "b79ff257",
   "metadata": {},
   "source": [
    "nombre_infected       139\n",
    "nombre_sain          2943\n",
    "nombre_exposed        107\n",
    "nombre_recovered    16811\n",
    "Name: 97, dtype: int64"
   ]
  },
  {
   "cell_type": "markdown",
   "id": "4470a379",
   "metadata": {},
   "source": [
    "nombre_infected       149\n",
    "nombre_sain          2990\n",
    "nombre_exposed        104\n",
    "nombre_recovered    16757\n",
    "Name: 98, dtype: int64"
   ]
  },
  {
   "cell_type": "markdown",
   "id": "4cc21827",
   "metadata": {},
   "source": [
    "nombre_infected       165\n",
    "nombre_sain          3028\n",
    "nombre_exposed        111\n",
    "nombre_recovered    16696\n",
    "Name: 99, dtype: int64"
   ]
  },
  {
   "cell_type": "markdown",
   "id": "85971c41",
   "metadata": {},
   "source": [
    "nombre_infected       168\n",
    "nombre_sain          3079\n",
    "nombre_exposed        117\n",
    "nombre_recovered    16636\n",
    "Name: 100, dtype: int64"
   ]
  },
  {
   "cell_type": "markdown",
   "id": "1faf5b7b",
   "metadata": {},
   "source": [
    "nombre_infected       174\n",
    "nombre_sain          3107\n",
    "nombre_exposed        121\n",
    "nombre_recovered    16598\n",
    "Name: 101, dtype: int64"
   ]
  },
  {
   "cell_type": "markdown",
   "id": "3005ff95",
   "metadata": {},
   "source": [
    "nombre_infected       187\n",
    "nombre_sain          3149\n",
    "nombre_exposed        115\n",
    "nombre_recovered    16549\n",
    "Name: 102, dtype: int64"
   ]
  },
  {
   "cell_type": "markdown",
   "id": "7715de74",
   "metadata": {},
   "source": [
    "nombre_infected       202\n",
    "nombre_sain          3160\n",
    "nombre_exposed        115\n",
    "nombre_recovered    16523\n",
    "Name: 103, dtype: int64"
   ]
  },
  {
   "cell_type": "markdown",
   "id": "f2f0b10e",
   "metadata": {},
   "source": [
    "nombre_infected       208\n",
    "nombre_sain          3156\n",
    "nombre_exposed        135\n",
    "nombre_recovered    16501\n",
    "Name: 104, dtype: int64"
   ]
  },
  {
   "cell_type": "markdown",
   "id": "55e74d15",
   "metadata": {},
   "source": [
    "nombre_infected       209\n",
    "nombre_sain          3169\n",
    "nombre_exposed        152\n",
    "nombre_recovered    16470\n",
    "Name: 105, dtype: int64"
   ]
  },
  {
   "cell_type": "markdown",
   "id": "7e9a6972",
   "metadata": {},
   "source": [
    "nombre_infected       208\n",
    "nombre_sain          3187\n",
    "nombre_exposed        155\n",
    "nombre_recovered    16450\n",
    "Name: 106, dtype: int64"
   ]
  },
  {
   "cell_type": "markdown",
   "id": "cb675f67",
   "metadata": {},
   "source": [
    "nombre_infected       216\n",
    "nombre_sain          3168\n",
    "nombre_exposed        171\n",
    "nombre_recovered    16445\n",
    "Name: 107, dtype: int64"
   ]
  },
  {
   "cell_type": "markdown",
   "id": "4589ef96",
   "metadata": {},
   "source": [
    "nombre_infected       235\n",
    "nombre_sain          3165\n",
    "nombre_exposed        168\n",
    "nombre_recovered    16432\n",
    "Name: 108, dtype: int64"
   ]
  },
  {
   "cell_type": "markdown",
   "id": "a8fa4fcf",
   "metadata": {},
   "source": [
    "nombre_infected       256\n",
    "nombre_sain          3166\n",
    "nombre_exposed        156\n",
    "nombre_recovered    16422\n",
    "Name: 109, dtype: int64"
   ]
  },
  {
   "cell_type": "markdown",
   "id": "3eca73f2",
   "metadata": {},
   "source": [
    "nombre_infected       265\n",
    "nombre_sain          3144\n",
    "nombre_exposed        175\n",
    "nombre_recovered    16416\n",
    "Name: 110, dtype: int64"
   ]
  },
  {
   "cell_type": "markdown",
   "id": "e7e678eb",
   "metadata": {},
   "source": [
    "nombre_infected       280\n",
    "nombre_sain          3136\n",
    "nombre_exposed        190\n",
    "nombre_recovered    16394\n",
    "Name: 111, dtype: int64"
   ]
  },
  {
   "cell_type": "markdown",
   "id": "9ff62645",
   "metadata": {},
   "source": [
    "nombre_infected       293\n",
    "nombre_sain          3122\n",
    "nombre_exposed        192\n",
    "nombre_recovered    16393\n",
    "Name: 112, dtype: int64"
   ]
  },
  {
   "cell_type": "markdown",
   "id": "dfb17f50",
   "metadata": {},
   "source": [
    "nombre_infected       303\n",
    "nombre_sain          3115\n",
    "nombre_exposed        199\n",
    "nombre_recovered    16383\n",
    "Name: 113, dtype: int64"
   ]
  },
  {
   "cell_type": "markdown",
   "id": "a15e5fb1",
   "metadata": {},
   "source": [
    "nombre_infected       312\n",
    "nombre_sain          3076\n",
    "nombre_exposed        242\n",
    "nombre_recovered    16370\n",
    "Name: 114, dtype: int64"
   ]
  },
  {
   "cell_type": "markdown",
   "id": "377ceae0",
   "metadata": {},
   "source": [
    "nombre_infected       310\n",
    "nombre_sain          3057\n",
    "nombre_exposed        264\n",
    "nombre_recovered    16369\n",
    "Name: 115, dtype: int64"
   ]
  },
  {
   "cell_type": "markdown",
   "id": "91ba51ff",
   "metadata": {},
   "source": [
    "nombre_infected       317\n",
    "nombre_sain          3069\n",
    "nombre_exposed        256\n",
    "nombre_recovered    16358\n",
    "Name: 116, dtype: int64"
   ]
  },
  {
   "cell_type": "markdown",
   "id": "75708b1c",
   "metadata": {},
   "source": [
    "nombre_infected       333\n",
    "nombre_sain          3053\n",
    "nombre_exposed        278\n",
    "nombre_recovered    16336\n",
    "Name: 117, dtype: int64"
   ]
  },
  {
   "cell_type": "markdown",
   "id": "b203967e",
   "metadata": {},
   "source": [
    "nombre_infected       341\n",
    "nombre_sain          3052\n",
    "nombre_exposed        278\n",
    "nombre_recovered    16329\n",
    "Name: 118, dtype: int64"
   ]
  },
  {
   "cell_type": "markdown",
   "id": "3edc323d",
   "metadata": {},
   "source": [
    "nombre_infected       356\n",
    "nombre_sain          3046\n",
    "nombre_exposed        278\n",
    "nombre_recovered    16320\n",
    "Name: 119, dtype: int64"
   ]
  },
  {
   "cell_type": "markdown",
   "id": "bd7eadc2",
   "metadata": {},
   "source": [
    "nombre_infected       373\n",
    "nombre_sain          3062\n",
    "nombre_exposed        281\n",
    "nombre_recovered    16284\n",
    "Name: 120, dtype: int64"
   ]
  },
  {
   "cell_type": "markdown",
   "id": "800066b9",
   "metadata": {},
   "source": [
    "nombre_infected       389\n",
    "nombre_sain          3063\n",
    "nombre_exposed        284\n",
    "nombre_recovered    16264\n",
    "Name: 121, dtype: int64"
   ]
  },
  {
   "cell_type": "markdown",
   "id": "6cc0716c",
   "metadata": {},
   "source": [
    "nombre_infected       414\n",
    "nombre_sain          3067\n",
    "nombre_exposed        272\n",
    "nombre_recovered    16247\n",
    "Name: 122, dtype: int64"
   ]
  },
  {
   "cell_type": "markdown",
   "id": "d73a2511",
   "metadata": {},
   "source": [
    "nombre_infected       435\n",
    "nombre_sain          3055\n",
    "nombre_exposed        270\n",
    "nombre_recovered    16240\n",
    "Name: 123, dtype: int64"
   ]
  },
  {
   "cell_type": "markdown",
   "id": "c8534567",
   "metadata": {},
   "source": [
    "nombre_infected       441\n",
    "nombre_sain          3029\n",
    "nombre_exposed        294\n",
    "nombre_recovered    16236\n",
    "Name: 124, dtype: int64"
   ]
  },
  {
   "cell_type": "markdown",
   "id": "f960a8b0",
   "metadata": {},
   "source": [
    "nombre_infected       461\n",
    "nombre_sain          3043\n",
    "nombre_exposed        287\n",
    "nombre_recovered    16209\n",
    "Name: 125, dtype: int64"
   ]
  },
  {
   "cell_type": "markdown",
   "id": "20976eed",
   "metadata": {},
   "source": [
    "nombre_infected       472\n",
    "nombre_sain          3014\n",
    "nombre_exposed        295\n",
    "nombre_recovered    16219\n",
    "Name: 126, dtype: int64"
   ]
  },
  {
   "cell_type": "markdown",
   "id": "9ae68353",
   "metadata": {},
   "source": [
    "nombre_infected       474\n",
    "nombre_sain          2984\n",
    "nombre_exposed        330\n",
    "nombre_recovered    16212\n",
    "Name: 127, dtype: int64"
   ]
  },
  {
   "cell_type": "markdown",
   "id": "c6fa8548",
   "metadata": {},
   "source": [
    "nombre_infected       476\n",
    "nombre_sain          2974\n",
    "nombre_exposed        330\n",
    "nombre_recovered    16220\n",
    "Name: 128, dtype: int64"
   ]
  },
  {
   "cell_type": "markdown",
   "id": "dc4287dc",
   "metadata": {},
   "source": [
    "nombre_infected       490\n",
    "nombre_sain          2949\n",
    "nombre_exposed        353\n",
    "nombre_recovered    16208\n",
    "Name: 129, dtype: int64"
   ]
  },
  {
   "cell_type": "markdown",
   "id": "a1e6b3d2",
   "metadata": {},
   "source": [
    "nombre_infected       487\n",
    "nombre_sain          2924\n",
    "nombre_exposed        377\n",
    "nombre_recovered    16212\n",
    "Name: 130, dtype: int64"
   ]
  },
  {
   "cell_type": "markdown",
   "id": "b3452998",
   "metadata": {},
   "source": [
    "nombre_infected       530\n",
    "nombre_sain          2876\n",
    "nombre_exposed        376\n",
    "nombre_recovered    16218\n",
    "Name: 131, dtype: int64"
   ]
  },
  {
   "cell_type": "markdown",
   "id": "5f01b019",
   "metadata": {},
   "source": [
    "nombre_infected       547\n",
    "nombre_sain          2846\n",
    "nombre_exposed        372\n",
    "nombre_recovered    16235\n",
    "Name: 132, dtype: int64"
   ]
  },
  {
   "cell_type": "markdown",
   "id": "d61b20f0",
   "metadata": {},
   "source": [
    "nombre_infected       568\n",
    "nombre_sain          2823\n",
    "nombre_exposed        376\n",
    "nombre_recovered    16233\n",
    "Name: 133, dtype: int64"
   ]
  },
  {
   "cell_type": "markdown",
   "id": "6db96d9b",
   "metadata": {},
   "source": [
    "nombre_infected       573\n",
    "nombre_sain          2801\n",
    "nombre_exposed        375\n",
    "nombre_recovered    16251\n",
    "Name: 134, dtype: int64"
   ]
  },
  {
   "cell_type": "markdown",
   "id": "0c5b613a",
   "metadata": {},
   "source": [
    "nombre_infected       592\n",
    "nombre_sain          2780\n",
    "nombre_exposed        378\n",
    "nombre_recovered    16250\n",
    "Name: 135, dtype: int64"
   ]
  },
  {
   "cell_type": "markdown",
   "id": "b9ddd4b4",
   "metadata": {},
   "source": [
    "nombre_infected       605\n",
    "nombre_sain          2740\n",
    "nombre_exposed        392\n",
    "nombre_recovered    16263\n",
    "Name: 136, dtype: int64"
   ]
  },
  {
   "cell_type": "markdown",
   "id": "ca51ba32",
   "metadata": {},
   "source": [
    "nombre_infected       603\n",
    "nombre_sain          2711\n",
    "nombre_exposed        395\n",
    "nombre_recovered    16291\n",
    "Name: 137, dtype: int64"
   ]
  },
  {
   "cell_type": "markdown",
   "id": "9449a2ea",
   "metadata": {},
   "source": [
    "nombre_infected       618\n",
    "nombre_sain          2695\n",
    "nombre_exposed        388\n",
    "nombre_recovered    16299\n",
    "Name: 138, dtype: int64"
   ]
  },
  {
   "cell_type": "markdown",
   "id": "c4d5bc3f",
   "metadata": {},
   "source": [
    "nombre_infected       642\n",
    "nombre_sain          2691\n",
    "nombre_exposed        397\n",
    "nombre_recovered    16270\n",
    "Name: 139, dtype: int64"
   ]
  },
  {
   "cell_type": "markdown",
   "id": "6d8c0a18",
   "metadata": {},
   "source": [
    "nombre_infected       660\n",
    "nombre_sain          2683\n",
    "nombre_exposed        403\n",
    "nombre_recovered    16254\n",
    "Name: 140, dtype: int64"
   ]
  },
  {
   "cell_type": "markdown",
   "id": "0a2333ae",
   "metadata": {},
   "source": [
    "nombre_infected       660\n",
    "nombre_sain          2642\n",
    "nombre_exposed        418\n",
    "nombre_recovered    16280\n",
    "Name: 141, dtype: int64"
   ]
  },
  {
   "cell_type": "markdown",
   "id": "831b17fd",
   "metadata": {},
   "source": [
    "nombre_infected       669\n",
    "nombre_sain          2650\n",
    "nombre_exposed        411\n",
    "nombre_recovered    16270\n",
    "Name: 142, dtype: int64"
   ]
  },
  {
   "cell_type": "markdown",
   "id": "33acb4c0",
   "metadata": {},
   "source": [
    "nombre_infected       680\n",
    "nombre_sain          2647\n",
    "nombre_exposed        411\n",
    "nombre_recovered    16262\n",
    "Name: 143, dtype: int64"
   ]
  },
  {
   "cell_type": "markdown",
   "id": "f9ebe2b7",
   "metadata": {},
   "source": [
    "nombre_infected       684\n",
    "nombre_sain          2634\n",
    "nombre_exposed        405\n",
    "nombre_recovered    16277\n",
    "Name: 144, dtype: int64"
   ]
  },
  {
   "cell_type": "markdown",
   "id": "82165073",
   "metadata": {},
   "source": [
    "nombre_infected       691\n",
    "nombre_sain          2623\n",
    "nombre_exposed        407\n",
    "nombre_recovered    16279\n",
    "Name: 145, dtype: int64"
   ]
  },
  {
   "cell_type": "markdown",
   "id": "111144a7",
   "metadata": {},
   "source": [
    "nombre_infected       668\n",
    "nombre_sain          2586\n",
    "nombre_exposed        439\n",
    "nombre_recovered    16307\n",
    "Name: 146, dtype: int64"
   ]
  },
  {
   "cell_type": "markdown",
   "id": "1d4b694b",
   "metadata": {},
   "source": [
    "nombre_infected       658\n",
    "nombre_sain          2552\n",
    "nombre_exposed        456\n",
    "nombre_recovered    16334\n",
    "Name: 147, dtype: int64"
   ]
  },
  {
   "cell_type": "markdown",
   "id": "8e1b81cf",
   "metadata": {},
   "source": [
    "nombre_infected       679\n",
    "nombre_sain          2526\n",
    "nombre_exposed        433\n",
    "nombre_recovered    16362\n",
    "Name: 148, dtype: int64"
   ]
  },
  {
   "cell_type": "markdown",
   "id": "923fc098",
   "metadata": {},
   "source": [
    "nombre_infected       677\n",
    "nombre_sain          2481\n",
    "nombre_exposed        472\n",
    "nombre_recovered    16370\n",
    "Name: 149, dtype: int64"
   ]
  },
  {
   "cell_type": "markdown",
   "id": "d1c06423",
   "metadata": {},
   "source": [
    "nombre_infected       677\n",
    "nombre_sain          2463\n",
    "nombre_exposed        456\n",
    "nombre_recovered    16404\n",
    "Name: 150, dtype: int64"
   ]
  },
  {
   "cell_type": "markdown",
   "id": "c6866211",
   "metadata": {},
   "source": [
    "nombre_infected       734\n",
    "nombre_sain          2414\n",
    "nombre_exposed        427\n",
    "nombre_recovered    16425\n",
    "Name: 151, dtype: int64"
   ]
  },
  {
   "cell_type": "markdown",
   "id": "232c0233",
   "metadata": {},
   "source": [
    "nombre_infected       706\n",
    "nombre_sain          2377\n",
    "nombre_exposed        452\n",
    "nombre_recovered    16465\n",
    "Name: 152, dtype: int64"
   ]
  },
  {
   "cell_type": "markdown",
   "id": "287c1d91",
   "metadata": {},
   "source": [
    "nombre_infected       701\n",
    "nombre_sain          2351\n",
    "nombre_exposed        448\n",
    "nombre_recovered    16500\n",
    "Name: 153, dtype: int64"
   ]
  },
  {
   "cell_type": "markdown",
   "id": "2c156f8d",
   "metadata": {},
   "source": [
    "nombre_infected       723\n",
    "nombre_sain          2309\n",
    "nombre_exposed        450\n",
    "nombre_recovered    16518\n",
    "Name: 154, dtype: int64"
   ]
  },
  {
   "cell_type": "markdown",
   "id": "ddb03d22",
   "metadata": {},
   "source": [
    "nombre_infected       737\n",
    "nombre_sain          2279\n",
    "nombre_exposed        440\n",
    "nombre_recovered    16544\n",
    "Name: 155, dtype: int64"
   ]
  },
  {
   "cell_type": "markdown",
   "id": "a7ba290d",
   "metadata": {},
   "source": [
    "nombre_infected       753\n",
    "nombre_sain          2258\n",
    "nombre_exposed        428\n",
    "nombre_recovered    16561\n",
    "Name: 156, dtype: int64"
   ]
  },
  {
   "cell_type": "markdown",
   "id": "ba9765aa",
   "metadata": {},
   "source": [
    "nombre_infected       739\n",
    "nombre_sain          2232\n",
    "nombre_exposed        413\n",
    "nombre_recovered    16616\n",
    "Name: 157, dtype: int64"
   ]
  },
  {
   "cell_type": "markdown",
   "id": "0e9611a4",
   "metadata": {},
   "source": [
    "nombre_infected       727\n",
    "nombre_sain          2203\n",
    "nombre_exposed        415\n",
    "nombre_recovered    16655\n",
    "Name: 158, dtype: int64"
   ]
  },
  {
   "cell_type": "markdown",
   "id": "e7828ae5",
   "metadata": {},
   "source": [
    "nombre_infected       703\n",
    "nombre_sain          2173\n",
    "nombre_exposed        434\n",
    "nombre_recovered    16690\n",
    "Name: 159, dtype: int64"
   ]
  },
  {
   "cell_type": "markdown",
   "id": "f536f634",
   "metadata": {},
   "source": [
    "nombre_infected       698\n",
    "nombre_sain          2149\n",
    "nombre_exposed        412\n",
    "nombre_recovered    16741\n",
    "Name: 160, dtype: int64"
   ]
  },
  {
   "cell_type": "markdown",
   "id": "9ba7cafb",
   "metadata": {},
   "source": [
    "nombre_infected       706\n",
    "nombre_sain          2153\n",
    "nombre_exposed        397\n",
    "nombre_recovered    16744\n",
    "Name: 161, dtype: int64"
   ]
  },
  {
   "cell_type": "markdown",
   "id": "3e1577e7",
   "metadata": {},
   "source": [
    "nombre_infected       709\n",
    "nombre_sain          2128\n",
    "nombre_exposed        393\n",
    "nombre_recovered    16770\n",
    "Name: 162, dtype: int64"
   ]
  },
  {
   "cell_type": "markdown",
   "id": "9f96d9cb",
   "metadata": {},
   "source": [
    "nombre_infected       697\n",
    "nombre_sain          2126\n",
    "nombre_exposed        393\n",
    "nombre_recovered    16784\n",
    "Name: 163, dtype: int64"
   ]
  },
  {
   "cell_type": "markdown",
   "id": "1d329627",
   "metadata": {},
   "source": [
    "nombre_infected       685\n",
    "nombre_sain          2131\n",
    "nombre_exposed        390\n",
    "nombre_recovered    16794\n",
    "Name: 164, dtype: int64"
   ]
  },
  {
   "cell_type": "markdown",
   "id": "03bf7121",
   "metadata": {},
   "source": [
    "nombre_infected       686\n",
    "nombre_sain          2123\n",
    "nombre_exposed        374\n",
    "nombre_recovered    16817\n",
    "Name: 165, dtype: int64"
   ]
  },
  {
   "cell_type": "markdown",
   "id": "f8415e5d",
   "metadata": {},
   "source": [
    "nombre_infected       681\n",
    "nombre_sain          2133\n",
    "nombre_exposed        379\n",
    "nombre_recovered    16807\n",
    "Name: 166, dtype: int64"
   ]
  },
  {
   "cell_type": "markdown",
   "id": "10bce6b7",
   "metadata": {},
   "source": [
    "nombre_infected       689\n",
    "nombre_sain          2141\n",
    "nombre_exposed        370\n",
    "nombre_recovered    16800\n",
    "Name: 167, dtype: int64"
   ]
  },
  {
   "cell_type": "markdown",
   "id": "7d912796",
   "metadata": {},
   "source": [
    "nombre_infected       690\n",
    "nombre_sain          2146\n",
    "nombre_exposed        358\n",
    "nombre_recovered    16806\n",
    "Name: 168, dtype: int64"
   ]
  },
  {
   "cell_type": "markdown",
   "id": "98f4497b",
   "metadata": {},
   "source": [
    "nombre_infected       683\n",
    "nombre_sain          2153\n",
    "nombre_exposed        357\n",
    "nombre_recovered    16807\n",
    "Name: 169, dtype: int64"
   ]
  },
  {
   "cell_type": "markdown",
   "id": "6ab051bd",
   "metadata": {},
   "source": [
    "nombre_infected       684\n",
    "nombre_sain          2154\n",
    "nombre_exposed        367\n",
    "nombre_recovered    16795\n",
    "Name: 170, dtype: int64"
   ]
  },
  {
   "cell_type": "markdown",
   "id": "3cbdaeac",
   "metadata": {},
   "source": [
    "nombre_infected       671\n",
    "nombre_sain          2140\n",
    "nombre_exposed        389\n",
    "nombre_recovered    16800\n",
    "Name: 171, dtype: int64"
   ]
  },
  {
   "cell_type": "markdown",
   "id": "ddc64f99",
   "metadata": {},
   "source": [
    "nombre_infected       662\n",
    "nombre_sain          2152\n",
    "nombre_exposed        381\n",
    "nombre_recovered    16805\n",
    "Name: 172, dtype: int64"
   ]
  },
  {
   "cell_type": "markdown",
   "id": "064d5009",
   "metadata": {},
   "source": [
    "nombre_infected       671\n",
    "nombre_sain          2188\n",
    "nombre_exposed        364\n",
    "nombre_recovered    16777\n",
    "Name: 173, dtype: int64"
   ]
  },
  {
   "cell_type": "markdown",
   "id": "76e2b825",
   "metadata": {},
   "source": [
    "nombre_infected       658\n",
    "nombre_sain          2193\n",
    "nombre_exposed        371\n",
    "nombre_recovered    16778\n",
    "Name: 174, dtype: int64"
   ]
  },
  {
   "cell_type": "markdown",
   "id": "05183f18",
   "metadata": {},
   "source": [
    "nombre_infected       665\n",
    "nombre_sain          2183\n",
    "nombre_exposed        383\n",
    "nombre_recovered    16769\n",
    "Name: 175, dtype: int64"
   ]
  },
  {
   "cell_type": "markdown",
   "id": "7c12e19b",
   "metadata": {},
   "source": [
    "nombre_infected       669\n",
    "nombre_sain          2211\n",
    "nombre_exposed        387\n",
    "nombre_recovered    16733\n",
    "Name: 176, dtype: int64"
   ]
  },
  {
   "cell_type": "markdown",
   "id": "a1e0709b",
   "metadata": {},
   "source": [
    "nombre_infected       661\n",
    "nombre_sain          2203\n",
    "nombre_exposed        399\n",
    "nombre_recovered    16737\n",
    "Name: 177, dtype: int64"
   ]
  },
  {
   "cell_type": "markdown",
   "id": "df386a1d",
   "metadata": {},
   "source": [
    "nombre_infected       678\n",
    "nombre_sain          2235\n",
    "nombre_exposed        405\n",
    "nombre_recovered    16682\n",
    "Name: 178, dtype: int64"
   ]
  },
  {
   "cell_type": "markdown",
   "id": "309c31fc",
   "metadata": {},
   "source": [
    "nombre_infected       682\n",
    "nombre_sain          2239\n",
    "nombre_exposed        397\n",
    "nombre_recovered    16682\n",
    "Name: 179, dtype: int64"
   ]
  },
  {
   "cell_type": "markdown",
   "id": "a69d387e",
   "metadata": {},
   "source": [
    "nombre_infected       679\n",
    "nombre_sain          2247\n",
    "nombre_exposed        396\n",
    "nombre_recovered    16678\n",
    "Name: 180, dtype: int64"
   ]
  },
  {
   "cell_type": "markdown",
   "id": "31d6289c",
   "metadata": {},
   "source": [
    "nombre_infected       694\n",
    "nombre_sain          2245\n",
    "nombre_exposed        402\n",
    "nombre_recovered    16659\n",
    "Name: 181, dtype: int64"
   ]
  },
  {
   "cell_type": "markdown",
   "id": "56a0a215",
   "metadata": {},
   "source": [
    "nombre_infected       701\n",
    "nombre_sain          2266\n",
    "nombre_exposed        373\n",
    "nombre_recovered    16660\n",
    "Name: 182, dtype: int64"
   ]
  },
  {
   "cell_type": "markdown",
   "id": "0f916ca4",
   "metadata": {},
   "source": [
    "nombre_infected       705\n",
    "nombre_sain          2278\n",
    "nombre_exposed        359\n",
    "nombre_recovered    16658\n",
    "Name: 183, dtype: int64"
   ]
  },
  {
   "cell_type": "markdown",
   "id": "28841eeb",
   "metadata": {},
   "source": [
    "nombre_infected       684\n",
    "nombre_sain          2267\n",
    "nombre_exposed        383\n",
    "nombre_recovered    16666\n",
    "Name: 184, dtype: int64"
   ]
  },
  {
   "cell_type": "markdown",
   "id": "e2c54e7a",
   "metadata": {},
   "source": [
    "nombre_infected       682\n",
    "nombre_sain          2266\n",
    "nombre_exposed        390\n",
    "nombre_recovered    16662\n",
    "Name: 185, dtype: int64"
   ]
  },
  {
   "cell_type": "markdown",
   "id": "0965720c",
   "metadata": {},
   "source": [
    "nombre_infected       674\n",
    "nombre_sain          2265\n",
    "nombre_exposed        390\n",
    "nombre_recovered    16671\n",
    "Name: 186, dtype: int64"
   ]
  },
  {
   "cell_type": "markdown",
   "id": "7c46263c",
   "metadata": {},
   "source": [
    "nombre_infected       688\n",
    "nombre_sain          2251\n",
    "nombre_exposed        383\n",
    "nombre_recovered    16678\n",
    "Name: 187, dtype: int64"
   ]
  },
  {
   "cell_type": "markdown",
   "id": "453f05e9",
   "metadata": {},
   "source": [
    "nombre_infected       691\n",
    "nombre_sain          2266\n",
    "nombre_exposed        387\n",
    "nombre_recovered    16656\n",
    "Name: 188, dtype: int64"
   ]
  },
  {
   "cell_type": "markdown",
   "id": "858963e4",
   "metadata": {},
   "source": [
    "nombre_infected       706\n",
    "nombre_sain          2272\n",
    "nombre_exposed        387\n",
    "nombre_recovered    16635\n",
    "Name: 189, dtype: int64"
   ]
  },
  {
   "cell_type": "markdown",
   "id": "76027ef8",
   "metadata": {},
   "source": [
    "nombre_infected       701\n",
    "nombre_sain          2308\n",
    "nombre_exposed        400\n",
    "nombre_recovered    16591\n",
    "Name: 190, dtype: int64"
   ]
  },
  {
   "cell_type": "markdown",
   "id": "b3070994",
   "metadata": {},
   "source": [
    "nombre_infected       700\n",
    "nombre_sain          2303\n",
    "nombre_exposed        406\n",
    "nombre_recovered    16591\n",
    "Name: 191, dtype: int64"
   ]
  },
  {
   "cell_type": "markdown",
   "id": "20646eaf",
   "metadata": {},
   "source": [
    "nombre_infected       703\n",
    "nombre_sain          2308\n",
    "nombre_exposed        411\n",
    "nombre_recovered    16578\n",
    "Name: 192, dtype: int64"
   ]
  },
  {
   "cell_type": "markdown",
   "id": "85d69e77",
   "metadata": {},
   "source": [
    "nombre_infected       704\n",
    "nombre_sain          2318\n",
    "nombre_exposed        409\n",
    "nombre_recovered    16569\n",
    "Name: 193, dtype: int64"
   ]
  },
  {
   "cell_type": "markdown",
   "id": "fd176206",
   "metadata": {},
   "source": [
    "nombre_infected       695\n",
    "nombre_sain          2307\n",
    "nombre_exposed        431\n",
    "nombre_recovered    16567\n",
    "Name: 194, dtype: int64"
   ]
  },
  {
   "cell_type": "markdown",
   "id": "d425879a",
   "metadata": {},
   "source": [
    "nombre_infected       687\n",
    "nombre_sain          2318\n",
    "nombre_exposed        420\n",
    "nombre_recovered    16575\n",
    "Name: 195, dtype: int64"
   ]
  },
  {
   "cell_type": "markdown",
   "id": "10b627a2",
   "metadata": {},
   "source": [
    "nombre_infected       687\n",
    "nombre_sain          2328\n",
    "nombre_exposed        419\n",
    "nombre_recovered    16566\n",
    "Name: 196, dtype: int64"
   ]
  },
  {
   "cell_type": "markdown",
   "id": "e72c6a95",
   "metadata": {},
   "source": [
    "nombre_infected       703\n",
    "nombre_sain          2358\n",
    "nombre_exposed        400\n",
    "nombre_recovered    16539\n",
    "Name: 197, dtype: int64"
   ]
  },
  {
   "cell_type": "markdown",
   "id": "9fc987d0",
   "metadata": {},
   "source": [
    "nombre_infected       705\n",
    "nombre_sain          2359\n",
    "nombre_exposed        426\n",
    "nombre_recovered    16510\n",
    "Name: 198, dtype: int64"
   ]
  },
  {
   "cell_type": "markdown",
   "id": "4aae5293",
   "metadata": {},
   "source": [
    "nombre_infected       720\n",
    "nombre_sain          2371\n",
    "nombre_exposed        428\n",
    "nombre_recovered    16481\n",
    "Name: 199, dtype: int64"
   ]
  },
  {
   "cell_type": "markdown",
   "id": "a1a23d15",
   "metadata": {},
   "source": [
    "nombre_infected       728\n",
    "nombre_sain          2387\n",
    "nombre_exposed        441\n",
    "nombre_recovered    16444\n",
    "Name: 200, dtype: int64"
   ]
  },
  {
   "cell_type": "markdown",
   "id": "1244458d",
   "metadata": {},
   "source": [
    "nombre_infected       721\n",
    "nombre_sain          2364\n",
    "nombre_exposed        459\n",
    "nombre_recovered    16456\n",
    "Name: 201, dtype: int64"
   ]
  },
  {
   "cell_type": "markdown",
   "id": "191800a4",
   "metadata": {},
   "source": [
    "nombre_infected       734\n",
    "nombre_sain          2371\n",
    "nombre_exposed        463\n",
    "nombre_recovered    16432\n",
    "Name: 202, dtype: int64"
   ]
  },
  {
   "cell_type": "markdown",
   "id": "1e17a8da",
   "metadata": {},
   "source": [
    "nombre_infected       758\n",
    "nombre_sain          2346\n",
    "nombre_exposed        452\n",
    "nombre_recovered    16444\n",
    "Name: 203, dtype: int64"
   ]
  },
  {
   "cell_type": "markdown",
   "id": "0f82af1c",
   "metadata": {},
   "source": [
    "nombre_infected       775\n",
    "nombre_sain          2362\n",
    "nombre_exposed        447\n",
    "nombre_recovered    16416\n",
    "Name: 204, dtype: int64"
   ]
  },
  {
   "cell_type": "markdown",
   "id": "21f65089",
   "metadata": {},
   "source": [
    "nombre_infected       754\n",
    "nombre_sain          2381\n",
    "nombre_exposed        444\n",
    "nombre_recovered    16421\n",
    "Name: 205, dtype: int64"
   ]
  },
  {
   "cell_type": "markdown",
   "id": "057e1d7e",
   "metadata": {},
   "source": [
    "nombre_infected       774\n",
    "nombre_sain          2381\n",
    "nombre_exposed        419\n",
    "nombre_recovered    16426\n",
    "Name: 206, dtype: int64"
   ]
  },
  {
   "cell_type": "markdown",
   "id": "85484a2a",
   "metadata": {},
   "source": [
    "nombre_infected       766\n",
    "nombre_sain          2374\n",
    "nombre_exposed        418\n",
    "nombre_recovered    16442\n",
    "Name: 207, dtype: int64"
   ]
  },
  {
   "cell_type": "markdown",
   "id": "d5bf3195",
   "metadata": {},
   "source": [
    "nombre_infected       768\n",
    "nombre_sain          2361\n",
    "nombre_exposed        418\n",
    "nombre_recovered    16453\n",
    "Name: 208, dtype: int64"
   ]
  },
  {
   "cell_type": "markdown",
   "id": "2eb8dd75",
   "metadata": {},
   "source": [
    "nombre_infected       764\n",
    "nombre_sain          2374\n",
    "nombre_exposed        412\n",
    "nombre_recovered    16450\n",
    "Name: 209, dtype: int64"
   ]
  },
  {
   "cell_type": "markdown",
   "id": "9055fdc0",
   "metadata": {},
   "source": [
    "nombre_infected       751\n",
    "nombre_sain          2377\n",
    "nombre_exposed        432\n",
    "nombre_recovered    16440\n",
    "Name: 210, dtype: int64"
   ]
  },
  {
   "cell_type": "markdown",
   "id": "b43d299a",
   "metadata": {},
   "source": [
    "nombre_infected       758\n",
    "nombre_sain          2333\n",
    "nombre_exposed        466\n",
    "nombre_recovered    16443\n",
    "Name: 211, dtype: int64"
   ]
  },
  {
   "cell_type": "markdown",
   "id": "1d762659",
   "metadata": {},
   "source": [
    "nombre_infected       745\n",
    "nombre_sain          2346\n",
    "nombre_exposed        463\n",
    "nombre_recovered    16446\n",
    "Name: 212, dtype: int64"
   ]
  },
  {
   "cell_type": "markdown",
   "id": "28d88672",
   "metadata": {},
   "source": [
    "nombre_infected       755\n",
    "nombre_sain          2342\n",
    "nombre_exposed        454\n",
    "nombre_recovered    16449\n",
    "Name: 213, dtype: int64"
   ]
  },
  {
   "cell_type": "markdown",
   "id": "24629d93",
   "metadata": {},
   "source": [
    "nombre_infected       755\n",
    "nombre_sain          2312\n",
    "nombre_exposed        454\n",
    "nombre_recovered    16479\n",
    "Name: 214, dtype: int64"
   ]
  },
  {
   "cell_type": "markdown",
   "id": "b4f053fe",
   "metadata": {},
   "source": [
    "nombre_infected       734\n",
    "nombre_sain          2303\n",
    "nombre_exposed        464\n",
    "nombre_recovered    16499\n",
    "Name: 215, dtype: int64"
   ]
  },
  {
   "cell_type": "markdown",
   "id": "dc88c18b",
   "metadata": {},
   "source": [
    "nombre_infected       742\n",
    "nombre_sain          2315\n",
    "nombre_exposed        457\n",
    "nombre_recovered    16486\n",
    "Name: 216, dtype: int64"
   ]
  },
  {
   "cell_type": "markdown",
   "id": "59f8a9b0",
   "metadata": {},
   "source": [
    "nombre_infected       754\n",
    "nombre_sain          2313\n",
    "nombre_exposed        459\n",
    "nombre_recovered    16474\n",
    "Name: 217, dtype: int64"
   ]
  },
  {
   "cell_type": "markdown",
   "id": "011019bd",
   "metadata": {},
   "source": [
    "nombre_infected       763\n",
    "nombre_sain          2320\n",
    "nombre_exposed        459\n",
    "nombre_recovered    16458\n",
    "Name: 218, dtype: int64"
   ]
  },
  {
   "cell_type": "markdown",
   "id": "0f64e01c",
   "metadata": {},
   "source": [
    "nombre_infected       767\n",
    "nombre_sain          2305\n",
    "nombre_exposed        460\n",
    "nombre_recovered    16468\n",
    "Name: 219, dtype: int64"
   ]
  },
  {
   "cell_type": "markdown",
   "id": "53640bb3",
   "metadata": {},
   "source": [
    "nombre_infected       749\n",
    "nombre_sain          2325\n",
    "nombre_exposed        454\n",
    "nombre_recovered    16472\n",
    "Name: 220, dtype: int64"
   ]
  },
  {
   "cell_type": "markdown",
   "id": "84cc77fc",
   "metadata": {},
   "source": [
    "nombre_infected       754\n",
    "nombre_sain          2331\n",
    "nombre_exposed        456\n",
    "nombre_recovered    16459\n",
    "Name: 221, dtype: int64"
   ]
  },
  {
   "cell_type": "markdown",
   "id": "b5b1d51d",
   "metadata": {},
   "source": [
    "nombre_infected       737\n",
    "nombre_sain          2346\n",
    "nombre_exposed        469\n",
    "nombre_recovered    16448\n",
    "Name: 222, dtype: int64"
   ]
  },
  {
   "cell_type": "markdown",
   "id": "533b751a",
   "metadata": {},
   "source": [
    "nombre_infected       732\n",
    "nombre_sain          2350\n",
    "nombre_exposed        475\n",
    "nombre_recovered    16443\n",
    "Name: 223, dtype: int64"
   ]
  },
  {
   "cell_type": "markdown",
   "id": "5abe3dc4",
   "metadata": {},
   "source": [
    "nombre_infected       731\n",
    "nombre_sain          2333\n",
    "nombre_exposed        467\n",
    "nombre_recovered    16469\n",
    "Name: 224, dtype: int64"
   ]
  },
  {
   "cell_type": "markdown",
   "id": "96b66465",
   "metadata": {},
   "source": [
    "nombre_infected       745\n",
    "nombre_sain          2342\n",
    "nombre_exposed        447\n",
    "nombre_recovered    16466\n",
    "Name: 225, dtype: int64"
   ]
  },
  {
   "cell_type": "markdown",
   "id": "49e3d9d5",
   "metadata": {},
   "source": [
    "nombre_infected       733\n",
    "nombre_sain          2362\n",
    "nombre_exposed        440\n",
    "nombre_recovered    16465\n",
    "Name: 226, dtype: int64"
   ]
  },
  {
   "cell_type": "markdown",
   "id": "9195737b",
   "metadata": {},
   "source": [
    "nombre_infected       726\n",
    "nombre_sain          2375\n",
    "nombre_exposed        447\n",
    "nombre_recovered    16452\n",
    "Name: 227, dtype: int64"
   ]
  },
  {
   "cell_type": "markdown",
   "id": "cf99108f",
   "metadata": {},
   "source": [
    "nombre_infected       709\n",
    "nombre_sain          2369\n",
    "nombre_exposed        460\n",
    "nombre_recovered    16462\n",
    "Name: 228, dtype: int64"
   ]
  },
  {
   "cell_type": "markdown",
   "id": "3e4064c3",
   "metadata": {},
   "source": [
    "nombre_infected       712\n",
    "nombre_sain          2370\n",
    "nombre_exposed        453\n",
    "nombre_recovered    16465\n",
    "Name: 229, dtype: int64"
   ]
  },
  {
   "cell_type": "markdown",
   "id": "795bb461",
   "metadata": {},
   "source": [
    "nombre_infected       717\n",
    "nombre_sain          2377\n",
    "nombre_exposed        441\n",
    "nombre_recovered    16465\n",
    "Name: 230, dtype: int64"
   ]
  },
  {
   "cell_type": "markdown",
   "id": "b2ae27e3",
   "metadata": {},
   "source": [
    "nombre_infected       705\n",
    "nombre_sain          2369\n",
    "nombre_exposed        442\n",
    "nombre_recovered    16484\n",
    "Name: 231, dtype: int64"
   ]
  },
  {
   "cell_type": "markdown",
   "id": "41b6851b",
   "metadata": {},
   "source": [
    "nombre_infected       693\n",
    "nombre_sain          2352\n",
    "nombre_exposed        448\n",
    "nombre_recovered    16507\n",
    "Name: 232, dtype: int64"
   ]
  },
  {
   "cell_type": "markdown",
   "id": "f16aa1d3",
   "metadata": {},
   "source": [
    "nombre_infected       689\n",
    "nombre_sain          2352\n",
    "nombre_exposed        429\n",
    "nombre_recovered    16530\n",
    "Name: 233, dtype: int64"
   ]
  },
  {
   "cell_type": "markdown",
   "id": "145512ce",
   "metadata": {},
   "source": [
    "nombre_infected       691\n",
    "nombre_sain          2350\n",
    "nombre_exposed        441\n",
    "nombre_recovered    16518\n",
    "Name: 234, dtype: int64"
   ]
  },
  {
   "cell_type": "markdown",
   "id": "4deafbae",
   "metadata": {},
   "source": [
    "nombre_infected       656\n",
    "nombre_sain          2365\n",
    "nombre_exposed        433\n",
    "nombre_recovered    16546\n",
    "Name: 235, dtype: int64"
   ]
  },
  {
   "cell_type": "markdown",
   "id": "b0c46aa3",
   "metadata": {},
   "source": [
    "nombre_infected       672\n",
    "nombre_sain          2372\n",
    "nombre_exposed        423\n",
    "nombre_recovered    16533\n",
    "Name: 236, dtype: int64"
   ]
  },
  {
   "cell_type": "markdown",
   "id": "3ada3cff",
   "metadata": {},
   "source": [
    "nombre_infected       670\n",
    "nombre_sain          2387\n",
    "nombre_exposed        430\n",
    "nombre_recovered    16513\n",
    "Name: 237, dtype: int64"
   ]
  },
  {
   "cell_type": "markdown",
   "id": "16937261",
   "metadata": {},
   "source": [
    "nombre_infected       669\n",
    "nombre_sain          2385\n",
    "nombre_exposed        433\n",
    "nombre_recovered    16513\n",
    "Name: 238, dtype: int64"
   ]
  },
  {
   "cell_type": "markdown",
   "id": "a4347ed2",
   "metadata": {},
   "source": [
    "nombre_infected       681\n",
    "nombre_sain          2372\n",
    "nombre_exposed        444\n",
    "nombre_recovered    16503\n",
    "Name: 239, dtype: int64"
   ]
  },
  {
   "cell_type": "markdown",
   "id": "b3568325",
   "metadata": {},
   "source": [
    "nombre_infected       682\n",
    "nombre_sain          2357\n",
    "nombre_exposed        447\n",
    "nombre_recovered    16514\n",
    "Name: 240, dtype: int64"
   ]
  },
  {
   "cell_type": "markdown",
   "id": "47aaf237",
   "metadata": {},
   "source": [
    "nombre_infected       677\n",
    "nombre_sain          2368\n",
    "nombre_exposed        449\n",
    "nombre_recovered    16506\n",
    "Name: 241, dtype: int64"
   ]
  },
  {
   "cell_type": "markdown",
   "id": "336e2418",
   "metadata": {},
   "source": [
    "nombre_infected       677\n",
    "nombre_sain          2402\n",
    "nombre_exposed        431\n",
    "nombre_recovered    16490\n",
    "Name: 242, dtype: int64"
   ]
  },
  {
   "cell_type": "markdown",
   "id": "887aada9",
   "metadata": {},
   "source": [
    "nombre_infected       684\n",
    "nombre_sain          2437\n",
    "nombre_exposed        411\n",
    "nombre_recovered    16468\n",
    "Name: 243, dtype: int64"
   ]
  },
  {
   "cell_type": "markdown",
   "id": "39d42246",
   "metadata": {},
   "source": [
    "nombre_infected       694\n",
    "nombre_sain          2443\n",
    "nombre_exposed        398\n",
    "nombre_recovered    16465\n",
    "Name: 244, dtype: int64"
   ]
  },
  {
   "cell_type": "markdown",
   "id": "f453fcd3",
   "metadata": {},
   "source": [
    "nombre_infected       696\n",
    "nombre_sain          2487\n",
    "nombre_exposed        396\n",
    "nombre_recovered    16421\n",
    "Name: 245, dtype: int64"
   ]
  },
  {
   "cell_type": "markdown",
   "id": "9f474a9d",
   "metadata": {},
   "source": [
    "nombre_infected       696\n",
    "nombre_sain          2486\n",
    "nombre_exposed        415\n",
    "nombre_recovered    16403\n",
    "Name: 246, dtype: int64"
   ]
  },
  {
   "cell_type": "markdown",
   "id": "707376ff",
   "metadata": {},
   "source": [
    "nombre_infected       703\n",
    "nombre_sain          2511\n",
    "nombre_exposed        411\n",
    "nombre_recovered    16375\n",
    "Name: 247, dtype: int64"
   ]
  },
  {
   "cell_type": "markdown",
   "id": "ad27565e",
   "metadata": {},
   "source": [
    "nombre_infected       697\n",
    "nombre_sain          2525\n",
    "nombre_exposed        435\n",
    "nombre_recovered    16343\n",
    "Name: 248, dtype: int64"
   ]
  },
  {
   "cell_type": "markdown",
   "id": "ebb5fb15",
   "metadata": {},
   "source": [
    "nombre_infected       692\n",
    "nombre_sain          2531\n",
    "nombre_exposed        443\n",
    "nombre_recovered    16334\n",
    "Name: 249, dtype: int64"
   ]
  },
  {
   "cell_type": "markdown",
   "id": "c95e0b97",
   "metadata": {},
   "source": [
    "nombre_infected       697\n",
    "nombre_sain          2517\n",
    "nombre_exposed        432\n",
    "nombre_recovered    16354\n",
    "Name: 250, dtype: int64"
   ]
  },
  {
   "cell_type": "markdown",
   "id": "2197459f",
   "metadata": {},
   "source": [
    "nombre_infected       715\n",
    "nombre_sain          2528\n",
    "nombre_exposed        428\n",
    "nombre_recovered    16329\n",
    "Name: 251, dtype: int64"
   ]
  },
  {
   "cell_type": "markdown",
   "id": "70c95204",
   "metadata": {},
   "source": [
    "nombre_infected       701\n",
    "nombre_sain          2503\n",
    "nombre_exposed        449\n",
    "nombre_recovered    16347\n",
    "Name: 252, dtype: int64"
   ]
  },
  {
   "cell_type": "markdown",
   "id": "8e6f9ff0",
   "metadata": {},
   "source": [
    "nombre_infected       695\n",
    "nombre_sain          2498\n",
    "nombre_exposed        432\n",
    "nombre_recovered    16375\n",
    "Name: 253, dtype: int64"
   ]
  },
  {
   "cell_type": "markdown",
   "id": "3005804c",
   "metadata": {},
   "source": [
    "nombre_infected       702\n",
    "nombre_sain          2493\n",
    "nombre_exposed        439\n",
    "nombre_recovered    16366\n",
    "Name: 254, dtype: int64"
   ]
  },
  {
   "cell_type": "markdown",
   "id": "1347ac4f",
   "metadata": {},
   "source": [
    "nombre_infected       707\n",
    "nombre_sain          2493\n",
    "nombre_exposed        453\n",
    "nombre_recovered    16347\n",
    "Name: 255, dtype: int64"
   ]
  },
  {
   "cell_type": "markdown",
   "id": "80bbb7c7",
   "metadata": {},
   "source": [
    "nombre_infected       702\n",
    "nombre_sain          2485\n",
    "nombre_exposed        453\n",
    "nombre_recovered    16360\n",
    "Name: 256, dtype: int64"
   ]
  },
  {
   "cell_type": "markdown",
   "id": "32721fd5",
   "metadata": {},
   "source": [
    "nombre_infected       740\n",
    "nombre_sain          2464\n",
    "nombre_exposed        462\n",
    "nombre_recovered    16334\n",
    "Name: 257, dtype: int64"
   ]
  },
  {
   "cell_type": "markdown",
   "id": "c7899753",
   "metadata": {},
   "source": [
    "nombre_infected       763\n",
    "nombre_sain          2435\n",
    "nombre_exposed        466\n",
    "nombre_recovered    16336\n",
    "Name: 258, dtype: int64"
   ]
  },
  {
   "cell_type": "markdown",
   "id": "85f3b02e",
   "metadata": {},
   "source": [
    "nombre_infected       787\n",
    "nombre_sain          2418\n",
    "nombre_exposed        457\n",
    "nombre_recovered    16338\n",
    "Name: 259, dtype: int64"
   ]
  },
  {
   "cell_type": "markdown",
   "id": "eae2221d",
   "metadata": {},
   "source": [
    "nombre_infected       792\n",
    "nombre_sain          2382\n",
    "nombre_exposed        464\n",
    "nombre_recovered    16362\n",
    "Name: 260, dtype: int64"
   ]
  },
  {
   "cell_type": "markdown",
   "id": "383cee84",
   "metadata": {},
   "source": [
    "nombre_infected       787\n",
    "nombre_sain          2346\n",
    "nombre_exposed        496\n",
    "nombre_recovered    16371\n",
    "Name: 261, dtype: int64"
   ]
  },
  {
   "cell_type": "markdown",
   "id": "072d1eb5",
   "metadata": {},
   "source": [
    "nombre_infected       784\n",
    "nombre_sain          2329\n",
    "nombre_exposed        491\n",
    "nombre_recovered    16396\n",
    "Name: 262, dtype: int64"
   ]
  },
  {
   "cell_type": "markdown",
   "id": "bd2fc07e",
   "metadata": {},
   "source": [
    "nombre_infected       799\n",
    "nombre_sain          2340\n",
    "nombre_exposed        465\n",
    "nombre_recovered    16396\n",
    "Name: 263, dtype: int64"
   ]
  },
  {
   "cell_type": "markdown",
   "id": "12bc54d2",
   "metadata": {},
   "source": [
    "nombre_infected       823\n",
    "nombre_sain          2327\n",
    "nombre_exposed        470\n",
    "nombre_recovered    16380\n",
    "Name: 264, dtype: int64"
   ]
  },
  {
   "cell_type": "markdown",
   "id": "aac8b135",
   "metadata": {},
   "source": [
    "nombre_infected       814\n",
    "nombre_sain          2317\n",
    "nombre_exposed        484\n",
    "nombre_recovered    16385\n",
    "Name: 265, dtype: int64"
   ]
  },
  {
   "cell_type": "markdown",
   "id": "5c2ee680",
   "metadata": {},
   "source": [
    "nombre_infected       803\n",
    "nombre_sain          2328\n",
    "nombre_exposed        499\n",
    "nombre_recovered    16370\n",
    "Name: 266, dtype: int64"
   ]
  },
  {
   "cell_type": "markdown",
   "id": "6c229651",
   "metadata": {},
   "source": [
    "nombre_infected       814\n",
    "nombre_sain          2333\n",
    "nombre_exposed        480\n",
    "nombre_recovered    16373\n",
    "Name: 267, dtype: int64"
   ]
  },
  {
   "cell_type": "markdown",
   "id": "1d525978",
   "metadata": {},
   "source": [
    "nombre_infected       803\n",
    "nombre_sain          2346\n",
    "nombre_exposed        489\n",
    "nombre_recovered    16362\n",
    "Name: 268, dtype: int64"
   ]
  },
  {
   "cell_type": "markdown",
   "id": "fdb6052d",
   "metadata": {},
   "source": [
    "nombre_infected       790\n",
    "nombre_sain          2346\n",
    "nombre_exposed        519\n",
    "nombre_recovered    16345\n",
    "Name: 269, dtype: int64"
   ]
  },
  {
   "cell_type": "markdown",
   "id": "082482ba",
   "metadata": {},
   "source": [
    "nombre_infected       794\n",
    "nombre_sain          2385\n",
    "nombre_exposed        498\n",
    "nombre_recovered    16323\n",
    "Name: 270, dtype: int64"
   ]
  },
  {
   "cell_type": "markdown",
   "id": "1b700200",
   "metadata": {},
   "source": [
    "nombre_infected       827\n",
    "nombre_sain          2390\n",
    "nombre_exposed        495\n",
    "nombre_recovered    16288\n",
    "Name: 271, dtype: int64"
   ]
  },
  {
   "cell_type": "markdown",
   "id": "0a9c4ef7",
   "metadata": {},
   "source": [
    "nombre_infected       840\n",
    "nombre_sain          2412\n",
    "nombre_exposed        514\n",
    "nombre_recovered    16234\n",
    "Name: 272, dtype: int64"
   ]
  },
  {
   "cell_type": "markdown",
   "id": "10dadfd8",
   "metadata": {},
   "source": [
    "nombre_infected       837\n",
    "nombre_sain          2404\n",
    "nombre_exposed        523\n",
    "nombre_recovered    16236\n",
    "Name: 273, dtype: int64"
   ]
  },
  {
   "cell_type": "markdown",
   "id": "7a777a90",
   "metadata": {},
   "source": [
    "nombre_infected       833\n",
    "nombre_sain          2422\n",
    "nombre_exposed        511\n",
    "nombre_recovered    16234\n",
    "Name: 274, dtype: int64"
   ]
  },
  {
   "cell_type": "markdown",
   "id": "c370e924",
   "metadata": {},
   "source": [
    "nombre_infected       838\n",
    "nombre_sain          2442\n",
    "nombre_exposed        508\n",
    "nombre_recovered    16212\n",
    "Name: 275, dtype: int64"
   ]
  },
  {
   "cell_type": "markdown",
   "id": "5e163dc6",
   "metadata": {},
   "source": [
    "nombre_infected       831\n",
    "nombre_sain          2447\n",
    "nombre_exposed        527\n",
    "nombre_recovered    16195\n",
    "Name: 276, dtype: int64"
   ]
  },
  {
   "cell_type": "markdown",
   "id": "3fd2edfb",
   "metadata": {},
   "source": [
    "nombre_infected       862\n",
    "nombre_sain          2460\n",
    "nombre_exposed        515\n",
    "nombre_recovered    16163\n",
    "Name: 277, dtype: int64"
   ]
  },
  {
   "cell_type": "markdown",
   "id": "b9407593",
   "metadata": {},
   "source": [
    "nombre_infected       873\n",
    "nombre_sain          2474\n",
    "nombre_exposed        521\n",
    "nombre_recovered    16132\n",
    "Name: 278, dtype: int64"
   ]
  },
  {
   "cell_type": "markdown",
   "id": "cced1f61",
   "metadata": {},
   "source": [
    "nombre_infected       880\n",
    "nombre_sain          2476\n",
    "nombre_exposed        523\n",
    "nombre_recovered    16121\n",
    "Name: 279, dtype: int64"
   ]
  },
  {
   "cell_type": "markdown",
   "id": "add3ccf1",
   "metadata": {},
   "source": [
    "nombre_infected       895\n",
    "nombre_sain          2449\n",
    "nombre_exposed        542\n",
    "nombre_recovered    16114\n",
    "Name: 280, dtype: int64"
   ]
  },
  {
   "cell_type": "markdown",
   "id": "6e6fa9a8",
   "metadata": {},
   "source": [
    "nombre_infected       875\n",
    "nombre_sain          2435\n",
    "nombre_exposed        579\n",
    "nombre_recovered    16111\n",
    "Name: 281, dtype: int64"
   ]
  },
  {
   "cell_type": "markdown",
   "id": "c9c4103b",
   "metadata": {},
   "source": [
    "nombre_infected       871\n",
    "nombre_sain          2410\n",
    "nombre_exposed        586\n",
    "nombre_recovered    16133\n",
    "Name: 282, dtype: int64"
   ]
  },
  {
   "cell_type": "markdown",
   "id": "fb4e10a8",
   "metadata": {},
   "source": [
    "nombre_infected       903\n",
    "nombre_sain          2429\n",
    "nombre_exposed        546\n",
    "nombre_recovered    16122\n",
    "Name: 283, dtype: int64"
   ]
  },
  {
   "cell_type": "markdown",
   "id": "693f7fdb",
   "metadata": {},
   "source": [
    "nombre_infected       934\n",
    "nombre_sain          2401\n",
    "nombre_exposed        527\n",
    "nombre_recovered    16138\n",
    "Name: 284, dtype: int64"
   ]
  },
  {
   "cell_type": "markdown",
   "id": "51f6aad6",
   "metadata": {},
   "source": [
    "nombre_infected       952\n",
    "nombre_sain          2374\n",
    "nombre_exposed        545\n",
    "nombre_recovered    16129\n",
    "Name: 285, dtype: int64"
   ]
  },
  {
   "cell_type": "markdown",
   "id": "f85b445c",
   "metadata": {},
   "source": [
    "nombre_infected       962\n",
    "nombre_sain          2348\n",
    "nombre_exposed        545\n",
    "nombre_recovered    16145\n",
    "Name: 286, dtype: int64"
   ]
  },
  {
   "cell_type": "markdown",
   "id": "a3841a9e",
   "metadata": {},
   "source": [
    "nombre_infected       976\n",
    "nombre_sain          2319\n",
    "nombre_exposed        565\n",
    "nombre_recovered    16140\n",
    "Name: 287, dtype: int64"
   ]
  },
  {
   "cell_type": "markdown",
   "id": "9d272fca",
   "metadata": {},
   "source": [
    "nombre_infected       962\n",
    "nombre_sain          2283\n",
    "nombre_exposed        562\n",
    "nombre_recovered    16193\n",
    "Name: 288, dtype: int64"
   ]
  },
  {
   "cell_type": "markdown",
   "id": "987c88e5",
   "metadata": {},
   "source": [
    "nombre_infected       966\n",
    "nombre_sain          2259\n",
    "nombre_exposed        572\n",
    "nombre_recovered    16203\n",
    "Name: 289, dtype: int64"
   ]
  },
  {
   "cell_type": "markdown",
   "id": "65011f85",
   "metadata": {},
   "source": [
    "nombre_infected       947\n",
    "nombre_sain          2266\n",
    "nombre_exposed        561\n",
    "nombre_recovered    16226\n",
    "Name: 290, dtype: int64"
   ]
  },
  {
   "cell_type": "markdown",
   "id": "697b8ebf",
   "metadata": {},
   "source": [
    "nombre_infected       962\n",
    "nombre_sain          2271\n",
    "nombre_exposed        528\n",
    "nombre_recovered    16239\n",
    "Name: 291, dtype: int64"
   ]
  },
  {
   "cell_type": "markdown",
   "id": "b8fa9936",
   "metadata": {},
   "source": [
    "nombre_infected       964\n",
    "nombre_sain          2280\n",
    "nombre_exposed        535\n",
    "nombre_recovered    16221\n",
    "Name: 292, dtype: int64"
   ]
  },
  {
   "cell_type": "markdown",
   "id": "313c424c",
   "metadata": {},
   "source": [
    "nombre_infected       956\n",
    "nombre_sain          2274\n",
    "nombre_exposed        521\n",
    "nombre_recovered    16249\n",
    "Name: 293, dtype: int64"
   ]
  },
  {
   "cell_type": "markdown",
   "id": "cb9fe0cc",
   "metadata": {},
   "source": [
    "nombre_infected       941\n",
    "nombre_sain          2259\n",
    "nombre_exposed        547\n",
    "nombre_recovered    16253\n",
    "Name: 294, dtype: int64"
   ]
  },
  {
   "cell_type": "markdown",
   "id": "007b0bac",
   "metadata": {},
   "source": [
    "nombre_infected       949\n",
    "nombre_sain          2248\n",
    "nombre_exposed        534\n",
    "nombre_recovered    16269\n",
    "Name: 295, dtype: int64"
   ]
  },
  {
   "cell_type": "markdown",
   "id": "5813b737",
   "metadata": {},
   "source": [
    "nombre_infected       965\n",
    "nombre_sain          2225\n",
    "nombre_exposed        526\n",
    "nombre_recovered    16284\n",
    "Name: 296, dtype: int64"
   ]
  },
  {
   "cell_type": "markdown",
   "id": "9c5bb1dc",
   "metadata": {},
   "source": [
    "nombre_infected       979\n",
    "nombre_sain          2212\n",
    "nombre_exposed        519\n",
    "nombre_recovered    16290\n",
    "Name: 297, dtype: int64"
   ]
  },
  {
   "cell_type": "markdown",
   "id": "21f52961",
   "metadata": {},
   "source": [
    "nombre_infected       987\n",
    "nombre_sain          2168\n",
    "nombre_exposed        519\n",
    "nombre_recovered    16326\n",
    "Name: 298, dtype: int64"
   ]
  },
  {
   "cell_type": "markdown",
   "id": "6f660814",
   "metadata": {},
   "source": [
    "nombre_infected       965\n",
    "nombre_sain          2146\n",
    "nombre_exposed        538\n",
    "nombre_recovered    16351\n",
    "Name: 299, dtype: int64"
   ]
  },
  {
   "cell_type": "markdown",
   "id": "b015c0b4",
   "metadata": {},
   "source": [
    "nombre_infected       973\n",
    "nombre_sain          2124\n",
    "nombre_exposed        539\n",
    "nombre_recovered    16364\n",
    "Name: 300, dtype: int64"
   ]
  },
  {
   "cell_type": "markdown",
   "id": "b920a3a9",
   "metadata": {},
   "source": [
    "nombre_infected       974\n",
    "nombre_sain          2127\n",
    "nombre_exposed        509\n",
    "nombre_recovered    16390\n",
    "Name: 301, dtype: int64"
   ]
  },
  {
   "cell_type": "markdown",
   "id": "f3a60a76",
   "metadata": {},
   "source": [
    "nombre_infected      1001\n",
    "nombre_sain          2109\n",
    "nombre_exposed        479\n",
    "nombre_recovered    16411\n",
    "Name: 302, dtype: int64"
   ]
  },
  {
   "cell_type": "markdown",
   "id": "693c90b6",
   "metadata": {},
   "source": [
    "nombre_infected       964\n",
    "nombre_sain          2090\n",
    "nombre_exposed        481\n",
    "nombre_recovered    16465\n",
    "Name: 303, dtype: int64"
   ]
  },
  {
   "cell_type": "markdown",
   "id": "0b8acd6b",
   "metadata": {},
   "source": [
    "nombre_infected       944\n",
    "nombre_sain          2081\n",
    "nombre_exposed        470\n",
    "nombre_recovered    16505\n",
    "Name: 304, dtype: int64"
   ]
  },
  {
   "cell_type": "markdown",
   "id": "b41800bd",
   "metadata": {},
   "source": [
    "nombre_infected       925\n",
    "nombre_sain          2049\n",
    "nombre_exposed        481\n",
    "nombre_recovered    16545\n",
    "Name: 305, dtype: int64"
   ]
  },
  {
   "cell_type": "markdown",
   "id": "5ce843c6",
   "metadata": {},
   "source": [
    "nombre_infected       917\n",
    "nombre_sain          2028\n",
    "nombre_exposed        470\n",
    "nombre_recovered    16585\n",
    "Name: 306, dtype: int64"
   ]
  },
  {
   "cell_type": "markdown",
   "id": "ac9bfbd4",
   "metadata": {},
   "source": [
    "nombre_infected       920\n",
    "nombre_sain          2033\n",
    "nombre_exposed        442\n",
    "nombre_recovered    16605\n",
    "Name: 307, dtype: int64"
   ]
  },
  {
   "cell_type": "markdown",
   "id": "d915f5a2",
   "metadata": {},
   "source": [
    "nombre_infected       897\n",
    "nombre_sain          2025\n",
    "nombre_exposed        451\n",
    "nombre_recovered    16627\n",
    "Name: 308, dtype: int64"
   ]
  },
  {
   "cell_type": "markdown",
   "id": "7c66d583",
   "metadata": {},
   "source": [
    "nombre_infected       871\n",
    "nombre_sain          2024\n",
    "nombre_exposed        451\n",
    "nombre_recovered    16654\n",
    "Name: 309, dtype: int64"
   ]
  },
  {
   "cell_type": "markdown",
   "id": "31dbe9b7",
   "metadata": {},
   "source": [
    "nombre_infected       860\n",
    "nombre_sain          2031\n",
    "nombre_exposed        450\n",
    "nombre_recovered    16659\n",
    "Name: 310, dtype: int64"
   ]
  },
  {
   "cell_type": "markdown",
   "id": "3e4f9142",
   "metadata": {},
   "source": [
    "nombre_infected       841\n",
    "nombre_sain          2034\n",
    "nombre_exposed        456\n",
    "nombre_recovered    16669\n",
    "Name: 311, dtype: int64"
   ]
  },
  {
   "cell_type": "markdown",
   "id": "5eb12453",
   "metadata": {},
   "source": [
    "nombre_infected       832\n",
    "nombre_sain          2038\n",
    "nombre_exposed        451\n",
    "nombre_recovered    16679\n",
    "Name: 312, dtype: int64"
   ]
  },
  {
   "cell_type": "markdown",
   "id": "2222ef1a",
   "metadata": {},
   "source": [
    "nombre_infected       814\n",
    "nombre_sain          2030\n",
    "nombre_exposed        473\n",
    "nombre_recovered    16683\n",
    "Name: 313, dtype: int64"
   ]
  },
  {
   "cell_type": "markdown",
   "id": "9e4badac",
   "metadata": {},
   "source": [
    "nombre_infected       810\n",
    "nombre_sain          2029\n",
    "nombre_exposed        475\n",
    "nombre_recovered    16686\n",
    "Name: 314, dtype: int64"
   ]
  },
  {
   "cell_type": "markdown",
   "id": "f2e498a6",
   "metadata": {},
   "source": [
    "nombre_infected       821\n",
    "nombre_sain          2044\n",
    "nombre_exposed        458\n",
    "nombre_recovered    16677\n",
    "Name: 315, dtype: int64"
   ]
  },
  {
   "cell_type": "markdown",
   "id": "72cbde91",
   "metadata": {},
   "source": [
    "nombre_infected       837\n",
    "nombre_sain          2043\n",
    "nombre_exposed        440\n",
    "nombre_recovered    16680\n",
    "Name: 316, dtype: int64"
   ]
  },
  {
   "cell_type": "markdown",
   "id": "b48c23a4",
   "metadata": {},
   "source": [
    "nombre_infected       811\n",
    "nombre_sain          2058\n",
    "nombre_exposed        453\n",
    "nombre_recovered    16678\n",
    "Name: 317, dtype: int64"
   ]
  },
  {
   "cell_type": "markdown",
   "id": "39f06df0",
   "metadata": {},
   "source": [
    "nombre_infected       816\n",
    "nombre_sain          2072\n",
    "nombre_exposed        446\n",
    "nombre_recovered    16666\n",
    "Name: 318, dtype: int64"
   ]
  },
  {
   "cell_type": "markdown",
   "id": "b6ad2a84",
   "metadata": {},
   "source": [
    "nombre_infected       804\n",
    "nombre_sain          2090\n",
    "nombre_exposed        448\n",
    "nombre_recovered    16658\n",
    "Name: 319, dtype: int64"
   ]
  },
  {
   "cell_type": "markdown",
   "id": "2325f387",
   "metadata": {},
   "source": [
    "nombre_infected       795\n",
    "nombre_sain          2127\n",
    "nombre_exposed        425\n",
    "nombre_recovered    16653\n",
    "Name: 320, dtype: int64"
   ]
  },
  {
   "cell_type": "markdown",
   "id": "77039e29",
   "metadata": {},
   "source": [
    "nombre_infected       781\n",
    "nombre_sain          2160\n",
    "nombre_exposed        428\n",
    "nombre_recovered    16631\n",
    "Name: 321, dtype: int64"
   ]
  },
  {
   "cell_type": "markdown",
   "id": "27bc6f52",
   "metadata": {},
   "source": [
    "nombre_infected       780\n",
    "nombre_sain          2181\n",
    "nombre_exposed        422\n",
    "nombre_recovered    16617\n",
    "Name: 322, dtype: int64"
   ]
  },
  {
   "cell_type": "markdown",
   "id": "1ad90c88",
   "metadata": {},
   "source": [
    "nombre_infected       753\n",
    "nombre_sain          2186\n",
    "nombre_exposed        443\n",
    "nombre_recovered    16618\n",
    "Name: 323, dtype: int64"
   ]
  },
  {
   "cell_type": "markdown",
   "id": "3b5f22ce",
   "metadata": {},
   "source": [
    "nombre_infected       742\n",
    "nombre_sain          2201\n",
    "nombre_exposed        428\n",
    "nombre_recovered    16629\n",
    "Name: 324, dtype: int64"
   ]
  },
  {
   "cell_type": "markdown",
   "id": "add8faef",
   "metadata": {},
   "source": [
    "nombre_infected       744\n",
    "nombre_sain          2223\n",
    "nombre_exposed        420\n",
    "nombre_recovered    16613\n",
    "Name: 325, dtype: int64"
   ]
  },
  {
   "cell_type": "markdown",
   "id": "373de53b",
   "metadata": {},
   "source": [
    "nombre_infected       725\n",
    "nombre_sain          2256\n",
    "nombre_exposed        430\n",
    "nombre_recovered    16589\n",
    "Name: 326, dtype: int64"
   ]
  },
  {
   "cell_type": "markdown",
   "id": "23294a6f",
   "metadata": {},
   "source": [
    "nombre_infected       708\n",
    "nombre_sain          2278\n",
    "nombre_exposed        447\n",
    "nombre_recovered    16567\n",
    "Name: 327, dtype: int64"
   ]
  },
  {
   "cell_type": "markdown",
   "id": "af55d03f",
   "metadata": {},
   "source": [
    "nombre_infected       713\n",
    "nombre_sain          2307\n",
    "nombre_exposed        439\n",
    "nombre_recovered    16541\n",
    "Name: 328, dtype: int64"
   ]
  },
  {
   "cell_type": "markdown",
   "id": "257a3e7c",
   "metadata": {},
   "source": [
    "nombre_infected       704\n",
    "nombre_sain          2323\n",
    "nombre_exposed        445\n",
    "nombre_recovered    16528\n",
    "Name: 329, dtype: int64"
   ]
  },
  {
   "cell_type": "markdown",
   "id": "ce831915",
   "metadata": {},
   "source": [
    "nombre_infected       704\n",
    "nombre_sain          2371\n",
    "nombre_exposed        433\n",
    "nombre_recovered    16492\n",
    "Name: 330, dtype: int64"
   ]
  },
  {
   "cell_type": "markdown",
   "id": "da6c9346",
   "metadata": {},
   "source": [
    "nombre_infected       732\n",
    "nombre_sain          2377\n",
    "nombre_exposed        434\n",
    "nombre_recovered    16457\n",
    "Name: 331, dtype: int64"
   ]
  },
  {
   "cell_type": "markdown",
   "id": "46f941b8",
   "metadata": {},
   "source": [
    "nombre_infected       717\n",
    "nombre_sain          2436\n",
    "nombre_exposed        437\n",
    "nombre_recovered    16410\n",
    "Name: 332, dtype: int64"
   ]
  },
  {
   "cell_type": "markdown",
   "id": "9624b30d",
   "metadata": {},
   "source": [
    "nombre_infected       728\n",
    "nombre_sain          2502\n",
    "nombre_exposed        428\n",
    "nombre_recovered    16342\n",
    "Name: 333, dtype: int64"
   ]
  },
  {
   "cell_type": "markdown",
   "id": "d53120d4",
   "metadata": {},
   "source": [
    "nombre_infected       729\n",
    "nombre_sain          2512\n",
    "nombre_exposed        449\n",
    "nombre_recovered    16310\n",
    "Name: 334, dtype: int64"
   ]
  },
  {
   "cell_type": "markdown",
   "id": "861f7364",
   "metadata": {},
   "source": [
    "nombre_infected       729\n",
    "nombre_sain          2538\n",
    "nombre_exposed        467\n",
    "nombre_recovered    16266\n",
    "Name: 335, dtype: int64"
   ]
  },
  {
   "cell_type": "markdown",
   "id": "2813ed6f",
   "metadata": {},
   "source": [
    "nombre_infected       747\n",
    "nombre_sain          2554\n",
    "nombre_exposed        467\n",
    "nombre_recovered    16232\n",
    "Name: 336, dtype: int64"
   ]
  },
  {
   "cell_type": "markdown",
   "id": "cbd9186c",
   "metadata": {},
   "source": [
    "nombre_infected       755\n",
    "nombre_sain          2536\n",
    "nombre_exposed        488\n",
    "nombre_recovered    16221\n",
    "Name: 337, dtype: int64"
   ]
  },
  {
   "cell_type": "markdown",
   "id": "575215ed",
   "metadata": {},
   "source": [
    "nombre_infected       786\n",
    "nombre_sain          2519\n",
    "nombre_exposed        497\n",
    "nombre_recovered    16198\n",
    "Name: 338, dtype: int64"
   ]
  },
  {
   "cell_type": "markdown",
   "id": "e57db03f",
   "metadata": {},
   "source": [
    "nombre_infected       784\n",
    "nombre_sain          2544\n",
    "nombre_exposed        502\n",
    "nombre_recovered    16170\n",
    "Name: 339, dtype: int64"
   ]
  },
  {
   "cell_type": "markdown",
   "id": "a2958274",
   "metadata": {},
   "source": [
    "nombre_infected       785\n",
    "nombre_sain          2530\n",
    "nombre_exposed        508\n",
    "nombre_recovered    16177\n",
    "Name: 340, dtype: int64"
   ]
  },
  {
   "cell_type": "markdown",
   "id": "5996b3dc",
   "metadata": {},
   "source": [
    "nombre_infected       780\n",
    "nombre_sain          2496\n",
    "nombre_exposed        541\n",
    "nombre_recovered    16183\n",
    "Name: 341, dtype: int64"
   ]
  },
  {
   "cell_type": "markdown",
   "id": "3330b37b",
   "metadata": {},
   "source": [
    "nombre_infected       795\n",
    "nombre_sain          2499\n",
    "nombre_exposed        535\n",
    "nombre_recovered    16171\n",
    "Name: 342, dtype: int64"
   ]
  },
  {
   "cell_type": "markdown",
   "id": "2cc1927d",
   "metadata": {},
   "source": [
    "nombre_infected       821\n",
    "nombre_sain          2491\n",
    "nombre_exposed        537\n",
    "nombre_recovered    16151\n",
    "Name: 343, dtype: int64"
   ]
  },
  {
   "cell_type": "markdown",
   "id": "25835df2",
   "metadata": {},
   "source": [
    "nombre_infected       833\n",
    "nombre_sain          2495\n",
    "nombre_exposed        538\n",
    "nombre_recovered    16134\n",
    "Name: 344, dtype: int64"
   ]
  },
  {
   "cell_type": "markdown",
   "id": "359199d9",
   "metadata": {},
   "source": [
    "nombre_infected       867\n",
    "nombre_sain          2486\n",
    "nombre_exposed        527\n",
    "nombre_recovered    16120\n",
    "Name: 345, dtype: int64"
   ]
  },
  {
   "cell_type": "markdown",
   "id": "cc1a094e",
   "metadata": {},
   "source": [
    "nombre_infected       853\n",
    "nombre_sain          2500\n",
    "nombre_exposed        529\n",
    "nombre_recovered    16118\n",
    "Name: 346, dtype: int64"
   ]
  },
  {
   "cell_type": "markdown",
   "id": "7cc25d07",
   "metadata": {},
   "source": [
    "nombre_infected       862\n",
    "nombre_sain          2507\n",
    "nombre_exposed        538\n",
    "nombre_recovered    16093\n",
    "Name: 347, dtype: int64"
   ]
  },
  {
   "cell_type": "markdown",
   "id": "39b85afa",
   "metadata": {},
   "source": [
    "nombre_infected       861\n",
    "nombre_sain          2529\n",
    "nombre_exposed        553\n",
    "nombre_recovered    16057\n",
    "Name: 348, dtype: int64"
   ]
  },
  {
   "cell_type": "markdown",
   "id": "78e31ada",
   "metadata": {},
   "source": [
    "nombre_infected       874\n",
    "nombre_sain          2521\n",
    "nombre_exposed        558\n",
    "nombre_recovered    16047\n",
    "Name: 349, dtype: int64"
   ]
  },
  {
   "cell_type": "markdown",
   "id": "87dd96a1",
   "metadata": {},
   "source": [
    "nombre_infected       887\n",
    "nombre_sain          2493\n",
    "nombre_exposed        599\n",
    "nombre_recovered    16021\n",
    "Name: 350, dtype: int64"
   ]
  },
  {
   "cell_type": "markdown",
   "id": "bc56c020",
   "metadata": {},
   "source": [
    "nombre_infected       900\n",
    "nombre_sain          2487\n",
    "nombre_exposed        592\n",
    "nombre_recovered    16021\n",
    "Name: 351, dtype: int64"
   ]
  },
  {
   "cell_type": "markdown",
   "id": "776de275",
   "metadata": {},
   "source": [
    "nombre_infected       923\n",
    "nombre_sain          2465\n",
    "nombre_exposed        604\n",
    "nombre_recovered    16008\n",
    "Name: 352, dtype: int64"
   ]
  },
  {
   "cell_type": "markdown",
   "id": "c073418e",
   "metadata": {},
   "source": [
    "nombre_infected       929\n",
    "nombre_sain          2437\n",
    "nombre_exposed        618\n",
    "nombre_recovered    16016\n",
    "Name: 353, dtype: int64"
   ]
  },
  {
   "cell_type": "markdown",
   "id": "72fe0cc4",
   "metadata": {},
   "source": [
    "nombre_infected       937\n",
    "nombre_sain          2427\n",
    "nombre_exposed        609\n",
    "nombre_recovered    16027\n",
    "Name: 354, dtype: int64"
   ]
  },
  {
   "cell_type": "markdown",
   "id": "09f1b3af",
   "metadata": {},
   "source": [
    "nombre_infected       945\n",
    "nombre_sain          2422\n",
    "nombre_exposed        587\n",
    "nombre_recovered    16046\n",
    "Name: 355, dtype: int64"
   ]
  },
  {
   "cell_type": "markdown",
   "id": "a19ca207",
   "metadata": {},
   "source": [
    "nombre_infected       986\n",
    "nombre_sain          2413\n",
    "nombre_exposed        576\n",
    "nombre_recovered    16025\n",
    "Name: 356, dtype: int64"
   ]
  },
  {
   "cell_type": "markdown",
   "id": "03305cd8",
   "metadata": {},
   "source": [
    "nombre_infected       985\n",
    "nombre_sain          2393\n",
    "nombre_exposed        603\n",
    "nombre_recovered    16019\n",
    "Name: 357, dtype: int64"
   ]
  },
  {
   "cell_type": "markdown",
   "id": "d96f5b8c",
   "metadata": {},
   "source": [
    "nombre_infected       998\n",
    "nombre_sain          2386\n",
    "nombre_exposed        580\n",
    "nombre_recovered    16036\n",
    "Name: 358, dtype: int64"
   ]
  },
  {
   "cell_type": "markdown",
   "id": "32ecab8a",
   "metadata": {},
   "source": [
    "nombre_infected      1013\n",
    "nombre_sain          2363\n",
    "nombre_exposed        579\n",
    "nombre_recovered    16045\n",
    "Name: 359, dtype: int64"
   ]
  },
  {
   "cell_type": "markdown",
   "id": "7beab5b1",
   "metadata": {},
   "source": [
    "nombre_infected       993\n",
    "nombre_sain          2371\n",
    "nombre_exposed        596\n",
    "nombre_recovered    16040\n",
    "Name: 360, dtype: int64"
   ]
  },
  {
   "cell_type": "markdown",
   "id": "a0153084",
   "metadata": {},
   "source": [
    "nombre_infected       975\n",
    "nombre_sain          2366\n",
    "nombre_exposed        590\n",
    "nombre_recovered    16069\n",
    "Name: 361, dtype: int64"
   ]
  },
  {
   "cell_type": "markdown",
   "id": "60370354",
   "metadata": {},
   "source": [
    "nombre_infected      1002\n",
    "nombre_sain          2337\n",
    "nombre_exposed        590\n",
    "nombre_recovered    16071\n",
    "Name: 362, dtype: int64"
   ]
  },
  {
   "cell_type": "markdown",
   "id": "f0fa579c",
   "metadata": {},
   "source": [
    "nombre_infected      1006\n",
    "nombre_sain          2318\n",
    "nombre_exposed        595\n",
    "nombre_recovered    16081\n",
    "Name: 363, dtype: int64"
   ]
  },
  {
   "cell_type": "markdown",
   "id": "3b4f6455",
   "metadata": {},
   "source": [
    "nombre_infected      1010\n",
    "nombre_sain          2273\n",
    "nombre_exposed        613\n",
    "nombre_recovered    16104\n",
    "Name: 364, dtype: int64"
   ]
  },
  {
   "cell_type": "markdown",
   "id": "a9fbab64",
   "metadata": {},
   "source": [
    "nombre_infected      1007\n",
    "nombre_sain          2263\n",
    "nombre_exposed        608\n",
    "nombre_recovered    16122\n",
    "Name: 365, dtype: int64"
   ]
  },
  {
   "cell_type": "markdown",
   "id": "9f57e026",
   "metadata": {},
   "source": [
    "nombre_infected      1037\n",
    "nombre_sain          2267\n",
    "nombre_exposed        584\n",
    "nombre_recovered    16112\n",
    "Name: 366, dtype: int64"
   ]
  },
  {
   "cell_type": "markdown",
   "id": "50096ff8",
   "metadata": {},
   "source": [
    "nombre_infected      1031\n",
    "nombre_sain          2269\n",
    "nombre_exposed        566\n",
    "nombre_recovered    16134\n",
    "Name: 367, dtype: int64"
   ]
  },
  {
   "cell_type": "markdown",
   "id": "607c7786",
   "metadata": {},
   "source": [
    "nombre_infected      1030\n",
    "nombre_sain          2256\n",
    "nombre_exposed        579\n",
    "nombre_recovered    16135\n",
    "Name: 368, dtype: int64"
   ]
  },
  {
   "cell_type": "markdown",
   "id": "d7c0b8d1",
   "metadata": {},
   "source": [
    "nombre_infected      1051\n",
    "nombre_sain          2246\n",
    "nombre_exposed        576\n",
    "nombre_recovered    16127\n",
    "Name: 369, dtype: int64"
   ]
  },
  {
   "cell_type": "markdown",
   "id": "5f2ed982",
   "metadata": {},
   "source": [
    "nombre_infected      1049\n",
    "nombre_sain          2263\n",
    "nombre_exposed        573\n",
    "nombre_recovered    16115\n",
    "Name: 370, dtype: int64"
   ]
  },
  {
   "cell_type": "markdown",
   "id": "8ed9615a",
   "metadata": {},
   "source": [
    "nombre_infected      1052\n",
    "nombre_sain          2252\n",
    "nombre_exposed        584\n",
    "nombre_recovered    16112\n",
    "Name: 371, dtype: int64"
   ]
  },
  {
   "cell_type": "markdown",
   "id": "3139dd83",
   "metadata": {},
   "source": [
    "nombre_infected      1064\n",
    "nombre_sain          2216\n",
    "nombre_exposed        568\n",
    "nombre_recovered    16152\n",
    "Name: 372, dtype: int64"
   ]
  },
  {
   "cell_type": "markdown",
   "id": "cc22c73c",
   "metadata": {},
   "source": [
    "nombre_infected      1031\n",
    "nombre_sain          2202\n",
    "nombre_exposed        589\n",
    "nombre_recovered    16178\n",
    "Name: 373, dtype: int64"
   ]
  },
  {
   "cell_type": "markdown",
   "id": "155bb93e",
   "metadata": {},
   "source": [
    "nombre_infected      1022\n",
    "nombre_sain          2173\n",
    "nombre_exposed        589\n",
    "nombre_recovered    16216\n",
    "Name: 374, dtype: int64"
   ]
  },
  {
   "cell_type": "markdown",
   "id": "cd3c5b7c",
   "metadata": {},
   "source": [
    "nombre_infected      1006\n",
    "nombre_sain          2181\n",
    "nombre_exposed        599\n",
    "nombre_recovered    16214\n",
    "Name: 375, dtype: int64"
   ]
  },
  {
   "cell_type": "markdown",
   "id": "84492b45",
   "metadata": {},
   "source": [
    "nombre_infected       993\n",
    "nombre_sain          2184\n",
    "nombre_exposed        577\n",
    "nombre_recovered    16246\n",
    "Name: 376, dtype: int64"
   ]
  },
  {
   "cell_type": "markdown",
   "id": "cd02895f",
   "metadata": {},
   "source": [
    "nombre_infected      1002\n",
    "nombre_sain          2176\n",
    "nombre_exposed        569\n",
    "nombre_recovered    16253\n",
    "Name: 377, dtype: int64"
   ]
  },
  {
   "cell_type": "markdown",
   "id": "582b171a",
   "metadata": {},
   "source": [
    "nombre_infected      1006\n",
    "nombre_sain          2198\n",
    "nombre_exposed        539\n",
    "nombre_recovered    16257\n",
    "Name: 378, dtype: int64"
   ]
  },
  {
   "cell_type": "markdown",
   "id": "07d3c00d",
   "metadata": {},
   "source": [
    "nombre_infected      1014\n",
    "nombre_sain          2182\n",
    "nombre_exposed        551\n",
    "nombre_recovered    16253\n",
    "Name: 379, dtype: int64"
   ]
  },
  {
   "cell_type": "markdown",
   "id": "acd42efc",
   "metadata": {},
   "source": [
    "nombre_infected       976\n",
    "nombre_sain          2156\n",
    "nombre_exposed        589\n",
    "nombre_recovered    16279\n",
    "Name: 380, dtype: int64"
   ]
  },
  {
   "cell_type": "markdown",
   "id": "29b1d37c",
   "metadata": {},
   "source": [
    "nombre_infected       958\n",
    "nombre_sain          2150\n",
    "nombre_exposed        611\n",
    "nombre_recovered    16281\n",
    "Name: 381, dtype: int64"
   ]
  },
  {
   "cell_type": "markdown",
   "id": "35a0e7b9",
   "metadata": {},
   "source": [
    "nombre_infected       985\n",
    "nombre_sain          2171\n",
    "nombre_exposed        576\n",
    "nombre_recovered    16268\n",
    "Name: 382, dtype: int64"
   ]
  },
  {
   "cell_type": "markdown",
   "id": "95588ed2",
   "metadata": {},
   "source": [
    "nombre_infected       988\n",
    "nombre_sain          2169\n",
    "nombre_exposed        560\n",
    "nombre_recovered    16283\n",
    "Name: 383, dtype: int64"
   ]
  },
  {
   "cell_type": "markdown",
   "id": "a557c40f",
   "metadata": {},
   "source": [
    "nombre_infected       981\n",
    "nombre_sain          2168\n",
    "nombre_exposed        541\n",
    "nombre_recovered    16310\n",
    "Name: 384, dtype: int64"
   ]
  },
  {
   "cell_type": "markdown",
   "id": "b21ddcde",
   "metadata": {},
   "source": [
    "nombre_infected       973\n",
    "nombre_sain          2177\n",
    "nombre_exposed        536\n",
    "nombre_recovered    16314\n",
    "Name: 385, dtype: int64"
   ]
  },
  {
   "cell_type": "markdown",
   "id": "33421f88",
   "metadata": {},
   "source": [
    "nombre_infected       945\n",
    "nombre_sain          2173\n",
    "nombre_exposed        536\n",
    "nombre_recovered    16346\n",
    "Name: 386, dtype: int64"
   ]
  },
  {
   "cell_type": "markdown",
   "id": "205ca50d",
   "metadata": {},
   "source": [
    "nombre_infected       948\n",
    "nombre_sain          2157\n",
    "nombre_exposed        541\n",
    "nombre_recovered    16354\n",
    "Name: 387, dtype: int64"
   ]
  },
  {
   "cell_type": "markdown",
   "id": "c9859be9",
   "metadata": {},
   "source": [
    "nombre_infected       938\n",
    "nombre_sain          2147\n",
    "nombre_exposed        547\n",
    "nombre_recovered    16368\n",
    "Name: 388, dtype: int64"
   ]
  },
  {
   "cell_type": "markdown",
   "id": "f12f2ab4",
   "metadata": {},
   "source": [
    "nombre_infected       942\n",
    "nombre_sain          2151\n",
    "nombre_exposed        534\n",
    "nombre_recovered    16373\n",
    "Name: 389, dtype: int64"
   ]
  },
  {
   "cell_type": "markdown",
   "id": "23930586",
   "metadata": {},
   "source": [
    "nombre_infected       935\n",
    "nombre_sain          2175\n",
    "nombre_exposed        509\n",
    "nombre_recovered    16381\n",
    "Name: 390, dtype: int64"
   ]
  },
  {
   "cell_type": "markdown",
   "id": "84c6f9b1",
   "metadata": {},
   "source": [
    "nombre_infected       929\n",
    "nombre_sain          2197\n",
    "nombre_exposed        503\n",
    "nombre_recovered    16371\n",
    "Name: 391, dtype: int64"
   ]
  },
  {
   "cell_type": "markdown",
   "id": "12d7abf2",
   "metadata": {},
   "source": [
    "nombre_infected       919\n",
    "nombre_sain          2192\n",
    "nombre_exposed        504\n",
    "nombre_recovered    16385\n",
    "Name: 392, dtype: int64"
   ]
  },
  {
   "cell_type": "markdown",
   "id": "1b5877fb",
   "metadata": {},
   "source": [
    "nombre_infected       894\n",
    "nombre_sain          2206\n",
    "nombre_exposed        511\n",
    "nombre_recovered    16389\n",
    "Name: 393, dtype: int64"
   ]
  },
  {
   "cell_type": "markdown",
   "id": "ad34556c",
   "metadata": {},
   "source": [
    "nombre_infected       882\n",
    "nombre_sain          2194\n",
    "nombre_exposed        537\n",
    "nombre_recovered    16387\n",
    "Name: 394, dtype: int64"
   ]
  },
  {
   "cell_type": "markdown",
   "id": "d337e67e",
   "metadata": {},
   "source": [
    "nombre_infected       877\n",
    "nombre_sain          2196\n",
    "nombre_exposed        544\n",
    "nombre_recovered    16383\n",
    "Name: 395, dtype: int64"
   ]
  },
  {
   "cell_type": "markdown",
   "id": "283b52ad",
   "metadata": {},
   "source": [
    "nombre_infected       911\n",
    "nombre_sain          2201\n",
    "nombre_exposed        534\n",
    "nombre_recovered    16354\n",
    "Name: 396, dtype: int64"
   ]
  },
  {
   "cell_type": "markdown",
   "id": "0d92c6bc",
   "metadata": {},
   "source": [
    "nombre_infected       955\n",
    "nombre_sain          2192\n",
    "nombre_exposed        527\n",
    "nombre_recovered    16326\n",
    "Name: 397, dtype: int64"
   ]
  },
  {
   "cell_type": "markdown",
   "id": "fe39ac97",
   "metadata": {},
   "source": [
    "nombre_infected       952\n",
    "nombre_sain          2192\n",
    "nombre_exposed        531\n",
    "nombre_recovered    16325\n",
    "Name: 398, dtype: int64"
   ]
  },
  {
   "cell_type": "markdown",
   "id": "44fb065b",
   "metadata": {},
   "source": [
    "nombre_infected       937\n",
    "nombre_sain          2194\n",
    "nombre_exposed        522\n",
    "nombre_recovered    16347\n",
    "Name: 399, dtype: int64"
   ]
  },
  {
   "cell_type": "markdown",
   "id": "ff12d3c0",
   "metadata": {},
   "source": [
    "nombre_infected       953\n",
    "nombre_sain          2194\n",
    "nombre_exposed        516\n",
    "nombre_recovered    16337\n",
    "Name: 400, dtype: int64"
   ]
  },
  {
   "cell_type": "markdown",
   "id": "2be6703c",
   "metadata": {},
   "source": [
    "nombre_infected       927\n",
    "nombre_sain          2171\n",
    "nombre_exposed        557\n",
    "nombre_recovered    16345\n",
    "Name: 401, dtype: int64"
   ]
  },
  {
   "cell_type": "markdown",
   "id": "a0fa7bbc",
   "metadata": {},
   "source": [
    "nombre_infected       928\n",
    "nombre_sain          2152\n",
    "nombre_exposed        557\n",
    "nombre_recovered    16363\n",
    "Name: 402, dtype: int64"
   ]
  },
  {
   "cell_type": "markdown",
   "id": "11d7a71a",
   "metadata": {},
   "source": [
    "nombre_infected       951\n",
    "nombre_sain          2166\n",
    "nombre_exposed        531\n",
    "nombre_recovered    16352\n",
    "Name: 403, dtype: int64"
   ]
  },
  {
   "cell_type": "markdown",
   "id": "a758f596",
   "metadata": {},
   "source": [
    "nombre_infected       943\n",
    "nombre_sain          2178\n",
    "nombre_exposed        527\n",
    "nombre_recovered    16352\n",
    "Name: 404, dtype: int64"
   ]
  },
  {
   "cell_type": "markdown",
   "id": "3bf6cb0f",
   "metadata": {},
   "source": [
    "nombre_infected       935\n",
    "nombre_sain          2195\n",
    "nombre_exposed        515\n",
    "nombre_recovered    16355\n",
    "Name: 405, dtype: int64"
   ]
  },
  {
   "cell_type": "markdown",
   "id": "4442999a",
   "metadata": {},
   "source": [
    "nombre_infected       915\n",
    "nombre_sain          2189\n",
    "nombre_exposed        522\n",
    "nombre_recovered    16374\n",
    "Name: 406, dtype: int64"
   ]
  },
  {
   "cell_type": "markdown",
   "id": "1e6f87e9",
   "metadata": {},
   "source": [
    "nombre_infected       915\n",
    "nombre_sain          2170\n",
    "nombre_exposed        533\n",
    "nombre_recovered    16382\n",
    "Name: 407, dtype: int64"
   ]
  },
  {
   "cell_type": "markdown",
   "id": "b975b5d3",
   "metadata": {},
   "source": [
    "nombre_infected       919\n",
    "nombre_sain          2209\n",
    "nombre_exposed        511\n",
    "nombre_recovered    16361\n",
    "Name: 408, dtype: int64"
   ]
  },
  {
   "cell_type": "markdown",
   "id": "0d57d65e",
   "metadata": {},
   "source": [
    "nombre_infected       943\n",
    "nombre_sain          2207\n",
    "nombre_exposed        507\n",
    "nombre_recovered    16343\n",
    "Name: 409, dtype: int64"
   ]
  },
  {
   "cell_type": "markdown",
   "id": "5f333982",
   "metadata": {},
   "source": [
    "nombre_infected       914\n",
    "nombre_sain          2214\n",
    "nombre_exposed        511\n",
    "nombre_recovered    16361\n",
    "Name: 410, dtype: int64"
   ]
  },
  {
   "cell_type": "markdown",
   "id": "c1fa0b35",
   "metadata": {},
   "source": [
    "nombre_infected       889\n",
    "nombre_sain          2245\n",
    "nombre_exposed        517\n",
    "nombre_recovered    16349\n",
    "Name: 411, dtype: int64"
   ]
  },
  {
   "cell_type": "markdown",
   "id": "4348c0b1",
   "metadata": {},
   "source": [
    "nombre_infected       907\n",
    "nombre_sain          2273\n",
    "nombre_exposed        507\n",
    "nombre_recovered    16313\n",
    "Name: 412, dtype: int64"
   ]
  },
  {
   "cell_type": "markdown",
   "id": "39edb39e",
   "metadata": {},
   "source": [
    "nombre_infected       913\n",
    "nombre_sain          2232\n",
    "nombre_exposed        529\n",
    "nombre_recovered    16326\n",
    "Name: 413, dtype: int64"
   ]
  },
  {
   "cell_type": "markdown",
   "id": "8f541e6e",
   "metadata": {},
   "source": [
    "nombre_infected       901\n",
    "nombre_sain          2256\n",
    "nombre_exposed        537\n",
    "nombre_recovered    16306\n",
    "Name: 414, dtype: int64"
   ]
  },
  {
   "cell_type": "markdown",
   "id": "7fa343c8",
   "metadata": {},
   "source": [
    "nombre_infected       888\n",
    "nombre_sain          2261\n",
    "nombre_exposed        552\n",
    "nombre_recovered    16299\n",
    "Name: 415, dtype: int64"
   ]
  },
  {
   "cell_type": "markdown",
   "id": "759afbcd",
   "metadata": {},
   "source": [
    "nombre_infected       899\n",
    "nombre_sain          2292\n",
    "nombre_exposed        535\n",
    "nombre_recovered    16274\n",
    "Name: 416, dtype: int64"
   ]
  },
  {
   "cell_type": "markdown",
   "id": "7b41badd",
   "metadata": {},
   "source": [
    "nombre_infected       905\n",
    "nombre_sain          2296\n",
    "nombre_exposed        550\n",
    "nombre_recovered    16249\n",
    "Name: 417, dtype: int64"
   ]
  },
  {
   "cell_type": "markdown",
   "id": "a70b38d1",
   "metadata": {},
   "source": [
    "nombre_infected       917\n",
    "nombre_sain          2311\n",
    "nombre_exposed        542\n",
    "nombre_recovered    16230\n",
    "Name: 418, dtype: int64"
   ]
  },
  {
   "cell_type": "markdown",
   "id": "235ce660",
   "metadata": {},
   "source": [
    "nombre_infected       914\n",
    "nombre_sain          2293\n",
    "nombre_exposed        531\n",
    "nombre_recovered    16262\n",
    "Name: 419, dtype: int64"
   ]
  },
  {
   "cell_type": "markdown",
   "id": "e617a08d",
   "metadata": {},
   "source": [
    "nombre_infected       918\n",
    "nombre_sain          2298\n",
    "nombre_exposed        538\n",
    "nombre_recovered    16246\n",
    "Name: 420, dtype: int64"
   ]
  },
  {
   "cell_type": "markdown",
   "id": "5fce32a4",
   "metadata": {},
   "source": [
    "nombre_infected       897\n",
    "nombre_sain          2316\n",
    "nombre_exposed        544\n",
    "nombre_recovered    16243\n",
    "Name: 421, dtype: int64"
   ]
  },
  {
   "cell_type": "markdown",
   "id": "d4768420",
   "metadata": {},
   "source": [
    "nombre_infected       888\n",
    "nombre_sain          2363\n",
    "nombre_exposed        520\n",
    "nombre_recovered    16229\n",
    "Name: 422, dtype: int64"
   ]
  },
  {
   "cell_type": "markdown",
   "id": "5902408f",
   "metadata": {},
   "source": [
    "nombre_infected       892\n",
    "nombre_sain          2385\n",
    "nombre_exposed        513\n",
    "nombre_recovered    16210\n",
    "Name: 423, dtype: int64"
   ]
  },
  {
   "cell_type": "markdown",
   "id": "2fd27487",
   "metadata": {},
   "source": [
    "nombre_infected       892\n",
    "nombre_sain          2400\n",
    "nombre_exposed        526\n",
    "nombre_recovered    16182\n",
    "Name: 424, dtype: int64"
   ]
  },
  {
   "cell_type": "markdown",
   "id": "956e160e",
   "metadata": {},
   "source": [
    "nombre_infected       932\n",
    "nombre_sain          2399\n",
    "nombre_exposed        518\n",
    "nombre_recovered    16151\n",
    "Name: 425, dtype: int64"
   ]
  },
  {
   "cell_type": "markdown",
   "id": "2331de49",
   "metadata": {},
   "source": [
    "nombre_infected       919\n",
    "nombre_sain          2396\n",
    "nombre_exposed        533\n",
    "nombre_recovered    16152\n",
    "Name: 426, dtype: int64"
   ]
  },
  {
   "cell_type": "markdown",
   "id": "159fa308",
   "metadata": {},
   "source": [
    "nombre_infected       910\n",
    "nombre_sain          2359\n",
    "nombre_exposed        560\n",
    "nombre_recovered    16171\n",
    "Name: 427, dtype: int64"
   ]
  },
  {
   "cell_type": "markdown",
   "id": "437ac425",
   "metadata": {},
   "source": [
    "nombre_infected       919\n",
    "nombre_sain          2345\n",
    "nombre_exposed        565\n",
    "nombre_recovered    16171\n",
    "Name: 428, dtype: int64"
   ]
  },
  {
   "cell_type": "markdown",
   "id": "f159e5eb",
   "metadata": {},
   "source": [
    "nombre_infected       936\n",
    "nombre_sain          2330\n",
    "nombre_exposed        577\n",
    "nombre_recovered    16157\n",
    "Name: 429, dtype: int64"
   ]
  },
  {
   "cell_type": "markdown",
   "id": "67953798",
   "metadata": {},
   "source": [
    "nombre_infected       942\n",
    "nombre_sain          2319\n",
    "nombre_exposed        580\n",
    "nombre_recovered    16159\n",
    "Name: 430, dtype: int64"
   ]
  },
  {
   "cell_type": "markdown",
   "id": "ac717692",
   "metadata": {},
   "source": [
    "nombre_infected       980\n",
    "nombre_sain          2320\n",
    "nombre_exposed        563\n",
    "nombre_recovered    16137\n",
    "Name: 431, dtype: int64"
   ]
  },
  {
   "cell_type": "markdown",
   "id": "e06dd246",
   "metadata": {},
   "source": [
    "nombre_infected      1004\n",
    "nombre_sain          2324\n",
    "nombre_exposed        555\n",
    "nombre_recovered    16117\n",
    "Name: 432, dtype: int64"
   ]
  },
  {
   "cell_type": "markdown",
   "id": "b4caa85b",
   "metadata": {},
   "source": [
    "nombre_infected       998\n",
    "nombre_sain          2311\n",
    "nombre_exposed        564\n",
    "nombre_recovered    16127\n",
    "Name: 433, dtype: int64"
   ]
  },
  {
   "cell_type": "markdown",
   "id": "c0a72060",
   "metadata": {},
   "source": [
    "nombre_infected       973\n",
    "nombre_sain          2308\n",
    "nombre_exposed        585\n",
    "nombre_recovered    16134\n",
    "Name: 434, dtype: int64"
   ]
  },
  {
   "cell_type": "markdown",
   "id": "243926de",
   "metadata": {},
   "source": [
    "nombre_infected       972\n",
    "nombre_sain          2283\n",
    "nombre_exposed        592\n",
    "nombre_recovered    16153\n",
    "Name: 435, dtype: int64"
   ]
  },
  {
   "cell_type": "markdown",
   "id": "a5bd909c",
   "metadata": {},
   "source": [
    "nombre_infected       996\n",
    "nombre_sain          2288\n",
    "nombre_exposed        572\n",
    "nombre_recovered    16144\n",
    "Name: 436, dtype: int64"
   ]
  },
  {
   "cell_type": "markdown",
   "id": "698c0aa9",
   "metadata": {},
   "source": [
    "nombre_infected      1003\n",
    "nombre_sain          2249\n",
    "nombre_exposed        587\n",
    "nombre_recovered    16161\n",
    "Name: 437, dtype: int64"
   ]
  },
  {
   "cell_type": "markdown",
   "id": "71d810d5",
   "metadata": {},
   "source": [
    "nombre_infected      1027\n",
    "nombre_sain          2240\n",
    "nombre_exposed        583\n",
    "nombre_recovered    16150\n",
    "Name: 438, dtype: int64"
   ]
  },
  {
   "cell_type": "markdown",
   "id": "47b6eaca",
   "metadata": {},
   "source": [
    "nombre_infected      1046\n",
    "nombre_sain          2211\n",
    "nombre_exposed        548\n",
    "nombre_recovered    16195\n",
    "Name: 439, dtype: int64"
   ]
  },
  {
   "cell_type": "markdown",
   "id": "fdc5c478",
   "metadata": {},
   "source": [
    "nombre_infected      1051\n",
    "nombre_sain          2221\n",
    "nombre_exposed        532\n",
    "nombre_recovered    16196\n",
    "Name: 440, dtype: int64"
   ]
  },
  {
   "cell_type": "markdown",
   "id": "7a99e5da",
   "metadata": {},
   "source": [
    "nombre_infected      1056\n",
    "nombre_sain          2205\n",
    "nombre_exposed        534\n",
    "nombre_recovered    16205\n",
    "Name: 441, dtype: int64"
   ]
  },
  {
   "cell_type": "markdown",
   "id": "7712c0ac",
   "metadata": {},
   "source": [
    "nombre_infected      1059\n",
    "nombre_sain          2168\n",
    "nombre_exposed        545\n",
    "nombre_recovered    16228\n",
    "Name: 442, dtype: int64"
   ]
  },
  {
   "cell_type": "markdown",
   "id": "a43544ab",
   "metadata": {},
   "source": [
    "nombre_infected      1028\n",
    "nombre_sain          2141\n",
    "nombre_exposed        559\n",
    "nombre_recovered    16272\n",
    "Name: 443, dtype: int64"
   ]
  },
  {
   "cell_type": "markdown",
   "id": "08de809c",
   "metadata": {},
   "source": [
    "nombre_infected      1011\n",
    "nombre_sain          2114\n",
    "nombre_exposed        576\n",
    "nombre_recovered    16299\n",
    "Name: 444, dtype: int64"
   ]
  },
  {
   "cell_type": "markdown",
   "id": "43ca1072",
   "metadata": {},
   "source": [
    "nombre_infected      1006\n",
    "nombre_sain          2089\n",
    "nombre_exposed        572\n",
    "nombre_recovered    16333\n",
    "Name: 445, dtype: int64"
   ]
  },
  {
   "cell_type": "markdown",
   "id": "7bc4c369",
   "metadata": {},
   "source": [
    "nombre_infected      1008\n",
    "nombre_sain          2081\n",
    "nombre_exposed        545\n",
    "nombre_recovered    16366\n",
    "Name: 446, dtype: int64"
   ]
  },
  {
   "cell_type": "markdown",
   "id": "d3e6022e",
   "metadata": {},
   "source": [
    "nombre_infected      1024\n",
    "nombre_sain          2057\n",
    "nombre_exposed        521\n",
    "nombre_recovered    16398\n",
    "Name: 447, dtype: int64"
   ]
  },
  {
   "cell_type": "markdown",
   "id": "fa0d333e",
   "metadata": {},
   "source": [
    "nombre_infected      1009\n",
    "nombre_sain          2028\n",
    "nombre_exposed        537\n",
    "nombre_recovered    16426\n",
    "Name: 448, dtype: int64"
   ]
  },
  {
   "cell_type": "markdown",
   "id": "d7cca8b0",
   "metadata": {},
   "source": [
    "nombre_infected      1007\n",
    "nombre_sain          2022\n",
    "nombre_exposed        511\n",
    "nombre_recovered    16460\n",
    "Name: 449, dtype: int64"
   ]
  },
  {
   "cell_type": "markdown",
   "id": "eb4a79a3",
   "metadata": {},
   "source": [
    "nombre_infected       983\n",
    "nombre_sain          2035\n",
    "nombre_exposed        501\n",
    "nombre_recovered    16481\n",
    "Name: 450, dtype: int64"
   ]
  },
  {
   "cell_type": "markdown",
   "id": "f883025e",
   "metadata": {},
   "source": [
    "nombre_infected       974\n",
    "nombre_sain          2044\n",
    "nombre_exposed        487\n",
    "nombre_recovered    16495\n",
    "Name: 451, dtype: int64"
   ]
  },
  {
   "cell_type": "markdown",
   "id": "732a92a6",
   "metadata": {},
   "source": [
    "nombre_infected       958\n",
    "nombre_sain          2019\n",
    "nombre_exposed        507\n",
    "nombre_recovered    16516\n",
    "Name: 452, dtype: int64"
   ]
  },
  {
   "cell_type": "markdown",
   "id": "ceee56cf",
   "metadata": {},
   "source": [
    "nombre_infected       972\n",
    "nombre_sain          2027\n",
    "nombre_exposed        490\n",
    "nombre_recovered    16511\n",
    "Name: 453, dtype: int64"
   ]
  },
  {
   "cell_type": "markdown",
   "id": "2c5a3650",
   "metadata": {},
   "source": [
    "nombre_infected       968\n",
    "nombre_sain          2045\n",
    "nombre_exposed        467\n",
    "nombre_recovered    16520\n",
    "Name: 454, dtype: int64"
   ]
  },
  {
   "cell_type": "markdown",
   "id": "b1c35e2f",
   "metadata": {},
   "source": [
    "nombre_infected       956\n",
    "nombre_sain          2041\n",
    "nombre_exposed        447\n",
    "nombre_recovered    16556\n",
    "Name: 455, dtype: int64"
   ]
  },
  {
   "cell_type": "markdown",
   "id": "0aca492f",
   "metadata": {},
   "source": [
    "nombre_infected       915\n",
    "nombre_sain          2048\n",
    "nombre_exposed        450\n",
    "nombre_recovered    16587\n",
    "Name: 456, dtype: int64"
   ]
  },
  {
   "cell_type": "markdown",
   "id": "a2d47c5b",
   "metadata": {},
   "source": [
    "nombre_infected       898\n",
    "nombre_sain          2037\n",
    "nombre_exposed        461\n",
    "nombre_recovered    16604\n",
    "Name: 457, dtype: int64"
   ]
  },
  {
   "cell_type": "markdown",
   "id": "674d73fd",
   "metadata": {},
   "source": [
    "nombre_infected       910\n",
    "nombre_sain          2042\n",
    "nombre_exposed        470\n",
    "nombre_recovered    16578\n",
    "Name: 458, dtype: int64"
   ]
  },
  {
   "cell_type": "markdown",
   "id": "d03f1ab7",
   "metadata": {},
   "source": [
    "nombre_infected       897\n",
    "nombre_sain          2057\n",
    "nombre_exposed        459\n",
    "nombre_recovered    16587\n",
    "Name: 459, dtype: int64"
   ]
  },
  {
   "cell_type": "markdown",
   "id": "5543d44a",
   "metadata": {},
   "source": [
    "nombre_infected       892\n",
    "nombre_sain          2065\n",
    "nombre_exposed        451\n",
    "nombre_recovered    16592\n",
    "Name: 460, dtype: int64"
   ]
  },
  {
   "cell_type": "markdown",
   "id": "77d36e3b",
   "metadata": {},
   "source": [
    "nombre_infected       875\n",
    "nombre_sain          2085\n",
    "nombre_exposed        459\n",
    "nombre_recovered    16581\n",
    "Name: 461, dtype: int64"
   ]
  },
  {
   "cell_type": "markdown",
   "id": "953d6a90",
   "metadata": {},
   "source": [
    "nombre_infected       838\n",
    "nombre_sain          2122\n",
    "nombre_exposed        458\n",
    "nombre_recovered    16582\n",
    "Name: 462, dtype: int64"
   ]
  },
  {
   "cell_type": "markdown",
   "id": "cd36e29c",
   "metadata": {},
   "source": [
    "nombre_infected       819\n",
    "nombre_sain          2163\n",
    "nombre_exposed        442\n",
    "nombre_recovered    16576\n",
    "Name: 463, dtype: int64"
   ]
  },
  {
   "cell_type": "markdown",
   "id": "f5083614",
   "metadata": {},
   "source": [
    "nombre_infected       799\n",
    "nombre_sain          2195\n",
    "nombre_exposed        433\n",
    "nombre_recovered    16573\n",
    "Name: 464, dtype: int64"
   ]
  },
  {
   "cell_type": "markdown",
   "id": "1468b994",
   "metadata": {},
   "source": [
    "nombre_infected       811\n",
    "nombre_sain          2244\n",
    "nombre_exposed        408\n",
    "nombre_recovered    16537\n",
    "Name: 465, dtype: int64"
   ]
  },
  {
   "cell_type": "markdown",
   "id": "f99c703d",
   "metadata": {},
   "source": [
    "nombre_infected       803\n",
    "nombre_sain          2258\n",
    "nombre_exposed        405\n",
    "nombre_recovered    16534\n",
    "Name: 466, dtype: int64"
   ]
  },
  {
   "cell_type": "markdown",
   "id": "aa738b2a",
   "metadata": {},
   "source": [
    "nombre_infected       792\n",
    "nombre_sain          2244\n",
    "nombre_exposed        421\n",
    "nombre_recovered    16543\n",
    "Name: 467, dtype: int64"
   ]
  },
  {
   "cell_type": "markdown",
   "id": "65c486d4",
   "metadata": {},
   "source": [
    "nombre_infected       804\n",
    "nombre_sain          2276\n",
    "nombre_exposed        418\n",
    "nombre_recovered    16502\n",
    "Name: 468, dtype: int64"
   ]
  },
  {
   "cell_type": "markdown",
   "id": "33c7ddd1",
   "metadata": {},
   "source": [
    "nombre_infected       780\n",
    "nombre_sain          2268\n",
    "nombre_exposed        444\n",
    "nombre_recovered    16508\n",
    "Name: 469, dtype: int64"
   ]
  },
  {
   "cell_type": "markdown",
   "id": "67eb6a1d",
   "metadata": {},
   "source": [
    "nombre_infected       764\n",
    "nombre_sain          2268\n",
    "nombre_exposed        472\n",
    "nombre_recovered    16496\n",
    "Name: 470, dtype: int64"
   ]
  },
  {
   "cell_type": "markdown",
   "id": "59034166",
   "metadata": {},
   "source": [
    "nombre_infected       768\n",
    "nombre_sain          2247\n",
    "nombre_exposed        471\n",
    "nombre_recovered    16514\n",
    "Name: 471, dtype: int64"
   ]
  },
  {
   "cell_type": "markdown",
   "id": "08d97b1e",
   "metadata": {},
   "source": [
    "nombre_infected       788\n",
    "nombre_sain          2264\n",
    "nombre_exposed        453\n",
    "nombre_recovered    16495\n",
    "Name: 472, dtype: int64"
   ]
  },
  {
   "cell_type": "markdown",
   "id": "62732be4",
   "metadata": {},
   "source": [
    "nombre_infected       788\n",
    "nombre_sain          2299\n",
    "nombre_exposed        435\n",
    "nombre_recovered    16478\n",
    "Name: 473, dtype: int64"
   ]
  },
  {
   "cell_type": "markdown",
   "id": "3c624fec",
   "metadata": {},
   "source": [
    "nombre_infected       770\n",
    "nombre_sain          2336\n",
    "nombre_exposed        438\n",
    "nombre_recovered    16456\n",
    "Name: 474, dtype: int64"
   ]
  },
  {
   "cell_type": "markdown",
   "id": "b4e68a57",
   "metadata": {},
   "source": [
    "nombre_infected       773\n",
    "nombre_sain          2342\n",
    "nombre_exposed        442\n",
    "nombre_recovered    16443\n",
    "Name: 475, dtype: int64"
   ]
  },
  {
   "cell_type": "markdown",
   "id": "c912c7c2",
   "metadata": {},
   "source": [
    "nombre_infected       782\n",
    "nombre_sain          2385\n",
    "nombre_exposed        416\n",
    "nombre_recovered    16417\n",
    "Name: 476, dtype: int64"
   ]
  },
  {
   "cell_type": "markdown",
   "id": "afa92020",
   "metadata": {},
   "source": [
    "nombre_infected       765\n",
    "nombre_sain          2407\n",
    "nombre_exposed        411\n",
    "nombre_recovered    16417\n",
    "Name: 477, dtype: int64"
   ]
  },
  {
   "cell_type": "markdown",
   "id": "0fd92099",
   "metadata": {},
   "source": [
    "nombre_infected       767\n",
    "nombre_sain          2414\n",
    "nombre_exposed        421\n",
    "nombre_recovered    16398\n",
    "Name: 478, dtype: int64"
   ]
  },
  {
   "cell_type": "markdown",
   "id": "3318da38",
   "metadata": {},
   "source": [
    "nombre_infected       759\n",
    "nombre_sain          2446\n",
    "nombre_exposed        423\n",
    "nombre_recovered    16372\n",
    "Name: 479, dtype: int64"
   ]
  },
  {
   "cell_type": "markdown",
   "id": "f3347098",
   "metadata": {},
   "source": [
    "nombre_infected       745\n",
    "nombre_sain          2473\n",
    "nombre_exposed        435\n",
    "nombre_recovered    16347\n",
    "Name: 480, dtype: int64"
   ]
  },
  {
   "cell_type": "markdown",
   "id": "5e6bc0b1",
   "metadata": {},
   "source": [
    "nombre_infected       766\n",
    "nombre_sain          2483\n",
    "nombre_exposed        434\n",
    "nombre_recovered    16317\n",
    "Name: 481, dtype: int64"
   ]
  },
  {
   "cell_type": "markdown",
   "id": "effff868",
   "metadata": {},
   "source": [
    "nombre_infected       764\n",
    "nombre_sain          2504\n",
    "nombre_exposed        434\n",
    "nombre_recovered    16298\n",
    "Name: 482, dtype: int64"
   ]
  },
  {
   "cell_type": "markdown",
   "id": "204029b4",
   "metadata": {},
   "source": [
    "nombre_infected       773\n",
    "nombre_sain          2519\n",
    "nombre_exposed        441\n",
    "nombre_recovered    16267\n",
    "Name: 483, dtype: int64"
   ]
  },
  {
   "cell_type": "markdown",
   "id": "0be987b5",
   "metadata": {},
   "source": [
    "nombre_infected       784\n",
    "nombre_sain          2509\n",
    "nombre_exposed        458\n",
    "nombre_recovered    16249\n",
    "Name: 484, dtype: int64"
   ]
  },
  {
   "cell_type": "markdown",
   "id": "74a4c91f",
   "metadata": {},
   "source": [
    "nombre_infected       783\n",
    "nombre_sain          2519\n",
    "nombre_exposed        456\n",
    "nombre_recovered    16242\n",
    "Name: 485, dtype: int64"
   ]
  },
  {
   "cell_type": "markdown",
   "id": "36b386dd",
   "metadata": {},
   "source": [
    "nombre_infected       794\n",
    "nombre_sain          2541\n",
    "nombre_exposed        457\n",
    "nombre_recovered    16208\n",
    "Name: 486, dtype: int64"
   ]
  },
  {
   "cell_type": "markdown",
   "id": "3977b808",
   "metadata": {},
   "source": [
    "nombre_infected       791\n",
    "nombre_sain          2573\n",
    "nombre_exposed        450\n",
    "nombre_recovered    16186\n",
    "Name: 487, dtype: int64"
   ]
  },
  {
   "cell_type": "markdown",
   "id": "96b7cf67",
   "metadata": {},
   "source": [
    "nombre_infected       817\n",
    "nombre_sain          2586\n",
    "nombre_exposed        432\n",
    "nombre_recovered    16165\n",
    "Name: 488, dtype: int64"
   ]
  },
  {
   "cell_type": "markdown",
   "id": "bfbcfcee",
   "metadata": {},
   "source": [
    "nombre_infected       850\n",
    "nombre_sain          2581\n",
    "nombre_exposed        447\n",
    "nombre_recovered    16122\n",
    "Name: 489, dtype: int64"
   ]
  },
  {
   "cell_type": "markdown",
   "id": "ea6dfa99",
   "metadata": {},
   "source": [
    "nombre_infected       841\n",
    "nombre_sain          2568\n",
    "nombre_exposed        487\n",
    "nombre_recovered    16104\n",
    "Name: 490, dtype: int64"
   ]
  },
  {
   "cell_type": "markdown",
   "id": "26832f16",
   "metadata": {},
   "source": [
    "nombre_infected       852\n",
    "nombre_sain          2578\n",
    "nombre_exposed        487\n",
    "nombre_recovered    16083\n",
    "Name: 491, dtype: int64"
   ]
  },
  {
   "cell_type": "markdown",
   "id": "728ea817",
   "metadata": {},
   "source": [
    "nombre_infected       884\n",
    "nombre_sain          2596\n",
    "nombre_exposed        486\n",
    "nombre_recovered    16034\n",
    "Name: 492, dtype: int64"
   ]
  },
  {
   "cell_type": "markdown",
   "id": "4ff74ab6",
   "metadata": {},
   "source": [
    "nombre_infected       881\n",
    "nombre_sain          2581\n",
    "nombre_exposed        501\n",
    "nombre_recovered    16037\n",
    "Name: 493, dtype: int64"
   ]
  },
  {
   "cell_type": "markdown",
   "id": "fdd689b3",
   "metadata": {},
   "source": [
    "nombre_infected       878\n",
    "nombre_sain          2579\n",
    "nombre_exposed        511\n",
    "nombre_recovered    16032\n",
    "Name: 494, dtype: int64"
   ]
  },
  {
   "cell_type": "markdown",
   "id": "063e66fa",
   "metadata": {},
   "source": [
    "nombre_infected       903\n",
    "nombre_sain          2569\n",
    "nombre_exposed        496\n",
    "nombre_recovered    16032\n",
    "Name: 495, dtype: int64"
   ]
  },
  {
   "cell_type": "markdown",
   "id": "61b99a03",
   "metadata": {},
   "source": [
    "nombre_infected       934\n",
    "nombre_sain          2537\n",
    "nombre_exposed        510\n",
    "nombre_recovered    16019\n",
    "Name: 496, dtype: int64"
   ]
  },
  {
   "cell_type": "markdown",
   "id": "0371f1d8",
   "metadata": {},
   "source": [
    "nombre_infected       943\n",
    "nombre_sain          2481\n",
    "nombre_exposed        545\n",
    "nombre_recovered    16031\n",
    "Name: 497, dtype: int64"
   ]
  },
  {
   "cell_type": "markdown",
   "id": "68b18e69",
   "metadata": {},
   "source": [
    "nombre_infected       935\n",
    "nombre_sain          2445\n",
    "nombre_exposed        576\n",
    "nombre_recovered    16044\n",
    "Name: 498, dtype: int64"
   ]
  },
  {
   "cell_type": "markdown",
   "id": "2afa2a03",
   "metadata": {},
   "source": [
    "nombre_infected       938\n",
    "nombre_sain          2463\n",
    "nombre_exposed        585\n",
    "nombre_recovered    16014\n",
    "Name: 499, dtype: int64"
   ]
  },
  {
   "cell_type": "markdown",
   "id": "1eaa2d0f",
   "metadata": {},
   "source": [
    "nombre_infected       971\n",
    "nombre_sain          2398\n",
    "nombre_exposed        605\n",
    "nombre_recovered    16026\n",
    "Name: 500, dtype: int64"
   ]
  },
  {
   "cell_type": "markdown",
   "id": "7eabbbd1",
   "metadata": {},
   "source": [
    "nombre_infected       998\n",
    "nombre_sain          2380\n",
    "nombre_exposed        594\n",
    "nombre_recovered    16028\n",
    "Name: 501, dtype: int64"
   ]
  },
  {
   "cell_type": "markdown",
   "id": "ec0030ca",
   "metadata": {},
   "source": [
    "nombre_infected      1005\n",
    "nombre_sain          2325\n",
    "nombre_exposed        619\n",
    "nombre_recovered    16051\n",
    "Name: 502, dtype: int64"
   ]
  },
  {
   "cell_type": "markdown",
   "id": "00864c72",
   "metadata": {},
   "source": [
    "nombre_infected      1048\n",
    "nombre_sain          2309\n",
    "nombre_exposed        607\n",
    "nombre_recovered    16036\n",
    "Name: 503, dtype: int64"
   ]
  },
  {
   "cell_type": "markdown",
   "id": "8ec2f83b",
   "metadata": {},
   "source": [
    "nombre_infected      1042\n",
    "nombre_sain          2246\n",
    "nombre_exposed        630\n",
    "nombre_recovered    16082\n",
    "Name: 504, dtype: int64"
   ]
  },
  {
   "cell_type": "markdown",
   "id": "88478ea8",
   "metadata": {},
   "source": [
    "nombre_infected      1041\n",
    "nombre_sain          2202\n",
    "nombre_exposed        631\n",
    "nombre_recovered    16126\n",
    "Name: 505, dtype: int64"
   ]
  },
  {
   "cell_type": "markdown",
   "id": "7a6ff5f7",
   "metadata": {},
   "source": [
    "nombre_infected      1069\n",
    "nombre_sain          2191\n",
    "nombre_exposed        608\n",
    "nombre_recovered    16132\n",
    "Name: 506, dtype: int64"
   ]
  },
  {
   "cell_type": "markdown",
   "id": "4411d284",
   "metadata": {},
   "source": [
    "nombre_infected      1091\n",
    "nombre_sain          2176\n",
    "nombre_exposed        583\n",
    "nombre_recovered    16150\n",
    "Name: 507, dtype: int64"
   ]
  },
  {
   "cell_type": "markdown",
   "id": "a9d4a2e5",
   "metadata": {},
   "source": [
    "nombre_infected      1083\n",
    "nombre_sain          2150\n",
    "nombre_exposed        579\n",
    "nombre_recovered    16188\n",
    "Name: 508, dtype: int64"
   ]
  },
  {
   "cell_type": "markdown",
   "id": "adbfd2b8",
   "metadata": {},
   "source": [
    "nombre_infected      1117\n",
    "nombre_sain          2097\n",
    "nombre_exposed        552\n",
    "nombre_recovered    16234\n",
    "Name: 509, dtype: int64"
   ]
  },
  {
   "cell_type": "markdown",
   "id": "a1dc0f9b",
   "metadata": {},
   "source": [
    "nombre_infected      1103\n",
    "nombre_sain          2061\n",
    "nombre_exposed        554\n",
    "nombre_recovered    16282\n",
    "Name: 510, dtype: int64"
   ]
  },
  {
   "cell_type": "markdown",
   "id": "d16171cc",
   "metadata": {},
   "source": [
    "nombre_infected      1090\n",
    "nombre_sain          2071\n",
    "nombre_exposed        554\n",
    "nombre_recovered    16285\n",
    "Name: 511, dtype: int64"
   ]
  },
  {
   "cell_type": "markdown",
   "id": "92f23045",
   "metadata": {},
   "source": [
    "nombre_infected      1070\n",
    "nombre_sain          2055\n",
    "nombre_exposed        549\n",
    "nombre_recovered    16326\n",
    "Name: 512, dtype: int64"
   ]
  },
  {
   "cell_type": "markdown",
   "id": "011292d9",
   "metadata": {},
   "source": [
    "nombre_infected      1061\n",
    "nombre_sain          2038\n",
    "nombre_exposed        563\n",
    "nombre_recovered    16338\n",
    "Name: 513, dtype: int64"
   ]
  },
  {
   "cell_type": "markdown",
   "id": "8ec58070",
   "metadata": {},
   "source": [
    "nombre_infected      1073\n",
    "nombre_sain          2031\n",
    "nombre_exposed        533\n",
    "nombre_recovered    16363\n",
    "Name: 514, dtype: int64"
   ]
  },
  {
   "cell_type": "markdown",
   "id": "2cd872b3",
   "metadata": {},
   "source": [
    "nombre_infected      1078\n",
    "nombre_sain          2008\n",
    "nombre_exposed        529\n",
    "nombre_recovered    16385\n",
    "Name: 515, dtype: int64"
   ]
  },
  {
   "cell_type": "markdown",
   "id": "aea5220d",
   "metadata": {},
   "source": [
    "nombre_infected      1069\n",
    "nombre_sain          1998\n",
    "nombre_exposed        536\n",
    "nombre_recovered    16397\n",
    "Name: 516, dtype: int64"
   ]
  },
  {
   "cell_type": "markdown",
   "id": "8e7e8fc4",
   "metadata": {},
   "source": [
    "nombre_infected      1044\n",
    "nombre_sain          2011\n",
    "nombre_exposed        518\n",
    "nombre_recovered    16427\n",
    "Name: 517, dtype: int64"
   ]
  },
  {
   "cell_type": "markdown",
   "id": "69b5a22e",
   "metadata": {},
   "source": [
    "nombre_infected      1025\n",
    "nombre_sain          2028\n",
    "nombre_exposed        507\n",
    "nombre_recovered    16440\n",
    "Name: 518, dtype: int64"
   ]
  },
  {
   "cell_type": "markdown",
   "id": "3c8c72f8",
   "metadata": {},
   "source": [
    "nombre_infected      1017\n",
    "nombre_sain          2000\n",
    "nombre_exposed        522\n",
    "nombre_recovered    16461\n",
    "Name: 519, dtype: int64"
   ]
  },
  {
   "cell_type": "markdown",
   "id": "c2a12104",
   "metadata": {},
   "source": [
    "nombre_infected      1007\n",
    "nombre_sain          2012\n",
    "nombre_exposed        528\n",
    "nombre_recovered    16453\n",
    "Name: 520, dtype: int64"
   ]
  },
  {
   "cell_type": "markdown",
   "id": "06345aef",
   "metadata": {},
   "source": [
    "nombre_infected       958\n",
    "nombre_sain          2043\n",
    "nombre_exposed        539\n",
    "nombre_recovered    16460\n",
    "Name: 521, dtype: int64"
   ]
  },
  {
   "cell_type": "markdown",
   "id": "781630fe",
   "metadata": {},
   "source": [
    "nombre_infected       907\n",
    "nombre_sain          2068\n",
    "nombre_exposed        548\n",
    "nombre_recovered    16477\n",
    "Name: 522, dtype: int64"
   ]
  },
  {
   "cell_type": "markdown",
   "id": "120b7d0b",
   "metadata": {},
   "source": [
    "nombre_infected       907\n",
    "nombre_sain          2091\n",
    "nombre_exposed        511\n",
    "nombre_recovered    16491\n",
    "Name: 523, dtype: int64"
   ]
  },
  {
   "cell_type": "markdown",
   "id": "167efef6",
   "metadata": {},
   "source": [
    "nombre_infected       905\n",
    "nombre_sain          2103\n",
    "nombre_exposed        511\n",
    "nombre_recovered    16481\n",
    "Name: 524, dtype: int64"
   ]
  },
  {
   "cell_type": "markdown",
   "id": "d60bffc6",
   "metadata": {},
   "source": [
    "nombre_infected       926\n",
    "nombre_sain          2126\n",
    "nombre_exposed        487\n",
    "nombre_recovered    16461\n",
    "Name: 525, dtype: int64"
   ]
  },
  {
   "cell_type": "markdown",
   "id": "cd368b5c",
   "metadata": {},
   "source": [
    "nombre_infected       936\n",
    "nombre_sain          2125\n",
    "nombre_exposed        500\n",
    "nombre_recovered    16439\n",
    "Name: 526, dtype: int64"
   ]
  },
  {
   "cell_type": "markdown",
   "id": "d966da9e",
   "metadata": {},
   "source": [
    "nombre_infected       909\n",
    "nombre_sain          2159\n",
    "nombre_exposed        516\n",
    "nombre_recovered    16416\n",
    "Name: 527, dtype: int64"
   ]
  },
  {
   "cell_type": "markdown",
   "id": "2c14b1af",
   "metadata": {},
   "source": [
    "nombre_infected       897\n",
    "nombre_sain          2198\n",
    "nombre_exposed        518\n",
    "nombre_recovered    16387\n",
    "Name: 528, dtype: int64"
   ]
  },
  {
   "cell_type": "markdown",
   "id": "bd2bb81d",
   "metadata": {},
   "source": [
    "nombre_infected       889\n",
    "nombre_sain          2215\n",
    "nombre_exposed        520\n",
    "nombre_recovered    16376\n",
    "Name: 529, dtype: int64"
   ]
  },
  {
   "cell_type": "markdown",
   "id": "e2f26c2d",
   "metadata": {},
   "source": [
    "nombre_infected       883\n",
    "nombre_sain          2235\n",
    "nombre_exposed        523\n",
    "nombre_recovered    16359\n",
    "Name: 530, dtype: int64"
   ]
  },
  {
   "cell_type": "markdown",
   "id": "9f3c201e",
   "metadata": {},
   "source": [
    "nombre_infected       855\n",
    "nombre_sain          2265\n",
    "nombre_exposed        519\n",
    "nombre_recovered    16361\n",
    "Name: 531, dtype: int64"
   ]
  },
  {
   "cell_type": "markdown",
   "id": "898baab8",
   "metadata": {},
   "source": [
    "nombre_infected       867\n",
    "nombre_sain          2298\n",
    "nombre_exposed        519\n",
    "nombre_recovered    16316\n",
    "Name: 532, dtype: int64"
   ]
  },
  {
   "cell_type": "markdown",
   "id": "6fb330fc",
   "metadata": {},
   "source": [
    "nombre_infected       858\n",
    "nombre_sain          2293\n",
    "nombre_exposed        544\n",
    "nombre_recovered    16305\n",
    "Name: 533, dtype: int64"
   ]
  },
  {
   "cell_type": "markdown",
   "id": "954bf043",
   "metadata": {},
   "source": [
    "nombre_infected       877\n",
    "nombre_sain          2342\n",
    "nombre_exposed        517\n",
    "nombre_recovered    16264\n",
    "Name: 534, dtype: int64"
   ]
  },
  {
   "cell_type": "markdown",
   "id": "b84464aa",
   "metadata": {},
   "source": [
    "nombre_infected       897\n",
    "nombre_sain          2371\n",
    "nombre_exposed        496\n",
    "nombre_recovered    16236\n",
    "Name: 535, dtype: int64"
   ]
  },
  {
   "cell_type": "markdown",
   "id": "360f267c",
   "metadata": {},
   "source": [
    "nombre_infected       909\n",
    "nombre_sain          2363\n",
    "nombre_exposed        516\n",
    "nombre_recovered    16212\n",
    "Name: 536, dtype: int64"
   ]
  },
  {
   "cell_type": "markdown",
   "id": "c49b2d97",
   "metadata": {},
   "source": [
    "nombre_infected       903\n",
    "nombre_sain          2380\n",
    "nombre_exposed        528\n",
    "nombre_recovered    16189\n",
    "Name: 537, dtype: int64"
   ]
  },
  {
   "cell_type": "markdown",
   "id": "dc44e712",
   "metadata": {},
   "source": [
    "nombre_infected       900\n",
    "nombre_sain          2382\n",
    "nombre_exposed        541\n",
    "nombre_recovered    16177\n",
    "Name: 538, dtype: int64"
   ]
  },
  {
   "cell_type": "markdown",
   "id": "a4e6740d",
   "metadata": {},
   "source": [
    "nombre_infected       865\n",
    "nombre_sain          2358\n",
    "nombre_exposed        559\n",
    "nombre_recovered    16218\n",
    "Name: 539, dtype: int64"
   ]
  },
  {
   "cell_type": "markdown",
   "id": "e8fd987e",
   "metadata": {},
   "source": [
    "nombre_infected       845\n",
    "nombre_sain          2381\n",
    "nombre_exposed        564\n",
    "nombre_recovered    16210\n",
    "Name: 540, dtype: int64"
   ]
  },
  {
   "cell_type": "markdown",
   "id": "75489f43",
   "metadata": {},
   "source": [
    "nombre_infected       841\n",
    "nombre_sain          2374\n",
    "nombre_exposed        572\n",
    "nombre_recovered    16213\n",
    "Name: 541, dtype: int64"
   ]
  },
  {
   "cell_type": "markdown",
   "id": "d6a90436",
   "metadata": {},
   "source": [
    "nombre_infected       869\n",
    "nombre_sain          2394\n",
    "nombre_exposed        553\n",
    "nombre_recovered    16184\n",
    "Name: 542, dtype: int64"
   ]
  },
  {
   "cell_type": "markdown",
   "id": "6a6ba8d6",
   "metadata": {},
   "source": [
    "nombre_infected       871\n",
    "nombre_sain          2373\n",
    "nombre_exposed        574\n",
    "nombre_recovered    16182\n",
    "Name: 543, dtype: int64"
   ]
  },
  {
   "cell_type": "markdown",
   "id": "e4f9f240",
   "metadata": {},
   "source": [
    "nombre_infected       871\n",
    "nombre_sain          2376\n",
    "nombre_exposed        569\n",
    "nombre_recovered    16184\n",
    "Name: 544, dtype: int64"
   ]
  },
  {
   "cell_type": "markdown",
   "id": "19ef89f2",
   "metadata": {},
   "source": [
    "nombre_infected       871\n",
    "nombre_sain          2367\n",
    "nombre_exposed        576\n",
    "nombre_recovered    16186\n",
    "Name: 545, dtype: int64"
   ]
  },
  {
   "cell_type": "markdown",
   "id": "af95a997",
   "metadata": {},
   "source": [
    "nombre_infected       883\n",
    "nombre_sain          2336\n",
    "nombre_exposed        600\n",
    "nombre_recovered    16181\n",
    "Name: 546, dtype: int64"
   ]
  },
  {
   "cell_type": "markdown",
   "id": "50a64699",
   "metadata": {},
   "source": [
    "nombre_infected       879\n",
    "nombre_sain          2341\n",
    "nombre_exposed        593\n",
    "nombre_recovered    16187\n",
    "Name: 547, dtype: int64"
   ]
  },
  {
   "cell_type": "markdown",
   "id": "aeea0c35",
   "metadata": {},
   "source": [
    "nombre_infected       912\n",
    "nombre_sain          2377\n",
    "nombre_exposed        552\n",
    "nombre_recovered    16159\n",
    "Name: 548, dtype: int64"
   ]
  },
  {
   "cell_type": "markdown",
   "id": "989e2ca9",
   "metadata": {},
   "source": [
    "nombre_infected       936\n",
    "nombre_sain          2368\n",
    "nombre_exposed        535\n",
    "nombre_recovered    16161\n",
    "Name: 549, dtype: int64"
   ]
  },
  {
   "cell_type": "markdown",
   "id": "ecba6c04",
   "metadata": {},
   "source": [
    "nombre_infected       926\n",
    "nombre_sain          2398\n",
    "nombre_exposed        526\n",
    "nombre_recovered    16150\n",
    "Name: 550, dtype: int64"
   ]
  },
  {
   "cell_type": "markdown",
   "id": "1adb9a7d",
   "metadata": {},
   "source": [
    "nombre_infected       937\n",
    "nombre_sain          2390\n",
    "nombre_exposed        549\n",
    "nombre_recovered    16124\n",
    "Name: 551, dtype: int64"
   ]
  },
  {
   "cell_type": "markdown",
   "id": "af5ae249",
   "metadata": {},
   "source": [
    "nombre_infected       920\n",
    "nombre_sain          2354\n",
    "nombre_exposed        583\n",
    "nombre_recovered    16143\n",
    "Name: 552, dtype: int64"
   ]
  },
  {
   "cell_type": "markdown",
   "id": "9aa1d982",
   "metadata": {},
   "source": [
    "nombre_infected       943\n",
    "nombre_sain          2346\n",
    "nombre_exposed        576\n",
    "nombre_recovered    16135\n",
    "Name: 553, dtype: int64"
   ]
  },
  {
   "cell_type": "markdown",
   "id": "3e477c3f",
   "metadata": {},
   "source": [
    "nombre_infected       923\n",
    "nombre_sain          2340\n",
    "nombre_exposed        588\n",
    "nombre_recovered    16149\n",
    "Name: 554, dtype: int64"
   ]
  },
  {
   "cell_type": "markdown",
   "id": "a63467e9",
   "metadata": {},
   "source": [
    "nombre_infected       936\n",
    "nombre_sain          2360\n",
    "nombre_exposed        571\n",
    "nombre_recovered    16133\n",
    "Name: 555, dtype: int64"
   ]
  },
  {
   "cell_type": "markdown",
   "id": "ebda61b3",
   "metadata": {},
   "source": [
    "nombre_infected       962\n",
    "nombre_sain          2351\n",
    "nombre_exposed        551\n",
    "nombre_recovered    16136\n",
    "Name: 556, dtype: int64"
   ]
  },
  {
   "cell_type": "markdown",
   "id": "ff10995b",
   "metadata": {},
   "source": [
    "nombre_infected       954\n",
    "nombre_sain          2339\n",
    "nombre_exposed        551\n",
    "nombre_recovered    16156\n",
    "Name: 557, dtype: int64"
   ]
  },
  {
   "cell_type": "markdown",
   "id": "0fb44ebc",
   "metadata": {},
   "source": [
    "nombre_infected       944\n",
    "nombre_sain          2338\n",
    "nombre_exposed        560\n",
    "nombre_recovered    16158\n",
    "Name: 558, dtype: int64"
   ]
  },
  {
   "cell_type": "markdown",
   "id": "a7cb1ee6",
   "metadata": {},
   "source": [
    "nombre_infected       960\n",
    "nombre_sain          2338\n",
    "nombre_exposed        521\n",
    "nombre_recovered    16181\n",
    "Name: 559, dtype: int64"
   ]
  },
  {
   "cell_type": "markdown",
   "id": "3eb2ff2c",
   "metadata": {},
   "source": [
    "nombre_infected       946\n",
    "nombre_sain          2330\n",
    "nombre_exposed        519\n",
    "nombre_recovered    16205\n",
    "Name: 560, dtype: int64"
   ]
  },
  {
   "cell_type": "markdown",
   "id": "98bc7b00",
   "metadata": {},
   "source": [
    "nombre_infected       953\n",
    "nombre_sain          2317\n",
    "nombre_exposed        512\n",
    "nombre_recovered    16218\n",
    "Name: 561, dtype: int64"
   ]
  },
  {
   "cell_type": "markdown",
   "id": "21f9a4ac",
   "metadata": {},
   "source": [
    "nombre_infected       936\n",
    "nombre_sain          2270\n",
    "nombre_exposed        564\n",
    "nombre_recovered    16230\n",
    "Name: 562, dtype: int64"
   ]
  },
  {
   "cell_type": "markdown",
   "id": "1de627de",
   "metadata": {},
   "source": [
    "nombre_infected       941\n",
    "nombre_sain          2265\n",
    "nombre_exposed        558\n",
    "nombre_recovered    16236\n",
    "Name: 563, dtype: int64"
   ]
  },
  {
   "cell_type": "markdown",
   "id": "58c6e3f6",
   "metadata": {},
   "source": [
    "nombre_infected       934\n",
    "nombre_sain          2277\n",
    "nombre_exposed        544\n",
    "nombre_recovered    16245\n",
    "Name: 564, dtype: int64"
   ]
  },
  {
   "cell_type": "markdown",
   "id": "3bd04a6f",
   "metadata": {},
   "source": [
    "nombre_infected       941\n",
    "nombre_sain          2264\n",
    "nombre_exposed        529\n",
    "nombre_recovered    16266\n",
    "Name: 565, dtype: int64"
   ]
  },
  {
   "cell_type": "markdown",
   "id": "16586379",
   "metadata": {},
   "source": [
    "nombre_infected       953\n",
    "nombre_sain          2252\n",
    "nombre_exposed        544\n",
    "nombre_recovered    16251\n",
    "Name: 566, dtype: int64"
   ]
  },
  {
   "cell_type": "markdown",
   "id": "2d4bdd17",
   "metadata": {},
   "source": [
    "nombre_infected       965\n",
    "nombre_sain          2263\n",
    "nombre_exposed        514\n",
    "nombre_recovered    16258\n",
    "Name: 567, dtype: int64"
   ]
  },
  {
   "cell_type": "markdown",
   "id": "7317c8ad",
   "metadata": {},
   "source": [
    "nombre_infected       974\n",
    "nombre_sain          2231\n",
    "nombre_exposed        506\n",
    "nombre_recovered    16289\n",
    "Name: 568, dtype: int64"
   ]
  },
  {
   "cell_type": "markdown",
   "id": "d3ab47c5",
   "metadata": {},
   "source": [
    "nombre_infected       961\n",
    "nombre_sain          2215\n",
    "nombre_exposed        519\n",
    "nombre_recovered    16305\n",
    "Name: 569, dtype: int64"
   ]
  },
  {
   "cell_type": "markdown",
   "id": "558f437e",
   "metadata": {},
   "source": [
    "nombre_infected       983\n",
    "nombre_sain          2189\n",
    "nombre_exposed        529\n",
    "nombre_recovered    16299\n",
    "Name: 570, dtype: int64"
   ]
  },
  {
   "cell_type": "markdown",
   "id": "bdaed15f",
   "metadata": {},
   "source": [
    "nombre_infected       962\n",
    "nombre_sain          2184\n",
    "nombre_exposed        529\n",
    "nombre_recovered    16325\n",
    "Name: 571, dtype: int64"
   ]
  },
  {
   "cell_type": "markdown",
   "id": "c705564c",
   "metadata": {},
   "source": [
    "nombre_infected       970\n",
    "nombre_sain          2163\n",
    "nombre_exposed        521\n",
    "nombre_recovered    16346\n",
    "Name: 572, dtype: int64"
   ]
  },
  {
   "cell_type": "markdown",
   "id": "c08f7bf1",
   "metadata": {},
   "source": [
    "nombre_infected       963\n",
    "nombre_sain          2154\n",
    "nombre_exposed        548\n",
    "nombre_recovered    16335\n",
    "Name: 573, dtype: int64"
   ]
  },
  {
   "cell_type": "markdown",
   "id": "b404c9a6",
   "metadata": {},
   "source": [
    "nombre_infected       956\n",
    "nombre_sain          2169\n",
    "nombre_exposed        524\n",
    "nombre_recovered    16351\n",
    "Name: 574, dtype: int64"
   ]
  },
  {
   "cell_type": "markdown",
   "id": "57451ee2",
   "metadata": {},
   "source": [
    "nombre_infected       965\n",
    "nombre_sain          2188\n",
    "nombre_exposed        491\n",
    "nombre_recovered    16356\n",
    "Name: 575, dtype: int64"
   ]
  },
  {
   "cell_type": "markdown",
   "id": "ca9653c6",
   "metadata": {},
   "source": [
    "nombre_infected       972\n",
    "nombre_sain          2179\n",
    "nombre_exposed        510\n",
    "nombre_recovered    16339\n",
    "Name: 576, dtype: int64"
   ]
  },
  {
   "cell_type": "markdown",
   "id": "c56c3eec",
   "metadata": {},
   "source": [
    "nombre_infected       948\n",
    "nombre_sain          2185\n",
    "nombre_exposed        524\n",
    "nombre_recovered    16343\n",
    "Name: 577, dtype: int64"
   ]
  },
  {
   "cell_type": "markdown",
   "id": "19ccca95",
   "metadata": {},
   "source": [
    "nombre_infected       945\n",
    "nombre_sain          2157\n",
    "nombre_exposed        554\n",
    "nombre_recovered    16344\n",
    "Name: 578, dtype: int64"
   ]
  },
  {
   "cell_type": "markdown",
   "id": "75a972b4",
   "metadata": {},
   "source": [
    "nombre_infected       949\n",
    "nombre_sain          2174\n",
    "nombre_exposed        528\n",
    "nombre_recovered    16349\n",
    "Name: 579, dtype: int64"
   ]
  },
  {
   "cell_type": "markdown",
   "id": "342050c9",
   "metadata": {},
   "source": [
    "nombre_infected       970\n",
    "nombre_sain          2216\n",
    "nombre_exposed        480\n",
    "nombre_recovered    16334\n",
    "Name: 580, dtype: int64"
   ]
  },
  {
   "cell_type": "markdown",
   "id": "2e164155",
   "metadata": {},
   "source": [
    "nombre_infected       946\n",
    "nombre_sain          2199\n",
    "nombre_exposed        491\n",
    "nombre_recovered    16364\n",
    "Name: 581, dtype: int64"
   ]
  },
  {
   "cell_type": "markdown",
   "id": "f3a3f4dc",
   "metadata": {},
   "source": [
    "nombre_infected       948\n",
    "nombre_sain          2199\n",
    "nombre_exposed        487\n",
    "nombre_recovered    16366\n",
    "Name: 582, dtype: int64"
   ]
  },
  {
   "cell_type": "markdown",
   "id": "51a9029c",
   "metadata": {},
   "source": [
    "nombre_infected       961\n",
    "nombre_sain          2219\n",
    "nombre_exposed        464\n",
    "nombre_recovered    16356\n",
    "Name: 583, dtype: int64"
   ]
  },
  {
   "cell_type": "markdown",
   "id": "17571d05",
   "metadata": {},
   "source": [
    "nombre_infected       967\n",
    "nombre_sain          2194\n",
    "nombre_exposed        487\n",
    "nombre_recovered    16352\n",
    "Name: 584, dtype: int64"
   ]
  },
  {
   "cell_type": "markdown",
   "id": "ba744ff4",
   "metadata": {},
   "source": [
    "nombre_infected       956\n",
    "nombre_sain          2190\n",
    "nombre_exposed        492\n",
    "nombre_recovered    16362\n",
    "Name: 585, dtype: int64"
   ]
  },
  {
   "cell_type": "markdown",
   "id": "75210813",
   "metadata": {},
   "source": [
    "nombre_infected       956\n",
    "nombre_sain          2190\n",
    "nombre_exposed        471\n",
    "nombre_recovered    16383\n",
    "Name: 586, dtype: int64"
   ]
  },
  {
   "cell_type": "markdown",
   "id": "992fe17e",
   "metadata": {},
   "source": [
    "nombre_infected       954\n",
    "nombre_sain          2188\n",
    "nombre_exposed        473\n",
    "nombre_recovered    16385\n",
    "Name: 587, dtype: int64"
   ]
  },
  {
   "cell_type": "markdown",
   "id": "e6d4e29c",
   "metadata": {},
   "source": [
    "nombre_infected       949\n",
    "nombre_sain          2175\n",
    "nombre_exposed        478\n",
    "nombre_recovered    16398\n",
    "Name: 588, dtype: int64"
   ]
  },
  {
   "cell_type": "markdown",
   "id": "d5d16d4d",
   "metadata": {},
   "source": [
    "nombre_infected       925\n",
    "nombre_sain          2173\n",
    "nombre_exposed        483\n",
    "nombre_recovered    16419\n",
    "Name: 589, dtype: int64"
   ]
  },
  {
   "cell_type": "markdown",
   "id": "f8929aad",
   "metadata": {},
   "source": [
    "nombre_infected       930\n",
    "nombre_sain          2158\n",
    "nombre_exposed        494\n",
    "nombre_recovered    16418\n",
    "Name: 590, dtype: int64"
   ]
  },
  {
   "cell_type": "markdown",
   "id": "96acd07b",
   "metadata": {},
   "source": [
    "nombre_infected       919\n",
    "nombre_sain          2161\n",
    "nombre_exposed        491\n",
    "nombre_recovered    16429\n",
    "Name: 591, dtype: int64"
   ]
  },
  {
   "cell_type": "markdown",
   "id": "8f41bdca",
   "metadata": {},
   "source": [
    "nombre_infected       911\n",
    "nombre_sain          2138\n",
    "nombre_exposed        494\n",
    "nombre_recovered    16457\n",
    "Name: 592, dtype: int64"
   ]
  },
  {
   "cell_type": "markdown",
   "id": "1553497a",
   "metadata": {},
   "source": [
    "nombre_infected       945\n",
    "nombre_sain          2141\n",
    "nombre_exposed        462\n",
    "nombre_recovered    16452\n",
    "Name: 593, dtype: int64"
   ]
  },
  {
   "cell_type": "markdown",
   "id": "9980adac",
   "metadata": {},
   "source": [
    "nombre_infected       937\n",
    "nombre_sain          2158\n",
    "nombre_exposed        464\n",
    "nombre_recovered    16441\n",
    "Name: 594, dtype: int64"
   ]
  },
  {
   "cell_type": "markdown",
   "id": "2b42898f",
   "metadata": {},
   "source": [
    "nombre_infected       918\n",
    "nombre_sain          2151\n",
    "nombre_exposed        476\n",
    "nombre_recovered    16455\n",
    "Name: 595, dtype: int64"
   ]
  },
  {
   "cell_type": "markdown",
   "id": "7e17061a",
   "metadata": {},
   "source": [
    "nombre_infected       924\n",
    "nombre_sain          2173\n",
    "nombre_exposed        444\n",
    "nombre_recovered    16459\n",
    "Name: 596, dtype: int64"
   ]
  },
  {
   "cell_type": "markdown",
   "id": "f7503569",
   "metadata": {},
   "source": [
    "nombre_infected       926\n",
    "nombre_sain          2168\n",
    "nombre_exposed        448\n",
    "nombre_recovered    16458\n",
    "Name: 597, dtype: int64"
   ]
  },
  {
   "cell_type": "markdown",
   "id": "9709889d",
   "metadata": {},
   "source": [
    "nombre_infected       913\n",
    "nombre_sain          2147\n",
    "nombre_exposed        462\n",
    "nombre_recovered    16478\n",
    "Name: 598, dtype: int64"
   ]
  },
  {
   "cell_type": "markdown",
   "id": "a794fd7f",
   "metadata": {},
   "source": [
    "nombre_infected       880\n",
    "nombre_sain          2112\n",
    "nombre_exposed        510\n",
    "nombre_recovered    16498\n",
    "Name: 599, dtype: int64"
   ]
  },
  {
   "cell_type": "markdown",
   "id": "e985839e",
   "metadata": {},
   "source": [
    "nombre_infected       883\n",
    "nombre_sain          2126\n",
    "nombre_exposed        491\n",
    "nombre_recovered    16500\n",
    "Name: 600, dtype: int64"
   ]
  },
  {
   "cell_type": "markdown",
   "id": "7006b1b7",
   "metadata": {},
   "source": [
    "nombre_infected       887\n",
    "nombre_sain          2131\n",
    "nombre_exposed        482\n",
    "nombre_recovered    16500\n",
    "Name: 601, dtype: int64"
   ]
  },
  {
   "cell_type": "markdown",
   "id": "2439ceea",
   "metadata": {},
   "source": [
    "nombre_infected       880\n",
    "nombre_sain          2140\n",
    "nombre_exposed        472\n",
    "nombre_recovered    16508\n",
    "Name: 602, dtype: int64"
   ]
  },
  {
   "cell_type": "markdown",
   "id": "065696e0",
   "metadata": {},
   "source": [
    "nombre_infected       882\n",
    "nombre_sain          2096\n",
    "nombre_exposed        484\n",
    "nombre_recovered    16538\n",
    "Name: 603, dtype: int64"
   ]
  },
  {
   "cell_type": "markdown",
   "id": "16dd951d",
   "metadata": {},
   "source": [
    "nombre_infected       855\n",
    "nombre_sain          2115\n",
    "nombre_exposed        499\n",
    "nombre_recovered    16531\n",
    "Name: 604, dtype: int64"
   ]
  },
  {
   "cell_type": "markdown",
   "id": "35405103",
   "metadata": {},
   "source": [
    "nombre_infected       860\n",
    "nombre_sain          2129\n",
    "nombre_exposed        478\n",
    "nombre_recovered    16533\n",
    "Name: 605, dtype: int64"
   ]
  },
  {
   "cell_type": "markdown",
   "id": "77786ef6",
   "metadata": {},
   "source": [
    "nombre_infected       880\n",
    "nombre_sain          2112\n",
    "nombre_exposed        481\n",
    "nombre_recovered    16527\n",
    "Name: 606, dtype: int64"
   ]
  },
  {
   "cell_type": "markdown",
   "id": "a56074df",
   "metadata": {},
   "source": [
    "nombre_infected       872\n",
    "nombre_sain          2085\n",
    "nombre_exposed        486\n",
    "nombre_recovered    16557\n",
    "Name: 607, dtype: int64"
   ]
  },
  {
   "cell_type": "markdown",
   "id": "1208449f",
   "metadata": {},
   "source": [
    "nombre_infected       880\n",
    "nombre_sain          2082\n",
    "nombre_exposed        469\n",
    "nombre_recovered    16569\n",
    "Name: 608, dtype: int64"
   ]
  },
  {
   "cell_type": "markdown",
   "id": "8ed5ffe5",
   "metadata": {},
   "source": [
    "nombre_infected       870\n",
    "nombre_sain          2068\n",
    "nombre_exposed        482\n",
    "nombre_recovered    16580\n",
    "Name: 609, dtype: int64"
   ]
  },
  {
   "cell_type": "markdown",
   "id": "5063cd7d",
   "metadata": {},
   "source": [
    "nombre_infected       859\n",
    "nombre_sain          2060\n",
    "nombre_exposed        496\n",
    "nombre_recovered    16585\n",
    "Name: 610, dtype: int64"
   ]
  },
  {
   "cell_type": "markdown",
   "id": "d3ec8d97",
   "metadata": {},
   "source": [
    "nombre_infected       849\n",
    "nombre_sain          2092\n",
    "nombre_exposed        483\n",
    "nombre_recovered    16576\n",
    "Name: 611, dtype: int64"
   ]
  },
  {
   "cell_type": "markdown",
   "id": "e5b7aebd",
   "metadata": {},
   "source": [
    "nombre_infected       861\n",
    "nombre_sain          2101\n",
    "nombre_exposed        475\n",
    "nombre_recovered    16563\n",
    "Name: 612, dtype: int64"
   ]
  },
  {
   "cell_type": "markdown",
   "id": "d6cba444",
   "metadata": {},
   "source": [
    "nombre_infected       839\n",
    "nombre_sain          2119\n",
    "nombre_exposed        462\n",
    "nombre_recovered    16580\n",
    "Name: 613, dtype: int64"
   ]
  },
  {
   "cell_type": "markdown",
   "id": "dfb0382a",
   "metadata": {},
   "source": [
    "nombre_infected       831\n",
    "nombre_sain          2145\n",
    "nombre_exposed        447\n",
    "nombre_recovered    16577\n",
    "Name: 614, dtype: int64"
   ]
  },
  {
   "cell_type": "markdown",
   "id": "e92ea182",
   "metadata": {},
   "source": [
    "nombre_infected       820\n",
    "nombre_sain          2173\n",
    "nombre_exposed        434\n",
    "nombre_recovered    16573\n",
    "Name: 615, dtype: int64"
   ]
  },
  {
   "cell_type": "markdown",
   "id": "2f6db18a",
   "metadata": {},
   "source": [
    "nombre_infected       805\n",
    "nombre_sain          2187\n",
    "nombre_exposed        469\n",
    "nombre_recovered    16539\n",
    "Name: 616, dtype: int64"
   ]
  },
  {
   "cell_type": "markdown",
   "id": "78a437bf",
   "metadata": {},
   "source": [
    "nombre_infected       808\n",
    "nombre_sain          2205\n",
    "nombre_exposed        474\n",
    "nombre_recovered    16513\n",
    "Name: 617, dtype: int64"
   ]
  },
  {
   "cell_type": "markdown",
   "id": "af5a4207",
   "metadata": {},
   "source": [
    "nombre_infected       803\n",
    "nombre_sain          2241\n",
    "nombre_exposed        469\n",
    "nombre_recovered    16487\n",
    "Name: 618, dtype: int64"
   ]
  },
  {
   "cell_type": "markdown",
   "id": "a9b2263a",
   "metadata": {},
   "source": [
    "nombre_infected       801\n",
    "nombre_sain          2263\n",
    "nombre_exposed        461\n",
    "nombre_recovered    16475\n",
    "Name: 619, dtype: int64"
   ]
  },
  {
   "cell_type": "markdown",
   "id": "26307c70",
   "metadata": {},
   "source": [
    "nombre_infected       810\n",
    "nombre_sain          2304\n",
    "nombre_exposed        434\n",
    "nombre_recovered    16452\n",
    "Name: 620, dtype: int64"
   ]
  },
  {
   "cell_type": "markdown",
   "id": "1a23c3e0",
   "metadata": {},
   "source": [
    "nombre_infected       809\n",
    "nombre_sain          2291\n",
    "nombre_exposed        433\n",
    "nombre_recovered    16467\n",
    "Name: 621, dtype: int64"
   ]
  },
  {
   "cell_type": "markdown",
   "id": "1643a6d6",
   "metadata": {},
   "source": [
    "nombre_infected       799\n",
    "nombre_sain          2313\n",
    "nombre_exposed        436\n",
    "nombre_recovered    16452\n",
    "Name: 622, dtype: int64"
   ]
  },
  {
   "cell_type": "markdown",
   "id": "bcfff92d",
   "metadata": {},
   "source": [
    "nombre_infected       789\n",
    "nombre_sain          2309\n",
    "nombre_exposed        460\n",
    "nombre_recovered    16442\n",
    "Name: 623, dtype: int64"
   ]
  },
  {
   "cell_type": "markdown",
   "id": "19504cd7",
   "metadata": {},
   "source": [
    "nombre_infected       781\n",
    "nombre_sain          2324\n",
    "nombre_exposed        461\n",
    "nombre_recovered    16434\n",
    "Name: 624, dtype: int64"
   ]
  },
  {
   "cell_type": "markdown",
   "id": "f847338a",
   "metadata": {},
   "source": [
    "nombre_infected       784\n",
    "nombre_sain          2323\n",
    "nombre_exposed        475\n",
    "nombre_recovered    16418\n",
    "Name: 625, dtype: int64"
   ]
  },
  {
   "cell_type": "markdown",
   "id": "91116069",
   "metadata": {},
   "source": [
    "nombre_infected       789\n",
    "nombre_sain          2357\n",
    "nombre_exposed        458\n",
    "nombre_recovered    16396\n",
    "Name: 626, dtype: int64"
   ]
  },
  {
   "cell_type": "markdown",
   "id": "77e8d761",
   "metadata": {},
   "source": [
    "nombre_infected       793\n",
    "nombre_sain          2375\n",
    "nombre_exposed        468\n",
    "nombre_recovered    16364\n",
    "Name: 627, dtype: int64"
   ]
  },
  {
   "cell_type": "markdown",
   "id": "03442b9b",
   "metadata": {},
   "source": [
    "nombre_infected       790\n",
    "nombre_sain          2351\n",
    "nombre_exposed        478\n",
    "nombre_recovered    16381\n",
    "Name: 628, dtype: int64"
   ]
  },
  {
   "cell_type": "markdown",
   "id": "f085af95",
   "metadata": {},
   "source": [
    "nombre_infected       799\n",
    "nombre_sain          2334\n",
    "nombre_exposed        471\n",
    "nombre_recovered    16396\n",
    "Name: 629, dtype: int64"
   ]
  },
  {
   "cell_type": "markdown",
   "id": "caa6667f",
   "metadata": {},
   "source": [
    "nombre_infected       766\n",
    "nombre_sain          2332\n",
    "nombre_exposed        497\n",
    "nombre_recovered    16405\n",
    "Name: 630, dtype: int64"
   ]
  },
  {
   "cell_type": "markdown",
   "id": "2558bab7",
   "metadata": {},
   "source": [
    "nombre_infected       772\n",
    "nombre_sain          2351\n",
    "nombre_exposed        491\n",
    "nombre_recovered    16386\n",
    "Name: 631, dtype: int64"
   ]
  },
  {
   "cell_type": "markdown",
   "id": "13c3c3a4",
   "metadata": {},
   "source": [
    "nombre_infected       782\n",
    "nombre_sain          2347\n",
    "nombre_exposed        489\n",
    "nombre_recovered    16382\n",
    "Name: 632, dtype: int64"
   ]
  },
  {
   "cell_type": "markdown",
   "id": "2c4e6672",
   "metadata": {},
   "source": [
    "nombre_infected       792\n",
    "nombre_sain          2370\n",
    "nombre_exposed        485\n",
    "nombre_recovered    16353\n",
    "Name: 633, dtype: int64"
   ]
  },
  {
   "cell_type": "markdown",
   "id": "e7690f83",
   "metadata": {},
   "source": [
    "nombre_infected       801\n",
    "nombre_sain          2361\n",
    "nombre_exposed        479\n",
    "nombre_recovered    16359\n",
    "Name: 634, dtype: int64"
   ]
  },
  {
   "cell_type": "markdown",
   "id": "294376e0",
   "metadata": {},
   "source": [
    "nombre_infected       797\n",
    "nombre_sain          2327\n",
    "nombre_exposed        509\n",
    "nombre_recovered    16367\n",
    "Name: 635, dtype: int64"
   ]
  },
  {
   "cell_type": "markdown",
   "id": "aec86a90",
   "metadata": {},
   "source": [
    "nombre_infected       817\n",
    "nombre_sain          2334\n",
    "nombre_exposed        512\n",
    "nombre_recovered    16337\n",
    "Name: 636, dtype: int64"
   ]
  },
  {
   "cell_type": "markdown",
   "id": "bb0385b7",
   "metadata": {},
   "source": [
    "nombre_infected       815\n",
    "nombre_sain          2370\n",
    "nombre_exposed        489\n",
    "nombre_recovered    16326\n",
    "Name: 637, dtype: int64"
   ]
  },
  {
   "cell_type": "markdown",
   "id": "f0cc0524",
   "metadata": {},
   "source": [
    "nombre_infected       799\n",
    "nombre_sain          2368\n",
    "nombre_exposed        503\n",
    "nombre_recovered    16330\n",
    "Name: 638, dtype: int64"
   ]
  },
  {
   "cell_type": "markdown",
   "id": "30afaf5b",
   "metadata": {},
   "source": [
    "nombre_infected       786\n",
    "nombre_sain          2371\n",
    "nombre_exposed        507\n",
    "nombre_recovered    16336\n",
    "Name: 639, dtype: int64"
   ]
  },
  {
   "cell_type": "markdown",
   "id": "8c1c0d94",
   "metadata": {},
   "source": [
    "nombre_infected       773\n",
    "nombre_sain          2394\n",
    "nombre_exposed        509\n",
    "nombre_recovered    16324\n",
    "Name: 640, dtype: int64"
   ]
  },
  {
   "cell_type": "markdown",
   "id": "a3c3659e",
   "metadata": {},
   "source": [
    "nombre_infected       767\n",
    "nombre_sain          2412\n",
    "nombre_exposed        499\n",
    "nombre_recovered    16322\n",
    "Name: 641, dtype: int64"
   ]
  },
  {
   "cell_type": "markdown",
   "id": "0eda0ba5",
   "metadata": {},
   "source": [
    "nombre_infected       795\n",
    "nombre_sain          2399\n",
    "nombre_exposed        504\n",
    "nombre_recovered    16302\n",
    "Name: 642, dtype: int64"
   ]
  },
  {
   "cell_type": "markdown",
   "id": "1e1d2b51",
   "metadata": {},
   "source": [
    "nombre_infected       801\n",
    "nombre_sain          2399\n",
    "nombre_exposed        501\n",
    "nombre_recovered    16299\n",
    "Name: 643, dtype: int64"
   ]
  },
  {
   "cell_type": "markdown",
   "id": "0a0be9a4",
   "metadata": {},
   "source": [
    "nombre_infected       839\n",
    "nombre_sain          2409\n",
    "nombre_exposed        483\n",
    "nombre_recovered    16269\n",
    "Name: 644, dtype: int64"
   ]
  },
  {
   "cell_type": "markdown",
   "id": "bdc7e7dd",
   "metadata": {},
   "source": [
    "nombre_infected       845\n",
    "nombre_sain          2410\n",
    "nombre_exposed        495\n",
    "nombre_recovered    16250\n",
    "Name: 645, dtype: int64"
   ]
  },
  {
   "cell_type": "markdown",
   "id": "27a34b56",
   "metadata": {},
   "source": [
    "nombre_infected       845\n",
    "nombre_sain          2422\n",
    "nombre_exposed        499\n",
    "nombre_recovered    16234\n",
    "Name: 646, dtype: int64"
   ]
  },
  {
   "cell_type": "markdown",
   "id": "84660070",
   "metadata": {},
   "source": [
    "nombre_infected       849\n",
    "nombre_sain          2449\n",
    "nombre_exposed        498\n",
    "nombre_recovered    16204\n",
    "Name: 647, dtype: int64"
   ]
  },
  {
   "cell_type": "markdown",
   "id": "a005c73c",
   "metadata": {},
   "source": [
    "nombre_infected       858\n",
    "nombre_sain          2447\n",
    "nombre_exposed        506\n",
    "nombre_recovered    16189\n",
    "Name: 648, dtype: int64"
   ]
  },
  {
   "cell_type": "markdown",
   "id": "7dd8b7ef",
   "metadata": {},
   "source": [
    "nombre_infected       868\n",
    "nombre_sain          2443\n",
    "nombre_exposed        502\n",
    "nombre_recovered    16187\n",
    "Name: 649, dtype: int64"
   ]
  },
  {
   "cell_type": "markdown",
   "id": "023c0638",
   "metadata": {},
   "source": [
    "nombre_infected       868\n",
    "nombre_sain          2459\n",
    "nombre_exposed        497\n",
    "nombre_recovered    16176\n",
    "Name: 650, dtype: int64"
   ]
  },
  {
   "cell_type": "markdown",
   "id": "7aa09db1",
   "metadata": {},
   "source": [
    "nombre_infected       871\n",
    "nombre_sain          2457\n",
    "nombre_exposed        496\n",
    "nombre_recovered    16176\n",
    "Name: 651, dtype: int64"
   ]
  },
  {
   "cell_type": "markdown",
   "id": "c32264b5",
   "metadata": {},
   "source": [
    "nombre_infected       887\n",
    "nombre_sain          2458\n",
    "nombre_exposed        486\n",
    "nombre_recovered    16169\n",
    "Name: 652, dtype: int64"
   ]
  },
  {
   "cell_type": "markdown",
   "id": "cd52c531",
   "metadata": {},
   "source": [
    "nombre_infected       873\n",
    "nombre_sain          2434\n",
    "nombre_exposed        505\n",
    "nombre_recovered    16188\n",
    "Name: 653, dtype: int64"
   ]
  },
  {
   "cell_type": "markdown",
   "id": "0c9052aa",
   "metadata": {},
   "source": [
    "nombre_infected       884\n",
    "nombre_sain          2434\n",
    "nombre_exposed        500\n",
    "nombre_recovered    16182\n",
    "Name: 654, dtype: int64"
   ]
  },
  {
   "cell_type": "markdown",
   "id": "2e0ca3bf",
   "metadata": {},
   "source": [
    "nombre_infected       889\n",
    "nombre_sain          2430\n",
    "nombre_exposed        509\n",
    "nombre_recovered    16172\n",
    "Name: 655, dtype: int64"
   ]
  },
  {
   "cell_type": "markdown",
   "id": "9b658744",
   "metadata": {},
   "source": [
    "nombre_infected       892\n",
    "nombre_sain          2454\n",
    "nombre_exposed        518\n",
    "nombre_recovered    16136\n",
    "Name: 656, dtype: int64"
   ]
  },
  {
   "cell_type": "markdown",
   "id": "29b6acdb",
   "metadata": {},
   "source": [
    "nombre_infected       907\n",
    "nombre_sain          2438\n",
    "nombre_exposed        517\n",
    "nombre_recovered    16138\n",
    "Name: 657, dtype: int64"
   ]
  },
  {
   "cell_type": "markdown",
   "id": "2d52fa9c",
   "metadata": {},
   "source": [
    "nombre_infected       924\n",
    "nombre_sain          2421\n",
    "nombre_exposed        527\n",
    "nombre_recovered    16128\n",
    "Name: 658, dtype: int64"
   ]
  },
  {
   "cell_type": "markdown",
   "id": "47942a91",
   "metadata": {},
   "source": [
    "nombre_infected       919\n",
    "nombre_sain          2432\n",
    "nombre_exposed        522\n",
    "nombre_recovered    16127\n",
    "Name: 659, dtype: int64"
   ]
  },
  {
   "cell_type": "markdown",
   "id": "6574c77c",
   "metadata": {},
   "source": [
    "nombre_infected       904\n",
    "nombre_sain          2445\n",
    "nombre_exposed        542\n",
    "nombre_recovered    16109\n",
    "Name: 660, dtype: int64"
   ]
  },
  {
   "cell_type": "markdown",
   "id": "2c0860f5",
   "metadata": {},
   "source": [
    "nombre_infected       889\n",
    "nombre_sain          2444\n",
    "nombre_exposed        563\n",
    "nombre_recovered    16104\n",
    "Name: 661, dtype: int64"
   ]
  },
  {
   "cell_type": "markdown",
   "id": "bbe7a699",
   "metadata": {},
   "source": [
    "nombre_infected       886\n",
    "nombre_sain          2445\n",
    "nombre_exposed        577\n",
    "nombre_recovered    16092\n",
    "Name: 662, dtype: int64"
   ]
  },
  {
   "cell_type": "markdown",
   "id": "3b1995da",
   "metadata": {},
   "source": [
    "nombre_infected       902\n",
    "nombre_sain          2444\n",
    "nombre_exposed        561\n",
    "nombre_recovered    16093\n",
    "Name: 663, dtype: int64"
   ]
  },
  {
   "cell_type": "markdown",
   "id": "31bccec9",
   "metadata": {},
   "source": [
    "nombre_infected       914\n",
    "nombre_sain          2438\n",
    "nombre_exposed        550\n",
    "nombre_recovered    16098\n",
    "Name: 664, dtype: int64"
   ]
  },
  {
   "cell_type": "markdown",
   "id": "3297078e",
   "metadata": {},
   "source": [
    "nombre_infected       931\n",
    "nombre_sain          2438\n",
    "nombre_exposed        556\n",
    "nombre_recovered    16075\n",
    "Name: 665, dtype: int64"
   ]
  },
  {
   "cell_type": "markdown",
   "id": "e1299239",
   "metadata": {},
   "source": [
    "nombre_infected       955\n",
    "nombre_sain          2430\n",
    "nombre_exposed        542\n",
    "nombre_recovered    16073\n",
    "Name: 666, dtype: int64"
   ]
  },
  {
   "cell_type": "markdown",
   "id": "ec73bee0",
   "metadata": {},
   "source": [
    "nombre_infected       949\n",
    "nombre_sain          2397\n",
    "nombre_exposed        555\n",
    "nombre_recovered    16099\n",
    "Name: 667, dtype: int64"
   ]
  },
  {
   "cell_type": "markdown",
   "id": "b87a0c29",
   "metadata": {},
   "source": [
    "nombre_infected       950\n",
    "nombre_sain          2399\n",
    "nombre_exposed        549\n",
    "nombre_recovered    16102\n",
    "Name: 668, dtype: int64"
   ]
  },
  {
   "cell_type": "markdown",
   "id": "f1cc7776",
   "metadata": {},
   "source": [
    "nombre_infected       945\n",
    "nombre_sain          2409\n",
    "nombre_exposed        540\n",
    "nombre_recovered    16106\n",
    "Name: 669, dtype: int64"
   ]
  },
  {
   "cell_type": "markdown",
   "id": "93893f76",
   "metadata": {},
   "source": [
    "nombre_infected       969\n",
    "nombre_sain          2374\n",
    "nombre_exposed        571\n",
    "nombre_recovered    16086\n",
    "Name: 670, dtype: int64"
   ]
  },
  {
   "cell_type": "markdown",
   "id": "e1103b4b",
   "metadata": {},
   "source": [
    "nombre_infected       988\n",
    "nombre_sain          2347\n",
    "nombre_exposed        568\n",
    "nombre_recovered    16097\n",
    "Name: 671, dtype: int64"
   ]
  },
  {
   "cell_type": "markdown",
   "id": "dcffa8e6",
   "metadata": {},
   "source": [
    "nombre_infected      1018\n",
    "nombre_sain          2342\n",
    "nombre_exposed        571\n",
    "nombre_recovered    16069\n",
    "Name: 672, dtype: int64"
   ]
  },
  {
   "cell_type": "markdown",
   "id": "9688b6c6",
   "metadata": {},
   "source": [
    "nombre_infected      1034\n",
    "nombre_sain          2335\n",
    "nombre_exposed        562\n",
    "nombre_recovered    16069\n",
    "Name: 673, dtype: int64"
   ]
  },
  {
   "cell_type": "markdown",
   "id": "fb99b7e4",
   "metadata": {},
   "source": [
    "nombre_infected      1058\n",
    "nombre_sain          2338\n",
    "nombre_exposed        548\n",
    "nombre_recovered    16056\n",
    "Name: 674, dtype: int64"
   ]
  },
  {
   "cell_type": "markdown",
   "id": "8f3a084c",
   "metadata": {},
   "source": [
    "nombre_infected      1059\n",
    "nombre_sain          2299\n",
    "nombre_exposed        576\n",
    "nombre_recovered    16066\n",
    "Name: 675, dtype: int64"
   ]
  },
  {
   "cell_type": "markdown",
   "id": "8e0071dd",
   "metadata": {},
   "source": [
    "nombre_infected      1069\n",
    "nombre_sain          2260\n",
    "nombre_exposed        573\n",
    "nombre_recovered    16098\n",
    "Name: 676, dtype: int64"
   ]
  },
  {
   "cell_type": "markdown",
   "id": "3ec4a0d0",
   "metadata": {},
   "source": [
    "nombre_infected      1079\n",
    "nombre_sain          2235\n",
    "nombre_exposed        598\n",
    "nombre_recovered    16088\n",
    "Name: 677, dtype: int64"
   ]
  },
  {
   "cell_type": "markdown",
   "id": "5091cead",
   "metadata": {},
   "source": [
    "nombre_infected      1088\n",
    "nombre_sain          2214\n",
    "nombre_exposed        594\n",
    "nombre_recovered    16104\n",
    "Name: 678, dtype: int64"
   ]
  },
  {
   "cell_type": "markdown",
   "id": "34fe6a6a",
   "metadata": {},
   "source": [
    "nombre_infected      1085\n",
    "nombre_sain          2185\n",
    "nombre_exposed        597\n",
    "nombre_recovered    16133\n",
    "Name: 679, dtype: int64"
   ]
  },
  {
   "cell_type": "markdown",
   "id": "a4c229c4",
   "metadata": {},
   "source": [
    "nombre_infected      1089\n",
    "nombre_sain          2192\n",
    "nombre_exposed        590\n",
    "nombre_recovered    16129\n",
    "Name: 680, dtype: int64"
   ]
  },
  {
   "cell_type": "markdown",
   "id": "9bcbdb97",
   "metadata": {},
   "source": [
    "nombre_infected      1093\n",
    "nombre_sain          2153\n",
    "nombre_exposed        603\n",
    "nombre_recovered    16151\n",
    "Name: 681, dtype: int64"
   ]
  },
  {
   "cell_type": "markdown",
   "id": "83b763fb",
   "metadata": {},
   "source": [
    "nombre_infected      1092\n",
    "nombre_sain          2127\n",
    "nombre_exposed        627\n",
    "nombre_recovered    16154\n",
    "Name: 682, dtype: int64"
   ]
  },
  {
   "cell_type": "markdown",
   "id": "78e71c3f",
   "metadata": {},
   "source": [
    "nombre_infected      1091\n",
    "nombre_sain          2115\n",
    "nombre_exposed        630\n",
    "nombre_recovered    16164\n",
    "Name: 683, dtype: int64"
   ]
  },
  {
   "cell_type": "markdown",
   "id": "da2dc76e",
   "metadata": {},
   "source": [
    "nombre_infected      1098\n",
    "nombre_sain          2109\n",
    "nombre_exposed        612\n",
    "nombre_recovered    16181\n",
    "Name: 684, dtype: int64"
   ]
  },
  {
   "cell_type": "markdown",
   "id": "6c176acf",
   "metadata": {},
   "source": [
    "nombre_infected      1097\n",
    "nombre_sain          2073\n",
    "nombre_exposed        644\n",
    "nombre_recovered    16186\n",
    "Name: 685, dtype: int64"
   ]
  },
  {
   "cell_type": "markdown",
   "id": "7959b0e0",
   "metadata": {},
   "source": [
    "nombre_infected      1115\n",
    "nombre_sain          2034\n",
    "nombre_exposed        634\n",
    "nombre_recovered    16217\n",
    "Name: 686, dtype: int64"
   ]
  },
  {
   "cell_type": "markdown",
   "id": "1a4835c1",
   "metadata": {},
   "source": [
    "nombre_infected      1116\n",
    "nombre_sain          2042\n",
    "nombre_exposed        591\n",
    "nombre_recovered    16251\n",
    "Name: 687, dtype: int64"
   ]
  },
  {
   "cell_type": "markdown",
   "id": "ae99848f",
   "metadata": {},
   "source": [
    "nombre_infected      1106\n",
    "nombre_sain          2024\n",
    "nombre_exposed        573\n",
    "nombre_recovered    16297\n",
    "Name: 688, dtype: int64"
   ]
  },
  {
   "cell_type": "markdown",
   "id": "faa0af73",
   "metadata": {},
   "source": [
    "nombre_infected      1098\n",
    "nombre_sain          2029\n",
    "nombre_exposed        563\n",
    "nombre_recovered    16310\n",
    "Name: 689, dtype: int64"
   ]
  },
  {
   "cell_type": "markdown",
   "id": "8e2b7ca7",
   "metadata": {},
   "source": [
    "nombre_infected      1102\n",
    "nombre_sain          2006\n",
    "nombre_exposed        543\n",
    "nombre_recovered    16349\n",
    "Name: 690, dtype: int64"
   ]
  },
  {
   "cell_type": "markdown",
   "id": "fd33615d",
   "metadata": {},
   "source": [
    "nombre_infected      1083\n",
    "nombre_sain          2022\n",
    "nombre_exposed        548\n",
    "nombre_recovered    16347\n",
    "Name: 691, dtype: int64"
   ]
  },
  {
   "cell_type": "markdown",
   "id": "db126014",
   "metadata": {},
   "source": [
    "nombre_infected      1059\n",
    "nombre_sain          2019\n",
    "nombre_exposed        542\n",
    "nombre_recovered    16380\n",
    "Name: 692, dtype: int64"
   ]
  },
  {
   "cell_type": "markdown",
   "id": "988b206f",
   "metadata": {},
   "source": [
    "nombre_infected      1043\n",
    "nombre_sain          2034\n",
    "nombre_exposed        553\n",
    "nombre_recovered    16370\n",
    "Name: 693, dtype: int64"
   ]
  },
  {
   "cell_type": "markdown",
   "id": "497c974f",
   "metadata": {},
   "source": [
    "nombre_infected      1020\n",
    "nombre_sain          2025\n",
    "nombre_exposed        545\n",
    "nombre_recovered    16410\n",
    "Name: 694, dtype: int64"
   ]
  },
  {
   "cell_type": "markdown",
   "id": "fd463155",
   "metadata": {},
   "source": [
    "nombre_infected      1015\n",
    "nombre_sain          2008\n",
    "nombre_exposed        570\n",
    "nombre_recovered    16407\n",
    "Name: 695, dtype: int64"
   ]
  },
  {
   "cell_type": "markdown",
   "id": "4840fad5",
   "metadata": {},
   "source": [
    "nombre_infected       994\n",
    "nombre_sain          2051\n",
    "nombre_exposed        550\n",
    "nombre_recovered    16405\n",
    "Name: 696, dtype: int64"
   ]
  },
  {
   "cell_type": "markdown",
   "id": "d474a7e9",
   "metadata": {},
   "source": [
    "nombre_infected      1000\n",
    "nombre_sain          2058\n",
    "nombre_exposed        528\n",
    "nombre_recovered    16414\n",
    "Name: 697, dtype: int64"
   ]
  },
  {
   "cell_type": "markdown",
   "id": "a217fe53",
   "metadata": {},
   "source": [
    "nombre_infected       982\n",
    "nombre_sain          2050\n",
    "nombre_exposed        531\n",
    "nombre_recovered    16437\n",
    "Name: 698, dtype: int64"
   ]
  },
  {
   "cell_type": "markdown",
   "id": "fe301c79",
   "metadata": {},
   "source": [
    "nombre_infected       959\n",
    "nombre_sain          2056\n",
    "nombre_exposed        540\n",
    "nombre_recovered    16445\n",
    "Name: 699, dtype: int64"
   ]
  },
  {
   "cell_type": "markdown",
   "id": "bdf36ce1",
   "metadata": {},
   "source": [
    "nombre_infected       946\n",
    "nombre_sain          2072\n",
    "nombre_exposed        527\n",
    "nombre_recovered    16455\n",
    "Name: 700, dtype: int64"
   ]
  },
  {
   "cell_type": "markdown",
   "id": "bfb65635",
   "metadata": {},
   "source": [
    "nombre_infected       928\n",
    "nombre_sain          2067\n",
    "nombre_exposed        527\n",
    "nombre_recovered    16478\n",
    "Name: 701, dtype: int64"
   ]
  },
  {
   "cell_type": "markdown",
   "id": "479c8f1d",
   "metadata": {},
   "source": [
    "nombre_infected       945\n",
    "nombre_sain          2080\n",
    "nombre_exposed        521\n",
    "nombre_recovered    16454\n",
    "Name: 702, dtype: int64"
   ]
  },
  {
   "cell_type": "markdown",
   "id": "be1f4b40",
   "metadata": {},
   "source": [
    "nombre_infected       942\n",
    "nombre_sain          2062\n",
    "nombre_exposed        531\n",
    "nombre_recovered    16465\n",
    "Name: 703, dtype: int64"
   ]
  },
  {
   "cell_type": "markdown",
   "id": "e43719e8",
   "metadata": {},
   "source": [
    "nombre_infected       933\n",
    "nombre_sain          2070\n",
    "nombre_exposed        511\n",
    "nombre_recovered    16486\n",
    "Name: 704, dtype: int64"
   ]
  },
  {
   "cell_type": "markdown",
   "id": "219d49a2",
   "metadata": {},
   "source": [
    "nombre_infected       935\n",
    "nombre_sain          2047\n",
    "nombre_exposed        527\n",
    "nombre_recovered    16491\n",
    "Name: 705, dtype: int64"
   ]
  },
  {
   "cell_type": "markdown",
   "id": "d0e0c86c",
   "metadata": {},
   "source": [
    "nombre_infected       936\n",
    "nombre_sain          2051\n",
    "nombre_exposed        530\n",
    "nombre_recovered    16483\n",
    "Name: 706, dtype: int64"
   ]
  },
  {
   "cell_type": "markdown",
   "id": "5cd77c4d",
   "metadata": {},
   "source": [
    "nombre_infected       935\n",
    "nombre_sain          2054\n",
    "nombre_exposed        504\n",
    "nombre_recovered    16507\n",
    "Name: 707, dtype: int64"
   ]
  },
  {
   "cell_type": "markdown",
   "id": "d4ac057e",
   "metadata": {},
   "source": [
    "nombre_infected       946\n",
    "nombre_sain          2058\n",
    "nombre_exposed        519\n",
    "nombre_recovered    16477\n",
    "Name: 708, dtype: int64"
   ]
  },
  {
   "cell_type": "markdown",
   "id": "6e044f55",
   "metadata": {},
   "source": [
    "nombre_infected       910\n",
    "nombre_sain          2051\n",
    "nombre_exposed        527\n",
    "nombre_recovered    16512\n",
    "Name: 709, dtype: int64"
   ]
  },
  {
   "cell_type": "markdown",
   "id": "bc1c89e4",
   "metadata": {},
   "source": [
    "nombre_infected       923\n",
    "nombre_sain          2044\n",
    "nombre_exposed        495\n",
    "nombre_recovered    16538\n",
    "Name: 710, dtype: int64"
   ]
  },
  {
   "cell_type": "markdown",
   "id": "e894d664",
   "metadata": {},
   "source": [
    "nombre_infected       904\n",
    "nombre_sain          2066\n",
    "nombre_exposed        502\n",
    "nombre_recovered    16528\n",
    "Name: 711, dtype: int64"
   ]
  },
  {
   "cell_type": "markdown",
   "id": "39a3d874",
   "metadata": {},
   "source": [
    "nombre_infected       921\n",
    "nombre_sain          2056\n",
    "nombre_exposed        492\n",
    "nombre_recovered    16531\n",
    "Name: 712, dtype: int64"
   ]
  },
  {
   "cell_type": "markdown",
   "id": "f3349e59",
   "metadata": {},
   "source": [
    "nombre_infected       906\n",
    "nombre_sain          2059\n",
    "nombre_exposed        491\n",
    "nombre_recovered    16544\n",
    "Name: 713, dtype: int64"
   ]
  },
  {
   "cell_type": "markdown",
   "id": "034b7325",
   "metadata": {},
   "source": [
    "nombre_infected       920\n",
    "nombre_sain          2088\n",
    "nombre_exposed        483\n",
    "nombre_recovered    16509\n",
    "Name: 714, dtype: int64"
   ]
  },
  {
   "cell_type": "markdown",
   "id": "faa85432",
   "metadata": {},
   "source": [
    "nombre_infected       916\n",
    "nombre_sain          2121\n",
    "nombre_exposed        485\n",
    "nombre_recovered    16478\n",
    "Name: 715, dtype: int64"
   ]
  },
  {
   "cell_type": "markdown",
   "id": "d35ebe2b",
   "metadata": {},
   "source": [
    "nombre_infected       897\n",
    "nombre_sain          2140\n",
    "nombre_exposed        481\n",
    "nombre_recovered    16482\n",
    "Name: 716, dtype: int64"
   ]
  },
  {
   "cell_type": "markdown",
   "id": "783a68bd",
   "metadata": {},
   "source": [
    "nombre_infected       903\n",
    "nombre_sain          2135\n",
    "nombre_exposed        490\n",
    "nombre_recovered    16472\n",
    "Name: 717, dtype: int64"
   ]
  },
  {
   "cell_type": "markdown",
   "id": "83c21939",
   "metadata": {},
   "source": [
    "nombre_infected       904\n",
    "nombre_sain          2163\n",
    "nombre_exposed        487\n",
    "nombre_recovered    16446\n",
    "Name: 718, dtype: int64"
   ]
  },
  {
   "cell_type": "markdown",
   "id": "1bce68b6",
   "metadata": {},
   "source": [
    "nombre_infected       921\n",
    "nombre_sain          2179\n",
    "nombre_exposed        456\n",
    "nombre_recovered    16444\n",
    "Name: 719, dtype: int64"
   ]
  },
  {
   "cell_type": "markdown",
   "id": "70e34383",
   "metadata": {},
   "source": [
    "nombre_infected       912\n",
    "nombre_sain          2189\n",
    "nombre_exposed        477\n",
    "nombre_recovered    16422\n",
    "Name: 720, dtype: int64"
   ]
  },
  {
   "cell_type": "markdown",
   "id": "e22ff793",
   "metadata": {},
   "source": [
    "nombre_infected       928\n",
    "nombre_sain          2188\n",
    "nombre_exposed        473\n",
    "nombre_recovered    16411\n",
    "Name: 721, dtype: int64"
   ]
  },
  {
   "cell_type": "markdown",
   "id": "beffd320",
   "metadata": {},
   "source": [
    "nombre_infected       917\n",
    "nombre_sain          2164\n",
    "nombre_exposed        494\n",
    "nombre_recovered    16425\n",
    "Name: 722, dtype: int64"
   ]
  },
  {
   "cell_type": "markdown",
   "id": "e26a48a8",
   "metadata": {},
   "source": [
    "nombre_infected       910\n",
    "nombre_sain          2213\n",
    "nombre_exposed        459\n",
    "nombre_recovered    16418\n",
    "Name: 723, dtype: int64"
   ]
  },
  {
   "cell_type": "markdown",
   "id": "fda5671b",
   "metadata": {},
   "source": [
    "nombre_infected       938\n",
    "nombre_sain          2208\n",
    "nombre_exposed        468\n",
    "nombre_recovered    16386\n",
    "Name: 724, dtype: int64"
   ]
  },
  {
   "cell_type": "markdown",
   "id": "81808108",
   "metadata": {},
   "source": [
    "nombre_infected       936\n",
    "nombre_sain          2188\n",
    "nombre_exposed        495\n",
    "nombre_recovered    16381\n",
    "Name: 725, dtype: int64"
   ]
  },
  {
   "cell_type": "markdown",
   "id": "a8bc47f6",
   "metadata": {},
   "source": [
    "nombre_infected       908\n",
    "nombre_sain          2218\n",
    "nombre_exposed        506\n",
    "nombre_recovered    16368\n",
    "Name: 726, dtype: int64"
   ]
  },
  {
   "cell_type": "markdown",
   "id": "84916da1",
   "metadata": {},
   "source": [
    "nombre_infected       897\n",
    "nombre_sain          2243\n",
    "nombre_exposed        518\n",
    "nombre_recovered    16342\n",
    "Name: 727, dtype: int64"
   ]
  },
  {
   "cell_type": "markdown",
   "id": "4e8ef39b",
   "metadata": {},
   "source": [
    "nombre_infected       898\n",
    "nombre_sain          2253\n",
    "nombre_exposed        514\n",
    "nombre_recovered    16335\n",
    "Name: 728, dtype: int64"
   ]
  },
  {
   "cell_type": "markdown",
   "id": "08654384",
   "metadata": {},
   "source": [
    "nombre_infected       924\n",
    "nombre_sain          2282\n",
    "nombre_exposed        528\n",
    "nombre_recovered    16266\n",
    "Name: 729, dtype: int64"
   ]
  },
  {
   "cell_type": "markdown",
   "id": "8f54bf66",
   "metadata": {},
   "source": [
    "nombre_infected       922\n",
    "nombre_sain          2286\n",
    "nombre_exposed        525\n",
    "nombre_recovered    16267\n",
    "Name: 730, dtype: int64"
   ]
  }
 ],
 "metadata": {},
 "nbformat": 4,
 "nbformat_minor": 5
}
