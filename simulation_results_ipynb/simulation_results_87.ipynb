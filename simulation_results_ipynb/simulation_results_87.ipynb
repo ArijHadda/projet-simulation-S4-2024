{
 "cells": [
  {
   "cell_type": "markdown",
   "id": "e3b64d77",
   "metadata": {},
   "source": [
    "nombre_infected        20\n",
    "nombre_sain         19980\n",
    "nombre_exposed          0\n",
    "nombre_recovered        0\n",
    "Name: 0, dtype: int64"
   ]
  },
  {
   "cell_type": "markdown",
   "id": "048955f6",
   "metadata": {},
   "source": [
    "nombre_infected        20\n",
    "nombre_sain         19963\n",
    "nombre_exposed         17\n",
    "nombre_recovered        0\n",
    "Name: 1, dtype: int64"
   ]
  },
  {
   "cell_type": "markdown",
   "id": "1e8bdecb",
   "metadata": {},
   "source": [
    "nombre_infected        20\n",
    "nombre_sain         19948\n",
    "nombre_exposed         32\n",
    "nombre_recovered        0\n",
    "Name: 2, dtype: int64"
   ]
  },
  {
   "cell_type": "markdown",
   "id": "1d03192c",
   "metadata": {},
   "source": [
    "nombre_infected         7\n",
    "nombre_sain         19927\n",
    "nombre_exposed         46\n",
    "nombre_recovered       20\n",
    "Name: 3, dtype: int64"
   ]
  },
  {
   "cell_type": "markdown",
   "id": "a6393cee",
   "metadata": {},
   "source": [
    "nombre_infected        10\n",
    "nombre_sain         19912\n",
    "nombre_exposed         58\n",
    "nombre_recovered       20\n",
    "Name: 4, dtype: int64"
   ]
  },
  {
   "cell_type": "markdown",
   "id": "d66ddb5d",
   "metadata": {},
   "source": [
    "nombre_infected        22\n",
    "nombre_sain         19888\n",
    "nombre_exposed         70\n",
    "nombre_recovered       20\n",
    "Name: 5, dtype: int64"
   ]
  },
  {
   "cell_type": "markdown",
   "id": "fdb930c3",
   "metadata": {},
   "source": [
    "nombre_infected        38\n",
    "nombre_sain         19859\n",
    "nombre_exposed         83\n",
    "nombre_recovered       20\n",
    "Name: 6, dtype: int64"
   ]
  },
  {
   "cell_type": "markdown",
   "id": "18e1cd83",
   "metadata": {},
   "source": [
    "nombre_infected        45\n",
    "nombre_sain         19816\n",
    "nombre_exposed        115\n",
    "nombre_recovered       24\n",
    "Name: 7, dtype: int64"
   ]
  },
  {
   "cell_type": "markdown",
   "id": "cacbadc7",
   "metadata": {},
   "source": [
    "nombre_infected        58\n",
    "nombre_sain         19749\n",
    "nombre_exposed        165\n",
    "nombre_recovered       28\n",
    "Name: 8, dtype: int64"
   ]
  },
  {
   "cell_type": "markdown",
   "id": "d2cef44f",
   "metadata": {},
   "source": [
    "nombre_infected        80\n",
    "nombre_sain         19662\n",
    "nombre_exposed        223\n",
    "nombre_recovered       35\n",
    "Name: 9, dtype: int64"
   ]
  },
  {
   "cell_type": "markdown",
   "id": "2df65040",
   "metadata": {},
   "source": [
    "nombre_infected       114\n",
    "nombre_sain         19519\n",
    "nombre_exposed        325\n",
    "nombre_recovered       42\n",
    "Name: 10, dtype: int64"
   ]
  },
  {
   "cell_type": "markdown",
   "id": "408a9a0e",
   "metadata": {},
   "source": [
    "nombre_infected       153\n",
    "nombre_sain         19374\n",
    "nombre_exposed        424\n",
    "nombre_recovered       49\n",
    "Name: 11, dtype: int64"
   ]
  },
  {
   "cell_type": "markdown",
   "id": "23b3198d",
   "metadata": {},
   "source": [
    "nombre_infected       217\n",
    "nombre_sain         19171\n",
    "nombre_exposed        549\n",
    "nombre_recovered       63\n",
    "Name: 12, dtype: int64"
   ]
  },
  {
   "cell_type": "markdown",
   "id": "3a4abed5",
   "metadata": {},
   "source": [
    "nombre_infected       294\n",
    "nombre_sain         18887\n",
    "nombre_exposed        736\n",
    "nombre_recovered       83\n",
    "Name: 13, dtype: int64"
   ]
  },
  {
   "cell_type": "markdown",
   "id": "74e0f91b",
   "metadata": {},
   "source": [
    "nombre_infected       400\n",
    "nombre_sain         18510\n",
    "nombre_exposed        982\n",
    "nombre_recovered      108\n",
    "Name: 14, dtype: int64"
   ]
  },
  {
   "cell_type": "markdown",
   "id": "dcd5c28c",
   "metadata": {},
   "source": [
    "nombre_infected       544\n",
    "nombre_sain         17954\n",
    "nombre_exposed       1367\n",
    "nombre_recovered      135\n",
    "Name: 15, dtype: int64"
   ]
  },
  {
   "cell_type": "markdown",
   "id": "cdb32686",
   "metadata": {},
   "source": [
    "nombre_infected       724\n",
    "nombre_sain         17289\n",
    "nombre_exposed       1805\n",
    "nombre_recovered      182\n",
    "Name: 16, dtype: int64"
   ]
  },
  {
   "cell_type": "markdown",
   "id": "6d683703",
   "metadata": {},
   "source": [
    "nombre_infected       947\n",
    "nombre_sain         16405\n",
    "nombre_exposed       2386\n",
    "nombre_recovered      262\n",
    "Name: 17, dtype: int64"
   ]
  },
  {
   "cell_type": "markdown",
   "id": "11cda438",
   "metadata": {},
   "source": [
    "nombre_infected      1282\n",
    "nombre_sain         15345\n",
    "nombre_exposed       3034\n",
    "nombre_recovered      339\n",
    "Name: 18, dtype: int64"
   ]
  },
  {
   "cell_type": "markdown",
   "id": "00986876",
   "metadata": {},
   "source": [
    "nombre_infected      1733\n",
    "nombre_sain         14071\n",
    "nombre_exposed       3737\n",
    "nombre_recovered      459\n",
    "Name: 19, dtype: int64"
   ]
  },
  {
   "cell_type": "markdown",
   "id": "6177e669",
   "metadata": {},
   "source": [
    "nombre_infected      2264\n",
    "nombre_sain         12604\n",
    "nombre_exposed       4519\n",
    "nombre_recovered      613\n",
    "Name: 20, dtype: int64"
   ]
  },
  {
   "cell_type": "markdown",
   "id": "8591a646",
   "metadata": {},
   "source": [
    "nombre_infected      2893\n",
    "nombre_sain         10864\n",
    "nombre_exposed       5432\n",
    "nombre_recovered      811\n",
    "Name: 21, dtype: int64"
   ]
  },
  {
   "cell_type": "markdown",
   "id": "29bd903f",
   "metadata": {},
   "source": [
    "nombre_infected     3629\n",
    "nombre_sain         9082\n",
    "nombre_exposed      6220\n",
    "nombre_recovered    1069\n",
    "Name: 22, dtype: int64"
   ]
  },
  {
   "cell_type": "markdown",
   "id": "3371a865",
   "metadata": {},
   "source": [
    "nombre_infected     4467\n",
    "nombre_sain         7305\n",
    "nombre_exposed      6821\n",
    "nombre_recovered    1407\n",
    "Name: 23, dtype: int64"
   ]
  },
  {
   "cell_type": "markdown",
   "id": "bc969077",
   "metadata": {},
   "source": [
    "nombre_infected     5409\n",
    "nombre_sain         5655\n",
    "nombre_exposed      7076\n",
    "nombre_recovered    1860\n",
    "Name: 24, dtype: int64"
   ]
  },
  {
   "cell_type": "markdown",
   "id": "ad2bbfdf",
   "metadata": {},
   "source": [
    "nombre_infected     6420\n",
    "nombre_sain         4241\n",
    "nombre_exposed      6953\n",
    "nombre_recovered    2386\n",
    "Name: 25, dtype: int64"
   ]
  },
  {
   "cell_type": "markdown",
   "id": "798a3184",
   "metadata": {},
   "source": [
    "nombre_infected     7343\n",
    "nombre_sain         3065\n",
    "nombre_exposed      6560\n",
    "nombre_recovered    3032\n",
    "Name: 26, dtype: int64"
   ]
  },
  {
   "cell_type": "markdown",
   "id": "8a76dac7",
   "metadata": {},
   "source": [
    "nombre_infected     8040\n",
    "nombre_sain         2170\n",
    "nombre_exposed      5981\n",
    "nombre_recovered    3809\n",
    "Name: 27, dtype: int64"
   ]
  },
  {
   "cell_type": "markdown",
   "id": "265d4161",
   "metadata": {},
   "source": [
    "nombre_infected     8585\n",
    "nombre_sain         1479\n",
    "nombre_exposed      5320\n",
    "nombre_recovered    4616\n",
    "Name: 28, dtype: int64"
   ]
  },
  {
   "cell_type": "markdown",
   "id": "14b1692f",
   "metadata": {},
   "source": [
    "nombre_infected     8850\n",
    "nombre_sain          988\n",
    "nombre_exposed      4594\n",
    "nombre_recovered    5568\n",
    "Name: 29, dtype: int64"
   ]
  },
  {
   "cell_type": "markdown",
   "id": "93706502",
   "metadata": {},
   "source": [
    "nombre_infected     8984\n",
    "nombre_sain          682\n",
    "nombre_exposed      3716\n",
    "nombre_recovered    6618\n",
    "Name: 30, dtype: int64"
   ]
  },
  {
   "cell_type": "markdown",
   "id": "8bcaade6",
   "metadata": {},
   "source": [
    "nombre_infected     8813\n",
    "nombre_sain          463\n",
    "nombre_exposed      3008\n",
    "nombre_recovered    7716\n",
    "Name: 31, dtype: int64"
   ]
  },
  {
   "cell_type": "markdown",
   "id": "30e3d8ed",
   "metadata": {},
   "source": [
    "nombre_infected     8522\n",
    "nombre_sain          325\n",
    "nombre_exposed      2381\n",
    "nombre_recovered    8772\n",
    "Name: 32, dtype: int64"
   ]
  },
  {
   "cell_type": "markdown",
   "id": "85181a94",
   "metadata": {},
   "source": [
    "nombre_infected     8077\n",
    "nombre_sain          240\n",
    "nombre_exposed      1854\n",
    "nombre_recovered    9829\n",
    "Name: 33, dtype: int64"
   ]
  },
  {
   "cell_type": "markdown",
   "id": "c7dfd3a9",
   "metadata": {},
   "source": [
    "nombre_infected      7558\n",
    "nombre_sain           179\n",
    "nombre_exposed       1395\n",
    "nombre_recovered    10868\n",
    "Name: 34, dtype: int64"
   ]
  },
  {
   "cell_type": "markdown",
   "id": "53aa0f25",
   "metadata": {},
   "source": [
    "nombre_infected      6976\n",
    "nombre_sain           156\n",
    "nombre_exposed       1038\n",
    "nombre_recovered    11830\n",
    "Name: 35, dtype: int64"
   ]
  },
  {
   "cell_type": "markdown",
   "id": "c683b192",
   "metadata": {},
   "source": [
    "nombre_infected      6369\n",
    "nombre_sain           153\n",
    "nombre_exposed        786\n",
    "nombre_recovered    12692\n",
    "Name: 36, dtype: int64"
   ]
  },
  {
   "cell_type": "markdown",
   "id": "5bd3e69e",
   "metadata": {},
   "source": [
    "nombre_infected      5780\n",
    "nombre_sain           130\n",
    "nombre_exposed        606\n",
    "nombre_recovered    13484\n",
    "Name: 37, dtype: int64"
   ]
  },
  {
   "cell_type": "markdown",
   "id": "74bf4227",
   "metadata": {},
   "source": [
    "nombre_infected      5177\n",
    "nombre_sain           143\n",
    "nombre_exposed        455\n",
    "nombre_recovered    14225\n",
    "Name: 38, dtype: int64"
   ]
  },
  {
   "cell_type": "markdown",
   "id": "d6cd9fbb",
   "metadata": {},
   "source": [
    "nombre_infected      4644\n",
    "nombre_sain           162\n",
    "nombre_exposed        348\n",
    "nombre_recovered    14846\n",
    "Name: 39, dtype: int64"
   ]
  },
  {
   "cell_type": "markdown",
   "id": "57e46913",
   "metadata": {},
   "source": [
    "nombre_infected      4100\n",
    "nombre_sain           189\n",
    "nombre_exposed        286\n",
    "nombre_recovered    15425\n",
    "Name: 40, dtype: int64"
   ]
  },
  {
   "cell_type": "markdown",
   "id": "d4b718a3",
   "metadata": {},
   "source": [
    "nombre_infected      3646\n",
    "nombre_sain           236\n",
    "nombre_exposed        228\n",
    "nombre_recovered    15890\n",
    "Name: 41, dtype: int64"
   ]
  },
  {
   "cell_type": "markdown",
   "id": "dbf6db88",
   "metadata": {},
   "source": [
    "nombre_infected      3264\n",
    "nombre_sain           276\n",
    "nombre_exposed        186\n",
    "nombre_recovered    16274\n",
    "Name: 42, dtype: int64"
   ]
  },
  {
   "cell_type": "markdown",
   "id": "eda326b8",
   "metadata": {},
   "source": [
    "nombre_infected      2887\n",
    "nombre_sain           295\n",
    "nombre_exposed        183\n",
    "nombre_recovered    16635\n",
    "Name: 43, dtype: int64"
   ]
  },
  {
   "cell_type": "markdown",
   "id": "4ef035ce",
   "metadata": {},
   "source": [
    "nombre_infected      2581\n",
    "nombre_sain           335\n",
    "nombre_exposed        181\n",
    "nombre_recovered    16903\n",
    "Name: 44, dtype: int64"
   ]
  },
  {
   "cell_type": "markdown",
   "id": "b0264936",
   "metadata": {},
   "source": [
    "nombre_infected      2294\n",
    "nombre_sain           373\n",
    "nombre_exposed        160\n",
    "nombre_recovered    17173\n",
    "Name: 45, dtype: int64"
   ]
  },
  {
   "cell_type": "markdown",
   "id": "76433ef8",
   "metadata": {},
   "source": [
    "nombre_infected      2045\n",
    "nombre_sain           399\n",
    "nombre_exposed        151\n",
    "nombre_recovered    17405\n",
    "Name: 46, dtype: int64"
   ]
  },
  {
   "cell_type": "markdown",
   "id": "e7e55b3e",
   "metadata": {},
   "source": [
    "nombre_infected      1838\n",
    "nombre_sain           433\n",
    "nombre_exposed        152\n",
    "nombre_recovered    17577\n",
    "Name: 47, dtype: int64"
   ]
  },
  {
   "cell_type": "markdown",
   "id": "7e060d1f",
   "metadata": {},
   "source": [
    "nombre_infected      1621\n",
    "nombre_sain           468\n",
    "nombre_exposed        152\n",
    "nombre_recovered    17759\n",
    "Name: 48, dtype: int64"
   ]
  },
  {
   "cell_type": "markdown",
   "id": "427cf374",
   "metadata": {},
   "source": [
    "nombre_infected      1456\n",
    "nombre_sain           490\n",
    "nombre_exposed        167\n",
    "nombre_recovered    17887\n",
    "Name: 49, dtype: int64"
   ]
  },
  {
   "cell_type": "markdown",
   "id": "f63f4abf",
   "metadata": {},
   "source": [
    "nombre_infected      1295\n",
    "nombre_sain           508\n",
    "nombre_exposed        168\n",
    "nombre_recovered    18029\n",
    "Name: 50, dtype: int64"
   ]
  },
  {
   "cell_type": "markdown",
   "id": "f288dc4c",
   "metadata": {},
   "source": [
    "nombre_infected      1158\n",
    "nombre_sain           531\n",
    "nombre_exposed        175\n",
    "nombre_recovered    18136\n",
    "Name: 51, dtype: int64"
   ]
  },
  {
   "cell_type": "markdown",
   "id": "8e950d84",
   "metadata": {},
   "source": [
    "nombre_infected      1037\n",
    "nombre_sain           559\n",
    "nombre_exposed        160\n",
    "nombre_recovered    18244\n",
    "Name: 52, dtype: int64"
   ]
  },
  {
   "cell_type": "markdown",
   "id": "e90c0522",
   "metadata": {},
   "source": [
    "nombre_infected       946\n",
    "nombre_sain           572\n",
    "nombre_exposed        145\n",
    "nombre_recovered    18337\n",
    "Name: 53, dtype: int64"
   ]
  },
  {
   "cell_type": "markdown",
   "id": "b3a11cc5",
   "metadata": {},
   "source": [
    "nombre_infected       842\n",
    "nombre_sain           611\n",
    "nombre_exposed        139\n",
    "nombre_recovered    18408\n",
    "Name: 54, dtype: int64"
   ]
  },
  {
   "cell_type": "markdown",
   "id": "996be1d9",
   "metadata": {},
   "source": [
    "nombre_infected       771\n",
    "nombre_sain           636\n",
    "nombre_exposed        125\n",
    "nombre_recovered    18468\n",
    "Name: 55, dtype: int64"
   ]
  },
  {
   "cell_type": "markdown",
   "id": "5ad6276a",
   "metadata": {},
   "source": [
    "nombre_infected       700\n",
    "nombre_sain           666\n",
    "nombre_exposed        122\n",
    "nombre_recovered    18512\n",
    "Name: 56, dtype: int64"
   ]
  },
  {
   "cell_type": "markdown",
   "id": "ea6e87ce",
   "metadata": {},
   "source": [
    "nombre_infected       646\n",
    "nombre_sain           694\n",
    "nombre_exposed        116\n",
    "nombre_recovered    18544\n",
    "Name: 57, dtype: int64"
   ]
  },
  {
   "cell_type": "markdown",
   "id": "76bea607",
   "metadata": {},
   "source": [
    "nombre_infected       580\n",
    "nombre_sain           746\n",
    "nombre_exposed        110\n",
    "nombre_recovered    18564\n",
    "Name: 58, dtype: int64"
   ]
  },
  {
   "cell_type": "markdown",
   "id": "b7d0b353",
   "metadata": {},
   "source": [
    "nombre_infected       538\n",
    "nombre_sain           779\n",
    "nombre_exposed        119\n",
    "nombre_recovered    18564\n",
    "Name: 59, dtype: int64"
   ]
  },
  {
   "cell_type": "markdown",
   "id": "1dd31e5e",
   "metadata": {},
   "source": [
    "nombre_infected       476\n",
    "nombre_sain           844\n",
    "nombre_exposed        115\n",
    "nombre_recovered    18565\n",
    "Name: 60, dtype: int64"
   ]
  },
  {
   "cell_type": "markdown",
   "id": "eba49ce3",
   "metadata": {},
   "source": [
    "nombre_infected       436\n",
    "nombre_sain           907\n",
    "nombre_exposed        105\n",
    "nombre_recovered    18552\n",
    "Name: 61, dtype: int64"
   ]
  },
  {
   "cell_type": "markdown",
   "id": "ff162936",
   "metadata": {},
   "source": [
    "nombre_infected       412\n",
    "nombre_sain           959\n",
    "nombre_exposed        110\n",
    "nombre_recovered    18519\n",
    "Name: 62, dtype: int64"
   ]
  },
  {
   "cell_type": "markdown",
   "id": "939c89ef",
   "metadata": {},
   "source": [
    "nombre_infected       399\n",
    "nombre_sain           999\n",
    "nombre_exposed        115\n",
    "nombre_recovered    18487\n",
    "Name: 63, dtype: int64"
   ]
  },
  {
   "cell_type": "markdown",
   "id": "a0fe7a6a",
   "metadata": {},
   "source": [
    "nombre_infected       389\n",
    "nombre_sain          1056\n",
    "nombre_exposed        111\n",
    "nombre_recovered    18444\n",
    "Name: 64, dtype: int64"
   ]
  },
  {
   "cell_type": "markdown",
   "id": "0a2d25be",
   "metadata": {},
   "source": [
    "nombre_infected       383\n",
    "nombre_sain          1111\n",
    "nombre_exposed        109\n",
    "nombre_recovered    18397\n",
    "Name: 65, dtype: int64"
   ]
  },
  {
   "cell_type": "markdown",
   "id": "da857f9f",
   "metadata": {},
   "source": [
    "nombre_infected       365\n",
    "nombre_sain          1155\n",
    "nombre_exposed        112\n",
    "nombre_recovered    18368\n",
    "Name: 66, dtype: int64"
   ]
  },
  {
   "cell_type": "markdown",
   "id": "ee8ae943",
   "metadata": {},
   "source": [
    "nombre_infected       354\n",
    "nombre_sain          1185\n",
    "nombre_exposed        119\n",
    "nombre_recovered    18342\n",
    "Name: 67, dtype: int64"
   ]
  },
  {
   "cell_type": "markdown",
   "id": "b6d6b785",
   "metadata": {},
   "source": [
    "nombre_infected       339\n",
    "nombre_sain          1224\n",
    "nombre_exposed        124\n",
    "nombre_recovered    18313\n",
    "Name: 68, dtype: int64"
   ]
  },
  {
   "cell_type": "markdown",
   "id": "a6bd7ef8",
   "metadata": {},
   "source": [
    "nombre_infected       336\n",
    "nombre_sain          1272\n",
    "nombre_exposed        131\n",
    "nombre_recovered    18261\n",
    "Name: 69, dtype: int64"
   ]
  },
  {
   "cell_type": "markdown",
   "id": "d8a4a32f",
   "metadata": {},
   "source": [
    "nombre_infected       335\n",
    "nombre_sain          1332\n",
    "nombre_exposed        119\n",
    "nombre_recovered    18214\n",
    "Name: 70, dtype: int64"
   ]
  },
  {
   "cell_type": "markdown",
   "id": "1a5797cf",
   "metadata": {},
   "source": [
    "nombre_infected       326\n",
    "nombre_sain          1362\n",
    "nombre_exposed        118\n",
    "nombre_recovered    18194\n",
    "Name: 71, dtype: int64"
   ]
  },
  {
   "cell_type": "markdown",
   "id": "ee60037d",
   "metadata": {},
   "source": [
    "nombre_infected       320\n",
    "nombre_sain          1408\n",
    "nombre_exposed        124\n",
    "nombre_recovered    18148\n",
    "Name: 72, dtype: int64"
   ]
  },
  {
   "cell_type": "markdown",
   "id": "9eab0dab",
   "metadata": {},
   "source": [
    "nombre_infected       299\n",
    "nombre_sain          1446\n",
    "nombre_exposed        126\n",
    "nombre_recovered    18129\n",
    "Name: 73, dtype: int64"
   ]
  },
  {
   "cell_type": "markdown",
   "id": "14d77e86",
   "metadata": {},
   "source": [
    "nombre_infected       288\n",
    "nombre_sain          1485\n",
    "nombre_exposed        119\n",
    "nombre_recovered    18108\n",
    "Name: 74, dtype: int64"
   ]
  },
  {
   "cell_type": "markdown",
   "id": "cf1004b0",
   "metadata": {},
   "source": [
    "nombre_infected       271\n",
    "nombre_sain          1518\n",
    "nombre_exposed        137\n",
    "nombre_recovered    18074\n",
    "Name: 75, dtype: int64"
   ]
  },
  {
   "cell_type": "markdown",
   "id": "36ade8ef",
   "metadata": {},
   "source": [
    "nombre_infected       258\n",
    "nombre_sain          1554\n",
    "nombre_exposed        143\n",
    "nombre_recovered    18045\n",
    "Name: 76, dtype: int64"
   ]
  },
  {
   "cell_type": "markdown",
   "id": "f5f798f4",
   "metadata": {},
   "source": [
    "nombre_infected       251\n",
    "nombre_sain          1585\n",
    "nombre_exposed        150\n",
    "nombre_recovered    18014\n",
    "Name: 77, dtype: int64"
   ]
  },
  {
   "cell_type": "markdown",
   "id": "445cffdd",
   "metadata": {},
   "source": [
    "nombre_infected       253\n",
    "nombre_sain          1628\n",
    "nombre_exposed        140\n",
    "nombre_recovered    17979\n",
    "Name: 78, dtype: int64"
   ]
  },
  {
   "cell_type": "markdown",
   "id": "de971a8c",
   "metadata": {},
   "source": [
    "nombre_infected       248\n",
    "nombre_sain          1664\n",
    "nombre_exposed        130\n",
    "nombre_recovered    17958\n",
    "Name: 79, dtype: int64"
   ]
  },
  {
   "cell_type": "markdown",
   "id": "ed43d925",
   "metadata": {},
   "source": [
    "nombre_infected       260\n",
    "nombre_sain          1701\n",
    "nombre_exposed        123\n",
    "nombre_recovered    17916\n",
    "Name: 80, dtype: int64"
   ]
  },
  {
   "cell_type": "markdown",
   "id": "1f1e545d",
   "metadata": {},
   "source": [
    "nombre_infected       246\n",
    "nombre_sain          1709\n",
    "nombre_exposed        144\n",
    "nombre_recovered    17901\n",
    "Name: 81, dtype: int64"
   ]
  },
  {
   "cell_type": "markdown",
   "id": "650f33f9",
   "metadata": {},
   "source": [
    "nombre_infected       234\n",
    "nombre_sain          1728\n",
    "nombre_exposed        139\n",
    "nombre_recovered    17899\n",
    "Name: 82, dtype: int64"
   ]
  },
  {
   "cell_type": "markdown",
   "id": "8d724289",
   "metadata": {},
   "source": [
    "nombre_infected       230\n",
    "nombre_sain          1747\n",
    "nombre_exposed        138\n",
    "nombre_recovered    17885\n",
    "Name: 83, dtype: int64"
   ]
  },
  {
   "cell_type": "markdown",
   "id": "db3761e4",
   "metadata": {},
   "source": [
    "nombre_infected       227\n",
    "nombre_sain          1782\n",
    "nombre_exposed        140\n",
    "nombre_recovered    17851\n",
    "Name: 84, dtype: int64"
   ]
  },
  {
   "cell_type": "markdown",
   "id": "ee188586",
   "metadata": {},
   "source": [
    "nombre_infected       227\n",
    "nombre_sain          1799\n",
    "nombre_exposed        134\n",
    "nombre_recovered    17840\n",
    "Name: 85, dtype: int64"
   ]
  },
  {
   "cell_type": "markdown",
   "id": "688784ca",
   "metadata": {},
   "source": [
    "nombre_infected       228\n",
    "nombre_sain          1800\n",
    "nombre_exposed        131\n",
    "nombre_recovered    17841\n",
    "Name: 86, dtype: int64"
   ]
  },
  {
   "cell_type": "markdown",
   "id": "c0ac5e7c",
   "metadata": {},
   "source": [
    "nombre_infected       229\n",
    "nombre_sain          1814\n",
    "nombre_exposed        126\n",
    "nombre_recovered    17831\n",
    "Name: 87, dtype: int64"
   ]
  },
  {
   "cell_type": "markdown",
   "id": "e03a46bd",
   "metadata": {},
   "source": [
    "nombre_infected       216\n",
    "nombre_sain          1833\n",
    "nombre_exposed        122\n",
    "nombre_recovered    17829\n",
    "Name: 88, dtype: int64"
   ]
  },
  {
   "cell_type": "markdown",
   "id": "47662f59",
   "metadata": {},
   "source": [
    "nombre_infected       211\n",
    "nombre_sain          1848\n",
    "nombre_exposed        122\n",
    "nombre_recovered    17819\n",
    "Name: 89, dtype: int64"
   ]
  },
  {
   "cell_type": "markdown",
   "id": "07d4e8d7",
   "metadata": {},
   "source": [
    "nombre_infected       215\n",
    "nombre_sain          1860\n",
    "nombre_exposed        124\n",
    "nombre_recovered    17801\n",
    "Name: 90, dtype: int64"
   ]
  },
  {
   "cell_type": "markdown",
   "id": "c9b5580a",
   "metadata": {},
   "source": [
    "nombre_infected       197\n",
    "nombre_sain          1875\n",
    "nombre_exposed        120\n",
    "nombre_recovered    17808\n",
    "Name: 91, dtype: int64"
   ]
  },
  {
   "cell_type": "markdown",
   "id": "95b03b54",
   "metadata": {},
   "source": [
    "nombre_infected       205\n",
    "nombre_sain          1885\n",
    "nombre_exposed        109\n",
    "nombre_recovered    17801\n",
    "Name: 92, dtype: int64"
   ]
  },
  {
   "cell_type": "markdown",
   "id": "fb1ee958",
   "metadata": {},
   "source": [
    "nombre_infected       196\n",
    "nombre_sain          1892\n",
    "nombre_exposed        111\n",
    "nombre_recovered    17801\n",
    "Name: 93, dtype: int64"
   ]
  },
  {
   "cell_type": "markdown",
   "id": "78b42a49",
   "metadata": {},
   "source": [
    "nombre_infected       199\n",
    "nombre_sain          1911\n",
    "nombre_exposed        107\n",
    "nombre_recovered    17783\n",
    "Name: 94, dtype: int64"
   ]
  },
  {
   "cell_type": "markdown",
   "id": "64a8521d",
   "metadata": {},
   "source": [
    "nombre_infected       195\n",
    "nombre_sain          1935\n",
    "nombre_exposed        113\n",
    "nombre_recovered    17757\n",
    "Name: 95, dtype: int64"
   ]
  },
  {
   "cell_type": "markdown",
   "id": "5e095ad5",
   "metadata": {},
   "source": [
    "nombre_infected       198\n",
    "nombre_sain          1959\n",
    "nombre_exposed        114\n",
    "nombre_recovered    17729\n",
    "Name: 96, dtype: int64"
   ]
  },
  {
   "cell_type": "markdown",
   "id": "9d3214f4",
   "metadata": {},
   "source": [
    "nombre_infected       198\n",
    "nombre_sain          1981\n",
    "nombre_exposed        111\n",
    "nombre_recovered    17710\n",
    "Name: 97, dtype: int64"
   ]
  },
  {
   "cell_type": "markdown",
   "id": "b009fa3b",
   "metadata": {},
   "source": [
    "nombre_infected       206\n",
    "nombre_sain          2011\n",
    "nombre_exposed        103\n",
    "nombre_recovered    17680\n",
    "Name: 98, dtype: int64"
   ]
  },
  {
   "cell_type": "markdown",
   "id": "75b6ef99",
   "metadata": {},
   "source": [
    "nombre_infected       196\n",
    "nombre_sain          2038\n",
    "nombre_exposed        110\n",
    "nombre_recovered    17656\n",
    "Name: 99, dtype: int64"
   ]
  },
  {
   "cell_type": "markdown",
   "id": "62fb05f5",
   "metadata": {},
   "source": [
    "nombre_infected       188\n",
    "nombre_sain          2063\n",
    "nombre_exposed        114\n",
    "nombre_recovered    17635\n",
    "Name: 100, dtype: int64"
   ]
  },
  {
   "cell_type": "markdown",
   "id": "0b2b47cb",
   "metadata": {},
   "source": [
    "nombre_infected       179\n",
    "nombre_sain          2115\n",
    "nombre_exposed        118\n",
    "nombre_recovered    17588\n",
    "Name: 101, dtype: int64"
   ]
  },
  {
   "cell_type": "markdown",
   "id": "25477f5d",
   "metadata": {},
   "source": [
    "nombre_infected       190\n",
    "nombre_sain          2165\n",
    "nombre_exposed        113\n",
    "nombre_recovered    17532\n",
    "Name: 102, dtype: int64"
   ]
  },
  {
   "cell_type": "markdown",
   "id": "609e9048",
   "metadata": {},
   "source": [
    "nombre_infected       184\n",
    "nombre_sain          2210\n",
    "nombre_exposed        112\n",
    "nombre_recovered    17494\n",
    "Name: 103, dtype: int64"
   ]
  },
  {
   "cell_type": "markdown",
   "id": "edc8cd22",
   "metadata": {},
   "source": [
    "nombre_infected       178\n",
    "nombre_sain          2241\n",
    "nombre_exposed        122\n",
    "nombre_recovered    17459\n",
    "Name: 104, dtype: int64"
   ]
  },
  {
   "cell_type": "markdown",
   "id": "91e0d505",
   "metadata": {},
   "source": [
    "nombre_infected       172\n",
    "nombre_sain          2275\n",
    "nombre_exposed        126\n",
    "nombre_recovered    17427\n",
    "Name: 105, dtype: int64"
   ]
  },
  {
   "cell_type": "markdown",
   "id": "e45b80ee",
   "metadata": {},
   "source": [
    "nombre_infected       183\n",
    "nombre_sain          2317\n",
    "nombre_exposed        122\n",
    "nombre_recovered    17378\n",
    "Name: 106, dtype: int64"
   ]
  },
  {
   "cell_type": "markdown",
   "id": "1b4c0936",
   "metadata": {},
   "source": [
    "nombre_infected       190\n",
    "nombre_sain          2358\n",
    "nombre_exposed        123\n",
    "nombre_recovered    17329\n",
    "Name: 107, dtype: int64"
   ]
  },
  {
   "cell_type": "markdown",
   "id": "0a324f07",
   "metadata": {},
   "source": [
    "nombre_infected       193\n",
    "nombre_sain          2389\n",
    "nombre_exposed        131\n",
    "nombre_recovered    17287\n",
    "Name: 108, dtype: int64"
   ]
  },
  {
   "cell_type": "markdown",
   "id": "651e33d9",
   "metadata": {},
   "source": [
    "nombre_infected       204\n",
    "nombre_sain          2421\n",
    "nombre_exposed        125\n",
    "nombre_recovered    17250\n",
    "Name: 109, dtype: int64"
   ]
  },
  {
   "cell_type": "markdown",
   "id": "c2aa18d1",
   "metadata": {},
   "source": [
    "nombre_infected       200\n",
    "nombre_sain          2474\n",
    "nombre_exposed        119\n",
    "nombre_recovered    17207\n",
    "Name: 110, dtype: int64"
   ]
  },
  {
   "cell_type": "markdown",
   "id": "957fef02",
   "metadata": {},
   "source": [
    "nombre_infected       213\n",
    "nombre_sain          2496\n",
    "nombre_exposed        118\n",
    "nombre_recovered    17173\n",
    "Name: 111, dtype: int64"
   ]
  },
  {
   "cell_type": "markdown",
   "id": "55f1a14b",
   "metadata": {},
   "source": [
    "nombre_infected       225\n",
    "nombre_sain          2540\n",
    "nombre_exposed        116\n",
    "nombre_recovered    17119\n",
    "Name: 112, dtype: int64"
   ]
  },
  {
   "cell_type": "markdown",
   "id": "eb44b272",
   "metadata": {},
   "source": [
    "nombre_infected       219\n",
    "nombre_sain          2562\n",
    "nombre_exposed        118\n",
    "nombre_recovered    17101\n",
    "Name: 113, dtype: int64"
   ]
  },
  {
   "cell_type": "markdown",
   "id": "226217a0",
   "metadata": {},
   "source": [
    "nombre_infected       213\n",
    "nombre_sain          2591\n",
    "nombre_exposed        118\n",
    "nombre_recovered    17078\n",
    "Name: 114, dtype: int64"
   ]
  },
  {
   "cell_type": "markdown",
   "id": "a2296a0f",
   "metadata": {},
   "source": [
    "nombre_infected       210\n",
    "nombre_sain          2618\n",
    "nombre_exposed        117\n",
    "nombre_recovered    17055\n",
    "Name: 115, dtype: int64"
   ]
  },
  {
   "cell_type": "markdown",
   "id": "ecac20ee",
   "metadata": {},
   "source": [
    "nombre_infected       209\n",
    "nombre_sain          2630\n",
    "nombre_exposed        135\n",
    "nombre_recovered    17026\n",
    "Name: 116, dtype: int64"
   ]
  },
  {
   "cell_type": "markdown",
   "id": "15303503",
   "metadata": {},
   "source": [
    "nombre_infected       210\n",
    "nombre_sain          2645\n",
    "nombre_exposed        150\n",
    "nombre_recovered    16995\n",
    "Name: 117, dtype: int64"
   ]
  },
  {
   "cell_type": "markdown",
   "id": "9227b135",
   "metadata": {},
   "source": [
    "nombre_infected       214\n",
    "nombre_sain          2647\n",
    "nombre_exposed        162\n",
    "nombre_recovered    16977\n",
    "Name: 118, dtype: int64"
   ]
  },
  {
   "cell_type": "markdown",
   "id": "5c59c747",
   "metadata": {},
   "source": [
    "nombre_infected       229\n",
    "nombre_sain          2653\n",
    "nombre_exposed        157\n",
    "nombre_recovered    16961\n",
    "Name: 119, dtype: int64"
   ]
  },
  {
   "cell_type": "markdown",
   "id": "59cac64d",
   "metadata": {},
   "source": [
    "nombre_infected       226\n",
    "nombre_sain          2666\n",
    "nombre_exposed        168\n",
    "nombre_recovered    16940\n",
    "Name: 120, dtype: int64"
   ]
  },
  {
   "cell_type": "markdown",
   "id": "9d9e50ac",
   "metadata": {},
   "source": [
    "nombre_infected       237\n",
    "nombre_sain          2664\n",
    "nombre_exposed        166\n",
    "nombre_recovered    16933\n",
    "Name: 121, dtype: int64"
   ]
  },
  {
   "cell_type": "markdown",
   "id": "f019b337",
   "metadata": {},
   "source": [
    "nombre_infected       243\n",
    "nombre_sain          2665\n",
    "nombre_exposed        171\n",
    "nombre_recovered    16921\n",
    "Name: 122, dtype: int64"
   ]
  },
  {
   "cell_type": "markdown",
   "id": "2bf7908f",
   "metadata": {},
   "source": [
    "nombre_infected       247\n",
    "nombre_sain          2661\n",
    "nombre_exposed        183\n",
    "nombre_recovered    16909\n",
    "Name: 123, dtype: int64"
   ]
  },
  {
   "cell_type": "markdown",
   "id": "8ad958d5",
   "metadata": {},
   "source": [
    "nombre_infected       268\n",
    "nombre_sain          2673\n",
    "nombre_exposed        182\n",
    "nombre_recovered    16877\n",
    "Name: 124, dtype: int64"
   ]
  },
  {
   "cell_type": "markdown",
   "id": "fc18cd06",
   "metadata": {},
   "source": [
    "nombre_infected       276\n",
    "nombre_sain          2660\n",
    "nombre_exposed        197\n",
    "nombre_recovered    16867\n",
    "Name: 125, dtype: int64"
   ]
  },
  {
   "cell_type": "markdown",
   "id": "6c142a46",
   "metadata": {},
   "source": [
    "nombre_infected       283\n",
    "nombre_sain          2658\n",
    "nombre_exposed        196\n",
    "nombre_recovered    16863\n",
    "Name: 126, dtype: int64"
   ]
  },
  {
   "cell_type": "markdown",
   "id": "b0fc10a2",
   "metadata": {},
   "source": [
    "nombre_infected       287\n",
    "nombre_sain          2649\n",
    "nombre_exposed        197\n",
    "nombre_recovered    16867\n",
    "Name: 127, dtype: int64"
   ]
  },
  {
   "cell_type": "markdown",
   "id": "7cb4d0ba",
   "metadata": {},
   "source": [
    "nombre_infected       294\n",
    "nombre_sain          2656\n",
    "nombre_exposed        208\n",
    "nombre_recovered    16842\n",
    "Name: 128, dtype: int64"
   ]
  },
  {
   "cell_type": "markdown",
   "id": "45d4fc87",
   "metadata": {},
   "source": [
    "nombre_infected       299\n",
    "nombre_sain          2654\n",
    "nombre_exposed        221\n",
    "nombre_recovered    16826\n",
    "Name: 129, dtype: int64"
   ]
  },
  {
   "cell_type": "markdown",
   "id": "6cd2a9df",
   "metadata": {},
   "source": [
    "nombre_infected       324\n",
    "nombre_sain          2656\n",
    "nombre_exposed        206\n",
    "nombre_recovered    16814\n",
    "Name: 130, dtype: int64"
   ]
  },
  {
   "cell_type": "markdown",
   "id": "982680dd",
   "metadata": {},
   "source": [
    "nombre_infected       324\n",
    "nombre_sain          2648\n",
    "nombre_exposed        215\n",
    "nombre_recovered    16813\n",
    "Name: 131, dtype: int64"
   ]
  },
  {
   "cell_type": "markdown",
   "id": "40ac960d",
   "metadata": {},
   "source": [
    "nombre_infected       327\n",
    "nombre_sain          2642\n",
    "nombre_exposed        224\n",
    "nombre_recovered    16807\n",
    "Name: 132, dtype: int64"
   ]
  },
  {
   "cell_type": "markdown",
   "id": "913ee3f0",
   "metadata": {},
   "source": [
    "nombre_infected       324\n",
    "nombre_sain          2652\n",
    "nombre_exposed        240\n",
    "nombre_recovered    16784\n",
    "Name: 133, dtype: int64"
   ]
  },
  {
   "cell_type": "markdown",
   "id": "b4019db9",
   "metadata": {},
   "source": [
    "nombre_infected       332\n",
    "nombre_sain          2667\n",
    "nombre_exposed        245\n",
    "nombre_recovered    16756\n",
    "Name: 134, dtype: int64"
   ]
  },
  {
   "cell_type": "markdown",
   "id": "6dbabda2",
   "metadata": {},
   "source": [
    "nombre_infected       336\n",
    "nombre_sain          2668\n",
    "nombre_exposed        249\n",
    "nombre_recovered    16747\n",
    "Name: 135, dtype: int64"
   ]
  },
  {
   "cell_type": "markdown",
   "id": "71c9be71",
   "metadata": {},
   "source": [
    "nombre_infected       340\n",
    "nombre_sain          2676\n",
    "nombre_exposed        244\n",
    "nombre_recovered    16740\n",
    "Name: 136, dtype: int64"
   ]
  },
  {
   "cell_type": "markdown",
   "id": "6b275291",
   "metadata": {},
   "source": [
    "nombre_infected       361\n",
    "nombre_sain          2705\n",
    "nombre_exposed        241\n",
    "nombre_recovered    16693\n",
    "Name: 137, dtype: int64"
   ]
  },
  {
   "cell_type": "markdown",
   "id": "961efcf4",
   "metadata": {},
   "source": [
    "nombre_infected       382\n",
    "nombre_sain          2708\n",
    "nombre_exposed        249\n",
    "nombre_recovered    16661\n",
    "Name: 138, dtype: int64"
   ]
  },
  {
   "cell_type": "markdown",
   "id": "2f89546a",
   "metadata": {},
   "source": [
    "nombre_infected       396\n",
    "nombre_sain          2729\n",
    "nombre_exposed        263\n",
    "nombre_recovered    16612\n",
    "Name: 139, dtype: int64"
   ]
  },
  {
   "cell_type": "markdown",
   "id": "9c65f2ff",
   "metadata": {},
   "source": [
    "nombre_infected       389\n",
    "nombre_sain          2739\n",
    "nombre_exposed        271\n",
    "nombre_recovered    16601\n",
    "Name: 140, dtype: int64"
   ]
  },
  {
   "cell_type": "markdown",
   "id": "bc7c81e3",
   "metadata": {},
   "source": [
    "nombre_infected       383\n",
    "nombre_sain          2771\n",
    "nombre_exposed        285\n",
    "nombre_recovered    16561\n",
    "Name: 141, dtype: int64"
   ]
  },
  {
   "cell_type": "markdown",
   "id": "37fc21c3",
   "metadata": {},
   "source": [
    "nombre_infected       396\n",
    "nombre_sain          2769\n",
    "nombre_exposed        309\n",
    "nombre_recovered    16526\n",
    "Name: 142, dtype: int64"
   ]
  },
  {
   "cell_type": "markdown",
   "id": "1b8bc498",
   "metadata": {},
   "source": [
    "nombre_infected       414\n",
    "nombre_sain          2810\n",
    "nombre_exposed        293\n",
    "nombre_recovered    16483\n",
    "Name: 143, dtype: int64"
   ]
  },
  {
   "cell_type": "markdown",
   "id": "bf63718b",
   "metadata": {},
   "source": [
    "nombre_infected       428\n",
    "nombre_sain          2803\n",
    "nombre_exposed        304\n",
    "nombre_recovered    16465\n",
    "Name: 144, dtype: int64"
   ]
  },
  {
   "cell_type": "markdown",
   "id": "1c0e2a96",
   "metadata": {},
   "source": [
    "nombre_infected       447\n",
    "nombre_sain          2794\n",
    "nombre_exposed        318\n",
    "nombre_recovered    16441\n",
    "Name: 145, dtype: int64"
   ]
  },
  {
   "cell_type": "markdown",
   "id": "0fa3b762",
   "metadata": {},
   "source": [
    "nombre_infected       455\n",
    "nombre_sain          2785\n",
    "nombre_exposed        323\n",
    "nombre_recovered    16437\n",
    "Name: 146, dtype: int64"
   ]
  },
  {
   "cell_type": "markdown",
   "id": "bf9c369b",
   "metadata": {},
   "source": [
    "nombre_infected       454\n",
    "nombre_sain          2766\n",
    "nombre_exposed        341\n",
    "nombre_recovered    16439\n",
    "Name: 147, dtype: int64"
   ]
  },
  {
   "cell_type": "markdown",
   "id": "b1c24c69",
   "metadata": {},
   "source": [
    "nombre_infected       481\n",
    "nombre_sain          2730\n",
    "nombre_exposed        344\n",
    "nombre_recovered    16445\n",
    "Name: 148, dtype: int64"
   ]
  },
  {
   "cell_type": "markdown",
   "id": "7247d95b",
   "metadata": {},
   "source": [
    "nombre_infected       515\n",
    "nombre_sain          2698\n",
    "nombre_exposed        354\n",
    "nombre_recovered    16433\n",
    "Name: 149, dtype: int64"
   ]
  },
  {
   "cell_type": "markdown",
   "id": "24f993e6",
   "metadata": {},
   "source": [
    "nombre_infected       535\n",
    "nombre_sain          2663\n",
    "nombre_exposed        372\n",
    "nombre_recovered    16430\n",
    "Name: 150, dtype: int64"
   ]
  },
  {
   "cell_type": "markdown",
   "id": "62c7afd3",
   "metadata": {},
   "source": [
    "nombre_infected       553\n",
    "nombre_sain          2643\n",
    "nombre_exposed        383\n",
    "nombre_recovered    16421\n",
    "Name: 151, dtype: int64"
   ]
  },
  {
   "cell_type": "markdown",
   "id": "0762a0f4",
   "metadata": {},
   "source": [
    "nombre_infected       580\n",
    "nombre_sain          2618\n",
    "nombre_exposed        374\n",
    "nombre_recovered    16428\n",
    "Name: 152, dtype: int64"
   ]
  },
  {
   "cell_type": "markdown",
   "id": "2af8aa91",
   "metadata": {},
   "source": [
    "nombre_infected       590\n",
    "nombre_sain          2603\n",
    "nombre_exposed        388\n",
    "nombre_recovered    16419\n",
    "Name: 153, dtype: int64"
   ]
  },
  {
   "cell_type": "markdown",
   "id": "b1259976",
   "metadata": {},
   "source": [
    "nombre_infected       604\n",
    "nombre_sain          2566\n",
    "nombre_exposed        390\n",
    "nombre_recovered    16440\n",
    "Name: 154, dtype: int64"
   ]
  },
  {
   "cell_type": "markdown",
   "id": "dd70ccba",
   "metadata": {},
   "source": [
    "nombre_infected       618\n",
    "nombre_sain          2516\n",
    "nombre_exposed        421\n",
    "nombre_recovered    16445\n",
    "Name: 155, dtype: int64"
   ]
  },
  {
   "cell_type": "markdown",
   "id": "5e27bf3d",
   "metadata": {},
   "source": [
    "nombre_infected       624\n",
    "nombre_sain          2491\n",
    "nombre_exposed        444\n",
    "nombre_recovered    16441\n",
    "Name: 156, dtype: int64"
   ]
  },
  {
   "cell_type": "markdown",
   "id": "58e64591",
   "metadata": {},
   "source": [
    "nombre_infected       626\n",
    "nombre_sain          2478\n",
    "nombre_exposed        452\n",
    "nombre_recovered    16444\n",
    "Name: 157, dtype: int64"
   ]
  },
  {
   "cell_type": "markdown",
   "id": "bc742906",
   "metadata": {},
   "source": [
    "nombre_infected       650\n",
    "nombre_sain          2435\n",
    "nombre_exposed        456\n",
    "nombre_recovered    16459\n",
    "Name: 158, dtype: int64"
   ]
  },
  {
   "cell_type": "markdown",
   "id": "293309b7",
   "metadata": {},
   "source": [
    "nombre_infected       660\n",
    "nombre_sain          2392\n",
    "nombre_exposed        475\n",
    "nombre_recovered    16473\n",
    "Name: 159, dtype: int64"
   ]
  },
  {
   "cell_type": "markdown",
   "id": "3f1efd6b",
   "metadata": {},
   "source": [
    "nombre_infected       690\n",
    "nombre_sain          2360\n",
    "nombre_exposed        465\n",
    "nombre_recovered    16485\n",
    "Name: 160, dtype: int64"
   ]
  },
  {
   "cell_type": "markdown",
   "id": "92757dec",
   "metadata": {},
   "source": [
    "nombre_infected       721\n",
    "nombre_sain          2334\n",
    "nombre_exposed        465\n",
    "nombre_recovered    16480\n",
    "Name: 161, dtype: int64"
   ]
  },
  {
   "cell_type": "markdown",
   "id": "1592d170",
   "metadata": {},
   "source": [
    "nombre_infected       756\n",
    "nombre_sain          2313\n",
    "nombre_exposed        436\n",
    "nombre_recovered    16495\n",
    "Name: 162, dtype: int64"
   ]
  },
  {
   "cell_type": "markdown",
   "id": "e365bf11",
   "metadata": {},
   "source": [
    "nombre_infected       757\n",
    "nombre_sain          2284\n",
    "nombre_exposed        453\n",
    "nombre_recovered    16506\n",
    "Name: 163, dtype: int64"
   ]
  },
  {
   "cell_type": "markdown",
   "id": "6ea0b5e7",
   "metadata": {},
   "source": [
    "nombre_infected       761\n",
    "nombre_sain          2246\n",
    "nombre_exposed        458\n",
    "nombre_recovered    16535\n",
    "Name: 164, dtype: int64"
   ]
  },
  {
   "cell_type": "markdown",
   "id": "237c2cd3",
   "metadata": {},
   "source": [
    "nombre_infected       786\n",
    "nombre_sain          2189\n",
    "nombre_exposed        449\n",
    "nombre_recovered    16576\n",
    "Name: 165, dtype: int64"
   ]
  },
  {
   "cell_type": "markdown",
   "id": "0f30b4aa",
   "metadata": {},
   "source": [
    "nombre_infected       798\n",
    "nombre_sain          2156\n",
    "nombre_exposed        452\n",
    "nombre_recovered    16594\n",
    "Name: 166, dtype: int64"
   ]
  },
  {
   "cell_type": "markdown",
   "id": "3f95e822",
   "metadata": {},
   "source": [
    "nombre_infected       823\n",
    "nombre_sain          2128\n",
    "nombre_exposed        429\n",
    "nombre_recovered    16620\n",
    "Name: 167, dtype: int64"
   ]
  },
  {
   "cell_type": "markdown",
   "id": "05b9c674",
   "metadata": {},
   "source": [
    "nombre_infected       839\n",
    "nombre_sain          2079\n",
    "nombre_exposed        434\n",
    "nombre_recovered    16648\n",
    "Name: 168, dtype: int64"
   ]
  },
  {
   "cell_type": "markdown",
   "id": "c305dc0c",
   "metadata": {},
   "source": [
    "nombre_infected       815\n",
    "nombre_sain          2024\n",
    "nombre_exposed        457\n",
    "nombre_recovered    16704\n",
    "Name: 169, dtype: int64"
   ]
  },
  {
   "cell_type": "markdown",
   "id": "50966142",
   "metadata": {},
   "source": [
    "nombre_infected       801\n",
    "nombre_sain          2008\n",
    "nombre_exposed        455\n",
    "nombre_recovered    16736\n",
    "Name: 170, dtype: int64"
   ]
  },
  {
   "cell_type": "markdown",
   "id": "0799f01e",
   "metadata": {},
   "source": [
    "nombre_infected       819\n",
    "nombre_sain          1978\n",
    "nombre_exposed        437\n",
    "nombre_recovered    16766\n",
    "Name: 171, dtype: int64"
   ]
  },
  {
   "cell_type": "markdown",
   "id": "00660991",
   "metadata": {},
   "source": [
    "nombre_infected       840\n",
    "nombre_sain          1966\n",
    "nombre_exposed        424\n",
    "nombre_recovered    16770\n",
    "Name: 172, dtype: int64"
   ]
  },
  {
   "cell_type": "markdown",
   "id": "227ba6ba",
   "metadata": {},
   "source": [
    "nombre_infected       846\n",
    "nombre_sain          1963\n",
    "nombre_exposed        395\n",
    "nombre_recovered    16796\n",
    "Name: 173, dtype: int64"
   ]
  },
  {
   "cell_type": "markdown",
   "id": "52ea5c4f",
   "metadata": {},
   "source": [
    "nombre_infected       827\n",
    "nombre_sain          1929\n",
    "nombre_exposed        397\n",
    "nombre_recovered    16847\n",
    "Name: 174, dtype: int64"
   ]
  },
  {
   "cell_type": "markdown",
   "id": "ad027355",
   "metadata": {},
   "source": [
    "nombre_infected       803\n",
    "nombre_sain          1923\n",
    "nombre_exposed        407\n",
    "nombre_recovered    16867\n",
    "Name: 175, dtype: int64"
   ]
  },
  {
   "cell_type": "markdown",
   "id": "d2de6bf0",
   "metadata": {},
   "source": [
    "nombre_infected       807\n",
    "nombre_sain          1924\n",
    "nombre_exposed        386\n",
    "nombre_recovered    16883\n",
    "Name: 176, dtype: int64"
   ]
  },
  {
   "cell_type": "markdown",
   "id": "a89f298a",
   "metadata": {},
   "source": [
    "nombre_infected       791\n",
    "nombre_sain          1940\n",
    "nombre_exposed        380\n",
    "nombre_recovered    16889\n",
    "Name: 177, dtype: int64"
   ]
  },
  {
   "cell_type": "markdown",
   "id": "4ca835ce",
   "metadata": {},
   "source": [
    "nombre_infected       782\n",
    "nombre_sain          1926\n",
    "nombre_exposed        366\n",
    "nombre_recovered    16926\n",
    "Name: 178, dtype: int64"
   ]
  },
  {
   "cell_type": "markdown",
   "id": "8a1b4fa6",
   "metadata": {},
   "source": [
    "nombre_infected       766\n",
    "nombre_sain          1931\n",
    "nombre_exposed        374\n",
    "nombre_recovered    16929\n",
    "Name: 179, dtype: int64"
   ]
  },
  {
   "cell_type": "markdown",
   "id": "aa4cdac5",
   "metadata": {},
   "source": [
    "nombre_infected       773\n",
    "nombre_sain          1928\n",
    "nombre_exposed        391\n",
    "nombre_recovered    16908\n",
    "Name: 180, dtype: int64"
   ]
  },
  {
   "cell_type": "markdown",
   "id": "a817a9d1",
   "metadata": {},
   "source": [
    "nombre_infected       789\n",
    "nombre_sain          1928\n",
    "nombre_exposed        370\n",
    "nombre_recovered    16913\n",
    "Name: 181, dtype: int64"
   ]
  },
  {
   "cell_type": "markdown",
   "id": "1f432f83",
   "metadata": {},
   "source": [
    "nombre_infected       777\n",
    "nombre_sain          1934\n",
    "nombre_exposed        368\n",
    "nombre_recovered    16921\n",
    "Name: 182, dtype: int64"
   ]
  },
  {
   "cell_type": "markdown",
   "id": "65007f13",
   "metadata": {},
   "source": [
    "nombre_infected       753\n",
    "nombre_sain          1937\n",
    "nombre_exposed        363\n",
    "nombre_recovered    16947\n",
    "Name: 183, dtype: int64"
   ]
  },
  {
   "cell_type": "markdown",
   "id": "6ba46bcc",
   "metadata": {},
   "source": [
    "nombre_infected       760\n",
    "nombre_sain          1932\n",
    "nombre_exposed        348\n",
    "nombre_recovered    16960\n",
    "Name: 184, dtype: int64"
   ]
  },
  {
   "cell_type": "markdown",
   "id": "9f4ab89c",
   "metadata": {},
   "source": [
    "nombre_infected       747\n",
    "nombre_sain          1933\n",
    "nombre_exposed        354\n",
    "nombre_recovered    16966\n",
    "Name: 185, dtype: int64"
   ]
  },
  {
   "cell_type": "markdown",
   "id": "dd6cd86f",
   "metadata": {},
   "source": [
    "nombre_infected       730\n",
    "nombre_sain          1918\n",
    "nombre_exposed        364\n",
    "nombre_recovered    16988\n",
    "Name: 186, dtype: int64"
   ]
  },
  {
   "cell_type": "markdown",
   "id": "ab67690b",
   "metadata": {},
   "source": [
    "nombre_infected       724\n",
    "nombre_sain          1909\n",
    "nombre_exposed        353\n",
    "nombre_recovered    17014\n",
    "Name: 187, dtype: int64"
   ]
  },
  {
   "cell_type": "markdown",
   "id": "23cb3fab",
   "metadata": {},
   "source": [
    "nombre_infected       726\n",
    "nombre_sain          1894\n",
    "nombre_exposed        361\n",
    "nombre_recovered    17019\n",
    "Name: 188, dtype: int64"
   ]
  },
  {
   "cell_type": "markdown",
   "id": "8cf81929",
   "metadata": {},
   "source": [
    "nombre_infected       721\n",
    "nombre_sain          1891\n",
    "nombre_exposed        354\n",
    "nombre_recovered    17034\n",
    "Name: 189, dtype: int64"
   ]
  },
  {
   "cell_type": "markdown",
   "id": "1b392588",
   "metadata": {},
   "source": [
    "nombre_infected       722\n",
    "nombre_sain          1895\n",
    "nombre_exposed        339\n",
    "nombre_recovered    17044\n",
    "Name: 190, dtype: int64"
   ]
  },
  {
   "cell_type": "markdown",
   "id": "83e9b32f",
   "metadata": {},
   "source": [
    "nombre_infected       714\n",
    "nombre_sain          1891\n",
    "nombre_exposed        344\n",
    "nombre_recovered    17051\n",
    "Name: 191, dtype: int64"
   ]
  },
  {
   "cell_type": "markdown",
   "id": "a420a600",
   "metadata": {},
   "source": [
    "nombre_infected       726\n",
    "nombre_sain          1893\n",
    "nombre_exposed        329\n",
    "nombre_recovered    17052\n",
    "Name: 192, dtype: int64"
   ]
  },
  {
   "cell_type": "markdown",
   "id": "76a33708",
   "metadata": {},
   "source": [
    "nombre_infected       735\n",
    "nombre_sain          1883\n",
    "nombre_exposed        323\n",
    "nombre_recovered    17059\n",
    "Name: 193, dtype: int64"
   ]
  },
  {
   "cell_type": "markdown",
   "id": "1a0f76cf",
   "metadata": {},
   "source": [
    "nombre_infected       719\n",
    "nombre_sain          1871\n",
    "nombre_exposed        339\n",
    "nombre_recovered    17071\n",
    "Name: 194, dtype: int64"
   ]
  },
  {
   "cell_type": "markdown",
   "id": "a3518589",
   "metadata": {},
   "source": [
    "nombre_infected       727\n",
    "nombre_sain          1874\n",
    "nombre_exposed        331\n",
    "nombre_recovered    17068\n",
    "Name: 195, dtype: int64"
   ]
  },
  {
   "cell_type": "markdown",
   "id": "f484703c",
   "metadata": {},
   "source": [
    "nombre_infected       700\n",
    "nombre_sain          1864\n",
    "nombre_exposed        365\n",
    "nombre_recovered    17071\n",
    "Name: 196, dtype: int64"
   ]
  },
  {
   "cell_type": "markdown",
   "id": "0e2277ba",
   "metadata": {},
   "source": [
    "nombre_infected       700\n",
    "nombre_sain          1877\n",
    "nombre_exposed        359\n",
    "nombre_recovered    17064\n",
    "Name: 197, dtype: int64"
   ]
  },
  {
   "cell_type": "markdown",
   "id": "eb03ae0f",
   "metadata": {},
   "source": [
    "nombre_infected       721\n",
    "nombre_sain          1904\n",
    "nombre_exposed        348\n",
    "nombre_recovered    17027\n",
    "Name: 198, dtype: int64"
   ]
  },
  {
   "cell_type": "markdown",
   "id": "5e176171",
   "metadata": {},
   "source": [
    "nombre_infected       728\n",
    "nombre_sain          1913\n",
    "nombre_exposed        346\n",
    "nombre_recovered    17013\n",
    "Name: 199, dtype: int64"
   ]
  },
  {
   "cell_type": "markdown",
   "id": "645fa530",
   "metadata": {},
   "source": [
    "nombre_infected       701\n",
    "nombre_sain          1928\n",
    "nombre_exposed        359\n",
    "nombre_recovered    17012\n",
    "Name: 200, dtype: int64"
   ]
  },
  {
   "cell_type": "markdown",
   "id": "c8887e74",
   "metadata": {},
   "source": [
    "nombre_infected       691\n",
    "nombre_sain          1949\n",
    "nombre_exposed        336\n",
    "nombre_recovered    17024\n",
    "Name: 201, dtype: int64"
   ]
  },
  {
   "cell_type": "markdown",
   "id": "7d6d9137",
   "metadata": {},
   "source": [
    "nombre_infected       676\n",
    "nombre_sain          1959\n",
    "nombre_exposed        331\n",
    "nombre_recovered    17034\n",
    "Name: 202, dtype: int64"
   ]
  },
  {
   "cell_type": "markdown",
   "id": "c4837446",
   "metadata": {},
   "source": [
    "nombre_infected       685\n",
    "nombre_sain          1979\n",
    "nombre_exposed        340\n",
    "nombre_recovered    16996\n",
    "Name: 203, dtype: int64"
   ]
  },
  {
   "cell_type": "markdown",
   "id": "48e0dbc8",
   "metadata": {},
   "source": [
    "nombre_infected       690\n",
    "nombre_sain          1995\n",
    "nombre_exposed        341\n",
    "nombre_recovered    16974\n",
    "Name: 204, dtype: int64"
   ]
  },
  {
   "cell_type": "markdown",
   "id": "b9cd7442",
   "metadata": {},
   "source": [
    "nombre_infected       664\n",
    "nombre_sain          1996\n",
    "nombre_exposed        346\n",
    "nombre_recovered    16994\n",
    "Name: 205, dtype: int64"
   ]
  },
  {
   "cell_type": "markdown",
   "id": "c175120f",
   "metadata": {},
   "source": [
    "nombre_infected       672\n",
    "nombre_sain          2032\n",
    "nombre_exposed        342\n",
    "nombre_recovered    16954\n",
    "Name: 206, dtype: int64"
   ]
  },
  {
   "cell_type": "markdown",
   "id": "b92e86cd",
   "metadata": {},
   "source": [
    "nombre_infected       649\n",
    "nombre_sain          2061\n",
    "nombre_exposed        337\n",
    "nombre_recovered    16953\n",
    "Name: 207, dtype: int64"
   ]
  },
  {
   "cell_type": "markdown",
   "id": "2d0f6b50",
   "metadata": {},
   "source": [
    "nombre_infected       656\n",
    "nombre_sain          2067\n",
    "nombre_exposed        351\n",
    "nombre_recovered    16926\n",
    "Name: 208, dtype: int64"
   ]
  },
  {
   "cell_type": "markdown",
   "id": "fb3e5c54",
   "metadata": {},
   "source": [
    "nombre_infected       629\n",
    "nombre_sain          2074\n",
    "nombre_exposed        367\n",
    "nombre_recovered    16930\n",
    "Name: 209, dtype: int64"
   ]
  },
  {
   "cell_type": "markdown",
   "id": "868cb24c",
   "metadata": {},
   "source": [
    "nombre_infected       646\n",
    "nombre_sain          2092\n",
    "nombre_exposed        350\n",
    "nombre_recovered    16912\n",
    "Name: 210, dtype: int64"
   ]
  },
  {
   "cell_type": "markdown",
   "id": "d1a1f58a",
   "metadata": {},
   "source": [
    "nombre_infected       636\n",
    "nombre_sain          2104\n",
    "nombre_exposed        356\n",
    "nombre_recovered    16904\n",
    "Name: 211, dtype: int64"
   ]
  },
  {
   "cell_type": "markdown",
   "id": "587d4467",
   "metadata": {},
   "source": [
    "nombre_infected       625\n",
    "nombre_sain          2132\n",
    "nombre_exposed        357\n",
    "nombre_recovered    16886\n",
    "Name: 212, dtype: int64"
   ]
  },
  {
   "cell_type": "markdown",
   "id": "dd3fac6e",
   "metadata": {},
   "source": [
    "nombre_infected       614\n",
    "nombre_sain          2166\n",
    "nombre_exposed        350\n",
    "nombre_recovered    16870\n",
    "Name: 213, dtype: int64"
   ]
  },
  {
   "cell_type": "markdown",
   "id": "de096677",
   "metadata": {},
   "source": [
    "nombre_infected       614\n",
    "nombre_sain          2192\n",
    "nombre_exposed        342\n",
    "nombre_recovered    16852\n",
    "Name: 214, dtype: int64"
   ]
  },
  {
   "cell_type": "markdown",
   "id": "5ce9b612",
   "metadata": {},
   "source": [
    "nombre_infected       613\n",
    "nombre_sain          2206\n",
    "nombre_exposed        367\n",
    "nombre_recovered    16814\n",
    "Name: 215, dtype: int64"
   ]
  },
  {
   "cell_type": "markdown",
   "id": "4edc12b0",
   "metadata": {},
   "source": [
    "nombre_infected       601\n",
    "nombre_sain          2239\n",
    "nombre_exposed        371\n",
    "nombre_recovered    16789\n",
    "Name: 216, dtype: int64"
   ]
  },
  {
   "cell_type": "markdown",
   "id": "68a753ad",
   "metadata": {},
   "source": [
    "nombre_infected       611\n",
    "nombre_sain          2242\n",
    "nombre_exposed        377\n",
    "nombre_recovered    16770\n",
    "Name: 217, dtype: int64"
   ]
  },
  {
   "cell_type": "markdown",
   "id": "8979b990",
   "metadata": {},
   "source": [
    "nombre_infected       618\n",
    "nombre_sain          2274\n",
    "nombre_exposed        395\n",
    "nombre_recovered    16713\n",
    "Name: 218, dtype: int64"
   ]
  },
  {
   "cell_type": "markdown",
   "id": "ce802157",
   "metadata": {},
   "source": [
    "nombre_infected       640\n",
    "nombre_sain          2301\n",
    "nombre_exposed        386\n",
    "nombre_recovered    16673\n",
    "Name: 219, dtype: int64"
   ]
  },
  {
   "cell_type": "markdown",
   "id": "faf5976d",
   "metadata": {},
   "source": [
    "nombre_infected       634\n",
    "nombre_sain          2322\n",
    "nombre_exposed        391\n",
    "nombre_recovered    16653\n",
    "Name: 220, dtype: int64"
   ]
  },
  {
   "cell_type": "markdown",
   "id": "c450b90c",
   "metadata": {},
   "source": [
    "nombre_infected       609\n",
    "nombre_sain          2343\n",
    "nombre_exposed        410\n",
    "nombre_recovered    16638\n",
    "Name: 221, dtype: int64"
   ]
  },
  {
   "cell_type": "markdown",
   "id": "734424cd",
   "metadata": {},
   "source": [
    "nombre_infected       632\n",
    "nombre_sain          2354\n",
    "nombre_exposed        389\n",
    "nombre_recovered    16625\n",
    "Name: 222, dtype: int64"
   ]
  },
  {
   "cell_type": "markdown",
   "id": "083e42d5",
   "metadata": {},
   "source": [
    "nombre_infected       655\n",
    "nombre_sain          2344\n",
    "nombre_exposed        396\n",
    "nombre_recovered    16605\n",
    "Name: 223, dtype: int64"
   ]
  },
  {
   "cell_type": "markdown",
   "id": "31ab40cc",
   "metadata": {},
   "source": [
    "nombre_infected       666\n",
    "nombre_sain          2327\n",
    "nombre_exposed        420\n",
    "nombre_recovered    16587\n",
    "Name: 224, dtype: int64"
   ]
  },
  {
   "cell_type": "markdown",
   "id": "98cdfea2",
   "metadata": {},
   "source": [
    "nombre_infected       651\n",
    "nombre_sain          2337\n",
    "nombre_exposed        428\n",
    "nombre_recovered    16584\n",
    "Name: 225, dtype: int64"
   ]
  },
  {
   "cell_type": "markdown",
   "id": "7ed516d0",
   "metadata": {},
   "source": [
    "nombre_infected       655\n",
    "nombre_sain          2349\n",
    "nombre_exposed        439\n",
    "nombre_recovered    16557\n",
    "Name: 226, dtype: int64"
   ]
  },
  {
   "cell_type": "markdown",
   "id": "61a35b2b",
   "metadata": {},
   "source": [
    "nombre_infected       631\n",
    "nombre_sain          2346\n",
    "nombre_exposed        473\n",
    "nombre_recovered    16550\n",
    "Name: 227, dtype: int64"
   ]
  },
  {
   "cell_type": "markdown",
   "id": "f71f4432",
   "metadata": {},
   "source": [
    "nombre_infected       652\n",
    "nombre_sain          2342\n",
    "nombre_exposed        483\n",
    "nombre_recovered    16523\n",
    "Name: 228, dtype: int64"
   ]
  },
  {
   "cell_type": "markdown",
   "id": "b6036aaa",
   "metadata": {},
   "source": [
    "nombre_infected       675\n",
    "nombre_sain          2352\n",
    "nombre_exposed        478\n",
    "nombre_recovered    16495\n",
    "Name: 229, dtype: int64"
   ]
  },
  {
   "cell_type": "markdown",
   "id": "d36a745b",
   "metadata": {},
   "source": [
    "nombre_infected       703\n",
    "nombre_sain          2362\n",
    "nombre_exposed        477\n",
    "nombre_recovered    16458\n",
    "Name: 230, dtype: int64"
   ]
  },
  {
   "cell_type": "markdown",
   "id": "09b2a757",
   "metadata": {},
   "source": [
    "nombre_infected       722\n",
    "nombre_sain          2377\n",
    "nombre_exposed        474\n",
    "nombre_recovered    16427\n",
    "Name: 231, dtype: int64"
   ]
  },
  {
   "cell_type": "markdown",
   "id": "81b0c762",
   "metadata": {},
   "source": [
    "nombre_infected       740\n",
    "nombre_sain          2365\n",
    "nombre_exposed        485\n",
    "nombre_recovered    16410\n",
    "Name: 232, dtype: int64"
   ]
  },
  {
   "cell_type": "markdown",
   "id": "e193c3da",
   "metadata": {},
   "source": [
    "nombre_infected       735\n",
    "nombre_sain          2357\n",
    "nombre_exposed        487\n",
    "nombre_recovered    16421\n",
    "Name: 233, dtype: int64"
   ]
  },
  {
   "cell_type": "markdown",
   "id": "72ca88a4",
   "metadata": {},
   "source": [
    "nombre_infected       738\n",
    "nombre_sain          2343\n",
    "nombre_exposed        490\n",
    "nombre_recovered    16429\n",
    "Name: 234, dtype: int64"
   ]
  },
  {
   "cell_type": "markdown",
   "id": "be0514ce",
   "metadata": {},
   "source": [
    "nombre_infected       742\n",
    "nombre_sain          2338\n",
    "nombre_exposed        509\n",
    "nombre_recovered    16411\n",
    "Name: 235, dtype: int64"
   ]
  },
  {
   "cell_type": "markdown",
   "id": "59011390",
   "metadata": {},
   "source": [
    "nombre_infected       756\n",
    "nombre_sain          2366\n",
    "nombre_exposed        509\n",
    "nombre_recovered    16369\n",
    "Name: 236, dtype: int64"
   ]
  },
  {
   "cell_type": "markdown",
   "id": "3973d88b",
   "metadata": {},
   "source": [
    "nombre_infected       766\n",
    "nombre_sain          2386\n",
    "nombre_exposed        503\n",
    "nombre_recovered    16345\n",
    "Name: 237, dtype: int64"
   ]
  },
  {
   "cell_type": "markdown",
   "id": "24ab7b80",
   "metadata": {},
   "source": [
    "nombre_infected       786\n",
    "nombre_sain          2375\n",
    "nombre_exposed        520\n",
    "nombre_recovered    16319\n",
    "Name: 238, dtype: int64"
   ]
  },
  {
   "cell_type": "markdown",
   "id": "8025f59a",
   "metadata": {},
   "source": [
    "nombre_infected       797\n",
    "nombre_sain          2398\n",
    "nombre_exposed        514\n",
    "nombre_recovered    16291\n",
    "Name: 239, dtype: int64"
   ]
  },
  {
   "cell_type": "markdown",
   "id": "c7f5585b",
   "metadata": {},
   "source": [
    "nombre_infected       816\n",
    "nombre_sain          2391\n",
    "nombre_exposed        524\n",
    "nombre_recovered    16269\n",
    "Name: 240, dtype: int64"
   ]
  },
  {
   "cell_type": "markdown",
   "id": "4413980f",
   "metadata": {},
   "source": [
    "nombre_infected       844\n",
    "nombre_sain          2383\n",
    "nombre_exposed        515\n",
    "nombre_recovered    16258\n",
    "Name: 241, dtype: int64"
   ]
  },
  {
   "cell_type": "markdown",
   "id": "bf41179a",
   "metadata": {},
   "source": [
    "nombre_infected       832\n",
    "nombre_sain          2360\n",
    "nombre_exposed        529\n",
    "nombre_recovered    16279\n",
    "Name: 242, dtype: int64"
   ]
  },
  {
   "cell_type": "markdown",
   "id": "dd561719",
   "metadata": {},
   "source": [
    "nombre_infected       844\n",
    "nombre_sain          2354\n",
    "nombre_exposed        537\n",
    "nombre_recovered    16265\n",
    "Name: 243, dtype: int64"
   ]
  },
  {
   "cell_type": "markdown",
   "id": "a7b53ac4",
   "metadata": {},
   "source": [
    "nombre_infected       863\n",
    "nombre_sain          2302\n",
    "nombre_exposed        565\n",
    "nombre_recovered    16270\n",
    "Name: 244, dtype: int64"
   ]
  },
  {
   "cell_type": "markdown",
   "id": "4b42dbef",
   "metadata": {},
   "source": [
    "nombre_infected       863\n",
    "nombre_sain          2263\n",
    "nombre_exposed        585\n",
    "nombre_recovered    16289\n",
    "Name: 245, dtype: int64"
   ]
  },
  {
   "cell_type": "markdown",
   "id": "3faf742e",
   "metadata": {},
   "source": [
    "nombre_infected       876\n",
    "nombre_sain          2239\n",
    "nombre_exposed        593\n",
    "nombre_recovered    16292\n",
    "Name: 246, dtype: int64"
   ]
  },
  {
   "cell_type": "markdown",
   "id": "738612e0",
   "metadata": {},
   "source": [
    "nombre_infected       878\n",
    "nombre_sain          2211\n",
    "nombre_exposed        600\n",
    "nombre_recovered    16311\n",
    "Name: 247, dtype: int64"
   ]
  },
  {
   "cell_type": "markdown",
   "id": "b908e00f",
   "metadata": {},
   "source": [
    "nombre_infected       906\n",
    "nombre_sain          2176\n",
    "nombre_exposed        610\n",
    "nombre_recovered    16308\n",
    "Name: 248, dtype: int64"
   ]
  },
  {
   "cell_type": "markdown",
   "id": "c204c5d4",
   "metadata": {},
   "source": [
    "nombre_infected       928\n",
    "nombre_sain          2151\n",
    "nombre_exposed        605\n",
    "nombre_recovered    16316\n",
    "Name: 249, dtype: int64"
   ]
  },
  {
   "cell_type": "markdown",
   "id": "08594ef9",
   "metadata": {},
   "source": [
    "nombre_infected       960\n",
    "nombre_sain          2120\n",
    "nombre_exposed        591\n",
    "nombre_recovered    16329\n",
    "Name: 250, dtype: int64"
   ]
  },
  {
   "cell_type": "markdown",
   "id": "bafdf66f",
   "metadata": {},
   "source": [
    "nombre_infected       960\n",
    "nombre_sain          2091\n",
    "nombre_exposed        601\n",
    "nombre_recovered    16348\n",
    "Name: 251, dtype: int64"
   ]
  },
  {
   "cell_type": "markdown",
   "id": "da7524f3",
   "metadata": {},
   "source": [
    "nombre_infected       971\n",
    "nombre_sain          2067\n",
    "nombre_exposed        603\n",
    "nombre_recovered    16359\n",
    "Name: 252, dtype: int64"
   ]
  },
  {
   "cell_type": "markdown",
   "id": "c02d1b82",
   "metadata": {},
   "source": [
    "nombre_infected       966\n",
    "nombre_sain          2067\n",
    "nombre_exposed        579\n",
    "nombre_recovered    16388\n",
    "Name: 253, dtype: int64"
   ]
  },
  {
   "cell_type": "markdown",
   "id": "e6df28cc",
   "metadata": {},
   "source": [
    "nombre_infected       993\n",
    "nombre_sain          2058\n",
    "nombre_exposed        554\n",
    "nombre_recovered    16395\n",
    "Name: 254, dtype: int64"
   ]
  },
  {
   "cell_type": "markdown",
   "id": "b66c38eb",
   "metadata": {},
   "source": [
    "nombre_infected       978\n",
    "nombre_sain          2030\n",
    "nombre_exposed        553\n",
    "nombre_recovered    16439\n",
    "Name: 255, dtype: int64"
   ]
  },
  {
   "cell_type": "markdown",
   "id": "0c93d021",
   "metadata": {},
   "source": [
    "nombre_infected       985\n",
    "nombre_sain          2019\n",
    "nombre_exposed        550\n",
    "nombre_recovered    16446\n",
    "Name: 256, dtype: int64"
   ]
  },
  {
   "cell_type": "markdown",
   "id": "1f9226b8",
   "metadata": {},
   "source": [
    "nombre_infected      1011\n",
    "nombre_sain          2013\n",
    "nombre_exposed        522\n",
    "nombre_recovered    16454\n",
    "Name: 257, dtype: int64"
   ]
  },
  {
   "cell_type": "markdown",
   "id": "6dfc999f",
   "metadata": {},
   "source": [
    "nombre_infected       990\n",
    "nombre_sain          1999\n",
    "nombre_exposed        532\n",
    "nombre_recovered    16479\n",
    "Name: 258, dtype: int64"
   ]
  },
  {
   "cell_type": "markdown",
   "id": "1ebe07a2",
   "metadata": {},
   "source": [
    "nombre_infected       961\n",
    "nombre_sain          1996\n",
    "nombre_exposed        557\n",
    "nombre_recovered    16486\n",
    "Name: 259, dtype: int64"
   ]
  },
  {
   "cell_type": "markdown",
   "id": "ec65d9e1",
   "metadata": {},
   "source": [
    "nombre_infected       963\n",
    "nombre_sain          1993\n",
    "nombre_exposed        543\n",
    "nombre_recovered    16501\n",
    "Name: 260, dtype: int64"
   ]
  },
  {
   "cell_type": "markdown",
   "id": "9de35f82",
   "metadata": {},
   "source": [
    "nombre_infected       949\n",
    "nombre_sain          1972\n",
    "nombre_exposed        548\n",
    "nombre_recovered    16531\n",
    "Name: 261, dtype: int64"
   ]
  },
  {
   "cell_type": "markdown",
   "id": "314613a0",
   "metadata": {},
   "source": [
    "nombre_infected       950\n",
    "nombre_sain          1972\n",
    "nombre_exposed        540\n",
    "nombre_recovered    16538\n",
    "Name: 262, dtype: int64"
   ]
  },
  {
   "cell_type": "markdown",
   "id": "6c16275f",
   "metadata": {},
   "source": [
    "nombre_infected       953\n",
    "nombre_sain          1941\n",
    "nombre_exposed        547\n",
    "nombre_recovered    16559\n",
    "Name: 263, dtype: int64"
   ]
  },
  {
   "cell_type": "markdown",
   "id": "138a4472",
   "metadata": {},
   "source": [
    "nombre_infected       948\n",
    "nombre_sain          1950\n",
    "nombre_exposed        541\n",
    "nombre_recovered    16561\n",
    "Name: 264, dtype: int64"
   ]
  },
  {
   "cell_type": "markdown",
   "id": "70dfd7f0",
   "metadata": {},
   "source": [
    "nombre_infected       927\n",
    "nombre_sain          1935\n",
    "nombre_exposed        553\n",
    "nombre_recovered    16585\n",
    "Name: 265, dtype: int64"
   ]
  },
  {
   "cell_type": "markdown",
   "id": "26fe31fb",
   "metadata": {},
   "source": [
    "nombre_infected       953\n",
    "nombre_sain          1936\n",
    "nombre_exposed        514\n",
    "nombre_recovered    16597\n",
    "Name: 266, dtype: int64"
   ]
  },
  {
   "cell_type": "markdown",
   "id": "b5cd22b1",
   "metadata": {},
   "source": [
    "nombre_infected       927\n",
    "nombre_sain          1932\n",
    "nombre_exposed        506\n",
    "nombre_recovered    16635\n",
    "Name: 267, dtype: int64"
   ]
  },
  {
   "cell_type": "markdown",
   "id": "7cf7ba42",
   "metadata": {},
   "source": [
    "nombre_infected       935\n",
    "nombre_sain          1923\n",
    "nombre_exposed        497\n",
    "nombre_recovered    16645\n",
    "Name: 268, dtype: int64"
   ]
  },
  {
   "cell_type": "markdown",
   "id": "2fc25248",
   "metadata": {},
   "source": [
    "nombre_infected       929\n",
    "nombre_sain          1930\n",
    "nombre_exposed        478\n",
    "nombre_recovered    16663\n",
    "Name: 269, dtype: int64"
   ]
  },
  {
   "cell_type": "markdown",
   "id": "73b81d08",
   "metadata": {},
   "source": [
    "nombre_infected       942\n",
    "nombre_sain          1932\n",
    "nombre_exposed        466\n",
    "nombre_recovered    16660\n",
    "Name: 270, dtype: int64"
   ]
  },
  {
   "cell_type": "markdown",
   "id": "16259983",
   "metadata": {},
   "source": [
    "nombre_infected       931\n",
    "nombre_sain          1938\n",
    "nombre_exposed        454\n",
    "nombre_recovered    16677\n",
    "Name: 271, dtype: int64"
   ]
  },
  {
   "cell_type": "markdown",
   "id": "44a369f6",
   "metadata": {},
   "source": [
    "nombre_infected       884\n",
    "nombre_sain          1918\n",
    "nombre_exposed        477\n",
    "nombre_recovered    16721\n",
    "Name: 272, dtype: int64"
   ]
  },
  {
   "cell_type": "markdown",
   "id": "4e330455",
   "metadata": {},
   "source": [
    "nombre_infected       887\n",
    "nombre_sain          1924\n",
    "nombre_exposed        450\n",
    "nombre_recovered    16739\n",
    "Name: 273, dtype: int64"
   ]
  },
  {
   "cell_type": "markdown",
   "id": "6173ed98",
   "metadata": {},
   "source": [
    "nombre_infected       872\n",
    "nombre_sain          1918\n",
    "nombre_exposed        456\n",
    "nombre_recovered    16754\n",
    "Name: 274, dtype: int64"
   ]
  },
  {
   "cell_type": "markdown",
   "id": "f7c56b2b",
   "metadata": {},
   "source": [
    "nombre_infected       874\n",
    "nombre_sain          1921\n",
    "nombre_exposed        444\n",
    "nombre_recovered    16761\n",
    "Name: 275, dtype: int64"
   ]
  },
  {
   "cell_type": "markdown",
   "id": "47bbe87b",
   "metadata": {},
   "source": [
    "nombre_infected       878\n",
    "nombre_sain          1908\n",
    "nombre_exposed        432\n",
    "nombre_recovered    16782\n",
    "Name: 276, dtype: int64"
   ]
  },
  {
   "cell_type": "markdown",
   "id": "d9b838fb",
   "metadata": {},
   "source": [
    "nombre_infected       873\n",
    "nombre_sain          1930\n",
    "nombre_exposed        425\n",
    "nombre_recovered    16772\n",
    "Name: 277, dtype: int64"
   ]
  },
  {
   "cell_type": "markdown",
   "id": "545d4933",
   "metadata": {},
   "source": [
    "nombre_infected       861\n",
    "nombre_sain          1972\n",
    "nombre_exposed        402\n",
    "nombre_recovered    16765\n",
    "Name: 278, dtype: int64"
   ]
  },
  {
   "cell_type": "markdown",
   "id": "0b68d05e",
   "metadata": {},
   "source": [
    "nombre_infected       829\n",
    "nombre_sain          1983\n",
    "nombre_exposed        412\n",
    "nombre_recovered    16776\n",
    "Name: 279, dtype: int64"
   ]
  },
  {
   "cell_type": "markdown",
   "id": "fa701ddb",
   "metadata": {},
   "source": [
    "nombre_infected       818\n",
    "nombre_sain          1991\n",
    "nombre_exposed        439\n",
    "nombre_recovered    16752\n",
    "Name: 280, dtype: int64"
   ]
  },
  {
   "cell_type": "markdown",
   "id": "cc67ab8c",
   "metadata": {},
   "source": [
    "nombre_infected       822\n",
    "nombre_sain          2012\n",
    "nombre_exposed        445\n",
    "nombre_recovered    16721\n",
    "Name: 281, dtype: int64"
   ]
  },
  {
   "cell_type": "markdown",
   "id": "6e7f2e87",
   "metadata": {},
   "source": [
    "nombre_infected       838\n",
    "nombre_sain          2020\n",
    "nombre_exposed        443\n",
    "nombre_recovered    16699\n",
    "Name: 282, dtype: int64"
   ]
  },
  {
   "cell_type": "markdown",
   "id": "18ecf004",
   "metadata": {},
   "source": [
    "nombre_infected       829\n",
    "nombre_sain          2040\n",
    "nombre_exposed        450\n",
    "nombre_recovered    16681\n",
    "Name: 283, dtype: int64"
   ]
  },
  {
   "cell_type": "markdown",
   "id": "3bfe7f96",
   "metadata": {},
   "source": [
    "nombre_infected       838\n",
    "nombre_sain          2088\n",
    "nombre_exposed        450\n",
    "nombre_recovered    16624\n",
    "Name: 284, dtype: int64"
   ]
  },
  {
   "cell_type": "markdown",
   "id": "880ec034",
   "metadata": {},
   "source": [
    "nombre_infected       836\n",
    "nombre_sain          2103\n",
    "nombre_exposed        457\n",
    "nombre_recovered    16604\n",
    "Name: 285, dtype: int64"
   ]
  },
  {
   "cell_type": "markdown",
   "id": "d2e5cacd",
   "metadata": {},
   "source": [
    "nombre_infected       822\n",
    "nombre_sain          2127\n",
    "nombre_exposed        457\n",
    "nombre_recovered    16594\n",
    "Name: 286, dtype: int64"
   ]
  },
  {
   "cell_type": "markdown",
   "id": "4ed1a0db",
   "metadata": {},
   "source": [
    "nombre_infected       832\n",
    "nombre_sain          2161\n",
    "nombre_exposed        429\n",
    "nombre_recovered    16578\n",
    "Name: 287, dtype: int64"
   ]
  },
  {
   "cell_type": "markdown",
   "id": "312c32af",
   "metadata": {},
   "source": [
    "nombre_infected       837\n",
    "nombre_sain          2181\n",
    "nombre_exposed        454\n",
    "nombre_recovered    16528\n",
    "Name: 288, dtype: int64"
   ]
  },
  {
   "cell_type": "markdown",
   "id": "6c0be815",
   "metadata": {},
   "source": [
    "nombre_infected       830\n",
    "nombre_sain          2200\n",
    "nombre_exposed        470\n",
    "nombre_recovered    16500\n",
    "Name: 289, dtype: int64"
   ]
  },
  {
   "cell_type": "markdown",
   "id": "bbded581",
   "metadata": {},
   "source": [
    "nombre_infected       866\n",
    "nombre_sain          2213\n",
    "nombre_exposed        428\n",
    "nombre_recovered    16493\n",
    "Name: 290, dtype: int64"
   ]
  },
  {
   "cell_type": "markdown",
   "id": "ade0efb0",
   "metadata": {},
   "source": [
    "nombre_infected       874\n",
    "nombre_sain          2221\n",
    "nombre_exposed        448\n",
    "nombre_recovered    16457\n",
    "Name: 291, dtype: int64"
   ]
  },
  {
   "cell_type": "markdown",
   "id": "30074194",
   "metadata": {},
   "source": [
    "nombre_infected       851\n",
    "nombre_sain          2257\n",
    "nombre_exposed        440\n",
    "nombre_recovered    16452\n",
    "Name: 292, dtype: int64"
   ]
  },
  {
   "cell_type": "markdown",
   "id": "84011183",
   "metadata": {},
   "source": [
    "nombre_infected       875\n",
    "nombre_sain          2268\n",
    "nombre_exposed        405\n",
    "nombre_recovered    16452\n",
    "Name: 293, dtype: int64"
   ]
  },
  {
   "cell_type": "markdown",
   "id": "f18410ef",
   "metadata": {},
   "source": [
    "nombre_infected       850\n",
    "nombre_sain          2258\n",
    "nombre_exposed        443\n",
    "nombre_recovered    16449\n",
    "Name: 294, dtype: int64"
   ]
  },
  {
   "cell_type": "markdown",
   "id": "80dab3d8",
   "metadata": {},
   "source": [
    "nombre_infected       847\n",
    "nombre_sain          2219\n",
    "nombre_exposed        460\n",
    "nombre_recovered    16474\n",
    "Name: 295, dtype: int64"
   ]
  },
  {
   "cell_type": "markdown",
   "id": "73392c3d",
   "metadata": {},
   "source": [
    "nombre_infected       845\n",
    "nombre_sain          2215\n",
    "nombre_exposed        479\n",
    "nombre_recovered    16461\n",
    "Name: 296, dtype: int64"
   ]
  },
  {
   "cell_type": "markdown",
   "id": "09c64d1c",
   "metadata": {},
   "source": [
    "nombre_infected       850\n",
    "nombre_sain          2188\n",
    "nombre_exposed        498\n",
    "nombre_recovered    16464\n",
    "Name: 297, dtype: int64"
   ]
  },
  {
   "cell_type": "markdown",
   "id": "410f2d31",
   "metadata": {},
   "source": [
    "nombre_infected       846\n",
    "nombre_sain          2182\n",
    "nombre_exposed        512\n",
    "nombre_recovered    16460\n",
    "Name: 298, dtype: int64"
   ]
  },
  {
   "cell_type": "markdown",
   "id": "f0831011",
   "metadata": {},
   "source": [
    "nombre_infected       864\n",
    "nombre_sain          2143\n",
    "nombre_exposed        531\n",
    "nombre_recovered    16462\n",
    "Name: 299, dtype: int64"
   ]
  },
  {
   "cell_type": "markdown",
   "id": "f439e762",
   "metadata": {},
   "source": [
    "nombre_infected       882\n",
    "nombre_sain          2123\n",
    "nombre_exposed        528\n",
    "nombre_recovered    16467\n",
    "Name: 300, dtype: int64"
   ]
  },
  {
   "cell_type": "markdown",
   "id": "2eb7d1d5",
   "metadata": {},
   "source": [
    "nombre_infected       910\n",
    "nombre_sain          2105\n",
    "nombre_exposed        519\n",
    "nombre_recovered    16466\n",
    "Name: 301, dtype: int64"
   ]
  },
  {
   "cell_type": "markdown",
   "id": "fb60b422",
   "metadata": {},
   "source": [
    "nombre_infected       910\n",
    "nombre_sain          2104\n",
    "nombre_exposed        510\n",
    "nombre_recovered    16476\n",
    "Name: 302, dtype: int64"
   ]
  },
  {
   "cell_type": "markdown",
   "id": "434c6929",
   "metadata": {},
   "source": [
    "nombre_infected       907\n",
    "nombre_sain          2081\n",
    "nombre_exposed        509\n",
    "nombre_recovered    16503\n",
    "Name: 303, dtype: int64"
   ]
  },
  {
   "cell_type": "markdown",
   "id": "500f5475",
   "metadata": {},
   "source": [
    "nombre_infected       919\n",
    "nombre_sain          2065\n",
    "nombre_exposed        503\n",
    "nombre_recovered    16513\n",
    "Name: 304, dtype: int64"
   ]
  },
  {
   "cell_type": "markdown",
   "id": "b3713574",
   "metadata": {},
   "source": [
    "nombre_infected       929\n",
    "nombre_sain          2062\n",
    "nombre_exposed        490\n",
    "nombre_recovered    16519\n",
    "Name: 305, dtype: int64"
   ]
  },
  {
   "cell_type": "markdown",
   "id": "f6020f00",
   "metadata": {},
   "source": [
    "nombre_infected       948\n",
    "nombre_sain          2046\n",
    "nombre_exposed        494\n",
    "nombre_recovered    16512\n",
    "Name: 306, dtype: int64"
   ]
  },
  {
   "cell_type": "markdown",
   "id": "8d844668",
   "metadata": {},
   "source": [
    "nombre_infected       937\n",
    "nombre_sain          2020\n",
    "nombre_exposed        494\n",
    "nombre_recovered    16549\n",
    "Name: 307, dtype: int64"
   ]
  },
  {
   "cell_type": "markdown",
   "id": "549110cf",
   "metadata": {},
   "source": [
    "nombre_infected       968\n",
    "nombre_sain          2022\n",
    "nombre_exposed        492\n",
    "nombre_recovered    16518\n",
    "Name: 308, dtype: int64"
   ]
  },
  {
   "cell_type": "markdown",
   "id": "15cbc823",
   "metadata": {},
   "source": [
    "nombre_infected       967\n",
    "nombre_sain          2014\n",
    "nombre_exposed        499\n",
    "nombre_recovered    16520\n",
    "Name: 309, dtype: int64"
   ]
  },
  {
   "cell_type": "markdown",
   "id": "0df1c204",
   "metadata": {},
   "source": [
    "nombre_infected       934\n",
    "nombre_sain          2018\n",
    "nombre_exposed        511\n",
    "nombre_recovered    16537\n",
    "Name: 310, dtype: int64"
   ]
  },
  {
   "cell_type": "markdown",
   "id": "650b36db",
   "metadata": {},
   "source": [
    "nombre_infected       944\n",
    "nombre_sain          2032\n",
    "nombre_exposed        503\n",
    "nombre_recovered    16521\n",
    "Name: 311, dtype: int64"
   ]
  },
  {
   "cell_type": "markdown",
   "id": "ab214a19",
   "metadata": {},
   "source": [
    "nombre_infected       945\n",
    "nombre_sain          2043\n",
    "nombre_exposed        492\n",
    "nombre_recovered    16520\n",
    "Name: 312, dtype: int64"
   ]
  },
  {
   "cell_type": "markdown",
   "id": "24ee8eba",
   "metadata": {},
   "source": [
    "nombre_infected       958\n",
    "nombre_sain          2049\n",
    "nombre_exposed        503\n",
    "nombre_recovered    16490\n",
    "Name: 313, dtype: int64"
   ]
  },
  {
   "cell_type": "markdown",
   "id": "5df02ba0",
   "metadata": {},
   "source": [
    "nombre_infected       956\n",
    "nombre_sain          2029\n",
    "nombre_exposed        508\n",
    "nombre_recovered    16507\n",
    "Name: 314, dtype: int64"
   ]
  },
  {
   "cell_type": "markdown",
   "id": "d3152bf7",
   "metadata": {},
   "source": [
    "nombre_infected       957\n",
    "nombre_sain          2037\n",
    "nombre_exposed        499\n",
    "nombre_recovered    16507\n",
    "Name: 315, dtype: int64"
   ]
  },
  {
   "cell_type": "markdown",
   "id": "78bd64b2",
   "metadata": {},
   "source": [
    "nombre_infected       958\n",
    "nombre_sain          2039\n",
    "nombre_exposed        492\n",
    "nombre_recovered    16511\n",
    "Name: 316, dtype: int64"
   ]
  },
  {
   "cell_type": "markdown",
   "id": "d0456de0",
   "metadata": {},
   "source": [
    "nombre_infected       932\n",
    "nombre_sain          2017\n",
    "nombre_exposed        514\n",
    "nombre_recovered    16537\n",
    "Name: 317, dtype: int64"
   ]
  },
  {
   "cell_type": "markdown",
   "id": "1995a653",
   "metadata": {},
   "source": [
    "nombre_infected       941\n",
    "nombre_sain          2033\n",
    "nombre_exposed        504\n",
    "nombre_recovered    16522\n",
    "Name: 318, dtype: int64"
   ]
  },
  {
   "cell_type": "markdown",
   "id": "f2ec4615",
   "metadata": {},
   "source": [
    "nombre_infected       933\n",
    "nombre_sain          2052\n",
    "nombre_exposed        491\n",
    "nombre_recovered    16524\n",
    "Name: 319, dtype: int64"
   ]
  },
  {
   "cell_type": "markdown",
   "id": "547bf327",
   "metadata": {},
   "source": [
    "nombre_infected       954\n",
    "nombre_sain          2075\n",
    "nombre_exposed        487\n",
    "nombre_recovered    16484\n",
    "Name: 320, dtype: int64"
   ]
  },
  {
   "cell_type": "markdown",
   "id": "3cf26be4",
   "metadata": {},
   "source": [
    "nombre_infected       925\n",
    "nombre_sain          2076\n",
    "nombre_exposed        511\n",
    "nombre_recovered    16488\n",
    "Name: 321, dtype: int64"
   ]
  },
  {
   "cell_type": "markdown",
   "id": "9e7119e0",
   "metadata": {},
   "source": [
    "nombre_infected       950\n",
    "nombre_sain          2060\n",
    "nombre_exposed        502\n",
    "nombre_recovered    16488\n",
    "Name: 322, dtype: int64"
   ]
  },
  {
   "cell_type": "markdown",
   "id": "65c98752",
   "metadata": {},
   "source": [
    "nombre_infected       956\n",
    "nombre_sain          2053\n",
    "nombre_exposed        493\n",
    "nombre_recovered    16498\n",
    "Name: 323, dtype: int64"
   ]
  },
  {
   "cell_type": "markdown",
   "id": "ef90d01b",
   "metadata": {},
   "source": [
    "nombre_infected       953\n",
    "nombre_sain          2071\n",
    "nombre_exposed        495\n",
    "nombre_recovered    16481\n",
    "Name: 324, dtype: int64"
   ]
  },
  {
   "cell_type": "markdown",
   "id": "86f1c62c",
   "metadata": {},
   "source": [
    "nombre_infected       973\n",
    "nombre_sain          2071\n",
    "nombre_exposed        494\n",
    "nombre_recovered    16462\n",
    "Name: 325, dtype: int64"
   ]
  },
  {
   "cell_type": "markdown",
   "id": "3d26e1b7",
   "metadata": {},
   "source": [
    "nombre_infected       977\n",
    "nombre_sain          2064\n",
    "nombre_exposed        506\n",
    "nombre_recovered    16453\n",
    "Name: 326, dtype: int64"
   ]
  },
  {
   "cell_type": "markdown",
   "id": "e12493fd",
   "metadata": {},
   "source": [
    "nombre_infected       965\n",
    "nombre_sain          2067\n",
    "nombre_exposed        496\n",
    "nombre_recovered    16472\n",
    "Name: 327, dtype: int64"
   ]
  },
  {
   "cell_type": "markdown",
   "id": "31e7c997",
   "metadata": {},
   "source": [
    "nombre_infected       957\n",
    "nombre_sain          2062\n",
    "nombre_exposed        499\n",
    "nombre_recovered    16482\n",
    "Name: 328, dtype: int64"
   ]
  },
  {
   "cell_type": "markdown",
   "id": "cadb9397",
   "metadata": {},
   "source": [
    "nombre_infected       952\n",
    "nombre_sain          2055\n",
    "nombre_exposed        494\n",
    "nombre_recovered    16499\n",
    "Name: 329, dtype: int64"
   ]
  },
  {
   "cell_type": "markdown",
   "id": "8197baef",
   "metadata": {},
   "source": [
    "nombre_infected       958\n",
    "nombre_sain          2042\n",
    "nombre_exposed        493\n",
    "nombre_recovered    16507\n",
    "Name: 330, dtype: int64"
   ]
  },
  {
   "cell_type": "markdown",
   "id": "6df73859",
   "metadata": {},
   "source": [
    "nombre_infected       961\n",
    "nombre_sain          2046\n",
    "nombre_exposed        513\n",
    "nombre_recovered    16480\n",
    "Name: 331, dtype: int64"
   ]
  },
  {
   "cell_type": "markdown",
   "id": "37cae379",
   "metadata": {},
   "source": [
    "nombre_infected       981\n",
    "nombre_sain          2032\n",
    "nombre_exposed        504\n",
    "nombre_recovered    16483\n",
    "Name: 332, dtype: int64"
   ]
  },
  {
   "cell_type": "markdown",
   "id": "42adb778",
   "metadata": {},
   "source": [
    "nombre_infected       987\n",
    "nombre_sain          2010\n",
    "nombre_exposed        497\n",
    "nombre_recovered    16506\n",
    "Name: 333, dtype: int64"
   ]
  },
  {
   "cell_type": "markdown",
   "id": "145f6110",
   "metadata": {},
   "source": [
    "nombre_infected       986\n",
    "nombre_sain          2026\n",
    "nombre_exposed        485\n",
    "nombre_recovered    16503\n",
    "Name: 334, dtype: int64"
   ]
  },
  {
   "cell_type": "markdown",
   "id": "ab4aca66",
   "metadata": {},
   "source": [
    "nombre_infected      1015\n",
    "nombre_sain          2022\n",
    "nombre_exposed        474\n",
    "nombre_recovered    16489\n",
    "Name: 335, dtype: int64"
   ]
  },
  {
   "cell_type": "markdown",
   "id": "c01aec73",
   "metadata": {},
   "source": [
    "nombre_infected      1029\n",
    "nombre_sain          2025\n",
    "nombre_exposed        465\n",
    "nombre_recovered    16481\n",
    "Name: 336, dtype: int64"
   ]
  },
  {
   "cell_type": "markdown",
   "id": "c4f4ab7b",
   "metadata": {},
   "source": [
    "nombre_infected      1005\n",
    "nombre_sain          2031\n",
    "nombre_exposed        474\n",
    "nombre_recovered    16490\n",
    "Name: 337, dtype: int64"
   ]
  },
  {
   "cell_type": "markdown",
   "id": "dacad926",
   "metadata": {},
   "source": [
    "nombre_infected       997\n",
    "nombre_sain          2041\n",
    "nombre_exposed        472\n",
    "nombre_recovered    16490\n",
    "Name: 338, dtype: int64"
   ]
  },
  {
   "cell_type": "markdown",
   "id": "18486f91",
   "metadata": {},
   "source": [
    "nombre_infected       983\n",
    "nombre_sain          2036\n",
    "nombre_exposed        484\n",
    "nombre_recovered    16497\n",
    "Name: 339, dtype: int64"
   ]
  },
  {
   "cell_type": "markdown",
   "id": "d036885d",
   "metadata": {},
   "source": [
    "nombre_infected       967\n",
    "nombre_sain          2040\n",
    "nombre_exposed        474\n",
    "nombre_recovered    16519\n",
    "Name: 340, dtype: int64"
   ]
  },
  {
   "cell_type": "markdown",
   "id": "80f6f811",
   "metadata": {},
   "source": [
    "nombre_infected       940\n",
    "nombre_sain          2018\n",
    "nombre_exposed        489\n",
    "nombre_recovered    16553\n",
    "Name: 341, dtype: int64"
   ]
  },
  {
   "cell_type": "markdown",
   "id": "24a66348",
   "metadata": {},
   "source": [
    "nombre_infected       917\n",
    "nombre_sain          2008\n",
    "nombre_exposed        486\n",
    "nombre_recovered    16589\n",
    "Name: 342, dtype: int64"
   ]
  },
  {
   "cell_type": "markdown",
   "id": "e4cef73f",
   "metadata": {},
   "source": [
    "nombre_infected       912\n",
    "nombre_sain          1995\n",
    "nombre_exposed        488\n",
    "nombre_recovered    16605\n",
    "Name: 343, dtype: int64"
   ]
  },
  {
   "cell_type": "markdown",
   "id": "6377c90d",
   "metadata": {},
   "source": [
    "nombre_infected       908\n",
    "nombre_sain          1983\n",
    "nombre_exposed        496\n",
    "nombre_recovered    16613\n",
    "Name: 344, dtype: int64"
   ]
  },
  {
   "cell_type": "markdown",
   "id": "e2d1a66a",
   "metadata": {},
   "source": [
    "nombre_infected       936\n",
    "nombre_sain          1993\n",
    "nombre_exposed        487\n",
    "nombre_recovered    16584\n",
    "Name: 345, dtype: int64"
   ]
  },
  {
   "cell_type": "markdown",
   "id": "fb2bacbe",
   "metadata": {},
   "source": [
    "nombre_infected       929\n",
    "nombre_sain          1978\n",
    "nombre_exposed        497\n",
    "nombre_recovered    16596\n",
    "Name: 346, dtype: int64"
   ]
  },
  {
   "cell_type": "markdown",
   "id": "f3172df2",
   "metadata": {},
   "source": [
    "nombre_infected       900\n",
    "nombre_sain          1949\n",
    "nombre_exposed        525\n",
    "nombre_recovered    16626\n",
    "Name: 347, dtype: int64"
   ]
  },
  {
   "cell_type": "markdown",
   "id": "4ea6d258",
   "metadata": {},
   "source": [
    "nombre_infected       902\n",
    "nombre_sain          1952\n",
    "nombre_exposed        509\n",
    "nombre_recovered    16637\n",
    "Name: 348, dtype: int64"
   ]
  },
  {
   "cell_type": "markdown",
   "id": "94804974",
   "metadata": {},
   "source": [
    "nombre_infected       893\n",
    "nombre_sain          1951\n",
    "nombre_exposed        504\n",
    "nombre_recovered    16652\n",
    "Name: 349, dtype: int64"
   ]
  },
  {
   "cell_type": "markdown",
   "id": "273d94d5",
   "metadata": {},
   "source": [
    "nombre_infected       906\n",
    "nombre_sain          1943\n",
    "nombre_exposed        502\n",
    "nombre_recovered    16649\n",
    "Name: 350, dtype: int64"
   ]
  },
  {
   "cell_type": "markdown",
   "id": "bb896512",
   "metadata": {},
   "source": [
    "nombre_infected       903\n",
    "nombre_sain          1921\n",
    "nombre_exposed        514\n",
    "nombre_recovered    16662\n",
    "Name: 351, dtype: int64"
   ]
  },
  {
   "cell_type": "markdown",
   "id": "d3dd52e0",
   "metadata": {},
   "source": [
    "nombre_infected       916\n",
    "nombre_sain          1944\n",
    "nombre_exposed        487\n",
    "nombre_recovered    16653\n",
    "Name: 352, dtype: int64"
   ]
  },
  {
   "cell_type": "markdown",
   "id": "a8dcb217",
   "metadata": {},
   "source": [
    "nombre_infected       926\n",
    "nombre_sain          1938\n",
    "nombre_exposed        483\n",
    "nombre_recovered    16653\n",
    "Name: 353, dtype: int64"
   ]
  },
  {
   "cell_type": "markdown",
   "id": "ef36cf20",
   "metadata": {},
   "source": [
    "nombre_infected       948\n",
    "nombre_sain          1931\n",
    "nombre_exposed        480\n",
    "nombre_recovered    16641\n",
    "Name: 354, dtype: int64"
   ]
  },
  {
   "cell_type": "markdown",
   "id": "c6dcc10e",
   "metadata": {},
   "source": [
    "nombre_infected       946\n",
    "nombre_sain          1896\n",
    "nombre_exposed        499\n",
    "nombre_recovered    16659\n",
    "Name: 355, dtype: int64"
   ]
  },
  {
   "cell_type": "markdown",
   "id": "6eedaf59",
   "metadata": {},
   "source": [
    "nombre_infected       948\n",
    "nombre_sain          1859\n",
    "nombre_exposed        503\n",
    "nombre_recovered    16690\n",
    "Name: 356, dtype: int64"
   ]
  },
  {
   "cell_type": "markdown",
   "id": "eb4b671d",
   "metadata": {},
   "source": [
    "nombre_infected       943\n",
    "nombre_sain          1848\n",
    "nombre_exposed        486\n",
    "nombre_recovered    16723\n",
    "Name: 357, dtype: int64"
   ]
  },
  {
   "cell_type": "markdown",
   "id": "5d267770",
   "metadata": {},
   "source": [
    "nombre_infected       986\n",
    "nombre_sain          1832\n",
    "nombre_exposed        454\n",
    "nombre_recovered    16728\n",
    "Name: 358, dtype: int64"
   ]
  },
  {
   "cell_type": "markdown",
   "id": "c5bab852",
   "metadata": {},
   "source": [
    "nombre_infected       976\n",
    "nombre_sain          1807\n",
    "nombre_exposed        469\n",
    "nombre_recovered    16748\n",
    "Name: 359, dtype: int64"
   ]
  },
  {
   "cell_type": "markdown",
   "id": "b0720578",
   "metadata": {},
   "source": [
    "nombre_infected       945\n",
    "nombre_sain          1801\n",
    "nombre_exposed        473\n",
    "nombre_recovered    16781\n",
    "Name: 360, dtype: int64"
   ]
  },
  {
   "cell_type": "markdown",
   "id": "b761d986",
   "metadata": {},
   "source": [
    "nombre_infected       934\n",
    "nombre_sain          1789\n",
    "nombre_exposed        462\n",
    "nombre_recovered    16815\n",
    "Name: 361, dtype: int64"
   ]
  },
  {
   "cell_type": "markdown",
   "id": "94f4ba0f",
   "metadata": {},
   "source": [
    "nombre_infected       926\n",
    "nombre_sain          1782\n",
    "nombre_exposed        444\n",
    "nombre_recovered    16848\n",
    "Name: 362, dtype: int64"
   ]
  },
  {
   "cell_type": "markdown",
   "id": "28173660",
   "metadata": {},
   "source": [
    "nombre_infected       924\n",
    "nombre_sain          1781\n",
    "nombre_exposed        445\n",
    "nombre_recovered    16850\n",
    "Name: 363, dtype: int64"
   ]
  },
  {
   "cell_type": "markdown",
   "id": "518c5aab",
   "metadata": {},
   "source": [
    "nombre_infected       914\n",
    "nombre_sain          1799\n",
    "nombre_exposed        436\n",
    "nombre_recovered    16851\n",
    "Name: 364, dtype: int64"
   ]
  },
  {
   "cell_type": "markdown",
   "id": "1999f37b",
   "metadata": {},
   "source": [
    "nombre_infected       878\n",
    "nombre_sain          1806\n",
    "nombre_exposed        434\n",
    "nombre_recovered    16882\n",
    "Name: 365, dtype: int64"
   ]
  },
  {
   "cell_type": "markdown",
   "id": "e20b6ff7",
   "metadata": {},
   "source": [
    "nombre_infected       865\n",
    "nombre_sain          1807\n",
    "nombre_exposed        430\n",
    "nombre_recovered    16898\n",
    "Name: 366, dtype: int64"
   ]
  },
  {
   "cell_type": "markdown",
   "id": "53fe7367",
   "metadata": {},
   "source": [
    "nombre_infected       853\n",
    "nombre_sain          1834\n",
    "nombre_exposed        421\n",
    "nombre_recovered    16892\n",
    "Name: 367, dtype: int64"
   ]
  },
  {
   "cell_type": "markdown",
   "id": "f58f1f91",
   "metadata": {},
   "source": [
    "nombre_infected       842\n",
    "nombre_sain          1856\n",
    "nombre_exposed        410\n",
    "nombre_recovered    16892\n",
    "Name: 368, dtype: int64"
   ]
  },
  {
   "cell_type": "markdown",
   "id": "7ad38067",
   "metadata": {},
   "source": [
    "nombre_infected       834\n",
    "nombre_sain          1864\n",
    "nombre_exposed        405\n",
    "nombre_recovered    16897\n",
    "Name: 369, dtype: int64"
   ]
  },
  {
   "cell_type": "markdown",
   "id": "647c25c8",
   "metadata": {},
   "source": [
    "nombre_infected       839\n",
    "nombre_sain          1891\n",
    "nombre_exposed        385\n",
    "nombre_recovered    16885\n",
    "Name: 370, dtype: int64"
   ]
  },
  {
   "cell_type": "markdown",
   "id": "42cbd165",
   "metadata": {},
   "source": [
    "nombre_infected       815\n",
    "nombre_sain          1922\n",
    "nombre_exposed        380\n",
    "nombre_recovered    16883\n",
    "Name: 371, dtype: int64"
   ]
  },
  {
   "cell_type": "markdown",
   "id": "95433c77",
   "metadata": {},
   "source": [
    "nombre_infected       786\n",
    "nombre_sain          1917\n",
    "nombre_exposed        397\n",
    "nombre_recovered    16900\n",
    "Name: 372, dtype: int64"
   ]
  },
  {
   "cell_type": "markdown",
   "id": "68c63dcd",
   "metadata": {},
   "source": [
    "nombre_infected       766\n",
    "nombre_sain          1936\n",
    "nombre_exposed        402\n",
    "nombre_recovered    16896\n",
    "Name: 373, dtype: int64"
   ]
  },
  {
   "cell_type": "markdown",
   "id": "a677f283",
   "metadata": {},
   "source": [
    "nombre_infected       774\n",
    "nombre_sain          1966\n",
    "nombre_exposed        385\n",
    "nombre_recovered    16875\n",
    "Name: 374, dtype: int64"
   ]
  },
  {
   "cell_type": "markdown",
   "id": "aa9fa363",
   "metadata": {},
   "source": [
    "nombre_infected       775\n",
    "nombre_sain          1975\n",
    "nombre_exposed        398\n",
    "nombre_recovered    16852\n",
    "Name: 375, dtype: int64"
   ]
  },
  {
   "cell_type": "markdown",
   "id": "214e44f1",
   "metadata": {},
   "source": [
    "nombre_infected       739\n",
    "nombre_sain          2002\n",
    "nombre_exposed        410\n",
    "nombre_recovered    16849\n",
    "Name: 376, dtype: int64"
   ]
  },
  {
   "cell_type": "markdown",
   "id": "8ff80209",
   "metadata": {},
   "source": [
    "nombre_infected       710\n",
    "nombre_sain          2014\n",
    "nombre_exposed        418\n",
    "nombre_recovered    16858\n",
    "Name: 377, dtype: int64"
   ]
  },
  {
   "cell_type": "markdown",
   "id": "8ff4f5fb",
   "metadata": {},
   "source": [
    "nombre_infected       697\n",
    "nombre_sain          2015\n",
    "nombre_exposed        415\n",
    "nombre_recovered    16873\n",
    "Name: 378, dtype: int64"
   ]
  },
  {
   "cell_type": "markdown",
   "id": "5db86a9e",
   "metadata": {},
   "source": [
    "nombre_infected       676\n",
    "nombre_sain          2044\n",
    "nombre_exposed        420\n",
    "nombre_recovered    16860\n",
    "Name: 379, dtype: int64"
   ]
  },
  {
   "cell_type": "markdown",
   "id": "15884ac2",
   "metadata": {},
   "source": [
    "nombre_infected       687\n",
    "nombre_sain          2073\n",
    "nombre_exposed        391\n",
    "nombre_recovered    16849\n",
    "Name: 380, dtype: int64"
   ]
  },
  {
   "cell_type": "markdown",
   "id": "102c24ab",
   "metadata": {},
   "source": [
    "nombre_infected       685\n",
    "nombre_sain          2085\n",
    "nombre_exposed        389\n",
    "nombre_recovered    16841\n",
    "Name: 381, dtype: int64"
   ]
  },
  {
   "cell_type": "markdown",
   "id": "73c95811",
   "metadata": {},
   "source": [
    "nombre_infected       686\n",
    "nombre_sain          2111\n",
    "nombre_exposed        380\n",
    "nombre_recovered    16823\n",
    "Name: 382, dtype: int64"
   ]
  },
  {
   "cell_type": "markdown",
   "id": "eb3ffa79",
   "metadata": {},
   "source": [
    "nombre_infected       683\n",
    "nombre_sain          2115\n",
    "nombre_exposed        373\n",
    "nombre_recovered    16829\n",
    "Name: 383, dtype: int64"
   ]
  },
  {
   "cell_type": "markdown",
   "id": "7a47a3b2",
   "metadata": {},
   "source": [
    "nombre_infected       688\n",
    "nombre_sain          2150\n",
    "nombre_exposed        369\n",
    "nombre_recovered    16793\n",
    "Name: 384, dtype: int64"
   ]
  },
  {
   "cell_type": "markdown",
   "id": "ac5ac1ec",
   "metadata": {},
   "source": [
    "nombre_infected       683\n",
    "nombre_sain          2140\n",
    "nombre_exposed        402\n",
    "nombre_recovered    16775\n",
    "Name: 385, dtype: int64"
   ]
  },
  {
   "cell_type": "markdown",
   "id": "82c4f9b9",
   "metadata": {},
   "source": [
    "nombre_infected       675\n",
    "nombre_sain          2162\n",
    "nombre_exposed        403\n",
    "nombre_recovered    16760\n",
    "Name: 386, dtype: int64"
   ]
  },
  {
   "cell_type": "markdown",
   "id": "5008b737",
   "metadata": {},
   "source": [
    "nombre_infected       674\n",
    "nombre_sain          2214\n",
    "nombre_exposed        396\n",
    "nombre_recovered    16716\n",
    "Name: 387, dtype: int64"
   ]
  },
  {
   "cell_type": "markdown",
   "id": "d9a789bf",
   "metadata": {},
   "source": [
    "nombre_infected       678\n",
    "nombre_sain          2221\n",
    "nombre_exposed        409\n",
    "nombre_recovered    16692\n",
    "Name: 388, dtype: int64"
   ]
  },
  {
   "cell_type": "markdown",
   "id": "56819466",
   "metadata": {},
   "source": [
    "nombre_infected       696\n",
    "nombre_sain          2217\n",
    "nombre_exposed        416\n",
    "nombre_recovered    16671\n",
    "Name: 389, dtype: int64"
   ]
  },
  {
   "cell_type": "markdown",
   "id": "2fec7563",
   "metadata": {},
   "source": [
    "nombre_infected       707\n",
    "nombre_sain          2216\n",
    "nombre_exposed        435\n",
    "nombre_recovered    16642\n",
    "Name: 390, dtype: int64"
   ]
  },
  {
   "cell_type": "markdown",
   "id": "6994a20b",
   "metadata": {},
   "source": [
    "nombre_infected       718\n",
    "nombre_sain          2246\n",
    "nombre_exposed        420\n",
    "nombre_recovered    16616\n",
    "Name: 391, dtype: int64"
   ]
  },
  {
   "cell_type": "markdown",
   "id": "a76b9446",
   "metadata": {},
   "source": [
    "nombre_infected       736\n",
    "nombre_sain          2258\n",
    "nombre_exposed        428\n",
    "nombre_recovered    16578\n",
    "Name: 392, dtype: int64"
   ]
  },
  {
   "cell_type": "markdown",
   "id": "837d3fe0",
   "metadata": {},
   "source": [
    "nombre_infected       753\n",
    "nombre_sain          2270\n",
    "nombre_exposed        428\n",
    "nombre_recovered    16549\n",
    "Name: 393, dtype: int64"
   ]
  },
  {
   "cell_type": "markdown",
   "id": "6be632ec",
   "metadata": {},
   "source": [
    "nombre_infected       732\n",
    "nombre_sain          2281\n",
    "nombre_exposed        447\n",
    "nombre_recovered    16540\n",
    "Name: 394, dtype: int64"
   ]
  },
  {
   "cell_type": "markdown",
   "id": "1d618998",
   "metadata": {},
   "source": [
    "nombre_infected       753\n",
    "nombre_sain          2285\n",
    "nombre_exposed        449\n",
    "nombre_recovered    16513\n",
    "Name: 395, dtype: int64"
   ]
  },
  {
   "cell_type": "markdown",
   "id": "1f50a2e5",
   "metadata": {},
   "source": [
    "nombre_infected       774\n",
    "nombre_sain          2279\n",
    "nombre_exposed        455\n",
    "nombre_recovered    16492\n",
    "Name: 396, dtype: int64"
   ]
  },
  {
   "cell_type": "markdown",
   "id": "049dd159",
   "metadata": {},
   "source": [
    "nombre_infected       799\n",
    "nombre_sain          2274\n",
    "nombre_exposed        438\n",
    "nombre_recovered    16489\n",
    "Name: 397, dtype: int64"
   ]
  },
  {
   "cell_type": "markdown",
   "id": "83d48551",
   "metadata": {},
   "source": [
    "nombre_infected       812\n",
    "nombre_sain          2296\n",
    "nombre_exposed        421\n",
    "nombre_recovered    16471\n",
    "Name: 398, dtype: int64"
   ]
  },
  {
   "cell_type": "markdown",
   "id": "b72cef91",
   "metadata": {},
   "source": [
    "nombre_infected       830\n",
    "nombre_sain          2275\n",
    "nombre_exposed        422\n",
    "nombre_recovered    16473\n",
    "Name: 399, dtype: int64"
   ]
  },
  {
   "cell_type": "markdown",
   "id": "f46939cd",
   "metadata": {},
   "source": [
    "nombre_infected       830\n",
    "nombre_sain          2261\n",
    "nombre_exposed        432\n",
    "nombre_recovered    16477\n",
    "Name: 400, dtype: int64"
   ]
  },
  {
   "cell_type": "markdown",
   "id": "9826a4a6",
   "metadata": {},
   "source": [
    "nombre_infected       814\n",
    "nombre_sain          2281\n",
    "nombre_exposed        427\n",
    "nombre_recovered    16478\n",
    "Name: 401, dtype: int64"
   ]
  },
  {
   "cell_type": "markdown",
   "id": "2e1ed992",
   "metadata": {},
   "source": [
    "nombre_infected       811\n",
    "nombre_sain          2267\n",
    "nombre_exposed        428\n",
    "nombre_recovered    16494\n",
    "Name: 402, dtype: int64"
   ]
  },
  {
   "cell_type": "markdown",
   "id": "f8a2eb63",
   "metadata": {},
   "source": [
    "nombre_infected       805\n",
    "nombre_sain          2262\n",
    "nombre_exposed        431\n",
    "nombre_recovered    16502\n",
    "Name: 403, dtype: int64"
   ]
  },
  {
   "cell_type": "markdown",
   "id": "8c76cc60",
   "metadata": {},
   "source": [
    "nombre_infected       813\n",
    "nombre_sain          2254\n",
    "nombre_exposed        427\n",
    "nombre_recovered    16506\n",
    "Name: 404, dtype: int64"
   ]
  },
  {
   "cell_type": "markdown",
   "id": "2217afcc",
   "metadata": {},
   "source": [
    "nombre_infected       791\n",
    "nombre_sain          2245\n",
    "nombre_exposed        438\n",
    "nombre_recovered    16526\n",
    "Name: 405, dtype: int64"
   ]
  },
  {
   "cell_type": "markdown",
   "id": "f128a4c3",
   "metadata": {},
   "source": [
    "nombre_infected       783\n",
    "nombre_sain          2236\n",
    "nombre_exposed        458\n",
    "nombre_recovered    16523\n",
    "Name: 406, dtype: int64"
   ]
  },
  {
   "cell_type": "markdown",
   "id": "78d06d79",
   "metadata": {},
   "source": [
    "nombre_infected       794\n",
    "nombre_sain          2233\n",
    "nombre_exposed        458\n",
    "nombre_recovered    16515\n",
    "Name: 407, dtype: int64"
   ]
  },
  {
   "cell_type": "markdown",
   "id": "a0cddeb9",
   "metadata": {},
   "source": [
    "nombre_infected       792\n",
    "nombre_sain          2224\n",
    "nombre_exposed        467\n",
    "nombre_recovered    16517\n",
    "Name: 408, dtype: int64"
   ]
  },
  {
   "cell_type": "markdown",
   "id": "d268d99c",
   "metadata": {},
   "source": [
    "nombre_infected       819\n",
    "nombre_sain          2249\n",
    "nombre_exposed        437\n",
    "nombre_recovered    16495\n",
    "Name: 409, dtype: int64"
   ]
  },
  {
   "cell_type": "markdown",
   "id": "9c714e92",
   "metadata": {},
   "source": [
    "nombre_infected       814\n",
    "nombre_sain          2230\n",
    "nombre_exposed        470\n",
    "nombre_recovered    16486\n",
    "Name: 410, dtype: int64"
   ]
  },
  {
   "cell_type": "markdown",
   "id": "7f7c8145",
   "metadata": {},
   "source": [
    "nombre_infected       778\n",
    "nombre_sain          2238\n",
    "nombre_exposed        504\n",
    "nombre_recovered    16480\n",
    "Name: 411, dtype: int64"
   ]
  },
  {
   "cell_type": "markdown",
   "id": "a00ece76",
   "metadata": {},
   "source": [
    "nombre_infected       792\n",
    "nombre_sain          2216\n",
    "nombre_exposed        510\n",
    "nombre_recovered    16482\n",
    "Name: 412, dtype: int64"
   ]
  },
  {
   "cell_type": "markdown",
   "id": "02736f2a",
   "metadata": {},
   "source": [
    "nombre_infected       822\n",
    "nombre_sain          2225\n",
    "nombre_exposed        506\n",
    "nombre_recovered    16447\n",
    "Name: 413, dtype: int64"
   ]
  },
  {
   "cell_type": "markdown",
   "id": "20f842e3",
   "metadata": {},
   "source": [
    "nombre_infected       828\n",
    "nombre_sain          2234\n",
    "nombre_exposed        482\n",
    "nombre_recovered    16456\n",
    "Name: 414, dtype: int64"
   ]
  },
  {
   "cell_type": "markdown",
   "id": "1c03f93a",
   "metadata": {},
   "source": [
    "nombre_infected       835\n",
    "nombre_sain          2253\n",
    "nombre_exposed        484\n",
    "nombre_recovered    16428\n",
    "Name: 415, dtype: int64"
   ]
  },
  {
   "cell_type": "markdown",
   "id": "0134d8f9",
   "metadata": {},
   "source": [
    "nombre_infected       830\n",
    "nombre_sain          2271\n",
    "nombre_exposed        496\n",
    "nombre_recovered    16403\n",
    "Name: 416, dtype: int64"
   ]
  },
  {
   "cell_type": "markdown",
   "id": "663f79cf",
   "metadata": {},
   "source": [
    "nombre_infected       828\n",
    "nombre_sain          2276\n",
    "nombre_exposed        491\n",
    "nombre_recovered    16405\n",
    "Name: 417, dtype: int64"
   ]
  },
  {
   "cell_type": "markdown",
   "id": "6c6bccd9",
   "metadata": {},
   "source": [
    "nombre_infected       810\n",
    "nombre_sain          2252\n",
    "nombre_exposed        534\n",
    "nombre_recovered    16404\n",
    "Name: 418, dtype: int64"
   ]
  },
  {
   "cell_type": "markdown",
   "id": "cc4c3c67",
   "metadata": {},
   "source": [
    "nombre_infected       815\n",
    "nombre_sain          2238\n",
    "nombre_exposed        548\n",
    "nombre_recovered    16399\n",
    "Name: 419, dtype: int64"
   ]
  },
  {
   "cell_type": "markdown",
   "id": "e1aaeee2",
   "metadata": {},
   "source": [
    "nombre_infected       865\n",
    "nombre_sain          2256\n",
    "nombre_exposed        528\n",
    "nombre_recovered    16351\n",
    "Name: 420, dtype: int64"
   ]
  },
  {
   "cell_type": "markdown",
   "id": "3be533d9",
   "metadata": {},
   "source": [
    "nombre_infected       891\n",
    "nombre_sain          2248\n",
    "nombre_exposed        530\n",
    "nombre_recovered    16331\n",
    "Name: 421, dtype: int64"
   ]
  },
  {
   "cell_type": "markdown",
   "id": "48b69704",
   "metadata": {},
   "source": [
    "nombre_infected       898\n",
    "nombre_sain          2235\n",
    "nombre_exposed        532\n",
    "nombre_recovered    16335\n",
    "Name: 422, dtype: int64"
   ]
  },
  {
   "cell_type": "markdown",
   "id": "11855d34",
   "metadata": {},
   "source": [
    "nombre_infected       904\n",
    "nombre_sain          2210\n",
    "nombre_exposed        531\n",
    "nombre_recovered    16355\n",
    "Name: 423, dtype: int64"
   ]
  },
  {
   "cell_type": "markdown",
   "id": "5601faf9",
   "metadata": {},
   "source": [
    "nombre_infected       940\n",
    "nombre_sain          2204\n",
    "nombre_exposed        518\n",
    "nombre_recovered    16338\n",
    "Name: 424, dtype: int64"
   ]
  },
  {
   "cell_type": "markdown",
   "id": "005acb25",
   "metadata": {},
   "source": [
    "nombre_infected       924\n",
    "nombre_sain          2176\n",
    "nombre_exposed        520\n",
    "nombre_recovered    16380\n",
    "Name: 425, dtype: int64"
   ]
  },
  {
   "cell_type": "markdown",
   "id": "5b55683d",
   "metadata": {},
   "source": [
    "nombre_infected       936\n",
    "nombre_sain          2169\n",
    "nombre_exposed        511\n",
    "nombre_recovered    16384\n",
    "Name: 426, dtype: int64"
   ]
  },
  {
   "cell_type": "markdown",
   "id": "59028937",
   "metadata": {},
   "source": [
    "nombre_infected       927\n",
    "nombre_sain          2118\n",
    "nombre_exposed        522\n",
    "nombre_recovered    16433\n",
    "Name: 427, dtype: int64"
   ]
  },
  {
   "cell_type": "markdown",
   "id": "29895013",
   "metadata": {},
   "source": [
    "nombre_infected       924\n",
    "nombre_sain          2137\n",
    "nombre_exposed        509\n",
    "nombre_recovered    16430\n",
    "Name: 428, dtype: int64"
   ]
  },
  {
   "cell_type": "markdown",
   "id": "9b5ead2f",
   "metadata": {},
   "source": [
    "nombre_infected       900\n",
    "nombre_sain          2144\n",
    "nombre_exposed        510\n",
    "nombre_recovered    16446\n",
    "Name: 429, dtype: int64"
   ]
  },
  {
   "cell_type": "markdown",
   "id": "13b290c4",
   "metadata": {},
   "source": [
    "nombre_infected       902\n",
    "nombre_sain          2170\n",
    "nombre_exposed        504\n",
    "nombre_recovered    16424\n",
    "Name: 430, dtype: int64"
   ]
  },
  {
   "cell_type": "markdown",
   "id": "a2d32950",
   "metadata": {},
   "source": [
    "nombre_infected       890\n",
    "nombre_sain          2148\n",
    "nombre_exposed        523\n",
    "nombre_recovered    16439\n",
    "Name: 431, dtype: int64"
   ]
  },
  {
   "cell_type": "markdown",
   "id": "d5281543",
   "metadata": {},
   "source": [
    "nombre_infected       882\n",
    "nombre_sain          2141\n",
    "nombre_exposed        521\n",
    "nombre_recovered    16456\n",
    "Name: 432, dtype: int64"
   ]
  },
  {
   "cell_type": "markdown",
   "id": "43b05afc",
   "metadata": {},
   "source": [
    "nombre_infected       880\n",
    "nombre_sain          2150\n",
    "nombre_exposed        513\n",
    "nombre_recovered    16457\n",
    "Name: 433, dtype: int64"
   ]
  },
  {
   "cell_type": "markdown",
   "id": "d3b085a2",
   "metadata": {},
   "source": [
    "nombre_infected       883\n",
    "nombre_sain          2148\n",
    "nombre_exposed        510\n",
    "nombre_recovered    16459\n",
    "Name: 434, dtype: int64"
   ]
  },
  {
   "cell_type": "markdown",
   "id": "37d90f2c",
   "metadata": {},
   "source": [
    "nombre_infected       890\n",
    "nombre_sain          2132\n",
    "nombre_exposed        508\n",
    "nombre_recovered    16470\n",
    "Name: 435, dtype: int64"
   ]
  },
  {
   "cell_type": "markdown",
   "id": "55251abe",
   "metadata": {},
   "source": [
    "nombre_infected       886\n",
    "nombre_sain          2135\n",
    "nombre_exposed        512\n",
    "nombre_recovered    16467\n",
    "Name: 436, dtype: int64"
   ]
  },
  {
   "cell_type": "markdown",
   "id": "c158948d",
   "metadata": {},
   "source": [
    "nombre_infected       885\n",
    "nombre_sain          2144\n",
    "nombre_exposed        498\n",
    "nombre_recovered    16473\n",
    "Name: 437, dtype: int64"
   ]
  },
  {
   "cell_type": "markdown",
   "id": "ae4b0e76",
   "metadata": {},
   "source": [
    "nombre_infected       878\n",
    "nombre_sain          2152\n",
    "nombre_exposed        490\n",
    "nombre_recovered    16480\n",
    "Name: 438, dtype: int64"
   ]
  },
  {
   "cell_type": "markdown",
   "id": "d2e121ee",
   "metadata": {},
   "source": [
    "nombre_infected       877\n",
    "nombre_sain          2147\n",
    "nombre_exposed        502\n",
    "nombre_recovered    16474\n",
    "Name: 439, dtype: int64"
   ]
  },
  {
   "cell_type": "markdown",
   "id": "a0faebf4",
   "metadata": {},
   "source": [
    "nombre_infected       855\n",
    "nombre_sain          2152\n",
    "nombre_exposed        512\n",
    "nombre_recovered    16481\n",
    "Name: 440, dtype: int64"
   ]
  },
  {
   "cell_type": "markdown",
   "id": "e11a9def",
   "metadata": {},
   "source": [
    "nombre_infected       847\n",
    "nombre_sain          2153\n",
    "nombre_exposed        510\n",
    "nombre_recovered    16490\n",
    "Name: 441, dtype: int64"
   ]
  },
  {
   "cell_type": "markdown",
   "id": "cd2c2504",
   "metadata": {},
   "source": [
    "nombre_infected       846\n",
    "nombre_sain          2160\n",
    "nombre_exposed        527\n",
    "nombre_recovered    16467\n",
    "Name: 442, dtype: int64"
   ]
  },
  {
   "cell_type": "markdown",
   "id": "0886811d",
   "metadata": {},
   "source": [
    "nombre_infected       843\n",
    "nombre_sain          2195\n",
    "nombre_exposed        482\n",
    "nombre_recovered    16480\n",
    "Name: 443, dtype: int64"
   ]
  },
  {
   "cell_type": "markdown",
   "id": "a6536435",
   "metadata": {},
   "source": [
    "nombre_infected       837\n",
    "nombre_sain          2199\n",
    "nombre_exposed        488\n",
    "nombre_recovered    16476\n",
    "Name: 444, dtype: int64"
   ]
  },
  {
   "cell_type": "markdown",
   "id": "0badec50",
   "metadata": {},
   "source": [
    "nombre_infected       824\n",
    "nombre_sain          2219\n",
    "nombre_exposed        492\n",
    "nombre_recovered    16465\n",
    "Name: 445, dtype: int64"
   ]
  },
  {
   "cell_type": "markdown",
   "id": "604024af",
   "metadata": {},
   "source": [
    "nombre_infected       838\n",
    "nombre_sain          2243\n",
    "nombre_exposed        470\n",
    "nombre_recovered    16449\n",
    "Name: 446, dtype: int64"
   ]
  },
  {
   "cell_type": "markdown",
   "id": "a91fe72f",
   "metadata": {},
   "source": [
    "nombre_infected       836\n",
    "nombre_sain          2223\n",
    "nombre_exposed        489\n",
    "nombre_recovered    16452\n",
    "Name: 447, dtype: int64"
   ]
  },
  {
   "cell_type": "markdown",
   "id": "dc01b3d8",
   "metadata": {},
   "source": [
    "nombre_infected       854\n",
    "nombre_sain          2233\n",
    "nombre_exposed        492\n",
    "nombre_recovered    16421\n",
    "Name: 448, dtype: int64"
   ]
  },
  {
   "cell_type": "markdown",
   "id": "eda835b6",
   "metadata": {},
   "source": [
    "nombre_infected       833\n",
    "nombre_sain          2233\n",
    "nombre_exposed        505\n",
    "nombre_recovered    16429\n",
    "Name: 449, dtype: int64"
   ]
  },
  {
   "cell_type": "markdown",
   "id": "ca9ee8ba",
   "metadata": {},
   "source": [
    "nombre_infected       820\n",
    "nombre_sain          2218\n",
    "nombre_exposed        527\n",
    "nombre_recovered    16435\n",
    "Name: 450, dtype: int64"
   ]
  },
  {
   "cell_type": "markdown",
   "id": "542d08b5",
   "metadata": {},
   "source": [
    "nombre_infected       834\n",
    "nombre_sain          2211\n",
    "nombre_exposed        536\n",
    "nombre_recovered    16419\n",
    "Name: 451, dtype: int64"
   ]
  },
  {
   "cell_type": "markdown",
   "id": "fab51ae9",
   "metadata": {},
   "source": [
    "nombre_infected       838\n",
    "nombre_sain          2202\n",
    "nombre_exposed        563\n",
    "nombre_recovered    16397\n",
    "Name: 452, dtype: int64"
   ]
  },
  {
   "cell_type": "markdown",
   "id": "b0610faf",
   "metadata": {},
   "source": [
    "nombre_infected       855\n",
    "nombre_sain          2202\n",
    "nombre_exposed        558\n",
    "nombre_recovered    16385\n",
    "Name: 453, dtype: int64"
   ]
  },
  {
   "cell_type": "markdown",
   "id": "3e4dae78",
   "metadata": {},
   "source": [
    "nombre_infected       871\n",
    "nombre_sain          2193\n",
    "nombre_exposed        569\n",
    "nombre_recovered    16367\n",
    "Name: 454, dtype: int64"
   ]
  },
  {
   "cell_type": "markdown",
   "id": "aba6ed30",
   "metadata": {},
   "source": [
    "nombre_infected       877\n",
    "nombre_sain          2204\n",
    "nombre_exposed        558\n",
    "nombre_recovered    16361\n",
    "Name: 455, dtype: int64"
   ]
  },
  {
   "cell_type": "markdown",
   "id": "8896aa4f",
   "metadata": {},
   "source": [
    "nombre_infected       909\n",
    "nombre_sain          2201\n",
    "nombre_exposed        539\n",
    "nombre_recovered    16351\n",
    "Name: 456, dtype: int64"
   ]
  },
  {
   "cell_type": "markdown",
   "id": "6c83a439",
   "metadata": {},
   "source": [
    "nombre_infected       927\n",
    "nombre_sain          2189\n",
    "nombre_exposed        536\n",
    "nombre_recovered    16348\n",
    "Name: 457, dtype: int64"
   ]
  },
  {
   "cell_type": "markdown",
   "id": "73da7334",
   "metadata": {},
   "source": [
    "nombre_infected       930\n",
    "nombre_sain          2183\n",
    "nombre_exposed        517\n",
    "nombre_recovered    16370\n",
    "Name: 458, dtype: int64"
   ]
  },
  {
   "cell_type": "markdown",
   "id": "5c618a3e",
   "metadata": {},
   "source": [
    "nombre_infected       928\n",
    "nombre_sain          2172\n",
    "nombre_exposed        542\n",
    "nombre_recovered    16358\n",
    "Name: 459, dtype: int64"
   ]
  },
  {
   "cell_type": "markdown",
   "id": "773884b3",
   "metadata": {},
   "source": [
    "nombre_infected       892\n",
    "nombre_sain          2187\n",
    "nombre_exposed        565\n",
    "nombre_recovered    16356\n",
    "Name: 460, dtype: int64"
   ]
  },
  {
   "cell_type": "markdown",
   "id": "70625894",
   "metadata": {},
   "source": [
    "nombre_infected       888\n",
    "nombre_sain          2179\n",
    "nombre_exposed        561\n",
    "nombre_recovered    16372\n",
    "Name: 461, dtype: int64"
   ]
  },
  {
   "cell_type": "markdown",
   "id": "b6e9eda7",
   "metadata": {},
   "source": [
    "nombre_infected       900\n",
    "nombre_sain          2179\n",
    "nombre_exposed        560\n",
    "nombre_recovered    16361\n",
    "Name: 462, dtype: int64"
   ]
  },
  {
   "cell_type": "markdown",
   "id": "7d266baa",
   "metadata": {},
   "source": [
    "nombre_infected       907\n",
    "nombre_sain          2186\n",
    "nombre_exposed        538\n",
    "nombre_recovered    16369\n",
    "Name: 463, dtype: int64"
   ]
  },
  {
   "cell_type": "markdown",
   "id": "3a49179e",
   "metadata": {},
   "source": [
    "nombre_infected       894\n",
    "nombre_sain          2172\n",
    "nombre_exposed        551\n",
    "nombre_recovered    16383\n",
    "Name: 464, dtype: int64"
   ]
  },
  {
   "cell_type": "markdown",
   "id": "ad97bc1d",
   "metadata": {},
   "source": [
    "nombre_infected       878\n",
    "nombre_sain          2189\n",
    "nombre_exposed        559\n",
    "nombre_recovered    16374\n",
    "Name: 465, dtype: int64"
   ]
  },
  {
   "cell_type": "markdown",
   "id": "19c5faae",
   "metadata": {},
   "source": [
    "nombre_infected       896\n",
    "nombre_sain          2190\n",
    "nombre_exposed        547\n",
    "nombre_recovered    16367\n",
    "Name: 466, dtype: int64"
   ]
  },
  {
   "cell_type": "markdown",
   "id": "2532472a",
   "metadata": {},
   "source": [
    "nombre_infected       884\n",
    "nombre_sain          2197\n",
    "nombre_exposed        530\n",
    "nombre_recovered    16389\n",
    "Name: 467, dtype: int64"
   ]
  },
  {
   "cell_type": "markdown",
   "id": "4a6569b4",
   "metadata": {},
   "source": [
    "nombre_infected       903\n",
    "nombre_sain          2181\n",
    "nombre_exposed        525\n",
    "nombre_recovered    16391\n",
    "Name: 468, dtype: int64"
   ]
  },
  {
   "cell_type": "markdown",
   "id": "e4584dc6",
   "metadata": {},
   "source": [
    "nombre_infected       887\n",
    "nombre_sain          2183\n",
    "nombre_exposed        564\n",
    "nombre_recovered    16366\n",
    "Name: 469, dtype: int64"
   ]
  },
  {
   "cell_type": "markdown",
   "id": "8930a240",
   "metadata": {},
   "source": [
    "nombre_infected       886\n",
    "nombre_sain          2175\n",
    "nombre_exposed        567\n",
    "nombre_recovered    16372\n",
    "Name: 470, dtype: int64"
   ]
  },
  {
   "cell_type": "markdown",
   "id": "123ac81d",
   "metadata": {},
   "source": [
    "nombre_infected       895\n",
    "nombre_sain          2168\n",
    "nombre_exposed        567\n",
    "nombre_recovered    16370\n",
    "Name: 471, dtype: int64"
   ]
  },
  {
   "cell_type": "markdown",
   "id": "a71210f3",
   "metadata": {},
   "source": [
    "nombre_infected       912\n",
    "nombre_sain          2166\n",
    "nombre_exposed        572\n",
    "nombre_recovered    16350\n",
    "Name: 472, dtype: int64"
   ]
  },
  {
   "cell_type": "markdown",
   "id": "d8fa465d",
   "metadata": {},
   "source": [
    "nombre_infected       939\n",
    "nombre_sain          2134\n",
    "nombre_exposed        577\n",
    "nombre_recovered    16350\n",
    "Name: 473, dtype: int64"
   ]
  },
  {
   "cell_type": "markdown",
   "id": "122cfa90",
   "metadata": {},
   "source": [
    "nombre_infected       906\n",
    "nombre_sain          2123\n",
    "nombre_exposed        589\n",
    "nombre_recovered    16382\n",
    "Name: 474, dtype: int64"
   ]
  },
  {
   "cell_type": "markdown",
   "id": "e2becf1f",
   "metadata": {},
   "source": [
    "nombre_infected       910\n",
    "nombre_sain          2132\n",
    "nombre_exposed        568\n",
    "nombre_recovered    16390\n",
    "Name: 475, dtype: int64"
   ]
  },
  {
   "cell_type": "markdown",
   "id": "d614ccba",
   "metadata": {},
   "source": [
    "nombre_infected       922\n",
    "nombre_sain          2104\n",
    "nombre_exposed        553\n",
    "nombre_recovered    16421\n",
    "Name: 476, dtype: int64"
   ]
  },
  {
   "cell_type": "markdown",
   "id": "d31dccf6",
   "metadata": {},
   "source": [
    "nombre_infected       951\n",
    "nombre_sain          2085\n",
    "nombre_exposed        563\n",
    "nombre_recovered    16401\n",
    "Name: 477, dtype: int64"
   ]
  },
  {
   "cell_type": "markdown",
   "id": "00c50569",
   "metadata": {},
   "source": [
    "nombre_infected       960\n",
    "nombre_sain          2056\n",
    "nombre_exposed        571\n",
    "nombre_recovered    16413\n",
    "Name: 478, dtype: int64"
   ]
  },
  {
   "cell_type": "markdown",
   "id": "dc838d1b",
   "metadata": {},
   "source": [
    "nombre_infected       957\n",
    "nombre_sain          2055\n",
    "nombre_exposed        555\n",
    "nombre_recovered    16433\n",
    "Name: 479, dtype: int64"
   ]
  },
  {
   "cell_type": "markdown",
   "id": "803e3e98",
   "metadata": {},
   "source": [
    "nombre_infected       956\n",
    "nombre_sain          2061\n",
    "nombre_exposed        555\n",
    "nombre_recovered    16428\n",
    "Name: 480, dtype: int64"
   ]
  },
  {
   "cell_type": "markdown",
   "id": "bc18289c",
   "metadata": {},
   "source": [
    "nombre_infected       974\n",
    "nombre_sain          2041\n",
    "nombre_exposed        556\n",
    "nombre_recovered    16429\n",
    "Name: 481, dtype: int64"
   ]
  },
  {
   "cell_type": "markdown",
   "id": "e692f627",
   "metadata": {},
   "source": [
    "nombre_infected       961\n",
    "nombre_sain          2018\n",
    "nombre_exposed        564\n",
    "nombre_recovered    16457\n",
    "Name: 482, dtype: int64"
   ]
  },
  {
   "cell_type": "markdown",
   "id": "4d5742a4",
   "metadata": {},
   "source": [
    "nombre_infected       961\n",
    "nombre_sain          2011\n",
    "nombre_exposed        562\n",
    "nombre_recovered    16466\n",
    "Name: 483, dtype: int64"
   ]
  },
  {
   "cell_type": "markdown",
   "id": "b8601297",
   "metadata": {},
   "source": [
    "nombre_infected       970\n",
    "nombre_sain          1999\n",
    "nombre_exposed        559\n",
    "nombre_recovered    16472\n",
    "Name: 484, dtype: int64"
   ]
  },
  {
   "cell_type": "markdown",
   "id": "e89905e6",
   "metadata": {},
   "source": [
    "nombre_infected       968\n",
    "nombre_sain          1972\n",
    "nombre_exposed        577\n",
    "nombre_recovered    16483\n",
    "Name: 485, dtype: int64"
   ]
  },
  {
   "cell_type": "markdown",
   "id": "46e8af87",
   "metadata": {},
   "source": [
    "nombre_infected       968\n",
    "nombre_sain          1964\n",
    "nombre_exposed        593\n",
    "nombre_recovered    16475\n",
    "Name: 486, dtype: int64"
   ]
  },
  {
   "cell_type": "markdown",
   "id": "c464b15d",
   "metadata": {},
   "source": [
    "nombre_infected       986\n",
    "nombre_sain          1972\n",
    "nombre_exposed        562\n",
    "nombre_recovered    16480\n",
    "Name: 487, dtype: int64"
   ]
  },
  {
   "cell_type": "markdown",
   "id": "3422d34a",
   "metadata": {},
   "source": [
    "nombre_infected       986\n",
    "nombre_sain          1949\n",
    "nombre_exposed        557\n",
    "nombre_recovered    16508\n",
    "Name: 488, dtype: int64"
   ]
  },
  {
   "cell_type": "markdown",
   "id": "172c44f9",
   "metadata": {},
   "source": [
    "nombre_infected       994\n",
    "nombre_sain          1973\n",
    "nombre_exposed        526\n",
    "nombre_recovered    16507\n",
    "Name: 489, dtype: int64"
   ]
  },
  {
   "cell_type": "markdown",
   "id": "1f1d4e37",
   "metadata": {},
   "source": [
    "nombre_infected      1028\n",
    "nombre_sain          1964\n",
    "nombre_exposed        511\n",
    "nombre_recovered    16497\n",
    "Name: 490, dtype: int64"
   ]
  },
  {
   "cell_type": "markdown",
   "id": "0477fb98",
   "metadata": {},
   "source": [
    "nombre_infected      1013\n",
    "nombre_sain          1945\n",
    "nombre_exposed        522\n",
    "nombre_recovered    16520\n",
    "Name: 491, dtype: int64"
   ]
  },
  {
   "cell_type": "markdown",
   "id": "941059d8",
   "metadata": {},
   "source": [
    "nombre_infected       997\n",
    "nombre_sain          1918\n",
    "nombre_exposed        533\n",
    "nombre_recovered    16552\n",
    "Name: 492, dtype: int64"
   ]
  },
  {
   "cell_type": "markdown",
   "id": "69ac4da0",
   "metadata": {},
   "source": [
    "nombre_infected       975\n",
    "nombre_sain          1896\n",
    "nombre_exposed        536\n",
    "nombre_recovered    16593\n",
    "Name: 493, dtype: int64"
   ]
  },
  {
   "cell_type": "markdown",
   "id": "ca9aaa07",
   "metadata": {},
   "source": [
    "nombre_infected       968\n",
    "nombre_sain          1892\n",
    "nombre_exposed        523\n",
    "nombre_recovered    16617\n",
    "Name: 494, dtype: int64"
   ]
  },
  {
   "cell_type": "markdown",
   "id": "36f1e077",
   "metadata": {},
   "source": [
    "nombre_infected       934\n",
    "nombre_sain          1898\n",
    "nombre_exposed        500\n",
    "nombre_recovered    16668\n",
    "Name: 495, dtype: int64"
   ]
  },
  {
   "cell_type": "markdown",
   "id": "608378bf",
   "metadata": {},
   "source": [
    "nombre_infected       940\n",
    "nombre_sain          1888\n",
    "nombre_exposed        484\n",
    "nombre_recovered    16688\n",
    "Name: 496, dtype: int64"
   ]
  },
  {
   "cell_type": "markdown",
   "id": "dd71dfd1",
   "metadata": {},
   "source": [
    "nombre_infected       926\n",
    "nombre_sain          1879\n",
    "nombre_exposed        484\n",
    "nombre_recovered    16711\n",
    "Name: 497, dtype: int64"
   ]
  },
  {
   "cell_type": "markdown",
   "id": "b6a1d2da",
   "metadata": {},
   "source": [
    "nombre_infected       916\n",
    "nombre_sain          1861\n",
    "nombre_exposed        489\n",
    "nombre_recovered    16734\n",
    "Name: 498, dtype: int64"
   ]
  },
  {
   "cell_type": "markdown",
   "id": "a4239111",
   "metadata": {},
   "source": [
    "nombre_infected       916\n",
    "nombre_sain          1877\n",
    "nombre_exposed        466\n",
    "nombre_recovered    16741\n",
    "Name: 499, dtype: int64"
   ]
  },
  {
   "cell_type": "markdown",
   "id": "9e1703a7",
   "metadata": {},
   "source": [
    "nombre_infected       918\n",
    "nombre_sain          1883\n",
    "nombre_exposed        453\n",
    "nombre_recovered    16746\n",
    "Name: 500, dtype: int64"
   ]
  },
  {
   "cell_type": "markdown",
   "id": "d06ee754",
   "metadata": {},
   "source": [
    "nombre_infected       879\n",
    "nombre_sain          1900\n",
    "nombre_exposed        456\n",
    "nombre_recovered    16765\n",
    "Name: 501, dtype: int64"
   ]
  },
  {
   "cell_type": "markdown",
   "id": "9e421673",
   "metadata": {},
   "source": [
    "nombre_infected       859\n",
    "nombre_sain          1917\n",
    "nombre_exposed        474\n",
    "nombre_recovered    16750\n",
    "Name: 502, dtype: int64"
   ]
  },
  {
   "cell_type": "markdown",
   "id": "3ccedf9f",
   "metadata": {},
   "source": [
    "nombre_infected       860\n",
    "nombre_sain          1933\n",
    "nombre_exposed        468\n",
    "nombre_recovered    16739\n",
    "Name: 503, dtype: int64"
   ]
  },
  {
   "cell_type": "markdown",
   "id": "2e182f61",
   "metadata": {},
   "source": [
    "nombre_infected       841\n",
    "nombre_sain          1978\n",
    "nombre_exposed        461\n",
    "nombre_recovered    16720\n",
    "Name: 504, dtype: int64"
   ]
  },
  {
   "cell_type": "markdown",
   "id": "5630b96e",
   "metadata": {},
   "source": [
    "nombre_infected       824\n",
    "nombre_sain          1988\n",
    "nombre_exposed        485\n",
    "nombre_recovered    16703\n",
    "Name: 505, dtype: int64"
   ]
  },
  {
   "cell_type": "markdown",
   "id": "ebc612f2",
   "metadata": {},
   "source": [
    "nombre_infected       794\n",
    "nombre_sain          2028\n",
    "nombre_exposed        493\n",
    "nombre_recovered    16685\n",
    "Name: 506, dtype: int64"
   ]
  },
  {
   "cell_type": "markdown",
   "id": "4d463568",
   "metadata": {},
   "source": [
    "nombre_infected       775\n",
    "nombre_sain          2043\n",
    "nombre_exposed        480\n",
    "nombre_recovered    16702\n",
    "Name: 507, dtype: int64"
   ]
  },
  {
   "cell_type": "markdown",
   "id": "12d283a1",
   "metadata": {},
   "source": [
    "nombre_infected       808\n",
    "nombre_sain          2085\n",
    "nombre_exposed        470\n",
    "nombre_recovered    16637\n",
    "Name: 508, dtype: int64"
   ]
  },
  {
   "cell_type": "markdown",
   "id": "11430057",
   "metadata": {},
   "source": [
    "nombre_infected       807\n",
    "nombre_sain          2124\n",
    "nombre_exposed        462\n",
    "nombre_recovered    16607\n",
    "Name: 509, dtype: int64"
   ]
  },
  {
   "cell_type": "markdown",
   "id": "7f57616a",
   "metadata": {},
   "source": [
    "nombre_infected       781\n",
    "nombre_sain          2127\n",
    "nombre_exposed        489\n",
    "nombre_recovered    16603\n",
    "Name: 510, dtype: int64"
   ]
  },
  {
   "cell_type": "markdown",
   "id": "f1e361b7",
   "metadata": {},
   "source": [
    "nombre_infected       786\n",
    "nombre_sain          2145\n",
    "nombre_exposed        477\n",
    "nombre_recovered    16592\n",
    "Name: 511, dtype: int64"
   ]
  },
  {
   "cell_type": "markdown",
   "id": "12e2fcc6",
   "metadata": {},
   "source": [
    "nombre_infected       798\n",
    "nombre_sain          2163\n",
    "nombre_exposed        471\n",
    "nombre_recovered    16568\n",
    "Name: 512, dtype: int64"
   ]
  },
  {
   "cell_type": "markdown",
   "id": "40999581",
   "metadata": {},
   "source": [
    "nombre_infected       808\n",
    "nombre_sain          2175\n",
    "nombre_exposed        461\n",
    "nombre_recovered    16556\n",
    "Name: 513, dtype: int64"
   ]
  },
  {
   "cell_type": "markdown",
   "id": "9830dcce",
   "metadata": {},
   "source": [
    "nombre_infected       818\n",
    "nombre_sain          2176\n",
    "nombre_exposed        455\n",
    "nombre_recovered    16551\n",
    "Name: 514, dtype: int64"
   ]
  },
  {
   "cell_type": "markdown",
   "id": "16e19a61",
   "metadata": {},
   "source": [
    "nombre_infected       786\n",
    "nombre_sain          2212\n",
    "nombre_exposed        445\n",
    "nombre_recovered    16557\n",
    "Name: 515, dtype: int64"
   ]
  },
  {
   "cell_type": "markdown",
   "id": "2e8024b5",
   "metadata": {},
   "source": [
    "nombre_infected       814\n",
    "nombre_sain          2204\n",
    "nombre_exposed        450\n",
    "nombre_recovered    16532\n",
    "Name: 516, dtype: int64"
   ]
  },
  {
   "cell_type": "markdown",
   "id": "ba6d589f",
   "metadata": {},
   "source": [
    "nombre_infected       825\n",
    "nombre_sain          2216\n",
    "nombre_exposed        454\n",
    "nombre_recovered    16505\n",
    "Name: 517, dtype: int64"
   ]
  },
  {
   "cell_type": "markdown",
   "id": "fea98f22",
   "metadata": {},
   "source": [
    "nombre_infected       833\n",
    "nombre_sain          2232\n",
    "nombre_exposed        474\n",
    "nombre_recovered    16461\n",
    "Name: 518, dtype: int64"
   ]
  },
  {
   "cell_type": "markdown",
   "id": "aa502638",
   "metadata": {},
   "source": [
    "nombre_infected       829\n",
    "nombre_sain          2258\n",
    "nombre_exposed        469\n",
    "nombre_recovered    16444\n",
    "Name: 519, dtype: int64"
   ]
  },
  {
   "cell_type": "markdown",
   "id": "f1a90b17",
   "metadata": {},
   "source": [
    "nombre_infected       822\n",
    "nombre_sain          2286\n",
    "nombre_exposed        469\n",
    "nombre_recovered    16423\n",
    "Name: 520, dtype: int64"
   ]
  },
  {
   "cell_type": "markdown",
   "id": "cc3dbe66",
   "metadata": {},
   "source": [
    "nombre_infected       853\n",
    "nombre_sain          2309\n",
    "nombre_exposed        479\n",
    "nombre_recovered    16359\n",
    "Name: 521, dtype: int64"
   ]
  },
  {
   "cell_type": "markdown",
   "id": "aefac526",
   "metadata": {},
   "source": [
    "nombre_infected       878\n",
    "nombre_sain          2333\n",
    "nombre_exposed        474\n",
    "nombre_recovered    16315\n",
    "Name: 522, dtype: int64"
   ]
  },
  {
   "cell_type": "markdown",
   "id": "df01cb16",
   "metadata": {},
   "source": [
    "nombre_infected       873\n",
    "nombre_sain          2364\n",
    "nombre_exposed        497\n",
    "nombre_recovered    16266\n",
    "Name: 523, dtype: int64"
   ]
  },
  {
   "cell_type": "markdown",
   "id": "e96c1995",
   "metadata": {},
   "source": [
    "nombre_infected       857\n",
    "nombre_sain          2367\n",
    "nombre_exposed        530\n",
    "nombre_recovered    16246\n",
    "Name: 524, dtype: int64"
   ]
  },
  {
   "cell_type": "markdown",
   "id": "2ccea098",
   "metadata": {},
   "source": [
    "nombre_infected       860\n",
    "nombre_sain          2395\n",
    "nombre_exposed        541\n",
    "nombre_recovered    16204\n",
    "Name: 525, dtype: int64"
   ]
  },
  {
   "cell_type": "markdown",
   "id": "f1e0f8fe",
   "metadata": {},
   "source": [
    "nombre_infected       869\n",
    "nombre_sain          2434\n",
    "nombre_exposed        538\n",
    "nombre_recovered    16159\n",
    "Name: 526, dtype: int64"
   ]
  },
  {
   "cell_type": "markdown",
   "id": "4df195d2",
   "metadata": {},
   "source": [
    "nombre_infected       889\n",
    "nombre_sain          2403\n",
    "nombre_exposed        567\n",
    "nombre_recovered    16141\n",
    "Name: 527, dtype: int64"
   ]
  },
  {
   "cell_type": "markdown",
   "id": "021a3ee2",
   "metadata": {},
   "source": [
    "nombre_infected       907\n",
    "nombre_sain          2410\n",
    "nombre_exposed        571\n",
    "nombre_recovered    16112\n",
    "Name: 528, dtype: int64"
   ]
  },
  {
   "cell_type": "markdown",
   "id": "bfb9b1c3",
   "metadata": {},
   "source": [
    "nombre_infected       939\n",
    "nombre_sain          2421\n",
    "nombre_exposed        553\n",
    "nombre_recovered    16087\n",
    "Name: 529, dtype: int64"
   ]
  },
  {
   "cell_type": "markdown",
   "id": "b58aa5a8",
   "metadata": {},
   "source": [
    "nombre_infected       926\n",
    "nombre_sain          2414\n",
    "nombre_exposed        564\n",
    "nombre_recovered    16096\n",
    "Name: 530, dtype: int64"
   ]
  },
  {
   "cell_type": "markdown",
   "id": "b22e6a10",
   "metadata": {},
   "source": [
    "nombre_infected       924\n",
    "nombre_sain          2426\n",
    "nombre_exposed        592\n",
    "nombre_recovered    16058\n",
    "Name: 531, dtype: int64"
   ]
  },
  {
   "cell_type": "markdown",
   "id": "82478956",
   "metadata": {},
   "source": [
    "nombre_infected       939\n",
    "nombre_sain          2419\n",
    "nombre_exposed        618\n",
    "nombre_recovered    16024\n",
    "Name: 532, dtype: int64"
   ]
  },
  {
   "cell_type": "markdown",
   "id": "413c0886",
   "metadata": {},
   "source": [
    "nombre_infected       995\n",
    "nombre_sain          2426\n",
    "nombre_exposed        575\n",
    "nombre_recovered    16004\n",
    "Name: 533, dtype: int64"
   ]
  },
  {
   "cell_type": "markdown",
   "id": "ef77deec",
   "metadata": {},
   "source": [
    "nombre_infected      1001\n",
    "nombre_sain          2383\n",
    "nombre_exposed        604\n",
    "nombre_recovered    16012\n",
    "Name: 534, dtype: int64"
   ]
  },
  {
   "cell_type": "markdown",
   "id": "6ba1abd6",
   "metadata": {},
   "source": [
    "nombre_infected      1030\n",
    "nombre_sain          2353\n",
    "nombre_exposed        599\n",
    "nombre_recovered    16018\n",
    "Name: 535, dtype: int64"
   ]
  },
  {
   "cell_type": "markdown",
   "id": "66c0693f",
   "metadata": {},
   "source": [
    "nombre_infected      1036\n",
    "nombre_sain          2301\n",
    "nombre_exposed        608\n",
    "nombre_recovered    16055\n",
    "Name: 536, dtype: int64"
   ]
  },
  {
   "cell_type": "markdown",
   "id": "5f0a1724",
   "metadata": {},
   "source": [
    "nombre_infected      1052\n",
    "nombre_sain          2269\n",
    "nombre_exposed        616\n",
    "nombre_recovered    16063\n",
    "Name: 537, dtype: int64"
   ]
  },
  {
   "cell_type": "markdown",
   "id": "97259109",
   "metadata": {},
   "source": [
    "nombre_infected      1054\n",
    "nombre_sain          2255\n",
    "nombre_exposed        623\n",
    "nombre_recovered    16068\n",
    "Name: 538, dtype: int64"
   ]
  },
  {
   "cell_type": "markdown",
   "id": "688dfab9",
   "metadata": {},
   "source": [
    "nombre_infected      1081\n",
    "nombre_sain          2235\n",
    "nombre_exposed        600\n",
    "nombre_recovered    16084\n",
    "Name: 539, dtype: int64"
   ]
  },
  {
   "cell_type": "markdown",
   "id": "772a6ef2",
   "metadata": {},
   "source": [
    "nombre_infected      1092\n",
    "nombre_sain          2201\n",
    "nombre_exposed        622\n",
    "nombre_recovered    16085\n",
    "Name: 540, dtype: int64"
   ]
  },
  {
   "cell_type": "markdown",
   "id": "cc216a65",
   "metadata": {},
   "source": [
    "nombre_infected      1086\n",
    "nombre_sain          2175\n",
    "nombre_exposed        627\n",
    "nombre_recovered    16112\n",
    "Name: 541, dtype: int64"
   ]
  },
  {
   "cell_type": "markdown",
   "id": "18a33c83",
   "metadata": {},
   "source": [
    "nombre_infected      1123\n",
    "nombre_sain          2153\n",
    "nombre_exposed        593\n",
    "nombre_recovered    16131\n",
    "Name: 542, dtype: int64"
   ]
  },
  {
   "cell_type": "markdown",
   "id": "c1e2c81a",
   "metadata": {},
   "source": [
    "nombre_infected      1127\n",
    "nombre_sain          2124\n",
    "nombre_exposed        596\n",
    "nombre_recovered    16153\n",
    "Name: 543, dtype: int64"
   ]
  },
  {
   "cell_type": "markdown",
   "id": "317bbe46",
   "metadata": {},
   "source": [
    "nombre_infected      1117\n",
    "nombre_sain          2107\n",
    "nombre_exposed        591\n",
    "nombre_recovered    16185\n",
    "Name: 544, dtype: int64"
   ]
  },
  {
   "cell_type": "markdown",
   "id": "d770722a",
   "metadata": {},
   "source": [
    "nombre_infected      1125\n",
    "nombre_sain          2063\n",
    "nombre_exposed        611\n",
    "nombre_recovered    16201\n",
    "Name: 545, dtype: int64"
   ]
  },
  {
   "cell_type": "markdown",
   "id": "e25aaa79",
   "metadata": {},
   "source": [
    "nombre_infected      1156\n",
    "nombre_sain          2036\n",
    "nombre_exposed        600\n",
    "nombre_recovered    16208\n",
    "Name: 546, dtype: int64"
   ]
  },
  {
   "cell_type": "markdown",
   "id": "0047511d",
   "metadata": {},
   "source": [
    "nombre_infected      1147\n",
    "nombre_sain          2009\n",
    "nombre_exposed        615\n",
    "nombre_recovered    16229\n",
    "Name: 547, dtype: int64"
   ]
  },
  {
   "cell_type": "markdown",
   "id": "37af0af0",
   "metadata": {},
   "source": [
    "nombre_infected      1159\n",
    "nombre_sain          2021\n",
    "nombre_exposed        584\n",
    "nombre_recovered    16236\n",
    "Name: 548, dtype: int64"
   ]
  },
  {
   "cell_type": "markdown",
   "id": "0923ee9c",
   "metadata": {},
   "source": [
    "nombre_infected      1166\n",
    "nombre_sain          2026\n",
    "nombre_exposed        572\n",
    "nombre_recovered    16236\n",
    "Name: 549, dtype: int64"
   ]
  },
  {
   "cell_type": "markdown",
   "id": "5aef22ac",
   "metadata": {},
   "source": [
    "nombre_infected      1134\n",
    "nombre_sain          2027\n",
    "nombre_exposed        549\n",
    "nombre_recovered    16290\n",
    "Name: 550, dtype: int64"
   ]
  },
  {
   "cell_type": "markdown",
   "id": "8dbc6173",
   "metadata": {},
   "source": [
    "nombre_infected      1136\n",
    "nombre_sain          1998\n",
    "nombre_exposed        544\n",
    "nombre_recovered    16322\n",
    "Name: 551, dtype: int64"
   ]
  },
  {
   "cell_type": "markdown",
   "id": "57efaf53",
   "metadata": {},
   "source": [
    "nombre_infected      1111\n",
    "nombre_sain          1989\n",
    "nombre_exposed        551\n",
    "nombre_recovered    16349\n",
    "Name: 552, dtype: int64"
   ]
  },
  {
   "cell_type": "markdown",
   "id": "fe038aa8",
   "metadata": {},
   "source": [
    "nombre_infected      1103\n",
    "nombre_sain          1985\n",
    "nombre_exposed        550\n",
    "nombre_recovered    16362\n",
    "Name: 553, dtype: int64"
   ]
  },
  {
   "cell_type": "markdown",
   "id": "a51b28c3",
   "metadata": {},
   "source": [
    "nombre_infected      1112\n",
    "nombre_sain          1982\n",
    "nombre_exposed        534\n",
    "nombre_recovered    16372\n",
    "Name: 554, dtype: int64"
   ]
  },
  {
   "cell_type": "markdown",
   "id": "1c1dfaf8",
   "metadata": {},
   "source": [
    "nombre_infected      1092\n",
    "nombre_sain          1942\n",
    "nombre_exposed        572\n",
    "nombre_recovered    16394\n",
    "Name: 555, dtype: int64"
   ]
  },
  {
   "cell_type": "markdown",
   "id": "f15d545d",
   "metadata": {},
   "source": [
    "nombre_infected      1102\n",
    "nombre_sain          1936\n",
    "nombre_exposed        583\n",
    "nombre_recovered    16379\n",
    "Name: 556, dtype: int64"
   ]
  },
  {
   "cell_type": "markdown",
   "id": "476134d0",
   "metadata": {},
   "source": [
    "nombre_infected      1074\n",
    "nombre_sain          1918\n",
    "nombre_exposed        587\n",
    "nombre_recovered    16421\n",
    "Name: 557, dtype: int64"
   ]
  },
  {
   "cell_type": "markdown",
   "id": "f7ad7e62",
   "metadata": {},
   "source": [
    "nombre_infected      1072\n",
    "nombre_sain          1921\n",
    "nombre_exposed        566\n",
    "nombre_recovered    16441\n",
    "Name: 558, dtype: int64"
   ]
  },
  {
   "cell_type": "markdown",
   "id": "ea5d4c52",
   "metadata": {},
   "source": [
    "nombre_infected      1056\n",
    "nombre_sain          1908\n",
    "nombre_exposed        571\n",
    "nombre_recovered    16465\n",
    "Name: 559, dtype: int64"
   ]
  },
  {
   "cell_type": "markdown",
   "id": "1122b3ad",
   "metadata": {},
   "source": [
    "nombre_infected      1058\n",
    "nombre_sain          1884\n",
    "nombre_exposed        577\n",
    "nombre_recovered    16481\n",
    "Name: 560, dtype: int64"
   ]
  },
  {
   "cell_type": "markdown",
   "id": "6e21af17",
   "metadata": {},
   "source": [
    "nombre_infected      1078\n",
    "nombre_sain          1878\n",
    "nombre_exposed        560\n",
    "nombre_recovered    16484\n",
    "Name: 561, dtype: int64"
   ]
  },
  {
   "cell_type": "markdown",
   "id": "808be1b3",
   "metadata": {},
   "source": [
    "nombre_infected      1078\n",
    "nombre_sain          1889\n",
    "nombre_exposed        580\n",
    "nombre_recovered    16453\n",
    "Name: 562, dtype: int64"
   ]
  },
  {
   "cell_type": "markdown",
   "id": "ef098900",
   "metadata": {},
   "source": [
    "nombre_infected      1052\n",
    "nombre_sain          1881\n",
    "nombre_exposed        577\n",
    "nombre_recovered    16490\n",
    "Name: 563, dtype: int64"
   ]
  },
  {
   "cell_type": "markdown",
   "id": "af2849c1",
   "metadata": {},
   "source": [
    "nombre_infected      1044\n",
    "nombre_sain          1910\n",
    "nombre_exposed        557\n",
    "nombre_recovered    16489\n",
    "Name: 564, dtype: int64"
   ]
  },
  {
   "cell_type": "markdown",
   "id": "70580d7c",
   "metadata": {},
   "source": [
    "nombre_infected      1066\n",
    "nombre_sain          1924\n",
    "nombre_exposed        539\n",
    "nombre_recovered    16471\n",
    "Name: 565, dtype: int64"
   ]
  },
  {
   "cell_type": "markdown",
   "id": "1363d4e6",
   "metadata": {},
   "source": [
    "nombre_infected      1055\n",
    "nombre_sain          1920\n",
    "nombre_exposed        545\n",
    "nombre_recovered    16480\n",
    "Name: 566, dtype: int64"
   ]
  },
  {
   "cell_type": "markdown",
   "id": "06809ae4",
   "metadata": {},
   "source": [
    "nombre_infected      1058\n",
    "nombre_sain          1917\n",
    "nombre_exposed        552\n",
    "nombre_recovered    16473\n",
    "Name: 567, dtype: int64"
   ]
  },
  {
   "cell_type": "markdown",
   "id": "9aa0413f",
   "metadata": {},
   "source": [
    "nombre_infected      1033\n",
    "nombre_sain          1927\n",
    "nombre_exposed        565\n",
    "nombre_recovered    16475\n",
    "Name: 568, dtype: int64"
   ]
  },
  {
   "cell_type": "markdown",
   "id": "38737a3e",
   "metadata": {},
   "source": [
    "nombre_infected      1029\n",
    "nombre_sain          1921\n",
    "nombre_exposed        561\n",
    "nombre_recovered    16489\n",
    "Name: 569, dtype: int64"
   ]
  },
  {
   "cell_type": "markdown",
   "id": "96bf7770",
   "metadata": {},
   "source": [
    "nombre_infected      1058\n",
    "nombre_sain          1942\n",
    "nombre_exposed        523\n",
    "nombre_recovered    16477\n",
    "Name: 570, dtype: int64"
   ]
  },
  {
   "cell_type": "markdown",
   "id": "a06304f3",
   "metadata": {},
   "source": [
    "nombre_infected      1059\n",
    "nombre_sain          1951\n",
    "nombre_exposed        534\n",
    "nombre_recovered    16456\n",
    "Name: 571, dtype: int64"
   ]
  },
  {
   "cell_type": "markdown",
   "id": "0064c395",
   "metadata": {},
   "source": [
    "nombre_infected      1040\n",
    "nombre_sain          1954\n",
    "nombre_exposed        541\n",
    "nombre_recovered    16465\n",
    "Name: 572, dtype: int64"
   ]
  },
  {
   "cell_type": "markdown",
   "id": "eda27bb5",
   "metadata": {},
   "source": [
    "nombre_infected      1042\n",
    "nombre_sain          1956\n",
    "nombre_exposed        533\n",
    "nombre_recovered    16469\n",
    "Name: 573, dtype: int64"
   ]
  },
  {
   "cell_type": "markdown",
   "id": "d76489fe",
   "metadata": {},
   "source": [
    "nombre_infected      1039\n",
    "nombre_sain          1972\n",
    "nombre_exposed        526\n",
    "nombre_recovered    16463\n",
    "Name: 574, dtype: int64"
   ]
  },
  {
   "cell_type": "markdown",
   "id": "5478b4de",
   "metadata": {},
   "source": [
    "nombre_infected      1037\n",
    "nombre_sain          1982\n",
    "nombre_exposed        529\n",
    "nombre_recovered    16452\n",
    "Name: 575, dtype: int64"
   ]
  },
  {
   "cell_type": "markdown",
   "id": "28784a07",
   "metadata": {},
   "source": [
    "nombre_infected      1042\n",
    "nombre_sain          1991\n",
    "nombre_exposed        523\n",
    "nombre_recovered    16444\n",
    "Name: 576, dtype: int64"
   ]
  },
  {
   "cell_type": "markdown",
   "id": "1d08d7c8",
   "metadata": {},
   "source": [
    "nombre_infected      1030\n",
    "nombre_sain          1977\n",
    "nombre_exposed        529\n",
    "nombre_recovered    16464\n",
    "Name: 577, dtype: int64"
   ]
  },
  {
   "cell_type": "markdown",
   "id": "9746d81d",
   "metadata": {},
   "source": [
    "nombre_infected      1006\n",
    "nombre_sain          1989\n",
    "nombre_exposed        524\n",
    "nombre_recovered    16481\n",
    "Name: 578, dtype: int64"
   ]
  },
  {
   "cell_type": "markdown",
   "id": "7a14ca1e",
   "metadata": {},
   "source": [
    "nombre_infected      1010\n",
    "nombre_sain          1995\n",
    "nombre_exposed        534\n",
    "nombre_recovered    16461\n",
    "Name: 579, dtype: int64"
   ]
  },
  {
   "cell_type": "markdown",
   "id": "c8f37015",
   "metadata": {},
   "source": [
    "nombre_infected      1005\n",
    "nombre_sain          1996\n",
    "nombre_exposed        536\n",
    "nombre_recovered    16463\n",
    "Name: 580, dtype: int64"
   ]
  },
  {
   "cell_type": "markdown",
   "id": "ad64b5d7",
   "metadata": {},
   "source": [
    "nombre_infected       991\n",
    "nombre_sain          1980\n",
    "nombre_exposed        563\n",
    "nombre_recovered    16466\n",
    "Name: 581, dtype: int64"
   ]
  },
  {
   "cell_type": "markdown",
   "id": "2a91bf87",
   "metadata": {},
   "source": [
    "nombre_infected       991\n",
    "nombre_sain          1968\n",
    "nombre_exposed        543\n",
    "nombre_recovered    16498\n",
    "Name: 582, dtype: int64"
   ]
  },
  {
   "cell_type": "markdown",
   "id": "27e2ba59",
   "metadata": {},
   "source": [
    "nombre_infected      1003\n",
    "nombre_sain          1959\n",
    "nombre_exposed        531\n",
    "nombre_recovered    16507\n",
    "Name: 583, dtype: int64"
   ]
  },
  {
   "cell_type": "markdown",
   "id": "fe0e4050",
   "metadata": {},
   "source": [
    "nombre_infected      1005\n",
    "nombre_sain          1948\n",
    "nombre_exposed        517\n",
    "nombre_recovered    16530\n",
    "Name: 584, dtype: int64"
   ]
  },
  {
   "cell_type": "markdown",
   "id": "cccf5e24",
   "metadata": {},
   "source": [
    "nombre_infected       985\n",
    "nombre_sain          1919\n",
    "nombre_exposed        562\n",
    "nombre_recovered    16534\n",
    "Name: 585, dtype: int64"
   ]
  },
  {
   "cell_type": "markdown",
   "id": "25653acf",
   "metadata": {},
   "source": [
    "nombre_infected       991\n",
    "nombre_sain          1923\n",
    "nombre_exposed        539\n",
    "nombre_recovered    16547\n",
    "Name: 586, dtype: int64"
   ]
  },
  {
   "cell_type": "markdown",
   "id": "9f4d25b5",
   "metadata": {},
   "source": [
    "nombre_infected      1009\n",
    "nombre_sain          1910\n",
    "nombre_exposed        518\n",
    "nombre_recovered    16563\n",
    "Name: 587, dtype: int64"
   ]
  },
  {
   "cell_type": "markdown",
   "id": "e850af83",
   "metadata": {},
   "source": [
    "nombre_infected      1016\n",
    "nombre_sain          1898\n",
    "nombre_exposed        514\n",
    "nombre_recovered    16572\n",
    "Name: 588, dtype: int64"
   ]
  },
  {
   "cell_type": "markdown",
   "id": "2bdbb388",
   "metadata": {},
   "source": [
    "nombre_infected      1024\n",
    "nombre_sain          1902\n",
    "nombre_exposed        499\n",
    "nombre_recovered    16575\n",
    "Name: 589, dtype: int64"
   ]
  },
  {
   "cell_type": "markdown",
   "id": "78cd9346",
   "metadata": {},
   "source": [
    "nombre_infected      1014\n",
    "nombre_sain          1892\n",
    "nombre_exposed        513\n",
    "nombre_recovered    16581\n",
    "Name: 590, dtype: int64"
   ]
  },
  {
   "cell_type": "markdown",
   "id": "ed1061b1",
   "metadata": {},
   "source": [
    "nombre_infected       978\n",
    "nombre_sain          1876\n",
    "nombre_exposed        522\n",
    "nombre_recovered    16624\n",
    "Name: 591, dtype: int64"
   ]
  },
  {
   "cell_type": "markdown",
   "id": "c2cfcef7",
   "metadata": {},
   "source": [
    "nombre_infected       986\n",
    "nombre_sain          1888\n",
    "nombre_exposed        500\n",
    "nombre_recovered    16626\n",
    "Name: 592, dtype: int64"
   ]
  },
  {
   "cell_type": "markdown",
   "id": "614fb35b",
   "metadata": {},
   "source": [
    "nombre_infected       963\n",
    "nombre_sain          1882\n",
    "nombre_exposed        516\n",
    "nombre_recovered    16639\n",
    "Name: 593, dtype: int64"
   ]
  },
  {
   "cell_type": "markdown",
   "id": "0512dc57",
   "metadata": {},
   "source": [
    "nombre_infected       978\n",
    "nombre_sain          1906\n",
    "nombre_exposed        484\n",
    "nombre_recovered    16632\n",
    "Name: 594, dtype: int64"
   ]
  },
  {
   "cell_type": "markdown",
   "id": "1e7e9019",
   "metadata": {},
   "source": [
    "nombre_infected       968\n",
    "nombre_sain          1886\n",
    "nombre_exposed        493\n",
    "nombre_recovered    16653\n",
    "Name: 595, dtype: int64"
   ]
  },
  {
   "cell_type": "markdown",
   "id": "fac0ac9a",
   "metadata": {},
   "source": [
    "nombre_infected       944\n",
    "nombre_sain          1894\n",
    "nombre_exposed        489\n",
    "nombre_recovered    16673\n",
    "Name: 596, dtype: int64"
   ]
  },
  {
   "cell_type": "markdown",
   "id": "e44298b3",
   "metadata": {},
   "source": [
    "nombre_infected       947\n",
    "nombre_sain          1902\n",
    "nombre_exposed        475\n",
    "nombre_recovered    16676\n",
    "Name: 597, dtype: int64"
   ]
  },
  {
   "cell_type": "markdown",
   "id": "74d0f184",
   "metadata": {},
   "source": [
    "nombre_infected       922\n",
    "nombre_sain          1913\n",
    "nombre_exposed        465\n",
    "nombre_recovered    16700\n",
    "Name: 598, dtype: int64"
   ]
  },
  {
   "cell_type": "markdown",
   "id": "03938c1f",
   "metadata": {},
   "source": [
    "nombre_infected       904\n",
    "nombre_sain          1900\n",
    "nombre_exposed        481\n",
    "nombre_recovered    16715\n",
    "Name: 599, dtype: int64"
   ]
  },
  {
   "cell_type": "markdown",
   "id": "261770c6",
   "metadata": {},
   "source": [
    "nombre_infected       865\n",
    "nombre_sain          1900\n",
    "nombre_exposed        468\n",
    "nombre_recovered    16767\n",
    "Name: 600, dtype: int64"
   ]
  },
  {
   "cell_type": "markdown",
   "id": "bdeef23d",
   "metadata": {},
   "source": [
    "nombre_infected       884\n",
    "nombre_sain          1912\n",
    "nombre_exposed        436\n",
    "nombre_recovered    16768\n",
    "Name: 601, dtype: int64"
   ]
  },
  {
   "cell_type": "markdown",
   "id": "587c5f98",
   "metadata": {},
   "source": [
    "nombre_infected       877\n",
    "nombre_sain          1956\n",
    "nombre_exposed        412\n",
    "nombre_recovered    16755\n",
    "Name: 602, dtype: int64"
   ]
  },
  {
   "cell_type": "markdown",
   "id": "46ee2e33",
   "metadata": {},
   "source": [
    "nombre_infected       860\n",
    "nombre_sain          1966\n",
    "nombre_exposed        401\n",
    "nombre_recovered    16773\n",
    "Name: 603, dtype: int64"
   ]
  },
  {
   "cell_type": "markdown",
   "id": "24925b35",
   "metadata": {},
   "source": [
    "nombre_infected       845\n",
    "nombre_sain          1991\n",
    "nombre_exposed        411\n",
    "nombre_recovered    16753\n",
    "Name: 604, dtype: int64"
   ]
  },
  {
   "cell_type": "markdown",
   "id": "b16e8792",
   "metadata": {},
   "source": [
    "nombre_infected       818\n",
    "nombre_sain          1989\n",
    "nombre_exposed        417\n",
    "nombre_recovered    16776\n",
    "Name: 605, dtype: int64"
   ]
  },
  {
   "cell_type": "markdown",
   "id": "359e59f9",
   "metadata": {},
   "source": [
    "nombre_infected       795\n",
    "nombre_sain          2011\n",
    "nombre_exposed        405\n",
    "nombre_recovered    16789\n",
    "Name: 606, dtype: int64"
   ]
  },
  {
   "cell_type": "markdown",
   "id": "c3ef08df",
   "metadata": {},
   "source": [
    "nombre_infected       772\n",
    "nombre_sain          2015\n",
    "nombre_exposed        417\n",
    "nombre_recovered    16796\n",
    "Name: 607, dtype: int64"
   ]
  },
  {
   "cell_type": "markdown",
   "id": "32f4a61f",
   "metadata": {},
   "source": [
    "nombre_infected       775\n",
    "nombre_sain          2032\n",
    "nombre_exposed        417\n",
    "nombre_recovered    16776\n",
    "Name: 608, dtype: int64"
   ]
  },
  {
   "cell_type": "markdown",
   "id": "772d5849",
   "metadata": {},
   "source": [
    "nombre_infected       757\n",
    "nombre_sain          2072\n",
    "nombre_exposed        419\n",
    "nombre_recovered    16752\n",
    "Name: 609, dtype: int64"
   ]
  },
  {
   "cell_type": "markdown",
   "id": "4e94fea5",
   "metadata": {},
   "source": [
    "nombre_infected       748\n",
    "nombre_sain          2093\n",
    "nombre_exposed        422\n",
    "nombre_recovered    16737\n",
    "Name: 610, dtype: int64"
   ]
  },
  {
   "cell_type": "markdown",
   "id": "57d1bae3",
   "metadata": {},
   "source": [
    "nombre_infected       748\n",
    "nombre_sain          2102\n",
    "nombre_exposed        417\n",
    "nombre_recovered    16733\n",
    "Name: 611, dtype: int64"
   ]
  },
  {
   "cell_type": "markdown",
   "id": "8c52dd69",
   "metadata": {},
   "source": [
    "nombre_infected       758\n",
    "nombre_sain          2141\n",
    "nombre_exposed        404\n",
    "nombre_recovered    16697\n",
    "Name: 612, dtype: int64"
   ]
  },
  {
   "cell_type": "markdown",
   "id": "7f17994c",
   "metadata": {},
   "source": [
    "nombre_infected       761\n",
    "nombre_sain          2165\n",
    "nombre_exposed        425\n",
    "nombre_recovered    16649\n",
    "Name: 613, dtype: int64"
   ]
  },
  {
   "cell_type": "markdown",
   "id": "8e71d48f",
   "metadata": {},
   "source": [
    "nombre_infected       745\n",
    "nombre_sain          2198\n",
    "nombre_exposed        428\n",
    "nombre_recovered    16629\n",
    "Name: 614, dtype: int64"
   ]
  },
  {
   "cell_type": "markdown",
   "id": "0656163f",
   "metadata": {},
   "source": [
    "nombre_infected       758\n",
    "nombre_sain          2221\n",
    "nombre_exposed        423\n",
    "nombre_recovered    16598\n",
    "Name: 615, dtype: int64"
   ]
  },
  {
   "cell_type": "markdown",
   "id": "6fba7b67",
   "metadata": {},
   "source": [
    "nombre_infected       744\n",
    "nombre_sain          2244\n",
    "nombre_exposed        422\n",
    "nombre_recovered    16590\n",
    "Name: 616, dtype: int64"
   ]
  },
  {
   "cell_type": "markdown",
   "id": "9fb35502",
   "metadata": {},
   "source": [
    "nombre_infected       732\n",
    "nombre_sain          2263\n",
    "nombre_exposed        421\n",
    "nombre_recovered    16584\n",
    "Name: 617, dtype: int64"
   ]
  },
  {
   "cell_type": "markdown",
   "id": "7af38d3f",
   "metadata": {},
   "source": [
    "nombre_infected       749\n",
    "nombre_sain          2301\n",
    "nombre_exposed        412\n",
    "nombre_recovered    16538\n",
    "Name: 618, dtype: int64"
   ]
  },
  {
   "cell_type": "markdown",
   "id": "0888af88",
   "metadata": {},
   "source": [
    "nombre_infected       757\n",
    "nombre_sain          2333\n",
    "nombre_exposed        410\n",
    "nombre_recovered    16500\n",
    "Name: 619, dtype: int64"
   ]
  },
  {
   "cell_type": "markdown",
   "id": "d6dc4ffd",
   "metadata": {},
   "source": [
    "nombre_infected       775\n",
    "nombre_sain          2344\n",
    "nombre_exposed        415\n",
    "nombre_recovered    16466\n",
    "Name: 620, dtype: int64"
   ]
  },
  {
   "cell_type": "markdown",
   "id": "585b835b",
   "metadata": {},
   "source": [
    "nombre_infected       746\n",
    "nombre_sain          2350\n",
    "nombre_exposed        439\n",
    "nombre_recovered    16465\n",
    "Name: 621, dtype: int64"
   ]
  },
  {
   "cell_type": "markdown",
   "id": "10e83275",
   "metadata": {},
   "source": [
    "nombre_infected       748\n",
    "nombre_sain          2357\n",
    "nombre_exposed        470\n",
    "nombre_recovered    16425\n",
    "Name: 622, dtype: int64"
   ]
  },
  {
   "cell_type": "markdown",
   "id": "d57b1bf1",
   "metadata": {},
   "source": [
    "nombre_infected       759\n",
    "nombre_sain          2358\n",
    "nombre_exposed        483\n",
    "nombre_recovered    16400\n",
    "Name: 623, dtype: int64"
   ]
  },
  {
   "cell_type": "markdown",
   "id": "60e8e2aa",
   "metadata": {},
   "source": [
    "nombre_infected       765\n",
    "nombre_sain          2358\n",
    "nombre_exposed        488\n",
    "nombre_recovered    16389\n",
    "Name: 624, dtype: int64"
   ]
  },
  {
   "cell_type": "markdown",
   "id": "4e7dd5d7",
   "metadata": {},
   "source": [
    "nombre_infected       776\n",
    "nombre_sain          2385\n",
    "nombre_exposed        487\n",
    "nombre_recovered    16352\n",
    "Name: 625, dtype: int64"
   ]
  },
  {
   "cell_type": "markdown",
   "id": "4f215ab3",
   "metadata": {},
   "source": [
    "nombre_infected       802\n",
    "nombre_sain          2403\n",
    "nombre_exposed        495\n",
    "nombre_recovered    16300\n",
    "Name: 626, dtype: int64"
   ]
  },
  {
   "cell_type": "markdown",
   "id": "c79b72d7",
   "metadata": {},
   "source": [
    "nombre_infected       805\n",
    "nombre_sain          2404\n",
    "nombre_exposed        510\n",
    "nombre_recovered    16281\n",
    "Name: 627, dtype: int64"
   ]
  },
  {
   "cell_type": "markdown",
   "id": "c0277c76",
   "metadata": {},
   "source": [
    "nombre_infected       813\n",
    "nombre_sain          2399\n",
    "nombre_exposed        524\n",
    "nombre_recovered    16264\n",
    "Name: 628, dtype: int64"
   ]
  },
  {
   "cell_type": "markdown",
   "id": "b38b30ef",
   "metadata": {},
   "source": [
    "nombre_infected       812\n",
    "nombre_sain          2398\n",
    "nombre_exposed        537\n",
    "nombre_recovered    16253\n",
    "Name: 629, dtype: int64"
   ]
  },
  {
   "cell_type": "markdown",
   "id": "6c12855b",
   "metadata": {},
   "source": [
    "nombre_infected       839\n",
    "nombre_sain          2393\n",
    "nombre_exposed        537\n",
    "nombre_recovered    16231\n",
    "Name: 630, dtype: int64"
   ]
  },
  {
   "cell_type": "markdown",
   "id": "223d104b",
   "metadata": {},
   "source": [
    "nombre_infected       882\n",
    "nombre_sain          2362\n",
    "nombre_exposed        551\n",
    "nombre_recovered    16205\n",
    "Name: 631, dtype: int64"
   ]
  },
  {
   "cell_type": "markdown",
   "id": "7e901487",
   "metadata": {},
   "source": [
    "nombre_infected       891\n",
    "nombre_sain          2350\n",
    "nombre_exposed        561\n",
    "nombre_recovered    16198\n",
    "Name: 632, dtype: int64"
   ]
  },
  {
   "cell_type": "markdown",
   "id": "9622ef4a",
   "metadata": {},
   "source": [
    "nombre_infected       893\n",
    "nombre_sain          2374\n",
    "nombre_exposed        541\n",
    "nombre_recovered    16192\n",
    "Name: 633, dtype: int64"
   ]
  },
  {
   "cell_type": "markdown",
   "id": "85396d10",
   "metadata": {},
   "source": [
    "nombre_infected       914\n",
    "nombre_sain          2368\n",
    "nombre_exposed        549\n",
    "nombre_recovered    16169\n",
    "Name: 634, dtype: int64"
   ]
  },
  {
   "cell_type": "markdown",
   "id": "f927f07e",
   "metadata": {},
   "source": [
    "nombre_infected       947\n",
    "nombre_sain          2378\n",
    "nombre_exposed        548\n",
    "nombre_recovered    16127\n",
    "Name: 635, dtype: int64"
   ]
  },
  {
   "cell_type": "markdown",
   "id": "75ca2b2d",
   "metadata": {},
   "source": [
    "nombre_infected       959\n",
    "nombre_sain          2401\n",
    "nombre_exposed        543\n",
    "nombre_recovered    16097\n",
    "Name: 636, dtype: int64"
   ]
  },
  {
   "cell_type": "markdown",
   "id": "23079b94",
   "metadata": {},
   "source": [
    "nombre_infected       960\n",
    "nombre_sain          2396\n",
    "nombre_exposed        546\n",
    "nombre_recovered    16098\n",
    "Name: 637, dtype: int64"
   ]
  },
  {
   "cell_type": "markdown",
   "id": "6a8b187c",
   "metadata": {},
   "source": [
    "nombre_infected       954\n",
    "nombre_sain          2354\n",
    "nombre_exposed        575\n",
    "nombre_recovered    16117\n",
    "Name: 638, dtype: int64"
   ]
  },
  {
   "cell_type": "markdown",
   "id": "f675a11b",
   "metadata": {},
   "source": [
    "nombre_infected       942\n",
    "nombre_sain          2360\n",
    "nombre_exposed        586\n",
    "nombre_recovered    16112\n",
    "Name: 639, dtype: int64"
   ]
  },
  {
   "cell_type": "markdown",
   "id": "15e969a4",
   "metadata": {},
   "source": [
    "nombre_infected       963\n",
    "nombre_sain          2313\n",
    "nombre_exposed        603\n",
    "nombre_recovered    16121\n",
    "Name: 640, dtype: int64"
   ]
  },
  {
   "cell_type": "markdown",
   "id": "26d7534a",
   "metadata": {},
   "source": [
    "nombre_infected       990\n",
    "nombre_sain          2307\n",
    "nombre_exposed        595\n",
    "nombre_recovered    16108\n",
    "Name: 641, dtype: int64"
   ]
  },
  {
   "cell_type": "markdown",
   "id": "4c746099",
   "metadata": {},
   "source": [
    "nombre_infected      1023\n",
    "nombre_sain          2298\n",
    "nombre_exposed        590\n",
    "nombre_recovered    16089\n",
    "Name: 642, dtype: int64"
   ]
  },
  {
   "cell_type": "markdown",
   "id": "3f190e1e",
   "metadata": {},
   "source": [
    "nombre_infected      1032\n",
    "nombre_sain          2256\n",
    "nombre_exposed        590\n",
    "nombre_recovered    16122\n",
    "Name: 643, dtype: int64"
   ]
  },
  {
   "cell_type": "markdown",
   "id": "4ff65c25",
   "metadata": {},
   "source": [
    "nombre_infected      1016\n",
    "nombre_sain          2221\n",
    "nombre_exposed        620\n",
    "nombre_recovered    16143\n",
    "Name: 644, dtype: int64"
   ]
  },
  {
   "cell_type": "markdown",
   "id": "e39edfc6",
   "metadata": {},
   "source": [
    "nombre_infected      1020\n",
    "nombre_sain          2187\n",
    "nombre_exposed        638\n",
    "nombre_recovered    16155\n",
    "Name: 645, dtype: int64"
   ]
  },
  {
   "cell_type": "markdown",
   "id": "3ddfa3ab",
   "metadata": {},
   "source": [
    "nombre_infected      1034\n",
    "nombre_sain          2173\n",
    "nombre_exposed        618\n",
    "nombre_recovered    16175\n",
    "Name: 646, dtype: int64"
   ]
  },
  {
   "cell_type": "markdown",
   "id": "22723a40",
   "metadata": {},
   "source": [
    "nombre_infected      1047\n",
    "nombre_sain          2131\n",
    "nombre_exposed        638\n",
    "nombre_recovered    16184\n",
    "Name: 647, dtype: int64"
   ]
  },
  {
   "cell_type": "markdown",
   "id": "88d4f8cc",
   "metadata": {},
   "source": [
    "nombre_infected      1054\n",
    "nombre_sain          2083\n",
    "nombre_exposed        639\n",
    "nombre_recovered    16224\n",
    "Name: 648, dtype: int64"
   ]
  },
  {
   "cell_type": "markdown",
   "id": "5f174028",
   "metadata": {},
   "source": [
    "nombre_infected      1077\n",
    "nombre_sain          2057\n",
    "nombre_exposed        619\n",
    "nombre_recovered    16247\n",
    "Name: 649, dtype: int64"
   ]
  },
  {
   "cell_type": "markdown",
   "id": "a3d7f26f",
   "metadata": {},
   "source": [
    "nombre_infected      1087\n",
    "nombre_sain          2029\n",
    "nombre_exposed        622\n",
    "nombre_recovered    16262\n",
    "Name: 650, dtype: int64"
   ]
  },
  {
   "cell_type": "markdown",
   "id": "e71bfafc",
   "metadata": {},
   "source": [
    "nombre_infected      1087\n",
    "nombre_sain          2007\n",
    "nombre_exposed        613\n",
    "nombre_recovered    16293\n",
    "Name: 651, dtype: int64"
   ]
  },
  {
   "cell_type": "markdown",
   "id": "b2c28038",
   "metadata": {},
   "source": [
    "nombre_infected      1119\n",
    "nombre_sain          1991\n",
    "nombre_exposed        579\n",
    "nombre_recovered    16311\n",
    "Name: 652, dtype: int64"
   ]
  },
  {
   "cell_type": "markdown",
   "id": "956539fd",
   "metadata": {},
   "source": [
    "nombre_infected      1129\n",
    "nombre_sain          1969\n",
    "nombre_exposed        573\n",
    "nombre_recovered    16329\n",
    "Name: 653, dtype: int64"
   ]
  },
  {
   "cell_type": "markdown",
   "id": "911b03bc",
   "metadata": {},
   "source": [
    "nombre_infected      1102\n",
    "nombre_sain          1965\n",
    "nombre_exposed        556\n",
    "nombre_recovered    16377\n",
    "Name: 654, dtype: int64"
   ]
  },
  {
   "cell_type": "markdown",
   "id": "a408050c",
   "metadata": {},
   "source": [
    "nombre_infected      1099\n",
    "nombre_sain          1927\n",
    "nombre_exposed        553\n",
    "nombre_recovered    16421\n",
    "Name: 655, dtype: int64"
   ]
  },
  {
   "cell_type": "markdown",
   "id": "e110baf3",
   "metadata": {},
   "source": [
    "nombre_infected      1087\n",
    "nombre_sain          1909\n",
    "nombre_exposed        566\n",
    "nombre_recovered    16438\n",
    "Name: 656, dtype: int64"
   ]
  },
  {
   "cell_type": "markdown",
   "id": "0637d982",
   "metadata": {},
   "source": [
    "nombre_infected      1057\n",
    "nombre_sain          1911\n",
    "nombre_exposed        575\n",
    "nombre_recovered    16457\n",
    "Name: 657, dtype: int64"
   ]
  },
  {
   "cell_type": "markdown",
   "id": "682192ea",
   "metadata": {},
   "source": [
    "nombre_infected      1038\n",
    "nombre_sain          1920\n",
    "nombre_exposed        579\n",
    "nombre_recovered    16463\n",
    "Name: 658, dtype: int64"
   ]
  },
  {
   "cell_type": "markdown",
   "id": "ce230a2e",
   "metadata": {},
   "source": [
    "nombre_infected      1065\n",
    "nombre_sain          1925\n",
    "nombre_exposed        544\n",
    "nombre_recovered    16466\n",
    "Name: 659, dtype: int64"
   ]
  },
  {
   "cell_type": "markdown",
   "id": "b4902fbf",
   "metadata": {},
   "source": [
    "nombre_infected      1058\n",
    "nombre_sain          1904\n",
    "nombre_exposed        542\n",
    "nombre_recovered    16496\n",
    "Name: 660, dtype: int64"
   ]
  },
  {
   "cell_type": "markdown",
   "id": "60f182f5",
   "metadata": {},
   "source": [
    "nombre_infected      1047\n",
    "nombre_sain          1906\n",
    "nombre_exposed        539\n",
    "nombre_recovered    16508\n",
    "Name: 661, dtype: int64"
   ]
  },
  {
   "cell_type": "markdown",
   "id": "8cdcd165",
   "metadata": {},
   "source": [
    "nombre_infected      1050\n",
    "nombre_sain          1915\n",
    "nombre_exposed        532\n",
    "nombre_recovered    16503\n",
    "Name: 662, dtype: int64"
   ]
  },
  {
   "cell_type": "markdown",
   "id": "6dd34547",
   "metadata": {},
   "source": [
    "nombre_infected      1039\n",
    "nombre_sain          1910\n",
    "nombre_exposed        529\n",
    "nombre_recovered    16522\n",
    "Name: 663, dtype: int64"
   ]
  },
  {
   "cell_type": "markdown",
   "id": "99ac630c",
   "metadata": {},
   "source": [
    "nombre_infected      1022\n",
    "nombre_sain          1915\n",
    "nombre_exposed        507\n",
    "nombre_recovered    16556\n",
    "Name: 664, dtype: int64"
   ]
  },
  {
   "cell_type": "markdown",
   "id": "4635558d",
   "metadata": {},
   "source": [
    "nombre_infected      1022\n",
    "nombre_sain          1921\n",
    "nombre_exposed        496\n",
    "nombre_recovered    16561\n",
    "Name: 665, dtype: int64"
   ]
  },
  {
   "cell_type": "markdown",
   "id": "cc502110",
   "metadata": {},
   "source": [
    "nombre_infected      1008\n",
    "nombre_sain          1967\n",
    "nombre_exposed        479\n",
    "nombre_recovered    16546\n",
    "Name: 666, dtype: int64"
   ]
  },
  {
   "cell_type": "markdown",
   "id": "d3161fb6",
   "metadata": {},
   "source": [
    "nombre_infected       998\n",
    "nombre_sain          1975\n",
    "nombre_exposed        482\n",
    "nombre_recovered    16545\n",
    "Name: 667, dtype: int64"
   ]
  },
  {
   "cell_type": "markdown",
   "id": "af9280ed",
   "metadata": {},
   "source": [
    "nombre_infected      1004\n",
    "nombre_sain          1982\n",
    "nombre_exposed        474\n",
    "nombre_recovered    16540\n",
    "Name: 668, dtype: int64"
   ]
  },
  {
   "cell_type": "markdown",
   "id": "fdd99df9",
   "metadata": {},
   "source": [
    "nombre_infected       974\n",
    "nombre_sain          1966\n",
    "nombre_exposed        503\n",
    "nombre_recovered    16557\n",
    "Name: 669, dtype: int64"
   ]
  },
  {
   "cell_type": "markdown",
   "id": "1af5c41e",
   "metadata": {},
   "source": [
    "nombre_infected       972\n",
    "nombre_sain          1940\n",
    "nombre_exposed        529\n",
    "nombre_recovered    16559\n",
    "Name: 670, dtype: int64"
   ]
  },
  {
   "cell_type": "markdown",
   "id": "5d134d2c",
   "metadata": {},
   "source": [
    "nombre_infected       974\n",
    "nombre_sain          1955\n",
    "nombre_exposed        511\n",
    "nombre_recovered    16560\n",
    "Name: 671, dtype: int64"
   ]
  },
  {
   "cell_type": "markdown",
   "id": "940c632f",
   "metadata": {},
   "source": [
    "nombre_infected       993\n",
    "nombre_sain          1962\n",
    "nombre_exposed        470\n",
    "nombre_recovered    16575\n",
    "Name: 672, dtype: int64"
   ]
  },
  {
   "cell_type": "markdown",
   "id": "26eaf4a1",
   "metadata": {},
   "source": [
    "nombre_infected       969\n",
    "nombre_sain          1957\n",
    "nombre_exposed        490\n",
    "nombre_recovered    16584\n",
    "Name: 673, dtype: int64"
   ]
  },
  {
   "cell_type": "markdown",
   "id": "8c5b5546",
   "metadata": {},
   "source": [
    "nombre_infected       960\n",
    "nombre_sain          1953\n",
    "nombre_exposed        492\n",
    "nombre_recovered    16595\n",
    "Name: 674, dtype: int64"
   ]
  },
  {
   "cell_type": "markdown",
   "id": "6ab26975",
   "metadata": {},
   "source": [
    "nombre_infected       948\n",
    "nombre_sain          1989\n",
    "nombre_exposed        480\n",
    "nombre_recovered    16583\n",
    "Name: 675, dtype: int64"
   ]
  },
  {
   "cell_type": "markdown",
   "id": "c2269b83",
   "metadata": {},
   "source": [
    "nombre_infected       922\n",
    "nombre_sain          1997\n",
    "nombre_exposed        497\n",
    "nombre_recovered    16584\n",
    "Name: 676, dtype: int64"
   ]
  },
  {
   "cell_type": "markdown",
   "id": "b60beb2b",
   "metadata": {},
   "source": [
    "nombre_infected       940\n",
    "nombre_sain          2000\n",
    "nombre_exposed        500\n",
    "nombre_recovered    16560\n",
    "Name: 677, dtype: int64"
   ]
  },
  {
   "cell_type": "markdown",
   "id": "cd737a3a",
   "metadata": {},
   "source": [
    "nombre_infected       947\n",
    "nombre_sain          2009\n",
    "nombre_exposed        490\n",
    "nombre_recovered    16554\n",
    "Name: 678, dtype: int64"
   ]
  },
  {
   "cell_type": "markdown",
   "id": "dbc98d54",
   "metadata": {},
   "source": [
    "nombre_infected       920\n",
    "nombre_sain          1989\n",
    "nombre_exposed        503\n",
    "nombre_recovered    16588\n",
    "Name: 679, dtype: int64"
   ]
  },
  {
   "cell_type": "markdown",
   "id": "1edec4b7",
   "metadata": {},
   "source": [
    "nombre_infected       918\n",
    "nombre_sain          2003\n",
    "nombre_exposed        507\n",
    "nombre_recovered    16572\n",
    "Name: 680, dtype: int64"
   ]
  },
  {
   "cell_type": "markdown",
   "id": "0d87fc63",
   "metadata": {},
   "source": [
    "nombre_infected       921\n",
    "nombre_sain          2020\n",
    "nombre_exposed        519\n",
    "nombre_recovered    16540\n",
    "Name: 681, dtype: int64"
   ]
  },
  {
   "cell_type": "markdown",
   "id": "f663c47c",
   "metadata": {},
   "source": [
    "nombre_infected       934\n",
    "nombre_sain          2049\n",
    "nombre_exposed        499\n",
    "nombre_recovered    16518\n",
    "Name: 682, dtype: int64"
   ]
  },
  {
   "cell_type": "markdown",
   "id": "2e12198b",
   "metadata": {},
   "source": [
    "nombre_infected       908\n",
    "nombre_sain          2057\n",
    "nombre_exposed        517\n",
    "nombre_recovered    16518\n",
    "Name: 683, dtype: int64"
   ]
  },
  {
   "cell_type": "markdown",
   "id": "b96ca226",
   "metadata": {},
   "source": [
    "nombre_infected       876\n",
    "nombre_sain          2068\n",
    "nombre_exposed        519\n",
    "nombre_recovered    16537\n",
    "Name: 684, dtype: int64"
   ]
  },
  {
   "cell_type": "markdown",
   "id": "2c8c139d",
   "metadata": {},
   "source": [
    "nombre_infected       876\n",
    "nombre_sain          2111\n",
    "nombre_exposed        501\n",
    "nombre_recovered    16512\n",
    "Name: 685, dtype: int64"
   ]
  },
  {
   "cell_type": "markdown",
   "id": "7b4ffcff",
   "metadata": {},
   "source": [
    "nombre_infected       885\n",
    "nombre_sain          2083\n",
    "nombre_exposed        518\n",
    "nombre_recovered    16514\n",
    "Name: 686, dtype: int64"
   ]
  },
  {
   "cell_type": "markdown",
   "id": "c9fb8c10",
   "metadata": {},
   "source": [
    "nombre_infected       898\n",
    "nombre_sain          2087\n",
    "nombre_exposed        511\n",
    "nombre_recovered    16504\n",
    "Name: 687, dtype: int64"
   ]
  },
  {
   "cell_type": "markdown",
   "id": "321aba01",
   "metadata": {},
   "source": [
    "nombre_infected       895\n",
    "nombre_sain          2100\n",
    "nombre_exposed        514\n",
    "nombre_recovered    16491\n",
    "Name: 688, dtype: int64"
   ]
  },
  {
   "cell_type": "markdown",
   "id": "f910ada8",
   "metadata": {},
   "source": [
    "nombre_infected       881\n",
    "nombre_sain          2116\n",
    "nombre_exposed        519\n",
    "nombre_recovered    16484\n",
    "Name: 689, dtype: int64"
   ]
  },
  {
   "cell_type": "markdown",
   "id": "79d04ca6",
   "metadata": {},
   "source": [
    "nombre_infected       874\n",
    "nombre_sain          2104\n",
    "nombre_exposed        531\n",
    "nombre_recovered    16491\n",
    "Name: 690, dtype: int64"
   ]
  },
  {
   "cell_type": "markdown",
   "id": "b5ba4485",
   "metadata": {},
   "source": [
    "nombre_infected       880\n",
    "nombre_sain          2109\n",
    "nombre_exposed        520\n",
    "nombre_recovered    16491\n",
    "Name: 691, dtype: int64"
   ]
  },
  {
   "cell_type": "markdown",
   "id": "978ab815",
   "metadata": {},
   "source": [
    "nombre_infected       880\n",
    "nombre_sain          2122\n",
    "nombre_exposed        494\n",
    "nombre_recovered    16504\n",
    "Name: 692, dtype: int64"
   ]
  },
  {
   "cell_type": "markdown",
   "id": "3bd589ce",
   "metadata": {},
   "source": [
    "nombre_infected       894\n",
    "nombre_sain          2147\n",
    "nombre_exposed        489\n",
    "nombre_recovered    16470\n",
    "Name: 693, dtype: int64"
   ]
  },
  {
   "cell_type": "markdown",
   "id": "66fdaf5b",
   "metadata": {},
   "source": [
    "nombre_infected       881\n",
    "nombre_sain          2161\n",
    "nombre_exposed        510\n",
    "nombre_recovered    16448\n",
    "Name: 694, dtype: int64"
   ]
  },
  {
   "cell_type": "markdown",
   "id": "c6a5b54b",
   "metadata": {},
   "source": [
    "nombre_infected       884\n",
    "nombre_sain          2183\n",
    "nombre_exposed        514\n",
    "nombre_recovered    16419\n",
    "Name: 695, dtype: int64"
   ]
  },
  {
   "cell_type": "markdown",
   "id": "803891f4",
   "metadata": {},
   "source": [
    "nombre_infected       887\n",
    "nombre_sain          2183\n",
    "nombre_exposed        529\n",
    "nombre_recovered    16401\n",
    "Name: 696, dtype: int64"
   ]
  },
  {
   "cell_type": "markdown",
   "id": "d808f69a",
   "metadata": {},
   "source": [
    "nombre_infected       892\n",
    "nombre_sain          2192\n",
    "nombre_exposed        534\n",
    "nombre_recovered    16382\n",
    "Name: 697, dtype: int64"
   ]
  },
  {
   "cell_type": "markdown",
   "id": "c7e7ceed",
   "metadata": {},
   "source": [
    "nombre_infected       900\n",
    "nombre_sain          2176\n",
    "nombre_exposed        533\n",
    "nombre_recovered    16391\n",
    "Name: 698, dtype: int64"
   ]
  },
  {
   "cell_type": "markdown",
   "id": "96d9aa3b",
   "metadata": {},
   "source": [
    "nombre_infected       904\n",
    "nombre_sain          2187\n",
    "nombre_exposed        525\n",
    "nombre_recovered    16384\n",
    "Name: 699, dtype: int64"
   ]
  },
  {
   "cell_type": "markdown",
   "id": "4b07f56a",
   "metadata": {},
   "source": [
    "nombre_infected       925\n",
    "nombre_sain          2175\n",
    "nombre_exposed        526\n",
    "nombre_recovered    16374\n",
    "Name: 700, dtype: int64"
   ]
  },
  {
   "cell_type": "markdown",
   "id": "1443dfe3",
   "metadata": {},
   "source": [
    "nombre_infected       947\n",
    "nombre_sain          2192\n",
    "nombre_exposed        521\n",
    "nombre_recovered    16340\n",
    "Name: 701, dtype: int64"
   ]
  },
  {
   "cell_type": "markdown",
   "id": "a8174b23",
   "metadata": {},
   "source": [
    "nombre_infected       965\n",
    "nombre_sain          2213\n",
    "nombre_exposed        533\n",
    "nombre_recovered    16289\n",
    "Name: 702, dtype: int64"
   ]
  },
  {
   "cell_type": "markdown",
   "id": "8956a616",
   "metadata": {},
   "source": [
    "nombre_infected       934\n",
    "nombre_sain          2199\n",
    "nombre_exposed        564\n",
    "nombre_recovered    16303\n",
    "Name: 703, dtype: int64"
   ]
  },
  {
   "cell_type": "markdown",
   "id": "649bafd4",
   "metadata": {},
   "source": [
    "nombre_infected       943\n",
    "nombre_sain          2204\n",
    "nombre_exposed        538\n",
    "nombre_recovered    16315\n",
    "Name: 704, dtype: int64"
   ]
  },
  {
   "cell_type": "markdown",
   "id": "d3bb234e",
   "metadata": {},
   "source": [
    "nombre_infected       944\n",
    "nombre_sain          2218\n",
    "nombre_exposed        554\n",
    "nombre_recovered    16284\n",
    "Name: 705, dtype: int64"
   ]
  },
  {
   "cell_type": "markdown",
   "id": "12837a36",
   "metadata": {},
   "source": [
    "nombre_infected       939\n",
    "nombre_sain          2228\n",
    "nombre_exposed        531\n",
    "nombre_recovered    16302\n",
    "Name: 706, dtype: int64"
   ]
  },
  {
   "cell_type": "markdown",
   "id": "abc2e33c",
   "metadata": {},
   "source": [
    "nombre_infected       942\n",
    "nombre_sain          2206\n",
    "nombre_exposed        542\n",
    "nombre_recovered    16310\n",
    "Name: 707, dtype: int64"
   ]
  },
  {
   "cell_type": "markdown",
   "id": "c1f4fc17",
   "metadata": {},
   "source": [
    "nombre_infected       946\n",
    "nombre_sain          2203\n",
    "nombre_exposed        537\n",
    "nombre_recovered    16314\n",
    "Name: 708, dtype: int64"
   ]
  },
  {
   "cell_type": "markdown",
   "id": "f0d15357",
   "metadata": {},
   "source": [
    "nombre_infected       944\n",
    "nombre_sain          2166\n",
    "nombre_exposed        551\n",
    "nombre_recovered    16339\n",
    "Name: 709, dtype: int64"
   ]
  },
  {
   "cell_type": "markdown",
   "id": "b85f8c32",
   "metadata": {},
   "source": [
    "nombre_infected       974\n",
    "nombre_sain          2144\n",
    "nombre_exposed        525\n",
    "nombre_recovered    16357\n",
    "Name: 710, dtype: int64"
   ]
  },
  {
   "cell_type": "markdown",
   "id": "79a15521",
   "metadata": {},
   "source": [
    "nombre_infected       982\n",
    "nombre_sain          2128\n",
    "nombre_exposed        540\n",
    "nombre_recovered    16350\n",
    "Name: 711, dtype: int64"
   ]
  },
  {
   "cell_type": "markdown",
   "id": "2316f1d3",
   "metadata": {},
   "source": [
    "nombre_infected       955\n",
    "nombre_sain          2139\n",
    "nombre_exposed        540\n",
    "nombre_recovered    16366\n",
    "Name: 712, dtype: int64"
   ]
  },
  {
   "cell_type": "markdown",
   "id": "98a4ea2f",
   "metadata": {},
   "source": [
    "nombre_infected       945\n",
    "nombre_sain          2143\n",
    "nombre_exposed        536\n",
    "nombre_recovered    16376\n",
    "Name: 713, dtype: int64"
   ]
  },
  {
   "cell_type": "markdown",
   "id": "51131ed7",
   "metadata": {},
   "source": [
    "nombre_infected       980\n",
    "nombre_sain          2121\n",
    "nombre_exposed        515\n",
    "nombre_recovered    16384\n",
    "Name: 714, dtype: int64"
   ]
  },
  {
   "cell_type": "markdown",
   "id": "16e4cf4e",
   "metadata": {},
   "source": [
    "nombre_infected       959\n",
    "nombre_sain          2121\n",
    "nombre_exposed        544\n",
    "nombre_recovered    16376\n",
    "Name: 715, dtype: int64"
   ]
  },
  {
   "cell_type": "markdown",
   "id": "f4a8605c",
   "metadata": {},
   "source": [
    "nombre_infected       960\n",
    "nombre_sain          2123\n",
    "nombre_exposed        561\n",
    "nombre_recovered    16356\n",
    "Name: 716, dtype: int64"
   ]
  },
  {
   "cell_type": "markdown",
   "id": "7bb9a9e0",
   "metadata": {},
   "source": [
    "nombre_infected       972\n",
    "nombre_sain          2127\n",
    "nombre_exposed        548\n",
    "nombre_recovered    16353\n",
    "Name: 717, dtype: int64"
   ]
  },
  {
   "cell_type": "markdown",
   "id": "750f20e0",
   "metadata": {},
   "source": [
    "nombre_infected       960\n",
    "nombre_sain          2124\n",
    "nombre_exposed        539\n",
    "nombre_recovered    16377\n",
    "Name: 718, dtype: int64"
   ]
  },
  {
   "cell_type": "markdown",
   "id": "8b861133",
   "metadata": {},
   "source": [
    "nombre_infected       988\n",
    "nombre_sain          2089\n",
    "nombre_exposed        552\n",
    "nombre_recovered    16371\n",
    "Name: 719, dtype: int64"
   ]
  },
  {
   "cell_type": "markdown",
   "id": "120fd312",
   "metadata": {},
   "source": [
    "nombre_infected       961\n",
    "nombre_sain          2068\n",
    "nombre_exposed        574\n",
    "nombre_recovered    16397\n",
    "Name: 720, dtype: int64"
   ]
  },
  {
   "cell_type": "markdown",
   "id": "acdb0883",
   "metadata": {},
   "source": [
    "nombre_infected       976\n",
    "nombre_sain          2062\n",
    "nombre_exposed        555\n",
    "nombre_recovered    16407\n",
    "Name: 721, dtype: int64"
   ]
  },
  {
   "cell_type": "markdown",
   "id": "dfd44993",
   "metadata": {},
   "source": [
    "nombre_infected       987\n",
    "nombre_sain          2073\n",
    "nombre_exposed        521\n",
    "nombre_recovered    16419\n",
    "Name: 722, dtype: int64"
   ]
  },
  {
   "cell_type": "markdown",
   "id": "73e0dceb",
   "metadata": {},
   "source": [
    "nombre_infected       979\n",
    "nombre_sain          2055\n",
    "nombre_exposed        526\n",
    "nombre_recovered    16440\n",
    "Name: 723, dtype: int64"
   ]
  },
  {
   "cell_type": "markdown",
   "id": "ab3ab795",
   "metadata": {},
   "source": [
    "nombre_infected       967\n",
    "nombre_sain          2033\n",
    "nombre_exposed        547\n",
    "nombre_recovered    16453\n",
    "Name: 724, dtype: int64"
   ]
  },
  {
   "cell_type": "markdown",
   "id": "07c41083",
   "metadata": {},
   "source": [
    "nombre_infected       969\n",
    "nombre_sain          2022\n",
    "nombre_exposed        550\n",
    "nombre_recovered    16459\n",
    "Name: 725, dtype: int64"
   ]
  },
  {
   "cell_type": "markdown",
   "id": "0c680d82",
   "metadata": {},
   "source": [
    "nombre_infected       988\n",
    "nombre_sain          2028\n",
    "nombre_exposed        524\n",
    "nombre_recovered    16460\n",
    "Name: 726, dtype: int64"
   ]
  },
  {
   "cell_type": "markdown",
   "id": "4b05cd34",
   "metadata": {},
   "source": [
    "nombre_infected       990\n",
    "nombre_sain          2022\n",
    "nombre_exposed        532\n",
    "nombre_recovered    16456\n",
    "Name: 727, dtype: int64"
   ]
  },
  {
   "cell_type": "markdown",
   "id": "51d3d317",
   "metadata": {},
   "source": [
    "nombre_infected       978\n",
    "nombre_sain          2022\n",
    "nombre_exposed        522\n",
    "nombre_recovered    16478\n",
    "Name: 728, dtype: int64"
   ]
  },
  {
   "cell_type": "markdown",
   "id": "d47b9c85",
   "metadata": {},
   "source": [
    "nombre_infected       975\n",
    "nombre_sain          2026\n",
    "nombre_exposed        527\n",
    "nombre_recovered    16472\n",
    "Name: 729, dtype: int64"
   ]
  },
  {
   "cell_type": "markdown",
   "id": "b66a05d9",
   "metadata": {},
   "source": [
    "nombre_infected       968\n",
    "nombre_sain          2011\n",
    "nombre_exposed        532\n",
    "nombre_recovered    16489\n",
    "Name: 730, dtype: int64"
   ]
  }
 ],
 "metadata": {},
 "nbformat": 4,
 "nbformat_minor": 5
}
