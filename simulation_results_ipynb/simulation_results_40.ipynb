{
 "cells": [
  {
   "cell_type": "markdown",
   "id": "8c4919d0",
   "metadata": {},
   "source": [
    "nombre_infected        20\n",
    "nombre_sain         19980\n",
    "nombre_exposed          0\n",
    "nombre_recovered        0\n",
    "Name: 0, dtype: int64"
   ]
  },
  {
   "cell_type": "markdown",
   "id": "323b41e9",
   "metadata": {},
   "source": [
    "nombre_infected        20\n",
    "nombre_sain         19969\n",
    "nombre_exposed         11\n",
    "nombre_recovered        0\n",
    "Name: 1, dtype: int64"
   ]
  },
  {
   "cell_type": "markdown",
   "id": "59121dd1",
   "metadata": {},
   "source": [
    "nombre_infected        20\n",
    "nombre_sain         19948\n",
    "nombre_exposed         32\n",
    "nombre_recovered        0\n",
    "Name: 2, dtype: int64"
   ]
  },
  {
   "cell_type": "markdown",
   "id": "f5cf3b6f",
   "metadata": {},
   "source": [
    "nombre_infected        24\n",
    "nombre_sain         19924\n",
    "nombre_exposed         52\n",
    "nombre_recovered        0\n",
    "Name: 3, dtype: int64"
   ]
  },
  {
   "cell_type": "markdown",
   "id": "0c62319b",
   "metadata": {},
   "source": [
    "nombre_infected        33\n",
    "nombre_sain         19898\n",
    "nombre_exposed         69\n",
    "nombre_recovered        0\n",
    "Name: 4, dtype: int64"
   ]
  },
  {
   "cell_type": "markdown",
   "id": "51731243",
   "metadata": {},
   "source": [
    "nombre_infected        41\n",
    "nombre_sain         19854\n",
    "nombre_exposed        105\n",
    "nombre_recovered        0\n",
    "Name: 5, dtype: int64"
   ]
  },
  {
   "cell_type": "markdown",
   "id": "89652112",
   "metadata": {},
   "source": [
    "nombre_infected        38\n",
    "nombre_sain         19823\n",
    "nombre_exposed        118\n",
    "nombre_recovered       21\n",
    "Name: 6, dtype: int64"
   ]
  },
  {
   "cell_type": "markdown",
   "id": "14856676",
   "metadata": {},
   "source": [
    "nombre_infected        59\n",
    "nombre_sain         19762\n",
    "nombre_exposed        156\n",
    "nombre_recovered       23\n",
    "Name: 7, dtype: int64"
   ]
  },
  {
   "cell_type": "markdown",
   "id": "68ab8c88",
   "metadata": {},
   "source": [
    "nombre_infected        78\n",
    "nombre_sain         19681\n",
    "nombre_exposed        216\n",
    "nombre_recovered       25\n",
    "Name: 8, dtype: int64"
   ]
  },
  {
   "cell_type": "markdown",
   "id": "155377bc",
   "metadata": {},
   "source": [
    "nombre_infected       107\n",
    "nombre_sain         19545\n",
    "nombre_exposed        316\n",
    "nombre_recovered       32\n",
    "Name: 9, dtype: int64"
   ]
  },
  {
   "cell_type": "markdown",
   "id": "b3e17df3",
   "metadata": {},
   "source": [
    "nombre_infected       151\n",
    "nombre_sain         19413\n",
    "nombre_exposed        393\n",
    "nombre_recovered       43\n",
    "Name: 10, dtype: int64"
   ]
  },
  {
   "cell_type": "markdown",
   "id": "cb44ac72",
   "metadata": {},
   "source": [
    "nombre_infected       205\n",
    "nombre_sain         19210\n",
    "nombre_exposed        531\n",
    "nombre_recovered       54\n",
    "Name: 11, dtype: int64"
   ]
  },
  {
   "cell_type": "markdown",
   "id": "cd62bbd3",
   "metadata": {},
   "source": [
    "nombre_infected       266\n",
    "nombre_sain         18949\n",
    "nombre_exposed        710\n",
    "nombre_recovered       75\n",
    "Name: 12, dtype: int64"
   ]
  },
  {
   "cell_type": "markdown",
   "id": "4c770b8d",
   "metadata": {},
   "source": [
    "nombre_infected       370\n",
    "nombre_sain         18571\n",
    "nombre_exposed        956\n",
    "nombre_recovered      103\n",
    "Name: 13, dtype: int64"
   ]
  },
  {
   "cell_type": "markdown",
   "id": "ac0b033b",
   "metadata": {},
   "source": [
    "nombre_infected       504\n",
    "nombre_sain         18066\n",
    "nombre_exposed       1297\n",
    "nombre_recovered      133\n",
    "Name: 14, dtype: int64"
   ]
  },
  {
   "cell_type": "markdown",
   "id": "675dc246",
   "metadata": {},
   "source": [
    "nombre_infected       693\n",
    "nombre_sain         17436\n",
    "nombre_exposed       1695\n",
    "nombre_recovered      176\n",
    "Name: 15, dtype: int64"
   ]
  },
  {
   "cell_type": "markdown",
   "id": "8532ac62",
   "metadata": {},
   "source": [
    "nombre_infected       953\n",
    "nombre_sain         16576\n",
    "nombre_exposed       2252\n",
    "nombre_recovered      219\n",
    "Name: 16, dtype: int64"
   ]
  },
  {
   "cell_type": "markdown",
   "id": "54c9c6af",
   "metadata": {},
   "source": [
    "nombre_infected      1293\n",
    "nombre_sain         15508\n",
    "nombre_exposed       2913\n",
    "nombre_recovered      286\n",
    "Name: 17, dtype: int64"
   ]
  },
  {
   "cell_type": "markdown",
   "id": "1783dcf0",
   "metadata": {},
   "source": [
    "nombre_infected      1723\n",
    "nombre_sain         14208\n",
    "nombre_exposed       3663\n",
    "nombre_recovered      406\n",
    "Name: 18, dtype: int64"
   ]
  },
  {
   "cell_type": "markdown",
   "id": "d80025a0",
   "metadata": {},
   "source": [
    "nombre_infected      2331\n",
    "nombre_sain         12620\n",
    "nombre_exposed       4520\n",
    "nombre_recovered      529\n",
    "Name: 19, dtype: int64"
   ]
  },
  {
   "cell_type": "markdown",
   "id": "e53bc402",
   "metadata": {},
   "source": [
    "nombre_infected      2997\n",
    "nombre_sain         10916\n",
    "nombre_exposed       5356\n",
    "nombre_recovered      731\n",
    "Name: 20, dtype: int64"
   ]
  },
  {
   "cell_type": "markdown",
   "id": "84335eab",
   "metadata": {},
   "source": [
    "nombre_infected     3793\n",
    "nombre_sain         9017\n",
    "nombre_exposed      6218\n",
    "nombre_recovered     972\n",
    "Name: 21, dtype: int64"
   ]
  },
  {
   "cell_type": "markdown",
   "id": "72a1998b",
   "metadata": {},
   "source": [
    "nombre_infected     4680\n",
    "nombre_sain         7275\n",
    "nombre_exposed      6751\n",
    "nombre_recovered    1294\n",
    "Name: 22, dtype: int64"
   ]
  },
  {
   "cell_type": "markdown",
   "id": "9cf36dda",
   "metadata": {},
   "source": [
    "nombre_infected     5670\n",
    "nombre_sain         5554\n",
    "nombre_exposed      7081\n",
    "nombre_recovered    1695\n",
    "Name: 23, dtype: int64"
   ]
  },
  {
   "cell_type": "markdown",
   "id": "1797262a",
   "metadata": {},
   "source": [
    "nombre_infected     6680\n",
    "nombre_sain         4081\n",
    "nombre_exposed      7028\n",
    "nombre_recovered    2211\n",
    "Name: 24, dtype: int64"
   ]
  },
  {
   "cell_type": "markdown",
   "id": "e7299ff5",
   "metadata": {},
   "source": [
    "nombre_infected     7571\n",
    "nombre_sain         2914\n",
    "nombre_exposed      6648\n",
    "nombre_recovered    2867\n",
    "Name: 25, dtype: int64"
   ]
  },
  {
   "cell_type": "markdown",
   "id": "9d17d1d9",
   "metadata": {},
   "source": [
    "nombre_infected     8282\n",
    "nombre_sain         2077\n",
    "nombre_exposed      5981\n",
    "nombre_recovered    3660\n",
    "Name: 26, dtype: int64"
   ]
  },
  {
   "cell_type": "markdown",
   "id": "837d6aab",
   "metadata": {},
   "source": [
    "nombre_infected     8815\n",
    "nombre_sain         1396\n",
    "nombre_exposed      5256\n",
    "nombre_recovered    4533\n",
    "Name: 27, dtype: int64"
   ]
  },
  {
   "cell_type": "markdown",
   "id": "f5c431b7",
   "metadata": {},
   "source": [
    "nombre_infected     9111\n",
    "nombre_sain          957\n",
    "nombre_exposed      4449\n",
    "nombre_recovered    5483\n",
    "Name: 28, dtype: int64"
   ]
  },
  {
   "cell_type": "markdown",
   "id": "5357a2ea",
   "metadata": {},
   "source": [
    "nombre_infected     9123\n",
    "nombre_sain          650\n",
    "nombre_exposed      3693\n",
    "nombre_recovered    6534\n",
    "Name: 29, dtype: int64"
   ]
  },
  {
   "cell_type": "markdown",
   "id": "30a26cb0",
   "metadata": {},
   "source": [
    "nombre_infected     8974\n",
    "nombre_sain          463\n",
    "nombre_exposed      2947\n",
    "nombre_recovered    7616\n",
    "Name: 30, dtype: int64"
   ]
  },
  {
   "cell_type": "markdown",
   "id": "40bdeb50",
   "metadata": {},
   "source": [
    "nombre_infected     8600\n",
    "nombre_sain          326\n",
    "nombre_exposed      2375\n",
    "nombre_recovered    8699\n",
    "Name: 31, dtype: int64"
   ]
  },
  {
   "cell_type": "markdown",
   "id": "1bc6b9e8",
   "metadata": {},
   "source": [
    "nombre_infected     8050\n",
    "nombre_sain          248\n",
    "nombre_exposed      1886\n",
    "nombre_recovered    9816\n",
    "Name: 32, dtype: int64"
   ]
  },
  {
   "cell_type": "markdown",
   "id": "a7c16f88",
   "metadata": {},
   "source": [
    "nombre_infected      7498\n",
    "nombre_sain           203\n",
    "nombre_exposed       1491\n",
    "nombre_recovered    10808\n",
    "Name: 33, dtype: int64"
   ]
  },
  {
   "cell_type": "markdown",
   "id": "23a89a24",
   "metadata": {},
   "source": [
    "nombre_infected      6866\n",
    "nombre_sain           170\n",
    "nombre_exposed       1140\n",
    "nombre_recovered    11824\n",
    "Name: 34, dtype: int64"
   ]
  },
  {
   "cell_type": "markdown",
   "id": "51fa9f9b",
   "metadata": {},
   "source": [
    "nombre_infected      6219\n",
    "nombre_sain           153\n",
    "nombre_exposed        907\n",
    "nombre_recovered    12721\n",
    "Name: 35, dtype: int64"
   ]
  },
  {
   "cell_type": "markdown",
   "id": "76dc9e5b",
   "metadata": {},
   "source": [
    "nombre_infected      5565\n",
    "nombre_sain           144\n",
    "nombre_exposed        720\n",
    "nombre_recovered    13571\n",
    "Name: 36, dtype: int64"
   ]
  },
  {
   "cell_type": "markdown",
   "id": "16053bfb",
   "metadata": {},
   "source": [
    "nombre_infected      4928\n",
    "nombre_sain           136\n",
    "nombre_exposed        585\n",
    "nombre_recovered    14351\n",
    "Name: 37, dtype: int64"
   ]
  },
  {
   "cell_type": "markdown",
   "id": "bd949baa",
   "metadata": {},
   "source": [
    "nombre_infected      4375\n",
    "nombre_sain           154\n",
    "nombre_exposed        447\n",
    "nombre_recovered    15024\n",
    "Name: 38, dtype: int64"
   ]
  },
  {
   "cell_type": "markdown",
   "id": "c2cb159f",
   "metadata": {},
   "source": [
    "nombre_infected      3874\n",
    "nombre_sain           151\n",
    "nombre_exposed        355\n",
    "nombre_recovered    15620\n",
    "Name: 39, dtype: int64"
   ]
  },
  {
   "cell_type": "markdown",
   "id": "7bf1cdfb",
   "metadata": {},
   "source": [
    "nombre_infected      3390\n",
    "nombre_sain           177\n",
    "nombre_exposed        307\n",
    "nombre_recovered    16126\n",
    "Name: 40, dtype: int64"
   ]
  },
  {
   "cell_type": "markdown",
   "id": "55884709",
   "metadata": {},
   "source": [
    "nombre_infected      2946\n",
    "nombre_sain           197\n",
    "nombre_exposed        262\n",
    "nombre_recovered    16595\n",
    "Name: 41, dtype: int64"
   ]
  },
  {
   "cell_type": "markdown",
   "id": "df13e4c5",
   "metadata": {},
   "source": [
    "nombre_infected      2552\n",
    "nombre_sain           207\n",
    "nombre_exposed        221\n",
    "nombre_recovered    17020\n",
    "Name: 42, dtype: int64"
   ]
  },
  {
   "cell_type": "markdown",
   "id": "cf7d34e3",
   "metadata": {},
   "source": [
    "nombre_infected      2188\n",
    "nombre_sain           224\n",
    "nombre_exposed        188\n",
    "nombre_recovered    17400\n",
    "Name: 43, dtype: int64"
   ]
  },
  {
   "cell_type": "markdown",
   "id": "fe6c265a",
   "metadata": {},
   "source": [
    "nombre_infected      1908\n",
    "nombre_sain           247\n",
    "nombre_exposed        162\n",
    "nombre_recovered    17683\n",
    "Name: 44, dtype: int64"
   ]
  },
  {
   "cell_type": "markdown",
   "id": "aefd6529",
   "metadata": {},
   "source": [
    "nombre_infected      1620\n",
    "nombre_sain           262\n",
    "nombre_exposed        158\n",
    "nombre_recovered    17960\n",
    "Name: 45, dtype: int64"
   ]
  },
  {
   "cell_type": "markdown",
   "id": "347aeba8",
   "metadata": {},
   "source": [
    "nombre_infected      1378\n",
    "nombre_sain           286\n",
    "nombre_exposed        142\n",
    "nombre_recovered    18194\n",
    "Name: 46, dtype: int64"
   ]
  },
  {
   "cell_type": "markdown",
   "id": "fda0aa96",
   "metadata": {},
   "source": [
    "nombre_infected      1161\n",
    "nombre_sain           317\n",
    "nombre_exposed        130\n",
    "nombre_recovered    18392\n",
    "Name: 47, dtype: int64"
   ]
  },
  {
   "cell_type": "markdown",
   "id": "5a17f9c2",
   "metadata": {},
   "source": [
    "nombre_infected       947\n",
    "nombre_sain           343\n",
    "nombre_exposed        123\n",
    "nombre_recovered    18587\n",
    "Name: 48, dtype: int64"
   ]
  },
  {
   "cell_type": "markdown",
   "id": "78081b37",
   "metadata": {},
   "source": [
    "nombre_infected       817\n",
    "nombre_sain           390\n",
    "nombre_exposed        114\n",
    "nombre_recovered    18679\n",
    "Name: 49, dtype: int64"
   ]
  },
  {
   "cell_type": "markdown",
   "id": "7b7dc4d3",
   "metadata": {},
   "source": [
    "nombre_infected       697\n",
    "nombre_sain           452\n",
    "nombre_exposed        113\n",
    "nombre_recovered    18738\n",
    "Name: 50, dtype: int64"
   ]
  },
  {
   "cell_type": "markdown",
   "id": "1fcd32c3",
   "metadata": {},
   "source": [
    "nombre_infected       608\n",
    "nombre_sain           493\n",
    "nombre_exposed        103\n",
    "nombre_recovered    18796\n",
    "Name: 51, dtype: int64"
   ]
  },
  {
   "cell_type": "markdown",
   "id": "07718255",
   "metadata": {},
   "source": [
    "nombre_infected       521\n",
    "nombre_sain           540\n",
    "nombre_exposed         86\n",
    "nombre_recovered    18853\n",
    "Name: 52, dtype: int64"
   ]
  },
  {
   "cell_type": "markdown",
   "id": "06617381",
   "metadata": {},
   "source": [
    "nombre_infected       442\n",
    "nombre_sain           591\n",
    "nombre_exposed         73\n",
    "nombre_recovered    18894\n",
    "Name: 53, dtype: int64"
   ]
  },
  {
   "cell_type": "markdown",
   "id": "e0f7bc08",
   "metadata": {},
   "source": [
    "nombre_infected       386\n",
    "nombre_sain           637\n",
    "nombre_exposed         68\n",
    "nombre_recovered    18909\n",
    "Name: 54, dtype: int64"
   ]
  },
  {
   "cell_type": "markdown",
   "id": "e43a3275",
   "metadata": {},
   "source": [
    "nombre_infected       321\n",
    "nombre_sain           699\n",
    "nombre_exposed         69\n",
    "nombre_recovered    18911\n",
    "Name: 55, dtype: int64"
   ]
  },
  {
   "cell_type": "markdown",
   "id": "7c20e3ce",
   "metadata": {},
   "source": [
    "nombre_infected       270\n",
    "nombre_sain           763\n",
    "nombre_exposed         66\n",
    "nombre_recovered    18901\n",
    "Name: 56, dtype: int64"
   ]
  },
  {
   "cell_type": "markdown",
   "id": "e1b54e3e",
   "metadata": {},
   "source": [
    "nombre_infected       233\n",
    "nombre_sain           823\n",
    "nombre_exposed         57\n",
    "nombre_recovered    18887\n",
    "Name: 57, dtype: int64"
   ]
  },
  {
   "cell_type": "markdown",
   "id": "7382bfc0",
   "metadata": {},
   "source": [
    "nombre_infected       214\n",
    "nombre_sain           881\n",
    "nombre_exposed         50\n",
    "nombre_recovered    18855\n",
    "Name: 58, dtype: int64"
   ]
  },
  {
   "cell_type": "markdown",
   "id": "b397975b",
   "metadata": {},
   "source": [
    "nombre_infected       186\n",
    "nombre_sain           926\n",
    "nombre_exposed         48\n",
    "nombre_recovered    18840\n",
    "Name: 59, dtype: int64"
   ]
  },
  {
   "cell_type": "markdown",
   "id": "7e43a444",
   "metadata": {},
   "source": [
    "nombre_infected       163\n",
    "nombre_sain           975\n",
    "nombre_exposed         52\n",
    "nombre_recovered    18810\n",
    "Name: 60, dtype: int64"
   ]
  },
  {
   "cell_type": "markdown",
   "id": "a421cb27",
   "metadata": {},
   "source": [
    "nombre_infected       149\n",
    "nombre_sain          1010\n",
    "nombre_exposed         50\n",
    "nombre_recovered    18791\n",
    "Name: 61, dtype: int64"
   ]
  },
  {
   "cell_type": "markdown",
   "id": "6f750681",
   "metadata": {},
   "source": [
    "nombre_infected       139\n",
    "nombre_sain          1063\n",
    "nombre_exposed         44\n",
    "nombre_recovered    18754\n",
    "Name: 62, dtype: int64"
   ]
  },
  {
   "cell_type": "markdown",
   "id": "7a7d97c3",
   "metadata": {},
   "source": [
    "nombre_infected       137\n",
    "nombre_sain          1114\n",
    "nombre_exposed         30\n",
    "nombre_recovered    18719\n",
    "Name: 63, dtype: int64"
   ]
  },
  {
   "cell_type": "markdown",
   "id": "d5937421",
   "metadata": {},
   "source": [
    "nombre_infected       126\n",
    "nombre_sain          1161\n",
    "nombre_exposed         29\n",
    "nombre_recovered    18684\n",
    "Name: 64, dtype: int64"
   ]
  },
  {
   "cell_type": "markdown",
   "id": "2681513c",
   "metadata": {},
   "source": [
    "nombre_infected       109\n",
    "nombre_sain          1223\n",
    "nombre_exposed         30\n",
    "nombre_recovered    18638\n",
    "Name: 65, dtype: int64"
   ]
  },
  {
   "cell_type": "markdown",
   "id": "3ca174f2",
   "metadata": {},
   "source": [
    "nombre_infected        90\n",
    "nombre_sain          1274\n",
    "nombre_exposed         33\n",
    "nombre_recovered    18603\n",
    "Name: 66, dtype: int64"
   ]
  },
  {
   "cell_type": "markdown",
   "id": "2788b376",
   "metadata": {},
   "source": [
    "nombre_infected        74\n",
    "nombre_sain          1328\n",
    "nombre_exposed         29\n",
    "nombre_recovered    18569\n",
    "Name: 67, dtype: int64"
   ]
  },
  {
   "cell_type": "markdown",
   "id": "45cd31c0",
   "metadata": {},
   "source": [
    "nombre_infected        71\n",
    "nombre_sain          1388\n",
    "nombre_exposed         24\n",
    "nombre_recovered    18517\n",
    "Name: 68, dtype: int64"
   ]
  },
  {
   "cell_type": "markdown",
   "id": "d87dbe75",
   "metadata": {},
   "source": [
    "nombre_infected        64\n",
    "nombre_sain          1455\n",
    "nombre_exposed         25\n",
    "nombre_recovered    18456\n",
    "Name: 69, dtype: int64"
   ]
  },
  {
   "cell_type": "markdown",
   "id": "3c461304",
   "metadata": {},
   "source": [
    "nombre_infected        57\n",
    "nombre_sain          1517\n",
    "nombre_exposed         25\n",
    "nombre_recovered    18401\n",
    "Name: 70, dtype: int64"
   ]
  },
  {
   "cell_type": "markdown",
   "id": "648cd7a7",
   "metadata": {},
   "source": [
    "nombre_infected        53\n",
    "nombre_sain          1577\n",
    "nombre_exposed         28\n",
    "nombre_recovered    18342\n",
    "Name: 71, dtype: int64"
   ]
  },
  {
   "cell_type": "markdown",
   "id": "42ca8438",
   "metadata": {},
   "source": [
    "nombre_infected        41\n",
    "nombre_sain          1636\n",
    "nombre_exposed         27\n",
    "nombre_recovered    18296\n",
    "Name: 72, dtype: int64"
   ]
  },
  {
   "cell_type": "markdown",
   "id": "584e3e68",
   "metadata": {},
   "source": [
    "nombre_infected        45\n",
    "nombre_sain          1697\n",
    "nombre_exposed         21\n",
    "nombre_recovered    18237\n",
    "Name: 73, dtype: int64"
   ]
  },
  {
   "cell_type": "markdown",
   "id": "95a59dde",
   "metadata": {},
   "source": [
    "nombre_infected        40\n",
    "nombre_sain          1760\n",
    "nombre_exposed         22\n",
    "nombre_recovered    18178\n",
    "Name: 74, dtype: int64"
   ]
  },
  {
   "cell_type": "markdown",
   "id": "c32ecae4",
   "metadata": {},
   "source": [
    "nombre_infected        33\n",
    "nombre_sain          1796\n",
    "nombre_exposed         22\n",
    "nombre_recovered    18149\n",
    "Name: 75, dtype: int64"
   ]
  },
  {
   "cell_type": "markdown",
   "id": "f2215ec8",
   "metadata": {},
   "source": [
    "nombre_infected        34\n",
    "nombre_sain          1840\n",
    "nombre_exposed         21\n",
    "nombre_recovered    18105\n",
    "Name: 76, dtype: int64"
   ]
  },
  {
   "cell_type": "markdown",
   "id": "c52ca42a",
   "metadata": {},
   "source": [
    "nombre_infected        33\n",
    "nombre_sain          1874\n",
    "nombre_exposed         22\n",
    "nombre_recovered    18071\n",
    "Name: 77, dtype: int64"
   ]
  },
  {
   "cell_type": "markdown",
   "id": "dd3b2047",
   "metadata": {},
   "source": [
    "nombre_infected        36\n",
    "nombre_sain          1911\n",
    "nombre_exposed         19\n",
    "nombre_recovered    18034\n",
    "Name: 78, dtype: int64"
   ]
  },
  {
   "cell_type": "markdown",
   "id": "6a67d556",
   "metadata": {},
   "source": [
    "nombre_infected        36\n",
    "nombre_sain          1955\n",
    "nombre_exposed         20\n",
    "nombre_recovered    17989\n",
    "Name: 79, dtype: int64"
   ]
  },
  {
   "cell_type": "markdown",
   "id": "8b61d0ab",
   "metadata": {},
   "source": [
    "nombre_infected        32\n",
    "nombre_sain          1989\n",
    "nombre_exposed         23\n",
    "nombre_recovered    17956\n",
    "Name: 80, dtype: int64"
   ]
  },
  {
   "cell_type": "markdown",
   "id": "47dbb4c0",
   "metadata": {},
   "source": [
    "nombre_infected        29\n",
    "nombre_sain          2038\n",
    "nombre_exposed         26\n",
    "nombre_recovered    17907\n",
    "Name: 81, dtype: int64"
   ]
  },
  {
   "cell_type": "markdown",
   "id": "93659f0d",
   "metadata": {},
   "source": [
    "nombre_infected        25\n",
    "nombre_sain          2078\n",
    "nombre_exposed         24\n",
    "nombre_recovered    17873\n",
    "Name: 82, dtype: int64"
   ]
  },
  {
   "cell_type": "markdown",
   "id": "1d135223",
   "metadata": {},
   "source": [
    "nombre_infected        20\n",
    "nombre_sain          2108\n",
    "nombre_exposed         27\n",
    "nombre_recovered    17845\n",
    "Name: 83, dtype: int64"
   ]
  },
  {
   "cell_type": "markdown",
   "id": "a25b70e1",
   "metadata": {},
   "source": [
    "nombre_infected        20\n",
    "nombre_sain          2131\n",
    "nombre_exposed         26\n",
    "nombre_recovered    17823\n",
    "Name: 84, dtype: int64"
   ]
  },
  {
   "cell_type": "markdown",
   "id": "11a73618",
   "metadata": {},
   "source": [
    "nombre_infected        25\n",
    "nombre_sain          2162\n",
    "nombre_exposed         24\n",
    "nombre_recovered    17789\n",
    "Name: 85, dtype: int64"
   ]
  },
  {
   "cell_type": "markdown",
   "id": "df9a02f8",
   "metadata": {},
   "source": [
    "nombre_infected        23\n",
    "nombre_sain          2192\n",
    "nombre_exposed         21\n",
    "nombre_recovered    17764\n",
    "Name: 86, dtype: int64"
   ]
  },
  {
   "cell_type": "markdown",
   "id": "55e9e0fb",
   "metadata": {},
   "source": [
    "nombre_infected        22\n",
    "nombre_sain          2233\n",
    "nombre_exposed         17\n",
    "nombre_recovered    17728\n",
    "Name: 87, dtype: int64"
   ]
  },
  {
   "cell_type": "markdown",
   "id": "f006984b",
   "metadata": {},
   "source": [
    "nombre_infected        23\n",
    "nombre_sain          2266\n",
    "nombre_exposed         12\n",
    "nombre_recovered    17699\n",
    "Name: 88, dtype: int64"
   ]
  },
  {
   "cell_type": "markdown",
   "id": "35d598ff",
   "metadata": {},
   "source": [
    "nombre_infected        24\n",
    "nombre_sain          2309\n",
    "nombre_exposed         15\n",
    "nombre_recovered    17652\n",
    "Name: 89, dtype: int64"
   ]
  },
  {
   "cell_type": "markdown",
   "id": "14cf18a7",
   "metadata": {},
   "source": [
    "nombre_infected        24\n",
    "nombre_sain          2349\n",
    "nombre_exposed         15\n",
    "nombre_recovered    17612\n",
    "Name: 90, dtype: int64"
   ]
  },
  {
   "cell_type": "markdown",
   "id": "be04a132",
   "metadata": {},
   "source": [
    "nombre_infected        28\n",
    "nombre_sain          2386\n",
    "nombre_exposed         13\n",
    "nombre_recovered    17573\n",
    "Name: 91, dtype: int64"
   ]
  },
  {
   "cell_type": "markdown",
   "id": "1966a158",
   "metadata": {},
   "source": [
    "nombre_infected        28\n",
    "nombre_sain          2432\n",
    "nombre_exposed         13\n",
    "nombre_recovered    17527\n",
    "Name: 92, dtype: int64"
   ]
  },
  {
   "cell_type": "markdown",
   "id": "796e3840",
   "metadata": {},
   "source": [
    "nombre_infected        24\n",
    "nombre_sain          2482\n",
    "nombre_exposed         15\n",
    "nombre_recovered    17479\n",
    "Name: 93, dtype: int64"
   ]
  },
  {
   "cell_type": "markdown",
   "id": "7c1266af",
   "metadata": {},
   "source": [
    "nombre_infected        23\n",
    "nombre_sain          2538\n",
    "nombre_exposed         11\n",
    "nombre_recovered    17428\n",
    "Name: 94, dtype: int64"
   ]
  },
  {
   "cell_type": "markdown",
   "id": "bce2e80f",
   "metadata": {},
   "source": [
    "nombre_infected        21\n",
    "nombre_sain          2580\n",
    "nombre_exposed         14\n",
    "nombre_recovered    17385\n",
    "Name: 95, dtype: int64"
   ]
  },
  {
   "cell_type": "markdown",
   "id": "6eab958b",
   "metadata": {},
   "source": [
    "nombre_infected        21\n",
    "nombre_sain          2638\n",
    "nombre_exposed         15\n",
    "nombre_recovered    17326\n",
    "Name: 96, dtype: int64"
   ]
  },
  {
   "cell_type": "markdown",
   "id": "d78a2553",
   "metadata": {},
   "source": [
    "nombre_infected        20\n",
    "nombre_sain          2706\n",
    "nombre_exposed         17\n",
    "nombre_recovered    17257\n",
    "Name: 97, dtype: int64"
   ]
  },
  {
   "cell_type": "markdown",
   "id": "2003d44f",
   "metadata": {},
   "source": [
    "nombre_infected        21\n",
    "nombre_sain          2772\n",
    "nombre_exposed         16\n",
    "nombre_recovered    17191\n",
    "Name: 98, dtype: int64"
   ]
  },
  {
   "cell_type": "markdown",
   "id": "6cd3b679",
   "metadata": {},
   "source": [
    "nombre_infected        17\n",
    "nombre_sain          2820\n",
    "nombre_exposed         19\n",
    "nombre_recovered    17144\n",
    "Name: 99, dtype: int64"
   ]
  },
  {
   "cell_type": "markdown",
   "id": "3819864f",
   "metadata": {},
   "source": [
    "nombre_infected        18\n",
    "nombre_sain          2887\n",
    "nombre_exposed         18\n",
    "nombre_recovered    17077\n",
    "Name: 100, dtype: int64"
   ]
  },
  {
   "cell_type": "markdown",
   "id": "02dee958",
   "metadata": {},
   "source": [
    "nombre_infected        19\n",
    "nombre_sain          2925\n",
    "nombre_exposed         20\n",
    "nombre_recovered    17036\n",
    "Name: 101, dtype: int64"
   ]
  },
  {
   "cell_type": "markdown",
   "id": "ed7cc776",
   "metadata": {},
   "source": [
    "nombre_infected        18\n",
    "nombre_sain          2984\n",
    "nombre_exposed         24\n",
    "nombre_recovered    16974\n",
    "Name: 102, dtype: int64"
   ]
  },
  {
   "cell_type": "markdown",
   "id": "70ec842e",
   "metadata": {},
   "source": [
    "nombre_infected        22\n",
    "nombre_sain          3047\n",
    "nombre_exposed         18\n",
    "nombre_recovered    16913\n",
    "Name: 103, dtype: int64"
   ]
  },
  {
   "cell_type": "markdown",
   "id": "7c67bb3f",
   "metadata": {},
   "source": [
    "nombre_infected        24\n",
    "nombre_sain          3105\n",
    "nombre_exposed         15\n",
    "nombre_recovered    16856\n",
    "Name: 104, dtype: int64"
   ]
  },
  {
   "cell_type": "markdown",
   "id": "5323b86f",
   "metadata": {},
   "source": [
    "nombre_infected        24\n",
    "nombre_sain          3164\n",
    "nombre_exposed         18\n",
    "nombre_recovered    16794\n",
    "Name: 105, dtype: int64"
   ]
  },
  {
   "cell_type": "markdown",
   "id": "5ead6418",
   "metadata": {},
   "source": [
    "nombre_infected        27\n",
    "nombre_sain          3214\n",
    "nombre_exposed         15\n",
    "nombre_recovered    16744\n",
    "Name: 106, dtype: int64"
   ]
  },
  {
   "cell_type": "markdown",
   "id": "66459778",
   "metadata": {},
   "source": [
    "nombre_infected        26\n",
    "nombre_sain          3266\n",
    "nombre_exposed         11\n",
    "nombre_recovered    16697\n",
    "Name: 107, dtype: int64"
   ]
  },
  {
   "cell_type": "markdown",
   "id": "a6dcff01",
   "metadata": {},
   "source": [
    "nombre_infected        25\n",
    "nombre_sain          3318\n",
    "nombre_exposed         13\n",
    "nombre_recovered    16644\n",
    "Name: 108, dtype: int64"
   ]
  },
  {
   "cell_type": "markdown",
   "id": "c42f821c",
   "metadata": {},
   "source": [
    "nombre_infected        21\n",
    "nombre_sain          3364\n",
    "nombre_exposed         15\n",
    "nombre_recovered    16600\n",
    "Name: 109, dtype: int64"
   ]
  },
  {
   "cell_type": "markdown",
   "id": "2e9d7dc3",
   "metadata": {},
   "source": [
    "nombre_infected        21\n",
    "nombre_sain          3424\n",
    "nombre_exposed         16\n",
    "nombre_recovered    16539\n",
    "Name: 110, dtype: int64"
   ]
  },
  {
   "cell_type": "markdown",
   "id": "bafdcdc4",
   "metadata": {},
   "source": [
    "nombre_infected        19\n",
    "nombre_sain          3483\n",
    "nombre_exposed         17\n",
    "nombre_recovered    16481\n",
    "Name: 111, dtype: int64"
   ]
  },
  {
   "cell_type": "markdown",
   "id": "afa6d633",
   "metadata": {},
   "source": [
    "nombre_infected        20\n",
    "nombre_sain          3537\n",
    "nombre_exposed         15\n",
    "nombre_recovered    16428\n",
    "Name: 112, dtype: int64"
   ]
  },
  {
   "cell_type": "markdown",
   "id": "a5337a79",
   "metadata": {},
   "source": [
    "nombre_infected        17\n",
    "nombre_sain          3593\n",
    "nombre_exposed         19\n",
    "nombre_recovered    16371\n",
    "Name: 113, dtype: int64"
   ]
  },
  {
   "cell_type": "markdown",
   "id": "b1a3ca91",
   "metadata": {},
   "source": [
    "nombre_infected        18\n",
    "nombre_sain          3655\n",
    "nombre_exposed         18\n",
    "nombre_recovered    16309\n",
    "Name: 114, dtype: int64"
   ]
  },
  {
   "cell_type": "markdown",
   "id": "5f0a1001",
   "metadata": {},
   "source": [
    "nombre_infected        20\n",
    "nombre_sain          3721\n",
    "nombre_exposed         20\n",
    "nombre_recovered    16239\n",
    "Name: 115, dtype: int64"
   ]
  },
  {
   "cell_type": "markdown",
   "id": "2ad82a2b",
   "metadata": {},
   "source": [
    "nombre_infected        23\n",
    "nombre_sain          3819\n",
    "nombre_exposed         18\n",
    "nombre_recovered    16140\n",
    "Name: 116, dtype: int64"
   ]
  },
  {
   "cell_type": "markdown",
   "id": "eac8641a",
   "metadata": {},
   "source": [
    "nombre_infected        27\n",
    "nombre_sain          3889\n",
    "nombre_exposed         20\n",
    "nombre_recovered    16064\n",
    "Name: 117, dtype: int64"
   ]
  },
  {
   "cell_type": "markdown",
   "id": "bf7a9819",
   "metadata": {},
   "source": [
    "nombre_infected        28\n",
    "nombre_sain          3958\n",
    "nombre_exposed         23\n",
    "nombre_recovered    15991\n",
    "Name: 118, dtype: int64"
   ]
  },
  {
   "cell_type": "markdown",
   "id": "489bc0ac",
   "metadata": {},
   "source": [
    "nombre_infected        25\n",
    "nombre_sain          4040\n",
    "nombre_exposed         29\n",
    "nombre_recovered    15906\n",
    "Name: 119, dtype: int64"
   ]
  },
  {
   "cell_type": "markdown",
   "id": "779f8d91",
   "metadata": {},
   "source": [
    "nombre_infected        27\n",
    "nombre_sain          4116\n",
    "nombre_exposed         28\n",
    "nombre_recovered    15829\n",
    "Name: 120, dtype: int64"
   ]
  },
  {
   "cell_type": "markdown",
   "id": "c8969f24",
   "metadata": {},
   "source": [
    "nombre_infected        27\n",
    "nombre_sain          4181\n",
    "nombre_exposed         27\n",
    "nombre_recovered    15765\n",
    "Name: 121, dtype: int64"
   ]
  },
  {
   "cell_type": "markdown",
   "id": "2d74c7b6",
   "metadata": {},
   "source": [
    "nombre_infected        24\n",
    "nombre_sain          4237\n",
    "nombre_exposed         35\n",
    "nombre_recovered    15704\n",
    "Name: 122, dtype: int64"
   ]
  },
  {
   "cell_type": "markdown",
   "id": "c0ada182",
   "metadata": {},
   "source": [
    "nombre_infected        30\n",
    "nombre_sain          4305\n",
    "nombre_exposed         30\n",
    "nombre_recovered    15635\n",
    "Name: 123, dtype: int64"
   ]
  },
  {
   "cell_type": "markdown",
   "id": "3e295b95",
   "metadata": {},
   "source": [
    "nombre_infected        32\n",
    "nombre_sain          4342\n",
    "nombre_exposed         33\n",
    "nombre_recovered    15593\n",
    "Name: 124, dtype: int64"
   ]
  },
  {
   "cell_type": "markdown",
   "id": "ea2a2c3a",
   "metadata": {},
   "source": [
    "nombre_infected        39\n",
    "nombre_sain          4384\n",
    "nombre_exposed         34\n",
    "nombre_recovered    15543\n",
    "Name: 125, dtype: int64"
   ]
  },
  {
   "cell_type": "markdown",
   "id": "7ecc3926",
   "metadata": {},
   "source": [
    "nombre_infected        37\n",
    "nombre_sain          4421\n",
    "nombre_exposed         43\n",
    "nombre_recovered    15499\n",
    "Name: 126, dtype: int64"
   ]
  },
  {
   "cell_type": "markdown",
   "id": "14b9da7f",
   "metadata": {},
   "source": [
    "nombre_infected        37\n",
    "nombre_sain          4458\n",
    "nombre_exposed         48\n",
    "nombre_recovered    15457\n",
    "Name: 127, dtype: int64"
   ]
  },
  {
   "cell_type": "markdown",
   "id": "dc759d9c",
   "metadata": {},
   "source": [
    "nombre_infected        45\n",
    "nombre_sain          4495\n",
    "nombre_exposed         50\n",
    "nombre_recovered    15410\n",
    "Name: 128, dtype: int64"
   ]
  },
  {
   "cell_type": "markdown",
   "id": "16f7ff14",
   "metadata": {},
   "source": [
    "nombre_infected        50\n",
    "nombre_sain          4514\n",
    "nombre_exposed         57\n",
    "nombre_recovered    15379\n",
    "Name: 129, dtype: int64"
   ]
  },
  {
   "cell_type": "markdown",
   "id": "47535bbb",
   "metadata": {},
   "source": [
    "nombre_infected        54\n",
    "nombre_sain          4552\n",
    "nombre_exposed         58\n",
    "nombre_recovered    15336\n",
    "Name: 130, dtype: int64"
   ]
  },
  {
   "cell_type": "markdown",
   "id": "3d9d063f",
   "metadata": {},
   "source": [
    "nombre_infected        64\n",
    "nombre_sain          4597\n",
    "nombre_exposed         51\n",
    "nombre_recovered    15288\n",
    "Name: 131, dtype: int64"
   ]
  },
  {
   "cell_type": "markdown",
   "id": "a6e8d59e",
   "metadata": {},
   "source": [
    "nombre_infected        65\n",
    "nombre_sain          4643\n",
    "nombre_exposed         55\n",
    "nombre_recovered    15237\n",
    "Name: 132, dtype: int64"
   ]
  },
  {
   "cell_type": "markdown",
   "id": "ee2749d3",
   "metadata": {},
   "source": [
    "nombre_infected        66\n",
    "nombre_sain          4672\n",
    "nombre_exposed         64\n",
    "nombre_recovered    15198\n",
    "Name: 133, dtype: int64"
   ]
  },
  {
   "cell_type": "markdown",
   "id": "cfc3364a",
   "metadata": {},
   "source": [
    "nombre_infected        71\n",
    "nombre_sain          4709\n",
    "nombre_exposed         64\n",
    "nombre_recovered    15156\n",
    "Name: 134, dtype: int64"
   ]
  },
  {
   "cell_type": "markdown",
   "id": "20224aa7",
   "metadata": {},
   "source": [
    "nombre_infected        75\n",
    "nombre_sain          4752\n",
    "nombre_exposed         67\n",
    "nombre_recovered    15106\n",
    "Name: 135, dtype: int64"
   ]
  },
  {
   "cell_type": "markdown",
   "id": "2f0bf644",
   "metadata": {},
   "source": [
    "nombre_infected        80\n",
    "nombre_sain          4802\n",
    "nombre_exposed         63\n",
    "nombre_recovered    15055\n",
    "Name: 136, dtype: int64"
   ]
  },
  {
   "cell_type": "markdown",
   "id": "a164674d",
   "metadata": {},
   "source": [
    "nombre_infected        77\n",
    "nombre_sain          4825\n",
    "nombre_exposed         76\n",
    "nombre_recovered    15022\n",
    "Name: 137, dtype: int64"
   ]
  },
  {
   "cell_type": "markdown",
   "id": "f8b96f12",
   "metadata": {},
   "source": [
    "nombre_infected        78\n",
    "nombre_sain          4857\n",
    "nombre_exposed         89\n",
    "nombre_recovered    14976\n",
    "Name: 138, dtype: int64"
   ]
  },
  {
   "cell_type": "markdown",
   "id": "acad58c1",
   "metadata": {},
   "source": [
    "nombre_infected        84\n",
    "nombre_sain          4895\n",
    "nombre_exposed         92\n",
    "nombre_recovered    14929\n",
    "Name: 139, dtype: int64"
   ]
  },
  {
   "cell_type": "markdown",
   "id": "556dbed4",
   "metadata": {},
   "source": [
    "nombre_infected        96\n",
    "nombre_sain          4918\n",
    "nombre_exposed        104\n",
    "nombre_recovered    14882\n",
    "Name: 140, dtype: int64"
   ]
  },
  {
   "cell_type": "markdown",
   "id": "f4826594",
   "metadata": {},
   "source": [
    "nombre_infected       103\n",
    "nombre_sain          4931\n",
    "nombre_exposed        128\n",
    "nombre_recovered    14838\n",
    "Name: 141, dtype: int64"
   ]
  },
  {
   "cell_type": "markdown",
   "id": "37bec14f",
   "metadata": {},
   "source": [
    "nombre_infected       113\n",
    "nombre_sain          4974\n",
    "nombre_exposed        135\n",
    "nombre_recovered    14778\n",
    "Name: 142, dtype: int64"
   ]
  },
  {
   "cell_type": "markdown",
   "id": "5150fd38",
   "metadata": {},
   "source": [
    "nombre_infected       133\n",
    "nombre_sain          4976\n",
    "nombre_exposed        147\n",
    "nombre_recovered    14744\n",
    "Name: 143, dtype: int64"
   ]
  },
  {
   "cell_type": "markdown",
   "id": "f64a7ad8",
   "metadata": {},
   "source": [
    "nombre_infected       139\n",
    "nombre_sain          4993\n",
    "nombre_exposed        172\n",
    "nombre_recovered    14696\n",
    "Name: 144, dtype: int64"
   ]
  },
  {
   "cell_type": "markdown",
   "id": "1b467cf2",
   "metadata": {},
   "source": [
    "nombre_infected       146\n",
    "nombre_sain          5010\n",
    "nombre_exposed        195\n",
    "nombre_recovered    14649\n",
    "Name: 145, dtype: int64"
   ]
  },
  {
   "cell_type": "markdown",
   "id": "2000ebae",
   "metadata": {},
   "source": [
    "nombre_infected       174\n",
    "nombre_sain          5027\n",
    "nombre_exposed        193\n",
    "nombre_recovered    14606\n",
    "Name: 146, dtype: int64"
   ]
  },
  {
   "cell_type": "markdown",
   "id": "0c9c4d22",
   "metadata": {},
   "source": [
    "nombre_infected       180\n",
    "nombre_sain          5036\n",
    "nombre_exposed        211\n",
    "nombre_recovered    14573\n",
    "Name: 147, dtype: int64"
   ]
  },
  {
   "cell_type": "markdown",
   "id": "d8922539",
   "metadata": {},
   "source": [
    "nombre_infected       201\n",
    "nombre_sain          5043\n",
    "nombre_exposed        212\n",
    "nombre_recovered    14544\n",
    "Name: 148, dtype: int64"
   ]
  },
  {
   "cell_type": "markdown",
   "id": "e9935996",
   "metadata": {},
   "source": [
    "nombre_infected       213\n",
    "nombre_sain          5039\n",
    "nombre_exposed        243\n",
    "nombre_recovered    14505\n",
    "Name: 149, dtype: int64"
   ]
  },
  {
   "cell_type": "markdown",
   "id": "b2fedfa5",
   "metadata": {},
   "source": [
    "nombre_infected       227\n",
    "nombre_sain          5036\n",
    "nombre_exposed        267\n",
    "nombre_recovered    14470\n",
    "Name: 150, dtype: int64"
   ]
  },
  {
   "cell_type": "markdown",
   "id": "71f5198e",
   "metadata": {},
   "source": [
    "nombre_infected       275\n",
    "nombre_sain          5011\n",
    "nombre_exposed        271\n",
    "nombre_recovered    14443\n",
    "Name: 151, dtype: int64"
   ]
  },
  {
   "cell_type": "markdown",
   "id": "8152783c",
   "metadata": {},
   "source": [
    "nombre_infected       300\n",
    "nombre_sain          4986\n",
    "nombre_exposed        302\n",
    "nombre_recovered    14412\n",
    "Name: 152, dtype: int64"
   ]
  },
  {
   "cell_type": "markdown",
   "id": "9d17d0dd",
   "metadata": {},
   "source": [
    "nombre_infected       323\n",
    "nombre_sain          4946\n",
    "nombre_exposed        339\n",
    "nombre_recovered    14392\n",
    "Name: 153, dtype: int64"
   ]
  },
  {
   "cell_type": "markdown",
   "id": "35799c82",
   "metadata": {},
   "source": [
    "nombre_infected       348\n",
    "nombre_sain          4893\n",
    "nombre_exposed        362\n",
    "nombre_recovered    14397\n",
    "Name: 154, dtype: int64"
   ]
  },
  {
   "cell_type": "markdown",
   "id": "6d32c7da",
   "metadata": {},
   "source": [
    "nombre_infected       370\n",
    "nombre_sain          4824\n",
    "nombre_exposed        401\n",
    "nombre_recovered    14405\n",
    "Name: 155, dtype: int64"
   ]
  },
  {
   "cell_type": "markdown",
   "id": "3afae0b0",
   "metadata": {},
   "source": [
    "nombre_infected       393\n",
    "nombre_sain          4762\n",
    "nombre_exposed        441\n",
    "nombre_recovered    14404\n",
    "Name: 156, dtype: int64"
   ]
  },
  {
   "cell_type": "markdown",
   "id": "cef0f0d4",
   "metadata": {},
   "source": [
    "nombre_infected       431\n",
    "nombre_sain          4678\n",
    "nombre_exposed        479\n",
    "nombre_recovered    14412\n",
    "Name: 157, dtype: int64"
   ]
  },
  {
   "cell_type": "markdown",
   "id": "21e79f54",
   "metadata": {},
   "source": [
    "nombre_infected       488\n",
    "nombre_sain          4616\n",
    "nombre_exposed        488\n",
    "nombre_recovered    14408\n",
    "Name: 158, dtype: int64"
   ]
  },
  {
   "cell_type": "markdown",
   "id": "1b2da788",
   "metadata": {},
   "source": [
    "nombre_infected       510\n",
    "nombre_sain          4528\n",
    "nombre_exposed        537\n",
    "nombre_recovered    14425\n",
    "Name: 159, dtype: int64"
   ]
  },
  {
   "cell_type": "markdown",
   "id": "6cb23da6",
   "metadata": {},
   "source": [
    "nombre_infected       533\n",
    "nombre_sain          4458\n",
    "nombre_exposed        565\n",
    "nombre_recovered    14444\n",
    "Name: 160, dtype: int64"
   ]
  },
  {
   "cell_type": "markdown",
   "id": "e21ea3e9",
   "metadata": {},
   "source": [
    "nombre_infected       583\n",
    "nombre_sain          4344\n",
    "nombre_exposed        606\n",
    "nombre_recovered    14467\n",
    "Name: 161, dtype: int64"
   ]
  },
  {
   "cell_type": "markdown",
   "id": "67c6fed8",
   "metadata": {},
   "source": [
    "nombre_infected       613\n",
    "nombre_sain          4254\n",
    "nombre_exposed        663\n",
    "nombre_recovered    14470\n",
    "Name: 162, dtype: int64"
   ]
  },
  {
   "cell_type": "markdown",
   "id": "1afd161e",
   "metadata": {},
   "source": [
    "nombre_infected       654\n",
    "nombre_sain          4134\n",
    "nombre_exposed        707\n",
    "nombre_recovered    14505\n",
    "Name: 163, dtype: int64"
   ]
  },
  {
   "cell_type": "markdown",
   "id": "895e55ca",
   "metadata": {},
   "source": [
    "nombre_infected       715\n",
    "nombre_sain          4007\n",
    "nombre_exposed        744\n",
    "nombre_recovered    14534\n",
    "Name: 164, dtype: int64"
   ]
  },
  {
   "cell_type": "markdown",
   "id": "6117fc81",
   "metadata": {},
   "source": [
    "nombre_infected       792\n",
    "nombre_sain          3905\n",
    "nombre_exposed        754\n",
    "nombre_recovered    14549\n",
    "Name: 165, dtype: int64"
   ]
  },
  {
   "cell_type": "markdown",
   "id": "1aa6597c",
   "metadata": {},
   "source": [
    "nombre_infected       844\n",
    "nombre_sain          3778\n",
    "nombre_exposed        786\n",
    "nombre_recovered    14592\n",
    "Name: 166, dtype: int64"
   ]
  },
  {
   "cell_type": "markdown",
   "id": "4e3a46ae",
   "metadata": {},
   "source": [
    "nombre_infected       875\n",
    "nombre_sain          3645\n",
    "nombre_exposed        846\n",
    "nombre_recovered    14634\n",
    "Name: 167, dtype: int64"
   ]
  },
  {
   "cell_type": "markdown",
   "id": "2e453a11",
   "metadata": {},
   "source": [
    "nombre_infected       952\n",
    "nombre_sain          3519\n",
    "nombre_exposed        866\n",
    "nombre_recovered    14663\n",
    "Name: 168, dtype: int64"
   ]
  },
  {
   "cell_type": "markdown",
   "id": "5f9c22d7",
   "metadata": {},
   "source": [
    "nombre_infected      1022\n",
    "nombre_sain          3383\n",
    "nombre_exposed        880\n",
    "nombre_recovered    14715\n",
    "Name: 169, dtype: int64"
   ]
  },
  {
   "cell_type": "markdown",
   "id": "39354a74",
   "metadata": {},
   "source": [
    "nombre_infected      1067\n",
    "nombre_sain          3261\n",
    "nombre_exposed        903\n",
    "nombre_recovered    14769\n",
    "Name: 170, dtype: int64"
   ]
  },
  {
   "cell_type": "markdown",
   "id": "d978da9e",
   "metadata": {},
   "source": [
    "nombre_infected      1120\n",
    "nombre_sain          3093\n",
    "nombre_exposed        946\n",
    "nombre_recovered    14841\n",
    "Name: 171, dtype: int64"
   ]
  },
  {
   "cell_type": "markdown",
   "id": "03b08d3e",
   "metadata": {},
   "source": [
    "nombre_infected      1176\n",
    "nombre_sain          2955\n",
    "nombre_exposed        955\n",
    "nombre_recovered    14914\n",
    "Name: 172, dtype: int64"
   ]
  },
  {
   "cell_type": "markdown",
   "id": "33edf592",
   "metadata": {},
   "source": [
    "nombre_infected      1242\n",
    "nombre_sain          2777\n",
    "nombre_exposed        976\n",
    "nombre_recovered    15005\n",
    "Name: 173, dtype: int64"
   ]
  },
  {
   "cell_type": "markdown",
   "id": "4c35c575",
   "metadata": {},
   "source": [
    "nombre_infected      1271\n",
    "nombre_sain          2663\n",
    "nombre_exposed        975\n",
    "nombre_recovered    15091\n",
    "Name: 174, dtype: int64"
   ]
  },
  {
   "cell_type": "markdown",
   "id": "57f8712e",
   "metadata": {},
   "source": [
    "nombre_infected      1327\n",
    "nombre_sain          2521\n",
    "nombre_exposed        981\n",
    "nombre_recovered    15171\n",
    "Name: 175, dtype: int64"
   ]
  },
  {
   "cell_type": "markdown",
   "id": "55f799f7",
   "metadata": {},
   "source": [
    "nombre_infected      1384\n",
    "nombre_sain          2394\n",
    "nombre_exposed        969\n",
    "nombre_recovered    15253\n",
    "Name: 176, dtype: int64"
   ]
  },
  {
   "cell_type": "markdown",
   "id": "c6d4a94a",
   "metadata": {},
   "source": [
    "nombre_infected      1421\n",
    "nombre_sain          2256\n",
    "nombre_exposed        969\n",
    "nombre_recovered    15354\n",
    "Name: 177, dtype: int64"
   ]
  },
  {
   "cell_type": "markdown",
   "id": "ac60729a",
   "metadata": {},
   "source": [
    "nombre_infected      1446\n",
    "nombre_sain          2153\n",
    "nombre_exposed        925\n",
    "nombre_recovered    15476\n",
    "Name: 178, dtype: int64"
   ]
  },
  {
   "cell_type": "markdown",
   "id": "fe7d2156",
   "metadata": {},
   "source": [
    "nombre_infected      1450\n",
    "nombre_sain          2030\n",
    "nombre_exposed        919\n",
    "nombre_recovered    15601\n",
    "Name: 179, dtype: int64"
   ]
  },
  {
   "cell_type": "markdown",
   "id": "f99793f2",
   "metadata": {},
   "source": [
    "nombre_infected      1454\n",
    "nombre_sain          1911\n",
    "nombre_exposed        890\n",
    "nombre_recovered    15745\n",
    "Name: 180, dtype: int64"
   ]
  },
  {
   "cell_type": "markdown",
   "id": "c9fa59d1",
   "metadata": {},
   "source": [
    "nombre_infected      1453\n",
    "nombre_sain          1810\n",
    "nombre_exposed        864\n",
    "nombre_recovered    15873\n",
    "Name: 181, dtype: int64"
   ]
  },
  {
   "cell_type": "markdown",
   "id": "4b7543bc",
   "metadata": {},
   "source": [
    "nombre_infected      1435\n",
    "nombre_sain          1729\n",
    "nombre_exposed        820\n",
    "nombre_recovered    16016\n",
    "Name: 182, dtype: int64"
   ]
  },
  {
   "cell_type": "markdown",
   "id": "59d62b0a",
   "metadata": {},
   "source": [
    "nombre_infected      1393\n",
    "nombre_sain          1640\n",
    "nombre_exposed        799\n",
    "nombre_recovered    16168\n",
    "Name: 183, dtype: int64"
   ]
  },
  {
   "cell_type": "markdown",
   "id": "0744c770",
   "metadata": {},
   "source": [
    "nombre_infected      1375\n",
    "nombre_sain          1562\n",
    "nombre_exposed        747\n",
    "nombre_recovered    16316\n",
    "Name: 184, dtype: int64"
   ]
  },
  {
   "cell_type": "markdown",
   "id": "779f0376",
   "metadata": {},
   "source": [
    "nombre_infected      1349\n",
    "nombre_sain          1529\n",
    "nombre_exposed        681\n",
    "nombre_recovered    16441\n",
    "Name: 185, dtype: int64"
   ]
  },
  {
   "cell_type": "markdown",
   "id": "a0742c5a",
   "metadata": {},
   "source": [
    "nombre_infected      1320\n",
    "nombre_sain          1477\n",
    "nombre_exposed        635\n",
    "nombre_recovered    16568\n",
    "Name: 186, dtype: int64"
   ]
  },
  {
   "cell_type": "markdown",
   "id": "680b273d",
   "metadata": {},
   "source": [
    "nombre_infected      1268\n",
    "nombre_sain          1418\n",
    "nombre_exposed        615\n",
    "nombre_recovered    16699\n",
    "Name: 187, dtype: int64"
   ]
  },
  {
   "cell_type": "markdown",
   "id": "b6571e95",
   "metadata": {},
   "source": [
    "nombre_infected      1235\n",
    "nombre_sain          1385\n",
    "nombre_exposed        578\n",
    "nombre_recovered    16802\n",
    "Name: 188, dtype: int64"
   ]
  },
  {
   "cell_type": "markdown",
   "id": "b04bb131",
   "metadata": {},
   "source": [
    "nombre_infected      1181\n",
    "nombre_sain          1336\n",
    "nombre_exposed        563\n",
    "nombre_recovered    16920\n",
    "Name: 189, dtype: int64"
   ]
  },
  {
   "cell_type": "markdown",
   "id": "636fd7c9",
   "metadata": {},
   "source": [
    "nombre_infected      1130\n",
    "nombre_sain          1334\n",
    "nombre_exposed        496\n",
    "nombre_recovered    17040\n",
    "Name: 190, dtype: int64"
   ]
  },
  {
   "cell_type": "markdown",
   "id": "4b47b1f4",
   "metadata": {},
   "source": [
    "nombre_infected      1093\n",
    "nombre_sain          1335\n",
    "nombre_exposed        473\n",
    "nombre_recovered    17099\n",
    "Name: 191, dtype: int64"
   ]
  },
  {
   "cell_type": "markdown",
   "id": "ce53dfcf",
   "metadata": {},
   "source": [
    "nombre_infected      1053\n",
    "nombre_sain          1321\n",
    "nombre_exposed        438\n",
    "nombre_recovered    17188\n",
    "Name: 192, dtype: int64"
   ]
  },
  {
   "cell_type": "markdown",
   "id": "03ffd198",
   "metadata": {},
   "source": [
    "nombre_infected      1015\n",
    "nombre_sain          1339\n",
    "nombre_exposed        403\n",
    "nombre_recovered    17243\n",
    "Name: 193, dtype: int64"
   ]
  },
  {
   "cell_type": "markdown",
   "id": "40e0ba5a",
   "metadata": {},
   "source": [
    "nombre_infected       961\n",
    "nombre_sain          1349\n",
    "nombre_exposed        377\n",
    "nombre_recovered    17313\n",
    "Name: 194, dtype: int64"
   ]
  },
  {
   "cell_type": "markdown",
   "id": "c904781d",
   "metadata": {},
   "source": [
    "nombre_infected       917\n",
    "nombre_sain          1344\n",
    "nombre_exposed        377\n",
    "nombre_recovered    17362\n",
    "Name: 195, dtype: int64"
   ]
  },
  {
   "cell_type": "markdown",
   "id": "74ef71b5",
   "metadata": {},
   "source": [
    "nombre_infected       850\n",
    "nombre_sain          1345\n",
    "nombre_exposed        377\n",
    "nombre_recovered    17428\n",
    "Name: 196, dtype: int64"
   ]
  },
  {
   "cell_type": "markdown",
   "id": "69df10e3",
   "metadata": {},
   "source": [
    "nombre_infected       802\n",
    "nombre_sain          1358\n",
    "nombre_exposed        382\n",
    "nombre_recovered    17458\n",
    "Name: 197, dtype: int64"
   ]
  },
  {
   "cell_type": "markdown",
   "id": "59e1c524",
   "metadata": {},
   "source": [
    "nombre_infected       758\n",
    "nombre_sain          1364\n",
    "nombre_exposed        371\n",
    "nombre_recovered    17507\n",
    "Name: 198, dtype: int64"
   ]
  },
  {
   "cell_type": "markdown",
   "id": "ce1ec20e",
   "metadata": {},
   "source": [
    "nombre_infected       721\n",
    "nombre_sain          1374\n",
    "nombre_exposed        353\n",
    "nombre_recovered    17552\n",
    "Name: 199, dtype: int64"
   ]
  },
  {
   "cell_type": "markdown",
   "id": "7212fa1d",
   "metadata": {},
   "source": [
    "nombre_infected       678\n",
    "nombre_sain          1402\n",
    "nombre_exposed        340\n",
    "nombre_recovered    17580\n",
    "Name: 200, dtype: int64"
   ]
  },
  {
   "cell_type": "markdown",
   "id": "96242646",
   "metadata": {},
   "source": [
    "nombre_infected       661\n",
    "nombre_sain          1432\n",
    "nombre_exposed        324\n",
    "nombre_recovered    17583\n",
    "Name: 201, dtype: int64"
   ]
  },
  {
   "cell_type": "markdown",
   "id": "1aee9ea2",
   "metadata": {},
   "source": [
    "nombre_infected       625\n",
    "nombre_sain          1453\n",
    "nombre_exposed        314\n",
    "nombre_recovered    17608\n",
    "Name: 202, dtype: int64"
   ]
  },
  {
   "cell_type": "markdown",
   "id": "70a5a8fa",
   "metadata": {},
   "source": [
    "nombre_infected       622\n",
    "nombre_sain          1471\n",
    "nombre_exposed        283\n",
    "nombre_recovered    17624\n",
    "Name: 203, dtype: int64"
   ]
  },
  {
   "cell_type": "markdown",
   "id": "186f4abc",
   "metadata": {},
   "source": [
    "nombre_infected       603\n",
    "nombre_sain          1490\n",
    "nombre_exposed        270\n",
    "nombre_recovered    17637\n",
    "Name: 204, dtype: int64"
   ]
  },
  {
   "cell_type": "markdown",
   "id": "021ca1a4",
   "metadata": {},
   "source": [
    "nombre_infected       579\n",
    "nombre_sain          1528\n",
    "nombre_exposed        263\n",
    "nombre_recovered    17630\n",
    "Name: 205, dtype: int64"
   ]
  },
  {
   "cell_type": "markdown",
   "id": "f6764a5b",
   "metadata": {},
   "source": [
    "nombre_infected       562\n",
    "nombre_sain          1567\n",
    "nombre_exposed        241\n",
    "nombre_recovered    17630\n",
    "Name: 206, dtype: int64"
   ]
  },
  {
   "cell_type": "markdown",
   "id": "90250e9d",
   "metadata": {},
   "source": [
    "nombre_infected       516\n",
    "nombre_sain          1595\n",
    "nombre_exposed        242\n",
    "nombre_recovered    17647\n",
    "Name: 207, dtype: int64"
   ]
  },
  {
   "cell_type": "markdown",
   "id": "9d3f16fc",
   "metadata": {},
   "source": [
    "nombre_infected       479\n",
    "nombre_sain          1622\n",
    "nombre_exposed        235\n",
    "nombre_recovered    17664\n",
    "Name: 208, dtype: int64"
   ]
  },
  {
   "cell_type": "markdown",
   "id": "2d5a3cdd",
   "metadata": {},
   "source": [
    "nombre_infected       450\n",
    "nombre_sain          1676\n",
    "nombre_exposed        224\n",
    "nombre_recovered    17650\n",
    "Name: 209, dtype: int64"
   ]
  },
  {
   "cell_type": "markdown",
   "id": "16746c1e",
   "metadata": {},
   "source": [
    "nombre_infected       436\n",
    "nombre_sain          1726\n",
    "nombre_exposed        219\n",
    "nombre_recovered    17619\n",
    "Name: 210, dtype: int64"
   ]
  },
  {
   "cell_type": "markdown",
   "id": "858db92d",
   "metadata": {},
   "source": [
    "nombre_infected       429\n",
    "nombre_sain          1756\n",
    "nombre_exposed        210\n",
    "nombre_recovered    17605\n",
    "Name: 211, dtype: int64"
   ]
  },
  {
   "cell_type": "markdown",
   "id": "66ac85dc",
   "metadata": {},
   "source": [
    "nombre_infected       408\n",
    "nombre_sain          1811\n",
    "nombre_exposed        206\n",
    "nombre_recovered    17575\n",
    "Name: 212, dtype: int64"
   ]
  },
  {
   "cell_type": "markdown",
   "id": "1b0f1138",
   "metadata": {},
   "source": [
    "nombre_infected       395\n",
    "nombre_sain          1858\n",
    "nombre_exposed        198\n",
    "nombre_recovered    17549\n",
    "Name: 213, dtype: int64"
   ]
  },
  {
   "cell_type": "markdown",
   "id": "0e8ce5c5",
   "metadata": {},
   "source": [
    "nombre_infected       380\n",
    "nombre_sain          1893\n",
    "nombre_exposed        194\n",
    "nombre_recovered    17533\n",
    "Name: 214, dtype: int64"
   ]
  },
  {
   "cell_type": "markdown",
   "id": "141c32f6",
   "metadata": {},
   "source": [
    "nombre_infected       372\n",
    "nombre_sain          1939\n",
    "nombre_exposed        191\n",
    "nombre_recovered    17498\n",
    "Name: 215, dtype: int64"
   ]
  },
  {
   "cell_type": "markdown",
   "id": "d49fcbc8",
   "metadata": {},
   "source": [
    "nombre_infected       364\n",
    "nombre_sain          1959\n",
    "nombre_exposed        198\n",
    "nombre_recovered    17479\n",
    "Name: 216, dtype: int64"
   ]
  },
  {
   "cell_type": "markdown",
   "id": "04225b07",
   "metadata": {},
   "source": [
    "nombre_infected       366\n",
    "nombre_sain          1991\n",
    "nombre_exposed        194\n",
    "nombre_recovered    17449\n",
    "Name: 217, dtype: int64"
   ]
  },
  {
   "cell_type": "markdown",
   "id": "fa46eb68",
   "metadata": {},
   "source": [
    "nombre_infected       358\n",
    "nombre_sain          2033\n",
    "nombre_exposed        192\n",
    "nombre_recovered    17417\n",
    "Name: 218, dtype: int64"
   ]
  },
  {
   "cell_type": "markdown",
   "id": "3995f7ea",
   "metadata": {},
   "source": [
    "nombre_infected       345\n",
    "nombre_sain          2065\n",
    "nombre_exposed        196\n",
    "nombre_recovered    17394\n",
    "Name: 219, dtype: int64"
   ]
  },
  {
   "cell_type": "markdown",
   "id": "3c8d5b24",
   "metadata": {},
   "source": [
    "nombre_infected       338\n",
    "nombre_sain          2082\n",
    "nombre_exposed        203\n",
    "nombre_recovered    17377\n",
    "Name: 220, dtype: int64"
   ]
  },
  {
   "cell_type": "markdown",
   "id": "920203c6",
   "metadata": {},
   "source": [
    "nombre_infected       330\n",
    "nombre_sain          2122\n",
    "nombre_exposed        198\n",
    "nombre_recovered    17350\n",
    "Name: 221, dtype: int64"
   ]
  },
  {
   "cell_type": "markdown",
   "id": "51781626",
   "metadata": {},
   "source": [
    "nombre_infected       324\n",
    "nombre_sain          2153\n",
    "nombre_exposed        191\n",
    "nombre_recovered    17332\n",
    "Name: 222, dtype: int64"
   ]
  },
  {
   "cell_type": "markdown",
   "id": "fb6a8ed3",
   "metadata": {},
   "source": [
    "nombre_infected       323\n",
    "nombre_sain          2191\n",
    "nombre_exposed        187\n",
    "nombre_recovered    17299\n",
    "Name: 223, dtype: int64"
   ]
  },
  {
   "cell_type": "markdown",
   "id": "8203ae03",
   "metadata": {},
   "source": [
    "nombre_infected       324\n",
    "nombre_sain          2226\n",
    "nombre_exposed        181\n",
    "nombre_recovered    17269\n",
    "Name: 224, dtype: int64"
   ]
  },
  {
   "cell_type": "markdown",
   "id": "6d2a8d8a",
   "metadata": {},
   "source": [
    "nombre_infected       332\n",
    "nombre_sain          2269\n",
    "nombre_exposed        177\n",
    "nombre_recovered    17222\n",
    "Name: 225, dtype: int64"
   ]
  },
  {
   "cell_type": "markdown",
   "id": "72c2185c",
   "metadata": {},
   "source": [
    "nombre_infected       326\n",
    "nombre_sain          2310\n",
    "nombre_exposed        176\n",
    "nombre_recovered    17188\n",
    "Name: 226, dtype: int64"
   ]
  },
  {
   "cell_type": "markdown",
   "id": "a0560d49",
   "metadata": {},
   "source": [
    "nombre_infected       322\n",
    "nombre_sain          2358\n",
    "nombre_exposed        179\n",
    "nombre_recovered    17141\n",
    "Name: 227, dtype: int64"
   ]
  },
  {
   "cell_type": "markdown",
   "id": "6e74a55b",
   "metadata": {},
   "source": [
    "nombre_infected       312\n",
    "nombre_sain          2365\n",
    "nombre_exposed        202\n",
    "nombre_recovered    17121\n",
    "Name: 228, dtype: int64"
   ]
  },
  {
   "cell_type": "markdown",
   "id": "e0dc5794",
   "metadata": {},
   "source": [
    "nombre_infected       304\n",
    "nombre_sain          2388\n",
    "nombre_exposed        222\n",
    "nombre_recovered    17086\n",
    "Name: 229, dtype: int64"
   ]
  },
  {
   "cell_type": "markdown",
   "id": "b44fc3a2",
   "metadata": {},
   "source": [
    "nombre_infected       301\n",
    "nombre_sain          2445\n",
    "nombre_exposed        225\n",
    "nombre_recovered    17029\n",
    "Name: 230, dtype: int64"
   ]
  },
  {
   "cell_type": "markdown",
   "id": "49294fe3",
   "metadata": {},
   "source": [
    "nombre_infected       312\n",
    "nombre_sain          2489\n",
    "nombre_exposed        216\n",
    "nombre_recovered    16983\n",
    "Name: 231, dtype: int64"
   ]
  },
  {
   "cell_type": "markdown",
   "id": "94f23c77",
   "metadata": {},
   "source": [
    "nombre_infected       334\n",
    "nombre_sain          2538\n",
    "nombre_exposed        211\n",
    "nombre_recovered    16917\n",
    "Name: 232, dtype: int64"
   ]
  },
  {
   "cell_type": "markdown",
   "id": "50b6eee7",
   "metadata": {},
   "source": [
    "nombre_infected       334\n",
    "nombre_sain          2584\n",
    "nombre_exposed        227\n",
    "nombre_recovered    16855\n",
    "Name: 233, dtype: int64"
   ]
  },
  {
   "cell_type": "markdown",
   "id": "4fb11dc1",
   "metadata": {},
   "source": [
    "nombre_infected       342\n",
    "nombre_sain          2619\n",
    "nombre_exposed        238\n",
    "nombre_recovered    16801\n",
    "Name: 234, dtype: int64"
   ]
  },
  {
   "cell_type": "markdown",
   "id": "6e9499b1",
   "metadata": {},
   "source": [
    "nombre_infected       345\n",
    "nombre_sain          2676\n",
    "nombre_exposed        239\n",
    "nombre_recovered    16740\n",
    "Name: 235, dtype: int64"
   ]
  },
  {
   "cell_type": "markdown",
   "id": "c614ee9a",
   "metadata": {},
   "source": [
    "nombre_infected       343\n",
    "nombre_sain          2723\n",
    "nombre_exposed        235\n",
    "nombre_recovered    16699\n",
    "Name: 236, dtype: int64"
   ]
  },
  {
   "cell_type": "markdown",
   "id": "32cc0dbe",
   "metadata": {},
   "source": [
    "nombre_infected       344\n",
    "nombre_sain          2769\n",
    "nombre_exposed        234\n",
    "nombre_recovered    16653\n",
    "Name: 237, dtype: int64"
   ]
  },
  {
   "cell_type": "markdown",
   "id": "42a7e997",
   "metadata": {},
   "source": [
    "nombre_infected       369\n",
    "nombre_sain          2795\n",
    "nombre_exposed        244\n",
    "nombre_recovered    16592\n",
    "Name: 238, dtype: int64"
   ]
  },
  {
   "cell_type": "markdown",
   "id": "aa4645a6",
   "metadata": {},
   "source": [
    "nombre_infected       366\n",
    "nombre_sain          2833\n",
    "nombre_exposed        256\n",
    "nombre_recovered    16545\n",
    "Name: 239, dtype: int64"
   ]
  },
  {
   "cell_type": "markdown",
   "id": "503c8880",
   "metadata": {},
   "source": [
    "nombre_infected       372\n",
    "nombre_sain          2866\n",
    "nombre_exposed        248\n",
    "nombre_recovered    16514\n",
    "Name: 240, dtype: int64"
   ]
  },
  {
   "cell_type": "markdown",
   "id": "d8be6c8b",
   "metadata": {},
   "source": [
    "nombre_infected       372\n",
    "nombre_sain          2876\n",
    "nombre_exposed        282\n",
    "nombre_recovered    16470\n",
    "Name: 241, dtype: int64"
   ]
  },
  {
   "cell_type": "markdown",
   "id": "b15a7a63",
   "metadata": {},
   "source": [
    "nombre_infected       383\n",
    "nombre_sain          2908\n",
    "nombre_exposed        297\n",
    "nombre_recovered    16412\n",
    "Name: 242, dtype: int64"
   ]
  },
  {
   "cell_type": "markdown",
   "id": "a022ad1b",
   "metadata": {},
   "source": [
    "nombre_infected       399\n",
    "nombre_sain          2951\n",
    "nombre_exposed        296\n",
    "nombre_recovered    16354\n",
    "Name: 243, dtype: int64"
   ]
  },
  {
   "cell_type": "markdown",
   "id": "08533757",
   "metadata": {},
   "source": [
    "nombre_infected       425\n",
    "nombre_sain          2974\n",
    "nombre_exposed        302\n",
    "nombre_recovered    16299\n",
    "Name: 244, dtype: int64"
   ]
  },
  {
   "cell_type": "markdown",
   "id": "5f8932e6",
   "metadata": {},
   "source": [
    "nombre_infected       431\n",
    "nombre_sain          2976\n",
    "nombre_exposed        331\n",
    "nombre_recovered    16262\n",
    "Name: 245, dtype: int64"
   ]
  },
  {
   "cell_type": "markdown",
   "id": "87064995",
   "metadata": {},
   "source": [
    "nombre_infected       436\n",
    "nombre_sain          2988\n",
    "nombre_exposed        341\n",
    "nombre_recovered    16235\n",
    "Name: 246, dtype: int64"
   ]
  },
  {
   "cell_type": "markdown",
   "id": "3f32b667",
   "metadata": {},
   "source": [
    "nombre_infected       445\n",
    "nombre_sain          3020\n",
    "nombre_exposed        331\n",
    "nombre_recovered    16204\n",
    "Name: 247, dtype: int64"
   ]
  },
  {
   "cell_type": "markdown",
   "id": "c4f5d92f",
   "metadata": {},
   "source": [
    "nombre_infected       474\n",
    "nombre_sain          3046\n",
    "nombre_exposed        329\n",
    "nombre_recovered    16151\n",
    "Name: 248, dtype: int64"
   ]
  },
  {
   "cell_type": "markdown",
   "id": "c3e3a512",
   "metadata": {},
   "source": [
    "nombre_infected       464\n",
    "nombre_sain          3056\n",
    "nombre_exposed        367\n",
    "nombre_recovered    16113\n",
    "Name: 249, dtype: int64"
   ]
  },
  {
   "cell_type": "markdown",
   "id": "cb74eaf1",
   "metadata": {},
   "source": [
    "nombre_infected       489\n",
    "nombre_sain          3091\n",
    "nombre_exposed        351\n",
    "nombre_recovered    16069\n",
    "Name: 250, dtype: int64"
   ]
  },
  {
   "cell_type": "markdown",
   "id": "e1796282",
   "metadata": {},
   "source": [
    "nombre_infected       510\n",
    "nombre_sain          3110\n",
    "nombre_exposed        351\n",
    "nombre_recovered    16029\n",
    "Name: 251, dtype: int64"
   ]
  },
  {
   "cell_type": "markdown",
   "id": "c28312db",
   "metadata": {},
   "source": [
    "nombre_infected       513\n",
    "nombre_sain          3105\n",
    "nombre_exposed        386\n",
    "nombre_recovered    15996\n",
    "Name: 252, dtype: int64"
   ]
  },
  {
   "cell_type": "markdown",
   "id": "0a8904d1",
   "metadata": {},
   "source": [
    "nombre_infected       502\n",
    "nombre_sain          3102\n",
    "nombre_exposed        416\n",
    "nombre_recovered    15980\n",
    "Name: 253, dtype: int64"
   ]
  },
  {
   "cell_type": "markdown",
   "id": "c986fefe",
   "metadata": {},
   "source": [
    "nombre_infected       521\n",
    "nombre_sain          3137\n",
    "nombre_exposed        405\n",
    "nombre_recovered    15937\n",
    "Name: 254, dtype: int64"
   ]
  },
  {
   "cell_type": "markdown",
   "id": "52e3be69",
   "metadata": {},
   "source": [
    "nombre_infected       557\n",
    "nombre_sain          3143\n",
    "nombre_exposed        406\n",
    "nombre_recovered    15894\n",
    "Name: 255, dtype: int64"
   ]
  },
  {
   "cell_type": "markdown",
   "id": "e34cfd7f",
   "metadata": {},
   "source": [
    "nombre_infected       559\n",
    "nombre_sain          3145\n",
    "nombre_exposed        431\n",
    "nombre_recovered    15865\n",
    "Name: 256, dtype: int64"
   ]
  },
  {
   "cell_type": "markdown",
   "id": "63301d02",
   "metadata": {},
   "source": [
    "nombre_infected       571\n",
    "nombre_sain          3123\n",
    "nombre_exposed        459\n",
    "nombre_recovered    15847\n",
    "Name: 257, dtype: int64"
   ]
  },
  {
   "cell_type": "markdown",
   "id": "74aa9b8b",
   "metadata": {},
   "source": [
    "nombre_infected       582\n",
    "nombre_sain          3124\n",
    "nombre_exposed        475\n",
    "nombre_recovered    15819\n",
    "Name: 258, dtype: int64"
   ]
  },
  {
   "cell_type": "markdown",
   "id": "117a0f69",
   "metadata": {},
   "source": [
    "nombre_infected       602\n",
    "nombre_sain          3102\n",
    "nombre_exposed        490\n",
    "nombre_recovered    15806\n",
    "Name: 259, dtype: int64"
   ]
  },
  {
   "cell_type": "markdown",
   "id": "ef4f9619",
   "metadata": {},
   "source": [
    "nombre_infected       617\n",
    "nombre_sain          3085\n",
    "nombre_exposed        519\n",
    "nombre_recovered    15779\n",
    "Name: 260, dtype: int64"
   ]
  },
  {
   "cell_type": "markdown",
   "id": "0645e70a",
   "metadata": {},
   "source": [
    "nombre_infected       649\n",
    "nombre_sain          3069\n",
    "nombre_exposed        541\n",
    "nombre_recovered    15741\n",
    "Name: 261, dtype: int64"
   ]
  },
  {
   "cell_type": "markdown",
   "id": "8de70c5d",
   "metadata": {},
   "source": [
    "nombre_infected       689\n",
    "nombre_sain          3078\n",
    "nombre_exposed        527\n",
    "nombre_recovered    15706\n",
    "Name: 262, dtype: int64"
   ]
  },
  {
   "cell_type": "markdown",
   "id": "ad6c47f2",
   "metadata": {},
   "source": [
    "nombre_infected       716\n",
    "nombre_sain          3058\n",
    "nombre_exposed        533\n",
    "nombre_recovered    15693\n",
    "Name: 263, dtype: int64"
   ]
  },
  {
   "cell_type": "markdown",
   "id": "02ca60cc",
   "metadata": {},
   "source": [
    "nombre_infected       735\n",
    "nombre_sain          3006\n",
    "nombre_exposed        567\n",
    "nombre_recovered    15692\n",
    "Name: 264, dtype: int64"
   ]
  },
  {
   "cell_type": "markdown",
   "id": "016f43f4",
   "metadata": {},
   "source": [
    "nombre_infected       724\n",
    "nombre_sain          2970\n",
    "nombre_exposed        600\n",
    "nombre_recovered    15706\n",
    "Name: 265, dtype: int64"
   ]
  },
  {
   "cell_type": "markdown",
   "id": "ab5552da",
   "metadata": {},
   "source": [
    "nombre_infected       724\n",
    "nombre_sain          2915\n",
    "nombre_exposed        627\n",
    "nombre_recovered    15734\n",
    "Name: 266, dtype: int64"
   ]
  },
  {
   "cell_type": "markdown",
   "id": "7cc3975f",
   "metadata": {},
   "source": [
    "nombre_infected       765\n",
    "nombre_sain          2890\n",
    "nombre_exposed        614\n",
    "nombre_recovered    15731\n",
    "Name: 267, dtype: int64"
   ]
  },
  {
   "cell_type": "markdown",
   "id": "0849bdbc",
   "metadata": {},
   "source": [
    "nombre_infected       785\n",
    "nombre_sain          2873\n",
    "nombre_exposed        603\n",
    "nombre_recovered    15739\n",
    "Name: 268, dtype: int64"
   ]
  },
  {
   "cell_type": "markdown",
   "id": "05a65955",
   "metadata": {},
   "source": [
    "nombre_infected       796\n",
    "nombre_sain          2838\n",
    "nombre_exposed        631\n",
    "nombre_recovered    15735\n",
    "Name: 269, dtype: int64"
   ]
  },
  {
   "cell_type": "markdown",
   "id": "f3f93851",
   "metadata": {},
   "source": [
    "nombre_infected       831\n",
    "nombre_sain          2796\n",
    "nombre_exposed        615\n",
    "nombre_recovered    15758\n",
    "Name: 270, dtype: int64"
   ]
  },
  {
   "cell_type": "markdown",
   "id": "fb69946a",
   "metadata": {},
   "source": [
    "nombre_infected       857\n",
    "nombre_sain          2781\n",
    "nombre_exposed        605\n",
    "nombre_recovered    15757\n",
    "Name: 271, dtype: int64"
   ]
  },
  {
   "cell_type": "markdown",
   "id": "7a434c06",
   "metadata": {},
   "source": [
    "nombre_infected       849\n",
    "nombre_sain          2767\n",
    "nombre_exposed        621\n",
    "nombre_recovered    15763\n",
    "Name: 272, dtype: int64"
   ]
  },
  {
   "cell_type": "markdown",
   "id": "fc1ab70a",
   "metadata": {},
   "source": [
    "nombre_infected       841\n",
    "nombre_sain          2727\n",
    "nombre_exposed        654\n",
    "nombre_recovered    15778\n",
    "Name: 273, dtype: int64"
   ]
  },
  {
   "cell_type": "markdown",
   "id": "984950f7",
   "metadata": {},
   "source": [
    "nombre_infected       849\n",
    "nombre_sain          2697\n",
    "nombre_exposed        665\n",
    "nombre_recovered    15789\n",
    "Name: 274, dtype: int64"
   ]
  },
  {
   "cell_type": "markdown",
   "id": "a6a63acf",
   "metadata": {},
   "source": [
    "nombre_infected       877\n",
    "nombre_sain          2654\n",
    "nombre_exposed        649\n",
    "nombre_recovered    15820\n",
    "Name: 275, dtype: int64"
   ]
  },
  {
   "cell_type": "markdown",
   "id": "893bca54",
   "metadata": {},
   "source": [
    "nombre_infected       899\n",
    "nombre_sain          2625\n",
    "nombre_exposed        638\n",
    "nombre_recovered    15838\n",
    "Name: 276, dtype: int64"
   ]
  },
  {
   "cell_type": "markdown",
   "id": "f1e37e6c",
   "metadata": {},
   "source": [
    "nombre_infected       914\n",
    "nombre_sain          2582\n",
    "nombre_exposed        632\n",
    "nombre_recovered    15872\n",
    "Name: 277, dtype: int64"
   ]
  },
  {
   "cell_type": "markdown",
   "id": "f3b94e8c",
   "metadata": {},
   "source": [
    "nombre_infected       917\n",
    "nombre_sain          2538\n",
    "nombre_exposed        645\n",
    "nombre_recovered    15900\n",
    "Name: 278, dtype: int64"
   ]
  },
  {
   "cell_type": "markdown",
   "id": "1da5395c",
   "metadata": {},
   "source": [
    "nombre_infected       929\n",
    "nombre_sain          2493\n",
    "nombre_exposed        650\n",
    "nombre_recovered    15928\n",
    "Name: 279, dtype: int64"
   ]
  },
  {
   "cell_type": "markdown",
   "id": "603d1578",
   "metadata": {},
   "source": [
    "nombre_infected       926\n",
    "nombre_sain          2470\n",
    "nombre_exposed        652\n",
    "nombre_recovered    15952\n",
    "Name: 280, dtype: int64"
   ]
  },
  {
   "cell_type": "markdown",
   "id": "861ba1bd",
   "metadata": {},
   "source": [
    "nombre_infected       941\n",
    "nombre_sain          2442\n",
    "nombre_exposed        647\n",
    "nombre_recovered    15970\n",
    "Name: 281, dtype: int64"
   ]
  },
  {
   "cell_type": "markdown",
   "id": "c3bfe8a7",
   "metadata": {},
   "source": [
    "nombre_infected       957\n",
    "nombre_sain          2459\n",
    "nombre_exposed        608\n",
    "nombre_recovered    15976\n",
    "Name: 282, dtype: int64"
   ]
  },
  {
   "cell_type": "markdown",
   "id": "fd734b55",
   "metadata": {},
   "source": [
    "nombre_infected       970\n",
    "nombre_sain          2426\n",
    "nombre_exposed        603\n",
    "nombre_recovered    16001\n",
    "Name: 283, dtype: int64"
   ]
  },
  {
   "cell_type": "markdown",
   "id": "66e2d72f",
   "metadata": {},
   "source": [
    "nombre_infected       981\n",
    "nombre_sain          2396\n",
    "nombre_exposed        595\n",
    "nombre_recovered    16028\n",
    "Name: 284, dtype: int64"
   ]
  },
  {
   "cell_type": "markdown",
   "id": "8115c32b",
   "metadata": {},
   "source": [
    "nombre_infected       984\n",
    "nombre_sain          2389\n",
    "nombre_exposed        595\n",
    "nombre_recovered    16032\n",
    "Name: 285, dtype: int64"
   ]
  },
  {
   "cell_type": "markdown",
   "id": "ca1596ee",
   "metadata": {},
   "source": [
    "nombre_infected       958\n",
    "nombre_sain          2363\n",
    "nombre_exposed        608\n",
    "nombre_recovered    16071\n",
    "Name: 286, dtype: int64"
   ]
  },
  {
   "cell_type": "markdown",
   "id": "53d72a47",
   "metadata": {},
   "source": [
    "nombre_infected       939\n",
    "nombre_sain          2361\n",
    "nombre_exposed        595\n",
    "nombre_recovered    16105\n",
    "Name: 287, dtype: int64"
   ]
  },
  {
   "cell_type": "markdown",
   "id": "d679ee79",
   "metadata": {},
   "source": [
    "nombre_infected       924\n",
    "nombre_sain          2357\n",
    "nombre_exposed        596\n",
    "nombre_recovered    16123\n",
    "Name: 288, dtype: int64"
   ]
  },
  {
   "cell_type": "markdown",
   "id": "fe1d9911",
   "metadata": {},
   "source": [
    "nombre_infected       927\n",
    "nombre_sain          2353\n",
    "nombre_exposed        584\n",
    "nombre_recovered    16136\n",
    "Name: 289, dtype: int64"
   ]
  },
  {
   "cell_type": "markdown",
   "id": "563352dc",
   "metadata": {},
   "source": [
    "nombre_infected       924\n",
    "nombre_sain          2357\n",
    "nombre_exposed        570\n",
    "nombre_recovered    16149\n",
    "Name: 290, dtype: int64"
   ]
  },
  {
   "cell_type": "markdown",
   "id": "78b545cb",
   "metadata": {},
   "source": [
    "nombre_infected       926\n",
    "nombre_sain          2337\n",
    "nombre_exposed        573\n",
    "nombre_recovered    16164\n",
    "Name: 291, dtype: int64"
   ]
  },
  {
   "cell_type": "markdown",
   "id": "b0100de4",
   "metadata": {},
   "source": [
    "nombre_infected       927\n",
    "nombre_sain          2326\n",
    "nombre_exposed        562\n",
    "nombre_recovered    16185\n",
    "Name: 292, dtype: int64"
   ]
  },
  {
   "cell_type": "markdown",
   "id": "e1e177c0",
   "metadata": {},
   "source": [
    "nombre_infected       901\n",
    "nombre_sain          2304\n",
    "nombre_exposed        579\n",
    "nombre_recovered    16216\n",
    "Name: 293, dtype: int64"
   ]
  },
  {
   "cell_type": "markdown",
   "id": "e9784782",
   "metadata": {},
   "source": [
    "nombre_infected       911\n",
    "nombre_sain          2284\n",
    "nombre_exposed        578\n",
    "nombre_recovered    16227\n",
    "Name: 294, dtype: int64"
   ]
  },
  {
   "cell_type": "markdown",
   "id": "bc24a3e2",
   "metadata": {},
   "source": [
    "nombre_infected       928\n",
    "nombre_sain          2272\n",
    "nombre_exposed        562\n",
    "nombre_recovered    16238\n",
    "Name: 295, dtype: int64"
   ]
  },
  {
   "cell_type": "markdown",
   "id": "1f45537d",
   "metadata": {},
   "source": [
    "nombre_infected       936\n",
    "nombre_sain          2277\n",
    "nombre_exposed        556\n",
    "nombre_recovered    16231\n",
    "Name: 296, dtype: int64"
   ]
  },
  {
   "cell_type": "markdown",
   "id": "9161bd03",
   "metadata": {},
   "source": [
    "nombre_infected       900\n",
    "nombre_sain          2230\n",
    "nombre_exposed        592\n",
    "nombre_recovered    16278\n",
    "Name: 297, dtype: int64"
   ]
  },
  {
   "cell_type": "markdown",
   "id": "e31b2297",
   "metadata": {},
   "source": [
    "nombre_infected       892\n",
    "nombre_sain          2239\n",
    "nombre_exposed        579\n",
    "nombre_recovered    16290\n",
    "Name: 298, dtype: int64"
   ]
  },
  {
   "cell_type": "markdown",
   "id": "eb89dc65",
   "metadata": {},
   "source": [
    "nombre_infected       893\n",
    "nombre_sain          2232\n",
    "nombre_exposed        585\n",
    "nombre_recovered    16290\n",
    "Name: 299, dtype: int64"
   ]
  },
  {
   "cell_type": "markdown",
   "id": "6336fe12",
   "metadata": {},
   "source": [
    "nombre_infected       887\n",
    "nombre_sain          2221\n",
    "nombre_exposed        592\n",
    "nombre_recovered    16300\n",
    "Name: 300, dtype: int64"
   ]
  },
  {
   "cell_type": "markdown",
   "id": "4b8e9098",
   "metadata": {},
   "source": [
    "nombre_infected       882\n",
    "nombre_sain          2177\n",
    "nombre_exposed        609\n",
    "nombre_recovered    16332\n",
    "Name: 301, dtype: int64"
   ]
  },
  {
   "cell_type": "markdown",
   "id": "c4d6fe18",
   "metadata": {},
   "source": [
    "nombre_infected       902\n",
    "nombre_sain          2181\n",
    "nombre_exposed        589\n",
    "nombre_recovered    16328\n",
    "Name: 302, dtype: int64"
   ]
  },
  {
   "cell_type": "markdown",
   "id": "8c07d607",
   "metadata": {},
   "source": [
    "nombre_infected       920\n",
    "nombre_sain          2175\n",
    "nombre_exposed        570\n",
    "nombre_recovered    16335\n",
    "Name: 303, dtype: int64"
   ]
  },
  {
   "cell_type": "markdown",
   "id": "7ceb7578",
   "metadata": {},
   "source": [
    "nombre_infected       937\n",
    "nombre_sain          2193\n",
    "nombre_exposed        555\n",
    "nombre_recovered    16315\n",
    "Name: 304, dtype: int64"
   ]
  },
  {
   "cell_type": "markdown",
   "id": "42d1be82",
   "metadata": {},
   "source": [
    "nombre_infected       963\n",
    "nombre_sain          2141\n",
    "nombre_exposed        568\n",
    "nombre_recovered    16328\n",
    "Name: 305, dtype: int64"
   ]
  },
  {
   "cell_type": "markdown",
   "id": "b173311b",
   "metadata": {},
   "source": [
    "nombre_infected       973\n",
    "nombre_sain          2140\n",
    "nombre_exposed        571\n",
    "nombre_recovered    16316\n",
    "Name: 306, dtype: int64"
   ]
  },
  {
   "cell_type": "markdown",
   "id": "73137630",
   "metadata": {},
   "source": [
    "nombre_infected       976\n",
    "nombre_sain          2140\n",
    "nombre_exposed        556\n",
    "nombre_recovered    16328\n",
    "Name: 307, dtype: int64"
   ]
  },
  {
   "cell_type": "markdown",
   "id": "7761b2a9",
   "metadata": {},
   "source": [
    "nombre_infected       968\n",
    "nombre_sain          2149\n",
    "nombre_exposed        555\n",
    "nombre_recovered    16328\n",
    "Name: 308, dtype: int64"
   ]
  },
  {
   "cell_type": "markdown",
   "id": "bc81f9b2",
   "metadata": {},
   "source": [
    "nombre_infected       956\n",
    "nombre_sain          2151\n",
    "nombre_exposed        551\n",
    "nombre_recovered    16342\n",
    "Name: 309, dtype: int64"
   ]
  },
  {
   "cell_type": "markdown",
   "id": "3d94e60e",
   "metadata": {},
   "source": [
    "nombre_infected       908\n",
    "nombre_sain          2127\n",
    "nombre_exposed        582\n",
    "nombre_recovered    16383\n",
    "Name: 310, dtype: int64"
   ]
  },
  {
   "cell_type": "markdown",
   "id": "9f117786",
   "metadata": {},
   "source": [
    "nombre_infected       930\n",
    "nombre_sain          2139\n",
    "nombre_exposed        553\n",
    "nombre_recovered    16378\n",
    "Name: 311, dtype: int64"
   ]
  },
  {
   "cell_type": "markdown",
   "id": "28639306",
   "metadata": {},
   "source": [
    "nombre_infected       930\n",
    "nombre_sain          2158\n",
    "nombre_exposed        539\n",
    "nombre_recovered    16373\n",
    "Name: 312, dtype: int64"
   ]
  },
  {
   "cell_type": "markdown",
   "id": "9e625bd9",
   "metadata": {},
   "source": [
    "nombre_infected       920\n",
    "nombre_sain          2126\n",
    "nombre_exposed        567\n",
    "nombre_recovered    16387\n",
    "Name: 313, dtype: int64"
   ]
  },
  {
   "cell_type": "markdown",
   "id": "f13d207f",
   "metadata": {},
   "source": [
    "nombre_infected       910\n",
    "nombre_sain          2144\n",
    "nombre_exposed        566\n",
    "nombre_recovered    16380\n",
    "Name: 314, dtype: int64"
   ]
  },
  {
   "cell_type": "markdown",
   "id": "b223daf3",
   "metadata": {},
   "source": [
    "nombre_infected       924\n",
    "nombre_sain          2153\n",
    "nombre_exposed        567\n",
    "nombre_recovered    16356\n",
    "Name: 315, dtype: int64"
   ]
  },
  {
   "cell_type": "markdown",
   "id": "90675fc2",
   "metadata": {},
   "source": [
    "nombre_infected       903\n",
    "nombre_sain          2162\n",
    "nombre_exposed        562\n",
    "nombre_recovered    16373\n",
    "Name: 316, dtype: int64"
   ]
  },
  {
   "cell_type": "markdown",
   "id": "030bb79b",
   "metadata": {},
   "source": [
    "nombre_infected       896\n",
    "nombre_sain          2163\n",
    "nombre_exposed        565\n",
    "nombre_recovered    16376\n",
    "Name: 317, dtype: int64"
   ]
  },
  {
   "cell_type": "markdown",
   "id": "8e86257d",
   "metadata": {},
   "source": [
    "nombre_infected       904\n",
    "nombre_sain          2174\n",
    "nombre_exposed        555\n",
    "nombre_recovered    16367\n",
    "Name: 318, dtype: int64"
   ]
  },
  {
   "cell_type": "markdown",
   "id": "9576e6c4",
   "metadata": {},
   "source": [
    "nombre_infected       904\n",
    "nombre_sain          2183\n",
    "nombre_exposed        554\n",
    "nombre_recovered    16359\n",
    "Name: 319, dtype: int64"
   ]
  },
  {
   "cell_type": "markdown",
   "id": "4d8bef28",
   "metadata": {},
   "source": [
    "nombre_infected       892\n",
    "nombre_sain          2185\n",
    "nombre_exposed        541\n",
    "nombre_recovered    16382\n",
    "Name: 320, dtype: int64"
   ]
  },
  {
   "cell_type": "markdown",
   "id": "67671540",
   "metadata": {},
   "source": [
    "nombre_infected       888\n",
    "nombre_sain          2182\n",
    "nombre_exposed        544\n",
    "nombre_recovered    16386\n",
    "Name: 321, dtype: int64"
   ]
  },
  {
   "cell_type": "markdown",
   "id": "bced87d6",
   "metadata": {},
   "source": [
    "nombre_infected       893\n",
    "nombre_sain          2212\n",
    "nombre_exposed        547\n",
    "nombre_recovered    16348\n",
    "Name: 322, dtype: int64"
   ]
  },
  {
   "cell_type": "markdown",
   "id": "553715c3",
   "metadata": {},
   "source": [
    "nombre_infected       879\n",
    "nombre_sain          2199\n",
    "nombre_exposed        566\n",
    "nombre_recovered    16356\n",
    "Name: 323, dtype: int64"
   ]
  },
  {
   "cell_type": "markdown",
   "id": "4ff61370",
   "metadata": {},
   "source": [
    "nombre_infected       863\n",
    "nombre_sain          2198\n",
    "nombre_exposed        575\n",
    "nombre_recovered    16364\n",
    "Name: 324, dtype: int64"
   ]
  },
  {
   "cell_type": "markdown",
   "id": "dd9fe66f",
   "metadata": {},
   "source": [
    "nombre_infected       861\n",
    "nombre_sain          2222\n",
    "nombre_exposed        570\n",
    "nombre_recovered    16347\n",
    "Name: 325, dtype: int64"
   ]
  },
  {
   "cell_type": "markdown",
   "id": "4485ac6a",
   "metadata": {},
   "source": [
    "nombre_infected       852\n",
    "nombre_sain          2211\n",
    "nombre_exposed        564\n",
    "nombre_recovered    16373\n",
    "Name: 326, dtype: int64"
   ]
  },
  {
   "cell_type": "markdown",
   "id": "71e9fdfe",
   "metadata": {},
   "source": [
    "nombre_infected       855\n",
    "nombre_sain          2231\n",
    "nombre_exposed        555\n",
    "nombre_recovered    16359\n",
    "Name: 327, dtype: int64"
   ]
  },
  {
   "cell_type": "markdown",
   "id": "763aaf66",
   "metadata": {},
   "source": [
    "nombre_infected       876\n",
    "nombre_sain          2228\n",
    "nombre_exposed        538\n",
    "nombre_recovered    16358\n",
    "Name: 328, dtype: int64"
   ]
  },
  {
   "cell_type": "markdown",
   "id": "0ddd239c",
   "metadata": {},
   "source": [
    "nombre_infected       876\n",
    "nombre_sain          2203\n",
    "nombre_exposed        568\n",
    "nombre_recovered    16353\n",
    "Name: 329, dtype: int64"
   ]
  },
  {
   "cell_type": "markdown",
   "id": "0e17603f",
   "metadata": {},
   "source": [
    "nombre_infected       867\n",
    "nombre_sain          2190\n",
    "nombre_exposed        591\n",
    "nombre_recovered    16352\n",
    "Name: 330, dtype: int64"
   ]
  },
  {
   "cell_type": "markdown",
   "id": "79f5548f",
   "metadata": {},
   "source": [
    "nombre_infected       872\n",
    "nombre_sain          2214\n",
    "nombre_exposed        567\n",
    "nombre_recovered    16347\n",
    "Name: 331, dtype: int64"
   ]
  },
  {
   "cell_type": "markdown",
   "id": "5a5886b2",
   "metadata": {},
   "source": [
    "nombre_infected       870\n",
    "nombre_sain          2230\n",
    "nombre_exposed        557\n",
    "nombre_recovered    16343\n",
    "Name: 332, dtype: int64"
   ]
  },
  {
   "cell_type": "markdown",
   "id": "6df186d1",
   "metadata": {},
   "source": [
    "nombre_infected       851\n",
    "nombre_sain          2230\n",
    "nombre_exposed        570\n",
    "nombre_recovered    16349\n",
    "Name: 333, dtype: int64"
   ]
  },
  {
   "cell_type": "markdown",
   "id": "f6d2bb0e",
   "metadata": {},
   "source": [
    "nombre_infected       837\n",
    "nombre_sain          2236\n",
    "nombre_exposed        573\n",
    "nombre_recovered    16354\n",
    "Name: 334, dtype: int64"
   ]
  },
  {
   "cell_type": "markdown",
   "id": "2951aeb5",
   "metadata": {},
   "source": [
    "nombre_infected       858\n",
    "nombre_sain          2256\n",
    "nombre_exposed        574\n",
    "nombre_recovered    16312\n",
    "Name: 335, dtype: int64"
   ]
  },
  {
   "cell_type": "markdown",
   "id": "9c8c73e9",
   "metadata": {},
   "source": [
    "nombre_infected       874\n",
    "nombre_sain          2307\n",
    "nombre_exposed        534\n",
    "nombre_recovered    16285\n",
    "Name: 336, dtype: int64"
   ]
  },
  {
   "cell_type": "markdown",
   "id": "58234959",
   "metadata": {},
   "source": [
    "nombre_infected       887\n",
    "nombre_sain          2320\n",
    "nombre_exposed        534\n",
    "nombre_recovered    16259\n",
    "Name: 337, dtype: int64"
   ]
  },
  {
   "cell_type": "markdown",
   "id": "ed367593",
   "metadata": {},
   "source": [
    "nombre_infected       878\n",
    "nombre_sain          2303\n",
    "nombre_exposed        561\n",
    "nombre_recovered    16258\n",
    "Name: 338, dtype: int64"
   ]
  },
  {
   "cell_type": "markdown",
   "id": "a3ba55e6",
   "metadata": {},
   "source": [
    "nombre_infected       881\n",
    "nombre_sain          2301\n",
    "nombre_exposed        554\n",
    "nombre_recovered    16264\n",
    "Name: 339, dtype: int64"
   ]
  },
  {
   "cell_type": "markdown",
   "id": "1e891aeb",
   "metadata": {},
   "source": [
    "nombre_infected       912\n",
    "nombre_sain          2324\n",
    "nombre_exposed        538\n",
    "nombre_recovered    16226\n",
    "Name: 340, dtype: int64"
   ]
  },
  {
   "cell_type": "markdown",
   "id": "ae824a06",
   "metadata": {},
   "source": [
    "nombre_infected       891\n",
    "nombre_sain          2313\n",
    "nombre_exposed        550\n",
    "nombre_recovered    16246\n",
    "Name: 341, dtype: int64"
   ]
  },
  {
   "cell_type": "markdown",
   "id": "5381f5a7",
   "metadata": {},
   "source": [
    "nombre_infected       893\n",
    "nombre_sain          2317\n",
    "nombre_exposed        549\n",
    "nombre_recovered    16241\n",
    "Name: 342, dtype: int64"
   ]
  },
  {
   "cell_type": "markdown",
   "id": "c0a79421",
   "metadata": {},
   "source": [
    "nombre_infected       897\n",
    "nombre_sain          2321\n",
    "nombre_exposed        533\n",
    "nombre_recovered    16249\n",
    "Name: 343, dtype: int64"
   ]
  },
  {
   "cell_type": "markdown",
   "id": "bd96e98b",
   "metadata": {},
   "source": [
    "nombre_infected       914\n",
    "nombre_sain          2306\n",
    "nombre_exposed        511\n",
    "nombre_recovered    16269\n",
    "Name: 344, dtype: int64"
   ]
  },
  {
   "cell_type": "markdown",
   "id": "65b1476b",
   "metadata": {},
   "source": [
    "nombre_infected       910\n",
    "nombre_sain          2297\n",
    "nombre_exposed        503\n",
    "nombre_recovered    16290\n",
    "Name: 345, dtype: int64"
   ]
  },
  {
   "cell_type": "markdown",
   "id": "763625ec",
   "metadata": {},
   "source": [
    "nombre_infected       901\n",
    "nombre_sain          2291\n",
    "nombre_exposed        518\n",
    "nombre_recovered    16290\n",
    "Name: 346, dtype: int64"
   ]
  },
  {
   "cell_type": "markdown",
   "id": "85446da0",
   "metadata": {},
   "source": [
    "nombre_infected       895\n",
    "nombre_sain          2283\n",
    "nombre_exposed        513\n",
    "nombre_recovered    16309\n",
    "Name: 347, dtype: int64"
   ]
  },
  {
   "cell_type": "markdown",
   "id": "28a3026d",
   "metadata": {},
   "source": [
    "nombre_infected       865\n",
    "nombre_sain          2266\n",
    "nombre_exposed        531\n",
    "nombre_recovered    16338\n",
    "Name: 348, dtype: int64"
   ]
  },
  {
   "cell_type": "markdown",
   "id": "910aa281",
   "metadata": {},
   "source": [
    "nombre_infected       849\n",
    "nombre_sain          2255\n",
    "nombre_exposed        533\n",
    "nombre_recovered    16363\n",
    "Name: 349, dtype: int64"
   ]
  },
  {
   "cell_type": "markdown",
   "id": "c639dc57",
   "metadata": {},
   "source": [
    "nombre_infected       871\n",
    "nombre_sain          2228\n",
    "nombre_exposed        528\n",
    "nombre_recovered    16373\n",
    "Name: 350, dtype: int64"
   ]
  },
  {
   "cell_type": "markdown",
   "id": "1140ccdd",
   "metadata": {},
   "source": [
    "nombre_infected       858\n",
    "nombre_sain          2214\n",
    "nombre_exposed        535\n",
    "nombre_recovered    16393\n",
    "Name: 351, dtype: int64"
   ]
  },
  {
   "cell_type": "markdown",
   "id": "58cdb410",
   "metadata": {},
   "source": [
    "nombre_infected       871\n",
    "nombre_sain          2242\n",
    "nombre_exposed        495\n",
    "nombre_recovered    16392\n",
    "Name: 352, dtype: int64"
   ]
  },
  {
   "cell_type": "markdown",
   "id": "4e593412",
   "metadata": {},
   "source": [
    "nombre_infected       893\n",
    "nombre_sain          2223\n",
    "nombre_exposed        477\n",
    "nombre_recovered    16407\n",
    "Name: 353, dtype: int64"
   ]
  },
  {
   "cell_type": "markdown",
   "id": "49827c76",
   "metadata": {},
   "source": [
    "nombre_infected       858\n",
    "nombre_sain          2220\n",
    "nombre_exposed        495\n",
    "nombre_recovered    16427\n",
    "Name: 354, dtype: int64"
   ]
  },
  {
   "cell_type": "markdown",
   "id": "e133ba42",
   "metadata": {},
   "source": [
    "nombre_infected       859\n",
    "nombre_sain          2211\n",
    "nombre_exposed        493\n",
    "nombre_recovered    16437\n",
    "Name: 355, dtype: int64"
   ]
  },
  {
   "cell_type": "markdown",
   "id": "d68f68a2",
   "metadata": {},
   "source": [
    "nombre_infected       857\n",
    "nombre_sain          2202\n",
    "nombre_exposed        494\n",
    "nombre_recovered    16447\n",
    "Name: 356, dtype: int64"
   ]
  },
  {
   "cell_type": "markdown",
   "id": "06d7c19c",
   "metadata": {},
   "source": [
    "nombre_infected       845\n",
    "nombre_sain          2194\n",
    "nombre_exposed        495\n",
    "nombre_recovered    16466\n",
    "Name: 357, dtype: int64"
   ]
  },
  {
   "cell_type": "markdown",
   "id": "374f1e4e",
   "metadata": {},
   "source": [
    "nombre_infected       839\n",
    "nombre_sain          2181\n",
    "nombre_exposed        496\n",
    "nombre_recovered    16484\n",
    "Name: 358, dtype: int64"
   ]
  },
  {
   "cell_type": "markdown",
   "id": "dfdf2c3d",
   "metadata": {},
   "source": [
    "nombre_infected       845\n",
    "nombre_sain          2187\n",
    "nombre_exposed        495\n",
    "nombre_recovered    16473\n",
    "Name: 359, dtype: int64"
   ]
  },
  {
   "cell_type": "markdown",
   "id": "5d19ea18",
   "metadata": {},
   "source": [
    "nombre_infected       858\n",
    "nombre_sain          2170\n",
    "nombre_exposed        496\n",
    "nombre_recovered    16476\n",
    "Name: 360, dtype: int64"
   ]
  },
  {
   "cell_type": "markdown",
   "id": "343a545f",
   "metadata": {},
   "source": [
    "nombre_infected       841\n",
    "nombre_sain          2151\n",
    "nombre_exposed        499\n",
    "nombre_recovered    16509\n",
    "Name: 361, dtype: int64"
   ]
  },
  {
   "cell_type": "markdown",
   "id": "7d207b46",
   "metadata": {},
   "source": [
    "nombre_infected       855\n",
    "nombre_sain          2143\n",
    "nombre_exposed        502\n",
    "nombre_recovered    16500\n",
    "Name: 362, dtype: int64"
   ]
  },
  {
   "cell_type": "markdown",
   "id": "c63d8f58",
   "metadata": {},
   "source": [
    "nombre_infected       858\n",
    "nombre_sain          2117\n",
    "nombre_exposed        502\n",
    "nombre_recovered    16523\n",
    "Name: 363, dtype: int64"
   ]
  },
  {
   "cell_type": "markdown",
   "id": "5e12a175",
   "metadata": {},
   "source": [
    "nombre_infected       859\n",
    "nombre_sain          2116\n",
    "nombre_exposed        490\n",
    "nombre_recovered    16535\n",
    "Name: 364, dtype: int64"
   ]
  },
  {
   "cell_type": "markdown",
   "id": "64a20a86",
   "metadata": {},
   "source": [
    "nombre_infected       848\n",
    "nombre_sain          2113\n",
    "nombre_exposed        487\n",
    "nombre_recovered    16552\n",
    "Name: 365, dtype: int64"
   ]
  },
  {
   "cell_type": "markdown",
   "id": "6dcecda4",
   "metadata": {},
   "source": [
    "nombre_infected       835\n",
    "nombre_sain          2099\n",
    "nombre_exposed        494\n",
    "nombre_recovered    16572\n",
    "Name: 366, dtype: int64"
   ]
  },
  {
   "cell_type": "markdown",
   "id": "ff9f94e5",
   "metadata": {},
   "source": [
    "nombre_infected       840\n",
    "nombre_sain          2109\n",
    "nombre_exposed        495\n",
    "nombre_recovered    16556\n",
    "Name: 367, dtype: int64"
   ]
  },
  {
   "cell_type": "markdown",
   "id": "21ca1916",
   "metadata": {},
   "source": [
    "nombre_infected       811\n",
    "nombre_sain          2084\n",
    "nombre_exposed        502\n",
    "nombre_recovered    16603\n",
    "Name: 368, dtype: int64"
   ]
  },
  {
   "cell_type": "markdown",
   "id": "5b1d3df1",
   "metadata": {},
   "source": [
    "nombre_infected       804\n",
    "nombre_sain          2083\n",
    "nombre_exposed        482\n",
    "nombre_recovered    16631\n",
    "Name: 369, dtype: int64"
   ]
  },
  {
   "cell_type": "markdown",
   "id": "e59d7274",
   "metadata": {},
   "source": [
    "nombre_infected       804\n",
    "nombre_sain          2060\n",
    "nombre_exposed        476\n",
    "nombre_recovered    16660\n",
    "Name: 370, dtype: int64"
   ]
  },
  {
   "cell_type": "markdown",
   "id": "a27ba9b9",
   "metadata": {},
   "source": [
    "nombre_infected       800\n",
    "nombre_sain          2034\n",
    "nombre_exposed        469\n",
    "nombre_recovered    16697\n",
    "Name: 371, dtype: int64"
   ]
  },
  {
   "cell_type": "markdown",
   "id": "4fa67ce3",
   "metadata": {},
   "source": [
    "nombre_infected       776\n",
    "nombre_sain          2027\n",
    "nombre_exposed        489\n",
    "nombre_recovered    16708\n",
    "Name: 372, dtype: int64"
   ]
  },
  {
   "cell_type": "markdown",
   "id": "b21168d1",
   "metadata": {},
   "source": [
    "nombre_infected       740\n",
    "nombre_sain          2034\n",
    "nombre_exposed        493\n",
    "nombre_recovered    16733\n",
    "Name: 373, dtype: int64"
   ]
  },
  {
   "cell_type": "markdown",
   "id": "7b704b77",
   "metadata": {},
   "source": [
    "nombre_infected       757\n",
    "nombre_sain          2039\n",
    "nombre_exposed        454\n",
    "nombre_recovered    16750\n",
    "Name: 374, dtype: int64"
   ]
  },
  {
   "cell_type": "markdown",
   "id": "d9295be0",
   "metadata": {},
   "source": [
    "nombre_infected       753\n",
    "nombre_sain          2046\n",
    "nombre_exposed        456\n",
    "nombre_recovered    16745\n",
    "Name: 375, dtype: int64"
   ]
  },
  {
   "cell_type": "markdown",
   "id": "551839cd",
   "metadata": {},
   "source": [
    "nombre_infected       766\n",
    "nombre_sain          2057\n",
    "nombre_exposed        433\n",
    "nombre_recovered    16744\n",
    "Name: 376, dtype: int64"
   ]
  },
  {
   "cell_type": "markdown",
   "id": "935fbcf1",
   "metadata": {},
   "source": [
    "nombre_infected       745\n",
    "nombre_sain          2069\n",
    "nombre_exposed        436\n",
    "nombre_recovered    16750\n",
    "Name: 377, dtype: int64"
   ]
  },
  {
   "cell_type": "markdown",
   "id": "70adcf54",
   "metadata": {},
   "source": [
    "nombre_infected       722\n",
    "nombre_sain          2086\n",
    "nombre_exposed        424\n",
    "nombre_recovered    16768\n",
    "Name: 378, dtype: int64"
   ]
  },
  {
   "cell_type": "markdown",
   "id": "e437949d",
   "metadata": {},
   "source": [
    "nombre_infected       701\n",
    "nombre_sain          2096\n",
    "nombre_exposed        413\n",
    "nombre_recovered    16790\n",
    "Name: 379, dtype: int64"
   ]
  },
  {
   "cell_type": "markdown",
   "id": "2ca0b56e",
   "metadata": {},
   "source": [
    "nombre_infected       704\n",
    "nombre_sain          2114\n",
    "nombre_exposed        395\n",
    "nombre_recovered    16787\n",
    "Name: 380, dtype: int64"
   ]
  },
  {
   "cell_type": "markdown",
   "id": "8b09a5c6",
   "metadata": {},
   "source": [
    "nombre_infected       721\n",
    "nombre_sain          2152\n",
    "nombre_exposed        375\n",
    "nombre_recovered    16752\n",
    "Name: 381, dtype: int64"
   ]
  },
  {
   "cell_type": "markdown",
   "id": "ccd8893d",
   "metadata": {},
   "source": [
    "nombre_infected       699\n",
    "nombre_sain          2192\n",
    "nombre_exposed        391\n",
    "nombre_recovered    16718\n",
    "Name: 382, dtype: int64"
   ]
  },
  {
   "cell_type": "markdown",
   "id": "607b33ae",
   "metadata": {},
   "source": [
    "nombre_infected       675\n",
    "nombre_sain          2218\n",
    "nombre_exposed        395\n",
    "nombre_recovered    16712\n",
    "Name: 383, dtype: int64"
   ]
  },
  {
   "cell_type": "markdown",
   "id": "3f1a62dc",
   "metadata": {},
   "source": [
    "nombre_infected       650\n",
    "nombre_sain          2239\n",
    "nombre_exposed        399\n",
    "nombre_recovered    16712\n",
    "Name: 384, dtype: int64"
   ]
  },
  {
   "cell_type": "markdown",
   "id": "bd2b5a6a",
   "metadata": {},
   "source": [
    "nombre_infected       641\n",
    "nombre_sain          2260\n",
    "nombre_exposed        397\n",
    "nombre_recovered    16702\n",
    "Name: 385, dtype: int64"
   ]
  },
  {
   "cell_type": "markdown",
   "id": "b1f50674",
   "metadata": {},
   "source": [
    "nombre_infected       645\n",
    "nombre_sain          2272\n",
    "nombre_exposed        404\n",
    "nombre_recovered    16679\n",
    "Name: 386, dtype: int64"
   ]
  },
  {
   "cell_type": "markdown",
   "id": "6259feeb",
   "metadata": {},
   "source": [
    "nombre_infected       635\n",
    "nombre_sain          2291\n",
    "nombre_exposed        402\n",
    "nombre_recovered    16672\n",
    "Name: 387, dtype: int64"
   ]
  },
  {
   "cell_type": "markdown",
   "id": "982d5a7a",
   "metadata": {},
   "source": [
    "nombre_infected       630\n",
    "nombre_sain          2311\n",
    "nombre_exposed        409\n",
    "nombre_recovered    16650\n",
    "Name: 388, dtype: int64"
   ]
  },
  {
   "cell_type": "markdown",
   "id": "3054b21b",
   "metadata": {},
   "source": [
    "nombre_infected       630\n",
    "nombre_sain          2341\n",
    "nombre_exposed        412\n",
    "nombre_recovered    16617\n",
    "Name: 389, dtype: int64"
   ]
  },
  {
   "cell_type": "markdown",
   "id": "2956bcdd",
   "metadata": {},
   "source": [
    "nombre_infected       632\n",
    "nombre_sain          2354\n",
    "nombre_exposed        420\n",
    "nombre_recovered    16594\n",
    "Name: 390, dtype: int64"
   ]
  },
  {
   "cell_type": "markdown",
   "id": "a3682841",
   "metadata": {},
   "source": [
    "nombre_infected       617\n",
    "nombre_sain          2341\n",
    "nombre_exposed        442\n",
    "nombre_recovered    16600\n",
    "Name: 391, dtype: int64"
   ]
  },
  {
   "cell_type": "markdown",
   "id": "7d61150c",
   "metadata": {},
   "source": [
    "nombre_infected       637\n",
    "nombre_sain          2338\n",
    "nombre_exposed        453\n",
    "nombre_recovered    16572\n",
    "Name: 392, dtype: int64"
   ]
  },
  {
   "cell_type": "markdown",
   "id": "6c231884",
   "metadata": {},
   "source": [
    "nombre_infected       638\n",
    "nombre_sain          2346\n",
    "nombre_exposed        456\n",
    "nombre_recovered    16560\n",
    "Name: 393, dtype: int64"
   ]
  },
  {
   "cell_type": "markdown",
   "id": "61ae9324",
   "metadata": {},
   "source": [
    "nombre_infected       648\n",
    "nombre_sain          2367\n",
    "nombre_exposed        437\n",
    "nombre_recovered    16548\n",
    "Name: 394, dtype: int64"
   ]
  },
  {
   "cell_type": "markdown",
   "id": "efdb0aef",
   "metadata": {},
   "source": [
    "nombre_infected       668\n",
    "nombre_sain          2371\n",
    "nombre_exposed        428\n",
    "nombre_recovered    16533\n",
    "Name: 395, dtype: int64"
   ]
  },
  {
   "cell_type": "markdown",
   "id": "17921939",
   "metadata": {},
   "source": [
    "nombre_infected       665\n",
    "nombre_sain          2366\n",
    "nombre_exposed        454\n",
    "nombre_recovered    16515\n",
    "Name: 396, dtype: int64"
   ]
  },
  {
   "cell_type": "markdown",
   "id": "831f3de3",
   "metadata": {},
   "source": [
    "nombre_infected       651\n",
    "nombre_sain          2397\n",
    "nombre_exposed        461\n",
    "nombre_recovered    16491\n",
    "Name: 397, dtype: int64"
   ]
  },
  {
   "cell_type": "markdown",
   "id": "32526f03",
   "metadata": {},
   "source": [
    "nombre_infected       661\n",
    "nombre_sain          2390\n",
    "nombre_exposed        451\n",
    "nombre_recovered    16498\n",
    "Name: 398, dtype: int64"
   ]
  },
  {
   "cell_type": "markdown",
   "id": "ff2ec6f8",
   "metadata": {},
   "source": [
    "nombre_infected       672\n",
    "nombre_sain          2401\n",
    "nombre_exposed        442\n",
    "nombre_recovered    16485\n",
    "Name: 399, dtype: int64"
   ]
  },
  {
   "cell_type": "markdown",
   "id": "efa8dba7",
   "metadata": {},
   "source": [
    "nombre_infected       663\n",
    "nombre_sain          2422\n",
    "nombre_exposed        455\n",
    "nombre_recovered    16460\n",
    "Name: 400, dtype: int64"
   ]
  },
  {
   "cell_type": "markdown",
   "id": "94788599",
   "metadata": {},
   "source": [
    "nombre_infected       667\n",
    "nombre_sain          2439\n",
    "nombre_exposed        437\n",
    "nombre_recovered    16457\n",
    "Name: 401, dtype: int64"
   ]
  },
  {
   "cell_type": "markdown",
   "id": "727741dd",
   "metadata": {},
   "source": [
    "nombre_infected       669\n",
    "nombre_sain          2425\n",
    "nombre_exposed        466\n",
    "nombre_recovered    16440\n",
    "Name: 402, dtype: int64"
   ]
  },
  {
   "cell_type": "markdown",
   "id": "509b7a61",
   "metadata": {},
   "source": [
    "nombre_infected       677\n",
    "nombre_sain          2425\n",
    "nombre_exposed        456\n",
    "nombre_recovered    16442\n",
    "Name: 403, dtype: int64"
   ]
  },
  {
   "cell_type": "markdown",
   "id": "f3bdbc7a",
   "metadata": {},
   "source": [
    "nombre_infected       677\n",
    "nombre_sain          2451\n",
    "nombre_exposed        454\n",
    "nombre_recovered    16418\n",
    "Name: 404, dtype: int64"
   ]
  },
  {
   "cell_type": "markdown",
   "id": "13a0f3a3",
   "metadata": {},
   "source": [
    "nombre_infected       682\n",
    "nombre_sain          2467\n",
    "nombre_exposed        445\n",
    "nombre_recovered    16406\n",
    "Name: 405, dtype: int64"
   ]
  },
  {
   "cell_type": "markdown",
   "id": "3e682678",
   "metadata": {},
   "source": [
    "nombre_infected       695\n",
    "nombre_sain          2474\n",
    "nombre_exposed        452\n",
    "nombre_recovered    16379\n",
    "Name: 406, dtype: int64"
   ]
  },
  {
   "cell_type": "markdown",
   "id": "83838ec1",
   "metadata": {},
   "source": [
    "nombre_infected       701\n",
    "nombre_sain          2469\n",
    "nombre_exposed        452\n",
    "nombre_recovered    16378\n",
    "Name: 407, dtype: int64"
   ]
  },
  {
   "cell_type": "markdown",
   "id": "6913b9e0",
   "metadata": {},
   "source": [
    "nombre_infected       703\n",
    "nombre_sain          2460\n",
    "nombre_exposed        470\n",
    "nombre_recovered    16367\n",
    "Name: 408, dtype: int64"
   ]
  },
  {
   "cell_type": "markdown",
   "id": "365d2a5c",
   "metadata": {},
   "source": [
    "nombre_infected       695\n",
    "nombre_sain          2448\n",
    "nombre_exposed        490\n",
    "nombre_recovered    16367\n",
    "Name: 409, dtype: int64"
   ]
  },
  {
   "cell_type": "markdown",
   "id": "a59aba0b",
   "metadata": {},
   "source": [
    "nombre_infected       705\n",
    "nombre_sain          2434\n",
    "nombre_exposed        498\n",
    "nombre_recovered    16363\n",
    "Name: 410, dtype: int64"
   ]
  },
  {
   "cell_type": "markdown",
   "id": "ec1c957f",
   "metadata": {},
   "source": [
    "nombre_infected       718\n",
    "nombre_sain          2439\n",
    "nombre_exposed        486\n",
    "nombre_recovered    16357\n",
    "Name: 411, dtype: int64"
   ]
  },
  {
   "cell_type": "markdown",
   "id": "05443bbe",
   "metadata": {},
   "source": [
    "nombre_infected       736\n",
    "nombre_sain          2437\n",
    "nombre_exposed        489\n",
    "nombre_recovered    16338\n",
    "Name: 412, dtype: int64"
   ]
  },
  {
   "cell_type": "markdown",
   "id": "9081a9b5",
   "metadata": {},
   "source": [
    "nombre_infected       744\n",
    "nombre_sain          2429\n",
    "nombre_exposed        492\n",
    "nombre_recovered    16335\n",
    "Name: 413, dtype: int64"
   ]
  },
  {
   "cell_type": "markdown",
   "id": "ed02791c",
   "metadata": {},
   "source": [
    "nombre_infected       763\n",
    "nombre_sain          2408\n",
    "nombre_exposed        497\n",
    "nombre_recovered    16332\n",
    "Name: 414, dtype: int64"
   ]
  },
  {
   "cell_type": "markdown",
   "id": "df32c88f",
   "metadata": {},
   "source": [
    "nombre_infected       752\n",
    "nombre_sain          2399\n",
    "nombre_exposed        512\n",
    "nombre_recovered    16337\n",
    "Name: 415, dtype: int64"
   ]
  },
  {
   "cell_type": "markdown",
   "id": "5091bd4a",
   "metadata": {},
   "source": [
    "nombre_infected       753\n",
    "nombre_sain          2398\n",
    "nombre_exposed        529\n",
    "nombre_recovered    16320\n",
    "Name: 416, dtype: int64"
   ]
  },
  {
   "cell_type": "markdown",
   "id": "21a59732",
   "metadata": {},
   "source": [
    "nombre_infected       755\n",
    "nombre_sain          2393\n",
    "nombre_exposed        545\n",
    "nombre_recovered    16307\n",
    "Name: 417, dtype: int64"
   ]
  },
  {
   "cell_type": "markdown",
   "id": "f7cd3239",
   "metadata": {},
   "source": [
    "nombre_infected       755\n",
    "nombre_sain          2396\n",
    "nombre_exposed        562\n",
    "nombre_recovered    16287\n",
    "Name: 418, dtype: int64"
   ]
  },
  {
   "cell_type": "markdown",
   "id": "caea7a06",
   "metadata": {},
   "source": [
    "nombre_infected       776\n",
    "nombre_sain          2384\n",
    "nombre_exposed        555\n",
    "nombre_recovered    16285\n",
    "Name: 419, dtype: int64"
   ]
  },
  {
   "cell_type": "markdown",
   "id": "f5b84ca6",
   "metadata": {},
   "source": [
    "nombre_infected       794\n",
    "nombre_sain          2390\n",
    "nombre_exposed        530\n",
    "nombre_recovered    16286\n",
    "Name: 420, dtype: int64"
   ]
  },
  {
   "cell_type": "markdown",
   "id": "979e4891",
   "metadata": {},
   "source": [
    "nombre_infected       800\n",
    "nombre_sain          2378\n",
    "nombre_exposed        535\n",
    "nombre_recovered    16287\n",
    "Name: 421, dtype: int64"
   ]
  },
  {
   "cell_type": "markdown",
   "id": "e7173693",
   "metadata": {},
   "source": [
    "nombre_infected       817\n",
    "nombre_sain          2394\n",
    "nombre_exposed        525\n",
    "nombre_recovered    16264\n",
    "Name: 422, dtype: int64"
   ]
  },
  {
   "cell_type": "markdown",
   "id": "820165a8",
   "metadata": {},
   "source": [
    "nombre_infected       815\n",
    "nombre_sain          2389\n",
    "nombre_exposed        530\n",
    "nombre_recovered    16266\n",
    "Name: 423, dtype: int64"
   ]
  },
  {
   "cell_type": "markdown",
   "id": "641d40fe",
   "metadata": {},
   "source": [
    "nombre_infected       813\n",
    "nombre_sain          2395\n",
    "nombre_exposed        523\n",
    "nombre_recovered    16269\n",
    "Name: 424, dtype: int64"
   ]
  },
  {
   "cell_type": "markdown",
   "id": "38d4dfe9",
   "metadata": {},
   "source": [
    "nombre_infected       797\n",
    "nombre_sain          2392\n",
    "nombre_exposed        543\n",
    "nombre_recovered    16268\n",
    "Name: 425, dtype: int64"
   ]
  },
  {
   "cell_type": "markdown",
   "id": "f013ed24",
   "metadata": {},
   "source": [
    "nombre_infected       815\n",
    "nombre_sain          2396\n",
    "nombre_exposed        521\n",
    "nombre_recovered    16268\n",
    "Name: 426, dtype: int64"
   ]
  },
  {
   "cell_type": "markdown",
   "id": "c28d1f89",
   "metadata": {},
   "source": [
    "nombre_infected       827\n",
    "nombre_sain          2381\n",
    "nombre_exposed        538\n",
    "nombre_recovered    16254\n",
    "Name: 427, dtype: int64"
   ]
  },
  {
   "cell_type": "markdown",
   "id": "8413f53d",
   "metadata": {},
   "source": [
    "nombre_infected       801\n",
    "nombre_sain          2369\n",
    "nombre_exposed        563\n",
    "nombre_recovered    16267\n",
    "Name: 428, dtype: int64"
   ]
  },
  {
   "cell_type": "markdown",
   "id": "67576d10",
   "metadata": {},
   "source": [
    "nombre_infected       798\n",
    "nombre_sain          2382\n",
    "nombre_exposed        548\n",
    "nombre_recovered    16272\n",
    "Name: 429, dtype: int64"
   ]
  },
  {
   "cell_type": "markdown",
   "id": "5324d541",
   "metadata": {},
   "source": [
    "nombre_infected       815\n",
    "nombre_sain          2355\n",
    "nombre_exposed        552\n",
    "nombre_recovered    16278\n",
    "Name: 430, dtype: int64"
   ]
  },
  {
   "cell_type": "markdown",
   "id": "fdecf3af",
   "metadata": {},
   "source": [
    "nombre_infected       842\n",
    "nombre_sain          2335\n",
    "nombre_exposed        532\n",
    "nombre_recovered    16291\n",
    "Name: 431, dtype: int64"
   ]
  },
  {
   "cell_type": "markdown",
   "id": "4aaf6e1a",
   "metadata": {},
   "source": [
    "nombre_infected       836\n",
    "nombre_sain          2316\n",
    "nombre_exposed        547\n",
    "nombre_recovered    16301\n",
    "Name: 432, dtype: int64"
   ]
  },
  {
   "cell_type": "markdown",
   "id": "7a22bda2",
   "metadata": {},
   "source": [
    "nombre_infected       846\n",
    "nombre_sain          2307\n",
    "nombre_exposed        557\n",
    "nombre_recovered    16290\n",
    "Name: 433, dtype: int64"
   ]
  },
  {
   "cell_type": "markdown",
   "id": "7680d09d",
   "metadata": {},
   "source": [
    "nombre_infected       836\n",
    "nombre_sain          2308\n",
    "nombre_exposed        548\n",
    "nombre_recovered    16308\n",
    "Name: 434, dtype: int64"
   ]
  },
  {
   "cell_type": "markdown",
   "id": "5e158e7c",
   "metadata": {},
   "source": [
    "nombre_infected       837\n",
    "nombre_sain          2267\n",
    "nombre_exposed        566\n",
    "nombre_recovered    16330\n",
    "Name: 435, dtype: int64"
   ]
  },
  {
   "cell_type": "markdown",
   "id": "3b477c96",
   "metadata": {},
   "source": [
    "nombre_infected       852\n",
    "nombre_sain          2271\n",
    "nombre_exposed        548\n",
    "nombre_recovered    16329\n",
    "Name: 436, dtype: int64"
   ]
  },
  {
   "cell_type": "markdown",
   "id": "8fd3c358",
   "metadata": {},
   "source": [
    "nombre_infected       837\n",
    "nombre_sain          2243\n",
    "nombre_exposed        551\n",
    "nombre_recovered    16369\n",
    "Name: 437, dtype: int64"
   ]
  },
  {
   "cell_type": "markdown",
   "id": "4748b150",
   "metadata": {},
   "source": [
    "nombre_infected       836\n",
    "nombre_sain          2198\n",
    "nombre_exposed        579\n",
    "nombre_recovered    16387\n",
    "Name: 438, dtype: int64"
   ]
  },
  {
   "cell_type": "markdown",
   "id": "7eb85241",
   "metadata": {},
   "source": [
    "nombre_infected       822\n",
    "nombre_sain          2183\n",
    "nombre_exposed        569\n",
    "nombre_recovered    16426\n",
    "Name: 439, dtype: int64"
   ]
  },
  {
   "cell_type": "markdown",
   "id": "fbf0503c",
   "metadata": {},
   "source": [
    "nombre_infected       836\n",
    "nombre_sain          2181\n",
    "nombre_exposed        552\n",
    "nombre_recovered    16431\n",
    "Name: 440, dtype: int64"
   ]
  },
  {
   "cell_type": "markdown",
   "id": "ecfc8931",
   "metadata": {},
   "source": [
    "nombre_infected       843\n",
    "nombre_sain          2175\n",
    "nombre_exposed        534\n",
    "nombre_recovered    16448\n",
    "Name: 441, dtype: int64"
   ]
  },
  {
   "cell_type": "markdown",
   "id": "60bad3df",
   "metadata": {},
   "source": [
    "nombre_infected       861\n",
    "nombre_sain          2202\n",
    "nombre_exposed        528\n",
    "nombre_recovered    16409\n",
    "Name: 442, dtype: int64"
   ]
  },
  {
   "cell_type": "markdown",
   "id": "c0825c88",
   "metadata": {},
   "source": [
    "nombre_infected       850\n",
    "nombre_sain          2218\n",
    "nombre_exposed        493\n",
    "nombre_recovered    16439\n",
    "Name: 443, dtype: int64"
   ]
  },
  {
   "cell_type": "markdown",
   "id": "a719bc0b",
   "metadata": {},
   "source": [
    "nombre_infected       825\n",
    "nombre_sain          2195\n",
    "nombre_exposed        524\n",
    "nombre_recovered    16456\n",
    "Name: 444, dtype: int64"
   ]
  },
  {
   "cell_type": "markdown",
   "id": "7fe90724",
   "metadata": {},
   "source": [
    "nombre_infected       838\n",
    "nombre_sain          2178\n",
    "nombre_exposed        537\n",
    "nombre_recovered    16447\n",
    "Name: 445, dtype: int64"
   ]
  },
  {
   "cell_type": "markdown",
   "id": "032c5e3f",
   "metadata": {},
   "source": [
    "nombre_infected       836\n",
    "nombre_sain          2190\n",
    "nombre_exposed        524\n",
    "nombre_recovered    16450\n",
    "Name: 446, dtype: int64"
   ]
  },
  {
   "cell_type": "markdown",
   "id": "2d31df40",
   "metadata": {},
   "source": [
    "nombre_infected       843\n",
    "nombre_sain          2178\n",
    "nombre_exposed        535\n",
    "nombre_recovered    16444\n",
    "Name: 447, dtype: int64"
   ]
  },
  {
   "cell_type": "markdown",
   "id": "414d59fa",
   "metadata": {},
   "source": [
    "nombre_infected       823\n",
    "nombre_sain          2178\n",
    "nombre_exposed        553\n",
    "nombre_recovered    16446\n",
    "Name: 448, dtype: int64"
   ]
  },
  {
   "cell_type": "markdown",
   "id": "84086c8c",
   "metadata": {},
   "source": [
    "nombre_infected       817\n",
    "nombre_sain          2186\n",
    "nombre_exposed        536\n",
    "nombre_recovered    16461\n",
    "Name: 449, dtype: int64"
   ]
  },
  {
   "cell_type": "markdown",
   "id": "5d806b75",
   "metadata": {},
   "source": [
    "nombre_infected       833\n",
    "nombre_sain          2172\n",
    "nombre_exposed        530\n",
    "nombre_recovered    16465\n",
    "Name: 450, dtype: int64"
   ]
  },
  {
   "cell_type": "markdown",
   "id": "8dbb7920",
   "metadata": {},
   "source": [
    "nombre_infected       854\n",
    "nombre_sain          2199\n",
    "nombre_exposed        512\n",
    "nombre_recovered    16435\n",
    "Name: 451, dtype: int64"
   ]
  },
  {
   "cell_type": "markdown",
   "id": "3f1301f2",
   "metadata": {},
   "source": [
    "nombre_infected       854\n",
    "nombre_sain          2194\n",
    "nombre_exposed        523\n",
    "nombre_recovered    16429\n",
    "Name: 452, dtype: int64"
   ]
  },
  {
   "cell_type": "markdown",
   "id": "b27dd943",
   "metadata": {},
   "source": [
    "nombre_infected       826\n",
    "nombre_sain          2190\n",
    "nombre_exposed        548\n",
    "nombre_recovered    16436\n",
    "Name: 453, dtype: int64"
   ]
  },
  {
   "cell_type": "markdown",
   "id": "1070fa1d",
   "metadata": {},
   "source": [
    "nombre_infected       832\n",
    "nombre_sain          2176\n",
    "nombre_exposed        525\n",
    "nombre_recovered    16467\n",
    "Name: 454, dtype: int64"
   ]
  },
  {
   "cell_type": "markdown",
   "id": "6e42560e",
   "metadata": {},
   "source": [
    "nombre_infected       833\n",
    "nombre_sain          2162\n",
    "nombre_exposed        529\n",
    "nombre_recovered    16476\n",
    "Name: 455, dtype: int64"
   ]
  },
  {
   "cell_type": "markdown",
   "id": "6c80656f",
   "metadata": {},
   "source": [
    "nombre_infected       851\n",
    "nombre_sain          2140\n",
    "nombre_exposed        525\n",
    "nombre_recovered    16484\n",
    "Name: 456, dtype: int64"
   ]
  },
  {
   "cell_type": "markdown",
   "id": "3ff98e03",
   "metadata": {},
   "source": [
    "nombre_infected       831\n",
    "nombre_sain          2146\n",
    "nombre_exposed        523\n",
    "nombre_recovered    16500\n",
    "Name: 457, dtype: int64"
   ]
  },
  {
   "cell_type": "markdown",
   "id": "6e47ff1a",
   "metadata": {},
   "source": [
    "nombre_infected       841\n",
    "nombre_sain          2148\n",
    "nombre_exposed        515\n",
    "nombre_recovered    16496\n",
    "Name: 458, dtype: int64"
   ]
  },
  {
   "cell_type": "markdown",
   "id": "d821557d",
   "metadata": {},
   "source": [
    "nombre_infected       852\n",
    "nombre_sain          2126\n",
    "nombre_exposed        518\n",
    "nombre_recovered    16504\n",
    "Name: 459, dtype: int64"
   ]
  },
  {
   "cell_type": "markdown",
   "id": "a77ed5b7",
   "metadata": {},
   "source": [
    "nombre_infected       848\n",
    "nombre_sain          2123\n",
    "nombre_exposed        515\n",
    "nombre_recovered    16514\n",
    "Name: 460, dtype: int64"
   ]
  },
  {
   "cell_type": "markdown",
   "id": "94041845",
   "metadata": {},
   "source": [
    "nombre_infected       842\n",
    "nombre_sain          2135\n",
    "nombre_exposed        519\n",
    "nombre_recovered    16504\n",
    "Name: 461, dtype: int64"
   ]
  },
  {
   "cell_type": "markdown",
   "id": "aac90541",
   "metadata": {},
   "source": [
    "nombre_infected       827\n",
    "nombre_sain          2139\n",
    "nombre_exposed        521\n",
    "nombre_recovered    16513\n",
    "Name: 462, dtype: int64"
   ]
  },
  {
   "cell_type": "markdown",
   "id": "01f2a198",
   "metadata": {},
   "source": [
    "nombre_infected       835\n",
    "nombre_sain          2134\n",
    "nombre_exposed        504\n",
    "nombre_recovered    16527\n",
    "Name: 463, dtype: int64"
   ]
  },
  {
   "cell_type": "markdown",
   "id": "867b599b",
   "metadata": {},
   "source": [
    "nombre_infected       863\n",
    "nombre_sain          2147\n",
    "nombre_exposed        470\n",
    "nombre_recovered    16520\n",
    "Name: 464, dtype: int64"
   ]
  },
  {
   "cell_type": "markdown",
   "id": "a89cf937",
   "metadata": {},
   "source": [
    "nombre_infected       858\n",
    "nombre_sain          2132\n",
    "nombre_exposed        486\n",
    "nombre_recovered    16524\n",
    "Name: 465, dtype: int64"
   ]
  },
  {
   "cell_type": "markdown",
   "id": "f2423409",
   "metadata": {},
   "source": [
    "nombre_infected       844\n",
    "nombre_sain          2132\n",
    "nombre_exposed        490\n",
    "nombre_recovered    16534\n",
    "Name: 466, dtype: int64"
   ]
  },
  {
   "cell_type": "markdown",
   "id": "2992176a",
   "metadata": {},
   "source": [
    "nombre_infected       833\n",
    "nombre_sain          2156\n",
    "nombre_exposed        481\n",
    "nombre_recovered    16530\n",
    "Name: 467, dtype: int64"
   ]
  },
  {
   "cell_type": "markdown",
   "id": "2f961d75",
   "metadata": {},
   "source": [
    "nombre_infected       832\n",
    "nombre_sain          2180\n",
    "nombre_exposed        455\n",
    "nombre_recovered    16533\n",
    "Name: 468, dtype: int64"
   ]
  },
  {
   "cell_type": "markdown",
   "id": "7160a88c",
   "metadata": {},
   "source": [
    "nombre_infected       823\n",
    "nombre_sain          2160\n",
    "nombre_exposed        473\n",
    "nombre_recovered    16544\n",
    "Name: 469, dtype: int64"
   ]
  },
  {
   "cell_type": "markdown",
   "id": "615a5f76",
   "metadata": {},
   "source": [
    "nombre_infected       820\n",
    "nombre_sain          2148\n",
    "nombre_exposed        477\n",
    "nombre_recovered    16555\n",
    "Name: 470, dtype: int64"
   ]
  },
  {
   "cell_type": "markdown",
   "id": "9423f305",
   "metadata": {},
   "source": [
    "nombre_infected       806\n",
    "nombre_sain          2155\n",
    "nombre_exposed        494\n",
    "nombre_recovered    16545\n",
    "Name: 471, dtype: int64"
   ]
  },
  {
   "cell_type": "markdown",
   "id": "661d5dcf",
   "metadata": {},
   "source": [
    "nombre_infected       812\n",
    "nombre_sain          2154\n",
    "nombre_exposed        481\n",
    "nombre_recovered    16553\n",
    "Name: 472, dtype: int64"
   ]
  },
  {
   "cell_type": "markdown",
   "id": "dc0bfa7d",
   "metadata": {},
   "source": [
    "nombre_infected       815\n",
    "nombre_sain          2164\n",
    "nombre_exposed        466\n",
    "nombre_recovered    16555\n",
    "Name: 473, dtype: int64"
   ]
  },
  {
   "cell_type": "markdown",
   "id": "41d02f10",
   "metadata": {},
   "source": [
    "nombre_infected       812\n",
    "nombre_sain          2132\n",
    "nombre_exposed        479\n",
    "nombre_recovered    16577\n",
    "Name: 474, dtype: int64"
   ]
  },
  {
   "cell_type": "markdown",
   "id": "72883ce1",
   "metadata": {},
   "source": [
    "nombre_infected       805\n",
    "nombre_sain          2145\n",
    "nombre_exposed        474\n",
    "nombre_recovered    16576\n",
    "Name: 475, dtype: int64"
   ]
  },
  {
   "cell_type": "markdown",
   "id": "43e00534",
   "metadata": {},
   "source": [
    "nombre_infected       829\n",
    "nombre_sain          2156\n",
    "nombre_exposed        448\n",
    "nombre_recovered    16567\n",
    "Name: 476, dtype: int64"
   ]
  },
  {
   "cell_type": "markdown",
   "id": "1ba20497",
   "metadata": {},
   "source": [
    "nombre_infected       819\n",
    "nombre_sain          2160\n",
    "nombre_exposed        451\n",
    "nombre_recovered    16570\n",
    "Name: 477, dtype: int64"
   ]
  },
  {
   "cell_type": "markdown",
   "id": "a92a129f",
   "metadata": {},
   "source": [
    "nombre_infected       810\n",
    "nombre_sain          2162\n",
    "nombre_exposed        473\n",
    "nombre_recovered    16555\n",
    "Name: 478, dtype: int64"
   ]
  },
  {
   "cell_type": "markdown",
   "id": "c7fe215f",
   "metadata": {},
   "source": [
    "nombre_infected       795\n",
    "nombre_sain          2165\n",
    "nombre_exposed        481\n",
    "nombre_recovered    16559\n",
    "Name: 479, dtype: int64"
   ]
  },
  {
   "cell_type": "markdown",
   "id": "c5a12657",
   "metadata": {},
   "source": [
    "nombre_infected       796\n",
    "nombre_sain          2158\n",
    "nombre_exposed        493\n",
    "nombre_recovered    16553\n",
    "Name: 480, dtype: int64"
   ]
  },
  {
   "cell_type": "markdown",
   "id": "5413254e",
   "metadata": {},
   "source": [
    "nombre_infected       784\n",
    "nombre_sain          2152\n",
    "nombre_exposed        493\n",
    "nombre_recovered    16571\n",
    "Name: 481, dtype: int64"
   ]
  },
  {
   "cell_type": "markdown",
   "id": "f15036c5",
   "metadata": {},
   "source": [
    "nombre_infected       793\n",
    "nombre_sain          2170\n",
    "nombre_exposed        456\n",
    "nombre_recovered    16581\n",
    "Name: 482, dtype: int64"
   ]
  },
  {
   "cell_type": "markdown",
   "id": "deddda16",
   "metadata": {},
   "source": [
    "nombre_infected       796\n",
    "nombre_sain          2189\n",
    "nombre_exposed        459\n",
    "nombre_recovered    16556\n",
    "Name: 483, dtype: int64"
   ]
  },
  {
   "cell_type": "markdown",
   "id": "784f082e",
   "metadata": {},
   "source": [
    "nombre_infected       772\n",
    "nombre_sain          2205\n",
    "nombre_exposed        454\n",
    "nombre_recovered    16569\n",
    "Name: 484, dtype: int64"
   ]
  },
  {
   "cell_type": "markdown",
   "id": "44ad72c0",
   "metadata": {},
   "source": [
    "nombre_infected       787\n",
    "nombre_sain          2254\n",
    "nombre_exposed        428\n",
    "nombre_recovered    16531\n",
    "Name: 485, dtype: int64"
   ]
  },
  {
   "cell_type": "markdown",
   "id": "080a3326",
   "metadata": {},
   "source": [
    "nombre_infected       761\n",
    "nombre_sain          2259\n",
    "nombre_exposed        458\n",
    "nombre_recovered    16522\n",
    "Name: 486, dtype: int64"
   ]
  },
  {
   "cell_type": "markdown",
   "id": "41f65de7",
   "metadata": {},
   "source": [
    "nombre_infected       769\n",
    "nombre_sain          2283\n",
    "nombre_exposed        468\n",
    "nombre_recovered    16480\n",
    "Name: 487, dtype: int64"
   ]
  },
  {
   "cell_type": "markdown",
   "id": "db337c10",
   "metadata": {},
   "source": [
    "nombre_infected       787\n",
    "nombre_sain          2318\n",
    "nombre_exposed        453\n",
    "nombre_recovered    16442\n",
    "Name: 488, dtype: int64"
   ]
  },
  {
   "cell_type": "markdown",
   "id": "68fa217e",
   "metadata": {},
   "source": [
    "nombre_infected       792\n",
    "nombre_sain          2301\n",
    "nombre_exposed        464\n",
    "nombre_recovered    16443\n",
    "Name: 489, dtype: int64"
   ]
  },
  {
   "cell_type": "markdown",
   "id": "1328bebb",
   "metadata": {},
   "source": [
    "nombre_infected       768\n",
    "nombre_sain          2330\n",
    "nombre_exposed        475\n",
    "nombre_recovered    16427\n",
    "Name: 490, dtype: int64"
   ]
  },
  {
   "cell_type": "markdown",
   "id": "adab7d8d",
   "metadata": {},
   "source": [
    "nombre_infected       767\n",
    "nombre_sain          2342\n",
    "nombre_exposed        488\n",
    "nombre_recovered    16403\n",
    "Name: 491, dtype: int64"
   ]
  },
  {
   "cell_type": "markdown",
   "id": "418011e0",
   "metadata": {},
   "source": [
    "nombre_infected       767\n",
    "nombre_sain          2355\n",
    "nombre_exposed        470\n",
    "nombre_recovered    16408\n",
    "Name: 492, dtype: int64"
   ]
  },
  {
   "cell_type": "markdown",
   "id": "8bc561dc",
   "metadata": {},
   "source": [
    "nombre_infected       784\n",
    "nombre_sain          2342\n",
    "nombre_exposed        482\n",
    "nombre_recovered    16392\n",
    "Name: 493, dtype: int64"
   ]
  },
  {
   "cell_type": "markdown",
   "id": "a4453ed4",
   "metadata": {},
   "source": [
    "nombre_infected       790\n",
    "nombre_sain          2351\n",
    "nombre_exposed        486\n",
    "nombre_recovered    16373\n",
    "Name: 494, dtype: int64"
   ]
  },
  {
   "cell_type": "markdown",
   "id": "0c056f0e",
   "metadata": {},
   "source": [
    "nombre_infected       794\n",
    "nombre_sain          2353\n",
    "nombre_exposed        483\n",
    "nombre_recovered    16370\n",
    "Name: 495, dtype: int64"
   ]
  },
  {
   "cell_type": "markdown",
   "id": "f5bdfa9f",
   "metadata": {},
   "source": [
    "nombre_infected       795\n",
    "nombre_sain          2320\n",
    "nombre_exposed        508\n",
    "nombre_recovered    16377\n",
    "Name: 496, dtype: int64"
   ]
  },
  {
   "cell_type": "markdown",
   "id": "d9a4d16d",
   "metadata": {},
   "source": [
    "nombre_infected       803\n",
    "nombre_sain          2319\n",
    "nombre_exposed        515\n",
    "nombre_recovered    16363\n",
    "Name: 497, dtype: int64"
   ]
  },
  {
   "cell_type": "markdown",
   "id": "77418705",
   "metadata": {},
   "source": [
    "nombre_infected       821\n",
    "nombre_sain          2309\n",
    "nombre_exposed        502\n",
    "nombre_recovered    16368\n",
    "Name: 498, dtype: int64"
   ]
  },
  {
   "cell_type": "markdown",
   "id": "21c992a1",
   "metadata": {},
   "source": [
    "nombre_infected       840\n",
    "nombre_sain          2340\n",
    "nombre_exposed        481\n",
    "nombre_recovered    16339\n",
    "Name: 499, dtype: int64"
   ]
  },
  {
   "cell_type": "markdown",
   "id": "b27ad3e8",
   "metadata": {},
   "source": [
    "nombre_infected       850\n",
    "nombre_sain          2346\n",
    "nombre_exposed        473\n",
    "nombre_recovered    16331\n",
    "Name: 500, dtype: int64"
   ]
  },
  {
   "cell_type": "markdown",
   "id": "4cf2ae84",
   "metadata": {},
   "source": [
    "nombre_infected       816\n",
    "nombre_sain          2330\n",
    "nombre_exposed        509\n",
    "nombre_recovered    16345\n",
    "Name: 501, dtype: int64"
   ]
  },
  {
   "cell_type": "markdown",
   "id": "27375fff",
   "metadata": {},
   "source": [
    "nombre_infected       803\n",
    "nombre_sain          2343\n",
    "nombre_exposed        507\n",
    "nombre_recovered    16347\n",
    "Name: 502, dtype: int64"
   ]
  },
  {
   "cell_type": "markdown",
   "id": "f8acd0f3",
   "metadata": {},
   "source": [
    "nombre_infected       806\n",
    "nombre_sain          2355\n",
    "nombre_exposed        493\n",
    "nombre_recovered    16346\n",
    "Name: 503, dtype: int64"
   ]
  },
  {
   "cell_type": "markdown",
   "id": "a7e37f73",
   "metadata": {},
   "source": [
    "nombre_infected       823\n",
    "nombre_sain          2325\n",
    "nombre_exposed        510\n",
    "nombre_recovered    16342\n",
    "Name: 504, dtype: int64"
   ]
  },
  {
   "cell_type": "markdown",
   "id": "aaf9da65",
   "metadata": {},
   "source": [
    "nombre_infected       811\n",
    "nombre_sain          2323\n",
    "nombre_exposed        538\n",
    "nombre_recovered    16328\n",
    "Name: 505, dtype: int64"
   ]
  },
  {
   "cell_type": "markdown",
   "id": "4b2b7768",
   "metadata": {},
   "source": [
    "nombre_infected       823\n",
    "nombre_sain          2348\n",
    "nombre_exposed        517\n",
    "nombre_recovered    16312\n",
    "Name: 506, dtype: int64"
   ]
  },
  {
   "cell_type": "markdown",
   "id": "b804a731",
   "metadata": {},
   "source": [
    "nombre_infected       858\n",
    "nombre_sain          2375\n",
    "nombre_exposed        471\n",
    "nombre_recovered    16296\n",
    "Name: 507, dtype: int64"
   ]
  },
  {
   "cell_type": "markdown",
   "id": "3ef489d2",
   "metadata": {},
   "source": [
    "nombre_infected       858\n",
    "nombre_sain          2391\n",
    "nombre_exposed        480\n",
    "nombre_recovered    16271\n",
    "Name: 508, dtype: int64"
   ]
  },
  {
   "cell_type": "markdown",
   "id": "7036bf3b",
   "metadata": {},
   "source": [
    "nombre_infected       829\n",
    "nombre_sain          2394\n",
    "nombre_exposed        492\n",
    "nombre_recovered    16285\n",
    "Name: 509, dtype: int64"
   ]
  },
  {
   "cell_type": "markdown",
   "id": "6a2c0a94",
   "metadata": {},
   "source": [
    "nombre_infected       824\n",
    "nombre_sain          2416\n",
    "nombre_exposed        489\n",
    "nombre_recovered    16271\n",
    "Name: 510, dtype: int64"
   ]
  },
  {
   "cell_type": "markdown",
   "id": "2176db4d",
   "metadata": {},
   "source": [
    "nombre_infected       825\n",
    "nombre_sain          2405\n",
    "nombre_exposed        491\n",
    "nombre_recovered    16279\n",
    "Name: 511, dtype: int64"
   ]
  },
  {
   "cell_type": "markdown",
   "id": "9f2f9fc8",
   "metadata": {},
   "source": [
    "nombre_infected       818\n",
    "nombre_sain          2397\n",
    "nombre_exposed        501\n",
    "nombre_recovered    16284\n",
    "Name: 512, dtype: int64"
   ]
  },
  {
   "cell_type": "markdown",
   "id": "c891ce92",
   "metadata": {},
   "source": [
    "nombre_infected       827\n",
    "nombre_sain          2398\n",
    "nombre_exposed        501\n",
    "nombre_recovered    16274\n",
    "Name: 513, dtype: int64"
   ]
  },
  {
   "cell_type": "markdown",
   "id": "03b9c7f3",
   "metadata": {},
   "source": [
    "nombre_infected       819\n",
    "nombre_sain          2390\n",
    "nombre_exposed        525\n",
    "nombre_recovered    16266\n",
    "Name: 514, dtype: int64"
   ]
  },
  {
   "cell_type": "markdown",
   "id": "e5736754",
   "metadata": {},
   "source": [
    "nombre_infected       832\n",
    "nombre_sain          2403\n",
    "nombre_exposed        513\n",
    "nombre_recovered    16252\n",
    "Name: 515, dtype: int64"
   ]
  },
  {
   "cell_type": "markdown",
   "id": "aef58ffe",
   "metadata": {},
   "source": [
    "nombre_infected       875\n",
    "nombre_sain          2407\n",
    "nombre_exposed        508\n",
    "nombre_recovered    16210\n",
    "Name: 516, dtype: int64"
   ]
  },
  {
   "cell_type": "markdown",
   "id": "c19e65d6",
   "metadata": {},
   "source": [
    "nombre_infected       853\n",
    "nombre_sain          2418\n",
    "nombre_exposed        519\n",
    "nombre_recovered    16210\n",
    "Name: 517, dtype: int64"
   ]
  },
  {
   "cell_type": "markdown",
   "id": "862dfd8a",
   "metadata": {},
   "source": [
    "nombre_infected       839\n",
    "nombre_sain          2429\n",
    "nombre_exposed        516\n",
    "nombre_recovered    16216\n",
    "Name: 518, dtype: int64"
   ]
  },
  {
   "cell_type": "markdown",
   "id": "5884b686",
   "metadata": {},
   "source": [
    "nombre_infected       815\n",
    "nombre_sain          2403\n",
    "nombre_exposed        549\n",
    "nombre_recovered    16233\n",
    "Name: 519, dtype: int64"
   ]
  },
  {
   "cell_type": "markdown",
   "id": "f781a22e",
   "metadata": {},
   "source": [
    "nombre_infected       822\n",
    "nombre_sain          2423\n",
    "nombre_exposed        522\n",
    "nombre_recovered    16233\n",
    "Name: 520, dtype: int64"
   ]
  },
  {
   "cell_type": "markdown",
   "id": "ec22f726",
   "metadata": {},
   "source": [
    "nombre_infected       827\n",
    "nombre_sain          2421\n",
    "nombre_exposed        506\n",
    "nombre_recovered    16246\n",
    "Name: 521, dtype: int64"
   ]
  },
  {
   "cell_type": "markdown",
   "id": "d9aa137b",
   "metadata": {},
   "source": [
    "nombre_infected       821\n",
    "nombre_sain          2416\n",
    "nombre_exposed        506\n",
    "nombre_recovered    16257\n",
    "Name: 522, dtype: int64"
   ]
  },
  {
   "cell_type": "markdown",
   "id": "fd7aad7b",
   "metadata": {},
   "source": [
    "nombre_infected       829\n",
    "nombre_sain          2403\n",
    "nombre_exposed        516\n",
    "nombre_recovered    16252\n",
    "Name: 523, dtype: int64"
   ]
  },
  {
   "cell_type": "markdown",
   "id": "a5bbadc8",
   "metadata": {},
   "source": [
    "nombre_infected       816\n",
    "nombre_sain          2407\n",
    "nombre_exposed        504\n",
    "nombre_recovered    16273\n",
    "Name: 524, dtype: int64"
   ]
  },
  {
   "cell_type": "markdown",
   "id": "f5eeacb9",
   "metadata": {},
   "source": [
    "nombre_infected       812\n",
    "nombre_sain          2380\n",
    "nombre_exposed        515\n",
    "nombre_recovered    16293\n",
    "Name: 525, dtype: int64"
   ]
  },
  {
   "cell_type": "markdown",
   "id": "b8187c52",
   "metadata": {},
   "source": [
    "nombre_infected       795\n",
    "nombre_sain          2349\n",
    "nombre_exposed        542\n",
    "nombre_recovered    16314\n",
    "Name: 526, dtype: int64"
   ]
  },
  {
   "cell_type": "markdown",
   "id": "6abb9c7a",
   "metadata": {},
   "source": [
    "nombre_infected       825\n",
    "nombre_sain          2326\n",
    "nombre_exposed        528\n",
    "nombre_recovered    16321\n",
    "Name: 527, dtype: int64"
   ]
  },
  {
   "cell_type": "markdown",
   "id": "623af771",
   "metadata": {},
   "source": [
    "nombre_infected       834\n",
    "nombre_sain          2340\n",
    "nombre_exposed        504\n",
    "nombre_recovered    16322\n",
    "Name: 528, dtype: int64"
   ]
  },
  {
   "cell_type": "markdown",
   "id": "21169dea",
   "metadata": {},
   "source": [
    "nombre_infected       832\n",
    "nombre_sain          2334\n",
    "nombre_exposed        511\n",
    "nombre_recovered    16323\n",
    "Name: 529, dtype: int64"
   ]
  },
  {
   "cell_type": "markdown",
   "id": "41292964",
   "metadata": {},
   "source": [
    "nombre_infected       823\n",
    "nombre_sain          2367\n",
    "nombre_exposed        470\n",
    "nombre_recovered    16340\n",
    "Name: 530, dtype: int64"
   ]
  },
  {
   "cell_type": "markdown",
   "id": "4d958a60",
   "metadata": {},
   "source": [
    "nombre_infected       816\n",
    "nombre_sain          2347\n",
    "nombre_exposed        488\n",
    "nombre_recovered    16349\n",
    "Name: 531, dtype: int64"
   ]
  },
  {
   "cell_type": "markdown",
   "id": "0e89456a",
   "metadata": {},
   "source": [
    "nombre_infected       805\n",
    "nombre_sain          2329\n",
    "nombre_exposed        507\n",
    "nombre_recovered    16359\n",
    "Name: 532, dtype: int64"
   ]
  },
  {
   "cell_type": "markdown",
   "id": "cc570e0f",
   "metadata": {},
   "source": [
    "nombre_infected       797\n",
    "nombre_sain          2356\n",
    "nombre_exposed        490\n",
    "nombre_recovered    16357\n",
    "Name: 533, dtype: int64"
   ]
  },
  {
   "cell_type": "markdown",
   "id": "f93c52e2",
   "metadata": {},
   "source": [
    "nombre_infected       790\n",
    "nombre_sain          2356\n",
    "nombre_exposed        487\n",
    "nombre_recovered    16367\n",
    "Name: 534, dtype: int64"
   ]
  },
  {
   "cell_type": "markdown",
   "id": "9bdd773f",
   "metadata": {},
   "source": [
    "nombre_infected       780\n",
    "nombre_sain          2363\n",
    "nombre_exposed        472\n",
    "nombre_recovered    16385\n",
    "Name: 535, dtype: int64"
   ]
  },
  {
   "cell_type": "markdown",
   "id": "f7a38087",
   "metadata": {},
   "source": [
    "nombre_infected       780\n",
    "nombre_sain          2345\n",
    "nombre_exposed        471\n",
    "nombre_recovered    16404\n",
    "Name: 536, dtype: int64"
   ]
  },
  {
   "cell_type": "markdown",
   "id": "6331a6c4",
   "metadata": {},
   "source": [
    "nombre_infected       771\n",
    "nombre_sain          2344\n",
    "nombre_exposed        471\n",
    "nombre_recovered    16414\n",
    "Name: 537, dtype: int64"
   ]
  },
  {
   "cell_type": "markdown",
   "id": "f9b89b76",
   "metadata": {},
   "source": [
    "nombre_infected       760\n",
    "nombre_sain          2332\n",
    "nombre_exposed        480\n",
    "nombre_recovered    16428\n",
    "Name: 538, dtype: int64"
   ]
  },
  {
   "cell_type": "markdown",
   "id": "5ae3f5f9",
   "metadata": {},
   "source": [
    "nombre_infected       759\n",
    "nombre_sain          2309\n",
    "nombre_exposed        486\n",
    "nombre_recovered    16446\n",
    "Name: 539, dtype: int64"
   ]
  },
  {
   "cell_type": "markdown",
   "id": "26ed6050",
   "metadata": {},
   "source": [
    "nombre_infected       758\n",
    "nombre_sain          2337\n",
    "nombre_exposed        464\n",
    "nombre_recovered    16441\n",
    "Name: 540, dtype: int64"
   ]
  },
  {
   "cell_type": "markdown",
   "id": "f91f2d7e",
   "metadata": {},
   "source": [
    "nombre_infected       763\n",
    "nombre_sain          2342\n",
    "nombre_exposed        441\n",
    "nombre_recovered    16454\n",
    "Name: 541, dtype: int64"
   ]
  },
  {
   "cell_type": "markdown",
   "id": "024f0e12",
   "metadata": {},
   "source": [
    "nombre_infected       769\n",
    "nombre_sain          2345\n",
    "nombre_exposed        440\n",
    "nombre_recovered    16446\n",
    "Name: 542, dtype: int64"
   ]
  },
  {
   "cell_type": "markdown",
   "id": "fb45aa6c",
   "metadata": {},
   "source": [
    "nombre_infected       779\n",
    "nombre_sain          2328\n",
    "nombre_exposed        443\n",
    "nombre_recovered    16450\n",
    "Name: 543, dtype: int64"
   ]
  },
  {
   "cell_type": "markdown",
   "id": "20f9622f",
   "metadata": {},
   "source": [
    "nombre_infected       741\n",
    "nombre_sain          2325\n",
    "nombre_exposed        450\n",
    "nombre_recovered    16484\n",
    "Name: 544, dtype: int64"
   ]
  },
  {
   "cell_type": "markdown",
   "id": "fe8b9764",
   "metadata": {},
   "source": [
    "nombre_infected       753\n",
    "nombre_sain          2321\n",
    "nombre_exposed        446\n",
    "nombre_recovered    16480\n",
    "Name: 545, dtype: int64"
   ]
  },
  {
   "cell_type": "markdown",
   "id": "b6119a76",
   "metadata": {},
   "source": [
    "nombre_infected       742\n",
    "nombre_sain          2337\n",
    "nombre_exposed        462\n",
    "nombre_recovered    16459\n",
    "Name: 546, dtype: int64"
   ]
  },
  {
   "cell_type": "markdown",
   "id": "2c87ef89",
   "metadata": {},
   "source": [
    "nombre_infected       730\n",
    "nombre_sain          2332\n",
    "nombre_exposed        468\n",
    "nombre_recovered    16470\n",
    "Name: 547, dtype: int64"
   ]
  },
  {
   "cell_type": "markdown",
   "id": "c217d42c",
   "metadata": {},
   "source": [
    "nombre_infected       711\n",
    "nombre_sain          2339\n",
    "nombre_exposed        469\n",
    "nombre_recovered    16481\n",
    "Name: 548, dtype: int64"
   ]
  },
  {
   "cell_type": "markdown",
   "id": "f80d5a75",
   "metadata": {},
   "source": [
    "nombre_infected       713\n",
    "nombre_sain          2377\n",
    "nombre_exposed        453\n",
    "nombre_recovered    16457\n",
    "Name: 549, dtype: int64"
   ]
  },
  {
   "cell_type": "markdown",
   "id": "e2913483",
   "metadata": {},
   "source": [
    "nombre_infected       716\n",
    "nombre_sain          2382\n",
    "nombre_exposed        453\n",
    "nombre_recovered    16449\n",
    "Name: 550, dtype: int64"
   ]
  },
  {
   "cell_type": "markdown",
   "id": "858b179f",
   "metadata": {},
   "source": [
    "nombre_infected       700\n",
    "nombre_sain          2421\n",
    "nombre_exposed        458\n",
    "nombre_recovered    16421\n",
    "Name: 551, dtype: int64"
   ]
  },
  {
   "cell_type": "markdown",
   "id": "bd7bae9e",
   "metadata": {},
   "source": [
    "nombre_infected       705\n",
    "nombre_sain          2432\n",
    "nombre_exposed        449\n",
    "nombre_recovered    16414\n",
    "Name: 552, dtype: int64"
   ]
  },
  {
   "cell_type": "markdown",
   "id": "ac2ce4b7",
   "metadata": {},
   "source": [
    "nombre_infected       694\n",
    "nombre_sain          2426\n",
    "nombre_exposed        456\n",
    "nombre_recovered    16424\n",
    "Name: 553, dtype: int64"
   ]
  },
  {
   "cell_type": "markdown",
   "id": "488474b2",
   "metadata": {},
   "source": [
    "nombre_infected       705\n",
    "nombre_sain          2441\n",
    "nombre_exposed        439\n",
    "nombre_recovered    16415\n",
    "Name: 554, dtype: int64"
   ]
  },
  {
   "cell_type": "markdown",
   "id": "c3282de2",
   "metadata": {},
   "source": [
    "nombre_infected       709\n",
    "nombre_sain          2461\n",
    "nombre_exposed        437\n",
    "nombre_recovered    16393\n",
    "Name: 555, dtype: int64"
   ]
  },
  {
   "cell_type": "markdown",
   "id": "31dcd274",
   "metadata": {},
   "source": [
    "nombre_infected       703\n",
    "nombre_sain          2463\n",
    "nombre_exposed        444\n",
    "nombre_recovered    16390\n",
    "Name: 556, dtype: int64"
   ]
  },
  {
   "cell_type": "markdown",
   "id": "49693b06",
   "metadata": {},
   "source": [
    "nombre_infected       707\n",
    "nombre_sain          2444\n",
    "nombre_exposed        464\n",
    "nombre_recovered    16385\n",
    "Name: 557, dtype: int64"
   ]
  },
  {
   "cell_type": "markdown",
   "id": "2c97ceab",
   "metadata": {},
   "source": [
    "nombre_infected       718\n",
    "nombre_sain          2436\n",
    "nombre_exposed        479\n",
    "nombre_recovered    16367\n",
    "Name: 558, dtype: int64"
   ]
  },
  {
   "cell_type": "markdown",
   "id": "ebbf4725",
   "metadata": {},
   "source": [
    "nombre_infected       720\n",
    "nombre_sain          2420\n",
    "nombre_exposed        457\n",
    "nombre_recovered    16403\n",
    "Name: 559, dtype: int64"
   ]
  },
  {
   "cell_type": "markdown",
   "id": "e9b8644a",
   "metadata": {},
   "source": [
    "nombre_infected       717\n",
    "nombre_sain          2433\n",
    "nombre_exposed        454\n",
    "nombre_recovered    16396\n",
    "Name: 560, dtype: int64"
   ]
  },
  {
   "cell_type": "markdown",
   "id": "77dda6fc",
   "metadata": {},
   "source": [
    "nombre_infected       710\n",
    "nombre_sain          2419\n",
    "nombre_exposed        459\n",
    "nombre_recovered    16412\n",
    "Name: 561, dtype: int64"
   ]
  },
  {
   "cell_type": "markdown",
   "id": "f6dd5a2a",
   "metadata": {},
   "source": [
    "nombre_infected       691\n",
    "nombre_sain          2414\n",
    "nombre_exposed        463\n",
    "nombre_recovered    16432\n",
    "Name: 562, dtype: int64"
   ]
  },
  {
   "cell_type": "markdown",
   "id": "e9de9b71",
   "metadata": {},
   "source": [
    "nombre_infected       703\n",
    "nombre_sain          2415\n",
    "nombre_exposed        462\n",
    "nombre_recovered    16420\n",
    "Name: 563, dtype: int64"
   ]
  },
  {
   "cell_type": "markdown",
   "id": "06ad956c",
   "metadata": {},
   "source": [
    "nombre_infected       723\n",
    "nombre_sain          2418\n",
    "nombre_exposed        455\n",
    "nombre_recovered    16404\n",
    "Name: 564, dtype: int64"
   ]
  },
  {
   "cell_type": "markdown",
   "id": "ada8f1ef",
   "metadata": {},
   "source": [
    "nombre_infected       737\n",
    "nombre_sain          2424\n",
    "nombre_exposed        443\n",
    "nombre_recovered    16396\n",
    "Name: 565, dtype: int64"
   ]
  },
  {
   "cell_type": "markdown",
   "id": "d2c41448",
   "metadata": {},
   "source": [
    "nombre_infected       717\n",
    "nombre_sain          2417\n",
    "nombre_exposed        469\n",
    "nombre_recovered    16397\n",
    "Name: 566, dtype: int64"
   ]
  },
  {
   "cell_type": "markdown",
   "id": "1dbd8432",
   "metadata": {},
   "source": [
    "nombre_infected       715\n",
    "nombre_sain          2386\n",
    "nombre_exposed        483\n",
    "nombre_recovered    16416\n",
    "Name: 567, dtype: int64"
   ]
  },
  {
   "cell_type": "markdown",
   "id": "c18b6046",
   "metadata": {},
   "source": [
    "nombre_infected       696\n",
    "nombre_sain          2391\n",
    "nombre_exposed        488\n",
    "nombre_recovered    16425\n",
    "Name: 568, dtype: int64"
   ]
  },
  {
   "cell_type": "markdown",
   "id": "e9f50d5a",
   "metadata": {},
   "source": [
    "nombre_infected       714\n",
    "nombre_sain          2387\n",
    "nombre_exposed        466\n",
    "nombre_recovered    16433\n",
    "Name: 569, dtype: int64"
   ]
  },
  {
   "cell_type": "markdown",
   "id": "1e39e586",
   "metadata": {},
   "source": [
    "nombre_infected       697\n",
    "nombre_sain          2375\n",
    "nombre_exposed        482\n",
    "nombre_recovered    16446\n",
    "Name: 570, dtype: int64"
   ]
  },
  {
   "cell_type": "markdown",
   "id": "717871fe",
   "metadata": {},
   "source": [
    "nombre_infected       685\n",
    "nombre_sain          2380\n",
    "nombre_exposed        485\n",
    "nombre_recovered    16450\n",
    "Name: 571, dtype: int64"
   ]
  },
  {
   "cell_type": "markdown",
   "id": "a7e4bade",
   "metadata": {},
   "source": [
    "nombre_infected       713\n",
    "nombre_sain          2375\n",
    "nombre_exposed        462\n",
    "nombre_recovered    16450\n",
    "Name: 572, dtype: int64"
   ]
  },
  {
   "cell_type": "markdown",
   "id": "55f6a99b",
   "metadata": {},
   "source": [
    "nombre_infected       723\n",
    "nombre_sain          2361\n",
    "nombre_exposed        458\n",
    "nombre_recovered    16458\n",
    "Name: 573, dtype: int64"
   ]
  },
  {
   "cell_type": "markdown",
   "id": "f730b5f7",
   "metadata": {},
   "source": [
    "nombre_infected       693\n",
    "nombre_sain          2372\n",
    "nombre_exposed        459\n",
    "nombre_recovered    16476\n",
    "Name: 574, dtype: int64"
   ]
  },
  {
   "cell_type": "markdown",
   "id": "ff8fc9bf",
   "metadata": {},
   "source": [
    "nombre_infected       713\n",
    "nombre_sain          2345\n",
    "nombre_exposed        467\n",
    "nombre_recovered    16475\n",
    "Name: 575, dtype: int64"
   ]
  },
  {
   "cell_type": "markdown",
   "id": "fe538ed0",
   "metadata": {},
   "source": [
    "nombre_infected       716\n",
    "nombre_sain          2341\n",
    "nombre_exposed        472\n",
    "nombre_recovered    16471\n",
    "Name: 576, dtype: int64"
   ]
  },
  {
   "cell_type": "markdown",
   "id": "bf688672",
   "metadata": {},
   "source": [
    "nombre_infected       746\n",
    "nombre_sain          2353\n",
    "nombre_exposed        465\n",
    "nombre_recovered    16436\n",
    "Name: 577, dtype: int64"
   ]
  },
  {
   "cell_type": "markdown",
   "id": "0f0a2244",
   "metadata": {},
   "source": [
    "nombre_infected       759\n",
    "nombre_sain          2351\n",
    "nombre_exposed        466\n",
    "nombre_recovered    16424\n",
    "Name: 578, dtype: int64"
   ]
  },
  {
   "cell_type": "markdown",
   "id": "8b6e5e62",
   "metadata": {},
   "source": [
    "nombre_infected       742\n",
    "nombre_sain          2351\n",
    "nombre_exposed        491\n",
    "nombre_recovered    16416\n",
    "Name: 579, dtype: int64"
   ]
  },
  {
   "cell_type": "markdown",
   "id": "a75d7956",
   "metadata": {},
   "source": [
    "nombre_infected       712\n",
    "nombre_sain          2345\n",
    "nombre_exposed        506\n",
    "nombre_recovered    16437\n",
    "Name: 580, dtype: int64"
   ]
  },
  {
   "cell_type": "markdown",
   "id": "3f4cbade",
   "metadata": {},
   "source": [
    "nombre_infected       698\n",
    "nombre_sain          2351\n",
    "nombre_exposed        508\n",
    "nombre_recovered    16443\n",
    "Name: 581, dtype: int64"
   ]
  },
  {
   "cell_type": "markdown",
   "id": "1f00d088",
   "metadata": {},
   "source": [
    "nombre_infected       720\n",
    "nombre_sain          2343\n",
    "nombre_exposed        519\n",
    "nombre_recovered    16418\n",
    "Name: 582, dtype: int64"
   ]
  },
  {
   "cell_type": "markdown",
   "id": "36eb3d39",
   "metadata": {},
   "source": [
    "nombre_infected       725\n",
    "nombre_sain          2366\n",
    "nombre_exposed        498\n",
    "nombre_recovered    16411\n",
    "Name: 583, dtype: int64"
   ]
  },
  {
   "cell_type": "markdown",
   "id": "099cdb41",
   "metadata": {},
   "source": [
    "nombre_infected       744\n",
    "nombre_sain          2354\n",
    "nombre_exposed        493\n",
    "nombre_recovered    16409\n",
    "Name: 584, dtype: int64"
   ]
  },
  {
   "cell_type": "markdown",
   "id": "3a624d16",
   "metadata": {},
   "source": [
    "nombre_infected       749\n",
    "nombre_sain          2343\n",
    "nombre_exposed        510\n",
    "nombre_recovered    16398\n",
    "Name: 585, dtype: int64"
   ]
  },
  {
   "cell_type": "markdown",
   "id": "3015aa3f",
   "metadata": {},
   "source": [
    "nombre_infected       753\n",
    "nombre_sain          2367\n",
    "nombre_exposed        520\n",
    "nombre_recovered    16360\n",
    "Name: 586, dtype: int64"
   ]
  },
  {
   "cell_type": "markdown",
   "id": "9a4b07e2",
   "metadata": {},
   "source": [
    "nombre_infected       772\n",
    "nombre_sain          2347\n",
    "nombre_exposed        526\n",
    "nombre_recovered    16355\n",
    "Name: 587, dtype: int64"
   ]
  },
  {
   "cell_type": "markdown",
   "id": "914c7745",
   "metadata": {},
   "source": [
    "nombre_infected       787\n",
    "nombre_sain          2329\n",
    "nombre_exposed        526\n",
    "nombre_recovered    16358\n",
    "Name: 588, dtype: int64"
   ]
  },
  {
   "cell_type": "markdown",
   "id": "1129a46c",
   "metadata": {},
   "source": [
    "nombre_infected       771\n",
    "nombre_sain          2307\n",
    "nombre_exposed        549\n",
    "nombre_recovered    16373\n",
    "Name: 589, dtype: int64"
   ]
  },
  {
   "cell_type": "markdown",
   "id": "b261af04",
   "metadata": {},
   "source": [
    "nombre_infected       770\n",
    "nombre_sain          2300\n",
    "nombre_exposed        552\n",
    "nombre_recovered    16378\n",
    "Name: 590, dtype: int64"
   ]
  },
  {
   "cell_type": "markdown",
   "id": "58515cbe",
   "metadata": {},
   "source": [
    "nombre_infected       773\n",
    "nombre_sain          2319\n",
    "nombre_exposed        538\n",
    "nombre_recovered    16370\n",
    "Name: 591, dtype: int64"
   ]
  },
  {
   "cell_type": "markdown",
   "id": "0f4033ca",
   "metadata": {},
   "source": [
    "nombre_infected       775\n",
    "nombre_sain          2330\n",
    "nombre_exposed        523\n",
    "nombre_recovered    16372\n",
    "Name: 592, dtype: int64"
   ]
  },
  {
   "cell_type": "markdown",
   "id": "34e85ec0",
   "metadata": {},
   "source": [
    "nombre_infected       773\n",
    "nombre_sain          2348\n",
    "nombre_exposed        503\n",
    "nombre_recovered    16376\n",
    "Name: 593, dtype: int64"
   ]
  },
  {
   "cell_type": "markdown",
   "id": "a5a02f58",
   "metadata": {},
   "source": [
    "nombre_infected       781\n",
    "nombre_sain          2354\n",
    "nombre_exposed        512\n",
    "nombre_recovered    16353\n",
    "Name: 594, dtype: int64"
   ]
  },
  {
   "cell_type": "markdown",
   "id": "d82a8ab3",
   "metadata": {},
   "source": [
    "nombre_infected       782\n",
    "nombre_sain          2373\n",
    "nombre_exposed        517\n",
    "nombre_recovered    16328\n",
    "Name: 595, dtype: int64"
   ]
  },
  {
   "cell_type": "markdown",
   "id": "10088b2b",
   "metadata": {},
   "source": [
    "nombre_infected       776\n",
    "nombre_sain          2389\n",
    "nombre_exposed        534\n",
    "nombre_recovered    16301\n",
    "Name: 596, dtype: int64"
   ]
  },
  {
   "cell_type": "markdown",
   "id": "093b4e8e",
   "metadata": {},
   "source": [
    "nombre_infected       773\n",
    "nombre_sain          2385\n",
    "nombre_exposed        560\n",
    "nombre_recovered    16282\n",
    "Name: 597, dtype: int64"
   ]
  },
  {
   "cell_type": "markdown",
   "id": "5f3696e6",
   "metadata": {},
   "source": [
    "nombre_infected       780\n",
    "nombre_sain          2395\n",
    "nombre_exposed        561\n",
    "nombre_recovered    16264\n",
    "Name: 598, dtype: int64"
   ]
  },
  {
   "cell_type": "markdown",
   "id": "06a4d7a4",
   "metadata": {},
   "source": [
    "nombre_infected       784\n",
    "nombre_sain          2419\n",
    "nombre_exposed        540\n",
    "nombre_recovered    16257\n",
    "Name: 599, dtype: int64"
   ]
  },
  {
   "cell_type": "markdown",
   "id": "433fe68c",
   "metadata": {},
   "source": [
    "nombre_infected       797\n",
    "nombre_sain          2439\n",
    "nombre_exposed        541\n",
    "nombre_recovered    16223\n",
    "Name: 600, dtype: int64"
   ]
  },
  {
   "cell_type": "markdown",
   "id": "a7ab8ad4",
   "metadata": {},
   "source": [
    "nombre_infected       810\n",
    "nombre_sain          2455\n",
    "nombre_exposed        528\n",
    "nombre_recovered    16207\n",
    "Name: 601, dtype: int64"
   ]
  },
  {
   "cell_type": "markdown",
   "id": "2ae18fb1",
   "metadata": {},
   "source": [
    "nombre_infected       825\n",
    "nombre_sain          2467\n",
    "nombre_exposed        523\n",
    "nombre_recovered    16185\n",
    "Name: 602, dtype: int64"
   ]
  },
  {
   "cell_type": "markdown",
   "id": "d8eaccb3",
   "metadata": {},
   "source": [
    "nombre_infected       813\n",
    "nombre_sain          2475\n",
    "nombre_exposed        544\n",
    "nombre_recovered    16168\n",
    "Name: 603, dtype: int64"
   ]
  },
  {
   "cell_type": "markdown",
   "id": "90a6f1da",
   "metadata": {},
   "source": [
    "nombre_infected       805\n",
    "nombre_sain          2467\n",
    "nombre_exposed        553\n",
    "nombre_recovered    16175\n",
    "Name: 604, dtype: int64"
   ]
  },
  {
   "cell_type": "markdown",
   "id": "de9ab906",
   "metadata": {},
   "source": [
    "nombre_infected       820\n",
    "nombre_sain          2430\n",
    "nombre_exposed        570\n",
    "nombre_recovered    16180\n",
    "Name: 605, dtype: int64"
   ]
  },
  {
   "cell_type": "markdown",
   "id": "d3bb5964",
   "metadata": {},
   "source": [
    "nombre_infected       815\n",
    "nombre_sain          2398\n",
    "nombre_exposed        587\n",
    "nombre_recovered    16200\n",
    "Name: 606, dtype: int64"
   ]
  },
  {
   "cell_type": "markdown",
   "id": "3e199005",
   "metadata": {},
   "source": [
    "nombre_infected       820\n",
    "nombre_sain          2398\n",
    "nombre_exposed        577\n",
    "nombre_recovered    16205\n",
    "Name: 607, dtype: int64"
   ]
  },
  {
   "cell_type": "markdown",
   "id": "1e0b23ea",
   "metadata": {},
   "source": [
    "nombre_infected       861\n",
    "nombre_sain          2412\n",
    "nombre_exposed        536\n",
    "nombre_recovered    16191\n",
    "Name: 608, dtype: int64"
   ]
  },
  {
   "cell_type": "markdown",
   "id": "cefbdf29",
   "metadata": {},
   "source": [
    "nombre_infected       863\n",
    "nombre_sain          2400\n",
    "nombre_exposed        546\n",
    "nombre_recovered    16191\n",
    "Name: 609, dtype: int64"
   ]
  },
  {
   "cell_type": "markdown",
   "id": "ca9d1f37",
   "metadata": {},
   "source": [
    "nombre_infected       878\n",
    "nombre_sain          2388\n",
    "nombre_exposed        542\n",
    "nombre_recovered    16192\n",
    "Name: 610, dtype: int64"
   ]
  },
  {
   "cell_type": "markdown",
   "id": "d3bceb5a",
   "metadata": {},
   "source": [
    "nombre_infected       869\n",
    "nombre_sain          2378\n",
    "nombre_exposed        551\n",
    "nombre_recovered    16202\n",
    "Name: 611, dtype: int64"
   ]
  },
  {
   "cell_type": "markdown",
   "id": "7ea0416b",
   "metadata": {},
   "source": [
    "nombre_infected       876\n",
    "nombre_sain          2357\n",
    "nombre_exposed        567\n",
    "nombre_recovered    16200\n",
    "Name: 612, dtype: int64"
   ]
  },
  {
   "cell_type": "markdown",
   "id": "3c20f582",
   "metadata": {},
   "source": [
    "nombre_infected       865\n",
    "nombre_sain          2354\n",
    "nombre_exposed        572\n",
    "nombre_recovered    16209\n",
    "Name: 613, dtype: int64"
   ]
  },
  {
   "cell_type": "markdown",
   "id": "98c9db9d",
   "metadata": {},
   "source": [
    "nombre_infected       878\n",
    "nombre_sain          2331\n",
    "nombre_exposed        565\n",
    "nombre_recovered    16226\n",
    "Name: 614, dtype: int64"
   ]
  },
  {
   "cell_type": "markdown",
   "id": "021fe7d7",
   "metadata": {},
   "source": [
    "nombre_infected       879\n",
    "nombre_sain          2295\n",
    "nombre_exposed        584\n",
    "nombre_recovered    16242\n",
    "Name: 615, dtype: int64"
   ]
  },
  {
   "cell_type": "markdown",
   "id": "b207cdd7",
   "metadata": {},
   "source": [
    "nombre_infected       862\n",
    "nombre_sain          2283\n",
    "nombre_exposed        583\n",
    "nombre_recovered    16272\n",
    "Name: 616, dtype: int64"
   ]
  },
  {
   "cell_type": "markdown",
   "id": "346c8d91",
   "metadata": {},
   "source": [
    "nombre_infected       854\n",
    "nombre_sain          2233\n",
    "nombre_exposed        583\n",
    "nombre_recovered    16330\n",
    "Name: 617, dtype: int64"
   ]
  },
  {
   "cell_type": "markdown",
   "id": "8ba879b5",
   "metadata": {},
   "source": [
    "nombre_infected       871\n",
    "nombre_sain          2225\n",
    "nombre_exposed        584\n",
    "nombre_recovered    16320\n",
    "Name: 618, dtype: int64"
   ]
  },
  {
   "cell_type": "markdown",
   "id": "73059877",
   "metadata": {},
   "source": [
    "nombre_infected       866\n",
    "nombre_sain          2227\n",
    "nombre_exposed        560\n",
    "nombre_recovered    16347\n",
    "Name: 619, dtype: int64"
   ]
  },
  {
   "cell_type": "markdown",
   "id": "780e00a6",
   "metadata": {},
   "source": [
    "nombre_infected       882\n",
    "nombre_sain          2248\n",
    "nombre_exposed        533\n",
    "nombre_recovered    16337\n",
    "Name: 620, dtype: int64"
   ]
  },
  {
   "cell_type": "markdown",
   "id": "5f21e268",
   "metadata": {},
   "source": [
    "nombre_infected       892\n",
    "nombre_sain          2234\n",
    "nombre_exposed        526\n",
    "nombre_recovered    16348\n",
    "Name: 621, dtype: int64"
   ]
  },
  {
   "cell_type": "markdown",
   "id": "83ebabad",
   "metadata": {},
   "source": [
    "nombre_infected       880\n",
    "nombre_sain          2226\n",
    "nombre_exposed        538\n",
    "nombre_recovered    16356\n",
    "Name: 622, dtype: int64"
   ]
  },
  {
   "cell_type": "markdown",
   "id": "f772810a",
   "metadata": {},
   "source": [
    "nombre_infected       876\n",
    "nombre_sain          2197\n",
    "nombre_exposed        560\n",
    "nombre_recovered    16367\n",
    "Name: 623, dtype: int64"
   ]
  },
  {
   "cell_type": "markdown",
   "id": "1d50bfde",
   "metadata": {},
   "source": [
    "nombre_infected       863\n",
    "nombre_sain          2192\n",
    "nombre_exposed        559\n",
    "nombre_recovered    16386\n",
    "Name: 624, dtype: int64"
   ]
  },
  {
   "cell_type": "markdown",
   "id": "f6efe72d",
   "metadata": {},
   "source": [
    "nombre_infected       857\n",
    "nombre_sain          2198\n",
    "nombre_exposed        554\n",
    "nombre_recovered    16391\n",
    "Name: 625, dtype: int64"
   ]
  },
  {
   "cell_type": "markdown",
   "id": "a18065de",
   "metadata": {},
   "source": [
    "nombre_infected       836\n",
    "nombre_sain          2182\n",
    "nombre_exposed        580\n",
    "nombre_recovered    16402\n",
    "Name: 626, dtype: int64"
   ]
  },
  {
   "cell_type": "markdown",
   "id": "bf7870ee",
   "metadata": {},
   "source": [
    "nombre_infected       813\n",
    "nombre_sain          2197\n",
    "nombre_exposed        590\n",
    "nombre_recovered    16400\n",
    "Name: 627, dtype: int64"
   ]
  },
  {
   "cell_type": "markdown",
   "id": "50be8386",
   "metadata": {},
   "source": [
    "nombre_infected       822\n",
    "nombre_sain          2224\n",
    "nombre_exposed        581\n",
    "nombre_recovered    16373\n",
    "Name: 628, dtype: int64"
   ]
  },
  {
   "cell_type": "markdown",
   "id": "cc1523e9",
   "metadata": {},
   "source": [
    "nombre_infected       849\n",
    "nombre_sain          2238\n",
    "nombre_exposed        563\n",
    "nombre_recovered    16350\n",
    "Name: 629, dtype: int64"
   ]
  },
  {
   "cell_type": "markdown",
   "id": "c8305ee5",
   "metadata": {},
   "source": [
    "nombre_infected       861\n",
    "nombre_sain          2247\n",
    "nombre_exposed        573\n",
    "nombre_recovered    16319\n",
    "Name: 630, dtype: int64"
   ]
  },
  {
   "cell_type": "markdown",
   "id": "c6d436a5",
   "metadata": {},
   "source": [
    "nombre_infected       858\n",
    "nombre_sain          2219\n",
    "nombre_exposed        602\n",
    "nombre_recovered    16321\n",
    "Name: 631, dtype: int64"
   ]
  },
  {
   "cell_type": "markdown",
   "id": "d893d8a2",
   "metadata": {},
   "source": [
    "nombre_infected       852\n",
    "nombre_sain          2227\n",
    "nombre_exposed        587\n",
    "nombre_recovered    16334\n",
    "Name: 632, dtype: int64"
   ]
  },
  {
   "cell_type": "markdown",
   "id": "371cb7ea",
   "metadata": {},
   "source": [
    "nombre_infected       872\n",
    "nombre_sain          2237\n",
    "nombre_exposed        575\n",
    "nombre_recovered    16316\n",
    "Name: 633, dtype: int64"
   ]
  },
  {
   "cell_type": "markdown",
   "id": "4962a197",
   "metadata": {},
   "source": [
    "nombre_infected       866\n",
    "nombre_sain          2239\n",
    "nombre_exposed        568\n",
    "nombre_recovered    16327\n",
    "Name: 634, dtype: int64"
   ]
  },
  {
   "cell_type": "markdown",
   "id": "82160a85",
   "metadata": {},
   "source": [
    "nombre_infected       862\n",
    "nombre_sain          2240\n",
    "nombre_exposed        579\n",
    "nombre_recovered    16319\n",
    "Name: 635, dtype: int64"
   ]
  },
  {
   "cell_type": "markdown",
   "id": "eedb62a8",
   "metadata": {},
   "source": [
    "nombre_infected       890\n",
    "nombre_sain          2255\n",
    "nombre_exposed        582\n",
    "nombre_recovered    16273\n",
    "Name: 636, dtype: int64"
   ]
  },
  {
   "cell_type": "markdown",
   "id": "b4cf66b9",
   "metadata": {},
   "source": [
    "nombre_infected       899\n",
    "nombre_sain          2273\n",
    "nombre_exposed        583\n",
    "nombre_recovered    16245\n",
    "Name: 637, dtype: int64"
   ]
  },
  {
   "cell_type": "markdown",
   "id": "8c3c0d74",
   "metadata": {},
   "source": [
    "nombre_infected       893\n",
    "nombre_sain          2240\n",
    "nombre_exposed        591\n",
    "nombre_recovered    16276\n",
    "Name: 638, dtype: int64"
   ]
  },
  {
   "cell_type": "markdown",
   "id": "3463e74d",
   "metadata": {},
   "source": [
    "nombre_infected       892\n",
    "nombre_sain          2257\n",
    "nombre_exposed        583\n",
    "nombre_recovered    16268\n",
    "Name: 639, dtype: int64"
   ]
  },
  {
   "cell_type": "markdown",
   "id": "ec0bf736",
   "metadata": {},
   "source": [
    "nombre_infected       910\n",
    "nombre_sain          2244\n",
    "nombre_exposed        583\n",
    "nombre_recovered    16263\n",
    "Name: 640, dtype: int64"
   ]
  },
  {
   "cell_type": "markdown",
   "id": "62759ab5",
   "metadata": {},
   "source": [
    "nombre_infected       911\n",
    "nombre_sain          2262\n",
    "nombre_exposed        584\n",
    "nombre_recovered    16243\n",
    "Name: 641, dtype: int64"
   ]
  },
  {
   "cell_type": "markdown",
   "id": "e3898aa1",
   "metadata": {},
   "source": [
    "nombre_infected       947\n",
    "nombre_sain          2257\n",
    "nombre_exposed        589\n",
    "nombre_recovered    16207\n",
    "Name: 642, dtype: int64"
   ]
  },
  {
   "cell_type": "markdown",
   "id": "c6dd85ad",
   "metadata": {},
   "source": [
    "nombre_infected       947\n",
    "nombre_sain          2242\n",
    "nombre_exposed        585\n",
    "nombre_recovered    16226\n",
    "Name: 643, dtype: int64"
   ]
  },
  {
   "cell_type": "markdown",
   "id": "277e8904",
   "metadata": {},
   "source": [
    "nombre_infected       958\n",
    "nombre_sain          2225\n",
    "nombre_exposed        599\n",
    "nombre_recovered    16218\n",
    "Name: 644, dtype: int64"
   ]
  },
  {
   "cell_type": "markdown",
   "id": "4e9258b5",
   "metadata": {},
   "source": [
    "nombre_infected       945\n",
    "nombre_sain          2218\n",
    "nombre_exposed        582\n",
    "nombre_recovered    16255\n",
    "Name: 645, dtype: int64"
   ]
  },
  {
   "cell_type": "markdown",
   "id": "0c01ba6c",
   "metadata": {},
   "source": [
    "nombre_infected       951\n",
    "nombre_sain          2207\n",
    "nombre_exposed        584\n",
    "nombre_recovered    16258\n",
    "Name: 646, dtype: int64"
   ]
  },
  {
   "cell_type": "markdown",
   "id": "036def10",
   "metadata": {},
   "source": [
    "nombre_infected       942\n",
    "nombre_sain          2194\n",
    "nombre_exposed        598\n",
    "nombre_recovered    16266\n",
    "Name: 647, dtype: int64"
   ]
  },
  {
   "cell_type": "markdown",
   "id": "88c40257",
   "metadata": {},
   "source": [
    "nombre_infected       952\n",
    "nombre_sain          2174\n",
    "nombre_exposed        609\n",
    "nombre_recovered    16265\n",
    "Name: 648, dtype: int64"
   ]
  },
  {
   "cell_type": "markdown",
   "id": "cbe0c307",
   "metadata": {},
   "source": [
    "nombre_infected       961\n",
    "nombre_sain          2180\n",
    "nombre_exposed        606\n",
    "nombre_recovered    16253\n",
    "Name: 649, dtype: int64"
   ]
  },
  {
   "cell_type": "markdown",
   "id": "a31c9891",
   "metadata": {},
   "source": [
    "nombre_infected       966\n",
    "nombre_sain          2159\n",
    "nombre_exposed        595\n",
    "nombre_recovered    16280\n",
    "Name: 650, dtype: int64"
   ]
  },
  {
   "cell_type": "markdown",
   "id": "264a4a3e",
   "metadata": {},
   "source": [
    "nombre_infected       992\n",
    "nombre_sain          2140\n",
    "nombre_exposed        580\n",
    "nombre_recovered    16288\n",
    "Name: 651, dtype: int64"
   ]
  },
  {
   "cell_type": "markdown",
   "id": "919d7f6d",
   "metadata": {},
   "source": [
    "nombre_infected       981\n",
    "nombre_sain          2121\n",
    "nombre_exposed        600\n",
    "nombre_recovered    16298\n",
    "Name: 652, dtype: int64"
   ]
  },
  {
   "cell_type": "markdown",
   "id": "0e14ccc6",
   "metadata": {},
   "source": [
    "nombre_infected       987\n",
    "nombre_sain          2124\n",
    "nombre_exposed        577\n",
    "nombre_recovered    16312\n",
    "Name: 653, dtype: int64"
   ]
  },
  {
   "cell_type": "markdown",
   "id": "e6875154",
   "metadata": {},
   "source": [
    "nombre_infected      1011\n",
    "nombre_sain          2130\n",
    "nombre_exposed        538\n",
    "nombre_recovered    16321\n",
    "Name: 654, dtype: int64"
   ]
  },
  {
   "cell_type": "markdown",
   "id": "19583a8d",
   "metadata": {},
   "source": [
    "nombre_infected      1004\n",
    "nombre_sain          2129\n",
    "nombre_exposed        533\n",
    "nombre_recovered    16334\n",
    "Name: 655, dtype: int64"
   ]
  },
  {
   "cell_type": "markdown",
   "id": "c42ce952",
   "metadata": {},
   "source": [
    "nombre_infected       981\n",
    "nombre_sain          2120\n",
    "nombre_exposed        557\n",
    "nombre_recovered    16342\n",
    "Name: 656, dtype: int64"
   ]
  },
  {
   "cell_type": "markdown",
   "id": "a7f491fb",
   "metadata": {},
   "source": [
    "nombre_infected       957\n",
    "nombre_sain          2106\n",
    "nombre_exposed        573\n",
    "nombre_recovered    16364\n",
    "Name: 657, dtype: int64"
   ]
  },
  {
   "cell_type": "markdown",
   "id": "5e9562db",
   "metadata": {},
   "source": [
    "nombre_infected       943\n",
    "nombre_sain          2089\n",
    "nombre_exposed        575\n",
    "nombre_recovered    16393\n",
    "Name: 658, dtype: int64"
   ]
  },
  {
   "cell_type": "markdown",
   "id": "cad9c11f",
   "metadata": {},
   "source": [
    "nombre_infected       961\n",
    "nombre_sain          2085\n",
    "nombre_exposed        557\n",
    "nombre_recovered    16397\n",
    "Name: 659, dtype: int64"
   ]
  },
  {
   "cell_type": "markdown",
   "id": "50786cc2",
   "metadata": {},
   "source": [
    "nombre_infected       952\n",
    "nombre_sain          2071\n",
    "nombre_exposed        539\n",
    "nombre_recovered    16438\n",
    "Name: 660, dtype: int64"
   ]
  },
  {
   "cell_type": "markdown",
   "id": "f09fa2a7",
   "metadata": {},
   "source": [
    "nombre_infected       937\n",
    "nombre_sain          2061\n",
    "nombre_exposed        544\n",
    "nombre_recovered    16458\n",
    "Name: 661, dtype: int64"
   ]
  },
  {
   "cell_type": "markdown",
   "id": "a7c1bf93",
   "metadata": {},
   "source": [
    "nombre_infected       922\n",
    "nombre_sain          2070\n",
    "nombre_exposed        538\n",
    "nombre_recovered    16470\n",
    "Name: 662, dtype: int64"
   ]
  },
  {
   "cell_type": "markdown",
   "id": "daa182bc",
   "metadata": {},
   "source": [
    "nombre_infected       944\n",
    "nombre_sain          2073\n",
    "nombre_exposed        520\n",
    "nombre_recovered    16463\n",
    "Name: 663, dtype: int64"
   ]
  },
  {
   "cell_type": "markdown",
   "id": "e2b432a1",
   "metadata": {},
   "source": [
    "nombre_infected       935\n",
    "nombre_sain          2080\n",
    "nombre_exposed        514\n",
    "nombre_recovered    16471\n",
    "Name: 664, dtype: int64"
   ]
  },
  {
   "cell_type": "markdown",
   "id": "48036ac9",
   "metadata": {},
   "source": [
    "nombre_infected       929\n",
    "nombre_sain          2069\n",
    "nombre_exposed        500\n",
    "nombre_recovered    16502\n",
    "Name: 665, dtype: int64"
   ]
  },
  {
   "cell_type": "markdown",
   "id": "a47546aa",
   "metadata": {},
   "source": [
    "nombre_infected       895\n",
    "nombre_sain          2092\n",
    "nombre_exposed        513\n",
    "nombre_recovered    16500\n",
    "Name: 666, dtype: int64"
   ]
  },
  {
   "cell_type": "markdown",
   "id": "a331d7ed",
   "metadata": {},
   "source": [
    "nombre_infected       901\n",
    "nombre_sain          2089\n",
    "nombre_exposed        501\n",
    "nombre_recovered    16509\n",
    "Name: 667, dtype: int64"
   ]
  },
  {
   "cell_type": "markdown",
   "id": "1c2e411f",
   "metadata": {},
   "source": [
    "nombre_infected       914\n",
    "nombre_sain          2085\n",
    "nombre_exposed        501\n",
    "nombre_recovered    16500\n",
    "Name: 668, dtype: int64"
   ]
  },
  {
   "cell_type": "markdown",
   "id": "96cfb20d",
   "metadata": {},
   "source": [
    "nombre_infected       912\n",
    "nombre_sain          2087\n",
    "nombre_exposed        495\n",
    "nombre_recovered    16506\n",
    "Name: 669, dtype: int64"
   ]
  },
  {
   "cell_type": "markdown",
   "id": "ba7cb5a1",
   "metadata": {},
   "source": [
    "nombre_infected       876\n",
    "nombre_sain          2094\n",
    "nombre_exposed        509\n",
    "nombre_recovered    16521\n",
    "Name: 670, dtype: int64"
   ]
  },
  {
   "cell_type": "markdown",
   "id": "acef2edc",
   "metadata": {},
   "source": [
    "nombre_infected       876\n",
    "nombre_sain          2129\n",
    "nombre_exposed        513\n",
    "nombre_recovered    16482\n",
    "Name: 671, dtype: int64"
   ]
  },
  {
   "cell_type": "markdown",
   "id": "eaf7558b",
   "metadata": {},
   "source": [
    "nombre_infected       850\n",
    "nombre_sain          2135\n",
    "nombre_exposed        508\n",
    "nombre_recovered    16507\n",
    "Name: 672, dtype: int64"
   ]
  },
  {
   "cell_type": "markdown",
   "id": "c1588bba",
   "metadata": {},
   "source": [
    "nombre_infected       851\n",
    "nombre_sain          2129\n",
    "nombre_exposed        490\n",
    "nombre_recovered    16530\n",
    "Name: 673, dtype: int64"
   ]
  },
  {
   "cell_type": "markdown",
   "id": "648fa201",
   "metadata": {},
   "source": [
    "nombre_infected       860\n",
    "nombre_sain          2138\n",
    "nombre_exposed        481\n",
    "nombre_recovered    16521\n",
    "Name: 674, dtype: int64"
   ]
  },
  {
   "cell_type": "markdown",
   "id": "6d5c5772",
   "metadata": {},
   "source": [
    "nombre_infected       838\n",
    "nombre_sain          2156\n",
    "nombre_exposed        495\n",
    "nombre_recovered    16511\n",
    "Name: 675, dtype: int64"
   ]
  },
  {
   "cell_type": "markdown",
   "id": "f792d4d2",
   "metadata": {},
   "source": [
    "nombre_infected       844\n",
    "nombre_sain          2148\n",
    "nombre_exposed        506\n",
    "nombre_recovered    16502\n",
    "Name: 676, dtype: int64"
   ]
  },
  {
   "cell_type": "markdown",
   "id": "dc0787f8",
   "metadata": {},
   "source": [
    "nombre_infected       866\n",
    "nombre_sain          2149\n",
    "nombre_exposed        505\n",
    "nombre_recovered    16480\n",
    "Name: 677, dtype: int64"
   ]
  },
  {
   "cell_type": "markdown",
   "id": "ed9718f5",
   "metadata": {},
   "source": [
    "nombre_infected       858\n",
    "nombre_sain          2145\n",
    "nombre_exposed        516\n",
    "nombre_recovered    16481\n",
    "Name: 678, dtype: int64"
   ]
  },
  {
   "cell_type": "markdown",
   "id": "b54fe632",
   "metadata": {},
   "source": [
    "nombre_infected       868\n",
    "nombre_sain          2138\n",
    "nombre_exposed        502\n",
    "nombre_recovered    16492\n",
    "Name: 679, dtype: int64"
   ]
  },
  {
   "cell_type": "markdown",
   "id": "0bf84148",
   "metadata": {},
   "source": [
    "nombre_infected       865\n",
    "nombre_sain          2157\n",
    "nombre_exposed        491\n",
    "nombre_recovered    16487\n",
    "Name: 680, dtype: int64"
   ]
  },
  {
   "cell_type": "markdown",
   "id": "e90d6d92",
   "metadata": {},
   "source": [
    "nombre_infected       862\n",
    "nombre_sain          2168\n",
    "nombre_exposed        494\n",
    "nombre_recovered    16476\n",
    "Name: 681, dtype: int64"
   ]
  },
  {
   "cell_type": "markdown",
   "id": "e683298f",
   "metadata": {},
   "source": [
    "nombre_infected       859\n",
    "nombre_sain          2177\n",
    "nombre_exposed        488\n",
    "nombre_recovered    16476\n",
    "Name: 682, dtype: int64"
   ]
  },
  {
   "cell_type": "markdown",
   "id": "a4c8afe1",
   "metadata": {},
   "source": [
    "nombre_infected       851\n",
    "nombre_sain          2180\n",
    "nombre_exposed        514\n",
    "nombre_recovered    16455\n",
    "Name: 683, dtype: int64"
   ]
  },
  {
   "cell_type": "markdown",
   "id": "d598d010",
   "metadata": {},
   "source": [
    "nombre_infected       845\n",
    "nombre_sain          2209\n",
    "nombre_exposed        505\n",
    "nombre_recovered    16441\n",
    "Name: 684, dtype: int64"
   ]
  },
  {
   "cell_type": "markdown",
   "id": "7669255f",
   "metadata": {},
   "source": [
    "nombre_infected       853\n",
    "nombre_sain          2177\n",
    "nombre_exposed        497\n",
    "nombre_recovered    16473\n",
    "Name: 685, dtype: int64"
   ]
  },
  {
   "cell_type": "markdown",
   "id": "79bb9ccb",
   "metadata": {},
   "source": [
    "nombre_infected       850\n",
    "nombre_sain          2174\n",
    "nombre_exposed        484\n",
    "nombre_recovered    16492\n",
    "Name: 686, dtype: int64"
   ]
  },
  {
   "cell_type": "markdown",
   "id": "e22e07c4",
   "metadata": {},
   "source": [
    "nombre_infected       853\n",
    "nombre_sain          2184\n",
    "nombre_exposed        476\n",
    "nombre_recovered    16487\n",
    "Name: 687, dtype: int64"
   ]
  },
  {
   "cell_type": "markdown",
   "id": "7c10d9c6",
   "metadata": {},
   "source": [
    "nombre_infected       825\n",
    "nombre_sain          2172\n",
    "nombre_exposed        478\n",
    "nombre_recovered    16525\n",
    "Name: 688, dtype: int64"
   ]
  },
  {
   "cell_type": "markdown",
   "id": "75d72068",
   "metadata": {},
   "source": [
    "nombre_infected       810\n",
    "nombre_sain          2163\n",
    "nombre_exposed        477\n",
    "nombre_recovered    16550\n",
    "Name: 689, dtype: int64"
   ]
  },
  {
   "cell_type": "markdown",
   "id": "6aa5980e",
   "metadata": {},
   "source": [
    "nombre_infected       796\n",
    "nombre_sain          2151\n",
    "nombre_exposed        488\n",
    "nombre_recovered    16565\n",
    "Name: 690, dtype: int64"
   ]
  },
  {
   "cell_type": "markdown",
   "id": "5b8ac891",
   "metadata": {},
   "source": [
    "nombre_infected       817\n",
    "nombre_sain          2183\n",
    "nombre_exposed        453\n",
    "nombre_recovered    16547\n",
    "Name: 691, dtype: int64"
   ]
  },
  {
   "cell_type": "markdown",
   "id": "c6a6a813",
   "metadata": {},
   "source": [
    "nombre_infected       806\n",
    "nombre_sain          2205\n",
    "nombre_exposed        461\n",
    "nombre_recovered    16528\n",
    "Name: 692, dtype: int64"
   ]
  },
  {
   "cell_type": "markdown",
   "id": "b7bd38d0",
   "metadata": {},
   "source": [
    "nombre_infected       792\n",
    "nombre_sain          2228\n",
    "nombre_exposed        476\n",
    "nombre_recovered    16504\n",
    "Name: 693, dtype: int64"
   ]
  },
  {
   "cell_type": "markdown",
   "id": "faa6edeb",
   "metadata": {},
   "source": [
    "nombre_infected       778\n",
    "nombre_sain          2254\n",
    "nombre_exposed        470\n",
    "nombre_recovered    16498\n",
    "Name: 694, dtype: int64"
   ]
  },
  {
   "cell_type": "markdown",
   "id": "f4f0d277",
   "metadata": {},
   "source": [
    "nombre_infected       763\n",
    "nombre_sain          2269\n",
    "nombre_exposed        470\n",
    "nombre_recovered    16498\n",
    "Name: 695, dtype: int64"
   ]
  },
  {
   "cell_type": "markdown",
   "id": "f9be0432",
   "metadata": {},
   "source": [
    "nombre_infected       744\n",
    "nombre_sain          2265\n",
    "nombre_exposed        489\n",
    "nombre_recovered    16502\n",
    "Name: 696, dtype: int64"
   ]
  },
  {
   "cell_type": "markdown",
   "id": "9945c5d8",
   "metadata": {},
   "source": [
    "nombre_infected       787\n",
    "nombre_sain          2280\n",
    "nombre_exposed        458\n",
    "nombre_recovered    16475\n",
    "Name: 697, dtype: int64"
   ]
  },
  {
   "cell_type": "markdown",
   "id": "6fcdc09a",
   "metadata": {},
   "source": [
    "nombre_infected       801\n",
    "nombre_sain          2275\n",
    "nombre_exposed        466\n",
    "nombre_recovered    16458\n",
    "Name: 698, dtype: int64"
   ]
  },
  {
   "cell_type": "markdown",
   "id": "35879f14",
   "metadata": {},
   "source": [
    "nombre_infected       766\n",
    "nombre_sain          2294\n",
    "nombre_exposed        470\n",
    "nombre_recovered    16470\n",
    "Name: 699, dtype: int64"
   ]
  },
  {
   "cell_type": "markdown",
   "id": "2d1cae81",
   "metadata": {},
   "source": [
    "nombre_infected       757\n",
    "nombre_sain          2303\n",
    "nombre_exposed        467\n",
    "nombre_recovered    16473\n",
    "Name: 700, dtype: int64"
   ]
  },
  {
   "cell_type": "markdown",
   "id": "f2af3324",
   "metadata": {},
   "source": [
    "nombre_infected       767\n",
    "nombre_sain          2308\n",
    "nombre_exposed        459\n",
    "nombre_recovered    16466\n",
    "Name: 701, dtype: int64"
   ]
  },
  {
   "cell_type": "markdown",
   "id": "60de1ab8",
   "metadata": {},
   "source": [
    "nombre_infected       763\n",
    "nombre_sain          2318\n",
    "nombre_exposed        449\n",
    "nombre_recovered    16470\n",
    "Name: 702, dtype: int64"
   ]
  },
  {
   "cell_type": "markdown",
   "id": "2f3873f2",
   "metadata": {},
   "source": [
    "nombre_infected       758\n",
    "nombre_sain          2334\n",
    "nombre_exposed        455\n",
    "nombre_recovered    16453\n",
    "Name: 703, dtype: int64"
   ]
  },
  {
   "cell_type": "markdown",
   "id": "7ea1fd81",
   "metadata": {},
   "source": [
    "nombre_infected       756\n",
    "nombre_sain          2353\n",
    "nombre_exposed        459\n",
    "nombre_recovered    16432\n",
    "Name: 704, dtype: int64"
   ]
  },
  {
   "cell_type": "markdown",
   "id": "b7005378",
   "metadata": {},
   "source": [
    "nombre_infected       759\n",
    "nombre_sain          2357\n",
    "nombre_exposed        460\n",
    "nombre_recovered    16424\n",
    "Name: 705, dtype: int64"
   ]
  },
  {
   "cell_type": "markdown",
   "id": "a95020e8",
   "metadata": {},
   "source": [
    "nombre_infected       755\n",
    "nombre_sain          2352\n",
    "nombre_exposed        476\n",
    "nombre_recovered    16417\n",
    "Name: 706, dtype: int64"
   ]
  },
  {
   "cell_type": "markdown",
   "id": "780133df",
   "metadata": {},
   "source": [
    "nombre_infected       736\n",
    "nombre_sain          2377\n",
    "nombre_exposed        465\n",
    "nombre_recovered    16422\n",
    "Name: 707, dtype: int64"
   ]
  },
  {
   "cell_type": "markdown",
   "id": "53208669",
   "metadata": {},
   "source": [
    "nombre_infected       739\n",
    "nombre_sain          2375\n",
    "nombre_exposed        455\n",
    "nombre_recovered    16431\n",
    "Name: 708, dtype: int64"
   ]
  },
  {
   "cell_type": "markdown",
   "id": "45c7179c",
   "metadata": {},
   "source": [
    "nombre_infected       728\n",
    "nombre_sain          2355\n",
    "nombre_exposed        478\n",
    "nombre_recovered    16439\n",
    "Name: 709, dtype: int64"
   ]
  },
  {
   "cell_type": "markdown",
   "id": "c1ce0f5c",
   "metadata": {},
   "source": [
    "nombre_infected       727\n",
    "nombre_sain          2370\n",
    "nombre_exposed        478\n",
    "nombre_recovered    16425\n",
    "Name: 710, dtype: int64"
   ]
  },
  {
   "cell_type": "markdown",
   "id": "f84b0ce5",
   "metadata": {},
   "source": [
    "nombre_infected       741\n",
    "nombre_sain          2367\n",
    "nombre_exposed        475\n",
    "nombre_recovered    16417\n",
    "Name: 711, dtype: int64"
   ]
  },
  {
   "cell_type": "markdown",
   "id": "4befcbf8",
   "metadata": {},
   "source": [
    "nombre_infected       752\n",
    "nombre_sain          2362\n",
    "nombre_exposed        493\n",
    "nombre_recovered    16393\n",
    "Name: 712, dtype: int64"
   ]
  },
  {
   "cell_type": "markdown",
   "id": "544a4020",
   "metadata": {},
   "source": [
    "nombre_infected       759\n",
    "nombre_sain          2362\n",
    "nombre_exposed        494\n",
    "nombre_recovered    16385\n",
    "Name: 713, dtype: int64"
   ]
  },
  {
   "cell_type": "markdown",
   "id": "8c0a0873",
   "metadata": {},
   "source": [
    "nombre_infected       755\n",
    "nombre_sain          2374\n",
    "nombre_exposed        508\n",
    "nombre_recovered    16363\n",
    "Name: 714, dtype: int64"
   ]
  },
  {
   "cell_type": "markdown",
   "id": "094010f5",
   "metadata": {},
   "source": [
    "nombre_infected       755\n",
    "nombre_sain          2355\n",
    "nombre_exposed        514\n",
    "nombre_recovered    16376\n",
    "Name: 715, dtype: int64"
   ]
  },
  {
   "cell_type": "markdown",
   "id": "fafd5398",
   "metadata": {},
   "source": [
    "nombre_infected       756\n",
    "nombre_sain          2360\n",
    "nombre_exposed        492\n",
    "nombre_recovered    16392\n",
    "Name: 716, dtype: int64"
   ]
  },
  {
   "cell_type": "markdown",
   "id": "bd279cc6",
   "metadata": {},
   "source": [
    "nombre_infected       776\n",
    "nombre_sain          2366\n",
    "nombre_exposed        472\n",
    "nombre_recovered    16386\n",
    "Name: 717, dtype: int64"
   ]
  },
  {
   "cell_type": "markdown",
   "id": "92a4a17b",
   "metadata": {},
   "source": [
    "nombre_infected       758\n",
    "nombre_sain          2334\n",
    "nombre_exposed        500\n",
    "nombre_recovered    16408\n",
    "Name: 718, dtype: int64"
   ]
  },
  {
   "cell_type": "markdown",
   "id": "d3aa7616",
   "metadata": {},
   "source": [
    "nombre_infected       768\n",
    "nombre_sain          2327\n",
    "nombre_exposed        494\n",
    "nombre_recovered    16411\n",
    "Name: 719, dtype: int64"
   ]
  },
  {
   "cell_type": "markdown",
   "id": "9cd43efb",
   "metadata": {},
   "source": [
    "nombre_infected       772\n",
    "nombre_sain          2337\n",
    "nombre_exposed        477\n",
    "nombre_recovered    16414\n",
    "Name: 720, dtype: int64"
   ]
  },
  {
   "cell_type": "markdown",
   "id": "bf99f89c",
   "metadata": {},
   "source": [
    "nombre_infected       759\n",
    "nombre_sain          2324\n",
    "nombre_exposed        475\n",
    "nombre_recovered    16442\n",
    "Name: 721, dtype: int64"
   ]
  },
  {
   "cell_type": "markdown",
   "id": "1e5f7d1e",
   "metadata": {},
   "source": [
    "nombre_infected       759\n",
    "nombre_sain          2312\n",
    "nombre_exposed        473\n",
    "nombre_recovered    16456\n",
    "Name: 722, dtype: int64"
   ]
  },
  {
   "cell_type": "markdown",
   "id": "3088daa9",
   "metadata": {},
   "source": [
    "nombre_infected       755\n",
    "nombre_sain          2313\n",
    "nombre_exposed        479\n",
    "nombre_recovered    16453\n",
    "Name: 723, dtype: int64"
   ]
  },
  {
   "cell_type": "markdown",
   "id": "db68a203",
   "metadata": {},
   "source": [
    "nombre_infected       742\n",
    "nombre_sain          2311\n",
    "nombre_exposed        473\n",
    "nombre_recovered    16474\n",
    "Name: 724, dtype: int64"
   ]
  },
  {
   "cell_type": "markdown",
   "id": "e699aa0b",
   "metadata": {},
   "source": [
    "nombre_infected       756\n",
    "nombre_sain          2299\n",
    "nombre_exposed        476\n",
    "nombre_recovered    16469\n",
    "Name: 725, dtype: int64"
   ]
  },
  {
   "cell_type": "markdown",
   "id": "c4c2930b",
   "metadata": {},
   "source": [
    "nombre_infected       761\n",
    "nombre_sain          2296\n",
    "nombre_exposed        462\n",
    "nombre_recovered    16481\n",
    "Name: 726, dtype: int64"
   ]
  },
  {
   "cell_type": "markdown",
   "id": "e3042143",
   "metadata": {},
   "source": [
    "nombre_infected       752\n",
    "nombre_sain          2293\n",
    "nombre_exposed        482\n",
    "nombre_recovered    16473\n",
    "Name: 727, dtype: int64"
   ]
  },
  {
   "cell_type": "markdown",
   "id": "a8bcdc02",
   "metadata": {},
   "source": [
    "nombre_infected       731\n",
    "nombre_sain          2272\n",
    "nombre_exposed        484\n",
    "nombre_recovered    16513\n",
    "Name: 728, dtype: int64"
   ]
  },
  {
   "cell_type": "markdown",
   "id": "a2d9b3ec",
   "metadata": {},
   "source": [
    "nombre_infected       735\n",
    "nombre_sain          2284\n",
    "nombre_exposed        478\n",
    "nombre_recovered    16503\n",
    "Name: 729, dtype: int64"
   ]
  },
  {
   "cell_type": "markdown",
   "id": "039aaf45",
   "metadata": {},
   "source": [
    "nombre_infected       749\n",
    "nombre_sain          2312\n",
    "nombre_exposed        463\n",
    "nombre_recovered    16476\n",
    "Name: 730, dtype: int64"
   ]
  }
 ],
 "metadata": {},
 "nbformat": 4,
 "nbformat_minor": 5
}
