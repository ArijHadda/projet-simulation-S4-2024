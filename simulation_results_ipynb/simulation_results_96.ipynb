{
 "cells": [
  {
   "cell_type": "markdown",
   "id": "ae3ff85a",
   "metadata": {},
   "source": [
    "nombre_infected        20\n",
    "nombre_sain         19980\n",
    "nombre_exposed          0\n",
    "nombre_recovered        0\n",
    "Name: 0, dtype: int64"
   ]
  },
  {
   "cell_type": "markdown",
   "id": "fc8ff4f7",
   "metadata": {},
   "source": [
    "nombre_infected        20\n",
    "nombre_sain         19968\n",
    "nombre_exposed         12\n",
    "nombre_recovered        0\n",
    "Name: 1, dtype: int64"
   ]
  },
  {
   "cell_type": "markdown",
   "id": "a099f0e1",
   "metadata": {},
   "source": [
    "nombre_infected        20\n",
    "nombre_sain         19948\n",
    "nombre_exposed         32\n",
    "nombre_recovered        0\n",
    "Name: 2, dtype: int64"
   ]
  },
  {
   "cell_type": "markdown",
   "id": "1512c3cf",
   "metadata": {},
   "source": [
    "nombre_infected         2\n",
    "nombre_sain         19932\n",
    "nombre_exposed         46\n",
    "nombre_recovered       20\n",
    "Name: 3, dtype: int64"
   ]
  },
  {
   "cell_type": "markdown",
   "id": "e325535d",
   "metadata": {},
   "source": [
    "nombre_infected         8\n",
    "nombre_sain         19920\n",
    "nombre_exposed         52\n",
    "nombre_recovered       20\n",
    "Name: 4, dtype: int64"
   ]
  },
  {
   "cell_type": "markdown",
   "id": "4925c70b",
   "metadata": {},
   "source": [
    "nombre_infected        19\n",
    "nombre_sain         19908\n",
    "nombre_exposed         53\n",
    "nombre_recovered       20\n",
    "Name: 5, dtype: int64"
   ]
  },
  {
   "cell_type": "markdown",
   "id": "1cc231c7",
   "metadata": {},
   "source": [
    "nombre_infected        34\n",
    "nombre_sain         19876\n",
    "nombre_exposed         70\n",
    "nombre_recovered       20\n",
    "Name: 6, dtype: int64"
   ]
  },
  {
   "cell_type": "markdown",
   "id": "830743f3",
   "metadata": {},
   "source": [
    "nombre_infected        44\n",
    "nombre_sain         19836\n",
    "nombre_exposed        100\n",
    "nombre_recovered       20\n",
    "Name: 7, dtype: int64"
   ]
  },
  {
   "cell_type": "markdown",
   "id": "0bd5908f",
   "metadata": {},
   "source": [
    "nombre_infected        56\n",
    "nombre_sain         19785\n",
    "nombre_exposed        133\n",
    "nombre_recovered       26\n",
    "Name: 8, dtype: int64"
   ]
  },
  {
   "cell_type": "markdown",
   "id": "5b3975eb",
   "metadata": {},
   "source": [
    "nombre_infected        67\n",
    "nombre_sain         19701\n",
    "nombre_exposed        199\n",
    "nombre_recovered       33\n",
    "Name: 9, dtype: int64"
   ]
  },
  {
   "cell_type": "markdown",
   "id": "1034fb81",
   "metadata": {},
   "source": [
    "nombre_infected        87\n",
    "nombre_sain         19602\n",
    "nombre_exposed        269\n",
    "nombre_recovered       42\n",
    "Name: 10, dtype: int64"
   ]
  },
  {
   "cell_type": "markdown",
   "id": "9bea1a41",
   "metadata": {},
   "source": [
    "nombre_infected       124\n",
    "nombre_sain         19488\n",
    "nombre_exposed        340\n",
    "nombre_recovered       48\n",
    "Name: 11, dtype: int64"
   ]
  },
  {
   "cell_type": "markdown",
   "id": "d5874848",
   "metadata": {},
   "source": [
    "nombre_infected       169\n",
    "nombre_sain         19321\n",
    "nombre_exposed        453\n",
    "nombre_recovered       57\n",
    "Name: 12, dtype: int64"
   ]
  },
  {
   "cell_type": "markdown",
   "id": "44bd77e3",
   "metadata": {},
   "source": [
    "nombre_infected       213\n",
    "nombre_sain         19080\n",
    "nombre_exposed        633\n",
    "nombre_recovered       74\n",
    "Name: 13, dtype: int64"
   ]
  },
  {
   "cell_type": "markdown",
   "id": "7e2ff272",
   "metadata": {},
   "source": [
    "nombre_infected       303\n",
    "nombre_sain         18819\n",
    "nombre_exposed        785\n",
    "nombre_recovered       93\n",
    "Name: 14, dtype: int64"
   ]
  },
  {
   "cell_type": "markdown",
   "id": "a1c8ef45",
   "metadata": {},
   "source": [
    "nombre_infected       388\n",
    "nombre_sain         18438\n",
    "nombre_exposed       1049\n",
    "nombre_recovered      125\n",
    "Name: 15, dtype: int64"
   ]
  },
  {
   "cell_type": "markdown",
   "id": "1d5f527d",
   "metadata": {},
   "source": [
    "nombre_infected       538\n",
    "nombre_sain         17895\n",
    "nombre_exposed       1412\n",
    "nombre_recovered      155\n",
    "Name: 16, dtype: int64"
   ]
  },
  {
   "cell_type": "markdown",
   "id": "892db1c9",
   "metadata": {},
   "source": [
    "nombre_infected       724\n",
    "nombre_sain         17200\n",
    "nombre_exposed       1876\n",
    "nombre_recovered      200\n",
    "Name: 17, dtype: int64"
   ]
  },
  {
   "cell_type": "markdown",
   "id": "0c576fb0",
   "metadata": {},
   "source": [
    "nombre_infected       951\n",
    "nombre_sain         16326\n",
    "nombre_exposed       2452\n",
    "nombre_recovered      271\n",
    "Name: 18, dtype: int64"
   ]
  },
  {
   "cell_type": "markdown",
   "id": "655d28ba",
   "metadata": {},
   "source": [
    "nombre_infected      1280\n",
    "nombre_sain         15306\n",
    "nombre_exposed       3041\n",
    "nombre_recovered      373\n",
    "Name: 19, dtype: int64"
   ]
  },
  {
   "cell_type": "markdown",
   "id": "1416dab3",
   "metadata": {},
   "source": [
    "nombre_infected      1717\n",
    "nombre_sain         13974\n",
    "nombre_exposed       3825\n",
    "nombre_recovered      484\n",
    "Name: 20, dtype: int64"
   ]
  },
  {
   "cell_type": "markdown",
   "id": "ebbdde5e",
   "metadata": {},
   "source": [
    "nombre_infected      2229\n",
    "nombre_sain         12458\n",
    "nombre_exposed       4667\n",
    "nombre_recovered      646\n",
    "Name: 21, dtype: int64"
   ]
  },
  {
   "cell_type": "markdown",
   "id": "dd761e2a",
   "metadata": {},
   "source": [
    "nombre_infected      2912\n",
    "nombre_sain         10780\n",
    "nombre_exposed       5483\n",
    "nombre_recovered      825\n",
    "Name: 22, dtype: int64"
   ]
  },
  {
   "cell_type": "markdown",
   "id": "2e3f1d7d",
   "metadata": {},
   "source": [
    "nombre_infected     3646\n",
    "nombre_sain         9006\n",
    "nombre_exposed      6240\n",
    "nombre_recovered    1108\n",
    "Name: 23, dtype: int64"
   ]
  },
  {
   "cell_type": "markdown",
   "id": "c8134739",
   "metadata": {},
   "source": [
    "nombre_infected     4482\n",
    "nombre_sain         7276\n",
    "nombre_exposed      6795\n",
    "nombre_recovered    1447\n",
    "Name: 24, dtype: int64"
   ]
  },
  {
   "cell_type": "markdown",
   "id": "bf6d3fa3",
   "metadata": {},
   "source": [
    "nombre_infected     5312\n",
    "nombre_sain         5689\n",
    "nombre_exposed      7100\n",
    "nombre_recovered    1899\n",
    "Name: 25, dtype: int64"
   ]
  },
  {
   "cell_type": "markdown",
   "id": "ecd4a187",
   "metadata": {},
   "source": [
    "nombre_infected     6152\n",
    "nombre_sain         4338\n",
    "nombre_exposed      7043\n",
    "nombre_recovered    2467\n",
    "Name: 26, dtype: int64"
   ]
  },
  {
   "cell_type": "markdown",
   "id": "ef400f9c",
   "metadata": {},
   "source": [
    "nombre_infected     6984\n",
    "nombre_sain         3175\n",
    "nombre_exposed      6701\n",
    "nombre_recovered    3140\n",
    "Name: 27, dtype: int64"
   ]
  },
  {
   "cell_type": "markdown",
   "id": "41356f45",
   "metadata": {},
   "source": [
    "nombre_infected     7617\n",
    "nombre_sain         2243\n",
    "nombre_exposed      6233\n",
    "nombre_recovered    3907\n",
    "Name: 28, dtype: int64"
   ]
  },
  {
   "cell_type": "markdown",
   "id": "1d3c475e",
   "metadata": {},
   "source": [
    "nombre_infected     8158\n",
    "nombre_sain         1565\n",
    "nombre_exposed      5525\n",
    "nombre_recovered    4752\n",
    "Name: 29, dtype: int64"
   ]
  },
  {
   "cell_type": "markdown",
   "id": "f5842d65",
   "metadata": {},
   "source": [
    "nombre_infected     8501\n",
    "nombre_sain         1133\n",
    "nombre_exposed      4688\n",
    "nombre_recovered    5678\n",
    "Name: 30, dtype: int64"
   ]
  },
  {
   "cell_type": "markdown",
   "id": "5e990f99",
   "metadata": {},
   "source": [
    "nombre_infected     8640\n",
    "nombre_sain          791\n",
    "nombre_exposed      3921\n",
    "nombre_recovered    6648\n",
    "Name: 31, dtype: int64"
   ]
  },
  {
   "cell_type": "markdown",
   "id": "6f0515f3",
   "metadata": {},
   "source": [
    "nombre_infected     8530\n",
    "nombre_sain          537\n",
    "nombre_exposed      3215\n",
    "nombre_recovered    7718\n",
    "Name: 32, dtype: int64"
   ]
  },
  {
   "cell_type": "markdown",
   "id": "32dfca63",
   "metadata": {},
   "source": [
    "nombre_infected     8285\n",
    "nombre_sain          396\n",
    "nombre_exposed      2566\n",
    "nombre_recovered    8753\n",
    "Name: 33, dtype: int64"
   ]
  },
  {
   "cell_type": "markdown",
   "id": "ed8e05d5",
   "metadata": {},
   "source": [
    "nombre_infected     7864\n",
    "nombre_sain          296\n",
    "nombre_exposed      2052\n",
    "nombre_recovered    9788\n",
    "Name: 34, dtype: int64"
   ]
  },
  {
   "cell_type": "markdown",
   "id": "e4484681",
   "metadata": {},
   "source": [
    "nombre_infected      7451\n",
    "nombre_sain           238\n",
    "nombre_exposed       1612\n",
    "nombre_recovered    10699\n",
    "Name: 35, dtype: int64"
   ]
  },
  {
   "cell_type": "markdown",
   "id": "7a549e95",
   "metadata": {},
   "source": [
    "nombre_infected      6977\n",
    "nombre_sain           193\n",
    "nombre_exposed       1262\n",
    "nombre_recovered    11568\n",
    "Name: 36, dtype: int64"
   ]
  },
  {
   "cell_type": "markdown",
   "id": "e6e594ea",
   "metadata": {},
   "source": [
    "nombre_infected      6433\n",
    "nombre_sain           165\n",
    "nombre_exposed        976\n",
    "nombre_recovered    12426\n",
    "Name: 37, dtype: int64"
   ]
  },
  {
   "cell_type": "markdown",
   "id": "cdb46e99",
   "metadata": {},
   "source": [
    "nombre_infected      5877\n",
    "nombre_sain           164\n",
    "nombre_exposed        778\n",
    "nombre_recovered    13181\n",
    "Name: 38, dtype: int64"
   ]
  },
  {
   "cell_type": "markdown",
   "id": "60745afd",
   "metadata": {},
   "source": [
    "nombre_infected      5354\n",
    "nombre_sain           162\n",
    "nombre_exposed        588\n",
    "nombre_recovered    13896\n",
    "Name: 39, dtype: int64"
   ]
  },
  {
   "cell_type": "markdown",
   "id": "c0dffa71",
   "metadata": {},
   "source": [
    "nombre_infected      4877\n",
    "nombre_sain           157\n",
    "nombre_exposed        456\n",
    "nombre_recovered    14510\n",
    "Name: 40, dtype: int64"
   ]
  },
  {
   "cell_type": "markdown",
   "id": "b2ac6402",
   "metadata": {},
   "source": [
    "nombre_infected      4423\n",
    "nombre_sain           156\n",
    "nombre_exposed        346\n",
    "nombre_recovered    15075\n",
    "Name: 41, dtype: int64"
   ]
  },
  {
   "cell_type": "markdown",
   "id": "ffc90248",
   "metadata": {},
   "source": [
    "nombre_infected      4005\n",
    "nombre_sain           168\n",
    "nombre_exposed        281\n",
    "nombre_recovered    15546\n",
    "Name: 42, dtype: int64"
   ]
  },
  {
   "cell_type": "markdown",
   "id": "f2210c1d",
   "metadata": {},
   "source": [
    "nombre_infected      3575\n",
    "nombre_sain           185\n",
    "nombre_exposed        237\n",
    "nombre_recovered    16003\n",
    "Name: 43, dtype: int64"
   ]
  },
  {
   "cell_type": "markdown",
   "id": "a0a1e735",
   "metadata": {},
   "source": [
    "nombre_infected      3240\n",
    "nombre_sain           198\n",
    "nombre_exposed        186\n",
    "nombre_recovered    16376\n",
    "Name: 44, dtype: int64"
   ]
  },
  {
   "cell_type": "markdown",
   "id": "0b655449",
   "metadata": {},
   "source": [
    "nombre_infected      2926\n",
    "nombre_sain           202\n",
    "nombre_exposed        170\n",
    "nombre_recovered    16702\n",
    "Name: 45, dtype: int64"
   ]
  },
  {
   "cell_type": "markdown",
   "id": "725e8ad5",
   "metadata": {},
   "source": [
    "nombre_infected      2610\n",
    "nombre_sain           231\n",
    "nombre_exposed        136\n",
    "nombre_recovered    17023\n",
    "Name: 46, dtype: int64"
   ]
  },
  {
   "cell_type": "markdown",
   "id": "833a488d",
   "metadata": {},
   "source": [
    "nombre_infected      2334\n",
    "nombre_sain           243\n",
    "nombre_exposed        132\n",
    "nombre_recovered    17291\n",
    "Name: 47, dtype: int64"
   ]
  },
  {
   "cell_type": "markdown",
   "id": "2c7065a6",
   "metadata": {},
   "source": [
    "nombre_infected      2068\n",
    "nombre_sain           256\n",
    "nombre_exposed        142\n",
    "nombre_recovered    17534\n",
    "Name: 48, dtype: int64"
   ]
  },
  {
   "cell_type": "markdown",
   "id": "eb320541",
   "metadata": {},
   "source": [
    "nombre_infected      1841\n",
    "nombre_sain           267\n",
    "nombre_exposed        139\n",
    "nombre_recovered    17753\n",
    "Name: 49, dtype: int64"
   ]
  },
  {
   "cell_type": "markdown",
   "id": "3d2c7bc9",
   "metadata": {},
   "source": [
    "nombre_infected      1641\n",
    "nombre_sain           281\n",
    "nombre_exposed        130\n",
    "nombre_recovered    17948\n",
    "Name: 50, dtype: int64"
   ]
  },
  {
   "cell_type": "markdown",
   "id": "8060ec47",
   "metadata": {},
   "source": [
    "nombre_infected      1455\n",
    "nombre_sain           326\n",
    "nombre_exposed        117\n",
    "nombre_recovered    18102\n",
    "Name: 51, dtype: int64"
   ]
  },
  {
   "cell_type": "markdown",
   "id": "084c3dc9",
   "metadata": {},
   "source": [
    "nombre_infected      1274\n",
    "nombre_sain           336\n",
    "nombre_exposed        121\n",
    "nombre_recovered    18269\n",
    "Name: 52, dtype: int64"
   ]
  },
  {
   "cell_type": "markdown",
   "id": "469172de",
   "metadata": {},
   "source": [
    "nombre_infected      1124\n",
    "nombre_sain           351\n",
    "nombre_exposed        121\n",
    "nombre_recovered    18404\n",
    "Name: 53, dtype: int64"
   ]
  },
  {
   "cell_type": "markdown",
   "id": "a8fe1c27",
   "metadata": {},
   "source": [
    "nombre_infected       994\n",
    "nombre_sain           379\n",
    "nombre_exposed        107\n",
    "nombre_recovered    18520\n",
    "Name: 54, dtype: int64"
   ]
  },
  {
   "cell_type": "markdown",
   "id": "96eb319b",
   "metadata": {},
   "source": [
    "nombre_infected       883\n",
    "nombre_sain           408\n",
    "nombre_exposed         99\n",
    "nombre_recovered    18610\n",
    "Name: 55, dtype: int64"
   ]
  },
  {
   "cell_type": "markdown",
   "id": "9b6cd2c6",
   "metadata": {},
   "source": [
    "nombre_infected       765\n",
    "nombre_sain           428\n",
    "nombre_exposed         90\n",
    "nombre_recovered    18717\n",
    "Name: 56, dtype: int64"
   ]
  },
  {
   "cell_type": "markdown",
   "id": "c184c5ee",
   "metadata": {},
   "source": [
    "nombre_infected       685\n",
    "nombre_sain           462\n",
    "nombre_exposed         85\n",
    "nombre_recovered    18768\n",
    "Name: 57, dtype: int64"
   ]
  },
  {
   "cell_type": "markdown",
   "id": "ca043fb5",
   "metadata": {},
   "source": [
    "nombre_infected       604\n",
    "nombre_sain           511\n",
    "nombre_exposed         88\n",
    "nombre_recovered    18797\n",
    "Name: 58, dtype: int64"
   ]
  },
  {
   "cell_type": "markdown",
   "id": "87b65aeb",
   "metadata": {},
   "source": [
    "nombre_infected       538\n",
    "nombre_sain           551\n",
    "nombre_exposed         91\n",
    "nombre_recovered    18820\n",
    "Name: 59, dtype: int64"
   ]
  },
  {
   "cell_type": "markdown",
   "id": "bd63bba8",
   "metadata": {},
   "source": [
    "nombre_infected       484\n",
    "nombre_sain           595\n",
    "nombre_exposed         88\n",
    "nombre_recovered    18833\n",
    "Name: 60, dtype: int64"
   ]
  },
  {
   "cell_type": "markdown",
   "id": "0ae51897",
   "metadata": {},
   "source": [
    "nombre_infected       435\n",
    "nombre_sain           651\n",
    "nombre_exposed         86\n",
    "nombre_recovered    18828\n",
    "Name: 61, dtype: int64"
   ]
  },
  {
   "cell_type": "markdown",
   "id": "acfa487e",
   "metadata": {},
   "source": [
    "nombre_infected       395\n",
    "nombre_sain           692\n",
    "nombre_exposed         77\n",
    "nombre_recovered    18836\n",
    "Name: 62, dtype: int64"
   ]
  },
  {
   "cell_type": "markdown",
   "id": "e94bf33a",
   "metadata": {},
   "source": [
    "nombre_infected       364\n",
    "nombre_sain           777\n",
    "nombre_exposed         73\n",
    "nombre_recovered    18786\n",
    "Name: 63, dtype: int64"
   ]
  },
  {
   "cell_type": "markdown",
   "id": "4083394e",
   "metadata": {},
   "source": [
    "nombre_infected       324\n",
    "nombre_sain           836\n",
    "nombre_exposed         71\n",
    "nombre_recovered    18769\n",
    "Name: 64, dtype: int64"
   ]
  },
  {
   "cell_type": "markdown",
   "id": "72118161",
   "metadata": {},
   "source": [
    "nombre_infected       297\n",
    "nombre_sain           896\n",
    "nombre_exposed         70\n",
    "nombre_recovered    18737\n",
    "Name: 65, dtype: int64"
   ]
  },
  {
   "cell_type": "markdown",
   "id": "1a336498",
   "metadata": {},
   "source": [
    "nombre_infected       271\n",
    "nombre_sain           973\n",
    "nombre_exposed         65\n",
    "nombre_recovered    18691\n",
    "Name: 66, dtype: int64"
   ]
  },
  {
   "cell_type": "markdown",
   "id": "0a2e8896",
   "metadata": {},
   "source": [
    "nombre_infected       237\n",
    "nombre_sain          1041\n",
    "nombre_exposed         65\n",
    "nombre_recovered    18657\n",
    "Name: 67, dtype: int64"
   ]
  },
  {
   "cell_type": "markdown",
   "id": "6535f122",
   "metadata": {},
   "source": [
    "nombre_infected       212\n",
    "nombre_sain          1118\n",
    "nombre_exposed         66\n",
    "nombre_recovered    18604\n",
    "Name: 68, dtype: int64"
   ]
  },
  {
   "cell_type": "markdown",
   "id": "fe6fb529",
   "metadata": {},
   "source": [
    "nombre_infected       199\n",
    "nombre_sain          1164\n",
    "nombre_exposed         59\n",
    "nombre_recovered    18578\n",
    "Name: 69, dtype: int64"
   ]
  },
  {
   "cell_type": "markdown",
   "id": "8182595d",
   "metadata": {},
   "source": [
    "nombre_infected       174\n",
    "nombre_sain          1237\n",
    "nombre_exposed         57\n",
    "nombre_recovered    18532\n",
    "Name: 70, dtype: int64"
   ]
  },
  {
   "cell_type": "markdown",
   "id": "3e77c91e",
   "metadata": {},
   "source": [
    "nombre_infected       146\n",
    "nombre_sain          1305\n",
    "nombre_exposed         53\n",
    "nombre_recovered    18496\n",
    "Name: 71, dtype: int64"
   ]
  },
  {
   "cell_type": "markdown",
   "id": "90329427",
   "metadata": {},
   "source": [
    "nombre_infected       118\n",
    "nombre_sain          1374\n",
    "nombre_exposed         55\n",
    "nombre_recovered    18453\n",
    "Name: 72, dtype: int64"
   ]
  },
  {
   "cell_type": "markdown",
   "id": "ea0a75d6",
   "metadata": {},
   "source": [
    "nombre_infected       114\n",
    "nombre_sain          1415\n",
    "nombre_exposed         47\n",
    "nombre_recovered    18424\n",
    "Name: 73, dtype: int64"
   ]
  },
  {
   "cell_type": "markdown",
   "id": "952ec825",
   "metadata": {},
   "source": [
    "nombre_infected       107\n",
    "nombre_sain          1476\n",
    "nombre_exposed         51\n",
    "nombre_recovered    18366\n",
    "Name: 74, dtype: int64"
   ]
  },
  {
   "cell_type": "markdown",
   "id": "5ec99c28",
   "metadata": {},
   "source": [
    "nombre_infected       102\n",
    "nombre_sain          1529\n",
    "nombre_exposed         50\n",
    "nombre_recovered    18319\n",
    "Name: 75, dtype: int64"
   ]
  },
  {
   "cell_type": "markdown",
   "id": "9849cda1",
   "metadata": {},
   "source": [
    "nombre_infected        85\n",
    "nombre_sain          1577\n",
    "nombre_exposed         51\n",
    "nombre_recovered    18287\n",
    "Name: 76, dtype: int64"
   ]
  },
  {
   "cell_type": "markdown",
   "id": "010a4625",
   "metadata": {},
   "source": [
    "nombre_infected        77\n",
    "nombre_sain          1644\n",
    "nombre_exposed         49\n",
    "nombre_recovered    18230\n",
    "Name: 77, dtype: int64"
   ]
  },
  {
   "cell_type": "markdown",
   "id": "f24fa207",
   "metadata": {},
   "source": [
    "nombre_infected        72\n",
    "nombre_sain          1701\n",
    "nombre_exposed         43\n",
    "nombre_recovered    18184\n",
    "Name: 78, dtype: int64"
   ]
  },
  {
   "cell_type": "markdown",
   "id": "fcf939a3",
   "metadata": {},
   "source": [
    "nombre_infected        75\n",
    "nombre_sain          1748\n",
    "nombre_exposed         42\n",
    "nombre_recovered    18135\n",
    "Name: 79, dtype: int64"
   ]
  },
  {
   "cell_type": "markdown",
   "id": "abe14e42",
   "metadata": {},
   "source": [
    "nombre_infected        72\n",
    "nombre_sain          1793\n",
    "nombre_exposed         45\n",
    "nombre_recovered    18090\n",
    "Name: 80, dtype: int64"
   ]
  },
  {
   "cell_type": "markdown",
   "id": "c152b700",
   "metadata": {},
   "source": [
    "nombre_infected        64\n",
    "nombre_sain          1850\n",
    "nombre_exposed         43\n",
    "nombre_recovered    18043\n",
    "Name: 81, dtype: int64"
   ]
  },
  {
   "cell_type": "markdown",
   "id": "2eee4d33",
   "metadata": {},
   "source": [
    "nombre_infected        60\n",
    "nombre_sain          1895\n",
    "nombre_exposed         41\n",
    "nombre_recovered    18004\n",
    "Name: 82, dtype: int64"
   ]
  },
  {
   "cell_type": "markdown",
   "id": "8f9bf446",
   "metadata": {},
   "source": [
    "nombre_infected        56\n",
    "nombre_sain          1933\n",
    "nombre_exposed         46\n",
    "nombre_recovered    17965\n",
    "Name: 83, dtype: int64"
   ]
  },
  {
   "cell_type": "markdown",
   "id": "46493cc7",
   "metadata": {},
   "source": [
    "nombre_infected        59\n",
    "nombre_sain          1963\n",
    "nombre_exposed         40\n",
    "nombre_recovered    17938\n",
    "Name: 84, dtype: int64"
   ]
  },
  {
   "cell_type": "markdown",
   "id": "e51f0bdd",
   "metadata": {},
   "source": [
    "nombre_infected        58\n",
    "nombre_sain          1990\n",
    "nombre_exposed         42\n",
    "nombre_recovered    17910\n",
    "Name: 85, dtype: int64"
   ]
  },
  {
   "cell_type": "markdown",
   "id": "971f7ed4",
   "metadata": {},
   "source": [
    "nombre_infected        58\n",
    "nombre_sain          2022\n",
    "nombre_exposed         43\n",
    "nombre_recovered    17877\n",
    "Name: 86, dtype: int64"
   ]
  },
  {
   "cell_type": "markdown",
   "id": "ed9b2f11",
   "metadata": {},
   "source": [
    "nombre_infected        59\n",
    "nombre_sain          2057\n",
    "nombre_exposed         39\n",
    "nombre_recovered    17845\n",
    "Name: 87, dtype: int64"
   ]
  },
  {
   "cell_type": "markdown",
   "id": "7d9a60cd",
   "metadata": {},
   "source": [
    "nombre_infected        54\n",
    "nombre_sain          2084\n",
    "nombre_exposed         40\n",
    "nombre_recovered    17822\n",
    "Name: 88, dtype: int64"
   ]
  },
  {
   "cell_type": "markdown",
   "id": "8d41d9e2",
   "metadata": {},
   "source": [
    "nombre_infected        60\n",
    "nombre_sain          2113\n",
    "nombre_exposed         35\n",
    "nombre_recovered    17792\n",
    "Name: 89, dtype: int64"
   ]
  },
  {
   "cell_type": "markdown",
   "id": "6c3559b5",
   "metadata": {},
   "source": [
    "nombre_infected        57\n",
    "nombre_sain          2139\n",
    "nombre_exposed         36\n",
    "nombre_recovered    17768\n",
    "Name: 90, dtype: int64"
   ]
  },
  {
   "cell_type": "markdown",
   "id": "8fedb766",
   "metadata": {},
   "source": [
    "nombre_infected        54\n",
    "nombre_sain          2155\n",
    "nombre_exposed         40\n",
    "nombre_recovered    17751\n",
    "Name: 91, dtype: int64"
   ]
  },
  {
   "cell_type": "markdown",
   "id": "4759a6d2",
   "metadata": {},
   "source": [
    "nombre_infected        50\n",
    "nombre_sain          2189\n",
    "nombre_exposed         36\n",
    "nombre_recovered    17725\n",
    "Name: 92, dtype: int64"
   ]
  },
  {
   "cell_type": "markdown",
   "id": "7bbe3f8f",
   "metadata": {},
   "source": [
    "nombre_infected        53\n",
    "nombre_sain          2217\n",
    "nombre_exposed         34\n",
    "nombre_recovered    17696\n",
    "Name: 93, dtype: int64"
   ]
  },
  {
   "cell_type": "markdown",
   "id": "677f52c6",
   "metadata": {},
   "source": [
    "nombre_infected        51\n",
    "nombre_sain          2257\n",
    "nombre_exposed         31\n",
    "nombre_recovered    17661\n",
    "Name: 94, dtype: int64"
   ]
  },
  {
   "cell_type": "markdown",
   "id": "e2f75963",
   "metadata": {},
   "source": [
    "nombre_infected        56\n",
    "nombre_sain          2278\n",
    "nombre_exposed         30\n",
    "nombre_recovered    17636\n",
    "Name: 95, dtype: int64"
   ]
  },
  {
   "cell_type": "markdown",
   "id": "a40ac805",
   "metadata": {},
   "source": [
    "nombre_infected        59\n",
    "nombre_sain          2311\n",
    "nombre_exposed         37\n",
    "nombre_recovered    17593\n",
    "Name: 96, dtype: int64"
   ]
  },
  {
   "cell_type": "markdown",
   "id": "3eebe429",
   "metadata": {},
   "source": [
    "nombre_infected        59\n",
    "nombre_sain          2340\n",
    "nombre_exposed         32\n",
    "nombre_recovered    17569\n",
    "Name: 97, dtype: int64"
   ]
  },
  {
   "cell_type": "markdown",
   "id": "2f2fb9c2",
   "metadata": {},
   "source": [
    "nombre_infected        56\n",
    "nombre_sain          2382\n",
    "nombre_exposed         29\n",
    "nombre_recovered    17533\n",
    "Name: 98, dtype: int64"
   ]
  },
  {
   "cell_type": "markdown",
   "id": "eba7389f",
   "metadata": {},
   "source": [
    "nombre_infected        54\n",
    "nombre_sain          2418\n",
    "nombre_exposed         32\n",
    "nombre_recovered    17496\n",
    "Name: 99, dtype: int64"
   ]
  },
  {
   "cell_type": "markdown",
   "id": "a6c95786",
   "metadata": {},
   "source": [
    "nombre_infected        50\n",
    "nombre_sain          2456\n",
    "nombre_exposed         34\n",
    "nombre_recovered    17460\n",
    "Name: 100, dtype: int64"
   ]
  },
  {
   "cell_type": "markdown",
   "id": "99b1a7d9",
   "metadata": {},
   "source": [
    "nombre_infected        49\n",
    "nombre_sain          2508\n",
    "nombre_exposed         34\n",
    "nombre_recovered    17409\n",
    "Name: 101, dtype: int64"
   ]
  },
  {
   "cell_type": "markdown",
   "id": "9e5bea89",
   "metadata": {},
   "source": [
    "nombre_infected        48\n",
    "nombre_sain          2565\n",
    "nombre_exposed         36\n",
    "nombre_recovered    17351\n",
    "Name: 102, dtype: int64"
   ]
  },
  {
   "cell_type": "markdown",
   "id": "3cfaba49",
   "metadata": {},
   "source": [
    "nombre_infected        45\n",
    "nombre_sain          2616\n",
    "nombre_exposed         35\n",
    "nombre_recovered    17304\n",
    "Name: 103, dtype: int64"
   ]
  },
  {
   "cell_type": "markdown",
   "id": "7e720c14",
   "metadata": {},
   "source": [
    "nombre_infected        42\n",
    "nombre_sain          2684\n",
    "nombre_exposed         30\n",
    "nombre_recovered    17244\n",
    "Name: 104, dtype: int64"
   ]
  },
  {
   "cell_type": "markdown",
   "id": "74cdcd17",
   "metadata": {},
   "source": [
    "nombre_infected        49\n",
    "nombre_sain          2738\n",
    "nombre_exposed         25\n",
    "nombre_recovered    17188\n",
    "Name: 105, dtype: int64"
   ]
  },
  {
   "cell_type": "markdown",
   "id": "d3f4f2d2",
   "metadata": {},
   "source": [
    "nombre_infected        50\n",
    "nombre_sain          2791\n",
    "nombre_exposed         29\n",
    "nombre_recovered    17130\n",
    "Name: 106, dtype: int64"
   ]
  },
  {
   "cell_type": "markdown",
   "id": "911ad052",
   "metadata": {},
   "source": [
    "nombre_infected        45\n",
    "nombre_sain          2844\n",
    "nombre_exposed         35\n",
    "nombre_recovered    17076\n",
    "Name: 107, dtype: int64"
   ]
  },
  {
   "cell_type": "markdown",
   "id": "8f6f41e5",
   "metadata": {},
   "source": [
    "nombre_infected        42\n",
    "nombre_sain          2903\n",
    "nombre_exposed         42\n",
    "nombre_recovered    17013\n",
    "Name: 108, dtype: int64"
   ]
  },
  {
   "cell_type": "markdown",
   "id": "e6df61a6",
   "metadata": {},
   "source": [
    "nombre_infected        46\n",
    "nombre_sain          2970\n",
    "nombre_exposed         43\n",
    "nombre_recovered    16941\n",
    "Name: 109, dtype: int64"
   ]
  },
  {
   "cell_type": "markdown",
   "id": "3a0948d3",
   "metadata": {},
   "source": [
    "nombre_infected        42\n",
    "nombre_sain          3027\n",
    "nombre_exposed         46\n",
    "nombre_recovered    16885\n",
    "Name: 110, dtype: int64"
   ]
  },
  {
   "cell_type": "markdown",
   "id": "6cc13458",
   "metadata": {},
   "source": [
    "nombre_infected        51\n",
    "nombre_sain          3093\n",
    "nombre_exposed         50\n",
    "nombre_recovered    16806\n",
    "Name: 111, dtype: int64"
   ]
  },
  {
   "cell_type": "markdown",
   "id": "5a352a65",
   "metadata": {},
   "source": [
    "nombre_infected        57\n",
    "nombre_sain          3154\n",
    "nombre_exposed         43\n",
    "nombre_recovered    16746\n",
    "Name: 112, dtype: int64"
   ]
  },
  {
   "cell_type": "markdown",
   "id": "cc94dc4e",
   "metadata": {},
   "source": [
    "nombre_infected        53\n",
    "nombre_sain          3215\n",
    "nombre_exposed         44\n",
    "nombre_recovered    16688\n",
    "Name: 113, dtype: int64"
   ]
  },
  {
   "cell_type": "markdown",
   "id": "9b77f247",
   "metadata": {},
   "source": [
    "nombre_infected        60\n",
    "nombre_sain          3278\n",
    "nombre_exposed         43\n",
    "nombre_recovered    16619\n",
    "Name: 114, dtype: int64"
   ]
  },
  {
   "cell_type": "markdown",
   "id": "5d588ae3",
   "metadata": {},
   "source": [
    "nombre_infected        65\n",
    "nombre_sain          3347\n",
    "nombre_exposed         38\n",
    "nombre_recovered    16550\n",
    "Name: 115, dtype: int64"
   ]
  },
  {
   "cell_type": "markdown",
   "id": "ea8645a5",
   "metadata": {},
   "source": [
    "nombre_infected        70\n",
    "nombre_sain          3390\n",
    "nombre_exposed         43\n",
    "nombre_recovered    16497\n",
    "Name: 116, dtype: int64"
   ]
  },
  {
   "cell_type": "markdown",
   "id": "825fb3d8",
   "metadata": {},
   "source": [
    "nombre_infected        68\n",
    "nombre_sain          3434\n",
    "nombre_exposed         52\n",
    "nombre_recovered    16446\n",
    "Name: 117, dtype: int64"
   ]
  },
  {
   "cell_type": "markdown",
   "id": "7076f29c",
   "metadata": {},
   "source": [
    "nombre_infected        64\n",
    "nombre_sain          3481\n",
    "nombre_exposed         55\n",
    "nombre_recovered    16400\n",
    "Name: 118, dtype: int64"
   ]
  },
  {
   "cell_type": "markdown",
   "id": "649bca36",
   "metadata": {},
   "source": [
    "nombre_infected        63\n",
    "nombre_sain          3509\n",
    "nombre_exposed         66\n",
    "nombre_recovered    16362\n",
    "Name: 119, dtype: int64"
   ]
  },
  {
   "cell_type": "markdown",
   "id": "dcab3be0",
   "metadata": {},
   "source": [
    "nombre_infected        69\n",
    "nombre_sain          3547\n",
    "nombre_exposed         73\n",
    "nombre_recovered    16311\n",
    "Name: 120, dtype: int64"
   ]
  },
  {
   "cell_type": "markdown",
   "id": "81c55db6",
   "metadata": {},
   "source": [
    "nombre_infected        78\n",
    "nombre_sain          3570\n",
    "nombre_exposed         78\n",
    "nombre_recovered    16274\n",
    "Name: 121, dtype: int64"
   ]
  },
  {
   "cell_type": "markdown",
   "id": "381afb63",
   "metadata": {},
   "source": [
    "nombre_infected        83\n",
    "nombre_sain          3592\n",
    "nombre_exposed         78\n",
    "nombre_recovered    16247\n",
    "Name: 122, dtype: int64"
   ]
  },
  {
   "cell_type": "markdown",
   "id": "c56dac9b",
   "metadata": {},
   "source": [
    "nombre_infected        91\n",
    "nombre_sain          3614\n",
    "nombre_exposed         74\n",
    "nombre_recovered    16221\n",
    "Name: 123, dtype: int64"
   ]
  },
  {
   "cell_type": "markdown",
   "id": "95e2172c",
   "metadata": {},
   "source": [
    "nombre_infected       104\n",
    "nombre_sain          3627\n",
    "nombre_exposed         74\n",
    "nombre_recovered    16195\n",
    "Name: 124, dtype: int64"
   ]
  },
  {
   "cell_type": "markdown",
   "id": "fea30d26",
   "metadata": {},
   "source": [
    "nombre_infected        99\n",
    "nombre_sain          3634\n",
    "nombre_exposed         76\n",
    "nombre_recovered    16191\n",
    "Name: 125, dtype: int64"
   ]
  },
  {
   "cell_type": "markdown",
   "id": "4aa5946d",
   "metadata": {},
   "source": [
    "nombre_infected       109\n",
    "nombre_sain          3628\n",
    "nombre_exposed         67\n",
    "nombre_recovered    16196\n",
    "Name: 126, dtype: int64"
   ]
  },
  {
   "cell_type": "markdown",
   "id": "a757ead6",
   "metadata": {},
   "source": [
    "nombre_infected       111\n",
    "nombre_sain          3608\n",
    "nombre_exposed         81\n",
    "nombre_recovered    16200\n",
    "Name: 127, dtype: int64"
   ]
  },
  {
   "cell_type": "markdown",
   "id": "acb24118",
   "metadata": {},
   "source": [
    "nombre_infected       106\n",
    "nombre_sain          3594\n",
    "nombre_exposed        102\n",
    "nombre_recovered    16198\n",
    "Name: 128, dtype: int64"
   ]
  },
  {
   "cell_type": "markdown",
   "id": "859fa48d",
   "metadata": {},
   "source": [
    "nombre_infected       106\n",
    "nombre_sain          3578\n",
    "nombre_exposed        107\n",
    "nombre_recovered    16209\n",
    "Name: 129, dtype: int64"
   ]
  },
  {
   "cell_type": "markdown",
   "id": "a17d9c93",
   "metadata": {},
   "source": [
    "nombre_infected       114\n",
    "nombre_sain          3566\n",
    "nombre_exposed        108\n",
    "nombre_recovered    16212\n",
    "Name: 130, dtype: int64"
   ]
  },
  {
   "cell_type": "markdown",
   "id": "aeb5708d",
   "metadata": {},
   "source": [
    "nombre_infected       122\n",
    "nombre_sain          3542\n",
    "nombre_exposed        124\n",
    "nombre_recovered    16212\n",
    "Name: 131, dtype: int64"
   ]
  },
  {
   "cell_type": "markdown",
   "id": "a2debc9f",
   "metadata": {},
   "source": [
    "nombre_infected       134\n",
    "nombre_sain          3527\n",
    "nombre_exposed        126\n",
    "nombre_recovered    16213\n",
    "Name: 132, dtype: int64"
   ]
  },
  {
   "cell_type": "markdown",
   "id": "53763390",
   "metadata": {},
   "source": [
    "nombre_infected       147\n",
    "nombre_sain          3519\n",
    "nombre_exposed        122\n",
    "nombre_recovered    16212\n",
    "Name: 133, dtype: int64"
   ]
  },
  {
   "cell_type": "markdown",
   "id": "ef8fef46",
   "metadata": {},
   "source": [
    "nombre_infected       158\n",
    "nombre_sain          3494\n",
    "nombre_exposed        134\n",
    "nombre_recovered    16214\n",
    "Name: 134, dtype: int64"
   ]
  },
  {
   "cell_type": "markdown",
   "id": "14d09e38",
   "metadata": {},
   "source": [
    "nombre_infected       165\n",
    "nombre_sain          3497\n",
    "nombre_exposed        134\n",
    "nombre_recovered    16204\n",
    "Name: 135, dtype: int64"
   ]
  },
  {
   "cell_type": "markdown",
   "id": "a5a6d29a",
   "metadata": {},
   "source": [
    "nombre_infected       173\n",
    "nombre_sain          3491\n",
    "nombre_exposed        139\n",
    "nombre_recovered    16197\n",
    "Name: 136, dtype: int64"
   ]
  },
  {
   "cell_type": "markdown",
   "id": "a081c591",
   "metadata": {},
   "source": [
    "nombre_infected       179\n",
    "nombre_sain          3486\n",
    "nombre_exposed        140\n",
    "nombre_recovered    16195\n",
    "Name: 137, dtype: int64"
   ]
  },
  {
   "cell_type": "markdown",
   "id": "7a96476f",
   "metadata": {},
   "source": [
    "nombre_infected       180\n",
    "nombre_sain          3491\n",
    "nombre_exposed        143\n",
    "nombre_recovered    16186\n",
    "Name: 138, dtype: int64"
   ]
  },
  {
   "cell_type": "markdown",
   "id": "0af9bc53",
   "metadata": {},
   "source": [
    "nombre_infected       186\n",
    "nombre_sain          3483\n",
    "nombre_exposed        151\n",
    "nombre_recovered    16180\n",
    "Name: 139, dtype: int64"
   ]
  },
  {
   "cell_type": "markdown",
   "id": "e5811c92",
   "metadata": {},
   "source": [
    "nombre_infected       188\n",
    "nombre_sain          3467\n",
    "nombre_exposed        179\n",
    "nombre_recovered    16166\n",
    "Name: 140, dtype: int64"
   ]
  },
  {
   "cell_type": "markdown",
   "id": "6b407405",
   "metadata": {},
   "source": [
    "nombre_infected       196\n",
    "nombre_sain          3468\n",
    "nombre_exposed        180\n",
    "nombre_recovered    16156\n",
    "Name: 141, dtype: int64"
   ]
  },
  {
   "cell_type": "markdown",
   "id": "300add59",
   "metadata": {},
   "source": [
    "nombre_infected       200\n",
    "nombre_sain          3461\n",
    "nombre_exposed        183\n",
    "nombre_recovered    16156\n",
    "Name: 142, dtype: int64"
   ]
  },
  {
   "cell_type": "markdown",
   "id": "9fcb97e1",
   "metadata": {},
   "source": [
    "nombre_infected       210\n",
    "nombre_sain          3448\n",
    "nombre_exposed        187\n",
    "nombre_recovered    16155\n",
    "Name: 143, dtype: int64"
   ]
  },
  {
   "cell_type": "markdown",
   "id": "e04e5833",
   "metadata": {},
   "source": [
    "nombre_infected       218\n",
    "nombre_sain          3434\n",
    "nombre_exposed        196\n",
    "nombre_recovered    16152\n",
    "Name: 144, dtype: int64"
   ]
  },
  {
   "cell_type": "markdown",
   "id": "4c85d855",
   "metadata": {},
   "source": [
    "nombre_infected       231\n",
    "nombre_sain          3409\n",
    "nombre_exposed        222\n",
    "nombre_recovered    16138\n",
    "Name: 145, dtype: int64"
   ]
  },
  {
   "cell_type": "markdown",
   "id": "e5527507",
   "metadata": {},
   "source": [
    "nombre_infected       252\n",
    "nombre_sain          3405\n",
    "nombre_exposed        227\n",
    "nombre_recovered    16116\n",
    "Name: 146, dtype: int64"
   ]
  },
  {
   "cell_type": "markdown",
   "id": "c024b436",
   "metadata": {},
   "source": [
    "nombre_infected       276\n",
    "nombre_sain          3390\n",
    "nombre_exposed        227\n",
    "nombre_recovered    16107\n",
    "Name: 147, dtype: int64"
   ]
  },
  {
   "cell_type": "markdown",
   "id": "a7459d71",
   "metadata": {},
   "source": [
    "nombre_infected       294\n",
    "nombre_sain          3355\n",
    "nombre_exposed        246\n",
    "nombre_recovered    16105\n",
    "Name: 148, dtype: int64"
   ]
  },
  {
   "cell_type": "markdown",
   "id": "a6a50d09",
   "metadata": {},
   "source": [
    "nombre_infected       303\n",
    "nombre_sain          3350\n",
    "nombre_exposed        252\n",
    "nombre_recovered    16095\n",
    "Name: 149, dtype: int64"
   ]
  },
  {
   "cell_type": "markdown",
   "id": "4a6362c2",
   "metadata": {},
   "source": [
    "nombre_infected       322\n",
    "nombre_sain          3332\n",
    "nombre_exposed        260\n",
    "nombre_recovered    16086\n",
    "Name: 150, dtype: int64"
   ]
  },
  {
   "cell_type": "markdown",
   "id": "222511d6",
   "metadata": {},
   "source": [
    "nombre_infected       323\n",
    "nombre_sain          3324\n",
    "nombre_exposed        290\n",
    "nombre_recovered    16063\n",
    "Name: 151, dtype: int64"
   ]
  },
  {
   "cell_type": "markdown",
   "id": "50d9c91e",
   "metadata": {},
   "source": [
    "nombre_infected       342\n",
    "nombre_sain          3307\n",
    "nombre_exposed        309\n",
    "nombre_recovered    16042\n",
    "Name: 152, dtype: int64"
   ]
  },
  {
   "cell_type": "markdown",
   "id": "44ac3204",
   "metadata": {},
   "source": [
    "nombre_infected       355\n",
    "nombre_sain          3290\n",
    "nombre_exposed        318\n",
    "nombre_recovered    16037\n",
    "Name: 153, dtype: int64"
   ]
  },
  {
   "cell_type": "markdown",
   "id": "03cc4c34",
   "metadata": {},
   "source": [
    "nombre_infected       366\n",
    "nombre_sain          3279\n",
    "nombre_exposed        330\n",
    "nombre_recovered    16025\n",
    "Name: 154, dtype: int64"
   ]
  },
  {
   "cell_type": "markdown",
   "id": "ee89cacb",
   "metadata": {},
   "source": [
    "nombre_infected       381\n",
    "nombre_sain          3270\n",
    "nombre_exposed        345\n",
    "nombre_recovered    16004\n",
    "Name: 155, dtype: int64"
   ]
  },
  {
   "cell_type": "markdown",
   "id": "bd83223d",
   "metadata": {},
   "source": [
    "nombre_infected       393\n",
    "nombre_sain          3246\n",
    "nombre_exposed        375\n",
    "nombre_recovered    15986\n",
    "Name: 156, dtype: int64"
   ]
  },
  {
   "cell_type": "markdown",
   "id": "e864a5f4",
   "metadata": {},
   "source": [
    "nombre_infected       408\n",
    "nombre_sain          3225\n",
    "nombre_exposed        372\n",
    "nombre_recovered    15995\n",
    "Name: 157, dtype: int64"
   ]
  },
  {
   "cell_type": "markdown",
   "id": "7dfec3b7",
   "metadata": {},
   "source": [
    "nombre_infected       434\n",
    "nombre_sain          3188\n",
    "nombre_exposed        390\n",
    "nombre_recovered    15988\n",
    "Name: 158, dtype: int64"
   ]
  },
  {
   "cell_type": "markdown",
   "id": "ed6c47af",
   "metadata": {},
   "source": [
    "nombre_infected       467\n",
    "nombre_sain          3156\n",
    "nombre_exposed        394\n",
    "nombre_recovered    15983\n",
    "Name: 159, dtype: int64"
   ]
  },
  {
   "cell_type": "markdown",
   "id": "e525af8f",
   "metadata": {},
   "source": [
    "nombre_infected       496\n",
    "nombre_sain          3117\n",
    "nombre_exposed        399\n",
    "nombre_recovered    15988\n",
    "Name: 160, dtype: int64"
   ]
  },
  {
   "cell_type": "markdown",
   "id": "8ab55bd1",
   "metadata": {},
   "source": [
    "nombre_infected       524\n",
    "nombre_sain          3078\n",
    "nombre_exposed        404\n",
    "nombre_recovered    15994\n",
    "Name: 161, dtype: int64"
   ]
  },
  {
   "cell_type": "markdown",
   "id": "75b3cf72",
   "metadata": {},
   "source": [
    "nombre_infected       530\n",
    "nombre_sain          3034\n",
    "nombre_exposed        424\n",
    "nombre_recovered    16012\n",
    "Name: 162, dtype: int64"
   ]
  },
  {
   "cell_type": "markdown",
   "id": "c8ff38a8",
   "metadata": {},
   "source": [
    "nombre_infected       534\n",
    "nombre_sain          2992\n",
    "nombre_exposed        432\n",
    "nombre_recovered    16042\n",
    "Name: 163, dtype: int64"
   ]
  },
  {
   "cell_type": "markdown",
   "id": "edd0dccc",
   "metadata": {},
   "source": [
    "nombre_infected       551\n",
    "nombre_sain          2976\n",
    "nombre_exposed        429\n",
    "nombre_recovered    16044\n",
    "Name: 164, dtype: int64"
   ]
  },
  {
   "cell_type": "markdown",
   "id": "87b30ab3",
   "metadata": {},
   "source": [
    "nombre_infected       585\n",
    "nombre_sain          2932\n",
    "nombre_exposed        434\n",
    "nombre_recovered    16049\n",
    "Name: 165, dtype: int64"
   ]
  },
  {
   "cell_type": "markdown",
   "id": "d923eb5d",
   "metadata": {},
   "source": [
    "nombre_infected       614\n",
    "nombre_sain          2902\n",
    "nombre_exposed        435\n",
    "nombre_recovered    16049\n",
    "Name: 166, dtype: int64"
   ]
  },
  {
   "cell_type": "markdown",
   "id": "7b0cff4d",
   "metadata": {},
   "source": [
    "nombre_infected       633\n",
    "nombre_sain          2857\n",
    "nombre_exposed        461\n",
    "nombre_recovered    16049\n",
    "Name: 167, dtype: int64"
   ]
  },
  {
   "cell_type": "markdown",
   "id": "9262e106",
   "metadata": {},
   "source": [
    "nombre_infected       627\n",
    "nombre_sain          2828\n",
    "nombre_exposed        505\n",
    "nombre_recovered    16040\n",
    "Name: 168, dtype: int64"
   ]
  },
  {
   "cell_type": "markdown",
   "id": "bfcfc4b1",
   "metadata": {},
   "source": [
    "nombre_infected       654\n",
    "nombre_sain          2789\n",
    "nombre_exposed        509\n",
    "nombre_recovered    16048\n",
    "Name: 169, dtype: int64"
   ]
  },
  {
   "cell_type": "markdown",
   "id": "628dd80f",
   "metadata": {},
   "source": [
    "nombre_infected       696\n",
    "nombre_sain          2726\n",
    "nombre_exposed        512\n",
    "nombre_recovered    16066\n",
    "Name: 170, dtype: int64"
   ]
  },
  {
   "cell_type": "markdown",
   "id": "db84daac",
   "metadata": {},
   "source": [
    "nombre_infected       715\n",
    "nombre_sain          2709\n",
    "nombre_exposed        501\n",
    "nombre_recovered    16075\n",
    "Name: 171, dtype: int64"
   ]
  },
  {
   "cell_type": "markdown",
   "id": "64fea83d",
   "metadata": {},
   "source": [
    "nombre_infected       736\n",
    "nombre_sain          2655\n",
    "nombre_exposed        491\n",
    "nombre_recovered    16118\n",
    "Name: 172, dtype: int64"
   ]
  },
  {
   "cell_type": "markdown",
   "id": "8d81355b",
   "metadata": {},
   "source": [
    "nombre_infected       766\n",
    "nombre_sain          2607\n",
    "nombre_exposed        492\n",
    "nombre_recovered    16135\n",
    "Name: 173, dtype: int64"
   ]
  },
  {
   "cell_type": "markdown",
   "id": "dfd62ab0",
   "metadata": {},
   "source": [
    "nombre_infected       789\n",
    "nombre_sain          2557\n",
    "nombre_exposed        508\n",
    "nombre_recovered    16146\n",
    "Name: 174, dtype: int64"
   ]
  },
  {
   "cell_type": "markdown",
   "id": "38005592",
   "metadata": {},
   "source": [
    "nombre_infected       803\n",
    "nombre_sain          2467\n",
    "nombre_exposed        543\n",
    "nombre_recovered    16187\n",
    "Name: 175, dtype: int64"
   ]
  },
  {
   "cell_type": "markdown",
   "id": "b896fc09",
   "metadata": {},
   "source": [
    "nombre_infected       800\n",
    "nombre_sain          2400\n",
    "nombre_exposed        569\n",
    "nombre_recovered    16231\n",
    "Name: 176, dtype: int64"
   ]
  },
  {
   "cell_type": "markdown",
   "id": "05a8e946",
   "metadata": {},
   "source": [
    "nombre_infected       806\n",
    "nombre_sain          2351\n",
    "nombre_exposed        581\n",
    "nombre_recovered    16262\n",
    "Name: 177, dtype: int64"
   ]
  },
  {
   "cell_type": "markdown",
   "id": "d997981f",
   "metadata": {},
   "source": [
    "nombre_infected       842\n",
    "nombre_sain          2303\n",
    "nombre_exposed        550\n",
    "nombre_recovered    16305\n",
    "Name: 178, dtype: int64"
   ]
  },
  {
   "cell_type": "markdown",
   "id": "7b1c4c69",
   "metadata": {},
   "source": [
    "nombre_infected       848\n",
    "nombre_sain          2241\n",
    "nombre_exposed        553\n",
    "nombre_recovered    16358\n",
    "Name: 179, dtype: int64"
   ]
  },
  {
   "cell_type": "markdown",
   "id": "b172d08f",
   "metadata": {},
   "source": [
    "nombre_infected       870\n",
    "nombre_sain          2180\n",
    "nombre_exposed        544\n",
    "nombre_recovered    16406\n",
    "Name: 180, dtype: int64"
   ]
  },
  {
   "cell_type": "markdown",
   "id": "4fa5466a",
   "metadata": {},
   "source": [
    "nombre_infected       882\n",
    "nombre_sain          2135\n",
    "nombre_exposed        537\n",
    "nombre_recovered    16446\n",
    "Name: 181, dtype: int64"
   ]
  },
  {
   "cell_type": "markdown",
   "id": "4a261fb6",
   "metadata": {},
   "source": [
    "nombre_infected       885\n",
    "nombre_sain          2079\n",
    "nombre_exposed        539\n",
    "nombre_recovered    16497\n",
    "Name: 182, dtype: int64"
   ]
  },
  {
   "cell_type": "markdown",
   "id": "e34dee26",
   "metadata": {},
   "source": [
    "nombre_infected       888\n",
    "nombre_sain          2034\n",
    "nombre_exposed        536\n",
    "nombre_recovered    16542\n",
    "Name: 183, dtype: int64"
   ]
  },
  {
   "cell_type": "markdown",
   "id": "1f3b78bc",
   "metadata": {},
   "source": [
    "nombre_infected       908\n",
    "nombre_sain          2001\n",
    "nombre_exposed        516\n",
    "nombre_recovered    16575\n",
    "Name: 184, dtype: int64"
   ]
  },
  {
   "cell_type": "markdown",
   "id": "86df7bbe",
   "metadata": {},
   "source": [
    "nombre_infected       906\n",
    "nombre_sain          1974\n",
    "nombre_exposed        497\n",
    "nombre_recovered    16623\n",
    "Name: 185, dtype: int64"
   ]
  },
  {
   "cell_type": "markdown",
   "id": "65f66fc4",
   "metadata": {},
   "source": [
    "nombre_infected       907\n",
    "nombre_sain          1932\n",
    "nombre_exposed        503\n",
    "nombre_recovered    16658\n",
    "Name: 186, dtype: int64"
   ]
  },
  {
   "cell_type": "markdown",
   "id": "c0949d5e",
   "metadata": {},
   "source": [
    "nombre_infected       896\n",
    "nombre_sain          1871\n",
    "nombre_exposed        532\n",
    "nombre_recovered    16701\n",
    "Name: 187, dtype: int64"
   ]
  },
  {
   "cell_type": "markdown",
   "id": "2f1fc661",
   "metadata": {},
   "source": [
    "nombre_infected       890\n",
    "nombre_sain          1863\n",
    "nombre_exposed        512\n",
    "nombre_recovered    16735\n",
    "Name: 188, dtype: int64"
   ]
  },
  {
   "cell_type": "markdown",
   "id": "5c79605d",
   "metadata": {},
   "source": [
    "nombre_infected       898\n",
    "nombre_sain          1829\n",
    "nombre_exposed        490\n",
    "nombre_recovered    16783\n",
    "Name: 189, dtype: int64"
   ]
  },
  {
   "cell_type": "markdown",
   "id": "0f6e59c2",
   "metadata": {},
   "source": [
    "nombre_infected       900\n",
    "nombre_sain          1801\n",
    "nombre_exposed        485\n",
    "nombre_recovered    16814\n",
    "Name: 190, dtype: int64"
   ]
  },
  {
   "cell_type": "markdown",
   "id": "dd450039",
   "metadata": {},
   "source": [
    "nombre_infected       898\n",
    "nombre_sain          1773\n",
    "nombre_exposed        479\n",
    "nombre_recovered    16850\n",
    "Name: 191, dtype: int64"
   ]
  },
  {
   "cell_type": "markdown",
   "id": "6985ad0f",
   "metadata": {},
   "source": [
    "nombre_infected       905\n",
    "nombre_sain          1785\n",
    "nombre_exposed        429\n",
    "nombre_recovered    16881\n",
    "Name: 192, dtype: int64"
   ]
  },
  {
   "cell_type": "markdown",
   "id": "25bcc9e4",
   "metadata": {},
   "source": [
    "nombre_infected       898\n",
    "nombre_sain          1785\n",
    "nombre_exposed        400\n",
    "nombre_recovered    16917\n",
    "Name: 193, dtype: int64"
   ]
  },
  {
   "cell_type": "markdown",
   "id": "8e2ed832",
   "metadata": {},
   "source": [
    "nombre_infected       857\n",
    "nombre_sain          1784\n",
    "nombre_exposed        410\n",
    "nombre_recovered    16949\n",
    "Name: 194, dtype: int64"
   ]
  },
  {
   "cell_type": "markdown",
   "id": "44a4cf28",
   "metadata": {},
   "source": [
    "nombre_infected       844\n",
    "nombre_sain          1792\n",
    "nombre_exposed        383\n",
    "nombre_recovered    16981\n",
    "Name: 195, dtype: int64"
   ]
  },
  {
   "cell_type": "markdown",
   "id": "0e2d2c8a",
   "metadata": {},
   "source": [
    "nombre_infected       799\n",
    "nombre_sain          1786\n",
    "nombre_exposed        392\n",
    "nombre_recovered    17023\n",
    "Name: 196, dtype: int64"
   ]
  },
  {
   "cell_type": "markdown",
   "id": "d524800e",
   "metadata": {},
   "source": [
    "nombre_infected       760\n",
    "nombre_sain          1780\n",
    "nombre_exposed        402\n",
    "nombre_recovered    17058\n",
    "Name: 197, dtype: int64"
   ]
  },
  {
   "cell_type": "markdown",
   "id": "9d2b5070",
   "metadata": {},
   "source": [
    "nombre_infected       742\n",
    "nombre_sain          1777\n",
    "nombre_exposed        411\n",
    "nombre_recovered    17070\n",
    "Name: 198, dtype: int64"
   ]
  },
  {
   "cell_type": "markdown",
   "id": "1c6c5877",
   "metadata": {},
   "source": [
    "nombre_infected       735\n",
    "nombre_sain          1772\n",
    "nombre_exposed        389\n",
    "nombre_recovered    17104\n",
    "Name: 199, dtype: int64"
   ]
  },
  {
   "cell_type": "markdown",
   "id": "73ad30c8",
   "metadata": {},
   "source": [
    "nombre_infected       697\n",
    "nombre_sain          1767\n",
    "nombre_exposed        407\n",
    "nombre_recovered    17129\n",
    "Name: 200, dtype: int64"
   ]
  },
  {
   "cell_type": "markdown",
   "id": "ac55b8e6",
   "metadata": {},
   "source": [
    "nombre_infected       682\n",
    "nombre_sain          1776\n",
    "nombre_exposed        392\n",
    "nombre_recovered    17150\n",
    "Name: 201, dtype: int64"
   ]
  },
  {
   "cell_type": "markdown",
   "id": "ae813302",
   "metadata": {},
   "source": [
    "nombre_infected       669\n",
    "nombre_sain          1766\n",
    "nombre_exposed        400\n",
    "nombre_recovered    17165\n",
    "Name: 202, dtype: int64"
   ]
  },
  {
   "cell_type": "markdown",
   "id": "07019001",
   "metadata": {},
   "source": [
    "nombre_infected       652\n",
    "nombre_sain          1768\n",
    "nombre_exposed        401\n",
    "nombre_recovered    17179\n",
    "Name: 203, dtype: int64"
   ]
  },
  {
   "cell_type": "markdown",
   "id": "0701edb2",
   "metadata": {},
   "source": [
    "nombre_infected       646\n",
    "nombre_sain          1800\n",
    "nombre_exposed        374\n",
    "nombre_recovered    17180\n",
    "Name: 204, dtype: int64"
   ]
  },
  {
   "cell_type": "markdown",
   "id": "ccc385bf",
   "metadata": {},
   "source": [
    "nombre_infected       618\n",
    "nombre_sain          1809\n",
    "nombre_exposed        371\n",
    "nombre_recovered    17202\n",
    "Name: 205, dtype: int64"
   ]
  },
  {
   "cell_type": "markdown",
   "id": "def6be98",
   "metadata": {},
   "source": [
    "nombre_infected       595\n",
    "nombre_sain          1844\n",
    "nombre_exposed        356\n",
    "nombre_recovered    17205\n",
    "Name: 206, dtype: int64"
   ]
  },
  {
   "cell_type": "markdown",
   "id": "a0315655",
   "metadata": {},
   "source": [
    "nombre_infected       570\n",
    "nombre_sain          1841\n",
    "nombre_exposed        359\n",
    "nombre_recovered    17230\n",
    "Name: 207, dtype: int64"
   ]
  },
  {
   "cell_type": "markdown",
   "id": "b1633abe",
   "metadata": {},
   "source": [
    "nombre_infected       571\n",
    "nombre_sain          1860\n",
    "nombre_exposed        353\n",
    "nombre_recovered    17216\n",
    "Name: 208, dtype: int64"
   ]
  },
  {
   "cell_type": "markdown",
   "id": "7a70fd2b",
   "metadata": {},
   "source": [
    "nombre_infected       564\n",
    "nombre_sain          1874\n",
    "nombre_exposed        349\n",
    "nombre_recovered    17213\n",
    "Name: 209, dtype: int64"
   ]
  },
  {
   "cell_type": "markdown",
   "id": "02b31750",
   "metadata": {},
   "source": [
    "nombre_infected       558\n",
    "nombre_sain          1871\n",
    "nombre_exposed        355\n",
    "nombre_recovered    17216\n",
    "Name: 210, dtype: int64"
   ]
  },
  {
   "cell_type": "markdown",
   "id": "6319d821",
   "metadata": {},
   "source": [
    "nombre_infected       540\n",
    "nombre_sain          1901\n",
    "nombre_exposed        332\n",
    "nombre_recovered    17227\n",
    "Name: 211, dtype: int64"
   ]
  },
  {
   "cell_type": "markdown",
   "id": "15105e2a",
   "metadata": {},
   "source": [
    "nombre_infected       546\n",
    "nombre_sain          1938\n",
    "nombre_exposed        310\n",
    "nombre_recovered    17206\n",
    "Name: 212, dtype: int64"
   ]
  },
  {
   "cell_type": "markdown",
   "id": "1e8a4aea",
   "metadata": {},
   "source": [
    "nombre_infected       545\n",
    "nombre_sain          1972\n",
    "nombre_exposed        301\n",
    "nombre_recovered    17182\n",
    "Name: 213, dtype: int64"
   ]
  },
  {
   "cell_type": "markdown",
   "id": "a34eda53",
   "metadata": {},
   "source": [
    "nombre_infected       535\n",
    "nombre_sain          1990\n",
    "nombre_exposed        296\n",
    "nombre_recovered    17179\n",
    "Name: 214, dtype: int64"
   ]
  },
  {
   "cell_type": "markdown",
   "id": "1df91c3d",
   "metadata": {},
   "source": [
    "nombre_infected       525\n",
    "nombre_sain          1998\n",
    "nombre_exposed        315\n",
    "nombre_recovered    17162\n",
    "Name: 215, dtype: int64"
   ]
  },
  {
   "cell_type": "markdown",
   "id": "d8b555e1",
   "metadata": {},
   "source": [
    "nombre_infected       531\n",
    "nombre_sain          2015\n",
    "nombre_exposed        301\n",
    "nombre_recovered    17153\n",
    "Name: 216, dtype: int64"
   ]
  },
  {
   "cell_type": "markdown",
   "id": "8f76f3be",
   "metadata": {},
   "source": [
    "nombre_infected       524\n",
    "nombre_sain          2043\n",
    "nombre_exposed        303\n",
    "nombre_recovered    17130\n",
    "Name: 217, dtype: int64"
   ]
  },
  {
   "cell_type": "markdown",
   "id": "26e86ada",
   "metadata": {},
   "source": [
    "nombre_infected       490\n",
    "nombre_sain          2069\n",
    "nombre_exposed        309\n",
    "nombre_recovered    17132\n",
    "Name: 218, dtype: int64"
   ]
  },
  {
   "cell_type": "markdown",
   "id": "4d2444ac",
   "metadata": {},
   "source": [
    "nombre_infected       475\n",
    "nombre_sain          2088\n",
    "nombre_exposed        332\n",
    "nombre_recovered    17105\n",
    "Name: 219, dtype: int64"
   ]
  },
  {
   "cell_type": "markdown",
   "id": "5c1bafed",
   "metadata": {},
   "source": [
    "nombre_infected       462\n",
    "nombre_sain          2120\n",
    "nombre_exposed        322\n",
    "nombre_recovered    17096\n",
    "Name: 220, dtype: int64"
   ]
  },
  {
   "cell_type": "markdown",
   "id": "cf5aaf4d",
   "metadata": {},
   "source": [
    "nombre_infected       460\n",
    "nombre_sain          2155\n",
    "nombre_exposed        302\n",
    "nombre_recovered    17083\n",
    "Name: 221, dtype: int64"
   ]
  },
  {
   "cell_type": "markdown",
   "id": "fa18b928",
   "metadata": {},
   "source": [
    "nombre_infected       457\n",
    "nombre_sain          2175\n",
    "nombre_exposed        292\n",
    "nombre_recovered    17076\n",
    "Name: 222, dtype: int64"
   ]
  },
  {
   "cell_type": "markdown",
   "id": "1fab873a",
   "metadata": {},
   "source": [
    "nombre_infected       472\n",
    "nombre_sain          2194\n",
    "nombre_exposed        299\n",
    "nombre_recovered    17035\n",
    "Name: 223, dtype: int64"
   ]
  },
  {
   "cell_type": "markdown",
   "id": "43bfbdf7",
   "metadata": {},
   "source": [
    "nombre_infected       462\n",
    "nombre_sain          2229\n",
    "nombre_exposed        315\n",
    "nombre_recovered    16994\n",
    "Name: 224, dtype: int64"
   ]
  },
  {
   "cell_type": "markdown",
   "id": "0708d810",
   "metadata": {},
   "source": [
    "nombre_infected       457\n",
    "nombre_sain          2286\n",
    "nombre_exposed        314\n",
    "nombre_recovered    16943\n",
    "Name: 225, dtype: int64"
   ]
  },
  {
   "cell_type": "markdown",
   "id": "89813fa7",
   "metadata": {},
   "source": [
    "nombre_infected       471\n",
    "nombre_sain          2326\n",
    "nombre_exposed        315\n",
    "nombre_recovered    16888\n",
    "Name: 226, dtype: int64"
   ]
  },
  {
   "cell_type": "markdown",
   "id": "79f8dfbf",
   "metadata": {},
   "source": [
    "nombre_infected       468\n",
    "nombre_sain          2359\n",
    "nombre_exposed        311\n",
    "nombre_recovered    16862\n",
    "Name: 227, dtype: int64"
   ]
  },
  {
   "cell_type": "markdown",
   "id": "1eba613d",
   "metadata": {},
   "source": [
    "nombre_infected       466\n",
    "nombre_sain          2392\n",
    "nombre_exposed        315\n",
    "nombre_recovered    16827\n",
    "Name: 228, dtype: int64"
   ]
  },
  {
   "cell_type": "markdown",
   "id": "15e9264c",
   "metadata": {},
   "source": [
    "nombre_infected       471\n",
    "nombre_sain          2413\n",
    "nombre_exposed        336\n",
    "nombre_recovered    16780\n",
    "Name: 229, dtype: int64"
   ]
  },
  {
   "cell_type": "markdown",
   "id": "dbf5d113",
   "metadata": {},
   "source": [
    "nombre_infected       494\n",
    "nombre_sain          2456\n",
    "nombre_exposed        327\n",
    "nombre_recovered    16723\n",
    "Name: 230, dtype: int64"
   ]
  },
  {
   "cell_type": "markdown",
   "id": "8f045140",
   "metadata": {},
   "source": [
    "nombre_infected       496\n",
    "nombre_sain          2506\n",
    "nombre_exposed        327\n",
    "nombre_recovered    16671\n",
    "Name: 231, dtype: int64"
   ]
  },
  {
   "cell_type": "markdown",
   "id": "621d45c8",
   "metadata": {},
   "source": [
    "nombre_infected       512\n",
    "nombre_sain          2538\n",
    "nombre_exposed        329\n",
    "nombre_recovered    16621\n",
    "Name: 232, dtype: int64"
   ]
  },
  {
   "cell_type": "markdown",
   "id": "acf5c2b8",
   "metadata": {},
   "source": [
    "nombre_infected       518\n",
    "nombre_sain          2534\n",
    "nombre_exposed        352\n",
    "nombre_recovered    16596\n",
    "Name: 233, dtype: int64"
   ]
  },
  {
   "cell_type": "markdown",
   "id": "e9b4f003",
   "metadata": {},
   "source": [
    "nombre_infected       522\n",
    "nombre_sain          2561\n",
    "nombre_exposed        345\n",
    "nombre_recovered    16572\n",
    "Name: 234, dtype: int64"
   ]
  },
  {
   "cell_type": "markdown",
   "id": "032eb989",
   "metadata": {},
   "source": [
    "nombre_infected       535\n",
    "nombre_sain          2541\n",
    "nombre_exposed        358\n",
    "nombre_recovered    16566\n",
    "Name: 235, dtype: int64"
   ]
  },
  {
   "cell_type": "markdown",
   "id": "d5bbee22",
   "metadata": {},
   "source": [
    "nombre_infected       533\n",
    "nombre_sain          2539\n",
    "nombre_exposed        371\n",
    "nombre_recovered    16557\n",
    "Name: 236, dtype: int64"
   ]
  },
  {
   "cell_type": "markdown",
   "id": "5b8505a1",
   "metadata": {},
   "source": [
    "nombre_infected       513\n",
    "nombre_sain          2548\n",
    "nombre_exposed        380\n",
    "nombre_recovered    16559\n",
    "Name: 237, dtype: int64"
   ]
  },
  {
   "cell_type": "markdown",
   "id": "4b1fc47e",
   "metadata": {},
   "source": [
    "nombre_infected       514\n",
    "nombre_sain          2552\n",
    "nombre_exposed        393\n",
    "nombre_recovered    16541\n",
    "Name: 238, dtype: int64"
   ]
  },
  {
   "cell_type": "markdown",
   "id": "8aa81f95",
   "metadata": {},
   "source": [
    "nombre_infected       530\n",
    "nombre_sain          2545\n",
    "nombre_exposed        394\n",
    "nombre_recovered    16531\n",
    "Name: 239, dtype: int64"
   ]
  },
  {
   "cell_type": "markdown",
   "id": "76fc9d8d",
   "metadata": {},
   "source": [
    "nombre_infected       547\n",
    "nombre_sain          2526\n",
    "nombre_exposed        399\n",
    "nombre_recovered    16528\n",
    "Name: 240, dtype: int64"
   ]
  },
  {
   "cell_type": "markdown",
   "id": "cd79c696",
   "metadata": {},
   "source": [
    "nombre_infected       550\n",
    "nombre_sain          2527\n",
    "nombre_exposed        397\n",
    "nombre_recovered    16526\n",
    "Name: 241, dtype: int64"
   ]
  },
  {
   "cell_type": "markdown",
   "id": "061eb242",
   "metadata": {},
   "source": [
    "nombre_infected       553\n",
    "nombre_sain          2534\n",
    "nombre_exposed        402\n",
    "nombre_recovered    16511\n",
    "Name: 242, dtype: int64"
   ]
  },
  {
   "cell_type": "markdown",
   "id": "56e27df4",
   "metadata": {},
   "source": [
    "nombre_infected       573\n",
    "nombre_sain          2507\n",
    "nombre_exposed        408\n",
    "nombre_recovered    16512\n",
    "Name: 243, dtype: int64"
   ]
  },
  {
   "cell_type": "markdown",
   "id": "4e5ecf9a",
   "metadata": {},
   "source": [
    "nombre_infected       579\n",
    "nombre_sain          2488\n",
    "nombre_exposed        424\n",
    "nombre_recovered    16509\n",
    "Name: 244, dtype: int64"
   ]
  },
  {
   "cell_type": "markdown",
   "id": "b9aa4513",
   "metadata": {},
   "source": [
    "nombre_infected       588\n",
    "nombre_sain          2495\n",
    "nombre_exposed        407\n",
    "nombre_recovered    16510\n",
    "Name: 245, dtype: int64"
   ]
  },
  {
   "cell_type": "markdown",
   "id": "ec281314",
   "metadata": {},
   "source": [
    "nombre_infected       616\n",
    "nombre_sain          2480\n",
    "nombre_exposed        399\n",
    "nombre_recovered    16505\n",
    "Name: 246, dtype: int64"
   ]
  },
  {
   "cell_type": "markdown",
   "id": "bedb7cb8",
   "metadata": {},
   "source": [
    "nombre_infected       633\n",
    "nombre_sain          2482\n",
    "nombre_exposed        394\n",
    "nombre_recovered    16491\n",
    "Name: 247, dtype: int64"
   ]
  },
  {
   "cell_type": "markdown",
   "id": "4bf7acba",
   "metadata": {},
   "source": [
    "nombre_infected       609\n",
    "nombre_sain          2473\n",
    "nombre_exposed        418\n",
    "nombre_recovered    16500\n",
    "Name: 248, dtype: int64"
   ]
  },
  {
   "cell_type": "markdown",
   "id": "785a606f",
   "metadata": {},
   "source": [
    "nombre_infected       594\n",
    "nombre_sain          2450\n",
    "nombre_exposed        437\n",
    "nombre_recovered    16519\n",
    "Name: 249, dtype: int64"
   ]
  },
  {
   "cell_type": "markdown",
   "id": "ff2de1a0",
   "metadata": {},
   "source": [
    "nombre_infected       601\n",
    "nombre_sain          2474\n",
    "nombre_exposed        414\n",
    "nombre_recovered    16511\n",
    "Name: 250, dtype: int64"
   ]
  },
  {
   "cell_type": "markdown",
   "id": "51d582ef",
   "metadata": {},
   "source": [
    "nombre_infected       602\n",
    "nombre_sain          2471\n",
    "nombre_exposed        430\n",
    "nombre_recovered    16497\n",
    "Name: 251, dtype: int64"
   ]
  },
  {
   "cell_type": "markdown",
   "id": "08f1c901",
   "metadata": {},
   "source": [
    "nombre_infected       606\n",
    "nombre_sain          2477\n",
    "nombre_exposed        436\n",
    "nombre_recovered    16481\n",
    "Name: 252, dtype: int64"
   ]
  },
  {
   "cell_type": "markdown",
   "id": "e220a82b",
   "metadata": {},
   "source": [
    "nombre_infected       626\n",
    "nombre_sain          2471\n",
    "nombre_exposed        436\n",
    "nombre_recovered    16467\n",
    "Name: 253, dtype: int64"
   ]
  },
  {
   "cell_type": "markdown",
   "id": "663fdca7",
   "metadata": {},
   "source": [
    "nombre_infected       633\n",
    "nombre_sain          2466\n",
    "nombre_exposed        433\n",
    "nombre_recovered    16468\n",
    "Name: 254, dtype: int64"
   ]
  },
  {
   "cell_type": "markdown",
   "id": "59e46308",
   "metadata": {},
   "source": [
    "nombre_infected       636\n",
    "nombre_sain          2472\n",
    "nombre_exposed        419\n",
    "nombre_recovered    16473\n",
    "Name: 255, dtype: int64"
   ]
  },
  {
   "cell_type": "markdown",
   "id": "6cb2c190",
   "metadata": {},
   "source": [
    "nombre_infected       667\n",
    "nombre_sain          2475\n",
    "nombre_exposed        393\n",
    "nombre_recovered    16465\n",
    "Name: 256, dtype: int64"
   ]
  },
  {
   "cell_type": "markdown",
   "id": "2a2176a3",
   "metadata": {},
   "source": [
    "nombre_infected       670\n",
    "nombre_sain          2454\n",
    "nombre_exposed        411\n",
    "nombre_recovered    16465\n",
    "Name: 257, dtype: int64"
   ]
  },
  {
   "cell_type": "markdown",
   "id": "63a43de4",
   "metadata": {},
   "source": [
    "nombre_infected       650\n",
    "nombre_sain          2446\n",
    "nombre_exposed        431\n",
    "nombre_recovered    16473\n",
    "Name: 258, dtype: int64"
   ]
  },
  {
   "cell_type": "markdown",
   "id": "18a7f901",
   "metadata": {},
   "source": [
    "nombre_infected       650\n",
    "nombre_sain          2423\n",
    "nombre_exposed        436\n",
    "nombre_recovered    16491\n",
    "Name: 259, dtype: int64"
   ]
  },
  {
   "cell_type": "markdown",
   "id": "fd9f38d1",
   "metadata": {},
   "source": [
    "nombre_infected       657\n",
    "nombre_sain          2425\n",
    "nombre_exposed        427\n",
    "nombre_recovered    16491\n",
    "Name: 260, dtype: int64"
   ]
  },
  {
   "cell_type": "markdown",
   "id": "d0c9044e",
   "metadata": {},
   "source": [
    "nombre_infected       652\n",
    "nombre_sain          2396\n",
    "nombre_exposed        431\n",
    "nombre_recovered    16521\n",
    "Name: 261, dtype: int64"
   ]
  },
  {
   "cell_type": "markdown",
   "id": "45454f2b",
   "metadata": {},
   "source": [
    "nombre_infected       661\n",
    "nombre_sain          2384\n",
    "nombre_exposed        428\n",
    "nombre_recovered    16527\n",
    "Name: 262, dtype: int64"
   ]
  },
  {
   "cell_type": "markdown",
   "id": "dc13e136",
   "metadata": {},
   "source": [
    "nombre_infected       669\n",
    "nombre_sain          2368\n",
    "nombre_exposed        416\n",
    "nombre_recovered    16547\n",
    "Name: 263, dtype: int64"
   ]
  },
  {
   "cell_type": "markdown",
   "id": "0d265dfa",
   "metadata": {},
   "source": [
    "nombre_infected       674\n",
    "nombre_sain          2344\n",
    "nombre_exposed        418\n",
    "nombre_recovered    16564\n",
    "Name: 264, dtype: int64"
   ]
  },
  {
   "cell_type": "markdown",
   "id": "04ba7d7f",
   "metadata": {},
   "source": [
    "nombre_infected       685\n",
    "nombre_sain          2347\n",
    "nombre_exposed        407\n",
    "nombre_recovered    16561\n",
    "Name: 265, dtype: int64"
   ]
  },
  {
   "cell_type": "markdown",
   "id": "f40e54a0",
   "metadata": {},
   "source": [
    "nombre_infected       682\n",
    "nombre_sain          2328\n",
    "nombre_exposed        413\n",
    "nombre_recovered    16577\n",
    "Name: 266, dtype: int64"
   ]
  },
  {
   "cell_type": "markdown",
   "id": "0fe9a98c",
   "metadata": {},
   "source": [
    "nombre_infected       681\n",
    "nombre_sain          2323\n",
    "nombre_exposed        400\n",
    "nombre_recovered    16596\n",
    "Name: 267, dtype: int64"
   ]
  },
  {
   "cell_type": "markdown",
   "id": "6ca2956a",
   "metadata": {},
   "source": [
    "nombre_infected       668\n",
    "nombre_sain          2301\n",
    "nombre_exposed        399\n",
    "nombre_recovered    16632\n",
    "Name: 268, dtype: int64"
   ]
  },
  {
   "cell_type": "markdown",
   "id": "ca273681",
   "metadata": {},
   "source": [
    "nombre_infected       681\n",
    "nombre_sain          2286\n",
    "nombre_exposed        396\n",
    "nombre_recovered    16637\n",
    "Name: 269, dtype: int64"
   ]
  },
  {
   "cell_type": "markdown",
   "id": "7e2151d1",
   "metadata": {},
   "source": [
    "nombre_infected       643\n",
    "nombre_sain          2290\n",
    "nombre_exposed        390\n",
    "nombre_recovered    16677\n",
    "Name: 270, dtype: int64"
   ]
  },
  {
   "cell_type": "markdown",
   "id": "6c6fa47f",
   "metadata": {},
   "source": [
    "nombre_infected       633\n",
    "nombre_sain          2294\n",
    "nombre_exposed        384\n",
    "nombre_recovered    16689\n",
    "Name: 271, dtype: int64"
   ]
  },
  {
   "cell_type": "markdown",
   "id": "c2ac852b",
   "metadata": {},
   "source": [
    "nombre_infected       645\n",
    "nombre_sain          2285\n",
    "nombre_exposed        374\n",
    "nombre_recovered    16696\n",
    "Name: 272, dtype: int64"
   ]
  },
  {
   "cell_type": "markdown",
   "id": "b6a8d05b",
   "metadata": {},
   "source": [
    "nombre_infected       631\n",
    "nombre_sain          2281\n",
    "nombre_exposed        383\n",
    "nombre_recovered    16705\n",
    "Name: 273, dtype: int64"
   ]
  },
  {
   "cell_type": "markdown",
   "id": "11c2132c",
   "metadata": {},
   "source": [
    "nombre_infected       641\n",
    "nombre_sain          2307\n",
    "nombre_exposed        370\n",
    "nombre_recovered    16682\n",
    "Name: 274, dtype: int64"
   ]
  },
  {
   "cell_type": "markdown",
   "id": "baf88e44",
   "metadata": {},
   "source": [
    "nombre_infected       627\n",
    "nombre_sain          2302\n",
    "nombre_exposed        399\n",
    "nombre_recovered    16672\n",
    "Name: 275, dtype: int64"
   ]
  },
  {
   "cell_type": "markdown",
   "id": "24185f6e",
   "metadata": {},
   "source": [
    "nombre_infected       627\n",
    "nombre_sain          2328\n",
    "nombre_exposed        402\n",
    "nombre_recovered    16643\n",
    "Name: 276, dtype: int64"
   ]
  },
  {
   "cell_type": "markdown",
   "id": "65730945",
   "metadata": {},
   "source": [
    "nombre_infected       636\n",
    "nombre_sain          2332\n",
    "nombre_exposed        393\n",
    "nombre_recovered    16639\n",
    "Name: 277, dtype: int64"
   ]
  },
  {
   "cell_type": "markdown",
   "id": "92dca0f6",
   "metadata": {},
   "source": [
    "nombre_infected       657\n",
    "nombre_sain          2340\n",
    "nombre_exposed        371\n",
    "nombre_recovered    16632\n",
    "Name: 278, dtype: int64"
   ]
  },
  {
   "cell_type": "markdown",
   "id": "e65e6ca9",
   "metadata": {},
   "source": [
    "nombre_infected       644\n",
    "nombre_sain          2336\n",
    "nombre_exposed        375\n",
    "nombre_recovered    16645\n",
    "Name: 279, dtype: int64"
   ]
  },
  {
   "cell_type": "markdown",
   "id": "6297daee",
   "metadata": {},
   "source": [
    "nombre_infected       662\n",
    "nombre_sain          2347\n",
    "nombre_exposed        367\n",
    "nombre_recovered    16624\n",
    "Name: 280, dtype: int64"
   ]
  },
  {
   "cell_type": "markdown",
   "id": "4942f10f",
   "metadata": {},
   "source": [
    "nombre_infected       651\n",
    "nombre_sain          2350\n",
    "nombre_exposed        385\n",
    "nombre_recovered    16614\n",
    "Name: 281, dtype: int64"
   ]
  },
  {
   "cell_type": "markdown",
   "id": "cdc6c9a9",
   "metadata": {},
   "source": [
    "nombre_infected       649\n",
    "nombre_sain          2365\n",
    "nombre_exposed        395\n",
    "nombre_recovered    16591\n",
    "Name: 282, dtype: int64"
   ]
  },
  {
   "cell_type": "markdown",
   "id": "fe2d0685",
   "metadata": {},
   "source": [
    "nombre_infected       634\n",
    "nombre_sain          2392\n",
    "nombre_exposed        400\n",
    "nombre_recovered    16574\n",
    "Name: 283, dtype: int64"
   ]
  },
  {
   "cell_type": "markdown",
   "id": "956c8268",
   "metadata": {},
   "source": [
    "nombre_infected       630\n",
    "nombre_sain          2392\n",
    "nombre_exposed        421\n",
    "nombre_recovered    16557\n",
    "Name: 284, dtype: int64"
   ]
  },
  {
   "cell_type": "markdown",
   "id": "2d2d7179",
   "metadata": {},
   "source": [
    "nombre_infected       629\n",
    "nombre_sain          2388\n",
    "nombre_exposed        427\n",
    "nombre_recovered    16556\n",
    "Name: 285, dtype: int64"
   ]
  },
  {
   "cell_type": "markdown",
   "id": "9f168e34",
   "metadata": {},
   "source": [
    "nombre_infected       640\n",
    "nombre_sain          2394\n",
    "nombre_exposed        410\n",
    "nombre_recovered    16556\n",
    "Name: 286, dtype: int64"
   ]
  },
  {
   "cell_type": "markdown",
   "id": "5a3082a6",
   "metadata": {},
   "source": [
    "nombre_infected       638\n",
    "nombre_sain          2407\n",
    "nombre_exposed        409\n",
    "nombre_recovered    16546\n",
    "Name: 287, dtype: int64"
   ]
  },
  {
   "cell_type": "markdown",
   "id": "ba85a43b",
   "metadata": {},
   "source": [
    "nombre_infected       667\n",
    "nombre_sain          2421\n",
    "nombre_exposed        378\n",
    "nombre_recovered    16534\n",
    "Name: 288, dtype: int64"
   ]
  },
  {
   "cell_type": "markdown",
   "id": "93143501",
   "metadata": {},
   "source": [
    "nombre_infected       667\n",
    "nombre_sain          2402\n",
    "nombre_exposed        389\n",
    "nombre_recovered    16542\n",
    "Name: 289, dtype: int64"
   ]
  },
  {
   "cell_type": "markdown",
   "id": "23e42833",
   "metadata": {},
   "source": [
    "nombre_infected       638\n",
    "nombre_sain          2422\n",
    "nombre_exposed        399\n",
    "nombre_recovered    16541\n",
    "Name: 290, dtype: int64"
   ]
  },
  {
   "cell_type": "markdown",
   "id": "414bcac0",
   "metadata": {},
   "source": [
    "nombre_infected       640\n",
    "nombre_sain          2416\n",
    "nombre_exposed        416\n",
    "nombre_recovered    16528\n",
    "Name: 291, dtype: int64"
   ]
  },
  {
   "cell_type": "markdown",
   "id": "e787095f",
   "metadata": {},
   "source": [
    "nombre_infected       639\n",
    "nombre_sain          2405\n",
    "nombre_exposed        425\n",
    "nombre_recovered    16531\n",
    "Name: 292, dtype: int64"
   ]
  },
  {
   "cell_type": "markdown",
   "id": "954d5145",
   "metadata": {},
   "source": [
    "nombre_infected       627\n",
    "nombre_sain          2424\n",
    "nombre_exposed        428\n",
    "nombre_recovered    16521\n",
    "Name: 293, dtype: int64"
   ]
  },
  {
   "cell_type": "markdown",
   "id": "abbcd421",
   "metadata": {},
   "source": [
    "nombre_infected       647\n",
    "nombre_sain          2437\n",
    "nombre_exposed        417\n",
    "nombre_recovered    16499\n",
    "Name: 294, dtype: int64"
   ]
  },
  {
   "cell_type": "markdown",
   "id": "7e75cf68",
   "metadata": {},
   "source": [
    "nombre_infected       649\n",
    "nombre_sain          2473\n",
    "nombre_exposed        419\n",
    "nombre_recovered    16459\n",
    "Name: 295, dtype: int64"
   ]
  },
  {
   "cell_type": "markdown",
   "id": "73f8aa67",
   "metadata": {},
   "source": [
    "nombre_infected       652\n",
    "nombre_sain          2494\n",
    "nombre_exposed        412\n",
    "nombre_recovered    16442\n",
    "Name: 296, dtype: int64"
   ]
  },
  {
   "cell_type": "markdown",
   "id": "f5ede535",
   "metadata": {},
   "source": [
    "nombre_infected       668\n",
    "nombre_sain          2491\n",
    "nombre_exposed        407\n",
    "nombre_recovered    16434\n",
    "Name: 297, dtype: int64"
   ]
  },
  {
   "cell_type": "markdown",
   "id": "5fa7b650",
   "metadata": {},
   "source": [
    "nombre_infected       663\n",
    "nombre_sain          2498\n",
    "nombre_exposed        437\n",
    "nombre_recovered    16402\n",
    "Name: 298, dtype: int64"
   ]
  },
  {
   "cell_type": "markdown",
   "id": "8d9b8534",
   "metadata": {},
   "source": [
    "nombre_infected       639\n",
    "nombre_sain          2489\n",
    "nombre_exposed        460\n",
    "nombre_recovered    16412\n",
    "Name: 299, dtype: int64"
   ]
  },
  {
   "cell_type": "markdown",
   "id": "461d93e6",
   "metadata": {},
   "source": [
    "nombre_infected       654\n",
    "nombre_sain          2511\n",
    "nombre_exposed        463\n",
    "nombre_recovered    16372\n",
    "Name: 300, dtype: int64"
   ]
  },
  {
   "cell_type": "markdown",
   "id": "a7296b93",
   "metadata": {},
   "source": [
    "nombre_infected       689\n",
    "nombre_sain          2505\n",
    "nombre_exposed        469\n",
    "nombre_recovered    16337\n",
    "Name: 301, dtype: int64"
   ]
  },
  {
   "cell_type": "markdown",
   "id": "2985ff6c",
   "metadata": {},
   "source": [
    "nombre_infected       696\n",
    "nombre_sain          2492\n",
    "nombre_exposed        471\n",
    "nombre_recovered    16341\n",
    "Name: 302, dtype: int64"
   ]
  },
  {
   "cell_type": "markdown",
   "id": "67eb7acb",
   "metadata": {},
   "source": [
    "nombre_infected       712\n",
    "nombre_sain          2482\n",
    "nombre_exposed        480\n",
    "nombre_recovered    16326\n",
    "Name: 303, dtype: int64"
   ]
  },
  {
   "cell_type": "markdown",
   "id": "e8083639",
   "metadata": {},
   "source": [
    "nombre_infected       724\n",
    "nombre_sain          2466\n",
    "nombre_exposed        490\n",
    "nombre_recovered    16320\n",
    "Name: 304, dtype: int64"
   ]
  },
  {
   "cell_type": "markdown",
   "id": "14e9facb",
   "metadata": {},
   "source": [
    "nombre_infected       736\n",
    "nombre_sain          2447\n",
    "nombre_exposed        489\n",
    "nombre_recovered    16328\n",
    "Name: 305, dtype: int64"
   ]
  },
  {
   "cell_type": "markdown",
   "id": "9141ef0f",
   "metadata": {},
   "source": [
    "nombre_infected       745\n",
    "nombre_sain          2421\n",
    "nombre_exposed        497\n",
    "nombre_recovered    16337\n",
    "Name: 306, dtype: int64"
   ]
  },
  {
   "cell_type": "markdown",
   "id": "cc331798",
   "metadata": {},
   "source": [
    "nombre_infected       763\n",
    "nombre_sain          2391\n",
    "nombre_exposed        504\n",
    "nombre_recovered    16342\n",
    "Name: 307, dtype: int64"
   ]
  },
  {
   "cell_type": "markdown",
   "id": "58d93920",
   "metadata": {},
   "source": [
    "nombre_infected       777\n",
    "nombre_sain          2371\n",
    "nombre_exposed        511\n",
    "nombre_recovered    16341\n",
    "Name: 308, dtype: int64"
   ]
  },
  {
   "cell_type": "markdown",
   "id": "563af087",
   "metadata": {},
   "source": [
    "nombre_infected       792\n",
    "nombre_sain          2376\n",
    "nombre_exposed        502\n",
    "nombre_recovered    16330\n",
    "Name: 309, dtype: int64"
   ]
  },
  {
   "cell_type": "markdown",
   "id": "8e4e78e2",
   "metadata": {},
   "source": [
    "nombre_infected       794\n",
    "nombre_sain          2343\n",
    "nombre_exposed        536\n",
    "nombre_recovered    16327\n",
    "Name: 310, dtype: int64"
   ]
  },
  {
   "cell_type": "markdown",
   "id": "1e90118c",
   "metadata": {},
   "source": [
    "nombre_infected       810\n",
    "nombre_sain          2328\n",
    "nombre_exposed        539\n",
    "nombre_recovered    16323\n",
    "Name: 311, dtype: int64"
   ]
  },
  {
   "cell_type": "markdown",
   "id": "e638e215",
   "metadata": {},
   "source": [
    "nombre_infected       806\n",
    "nombre_sain          2321\n",
    "nombre_exposed        549\n",
    "nombre_recovered    16324\n",
    "Name: 312, dtype: int64"
   ]
  },
  {
   "cell_type": "markdown",
   "id": "1d952e7c",
   "metadata": {},
   "source": [
    "nombre_infected       808\n",
    "nombre_sain          2288\n",
    "nombre_exposed        555\n",
    "nombre_recovered    16349\n",
    "Name: 313, dtype: int64"
   ]
  },
  {
   "cell_type": "markdown",
   "id": "7b5b4a95",
   "metadata": {},
   "source": [
    "nombre_infected       835\n",
    "nombre_sain          2264\n",
    "nombre_exposed        529\n",
    "nombre_recovered    16372\n",
    "Name: 314, dtype: int64"
   ]
  },
  {
   "cell_type": "markdown",
   "id": "cdc51674",
   "metadata": {},
   "source": [
    "nombre_infected       867\n",
    "nombre_sain          2273\n",
    "nombre_exposed        511\n",
    "nombre_recovered    16349\n",
    "Name: 315, dtype: int64"
   ]
  },
  {
   "cell_type": "markdown",
   "id": "8e4b946c",
   "metadata": {},
   "source": [
    "nombre_infected       891\n",
    "nombre_sain          2257\n",
    "nombre_exposed        524\n",
    "nombre_recovered    16328\n",
    "Name: 316, dtype: int64"
   ]
  },
  {
   "cell_type": "markdown",
   "id": "bcce2d7e",
   "metadata": {},
   "source": [
    "nombre_infected       894\n",
    "nombre_sain          2244\n",
    "nombre_exposed        522\n",
    "nombre_recovered    16340\n",
    "Name: 317, dtype: int64"
   ]
  },
  {
   "cell_type": "markdown",
   "id": "a86590b2",
   "metadata": {},
   "source": [
    "nombre_infected       910\n",
    "nombre_sain          2234\n",
    "nombre_exposed        509\n",
    "nombre_recovered    16347\n",
    "Name: 318, dtype: int64"
   ]
  },
  {
   "cell_type": "markdown",
   "id": "a8e78f55",
   "metadata": {},
   "source": [
    "nombre_infected       919\n",
    "nombre_sain          2243\n",
    "nombre_exposed        503\n",
    "nombre_recovered    16335\n",
    "Name: 319, dtype: int64"
   ]
  },
  {
   "cell_type": "markdown",
   "id": "42fa37e2",
   "metadata": {},
   "source": [
    "nombre_infected       903\n",
    "nombre_sain          2222\n",
    "nombre_exposed        529\n",
    "nombre_recovered    16346\n",
    "Name: 320, dtype: int64"
   ]
  },
  {
   "cell_type": "markdown",
   "id": "370e6d63",
   "metadata": {},
   "source": [
    "nombre_infected       890\n",
    "nombre_sain          2189\n",
    "nombre_exposed        564\n",
    "nombre_recovered    16357\n",
    "Name: 321, dtype: int64"
   ]
  },
  {
   "cell_type": "markdown",
   "id": "812cebdd",
   "metadata": {},
   "source": [
    "nombre_infected       896\n",
    "nombre_sain          2213\n",
    "nombre_exposed        542\n",
    "nombre_recovered    16349\n",
    "Name: 322, dtype: int64"
   ]
  },
  {
   "cell_type": "markdown",
   "id": "462b3712",
   "metadata": {},
   "source": [
    "nombre_infected       927\n",
    "nombre_sain          2225\n",
    "nombre_exposed        525\n",
    "nombre_recovered    16323\n",
    "Name: 323, dtype: int64"
   ]
  },
  {
   "cell_type": "markdown",
   "id": "710b4c7f",
   "metadata": {},
   "source": [
    "nombre_infected       937\n",
    "nombre_sain          2216\n",
    "nombre_exposed        545\n",
    "nombre_recovered    16302\n",
    "Name: 324, dtype: int64"
   ]
  },
  {
   "cell_type": "markdown",
   "id": "e6bb600c",
   "metadata": {},
   "source": [
    "nombre_infected       924\n",
    "nombre_sain          2234\n",
    "nombre_exposed        550\n",
    "nombre_recovered    16292\n",
    "Name: 325, dtype: int64"
   ]
  },
  {
   "cell_type": "markdown",
   "id": "c9fabde3",
   "metadata": {},
   "source": [
    "nombre_infected       930\n",
    "nombre_sain          2210\n",
    "nombre_exposed        564\n",
    "nombre_recovered    16296\n",
    "Name: 326, dtype: int64"
   ]
  },
  {
   "cell_type": "markdown",
   "id": "73fd1de6",
   "metadata": {},
   "source": [
    "nombre_infected       939\n",
    "nombre_sain          2201\n",
    "nombre_exposed        552\n",
    "nombre_recovered    16308\n",
    "Name: 327, dtype: int64"
   ]
  },
  {
   "cell_type": "markdown",
   "id": "b8184557",
   "metadata": {},
   "source": [
    "nombre_infected       941\n",
    "nombre_sain          2203\n",
    "nombre_exposed        556\n",
    "nombre_recovered    16300\n",
    "Name: 328, dtype: int64"
   ]
  },
  {
   "cell_type": "markdown",
   "id": "f86fc9c4",
   "metadata": {},
   "source": [
    "nombre_infected       948\n",
    "nombre_sain          2189\n",
    "nombre_exposed        559\n",
    "nombre_recovered    16304\n",
    "Name: 329, dtype: int64"
   ]
  },
  {
   "cell_type": "markdown",
   "id": "bcb89084",
   "metadata": {},
   "source": [
    "nombre_infected       951\n",
    "nombre_sain          2205\n",
    "nombre_exposed        565\n",
    "nombre_recovered    16279\n",
    "Name: 330, dtype: int64"
   ]
  },
  {
   "cell_type": "markdown",
   "id": "03f97f51",
   "metadata": {},
   "source": [
    "nombre_infected       944\n",
    "nombre_sain          2213\n",
    "nombre_exposed        574\n",
    "nombre_recovered    16269\n",
    "Name: 331, dtype: int64"
   ]
  },
  {
   "cell_type": "markdown",
   "id": "4617e674",
   "metadata": {},
   "source": [
    "nombre_infected       941\n",
    "nombre_sain          2217\n",
    "nombre_exposed        598\n",
    "nombre_recovered    16244\n",
    "Name: 332, dtype: int64"
   ]
  },
  {
   "cell_type": "markdown",
   "id": "5ed9e271",
   "metadata": {},
   "source": [
    "nombre_infected       927\n",
    "nombre_sain          2206\n",
    "nombre_exposed        588\n",
    "nombre_recovered    16279\n",
    "Name: 333, dtype: int64"
   ]
  },
  {
   "cell_type": "markdown",
   "id": "f23b3a66",
   "metadata": {},
   "source": [
    "nombre_infected       942\n",
    "nombre_sain          2192\n",
    "nombre_exposed        611\n",
    "nombre_recovered    16255\n",
    "Name: 334, dtype: int64"
   ]
  },
  {
   "cell_type": "markdown",
   "id": "630b029f",
   "metadata": {},
   "source": [
    "nombre_infected       954\n",
    "nombre_sain          2187\n",
    "nombre_exposed        594\n",
    "nombre_recovered    16265\n",
    "Name: 335, dtype: int64"
   ]
  },
  {
   "cell_type": "markdown",
   "id": "b4c38ef1",
   "metadata": {},
   "source": [
    "nombre_infected       963\n",
    "nombre_sain          2200\n",
    "nombre_exposed        574\n",
    "nombre_recovered    16263\n",
    "Name: 336, dtype: int64"
   ]
  },
  {
   "cell_type": "markdown",
   "id": "1e96a722",
   "metadata": {},
   "source": [
    "nombre_infected       987\n",
    "nombre_sain          2193\n",
    "nombre_exposed        563\n",
    "nombre_recovered    16257\n",
    "Name: 337, dtype: int64"
   ]
  },
  {
   "cell_type": "markdown",
   "id": "399d1e33",
   "metadata": {},
   "source": [
    "nombre_infected       978\n",
    "nombre_sain          2166\n",
    "nombre_exposed        572\n",
    "nombre_recovered    16284\n",
    "Name: 338, dtype: int64"
   ]
  },
  {
   "cell_type": "markdown",
   "id": "cb08a31d",
   "metadata": {},
   "source": [
    "nombre_infected       948\n",
    "nombre_sain          2171\n",
    "nombre_exposed        580\n",
    "nombre_recovered    16301\n",
    "Name: 339, dtype: int64"
   ]
  },
  {
   "cell_type": "markdown",
   "id": "4b26ecb3",
   "metadata": {},
   "source": [
    "nombre_infected       949\n",
    "nombre_sain          2156\n",
    "nombre_exposed        580\n",
    "nombre_recovered    16315\n",
    "Name: 340, dtype: int64"
   ]
  },
  {
   "cell_type": "markdown",
   "id": "892d65df",
   "metadata": {},
   "source": [
    "nombre_infected       963\n",
    "nombre_sain          2128\n",
    "nombre_exposed        565\n",
    "nombre_recovered    16344\n",
    "Name: 341, dtype: int64"
   ]
  },
  {
   "cell_type": "markdown",
   "id": "fb211f2e",
   "metadata": {},
   "source": [
    "nombre_infected       961\n",
    "nombre_sain          2103\n",
    "nombre_exposed        571\n",
    "nombre_recovered    16365\n",
    "Name: 342, dtype: int64"
   ]
  },
  {
   "cell_type": "markdown",
   "id": "842d4980",
   "metadata": {},
   "source": [
    "nombre_infected       970\n",
    "nombre_sain          2075\n",
    "nombre_exposed        575\n",
    "nombre_recovered    16380\n",
    "Name: 343, dtype: int64"
   ]
  },
  {
   "cell_type": "markdown",
   "id": "d1953ee0",
   "metadata": {},
   "source": [
    "nombre_infected       974\n",
    "nombre_sain          2070\n",
    "nombre_exposed        578\n",
    "nombre_recovered    16378\n",
    "Name: 344, dtype: int64"
   ]
  },
  {
   "cell_type": "markdown",
   "id": "088b3c44",
   "metadata": {},
   "source": [
    "nombre_infected       989\n",
    "nombre_sain          2022\n",
    "nombre_exposed        574\n",
    "nombre_recovered    16415\n",
    "Name: 345, dtype: int64"
   ]
  },
  {
   "cell_type": "markdown",
   "id": "9502f95a",
   "metadata": {},
   "source": [
    "nombre_infected      1006\n",
    "nombre_sain          2013\n",
    "nombre_exposed        568\n",
    "nombre_recovered    16413\n",
    "Name: 346, dtype: int64"
   ]
  },
  {
   "cell_type": "markdown",
   "id": "6d326a39",
   "metadata": {},
   "source": [
    "nombre_infected       988\n",
    "nombre_sain          2001\n",
    "nombre_exposed        572\n",
    "nombre_recovered    16439\n",
    "Name: 347, dtype: int64"
   ]
  },
  {
   "cell_type": "markdown",
   "id": "675b03b1",
   "metadata": {},
   "source": [
    "nombre_infected       995\n",
    "nombre_sain          1994\n",
    "nombre_exposed        554\n",
    "nombre_recovered    16457\n",
    "Name: 348, dtype: int64"
   ]
  },
  {
   "cell_type": "markdown",
   "id": "cacf9443",
   "metadata": {},
   "source": [
    "nombre_infected       991\n",
    "nombre_sain          1989\n",
    "nombre_exposed        537\n",
    "nombre_recovered    16483\n",
    "Name: 349, dtype: int64"
   ]
  },
  {
   "cell_type": "markdown",
   "id": "d5390346",
   "metadata": {},
   "source": [
    "nombre_infected       992\n",
    "nombre_sain          1983\n",
    "nombre_exposed        518\n",
    "nombre_recovered    16507\n",
    "Name: 350, dtype: int64"
   ]
  },
  {
   "cell_type": "markdown",
   "id": "e9976b1f",
   "metadata": {},
   "source": [
    "nombre_infected       970\n",
    "nombre_sain          1991\n",
    "nombre_exposed        515\n",
    "nombre_recovered    16524\n",
    "Name: 351, dtype: int64"
   ]
  },
  {
   "cell_type": "markdown",
   "id": "69cac894",
   "metadata": {},
   "source": [
    "nombre_infected       986\n",
    "nombre_sain          1997\n",
    "nombre_exposed        507\n",
    "nombre_recovered    16510\n",
    "Name: 352, dtype: int64"
   ]
  },
  {
   "cell_type": "markdown",
   "id": "fe66fe41",
   "metadata": {},
   "source": [
    "nombre_infected       973\n",
    "nombre_sain          2010\n",
    "nombre_exposed        513\n",
    "nombre_recovered    16504\n",
    "Name: 353, dtype: int64"
   ]
  },
  {
   "cell_type": "markdown",
   "id": "6c779066",
   "metadata": {},
   "source": [
    "nombre_infected       962\n",
    "nombre_sain          2003\n",
    "nombre_exposed        522\n",
    "nombre_recovered    16513\n",
    "Name: 354, dtype: int64"
   ]
  },
  {
   "cell_type": "markdown",
   "id": "857ddf0a",
   "metadata": {},
   "source": [
    "nombre_infected       955\n",
    "nombre_sain          1994\n",
    "nombre_exposed        540\n",
    "nombre_recovered    16511\n",
    "Name: 355, dtype: int64"
   ]
  },
  {
   "cell_type": "markdown",
   "id": "7997c28d",
   "metadata": {},
   "source": [
    "nombre_infected       943\n",
    "nombre_sain          1969\n",
    "nombre_exposed        553\n",
    "nombre_recovered    16535\n",
    "Name: 356, dtype: int64"
   ]
  },
  {
   "cell_type": "markdown",
   "id": "f9fabec2",
   "metadata": {},
   "source": [
    "nombre_infected       932\n",
    "nombre_sain          1980\n",
    "nombre_exposed        542\n",
    "nombre_recovered    16546\n",
    "Name: 357, dtype: int64"
   ]
  },
  {
   "cell_type": "markdown",
   "id": "018a15c3",
   "metadata": {},
   "source": [
    "nombre_infected       931\n",
    "nombre_sain          1986\n",
    "nombre_exposed        523\n",
    "nombre_recovered    16560\n",
    "Name: 358, dtype: int64"
   ]
  },
  {
   "cell_type": "markdown",
   "id": "57019dda",
   "metadata": {},
   "source": [
    "nombre_infected       911\n",
    "nombre_sain          1997\n",
    "nombre_exposed        530\n",
    "nombre_recovered    16562\n",
    "Name: 359, dtype: int64"
   ]
  },
  {
   "cell_type": "markdown",
   "id": "fa023fba",
   "metadata": {},
   "source": [
    "nombre_infected       929\n",
    "nombre_sain          2021\n",
    "nombre_exposed        507\n",
    "nombre_recovered    16543\n",
    "Name: 360, dtype: int64"
   ]
  },
  {
   "cell_type": "markdown",
   "id": "733f892c",
   "metadata": {},
   "source": [
    "nombre_infected       930\n",
    "nombre_sain          2040\n",
    "nombre_exposed        496\n",
    "nombre_recovered    16534\n",
    "Name: 361, dtype: int64"
   ]
  },
  {
   "cell_type": "markdown",
   "id": "2ee40b87",
   "metadata": {},
   "source": [
    "nombre_infected       934\n",
    "nombre_sain          2058\n",
    "nombre_exposed        488\n",
    "nombre_recovered    16520\n",
    "Name: 362, dtype: int64"
   ]
  },
  {
   "cell_type": "markdown",
   "id": "ca4e3c7b",
   "metadata": {},
   "source": [
    "nombre_infected       917\n",
    "nombre_sain          2074\n",
    "nombre_exposed        486\n",
    "nombre_recovered    16523\n",
    "Name: 363, dtype: int64"
   ]
  },
  {
   "cell_type": "markdown",
   "id": "22a9e41b",
   "metadata": {},
   "source": [
    "nombre_infected       880\n",
    "nombre_sain          2079\n",
    "nombre_exposed        502\n",
    "nombre_recovered    16539\n",
    "Name: 364, dtype: int64"
   ]
  },
  {
   "cell_type": "markdown",
   "id": "c50561bd",
   "metadata": {},
   "source": [
    "nombre_infected       886\n",
    "nombre_sain          2102\n",
    "nombre_exposed        497\n",
    "nombre_recovered    16515\n",
    "Name: 365, dtype: int64"
   ]
  },
  {
   "cell_type": "markdown",
   "id": "c6691f7c",
   "metadata": {},
   "source": [
    "nombre_infected       884\n",
    "nombre_sain          2107\n",
    "nombre_exposed        503\n",
    "nombre_recovered    16506\n",
    "Name: 366, dtype: int64"
   ]
  },
  {
   "cell_type": "markdown",
   "id": "d62ad0ff",
   "metadata": {},
   "source": [
    "nombre_infected       874\n",
    "nombre_sain          2133\n",
    "nombre_exposed        505\n",
    "nombre_recovered    16488\n",
    "Name: 367, dtype: int64"
   ]
  },
  {
   "cell_type": "markdown",
   "id": "c03d831f",
   "metadata": {},
   "source": [
    "nombre_infected       868\n",
    "nombre_sain          2139\n",
    "nombre_exposed        514\n",
    "nombre_recovered    16479\n",
    "Name: 368, dtype: int64"
   ]
  },
  {
   "cell_type": "markdown",
   "id": "97596ac0",
   "metadata": {},
   "source": [
    "nombre_infected       862\n",
    "nombre_sain          2161\n",
    "nombre_exposed        524\n",
    "nombre_recovered    16453\n",
    "Name: 369, dtype: int64"
   ]
  },
  {
   "cell_type": "markdown",
   "id": "bcb74f48",
   "metadata": {},
   "source": [
    "nombre_infected       870\n",
    "nombre_sain          2154\n",
    "nombre_exposed        530\n",
    "nombre_recovered    16446\n",
    "Name: 370, dtype: int64"
   ]
  },
  {
   "cell_type": "markdown",
   "id": "fa8f7cac",
   "metadata": {},
   "source": [
    "nombre_infected       866\n",
    "nombre_sain          2178\n",
    "nombre_exposed        517\n",
    "nombre_recovered    16439\n",
    "Name: 371, dtype: int64"
   ]
  },
  {
   "cell_type": "markdown",
   "id": "21459da8",
   "metadata": {},
   "source": [
    "nombre_infected       857\n",
    "nombre_sain          2178\n",
    "nombre_exposed        519\n",
    "nombre_recovered    16446\n",
    "Name: 372, dtype: int64"
   ]
  },
  {
   "cell_type": "markdown",
   "id": "bc2e2eac",
   "metadata": {},
   "source": [
    "nombre_infected       883\n",
    "nombre_sain          2188\n",
    "nombre_exposed        494\n",
    "nombre_recovered    16435\n",
    "Name: 373, dtype: int64"
   ]
  },
  {
   "cell_type": "markdown",
   "id": "501e57e3",
   "metadata": {},
   "source": [
    "nombre_infected       896\n",
    "nombre_sain          2194\n",
    "nombre_exposed        479\n",
    "nombre_recovered    16431\n",
    "Name: 374, dtype: int64"
   ]
  },
  {
   "cell_type": "markdown",
   "id": "6379a995",
   "metadata": {},
   "source": [
    "nombre_infected       888\n",
    "nombre_sain          2196\n",
    "nombre_exposed        504\n",
    "nombre_recovered    16412\n",
    "Name: 375, dtype: int64"
   ]
  },
  {
   "cell_type": "markdown",
   "id": "521d44ad",
   "metadata": {},
   "source": [
    "nombre_infected       881\n",
    "nombre_sain          2167\n",
    "nombre_exposed        521\n",
    "nombre_recovered    16431\n",
    "Name: 376, dtype: int64"
   ]
  },
  {
   "cell_type": "markdown",
   "id": "9a8414ab",
   "metadata": {},
   "source": [
    "nombre_infected       885\n",
    "nombre_sain          2137\n",
    "nombre_exposed        529\n",
    "nombre_recovered    16449\n",
    "Name: 377, dtype: int64"
   ]
  },
  {
   "cell_type": "markdown",
   "id": "29a6072d",
   "metadata": {},
   "source": [
    "nombre_infected       860\n",
    "nombre_sain          2130\n",
    "nombre_exposed        541\n",
    "nombre_recovered    16469\n",
    "Name: 378, dtype: int64"
   ]
  },
  {
   "cell_type": "markdown",
   "id": "ee3281b9",
   "metadata": {},
   "source": [
    "nombre_infected       860\n",
    "nombre_sain          2146\n",
    "nombre_exposed        539\n",
    "nombre_recovered    16455\n",
    "Name: 379, dtype: int64"
   ]
  },
  {
   "cell_type": "markdown",
   "id": "95a2df18",
   "metadata": {},
   "source": [
    "nombre_infected       843\n",
    "nombre_sain          2129\n",
    "nombre_exposed        549\n",
    "nombre_recovered    16479\n",
    "Name: 380, dtype: int64"
   ]
  },
  {
   "cell_type": "markdown",
   "id": "4fe529e5",
   "metadata": {},
   "source": [
    "nombre_infected       830\n",
    "nombre_sain          2123\n",
    "nombre_exposed        549\n",
    "nombre_recovered    16498\n",
    "Name: 381, dtype: int64"
   ]
  },
  {
   "cell_type": "markdown",
   "id": "1dee4a0e",
   "metadata": {},
   "source": [
    "nombre_infected       837\n",
    "nombre_sain          2106\n",
    "nombre_exposed        556\n",
    "nombre_recovered    16501\n",
    "Name: 382, dtype: int64"
   ]
  },
  {
   "cell_type": "markdown",
   "id": "a08a7fa1",
   "metadata": {},
   "source": [
    "nombre_infected       857\n",
    "nombre_sain          2118\n",
    "nombre_exposed        540\n",
    "nombre_recovered    16485\n",
    "Name: 383, dtype: int64"
   ]
  },
  {
   "cell_type": "markdown",
   "id": "b9435b7c",
   "metadata": {},
   "source": [
    "nombre_infected       861\n",
    "nombre_sain          2097\n",
    "nombre_exposed        562\n",
    "nombre_recovered    16480\n",
    "Name: 384, dtype: int64"
   ]
  },
  {
   "cell_type": "markdown",
   "id": "4828b7c6",
   "metadata": {},
   "source": [
    "nombre_infected       870\n",
    "nombre_sain          2076\n",
    "nombre_exposed        553\n",
    "nombre_recovered    16501\n",
    "Name: 385, dtype: int64"
   ]
  },
  {
   "cell_type": "markdown",
   "id": "355c8022",
   "metadata": {},
   "source": [
    "nombre_infected       858\n",
    "nombre_sain          2065\n",
    "nombre_exposed        556\n",
    "nombre_recovered    16521\n",
    "Name: 386, dtype: int64"
   ]
  },
  {
   "cell_type": "markdown",
   "id": "3da7e361",
   "metadata": {},
   "source": [
    "nombre_infected       852\n",
    "nombre_sain          2059\n",
    "nombre_exposed        530\n",
    "nombre_recovered    16559\n",
    "Name: 387, dtype: int64"
   ]
  },
  {
   "cell_type": "markdown",
   "id": "3f302b97",
   "metadata": {},
   "source": [
    "nombre_infected       852\n",
    "nombre_sain          2037\n",
    "nombre_exposed        519\n",
    "nombre_recovered    16592\n",
    "Name: 388, dtype: int64"
   ]
  },
  {
   "cell_type": "markdown",
   "id": "b1ac62be",
   "metadata": {},
   "source": [
    "nombre_infected       846\n",
    "nombre_sain          2001\n",
    "nombre_exposed        535\n",
    "nombre_recovered    16618\n",
    "Name: 389, dtype: int64"
   ]
  },
  {
   "cell_type": "markdown",
   "id": "1da16448",
   "metadata": {},
   "source": [
    "nombre_infected       840\n",
    "nombre_sain          1981\n",
    "nombre_exposed        528\n",
    "nombre_recovered    16651\n",
    "Name: 390, dtype: int64"
   ]
  },
  {
   "cell_type": "markdown",
   "id": "0e8b6a9b",
   "metadata": {},
   "source": [
    "nombre_infected       837\n",
    "nombre_sain          1977\n",
    "nombre_exposed        517\n",
    "nombre_recovered    16669\n",
    "Name: 391, dtype: int64"
   ]
  },
  {
   "cell_type": "markdown",
   "id": "8329b23c",
   "metadata": {},
   "source": [
    "nombre_infected       830\n",
    "nombre_sain          1979\n",
    "nombre_exposed        488\n",
    "nombre_recovered    16703\n",
    "Name: 392, dtype: int64"
   ]
  },
  {
   "cell_type": "markdown",
   "id": "a2a14e10",
   "metadata": {},
   "source": [
    "nombre_infected       851\n",
    "nombre_sain          1987\n",
    "nombre_exposed        463\n",
    "nombre_recovered    16699\n",
    "Name: 393, dtype: int64"
   ]
  },
  {
   "cell_type": "markdown",
   "id": "2375fcb5",
   "metadata": {},
   "source": [
    "nombre_infected       831\n",
    "nombre_sain          1993\n",
    "nombre_exposed        469\n",
    "nombre_recovered    16707\n",
    "Name: 394, dtype: int64"
   ]
  },
  {
   "cell_type": "markdown",
   "id": "622351ed",
   "metadata": {},
   "source": [
    "nombre_infected       826\n",
    "nombre_sain          2030\n",
    "nombre_exposed        434\n",
    "nombre_recovered    16710\n",
    "Name: 395, dtype: int64"
   ]
  },
  {
   "cell_type": "markdown",
   "id": "05f98d11",
   "metadata": {},
   "source": [
    "nombre_infected       848\n",
    "nombre_sain          2023\n",
    "nombre_exposed        430\n",
    "nombre_recovered    16699\n",
    "Name: 396, dtype: int64"
   ]
  },
  {
   "cell_type": "markdown",
   "id": "d919e4ea",
   "metadata": {},
   "source": [
    "nombre_infected       843\n",
    "nombre_sain          1977\n",
    "nombre_exposed        465\n",
    "nombre_recovered    16715\n",
    "Name: 397, dtype: int64"
   ]
  },
  {
   "cell_type": "markdown",
   "id": "00ed9cb9",
   "metadata": {},
   "source": [
    "nombre_infected       816\n",
    "nombre_sain          1946\n",
    "nombre_exposed        494\n",
    "nombre_recovered    16744\n",
    "Name: 398, dtype: int64"
   ]
  },
  {
   "cell_type": "markdown",
   "id": "d998a416",
   "metadata": {},
   "source": [
    "nombre_infected       830\n",
    "nombre_sain          1936\n",
    "nombre_exposed        482\n",
    "nombre_recovered    16752\n",
    "Name: 399, dtype: int64"
   ]
  },
  {
   "cell_type": "markdown",
   "id": "dad47628",
   "metadata": {},
   "source": [
    "nombre_infected       815\n",
    "nombre_sain          1972\n",
    "nombre_exposed        472\n",
    "nombre_recovered    16741\n",
    "Name: 400, dtype: int64"
   ]
  },
  {
   "cell_type": "markdown",
   "id": "034dd8c2",
   "metadata": {},
   "source": [
    "nombre_infected       827\n",
    "nombre_sain          1989\n",
    "nombre_exposed        451\n",
    "nombre_recovered    16733\n",
    "Name: 401, dtype: int64"
   ]
  },
  {
   "cell_type": "markdown",
   "id": "a0382379",
   "metadata": {},
   "source": [
    "nombre_infected       814\n",
    "nombre_sain          2008\n",
    "nombre_exposed        440\n",
    "nombre_recovered    16738\n",
    "Name: 402, dtype: int64"
   ]
  },
  {
   "cell_type": "markdown",
   "id": "0fdfe31d",
   "metadata": {},
   "source": [
    "nombre_infected       795\n",
    "nombre_sain          2007\n",
    "nombre_exposed        442\n",
    "nombre_recovered    16756\n",
    "Name: 403, dtype: int64"
   ]
  },
  {
   "cell_type": "markdown",
   "id": "3a1dd344",
   "metadata": {},
   "source": [
    "nombre_infected       797\n",
    "nombre_sain          2010\n",
    "nombre_exposed        436\n",
    "nombre_recovered    16757\n",
    "Name: 404, dtype: int64"
   ]
  },
  {
   "cell_type": "markdown",
   "id": "c9435253",
   "metadata": {},
   "source": [
    "nombre_infected       790\n",
    "nombre_sain          2028\n",
    "nombre_exposed        434\n",
    "nombre_recovered    16748\n",
    "Name: 405, dtype: int64"
   ]
  },
  {
   "cell_type": "markdown",
   "id": "10278374",
   "metadata": {},
   "source": [
    "nombre_infected       780\n",
    "nombre_sain          2052\n",
    "nombre_exposed        427\n",
    "nombre_recovered    16741\n",
    "Name: 406, dtype: int64"
   ]
  },
  {
   "cell_type": "markdown",
   "id": "c5acc489",
   "metadata": {},
   "source": [
    "nombre_infected       772\n",
    "nombre_sain          2065\n",
    "nombre_exposed        429\n",
    "nombre_recovered    16734\n",
    "Name: 407, dtype: int64"
   ]
  },
  {
   "cell_type": "markdown",
   "id": "1802b773",
   "metadata": {},
   "source": [
    "nombre_infected       751\n",
    "nombre_sain          2073\n",
    "nombre_exposed        447\n",
    "nombre_recovered    16729\n",
    "Name: 408, dtype: int64"
   ]
  },
  {
   "cell_type": "markdown",
   "id": "a85f090c",
   "metadata": {},
   "source": [
    "nombre_infected       746\n",
    "nombre_sain          2086\n",
    "nombre_exposed        446\n",
    "nombre_recovered    16722\n",
    "Name: 409, dtype: int64"
   ]
  },
  {
   "cell_type": "markdown",
   "id": "5c9a879f",
   "metadata": {},
   "source": [
    "nombre_infected       740\n",
    "nombre_sain          2101\n",
    "nombre_exposed        430\n",
    "nombre_recovered    16729\n",
    "Name: 410, dtype: int64"
   ]
  },
  {
   "cell_type": "markdown",
   "id": "fed98843",
   "metadata": {},
   "source": [
    "nombre_infected       723\n",
    "nombre_sain          2121\n",
    "nombre_exposed        435\n",
    "nombre_recovered    16721\n",
    "Name: 411, dtype: int64"
   ]
  },
  {
   "cell_type": "markdown",
   "id": "8e95b3b0",
   "metadata": {},
   "source": [
    "nombre_infected       745\n",
    "nombre_sain          2150\n",
    "nombre_exposed        419\n",
    "nombre_recovered    16686\n",
    "Name: 412, dtype: int64"
   ]
  },
  {
   "cell_type": "markdown",
   "id": "28e7e313",
   "metadata": {},
   "source": [
    "nombre_infected       770\n",
    "nombre_sain          2166\n",
    "nombre_exposed        424\n",
    "nombre_recovered    16640\n",
    "Name: 413, dtype: int64"
   ]
  },
  {
   "cell_type": "markdown",
   "id": "be2a5388",
   "metadata": {},
   "source": [
    "nombre_infected       765\n",
    "nombre_sain          2141\n",
    "nombre_exposed        439\n",
    "nombre_recovered    16655\n",
    "Name: 414, dtype: int64"
   ]
  },
  {
   "cell_type": "markdown",
   "id": "084d9b50",
   "metadata": {},
   "source": [
    "nombre_infected       762\n",
    "nombre_sain          2133\n",
    "nombre_exposed        452\n",
    "nombre_recovered    16653\n",
    "Name: 415, dtype: int64"
   ]
  },
  {
   "cell_type": "markdown",
   "id": "f2188f4c",
   "metadata": {},
   "source": [
    "nombre_infected       734\n",
    "nombre_sain          2114\n",
    "nombre_exposed        469\n",
    "nombre_recovered    16683\n",
    "Name: 416, dtype: int64"
   ]
  },
  {
   "cell_type": "markdown",
   "id": "b92712d0",
   "metadata": {},
   "source": [
    "nombre_infected       763\n",
    "nombre_sain          2117\n",
    "nombre_exposed        454\n",
    "nombre_recovered    16666\n",
    "Name: 417, dtype: int64"
   ]
  },
  {
   "cell_type": "markdown",
   "id": "b90006ab",
   "metadata": {},
   "source": [
    "nombre_infected       769\n",
    "nombre_sain          2103\n",
    "nombre_exposed        455\n",
    "nombre_recovered    16673\n",
    "Name: 418, dtype: int64"
   ]
  },
  {
   "cell_type": "markdown",
   "id": "ee3d8286",
   "metadata": {},
   "source": [
    "nombre_infected       768\n",
    "nombre_sain          2087\n",
    "nombre_exposed        460\n",
    "nombre_recovered    16685\n",
    "Name: 419, dtype: int64"
   ]
  },
  {
   "cell_type": "markdown",
   "id": "7291eaf3",
   "metadata": {},
   "source": [
    "nombre_infected       755\n",
    "nombre_sain          2088\n",
    "nombre_exposed        471\n",
    "nombre_recovered    16686\n",
    "Name: 420, dtype: int64"
   ]
  },
  {
   "cell_type": "markdown",
   "id": "73e8b7b1",
   "metadata": {},
   "source": [
    "nombre_infected       762\n",
    "nombre_sain          2073\n",
    "nombre_exposed        470\n",
    "nombre_recovered    16695\n",
    "Name: 421, dtype: int64"
   ]
  },
  {
   "cell_type": "markdown",
   "id": "7d34531d",
   "metadata": {},
   "source": [
    "nombre_infected       777\n",
    "nombre_sain          2063\n",
    "nombre_exposed        452\n",
    "nombre_recovered    16708\n",
    "Name: 422, dtype: int64"
   ]
  },
  {
   "cell_type": "markdown",
   "id": "d486c3e8",
   "metadata": {},
   "source": [
    "nombre_infected       780\n",
    "nombre_sain          2061\n",
    "nombre_exposed        444\n",
    "nombre_recovered    16715\n",
    "Name: 423, dtype: int64"
   ]
  },
  {
   "cell_type": "markdown",
   "id": "8d45bc6b",
   "metadata": {},
   "source": [
    "nombre_infected       775\n",
    "nombre_sain          2062\n",
    "nombre_exposed        456\n",
    "nombre_recovered    16707\n",
    "Name: 424, dtype: int64"
   ]
  },
  {
   "cell_type": "markdown",
   "id": "c7d91242",
   "metadata": {},
   "source": [
    "nombre_infected       792\n",
    "nombre_sain          2070\n",
    "nombre_exposed        428\n",
    "nombre_recovered    16710\n",
    "Name: 425, dtype: int64"
   ]
  },
  {
   "cell_type": "markdown",
   "id": "d42093a2",
   "metadata": {},
   "source": [
    "nombre_infected       789\n",
    "nombre_sain          2069\n",
    "nombre_exposed        413\n",
    "nombre_recovered    16729\n",
    "Name: 426, dtype: int64"
   ]
  },
  {
   "cell_type": "markdown",
   "id": "528da3fd",
   "metadata": {},
   "source": [
    "nombre_infected       775\n",
    "nombre_sain          2053\n",
    "nombre_exposed        405\n",
    "nombre_recovered    16767\n",
    "Name: 427, dtype: int64"
   ]
  },
  {
   "cell_type": "markdown",
   "id": "9ef9f60d",
   "metadata": {},
   "source": [
    "nombre_infected       764\n",
    "nombre_sain          2030\n",
    "nombre_exposed        407\n",
    "nombre_recovered    16799\n",
    "Name: 428, dtype: int64"
   ]
  },
  {
   "cell_type": "markdown",
   "id": "e5998cbb",
   "metadata": {},
   "source": [
    "nombre_infected       757\n",
    "nombre_sain          2011\n",
    "nombre_exposed        421\n",
    "nombre_recovered    16811\n",
    "Name: 429, dtype: int64"
   ]
  },
  {
   "cell_type": "markdown",
   "id": "052cbe78",
   "metadata": {},
   "source": [
    "nombre_infected       733\n",
    "nombre_sain          1992\n",
    "nombre_exposed        440\n",
    "nombre_recovered    16835\n",
    "Name: 430, dtype: int64"
   ]
  },
  {
   "cell_type": "markdown",
   "id": "352b745b",
   "metadata": {},
   "source": [
    "nombre_infected       709\n",
    "nombre_sain          1999\n",
    "nombre_exposed        443\n",
    "nombre_recovered    16849\n",
    "Name: 431, dtype: int64"
   ]
  },
  {
   "cell_type": "markdown",
   "id": "a45553db",
   "metadata": {},
   "source": [
    "nombre_infected       710\n",
    "nombre_sain          2002\n",
    "nombre_exposed        424\n",
    "nombre_recovered    16864\n",
    "Name: 432, dtype: int64"
   ]
  },
  {
   "cell_type": "markdown",
   "id": "a309ed16",
   "metadata": {},
   "source": [
    "nombre_infected       691\n",
    "nombre_sain          2008\n",
    "nombre_exposed        435\n",
    "nombre_recovered    16866\n",
    "Name: 433, dtype: int64"
   ]
  },
  {
   "cell_type": "markdown",
   "id": "814c3854",
   "metadata": {},
   "source": [
    "nombre_infected       679\n",
    "nombre_sain          2020\n",
    "nombre_exposed        420\n",
    "nombre_recovered    16881\n",
    "Name: 434, dtype: int64"
   ]
  },
  {
   "cell_type": "markdown",
   "id": "ab084630",
   "metadata": {},
   "source": [
    "nombre_infected       668\n",
    "nombre_sain          2042\n",
    "nombre_exposed        414\n",
    "nombre_recovered    16876\n",
    "Name: 435, dtype: int64"
   ]
  },
  {
   "cell_type": "markdown",
   "id": "9a07f454",
   "metadata": {},
   "source": [
    "nombre_infected       673\n",
    "nombre_sain          2059\n",
    "nombre_exposed        402\n",
    "nombre_recovered    16866\n",
    "Name: 436, dtype: int64"
   ]
  },
  {
   "cell_type": "markdown",
   "id": "1de61a08",
   "metadata": {},
   "source": [
    "nombre_infected       671\n",
    "nombre_sain          2075\n",
    "nombre_exposed        377\n",
    "nombre_recovered    16877\n",
    "Name: 437, dtype: int64"
   ]
  },
  {
   "cell_type": "markdown",
   "id": "bffbfb80",
   "metadata": {},
   "source": [
    "nombre_infected       676\n",
    "nombre_sain          2082\n",
    "nombre_exposed        399\n",
    "nombre_recovered    16843\n",
    "Name: 438, dtype: int64"
   ]
  },
  {
   "cell_type": "markdown",
   "id": "1ad1a9b3",
   "metadata": {},
   "source": [
    "nombre_infected       657\n",
    "nombre_sain          2095\n",
    "nombre_exposed        418\n",
    "nombre_recovered    16830\n",
    "Name: 439, dtype: int64"
   ]
  },
  {
   "cell_type": "markdown",
   "id": "6a30d1da",
   "metadata": {},
   "source": [
    "nombre_infected       663\n",
    "nombre_sain          2133\n",
    "nombre_exposed        399\n",
    "nombre_recovered    16805\n",
    "Name: 440, dtype: int64"
   ]
  },
  {
   "cell_type": "markdown",
   "id": "cac1a051",
   "metadata": {},
   "source": [
    "nombre_infected       670\n",
    "nombre_sain          2162\n",
    "nombre_exposed        408\n",
    "nombre_recovered    16760\n",
    "Name: 441, dtype: int64"
   ]
  },
  {
   "cell_type": "markdown",
   "id": "b5dc2920",
   "metadata": {},
   "source": [
    "nombre_infected       664\n",
    "nombre_sain          2186\n",
    "nombre_exposed        405\n",
    "nombre_recovered    16745\n",
    "Name: 442, dtype: int64"
   ]
  },
  {
   "cell_type": "markdown",
   "id": "2fb34f22",
   "metadata": {},
   "source": [
    "nombre_infected       644\n",
    "nombre_sain          2216\n",
    "nombre_exposed        408\n",
    "nombre_recovered    16732\n",
    "Name: 443, dtype: int64"
   ]
  },
  {
   "cell_type": "markdown",
   "id": "0ac29a6f",
   "metadata": {},
   "source": [
    "nombre_infected       663\n",
    "nombre_sain          2239\n",
    "nombre_exposed        390\n",
    "nombre_recovered    16708\n",
    "Name: 444, dtype: int64"
   ]
  },
  {
   "cell_type": "markdown",
   "id": "d3770499",
   "metadata": {},
   "source": [
    "nombre_infected       667\n",
    "nombre_sain          2246\n",
    "nombre_exposed        398\n",
    "nombre_recovered    16689\n",
    "Name: 445, dtype: int64"
   ]
  },
  {
   "cell_type": "markdown",
   "id": "289e4cf6",
   "metadata": {},
   "source": [
    "nombre_infected       653\n",
    "nombre_sain          2261\n",
    "nombre_exposed        405\n",
    "nombre_recovered    16681\n",
    "Name: 446, dtype: int64"
   ]
  },
  {
   "cell_type": "markdown",
   "id": "8af8bf57",
   "metadata": {},
   "source": [
    "nombre_infected       644\n",
    "nombre_sain          2272\n",
    "nombre_exposed        410\n",
    "nombre_recovered    16674\n",
    "Name: 447, dtype: int64"
   ]
  },
  {
   "cell_type": "markdown",
   "id": "922da18a",
   "metadata": {},
   "source": [
    "nombre_infected       640\n",
    "nombre_sain          2317\n",
    "nombre_exposed        416\n",
    "nombre_recovered    16627\n",
    "Name: 448, dtype: int64"
   ]
  },
  {
   "cell_type": "markdown",
   "id": "38143ac5",
   "metadata": {},
   "source": [
    "nombre_infected       648\n",
    "nombre_sain          2329\n",
    "nombre_exposed        412\n",
    "nombre_recovered    16611\n",
    "Name: 449, dtype: int64"
   ]
  },
  {
   "cell_type": "markdown",
   "id": "26ad12d0",
   "metadata": {},
   "source": [
    "nombre_infected       662\n",
    "nombre_sain          2340\n",
    "nombre_exposed        402\n",
    "nombre_recovered    16596\n",
    "Name: 450, dtype: int64"
   ]
  },
  {
   "cell_type": "markdown",
   "id": "07b28bc1",
   "metadata": {},
   "source": [
    "nombre_infected       645\n",
    "nombre_sain          2383\n",
    "nombre_exposed        403\n",
    "nombre_recovered    16569\n",
    "Name: 451, dtype: int64"
   ]
  },
  {
   "cell_type": "markdown",
   "id": "823af668",
   "metadata": {},
   "source": [
    "nombre_infected       644\n",
    "nombre_sain          2408\n",
    "nombre_exposed        395\n",
    "nombre_recovered    16553\n",
    "Name: 452, dtype: int64"
   ]
  },
  {
   "cell_type": "markdown",
   "id": "578755e0",
   "metadata": {},
   "source": [
    "nombre_infected       633\n",
    "nombre_sain          2448\n",
    "nombre_exposed        402\n",
    "nombre_recovered    16517\n",
    "Name: 453, dtype: int64"
   ]
  },
  {
   "cell_type": "markdown",
   "id": "ab549e0a",
   "metadata": {},
   "source": [
    "nombre_infected       628\n",
    "nombre_sain          2472\n",
    "nombre_exposed        389\n",
    "nombre_recovered    16511\n",
    "Name: 454, dtype: int64"
   ]
  },
  {
   "cell_type": "markdown",
   "id": "3b42335d",
   "metadata": {},
   "source": [
    "nombre_infected       657\n",
    "nombre_sain          2488\n",
    "nombre_exposed        384\n",
    "nombre_recovered    16471\n",
    "Name: 455, dtype: int64"
   ]
  },
  {
   "cell_type": "markdown",
   "id": "dadcec1c",
   "metadata": {},
   "source": [
    "nombre_infected       648\n",
    "nombre_sain          2514\n",
    "nombre_exposed        390\n",
    "nombre_recovered    16448\n",
    "Name: 456, dtype: int64"
   ]
  },
  {
   "cell_type": "markdown",
   "id": "c222ef7b",
   "metadata": {},
   "source": [
    "nombre_infected       638\n",
    "nombre_sain          2538\n",
    "nombre_exposed        402\n",
    "nombre_recovered    16422\n",
    "Name: 457, dtype: int64"
   ]
  },
  {
   "cell_type": "markdown",
   "id": "971c9f96",
   "metadata": {},
   "source": [
    "nombre_infected       639\n",
    "nombre_sain          2552\n",
    "nombre_exposed        396\n",
    "nombre_recovered    16413\n",
    "Name: 458, dtype: int64"
   ]
  },
  {
   "cell_type": "markdown",
   "id": "3248b70d",
   "metadata": {},
   "source": [
    "nombre_infected       624\n",
    "nombre_sain          2555\n",
    "nombre_exposed        412\n",
    "nombre_recovered    16409\n",
    "Name: 459, dtype: int64"
   ]
  },
  {
   "cell_type": "markdown",
   "id": "a2745f86",
   "metadata": {},
   "source": [
    "nombre_infected       612\n",
    "nombre_sain          2567\n",
    "nombre_exposed        449\n",
    "nombre_recovered    16372\n",
    "Name: 460, dtype: int64"
   ]
  },
  {
   "cell_type": "markdown",
   "id": "51011472",
   "metadata": {},
   "source": [
    "nombre_infected       621\n",
    "nombre_sain          2553\n",
    "nombre_exposed        448\n",
    "nombre_recovered    16378\n",
    "Name: 461, dtype: int64"
   ]
  },
  {
   "cell_type": "markdown",
   "id": "761fcf9f",
   "metadata": {},
   "source": [
    "nombre_infected       651\n",
    "nombre_sain          2568\n",
    "nombre_exposed        437\n",
    "nombre_recovered    16344\n",
    "Name: 462, dtype: int64"
   ]
  },
  {
   "cell_type": "markdown",
   "id": "dba37e98",
   "metadata": {},
   "source": [
    "nombre_infected       658\n",
    "nombre_sain          2559\n",
    "nombre_exposed        464\n",
    "nombre_recovered    16319\n",
    "Name: 463, dtype: int64"
   ]
  },
  {
   "cell_type": "markdown",
   "id": "8192e1ad",
   "metadata": {},
   "source": [
    "nombre_infected       647\n",
    "nombre_sain          2567\n",
    "nombre_exposed        479\n",
    "nombre_recovered    16307\n",
    "Name: 464, dtype: int64"
   ]
  },
  {
   "cell_type": "markdown",
   "id": "687dcc94",
   "metadata": {},
   "source": [
    "nombre_infected       651\n",
    "nombre_sain          2583\n",
    "nombre_exposed        466\n",
    "nombre_recovered    16300\n",
    "Name: 465, dtype: int64"
   ]
  },
  {
   "cell_type": "markdown",
   "id": "ebde9a3e",
   "metadata": {},
   "source": [
    "nombre_infected       670\n",
    "nombre_sain          2580\n",
    "nombre_exposed        463\n",
    "nombre_recovered    16287\n",
    "Name: 466, dtype: int64"
   ]
  },
  {
   "cell_type": "markdown",
   "id": "2b9c39e2",
   "metadata": {},
   "source": [
    "nombre_infected       691\n",
    "nombre_sain          2553\n",
    "nombre_exposed        468\n",
    "nombre_recovered    16288\n",
    "Name: 467, dtype: int64"
   ]
  },
  {
   "cell_type": "markdown",
   "id": "c02e1e22",
   "metadata": {},
   "source": [
    "nombre_infected       689\n",
    "nombre_sain          2568\n",
    "nombre_exposed        463\n",
    "nombre_recovered    16280\n",
    "Name: 468, dtype: int64"
   ]
  },
  {
   "cell_type": "markdown",
   "id": "3a6495cb",
   "metadata": {},
   "source": [
    "nombre_infected       706\n",
    "nombre_sain          2573\n",
    "nombre_exposed        453\n",
    "nombre_recovered    16268\n",
    "Name: 469, dtype: int64"
   ]
  },
  {
   "cell_type": "markdown",
   "id": "06fc9660",
   "metadata": {},
   "source": [
    "nombre_infected       706\n",
    "nombre_sain          2594\n",
    "nombre_exposed        455\n",
    "nombre_recovered    16245\n",
    "Name: 470, dtype: int64"
   ]
  },
  {
   "cell_type": "markdown",
   "id": "89340c9e",
   "metadata": {},
   "source": [
    "nombre_infected       714\n",
    "nombre_sain          2590\n",
    "nombre_exposed        458\n",
    "nombre_recovered    16238\n",
    "Name: 471, dtype: int64"
   ]
  },
  {
   "cell_type": "markdown",
   "id": "e30b1cb6",
   "metadata": {},
   "source": [
    "nombre_infected       705\n",
    "nombre_sain          2566\n",
    "nombre_exposed        465\n",
    "nombre_recovered    16264\n",
    "Name: 472, dtype: int64"
   ]
  },
  {
   "cell_type": "markdown",
   "id": "cb0e9bf9",
   "metadata": {},
   "source": [
    "nombre_infected       707\n",
    "nombre_sain          2543\n",
    "nombre_exposed        490\n",
    "nombre_recovered    16260\n",
    "Name: 473, dtype: int64"
   ]
  },
  {
   "cell_type": "markdown",
   "id": "21f33b74",
   "metadata": {},
   "source": [
    "nombre_infected       722\n",
    "nombre_sain          2538\n",
    "nombre_exposed        497\n",
    "nombre_recovered    16243\n",
    "Name: 474, dtype: int64"
   ]
  },
  {
   "cell_type": "markdown",
   "id": "21317fbc",
   "metadata": {},
   "source": [
    "nombre_infected       709\n",
    "nombre_sain          2544\n",
    "nombre_exposed        484\n",
    "nombre_recovered    16263\n",
    "Name: 475, dtype: int64"
   ]
  },
  {
   "cell_type": "markdown",
   "id": "8df9f5cd",
   "metadata": {},
   "source": [
    "nombre_infected       701\n",
    "nombre_sain          2531\n",
    "nombre_exposed        502\n",
    "nombre_recovered    16266\n",
    "Name: 476, dtype: int64"
   ]
  },
  {
   "cell_type": "markdown",
   "id": "f5e763c7",
   "metadata": {},
   "source": [
    "nombre_infected       697\n",
    "nombre_sain          2520\n",
    "nombre_exposed        507\n",
    "nombre_recovered    16276\n",
    "Name: 477, dtype: int64"
   ]
  },
  {
   "cell_type": "markdown",
   "id": "c7eda101",
   "metadata": {},
   "source": [
    "nombre_infected       718\n",
    "nombre_sain          2505\n",
    "nombre_exposed        519\n",
    "nombre_recovered    16258\n",
    "Name: 478, dtype: int64"
   ]
  },
  {
   "cell_type": "markdown",
   "id": "ba649d58",
   "metadata": {},
   "source": [
    "nombre_infected       742\n",
    "nombre_sain          2489\n",
    "nombre_exposed        504\n",
    "nombre_recovered    16265\n",
    "Name: 479, dtype: int64"
   ]
  },
  {
   "cell_type": "markdown",
   "id": "b0c8c84b",
   "metadata": {},
   "source": [
    "nombre_infected       761\n",
    "nombre_sain          2472\n",
    "nombre_exposed        511\n",
    "nombre_recovered    16256\n",
    "Name: 480, dtype: int64"
   ]
  },
  {
   "cell_type": "markdown",
   "id": "67f48d3d",
   "metadata": {},
   "source": [
    "nombre_infected       759\n",
    "nombre_sain          2437\n",
    "nombre_exposed        522\n",
    "nombre_recovered    16282\n",
    "Name: 481, dtype: int64"
   ]
  },
  {
   "cell_type": "markdown",
   "id": "c6ad8ed9",
   "metadata": {},
   "source": [
    "nombre_infected       753\n",
    "nombre_sain          2439\n",
    "nombre_exposed        532\n",
    "nombre_recovered    16276\n",
    "Name: 482, dtype: int64"
   ]
  },
  {
   "cell_type": "markdown",
   "id": "523f36ca",
   "metadata": {},
   "source": [
    "nombre_infected       775\n",
    "nombre_sain          2426\n",
    "nombre_exposed        520\n",
    "nombre_recovered    16279\n",
    "Name: 483, dtype: int64"
   ]
  },
  {
   "cell_type": "markdown",
   "id": "543e0987",
   "metadata": {},
   "source": [
    "nombre_infected       774\n",
    "nombre_sain          2408\n",
    "nombre_exposed        545\n",
    "nombre_recovered    16273\n",
    "Name: 484, dtype: int64"
   ]
  },
  {
   "cell_type": "markdown",
   "id": "8946072d",
   "metadata": {},
   "source": [
    "nombre_infected       766\n",
    "nombre_sain          2392\n",
    "nombre_exposed        533\n",
    "nombre_recovered    16309\n",
    "Name: 485, dtype: int64"
   ]
  },
  {
   "cell_type": "markdown",
   "id": "0f7c6192",
   "metadata": {},
   "source": [
    "nombre_infected       787\n",
    "nombre_sain          2393\n",
    "nombre_exposed        500\n",
    "nombre_recovered    16320\n",
    "Name: 486, dtype: int64"
   ]
  },
  {
   "cell_type": "markdown",
   "id": "a4cb1e47",
   "metadata": {},
   "source": [
    "nombre_infected       801\n",
    "nombre_sain          2366\n",
    "nombre_exposed        494\n",
    "nombre_recovered    16339\n",
    "Name: 487, dtype: int64"
   ]
  },
  {
   "cell_type": "markdown",
   "id": "5e1e8ff1",
   "metadata": {},
   "source": [
    "nombre_infected       791\n",
    "nombre_sain          2362\n",
    "nombre_exposed        492\n",
    "nombre_recovered    16355\n",
    "Name: 488, dtype: int64"
   ]
  },
  {
   "cell_type": "markdown",
   "id": "e9094525",
   "metadata": {},
   "source": [
    "nombre_infected       788\n",
    "nombre_sain          2319\n",
    "nombre_exposed        510\n",
    "nombre_recovered    16383\n",
    "Name: 489, dtype: int64"
   ]
  },
  {
   "cell_type": "markdown",
   "id": "c2c7b72d",
   "metadata": {},
   "source": [
    "nombre_infected       803\n",
    "nombre_sain          2291\n",
    "nombre_exposed        506\n",
    "nombre_recovered    16400\n",
    "Name: 490, dtype: int64"
   ]
  },
  {
   "cell_type": "markdown",
   "id": "6a42c508",
   "metadata": {},
   "source": [
    "nombre_infected       804\n",
    "nombre_sain          2274\n",
    "nombre_exposed        508\n",
    "nombre_recovered    16414\n",
    "Name: 491, dtype: int64"
   ]
  },
  {
   "cell_type": "markdown",
   "id": "537ea01d",
   "metadata": {},
   "source": [
    "nombre_infected       788\n",
    "nombre_sain          2258\n",
    "nombre_exposed        524\n",
    "nombre_recovered    16430\n",
    "Name: 492, dtype: int64"
   ]
  },
  {
   "cell_type": "markdown",
   "id": "e4baee98",
   "metadata": {},
   "source": [
    "nombre_infected       791\n",
    "nombre_sain          2240\n",
    "nombre_exposed        503\n",
    "nombre_recovered    16466\n",
    "Name: 493, dtype: int64"
   ]
  },
  {
   "cell_type": "markdown",
   "id": "f4824c3d",
   "metadata": {},
   "source": [
    "nombre_infected       808\n",
    "nombre_sain          2242\n",
    "nombre_exposed        491\n",
    "nombre_recovered    16459\n",
    "Name: 494, dtype: int64"
   ]
  },
  {
   "cell_type": "markdown",
   "id": "c951e0bd",
   "metadata": {},
   "source": [
    "nombre_infected       801\n",
    "nombre_sain          2221\n",
    "nombre_exposed        489\n",
    "nombre_recovered    16489\n",
    "Name: 495, dtype: int64"
   ]
  },
  {
   "cell_type": "markdown",
   "id": "d21427b1",
   "metadata": {},
   "source": [
    "nombre_infected       801\n",
    "nombre_sain          2237\n",
    "nombre_exposed        480\n",
    "nombre_recovered    16482\n",
    "Name: 496, dtype: int64"
   ]
  },
  {
   "cell_type": "markdown",
   "id": "0e40a8fd",
   "metadata": {},
   "source": [
    "nombre_infected       794\n",
    "nombre_sain          2204\n",
    "nombre_exposed        483\n",
    "nombre_recovered    16519\n",
    "Name: 497, dtype: int64"
   ]
  },
  {
   "cell_type": "markdown",
   "id": "c0a6bd2b",
   "metadata": {},
   "source": [
    "nombre_infected       766\n",
    "nombre_sain          2200\n",
    "nombre_exposed        493\n",
    "nombre_recovered    16541\n",
    "Name: 498, dtype: int64"
   ]
  },
  {
   "cell_type": "markdown",
   "id": "3a72a0e3",
   "metadata": {},
   "source": [
    "nombre_infected       740\n",
    "nombre_sain          2181\n",
    "nombre_exposed        496\n",
    "nombre_recovered    16583\n",
    "Name: 499, dtype: int64"
   ]
  },
  {
   "cell_type": "markdown",
   "id": "9201f0b9",
   "metadata": {},
   "source": [
    "nombre_infected       744\n",
    "nombre_sain          2182\n",
    "nombre_exposed        485\n",
    "nombre_recovered    16589\n",
    "Name: 500, dtype: int64"
   ]
  },
  {
   "cell_type": "markdown",
   "id": "1c46ace6",
   "metadata": {},
   "source": [
    "nombre_infected       785\n",
    "nombre_sain          2194\n",
    "nombre_exposed        447\n",
    "nombre_recovered    16574\n",
    "Name: 501, dtype: int64"
   ]
  },
  {
   "cell_type": "markdown",
   "id": "614848cf",
   "metadata": {},
   "source": [
    "nombre_infected       763\n",
    "nombre_sain          2206\n",
    "nombre_exposed        455\n",
    "nombre_recovered    16576\n",
    "Name: 502, dtype: int64"
   ]
  },
  {
   "cell_type": "markdown",
   "id": "4793f414",
   "metadata": {},
   "source": [
    "nombre_infected       735\n",
    "nombre_sain          2217\n",
    "nombre_exposed        435\n",
    "nombre_recovered    16613\n",
    "Name: 503, dtype: int64"
   ]
  },
  {
   "cell_type": "markdown",
   "id": "b1e68e10",
   "metadata": {},
   "source": [
    "nombre_infected       744\n",
    "nombre_sain          2259\n",
    "nombre_exposed        429\n",
    "nombre_recovered    16568\n",
    "Name: 504, dtype: int64"
   ]
  },
  {
   "cell_type": "markdown",
   "id": "03f8f399",
   "metadata": {},
   "source": [
    "nombre_infected       732\n",
    "nombre_sain          2259\n",
    "nombre_exposed        433\n",
    "nombre_recovered    16576\n",
    "Name: 505, dtype: int64"
   ]
  },
  {
   "cell_type": "markdown",
   "id": "6c72aa89",
   "metadata": {},
   "source": [
    "nombre_infected       706\n",
    "nombre_sain          2278\n",
    "nombre_exposed        429\n",
    "nombre_recovered    16587\n",
    "Name: 506, dtype: int64"
   ]
  },
  {
   "cell_type": "markdown",
   "id": "0767cf8b",
   "metadata": {},
   "source": [
    "nombre_infected       690\n",
    "nombre_sain          2300\n",
    "nombre_exposed        427\n",
    "nombre_recovered    16583\n",
    "Name: 507, dtype: int64"
   ]
  },
  {
   "cell_type": "markdown",
   "id": "dcbefa97",
   "metadata": {},
   "source": [
    "nombre_infected       666\n",
    "nombre_sain          2339\n",
    "nombre_exposed        418\n",
    "nombre_recovered    16577\n",
    "Name: 508, dtype: int64"
   ]
  },
  {
   "cell_type": "markdown",
   "id": "7d241e0f",
   "metadata": {},
   "source": [
    "nombre_infected       669\n",
    "nombre_sain          2378\n",
    "nombre_exposed        414\n",
    "nombre_recovered    16539\n",
    "Name: 509, dtype: int64"
   ]
  },
  {
   "cell_type": "markdown",
   "id": "efd5369b",
   "metadata": {},
   "source": [
    "nombre_infected       673\n",
    "nombre_sain          2386\n",
    "nombre_exposed        423\n",
    "nombre_recovered    16518\n",
    "Name: 510, dtype: int64"
   ]
  },
  {
   "cell_type": "markdown",
   "id": "289ca84b",
   "metadata": {},
   "source": [
    "nombre_infected       674\n",
    "nombre_sain          2392\n",
    "nombre_exposed        439\n",
    "nombre_recovered    16495\n",
    "Name: 511, dtype: int64"
   ]
  },
  {
   "cell_type": "markdown",
   "id": "c4679d58",
   "metadata": {},
   "source": [
    "nombre_infected       665\n",
    "nombre_sain          2391\n",
    "nombre_exposed        472\n",
    "nombre_recovered    16472\n",
    "Name: 512, dtype: int64"
   ]
  },
  {
   "cell_type": "markdown",
   "id": "7f36ec01",
   "metadata": {},
   "source": [
    "nombre_infected       664\n",
    "nombre_sain          2430\n",
    "nombre_exposed        465\n",
    "nombre_recovered    16441\n",
    "Name: 513, dtype: int64"
   ]
  },
  {
   "cell_type": "markdown",
   "id": "8fbad4b8",
   "metadata": {},
   "source": [
    "nombre_infected       697\n",
    "nombre_sain          2447\n",
    "nombre_exposed        460\n",
    "nombre_recovered    16396\n",
    "Name: 514, dtype: int64"
   ]
  },
  {
   "cell_type": "markdown",
   "id": "dfd15601",
   "metadata": {},
   "source": [
    "nombre_infected       704\n",
    "nombre_sain          2478\n",
    "nombre_exposed        460\n",
    "nombre_recovered    16358\n",
    "Name: 515, dtype: int64"
   ]
  },
  {
   "cell_type": "markdown",
   "id": "f0fa55b2",
   "metadata": {},
   "source": [
    "nombre_infected       736\n",
    "nombre_sain          2505\n",
    "nombre_exposed        452\n",
    "nombre_recovered    16307\n",
    "Name: 516, dtype: int64"
   ]
  },
  {
   "cell_type": "markdown",
   "id": "289f6c20",
   "metadata": {},
   "source": [
    "nombre_infected       747\n",
    "nombre_sain          2522\n",
    "nombre_exposed        447\n",
    "nombre_recovered    16284\n",
    "Name: 517, dtype: int64"
   ]
  },
  {
   "cell_type": "markdown",
   "id": "bac01f70",
   "metadata": {},
   "source": [
    "nombre_infected       719\n",
    "nombre_sain          2540\n",
    "nombre_exposed        466\n",
    "nombre_recovered    16275\n",
    "Name: 518, dtype: int64"
   ]
  },
  {
   "cell_type": "markdown",
   "id": "686e5f47",
   "metadata": {},
   "source": [
    "nombre_infected       736\n",
    "nombre_sain          2538\n",
    "nombre_exposed        474\n",
    "nombre_recovered    16252\n",
    "Name: 519, dtype: int64"
   ]
  },
  {
   "cell_type": "markdown",
   "id": "e63004f2",
   "metadata": {},
   "source": [
    "nombre_infected       710\n",
    "nombre_sain          2551\n",
    "nombre_exposed        487\n",
    "nombre_recovered    16252\n",
    "Name: 520, dtype: int64"
   ]
  },
  {
   "cell_type": "markdown",
   "id": "194dc6c3",
   "metadata": {},
   "source": [
    "nombre_infected       747\n",
    "nombre_sain          2572\n",
    "nombre_exposed        477\n",
    "nombre_recovered    16204\n",
    "Name: 521, dtype: int64"
   ]
  },
  {
   "cell_type": "markdown",
   "id": "f4352114",
   "metadata": {},
   "source": [
    "nombre_infected       743\n",
    "nombre_sain          2583\n",
    "nombre_exposed        478\n",
    "nombre_recovered    16196\n",
    "Name: 522, dtype: int64"
   ]
  },
  {
   "cell_type": "markdown",
   "id": "c5611ae4",
   "metadata": {},
   "source": [
    "nombre_infected       774\n",
    "nombre_sain          2571\n",
    "nombre_exposed        476\n",
    "nombre_recovered    16179\n",
    "Name: 523, dtype: int64"
   ]
  },
  {
   "cell_type": "markdown",
   "id": "44271bb1",
   "metadata": {},
   "source": [
    "nombre_infected       755\n",
    "nombre_sain          2568\n",
    "nombre_exposed        497\n",
    "nombre_recovered    16180\n",
    "Name: 524, dtype: int64"
   ]
  },
  {
   "cell_type": "markdown",
   "id": "c2c2caff",
   "metadata": {},
   "source": [
    "nombre_infected       779\n",
    "nombre_sain          2565\n",
    "nombre_exposed        491\n",
    "nombre_recovered    16165\n",
    "Name: 525, dtype: int64"
   ]
  },
  {
   "cell_type": "markdown",
   "id": "3ae36651",
   "metadata": {},
   "source": [
    "nombre_infected       792\n",
    "nombre_sain          2544\n",
    "nombre_exposed        510\n",
    "nombre_recovered    16154\n",
    "Name: 526, dtype: int64"
   ]
  },
  {
   "cell_type": "markdown",
   "id": "28a745c7",
   "metadata": {},
   "source": [
    "nombre_infected       818\n",
    "nombre_sain          2504\n",
    "nombre_exposed        522\n",
    "nombre_recovered    16156\n",
    "Name: 527, dtype: int64"
   ]
  },
  {
   "cell_type": "markdown",
   "id": "5f559b50",
   "metadata": {},
   "source": [
    "nombre_infected       830\n",
    "nombre_sain          2492\n",
    "nombre_exposed        523\n",
    "nombre_recovered    16155\n",
    "Name: 528, dtype: int64"
   ]
  },
  {
   "cell_type": "markdown",
   "id": "0e7d8dca",
   "metadata": {},
   "source": [
    "nombre_infected       851\n",
    "nombre_sain          2486\n",
    "nombre_exposed        513\n",
    "nombre_recovered    16150\n",
    "Name: 529, dtype: int64"
   ]
  },
  {
   "cell_type": "markdown",
   "id": "53089ef6",
   "metadata": {},
   "source": [
    "nombre_infected       856\n",
    "nombre_sain          2449\n",
    "nombre_exposed        531\n",
    "nombre_recovered    16164\n",
    "Name: 530, dtype: int64"
   ]
  },
  {
   "cell_type": "markdown",
   "id": "5e2843c3",
   "metadata": {},
   "source": [
    "nombre_infected       861\n",
    "nombre_sain          2398\n",
    "nombre_exposed        543\n",
    "nombre_recovered    16198\n",
    "Name: 531, dtype: int64"
   ]
  },
  {
   "cell_type": "markdown",
   "id": "ae73c125",
   "metadata": {},
   "source": [
    "nombre_infected       855\n",
    "nombre_sain          2359\n",
    "nombre_exposed        553\n",
    "nombre_recovered    16233\n",
    "Name: 532, dtype: int64"
   ]
  },
  {
   "cell_type": "markdown",
   "id": "8da55445",
   "metadata": {},
   "source": [
    "nombre_infected       872\n",
    "nombre_sain          2328\n",
    "nombre_exposed        557\n",
    "nombre_recovered    16243\n",
    "Name: 533, dtype: int64"
   ]
  },
  {
   "cell_type": "markdown",
   "id": "385b047d",
   "metadata": {},
   "source": [
    "nombre_infected       896\n",
    "nombre_sain          2297\n",
    "nombre_exposed        562\n",
    "nombre_recovered    16245\n",
    "Name: 534, dtype: int64"
   ]
  },
  {
   "cell_type": "markdown",
   "id": "5fec1e93",
   "metadata": {},
   "source": [
    "nombre_infected       906\n",
    "nombre_sain          2293\n",
    "nombre_exposed        540\n",
    "nombre_recovered    16261\n",
    "Name: 535, dtype: int64"
   ]
  },
  {
   "cell_type": "markdown",
   "id": "64263240",
   "metadata": {},
   "source": [
    "nombre_infected       919\n",
    "nombre_sain          2266\n",
    "nombre_exposed        552\n",
    "nombre_recovered    16263\n",
    "Name: 536, dtype: int64"
   ]
  },
  {
   "cell_type": "markdown",
   "id": "ecedb130",
   "metadata": {},
   "source": [
    "nombre_infected       903\n",
    "nombre_sain          2242\n",
    "nombre_exposed        554\n",
    "nombre_recovered    16301\n",
    "Name: 537, dtype: int64"
   ]
  },
  {
   "cell_type": "markdown",
   "id": "df3feb6d",
   "metadata": {},
   "source": [
    "nombre_infected       906\n",
    "nombre_sain          2215\n",
    "nombre_exposed        558\n",
    "nombre_recovered    16321\n",
    "Name: 538, dtype: int64"
   ]
  },
  {
   "cell_type": "markdown",
   "id": "6e6a36a2",
   "metadata": {},
   "source": [
    "nombre_infected       893\n",
    "nombre_sain          2190\n",
    "nombre_exposed        569\n",
    "nombre_recovered    16348\n",
    "Name: 539, dtype: int64"
   ]
  },
  {
   "cell_type": "markdown",
   "id": "2aa96935",
   "metadata": {},
   "source": [
    "nombre_infected       884\n",
    "nombre_sain          2207\n",
    "nombre_exposed        557\n",
    "nombre_recovered    16352\n",
    "Name: 540, dtype: int64"
   ]
  },
  {
   "cell_type": "markdown",
   "id": "6a687af0",
   "metadata": {},
   "source": [
    "nombre_infected       922\n",
    "nombre_sain          2220\n",
    "nombre_exposed        527\n",
    "nombre_recovered    16331\n",
    "Name: 541, dtype: int64"
   ]
  },
  {
   "cell_type": "markdown",
   "id": "df190ea5",
   "metadata": {},
   "source": [
    "nombre_infected       923\n",
    "nombre_sain          2202\n",
    "nombre_exposed        533\n",
    "nombre_recovered    16342\n",
    "Name: 542, dtype: int64"
   ]
  },
  {
   "cell_type": "markdown",
   "id": "2c3d9e34",
   "metadata": {},
   "source": [
    "nombre_infected       922\n",
    "nombre_sain          2184\n",
    "nombre_exposed        552\n",
    "nombre_recovered    16342\n",
    "Name: 543, dtype: int64"
   ]
  },
  {
   "cell_type": "markdown",
   "id": "ad992da9",
   "metadata": {},
   "source": [
    "nombre_infected       916\n",
    "nombre_sain          2179\n",
    "nombre_exposed        556\n",
    "nombre_recovered    16349\n",
    "Name: 544, dtype: int64"
   ]
  },
  {
   "cell_type": "markdown",
   "id": "47cbf568",
   "metadata": {},
   "source": [
    "nombre_infected       937\n",
    "nombre_sain          2158\n",
    "nombre_exposed        542\n",
    "nombre_recovered    16363\n",
    "Name: 545, dtype: int64"
   ]
  },
  {
   "cell_type": "markdown",
   "id": "c6be1763",
   "metadata": {},
   "source": [
    "nombre_infected       948\n",
    "nombre_sain          2132\n",
    "nombre_exposed        537\n",
    "nombre_recovered    16383\n",
    "Name: 546, dtype: int64"
   ]
  },
  {
   "cell_type": "markdown",
   "id": "14344598",
   "metadata": {},
   "source": [
    "nombre_infected       950\n",
    "nombre_sain          2112\n",
    "nombre_exposed        540\n",
    "nombre_recovered    16398\n",
    "Name: 547, dtype: int64"
   ]
  },
  {
   "cell_type": "markdown",
   "id": "ab20d39c",
   "metadata": {},
   "source": [
    "nombre_infected       919\n",
    "nombre_sain          2084\n",
    "nombre_exposed        534\n",
    "nombre_recovered    16463\n",
    "Name: 548, dtype: int64"
   ]
  },
  {
   "cell_type": "markdown",
   "id": "9c365192",
   "metadata": {},
   "source": [
    "nombre_infected       926\n",
    "nombre_sain          2069\n",
    "nombre_exposed        528\n",
    "nombre_recovered    16477\n",
    "Name: 549, dtype: int64"
   ]
  },
  {
   "cell_type": "markdown",
   "id": "b015c9ac",
   "metadata": {},
   "source": [
    "nombre_infected       946\n",
    "nombre_sain          2022\n",
    "nombre_exposed        531\n",
    "nombre_recovered    16501\n",
    "Name: 550, dtype: int64"
   ]
  },
  {
   "cell_type": "markdown",
   "id": "c7685aa0",
   "metadata": {},
   "source": [
    "nombre_infected       921\n",
    "nombre_sain          2034\n",
    "nombre_exposed        518\n",
    "nombre_recovered    16527\n",
    "Name: 551, dtype: int64"
   ]
  },
  {
   "cell_type": "markdown",
   "id": "defb1ddb",
   "metadata": {},
   "source": [
    "nombre_infected       930\n",
    "nombre_sain          1999\n",
    "nombre_exposed        514\n",
    "nombre_recovered    16557\n",
    "Name: 552, dtype: int64"
   ]
  },
  {
   "cell_type": "markdown",
   "id": "225fdf1c",
   "metadata": {},
   "source": [
    "nombre_infected       949\n",
    "nombre_sain          1991\n",
    "nombre_exposed        488\n",
    "nombre_recovered    16572\n",
    "Name: 553, dtype: int64"
   ]
  },
  {
   "cell_type": "markdown",
   "id": "c7f43db3",
   "metadata": {},
   "source": [
    "nombre_infected       946\n",
    "nombre_sain          1957\n",
    "nombre_exposed        505\n",
    "nombre_recovered    16592\n",
    "Name: 554, dtype: int64"
   ]
  },
  {
   "cell_type": "markdown",
   "id": "199b26a7",
   "metadata": {},
   "source": [
    "nombre_infected       929\n",
    "nombre_sain          1950\n",
    "nombre_exposed        500\n",
    "nombre_recovered    16621\n",
    "Name: 555, dtype: int64"
   ]
  },
  {
   "cell_type": "markdown",
   "id": "59851c7f",
   "metadata": {},
   "source": [
    "nombre_infected       923\n",
    "nombre_sain          1962\n",
    "nombre_exposed        498\n",
    "nombre_recovered    16617\n",
    "Name: 556, dtype: int64"
   ]
  },
  {
   "cell_type": "markdown",
   "id": "a20d6c88",
   "metadata": {},
   "source": [
    "nombre_infected       951\n",
    "nombre_sain          1971\n",
    "nombre_exposed        468\n",
    "nombre_recovered    16610\n",
    "Name: 557, dtype: int64"
   ]
  },
  {
   "cell_type": "markdown",
   "id": "c26215b1",
   "metadata": {},
   "source": [
    "nombre_infected       921\n",
    "nombre_sain          1971\n",
    "nombre_exposed        489\n",
    "nombre_recovered    16619\n",
    "Name: 558, dtype: int64"
   ]
  },
  {
   "cell_type": "markdown",
   "id": "76a8c3ab",
   "metadata": {},
   "source": [
    "nombre_infected       912\n",
    "nombre_sain          1969\n",
    "nombre_exposed        499\n",
    "nombre_recovered    16620\n",
    "Name: 559, dtype: int64"
   ]
  },
  {
   "cell_type": "markdown",
   "id": "2c07d694",
   "metadata": {},
   "source": [
    "nombre_infected       893\n",
    "nombre_sain          1975\n",
    "nombre_exposed        503\n",
    "nombre_recovered    16629\n",
    "Name: 560, dtype: int64"
   ]
  },
  {
   "cell_type": "markdown",
   "id": "0612f875",
   "metadata": {},
   "source": [
    "nombre_infected       898\n",
    "nombre_sain          1969\n",
    "nombre_exposed        495\n",
    "nombre_recovered    16638\n",
    "Name: 561, dtype: int64"
   ]
  },
  {
   "cell_type": "markdown",
   "id": "6f65d627",
   "metadata": {},
   "source": [
    "nombre_infected       895\n",
    "nombre_sain          1956\n",
    "nombre_exposed        501\n",
    "nombre_recovered    16648\n",
    "Name: 562, dtype: int64"
   ]
  },
  {
   "cell_type": "markdown",
   "id": "4744e311",
   "metadata": {},
   "source": [
    "nombre_infected       883\n",
    "nombre_sain          1941\n",
    "nombre_exposed        532\n",
    "nombre_recovered    16644\n",
    "Name: 563, dtype: int64"
   ]
  },
  {
   "cell_type": "markdown",
   "id": "e0f67b30",
   "metadata": {},
   "source": [
    "nombre_infected       888\n",
    "nombre_sain          1953\n",
    "nombre_exposed        522\n",
    "nombre_recovered    16637\n",
    "Name: 564, dtype: int64"
   ]
  },
  {
   "cell_type": "markdown",
   "id": "a1550ef7",
   "metadata": {},
   "source": [
    "nombre_infected       900\n",
    "nombre_sain          1962\n",
    "nombre_exposed        493\n",
    "nombre_recovered    16645\n",
    "Name: 565, dtype: int64"
   ]
  },
  {
   "cell_type": "markdown",
   "id": "8b4d4c9f",
   "metadata": {},
   "source": [
    "nombre_infected       911\n",
    "nombre_sain          1956\n",
    "nombre_exposed        489\n",
    "nombre_recovered    16644\n",
    "Name: 566, dtype: int64"
   ]
  },
  {
   "cell_type": "markdown",
   "id": "f017df48",
   "metadata": {},
   "source": [
    "nombre_infected       904\n",
    "nombre_sain          1971\n",
    "nombre_exposed        458\n",
    "nombre_recovered    16667\n",
    "Name: 567, dtype: int64"
   ]
  },
  {
   "cell_type": "markdown",
   "id": "81a55b59",
   "metadata": {},
   "source": [
    "nombre_infected       903\n",
    "nombre_sain          1973\n",
    "nombre_exposed        457\n",
    "nombre_recovered    16667\n",
    "Name: 568, dtype: int64"
   ]
  },
  {
   "cell_type": "markdown",
   "id": "870271a9",
   "metadata": {},
   "source": [
    "nombre_infected       894\n",
    "nombre_sain          1972\n",
    "nombre_exposed        465\n",
    "nombre_recovered    16669\n",
    "Name: 569, dtype: int64"
   ]
  },
  {
   "cell_type": "markdown",
   "id": "e591b309",
   "metadata": {},
   "source": [
    "nombre_infected       906\n",
    "nombre_sain          1951\n",
    "nombre_exposed        467\n",
    "nombre_recovered    16676\n",
    "Name: 570, dtype: int64"
   ]
  },
  {
   "cell_type": "markdown",
   "id": "e4672708",
   "metadata": {},
   "source": [
    "nombre_infected       912\n",
    "nombre_sain          1983\n",
    "nombre_exposed        478\n",
    "nombre_recovered    16627\n",
    "Name: 571, dtype: int64"
   ]
  },
  {
   "cell_type": "markdown",
   "id": "a90d00ff",
   "metadata": {},
   "source": [
    "nombre_infected       898\n",
    "nombre_sain          1996\n",
    "nombre_exposed        491\n",
    "nombre_recovered    16615\n",
    "Name: 572, dtype: int64"
   ]
  },
  {
   "cell_type": "markdown",
   "id": "d440ff7b",
   "metadata": {},
   "source": [
    "nombre_infected       898\n",
    "nombre_sain          1986\n",
    "nombre_exposed        516\n",
    "nombre_recovered    16600\n",
    "Name: 573, dtype: int64"
   ]
  },
  {
   "cell_type": "markdown",
   "id": "9f99bb41",
   "metadata": {},
   "source": [
    "nombre_infected       898\n",
    "nombre_sain          1984\n",
    "nombre_exposed        518\n",
    "nombre_recovered    16600\n",
    "Name: 574, dtype: int64"
   ]
  },
  {
   "cell_type": "markdown",
   "id": "09dec842",
   "metadata": {},
   "source": [
    "nombre_infected       899\n",
    "nombre_sain          2007\n",
    "nombre_exposed        510\n",
    "nombre_recovered    16584\n",
    "Name: 575, dtype: int64"
   ]
  },
  {
   "cell_type": "markdown",
   "id": "782cb236",
   "metadata": {},
   "source": [
    "nombre_infected       915\n",
    "nombre_sain          2019\n",
    "nombre_exposed        506\n",
    "nombre_recovered    16560\n",
    "Name: 576, dtype: int64"
   ]
  },
  {
   "cell_type": "markdown",
   "id": "e861f7cc",
   "metadata": {},
   "source": [
    "nombre_infected       913\n",
    "nombre_sain          2029\n",
    "nombre_exposed        520\n",
    "nombre_recovered    16538\n",
    "Name: 577, dtype: int64"
   ]
  },
  {
   "cell_type": "markdown",
   "id": "0c35962a",
   "metadata": {},
   "source": [
    "nombre_infected       916\n",
    "nombre_sain          2034\n",
    "nombre_exposed        527\n",
    "nombre_recovered    16523\n",
    "Name: 578, dtype: int64"
   ]
  },
  {
   "cell_type": "markdown",
   "id": "1366c173",
   "metadata": {},
   "source": [
    "nombre_infected       908\n",
    "nombre_sain          2066\n",
    "nombre_exposed        521\n",
    "nombre_recovered    16505\n",
    "Name: 579, dtype: int64"
   ]
  },
  {
   "cell_type": "markdown",
   "id": "7c88e3e7",
   "metadata": {},
   "source": [
    "nombre_infected       907\n",
    "nombre_sain          2100\n",
    "nombre_exposed        516\n",
    "nombre_recovered    16477\n",
    "Name: 580, dtype: int64"
   ]
  },
  {
   "cell_type": "markdown",
   "id": "47df6170",
   "metadata": {},
   "source": [
    "nombre_infected       893\n",
    "nombre_sain          2096\n",
    "nombre_exposed        522\n",
    "nombre_recovered    16489\n",
    "Name: 581, dtype: int64"
   ]
  },
  {
   "cell_type": "markdown",
   "id": "55d7942c",
   "metadata": {},
   "source": [
    "nombre_infected       885\n",
    "nombre_sain          2134\n",
    "nombre_exposed        522\n",
    "nombre_recovered    16459\n",
    "Name: 582, dtype: int64"
   ]
  },
  {
   "cell_type": "markdown",
   "id": "20dff07b",
   "metadata": {},
   "source": [
    "nombre_infected       909\n",
    "nombre_sain          2136\n",
    "nombre_exposed        501\n",
    "nombre_recovered    16454\n",
    "Name: 583, dtype: int64"
   ]
  },
  {
   "cell_type": "markdown",
   "id": "0d4bba41",
   "metadata": {},
   "source": [
    "nombre_infected       917\n",
    "nombre_sain          2132\n",
    "nombre_exposed        502\n",
    "nombre_recovered    16449\n",
    "Name: 584, dtype: int64"
   ]
  },
  {
   "cell_type": "markdown",
   "id": "8345b745",
   "metadata": {},
   "source": [
    "nombre_infected       916\n",
    "nombre_sain          2143\n",
    "nombre_exposed        523\n",
    "nombre_recovered    16418\n",
    "Name: 585, dtype: int64"
   ]
  },
  {
   "cell_type": "markdown",
   "id": "4895487f",
   "metadata": {},
   "source": [
    "nombre_infected       923\n",
    "nombre_sain          2152\n",
    "nombre_exposed        544\n",
    "nombre_recovered    16381\n",
    "Name: 586, dtype: int64"
   ]
  },
  {
   "cell_type": "markdown",
   "id": "6f5fd915",
   "metadata": {},
   "source": [
    "nombre_infected       946\n",
    "nombre_sain          2123\n",
    "nombre_exposed        569\n",
    "nombre_recovered    16362\n",
    "Name: 587, dtype: int64"
   ]
  },
  {
   "cell_type": "markdown",
   "id": "cbde07f0",
   "metadata": {},
   "source": [
    "nombre_infected       934\n",
    "nombre_sain          2122\n",
    "nombre_exposed        579\n",
    "nombre_recovered    16365\n",
    "Name: 588, dtype: int64"
   ]
  },
  {
   "cell_type": "markdown",
   "id": "daa04049",
   "metadata": {},
   "source": [
    "nombre_infected       921\n",
    "nombre_sain          2116\n",
    "nombre_exposed        598\n",
    "nombre_recovered    16365\n",
    "Name: 589, dtype: int64"
   ]
  },
  {
   "cell_type": "markdown",
   "id": "9866f09e",
   "metadata": {},
   "source": [
    "nombre_infected       915\n",
    "nombre_sain          2129\n",
    "nombre_exposed        597\n",
    "nombre_recovered    16359\n",
    "Name: 590, dtype: int64"
   ]
  },
  {
   "cell_type": "markdown",
   "id": "430f6a9e",
   "metadata": {},
   "source": [
    "nombre_infected       929\n",
    "nombre_sain          2111\n",
    "nombre_exposed        591\n",
    "nombre_recovered    16369\n",
    "Name: 591, dtype: int64"
   ]
  },
  {
   "cell_type": "markdown",
   "id": "25c7c55e",
   "metadata": {},
   "source": [
    "nombre_infected       945\n",
    "nombre_sain          2111\n",
    "nombre_exposed        581\n",
    "nombre_recovered    16363\n",
    "Name: 592, dtype: int64"
   ]
  },
  {
   "cell_type": "markdown",
   "id": "6d558e69",
   "metadata": {},
   "source": [
    "nombre_infected       944\n",
    "nombre_sain          2101\n",
    "nombre_exposed        584\n",
    "nombre_recovered    16371\n",
    "Name: 593, dtype: int64"
   ]
  },
  {
   "cell_type": "markdown",
   "id": "01fd9743",
   "metadata": {},
   "source": [
    "nombre_infected       970\n",
    "nombre_sain          2074\n",
    "nombre_exposed        581\n",
    "nombre_recovered    16375\n",
    "Name: 594, dtype: int64"
   ]
  },
  {
   "cell_type": "markdown",
   "id": "463a8a78",
   "metadata": {},
   "source": [
    "nombre_infected       966\n",
    "nombre_sain          2046\n",
    "nombre_exposed        597\n",
    "nombre_recovered    16391\n",
    "Name: 595, dtype: int64"
   ]
  },
  {
   "cell_type": "markdown",
   "id": "f48df803",
   "metadata": {},
   "source": [
    "nombre_infected       978\n",
    "nombre_sain          2030\n",
    "nombre_exposed        589\n",
    "nombre_recovered    16403\n",
    "Name: 596, dtype: int64"
   ]
  },
  {
   "cell_type": "markdown",
   "id": "2daad6cc",
   "metadata": {},
   "source": [
    "nombre_infected       999\n",
    "nombre_sain          2043\n",
    "nombre_exposed        540\n",
    "nombre_recovered    16418\n",
    "Name: 597, dtype: int64"
   ]
  },
  {
   "cell_type": "markdown",
   "id": "5cf96dba",
   "metadata": {},
   "source": [
    "nombre_infected       984\n",
    "nombre_sain          2033\n",
    "nombre_exposed        544\n",
    "nombre_recovered    16439\n",
    "Name: 598, dtype: int64"
   ]
  },
  {
   "cell_type": "markdown",
   "id": "fc9910fd",
   "metadata": {},
   "source": [
    "nombre_infected       963\n",
    "nombre_sain          2020\n",
    "nombre_exposed        562\n",
    "nombre_recovered    16455\n",
    "Name: 599, dtype: int64"
   ]
  },
  {
   "cell_type": "markdown",
   "id": "c9cc4851",
   "metadata": {},
   "source": [
    "nombre_infected       965\n",
    "nombre_sain          1998\n",
    "nombre_exposed        558\n",
    "nombre_recovered    16479\n",
    "Name: 600, dtype: int64"
   ]
  },
  {
   "cell_type": "markdown",
   "id": "b162b284",
   "metadata": {},
   "source": [
    "nombre_infected       965\n",
    "nombre_sain          1983\n",
    "nombre_exposed        550\n",
    "nombre_recovered    16502\n",
    "Name: 601, dtype: int64"
   ]
  },
  {
   "cell_type": "markdown",
   "id": "3648ec2c",
   "metadata": {},
   "source": [
    "nombre_infected       976\n",
    "nombre_sain          1986\n",
    "nombre_exposed        530\n",
    "nombre_recovered    16508\n",
    "Name: 602, dtype: int64"
   ]
  },
  {
   "cell_type": "markdown",
   "id": "1da6d8ab",
   "metadata": {},
   "source": [
    "nombre_infected       970\n",
    "nombre_sain          1970\n",
    "nombre_exposed        555\n",
    "nombre_recovered    16505\n",
    "Name: 603, dtype: int64"
   ]
  },
  {
   "cell_type": "markdown",
   "id": "6aad6e10",
   "metadata": {},
   "source": [
    "nombre_infected       989\n",
    "nombre_sain          1962\n",
    "nombre_exposed        527\n",
    "nombre_recovered    16522\n",
    "Name: 604, dtype: int64"
   ]
  },
  {
   "cell_type": "markdown",
   "id": "03ccaea7",
   "metadata": {},
   "source": [
    "nombre_infected       978\n",
    "nombre_sain          1962\n",
    "nombre_exposed        527\n",
    "nombre_recovered    16533\n",
    "Name: 605, dtype: int64"
   ]
  },
  {
   "cell_type": "markdown",
   "id": "f521de11",
   "metadata": {},
   "source": [
    "nombre_infected       962\n",
    "nombre_sain          1988\n",
    "nombre_exposed        512\n",
    "nombre_recovered    16538\n",
    "Name: 606, dtype: int64"
   ]
  },
  {
   "cell_type": "markdown",
   "id": "872110e7",
   "metadata": {},
   "source": [
    "nombre_infected       956\n",
    "nombre_sain          2005\n",
    "nombre_exposed        503\n",
    "nombre_recovered    16536\n",
    "Name: 607, dtype: int64"
   ]
  },
  {
   "cell_type": "markdown",
   "id": "3b52adbb",
   "metadata": {},
   "source": [
    "nombre_infected       952\n",
    "nombre_sain          2015\n",
    "nombre_exposed        498\n",
    "nombre_recovered    16535\n",
    "Name: 608, dtype: int64"
   ]
  },
  {
   "cell_type": "markdown",
   "id": "4b23bda1",
   "metadata": {},
   "source": [
    "nombre_infected       930\n",
    "nombre_sain          1998\n",
    "nombre_exposed        500\n",
    "nombre_recovered    16572\n",
    "Name: 609, dtype: int64"
   ]
  },
  {
   "cell_type": "markdown",
   "id": "886ccd44",
   "metadata": {},
   "source": [
    "nombre_infected       942\n",
    "nombre_sain          1974\n",
    "nombre_exposed        501\n",
    "nombre_recovered    16583\n",
    "Name: 610, dtype: int64"
   ]
  },
  {
   "cell_type": "markdown",
   "id": "dfb2f6a5",
   "metadata": {},
   "source": [
    "nombre_infected       939\n",
    "nombre_sain          1961\n",
    "nombre_exposed        501\n",
    "nombre_recovered    16599\n",
    "Name: 611, dtype: int64"
   ]
  },
  {
   "cell_type": "markdown",
   "id": "e9f66924",
   "metadata": {},
   "source": [
    "nombre_infected       931\n",
    "nombre_sain          1983\n",
    "nombre_exposed        494\n",
    "nombre_recovered    16592\n",
    "Name: 612, dtype: int64"
   ]
  },
  {
   "cell_type": "markdown",
   "id": "8dd4b411",
   "metadata": {},
   "source": [
    "nombre_infected       926\n",
    "nombre_sain          1991\n",
    "nombre_exposed        500\n",
    "nombre_recovered    16583\n",
    "Name: 613, dtype: int64"
   ]
  },
  {
   "cell_type": "markdown",
   "id": "77e22082",
   "metadata": {},
   "source": [
    "nombre_infected       902\n",
    "nombre_sain          1990\n",
    "nombre_exposed        507\n",
    "nombre_recovered    16601\n",
    "Name: 614, dtype: int64"
   ]
  },
  {
   "cell_type": "markdown",
   "id": "2f52c5bd",
   "metadata": {},
   "source": [
    "nombre_infected       905\n",
    "nombre_sain          1985\n",
    "nombre_exposed        506\n",
    "nombre_recovered    16604\n",
    "Name: 615, dtype: int64"
   ]
  },
  {
   "cell_type": "markdown",
   "id": "d7ec231e",
   "metadata": {},
   "source": [
    "nombre_infected       922\n",
    "nombre_sain          1966\n",
    "nombre_exposed        512\n",
    "nombre_recovered    16600\n",
    "Name: 616, dtype: int64"
   ]
  },
  {
   "cell_type": "markdown",
   "id": "6aaf64c0",
   "metadata": {},
   "source": [
    "nombre_infected       907\n",
    "nombre_sain          1992\n",
    "nombre_exposed        508\n",
    "nombre_recovered    16593\n",
    "Name: 617, dtype: int64"
   ]
  },
  {
   "cell_type": "markdown",
   "id": "cfaefc07",
   "metadata": {},
   "source": [
    "nombre_infected       911\n",
    "nombre_sain          2019\n",
    "nombre_exposed        512\n",
    "nombre_recovered    16558\n",
    "Name: 618, dtype: int64"
   ]
  },
  {
   "cell_type": "markdown",
   "id": "c15553ac",
   "metadata": {},
   "source": [
    "nombre_infected       907\n",
    "nombre_sain          2027\n",
    "nombre_exposed        511\n",
    "nombre_recovered    16555\n",
    "Name: 619, dtype: int64"
   ]
  },
  {
   "cell_type": "markdown",
   "id": "23dd67b5",
   "metadata": {},
   "source": [
    "nombre_infected       912\n",
    "nombre_sain          2038\n",
    "nombre_exposed        495\n",
    "nombre_recovered    16555\n",
    "Name: 620, dtype: int64"
   ]
  },
  {
   "cell_type": "markdown",
   "id": "d812b6e1",
   "metadata": {},
   "source": [
    "nombre_infected       906\n",
    "nombre_sain          2036\n",
    "nombre_exposed        513\n",
    "nombre_recovered    16545\n",
    "Name: 621, dtype: int64"
   ]
  },
  {
   "cell_type": "markdown",
   "id": "e8f2c49c",
   "metadata": {},
   "source": [
    "nombre_infected       893\n",
    "nombre_sain          2027\n",
    "nombre_exposed        520\n",
    "nombre_recovered    16560\n",
    "Name: 622, dtype: int64"
   ]
  },
  {
   "cell_type": "markdown",
   "id": "bc9087c5",
   "metadata": {},
   "source": [
    "nombre_infected       877\n",
    "nombre_sain          2051\n",
    "nombre_exposed        503\n",
    "nombre_recovered    16569\n",
    "Name: 623, dtype: int64"
   ]
  },
  {
   "cell_type": "markdown",
   "id": "1975caeb",
   "metadata": {},
   "source": [
    "nombre_infected       884\n",
    "nombre_sain          2038\n",
    "nombre_exposed        506\n",
    "nombre_recovered    16572\n",
    "Name: 624, dtype: int64"
   ]
  },
  {
   "cell_type": "markdown",
   "id": "9db06cba",
   "metadata": {},
   "source": [
    "nombre_infected       864\n",
    "nombre_sain          2034\n",
    "nombre_exposed        528\n",
    "nombre_recovered    16574\n",
    "Name: 625, dtype: int64"
   ]
  },
  {
   "cell_type": "markdown",
   "id": "a214a8d7",
   "metadata": {},
   "source": [
    "nombre_infected       857\n",
    "nombre_sain          2081\n",
    "nombre_exposed        504\n",
    "nombre_recovered    16558\n",
    "Name: 626, dtype: int64"
   ]
  },
  {
   "cell_type": "markdown",
   "id": "df57dc9d",
   "metadata": {},
   "source": [
    "nombre_infected       863\n",
    "nombre_sain          2078\n",
    "nombre_exposed        501\n",
    "nombre_recovered    16558\n",
    "Name: 627, dtype: int64"
   ]
  },
  {
   "cell_type": "markdown",
   "id": "a197b496",
   "metadata": {},
   "source": [
    "nombre_infected       873\n",
    "nombre_sain          2083\n",
    "nombre_exposed        511\n",
    "nombre_recovered    16533\n",
    "Name: 628, dtype: int64"
   ]
  },
  {
   "cell_type": "markdown",
   "id": "4c96ba92",
   "metadata": {},
   "source": [
    "nombre_infected       854\n",
    "nombre_sain          2066\n",
    "nombre_exposed        539\n",
    "nombre_recovered    16541\n",
    "Name: 629, dtype: int64"
   ]
  },
  {
   "cell_type": "markdown",
   "id": "705f1d67",
   "metadata": {},
   "source": [
    "nombre_infected       860\n",
    "nombre_sain          2093\n",
    "nombre_exposed        512\n",
    "nombre_recovered    16535\n",
    "Name: 630, dtype: int64"
   ]
  },
  {
   "cell_type": "markdown",
   "id": "fe47dffb",
   "metadata": {},
   "source": [
    "nombre_infected       878\n",
    "nombre_sain          2087\n",
    "nombre_exposed        513\n",
    "nombre_recovered    16522\n",
    "Name: 631, dtype: int64"
   ]
  },
  {
   "cell_type": "markdown",
   "id": "caf1776a",
   "metadata": {},
   "source": [
    "nombre_infected       860\n",
    "nombre_sain          2097\n",
    "nombre_exposed        519\n",
    "nombre_recovered    16524\n",
    "Name: 632, dtype: int64"
   ]
  },
  {
   "cell_type": "markdown",
   "id": "7c5639de",
   "metadata": {},
   "source": [
    "nombre_infected       850\n",
    "nombre_sain          2096\n",
    "nombre_exposed        532\n",
    "nombre_recovered    16522\n",
    "Name: 633, dtype: int64"
   ]
  },
  {
   "cell_type": "markdown",
   "id": "af0418ed",
   "metadata": {},
   "source": [
    "nombre_infected       834\n",
    "nombre_sain          2105\n",
    "nombre_exposed        534\n",
    "nombre_recovered    16527\n",
    "Name: 634, dtype: int64"
   ]
  },
  {
   "cell_type": "markdown",
   "id": "8d499140",
   "metadata": {},
   "source": [
    "nombre_infected       832\n",
    "nombre_sain          2119\n",
    "nombre_exposed        516\n",
    "nombre_recovered    16533\n",
    "Name: 635, dtype: int64"
   ]
  },
  {
   "cell_type": "markdown",
   "id": "2fb8c72a",
   "metadata": {},
   "source": [
    "nombre_infected       856\n",
    "nombre_sain          2135\n",
    "nombre_exposed        495\n",
    "nombre_recovered    16514\n",
    "Name: 636, dtype: int64"
   ]
  },
  {
   "cell_type": "markdown",
   "id": "f4e001a3",
   "metadata": {},
   "source": [
    "nombre_infected       845\n",
    "nombre_sain          2167\n",
    "nombre_exposed        471\n",
    "nombre_recovered    16517\n",
    "Name: 637, dtype: int64"
   ]
  },
  {
   "cell_type": "markdown",
   "id": "09df6870",
   "metadata": {},
   "source": [
    "nombre_infected       860\n",
    "nombre_sain          2178\n",
    "nombre_exposed        442\n",
    "nombre_recovered    16520\n",
    "Name: 638, dtype: int64"
   ]
  },
  {
   "cell_type": "markdown",
   "id": "18635220",
   "metadata": {},
   "source": [
    "nombre_infected       825\n",
    "nombre_sain          2183\n",
    "nombre_exposed        466\n",
    "nombre_recovered    16526\n",
    "Name: 639, dtype: int64"
   ]
  },
  {
   "cell_type": "markdown",
   "id": "b8178c0e",
   "metadata": {},
   "source": [
    "nombre_infected       810\n",
    "nombre_sain          2188\n",
    "nombre_exposed        474\n",
    "nombre_recovered    16528\n",
    "Name: 640, dtype: int64"
   ]
  },
  {
   "cell_type": "markdown",
   "id": "8d11afa2",
   "metadata": {},
   "source": [
    "nombre_infected       783\n",
    "nombre_sain          2187\n",
    "nombre_exposed        487\n",
    "nombre_recovered    16543\n",
    "Name: 641, dtype: int64"
   ]
  },
  {
   "cell_type": "markdown",
   "id": "74ca68b5",
   "metadata": {},
   "source": [
    "nombre_infected       770\n",
    "nombre_sain          2219\n",
    "nombre_exposed        496\n",
    "nombre_recovered    16515\n",
    "Name: 642, dtype: int64"
   ]
  },
  {
   "cell_type": "markdown",
   "id": "d72b84a0",
   "metadata": {},
   "source": [
    "nombre_infected       785\n",
    "nombre_sain          2220\n",
    "nombre_exposed        518\n",
    "nombre_recovered    16477\n",
    "Name: 643, dtype: int64"
   ]
  },
  {
   "cell_type": "markdown",
   "id": "11c89fad",
   "metadata": {},
   "source": [
    "nombre_infected       766\n",
    "nombre_sain          2262\n",
    "nombre_exposed        506\n",
    "nombre_recovered    16466\n",
    "Name: 644, dtype: int64"
   ]
  },
  {
   "cell_type": "markdown",
   "id": "b124803d",
   "metadata": {},
   "source": [
    "nombre_infected       781\n",
    "nombre_sain          2252\n",
    "nombre_exposed        526\n",
    "nombre_recovered    16441\n",
    "Name: 645, dtype: int64"
   ]
  },
  {
   "cell_type": "markdown",
   "id": "5bb9f76b",
   "metadata": {},
   "source": [
    "nombre_infected       791\n",
    "nombre_sain          2285\n",
    "nombre_exposed        504\n",
    "nombre_recovered    16420\n",
    "Name: 646, dtype: int64"
   ]
  },
  {
   "cell_type": "markdown",
   "id": "e2fd065f",
   "metadata": {},
   "source": [
    "nombre_infected       782\n",
    "nombre_sain          2297\n",
    "nombre_exposed        518\n",
    "nombre_recovered    16403\n",
    "Name: 647, dtype: int64"
   ]
  },
  {
   "cell_type": "markdown",
   "id": "893ee789",
   "metadata": {},
   "source": [
    "nombre_infected       807\n",
    "nombre_sain          2330\n",
    "nombre_exposed        513\n",
    "nombre_recovered    16350\n",
    "Name: 648, dtype: int64"
   ]
  },
  {
   "cell_type": "markdown",
   "id": "f5458b2c",
   "metadata": {},
   "source": [
    "nombre_infected       808\n",
    "nombre_sain          2329\n",
    "nombre_exposed        508\n",
    "nombre_recovered    16355\n",
    "Name: 649, dtype: int64"
   ]
  },
  {
   "cell_type": "markdown",
   "id": "478b8aae",
   "metadata": {},
   "source": [
    "nombre_infected       830\n",
    "nombre_sain          2332\n",
    "nombre_exposed        497\n",
    "nombre_recovered    16341\n",
    "Name: 650, dtype: int64"
   ]
  },
  {
   "cell_type": "markdown",
   "id": "6dd92214",
   "metadata": {},
   "source": [
    "nombre_infected       819\n",
    "nombre_sain          2324\n",
    "nombre_exposed        521\n",
    "nombre_recovered    16336\n",
    "Name: 651, dtype: int64"
   ]
  },
  {
   "cell_type": "markdown",
   "id": "b50f145f",
   "metadata": {},
   "source": [
    "nombre_infected       810\n",
    "nombre_sain          2358\n",
    "nombre_exposed        525\n",
    "nombre_recovered    16307\n",
    "Name: 652, dtype: int64"
   ]
  },
  {
   "cell_type": "markdown",
   "id": "470ef60e",
   "metadata": {},
   "source": [
    "nombre_infected       844\n",
    "nombre_sain          2351\n",
    "nombre_exposed        505\n",
    "nombre_recovered    16300\n",
    "Name: 653, dtype: int64"
   ]
  },
  {
   "cell_type": "markdown",
   "id": "c3788cff",
   "metadata": {},
   "source": [
    "nombre_infected       847\n",
    "nombre_sain          2320\n",
    "nombre_exposed        534\n",
    "nombre_recovered    16299\n",
    "Name: 654, dtype: int64"
   ]
  },
  {
   "cell_type": "markdown",
   "id": "dad4e8d5",
   "metadata": {},
   "source": [
    "nombre_infected       850\n",
    "nombre_sain          2336\n",
    "nombre_exposed        522\n",
    "nombre_recovered    16292\n",
    "Name: 655, dtype: int64"
   ]
  },
  {
   "cell_type": "markdown",
   "id": "cf94b509",
   "metadata": {},
   "source": [
    "nombre_infected       858\n",
    "nombre_sain          2327\n",
    "nombre_exposed        541\n",
    "nombre_recovered    16274\n",
    "Name: 656, dtype: int64"
   ]
  },
  {
   "cell_type": "markdown",
   "id": "0944e04f",
   "metadata": {},
   "source": [
    "nombre_infected       873\n",
    "nombre_sain          2317\n",
    "nombre_exposed        538\n",
    "nombre_recovered    16272\n",
    "Name: 657, dtype: int64"
   ]
  },
  {
   "cell_type": "markdown",
   "id": "ddbf0720",
   "metadata": {},
   "source": [
    "nombre_infected       890\n",
    "nombre_sain          2335\n",
    "nombre_exposed        526\n",
    "nombre_recovered    16249\n",
    "Name: 658, dtype: int64"
   ]
  },
  {
   "cell_type": "markdown",
   "id": "82e8e405",
   "metadata": {},
   "source": [
    "nombre_infected       892\n",
    "nombre_sain          2311\n",
    "nombre_exposed        548\n",
    "nombre_recovered    16249\n",
    "Name: 659, dtype: int64"
   ]
  },
  {
   "cell_type": "markdown",
   "id": "af20b38e",
   "metadata": {},
   "source": [
    "nombre_infected       864\n",
    "nombre_sain          2292\n",
    "nombre_exposed        573\n",
    "nombre_recovered    16271\n",
    "Name: 660, dtype: int64"
   ]
  },
  {
   "cell_type": "markdown",
   "id": "aaa1cdf0",
   "metadata": {},
   "source": [
    "nombre_infected       857\n",
    "nombre_sain          2289\n",
    "nombre_exposed        588\n",
    "nombre_recovered    16266\n",
    "Name: 661, dtype: int64"
   ]
  },
  {
   "cell_type": "markdown",
   "id": "3b506ecb",
   "metadata": {},
   "source": [
    "nombre_infected       875\n",
    "nombre_sain          2268\n",
    "nombre_exposed        577\n",
    "nombre_recovered    16280\n",
    "Name: 662, dtype: int64"
   ]
  },
  {
   "cell_type": "markdown",
   "id": "bc50816b",
   "metadata": {},
   "source": [
    "nombre_infected       907\n",
    "nombre_sain          2246\n",
    "nombre_exposed        559\n",
    "nombre_recovered    16288\n",
    "Name: 663, dtype: int64"
   ]
  },
  {
   "cell_type": "markdown",
   "id": "883ef781",
   "metadata": {},
   "source": [
    "nombre_infected       935\n",
    "nombre_sain          2246\n",
    "nombre_exposed        536\n",
    "nombre_recovered    16283\n",
    "Name: 664, dtype: int64"
   ]
  },
  {
   "cell_type": "markdown",
   "id": "5adc9d53",
   "metadata": {},
   "source": [
    "nombre_infected       935\n",
    "nombre_sain          2235\n",
    "nombre_exposed        534\n",
    "nombre_recovered    16296\n",
    "Name: 665, dtype: int64"
   ]
  },
  {
   "cell_type": "markdown",
   "id": "bff142c4",
   "metadata": {},
   "source": [
    "nombre_infected       939\n",
    "nombre_sain          2211\n",
    "nombre_exposed        561\n",
    "nombre_recovered    16289\n",
    "Name: 666, dtype: int64"
   ]
  },
  {
   "cell_type": "markdown",
   "id": "35a87a55",
   "metadata": {},
   "source": [
    "nombre_infected       906\n",
    "nombre_sain          2181\n",
    "nombre_exposed        579\n",
    "nombre_recovered    16334\n",
    "Name: 667, dtype: int64"
   ]
  },
  {
   "cell_type": "markdown",
   "id": "ba7345bc",
   "metadata": {},
   "source": [
    "nombre_infected       910\n",
    "nombre_sain          2184\n",
    "nombre_exposed        570\n",
    "nombre_recovered    16336\n",
    "Name: 668, dtype: int64"
   ]
  },
  {
   "cell_type": "markdown",
   "id": "b59bcb91",
   "metadata": {},
   "source": [
    "nombre_infected       926\n",
    "nombre_sain          2156\n",
    "nombre_exposed        571\n",
    "nombre_recovered    16347\n",
    "Name: 669, dtype: int64"
   ]
  },
  {
   "cell_type": "markdown",
   "id": "37f5d8c9",
   "metadata": {},
   "source": [
    "nombre_infected       929\n",
    "nombre_sain          2156\n",
    "nombre_exposed        572\n",
    "nombre_recovered    16343\n",
    "Name: 670, dtype: int64"
   ]
  },
  {
   "cell_type": "markdown",
   "id": "261858ed",
   "metadata": {},
   "source": [
    "nombre_infected       931\n",
    "nombre_sain          2137\n",
    "nombre_exposed        572\n",
    "nombre_recovered    16360\n",
    "Name: 671, dtype: int64"
   ]
  },
  {
   "cell_type": "markdown",
   "id": "656624a1",
   "metadata": {},
   "source": [
    "nombre_infected       953\n",
    "nombre_sain          2121\n",
    "nombre_exposed        583\n",
    "nombre_recovered    16343\n",
    "Name: 672, dtype: int64"
   ]
  },
  {
   "cell_type": "markdown",
   "id": "5695785e",
   "metadata": {},
   "source": [
    "nombre_infected       973\n",
    "nombre_sain          2108\n",
    "nombre_exposed        564\n",
    "nombre_recovered    16355\n",
    "Name: 673, dtype: int64"
   ]
  },
  {
   "cell_type": "markdown",
   "id": "fda4b906",
   "metadata": {},
   "source": [
    "nombre_infected      1012\n",
    "nombre_sain          2094\n",
    "nombre_exposed        550\n",
    "nombre_recovered    16344\n",
    "Name: 674, dtype: int64"
   ]
  },
  {
   "cell_type": "markdown",
   "id": "151efdd7",
   "metadata": {},
   "source": [
    "nombre_infected      1018\n",
    "nombre_sain          2107\n",
    "nombre_exposed        525\n",
    "nombre_recovered    16350\n",
    "Name: 675, dtype: int64"
   ]
  },
  {
   "cell_type": "markdown",
   "id": "9bf26d2b",
   "metadata": {},
   "source": [
    "nombre_infected       993\n",
    "nombre_sain          2098\n",
    "nombre_exposed        538\n",
    "nombre_recovered    16371\n",
    "Name: 676, dtype: int64"
   ]
  },
  {
   "cell_type": "markdown",
   "id": "f26d2ebf",
   "metadata": {},
   "source": [
    "nombre_infected       996\n",
    "nombre_sain          2065\n",
    "nombre_exposed        557\n",
    "nombre_recovered    16382\n",
    "Name: 677, dtype: int64"
   ]
  },
  {
   "cell_type": "markdown",
   "id": "37b99d0c",
   "metadata": {},
   "source": [
    "nombre_infected       972\n",
    "nombre_sain          2058\n",
    "nombre_exposed        558\n",
    "nombre_recovered    16412\n",
    "Name: 678, dtype: int64"
   ]
  },
  {
   "cell_type": "markdown",
   "id": "bc85adae",
   "metadata": {},
   "source": [
    "nombre_infected       976\n",
    "nombre_sain          2054\n",
    "nombre_exposed        539\n",
    "nombre_recovered    16431\n",
    "Name: 679, dtype: int64"
   ]
  },
  {
   "cell_type": "markdown",
   "id": "3e7bc68a",
   "metadata": {},
   "source": [
    "nombre_infected       959\n",
    "nombre_sain          2071\n",
    "nombre_exposed        550\n",
    "nombre_recovered    16420\n",
    "Name: 680, dtype: int64"
   ]
  },
  {
   "cell_type": "markdown",
   "id": "a4440a72",
   "metadata": {},
   "source": [
    "nombre_infected       946\n",
    "nombre_sain          2074\n",
    "nombre_exposed        549\n",
    "nombre_recovered    16431\n",
    "Name: 681, dtype: int64"
   ]
  },
  {
   "cell_type": "markdown",
   "id": "85f23304",
   "metadata": {},
   "source": [
    "nombre_infected       950\n",
    "nombre_sain          2070\n",
    "nombre_exposed        528\n",
    "nombre_recovered    16452\n",
    "Name: 682, dtype: int64"
   ]
  },
  {
   "cell_type": "markdown",
   "id": "34ea6568",
   "metadata": {},
   "source": [
    "nombre_infected       940\n",
    "nombre_sain          2048\n",
    "nombre_exposed        548\n",
    "nombre_recovered    16464\n",
    "Name: 683, dtype: int64"
   ]
  },
  {
   "cell_type": "markdown",
   "id": "08805fb7",
   "metadata": {},
   "source": [
    "nombre_infected       934\n",
    "nombre_sain          2073\n",
    "nombre_exposed        518\n",
    "nombre_recovered    16475\n",
    "Name: 684, dtype: int64"
   ]
  },
  {
   "cell_type": "markdown",
   "id": "84775307",
   "metadata": {},
   "source": [
    "nombre_infected       929\n",
    "nombre_sain          2056\n",
    "nombre_exposed        526\n",
    "nombre_recovered    16489\n",
    "Name: 685, dtype: int64"
   ]
  },
  {
   "cell_type": "markdown",
   "id": "847adb2f",
   "metadata": {},
   "source": [
    "nombre_infected       926\n",
    "nombre_sain          2051\n",
    "nombre_exposed        516\n",
    "nombre_recovered    16507\n",
    "Name: 686, dtype: int64"
   ]
  },
  {
   "cell_type": "markdown",
   "id": "3f0211d2",
   "metadata": {},
   "source": [
    "nombre_infected       923\n",
    "nombre_sain          2045\n",
    "nombre_exposed        518\n",
    "nombre_recovered    16514\n",
    "Name: 687, dtype: int64"
   ]
  },
  {
   "cell_type": "markdown",
   "id": "db0d849c",
   "metadata": {},
   "source": [
    "nombre_infected       932\n",
    "nombre_sain          2022\n",
    "nombre_exposed        531\n",
    "nombre_recovered    16515\n",
    "Name: 688, dtype: int64"
   ]
  },
  {
   "cell_type": "markdown",
   "id": "c2cd74e5",
   "metadata": {},
   "source": [
    "nombre_infected       934\n",
    "nombre_sain          2027\n",
    "nombre_exposed        495\n",
    "nombre_recovered    16544\n",
    "Name: 689, dtype: int64"
   ]
  },
  {
   "cell_type": "markdown",
   "id": "d27ed4bc",
   "metadata": {},
   "source": [
    "nombre_infected       916\n",
    "nombre_sain          2046\n",
    "nombre_exposed        482\n",
    "nombre_recovered    16556\n",
    "Name: 690, dtype: int64"
   ]
  },
  {
   "cell_type": "markdown",
   "id": "517940f6",
   "metadata": {},
   "source": [
    "nombre_infected       897\n",
    "nombre_sain          2040\n",
    "nombre_exposed        506\n",
    "nombre_recovered    16557\n",
    "Name: 691, dtype: int64"
   ]
  },
  {
   "cell_type": "markdown",
   "id": "8e3c990f",
   "metadata": {},
   "source": [
    "nombre_infected       875\n",
    "nombre_sain          2036\n",
    "nombre_exposed        514\n",
    "nombre_recovered    16575\n",
    "Name: 692, dtype: int64"
   ]
  },
  {
   "cell_type": "markdown",
   "id": "f431ea3e",
   "metadata": {},
   "source": [
    "nombre_infected       891\n",
    "nombre_sain          2027\n",
    "nombre_exposed        488\n",
    "nombre_recovered    16594\n",
    "Name: 693, dtype: int64"
   ]
  },
  {
   "cell_type": "markdown",
   "id": "a212b3fc",
   "metadata": {},
   "source": [
    "nombre_infected       893\n",
    "nombre_sain          1999\n",
    "nombre_exposed        508\n",
    "nombre_recovered    16600\n",
    "Name: 694, dtype: int64"
   ]
  },
  {
   "cell_type": "markdown",
   "id": "4261d712",
   "metadata": {},
   "source": [
    "nombre_infected       872\n",
    "nombre_sain          2001\n",
    "nombre_exposed        517\n",
    "nombre_recovered    16610\n",
    "Name: 695, dtype: int64"
   ]
  },
  {
   "cell_type": "markdown",
   "id": "3b3adf4f",
   "metadata": {},
   "source": [
    "nombre_infected       868\n",
    "nombre_sain          1992\n",
    "nombre_exposed        522\n",
    "nombre_recovered    16618\n",
    "Name: 696, dtype: int64"
   ]
  },
  {
   "cell_type": "markdown",
   "id": "8fc815fd",
   "metadata": {},
   "source": [
    "nombre_infected       857\n",
    "nombre_sain          1998\n",
    "nombre_exposed        508\n",
    "nombre_recovered    16637\n",
    "Name: 697, dtype: int64"
   ]
  },
  {
   "cell_type": "markdown",
   "id": "b06c0c2f",
   "metadata": {},
   "source": [
    "nombre_infected       871\n",
    "nombre_sain          2007\n",
    "nombre_exposed        501\n",
    "nombre_recovered    16621\n",
    "Name: 698, dtype: int64"
   ]
  },
  {
   "cell_type": "markdown",
   "id": "0f971c35",
   "metadata": {},
   "source": [
    "nombre_infected       857\n",
    "nombre_sain          2002\n",
    "nombre_exposed        498\n",
    "nombre_recovered    16643\n",
    "Name: 699, dtype: int64"
   ]
  },
  {
   "cell_type": "markdown",
   "id": "72a64d55",
   "metadata": {},
   "source": [
    "nombre_infected       860\n",
    "nombre_sain          2022\n",
    "nombre_exposed        460\n",
    "nombre_recovered    16658\n",
    "Name: 700, dtype: int64"
   ]
  },
  {
   "cell_type": "markdown",
   "id": "8bc33de0",
   "metadata": {},
   "source": [
    "nombre_infected       849\n",
    "nombre_sain          2016\n",
    "nombre_exposed        455\n",
    "nombre_recovered    16680\n",
    "Name: 701, dtype: int64"
   ]
  },
  {
   "cell_type": "markdown",
   "id": "81c8c2a6",
   "metadata": {},
   "source": [
    "nombre_infected       856\n",
    "nombre_sain          2014\n",
    "nombre_exposed        453\n",
    "nombre_recovered    16677\n",
    "Name: 702, dtype: int64"
   ]
  },
  {
   "cell_type": "markdown",
   "id": "84387995",
   "metadata": {},
   "source": [
    "nombre_infected       843\n",
    "nombre_sain          2045\n",
    "nombre_exposed        444\n",
    "nombre_recovered    16668\n",
    "Name: 703, dtype: int64"
   ]
  },
  {
   "cell_type": "markdown",
   "id": "a97e9d0e",
   "metadata": {},
   "source": [
    "nombre_infected       831\n",
    "nombre_sain          2082\n",
    "nombre_exposed        432\n",
    "nombre_recovered    16655\n",
    "Name: 704, dtype: int64"
   ]
  },
  {
   "cell_type": "markdown",
   "id": "9cfcf922",
   "metadata": {},
   "source": [
    "nombre_infected       803\n",
    "nombre_sain          2075\n",
    "nombre_exposed        445\n",
    "nombre_recovered    16677\n",
    "Name: 705, dtype: int64"
   ]
  },
  {
   "cell_type": "markdown",
   "id": "5f9b75b9",
   "metadata": {},
   "source": [
    "nombre_infected       799\n",
    "nombre_sain          2081\n",
    "nombre_exposed        451\n",
    "nombre_recovered    16669\n",
    "Name: 706, dtype: int64"
   ]
  },
  {
   "cell_type": "markdown",
   "id": "2043940d",
   "metadata": {},
   "source": [
    "nombre_infected       791\n",
    "nombre_sain          2104\n",
    "nombre_exposed        452\n",
    "nombre_recovered    16653\n",
    "Name: 707, dtype: int64"
   ]
  },
  {
   "cell_type": "markdown",
   "id": "6fb560cc",
   "metadata": {},
   "source": [
    "nombre_infected       773\n",
    "nombre_sain          2127\n",
    "nombre_exposed        464\n",
    "nombre_recovered    16636\n",
    "Name: 708, dtype: int64"
   ]
  },
  {
   "cell_type": "markdown",
   "id": "8d98426b",
   "metadata": {},
   "source": [
    "nombre_infected       770\n",
    "nombre_sain          2111\n",
    "nombre_exposed        464\n",
    "nombre_recovered    16655\n",
    "Name: 709, dtype: int64"
   ]
  },
  {
   "cell_type": "markdown",
   "id": "983821f3",
   "metadata": {},
   "source": [
    "nombre_infected       771\n",
    "nombre_sain          2126\n",
    "nombre_exposed        470\n",
    "nombre_recovered    16633\n",
    "Name: 710, dtype: int64"
   ]
  },
  {
   "cell_type": "markdown",
   "id": "0a7bbb37",
   "metadata": {},
   "source": [
    "nombre_infected       761\n",
    "nombre_sain          2135\n",
    "nombre_exposed        474\n",
    "nombre_recovered    16630\n",
    "Name: 711, dtype: int64"
   ]
  },
  {
   "cell_type": "markdown",
   "id": "c3ae0521",
   "metadata": {},
   "source": [
    "nombre_infected       765\n",
    "nombre_sain          2140\n",
    "nombre_exposed        484\n",
    "nombre_recovered    16611\n",
    "Name: 712, dtype: int64"
   ]
  },
  {
   "cell_type": "markdown",
   "id": "b9cf2692",
   "metadata": {},
   "source": [
    "nombre_infected       725\n",
    "nombre_sain          2150\n",
    "nombre_exposed        492\n",
    "nombre_recovered    16633\n",
    "Name: 713, dtype: int64"
   ]
  },
  {
   "cell_type": "markdown",
   "id": "3b7c8a81",
   "metadata": {},
   "source": [
    "nombre_infected       717\n",
    "nombre_sain          2176\n",
    "nombre_exposed        480\n",
    "nombre_recovered    16627\n",
    "Name: 714, dtype: int64"
   ]
  },
  {
   "cell_type": "markdown",
   "id": "393b6a34",
   "metadata": {},
   "source": [
    "nombre_infected       741\n",
    "nombre_sain          2222\n",
    "nombre_exposed        473\n",
    "nombre_recovered    16564\n",
    "Name: 715, dtype: int64"
   ]
  },
  {
   "cell_type": "markdown",
   "id": "7ee71027",
   "metadata": {},
   "source": [
    "nombre_infected       737\n",
    "nombre_sain          2269\n",
    "nombre_exposed        470\n",
    "nombre_recovered    16524\n",
    "Name: 716, dtype: int64"
   ]
  },
  {
   "cell_type": "markdown",
   "id": "33bd4be3",
   "metadata": {},
   "source": [
    "nombre_infected       720\n",
    "nombre_sain          2304\n",
    "nombre_exposed        469\n",
    "nombre_recovered    16507\n",
    "Name: 717, dtype: int64"
   ]
  },
  {
   "cell_type": "markdown",
   "id": "a1c22a3e",
   "metadata": {},
   "source": [
    "nombre_infected       725\n",
    "nombre_sain          2319\n",
    "nombre_exposed        479\n",
    "nombre_recovered    16477\n",
    "Name: 718, dtype: int64"
   ]
  },
  {
   "cell_type": "markdown",
   "id": "1e4cf3bb",
   "metadata": {},
   "source": [
    "nombre_infected       726\n",
    "nombre_sain          2363\n",
    "nombre_exposed        463\n",
    "nombre_recovered    16448\n",
    "Name: 719, dtype: int64"
   ]
  },
  {
   "cell_type": "markdown",
   "id": "f04365bd",
   "metadata": {},
   "source": [
    "nombre_infected       726\n",
    "nombre_sain          2376\n",
    "nombre_exposed        464\n",
    "nombre_recovered    16434\n",
    "Name: 720, dtype: int64"
   ]
  },
  {
   "cell_type": "markdown",
   "id": "ca54e26f",
   "metadata": {},
   "source": [
    "nombre_infected       732\n",
    "nombre_sain          2406\n",
    "nombre_exposed        460\n",
    "nombre_recovered    16402\n",
    "Name: 721, dtype: int64"
   ]
  },
  {
   "cell_type": "markdown",
   "id": "4930e21a",
   "metadata": {},
   "source": [
    "nombre_infected       716\n",
    "nombre_sain          2423\n",
    "nombre_exposed        488\n",
    "nombre_recovered    16373\n",
    "Name: 722, dtype: int64"
   ]
  },
  {
   "cell_type": "markdown",
   "id": "ebe08ff8",
   "metadata": {},
   "source": [
    "nombre_infected       702\n",
    "nombre_sain          2451\n",
    "nombre_exposed        495\n",
    "nombre_recovered    16352\n",
    "Name: 723, dtype: int64"
   ]
  },
  {
   "cell_type": "markdown",
   "id": "941a569b",
   "metadata": {},
   "source": [
    "nombre_infected       700\n",
    "nombre_sain          2461\n",
    "nombre_exposed        509\n",
    "nombre_recovered    16330\n",
    "Name: 724, dtype: int64"
   ]
  },
  {
   "cell_type": "markdown",
   "id": "6fc38cca",
   "metadata": {},
   "source": [
    "nombre_infected       695\n",
    "nombre_sain          2473\n",
    "nombre_exposed        524\n",
    "nombre_recovered    16308\n",
    "Name: 725, dtype: int64"
   ]
  },
  {
   "cell_type": "markdown",
   "id": "28d74be4",
   "metadata": {},
   "source": [
    "nombre_infected       722\n",
    "nombre_sain          2477\n",
    "nombre_exposed        512\n",
    "nombre_recovered    16289\n",
    "Name: 726, dtype: int64"
   ]
  },
  {
   "cell_type": "markdown",
   "id": "9ac21e1a",
   "metadata": {},
   "source": [
    "nombre_infected       710\n",
    "nombre_sain          2502\n",
    "nombre_exposed        530\n",
    "nombre_recovered    16258\n",
    "Name: 727, dtype: int64"
   ]
  },
  {
   "cell_type": "markdown",
   "id": "6b57b476",
   "metadata": {},
   "source": [
    "nombre_infected       714\n",
    "nombre_sain          2523\n",
    "nombre_exposed        511\n",
    "nombre_recovered    16252\n",
    "Name: 728, dtype: int64"
   ]
  },
  {
   "cell_type": "markdown",
   "id": "a7051eda",
   "metadata": {},
   "source": [
    "nombre_infected       720\n",
    "nombre_sain          2518\n",
    "nombre_exposed        505\n",
    "nombre_recovered    16257\n",
    "Name: 729, dtype: int64"
   ]
  },
  {
   "cell_type": "markdown",
   "id": "86301e3a",
   "metadata": {},
   "source": [
    "nombre_infected       720\n",
    "nombre_sain          2539\n",
    "nombre_exposed        504\n",
    "nombre_recovered    16237\n",
    "Name: 730, dtype: int64"
   ]
  }
 ],
 "metadata": {},
 "nbformat": 4,
 "nbformat_minor": 5
}
