{
 "cells": [
  {
   "cell_type": "markdown",
   "id": "66ed7e58",
   "metadata": {},
   "source": [
    "nombre_infected        20\n",
    "nombre_sain         19980\n",
    "nombre_exposed          0\n",
    "nombre_recovered        0\n",
    "Name: 0, dtype: int64"
   ]
  },
  {
   "cell_type": "markdown",
   "id": "a0bdf502",
   "metadata": {},
   "source": [
    "nombre_infected        20\n",
    "nombre_sain         19959\n",
    "nombre_exposed         21\n",
    "nombre_recovered        0\n",
    "Name: 1, dtype: int64"
   ]
  },
  {
   "cell_type": "markdown",
   "id": "b8fab650",
   "metadata": {},
   "source": [
    "nombre_infected        20\n",
    "nombre_sain         19947\n",
    "nombre_exposed         33\n",
    "nombre_recovered        0\n",
    "Name: 2, dtype: int64"
   ]
  },
  {
   "cell_type": "markdown",
   "id": "3297d9b2",
   "metadata": {},
   "source": [
    "nombre_infected        28\n",
    "nombre_sain         19907\n",
    "nombre_exposed         65\n",
    "nombre_recovered        0\n",
    "Name: 3, dtype: int64"
   ]
  },
  {
   "cell_type": "markdown",
   "id": "ddc70b04",
   "metadata": {},
   "source": [
    "nombre_infected        33\n",
    "nombre_sain         19866\n",
    "nombre_exposed        101\n",
    "nombre_recovered        0\n",
    "Name: 4, dtype: int64"
   ]
  },
  {
   "cell_type": "markdown",
   "id": "65ea5be2",
   "metadata": {},
   "source": [
    "nombre_infected        54\n",
    "nombre_sain         19808\n",
    "nombre_exposed        137\n",
    "nombre_recovered        1\n",
    "Name: 5, dtype: int64"
   ]
  },
  {
   "cell_type": "markdown",
   "id": "96c68e04",
   "metadata": {},
   "source": [
    "nombre_infected        59\n",
    "nombre_sain         19738\n",
    "nombre_exposed        181\n",
    "nombre_recovered       22\n",
    "Name: 6, dtype: int64"
   ]
  },
  {
   "cell_type": "markdown",
   "id": "a2b1cc81",
   "metadata": {},
   "source": [
    "nombre_infected        94\n",
    "nombre_sain         19634\n",
    "nombre_exposed        245\n",
    "nombre_recovered       27\n",
    "Name: 7, dtype: int64"
   ]
  },
  {
   "cell_type": "markdown",
   "id": "7a6c12db",
   "metadata": {},
   "source": [
    "nombre_infected       123\n",
    "nombre_sain         19493\n",
    "nombre_exposed        350\n",
    "nombre_recovered       34\n",
    "Name: 8, dtype: int64"
   ]
  },
  {
   "cell_type": "markdown",
   "id": "efd37379",
   "metadata": {},
   "source": [
    "nombre_infected       171\n",
    "nombre_sain         19322\n",
    "nombre_exposed        460\n",
    "nombre_recovered       47\n",
    "Name: 9, dtype: int64"
   ]
  },
  {
   "cell_type": "markdown",
   "id": "8155d9b5",
   "metadata": {},
   "source": [
    "nombre_infected       230\n",
    "nombre_sain         19082\n",
    "nombre_exposed        621\n",
    "nombre_recovered       67\n",
    "Name: 10, dtype: int64"
   ]
  },
  {
   "cell_type": "markdown",
   "id": "96699996",
   "metadata": {},
   "source": [
    "nombre_infected       318\n",
    "nombre_sain         18748\n",
    "nombre_exposed        840\n",
    "nombre_recovered       94\n",
    "Name: 11, dtype: int64"
   ]
  },
  {
   "cell_type": "markdown",
   "id": "b25a0c68",
   "metadata": {},
   "source": [
    "nombre_infected       443\n",
    "nombre_sain         18282\n",
    "nombre_exposed       1153\n",
    "nombre_recovered      122\n",
    "Name: 12, dtype: int64"
   ]
  },
  {
   "cell_type": "markdown",
   "id": "9770b012",
   "metadata": {},
   "source": [
    "nombre_infected       599\n",
    "nombre_sain         17711\n",
    "nombre_exposed       1528\n",
    "nombre_recovered      162\n",
    "Name: 13, dtype: int64"
   ]
  },
  {
   "cell_type": "markdown",
   "id": "f0e1f440",
   "metadata": {},
   "source": [
    "nombre_infected       807\n",
    "nombre_sain         17037\n",
    "nombre_exposed       1942\n",
    "nombre_recovered      214\n",
    "Name: 14, dtype: int64"
   ]
  },
  {
   "cell_type": "markdown",
   "id": "4cb040ae",
   "metadata": {},
   "source": [
    "nombre_infected      1107\n",
    "nombre_sain         16111\n",
    "nombre_exposed       2488\n",
    "nombre_recovered      294\n",
    "Name: 15, dtype: int64"
   ]
  },
  {
   "cell_type": "markdown",
   "id": "f4f5dde4",
   "metadata": {},
   "source": [
    "nombre_infected      1468\n",
    "nombre_sain         14895\n",
    "nombre_exposed       3253\n",
    "nombre_recovered      384\n",
    "Name: 16, dtype: int64"
   ]
  },
  {
   "cell_type": "markdown",
   "id": "f101190c",
   "metadata": {},
   "source": [
    "nombre_infected      1903\n",
    "nombre_sain         13518\n",
    "nombre_exposed       4051\n",
    "nombre_recovered      528\n",
    "Name: 17, dtype: int64"
   ]
  },
  {
   "cell_type": "markdown",
   "id": "5eea5ff4",
   "metadata": {},
   "source": [
    "nombre_infected      2486\n",
    "nombre_sain         11961\n",
    "nombre_exposed       4836\n",
    "nombre_recovered      717\n",
    "Name: 18, dtype: int64"
   ]
  },
  {
   "cell_type": "markdown",
   "id": "e9c9d06e",
   "metadata": {},
   "source": [
    "nombre_infected      3176\n",
    "nombre_sain         10197\n",
    "nombre_exposed       5670\n",
    "nombre_recovered      957\n",
    "Name: 19, dtype: int64"
   ]
  },
  {
   "cell_type": "markdown",
   "id": "4f9bb54b",
   "metadata": {},
   "source": [
    "nombre_infected     4032\n",
    "nombre_sain         8348\n",
    "nombre_exposed      6370\n",
    "nombre_recovered    1250\n",
    "Name: 20, dtype: int64"
   ]
  },
  {
   "cell_type": "markdown",
   "id": "7806bfbb",
   "metadata": {},
   "source": [
    "nombre_infected     4971\n",
    "nombre_sain         6570\n",
    "nombre_exposed      6833\n",
    "nombre_recovered    1626\n",
    "Name: 21, dtype: int64"
   ]
  },
  {
   "cell_type": "markdown",
   "id": "1c789943",
   "metadata": {},
   "source": [
    "nombre_infected     5951\n",
    "nombre_sain         5011\n",
    "nombre_exposed      6879\n",
    "nombre_recovered    2159\n",
    "Name: 22, dtype: int64"
   ]
  },
  {
   "cell_type": "markdown",
   "id": "9a2f7ff9",
   "metadata": {},
   "source": [
    "nombre_infected     6840\n",
    "nombre_sain         3712\n",
    "nombre_exposed      6644\n",
    "nombre_recovered    2804\n",
    "Name: 23, dtype: int64"
   ]
  },
  {
   "cell_type": "markdown",
   "id": "ac8edbdb",
   "metadata": {},
   "source": [
    "nombre_infected     7704\n",
    "nombre_sain         2605\n",
    "nombre_exposed      6155\n",
    "nombre_recovered    3536\n",
    "Name: 24, dtype: int64"
   ]
  },
  {
   "cell_type": "markdown",
   "id": "2f46ee78",
   "metadata": {},
   "source": [
    "nombre_infected     8375\n",
    "nombre_sain         1816\n",
    "nombre_exposed      5448\n",
    "nombre_recovered    4361\n",
    "Name: 25, dtype: int64"
   ]
  },
  {
   "cell_type": "markdown",
   "id": "dc789d4b",
   "metadata": {},
   "source": [
    "nombre_infected     8826\n",
    "nombre_sain         1234\n",
    "nombre_exposed      4670\n",
    "nombre_recovered    5270\n",
    "Name: 26, dtype: int64"
   ]
  },
  {
   "cell_type": "markdown",
   "id": "fd3fb0b1",
   "metadata": {},
   "source": [
    "nombre_infected     8930\n",
    "nombre_sain          854\n",
    "nombre_exposed      3885\n",
    "nombre_recovered    6331\n",
    "Name: 27, dtype: int64"
   ]
  },
  {
   "cell_type": "markdown",
   "id": "572db799",
   "metadata": {},
   "source": [
    "nombre_infected     8908\n",
    "nombre_sain          560\n",
    "nombre_exposed      3109\n",
    "nombre_recovered    7423\n",
    "Name: 28, dtype: int64"
   ]
  },
  {
   "cell_type": "markdown",
   "id": "abaf27cd",
   "metadata": {},
   "source": [
    "nombre_infected     8688\n",
    "nombre_sain          388\n",
    "nombre_exposed      2437\n",
    "nombre_recovered    8487\n",
    "Name: 29, dtype: int64"
   ]
  },
  {
   "cell_type": "markdown",
   "id": "0403b07a",
   "metadata": {},
   "source": [
    "nombre_infected     8284\n",
    "nombre_sain          296\n",
    "nombre_exposed      1841\n",
    "nombre_recovered    9579\n",
    "Name: 30, dtype: int64"
   ]
  },
  {
   "cell_type": "markdown",
   "id": "be6f210f",
   "metadata": {},
   "source": [
    "nombre_infected      7728\n",
    "nombre_sain           238\n",
    "nombre_exposed       1436\n",
    "nombre_recovered    10598\n",
    "Name: 31, dtype: int64"
   ]
  },
  {
   "cell_type": "markdown",
   "id": "5bdfb0e0",
   "metadata": {},
   "source": [
    "nombre_infected      7141\n",
    "nombre_sain           186\n",
    "nombre_exposed       1122\n",
    "nombre_recovered    11551\n",
    "Name: 32, dtype: int64"
   ]
  },
  {
   "cell_type": "markdown",
   "id": "fdeb5095",
   "metadata": {},
   "source": [
    "nombre_infected      6593\n",
    "nombre_sain           169\n",
    "nombre_exposed        846\n",
    "nombre_recovered    12392\n",
    "Name: 33, dtype: int64"
   ]
  },
  {
   "cell_type": "markdown",
   "id": "275d0344",
   "metadata": {},
   "source": [
    "nombre_infected      6031\n",
    "nombre_sain           149\n",
    "nombre_exposed        661\n",
    "nombre_recovered    13159\n",
    "Name: 34, dtype: int64"
   ]
  },
  {
   "cell_type": "markdown",
   "id": "7e74140e",
   "metadata": {},
   "source": [
    "nombre_infected      5412\n",
    "nombre_sain           153\n",
    "nombre_exposed        552\n",
    "nombre_recovered    13883\n",
    "Name: 35, dtype: int64"
   ]
  },
  {
   "cell_type": "markdown",
   "id": "4940dc71",
   "metadata": {},
   "source": [
    "nombre_infected      4889\n",
    "nombre_sain           145\n",
    "nombre_exposed        427\n",
    "nombre_recovered    14539\n",
    "Name: 36, dtype: int64"
   ]
  },
  {
   "cell_type": "markdown",
   "id": "c02040ce",
   "metadata": {},
   "source": [
    "nombre_infected      4389\n",
    "nombre_sain           155\n",
    "nombre_exposed        327\n",
    "nombre_recovered    15129\n",
    "Name: 37, dtype: int64"
   ]
  },
  {
   "cell_type": "markdown",
   "id": "0cc523c1",
   "metadata": {},
   "source": [
    "nombre_infected      3944\n",
    "nombre_sain           156\n",
    "nombre_exposed        284\n",
    "nombre_recovered    15616\n",
    "Name: 38, dtype: int64"
   ]
  },
  {
   "cell_type": "markdown",
   "id": "3b947ef5",
   "metadata": {},
   "source": [
    "nombre_infected      3549\n",
    "nombre_sain           171\n",
    "nombre_exposed        233\n",
    "nombre_recovered    16047\n",
    "Name: 39, dtype: int64"
   ]
  },
  {
   "cell_type": "markdown",
   "id": "fef8b342",
   "metadata": {},
   "source": [
    "nombre_infected      3230\n",
    "nombre_sain           196\n",
    "nombre_exposed        186\n",
    "nombre_recovered    16388\n",
    "Name: 40, dtype: int64"
   ]
  },
  {
   "cell_type": "markdown",
   "id": "831ef8ba",
   "metadata": {},
   "source": [
    "nombre_infected      2880\n",
    "nombre_sain           213\n",
    "nombre_exposed        153\n",
    "nombre_recovered    16754\n",
    "Name: 41, dtype: int64"
   ]
  },
  {
   "cell_type": "markdown",
   "id": "d92b88a5",
   "metadata": {},
   "source": [
    "nombre_infected      2540\n",
    "nombre_sain           219\n",
    "nombre_exposed        145\n",
    "nombre_recovered    17096\n",
    "Name: 42, dtype: int64"
   ]
  },
  {
   "cell_type": "markdown",
   "id": "9e6e2d4f",
   "metadata": {},
   "source": [
    "nombre_infected      2255\n",
    "nombre_sain           238\n",
    "nombre_exposed        126\n",
    "nombre_recovered    17381\n",
    "Name: 43, dtype: int64"
   ]
  },
  {
   "cell_type": "markdown",
   "id": "ee4f4335",
   "metadata": {},
   "source": [
    "nombre_infected      1997\n",
    "nombre_sain           255\n",
    "nombre_exposed        120\n",
    "nombre_recovered    17628\n",
    "Name: 44, dtype: int64"
   ]
  },
  {
   "cell_type": "markdown",
   "id": "730673a6",
   "metadata": {},
   "source": [
    "nombre_infected      1767\n",
    "nombre_sain           273\n",
    "nombre_exposed        106\n",
    "nombre_recovered    17854\n",
    "Name: 45, dtype: int64"
   ]
  },
  {
   "cell_type": "markdown",
   "id": "1c47fb18",
   "metadata": {},
   "source": [
    "nombre_infected      1574\n",
    "nombre_sain           305\n",
    "nombre_exposed         97\n",
    "nombre_recovered    18024\n",
    "Name: 46, dtype: int64"
   ]
  },
  {
   "cell_type": "markdown",
   "id": "9292ff21",
   "metadata": {},
   "source": [
    "nombre_infected      1372\n",
    "nombre_sain           341\n",
    "nombre_exposed         86\n",
    "nombre_recovered    18201\n",
    "Name: 47, dtype: int64"
   ]
  },
  {
   "cell_type": "markdown",
   "id": "9c51ae01",
   "metadata": {},
   "source": [
    "nombre_infected      1210\n",
    "nombre_sain           372\n",
    "nombre_exposed         87\n",
    "nombre_recovered    18331\n",
    "Name: 48, dtype: int64"
   ]
  },
  {
   "cell_type": "markdown",
   "id": "bcd74ba2",
   "metadata": {},
   "source": [
    "nombre_infected      1052\n",
    "nombre_sain           404\n",
    "nombre_exposed         89\n",
    "nombre_recovered    18455\n",
    "Name: 49, dtype: int64"
   ]
  },
  {
   "cell_type": "markdown",
   "id": "541ff30c",
   "metadata": {},
   "source": [
    "nombre_infected       929\n",
    "nombre_sain           446\n",
    "nombre_exposed         79\n",
    "nombre_recovered    18546\n",
    "Name: 50, dtype: int64"
   ]
  },
  {
   "cell_type": "markdown",
   "id": "8f5b48d0",
   "metadata": {},
   "source": [
    "nombre_infected       828\n",
    "nombre_sain           476\n",
    "nombre_exposed         73\n",
    "nombre_recovered    18623\n",
    "Name: 51, dtype: int64"
   ]
  },
  {
   "cell_type": "markdown",
   "id": "ec4b60e4",
   "metadata": {},
   "source": [
    "nombre_infected       727\n",
    "nombre_sain           510\n",
    "nombre_exposed         77\n",
    "nombre_recovered    18686\n",
    "Name: 52, dtype: int64"
   ]
  },
  {
   "cell_type": "markdown",
   "id": "eb730d27",
   "metadata": {},
   "source": [
    "nombre_infected       663\n",
    "nombre_sain           554\n",
    "nombre_exposed         67\n",
    "nombre_recovered    18716\n",
    "Name: 53, dtype: int64"
   ]
  },
  {
   "cell_type": "markdown",
   "id": "5f8b911f",
   "metadata": {},
   "source": [
    "nombre_infected       589\n",
    "nombre_sain           607\n",
    "nombre_exposed         57\n",
    "nombre_recovered    18747\n",
    "Name: 54, dtype: int64"
   ]
  },
  {
   "cell_type": "markdown",
   "id": "0311e83d",
   "metadata": {},
   "source": [
    "nombre_infected       541\n",
    "nombre_sain           644\n",
    "nombre_exposed         55\n",
    "nombre_recovered    18760\n",
    "Name: 55, dtype: int64"
   ]
  },
  {
   "cell_type": "markdown",
   "id": "7636e818",
   "metadata": {},
   "source": [
    "nombre_infected       480\n",
    "nombre_sain           673\n",
    "nombre_exposed         58\n",
    "nombre_recovered    18789\n",
    "Name: 56, dtype: int64"
   ]
  },
  {
   "cell_type": "markdown",
   "id": "de457c0a",
   "metadata": {},
   "source": [
    "nombre_infected       452\n",
    "nombre_sain           694\n",
    "nombre_exposed         61\n",
    "nombre_recovered    18793\n",
    "Name: 57, dtype: int64"
   ]
  },
  {
   "cell_type": "markdown",
   "id": "de81678d",
   "metadata": {},
   "source": [
    "nombre_infected       419\n",
    "nombre_sain           726\n",
    "nombre_exposed         61\n",
    "nombre_recovered    18794\n",
    "Name: 58, dtype: int64"
   ]
  },
  {
   "cell_type": "markdown",
   "id": "e929d6e2",
   "metadata": {},
   "source": [
    "nombre_infected       393\n",
    "nombre_sain           747\n",
    "nombre_exposed         55\n",
    "nombre_recovered    18805\n",
    "Name: 59, dtype: int64"
   ]
  },
  {
   "cell_type": "markdown",
   "id": "ecb8c8f6",
   "metadata": {},
   "source": [
    "nombre_infected       366\n",
    "nombre_sain           776\n",
    "nombre_exposed         57\n",
    "nombre_recovered    18801\n",
    "Name: 60, dtype: int64"
   ]
  },
  {
   "cell_type": "markdown",
   "id": "10597aeb",
   "metadata": {},
   "source": [
    "nombre_infected       342\n",
    "nombre_sain           803\n",
    "nombre_exposed         59\n",
    "nombre_recovered    18796\n",
    "Name: 61, dtype: int64"
   ]
  },
  {
   "cell_type": "markdown",
   "id": "ad0ff4c6",
   "metadata": {},
   "source": [
    "nombre_infected       333\n",
    "nombre_sain           843\n",
    "nombre_exposed         44\n",
    "nombre_recovered    18780\n",
    "Name: 62, dtype: int64"
   ]
  },
  {
   "cell_type": "markdown",
   "id": "7ee39624",
   "metadata": {},
   "source": [
    "nombre_infected       317\n",
    "nombre_sain           870\n",
    "nombre_exposed         53\n",
    "nombre_recovered    18760\n",
    "Name: 63, dtype: int64"
   ]
  },
  {
   "cell_type": "markdown",
   "id": "26be1c6c",
   "metadata": {},
   "source": [
    "nombre_infected       299\n",
    "nombre_sain           909\n",
    "nombre_exposed         64\n",
    "nombre_recovered    18728\n",
    "Name: 64, dtype: int64"
   ]
  },
  {
   "cell_type": "markdown",
   "id": "25b6929e",
   "metadata": {},
   "source": [
    "nombre_infected       293\n",
    "nombre_sain           944\n",
    "nombre_exposed         56\n",
    "nombre_recovered    18707\n",
    "Name: 65, dtype: int64"
   ]
  },
  {
   "cell_type": "markdown",
   "id": "785c0881",
   "metadata": {},
   "source": [
    "nombre_infected       283\n",
    "nombre_sain          1003\n",
    "nombre_exposed         49\n",
    "nombre_recovered    18665\n",
    "Name: 66, dtype: int64"
   ]
  },
  {
   "cell_type": "markdown",
   "id": "cd8590ce",
   "metadata": {},
   "source": [
    "nombre_infected       270\n",
    "nombre_sain          1029\n",
    "nombre_exposed         64\n",
    "nombre_recovered    18637\n",
    "Name: 67, dtype: int64"
   ]
  },
  {
   "cell_type": "markdown",
   "id": "4827f8c5",
   "metadata": {},
   "source": [
    "nombre_infected       259\n",
    "nombre_sain          1067\n",
    "nombre_exposed         80\n",
    "nombre_recovered    18594\n",
    "Name: 68, dtype: int64"
   ]
  },
  {
   "cell_type": "markdown",
   "id": "ac3f4067",
   "metadata": {},
   "source": [
    "nombre_infected       246\n",
    "nombre_sain          1129\n",
    "nombre_exposed         83\n",
    "nombre_recovered    18542\n",
    "Name: 69, dtype: int64"
   ]
  },
  {
   "cell_type": "markdown",
   "id": "83b19f07",
   "metadata": {},
   "source": [
    "nombre_infected       239\n",
    "nombre_sain          1182\n",
    "nombre_exposed         74\n",
    "nombre_recovered    18505\n",
    "Name: 70, dtype: int64"
   ]
  },
  {
   "cell_type": "markdown",
   "id": "81e55c94",
   "metadata": {},
   "source": [
    "nombre_infected       232\n",
    "nombre_sain          1223\n",
    "nombre_exposed         89\n",
    "nombre_recovered    18456\n",
    "Name: 71, dtype: int64"
   ]
  },
  {
   "cell_type": "markdown",
   "id": "4bac1e3d",
   "metadata": {},
   "source": [
    "nombre_infected       230\n",
    "nombre_sain          1265\n",
    "nombre_exposed         89\n",
    "nombre_recovered    18416\n",
    "Name: 72, dtype: int64"
   ]
  },
  {
   "cell_type": "markdown",
   "id": "5506e388",
   "metadata": {},
   "source": [
    "nombre_infected       223\n",
    "nombre_sain          1317\n",
    "nombre_exposed         95\n",
    "nombre_recovered    18365\n",
    "Name: 73, dtype: int64"
   ]
  },
  {
   "cell_type": "markdown",
   "id": "c4830a09",
   "metadata": {},
   "source": [
    "nombre_infected       218\n",
    "nombre_sain          1360\n",
    "nombre_exposed         87\n",
    "nombre_recovered    18335\n",
    "Name: 74, dtype: int64"
   ]
  },
  {
   "cell_type": "markdown",
   "id": "11c8b2c4",
   "metadata": {},
   "source": [
    "nombre_infected       210\n",
    "nombre_sain          1428\n",
    "nombre_exposed         89\n",
    "nombre_recovered    18273\n",
    "Name: 75, dtype: int64"
   ]
  },
  {
   "cell_type": "markdown",
   "id": "3752c12d",
   "metadata": {},
   "source": [
    "nombre_infected       209\n",
    "nombre_sain          1482\n",
    "nombre_exposed         82\n",
    "nombre_recovered    18227\n",
    "Name: 76, dtype: int64"
   ]
  },
  {
   "cell_type": "markdown",
   "id": "7481e6af",
   "metadata": {},
   "source": [
    "nombre_infected       203\n",
    "nombre_sain          1518\n",
    "nombre_exposed         75\n",
    "nombre_recovered    18204\n",
    "Name: 77, dtype: int64"
   ]
  },
  {
   "cell_type": "markdown",
   "id": "c6bdf239",
   "metadata": {},
   "source": [
    "nombre_infected       194\n",
    "nombre_sain          1558\n",
    "nombre_exposed         76\n",
    "nombre_recovered    18172\n",
    "Name: 78, dtype: int64"
   ]
  },
  {
   "cell_type": "markdown",
   "id": "4233fdaf",
   "metadata": {},
   "source": [
    "nombre_infected       174\n",
    "nombre_sain          1602\n",
    "nombre_exposed         75\n",
    "nombre_recovered    18149\n",
    "Name: 79, dtype: int64"
   ]
  },
  {
   "cell_type": "markdown",
   "id": "e46ea0a4",
   "metadata": {},
   "source": [
    "nombre_infected       161\n",
    "nombre_sain          1647\n",
    "nombre_exposed         75\n",
    "nombre_recovered    18117\n",
    "Name: 80, dtype: int64"
   ]
  },
  {
   "cell_type": "markdown",
   "id": "343a8f26",
   "metadata": {},
   "source": [
    "nombre_infected       159\n",
    "nombre_sain          1690\n",
    "nombre_exposed         68\n",
    "nombre_recovered    18083\n",
    "Name: 81, dtype: int64"
   ]
  },
  {
   "cell_type": "markdown",
   "id": "2b176780",
   "metadata": {},
   "source": [
    "nombre_infected       160\n",
    "nombre_sain          1736\n",
    "nombre_exposed         56\n",
    "nombre_recovered    18048\n",
    "Name: 82, dtype: int64"
   ]
  },
  {
   "cell_type": "markdown",
   "id": "0ab6f02a",
   "metadata": {},
   "source": [
    "nombre_infected       151\n",
    "nombre_sain          1786\n",
    "nombre_exposed         53\n",
    "nombre_recovered    18010\n",
    "Name: 83, dtype: int64"
   ]
  },
  {
   "cell_type": "markdown",
   "id": "3d7e9c58",
   "metadata": {},
   "source": [
    "nombre_infected       140\n",
    "nombre_sain          1834\n",
    "nombre_exposed         61\n",
    "nombre_recovered    17965\n",
    "Name: 84, dtype: int64"
   ]
  },
  {
   "cell_type": "markdown",
   "id": "f1584bab",
   "metadata": {},
   "source": [
    "nombre_infected       136\n",
    "nombre_sain          1882\n",
    "nombre_exposed         52\n",
    "nombre_recovered    17930\n",
    "Name: 85, dtype: int64"
   ]
  },
  {
   "cell_type": "markdown",
   "id": "cbe48b88",
   "metadata": {},
   "source": [
    "nombre_infected       129\n",
    "nombre_sain          1934\n",
    "nombre_exposed         52\n",
    "nombre_recovered    17885\n",
    "Name: 86, dtype: int64"
   ]
  },
  {
   "cell_type": "markdown",
   "id": "636814c2",
   "metadata": {},
   "source": [
    "nombre_infected       119\n",
    "nombre_sain          1980\n",
    "nombre_exposed         53\n",
    "nombre_recovered    17848\n",
    "Name: 87, dtype: int64"
   ]
  },
  {
   "cell_type": "markdown",
   "id": "108fc30a",
   "metadata": {},
   "source": [
    "nombre_infected       114\n",
    "nombre_sain          2030\n",
    "nombre_exposed         58\n",
    "nombre_recovered    17798\n",
    "Name: 88, dtype: int64"
   ]
  },
  {
   "cell_type": "markdown",
   "id": "751d07c9",
   "metadata": {},
   "source": [
    "nombre_infected       107\n",
    "nombre_sain          2081\n",
    "nombre_exposed         62\n",
    "nombre_recovered    17750\n",
    "Name: 89, dtype: int64"
   ]
  },
  {
   "cell_type": "markdown",
   "id": "d7d4a59c",
   "metadata": {},
   "source": [
    "nombre_infected       104\n",
    "nombre_sain          2143\n",
    "nombre_exposed         63\n",
    "nombre_recovered    17690\n",
    "Name: 90, dtype: int64"
   ]
  },
  {
   "cell_type": "markdown",
   "id": "c2ad6462",
   "metadata": {},
   "source": [
    "nombre_infected       104\n",
    "nombre_sain          2181\n",
    "nombre_exposed         64\n",
    "nombre_recovered    17651\n",
    "Name: 91, dtype: int64"
   ]
  },
  {
   "cell_type": "markdown",
   "id": "0a2d06cd",
   "metadata": {},
   "source": [
    "nombre_infected       107\n",
    "nombre_sain          2234\n",
    "nombre_exposed         70\n",
    "nombre_recovered    17589\n",
    "Name: 92, dtype: int64"
   ]
  },
  {
   "cell_type": "markdown",
   "id": "1152866b",
   "metadata": {},
   "source": [
    "nombre_infected       117\n",
    "nombre_sain          2290\n",
    "nombre_exposed         62\n",
    "nombre_recovered    17531\n",
    "Name: 93, dtype: int64"
   ]
  },
  {
   "cell_type": "markdown",
   "id": "c47694f3",
   "metadata": {},
   "source": [
    "nombre_infected       115\n",
    "nombre_sain          2335\n",
    "nombre_exposed         62\n",
    "nombre_recovered    17488\n",
    "Name: 94, dtype: int64"
   ]
  },
  {
   "cell_type": "markdown",
   "id": "42eb3ae4",
   "metadata": {},
   "source": [
    "nombre_infected       108\n",
    "nombre_sain          2392\n",
    "nombre_exposed         61\n",
    "nombre_recovered    17439\n",
    "Name: 95, dtype: int64"
   ]
  },
  {
   "cell_type": "markdown",
   "id": "b06d017b",
   "metadata": {},
   "source": [
    "nombre_infected       122\n",
    "nombre_sain          2445\n",
    "nombre_exposed         59\n",
    "nombre_recovered    17374\n",
    "Name: 96, dtype: int64"
   ]
  },
  {
   "cell_type": "markdown",
   "id": "920af615",
   "metadata": {},
   "source": [
    "nombre_infected       126\n",
    "nombre_sain          2475\n",
    "nombre_exposed         65\n",
    "nombre_recovered    17334\n",
    "Name: 97, dtype: int64"
   ]
  },
  {
   "cell_type": "markdown",
   "id": "f0633741",
   "metadata": {},
   "source": [
    "nombre_infected       119\n",
    "nombre_sain          2522\n",
    "nombre_exposed         68\n",
    "nombre_recovered    17291\n",
    "Name: 98, dtype: int64"
   ]
  },
  {
   "cell_type": "markdown",
   "id": "81e61149",
   "metadata": {},
   "source": [
    "nombre_infected       123\n",
    "nombre_sain          2549\n",
    "nombre_exposed         72\n",
    "nombre_recovered    17256\n",
    "Name: 99, dtype: int64"
   ]
  },
  {
   "cell_type": "markdown",
   "id": "34041f49",
   "metadata": {},
   "source": [
    "nombre_infected       123\n",
    "nombre_sain          2603\n",
    "nombre_exposed         66\n",
    "nombre_recovered    17208\n",
    "Name: 100, dtype: int64"
   ]
  },
  {
   "cell_type": "markdown",
   "id": "b9d3327f",
   "metadata": {},
   "source": [
    "nombre_infected       128\n",
    "nombre_sain          2639\n",
    "nombre_exposed         67\n",
    "nombre_recovered    17166\n",
    "Name: 101, dtype: int64"
   ]
  },
  {
   "cell_type": "markdown",
   "id": "5fc928be",
   "metadata": {},
   "source": [
    "nombre_infected       123\n",
    "nombre_sain          2679\n",
    "nombre_exposed         82\n",
    "nombre_recovered    17116\n",
    "Name: 102, dtype: int64"
   ]
  },
  {
   "cell_type": "markdown",
   "id": "98ca789e",
   "metadata": {},
   "source": [
    "nombre_infected       126\n",
    "nombre_sain          2714\n",
    "nombre_exposed         84\n",
    "nombre_recovered    17076\n",
    "Name: 103, dtype: int64"
   ]
  },
  {
   "cell_type": "markdown",
   "id": "91241e99",
   "metadata": {},
   "source": [
    "nombre_infected       124\n",
    "nombre_sain          2751\n",
    "nombre_exposed         81\n",
    "nombre_recovered    17044\n",
    "Name: 104, dtype: int64"
   ]
  },
  {
   "cell_type": "markdown",
   "id": "d89a6c8f",
   "metadata": {},
   "source": [
    "nombre_infected       123\n",
    "nombre_sain          2797\n",
    "nombre_exposed         91\n",
    "nombre_recovered    16989\n",
    "Name: 105, dtype: int64"
   ]
  },
  {
   "cell_type": "markdown",
   "id": "f5090b62",
   "metadata": {},
   "source": [
    "nombre_infected       127\n",
    "nombre_sain          2842\n",
    "nombre_exposed         92\n",
    "nombre_recovered    16939\n",
    "Name: 106, dtype: int64"
   ]
  },
  {
   "cell_type": "markdown",
   "id": "1c5556ac",
   "metadata": {},
   "source": [
    "nombre_infected       129\n",
    "nombre_sain          2880\n",
    "nombre_exposed         96\n",
    "nombre_recovered    16895\n",
    "Name: 107, dtype: int64"
   ]
  },
  {
   "cell_type": "markdown",
   "id": "99bf7001",
   "metadata": {},
   "source": [
    "nombre_infected       124\n",
    "nombre_sain          2922\n",
    "nombre_exposed        107\n",
    "nombre_recovered    16847\n",
    "Name: 108, dtype: int64"
   ]
  },
  {
   "cell_type": "markdown",
   "id": "e0d61c25",
   "metadata": {},
   "source": [
    "nombre_infected       138\n",
    "nombre_sain          2949\n",
    "nombre_exposed         98\n",
    "nombre_recovered    16815\n",
    "Name: 109, dtype: int64"
   ]
  },
  {
   "cell_type": "markdown",
   "id": "2a75a398",
   "metadata": {},
   "source": [
    "nombre_infected       143\n",
    "nombre_sain          3000\n",
    "nombre_exposed         93\n",
    "nombre_recovered    16764\n",
    "Name: 110, dtype: int64"
   ]
  },
  {
   "cell_type": "markdown",
   "id": "120d69f1",
   "metadata": {},
   "source": [
    "nombre_infected       140\n",
    "nombre_sain          3040\n",
    "nombre_exposed        108\n",
    "nombre_recovered    16712\n",
    "Name: 111, dtype: int64"
   ]
  },
  {
   "cell_type": "markdown",
   "id": "83b803ce",
   "metadata": {},
   "source": [
    "nombre_infected       144\n",
    "nombre_sain          3087\n",
    "nombre_exposed        112\n",
    "nombre_recovered    16657\n",
    "Name: 112, dtype: int64"
   ]
  },
  {
   "cell_type": "markdown",
   "id": "35f41fe9",
   "metadata": {},
   "source": [
    "nombre_infected       151\n",
    "nombre_sain          3126\n",
    "nombre_exposed        107\n",
    "nombre_recovered    16616\n",
    "Name: 113, dtype: int64"
   ]
  },
  {
   "cell_type": "markdown",
   "id": "932e853e",
   "metadata": {},
   "source": [
    "nombre_infected       160\n",
    "nombre_sain          3150\n",
    "nombre_exposed        121\n",
    "nombre_recovered    16569\n",
    "Name: 114, dtype: int64"
   ]
  },
  {
   "cell_type": "markdown",
   "id": "1205000b",
   "metadata": {},
   "source": [
    "nombre_infected       157\n",
    "nombre_sain          3181\n",
    "nombre_exposed        123\n",
    "nombre_recovered    16539\n",
    "Name: 115, dtype: int64"
   ]
  },
  {
   "cell_type": "markdown",
   "id": "4fe14367",
   "metadata": {},
   "source": [
    "nombre_infected       180\n",
    "nombre_sain          3219\n",
    "nombre_exposed        114\n",
    "nombre_recovered    16487\n",
    "Name: 116, dtype: int64"
   ]
  },
  {
   "cell_type": "markdown",
   "id": "fa5e921f",
   "metadata": {},
   "source": [
    "nombre_infected       188\n",
    "nombre_sain          3252\n",
    "nombre_exposed        128\n",
    "nombre_recovered    16432\n",
    "Name: 117, dtype: int64"
   ]
  },
  {
   "cell_type": "markdown",
   "id": "25c50ecf",
   "metadata": {},
   "source": [
    "nombre_infected       197\n",
    "nombre_sain          3275\n",
    "nombre_exposed        143\n",
    "nombre_recovered    16385\n",
    "Name: 118, dtype: int64"
   ]
  },
  {
   "cell_type": "markdown",
   "id": "efa46183",
   "metadata": {},
   "source": [
    "nombre_infected       203\n",
    "nombre_sain          3295\n",
    "nombre_exposed        157\n",
    "nombre_recovered    16345\n",
    "Name: 119, dtype: int64"
   ]
  },
  {
   "cell_type": "markdown",
   "id": "0eb0ecf0",
   "metadata": {},
   "source": [
    "nombre_infected       220\n",
    "nombre_sain          3321\n",
    "nombre_exposed        153\n",
    "nombre_recovered    16306\n",
    "Name: 120, dtype: int64"
   ]
  },
  {
   "cell_type": "markdown",
   "id": "6323e537",
   "metadata": {},
   "source": [
    "nombre_infected       233\n",
    "nombre_sain          3352\n",
    "nombre_exposed        165\n",
    "nombre_recovered    16250\n",
    "Name: 121, dtype: int64"
   ]
  },
  {
   "cell_type": "markdown",
   "id": "c14fe6c7",
   "metadata": {},
   "source": [
    "nombre_infected       253\n",
    "nombre_sain          3352\n",
    "nombre_exposed        177\n",
    "nombre_recovered    16218\n",
    "Name: 122, dtype: int64"
   ]
  },
  {
   "cell_type": "markdown",
   "id": "f1516d6c",
   "metadata": {},
   "source": [
    "nombre_infected       262\n",
    "nombre_sain          3384\n",
    "nombre_exposed        180\n",
    "nombre_recovered    16174\n",
    "Name: 123, dtype: int64"
   ]
  },
  {
   "cell_type": "markdown",
   "id": "ecabd1db",
   "metadata": {},
   "source": [
    "nombre_infected       273\n",
    "nombre_sain          3413\n",
    "nombre_exposed        185\n",
    "nombre_recovered    16129\n",
    "Name: 124, dtype: int64"
   ]
  },
  {
   "cell_type": "markdown",
   "id": "09cf14e9",
   "metadata": {},
   "source": [
    "nombre_infected       290\n",
    "nombre_sain          3431\n",
    "nombre_exposed        183\n",
    "nombre_recovered    16096\n",
    "Name: 125, dtype: int64"
   ]
  },
  {
   "cell_type": "markdown",
   "id": "87ba4fd0",
   "metadata": {},
   "source": [
    "nombre_infected       303\n",
    "nombre_sain          3428\n",
    "nombre_exposed        205\n",
    "nombre_recovered    16064\n",
    "Name: 126, dtype: int64"
   ]
  },
  {
   "cell_type": "markdown",
   "id": "7c2d6e46",
   "metadata": {},
   "source": [
    "nombre_infected       321\n",
    "nombre_sain          3433\n",
    "nombre_exposed        218\n",
    "nombre_recovered    16028\n",
    "Name: 127, dtype: int64"
   ]
  },
  {
   "cell_type": "markdown",
   "id": "99f08de7",
   "metadata": {},
   "source": [
    "nombre_infected       327\n",
    "nombre_sain          3420\n",
    "nombre_exposed        240\n",
    "nombre_recovered    16013\n",
    "Name: 128, dtype: int64"
   ]
  },
  {
   "cell_type": "markdown",
   "id": "bbd42449",
   "metadata": {},
   "source": [
    "nombre_infected       341\n",
    "nombre_sain          3408\n",
    "nombre_exposed        268\n",
    "nombre_recovered    15983\n",
    "Name: 129, dtype: int64"
   ]
  },
  {
   "cell_type": "markdown",
   "id": "ecbf95a8",
   "metadata": {},
   "source": [
    "nombre_infected       367\n",
    "nombre_sain          3369\n",
    "nombre_exposed        286\n",
    "nombre_recovered    15978\n",
    "Name: 130, dtype: int64"
   ]
  },
  {
   "cell_type": "markdown",
   "id": "bebc59c5",
   "metadata": {},
   "source": [
    "nombre_infected       386\n",
    "nombre_sain          3322\n",
    "nombre_exposed        313\n",
    "nombre_recovered    15979\n",
    "Name: 131, dtype: int64"
   ]
  },
  {
   "cell_type": "markdown",
   "id": "179de27b",
   "metadata": {},
   "source": [
    "nombre_infected       413\n",
    "nombre_sain          3311\n",
    "nombre_exposed        321\n",
    "nombre_recovered    15955\n",
    "Name: 132, dtype: int64"
   ]
  },
  {
   "cell_type": "markdown",
   "id": "66ba4204",
   "metadata": {},
   "source": [
    "nombre_infected       463\n",
    "nombre_sain          3268\n",
    "nombre_exposed        328\n",
    "nombre_recovered    15941\n",
    "Name: 133, dtype: int64"
   ]
  },
  {
   "cell_type": "markdown",
   "id": "7aeb353f",
   "metadata": {},
   "source": [
    "nombre_infected       486\n",
    "nombre_sain          3222\n",
    "nombre_exposed        341\n",
    "nombre_recovered    15951\n",
    "Name: 134, dtype: int64"
   ]
  },
  {
   "cell_type": "markdown",
   "id": "20dd98ff",
   "metadata": {},
   "source": [
    "nombre_infected       500\n",
    "nombre_sain          3167\n",
    "nombre_exposed        365\n",
    "nombre_recovered    15968\n",
    "Name: 135, dtype: int64"
   ]
  },
  {
   "cell_type": "markdown",
   "id": "91e25861",
   "metadata": {},
   "source": [
    "nombre_infected       524\n",
    "nombre_sain          3107\n",
    "nombre_exposed        385\n",
    "nombre_recovered    15984\n",
    "Name: 136, dtype: int64"
   ]
  },
  {
   "cell_type": "markdown",
   "id": "70e821e1",
   "metadata": {},
   "source": [
    "nombre_infected       550\n",
    "nombre_sain          3053\n",
    "nombre_exposed        397\n",
    "nombre_recovered    16000\n",
    "Name: 137, dtype: int64"
   ]
  },
  {
   "cell_type": "markdown",
   "id": "0bc71410",
   "metadata": {},
   "source": [
    "nombre_infected       595\n",
    "nombre_sain          2984\n",
    "nombre_exposed        389\n",
    "nombre_recovered    16032\n",
    "Name: 138, dtype: int64"
   ]
  },
  {
   "cell_type": "markdown",
   "id": "ed84c2c9",
   "metadata": {},
   "source": [
    "nombre_infected       628\n",
    "nombre_sain          2904\n",
    "nombre_exposed        422\n",
    "nombre_recovered    16046\n",
    "Name: 139, dtype: int64"
   ]
  },
  {
   "cell_type": "markdown",
   "id": "0b9a2583",
   "metadata": {},
   "source": [
    "nombre_infected       675\n",
    "nombre_sain          2841\n",
    "nombre_exposed        422\n",
    "nombre_recovered    16062\n",
    "Name: 140, dtype: int64"
   ]
  },
  {
   "cell_type": "markdown",
   "id": "081aede7",
   "metadata": {},
   "source": [
    "nombre_infected       715\n",
    "nombre_sain          2766\n",
    "nombre_exposed        417\n",
    "nombre_recovered    16102\n",
    "Name: 141, dtype: int64"
   ]
  },
  {
   "cell_type": "markdown",
   "id": "aa4464d4",
   "metadata": {},
   "source": [
    "nombre_infected       722\n",
    "nombre_sain          2705\n",
    "nombre_exposed        436\n",
    "nombre_recovered    16137\n",
    "Name: 142, dtype: int64"
   ]
  },
  {
   "cell_type": "markdown",
   "id": "6e16d8d4",
   "metadata": {},
   "source": [
    "nombre_infected       746\n",
    "nombre_sain          2650\n",
    "nombre_exposed        437\n",
    "nombre_recovered    16167\n",
    "Name: 143, dtype: int64"
   ]
  },
  {
   "cell_type": "markdown",
   "id": "63c83362",
   "metadata": {},
   "source": [
    "nombre_infected       763\n",
    "nombre_sain          2575\n",
    "nombre_exposed        458\n",
    "nombre_recovered    16204\n",
    "Name: 144, dtype: int64"
   ]
  },
  {
   "cell_type": "markdown",
   "id": "2dd1b555",
   "metadata": {},
   "source": [
    "nombre_infected       775\n",
    "nombre_sain          2528\n",
    "nombre_exposed        477\n",
    "nombre_recovered    16220\n",
    "Name: 145, dtype: int64"
   ]
  },
  {
   "cell_type": "markdown",
   "id": "572723d1",
   "metadata": {},
   "source": [
    "nombre_infected       809\n",
    "nombre_sain          2470\n",
    "nombre_exposed        478\n",
    "nombre_recovered    16243\n",
    "Name: 146, dtype: int64"
   ]
  },
  {
   "cell_type": "markdown",
   "id": "b8d0c656",
   "metadata": {},
   "source": [
    "nombre_infected       850\n",
    "nombre_sain          2437\n",
    "nombre_exposed        460\n",
    "nombre_recovered    16253\n",
    "Name: 147, dtype: int64"
   ]
  },
  {
   "cell_type": "markdown",
   "id": "76df74f4",
   "metadata": {},
   "source": [
    "nombre_infected       867\n",
    "nombre_sain          2390\n",
    "nombre_exposed        469\n",
    "nombre_recovered    16274\n",
    "Name: 148, dtype: int64"
   ]
  },
  {
   "cell_type": "markdown",
   "id": "1f41025e",
   "metadata": {},
   "source": [
    "nombre_infected       907\n",
    "nombre_sain          2333\n",
    "nombre_exposed        469\n",
    "nombre_recovered    16291\n",
    "Name: 149, dtype: int64"
   ]
  },
  {
   "cell_type": "markdown",
   "id": "7d398dc1",
   "metadata": {},
   "source": [
    "nombre_infected       935\n",
    "nombre_sain          2290\n",
    "nombre_exposed        481\n",
    "nombre_recovered    16294\n",
    "Name: 150, dtype: int64"
   ]
  },
  {
   "cell_type": "markdown",
   "id": "c5c080ba",
   "metadata": {},
   "source": [
    "nombre_infected       934\n",
    "nombre_sain          2267\n",
    "nombre_exposed        491\n",
    "nombre_recovered    16308\n",
    "Name: 151, dtype: int64"
   ]
  },
  {
   "cell_type": "markdown",
   "id": "3ac7099d",
   "metadata": {},
   "source": [
    "nombre_infected       934\n",
    "nombre_sain          2239\n",
    "nombre_exposed        493\n",
    "nombre_recovered    16334\n",
    "Name: 152, dtype: int64"
   ]
  },
  {
   "cell_type": "markdown",
   "id": "c9ce2df6",
   "metadata": {},
   "source": [
    "nombre_infected       939\n",
    "nombre_sain          2186\n",
    "nombre_exposed        519\n",
    "nombre_recovered    16356\n",
    "Name: 153, dtype: int64"
   ]
  },
  {
   "cell_type": "markdown",
   "id": "42a039bb",
   "metadata": {},
   "source": [
    "nombre_infected       969\n",
    "nombre_sain          2136\n",
    "nombre_exposed        505\n",
    "nombre_recovered    16390\n",
    "Name: 154, dtype: int64"
   ]
  },
  {
   "cell_type": "markdown",
   "id": "74250567",
   "metadata": {},
   "source": [
    "nombre_infected       981\n",
    "nombre_sain          2107\n",
    "nombre_exposed        502\n",
    "nombre_recovered    16410\n",
    "Name: 155, dtype: int64"
   ]
  },
  {
   "cell_type": "markdown",
   "id": "d218d8a5",
   "metadata": {},
   "source": [
    "nombre_infected       986\n",
    "nombre_sain          2089\n",
    "nombre_exposed        493\n",
    "nombre_recovered    16432\n",
    "Name: 156, dtype: int64"
   ]
  },
  {
   "cell_type": "markdown",
   "id": "3d1b57e7",
   "metadata": {},
   "source": [
    "nombre_infected       997\n",
    "nombre_sain          2061\n",
    "nombre_exposed        486\n",
    "nombre_recovered    16456\n",
    "Name: 157, dtype: int64"
   ]
  },
  {
   "cell_type": "markdown",
   "id": "44d61d06",
   "metadata": {},
   "source": [
    "nombre_infected      1020\n",
    "nombre_sain          2046\n",
    "nombre_exposed        468\n",
    "nombre_recovered    16466\n",
    "Name: 158, dtype: int64"
   ]
  },
  {
   "cell_type": "markdown",
   "id": "a38d2fcb",
   "metadata": {},
   "source": [
    "nombre_infected      1032\n",
    "nombre_sain          2043\n",
    "nombre_exposed        446\n",
    "nombre_recovered    16479\n",
    "Name: 159, dtype: int64"
   ]
  },
  {
   "cell_type": "markdown",
   "id": "00a81c98",
   "metadata": {},
   "source": [
    "nombre_infected      1051\n",
    "nombre_sain          1996\n",
    "nombre_exposed        447\n",
    "nombre_recovered    16506\n",
    "Name: 160, dtype: int64"
   ]
  },
  {
   "cell_type": "markdown",
   "id": "8b98bd96",
   "metadata": {},
   "source": [
    "nombre_infected      1051\n",
    "nombre_sain          1976\n",
    "nombre_exposed        451\n",
    "nombre_recovered    16522\n",
    "Name: 161, dtype: int64"
   ]
  },
  {
   "cell_type": "markdown",
   "id": "d9a2c2a8",
   "metadata": {},
   "source": [
    "nombre_infected      1048\n",
    "nombre_sain          1950\n",
    "nombre_exposed        444\n",
    "nombre_recovered    16558\n",
    "Name: 162, dtype: int64"
   ]
  },
  {
   "cell_type": "markdown",
   "id": "d657465b",
   "metadata": {},
   "source": [
    "nombre_infected      1057\n",
    "nombre_sain          1944\n",
    "nombre_exposed        433\n",
    "nombre_recovered    16566\n",
    "Name: 163, dtype: int64"
   ]
  },
  {
   "cell_type": "markdown",
   "id": "1679d24d",
   "metadata": {},
   "source": [
    "nombre_infected      1040\n",
    "nombre_sain          1947\n",
    "nombre_exposed        447\n",
    "nombre_recovered    16566\n",
    "Name: 164, dtype: int64"
   ]
  },
  {
   "cell_type": "markdown",
   "id": "643b477b",
   "metadata": {},
   "source": [
    "nombre_infected      1038\n",
    "nombre_sain          1909\n",
    "nombre_exposed        460\n",
    "nombre_recovered    16593\n",
    "Name: 165, dtype: int64"
   ]
  },
  {
   "cell_type": "markdown",
   "id": "f1960e5c",
   "metadata": {},
   "source": [
    "nombre_infected      1036\n",
    "nombre_sain          1889\n",
    "nombre_exposed        461\n",
    "nombre_recovered    16614\n",
    "Name: 166, dtype: int64"
   ]
  },
  {
   "cell_type": "markdown",
   "id": "ca07e57b",
   "metadata": {},
   "source": [
    "nombre_infected      1045\n",
    "nombre_sain          1841\n",
    "nombre_exposed        482\n",
    "nombre_recovered    16632\n",
    "Name: 167, dtype: int64"
   ]
  },
  {
   "cell_type": "markdown",
   "id": "8e440866",
   "metadata": {},
   "source": [
    "nombre_infected      1057\n",
    "nombre_sain          1822\n",
    "nombre_exposed        440\n",
    "nombre_recovered    16681\n",
    "Name: 168, dtype: int64"
   ]
  },
  {
   "cell_type": "markdown",
   "id": "9a681361",
   "metadata": {},
   "source": [
    "nombre_infected      1069\n",
    "nombre_sain          1798\n",
    "nombre_exposed        436\n",
    "nombre_recovered    16697\n",
    "Name: 169, dtype: int64"
   ]
  },
  {
   "cell_type": "markdown",
   "id": "8af922f4",
   "metadata": {},
   "source": [
    "nombre_infected      1052\n",
    "nombre_sain          1766\n",
    "nombre_exposed        449\n",
    "nombre_recovered    16733\n",
    "Name: 170, dtype: int64"
   ]
  },
  {
   "cell_type": "markdown",
   "id": "0d356b0a",
   "metadata": {},
   "source": [
    "nombre_infected      1040\n",
    "nombre_sain          1791\n",
    "nombre_exposed        425\n",
    "nombre_recovered    16744\n",
    "Name: 171, dtype: int64"
   ]
  },
  {
   "cell_type": "markdown",
   "id": "456d7127",
   "metadata": {},
   "source": [
    "nombre_infected      1057\n",
    "nombre_sain          1774\n",
    "nombre_exposed        411\n",
    "nombre_recovered    16758\n",
    "Name: 172, dtype: int64"
   ]
  },
  {
   "cell_type": "markdown",
   "id": "13b4f449",
   "metadata": {},
   "source": [
    "nombre_infected      1028\n",
    "nombre_sain          1740\n",
    "nombre_exposed        440\n",
    "nombre_recovered    16792\n",
    "Name: 173, dtype: int64"
   ]
  },
  {
   "cell_type": "markdown",
   "id": "e31f61c2",
   "metadata": {},
   "source": [
    "nombre_infected      1019\n",
    "nombre_sain          1745\n",
    "nombre_exposed        433\n",
    "nombre_recovered    16803\n",
    "Name: 174, dtype: int64"
   ]
  },
  {
   "cell_type": "markdown",
   "id": "903755a3",
   "metadata": {},
   "source": [
    "nombre_infected      1010\n",
    "nombre_sain          1742\n",
    "nombre_exposed        425\n",
    "nombre_recovered    16823\n",
    "Name: 175, dtype: int64"
   ]
  },
  {
   "cell_type": "markdown",
   "id": "4f84259e",
   "metadata": {},
   "source": [
    "nombre_infected       981\n",
    "nombre_sain          1755\n",
    "nombre_exposed        415\n",
    "nombre_recovered    16849\n",
    "Name: 176, dtype: int64"
   ]
  },
  {
   "cell_type": "markdown",
   "id": "441a3234",
   "metadata": {},
   "source": [
    "nombre_infected       960\n",
    "nombre_sain          1752\n",
    "nombre_exposed        422\n",
    "nombre_recovered    16866\n",
    "Name: 177, dtype: int64"
   ]
  },
  {
   "cell_type": "markdown",
   "id": "ed19a607",
   "metadata": {},
   "source": [
    "nombre_infected       988\n",
    "nombre_sain          1776\n",
    "nombre_exposed        380\n",
    "nombre_recovered    16856\n",
    "Name: 178, dtype: int64"
   ]
  },
  {
   "cell_type": "markdown",
   "id": "ba26c897",
   "metadata": {},
   "source": [
    "nombre_infected       966\n",
    "nombre_sain          1765\n",
    "nombre_exposed        393\n",
    "nombre_recovered    16876\n",
    "Name: 179, dtype: int64"
   ]
  },
  {
   "cell_type": "markdown",
   "id": "ad94f018",
   "metadata": {},
   "source": [
    "nombre_infected       965\n",
    "nombre_sain          1780\n",
    "nombre_exposed        377\n",
    "nombre_recovered    16878\n",
    "Name: 180, dtype: int64"
   ]
  },
  {
   "cell_type": "markdown",
   "id": "843dedeb",
   "metadata": {},
   "source": [
    "nombre_infected       921\n",
    "nombre_sain          1761\n",
    "nombre_exposed        386\n",
    "nombre_recovered    16932\n",
    "Name: 181, dtype: int64"
   ]
  },
  {
   "cell_type": "markdown",
   "id": "4c32fe44",
   "metadata": {},
   "source": [
    "nombre_infected       893\n",
    "nombre_sain          1756\n",
    "nombre_exposed        390\n",
    "nombre_recovered    16961\n",
    "Name: 182, dtype: int64"
   ]
  },
  {
   "cell_type": "markdown",
   "id": "d3722f3d",
   "metadata": {},
   "source": [
    "nombre_infected       869\n",
    "nombre_sain          1744\n",
    "nombre_exposed        369\n",
    "nombre_recovered    17018\n",
    "Name: 183, dtype: int64"
   ]
  },
  {
   "cell_type": "markdown",
   "id": "48d932d1",
   "metadata": {},
   "source": [
    "nombre_infected       852\n",
    "nombre_sain          1748\n",
    "nombre_exposed        353\n",
    "nombre_recovered    17047\n",
    "Name: 184, dtype: int64"
   ]
  },
  {
   "cell_type": "markdown",
   "id": "b01bf559",
   "metadata": {},
   "source": [
    "nombre_infected       839\n",
    "nombre_sain          1740\n",
    "nombre_exposed        366\n",
    "nombre_recovered    17055\n",
    "Name: 185, dtype: int64"
   ]
  },
  {
   "cell_type": "markdown",
   "id": "1657c49e",
   "metadata": {},
   "source": [
    "nombre_infected       834\n",
    "nombre_sain          1721\n",
    "nombre_exposed        372\n",
    "nombre_recovered    17073\n",
    "Name: 186, dtype: int64"
   ]
  },
  {
   "cell_type": "markdown",
   "id": "ba53a2e9",
   "metadata": {},
   "source": [
    "nombre_infected       829\n",
    "nombre_sain          1730\n",
    "nombre_exposed        361\n",
    "nombre_recovered    17080\n",
    "Name: 187, dtype: int64"
   ]
  },
  {
   "cell_type": "markdown",
   "id": "b810710c",
   "metadata": {},
   "source": [
    "nombre_infected       824\n",
    "nombre_sain          1735\n",
    "nombre_exposed        354\n",
    "nombre_recovered    17087\n",
    "Name: 188, dtype: int64"
   ]
  },
  {
   "cell_type": "markdown",
   "id": "44fdc56c",
   "metadata": {},
   "source": [
    "nombre_infected       792\n",
    "nombre_sain          1738\n",
    "nombre_exposed        360\n",
    "nombre_recovered    17110\n",
    "Name: 189, dtype: int64"
   ]
  },
  {
   "cell_type": "markdown",
   "id": "82919237",
   "metadata": {},
   "source": [
    "nombre_infected       807\n",
    "nombre_sain          1731\n",
    "nombre_exposed        325\n",
    "nombre_recovered    17137\n",
    "Name: 190, dtype: int64"
   ]
  },
  {
   "cell_type": "markdown",
   "id": "6b350e21",
   "metadata": {},
   "source": [
    "nombre_infected       794\n",
    "nombre_sain          1746\n",
    "nombre_exposed        306\n",
    "nombre_recovered    17154\n",
    "Name: 191, dtype: int64"
   ]
  },
  {
   "cell_type": "markdown",
   "id": "56060ef9",
   "metadata": {},
   "source": [
    "nombre_infected       764\n",
    "nombre_sain          1782\n",
    "nombre_exposed        300\n",
    "nombre_recovered    17154\n",
    "Name: 192, dtype: int64"
   ]
  },
  {
   "cell_type": "markdown",
   "id": "a42580b0",
   "metadata": {},
   "source": [
    "nombre_infected       741\n",
    "nombre_sain          1815\n",
    "nombre_exposed        296\n",
    "nombre_recovered    17148\n",
    "Name: 193, dtype: int64"
   ]
  },
  {
   "cell_type": "markdown",
   "id": "280cdb61",
   "metadata": {},
   "source": [
    "nombre_infected       728\n",
    "nombre_sain          1824\n",
    "nombre_exposed        294\n",
    "nombre_recovered    17154\n",
    "Name: 194, dtype: int64"
   ]
  },
  {
   "cell_type": "markdown",
   "id": "a7471f1f",
   "metadata": {},
   "source": [
    "nombre_infected       716\n",
    "nombre_sain          1862\n",
    "nombre_exposed        274\n",
    "nombre_recovered    17148\n",
    "Name: 195, dtype: int64"
   ]
  },
  {
   "cell_type": "markdown",
   "id": "905b5437",
   "metadata": {},
   "source": [
    "nombre_infected       708\n",
    "nombre_sain          1894\n",
    "nombre_exposed        261\n",
    "nombre_recovered    17137\n",
    "Name: 196, dtype: int64"
   ]
  },
  {
   "cell_type": "markdown",
   "id": "2c81fc72",
   "metadata": {},
   "source": [
    "nombre_infected       701\n",
    "nombre_sain          1901\n",
    "nombre_exposed        276\n",
    "nombre_recovered    17122\n",
    "Name: 197, dtype: int64"
   ]
  },
  {
   "cell_type": "markdown",
   "id": "6b43e6ac",
   "metadata": {},
   "source": [
    "nombre_infected       674\n",
    "nombre_sain          1909\n",
    "nombre_exposed        292\n",
    "nombre_recovered    17125\n",
    "Name: 198, dtype: int64"
   ]
  },
  {
   "cell_type": "markdown",
   "id": "b904ca66",
   "metadata": {},
   "source": [
    "nombre_infected       672\n",
    "nombre_sain          1950\n",
    "nombre_exposed        271\n",
    "nombre_recovered    17107\n",
    "Name: 199, dtype: int64"
   ]
  },
  {
   "cell_type": "markdown",
   "id": "b1ebcf10",
   "metadata": {},
   "source": [
    "nombre_infected       657\n",
    "nombre_sain          1983\n",
    "nombre_exposed        276\n",
    "nombre_recovered    17084\n",
    "Name: 200, dtype: int64"
   ]
  },
  {
   "cell_type": "markdown",
   "id": "2e1e1e4d",
   "metadata": {},
   "source": [
    "nombre_infected       641\n",
    "nombre_sain          1989\n",
    "nombre_exposed        289\n",
    "nombre_recovered    17081\n",
    "Name: 201, dtype: int64"
   ]
  },
  {
   "cell_type": "markdown",
   "id": "d5309a16",
   "metadata": {},
   "source": [
    "nombre_infected       629\n",
    "nombre_sain          2006\n",
    "nombre_exposed        300\n",
    "nombre_recovered    17065\n",
    "Name: 202, dtype: int64"
   ]
  },
  {
   "cell_type": "markdown",
   "id": "311b3d34",
   "metadata": {},
   "source": [
    "nombre_infected       619\n",
    "nombre_sain          2014\n",
    "nombre_exposed        312\n",
    "nombre_recovered    17055\n",
    "Name: 203, dtype: int64"
   ]
  },
  {
   "cell_type": "markdown",
   "id": "7ff78319",
   "metadata": {},
   "source": [
    "nombre_infected       607\n",
    "nombre_sain          2038\n",
    "nombre_exposed        310\n",
    "nombre_recovered    17045\n",
    "Name: 204, dtype: int64"
   ]
  },
  {
   "cell_type": "markdown",
   "id": "63ff245e",
   "metadata": {},
   "source": [
    "nombre_infected       595\n",
    "nombre_sain          2068\n",
    "nombre_exposed        310\n",
    "nombre_recovered    17027\n",
    "Name: 205, dtype: int64"
   ]
  },
  {
   "cell_type": "markdown",
   "id": "8ad2c692",
   "metadata": {},
   "source": [
    "nombre_infected       581\n",
    "nombre_sain          2073\n",
    "nombre_exposed        307\n",
    "nombre_recovered    17039\n",
    "Name: 206, dtype: int64"
   ]
  },
  {
   "cell_type": "markdown",
   "id": "181d712a",
   "metadata": {},
   "source": [
    "nombre_infected       588\n",
    "nombre_sain          2102\n",
    "nombre_exposed        291\n",
    "nombre_recovered    17019\n",
    "Name: 207, dtype: int64"
   ]
  },
  {
   "cell_type": "markdown",
   "id": "b8b06d69",
   "metadata": {},
   "source": [
    "nombre_infected       582\n",
    "nombre_sain          2123\n",
    "nombre_exposed        302\n",
    "nombre_recovered    16993\n",
    "Name: 208, dtype: int64"
   ]
  },
  {
   "cell_type": "markdown",
   "id": "31918c53",
   "metadata": {},
   "source": [
    "nombre_infected       584\n",
    "nombre_sain          2118\n",
    "nombre_exposed        312\n",
    "nombre_recovered    16986\n",
    "Name: 209, dtype: int64"
   ]
  },
  {
   "cell_type": "markdown",
   "id": "347c1642",
   "metadata": {},
   "source": [
    "nombre_infected       586\n",
    "nombre_sain          2139\n",
    "nombre_exposed        313\n",
    "nombre_recovered    16962\n",
    "Name: 210, dtype: int64"
   ]
  },
  {
   "cell_type": "markdown",
   "id": "124211ce",
   "metadata": {},
   "source": [
    "nombre_infected       585\n",
    "nombre_sain          2164\n",
    "nombre_exposed        327\n",
    "nombre_recovered    16924\n",
    "Name: 211, dtype: int64"
   ]
  },
  {
   "cell_type": "markdown",
   "id": "d9d03408",
   "metadata": {},
   "source": [
    "nombre_infected       577\n",
    "nombre_sain          2192\n",
    "nombre_exposed        314\n",
    "nombre_recovered    16917\n",
    "Name: 212, dtype: int64"
   ]
  },
  {
   "cell_type": "markdown",
   "id": "b22bc135",
   "metadata": {},
   "source": [
    "nombre_infected       577\n",
    "nombre_sain          2206\n",
    "nombre_exposed        316\n",
    "nombre_recovered    16901\n",
    "Name: 213, dtype: int64"
   ]
  },
  {
   "cell_type": "markdown",
   "id": "d0c51ed0",
   "metadata": {},
   "source": [
    "nombre_infected       578\n",
    "nombre_sain          2224\n",
    "nombre_exposed        319\n",
    "nombre_recovered    16879\n",
    "Name: 214, dtype: int64"
   ]
  },
  {
   "cell_type": "markdown",
   "id": "82c127d7",
   "metadata": {},
   "source": [
    "nombre_infected       591\n",
    "nombre_sain          2233\n",
    "nombre_exposed        314\n",
    "nombre_recovered    16862\n",
    "Name: 215, dtype: int64"
   ]
  },
  {
   "cell_type": "markdown",
   "id": "baf1d97e",
   "metadata": {},
   "source": [
    "nombre_infected       590\n",
    "nombre_sain          2250\n",
    "nombre_exposed        304\n",
    "nombre_recovered    16856\n",
    "Name: 216, dtype: int64"
   ]
  },
  {
   "cell_type": "markdown",
   "id": "89236d96",
   "metadata": {},
   "source": [
    "nombre_infected       592\n",
    "nombre_sain          2242\n",
    "nombre_exposed        314\n",
    "nombre_recovered    16852\n",
    "Name: 217, dtype: int64"
   ]
  },
  {
   "cell_type": "markdown",
   "id": "5ef8d13b",
   "metadata": {},
   "source": [
    "nombre_infected       595\n",
    "nombre_sain          2258\n",
    "nombre_exposed        320\n",
    "nombre_recovered    16827\n",
    "Name: 218, dtype: int64"
   ]
  },
  {
   "cell_type": "markdown",
   "id": "b7e4dad4",
   "metadata": {},
   "source": [
    "nombre_infected       614\n",
    "nombre_sain          2306\n",
    "nombre_exposed        297\n",
    "nombre_recovered    16783\n",
    "Name: 219, dtype: int64"
   ]
  },
  {
   "cell_type": "markdown",
   "id": "b2566fc8",
   "metadata": {},
   "source": [
    "nombre_infected       602\n",
    "nombre_sain          2296\n",
    "nombre_exposed        303\n",
    "nombre_recovered    16799\n",
    "Name: 220, dtype: int64"
   ]
  },
  {
   "cell_type": "markdown",
   "id": "14d7a841",
   "metadata": {},
   "source": [
    "nombre_infected       582\n",
    "nombre_sain          2309\n",
    "nombre_exposed        311\n",
    "nombre_recovered    16798\n",
    "Name: 221, dtype: int64"
   ]
  },
  {
   "cell_type": "markdown",
   "id": "4ebc48a7",
   "metadata": {},
   "source": [
    "nombre_infected       577\n",
    "nombre_sain          2338\n",
    "nombre_exposed        318\n",
    "nombre_recovered    16767\n",
    "Name: 222, dtype: int64"
   ]
  },
  {
   "cell_type": "markdown",
   "id": "91037edb",
   "metadata": {},
   "source": [
    "nombre_infected       566\n",
    "nombre_sain          2332\n",
    "nombre_exposed        339\n",
    "nombre_recovered    16763\n",
    "Name: 223, dtype: int64"
   ]
  },
  {
   "cell_type": "markdown",
   "id": "bd07e3f4",
   "metadata": {},
   "source": [
    "nombre_infected       591\n",
    "nombre_sain          2352\n",
    "nombre_exposed        341\n",
    "nombre_recovered    16716\n",
    "Name: 224, dtype: int64"
   ]
  },
  {
   "cell_type": "markdown",
   "id": "7a965709",
   "metadata": {},
   "source": [
    "nombre_infected       580\n",
    "nombre_sain          2368\n",
    "nombre_exposed        349\n",
    "nombre_recovered    16703\n",
    "Name: 225, dtype: int64"
   ]
  },
  {
   "cell_type": "markdown",
   "id": "e9d1c9c3",
   "metadata": {},
   "source": [
    "nombre_infected       574\n",
    "nombre_sain          2378\n",
    "nombre_exposed        355\n",
    "nombre_recovered    16693\n",
    "Name: 226, dtype: int64"
   ]
  },
  {
   "cell_type": "markdown",
   "id": "9b70ad48",
   "metadata": {},
   "source": [
    "nombre_infected       593\n",
    "nombre_sain          2372\n",
    "nombre_exposed        365\n",
    "nombre_recovered    16670\n",
    "Name: 227, dtype: int64"
   ]
  },
  {
   "cell_type": "markdown",
   "id": "45e8cee5",
   "metadata": {},
   "source": [
    "nombre_infected       601\n",
    "nombre_sain          2396\n",
    "nombre_exposed        358\n",
    "nombre_recovered    16645\n",
    "Name: 228, dtype: int64"
   ]
  },
  {
   "cell_type": "markdown",
   "id": "5df07cc5",
   "metadata": {},
   "source": [
    "nombre_infected       604\n",
    "nombre_sain          2409\n",
    "nombre_exposed        358\n",
    "nombre_recovered    16629\n",
    "Name: 229, dtype: int64"
   ]
  },
  {
   "cell_type": "markdown",
   "id": "5a4e76ad",
   "metadata": {},
   "source": [
    "nombre_infected       616\n",
    "nombre_sain          2427\n",
    "nombre_exposed        345\n",
    "nombre_recovered    16612\n",
    "Name: 230, dtype: int64"
   ]
  },
  {
   "cell_type": "markdown",
   "id": "72f0363a",
   "metadata": {},
   "source": [
    "nombre_infected       619\n",
    "nombre_sain          2445\n",
    "nombre_exposed        329\n",
    "nombre_recovered    16607\n",
    "Name: 231, dtype: int64"
   ]
  },
  {
   "cell_type": "markdown",
   "id": "32e3cd79",
   "metadata": {},
   "source": [
    "nombre_infected       622\n",
    "nombre_sain          2463\n",
    "nombre_exposed        311\n",
    "nombre_recovered    16604\n",
    "Name: 232, dtype: int64"
   ]
  },
  {
   "cell_type": "markdown",
   "id": "99c02e31",
   "metadata": {},
   "source": [
    "nombre_infected       607\n",
    "nombre_sain          2487\n",
    "nombre_exposed        339\n",
    "nombre_recovered    16567\n",
    "Name: 233, dtype: int64"
   ]
  },
  {
   "cell_type": "markdown",
   "id": "695ba883",
   "metadata": {},
   "source": [
    "nombre_infected       585\n",
    "nombre_sain          2497\n",
    "nombre_exposed        355\n",
    "nombre_recovered    16563\n",
    "Name: 234, dtype: int64"
   ]
  },
  {
   "cell_type": "markdown",
   "id": "8f54c6f3",
   "metadata": {},
   "source": [
    "nombre_infected       583\n",
    "nombre_sain          2521\n",
    "nombre_exposed        359\n",
    "nombre_recovered    16537\n",
    "Name: 235, dtype: int64"
   ]
  },
  {
   "cell_type": "markdown",
   "id": "4539fcf2",
   "metadata": {},
   "source": [
    "nombre_infected       586\n",
    "nombre_sain          2535\n",
    "nombre_exposed        367\n",
    "nombre_recovered    16512\n",
    "Name: 236, dtype: int64"
   ]
  },
  {
   "cell_type": "markdown",
   "id": "2040b7cc",
   "metadata": {},
   "source": [
    "nombre_infected       600\n",
    "nombre_sain          2554\n",
    "nombre_exposed        358\n",
    "nombre_recovered    16488\n",
    "Name: 237, dtype: int64"
   ]
  },
  {
   "cell_type": "markdown",
   "id": "80a7aef7",
   "metadata": {},
   "source": [
    "nombre_infected       601\n",
    "nombre_sain          2593\n",
    "nombre_exposed        353\n",
    "nombre_recovered    16453\n",
    "Name: 238, dtype: int64"
   ]
  },
  {
   "cell_type": "markdown",
   "id": "6d7e73d1",
   "metadata": {},
   "source": [
    "nombre_infected       608\n",
    "nombre_sain          2635\n",
    "nombre_exposed        339\n",
    "nombre_recovered    16418\n",
    "Name: 239, dtype: int64"
   ]
  },
  {
   "cell_type": "markdown",
   "id": "b3ef7908",
   "metadata": {},
   "source": [
    "nombre_infected       596\n",
    "nombre_sain          2653\n",
    "nombre_exposed        361\n",
    "nombre_recovered    16390\n",
    "Name: 240, dtype: int64"
   ]
  },
  {
   "cell_type": "markdown",
   "id": "3acc2a56",
   "metadata": {},
   "source": [
    "nombre_infected       592\n",
    "nombre_sain          2648\n",
    "nombre_exposed        396\n",
    "nombre_recovered    16364\n",
    "Name: 241, dtype: int64"
   ]
  },
  {
   "cell_type": "markdown",
   "id": "27794939",
   "metadata": {},
   "source": [
    "nombre_infected       606\n",
    "nombre_sain          2663\n",
    "nombre_exposed        400\n",
    "nombre_recovered    16331\n",
    "Name: 242, dtype: int64"
   ]
  },
  {
   "cell_type": "markdown",
   "id": "1d9b5710",
   "metadata": {},
   "source": [
    "nombre_infected       595\n",
    "nombre_sain          2671\n",
    "nombre_exposed        411\n",
    "nombre_recovered    16323\n",
    "Name: 243, dtype: int64"
   ]
  },
  {
   "cell_type": "markdown",
   "id": "3ee8aa28",
   "metadata": {},
   "source": [
    "nombre_infected       616\n",
    "nombre_sain          2700\n",
    "nombre_exposed        395\n",
    "nombre_recovered    16289\n",
    "Name: 244, dtype: int64"
   ]
  },
  {
   "cell_type": "markdown",
   "id": "13f6719f",
   "metadata": {},
   "source": [
    "nombre_infected       639\n",
    "nombre_sain          2697\n",
    "nombre_exposed        400\n",
    "nombre_recovered    16264\n",
    "Name: 245, dtype: int64"
   ]
  },
  {
   "cell_type": "markdown",
   "id": "c7915c8b",
   "metadata": {},
   "source": [
    "nombre_infected       619\n",
    "nombre_sain          2692\n",
    "nombre_exposed        423\n",
    "nombre_recovered    16266\n",
    "Name: 246, dtype: int64"
   ]
  },
  {
   "cell_type": "markdown",
   "id": "096bd811",
   "metadata": {},
   "source": [
    "nombre_infected       635\n",
    "nombre_sain          2700\n",
    "nombre_exposed        413\n",
    "nombre_recovered    16252\n",
    "Name: 247, dtype: int64"
   ]
  },
  {
   "cell_type": "markdown",
   "id": "d9e190d9",
   "metadata": {},
   "source": [
    "nombre_infected       648\n",
    "nombre_sain          2678\n",
    "nombre_exposed        426\n",
    "nombre_recovered    16248\n",
    "Name: 248, dtype: int64"
   ]
  },
  {
   "cell_type": "markdown",
   "id": "1e4bd9e2",
   "metadata": {},
   "source": [
    "nombre_infected       649\n",
    "nombre_sain          2704\n",
    "nombre_exposed        423\n",
    "nombre_recovered    16224\n",
    "Name: 249, dtype: int64"
   ]
  },
  {
   "cell_type": "markdown",
   "id": "f2491500",
   "metadata": {},
   "source": [
    "nombre_infected       682\n",
    "nombre_sain          2712\n",
    "nombre_exposed        407\n",
    "nombre_recovered    16199\n",
    "Name: 250, dtype: int64"
   ]
  },
  {
   "cell_type": "markdown",
   "id": "5a684f9d",
   "metadata": {},
   "source": [
    "nombre_infected       718\n",
    "nombre_sain          2701\n",
    "nombre_exposed        422\n",
    "nombre_recovered    16159\n",
    "Name: 251, dtype: int64"
   ]
  },
  {
   "cell_type": "markdown",
   "id": "f321c509",
   "metadata": {},
   "source": [
    "nombre_infected       723\n",
    "nombre_sain          2707\n",
    "nombre_exposed        429\n",
    "nombre_recovered    16141\n",
    "Name: 252, dtype: int64"
   ]
  },
  {
   "cell_type": "markdown",
   "id": "01c15fe7",
   "metadata": {},
   "source": [
    "nombre_infected       725\n",
    "nombre_sain          2683\n",
    "nombre_exposed        451\n",
    "nombre_recovered    16141\n",
    "Name: 253, dtype: int64"
   ]
  },
  {
   "cell_type": "markdown",
   "id": "f1af2851",
   "metadata": {},
   "source": [
    "nombre_infected       720\n",
    "nombre_sain          2653\n",
    "nombre_exposed        484\n",
    "nombre_recovered    16143\n",
    "Name: 254, dtype: int64"
   ]
  },
  {
   "cell_type": "markdown",
   "id": "f3989998",
   "metadata": {},
   "source": [
    "nombre_infected       713\n",
    "nombre_sain          2630\n",
    "nombre_exposed        502\n",
    "nombre_recovered    16155\n",
    "Name: 255, dtype: int64"
   ]
  },
  {
   "cell_type": "markdown",
   "id": "fac00fe1",
   "metadata": {},
   "source": [
    "nombre_infected       738\n",
    "nombre_sain          2610\n",
    "nombre_exposed        505\n",
    "nombre_recovered    16147\n",
    "Name: 256, dtype: int64"
   ]
  },
  {
   "cell_type": "markdown",
   "id": "c5fe99f1",
   "metadata": {},
   "source": [
    "nombre_infected       772\n",
    "nombre_sain          2638\n",
    "nombre_exposed        475\n",
    "nombre_recovered    16115\n",
    "Name: 257, dtype: int64"
   ]
  },
  {
   "cell_type": "markdown",
   "id": "45888e71",
   "metadata": {},
   "source": [
    "nombre_infected       770\n",
    "nombre_sain          2661\n",
    "nombre_exposed        461\n",
    "nombre_recovered    16108\n",
    "Name: 258, dtype: int64"
   ]
  },
  {
   "cell_type": "markdown",
   "id": "adb30231",
   "metadata": {},
   "source": [
    "nombre_infected       780\n",
    "nombre_sain          2652\n",
    "nombre_exposed        479\n",
    "nombre_recovered    16089\n",
    "Name: 259, dtype: int64"
   ]
  },
  {
   "cell_type": "markdown",
   "id": "7f9ef555",
   "metadata": {},
   "source": [
    "nombre_infected       794\n",
    "nombre_sain          2647\n",
    "nombre_exposed        477\n",
    "nombre_recovered    16082\n",
    "Name: 260, dtype: int64"
   ]
  },
  {
   "cell_type": "markdown",
   "id": "ed749e56",
   "metadata": {},
   "source": [
    "nombre_infected       812\n",
    "nombre_sain          2592\n",
    "nombre_exposed        495\n",
    "nombre_recovered    16101\n",
    "Name: 261, dtype: int64"
   ]
  },
  {
   "cell_type": "markdown",
   "id": "1d65e9e8",
   "metadata": {},
   "source": [
    "nombre_infected       822\n",
    "nombre_sain          2600\n",
    "nombre_exposed        485\n",
    "nombre_recovered    16093\n",
    "Name: 262, dtype: int64"
   ]
  },
  {
   "cell_type": "markdown",
   "id": "c3294b85",
   "metadata": {},
   "source": [
    "nombre_infected       844\n",
    "nombre_sain          2547\n",
    "nombre_exposed        511\n",
    "nombre_recovered    16098\n",
    "Name: 263, dtype: int64"
   ]
  },
  {
   "cell_type": "markdown",
   "id": "73ce4d35",
   "metadata": {},
   "source": [
    "nombre_infected       860\n",
    "nombre_sain          2507\n",
    "nombre_exposed        520\n",
    "nombre_recovered    16113\n",
    "Name: 264, dtype: int64"
   ]
  },
  {
   "cell_type": "markdown",
   "id": "b1ae8626",
   "metadata": {},
   "source": [
    "nombre_infected       870\n",
    "nombre_sain          2489\n",
    "nombre_exposed        518\n",
    "nombre_recovered    16123\n",
    "Name: 265, dtype: int64"
   ]
  },
  {
   "cell_type": "markdown",
   "id": "c178cf2e",
   "metadata": {},
   "source": [
    "nombre_infected       898\n",
    "nombre_sain          2450\n",
    "nombre_exposed        525\n",
    "nombre_recovered    16127\n",
    "Name: 266, dtype: int64"
   ]
  },
  {
   "cell_type": "markdown",
   "id": "0167a82e",
   "metadata": {},
   "source": [
    "nombre_infected       923\n",
    "nombre_sain          2450\n",
    "nombre_exposed        519\n",
    "nombre_recovered    16108\n",
    "Name: 267, dtype: int64"
   ]
  },
  {
   "cell_type": "markdown",
   "id": "28df48bd",
   "metadata": {},
   "source": [
    "nombre_infected       943\n",
    "nombre_sain          2428\n",
    "nombre_exposed        513\n",
    "nombre_recovered    16116\n",
    "Name: 268, dtype: int64"
   ]
  },
  {
   "cell_type": "markdown",
   "id": "2f46b234",
   "metadata": {},
   "source": [
    "nombre_infected       941\n",
    "nombre_sain          2393\n",
    "nombre_exposed        523\n",
    "nombre_recovered    16143\n",
    "Name: 269, dtype: int64"
   ]
  },
  {
   "cell_type": "markdown",
   "id": "41517947",
   "metadata": {},
   "source": [
    "nombre_infected       946\n",
    "nombre_sain          2386\n",
    "nombre_exposed        536\n",
    "nombre_recovered    16132\n",
    "Name: 270, dtype: int64"
   ]
  },
  {
   "cell_type": "markdown",
   "id": "91665bd9",
   "metadata": {},
   "source": [
    "nombre_infected       968\n",
    "nombre_sain          2350\n",
    "nombre_exposed        529\n",
    "nombre_recovered    16153\n",
    "Name: 271, dtype: int64"
   ]
  },
  {
   "cell_type": "markdown",
   "id": "c2c32136",
   "metadata": {},
   "source": [
    "nombre_infected       991\n",
    "nombre_sain          2298\n",
    "nombre_exposed        541\n",
    "nombre_recovered    16170\n",
    "Name: 272, dtype: int64"
   ]
  },
  {
   "cell_type": "markdown",
   "id": "4ab3f292",
   "metadata": {},
   "source": [
    "nombre_infected      1028\n",
    "nombre_sain          2278\n",
    "nombre_exposed        537\n",
    "nombre_recovered    16157\n",
    "Name: 273, dtype: int64"
   ]
  },
  {
   "cell_type": "markdown",
   "id": "c3bcab9e",
   "metadata": {},
   "source": [
    "nombre_infected      1044\n",
    "nombre_sain          2224\n",
    "nombre_exposed        528\n",
    "nombre_recovered    16204\n",
    "Name: 274, dtype: int64"
   ]
  },
  {
   "cell_type": "markdown",
   "id": "10cfe7d1",
   "metadata": {},
   "source": [
    "nombre_infected      1048\n",
    "nombre_sain          2197\n",
    "nombre_exposed        517\n",
    "nombre_recovered    16238\n",
    "Name: 275, dtype: int64"
   ]
  },
  {
   "cell_type": "markdown",
   "id": "cf257e7c",
   "metadata": {},
   "source": [
    "nombre_infected      1055\n",
    "nombre_sain          2180\n",
    "nombre_exposed        524\n",
    "nombre_recovered    16241\n",
    "Name: 276, dtype: int64"
   ]
  },
  {
   "cell_type": "markdown",
   "id": "7074521b",
   "metadata": {},
   "source": [
    "nombre_infected      1081\n",
    "nombre_sain          2150\n",
    "nombre_exposed        514\n",
    "nombre_recovered    16255\n",
    "Name: 277, dtype: int64"
   ]
  },
  {
   "cell_type": "markdown",
   "id": "28612518",
   "metadata": {},
   "source": [
    "nombre_infected      1091\n",
    "nombre_sain          2122\n",
    "nombre_exposed        524\n",
    "nombre_recovered    16263\n",
    "Name: 278, dtype: int64"
   ]
  },
  {
   "cell_type": "markdown",
   "id": "747737ac",
   "metadata": {},
   "source": [
    "nombre_infected      1074\n",
    "nombre_sain          2096\n",
    "nombre_exposed        516\n",
    "nombre_recovered    16314\n",
    "Name: 279, dtype: int64"
   ]
  },
  {
   "cell_type": "markdown",
   "id": "1597a15e",
   "metadata": {},
   "source": [
    "nombre_infected      1072\n",
    "nombre_sain          2032\n",
    "nombre_exposed        530\n",
    "nombre_recovered    16366\n",
    "Name: 280, dtype: int64"
   ]
  },
  {
   "cell_type": "markdown",
   "id": "53291ae3",
   "metadata": {},
   "source": [
    "nombre_infected      1083\n",
    "nombre_sain          1998\n",
    "nombre_exposed        517\n",
    "nombre_recovered    16402\n",
    "Name: 281, dtype: int64"
   ]
  },
  {
   "cell_type": "markdown",
   "id": "de3dfb49",
   "metadata": {},
   "source": [
    "nombre_infected      1086\n",
    "nombre_sain          1944\n",
    "nombre_exposed        534\n",
    "nombre_recovered    16436\n",
    "Name: 282, dtype: int64"
   ]
  },
  {
   "cell_type": "markdown",
   "id": "c1f711bf",
   "metadata": {},
   "source": [
    "nombre_infected      1100\n",
    "nombre_sain          1930\n",
    "nombre_exposed        530\n",
    "nombre_recovered    16440\n",
    "Name: 283, dtype: int64"
   ]
  },
  {
   "cell_type": "markdown",
   "id": "c8e27c8b",
   "metadata": {},
   "source": [
    "nombre_infected      1108\n",
    "nombre_sain          1902\n",
    "nombre_exposed        521\n",
    "nombre_recovered    16469\n",
    "Name: 284, dtype: int64"
   ]
  },
  {
   "cell_type": "markdown",
   "id": "78996f6b",
   "metadata": {},
   "source": [
    "nombre_infected      1104\n",
    "nombre_sain          1862\n",
    "nombre_exposed        531\n",
    "nombre_recovered    16503\n",
    "Name: 285, dtype: int64"
   ]
  },
  {
   "cell_type": "markdown",
   "id": "ad3e8772",
   "metadata": {},
   "source": [
    "nombre_infected      1094\n",
    "nombre_sain          1843\n",
    "nombre_exposed        521\n",
    "nombre_recovered    16542\n",
    "Name: 286, dtype: int64"
   ]
  },
  {
   "cell_type": "markdown",
   "id": "1173c7ff",
   "metadata": {},
   "source": [
    "nombre_infected      1094\n",
    "nombre_sain          1829\n",
    "nombre_exposed        515\n",
    "nombre_recovered    16562\n",
    "Name: 287, dtype: int64"
   ]
  },
  {
   "cell_type": "markdown",
   "id": "5d6ab1e0",
   "metadata": {},
   "source": [
    "nombre_infected      1083\n",
    "nombre_sain          1810\n",
    "nombre_exposed        512\n",
    "nombre_recovered    16595\n",
    "Name: 288, dtype: int64"
   ]
  },
  {
   "cell_type": "markdown",
   "id": "d1f052ac",
   "metadata": {},
   "source": [
    "nombre_infected      1107\n",
    "nombre_sain          1774\n",
    "nombre_exposed        516\n",
    "nombre_recovered    16603\n",
    "Name: 289, dtype: int64"
   ]
  },
  {
   "cell_type": "markdown",
   "id": "fb04da83",
   "metadata": {},
   "source": [
    "nombre_infected      1097\n",
    "nombre_sain          1788\n",
    "nombre_exposed        485\n",
    "nombre_recovered    16630\n",
    "Name: 290, dtype: int64"
   ]
  },
  {
   "cell_type": "markdown",
   "id": "6b60e076",
   "metadata": {},
   "source": [
    "nombre_infected      1087\n",
    "nombre_sain          1767\n",
    "nombre_exposed        490\n",
    "nombre_recovered    16656\n",
    "Name: 291, dtype: int64"
   ]
  },
  {
   "cell_type": "markdown",
   "id": "f42c834e",
   "metadata": {},
   "source": [
    "nombre_infected      1097\n",
    "nombre_sain          1771\n",
    "nombre_exposed        486\n",
    "nombre_recovered    16646\n",
    "Name: 292, dtype: int64"
   ]
  },
  {
   "cell_type": "markdown",
   "id": "b88f82de",
   "metadata": {},
   "source": [
    "nombre_infected      1115\n",
    "nombre_sain          1794\n",
    "nombre_exposed        457\n",
    "nombre_recovered    16634\n",
    "Name: 293, dtype: int64"
   ]
  },
  {
   "cell_type": "markdown",
   "id": "5a5749b8",
   "metadata": {},
   "source": [
    "nombre_infected      1117\n",
    "nombre_sain          1780\n",
    "nombre_exposed        457\n",
    "nombre_recovered    16646\n",
    "Name: 294, dtype: int64"
   ]
  },
  {
   "cell_type": "markdown",
   "id": "208756fc",
   "metadata": {},
   "source": [
    "nombre_infected      1134\n",
    "nombre_sain          1787\n",
    "nombre_exposed        449\n",
    "nombre_recovered    16630\n",
    "Name: 295, dtype: int64"
   ]
  },
  {
   "cell_type": "markdown",
   "id": "2c977f89",
   "metadata": {},
   "source": [
    "nombre_infected      1140\n",
    "nombre_sain          1770\n",
    "nombre_exposed        461\n",
    "nombre_recovered    16629\n",
    "Name: 296, dtype: int64"
   ]
  },
  {
   "cell_type": "markdown",
   "id": "b2b3dcbb",
   "metadata": {},
   "source": [
    "nombre_infected      1116\n",
    "nombre_sain          1752\n",
    "nombre_exposed        474\n",
    "nombre_recovered    16658\n",
    "Name: 297, dtype: int64"
   ]
  },
  {
   "cell_type": "markdown",
   "id": "c1daa281",
   "metadata": {},
   "source": [
    "nombre_infected      1094\n",
    "nombre_sain          1740\n",
    "nombre_exposed        467\n",
    "nombre_recovered    16699\n",
    "Name: 298, dtype: int64"
   ]
  },
  {
   "cell_type": "markdown",
   "id": "bda7a5c6",
   "metadata": {},
   "source": [
    "nombre_infected      1084\n",
    "nombre_sain          1732\n",
    "nombre_exposed        449\n",
    "nombre_recovered    16735\n",
    "Name: 299, dtype: int64"
   ]
  },
  {
   "cell_type": "markdown",
   "id": "730f11f0",
   "metadata": {},
   "source": [
    "nombre_infected      1078\n",
    "nombre_sain          1715\n",
    "nombre_exposed        432\n",
    "nombre_recovered    16775\n",
    "Name: 300, dtype: int64"
   ]
  },
  {
   "cell_type": "markdown",
   "id": "a26627b4",
   "metadata": {},
   "source": [
    "nombre_infected      1052\n",
    "nombre_sain          1721\n",
    "nombre_exposed        426\n",
    "nombre_recovered    16801\n",
    "Name: 301, dtype: int64"
   ]
  },
  {
   "cell_type": "markdown",
   "id": "d71dcbcc",
   "metadata": {},
   "source": [
    "nombre_infected      1038\n",
    "nombre_sain          1699\n",
    "nombre_exposed        428\n",
    "nombre_recovered    16835\n",
    "Name: 302, dtype: int64"
   ]
  },
  {
   "cell_type": "markdown",
   "id": "79d2f054",
   "metadata": {},
   "source": [
    "nombre_infected      1046\n",
    "nombre_sain          1700\n",
    "nombre_exposed        425\n",
    "nombre_recovered    16829\n",
    "Name: 303, dtype: int64"
   ]
  },
  {
   "cell_type": "markdown",
   "id": "49663a17",
   "metadata": {},
   "source": [
    "nombre_infected      1032\n",
    "nombre_sain          1708\n",
    "nombre_exposed        429\n",
    "nombre_recovered    16831\n",
    "Name: 304, dtype: int64"
   ]
  },
  {
   "cell_type": "markdown",
   "id": "7463722b",
   "metadata": {},
   "source": [
    "nombre_infected      1010\n",
    "nombre_sain          1721\n",
    "nombre_exposed        421\n",
    "nombre_recovered    16848\n",
    "Name: 305, dtype: int64"
   ]
  },
  {
   "cell_type": "markdown",
   "id": "b536ab22",
   "metadata": {},
   "source": [
    "nombre_infected       997\n",
    "nombre_sain          1714\n",
    "nombre_exposed        424\n",
    "nombre_recovered    16865\n",
    "Name: 306, dtype: int64"
   ]
  },
  {
   "cell_type": "markdown",
   "id": "ff09fef3",
   "metadata": {},
   "source": [
    "nombre_infected       973\n",
    "nombre_sain          1698\n",
    "nombre_exposed        431\n",
    "nombre_recovered    16898\n",
    "Name: 307, dtype: int64"
   ]
  },
  {
   "cell_type": "markdown",
   "id": "3c7d7bb7",
   "metadata": {},
   "source": [
    "nombre_infected       941\n",
    "nombre_sain          1696\n",
    "nombre_exposed        455\n",
    "nombre_recovered    16908\n",
    "Name: 308, dtype: int64"
   ]
  },
  {
   "cell_type": "markdown",
   "id": "bb352cd6",
   "metadata": {},
   "source": [
    "nombre_infected       939\n",
    "nombre_sain          1698\n",
    "nombre_exposed        436\n",
    "nombre_recovered    16927\n",
    "Name: 309, dtype: int64"
   ]
  },
  {
   "cell_type": "markdown",
   "id": "ad93b98d",
   "metadata": {},
   "source": [
    "nombre_infected       955\n",
    "nombre_sain          1730\n",
    "nombre_exposed        394\n",
    "nombre_recovered    16921\n",
    "Name: 310, dtype: int64"
   ]
  },
  {
   "cell_type": "markdown",
   "id": "10199dd2",
   "metadata": {},
   "source": [
    "nombre_infected       963\n",
    "nombre_sain          1727\n",
    "nombre_exposed        389\n",
    "nombre_recovered    16921\n",
    "Name: 311, dtype: int64"
   ]
  },
  {
   "cell_type": "markdown",
   "id": "09d64fdd",
   "metadata": {},
   "source": [
    "nombre_infected       930\n",
    "nombre_sain          1746\n",
    "nombre_exposed        392\n",
    "nombre_recovered    16932\n",
    "Name: 312, dtype: int64"
   ]
  },
  {
   "cell_type": "markdown",
   "id": "80054038",
   "metadata": {},
   "source": [
    "nombre_infected       946\n",
    "nombre_sain          1767\n",
    "nombre_exposed        373\n",
    "nombre_recovered    16914\n",
    "Name: 313, dtype: int64"
   ]
  },
  {
   "cell_type": "markdown",
   "id": "1ea05b20",
   "metadata": {},
   "source": [
    "nombre_infected       922\n",
    "nombre_sain          1764\n",
    "nombre_exposed        388\n",
    "nombre_recovered    16926\n",
    "Name: 314, dtype: int64"
   ]
  },
  {
   "cell_type": "markdown",
   "id": "9e79a409",
   "metadata": {},
   "source": [
    "nombre_infected       904\n",
    "nombre_sain          1781\n",
    "nombre_exposed        393\n",
    "nombre_recovered    16922\n",
    "Name: 315, dtype: int64"
   ]
  },
  {
   "cell_type": "markdown",
   "id": "f1031a0c",
   "metadata": {},
   "source": [
    "nombre_infected       886\n",
    "nombre_sain          1792\n",
    "nombre_exposed        383\n",
    "nombre_recovered    16939\n",
    "Name: 316, dtype: int64"
   ]
  },
  {
   "cell_type": "markdown",
   "id": "1e17dd36",
   "metadata": {},
   "source": [
    "nombre_infected       883\n",
    "nombre_sain          1815\n",
    "nombre_exposed        370\n",
    "nombre_recovered    16932\n",
    "Name: 317, dtype: int64"
   ]
  },
  {
   "cell_type": "markdown",
   "id": "5c367a83",
   "metadata": {},
   "source": [
    "nombre_infected       869\n",
    "nombre_sain          1837\n",
    "nombre_exposed        366\n",
    "nombre_recovered    16928\n",
    "Name: 318, dtype: int64"
   ]
  },
  {
   "cell_type": "markdown",
   "id": "fbeadef6",
   "metadata": {},
   "source": [
    "nombre_infected       865\n",
    "nombre_sain          1847\n",
    "nombre_exposed        356\n",
    "nombre_recovered    16932\n",
    "Name: 319, dtype: int64"
   ]
  },
  {
   "cell_type": "markdown",
   "id": "02ba45ac",
   "metadata": {},
   "source": [
    "nombre_infected       840\n",
    "nombre_sain          1864\n",
    "nombre_exposed        385\n",
    "nombre_recovered    16911\n",
    "Name: 320, dtype: int64"
   ]
  },
  {
   "cell_type": "markdown",
   "id": "4fe77789",
   "metadata": {},
   "source": [
    "nombre_infected       832\n",
    "nombre_sain          1892\n",
    "nombre_exposed        377\n",
    "nombre_recovered    16899\n",
    "Name: 321, dtype: int64"
   ]
  },
  {
   "cell_type": "markdown",
   "id": "2daa5b40",
   "metadata": {},
   "source": [
    "nombre_infected       828\n",
    "nombre_sain          1909\n",
    "nombre_exposed        365\n",
    "nombre_recovered    16898\n",
    "Name: 322, dtype: int64"
   ]
  },
  {
   "cell_type": "markdown",
   "id": "d673e872",
   "metadata": {},
   "source": [
    "nombre_infected       823\n",
    "nombre_sain          1917\n",
    "nombre_exposed        373\n",
    "nombre_recovered    16887\n",
    "Name: 323, dtype: int64"
   ]
  },
  {
   "cell_type": "markdown",
   "id": "c0feb848",
   "metadata": {},
   "source": [
    "nombre_infected       822\n",
    "nombre_sain          1923\n",
    "nombre_exposed        359\n",
    "nombre_recovered    16896\n",
    "Name: 324, dtype: int64"
   ]
  },
  {
   "cell_type": "markdown",
   "id": "a18de5de",
   "metadata": {},
   "source": [
    "nombre_infected       795\n",
    "nombre_sain          1941\n",
    "nombre_exposed        355\n",
    "nombre_recovered    16909\n",
    "Name: 325, dtype: int64"
   ]
  },
  {
   "cell_type": "markdown",
   "id": "171ef374",
   "metadata": {},
   "source": [
    "nombre_infected       808\n",
    "nombre_sain          1939\n",
    "nombre_exposed        340\n",
    "nombre_recovered    16913\n",
    "Name: 326, dtype: int64"
   ]
  },
  {
   "cell_type": "markdown",
   "id": "5beaa13a",
   "metadata": {},
   "source": [
    "nombre_infected       782\n",
    "nombre_sain          1976\n",
    "nombre_exposed        333\n",
    "nombre_recovered    16909\n",
    "Name: 327, dtype: int64"
   ]
  },
  {
   "cell_type": "markdown",
   "id": "868ccdd6",
   "metadata": {},
   "source": [
    "nombre_infected       767\n",
    "nombre_sain          2035\n",
    "nombre_exposed        329\n",
    "nombre_recovered    16869\n",
    "Name: 328, dtype: int64"
   ]
  },
  {
   "cell_type": "markdown",
   "id": "38d0ab47",
   "metadata": {},
   "source": [
    "nombre_infected       775\n",
    "nombre_sain          2040\n",
    "nombre_exposed        340\n",
    "nombre_recovered    16845\n",
    "Name: 329, dtype: int64"
   ]
  },
  {
   "cell_type": "markdown",
   "id": "b43ec51d",
   "metadata": {},
   "source": [
    "nombre_infected       774\n",
    "nombre_sain          2075\n",
    "nombre_exposed        335\n",
    "nombre_recovered    16816\n",
    "Name: 330, dtype: int64"
   ]
  },
  {
   "cell_type": "markdown",
   "id": "7de47001",
   "metadata": {},
   "source": [
    "nombre_infected       775\n",
    "nombre_sain          2095\n",
    "nombre_exposed        340\n",
    "nombre_recovered    16790\n",
    "Name: 331, dtype: int64"
   ]
  },
  {
   "cell_type": "markdown",
   "id": "70664d62",
   "metadata": {},
   "source": [
    "nombre_infected       751\n",
    "nombre_sain          2108\n",
    "nombre_exposed        327\n",
    "nombre_recovered    16814\n",
    "Name: 332, dtype: int64"
   ]
  },
  {
   "cell_type": "markdown",
   "id": "9b529d2b",
   "metadata": {},
   "source": [
    "nombre_infected       744\n",
    "nombre_sain          2131\n",
    "nombre_exposed        335\n",
    "nombre_recovered    16790\n",
    "Name: 333, dtype: int64"
   ]
  },
  {
   "cell_type": "markdown",
   "id": "0eb31f62",
   "metadata": {},
   "source": [
    "nombre_infected       730\n",
    "nombre_sain          2134\n",
    "nombre_exposed        362\n",
    "nombre_recovered    16774\n",
    "Name: 334, dtype: int64"
   ]
  },
  {
   "cell_type": "markdown",
   "id": "ae5b54ee",
   "metadata": {},
   "source": [
    "nombre_infected       735\n",
    "nombre_sain          2149\n",
    "nombre_exposed        372\n",
    "nombre_recovered    16744\n",
    "Name: 335, dtype: int64"
   ]
  },
  {
   "cell_type": "markdown",
   "id": "73c05b87",
   "metadata": {},
   "source": [
    "nombre_infected       745\n",
    "nombre_sain          2165\n",
    "nombre_exposed        369\n",
    "nombre_recovered    16721\n",
    "Name: 336, dtype: int64"
   ]
  },
  {
   "cell_type": "markdown",
   "id": "d0f62634",
   "metadata": {},
   "source": [
    "nombre_infected       747\n",
    "nombre_sain          2176\n",
    "nombre_exposed        382\n",
    "nombre_recovered    16695\n",
    "Name: 337, dtype: int64"
   ]
  },
  {
   "cell_type": "markdown",
   "id": "623e0f76",
   "metadata": {},
   "source": [
    "nombre_infected       753\n",
    "nombre_sain          2185\n",
    "nombre_exposed        369\n",
    "nombre_recovered    16693\n",
    "Name: 338, dtype: int64"
   ]
  },
  {
   "cell_type": "markdown",
   "id": "781aa54a",
   "metadata": {},
   "source": [
    "nombre_infected       767\n",
    "nombre_sain          2198\n",
    "nombre_exposed        381\n",
    "nombre_recovered    16654\n",
    "Name: 339, dtype: int64"
   ]
  },
  {
   "cell_type": "markdown",
   "id": "f9b0f437",
   "metadata": {},
   "source": [
    "nombre_infected       749\n",
    "nombre_sain          2208\n",
    "nombre_exposed        380\n",
    "nombre_recovered    16663\n",
    "Name: 340, dtype: int64"
   ]
  },
  {
   "cell_type": "markdown",
   "id": "b145b9c2",
   "metadata": {},
   "source": [
    "nombre_infected       760\n",
    "nombre_sain          2198\n",
    "nombre_exposed        393\n",
    "nombre_recovered    16649\n",
    "Name: 341, dtype: int64"
   ]
  },
  {
   "cell_type": "markdown",
   "id": "018327f8",
   "metadata": {},
   "source": [
    "nombre_infected       776\n",
    "nombre_sain          2198\n",
    "nombre_exposed        389\n",
    "nombre_recovered    16637\n",
    "Name: 342, dtype: int64"
   ]
  },
  {
   "cell_type": "markdown",
   "id": "40d12ba3",
   "metadata": {},
   "source": [
    "nombre_infected       785\n",
    "nombre_sain          2206\n",
    "nombre_exposed        386\n",
    "nombre_recovered    16623\n",
    "Name: 343, dtype: int64"
   ]
  },
  {
   "cell_type": "markdown",
   "id": "ff9bfb59",
   "metadata": {},
   "source": [
    "nombre_infected       818\n",
    "nombre_sain          2193\n",
    "nombre_exposed        363\n",
    "nombre_recovered    16626\n",
    "Name: 344, dtype: int64"
   ]
  },
  {
   "cell_type": "markdown",
   "id": "d9b20597",
   "metadata": {},
   "source": [
    "nombre_infected       808\n",
    "nombre_sain          2188\n",
    "nombre_exposed        360\n",
    "nombre_recovered    16644\n",
    "Name: 345, dtype: int64"
   ]
  },
  {
   "cell_type": "markdown",
   "id": "a8dd316d",
   "metadata": {},
   "source": [
    "nombre_infected       806\n",
    "nombre_sain          2207\n",
    "nombre_exposed        354\n",
    "nombre_recovered    16633\n",
    "Name: 346, dtype: int64"
   ]
  },
  {
   "cell_type": "markdown",
   "id": "0fe02d48",
   "metadata": {},
   "source": [
    "nombre_infected       799\n",
    "nombre_sain          2191\n",
    "nombre_exposed        372\n",
    "nombre_recovered    16638\n",
    "Name: 347, dtype: int64"
   ]
  },
  {
   "cell_type": "markdown",
   "id": "60dd2471",
   "metadata": {},
   "source": [
    "nombre_infected       769\n",
    "nombre_sain          2194\n",
    "nombre_exposed        384\n",
    "nombre_recovered    16653\n",
    "Name: 348, dtype: int64"
   ]
  },
  {
   "cell_type": "markdown",
   "id": "60fc8cf4",
   "metadata": {},
   "source": [
    "nombre_infected       765\n",
    "nombre_sain          2183\n",
    "nombre_exposed        402\n",
    "nombre_recovered    16650\n",
    "Name: 349, dtype: int64"
   ]
  },
  {
   "cell_type": "markdown",
   "id": "dd913cd3",
   "metadata": {},
   "source": [
    "nombre_infected       779\n",
    "nombre_sain          2166\n",
    "nombre_exposed        422\n",
    "nombre_recovered    16633\n",
    "Name: 350, dtype: int64"
   ]
  },
  {
   "cell_type": "markdown",
   "id": "5241ed40",
   "metadata": {},
   "source": [
    "nombre_infected       777\n",
    "nombre_sain          2176\n",
    "nombre_exposed        422\n",
    "nombre_recovered    16625\n",
    "Name: 351, dtype: int64"
   ]
  },
  {
   "cell_type": "markdown",
   "id": "f3133e44",
   "metadata": {},
   "source": [
    "nombre_infected       799\n",
    "nombre_sain          2189\n",
    "nombre_exposed        409\n",
    "nombre_recovered    16603\n",
    "Name: 352, dtype: int64"
   ]
  },
  {
   "cell_type": "markdown",
   "id": "ed63bf5e",
   "metadata": {},
   "source": [
    "nombre_infected       803\n",
    "nombre_sain          2203\n",
    "nombre_exposed        395\n",
    "nombre_recovered    16599\n",
    "Name: 353, dtype: int64"
   ]
  },
  {
   "cell_type": "markdown",
   "id": "23d1a1ec",
   "metadata": {},
   "source": [
    "nombre_infected       797\n",
    "nombre_sain          2208\n",
    "nombre_exposed        403\n",
    "nombre_recovered    16592\n",
    "Name: 354, dtype: int64"
   ]
  },
  {
   "cell_type": "markdown",
   "id": "a1acd61b",
   "metadata": {},
   "source": [
    "nombre_infected       792\n",
    "nombre_sain          2213\n",
    "nombre_exposed        411\n",
    "nombre_recovered    16584\n",
    "Name: 355, dtype: int64"
   ]
  },
  {
   "cell_type": "markdown",
   "id": "81e0cf6e",
   "metadata": {},
   "source": [
    "nombre_infected       788\n",
    "nombre_sain          2219\n",
    "nombre_exposed        422\n",
    "nombre_recovered    16571\n",
    "Name: 356, dtype: int64"
   ]
  },
  {
   "cell_type": "markdown",
   "id": "756b3992",
   "metadata": {},
   "source": [
    "nombre_infected       807\n",
    "nombre_sain          2233\n",
    "nombre_exposed        396\n",
    "nombre_recovered    16564\n",
    "Name: 357, dtype: int64"
   ]
  },
  {
   "cell_type": "markdown",
   "id": "131a07ff",
   "metadata": {},
   "source": [
    "nombre_infected       821\n",
    "nombre_sain          2275\n",
    "nombre_exposed        389\n",
    "nombre_recovered    16515\n",
    "Name: 358, dtype: int64"
   ]
  },
  {
   "cell_type": "markdown",
   "id": "89900d15",
   "metadata": {},
   "source": [
    "nombre_infected       796\n",
    "nombre_sain          2299\n",
    "nombre_exposed        397\n",
    "nombre_recovered    16508\n",
    "Name: 359, dtype: int64"
   ]
  },
  {
   "cell_type": "markdown",
   "id": "c497bce1",
   "metadata": {},
   "source": [
    "nombre_infected       793\n",
    "nombre_sain          2320\n",
    "nombre_exposed        409\n",
    "nombre_recovered    16478\n",
    "Name: 360, dtype: int64"
   ]
  },
  {
   "cell_type": "markdown",
   "id": "51b991d7",
   "metadata": {},
   "source": [
    "nombre_infected       791\n",
    "nombre_sain          2348\n",
    "nombre_exposed        407\n",
    "nombre_recovered    16454\n",
    "Name: 361, dtype: int64"
   ]
  },
  {
   "cell_type": "markdown",
   "id": "80182ca4",
   "metadata": {},
   "source": [
    "nombre_infected       811\n",
    "nombre_sain          2371\n",
    "nombre_exposed        407\n",
    "nombre_recovered    16411\n",
    "Name: 362, dtype: int64"
   ]
  },
  {
   "cell_type": "markdown",
   "id": "bbb993a8",
   "metadata": {},
   "source": [
    "nombre_infected       815\n",
    "nombre_sain          2386\n",
    "nombre_exposed        407\n",
    "nombre_recovered    16392\n",
    "Name: 363, dtype: int64"
   ]
  },
  {
   "cell_type": "markdown",
   "id": "b25ab23a",
   "metadata": {},
   "source": [
    "nombre_infected       834\n",
    "nombre_sain          2391\n",
    "nombre_exposed        412\n",
    "nombre_recovered    16363\n",
    "Name: 364, dtype: int64"
   ]
  },
  {
   "cell_type": "markdown",
   "id": "42a2120b",
   "metadata": {},
   "source": [
    "nombre_infected       840\n",
    "nombre_sain          2363\n",
    "nombre_exposed        450\n",
    "nombre_recovered    16347\n",
    "Name: 365, dtype: int64"
   ]
  },
  {
   "cell_type": "markdown",
   "id": "e8966298",
   "metadata": {},
   "source": [
    "nombre_infected       844\n",
    "nombre_sain          2354\n",
    "nombre_exposed        457\n",
    "nombre_recovered    16345\n",
    "Name: 366, dtype: int64"
   ]
  },
  {
   "cell_type": "markdown",
   "id": "ca3ad9ac",
   "metadata": {},
   "source": [
    "nombre_infected       844\n",
    "nombre_sain          2348\n",
    "nombre_exposed        449\n",
    "nombre_recovered    16359\n",
    "Name: 367, dtype: int64"
   ]
  },
  {
   "cell_type": "markdown",
   "id": "af234fcf",
   "metadata": {},
   "source": [
    "nombre_infected       840\n",
    "nombre_sain          2333\n",
    "nombre_exposed        492\n",
    "nombre_recovered    16335\n",
    "Name: 368, dtype: int64"
   ]
  },
  {
   "cell_type": "markdown",
   "id": "9af11f2a",
   "metadata": {},
   "source": [
    "nombre_infected       851\n",
    "nombre_sain          2328\n",
    "nombre_exposed        515\n",
    "nombre_recovered    16306\n",
    "Name: 369, dtype: int64"
   ]
  },
  {
   "cell_type": "markdown",
   "id": "9a52d127",
   "metadata": {},
   "source": [
    "nombre_infected       861\n",
    "nombre_sain          2288\n",
    "nombre_exposed        520\n",
    "nombre_recovered    16331\n",
    "Name: 370, dtype: int64"
   ]
  },
  {
   "cell_type": "markdown",
   "id": "de63ea6e",
   "metadata": {},
   "source": [
    "nombre_infected       890\n",
    "nombre_sain          2303\n",
    "nombre_exposed        497\n",
    "nombre_recovered    16310\n",
    "Name: 371, dtype: int64"
   ]
  },
  {
   "cell_type": "markdown",
   "id": "98df674d",
   "metadata": {},
   "source": [
    "nombre_infected       919\n",
    "nombre_sain          2279\n",
    "nombre_exposed        489\n",
    "nombre_recovered    16313\n",
    "Name: 372, dtype: int64"
   ]
  },
  {
   "cell_type": "markdown",
   "id": "9f76dd30",
   "metadata": {},
   "source": [
    "nombre_infected       934\n",
    "nombre_sain          2274\n",
    "nombre_exposed        483\n",
    "nombre_recovered    16309\n",
    "Name: 373, dtype: int64"
   ]
  },
  {
   "cell_type": "markdown",
   "id": "94b60fe3",
   "metadata": {},
   "source": [
    "nombre_infected       934\n",
    "nombre_sain          2266\n",
    "nombre_exposed        473\n",
    "nombre_recovered    16327\n",
    "Name: 374, dtype: int64"
   ]
  },
  {
   "cell_type": "markdown",
   "id": "6e2cd2c1",
   "metadata": {},
   "source": [
    "nombre_infected       958\n",
    "nombre_sain          2236\n",
    "nombre_exposed        473\n",
    "nombre_recovered    16333\n",
    "Name: 375, dtype: int64"
   ]
  },
  {
   "cell_type": "markdown",
   "id": "df6c7a79",
   "metadata": {},
   "source": [
    "nombre_infected       942\n",
    "nombre_sain          2235\n",
    "nombre_exposed        482\n",
    "nombre_recovered    16341\n",
    "Name: 376, dtype: int64"
   ]
  },
  {
   "cell_type": "markdown",
   "id": "27db4f53",
   "metadata": {},
   "source": [
    "nombre_infected       938\n",
    "nombre_sain          2205\n",
    "nombre_exposed        508\n",
    "nombre_recovered    16349\n",
    "Name: 377, dtype: int64"
   ]
  },
  {
   "cell_type": "markdown",
   "id": "dd78ba1a",
   "metadata": {},
   "source": [
    "nombre_infected       927\n",
    "nombre_sain          2169\n",
    "nombre_exposed        524\n",
    "nombre_recovered    16380\n",
    "Name: 378, dtype: int64"
   ]
  },
  {
   "cell_type": "markdown",
   "id": "6d1d1481",
   "metadata": {},
   "source": [
    "nombre_infected       933\n",
    "nombre_sain          2176\n",
    "nombre_exposed        508\n",
    "nombre_recovered    16383\n",
    "Name: 379, dtype: int64"
   ]
  },
  {
   "cell_type": "markdown",
   "id": "d9742145",
   "metadata": {},
   "source": [
    "nombre_infected       955\n",
    "nombre_sain          2169\n",
    "nombre_exposed        502\n",
    "nombre_recovered    16374\n",
    "Name: 380, dtype: int64"
   ]
  },
  {
   "cell_type": "markdown",
   "id": "cb8c4532",
   "metadata": {},
   "source": [
    "nombre_infected       970\n",
    "nombre_sain          2150\n",
    "nombre_exposed        502\n",
    "nombre_recovered    16378\n",
    "Name: 381, dtype: int64"
   ]
  },
  {
   "cell_type": "markdown",
   "id": "12145398",
   "metadata": {},
   "source": [
    "nombre_infected       966\n",
    "nombre_sain          2166\n",
    "nombre_exposed        504\n",
    "nombre_recovered    16364\n",
    "Name: 382, dtype: int64"
   ]
  },
  {
   "cell_type": "markdown",
   "id": "96d26c8c",
   "metadata": {},
   "source": [
    "nombre_infected       964\n",
    "nombre_sain          2168\n",
    "nombre_exposed        503\n",
    "nombre_recovered    16365\n",
    "Name: 383, dtype: int64"
   ]
  },
  {
   "cell_type": "markdown",
   "id": "af72ba58",
   "metadata": {},
   "source": [
    "nombre_infected       970\n",
    "nombre_sain          2155\n",
    "nombre_exposed        514\n",
    "nombre_recovered    16361\n",
    "Name: 384, dtype: int64"
   ]
  },
  {
   "cell_type": "markdown",
   "id": "c5a11f6f",
   "metadata": {},
   "source": [
    "nombre_infected      1012\n",
    "nombre_sain          2139\n",
    "nombre_exposed        504\n",
    "nombre_recovered    16345\n",
    "Name: 385, dtype: int64"
   ]
  },
  {
   "cell_type": "markdown",
   "id": "3cfe21de",
   "metadata": {},
   "source": [
    "nombre_infected      1021\n",
    "nombre_sain          2131\n",
    "nombre_exposed        513\n",
    "nombre_recovered    16335\n",
    "Name: 386, dtype: int64"
   ]
  },
  {
   "cell_type": "markdown",
   "id": "5d8787ae",
   "metadata": {},
   "source": [
    "nombre_infected      1013\n",
    "nombre_sain          2108\n",
    "nombre_exposed        532\n",
    "nombre_recovered    16347\n",
    "Name: 387, dtype: int64"
   ]
  },
  {
   "cell_type": "markdown",
   "id": "de6d9402",
   "metadata": {},
   "source": [
    "nombre_infected      1041\n",
    "nombre_sain          2087\n",
    "nombre_exposed        524\n",
    "nombre_recovered    16348\n",
    "Name: 388, dtype: int64"
   ]
  },
  {
   "cell_type": "markdown",
   "id": "440fbf4d",
   "metadata": {},
   "source": [
    "nombre_infected      1065\n",
    "nombre_sain          2041\n",
    "nombre_exposed        516\n",
    "nombre_recovered    16378\n",
    "Name: 389, dtype: int64"
   ]
  },
  {
   "cell_type": "markdown",
   "id": "2cf1bd19",
   "metadata": {},
   "source": [
    "nombre_infected      1056\n",
    "nombre_sain          2032\n",
    "nombre_exposed        537\n",
    "nombre_recovered    16375\n",
    "Name: 390, dtype: int64"
   ]
  },
  {
   "cell_type": "markdown",
   "id": "29879a14",
   "metadata": {},
   "source": [
    "nombre_infected      1050\n",
    "nombre_sain          1991\n",
    "nombre_exposed        551\n",
    "nombre_recovered    16408\n",
    "Name: 391, dtype: int64"
   ]
  },
  {
   "cell_type": "markdown",
   "id": "aaee69a8",
   "metadata": {},
   "source": [
    "nombre_infected      1052\n",
    "nombre_sain          1985\n",
    "nombre_exposed        546\n",
    "nombre_recovered    16417\n",
    "Name: 392, dtype: int64"
   ]
  },
  {
   "cell_type": "markdown",
   "id": "dcc293d4",
   "metadata": {},
   "source": [
    "nombre_infected      1064\n",
    "nombre_sain          1956\n",
    "nombre_exposed        533\n",
    "nombre_recovered    16447\n",
    "Name: 393, dtype: int64"
   ]
  },
  {
   "cell_type": "markdown",
   "id": "42f55320",
   "metadata": {},
   "source": [
    "nombre_infected      1051\n",
    "nombre_sain          1955\n",
    "nombre_exposed        530\n",
    "nombre_recovered    16464\n",
    "Name: 394, dtype: int64"
   ]
  },
  {
   "cell_type": "markdown",
   "id": "a71871ec",
   "metadata": {},
   "source": [
    "nombre_infected      1076\n",
    "nombre_sain          1933\n",
    "nombre_exposed        520\n",
    "nombre_recovered    16471\n",
    "Name: 395, dtype: int64"
   ]
  },
  {
   "cell_type": "markdown",
   "id": "e1562e9c",
   "metadata": {},
   "source": [
    "nombre_infected      1045\n",
    "nombre_sain          1932\n",
    "nombre_exposed        527\n",
    "nombre_recovered    16496\n",
    "Name: 396, dtype: int64"
   ]
  },
  {
   "cell_type": "markdown",
   "id": "6a679215",
   "metadata": {},
   "source": [
    "nombre_infected      1051\n",
    "nombre_sain          1910\n",
    "nombre_exposed        529\n",
    "nombre_recovered    16510\n",
    "Name: 397, dtype: int64"
   ]
  },
  {
   "cell_type": "markdown",
   "id": "1ad1e629",
   "metadata": {},
   "source": [
    "nombre_infected      1036\n",
    "nombre_sain          1888\n",
    "nombre_exposed        533\n",
    "nombre_recovered    16543\n",
    "Name: 398, dtype: int64"
   ]
  },
  {
   "cell_type": "markdown",
   "id": "441cd7a1",
   "metadata": {},
   "source": [
    "nombre_infected      1029\n",
    "nombre_sain          1894\n",
    "nombre_exposed        512\n",
    "nombre_recovered    16565\n",
    "Name: 399, dtype: int64"
   ]
  },
  {
   "cell_type": "markdown",
   "id": "c5e815ef",
   "metadata": {},
   "source": [
    "nombre_infected      1024\n",
    "nombre_sain          1885\n",
    "nombre_exposed        477\n",
    "nombre_recovered    16614\n",
    "Name: 400, dtype: int64"
   ]
  },
  {
   "cell_type": "markdown",
   "id": "5c311674",
   "metadata": {},
   "source": [
    "nombre_infected      1018\n",
    "nombre_sain          1871\n",
    "nombre_exposed        469\n",
    "nombre_recovered    16642\n",
    "Name: 401, dtype: int64"
   ]
  },
  {
   "cell_type": "markdown",
   "id": "c0860d03",
   "metadata": {},
   "source": [
    "nombre_infected      1010\n",
    "nombre_sain          1838\n",
    "nombre_exposed        478\n",
    "nombre_recovered    16674\n",
    "Name: 402, dtype: int64"
   ]
  },
  {
   "cell_type": "markdown",
   "id": "6b53120d",
   "metadata": {},
   "source": [
    "nombre_infected       997\n",
    "nombre_sain          1833\n",
    "nombre_exposed        445\n",
    "nombre_recovered    16725\n",
    "Name: 403, dtype: int64"
   ]
  },
  {
   "cell_type": "markdown",
   "id": "c4421553",
   "metadata": {},
   "source": [
    "nombre_infected       995\n",
    "nombre_sain          1836\n",
    "nombre_exposed        426\n",
    "nombre_recovered    16743\n",
    "Name: 404, dtype: int64"
   ]
  },
  {
   "cell_type": "markdown",
   "id": "a5da2d6a",
   "metadata": {},
   "source": [
    "nombre_infected       957\n",
    "nombre_sain          1823\n",
    "nombre_exposed        442\n",
    "nombre_recovered    16778\n",
    "Name: 405, dtype: int64"
   ]
  },
  {
   "cell_type": "markdown",
   "id": "c85662a6",
   "metadata": {},
   "source": [
    "nombre_infected       936\n",
    "nombre_sain          1829\n",
    "nombre_exposed        438\n",
    "nombre_recovered    16797\n",
    "Name: 406, dtype: int64"
   ]
  },
  {
   "cell_type": "markdown",
   "id": "b58fba1d",
   "metadata": {},
   "source": [
    "nombre_infected       907\n",
    "nombre_sain          1801\n",
    "nombre_exposed        464\n",
    "nombre_recovered    16828\n",
    "Name: 407, dtype: int64"
   ]
  },
  {
   "cell_type": "markdown",
   "id": "eb81ecfc",
   "metadata": {},
   "source": [
    "nombre_infected       893\n",
    "nombre_sain          1796\n",
    "nombre_exposed        445\n",
    "nombre_recovered    16866\n",
    "Name: 408, dtype: int64"
   ]
  },
  {
   "cell_type": "markdown",
   "id": "74a96fab",
   "metadata": {},
   "source": [
    "nombre_infected       905\n",
    "nombre_sain          1820\n",
    "nombre_exposed        410\n",
    "nombre_recovered    16865\n",
    "Name: 409, dtype: int64"
   ]
  },
  {
   "cell_type": "markdown",
   "id": "a9eb0141",
   "metadata": {},
   "source": [
    "nombre_infected       883\n",
    "nombre_sain          1826\n",
    "nombre_exposed        391\n",
    "nombre_recovered    16900\n",
    "Name: 410, dtype: int64"
   ]
  },
  {
   "cell_type": "markdown",
   "id": "b042f9fa",
   "metadata": {},
   "source": [
    "nombre_infected       886\n",
    "nombre_sain          1818\n",
    "nombre_exposed        384\n",
    "nombre_recovered    16912\n",
    "Name: 411, dtype: int64"
   ]
  },
  {
   "cell_type": "markdown",
   "id": "9eeb5010",
   "metadata": {},
   "source": [
    "nombre_infected       853\n",
    "nombre_sain          1827\n",
    "nombre_exposed        378\n",
    "nombre_recovered    16942\n",
    "Name: 412, dtype: int64"
   ]
  },
  {
   "cell_type": "markdown",
   "id": "9fd6db6b",
   "metadata": {},
   "source": [
    "nombre_infected       833\n",
    "nombre_sain          1817\n",
    "nombre_exposed        372\n",
    "nombre_recovered    16978\n",
    "Name: 413, dtype: int64"
   ]
  },
  {
   "cell_type": "markdown",
   "id": "14f04f4e",
   "metadata": {},
   "source": [
    "nombre_infected       828\n",
    "nombre_sain          1813\n",
    "nombre_exposed        359\n",
    "nombre_recovered    17000\n",
    "Name: 414, dtype: int64"
   ]
  },
  {
   "cell_type": "markdown",
   "id": "4af2f31d",
   "metadata": {},
   "source": [
    "nombre_infected       804\n",
    "nombre_sain          1822\n",
    "nombre_exposed        364\n",
    "nombre_recovered    17010\n",
    "Name: 415, dtype: int64"
   ]
  },
  {
   "cell_type": "markdown",
   "id": "5b5f531d",
   "metadata": {},
   "source": [
    "nombre_infected       771\n",
    "nombre_sain          1841\n",
    "nombre_exposed        372\n",
    "nombre_recovered    17016\n",
    "Name: 416, dtype: int64"
   ]
  },
  {
   "cell_type": "markdown",
   "id": "3cd1df32",
   "metadata": {},
   "source": [
    "nombre_infected       751\n",
    "nombre_sain          1850\n",
    "nombre_exposed        374\n",
    "nombre_recovered    17025\n",
    "Name: 417, dtype: int64"
   ]
  },
  {
   "cell_type": "markdown",
   "id": "156ae3bc",
   "metadata": {},
   "source": [
    "nombre_infected       733\n",
    "nombre_sain          1895\n",
    "nombre_exposed        363\n",
    "nombre_recovered    17009\n",
    "Name: 418, dtype: int64"
   ]
  },
  {
   "cell_type": "markdown",
   "id": "c6c98c1a",
   "metadata": {},
   "source": [
    "nombre_infected       743\n",
    "nombre_sain          1938\n",
    "nombre_exposed        336\n",
    "nombre_recovered    16983\n",
    "Name: 419, dtype: int64"
   ]
  },
  {
   "cell_type": "markdown",
   "id": "e320d410",
   "metadata": {},
   "source": [
    "nombre_infected       734\n",
    "nombre_sain          1950\n",
    "nombre_exposed        335\n",
    "nombre_recovered    16981\n",
    "Name: 420, dtype: int64"
   ]
  },
  {
   "cell_type": "markdown",
   "id": "7dfcd5e1",
   "metadata": {},
   "source": [
    "nombre_infected       720\n",
    "nombre_sain          1977\n",
    "nombre_exposed        343\n",
    "nombre_recovered    16960\n",
    "Name: 421, dtype: int64"
   ]
  },
  {
   "cell_type": "markdown",
   "id": "d85e74e6",
   "metadata": {},
   "source": [
    "nombre_infected       709\n",
    "nombre_sain          2005\n",
    "nombre_exposed        358\n",
    "nombre_recovered    16928\n",
    "Name: 422, dtype: int64"
   ]
  },
  {
   "cell_type": "markdown",
   "id": "ca6116a0",
   "metadata": {},
   "source": [
    "nombre_infected       689\n",
    "nombre_sain          2027\n",
    "nombre_exposed        374\n",
    "nombre_recovered    16910\n",
    "Name: 423, dtype: int64"
   ]
  },
  {
   "cell_type": "markdown",
   "id": "f60f1b64",
   "metadata": {},
   "source": [
    "nombre_infected       684\n",
    "nombre_sain          2066\n",
    "nombre_exposed        370\n",
    "nombre_recovered    16880\n",
    "Name: 424, dtype: int64"
   ]
  },
  {
   "cell_type": "markdown",
   "id": "69df76da",
   "metadata": {},
   "source": [
    "nombre_infected       692\n",
    "nombre_sain          2111\n",
    "nombre_exposed        360\n",
    "nombre_recovered    16837\n",
    "Name: 425, dtype: int64"
   ]
  },
  {
   "cell_type": "markdown",
   "id": "390b67e2",
   "metadata": {},
   "source": [
    "nombre_infected       695\n",
    "nombre_sain          2141\n",
    "nombre_exposed        344\n",
    "nombre_recovered    16820\n",
    "Name: 426, dtype: int64"
   ]
  },
  {
   "cell_type": "markdown",
   "id": "f9b1d68c",
   "metadata": {},
   "source": [
    "nombre_infected       698\n",
    "nombre_sain          2179\n",
    "nombre_exposed        344\n",
    "nombre_recovered    16779\n",
    "Name: 427, dtype: int64"
   ]
  },
  {
   "cell_type": "markdown",
   "id": "bbe4eb3c",
   "metadata": {},
   "source": [
    "nombre_infected       695\n",
    "nombre_sain          2227\n",
    "nombre_exposed        340\n",
    "nombre_recovered    16738\n",
    "Name: 428, dtype: int64"
   ]
  },
  {
   "cell_type": "markdown",
   "id": "93e6e21b",
   "metadata": {},
   "source": [
    "nombre_infected       695\n",
    "nombre_sain          2267\n",
    "nombre_exposed        342\n",
    "nombre_recovered    16696\n",
    "Name: 429, dtype: int64"
   ]
  },
  {
   "cell_type": "markdown",
   "id": "ecdbc561",
   "metadata": {},
   "source": [
    "nombre_infected       721\n",
    "nombre_sain          2297\n",
    "nombre_exposed        355\n",
    "nombre_recovered    16627\n",
    "Name: 430, dtype: int64"
   ]
  },
  {
   "cell_type": "markdown",
   "id": "10f69e23",
   "metadata": {},
   "source": [
    "nombre_infected       711\n",
    "nombre_sain          2311\n",
    "nombre_exposed        371\n",
    "nombre_recovered    16607\n",
    "Name: 431, dtype: int64"
   ]
  },
  {
   "cell_type": "markdown",
   "id": "703dd885",
   "metadata": {},
   "source": [
    "nombre_infected       708\n",
    "nombre_sain          2329\n",
    "nombre_exposed        380\n",
    "nombre_recovered    16583\n",
    "Name: 432, dtype: int64"
   ]
  },
  {
   "cell_type": "markdown",
   "id": "1843c65a",
   "metadata": {},
   "source": [
    "nombre_infected       718\n",
    "nombre_sain          2355\n",
    "nombre_exposed        383\n",
    "nombre_recovered    16544\n",
    "Name: 433, dtype: int64"
   ]
  },
  {
   "cell_type": "markdown",
   "id": "5bccb2ce",
   "metadata": {},
   "source": [
    "nombre_infected       729\n",
    "nombre_sain          2384\n",
    "nombre_exposed        380\n",
    "nombre_recovered    16507\n",
    "Name: 434, dtype: int64"
   ]
  },
  {
   "cell_type": "markdown",
   "id": "32861aa4",
   "metadata": {},
   "source": [
    "nombre_infected       730\n",
    "nombre_sain          2416\n",
    "nombre_exposed        365\n",
    "nombre_recovered    16489\n",
    "Name: 435, dtype: int64"
   ]
  },
  {
   "cell_type": "markdown",
   "id": "1a46e090",
   "metadata": {},
   "source": [
    "nombre_infected       721\n",
    "nombre_sain          2432\n",
    "nombre_exposed        382\n",
    "nombre_recovered    16465\n",
    "Name: 436, dtype: int64"
   ]
  },
  {
   "cell_type": "markdown",
   "id": "5a0b2777",
   "metadata": {},
   "source": [
    "nombre_infected       715\n",
    "nombre_sain          2449\n",
    "nombre_exposed        405\n",
    "nombre_recovered    16431\n",
    "Name: 437, dtype: int64"
   ]
  },
  {
   "cell_type": "markdown",
   "id": "fcf05bf2",
   "metadata": {},
   "source": [
    "nombre_infected       733\n",
    "nombre_sain          2482\n",
    "nombre_exposed        390\n",
    "nombre_recovered    16395\n",
    "Name: 438, dtype: int64"
   ]
  },
  {
   "cell_type": "markdown",
   "id": "372d5c93",
   "metadata": {},
   "source": [
    "nombre_infected       749\n",
    "nombre_sain          2482\n",
    "nombre_exposed        392\n",
    "nombre_recovered    16377\n",
    "Name: 439, dtype: int64"
   ]
  },
  {
   "cell_type": "markdown",
   "id": "5ad0db1c",
   "metadata": {},
   "source": [
    "nombre_infected       746\n",
    "nombre_sain          2473\n",
    "nombre_exposed        409\n",
    "nombre_recovered    16372\n",
    "Name: 440, dtype: int64"
   ]
  },
  {
   "cell_type": "markdown",
   "id": "ddb3a94e",
   "metadata": {},
   "source": [
    "nombre_infected       757\n",
    "nombre_sain          2464\n",
    "nombre_exposed        410\n",
    "nombre_recovered    16369\n",
    "Name: 441, dtype: int64"
   ]
  },
  {
   "cell_type": "markdown",
   "id": "acc1b896",
   "metadata": {},
   "source": [
    "nombre_infected       771\n",
    "nombre_sain          2450\n",
    "nombre_exposed        404\n",
    "nombre_recovered    16375\n",
    "Name: 442, dtype: int64"
   ]
  },
  {
   "cell_type": "markdown",
   "id": "64f407f0",
   "metadata": {},
   "source": [
    "nombre_infected       782\n",
    "nombre_sain          2449\n",
    "nombre_exposed        412\n",
    "nombre_recovered    16357\n",
    "Name: 443, dtype: int64"
   ]
  },
  {
   "cell_type": "markdown",
   "id": "2609562e",
   "metadata": {},
   "source": [
    "nombre_infected       785\n",
    "nombre_sain          2437\n",
    "nombre_exposed        438\n",
    "nombre_recovered    16340\n",
    "Name: 444, dtype: int64"
   ]
  },
  {
   "cell_type": "markdown",
   "id": "3d9005d9",
   "metadata": {},
   "source": [
    "nombre_infected       800\n",
    "nombre_sain          2422\n",
    "nombre_exposed        441\n",
    "nombre_recovered    16337\n",
    "Name: 445, dtype: int64"
   ]
  },
  {
   "cell_type": "markdown",
   "id": "2c87fdd2",
   "metadata": {},
   "source": [
    "nombre_infected       804\n",
    "nombre_sain          2422\n",
    "nombre_exposed        441\n",
    "nombre_recovered    16333\n",
    "Name: 446, dtype: int64"
   ]
  },
  {
   "cell_type": "markdown",
   "id": "e2cd5955",
   "metadata": {},
   "source": [
    "nombre_infected       827\n",
    "nombre_sain          2409\n",
    "nombre_exposed        457\n",
    "nombre_recovered    16307\n",
    "Name: 447, dtype: int64"
   ]
  },
  {
   "cell_type": "markdown",
   "id": "f1ea13fb",
   "metadata": {},
   "source": [
    "nombre_infected       841\n",
    "nombre_sain          2400\n",
    "nombre_exposed        473\n",
    "nombre_recovered    16286\n",
    "Name: 448, dtype: int64"
   ]
  },
  {
   "cell_type": "markdown",
   "id": "0a1a3817",
   "metadata": {},
   "source": [
    "nombre_infected       855\n",
    "nombre_sain          2372\n",
    "nombre_exposed        469\n",
    "nombre_recovered    16304\n",
    "Name: 449, dtype: int64"
   ]
  },
  {
   "cell_type": "markdown",
   "id": "7d402787",
   "metadata": {},
   "source": [
    "nombre_infected       856\n",
    "nombre_sain          2342\n",
    "nombre_exposed        502\n",
    "nombre_recovered    16300\n",
    "Name: 450, dtype: int64"
   ]
  },
  {
   "cell_type": "markdown",
   "id": "c413df6f",
   "metadata": {},
   "source": [
    "nombre_infected       872\n",
    "nombre_sain          2316\n",
    "nombre_exposed        502\n",
    "nombre_recovered    16310\n",
    "Name: 451, dtype: int64"
   ]
  },
  {
   "cell_type": "markdown",
   "id": "8343af3d",
   "metadata": {},
   "source": [
    "nombre_infected       918\n",
    "nombre_sain          2317\n",
    "nombre_exposed        475\n",
    "nombre_recovered    16290\n",
    "Name: 452, dtype: int64"
   ]
  },
  {
   "cell_type": "markdown",
   "id": "e06a41f9",
   "metadata": {},
   "source": [
    "nombre_infected       908\n",
    "nombre_sain          2293\n",
    "nombre_exposed        505\n",
    "nombre_recovered    16294\n",
    "Name: 453, dtype: int64"
   ]
  },
  {
   "cell_type": "markdown",
   "id": "e108e4d2",
   "metadata": {},
   "source": [
    "nombre_infected       904\n",
    "nombre_sain          2297\n",
    "nombre_exposed        515\n",
    "nombre_recovered    16284\n",
    "Name: 454, dtype: int64"
   ]
  },
  {
   "cell_type": "markdown",
   "id": "822c933a",
   "metadata": {},
   "source": [
    "nombre_infected       945\n",
    "nombre_sain          2262\n",
    "nombre_exposed        494\n",
    "nombre_recovered    16299\n",
    "Name: 455, dtype: int64"
   ]
  },
  {
   "cell_type": "markdown",
   "id": "f3e4b9a4",
   "metadata": {},
   "source": [
    "nombre_infected       978\n",
    "nombre_sain          2231\n",
    "nombre_exposed        487\n",
    "nombre_recovered    16304\n",
    "Name: 456, dtype: int64"
   ]
  },
  {
   "cell_type": "markdown",
   "id": "cde8010f",
   "metadata": {},
   "source": [
    "nombre_infected       984\n",
    "nombre_sain          2217\n",
    "nombre_exposed        490\n",
    "nombre_recovered    16309\n",
    "Name: 457, dtype: int64"
   ]
  },
  {
   "cell_type": "markdown",
   "id": "80ff784d",
   "metadata": {},
   "source": [
    "nombre_infected       984\n",
    "nombre_sain          2196\n",
    "nombre_exposed        516\n",
    "nombre_recovered    16304\n",
    "Name: 458, dtype: int64"
   ]
  },
  {
   "cell_type": "markdown",
   "id": "b597a451",
   "metadata": {},
   "source": [
    "nombre_infected       994\n",
    "nombre_sain          2185\n",
    "nombre_exposed        512\n",
    "nombre_recovered    16309\n",
    "Name: 459, dtype: int64"
   ]
  },
  {
   "cell_type": "markdown",
   "id": "c692d674",
   "metadata": {},
   "source": [
    "nombre_infected      1022\n",
    "nombre_sain          2155\n",
    "nombre_exposed        506\n",
    "nombre_recovered    16317\n",
    "Name: 460, dtype: int64"
   ]
  },
  {
   "cell_type": "markdown",
   "id": "e9a58bda",
   "metadata": {},
   "source": [
    "nombre_infected      1011\n",
    "nombre_sain          2118\n",
    "nombre_exposed        527\n",
    "nombre_recovered    16344\n",
    "Name: 461, dtype: int64"
   ]
  },
  {
   "cell_type": "markdown",
   "id": "ef95f9d1",
   "metadata": {},
   "source": [
    "nombre_infected      1029\n",
    "nombre_sain          2099\n",
    "nombre_exposed        523\n",
    "nombre_recovered    16349\n",
    "Name: 462, dtype: int64"
   ]
  },
  {
   "cell_type": "markdown",
   "id": "74288438",
   "metadata": {},
   "source": [
    "nombre_infected      1012\n",
    "nombre_sain          2080\n",
    "nombre_exposed        554\n",
    "nombre_recovered    16354\n",
    "Name: 463, dtype: int64"
   ]
  },
  {
   "cell_type": "markdown",
   "id": "5569e01d",
   "metadata": {},
   "source": [
    "nombre_infected      1030\n",
    "nombre_sain          2086\n",
    "nombre_exposed        520\n",
    "nombre_recovered    16364\n",
    "Name: 464, dtype: int64"
   ]
  },
  {
   "cell_type": "markdown",
   "id": "f43e591d",
   "metadata": {},
   "source": [
    "nombre_infected      1032\n",
    "nombre_sain          2075\n",
    "nombre_exposed        512\n",
    "nombre_recovered    16381\n",
    "Name: 465, dtype: int64"
   ]
  },
  {
   "cell_type": "markdown",
   "id": "40cfb910",
   "metadata": {},
   "source": [
    "nombre_infected      1016\n",
    "nombre_sain          2066\n",
    "nombre_exposed        514\n",
    "nombre_recovered    16404\n",
    "Name: 466, dtype: int64"
   ]
  },
  {
   "cell_type": "markdown",
   "id": "0ff8cc6a",
   "metadata": {},
   "source": [
    "nombre_infected      1004\n",
    "nombre_sain          2061\n",
    "nombre_exposed        493\n",
    "nombre_recovered    16442\n",
    "Name: 467, dtype: int64"
   ]
  },
  {
   "cell_type": "markdown",
   "id": "982b8f81",
   "metadata": {},
   "source": [
    "nombre_infected      1008\n",
    "nombre_sain          2070\n",
    "nombre_exposed        481\n",
    "nombre_recovered    16441\n",
    "Name: 468, dtype: int64"
   ]
  },
  {
   "cell_type": "markdown",
   "id": "646dd154",
   "metadata": {},
   "source": [
    "nombre_infected      1008\n",
    "nombre_sain          2078\n",
    "nombre_exposed        482\n",
    "nombre_recovered    16432\n",
    "Name: 469, dtype: int64"
   ]
  },
  {
   "cell_type": "markdown",
   "id": "d3eee139",
   "metadata": {},
   "source": [
    "nombre_infected       986\n",
    "nombre_sain          2057\n",
    "nombre_exposed        499\n",
    "nombre_recovered    16458\n",
    "Name: 470, dtype: int64"
   ]
  },
  {
   "cell_type": "markdown",
   "id": "c126a845",
   "metadata": {},
   "source": [
    "nombre_infected       989\n",
    "nombre_sain          2044\n",
    "nombre_exposed        512\n",
    "nombre_recovered    16455\n",
    "Name: 471, dtype: int64"
   ]
  },
  {
   "cell_type": "markdown",
   "id": "3c04f43f",
   "metadata": {},
   "source": [
    "nombre_infected       980\n",
    "nombre_sain          2028\n",
    "nombre_exposed        528\n",
    "nombre_recovered    16464\n",
    "Name: 472, dtype: int64"
   ]
  },
  {
   "cell_type": "markdown",
   "id": "db375c24",
   "metadata": {},
   "source": [
    "nombre_infected       983\n",
    "nombre_sain          2027\n",
    "nombre_exposed        525\n",
    "nombre_recovered    16465\n",
    "Name: 473, dtype: int64"
   ]
  },
  {
   "cell_type": "markdown",
   "id": "1e7fee28",
   "metadata": {},
   "source": [
    "nombre_infected       986\n",
    "nombre_sain          1990\n",
    "nombre_exposed        542\n",
    "nombre_recovered    16482\n",
    "Name: 474, dtype: int64"
   ]
  },
  {
   "cell_type": "markdown",
   "id": "c00f8d1b",
   "metadata": {},
   "source": [
    "nombre_infected      1011\n",
    "nombre_sain          1984\n",
    "nombre_exposed        534\n",
    "nombre_recovered    16471\n",
    "Name: 475, dtype: int64"
   ]
  },
  {
   "cell_type": "markdown",
   "id": "5030bfc2",
   "metadata": {},
   "source": [
    "nombre_infected       984\n",
    "nombre_sain          1989\n",
    "nombre_exposed        528\n",
    "nombre_recovered    16499\n",
    "Name: 476, dtype: int64"
   ]
  },
  {
   "cell_type": "markdown",
   "id": "f4b77067",
   "metadata": {},
   "source": [
    "nombre_infected       995\n",
    "nombre_sain          1987\n",
    "nombre_exposed        519\n",
    "nombre_recovered    16499\n",
    "Name: 477, dtype: int64"
   ]
  },
  {
   "cell_type": "markdown",
   "id": "e58872f8",
   "metadata": {},
   "source": [
    "nombre_infected       991\n",
    "nombre_sain          1984\n",
    "nombre_exposed        507\n",
    "nombre_recovered    16518\n",
    "Name: 478, dtype: int64"
   ]
  },
  {
   "cell_type": "markdown",
   "id": "34c339e2",
   "metadata": {},
   "source": [
    "nombre_infected       974\n",
    "nombre_sain          1972\n",
    "nombre_exposed        506\n",
    "nombre_recovered    16548\n",
    "Name: 479, dtype: int64"
   ]
  },
  {
   "cell_type": "markdown",
   "id": "594c6dbf",
   "metadata": {},
   "source": [
    "nombre_infected       970\n",
    "nombre_sain          2003\n",
    "nombre_exposed        478\n",
    "nombre_recovered    16549\n",
    "Name: 480, dtype: int64"
   ]
  },
  {
   "cell_type": "markdown",
   "id": "b2b719cf",
   "metadata": {},
   "source": [
    "nombre_infected       976\n",
    "nombre_sain          2028\n",
    "nombre_exposed        456\n",
    "nombre_recovered    16540\n",
    "Name: 481, dtype: int64"
   ]
  },
  {
   "cell_type": "markdown",
   "id": "430b87f9",
   "metadata": {},
   "source": [
    "nombre_infected       967\n",
    "nombre_sain          2053\n",
    "nombre_exposed        454\n",
    "nombre_recovered    16526\n",
    "Name: 482, dtype: int64"
   ]
  },
  {
   "cell_type": "markdown",
   "id": "4fd6b6f5",
   "metadata": {},
   "source": [
    "nombre_infected       956\n",
    "nombre_sain          2069\n",
    "nombre_exposed        467\n",
    "nombre_recovered    16508\n",
    "Name: 483, dtype: int64"
   ]
  },
  {
   "cell_type": "markdown",
   "id": "68166c18",
   "metadata": {},
   "source": [
    "nombre_infected       938\n",
    "nombre_sain          2087\n",
    "nombre_exposed        487\n",
    "nombre_recovered    16488\n",
    "Name: 484, dtype: int64"
   ]
  },
  {
   "cell_type": "markdown",
   "id": "45c33353",
   "metadata": {},
   "source": [
    "nombre_infected       910\n",
    "nombre_sain          2087\n",
    "nombre_exposed        510\n",
    "nombre_recovered    16493\n",
    "Name: 485, dtype: int64"
   ]
  },
  {
   "cell_type": "markdown",
   "id": "80e1479f",
   "metadata": {},
   "source": [
    "nombre_infected       931\n",
    "nombre_sain          2091\n",
    "nombre_exposed        507\n",
    "nombre_recovered    16471\n",
    "Name: 486, dtype: int64"
   ]
  },
  {
   "cell_type": "markdown",
   "id": "08883a64",
   "metadata": {},
   "source": [
    "nombre_infected       927\n",
    "nombre_sain          2097\n",
    "nombre_exposed        519\n",
    "nombre_recovered    16457\n",
    "Name: 487, dtype: int64"
   ]
  },
  {
   "cell_type": "markdown",
   "id": "9185bdd8",
   "metadata": {},
   "source": [
    "nombre_infected       957\n",
    "nombre_sain          2133\n",
    "nombre_exposed        500\n",
    "nombre_recovered    16410\n",
    "Name: 488, dtype: int64"
   ]
  },
  {
   "cell_type": "markdown",
   "id": "503bdb80",
   "metadata": {},
   "source": [
    "nombre_infected       950\n",
    "nombre_sain          2192\n",
    "nombre_exposed        471\n",
    "nombre_recovered    16387\n",
    "Name: 489, dtype: int64"
   ]
  },
  {
   "cell_type": "markdown",
   "id": "7ae3ba3f",
   "metadata": {},
   "source": [
    "nombre_infected       955\n",
    "nombre_sain          2224\n",
    "nombre_exposed        455\n",
    "nombre_recovered    16366\n",
    "Name: 490, dtype: int64"
   ]
  },
  {
   "cell_type": "markdown",
   "id": "0113fa5a",
   "metadata": {},
   "source": [
    "nombre_infected       945\n",
    "nombre_sain          2218\n",
    "nombre_exposed        475\n",
    "nombre_recovered    16362\n",
    "Name: 491, dtype: int64"
   ]
  },
  {
   "cell_type": "markdown",
   "id": "6c907efa",
   "metadata": {},
   "source": [
    "nombre_infected       895\n",
    "nombre_sain          2240\n",
    "nombre_exposed        481\n",
    "nombre_recovered    16384\n",
    "Name: 492, dtype: int64"
   ]
  },
  {
   "cell_type": "markdown",
   "id": "592245cf",
   "metadata": {},
   "source": [
    "nombre_infected       906\n",
    "nombre_sain          2262\n",
    "nombre_exposed        477\n",
    "nombre_recovered    16355\n",
    "Name: 493, dtype: int64"
   ]
  },
  {
   "cell_type": "markdown",
   "id": "ad749c7b",
   "metadata": {},
   "source": [
    "nombre_infected       905\n",
    "nombre_sain          2296\n",
    "nombre_exposed        459\n",
    "nombre_recovered    16340\n",
    "Name: 494, dtype: int64"
   ]
  },
  {
   "cell_type": "markdown",
   "id": "91a08d0a",
   "metadata": {},
   "source": [
    "nombre_infected       910\n",
    "nombre_sain          2301\n",
    "nombre_exposed        474\n",
    "nombre_recovered    16315\n",
    "Name: 495, dtype: int64"
   ]
  },
  {
   "cell_type": "markdown",
   "id": "94ba04e1",
   "metadata": {},
   "source": [
    "nombre_infected       905\n",
    "nombre_sain          2301\n",
    "nombre_exposed        481\n",
    "nombre_recovered    16313\n",
    "Name: 496, dtype: int64"
   ]
  },
  {
   "cell_type": "markdown",
   "id": "5db92b86",
   "metadata": {},
   "source": [
    "nombre_infected       917\n",
    "nombre_sain          2320\n",
    "nombre_exposed        465\n",
    "nombre_recovered    16298\n",
    "Name: 497, dtype: int64"
   ]
  },
  {
   "cell_type": "markdown",
   "id": "4df3b469",
   "metadata": {},
   "source": [
    "nombre_infected       924\n",
    "nombre_sain          2322\n",
    "nombre_exposed        479\n",
    "nombre_recovered    16275\n",
    "Name: 498, dtype: int64"
   ]
  },
  {
   "cell_type": "markdown",
   "id": "424d761a",
   "metadata": {},
   "source": [
    "nombre_infected       878\n",
    "nombre_sain          2339\n",
    "nombre_exposed        492\n",
    "nombre_recovered    16291\n",
    "Name: 499, dtype: int64"
   ]
  },
  {
   "cell_type": "markdown",
   "id": "1a1b0495",
   "metadata": {},
   "source": [
    "nombre_infected       866\n",
    "nombre_sain          2355\n",
    "nombre_exposed        488\n",
    "nombre_recovered    16291\n",
    "Name: 500, dtype: int64"
   ]
  },
  {
   "cell_type": "markdown",
   "id": "e7db2b4c",
   "metadata": {},
   "source": [
    "nombre_infected       892\n",
    "nombre_sain          2370\n",
    "nombre_exposed        463\n",
    "nombre_recovered    16275\n",
    "Name: 501, dtype: int64"
   ]
  },
  {
   "cell_type": "markdown",
   "id": "ede10b21",
   "metadata": {},
   "source": [
    "nombre_infected       880\n",
    "nombre_sain          2357\n",
    "nombre_exposed        504\n",
    "nombre_recovered    16259\n",
    "Name: 502, dtype: int64"
   ]
  },
  {
   "cell_type": "markdown",
   "id": "beb9ae61",
   "metadata": {},
   "source": [
    "nombre_infected       876\n",
    "nombre_sain          2392\n",
    "nombre_exposed        507\n",
    "nombre_recovered    16225\n",
    "Name: 503, dtype: int64"
   ]
  },
  {
   "cell_type": "markdown",
   "id": "53121f26",
   "metadata": {},
   "source": [
    "nombre_infected       921\n",
    "nombre_sain          2441\n",
    "nombre_exposed        478\n",
    "nombre_recovered    16160\n",
    "Name: 504, dtype: int64"
   ]
  },
  {
   "cell_type": "markdown",
   "id": "50f22cc3",
   "metadata": {},
   "source": [
    "nombre_infected       916\n",
    "nombre_sain          2433\n",
    "nombre_exposed        492\n",
    "nombre_recovered    16159\n",
    "Name: 505, dtype: int64"
   ]
  },
  {
   "cell_type": "markdown",
   "id": "f543fa72",
   "metadata": {},
   "source": [
    "nombre_infected       874\n",
    "nombre_sain          2447\n",
    "nombre_exposed        528\n",
    "nombre_recovered    16151\n",
    "Name: 506, dtype: int64"
   ]
  },
  {
   "cell_type": "markdown",
   "id": "51c3dcfe",
   "metadata": {},
   "source": [
    "nombre_infected       911\n",
    "nombre_sain          2479\n",
    "nombre_exposed        523\n",
    "nombre_recovered    16087\n",
    "Name: 507, dtype: int64"
   ]
  },
  {
   "cell_type": "markdown",
   "id": "cfcb6ff6",
   "metadata": {},
   "source": [
    "nombre_infected       914\n",
    "nombre_sain          2503\n",
    "nombre_exposed        526\n",
    "nombre_recovered    16057\n",
    "Name: 508, dtype: int64"
   ]
  },
  {
   "cell_type": "markdown",
   "id": "5fce4740",
   "metadata": {},
   "source": [
    "nombre_infected       908\n",
    "nombre_sain          2509\n",
    "nombre_exposed        534\n",
    "nombre_recovered    16049\n",
    "Name: 509, dtype: int64"
   ]
  },
  {
   "cell_type": "markdown",
   "id": "489ec6ab",
   "metadata": {},
   "source": [
    "nombre_infected       897\n",
    "nombre_sain          2541\n",
    "nombre_exposed        512\n",
    "nombre_recovered    16050\n",
    "Name: 510, dtype: int64"
   ]
  },
  {
   "cell_type": "markdown",
   "id": "5ae7afd1",
   "metadata": {},
   "source": [
    "nombre_infected       927\n",
    "nombre_sain          2527\n",
    "nombre_exposed        517\n",
    "nombre_recovered    16029\n",
    "Name: 511, dtype: int64"
   ]
  },
  {
   "cell_type": "markdown",
   "id": "449ab3e2",
   "metadata": {},
   "source": [
    "nombre_infected       912\n",
    "nombre_sain          2536\n",
    "nombre_exposed        517\n",
    "nombre_recovered    16035\n",
    "Name: 512, dtype: int64"
   ]
  },
  {
   "cell_type": "markdown",
   "id": "dffa918e",
   "metadata": {},
   "source": [
    "nombre_infected       927\n",
    "nombre_sain          2558\n",
    "nombre_exposed        513\n",
    "nombre_recovered    16002\n",
    "Name: 513, dtype: int64"
   ]
  },
  {
   "cell_type": "markdown",
   "id": "e827dd8e",
   "metadata": {},
   "source": [
    "nombre_infected       936\n",
    "nombre_sain          2530\n",
    "nombre_exposed        555\n",
    "nombre_recovered    15979\n",
    "Name: 514, dtype: int64"
   ]
  },
  {
   "cell_type": "markdown",
   "id": "dac1762f",
   "metadata": {},
   "source": [
    "nombre_infected       938\n",
    "nombre_sain          2523\n",
    "nombre_exposed        565\n",
    "nombre_recovered    15974\n",
    "Name: 515, dtype: int64"
   ]
  },
  {
   "cell_type": "markdown",
   "id": "c57bbc23",
   "metadata": {},
   "source": [
    "nombre_infected       956\n",
    "nombre_sain          2517\n",
    "nombre_exposed        566\n",
    "nombre_recovered    15961\n",
    "Name: 516, dtype: int64"
   ]
  },
  {
   "cell_type": "markdown",
   "id": "e1105a52",
   "metadata": {},
   "source": [
    "nombre_infected       989\n",
    "nombre_sain          2501\n",
    "nombre_exposed        589\n",
    "nombre_recovered    15921\n",
    "Name: 517, dtype: int64"
   ]
  },
  {
   "cell_type": "markdown",
   "id": "2040c0c4",
   "metadata": {},
   "source": [
    "nombre_infected       990\n",
    "nombre_sain          2416\n",
    "nombre_exposed        656\n",
    "nombre_recovered    15938\n",
    "Name: 518, dtype: int64"
   ]
  },
  {
   "cell_type": "markdown",
   "id": "ded3473e",
   "metadata": {},
   "source": [
    "nombre_infected      1009\n",
    "nombre_sain          2377\n",
    "nombre_exposed        655\n",
    "nombre_recovered    15959\n",
    "Name: 519, dtype: int64"
   ]
  },
  {
   "cell_type": "markdown",
   "id": "0586363d",
   "metadata": {},
   "source": [
    "nombre_infected      1055\n",
    "nombre_sain          2351\n",
    "nombre_exposed        648\n",
    "nombre_recovered    15946\n",
    "Name: 520, dtype: int64"
   ]
  },
  {
   "cell_type": "markdown",
   "id": "d0e2e1f8",
   "metadata": {},
   "source": [
    "nombre_infected      1080\n",
    "nombre_sain          2330\n",
    "nombre_exposed        654\n",
    "nombre_recovered    15936\n",
    "Name: 521, dtype: int64"
   ]
  },
  {
   "cell_type": "markdown",
   "id": "41c4ae77",
   "metadata": {},
   "source": [
    "nombre_infected      1108\n",
    "nombre_sain          2320\n",
    "nombre_exposed        654\n",
    "nombre_recovered    15918\n",
    "Name: 522, dtype: int64"
   ]
  },
  {
   "cell_type": "markdown",
   "id": "79c2ba53",
   "metadata": {},
   "source": [
    "nombre_infected      1134\n",
    "nombre_sain          2297\n",
    "nombre_exposed        631\n",
    "nombre_recovered    15938\n",
    "Name: 523, dtype: int64"
   ]
  },
  {
   "cell_type": "markdown",
   "id": "56a3d0ff",
   "metadata": {},
   "source": [
    "nombre_infected      1185\n",
    "nombre_sain          2245\n",
    "nombre_exposed        626\n",
    "nombre_recovered    15944\n",
    "Name: 524, dtype: int64"
   ]
  },
  {
   "cell_type": "markdown",
   "id": "afa689b8",
   "metadata": {},
   "source": [
    "nombre_infected      1193\n",
    "nombre_sain          2234\n",
    "nombre_exposed        622\n",
    "nombre_recovered    15951\n",
    "Name: 525, dtype: int64"
   ]
  },
  {
   "cell_type": "markdown",
   "id": "309891cc",
   "metadata": {},
   "source": [
    "nombre_infected      1211\n",
    "nombre_sain          2181\n",
    "nombre_exposed        633\n",
    "nombre_recovered    15975\n",
    "Name: 526, dtype: int64"
   ]
  },
  {
   "cell_type": "markdown",
   "id": "a793de23",
   "metadata": {},
   "source": [
    "nombre_infected      1179\n",
    "nombre_sain          2164\n",
    "nombre_exposed        639\n",
    "nombre_recovered    16018\n",
    "Name: 527, dtype: int64"
   ]
  },
  {
   "cell_type": "markdown",
   "id": "26121975",
   "metadata": {},
   "source": [
    "nombre_infected      1207\n",
    "nombre_sain          2119\n",
    "nombre_exposed        637\n",
    "nombre_recovered    16037\n",
    "Name: 528, dtype: int64"
   ]
  },
  {
   "cell_type": "markdown",
   "id": "5bd3614c",
   "metadata": {},
   "source": [
    "nombre_infected      1224\n",
    "nombre_sain          2092\n",
    "nombre_exposed        628\n",
    "nombre_recovered    16056\n",
    "Name: 529, dtype: int64"
   ]
  },
  {
   "cell_type": "markdown",
   "id": "d7691e48",
   "metadata": {},
   "source": [
    "nombre_infected      1221\n",
    "nombre_sain          2065\n",
    "nombre_exposed        628\n",
    "nombre_recovered    16086\n",
    "Name: 530, dtype: int64"
   ]
  },
  {
   "cell_type": "markdown",
   "id": "51f08431",
   "metadata": {},
   "source": [
    "nombre_infected      1230\n",
    "nombre_sain          2018\n",
    "nombre_exposed        649\n",
    "nombre_recovered    16103\n",
    "Name: 531, dtype: int64"
   ]
  },
  {
   "cell_type": "markdown",
   "id": "b1904455",
   "metadata": {},
   "source": [
    "nombre_infected      1208\n",
    "nombre_sain          1995\n",
    "nombre_exposed        638\n",
    "nombre_recovered    16159\n",
    "Name: 532, dtype: int64"
   ]
  },
  {
   "cell_type": "markdown",
   "id": "0d3813e6",
   "metadata": {},
   "source": [
    "nombre_infected      1226\n",
    "nombre_sain          1984\n",
    "nombre_exposed        625\n",
    "nombre_recovered    16165\n",
    "Name: 533, dtype: int64"
   ]
  },
  {
   "cell_type": "markdown",
   "id": "49a12ea4",
   "metadata": {},
   "source": [
    "nombre_infected      1251\n",
    "nombre_sain          1935\n",
    "nombre_exposed        629\n",
    "nombre_recovered    16185\n",
    "Name: 534, dtype: int64"
   ]
  },
  {
   "cell_type": "markdown",
   "id": "0b6481d3",
   "metadata": {},
   "source": [
    "nombre_infected      1261\n",
    "nombre_sain          1928\n",
    "nombre_exposed        624\n",
    "nombre_recovered    16187\n",
    "Name: 535, dtype: int64"
   ]
  },
  {
   "cell_type": "markdown",
   "id": "07c79362",
   "metadata": {},
   "source": [
    "nombre_infected      1256\n",
    "nombre_sain          1905\n",
    "nombre_exposed        613\n",
    "nombre_recovered    16226\n",
    "Name: 536, dtype: int64"
   ]
  },
  {
   "cell_type": "markdown",
   "id": "43d6113b",
   "metadata": {},
   "source": [
    "nombre_infected      1267\n",
    "nombre_sain          1872\n",
    "nombre_exposed        600\n",
    "nombre_recovered    16261\n",
    "Name: 537, dtype: int64"
   ]
  },
  {
   "cell_type": "markdown",
   "id": "2dcbbf13",
   "metadata": {},
   "source": [
    "nombre_infected      1258\n",
    "nombre_sain          1820\n",
    "nombre_exposed        611\n",
    "nombre_recovered    16311\n",
    "Name: 538, dtype: int64"
   ]
  },
  {
   "cell_type": "markdown",
   "id": "4de7e85c",
   "metadata": {},
   "source": [
    "nombre_infected      1264\n",
    "nombre_sain          1770\n",
    "nombre_exposed        619\n",
    "nombre_recovered    16347\n",
    "Name: 539, dtype: int64"
   ]
  },
  {
   "cell_type": "markdown",
   "id": "ca20782f",
   "metadata": {},
   "source": [
    "nombre_infected      1278\n",
    "nombre_sain          1727\n",
    "nombre_exposed        615\n",
    "nombre_recovered    16380\n",
    "Name: 540, dtype: int64"
   ]
  },
  {
   "cell_type": "markdown",
   "id": "85721203",
   "metadata": {},
   "source": [
    "nombre_infected      1293\n",
    "nombre_sain          1711\n",
    "nombre_exposed        591\n",
    "nombre_recovered    16405\n",
    "Name: 541, dtype: int64"
   ]
  },
  {
   "cell_type": "markdown",
   "id": "96226681",
   "metadata": {},
   "source": [
    "nombre_infected      1280\n",
    "nombre_sain          1675\n",
    "nombre_exposed        594\n",
    "nombre_recovered    16451\n",
    "Name: 542, dtype: int64"
   ]
  },
  {
   "cell_type": "markdown",
   "id": "95e5ca10",
   "metadata": {},
   "source": [
    "nombre_infected      1273\n",
    "nombre_sain          1674\n",
    "nombre_exposed        580\n",
    "nombre_recovered    16473\n",
    "Name: 543, dtype: int64"
   ]
  },
  {
   "cell_type": "markdown",
   "id": "e8ac2adf",
   "metadata": {},
   "source": [
    "nombre_infected      1277\n",
    "nombre_sain          1670\n",
    "nombre_exposed        551\n",
    "nombre_recovered    16502\n",
    "Name: 544, dtype: int64"
   ]
  },
  {
   "cell_type": "markdown",
   "id": "199c552e",
   "metadata": {},
   "source": [
    "nombre_infected      1235\n",
    "nombre_sain          1702\n",
    "nombre_exposed        506\n",
    "nombre_recovered    16557\n",
    "Name: 545, dtype: int64"
   ]
  },
  {
   "cell_type": "markdown",
   "id": "5af4a6e7",
   "metadata": {},
   "source": [
    "nombre_infected      1220\n",
    "nombre_sain          1689\n",
    "nombre_exposed        502\n",
    "nombre_recovered    16589\n",
    "Name: 546, dtype: int64"
   ]
  },
  {
   "cell_type": "markdown",
   "id": "0ef33ee4",
   "metadata": {},
   "source": [
    "nombre_infected      1179\n",
    "nombre_sain          1685\n",
    "nombre_exposed        492\n",
    "nombre_recovered    16644\n",
    "Name: 547, dtype: int64"
   ]
  },
  {
   "cell_type": "markdown",
   "id": "2b0dc31b",
   "metadata": {},
   "source": [
    "nombre_infected      1163\n",
    "nombre_sain          1670\n",
    "nombre_exposed        476\n",
    "nombre_recovered    16691\n",
    "Name: 548, dtype: int64"
   ]
  },
  {
   "cell_type": "markdown",
   "id": "52c58ebd",
   "metadata": {},
   "source": [
    "nombre_infected      1131\n",
    "nombre_sain          1672\n",
    "nombre_exposed        471\n",
    "nombre_recovered    16726\n",
    "Name: 549, dtype: int64"
   ]
  },
  {
   "cell_type": "markdown",
   "id": "532ded4d",
   "metadata": {},
   "source": [
    "nombre_infected      1101\n",
    "nombre_sain          1680\n",
    "nombre_exposed        458\n",
    "nombre_recovered    16761\n",
    "Name: 550, dtype: int64"
   ]
  },
  {
   "cell_type": "markdown",
   "id": "8edb26e7",
   "metadata": {},
   "source": [
    "nombre_infected      1088\n",
    "nombre_sain          1705\n",
    "nombre_exposed        443\n",
    "nombre_recovered    16764\n",
    "Name: 551, dtype: int64"
   ]
  },
  {
   "cell_type": "markdown",
   "id": "0a290332",
   "metadata": {},
   "source": [
    "nombre_infected      1065\n",
    "nombre_sain          1742\n",
    "nombre_exposed        428\n",
    "nombre_recovered    16765\n",
    "Name: 552, dtype: int64"
   ]
  },
  {
   "cell_type": "markdown",
   "id": "2e143c9b",
   "metadata": {},
   "source": [
    "nombre_infected      1043\n",
    "nombre_sain          1746\n",
    "nombre_exposed        439\n",
    "nombre_recovered    16772\n",
    "Name: 553, dtype: int64"
   ]
  },
  {
   "cell_type": "markdown",
   "id": "e569313f",
   "metadata": {},
   "source": [
    "nombre_infected      1023\n",
    "nombre_sain          1754\n",
    "nombre_exposed        430\n",
    "nombre_recovered    16793\n",
    "Name: 554, dtype: int64"
   ]
  },
  {
   "cell_type": "markdown",
   "id": "52700030",
   "metadata": {},
   "source": [
    "nombre_infected      1022\n",
    "nombre_sain          1773\n",
    "nombre_exposed        429\n",
    "nombre_recovered    16776\n",
    "Name: 555, dtype: int64"
   ]
  },
  {
   "cell_type": "markdown",
   "id": "30b489f1",
   "metadata": {},
   "source": [
    "nombre_infected      1030\n",
    "nombre_sain          1788\n",
    "nombre_exposed        405\n",
    "nombre_recovered    16777\n",
    "Name: 556, dtype: int64"
   ]
  },
  {
   "cell_type": "markdown",
   "id": "6128f18a",
   "metadata": {},
   "source": [
    "nombre_infected      1044\n",
    "nombre_sain          1791\n",
    "nombre_exposed        397\n",
    "nombre_recovered    16768\n",
    "Name: 557, dtype: int64"
   ]
  },
  {
   "cell_type": "markdown",
   "id": "7a7f6d1f",
   "metadata": {},
   "source": [
    "nombre_infected      1018\n",
    "nombre_sain          1787\n",
    "nombre_exposed        420\n",
    "nombre_recovered    16775\n",
    "Name: 558, dtype: int64"
   ]
  },
  {
   "cell_type": "markdown",
   "id": "b1acffa4",
   "metadata": {},
   "source": [
    "nombre_infected       992\n",
    "nombre_sain          1798\n",
    "nombre_exposed        429\n",
    "nombre_recovered    16781\n",
    "Name: 559, dtype: int64"
   ]
  },
  {
   "cell_type": "markdown",
   "id": "f787a734",
   "metadata": {},
   "source": [
    "nombre_infected       982\n",
    "nombre_sain          1810\n",
    "nombre_exposed        428\n",
    "nombre_recovered    16780\n",
    "Name: 560, dtype: int64"
   ]
  },
  {
   "cell_type": "markdown",
   "id": "9e643d83",
   "metadata": {},
   "source": [
    "nombre_infected       956\n",
    "nombre_sain          1827\n",
    "nombre_exposed        446\n",
    "nombre_recovered    16771\n",
    "Name: 561, dtype: int64"
   ]
  },
  {
   "cell_type": "markdown",
   "id": "dedc2b35",
   "metadata": {},
   "source": [
    "nombre_infected       968\n",
    "nombre_sain          1827\n",
    "nombre_exposed        445\n",
    "nombre_recovered    16760\n",
    "Name: 562, dtype: int64"
   ]
  },
  {
   "cell_type": "markdown",
   "id": "494efa5f",
   "metadata": {},
   "source": [
    "nombre_infected       983\n",
    "nombre_sain          1845\n",
    "nombre_exposed        424\n",
    "nombre_recovered    16748\n",
    "Name: 563, dtype: int64"
   ]
  },
  {
   "cell_type": "markdown",
   "id": "9fe71735",
   "metadata": {},
   "source": [
    "nombre_infected       991\n",
    "nombre_sain          1887\n",
    "nombre_exposed        402\n",
    "nombre_recovered    16720\n",
    "Name: 564, dtype: int64"
   ]
  },
  {
   "cell_type": "markdown",
   "id": "95e3db2a",
   "metadata": {},
   "source": [
    "nombre_infected       965\n",
    "nombre_sain          1924\n",
    "nombre_exposed        399\n",
    "nombre_recovered    16712\n",
    "Name: 565, dtype: int64"
   ]
  },
  {
   "cell_type": "markdown",
   "id": "7c6662a5",
   "metadata": {},
   "source": [
    "nombre_infected       952\n",
    "nombre_sain          1925\n",
    "nombre_exposed        414\n",
    "nombre_recovered    16709\n",
    "Name: 566, dtype: int64"
   ]
  },
  {
   "cell_type": "markdown",
   "id": "b0a47bf8",
   "metadata": {},
   "source": [
    "nombre_infected       937\n",
    "nombre_sain          1954\n",
    "nombre_exposed        422\n",
    "nombre_recovered    16687\n",
    "Name: 567, dtype: int64"
   ]
  },
  {
   "cell_type": "markdown",
   "id": "a914a14c",
   "metadata": {},
   "source": [
    "nombre_infected       942\n",
    "nombre_sain          1948\n",
    "nombre_exposed        437\n",
    "nombre_recovered    16673\n",
    "Name: 568, dtype: int64"
   ]
  },
  {
   "cell_type": "markdown",
   "id": "683c20e6",
   "metadata": {},
   "source": [
    "nombre_infected       951\n",
    "nombre_sain          1959\n",
    "nombre_exposed        429\n",
    "nombre_recovered    16661\n",
    "Name: 569, dtype: int64"
   ]
  },
  {
   "cell_type": "markdown",
   "id": "a3e47342",
   "metadata": {},
   "source": [
    "nombre_infected       951\n",
    "nombre_sain          1962\n",
    "nombre_exposed        442\n",
    "nombre_recovered    16645\n",
    "Name: 570, dtype: int64"
   ]
  },
  {
   "cell_type": "markdown",
   "id": "ab03aea7",
   "metadata": {},
   "source": [
    "nombre_infected       959\n",
    "nombre_sain          1948\n",
    "nombre_exposed        449\n",
    "nombre_recovered    16644\n",
    "Name: 571, dtype: int64"
   ]
  },
  {
   "cell_type": "markdown",
   "id": "9eb0428c",
   "metadata": {},
   "source": [
    "nombre_infected       944\n",
    "nombre_sain          1960\n",
    "nombre_exposed        462\n",
    "nombre_recovered    16634\n",
    "Name: 572, dtype: int64"
   ]
  },
  {
   "cell_type": "markdown",
   "id": "b8deef61",
   "metadata": {},
   "source": [
    "nombre_infected       923\n",
    "nombre_sain          1984\n",
    "nombre_exposed        458\n",
    "nombre_recovered    16635\n",
    "Name: 573, dtype: int64"
   ]
  },
  {
   "cell_type": "markdown",
   "id": "9a5922e0",
   "metadata": {},
   "source": [
    "nombre_infected       934\n",
    "nombre_sain          1968\n",
    "nombre_exposed        465\n",
    "nombre_recovered    16633\n",
    "Name: 574, dtype: int64"
   ]
  },
  {
   "cell_type": "markdown",
   "id": "64d4564a",
   "metadata": {},
   "source": [
    "nombre_infected       958\n",
    "nombre_sain          1960\n",
    "nombre_exposed        464\n",
    "nombre_recovered    16618\n",
    "Name: 575, dtype: int64"
   ]
  },
  {
   "cell_type": "markdown",
   "id": "cba0070e",
   "metadata": {},
   "source": [
    "nombre_infected       970\n",
    "nombre_sain          1952\n",
    "nombre_exposed        464\n",
    "nombre_recovered    16614\n",
    "Name: 576, dtype: int64"
   ]
  },
  {
   "cell_type": "markdown",
   "id": "74706592",
   "metadata": {},
   "source": [
    "nombre_infected       982\n",
    "nombre_sain          1959\n",
    "nombre_exposed        455\n",
    "nombre_recovered    16604\n",
    "Name: 577, dtype: int64"
   ]
  },
  {
   "cell_type": "markdown",
   "id": "c574738e",
   "metadata": {},
   "source": [
    "nombre_infected       985\n",
    "nombre_sain          1937\n",
    "nombre_exposed        471\n",
    "nombre_recovered    16607\n",
    "Name: 578, dtype: int64"
   ]
  },
  {
   "cell_type": "markdown",
   "id": "312c4333",
   "metadata": {},
   "source": [
    "nombre_infected       968\n",
    "nombre_sain          1945\n",
    "nombre_exposed        471\n",
    "nombre_recovered    16616\n",
    "Name: 579, dtype: int64"
   ]
  },
  {
   "cell_type": "markdown",
   "id": "624db9de",
   "metadata": {},
   "source": [
    "nombre_infected      1010\n",
    "nombre_sain          1946\n",
    "nombre_exposed        451\n",
    "nombre_recovered    16593\n",
    "Name: 580, dtype: int64"
   ]
  },
  {
   "cell_type": "markdown",
   "id": "0c48b2b7",
   "metadata": {},
   "source": [
    "nombre_infected       985\n",
    "nombre_sain          1963\n",
    "nombre_exposed        463\n",
    "nombre_recovered    16589\n",
    "Name: 581, dtype: int64"
   ]
  },
  {
   "cell_type": "markdown",
   "id": "6753d83e",
   "metadata": {},
   "source": [
    "nombre_infected       999\n",
    "nombre_sain          1961\n",
    "nombre_exposed        469\n",
    "nombre_recovered    16571\n",
    "Name: 582, dtype: int64"
   ]
  },
  {
   "cell_type": "markdown",
   "id": "c509c974",
   "metadata": {},
   "source": [
    "nombre_infected       982\n",
    "nombre_sain          1966\n",
    "nombre_exposed        486\n",
    "nombre_recovered    16566\n",
    "Name: 583, dtype: int64"
   ]
  },
  {
   "cell_type": "markdown",
   "id": "ab7eae5d",
   "metadata": {},
   "source": [
    "nombre_infected       987\n",
    "nombre_sain          1941\n",
    "nombre_exposed        489\n",
    "nombre_recovered    16583\n",
    "Name: 584, dtype: int64"
   ]
  },
  {
   "cell_type": "markdown",
   "id": "81314475",
   "metadata": {},
   "source": [
    "nombre_infected       973\n",
    "nombre_sain          1955\n",
    "nombre_exposed        484\n",
    "nombre_recovered    16588\n",
    "Name: 585, dtype: int64"
   ]
  },
  {
   "cell_type": "markdown",
   "id": "d6ca8dd0",
   "metadata": {},
   "source": [
    "nombre_infected       990\n",
    "nombre_sain          1936\n",
    "nombre_exposed        479\n",
    "nombre_recovered    16595\n",
    "Name: 586, dtype: int64"
   ]
  },
  {
   "cell_type": "markdown",
   "id": "837deaf4",
   "metadata": {},
   "source": [
    "nombre_infected       994\n",
    "nombre_sain          1946\n",
    "nombre_exposed        448\n",
    "nombre_recovered    16612\n",
    "Name: 587, dtype: int64"
   ]
  },
  {
   "cell_type": "markdown",
   "id": "c0f4f5e6",
   "metadata": {},
   "source": [
    "nombre_infected       980\n",
    "nombre_sain          1941\n",
    "nombre_exposed        446\n",
    "nombre_recovered    16633\n",
    "Name: 588, dtype: int64"
   ]
  },
  {
   "cell_type": "markdown",
   "id": "c390fb08",
   "metadata": {},
   "source": [
    "nombre_infected       973\n",
    "nombre_sain          1939\n",
    "nombre_exposed        448\n",
    "nombre_recovered    16640\n",
    "Name: 589, dtype: int64"
   ]
  },
  {
   "cell_type": "markdown",
   "id": "f3ab9938",
   "metadata": {},
   "source": [
    "nombre_infected       938\n",
    "nombre_sain          1949\n",
    "nombre_exposed        466\n",
    "nombre_recovered    16647\n",
    "Name: 590, dtype: int64"
   ]
  },
  {
   "cell_type": "markdown",
   "id": "02c83c15",
   "metadata": {},
   "source": [
    "nombre_infected       967\n",
    "nombre_sain          1953\n",
    "nombre_exposed        447\n",
    "nombre_recovered    16633\n",
    "Name: 591, dtype: int64"
   ]
  },
  {
   "cell_type": "markdown",
   "id": "983933be",
   "metadata": {},
   "source": [
    "nombre_infected       966\n",
    "nombre_sain          1971\n",
    "nombre_exposed        448\n",
    "nombre_recovered    16615\n",
    "Name: 592, dtype: int64"
   ]
  },
  {
   "cell_type": "markdown",
   "id": "26f39c1e",
   "metadata": {},
   "source": [
    "nombre_infected       959\n",
    "nombre_sain          1952\n",
    "nombre_exposed        461\n",
    "nombre_recovered    16628\n",
    "Name: 593, dtype: int64"
   ]
  },
  {
   "cell_type": "markdown",
   "id": "d0f5255c",
   "metadata": {},
   "source": [
    "nombre_infected       956\n",
    "nombre_sain          1971\n",
    "nombre_exposed        433\n",
    "nombre_recovered    16640\n",
    "Name: 594, dtype: int64"
   ]
  },
  {
   "cell_type": "markdown",
   "id": "40fc3e89",
   "metadata": {},
   "source": [
    "nombre_infected       927\n",
    "nombre_sain          1969\n",
    "nombre_exposed        461\n",
    "nombre_recovered    16643\n",
    "Name: 595, dtype: int64"
   ]
  },
  {
   "cell_type": "markdown",
   "id": "b4541187",
   "metadata": {},
   "source": [
    "nombre_infected       934\n",
    "nombre_sain          1927\n",
    "nombre_exposed        488\n",
    "nombre_recovered    16651\n",
    "Name: 596, dtype: int64"
   ]
  },
  {
   "cell_type": "markdown",
   "id": "99b4880b",
   "metadata": {},
   "source": [
    "nombre_infected       946\n",
    "nombre_sain          1928\n",
    "nombre_exposed        481\n",
    "nombre_recovered    16645\n",
    "Name: 597, dtype: int64"
   ]
  },
  {
   "cell_type": "markdown",
   "id": "4b43cb68",
   "metadata": {},
   "source": [
    "nombre_infected       951\n",
    "nombre_sain          1897\n",
    "nombre_exposed        476\n",
    "nombre_recovered    16676\n",
    "Name: 598, dtype: int64"
   ]
  },
  {
   "cell_type": "markdown",
   "id": "e8d31d66",
   "metadata": {},
   "source": [
    "nombre_infected       980\n",
    "nombre_sain          1877\n",
    "nombre_exposed        456\n",
    "nombre_recovered    16687\n",
    "Name: 599, dtype: int64"
   ]
  },
  {
   "cell_type": "markdown",
   "id": "20fec775",
   "metadata": {},
   "source": [
    "nombre_infected       979\n",
    "nombre_sain          1868\n",
    "nombre_exposed        467\n",
    "nombre_recovered    16686\n",
    "Name: 600, dtype: int64"
   ]
  },
  {
   "cell_type": "markdown",
   "id": "e6b496d6",
   "metadata": {},
   "source": [
    "nombre_infected       988\n",
    "nombre_sain          1852\n",
    "nombre_exposed        456\n",
    "nombre_recovered    16704\n",
    "Name: 601, dtype: int64"
   ]
  },
  {
   "cell_type": "markdown",
   "id": "3d4d80d0",
   "metadata": {},
   "source": [
    "nombre_infected       983\n",
    "nombre_sain          1836\n",
    "nombre_exposed        447\n",
    "nombre_recovered    16734\n",
    "Name: 602, dtype: int64"
   ]
  },
  {
   "cell_type": "markdown",
   "id": "f8d0bde1",
   "metadata": {},
   "source": [
    "nombre_infected       975\n",
    "nombre_sain          1842\n",
    "nombre_exposed        437\n",
    "nombre_recovered    16746\n",
    "Name: 603, dtype: int64"
   ]
  },
  {
   "cell_type": "markdown",
   "id": "4fd66116",
   "metadata": {},
   "source": [
    "nombre_infected       981\n",
    "nombre_sain          1839\n",
    "nombre_exposed        432\n",
    "nombre_recovered    16748\n",
    "Name: 604, dtype: int64"
   ]
  },
  {
   "cell_type": "markdown",
   "id": "da0bf249",
   "metadata": {},
   "source": [
    "nombre_infected       965\n",
    "nombre_sain          1853\n",
    "nombre_exposed        422\n",
    "nombre_recovered    16760\n",
    "Name: 605, dtype: int64"
   ]
  },
  {
   "cell_type": "markdown",
   "id": "b30e2ecf",
   "metadata": {},
   "source": [
    "nombre_infected       938\n",
    "nombre_sain          1857\n",
    "nombre_exposed        404\n",
    "nombre_recovered    16801\n",
    "Name: 606, dtype: int64"
   ]
  },
  {
   "cell_type": "markdown",
   "id": "de009fc0",
   "metadata": {},
   "source": [
    "nombre_infected       919\n",
    "nombre_sain          1869\n",
    "nombre_exposed        411\n",
    "nombre_recovered    16801\n",
    "Name: 607, dtype: int64"
   ]
  },
  {
   "cell_type": "markdown",
   "id": "cb1f85fb",
   "metadata": {},
   "source": [
    "nombre_infected       905\n",
    "nombre_sain          1857\n",
    "nombre_exposed        409\n",
    "nombre_recovered    16829\n",
    "Name: 608, dtype: int64"
   ]
  },
  {
   "cell_type": "markdown",
   "id": "c4ef073b",
   "metadata": {},
   "source": [
    "nombre_infected       910\n",
    "nombre_sain          1853\n",
    "nombre_exposed        403\n",
    "nombre_recovered    16834\n",
    "Name: 609, dtype: int64"
   ]
  },
  {
   "cell_type": "markdown",
   "id": "936f2f30",
   "metadata": {},
   "source": [
    "nombre_infected       894\n",
    "nombre_sain          1854\n",
    "nombre_exposed        402\n",
    "nombre_recovered    16850\n",
    "Name: 610, dtype: int64"
   ]
  },
  {
   "cell_type": "markdown",
   "id": "a1074d8a",
   "metadata": {},
   "source": [
    "nombre_infected       873\n",
    "nombre_sain          1855\n",
    "nombre_exposed        408\n",
    "nombre_recovered    16864\n",
    "Name: 611, dtype: int64"
   ]
  },
  {
   "cell_type": "markdown",
   "id": "8db5f44e",
   "metadata": {},
   "source": [
    "nombre_infected       887\n",
    "nombre_sain          1859\n",
    "nombre_exposed        396\n",
    "nombre_recovered    16858\n",
    "Name: 612, dtype: int64"
   ]
  },
  {
   "cell_type": "markdown",
   "id": "9e382661",
   "metadata": {},
   "source": [
    "nombre_infected       874\n",
    "nombre_sain          1868\n",
    "nombre_exposed        402\n",
    "nombre_recovered    16856\n",
    "Name: 613, dtype: int64"
   ]
  },
  {
   "cell_type": "markdown",
   "id": "2c531f1c",
   "metadata": {},
   "source": [
    "nombre_infected       868\n",
    "nombre_sain          1861\n",
    "nombre_exposed        405\n",
    "nombre_recovered    16866\n",
    "Name: 614, dtype: int64"
   ]
  },
  {
   "cell_type": "markdown",
   "id": "a8d01998",
   "metadata": {},
   "source": [
    "nombre_infected       864\n",
    "nombre_sain          1851\n",
    "nombre_exposed        398\n",
    "nombre_recovered    16887\n",
    "Name: 615, dtype: int64"
   ]
  },
  {
   "cell_type": "markdown",
   "id": "8fe975bb",
   "metadata": {},
   "source": [
    "nombre_infected       874\n",
    "nombre_sain          1873\n",
    "nombre_exposed        380\n",
    "nombre_recovered    16873\n",
    "Name: 616, dtype: int64"
   ]
  },
  {
   "cell_type": "markdown",
   "id": "e60c49fd",
   "metadata": {},
   "source": [
    "nombre_infected       862\n",
    "nombre_sain          1898\n",
    "nombre_exposed        365\n",
    "nombre_recovered    16875\n",
    "Name: 617, dtype: int64"
   ]
  },
  {
   "cell_type": "markdown",
   "id": "371137df",
   "metadata": {},
   "source": [
    "nombre_infected       844\n",
    "nombre_sain          1931\n",
    "nombre_exposed        361\n",
    "nombre_recovered    16864\n",
    "Name: 618, dtype: int64"
   ]
  },
  {
   "cell_type": "markdown",
   "id": "ee4676c3",
   "metadata": {},
   "source": [
    "nombre_infected       799\n",
    "nombre_sain          1935\n",
    "nombre_exposed        384\n",
    "nombre_recovered    16882\n",
    "Name: 619, dtype: int64"
   ]
  },
  {
   "cell_type": "markdown",
   "id": "68d3229c",
   "metadata": {},
   "source": [
    "nombre_infected       799\n",
    "nombre_sain          1945\n",
    "nombre_exposed        377\n",
    "nombre_recovered    16879\n",
    "Name: 620, dtype: int64"
   ]
  },
  {
   "cell_type": "markdown",
   "id": "058ec172",
   "metadata": {},
   "source": [
    "nombre_infected       802\n",
    "nombre_sain          1934\n",
    "nombre_exposed        393\n",
    "nombre_recovered    16871\n",
    "Name: 621, dtype: int64"
   ]
  },
  {
   "cell_type": "markdown",
   "id": "0127640a",
   "metadata": {},
   "source": [
    "nombre_infected       806\n",
    "nombre_sain          1961\n",
    "nombre_exposed        373\n",
    "nombre_recovered    16860\n",
    "Name: 622, dtype: int64"
   ]
  },
  {
   "cell_type": "markdown",
   "id": "1a0e0bc1",
   "metadata": {},
   "source": [
    "nombre_infected       823\n",
    "nombre_sain          1961\n",
    "nombre_exposed        358\n",
    "nombre_recovered    16858\n",
    "Name: 623, dtype: int64"
   ]
  },
  {
   "cell_type": "markdown",
   "id": "c1d29153",
   "metadata": {},
   "source": [
    "nombre_infected       813\n",
    "nombre_sain          2003\n",
    "nombre_exposed        346\n",
    "nombre_recovered    16838\n",
    "Name: 624, dtype: int64"
   ]
  },
  {
   "cell_type": "markdown",
   "id": "7898066d",
   "metadata": {},
   "source": [
    "nombre_infected       807\n",
    "nombre_sain          2020\n",
    "nombre_exposed        350\n",
    "nombre_recovered    16823\n",
    "Name: 625, dtype: int64"
   ]
  },
  {
   "cell_type": "markdown",
   "id": "c8933436",
   "metadata": {},
   "source": [
    "nombre_infected       798\n",
    "nombre_sain          2023\n",
    "nombre_exposed        351\n",
    "nombre_recovered    16828\n",
    "Name: 626, dtype: int64"
   ]
  },
  {
   "cell_type": "markdown",
   "id": "a199845c",
   "metadata": {},
   "source": [
    "nombre_infected       785\n",
    "nombre_sain          2048\n",
    "nombre_exposed        348\n",
    "nombre_recovered    16819\n",
    "Name: 627, dtype: int64"
   ]
  },
  {
   "cell_type": "markdown",
   "id": "5a502316",
   "metadata": {},
   "source": [
    "nombre_infected       776\n",
    "nombre_sain          2075\n",
    "nombre_exposed        332\n",
    "nombre_recovered    16817\n",
    "Name: 628, dtype: int64"
   ]
  },
  {
   "cell_type": "markdown",
   "id": "f81b609e",
   "metadata": {},
   "source": [
    "nombre_infected       768\n",
    "nombre_sain          2070\n",
    "nombre_exposed        352\n",
    "nombre_recovered    16810\n",
    "Name: 629, dtype: int64"
   ]
  },
  {
   "cell_type": "markdown",
   "id": "c045f0bb",
   "metadata": {},
   "source": [
    "nombre_infected       784\n",
    "nombre_sain          2061\n",
    "nombre_exposed        354\n",
    "nombre_recovered    16801\n",
    "Name: 630, dtype: int64"
   ]
  },
  {
   "cell_type": "markdown",
   "id": "5dab79bb",
   "metadata": {},
   "source": [
    "nombre_infected       771\n",
    "nombre_sain          2049\n",
    "nombre_exposed        374\n",
    "nombre_recovered    16806\n",
    "Name: 631, dtype: int64"
   ]
  },
  {
   "cell_type": "markdown",
   "id": "c40d08b2",
   "metadata": {},
   "source": [
    "nombre_infected       767\n",
    "nombre_sain          2039\n",
    "nombre_exposed        397\n",
    "nombre_recovered    16797\n",
    "Name: 632, dtype: int64"
   ]
  },
  {
   "cell_type": "markdown",
   "id": "158b6fd3",
   "metadata": {},
   "source": [
    "nombre_infected       762\n",
    "nombre_sain          2040\n",
    "nombre_exposed        405\n",
    "nombre_recovered    16793\n",
    "Name: 633, dtype: int64"
   ]
  },
  {
   "cell_type": "markdown",
   "id": "f324ccdb",
   "metadata": {},
   "source": [
    "nombre_infected       778\n",
    "nombre_sain          2061\n",
    "nombre_exposed        389\n",
    "nombre_recovered    16772\n",
    "Name: 634, dtype: int64"
   ]
  },
  {
   "cell_type": "markdown",
   "id": "57df16de",
   "metadata": {},
   "source": [
    "nombre_infected       782\n",
    "nombre_sain          2064\n",
    "nombre_exposed        373\n",
    "nombre_recovered    16781\n",
    "Name: 635, dtype: int64"
   ]
  },
  {
   "cell_type": "markdown",
   "id": "936646d3",
   "metadata": {},
   "source": [
    "nombre_infected       780\n",
    "nombre_sain          2062\n",
    "nombre_exposed        375\n",
    "nombre_recovered    16783\n",
    "Name: 636, dtype: int64"
   ]
  },
  {
   "cell_type": "markdown",
   "id": "3f09a310",
   "metadata": {},
   "source": [
    "nombre_infected       787\n",
    "nombre_sain          2058\n",
    "nombre_exposed        379\n",
    "nombre_recovered    16776\n",
    "Name: 637, dtype: int64"
   ]
  },
  {
   "cell_type": "markdown",
   "id": "32b0c337",
   "metadata": {},
   "source": [
    "nombre_infected       782\n",
    "nombre_sain          2055\n",
    "nombre_exposed        391\n",
    "nombre_recovered    16772\n",
    "Name: 638, dtype: int64"
   ]
  },
  {
   "cell_type": "markdown",
   "id": "271327a6",
   "metadata": {},
   "source": [
    "nombre_infected       788\n",
    "nombre_sain          2054\n",
    "nombre_exposed        398\n",
    "nombre_recovered    16760\n",
    "Name: 639, dtype: int64"
   ]
  },
  {
   "cell_type": "markdown",
   "id": "d6382068",
   "metadata": {},
   "source": [
    "nombre_infected       801\n",
    "nombre_sain          2052\n",
    "nombre_exposed        389\n",
    "nombre_recovered    16758\n",
    "Name: 640, dtype: int64"
   ]
  },
  {
   "cell_type": "markdown",
   "id": "2dc2576e",
   "metadata": {},
   "source": [
    "nombre_infected       802\n",
    "nombre_sain          2060\n",
    "nombre_exposed        384\n",
    "nombre_recovered    16754\n",
    "Name: 641, dtype: int64"
   ]
  },
  {
   "cell_type": "markdown",
   "id": "458f39b7",
   "metadata": {},
   "source": [
    "nombre_infected       791\n",
    "nombre_sain          2068\n",
    "nombre_exposed        393\n",
    "nombre_recovered    16748\n",
    "Name: 642, dtype: int64"
   ]
  },
  {
   "cell_type": "markdown",
   "id": "50c63302",
   "metadata": {},
   "source": [
    "nombre_infected       782\n",
    "nombre_sain          2061\n",
    "nombre_exposed        400\n",
    "nombre_recovered    16757\n",
    "Name: 643, dtype: int64"
   ]
  },
  {
   "cell_type": "markdown",
   "id": "395306da",
   "metadata": {},
   "source": [
    "nombre_infected       780\n",
    "nombre_sain          2091\n",
    "nombre_exposed        396\n",
    "nombre_recovered    16733\n",
    "Name: 644, dtype: int64"
   ]
  },
  {
   "cell_type": "markdown",
   "id": "909c7a74",
   "metadata": {},
   "source": [
    "nombre_infected       791\n",
    "nombre_sain          2093\n",
    "nombre_exposed        376\n",
    "nombre_recovered    16740\n",
    "Name: 645, dtype: int64"
   ]
  },
  {
   "cell_type": "markdown",
   "id": "b832779b",
   "metadata": {},
   "source": [
    "nombre_infected       797\n",
    "nombre_sain          2111\n",
    "nombre_exposed        374\n",
    "nombre_recovered    16718\n",
    "Name: 646, dtype: int64"
   ]
  },
  {
   "cell_type": "markdown",
   "id": "2e836486",
   "metadata": {},
   "source": [
    "nombre_infected       783\n",
    "nombre_sain          2117\n",
    "nombre_exposed        377\n",
    "nombre_recovered    16723\n",
    "Name: 647, dtype: int64"
   ]
  },
  {
   "cell_type": "markdown",
   "id": "2dece0f1",
   "metadata": {},
   "source": [
    "nombre_infected       779\n",
    "nombre_sain          2137\n",
    "nombre_exposed        367\n",
    "nombre_recovered    16717\n",
    "Name: 648, dtype: int64"
   ]
  },
  {
   "cell_type": "markdown",
   "id": "2d8cc94d",
   "metadata": {},
   "source": [
    "nombre_infected       784\n",
    "nombre_sain          2162\n",
    "nombre_exposed        352\n",
    "nombre_recovered    16702\n",
    "Name: 649, dtype: int64"
   ]
  },
  {
   "cell_type": "markdown",
   "id": "d03a6774",
   "metadata": {},
   "source": [
    "nombre_infected       770\n",
    "nombre_sain          2155\n",
    "nombre_exposed        373\n",
    "nombre_recovered    16702\n",
    "Name: 650, dtype: int64"
   ]
  },
  {
   "cell_type": "markdown",
   "id": "7cebb4ea",
   "metadata": {},
   "source": [
    "nombre_infected       745\n",
    "nombre_sain          2144\n",
    "nombre_exposed        404\n",
    "nombre_recovered    16707\n",
    "Name: 651, dtype: int64"
   ]
  },
  {
   "cell_type": "markdown",
   "id": "c90d78a3",
   "metadata": {},
   "source": [
    "nombre_infected       723\n",
    "nombre_sain          2166\n",
    "nombre_exposed        405\n",
    "nombre_recovered    16706\n",
    "Name: 652, dtype: int64"
   ]
  },
  {
   "cell_type": "markdown",
   "id": "710ff287",
   "metadata": {},
   "source": [
    "nombre_infected       744\n",
    "nombre_sain          2175\n",
    "nombre_exposed        401\n",
    "nombre_recovered    16680\n",
    "Name: 653, dtype: int64"
   ]
  },
  {
   "cell_type": "markdown",
   "id": "bcb19ff1",
   "metadata": {},
   "source": [
    "nombre_infected       755\n",
    "nombre_sain          2190\n",
    "nombre_exposed        400\n",
    "nombre_recovered    16655\n",
    "Name: 654, dtype: int64"
   ]
  },
  {
   "cell_type": "markdown",
   "id": "ea1e8ff1",
   "metadata": {},
   "source": [
    "nombre_infected       751\n",
    "nombre_sain          2200\n",
    "nombre_exposed        403\n",
    "nombre_recovered    16646\n",
    "Name: 655, dtype: int64"
   ]
  },
  {
   "cell_type": "markdown",
   "id": "2228c738",
   "metadata": {},
   "source": [
    "nombre_infected       765\n",
    "nombre_sain          2213\n",
    "nombre_exposed        399\n",
    "nombre_recovered    16623\n",
    "Name: 656, dtype: int64"
   ]
  },
  {
   "cell_type": "markdown",
   "id": "422f9f94",
   "metadata": {},
   "source": [
    "nombre_infected       770\n",
    "nombre_sain          2230\n",
    "nombre_exposed        403\n",
    "nombre_recovered    16597\n",
    "Name: 657, dtype: int64"
   ]
  },
  {
   "cell_type": "markdown",
   "id": "c4f61327",
   "metadata": {},
   "source": [
    "nombre_infected       799\n",
    "nombre_sain          2255\n",
    "nombre_exposed        385\n",
    "nombre_recovered    16561\n",
    "Name: 658, dtype: int64"
   ]
  },
  {
   "cell_type": "markdown",
   "id": "f6fd746b",
   "metadata": {},
   "source": [
    "nombre_infected       803\n",
    "nombre_sain          2249\n",
    "nombre_exposed        409\n",
    "nombre_recovered    16539\n",
    "Name: 659, dtype: int64"
   ]
  },
  {
   "cell_type": "markdown",
   "id": "0c98e847",
   "metadata": {},
   "source": [
    "nombre_infected       827\n",
    "nombre_sain          2260\n",
    "nombre_exposed        414\n",
    "nombre_recovered    16499\n",
    "Name: 660, dtype: int64"
   ]
  },
  {
   "cell_type": "markdown",
   "id": "9f6ebd91",
   "metadata": {},
   "source": [
    "nombre_infected       839\n",
    "nombre_sain          2286\n",
    "nombre_exposed        419\n",
    "nombre_recovered    16456\n",
    "Name: 661, dtype: int64"
   ]
  },
  {
   "cell_type": "markdown",
   "id": "719723e3",
   "metadata": {},
   "source": [
    "nombre_infected       848\n",
    "nombre_sain          2275\n",
    "nombre_exposed        442\n",
    "nombre_recovered    16435\n",
    "Name: 662, dtype: int64"
   ]
  },
  {
   "cell_type": "markdown",
   "id": "b0f04bc9",
   "metadata": {},
   "source": [
    "nombre_infected       845\n",
    "nombre_sain          2281\n",
    "nombre_exposed        473\n",
    "nombre_recovered    16401\n",
    "Name: 663, dtype: int64"
   ]
  },
  {
   "cell_type": "markdown",
   "id": "d7d9f18c",
   "metadata": {},
   "source": [
    "nombre_infected       861\n",
    "nombre_sain          2292\n",
    "nombre_exposed        488\n",
    "nombre_recovered    16359\n",
    "Name: 664, dtype: int64"
   ]
  },
  {
   "cell_type": "markdown",
   "id": "4dfbf27d",
   "metadata": {},
   "source": [
    "nombre_infected       857\n",
    "nombre_sain          2306\n",
    "nombre_exposed        487\n",
    "nombre_recovered    16350\n",
    "Name: 665, dtype: int64"
   ]
  },
  {
   "cell_type": "markdown",
   "id": "8e055bcb",
   "metadata": {},
   "source": [
    "nombre_infected       868\n",
    "nombre_sain          2338\n",
    "nombre_exposed        460\n",
    "nombre_recovered    16334\n",
    "Name: 666, dtype: int64"
   ]
  },
  {
   "cell_type": "markdown",
   "id": "73d7fa4a",
   "metadata": {},
   "source": [
    "nombre_infected       893\n",
    "nombre_sain          2342\n",
    "nombre_exposed        443\n",
    "nombre_recovered    16322\n",
    "Name: 667, dtype: int64"
   ]
  },
  {
   "cell_type": "markdown",
   "id": "b29822ad",
   "metadata": {},
   "source": [
    "nombre_infected       908\n",
    "nombre_sain          2319\n",
    "nombre_exposed        464\n",
    "nombre_recovered    16309\n",
    "Name: 668, dtype: int64"
   ]
  },
  {
   "cell_type": "markdown",
   "id": "f0930303",
   "metadata": {},
   "source": [
    "nombre_infected       892\n",
    "nombre_sain          2314\n",
    "nombre_exposed        480\n",
    "nombre_recovered    16314\n",
    "Name: 669, dtype: int64"
   ]
  },
  {
   "cell_type": "markdown",
   "id": "95d78422",
   "metadata": {},
   "source": [
    "nombre_infected       909\n",
    "nombre_sain          2299\n",
    "nombre_exposed        483\n",
    "nombre_recovered    16309\n",
    "Name: 670, dtype: int64"
   ]
  },
  {
   "cell_type": "markdown",
   "id": "2da9cfab",
   "metadata": {},
   "source": [
    "nombre_infected       923\n",
    "nombre_sain          2311\n",
    "nombre_exposed        469\n",
    "nombre_recovered    16297\n",
    "Name: 671, dtype: int64"
   ]
  },
  {
   "cell_type": "markdown",
   "id": "84b07e34",
   "metadata": {},
   "source": [
    "nombre_infected       907\n",
    "nombre_sain          2290\n",
    "nombre_exposed        490\n",
    "nombre_recovered    16313\n",
    "Name: 672, dtype: int64"
   ]
  },
  {
   "cell_type": "markdown",
   "id": "26e31714",
   "metadata": {},
   "source": [
    "nombre_infected       907\n",
    "nombre_sain          2290\n",
    "nombre_exposed        478\n",
    "nombre_recovered    16325\n",
    "Name: 673, dtype: int64"
   ]
  },
  {
   "cell_type": "markdown",
   "id": "a813b755",
   "metadata": {},
   "source": [
    "nombre_infected       921\n",
    "nombre_sain          2271\n",
    "nombre_exposed        495\n",
    "nombre_recovered    16313\n",
    "Name: 674, dtype: int64"
   ]
  },
  {
   "cell_type": "markdown",
   "id": "86c0c151",
   "metadata": {},
   "source": [
    "nombre_infected       894\n",
    "nombre_sain          2258\n",
    "nombre_exposed        532\n",
    "nombre_recovered    16316\n",
    "Name: 675, dtype: int64"
   ]
  },
  {
   "cell_type": "markdown",
   "id": "ee3da7fe",
   "metadata": {},
   "source": [
    "nombre_infected       899\n",
    "nombre_sain          2266\n",
    "nombre_exposed        521\n",
    "nombre_recovered    16314\n",
    "Name: 676, dtype: int64"
   ]
  },
  {
   "cell_type": "markdown",
   "id": "04ad14d1",
   "metadata": {},
   "source": [
    "nombre_infected       924\n",
    "nombre_sain          2254\n",
    "nombre_exposed        516\n",
    "nombre_recovered    16306\n",
    "Name: 677, dtype: int64"
   ]
  },
  {
   "cell_type": "markdown",
   "id": "04768667",
   "metadata": {},
   "source": [
    "nombre_infected       933\n",
    "nombre_sain          2281\n",
    "nombre_exposed        514\n",
    "nombre_recovered    16272\n",
    "Name: 678, dtype: int64"
   ]
  },
  {
   "cell_type": "markdown",
   "id": "ee1dcb79",
   "metadata": {},
   "source": [
    "nombre_infected       956\n",
    "nombre_sain          2285\n",
    "nombre_exposed        493\n",
    "nombre_recovered    16266\n",
    "Name: 679, dtype: int64"
   ]
  },
  {
   "cell_type": "markdown",
   "id": "189b68bc",
   "metadata": {},
   "source": [
    "nombre_infected       927\n",
    "nombre_sain          2295\n",
    "nombre_exposed        486\n",
    "nombre_recovered    16292\n",
    "Name: 680, dtype: int64"
   ]
  },
  {
   "cell_type": "markdown",
   "id": "361065d7",
   "metadata": {},
   "source": [
    "nombre_infected       938\n",
    "nombre_sain          2296\n",
    "nombre_exposed        458\n",
    "nombre_recovered    16308\n",
    "Name: 681, dtype: int64"
   ]
  },
  {
   "cell_type": "markdown",
   "id": "a6a80acd",
   "metadata": {},
   "source": [
    "nombre_infected       927\n",
    "nombre_sain          2285\n",
    "nombre_exposed        465\n",
    "nombre_recovered    16323\n",
    "Name: 682, dtype: int64"
   ]
  },
  {
   "cell_type": "markdown",
   "id": "c9a2e557",
   "metadata": {},
   "source": [
    "nombre_infected       940\n",
    "nombre_sain          2294\n",
    "nombre_exposed        462\n",
    "nombre_recovered    16304\n",
    "Name: 683, dtype: int64"
   ]
  },
  {
   "cell_type": "markdown",
   "id": "cffc7288",
   "metadata": {},
   "source": [
    "nombre_infected       925\n",
    "nombre_sain          2294\n",
    "nombre_exposed        474\n",
    "nombre_recovered    16307\n",
    "Name: 684, dtype: int64"
   ]
  },
  {
   "cell_type": "markdown",
   "id": "fe8d1ae0",
   "metadata": {},
   "source": [
    "nombre_infected       911\n",
    "nombre_sain          2305\n",
    "nombre_exposed        493\n",
    "nombre_recovered    16291\n",
    "Name: 685, dtype: int64"
   ]
  },
  {
   "cell_type": "markdown",
   "id": "00a0f530",
   "metadata": {},
   "source": [
    "nombre_infected       936\n",
    "nombre_sain          2283\n",
    "nombre_exposed        481\n",
    "nombre_recovered    16300\n",
    "Name: 686, dtype: int64"
   ]
  },
  {
   "cell_type": "markdown",
   "id": "84956333",
   "metadata": {},
   "source": [
    "nombre_infected       954\n",
    "nombre_sain          2296\n",
    "nombre_exposed        460\n",
    "nombre_recovered    16290\n",
    "Name: 687, dtype: int64"
   ]
  },
  {
   "cell_type": "markdown",
   "id": "26f2602c",
   "metadata": {},
   "source": [
    "nombre_infected       965\n",
    "nombre_sain          2288\n",
    "nombre_exposed        470\n",
    "nombre_recovered    16277\n",
    "Name: 688, dtype: int64"
   ]
  },
  {
   "cell_type": "markdown",
   "id": "2b756944",
   "metadata": {},
   "source": [
    "nombre_infected       956\n",
    "nombre_sain          2279\n",
    "nombre_exposed        469\n",
    "nombre_recovered    16296\n",
    "Name: 689, dtype: int64"
   ]
  },
  {
   "cell_type": "markdown",
   "id": "bc87e7e4",
   "metadata": {},
   "source": [
    "nombre_infected       951\n",
    "nombre_sain          2270\n",
    "nombre_exposed        475\n",
    "nombre_recovered    16304\n",
    "Name: 690, dtype: int64"
   ]
  },
  {
   "cell_type": "markdown",
   "id": "91615fbd",
   "metadata": {},
   "source": [
    "nombre_infected       941\n",
    "nombre_sain          2243\n",
    "nombre_exposed        498\n",
    "nombre_recovered    16318\n",
    "Name: 691, dtype: int64"
   ]
  },
  {
   "cell_type": "markdown",
   "id": "81c7d628",
   "metadata": {},
   "source": [
    "nombre_infected       947\n",
    "nombre_sain          2220\n",
    "nombre_exposed        489\n",
    "nombre_recovered    16344\n",
    "Name: 692, dtype: int64"
   ]
  },
  {
   "cell_type": "markdown",
   "id": "c5f887d8",
   "metadata": {},
   "source": [
    "nombre_infected       946\n",
    "nombre_sain          2168\n",
    "nombre_exposed        507\n",
    "nombre_recovered    16379\n",
    "Name: 693, dtype: int64"
   ]
  },
  {
   "cell_type": "markdown",
   "id": "b65f7787",
   "metadata": {},
   "source": [
    "nombre_infected       949\n",
    "nombre_sain          2169\n",
    "nombre_exposed        498\n",
    "nombre_recovered    16384\n",
    "Name: 694, dtype: int64"
   ]
  },
  {
   "cell_type": "markdown",
   "id": "31b95d3d",
   "metadata": {},
   "source": [
    "nombre_infected       946\n",
    "nombre_sain          2189\n",
    "nombre_exposed        489\n",
    "nombre_recovered    16376\n",
    "Name: 695, dtype: int64"
   ]
  },
  {
   "cell_type": "markdown",
   "id": "3e1a100e",
   "metadata": {},
   "source": [
    "nombre_infected       942\n",
    "nombre_sain          2195\n",
    "nombre_exposed        482\n",
    "nombre_recovered    16381\n",
    "Name: 696, dtype: int64"
   ]
  },
  {
   "cell_type": "markdown",
   "id": "c4394eae",
   "metadata": {},
   "source": [
    "nombre_infected       930\n",
    "nombre_sain          2180\n",
    "nombre_exposed        493\n",
    "nombre_recovered    16397\n",
    "Name: 697, dtype: int64"
   ]
  },
  {
   "cell_type": "markdown",
   "id": "617767d8",
   "metadata": {},
   "source": [
    "nombre_infected       901\n",
    "nombre_sain          2196\n",
    "nombre_exposed        503\n",
    "nombre_recovered    16400\n",
    "Name: 698, dtype: int64"
   ]
  },
  {
   "cell_type": "markdown",
   "id": "7a5e5bd1",
   "metadata": {},
   "source": [
    "nombre_infected       926\n",
    "nombre_sain          2211\n",
    "nombre_exposed        481\n",
    "nombre_recovered    16382\n",
    "Name: 699, dtype: int64"
   ]
  },
  {
   "cell_type": "markdown",
   "id": "df3d6313",
   "metadata": {},
   "source": [
    "nombre_infected       932\n",
    "nombre_sain          2193\n",
    "nombre_exposed        497\n",
    "nombre_recovered    16378\n",
    "Name: 700, dtype: int64"
   ]
  },
  {
   "cell_type": "markdown",
   "id": "c09ad0c0",
   "metadata": {},
   "source": [
    "nombre_infected       917\n",
    "nombre_sain          2174\n",
    "nombre_exposed        504\n",
    "nombre_recovered    16405\n",
    "Name: 701, dtype: int64"
   ]
  },
  {
   "cell_type": "markdown",
   "id": "17dfe896",
   "metadata": {},
   "source": [
    "nombre_infected       919\n",
    "nombre_sain          2181\n",
    "nombre_exposed        505\n",
    "nombre_recovered    16395\n",
    "Name: 702, dtype: int64"
   ]
  },
  {
   "cell_type": "markdown",
   "id": "c37314d3",
   "metadata": {},
   "source": [
    "nombre_infected       912\n",
    "nombre_sain          2202\n",
    "nombre_exposed        513\n",
    "nombre_recovered    16373\n",
    "Name: 703, dtype: int64"
   ]
  },
  {
   "cell_type": "markdown",
   "id": "e2608a50",
   "metadata": {},
   "source": [
    "nombre_infected       916\n",
    "nombre_sain          2198\n",
    "nombre_exposed        501\n",
    "nombre_recovered    16385\n",
    "Name: 704, dtype: int64"
   ]
  },
  {
   "cell_type": "markdown",
   "id": "3a2d8243",
   "metadata": {},
   "source": [
    "nombre_infected       901\n",
    "nombre_sain          2207\n",
    "nombre_exposed        535\n",
    "nombre_recovered    16357\n",
    "Name: 705, dtype: int64"
   ]
  },
  {
   "cell_type": "markdown",
   "id": "d1aed76b",
   "metadata": {},
   "source": [
    "nombre_infected       917\n",
    "nombre_sain          2213\n",
    "nombre_exposed        541\n",
    "nombre_recovered    16329\n",
    "Name: 706, dtype: int64"
   ]
  },
  {
   "cell_type": "markdown",
   "id": "0ac9eb0d",
   "metadata": {},
   "source": [
    "nombre_infected       904\n",
    "nombre_sain          2193\n",
    "nombre_exposed        560\n",
    "nombre_recovered    16343\n",
    "Name: 707, dtype: int64"
   ]
  },
  {
   "cell_type": "markdown",
   "id": "b192ccd4",
   "metadata": {},
   "source": [
    "nombre_infected       914\n",
    "nombre_sain          2198\n",
    "nombre_exposed        564\n",
    "nombre_recovered    16324\n",
    "Name: 708, dtype: int64"
   ]
  },
  {
   "cell_type": "markdown",
   "id": "9f721cdb",
   "metadata": {},
   "source": [
    "nombre_infected       932\n",
    "nombre_sain          2188\n",
    "nombre_exposed        551\n",
    "nombre_recovered    16329\n",
    "Name: 709, dtype: int64"
   ]
  },
  {
   "cell_type": "markdown",
   "id": "8c1a99bd",
   "metadata": {},
   "source": [
    "nombre_infected       944\n",
    "nombre_sain          2202\n",
    "nombre_exposed        519\n",
    "nombre_recovered    16335\n",
    "Name: 710, dtype: int64"
   ]
  },
  {
   "cell_type": "markdown",
   "id": "553475d8",
   "metadata": {},
   "source": [
    "nombre_infected       957\n",
    "nombre_sain          2206\n",
    "nombre_exposed        497\n",
    "nombre_recovered    16340\n",
    "Name: 711, dtype: int64"
   ]
  },
  {
   "cell_type": "markdown",
   "id": "f31bf07c",
   "metadata": {},
   "source": [
    "nombre_infected       966\n",
    "nombre_sain          2190\n",
    "nombre_exposed        497\n",
    "nombre_recovered    16347\n",
    "Name: 712, dtype: int64"
   ]
  },
  {
   "cell_type": "markdown",
   "id": "78ba52ae",
   "metadata": {},
   "source": [
    "nombre_infected       960\n",
    "nombre_sain          2170\n",
    "nombre_exposed        514\n",
    "nombre_recovered    16356\n",
    "Name: 713, dtype: int64"
   ]
  },
  {
   "cell_type": "markdown",
   "id": "c498a5c2",
   "metadata": {},
   "source": [
    "nombre_infected       954\n",
    "nombre_sain          2180\n",
    "nombre_exposed        511\n",
    "nombre_recovered    16355\n",
    "Name: 714, dtype: int64"
   ]
  },
  {
   "cell_type": "markdown",
   "id": "eb0cc3ec",
   "metadata": {},
   "source": [
    "nombre_infected       974\n",
    "nombre_sain          2172\n",
    "nombre_exposed        509\n",
    "nombre_recovered    16345\n",
    "Name: 715, dtype: int64"
   ]
  },
  {
   "cell_type": "markdown",
   "id": "ef9fb215",
   "metadata": {},
   "source": [
    "nombre_infected       989\n",
    "nombre_sain          2184\n",
    "nombre_exposed        516\n",
    "nombre_recovered    16311\n",
    "Name: 716, dtype: int64"
   ]
  },
  {
   "cell_type": "markdown",
   "id": "84540656",
   "metadata": {},
   "source": [
    "nombre_infected       975\n",
    "nombre_sain          2172\n",
    "nombre_exposed        528\n",
    "nombre_recovered    16325\n",
    "Name: 717, dtype: int64"
   ]
  },
  {
   "cell_type": "markdown",
   "id": "c1dbd787",
   "metadata": {},
   "source": [
    "nombre_infected       982\n",
    "nombre_sain          2176\n",
    "nombre_exposed        510\n",
    "nombre_recovered    16332\n",
    "Name: 718, dtype: int64"
   ]
  },
  {
   "cell_type": "markdown",
   "id": "a332d126",
   "metadata": {},
   "source": [
    "nombre_infected       996\n",
    "nombre_sain          2167\n",
    "nombre_exposed        505\n",
    "nombre_recovered    16332\n",
    "Name: 719, dtype: int64"
   ]
  },
  {
   "cell_type": "markdown",
   "id": "e3bad970",
   "metadata": {},
   "source": [
    "nombre_infected       998\n",
    "nombre_sain          2164\n",
    "nombre_exposed        510\n",
    "nombre_recovered    16328\n",
    "Name: 720, dtype: int64"
   ]
  },
  {
   "cell_type": "markdown",
   "id": "727f1c9b",
   "metadata": {},
   "source": [
    "nombre_infected       992\n",
    "nombre_sain          2182\n",
    "nombre_exposed        519\n",
    "nombre_recovered    16307\n",
    "Name: 721, dtype: int64"
   ]
  },
  {
   "cell_type": "markdown",
   "id": "3d24e28a",
   "metadata": {},
   "source": [
    "nombre_infected       997\n",
    "nombre_sain          2155\n",
    "nombre_exposed        513\n",
    "nombre_recovered    16335\n",
    "Name: 722, dtype: int64"
   ]
  },
  {
   "cell_type": "markdown",
   "id": "de662773",
   "metadata": {},
   "source": [
    "nombre_infected       978\n",
    "nombre_sain          2155\n",
    "nombre_exposed        532\n",
    "nombre_recovered    16335\n",
    "Name: 723, dtype: int64"
   ]
  },
  {
   "cell_type": "markdown",
   "id": "c9876b78",
   "metadata": {},
   "source": [
    "nombre_infected       971\n",
    "nombre_sain          2133\n",
    "nombre_exposed        545\n",
    "nombre_recovered    16351\n",
    "Name: 724, dtype: int64"
   ]
  },
  {
   "cell_type": "markdown",
   "id": "767763f7",
   "metadata": {},
   "source": [
    "nombre_infected       980\n",
    "nombre_sain          2109\n",
    "nombre_exposed        534\n",
    "nombre_recovered    16377\n",
    "Name: 725, dtype: int64"
   ]
  },
  {
   "cell_type": "markdown",
   "id": "b6ed33c7",
   "metadata": {},
   "source": [
    "nombre_infected      1006\n",
    "nombre_sain          2110\n",
    "nombre_exposed        533\n",
    "nombre_recovered    16351\n",
    "Name: 726, dtype: int64"
   ]
  },
  {
   "cell_type": "markdown",
   "id": "f5f385c6",
   "metadata": {},
   "source": [
    "nombre_infected      1011\n",
    "nombre_sain          2095\n",
    "nombre_exposed        535\n",
    "nombre_recovered    16359\n",
    "Name: 727, dtype: int64"
   ]
  },
  {
   "cell_type": "markdown",
   "id": "f5853b8f",
   "metadata": {},
   "source": [
    "nombre_infected       991\n",
    "nombre_sain          2094\n",
    "nombre_exposed        535\n",
    "nombre_recovered    16380\n",
    "Name: 728, dtype: int64"
   ]
  },
  {
   "cell_type": "markdown",
   "id": "eec2f3c7",
   "metadata": {},
   "source": [
    "nombre_infected       990\n",
    "nombre_sain          2086\n",
    "nombre_exposed        524\n",
    "nombre_recovered    16400\n",
    "Name: 729, dtype: int64"
   ]
  },
  {
   "cell_type": "markdown",
   "id": "eae39a5c",
   "metadata": {},
   "source": [
    "nombre_infected      1000\n",
    "nombre_sain          2100\n",
    "nombre_exposed        491\n",
    "nombre_recovered    16409\n",
    "Name: 730, dtype: int64"
   ]
  }
 ],
 "metadata": {},
 "nbformat": 4,
 "nbformat_minor": 5
}
