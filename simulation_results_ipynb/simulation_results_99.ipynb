{
 "cells": [
  {
   "cell_type": "markdown",
   "id": "6f22f246",
   "metadata": {},
   "source": [
    "nombre_infected        20\n",
    "nombre_sain         19980\n",
    "nombre_exposed          0\n",
    "nombre_recovered        0\n",
    "Name: 0, dtype: int64"
   ]
  },
  {
   "cell_type": "markdown",
   "id": "6745657a",
   "metadata": {},
   "source": [
    "nombre_infected        20\n",
    "nombre_sain         19962\n",
    "nombre_exposed         18\n",
    "nombre_recovered        0\n",
    "Name: 1, dtype: int64"
   ]
  },
  {
   "cell_type": "markdown",
   "id": "30447ccf",
   "metadata": {},
   "source": [
    "nombre_infected        20\n",
    "nombre_sain         19935\n",
    "nombre_exposed         45\n",
    "nombre_recovered        0\n",
    "Name: 2, dtype: int64"
   ]
  },
  {
   "cell_type": "markdown",
   "id": "7e8ff39e",
   "metadata": {},
   "source": [
    "nombre_infected        23\n",
    "nombre_sain         19916\n",
    "nombre_exposed         61\n",
    "nombre_recovered        0\n",
    "Name: 3, dtype: int64"
   ]
  },
  {
   "cell_type": "markdown",
   "id": "739116a9",
   "metadata": {},
   "source": [
    "nombre_infected        34\n",
    "nombre_sain         19887\n",
    "nombre_exposed         79\n",
    "nombre_recovered        0\n",
    "Name: 4, dtype: int64"
   ]
  },
  {
   "cell_type": "markdown",
   "id": "ec7d08f8",
   "metadata": {},
   "source": [
    "nombre_infected        50\n",
    "nombre_sain         19844\n",
    "nombre_exposed        106\n",
    "nombre_recovered        0\n",
    "Name: 5, dtype: int64"
   ]
  },
  {
   "cell_type": "markdown",
   "id": "51b8e5e7",
   "metadata": {},
   "source": [
    "nombre_infected        68\n",
    "nombre_sain         19756\n",
    "nombre_exposed        175\n",
    "nombre_recovered        1\n",
    "Name: 6, dtype: int64"
   ]
  },
  {
   "cell_type": "markdown",
   "id": "5204cea5",
   "metadata": {},
   "source": [
    "nombre_infected        90\n",
    "nombre_sain         19640\n",
    "nombre_exposed        266\n",
    "nombre_recovered        4\n",
    "Name: 7, dtype: int64"
   ]
  },
  {
   "cell_type": "markdown",
   "id": "53c938d3",
   "metadata": {},
   "source": [
    "nombre_infected       108\n",
    "nombre_sain         19534\n",
    "nombre_exposed        327\n",
    "nombre_recovered       31\n",
    "Name: 8, dtype: int64"
   ]
  },
  {
   "cell_type": "markdown",
   "id": "e56043d6",
   "metadata": {},
   "source": [
    "nombre_infected       162\n",
    "nombre_sain         19351\n",
    "nombre_exposed        446\n",
    "nombre_recovered       41\n",
    "Name: 9, dtype: int64"
   ]
  },
  {
   "cell_type": "markdown",
   "id": "73b143d4",
   "metadata": {},
   "source": [
    "nombre_infected       223\n",
    "nombre_sain         19119\n",
    "nombre_exposed        598\n",
    "nombre_recovered       60\n",
    "Name: 10, dtype: int64"
   ]
  },
  {
   "cell_type": "markdown",
   "id": "7b63bac5",
   "metadata": {},
   "source": [
    "nombre_infected       292\n",
    "nombre_sain         18843\n",
    "nombre_exposed        783\n",
    "nombre_recovered       82\n",
    "Name: 11, dtype: int64"
   ]
  },
  {
   "cell_type": "markdown",
   "id": "75af5ed9",
   "metadata": {},
   "source": [
    "nombre_infected       419\n",
    "nombre_sain         18416\n",
    "nombre_exposed       1062\n",
    "nombre_recovered      103\n",
    "Name: 12, dtype: int64"
   ]
  },
  {
   "cell_type": "markdown",
   "id": "8c2beb68",
   "metadata": {},
   "source": [
    "nombre_infected       570\n",
    "nombre_sain         17871\n",
    "nombre_exposed       1417\n",
    "nombre_recovered      142\n",
    "Name: 13, dtype: int64"
   ]
  },
  {
   "cell_type": "markdown",
   "id": "0f64ab12",
   "metadata": {},
   "source": [
    "nombre_infected       752\n",
    "nombre_sain         17136\n",
    "nombre_exposed       1914\n",
    "nombre_recovered      198\n",
    "Name: 14, dtype: int64"
   ]
  },
  {
   "cell_type": "markdown",
   "id": "28b6efa3",
   "metadata": {},
   "source": [
    "nombre_infected      1053\n",
    "nombre_sain         16199\n",
    "nombre_exposed       2478\n",
    "nombre_recovered      270\n",
    "Name: 15, dtype: int64"
   ]
  },
  {
   "cell_type": "markdown",
   "id": "d23c57a7",
   "metadata": {},
   "source": [
    "nombre_infected      1392\n",
    "nombre_sain         15026\n",
    "nombre_exposed       3215\n",
    "nombre_recovered      367\n",
    "Name: 16, dtype: int64"
   ]
  },
  {
   "cell_type": "markdown",
   "id": "0afa84be",
   "metadata": {},
   "source": [
    "nombre_infected      1862\n",
    "nombre_sain         13682\n",
    "nombre_exposed       3964\n",
    "nombre_recovered      492\n",
    "Name: 17, dtype: int64"
   ]
  },
  {
   "cell_type": "markdown",
   "id": "43b2dc13",
   "metadata": {},
   "source": [
    "nombre_infected      2427\n",
    "nombre_sain         12086\n",
    "nombre_exposed       4810\n",
    "nombre_recovered      677\n",
    "Name: 18, dtype: int64"
   ]
  },
  {
   "cell_type": "markdown",
   "id": "72c60378",
   "metadata": {},
   "source": [
    "nombre_infected      3092\n",
    "nombre_sain         10345\n",
    "nombre_exposed       5664\n",
    "nombre_recovered      899\n",
    "Name: 19, dtype: int64"
   ]
  },
  {
   "cell_type": "markdown",
   "id": "458c5618",
   "metadata": {},
   "source": [
    "nombre_infected     3939\n",
    "nombre_sain         8529\n",
    "nombre_exposed      6335\n",
    "nombre_recovered    1197\n",
    "Name: 20, dtype: int64"
   ]
  },
  {
   "cell_type": "markdown",
   "id": "22f24db7",
   "metadata": {},
   "source": [
    "nombre_infected     4814\n",
    "nombre_sain         6771\n",
    "nombre_exposed      6790\n",
    "nombre_recovered    1625\n",
    "Name: 21, dtype: int64"
   ]
  },
  {
   "cell_type": "markdown",
   "id": "f869e57b",
   "metadata": {},
   "source": [
    "nombre_infected     5808\n",
    "nombre_sain         5176\n",
    "nombre_exposed      6916\n",
    "nombre_recovered    2100\n",
    "Name: 22, dtype: int64"
   ]
  },
  {
   "cell_type": "markdown",
   "id": "a58f2b20",
   "metadata": {},
   "source": [
    "nombre_infected     6747\n",
    "nombre_sain         3819\n",
    "nombre_exposed      6750\n",
    "nombre_recovered    2684\n",
    "Name: 23, dtype: int64"
   ]
  },
  {
   "cell_type": "markdown",
   "id": "5a190176",
   "metadata": {},
   "source": [
    "nombre_infected     7609\n",
    "nombre_sain         2757\n",
    "nombre_exposed      6243\n",
    "nombre_recovered    3391\n",
    "Name: 24, dtype: int64"
   ]
  },
  {
   "cell_type": "markdown",
   "id": "661f0e00",
   "metadata": {},
   "source": [
    "nombre_infected     8285\n",
    "nombre_sain         1932\n",
    "nombre_exposed      5561\n",
    "nombre_recovered    4222\n",
    "Name: 25, dtype: int64"
   ]
  },
  {
   "cell_type": "markdown",
   "id": "ca65cf5b",
   "metadata": {},
   "source": [
    "nombre_infected     8772\n",
    "nombre_sain         1332\n",
    "nombre_exposed      4760\n",
    "nombre_recovered    5136\n",
    "Name: 26, dtype: int64"
   ]
  },
  {
   "cell_type": "markdown",
   "id": "3a26bb1f",
   "metadata": {},
   "source": [
    "nombre_infected     9024\n",
    "nombre_sain          916\n",
    "nombre_exposed      3977\n",
    "nombre_recovered    6083\n",
    "Name: 27, dtype: int64"
   ]
  },
  {
   "cell_type": "markdown",
   "id": "7874578b",
   "metadata": {},
   "source": [
    "nombre_infected     8998\n",
    "nombre_sain          613\n",
    "nombre_exposed      3275\n",
    "nombre_recovered    7114\n",
    "Name: 28, dtype: int64"
   ]
  },
  {
   "cell_type": "markdown",
   "id": "02680634",
   "metadata": {},
   "source": [
    "nombre_infected     8825\n",
    "nombre_sain          428\n",
    "nombre_exposed      2601\n",
    "nombre_recovered    8146\n",
    "Name: 29, dtype: int64"
   ]
  },
  {
   "cell_type": "markdown",
   "id": "909741c1",
   "metadata": {},
   "source": [
    "nombre_infected     8518\n",
    "nombre_sain          287\n",
    "nombre_exposed      2031\n",
    "nombre_recovered    9164\n",
    "Name: 30, dtype: int64"
   ]
  },
  {
   "cell_type": "markdown",
   "id": "58d724ad",
   "metadata": {},
   "source": [
    "nombre_infected      8026\n",
    "nombre_sain           203\n",
    "nombre_exposed       1557\n",
    "nombre_recovered    10214\n",
    "Name: 31, dtype: int64"
   ]
  },
  {
   "cell_type": "markdown",
   "id": "b311a6af",
   "metadata": {},
   "source": [
    "nombre_infected      7466\n",
    "nombre_sain           165\n",
    "nombre_exposed       1183\n",
    "nombre_recovered    11186\n",
    "Name: 32, dtype: int64"
   ]
  },
  {
   "cell_type": "markdown",
   "id": "f95e3853",
   "metadata": {},
   "source": [
    "nombre_infected      6913\n",
    "nombre_sain           122\n",
    "nombre_exposed        893\n",
    "nombre_recovered    12072\n",
    "Name: 33, dtype: int64"
   ]
  },
  {
   "cell_type": "markdown",
   "id": "12ea8a8a",
   "metadata": {},
   "source": [
    "nombre_infected      6281\n",
    "nombre_sain           106\n",
    "nombre_exposed        678\n",
    "nombre_recovered    12935\n",
    "Name: 34, dtype: int64"
   ]
  },
  {
   "cell_type": "markdown",
   "id": "d6af69bf",
   "metadata": {},
   "source": [
    "nombre_infected      5714\n",
    "nombre_sain           105\n",
    "nombre_exposed        504\n",
    "nombre_recovered    13677\n",
    "Name: 35, dtype: int64"
   ]
  },
  {
   "cell_type": "markdown",
   "id": "d2a3adfb",
   "metadata": {},
   "source": [
    "nombre_infected      5160\n",
    "nombre_sain           102\n",
    "nombre_exposed        371\n",
    "nombre_recovered    14367\n",
    "Name: 36, dtype: int64"
   ]
  },
  {
   "cell_type": "markdown",
   "id": "911de8d8",
   "metadata": {},
   "source": [
    "nombre_infected      4653\n",
    "nombre_sain           102\n",
    "nombre_exposed        281\n",
    "nombre_recovered    14964\n",
    "Name: 37, dtype: int64"
   ]
  },
  {
   "cell_type": "markdown",
   "id": "00eb1bd5",
   "metadata": {},
   "source": [
    "nombre_infected      4206\n",
    "nombre_sain           109\n",
    "nombre_exposed        227\n",
    "nombre_recovered    15458\n",
    "Name: 38, dtype: int64"
   ]
  },
  {
   "cell_type": "markdown",
   "id": "d803a801",
   "metadata": {},
   "source": [
    "nombre_infected      3793\n",
    "nombre_sain           107\n",
    "nombre_exposed        177\n",
    "nombre_recovered    15923\n",
    "Name: 39, dtype: int64"
   ]
  },
  {
   "cell_type": "markdown",
   "id": "8fd2447f",
   "metadata": {},
   "source": [
    "nombre_infected      3442\n",
    "nombre_sain           125\n",
    "nombre_exposed        146\n",
    "nombre_recovered    16287\n",
    "Name: 40, dtype: int64"
   ]
  },
  {
   "cell_type": "markdown",
   "id": "3dc5a883",
   "metadata": {},
   "source": [
    "nombre_infected      3137\n",
    "nombre_sain           133\n",
    "nombre_exposed        129\n",
    "nombre_recovered    16601\n",
    "Name: 41, dtype: int64"
   ]
  },
  {
   "cell_type": "markdown",
   "id": "4baf7385",
   "metadata": {},
   "source": [
    "nombre_infected      2852\n",
    "nombre_sain           148\n",
    "nombre_exposed        123\n",
    "nombre_recovered    16877\n",
    "Name: 42, dtype: int64"
   ]
  },
  {
   "cell_type": "markdown",
   "id": "e2e3380c",
   "metadata": {},
   "source": [
    "nombre_infected      2594\n",
    "nombre_sain           182\n",
    "nombre_exposed        114\n",
    "nombre_recovered    17110\n",
    "Name: 43, dtype: int64"
   ]
  },
  {
   "cell_type": "markdown",
   "id": "db02d5b2",
   "metadata": {},
   "source": [
    "nombre_infected      2369\n",
    "nombre_sain           200\n",
    "nombre_exposed        106\n",
    "nombre_recovered    17325\n",
    "Name: 44, dtype: int64"
   ]
  },
  {
   "cell_type": "markdown",
   "id": "15443e97",
   "metadata": {},
   "source": [
    "nombre_infected      2165\n",
    "nombre_sain           224\n",
    "nombre_exposed        111\n",
    "nombre_recovered    17500\n",
    "Name: 45, dtype: int64"
   ]
  },
  {
   "cell_type": "markdown",
   "id": "d9449970",
   "metadata": {},
   "source": [
    "nombre_infected      2000\n",
    "nombre_sain           255\n",
    "nombre_exposed        100\n",
    "nombre_recovered    17645\n",
    "Name: 46, dtype: int64"
   ]
  },
  {
   "cell_type": "markdown",
   "id": "bbad1b13",
   "metadata": {},
   "source": [
    "nombre_infected      1842\n",
    "nombre_sain           259\n",
    "nombre_exposed        103\n",
    "nombre_recovered    17796\n",
    "Name: 47, dtype: int64"
   ]
  },
  {
   "cell_type": "markdown",
   "id": "0557d465",
   "metadata": {},
   "source": [
    "nombre_infected      1681\n",
    "nombre_sain           282\n",
    "nombre_exposed        107\n",
    "nombre_recovered    17930\n",
    "Name: 48, dtype: int64"
   ]
  },
  {
   "cell_type": "markdown",
   "id": "67c85946",
   "metadata": {},
   "source": [
    "nombre_infected      1561\n",
    "nombre_sain           302\n",
    "nombre_exposed        106\n",
    "nombre_recovered    18031\n",
    "Name: 49, dtype: int64"
   ]
  },
  {
   "cell_type": "markdown",
   "id": "c84dddda",
   "metadata": {},
   "source": [
    "nombre_infected      1459\n",
    "nombre_sain           361\n",
    "nombre_exposed         98\n",
    "nombre_recovered    18082\n",
    "Name: 50, dtype: int64"
   ]
  },
  {
   "cell_type": "markdown",
   "id": "308c76bd",
   "metadata": {},
   "source": [
    "nombre_infected      1320\n",
    "nombre_sain           390\n",
    "nombre_exposed        109\n",
    "nombre_recovered    18181\n",
    "Name: 51, dtype: int64"
   ]
  },
  {
   "cell_type": "markdown",
   "id": "60af4b61",
   "metadata": {},
   "source": [
    "nombre_infected      1188\n",
    "nombre_sain           437\n",
    "nombre_exposed        106\n",
    "nombre_recovered    18269\n",
    "Name: 52, dtype: int64"
   ]
  },
  {
   "cell_type": "markdown",
   "id": "3e7c00e3",
   "metadata": {},
   "source": [
    "nombre_infected      1101\n",
    "nombre_sain           463\n",
    "nombre_exposed        106\n",
    "nombre_recovered    18330\n",
    "Name: 53, dtype: int64"
   ]
  },
  {
   "cell_type": "markdown",
   "id": "a8cfc394",
   "metadata": {},
   "source": [
    "nombre_infected       987\n",
    "nombre_sain           511\n",
    "nombre_exposed        108\n",
    "nombre_recovered    18394\n",
    "Name: 54, dtype: int64"
   ]
  },
  {
   "cell_type": "markdown",
   "id": "52fda7ce",
   "metadata": {},
   "source": [
    "nombre_infected       917\n",
    "nombre_sain           560\n",
    "nombre_exposed        108\n",
    "nombre_recovered    18415\n",
    "Name: 55, dtype: int64"
   ]
  },
  {
   "cell_type": "markdown",
   "id": "b7ad4b2d",
   "metadata": {},
   "source": [
    "nombre_infected       843\n",
    "nombre_sain           592\n",
    "nombre_exposed        115\n",
    "nombre_recovered    18450\n",
    "Name: 56, dtype: int64"
   ]
  },
  {
   "cell_type": "markdown",
   "id": "dee6bdcd",
   "metadata": {},
   "source": [
    "nombre_infected       785\n",
    "nombre_sain           632\n",
    "nombre_exposed        103\n",
    "nombre_recovered    18480\n",
    "Name: 57, dtype: int64"
   ]
  },
  {
   "cell_type": "markdown",
   "id": "bb7e6b0a",
   "metadata": {},
   "source": [
    "nombre_infected       749\n",
    "nombre_sain           665\n",
    "nombre_exposed         90\n",
    "nombre_recovered    18496\n",
    "Name: 58, dtype: int64"
   ]
  },
  {
   "cell_type": "markdown",
   "id": "b12eda7b",
   "metadata": {},
   "source": [
    "nombre_infected       701\n",
    "nombre_sain           695\n",
    "nombre_exposed         91\n",
    "nombre_recovered    18513\n",
    "Name: 59, dtype: int64"
   ]
  },
  {
   "cell_type": "markdown",
   "id": "dd39aedb",
   "metadata": {},
   "source": [
    "nombre_infected       658\n",
    "nombre_sain           726\n",
    "nombre_exposed         96\n",
    "nombre_recovered    18520\n",
    "Name: 60, dtype: int64"
   ]
  },
  {
   "cell_type": "markdown",
   "id": "885c71a0",
   "metadata": {},
   "source": [
    "nombre_infected       612\n",
    "nombre_sain           772\n",
    "nombre_exposed        102\n",
    "nombre_recovered    18514\n",
    "Name: 61, dtype: int64"
   ]
  },
  {
   "cell_type": "markdown",
   "id": "4fca7197",
   "metadata": {},
   "source": [
    "nombre_infected       593\n",
    "nombre_sain           821\n",
    "nombre_exposed        102\n",
    "nombre_recovered    18484\n",
    "Name: 62, dtype: int64"
   ]
  },
  {
   "cell_type": "markdown",
   "id": "76d53c7b",
   "metadata": {},
   "source": [
    "nombre_infected       565\n",
    "nombre_sain           856\n",
    "nombre_exposed         99\n",
    "nombre_recovered    18480\n",
    "Name: 63, dtype: int64"
   ]
  },
  {
   "cell_type": "markdown",
   "id": "2053a158",
   "metadata": {},
   "source": [
    "nombre_infected       533\n",
    "nombre_sain           881\n",
    "nombre_exposed        102\n",
    "nombre_recovered    18484\n",
    "Name: 64, dtype: int64"
   ]
  },
  {
   "cell_type": "markdown",
   "id": "220965dc",
   "metadata": {},
   "source": [
    "nombre_infected       501\n",
    "nombre_sain           933\n",
    "nombre_exposed        109\n",
    "nombre_recovered    18457\n",
    "Name: 65, dtype: int64"
   ]
  },
  {
   "cell_type": "markdown",
   "id": "28829539",
   "metadata": {},
   "source": [
    "nombre_infected       481\n",
    "nombre_sain           983\n",
    "nombre_exposed        103\n",
    "nombre_recovered    18433\n",
    "Name: 66, dtype: int64"
   ]
  },
  {
   "cell_type": "markdown",
   "id": "a49d56fa",
   "metadata": {},
   "source": [
    "nombre_infected       466\n",
    "nombre_sain          1020\n",
    "nombre_exposed        102\n",
    "nombre_recovered    18412\n",
    "Name: 67, dtype: int64"
   ]
  },
  {
   "cell_type": "markdown",
   "id": "5894fbc1",
   "metadata": {},
   "source": [
    "nombre_infected       428\n",
    "nombre_sain          1067\n",
    "nombre_exposed        109\n",
    "nombre_recovered    18396\n",
    "Name: 68, dtype: int64"
   ]
  },
  {
   "cell_type": "markdown",
   "id": "896f0382",
   "metadata": {},
   "source": [
    "nombre_infected       407\n",
    "nombre_sain          1110\n",
    "nombre_exposed        115\n",
    "nombre_recovered    18368\n",
    "Name: 69, dtype: int64"
   ]
  },
  {
   "cell_type": "markdown",
   "id": "eedbac83",
   "metadata": {},
   "source": [
    "nombre_infected       396\n",
    "nombre_sain          1133\n",
    "nombre_exposed        113\n",
    "nombre_recovered    18358\n",
    "Name: 70, dtype: int64"
   ]
  },
  {
   "cell_type": "markdown",
   "id": "ac3bbc41",
   "metadata": {},
   "source": [
    "nombre_infected       376\n",
    "nombre_sain          1184\n",
    "nombre_exposed        113\n",
    "nombre_recovered    18327\n",
    "Name: 71, dtype: int64"
   ]
  },
  {
   "cell_type": "markdown",
   "id": "4ae63729",
   "metadata": {},
   "source": [
    "nombre_infected       358\n",
    "nombre_sain          1222\n",
    "nombre_exposed        109\n",
    "nombre_recovered    18311\n",
    "Name: 72, dtype: int64"
   ]
  },
  {
   "cell_type": "markdown",
   "id": "0b4a788f",
   "metadata": {},
   "source": [
    "nombre_infected       346\n",
    "nombre_sain          1255\n",
    "nombre_exposed        114\n",
    "nombre_recovered    18285\n",
    "Name: 73, dtype: int64"
   ]
  },
  {
   "cell_type": "markdown",
   "id": "94f1515e",
   "metadata": {},
   "source": [
    "nombre_infected       323\n",
    "nombre_sain          1309\n",
    "nombre_exposed        102\n",
    "nombre_recovered    18266\n",
    "Name: 74, dtype: int64"
   ]
  },
  {
   "cell_type": "markdown",
   "id": "11e8a7a6",
   "metadata": {},
   "source": [
    "nombre_infected       318\n",
    "nombre_sain          1353\n",
    "nombre_exposed        104\n",
    "nombre_recovered    18225\n",
    "Name: 75, dtype: int64"
   ]
  },
  {
   "cell_type": "markdown",
   "id": "9c6e8782",
   "metadata": {},
   "source": [
    "nombre_infected       296\n",
    "nombre_sain          1394\n",
    "nombre_exposed        108\n",
    "nombre_recovered    18202\n",
    "Name: 76, dtype: int64"
   ]
  },
  {
   "cell_type": "markdown",
   "id": "f0c19247",
   "metadata": {},
   "source": [
    "nombre_infected       286\n",
    "nombre_sain          1439\n",
    "nombre_exposed        106\n",
    "nombre_recovered    18169\n",
    "Name: 77, dtype: int64"
   ]
  },
  {
   "cell_type": "markdown",
   "id": "a1527572",
   "metadata": {},
   "source": [
    "nombre_infected       273\n",
    "nombre_sain          1481\n",
    "nombre_exposed        112\n",
    "nombre_recovered    18134\n",
    "Name: 78, dtype: int64"
   ]
  },
  {
   "cell_type": "markdown",
   "id": "421a222f",
   "metadata": {},
   "source": [
    "nombre_infected       267\n",
    "nombre_sain          1530\n",
    "nombre_exposed        109\n",
    "nombre_recovered    18094\n",
    "Name: 79, dtype: int64"
   ]
  },
  {
   "cell_type": "markdown",
   "id": "64d7149e",
   "metadata": {},
   "source": [
    "nombre_infected       266\n",
    "nombre_sain          1575\n",
    "nombre_exposed        109\n",
    "nombre_recovered    18050\n",
    "Name: 80, dtype: int64"
   ]
  },
  {
   "cell_type": "markdown",
   "id": "220b5fc9",
   "metadata": {},
   "source": [
    "nombre_infected       262\n",
    "nombre_sain          1628\n",
    "nombre_exposed        109\n",
    "nombre_recovered    18001\n",
    "Name: 81, dtype: int64"
   ]
  },
  {
   "cell_type": "markdown",
   "id": "fb2c9def",
   "metadata": {},
   "source": [
    "nombre_infected       261\n",
    "nombre_sain          1672\n",
    "nombre_exposed        103\n",
    "nombre_recovered    17964\n",
    "Name: 82, dtype: int64"
   ]
  },
  {
   "cell_type": "markdown",
   "id": "52ddf83a",
   "metadata": {},
   "source": [
    "nombre_infected       261\n",
    "nombre_sain          1720\n",
    "nombre_exposed        105\n",
    "nombre_recovered    17914\n",
    "Name: 83, dtype: int64"
   ]
  },
  {
   "cell_type": "markdown",
   "id": "1a584d83",
   "metadata": {},
   "source": [
    "nombre_infected       259\n",
    "nombre_sain          1766\n",
    "nombre_exposed        105\n",
    "nombre_recovered    17870\n",
    "Name: 84, dtype: int64"
   ]
  },
  {
   "cell_type": "markdown",
   "id": "1f963a0d",
   "metadata": {},
   "source": [
    "nombre_infected       266\n",
    "nombre_sain          1813\n",
    "nombre_exposed        114\n",
    "nombre_recovered    17807\n",
    "Name: 85, dtype: int64"
   ]
  },
  {
   "cell_type": "markdown",
   "id": "e98bb522",
   "metadata": {},
   "source": [
    "nombre_infected       266\n",
    "nombre_sain          1859\n",
    "nombre_exposed        117\n",
    "nombre_recovered    17758\n",
    "Name: 86, dtype: int64"
   ]
  },
  {
   "cell_type": "markdown",
   "id": "178a8a27",
   "metadata": {},
   "source": [
    "nombre_infected       258\n",
    "nombre_sain          1912\n",
    "nombre_exposed        119\n",
    "nombre_recovered    17711\n",
    "Name: 87, dtype: int64"
   ]
  },
  {
   "cell_type": "markdown",
   "id": "3ed33db9",
   "metadata": {},
   "source": [
    "nombre_infected       251\n",
    "nombre_sain          1961\n",
    "nombre_exposed        119\n",
    "nombre_recovered    17669\n",
    "Name: 88, dtype: int64"
   ]
  },
  {
   "cell_type": "markdown",
   "id": "0ceef433",
   "metadata": {},
   "source": [
    "nombre_infected       254\n",
    "nombre_sain          1998\n",
    "nombre_exposed        119\n",
    "nombre_recovered    17629\n",
    "Name: 89, dtype: int64"
   ]
  },
  {
   "cell_type": "markdown",
   "id": "e8f02186",
   "metadata": {},
   "source": [
    "nombre_infected       243\n",
    "nombre_sain          2046\n",
    "nombre_exposed        124\n",
    "nombre_recovered    17587\n",
    "Name: 90, dtype: int64"
   ]
  },
  {
   "cell_type": "markdown",
   "id": "8987bd37",
   "metadata": {},
   "source": [
    "nombre_infected       236\n",
    "nombre_sain          2095\n",
    "nombre_exposed        130\n",
    "nombre_recovered    17539\n",
    "Name: 91, dtype: int64"
   ]
  },
  {
   "cell_type": "markdown",
   "id": "8f192a4f",
   "metadata": {},
   "source": [
    "nombre_infected       235\n",
    "nombre_sain          2125\n",
    "nombre_exposed        137\n",
    "nombre_recovered    17503\n",
    "Name: 92, dtype: int64"
   ]
  },
  {
   "cell_type": "markdown",
   "id": "13778450",
   "metadata": {},
   "source": [
    "nombre_infected       243\n",
    "nombre_sain          2172\n",
    "nombre_exposed        134\n",
    "nombre_recovered    17451\n",
    "Name: 93, dtype: int64"
   ]
  },
  {
   "cell_type": "markdown",
   "id": "618f3afc",
   "metadata": {},
   "source": [
    "nombre_infected       250\n",
    "nombre_sain          2204\n",
    "nombre_exposed        137\n",
    "nombre_recovered    17409\n",
    "Name: 94, dtype: int64"
   ]
  },
  {
   "cell_type": "markdown",
   "id": "f8f51511",
   "metadata": {},
   "source": [
    "nombre_infected       262\n",
    "nombre_sain          2239\n",
    "nombre_exposed        138\n",
    "nombre_recovered    17361\n",
    "Name: 95, dtype: int64"
   ]
  },
  {
   "cell_type": "markdown",
   "id": "e36d46c4",
   "metadata": {},
   "source": [
    "nombre_infected       265\n",
    "nombre_sain          2277\n",
    "nombre_exposed        152\n",
    "nombre_recovered    17306\n",
    "Name: 96, dtype: int64"
   ]
  },
  {
   "cell_type": "markdown",
   "id": "e0ebaced",
   "metadata": {},
   "source": [
    "nombre_infected       274\n",
    "nombre_sain          2301\n",
    "nombre_exposed        162\n",
    "nombre_recovered    17263\n",
    "Name: 97, dtype: int64"
   ]
  },
  {
   "cell_type": "markdown",
   "id": "93392bc8",
   "metadata": {},
   "source": [
    "nombre_infected       268\n",
    "nombre_sain          2322\n",
    "nombre_exposed        171\n",
    "nombre_recovered    17239\n",
    "Name: 98, dtype: int64"
   ]
  },
  {
   "cell_type": "markdown",
   "id": "ae4ff356",
   "metadata": {},
   "source": [
    "nombre_infected       269\n",
    "nombre_sain          2338\n",
    "nombre_exposed        178\n",
    "nombre_recovered    17215\n",
    "Name: 99, dtype: int64"
   ]
  },
  {
   "cell_type": "markdown",
   "id": "c77dff03",
   "metadata": {},
   "source": [
    "nombre_infected       279\n",
    "nombre_sain          2357\n",
    "nombre_exposed        181\n",
    "nombre_recovered    17183\n",
    "Name: 100, dtype: int64"
   ]
  },
  {
   "cell_type": "markdown",
   "id": "e28452a0",
   "metadata": {},
   "source": [
    "nombre_infected       296\n",
    "nombre_sain          2398\n",
    "nombre_exposed        157\n",
    "nombre_recovered    17149\n",
    "Name: 101, dtype: int64"
   ]
  },
  {
   "cell_type": "markdown",
   "id": "d5e30bf2",
   "metadata": {},
   "source": [
    "nombre_infected       311\n",
    "nombre_sain          2411\n",
    "nombre_exposed        162\n",
    "nombre_recovered    17116\n",
    "Name: 102, dtype: int64"
   ]
  },
  {
   "cell_type": "markdown",
   "id": "a4899f76",
   "metadata": {},
   "source": [
    "nombre_infected       311\n",
    "nombre_sain          2448\n",
    "nombre_exposed        152\n",
    "nombre_recovered    17089\n",
    "Name: 103, dtype: int64"
   ]
  },
  {
   "cell_type": "markdown",
   "id": "1692308b",
   "metadata": {},
   "source": [
    "nombre_infected       317\n",
    "nombre_sain          2463\n",
    "nombre_exposed        156\n",
    "nombre_recovered    17064\n",
    "Name: 104, dtype: int64"
   ]
  },
  {
   "cell_type": "markdown",
   "id": "177a77b6",
   "metadata": {},
   "source": [
    "nombre_infected       306\n",
    "nombre_sain          2476\n",
    "nombre_exposed        169\n",
    "nombre_recovered    17049\n",
    "Name: 105, dtype: int64"
   ]
  },
  {
   "cell_type": "markdown",
   "id": "fb467f61",
   "metadata": {},
   "source": [
    "nombre_infected       319\n",
    "nombre_sain          2497\n",
    "nombre_exposed        152\n",
    "nombre_recovered    17032\n",
    "Name: 106, dtype: int64"
   ]
  },
  {
   "cell_type": "markdown",
   "id": "4205695a",
   "metadata": {},
   "source": [
    "nombre_infected       324\n",
    "nombre_sain          2514\n",
    "nombre_exposed        147\n",
    "nombre_recovered    17015\n",
    "Name: 107, dtype: int64"
   ]
  },
  {
   "cell_type": "markdown",
   "id": "a388f99b",
   "metadata": {},
   "source": [
    "nombre_infected       319\n",
    "nombre_sain          2509\n",
    "nombre_exposed        164\n",
    "nombre_recovered    17008\n",
    "Name: 108, dtype: int64"
   ]
  },
  {
   "cell_type": "markdown",
   "id": "89431f9c",
   "metadata": {},
   "source": [
    "nombre_infected       314\n",
    "nombre_sain          2515\n",
    "nombre_exposed        181\n",
    "nombre_recovered    16990\n",
    "Name: 109, dtype: int64"
   ]
  },
  {
   "cell_type": "markdown",
   "id": "5cc96d14",
   "metadata": {},
   "source": [
    "nombre_infected       322\n",
    "nombre_sain          2538\n",
    "nombre_exposed        174\n",
    "nombre_recovered    16966\n",
    "Name: 110, dtype: int64"
   ]
  },
  {
   "cell_type": "markdown",
   "id": "8e0e2569",
   "metadata": {},
   "source": [
    "nombre_infected       330\n",
    "nombre_sain          2536\n",
    "nombre_exposed        189\n",
    "nombre_recovered    16945\n",
    "Name: 111, dtype: int64"
   ]
  },
  {
   "cell_type": "markdown",
   "id": "3caf3e8d",
   "metadata": {},
   "source": [
    "nombre_infected       328\n",
    "nombre_sain          2538\n",
    "nombre_exposed        202\n",
    "nombre_recovered    16932\n",
    "Name: 112, dtype: int64"
   ]
  },
  {
   "cell_type": "markdown",
   "id": "b30c6ee0",
   "metadata": {},
   "source": [
    "nombre_infected       318\n",
    "nombre_sain          2554\n",
    "nombre_exposed        202\n",
    "nombre_recovered    16926\n",
    "Name: 113, dtype: int64"
   ]
  },
  {
   "cell_type": "markdown",
   "id": "f0ee990f",
   "metadata": {},
   "source": [
    "nombre_infected       331\n",
    "nombre_sain          2548\n",
    "nombre_exposed        207\n",
    "nombre_recovered    16914\n",
    "Name: 114, dtype: int64"
   ]
  },
  {
   "cell_type": "markdown",
   "id": "9c2f870c",
   "metadata": {},
   "source": [
    "nombre_infected       328\n",
    "nombre_sain          2551\n",
    "nombre_exposed        229\n",
    "nombre_recovered    16892\n",
    "Name: 115, dtype: int64"
   ]
  },
  {
   "cell_type": "markdown",
   "id": "7539dda5",
   "metadata": {},
   "source": [
    "nombre_infected       344\n",
    "nombre_sain          2548\n",
    "nombre_exposed        217\n",
    "nombre_recovered    16891\n",
    "Name: 116, dtype: int64"
   ]
  },
  {
   "cell_type": "markdown",
   "id": "da545273",
   "metadata": {},
   "source": [
    "nombre_infected       352\n",
    "nombre_sain          2536\n",
    "nombre_exposed        222\n",
    "nombre_recovered    16890\n",
    "Name: 117, dtype: int64"
   ]
  },
  {
   "cell_type": "markdown",
   "id": "a00f40f8",
   "metadata": {},
   "source": [
    "nombre_infected       371\n",
    "nombre_sain          2529\n",
    "nombre_exposed        221\n",
    "nombre_recovered    16879\n",
    "Name: 118, dtype: int64"
   ]
  },
  {
   "cell_type": "markdown",
   "id": "a5aa5e22",
   "metadata": {},
   "source": [
    "nombre_infected       377\n",
    "nombre_sain          2526\n",
    "nombre_exposed        250\n",
    "nombre_recovered    16847\n",
    "Name: 119, dtype: int64"
   ]
  },
  {
   "cell_type": "markdown",
   "id": "e4eb2642",
   "metadata": {},
   "source": [
    "nombre_infected       376\n",
    "nombre_sain          2532\n",
    "nombre_exposed        266\n",
    "nombre_recovered    16826\n",
    "Name: 120, dtype: int64"
   ]
  },
  {
   "cell_type": "markdown",
   "id": "c966996b",
   "metadata": {},
   "source": [
    "nombre_infected       393\n",
    "nombre_sain          2538\n",
    "nombre_exposed        250\n",
    "nombre_recovered    16819\n",
    "Name: 121, dtype: int64"
   ]
  },
  {
   "cell_type": "markdown",
   "id": "94338759",
   "metadata": {},
   "source": [
    "nombre_infected       398\n",
    "nombre_sain          2530\n",
    "nombre_exposed        263\n",
    "nombre_recovered    16809\n",
    "Name: 122, dtype: int64"
   ]
  },
  {
   "cell_type": "markdown",
   "id": "c8ab5447",
   "metadata": {},
   "source": [
    "nombre_infected       402\n",
    "nombre_sain          2544\n",
    "nombre_exposed        267\n",
    "nombre_recovered    16787\n",
    "Name: 123, dtype: int64"
   ]
  },
  {
   "cell_type": "markdown",
   "id": "435cd52b",
   "metadata": {},
   "source": [
    "nombre_infected       413\n",
    "nombre_sain          2545\n",
    "nombre_exposed        264\n",
    "nombre_recovered    16778\n",
    "Name: 124, dtype: int64"
   ]
  },
  {
   "cell_type": "markdown",
   "id": "7a5ab37d",
   "metadata": {},
   "source": [
    "nombre_infected       427\n",
    "nombre_sain          2523\n",
    "nombre_exposed        278\n",
    "nombre_recovered    16772\n",
    "Name: 125, dtype: int64"
   ]
  },
  {
   "cell_type": "markdown",
   "id": "7e92a808",
   "metadata": {},
   "source": [
    "nombre_infected       438\n",
    "nombre_sain          2517\n",
    "nombre_exposed        277\n",
    "nombre_recovered    16768\n",
    "Name: 126, dtype: int64"
   ]
  },
  {
   "cell_type": "markdown",
   "id": "e1e34aa0",
   "metadata": {},
   "source": [
    "nombre_infected       451\n",
    "nombre_sain          2505\n",
    "nombre_exposed        289\n",
    "nombre_recovered    16755\n",
    "Name: 127, dtype: int64"
   ]
  },
  {
   "cell_type": "markdown",
   "id": "23bd3335",
   "metadata": {},
   "source": [
    "nombre_infected       446\n",
    "nombre_sain          2515\n",
    "nombre_exposed        293\n",
    "nombre_recovered    16746\n",
    "Name: 128, dtype: int64"
   ]
  },
  {
   "cell_type": "markdown",
   "id": "1d405527",
   "metadata": {},
   "source": [
    "nombre_infected       470\n",
    "nombre_sain          2508\n",
    "nombre_exposed        313\n",
    "nombre_recovered    16709\n",
    "Name: 129, dtype: int64"
   ]
  },
  {
   "cell_type": "markdown",
   "id": "b0405bfe",
   "metadata": {},
   "source": [
    "nombre_infected       451\n",
    "nombre_sain          2514\n",
    "nombre_exposed        332\n",
    "nombre_recovered    16703\n",
    "Name: 130, dtype: int64"
   ]
  },
  {
   "cell_type": "markdown",
   "id": "0cb5baec",
   "metadata": {},
   "source": [
    "nombre_infected       464\n",
    "nombre_sain          2526\n",
    "nombre_exposed        326\n",
    "nombre_recovered    16684\n",
    "Name: 131, dtype: int64"
   ]
  },
  {
   "cell_type": "markdown",
   "id": "ccc6f5d6",
   "metadata": {},
   "source": [
    "nombre_infected       472\n",
    "nombre_sain          2536\n",
    "nombre_exposed        325\n",
    "nombre_recovered    16667\n",
    "Name: 132, dtype: int64"
   ]
  },
  {
   "cell_type": "markdown",
   "id": "bde086c4",
   "metadata": {},
   "source": [
    "nombre_infected       482\n",
    "nombre_sain          2511\n",
    "nombre_exposed        360\n",
    "nombre_recovered    16647\n",
    "Name: 133, dtype: int64"
   ]
  },
  {
   "cell_type": "markdown",
   "id": "72ec0c24",
   "metadata": {},
   "source": [
    "nombre_infected       490\n",
    "nombre_sain          2504\n",
    "nombre_exposed        370\n",
    "nombre_recovered    16636\n",
    "Name: 134, dtype: int64"
   ]
  },
  {
   "cell_type": "markdown",
   "id": "d2922a04",
   "metadata": {},
   "source": [
    "nombre_infected       520\n",
    "nombre_sain          2507\n",
    "nombre_exposed        344\n",
    "nombre_recovered    16629\n",
    "Name: 135, dtype: int64"
   ]
  },
  {
   "cell_type": "markdown",
   "id": "e44e78a4",
   "metadata": {},
   "source": [
    "nombre_infected       556\n",
    "nombre_sain          2479\n",
    "nombre_exposed        339\n",
    "nombre_recovered    16626\n",
    "Name: 136, dtype: int64"
   ]
  },
  {
   "cell_type": "markdown",
   "id": "dedd0268",
   "metadata": {},
   "source": [
    "nombre_infected       565\n",
    "nombre_sain          2444\n",
    "nombre_exposed        363\n",
    "nombre_recovered    16628\n",
    "Name: 137, dtype: int64"
   ]
  },
  {
   "cell_type": "markdown",
   "id": "76469b50",
   "metadata": {},
   "source": [
    "nombre_infected       588\n",
    "nombre_sain          2426\n",
    "nombre_exposed        377\n",
    "nombre_recovered    16609\n",
    "Name: 138, dtype: int64"
   ]
  },
  {
   "cell_type": "markdown",
   "id": "f8361a70",
   "metadata": {},
   "source": [
    "nombre_infected       608\n",
    "nombre_sain          2399\n",
    "nombre_exposed        393\n",
    "nombre_recovered    16600\n",
    "Name: 139, dtype: int64"
   ]
  },
  {
   "cell_type": "markdown",
   "id": "56522f55",
   "metadata": {},
   "source": [
    "nombre_infected       625\n",
    "nombre_sain          2381\n",
    "nombre_exposed        408\n",
    "nombre_recovered    16586\n",
    "Name: 140, dtype: int64"
   ]
  },
  {
   "cell_type": "markdown",
   "id": "b037d14b",
   "metadata": {},
   "source": [
    "nombre_infected       637\n",
    "nombre_sain          2365\n",
    "nombre_exposed        410\n",
    "nombre_recovered    16588\n",
    "Name: 141, dtype: int64"
   ]
  },
  {
   "cell_type": "markdown",
   "id": "27b2be51",
   "metadata": {},
   "source": [
    "nombre_infected       638\n",
    "nombre_sain          2359\n",
    "nombre_exposed        415\n",
    "nombre_recovered    16588\n",
    "Name: 142, dtype: int64"
   ]
  },
  {
   "cell_type": "markdown",
   "id": "6c844710",
   "metadata": {},
   "source": [
    "nombre_infected       653\n",
    "nombre_sain          2347\n",
    "nombre_exposed        407\n",
    "nombre_recovered    16593\n",
    "Name: 143, dtype: int64"
   ]
  },
  {
   "cell_type": "markdown",
   "id": "bf003820",
   "metadata": {},
   "source": [
    "nombre_infected       679\n",
    "nombre_sain          2326\n",
    "nombre_exposed        404\n",
    "nombre_recovered    16591\n",
    "Name: 144, dtype: int64"
   ]
  },
  {
   "cell_type": "markdown",
   "id": "d50cdf56",
   "metadata": {},
   "source": [
    "nombre_infected       694\n",
    "nombre_sain          2303\n",
    "nombre_exposed        399\n",
    "nombre_recovered    16604\n",
    "Name: 145, dtype: int64"
   ]
  },
  {
   "cell_type": "markdown",
   "id": "c5e1e3ef",
   "metadata": {},
   "source": [
    "nombre_infected       697\n",
    "nombre_sain          2286\n",
    "nombre_exposed        421\n",
    "nombre_recovered    16596\n",
    "Name: 146, dtype: int64"
   ]
  },
  {
   "cell_type": "markdown",
   "id": "f2ff3760",
   "metadata": {},
   "source": [
    "nombre_infected       693\n",
    "nombre_sain          2247\n",
    "nombre_exposed        443\n",
    "nombre_recovered    16617\n",
    "Name: 147, dtype: int64"
   ]
  },
  {
   "cell_type": "markdown",
   "id": "dcfeb444",
   "metadata": {},
   "source": [
    "nombre_infected       709\n",
    "nombre_sain          2229\n",
    "nombre_exposed        432\n",
    "nombre_recovered    16630\n",
    "Name: 148, dtype: int64"
   ]
  },
  {
   "cell_type": "markdown",
   "id": "51b928c1",
   "metadata": {},
   "source": [
    "nombre_infected       719\n",
    "nombre_sain          2206\n",
    "nombre_exposed        428\n",
    "nombre_recovered    16647\n",
    "Name: 149, dtype: int64"
   ]
  },
  {
   "cell_type": "markdown",
   "id": "56e969cd",
   "metadata": {},
   "source": [
    "nombre_infected       715\n",
    "nombre_sain          2162\n",
    "nombre_exposed        436\n",
    "nombre_recovered    16687\n",
    "Name: 150, dtype: int64"
   ]
  },
  {
   "cell_type": "markdown",
   "id": "ef651f89",
   "metadata": {},
   "source": [
    "nombre_infected       701\n",
    "nombre_sain          2137\n",
    "nombre_exposed        420\n",
    "nombre_recovered    16742\n",
    "Name: 151, dtype: int64"
   ]
  },
  {
   "cell_type": "markdown",
   "id": "0f51da61",
   "metadata": {},
   "source": [
    "nombre_infected       724\n",
    "nombre_sain          2082\n",
    "nombre_exposed        415\n",
    "nombre_recovered    16779\n",
    "Name: 152, dtype: int64"
   ]
  },
  {
   "cell_type": "markdown",
   "id": "7c5168cf",
   "metadata": {},
   "source": [
    "nombre_infected       706\n",
    "nombre_sain          2039\n",
    "nombre_exposed        423\n",
    "nombre_recovered    16832\n",
    "Name: 153, dtype: int64"
   ]
  },
  {
   "cell_type": "markdown",
   "id": "8306e44b",
   "metadata": {},
   "source": [
    "nombre_infected       694\n",
    "nombre_sain          2024\n",
    "nombre_exposed        424\n",
    "nombre_recovered    16858\n",
    "Name: 154, dtype: int64"
   ]
  },
  {
   "cell_type": "markdown",
   "id": "a72ea2f3",
   "metadata": {},
   "source": [
    "nombre_infected       704\n",
    "nombre_sain          2010\n",
    "nombre_exposed        403\n",
    "nombre_recovered    16883\n",
    "Name: 155, dtype: int64"
   ]
  },
  {
   "cell_type": "markdown",
   "id": "7ab3412a",
   "metadata": {},
   "source": [
    "nombre_infected       718\n",
    "nombre_sain          1994\n",
    "nombre_exposed        391\n",
    "nombre_recovered    16897\n",
    "Name: 156, dtype: int64"
   ]
  },
  {
   "cell_type": "markdown",
   "id": "a62e2366",
   "metadata": {},
   "source": [
    "nombre_infected       723\n",
    "nombre_sain          1956\n",
    "nombre_exposed        397\n",
    "nombre_recovered    16924\n",
    "Name: 157, dtype: int64"
   ]
  },
  {
   "cell_type": "markdown",
   "id": "2534a9de",
   "metadata": {},
   "source": [
    "nombre_infected       704\n",
    "nombre_sain          1923\n",
    "nombre_exposed        408\n",
    "nombre_recovered    16965\n",
    "Name: 158, dtype: int64"
   ]
  },
  {
   "cell_type": "markdown",
   "id": "42f69b3f",
   "metadata": {},
   "source": [
    "nombre_infected       706\n",
    "nombre_sain          1888\n",
    "nombre_exposed        414\n",
    "nombre_recovered    16992\n",
    "Name: 159, dtype: int64"
   ]
  },
  {
   "cell_type": "markdown",
   "id": "74c30934",
   "metadata": {},
   "source": [
    "nombre_infected       704\n",
    "nombre_sain          1883\n",
    "nombre_exposed        404\n",
    "nombre_recovered    17009\n",
    "Name: 160, dtype: int64"
   ]
  },
  {
   "cell_type": "markdown",
   "id": "800e5376",
   "metadata": {},
   "source": [
    "nombre_infected       707\n",
    "nombre_sain          1862\n",
    "nombre_exposed        407\n",
    "nombre_recovered    17024\n",
    "Name: 161, dtype: int64"
   ]
  },
  {
   "cell_type": "markdown",
   "id": "6c11ed25",
   "metadata": {},
   "source": [
    "nombre_infected       711\n",
    "nombre_sain          1853\n",
    "nombre_exposed        410\n",
    "nombre_recovered    17026\n",
    "Name: 162, dtype: int64"
   ]
  },
  {
   "cell_type": "markdown",
   "id": "5a926946",
   "metadata": {},
   "source": [
    "nombre_infected       718\n",
    "nombre_sain          1859\n",
    "nombre_exposed        400\n",
    "nombre_recovered    17023\n",
    "Name: 163, dtype: int64"
   ]
  },
  {
   "cell_type": "markdown",
   "id": "76ed87d5",
   "metadata": {},
   "source": [
    "nombre_infected       714\n",
    "nombre_sain          1881\n",
    "nombre_exposed        378\n",
    "nombre_recovered    17027\n",
    "Name: 164, dtype: int64"
   ]
  },
  {
   "cell_type": "markdown",
   "id": "59a83a96",
   "metadata": {},
   "source": [
    "nombre_infected       719\n",
    "nombre_sain          1879\n",
    "nombre_exposed        366\n",
    "nombre_recovered    17036\n",
    "Name: 165, dtype: int64"
   ]
  },
  {
   "cell_type": "markdown",
   "id": "51a67133",
   "metadata": {},
   "source": [
    "nombre_infected       706\n",
    "nombre_sain          1856\n",
    "nombre_exposed        390\n",
    "nombre_recovered    17048\n",
    "Name: 166, dtype: int64"
   ]
  },
  {
   "cell_type": "markdown",
   "id": "870174c5",
   "metadata": {},
   "source": [
    "nombre_infected       722\n",
    "nombre_sain          1858\n",
    "nombre_exposed        384\n",
    "nombre_recovered    17036\n",
    "Name: 167, dtype: int64"
   ]
  },
  {
   "cell_type": "markdown",
   "id": "f5e6deb1",
   "metadata": {},
   "source": [
    "nombre_infected       729\n",
    "nombre_sain          1918\n",
    "nombre_exposed        342\n",
    "nombre_recovered    17011\n",
    "Name: 168, dtype: int64"
   ]
  },
  {
   "cell_type": "markdown",
   "id": "89fff00b",
   "metadata": {},
   "source": [
    "nombre_infected       729\n",
    "nombre_sain          1900\n",
    "nombre_exposed        362\n",
    "nombre_recovered    17009\n",
    "Name: 169, dtype: int64"
   ]
  },
  {
   "cell_type": "markdown",
   "id": "b6a12c9e",
   "metadata": {},
   "source": [
    "nombre_infected       719\n",
    "nombre_sain          1920\n",
    "nombre_exposed        359\n",
    "nombre_recovered    17002\n",
    "Name: 170, dtype: int64"
   ]
  },
  {
   "cell_type": "markdown",
   "id": "1bf82bd0",
   "metadata": {},
   "source": [
    "nombre_infected       701\n",
    "nombre_sain          1934\n",
    "nombre_exposed        359\n",
    "nombre_recovered    17006\n",
    "Name: 171, dtype: int64"
   ]
  },
  {
   "cell_type": "markdown",
   "id": "338c1bf3",
   "metadata": {},
   "source": [
    "nombre_infected       700\n",
    "nombre_sain          1977\n",
    "nombre_exposed        354\n",
    "nombre_recovered    16969\n",
    "Name: 172, dtype: int64"
   ]
  },
  {
   "cell_type": "markdown",
   "id": "9caacb1c",
   "metadata": {},
   "source": [
    "nombre_infected       706\n",
    "nombre_sain          1955\n",
    "nombre_exposed        361\n",
    "nombre_recovered    16978\n",
    "Name: 173, dtype: int64"
   ]
  },
  {
   "cell_type": "markdown",
   "id": "b76e8457",
   "metadata": {},
   "source": [
    "nombre_infected       693\n",
    "nombre_sain          1969\n",
    "nombre_exposed        362\n",
    "nombre_recovered    16976\n",
    "Name: 174, dtype: int64"
   ]
  },
  {
   "cell_type": "markdown",
   "id": "9d6398bd",
   "metadata": {},
   "source": [
    "nombre_infected       698\n",
    "nombre_sain          1952\n",
    "nombre_exposed        373\n",
    "nombre_recovered    16977\n",
    "Name: 175, dtype: int64"
   ]
  },
  {
   "cell_type": "markdown",
   "id": "5dacca1a",
   "metadata": {},
   "source": [
    "nombre_infected       688\n",
    "nombre_sain          1933\n",
    "nombre_exposed        393\n",
    "nombre_recovered    16986\n",
    "Name: 176, dtype: int64"
   ]
  },
  {
   "cell_type": "markdown",
   "id": "aa2bf19a",
   "metadata": {},
   "source": [
    "nombre_infected       702\n",
    "nombre_sain          1926\n",
    "nombre_exposed        379\n",
    "nombre_recovered    16993\n",
    "Name: 177, dtype: int64"
   ]
  },
  {
   "cell_type": "markdown",
   "id": "0b55e664",
   "metadata": {},
   "source": [
    "nombre_infected       699\n",
    "nombre_sain          1927\n",
    "nombre_exposed        376\n",
    "nombre_recovered    16998\n",
    "Name: 178, dtype: int64"
   ]
  },
  {
   "cell_type": "markdown",
   "id": "2912b2b8",
   "metadata": {},
   "source": [
    "nombre_infected       706\n",
    "nombre_sain          1934\n",
    "nombre_exposed        368\n",
    "nombre_recovered    16992\n",
    "Name: 179, dtype: int64"
   ]
  },
  {
   "cell_type": "markdown",
   "id": "8df4a5f1",
   "metadata": {},
   "source": [
    "nombre_infected       719\n",
    "nombre_sain          1941\n",
    "nombre_exposed        345\n",
    "nombre_recovered    16995\n",
    "Name: 180, dtype: int64"
   ]
  },
  {
   "cell_type": "markdown",
   "id": "d6dbebd0",
   "metadata": {},
   "source": [
    "nombre_infected       722\n",
    "nombre_sain          1932\n",
    "nombre_exposed        360\n",
    "nombre_recovered    16986\n",
    "Name: 181, dtype: int64"
   ]
  },
  {
   "cell_type": "markdown",
   "id": "aeac83c5",
   "metadata": {},
   "source": [
    "nombre_infected       717\n",
    "nombre_sain          1920\n",
    "nombre_exposed        366\n",
    "nombre_recovered    16997\n",
    "Name: 182, dtype: int64"
   ]
  },
  {
   "cell_type": "markdown",
   "id": "12b825d5",
   "metadata": {},
   "source": [
    "nombre_infected       726\n",
    "nombre_sain          1896\n",
    "nombre_exposed        364\n",
    "nombre_recovered    17014\n",
    "Name: 183, dtype: int64"
   ]
  },
  {
   "cell_type": "markdown",
   "id": "64ba2030",
   "metadata": {},
   "source": [
    "nombre_infected       730\n",
    "nombre_sain          1871\n",
    "nombre_exposed        380\n",
    "nombre_recovered    17019\n",
    "Name: 184, dtype: int64"
   ]
  },
  {
   "cell_type": "markdown",
   "id": "4d43082b",
   "metadata": {},
   "source": [
    "nombre_infected       763\n",
    "nombre_sain          1844\n",
    "nombre_exposed        368\n",
    "nombre_recovered    17025\n",
    "Name: 185, dtype: int64"
   ]
  },
  {
   "cell_type": "markdown",
   "id": "15ec4aa9",
   "metadata": {},
   "source": [
    "nombre_infected       785\n",
    "nombre_sain          1816\n",
    "nombre_exposed        354\n",
    "nombre_recovered    17045\n",
    "Name: 186, dtype: int64"
   ]
  },
  {
   "cell_type": "markdown",
   "id": "6975a373",
   "metadata": {},
   "source": [
    "nombre_infected       797\n",
    "nombre_sain          1797\n",
    "nombre_exposed        341\n",
    "nombre_recovered    17065\n",
    "Name: 187, dtype: int64"
   ]
  },
  {
   "cell_type": "markdown",
   "id": "4424d8f0",
   "metadata": {},
   "source": [
    "nombre_infected       765\n",
    "nombre_sain          1798\n",
    "nombre_exposed        352\n",
    "nombre_recovered    17085\n",
    "Name: 188, dtype: int64"
   ]
  },
  {
   "cell_type": "markdown",
   "id": "a10904f4",
   "metadata": {},
   "source": [
    "nombre_infected       768\n",
    "nombre_sain          1804\n",
    "nombre_exposed        321\n",
    "nombre_recovered    17107\n",
    "Name: 189, dtype: int64"
   ]
  },
  {
   "cell_type": "markdown",
   "id": "428b49f0",
   "metadata": {},
   "source": [
    "nombre_infected       730\n",
    "nombre_sain          1795\n",
    "nombre_exposed        340\n",
    "nombre_recovered    17135\n",
    "Name: 190, dtype: int64"
   ]
  },
  {
   "cell_type": "markdown",
   "id": "b998c2d6",
   "metadata": {},
   "source": [
    "nombre_infected       731\n",
    "nombre_sain          1791\n",
    "nombre_exposed        347\n",
    "nombre_recovered    17131\n",
    "Name: 191, dtype: int64"
   ]
  },
  {
   "cell_type": "markdown",
   "id": "b5168c0b",
   "metadata": {},
   "source": [
    "nombre_infected       726\n",
    "nombre_sain          1802\n",
    "nombre_exposed        335\n",
    "nombre_recovered    17137\n",
    "Name: 192, dtype: int64"
   ]
  },
  {
   "cell_type": "markdown",
   "id": "4a7fa56c",
   "metadata": {},
   "source": [
    "nombre_infected       713\n",
    "nombre_sain          1834\n",
    "nombre_exposed        329\n",
    "nombre_recovered    17124\n",
    "Name: 193, dtype: int64"
   ]
  },
  {
   "cell_type": "markdown",
   "id": "a1a170c0",
   "metadata": {},
   "source": [
    "nombre_infected       717\n",
    "nombre_sain          1859\n",
    "nombre_exposed        312\n",
    "nombre_recovered    17112\n",
    "Name: 194, dtype: int64"
   ]
  },
  {
   "cell_type": "markdown",
   "id": "f0a6608c",
   "metadata": {},
   "source": [
    "nombre_infected       715\n",
    "nombre_sain          1858\n",
    "nombre_exposed        302\n",
    "nombre_recovered    17125\n",
    "Name: 195, dtype: int64"
   ]
  },
  {
   "cell_type": "markdown",
   "id": "584eece4",
   "metadata": {},
   "source": [
    "nombre_infected       721\n",
    "nombre_sain          1880\n",
    "nombre_exposed        291\n",
    "nombre_recovered    17108\n",
    "Name: 196, dtype: int64"
   ]
  },
  {
   "cell_type": "markdown",
   "id": "982afa98",
   "metadata": {},
   "source": [
    "nombre_infected       704\n",
    "nombre_sain          1909\n",
    "nombre_exposed        290\n",
    "nombre_recovered    17097\n",
    "Name: 197, dtype: int64"
   ]
  },
  {
   "cell_type": "markdown",
   "id": "5b56efac",
   "metadata": {},
   "source": [
    "nombre_infected       708\n",
    "nombre_sain          1936\n",
    "nombre_exposed        293\n",
    "nombre_recovered    17063\n",
    "Name: 198, dtype: int64"
   ]
  },
  {
   "cell_type": "markdown",
   "id": "7ec741b9",
   "metadata": {},
   "source": [
    "nombre_infected       683\n",
    "nombre_sain          1949\n",
    "nombre_exposed        317\n",
    "nombre_recovered    17051\n",
    "Name: 199, dtype: int64"
   ]
  },
  {
   "cell_type": "markdown",
   "id": "bc0f5bf9",
   "metadata": {},
   "source": [
    "nombre_infected       657\n",
    "nombre_sain          1959\n",
    "nombre_exposed        329\n",
    "nombre_recovered    17055\n",
    "Name: 200, dtype: int64"
   ]
  },
  {
   "cell_type": "markdown",
   "id": "eebbbba4",
   "metadata": {},
   "source": [
    "nombre_infected       645\n",
    "nombre_sain          1970\n",
    "nombre_exposed        349\n",
    "nombre_recovered    17036\n",
    "Name: 201, dtype: int64"
   ]
  },
  {
   "cell_type": "markdown",
   "id": "fe9b1c4a",
   "metadata": {},
   "source": [
    "nombre_infected       637\n",
    "nombre_sain          1989\n",
    "nombre_exposed        363\n",
    "nombre_recovered    17011\n",
    "Name: 202, dtype: int64"
   ]
  },
  {
   "cell_type": "markdown",
   "id": "ceb6507f",
   "metadata": {},
   "source": [
    "nombre_infected       648\n",
    "nombre_sain          2003\n",
    "nombre_exposed        353\n",
    "nombre_recovered    16996\n",
    "Name: 203, dtype: int64"
   ]
  },
  {
   "cell_type": "markdown",
   "id": "f9abc9b0",
   "metadata": {},
   "source": [
    "nombre_infected       646\n",
    "nombre_sain          2016\n",
    "nombre_exposed        355\n",
    "nombre_recovered    16983\n",
    "Name: 204, dtype: int64"
   ]
  },
  {
   "cell_type": "markdown",
   "id": "41d251f9",
   "metadata": {},
   "source": [
    "nombre_infected       673\n",
    "nombre_sain          2057\n",
    "nombre_exposed        336\n",
    "nombre_recovered    16934\n",
    "Name: 205, dtype: int64"
   ]
  },
  {
   "cell_type": "markdown",
   "id": "2ee64a9a",
   "metadata": {},
   "source": [
    "nombre_infected       680\n",
    "nombre_sain          2089\n",
    "nombre_exposed        341\n",
    "nombre_recovered    16890\n",
    "Name: 206, dtype: int64"
   ]
  },
  {
   "cell_type": "markdown",
   "id": "de0f305f",
   "metadata": {},
   "source": [
    "nombre_infected       689\n",
    "nombre_sain          2116\n",
    "nombre_exposed        334\n",
    "nombre_recovered    16861\n",
    "Name: 207, dtype: int64"
   ]
  },
  {
   "cell_type": "markdown",
   "id": "f7cc53b5",
   "metadata": {},
   "source": [
    "nombre_infected       678\n",
    "nombre_sain          2128\n",
    "nombre_exposed        346\n",
    "nombre_recovered    16848\n",
    "Name: 208, dtype: int64"
   ]
  },
  {
   "cell_type": "markdown",
   "id": "57ee3666",
   "metadata": {},
   "source": [
    "nombre_infected       673\n",
    "nombre_sain          2171\n",
    "nombre_exposed        368\n",
    "nombre_recovered    16788\n",
    "Name: 209, dtype: int64"
   ]
  },
  {
   "cell_type": "markdown",
   "id": "a5859614",
   "metadata": {},
   "source": [
    "nombre_infected       675\n",
    "nombre_sain          2177\n",
    "nombre_exposed        380\n",
    "nombre_recovered    16768\n",
    "Name: 210, dtype: int64"
   ]
  },
  {
   "cell_type": "markdown",
   "id": "e055bf19",
   "metadata": {},
   "source": [
    "nombre_infected       690\n",
    "nombre_sain          2204\n",
    "nombre_exposed        373\n",
    "nombre_recovered    16733\n",
    "Name: 211, dtype: int64"
   ]
  },
  {
   "cell_type": "markdown",
   "id": "86cbf478",
   "metadata": {},
   "source": [
    "nombre_infected       711\n",
    "nombre_sain          2239\n",
    "nombre_exposed        362\n",
    "nombre_recovered    16688\n",
    "Name: 212, dtype: int64"
   ]
  },
  {
   "cell_type": "markdown",
   "id": "d6637c63",
   "metadata": {},
   "source": [
    "nombre_infected       723\n",
    "nombre_sain          2258\n",
    "nombre_exposed        363\n",
    "nombre_recovered    16656\n",
    "Name: 213, dtype: int64"
   ]
  },
  {
   "cell_type": "markdown",
   "id": "d97a9f03",
   "metadata": {},
   "source": [
    "nombre_infected       715\n",
    "nombre_sain          2280\n",
    "nombre_exposed        376\n",
    "nombre_recovered    16629\n",
    "Name: 214, dtype: int64"
   ]
  },
  {
   "cell_type": "markdown",
   "id": "8e31fc86",
   "metadata": {},
   "source": [
    "nombre_infected       717\n",
    "nombre_sain          2299\n",
    "nombre_exposed        387\n",
    "nombre_recovered    16597\n",
    "Name: 215, dtype: int64"
   ]
  },
  {
   "cell_type": "markdown",
   "id": "0f6e001d",
   "metadata": {},
   "source": [
    "nombre_infected       715\n",
    "nombre_sain          2293\n",
    "nombre_exposed        397\n",
    "nombre_recovered    16595\n",
    "Name: 216, dtype: int64"
   ]
  },
  {
   "cell_type": "markdown",
   "id": "c5923bfd",
   "metadata": {},
   "source": [
    "nombre_infected       737\n",
    "nombre_sain          2311\n",
    "nombre_exposed        382\n",
    "nombre_recovered    16570\n",
    "Name: 217, dtype: int64"
   ]
  },
  {
   "cell_type": "markdown",
   "id": "4cd36ad5",
   "metadata": {},
   "source": [
    "nombre_infected       744\n",
    "nombre_sain          2313\n",
    "nombre_exposed        375\n",
    "nombre_recovered    16568\n",
    "Name: 218, dtype: int64"
   ]
  },
  {
   "cell_type": "markdown",
   "id": "055ae921",
   "metadata": {},
   "source": [
    "nombre_infected       744\n",
    "nombre_sain          2350\n",
    "nombre_exposed        363\n",
    "nombre_recovered    16543\n",
    "Name: 219, dtype: int64"
   ]
  },
  {
   "cell_type": "markdown",
   "id": "1209cb89",
   "metadata": {},
   "source": [
    "nombre_infected       750\n",
    "nombre_sain          2349\n",
    "nombre_exposed        374\n",
    "nombre_recovered    16527\n",
    "Name: 220, dtype: int64"
   ]
  },
  {
   "cell_type": "markdown",
   "id": "91c1e26e",
   "metadata": {},
   "source": [
    "nombre_infected       749\n",
    "nombre_sain          2353\n",
    "nombre_exposed        385\n",
    "nombre_recovered    16513\n",
    "Name: 221, dtype: int64"
   ]
  },
  {
   "cell_type": "markdown",
   "id": "241927a5",
   "metadata": {},
   "source": [
    "nombre_infected       756\n",
    "nombre_sain          2365\n",
    "nombre_exposed        384\n",
    "nombre_recovered    16495\n",
    "Name: 222, dtype: int64"
   ]
  },
  {
   "cell_type": "markdown",
   "id": "65f59ad4",
   "metadata": {},
   "source": [
    "nombre_infected       755\n",
    "nombre_sain          2396\n",
    "nombre_exposed        373\n",
    "nombre_recovered    16476\n",
    "Name: 223, dtype: int64"
   ]
  },
  {
   "cell_type": "markdown",
   "id": "3758a6ae",
   "metadata": {},
   "source": [
    "nombre_infected       744\n",
    "nombre_sain          2394\n",
    "nombre_exposed        406\n",
    "nombre_recovered    16456\n",
    "Name: 224, dtype: int64"
   ]
  },
  {
   "cell_type": "markdown",
   "id": "99e2a62d",
   "metadata": {},
   "source": [
    "nombre_infected       761\n",
    "nombre_sain          2396\n",
    "nombre_exposed        403\n",
    "nombre_recovered    16440\n",
    "Name: 225, dtype: int64"
   ]
  },
  {
   "cell_type": "markdown",
   "id": "c69c52ec",
   "metadata": {},
   "source": [
    "nombre_infected       787\n",
    "nombre_sain          2382\n",
    "nombre_exposed        425\n",
    "nombre_recovered    16406\n",
    "Name: 226, dtype: int64"
   ]
  },
  {
   "cell_type": "markdown",
   "id": "0e14d060",
   "metadata": {},
   "source": [
    "nombre_infected       780\n",
    "nombre_sain          2355\n",
    "nombre_exposed        461\n",
    "nombre_recovered    16404\n",
    "Name: 227, dtype: int64"
   ]
  },
  {
   "cell_type": "markdown",
   "id": "0ad34296",
   "metadata": {},
   "source": [
    "nombre_infected       801\n",
    "nombre_sain          2390\n",
    "nombre_exposed        440\n",
    "nombre_recovered    16369\n",
    "Name: 228, dtype: int64"
   ]
  },
  {
   "cell_type": "markdown",
   "id": "bf6fc2b1",
   "metadata": {},
   "source": [
    "nombre_infected       812\n",
    "nombre_sain          2381\n",
    "nombre_exposed        468\n",
    "nombre_recovered    16339\n",
    "Name: 229, dtype: int64"
   ]
  },
  {
   "cell_type": "markdown",
   "id": "d7b8cf76",
   "metadata": {},
   "source": [
    "nombre_infected       825\n",
    "nombre_sain          2401\n",
    "nombre_exposed        472\n",
    "nombre_recovered    16302\n",
    "Name: 230, dtype: int64"
   ]
  },
  {
   "cell_type": "markdown",
   "id": "7dbdd7d1",
   "metadata": {},
   "source": [
    "nombre_infected       842\n",
    "nombre_sain          2380\n",
    "nombre_exposed        503\n",
    "nombre_recovered    16275\n",
    "Name: 231, dtype: int64"
   ]
  },
  {
   "cell_type": "markdown",
   "id": "c471a066",
   "metadata": {},
   "source": [
    "nombre_infected       880\n",
    "nombre_sain          2385\n",
    "nombre_exposed        495\n",
    "nombre_recovered    16240\n",
    "Name: 232, dtype: int64"
   ]
  },
  {
   "cell_type": "markdown",
   "id": "f1eb0286",
   "metadata": {},
   "source": [
    "nombre_infected       893\n",
    "nombre_sain          2390\n",
    "nombre_exposed        478\n",
    "nombre_recovered    16239\n",
    "Name: 233, dtype: int64"
   ]
  },
  {
   "cell_type": "markdown",
   "id": "766c3694",
   "metadata": {},
   "source": [
    "nombre_infected       889\n",
    "nombre_sain          2384\n",
    "nombre_exposed        495\n",
    "nombre_recovered    16232\n",
    "Name: 234, dtype: int64"
   ]
  },
  {
   "cell_type": "markdown",
   "id": "b062c0ee",
   "metadata": {},
   "source": [
    "nombre_infected       901\n",
    "nombre_sain          2373\n",
    "nombre_exposed        501\n",
    "nombre_recovered    16225\n",
    "Name: 235, dtype: int64"
   ]
  },
  {
   "cell_type": "markdown",
   "id": "18b43e0c",
   "metadata": {},
   "source": [
    "nombre_infected       914\n",
    "nombre_sain          2351\n",
    "nombre_exposed        520\n",
    "nombre_recovered    16215\n",
    "Name: 236, dtype: int64"
   ]
  },
  {
   "cell_type": "markdown",
   "id": "98f56d6d",
   "metadata": {},
   "source": [
    "nombre_infected       912\n",
    "nombre_sain          2334\n",
    "nombre_exposed        546\n",
    "nombre_recovered    16208\n",
    "Name: 237, dtype: int64"
   ]
  },
  {
   "cell_type": "markdown",
   "id": "6670a9db",
   "metadata": {},
   "source": [
    "nombre_infected       938\n",
    "nombre_sain          2330\n",
    "nombre_exposed        545\n",
    "nombre_recovered    16187\n",
    "Name: 238, dtype: int64"
   ]
  },
  {
   "cell_type": "markdown",
   "id": "8ba673e8",
   "metadata": {},
   "source": [
    "nombre_infected       949\n",
    "nombre_sain          2328\n",
    "nombre_exposed        533\n",
    "nombre_recovered    16190\n",
    "Name: 239, dtype: int64"
   ]
  },
  {
   "cell_type": "markdown",
   "id": "2414a176",
   "metadata": {},
   "source": [
    "nombre_infected       951\n",
    "nombre_sain          2314\n",
    "nombre_exposed        531\n",
    "nombre_recovered    16204\n",
    "Name: 240, dtype: int64"
   ]
  },
  {
   "cell_type": "markdown",
   "id": "a606f735",
   "metadata": {},
   "source": [
    "nombre_infected       979\n",
    "nombre_sain          2281\n",
    "nombre_exposed        528\n",
    "nombre_recovered    16212\n",
    "Name: 241, dtype: int64"
   ]
  },
  {
   "cell_type": "markdown",
   "id": "5fb9f2c2",
   "metadata": {},
   "source": [
    "nombre_infected       992\n",
    "nombre_sain          2249\n",
    "nombre_exposed        536\n",
    "nombre_recovered    16223\n",
    "Name: 242, dtype: int64"
   ]
  },
  {
   "cell_type": "markdown",
   "id": "337afaae",
   "metadata": {},
   "source": [
    "nombre_infected      1012\n",
    "nombre_sain          2224\n",
    "nombre_exposed        551\n",
    "nombre_recovered    16213\n",
    "Name: 243, dtype: int64"
   ]
  },
  {
   "cell_type": "markdown",
   "id": "6cf0a715",
   "metadata": {},
   "source": [
    "nombre_infected      1005\n",
    "nombre_sain          2197\n",
    "nombre_exposed        558\n",
    "nombre_recovered    16240\n",
    "Name: 244, dtype: int64"
   ]
  },
  {
   "cell_type": "markdown",
   "id": "7a98fd3f",
   "metadata": {},
   "source": [
    "nombre_infected      1034\n",
    "nombre_sain          2166\n",
    "nombre_exposed        561\n",
    "nombre_recovered    16239\n",
    "Name: 245, dtype: int64"
   ]
  },
  {
   "cell_type": "markdown",
   "id": "28ed83e9",
   "metadata": {},
   "source": [
    "nombre_infected      1017\n",
    "nombre_sain          2133\n",
    "nombre_exposed        558\n",
    "nombre_recovered    16292\n",
    "Name: 246, dtype: int64"
   ]
  },
  {
   "cell_type": "markdown",
   "id": "e87df262",
   "metadata": {},
   "source": [
    "nombre_infected      1041\n",
    "nombre_sain          2097\n",
    "nombre_exposed        539\n",
    "nombre_recovered    16323\n",
    "Name: 247, dtype: int64"
   ]
  },
  {
   "cell_type": "markdown",
   "id": "f2b5ded9",
   "metadata": {},
   "source": [
    "nombre_infected      1034\n",
    "nombre_sain          2073\n",
    "nombre_exposed        530\n",
    "nombre_recovered    16363\n",
    "Name: 248, dtype: int64"
   ]
  },
  {
   "cell_type": "markdown",
   "id": "9c67113b",
   "metadata": {},
   "source": [
    "nombre_infected      1048\n",
    "nombre_sain          2040\n",
    "nombre_exposed        526\n",
    "nombre_recovered    16386\n",
    "Name: 249, dtype: int64"
   ]
  },
  {
   "cell_type": "markdown",
   "id": "e8c0a5cd",
   "metadata": {},
   "source": [
    "nombre_infected      1040\n",
    "nombre_sain          2025\n",
    "nombre_exposed        525\n",
    "nombre_recovered    16410\n",
    "Name: 250, dtype: int64"
   ]
  },
  {
   "cell_type": "markdown",
   "id": "b1114618",
   "metadata": {},
   "source": [
    "nombre_infected      1043\n",
    "nombre_sain          2005\n",
    "nombre_exposed        513\n",
    "nombre_recovered    16439\n",
    "Name: 251, dtype: int64"
   ]
  },
  {
   "cell_type": "markdown",
   "id": "b60915fb",
   "metadata": {},
   "source": [
    "nombre_infected      1024\n",
    "nombre_sain          1991\n",
    "nombre_exposed        520\n",
    "nombre_recovered    16465\n",
    "Name: 252, dtype: int64"
   ]
  },
  {
   "cell_type": "markdown",
   "id": "fe7735ea",
   "metadata": {},
   "source": [
    "nombre_infected      1037\n",
    "nombre_sain          1966\n",
    "nombre_exposed        502\n",
    "nombre_recovered    16495\n",
    "Name: 253, dtype: int64"
   ]
  },
  {
   "cell_type": "markdown",
   "id": "3ac62683",
   "metadata": {},
   "source": [
    "nombre_infected      1015\n",
    "nombre_sain          1957\n",
    "nombre_exposed        495\n",
    "nombre_recovered    16533\n",
    "Name: 254, dtype: int64"
   ]
  },
  {
   "cell_type": "markdown",
   "id": "e07a2425",
   "metadata": {},
   "source": [
    "nombre_infected      1014\n",
    "nombre_sain          1948\n",
    "nombre_exposed        503\n",
    "nombre_recovered    16535\n",
    "Name: 255, dtype: int64"
   ]
  },
  {
   "cell_type": "markdown",
   "id": "ea85b0b4",
   "metadata": {},
   "source": [
    "nombre_infected      1014\n",
    "nombre_sain          1932\n",
    "nombre_exposed        502\n",
    "nombre_recovered    16552\n",
    "Name: 256, dtype: int64"
   ]
  },
  {
   "cell_type": "markdown",
   "id": "becc050f",
   "metadata": {},
   "source": [
    "nombre_infected      1007\n",
    "nombre_sain          1926\n",
    "nombre_exposed        501\n",
    "nombre_recovered    16566\n",
    "Name: 257, dtype: int64"
   ]
  },
  {
   "cell_type": "markdown",
   "id": "ebbe7cb1",
   "metadata": {},
   "source": [
    "nombre_infected      1008\n",
    "nombre_sain          1923\n",
    "nombre_exposed        487\n",
    "nombre_recovered    16582\n",
    "Name: 258, dtype: int64"
   ]
  },
  {
   "cell_type": "markdown",
   "id": "db99c3d5",
   "metadata": {},
   "source": [
    "nombre_infected       996\n",
    "nombre_sain          1939\n",
    "nombre_exposed        485\n",
    "nombre_recovered    16580\n",
    "Name: 259, dtype: int64"
   ]
  },
  {
   "cell_type": "markdown",
   "id": "55393f4a",
   "metadata": {},
   "source": [
    "nombre_infected      1005\n",
    "nombre_sain          1945\n",
    "nombre_exposed        485\n",
    "nombre_recovered    16565\n",
    "Name: 260, dtype: int64"
   ]
  },
  {
   "cell_type": "markdown",
   "id": "d68f0082",
   "metadata": {},
   "source": [
    "nombre_infected      1008\n",
    "nombre_sain          1926\n",
    "nombre_exposed        494\n",
    "nombre_recovered    16572\n",
    "Name: 261, dtype: int64"
   ]
  },
  {
   "cell_type": "markdown",
   "id": "501b4e92",
   "metadata": {},
   "source": [
    "nombre_infected       984\n",
    "nombre_sain          1913\n",
    "nombre_exposed        516\n",
    "nombre_recovered    16587\n",
    "Name: 262, dtype: int64"
   ]
  },
  {
   "cell_type": "markdown",
   "id": "4427f52c",
   "metadata": {},
   "source": [
    "nombre_infected       989\n",
    "nombre_sain          1914\n",
    "nombre_exposed        497\n",
    "nombre_recovered    16600\n",
    "Name: 263, dtype: int64"
   ]
  },
  {
   "cell_type": "markdown",
   "id": "c165daff",
   "metadata": {},
   "source": [
    "nombre_infected       976\n",
    "nombre_sain          1915\n",
    "nombre_exposed        479\n",
    "nombre_recovered    16630\n",
    "Name: 264, dtype: int64"
   ]
  },
  {
   "cell_type": "markdown",
   "id": "453b46f7",
   "metadata": {},
   "source": [
    "nombre_infected       997\n",
    "nombre_sain          1905\n",
    "nombre_exposed        472\n",
    "nombre_recovered    16626\n",
    "Name: 265, dtype: int64"
   ]
  },
  {
   "cell_type": "markdown",
   "id": "82bc153b",
   "metadata": {},
   "source": [
    "nombre_infected       995\n",
    "nombre_sain          1898\n",
    "nombre_exposed        467\n",
    "nombre_recovered    16640\n",
    "Name: 266, dtype: int64"
   ]
  },
  {
   "cell_type": "markdown",
   "id": "0e4b3a43",
   "metadata": {},
   "source": [
    "nombre_infected       987\n",
    "nombre_sain          1881\n",
    "nombre_exposed        455\n",
    "nombre_recovered    16677\n",
    "Name: 267, dtype: int64"
   ]
  },
  {
   "cell_type": "markdown",
   "id": "218cae35",
   "metadata": {},
   "source": [
    "nombre_infected      1000\n",
    "nombre_sain          1894\n",
    "nombre_exposed        439\n",
    "nombre_recovered    16667\n",
    "Name: 268, dtype: int64"
   ]
  },
  {
   "cell_type": "markdown",
   "id": "bae7dd73",
   "metadata": {},
   "source": [
    "nombre_infected       989\n",
    "nombre_sain          1894\n",
    "nombre_exposed        440\n",
    "nombre_recovered    16677\n",
    "Name: 269, dtype: int64"
   ]
  },
  {
   "cell_type": "markdown",
   "id": "172f9539",
   "metadata": {},
   "source": [
    "nombre_infected       968\n",
    "nombre_sain          1898\n",
    "nombre_exposed        439\n",
    "nombre_recovered    16695\n",
    "Name: 270, dtype: int64"
   ]
  },
  {
   "cell_type": "markdown",
   "id": "bbc082e0",
   "metadata": {},
   "source": [
    "nombre_infected       966\n",
    "nombre_sain          1867\n",
    "nombre_exposed        475\n",
    "nombre_recovered    16692\n",
    "Name: 271, dtype: int64"
   ]
  },
  {
   "cell_type": "markdown",
   "id": "10f8b418",
   "metadata": {},
   "source": [
    "nombre_infected       955\n",
    "nombre_sain          1872\n",
    "nombre_exposed        481\n",
    "nombre_recovered    16692\n",
    "Name: 272, dtype: int64"
   ]
  },
  {
   "cell_type": "markdown",
   "id": "aef102a3",
   "metadata": {},
   "source": [
    "nombre_infected       970\n",
    "nombre_sain          1869\n",
    "nombre_exposed        473\n",
    "nombre_recovered    16688\n",
    "Name: 273, dtype: int64"
   ]
  },
  {
   "cell_type": "markdown",
   "id": "638bd7b8",
   "metadata": {},
   "source": [
    "nombre_infected       982\n",
    "nombre_sain          1876\n",
    "nombre_exposed        472\n",
    "nombre_recovered    16670\n",
    "Name: 274, dtype: int64"
   ]
  },
  {
   "cell_type": "markdown",
   "id": "7cb1e35f",
   "metadata": {},
   "source": [
    "nombre_infected       969\n",
    "nombre_sain          1873\n",
    "nombre_exposed        458\n",
    "nombre_recovered    16700\n",
    "Name: 275, dtype: int64"
   ]
  },
  {
   "cell_type": "markdown",
   "id": "f8033b33",
   "metadata": {},
   "source": [
    "nombre_infected       987\n",
    "nombre_sain          1873\n",
    "nombre_exposed        445\n",
    "nombre_recovered    16695\n",
    "Name: 276, dtype: int64"
   ]
  },
  {
   "cell_type": "markdown",
   "id": "f7385f4e",
   "metadata": {},
   "source": [
    "nombre_infected       991\n",
    "nombre_sain          1864\n",
    "nombre_exposed        440\n",
    "nombre_recovered    16705\n",
    "Name: 277, dtype: int64"
   ]
  },
  {
   "cell_type": "markdown",
   "id": "4b6e1bc7",
   "metadata": {},
   "source": [
    "nombre_infected       977\n",
    "nombre_sain          1867\n",
    "nombre_exposed        458\n",
    "nombre_recovered    16698\n",
    "Name: 278, dtype: int64"
   ]
  },
  {
   "cell_type": "markdown",
   "id": "7ec112f3",
   "metadata": {},
   "source": [
    "nombre_infected       968\n",
    "nombre_sain          1882\n",
    "nombre_exposed        463\n",
    "nombre_recovered    16687\n",
    "Name: 279, dtype: int64"
   ]
  },
  {
   "cell_type": "markdown",
   "id": "f51b7f9b",
   "metadata": {},
   "source": [
    "nombre_infected       967\n",
    "nombre_sain          1931\n",
    "nombre_exposed        443\n",
    "nombre_recovered    16659\n",
    "Name: 280, dtype: int64"
   ]
  },
  {
   "cell_type": "markdown",
   "id": "74fc26df",
   "metadata": {},
   "source": [
    "nombre_infected       958\n",
    "nombre_sain          1950\n",
    "nombre_exposed        438\n",
    "nombre_recovered    16654\n",
    "Name: 281, dtype: int64"
   ]
  },
  {
   "cell_type": "markdown",
   "id": "a924adcc",
   "metadata": {},
   "source": [
    "nombre_infected       931\n",
    "nombre_sain          1956\n",
    "nombre_exposed        475\n",
    "nombre_recovered    16638\n",
    "Name: 282, dtype: int64"
   ]
  },
  {
   "cell_type": "markdown",
   "id": "5226b478",
   "metadata": {},
   "source": [
    "nombre_infected       943\n",
    "nombre_sain          1954\n",
    "nombre_exposed        475\n",
    "nombre_recovered    16628\n",
    "Name: 283, dtype: int64"
   ]
  },
  {
   "cell_type": "markdown",
   "id": "a084bee0",
   "metadata": {},
   "source": [
    "nombre_infected       944\n",
    "nombre_sain          1953\n",
    "nombre_exposed        471\n",
    "nombre_recovered    16632\n",
    "Name: 284, dtype: int64"
   ]
  },
  {
   "cell_type": "markdown",
   "id": "dbd56f22",
   "metadata": {},
   "source": [
    "nombre_infected       964\n",
    "nombre_sain          1979\n",
    "nombre_exposed        481\n",
    "nombre_recovered    16576\n",
    "Name: 285, dtype: int64"
   ]
  },
  {
   "cell_type": "markdown",
   "id": "03b2f8ca",
   "metadata": {},
   "source": [
    "nombre_infected       972\n",
    "nombre_sain          1980\n",
    "nombre_exposed        491\n",
    "nombre_recovered    16557\n",
    "Name: 286, dtype: int64"
   ]
  },
  {
   "cell_type": "markdown",
   "id": "f61c9435",
   "metadata": {},
   "source": [
    "nombre_infected       970\n",
    "nombre_sain          1976\n",
    "nombre_exposed        508\n",
    "nombre_recovered    16546\n",
    "Name: 287, dtype: int64"
   ]
  },
  {
   "cell_type": "markdown",
   "id": "558c1a1b",
   "metadata": {},
   "source": [
    "nombre_infected       981\n",
    "nombre_sain          2012\n",
    "nombre_exposed        480\n",
    "nombre_recovered    16527\n",
    "Name: 288, dtype: int64"
   ]
  },
  {
   "cell_type": "markdown",
   "id": "729db44a",
   "metadata": {},
   "source": [
    "nombre_infected       999\n",
    "nombre_sain          2004\n",
    "nombre_exposed        468\n",
    "nombre_recovered    16529\n",
    "Name: 289, dtype: int64"
   ]
  },
  {
   "cell_type": "markdown",
   "id": "f6ebfc5d",
   "metadata": {},
   "source": [
    "nombre_infected       988\n",
    "nombre_sain          2017\n",
    "nombre_exposed        475\n",
    "nombre_recovered    16520\n",
    "Name: 290, dtype: int64"
   ]
  },
  {
   "cell_type": "markdown",
   "id": "2809e797",
   "metadata": {},
   "source": [
    "nombre_infected       997\n",
    "nombre_sain          2004\n",
    "nombre_exposed        475\n",
    "nombre_recovered    16524\n",
    "Name: 291, dtype: int64"
   ]
  },
  {
   "cell_type": "markdown",
   "id": "87c784c8",
   "metadata": {},
   "source": [
    "nombre_infected       998\n",
    "nombre_sain          1993\n",
    "nombre_exposed        490\n",
    "nombre_recovered    16519\n",
    "Name: 292, dtype: int64"
   ]
  },
  {
   "cell_type": "markdown",
   "id": "823cb05d",
   "metadata": {},
   "source": [
    "nombre_infected      1005\n",
    "nombre_sain          1976\n",
    "nombre_exposed        498\n",
    "nombre_recovered    16521\n",
    "Name: 293, dtype: int64"
   ]
  },
  {
   "cell_type": "markdown",
   "id": "e63c69c4",
   "metadata": {},
   "source": [
    "nombre_infected      1025\n",
    "nombre_sain          1963\n",
    "nombre_exposed        489\n",
    "nombre_recovered    16523\n",
    "Name: 294, dtype: int64"
   ]
  },
  {
   "cell_type": "markdown",
   "id": "759f2eca",
   "metadata": {},
   "source": [
    "nombre_infected      1023\n",
    "nombre_sain          1962\n",
    "nombre_exposed        496\n",
    "nombre_recovered    16519\n",
    "Name: 295, dtype: int64"
   ]
  },
  {
   "cell_type": "markdown",
   "id": "2173bd2a",
   "metadata": {},
   "source": [
    "nombre_infected      1030\n",
    "nombre_sain          1935\n",
    "nombre_exposed        501\n",
    "nombre_recovered    16534\n",
    "Name: 296, dtype: int64"
   ]
  },
  {
   "cell_type": "markdown",
   "id": "d3bec26a",
   "metadata": {},
   "source": [
    "nombre_infected      1008\n",
    "nombre_sain          1928\n",
    "nombre_exposed        536\n",
    "nombre_recovered    16528\n",
    "Name: 297, dtype: int64"
   ]
  },
  {
   "cell_type": "markdown",
   "id": "bf272d7d",
   "metadata": {},
   "source": [
    "nombre_infected      1020\n",
    "nombre_sain          1906\n",
    "nombre_exposed        525\n",
    "nombre_recovered    16549\n",
    "Name: 298, dtype: int64"
   ]
  },
  {
   "cell_type": "markdown",
   "id": "d5cc8a28",
   "metadata": {},
   "source": [
    "nombre_infected      1020\n",
    "nombre_sain          1917\n",
    "nombre_exposed        497\n",
    "nombre_recovered    16566\n",
    "Name: 299, dtype: int64"
   ]
  },
  {
   "cell_type": "markdown",
   "id": "c918b9eb",
   "metadata": {},
   "source": [
    "nombre_infected      1031\n",
    "nombre_sain          1911\n",
    "nombre_exposed        475\n",
    "nombre_recovered    16583\n",
    "Name: 300, dtype: int64"
   ]
  },
  {
   "cell_type": "markdown",
   "id": "9886bdd2",
   "metadata": {},
   "source": [
    "nombre_infected      1039\n",
    "nombre_sain          1895\n",
    "nombre_exposed        487\n",
    "nombre_recovered    16579\n",
    "Name: 301, dtype: int64"
   ]
  },
  {
   "cell_type": "markdown",
   "id": "2d660dd1",
   "metadata": {},
   "source": [
    "nombre_infected      1010\n",
    "nombre_sain          1900\n",
    "nombre_exposed        483\n",
    "nombre_recovered    16607\n",
    "Name: 302, dtype: int64"
   ]
  },
  {
   "cell_type": "markdown",
   "id": "4f7f7627",
   "metadata": {},
   "source": [
    "nombre_infected      1014\n",
    "nombre_sain          1885\n",
    "nombre_exposed        478\n",
    "nombre_recovered    16623\n",
    "Name: 303, dtype: int64"
   ]
  },
  {
   "cell_type": "markdown",
   "id": "46cefe3c",
   "metadata": {},
   "source": [
    "nombre_infected      1033\n",
    "nombre_sain          1884\n",
    "nombre_exposed        461\n",
    "nombre_recovered    16622\n",
    "Name: 304, dtype: int64"
   ]
  },
  {
   "cell_type": "markdown",
   "id": "5761dd0b",
   "metadata": {},
   "source": [
    "nombre_infected      1038\n",
    "nombre_sain          1883\n",
    "nombre_exposed        462\n",
    "nombre_recovered    16617\n",
    "Name: 305, dtype: int64"
   ]
  },
  {
   "cell_type": "markdown",
   "id": "c909148f",
   "metadata": {},
   "source": [
    "nombre_infected      1035\n",
    "nombre_sain          1869\n",
    "nombre_exposed        458\n",
    "nombre_recovered    16638\n",
    "Name: 306, dtype: int64"
   ]
  },
  {
   "cell_type": "markdown",
   "id": "9b3065e0",
   "metadata": {},
   "source": [
    "nombre_infected      1023\n",
    "nombre_sain          1865\n",
    "nombre_exposed        449\n",
    "nombre_recovered    16663\n",
    "Name: 307, dtype: int64"
   ]
  },
  {
   "cell_type": "markdown",
   "id": "42d82736",
   "metadata": {},
   "source": [
    "nombre_infected       988\n",
    "nombre_sain          1841\n",
    "nombre_exposed        494\n",
    "nombre_recovered    16677\n",
    "Name: 308, dtype: int64"
   ]
  },
  {
   "cell_type": "markdown",
   "id": "053b568b",
   "metadata": {},
   "source": [
    "nombre_infected       969\n",
    "nombre_sain          1890\n",
    "nombre_exposed        467\n",
    "nombre_recovered    16674\n",
    "Name: 309, dtype: int64"
   ]
  },
  {
   "cell_type": "markdown",
   "id": "ed256a60",
   "metadata": {},
   "source": [
    "nombre_infected       993\n",
    "nombre_sain          1898\n",
    "nombre_exposed        450\n",
    "nombre_recovered    16659\n",
    "Name: 310, dtype: int64"
   ]
  },
  {
   "cell_type": "markdown",
   "id": "12290b86",
   "metadata": {},
   "source": [
    "nombre_infected       979\n",
    "nombre_sain          1903\n",
    "nombre_exposed        471\n",
    "nombre_recovered    16647\n",
    "Name: 311, dtype: int64"
   ]
  },
  {
   "cell_type": "markdown",
   "id": "5ba01b37",
   "metadata": {},
   "source": [
    "nombre_infected       977\n",
    "nombre_sain          1904\n",
    "nombre_exposed        479\n",
    "nombre_recovered    16640\n",
    "Name: 312, dtype: int64"
   ]
  },
  {
   "cell_type": "markdown",
   "id": "71962ffb",
   "metadata": {},
   "source": [
    "nombre_infected       972\n",
    "nombre_sain          1931\n",
    "nombre_exposed        471\n",
    "nombre_recovered    16626\n",
    "Name: 313, dtype: int64"
   ]
  },
  {
   "cell_type": "markdown",
   "id": "c6fa18e7",
   "metadata": {},
   "source": [
    "nombre_infected       957\n",
    "nombre_sain          1941\n",
    "nombre_exposed        456\n",
    "nombre_recovered    16646\n",
    "Name: 314, dtype: int64"
   ]
  },
  {
   "cell_type": "markdown",
   "id": "810ac549",
   "metadata": {},
   "source": [
    "nombre_infected       945\n",
    "nombre_sain          1939\n",
    "nombre_exposed        487\n",
    "nombre_recovered    16629\n",
    "Name: 315, dtype: int64"
   ]
  },
  {
   "cell_type": "markdown",
   "id": "1e4336f1",
   "metadata": {},
   "source": [
    "nombre_infected       935\n",
    "nombre_sain          1941\n",
    "nombre_exposed        492\n",
    "nombre_recovered    16632\n",
    "Name: 316, dtype: int64"
   ]
  },
  {
   "cell_type": "markdown",
   "id": "c5277a10",
   "metadata": {},
   "source": [
    "nombre_infected       939\n",
    "nombre_sain          1943\n",
    "nombre_exposed        474\n",
    "nombre_recovered    16644\n",
    "Name: 317, dtype: int64"
   ]
  },
  {
   "cell_type": "markdown",
   "id": "1bc58126",
   "metadata": {},
   "source": [
    "nombre_infected       934\n",
    "nombre_sain          1957\n",
    "nombre_exposed        499\n",
    "nombre_recovered    16610\n",
    "Name: 318, dtype: int64"
   ]
  },
  {
   "cell_type": "markdown",
   "id": "24f6ecf1",
   "metadata": {},
   "source": [
    "nombre_infected       944\n",
    "nombre_sain          1947\n",
    "nombre_exposed        499\n",
    "nombre_recovered    16610\n",
    "Name: 319, dtype: int64"
   ]
  },
  {
   "cell_type": "markdown",
   "id": "c0830e8d",
   "metadata": {},
   "source": [
    "nombre_infected       943\n",
    "nombre_sain          1942\n",
    "nombre_exposed        503\n",
    "nombre_recovered    16612\n",
    "Name: 320, dtype: int64"
   ]
  },
  {
   "cell_type": "markdown",
   "id": "005bc1f3",
   "metadata": {},
   "source": [
    "nombre_infected       931\n",
    "nombre_sain          1948\n",
    "nombre_exposed        500\n",
    "nombre_recovered    16621\n",
    "Name: 321, dtype: int64"
   ]
  },
  {
   "cell_type": "markdown",
   "id": "d0afd523",
   "metadata": {},
   "source": [
    "nombre_infected       911\n",
    "nombre_sain          1958\n",
    "nombre_exposed        489\n",
    "nombre_recovered    16642\n",
    "Name: 322, dtype: int64"
   ]
  },
  {
   "cell_type": "markdown",
   "id": "834408b0",
   "metadata": {},
   "source": [
    "nombre_infected       912\n",
    "nombre_sain          1972\n",
    "nombre_exposed        466\n",
    "nombre_recovered    16650\n",
    "Name: 323, dtype: int64"
   ]
  },
  {
   "cell_type": "markdown",
   "id": "fea5a7c4",
   "metadata": {},
   "source": [
    "nombre_infected       941\n",
    "nombre_sain          1973\n",
    "nombre_exposed        456\n",
    "nombre_recovered    16630\n",
    "Name: 324, dtype: int64"
   ]
  },
  {
   "cell_type": "markdown",
   "id": "246afb83",
   "metadata": {},
   "source": [
    "nombre_infected       943\n",
    "nombre_sain          1951\n",
    "nombre_exposed        491\n",
    "nombre_recovered    16615\n",
    "Name: 325, dtype: int64"
   ]
  },
  {
   "cell_type": "markdown",
   "id": "0f1dec8e",
   "metadata": {},
   "source": [
    "nombre_infected       959\n",
    "nombre_sain          1948\n",
    "nombre_exposed        488\n",
    "nombre_recovered    16605\n",
    "Name: 326, dtype: int64"
   ]
  },
  {
   "cell_type": "markdown",
   "id": "3a4dc50e",
   "metadata": {},
   "source": [
    "nombre_infected       961\n",
    "nombre_sain          1955\n",
    "nombre_exposed        477\n",
    "nombre_recovered    16607\n",
    "Name: 327, dtype: int64"
   ]
  },
  {
   "cell_type": "markdown",
   "id": "aa9605a4",
   "metadata": {},
   "source": [
    "nombre_infected       966\n",
    "nombre_sain          1954\n",
    "nombre_exposed        489\n",
    "nombre_recovered    16591\n",
    "Name: 328, dtype: int64"
   ]
  },
  {
   "cell_type": "markdown",
   "id": "12d89ea3",
   "metadata": {},
   "source": [
    "nombre_infected       983\n",
    "nombre_sain          1942\n",
    "nombre_exposed        488\n",
    "nombre_recovered    16587\n",
    "Name: 329, dtype: int64"
   ]
  },
  {
   "cell_type": "markdown",
   "id": "c1f21194",
   "metadata": {},
   "source": [
    "nombre_infected       999\n",
    "nombre_sain          1925\n",
    "nombre_exposed        499\n",
    "nombre_recovered    16577\n",
    "Name: 330, dtype: int64"
   ]
  },
  {
   "cell_type": "markdown",
   "id": "27793095",
   "metadata": {},
   "source": [
    "nombre_infected      1011\n",
    "nombre_sain          1902\n",
    "nombre_exposed        500\n",
    "nombre_recovered    16587\n",
    "Name: 331, dtype: int64"
   ]
  },
  {
   "cell_type": "markdown",
   "id": "8dcf7b8d",
   "metadata": {},
   "source": [
    "nombre_infected      1022\n",
    "nombre_sain          1867\n",
    "nombre_exposed        511\n",
    "nombre_recovered    16600\n",
    "Name: 332, dtype: int64"
   ]
  },
  {
   "cell_type": "markdown",
   "id": "0ce916d8",
   "metadata": {},
   "source": [
    "nombre_infected      1038\n",
    "nombre_sain          1837\n",
    "nombre_exposed        527\n",
    "nombre_recovered    16598\n",
    "Name: 333, dtype: int64"
   ]
  },
  {
   "cell_type": "markdown",
   "id": "167dd2fc",
   "metadata": {},
   "source": [
    "nombre_infected      1061\n",
    "nombre_sain          1788\n",
    "nombre_exposed        540\n",
    "nombre_recovered    16611\n",
    "Name: 334, dtype: int64"
   ]
  },
  {
   "cell_type": "markdown",
   "id": "109d3aa8",
   "metadata": {},
   "source": [
    "nombre_infected      1063\n",
    "nombre_sain          1761\n",
    "nombre_exposed        536\n",
    "nombre_recovered    16640\n",
    "Name: 335, dtype: int64"
   ]
  },
  {
   "cell_type": "markdown",
   "id": "4d9c22bc",
   "metadata": {},
   "source": [
    "nombre_infected      1066\n",
    "nombre_sain          1746\n",
    "nombre_exposed        539\n",
    "nombre_recovered    16649\n",
    "Name: 336, dtype: int64"
   ]
  },
  {
   "cell_type": "markdown",
   "id": "7f446a23",
   "metadata": {},
   "source": [
    "nombre_infected      1082\n",
    "nombre_sain          1737\n",
    "nombre_exposed        522\n",
    "nombre_recovered    16659\n",
    "Name: 337, dtype: int64"
   ]
  },
  {
   "cell_type": "markdown",
   "id": "9e38f50c",
   "metadata": {},
   "source": [
    "nombre_infected      1075\n",
    "nombre_sain          1704\n",
    "nombre_exposed        525\n",
    "nombre_recovered    16696\n",
    "Name: 338, dtype: int64"
   ]
  },
  {
   "cell_type": "markdown",
   "id": "256fdaad",
   "metadata": {},
   "source": [
    "nombre_infected      1105\n",
    "nombre_sain          1668\n",
    "nombre_exposed        518\n",
    "nombre_recovered    16709\n",
    "Name: 339, dtype: int64"
   ]
  },
  {
   "cell_type": "markdown",
   "id": "fb997ba6",
   "metadata": {},
   "source": [
    "nombre_infected      1113\n",
    "nombre_sain          1626\n",
    "nombre_exposed        525\n",
    "nombre_recovered    16736\n",
    "Name: 340, dtype: int64"
   ]
  },
  {
   "cell_type": "markdown",
   "id": "aed852b2",
   "metadata": {},
   "source": [
    "nombre_infected      1114\n",
    "nombre_sain          1606\n",
    "nombre_exposed        501\n",
    "nombre_recovered    16779\n",
    "Name: 341, dtype: int64"
   ]
  },
  {
   "cell_type": "markdown",
   "id": "f0d1bc4f",
   "metadata": {},
   "source": [
    "nombre_infected      1113\n",
    "nombre_sain          1591\n",
    "nombre_exposed        511\n",
    "nombre_recovered    16785\n",
    "Name: 342, dtype: int64"
   ]
  },
  {
   "cell_type": "markdown",
   "id": "9ae515b6",
   "metadata": {},
   "source": [
    "nombre_infected      1105\n",
    "nombre_sain          1558\n",
    "nombre_exposed        516\n",
    "nombre_recovered    16821\n",
    "Name: 343, dtype: int64"
   ]
  },
  {
   "cell_type": "markdown",
   "id": "e3efc0be",
   "metadata": {},
   "source": [
    "nombre_infected      1111\n",
    "nombre_sain          1568\n",
    "nombre_exposed        515\n",
    "nombre_recovered    16806\n",
    "Name: 344, dtype: int64"
   ]
  },
  {
   "cell_type": "markdown",
   "id": "41eb9619",
   "metadata": {},
   "source": [
    "nombre_infected      1105\n",
    "nombre_sain          1573\n",
    "nombre_exposed        499\n",
    "nombre_recovered    16823\n",
    "Name: 345, dtype: int64"
   ]
  },
  {
   "cell_type": "markdown",
   "id": "148479b2",
   "metadata": {},
   "source": [
    "nombre_infected      1096\n",
    "nombre_sain          1574\n",
    "nombre_exposed        478\n",
    "nombre_recovered    16852\n",
    "Name: 346, dtype: int64"
   ]
  },
  {
   "cell_type": "markdown",
   "id": "0f40826b",
   "metadata": {},
   "source": [
    "nombre_infected      1079\n",
    "nombre_sain          1578\n",
    "nombre_exposed        453\n",
    "nombre_recovered    16890\n",
    "Name: 347, dtype: int64"
   ]
  },
  {
   "cell_type": "markdown",
   "id": "ffdf7638",
   "metadata": {},
   "source": [
    "nombre_infected      1072\n",
    "nombre_sain          1582\n",
    "nombre_exposed        442\n",
    "nombre_recovered    16904\n",
    "Name: 348, dtype: int64"
   ]
  },
  {
   "cell_type": "markdown",
   "id": "1b27945e",
   "metadata": {},
   "source": [
    "nombre_infected      1098\n",
    "nombre_sain          1602\n",
    "nombre_exposed        416\n",
    "nombre_recovered    16884\n",
    "Name: 349, dtype: int64"
   ]
  },
  {
   "cell_type": "markdown",
   "id": "827364f8",
   "metadata": {},
   "source": [
    "nombre_infected      1080\n",
    "nombre_sain          1586\n",
    "nombre_exposed        425\n",
    "nombre_recovered    16909\n",
    "Name: 350, dtype: int64"
   ]
  },
  {
   "cell_type": "markdown",
   "id": "ccd2f007",
   "metadata": {},
   "source": [
    "nombre_infected      1073\n",
    "nombre_sain          1573\n",
    "nombre_exposed        421\n",
    "nombre_recovered    16933\n",
    "Name: 351, dtype: int64"
   ]
  },
  {
   "cell_type": "markdown",
   "id": "34655679",
   "metadata": {},
   "source": [
    "nombre_infected      1086\n",
    "nombre_sain          1572\n",
    "nombre_exposed        409\n",
    "nombre_recovered    16933\n",
    "Name: 352, dtype: int64"
   ]
  },
  {
   "cell_type": "markdown",
   "id": "1f6db162",
   "metadata": {},
   "source": [
    "nombre_infected      1074\n",
    "nombre_sain          1593\n",
    "nombre_exposed        386\n",
    "nombre_recovered    16947\n",
    "Name: 353, dtype: int64"
   ]
  },
  {
   "cell_type": "markdown",
   "id": "afea60ad",
   "metadata": {},
   "source": [
    "nombre_infected      1061\n",
    "nombre_sain          1616\n",
    "nombre_exposed        357\n",
    "nombre_recovered    16966\n",
    "Name: 354, dtype: int64"
   ]
  },
  {
   "cell_type": "markdown",
   "id": "91577fac",
   "metadata": {},
   "source": [
    "nombre_infected      1032\n",
    "nombre_sain          1597\n",
    "nombre_exposed        384\n",
    "nombre_recovered    16987\n",
    "Name: 355, dtype: int64"
   ]
  },
  {
   "cell_type": "markdown",
   "id": "ebc75759",
   "metadata": {},
   "source": [
    "nombre_infected       990\n",
    "nombre_sain          1602\n",
    "nombre_exposed        392\n",
    "nombre_recovered    17016\n",
    "Name: 356, dtype: int64"
   ]
  },
  {
   "cell_type": "markdown",
   "id": "3c4bfba8",
   "metadata": {},
   "source": [
    "nombre_infected       985\n",
    "nombre_sain          1621\n",
    "nombre_exposed        370\n",
    "nombre_recovered    17024\n",
    "Name: 357, dtype: int64"
   ]
  },
  {
   "cell_type": "markdown",
   "id": "e1ea7057",
   "metadata": {},
   "source": [
    "nombre_infected       947\n",
    "nombre_sain          1621\n",
    "nombre_exposed        397\n",
    "nombre_recovered    17035\n",
    "Name: 358, dtype: int64"
   ]
  },
  {
   "cell_type": "markdown",
   "id": "bddf8762",
   "metadata": {},
   "source": [
    "nombre_infected       920\n",
    "nombre_sain          1633\n",
    "nombre_exposed        394\n",
    "nombre_recovered    17053\n",
    "Name: 359, dtype: int64"
   ]
  },
  {
   "cell_type": "markdown",
   "id": "329bb37b",
   "metadata": {},
   "source": [
    "nombre_infected       911\n",
    "nombre_sain          1617\n",
    "nombre_exposed        392\n",
    "nombre_recovered    17080\n",
    "Name: 360, dtype: int64"
   ]
  },
  {
   "cell_type": "markdown",
   "id": "089f7f2a",
   "metadata": {},
   "source": [
    "nombre_infected       901\n",
    "nombre_sain          1626\n",
    "nombre_exposed        386\n",
    "nombre_recovered    17087\n",
    "Name: 361, dtype: int64"
   ]
  },
  {
   "cell_type": "markdown",
   "id": "e3c75331",
   "metadata": {},
   "source": [
    "nombre_infected       926\n",
    "nombre_sain          1631\n",
    "nombre_exposed        357\n",
    "nombre_recovered    17086\n",
    "Name: 362, dtype: int64"
   ]
  },
  {
   "cell_type": "markdown",
   "id": "7be13a8f",
   "metadata": {},
   "source": [
    "nombre_infected       891\n",
    "nombre_sain          1627\n",
    "nombre_exposed        387\n",
    "nombre_recovered    17095\n",
    "Name: 363, dtype: int64"
   ]
  },
  {
   "cell_type": "markdown",
   "id": "93cf1e60",
   "metadata": {},
   "source": [
    "nombre_infected       885\n",
    "nombre_sain          1644\n",
    "nombre_exposed        366\n",
    "nombre_recovered    17105\n",
    "Name: 364, dtype: int64"
   ]
  },
  {
   "cell_type": "markdown",
   "id": "cd69eb75",
   "metadata": {},
   "source": [
    "nombre_infected       876\n",
    "nombre_sain          1669\n",
    "nombre_exposed        359\n",
    "nombre_recovered    17096\n",
    "Name: 365, dtype: int64"
   ]
  },
  {
   "cell_type": "markdown",
   "id": "b66b28df",
   "metadata": {},
   "source": [
    "nombre_infected       867\n",
    "nombre_sain          1687\n",
    "nombre_exposed        353\n",
    "nombre_recovered    17093\n",
    "Name: 366, dtype: int64"
   ]
  },
  {
   "cell_type": "markdown",
   "id": "bda2206c",
   "metadata": {},
   "source": [
    "nombre_infected       829\n",
    "nombre_sain          1705\n",
    "nombre_exposed        366\n",
    "nombre_recovered    17100\n",
    "Name: 367, dtype: int64"
   ]
  },
  {
   "cell_type": "markdown",
   "id": "6d154eca",
   "metadata": {},
   "source": [
    "nombre_infected       805\n",
    "nombre_sain          1713\n",
    "nombre_exposed        381\n",
    "nombre_recovered    17101\n",
    "Name: 368, dtype: int64"
   ]
  },
  {
   "cell_type": "markdown",
   "id": "6c168b65",
   "metadata": {},
   "source": [
    "nombre_infected       792\n",
    "nombre_sain          1745\n",
    "nombre_exposed        380\n",
    "nombre_recovered    17083\n",
    "Name: 369, dtype: int64"
   ]
  },
  {
   "cell_type": "markdown",
   "id": "49c3bfcd",
   "metadata": {},
   "source": [
    "nombre_infected       788\n",
    "nombre_sain          1781\n",
    "nombre_exposed        358\n",
    "nombre_recovered    17073\n",
    "Name: 370, dtype: int64"
   ]
  },
  {
   "cell_type": "markdown",
   "id": "959afceb",
   "metadata": {},
   "source": [
    "nombre_infected       783\n",
    "nombre_sain          1796\n",
    "nombre_exposed        356\n",
    "nombre_recovered    17065\n",
    "Name: 371, dtype: int64"
   ]
  },
  {
   "cell_type": "markdown",
   "id": "94ea7a03",
   "metadata": {},
   "source": [
    "nombre_infected       778\n",
    "nombre_sain          1802\n",
    "nombre_exposed        346\n",
    "nombre_recovered    17074\n",
    "Name: 372, dtype: int64"
   ]
  },
  {
   "cell_type": "markdown",
   "id": "119ce3ad",
   "metadata": {},
   "source": [
    "nombre_infected       763\n",
    "nombre_sain          1832\n",
    "nombre_exposed        360\n",
    "nombre_recovered    17045\n",
    "Name: 373, dtype: int64"
   ]
  },
  {
   "cell_type": "markdown",
   "id": "7fc64690",
   "metadata": {},
   "source": [
    "nombre_infected       760\n",
    "nombre_sain          1820\n",
    "nombre_exposed        358\n",
    "nombre_recovered    17062\n",
    "Name: 374, dtype: int64"
   ]
  },
  {
   "cell_type": "markdown",
   "id": "83790b2c",
   "metadata": {},
   "source": [
    "nombre_infected       746\n",
    "nombre_sain          1833\n",
    "nombre_exposed        369\n",
    "nombre_recovered    17052\n",
    "Name: 375, dtype: int64"
   ]
  },
  {
   "cell_type": "markdown",
   "id": "84c57758",
   "metadata": {},
   "source": [
    "nombre_infected       745\n",
    "nombre_sain          1856\n",
    "nombre_exposed        369\n",
    "nombre_recovered    17030\n",
    "Name: 376, dtype: int64"
   ]
  },
  {
   "cell_type": "markdown",
   "id": "a77d5411",
   "metadata": {},
   "source": [
    "nombre_infected       741\n",
    "nombre_sain          1912\n",
    "nombre_exposed        365\n",
    "nombre_recovered    16982\n",
    "Name: 377, dtype: int64"
   ]
  },
  {
   "cell_type": "markdown",
   "id": "cbe8b17a",
   "metadata": {},
   "source": [
    "nombre_infected       753\n",
    "nombre_sain          1931\n",
    "nombre_exposed        367\n",
    "nombre_recovered    16949\n",
    "Name: 378, dtype: int64"
   ]
  },
  {
   "cell_type": "markdown",
   "id": "8a8ad4d6",
   "metadata": {},
   "source": [
    "nombre_infected       746\n",
    "nombre_sain          1948\n",
    "nombre_exposed        390\n",
    "nombre_recovered    16916\n",
    "Name: 379, dtype: int64"
   ]
  },
  {
   "cell_type": "markdown",
   "id": "1e000a18",
   "metadata": {},
   "source": [
    "nombre_infected       721\n",
    "nombre_sain          1958\n",
    "nombre_exposed        409\n",
    "nombre_recovered    16912\n",
    "Name: 380, dtype: int64"
   ]
  },
  {
   "cell_type": "markdown",
   "id": "d3ab66d6",
   "metadata": {},
   "source": [
    "nombre_infected       717\n",
    "nombre_sain          1981\n",
    "nombre_exposed        424\n",
    "nombre_recovered    16878\n",
    "Name: 381, dtype: int64"
   ]
  },
  {
   "cell_type": "markdown",
   "id": "a5180a62",
   "metadata": {},
   "source": [
    "nombre_infected       709\n",
    "nombre_sain          1994\n",
    "nombre_exposed        420\n",
    "nombre_recovered    16877\n",
    "Name: 382, dtype: int64"
   ]
  },
  {
   "cell_type": "markdown",
   "id": "5a68d882",
   "metadata": {},
   "source": [
    "nombre_infected       717\n",
    "nombre_sain          2007\n",
    "nombre_exposed        440\n",
    "nombre_recovered    16836\n",
    "Name: 383, dtype: int64"
   ]
  },
  {
   "cell_type": "markdown",
   "id": "483ea3ac",
   "metadata": {},
   "source": [
    "nombre_infected       738\n",
    "nombre_sain          2015\n",
    "nombre_exposed        416\n",
    "nombre_recovered    16831\n",
    "Name: 384, dtype: int64"
   ]
  },
  {
   "cell_type": "markdown",
   "id": "11bd30f3",
   "metadata": {},
   "source": [
    "nombre_infected       746\n",
    "nombre_sain          2020\n",
    "nombre_exposed        394\n",
    "nombre_recovered    16840\n",
    "Name: 385, dtype: int64"
   ]
  },
  {
   "cell_type": "markdown",
   "id": "ff382094",
   "metadata": {},
   "source": [
    "nombre_infected       750\n",
    "nombre_sain          2053\n",
    "nombre_exposed        382\n",
    "nombre_recovered    16815\n",
    "Name: 386, dtype: int64"
   ]
  },
  {
   "cell_type": "markdown",
   "id": "92e98b24",
   "metadata": {},
   "source": [
    "nombre_infected       779\n",
    "nombre_sain          2066\n",
    "nombre_exposed        364\n",
    "nombre_recovered    16791\n",
    "Name: 387, dtype: int64"
   ]
  },
  {
   "cell_type": "markdown",
   "id": "e51ee0a4",
   "metadata": {},
   "source": [
    "nombre_infected       757\n",
    "nombre_sain          2070\n",
    "nombre_exposed        376\n",
    "nombre_recovered    16797\n",
    "Name: 388, dtype: int64"
   ]
  },
  {
   "cell_type": "markdown",
   "id": "1e8426d0",
   "metadata": {},
   "source": [
    "nombre_infected       754\n",
    "nombre_sain          2041\n",
    "nombre_exposed        402\n",
    "nombre_recovered    16803\n",
    "Name: 389, dtype: int64"
   ]
  },
  {
   "cell_type": "markdown",
   "id": "7d64f120",
   "metadata": {},
   "source": [
    "nombre_infected       770\n",
    "nombre_sain          2020\n",
    "nombre_exposed        419\n",
    "nombre_recovered    16791\n",
    "Name: 390, dtype: int64"
   ]
  },
  {
   "cell_type": "markdown",
   "id": "94c93c51",
   "metadata": {},
   "source": [
    "nombre_infected       762\n",
    "nombre_sain          2040\n",
    "nombre_exposed        429\n",
    "nombre_recovered    16769\n",
    "Name: 391, dtype: int64"
   ]
  },
  {
   "cell_type": "markdown",
   "id": "af692f9a",
   "metadata": {},
   "source": [
    "nombre_infected       762\n",
    "nombre_sain          2045\n",
    "nombre_exposed        446\n",
    "nombre_recovered    16747\n",
    "Name: 392, dtype: int64"
   ]
  },
  {
   "cell_type": "markdown",
   "id": "726ed0df",
   "metadata": {},
   "source": [
    "nombre_infected       758\n",
    "nombre_sain          2073\n",
    "nombre_exposed        437\n",
    "nombre_recovered    16732\n",
    "Name: 393, dtype: int64"
   ]
  },
  {
   "cell_type": "markdown",
   "id": "678149a2",
   "metadata": {},
   "source": [
    "nombre_infected       742\n",
    "nombre_sain          2091\n",
    "nombre_exposed        435\n",
    "nombre_recovered    16732\n",
    "Name: 394, dtype: int64"
   ]
  },
  {
   "cell_type": "markdown",
   "id": "78e7f478",
   "metadata": {},
   "source": [
    "nombre_infected       732\n",
    "nombre_sain          2135\n",
    "nombre_exposed        422\n",
    "nombre_recovered    16711\n",
    "Name: 395, dtype: int64"
   ]
  },
  {
   "cell_type": "markdown",
   "id": "00183100",
   "metadata": {},
   "source": [
    "nombre_infected       746\n",
    "nombre_sain          2149\n",
    "nombre_exposed        413\n",
    "nombre_recovered    16692\n",
    "Name: 396, dtype: int64"
   ]
  },
  {
   "cell_type": "markdown",
   "id": "b5d00be6",
   "metadata": {},
   "source": [
    "nombre_infected       763\n",
    "nombre_sain          2170\n",
    "nombre_exposed        409\n",
    "nombre_recovered    16658\n",
    "Name: 397, dtype: int64"
   ]
  },
  {
   "cell_type": "markdown",
   "id": "5cb17bb2",
   "metadata": {},
   "source": [
    "nombre_infected       761\n",
    "nombre_sain          2200\n",
    "nombre_exposed        400\n",
    "nombre_recovered    16639\n",
    "Name: 398, dtype: int64"
   ]
  },
  {
   "cell_type": "markdown",
   "id": "f9ebcf5b",
   "metadata": {},
   "source": [
    "nombre_infected       769\n",
    "nombre_sain          2205\n",
    "nombre_exposed        384\n",
    "nombre_recovered    16642\n",
    "Name: 399, dtype: int64"
   ]
  },
  {
   "cell_type": "markdown",
   "id": "908b9174",
   "metadata": {},
   "source": [
    "nombre_infected       748\n",
    "nombre_sain          2211\n",
    "nombre_exposed        413\n",
    "nombre_recovered    16628\n",
    "Name: 400, dtype: int64"
   ]
  },
  {
   "cell_type": "markdown",
   "id": "129e9761",
   "metadata": {},
   "source": [
    "nombre_infected       736\n",
    "nombre_sain          2218\n",
    "nombre_exposed        425\n",
    "nombre_recovered    16621\n",
    "Name: 401, dtype: int64"
   ]
  },
  {
   "cell_type": "markdown",
   "id": "3d405616",
   "metadata": {},
   "source": [
    "nombre_infected       751\n",
    "nombre_sain          2220\n",
    "nombre_exposed        433\n",
    "nombre_recovered    16596\n",
    "Name: 402, dtype: int64"
   ]
  },
  {
   "cell_type": "markdown",
   "id": "c51a222f",
   "metadata": {},
   "source": [
    "nombre_infected       728\n",
    "nombre_sain          2221\n",
    "nombre_exposed        435\n",
    "nombre_recovered    16616\n",
    "Name: 403, dtype: int64"
   ]
  },
  {
   "cell_type": "markdown",
   "id": "0c4cd9b0",
   "metadata": {},
   "source": [
    "nombre_infected       741\n",
    "nombre_sain          2235\n",
    "nombre_exposed        422\n",
    "nombre_recovered    16602\n",
    "Name: 404, dtype: int64"
   ]
  },
  {
   "cell_type": "markdown",
   "id": "2134d97f",
   "metadata": {},
   "source": [
    "nombre_infected       718\n",
    "nombre_sain          2256\n",
    "nombre_exposed        420\n",
    "nombre_recovered    16606\n",
    "Name: 405, dtype: int64"
   ]
  },
  {
   "cell_type": "markdown",
   "id": "32de843e",
   "metadata": {},
   "source": [
    "nombre_infected       731\n",
    "nombre_sain          2254\n",
    "nombre_exposed        421\n",
    "nombre_recovered    16594\n",
    "Name: 406, dtype: int64"
   ]
  },
  {
   "cell_type": "markdown",
   "id": "64c886a3",
   "metadata": {},
   "source": [
    "nombre_infected       731\n",
    "nombre_sain          2264\n",
    "nombre_exposed        432\n",
    "nombre_recovered    16573\n",
    "Name: 407, dtype: int64"
   ]
  },
  {
   "cell_type": "markdown",
   "id": "3f1bf7f7",
   "metadata": {},
   "source": [
    "nombre_infected       721\n",
    "nombre_sain          2264\n",
    "nombre_exposed        443\n",
    "nombre_recovered    16572\n",
    "Name: 408, dtype: int64"
   ]
  },
  {
   "cell_type": "markdown",
   "id": "dc027de8",
   "metadata": {},
   "source": [
    "nombre_infected       762\n",
    "nombre_sain          2270\n",
    "nombre_exposed        428\n",
    "nombre_recovered    16540\n",
    "Name: 409, dtype: int64"
   ]
  },
  {
   "cell_type": "markdown",
   "id": "41771142",
   "metadata": {},
   "source": [
    "nombre_infected       775\n",
    "nombre_sain          2268\n",
    "nombre_exposed        434\n",
    "nombre_recovered    16523\n",
    "Name: 410, dtype: int64"
   ]
  },
  {
   "cell_type": "markdown",
   "id": "51b15d45",
   "metadata": {},
   "source": [
    "nombre_infected       775\n",
    "nombre_sain          2264\n",
    "nombre_exposed        461\n",
    "nombre_recovered    16500\n",
    "Name: 411, dtype: int64"
   ]
  },
  {
   "cell_type": "markdown",
   "id": "0a995c17",
   "metadata": {},
   "source": [
    "nombre_infected       769\n",
    "nombre_sain          2295\n",
    "nombre_exposed        441\n",
    "nombre_recovered    16495\n",
    "Name: 412, dtype: int64"
   ]
  },
  {
   "cell_type": "markdown",
   "id": "93ac4182",
   "metadata": {},
   "source": [
    "nombre_infected       764\n",
    "nombre_sain          2315\n",
    "nombre_exposed        440\n",
    "nombre_recovered    16481\n",
    "Name: 413, dtype: int64"
   ]
  },
  {
   "cell_type": "markdown",
   "id": "6175b372",
   "metadata": {},
   "source": [
    "nombre_infected       780\n",
    "nombre_sain          2312\n",
    "nombre_exposed        446\n",
    "nombre_recovered    16462\n",
    "Name: 414, dtype: int64"
   ]
  },
  {
   "cell_type": "markdown",
   "id": "5618589a",
   "metadata": {},
   "source": [
    "nombre_infected       787\n",
    "nombre_sain          2299\n",
    "nombre_exposed        474\n",
    "nombre_recovered    16440\n",
    "Name: 415, dtype: int64"
   ]
  },
  {
   "cell_type": "markdown",
   "id": "cbe6d2a8",
   "metadata": {},
   "source": [
    "nombre_infected       817\n",
    "nombre_sain          2311\n",
    "nombre_exposed        452\n",
    "nombre_recovered    16420\n",
    "Name: 416, dtype: int64"
   ]
  },
  {
   "cell_type": "markdown",
   "id": "1ffcf54b",
   "metadata": {},
   "source": [
    "nombre_infected       841\n",
    "nombre_sain          2290\n",
    "nombre_exposed        471\n",
    "nombre_recovered    16398\n",
    "Name: 417, dtype: int64"
   ]
  },
  {
   "cell_type": "markdown",
   "id": "e891cbc4",
   "metadata": {},
   "source": [
    "nombre_infected       845\n",
    "nombre_sain          2290\n",
    "nombre_exposed        472\n",
    "nombre_recovered    16393\n",
    "Name: 418, dtype: int64"
   ]
  },
  {
   "cell_type": "markdown",
   "id": "87debe27",
   "metadata": {},
   "source": [
    "nombre_infected       842\n",
    "nombre_sain          2293\n",
    "nombre_exposed        500\n",
    "nombre_recovered    16365\n",
    "Name: 419, dtype: int64"
   ]
  },
  {
   "cell_type": "markdown",
   "id": "16513240",
   "metadata": {},
   "source": [
    "nombre_infected       843\n",
    "nombre_sain          2294\n",
    "nombre_exposed        494\n",
    "nombre_recovered    16369\n",
    "Name: 420, dtype: int64"
   ]
  },
  {
   "cell_type": "markdown",
   "id": "67e273ff",
   "metadata": {},
   "source": [
    "nombre_infected       870\n",
    "nombre_sain          2322\n",
    "nombre_exposed        477\n",
    "nombre_recovered    16331\n",
    "Name: 421, dtype: int64"
   ]
  },
  {
   "cell_type": "markdown",
   "id": "711414d5",
   "metadata": {},
   "source": [
    "nombre_infected       906\n",
    "nombre_sain          2338\n",
    "nombre_exposed        470\n",
    "nombre_recovered    16286\n",
    "Name: 422, dtype: int64"
   ]
  },
  {
   "cell_type": "markdown",
   "id": "8d47b902",
   "metadata": {},
   "source": [
    "nombre_infected       908\n",
    "nombre_sain          2339\n",
    "nombre_exposed        466\n",
    "nombre_recovered    16287\n",
    "Name: 423, dtype: int64"
   ]
  },
  {
   "cell_type": "markdown",
   "id": "2dbc1ce3",
   "metadata": {},
   "source": [
    "nombre_infected       918\n",
    "nombre_sain          2346\n",
    "nombre_exposed        466\n",
    "nombre_recovered    16270\n",
    "Name: 424, dtype: int64"
   ]
  },
  {
   "cell_type": "markdown",
   "id": "ae75ec43",
   "metadata": {},
   "source": [
    "nombre_infected       930\n",
    "nombre_sain          2353\n",
    "nombre_exposed        477\n",
    "nombre_recovered    16240\n",
    "Name: 425, dtype: int64"
   ]
  },
  {
   "cell_type": "markdown",
   "id": "003a2c95",
   "metadata": {},
   "source": [
    "nombre_infected       914\n",
    "nombre_sain          2344\n",
    "nombre_exposed        509\n",
    "nombre_recovered    16233\n",
    "Name: 426, dtype: int64"
   ]
  },
  {
   "cell_type": "markdown",
   "id": "5acc71e0",
   "metadata": {},
   "source": [
    "nombre_infected       903\n",
    "nombre_sain          2332\n",
    "nombre_exposed        546\n",
    "nombre_recovered    16219\n",
    "Name: 427, dtype: int64"
   ]
  },
  {
   "cell_type": "markdown",
   "id": "7a78a166",
   "metadata": {},
   "source": [
    "nombre_infected       911\n",
    "nombre_sain          2325\n",
    "nombre_exposed        533\n",
    "nombre_recovered    16231\n",
    "Name: 428, dtype: int64"
   ]
  },
  {
   "cell_type": "markdown",
   "id": "19a83811",
   "metadata": {},
   "source": [
    "nombre_infected       933\n",
    "nombre_sain          2330\n",
    "nombre_exposed        534\n",
    "nombre_recovered    16203\n",
    "Name: 429, dtype: int64"
   ]
  },
  {
   "cell_type": "markdown",
   "id": "14cf1fdf",
   "metadata": {},
   "source": [
    "nombre_infected       950\n",
    "nombre_sain          2322\n",
    "nombre_exposed        536\n",
    "nombre_recovered    16192\n",
    "Name: 430, dtype: int64"
   ]
  },
  {
   "cell_type": "markdown",
   "id": "2c37c44e",
   "metadata": {},
   "source": [
    "nombre_infected       942\n",
    "nombre_sain          2323\n",
    "nombre_exposed        534\n",
    "nombre_recovered    16201\n",
    "Name: 431, dtype: int64"
   ]
  },
  {
   "cell_type": "markdown",
   "id": "a2bbcffa",
   "metadata": {},
   "source": [
    "nombre_infected       936\n",
    "nombre_sain          2330\n",
    "nombre_exposed        528\n",
    "nombre_recovered    16206\n",
    "Name: 432, dtype: int64"
   ]
  },
  {
   "cell_type": "markdown",
   "id": "ae64eaeb",
   "metadata": {},
   "source": [
    "nombre_infected       938\n",
    "nombre_sain          2305\n",
    "nombre_exposed        546\n",
    "nombre_recovered    16211\n",
    "Name: 433, dtype: int64"
   ]
  },
  {
   "cell_type": "markdown",
   "id": "1750fc99",
   "metadata": {},
   "source": [
    "nombre_infected       965\n",
    "nombre_sain          2272\n",
    "nombre_exposed        552\n",
    "nombre_recovered    16211\n",
    "Name: 434, dtype: int64"
   ]
  },
  {
   "cell_type": "markdown",
   "id": "d4baa32e",
   "metadata": {},
   "source": [
    "nombre_infected       979\n",
    "nombre_sain          2248\n",
    "nombre_exposed        532\n",
    "nombre_recovered    16241\n",
    "Name: 435, dtype: int64"
   ]
  },
  {
   "cell_type": "markdown",
   "id": "3f753ab6",
   "metadata": {},
   "source": [
    "nombre_infected       995\n",
    "nombre_sain          2240\n",
    "nombre_exposed        537\n",
    "nombre_recovered    16228\n",
    "Name: 436, dtype: int64"
   ]
  },
  {
   "cell_type": "markdown",
   "id": "11fbbfc0",
   "metadata": {},
   "source": [
    "nombre_infected      1000\n",
    "nombre_sain          2217\n",
    "nombre_exposed        528\n",
    "nombre_recovered    16255\n",
    "Name: 437, dtype: int64"
   ]
  },
  {
   "cell_type": "markdown",
   "id": "170d2f58",
   "metadata": {},
   "source": [
    "nombre_infected      1007\n",
    "nombre_sain          2193\n",
    "nombre_exposed        540\n",
    "nombre_recovered    16260\n",
    "Name: 438, dtype: int64"
   ]
  },
  {
   "cell_type": "markdown",
   "id": "ec5b9144",
   "metadata": {},
   "source": [
    "nombre_infected      1002\n",
    "nombre_sain          2168\n",
    "nombre_exposed        544\n",
    "nombre_recovered    16286\n",
    "Name: 439, dtype: int64"
   ]
  },
  {
   "cell_type": "markdown",
   "id": "21b5bf9a",
   "metadata": {},
   "source": [
    "nombre_infected      1020\n",
    "nombre_sain          2164\n",
    "nombre_exposed        520\n",
    "nombre_recovered    16296\n",
    "Name: 440, dtype: int64"
   ]
  },
  {
   "cell_type": "markdown",
   "id": "10ff6955",
   "metadata": {},
   "source": [
    "nombre_infected      1022\n",
    "nombre_sain          2124\n",
    "nombre_exposed        516\n",
    "nombre_recovered    16338\n",
    "Name: 441, dtype: int64"
   ]
  },
  {
   "cell_type": "markdown",
   "id": "621fa790",
   "metadata": {},
   "source": [
    "nombre_infected      1011\n",
    "nombre_sain          2101\n",
    "nombre_exposed        525\n",
    "nombre_recovered    16363\n",
    "Name: 442, dtype: int64"
   ]
  },
  {
   "cell_type": "markdown",
   "id": "d7cd623e",
   "metadata": {},
   "source": [
    "nombre_infected      1008\n",
    "nombre_sain          2064\n",
    "nombre_exposed        530\n",
    "nombre_recovered    16398\n",
    "Name: 443, dtype: int64"
   ]
  },
  {
   "cell_type": "markdown",
   "id": "853e6f62",
   "metadata": {},
   "source": [
    "nombre_infected       993\n",
    "nombre_sain          2067\n",
    "nombre_exposed        520\n",
    "nombre_recovered    16420\n",
    "Name: 444, dtype: int64"
   ]
  },
  {
   "cell_type": "markdown",
   "id": "aff6de07",
   "metadata": {},
   "source": [
    "nombre_infected       971\n",
    "nombre_sain          2043\n",
    "nombre_exposed        530\n",
    "nombre_recovered    16456\n",
    "Name: 445, dtype: int64"
   ]
  },
  {
   "cell_type": "markdown",
   "id": "effc16a9",
   "metadata": {},
   "source": [
    "nombre_infected       973\n",
    "nombre_sain          2054\n",
    "nombre_exposed        508\n",
    "nombre_recovered    16465\n",
    "Name: 446, dtype: int64"
   ]
  },
  {
   "cell_type": "markdown",
   "id": "3612a4c2",
   "metadata": {},
   "source": [
    "nombre_infected       967\n",
    "nombre_sain          2082\n",
    "nombre_exposed        468\n",
    "nombre_recovered    16483\n",
    "Name: 447, dtype: int64"
   ]
  },
  {
   "cell_type": "markdown",
   "id": "c6599693",
   "metadata": {},
   "source": [
    "nombre_infected       956\n",
    "nombre_sain          2103\n",
    "nombre_exposed        471\n",
    "nombre_recovered    16470\n",
    "Name: 448, dtype: int64"
   ]
  },
  {
   "cell_type": "markdown",
   "id": "52584fa5",
   "metadata": {},
   "source": [
    "nombre_infected       950\n",
    "nombre_sain          2113\n",
    "nombre_exposed        505\n",
    "nombre_recovered    16432\n",
    "Name: 449, dtype: int64"
   ]
  },
  {
   "cell_type": "markdown",
   "id": "dc7917ed",
   "metadata": {},
   "source": [
    "nombre_infected       947\n",
    "nombre_sain          2096\n",
    "nombre_exposed        529\n",
    "nombre_recovered    16428\n",
    "Name: 450, dtype: int64"
   ]
  },
  {
   "cell_type": "markdown",
   "id": "0ae5dd06",
   "metadata": {},
   "source": [
    "nombre_infected       939\n",
    "nombre_sain          2129\n",
    "nombre_exposed        509\n",
    "nombre_recovered    16423\n",
    "Name: 451, dtype: int64"
   ]
  },
  {
   "cell_type": "markdown",
   "id": "b39f5b6f",
   "metadata": {},
   "source": [
    "nombre_infected       937\n",
    "nombre_sain          2150\n",
    "nombre_exposed        495\n",
    "nombre_recovered    16418\n",
    "Name: 452, dtype: int64"
   ]
  },
  {
   "cell_type": "markdown",
   "id": "c21af6be",
   "metadata": {},
   "source": [
    "nombre_infected       943\n",
    "nombre_sain          2188\n",
    "nombre_exposed        466\n",
    "nombre_recovered    16403\n",
    "Name: 453, dtype: int64"
   ]
  },
  {
   "cell_type": "markdown",
   "id": "31bfb565",
   "metadata": {},
   "source": [
    "nombre_infected       957\n",
    "nombre_sain          2182\n",
    "nombre_exposed        475\n",
    "nombre_recovered    16386\n",
    "Name: 454, dtype: int64"
   ]
  },
  {
   "cell_type": "markdown",
   "id": "3e5c3469",
   "metadata": {},
   "source": [
    "nombre_infected       951\n",
    "nombre_sain          2216\n",
    "nombre_exposed        469\n",
    "nombre_recovered    16364\n",
    "Name: 455, dtype: int64"
   ]
  },
  {
   "cell_type": "markdown",
   "id": "ad7ce37a",
   "metadata": {},
   "source": [
    "nombre_infected       929\n",
    "nombre_sain          2240\n",
    "nombre_exposed        485\n",
    "nombre_recovered    16346\n",
    "Name: 456, dtype: int64"
   ]
  },
  {
   "cell_type": "markdown",
   "id": "69b963a9",
   "metadata": {},
   "source": [
    "nombre_infected       931\n",
    "nombre_sain          2250\n",
    "nombre_exposed        481\n",
    "nombre_recovered    16338\n",
    "Name: 457, dtype: int64"
   ]
  },
  {
   "cell_type": "markdown",
   "id": "4c45323a",
   "metadata": {},
   "source": [
    "nombre_infected       920\n",
    "nombre_sain          2265\n",
    "nombre_exposed        485\n",
    "nombre_recovered    16330\n",
    "Name: 458, dtype: int64"
   ]
  },
  {
   "cell_type": "markdown",
   "id": "38ce8607",
   "metadata": {},
   "source": [
    "nombre_infected       914\n",
    "nombre_sain          2269\n",
    "nombre_exposed        497\n",
    "nombre_recovered    16320\n",
    "Name: 459, dtype: int64"
   ]
  },
  {
   "cell_type": "markdown",
   "id": "2a774d2b",
   "metadata": {},
   "source": [
    "nombre_infected       903\n",
    "nombre_sain          2287\n",
    "nombre_exposed        520\n",
    "nombre_recovered    16290\n",
    "Name: 460, dtype: int64"
   ]
  },
  {
   "cell_type": "markdown",
   "id": "1d9f37a6",
   "metadata": {},
   "source": [
    "nombre_infected       910\n",
    "nombre_sain          2295\n",
    "nombre_exposed        525\n",
    "nombre_recovered    16270\n",
    "Name: 461, dtype: int64"
   ]
  },
  {
   "cell_type": "markdown",
   "id": "10e04acd",
   "metadata": {},
   "source": [
    "nombre_infected       908\n",
    "nombre_sain          2311\n",
    "nombre_exposed        524\n",
    "nombre_recovered    16257\n",
    "Name: 462, dtype: int64"
   ]
  },
  {
   "cell_type": "markdown",
   "id": "98e53e51",
   "metadata": {},
   "source": [
    "nombre_infected       933\n",
    "nombre_sain          2318\n",
    "nombre_exposed        512\n",
    "nombre_recovered    16237\n",
    "Name: 463, dtype: int64"
   ]
  },
  {
   "cell_type": "markdown",
   "id": "b223f24e",
   "metadata": {},
   "source": [
    "nombre_infected       961\n",
    "nombre_sain          2320\n",
    "nombre_exposed        506\n",
    "nombre_recovered    16213\n",
    "Name: 464, dtype: int64"
   ]
  },
  {
   "cell_type": "markdown",
   "id": "ff7d9e55",
   "metadata": {},
   "source": [
    "nombre_infected       988\n",
    "nombre_sain          2317\n",
    "nombre_exposed        511\n",
    "nombre_recovered    16184\n",
    "Name: 465, dtype: int64"
   ]
  },
  {
   "cell_type": "markdown",
   "id": "065d66af",
   "metadata": {},
   "source": [
    "nombre_infected       993\n",
    "nombre_sain          2301\n",
    "nombre_exposed        515\n",
    "nombre_recovered    16191\n",
    "Name: 466, dtype: int64"
   ]
  },
  {
   "cell_type": "markdown",
   "id": "4f6b44eb",
   "metadata": {},
   "source": [
    "nombre_infected      1006\n",
    "nombre_sain          2265\n",
    "nombre_exposed        545\n",
    "nombre_recovered    16184\n",
    "Name: 467, dtype: int64"
   ]
  },
  {
   "cell_type": "markdown",
   "id": "96f707f4",
   "metadata": {},
   "source": [
    "nombre_infected      1015\n",
    "nombre_sain          2260\n",
    "nombre_exposed        545\n",
    "nombre_recovered    16180\n",
    "Name: 468, dtype: int64"
   ]
  },
  {
   "cell_type": "markdown",
   "id": "cba482df",
   "metadata": {},
   "source": [
    "nombre_infected       998\n",
    "nombre_sain          2220\n",
    "nombre_exposed        587\n",
    "nombre_recovered    16195\n",
    "Name: 469, dtype: int64"
   ]
  },
  {
   "cell_type": "markdown",
   "id": "758ff70e",
   "metadata": {},
   "source": [
    "nombre_infected       996\n",
    "nombre_sain          2186\n",
    "nombre_exposed        618\n",
    "nombre_recovered    16200\n",
    "Name: 470, dtype: int64"
   ]
  },
  {
   "cell_type": "markdown",
   "id": "44353973",
   "metadata": {},
   "source": [
    "nombre_infected      1016\n",
    "nombre_sain          2155\n",
    "nombre_exposed        623\n",
    "nombre_recovered    16206\n",
    "Name: 471, dtype: int64"
   ]
  },
  {
   "cell_type": "markdown",
   "id": "cb8b830e",
   "metadata": {},
   "source": [
    "nombre_infected      1037\n",
    "nombre_sain          2141\n",
    "nombre_exposed        615\n",
    "nombre_recovered    16207\n",
    "Name: 472, dtype: int64"
   ]
  },
  {
   "cell_type": "markdown",
   "id": "b1dad988",
   "metadata": {},
   "source": [
    "nombre_infected      1060\n",
    "nombre_sain          2129\n",
    "nombre_exposed        598\n",
    "nombre_recovered    16213\n",
    "Name: 473, dtype: int64"
   ]
  },
  {
   "cell_type": "markdown",
   "id": "740d9662",
   "metadata": {},
   "source": [
    "nombre_infected      1084\n",
    "nombre_sain          2110\n",
    "nombre_exposed        597\n",
    "nombre_recovered    16209\n",
    "Name: 474, dtype: int64"
   ]
  },
  {
   "cell_type": "markdown",
   "id": "26f45f25",
   "metadata": {},
   "source": [
    "nombre_infected      1096\n",
    "nombre_sain          2093\n",
    "nombre_exposed        577\n",
    "nombre_recovered    16234\n",
    "Name: 475, dtype: int64"
   ]
  },
  {
   "cell_type": "markdown",
   "id": "535cd3b3",
   "metadata": {},
   "source": [
    "nombre_infected      1128\n",
    "nombre_sain          2048\n",
    "nombre_exposed        573\n",
    "nombre_recovered    16251\n",
    "Name: 476, dtype: int64"
   ]
  },
  {
   "cell_type": "markdown",
   "id": "f3113876",
   "metadata": {},
   "source": [
    "nombre_infected      1143\n",
    "nombre_sain          2016\n",
    "nombre_exposed        585\n",
    "nombre_recovered    16256\n",
    "Name: 477, dtype: int64"
   ]
  },
  {
   "cell_type": "markdown",
   "id": "84adf03e",
   "metadata": {},
   "source": [
    "nombre_infected      1147\n",
    "nombre_sain          1979\n",
    "nombre_exposed        597\n",
    "nombre_recovered    16277\n",
    "Name: 478, dtype: int64"
   ]
  },
  {
   "cell_type": "markdown",
   "id": "17d1b956",
   "metadata": {},
   "source": [
    "nombre_infected      1140\n",
    "nombre_sain          1966\n",
    "nombre_exposed        574\n",
    "nombre_recovered    16320\n",
    "Name: 479, dtype: int64"
   ]
  },
  {
   "cell_type": "markdown",
   "id": "55f14318",
   "metadata": {},
   "source": [
    "nombre_infected      1165\n",
    "nombre_sain          1933\n",
    "nombre_exposed        544\n",
    "nombre_recovered    16358\n",
    "Name: 480, dtype: int64"
   ]
  },
  {
   "cell_type": "markdown",
   "id": "51cd9bd9",
   "metadata": {},
   "source": [
    "nombre_infected      1171\n",
    "nombre_sain          1915\n",
    "nombre_exposed        558\n",
    "nombre_recovered    16356\n",
    "Name: 481, dtype: int64"
   ]
  },
  {
   "cell_type": "markdown",
   "id": "c4447720",
   "metadata": {},
   "source": [
    "nombre_infected      1198\n",
    "nombre_sain          1890\n",
    "nombre_exposed        528\n",
    "nombre_recovered    16384\n",
    "Name: 482, dtype: int64"
   ]
  },
  {
   "cell_type": "markdown",
   "id": "cfabacce",
   "metadata": {},
   "source": [
    "nombre_infected      1182\n",
    "nombre_sain          1841\n",
    "nombre_exposed        552\n",
    "nombre_recovered    16425\n",
    "Name: 483, dtype: int64"
   ]
  },
  {
   "cell_type": "markdown",
   "id": "fefe16f5",
   "metadata": {},
   "source": [
    "nombre_infected      1170\n",
    "nombre_sain          1786\n",
    "nombre_exposed        563\n",
    "nombre_recovered    16481\n",
    "Name: 484, dtype: int64"
   ]
  },
  {
   "cell_type": "markdown",
   "id": "871c210a",
   "metadata": {},
   "source": [
    "nombre_infected      1149\n",
    "nombre_sain          1774\n",
    "nombre_exposed        572\n",
    "nombre_recovered    16505\n",
    "Name: 485, dtype: int64"
   ]
  },
  {
   "cell_type": "markdown",
   "id": "b5dd6bbd",
   "metadata": {},
   "source": [
    "nombre_infected      1174\n",
    "nombre_sain          1746\n",
    "nombre_exposed        572\n",
    "nombre_recovered    16508\n",
    "Name: 486, dtype: int64"
   ]
  },
  {
   "cell_type": "markdown",
   "id": "74b10cb8",
   "metadata": {},
   "source": [
    "nombre_infected      1166\n",
    "nombre_sain          1719\n",
    "nombre_exposed        557\n",
    "nombre_recovered    16558\n",
    "Name: 487, dtype: int64"
   ]
  },
  {
   "cell_type": "markdown",
   "id": "d87f944e",
   "metadata": {},
   "source": [
    "nombre_infected      1159\n",
    "nombre_sain          1708\n",
    "nombre_exposed        536\n",
    "nombre_recovered    16597\n",
    "Name: 488, dtype: int64"
   ]
  },
  {
   "cell_type": "markdown",
   "id": "6ff35b0a",
   "metadata": {},
   "source": [
    "nombre_infected      1153\n",
    "nombre_sain          1707\n",
    "nombre_exposed        518\n",
    "nombre_recovered    16622\n",
    "Name: 489, dtype: int64"
   ]
  },
  {
   "cell_type": "markdown",
   "id": "60f40a25",
   "metadata": {},
   "source": [
    "nombre_infected      1150\n",
    "nombre_sain          1690\n",
    "nombre_exposed        495\n",
    "nombre_recovered    16665\n",
    "Name: 490, dtype: int64"
   ]
  },
  {
   "cell_type": "markdown",
   "id": "b5bc3e3a",
   "metadata": {},
   "source": [
    "nombre_infected      1154\n",
    "nombre_sain          1665\n",
    "nombre_exposed        492\n",
    "nombre_recovered    16689\n",
    "Name: 491, dtype: int64"
   ]
  },
  {
   "cell_type": "markdown",
   "id": "6a3e202b",
   "metadata": {},
   "source": [
    "nombre_infected      1164\n",
    "nombre_sain          1671\n",
    "nombre_exposed        480\n",
    "nombre_recovered    16685\n",
    "Name: 492, dtype: int64"
   ]
  },
  {
   "cell_type": "markdown",
   "id": "31f3ff11",
   "metadata": {},
   "source": [
    "nombre_infected      1149\n",
    "nombre_sain          1672\n",
    "nombre_exposed        462\n",
    "nombre_recovered    16717\n",
    "Name: 493, dtype: int64"
   ]
  },
  {
   "cell_type": "markdown",
   "id": "7be3dcb4",
   "metadata": {},
   "source": [
    "nombre_infected      1113\n",
    "nombre_sain          1666\n",
    "nombre_exposed        458\n",
    "nombre_recovered    16763\n",
    "Name: 494, dtype: int64"
   ]
  },
  {
   "cell_type": "markdown",
   "id": "130badff",
   "metadata": {},
   "source": [
    "nombre_infected      1076\n",
    "nombre_sain          1667\n",
    "nombre_exposed        455\n",
    "nombre_recovered    16802\n",
    "Name: 495, dtype: int64"
   ]
  },
  {
   "cell_type": "markdown",
   "id": "2f280be3",
   "metadata": {},
   "source": [
    "nombre_infected      1059\n",
    "nombre_sain          1698\n",
    "nombre_exposed        435\n",
    "nombre_recovered    16808\n",
    "Name: 496, dtype: int64"
   ]
  },
  {
   "cell_type": "markdown",
   "id": "6f9f5eaf",
   "metadata": {},
   "source": [
    "nombre_infected      1045\n",
    "nombre_sain          1706\n",
    "nombre_exposed        448\n",
    "nombre_recovered    16801\n",
    "Name: 497, dtype: int64"
   ]
  },
  {
   "cell_type": "markdown",
   "id": "1fb0c6a3",
   "metadata": {},
   "source": [
    "nombre_infected      1044\n",
    "nombre_sain          1700\n",
    "nombre_exposed        444\n",
    "nombre_recovered    16812\n",
    "Name: 498, dtype: int64"
   ]
  },
  {
   "cell_type": "markdown",
   "id": "012071cd",
   "metadata": {},
   "source": [
    "nombre_infected      1035\n",
    "nombre_sain          1713\n",
    "nombre_exposed        446\n",
    "nombre_recovered    16806\n",
    "Name: 499, dtype: int64"
   ]
  },
  {
   "cell_type": "markdown",
   "id": "0d1b0e89",
   "metadata": {},
   "source": [
    "nombre_infected      1036\n",
    "nombre_sain          1730\n",
    "nombre_exposed        430\n",
    "nombre_recovered    16804\n",
    "Name: 500, dtype: int64"
   ]
  },
  {
   "cell_type": "markdown",
   "id": "c36ca49b",
   "metadata": {},
   "source": [
    "nombre_infected      1022\n",
    "nombre_sain          1737\n",
    "nombre_exposed        420\n",
    "nombre_recovered    16821\n",
    "Name: 501, dtype: int64"
   ]
  },
  {
   "cell_type": "markdown",
   "id": "f3bab29a",
   "metadata": {},
   "source": [
    "nombre_infected      1000\n",
    "nombre_sain          1716\n",
    "nombre_exposed        431\n",
    "nombre_recovered    16853\n",
    "Name: 502, dtype: int64"
   ]
  },
  {
   "cell_type": "markdown",
   "id": "83b0bbed",
   "metadata": {},
   "source": [
    "nombre_infected       981\n",
    "nombre_sain          1742\n",
    "nombre_exposed        428\n",
    "nombre_recovered    16849\n",
    "Name: 503, dtype: int64"
   ]
  },
  {
   "cell_type": "markdown",
   "id": "1f581292",
   "metadata": {},
   "source": [
    "nombre_infected       970\n",
    "nombre_sain          1759\n",
    "nombre_exposed        403\n",
    "nombre_recovered    16868\n",
    "Name: 504, dtype: int64"
   ]
  },
  {
   "cell_type": "markdown",
   "id": "fed151cd",
   "metadata": {},
   "source": [
    "nombre_infected       952\n",
    "nombre_sain          1757\n",
    "nombre_exposed        434\n",
    "nombre_recovered    16857\n",
    "Name: 505, dtype: int64"
   ]
  },
  {
   "cell_type": "markdown",
   "id": "b6a0f641",
   "metadata": {},
   "source": [
    "nombre_infected       914\n",
    "nombre_sain          1798\n",
    "nombre_exposed        445\n",
    "nombre_recovered    16843\n",
    "Name: 506, dtype: int64"
   ]
  },
  {
   "cell_type": "markdown",
   "id": "3616a83e",
   "metadata": {},
   "source": [
    "nombre_infected       913\n",
    "nombre_sain          1824\n",
    "nombre_exposed        432\n",
    "nombre_recovered    16831\n",
    "Name: 507, dtype: int64"
   ]
  },
  {
   "cell_type": "markdown",
   "id": "be8fd138",
   "metadata": {},
   "source": [
    "nombre_infected       908\n",
    "nombre_sain          1827\n",
    "nombre_exposed        438\n",
    "nombre_recovered    16827\n",
    "Name: 508, dtype: int64"
   ]
  },
  {
   "cell_type": "markdown",
   "id": "271e9561",
   "metadata": {},
   "source": [
    "nombre_infected       905\n",
    "nombre_sain          1862\n",
    "nombre_exposed        440\n",
    "nombre_recovered    16793\n",
    "Name: 509, dtype: int64"
   ]
  },
  {
   "cell_type": "markdown",
   "id": "0c255e02",
   "metadata": {},
   "source": [
    "nombre_infected       901\n",
    "nombre_sain          1872\n",
    "nombre_exposed        446\n",
    "nombre_recovered    16781\n",
    "Name: 510, dtype: int64"
   ]
  },
  {
   "cell_type": "markdown",
   "id": "cbbb6293",
   "metadata": {},
   "source": [
    "nombre_infected       930\n",
    "nombre_sain          1876\n",
    "nombre_exposed        441\n",
    "nombre_recovered    16753\n",
    "Name: 511, dtype: int64"
   ]
  },
  {
   "cell_type": "markdown",
   "id": "dd555d30",
   "metadata": {},
   "source": [
    "nombre_infected       944\n",
    "nombre_sain          1903\n",
    "nombre_exposed        438\n",
    "nombre_recovered    16715\n",
    "Name: 512, dtype: int64"
   ]
  },
  {
   "cell_type": "markdown",
   "id": "87574907",
   "metadata": {},
   "source": [
    "nombre_infected       938\n",
    "nombre_sain          1909\n",
    "nombre_exposed        452\n",
    "nombre_recovered    16701\n",
    "Name: 513, dtype: int64"
   ]
  },
  {
   "cell_type": "markdown",
   "id": "f98fdd5f",
   "metadata": {},
   "source": [
    "nombre_infected       965\n",
    "nombre_sain          1912\n",
    "nombre_exposed        458\n",
    "nombre_recovered    16665\n",
    "Name: 514, dtype: int64"
   ]
  },
  {
   "cell_type": "markdown",
   "id": "2835e280",
   "metadata": {},
   "source": [
    "nombre_infected       966\n",
    "nombre_sain          1933\n",
    "nombre_exposed        459\n",
    "nombre_recovered    16642\n",
    "Name: 515, dtype: int64"
   ]
  },
  {
   "cell_type": "markdown",
   "id": "c03c989d",
   "metadata": {},
   "source": [
    "nombre_infected       969\n",
    "nombre_sain          1955\n",
    "nombre_exposed        443\n",
    "nombre_recovered    16633\n",
    "Name: 516, dtype: int64"
   ]
  },
  {
   "cell_type": "markdown",
   "id": "35fac5db",
   "metadata": {},
   "source": [
    "nombre_infected       965\n",
    "nombre_sain          1964\n",
    "nombre_exposed        459\n",
    "nombre_recovered    16612\n",
    "Name: 517, dtype: int64"
   ]
  },
  {
   "cell_type": "markdown",
   "id": "58b8d144",
   "metadata": {},
   "source": [
    "nombre_infected       973\n",
    "nombre_sain          2005\n",
    "nombre_exposed        428\n",
    "nombre_recovered    16594\n",
    "Name: 518, dtype: int64"
   ]
  },
  {
   "cell_type": "markdown",
   "id": "635f5be3",
   "metadata": {},
   "source": [
    "nombre_infected       984\n",
    "nombre_sain          2002\n",
    "nombre_exposed        447\n",
    "nombre_recovered    16567\n",
    "Name: 519, dtype: int64"
   ]
  },
  {
   "cell_type": "markdown",
   "id": "f578c9e2",
   "metadata": {},
   "source": [
    "nombre_infected       977\n",
    "nombre_sain          2010\n",
    "nombre_exposed        471\n",
    "nombre_recovered    16542\n",
    "Name: 520, dtype: int64"
   ]
  },
  {
   "cell_type": "markdown",
   "id": "12c779c3",
   "metadata": {},
   "source": [
    "nombre_infected       983\n",
    "nombre_sain          2004\n",
    "nombre_exposed        476\n",
    "nombre_recovered    16537\n",
    "Name: 521, dtype: int64"
   ]
  },
  {
   "cell_type": "markdown",
   "id": "2fe9de68",
   "metadata": {},
   "source": [
    "nombre_infected       990\n",
    "nombre_sain          2012\n",
    "nombre_exposed        482\n",
    "nombre_recovered    16516\n",
    "Name: 522, dtype: int64"
   ]
  },
  {
   "cell_type": "markdown",
   "id": "cc951293",
   "metadata": {},
   "source": [
    "nombre_infected      1004\n",
    "nombre_sain          2037\n",
    "nombre_exposed        485\n",
    "nombre_recovered    16474\n",
    "Name: 523, dtype: int64"
   ]
  },
  {
   "cell_type": "markdown",
   "id": "e5265625",
   "metadata": {},
   "source": [
    "nombre_infected      1025\n",
    "nombre_sain          2035\n",
    "nombre_exposed        509\n",
    "nombre_recovered    16431\n",
    "Name: 524, dtype: int64"
   ]
  },
  {
   "cell_type": "markdown",
   "id": "a3d21b55",
   "metadata": {},
   "source": [
    "nombre_infected      1029\n",
    "nombre_sain          2001\n",
    "nombre_exposed        530\n",
    "nombre_recovered    16440\n",
    "Name: 525, dtype: int64"
   ]
  },
  {
   "cell_type": "markdown",
   "id": "9f5fd256",
   "metadata": {},
   "source": [
    "nombre_infected      1059\n",
    "nombre_sain          1991\n",
    "nombre_exposed        520\n",
    "nombre_recovered    16430\n",
    "Name: 526, dtype: int64"
   ]
  },
  {
   "cell_type": "markdown",
   "id": "101e0001",
   "metadata": {},
   "source": [
    "nombre_infected      1078\n",
    "nombre_sain          1986\n",
    "nombre_exposed        503\n",
    "nombre_recovered    16433\n",
    "Name: 527, dtype: int64"
   ]
  },
  {
   "cell_type": "markdown",
   "id": "514e7e28",
   "metadata": {},
   "source": [
    "nombre_infected      1085\n",
    "nombre_sain          1981\n",
    "nombre_exposed        487\n",
    "nombre_recovered    16447\n",
    "Name: 528, dtype: int64"
   ]
  },
  {
   "cell_type": "markdown",
   "id": "ac5db306",
   "metadata": {},
   "source": [
    "nombre_infected      1112\n",
    "nombre_sain          1961\n",
    "nombre_exposed        484\n",
    "nombre_recovered    16443\n",
    "Name: 529, dtype: int64"
   ]
  },
  {
   "cell_type": "markdown",
   "id": "b12b9a61",
   "metadata": {},
   "source": [
    "nombre_infected      1115\n",
    "nombre_sain          1939\n",
    "nombre_exposed        494\n",
    "nombre_recovered    16452\n",
    "Name: 530, dtype: int64"
   ]
  },
  {
   "cell_type": "markdown",
   "id": "1d4b6aec",
   "metadata": {},
   "source": [
    "nombre_infected      1126\n",
    "nombre_sain          1958\n",
    "nombre_exposed        486\n",
    "nombre_recovered    16430\n",
    "Name: 531, dtype: int64"
   ]
  },
  {
   "cell_type": "markdown",
   "id": "ee02445a",
   "metadata": {},
   "source": [
    "nombre_infected      1100\n",
    "nombre_sain          1949\n",
    "nombre_exposed        501\n",
    "nombre_recovered    16450\n",
    "Name: 532, dtype: int64"
   ]
  },
  {
   "cell_type": "markdown",
   "id": "147f065d",
   "metadata": {},
   "source": [
    "nombre_infected      1095\n",
    "nombre_sain          1928\n",
    "nombre_exposed        513\n",
    "nombre_recovered    16464\n",
    "Name: 533, dtype: int64"
   ]
  },
  {
   "cell_type": "markdown",
   "id": "9392ff28",
   "metadata": {},
   "source": [
    "nombre_infected      1085\n",
    "nombre_sain          1920\n",
    "nombre_exposed        510\n",
    "nombre_recovered    16485\n",
    "Name: 534, dtype: int64"
   ]
  },
  {
   "cell_type": "markdown",
   "id": "bb0e62d9",
   "metadata": {},
   "source": [
    "nombre_infected      1078\n",
    "nombre_sain          1907\n",
    "nombre_exposed        512\n",
    "nombre_recovered    16503\n",
    "Name: 535, dtype: int64"
   ]
  },
  {
   "cell_type": "markdown",
   "id": "9a0fd320",
   "metadata": {},
   "source": [
    "nombre_infected      1081\n",
    "nombre_sain          1886\n",
    "nombre_exposed        520\n",
    "nombre_recovered    16513\n",
    "Name: 536, dtype: int64"
   ]
  },
  {
   "cell_type": "markdown",
   "id": "680c9dcf",
   "metadata": {},
   "source": [
    "nombre_infected      1090\n",
    "nombre_sain          1865\n",
    "nombre_exposed        525\n",
    "nombre_recovered    16520\n",
    "Name: 537, dtype: int64"
   ]
  },
  {
   "cell_type": "markdown",
   "id": "14cce348",
   "metadata": {},
   "source": [
    "nombre_infected      1089\n",
    "nombre_sain          1864\n",
    "nombre_exposed        520\n",
    "nombre_recovered    16527\n",
    "Name: 538, dtype: int64"
   ]
  },
  {
   "cell_type": "markdown",
   "id": "e3a2c2ec",
   "metadata": {},
   "source": [
    "nombre_infected      1108\n",
    "nombre_sain          1818\n",
    "nombre_exposed        535\n",
    "nombre_recovered    16539\n",
    "Name: 539, dtype: int64"
   ]
  },
  {
   "cell_type": "markdown",
   "id": "8a9bae56",
   "metadata": {},
   "source": [
    "nombre_infected      1099\n",
    "nombre_sain          1824\n",
    "nombre_exposed        537\n",
    "nombre_recovered    16540\n",
    "Name: 540, dtype: int64"
   ]
  },
  {
   "cell_type": "markdown",
   "id": "5dbaf644",
   "metadata": {},
   "source": [
    "nombre_infected      1100\n",
    "nombre_sain          1804\n",
    "nombre_exposed        536\n",
    "nombre_recovered    16560\n",
    "Name: 541, dtype: int64"
   ]
  },
  {
   "cell_type": "markdown",
   "id": "d041d8f6",
   "metadata": {},
   "source": [
    "nombre_infected      1099\n",
    "nombre_sain          1801\n",
    "nombre_exposed        533\n",
    "nombre_recovered    16567\n",
    "Name: 542, dtype: int64"
   ]
  },
  {
   "cell_type": "markdown",
   "id": "c8e1be27",
   "metadata": {},
   "source": [
    "nombre_infected      1085\n",
    "nombre_sain          1821\n",
    "nombre_exposed        493\n",
    "nombre_recovered    16601\n",
    "Name: 543, dtype: int64"
   ]
  },
  {
   "cell_type": "markdown",
   "id": "a8480d7e",
   "metadata": {},
   "source": [
    "nombre_infected      1064\n",
    "nombre_sain          1791\n",
    "nombre_exposed        508\n",
    "nombre_recovered    16637\n",
    "Name: 544, dtype: int64"
   ]
  },
  {
   "cell_type": "markdown",
   "id": "e068455e",
   "metadata": {},
   "source": [
    "nombre_infected      1046\n",
    "nombre_sain          1785\n",
    "nombre_exposed        506\n",
    "nombre_recovered    16663\n",
    "Name: 545, dtype: int64"
   ]
  },
  {
   "cell_type": "markdown",
   "id": "6c2a6006",
   "metadata": {},
   "source": [
    "nombre_infected      1052\n",
    "nombre_sain          1780\n",
    "nombre_exposed        485\n",
    "nombre_recovered    16683\n",
    "Name: 546, dtype: int64"
   ]
  },
  {
   "cell_type": "markdown",
   "id": "5be94337",
   "metadata": {},
   "source": [
    "nombre_infected      1029\n",
    "nombre_sain          1793\n",
    "nombre_exposed        472\n",
    "nombre_recovered    16706\n",
    "Name: 547, dtype: int64"
   ]
  },
  {
   "cell_type": "markdown",
   "id": "f53c66df",
   "metadata": {},
   "source": [
    "nombre_infected      1025\n",
    "nombre_sain          1802\n",
    "nombre_exposed        464\n",
    "nombre_recovered    16709\n",
    "Name: 548, dtype: int64"
   ]
  },
  {
   "cell_type": "markdown",
   "id": "88d427f3",
   "metadata": {},
   "source": [
    "nombre_infected      1037\n",
    "nombre_sain          1771\n",
    "nombre_exposed        473\n",
    "nombre_recovered    16719\n",
    "Name: 549, dtype: int64"
   ]
  },
  {
   "cell_type": "markdown",
   "id": "b1070555",
   "metadata": {},
   "source": [
    "nombre_infected      1022\n",
    "nombre_sain          1754\n",
    "nombre_exposed        486\n",
    "nombre_recovered    16738\n",
    "Name: 550, dtype: int64"
   ]
  },
  {
   "cell_type": "markdown",
   "id": "1db1aa35",
   "metadata": {},
   "source": [
    "nombre_infected      1009\n",
    "nombre_sain          1772\n",
    "nombre_exposed        486\n",
    "nombre_recovered    16733\n",
    "Name: 551, dtype: int64"
   ]
  },
  {
   "cell_type": "markdown",
   "id": "61480670",
   "metadata": {},
   "source": [
    "nombre_infected      1015\n",
    "nombre_sain          1753\n",
    "nombre_exposed        478\n",
    "nombre_recovered    16754\n",
    "Name: 552, dtype: int64"
   ]
  },
  {
   "cell_type": "markdown",
   "id": "d41b5e21",
   "metadata": {},
   "source": [
    "nombre_infected       962\n",
    "nombre_sain          1758\n",
    "nombre_exposed        492\n",
    "nombre_recovered    16788\n",
    "Name: 553, dtype: int64"
   ]
  },
  {
   "cell_type": "markdown",
   "id": "5d0ca67c",
   "metadata": {},
   "source": [
    "nombre_infected       941\n",
    "nombre_sain          1759\n",
    "nombre_exposed        488\n",
    "nombre_recovered    16812\n",
    "Name: 554, dtype: int64"
   ]
  },
  {
   "cell_type": "markdown",
   "id": "9036d34d",
   "metadata": {},
   "source": [
    "nombre_infected       938\n",
    "nombre_sain          1789\n",
    "nombre_exposed        470\n",
    "nombre_recovered    16803\n",
    "Name: 555, dtype: int64"
   ]
  },
  {
   "cell_type": "markdown",
   "id": "11f70497",
   "metadata": {},
   "source": [
    "nombre_infected       946\n",
    "nombre_sain          1818\n",
    "nombre_exposed        457\n",
    "nombre_recovered    16779\n",
    "Name: 556, dtype: int64"
   ]
  },
  {
   "cell_type": "markdown",
   "id": "8f61f429",
   "metadata": {},
   "source": [
    "nombre_infected       934\n",
    "nombre_sain          1816\n",
    "nombre_exposed        447\n",
    "nombre_recovered    16803\n",
    "Name: 557, dtype: int64"
   ]
  },
  {
   "cell_type": "markdown",
   "id": "374de3c8",
   "metadata": {},
   "source": [
    "nombre_infected       944\n",
    "nombre_sain          1852\n",
    "nombre_exposed        409\n",
    "nombre_recovered    16795\n",
    "Name: 558, dtype: int64"
   ]
  },
  {
   "cell_type": "markdown",
   "id": "a0b1624f",
   "metadata": {},
   "source": [
    "nombre_infected       922\n",
    "nombre_sain          1867\n",
    "nombre_exposed        408\n",
    "nombre_recovered    16803\n",
    "Name: 559, dtype: int64"
   ]
  },
  {
   "cell_type": "markdown",
   "id": "a6cdfc2a",
   "metadata": {},
   "source": [
    "nombre_infected       913\n",
    "nombre_sain          1864\n",
    "nombre_exposed        420\n",
    "nombre_recovered    16803\n",
    "Name: 560, dtype: int64"
   ]
  },
  {
   "cell_type": "markdown",
   "id": "2c3429f3",
   "metadata": {},
   "source": [
    "nombre_infected       881\n",
    "nombre_sain          1897\n",
    "nombre_exposed        418\n",
    "nombre_recovered    16804\n",
    "Name: 561, dtype: int64"
   ]
  },
  {
   "cell_type": "markdown",
   "id": "27b8c62c",
   "metadata": {},
   "source": [
    "nombre_infected       890\n",
    "nombre_sain          1926\n",
    "nombre_exposed        386\n",
    "nombre_recovered    16798\n",
    "Name: 562, dtype: int64"
   ]
  },
  {
   "cell_type": "markdown",
   "id": "ca819371",
   "metadata": {},
   "source": [
    "nombre_infected       875\n",
    "nombre_sain          1944\n",
    "nombre_exposed        396\n",
    "nombre_recovered    16785\n",
    "Name: 563, dtype: int64"
   ]
  },
  {
   "cell_type": "markdown",
   "id": "439ca271",
   "metadata": {},
   "source": [
    "nombre_infected       878\n",
    "nombre_sain          1963\n",
    "nombre_exposed        388\n",
    "nombre_recovered    16771\n",
    "Name: 564, dtype: int64"
   ]
  },
  {
   "cell_type": "markdown",
   "id": "26aa3bf7",
   "metadata": {},
   "source": [
    "nombre_infected       872\n",
    "nombre_sain          1990\n",
    "nombre_exposed        388\n",
    "nombre_recovered    16750\n",
    "Name: 565, dtype: int64"
   ]
  },
  {
   "cell_type": "markdown",
   "id": "a4d97d9a",
   "metadata": {},
   "source": [
    "nombre_infected       855\n",
    "nombre_sain          1999\n",
    "nombre_exposed        387\n",
    "nombre_recovered    16759\n",
    "Name: 566, dtype: int64"
   ]
  },
  {
   "cell_type": "markdown",
   "id": "4955d43f",
   "metadata": {},
   "source": [
    "nombre_infected       851\n",
    "nombre_sain          1996\n",
    "nombre_exposed        397\n",
    "nombre_recovered    16756\n",
    "Name: 567, dtype: int64"
   ]
  },
  {
   "cell_type": "markdown",
   "id": "9a2919bc",
   "metadata": {},
   "source": [
    "nombre_infected       842\n",
    "nombre_sain          2003\n",
    "nombre_exposed        416\n",
    "nombre_recovered    16739\n",
    "Name: 568, dtype: int64"
   ]
  },
  {
   "cell_type": "markdown",
   "id": "87a2f2f5",
   "metadata": {},
   "source": [
    "nombre_infected       812\n",
    "nombre_sain          2033\n",
    "nombre_exposed        430\n",
    "nombre_recovered    16725\n",
    "Name: 569, dtype: int64"
   ]
  },
  {
   "cell_type": "markdown",
   "id": "baacc5e8",
   "metadata": {},
   "source": [
    "nombre_infected       821\n",
    "nombre_sain          2042\n",
    "nombre_exposed        420\n",
    "nombre_recovered    16717\n",
    "Name: 570, dtype: int64"
   ]
  },
  {
   "cell_type": "markdown",
   "id": "90adf3c8",
   "metadata": {},
   "source": [
    "nombre_infected       813\n",
    "nombre_sain          2083\n",
    "nombre_exposed        400\n",
    "nombre_recovered    16704\n",
    "Name: 571, dtype: int64"
   ]
  },
  {
   "cell_type": "markdown",
   "id": "7d242060",
   "metadata": {},
   "source": [
    "nombre_infected       822\n",
    "nombre_sain          2105\n",
    "nombre_exposed        404\n",
    "nombre_recovered    16669\n",
    "Name: 572, dtype: int64"
   ]
  },
  {
   "cell_type": "markdown",
   "id": "ba0bbc31",
   "metadata": {},
   "source": [
    "nombre_infected       823\n",
    "nombre_sain          2106\n",
    "nombre_exposed        418\n",
    "nombre_recovered    16653\n",
    "Name: 573, dtype: int64"
   ]
  },
  {
   "cell_type": "markdown",
   "id": "d0cb54e0",
   "metadata": {},
   "source": [
    "nombre_infected       815\n",
    "nombre_sain          2082\n",
    "nombre_exposed        437\n",
    "nombre_recovered    16666\n",
    "Name: 574, dtype: int64"
   ]
  },
  {
   "cell_type": "markdown",
   "id": "150c1c2e",
   "metadata": {},
   "source": [
    "nombre_infected       812\n",
    "nombre_sain          2116\n",
    "nombre_exposed        428\n",
    "nombre_recovered    16644\n",
    "Name: 575, dtype: int64"
   ]
  },
  {
   "cell_type": "markdown",
   "id": "22afccaa",
   "metadata": {},
   "source": [
    "nombre_infected       830\n",
    "nombre_sain          2119\n",
    "nombre_exposed        426\n",
    "nombre_recovered    16625\n",
    "Name: 576, dtype: int64"
   ]
  },
  {
   "cell_type": "markdown",
   "id": "ca65946f",
   "metadata": {},
   "source": [
    "nombre_infected       824\n",
    "nombre_sain          2117\n",
    "nombre_exposed        431\n",
    "nombre_recovered    16628\n",
    "Name: 577, dtype: int64"
   ]
  },
  {
   "cell_type": "markdown",
   "id": "8126880f",
   "metadata": {},
   "source": [
    "nombre_infected       795\n",
    "nombre_sain          2119\n",
    "nombre_exposed        453\n",
    "nombre_recovered    16633\n",
    "Name: 578, dtype: int64"
   ]
  },
  {
   "cell_type": "markdown",
   "id": "2ecc0b16",
   "metadata": {},
   "source": [
    "nombre_infected       801\n",
    "nombre_sain          2131\n",
    "nombre_exposed        453\n",
    "nombre_recovered    16615\n",
    "Name: 579, dtype: int64"
   ]
  },
  {
   "cell_type": "markdown",
   "id": "0fc33183",
   "metadata": {},
   "source": [
    "nombre_infected       812\n",
    "nombre_sain          2144\n",
    "nombre_exposed        440\n",
    "nombre_recovered    16604\n",
    "Name: 580, dtype: int64"
   ]
  },
  {
   "cell_type": "markdown",
   "id": "e89bf78a",
   "metadata": {},
   "source": [
    "nombre_infected       836\n",
    "nombre_sain          2157\n",
    "nombre_exposed        411\n",
    "nombre_recovered    16596\n",
    "Name: 581, dtype: int64"
   ]
  },
  {
   "cell_type": "markdown",
   "id": "76e9b936",
   "metadata": {},
   "source": [
    "nombre_infected       817\n",
    "nombre_sain          2135\n",
    "nombre_exposed        438\n",
    "nombre_recovered    16610\n",
    "Name: 582, dtype: int64"
   ]
  },
  {
   "cell_type": "markdown",
   "id": "10454593",
   "metadata": {},
   "source": [
    "nombre_infected       819\n",
    "nombre_sain          2122\n",
    "nombre_exposed        438\n",
    "nombre_recovered    16621\n",
    "Name: 583, dtype: int64"
   ]
  },
  {
   "cell_type": "markdown",
   "id": "d047b93b",
   "metadata": {},
   "source": [
    "nombre_infected       818\n",
    "nombre_sain          2111\n",
    "nombre_exposed        451\n",
    "nombre_recovered    16620\n",
    "Name: 584, dtype: int64"
   ]
  },
  {
   "cell_type": "markdown",
   "id": "e562813a",
   "metadata": {},
   "source": [
    "nombre_infected       825\n",
    "nombre_sain          2127\n",
    "nombre_exposed        446\n",
    "nombre_recovered    16602\n",
    "Name: 585, dtype: int64"
   ]
  },
  {
   "cell_type": "markdown",
   "id": "ca9b3f9b",
   "metadata": {},
   "source": [
    "nombre_infected       853\n",
    "nombre_sain          2127\n",
    "nombre_exposed        443\n",
    "nombre_recovered    16577\n",
    "Name: 586, dtype: int64"
   ]
  },
  {
   "cell_type": "markdown",
   "id": "d88ea4c0",
   "metadata": {},
   "source": [
    "nombre_infected       814\n",
    "nombre_sain          2133\n",
    "nombre_exposed        444\n",
    "nombre_recovered    16609\n",
    "Name: 587, dtype: int64"
   ]
  },
  {
   "cell_type": "markdown",
   "id": "59ef0e36",
   "metadata": {},
   "source": [
    "nombre_infected       825\n",
    "nombre_sain          2161\n",
    "nombre_exposed        428\n",
    "nombre_recovered    16586\n",
    "Name: 588, dtype: int64"
   ]
  },
  {
   "cell_type": "markdown",
   "id": "f8557dbd",
   "metadata": {},
   "source": [
    "nombre_infected       820\n",
    "nombre_sain          2174\n",
    "nombre_exposed        419\n",
    "nombre_recovered    16587\n",
    "Name: 589, dtype: int64"
   ]
  },
  {
   "cell_type": "markdown",
   "id": "6b2436d9",
   "metadata": {},
   "source": [
    "nombre_infected       818\n",
    "nombre_sain          2154\n",
    "nombre_exposed        441\n",
    "nombre_recovered    16587\n",
    "Name: 590, dtype: int64"
   ]
  },
  {
   "cell_type": "markdown",
   "id": "7f0da1a3",
   "metadata": {},
   "source": [
    "nombre_infected       797\n",
    "nombre_sain          2183\n",
    "nombre_exposed        457\n",
    "nombre_recovered    16563\n",
    "Name: 591, dtype: int64"
   ]
  },
  {
   "cell_type": "markdown",
   "id": "ca2b08de",
   "metadata": {},
   "source": [
    "nombre_infected       799\n",
    "nombre_sain          2213\n",
    "nombre_exposed        453\n",
    "nombre_recovered    16535\n",
    "Name: 592, dtype: int64"
   ]
  },
  {
   "cell_type": "markdown",
   "id": "aae923f4",
   "metadata": {},
   "source": [
    "nombre_infected       809\n",
    "nombre_sain          2228\n",
    "nombre_exposed        447\n",
    "nombre_recovered    16516\n",
    "Name: 593, dtype: int64"
   ]
  },
  {
   "cell_type": "markdown",
   "id": "564fea93",
   "metadata": {},
   "source": [
    "nombre_infected       796\n",
    "nombre_sain          2243\n",
    "nombre_exposed        451\n",
    "nombre_recovered    16510\n",
    "Name: 594, dtype: int64"
   ]
  },
  {
   "cell_type": "markdown",
   "id": "020eb2f9",
   "metadata": {},
   "source": [
    "nombre_infected       795\n",
    "nombre_sain          2238\n",
    "nombre_exposed        472\n",
    "nombre_recovered    16495\n",
    "Name: 595, dtype: int64"
   ]
  },
  {
   "cell_type": "markdown",
   "id": "6e0f5e7f",
   "metadata": {},
   "source": [
    "nombre_infected       790\n",
    "nombre_sain          2240\n",
    "nombre_exposed        470\n",
    "nombre_recovered    16500\n",
    "Name: 596, dtype: int64"
   ]
  },
  {
   "cell_type": "markdown",
   "id": "8c2a41c4",
   "metadata": {},
   "source": [
    "nombre_infected       794\n",
    "nombre_sain          2235\n",
    "nombre_exposed        466\n",
    "nombre_recovered    16505\n",
    "Name: 597, dtype: int64"
   ]
  },
  {
   "cell_type": "markdown",
   "id": "635d619e",
   "metadata": {},
   "source": [
    "nombre_infected       818\n",
    "nombre_sain          2230\n",
    "nombre_exposed        462\n",
    "nombre_recovered    16490\n",
    "Name: 598, dtype: int64"
   ]
  },
  {
   "cell_type": "markdown",
   "id": "43609b79",
   "metadata": {},
   "source": [
    "nombre_infected       824\n",
    "nombre_sain          2245\n",
    "nombre_exposed        458\n",
    "nombre_recovered    16473\n",
    "Name: 599, dtype: int64"
   ]
  },
  {
   "cell_type": "markdown",
   "id": "9c161e44",
   "metadata": {},
   "source": [
    "nombre_infected       847\n",
    "nombre_sain          2218\n",
    "nombre_exposed        448\n",
    "nombre_recovered    16487\n",
    "Name: 600, dtype: int64"
   ]
  },
  {
   "cell_type": "markdown",
   "id": "1d22c588",
   "metadata": {},
   "source": [
    "nombre_infected       861\n",
    "nombre_sain          2200\n",
    "nombre_exposed        451\n",
    "nombre_recovered    16488\n",
    "Name: 601, dtype: int64"
   ]
  },
  {
   "cell_type": "markdown",
   "id": "c902c6b4",
   "metadata": {},
   "source": [
    "nombre_infected       857\n",
    "nombre_sain          2185\n",
    "nombre_exposed        464\n",
    "nombre_recovered    16494\n",
    "Name: 602, dtype: int64"
   ]
  },
  {
   "cell_type": "markdown",
   "id": "7e930459",
   "metadata": {},
   "source": [
    "nombre_infected       862\n",
    "nombre_sain          2190\n",
    "nombre_exposed        464\n",
    "nombre_recovered    16484\n",
    "Name: 603, dtype: int64"
   ]
  },
  {
   "cell_type": "markdown",
   "id": "b4386d5c",
   "metadata": {},
   "source": [
    "nombre_infected       867\n",
    "nombre_sain          2169\n",
    "nombre_exposed        477\n",
    "nombre_recovered    16487\n",
    "Name: 604, dtype: int64"
   ]
  },
  {
   "cell_type": "markdown",
   "id": "cfafe469",
   "metadata": {},
   "source": [
    "nombre_infected       883\n",
    "nombre_sain          2161\n",
    "nombre_exposed        485\n",
    "nombre_recovered    16471\n",
    "Name: 605, dtype: int64"
   ]
  },
  {
   "cell_type": "markdown",
   "id": "4310d42f",
   "metadata": {},
   "source": [
    "nombre_infected       897\n",
    "nombre_sain          2161\n",
    "nombre_exposed        486\n",
    "nombre_recovered    16456\n",
    "Name: 606, dtype: int64"
   ]
  },
  {
   "cell_type": "markdown",
   "id": "bea5d292",
   "metadata": {},
   "source": [
    "nombre_infected       900\n",
    "nombre_sain          2160\n",
    "nombre_exposed        479\n",
    "nombre_recovered    16461\n",
    "Name: 607, dtype: int64"
   ]
  },
  {
   "cell_type": "markdown",
   "id": "9f17bafe",
   "metadata": {},
   "source": [
    "nombre_infected       905\n",
    "nombre_sain          2138\n",
    "nombre_exposed        493\n",
    "nombre_recovered    16464\n",
    "Name: 608, dtype: int64"
   ]
  },
  {
   "cell_type": "markdown",
   "id": "7031b1dc",
   "metadata": {},
   "source": [
    "nombre_infected       922\n",
    "nombre_sain          2113\n",
    "nombre_exposed        493\n",
    "nombre_recovered    16472\n",
    "Name: 609, dtype: int64"
   ]
  },
  {
   "cell_type": "markdown",
   "id": "5970632c",
   "metadata": {},
   "source": [
    "nombre_infected       941\n",
    "nombre_sain          2086\n",
    "nombre_exposed        498\n",
    "nombre_recovered    16475\n",
    "Name: 610, dtype: int64"
   ]
  },
  {
   "cell_type": "markdown",
   "id": "fa4701e6",
   "metadata": {},
   "source": [
    "nombre_infected       924\n",
    "nombre_sain          2116\n",
    "nombre_exposed        483\n",
    "nombre_recovered    16477\n",
    "Name: 611, dtype: int64"
   ]
  },
  {
   "cell_type": "markdown",
   "id": "bcb80cd0",
   "metadata": {},
   "source": [
    "nombre_infected       924\n",
    "nombre_sain          2126\n",
    "nombre_exposed        483\n",
    "nombre_recovered    16467\n",
    "Name: 612, dtype: int64"
   ]
  },
  {
   "cell_type": "markdown",
   "id": "373d3474",
   "metadata": {},
   "source": [
    "nombre_infected       917\n",
    "nombre_sain          2133\n",
    "nombre_exposed        493\n",
    "nombre_recovered    16457\n",
    "Name: 613, dtype: int64"
   ]
  },
  {
   "cell_type": "markdown",
   "id": "eff7598b",
   "metadata": {},
   "source": [
    "nombre_infected       922\n",
    "nombre_sain          2137\n",
    "nombre_exposed        489\n",
    "nombre_recovered    16452\n",
    "Name: 614, dtype: int64"
   ]
  },
  {
   "cell_type": "markdown",
   "id": "0aba7b62",
   "metadata": {},
   "source": [
    "nombre_infected       936\n",
    "nombre_sain          2137\n",
    "nombre_exposed        476\n",
    "nombre_recovered    16451\n",
    "Name: 615, dtype: int64"
   ]
  },
  {
   "cell_type": "markdown",
   "id": "8a2b0dc3",
   "metadata": {},
   "source": [
    "nombre_infected       949\n",
    "nombre_sain          2140\n",
    "nombre_exposed        493\n",
    "nombre_recovered    16418\n",
    "Name: 616, dtype: int64"
   ]
  },
  {
   "cell_type": "markdown",
   "id": "c88f5aa6",
   "metadata": {},
   "source": [
    "nombre_infected       957\n",
    "nombre_sain          2126\n",
    "nombre_exposed        502\n",
    "nombre_recovered    16415\n",
    "Name: 617, dtype: int64"
   ]
  },
  {
   "cell_type": "markdown",
   "id": "e1858775",
   "metadata": {},
   "source": [
    "nombre_infected       955\n",
    "nombre_sain          2123\n",
    "nombre_exposed        515\n",
    "nombre_recovered    16407\n",
    "Name: 618, dtype: int64"
   ]
  },
  {
   "cell_type": "markdown",
   "id": "b6b062a7",
   "metadata": {},
   "source": [
    "nombre_infected       953\n",
    "nombre_sain          2138\n",
    "nombre_exposed        519\n",
    "nombre_recovered    16390\n",
    "Name: 619, dtype: int64"
   ]
  },
  {
   "cell_type": "markdown",
   "id": "e666ebd1",
   "metadata": {},
   "source": [
    "nombre_infected       956\n",
    "nombre_sain          2139\n",
    "nombre_exposed        517\n",
    "nombre_recovered    16388\n",
    "Name: 620, dtype: int64"
   ]
  },
  {
   "cell_type": "markdown",
   "id": "134ba3d0",
   "metadata": {},
   "source": [
    "nombre_infected       960\n",
    "nombre_sain          2160\n",
    "nombre_exposed        502\n",
    "nombre_recovered    16378\n",
    "Name: 621, dtype: int64"
   ]
  },
  {
   "cell_type": "markdown",
   "id": "11a70b4a",
   "metadata": {},
   "source": [
    "nombre_infected       965\n",
    "nombre_sain          2142\n",
    "nombre_exposed        532\n",
    "nombre_recovered    16361\n",
    "Name: 622, dtype: int64"
   ]
  },
  {
   "cell_type": "markdown",
   "id": "4f126425",
   "metadata": {},
   "source": [
    "nombre_infected       973\n",
    "nombre_sain          2149\n",
    "nombre_exposed        542\n",
    "nombre_recovered    16336\n",
    "Name: 623, dtype: int64"
   ]
  },
  {
   "cell_type": "markdown",
   "id": "5ff7234b",
   "metadata": {},
   "source": [
    "nombre_infected       967\n",
    "nombre_sain          2180\n",
    "nombre_exposed        538\n",
    "nombre_recovered    16315\n",
    "Name: 624, dtype: int64"
   ]
  },
  {
   "cell_type": "markdown",
   "id": "bbb63786",
   "metadata": {},
   "source": [
    "nombre_infected       954\n",
    "nombre_sain          2176\n",
    "nombre_exposed        559\n",
    "nombre_recovered    16311\n",
    "Name: 625, dtype: int64"
   ]
  },
  {
   "cell_type": "markdown",
   "id": "97738bf8",
   "metadata": {},
   "source": [
    "nombre_infected       949\n",
    "nombre_sain          2161\n",
    "nombre_exposed        576\n",
    "nombre_recovered    16314\n",
    "Name: 626, dtype: int64"
   ]
  },
  {
   "cell_type": "markdown",
   "id": "5a401c4b",
   "metadata": {},
   "source": [
    "nombre_infected       963\n",
    "nombre_sain          2163\n",
    "nombre_exposed        565\n",
    "nombre_recovered    16309\n",
    "Name: 627, dtype: int64"
   ]
  },
  {
   "cell_type": "markdown",
   "id": "f2e9a5bb",
   "metadata": {},
   "source": [
    "nombre_infected       956\n",
    "nombre_sain          2177\n",
    "nombre_exposed        572\n",
    "nombre_recovered    16295\n",
    "Name: 628, dtype: int64"
   ]
  },
  {
   "cell_type": "markdown",
   "id": "73e0ad5e",
   "metadata": {},
   "source": [
    "nombre_infected       983\n",
    "nombre_sain          2199\n",
    "nombre_exposed        567\n",
    "nombre_recovered    16251\n",
    "Name: 629, dtype: int64"
   ]
  },
  {
   "cell_type": "markdown",
   "id": "c0c05d3c",
   "metadata": {},
   "source": [
    "nombre_infected       979\n",
    "nombre_sain          2202\n",
    "nombre_exposed        592\n",
    "nombre_recovered    16227\n",
    "Name: 630, dtype: int64"
   ]
  },
  {
   "cell_type": "markdown",
   "id": "d65e0ba5",
   "metadata": {},
   "source": [
    "nombre_infected      1012\n",
    "nombre_sain          2217\n",
    "nombre_exposed        569\n",
    "nombre_recovered    16202\n",
    "Name: 631, dtype: int64"
   ]
  },
  {
   "cell_type": "markdown",
   "id": "d49b78e6",
   "metadata": {},
   "source": [
    "nombre_infected      1021\n",
    "nombre_sain          2179\n",
    "nombre_exposed        586\n",
    "nombre_recovered    16214\n",
    "Name: 632, dtype: int64"
   ]
  },
  {
   "cell_type": "markdown",
   "id": "8053a734",
   "metadata": {},
   "source": [
    "nombre_infected      1026\n",
    "nombre_sain          2185\n",
    "nombre_exposed        591\n",
    "nombre_recovered    16198\n",
    "Name: 633, dtype: int64"
   ]
  },
  {
   "cell_type": "markdown",
   "id": "e4e4fa4b",
   "metadata": {},
   "source": [
    "nombre_infected      1067\n",
    "nombre_sain          2159\n",
    "nombre_exposed        585\n",
    "nombre_recovered    16189\n",
    "Name: 634, dtype: int64"
   ]
  },
  {
   "cell_type": "markdown",
   "id": "9e1c27e3",
   "metadata": {},
   "source": [
    "nombre_infected      1055\n",
    "nombre_sain          2131\n",
    "nombre_exposed        602\n",
    "nombre_recovered    16212\n",
    "Name: 635, dtype: int64"
   ]
  },
  {
   "cell_type": "markdown",
   "id": "d4c145c8",
   "metadata": {},
   "source": [
    "nombre_infected      1077\n",
    "nombre_sain          2104\n",
    "nombre_exposed        606\n",
    "nombre_recovered    16213\n",
    "Name: 636, dtype: int64"
   ]
  },
  {
   "cell_type": "markdown",
   "id": "efe6d2b7",
   "metadata": {},
   "source": [
    "nombre_infected      1081\n",
    "nombre_sain          2106\n",
    "nombre_exposed        607\n",
    "nombre_recovered    16206\n",
    "Name: 637, dtype: int64"
   ]
  },
  {
   "cell_type": "markdown",
   "id": "02190ae8",
   "metadata": {},
   "source": [
    "nombre_infected      1119\n",
    "nombre_sain          2071\n",
    "nombre_exposed        601\n",
    "nombre_recovered    16209\n",
    "Name: 638, dtype: int64"
   ]
  },
  {
   "cell_type": "markdown",
   "id": "78fc1891",
   "metadata": {},
   "source": [
    "nombre_infected      1113\n",
    "nombre_sain          2062\n",
    "nombre_exposed        597\n",
    "nombre_recovered    16228\n",
    "Name: 639, dtype: int64"
   ]
  },
  {
   "cell_type": "markdown",
   "id": "7404b96a",
   "metadata": {},
   "source": [
    "nombre_infected      1131\n",
    "nombre_sain          2041\n",
    "nombre_exposed        586\n",
    "nombre_recovered    16242\n",
    "Name: 640, dtype: int64"
   ]
  },
  {
   "cell_type": "markdown",
   "id": "5e53eeab",
   "metadata": {},
   "source": [
    "nombre_infected      1144\n",
    "nombre_sain          2021\n",
    "nombre_exposed        569\n",
    "nombre_recovered    16266\n",
    "Name: 641, dtype: int64"
   ]
  },
  {
   "cell_type": "markdown",
   "id": "95b9a8e9",
   "metadata": {},
   "source": [
    "nombre_infected      1145\n",
    "nombre_sain          1984\n",
    "nombre_exposed        580\n",
    "nombre_recovered    16291\n",
    "Name: 642, dtype: int64"
   ]
  },
  {
   "cell_type": "markdown",
   "id": "becbd727",
   "metadata": {},
   "source": [
    "nombre_infected      1136\n",
    "nombre_sain          1963\n",
    "nombre_exposed        606\n",
    "nombre_recovered    16295\n",
    "Name: 643, dtype: int64"
   ]
  },
  {
   "cell_type": "markdown",
   "id": "63985dee",
   "metadata": {},
   "source": [
    "nombre_infected      1156\n",
    "nombre_sain          1943\n",
    "nombre_exposed        603\n",
    "nombre_recovered    16298\n",
    "Name: 644, dtype: int64"
   ]
  },
  {
   "cell_type": "markdown",
   "id": "6d90b9fa",
   "metadata": {},
   "source": [
    "nombre_infected      1170\n",
    "nombre_sain          1946\n",
    "nombre_exposed        582\n",
    "nombre_recovered    16302\n",
    "Name: 645, dtype: int64"
   ]
  },
  {
   "cell_type": "markdown",
   "id": "45e9ff45",
   "metadata": {},
   "source": [
    "nombre_infected      1160\n",
    "nombre_sain          1939\n",
    "nombre_exposed        572\n",
    "nombre_recovered    16329\n",
    "Name: 646, dtype: int64"
   ]
  },
  {
   "cell_type": "markdown",
   "id": "ffb0dd0e",
   "metadata": {},
   "source": [
    "nombre_infected      1155\n",
    "nombre_sain          1928\n",
    "nombre_exposed        569\n",
    "nombre_recovered    16348\n",
    "Name: 647, dtype: int64"
   ]
  },
  {
   "cell_type": "markdown",
   "id": "02fbea0e",
   "metadata": {},
   "source": [
    "nombre_infected      1149\n",
    "nombre_sain          1883\n",
    "nombre_exposed        595\n",
    "nombre_recovered    16373\n",
    "Name: 648, dtype: int64"
   ]
  },
  {
   "cell_type": "markdown",
   "id": "08284dcc",
   "metadata": {},
   "source": [
    "nombre_infected      1135\n",
    "nombre_sain          1864\n",
    "nombre_exposed        594\n",
    "nombre_recovered    16407\n",
    "Name: 649, dtype: int64"
   ]
  },
  {
   "cell_type": "markdown",
   "id": "60cebd29",
   "metadata": {},
   "source": [
    "nombre_infected      1147\n",
    "nombre_sain          1842\n",
    "nombre_exposed        581\n",
    "nombre_recovered    16430\n",
    "Name: 650, dtype: int64"
   ]
  },
  {
   "cell_type": "markdown",
   "id": "08d4fb5e",
   "metadata": {},
   "source": [
    "nombre_infected      1141\n",
    "nombre_sain          1830\n",
    "nombre_exposed        578\n",
    "nombre_recovered    16451\n",
    "Name: 651, dtype: int64"
   ]
  },
  {
   "cell_type": "markdown",
   "id": "e8c3b0d7",
   "metadata": {},
   "source": [
    "nombre_infected      1160\n",
    "nombre_sain          1843\n",
    "nombre_exposed        529\n",
    "nombre_recovered    16468\n",
    "Name: 652, dtype: int64"
   ]
  },
  {
   "cell_type": "markdown",
   "id": "0a8d875a",
   "metadata": {},
   "source": [
    "nombre_infected      1167\n",
    "nombre_sain          1809\n",
    "nombre_exposed        519\n",
    "nombre_recovered    16505\n",
    "Name: 653, dtype: int64"
   ]
  },
  {
   "cell_type": "markdown",
   "id": "bd3eeb8e",
   "metadata": {},
   "source": [
    "nombre_infected      1191\n",
    "nombre_sain          1798\n",
    "nombre_exposed        520\n",
    "nombre_recovered    16491\n",
    "Name: 654, dtype: int64"
   ]
  },
  {
   "cell_type": "markdown",
   "id": "4a36e9a2",
   "metadata": {},
   "source": [
    "nombre_infected      1187\n",
    "nombre_sain          1790\n",
    "nombre_exposed        531\n",
    "nombre_recovered    16492\n",
    "Name: 655, dtype: int64"
   ]
  },
  {
   "cell_type": "markdown",
   "id": "8fc30a50",
   "metadata": {},
   "source": [
    "nombre_infected      1152\n",
    "nombre_sain          1793\n",
    "nombre_exposed        520\n",
    "nombre_recovered    16535\n",
    "Name: 656, dtype: int64"
   ]
  },
  {
   "cell_type": "markdown",
   "id": "59cf8ce1",
   "metadata": {},
   "source": [
    "nombre_infected      1138\n",
    "nombre_sain          1790\n",
    "nombre_exposed        533\n",
    "nombre_recovered    16539\n",
    "Name: 657, dtype: int64"
   ]
  },
  {
   "cell_type": "markdown",
   "id": "a67e64b3",
   "metadata": {},
   "source": [
    "nombre_infected      1119\n",
    "nombre_sain          1783\n",
    "nombre_exposed        535\n",
    "nombre_recovered    16563\n",
    "Name: 658, dtype: int64"
   ]
  },
  {
   "cell_type": "markdown",
   "id": "d8900682",
   "metadata": {},
   "source": [
    "nombre_infected      1114\n",
    "nombre_sain          1787\n",
    "nombre_exposed        524\n",
    "nombre_recovered    16575\n",
    "Name: 659, dtype: int64"
   ]
  },
  {
   "cell_type": "markdown",
   "id": "07187404",
   "metadata": {},
   "source": [
    "nombre_infected      1119\n",
    "nombre_sain          1760\n",
    "nombre_exposed        528\n",
    "nombre_recovered    16593\n",
    "Name: 660, dtype: int64"
   ]
  },
  {
   "cell_type": "markdown",
   "id": "2117039f",
   "metadata": {},
   "source": [
    "nombre_infected      1107\n",
    "nombre_sain          1757\n",
    "nombre_exposed        515\n",
    "nombre_recovered    16621\n",
    "Name: 661, dtype: int64"
   ]
  },
  {
   "cell_type": "markdown",
   "id": "c933e40b",
   "metadata": {},
   "source": [
    "nombre_infected      1121\n",
    "nombre_sain          1754\n",
    "nombre_exposed        501\n",
    "nombre_recovered    16624\n",
    "Name: 662, dtype: int64"
   ]
  },
  {
   "cell_type": "markdown",
   "id": "be9fd03b",
   "metadata": {},
   "source": [
    "nombre_infected      1123\n",
    "nombre_sain          1763\n",
    "nombre_exposed        489\n",
    "nombre_recovered    16625\n",
    "Name: 663, dtype: int64"
   ]
  },
  {
   "cell_type": "markdown",
   "id": "63784b24",
   "metadata": {},
   "source": [
    "nombre_infected      1118\n",
    "nombre_sain          1714\n",
    "nombre_exposed        527\n",
    "nombre_recovered    16641\n",
    "Name: 664, dtype: int64"
   ]
  },
  {
   "cell_type": "markdown",
   "id": "e65d0f5c",
   "metadata": {},
   "source": [
    "nombre_infected      1101\n",
    "nombre_sain          1693\n",
    "nombre_exposed        552\n",
    "nombre_recovered    16654\n",
    "Name: 665, dtype: int64"
   ]
  },
  {
   "cell_type": "markdown",
   "id": "36a05639",
   "metadata": {},
   "source": [
    "nombre_infected      1114\n",
    "nombre_sain          1700\n",
    "nombre_exposed        527\n",
    "nombre_recovered    16659\n",
    "Name: 666, dtype: int64"
   ]
  },
  {
   "cell_type": "markdown",
   "id": "22c11d91",
   "metadata": {},
   "source": [
    "nombre_infected      1121\n",
    "nombre_sain          1677\n",
    "nombre_exposed        524\n",
    "nombre_recovered    16678\n",
    "Name: 667, dtype: int64"
   ]
  },
  {
   "cell_type": "markdown",
   "id": "82ddb178",
   "metadata": {},
   "source": [
    "nombre_infected      1127\n",
    "nombre_sain          1666\n",
    "nombre_exposed        525\n",
    "nombre_recovered    16682\n",
    "Name: 668, dtype: int64"
   ]
  },
  {
   "cell_type": "markdown",
   "id": "ddc1e6bf",
   "metadata": {},
   "source": [
    "nombre_infected      1125\n",
    "nombre_sain          1652\n",
    "nombre_exposed        495\n",
    "nombre_recovered    16728\n",
    "Name: 669, dtype: int64"
   ]
  },
  {
   "cell_type": "markdown",
   "id": "e37ad1bc",
   "metadata": {},
   "source": [
    "nombre_infected      1108\n",
    "nombre_sain          1641\n",
    "nombre_exposed        508\n",
    "nombre_recovered    16743\n",
    "Name: 670, dtype: int64"
   ]
  },
  {
   "cell_type": "markdown",
   "id": "7708da45",
   "metadata": {},
   "source": [
    "nombre_infected      1112\n",
    "nombre_sain          1650\n",
    "nombre_exposed        491\n",
    "nombre_recovered    16747\n",
    "Name: 671, dtype: int64"
   ]
  },
  {
   "cell_type": "markdown",
   "id": "0d64b8db",
   "metadata": {},
   "source": [
    "nombre_infected      1109\n",
    "nombre_sain          1632\n",
    "nombre_exposed        491\n",
    "nombre_recovered    16768\n",
    "Name: 672, dtype: int64"
   ]
  },
  {
   "cell_type": "markdown",
   "id": "cfc3b1b3",
   "metadata": {},
   "source": [
    "nombre_infected      1112\n",
    "nombre_sain          1652\n",
    "nombre_exposed        469\n",
    "nombre_recovered    16767\n",
    "Name: 673, dtype: int64"
   ]
  },
  {
   "cell_type": "markdown",
   "id": "f2f9bc54",
   "metadata": {},
   "source": [
    "nombre_infected      1096\n",
    "nombre_sain          1669\n",
    "nombre_exposed        469\n",
    "nombre_recovered    16766\n",
    "Name: 674, dtype: int64"
   ]
  },
  {
   "cell_type": "markdown",
   "id": "e18ef534",
   "metadata": {},
   "source": [
    "nombre_infected      1095\n",
    "nombre_sain          1684\n",
    "nombre_exposed        461\n",
    "nombre_recovered    16760\n",
    "Name: 675, dtype: int64"
   ]
  },
  {
   "cell_type": "markdown",
   "id": "d4773880",
   "metadata": {},
   "source": [
    "nombre_infected      1103\n",
    "nombre_sain          1703\n",
    "nombre_exposed        464\n",
    "nombre_recovered    16730\n",
    "Name: 676, dtype: int64"
   ]
  },
  {
   "cell_type": "markdown",
   "id": "92ed08ab",
   "metadata": {},
   "source": [
    "nombre_infected      1075\n",
    "nombre_sain          1686\n",
    "nombre_exposed        481\n",
    "nombre_recovered    16758\n",
    "Name: 677, dtype: int64"
   ]
  },
  {
   "cell_type": "markdown",
   "id": "40fe52f5",
   "metadata": {},
   "source": [
    "nombre_infected      1066\n",
    "nombre_sain          1711\n",
    "nombre_exposed        447\n",
    "nombre_recovered    16776\n",
    "Name: 678, dtype: int64"
   ]
  },
  {
   "cell_type": "markdown",
   "id": "004e4bb3",
   "metadata": {},
   "source": [
    "nombre_infected      1046\n",
    "nombre_sain          1696\n",
    "nombre_exposed        457\n",
    "nombre_recovered    16801\n",
    "Name: 679, dtype: int64"
   ]
  },
  {
   "cell_type": "markdown",
   "id": "52f1c37e",
   "metadata": {},
   "source": [
    "nombre_infected      1000\n",
    "nombre_sain          1700\n",
    "nombre_exposed        480\n",
    "nombre_recovered    16820\n",
    "Name: 680, dtype: int64"
   ]
  },
  {
   "cell_type": "markdown",
   "id": "bfea6df0",
   "metadata": {},
   "source": [
    "nombre_infected      1000\n",
    "nombre_sain          1730\n",
    "nombre_exposed        461\n",
    "nombre_recovered    16809\n",
    "Name: 681, dtype: int64"
   ]
  },
  {
   "cell_type": "markdown",
   "id": "6491a532",
   "metadata": {},
   "source": [
    "nombre_infected       992\n",
    "nombre_sain          1756\n",
    "nombre_exposed        429\n",
    "nombre_recovered    16823\n",
    "Name: 682, dtype: int64"
   ]
  },
  {
   "cell_type": "markdown",
   "id": "bb09a577",
   "metadata": {},
   "source": [
    "nombre_infected       987\n",
    "nombre_sain          1783\n",
    "nombre_exposed        412\n",
    "nombre_recovered    16818\n",
    "Name: 683, dtype: int64"
   ]
  },
  {
   "cell_type": "markdown",
   "id": "0e314873",
   "metadata": {},
   "source": [
    "nombre_infected       948\n",
    "nombre_sain          1800\n",
    "nombre_exposed        430\n",
    "nombre_recovered    16822\n",
    "Name: 684, dtype: int64"
   ]
  },
  {
   "cell_type": "markdown",
   "id": "596998b0",
   "metadata": {},
   "source": [
    "nombre_infected       941\n",
    "nombre_sain          1799\n",
    "nombre_exposed        437\n",
    "nombre_recovered    16823\n",
    "Name: 685, dtype: int64"
   ]
  },
  {
   "cell_type": "markdown",
   "id": "6d1be542",
   "metadata": {},
   "source": [
    "nombre_infected       943\n",
    "nombre_sain          1806\n",
    "nombre_exposed        435\n",
    "nombre_recovered    16816\n",
    "Name: 686, dtype: int64"
   ]
  },
  {
   "cell_type": "markdown",
   "id": "89869322",
   "metadata": {},
   "source": [
    "nombre_infected       929\n",
    "nombre_sain          1824\n",
    "nombre_exposed        434\n",
    "nombre_recovered    16813\n",
    "Name: 687, dtype: int64"
   ]
  },
  {
   "cell_type": "markdown",
   "id": "ae0b63b5",
   "metadata": {},
   "source": [
    "nombre_infected       962\n",
    "nombre_sain          1851\n",
    "nombre_exposed        409\n",
    "nombre_recovered    16778\n",
    "Name: 688, dtype: int64"
   ]
  },
  {
   "cell_type": "markdown",
   "id": "c00937c4",
   "metadata": {},
   "source": [
    "nombre_infected       945\n",
    "nombre_sain          1882\n",
    "nombre_exposed        406\n",
    "nombre_recovered    16767\n",
    "Name: 689, dtype: int64"
   ]
  },
  {
   "cell_type": "markdown",
   "id": "129e8ced",
   "metadata": {},
   "source": [
    "nombre_infected       936\n",
    "nombre_sain          1897\n",
    "nombre_exposed        414\n",
    "nombre_recovered    16753\n",
    "Name: 690, dtype: int64"
   ]
  },
  {
   "cell_type": "markdown",
   "id": "393c81a8",
   "metadata": {},
   "source": [
    "nombre_infected       934\n",
    "nombre_sain          1904\n",
    "nombre_exposed        437\n",
    "nombre_recovered    16725\n",
    "Name: 691, dtype: int64"
   ]
  },
  {
   "cell_type": "markdown",
   "id": "e900b8c2",
   "metadata": {},
   "source": [
    "nombre_infected       943\n",
    "nombre_sain          1923\n",
    "nombre_exposed        429\n",
    "nombre_recovered    16705\n",
    "Name: 692, dtype: int64"
   ]
  },
  {
   "cell_type": "markdown",
   "id": "b8d6fb3f",
   "metadata": {},
   "source": [
    "nombre_infected       937\n",
    "nombre_sain          1916\n",
    "nombre_exposed        413\n",
    "nombre_recovered    16734\n",
    "Name: 693, dtype: int64"
   ]
  },
  {
   "cell_type": "markdown",
   "id": "cc9a08ae",
   "metadata": {},
   "source": [
    "nombre_infected       933\n",
    "nombre_sain          1921\n",
    "nombre_exposed        435\n",
    "nombre_recovered    16711\n",
    "Name: 694, dtype: int64"
   ]
  },
  {
   "cell_type": "markdown",
   "id": "1ab26a32",
   "metadata": {},
   "source": [
    "nombre_infected       917\n",
    "nombre_sain          1911\n",
    "nombre_exposed        464\n",
    "nombre_recovered    16708\n",
    "Name: 695, dtype: int64"
   ]
  },
  {
   "cell_type": "markdown",
   "id": "5d47307b",
   "metadata": {},
   "source": [
    "nombre_infected       900\n",
    "nombre_sain          1897\n",
    "nombre_exposed        498\n",
    "nombre_recovered    16705\n",
    "Name: 696, dtype: int64"
   ]
  },
  {
   "cell_type": "markdown",
   "id": "5aebd3f9",
   "metadata": {},
   "source": [
    "nombre_infected       922\n",
    "nombre_sain          1894\n",
    "nombre_exposed        484\n",
    "nombre_recovered    16700\n",
    "Name: 697, dtype: int64"
   ]
  },
  {
   "cell_type": "markdown",
   "id": "7976a2ed",
   "metadata": {},
   "source": [
    "nombre_infected       918\n",
    "nombre_sain          1934\n",
    "nombre_exposed        465\n",
    "nombre_recovered    16683\n",
    "Name: 698, dtype: int64"
   ]
  },
  {
   "cell_type": "markdown",
   "id": "5ebd383f",
   "metadata": {},
   "source": [
    "nombre_infected       918\n",
    "nombre_sain          1939\n",
    "nombre_exposed        458\n",
    "nombre_recovered    16685\n",
    "Name: 699, dtype: int64"
   ]
  },
  {
   "cell_type": "markdown",
   "id": "33ce36cf",
   "metadata": {},
   "source": [
    "nombre_infected       914\n",
    "nombre_sain          1948\n",
    "nombre_exposed        470\n",
    "nombre_recovered    16668\n",
    "Name: 700, dtype: int64"
   ]
  },
  {
   "cell_type": "markdown",
   "id": "04bf6f2b",
   "metadata": {},
   "source": [
    "nombre_infected       895\n",
    "nombre_sain          1952\n",
    "nombre_exposed        472\n",
    "nombre_recovered    16681\n",
    "Name: 701, dtype: int64"
   ]
  },
  {
   "cell_type": "markdown",
   "id": "f03c1bd3",
   "metadata": {},
   "source": [
    "nombre_infected       898\n",
    "nombre_sain          2002\n",
    "nombre_exposed        450\n",
    "nombre_recovered    16650\n",
    "Name: 702, dtype: int64"
   ]
  },
  {
   "cell_type": "markdown",
   "id": "1cf66025",
   "metadata": {},
   "source": [
    "nombre_infected       903\n",
    "nombre_sain          2001\n",
    "nombre_exposed        451\n",
    "nombre_recovered    16645\n",
    "Name: 703, dtype: int64"
   ]
  },
  {
   "cell_type": "markdown",
   "id": "c2acdc15",
   "metadata": {},
   "source": [
    "nombre_infected       886\n",
    "nombre_sain          2003\n",
    "nombre_exposed        467\n",
    "nombre_recovered    16644\n",
    "Name: 704, dtype: int64"
   ]
  },
  {
   "cell_type": "markdown",
   "id": "ebaa6ba3",
   "metadata": {},
   "source": [
    "nombre_infected       891\n",
    "nombre_sain          1996\n",
    "nombre_exposed        471\n",
    "nombre_recovered    16642\n",
    "Name: 705, dtype: int64"
   ]
  },
  {
   "cell_type": "markdown",
   "id": "f3c5afa1",
   "metadata": {},
   "source": [
    "nombre_infected       894\n",
    "nombre_sain          1994\n",
    "nombre_exposed        470\n",
    "nombre_recovered    16642\n",
    "Name: 706, dtype: int64"
   ]
  },
  {
   "cell_type": "markdown",
   "id": "c52de5e7",
   "metadata": {},
   "source": [
    "nombre_infected       901\n",
    "nombre_sain          1991\n",
    "nombre_exposed        452\n",
    "nombre_recovered    16656\n",
    "Name: 707, dtype: int64"
   ]
  },
  {
   "cell_type": "markdown",
   "id": "0ec36956",
   "metadata": {},
   "source": [
    "nombre_infected       892\n",
    "nombre_sain          2014\n",
    "nombre_exposed        453\n",
    "nombre_recovered    16641\n",
    "Name: 708, dtype: int64"
   ]
  },
  {
   "cell_type": "markdown",
   "id": "cefaded3",
   "metadata": {},
   "source": [
    "nombre_infected       901\n",
    "nombre_sain          1997\n",
    "nombre_exposed        484\n",
    "nombre_recovered    16618\n",
    "Name: 709, dtype: int64"
   ]
  },
  {
   "cell_type": "markdown",
   "id": "22b86ca4",
   "metadata": {},
   "source": [
    "nombre_infected       877\n",
    "nombre_sain          2007\n",
    "nombre_exposed        495\n",
    "nombre_recovered    16621\n",
    "Name: 710, dtype: int64"
   ]
  },
  {
   "cell_type": "markdown",
   "id": "eba40c3d",
   "metadata": {},
   "source": [
    "nombre_infected       877\n",
    "nombre_sain          2008\n",
    "nombre_exposed        482\n",
    "nombre_recovered    16633\n",
    "Name: 711, dtype: int64"
   ]
  },
  {
   "cell_type": "markdown",
   "id": "72ee545f",
   "metadata": {},
   "source": [
    "nombre_infected       891\n",
    "nombre_sain          2030\n",
    "nombre_exposed        456\n",
    "nombre_recovered    16623\n",
    "Name: 712, dtype: int64"
   ]
  },
  {
   "cell_type": "markdown",
   "id": "b4b38f40",
   "metadata": {},
   "source": [
    "nombre_infected       874\n",
    "nombre_sain          2049\n",
    "nombre_exposed        438\n",
    "nombre_recovered    16639\n",
    "Name: 713, dtype: int64"
   ]
  },
  {
   "cell_type": "markdown",
   "id": "aef4ff3b",
   "metadata": {},
   "source": [
    "nombre_infected       884\n",
    "nombre_sain          2038\n",
    "nombre_exposed        424\n",
    "nombre_recovered    16654\n",
    "Name: 714, dtype: int64"
   ]
  },
  {
   "cell_type": "markdown",
   "id": "594b97de",
   "metadata": {},
   "source": [
    "nombre_infected       885\n",
    "nombre_sain          2024\n",
    "nombre_exposed        424\n",
    "nombre_recovered    16667\n",
    "Name: 715, dtype: int64"
   ]
  },
  {
   "cell_type": "markdown",
   "id": "aa27fb17",
   "metadata": {},
   "source": [
    "nombre_infected       890\n",
    "nombre_sain          2011\n",
    "nombre_exposed        436\n",
    "nombre_recovered    16663\n",
    "Name: 716, dtype: int64"
   ]
  },
  {
   "cell_type": "markdown",
   "id": "658f9e06",
   "metadata": {},
   "source": [
    "nombre_infected       885\n",
    "nombre_sain          2038\n",
    "nombre_exposed        432\n",
    "nombre_recovered    16645\n",
    "Name: 717, dtype: int64"
   ]
  },
  {
   "cell_type": "markdown",
   "id": "b6a8a76d",
   "metadata": {},
   "source": [
    "nombre_infected       873\n",
    "nombre_sain          2044\n",
    "nombre_exposed        425\n",
    "nombre_recovered    16658\n",
    "Name: 718, dtype: int64"
   ]
  },
  {
   "cell_type": "markdown",
   "id": "ddc5736a",
   "metadata": {},
   "source": [
    "nombre_infected       860\n",
    "nombre_sain          2038\n",
    "nombre_exposed        434\n",
    "nombre_recovered    16668\n",
    "Name: 719, dtype: int64"
   ]
  },
  {
   "cell_type": "markdown",
   "id": "c68d7091",
   "metadata": {},
   "source": [
    "nombre_infected       851\n",
    "nombre_sain          2030\n",
    "nombre_exposed        450\n",
    "nombre_recovered    16669\n",
    "Name: 720, dtype: int64"
   ]
  },
  {
   "cell_type": "markdown",
   "id": "cfb4d8cd",
   "metadata": {},
   "source": [
    "nombre_infected       847\n",
    "nombre_sain          2033\n",
    "nombre_exposed        454\n",
    "nombre_recovered    16666\n",
    "Name: 721, dtype: int64"
   ]
  },
  {
   "cell_type": "markdown",
   "id": "f2a970e4",
   "metadata": {},
   "source": [
    "nombre_infected       848\n",
    "nombre_sain          2029\n",
    "nombre_exposed        468\n",
    "nombre_recovered    16655\n",
    "Name: 722, dtype: int64"
   ]
  },
  {
   "cell_type": "markdown",
   "id": "4565b9b7",
   "metadata": {},
   "source": [
    "nombre_infected       864\n",
    "nombre_sain          2017\n",
    "nombre_exposed        464\n",
    "nombre_recovered    16655\n",
    "Name: 723, dtype: int64"
   ]
  },
  {
   "cell_type": "markdown",
   "id": "8f807bc7",
   "metadata": {},
   "source": [
    "nombre_infected       873\n",
    "nombre_sain          2010\n",
    "nombre_exposed        473\n",
    "nombre_recovered    16644\n",
    "Name: 724, dtype: int64"
   ]
  },
  {
   "cell_type": "markdown",
   "id": "25b4ecd2",
   "metadata": {},
   "source": [
    "nombre_infected       888\n",
    "nombre_sain          2032\n",
    "nombre_exposed        440\n",
    "nombre_recovered    16640\n",
    "Name: 725, dtype: int64"
   ]
  },
  {
   "cell_type": "markdown",
   "id": "3b65514b",
   "metadata": {},
   "source": [
    "nombre_infected       891\n",
    "nombre_sain          2026\n",
    "nombre_exposed        433\n",
    "nombre_recovered    16650\n",
    "Name: 726, dtype: int64"
   ]
  },
  {
   "cell_type": "markdown",
   "id": "a8545b16",
   "metadata": {},
   "source": [
    "nombre_infected       891\n",
    "nombre_sain          2024\n",
    "nombre_exposed        437\n",
    "nombre_recovered    16648\n",
    "Name: 727, dtype: int64"
   ]
  },
  {
   "cell_type": "markdown",
   "id": "e5e91df3",
   "metadata": {},
   "source": [
    "nombre_infected       898\n",
    "nombre_sain          2016\n",
    "nombre_exposed        437\n",
    "nombre_recovered    16649\n",
    "Name: 728, dtype: int64"
   ]
  },
  {
   "cell_type": "markdown",
   "id": "74703908",
   "metadata": {},
   "source": [
    "nombre_infected       910\n",
    "nombre_sain          2033\n",
    "nombre_exposed        421\n",
    "nombre_recovered    16636\n",
    "Name: 729, dtype: int64"
   ]
  },
  {
   "cell_type": "markdown",
   "id": "74f1b8b9",
   "metadata": {},
   "source": [
    "nombre_infected       905\n",
    "nombre_sain          2033\n",
    "nombre_exposed        438\n",
    "nombre_recovered    16624\n",
    "Name: 730, dtype: int64"
   ]
  }
 ],
 "metadata": {},
 "nbformat": 4,
 "nbformat_minor": 5
}
