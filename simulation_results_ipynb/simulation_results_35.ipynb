{
 "cells": [
  {
   "cell_type": "markdown",
   "id": "337de244",
   "metadata": {},
   "source": [
    "nombre_infected        20\n",
    "nombre_sain         19980\n",
    "nombre_exposed          0\n",
    "nombre_recovered        0\n",
    "Name: 0, dtype: int64"
   ]
  },
  {
   "cell_type": "markdown",
   "id": "6d1b327a",
   "metadata": {},
   "source": [
    "nombre_infected        20\n",
    "nombre_sain         19961\n",
    "nombre_exposed         19\n",
    "nombre_recovered        0\n",
    "Name: 1, dtype: int64"
   ]
  },
  {
   "cell_type": "markdown",
   "id": "5050cf7d",
   "metadata": {},
   "source": [
    "nombre_infected        20\n",
    "nombre_sain         19935\n",
    "nombre_exposed         45\n",
    "nombre_recovered        0\n",
    "Name: 2, dtype: int64"
   ]
  },
  {
   "cell_type": "markdown",
   "id": "5774877f",
   "metadata": {},
   "source": [
    "nombre_infected        22\n",
    "nombre_sain         19909\n",
    "nombre_exposed         69\n",
    "nombre_recovered        0\n",
    "Name: 3, dtype: int64"
   ]
  },
  {
   "cell_type": "markdown",
   "id": "67bd53b6",
   "metadata": {},
   "source": [
    "nombre_infected        35\n",
    "nombre_sain         19876\n",
    "nombre_exposed         89\n",
    "nombre_recovered        0\n",
    "Name: 4, dtype: int64"
   ]
  },
  {
   "cell_type": "markdown",
   "id": "88523661",
   "metadata": {},
   "source": [
    "nombre_infected        54\n",
    "nombre_sain         19821\n",
    "nombre_exposed        124\n",
    "nombre_recovered        1\n",
    "Name: 5, dtype: int64"
   ]
  },
  {
   "cell_type": "markdown",
   "id": "d5f54371",
   "metadata": {},
   "source": [
    "nombre_infected        67\n",
    "nombre_sain         19751\n",
    "nombre_exposed        178\n",
    "nombre_recovered        4\n",
    "Name: 6, dtype: int64"
   ]
  },
  {
   "cell_type": "markdown",
   "id": "460f8870",
   "metadata": {},
   "source": [
    "nombre_infected        96\n",
    "nombre_sain         19643\n",
    "nombre_exposed        250\n",
    "nombre_recovered       11\n",
    "Name: 7, dtype: int64"
   ]
  },
  {
   "cell_type": "markdown",
   "id": "13a6a8cc",
   "metadata": {},
   "source": [
    "nombre_infected       134\n",
    "nombre_sain         19494\n",
    "nombre_exposed        359\n",
    "nombre_recovered       13\n",
    "Name: 8, dtype: int64"
   ]
  },
  {
   "cell_type": "markdown",
   "id": "08dbb396",
   "metadata": {},
   "source": [
    "nombre_infected       177\n",
    "nombre_sain         19320\n",
    "nombre_exposed        478\n",
    "nombre_recovered       25\n",
    "Name: 9, dtype: int64"
   ]
  },
  {
   "cell_type": "markdown",
   "id": "d10df666",
   "metadata": {},
   "source": [
    "nombre_infected       249\n",
    "nombre_sain         19052\n",
    "nombre_exposed        661\n",
    "nombre_recovered       38\n",
    "Name: 10, dtype: int64"
   ]
  },
  {
   "cell_type": "markdown",
   "id": "730ecc1c",
   "metadata": {},
   "source": [
    "nombre_infected       326\n",
    "nombre_sain         18716\n",
    "nombre_exposed        898\n",
    "nombre_recovered       60\n",
    "Name: 11, dtype: int64"
   ]
  },
  {
   "cell_type": "markdown",
   "id": "e5a8153b",
   "metadata": {},
   "source": [
    "nombre_infected       432\n",
    "nombre_sain         18281\n",
    "nombre_exposed       1198\n",
    "nombre_recovered       89\n",
    "Name: 12, dtype: int64"
   ]
  },
  {
   "cell_type": "markdown",
   "id": "a1a71077",
   "metadata": {},
   "source": [
    "nombre_infected       610\n",
    "nombre_sain         17699\n",
    "nombre_exposed       1572\n",
    "nombre_recovered      119\n",
    "Name: 13, dtype: int64"
   ]
  },
  {
   "cell_type": "markdown",
   "id": "c7efaa44",
   "metadata": {},
   "source": [
    "nombre_infected       827\n",
    "nombre_sain         16971\n",
    "nombre_exposed       2031\n",
    "nombre_recovered      171\n",
    "Name: 14, dtype: int64"
   ]
  },
  {
   "cell_type": "markdown",
   "id": "4ff2c424",
   "metadata": {},
   "source": [
    "nombre_infected      1147\n",
    "nombre_sain         16008\n",
    "nombre_exposed       2608\n",
    "nombre_recovered      237\n",
    "Name: 15, dtype: int64"
   ]
  },
  {
   "cell_type": "markdown",
   "id": "cf9be2cc",
   "metadata": {},
   "source": [
    "nombre_infected      1488\n",
    "nombre_sain         14795\n",
    "nombre_exposed       3361\n",
    "nombre_recovered      356\n",
    "Name: 16, dtype: int64"
   ]
  },
  {
   "cell_type": "markdown",
   "id": "57095cdc",
   "metadata": {},
   "source": [
    "nombre_infected      1983\n",
    "nombre_sain         13384\n",
    "nombre_exposed       4156\n",
    "nombre_recovered      477\n",
    "Name: 17, dtype: int64"
   ]
  },
  {
   "cell_type": "markdown",
   "id": "39a1c1b8",
   "metadata": {},
   "source": [
    "nombre_infected      2560\n",
    "nombre_sain         11721\n",
    "nombre_exposed       5049\n",
    "nombre_recovered      670\n",
    "Name: 18, dtype: int64"
   ]
  },
  {
   "cell_type": "markdown",
   "id": "422a06ce",
   "metadata": {},
   "source": [
    "nombre_infected     3283\n",
    "nombre_sain         9935\n",
    "nombre_exposed      5869\n",
    "nombre_recovered     913\n",
    "Name: 19, dtype: int64"
   ]
  },
  {
   "cell_type": "markdown",
   "id": "0c22b0e0",
   "metadata": {},
   "source": [
    "nombre_infected     4154\n",
    "nombre_sain         8119\n",
    "nombre_exposed      6519\n",
    "nombre_recovered    1208\n",
    "Name: 20, dtype: int64"
   ]
  },
  {
   "cell_type": "markdown",
   "id": "59f1f54d",
   "metadata": {},
   "source": [
    "nombre_infected     5146\n",
    "nombre_sain         6417\n",
    "nombre_exposed      6875\n",
    "nombre_recovered    1562\n",
    "Name: 21, dtype: int64"
   ]
  },
  {
   "cell_type": "markdown",
   "id": "bb05706f",
   "metadata": {},
   "source": [
    "nombre_infected     6114\n",
    "nombre_sain         4864\n",
    "nombre_exposed      6967\n",
    "nombre_recovered    2055\n",
    "Name: 22, dtype: int64"
   ]
  },
  {
   "cell_type": "markdown",
   "id": "4ce3883c",
   "metadata": {},
   "source": [
    "nombre_infected     7136\n",
    "nombre_sain         3554\n",
    "nombre_exposed      6691\n",
    "nombre_recovered    2619\n",
    "Name: 23, dtype: int64"
   ]
  },
  {
   "cell_type": "markdown",
   "id": "dd484205",
   "metadata": {},
   "source": [
    "nombre_infected     8021\n",
    "nombre_sain         2494\n",
    "nombre_exposed      6168\n",
    "nombre_recovered    3317\n",
    "Name: 24, dtype: int64"
   ]
  },
  {
   "cell_type": "markdown",
   "id": "b37df12b",
   "metadata": {},
   "source": [
    "nombre_infected     8724\n",
    "nombre_sain         1687\n",
    "nombre_exposed      5438\n",
    "nombre_recovered    4151\n",
    "Name: 25, dtype: int64"
   ]
  },
  {
   "cell_type": "markdown",
   "id": "0e4ca7be",
   "metadata": {},
   "source": [
    "nombre_infected     9119\n",
    "nombre_sain         1138\n",
    "nombre_exposed      4676\n",
    "nombre_recovered    5067\n",
    "Name: 26, dtype: int64"
   ]
  },
  {
   "cell_type": "markdown",
   "id": "0fd33d14",
   "metadata": {},
   "source": [
    "nombre_infected     9371\n",
    "nombre_sain          744\n",
    "nombre_exposed      3870\n",
    "nombre_recovered    6015\n",
    "Name: 27, dtype: int64"
   ]
  },
  {
   "cell_type": "markdown",
   "id": "1a7595b8",
   "metadata": {},
   "source": [
    "nombre_infected     9319\n",
    "nombre_sain          538\n",
    "nombre_exposed      3076\n",
    "nombre_recovered    7067\n",
    "Name: 28, dtype: int64"
   ]
  },
  {
   "cell_type": "markdown",
   "id": "8354416b",
   "metadata": {},
   "source": [
    "nombre_infected     9084\n",
    "nombre_sain          370\n",
    "nombre_exposed      2390\n",
    "nombre_recovered    8156\n",
    "Name: 29, dtype: int64"
   ]
  },
  {
   "cell_type": "markdown",
   "id": "aef00f80",
   "metadata": {},
   "source": [
    "nombre_infected     8675\n",
    "nombre_sain          293\n",
    "nombre_exposed      1837\n",
    "nombre_recovered    9195\n",
    "Name: 30, dtype: int64"
   ]
  },
  {
   "cell_type": "markdown",
   "id": "cedb9288",
   "metadata": {},
   "source": [
    "nombre_infected      8109\n",
    "nombre_sain           253\n",
    "nombre_exposed       1396\n",
    "nombre_recovered    10242\n",
    "Name: 31, dtype: int64"
   ]
  },
  {
   "cell_type": "markdown",
   "id": "61d8f46d",
   "metadata": {},
   "source": [
    "nombre_infected      7531\n",
    "nombre_sain           226\n",
    "nombre_exposed       1052\n",
    "nombre_recovered    11191\n",
    "Name: 32, dtype: int64"
   ]
  },
  {
   "cell_type": "markdown",
   "id": "38dc622f",
   "metadata": {},
   "source": [
    "nombre_infected      6838\n",
    "nombre_sain           204\n",
    "nombre_exposed        835\n",
    "nombre_recovered    12123\n",
    "Name: 33, dtype: int64"
   ]
  },
  {
   "cell_type": "markdown",
   "id": "895e752e",
   "metadata": {},
   "source": [
    "nombre_infected      6227\n",
    "nombre_sain           215\n",
    "nombre_exposed        619\n",
    "nombre_recovered    12939\n",
    "Name: 34, dtype: int64"
   ]
  },
  {
   "cell_type": "markdown",
   "id": "df91ab37",
   "metadata": {},
   "source": [
    "nombre_infected      5565\n",
    "nombre_sain           220\n",
    "nombre_exposed        492\n",
    "nombre_recovered    13723\n",
    "Name: 35, dtype: int64"
   ]
  },
  {
   "cell_type": "markdown",
   "id": "23dc45c6",
   "metadata": {},
   "source": [
    "nombre_infected      4863\n",
    "nombre_sain           222\n",
    "nombre_exposed        419\n",
    "nombre_recovered    14496\n",
    "Name: 36, dtype: int64"
   ]
  },
  {
   "cell_type": "markdown",
   "id": "df264514",
   "metadata": {},
   "source": [
    "nombre_infected      4262\n",
    "nombre_sain           237\n",
    "nombre_exposed        359\n",
    "nombre_recovered    15142\n",
    "Name: 37, dtype: int64"
   ]
  },
  {
   "cell_type": "markdown",
   "id": "716e91de",
   "metadata": {},
   "source": [
    "nombre_infected      3740\n",
    "nombre_sain           263\n",
    "nombre_exposed        302\n",
    "nombre_recovered    15695\n",
    "Name: 38, dtype: int64"
   ]
  },
  {
   "cell_type": "markdown",
   "id": "990b3d4e",
   "metadata": {},
   "source": [
    "nombre_infected      3281\n",
    "nombre_sain           291\n",
    "nombre_exposed        252\n",
    "nombre_recovered    16176\n",
    "Name: 39, dtype: int64"
   ]
  },
  {
   "cell_type": "markdown",
   "id": "46b98a7c",
   "metadata": {},
   "source": [
    "nombre_infected      2847\n",
    "nombre_sain           325\n",
    "nombre_exposed        223\n",
    "nombre_recovered    16605\n",
    "Name: 40, dtype: int64"
   ]
  },
  {
   "cell_type": "markdown",
   "id": "0eceb4d2",
   "metadata": {},
   "source": [
    "nombre_infected      2504\n",
    "nombre_sain           327\n",
    "nombre_exposed        208\n",
    "nombre_recovered    16961\n",
    "Name: 41, dtype: int64"
   ]
  },
  {
   "cell_type": "markdown",
   "id": "658197fc",
   "metadata": {},
   "source": [
    "nombre_infected      2180\n",
    "nombre_sain           368\n",
    "nombre_exposed        212\n",
    "nombre_recovered    17240\n",
    "Name: 42, dtype: int64"
   ]
  },
  {
   "cell_type": "markdown",
   "id": "47e44033",
   "metadata": {},
   "source": [
    "nombre_infected      1847\n",
    "nombre_sain           392\n",
    "nombre_exposed        213\n",
    "nombre_recovered    17548\n",
    "Name: 43, dtype: int64"
   ]
  },
  {
   "cell_type": "markdown",
   "id": "d7504c8b",
   "metadata": {},
   "source": [
    "nombre_infected      1593\n",
    "nombre_sain           415\n",
    "nombre_exposed        207\n",
    "nombre_recovered    17785\n",
    "Name: 44, dtype: int64"
   ]
  },
  {
   "cell_type": "markdown",
   "id": "094f75a0",
   "metadata": {},
   "source": [
    "nombre_infected      1368\n",
    "nombre_sain           441\n",
    "nombre_exposed        196\n",
    "nombre_recovered    17995\n",
    "Name: 45, dtype: int64"
   ]
  },
  {
   "cell_type": "markdown",
   "id": "2b869375",
   "metadata": {},
   "source": [
    "nombre_infected      1189\n",
    "nombre_sain           490\n",
    "nombre_exposed        173\n",
    "nombre_recovered    18148\n",
    "Name: 46, dtype: int64"
   ]
  },
  {
   "cell_type": "markdown",
   "id": "09b16358",
   "metadata": {},
   "source": [
    "nombre_infected      1056\n",
    "nombre_sain           537\n",
    "nombre_exposed        154\n",
    "nombre_recovered    18253\n",
    "Name: 47, dtype: int64"
   ]
  },
  {
   "cell_type": "markdown",
   "id": "e5a91279",
   "metadata": {},
   "source": [
    "nombre_infected       955\n",
    "nombre_sain           593\n",
    "nombre_exposed        141\n",
    "nombre_recovered    18311\n",
    "Name: 48, dtype: int64"
   ]
  },
  {
   "cell_type": "markdown",
   "id": "e67b75d0",
   "metadata": {},
   "source": [
    "nombre_infected       846\n",
    "nombre_sain           636\n",
    "nombre_exposed        137\n",
    "nombre_recovered    18381\n",
    "Name: 49, dtype: int64"
   ]
  },
  {
   "cell_type": "markdown",
   "id": "219b5919",
   "metadata": {},
   "source": [
    "nombre_infected       770\n",
    "nombre_sain           688\n",
    "nombre_exposed        144\n",
    "nombre_recovered    18398\n",
    "Name: 50, dtype: int64"
   ]
  },
  {
   "cell_type": "markdown",
   "id": "b9d09af5",
   "metadata": {},
   "source": [
    "nombre_infected       691\n",
    "nombre_sain           736\n",
    "nombre_exposed        142\n",
    "nombre_recovered    18431\n",
    "Name: 51, dtype: int64"
   ]
  },
  {
   "cell_type": "markdown",
   "id": "eb8932ac",
   "metadata": {},
   "source": [
    "nombre_infected       630\n",
    "nombre_sain           794\n",
    "nombre_exposed        134\n",
    "nombre_recovered    18442\n",
    "Name: 52, dtype: int64"
   ]
  },
  {
   "cell_type": "markdown",
   "id": "5e8a1be5",
   "metadata": {},
   "source": [
    "nombre_infected       565\n",
    "nombre_sain           848\n",
    "nombre_exposed        126\n",
    "nombre_recovered    18461\n",
    "Name: 53, dtype: int64"
   ]
  },
  {
   "cell_type": "markdown",
   "id": "f3fefe79",
   "metadata": {},
   "source": [
    "nombre_infected       518\n",
    "nombre_sain           910\n",
    "nombre_exposed        124\n",
    "nombre_recovered    18448\n",
    "Name: 54, dtype: int64"
   ]
  },
  {
   "cell_type": "markdown",
   "id": "beb1ef2c",
   "metadata": {},
   "source": [
    "nombre_infected       483\n",
    "nombre_sain           975\n",
    "nombre_exposed        119\n",
    "nombre_recovered    18423\n",
    "Name: 55, dtype: int64"
   ]
  },
  {
   "cell_type": "markdown",
   "id": "c920977d",
   "metadata": {},
   "source": [
    "nombre_infected       446\n",
    "nombre_sain          1037\n",
    "nombre_exposed        119\n",
    "nombre_recovered    18398\n",
    "Name: 56, dtype: int64"
   ]
  },
  {
   "cell_type": "markdown",
   "id": "b9556ee5",
   "metadata": {},
   "source": [
    "nombre_infected       404\n",
    "nombre_sain          1091\n",
    "nombre_exposed        120\n",
    "nombre_recovered    18385\n",
    "Name: 57, dtype: int64"
   ]
  },
  {
   "cell_type": "markdown",
   "id": "40c6126b",
   "metadata": {},
   "source": [
    "nombre_infected       379\n",
    "nombre_sain          1170\n",
    "nombre_exposed        114\n",
    "nombre_recovered    18337\n",
    "Name: 58, dtype: int64"
   ]
  },
  {
   "cell_type": "markdown",
   "id": "a1d2a5f0",
   "metadata": {},
   "source": [
    "nombre_infected       361\n",
    "nombre_sain          1268\n",
    "nombre_exposed         93\n",
    "nombre_recovered    18278\n",
    "Name: 59, dtype: int64"
   ]
  },
  {
   "cell_type": "markdown",
   "id": "6f755fb4",
   "metadata": {},
   "source": [
    "nombre_infected       335\n",
    "nombre_sain          1324\n",
    "nombre_exposed         87\n",
    "nombre_recovered    18254\n",
    "Name: 60, dtype: int64"
   ]
  },
  {
   "cell_type": "markdown",
   "id": "8ee79bfe",
   "metadata": {},
   "source": [
    "nombre_infected       305\n",
    "nombre_sain          1403\n",
    "nombre_exposed         96\n",
    "nombre_recovered    18196\n",
    "Name: 61, dtype: int64"
   ]
  },
  {
   "cell_type": "markdown",
   "id": "19ee3368",
   "metadata": {},
   "source": [
    "nombre_infected       296\n",
    "nombre_sain          1458\n",
    "nombre_exposed        108\n",
    "nombre_recovered    18138\n",
    "Name: 62, dtype: int64"
   ]
  },
  {
   "cell_type": "markdown",
   "id": "f1a2c3a1",
   "metadata": {},
   "source": [
    "nombre_infected       281\n",
    "nombre_sain          1515\n",
    "nombre_exposed        115\n",
    "nombre_recovered    18089\n",
    "Name: 63, dtype: int64"
   ]
  },
  {
   "cell_type": "markdown",
   "id": "55c61066",
   "metadata": {},
   "source": [
    "nombre_infected       275\n",
    "nombre_sain          1587\n",
    "nombre_exposed        110\n",
    "nombre_recovered    18028\n",
    "Name: 64, dtype: int64"
   ]
  },
  {
   "cell_type": "markdown",
   "id": "3275cffd",
   "metadata": {},
   "source": [
    "nombre_infected       253\n",
    "nombre_sain          1670\n",
    "nombre_exposed        111\n",
    "nombre_recovered    17966\n",
    "Name: 65, dtype: int64"
   ]
  },
  {
   "cell_type": "markdown",
   "id": "51fe85a6",
   "metadata": {},
   "source": [
    "nombre_infected       247\n",
    "nombre_sain          1741\n",
    "nombre_exposed        104\n",
    "nombre_recovered    17908\n",
    "Name: 66, dtype: int64"
   ]
  },
  {
   "cell_type": "markdown",
   "id": "cd8883b4",
   "metadata": {},
   "source": [
    "nombre_infected       247\n",
    "nombre_sain          1807\n",
    "nombre_exposed        111\n",
    "nombre_recovered    17835\n",
    "Name: 67, dtype: int64"
   ]
  },
  {
   "cell_type": "markdown",
   "id": "a3da63f5",
   "metadata": {},
   "source": [
    "nombre_infected       242\n",
    "nombre_sain          1874\n",
    "nombre_exposed        113\n",
    "nombre_recovered    17771\n",
    "Name: 68, dtype: int64"
   ]
  },
  {
   "cell_type": "markdown",
   "id": "c3697a73",
   "metadata": {},
   "source": [
    "nombre_infected       230\n",
    "nombre_sain          1930\n",
    "nombre_exposed        123\n",
    "nombre_recovered    17717\n",
    "Name: 69, dtype: int64"
   ]
  },
  {
   "cell_type": "markdown",
   "id": "90a727c7",
   "metadata": {},
   "source": [
    "nombre_infected       228\n",
    "nombre_sain          1992\n",
    "nombre_exposed        107\n",
    "nombre_recovered    17673\n",
    "Name: 70, dtype: int64"
   ]
  },
  {
   "cell_type": "markdown",
   "id": "725d5020",
   "metadata": {},
   "source": [
    "nombre_infected       223\n",
    "nombre_sain          2045\n",
    "nombre_exposed        104\n",
    "nombre_recovered    17628\n",
    "Name: 71, dtype: int64"
   ]
  },
  {
   "cell_type": "markdown",
   "id": "4a524db0",
   "metadata": {},
   "source": [
    "nombre_infected       214\n",
    "nombre_sain          2101\n",
    "nombre_exposed        100\n",
    "nombre_recovered    17585\n",
    "Name: 72, dtype: int64"
   ]
  },
  {
   "cell_type": "markdown",
   "id": "25b381d7",
   "metadata": {},
   "source": [
    "nombre_infected       218\n",
    "nombre_sain          2143\n",
    "nombre_exposed         94\n",
    "nombre_recovered    17545\n",
    "Name: 73, dtype: int64"
   ]
  },
  {
   "cell_type": "markdown",
   "id": "cf7d5ce8",
   "metadata": {},
   "source": [
    "nombre_infected       207\n",
    "nombre_sain          2180\n",
    "nombre_exposed        103\n",
    "nombre_recovered    17510\n",
    "Name: 74, dtype: int64"
   ]
  },
  {
   "cell_type": "markdown",
   "id": "d9d9ac50",
   "metadata": {},
   "source": [
    "nombre_infected       197\n",
    "nombre_sain          2228\n",
    "nombre_exposed        111\n",
    "nombre_recovered    17464\n",
    "Name: 75, dtype: int64"
   ]
  },
  {
   "cell_type": "markdown",
   "id": "e1dce8db",
   "metadata": {},
   "source": [
    "nombre_infected       192\n",
    "nombre_sain          2275\n",
    "nombre_exposed        113\n",
    "nombre_recovered    17420\n",
    "Name: 76, dtype: int64"
   ]
  },
  {
   "cell_type": "markdown",
   "id": "3ccb79f0",
   "metadata": {},
   "source": [
    "nombre_infected       169\n",
    "nombre_sain          2333\n",
    "nombre_exposed        119\n",
    "nombre_recovered    17379\n",
    "Name: 77, dtype: int64"
   ]
  },
  {
   "cell_type": "markdown",
   "id": "9bb6969a",
   "metadata": {},
   "source": [
    "nombre_infected       178\n",
    "nombre_sain          2386\n",
    "nombre_exposed        115\n",
    "nombre_recovered    17321\n",
    "Name: 78, dtype: int64"
   ]
  },
  {
   "cell_type": "markdown",
   "id": "e97f05dc",
   "metadata": {},
   "source": [
    "nombre_infected       182\n",
    "nombre_sain          2418\n",
    "nombre_exposed        125\n",
    "nombre_recovered    17275\n",
    "Name: 79, dtype: int64"
   ]
  },
  {
   "cell_type": "markdown",
   "id": "13dd69c6",
   "metadata": {},
   "source": [
    "nombre_infected       175\n",
    "nombre_sain          2451\n",
    "nombre_exposed        128\n",
    "nombre_recovered    17246\n",
    "Name: 80, dtype: int64"
   ]
  },
  {
   "cell_type": "markdown",
   "id": "3205caf1",
   "metadata": {},
   "source": [
    "nombre_infected       192\n",
    "nombre_sain          2470\n",
    "nombre_exposed        126\n",
    "nombre_recovered    17212\n",
    "Name: 81, dtype: int64"
   ]
  },
  {
   "cell_type": "markdown",
   "id": "024b253d",
   "metadata": {},
   "source": [
    "nombre_infected       195\n",
    "nombre_sain          2492\n",
    "nombre_exposed        133\n",
    "nombre_recovered    17180\n",
    "Name: 82, dtype: int64"
   ]
  },
  {
   "cell_type": "markdown",
   "id": "4085128d",
   "metadata": {},
   "source": [
    "nombre_infected       204\n",
    "nombre_sain          2511\n",
    "nombre_exposed        134\n",
    "nombre_recovered    17151\n",
    "Name: 83, dtype: int64"
   ]
  },
  {
   "cell_type": "markdown",
   "id": "d2569fff",
   "metadata": {},
   "source": [
    "nombre_infected       207\n",
    "nombre_sain          2549\n",
    "nombre_exposed        148\n",
    "nombre_recovered    17096\n",
    "Name: 84, dtype: int64"
   ]
  },
  {
   "cell_type": "markdown",
   "id": "748d92a4",
   "metadata": {},
   "source": [
    "nombre_infected       199\n",
    "nombre_sain          2597\n",
    "nombre_exposed        146\n",
    "nombre_recovered    17058\n",
    "Name: 85, dtype: int64"
   ]
  },
  {
   "cell_type": "markdown",
   "id": "628e892f",
   "metadata": {},
   "source": [
    "nombre_infected       197\n",
    "nombre_sain          2623\n",
    "nombre_exposed        139\n",
    "nombre_recovered    17041\n",
    "Name: 86, dtype: int64"
   ]
  },
  {
   "cell_type": "markdown",
   "id": "1cef6ded",
   "metadata": {},
   "source": [
    "nombre_infected       209\n",
    "nombre_sain          2635\n",
    "nombre_exposed        131\n",
    "nombre_recovered    17025\n",
    "Name: 87, dtype: int64"
   ]
  },
  {
   "cell_type": "markdown",
   "id": "6c358fc3",
   "metadata": {},
   "source": [
    "nombre_infected       209\n",
    "nombre_sain          2663\n",
    "nombre_exposed        127\n",
    "nombre_recovered    17001\n",
    "Name: 88, dtype: int64"
   ]
  },
  {
   "cell_type": "markdown",
   "id": "4c6ad8d1",
   "metadata": {},
   "source": [
    "nombre_infected       216\n",
    "nombre_sain          2678\n",
    "nombre_exposed        128\n",
    "nombre_recovered    16978\n",
    "Name: 89, dtype: int64"
   ]
  },
  {
   "cell_type": "markdown",
   "id": "011042ac",
   "metadata": {},
   "source": [
    "nombre_infected       223\n",
    "nombre_sain          2690\n",
    "nombre_exposed        138\n",
    "nombre_recovered    16949\n",
    "Name: 90, dtype: int64"
   ]
  },
  {
   "cell_type": "markdown",
   "id": "14ccb86e",
   "metadata": {},
   "source": [
    "nombre_infected       215\n",
    "nombre_sain          2717\n",
    "nombre_exposed        150\n",
    "nombre_recovered    16918\n",
    "Name: 91, dtype: int64"
   ]
  },
  {
   "cell_type": "markdown",
   "id": "167b90d2",
   "metadata": {},
   "source": [
    "nombre_infected       207\n",
    "nombre_sain          2736\n",
    "nombre_exposed        159\n",
    "nombre_recovered    16898\n",
    "Name: 92, dtype: int64"
   ]
  },
  {
   "cell_type": "markdown",
   "id": "b84b034b",
   "metadata": {},
   "source": [
    "nombre_infected       207\n",
    "nombre_sain          2753\n",
    "nombre_exposed        157\n",
    "nombre_recovered    16883\n",
    "Name: 93, dtype: int64"
   ]
  },
  {
   "cell_type": "markdown",
   "id": "9c0ecce6",
   "metadata": {},
   "source": [
    "nombre_infected       220\n",
    "nombre_sain          2768\n",
    "nombre_exposed        165\n",
    "nombre_recovered    16847\n",
    "Name: 94, dtype: int64"
   ]
  },
  {
   "cell_type": "markdown",
   "id": "bb3dd2a3",
   "metadata": {},
   "source": [
    "nombre_infected       239\n",
    "nombre_sain          2775\n",
    "nombre_exposed        164\n",
    "nombre_recovered    16822\n",
    "Name: 95, dtype: int64"
   ]
  },
  {
   "cell_type": "markdown",
   "id": "38d27c6c",
   "metadata": {},
   "source": [
    "nombre_infected       254\n",
    "nombre_sain          2768\n",
    "nombre_exposed        174\n",
    "nombre_recovered    16804\n",
    "Name: 96, dtype: int64"
   ]
  },
  {
   "cell_type": "markdown",
   "id": "0ebcef0f",
   "metadata": {},
   "source": [
    "nombre_infected       269\n",
    "nombre_sain          2788\n",
    "nombre_exposed        177\n",
    "nombre_recovered    16766\n",
    "Name: 97, dtype: int64"
   ]
  },
  {
   "cell_type": "markdown",
   "id": "37d18e63",
   "metadata": {},
   "source": [
    "nombre_infected       271\n",
    "nombre_sain          2800\n",
    "nombre_exposed        183\n",
    "nombre_recovered    16746\n",
    "Name: 98, dtype: int64"
   ]
  },
  {
   "cell_type": "markdown",
   "id": "c06bac0c",
   "metadata": {},
   "source": [
    "nombre_infected       276\n",
    "nombre_sain          2799\n",
    "nombre_exposed        197\n",
    "nombre_recovered    16728\n",
    "Name: 99, dtype: int64"
   ]
  },
  {
   "cell_type": "markdown",
   "id": "76a76920",
   "metadata": {},
   "source": [
    "nombre_infected       293\n",
    "nombre_sain          2809\n",
    "nombre_exposed        190\n",
    "nombre_recovered    16708\n",
    "Name: 100, dtype: int64"
   ]
  },
  {
   "cell_type": "markdown",
   "id": "5801b945",
   "metadata": {},
   "source": [
    "nombre_infected       305\n",
    "nombre_sain          2803\n",
    "nombre_exposed        195\n",
    "nombre_recovered    16697\n",
    "Name: 101, dtype: int64"
   ]
  },
  {
   "cell_type": "markdown",
   "id": "a7980f27",
   "metadata": {},
   "source": [
    "nombre_infected       311\n",
    "nombre_sain          2790\n",
    "nombre_exposed        214\n",
    "nombre_recovered    16685\n",
    "Name: 102, dtype: int64"
   ]
  },
  {
   "cell_type": "markdown",
   "id": "0b5a6027",
   "metadata": {},
   "source": [
    "nombre_infected       312\n",
    "nombre_sain          2809\n",
    "nombre_exposed        224\n",
    "nombre_recovered    16655\n",
    "Name: 103, dtype: int64"
   ]
  },
  {
   "cell_type": "markdown",
   "id": "6d8f75bf",
   "metadata": {},
   "source": [
    "nombre_infected       343\n",
    "nombre_sain          2811\n",
    "nombre_exposed        211\n",
    "nombre_recovered    16635\n",
    "Name: 104, dtype: int64"
   ]
  },
  {
   "cell_type": "markdown",
   "id": "0d212ece",
   "metadata": {},
   "source": [
    "nombre_infected       356\n",
    "nombre_sain          2806\n",
    "nombre_exposed        217\n",
    "nombre_recovered    16621\n",
    "Name: 105, dtype: int64"
   ]
  },
  {
   "cell_type": "markdown",
   "id": "171a86e0",
   "metadata": {},
   "source": [
    "nombre_infected       359\n",
    "nombre_sain          2808\n",
    "nombre_exposed        230\n",
    "nombre_recovered    16603\n",
    "Name: 106, dtype: int64"
   ]
  },
  {
   "cell_type": "markdown",
   "id": "2d60e511",
   "metadata": {},
   "source": [
    "nombre_infected       353\n",
    "nombre_sain          2818\n",
    "nombre_exposed        232\n",
    "nombre_recovered    16597\n",
    "Name: 107, dtype: int64"
   ]
  },
  {
   "cell_type": "markdown",
   "id": "0e535147",
   "metadata": {},
   "source": [
    "nombre_infected       356\n",
    "nombre_sain          2816\n",
    "nombre_exposed        237\n",
    "nombre_recovered    16591\n",
    "Name: 108, dtype: int64"
   ]
  },
  {
   "cell_type": "markdown",
   "id": "49321e73",
   "metadata": {},
   "source": [
    "nombre_infected       364\n",
    "nombre_sain          2812\n",
    "nombre_exposed        255\n",
    "nombre_recovered    16569\n",
    "Name: 109, dtype: int64"
   ]
  },
  {
   "cell_type": "markdown",
   "id": "a29c3ff9",
   "metadata": {},
   "source": [
    "nombre_infected       381\n",
    "nombre_sain          2816\n",
    "nombre_exposed        252\n",
    "nombre_recovered    16551\n",
    "Name: 110, dtype: int64"
   ]
  },
  {
   "cell_type": "markdown",
   "id": "67e84807",
   "metadata": {},
   "source": [
    "nombre_infected       381\n",
    "nombre_sain          2846\n",
    "nombre_exposed        236\n",
    "nombre_recovered    16537\n",
    "Name: 111, dtype: int64"
   ]
  },
  {
   "cell_type": "markdown",
   "id": "3f768755",
   "metadata": {},
   "source": [
    "nombre_infected       395\n",
    "nombre_sain          2835\n",
    "nombre_exposed        243\n",
    "nombre_recovered    16527\n",
    "Name: 112, dtype: int64"
   ]
  },
  {
   "cell_type": "markdown",
   "id": "55ee27cb",
   "metadata": {},
   "source": [
    "nombre_infected       409\n",
    "nombre_sain          2830\n",
    "nombre_exposed        260\n",
    "nombre_recovered    16501\n",
    "Name: 113, dtype: int64"
   ]
  },
  {
   "cell_type": "markdown",
   "id": "4f9a8505",
   "metadata": {},
   "source": [
    "nombre_infected       420\n",
    "nombre_sain          2833\n",
    "nombre_exposed        247\n",
    "nombre_recovered    16500\n",
    "Name: 114, dtype: int64"
   ]
  },
  {
   "cell_type": "markdown",
   "id": "ece3ebed",
   "metadata": {},
   "source": [
    "nombre_infected       420\n",
    "nombre_sain          2817\n",
    "nombre_exposed        279\n",
    "nombre_recovered    16484\n",
    "Name: 115, dtype: int64"
   ]
  },
  {
   "cell_type": "markdown",
   "id": "c304ca55",
   "metadata": {},
   "source": [
    "nombre_infected       427\n",
    "nombre_sain          2812\n",
    "nombre_exposed        291\n",
    "nombre_recovered    16470\n",
    "Name: 116, dtype: int64"
   ]
  },
  {
   "cell_type": "markdown",
   "id": "e623d105",
   "metadata": {},
   "source": [
    "nombre_infected       439\n",
    "nombre_sain          2795\n",
    "nombre_exposed        292\n",
    "nombre_recovered    16474\n",
    "Name: 117, dtype: int64"
   ]
  },
  {
   "cell_type": "markdown",
   "id": "b1c1c776",
   "metadata": {},
   "source": [
    "nombre_infected       452\n",
    "nombre_sain          2775\n",
    "nombre_exposed        297\n",
    "nombre_recovered    16476\n",
    "Name: 118, dtype: int64"
   ]
  },
  {
   "cell_type": "markdown",
   "id": "b33f04e9",
   "metadata": {},
   "source": [
    "nombre_infected       473\n",
    "nombre_sain          2770\n",
    "nombre_exposed        283\n",
    "nombre_recovered    16474\n",
    "Name: 119, dtype: int64"
   ]
  },
  {
   "cell_type": "markdown",
   "id": "4b56301d",
   "metadata": {},
   "source": [
    "nombre_infected       486\n",
    "nombre_sain          2726\n",
    "nombre_exposed        310\n",
    "nombre_recovered    16478\n",
    "Name: 120, dtype: int64"
   ]
  },
  {
   "cell_type": "markdown",
   "id": "14acec28",
   "metadata": {},
   "source": [
    "nombre_infected       488\n",
    "nombre_sain          2704\n",
    "nombre_exposed        317\n",
    "nombre_recovered    16491\n",
    "Name: 121, dtype: int64"
   ]
  },
  {
   "cell_type": "markdown",
   "id": "ef723989",
   "metadata": {},
   "source": [
    "nombre_infected       487\n",
    "nombre_sain          2692\n",
    "nombre_exposed        338\n",
    "nombre_recovered    16483\n",
    "Name: 122, dtype: int64"
   ]
  },
  {
   "cell_type": "markdown",
   "id": "a08f9473",
   "metadata": {},
   "source": [
    "nombre_infected       517\n",
    "nombre_sain          2670\n",
    "nombre_exposed        342\n",
    "nombre_recovered    16471\n",
    "Name: 123, dtype: int64"
   ]
  },
  {
   "cell_type": "markdown",
   "id": "c3542568",
   "metadata": {},
   "source": [
    "nombre_infected       528\n",
    "nombre_sain          2620\n",
    "nombre_exposed        366\n",
    "nombre_recovered    16486\n",
    "Name: 124, dtype: int64"
   ]
  },
  {
   "cell_type": "markdown",
   "id": "21c6bfc3",
   "metadata": {},
   "source": [
    "nombre_infected       566\n",
    "nombre_sain          2604\n",
    "nombre_exposed        376\n",
    "nombre_recovered    16454\n",
    "Name: 125, dtype: int64"
   ]
  },
  {
   "cell_type": "markdown",
   "id": "7332cb4d",
   "metadata": {},
   "source": [
    "nombre_infected       585\n",
    "nombre_sain          2588\n",
    "nombre_exposed        395\n",
    "nombre_recovered    16432\n",
    "Name: 126, dtype: int64"
   ]
  },
  {
   "cell_type": "markdown",
   "id": "c9cfda0f",
   "metadata": {},
   "source": [
    "nombre_infected       607\n",
    "nombre_sain          2554\n",
    "nombre_exposed        395\n",
    "nombre_recovered    16444\n",
    "Name: 127, dtype: int64"
   ]
  },
  {
   "cell_type": "markdown",
   "id": "102b70c0",
   "metadata": {},
   "source": [
    "nombre_infected       626\n",
    "nombre_sain          2529\n",
    "nombre_exposed        390\n",
    "nombre_recovered    16455\n",
    "Name: 128, dtype: int64"
   ]
  },
  {
   "cell_type": "markdown",
   "id": "01a64664",
   "metadata": {},
   "source": [
    "nombre_infected       635\n",
    "nombre_sain          2520\n",
    "nombre_exposed        388\n",
    "nombre_recovered    16457\n",
    "Name: 129, dtype: int64"
   ]
  },
  {
   "cell_type": "markdown",
   "id": "bdb3e46b",
   "metadata": {},
   "source": [
    "nombre_infected       637\n",
    "nombre_sain          2512\n",
    "nombre_exposed        399\n",
    "nombre_recovered    16452\n",
    "Name: 130, dtype: int64"
   ]
  },
  {
   "cell_type": "markdown",
   "id": "29ebdb55",
   "metadata": {},
   "source": [
    "nombre_infected       659\n",
    "nombre_sain          2483\n",
    "nombre_exposed        409\n",
    "nombre_recovered    16449\n",
    "Name: 131, dtype: int64"
   ]
  },
  {
   "cell_type": "markdown",
   "id": "8c4cb783",
   "metadata": {},
   "source": [
    "nombre_infected       658\n",
    "nombre_sain          2474\n",
    "nombre_exposed        415\n",
    "nombre_recovered    16453\n",
    "Name: 132, dtype: int64"
   ]
  },
  {
   "cell_type": "markdown",
   "id": "2b7d8720",
   "metadata": {},
   "source": [
    "nombre_infected       683\n",
    "nombre_sain          2464\n",
    "nombre_exposed        409\n",
    "nombre_recovered    16444\n",
    "Name: 133, dtype: int64"
   ]
  },
  {
   "cell_type": "markdown",
   "id": "8f893e2e",
   "metadata": {},
   "source": [
    "nombre_infected       693\n",
    "nombre_sain          2451\n",
    "nombre_exposed        429\n",
    "nombre_recovered    16427\n",
    "Name: 134, dtype: int64"
   ]
  },
  {
   "cell_type": "markdown",
   "id": "dc619187",
   "metadata": {},
   "source": [
    "nombre_infected       700\n",
    "nombre_sain          2442\n",
    "nombre_exposed        426\n",
    "nombre_recovered    16432\n",
    "Name: 135, dtype: int64"
   ]
  },
  {
   "cell_type": "markdown",
   "id": "86bbfeac",
   "metadata": {},
   "source": [
    "nombre_infected       705\n",
    "nombre_sain          2447\n",
    "nombre_exposed        425\n",
    "nombre_recovered    16423\n",
    "Name: 136, dtype: int64"
   ]
  },
  {
   "cell_type": "markdown",
   "id": "ae09d370",
   "metadata": {},
   "source": [
    "nombre_infected       709\n",
    "nombre_sain          2427\n",
    "nombre_exposed        447\n",
    "nombre_recovered    16417\n",
    "Name: 137, dtype: int64"
   ]
  },
  {
   "cell_type": "markdown",
   "id": "f77c8a84",
   "metadata": {},
   "source": [
    "nombre_infected       729\n",
    "nombre_sain          2453\n",
    "nombre_exposed        416\n",
    "nombre_recovered    16402\n",
    "Name: 138, dtype: int64"
   ]
  },
  {
   "cell_type": "markdown",
   "id": "2cc4a9d3",
   "metadata": {},
   "source": [
    "nombre_infected       736\n",
    "nombre_sain          2443\n",
    "nombre_exposed        422\n",
    "nombre_recovered    16399\n",
    "Name: 139, dtype: int64"
   ]
  },
  {
   "cell_type": "markdown",
   "id": "bf9d5cb4",
   "metadata": {},
   "source": [
    "nombre_infected       727\n",
    "nombre_sain          2447\n",
    "nombre_exposed        433\n",
    "nombre_recovered    16393\n",
    "Name: 140, dtype: int64"
   ]
  },
  {
   "cell_type": "markdown",
   "id": "abcec896",
   "metadata": {},
   "source": [
    "nombre_infected       733\n",
    "nombre_sain          2458\n",
    "nombre_exposed        431\n",
    "nombre_recovered    16378\n",
    "Name: 141, dtype: int64"
   ]
  },
  {
   "cell_type": "markdown",
   "id": "11a0dd66",
   "metadata": {},
   "source": [
    "nombre_infected       747\n",
    "nombre_sain          2445\n",
    "nombre_exposed        427\n",
    "nombre_recovered    16381\n",
    "Name: 142, dtype: int64"
   ]
  },
  {
   "cell_type": "markdown",
   "id": "c626e524",
   "metadata": {},
   "source": [
    "nombre_infected       744\n",
    "nombre_sain          2433\n",
    "nombre_exposed        436\n",
    "nombre_recovered    16387\n",
    "Name: 143, dtype: int64"
   ]
  },
  {
   "cell_type": "markdown",
   "id": "71deb6dc",
   "metadata": {},
   "source": [
    "nombre_infected       750\n",
    "nombre_sain          2427\n",
    "nombre_exposed        451\n",
    "nombre_recovered    16372\n",
    "Name: 144, dtype: int64"
   ]
  },
  {
   "cell_type": "markdown",
   "id": "d1ce822d",
   "metadata": {},
   "source": [
    "nombre_infected       748\n",
    "nombre_sain          2418\n",
    "nombre_exposed        467\n",
    "nombre_recovered    16367\n",
    "Name: 145, dtype: int64"
   ]
  },
  {
   "cell_type": "markdown",
   "id": "23160bff",
   "metadata": {},
   "source": [
    "nombre_infected       766\n",
    "nombre_sain          2396\n",
    "nombre_exposed        462\n",
    "nombre_recovered    16376\n",
    "Name: 146, dtype: int64"
   ]
  },
  {
   "cell_type": "markdown",
   "id": "d0b18d91",
   "metadata": {},
   "source": [
    "nombre_infected       780\n",
    "nombre_sain          2374\n",
    "nombre_exposed        463\n",
    "nombre_recovered    16383\n",
    "Name: 147, dtype: int64"
   ]
  },
  {
   "cell_type": "markdown",
   "id": "8ed05e3c",
   "metadata": {},
   "source": [
    "nombre_infected       796\n",
    "nombre_sain          2351\n",
    "nombre_exposed        472\n",
    "nombre_recovered    16381\n",
    "Name: 148, dtype: int64"
   ]
  },
  {
   "cell_type": "markdown",
   "id": "b1d7fccc",
   "metadata": {},
   "source": [
    "nombre_infected       787\n",
    "nombre_sain          2340\n",
    "nombre_exposed        483\n",
    "nombre_recovered    16390\n",
    "Name: 149, dtype: int64"
   ]
  },
  {
   "cell_type": "markdown",
   "id": "f74384af",
   "metadata": {},
   "source": [
    "nombre_infected       797\n",
    "nombre_sain          2324\n",
    "nombre_exposed        483\n",
    "nombre_recovered    16396\n",
    "Name: 150, dtype: int64"
   ]
  },
  {
   "cell_type": "markdown",
   "id": "83383f45",
   "metadata": {},
   "source": [
    "nombre_infected       789\n",
    "nombre_sain          2310\n",
    "nombre_exposed        513\n",
    "nombre_recovered    16388\n",
    "Name: 151, dtype: int64"
   ]
  },
  {
   "cell_type": "markdown",
   "id": "939d900e",
   "metadata": {},
   "source": [
    "nombre_infected       790\n",
    "nombre_sain          2326\n",
    "nombre_exposed        493\n",
    "nombre_recovered    16391\n",
    "Name: 152, dtype: int64"
   ]
  },
  {
   "cell_type": "markdown",
   "id": "c9847676",
   "metadata": {},
   "source": [
    "nombre_infected       788\n",
    "nombre_sain          2340\n",
    "nombre_exposed        478\n",
    "nombre_recovered    16394\n",
    "Name: 153, dtype: int64"
   ]
  },
  {
   "cell_type": "markdown",
   "id": "42408f03",
   "metadata": {},
   "source": [
    "nombre_infected       793\n",
    "nombre_sain          2297\n",
    "nombre_exposed        488\n",
    "nombre_recovered    16422\n",
    "Name: 154, dtype: int64"
   ]
  },
  {
   "cell_type": "markdown",
   "id": "dfa40843",
   "metadata": {},
   "source": [
    "nombre_infected       820\n",
    "nombre_sain          2289\n",
    "nombre_exposed        465\n",
    "nombre_recovered    16426\n",
    "Name: 155, dtype: int64"
   ]
  },
  {
   "cell_type": "markdown",
   "id": "955ae4f8",
   "metadata": {},
   "source": [
    "nombre_infected       822\n",
    "nombre_sain          2270\n",
    "nombre_exposed        481\n",
    "nombre_recovered    16427\n",
    "Name: 156, dtype: int64"
   ]
  },
  {
   "cell_type": "markdown",
   "id": "dfd8c67e",
   "metadata": {},
   "source": [
    "nombre_infected       839\n",
    "nombre_sain          2258\n",
    "nombre_exposed        476\n",
    "nombre_recovered    16427\n",
    "Name: 157, dtype: int64"
   ]
  },
  {
   "cell_type": "markdown",
   "id": "7c5a6685",
   "metadata": {},
   "source": [
    "nombre_infected       859\n",
    "nombre_sain          2249\n",
    "nombre_exposed        469\n",
    "nombre_recovered    16423\n",
    "Name: 158, dtype: int64"
   ]
  },
  {
   "cell_type": "markdown",
   "id": "d4ec8a14",
   "metadata": {},
   "source": [
    "nombre_infected       860\n",
    "nombre_sain          2235\n",
    "nombre_exposed        458\n",
    "nombre_recovered    16447\n",
    "Name: 159, dtype: int64"
   ]
  },
  {
   "cell_type": "markdown",
   "id": "87815cd8",
   "metadata": {},
   "source": [
    "nombre_infected       878\n",
    "nombre_sain          2210\n",
    "nombre_exposed        461\n",
    "nombre_recovered    16451\n",
    "Name: 160, dtype: int64"
   ]
  },
  {
   "cell_type": "markdown",
   "id": "23cfaa65",
   "metadata": {},
   "source": [
    "nombre_infected       915\n",
    "nombre_sain          2184\n",
    "nombre_exposed        446\n",
    "nombre_recovered    16455\n",
    "Name: 161, dtype: int64"
   ]
  },
  {
   "cell_type": "markdown",
   "id": "1ac6a655",
   "metadata": {},
   "source": [
    "nombre_infected       915\n",
    "nombre_sain          2165\n",
    "nombre_exposed        467\n",
    "nombre_recovered    16453\n",
    "Name: 162, dtype: int64"
   ]
  },
  {
   "cell_type": "markdown",
   "id": "03a41c94",
   "metadata": {},
   "source": [
    "nombre_infected       916\n",
    "nombre_sain          2159\n",
    "nombre_exposed        449\n",
    "nombre_recovered    16476\n",
    "Name: 163, dtype: int64"
   ]
  },
  {
   "cell_type": "markdown",
   "id": "cbef5224",
   "metadata": {},
   "source": [
    "nombre_infected       918\n",
    "nombre_sain          2157\n",
    "nombre_exposed        431\n",
    "nombre_recovered    16494\n",
    "Name: 164, dtype: int64"
   ]
  },
  {
   "cell_type": "markdown",
   "id": "ba45590e",
   "metadata": {},
   "source": [
    "nombre_infected       881\n",
    "nombre_sain          2151\n",
    "nombre_exposed        433\n",
    "nombre_recovered    16535\n",
    "Name: 165, dtype: int64"
   ]
  },
  {
   "cell_type": "markdown",
   "id": "b9dc9362",
   "metadata": {},
   "source": [
    "nombre_infected       895\n",
    "nombre_sain          2157\n",
    "nombre_exposed        429\n",
    "nombre_recovered    16519\n",
    "Name: 166, dtype: int64"
   ]
  },
  {
   "cell_type": "markdown",
   "id": "bc7b375a",
   "metadata": {},
   "source": [
    "nombre_infected       888\n",
    "nombre_sain          2145\n",
    "nombre_exposed        421\n",
    "nombre_recovered    16546\n",
    "Name: 167, dtype: int64"
   ]
  },
  {
   "cell_type": "markdown",
   "id": "ceab3ad8",
   "metadata": {},
   "source": [
    "nombre_infected       859\n",
    "nombre_sain          2147\n",
    "nombre_exposed        462\n",
    "nombre_recovered    16532\n",
    "Name: 168, dtype: int64"
   ]
  },
  {
   "cell_type": "markdown",
   "id": "62d67c66",
   "metadata": {},
   "source": [
    "nombre_infected       865\n",
    "nombre_sain          2147\n",
    "nombre_exposed        474\n",
    "nombre_recovered    16514\n",
    "Name: 169, dtype: int64"
   ]
  },
  {
   "cell_type": "markdown",
   "id": "583fa0ed",
   "metadata": {},
   "source": [
    "nombre_infected       868\n",
    "nombre_sain          2146\n",
    "nombre_exposed        478\n",
    "nombre_recovered    16508\n",
    "Name: 170, dtype: int64"
   ]
  },
  {
   "cell_type": "markdown",
   "id": "1fbf71dc",
   "metadata": {},
   "source": [
    "nombre_infected       887\n",
    "nombre_sain          2141\n",
    "nombre_exposed        474\n",
    "nombre_recovered    16498\n",
    "Name: 171, dtype: int64"
   ]
  },
  {
   "cell_type": "markdown",
   "id": "ca012d12",
   "metadata": {},
   "source": [
    "nombre_infected       899\n",
    "nombre_sain          2151\n",
    "nombre_exposed        445\n",
    "nombre_recovered    16505\n",
    "Name: 172, dtype: int64"
   ]
  },
  {
   "cell_type": "markdown",
   "id": "25c0c19d",
   "metadata": {},
   "source": [
    "nombre_infected       884\n",
    "nombre_sain          2182\n",
    "nombre_exposed        426\n",
    "nombre_recovered    16508\n",
    "Name: 173, dtype: int64"
   ]
  },
  {
   "cell_type": "markdown",
   "id": "ef66b493",
   "metadata": {},
   "source": [
    "nombre_infected       894\n",
    "nombre_sain          2171\n",
    "nombre_exposed        415\n",
    "nombre_recovered    16520\n",
    "Name: 174, dtype: int64"
   ]
  },
  {
   "cell_type": "markdown",
   "id": "e2b75baf",
   "metadata": {},
   "source": [
    "nombre_infected       866\n",
    "nombre_sain          2169\n",
    "nombre_exposed        437\n",
    "nombre_recovered    16528\n",
    "Name: 175, dtype: int64"
   ]
  },
  {
   "cell_type": "markdown",
   "id": "92d104da",
   "metadata": {},
   "source": [
    "nombre_infected       859\n",
    "nombre_sain          2142\n",
    "nombre_exposed        452\n",
    "nombre_recovered    16547\n",
    "Name: 176, dtype: int64"
   ]
  },
  {
   "cell_type": "markdown",
   "id": "bbfb3328",
   "metadata": {},
   "source": [
    "nombre_infected       866\n",
    "nombre_sain          2150\n",
    "nombre_exposed        444\n",
    "nombre_recovered    16540\n",
    "Name: 177, dtype: int64"
   ]
  },
  {
   "cell_type": "markdown",
   "id": "a9611277",
   "metadata": {},
   "source": [
    "nombre_infected       865\n",
    "nombre_sain          2146\n",
    "nombre_exposed        441\n",
    "nombre_recovered    16548\n",
    "Name: 178, dtype: int64"
   ]
  },
  {
   "cell_type": "markdown",
   "id": "a7086259",
   "metadata": {},
   "source": [
    "nombre_infected       882\n",
    "nombre_sain          2146\n",
    "nombre_exposed        439\n",
    "nombre_recovered    16533\n",
    "Name: 179, dtype: int64"
   ]
  },
  {
   "cell_type": "markdown",
   "id": "9c2e50b7",
   "metadata": {},
   "source": [
    "nombre_infected       894\n",
    "nombre_sain          2143\n",
    "nombre_exposed        440\n",
    "nombre_recovered    16523\n",
    "Name: 180, dtype: int64"
   ]
  },
  {
   "cell_type": "markdown",
   "id": "03cd8a6b",
   "metadata": {},
   "source": [
    "nombre_infected       903\n",
    "nombre_sain          2134\n",
    "nombre_exposed        430\n",
    "nombre_recovered    16533\n",
    "Name: 181, dtype: int64"
   ]
  },
  {
   "cell_type": "markdown",
   "id": "afdc482e",
   "metadata": {},
   "source": [
    "nombre_infected       895\n",
    "nombre_sain          2127\n",
    "nombre_exposed        426\n",
    "nombre_recovered    16552\n",
    "Name: 182, dtype: int64"
   ]
  },
  {
   "cell_type": "markdown",
   "id": "34bd0f16",
   "metadata": {},
   "source": [
    "nombre_infected       873\n",
    "nombre_sain          2127\n",
    "nombre_exposed        441\n",
    "nombre_recovered    16559\n",
    "Name: 183, dtype: int64"
   ]
  },
  {
   "cell_type": "markdown",
   "id": "308795fd",
   "metadata": {},
   "source": [
    "nombre_infected       869\n",
    "nombre_sain          2112\n",
    "nombre_exposed        455\n",
    "nombre_recovered    16564\n",
    "Name: 184, dtype: int64"
   ]
  },
  {
   "cell_type": "markdown",
   "id": "9ac41726",
   "metadata": {},
   "source": [
    "nombre_infected       850\n",
    "nombre_sain          2126\n",
    "nombre_exposed        446\n",
    "nombre_recovered    16578\n",
    "Name: 185, dtype: int64"
   ]
  },
  {
   "cell_type": "markdown",
   "id": "313b8acb",
   "metadata": {},
   "source": [
    "nombre_infected       879\n",
    "nombre_sain          2102\n",
    "nombre_exposed        438\n",
    "nombre_recovered    16581\n",
    "Name: 186, dtype: int64"
   ]
  },
  {
   "cell_type": "markdown",
   "id": "70516ad9",
   "metadata": {},
   "source": [
    "nombre_infected       878\n",
    "nombre_sain          2096\n",
    "nombre_exposed        417\n",
    "nombre_recovered    16609\n",
    "Name: 187, dtype: int64"
   ]
  },
  {
   "cell_type": "markdown",
   "id": "c9fb8818",
   "metadata": {},
   "source": [
    "nombre_infected       878\n",
    "nombre_sain          2118\n",
    "nombre_exposed        416\n",
    "nombre_recovered    16588\n",
    "Name: 188, dtype: int64"
   ]
  },
  {
   "cell_type": "markdown",
   "id": "ee9ed758",
   "metadata": {},
   "source": [
    "nombre_infected       852\n",
    "nombre_sain          2121\n",
    "nombre_exposed        432\n",
    "nombre_recovered    16595\n",
    "Name: 189, dtype: int64"
   ]
  },
  {
   "cell_type": "markdown",
   "id": "2fef057a",
   "metadata": {},
   "source": [
    "nombre_infected       839\n",
    "nombre_sain          2129\n",
    "nombre_exposed        439\n",
    "nombre_recovered    16593\n",
    "Name: 190, dtype: int64"
   ]
  },
  {
   "cell_type": "markdown",
   "id": "831add3a",
   "metadata": {},
   "source": [
    "nombre_infected       832\n",
    "nombre_sain          2116\n",
    "nombre_exposed        445\n",
    "nombre_recovered    16607\n",
    "Name: 191, dtype: int64"
   ]
  },
  {
   "cell_type": "markdown",
   "id": "6decd516",
   "metadata": {},
   "source": [
    "nombre_infected       834\n",
    "nombre_sain          2101\n",
    "nombre_exposed        467\n",
    "nombre_recovered    16598\n",
    "Name: 192, dtype: int64"
   ]
  },
  {
   "cell_type": "markdown",
   "id": "a8deea3f",
   "metadata": {},
   "source": [
    "nombre_infected       816\n",
    "nombre_sain          2101\n",
    "nombre_exposed        476\n",
    "nombre_recovered    16607\n",
    "Name: 193, dtype: int64"
   ]
  },
  {
   "cell_type": "markdown",
   "id": "be5b4cd4",
   "metadata": {},
   "source": [
    "nombre_infected       813\n",
    "nombre_sain          2095\n",
    "nombre_exposed        470\n",
    "nombre_recovered    16622\n",
    "Name: 194, dtype: int64"
   ]
  },
  {
   "cell_type": "markdown",
   "id": "c6937464",
   "metadata": {},
   "source": [
    "nombre_infected       824\n",
    "nombre_sain          2116\n",
    "nombre_exposed        458\n",
    "nombre_recovered    16602\n",
    "Name: 195, dtype: int64"
   ]
  },
  {
   "cell_type": "markdown",
   "id": "e3761fe1",
   "metadata": {},
   "source": [
    "nombre_infected       798\n",
    "nombre_sain          2145\n",
    "nombre_exposed        464\n",
    "nombre_recovered    16593\n",
    "Name: 196, dtype: int64"
   ]
  },
  {
   "cell_type": "markdown",
   "id": "67a6cc22",
   "metadata": {},
   "source": [
    "nombre_infected       812\n",
    "nombre_sain          2156\n",
    "nombre_exposed        433\n",
    "nombre_recovered    16599\n",
    "Name: 197, dtype: int64"
   ]
  },
  {
   "cell_type": "markdown",
   "id": "c07323d7",
   "metadata": {},
   "source": [
    "nombre_infected       835\n",
    "nombre_sain          2140\n",
    "nombre_exposed        430\n",
    "nombre_recovered    16595\n",
    "Name: 198, dtype: int64"
   ]
  },
  {
   "cell_type": "markdown",
   "id": "17452d41",
   "metadata": {},
   "source": [
    "nombre_infected       813\n",
    "nombre_sain          2147\n",
    "nombre_exposed        435\n",
    "nombre_recovered    16605\n",
    "Name: 199, dtype: int64"
   ]
  },
  {
   "cell_type": "markdown",
   "id": "f6be95a9",
   "metadata": {},
   "source": [
    "nombre_infected       793\n",
    "nombre_sain          2154\n",
    "nombre_exposed        444\n",
    "nombre_recovered    16609\n",
    "Name: 200, dtype: int64"
   ]
  },
  {
   "cell_type": "markdown",
   "id": "b55ffbdb",
   "metadata": {},
   "source": [
    "nombre_infected       778\n",
    "nombre_sain          2178\n",
    "nombre_exposed        432\n",
    "nombre_recovered    16612\n",
    "Name: 201, dtype: int64"
   ]
  },
  {
   "cell_type": "markdown",
   "id": "c0dcc405",
   "metadata": {},
   "source": [
    "nombre_infected       767\n",
    "nombre_sain          2200\n",
    "nombre_exposed        438\n",
    "nombre_recovered    16595\n",
    "Name: 202, dtype: int64"
   ]
  },
  {
   "cell_type": "markdown",
   "id": "465098cc",
   "metadata": {},
   "source": [
    "nombre_infected       774\n",
    "nombre_sain          2250\n",
    "nombre_exposed        412\n",
    "nombre_recovered    16564\n",
    "Name: 203, dtype: int64"
   ]
  },
  {
   "cell_type": "markdown",
   "id": "34f8e5eb",
   "metadata": {},
   "source": [
    "nombre_infected       797\n",
    "nombre_sain          2267\n",
    "nombre_exposed        401\n",
    "nombre_recovered    16535\n",
    "Name: 204, dtype: int64"
   ]
  },
  {
   "cell_type": "markdown",
   "id": "d2f146a6",
   "metadata": {},
   "source": [
    "nombre_infected       767\n",
    "nombre_sain          2304\n",
    "nombre_exposed        422\n",
    "nombre_recovered    16507\n",
    "Name: 205, dtype: int64"
   ]
  },
  {
   "cell_type": "markdown",
   "id": "9ffe21d8",
   "metadata": {},
   "source": [
    "nombre_infected       752\n",
    "nombre_sain          2328\n",
    "nombre_exposed        432\n",
    "nombre_recovered    16488\n",
    "Name: 206, dtype: int64"
   ]
  },
  {
   "cell_type": "markdown",
   "id": "bd3cebfd",
   "metadata": {},
   "source": [
    "nombre_infected       739\n",
    "nombre_sain          2378\n",
    "nombre_exposed        415\n",
    "nombre_recovered    16468\n",
    "Name: 207, dtype: int64"
   ]
  },
  {
   "cell_type": "markdown",
   "id": "3a95d464",
   "metadata": {},
   "source": [
    "nombre_infected       739\n",
    "nombre_sain          2402\n",
    "nombre_exposed        412\n",
    "nombre_recovered    16447\n",
    "Name: 208, dtype: int64"
   ]
  },
  {
   "cell_type": "markdown",
   "id": "88287d0e",
   "metadata": {},
   "source": [
    "nombre_infected       741\n",
    "nombre_sain          2400\n",
    "nombre_exposed        435\n",
    "nombre_recovered    16424\n",
    "Name: 209, dtype: int64"
   ]
  },
  {
   "cell_type": "markdown",
   "id": "790a7cdc",
   "metadata": {},
   "source": [
    "nombre_infected       740\n",
    "nombre_sain          2400\n",
    "nombre_exposed        443\n",
    "nombre_recovered    16417\n",
    "Name: 210, dtype: int64"
   ]
  },
  {
   "cell_type": "markdown",
   "id": "4fc1ad92",
   "metadata": {},
   "source": [
    "nombre_infected       707\n",
    "nombre_sain          2409\n",
    "nombre_exposed        452\n",
    "nombre_recovered    16432\n",
    "Name: 211, dtype: int64"
   ]
  },
  {
   "cell_type": "markdown",
   "id": "9c322315",
   "metadata": {},
   "source": [
    "nombre_infected       703\n",
    "nombre_sain          2420\n",
    "nombre_exposed        452\n",
    "nombre_recovered    16425\n",
    "Name: 212, dtype: int64"
   ]
  },
  {
   "cell_type": "markdown",
   "id": "90e94cf1",
   "metadata": {},
   "source": [
    "nombre_infected       727\n",
    "nombre_sain          2413\n",
    "nombre_exposed        462\n",
    "nombre_recovered    16398\n",
    "Name: 213, dtype: int64"
   ]
  },
  {
   "cell_type": "markdown",
   "id": "c85526aa",
   "metadata": {},
   "source": [
    "nombre_infected       732\n",
    "nombre_sain          2421\n",
    "nombre_exposed        453\n",
    "nombre_recovered    16394\n",
    "Name: 214, dtype: int64"
   ]
  },
  {
   "cell_type": "markdown",
   "id": "cc14c977",
   "metadata": {},
   "source": [
    "nombre_infected       753\n",
    "nombre_sain          2397\n",
    "nombre_exposed        456\n",
    "nombre_recovered    16394\n",
    "Name: 215, dtype: int64"
   ]
  },
  {
   "cell_type": "markdown",
   "id": "24f5a983",
   "metadata": {},
   "source": [
    "nombre_infected       752\n",
    "nombre_sain          2406\n",
    "nombre_exposed        454\n",
    "nombre_recovered    16388\n",
    "Name: 216, dtype: int64"
   ]
  },
  {
   "cell_type": "markdown",
   "id": "b6cedff5",
   "metadata": {},
   "source": [
    "nombre_infected       773\n",
    "nombre_sain          2406\n",
    "nombre_exposed        433\n",
    "nombre_recovered    16388\n",
    "Name: 217, dtype: int64"
   ]
  },
  {
   "cell_type": "markdown",
   "id": "c14c9eb6",
   "metadata": {},
   "source": [
    "nombre_infected       763\n",
    "nombre_sain          2417\n",
    "nombre_exposed        438\n",
    "nombre_recovered    16382\n",
    "Name: 218, dtype: int64"
   ]
  },
  {
   "cell_type": "markdown",
   "id": "5176e9b4",
   "metadata": {},
   "source": [
    "nombre_infected       764\n",
    "nombre_sain          2434\n",
    "nombre_exposed        439\n",
    "nombre_recovered    16363\n",
    "Name: 219, dtype: int64"
   ]
  },
  {
   "cell_type": "markdown",
   "id": "8675b6ed",
   "metadata": {},
   "source": [
    "nombre_infected       755\n",
    "nombre_sain          2402\n",
    "nombre_exposed        476\n",
    "nombre_recovered    16367\n",
    "Name: 220, dtype: int64"
   ]
  },
  {
   "cell_type": "markdown",
   "id": "a5586286",
   "metadata": {},
   "source": [
    "nombre_infected       764\n",
    "nombre_sain          2410\n",
    "nombre_exposed        473\n",
    "nombre_recovered    16353\n",
    "Name: 221, dtype: int64"
   ]
  },
  {
   "cell_type": "markdown",
   "id": "fa89cd20",
   "metadata": {},
   "source": [
    "nombre_infected       784\n",
    "nombre_sain          2429\n",
    "nombre_exposed        476\n",
    "nombre_recovered    16311\n",
    "Name: 222, dtype: int64"
   ]
  },
  {
   "cell_type": "markdown",
   "id": "5a40c098",
   "metadata": {},
   "source": [
    "nombre_infected       805\n",
    "nombre_sain          2451\n",
    "nombre_exposed        479\n",
    "nombre_recovered    16265\n",
    "Name: 223, dtype: int64"
   ]
  },
  {
   "cell_type": "markdown",
   "id": "573f7b49",
   "metadata": {},
   "source": [
    "nombre_infected       815\n",
    "nombre_sain          2455\n",
    "nombre_exposed        476\n",
    "nombre_recovered    16254\n",
    "Name: 224, dtype: int64"
   ]
  },
  {
   "cell_type": "markdown",
   "id": "4a4f910b",
   "metadata": {},
   "source": [
    "nombre_infected       825\n",
    "nombre_sain          2460\n",
    "nombre_exposed        485\n",
    "nombre_recovered    16230\n",
    "Name: 225, dtype: int64"
   ]
  },
  {
   "cell_type": "markdown",
   "id": "ebf322cc",
   "metadata": {},
   "source": [
    "nombre_infected       830\n",
    "nombre_sain          2477\n",
    "nombre_exposed        471\n",
    "nombre_recovered    16222\n",
    "Name: 226, dtype: int64"
   ]
  },
  {
   "cell_type": "markdown",
   "id": "71c20daa",
   "metadata": {},
   "source": [
    "nombre_infected       840\n",
    "nombre_sain          2476\n",
    "nombre_exposed        480\n",
    "nombre_recovered    16204\n",
    "Name: 227, dtype: int64"
   ]
  },
  {
   "cell_type": "markdown",
   "id": "498f7d0e",
   "metadata": {},
   "source": [
    "nombre_infected       847\n",
    "nombre_sain          2459\n",
    "nombre_exposed        492\n",
    "nombre_recovered    16202\n",
    "Name: 228, dtype: int64"
   ]
  },
  {
   "cell_type": "markdown",
   "id": "0ad7694b",
   "metadata": {},
   "source": [
    "nombre_infected       854\n",
    "nombre_sain          2465\n",
    "nombre_exposed        504\n",
    "nombre_recovered    16177\n",
    "Name: 229, dtype: int64"
   ]
  },
  {
   "cell_type": "markdown",
   "id": "07f904ad",
   "metadata": {},
   "source": [
    "nombre_infected       857\n",
    "nombre_sain          2472\n",
    "nombre_exposed        501\n",
    "nombre_recovered    16170\n",
    "Name: 230, dtype: int64"
   ]
  },
  {
   "cell_type": "markdown",
   "id": "1d8c7b9d",
   "metadata": {},
   "source": [
    "nombre_infected       881\n",
    "nombre_sain          2444\n",
    "nombre_exposed        509\n",
    "nombre_recovered    16166\n",
    "Name: 231, dtype: int64"
   ]
  },
  {
   "cell_type": "markdown",
   "id": "cb131349",
   "metadata": {},
   "source": [
    "nombre_infected       880\n",
    "nombre_sain          2424\n",
    "nombre_exposed        533\n",
    "nombre_recovered    16163\n",
    "Name: 232, dtype: int64"
   ]
  },
  {
   "cell_type": "markdown",
   "id": "7c57282b",
   "metadata": {},
   "source": [
    "nombre_infected       892\n",
    "nombre_sain          2416\n",
    "nombre_exposed        540\n",
    "nombre_recovered    16152\n",
    "Name: 233, dtype: int64"
   ]
  },
  {
   "cell_type": "markdown",
   "id": "1dd90a0a",
   "metadata": {},
   "source": [
    "nombre_infected       890\n",
    "nombre_sain          2406\n",
    "nombre_exposed        572\n",
    "nombre_recovered    16132\n",
    "Name: 234, dtype: int64"
   ]
  },
  {
   "cell_type": "markdown",
   "id": "6f9d208b",
   "metadata": {},
   "source": [
    "nombre_infected       907\n",
    "nombre_sain          2392\n",
    "nombre_exposed        567\n",
    "nombre_recovered    16134\n",
    "Name: 235, dtype: int64"
   ]
  },
  {
   "cell_type": "markdown",
   "id": "9ee153fc",
   "metadata": {},
   "source": [
    "nombre_infected       927\n",
    "nombre_sain          2361\n",
    "nombre_exposed        586\n",
    "nombre_recovered    16126\n",
    "Name: 236, dtype: int64"
   ]
  },
  {
   "cell_type": "markdown",
   "id": "f7f3aafd",
   "metadata": {},
   "source": [
    "nombre_infected       951\n",
    "nombre_sain          2340\n",
    "nombre_exposed        611\n",
    "nombre_recovered    16098\n",
    "Name: 237, dtype: int64"
   ]
  },
  {
   "cell_type": "markdown",
   "id": "7d9d9c87",
   "metadata": {},
   "source": [
    "nombre_infected       963\n",
    "nombre_sain          2350\n",
    "nombre_exposed        625\n",
    "nombre_recovered    16062\n",
    "Name: 238, dtype: int64"
   ]
  },
  {
   "cell_type": "markdown",
   "id": "d4c08d21",
   "metadata": {},
   "source": [
    "nombre_infected       985\n",
    "nombre_sain          2312\n",
    "nombre_exposed        643\n",
    "nombre_recovered    16060\n",
    "Name: 239, dtype: int64"
   ]
  },
  {
   "cell_type": "markdown",
   "id": "b2bec16f",
   "metadata": {},
   "source": [
    "nombre_infected      1008\n",
    "nombre_sain          2305\n",
    "nombre_exposed        648\n",
    "nombre_recovered    16039\n",
    "Name: 240, dtype: int64"
   ]
  },
  {
   "cell_type": "markdown",
   "id": "5e07aa80",
   "metadata": {},
   "source": [
    "nombre_infected      1048\n",
    "nombre_sain          2303\n",
    "nombre_exposed        627\n",
    "nombre_recovered    16022\n",
    "Name: 241, dtype: int64"
   ]
  },
  {
   "cell_type": "markdown",
   "id": "b5a9128c",
   "metadata": {},
   "source": [
    "nombre_infected      1050\n",
    "nombre_sain          2282\n",
    "nombre_exposed        617\n",
    "nombre_recovered    16051\n",
    "Name: 242, dtype: int64"
   ]
  },
  {
   "cell_type": "markdown",
   "id": "1d0698cb",
   "metadata": {},
   "source": [
    "nombre_infected      1063\n",
    "nombre_sain          2253\n",
    "nombre_exposed        613\n",
    "nombre_recovered    16071\n",
    "Name: 243, dtype: int64"
   ]
  },
  {
   "cell_type": "markdown",
   "id": "2b07797b",
   "metadata": {},
   "source": [
    "nombre_infected      1053\n",
    "nombre_sain          2253\n",
    "nombre_exposed        600\n",
    "nombre_recovered    16094\n",
    "Name: 244, dtype: int64"
   ]
  },
  {
   "cell_type": "markdown",
   "id": "50f75a71",
   "metadata": {},
   "source": [
    "nombre_infected      1080\n",
    "nombre_sain          2231\n",
    "nombre_exposed        589\n",
    "nombre_recovered    16100\n",
    "Name: 245, dtype: int64"
   ]
  },
  {
   "cell_type": "markdown",
   "id": "7567928c",
   "metadata": {},
   "source": [
    "nombre_infected      1074\n",
    "nombre_sain          2211\n",
    "nombre_exposed        581\n",
    "nombre_recovered    16134\n",
    "Name: 246, dtype: int64"
   ]
  },
  {
   "cell_type": "markdown",
   "id": "c1efc693",
   "metadata": {},
   "source": [
    "nombre_infected      1052\n",
    "nombre_sain          2180\n",
    "nombre_exposed        592\n",
    "nombre_recovered    16176\n",
    "Name: 247, dtype: int64"
   ]
  },
  {
   "cell_type": "markdown",
   "id": "eaa5191a",
   "metadata": {},
   "source": [
    "nombre_infected      1052\n",
    "nombre_sain          2168\n",
    "nombre_exposed        591\n",
    "nombre_recovered    16189\n",
    "Name: 248, dtype: int64"
   ]
  },
  {
   "cell_type": "markdown",
   "id": "f66cf27d",
   "metadata": {},
   "source": [
    "nombre_infected      1047\n",
    "nombre_sain          2135\n",
    "nombre_exposed        605\n",
    "nombre_recovered    16213\n",
    "Name: 249, dtype: int64"
   ]
  },
  {
   "cell_type": "markdown",
   "id": "bc882696",
   "metadata": {},
   "source": [
    "nombre_infected      1046\n",
    "nombre_sain          2126\n",
    "nombre_exposed        601\n",
    "nombre_recovered    16227\n",
    "Name: 250, dtype: int64"
   ]
  },
  {
   "cell_type": "markdown",
   "id": "5d9d0cd7",
   "metadata": {},
   "source": [
    "nombre_infected      1063\n",
    "nombre_sain          2102\n",
    "nombre_exposed        583\n",
    "nombre_recovered    16252\n",
    "Name: 251, dtype: int64"
   ]
  },
  {
   "cell_type": "markdown",
   "id": "14fa5e87",
   "metadata": {},
   "source": [
    "nombre_infected      1079\n",
    "nombre_sain          2100\n",
    "nombre_exposed        567\n",
    "nombre_recovered    16254\n",
    "Name: 252, dtype: int64"
   ]
  },
  {
   "cell_type": "markdown",
   "id": "9114676a",
   "metadata": {},
   "source": [
    "nombre_infected      1089\n",
    "nombre_sain          2060\n",
    "nombre_exposed        576\n",
    "nombre_recovered    16275\n",
    "Name: 253, dtype: int64"
   ]
  },
  {
   "cell_type": "markdown",
   "id": "8aded28b",
   "metadata": {},
   "source": [
    "nombre_infected      1076\n",
    "nombre_sain          2034\n",
    "nombre_exposed        600\n",
    "nombre_recovered    16290\n",
    "Name: 254, dtype: int64"
   ]
  },
  {
   "cell_type": "markdown",
   "id": "82924aa8",
   "metadata": {},
   "source": [
    "nombre_infected      1075\n",
    "nombre_sain          2028\n",
    "nombre_exposed        564\n",
    "nombre_recovered    16333\n",
    "Name: 255, dtype: int64"
   ]
  },
  {
   "cell_type": "markdown",
   "id": "2127823b",
   "metadata": {},
   "source": [
    "nombre_infected      1079\n",
    "nombre_sain          2046\n",
    "nombre_exposed        559\n",
    "nombre_recovered    16316\n",
    "Name: 256, dtype: int64"
   ]
  },
  {
   "cell_type": "markdown",
   "id": "489bca0d",
   "metadata": {},
   "source": [
    "nombre_infected      1060\n",
    "nombre_sain          2050\n",
    "nombre_exposed        549\n",
    "nombre_recovered    16341\n",
    "Name: 257, dtype: int64"
   ]
  },
  {
   "cell_type": "markdown",
   "id": "6f32fdaa",
   "metadata": {},
   "source": [
    "nombre_infected      1081\n",
    "nombre_sain          2022\n",
    "nombre_exposed        558\n",
    "nombre_recovered    16339\n",
    "Name: 258, dtype: int64"
   ]
  },
  {
   "cell_type": "markdown",
   "id": "26255f03",
   "metadata": {},
   "source": [
    "nombre_infected      1037\n",
    "nombre_sain          2048\n",
    "nombre_exposed        560\n",
    "nombre_recovered    16355\n",
    "Name: 259, dtype: int64"
   ]
  },
  {
   "cell_type": "markdown",
   "id": "7042c0db",
   "metadata": {},
   "source": [
    "nombre_infected      1027\n",
    "nombre_sain          2055\n",
    "nombre_exposed        563\n",
    "nombre_recovered    16355\n",
    "Name: 260, dtype: int64"
   ]
  },
  {
   "cell_type": "markdown",
   "id": "2a27c0c0",
   "metadata": {},
   "source": [
    "nombre_infected      1029\n",
    "nombre_sain          2074\n",
    "nombre_exposed        547\n",
    "nombre_recovered    16350\n",
    "Name: 261, dtype: int64"
   ]
  },
  {
   "cell_type": "markdown",
   "id": "a0cbb09e",
   "metadata": {},
   "source": [
    "nombre_infected      1019\n",
    "nombre_sain          2092\n",
    "nombre_exposed        555\n",
    "nombre_recovered    16334\n",
    "Name: 262, dtype: int64"
   ]
  },
  {
   "cell_type": "markdown",
   "id": "dcbe130e",
   "metadata": {},
   "source": [
    "nombre_infected      1044\n",
    "nombre_sain          2117\n",
    "nombre_exposed        527\n",
    "nombre_recovered    16312\n",
    "Name: 263, dtype: int64"
   ]
  },
  {
   "cell_type": "markdown",
   "id": "4e448c8a",
   "metadata": {},
   "source": [
    "nombre_infected      1031\n",
    "nombre_sain          2135\n",
    "nombre_exposed        517\n",
    "nombre_recovered    16317\n",
    "Name: 264, dtype: int64"
   ]
  },
  {
   "cell_type": "markdown",
   "id": "a9118ca1",
   "metadata": {},
   "source": [
    "nombre_infected      1003\n",
    "nombre_sain          2153\n",
    "nombre_exposed        519\n",
    "nombre_recovered    16325\n",
    "Name: 265, dtype: int64"
   ]
  },
  {
   "cell_type": "markdown",
   "id": "b30f0a32",
   "metadata": {},
   "source": [
    "nombre_infected       987\n",
    "nombre_sain          2183\n",
    "nombre_exposed        535\n",
    "nombre_recovered    16295\n",
    "Name: 266, dtype: int64"
   ]
  },
  {
   "cell_type": "markdown",
   "id": "31134b6e",
   "metadata": {},
   "source": [
    "nombre_infected       984\n",
    "nombre_sain          2190\n",
    "nombre_exposed        534\n",
    "nombre_recovered    16292\n",
    "Name: 267, dtype: int64"
   ]
  },
  {
   "cell_type": "markdown",
   "id": "b5af8242",
   "metadata": {},
   "source": [
    "nombre_infected       962\n",
    "nombre_sain          2204\n",
    "nombre_exposed        545\n",
    "nombre_recovered    16289\n",
    "Name: 268, dtype: int64"
   ]
  },
  {
   "cell_type": "markdown",
   "id": "ef784bd1",
   "metadata": {},
   "source": [
    "nombre_infected       989\n",
    "nombre_sain          2225\n",
    "nombre_exposed        534\n",
    "nombre_recovered    16252\n",
    "Name: 269, dtype: int64"
   ]
  },
  {
   "cell_type": "markdown",
   "id": "1026463e",
   "metadata": {},
   "source": [
    "nombre_infected       986\n",
    "nombre_sain          2215\n",
    "nombre_exposed        528\n",
    "nombre_recovered    16271\n",
    "Name: 270, dtype: int64"
   ]
  },
  {
   "cell_type": "markdown",
   "id": "d815ab6b",
   "metadata": {},
   "source": [
    "nombre_infected       979\n",
    "nombre_sain          2201\n",
    "nombre_exposed        533\n",
    "nombre_recovered    16287\n",
    "Name: 271, dtype: int64"
   ]
  },
  {
   "cell_type": "markdown",
   "id": "427a7eea",
   "metadata": {},
   "source": [
    "nombre_infected       979\n",
    "nombre_sain          2195\n",
    "nombre_exposed        533\n",
    "nombre_recovered    16293\n",
    "Name: 272, dtype: int64"
   ]
  },
  {
   "cell_type": "markdown",
   "id": "73adfbb5",
   "metadata": {},
   "source": [
    "nombre_infected       979\n",
    "nombre_sain          2197\n",
    "nombre_exposed        522\n",
    "nombre_recovered    16302\n",
    "Name: 273, dtype: int64"
   ]
  },
  {
   "cell_type": "markdown",
   "id": "60120969",
   "metadata": {},
   "source": [
    "nombre_infected       980\n",
    "nombre_sain          2165\n",
    "nombre_exposed        530\n",
    "nombre_recovered    16325\n",
    "Name: 274, dtype: int64"
   ]
  },
  {
   "cell_type": "markdown",
   "id": "8995c198",
   "metadata": {},
   "source": [
    "nombre_infected       975\n",
    "nombre_sain          2159\n",
    "nombre_exposed        526\n",
    "nombre_recovered    16340\n",
    "Name: 275, dtype: int64"
   ]
  },
  {
   "cell_type": "markdown",
   "id": "a21b380c",
   "metadata": {},
   "source": [
    "nombre_infected       980\n",
    "nombre_sain          2192\n",
    "nombre_exposed        511\n",
    "nombre_recovered    16317\n",
    "Name: 276, dtype: int64"
   ]
  },
  {
   "cell_type": "markdown",
   "id": "b5d30fd1",
   "metadata": {},
   "source": [
    "nombre_infected       972\n",
    "nombre_sain          2194\n",
    "nombre_exposed        523\n",
    "nombre_recovered    16311\n",
    "Name: 277, dtype: int64"
   ]
  },
  {
   "cell_type": "markdown",
   "id": "8ea4b9a0",
   "metadata": {},
   "source": [
    "nombre_infected       986\n",
    "nombre_sain          2184\n",
    "nombre_exposed        520\n",
    "nombre_recovered    16310\n",
    "Name: 278, dtype: int64"
   ]
  },
  {
   "cell_type": "markdown",
   "id": "ebd47911",
   "metadata": {},
   "source": [
    "nombre_infected      1010\n",
    "nombre_sain          2144\n",
    "nombre_exposed        552\n",
    "nombre_recovered    16294\n",
    "Name: 279, dtype: int64"
   ]
  },
  {
   "cell_type": "markdown",
   "id": "18fd85b2",
   "metadata": {},
   "source": [
    "nombre_infected      1003\n",
    "nombre_sain          2116\n",
    "nombre_exposed        563\n",
    "nombre_recovered    16318\n",
    "Name: 280, dtype: int64"
   ]
  },
  {
   "cell_type": "markdown",
   "id": "2e1329c9",
   "metadata": {},
   "source": [
    "nombre_infected      1020\n",
    "nombre_sain          2110\n",
    "nombre_exposed        571\n",
    "nombre_recovered    16299\n",
    "Name: 281, dtype: int64"
   ]
  },
  {
   "cell_type": "markdown",
   "id": "f05a4cf3",
   "metadata": {},
   "source": [
    "nombre_infected      1020\n",
    "nombre_sain          2106\n",
    "nombre_exposed        574\n",
    "nombre_recovered    16300\n",
    "Name: 282, dtype: int64"
   ]
  },
  {
   "cell_type": "markdown",
   "id": "ebde5982",
   "metadata": {},
   "source": [
    "nombre_infected      1034\n",
    "nombre_sain          2108\n",
    "nombre_exposed        527\n",
    "nombre_recovered    16331\n",
    "Name: 283, dtype: int64"
   ]
  },
  {
   "cell_type": "markdown",
   "id": "49b511fb",
   "metadata": {},
   "source": [
    "nombre_infected      1029\n",
    "nombre_sain          2112\n",
    "nombre_exposed        524\n",
    "nombre_recovered    16335\n",
    "Name: 284, dtype: int64"
   ]
  },
  {
   "cell_type": "markdown",
   "id": "1533134d",
   "metadata": {},
   "source": [
    "nombre_infected      1052\n",
    "nombre_sain          2096\n",
    "nombre_exposed        496\n",
    "nombre_recovered    16356\n",
    "Name: 285, dtype: int64"
   ]
  },
  {
   "cell_type": "markdown",
   "id": "2de8d6c5",
   "metadata": {},
   "source": [
    "nombre_infected      1026\n",
    "nombre_sain          2095\n",
    "nombre_exposed        504\n",
    "nombre_recovered    16375\n",
    "Name: 286, dtype: int64"
   ]
  },
  {
   "cell_type": "markdown",
   "id": "81531ce7",
   "metadata": {},
   "source": [
    "nombre_infected      1012\n",
    "nombre_sain          2070\n",
    "nombre_exposed        519\n",
    "nombre_recovered    16399\n",
    "Name: 287, dtype: int64"
   ]
  },
  {
   "cell_type": "markdown",
   "id": "3e47a5a4",
   "metadata": {},
   "source": [
    "nombre_infected      1038\n",
    "nombre_sain          2083\n",
    "nombre_exposed        515\n",
    "nombre_recovered    16364\n",
    "Name: 288, dtype: int64"
   ]
  },
  {
   "cell_type": "markdown",
   "id": "30d4c984",
   "metadata": {},
   "source": [
    "nombre_infected      1013\n",
    "nombre_sain          2069\n",
    "nombre_exposed        550\n",
    "nombre_recovered    16368\n",
    "Name: 289, dtype: int64"
   ]
  },
  {
   "cell_type": "markdown",
   "id": "ee77cdf4",
   "metadata": {},
   "source": [
    "nombre_infected      1032\n",
    "nombre_sain          2071\n",
    "nombre_exposed        541\n",
    "nombre_recovered    16356\n",
    "Name: 290, dtype: int64"
   ]
  },
  {
   "cell_type": "markdown",
   "id": "c11b7d13",
   "metadata": {},
   "source": [
    "nombre_infected      1050\n",
    "nombre_sain          2088\n",
    "nombre_exposed        529\n",
    "nombre_recovered    16333\n",
    "Name: 291, dtype: int64"
   ]
  },
  {
   "cell_type": "markdown",
   "id": "b731a097",
   "metadata": {},
   "source": [
    "nombre_infected      1039\n",
    "nombre_sain          2100\n",
    "nombre_exposed        513\n",
    "nombre_recovered    16348\n",
    "Name: 292, dtype: int64"
   ]
  },
  {
   "cell_type": "markdown",
   "id": "8b311558",
   "metadata": {},
   "source": [
    "nombre_infected      1045\n",
    "nombre_sain          2084\n",
    "nombre_exposed        537\n",
    "nombre_recovered    16334\n",
    "Name: 293, dtype: int64"
   ]
  },
  {
   "cell_type": "markdown",
   "id": "5e75a47b",
   "metadata": {},
   "source": [
    "nombre_infected      1043\n",
    "nombre_sain          2088\n",
    "nombre_exposed        534\n",
    "nombre_recovered    16335\n",
    "Name: 294, dtype: int64"
   ]
  },
  {
   "cell_type": "markdown",
   "id": "c1b2bca8",
   "metadata": {},
   "source": [
    "nombre_infected      1028\n",
    "nombre_sain          2077\n",
    "nombre_exposed        536\n",
    "nombre_recovered    16359\n",
    "Name: 295, dtype: int64"
   ]
  },
  {
   "cell_type": "markdown",
   "id": "e1492438",
   "metadata": {},
   "source": [
    "nombre_infected      1039\n",
    "nombre_sain          2099\n",
    "nombre_exposed        517\n",
    "nombre_recovered    16345\n",
    "Name: 296, dtype: int64"
   ]
  },
  {
   "cell_type": "markdown",
   "id": "1d8c1395",
   "metadata": {},
   "source": [
    "nombre_infected      1051\n",
    "nombre_sain          2075\n",
    "nombre_exposed        525\n",
    "nombre_recovered    16349\n",
    "Name: 297, dtype: int64"
   ]
  },
  {
   "cell_type": "markdown",
   "id": "4c9c5359",
   "metadata": {},
   "source": [
    "nombre_infected      1049\n",
    "nombre_sain          2091\n",
    "nombre_exposed        522\n",
    "nombre_recovered    16338\n",
    "Name: 298, dtype: int64"
   ]
  },
  {
   "cell_type": "markdown",
   "id": "e707f4ad",
   "metadata": {},
   "source": [
    "nombre_infected      1064\n",
    "nombre_sain          2073\n",
    "nombre_exposed        528\n",
    "nombre_recovered    16335\n",
    "Name: 299, dtype: int64"
   ]
  },
  {
   "cell_type": "markdown",
   "id": "ebd46ee5",
   "metadata": {},
   "source": [
    "nombre_infected      1052\n",
    "nombre_sain          2067\n",
    "nombre_exposed        547\n",
    "nombre_recovered    16334\n",
    "Name: 300, dtype: int64"
   ]
  },
  {
   "cell_type": "markdown",
   "id": "9696ffcb",
   "metadata": {},
   "source": [
    "nombre_infected      1066\n",
    "nombre_sain          2043\n",
    "nombre_exposed        536\n",
    "nombre_recovered    16355\n",
    "Name: 301, dtype: int64"
   ]
  },
  {
   "cell_type": "markdown",
   "id": "3196239d",
   "metadata": {},
   "source": [
    "nombre_infected      1074\n",
    "nombre_sain          2042\n",
    "nombre_exposed        526\n",
    "nombre_recovered    16358\n",
    "Name: 302, dtype: int64"
   ]
  },
  {
   "cell_type": "markdown",
   "id": "ef0d55e7",
   "metadata": {},
   "source": [
    "nombre_infected      1046\n",
    "nombre_sain          2035\n",
    "nombre_exposed        543\n",
    "nombre_recovered    16376\n",
    "Name: 303, dtype: int64"
   ]
  },
  {
   "cell_type": "markdown",
   "id": "42bb8411",
   "metadata": {},
   "source": [
    "nombre_infected      1062\n",
    "nombre_sain          2033\n",
    "nombre_exposed        521\n",
    "nombre_recovered    16384\n",
    "Name: 304, dtype: int64"
   ]
  },
  {
   "cell_type": "markdown",
   "id": "0746f424",
   "metadata": {},
   "source": [
    "nombre_infected      1058\n",
    "nombre_sain          2024\n",
    "nombre_exposed        500\n",
    "nombre_recovered    16418\n",
    "Name: 305, dtype: int64"
   ]
  },
  {
   "cell_type": "markdown",
   "id": "0f1b3526",
   "metadata": {},
   "source": [
    "nombre_infected      1047\n",
    "nombre_sain          2044\n",
    "nombre_exposed        496\n",
    "nombre_recovered    16413\n",
    "Name: 306, dtype: int64"
   ]
  },
  {
   "cell_type": "markdown",
   "id": "da3acca8",
   "metadata": {},
   "source": [
    "nombre_infected      1013\n",
    "nombre_sain          2063\n",
    "nombre_exposed        500\n",
    "nombre_recovered    16424\n",
    "Name: 307, dtype: int64"
   ]
  },
  {
   "cell_type": "markdown",
   "id": "c9f9889e",
   "metadata": {},
   "source": [
    "nombre_infected       983\n",
    "nombre_sain          2077\n",
    "nombre_exposed        520\n",
    "nombre_recovered    16420\n",
    "Name: 308, dtype: int64"
   ]
  },
  {
   "cell_type": "markdown",
   "id": "6f5a64d3",
   "metadata": {},
   "source": [
    "nombre_infected       975\n",
    "nombre_sain          2105\n",
    "nombre_exposed        513\n",
    "nombre_recovered    16407\n",
    "Name: 309, dtype: int64"
   ]
  },
  {
   "cell_type": "markdown",
   "id": "a0debeb1",
   "metadata": {},
   "source": [
    "nombre_infected       978\n",
    "nombre_sain          2084\n",
    "nombre_exposed        533\n",
    "nombre_recovered    16405\n",
    "Name: 310, dtype: int64"
   ]
  },
  {
   "cell_type": "markdown",
   "id": "257c6d4a",
   "metadata": {},
   "source": [
    "nombre_infected       989\n",
    "nombre_sain          2094\n",
    "nombre_exposed        513\n",
    "nombre_recovered    16404\n",
    "Name: 311, dtype: int64"
   ]
  },
  {
   "cell_type": "markdown",
   "id": "1db5666c",
   "metadata": {},
   "source": [
    "nombre_infected       966\n",
    "nombre_sain          2106\n",
    "nombre_exposed        514\n",
    "nombre_recovered    16414\n",
    "Name: 312, dtype: int64"
   ]
  },
  {
   "cell_type": "markdown",
   "id": "1e46b62f",
   "metadata": {},
   "source": [
    "nombre_infected       960\n",
    "nombre_sain          2117\n",
    "nombre_exposed        498\n",
    "nombre_recovered    16425\n",
    "Name: 313, dtype: int64"
   ]
  },
  {
   "cell_type": "markdown",
   "id": "ada3142b",
   "metadata": {},
   "source": [
    "nombre_infected       960\n",
    "nombre_sain          2114\n",
    "nombre_exposed        497\n",
    "nombre_recovered    16429\n",
    "Name: 314, dtype: int64"
   ]
  },
  {
   "cell_type": "markdown",
   "id": "1d6c62ca",
   "metadata": {},
   "source": [
    "nombre_infected       962\n",
    "nombre_sain          2123\n",
    "nombre_exposed        478\n",
    "nombre_recovered    16437\n",
    "Name: 315, dtype: int64"
   ]
  },
  {
   "cell_type": "markdown",
   "id": "491b3fb2",
   "metadata": {},
   "source": [
    "nombre_infected       960\n",
    "nombre_sain          2109\n",
    "nombre_exposed        485\n",
    "nombre_recovered    16446\n",
    "Name: 316, dtype: int64"
   ]
  },
  {
   "cell_type": "markdown",
   "id": "bb5e0c28",
   "metadata": {},
   "source": [
    "nombre_infected       940\n",
    "nombre_sain          2101\n",
    "nombre_exposed        481\n",
    "nombre_recovered    16478\n",
    "Name: 317, dtype: int64"
   ]
  },
  {
   "cell_type": "markdown",
   "id": "b1468037",
   "metadata": {},
   "source": [
    "nombre_infected       920\n",
    "nombre_sain          2097\n",
    "nombre_exposed        477\n",
    "nombre_recovered    16506\n",
    "Name: 318, dtype: int64"
   ]
  },
  {
   "cell_type": "markdown",
   "id": "c0950fe8",
   "metadata": {},
   "source": [
    "nombre_infected       905\n",
    "nombre_sain          2095\n",
    "nombre_exposed        480\n",
    "nombre_recovered    16520\n",
    "Name: 319, dtype: int64"
   ]
  },
  {
   "cell_type": "markdown",
   "id": "4cf9b59a",
   "metadata": {},
   "source": [
    "nombre_infected       903\n",
    "nombre_sain          2106\n",
    "nombre_exposed        468\n",
    "nombre_recovered    16523\n",
    "Name: 320, dtype: int64"
   ]
  },
  {
   "cell_type": "markdown",
   "id": "a18a7b83",
   "metadata": {},
   "source": [
    "nombre_infected       891\n",
    "nombre_sain          2104\n",
    "nombre_exposed        476\n",
    "nombre_recovered    16529\n",
    "Name: 321, dtype: int64"
   ]
  },
  {
   "cell_type": "markdown",
   "id": "743f4dc2",
   "metadata": {},
   "source": [
    "nombre_infected       898\n",
    "nombre_sain          2083\n",
    "nombre_exposed        481\n",
    "nombre_recovered    16538\n",
    "Name: 322, dtype: int64"
   ]
  },
  {
   "cell_type": "markdown",
   "id": "9fadea65",
   "metadata": {},
   "source": [
    "nombre_infected       929\n",
    "nombre_sain          2096\n",
    "nombre_exposed        453\n",
    "nombre_recovered    16522\n",
    "Name: 323, dtype: int64"
   ]
  },
  {
   "cell_type": "markdown",
   "id": "a1e917f9",
   "metadata": {},
   "source": [
    "nombre_infected       914\n",
    "nombre_sain          2103\n",
    "nombre_exposed        451\n",
    "nombre_recovered    16532\n",
    "Name: 324, dtype: int64"
   ]
  },
  {
   "cell_type": "markdown",
   "id": "503f0245",
   "metadata": {},
   "source": [
    "nombre_infected       891\n",
    "nombre_sain          2107\n",
    "nombre_exposed        450\n",
    "nombre_recovered    16552\n",
    "Name: 325, dtype: int64"
   ]
  },
  {
   "cell_type": "markdown",
   "id": "14d8cd43",
   "metadata": {},
   "source": [
    "nombre_infected       881\n",
    "nombre_sain          2103\n",
    "nombre_exposed        457\n",
    "nombre_recovered    16559\n",
    "Name: 326, dtype: int64"
   ]
  },
  {
   "cell_type": "markdown",
   "id": "86f04620",
   "metadata": {},
   "source": [
    "nombre_infected       859\n",
    "nombre_sain          2115\n",
    "nombre_exposed        460\n",
    "nombre_recovered    16566\n",
    "Name: 327, dtype: int64"
   ]
  },
  {
   "cell_type": "markdown",
   "id": "7d363336",
   "metadata": {},
   "source": [
    "nombre_infected       869\n",
    "nombre_sain          2124\n",
    "nombre_exposed        441\n",
    "nombre_recovered    16566\n",
    "Name: 328, dtype: int64"
   ]
  },
  {
   "cell_type": "markdown",
   "id": "b36f4eef",
   "metadata": {},
   "source": [
    "nombre_infected       849\n",
    "nombre_sain          2112\n",
    "nombre_exposed        459\n",
    "nombre_recovered    16580\n",
    "Name: 329, dtype: int64"
   ]
  },
  {
   "cell_type": "markdown",
   "id": "baa48c24",
   "metadata": {},
   "source": [
    "nombre_infected       838\n",
    "nombre_sain          2114\n",
    "nombre_exposed        449\n",
    "nombre_recovered    16599\n",
    "Name: 330, dtype: int64"
   ]
  },
  {
   "cell_type": "markdown",
   "id": "b58de038",
   "metadata": {},
   "source": [
    "nombre_infected       831\n",
    "nombre_sain          2161\n",
    "nombre_exposed        434\n",
    "nombre_recovered    16574\n",
    "Name: 331, dtype: int64"
   ]
  },
  {
   "cell_type": "markdown",
   "id": "55bb166a",
   "metadata": {},
   "source": [
    "nombre_infected       808\n",
    "nombre_sain          2176\n",
    "nombre_exposed        429\n",
    "nombre_recovered    16587\n",
    "Name: 332, dtype: int64"
   ]
  },
  {
   "cell_type": "markdown",
   "id": "6bd34771",
   "metadata": {},
   "source": [
    "nombre_infected       824\n",
    "nombre_sain          2176\n",
    "nombre_exposed        426\n",
    "nombre_recovered    16574\n",
    "Name: 333, dtype: int64"
   ]
  },
  {
   "cell_type": "markdown",
   "id": "d8cea457",
   "metadata": {},
   "source": [
    "nombre_infected       805\n",
    "nombre_sain          2204\n",
    "nombre_exposed        412\n",
    "nombre_recovered    16579\n",
    "Name: 334, dtype: int64"
   ]
  },
  {
   "cell_type": "markdown",
   "id": "58a3e5b8",
   "metadata": {},
   "source": [
    "nombre_infected       799\n",
    "nombre_sain          2224\n",
    "nombre_exposed        427\n",
    "nombre_recovered    16550\n",
    "Name: 335, dtype: int64"
   ]
  },
  {
   "cell_type": "markdown",
   "id": "7db24a60",
   "metadata": {},
   "source": [
    "nombre_infected       808\n",
    "nombre_sain          2253\n",
    "nombre_exposed        408\n",
    "nombre_recovered    16531\n",
    "Name: 336, dtype: int64"
   ]
  },
  {
   "cell_type": "markdown",
   "id": "29fa5a93",
   "metadata": {},
   "source": [
    "nombre_infected       797\n",
    "nombre_sain          2297\n",
    "nombre_exposed        411\n",
    "nombre_recovered    16495\n",
    "Name: 337, dtype: int64"
   ]
  },
  {
   "cell_type": "markdown",
   "id": "f7f08064",
   "metadata": {},
   "source": [
    "nombre_infected       798\n",
    "nombre_sain          2338\n",
    "nombre_exposed        398\n",
    "nombre_recovered    16466\n",
    "Name: 338, dtype: int64"
   ]
  },
  {
   "cell_type": "markdown",
   "id": "43725553",
   "metadata": {},
   "source": [
    "nombre_infected       801\n",
    "nombre_sain          2364\n",
    "nombre_exposed        421\n",
    "nombre_recovered    16414\n",
    "Name: 339, dtype: int64"
   ]
  },
  {
   "cell_type": "markdown",
   "id": "33cd78b8",
   "metadata": {},
   "source": [
    "nombre_infected       815\n",
    "nombre_sain          2382\n",
    "nombre_exposed        406\n",
    "nombre_recovered    16397\n",
    "Name: 340, dtype: int64"
   ]
  },
  {
   "cell_type": "markdown",
   "id": "d66c550e",
   "metadata": {},
   "source": [
    "nombre_infected       797\n",
    "nombre_sain          2383\n",
    "nombre_exposed        430\n",
    "nombre_recovered    16390\n",
    "Name: 341, dtype: int64"
   ]
  },
  {
   "cell_type": "markdown",
   "id": "407ba6ae",
   "metadata": {},
   "source": [
    "nombre_infected       801\n",
    "nombre_sain          2380\n",
    "nombre_exposed        439\n",
    "nombre_recovered    16380\n",
    "Name: 342, dtype: int64"
   ]
  },
  {
   "cell_type": "markdown",
   "id": "17b3222e",
   "metadata": {},
   "source": [
    "nombre_infected       802\n",
    "nombre_sain          2371\n",
    "nombre_exposed        449\n",
    "nombre_recovered    16378\n",
    "Name: 343, dtype: int64"
   ]
  },
  {
   "cell_type": "markdown",
   "id": "5035ce54",
   "metadata": {},
   "source": [
    "nombre_infected       789\n",
    "nombre_sain          2376\n",
    "nombre_exposed        470\n",
    "nombre_recovered    16365\n",
    "Name: 344, dtype: int64"
   ]
  },
  {
   "cell_type": "markdown",
   "id": "4b89690f",
   "metadata": {},
   "source": [
    "nombre_infected       829\n",
    "nombre_sain          2384\n",
    "nombre_exposed        454\n",
    "nombre_recovered    16333\n",
    "Name: 345, dtype: int64"
   ]
  },
  {
   "cell_type": "markdown",
   "id": "dfb13224",
   "metadata": {},
   "source": [
    "nombre_infected       830\n",
    "nombre_sain          2409\n",
    "nombre_exposed        451\n",
    "nombre_recovered    16310\n",
    "Name: 346, dtype: int64"
   ]
  },
  {
   "cell_type": "markdown",
   "id": "a38cb7b9",
   "metadata": {},
   "source": [
    "nombre_infected       834\n",
    "nombre_sain          2419\n",
    "nombre_exposed        448\n",
    "nombre_recovered    16299\n",
    "Name: 347, dtype: int64"
   ]
  },
  {
   "cell_type": "markdown",
   "id": "81994441",
   "metadata": {},
   "source": [
    "nombre_infected       843\n",
    "nombre_sain          2408\n",
    "nombre_exposed        464\n",
    "nombre_recovered    16285\n",
    "Name: 348, dtype: int64"
   ]
  },
  {
   "cell_type": "markdown",
   "id": "9eb61130",
   "metadata": {},
   "source": [
    "nombre_infected       843\n",
    "nombre_sain          2427\n",
    "nombre_exposed        478\n",
    "nombre_recovered    16252\n",
    "Name: 349, dtype: int64"
   ]
  },
  {
   "cell_type": "markdown",
   "id": "c2495ea2",
   "metadata": {},
   "source": [
    "nombre_infected       835\n",
    "nombre_sain          2432\n",
    "nombre_exposed        483\n",
    "nombre_recovered    16250\n",
    "Name: 350, dtype: int64"
   ]
  },
  {
   "cell_type": "markdown",
   "id": "10ed7c28",
   "metadata": {},
   "source": [
    "nombre_infected       862\n",
    "nombre_sain          2442\n",
    "nombre_exposed        464\n",
    "nombre_recovered    16232\n",
    "Name: 351, dtype: int64"
   ]
  },
  {
   "cell_type": "markdown",
   "id": "79b3dbd7",
   "metadata": {},
   "source": [
    "nombre_infected       845\n",
    "nombre_sain          2453\n",
    "nombre_exposed        462\n",
    "nombre_recovered    16240\n",
    "Name: 352, dtype: int64"
   ]
  },
  {
   "cell_type": "markdown",
   "id": "8b0fcbe6",
   "metadata": {},
   "source": [
    "nombre_infected       837\n",
    "nombre_sain          2452\n",
    "nombre_exposed        468\n",
    "nombre_recovered    16243\n",
    "Name: 353, dtype: int64"
   ]
  },
  {
   "cell_type": "markdown",
   "id": "18269a13",
   "metadata": {},
   "source": [
    "nombre_infected       847\n",
    "nombre_sain          2448\n",
    "nombre_exposed        486\n",
    "nombre_recovered    16219\n",
    "Name: 354, dtype: int64"
   ]
  },
  {
   "cell_type": "markdown",
   "id": "4ae0d10c",
   "metadata": {},
   "source": [
    "nombre_infected       853\n",
    "nombre_sain          2437\n",
    "nombre_exposed        499\n",
    "nombre_recovered    16211\n",
    "Name: 355, dtype: int64"
   ]
  },
  {
   "cell_type": "markdown",
   "id": "03bd07df",
   "metadata": {},
   "source": [
    "nombre_infected       862\n",
    "nombre_sain          2450\n",
    "nombre_exposed        513\n",
    "nombre_recovered    16175\n",
    "Name: 356, dtype: int64"
   ]
  },
  {
   "cell_type": "markdown",
   "id": "5ef70459",
   "metadata": {},
   "source": [
    "nombre_infected       864\n",
    "nombre_sain          2442\n",
    "nombre_exposed        513\n",
    "nombre_recovered    16181\n",
    "Name: 357, dtype: int64"
   ]
  },
  {
   "cell_type": "markdown",
   "id": "c8b6c0b8",
   "metadata": {},
   "source": [
    "nombre_infected       884\n",
    "nombre_sain          2476\n",
    "nombre_exposed        487\n",
    "nombre_recovered    16153\n",
    "Name: 358, dtype: int64"
   ]
  },
  {
   "cell_type": "markdown",
   "id": "3784f79c",
   "metadata": {},
   "source": [
    "nombre_infected       881\n",
    "nombre_sain          2473\n",
    "nombre_exposed        499\n",
    "nombre_recovered    16147\n",
    "Name: 359, dtype: int64"
   ]
  },
  {
   "cell_type": "markdown",
   "id": "a0ae1d59",
   "metadata": {},
   "source": [
    "nombre_infected       876\n",
    "nombre_sain          2467\n",
    "nombre_exposed        510\n",
    "nombre_recovered    16147\n",
    "Name: 360, dtype: int64"
   ]
  },
  {
   "cell_type": "markdown",
   "id": "37f01d13",
   "metadata": {},
   "source": [
    "nombre_infected       887\n",
    "nombre_sain          2473\n",
    "nombre_exposed        504\n",
    "nombre_recovered    16136\n",
    "Name: 361, dtype: int64"
   ]
  },
  {
   "cell_type": "markdown",
   "id": "90efc15a",
   "metadata": {},
   "source": [
    "nombre_infected       936\n",
    "nombre_sain          2475\n",
    "nombre_exposed        496\n",
    "nombre_recovered    16093\n",
    "Name: 362, dtype: int64"
   ]
  },
  {
   "cell_type": "markdown",
   "id": "b54adc1b",
   "metadata": {},
   "source": [
    "nombre_infected       910\n",
    "nombre_sain          2466\n",
    "nombre_exposed        529\n",
    "nombre_recovered    16095\n",
    "Name: 363, dtype: int64"
   ]
  },
  {
   "cell_type": "markdown",
   "id": "c0305406",
   "metadata": {},
   "source": [
    "nombre_infected       917\n",
    "nombre_sain          2458\n",
    "nombre_exposed        539\n",
    "nombre_recovered    16086\n",
    "Name: 364, dtype: int64"
   ]
  },
  {
   "cell_type": "markdown",
   "id": "6a35e410",
   "metadata": {},
   "source": [
    "nombre_infected       949\n",
    "nombre_sain          2454\n",
    "nombre_exposed        529\n",
    "nombre_recovered    16068\n",
    "Name: 365, dtype: int64"
   ]
  },
  {
   "cell_type": "markdown",
   "id": "fdf1b95d",
   "metadata": {},
   "source": [
    "nombre_infected       967\n",
    "nombre_sain          2444\n",
    "nombre_exposed        514\n",
    "nombre_recovered    16075\n",
    "Name: 366, dtype: int64"
   ]
  },
  {
   "cell_type": "markdown",
   "id": "9261a1fc",
   "metadata": {},
   "source": [
    "nombre_infected       961\n",
    "nombre_sain          2423\n",
    "nombre_exposed        540\n",
    "nombre_recovered    16076\n",
    "Name: 367, dtype: int64"
   ]
  },
  {
   "cell_type": "markdown",
   "id": "819629f2",
   "metadata": {},
   "source": [
    "nombre_infected       956\n",
    "nombre_sain          2394\n",
    "nombre_exposed        558\n",
    "nombre_recovered    16092\n",
    "Name: 368, dtype: int64"
   ]
  },
  {
   "cell_type": "markdown",
   "id": "34e577ec",
   "metadata": {},
   "source": [
    "nombre_infected       982\n",
    "nombre_sain          2367\n",
    "nombre_exposed        550\n",
    "nombre_recovered    16101\n",
    "Name: 369, dtype: int64"
   ]
  },
  {
   "cell_type": "markdown",
   "id": "a2b7781c",
   "metadata": {},
   "source": [
    "nombre_infected      1002\n",
    "nombre_sain          2384\n",
    "nombre_exposed        535\n",
    "nombre_recovered    16079\n",
    "Name: 370, dtype: int64"
   ]
  },
  {
   "cell_type": "markdown",
   "id": "6fad49e0",
   "metadata": {},
   "source": [
    "nombre_infected      1000\n",
    "nombre_sain          2336\n",
    "nombre_exposed        551\n",
    "nombre_recovered    16113\n",
    "Name: 371, dtype: int64"
   ]
  },
  {
   "cell_type": "markdown",
   "id": "70dd34da",
   "metadata": {},
   "source": [
    "nombre_infected       990\n",
    "nombre_sain          2320\n",
    "nombre_exposed        574\n",
    "nombre_recovered    16116\n",
    "Name: 372, dtype: int64"
   ]
  },
  {
   "cell_type": "markdown",
   "id": "2a58fe9e",
   "metadata": {},
   "source": [
    "nombre_infected      1035\n",
    "nombre_sain          2300\n",
    "nombre_exposed        550\n",
    "nombre_recovered    16115\n",
    "Name: 373, dtype: int64"
   ]
  },
  {
   "cell_type": "markdown",
   "id": "cfd2b3e8",
   "metadata": {},
   "source": [
    "nombre_infected      1041\n",
    "nombre_sain          2278\n",
    "nombre_exposed        560\n",
    "nombre_recovered    16121\n",
    "Name: 374, dtype: int64"
   ]
  },
  {
   "cell_type": "markdown",
   "id": "79165d1a",
   "metadata": {},
   "source": [
    "nombre_infected      1030\n",
    "nombre_sain          2278\n",
    "nombre_exposed        576\n",
    "nombre_recovered    16116\n",
    "Name: 375, dtype: int64"
   ]
  },
  {
   "cell_type": "markdown",
   "id": "7e842a4f",
   "metadata": {},
   "source": [
    "nombre_infected      1010\n",
    "nombre_sain          2264\n",
    "nombre_exposed        584\n",
    "nombre_recovered    16142\n",
    "Name: 376, dtype: int64"
   ]
  },
  {
   "cell_type": "markdown",
   "id": "ffddf27e",
   "metadata": {},
   "source": [
    "nombre_infected       992\n",
    "nombre_sain          2251\n",
    "nombre_exposed        588\n",
    "nombre_recovered    16169\n",
    "Name: 377, dtype: int64"
   ]
  },
  {
   "cell_type": "markdown",
   "id": "a7699b1b",
   "metadata": {},
   "source": [
    "nombre_infected       991\n",
    "nombre_sain          2261\n",
    "nombre_exposed        568\n",
    "nombre_recovered    16180\n",
    "Name: 378, dtype: int64"
   ]
  },
  {
   "cell_type": "markdown",
   "id": "1e34ae4c",
   "metadata": {},
   "source": [
    "nombre_infected       980\n",
    "nombre_sain          2262\n",
    "nombre_exposed        576\n",
    "nombre_recovered    16182\n",
    "Name: 379, dtype: int64"
   ]
  },
  {
   "cell_type": "markdown",
   "id": "67ec385e",
   "metadata": {},
   "source": [
    "nombre_infected       990\n",
    "nombre_sain          2261\n",
    "nombre_exposed        568\n",
    "nombre_recovered    16181\n",
    "Name: 380, dtype: int64"
   ]
  },
  {
   "cell_type": "markdown",
   "id": "8f5114df",
   "metadata": {},
   "source": [
    "nombre_infected       999\n",
    "nombre_sain          2259\n",
    "nombre_exposed        565\n",
    "nombre_recovered    16177\n",
    "Name: 381, dtype: int64"
   ]
  },
  {
   "cell_type": "markdown",
   "id": "a9b059ca",
   "metadata": {},
   "source": [
    "nombre_infected       985\n",
    "nombre_sain          2253\n",
    "nombre_exposed        577\n",
    "nombre_recovered    16185\n",
    "Name: 382, dtype: int64"
   ]
  },
  {
   "cell_type": "markdown",
   "id": "17ea23b3",
   "metadata": {},
   "source": [
    "nombre_infected       977\n",
    "nombre_sain          2273\n",
    "nombre_exposed        557\n",
    "nombre_recovered    16193\n",
    "Name: 383, dtype: int64"
   ]
  },
  {
   "cell_type": "markdown",
   "id": "e545e50c",
   "metadata": {},
   "source": [
    "nombre_infected       974\n",
    "nombre_sain          2263\n",
    "nombre_exposed        561\n",
    "nombre_recovered    16202\n",
    "Name: 384, dtype: int64"
   ]
  },
  {
   "cell_type": "markdown",
   "id": "1faf77ae",
   "metadata": {},
   "source": [
    "nombre_infected       957\n",
    "nombre_sain          2217\n",
    "nombre_exposed        591\n",
    "nombre_recovered    16235\n",
    "Name: 385, dtype: int64"
   ]
  },
  {
   "cell_type": "markdown",
   "id": "bcf8b5b9",
   "metadata": {},
   "source": [
    "nombre_infected       942\n",
    "nombre_sain          2201\n",
    "nombre_exposed        588\n",
    "nombre_recovered    16269\n",
    "Name: 386, dtype: int64"
   ]
  },
  {
   "cell_type": "markdown",
   "id": "29ee2a8d",
   "metadata": {},
   "source": [
    "nombre_infected       927\n",
    "nombre_sain          2206\n",
    "nombre_exposed        575\n",
    "nombre_recovered    16292\n",
    "Name: 387, dtype: int64"
   ]
  },
  {
   "cell_type": "markdown",
   "id": "d9f8fcb2",
   "metadata": {},
   "source": [
    "nombre_infected       918\n",
    "nombre_sain          2215\n",
    "nombre_exposed        543\n",
    "nombre_recovered    16324\n",
    "Name: 388, dtype: int64"
   ]
  },
  {
   "cell_type": "markdown",
   "id": "165123e9",
   "metadata": {},
   "source": [
    "nombre_infected       912\n",
    "nombre_sain          2210\n",
    "nombre_exposed        532\n",
    "nombre_recovered    16346\n",
    "Name: 389, dtype: int64"
   ]
  },
  {
   "cell_type": "markdown",
   "id": "d74e1b2b",
   "metadata": {},
   "source": [
    "nombre_infected       882\n",
    "nombre_sain          2224\n",
    "nombre_exposed        523\n",
    "nombre_recovered    16371\n",
    "Name: 390, dtype: int64"
   ]
  },
  {
   "cell_type": "markdown",
   "id": "ef1f8998",
   "metadata": {},
   "source": [
    "nombre_infected       880\n",
    "nombre_sain          2231\n",
    "nombre_exposed        509\n",
    "nombre_recovered    16380\n",
    "Name: 391, dtype: int64"
   ]
  },
  {
   "cell_type": "markdown",
   "id": "412163f8",
   "metadata": {},
   "source": [
    "nombre_infected       909\n",
    "nombre_sain          2248\n",
    "nombre_exposed        486\n",
    "nombre_recovered    16357\n",
    "Name: 392, dtype: int64"
   ]
  },
  {
   "cell_type": "markdown",
   "id": "bfea062c",
   "metadata": {},
   "source": [
    "nombre_infected       893\n",
    "nombre_sain          2245\n",
    "nombre_exposed        494\n",
    "nombre_recovered    16368\n",
    "Name: 393, dtype: int64"
   ]
  },
  {
   "cell_type": "markdown",
   "id": "69a2a9ad",
   "metadata": {},
   "source": [
    "nombre_infected       902\n",
    "nombre_sain          2258\n",
    "nombre_exposed        484\n",
    "nombre_recovered    16356\n",
    "Name: 394, dtype: int64"
   ]
  },
  {
   "cell_type": "markdown",
   "id": "9cdbed23",
   "metadata": {},
   "source": [
    "nombre_infected       874\n",
    "nombre_sain          2267\n",
    "nombre_exposed        495\n",
    "nombre_recovered    16364\n",
    "Name: 395, dtype: int64"
   ]
  },
  {
   "cell_type": "markdown",
   "id": "8a08e859",
   "metadata": {},
   "source": [
    "nombre_infected       881\n",
    "nombre_sain          2274\n",
    "nombre_exposed        496\n",
    "nombre_recovered    16349\n",
    "Name: 396, dtype: int64"
   ]
  },
  {
   "cell_type": "markdown",
   "id": "6b4381cf",
   "metadata": {},
   "source": [
    "nombre_infected       874\n",
    "nombre_sain          2279\n",
    "nombre_exposed        491\n",
    "nombre_recovered    16356\n",
    "Name: 397, dtype: int64"
   ]
  },
  {
   "cell_type": "markdown",
   "id": "be84bf8b",
   "metadata": {},
   "source": [
    "nombre_infected       854\n",
    "nombre_sain          2289\n",
    "nombre_exposed        476\n",
    "nombre_recovered    16381\n",
    "Name: 398, dtype: int64"
   ]
  },
  {
   "cell_type": "markdown",
   "id": "ccfc15d0",
   "metadata": {},
   "source": [
    "nombre_infected       863\n",
    "nombre_sain          2272\n",
    "nombre_exposed        484\n",
    "nombre_recovered    16381\n",
    "Name: 399, dtype: int64"
   ]
  },
  {
   "cell_type": "markdown",
   "id": "3c024009",
   "metadata": {},
   "source": [
    "nombre_infected       852\n",
    "nombre_sain          2294\n",
    "nombre_exposed        475\n",
    "nombre_recovered    16379\n",
    "Name: 400, dtype: int64"
   ]
  },
  {
   "cell_type": "markdown",
   "id": "f28d8989",
   "metadata": {},
   "source": [
    "nombre_infected       830\n",
    "nombre_sain          2278\n",
    "nombre_exposed        512\n",
    "nombre_recovered    16380\n",
    "Name: 401, dtype: int64"
   ]
  },
  {
   "cell_type": "markdown",
   "id": "3f163d4c",
   "metadata": {},
   "source": [
    "nombre_infected       827\n",
    "nombre_sain          2332\n",
    "nombre_exposed        497\n",
    "nombre_recovered    16344\n",
    "Name: 402, dtype: int64"
   ]
  },
  {
   "cell_type": "markdown",
   "id": "461934ef",
   "metadata": {},
   "source": [
    "nombre_infected       812\n",
    "nombre_sain          2324\n",
    "nombre_exposed        524\n",
    "nombre_recovered    16340\n",
    "Name: 403, dtype: int64"
   ]
  },
  {
   "cell_type": "markdown",
   "id": "e27aa59e",
   "metadata": {},
   "source": [
    "nombre_infected       828\n",
    "nombre_sain          2338\n",
    "nombre_exposed        508\n",
    "nombre_recovered    16326\n",
    "Name: 404, dtype: int64"
   ]
  },
  {
   "cell_type": "markdown",
   "id": "4b83a35e",
   "metadata": {},
   "source": [
    "nombre_infected       825\n",
    "nombre_sain          2348\n",
    "nombre_exposed        495\n",
    "nombre_recovered    16332\n",
    "Name: 405, dtype: int64"
   ]
  },
  {
   "cell_type": "markdown",
   "id": "86d12bb3",
   "metadata": {},
   "source": [
    "nombre_infected       820\n",
    "nombre_sain          2347\n",
    "nombre_exposed        500\n",
    "nombre_recovered    16333\n",
    "Name: 406, dtype: int64"
   ]
  },
  {
   "cell_type": "markdown",
   "id": "fd0681e8",
   "metadata": {},
   "source": [
    "nombre_infected       828\n",
    "nombre_sain          2366\n",
    "nombre_exposed        504\n",
    "nombre_recovered    16302\n",
    "Name: 407, dtype: int64"
   ]
  },
  {
   "cell_type": "markdown",
   "id": "53474df9",
   "metadata": {},
   "source": [
    "nombre_infected       829\n",
    "nombre_sain          2406\n",
    "nombre_exposed        486\n",
    "nombre_recovered    16279\n",
    "Name: 408, dtype: int64"
   ]
  },
  {
   "cell_type": "markdown",
   "id": "c36434b6",
   "metadata": {},
   "source": [
    "nombre_infected       843\n",
    "nombre_sain          2463\n",
    "nombre_exposed        470\n",
    "nombre_recovered    16224\n",
    "Name: 409, dtype: int64"
   ]
  },
  {
   "cell_type": "markdown",
   "id": "b2d1c1db",
   "metadata": {},
   "source": [
    "nombre_infected       848\n",
    "nombre_sain          2468\n",
    "nombre_exposed        476\n",
    "nombre_recovered    16208\n",
    "Name: 410, dtype: int64"
   ]
  },
  {
   "cell_type": "markdown",
   "id": "5f8cb722",
   "metadata": {},
   "source": [
    "nombre_infected       860\n",
    "nombre_sain          2451\n",
    "nombre_exposed        488\n",
    "nombre_recovered    16201\n",
    "Name: 411, dtype: int64"
   ]
  },
  {
   "cell_type": "markdown",
   "id": "0604ebcd",
   "metadata": {},
   "source": [
    "nombre_infected       873\n",
    "nombre_sain          2468\n",
    "nombre_exposed        477\n",
    "nombre_recovered    16182\n",
    "Name: 412, dtype: int64"
   ]
  },
  {
   "cell_type": "markdown",
   "id": "374265c3",
   "metadata": {},
   "source": [
    "nombre_infected       857\n",
    "nombre_sain          2467\n",
    "nombre_exposed        507\n",
    "nombre_recovered    16169\n",
    "Name: 413, dtype: int64"
   ]
  },
  {
   "cell_type": "markdown",
   "id": "25d7b932",
   "metadata": {},
   "source": [
    "nombre_infected       841\n",
    "nombre_sain          2502\n",
    "nombre_exposed        517\n",
    "nombre_recovered    16140\n",
    "Name: 414, dtype: int64"
   ]
  },
  {
   "cell_type": "markdown",
   "id": "1430612f",
   "metadata": {},
   "source": [
    "nombre_infected       870\n",
    "nombre_sain          2529\n",
    "nombre_exposed        500\n",
    "nombre_recovered    16101\n",
    "Name: 415, dtype: int64"
   ]
  },
  {
   "cell_type": "markdown",
   "id": "0934c4fa",
   "metadata": {},
   "source": [
    "nombre_infected       865\n",
    "nombre_sain          2520\n",
    "nombre_exposed        523\n",
    "nombre_recovered    16092\n",
    "Name: 416, dtype: int64"
   ]
  },
  {
   "cell_type": "markdown",
   "id": "d318a8f5",
   "metadata": {},
   "source": [
    "nombre_infected       859\n",
    "nombre_sain          2516\n",
    "nombre_exposed        531\n",
    "nombre_recovered    16094\n",
    "Name: 417, dtype: int64"
   ]
  },
  {
   "cell_type": "markdown",
   "id": "e0406f1e",
   "metadata": {},
   "source": [
    "nombre_infected       885\n",
    "nombre_sain          2516\n",
    "nombre_exposed        522\n",
    "nombre_recovered    16077\n",
    "Name: 418, dtype: int64"
   ]
  },
  {
   "cell_type": "markdown",
   "id": "604e1637",
   "metadata": {},
   "source": [
    "nombre_infected       860\n",
    "nombre_sain          2523\n",
    "nombre_exposed        547\n",
    "nombre_recovered    16070\n",
    "Name: 419, dtype: int64"
   ]
  },
  {
   "cell_type": "markdown",
   "id": "cccad462",
   "metadata": {},
   "source": [
    "nombre_infected       895\n",
    "nombre_sain          2535\n",
    "nombre_exposed        527\n",
    "nombre_recovered    16043\n",
    "Name: 420, dtype: int64"
   ]
  },
  {
   "cell_type": "markdown",
   "id": "bfa36580",
   "metadata": {},
   "source": [
    "nombre_infected       904\n",
    "nombre_sain          2547\n",
    "nombre_exposed        523\n",
    "nombre_recovered    16026\n",
    "Name: 421, dtype: int64"
   ]
  },
  {
   "cell_type": "markdown",
   "id": "d70f7710",
   "metadata": {},
   "source": [
    "nombre_infected       886\n",
    "nombre_sain          2545\n",
    "nombre_exposed        540\n",
    "nombre_recovered    16029\n",
    "Name: 422, dtype: int64"
   ]
  },
  {
   "cell_type": "markdown",
   "id": "b11d031c",
   "metadata": {},
   "source": [
    "nombre_infected       879\n",
    "nombre_sain          2534\n",
    "nombre_exposed        565\n",
    "nombre_recovered    16022\n",
    "Name: 423, dtype: int64"
   ]
  },
  {
   "cell_type": "markdown",
   "id": "d5bd7bb2",
   "metadata": {},
   "source": [
    "nombre_infected       891\n",
    "nombre_sain          2509\n",
    "nombre_exposed        589\n",
    "nombre_recovered    16011\n",
    "Name: 424, dtype: int64"
   ]
  },
  {
   "cell_type": "markdown",
   "id": "1d05d836",
   "metadata": {},
   "source": [
    "nombre_infected       893\n",
    "nombre_sain          2481\n",
    "nombre_exposed        595\n",
    "nombre_recovered    16031\n",
    "Name: 425, dtype: int64"
   ]
  },
  {
   "cell_type": "markdown",
   "id": "fd2d8a45",
   "metadata": {},
   "source": [
    "nombre_infected       906\n",
    "nombre_sain          2458\n",
    "nombre_exposed        609\n",
    "nombre_recovered    16027\n",
    "Name: 426, dtype: int64"
   ]
  },
  {
   "cell_type": "markdown",
   "id": "54ad2cab",
   "metadata": {},
   "source": [
    "nombre_infected       949\n",
    "nombre_sain          2437\n",
    "nombre_exposed        581\n",
    "nombre_recovered    16033\n",
    "Name: 427, dtype: int64"
   ]
  },
  {
   "cell_type": "markdown",
   "id": "84e7eab7",
   "metadata": {},
   "source": [
    "nombre_infected       949\n",
    "nombre_sain          2439\n",
    "nombre_exposed        579\n",
    "nombre_recovered    16033\n",
    "Name: 428, dtype: int64"
   ]
  },
  {
   "cell_type": "markdown",
   "id": "52bbbb77",
   "metadata": {},
   "source": [
    "nombre_infected       968\n",
    "nombre_sain          2416\n",
    "nombre_exposed        568\n",
    "nombre_recovered    16048\n",
    "Name: 429, dtype: int64"
   ]
  },
  {
   "cell_type": "markdown",
   "id": "1534f7a4",
   "metadata": {},
   "source": [
    "nombre_infected       987\n",
    "nombre_sain          2423\n",
    "nombre_exposed        542\n",
    "nombre_recovered    16048\n",
    "Name: 430, dtype: int64"
   ]
  },
  {
   "cell_type": "markdown",
   "id": "4c94fe05",
   "metadata": {},
   "source": [
    "nombre_infected       977\n",
    "nombre_sain          2402\n",
    "nombre_exposed        564\n",
    "nombre_recovered    16057\n",
    "Name: 431, dtype: int64"
   ]
  },
  {
   "cell_type": "markdown",
   "id": "9b6cca2a",
   "metadata": {},
   "source": [
    "nombre_infected       987\n",
    "nombre_sain          2384\n",
    "nombre_exposed        584\n",
    "nombre_recovered    16045\n",
    "Name: 432, dtype: int64"
   ]
  },
  {
   "cell_type": "markdown",
   "id": "899f815f",
   "metadata": {},
   "source": [
    "nombre_infected       990\n",
    "nombre_sain          2390\n",
    "nombre_exposed        609\n",
    "nombre_recovered    16011\n",
    "Name: 433, dtype: int64"
   ]
  },
  {
   "cell_type": "markdown",
   "id": "5186ba6c",
   "metadata": {},
   "source": [
    "nombre_infected      1023\n",
    "nombre_sain          2396\n",
    "nombre_exposed        584\n",
    "nombre_recovered    15997\n",
    "Name: 434, dtype: int64"
   ]
  },
  {
   "cell_type": "markdown",
   "id": "ce52e48b",
   "metadata": {},
   "source": [
    "nombre_infected      1026\n",
    "nombre_sain          2405\n",
    "nombre_exposed        599\n",
    "nombre_recovered    15970\n",
    "Name: 435, dtype: int64"
   ]
  },
  {
   "cell_type": "markdown",
   "id": "15312ccd",
   "metadata": {},
   "source": [
    "nombre_infected      1016\n",
    "nombre_sain          2365\n",
    "nombre_exposed        632\n",
    "nombre_recovered    15987\n",
    "Name: 436, dtype: int64"
   ]
  },
  {
   "cell_type": "markdown",
   "id": "c6d913c9",
   "metadata": {},
   "source": [
    "nombre_infected      1025\n",
    "nombre_sain          2391\n",
    "nombre_exposed        607\n",
    "nombre_recovered    15977\n",
    "Name: 437, dtype: int64"
   ]
  },
  {
   "cell_type": "markdown",
   "id": "f0420c7f",
   "metadata": {},
   "source": [
    "nombre_infected      1047\n",
    "nombre_sain          2364\n",
    "nombre_exposed        619\n",
    "nombre_recovered    15970\n",
    "Name: 438, dtype: int64"
   ]
  },
  {
   "cell_type": "markdown",
   "id": "1dd0abab",
   "metadata": {},
   "source": [
    "nombre_infected      1046\n",
    "nombre_sain          2378\n",
    "nombre_exposed        611\n",
    "nombre_recovered    15965\n",
    "Name: 439, dtype: int64"
   ]
  },
  {
   "cell_type": "markdown",
   "id": "9c23d11a",
   "metadata": {},
   "source": [
    "nombre_infected      1056\n",
    "nombre_sain          2400\n",
    "nombre_exposed        599\n",
    "nombre_recovered    15945\n",
    "Name: 440, dtype: int64"
   ]
  },
  {
   "cell_type": "markdown",
   "id": "560b21f1",
   "metadata": {},
   "source": [
    "nombre_infected      1054\n",
    "nombre_sain          2400\n",
    "nombre_exposed        614\n",
    "nombre_recovered    15932\n",
    "Name: 441, dtype: int64"
   ]
  },
  {
   "cell_type": "markdown",
   "id": "c54193c2",
   "metadata": {},
   "source": [
    "nombre_infected      1076\n",
    "nombre_sain          2399\n",
    "nombre_exposed        583\n",
    "nombre_recovered    15942\n",
    "Name: 442, dtype: int64"
   ]
  },
  {
   "cell_type": "markdown",
   "id": "1686ed55",
   "metadata": {},
   "source": [
    "nombre_infected      1093\n",
    "nombre_sain          2356\n",
    "nombre_exposed        610\n",
    "nombre_recovered    15941\n",
    "Name: 443, dtype: int64"
   ]
  },
  {
   "cell_type": "markdown",
   "id": "caab1504",
   "metadata": {},
   "source": [
    "nombre_infected      1092\n",
    "nombre_sain          2346\n",
    "nombre_exposed        661\n",
    "nombre_recovered    15901\n",
    "Name: 444, dtype: int64"
   ]
  },
  {
   "cell_type": "markdown",
   "id": "b5b20466",
   "metadata": {},
   "source": [
    "nombre_infected      1093\n",
    "nombre_sain          2338\n",
    "nombre_exposed        663\n",
    "nombre_recovered    15906\n",
    "Name: 445, dtype: int64"
   ]
  },
  {
   "cell_type": "markdown",
   "id": "bba8ac68",
   "metadata": {},
   "source": [
    "nombre_infected      1122\n",
    "nombre_sain          2323\n",
    "nombre_exposed        635\n",
    "nombre_recovered    15920\n",
    "Name: 446, dtype: int64"
   ]
  },
  {
   "cell_type": "markdown",
   "id": "563f36c0",
   "metadata": {},
   "source": [
    "nombre_infected      1147\n",
    "nombre_sain          2289\n",
    "nombre_exposed        634\n",
    "nombre_recovered    15930\n",
    "Name: 447, dtype: int64"
   ]
  },
  {
   "cell_type": "markdown",
   "id": "2716f386",
   "metadata": {},
   "source": [
    "nombre_infected      1161\n",
    "nombre_sain          2263\n",
    "nombre_exposed        650\n",
    "nombre_recovered    15926\n",
    "Name: 448, dtype: int64"
   ]
  },
  {
   "cell_type": "markdown",
   "id": "96823aac",
   "metadata": {},
   "source": [
    "nombre_infected      1171\n",
    "nombre_sain          2241\n",
    "nombre_exposed        650\n",
    "nombre_recovered    15938\n",
    "Name: 449, dtype: int64"
   ]
  },
  {
   "cell_type": "markdown",
   "id": "7659a159",
   "metadata": {},
   "source": [
    "nombre_infected      1165\n",
    "nombre_sain          2195\n",
    "nombre_exposed        653\n",
    "nombre_recovered    15987\n",
    "Name: 450, dtype: int64"
   ]
  },
  {
   "cell_type": "markdown",
   "id": "35a15117",
   "metadata": {},
   "source": [
    "nombre_infected      1188\n",
    "nombre_sain          2187\n",
    "nombre_exposed        637\n",
    "nombre_recovered    15988\n",
    "Name: 451, dtype: int64"
   ]
  },
  {
   "cell_type": "markdown",
   "id": "2a70007c",
   "metadata": {},
   "source": [
    "nombre_infected      1171\n",
    "nombre_sain          2184\n",
    "nombre_exposed        626\n",
    "nombre_recovered    16019\n",
    "Name: 452, dtype: int64"
   ]
  },
  {
   "cell_type": "markdown",
   "id": "dacaeddc",
   "metadata": {},
   "source": [
    "nombre_infected      1188\n",
    "nombre_sain          2135\n",
    "nombre_exposed        633\n",
    "nombre_recovered    16044\n",
    "Name: 453, dtype: int64"
   ]
  },
  {
   "cell_type": "markdown",
   "id": "68f64e33",
   "metadata": {},
   "source": [
    "nombre_infected      1180\n",
    "nombre_sain          2140\n",
    "nombre_exposed        625\n",
    "nombre_recovered    16055\n",
    "Name: 454, dtype: int64"
   ]
  },
  {
   "cell_type": "markdown",
   "id": "79b80898",
   "metadata": {},
   "source": [
    "nombre_infected      1184\n",
    "nombre_sain          2120\n",
    "nombre_exposed        624\n",
    "nombre_recovered    16072\n",
    "Name: 455, dtype: int64"
   ]
  },
  {
   "cell_type": "markdown",
   "id": "09907873",
   "metadata": {},
   "source": [
    "nombre_infected      1201\n",
    "nombre_sain          2101\n",
    "nombre_exposed        618\n",
    "nombre_recovered    16080\n",
    "Name: 456, dtype: int64"
   ]
  },
  {
   "cell_type": "markdown",
   "id": "784e842b",
   "metadata": {},
   "source": [
    "nombre_infected      1196\n",
    "nombre_sain          2060\n",
    "nombre_exposed        627\n",
    "nombre_recovered    16117\n",
    "Name: 457, dtype: int64"
   ]
  },
  {
   "cell_type": "markdown",
   "id": "73b6343d",
   "metadata": {},
   "source": [
    "nombre_infected      1213\n",
    "nombre_sain          2023\n",
    "nombre_exposed        625\n",
    "nombre_recovered    16139\n",
    "Name: 458, dtype: int64"
   ]
  },
  {
   "cell_type": "markdown",
   "id": "b9c9a053",
   "metadata": {},
   "source": [
    "nombre_infected      1226\n",
    "nombre_sain          2017\n",
    "nombre_exposed        620\n",
    "nombre_recovered    16137\n",
    "Name: 459, dtype: int64"
   ]
  },
  {
   "cell_type": "markdown",
   "id": "7c45e3af",
   "metadata": {},
   "source": [
    "nombre_infected      1185\n",
    "nombre_sain          1994\n",
    "nombre_exposed        639\n",
    "nombre_recovered    16182\n",
    "Name: 460, dtype: int64"
   ]
  },
  {
   "cell_type": "markdown",
   "id": "f053b2a3",
   "metadata": {},
   "source": [
    "nombre_infected      1197\n",
    "nombre_sain          1968\n",
    "nombre_exposed        639\n",
    "nombre_recovered    16196\n",
    "Name: 461, dtype: int64"
   ]
  },
  {
   "cell_type": "markdown",
   "id": "c75794b7",
   "metadata": {},
   "source": [
    "nombre_infected      1214\n",
    "nombre_sain          1962\n",
    "nombre_exposed        612\n",
    "nombre_recovered    16212\n",
    "Name: 462, dtype: int64"
   ]
  },
  {
   "cell_type": "markdown",
   "id": "0cfd0a9b",
   "metadata": {},
   "source": [
    "nombre_infected      1215\n",
    "nombre_sain          1948\n",
    "nombre_exposed        605\n",
    "nombre_recovered    16232\n",
    "Name: 463, dtype: int64"
   ]
  },
  {
   "cell_type": "markdown",
   "id": "0347b03d",
   "metadata": {},
   "source": [
    "nombre_infected      1207\n",
    "nombre_sain          1964\n",
    "nombre_exposed        589\n",
    "nombre_recovered    16240\n",
    "Name: 464, dtype: int64"
   ]
  },
  {
   "cell_type": "markdown",
   "id": "0f75543b",
   "metadata": {},
   "source": [
    "nombre_infected      1178\n",
    "nombre_sain          1966\n",
    "nombre_exposed        615\n",
    "nombre_recovered    16241\n",
    "Name: 465, dtype: int64"
   ]
  },
  {
   "cell_type": "markdown",
   "id": "35c6119c",
   "metadata": {},
   "source": [
    "nombre_infected      1139\n",
    "nombre_sain          1968\n",
    "nombre_exposed        610\n",
    "nombre_recovered    16283\n",
    "Name: 466, dtype: int64"
   ]
  },
  {
   "cell_type": "markdown",
   "id": "67e621cd",
   "metadata": {},
   "source": [
    "nombre_infected      1134\n",
    "nombre_sain          1969\n",
    "nombre_exposed        597\n",
    "nombre_recovered    16300\n",
    "Name: 467, dtype: int64"
   ]
  },
  {
   "cell_type": "markdown",
   "id": "6fb28064",
   "metadata": {},
   "source": [
    "nombre_infected      1143\n",
    "nombre_sain          1984\n",
    "nombre_exposed        576\n",
    "nombre_recovered    16297\n",
    "Name: 468, dtype: int64"
   ]
  },
  {
   "cell_type": "markdown",
   "id": "9d1bf460",
   "metadata": {},
   "source": [
    "nombre_infected      1104\n",
    "nombre_sain          2003\n",
    "nombre_exposed        589\n",
    "nombre_recovered    16304\n",
    "Name: 469, dtype: int64"
   ]
  },
  {
   "cell_type": "markdown",
   "id": "9b291a77",
   "metadata": {},
   "source": [
    "nombre_infected      1113\n",
    "nombre_sain          2032\n",
    "nombre_exposed        561\n",
    "nombre_recovered    16294\n",
    "Name: 470, dtype: int64"
   ]
  },
  {
   "cell_type": "markdown",
   "id": "3875b8de",
   "metadata": {},
   "source": [
    "nombre_infected      1077\n",
    "nombre_sain          2040\n",
    "nombre_exposed        566\n",
    "nombre_recovered    16317\n",
    "Name: 471, dtype: int64"
   ]
  },
  {
   "cell_type": "markdown",
   "id": "fc78b970",
   "metadata": {},
   "source": [
    "nombre_infected      1072\n",
    "nombre_sain          2055\n",
    "nombre_exposed        554\n",
    "nombre_recovered    16319\n",
    "Name: 472, dtype: int64"
   ]
  },
  {
   "cell_type": "markdown",
   "id": "59fb6c65",
   "metadata": {},
   "source": [
    "nombre_infected      1063\n",
    "nombre_sain          2070\n",
    "nombre_exposed        553\n",
    "nombre_recovered    16314\n",
    "Name: 473, dtype: int64"
   ]
  },
  {
   "cell_type": "markdown",
   "id": "f61a6446",
   "metadata": {},
   "source": [
    "nombre_infected      1072\n",
    "nombre_sain          2068\n",
    "nombre_exposed        550\n",
    "nombre_recovered    16310\n",
    "Name: 474, dtype: int64"
   ]
  },
  {
   "cell_type": "markdown",
   "id": "0c56bdfa",
   "metadata": {},
   "source": [
    "nombre_infected      1083\n",
    "nombre_sain          2089\n",
    "nombre_exposed        523\n",
    "nombre_recovered    16305\n",
    "Name: 475, dtype: int64"
   ]
  },
  {
   "cell_type": "markdown",
   "id": "c975538e",
   "metadata": {},
   "source": [
    "nombre_infected      1076\n",
    "nombre_sain          2108\n",
    "nombre_exposed        525\n",
    "nombre_recovered    16291\n",
    "Name: 476, dtype: int64"
   ]
  },
  {
   "cell_type": "markdown",
   "id": "9d7fef7f",
   "metadata": {},
   "source": [
    "nombre_infected      1050\n",
    "nombre_sain          2129\n",
    "nombre_exposed        526\n",
    "nombre_recovered    16295\n",
    "Name: 477, dtype: int64"
   ]
  },
  {
   "cell_type": "markdown",
   "id": "a7958957",
   "metadata": {},
   "source": [
    "nombre_infected      1034\n",
    "nombre_sain          2157\n",
    "nombre_exposed        546\n",
    "nombre_recovered    16263\n",
    "Name: 478, dtype: int64"
   ]
  },
  {
   "cell_type": "markdown",
   "id": "9306727b",
   "metadata": {},
   "source": [
    "nombre_infected      1035\n",
    "nombre_sain          2163\n",
    "nombre_exposed        550\n",
    "nombre_recovered    16252\n",
    "Name: 479, dtype: int64"
   ]
  },
  {
   "cell_type": "markdown",
   "id": "2625b32f",
   "metadata": {},
   "source": [
    "nombre_infected      1028\n",
    "nombre_sain          2141\n",
    "nombre_exposed        565\n",
    "nombre_recovered    16266\n",
    "Name: 480, dtype: int64"
   ]
  },
  {
   "cell_type": "markdown",
   "id": "dfe5e2a4",
   "metadata": {},
   "source": [
    "nombre_infected      1045\n",
    "nombre_sain          2151\n",
    "nombre_exposed        543\n",
    "nombre_recovered    16261\n",
    "Name: 481, dtype: int64"
   ]
  },
  {
   "cell_type": "markdown",
   "id": "1af6aa44",
   "metadata": {},
   "source": [
    "nombre_infected      1019\n",
    "nombre_sain          2141\n",
    "nombre_exposed        561\n",
    "nombre_recovered    16279\n",
    "Name: 482, dtype: int64"
   ]
  },
  {
   "cell_type": "markdown",
   "id": "622f4a55",
   "metadata": {},
   "source": [
    "nombre_infected       994\n",
    "nombre_sain          2155\n",
    "nombre_exposed        577\n",
    "nombre_recovered    16274\n",
    "Name: 483, dtype: int64"
   ]
  },
  {
   "cell_type": "markdown",
   "id": "772d9310",
   "metadata": {},
   "source": [
    "nombre_infected      1003\n",
    "nombre_sain          2176\n",
    "nombre_exposed        550\n",
    "nombre_recovered    16271\n",
    "Name: 484, dtype: int64"
   ]
  },
  {
   "cell_type": "markdown",
   "id": "f671f083",
   "metadata": {},
   "source": [
    "nombre_infected       992\n",
    "nombre_sain          2159\n",
    "nombre_exposed        541\n",
    "nombre_recovered    16308\n",
    "Name: 485, dtype: int64"
   ]
  },
  {
   "cell_type": "markdown",
   "id": "d02fd3d5",
   "metadata": {},
   "source": [
    "nombre_infected       964\n",
    "nombre_sain          2109\n",
    "nombre_exposed        592\n",
    "nombre_recovered    16335\n",
    "Name: 486, dtype: int64"
   ]
  },
  {
   "cell_type": "markdown",
   "id": "48831c6c",
   "metadata": {},
   "source": [
    "nombre_infected       982\n",
    "nombre_sain          2111\n",
    "nombre_exposed        548\n",
    "nombre_recovered    16359\n",
    "Name: 487, dtype: int64"
   ]
  },
  {
   "cell_type": "markdown",
   "id": "ed3feece",
   "metadata": {},
   "source": [
    "nombre_infected       974\n",
    "nombre_sain          2109\n",
    "nombre_exposed        547\n",
    "nombre_recovered    16370\n",
    "Name: 488, dtype: int64"
   ]
  },
  {
   "cell_type": "markdown",
   "id": "bb201208",
   "metadata": {},
   "source": [
    "nombre_infected       977\n",
    "nombre_sain          2146\n",
    "nombre_exposed        520\n",
    "nombre_recovered    16357\n",
    "Name: 489, dtype: int64"
   ]
  },
  {
   "cell_type": "markdown",
   "id": "33589061",
   "metadata": {},
   "source": [
    "nombre_infected       986\n",
    "nombre_sain          2138\n",
    "nombre_exposed        512\n",
    "nombre_recovered    16364\n",
    "Name: 490, dtype: int64"
   ]
  },
  {
   "cell_type": "markdown",
   "id": "3c5558f1",
   "metadata": {},
   "source": [
    "nombre_infected       951\n",
    "nombre_sain          2122\n",
    "nombre_exposed        550\n",
    "nombre_recovered    16377\n",
    "Name: 491, dtype: int64"
   ]
  },
  {
   "cell_type": "markdown",
   "id": "e5eaaf8f",
   "metadata": {},
   "source": [
    "nombre_infected       938\n",
    "nombre_sain          2131\n",
    "nombre_exposed        562\n",
    "nombre_recovered    16369\n",
    "Name: 492, dtype: int64"
   ]
  },
  {
   "cell_type": "markdown",
   "id": "684299dd",
   "metadata": {},
   "source": [
    "nombre_infected       963\n",
    "nombre_sain          2152\n",
    "nombre_exposed        552\n",
    "nombre_recovered    16333\n",
    "Name: 493, dtype: int64"
   ]
  },
  {
   "cell_type": "markdown",
   "id": "792ee69b",
   "metadata": {},
   "source": [
    "nombre_infected       962\n",
    "nombre_sain          2168\n",
    "nombre_exposed        537\n",
    "nombre_recovered    16333\n",
    "Name: 494, dtype: int64"
   ]
  },
  {
   "cell_type": "markdown",
   "id": "ae66034c",
   "metadata": {},
   "source": [
    "nombre_infected       966\n",
    "nombre_sain          2194\n",
    "nombre_exposed        501\n",
    "nombre_recovered    16339\n",
    "Name: 495, dtype: int64"
   ]
  },
  {
   "cell_type": "markdown",
   "id": "14ed375b",
   "metadata": {},
   "source": [
    "nombre_infected       977\n",
    "nombre_sain          2231\n",
    "nombre_exposed        484\n",
    "nombre_recovered    16308\n",
    "Name: 496, dtype: int64"
   ]
  },
  {
   "cell_type": "markdown",
   "id": "f1ea1c7e",
   "metadata": {},
   "source": [
    "nombre_infected       955\n",
    "nombre_sain          2260\n",
    "nombre_exposed        488\n",
    "nombre_recovered    16297\n",
    "Name: 497, dtype: int64"
   ]
  },
  {
   "cell_type": "markdown",
   "id": "6b2326ac",
   "metadata": {},
   "source": [
    "nombre_infected       932\n",
    "nombre_sain          2260\n",
    "nombre_exposed        520\n",
    "nombre_recovered    16288\n",
    "Name: 498, dtype: int64"
   ]
  },
  {
   "cell_type": "markdown",
   "id": "8894805c",
   "metadata": {},
   "source": [
    "nombre_infected       914\n",
    "nombre_sain          2280\n",
    "nombre_exposed        515\n",
    "nombre_recovered    16291\n",
    "Name: 499, dtype: int64"
   ]
  },
  {
   "cell_type": "markdown",
   "id": "c23fe8bc",
   "metadata": {},
   "source": [
    "nombre_infected       928\n",
    "nombre_sain          2301\n",
    "nombre_exposed        516\n",
    "nombre_recovered    16255\n",
    "Name: 500, dtype: int64"
   ]
  },
  {
   "cell_type": "markdown",
   "id": "e0255873",
   "metadata": {},
   "source": [
    "nombre_infected       933\n",
    "nombre_sain          2313\n",
    "nombre_exposed        524\n",
    "nombre_recovered    16230\n",
    "Name: 501, dtype: int64"
   ]
  },
  {
   "cell_type": "markdown",
   "id": "0ac54134",
   "metadata": {},
   "source": [
    "nombre_infected       963\n",
    "nombre_sain          2327\n",
    "nombre_exposed        517\n",
    "nombre_recovered    16193\n",
    "Name: 502, dtype: int64"
   ]
  },
  {
   "cell_type": "markdown",
   "id": "d5cb625e",
   "metadata": {},
   "source": [
    "nombre_infected       972\n",
    "nombre_sain          2352\n",
    "nombre_exposed        527\n",
    "nombre_recovered    16149\n",
    "Name: 503, dtype: int64"
   ]
  },
  {
   "cell_type": "markdown",
   "id": "635ccb16",
   "metadata": {},
   "source": [
    "nombre_infected       960\n",
    "nombre_sain          2375\n",
    "nombre_exposed        518\n",
    "nombre_recovered    16147\n",
    "Name: 504, dtype: int64"
   ]
  },
  {
   "cell_type": "markdown",
   "id": "93fed773",
   "metadata": {},
   "source": [
    "nombre_infected       964\n",
    "nombre_sain          2389\n",
    "nombre_exposed        533\n",
    "nombre_recovered    16114\n",
    "Name: 505, dtype: int64"
   ]
  },
  {
   "cell_type": "markdown",
   "id": "42ed469e",
   "metadata": {},
   "source": [
    "nombre_infected       964\n",
    "nombre_sain          2416\n",
    "nombre_exposed        518\n",
    "nombre_recovered    16102\n",
    "Name: 506, dtype: int64"
   ]
  },
  {
   "cell_type": "markdown",
   "id": "480a2ac6",
   "metadata": {},
   "source": [
    "nombre_infected       976\n",
    "nombre_sain          2419\n",
    "nombre_exposed        544\n",
    "nombre_recovered    16061\n",
    "Name: 507, dtype: int64"
   ]
  },
  {
   "cell_type": "markdown",
   "id": "61fdec47",
   "metadata": {},
   "source": [
    "nombre_infected       954\n",
    "nombre_sain          2425\n",
    "nombre_exposed        588\n",
    "nombre_recovered    16033\n",
    "Name: 508, dtype: int64"
   ]
  },
  {
   "cell_type": "markdown",
   "id": "79e50f3e",
   "metadata": {},
   "source": [
    "nombre_infected       960\n",
    "nombre_sain          2441\n",
    "nombre_exposed        575\n",
    "nombre_recovered    16024\n",
    "Name: 509, dtype: int64"
   ]
  },
  {
   "cell_type": "markdown",
   "id": "99d12a30",
   "metadata": {},
   "source": [
    "nombre_infected       993\n",
    "nombre_sain          2442\n",
    "nombre_exposed        559\n",
    "nombre_recovered    16006\n",
    "Name: 510, dtype: int64"
   ]
  },
  {
   "cell_type": "markdown",
   "id": "de17bc16",
   "metadata": {},
   "source": [
    "nombre_infected       991\n",
    "nombre_sain          2442\n",
    "nombre_exposed        583\n",
    "nombre_recovered    15984\n",
    "Name: 511, dtype: int64"
   ]
  },
  {
   "cell_type": "markdown",
   "id": "06d0fcb5",
   "metadata": {},
   "source": [
    "nombre_infected       984\n",
    "nombre_sain          2473\n",
    "nombre_exposed        568\n",
    "nombre_recovered    15975\n",
    "Name: 512, dtype: int64"
   ]
  },
  {
   "cell_type": "markdown",
   "id": "8c804596",
   "metadata": {},
   "source": [
    "nombre_infected       964\n",
    "nombre_sain          2487\n",
    "nombre_exposed        572\n",
    "nombre_recovered    15977\n",
    "Name: 513, dtype: int64"
   ]
  },
  {
   "cell_type": "markdown",
   "id": "c943f64e",
   "metadata": {},
   "source": [
    "nombre_infected       988\n",
    "nombre_sain          2506\n",
    "nombre_exposed        563\n",
    "nombre_recovered    15943\n",
    "Name: 514, dtype: int64"
   ]
  },
  {
   "cell_type": "markdown",
   "id": "ce1d5572",
   "metadata": {},
   "source": [
    "nombre_infected       998\n",
    "nombre_sain          2524\n",
    "nombre_exposed        582\n",
    "nombre_recovered    15896\n",
    "Name: 515, dtype: int64"
   ]
  },
  {
   "cell_type": "markdown",
   "id": "c015e128",
   "metadata": {},
   "source": [
    "nombre_infected      1012\n",
    "nombre_sain          2500\n",
    "nombre_exposed        601\n",
    "nombre_recovered    15887\n",
    "Name: 516, dtype: int64"
   ]
  },
  {
   "cell_type": "markdown",
   "id": "e7d98730",
   "metadata": {},
   "source": [
    "nombre_infected      1023\n",
    "nombre_sain          2479\n",
    "nombre_exposed        602\n",
    "nombre_recovered    15896\n",
    "Name: 517, dtype: int64"
   ]
  },
  {
   "cell_type": "markdown",
   "id": "e23f8220",
   "metadata": {},
   "source": [
    "nombre_infected      1024\n",
    "nombre_sain          2468\n",
    "nombre_exposed        619\n",
    "nombre_recovered    15889\n",
    "Name: 518, dtype: int64"
   ]
  },
  {
   "cell_type": "markdown",
   "id": "6fe9670f",
   "metadata": {},
   "source": [
    "nombre_infected      1026\n",
    "nombre_sain          2474\n",
    "nombre_exposed        629\n",
    "nombre_recovered    15871\n",
    "Name: 519, dtype: int64"
   ]
  },
  {
   "cell_type": "markdown",
   "id": "a68546b2",
   "metadata": {},
   "source": [
    "nombre_infected      1035\n",
    "nombre_sain          2454\n",
    "nombre_exposed        634\n",
    "nombre_recovered    15877\n",
    "Name: 520, dtype: int64"
   ]
  },
  {
   "cell_type": "markdown",
   "id": "0e717a98",
   "metadata": {},
   "source": [
    "nombre_infected      1043\n",
    "nombre_sain          2429\n",
    "nombre_exposed        650\n",
    "nombre_recovered    15878\n",
    "Name: 521, dtype: int64"
   ]
  },
  {
   "cell_type": "markdown",
   "id": "be111f48",
   "metadata": {},
   "source": [
    "nombre_infected      1050\n",
    "nombre_sain          2416\n",
    "nombre_exposed        637\n",
    "nombre_recovered    15897\n",
    "Name: 522, dtype: int64"
   ]
  },
  {
   "cell_type": "markdown",
   "id": "52805d4b",
   "metadata": {},
   "source": [
    "nombre_infected      1072\n",
    "nombre_sain          2368\n",
    "nombre_exposed        638\n",
    "nombre_recovered    15922\n",
    "Name: 523, dtype: int64"
   ]
  },
  {
   "cell_type": "markdown",
   "id": "2dbd080b",
   "metadata": {},
   "source": [
    "nombre_infected      1084\n",
    "nombre_sain          2355\n",
    "nombre_exposed        635\n",
    "nombre_recovered    15926\n",
    "Name: 524, dtype: int64"
   ]
  },
  {
   "cell_type": "markdown",
   "id": "d4ee88e0",
   "metadata": {},
   "source": [
    "nombre_infected      1105\n",
    "nombre_sain          2325\n",
    "nombre_exposed        653\n",
    "nombre_recovered    15917\n",
    "Name: 525, dtype: int64"
   ]
  },
  {
   "cell_type": "markdown",
   "id": "fd3c1b18",
   "metadata": {},
   "source": [
    "nombre_infected      1109\n",
    "nombre_sain          2311\n",
    "nombre_exposed        655\n",
    "nombre_recovered    15925\n",
    "Name: 526, dtype: int64"
   ]
  },
  {
   "cell_type": "markdown",
   "id": "409a9898",
   "metadata": {},
   "source": [
    "nombre_infected      1112\n",
    "nombre_sain          2264\n",
    "nombre_exposed        683\n",
    "nombre_recovered    15941\n",
    "Name: 527, dtype: int64"
   ]
  },
  {
   "cell_type": "markdown",
   "id": "b2d5b80e",
   "metadata": {},
   "source": [
    "nombre_infected      1123\n",
    "nombre_sain          2278\n",
    "nombre_exposed        667\n",
    "nombre_recovered    15932\n",
    "Name: 528, dtype: int64"
   ]
  },
  {
   "cell_type": "markdown",
   "id": "4a83cbc8",
   "metadata": {},
   "source": [
    "nombre_infected      1129\n",
    "nombre_sain          2275\n",
    "nombre_exposed        641\n",
    "nombre_recovered    15955\n",
    "Name: 529, dtype: int64"
   ]
  },
  {
   "cell_type": "markdown",
   "id": "c673d64e",
   "metadata": {},
   "source": [
    "nombre_infected      1148\n",
    "nombre_sain          2242\n",
    "nombre_exposed        627\n",
    "nombre_recovered    15983\n",
    "Name: 530, dtype: int64"
   ]
  },
  {
   "cell_type": "markdown",
   "id": "04680b7f",
   "metadata": {},
   "source": [
    "nombre_infected      1194\n",
    "nombre_sain          2206\n",
    "nombre_exposed        617\n",
    "nombre_recovered    15983\n",
    "Name: 531, dtype: int64"
   ]
  },
  {
   "cell_type": "markdown",
   "id": "7f9a7063",
   "metadata": {},
   "source": [
    "nombre_infected      1188\n",
    "nombre_sain          2175\n",
    "nombre_exposed        619\n",
    "nombre_recovered    16018\n",
    "Name: 532, dtype: int64"
   ]
  },
  {
   "cell_type": "markdown",
   "id": "4bcb22de",
   "metadata": {},
   "source": [
    "nombre_infected      1191\n",
    "nombre_sain          2134\n",
    "nombre_exposed        631\n",
    "nombre_recovered    16044\n",
    "Name: 533, dtype: int64"
   ]
  },
  {
   "cell_type": "markdown",
   "id": "9a69c841",
   "metadata": {},
   "source": [
    "nombre_infected      1198\n",
    "nombre_sain          2098\n",
    "nombre_exposed        645\n",
    "nombre_recovered    16059\n",
    "Name: 534, dtype: int64"
   ]
  },
  {
   "cell_type": "markdown",
   "id": "c39bde23",
   "metadata": {},
   "source": [
    "nombre_infected      1172\n",
    "nombre_sain          2073\n",
    "nombre_exposed        664\n",
    "nombre_recovered    16091\n",
    "Name: 535, dtype: int64"
   ]
  },
  {
   "cell_type": "markdown",
   "id": "93bdcea1",
   "metadata": {},
   "source": [
    "nombre_infected      1180\n",
    "nombre_sain          2049\n",
    "nombre_exposed        648\n",
    "nombre_recovered    16123\n",
    "Name: 536, dtype: int64"
   ]
  },
  {
   "cell_type": "markdown",
   "id": "258ad79c",
   "metadata": {},
   "source": [
    "nombre_infected      1195\n",
    "nombre_sain          2059\n",
    "nombre_exposed        602\n",
    "nombre_recovered    16144\n",
    "Name: 537, dtype: int64"
   ]
  },
  {
   "cell_type": "markdown",
   "id": "ec770ffa",
   "metadata": {},
   "source": [
    "nombre_infected      1202\n",
    "nombre_sain          2050\n",
    "nombre_exposed        590\n",
    "nombre_recovered    16158\n",
    "Name: 538, dtype: int64"
   ]
  },
  {
   "cell_type": "markdown",
   "id": "883ca432",
   "metadata": {},
   "source": [
    "nombre_infected      1179\n",
    "nombre_sain          2051\n",
    "nombre_exposed        588\n",
    "nombre_recovered    16182\n",
    "Name: 539, dtype: int64"
   ]
  },
  {
   "cell_type": "markdown",
   "id": "efc62ce7",
   "metadata": {},
   "source": [
    "nombre_infected      1192\n",
    "nombre_sain          2036\n",
    "nombre_exposed        580\n",
    "nombre_recovered    16192\n",
    "Name: 540, dtype: int64"
   ]
  },
  {
   "cell_type": "markdown",
   "id": "9ddca409",
   "metadata": {},
   "source": [
    "nombre_infected      1198\n",
    "nombre_sain          2004\n",
    "nombre_exposed        591\n",
    "nombre_recovered    16207\n",
    "Name: 541, dtype: int64"
   ]
  },
  {
   "cell_type": "markdown",
   "id": "41755f1e",
   "metadata": {},
   "source": [
    "nombre_infected      1162\n",
    "nombre_sain          1998\n",
    "nombre_exposed        607\n",
    "nombre_recovered    16233\n",
    "Name: 542, dtype: int64"
   ]
  },
  {
   "cell_type": "markdown",
   "id": "fcfe494a",
   "metadata": {},
   "source": [
    "nombre_infected      1134\n",
    "nombre_sain          1981\n",
    "nombre_exposed        609\n",
    "nombre_recovered    16276\n",
    "Name: 543, dtype: int64"
   ]
  },
  {
   "cell_type": "markdown",
   "id": "158cea4c",
   "metadata": {},
   "source": [
    "nombre_infected      1128\n",
    "nombre_sain          1967\n",
    "nombre_exposed        596\n",
    "nombre_recovered    16309\n",
    "Name: 544, dtype: int64"
   ]
  },
  {
   "cell_type": "markdown",
   "id": "0ac3e614",
   "metadata": {},
   "source": [
    "nombre_infected      1128\n",
    "nombre_sain          1947\n",
    "nombre_exposed        576\n",
    "nombre_recovered    16349\n",
    "Name: 545, dtype: int64"
   ]
  },
  {
   "cell_type": "markdown",
   "id": "909c20e8",
   "metadata": {},
   "source": [
    "nombre_infected      1150\n",
    "nombre_sain          1971\n",
    "nombre_exposed        522\n",
    "nombre_recovered    16357\n",
    "Name: 546, dtype: int64"
   ]
  },
  {
   "cell_type": "markdown",
   "id": "0731d73c",
   "metadata": {},
   "source": [
    "nombre_infected      1130\n",
    "nombre_sain          1952\n",
    "nombre_exposed        531\n",
    "nombre_recovered    16387\n",
    "Name: 547, dtype: int64"
   ]
  },
  {
   "cell_type": "markdown",
   "id": "e3503c8c",
   "metadata": {},
   "source": [
    "nombre_infected      1103\n",
    "nombre_sain          1952\n",
    "nombre_exposed        533\n",
    "nombre_recovered    16412\n",
    "Name: 548, dtype: int64"
   ]
  },
  {
   "cell_type": "markdown",
   "id": "1a780c88",
   "metadata": {},
   "source": [
    "nombre_infected      1067\n",
    "nombre_sain          1957\n",
    "nombre_exposed        532\n",
    "nombre_recovered    16444\n",
    "Name: 549, dtype: int64"
   ]
  },
  {
   "cell_type": "markdown",
   "id": "6d1c2c87",
   "metadata": {},
   "source": [
    "nombre_infected      1057\n",
    "nombre_sain          1965\n",
    "nombre_exposed        507\n",
    "nombre_recovered    16471\n",
    "Name: 550, dtype: int64"
   ]
  },
  {
   "cell_type": "markdown",
   "id": "990908ff",
   "metadata": {},
   "source": [
    "nombre_infected      1028\n",
    "nombre_sain          1977\n",
    "nombre_exposed        510\n",
    "nombre_recovered    16485\n",
    "Name: 551, dtype: int64"
   ]
  },
  {
   "cell_type": "markdown",
   "id": "1617ab95",
   "metadata": {},
   "source": [
    "nombre_infected      1006\n",
    "nombre_sain          1991\n",
    "nombre_exposed        530\n",
    "nombre_recovered    16473\n",
    "Name: 552, dtype: int64"
   ]
  },
  {
   "cell_type": "markdown",
   "id": "d6fae750",
   "metadata": {},
   "source": [
    "nombre_infected       987\n",
    "nombre_sain          1988\n",
    "nombre_exposed        509\n",
    "nombre_recovered    16516\n",
    "Name: 553, dtype: int64"
   ]
  },
  {
   "cell_type": "markdown",
   "id": "f48c5e6d",
   "metadata": {},
   "source": [
    "nombre_infected       965\n",
    "nombre_sain          1982\n",
    "nombre_exposed        518\n",
    "nombre_recovered    16535\n",
    "Name: 554, dtype: int64"
   ]
  },
  {
   "cell_type": "markdown",
   "id": "a104c4af",
   "metadata": {},
   "source": [
    "nombre_infected       974\n",
    "nombre_sain          2005\n",
    "nombre_exposed        504\n",
    "nombre_recovered    16517\n",
    "Name: 555, dtype: int64"
   ]
  },
  {
   "cell_type": "markdown",
   "id": "e8d83bcd",
   "metadata": {},
   "source": [
    "nombre_infected       980\n",
    "nombre_sain          2020\n",
    "nombre_exposed        494\n",
    "nombre_recovered    16506\n",
    "Name: 556, dtype: int64"
   ]
  },
  {
   "cell_type": "markdown",
   "id": "2e57bb41",
   "metadata": {},
   "source": [
    "nombre_infected       966\n",
    "nombre_sain          2045\n",
    "nombre_exposed        483\n",
    "nombre_recovered    16506\n",
    "Name: 557, dtype: int64"
   ]
  },
  {
   "cell_type": "markdown",
   "id": "003c2f42",
   "metadata": {},
   "source": [
    "nombre_infected       959\n",
    "nombre_sain          2091\n",
    "nombre_exposed        472\n",
    "nombre_recovered    16478\n",
    "Name: 558, dtype: int64"
   ]
  },
  {
   "cell_type": "markdown",
   "id": "79974038",
   "metadata": {},
   "source": [
    "nombre_infected       949\n",
    "nombre_sain          2122\n",
    "nombre_exposed        457\n",
    "nombre_recovered    16472\n",
    "Name: 559, dtype: int64"
   ]
  },
  {
   "cell_type": "markdown",
   "id": "41e3cc96",
   "metadata": {},
   "source": [
    "nombre_infected       922\n",
    "nombre_sain          2169\n",
    "nombre_exposed        441\n",
    "nombre_recovered    16468\n",
    "Name: 560, dtype: int64"
   ]
  },
  {
   "cell_type": "markdown",
   "id": "54acd0fb",
   "metadata": {},
   "source": [
    "nombre_infected       933\n",
    "nombre_sain          2183\n",
    "nombre_exposed        437\n",
    "nombre_recovered    16447\n",
    "Name: 561, dtype: int64"
   ]
  },
  {
   "cell_type": "markdown",
   "id": "aee9e977",
   "metadata": {},
   "source": [
    "nombre_infected       903\n",
    "nombre_sain          2206\n",
    "nombre_exposed        456\n",
    "nombre_recovered    16435\n",
    "Name: 562, dtype: int64"
   ]
  },
  {
   "cell_type": "markdown",
   "id": "ac68fe60",
   "metadata": {},
   "source": [
    "nombre_infected       860\n",
    "nombre_sain          2211\n",
    "nombre_exposed        495\n",
    "nombre_recovered    16434\n",
    "Name: 563, dtype: int64"
   ]
  },
  {
   "cell_type": "markdown",
   "id": "3b8de4ae",
   "metadata": {},
   "source": [
    "nombre_infected       866\n",
    "nombre_sain          2241\n",
    "nombre_exposed        497\n",
    "nombre_recovered    16396\n",
    "Name: 564, dtype: int64"
   ]
  },
  {
   "cell_type": "markdown",
   "id": "bc9c40f9",
   "metadata": {},
   "source": [
    "nombre_infected       860\n",
    "nombre_sain          2253\n",
    "nombre_exposed        535\n",
    "nombre_recovered    16352\n",
    "Name: 565, dtype: int64"
   ]
  },
  {
   "cell_type": "markdown",
   "id": "f57696c3",
   "metadata": {},
   "source": [
    "nombre_infected       875\n",
    "nombre_sain          2281\n",
    "nombre_exposed        531\n",
    "nombre_recovered    16313\n",
    "Name: 566, dtype: int64"
   ]
  },
  {
   "cell_type": "markdown",
   "id": "eb2dc560",
   "metadata": {},
   "source": [
    "nombre_infected       885\n",
    "nombre_sain          2300\n",
    "nombre_exposed        546\n",
    "nombre_recovered    16269\n",
    "Name: 567, dtype: int64"
   ]
  },
  {
   "cell_type": "markdown",
   "id": "0d28590a",
   "metadata": {},
   "source": [
    "nombre_infected       867\n",
    "nombre_sain          2304\n",
    "nombre_exposed        538\n",
    "nombre_recovered    16291\n",
    "Name: 568, dtype: int64"
   ]
  },
  {
   "cell_type": "markdown",
   "id": "58414a3c",
   "metadata": {},
   "source": [
    "nombre_infected       877\n",
    "nombre_sain          2316\n",
    "nombre_exposed        528\n",
    "nombre_recovered    16279\n",
    "Name: 569, dtype: int64"
   ]
  },
  {
   "cell_type": "markdown",
   "id": "01ea2b58",
   "metadata": {},
   "source": [
    "nombre_infected       901\n",
    "nombre_sain          2313\n",
    "nombre_exposed        504\n",
    "nombre_recovered    16282\n",
    "Name: 570, dtype: int64"
   ]
  },
  {
   "cell_type": "markdown",
   "id": "06c888ad",
   "metadata": {},
   "source": [
    "nombre_infected       875\n",
    "nombre_sain          2316\n",
    "nombre_exposed        511\n",
    "nombre_recovered    16298\n",
    "Name: 571, dtype: int64"
   ]
  },
  {
   "cell_type": "markdown",
   "id": "06f8cdc5",
   "metadata": {},
   "source": [
    "nombre_infected       847\n",
    "nombre_sain          2326\n",
    "nombre_exposed        530\n",
    "nombre_recovered    16297\n",
    "Name: 572, dtype: int64"
   ]
  },
  {
   "cell_type": "markdown",
   "id": "1b383df7",
   "metadata": {},
   "source": [
    "nombre_infected       849\n",
    "nombre_sain          2334\n",
    "nombre_exposed        530\n",
    "nombre_recovered    16287\n",
    "Name: 573, dtype: int64"
   ]
  },
  {
   "cell_type": "markdown",
   "id": "3dfbda86",
   "metadata": {},
   "source": [
    "nombre_infected       885\n",
    "nombre_sain          2356\n",
    "nombre_exposed        509\n",
    "nombre_recovered    16250\n",
    "Name: 574, dtype: int64"
   ]
  },
  {
   "cell_type": "markdown",
   "id": "a57facd4",
   "metadata": {},
   "source": [
    "nombre_infected       880\n",
    "nombre_sain          2360\n",
    "nombre_exposed        503\n",
    "nombre_recovered    16257\n",
    "Name: 575, dtype: int64"
   ]
  },
  {
   "cell_type": "markdown",
   "id": "b657eb7a",
   "metadata": {},
   "source": [
    "nombre_infected       876\n",
    "nombre_sain          2337\n",
    "nombre_exposed        526\n",
    "nombre_recovered    16261\n",
    "Name: 576, dtype: int64"
   ]
  },
  {
   "cell_type": "markdown",
   "id": "9907c207",
   "metadata": {},
   "source": [
    "nombre_infected       858\n",
    "nombre_sain          2350\n",
    "nombre_exposed        539\n",
    "nombre_recovered    16253\n",
    "Name: 577, dtype: int64"
   ]
  },
  {
   "cell_type": "markdown",
   "id": "95a2c329",
   "metadata": {},
   "source": [
    "nombre_infected       876\n",
    "nombre_sain          2365\n",
    "nombre_exposed        541\n",
    "nombre_recovered    16218\n",
    "Name: 578, dtype: int64"
   ]
  },
  {
   "cell_type": "markdown",
   "id": "884e0573",
   "metadata": {},
   "source": [
    "nombre_infected       884\n",
    "nombre_sain          2359\n",
    "nombre_exposed        539\n",
    "nombre_recovered    16218\n",
    "Name: 579, dtype: int64"
   ]
  },
  {
   "cell_type": "markdown",
   "id": "b5bc825f",
   "metadata": {},
   "source": [
    "nombre_infected       882\n",
    "nombre_sain          2361\n",
    "nombre_exposed        545\n",
    "nombre_recovered    16212\n",
    "Name: 580, dtype: int64"
   ]
  },
  {
   "cell_type": "markdown",
   "id": "073e2e9e",
   "metadata": {},
   "source": [
    "nombre_infected       895\n",
    "nombre_sain          2383\n",
    "nombre_exposed        523\n",
    "nombre_recovered    16199\n",
    "Name: 581, dtype: int64"
   ]
  },
  {
   "cell_type": "markdown",
   "id": "e6d81f90",
   "metadata": {},
   "source": [
    "nombre_infected       893\n",
    "nombre_sain          2362\n",
    "nombre_exposed        514\n",
    "nombre_recovered    16231\n",
    "Name: 582, dtype: int64"
   ]
  },
  {
   "cell_type": "markdown",
   "id": "a4f359a3",
   "metadata": {},
   "source": [
    "nombre_infected       895\n",
    "nombre_sain          2364\n",
    "nombre_exposed        510\n",
    "nombre_recovered    16231\n",
    "Name: 583, dtype: int64"
   ]
  },
  {
   "cell_type": "markdown",
   "id": "d704b7d3",
   "metadata": {},
   "source": [
    "nombre_infected       909\n",
    "nombre_sain          2346\n",
    "nombre_exposed        520\n",
    "nombre_recovered    16225\n",
    "Name: 584, dtype: int64"
   ]
  },
  {
   "cell_type": "markdown",
   "id": "4cd9e0d2",
   "metadata": {},
   "source": [
    "nombre_infected       900\n",
    "nombre_sain          2349\n",
    "nombre_exposed        518\n",
    "nombre_recovered    16233\n",
    "Name: 585, dtype: int64"
   ]
  },
  {
   "cell_type": "markdown",
   "id": "a23bec88",
   "metadata": {},
   "source": [
    "nombre_infected       911\n",
    "nombre_sain          2359\n",
    "nombre_exposed        510\n",
    "nombre_recovered    16220\n",
    "Name: 586, dtype: int64"
   ]
  },
  {
   "cell_type": "markdown",
   "id": "bb9286aa",
   "metadata": {},
   "source": [
    "nombre_infected       898\n",
    "nombre_sain          2347\n",
    "nombre_exposed        509\n",
    "nombre_recovered    16246\n",
    "Name: 587, dtype: int64"
   ]
  },
  {
   "cell_type": "markdown",
   "id": "0f3b2a5d",
   "metadata": {},
   "source": [
    "nombre_infected       905\n",
    "nombre_sain          2357\n",
    "nombre_exposed        505\n",
    "nombre_recovered    16233\n",
    "Name: 588, dtype: int64"
   ]
  },
  {
   "cell_type": "markdown",
   "id": "6f467edd",
   "metadata": {},
   "source": [
    "nombre_infected       909\n",
    "nombre_sain          2341\n",
    "nombre_exposed        520\n",
    "nombre_recovered    16230\n",
    "Name: 589, dtype: int64"
   ]
  },
  {
   "cell_type": "markdown",
   "id": "3b794943",
   "metadata": {},
   "source": [
    "nombre_infected       895\n",
    "nombre_sain          2349\n",
    "nombre_exposed        520\n",
    "nombre_recovered    16236\n",
    "Name: 590, dtype: int64"
   ]
  },
  {
   "cell_type": "markdown",
   "id": "5b25dc98",
   "metadata": {},
   "source": [
    "nombre_infected       929\n",
    "nombre_sain          2374\n",
    "nombre_exposed        513\n",
    "nombre_recovered    16184\n",
    "Name: 591, dtype: int64"
   ]
  },
  {
   "cell_type": "markdown",
   "id": "e32eb9ca",
   "metadata": {},
   "source": [
    "nombre_infected       912\n",
    "nombre_sain          2360\n",
    "nombre_exposed        515\n",
    "nombre_recovered    16213\n",
    "Name: 592, dtype: int64"
   ]
  },
  {
   "cell_type": "markdown",
   "id": "d6c2a7e7",
   "metadata": {},
   "source": [
    "nombre_infected       898\n",
    "nombre_sain          2356\n",
    "nombre_exposed        520\n",
    "nombre_recovered    16226\n",
    "Name: 593, dtype: int64"
   ]
  },
  {
   "cell_type": "markdown",
   "id": "053714a2",
   "metadata": {},
   "source": [
    "nombre_infected       919\n",
    "nombre_sain          2347\n",
    "nombre_exposed        514\n",
    "nombre_recovered    16220\n",
    "Name: 594, dtype: int64"
   ]
  },
  {
   "cell_type": "markdown",
   "id": "8106fb2a",
   "metadata": {},
   "source": [
    "nombre_infected       895\n",
    "nombre_sain          2337\n",
    "nombre_exposed        522\n",
    "nombre_recovered    16246\n",
    "Name: 595, dtype: int64"
   ]
  },
  {
   "cell_type": "markdown",
   "id": "302de7d4",
   "metadata": {},
   "source": [
    "nombre_infected       921\n",
    "nombre_sain          2333\n",
    "nombre_exposed        510\n",
    "nombre_recovered    16236\n",
    "Name: 596, dtype: int64"
   ]
  },
  {
   "cell_type": "markdown",
   "id": "56c0f9e3",
   "metadata": {},
   "source": [
    "nombre_infected       908\n",
    "nombre_sain          2309\n",
    "nombre_exposed        522\n",
    "nombre_recovered    16261\n",
    "Name: 597, dtype: int64"
   ]
  },
  {
   "cell_type": "markdown",
   "id": "8595a08c",
   "metadata": {},
   "source": [
    "nombre_infected       924\n",
    "nombre_sain          2302\n",
    "nombre_exposed        529\n",
    "nombre_recovered    16245\n",
    "Name: 598, dtype: int64"
   ]
  },
  {
   "cell_type": "markdown",
   "id": "7deb84c6",
   "metadata": {},
   "source": [
    "nombre_infected       905\n",
    "nombre_sain          2294\n",
    "nombre_exposed        545\n",
    "nombre_recovered    16256\n",
    "Name: 599, dtype: int64"
   ]
  },
  {
   "cell_type": "markdown",
   "id": "f51fce1c",
   "metadata": {},
   "source": [
    "nombre_infected       909\n",
    "nombre_sain          2276\n",
    "nombre_exposed        543\n",
    "nombre_recovered    16272\n",
    "Name: 600, dtype: int64"
   ]
  },
  {
   "cell_type": "markdown",
   "id": "5493c984",
   "metadata": {},
   "source": [
    "nombre_infected       910\n",
    "nombre_sain          2279\n",
    "nombre_exposed        523\n",
    "nombre_recovered    16288\n",
    "Name: 601, dtype: int64"
   ]
  },
  {
   "cell_type": "markdown",
   "id": "2bdbc86a",
   "metadata": {},
   "source": [
    "nombre_infected       916\n",
    "nombre_sain          2258\n",
    "nombre_exposed        542\n",
    "nombre_recovered    16284\n",
    "Name: 602, dtype: int64"
   ]
  },
  {
   "cell_type": "markdown",
   "id": "a11057b4",
   "metadata": {},
   "source": [
    "nombre_infected       924\n",
    "nombre_sain          2289\n",
    "nombre_exposed        527\n",
    "nombre_recovered    16260\n",
    "Name: 603, dtype: int64"
   ]
  },
  {
   "cell_type": "markdown",
   "id": "f6f2bcd4",
   "metadata": {},
   "source": [
    "nombre_infected       929\n",
    "nombre_sain          2304\n",
    "nombre_exposed        528\n",
    "nombre_recovered    16239\n",
    "Name: 604, dtype: int64"
   ]
  },
  {
   "cell_type": "markdown",
   "id": "56f089c2",
   "metadata": {},
   "source": [
    "nombre_infected       931\n",
    "nombre_sain          2313\n",
    "nombre_exposed        540\n",
    "nombre_recovered    16216\n",
    "Name: 605, dtype: int64"
   ]
  },
  {
   "cell_type": "markdown",
   "id": "c5647150",
   "metadata": {},
   "source": [
    "nombre_infected       927\n",
    "nombre_sain          2318\n",
    "nombre_exposed        545\n",
    "nombre_recovered    16210\n",
    "Name: 606, dtype: int64"
   ]
  },
  {
   "cell_type": "markdown",
   "id": "452a1ec1",
   "metadata": {},
   "source": [
    "nombre_infected       932\n",
    "nombre_sain          2298\n",
    "nombre_exposed        547\n",
    "nombre_recovered    16223\n",
    "Name: 607, dtype: int64"
   ]
  },
  {
   "cell_type": "markdown",
   "id": "0f381a37",
   "metadata": {},
   "source": [
    "nombre_infected       937\n",
    "nombre_sain          2322\n",
    "nombre_exposed        536\n",
    "nombre_recovered    16205\n",
    "Name: 608, dtype: int64"
   ]
  },
  {
   "cell_type": "markdown",
   "id": "5a685ebc",
   "metadata": {},
   "source": [
    "nombre_infected       949\n",
    "nombre_sain          2349\n",
    "nombre_exposed        523\n",
    "nombre_recovered    16179\n",
    "Name: 609, dtype: int64"
   ]
  },
  {
   "cell_type": "markdown",
   "id": "825c47d2",
   "metadata": {},
   "source": [
    "nombre_infected       944\n",
    "nombre_sain          2365\n",
    "nombre_exposed        515\n",
    "nombre_recovered    16176\n",
    "Name: 610, dtype: int64"
   ]
  },
  {
   "cell_type": "markdown",
   "id": "588e5d14",
   "metadata": {},
   "source": [
    "nombre_infected       942\n",
    "nombre_sain          2380\n",
    "nombre_exposed        507\n",
    "nombre_recovered    16171\n",
    "Name: 611, dtype: int64"
   ]
  },
  {
   "cell_type": "markdown",
   "id": "be2e816b",
   "metadata": {},
   "source": [
    "nombre_infected       931\n",
    "nombre_sain          2359\n",
    "nombre_exposed        534\n",
    "nombre_recovered    16176\n",
    "Name: 612, dtype: int64"
   ]
  },
  {
   "cell_type": "markdown",
   "id": "85e82165",
   "metadata": {},
   "source": [
    "nombre_infected       914\n",
    "nombre_sain          2387\n",
    "nombre_exposed        525\n",
    "nombre_recovered    16174\n",
    "Name: 613, dtype: int64"
   ]
  },
  {
   "cell_type": "markdown",
   "id": "52e7850b",
   "metadata": {},
   "source": [
    "nombre_infected       902\n",
    "nombre_sain          2401\n",
    "nombre_exposed        531\n",
    "nombre_recovered    16166\n",
    "Name: 614, dtype: int64"
   ]
  },
  {
   "cell_type": "markdown",
   "id": "7a37bb23",
   "metadata": {},
   "source": [
    "nombre_infected       910\n",
    "nombre_sain          2415\n",
    "nombre_exposed        548\n",
    "nombre_recovered    16127\n",
    "Name: 615, dtype: int64"
   ]
  },
  {
   "cell_type": "markdown",
   "id": "1410a333",
   "metadata": {},
   "source": [
    "nombre_infected       896\n",
    "nombre_sain          2399\n",
    "nombre_exposed        542\n",
    "nombre_recovered    16163\n",
    "Name: 616, dtype: int64"
   ]
  },
  {
   "cell_type": "markdown",
   "id": "b589b701",
   "metadata": {},
   "source": [
    "nombre_infected       906\n",
    "nombre_sain          2427\n",
    "nombre_exposed        518\n",
    "nombre_recovered    16149\n",
    "Name: 617, dtype: int64"
   ]
  },
  {
   "cell_type": "markdown",
   "id": "a603a9bd",
   "metadata": {},
   "source": [
    "nombre_infected       892\n",
    "nombre_sain          2435\n",
    "nombre_exposed        524\n",
    "nombre_recovered    16149\n",
    "Name: 618, dtype: int64"
   ]
  },
  {
   "cell_type": "markdown",
   "id": "923c9125",
   "metadata": {},
   "source": [
    "nombre_infected       909\n",
    "nombre_sain          2431\n",
    "nombre_exposed        503\n",
    "nombre_recovered    16157\n",
    "Name: 619, dtype: int64"
   ]
  },
  {
   "cell_type": "markdown",
   "id": "6e89e193",
   "metadata": {},
   "source": [
    "nombre_infected       939\n",
    "nombre_sain          2416\n",
    "nombre_exposed        505\n",
    "nombre_recovered    16140\n",
    "Name: 620, dtype: int64"
   ]
  },
  {
   "cell_type": "markdown",
   "id": "443ed876",
   "metadata": {},
   "source": [
    "nombre_infected       932\n",
    "nombre_sain          2390\n",
    "nombre_exposed        533\n",
    "nombre_recovered    16145\n",
    "Name: 621, dtype: int64"
   ]
  },
  {
   "cell_type": "markdown",
   "id": "c2479388",
   "metadata": {},
   "source": [
    "nombre_infected       939\n",
    "nombre_sain          2376\n",
    "nombre_exposed        546\n",
    "nombre_recovered    16139\n",
    "Name: 622, dtype: int64"
   ]
  },
  {
   "cell_type": "markdown",
   "id": "8d747daf",
   "metadata": {},
   "source": [
    "nombre_infected       948\n",
    "nombre_sain          2392\n",
    "nombre_exposed        525\n",
    "nombre_recovered    16135\n",
    "Name: 623, dtype: int64"
   ]
  },
  {
   "cell_type": "markdown",
   "id": "34c98249",
   "metadata": {},
   "source": [
    "nombre_infected       963\n",
    "nombre_sain          2365\n",
    "nombre_exposed        546\n",
    "nombre_recovered    16126\n",
    "Name: 624, dtype: int64"
   ]
  },
  {
   "cell_type": "markdown",
   "id": "c6827849",
   "metadata": {},
   "source": [
    "nombre_infected       954\n",
    "nombre_sain          2363\n",
    "nombre_exposed        571\n",
    "nombre_recovered    16112\n",
    "Name: 625, dtype: int64"
   ]
  },
  {
   "cell_type": "markdown",
   "id": "92daf4af",
   "metadata": {},
   "source": [
    "nombre_infected       962\n",
    "nombre_sain          2361\n",
    "nombre_exposed        553\n",
    "nombre_recovered    16124\n",
    "Name: 626, dtype: int64"
   ]
  },
  {
   "cell_type": "markdown",
   "id": "d31c46db",
   "metadata": {},
   "source": [
    "nombre_infected       982\n",
    "nombre_sain          2359\n",
    "nombre_exposed        549\n",
    "nombre_recovered    16110\n",
    "Name: 627, dtype: int64"
   ]
  },
  {
   "cell_type": "markdown",
   "id": "62cd64e9",
   "metadata": {},
   "source": [
    "nombre_infected       988\n",
    "nombre_sain          2340\n",
    "nombre_exposed        556\n",
    "nombre_recovered    16116\n",
    "Name: 628, dtype: int64"
   ]
  },
  {
   "cell_type": "markdown",
   "id": "68d33e67",
   "metadata": {},
   "source": [
    "nombre_infected       990\n",
    "nombre_sain          2333\n",
    "nombre_exposed        559\n",
    "nombre_recovered    16118\n",
    "Name: 629, dtype: int64"
   ]
  },
  {
   "cell_type": "markdown",
   "id": "24936070",
   "metadata": {},
   "source": [
    "nombre_infected      1002\n",
    "nombre_sain          2346\n",
    "nombre_exposed        540\n",
    "nombre_recovered    16112\n",
    "Name: 630, dtype: int64"
   ]
  },
  {
   "cell_type": "markdown",
   "id": "3f13c180",
   "metadata": {},
   "source": [
    "nombre_infected      1007\n",
    "nombre_sain          2326\n",
    "nombre_exposed        530\n",
    "nombre_recovered    16137\n",
    "Name: 631, dtype: int64"
   ]
  },
  {
   "cell_type": "markdown",
   "id": "5850aca8",
   "metadata": {},
   "source": [
    "nombre_infected      1006\n",
    "nombre_sain          2284\n",
    "nombre_exposed        540\n",
    "nombre_recovered    16170\n",
    "Name: 632, dtype: int64"
   ]
  },
  {
   "cell_type": "markdown",
   "id": "d30f8d9d",
   "metadata": {},
   "source": [
    "nombre_infected      1022\n",
    "nombre_sain          2269\n",
    "nombre_exposed        544\n",
    "nombre_recovered    16165\n",
    "Name: 633, dtype: int64"
   ]
  },
  {
   "cell_type": "markdown",
   "id": "d98771e6",
   "metadata": {},
   "source": [
    "nombre_infected      1029\n",
    "nombre_sain          2269\n",
    "nombre_exposed        558\n",
    "nombre_recovered    16144\n",
    "Name: 634, dtype: int64"
   ]
  },
  {
   "cell_type": "markdown",
   "id": "99a8ddc6",
   "metadata": {},
   "source": [
    "nombre_infected      1030\n",
    "nombre_sain          2261\n",
    "nombre_exposed        564\n",
    "nombre_recovered    16145\n",
    "Name: 635, dtype: int64"
   ]
  },
  {
   "cell_type": "markdown",
   "id": "1cfc2a4e",
   "metadata": {},
   "source": [
    "nombre_infected      1035\n",
    "nombre_sain          2235\n",
    "nombre_exposed        577\n",
    "nombre_recovered    16153\n",
    "Name: 636, dtype: int64"
   ]
  },
  {
   "cell_type": "markdown",
   "id": "5146d674",
   "metadata": {},
   "source": [
    "nombre_infected      1026\n",
    "nombre_sain          2210\n",
    "nombre_exposed        585\n",
    "nombre_recovered    16179\n",
    "Name: 637, dtype: int64"
   ]
  },
  {
   "cell_type": "markdown",
   "id": "c919ef36",
   "metadata": {},
   "source": [
    "nombre_infected      1036\n",
    "nombre_sain          2226\n",
    "nombre_exposed        569\n",
    "nombre_recovered    16169\n",
    "Name: 638, dtype: int64"
   ]
  },
  {
   "cell_type": "markdown",
   "id": "899db94a",
   "metadata": {},
   "source": [
    "nombre_infected      1045\n",
    "nombre_sain          2198\n",
    "nombre_exposed        574\n",
    "nombre_recovered    16183\n",
    "Name: 639, dtype: int64"
   ]
  },
  {
   "cell_type": "markdown",
   "id": "3dc4b942",
   "metadata": {},
   "source": [
    "nombre_infected      1045\n",
    "nombre_sain          2157\n",
    "nombre_exposed        571\n",
    "nombre_recovered    16227\n",
    "Name: 640, dtype: int64"
   ]
  },
  {
   "cell_type": "markdown",
   "id": "407e6c47",
   "metadata": {},
   "source": [
    "nombre_infected      1035\n",
    "nombre_sain          2157\n",
    "nombre_exposed        558\n",
    "nombre_recovered    16250\n",
    "Name: 641, dtype: int64"
   ]
  },
  {
   "cell_type": "markdown",
   "id": "5649ab9d",
   "metadata": {},
   "source": [
    "nombre_infected      1025\n",
    "nombre_sain          2149\n",
    "nombre_exposed        552\n",
    "nombre_recovered    16274\n",
    "Name: 642, dtype: int64"
   ]
  },
  {
   "cell_type": "markdown",
   "id": "dfdc5335",
   "metadata": {},
   "source": [
    "nombre_infected      1031\n",
    "nombre_sain          2144\n",
    "nombre_exposed        550\n",
    "nombre_recovered    16275\n",
    "Name: 643, dtype: int64"
   ]
  },
  {
   "cell_type": "markdown",
   "id": "6ec45af1",
   "metadata": {},
   "source": [
    "nombre_infected      1033\n",
    "nombre_sain          2162\n",
    "nombre_exposed        536\n",
    "nombre_recovered    16269\n",
    "Name: 644, dtype: int64"
   ]
  },
  {
   "cell_type": "markdown",
   "id": "4d0b49ef",
   "metadata": {},
   "source": [
    "nombre_infected      1062\n",
    "nombre_sain          2156\n",
    "nombre_exposed        526\n",
    "nombre_recovered    16256\n",
    "Name: 645, dtype: int64"
   ]
  },
  {
   "cell_type": "markdown",
   "id": "e7aa393a",
   "metadata": {},
   "source": [
    "nombre_infected      1054\n",
    "nombre_sain          2135\n",
    "nombre_exposed        536\n",
    "nombre_recovered    16275\n",
    "Name: 646, dtype: int64"
   ]
  },
  {
   "cell_type": "markdown",
   "id": "2b64b29c",
   "metadata": {},
   "source": [
    "nombre_infected      1051\n",
    "nombre_sain          2140\n",
    "nombre_exposed        517\n",
    "nombre_recovered    16292\n",
    "Name: 647, dtype: int64"
   ]
  },
  {
   "cell_type": "markdown",
   "id": "edefdceb",
   "metadata": {},
   "source": [
    "nombre_infected      1081\n",
    "nombre_sain          2113\n",
    "nombre_exposed        519\n",
    "nombre_recovered    16287\n",
    "Name: 648, dtype: int64"
   ]
  },
  {
   "cell_type": "markdown",
   "id": "035a5b20",
   "metadata": {},
   "source": [
    "nombre_infected      1063\n",
    "nombre_sain          2114\n",
    "nombre_exposed        536\n",
    "nombre_recovered    16287\n",
    "Name: 649, dtype: int64"
   ]
  },
  {
   "cell_type": "markdown",
   "id": "11cfd4ec",
   "metadata": {},
   "source": [
    "nombre_infected      1064\n",
    "nombre_sain          2102\n",
    "nombre_exposed        539\n",
    "nombre_recovered    16295\n",
    "Name: 650, dtype: int64"
   ]
  },
  {
   "cell_type": "markdown",
   "id": "2b58bfab",
   "metadata": {},
   "source": [
    "nombre_infected      1050\n",
    "nombre_sain          2066\n",
    "nombre_exposed        569\n",
    "nombre_recovered    16315\n",
    "Name: 651, dtype: int64"
   ]
  },
  {
   "cell_type": "markdown",
   "id": "751dfb67",
   "metadata": {},
   "source": [
    "nombre_infected      1045\n",
    "nombre_sain          2067\n",
    "nombre_exposed        547\n",
    "nombre_recovered    16341\n",
    "Name: 652, dtype: int64"
   ]
  },
  {
   "cell_type": "markdown",
   "id": "c4a22bce",
   "metadata": {},
   "source": [
    "nombre_infected      1048\n",
    "nombre_sain          2058\n",
    "nombre_exposed        537\n",
    "nombre_recovered    16357\n",
    "Name: 653, dtype: int64"
   ]
  },
  {
   "cell_type": "markdown",
   "id": "5759be87",
   "metadata": {},
   "source": [
    "nombre_infected      1063\n",
    "nombre_sain          2037\n",
    "nombre_exposed        533\n",
    "nombre_recovered    16367\n",
    "Name: 654, dtype: int64"
   ]
  },
  {
   "cell_type": "markdown",
   "id": "6ba248c3",
   "metadata": {},
   "source": [
    "nombre_infected      1055\n",
    "nombre_sain          2057\n",
    "nombre_exposed        524\n",
    "nombre_recovered    16364\n",
    "Name: 655, dtype: int64"
   ]
  },
  {
   "cell_type": "markdown",
   "id": "d6ecec10",
   "metadata": {},
   "source": [
    "nombre_infected      1044\n",
    "nombre_sain          2039\n",
    "nombre_exposed        520\n",
    "nombre_recovered    16397\n",
    "Name: 656, dtype: int64"
   ]
  },
  {
   "cell_type": "markdown",
   "id": "2a74d275",
   "metadata": {},
   "source": [
    "nombre_infected      1055\n",
    "nombre_sain          2059\n",
    "nombre_exposed        508\n",
    "nombre_recovered    16378\n",
    "Name: 657, dtype: int64"
   ]
  },
  {
   "cell_type": "markdown",
   "id": "b6a9ba58",
   "metadata": {},
   "source": [
    "nombre_infected      1053\n",
    "nombre_sain          2062\n",
    "nombre_exposed        499\n",
    "nombre_recovered    16386\n",
    "Name: 658, dtype: int64"
   ]
  },
  {
   "cell_type": "markdown",
   "id": "1eb70fad",
   "metadata": {},
   "source": [
    "nombre_infected      1050\n",
    "nombre_sain          2052\n",
    "nombre_exposed        503\n",
    "nombre_recovered    16395\n",
    "Name: 659, dtype: int64"
   ]
  },
  {
   "cell_type": "markdown",
   "id": "3ab611c0",
   "metadata": {},
   "source": [
    "nombre_infected      1040\n",
    "nombre_sain          2031\n",
    "nombre_exposed        519\n",
    "nombre_recovered    16410\n",
    "Name: 660, dtype: int64"
   ]
  },
  {
   "cell_type": "markdown",
   "id": "7b0096df",
   "metadata": {},
   "source": [
    "nombre_infected      1023\n",
    "nombre_sain          2040\n",
    "nombre_exposed        507\n",
    "nombre_recovered    16430\n",
    "Name: 661, dtype: int64"
   ]
  },
  {
   "cell_type": "markdown",
   "id": "0926b769",
   "metadata": {},
   "source": [
    "nombre_infected      1024\n",
    "nombre_sain          2031\n",
    "nombre_exposed        518\n",
    "nombre_recovered    16427\n",
    "Name: 662, dtype: int64"
   ]
  },
  {
   "cell_type": "markdown",
   "id": "f325e56c",
   "metadata": {},
   "source": [
    "nombre_infected      1039\n",
    "nombre_sain          2040\n",
    "nombre_exposed        502\n",
    "nombre_recovered    16419\n",
    "Name: 663, dtype: int64"
   ]
  },
  {
   "cell_type": "markdown",
   "id": "76443bb8",
   "metadata": {},
   "source": [
    "nombre_infected      1038\n",
    "nombre_sain          2026\n",
    "nombre_exposed        507\n",
    "nombre_recovered    16429\n",
    "Name: 664, dtype: int64"
   ]
  },
  {
   "cell_type": "markdown",
   "id": "37aa80e3",
   "metadata": {},
   "source": [
    "nombre_infected      1046\n",
    "nombre_sain          2008\n",
    "nombre_exposed        518\n",
    "nombre_recovered    16428\n",
    "Name: 665, dtype: int64"
   ]
  },
  {
   "cell_type": "markdown",
   "id": "e0a9a22e",
   "metadata": {},
   "source": [
    "nombre_infected      1026\n",
    "nombre_sain          2036\n",
    "nombre_exposed        522\n",
    "nombre_recovered    16416\n",
    "Name: 666, dtype: int64"
   ]
  },
  {
   "cell_type": "markdown",
   "id": "1fa609e3",
   "metadata": {},
   "source": [
    "nombre_infected      1013\n",
    "nombre_sain          2053\n",
    "nombre_exposed        519\n",
    "nombre_recovered    16415\n",
    "Name: 667, dtype: int64"
   ]
  },
  {
   "cell_type": "markdown",
   "id": "3ddefe34",
   "metadata": {},
   "source": [
    "nombre_infected      1010\n",
    "nombre_sain          2056\n",
    "nombre_exposed        532\n",
    "nombre_recovered    16402\n",
    "Name: 668, dtype: int64"
   ]
  },
  {
   "cell_type": "markdown",
   "id": "311a5e89",
   "metadata": {},
   "source": [
    "nombre_infected      1039\n",
    "nombre_sain          2067\n",
    "nombre_exposed        509\n",
    "nombre_recovered    16385\n",
    "Name: 669, dtype: int64"
   ]
  },
  {
   "cell_type": "markdown",
   "id": "f8b8819a",
   "metadata": {},
   "source": [
    "nombre_infected      1034\n",
    "nombre_sain          2068\n",
    "nombre_exposed        503\n",
    "nombre_recovered    16395\n",
    "Name: 670, dtype: int64"
   ]
  },
  {
   "cell_type": "markdown",
   "id": "b0decb84",
   "metadata": {},
   "source": [
    "nombre_infected      1023\n",
    "nombre_sain          2090\n",
    "nombre_exposed        489\n",
    "nombre_recovered    16398\n",
    "Name: 671, dtype: int64"
   ]
  },
  {
   "cell_type": "markdown",
   "id": "59d0027c",
   "metadata": {},
   "source": [
    "nombre_infected      1028\n",
    "nombre_sain          2105\n",
    "nombre_exposed        478\n",
    "nombre_recovered    16389\n",
    "Name: 672, dtype: int64"
   ]
  },
  {
   "cell_type": "markdown",
   "id": "ad4bb326",
   "metadata": {},
   "source": [
    "nombre_infected      1029\n",
    "nombre_sain          2132\n",
    "nombre_exposed        477\n",
    "nombre_recovered    16362\n",
    "Name: 673, dtype: int64"
   ]
  },
  {
   "cell_type": "markdown",
   "id": "ebd7266a",
   "metadata": {},
   "source": [
    "nombre_infected       998\n",
    "nombre_sain          2127\n",
    "nombre_exposed        517\n",
    "nombre_recovered    16358\n",
    "Name: 674, dtype: int64"
   ]
  },
  {
   "cell_type": "markdown",
   "id": "243a09bc",
   "metadata": {},
   "source": [
    "nombre_infected       969\n",
    "nombre_sain          2140\n",
    "nombre_exposed        520\n",
    "nombre_recovered    16371\n",
    "Name: 675, dtype: int64"
   ]
  },
  {
   "cell_type": "markdown",
   "id": "515f30aa",
   "metadata": {},
   "source": [
    "nombre_infected       966\n",
    "nombre_sain          2158\n",
    "nombre_exposed        523\n",
    "nombre_recovered    16353\n",
    "Name: 676, dtype: int64"
   ]
  },
  {
   "cell_type": "markdown",
   "id": "73707ebf",
   "metadata": {},
   "source": [
    "nombre_infected       972\n",
    "nombre_sain          2159\n",
    "nombre_exposed        532\n",
    "nombre_recovered    16337\n",
    "Name: 677, dtype: int64"
   ]
  },
  {
   "cell_type": "markdown",
   "id": "6cbcdfc2",
   "metadata": {},
   "source": [
    "nombre_infected       985\n",
    "nombre_sain          2150\n",
    "nombre_exposed        542\n",
    "nombre_recovered    16323\n",
    "Name: 678, dtype: int64"
   ]
  },
  {
   "cell_type": "markdown",
   "id": "13546539",
   "metadata": {},
   "source": [
    "nombre_infected       981\n",
    "nombre_sain          2177\n",
    "nombre_exposed        531\n",
    "nombre_recovered    16311\n",
    "Name: 679, dtype: int64"
   ]
  },
  {
   "cell_type": "markdown",
   "id": "c8ae94dd",
   "metadata": {},
   "source": [
    "nombre_infected      1029\n",
    "nombre_sain          2163\n",
    "nombre_exposed        506\n",
    "nombre_recovered    16302\n",
    "Name: 680, dtype: int64"
   ]
  },
  {
   "cell_type": "markdown",
   "id": "8542f114",
   "metadata": {},
   "source": [
    "nombre_infected      1019\n",
    "nombre_sain          2194\n",
    "nombre_exposed        500\n",
    "nombre_recovered    16287\n",
    "Name: 681, dtype: int64"
   ]
  },
  {
   "cell_type": "markdown",
   "id": "4c917981",
   "metadata": {},
   "source": [
    "nombre_infected      1009\n",
    "nombre_sain          2209\n",
    "nombre_exposed        494\n",
    "nombre_recovered    16288\n",
    "Name: 682, dtype: int64"
   ]
  },
  {
   "cell_type": "markdown",
   "id": "cc9da860",
   "metadata": {},
   "source": [
    "nombre_infected      1003\n",
    "nombre_sain          2198\n",
    "nombre_exposed        517\n",
    "nombre_recovered    16282\n",
    "Name: 683, dtype: int64"
   ]
  },
  {
   "cell_type": "markdown",
   "id": "c5dba465",
   "metadata": {},
   "source": [
    "nombre_infected       995\n",
    "nombre_sain          2222\n",
    "nombre_exposed        516\n",
    "nombre_recovered    16267\n",
    "Name: 684, dtype: int64"
   ]
  },
  {
   "cell_type": "markdown",
   "id": "325cfb4e",
   "metadata": {},
   "source": [
    "nombre_infected      1007\n",
    "nombre_sain          2212\n",
    "nombre_exposed        533\n",
    "nombre_recovered    16248\n",
    "Name: 685, dtype: int64"
   ]
  },
  {
   "cell_type": "markdown",
   "id": "c8511820",
   "metadata": {},
   "source": [
    "nombre_infected       990\n",
    "nombre_sain          2179\n",
    "nombre_exposed        574\n",
    "nombre_recovered    16257\n",
    "Name: 686, dtype: int64"
   ]
  },
  {
   "cell_type": "markdown",
   "id": "f2aa9330",
   "metadata": {},
   "source": [
    "nombre_infected      1004\n",
    "nombre_sain          2196\n",
    "nombre_exposed        563\n",
    "nombre_recovered    16237\n",
    "Name: 687, dtype: int64"
   ]
  },
  {
   "cell_type": "markdown",
   "id": "5b97dfbe",
   "metadata": {},
   "source": [
    "nombre_infected      1013\n",
    "nombre_sain          2218\n",
    "nombre_exposed        561\n",
    "nombre_recovered    16208\n",
    "Name: 688, dtype: int64"
   ]
  },
  {
   "cell_type": "markdown",
   "id": "8eadd269",
   "metadata": {},
   "source": [
    "nombre_infected       998\n",
    "nombre_sain          2226\n",
    "nombre_exposed        561\n",
    "nombre_recovered    16215\n",
    "Name: 689, dtype: int64"
   ]
  },
  {
   "cell_type": "markdown",
   "id": "afc328c3",
   "metadata": {},
   "source": [
    "nombre_infected      1018\n",
    "nombre_sain          2242\n",
    "nombre_exposed        567\n",
    "nombre_recovered    16173\n",
    "Name: 690, dtype: int64"
   ]
  },
  {
   "cell_type": "markdown",
   "id": "96b679c7",
   "metadata": {},
   "source": [
    "nombre_infected      1033\n",
    "nombre_sain          2228\n",
    "nombre_exposed        573\n",
    "nombre_recovered    16166\n",
    "Name: 691, dtype: int64"
   ]
  },
  {
   "cell_type": "markdown",
   "id": "6dccf4a8",
   "metadata": {},
   "source": [
    "nombre_infected      1059\n",
    "nombre_sain          2252\n",
    "nombre_exposed        545\n",
    "nombre_recovered    16144\n",
    "Name: 692, dtype: int64"
   ]
  },
  {
   "cell_type": "markdown",
   "id": "932e1fd6",
   "metadata": {},
   "source": [
    "nombre_infected      1060\n",
    "nombre_sain          2238\n",
    "nombre_exposed        587\n",
    "nombre_recovered    16115\n",
    "Name: 693, dtype: int64"
   ]
  },
  {
   "cell_type": "markdown",
   "id": "691f61ed",
   "metadata": {},
   "source": [
    "nombre_infected      1060\n",
    "nombre_sain          2239\n",
    "nombre_exposed        588\n",
    "nombre_recovered    16113\n",
    "Name: 694, dtype: int64"
   ]
  },
  {
   "cell_type": "markdown",
   "id": "07c51344",
   "metadata": {},
   "source": [
    "nombre_infected      1081\n",
    "nombre_sain          2178\n",
    "nombre_exposed        598\n",
    "nombre_recovered    16143\n",
    "Name: 695, dtype: int64"
   ]
  },
  {
   "cell_type": "markdown",
   "id": "209405e4",
   "metadata": {},
   "source": [
    "nombre_infected      1107\n",
    "nombre_sain          2151\n",
    "nombre_exposed        606\n",
    "nombre_recovered    16136\n",
    "Name: 696, dtype: int64"
   ]
  },
  {
   "cell_type": "markdown",
   "id": "e622b4d0",
   "metadata": {},
   "source": [
    "nombre_infected      1108\n",
    "nombre_sain          2133\n",
    "nombre_exposed        609\n",
    "nombre_recovered    16150\n",
    "Name: 697, dtype: int64"
   ]
  },
  {
   "cell_type": "markdown",
   "id": "429acd6c",
   "metadata": {},
   "source": [
    "nombre_infected      1088\n",
    "nombre_sain          2151\n",
    "nombre_exposed        610\n",
    "nombre_recovered    16151\n",
    "Name: 698, dtype: int64"
   ]
  },
  {
   "cell_type": "markdown",
   "id": "e1388133",
   "metadata": {},
   "source": [
    "nombre_infected      1108\n",
    "nombre_sain          2161\n",
    "nombre_exposed        585\n",
    "nombre_recovered    16146\n",
    "Name: 699, dtype: int64"
   ]
  },
  {
   "cell_type": "markdown",
   "id": "6d143df2",
   "metadata": {},
   "source": [
    "nombre_infected      1130\n",
    "nombre_sain          2143\n",
    "nombre_exposed        591\n",
    "nombre_recovered    16136\n",
    "Name: 700, dtype: int64"
   ]
  },
  {
   "cell_type": "markdown",
   "id": "76eeb6bc",
   "metadata": {},
   "source": [
    "nombre_infected      1115\n",
    "nombre_sain          2159\n",
    "nombre_exposed        606\n",
    "nombre_recovered    16120\n",
    "Name: 701, dtype: int64"
   ]
  },
  {
   "cell_type": "markdown",
   "id": "06d99b8f",
   "metadata": {},
   "source": [
    "nombre_infected      1095\n",
    "nombre_sain          2163\n",
    "nombre_exposed        604\n",
    "nombre_recovered    16138\n",
    "Name: 702, dtype: int64"
   ]
  },
  {
   "cell_type": "markdown",
   "id": "ea1a7528",
   "metadata": {},
   "source": [
    "nombre_infected      1104\n",
    "nombre_sain          2159\n",
    "nombre_exposed        585\n",
    "nombre_recovered    16152\n",
    "Name: 703, dtype: int64"
   ]
  },
  {
   "cell_type": "markdown",
   "id": "1961eaf3",
   "metadata": {},
   "source": [
    "nombre_infected      1121\n",
    "nombre_sain          2115\n",
    "nombre_exposed        613\n",
    "nombre_recovered    16151\n",
    "Name: 704, dtype: int64"
   ]
  },
  {
   "cell_type": "markdown",
   "id": "3862b234",
   "metadata": {},
   "source": [
    "nombre_infected      1109\n",
    "nombre_sain          2103\n",
    "nombre_exposed        629\n",
    "nombre_recovered    16159\n",
    "Name: 705, dtype: int64"
   ]
  },
  {
   "cell_type": "markdown",
   "id": "b903ae87",
   "metadata": {},
   "source": [
    "nombre_infected      1132\n",
    "nombre_sain          2107\n",
    "nombre_exposed        599\n",
    "nombre_recovered    16162\n",
    "Name: 706, dtype: int64"
   ]
  },
  {
   "cell_type": "markdown",
   "id": "ae7fd696",
   "metadata": {},
   "source": [
    "nombre_infected      1133\n",
    "nombre_sain          2105\n",
    "nombre_exposed        586\n",
    "nombre_recovered    16176\n",
    "Name: 707, dtype: int64"
   ]
  },
  {
   "cell_type": "markdown",
   "id": "8c54b631",
   "metadata": {},
   "source": [
    "nombre_infected      1127\n",
    "nombre_sain          2099\n",
    "nombre_exposed        587\n",
    "nombre_recovered    16187\n",
    "Name: 708, dtype: int64"
   ]
  },
  {
   "cell_type": "markdown",
   "id": "2aa3bb60",
   "metadata": {},
   "source": [
    "nombre_infected      1102\n",
    "nombre_sain          2111\n",
    "nombre_exposed        571\n",
    "nombre_recovered    16216\n",
    "Name: 709, dtype: int64"
   ]
  },
  {
   "cell_type": "markdown",
   "id": "61fe24df",
   "metadata": {},
   "source": [
    "nombre_infected      1105\n",
    "nombre_sain          2109\n",
    "nombre_exposed        556\n",
    "nombre_recovered    16230\n",
    "Name: 710, dtype: int64"
   ]
  },
  {
   "cell_type": "markdown",
   "id": "a15ae80b",
   "metadata": {},
   "source": [
    "nombre_infected      1097\n",
    "nombre_sain          2136\n",
    "nombre_exposed        527\n",
    "nombre_recovered    16240\n",
    "Name: 711, dtype: int64"
   ]
  },
  {
   "cell_type": "markdown",
   "id": "b794795c",
   "metadata": {},
   "source": [
    "nombre_infected      1108\n",
    "nombre_sain          2133\n",
    "nombre_exposed        554\n",
    "nombre_recovered    16205\n",
    "Name: 712, dtype: int64"
   ]
  },
  {
   "cell_type": "markdown",
   "id": "6ab99f59",
   "metadata": {},
   "source": [
    "nombre_infected      1106\n",
    "nombre_sain          2128\n",
    "nombre_exposed        573\n",
    "nombre_recovered    16193\n",
    "Name: 713, dtype: int64"
   ]
  },
  {
   "cell_type": "markdown",
   "id": "30b13b0c",
   "metadata": {},
   "source": [
    "nombre_infected      1108\n",
    "nombre_sain          2154\n",
    "nombre_exposed        574\n",
    "nombre_recovered    16164\n",
    "Name: 714, dtype: int64"
   ]
  },
  {
   "cell_type": "markdown",
   "id": "d567f8c5",
   "metadata": {},
   "source": [
    "nombre_infected      1107\n",
    "nombre_sain          2182\n",
    "nombre_exposed        562\n",
    "nombre_recovered    16149\n",
    "Name: 715, dtype: int64"
   ]
  },
  {
   "cell_type": "markdown",
   "id": "b8c76e7c",
   "metadata": {},
   "source": [
    "nombre_infected      1092\n",
    "nombre_sain          2158\n",
    "nombre_exposed        595\n",
    "nombre_recovered    16155\n",
    "Name: 716, dtype: int64"
   ]
  },
  {
   "cell_type": "markdown",
   "id": "e7072b46",
   "metadata": {},
   "source": [
    "nombre_infected      1083\n",
    "nombre_sain          2133\n",
    "nombre_exposed        614\n",
    "nombre_recovered    16170\n",
    "Name: 717, dtype: int64"
   ]
  },
  {
   "cell_type": "markdown",
   "id": "4eee749a",
   "metadata": {},
   "source": [
    "nombre_infected      1067\n",
    "nombre_sain          2150\n",
    "nombre_exposed        595\n",
    "nombre_recovered    16188\n",
    "Name: 718, dtype: int64"
   ]
  },
  {
   "cell_type": "markdown",
   "id": "042c78c7",
   "metadata": {},
   "source": [
    "nombre_infected      1083\n",
    "nombre_sain          2152\n",
    "nombre_exposed        583\n",
    "nombre_recovered    16182\n",
    "Name: 719, dtype: int64"
   ]
  },
  {
   "cell_type": "markdown",
   "id": "3e19e150",
   "metadata": {},
   "source": [
    "nombre_infected      1103\n",
    "nombre_sain          2173\n",
    "nombre_exposed        576\n",
    "nombre_recovered    16148\n",
    "Name: 720, dtype: int64"
   ]
  },
  {
   "cell_type": "markdown",
   "id": "babfb534",
   "metadata": {},
   "source": [
    "nombre_infected      1078\n",
    "nombre_sain          2122\n",
    "nombre_exposed        594\n",
    "nombre_recovered    16206\n",
    "Name: 721, dtype: int64"
   ]
  },
  {
   "cell_type": "markdown",
   "id": "d4f461ad",
   "metadata": {},
   "source": [
    "nombre_infected      1067\n",
    "nombre_sain          2103\n",
    "nombre_exposed        618\n",
    "nombre_recovered    16212\n",
    "Name: 722, dtype: int64"
   ]
  },
  {
   "cell_type": "markdown",
   "id": "c4abcc9f",
   "metadata": {},
   "source": [
    "nombre_infected      1051\n",
    "nombre_sain          2131\n",
    "nombre_exposed        624\n",
    "nombre_recovered    16194\n",
    "Name: 723, dtype: int64"
   ]
  },
  {
   "cell_type": "markdown",
   "id": "c793e075",
   "metadata": {},
   "source": [
    "nombre_infected      1072\n",
    "nombre_sain          2126\n",
    "nombre_exposed        630\n",
    "nombre_recovered    16172\n",
    "Name: 724, dtype: int64"
   ]
  },
  {
   "cell_type": "markdown",
   "id": "4fa0f73d",
   "metadata": {},
   "source": [
    "nombre_infected      1064\n",
    "nombre_sain          2126\n",
    "nombre_exposed        627\n",
    "nombre_recovered    16183\n",
    "Name: 725, dtype: int64"
   ]
  },
  {
   "cell_type": "markdown",
   "id": "60a1a04f",
   "metadata": {},
   "source": [
    "nombre_infected      1069\n",
    "nombre_sain          2131\n",
    "nombre_exposed        625\n",
    "nombre_recovered    16175\n",
    "Name: 726, dtype: int64"
   ]
  },
  {
   "cell_type": "markdown",
   "id": "c680dee1",
   "metadata": {},
   "source": [
    "nombre_infected      1078\n",
    "nombre_sain          2145\n",
    "nombre_exposed        624\n",
    "nombre_recovered    16153\n",
    "Name: 727, dtype: int64"
   ]
  },
  {
   "cell_type": "markdown",
   "id": "418d6936",
   "metadata": {},
   "source": [
    "nombre_infected      1050\n",
    "nombre_sain          2124\n",
    "nombre_exposed        607\n",
    "nombre_recovered    16219\n",
    "Name: 728, dtype: int64"
   ]
  },
  {
   "cell_type": "markdown",
   "id": "b38838f5",
   "metadata": {},
   "source": [
    "nombre_infected      1041\n",
    "nombre_sain          2140\n",
    "nombre_exposed        597\n",
    "nombre_recovered    16222\n",
    "Name: 729, dtype: int64"
   ]
  },
  {
   "cell_type": "markdown",
   "id": "96b66e61",
   "metadata": {},
   "source": [
    "nombre_infected      1063\n",
    "nombre_sain          2124\n",
    "nombre_exposed        589\n",
    "nombre_recovered    16224\n",
    "Name: 730, dtype: int64"
   ]
  }
 ],
 "metadata": {},
 "nbformat": 4,
 "nbformat_minor": 5
}
