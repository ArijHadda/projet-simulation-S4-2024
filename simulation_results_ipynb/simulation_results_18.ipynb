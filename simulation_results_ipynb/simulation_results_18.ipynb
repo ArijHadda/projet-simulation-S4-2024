{
 "cells": [
  {
   "cell_type": "markdown",
   "id": "d068ff0f",
   "metadata": {},
   "source": [
    "nombre_infected        20\n",
    "nombre_sain         19980\n",
    "nombre_exposed          0\n",
    "nombre_recovered        0\n",
    "Name: 0, dtype: int64"
   ]
  },
  {
   "cell_type": "markdown",
   "id": "214194d3",
   "metadata": {},
   "source": [
    "nombre_infected        20\n",
    "nombre_sain         19963\n",
    "nombre_exposed         17\n",
    "nombre_recovered        0\n",
    "Name: 1, dtype: int64"
   ]
  },
  {
   "cell_type": "markdown",
   "id": "db54421d",
   "metadata": {},
   "source": [
    "nombre_infected        20\n",
    "nombre_sain         19942\n",
    "nombre_exposed         38\n",
    "nombre_recovered        0\n",
    "Name: 2, dtype: int64"
   ]
  },
  {
   "cell_type": "markdown",
   "id": "73c3fe51",
   "metadata": {},
   "source": [
    "nombre_infected        27\n",
    "nombre_sain         19902\n",
    "nombre_exposed         71\n",
    "nombre_recovered        0\n",
    "Name: 3, dtype: int64"
   ]
  },
  {
   "cell_type": "markdown",
   "id": "b95745d5",
   "metadata": {},
   "source": [
    "nombre_infected        12\n",
    "nombre_sain         19875\n",
    "nombre_exposed         93\n",
    "nombre_recovered       20\n",
    "Name: 4, dtype: int64"
   ]
  },
  {
   "cell_type": "markdown",
   "id": "247e1953",
   "metadata": {},
   "source": [
    "nombre_infected        30\n",
    "nombre_sain         19843\n",
    "nombre_exposed        105\n",
    "nombre_recovered       22\n",
    "Name: 5, dtype: int64"
   ]
  },
  {
   "cell_type": "markdown",
   "id": "557f61aa",
   "metadata": {},
   "source": [
    "nombre_infected        49\n",
    "nombre_sain         19818\n",
    "nombre_exposed        111\n",
    "nombre_recovered       22\n",
    "Name: 6, dtype: int64"
   ]
  },
  {
   "cell_type": "markdown",
   "id": "9f3bd988",
   "metadata": {},
   "source": [
    "nombre_infected        69\n",
    "nombre_sain         19730\n",
    "nombre_exposed        177\n",
    "nombre_recovered       24\n",
    "Name: 7, dtype: int64"
   ]
  },
  {
   "cell_type": "markdown",
   "id": "868b6b72",
   "metadata": {},
   "source": [
    "nombre_infected        88\n",
    "nombre_sain         19640\n",
    "nombre_exposed        239\n",
    "nombre_recovered       33\n",
    "Name: 8, dtype: int64"
   ]
  },
  {
   "cell_type": "markdown",
   "id": "d9b5bc50",
   "metadata": {},
   "source": [
    "nombre_infected       134\n",
    "nombre_sain         19486\n",
    "nombre_exposed        335\n",
    "nombre_recovered       45\n",
    "Name: 9, dtype: int64"
   ]
  },
  {
   "cell_type": "markdown",
   "id": "ea7193fc",
   "metadata": {},
   "source": [
    "nombre_infected       173\n",
    "nombre_sain         19300\n",
    "nombre_exposed        473\n",
    "nombre_recovered       54\n",
    "Name: 10, dtype: int64"
   ]
  },
  {
   "cell_type": "markdown",
   "id": "9f30f58b",
   "metadata": {},
   "source": [
    "nombre_infected       223\n",
    "nombre_sain         19046\n",
    "nombre_exposed        664\n",
    "nombre_recovered       67\n",
    "Name: 11, dtype: int64"
   ]
  },
  {
   "cell_type": "markdown",
   "id": "6c343fdf",
   "metadata": {},
   "source": [
    "nombre_infected       328\n",
    "nombre_sain         18706\n",
    "nombre_exposed        865\n",
    "nombre_recovered      101\n",
    "Name: 12, dtype: int64"
   ]
  },
  {
   "cell_type": "markdown",
   "id": "56279315",
   "metadata": {},
   "source": [
    "nombre_infected       446\n",
    "nombre_sain         18263\n",
    "nombre_exposed       1162\n",
    "nombre_recovered      129\n",
    "Name: 13, dtype: int64"
   ]
  },
  {
   "cell_type": "markdown",
   "id": "e27f05b0",
   "metadata": {},
   "source": [
    "nombre_infected       610\n",
    "nombre_sain         17706\n",
    "nombre_exposed       1514\n",
    "nombre_recovered      170\n",
    "Name: 14, dtype: int64"
   ]
  },
  {
   "cell_type": "markdown",
   "id": "e56819e4",
   "metadata": {},
   "source": [
    "nombre_infected       839\n",
    "nombre_sain         16999\n",
    "nombre_exposed       1933\n",
    "nombre_recovered      229\n",
    "Name: 15, dtype: int64"
   ]
  },
  {
   "cell_type": "markdown",
   "id": "e98b1594",
   "metadata": {},
   "source": [
    "nombre_infected      1121\n",
    "nombre_sain         16077\n",
    "nombre_exposed       2496\n",
    "nombre_recovered      306\n",
    "Name: 16, dtype: int64"
   ]
  },
  {
   "cell_type": "markdown",
   "id": "edc92162",
   "metadata": {},
   "source": [
    "nombre_infected      1457\n",
    "nombre_sain         14861\n",
    "nombre_exposed       3275\n",
    "nombre_recovered      407\n",
    "Name: 17, dtype: int64"
   ]
  },
  {
   "cell_type": "markdown",
   "id": "0d8cdb6f",
   "metadata": {},
   "source": [
    "nombre_infected      1924\n",
    "nombre_sain         13468\n",
    "nombre_exposed       4068\n",
    "nombre_recovered      540\n",
    "Name: 18, dtype: int64"
   ]
  },
  {
   "cell_type": "markdown",
   "id": "1af6f619",
   "metadata": {},
   "source": [
    "nombre_infected      2456\n",
    "nombre_sain         11927\n",
    "nombre_exposed       4873\n",
    "nombre_recovered      744\n",
    "Name: 19, dtype: int64"
   ]
  },
  {
   "cell_type": "markdown",
   "id": "e3e4958e",
   "metadata": {},
   "source": [
    "nombre_infected      3156\n",
    "nombre_sain         10195\n",
    "nombre_exposed       5650\n",
    "nombre_recovered      999\n",
    "Name: 20, dtype: int64"
   ]
  },
  {
   "cell_type": "markdown",
   "id": "b817378e",
   "metadata": {},
   "source": [
    "nombre_infected     3942\n",
    "nombre_sain         8440\n",
    "nombre_exposed      6311\n",
    "nombre_recovered    1307\n",
    "Name: 21, dtype: int64"
   ]
  },
  {
   "cell_type": "markdown",
   "id": "f908a391",
   "metadata": {},
   "source": [
    "nombre_infected     4874\n",
    "nombre_sain         6680\n",
    "nombre_exposed      6712\n",
    "nombre_recovered    1734\n",
    "Name: 22, dtype: int64"
   ]
  },
  {
   "cell_type": "markdown",
   "id": "d88288c0",
   "metadata": {},
   "source": [
    "nombre_infected     5879\n",
    "nombre_sain         5064\n",
    "nombre_exposed      6843\n",
    "nombre_recovered    2214\n",
    "Name: 23, dtype: int64"
   ]
  },
  {
   "cell_type": "markdown",
   "id": "ef566adc",
   "metadata": {},
   "source": [
    "nombre_infected     6782\n",
    "nombre_sain         3732\n",
    "nombre_exposed      6660\n",
    "nombre_recovered    2826\n",
    "Name: 24, dtype: int64"
   ]
  },
  {
   "cell_type": "markdown",
   "id": "f6b625f0",
   "metadata": {},
   "source": [
    "nombre_infected     7595\n",
    "nombre_sain         2673\n",
    "nombre_exposed      6163\n",
    "nombre_recovered    3569\n",
    "Name: 25, dtype: int64"
   ]
  },
  {
   "cell_type": "markdown",
   "id": "f8b76e37",
   "metadata": {},
   "source": [
    "nombre_infected     8216\n",
    "nombre_sain         1861\n",
    "nombre_exposed      5537\n",
    "nombre_recovered    4386\n",
    "Name: 26, dtype: int64"
   ]
  },
  {
   "cell_type": "markdown",
   "id": "c34dd7ed",
   "metadata": {},
   "source": [
    "nombre_infected     8709\n",
    "nombre_sain         1253\n",
    "nombre_exposed      4759\n",
    "nombre_recovered    5279\n",
    "Name: 27, dtype: int64"
   ]
  },
  {
   "cell_type": "markdown",
   "id": "73c3c5ad",
   "metadata": {},
   "source": [
    "nombre_infected     8898\n",
    "nombre_sain          835\n",
    "nombre_exposed      3937\n",
    "nombre_recovered    6330\n",
    "Name: 28, dtype: int64"
   ]
  },
  {
   "cell_type": "markdown",
   "id": "b07eb77e",
   "metadata": {},
   "source": [
    "nombre_infected     8923\n",
    "nombre_sain          597\n",
    "nombre_exposed      3140\n",
    "nombre_recovered    7340\n",
    "Name: 29, dtype: int64"
   ]
  },
  {
   "cell_type": "markdown",
   "id": "eb1b50ae",
   "metadata": {},
   "source": [
    "nombre_infected     8657\n",
    "nombre_sain          431\n",
    "nombre_exposed      2452\n",
    "nombre_recovered    8460\n",
    "Name: 30, dtype: int64"
   ]
  },
  {
   "cell_type": "markdown",
   "id": "b21e1dd6",
   "metadata": {},
   "source": [
    "nombre_infected     8262\n",
    "nombre_sain          311\n",
    "nombre_exposed      1896\n",
    "nombre_recovered    9531\n",
    "Name: 31, dtype: int64"
   ]
  },
  {
   "cell_type": "markdown",
   "id": "3c3ff057",
   "metadata": {},
   "source": [
    "nombre_infected      7681\n",
    "nombre_sain           245\n",
    "nombre_exposed       1478\n",
    "nombre_recovered    10596\n",
    "Name: 32, dtype: int64"
   ]
  },
  {
   "cell_type": "markdown",
   "id": "1a8a5f0b",
   "metadata": {},
   "source": [
    "nombre_infected      7054\n",
    "nombre_sain           195\n",
    "nombre_exposed       1149\n",
    "nombre_recovered    11602\n",
    "Name: 33, dtype: int64"
   ]
  },
  {
   "cell_type": "markdown",
   "id": "9703835a",
   "metadata": {},
   "source": [
    "nombre_infected      6451\n",
    "nombre_sain           162\n",
    "nombre_exposed        854\n",
    "nombre_recovered    12533\n",
    "Name: 34, dtype: int64"
   ]
  },
  {
   "cell_type": "markdown",
   "id": "ce1ef66b",
   "metadata": {},
   "source": [
    "nombre_infected      5826\n",
    "nombre_sain           138\n",
    "nombre_exposed        648\n",
    "nombre_recovered    13388\n",
    "Name: 35, dtype: int64"
   ]
  },
  {
   "cell_type": "markdown",
   "id": "17b38707",
   "metadata": {},
   "source": [
    "nombre_infected      5165\n",
    "nombre_sain           129\n",
    "nombre_exposed        511\n",
    "nombre_recovered    14195\n",
    "Name: 36, dtype: int64"
   ]
  },
  {
   "cell_type": "markdown",
   "id": "8c367896",
   "metadata": {},
   "source": [
    "nombre_infected      4577\n",
    "nombre_sain           132\n",
    "nombre_exposed        396\n",
    "nombre_recovered    14895\n",
    "Name: 37, dtype: int64"
   ]
  },
  {
   "cell_type": "markdown",
   "id": "c5385e86",
   "metadata": {},
   "source": [
    "nombre_infected      4067\n",
    "nombre_sain           141\n",
    "nombre_exposed        315\n",
    "nombre_recovered    15477\n",
    "Name: 38, dtype: int64"
   ]
  },
  {
   "cell_type": "markdown",
   "id": "cc5d5943",
   "metadata": {},
   "source": [
    "nombre_infected      3621\n",
    "nombre_sain           169\n",
    "nombre_exposed        247\n",
    "nombre_recovered    15963\n",
    "Name: 39, dtype: int64"
   ]
  },
  {
   "cell_type": "markdown",
   "id": "b5dc1446",
   "metadata": {},
   "source": [
    "nombre_infected      3183\n",
    "nombre_sain           177\n",
    "nombre_exposed        197\n",
    "nombre_recovered    16443\n",
    "Name: 40, dtype: int64"
   ]
  },
  {
   "cell_type": "markdown",
   "id": "d97552f0",
   "metadata": {},
   "source": [
    "nombre_infected      2831\n",
    "nombre_sain           197\n",
    "nombre_exposed        172\n",
    "nombre_recovered    16800\n",
    "Name: 41, dtype: int64"
   ]
  },
  {
   "cell_type": "markdown",
   "id": "6e8b5741",
   "metadata": {},
   "source": [
    "nombre_infected      2523\n",
    "nombre_sain           236\n",
    "nombre_exposed        138\n",
    "nombre_recovered    17103\n",
    "Name: 42, dtype: int64"
   ]
  },
  {
   "cell_type": "markdown",
   "id": "594c92d0",
   "metadata": {},
   "source": [
    "nombre_infected      2238\n",
    "nombre_sain           256\n",
    "nombre_exposed        129\n",
    "nombre_recovered    17377\n",
    "Name: 43, dtype: int64"
   ]
  },
  {
   "cell_type": "markdown",
   "id": "a5ae5bb3",
   "metadata": {},
   "source": [
    "nombre_infected      1931\n",
    "nombre_sain           294\n",
    "nombre_exposed        133\n",
    "nombre_recovered    17642\n",
    "Name: 44, dtype: int64"
   ]
  },
  {
   "cell_type": "markdown",
   "id": "904cb74f",
   "metadata": {},
   "source": [
    "nombre_infected      1690\n",
    "nombre_sain           316\n",
    "nombre_exposed        131\n",
    "nombre_recovered    17863\n",
    "Name: 45, dtype: int64"
   ]
  },
  {
   "cell_type": "markdown",
   "id": "07dd2c11",
   "metadata": {},
   "source": [
    "nombre_infected      1508\n",
    "nombre_sain           341\n",
    "nombre_exposed        129\n",
    "nombre_recovered    18022\n",
    "Name: 46, dtype: int64"
   ]
  },
  {
   "cell_type": "markdown",
   "id": "6ae8a75b",
   "metadata": {},
   "source": [
    "nombre_infected      1337\n",
    "nombre_sain           391\n",
    "nombre_exposed        126\n",
    "nombre_recovered    18146\n",
    "Name: 47, dtype: int64"
   ]
  },
  {
   "cell_type": "markdown",
   "id": "50d457df",
   "metadata": {},
   "source": [
    "nombre_infected      1184\n",
    "nombre_sain           427\n",
    "nombre_exposed        129\n",
    "nombre_recovered    18260\n",
    "Name: 48, dtype: int64"
   ]
  },
  {
   "cell_type": "markdown",
   "id": "98d68f0b",
   "metadata": {},
   "source": [
    "nombre_infected      1063\n",
    "nombre_sain           458\n",
    "nombre_exposed        125\n",
    "nombre_recovered    18354\n",
    "Name: 49, dtype: int64"
   ]
  },
  {
   "cell_type": "markdown",
   "id": "0f06936e",
   "metadata": {},
   "source": [
    "nombre_infected       924\n",
    "nombre_sain           491\n",
    "nombre_exposed        133\n",
    "nombre_recovered    18452\n",
    "Name: 50, dtype: int64"
   ]
  },
  {
   "cell_type": "markdown",
   "id": "1873f0c1",
   "metadata": {},
   "source": [
    "nombre_infected       819\n",
    "nombre_sain           507\n",
    "nombre_exposed        141\n",
    "nombre_recovered    18533\n",
    "Name: 51, dtype: int64"
   ]
  },
  {
   "cell_type": "markdown",
   "id": "1c88006f",
   "metadata": {},
   "source": [
    "nombre_infected       747\n",
    "nombre_sain           550\n",
    "nombre_exposed        121\n",
    "nombre_recovered    18582\n",
    "Name: 52, dtype: int64"
   ]
  },
  {
   "cell_type": "markdown",
   "id": "9b847d47",
   "metadata": {},
   "source": [
    "nombre_infected       662\n",
    "nombre_sain           609\n",
    "nombre_exposed         98\n",
    "nombre_recovered    18631\n",
    "Name: 53, dtype: int64"
   ]
  },
  {
   "cell_type": "markdown",
   "id": "a39234e7",
   "metadata": {},
   "source": [
    "nombre_infected       579\n",
    "nombre_sain           650\n",
    "nombre_exposed         98\n",
    "nombre_recovered    18673\n",
    "Name: 54, dtype: int64"
   ]
  },
  {
   "cell_type": "markdown",
   "id": "a5d9c662",
   "metadata": {},
   "source": [
    "nombre_infected       494\n",
    "nombre_sain           694\n",
    "nombre_exposed        100\n",
    "nombre_recovered    18712\n",
    "Name: 55, dtype: int64"
   ]
  },
  {
   "cell_type": "markdown",
   "id": "791c9256",
   "metadata": {},
   "source": [
    "nombre_infected       425\n",
    "nombre_sain           748\n",
    "nombre_exposed         98\n",
    "nombre_recovered    18729\n",
    "Name: 56, dtype: int64"
   ]
  },
  {
   "cell_type": "markdown",
   "id": "25d614e0",
   "metadata": {},
   "source": [
    "nombre_infected       385\n",
    "nombre_sain           813\n",
    "nombre_exposed         83\n",
    "nombre_recovered    18719\n",
    "Name: 57, dtype: int64"
   ]
  },
  {
   "cell_type": "markdown",
   "id": "5448b4be",
   "metadata": {},
   "source": [
    "nombre_infected       351\n",
    "nombre_sain           875\n",
    "nombre_exposed         74\n",
    "nombre_recovered    18700\n",
    "Name: 58, dtype: int64"
   ]
  },
  {
   "cell_type": "markdown",
   "id": "11bb686b",
   "metadata": {},
   "source": [
    "nombre_infected       316\n",
    "nombre_sain           933\n",
    "nombre_exposed         77\n",
    "nombre_recovered    18674\n",
    "Name: 59, dtype: int64"
   ]
  },
  {
   "cell_type": "markdown",
   "id": "c5b66e9c",
   "metadata": {},
   "source": [
    "nombre_infected       282\n",
    "nombre_sain          1004\n",
    "nombre_exposed         80\n",
    "nombre_recovered    18634\n",
    "Name: 60, dtype: int64"
   ]
  },
  {
   "cell_type": "markdown",
   "id": "d598ab2d",
   "metadata": {},
   "source": [
    "nombre_infected       258\n",
    "nombre_sain          1076\n",
    "nombre_exposed         79\n",
    "nombre_recovered    18587\n",
    "Name: 61, dtype: int64"
   ]
  },
  {
   "cell_type": "markdown",
   "id": "69491b64",
   "metadata": {},
   "source": [
    "nombre_infected       238\n",
    "nombre_sain          1146\n",
    "nombre_exposed         77\n",
    "nombre_recovered    18539\n",
    "Name: 62, dtype: int64"
   ]
  },
  {
   "cell_type": "markdown",
   "id": "5f8b9396",
   "metadata": {},
   "source": [
    "nombre_infected       220\n",
    "nombre_sain          1210\n",
    "nombre_exposed         73\n",
    "nombre_recovered    18497\n",
    "Name: 63, dtype: int64"
   ]
  },
  {
   "cell_type": "markdown",
   "id": "2379a1f0",
   "metadata": {},
   "source": [
    "nombre_infected       203\n",
    "nombre_sain          1287\n",
    "nombre_exposed         75\n",
    "nombre_recovered    18435\n",
    "Name: 64, dtype: int64"
   ]
  },
  {
   "cell_type": "markdown",
   "id": "c80c72c3",
   "metadata": {},
   "source": [
    "nombre_infected       195\n",
    "nombre_sain          1381\n",
    "nombre_exposed         70\n",
    "nombre_recovered    18354\n",
    "Name: 65, dtype: int64"
   ]
  },
  {
   "cell_type": "markdown",
   "id": "11c4d11b",
   "metadata": {},
   "source": [
    "nombre_infected       183\n",
    "nombre_sain          1452\n",
    "nombre_exposed         60\n",
    "nombre_recovered    18305\n",
    "Name: 66, dtype: int64"
   ]
  },
  {
   "cell_type": "markdown",
   "id": "d41de7b9",
   "metadata": {},
   "source": [
    "nombre_infected       164\n",
    "nombre_sain          1529\n",
    "nombre_exposed         67\n",
    "nombre_recovered    18240\n",
    "Name: 67, dtype: int64"
   ]
  },
  {
   "cell_type": "markdown",
   "id": "93d92993",
   "metadata": {},
   "source": [
    "nombre_infected       154\n",
    "nombre_sain          1611\n",
    "nombre_exposed         70\n",
    "nombre_recovered    18165\n",
    "Name: 68, dtype: int64"
   ]
  },
  {
   "cell_type": "markdown",
   "id": "6bffe9ef",
   "metadata": {},
   "source": [
    "nombre_infected       158\n",
    "nombre_sain          1685\n",
    "nombre_exposed         71\n",
    "nombre_recovered    18086\n",
    "Name: 69, dtype: int64"
   ]
  },
  {
   "cell_type": "markdown",
   "id": "4693ede1",
   "metadata": {},
   "source": [
    "nombre_infected       161\n",
    "nombre_sain          1751\n",
    "nombre_exposed         71\n",
    "nombre_recovered    18017\n",
    "Name: 70, dtype: int64"
   ]
  },
  {
   "cell_type": "markdown",
   "id": "06705784",
   "metadata": {},
   "source": [
    "nombre_infected       154\n",
    "nombre_sain          1836\n",
    "nombre_exposed         72\n",
    "nombre_recovered    17938\n",
    "Name: 71, dtype: int64"
   ]
  },
  {
   "cell_type": "markdown",
   "id": "631950de",
   "metadata": {},
   "source": [
    "nombre_infected       151\n",
    "nombre_sain          1907\n",
    "nombre_exposed         76\n",
    "nombre_recovered    17866\n",
    "Name: 72, dtype: int64"
   ]
  },
  {
   "cell_type": "markdown",
   "id": "c8636444",
   "metadata": {},
   "source": [
    "nombre_infected       152\n",
    "nombre_sain          1971\n",
    "nombre_exposed         81\n",
    "nombre_recovered    17796\n",
    "Name: 73, dtype: int64"
   ]
  },
  {
   "cell_type": "markdown",
   "id": "f9c8184a",
   "metadata": {},
   "source": [
    "nombre_infected       153\n",
    "nombre_sain          2039\n",
    "nombre_exposed         80\n",
    "nombre_recovered    17728\n",
    "Name: 74, dtype: int64"
   ]
  },
  {
   "cell_type": "markdown",
   "id": "bd8c6923",
   "metadata": {},
   "source": [
    "nombre_infected       158\n",
    "nombre_sain          2092\n",
    "nombre_exposed         86\n",
    "nombre_recovered    17664\n",
    "Name: 75, dtype: int64"
   ]
  },
  {
   "cell_type": "markdown",
   "id": "3ba25d3c",
   "metadata": {},
   "source": [
    "nombre_infected       152\n",
    "nombre_sain          2142\n",
    "nombre_exposed         94\n",
    "nombre_recovered    17612\n",
    "Name: 76, dtype: int64"
   ]
  },
  {
   "cell_type": "markdown",
   "id": "03a9375d",
   "metadata": {},
   "source": [
    "nombre_infected       154\n",
    "nombre_sain          2213\n",
    "nombre_exposed         88\n",
    "nombre_recovered    17545\n",
    "Name: 77, dtype: int64"
   ]
  },
  {
   "cell_type": "markdown",
   "id": "750cc45e",
   "metadata": {},
   "source": [
    "nombre_infected       149\n",
    "nombre_sain          2265\n",
    "nombre_exposed         93\n",
    "nombre_recovered    17493\n",
    "Name: 78, dtype: int64"
   ]
  },
  {
   "cell_type": "markdown",
   "id": "26aec2e6",
   "metadata": {},
   "source": [
    "nombre_infected       144\n",
    "nombre_sain          2320\n",
    "nombre_exposed         93\n",
    "nombre_recovered    17443\n",
    "Name: 79, dtype: int64"
   ]
  },
  {
   "cell_type": "markdown",
   "id": "0fc9cbf2",
   "metadata": {},
   "source": [
    "nombre_infected       147\n",
    "nombre_sain          2379\n",
    "nombre_exposed         85\n",
    "nombre_recovered    17389\n",
    "Name: 80, dtype: int64"
   ]
  },
  {
   "cell_type": "markdown",
   "id": "e5a7b0c4",
   "metadata": {},
   "source": [
    "nombre_infected       146\n",
    "nombre_sain          2429\n",
    "nombre_exposed         78\n",
    "nombre_recovered    17347\n",
    "Name: 81, dtype: int64"
   ]
  },
  {
   "cell_type": "markdown",
   "id": "74925bd2",
   "metadata": {},
   "source": [
    "nombre_infected       147\n",
    "nombre_sain          2474\n",
    "nombre_exposed         83\n",
    "nombre_recovered    17296\n",
    "Name: 82, dtype: int64"
   ]
  },
  {
   "cell_type": "markdown",
   "id": "729d0dcc",
   "metadata": {},
   "source": [
    "nombre_infected       137\n",
    "nombre_sain          2511\n",
    "nombre_exposed         81\n",
    "nombre_recovered    17271\n",
    "Name: 83, dtype: int64"
   ]
  },
  {
   "cell_type": "markdown",
   "id": "4e80b54b",
   "metadata": {},
   "source": [
    "nombre_infected       135\n",
    "nombre_sain          2546\n",
    "nombre_exposed         77\n",
    "nombre_recovered    17242\n",
    "Name: 84, dtype: int64"
   ]
  },
  {
   "cell_type": "markdown",
   "id": "919e6e75",
   "metadata": {},
   "source": [
    "nombre_infected       138\n",
    "nombre_sain          2590\n",
    "nombre_exposed         76\n",
    "nombre_recovered    17196\n",
    "Name: 85, dtype: int64"
   ]
  },
  {
   "cell_type": "markdown",
   "id": "4e35bc43",
   "metadata": {},
   "source": [
    "nombre_infected       132\n",
    "nombre_sain          2610\n",
    "nombre_exposed         83\n",
    "nombre_recovered    17175\n",
    "Name: 86, dtype: int64"
   ]
  },
  {
   "cell_type": "markdown",
   "id": "14ef877a",
   "metadata": {},
   "source": [
    "nombre_infected       124\n",
    "nombre_sain          2643\n",
    "nombre_exposed         83\n",
    "nombre_recovered    17150\n",
    "Name: 87, dtype: int64"
   ]
  },
  {
   "cell_type": "markdown",
   "id": "d2b28220",
   "metadata": {},
   "source": [
    "nombre_infected       128\n",
    "nombre_sain          2665\n",
    "nombre_exposed         85\n",
    "nombre_recovered    17122\n",
    "Name: 88, dtype: int64"
   ]
  },
  {
   "cell_type": "markdown",
   "id": "2fb62e46",
   "metadata": {},
   "source": [
    "nombre_infected       123\n",
    "nombre_sain          2688\n",
    "nombre_exposed         90\n",
    "nombre_recovered    17099\n",
    "Name: 89, dtype: int64"
   ]
  },
  {
   "cell_type": "markdown",
   "id": "8f7c60b3",
   "metadata": {},
   "source": [
    "nombre_infected       121\n",
    "nombre_sain          2710\n",
    "nombre_exposed         98\n",
    "nombre_recovered    17071\n",
    "Name: 90, dtype: int64"
   ]
  },
  {
   "cell_type": "markdown",
   "id": "6ebc39f6",
   "metadata": {},
   "source": [
    "nombre_infected       122\n",
    "nombre_sain          2746\n",
    "nombre_exposed         93\n",
    "nombre_recovered    17039\n",
    "Name: 91, dtype: int64"
   ]
  },
  {
   "cell_type": "markdown",
   "id": "14811b73",
   "metadata": {},
   "source": [
    "nombre_infected       129\n",
    "nombre_sain          2779\n",
    "nombre_exposed         83\n",
    "nombre_recovered    17009\n",
    "Name: 92, dtype: int64"
   ]
  },
  {
   "cell_type": "markdown",
   "id": "ee34bd16",
   "metadata": {},
   "source": [
    "nombre_infected       132\n",
    "nombre_sain          2811\n",
    "nombre_exposed         81\n",
    "nombre_recovered    16976\n",
    "Name: 93, dtype: int64"
   ]
  },
  {
   "cell_type": "markdown",
   "id": "5514b75b",
   "metadata": {},
   "source": [
    "nombre_infected       134\n",
    "nombre_sain          2831\n",
    "nombre_exposed         89\n",
    "nombre_recovered    16946\n",
    "Name: 94, dtype: int64"
   ]
  },
  {
   "cell_type": "markdown",
   "id": "ea89a346",
   "metadata": {},
   "source": [
    "nombre_infected       128\n",
    "nombre_sain          2864\n",
    "nombre_exposed        100\n",
    "nombre_recovered    16908\n",
    "Name: 95, dtype: int64"
   ]
  },
  {
   "cell_type": "markdown",
   "id": "e22c3910",
   "metadata": {},
   "source": [
    "nombre_infected       121\n",
    "nombre_sain          2884\n",
    "nombre_exposed        107\n",
    "nombre_recovered    16888\n",
    "Name: 96, dtype: int64"
   ]
  },
  {
   "cell_type": "markdown",
   "id": "e0629ef8",
   "metadata": {},
   "source": [
    "nombre_infected       113\n",
    "nombre_sain          2921\n",
    "nombre_exposed        115\n",
    "nombre_recovered    16851\n",
    "Name: 97, dtype: int64"
   ]
  },
  {
   "cell_type": "markdown",
   "id": "d545f4eb",
   "metadata": {},
   "source": [
    "nombre_infected       127\n",
    "nombre_sain          2962\n",
    "nombre_exposed        110\n",
    "nombre_recovered    16801\n",
    "Name: 98, dtype: int64"
   ]
  },
  {
   "cell_type": "markdown",
   "id": "e2d431a7",
   "metadata": {},
   "source": [
    "nombre_infected       133\n",
    "nombre_sain          2995\n",
    "nombre_exposed        109\n",
    "nombre_recovered    16763\n",
    "Name: 99, dtype: int64"
   ]
  },
  {
   "cell_type": "markdown",
   "id": "28916b93",
   "metadata": {},
   "source": [
    "nombre_infected       126\n",
    "nombre_sain          3042\n",
    "nombre_exposed        112\n",
    "nombre_recovered    16720\n",
    "Name: 100, dtype: int64"
   ]
  },
  {
   "cell_type": "markdown",
   "id": "546d322e",
   "metadata": {},
   "source": [
    "nombre_infected       139\n",
    "nombre_sain          3090\n",
    "nombre_exposed        107\n",
    "nombre_recovered    16664\n",
    "Name: 101, dtype: int64"
   ]
  },
  {
   "cell_type": "markdown",
   "id": "e5f33f77",
   "metadata": {},
   "source": [
    "nombre_infected       142\n",
    "nombre_sain          3137\n",
    "nombre_exposed         97\n",
    "nombre_recovered    16624\n",
    "Name: 102, dtype: int64"
   ]
  },
  {
   "cell_type": "markdown",
   "id": "00c8bf7b",
   "metadata": {},
   "source": [
    "nombre_infected       141\n",
    "nombre_sain          3189\n",
    "nombre_exposed         94\n",
    "nombre_recovered    16576\n",
    "Name: 103, dtype: int64"
   ]
  },
  {
   "cell_type": "markdown",
   "id": "3b95e9a5",
   "metadata": {},
   "source": [
    "nombre_infected       141\n",
    "nombre_sain          3221\n",
    "nombre_exposed        100\n",
    "nombre_recovered    16538\n",
    "Name: 104, dtype: int64"
   ]
  },
  {
   "cell_type": "markdown",
   "id": "00ba551e",
   "metadata": {},
   "source": [
    "nombre_infected       140\n",
    "nombre_sain          3266\n",
    "nombre_exposed        109\n",
    "nombre_recovered    16485\n",
    "Name: 105, dtype: int64"
   ]
  },
  {
   "cell_type": "markdown",
   "id": "561977a5",
   "metadata": {},
   "source": [
    "nombre_infected       139\n",
    "nombre_sain          3297\n",
    "nombre_exposed        119\n",
    "nombre_recovered    16445\n",
    "Name: 106, dtype: int64"
   ]
  },
  {
   "cell_type": "markdown",
   "id": "1f63682a",
   "metadata": {},
   "source": [
    "nombre_infected       143\n",
    "nombre_sain          3321\n",
    "nombre_exposed        122\n",
    "nombre_recovered    16414\n",
    "Name: 107, dtype: int64"
   ]
  },
  {
   "cell_type": "markdown",
   "id": "6d1c0c0d",
   "metadata": {},
   "source": [
    "nombre_infected       144\n",
    "nombre_sain          3357\n",
    "nombre_exposed        134\n",
    "nombre_recovered    16365\n",
    "Name: 108, dtype: int64"
   ]
  },
  {
   "cell_type": "markdown",
   "id": "52e0a7f7",
   "metadata": {},
   "source": [
    "nombre_infected       144\n",
    "nombre_sain          3377\n",
    "nombre_exposed        145\n",
    "nombre_recovered    16334\n",
    "Name: 109, dtype: int64"
   ]
  },
  {
   "cell_type": "markdown",
   "id": "cdad1090",
   "metadata": {},
   "source": [
    "nombre_infected       153\n",
    "nombre_sain          3398\n",
    "nombre_exposed        140\n",
    "nombre_recovered    16309\n",
    "Name: 110, dtype: int64"
   ]
  },
  {
   "cell_type": "markdown",
   "id": "37eee1a0",
   "metadata": {},
   "source": [
    "nombre_infected       163\n",
    "nombre_sain          3416\n",
    "nombre_exposed        142\n",
    "nombre_recovered    16279\n",
    "Name: 111, dtype: int64"
   ]
  },
  {
   "cell_type": "markdown",
   "id": "f9535618",
   "metadata": {},
   "source": [
    "nombre_infected       175\n",
    "nombre_sain          3431\n",
    "nombre_exposed        147\n",
    "nombre_recovered    16247\n",
    "Name: 112, dtype: int64"
   ]
  },
  {
   "cell_type": "markdown",
   "id": "b6cf5e2b",
   "metadata": {},
   "source": [
    "nombre_infected       204\n",
    "nombre_sain          3428\n",
    "nombre_exposed        147\n",
    "nombre_recovered    16221\n",
    "Name: 113, dtype: int64"
   ]
  },
  {
   "cell_type": "markdown",
   "id": "43dcc206",
   "metadata": {},
   "source": [
    "nombre_infected       203\n",
    "nombre_sain          3425\n",
    "nombre_exposed        154\n",
    "nombre_recovered    16218\n",
    "Name: 114, dtype: int64"
   ]
  },
  {
   "cell_type": "markdown",
   "id": "7c556d2b",
   "metadata": {},
   "source": [
    "nombre_infected       194\n",
    "nombre_sain          3425\n",
    "nombre_exposed        178\n",
    "nombre_recovered    16203\n",
    "Name: 115, dtype: int64"
   ]
  },
  {
   "cell_type": "markdown",
   "id": "3410e98e",
   "metadata": {},
   "source": [
    "nombre_infected       202\n",
    "nombre_sain          3430\n",
    "nombre_exposed        183\n",
    "nombre_recovered    16185\n",
    "Name: 116, dtype: int64"
   ]
  },
  {
   "cell_type": "markdown",
   "id": "d7e608d8",
   "metadata": {},
   "source": [
    "nombre_infected       215\n",
    "nombre_sain          3423\n",
    "nombre_exposed        184\n",
    "nombre_recovered    16178\n",
    "Name: 117, dtype: int64"
   ]
  },
  {
   "cell_type": "markdown",
   "id": "8e660b19",
   "metadata": {},
   "source": [
    "nombre_infected       229\n",
    "nombre_sain          3417\n",
    "nombre_exposed        192\n",
    "nombre_recovered    16162\n",
    "Name: 118, dtype: int64"
   ]
  },
  {
   "cell_type": "markdown",
   "id": "ca021ba9",
   "metadata": {},
   "source": [
    "nombre_infected       236\n",
    "nombre_sain          3391\n",
    "nombre_exposed        215\n",
    "nombre_recovered    16158\n",
    "Name: 119, dtype: int64"
   ]
  },
  {
   "cell_type": "markdown",
   "id": "81970597",
   "metadata": {},
   "source": [
    "nombre_infected       236\n",
    "nombre_sain          3385\n",
    "nombre_exposed        222\n",
    "nombre_recovered    16157\n",
    "Name: 120, dtype: int64"
   ]
  },
  {
   "cell_type": "markdown",
   "id": "1500ee70",
   "metadata": {},
   "source": [
    "nombre_infected       258\n",
    "nombre_sain          3381\n",
    "nombre_exposed        217\n",
    "nombre_recovered    16144\n",
    "Name: 121, dtype: int64"
   ]
  },
  {
   "cell_type": "markdown",
   "id": "754fdcc0",
   "metadata": {},
   "source": [
    "nombre_infected       280\n",
    "nombre_sain          3356\n",
    "nombre_exposed        226\n",
    "nombre_recovered    16138\n",
    "Name: 122, dtype: int64"
   ]
  },
  {
   "cell_type": "markdown",
   "id": "30046603",
   "metadata": {},
   "source": [
    "nombre_infected       286\n",
    "nombre_sain          3313\n",
    "nombre_exposed        247\n",
    "nombre_recovered    16154\n",
    "Name: 123, dtype: int64"
   ]
  },
  {
   "cell_type": "markdown",
   "id": "437499d7",
   "metadata": {},
   "source": [
    "nombre_infected       298\n",
    "nombre_sain          3270\n",
    "nombre_exposed        259\n",
    "nombre_recovered    16173\n",
    "Name: 124, dtype: int64"
   ]
  },
  {
   "cell_type": "markdown",
   "id": "93a2c461",
   "metadata": {},
   "source": [
    "nombre_infected       320\n",
    "nombre_sain          3247\n",
    "nombre_exposed        263\n",
    "nombre_recovered    16170\n",
    "Name: 125, dtype: int64"
   ]
  },
  {
   "cell_type": "markdown",
   "id": "9617bdb4",
   "metadata": {},
   "source": [
    "nombre_infected       352\n",
    "nombre_sain          3214\n",
    "nombre_exposed        263\n",
    "nombre_recovered    16171\n",
    "Name: 126, dtype: int64"
   ]
  },
  {
   "cell_type": "markdown",
   "id": "f10eb4b2",
   "metadata": {},
   "source": [
    "nombre_infected       362\n",
    "nombre_sain          3176\n",
    "nombre_exposed        283\n",
    "nombre_recovered    16179\n",
    "Name: 127, dtype: int64"
   ]
  },
  {
   "cell_type": "markdown",
   "id": "fb5e03ae",
   "metadata": {},
   "source": [
    "nombre_infected       383\n",
    "nombre_sain          3136\n",
    "nombre_exposed        293\n",
    "nombre_recovered    16188\n",
    "Name: 128, dtype: int64"
   ]
  },
  {
   "cell_type": "markdown",
   "id": "fbf7bc86",
   "metadata": {},
   "source": [
    "nombre_infected       388\n",
    "nombre_sain          3115\n",
    "nombre_exposed        306\n",
    "nombre_recovered    16191\n",
    "Name: 129, dtype: int64"
   ]
  },
  {
   "cell_type": "markdown",
   "id": "18392f07",
   "metadata": {},
   "source": [
    "nombre_infected       382\n",
    "nombre_sain          3101\n",
    "nombre_exposed        311\n",
    "nombre_recovered    16206\n",
    "Name: 130, dtype: int64"
   ]
  },
  {
   "cell_type": "markdown",
   "id": "3d0fb2d6",
   "metadata": {},
   "source": [
    "nombre_infected       420\n",
    "nombre_sain          3072\n",
    "nombre_exposed        301\n",
    "nombre_recovered    16207\n",
    "Name: 131, dtype: int64"
   ]
  },
  {
   "cell_type": "markdown",
   "id": "b8cc879a",
   "metadata": {},
   "source": [
    "nombre_infected       417\n",
    "nombre_sain          3038\n",
    "nombre_exposed        322\n",
    "nombre_recovered    16223\n",
    "Name: 132, dtype: int64"
   ]
  },
  {
   "cell_type": "markdown",
   "id": "1ff111a5",
   "metadata": {},
   "source": [
    "nombre_infected       417\n",
    "nombre_sain          2993\n",
    "nombre_exposed        358\n",
    "nombre_recovered    16232\n",
    "Name: 133, dtype: int64"
   ]
  },
  {
   "cell_type": "markdown",
   "id": "d0dc5fed",
   "metadata": {},
   "source": [
    "nombre_infected       433\n",
    "nombre_sain          2962\n",
    "nombre_exposed        371\n",
    "nombre_recovered    16234\n",
    "Name: 134, dtype: int64"
   ]
  },
  {
   "cell_type": "markdown",
   "id": "2f2d8079",
   "metadata": {},
   "source": [
    "nombre_infected       445\n",
    "nombre_sain          2930\n",
    "nombre_exposed        373\n",
    "nombre_recovered    16252\n",
    "Name: 135, dtype: int64"
   ]
  },
  {
   "cell_type": "markdown",
   "id": "200fdeba",
   "metadata": {},
   "source": [
    "nombre_infected       473\n",
    "nombre_sain          2879\n",
    "nombre_exposed        390\n",
    "nombre_recovered    16258\n",
    "Name: 136, dtype: int64"
   ]
  },
  {
   "cell_type": "markdown",
   "id": "38eb34e6",
   "metadata": {},
   "source": [
    "nombre_infected       505\n",
    "nombre_sain          2841\n",
    "nombre_exposed        392\n",
    "nombre_recovered    16262\n",
    "Name: 137, dtype: int64"
   ]
  },
  {
   "cell_type": "markdown",
   "id": "6b9ae5e4",
   "metadata": {},
   "source": [
    "nombre_infected       511\n",
    "nombre_sain          2806\n",
    "nombre_exposed        415\n",
    "nombre_recovered    16268\n",
    "Name: 138, dtype: int64"
   ]
  },
  {
   "cell_type": "markdown",
   "id": "db4a6617",
   "metadata": {},
   "source": [
    "nombre_infected       538\n",
    "nombre_sain          2773\n",
    "nombre_exposed        410\n",
    "nombre_recovered    16279\n",
    "Name: 139, dtype: int64"
   ]
  },
  {
   "cell_type": "markdown",
   "id": "2568f432",
   "metadata": {},
   "source": [
    "nombre_infected       579\n",
    "nombre_sain          2741\n",
    "nombre_exposed        405\n",
    "nombre_recovered    16275\n",
    "Name: 140, dtype: int64"
   ]
  },
  {
   "cell_type": "markdown",
   "id": "cd06af77",
   "metadata": {},
   "source": [
    "nombre_infected       577\n",
    "nombre_sain          2708\n",
    "nombre_exposed        422\n",
    "nombre_recovered    16293\n",
    "Name: 141, dtype: int64"
   ]
  },
  {
   "cell_type": "markdown",
   "id": "c5d5beec",
   "metadata": {},
   "source": [
    "nombre_infected       601\n",
    "nombre_sain          2683\n",
    "nombre_exposed        443\n",
    "nombre_recovered    16273\n",
    "Name: 142, dtype: int64"
   ]
  },
  {
   "cell_type": "markdown",
   "id": "a29f1246",
   "metadata": {},
   "source": [
    "nombre_infected       622\n",
    "nombre_sain          2657\n",
    "nombre_exposed        456\n",
    "nombre_recovered    16265\n",
    "Name: 143, dtype: int64"
   ]
  },
  {
   "cell_type": "markdown",
   "id": "5a581efc",
   "metadata": {},
   "source": [
    "nombre_infected       633\n",
    "nombre_sain          2645\n",
    "nombre_exposed        451\n",
    "nombre_recovered    16271\n",
    "Name: 144, dtype: int64"
   ]
  },
  {
   "cell_type": "markdown",
   "id": "0c1a74f3",
   "metadata": {},
   "source": [
    "nombre_infected       650\n",
    "nombre_sain          2591\n",
    "nombre_exposed        481\n",
    "nombre_recovered    16278\n",
    "Name: 145, dtype: int64"
   ]
  },
  {
   "cell_type": "markdown",
   "id": "61be87cf",
   "metadata": {},
   "source": [
    "nombre_infected       675\n",
    "nombre_sain          2558\n",
    "nombre_exposed        492\n",
    "nombre_recovered    16275\n",
    "Name: 146, dtype: int64"
   ]
  },
  {
   "cell_type": "markdown",
   "id": "c6555259",
   "metadata": {},
   "source": [
    "nombre_infected       699\n",
    "nombre_sain          2529\n",
    "nombre_exposed        494\n",
    "nombre_recovered    16278\n",
    "Name: 147, dtype: int64"
   ]
  },
  {
   "cell_type": "markdown",
   "id": "7ee4ed60",
   "metadata": {},
   "source": [
    "nombre_infected       695\n",
    "nombre_sain          2525\n",
    "nombre_exposed        491\n",
    "nombre_recovered    16289\n",
    "Name: 148, dtype: int64"
   ]
  },
  {
   "cell_type": "markdown",
   "id": "774a342f",
   "metadata": {},
   "source": [
    "nombre_infected       712\n",
    "nombre_sain          2526\n",
    "nombre_exposed        470\n",
    "nombre_recovered    16292\n",
    "Name: 149, dtype: int64"
   ]
  },
  {
   "cell_type": "markdown",
   "id": "c6cdc75b",
   "metadata": {},
   "source": [
    "nombre_infected       724\n",
    "nombre_sain          2529\n",
    "nombre_exposed        479\n",
    "nombre_recovered    16268\n",
    "Name: 150, dtype: int64"
   ]
  },
  {
   "cell_type": "markdown",
   "id": "209bdd42",
   "metadata": {},
   "source": [
    "nombre_infected       754\n",
    "nombre_sain          2527\n",
    "nombre_exposed        472\n",
    "nombre_recovered    16247\n",
    "Name: 151, dtype: int64"
   ]
  },
  {
   "cell_type": "markdown",
   "id": "7f1b6f1f",
   "metadata": {},
   "source": [
    "nombre_infected       751\n",
    "nombre_sain          2520\n",
    "nombre_exposed        487\n",
    "nombre_recovered    16242\n",
    "Name: 152, dtype: int64"
   ]
  },
  {
   "cell_type": "markdown",
   "id": "fae9ad13",
   "metadata": {},
   "source": [
    "nombre_infected       738\n",
    "nombre_sain          2500\n",
    "nombre_exposed        505\n",
    "nombre_recovered    16257\n",
    "Name: 153, dtype: int64"
   ]
  },
  {
   "cell_type": "markdown",
   "id": "83258fcc",
   "metadata": {},
   "source": [
    "nombre_infected       756\n",
    "nombre_sain          2491\n",
    "nombre_exposed        509\n",
    "nombre_recovered    16244\n",
    "Name: 154, dtype: int64"
   ]
  },
  {
   "cell_type": "markdown",
   "id": "2b580ec1",
   "metadata": {},
   "source": [
    "nombre_infected       775\n",
    "nombre_sain          2485\n",
    "nombre_exposed        510\n",
    "nombre_recovered    16230\n",
    "Name: 155, dtype: int64"
   ]
  },
  {
   "cell_type": "markdown",
   "id": "16948db0",
   "metadata": {},
   "source": [
    "nombre_infected       777\n",
    "nombre_sain          2479\n",
    "nombre_exposed        504\n",
    "nombre_recovered    16240\n",
    "Name: 156, dtype: int64"
   ]
  },
  {
   "cell_type": "markdown",
   "id": "d5e91ae0",
   "metadata": {},
   "source": [
    "nombre_infected       790\n",
    "nombre_sain          2455\n",
    "nombre_exposed        510\n",
    "nombre_recovered    16245\n",
    "Name: 157, dtype: int64"
   ]
  },
  {
   "cell_type": "markdown",
   "id": "f9043791",
   "metadata": {},
   "source": [
    "nombre_infected       811\n",
    "nombre_sain          2425\n",
    "nombre_exposed        510\n",
    "nombre_recovered    16254\n",
    "Name: 158, dtype: int64"
   ]
  },
  {
   "cell_type": "markdown",
   "id": "18aa04df",
   "metadata": {},
   "source": [
    "nombre_infected       802\n",
    "nombre_sain          2399\n",
    "nombre_exposed        522\n",
    "nombre_recovered    16277\n",
    "Name: 159, dtype: int64"
   ]
  },
  {
   "cell_type": "markdown",
   "id": "9d64cebd",
   "metadata": {},
   "source": [
    "nombre_infected       784\n",
    "nombre_sain          2369\n",
    "nombre_exposed        518\n",
    "nombre_recovered    16329\n",
    "Name: 160, dtype: int64"
   ]
  },
  {
   "cell_type": "markdown",
   "id": "77392564",
   "metadata": {},
   "source": [
    "nombre_infected       834\n",
    "nombre_sain          2364\n",
    "nombre_exposed        490\n",
    "nombre_recovered    16312\n",
    "Name: 161, dtype: int64"
   ]
  },
  {
   "cell_type": "markdown",
   "id": "5d2c5553",
   "metadata": {},
   "source": [
    "nombre_infected       846\n",
    "nombre_sain          2348\n",
    "nombre_exposed        484\n",
    "nombre_recovered    16322\n",
    "Name: 162, dtype: int64"
   ]
  },
  {
   "cell_type": "markdown",
   "id": "4fe04dc8",
   "metadata": {},
   "source": [
    "nombre_infected       839\n",
    "nombre_sain          2334\n",
    "nombre_exposed        505\n",
    "nombre_recovered    16322\n",
    "Name: 163, dtype: int64"
   ]
  },
  {
   "cell_type": "markdown",
   "id": "8fe8f6e2",
   "metadata": {},
   "source": [
    "nombre_infected       849\n",
    "nombre_sain          2305\n",
    "nombre_exposed        510\n",
    "nombre_recovered    16336\n",
    "Name: 164, dtype: int64"
   ]
  },
  {
   "cell_type": "markdown",
   "id": "8b9f16f3",
   "metadata": {},
   "source": [
    "nombre_infected       832\n",
    "nombre_sain          2295\n",
    "nombre_exposed        530\n",
    "nombre_recovered    16343\n",
    "Name: 165, dtype: int64"
   ]
  },
  {
   "cell_type": "markdown",
   "id": "46f5d7f0",
   "metadata": {},
   "source": [
    "nombre_infected       831\n",
    "nombre_sain          2298\n",
    "nombre_exposed        508\n",
    "nombre_recovered    16363\n",
    "Name: 166, dtype: int64"
   ]
  },
  {
   "cell_type": "markdown",
   "id": "42427519",
   "metadata": {},
   "source": [
    "nombre_infected       842\n",
    "nombre_sain          2281\n",
    "nombre_exposed        522\n",
    "nombre_recovered    16355\n",
    "Name: 167, dtype: int64"
   ]
  },
  {
   "cell_type": "markdown",
   "id": "f2c64ac7",
   "metadata": {},
   "source": [
    "nombre_infected       837\n",
    "nombre_sain          2289\n",
    "nombre_exposed        515\n",
    "nombre_recovered    16359\n",
    "Name: 168, dtype: int64"
   ]
  },
  {
   "cell_type": "markdown",
   "id": "b123fa25",
   "metadata": {},
   "source": [
    "nombre_infected       853\n",
    "nombre_sain          2281\n",
    "nombre_exposed        508\n",
    "nombre_recovered    16358\n",
    "Name: 169, dtype: int64"
   ]
  },
  {
   "cell_type": "markdown",
   "id": "5377ea83",
   "metadata": {},
   "source": [
    "nombre_infected       851\n",
    "nombre_sain          2284\n",
    "nombre_exposed        495\n",
    "nombre_recovered    16370\n",
    "Name: 170, dtype: int64"
   ]
  },
  {
   "cell_type": "markdown",
   "id": "5112e44b",
   "metadata": {},
   "source": [
    "nombre_infected       842\n",
    "nombre_sain          2300\n",
    "nombre_exposed        485\n",
    "nombre_recovered    16373\n",
    "Name: 171, dtype: int64"
   ]
  },
  {
   "cell_type": "markdown",
   "id": "94239ad7",
   "metadata": {},
   "source": [
    "nombre_infected       810\n",
    "nombre_sain          2280\n",
    "nombre_exposed        504\n",
    "nombre_recovered    16406\n",
    "Name: 172, dtype: int64"
   ]
  },
  {
   "cell_type": "markdown",
   "id": "55535767",
   "metadata": {},
   "source": [
    "nombre_infected       796\n",
    "nombre_sain          2237\n",
    "nombre_exposed        516\n",
    "nombre_recovered    16451\n",
    "Name: 173, dtype: int64"
   ]
  },
  {
   "cell_type": "markdown",
   "id": "1ab62615",
   "metadata": {},
   "source": [
    "nombre_infected       781\n",
    "nombre_sain          2234\n",
    "nombre_exposed        513\n",
    "nombre_recovered    16472\n",
    "Name: 174, dtype: int64"
   ]
  },
  {
   "cell_type": "markdown",
   "id": "c779de23",
   "metadata": {},
   "source": [
    "nombre_infected       778\n",
    "nombre_sain          2217\n",
    "nombre_exposed        503\n",
    "nombre_recovered    16502\n",
    "Name: 175, dtype: int64"
   ]
  },
  {
   "cell_type": "markdown",
   "id": "2193c0d5",
   "metadata": {},
   "source": [
    "nombre_infected       783\n",
    "nombre_sain          2223\n",
    "nombre_exposed        487\n",
    "nombre_recovered    16507\n",
    "Name: 176, dtype: int64"
   ]
  },
  {
   "cell_type": "markdown",
   "id": "d4dfb846",
   "metadata": {},
   "source": [
    "nombre_infected       786\n",
    "nombre_sain          2216\n",
    "nombre_exposed        466\n",
    "nombre_recovered    16532\n",
    "Name: 177, dtype: int64"
   ]
  },
  {
   "cell_type": "markdown",
   "id": "6f8cefcf",
   "metadata": {},
   "source": [
    "nombre_infected       787\n",
    "nombre_sain          2225\n",
    "nombre_exposed        456\n",
    "nombre_recovered    16532\n",
    "Name: 178, dtype: int64"
   ]
  },
  {
   "cell_type": "markdown",
   "id": "461782b2",
   "metadata": {},
   "source": [
    "nombre_infected       742\n",
    "nombre_sain          2240\n",
    "nombre_exposed        455\n",
    "nombre_recovered    16563\n",
    "Name: 179, dtype: int64"
   ]
  },
  {
   "cell_type": "markdown",
   "id": "c1a67681",
   "metadata": {},
   "source": [
    "nombre_infected       721\n",
    "nombre_sain          2254\n",
    "nombre_exposed        449\n",
    "nombre_recovered    16576\n",
    "Name: 180, dtype: int64"
   ]
  },
  {
   "cell_type": "markdown",
   "id": "c6f06809",
   "metadata": {},
   "source": [
    "nombre_infected       695\n",
    "nombre_sain          2268\n",
    "nombre_exposed        437\n",
    "nombre_recovered    16600\n",
    "Name: 181, dtype: int64"
   ]
  },
  {
   "cell_type": "markdown",
   "id": "bc5cb2a1",
   "metadata": {},
   "source": [
    "nombre_infected       702\n",
    "nombre_sain          2279\n",
    "nombre_exposed        413\n",
    "nombre_recovered    16606\n",
    "Name: 182, dtype: int64"
   ]
  },
  {
   "cell_type": "markdown",
   "id": "1d4990d2",
   "metadata": {},
   "source": [
    "nombre_infected       697\n",
    "nombre_sain          2292\n",
    "nombre_exposed        407\n",
    "nombre_recovered    16604\n",
    "Name: 183, dtype: int64"
   ]
  },
  {
   "cell_type": "markdown",
   "id": "ac3c24ad",
   "metadata": {},
   "source": [
    "nombre_infected       665\n",
    "nombre_sain          2279\n",
    "nombre_exposed        412\n",
    "nombre_recovered    16644\n",
    "Name: 184, dtype: int64"
   ]
  },
  {
   "cell_type": "markdown",
   "id": "886f1b22",
   "metadata": {},
   "source": [
    "nombre_infected       668\n",
    "nombre_sain          2257\n",
    "nombre_exposed        419\n",
    "nombre_recovered    16656\n",
    "Name: 185, dtype: int64"
   ]
  },
  {
   "cell_type": "markdown",
   "id": "f9f5c84b",
   "metadata": {},
   "source": [
    "nombre_infected       646\n",
    "nombre_sain          2273\n",
    "nombre_exposed        411\n",
    "nombre_recovered    16670\n",
    "Name: 186, dtype: int64"
   ]
  },
  {
   "cell_type": "markdown",
   "id": "24269854",
   "metadata": {},
   "source": [
    "nombre_infected       624\n",
    "nombre_sain          2280\n",
    "nombre_exposed        425\n",
    "nombre_recovered    16671\n",
    "Name: 187, dtype: int64"
   ]
  },
  {
   "cell_type": "markdown",
   "id": "3bf0ed4f",
   "metadata": {},
   "source": [
    "nombre_infected       620\n",
    "nombre_sain          2299\n",
    "nombre_exposed        420\n",
    "nombre_recovered    16661\n",
    "Name: 188, dtype: int64"
   ]
  },
  {
   "cell_type": "markdown",
   "id": "365b4beb",
   "metadata": {},
   "source": [
    "nombre_infected       596\n",
    "nombre_sain          2321\n",
    "nombre_exposed        408\n",
    "nombre_recovered    16675\n",
    "Name: 189, dtype: int64"
   ]
  },
  {
   "cell_type": "markdown",
   "id": "bc31a730",
   "metadata": {},
   "source": [
    "nombre_infected       586\n",
    "nombre_sain          2349\n",
    "nombre_exposed        376\n",
    "nombre_recovered    16689\n",
    "Name: 190, dtype: int64"
   ]
  },
  {
   "cell_type": "markdown",
   "id": "4003b182",
   "metadata": {},
   "source": [
    "nombre_infected       577\n",
    "nombre_sain          2373\n",
    "nombre_exposed        373\n",
    "nombre_recovered    16677\n",
    "Name: 191, dtype: int64"
   ]
  },
  {
   "cell_type": "markdown",
   "id": "4de97d13",
   "metadata": {},
   "source": [
    "nombre_infected       562\n",
    "nombre_sain          2382\n",
    "nombre_exposed        379\n",
    "nombre_recovered    16677\n",
    "Name: 192, dtype: int64"
   ]
  },
  {
   "cell_type": "markdown",
   "id": "4bd6669b",
   "metadata": {},
   "source": [
    "nombre_infected       546\n",
    "nombre_sain          2438\n",
    "nombre_exposed        370\n",
    "nombre_recovered    16646\n",
    "Name: 193, dtype: int64"
   ]
  },
  {
   "cell_type": "markdown",
   "id": "b0253bc6",
   "metadata": {},
   "source": [
    "nombre_infected       547\n",
    "nombre_sain          2453\n",
    "nombre_exposed        364\n",
    "nombre_recovered    16636\n",
    "Name: 194, dtype: int64"
   ]
  },
  {
   "cell_type": "markdown",
   "id": "6c521ee8",
   "metadata": {},
   "source": [
    "nombre_infected       544\n",
    "nombre_sain          2488\n",
    "nombre_exposed        380\n",
    "nombre_recovered    16588\n",
    "Name: 195, dtype: int64"
   ]
  },
  {
   "cell_type": "markdown",
   "id": "44e131d3",
   "metadata": {},
   "source": [
    "nombre_infected       533\n",
    "nombre_sain          2535\n",
    "nombre_exposed        374\n",
    "nombre_recovered    16558\n",
    "Name: 196, dtype: int64"
   ]
  },
  {
   "cell_type": "markdown",
   "id": "64651869",
   "metadata": {},
   "source": [
    "nombre_infected       524\n",
    "nombre_sain          2565\n",
    "nombre_exposed        359\n",
    "nombre_recovered    16552\n",
    "Name: 197, dtype: int64"
   ]
  },
  {
   "cell_type": "markdown",
   "id": "28cc5507",
   "metadata": {},
   "source": [
    "nombre_infected       528\n",
    "nombre_sain          2619\n",
    "nombre_exposed        351\n",
    "nombre_recovered    16502\n",
    "Name: 198, dtype: int64"
   ]
  },
  {
   "cell_type": "markdown",
   "id": "1e542be2",
   "metadata": {},
   "source": [
    "nombre_infected       527\n",
    "nombre_sain          2621\n",
    "nombre_exposed        375\n",
    "nombre_recovered    16477\n",
    "Name: 199, dtype: int64"
   ]
  },
  {
   "cell_type": "markdown",
   "id": "60570b10",
   "metadata": {},
   "source": [
    "nombre_infected       505\n",
    "nombre_sain          2649\n",
    "nombre_exposed        379\n",
    "nombre_recovered    16467\n",
    "Name: 200, dtype: int64"
   ]
  },
  {
   "cell_type": "markdown",
   "id": "f4f4ef25",
   "metadata": {},
   "source": [
    "nombre_infected       492\n",
    "nombre_sain          2690\n",
    "nombre_exposed        380\n",
    "nombre_recovered    16438\n",
    "Name: 201, dtype: int64"
   ]
  },
  {
   "cell_type": "markdown",
   "id": "a749662e",
   "metadata": {},
   "source": [
    "nombre_infected       510\n",
    "nombre_sain          2698\n",
    "nombre_exposed        376\n",
    "nombre_recovered    16416\n",
    "Name: 202, dtype: int64"
   ]
  },
  {
   "cell_type": "markdown",
   "id": "37778e36",
   "metadata": {},
   "source": [
    "nombre_infected       519\n",
    "nombre_sain          2743\n",
    "nombre_exposed        366\n",
    "nombre_recovered    16372\n",
    "Name: 203, dtype: int64"
   ]
  },
  {
   "cell_type": "markdown",
   "id": "f519f377",
   "metadata": {},
   "source": [
    "nombre_infected       523\n",
    "nombre_sain          2753\n",
    "nombre_exposed        385\n",
    "nombre_recovered    16339\n",
    "Name: 204, dtype: int64"
   ]
  },
  {
   "cell_type": "markdown",
   "id": "b9b9a29d",
   "metadata": {},
   "source": [
    "nombre_infected       512\n",
    "nombre_sain          2780\n",
    "nombre_exposed        398\n",
    "nombre_recovered    16310\n",
    "Name: 205, dtype: int64"
   ]
  },
  {
   "cell_type": "markdown",
   "id": "0ba1dd0a",
   "metadata": {},
   "source": [
    "nombre_infected       513\n",
    "nombre_sain          2797\n",
    "nombre_exposed        394\n",
    "nombre_recovered    16296\n",
    "Name: 206, dtype: int64"
   ]
  },
  {
   "cell_type": "markdown",
   "id": "b5e31f82",
   "metadata": {},
   "source": [
    "nombre_infected       520\n",
    "nombre_sain          2790\n",
    "nombre_exposed        406\n",
    "nombre_recovered    16284\n",
    "Name: 207, dtype: int64"
   ]
  },
  {
   "cell_type": "markdown",
   "id": "da2dc2c0",
   "metadata": {},
   "source": [
    "nombre_infected       504\n",
    "nombre_sain          2780\n",
    "nombre_exposed        435\n",
    "nombre_recovered    16281\n",
    "Name: 208, dtype: int64"
   ]
  },
  {
   "cell_type": "markdown",
   "id": "29083572",
   "metadata": {},
   "source": [
    "nombre_infected       526\n",
    "nombre_sain          2806\n",
    "nombre_exposed        419\n",
    "nombre_recovered    16249\n",
    "Name: 209, dtype: int64"
   ]
  },
  {
   "cell_type": "markdown",
   "id": "f3ed0706",
   "metadata": {},
   "source": [
    "nombre_infected       569\n",
    "nombre_sain          2817\n",
    "nombre_exposed        409\n",
    "nombre_recovered    16205\n",
    "Name: 210, dtype: int64"
   ]
  },
  {
   "cell_type": "markdown",
   "id": "973f44d2",
   "metadata": {},
   "source": [
    "nombre_infected       589\n",
    "nombre_sain          2819\n",
    "nombre_exposed        402\n",
    "nombre_recovered    16190\n",
    "Name: 211, dtype: int64"
   ]
  },
  {
   "cell_type": "markdown",
   "id": "40828e9c",
   "metadata": {},
   "source": [
    "nombre_infected       589\n",
    "nombre_sain          2813\n",
    "nombre_exposed        406\n",
    "nombre_recovered    16192\n",
    "Name: 212, dtype: int64"
   ]
  },
  {
   "cell_type": "markdown",
   "id": "4fd0db22",
   "metadata": {},
   "source": [
    "nombre_infected       600\n",
    "nombre_sain          2821\n",
    "nombre_exposed        412\n",
    "nombre_recovered    16167\n",
    "Name: 213, dtype: int64"
   ]
  },
  {
   "cell_type": "markdown",
   "id": "62561f6d",
   "metadata": {},
   "source": [
    "nombre_infected       587\n",
    "nombre_sain          2831\n",
    "nombre_exposed        408\n",
    "nombre_recovered    16174\n",
    "Name: 214, dtype: int64"
   ]
  },
  {
   "cell_type": "markdown",
   "id": "44191e3e",
   "metadata": {},
   "source": [
    "nombre_infected       587\n",
    "nombre_sain          2854\n",
    "nombre_exposed        423\n",
    "nombre_recovered    16136\n",
    "Name: 215, dtype: int64"
   ]
  },
  {
   "cell_type": "markdown",
   "id": "303d0fad",
   "metadata": {},
   "source": [
    "nombre_infected       581\n",
    "nombre_sain          2819\n",
    "nombre_exposed        460\n",
    "nombre_recovered    16140\n",
    "Name: 216, dtype: int64"
   ]
  },
  {
   "cell_type": "markdown",
   "id": "07927ebe",
   "metadata": {},
   "source": [
    "nombre_infected       576\n",
    "nombre_sain          2816\n",
    "nombre_exposed        470\n",
    "nombre_recovered    16138\n",
    "Name: 217, dtype: int64"
   ]
  },
  {
   "cell_type": "markdown",
   "id": "f2acc50c",
   "metadata": {},
   "source": [
    "nombre_infected       602\n",
    "nombre_sain          2806\n",
    "nombre_exposed        466\n",
    "nombre_recovered    16126\n",
    "Name: 218, dtype: int64"
   ]
  },
  {
   "cell_type": "markdown",
   "id": "91e21120",
   "metadata": {},
   "source": [
    "nombre_infected       622\n",
    "nombre_sain          2807\n",
    "nombre_exposed        469\n",
    "nombre_recovered    16102\n",
    "Name: 219, dtype: int64"
   ]
  },
  {
   "cell_type": "markdown",
   "id": "befa8f04",
   "metadata": {},
   "source": [
    "nombre_infected       641\n",
    "nombre_sain          2805\n",
    "nombre_exposed        471\n",
    "nombre_recovered    16083\n",
    "Name: 220, dtype: int64"
   ]
  },
  {
   "cell_type": "markdown",
   "id": "fade1b8a",
   "metadata": {},
   "source": [
    "nombre_infected       637\n",
    "nombre_sain          2792\n",
    "nombre_exposed        461\n",
    "nombre_recovered    16110\n",
    "Name: 221, dtype: int64"
   ]
  },
  {
   "cell_type": "markdown",
   "id": "f8b1d58d",
   "metadata": {},
   "source": [
    "nombre_infected       653\n",
    "nombre_sain          2785\n",
    "nombre_exposed        448\n",
    "nombre_recovered    16114\n",
    "Name: 222, dtype: int64"
   ]
  },
  {
   "cell_type": "markdown",
   "id": "beb5ba03",
   "metadata": {},
   "source": [
    "nombre_infected       662\n",
    "nombre_sain          2764\n",
    "nombre_exposed        454\n",
    "nombre_recovered    16120\n",
    "Name: 223, dtype: int64"
   ]
  },
  {
   "cell_type": "markdown",
   "id": "05c81c75",
   "metadata": {},
   "source": [
    "nombre_infected       670\n",
    "nombre_sain          2759\n",
    "nombre_exposed        446\n",
    "nombre_recovered    16125\n",
    "Name: 224, dtype: int64"
   ]
  },
  {
   "cell_type": "markdown",
   "id": "bbd5e15b",
   "metadata": {},
   "source": [
    "nombre_infected       662\n",
    "nombre_sain          2742\n",
    "nombre_exposed        446\n",
    "nombre_recovered    16150\n",
    "Name: 225, dtype: int64"
   ]
  },
  {
   "cell_type": "markdown",
   "id": "e3bc7286",
   "metadata": {},
   "source": [
    "nombre_infected       643\n",
    "nombre_sain          2729\n",
    "nombre_exposed        466\n",
    "nombre_recovered    16162\n",
    "Name: 226, dtype: int64"
   ]
  },
  {
   "cell_type": "markdown",
   "id": "b72b350b",
   "metadata": {},
   "source": [
    "nombre_infected       644\n",
    "nombre_sain          2708\n",
    "nombre_exposed        496\n",
    "nombre_recovered    16152\n",
    "Name: 227, dtype: int64"
   ]
  },
  {
   "cell_type": "markdown",
   "id": "bd96e63a",
   "metadata": {},
   "source": [
    "nombre_infected       663\n",
    "nombre_sain          2706\n",
    "nombre_exposed        477\n",
    "nombre_recovered    16154\n",
    "Name: 228, dtype: int64"
   ]
  },
  {
   "cell_type": "markdown",
   "id": "919f1988",
   "metadata": {},
   "source": [
    "nombre_infected       671\n",
    "nombre_sain          2673\n",
    "nombre_exposed        467\n",
    "nombre_recovered    16189\n",
    "Name: 229, dtype: int64"
   ]
  },
  {
   "cell_type": "markdown",
   "id": "3909b0a5",
   "metadata": {},
   "source": [
    "nombre_infected       691\n",
    "nombre_sain          2635\n",
    "nombre_exposed        475\n",
    "nombre_recovered    16199\n",
    "Name: 230, dtype: int64"
   ]
  },
  {
   "cell_type": "markdown",
   "id": "e345dfdf",
   "metadata": {},
   "source": [
    "nombre_infected       699\n",
    "nombre_sain          2608\n",
    "nombre_exposed        489\n",
    "nombre_recovered    16204\n",
    "Name: 231, dtype: int64"
   ]
  },
  {
   "cell_type": "markdown",
   "id": "e4ede6f9",
   "metadata": {},
   "source": [
    "nombre_infected       709\n",
    "nombre_sain          2575\n",
    "nombre_exposed        482\n",
    "nombre_recovered    16234\n",
    "Name: 232, dtype: int64"
   ]
  },
  {
   "cell_type": "markdown",
   "id": "eb73796d",
   "metadata": {},
   "source": [
    "nombre_infected       710\n",
    "nombre_sain          2538\n",
    "nombre_exposed        498\n",
    "nombre_recovered    16254\n",
    "Name: 233, dtype: int64"
   ]
  },
  {
   "cell_type": "markdown",
   "id": "b1e44679",
   "metadata": {},
   "source": [
    "nombre_infected       723\n",
    "nombre_sain          2510\n",
    "nombre_exposed        504\n",
    "nombre_recovered    16263\n",
    "Name: 234, dtype: int64"
   ]
  },
  {
   "cell_type": "markdown",
   "id": "8b8548f8",
   "metadata": {},
   "source": [
    "nombre_infected       709\n",
    "nombre_sain          2496\n",
    "nombre_exposed        512\n",
    "nombre_recovered    16283\n",
    "Name: 235, dtype: int64"
   ]
  },
  {
   "cell_type": "markdown",
   "id": "207cffff",
   "metadata": {},
   "source": [
    "nombre_infected       712\n",
    "nombre_sain          2487\n",
    "nombre_exposed        490\n",
    "nombre_recovered    16311\n",
    "Name: 236, dtype: int64"
   ]
  },
  {
   "cell_type": "markdown",
   "id": "0dfeb2e2",
   "metadata": {},
   "source": [
    "nombre_infected       721\n",
    "nombre_sain          2488\n",
    "nombre_exposed        486\n",
    "nombre_recovered    16305\n",
    "Name: 237, dtype: int64"
   ]
  },
  {
   "cell_type": "markdown",
   "id": "2e25d1b9",
   "metadata": {},
   "source": [
    "nombre_infected       718\n",
    "nombre_sain          2493\n",
    "nombre_exposed        466\n",
    "nombre_recovered    16323\n",
    "Name: 238, dtype: int64"
   ]
  },
  {
   "cell_type": "markdown",
   "id": "394918c2",
   "metadata": {},
   "source": [
    "nombre_infected       726\n",
    "nombre_sain          2511\n",
    "nombre_exposed        458\n",
    "nombre_recovered    16305\n",
    "Name: 239, dtype: int64"
   ]
  },
  {
   "cell_type": "markdown",
   "id": "4988b126",
   "metadata": {},
   "source": [
    "nombre_infected       723\n",
    "nombre_sain          2492\n",
    "nombre_exposed        460\n",
    "nombre_recovered    16325\n",
    "Name: 240, dtype: int64"
   ]
  },
  {
   "cell_type": "markdown",
   "id": "b82609e6",
   "metadata": {},
   "source": [
    "nombre_infected       733\n",
    "nombre_sain          2469\n",
    "nombre_exposed        484\n",
    "nombre_recovered    16314\n",
    "Name: 241, dtype: int64"
   ]
  },
  {
   "cell_type": "markdown",
   "id": "2307689f",
   "metadata": {},
   "source": [
    "nombre_infected       738\n",
    "nombre_sain          2473\n",
    "nombre_exposed        491\n",
    "nombre_recovered    16298\n",
    "Name: 242, dtype: int64"
   ]
  },
  {
   "cell_type": "markdown",
   "id": "a6a0e0de",
   "metadata": {},
   "source": [
    "nombre_infected       698\n",
    "nombre_sain          2471\n",
    "nombre_exposed        527\n",
    "nombre_recovered    16304\n",
    "Name: 243, dtype: int64"
   ]
  },
  {
   "cell_type": "markdown",
   "id": "54000e30",
   "metadata": {},
   "source": [
    "nombre_infected       706\n",
    "nombre_sain          2483\n",
    "nombre_exposed        518\n",
    "nombre_recovered    16293\n",
    "Name: 244, dtype: int64"
   ]
  },
  {
   "cell_type": "markdown",
   "id": "aafbb5ba",
   "metadata": {},
   "source": [
    "nombre_infected       710\n",
    "nombre_sain          2472\n",
    "nombre_exposed        512\n",
    "nombre_recovered    16306\n",
    "Name: 245, dtype: int64"
   ]
  },
  {
   "cell_type": "markdown",
   "id": "91b98403",
   "metadata": {},
   "source": [
    "nombre_infected       728\n",
    "nombre_sain          2468\n",
    "nombre_exposed        517\n",
    "nombre_recovered    16287\n",
    "Name: 246, dtype: int64"
   ]
  },
  {
   "cell_type": "markdown",
   "id": "a29f5ab9",
   "metadata": {},
   "source": [
    "nombre_infected       711\n",
    "nombre_sain          2479\n",
    "nombre_exposed        513\n",
    "nombre_recovered    16297\n",
    "Name: 247, dtype: int64"
   ]
  },
  {
   "cell_type": "markdown",
   "id": "aef83773",
   "metadata": {},
   "source": [
    "nombre_infected       704\n",
    "nombre_sain          2486\n",
    "nombre_exposed        493\n",
    "nombre_recovered    16317\n",
    "Name: 248, dtype: int64"
   ]
  },
  {
   "cell_type": "markdown",
   "id": "9987754b",
   "metadata": {},
   "source": [
    "nombre_infected       730\n",
    "nombre_sain          2494\n",
    "nombre_exposed        457\n",
    "nombre_recovered    16319\n",
    "Name: 249, dtype: int64"
   ]
  },
  {
   "cell_type": "markdown",
   "id": "b132f014",
   "metadata": {},
   "source": [
    "nombre_infected       721\n",
    "nombre_sain          2493\n",
    "nombre_exposed        481\n",
    "nombre_recovered    16305\n",
    "Name: 250, dtype: int64"
   ]
  },
  {
   "cell_type": "markdown",
   "id": "667f97be",
   "metadata": {},
   "source": [
    "nombre_infected       733\n",
    "nombre_sain          2480\n",
    "nombre_exposed        485\n",
    "nombre_recovered    16302\n",
    "Name: 251, dtype: int64"
   ]
  },
  {
   "cell_type": "markdown",
   "id": "03c66a6b",
   "metadata": {},
   "source": [
    "nombre_infected       734\n",
    "nombre_sain          2481\n",
    "nombre_exposed        489\n",
    "nombre_recovered    16296\n",
    "Name: 252, dtype: int64"
   ]
  },
  {
   "cell_type": "markdown",
   "id": "108154da",
   "metadata": {},
   "source": [
    "nombre_infected       742\n",
    "nombre_sain          2479\n",
    "nombre_exposed        497\n",
    "nombre_recovered    16282\n",
    "Name: 253, dtype: int64"
   ]
  },
  {
   "cell_type": "markdown",
   "id": "9dd4899e",
   "metadata": {},
   "source": [
    "nombre_infected       741\n",
    "nombre_sain          2499\n",
    "nombre_exposed        495\n",
    "nombre_recovered    16265\n",
    "Name: 254, dtype: int64"
   ]
  },
  {
   "cell_type": "markdown",
   "id": "59aadc93",
   "metadata": {},
   "source": [
    "nombre_infected       724\n",
    "nombre_sain          2514\n",
    "nombre_exposed        489\n",
    "nombre_recovered    16273\n",
    "Name: 255, dtype: int64"
   ]
  },
  {
   "cell_type": "markdown",
   "id": "26726513",
   "metadata": {},
   "source": [
    "nombre_infected       737\n",
    "nombre_sain          2507\n",
    "nombre_exposed        493\n",
    "nombre_recovered    16263\n",
    "Name: 256, dtype: int64"
   ]
  },
  {
   "cell_type": "markdown",
   "id": "5d8d9f7e",
   "metadata": {},
   "source": [
    "nombre_infected       703\n",
    "nombre_sain          2500\n",
    "nombre_exposed        517\n",
    "nombre_recovered    16280\n",
    "Name: 257, dtype: int64"
   ]
  },
  {
   "cell_type": "markdown",
   "id": "c1e60e57",
   "metadata": {},
   "source": [
    "nombre_infected       711\n",
    "nombre_sain          2484\n",
    "nombre_exposed        530\n",
    "nombre_recovered    16275\n",
    "Name: 258, dtype: int64"
   ]
  },
  {
   "cell_type": "markdown",
   "id": "318b55c6",
   "metadata": {},
   "source": [
    "nombre_infected       713\n",
    "nombre_sain          2478\n",
    "nombre_exposed        551\n",
    "nombre_recovered    16258\n",
    "Name: 259, dtype: int64"
   ]
  },
  {
   "cell_type": "markdown",
   "id": "1eb8b116",
   "metadata": {},
   "source": [
    "nombre_infected       717\n",
    "nombre_sain          2452\n",
    "nombre_exposed        563\n",
    "nombre_recovered    16268\n",
    "Name: 260, dtype: int64"
   ]
  },
  {
   "cell_type": "markdown",
   "id": "01acd300",
   "metadata": {},
   "source": [
    "nombre_infected       723\n",
    "nombre_sain          2475\n",
    "nombre_exposed        537\n",
    "nombre_recovered    16265\n",
    "Name: 261, dtype: int64"
   ]
  },
  {
   "cell_type": "markdown",
   "id": "cdb61b93",
   "metadata": {},
   "source": [
    "nombre_infected       744\n",
    "nombre_sain          2488\n",
    "nombre_exposed        525\n",
    "nombre_recovered    16243\n",
    "Name: 262, dtype: int64"
   ]
  },
  {
   "cell_type": "markdown",
   "id": "eb1d9aed",
   "metadata": {},
   "source": [
    "nombre_infected       771\n",
    "nombre_sain          2483\n",
    "nombre_exposed        514\n",
    "nombre_recovered    16232\n",
    "Name: 263, dtype: int64"
   ]
  },
  {
   "cell_type": "markdown",
   "id": "3a6e5662",
   "metadata": {},
   "source": [
    "nombre_infected       769\n",
    "nombre_sain          2546\n",
    "nombre_exposed        503\n",
    "nombre_recovered    16182\n",
    "Name: 264, dtype: int64"
   ]
  },
  {
   "cell_type": "markdown",
   "id": "36d9c506",
   "metadata": {},
   "source": [
    "nombre_infected       779\n",
    "nombre_sain          2563\n",
    "nombre_exposed        501\n",
    "nombre_recovered    16157\n",
    "Name: 265, dtype: int64"
   ]
  },
  {
   "cell_type": "markdown",
   "id": "58c3fc46",
   "metadata": {},
   "source": [
    "nombre_infected       782\n",
    "nombre_sain          2583\n",
    "nombre_exposed        493\n",
    "nombre_recovered    16142\n",
    "Name: 266, dtype: int64"
   ]
  },
  {
   "cell_type": "markdown",
   "id": "bf8c20ee",
   "metadata": {},
   "source": [
    "nombre_infected       780\n",
    "nombre_sain          2527\n",
    "nombre_exposed        532\n",
    "nombre_recovered    16161\n",
    "Name: 267, dtype: int64"
   ]
  },
  {
   "cell_type": "markdown",
   "id": "ed28c54d",
   "metadata": {},
   "source": [
    "nombre_infected       769\n",
    "nombre_sain          2503\n",
    "nombre_exposed        548\n",
    "nombre_recovered    16180\n",
    "Name: 268, dtype: int64"
   ]
  },
  {
   "cell_type": "markdown",
   "id": "e6e81ebd",
   "metadata": {},
   "source": [
    "nombre_infected       791\n",
    "nombre_sain          2487\n",
    "nombre_exposed        551\n",
    "nombre_recovered    16171\n",
    "Name: 269, dtype: int64"
   ]
  },
  {
   "cell_type": "markdown",
   "id": "b51f5f11",
   "metadata": {},
   "source": [
    "nombre_infected       810\n",
    "nombre_sain          2476\n",
    "nombre_exposed        533\n",
    "nombre_recovered    16181\n",
    "Name: 270, dtype: int64"
   ]
  },
  {
   "cell_type": "markdown",
   "id": "350378d1",
   "metadata": {},
   "source": [
    "nombre_infected       822\n",
    "nombre_sain          2458\n",
    "nombre_exposed        524\n",
    "nombre_recovered    16196\n",
    "Name: 271, dtype: int64"
   ]
  },
  {
   "cell_type": "markdown",
   "id": "a5280f36",
   "metadata": {},
   "source": [
    "nombre_infected       832\n",
    "nombre_sain          2446\n",
    "nombre_exposed        521\n",
    "nombre_recovered    16201\n",
    "Name: 272, dtype: int64"
   ]
  },
  {
   "cell_type": "markdown",
   "id": "dcaeb9e4",
   "metadata": {},
   "source": [
    "nombre_infected       842\n",
    "nombre_sain          2419\n",
    "nombre_exposed        513\n",
    "nombre_recovered    16226\n",
    "Name: 273, dtype: int64"
   ]
  },
  {
   "cell_type": "markdown",
   "id": "0266266f",
   "metadata": {},
   "source": [
    "nombre_infected       877\n",
    "nombre_sain          2360\n",
    "nombre_exposed        535\n",
    "nombre_recovered    16228\n",
    "Name: 274, dtype: int64"
   ]
  },
  {
   "cell_type": "markdown",
   "id": "37e5f96c",
   "metadata": {},
   "source": [
    "nombre_infected       880\n",
    "nombre_sain          2341\n",
    "nombre_exposed        539\n",
    "nombre_recovered    16240\n",
    "Name: 275, dtype: int64"
   ]
  },
  {
   "cell_type": "markdown",
   "id": "5b26babf",
   "metadata": {},
   "source": [
    "nombre_infected       898\n",
    "nombre_sain          2323\n",
    "nombre_exposed        530\n",
    "nombre_recovered    16249\n",
    "Name: 276, dtype: int64"
   ]
  },
  {
   "cell_type": "markdown",
   "id": "86c94afe",
   "metadata": {},
   "source": [
    "nombre_infected       905\n",
    "nombre_sain          2333\n",
    "nombre_exposed        509\n",
    "nombre_recovered    16253\n",
    "Name: 277, dtype: int64"
   ]
  },
  {
   "cell_type": "markdown",
   "id": "ac9375e7",
   "metadata": {},
   "source": [
    "nombre_infected       904\n",
    "nombre_sain          2321\n",
    "nombre_exposed        522\n",
    "nombre_recovered    16253\n",
    "Name: 278, dtype: int64"
   ]
  },
  {
   "cell_type": "markdown",
   "id": "45e09638",
   "metadata": {},
   "source": [
    "nombre_infected       887\n",
    "nombre_sain          2300\n",
    "nombre_exposed        545\n",
    "nombre_recovered    16268\n",
    "Name: 279, dtype: int64"
   ]
  },
  {
   "cell_type": "markdown",
   "id": "93a97a59",
   "metadata": {},
   "source": [
    "nombre_infected       912\n",
    "nombre_sain          2280\n",
    "nombre_exposed        548\n",
    "nombre_recovered    16260\n",
    "Name: 280, dtype: int64"
   ]
  },
  {
   "cell_type": "markdown",
   "id": "5cb2db7a",
   "metadata": {},
   "source": [
    "nombre_infected       921\n",
    "nombre_sain          2249\n",
    "nombre_exposed        547\n",
    "nombre_recovered    16283\n",
    "Name: 281, dtype: int64"
   ]
  },
  {
   "cell_type": "markdown",
   "id": "f0d4c97c",
   "metadata": {},
   "source": [
    "nombre_infected       935\n",
    "nombre_sain          2208\n",
    "nombre_exposed        539\n",
    "nombre_recovered    16318\n",
    "Name: 282, dtype: int64"
   ]
  },
  {
   "cell_type": "markdown",
   "id": "9cebe662",
   "metadata": {},
   "source": [
    "nombre_infected       948\n",
    "nombre_sain          2191\n",
    "nombre_exposed        536\n",
    "nombre_recovered    16325\n",
    "Name: 283, dtype: int64"
   ]
  },
  {
   "cell_type": "markdown",
   "id": "8e778d87",
   "metadata": {},
   "source": [
    "nombre_infected       959\n",
    "nombre_sain          2166\n",
    "nombre_exposed        523\n",
    "nombre_recovered    16352\n",
    "Name: 284, dtype: int64"
   ]
  },
  {
   "cell_type": "markdown",
   "id": "c6412dac",
   "metadata": {},
   "source": [
    "nombre_infected       964\n",
    "nombre_sain          2130\n",
    "nombre_exposed        514\n",
    "nombre_recovered    16392\n",
    "Name: 285, dtype: int64"
   ]
  },
  {
   "cell_type": "markdown",
   "id": "7d0fb913",
   "metadata": {},
   "source": [
    "nombre_infected       959\n",
    "nombre_sain          2107\n",
    "nombre_exposed        533\n",
    "nombre_recovered    16401\n",
    "Name: 286, dtype: int64"
   ]
  },
  {
   "cell_type": "markdown",
   "id": "48f15532",
   "metadata": {},
   "source": [
    "nombre_infected       947\n",
    "nombre_sain          2086\n",
    "nombre_exposed        536\n",
    "nombre_recovered    16431\n",
    "Name: 287, dtype: int64"
   ]
  },
  {
   "cell_type": "markdown",
   "id": "a360dd27",
   "metadata": {},
   "source": [
    "nombre_infected       936\n",
    "nombre_sain          2068\n",
    "nombre_exposed        522\n",
    "nombre_recovered    16474\n",
    "Name: 288, dtype: int64"
   ]
  },
  {
   "cell_type": "markdown",
   "id": "4aa2f3a6",
   "metadata": {},
   "source": [
    "nombre_infected       937\n",
    "nombre_sain          2071\n",
    "nombre_exposed        505\n",
    "nombre_recovered    16487\n",
    "Name: 289, dtype: int64"
   ]
  },
  {
   "cell_type": "markdown",
   "id": "01a35814",
   "metadata": {},
   "source": [
    "nombre_infected       921\n",
    "nombre_sain          2052\n",
    "nombre_exposed        507\n",
    "nombre_recovered    16520\n",
    "Name: 290, dtype: int64"
   ]
  },
  {
   "cell_type": "markdown",
   "id": "2d1a3acb",
   "metadata": {},
   "source": [
    "nombre_infected       916\n",
    "nombre_sain          2058\n",
    "nombre_exposed        510\n",
    "nombre_recovered    16516\n",
    "Name: 291, dtype: int64"
   ]
  },
  {
   "cell_type": "markdown",
   "id": "c80f4353",
   "metadata": {},
   "source": [
    "nombre_infected       893\n",
    "nombre_sain          2039\n",
    "nombre_exposed        507\n",
    "nombre_recovered    16561\n",
    "Name: 292, dtype: int64"
   ]
  },
  {
   "cell_type": "markdown",
   "id": "77906aa1",
   "metadata": {},
   "source": [
    "nombre_infected       905\n",
    "nombre_sain          2062\n",
    "nombre_exposed        477\n",
    "nombre_recovered    16556\n",
    "Name: 293, dtype: int64"
   ]
  },
  {
   "cell_type": "markdown",
   "id": "12e17cee",
   "metadata": {},
   "source": [
    "nombre_infected       871\n",
    "nombre_sain          2059\n",
    "nombre_exposed        486\n",
    "nombre_recovered    16584\n",
    "Name: 294, dtype: int64"
   ]
  },
  {
   "cell_type": "markdown",
   "id": "75c7b194",
   "metadata": {},
   "source": [
    "nombre_infected       856\n",
    "nombre_sain          2075\n",
    "nombre_exposed        472\n",
    "nombre_recovered    16597\n",
    "Name: 295, dtype: int64"
   ]
  },
  {
   "cell_type": "markdown",
   "id": "98f1d8fa",
   "metadata": {},
   "source": [
    "nombre_infected       870\n",
    "nombre_sain          2103\n",
    "nombre_exposed        452\n",
    "nombre_recovered    16575\n",
    "Name: 296, dtype: int64"
   ]
  },
  {
   "cell_type": "markdown",
   "id": "c7ce7d55",
   "metadata": {},
   "source": [
    "nombre_infected       854\n",
    "nombre_sain          2126\n",
    "nombre_exposed        464\n",
    "nombre_recovered    16556\n",
    "Name: 297, dtype: int64"
   ]
  },
  {
   "cell_type": "markdown",
   "id": "03c66d50",
   "metadata": {},
   "source": [
    "nombre_infected       865\n",
    "nombre_sain          2128\n",
    "nombre_exposed        460\n",
    "nombre_recovered    16547\n",
    "Name: 298, dtype: int64"
   ]
  },
  {
   "cell_type": "markdown",
   "id": "dabad1fb",
   "metadata": {},
   "source": [
    "nombre_infected       853\n",
    "nombre_sain          2127\n",
    "nombre_exposed        472\n",
    "nombre_recovered    16548\n",
    "Name: 299, dtype: int64"
   ]
  },
  {
   "cell_type": "markdown",
   "id": "467205e5",
   "metadata": {},
   "source": [
    "nombre_infected       828\n",
    "nombre_sain          2158\n",
    "nombre_exposed        470\n",
    "nombre_recovered    16544\n",
    "Name: 300, dtype: int64"
   ]
  },
  {
   "cell_type": "markdown",
   "id": "7d6462b8",
   "metadata": {},
   "source": [
    "nombre_infected       811\n",
    "nombre_sain          2191\n",
    "nombre_exposed        453\n",
    "nombre_recovered    16545\n",
    "Name: 301, dtype: int64"
   ]
  },
  {
   "cell_type": "markdown",
   "id": "d57bc0a5",
   "metadata": {},
   "source": [
    "nombre_infected       812\n",
    "nombre_sain          2236\n",
    "nombre_exposed        423\n",
    "nombre_recovered    16529\n",
    "Name: 302, dtype: int64"
   ]
  },
  {
   "cell_type": "markdown",
   "id": "eb999c47",
   "metadata": {},
   "source": [
    "nombre_infected       775\n",
    "nombre_sain          2248\n",
    "nombre_exposed        427\n",
    "nombre_recovered    16550\n",
    "Name: 303, dtype: int64"
   ]
  },
  {
   "cell_type": "markdown",
   "id": "1c120e0d",
   "metadata": {},
   "source": [
    "nombre_infected       757\n",
    "nombre_sain          2290\n",
    "nombre_exposed        423\n",
    "nombre_recovered    16530\n",
    "Name: 304, dtype: int64"
   ]
  },
  {
   "cell_type": "markdown",
   "id": "4b788f05",
   "metadata": {},
   "source": [
    "nombre_infected       751\n",
    "nombre_sain          2337\n",
    "nombre_exposed        410\n",
    "nombre_recovered    16502\n",
    "Name: 305, dtype: int64"
   ]
  },
  {
   "cell_type": "markdown",
   "id": "136ae10e",
   "metadata": {},
   "source": [
    "nombre_infected       735\n",
    "nombre_sain          2368\n",
    "nombre_exposed        409\n",
    "nombre_recovered    16488\n",
    "Name: 306, dtype: int64"
   ]
  },
  {
   "cell_type": "markdown",
   "id": "30268dcb",
   "metadata": {},
   "source": [
    "nombre_infected       743\n",
    "nombre_sain          2361\n",
    "nombre_exposed        409\n",
    "nombre_recovered    16487\n",
    "Name: 307, dtype: int64"
   ]
  },
  {
   "cell_type": "markdown",
   "id": "5a148ce8",
   "metadata": {},
   "source": [
    "nombre_infected       734\n",
    "nombre_sain          2385\n",
    "nombre_exposed        416\n",
    "nombre_recovered    16465\n",
    "Name: 308, dtype: int64"
   ]
  },
  {
   "cell_type": "markdown",
   "id": "af5e85fb",
   "metadata": {},
   "source": [
    "nombre_infected       726\n",
    "nombre_sain          2413\n",
    "nombre_exposed        430\n",
    "nombre_recovered    16431\n",
    "Name: 309, dtype: int64"
   ]
  },
  {
   "cell_type": "markdown",
   "id": "3d1cc58c",
   "metadata": {},
   "source": [
    "nombre_infected       711\n",
    "nombre_sain          2413\n",
    "nombre_exposed        433\n",
    "nombre_recovered    16443\n",
    "Name: 310, dtype: int64"
   ]
  },
  {
   "cell_type": "markdown",
   "id": "8d4612f3",
   "metadata": {},
   "source": [
    "nombre_infected       688\n",
    "nombre_sain          2425\n",
    "nombre_exposed        452\n",
    "nombre_recovered    16435\n",
    "Name: 311, dtype: int64"
   ]
  },
  {
   "cell_type": "markdown",
   "id": "2236aafa",
   "metadata": {},
   "source": [
    "nombre_infected       689\n",
    "nombre_sain          2470\n",
    "nombre_exposed        453\n",
    "nombre_recovered    16388\n",
    "Name: 312, dtype: int64"
   ]
  },
  {
   "cell_type": "markdown",
   "id": "5ecb30db",
   "metadata": {},
   "source": [
    "nombre_infected       681\n",
    "nombre_sain          2491\n",
    "nombre_exposed        460\n",
    "nombre_recovered    16368\n",
    "Name: 313, dtype: int64"
   ]
  },
  {
   "cell_type": "markdown",
   "id": "16731340",
   "metadata": {},
   "source": [
    "nombre_infected       691\n",
    "nombre_sain          2547\n",
    "nombre_exposed        461\n",
    "nombre_recovered    16301\n",
    "Name: 314, dtype: int64"
   ]
  },
  {
   "cell_type": "markdown",
   "id": "bdf60891",
   "metadata": {},
   "source": [
    "nombre_infected       708\n",
    "nombre_sain          2552\n",
    "nombre_exposed        458\n",
    "nombre_recovered    16282\n",
    "Name: 315, dtype: int64"
   ]
  },
  {
   "cell_type": "markdown",
   "id": "3825e321",
   "metadata": {},
   "source": [
    "nombre_infected       706\n",
    "nombre_sain          2545\n",
    "nombre_exposed        487\n",
    "nombre_recovered    16262\n",
    "Name: 316, dtype: int64"
   ]
  },
  {
   "cell_type": "markdown",
   "id": "5fc13cb3",
   "metadata": {},
   "source": [
    "nombre_infected       712\n",
    "nombre_sain          2567\n",
    "nombre_exposed        498\n",
    "nombre_recovered    16223\n",
    "Name: 317, dtype: int64"
   ]
  },
  {
   "cell_type": "markdown",
   "id": "4548332b",
   "metadata": {},
   "source": [
    "nombre_infected       719\n",
    "nombre_sain          2596\n",
    "nombre_exposed        485\n",
    "nombre_recovered    16200\n",
    "Name: 318, dtype: int64"
   ]
  },
  {
   "cell_type": "markdown",
   "id": "c5747428",
   "metadata": {},
   "source": [
    "nombre_infected       742\n",
    "nombre_sain          2592\n",
    "nombre_exposed        475\n",
    "nombre_recovered    16191\n",
    "Name: 319, dtype: int64"
   ]
  },
  {
   "cell_type": "markdown",
   "id": "eb7b8cda",
   "metadata": {},
   "source": [
    "nombre_infected       733\n",
    "nombre_sain          2577\n",
    "nombre_exposed        501\n",
    "nombre_recovered    16189\n",
    "Name: 320, dtype: int64"
   ]
  },
  {
   "cell_type": "markdown",
   "id": "a90f8cbd",
   "metadata": {},
   "source": [
    "nombre_infected       756\n",
    "nombre_sain          2559\n",
    "nombre_exposed        502\n",
    "nombre_recovered    16183\n",
    "Name: 321, dtype: int64"
   ]
  },
  {
   "cell_type": "markdown",
   "id": "ad36250f",
   "metadata": {},
   "source": [
    "nombre_infected       763\n",
    "nombre_sain          2555\n",
    "nombre_exposed        513\n",
    "nombre_recovered    16169\n",
    "Name: 322, dtype: int64"
   ]
  },
  {
   "cell_type": "markdown",
   "id": "4f2427bf",
   "metadata": {},
   "source": [
    "nombre_infected       779\n",
    "nombre_sain          2537\n",
    "nombre_exposed        511\n",
    "nombre_recovered    16173\n",
    "Name: 323, dtype: int64"
   ]
  },
  {
   "cell_type": "markdown",
   "id": "53a50057",
   "metadata": {},
   "source": [
    "nombre_infected       783\n",
    "nombre_sain          2523\n",
    "nombre_exposed        523\n",
    "nombre_recovered    16171\n",
    "Name: 324, dtype: int64"
   ]
  },
  {
   "cell_type": "markdown",
   "id": "1bd4b619",
   "metadata": {},
   "source": [
    "nombre_infected       797\n",
    "nombre_sain          2508\n",
    "nombre_exposed        523\n",
    "nombre_recovered    16172\n",
    "Name: 325, dtype: int64"
   ]
  },
  {
   "cell_type": "markdown",
   "id": "bdf67949",
   "metadata": {},
   "source": [
    "nombre_infected       835\n",
    "nombre_sain          2487\n",
    "nombre_exposed        512\n",
    "nombre_recovered    16166\n",
    "Name: 326, dtype: int64"
   ]
  },
  {
   "cell_type": "markdown",
   "id": "6f24a799",
   "metadata": {},
   "source": [
    "nombre_infected       838\n",
    "nombre_sain          2465\n",
    "nombre_exposed        536\n",
    "nombre_recovered    16161\n",
    "Name: 327, dtype: int64"
   ]
  },
  {
   "cell_type": "markdown",
   "id": "39b39bfe",
   "metadata": {},
   "source": [
    "nombre_infected       860\n",
    "nombre_sain          2427\n",
    "nombre_exposed        555\n",
    "nombre_recovered    16158\n",
    "Name: 328, dtype: int64"
   ]
  },
  {
   "cell_type": "markdown",
   "id": "e0b12000",
   "metadata": {},
   "source": [
    "nombre_infected       884\n",
    "nombre_sain          2409\n",
    "nombre_exposed        538\n",
    "nombre_recovered    16169\n",
    "Name: 329, dtype: int64"
   ]
  },
  {
   "cell_type": "markdown",
   "id": "410c2b93",
   "metadata": {},
   "source": [
    "nombre_infected       888\n",
    "nombre_sain          2400\n",
    "nombre_exposed        534\n",
    "nombre_recovered    16178\n",
    "Name: 330, dtype: int64"
   ]
  },
  {
   "cell_type": "markdown",
   "id": "0d9b3960",
   "metadata": {},
   "source": [
    "nombre_infected       921\n",
    "nombre_sain          2364\n",
    "nombre_exposed        531\n",
    "nombre_recovered    16184\n",
    "Name: 331, dtype: int64"
   ]
  },
  {
   "cell_type": "markdown",
   "id": "dbf85ba8",
   "metadata": {},
   "source": [
    "nombre_infected       916\n",
    "nombre_sain          2376\n",
    "nombre_exposed        529\n",
    "nombre_recovered    16179\n",
    "Name: 332, dtype: int64"
   ]
  },
  {
   "cell_type": "markdown",
   "id": "1c08c0e8",
   "metadata": {},
   "source": [
    "nombre_infected       919\n",
    "nombre_sain          2392\n",
    "nombre_exposed        502\n",
    "nombre_recovered    16187\n",
    "Name: 333, dtype: int64"
   ]
  },
  {
   "cell_type": "markdown",
   "id": "1e849b9f",
   "metadata": {},
   "source": [
    "nombre_infected       922\n",
    "nombre_sain          2362\n",
    "nombre_exposed        518\n",
    "nombre_recovered    16198\n",
    "Name: 334, dtype: int64"
   ]
  },
  {
   "cell_type": "markdown",
   "id": "052b8db2",
   "metadata": {},
   "source": [
    "nombre_infected       925\n",
    "nombre_sain          2334\n",
    "nombre_exposed        520\n",
    "nombre_recovered    16221\n",
    "Name: 335, dtype: int64"
   ]
  },
  {
   "cell_type": "markdown",
   "id": "ae95acd4",
   "metadata": {},
   "source": [
    "nombre_infected       914\n",
    "nombre_sain          2336\n",
    "nombre_exposed        525\n",
    "nombre_recovered    16225\n",
    "Name: 336, dtype: int64"
   ]
  },
  {
   "cell_type": "markdown",
   "id": "7c459b80",
   "metadata": {},
   "source": [
    "nombre_infected       886\n",
    "nombre_sain          2328\n",
    "nombre_exposed        538\n",
    "nombre_recovered    16248\n",
    "Name: 337, dtype: int64"
   ]
  },
  {
   "cell_type": "markdown",
   "id": "c3001b22",
   "metadata": {},
   "source": [
    "nombre_infected       881\n",
    "nombre_sain          2335\n",
    "nombre_exposed        532\n",
    "nombre_recovered    16252\n",
    "Name: 338, dtype: int64"
   ]
  },
  {
   "cell_type": "markdown",
   "id": "f24da89a",
   "metadata": {},
   "source": [
    "nombre_infected       878\n",
    "nombre_sain          2315\n",
    "nombre_exposed        528\n",
    "nombre_recovered    16279\n",
    "Name: 339, dtype: int64"
   ]
  },
  {
   "cell_type": "markdown",
   "id": "ac3217f8",
   "metadata": {},
   "source": [
    "nombre_infected       876\n",
    "nombre_sain          2320\n",
    "nombre_exposed        525\n",
    "nombre_recovered    16279\n",
    "Name: 340, dtype: int64"
   ]
  },
  {
   "cell_type": "markdown",
   "id": "2061c932",
   "metadata": {},
   "source": [
    "nombre_infected       885\n",
    "nombre_sain          2293\n",
    "nombre_exposed        532\n",
    "nombre_recovered    16290\n",
    "Name: 341, dtype: int64"
   ]
  },
  {
   "cell_type": "markdown",
   "id": "bc3166b6",
   "metadata": {},
   "source": [
    "nombre_infected       894\n",
    "nombre_sain          2260\n",
    "nombre_exposed        534\n",
    "nombre_recovered    16312\n",
    "Name: 342, dtype: int64"
   ]
  },
  {
   "cell_type": "markdown",
   "id": "cd53fe33",
   "metadata": {},
   "source": [
    "nombre_infected       885\n",
    "nombre_sain          2267\n",
    "nombre_exposed        528\n",
    "nombre_recovered    16320\n",
    "Name: 343, dtype: int64"
   ]
  },
  {
   "cell_type": "markdown",
   "id": "81a7834b",
   "metadata": {},
   "source": [
    "nombre_infected       855\n",
    "nombre_sain          2246\n",
    "nombre_exposed        539\n",
    "nombre_recovered    16360\n",
    "Name: 344, dtype: int64"
   ]
  },
  {
   "cell_type": "markdown",
   "id": "7bfc4807",
   "metadata": {},
   "source": [
    "nombre_infected       846\n",
    "nombre_sain          2215\n",
    "nombre_exposed        538\n",
    "nombre_recovered    16401\n",
    "Name: 345, dtype: int64"
   ]
  },
  {
   "cell_type": "markdown",
   "id": "5feb4f9f",
   "metadata": {},
   "source": [
    "nombre_infected       849\n",
    "nombre_sain          2206\n",
    "nombre_exposed        531\n",
    "nombre_recovered    16414\n",
    "Name: 346, dtype: int64"
   ]
  },
  {
   "cell_type": "markdown",
   "id": "79778c51",
   "metadata": {},
   "source": [
    "nombre_infected       866\n",
    "nombre_sain          2207\n",
    "nombre_exposed        501\n",
    "nombre_recovered    16426\n",
    "Name: 347, dtype: int64"
   ]
  },
  {
   "cell_type": "markdown",
   "id": "7cb14628",
   "metadata": {},
   "source": [
    "nombre_infected       882\n",
    "nombre_sain          2180\n",
    "nombre_exposed        517\n",
    "nombre_recovered    16421\n",
    "Name: 348, dtype: int64"
   ]
  },
  {
   "cell_type": "markdown",
   "id": "edd25c49",
   "metadata": {},
   "source": [
    "nombre_infected       866\n",
    "nombre_sain          2168\n",
    "nombre_exposed        510\n",
    "nombre_recovered    16456\n",
    "Name: 349, dtype: int64"
   ]
  },
  {
   "cell_type": "markdown",
   "id": "c696c188",
   "metadata": {},
   "source": [
    "nombre_infected       856\n",
    "nombre_sain          2143\n",
    "nombre_exposed        516\n",
    "nombre_recovered    16485\n",
    "Name: 350, dtype: int64"
   ]
  },
  {
   "cell_type": "markdown",
   "id": "593456bd",
   "metadata": {},
   "source": [
    "nombre_infected       847\n",
    "nombre_sain          2136\n",
    "nombre_exposed        500\n",
    "nombre_recovered    16517\n",
    "Name: 351, dtype: int64"
   ]
  },
  {
   "cell_type": "markdown",
   "id": "d27fb001",
   "metadata": {},
   "source": [
    "nombre_infected       853\n",
    "nombre_sain          2135\n",
    "nombre_exposed        483\n",
    "nombre_recovered    16529\n",
    "Name: 352, dtype: int64"
   ]
  },
  {
   "cell_type": "markdown",
   "id": "53564742",
   "metadata": {},
   "source": [
    "nombre_infected       872\n",
    "nombre_sain          2128\n",
    "nombre_exposed        467\n",
    "nombre_recovered    16533\n",
    "Name: 353, dtype: int64"
   ]
  },
  {
   "cell_type": "markdown",
   "id": "e521974c",
   "metadata": {},
   "source": [
    "nombre_infected       867\n",
    "nombre_sain          2142\n",
    "nombre_exposed        460\n",
    "nombre_recovered    16531\n",
    "Name: 354, dtype: int64"
   ]
  },
  {
   "cell_type": "markdown",
   "id": "e724a5ee",
   "metadata": {},
   "source": [
    "nombre_infected       869\n",
    "nombre_sain          2131\n",
    "nombre_exposed        448\n",
    "nombre_recovered    16552\n",
    "Name: 355, dtype: int64"
   ]
  },
  {
   "cell_type": "markdown",
   "id": "d8377411",
   "metadata": {},
   "source": [
    "nombre_infected       841\n",
    "nombre_sain          2121\n",
    "nombre_exposed        465\n",
    "nombre_recovered    16573\n",
    "Name: 356, dtype: int64"
   ]
  },
  {
   "cell_type": "markdown",
   "id": "dc355a22",
   "metadata": {},
   "source": [
    "nombre_infected       817\n",
    "nombre_sain          2100\n",
    "nombre_exposed        474\n",
    "nombre_recovered    16609\n",
    "Name: 357, dtype: int64"
   ]
  },
  {
   "cell_type": "markdown",
   "id": "7b4b674a",
   "metadata": {},
   "source": [
    "nombre_infected       829\n",
    "nombre_sain          2076\n",
    "nombre_exposed        460\n",
    "nombre_recovered    16635\n",
    "Name: 358, dtype: int64"
   ]
  },
  {
   "cell_type": "markdown",
   "id": "f877e780",
   "metadata": {},
   "source": [
    "nombre_infected       811\n",
    "nombre_sain          2068\n",
    "nombre_exposed        476\n",
    "nombre_recovered    16645\n",
    "Name: 359, dtype: int64"
   ]
  },
  {
   "cell_type": "markdown",
   "id": "6c6b5a9a",
   "metadata": {},
   "source": [
    "nombre_infected       816\n",
    "nombre_sain          2062\n",
    "nombre_exposed        462\n",
    "nombre_recovered    16660\n",
    "Name: 360, dtype: int64"
   ]
  },
  {
   "cell_type": "markdown",
   "id": "eeded3b5",
   "metadata": {},
   "source": [
    "nombre_infected       811\n",
    "nombre_sain          2059\n",
    "nombre_exposed        457\n",
    "nombre_recovered    16673\n",
    "Name: 361, dtype: int64"
   ]
  },
  {
   "cell_type": "markdown",
   "id": "52fa5431",
   "metadata": {},
   "source": [
    "nombre_infected       814\n",
    "nombre_sain          2086\n",
    "nombre_exposed        433\n",
    "nombre_recovered    16667\n",
    "Name: 362, dtype: int64"
   ]
  },
  {
   "cell_type": "markdown",
   "id": "0333e67c",
   "metadata": {},
   "source": [
    "nombre_infected       796\n",
    "nombre_sain          2099\n",
    "nombre_exposed        422\n",
    "nombre_recovered    16683\n",
    "Name: 363, dtype: int64"
   ]
  },
  {
   "cell_type": "markdown",
   "id": "173119a9",
   "metadata": {},
   "source": [
    "nombre_infected       771\n",
    "nombre_sain          2081\n",
    "nombre_exposed        443\n",
    "nombre_recovered    16705\n",
    "Name: 364, dtype: int64"
   ]
  },
  {
   "cell_type": "markdown",
   "id": "f3de7c76",
   "metadata": {},
   "source": [
    "nombre_infected       783\n",
    "nombre_sain          2093\n",
    "nombre_exposed        421\n",
    "nombre_recovered    16703\n",
    "Name: 365, dtype: int64"
   ]
  },
  {
   "cell_type": "markdown",
   "id": "18a1c8ed",
   "metadata": {},
   "source": [
    "nombre_infected       770\n",
    "nombre_sain          2130\n",
    "nombre_exposed        398\n",
    "nombre_recovered    16702\n",
    "Name: 366, dtype: int64"
   ]
  },
  {
   "cell_type": "markdown",
   "id": "b4526934",
   "metadata": {},
   "source": [
    "nombre_infected       767\n",
    "nombre_sain          2144\n",
    "nombre_exposed        400\n",
    "nombre_recovered    16689\n",
    "Name: 367, dtype: int64"
   ]
  },
  {
   "cell_type": "markdown",
   "id": "9069d6f0",
   "metadata": {},
   "source": [
    "nombre_infected       764\n",
    "nombre_sain          2149\n",
    "nombre_exposed        408\n",
    "nombre_recovered    16679\n",
    "Name: 368, dtype: int64"
   ]
  },
  {
   "cell_type": "markdown",
   "id": "d8fe5d18",
   "metadata": {},
   "source": [
    "nombre_infected       761\n",
    "nombre_sain          2150\n",
    "nombre_exposed        409\n",
    "nombre_recovered    16680\n",
    "Name: 369, dtype: int64"
   ]
  },
  {
   "cell_type": "markdown",
   "id": "5bfa098b",
   "metadata": {},
   "source": [
    "nombre_infected       755\n",
    "nombre_sain          2170\n",
    "nombre_exposed        411\n",
    "nombre_recovered    16664\n",
    "Name: 370, dtype: int64"
   ]
  },
  {
   "cell_type": "markdown",
   "id": "b9b75e67",
   "metadata": {},
   "source": [
    "nombre_infected       738\n",
    "nombre_sain          2200\n",
    "nombre_exposed        406\n",
    "nombre_recovered    16656\n",
    "Name: 371, dtype: int64"
   ]
  },
  {
   "cell_type": "markdown",
   "id": "d55fd4a8",
   "metadata": {},
   "source": [
    "nombre_infected       743\n",
    "nombre_sain          2239\n",
    "nombre_exposed        413\n",
    "nombre_recovered    16605\n",
    "Name: 372, dtype: int64"
   ]
  },
  {
   "cell_type": "markdown",
   "id": "4fb07608",
   "metadata": {},
   "source": [
    "nombre_infected       739\n",
    "nombre_sain          2258\n",
    "nombre_exposed        432\n",
    "nombre_recovered    16571\n",
    "Name: 373, dtype: int64"
   ]
  },
  {
   "cell_type": "markdown",
   "id": "0ebd923b",
   "metadata": {},
   "source": [
    "nombre_infected       761\n",
    "nombre_sain          2282\n",
    "nombre_exposed        413\n",
    "nombre_recovered    16544\n",
    "Name: 374, dtype: int64"
   ]
  },
  {
   "cell_type": "markdown",
   "id": "fc584a76",
   "metadata": {},
   "source": [
    "nombre_infected       741\n",
    "nombre_sain          2295\n",
    "nombre_exposed        431\n",
    "nombre_recovered    16533\n",
    "Name: 375, dtype: int64"
   ]
  },
  {
   "cell_type": "markdown",
   "id": "3dedb196",
   "metadata": {},
   "source": [
    "nombre_infected       732\n",
    "nombre_sain          2303\n",
    "nombre_exposed        442\n",
    "nombre_recovered    16523\n",
    "Name: 376, dtype: int64"
   ]
  },
  {
   "cell_type": "markdown",
   "id": "3cd41f1c",
   "metadata": {},
   "source": [
    "nombre_infected       730\n",
    "nombre_sain          2300\n",
    "nombre_exposed        464\n",
    "nombre_recovered    16506\n",
    "Name: 377, dtype: int64"
   ]
  },
  {
   "cell_type": "markdown",
   "id": "6e7ad1df",
   "metadata": {},
   "source": [
    "nombre_infected       704\n",
    "nombre_sain          2330\n",
    "nombre_exposed        476\n",
    "nombre_recovered    16490\n",
    "Name: 378, dtype: int64"
   ]
  },
  {
   "cell_type": "markdown",
   "id": "9ef5794e",
   "metadata": {},
   "source": [
    "nombre_infected       709\n",
    "nombre_sain          2341\n",
    "nombre_exposed        476\n",
    "nombre_recovered    16474\n",
    "Name: 379, dtype: int64"
   ]
  },
  {
   "cell_type": "markdown",
   "id": "edda5642",
   "metadata": {},
   "source": [
    "nombre_infected       729\n",
    "nombre_sain          2382\n",
    "nombre_exposed        445\n",
    "nombre_recovered    16444\n",
    "Name: 380, dtype: int64"
   ]
  },
  {
   "cell_type": "markdown",
   "id": "43ec22e7",
   "metadata": {},
   "source": [
    "nombre_infected       699\n",
    "nombre_sain          2384\n",
    "nombre_exposed        469\n",
    "nombre_recovered    16448\n",
    "Name: 381, dtype: int64"
   ]
  },
  {
   "cell_type": "markdown",
   "id": "43c4cfc8",
   "metadata": {},
   "source": [
    "nombre_infected       688\n",
    "nombre_sain          2405\n",
    "nombre_exposed        482\n",
    "nombre_recovered    16425\n",
    "Name: 382, dtype: int64"
   ]
  },
  {
   "cell_type": "markdown",
   "id": "635c6ea7",
   "metadata": {},
   "source": [
    "nombre_infected       685\n",
    "nombre_sain          2433\n",
    "nombre_exposed        495\n",
    "nombre_recovered    16387\n",
    "Name: 383, dtype: int64"
   ]
  },
  {
   "cell_type": "markdown",
   "id": "6b3d55fa",
   "metadata": {},
   "source": [
    "nombre_infected       684\n",
    "nombre_sain          2423\n",
    "nombre_exposed        518\n",
    "nombre_recovered    16375\n",
    "Name: 384, dtype: int64"
   ]
  },
  {
   "cell_type": "markdown",
   "id": "2086bef1",
   "metadata": {},
   "source": [
    "nombre_infected       714\n",
    "nombre_sain          2464\n",
    "nombre_exposed        506\n",
    "nombre_recovered    16316\n",
    "Name: 385, dtype: int64"
   ]
  },
  {
   "cell_type": "markdown",
   "id": "a370d30a",
   "metadata": {},
   "source": [
    "nombre_infected       730\n",
    "nombre_sain          2441\n",
    "nombre_exposed        521\n",
    "nombre_recovered    16308\n",
    "Name: 386, dtype: int64"
   ]
  },
  {
   "cell_type": "markdown",
   "id": "08d753fb",
   "metadata": {},
   "source": [
    "nombre_infected       733\n",
    "nombre_sain          2451\n",
    "nombre_exposed        534\n",
    "nombre_recovered    16282\n",
    "Name: 387, dtype: int64"
   ]
  },
  {
   "cell_type": "markdown",
   "id": "056caadc",
   "metadata": {},
   "source": [
    "nombre_infected       756\n",
    "nombre_sain          2444\n",
    "nombre_exposed        534\n",
    "nombre_recovered    16266\n",
    "Name: 388, dtype: int64"
   ]
  },
  {
   "cell_type": "markdown",
   "id": "ef41191d",
   "metadata": {},
   "source": [
    "nombre_infected       771\n",
    "nombre_sain          2461\n",
    "nombre_exposed        528\n",
    "nombre_recovered    16240\n",
    "Name: 389, dtype: int64"
   ]
  },
  {
   "cell_type": "markdown",
   "id": "6d0ba9cb",
   "metadata": {},
   "source": [
    "nombre_infected       761\n",
    "nombre_sain          2479\n",
    "nombre_exposed        536\n",
    "nombre_recovered    16224\n",
    "Name: 390, dtype: int64"
   ]
  },
  {
   "cell_type": "markdown",
   "id": "fed3e462",
   "metadata": {},
   "source": [
    "nombre_infected       788\n",
    "nombre_sain          2471\n",
    "nombre_exposed        531\n",
    "nombre_recovered    16210\n",
    "Name: 391, dtype: int64"
   ]
  },
  {
   "cell_type": "markdown",
   "id": "ccbafc17",
   "metadata": {},
   "source": [
    "nombre_infected       815\n",
    "nombre_sain          2457\n",
    "nombre_exposed        523\n",
    "nombre_recovered    16205\n",
    "Name: 392, dtype: int64"
   ]
  },
  {
   "cell_type": "markdown",
   "id": "f5d59ef9",
   "metadata": {},
   "source": [
    "nombre_infected       838\n",
    "nombre_sain          2450\n",
    "nombre_exposed        545\n",
    "nombre_recovered    16167\n",
    "Name: 393, dtype: int64"
   ]
  },
  {
   "cell_type": "markdown",
   "id": "822acf43",
   "metadata": {},
   "source": [
    "nombre_infected       848\n",
    "nombre_sain          2441\n",
    "nombre_exposed        538\n",
    "nombre_recovered    16173\n",
    "Name: 394, dtype: int64"
   ]
  },
  {
   "cell_type": "markdown",
   "id": "a018e3e4",
   "metadata": {},
   "source": [
    "nombre_infected       855\n",
    "nombre_sain          2456\n",
    "nombre_exposed        553\n",
    "nombre_recovered    16136\n",
    "Name: 395, dtype: int64"
   ]
  },
  {
   "cell_type": "markdown",
   "id": "52ffaf89",
   "metadata": {},
   "source": [
    "nombre_infected       853\n",
    "nombre_sain          2432\n",
    "nombre_exposed        578\n",
    "nombre_recovered    16137\n",
    "Name: 396, dtype: int64"
   ]
  },
  {
   "cell_type": "markdown",
   "id": "0536e63a",
   "metadata": {},
   "source": [
    "nombre_infected       867\n",
    "nombre_sain          2420\n",
    "nombre_exposed        585\n",
    "nombre_recovered    16128\n",
    "Name: 397, dtype: int64"
   ]
  },
  {
   "cell_type": "markdown",
   "id": "76137e49",
   "metadata": {},
   "source": [
    "nombre_infected       881\n",
    "nombre_sain          2393\n",
    "nombre_exposed        578\n",
    "nombre_recovered    16148\n",
    "Name: 398, dtype: int64"
   ]
  },
  {
   "cell_type": "markdown",
   "id": "b9e6b369",
   "metadata": {},
   "source": [
    "nombre_infected       905\n",
    "nombre_sain          2363\n",
    "nombre_exposed        606\n",
    "nombre_recovered    16126\n",
    "Name: 399, dtype: int64"
   ]
  },
  {
   "cell_type": "markdown",
   "id": "f1e5881a",
   "metadata": {},
   "source": [
    "nombre_infected       920\n",
    "nombre_sain          2345\n",
    "nombre_exposed        605\n",
    "nombre_recovered    16130\n",
    "Name: 400, dtype: int64"
   ]
  },
  {
   "cell_type": "markdown",
   "id": "d2f80584",
   "metadata": {},
   "source": [
    "nombre_infected       938\n",
    "nombre_sain          2327\n",
    "nombre_exposed        604\n",
    "nombre_recovered    16131\n",
    "Name: 401, dtype: int64"
   ]
  },
  {
   "cell_type": "markdown",
   "id": "cfa1877c",
   "metadata": {},
   "source": [
    "nombre_infected       970\n",
    "nombre_sain          2304\n",
    "nombre_exposed        608\n",
    "nombre_recovered    16118\n",
    "Name: 402, dtype: int64"
   ]
  },
  {
   "cell_type": "markdown",
   "id": "bdc634bd",
   "metadata": {},
   "source": [
    "nombre_infected       983\n",
    "nombre_sain          2285\n",
    "nombre_exposed        605\n",
    "nombre_recovered    16127\n",
    "Name: 403, dtype: int64"
   ]
  },
  {
   "cell_type": "markdown",
   "id": "5f5c39f0",
   "metadata": {},
   "source": [
    "nombre_infected      1004\n",
    "nombre_sain          2253\n",
    "nombre_exposed        583\n",
    "nombre_recovered    16160\n",
    "Name: 404, dtype: int64"
   ]
  },
  {
   "cell_type": "markdown",
   "id": "d9490c8b",
   "metadata": {},
   "source": [
    "nombre_infected      1001\n",
    "nombre_sain          2236\n",
    "nombre_exposed        596\n",
    "nombre_recovered    16167\n",
    "Name: 405, dtype: int64"
   ]
  },
  {
   "cell_type": "markdown",
   "id": "5eafa0d7",
   "metadata": {},
   "source": [
    "nombre_infected       958\n",
    "nombre_sain          2196\n",
    "nombre_exposed        617\n",
    "nombre_recovered    16229\n",
    "Name: 406, dtype: int64"
   ]
  },
  {
   "cell_type": "markdown",
   "id": "21334d0c",
   "metadata": {},
   "source": [
    "nombre_infected       982\n",
    "nombre_sain          2201\n",
    "nombre_exposed        589\n",
    "nombre_recovered    16228\n",
    "Name: 407, dtype: int64"
   ]
  },
  {
   "cell_type": "markdown",
   "id": "abb9fde9",
   "metadata": {},
   "source": [
    "nombre_infected      1012\n",
    "nombre_sain          2186\n",
    "nombre_exposed        575\n",
    "nombre_recovered    16227\n",
    "Name: 408, dtype: int64"
   ]
  },
  {
   "cell_type": "markdown",
   "id": "0719bed0",
   "metadata": {},
   "source": [
    "nombre_infected      1023\n",
    "nombre_sain          2176\n",
    "nombre_exposed        556\n",
    "nombre_recovered    16245\n",
    "Name: 409, dtype: int64"
   ]
  },
  {
   "cell_type": "markdown",
   "id": "1b4c570b",
   "metadata": {},
   "source": [
    "nombre_infected      1027\n",
    "nombre_sain          2161\n",
    "nombre_exposed        543\n",
    "nombre_recovered    16269\n",
    "Name: 410, dtype: int64"
   ]
  },
  {
   "cell_type": "markdown",
   "id": "efa1f7e2",
   "metadata": {},
   "source": [
    "nombre_infected      1005\n",
    "nombre_sain          2155\n",
    "nombre_exposed        523\n",
    "nombre_recovered    16317\n",
    "Name: 411, dtype: int64"
   ]
  },
  {
   "cell_type": "markdown",
   "id": "5d889865",
   "metadata": {},
   "source": [
    "nombre_infected      1006\n",
    "nombre_sain          2149\n",
    "nombre_exposed        511\n",
    "nombre_recovered    16334\n",
    "Name: 412, dtype: int64"
   ]
  },
  {
   "cell_type": "markdown",
   "id": "ce8076fe",
   "metadata": {},
   "source": [
    "nombre_infected       986\n",
    "nombre_sain          2132\n",
    "nombre_exposed        535\n",
    "nombre_recovered    16347\n",
    "Name: 413, dtype: int64"
   ]
  },
  {
   "cell_type": "markdown",
   "id": "9e08419e",
   "metadata": {},
   "source": [
    "nombre_infected       977\n",
    "nombre_sain          2113\n",
    "nombre_exposed        531\n",
    "nombre_recovered    16379\n",
    "Name: 414, dtype: int64"
   ]
  },
  {
   "cell_type": "markdown",
   "id": "28aed1a4",
   "metadata": {},
   "source": [
    "nombre_infected       970\n",
    "nombre_sain          2088\n",
    "nombre_exposed        547\n",
    "nombre_recovered    16395\n",
    "Name: 415, dtype: int64"
   ]
  },
  {
   "cell_type": "markdown",
   "id": "979e587d",
   "metadata": {},
   "source": [
    "nombre_infected       967\n",
    "nombre_sain          2087\n",
    "nombre_exposed        544\n",
    "nombre_recovered    16402\n",
    "Name: 416, dtype: int64"
   ]
  },
  {
   "cell_type": "markdown",
   "id": "4569e677",
   "metadata": {},
   "source": [
    "nombre_infected       957\n",
    "nombre_sain          2089\n",
    "nombre_exposed        521\n",
    "nombre_recovered    16433\n",
    "Name: 417, dtype: int64"
   ]
  },
  {
   "cell_type": "markdown",
   "id": "23c60e4d",
   "metadata": {},
   "source": [
    "nombre_infected       958\n",
    "nombre_sain          2090\n",
    "nombre_exposed        508\n",
    "nombre_recovered    16444\n",
    "Name: 418, dtype: int64"
   ]
  },
  {
   "cell_type": "markdown",
   "id": "5064445b",
   "metadata": {},
   "source": [
    "nombre_infected       964\n",
    "nombre_sain          2098\n",
    "nombre_exposed        508\n",
    "nombre_recovered    16430\n",
    "Name: 419, dtype: int64"
   ]
  },
  {
   "cell_type": "markdown",
   "id": "82284e04",
   "metadata": {},
   "source": [
    "nombre_infected       924\n",
    "nombre_sain          2087\n",
    "nombre_exposed        548\n",
    "nombre_recovered    16441\n",
    "Name: 420, dtype: int64"
   ]
  },
  {
   "cell_type": "markdown",
   "id": "55d18dc3",
   "metadata": {},
   "source": [
    "nombre_infected       917\n",
    "nombre_sain          2090\n",
    "nombre_exposed        552\n",
    "nombre_recovered    16441\n",
    "Name: 421, dtype: int64"
   ]
  },
  {
   "cell_type": "markdown",
   "id": "edbeafda",
   "metadata": {},
   "source": [
    "nombre_infected       896\n",
    "nombre_sain          2130\n",
    "nombre_exposed        523\n",
    "nombre_recovered    16451\n",
    "Name: 422, dtype: int64"
   ]
  },
  {
   "cell_type": "markdown",
   "id": "9653b150",
   "metadata": {},
   "source": [
    "nombre_infected       913\n",
    "nombre_sain          2167\n",
    "nombre_exposed        490\n",
    "nombre_recovered    16430\n",
    "Name: 423, dtype: int64"
   ]
  },
  {
   "cell_type": "markdown",
   "id": "5131dc1b",
   "metadata": {},
   "source": [
    "nombre_infected       918\n",
    "nombre_sain          2217\n",
    "nombre_exposed        487\n",
    "nombre_recovered    16378\n",
    "Name: 424, dtype: int64"
   ]
  },
  {
   "cell_type": "markdown",
   "id": "a350f17d",
   "metadata": {},
   "source": [
    "nombre_infected       911\n",
    "nombre_sain          2266\n",
    "nombre_exposed        470\n",
    "nombre_recovered    16353\n",
    "Name: 425, dtype: int64"
   ]
  },
  {
   "cell_type": "markdown",
   "id": "a1aa00c5",
   "metadata": {},
   "source": [
    "nombre_infected       908\n",
    "nombre_sain          2265\n",
    "nombre_exposed        475\n",
    "nombre_recovered    16352\n",
    "Name: 426, dtype: int64"
   ]
  },
  {
   "cell_type": "markdown",
   "id": "f58c4185",
   "metadata": {},
   "source": [
    "nombre_infected       901\n",
    "nombre_sain          2293\n",
    "nombre_exposed        463\n",
    "nombre_recovered    16343\n",
    "Name: 427, dtype: int64"
   ]
  },
  {
   "cell_type": "markdown",
   "id": "67bcd953",
   "metadata": {},
   "source": [
    "nombre_infected       875\n",
    "nombre_sain          2330\n",
    "nombre_exposed        461\n",
    "nombre_recovered    16334\n",
    "Name: 428, dtype: int64"
   ]
  },
  {
   "cell_type": "markdown",
   "id": "2bba19b4",
   "metadata": {},
   "source": [
    "nombre_infected       887\n",
    "nombre_sain          2340\n",
    "nombre_exposed        484\n",
    "nombre_recovered    16289\n",
    "Name: 429, dtype: int64"
   ]
  },
  {
   "cell_type": "markdown",
   "id": "f6c9238c",
   "metadata": {},
   "source": [
    "nombre_infected       863\n",
    "nombre_sain          2358\n",
    "nombre_exposed        481\n",
    "nombre_recovered    16298\n",
    "Name: 430, dtype: int64"
   ]
  },
  {
   "cell_type": "markdown",
   "id": "9e66166b",
   "metadata": {},
   "source": [
    "nombre_infected       862\n",
    "nombre_sain          2339\n",
    "nombre_exposed        498\n",
    "nombre_recovered    16301\n",
    "Name: 431, dtype: int64"
   ]
  },
  {
   "cell_type": "markdown",
   "id": "18245832",
   "metadata": {},
   "source": [
    "nombre_infected       855\n",
    "nombre_sain          2343\n",
    "nombre_exposed        483\n",
    "nombre_recovered    16319\n",
    "Name: 432, dtype: int64"
   ]
  },
  {
   "cell_type": "markdown",
   "id": "be9b9445",
   "metadata": {},
   "source": [
    "nombre_infected       866\n",
    "nombre_sain          2317\n",
    "nombre_exposed        503\n",
    "nombre_recovered    16314\n",
    "Name: 433, dtype: int64"
   ]
  },
  {
   "cell_type": "markdown",
   "id": "6c48bfc1",
   "metadata": {},
   "source": [
    "nombre_infected       867\n",
    "nombre_sain          2309\n",
    "nombre_exposed        513\n",
    "nombre_recovered    16311\n",
    "Name: 434, dtype: int64"
   ]
  },
  {
   "cell_type": "markdown",
   "id": "841c34d4",
   "metadata": {},
   "source": [
    "nombre_infected       859\n",
    "nombre_sain          2326\n",
    "nombre_exposed        510\n",
    "nombre_recovered    16305\n",
    "Name: 435, dtype: int64"
   ]
  },
  {
   "cell_type": "markdown",
   "id": "2cbca2df",
   "metadata": {},
   "source": [
    "nombre_infected       867\n",
    "nombre_sain          2322\n",
    "nombre_exposed        510\n",
    "nombre_recovered    16301\n",
    "Name: 436, dtype: int64"
   ]
  },
  {
   "cell_type": "markdown",
   "id": "eb2d668b",
   "metadata": {},
   "source": [
    "nombre_infected       849\n",
    "nombre_sain          2330\n",
    "nombre_exposed        514\n",
    "nombre_recovered    16307\n",
    "Name: 437, dtype: int64"
   ]
  },
  {
   "cell_type": "markdown",
   "id": "92bf6861",
   "metadata": {},
   "source": [
    "nombre_infected       877\n",
    "nombre_sain          2359\n",
    "nombre_exposed        498\n",
    "nombre_recovered    16266\n",
    "Name: 438, dtype: int64"
   ]
  },
  {
   "cell_type": "markdown",
   "id": "370b2d16",
   "metadata": {},
   "source": [
    "nombre_infected       882\n",
    "nombre_sain          2340\n",
    "nombre_exposed        523\n",
    "nombre_recovered    16255\n",
    "Name: 439, dtype: int64"
   ]
  },
  {
   "cell_type": "markdown",
   "id": "cc5b9653",
   "metadata": {},
   "source": [
    "nombre_infected       823\n",
    "nombre_sain          2375\n",
    "nombre_exposed        524\n",
    "nombre_recovered    16278\n",
    "Name: 440, dtype: int64"
   ]
  },
  {
   "cell_type": "markdown",
   "id": "0d5839cc",
   "metadata": {},
   "source": [
    "nombre_infected       819\n",
    "nombre_sain          2375\n",
    "nombre_exposed        508\n",
    "nombre_recovered    16298\n",
    "Name: 441, dtype: int64"
   ]
  },
  {
   "cell_type": "markdown",
   "id": "ba7673bb",
   "metadata": {},
   "source": [
    "nombre_infected       814\n",
    "nombre_sain          2377\n",
    "nombre_exposed        499\n",
    "nombre_recovered    16310\n",
    "Name: 442, dtype: int64"
   ]
  },
  {
   "cell_type": "markdown",
   "id": "4903503f",
   "metadata": {},
   "source": [
    "nombre_infected       833\n",
    "nombre_sain          2406\n",
    "nombre_exposed        493\n",
    "nombre_recovered    16268\n",
    "Name: 443, dtype: int64"
   ]
  },
  {
   "cell_type": "markdown",
   "id": "546a2c38",
   "metadata": {},
   "source": [
    "nombre_infected       823\n",
    "nombre_sain          2417\n",
    "nombre_exposed        496\n",
    "nombre_recovered    16264\n",
    "Name: 444, dtype: int64"
   ]
  },
  {
   "cell_type": "markdown",
   "id": "bb6d0ebf",
   "metadata": {},
   "source": [
    "nombre_infected       813\n",
    "nombre_sain          2421\n",
    "nombre_exposed        502\n",
    "nombre_recovered    16264\n",
    "Name: 445, dtype: int64"
   ]
  },
  {
   "cell_type": "markdown",
   "id": "2da77d25",
   "metadata": {},
   "source": [
    "nombre_infected       822\n",
    "nombre_sain          2456\n",
    "nombre_exposed        494\n",
    "nombre_recovered    16228\n",
    "Name: 446, dtype: int64"
   ]
  },
  {
   "cell_type": "markdown",
   "id": "cd5ac952",
   "metadata": {},
   "source": [
    "nombre_infected       799\n",
    "nombre_sain          2464\n",
    "nombre_exposed        506\n",
    "nombre_recovered    16231\n",
    "Name: 447, dtype: int64"
   ]
  },
  {
   "cell_type": "markdown",
   "id": "18a7da7f",
   "metadata": {},
   "source": [
    "nombre_infected       778\n",
    "nombre_sain          2453\n",
    "nombre_exposed        530\n",
    "nombre_recovered    16239\n",
    "Name: 448, dtype: int64"
   ]
  },
  {
   "cell_type": "markdown",
   "id": "4ac9c0b8",
   "metadata": {},
   "source": [
    "nombre_infected       816\n",
    "nombre_sain          2478\n",
    "nombre_exposed        519\n",
    "nombre_recovered    16187\n",
    "Name: 449, dtype: int64"
   ]
  },
  {
   "cell_type": "markdown",
   "id": "dc1d34a7",
   "metadata": {},
   "source": [
    "nombre_infected       814\n",
    "nombre_sain          2493\n",
    "nombre_exposed        512\n",
    "nombre_recovered    16181\n",
    "Name: 450, dtype: int64"
   ]
  },
  {
   "cell_type": "markdown",
   "id": "d0bc58ab",
   "metadata": {},
   "source": [
    "nombre_infected       821\n",
    "nombre_sain          2504\n",
    "nombre_exposed        507\n",
    "nombre_recovered    16168\n",
    "Name: 451, dtype: int64"
   ]
  },
  {
   "cell_type": "markdown",
   "id": "a7d8d0c4",
   "metadata": {},
   "source": [
    "nombre_infected       821\n",
    "nombre_sain          2508\n",
    "nombre_exposed        517\n",
    "nombre_recovered    16154\n",
    "Name: 452, dtype: int64"
   ]
  },
  {
   "cell_type": "markdown",
   "id": "5afbdf46",
   "metadata": {},
   "source": [
    "nombre_infected       807\n",
    "nombre_sain          2502\n",
    "nombre_exposed        520\n",
    "nombre_recovered    16171\n",
    "Name: 453, dtype: int64"
   ]
  },
  {
   "cell_type": "markdown",
   "id": "fbce6bf0",
   "metadata": {},
   "source": [
    "nombre_infected       801\n",
    "nombre_sain          2512\n",
    "nombre_exposed        508\n",
    "nombre_recovered    16179\n",
    "Name: 454, dtype: int64"
   ]
  },
  {
   "cell_type": "markdown",
   "id": "001ca54e",
   "metadata": {},
   "source": [
    "nombre_infected       808\n",
    "nombre_sain          2507\n",
    "nombre_exposed        519\n",
    "nombre_recovered    16166\n",
    "Name: 455, dtype: int64"
   ]
  },
  {
   "cell_type": "markdown",
   "id": "0d195b26",
   "metadata": {},
   "source": [
    "nombre_infected       791\n",
    "nombre_sain          2518\n",
    "nombre_exposed        523\n",
    "nombre_recovered    16168\n",
    "Name: 456, dtype: int64"
   ]
  },
  {
   "cell_type": "markdown",
   "id": "1f7e5ec3",
   "metadata": {},
   "source": [
    "nombre_infected       809\n",
    "nombre_sain          2553\n",
    "nombre_exposed        500\n",
    "nombre_recovered    16138\n",
    "Name: 457, dtype: int64"
   ]
  },
  {
   "cell_type": "markdown",
   "id": "2d642011",
   "metadata": {},
   "source": [
    "nombre_infected       839\n",
    "nombre_sain          2574\n",
    "nombre_exposed        481\n",
    "nombre_recovered    16106\n",
    "Name: 458, dtype: int64"
   ]
  },
  {
   "cell_type": "markdown",
   "id": "943443ad",
   "metadata": {},
   "source": [
    "nombre_infected       835\n",
    "nombre_sain          2566\n",
    "nombre_exposed        515\n",
    "nombre_recovered    16084\n",
    "Name: 459, dtype: int64"
   ]
  },
  {
   "cell_type": "markdown",
   "id": "b73ac4f7",
   "metadata": {},
   "source": [
    "nombre_infected       866\n",
    "nombre_sain          2597\n",
    "nombre_exposed        509\n",
    "nombre_recovered    16028\n",
    "Name: 460, dtype: int64"
   ]
  },
  {
   "cell_type": "markdown",
   "id": "4a3aa417",
   "metadata": {},
   "source": [
    "nombre_infected       883\n",
    "nombre_sain          2612\n",
    "nombre_exposed        527\n",
    "nombre_recovered    15978\n",
    "Name: 461, dtype: int64"
   ]
  },
  {
   "cell_type": "markdown",
   "id": "4c179fb2",
   "metadata": {},
   "source": [
    "nombre_infected       903\n",
    "nombre_sain          2574\n",
    "nombre_exposed        556\n",
    "nombre_recovered    15967\n",
    "Name: 462, dtype: int64"
   ]
  },
  {
   "cell_type": "markdown",
   "id": "054ab6ef",
   "metadata": {},
   "source": [
    "nombre_infected       878\n",
    "nombre_sain          2606\n",
    "nombre_exposed        557\n",
    "nombre_recovered    15959\n",
    "Name: 463, dtype: int64"
   ]
  },
  {
   "cell_type": "markdown",
   "id": "b1ccd675",
   "metadata": {},
   "source": [
    "nombre_infected       884\n",
    "nombre_sain          2611\n",
    "nombre_exposed        565\n",
    "nombre_recovered    15940\n",
    "Name: 464, dtype: int64"
   ]
  },
  {
   "cell_type": "markdown",
   "id": "d4996ca8",
   "metadata": {},
   "source": [
    "nombre_infected       904\n",
    "nombre_sain          2633\n",
    "nombre_exposed        548\n",
    "nombre_recovered    15915\n",
    "Name: 465, dtype: int64"
   ]
  },
  {
   "cell_type": "markdown",
   "id": "8bbd18e5",
   "metadata": {},
   "source": [
    "nombre_infected       914\n",
    "nombre_sain          2626\n",
    "nombre_exposed        551\n",
    "nombre_recovered    15909\n",
    "Name: 466, dtype: int64"
   ]
  },
  {
   "cell_type": "markdown",
   "id": "ae169d7b",
   "metadata": {},
   "source": [
    "nombre_infected       890\n",
    "nombre_sain          2618\n",
    "nombre_exposed        561\n",
    "nombre_recovered    15931\n",
    "Name: 467, dtype: int64"
   ]
  },
  {
   "cell_type": "markdown",
   "id": "7c990a2a",
   "metadata": {},
   "source": [
    "nombre_infected       903\n",
    "nombre_sain          2611\n",
    "nombre_exposed        557\n",
    "nombre_recovered    15929\n",
    "Name: 468, dtype: int64"
   ]
  },
  {
   "cell_type": "markdown",
   "id": "72ef9260",
   "metadata": {},
   "source": [
    "nombre_infected       908\n",
    "nombre_sain          2589\n",
    "nombre_exposed        589\n",
    "nombre_recovered    15914\n",
    "Name: 469, dtype: int64"
   ]
  },
  {
   "cell_type": "markdown",
   "id": "6e4dc116",
   "metadata": {},
   "source": [
    "nombre_infected       913\n",
    "nombre_sain          2569\n",
    "nombre_exposed        581\n",
    "nombre_recovered    15937\n",
    "Name: 470, dtype: int64"
   ]
  },
  {
   "cell_type": "markdown",
   "id": "e709f60f",
   "metadata": {},
   "source": [
    "nombre_infected       926\n",
    "nombre_sain          2545\n",
    "nombre_exposed        588\n",
    "nombre_recovered    15941\n",
    "Name: 471, dtype: int64"
   ]
  },
  {
   "cell_type": "markdown",
   "id": "86bf46fc",
   "metadata": {},
   "source": [
    "nombre_infected       912\n",
    "nombre_sain          2535\n",
    "nombre_exposed        602\n",
    "nombre_recovered    15951\n",
    "Name: 472, dtype: int64"
   ]
  },
  {
   "cell_type": "markdown",
   "id": "894196cd",
   "metadata": {},
   "source": [
    "nombre_infected       929\n",
    "nombre_sain          2493\n",
    "nombre_exposed        611\n",
    "nombre_recovered    15967\n",
    "Name: 473, dtype: int64"
   ]
  },
  {
   "cell_type": "markdown",
   "id": "8c74d0ff",
   "metadata": {},
   "source": [
    "nombre_infected       943\n",
    "nombre_sain          2482\n",
    "nombre_exposed        616\n",
    "nombre_recovered    15959\n",
    "Name: 474, dtype: int64"
   ]
  },
  {
   "cell_type": "markdown",
   "id": "912f8cb6",
   "metadata": {},
   "source": [
    "nombre_infected       932\n",
    "nombre_sain          2446\n",
    "nombre_exposed        634\n",
    "nombre_recovered    15988\n",
    "Name: 475, dtype: int64"
   ]
  },
  {
   "cell_type": "markdown",
   "id": "335d57c8",
   "metadata": {},
   "source": [
    "nombre_infected       972\n",
    "nombre_sain          2408\n",
    "nombre_exposed        621\n",
    "nombre_recovered    15999\n",
    "Name: 476, dtype: int64"
   ]
  },
  {
   "cell_type": "markdown",
   "id": "ae959c97",
   "metadata": {},
   "source": [
    "nombre_infected       975\n",
    "nombre_sain          2400\n",
    "nombre_exposed        604\n",
    "nombre_recovered    16021\n",
    "Name: 477, dtype: int64"
   ]
  },
  {
   "cell_type": "markdown",
   "id": "4c63597a",
   "metadata": {},
   "source": [
    "nombre_infected       950\n",
    "nombre_sain          2381\n",
    "nombre_exposed        622\n",
    "nombre_recovered    16047\n",
    "Name: 478, dtype: int64"
   ]
  },
  {
   "cell_type": "markdown",
   "id": "649f0f4a",
   "metadata": {},
   "source": [
    "nombre_infected       981\n",
    "nombre_sain          2358\n",
    "nombre_exposed        609\n",
    "nombre_recovered    16052\n",
    "Name: 479, dtype: int64"
   ]
  },
  {
   "cell_type": "markdown",
   "id": "3acf0cce",
   "metadata": {},
   "source": [
    "nombre_infected       987\n",
    "nombre_sain          2347\n",
    "nombre_exposed        600\n",
    "nombre_recovered    16066\n",
    "Name: 480, dtype: int64"
   ]
  },
  {
   "cell_type": "markdown",
   "id": "5f031a6a",
   "metadata": {},
   "source": [
    "nombre_infected       978\n",
    "nombre_sain          2332\n",
    "nombre_exposed        594\n",
    "nombre_recovered    16096\n",
    "Name: 481, dtype: int64"
   ]
  },
  {
   "cell_type": "markdown",
   "id": "981978fa",
   "metadata": {},
   "source": [
    "nombre_infected       991\n",
    "nombre_sain          2317\n",
    "nombre_exposed        600\n",
    "nombre_recovered    16092\n",
    "Name: 482, dtype: int64"
   ]
  },
  {
   "cell_type": "markdown",
   "id": "c62ff8aa",
   "metadata": {},
   "source": [
    "nombre_infected       983\n",
    "nombre_sain          2281\n",
    "nombre_exposed        613\n",
    "nombre_recovered    16123\n",
    "Name: 483, dtype: int64"
   ]
  },
  {
   "cell_type": "markdown",
   "id": "cf1c06b0",
   "metadata": {},
   "source": [
    "nombre_infected       968\n",
    "nombre_sain          2276\n",
    "nombre_exposed        617\n",
    "nombre_recovered    16139\n",
    "Name: 484, dtype: int64"
   ]
  },
  {
   "cell_type": "markdown",
   "id": "0cd46593",
   "metadata": {},
   "source": [
    "nombre_infected       961\n",
    "nombre_sain          2244\n",
    "nombre_exposed        634\n",
    "nombre_recovered    16161\n",
    "Name: 485, dtype: int64"
   ]
  },
  {
   "cell_type": "markdown",
   "id": "286e2df9",
   "metadata": {},
   "source": [
    "nombre_infected       960\n",
    "nombre_sain          2202\n",
    "nombre_exposed        641\n",
    "nombre_recovered    16197\n",
    "Name: 486, dtype: int64"
   ]
  },
  {
   "cell_type": "markdown",
   "id": "0d0c7965",
   "metadata": {},
   "source": [
    "nombre_infected       966\n",
    "nombre_sain          2192\n",
    "nombre_exposed        618\n",
    "nombre_recovered    16224\n",
    "Name: 487, dtype: int64"
   ]
  },
  {
   "cell_type": "markdown",
   "id": "3891f0ba",
   "metadata": {},
   "source": [
    "nombre_infected       972\n",
    "nombre_sain          2170\n",
    "nombre_exposed        626\n",
    "nombre_recovered    16232\n",
    "Name: 488, dtype: int64"
   ]
  },
  {
   "cell_type": "markdown",
   "id": "7eb1e288",
   "metadata": {},
   "source": [
    "nombre_infected       993\n",
    "nombre_sain          2161\n",
    "nombre_exposed        606\n",
    "nombre_recovered    16240\n",
    "Name: 489, dtype: int64"
   ]
  },
  {
   "cell_type": "markdown",
   "id": "a0daa051",
   "metadata": {},
   "source": [
    "nombre_infected       999\n",
    "nombre_sain          2159\n",
    "nombre_exposed        586\n",
    "nombre_recovered    16256\n",
    "Name: 490, dtype: int64"
   ]
  },
  {
   "cell_type": "markdown",
   "id": "2dc3d021",
   "metadata": {},
   "source": [
    "nombre_infected      1005\n",
    "nombre_sain          2178\n",
    "nombre_exposed        568\n",
    "nombre_recovered    16249\n",
    "Name: 491, dtype: int64"
   ]
  },
  {
   "cell_type": "markdown",
   "id": "354d9fa1",
   "metadata": {},
   "source": [
    "nombre_infected      1016\n",
    "nombre_sain          2175\n",
    "nombre_exposed        533\n",
    "nombre_recovered    16276\n",
    "Name: 492, dtype: int64"
   ]
  },
  {
   "cell_type": "markdown",
   "id": "113ed11e",
   "metadata": {},
   "source": [
    "nombre_infected      1007\n",
    "nombre_sain          2167\n",
    "nombre_exposed        524\n",
    "nombre_recovered    16302\n",
    "Name: 493, dtype: int64"
   ]
  },
  {
   "cell_type": "markdown",
   "id": "40b74571",
   "metadata": {},
   "source": [
    "nombre_infected       973\n",
    "nombre_sain          2158\n",
    "nombre_exposed        552\n",
    "nombre_recovered    16317\n",
    "Name: 494, dtype: int64"
   ]
  },
  {
   "cell_type": "markdown",
   "id": "1ca22c71",
   "metadata": {},
   "source": [
    "nombre_infected       951\n",
    "nombre_sain          2141\n",
    "nombre_exposed        565\n",
    "nombre_recovered    16343\n",
    "Name: 495, dtype: int64"
   ]
  },
  {
   "cell_type": "markdown",
   "id": "a00d34ca",
   "metadata": {},
   "source": [
    "nombre_infected       937\n",
    "nombre_sain          2125\n",
    "nombre_exposed        556\n",
    "nombre_recovered    16382\n",
    "Name: 496, dtype: int64"
   ]
  },
  {
   "cell_type": "markdown",
   "id": "f80db692",
   "metadata": {},
   "source": [
    "nombre_infected       922\n",
    "nombre_sain          2126\n",
    "nombre_exposed        557\n",
    "nombre_recovered    16395\n",
    "Name: 497, dtype: int64"
   ]
  },
  {
   "cell_type": "markdown",
   "id": "3ac9de47",
   "metadata": {},
   "source": [
    "nombre_infected       924\n",
    "nombre_sain          2133\n",
    "nombre_exposed        535\n",
    "nombre_recovered    16408\n",
    "Name: 498, dtype: int64"
   ]
  },
  {
   "cell_type": "markdown",
   "id": "6d47d2de",
   "metadata": {},
   "source": [
    "nombre_infected       911\n",
    "nombre_sain          2142\n",
    "nombre_exposed        546\n",
    "nombre_recovered    16401\n",
    "Name: 499, dtype: int64"
   ]
  },
  {
   "cell_type": "markdown",
   "id": "57853690",
   "metadata": {},
   "source": [
    "nombre_infected       887\n",
    "nombre_sain          2136\n",
    "nombre_exposed        551\n",
    "nombre_recovered    16426\n",
    "Name: 500, dtype: int64"
   ]
  },
  {
   "cell_type": "markdown",
   "id": "8a03919c",
   "metadata": {},
   "source": [
    "nombre_infected       884\n",
    "nombre_sain          2150\n",
    "nombre_exposed        541\n",
    "nombre_recovered    16425\n",
    "Name: 501, dtype: int64"
   ]
  },
  {
   "cell_type": "markdown",
   "id": "57d98933",
   "metadata": {},
   "source": [
    "nombre_infected       875\n",
    "nombre_sain          2191\n",
    "nombre_exposed        495\n",
    "nombre_recovered    16439\n",
    "Name: 502, dtype: int64"
   ]
  },
  {
   "cell_type": "markdown",
   "id": "45bd170b",
   "metadata": {},
   "source": [
    "nombre_infected       880\n",
    "nombre_sain          2191\n",
    "nombre_exposed        490\n",
    "nombre_recovered    16439\n",
    "Name: 503, dtype: int64"
   ]
  },
  {
   "cell_type": "markdown",
   "id": "85de3e49",
   "metadata": {},
   "source": [
    "nombre_infected       871\n",
    "nombre_sain          2217\n",
    "nombre_exposed        487\n",
    "nombre_recovered    16425\n",
    "Name: 504, dtype: int64"
   ]
  },
  {
   "cell_type": "markdown",
   "id": "accc08bb",
   "metadata": {},
   "source": [
    "nombre_infected       850\n",
    "nombre_sain          2221\n",
    "nombre_exposed        495\n",
    "nombre_recovered    16434\n",
    "Name: 505, dtype: int64"
   ]
  },
  {
   "cell_type": "markdown",
   "id": "17196f84",
   "metadata": {},
   "source": [
    "nombre_infected       831\n",
    "nombre_sain          2248\n",
    "nombre_exposed        503\n",
    "nombre_recovered    16418\n",
    "Name: 506, dtype: int64"
   ]
  },
  {
   "cell_type": "markdown",
   "id": "c092d8be",
   "metadata": {},
   "source": [
    "nombre_infected       817\n",
    "nombre_sain          2289\n",
    "nombre_exposed        494\n",
    "nombre_recovered    16400\n",
    "Name: 507, dtype: int64"
   ]
  },
  {
   "cell_type": "markdown",
   "id": "f2e3d635",
   "metadata": {},
   "source": [
    "nombre_infected       795\n",
    "nombre_sain          2304\n",
    "nombre_exposed        512\n",
    "nombre_recovered    16389\n",
    "Name: 508, dtype: int64"
   ]
  },
  {
   "cell_type": "markdown",
   "id": "6e689dc6",
   "metadata": {},
   "source": [
    "nombre_infected       801\n",
    "nombre_sain          2362\n",
    "nombre_exposed        496\n",
    "nombre_recovered    16341\n",
    "Name: 509, dtype: int64"
   ]
  },
  {
   "cell_type": "markdown",
   "id": "c46d0247",
   "metadata": {},
   "source": [
    "nombre_infected       820\n",
    "nombre_sain          2380\n",
    "nombre_exposed        498\n",
    "nombre_recovered    16302\n",
    "Name: 510, dtype: int64"
   ]
  },
  {
   "cell_type": "markdown",
   "id": "8c3168ba",
   "metadata": {},
   "source": [
    "nombre_infected       800\n",
    "nombre_sain          2438\n",
    "nombre_exposed        510\n",
    "nombre_recovered    16252\n",
    "Name: 511, dtype: int64"
   ]
  },
  {
   "cell_type": "markdown",
   "id": "9263c301",
   "metadata": {},
   "source": [
    "nombre_infected       782\n",
    "nombre_sain          2470\n",
    "nombre_exposed        526\n",
    "nombre_recovered    16222\n",
    "Name: 512, dtype: int64"
   ]
  },
  {
   "cell_type": "markdown",
   "id": "4b5dbe92",
   "metadata": {},
   "source": [
    "nombre_infected       788\n",
    "nombre_sain          2486\n",
    "nombre_exposed        530\n",
    "nombre_recovered    16196\n",
    "Name: 513, dtype: int64"
   ]
  },
  {
   "cell_type": "markdown",
   "id": "525c4b8b",
   "metadata": {},
   "source": [
    "nombre_infected       823\n",
    "nombre_sain          2531\n",
    "nombre_exposed        517\n",
    "nombre_recovered    16129\n",
    "Name: 514, dtype: int64"
   ]
  },
  {
   "cell_type": "markdown",
   "id": "2b47e6b2",
   "metadata": {},
   "source": [
    "nombre_infected       826\n",
    "nombre_sain          2561\n",
    "nombre_exposed        536\n",
    "nombre_recovered    16077\n",
    "Name: 515, dtype: int64"
   ]
  },
  {
   "cell_type": "markdown",
   "id": "58b1f6bf",
   "metadata": {},
   "source": [
    "nombre_infected       841\n",
    "nombre_sain          2596\n",
    "nombre_exposed        547\n",
    "nombre_recovered    16016\n",
    "Name: 516, dtype: int64"
   ]
  },
  {
   "cell_type": "markdown",
   "id": "a4f6c1e8",
   "metadata": {},
   "source": [
    "nombre_infected       838\n",
    "nombre_sain          2615\n",
    "nombre_exposed        558\n",
    "nombre_recovered    15989\n",
    "Name: 517, dtype: int64"
   ]
  },
  {
   "cell_type": "markdown",
   "id": "da3c097d",
   "metadata": {},
   "source": [
    "nombre_infected       830\n",
    "nombre_sain          2591\n",
    "nombre_exposed        594\n",
    "nombre_recovered    15985\n",
    "Name: 518, dtype: int64"
   ]
  },
  {
   "cell_type": "markdown",
   "id": "b23bee3b",
   "metadata": {},
   "source": [
    "nombre_infected       848\n",
    "nombre_sain          2591\n",
    "nombre_exposed        592\n",
    "nombre_recovered    15969\n",
    "Name: 519, dtype: int64"
   ]
  },
  {
   "cell_type": "markdown",
   "id": "4df8bb87",
   "metadata": {},
   "source": [
    "nombre_infected       873\n",
    "nombre_sain          2595\n",
    "nombre_exposed        569\n",
    "nombre_recovered    15963\n",
    "Name: 520, dtype: int64"
   ]
  },
  {
   "cell_type": "markdown",
   "id": "d0e79b95",
   "metadata": {},
   "source": [
    "nombre_infected       885\n",
    "nombre_sain          2618\n",
    "nombre_exposed        561\n",
    "nombre_recovered    15936\n",
    "Name: 521, dtype: int64"
   ]
  },
  {
   "cell_type": "markdown",
   "id": "45408d0d",
   "metadata": {},
   "source": [
    "nombre_infected       901\n",
    "nombre_sain          2604\n",
    "nombre_exposed        559\n",
    "nombre_recovered    15936\n",
    "Name: 522, dtype: int64"
   ]
  },
  {
   "cell_type": "markdown",
   "id": "bb66a782",
   "metadata": {},
   "source": [
    "nombre_infected       914\n",
    "nombre_sain          2579\n",
    "nombre_exposed        569\n",
    "nombre_recovered    15938\n",
    "Name: 523, dtype: int64"
   ]
  },
  {
   "cell_type": "markdown",
   "id": "3f2a61fb",
   "metadata": {},
   "source": [
    "nombre_infected       906\n",
    "nombre_sain          2549\n",
    "nombre_exposed        585\n",
    "nombre_recovered    15960\n",
    "Name: 524, dtype: int64"
   ]
  },
  {
   "cell_type": "markdown",
   "id": "2ec606eb",
   "metadata": {},
   "source": [
    "nombre_infected       931\n",
    "nombre_sain          2531\n",
    "nombre_exposed        581\n",
    "nombre_recovered    15957\n",
    "Name: 525, dtype: int64"
   ]
  },
  {
   "cell_type": "markdown",
   "id": "a96c7cab",
   "metadata": {},
   "source": [
    "nombre_infected       938\n",
    "nombre_sain          2513\n",
    "nombre_exposed        604\n",
    "nombre_recovered    15945\n",
    "Name: 526, dtype: int64"
   ]
  },
  {
   "cell_type": "markdown",
   "id": "1ab94c96",
   "metadata": {},
   "source": [
    "nombre_infected       953\n",
    "nombre_sain          2475\n",
    "nombre_exposed        627\n",
    "nombre_recovered    15945\n",
    "Name: 527, dtype: int64"
   ]
  },
  {
   "cell_type": "markdown",
   "id": "7bb5b61d",
   "metadata": {},
   "source": [
    "nombre_infected       970\n",
    "nombre_sain          2427\n",
    "nombre_exposed        642\n",
    "nombre_recovered    15961\n",
    "Name: 528, dtype: int64"
   ]
  },
  {
   "cell_type": "markdown",
   "id": "fa898193",
   "metadata": {},
   "source": [
    "nombre_infected       977\n",
    "nombre_sain          2381\n",
    "nombre_exposed        647\n",
    "nombre_recovered    15995\n",
    "Name: 529, dtype: int64"
   ]
  },
  {
   "cell_type": "markdown",
   "id": "e7bd6c8d",
   "metadata": {},
   "source": [
    "nombre_infected      1019\n",
    "nombre_sain          2349\n",
    "nombre_exposed        605\n",
    "nombre_recovered    16027\n",
    "Name: 530, dtype: int64"
   ]
  },
  {
   "cell_type": "markdown",
   "id": "c1dbf8dd",
   "metadata": {},
   "source": [
    "nombre_infected      1020\n",
    "nombre_sain          2326\n",
    "nombre_exposed        596\n",
    "nombre_recovered    16058\n",
    "Name: 531, dtype: int64"
   ]
  },
  {
   "cell_type": "markdown",
   "id": "970e8969",
   "metadata": {},
   "source": [
    "nombre_infected      1000\n",
    "nombre_sain          2296\n",
    "nombre_exposed        610\n",
    "nombre_recovered    16094\n",
    "Name: 532, dtype: int64"
   ]
  },
  {
   "cell_type": "markdown",
   "id": "7f01c14e",
   "metadata": {},
   "source": [
    "nombre_infected       994\n",
    "nombre_sain          2277\n",
    "nombre_exposed        596\n",
    "nombre_recovered    16133\n",
    "Name: 533, dtype: int64"
   ]
  },
  {
   "cell_type": "markdown",
   "id": "469568f7",
   "metadata": {},
   "source": [
    "nombre_infected      1011\n",
    "nombre_sain          2272\n",
    "nombre_exposed        568\n",
    "nombre_recovered    16149\n",
    "Name: 534, dtype: int64"
   ]
  },
  {
   "cell_type": "markdown",
   "id": "33bae6a5",
   "metadata": {},
   "source": [
    "nombre_infected      1044\n",
    "nombre_sain          2248\n",
    "nombre_exposed        535\n",
    "nombre_recovered    16173\n",
    "Name: 535, dtype: int64"
   ]
  },
  {
   "cell_type": "markdown",
   "id": "be6e3113",
   "metadata": {},
   "source": [
    "nombre_infected      1041\n",
    "nombre_sain          2245\n",
    "nombre_exposed        542\n",
    "nombre_recovered    16172\n",
    "Name: 536, dtype: int64"
   ]
  },
  {
   "cell_type": "markdown",
   "id": "d31ca586",
   "metadata": {},
   "source": [
    "nombre_infected      1023\n",
    "nombre_sain          2231\n",
    "nombre_exposed        565\n",
    "nombre_recovered    16181\n",
    "Name: 537, dtype: int64"
   ]
  },
  {
   "cell_type": "markdown",
   "id": "cd35411e",
   "metadata": {},
   "source": [
    "nombre_infected       990\n",
    "nombre_sain          2211\n",
    "nombre_exposed        581\n",
    "nombre_recovered    16218\n",
    "Name: 538, dtype: int64"
   ]
  },
  {
   "cell_type": "markdown",
   "id": "8f8441f3",
   "metadata": {},
   "source": [
    "nombre_infected       967\n",
    "nombre_sain          2214\n",
    "nombre_exposed        559\n",
    "nombre_recovered    16260\n",
    "Name: 539, dtype: int64"
   ]
  },
  {
   "cell_type": "markdown",
   "id": "a20a6696",
   "metadata": {},
   "source": [
    "nombre_infected       953\n",
    "nombre_sain          2211\n",
    "nombre_exposed        551\n",
    "nombre_recovered    16285\n",
    "Name: 540, dtype: int64"
   ]
  },
  {
   "cell_type": "markdown",
   "id": "7ddad223",
   "metadata": {},
   "source": [
    "nombre_infected       940\n",
    "nombre_sain          2194\n",
    "nombre_exposed        549\n",
    "nombre_recovered    16317\n",
    "Name: 541, dtype: int64"
   ]
  },
  {
   "cell_type": "markdown",
   "id": "376c7e5b",
   "metadata": {},
   "source": [
    "nombre_infected       940\n",
    "nombre_sain          2199\n",
    "nombre_exposed        544\n",
    "nombre_recovered    16317\n",
    "Name: 542, dtype: int64"
   ]
  },
  {
   "cell_type": "markdown",
   "id": "eb8b4cda",
   "metadata": {},
   "source": [
    "nombre_infected       930\n",
    "nombre_sain          2180\n",
    "nombre_exposed        554\n",
    "nombre_recovered    16336\n",
    "Name: 543, dtype: int64"
   ]
  },
  {
   "cell_type": "markdown",
   "id": "a3818359",
   "metadata": {},
   "source": [
    "nombre_infected       902\n",
    "nombre_sain          2205\n",
    "nombre_exposed        546\n",
    "nombre_recovered    16347\n",
    "Name: 544, dtype: int64"
   ]
  },
  {
   "cell_type": "markdown",
   "id": "cfba68b6",
   "metadata": {},
   "source": [
    "nombre_infected       892\n",
    "nombre_sain          2199\n",
    "nombre_exposed        535\n",
    "nombre_recovered    16374\n",
    "Name: 545, dtype: int64"
   ]
  },
  {
   "cell_type": "markdown",
   "id": "2a9c236b",
   "metadata": {},
   "source": [
    "nombre_infected       895\n",
    "nombre_sain          2180\n",
    "nombre_exposed        543\n",
    "nombre_recovered    16382\n",
    "Name: 546, dtype: int64"
   ]
  },
  {
   "cell_type": "markdown",
   "id": "95db5b9d",
   "metadata": {},
   "source": [
    "nombre_infected       887\n",
    "nombre_sain          2179\n",
    "nombre_exposed        534\n",
    "nombre_recovered    16400\n",
    "Name: 547, dtype: int64"
   ]
  },
  {
   "cell_type": "markdown",
   "id": "f3d638f8",
   "metadata": {},
   "source": [
    "nombre_infected       904\n",
    "nombre_sain          2199\n",
    "nombre_exposed        518\n",
    "nombre_recovered    16379\n",
    "Name: 548, dtype: int64"
   ]
  },
  {
   "cell_type": "markdown",
   "id": "4f7307c0",
   "metadata": {},
   "source": [
    "nombre_infected       912\n",
    "nombre_sain          2180\n",
    "nombre_exposed        505\n",
    "nombre_recovered    16403\n",
    "Name: 549, dtype: int64"
   ]
  },
  {
   "cell_type": "markdown",
   "id": "1dcb0ce1",
   "metadata": {},
   "source": [
    "nombre_infected       898\n",
    "nombre_sain          2214\n",
    "nombre_exposed        477\n",
    "nombre_recovered    16411\n",
    "Name: 550, dtype: int64"
   ]
  },
  {
   "cell_type": "markdown",
   "id": "7a534653",
   "metadata": {},
   "source": [
    "nombre_infected       903\n",
    "nombre_sain          2217\n",
    "nombre_exposed        471\n",
    "nombre_recovered    16409\n",
    "Name: 551, dtype: int64"
   ]
  },
  {
   "cell_type": "markdown",
   "id": "6d3c1325",
   "metadata": {},
   "source": [
    "nombre_infected       878\n",
    "nombre_sain          2230\n",
    "nombre_exposed        472\n",
    "nombre_recovered    16420\n",
    "Name: 552, dtype: int64"
   ]
  },
  {
   "cell_type": "markdown",
   "id": "8e79aa76",
   "metadata": {},
   "source": [
    "nombre_infected       854\n",
    "nombre_sain          2212\n",
    "nombre_exposed        493\n",
    "nombre_recovered    16441\n",
    "Name: 553, dtype: int64"
   ]
  },
  {
   "cell_type": "markdown",
   "id": "77a8dd93",
   "metadata": {},
   "source": [
    "nombre_infected       852\n",
    "nombre_sain          2218\n",
    "nombre_exposed        484\n",
    "nombre_recovered    16446\n",
    "Name: 554, dtype: int64"
   ]
  },
  {
   "cell_type": "markdown",
   "id": "52b67055",
   "metadata": {},
   "source": [
    "nombre_infected       856\n",
    "nombre_sain          2205\n",
    "nombre_exposed        484\n",
    "nombre_recovered    16455\n",
    "Name: 555, dtype: int64"
   ]
  },
  {
   "cell_type": "markdown",
   "id": "e1f0ed3d",
   "metadata": {},
   "source": [
    "nombre_infected       862\n",
    "nombre_sain          2199\n",
    "nombre_exposed        486\n",
    "nombre_recovered    16453\n",
    "Name: 556, dtype: int64"
   ]
  },
  {
   "cell_type": "markdown",
   "id": "74617db1",
   "metadata": {},
   "source": [
    "nombre_infected       880\n",
    "nombre_sain          2159\n",
    "nombre_exposed        510\n",
    "nombre_recovered    16451\n",
    "Name: 557, dtype: int64"
   ]
  },
  {
   "cell_type": "markdown",
   "id": "db5858d8",
   "metadata": {},
   "source": [
    "nombre_infected       859\n",
    "nombre_sain          2139\n",
    "nombre_exposed        525\n",
    "nombre_recovered    16477\n",
    "Name: 558, dtype: int64"
   ]
  },
  {
   "cell_type": "markdown",
   "id": "be13fd7a",
   "metadata": {},
   "source": [
    "nombre_infected       857\n",
    "nombre_sain          2151\n",
    "nombre_exposed        506\n",
    "nombre_recovered    16486\n",
    "Name: 559, dtype: int64"
   ]
  },
  {
   "cell_type": "markdown",
   "id": "eaac4bd3",
   "metadata": {},
   "source": [
    "nombre_infected       883\n",
    "nombre_sain          2149\n",
    "nombre_exposed        486\n",
    "nombre_recovered    16482\n",
    "Name: 560, dtype: int64"
   ]
  },
  {
   "cell_type": "markdown",
   "id": "78026655",
   "metadata": {},
   "source": [
    "nombre_infected       872\n",
    "nombre_sain          2145\n",
    "nombre_exposed        491\n",
    "nombre_recovered    16492\n",
    "Name: 561, dtype: int64"
   ]
  },
  {
   "cell_type": "markdown",
   "id": "0e35a3f3",
   "metadata": {},
   "source": [
    "nombre_infected       866\n",
    "nombre_sain          2119\n",
    "nombre_exposed        487\n",
    "nombre_recovered    16528\n",
    "Name: 562, dtype: int64"
   ]
  },
  {
   "cell_type": "markdown",
   "id": "dbca6e60",
   "metadata": {},
   "source": [
    "nombre_infected       853\n",
    "nombre_sain          2100\n",
    "nombre_exposed        488\n",
    "nombre_recovered    16559\n",
    "Name: 563, dtype: int64"
   ]
  },
  {
   "cell_type": "markdown",
   "id": "7aa1c54b",
   "metadata": {},
   "source": [
    "nombre_infected       833\n",
    "nombre_sain          2071\n",
    "nombre_exposed        514\n",
    "nombre_recovered    16582\n",
    "Name: 564, dtype: int64"
   ]
  },
  {
   "cell_type": "markdown",
   "id": "14a98a1d",
   "metadata": {},
   "source": [
    "nombre_infected       828\n",
    "nombre_sain          2079\n",
    "nombre_exposed        501\n",
    "nombre_recovered    16592\n",
    "Name: 565, dtype: int64"
   ]
  },
  {
   "cell_type": "markdown",
   "id": "0dcd8d75",
   "metadata": {},
   "source": [
    "nombre_infected       841\n",
    "nombre_sain          2073\n",
    "nombre_exposed        490\n",
    "nombre_recovered    16596\n",
    "Name: 566, dtype: int64"
   ]
  },
  {
   "cell_type": "markdown",
   "id": "e713e790",
   "metadata": {},
   "source": [
    "nombre_infected       860\n",
    "nombre_sain          2105\n",
    "nombre_exposed        461\n",
    "nombre_recovered    16574\n",
    "Name: 567, dtype: int64"
   ]
  },
  {
   "cell_type": "markdown",
   "id": "110f517d",
   "metadata": {},
   "source": [
    "nombre_infected       838\n",
    "nombre_sain          2113\n",
    "nombre_exposed        442\n",
    "nombre_recovered    16607\n",
    "Name: 568, dtype: int64"
   ]
  },
  {
   "cell_type": "markdown",
   "id": "14e98df6",
   "metadata": {},
   "source": [
    "nombre_infected       808\n",
    "nombre_sain          2108\n",
    "nombre_exposed        448\n",
    "nombre_recovered    16636\n",
    "Name: 569, dtype: int64"
   ]
  },
  {
   "cell_type": "markdown",
   "id": "a74125bc",
   "metadata": {},
   "source": [
    "nombre_infected       787\n",
    "nombre_sain          2119\n",
    "nombre_exposed        448\n",
    "nombre_recovered    16646\n",
    "Name: 570, dtype: int64"
   ]
  },
  {
   "cell_type": "markdown",
   "id": "f1eded0c",
   "metadata": {},
   "source": [
    "nombre_infected       780\n",
    "nombre_sain          2139\n",
    "nombre_exposed        448\n",
    "nombre_recovered    16633\n",
    "Name: 571, dtype: int64"
   ]
  },
  {
   "cell_type": "markdown",
   "id": "a7e5f71d",
   "metadata": {},
   "source": [
    "nombre_infected       751\n",
    "nombre_sain          2127\n",
    "nombre_exposed        473\n",
    "nombre_recovered    16649\n",
    "Name: 572, dtype: int64"
   ]
  },
  {
   "cell_type": "markdown",
   "id": "13ba8f07",
   "metadata": {},
   "source": [
    "nombre_infected       757\n",
    "nombre_sain          2134\n",
    "nombre_exposed        462\n",
    "nombre_recovered    16647\n",
    "Name: 573, dtype: int64"
   ]
  },
  {
   "cell_type": "markdown",
   "id": "d11e1119",
   "metadata": {},
   "source": [
    "nombre_infected       730\n",
    "nombre_sain          2142\n",
    "nombre_exposed        476\n",
    "nombre_recovered    16652\n",
    "Name: 574, dtype: int64"
   ]
  },
  {
   "cell_type": "markdown",
   "id": "b7706743",
   "metadata": {},
   "source": [
    "nombre_infected       730\n",
    "nombre_sain          2165\n",
    "nombre_exposed        465\n",
    "nombre_recovered    16640\n",
    "Name: 575, dtype: int64"
   ]
  },
  {
   "cell_type": "markdown",
   "id": "d060aa60",
   "metadata": {},
   "source": [
    "nombre_infected       712\n",
    "nombre_sain          2179\n",
    "nombre_exposed        473\n",
    "nombre_recovered    16636\n",
    "Name: 576, dtype: int64"
   ]
  },
  {
   "cell_type": "markdown",
   "id": "2e74d9aa",
   "metadata": {},
   "source": [
    "nombre_infected       731\n",
    "nombre_sain          2227\n",
    "nombre_exposed        443\n",
    "nombre_recovered    16599\n",
    "Name: 577, dtype: int64"
   ]
  },
  {
   "cell_type": "markdown",
   "id": "ce7a555d",
   "metadata": {},
   "source": [
    "nombre_infected       719\n",
    "nombre_sain          2267\n",
    "nombre_exposed        435\n",
    "nombre_recovered    16579\n",
    "Name: 578, dtype: int64"
   ]
  },
  {
   "cell_type": "markdown",
   "id": "fba8cda4",
   "metadata": {},
   "source": [
    "nombre_infected       713\n",
    "nombre_sain          2279\n",
    "nombre_exposed        454\n",
    "nombre_recovered    16554\n",
    "Name: 579, dtype: int64"
   ]
  },
  {
   "cell_type": "markdown",
   "id": "bebd4d37",
   "metadata": {},
   "source": [
    "nombre_infected       722\n",
    "nombre_sain          2298\n",
    "nombre_exposed        453\n",
    "nombre_recovered    16527\n",
    "Name: 580, dtype: int64"
   ]
  },
  {
   "cell_type": "markdown",
   "id": "8c74fe82",
   "metadata": {},
   "source": [
    "nombre_infected       701\n",
    "nombre_sain          2324\n",
    "nombre_exposed        460\n",
    "nombre_recovered    16515\n",
    "Name: 581, dtype: int64"
   ]
  },
  {
   "cell_type": "markdown",
   "id": "e4d9fa73",
   "metadata": {},
   "source": [
    "nombre_infected       709\n",
    "nombre_sain          2348\n",
    "nombre_exposed        458\n",
    "nombre_recovered    16485\n",
    "Name: 582, dtype: int64"
   ]
  },
  {
   "cell_type": "markdown",
   "id": "1edaaeb3",
   "metadata": {},
   "source": [
    "nombre_infected       705\n",
    "nombre_sain          2367\n",
    "nombre_exposed        444\n",
    "nombre_recovered    16484\n",
    "Name: 583, dtype: int64"
   ]
  },
  {
   "cell_type": "markdown",
   "id": "38309b6f",
   "metadata": {},
   "source": [
    "nombre_infected       702\n",
    "nombre_sain          2393\n",
    "nombre_exposed        436\n",
    "nombre_recovered    16469\n",
    "Name: 584, dtype: int64"
   ]
  },
  {
   "cell_type": "markdown",
   "id": "febace74",
   "metadata": {},
   "source": [
    "nombre_infected       702\n",
    "nombre_sain          2411\n",
    "nombre_exposed        431\n",
    "nombre_recovered    16456\n",
    "Name: 585, dtype: int64"
   ]
  },
  {
   "cell_type": "markdown",
   "id": "59018674",
   "metadata": {},
   "source": [
    "nombre_infected       681\n",
    "nombre_sain          2437\n",
    "nombre_exposed        444\n",
    "nombre_recovered    16438\n",
    "Name: 586, dtype: int64"
   ]
  },
  {
   "cell_type": "markdown",
   "id": "295373ff",
   "metadata": {},
   "source": [
    "nombre_infected       673\n",
    "nombre_sain          2473\n",
    "nombre_exposed        430\n",
    "nombre_recovered    16424\n",
    "Name: 587, dtype: int64"
   ]
  },
  {
   "cell_type": "markdown",
   "id": "fcb416db",
   "metadata": {},
   "source": [
    "nombre_infected       692\n",
    "nombre_sain          2480\n",
    "nombre_exposed        419\n",
    "nombre_recovered    16409\n",
    "Name: 588, dtype: int64"
   ]
  },
  {
   "cell_type": "markdown",
   "id": "82e76446",
   "metadata": {},
   "source": [
    "nombre_infected       673\n",
    "nombre_sain          2499\n",
    "nombre_exposed        431\n",
    "nombre_recovered    16397\n",
    "Name: 589, dtype: int64"
   ]
  },
  {
   "cell_type": "markdown",
   "id": "b6e6f03b",
   "metadata": {},
   "source": [
    "nombre_infected       671\n",
    "nombre_sain          2526\n",
    "nombre_exposed        427\n",
    "nombre_recovered    16376\n",
    "Name: 590, dtype: int64"
   ]
  },
  {
   "cell_type": "markdown",
   "id": "ab8c68ad",
   "metadata": {},
   "source": [
    "nombre_infected       677\n",
    "nombre_sain          2548\n",
    "nombre_exposed        418\n",
    "nombre_recovered    16357\n",
    "Name: 591, dtype: int64"
   ]
  },
  {
   "cell_type": "markdown",
   "id": "c56658eb",
   "metadata": {},
   "source": [
    "nombre_infected       670\n",
    "nombre_sain          2529\n",
    "nombre_exposed        456\n",
    "nombre_recovered    16345\n",
    "Name: 592, dtype: int64"
   ]
  },
  {
   "cell_type": "markdown",
   "id": "64566d82",
   "metadata": {},
   "source": [
    "nombre_infected       651\n",
    "nombre_sain          2544\n",
    "nombre_exposed        469\n",
    "nombre_recovered    16336\n",
    "Name: 593, dtype: int64"
   ]
  },
  {
   "cell_type": "markdown",
   "id": "083536c2",
   "metadata": {},
   "source": [
    "nombre_infected       675\n",
    "nombre_sain          2551\n",
    "nombre_exposed        469\n",
    "nombre_recovered    16305\n",
    "Name: 594, dtype: int64"
   ]
  },
  {
   "cell_type": "markdown",
   "id": "53daf88f",
   "metadata": {},
   "source": [
    "nombre_infected       700\n",
    "nombre_sain          2566\n",
    "nombre_exposed        457\n",
    "nombre_recovered    16277\n",
    "Name: 595, dtype: int64"
   ]
  },
  {
   "cell_type": "markdown",
   "id": "9ee1bbe4",
   "metadata": {},
   "source": [
    "nombre_infected       708\n",
    "nombre_sain          2581\n",
    "nombre_exposed        465\n",
    "nombre_recovered    16246\n",
    "Name: 596, dtype: int64"
   ]
  },
  {
   "cell_type": "markdown",
   "id": "5f303a32",
   "metadata": {},
   "source": [
    "nombre_infected       694\n",
    "nombre_sain          2612\n",
    "nombre_exposed        461\n",
    "nombre_recovered    16233\n",
    "Name: 597, dtype: int64"
   ]
  },
  {
   "cell_type": "markdown",
   "id": "22049675",
   "metadata": {},
   "source": [
    "nombre_infected       655\n",
    "nombre_sain          2613\n",
    "nombre_exposed        493\n",
    "nombre_recovered    16239\n",
    "Name: 598, dtype: int64"
   ]
  },
  {
   "cell_type": "markdown",
   "id": "8d77bc3f",
   "metadata": {},
   "source": [
    "nombre_infected       673\n",
    "nombre_sain          2626\n",
    "nombre_exposed        476\n",
    "nombre_recovered    16225\n",
    "Name: 599, dtype: int64"
   ]
  },
  {
   "cell_type": "markdown",
   "id": "e416bebe",
   "metadata": {},
   "source": [
    "nombre_infected       669\n",
    "nombre_sain          2639\n",
    "nombre_exposed        471\n",
    "nombre_recovered    16221\n",
    "Name: 600, dtype: int64"
   ]
  },
  {
   "cell_type": "markdown",
   "id": "98cfaf77",
   "metadata": {},
   "source": [
    "nombre_infected       689\n",
    "nombre_sain          2633\n",
    "nombre_exposed        477\n",
    "nombre_recovered    16201\n",
    "Name: 601, dtype: int64"
   ]
  },
  {
   "cell_type": "markdown",
   "id": "adf33c1e",
   "metadata": {},
   "source": [
    "nombre_infected       688\n",
    "nombre_sain          2662\n",
    "nombre_exposed        476\n",
    "nombre_recovered    16174\n",
    "Name: 602, dtype: int64"
   ]
  },
  {
   "cell_type": "markdown",
   "id": "54eb41a3",
   "metadata": {},
   "source": [
    "nombre_infected       706\n",
    "nombre_sain          2692\n",
    "nombre_exposed        459\n",
    "nombre_recovered    16143\n",
    "Name: 603, dtype: int64"
   ]
  },
  {
   "cell_type": "markdown",
   "id": "89b699de",
   "metadata": {},
   "source": [
    "nombre_infected       702\n",
    "nombre_sain          2679\n",
    "nombre_exposed        464\n",
    "nombre_recovered    16155\n",
    "Name: 604, dtype: int64"
   ]
  },
  {
   "cell_type": "markdown",
   "id": "d56da411",
   "metadata": {},
   "source": [
    "nombre_infected       701\n",
    "nombre_sain          2680\n",
    "nombre_exposed        461\n",
    "nombre_recovered    16158\n",
    "Name: 605, dtype: int64"
   ]
  },
  {
   "cell_type": "markdown",
   "id": "5f82c0f6",
   "metadata": {},
   "source": [
    "nombre_infected       728\n",
    "nombre_sain          2693\n",
    "nombre_exposed        455\n",
    "nombre_recovered    16124\n",
    "Name: 606, dtype: int64"
   ]
  },
  {
   "cell_type": "markdown",
   "id": "1001ae65",
   "metadata": {},
   "source": [
    "nombre_infected       727\n",
    "nombre_sain          2706\n",
    "nombre_exposed        469\n",
    "nombre_recovered    16098\n",
    "Name: 607, dtype: int64"
   ]
  },
  {
   "cell_type": "markdown",
   "id": "355f0a82",
   "metadata": {},
   "source": [
    "nombre_infected       691\n",
    "nombre_sain          2716\n",
    "nombre_exposed        496\n",
    "nombre_recovered    16097\n",
    "Name: 608, dtype: int64"
   ]
  },
  {
   "cell_type": "markdown",
   "id": "d27ce52e",
   "metadata": {},
   "source": [
    "nombre_infected       716\n",
    "nombre_sain          2708\n",
    "nombre_exposed        506\n",
    "nombre_recovered    16070\n",
    "Name: 609, dtype: int64"
   ]
  },
  {
   "cell_type": "markdown",
   "id": "2f05e9c9",
   "metadata": {},
   "source": [
    "nombre_infected       729\n",
    "nombre_sain          2709\n",
    "nombre_exposed        490\n",
    "nombre_recovered    16072\n",
    "Name: 610, dtype: int64"
   ]
  },
  {
   "cell_type": "markdown",
   "id": "897b7112",
   "metadata": {},
   "source": [
    "nombre_infected       742\n",
    "nombre_sain          2733\n",
    "nombre_exposed        493\n",
    "nombre_recovered    16032\n",
    "Name: 611, dtype: int64"
   ]
  },
  {
   "cell_type": "markdown",
   "id": "a09ba141",
   "metadata": {},
   "source": [
    "nombre_infected       734\n",
    "nombre_sain          2716\n",
    "nombre_exposed        519\n",
    "nombre_recovered    16031\n",
    "Name: 612, dtype: int64"
   ]
  },
  {
   "cell_type": "markdown",
   "id": "fc239ba1",
   "metadata": {},
   "source": [
    "nombre_infected       754\n",
    "nombre_sain          2700\n",
    "nombre_exposed        523\n",
    "nombre_recovered    16023\n",
    "Name: 613, dtype: int64"
   ]
  },
  {
   "cell_type": "markdown",
   "id": "01b90c7b",
   "metadata": {},
   "source": [
    "nombre_infected       778\n",
    "nombre_sain          2709\n",
    "nombre_exposed        517\n",
    "nombre_recovered    15996\n",
    "Name: 614, dtype: int64"
   ]
  },
  {
   "cell_type": "markdown",
   "id": "5e527069",
   "metadata": {},
   "source": [
    "nombre_infected       784\n",
    "nombre_sain          2701\n",
    "nombre_exposed        519\n",
    "nombre_recovered    15996\n",
    "Name: 615, dtype: int64"
   ]
  },
  {
   "cell_type": "markdown",
   "id": "12a234b9",
   "metadata": {},
   "source": [
    "nombre_infected       761\n",
    "nombre_sain          2689\n",
    "nombre_exposed        540\n",
    "nombre_recovered    16010\n",
    "Name: 616, dtype: int64"
   ]
  },
  {
   "cell_type": "markdown",
   "id": "d8299f4d",
   "metadata": {},
   "source": [
    "nombre_infected       756\n",
    "nombre_sain          2679\n",
    "nombre_exposed        551\n",
    "nombre_recovered    16014\n",
    "Name: 617, dtype: int64"
   ]
  },
  {
   "cell_type": "markdown",
   "id": "cf96cca4",
   "metadata": {},
   "source": [
    "nombre_infected       783\n",
    "nombre_sain          2683\n",
    "nombre_exposed        538\n",
    "nombre_recovered    15996\n",
    "Name: 618, dtype: int64"
   ]
  },
  {
   "cell_type": "markdown",
   "id": "5af3c66a",
   "metadata": {},
   "source": [
    "nombre_infected       797\n",
    "nombre_sain          2691\n",
    "nombre_exposed        541\n",
    "nombre_recovered    15971\n",
    "Name: 619, dtype: int64"
   ]
  },
  {
   "cell_type": "markdown",
   "id": "55dd50ad",
   "metadata": {},
   "source": [
    "nombre_infected       789\n",
    "nombre_sain          2663\n",
    "nombre_exposed        531\n",
    "nombre_recovered    16017\n",
    "Name: 620, dtype: int64"
   ]
  },
  {
   "cell_type": "markdown",
   "id": "c957b3a8",
   "metadata": {},
   "source": [
    "nombre_infected       788\n",
    "nombre_sain          2646\n",
    "nombre_exposed        537\n",
    "nombre_recovered    16029\n",
    "Name: 621, dtype: int64"
   ]
  },
  {
   "cell_type": "markdown",
   "id": "f344bc63",
   "metadata": {},
   "source": [
    "nombre_infected       802\n",
    "nombre_sain          2661\n",
    "nombre_exposed        521\n",
    "nombre_recovered    16016\n",
    "Name: 622, dtype: int64"
   ]
  },
  {
   "cell_type": "markdown",
   "id": "847c7dae",
   "metadata": {},
   "source": [
    "nombre_infected       805\n",
    "nombre_sain          2656\n",
    "nombre_exposed        537\n",
    "nombre_recovered    16002\n",
    "Name: 623, dtype: int64"
   ]
  },
  {
   "cell_type": "markdown",
   "id": "26e3230d",
   "metadata": {},
   "source": [
    "nombre_infected       798\n",
    "nombre_sain          2644\n",
    "nombre_exposed        549\n",
    "nombre_recovered    16009\n",
    "Name: 624, dtype: int64"
   ]
  },
  {
   "cell_type": "markdown",
   "id": "cfc3e84f",
   "metadata": {},
   "source": [
    "nombre_infected       814\n",
    "nombre_sain          2644\n",
    "nombre_exposed        559\n",
    "nombre_recovered    15983\n",
    "Name: 625, dtype: int64"
   ]
  },
  {
   "cell_type": "markdown",
   "id": "501c06ec",
   "metadata": {},
   "source": [
    "nombre_infected       822\n",
    "nombre_sain          2643\n",
    "nombre_exposed        556\n",
    "nombre_recovered    15979\n",
    "Name: 626, dtype: int64"
   ]
  },
  {
   "cell_type": "markdown",
   "id": "6842dd38",
   "metadata": {},
   "source": [
    "nombre_infected       816\n",
    "nombre_sain          2604\n",
    "nombre_exposed        583\n",
    "nombre_recovered    15997\n",
    "Name: 627, dtype: int64"
   ]
  },
  {
   "cell_type": "markdown",
   "id": "e8c2a2be",
   "metadata": {},
   "source": [
    "nombre_infected       827\n",
    "nombre_sain          2579\n",
    "nombre_exposed        599\n",
    "nombre_recovered    15995\n",
    "Name: 628, dtype: int64"
   ]
  },
  {
   "cell_type": "markdown",
   "id": "d9660da5",
   "metadata": {},
   "source": [
    "nombre_infected       853\n",
    "nombre_sain          2576\n",
    "nombre_exposed        600\n",
    "nombre_recovered    15971\n",
    "Name: 629, dtype: int64"
   ]
  },
  {
   "cell_type": "markdown",
   "id": "bf0b0f08",
   "metadata": {},
   "source": [
    "nombre_infected       865\n",
    "nombre_sain          2577\n",
    "nombre_exposed        588\n",
    "nombre_recovered    15970\n",
    "Name: 630, dtype: int64"
   ]
  },
  {
   "cell_type": "markdown",
   "id": "f5c1fba1",
   "metadata": {},
   "source": [
    "nombre_infected       875\n",
    "nombre_sain          2573\n",
    "nombre_exposed        590\n",
    "nombre_recovered    15962\n",
    "Name: 631, dtype: int64"
   ]
  },
  {
   "cell_type": "markdown",
   "id": "c5ab129f",
   "metadata": {},
   "source": [
    "nombre_infected       891\n",
    "nombre_sain          2550\n",
    "nombre_exposed        596\n",
    "nombre_recovered    15963\n",
    "Name: 632, dtype: int64"
   ]
  },
  {
   "cell_type": "markdown",
   "id": "389710d9",
   "metadata": {},
   "source": [
    "nombre_infected       899\n",
    "nombre_sain          2522\n",
    "nombre_exposed        602\n",
    "nombre_recovered    15977\n",
    "Name: 633, dtype: int64"
   ]
  },
  {
   "cell_type": "markdown",
   "id": "d4abc22e",
   "metadata": {},
   "source": [
    "nombre_infected       925\n",
    "nombre_sain          2499\n",
    "nombre_exposed        586\n",
    "nombre_recovered    15990\n",
    "Name: 634, dtype: int64"
   ]
  },
  {
   "cell_type": "markdown",
   "id": "797eb1f3",
   "metadata": {},
   "source": [
    "nombre_infected       961\n",
    "nombre_sain          2483\n",
    "nombre_exposed        580\n",
    "nombre_recovered    15976\n",
    "Name: 635, dtype: int64"
   ]
  },
  {
   "cell_type": "markdown",
   "id": "d1efbe3f",
   "metadata": {},
   "source": [
    "nombre_infected       973\n",
    "nombre_sain          2450\n",
    "nombre_exposed        599\n",
    "nombre_recovered    15978\n",
    "Name: 636, dtype: int64"
   ]
  },
  {
   "cell_type": "markdown",
   "id": "7f19d7ee",
   "metadata": {},
   "source": [
    "nombre_infected       966\n",
    "nombre_sain          2418\n",
    "nombre_exposed        596\n",
    "nombre_recovered    16020\n",
    "Name: 637, dtype: int64"
   ]
  },
  {
   "cell_type": "markdown",
   "id": "c6e3edab",
   "metadata": {},
   "source": [
    "nombre_infected       955\n",
    "nombre_sain          2374\n",
    "nombre_exposed        614\n",
    "nombre_recovered    16057\n",
    "Name: 638, dtype: int64"
   ]
  },
  {
   "cell_type": "markdown",
   "id": "ef7f1261",
   "metadata": {},
   "source": [
    "nombre_infected       943\n",
    "nombre_sain          2369\n",
    "nombre_exposed        592\n",
    "nombre_recovered    16096\n",
    "Name: 639, dtype: int64"
   ]
  },
  {
   "cell_type": "markdown",
   "id": "476dd4c9",
   "metadata": {},
   "source": [
    "nombre_infected       942\n",
    "nombre_sain          2343\n",
    "nombre_exposed        596\n",
    "nombre_recovered    16119\n",
    "Name: 640, dtype: int64"
   ]
  },
  {
   "cell_type": "markdown",
   "id": "75eece56",
   "metadata": {},
   "source": [
    "nombre_infected       958\n",
    "nombre_sain          2334\n",
    "nombre_exposed        577\n",
    "nombre_recovered    16131\n",
    "Name: 641, dtype: int64"
   ]
  },
  {
   "cell_type": "markdown",
   "id": "d8172efb",
   "metadata": {},
   "source": [
    "nombre_infected       953\n",
    "nombre_sain          2337\n",
    "nombre_exposed        567\n",
    "nombre_recovered    16143\n",
    "Name: 642, dtype: int64"
   ]
  },
  {
   "cell_type": "markdown",
   "id": "34c9d629",
   "metadata": {},
   "source": [
    "nombre_infected       957\n",
    "nombre_sain          2323\n",
    "nombre_exposed        568\n",
    "nombre_recovered    16152\n",
    "Name: 643, dtype: int64"
   ]
  },
  {
   "cell_type": "markdown",
   "id": "43cceff9",
   "metadata": {},
   "source": [
    "nombre_infected       946\n",
    "nombre_sain          2294\n",
    "nombre_exposed        568\n",
    "nombre_recovered    16192\n",
    "Name: 644, dtype: int64"
   ]
  },
  {
   "cell_type": "markdown",
   "id": "31683251",
   "metadata": {},
   "source": [
    "nombre_infected       929\n",
    "nombre_sain          2270\n",
    "nombre_exposed        561\n",
    "nombre_recovered    16240\n",
    "Name: 645, dtype: int64"
   ]
  },
  {
   "cell_type": "markdown",
   "id": "10267c31",
   "metadata": {},
   "source": [
    "nombre_infected       918\n",
    "nombre_sain          2253\n",
    "nombre_exposed        567\n",
    "nombre_recovered    16262\n",
    "Name: 646, dtype: int64"
   ]
  },
  {
   "cell_type": "markdown",
   "id": "2675e371",
   "metadata": {},
   "source": [
    "nombre_infected       934\n",
    "nombre_sain          2246\n",
    "nombre_exposed        549\n",
    "nombre_recovered    16271\n",
    "Name: 647, dtype: int64"
   ]
  },
  {
   "cell_type": "markdown",
   "id": "737d5802",
   "metadata": {},
   "source": [
    "nombre_infected       938\n",
    "nombre_sain          2210\n",
    "nombre_exposed        560\n",
    "nombre_recovered    16292\n",
    "Name: 648, dtype: int64"
   ]
  },
  {
   "cell_type": "markdown",
   "id": "7b371460",
   "metadata": {},
   "source": [
    "nombre_infected       944\n",
    "nombre_sain          2206\n",
    "nombre_exposed        546\n",
    "nombre_recovered    16304\n",
    "Name: 649, dtype: int64"
   ]
  },
  {
   "cell_type": "markdown",
   "id": "cbc0e470",
   "metadata": {},
   "source": [
    "nombre_infected       920\n",
    "nombre_sain          2189\n",
    "nombre_exposed        554\n",
    "nombre_recovered    16337\n",
    "Name: 650, dtype: int64"
   ]
  },
  {
   "cell_type": "markdown",
   "id": "e22f1a7e",
   "metadata": {},
   "source": [
    "nombre_infected       934\n",
    "nombre_sain          2191\n",
    "nombre_exposed        549\n",
    "nombre_recovered    16326\n",
    "Name: 651, dtype: int64"
   ]
  },
  {
   "cell_type": "markdown",
   "id": "89b51d47",
   "metadata": {},
   "source": [
    "nombre_infected       914\n",
    "nombre_sain          2187\n",
    "nombre_exposed        538\n",
    "nombre_recovered    16361\n",
    "Name: 652, dtype: int64"
   ]
  },
  {
   "cell_type": "markdown",
   "id": "785ed313",
   "metadata": {},
   "source": [
    "nombre_infected       900\n",
    "nombre_sain          2172\n",
    "nombre_exposed        541\n",
    "nombre_recovered    16387\n",
    "Name: 653, dtype: int64"
   ]
  },
  {
   "cell_type": "markdown",
   "id": "422ef822",
   "metadata": {},
   "source": [
    "nombre_infected       854\n",
    "nombre_sain          2173\n",
    "nombre_exposed        556\n",
    "nombre_recovered    16417\n",
    "Name: 654, dtype: int64"
   ]
  },
  {
   "cell_type": "markdown",
   "id": "c429b45b",
   "metadata": {},
   "source": [
    "nombre_infected       863\n",
    "nombre_sain          2166\n",
    "nombre_exposed        530\n",
    "nombre_recovered    16441\n",
    "Name: 655, dtype: int64"
   ]
  },
  {
   "cell_type": "markdown",
   "id": "94bc1cfd",
   "metadata": {},
   "source": [
    "nombre_infected       852\n",
    "nombre_sain          2184\n",
    "nombre_exposed        524\n",
    "nombre_recovered    16440\n",
    "Name: 656, dtype: int64"
   ]
  },
  {
   "cell_type": "markdown",
   "id": "0e9cb8f7",
   "metadata": {},
   "source": [
    "nombre_infected       861\n",
    "nombre_sain          2173\n",
    "nombre_exposed        511\n",
    "nombre_recovered    16455\n",
    "Name: 657, dtype: int64"
   ]
  },
  {
   "cell_type": "markdown",
   "id": "9d3c5295",
   "metadata": {},
   "source": [
    "nombre_infected       851\n",
    "nombre_sain          2181\n",
    "nombre_exposed        508\n",
    "nombre_recovered    16460\n",
    "Name: 658, dtype: int64"
   ]
  },
  {
   "cell_type": "markdown",
   "id": "8b56360a",
   "metadata": {},
   "source": [
    "nombre_infected       838\n",
    "nombre_sain          2214\n",
    "nombre_exposed        501\n",
    "nombre_recovered    16447\n",
    "Name: 659, dtype: int64"
   ]
  },
  {
   "cell_type": "markdown",
   "id": "15110d43",
   "metadata": {},
   "source": [
    "nombre_infected       836\n",
    "nombre_sain          2229\n",
    "nombre_exposed        514\n",
    "nombre_recovered    16421\n",
    "Name: 660, dtype: int64"
   ]
  },
  {
   "cell_type": "markdown",
   "id": "fbfbd2c9",
   "metadata": {},
   "source": [
    "nombre_infected       804\n",
    "nombre_sain          2227\n",
    "nombre_exposed        520\n",
    "nombre_recovered    16449\n",
    "Name: 661, dtype: int64"
   ]
  },
  {
   "cell_type": "markdown",
   "id": "cae1dbf1",
   "metadata": {},
   "source": [
    "nombre_infected       805\n",
    "nombre_sain          2242\n",
    "nombre_exposed        523\n",
    "nombre_recovered    16430\n",
    "Name: 662, dtype: int64"
   ]
  },
  {
   "cell_type": "markdown",
   "id": "934f656e",
   "metadata": {},
   "source": [
    "nombre_infected       817\n",
    "nombre_sain          2249\n",
    "nombre_exposed        511\n",
    "nombre_recovered    16423\n",
    "Name: 663, dtype: int64"
   ]
  },
  {
   "cell_type": "markdown",
   "id": "1ba04e4b",
   "metadata": {},
   "source": [
    "nombre_infected       818\n",
    "nombre_sain          2257\n",
    "nombre_exposed        501\n",
    "nombre_recovered    16424\n",
    "Name: 664, dtype: int64"
   ]
  },
  {
   "cell_type": "markdown",
   "id": "c71b8654",
   "metadata": {},
   "source": [
    "nombre_infected       819\n",
    "nombre_sain          2271\n",
    "nombre_exposed        501\n",
    "nombre_recovered    16409\n",
    "Name: 665, dtype: int64"
   ]
  },
  {
   "cell_type": "markdown",
   "id": "46ca91e5",
   "metadata": {},
   "source": [
    "nombre_infected       817\n",
    "nombre_sain          2261\n",
    "nombre_exposed        501\n",
    "nombre_recovered    16421\n",
    "Name: 666, dtype: int64"
   ]
  },
  {
   "cell_type": "markdown",
   "id": "e4728b1e",
   "metadata": {},
   "source": [
    "nombre_infected       803\n",
    "nombre_sain          2261\n",
    "nombre_exposed        482\n",
    "nombre_recovered    16454\n",
    "Name: 667, dtype: int64"
   ]
  },
  {
   "cell_type": "markdown",
   "id": "490f7aa8",
   "metadata": {},
   "source": [
    "nombre_infected       787\n",
    "nombre_sain          2256\n",
    "nombre_exposed        487\n",
    "nombre_recovered    16470\n",
    "Name: 668, dtype: int64"
   ]
  },
  {
   "cell_type": "markdown",
   "id": "03c4610f",
   "metadata": {},
   "source": [
    "nombre_infected       758\n",
    "nombre_sain          2277\n",
    "nombre_exposed        491\n",
    "nombre_recovered    16474\n",
    "Name: 669, dtype: int64"
   ]
  },
  {
   "cell_type": "markdown",
   "id": "d7538088",
   "metadata": {},
   "source": [
    "nombre_infected       779\n",
    "nombre_sain          2296\n",
    "nombre_exposed        472\n",
    "nombre_recovered    16453\n",
    "Name: 670, dtype: int64"
   ]
  },
  {
   "cell_type": "markdown",
   "id": "7d14434b",
   "metadata": {},
   "source": [
    "nombre_infected       776\n",
    "nombre_sain          2309\n",
    "nombre_exposed        469\n",
    "nombre_recovered    16446\n",
    "Name: 671, dtype: int64"
   ]
  },
  {
   "cell_type": "markdown",
   "id": "e9940389",
   "metadata": {},
   "source": [
    "nombre_infected       782\n",
    "nombre_sain          2349\n",
    "nombre_exposed        457\n",
    "nombre_recovered    16412\n",
    "Name: 672, dtype: int64"
   ]
  },
  {
   "cell_type": "markdown",
   "id": "9adca3ba",
   "metadata": {},
   "source": [
    "nombre_infected       782\n",
    "nombre_sain          2349\n",
    "nombre_exposed        441\n",
    "nombre_recovered    16428\n",
    "Name: 673, dtype: int64"
   ]
  },
  {
   "cell_type": "markdown",
   "id": "61d5136a",
   "metadata": {},
   "source": [
    "nombre_infected       749\n",
    "nombre_sain          2353\n",
    "nombre_exposed        444\n",
    "nombre_recovered    16454\n",
    "Name: 674, dtype: int64"
   ]
  },
  {
   "cell_type": "markdown",
   "id": "15fa0e3e",
   "metadata": {},
   "source": [
    "nombre_infected       760\n",
    "nombre_sain          2369\n",
    "nombre_exposed        429\n",
    "nombre_recovered    16442\n",
    "Name: 675, dtype: int64"
   ]
  },
  {
   "cell_type": "markdown",
   "id": "3466aca9",
   "metadata": {},
   "source": [
    "nombre_infected       739\n",
    "nombre_sain          2389\n",
    "nombre_exposed        443\n",
    "nombre_recovered    16429\n",
    "Name: 676, dtype: int64"
   ]
  },
  {
   "cell_type": "markdown",
   "id": "0768c199",
   "metadata": {},
   "source": [
    "nombre_infected       753\n",
    "nombre_sain          2384\n",
    "nombre_exposed        441\n",
    "nombre_recovered    16422\n",
    "Name: 677, dtype: int64"
   ]
  },
  {
   "cell_type": "markdown",
   "id": "c60938d3",
   "metadata": {},
   "source": [
    "nombre_infected       751\n",
    "nombre_sain          2380\n",
    "nombre_exposed        441\n",
    "nombre_recovered    16428\n",
    "Name: 678, dtype: int64"
   ]
  },
  {
   "cell_type": "markdown",
   "id": "18b9ea73",
   "metadata": {},
   "source": [
    "nombre_infected       748\n",
    "nombre_sain          2404\n",
    "nombre_exposed        434\n",
    "nombre_recovered    16414\n",
    "Name: 679, dtype: int64"
   ]
  },
  {
   "cell_type": "markdown",
   "id": "943281e2",
   "metadata": {},
   "source": [
    "nombre_infected       732\n",
    "nombre_sain          2415\n",
    "nombre_exposed        459\n",
    "nombre_recovered    16394\n",
    "Name: 680, dtype: int64"
   ]
  },
  {
   "cell_type": "markdown",
   "id": "a5a97c37",
   "metadata": {},
   "source": [
    "nombre_infected       710\n",
    "nombre_sain          2433\n",
    "nombre_exposed        483\n",
    "nombre_recovered    16374\n",
    "Name: 681, dtype: int64"
   ]
  },
  {
   "cell_type": "markdown",
   "id": "5e548282",
   "metadata": {},
   "source": [
    "nombre_infected       703\n",
    "nombre_sain          2468\n",
    "nombre_exposed        477\n",
    "nombre_recovered    16352\n",
    "Name: 682, dtype: int64"
   ]
  },
  {
   "cell_type": "markdown",
   "id": "2d6fda4e",
   "metadata": {},
   "source": [
    "nombre_infected       711\n",
    "nombre_sain          2507\n",
    "nombre_exposed        469\n",
    "nombre_recovered    16313\n",
    "Name: 683, dtype: int64"
   ]
  },
  {
   "cell_type": "markdown",
   "id": "f7697945",
   "metadata": {},
   "source": [
    "nombre_infected       725\n",
    "nombre_sain          2511\n",
    "nombre_exposed        466\n",
    "nombre_recovered    16298\n",
    "Name: 684, dtype: int64"
   ]
  },
  {
   "cell_type": "markdown",
   "id": "82721515",
   "metadata": {},
   "source": [
    "nombre_infected       735\n",
    "nombre_sain          2504\n",
    "nombre_exposed        482\n",
    "nombre_recovered    16279\n",
    "Name: 685, dtype: int64"
   ]
  },
  {
   "cell_type": "markdown",
   "id": "26efce90",
   "metadata": {},
   "source": [
    "nombre_infected       713\n",
    "nombre_sain          2489\n",
    "nombre_exposed        484\n",
    "nombre_recovered    16314\n",
    "Name: 686, dtype: int64"
   ]
  },
  {
   "cell_type": "markdown",
   "id": "c617b485",
   "metadata": {},
   "source": [
    "nombre_infected       710\n",
    "nombre_sain          2506\n",
    "nombre_exposed        478\n",
    "nombre_recovered    16306\n",
    "Name: 687, dtype: int64"
   ]
  },
  {
   "cell_type": "markdown",
   "id": "e2ca3fe1",
   "metadata": {},
   "source": [
    "nombre_infected       718\n",
    "nombre_sain          2523\n",
    "nombre_exposed        476\n",
    "nombre_recovered    16283\n",
    "Name: 688, dtype: int64"
   ]
  },
  {
   "cell_type": "markdown",
   "id": "2cdab49f",
   "metadata": {},
   "source": [
    "nombre_infected       760\n",
    "nombre_sain          2522\n",
    "nombre_exposed        459\n",
    "nombre_recovered    16259\n",
    "Name: 689, dtype: int64"
   ]
  },
  {
   "cell_type": "markdown",
   "id": "4b8e4d74",
   "metadata": {},
   "source": [
    "nombre_infected       775\n",
    "nombre_sain          2529\n",
    "nombre_exposed        463\n",
    "nombre_recovered    16233\n",
    "Name: 690, dtype: int64"
   ]
  },
  {
   "cell_type": "markdown",
   "id": "1d47d6f9",
   "metadata": {},
   "source": [
    "nombre_infected       789\n",
    "nombre_sain          2522\n",
    "nombre_exposed        467\n",
    "nombre_recovered    16222\n",
    "Name: 691, dtype: int64"
   ]
  },
  {
   "cell_type": "markdown",
   "id": "3d486043",
   "metadata": {},
   "source": [
    "nombre_infected       791\n",
    "nombre_sain          2489\n",
    "nombre_exposed        489\n",
    "nombre_recovered    16231\n",
    "Name: 692, dtype: int64"
   ]
  },
  {
   "cell_type": "markdown",
   "id": "43978fbf",
   "metadata": {},
   "source": [
    "nombre_infected       774\n",
    "nombre_sain          2460\n",
    "nombre_exposed        506\n",
    "nombre_recovered    16260\n",
    "Name: 693, dtype: int64"
   ]
  },
  {
   "cell_type": "markdown",
   "id": "55b987c6",
   "metadata": {},
   "source": [
    "nombre_infected       771\n",
    "nombre_sain          2447\n",
    "nombre_exposed        523\n",
    "nombre_recovered    16259\n",
    "Name: 694, dtype: int64"
   ]
  },
  {
   "cell_type": "markdown",
   "id": "62bf683d",
   "metadata": {},
   "source": [
    "nombre_infected       794\n",
    "nombre_sain          2425\n",
    "nombre_exposed        511\n",
    "nombre_recovered    16270\n",
    "Name: 695, dtype: int64"
   ]
  },
  {
   "cell_type": "markdown",
   "id": "47146deb",
   "metadata": {},
   "source": [
    "nombre_infected       819\n",
    "nombre_sain          2416\n",
    "nombre_exposed        507\n",
    "nombre_recovered    16258\n",
    "Name: 696, dtype: int64"
   ]
  },
  {
   "cell_type": "markdown",
   "id": "41e6f1b2",
   "metadata": {},
   "source": [
    "nombre_infected       794\n",
    "nombre_sain          2413\n",
    "nombre_exposed        529\n",
    "nombre_recovered    16264\n",
    "Name: 697, dtype: int64"
   ]
  },
  {
   "cell_type": "markdown",
   "id": "be37f8fd",
   "metadata": {},
   "source": [
    "nombre_infected       812\n",
    "nombre_sain          2441\n",
    "nombre_exposed        487\n",
    "nombre_recovered    16260\n",
    "Name: 698, dtype: int64"
   ]
  },
  {
   "cell_type": "markdown",
   "id": "c5e3a454",
   "metadata": {},
   "source": [
    "nombre_infected       799\n",
    "nombre_sain          2467\n",
    "nombre_exposed        489\n",
    "nombre_recovered    16245\n",
    "Name: 699, dtype: int64"
   ]
  },
  {
   "cell_type": "markdown",
   "id": "10e56e04",
   "metadata": {},
   "source": [
    "nombre_infected       780\n",
    "nombre_sain          2470\n",
    "nombre_exposed        491\n",
    "nombre_recovered    16259\n",
    "Name: 700, dtype: int64"
   ]
  },
  {
   "cell_type": "markdown",
   "id": "bf1aacd3",
   "metadata": {},
   "source": [
    "nombre_infected       775\n",
    "nombre_sain          2448\n",
    "nombre_exposed        506\n",
    "nombre_recovered    16271\n",
    "Name: 701, dtype: int64"
   ]
  },
  {
   "cell_type": "markdown",
   "id": "d824f6a3",
   "metadata": {},
   "source": [
    "nombre_infected       786\n",
    "nombre_sain          2449\n",
    "nombre_exposed        509\n",
    "nombre_recovered    16256\n",
    "Name: 702, dtype: int64"
   ]
  },
  {
   "cell_type": "markdown",
   "id": "453202a2",
   "metadata": {},
   "source": [
    "nombre_infected       776\n",
    "nombre_sain          2460\n",
    "nombre_exposed        501\n",
    "nombre_recovered    16263\n",
    "Name: 703, dtype: int64"
   ]
  },
  {
   "cell_type": "markdown",
   "id": "668a5a81",
   "metadata": {},
   "source": [
    "nombre_infected       805\n",
    "nombre_sain          2446\n",
    "nombre_exposed        517\n",
    "nombre_recovered    16232\n",
    "Name: 704, dtype: int64"
   ]
  },
  {
   "cell_type": "markdown",
   "id": "c1713b36",
   "metadata": {},
   "source": [
    "nombre_infected       821\n",
    "nombre_sain          2449\n",
    "nombre_exposed        510\n",
    "nombre_recovered    16220\n",
    "Name: 705, dtype: int64"
   ]
  },
  {
   "cell_type": "markdown",
   "id": "f7a37bb4",
   "metadata": {},
   "source": [
    "nombre_infected       845\n",
    "nombre_sain          2443\n",
    "nombre_exposed        502\n",
    "nombre_recovered    16210\n",
    "Name: 706, dtype: int64"
   ]
  },
  {
   "cell_type": "markdown",
   "id": "840b74c1",
   "metadata": {},
   "source": [
    "nombre_infected       844\n",
    "nombre_sain          2457\n",
    "nombre_exposed        520\n",
    "nombre_recovered    16179\n",
    "Name: 707, dtype: int64"
   ]
  },
  {
   "cell_type": "markdown",
   "id": "c58b84b2",
   "metadata": {},
   "source": [
    "nombre_infected       824\n",
    "nombre_sain          2459\n",
    "nombre_exposed        530\n",
    "nombre_recovered    16187\n",
    "Name: 708, dtype: int64"
   ]
  },
  {
   "cell_type": "markdown",
   "id": "c092e0fa",
   "metadata": {},
   "source": [
    "nombre_infected       838\n",
    "nombre_sain          2439\n",
    "nombre_exposed        529\n",
    "nombre_recovered    16194\n",
    "Name: 709, dtype: int64"
   ]
  },
  {
   "cell_type": "markdown",
   "id": "5c240417",
   "metadata": {},
   "source": [
    "nombre_infected       849\n",
    "nombre_sain          2418\n",
    "nombre_exposed        545\n",
    "nombre_recovered    16188\n",
    "Name: 710, dtype: int64"
   ]
  },
  {
   "cell_type": "markdown",
   "id": "3057f357",
   "metadata": {},
   "source": [
    "nombre_infected       856\n",
    "nombre_sain          2414\n",
    "nombre_exposed        550\n",
    "nombre_recovered    16180\n",
    "Name: 711, dtype: int64"
   ]
  },
  {
   "cell_type": "markdown",
   "id": "39bfef8b",
   "metadata": {},
   "source": [
    "nombre_infected       848\n",
    "nombre_sain          2401\n",
    "nombre_exposed        546\n",
    "nombre_recovered    16205\n",
    "Name: 712, dtype: int64"
   ]
  },
  {
   "cell_type": "markdown",
   "id": "75a5202c",
   "metadata": {},
   "source": [
    "nombre_infected       844\n",
    "nombre_sain          2384\n",
    "nombre_exposed        543\n",
    "nombre_recovered    16229\n",
    "Name: 713, dtype: int64"
   ]
  },
  {
   "cell_type": "markdown",
   "id": "559e0607",
   "metadata": {},
   "source": [
    "nombre_infected       867\n",
    "nombre_sain          2363\n",
    "nombre_exposed        558\n",
    "nombre_recovered    16212\n",
    "Name: 714, dtype: int64"
   ]
  },
  {
   "cell_type": "markdown",
   "id": "39dc32c9",
   "metadata": {},
   "source": [
    "nombre_infected       876\n",
    "nombre_sain          2350\n",
    "nombre_exposed        544\n",
    "nombre_recovered    16230\n",
    "Name: 715, dtype: int64"
   ]
  },
  {
   "cell_type": "markdown",
   "id": "316e396d",
   "metadata": {},
   "source": [
    "nombre_infected       877\n",
    "nombre_sain          2324\n",
    "nombre_exposed        541\n",
    "nombre_recovered    16258\n",
    "Name: 716, dtype: int64"
   ]
  },
  {
   "cell_type": "markdown",
   "id": "852fbcd4",
   "metadata": {},
   "source": [
    "nombre_infected       894\n",
    "nombre_sain          2325\n",
    "nombre_exposed        526\n",
    "nombre_recovered    16255\n",
    "Name: 717, dtype: int64"
   ]
  },
  {
   "cell_type": "markdown",
   "id": "05d3ec2e",
   "metadata": {},
   "source": [
    "nombre_infected       901\n",
    "nombre_sain          2328\n",
    "nombre_exposed        506\n",
    "nombre_recovered    16265\n",
    "Name: 718, dtype: int64"
   ]
  },
  {
   "cell_type": "markdown",
   "id": "ff118c9e",
   "metadata": {},
   "source": [
    "nombre_infected       880\n",
    "nombre_sain          2282\n",
    "nombre_exposed        530\n",
    "nombre_recovered    16308\n",
    "Name: 719, dtype: int64"
   ]
  },
  {
   "cell_type": "markdown",
   "id": "884e84a6",
   "metadata": {},
   "source": [
    "nombre_infected       868\n",
    "nombre_sain          2281\n",
    "nombre_exposed        537\n",
    "nombre_recovered    16314\n",
    "Name: 720, dtype: int64"
   ]
  },
  {
   "cell_type": "markdown",
   "id": "fe81480d",
   "metadata": {},
   "source": [
    "nombre_infected       881\n",
    "nombre_sain          2254\n",
    "nombre_exposed        535\n",
    "nombre_recovered    16330\n",
    "Name: 721, dtype: int64"
   ]
  },
  {
   "cell_type": "markdown",
   "id": "5a00370e",
   "metadata": {},
   "source": [
    "nombre_infected       870\n",
    "nombre_sain          2256\n",
    "nombre_exposed        522\n",
    "nombre_recovered    16352\n",
    "Name: 722, dtype: int64"
   ]
  },
  {
   "cell_type": "markdown",
   "id": "3b0ac088",
   "metadata": {},
   "source": [
    "nombre_infected       888\n",
    "nombre_sain          2282\n",
    "nombre_exposed        525\n",
    "nombre_recovered    16305\n",
    "Name: 723, dtype: int64"
   ]
  },
  {
   "cell_type": "markdown",
   "id": "a8c2ac35",
   "metadata": {},
   "source": [
    "nombre_infected       864\n",
    "nombre_sain          2274\n",
    "nombre_exposed        536\n",
    "nombre_recovered    16326\n",
    "Name: 724, dtype: int64"
   ]
  },
  {
   "cell_type": "markdown",
   "id": "d7c575f0",
   "metadata": {},
   "source": [
    "nombre_infected       895\n",
    "nombre_sain          2254\n",
    "nombre_exposed        520\n",
    "nombre_recovered    16331\n",
    "Name: 725, dtype: int64"
   ]
  },
  {
   "cell_type": "markdown",
   "id": "1eff5f79",
   "metadata": {},
   "source": [
    "nombre_infected       900\n",
    "nombre_sain          2245\n",
    "nombre_exposed        514\n",
    "nombre_recovered    16341\n",
    "Name: 726, dtype: int64"
   ]
  },
  {
   "cell_type": "markdown",
   "id": "a2fcb29e",
   "metadata": {},
   "source": [
    "nombre_infected       886\n",
    "nombre_sain          2239\n",
    "nombre_exposed        519\n",
    "nombre_recovered    16356\n",
    "Name: 727, dtype: int64"
   ]
  },
  {
   "cell_type": "markdown",
   "id": "30c19744",
   "metadata": {},
   "source": [
    "nombre_infected       886\n",
    "nombre_sain          2222\n",
    "nombre_exposed        539\n",
    "nombre_recovered    16353\n",
    "Name: 728, dtype: int64"
   ]
  },
  {
   "cell_type": "markdown",
   "id": "3292ed23",
   "metadata": {},
   "source": [
    "nombre_infected       892\n",
    "nombre_sain          2202\n",
    "nombre_exposed        553\n",
    "nombre_recovered    16353\n",
    "Name: 729, dtype: int64"
   ]
  },
  {
   "cell_type": "markdown",
   "id": "7059a2f4",
   "metadata": {},
   "source": [
    "nombre_infected       896\n",
    "nombre_sain          2207\n",
    "nombre_exposed        543\n",
    "nombre_recovered    16354\n",
    "Name: 730, dtype: int64"
   ]
  }
 ],
 "metadata": {},
 "nbformat": 4,
 "nbformat_minor": 5
}
