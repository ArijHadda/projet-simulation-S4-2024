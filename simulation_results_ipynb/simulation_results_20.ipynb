{
 "cells": [
  {
   "cell_type": "markdown",
   "id": "704da598",
   "metadata": {},
   "source": [
    "nombre_infected        20\n",
    "nombre_sain         19980\n",
    "nombre_exposed          0\n",
    "nombre_recovered        0\n",
    "Name: 0, dtype: int64"
   ]
  },
  {
   "cell_type": "markdown",
   "id": "5463ee9c",
   "metadata": {},
   "source": [
    "nombre_infected        20\n",
    "nombre_sain         19964\n",
    "nombre_exposed         16\n",
    "nombre_recovered        0\n",
    "Name: 1, dtype: int64"
   ]
  },
  {
   "cell_type": "markdown",
   "id": "0f7a6ee9",
   "metadata": {},
   "source": [
    "nombre_infected        20\n",
    "nombre_sain         19946\n",
    "nombre_exposed         34\n",
    "nombre_recovered        0\n",
    "Name: 2, dtype: int64"
   ]
  },
  {
   "cell_type": "markdown",
   "id": "d8609eaf",
   "metadata": {},
   "source": [
    "nombre_infected        27\n",
    "nombre_sain         19925\n",
    "nombre_exposed         48\n",
    "nombre_recovered        0\n",
    "Name: 3, dtype: int64"
   ]
  },
  {
   "cell_type": "markdown",
   "id": "fc45d148",
   "metadata": {},
   "source": [
    "nombre_infected        30\n",
    "nombre_sain         19899\n",
    "nombre_exposed         71\n",
    "nombre_recovered        0\n",
    "Name: 4, dtype: int64"
   ]
  },
  {
   "cell_type": "markdown",
   "id": "f7a8d669",
   "metadata": {},
   "source": [
    "nombre_infected        38\n",
    "nombre_sain         19866\n",
    "nombre_exposed         96\n",
    "nombre_recovered        0\n",
    "Name: 5, dtype: int64"
   ]
  },
  {
   "cell_type": "markdown",
   "id": "dc0e6fb8",
   "metadata": {},
   "source": [
    "nombre_infected        51\n",
    "nombre_sain         19804\n",
    "nombre_exposed        144\n",
    "nombre_recovered        1\n",
    "Name: 6, dtype: int64"
   ]
  },
  {
   "cell_type": "markdown",
   "id": "af30e290",
   "metadata": {},
   "source": [
    "nombre_infected        77\n",
    "nombre_sain         19723\n",
    "nombre_exposed        197\n",
    "nombre_recovered        3\n",
    "Name: 7, dtype: int64"
   ]
  },
  {
   "cell_type": "markdown",
   "id": "c356275e",
   "metadata": {},
   "source": [
    "nombre_infected       104\n",
    "nombre_sain         19615\n",
    "nombre_exposed        273\n",
    "nombre_recovered        8\n",
    "Name: 8, dtype: int64"
   ]
  },
  {
   "cell_type": "markdown",
   "id": "a35ab1c8",
   "metadata": {},
   "source": [
    "nombre_infected       142\n",
    "nombre_sain         19466\n",
    "nombre_exposed        375\n",
    "nombre_recovered       17\n",
    "Name: 9, dtype: int64"
   ]
  },
  {
   "cell_type": "markdown",
   "id": "30a73d73",
   "metadata": {},
   "source": [
    "nombre_infected       196\n",
    "nombre_sain         19268\n",
    "nombre_exposed        508\n",
    "nombre_recovered       28\n",
    "Name: 10, dtype: int64"
   ]
  },
  {
   "cell_type": "markdown",
   "id": "b9db9f79",
   "metadata": {},
   "source": [
    "nombre_infected       271\n",
    "nombre_sain         18996\n",
    "nombre_exposed        696\n",
    "nombre_recovered       37\n",
    "Name: 11, dtype: int64"
   ]
  },
  {
   "cell_type": "markdown",
   "id": "59d2b70c",
   "metadata": {},
   "source": [
    "nombre_infected       365\n",
    "nombre_sain         18665\n",
    "nombre_exposed        901\n",
    "nombre_recovered       69\n",
    "Name: 12, dtype: int64"
   ]
  },
  {
   "cell_type": "markdown",
   "id": "e83012c7",
   "metadata": {},
   "source": [
    "nombre_infected       488\n",
    "nombre_sain         18163\n",
    "nombre_exposed       1255\n",
    "nombre_recovered       94\n",
    "Name: 13, dtype: int64"
   ]
  },
  {
   "cell_type": "markdown",
   "id": "31ede708",
   "metadata": {},
   "source": [
    "nombre_infected       658\n",
    "nombre_sain         17569\n",
    "nombre_exposed       1637\n",
    "nombre_recovered      136\n",
    "Name: 14, dtype: int64"
   ]
  },
  {
   "cell_type": "markdown",
   "id": "0e222686",
   "metadata": {},
   "source": [
    "nombre_infected       908\n",
    "nombre_sain         16769\n",
    "nombre_exposed       2133\n",
    "nombre_recovered      190\n",
    "Name: 15, dtype: int64"
   ]
  },
  {
   "cell_type": "markdown",
   "id": "47561d72",
   "metadata": {},
   "source": [
    "nombre_infected      1190\n",
    "nombre_sain         15764\n",
    "nombre_exposed       2781\n",
    "nombre_recovered      265\n",
    "Name: 16, dtype: int64"
   ]
  },
  {
   "cell_type": "markdown",
   "id": "be130267",
   "metadata": {},
   "source": [
    "nombre_infected      1591\n",
    "nombre_sain         14514\n",
    "nombre_exposed       3525\n",
    "nombre_recovered      370\n",
    "Name: 17, dtype: int64"
   ]
  },
  {
   "cell_type": "markdown",
   "id": "376e3bbb",
   "metadata": {},
   "source": [
    "nombre_infected      2079\n",
    "nombre_sain         13065\n",
    "nombre_exposed       4356\n",
    "nombre_recovered      500\n",
    "Name: 18, dtype: int64"
   ]
  },
  {
   "cell_type": "markdown",
   "id": "b87be1bf",
   "metadata": {},
   "source": [
    "nombre_infected      2695\n",
    "nombre_sain         11410\n",
    "nombre_exposed       5215\n",
    "nombre_recovered      680\n",
    "Name: 19, dtype: int64"
   ]
  },
  {
   "cell_type": "markdown",
   "id": "0780f9aa",
   "metadata": {},
   "source": [
    "nombre_infected     3400\n",
    "nombre_sain         9618\n",
    "nombre_exposed      6045\n",
    "nombre_recovered     937\n",
    "Name: 20, dtype: int64"
   ]
  },
  {
   "cell_type": "markdown",
   "id": "e928647b",
   "metadata": {},
   "source": [
    "nombre_infected     4265\n",
    "nombre_sain         7866\n",
    "nombre_exposed      6602\n",
    "nombre_recovered    1267\n",
    "Name: 21, dtype: int64"
   ]
  },
  {
   "cell_type": "markdown",
   "id": "53637325",
   "metadata": {},
   "source": [
    "nombre_infected     5211\n",
    "nombre_sain         6148\n",
    "nombre_exposed      6977\n",
    "nombre_recovered    1664\n",
    "Name: 22, dtype: int64"
   ]
  },
  {
   "cell_type": "markdown",
   "id": "e9482c9f",
   "metadata": {},
   "source": [
    "nombre_infected     6208\n",
    "nombre_sain         4628\n",
    "nombre_exposed      7037\n",
    "nombre_recovered    2127\n",
    "Name: 23, dtype: int64"
   ]
  },
  {
   "cell_type": "markdown",
   "id": "ab752433",
   "metadata": {},
   "source": [
    "nombre_infected     7064\n",
    "nombre_sain         3405\n",
    "nombre_exposed      6755\n",
    "nombre_recovered    2776\n",
    "Name: 24, dtype: int64"
   ]
  },
  {
   "cell_type": "markdown",
   "id": "fa116715",
   "metadata": {},
   "source": [
    "nombre_infected     7837\n",
    "nombre_sain         2432\n",
    "nombre_exposed      6205\n",
    "nombre_recovered    3526\n",
    "Name: 25, dtype: int64"
   ]
  },
  {
   "cell_type": "markdown",
   "id": "560ce9ff",
   "metadata": {},
   "source": [
    "nombre_infected     8431\n",
    "nombre_sain         1654\n",
    "nombre_exposed      5574\n",
    "nombre_recovered    4341\n",
    "Name: 26, dtype: int64"
   ]
  },
  {
   "cell_type": "markdown",
   "id": "e03f9420",
   "metadata": {},
   "source": [
    "nombre_infected     8857\n",
    "nombre_sain         1148\n",
    "nombre_exposed      4741\n",
    "nombre_recovered    5254\n",
    "Name: 27, dtype: int64"
   ]
  },
  {
   "cell_type": "markdown",
   "id": "e1416d5a",
   "metadata": {},
   "source": [
    "nombre_infected     8993\n",
    "nombre_sain          796\n",
    "nombre_exposed      3963\n",
    "nombre_recovered    6248\n",
    "Name: 28, dtype: int64"
   ]
  },
  {
   "cell_type": "markdown",
   "id": "26935d0b",
   "metadata": {},
   "source": [
    "nombre_infected     8976\n",
    "nombre_sain          555\n",
    "nombre_exposed      3203\n",
    "nombre_recovered    7266\n",
    "Name: 29, dtype: int64"
   ]
  },
  {
   "cell_type": "markdown",
   "id": "eaa6fafe",
   "metadata": {},
   "source": [
    "nombre_infected     8847\n",
    "nombre_sain          383\n",
    "nombre_exposed      2547\n",
    "nombre_recovered    8223\n",
    "Name: 30, dtype: int64"
   ]
  },
  {
   "cell_type": "markdown",
   "id": "4ae34ef0",
   "metadata": {},
   "source": [
    "nombre_infected     8583\n",
    "nombre_sain          281\n",
    "nombre_exposed      1986\n",
    "nombre_recovered    9150\n",
    "Name: 31, dtype: int64"
   ]
  },
  {
   "cell_type": "markdown",
   "id": "8891d13c",
   "metadata": {},
   "source": [
    "nombre_infected      8112\n",
    "nombre_sain           212\n",
    "nombre_exposed       1552\n",
    "nombre_recovered    10124\n",
    "Name: 32, dtype: int64"
   ]
  },
  {
   "cell_type": "markdown",
   "id": "18861851",
   "metadata": {},
   "source": [
    "nombre_infected      7630\n",
    "nombre_sain           187\n",
    "nombre_exposed       1190\n",
    "nombre_recovered    10993\n",
    "Name: 33, dtype: int64"
   ]
  },
  {
   "cell_type": "markdown",
   "id": "d72a7cbf",
   "metadata": {},
   "source": [
    "nombre_infected      7046\n",
    "nombre_sain           172\n",
    "nombre_exposed        926\n",
    "nombre_recovered    11856\n",
    "Name: 34, dtype: int64"
   ]
  },
  {
   "cell_type": "markdown",
   "id": "13995eea",
   "metadata": {},
   "source": [
    "nombre_infected      6501\n",
    "nombre_sain           169\n",
    "nombre_exposed        743\n",
    "nombre_recovered    12587\n",
    "Name: 35, dtype: int64"
   ]
  },
  {
   "cell_type": "markdown",
   "id": "04114c7f",
   "metadata": {},
   "source": [
    "nombre_infected      5913\n",
    "nombre_sain           159\n",
    "nombre_exposed        592\n",
    "nombre_recovered    13336\n",
    "Name: 36, dtype: int64"
   ]
  },
  {
   "cell_type": "markdown",
   "id": "83407614",
   "metadata": {},
   "source": [
    "nombre_infected      5400\n",
    "nombre_sain           153\n",
    "nombre_exposed        490\n",
    "nombre_recovered    13957\n",
    "Name: 37, dtype: int64"
   ]
  },
  {
   "cell_type": "markdown",
   "id": "536f950b",
   "metadata": {},
   "source": [
    "nombre_infected      4842\n",
    "nombre_sain           164\n",
    "nombre_exposed        390\n",
    "nombre_recovered    14604\n",
    "Name: 38, dtype: int64"
   ]
  },
  {
   "cell_type": "markdown",
   "id": "367448c6",
   "metadata": {},
   "source": [
    "nombre_infected      4363\n",
    "nombre_sain           169\n",
    "nombre_exposed        310\n",
    "nombre_recovered    15158\n",
    "Name: 39, dtype: int64"
   ]
  },
  {
   "cell_type": "markdown",
   "id": "2d6a03bb",
   "metadata": {},
   "source": [
    "nombre_infected      3914\n",
    "nombre_sain           171\n",
    "nombre_exposed        270\n",
    "nombre_recovered    15645\n",
    "Name: 40, dtype: int64"
   ]
  },
  {
   "cell_type": "markdown",
   "id": "8e56b07d",
   "metadata": {},
   "source": [
    "nombre_infected      3487\n",
    "nombre_sain           190\n",
    "nombre_exposed        239\n",
    "nombre_recovered    16084\n",
    "Name: 41, dtype: int64"
   ]
  },
  {
   "cell_type": "markdown",
   "id": "b42013b6",
   "metadata": {},
   "source": [
    "nombre_infected      3083\n",
    "nombre_sain           210\n",
    "nombre_exposed        206\n",
    "nombre_recovered    16501\n",
    "Name: 42, dtype: int64"
   ]
  },
  {
   "cell_type": "markdown",
   "id": "40eecefd",
   "metadata": {},
   "source": [
    "nombre_infected      2769\n",
    "nombre_sain           247\n",
    "nombre_exposed        154\n",
    "nombre_recovered    16830\n",
    "Name: 43, dtype: int64"
   ]
  },
  {
   "cell_type": "markdown",
   "id": "7607caa8",
   "metadata": {},
   "source": [
    "nombre_infected      2473\n",
    "nombre_sain           274\n",
    "nombre_exposed        129\n",
    "nombre_recovered    17124\n",
    "Name: 44, dtype: int64"
   ]
  },
  {
   "cell_type": "markdown",
   "id": "2e49df30",
   "metadata": {},
   "source": [
    "nombre_infected      2199\n",
    "nombre_sain           306\n",
    "nombre_exposed        128\n",
    "nombre_recovered    17367\n",
    "Name: 45, dtype: int64"
   ]
  },
  {
   "cell_type": "markdown",
   "id": "64f91cce",
   "metadata": {},
   "source": [
    "nombre_infected      1931\n",
    "nombre_sain           345\n",
    "nombre_exposed        130\n",
    "nombre_recovered    17594\n",
    "Name: 46, dtype: int64"
   ]
  },
  {
   "cell_type": "markdown",
   "id": "017d1ee4",
   "metadata": {},
   "source": [
    "nombre_infected      1709\n",
    "nombre_sain           385\n",
    "nombre_exposed        122\n",
    "nombre_recovered    17784\n",
    "Name: 47, dtype: int64"
   ]
  },
  {
   "cell_type": "markdown",
   "id": "b27ff251",
   "metadata": {},
   "source": [
    "nombre_infected      1541\n",
    "nombre_sain           416\n",
    "nombre_exposed        129\n",
    "nombre_recovered    17914\n",
    "Name: 48, dtype: int64"
   ]
  },
  {
   "cell_type": "markdown",
   "id": "7fb9e8eb",
   "metadata": {},
   "source": [
    "nombre_infected      1380\n",
    "nombre_sain           471\n",
    "nombre_exposed        142\n",
    "nombre_recovered    18007\n",
    "Name: 49, dtype: int64"
   ]
  },
  {
   "cell_type": "markdown",
   "id": "7944a25e",
   "metadata": {},
   "source": [
    "nombre_infected      1252\n",
    "nombre_sain           535\n",
    "nombre_exposed        150\n",
    "nombre_recovered    18063\n",
    "Name: 50, dtype: int64"
   ]
  },
  {
   "cell_type": "markdown",
   "id": "76f565cc",
   "metadata": {},
   "source": [
    "nombre_infected      1153\n",
    "nombre_sain           588\n",
    "nombre_exposed        147\n",
    "nombre_recovered    18112\n",
    "Name: 51, dtype: int64"
   ]
  },
  {
   "cell_type": "markdown",
   "id": "1d41c22c",
   "metadata": {},
   "source": [
    "nombre_infected      1056\n",
    "nombre_sain           656\n",
    "nombre_exposed        147\n",
    "nombre_recovered    18141\n",
    "Name: 52, dtype: int64"
   ]
  },
  {
   "cell_type": "markdown",
   "id": "045df396",
   "metadata": {},
   "source": [
    "nombre_infected       963\n",
    "nombre_sain           712\n",
    "nombre_exposed        159\n",
    "nombre_recovered    18166\n",
    "Name: 53, dtype: int64"
   ]
  },
  {
   "cell_type": "markdown",
   "id": "e8587d3f",
   "metadata": {},
   "source": [
    "nombre_infected       890\n",
    "nombre_sain           750\n",
    "nombre_exposed        165\n",
    "nombre_recovered    18195\n",
    "Name: 54, dtype: int64"
   ]
  },
  {
   "cell_type": "markdown",
   "id": "d5652289",
   "metadata": {},
   "source": [
    "nombre_infected       836\n",
    "nombre_sain           808\n",
    "nombre_exposed        163\n",
    "nombre_recovered    18193\n",
    "Name: 55, dtype: int64"
   ]
  },
  {
   "cell_type": "markdown",
   "id": "39d271a0",
   "metadata": {},
   "source": [
    "nombre_infected       784\n",
    "nombre_sain           855\n",
    "nombre_exposed        160\n",
    "nombre_recovered    18201\n",
    "Name: 56, dtype: int64"
   ]
  },
  {
   "cell_type": "markdown",
   "id": "9467e926",
   "metadata": {},
   "source": [
    "nombre_infected       722\n",
    "nombre_sain           896\n",
    "nombre_exposed        175\n",
    "nombre_recovered    18207\n",
    "Name: 57, dtype: int64"
   ]
  },
  {
   "cell_type": "markdown",
   "id": "2f82ac06",
   "metadata": {},
   "source": [
    "nombre_infected       680\n",
    "nombre_sain           936\n",
    "nombre_exposed        174\n",
    "nombre_recovered    18210\n",
    "Name: 58, dtype: int64"
   ]
  },
  {
   "cell_type": "markdown",
   "id": "250eb090",
   "metadata": {},
   "source": [
    "nombre_infected       643\n",
    "nombre_sain           984\n",
    "nombre_exposed        161\n",
    "nombre_recovered    18212\n",
    "Name: 59, dtype: int64"
   ]
  },
  {
   "cell_type": "markdown",
   "id": "4fe83f8e",
   "metadata": {},
   "source": [
    "nombre_infected       618\n",
    "nombre_sain          1030\n",
    "nombre_exposed        159\n",
    "nombre_recovered    18193\n",
    "Name: 60, dtype: int64"
   ]
  },
  {
   "cell_type": "markdown",
   "id": "448ce371",
   "metadata": {},
   "source": [
    "nombre_infected       586\n",
    "nombre_sain          1057\n",
    "nombre_exposed        147\n",
    "nombre_recovered    18210\n",
    "Name: 61, dtype: int64"
   ]
  },
  {
   "cell_type": "markdown",
   "id": "790ff86c",
   "metadata": {},
   "source": [
    "nombre_infected       552\n",
    "nombre_sain          1086\n",
    "nombre_exposed        145\n",
    "nombre_recovered    18217\n",
    "Name: 62, dtype: int64"
   ]
  },
  {
   "cell_type": "markdown",
   "id": "7d4a1e70",
   "metadata": {},
   "source": [
    "nombre_infected       525\n",
    "nombre_sain          1128\n",
    "nombre_exposed        150\n",
    "nombre_recovered    18197\n",
    "Name: 63, dtype: int64"
   ]
  },
  {
   "cell_type": "markdown",
   "id": "d332e073",
   "metadata": {},
   "source": [
    "nombre_infected       508\n",
    "nombre_sain          1173\n",
    "nombre_exposed        137\n",
    "nombre_recovered    18182\n",
    "Name: 64, dtype: int64"
   ]
  },
  {
   "cell_type": "markdown",
   "id": "47604d8d",
   "metadata": {},
   "source": [
    "nombre_infected       476\n",
    "nombre_sain          1210\n",
    "nombre_exposed        134\n",
    "nombre_recovered    18180\n",
    "Name: 65, dtype: int64"
   ]
  },
  {
   "cell_type": "markdown",
   "id": "c69d2b0f",
   "metadata": {},
   "source": [
    "nombre_infected       443\n",
    "nombre_sain          1260\n",
    "nombre_exposed        143\n",
    "nombre_recovered    18154\n",
    "Name: 66, dtype: int64"
   ]
  },
  {
   "cell_type": "markdown",
   "id": "539ef753",
   "metadata": {},
   "source": [
    "nombre_infected       410\n",
    "nombre_sain          1306\n",
    "nombre_exposed        140\n",
    "nombre_recovered    18144\n",
    "Name: 67, dtype: int64"
   ]
  },
  {
   "cell_type": "markdown",
   "id": "51302183",
   "metadata": {},
   "source": [
    "nombre_infected       385\n",
    "nombre_sain          1322\n",
    "nombre_exposed        144\n",
    "nombre_recovered    18149\n",
    "Name: 68, dtype: int64"
   ]
  },
  {
   "cell_type": "markdown",
   "id": "93d4de59",
   "metadata": {},
   "source": [
    "nombre_infected       364\n",
    "nombre_sain          1371\n",
    "nombre_exposed        135\n",
    "nombre_recovered    18130\n",
    "Name: 69, dtype: int64"
   ]
  },
  {
   "cell_type": "markdown",
   "id": "da268ab0",
   "metadata": {},
   "source": [
    "nombre_infected       357\n",
    "nombre_sain          1422\n",
    "nombre_exposed        126\n",
    "nombre_recovered    18095\n",
    "Name: 70, dtype: int64"
   ]
  },
  {
   "cell_type": "markdown",
   "id": "ee0c494e",
   "metadata": {},
   "source": [
    "nombre_infected       349\n",
    "nombre_sain          1445\n",
    "nombre_exposed        127\n",
    "nombre_recovered    18079\n",
    "Name: 71, dtype: int64"
   ]
  },
  {
   "cell_type": "markdown",
   "id": "1353977b",
   "metadata": {},
   "source": [
    "nombre_infected       336\n",
    "nombre_sain          1492\n",
    "nombre_exposed        122\n",
    "nombre_recovered    18050\n",
    "Name: 72, dtype: int64"
   ]
  },
  {
   "cell_type": "markdown",
   "id": "f9ff5ef3",
   "metadata": {},
   "source": [
    "nombre_infected       319\n",
    "nombre_sain          1549\n",
    "nombre_exposed        106\n",
    "nombre_recovered    18026\n",
    "Name: 73, dtype: int64"
   ]
  },
  {
   "cell_type": "markdown",
   "id": "acf4a72a",
   "metadata": {},
   "source": [
    "nombre_infected       309\n",
    "nombre_sain          1583\n",
    "nombre_exposed        114\n",
    "nombre_recovered    17994\n",
    "Name: 74, dtype: int64"
   ]
  },
  {
   "cell_type": "markdown",
   "id": "7a4fa1b7",
   "metadata": {},
   "source": [
    "nombre_infected       291\n",
    "nombre_sain          1643\n",
    "nombre_exposed        112\n",
    "nombre_recovered    17954\n",
    "Name: 75, dtype: int64"
   ]
  },
  {
   "cell_type": "markdown",
   "id": "56f30dfe",
   "metadata": {},
   "source": [
    "nombre_infected       297\n",
    "nombre_sain          1683\n",
    "nombre_exposed        112\n",
    "nombre_recovered    17908\n",
    "Name: 76, dtype: int64"
   ]
  },
  {
   "cell_type": "markdown",
   "id": "fc4bc387",
   "metadata": {},
   "source": [
    "nombre_infected       268\n",
    "nombre_sain          1730\n",
    "nombre_exposed        118\n",
    "nombre_recovered    17884\n",
    "Name: 77, dtype: int64"
   ]
  },
  {
   "cell_type": "markdown",
   "id": "c812444e",
   "metadata": {},
   "source": [
    "nombre_infected       265\n",
    "nombre_sain          1764\n",
    "nombre_exposed        119\n",
    "nombre_recovered    17852\n",
    "Name: 78, dtype: int64"
   ]
  },
  {
   "cell_type": "markdown",
   "id": "cb50f75a",
   "metadata": {},
   "source": [
    "nombre_infected       258\n",
    "nombre_sain          1814\n",
    "nombre_exposed        118\n",
    "nombre_recovered    17810\n",
    "Name: 79, dtype: int64"
   ]
  },
  {
   "cell_type": "markdown",
   "id": "d952f261",
   "metadata": {},
   "source": [
    "nombre_infected       256\n",
    "nombre_sain          1865\n",
    "nombre_exposed        108\n",
    "nombre_recovered    17771\n",
    "Name: 80, dtype: int64"
   ]
  },
  {
   "cell_type": "markdown",
   "id": "bdb67c7d",
   "metadata": {},
   "source": [
    "nombre_infected       243\n",
    "nombre_sain          1909\n",
    "nombre_exposed        122\n",
    "nombre_recovered    17726\n",
    "Name: 81, dtype: int64"
   ]
  },
  {
   "cell_type": "markdown",
   "id": "3a17575f",
   "metadata": {},
   "source": [
    "nombre_infected       223\n",
    "nombre_sain          1955\n",
    "nombre_exposed        132\n",
    "nombre_recovered    17690\n",
    "Name: 82, dtype: int64"
   ]
  },
  {
   "cell_type": "markdown",
   "id": "189c4026",
   "metadata": {},
   "source": [
    "nombre_infected       225\n",
    "nombre_sain          2008\n",
    "nombre_exposed        139\n",
    "nombre_recovered    17628\n",
    "Name: 83, dtype: int64"
   ]
  },
  {
   "cell_type": "markdown",
   "id": "af72ee65",
   "metadata": {},
   "source": [
    "nombre_infected       234\n",
    "nombre_sain          2045\n",
    "nombre_exposed        127\n",
    "nombre_recovered    17594\n",
    "Name: 84, dtype: int64"
   ]
  },
  {
   "cell_type": "markdown",
   "id": "4ca86367",
   "metadata": {},
   "source": [
    "nombre_infected       233\n",
    "nombre_sain          2095\n",
    "nombre_exposed        122\n",
    "nombre_recovered    17550\n",
    "Name: 85, dtype: int64"
   ]
  },
  {
   "cell_type": "markdown",
   "id": "bc00ad09",
   "metadata": {},
   "source": [
    "nombre_infected       225\n",
    "nombre_sain          2137\n",
    "nombre_exposed        123\n",
    "nombre_recovered    17515\n",
    "Name: 86, dtype: int64"
   ]
  },
  {
   "cell_type": "markdown",
   "id": "d889ee8f",
   "metadata": {},
   "source": [
    "nombre_infected       234\n",
    "nombre_sain          2188\n",
    "nombre_exposed        125\n",
    "nombre_recovered    17453\n",
    "Name: 87, dtype: int64"
   ]
  },
  {
   "cell_type": "markdown",
   "id": "42f2ca1f",
   "metadata": {},
   "source": [
    "nombre_infected       236\n",
    "nombre_sain          2227\n",
    "nombre_exposed        128\n",
    "nombre_recovered    17409\n",
    "Name: 88, dtype: int64"
   ]
  },
  {
   "cell_type": "markdown",
   "id": "9b0a13a6",
   "metadata": {},
   "source": [
    "nombre_infected       239\n",
    "nombre_sain          2262\n",
    "nombre_exposed        127\n",
    "nombre_recovered    17372\n",
    "Name: 89, dtype: int64"
   ]
  },
  {
   "cell_type": "markdown",
   "id": "09056b3a",
   "metadata": {},
   "source": [
    "nombre_infected       233\n",
    "nombre_sain          2283\n",
    "nombre_exposed        140\n",
    "nombre_recovered    17344\n",
    "Name: 90, dtype: int64"
   ]
  },
  {
   "cell_type": "markdown",
   "id": "fdbc5f11",
   "metadata": {},
   "source": [
    "nombre_infected       234\n",
    "nombre_sain          2310\n",
    "nombre_exposed        139\n",
    "nombre_recovered    17317\n",
    "Name: 91, dtype: int64"
   ]
  },
  {
   "cell_type": "markdown",
   "id": "8a63de2b",
   "metadata": {},
   "source": [
    "nombre_infected       240\n",
    "nombre_sain          2356\n",
    "nombre_exposed        142\n",
    "nombre_recovered    17262\n",
    "Name: 92, dtype: int64"
   ]
  },
  {
   "cell_type": "markdown",
   "id": "2654d314",
   "metadata": {},
   "source": [
    "nombre_infected       248\n",
    "nombre_sain          2393\n",
    "nombre_exposed        146\n",
    "nombre_recovered    17213\n",
    "Name: 93, dtype: int64"
   ]
  },
  {
   "cell_type": "markdown",
   "id": "0c9737ee",
   "metadata": {},
   "source": [
    "nombre_infected       256\n",
    "nombre_sain          2425\n",
    "nombre_exposed        147\n",
    "nombre_recovered    17172\n",
    "Name: 94, dtype: int64"
   ]
  },
  {
   "cell_type": "markdown",
   "id": "1cb8a8a6",
   "metadata": {},
   "source": [
    "nombre_infected       266\n",
    "nombre_sain          2461\n",
    "nombre_exposed        140\n",
    "nombre_recovered    17133\n",
    "Name: 95, dtype: int64"
   ]
  },
  {
   "cell_type": "markdown",
   "id": "f1715816",
   "metadata": {},
   "source": [
    "nombre_infected       262\n",
    "nombre_sain          2496\n",
    "nombre_exposed        142\n",
    "nombre_recovered    17100\n",
    "Name: 96, dtype: int64"
   ]
  },
  {
   "cell_type": "markdown",
   "id": "76c2316e",
   "metadata": {},
   "source": [
    "nombre_infected       255\n",
    "nombre_sain          2501\n",
    "nombre_exposed        143\n",
    "nombre_recovered    17101\n",
    "Name: 97, dtype: int64"
   ]
  },
  {
   "cell_type": "markdown",
   "id": "34daa05c",
   "metadata": {},
   "source": [
    "nombre_infected       253\n",
    "nombre_sain          2516\n",
    "nombre_exposed        152\n",
    "nombre_recovered    17079\n",
    "Name: 98, dtype: int64"
   ]
  },
  {
   "cell_type": "markdown",
   "id": "456ca2d0",
   "metadata": {},
   "source": [
    "nombre_infected       246\n",
    "nombre_sain          2544\n",
    "nombre_exposed        168\n",
    "nombre_recovered    17042\n",
    "Name: 99, dtype: int64"
   ]
  },
  {
   "cell_type": "markdown",
   "id": "02c82154",
   "metadata": {},
   "source": [
    "nombre_infected       249\n",
    "nombre_sain          2570\n",
    "nombre_exposed        172\n",
    "nombre_recovered    17009\n",
    "Name: 100, dtype: int64"
   ]
  },
  {
   "cell_type": "markdown",
   "id": "74929c8a",
   "metadata": {},
   "source": [
    "nombre_infected       259\n",
    "nombre_sain          2611\n",
    "nombre_exposed        162\n",
    "nombre_recovered    16968\n",
    "Name: 101, dtype: int64"
   ]
  },
  {
   "cell_type": "markdown",
   "id": "dc9ca36b",
   "metadata": {},
   "source": [
    "nombre_infected       284\n",
    "nombre_sain          2628\n",
    "nombre_exposed        162\n",
    "nombre_recovered    16926\n",
    "Name: 102, dtype: int64"
   ]
  },
  {
   "cell_type": "markdown",
   "id": "17bfd811",
   "metadata": {},
   "source": [
    "nombre_infected       289\n",
    "nombre_sain          2655\n",
    "nombre_exposed        176\n",
    "nombre_recovered    16880\n",
    "Name: 103, dtype: int64"
   ]
  },
  {
   "cell_type": "markdown",
   "id": "f1469a71",
   "metadata": {},
   "source": [
    "nombre_infected       291\n",
    "nombre_sain          2677\n",
    "nombre_exposed        196\n",
    "nombre_recovered    16836\n",
    "Name: 104, dtype: int64"
   ]
  },
  {
   "cell_type": "markdown",
   "id": "b9d86346",
   "metadata": {},
   "source": [
    "nombre_infected       313\n",
    "nombre_sain          2698\n",
    "nombre_exposed        186\n",
    "nombre_recovered    16803\n",
    "Name: 105, dtype: int64"
   ]
  },
  {
   "cell_type": "markdown",
   "id": "382038b5",
   "metadata": {},
   "source": [
    "nombre_infected       309\n",
    "nombre_sain          2715\n",
    "nombre_exposed        195\n",
    "nombre_recovered    16781\n",
    "Name: 106, dtype: int64"
   ]
  },
  {
   "cell_type": "markdown",
   "id": "c617ff07",
   "metadata": {},
   "source": [
    "nombre_infected       315\n",
    "nombre_sain          2720\n",
    "nombre_exposed        211\n",
    "nombre_recovered    16754\n",
    "Name: 107, dtype: int64"
   ]
  },
  {
   "cell_type": "markdown",
   "id": "1dc93fb1",
   "metadata": {},
   "source": [
    "nombre_infected       318\n",
    "nombre_sain          2735\n",
    "nombre_exposed        226\n",
    "nombre_recovered    16721\n",
    "Name: 108, dtype: int64"
   ]
  },
  {
   "cell_type": "markdown",
   "id": "f748bdb3",
   "metadata": {},
   "source": [
    "nombre_infected       315\n",
    "nombre_sain          2741\n",
    "nombre_exposed        234\n",
    "nombre_recovered    16710\n",
    "Name: 109, dtype: int64"
   ]
  },
  {
   "cell_type": "markdown",
   "id": "d9898d59",
   "metadata": {},
   "source": [
    "nombre_infected       335\n",
    "nombre_sain          2758\n",
    "nombre_exposed        231\n",
    "nombre_recovered    16676\n",
    "Name: 110, dtype: int64"
   ]
  },
  {
   "cell_type": "markdown",
   "id": "bdc23ffe",
   "metadata": {},
   "source": [
    "nombre_infected       347\n",
    "nombre_sain          2771\n",
    "nombre_exposed        243\n",
    "nombre_recovered    16639\n",
    "Name: 111, dtype: int64"
   ]
  },
  {
   "cell_type": "markdown",
   "id": "f1f98349",
   "metadata": {},
   "source": [
    "nombre_infected       347\n",
    "nombre_sain          2806\n",
    "nombre_exposed        241\n",
    "nombre_recovered    16606\n",
    "Name: 112, dtype: int64"
   ]
  },
  {
   "cell_type": "markdown",
   "id": "6acbae71",
   "metadata": {},
   "source": [
    "nombre_infected       362\n",
    "nombre_sain          2823\n",
    "nombre_exposed        240\n",
    "nombre_recovered    16575\n",
    "Name: 113, dtype: int64"
   ]
  },
  {
   "cell_type": "markdown",
   "id": "6eb55106",
   "metadata": {},
   "source": [
    "nombre_infected       375\n",
    "nombre_sain          2825\n",
    "nombre_exposed        260\n",
    "nombre_recovered    16540\n",
    "Name: 114, dtype: int64"
   ]
  },
  {
   "cell_type": "markdown",
   "id": "3fdf59ce",
   "metadata": {},
   "source": [
    "nombre_infected       400\n",
    "nombre_sain          2807\n",
    "nombre_exposed        281\n",
    "nombre_recovered    16512\n",
    "Name: 115, dtype: int64"
   ]
  },
  {
   "cell_type": "markdown",
   "id": "8c59bfe9",
   "metadata": {},
   "source": [
    "nombre_infected       413\n",
    "nombre_sain          2798\n",
    "nombre_exposed        296\n",
    "nombre_recovered    16493\n",
    "Name: 116, dtype: int64"
   ]
  },
  {
   "cell_type": "markdown",
   "id": "e9a57bed",
   "metadata": {},
   "source": [
    "nombre_infected       420\n",
    "nombre_sain          2781\n",
    "nombre_exposed        316\n",
    "nombre_recovered    16483\n",
    "Name: 117, dtype: int64"
   ]
  },
  {
   "cell_type": "markdown",
   "id": "2ba3f220",
   "metadata": {},
   "source": [
    "nombre_infected       442\n",
    "nombre_sain          2820\n",
    "nombre_exposed        301\n",
    "nombre_recovered    16437\n",
    "Name: 118, dtype: int64"
   ]
  },
  {
   "cell_type": "markdown",
   "id": "3e3cd20d",
   "metadata": {},
   "source": [
    "nombre_infected       444\n",
    "nombre_sain          2814\n",
    "nombre_exposed        302\n",
    "nombre_recovered    16440\n",
    "Name: 119, dtype: int64"
   ]
  },
  {
   "cell_type": "markdown",
   "id": "8d49da0f",
   "metadata": {},
   "source": [
    "nombre_infected       464\n",
    "nombre_sain          2818\n",
    "nombre_exposed        306\n",
    "nombre_recovered    16412\n",
    "Name: 120, dtype: int64"
   ]
  },
  {
   "cell_type": "markdown",
   "id": "1611d28d",
   "metadata": {},
   "source": [
    "nombre_infected       479\n",
    "nombre_sain          2784\n",
    "nombre_exposed        329\n",
    "nombre_recovered    16408\n",
    "Name: 121, dtype: int64"
   ]
  },
  {
   "cell_type": "markdown",
   "id": "9f79db03",
   "metadata": {},
   "source": [
    "nombre_infected       488\n",
    "nombre_sain          2779\n",
    "nombre_exposed        329\n",
    "nombre_recovered    16404\n",
    "Name: 122, dtype: int64"
   ]
  },
  {
   "cell_type": "markdown",
   "id": "23153c92",
   "metadata": {},
   "source": [
    "nombre_infected       506\n",
    "nombre_sain          2770\n",
    "nombre_exposed        329\n",
    "nombre_recovered    16395\n",
    "Name: 123, dtype: int64"
   ]
  },
  {
   "cell_type": "markdown",
   "id": "373f3023",
   "metadata": {},
   "source": [
    "nombre_infected       511\n",
    "nombre_sain          2752\n",
    "nombre_exposed        355\n",
    "nombre_recovered    16382\n",
    "Name: 124, dtype: int64"
   ]
  },
  {
   "cell_type": "markdown",
   "id": "9ec61161",
   "metadata": {},
   "source": [
    "nombre_infected       522\n",
    "nombre_sain          2727\n",
    "nombre_exposed        374\n",
    "nombre_recovered    16377\n",
    "Name: 125, dtype: int64"
   ]
  },
  {
   "cell_type": "markdown",
   "id": "aa58a6e7",
   "metadata": {},
   "source": [
    "nombre_infected       529\n",
    "nombre_sain          2723\n",
    "nombre_exposed        396\n",
    "nombre_recovered    16352\n",
    "Name: 126, dtype: int64"
   ]
  },
  {
   "cell_type": "markdown",
   "id": "db1eb5b4",
   "metadata": {},
   "source": [
    "nombre_infected       557\n",
    "nombre_sain          2727\n",
    "nombre_exposed        409\n",
    "nombre_recovered    16307\n",
    "Name: 127, dtype: int64"
   ]
  },
  {
   "cell_type": "markdown",
   "id": "13931b40",
   "metadata": {},
   "source": [
    "nombre_infected       582\n",
    "nombre_sain          2718\n",
    "nombre_exposed        422\n",
    "nombre_recovered    16278\n",
    "Name: 128, dtype: int64"
   ]
  },
  {
   "cell_type": "markdown",
   "id": "1718ec8c",
   "metadata": {},
   "source": [
    "nombre_infected       601\n",
    "nombre_sain          2676\n",
    "nombre_exposed        447\n",
    "nombre_recovered    16276\n",
    "Name: 129, dtype: int64"
   ]
  },
  {
   "cell_type": "markdown",
   "id": "801bc78f",
   "metadata": {},
   "source": [
    "nombre_infected       626\n",
    "nombre_sain          2640\n",
    "nombre_exposed        467\n",
    "nombre_recovered    16267\n",
    "Name: 130, dtype: int64"
   ]
  },
  {
   "cell_type": "markdown",
   "id": "e4417c96",
   "metadata": {},
   "source": [
    "nombre_infected       646\n",
    "nombre_sain          2622\n",
    "nombre_exposed        481\n",
    "nombre_recovered    16251\n",
    "Name: 131, dtype: int64"
   ]
  },
  {
   "cell_type": "markdown",
   "id": "bd211714",
   "metadata": {},
   "source": [
    "nombre_infected       700\n",
    "nombre_sain          2614\n",
    "nombre_exposed        473\n",
    "nombre_recovered    16213\n",
    "Name: 132, dtype: int64"
   ]
  },
  {
   "cell_type": "markdown",
   "id": "bda3c651",
   "metadata": {},
   "source": [
    "nombre_infected       719\n",
    "nombre_sain          2602\n",
    "nombre_exposed        473\n",
    "nombre_recovered    16206\n",
    "Name: 133, dtype: int64"
   ]
  },
  {
   "cell_type": "markdown",
   "id": "0d4027eb",
   "metadata": {},
   "source": [
    "nombre_infected       743\n",
    "nombre_sain          2568\n",
    "nombre_exposed        481\n",
    "nombre_recovered    16208\n",
    "Name: 134, dtype: int64"
   ]
  },
  {
   "cell_type": "markdown",
   "id": "2643e5fe",
   "metadata": {},
   "source": [
    "nombre_infected       742\n",
    "nombre_sain          2518\n",
    "nombre_exposed        505\n",
    "nombre_recovered    16235\n",
    "Name: 135, dtype: int64"
   ]
  },
  {
   "cell_type": "markdown",
   "id": "e835fbd3",
   "metadata": {},
   "source": [
    "nombre_infected       774\n",
    "nombre_sain          2478\n",
    "nombre_exposed        514\n",
    "nombre_recovered    16234\n",
    "Name: 136, dtype: int64"
   ]
  },
  {
   "cell_type": "markdown",
   "id": "e6e65026",
   "metadata": {},
   "source": [
    "nombre_infected       785\n",
    "nombre_sain          2417\n",
    "nombre_exposed        560\n",
    "nombre_recovered    16238\n",
    "Name: 137, dtype: int64"
   ]
  },
  {
   "cell_type": "markdown",
   "id": "f9cd29ab",
   "metadata": {},
   "source": [
    "nombre_infected       811\n",
    "nombre_sain          2374\n",
    "nombre_exposed        565\n",
    "nombre_recovered    16250\n",
    "Name: 138, dtype: int64"
   ]
  },
  {
   "cell_type": "markdown",
   "id": "117765ff",
   "metadata": {},
   "source": [
    "nombre_infected       828\n",
    "nombre_sain          2333\n",
    "nombre_exposed        565\n",
    "nombre_recovered    16274\n",
    "Name: 139, dtype: int64"
   ]
  },
  {
   "cell_type": "markdown",
   "id": "37af5c97",
   "metadata": {},
   "source": [
    "nombre_infected       860\n",
    "nombre_sain          2295\n",
    "nombre_exposed        547\n",
    "nombre_recovered    16298\n",
    "Name: 140, dtype: int64"
   ]
  },
  {
   "cell_type": "markdown",
   "id": "8e233e32",
   "metadata": {},
   "source": [
    "nombre_infected       893\n",
    "nombre_sain          2237\n",
    "nombre_exposed        543\n",
    "nombre_recovered    16327\n",
    "Name: 141, dtype: int64"
   ]
  },
  {
   "cell_type": "markdown",
   "id": "2ffc4482",
   "metadata": {},
   "source": [
    "nombre_infected       910\n",
    "nombre_sain          2184\n",
    "nombre_exposed        545\n",
    "nombre_recovered    16361\n",
    "Name: 142, dtype: int64"
   ]
  },
  {
   "cell_type": "markdown",
   "id": "1c0a3eac",
   "metadata": {},
   "source": [
    "nombre_infected       916\n",
    "nombre_sain          2141\n",
    "nombre_exposed        550\n",
    "nombre_recovered    16393\n",
    "Name: 143, dtype: int64"
   ]
  },
  {
   "cell_type": "markdown",
   "id": "b238255e",
   "metadata": {},
   "source": [
    "nombre_infected       927\n",
    "nombre_sain          2106\n",
    "nombre_exposed        548\n",
    "nombre_recovered    16419\n",
    "Name: 144, dtype: int64"
   ]
  },
  {
   "cell_type": "markdown",
   "id": "9fdfaca4",
   "metadata": {},
   "source": [
    "nombre_infected       933\n",
    "nombre_sain          2067\n",
    "nombre_exposed        559\n",
    "nombre_recovered    16441\n",
    "Name: 145, dtype: int64"
   ]
  },
  {
   "cell_type": "markdown",
   "id": "4432c8bf",
   "metadata": {},
   "source": [
    "nombre_infected       943\n",
    "nombre_sain          2046\n",
    "nombre_exposed        541\n",
    "nombre_recovered    16470\n",
    "Name: 146, dtype: int64"
   ]
  },
  {
   "cell_type": "markdown",
   "id": "9faec8ff",
   "metadata": {},
   "source": [
    "nombre_infected       977\n",
    "nombre_sain          1993\n",
    "nombre_exposed        548\n",
    "nombre_recovered    16482\n",
    "Name: 147, dtype: int64"
   ]
  },
  {
   "cell_type": "markdown",
   "id": "c23546de",
   "metadata": {},
   "source": [
    "nombre_infected       998\n",
    "nombre_sain          1952\n",
    "nombre_exposed        535\n",
    "nombre_recovered    16515\n",
    "Name: 148, dtype: int64"
   ]
  },
  {
   "cell_type": "markdown",
   "id": "201b32e2",
   "metadata": {},
   "source": [
    "nombre_infected       988\n",
    "nombre_sain          1898\n",
    "nombre_exposed        554\n",
    "nombre_recovered    16560\n",
    "Name: 149, dtype: int64"
   ]
  },
  {
   "cell_type": "markdown",
   "id": "87012136",
   "metadata": {},
   "source": [
    "nombre_infected       988\n",
    "nombre_sain          1852\n",
    "nombre_exposed        557\n",
    "nombre_recovered    16603\n",
    "Name: 150, dtype: int64"
   ]
  },
  {
   "cell_type": "markdown",
   "id": "21bd970e",
   "metadata": {},
   "source": [
    "nombre_infected       989\n",
    "nombre_sain          1838\n",
    "nombre_exposed        535\n",
    "nombre_recovered    16638\n",
    "Name: 151, dtype: int64"
   ]
  },
  {
   "cell_type": "markdown",
   "id": "dba9dcf8",
   "metadata": {},
   "source": [
    "nombre_infected      1013\n",
    "nombre_sain          1809\n",
    "nombre_exposed        506\n",
    "nombre_recovered    16672\n",
    "Name: 152, dtype: int64"
   ]
  },
  {
   "cell_type": "markdown",
   "id": "9ac01ccb",
   "metadata": {},
   "source": [
    "nombre_infected      1030\n",
    "nombre_sain          1771\n",
    "nombre_exposed        506\n",
    "nombre_recovered    16693\n",
    "Name: 153, dtype: int64"
   ]
  },
  {
   "cell_type": "markdown",
   "id": "fc8b9bc2",
   "metadata": {},
   "source": [
    "nombre_infected      1044\n",
    "nombre_sain          1726\n",
    "nombre_exposed        500\n",
    "nombre_recovered    16730\n",
    "Name: 154, dtype: int64"
   ]
  },
  {
   "cell_type": "markdown",
   "id": "4365e152",
   "metadata": {},
   "source": [
    "nombre_infected      1031\n",
    "nombre_sain          1701\n",
    "nombre_exposed        482\n",
    "nombre_recovered    16786\n",
    "Name: 155, dtype: int64"
   ]
  },
  {
   "cell_type": "markdown",
   "id": "555ae1d4",
   "metadata": {},
   "source": [
    "nombre_infected      1027\n",
    "nombre_sain          1655\n",
    "nombre_exposed        513\n",
    "nombre_recovered    16805\n",
    "Name: 156, dtype: int64"
   ]
  },
  {
   "cell_type": "markdown",
   "id": "9a91e775",
   "metadata": {},
   "source": [
    "nombre_infected      1029\n",
    "nombre_sain          1654\n",
    "nombre_exposed        491\n",
    "nombre_recovered    16826\n",
    "Name: 157, dtype: int64"
   ]
  },
  {
   "cell_type": "markdown",
   "id": "13aa5347",
   "metadata": {},
   "source": [
    "nombre_infected      1027\n",
    "nombre_sain          1633\n",
    "nombre_exposed        481\n",
    "nombre_recovered    16859\n",
    "Name: 158, dtype: int64"
   ]
  },
  {
   "cell_type": "markdown",
   "id": "6caab6b6",
   "metadata": {},
   "source": [
    "nombre_infected      1014\n",
    "nombre_sain          1604\n",
    "nombre_exposed        493\n",
    "nombre_recovered    16889\n",
    "Name: 159, dtype: int64"
   ]
  },
  {
   "cell_type": "markdown",
   "id": "7ffeb204",
   "metadata": {},
   "source": [
    "nombre_infected      1017\n",
    "nombre_sain          1581\n",
    "nombre_exposed        518\n",
    "nombre_recovered    16884\n",
    "Name: 160, dtype: int64"
   ]
  },
  {
   "cell_type": "markdown",
   "id": "04769854",
   "metadata": {},
   "source": [
    "nombre_infected      1016\n",
    "nombre_sain          1589\n",
    "nombre_exposed        508\n",
    "nombre_recovered    16887\n",
    "Name: 161, dtype: int64"
   ]
  },
  {
   "cell_type": "markdown",
   "id": "cfec6eb4",
   "metadata": {},
   "source": [
    "nombre_infected      1007\n",
    "nombre_sain          1601\n",
    "nombre_exposed        485\n",
    "nombre_recovered    16907\n",
    "Name: 162, dtype: int64"
   ]
  },
  {
   "cell_type": "markdown",
   "id": "73ba1fc5",
   "metadata": {},
   "source": [
    "nombre_infected      1005\n",
    "nombre_sain          1616\n",
    "nombre_exposed        454\n",
    "nombre_recovered    16925\n",
    "Name: 163, dtype: int64"
   ]
  },
  {
   "cell_type": "markdown",
   "id": "ef1bc809",
   "metadata": {},
   "source": [
    "nombre_infected       984\n",
    "nombre_sain          1613\n",
    "nombre_exposed        453\n",
    "nombre_recovered    16950\n",
    "Name: 164, dtype: int64"
   ]
  },
  {
   "cell_type": "markdown",
   "id": "dbbc0b16",
   "metadata": {},
   "source": [
    "nombre_infected       979\n",
    "nombre_sain          1624\n",
    "nombre_exposed        424\n",
    "nombre_recovered    16973\n",
    "Name: 165, dtype: int64"
   ]
  },
  {
   "cell_type": "markdown",
   "id": "1c16e172",
   "metadata": {},
   "source": [
    "nombre_infected       949\n",
    "nombre_sain          1634\n",
    "nombre_exposed        424\n",
    "nombre_recovered    16993\n",
    "Name: 166, dtype: int64"
   ]
  },
  {
   "cell_type": "markdown",
   "id": "fb040251",
   "metadata": {},
   "source": [
    "nombre_infected       930\n",
    "nombre_sain          1634\n",
    "nombre_exposed        418\n",
    "nombre_recovered    17018\n",
    "Name: 167, dtype: int64"
   ]
  },
  {
   "cell_type": "markdown",
   "id": "7ce5401e",
   "metadata": {},
   "source": [
    "nombre_infected       895\n",
    "nombre_sain          1629\n",
    "nombre_exposed        420\n",
    "nombre_recovered    17056\n",
    "Name: 168, dtype: int64"
   ]
  },
  {
   "cell_type": "markdown",
   "id": "a56e86b3",
   "metadata": {},
   "source": [
    "nombre_infected       892\n",
    "nombre_sain          1620\n",
    "nombre_exposed        418\n",
    "nombre_recovered    17070\n",
    "Name: 169, dtype: int64"
   ]
  },
  {
   "cell_type": "markdown",
   "id": "ec98d57b",
   "metadata": {},
   "source": [
    "nombre_infected       893\n",
    "nombre_sain          1615\n",
    "nombre_exposed        409\n",
    "nombre_recovered    17083\n",
    "Name: 170, dtype: int64"
   ]
  },
  {
   "cell_type": "markdown",
   "id": "23482756",
   "metadata": {},
   "source": [
    "nombre_infected       902\n",
    "nombre_sain          1606\n",
    "nombre_exposed        395\n",
    "nombre_recovered    17097\n",
    "Name: 171, dtype: int64"
   ]
  },
  {
   "cell_type": "markdown",
   "id": "be67f6e0",
   "metadata": {},
   "source": [
    "nombre_infected       901\n",
    "nombre_sain          1611\n",
    "nombre_exposed        378\n",
    "nombre_recovered    17110\n",
    "Name: 172, dtype: int64"
   ]
  },
  {
   "cell_type": "markdown",
   "id": "2dd68fa4",
   "metadata": {},
   "source": [
    "nombre_infected       882\n",
    "nombre_sain          1613\n",
    "nombre_exposed        381\n",
    "nombre_recovered    17124\n",
    "Name: 173, dtype: int64"
   ]
  },
  {
   "cell_type": "markdown",
   "id": "d0a96b54",
   "metadata": {},
   "source": [
    "nombre_infected       861\n",
    "nombre_sain          1623\n",
    "nombre_exposed        378\n",
    "nombre_recovered    17138\n",
    "Name: 174, dtype: int64"
   ]
  },
  {
   "cell_type": "markdown",
   "id": "cf6e2b22",
   "metadata": {},
   "source": [
    "nombre_infected       860\n",
    "nombre_sain          1632\n",
    "nombre_exposed        373\n",
    "nombre_recovered    17135\n",
    "Name: 175, dtype: int64"
   ]
  },
  {
   "cell_type": "markdown",
   "id": "e9527442",
   "metadata": {},
   "source": [
    "nombre_infected       861\n",
    "nombre_sain          1651\n",
    "nombre_exposed        363\n",
    "nombre_recovered    17125\n",
    "Name: 176, dtype: int64"
   ]
  },
  {
   "cell_type": "markdown",
   "id": "1f46b401",
   "metadata": {},
   "source": [
    "nombre_infected       839\n",
    "nombre_sain          1668\n",
    "nombre_exposed        374\n",
    "nombre_recovered    17119\n",
    "Name: 177, dtype: int64"
   ]
  },
  {
   "cell_type": "markdown",
   "id": "40ad2683",
   "metadata": {},
   "source": [
    "nombre_infected       827\n",
    "nombre_sain          1693\n",
    "nombre_exposed        370\n",
    "nombre_recovered    17110\n",
    "Name: 178, dtype: int64"
   ]
  },
  {
   "cell_type": "markdown",
   "id": "b7383798",
   "metadata": {},
   "source": [
    "nombre_infected       809\n",
    "nombre_sain          1714\n",
    "nombre_exposed        356\n",
    "nombre_recovered    17121\n",
    "Name: 179, dtype: int64"
   ]
  },
  {
   "cell_type": "markdown",
   "id": "809b1fa8",
   "metadata": {},
   "source": [
    "nombre_infected       810\n",
    "nombre_sain          1714\n",
    "nombre_exposed        360\n",
    "nombre_recovered    17116\n",
    "Name: 180, dtype: int64"
   ]
  },
  {
   "cell_type": "markdown",
   "id": "fbf14a15",
   "metadata": {},
   "source": [
    "nombre_infected       809\n",
    "nombre_sain          1715\n",
    "nombre_exposed        346\n",
    "nombre_recovered    17130\n",
    "Name: 181, dtype: int64"
   ]
  },
  {
   "cell_type": "markdown",
   "id": "b50fc29e",
   "metadata": {},
   "source": [
    "nombre_infected       804\n",
    "nombre_sain          1725\n",
    "nombre_exposed        335\n",
    "nombre_recovered    17136\n",
    "Name: 182, dtype: int64"
   ]
  },
  {
   "cell_type": "markdown",
   "id": "67544e6f",
   "metadata": {},
   "source": [
    "nombre_infected       790\n",
    "nombre_sain          1736\n",
    "nombre_exposed        341\n",
    "nombre_recovered    17133\n",
    "Name: 183, dtype: int64"
   ]
  },
  {
   "cell_type": "markdown",
   "id": "f2bb02ce",
   "metadata": {},
   "source": [
    "nombre_infected       783\n",
    "nombre_sain          1754\n",
    "nombre_exposed        340\n",
    "nombre_recovered    17123\n",
    "Name: 184, dtype: int64"
   ]
  },
  {
   "cell_type": "markdown",
   "id": "3e41da6c",
   "metadata": {},
   "source": [
    "nombre_infected       774\n",
    "nombre_sain          1767\n",
    "nombre_exposed        340\n",
    "nombre_recovered    17119\n",
    "Name: 185, dtype: int64"
   ]
  },
  {
   "cell_type": "markdown",
   "id": "da4308e3",
   "metadata": {},
   "source": [
    "nombre_infected       752\n",
    "nombre_sain          1787\n",
    "nombre_exposed        352\n",
    "nombre_recovered    17109\n",
    "Name: 186, dtype: int64"
   ]
  },
  {
   "cell_type": "markdown",
   "id": "9660b39b",
   "metadata": {},
   "source": [
    "nombre_infected       761\n",
    "nombre_sain          1795\n",
    "nombre_exposed        351\n",
    "nombre_recovered    17093\n",
    "Name: 187, dtype: int64"
   ]
  },
  {
   "cell_type": "markdown",
   "id": "3a9703aa",
   "metadata": {},
   "source": [
    "nombre_infected       768\n",
    "nombre_sain          1784\n",
    "nombre_exposed        358\n",
    "nombre_recovered    17090\n",
    "Name: 188, dtype: int64"
   ]
  },
  {
   "cell_type": "markdown",
   "id": "5ce87af3",
   "metadata": {},
   "source": [
    "nombre_infected       768\n",
    "nombre_sain          1824\n",
    "nombre_exposed        357\n",
    "nombre_recovered    17051\n",
    "Name: 189, dtype: int64"
   ]
  },
  {
   "cell_type": "markdown",
   "id": "558d20ea",
   "metadata": {},
   "source": [
    "nombre_infected       750\n",
    "nombre_sain          1822\n",
    "nombre_exposed        369\n",
    "nombre_recovered    17059\n",
    "Name: 190, dtype: int64"
   ]
  },
  {
   "cell_type": "markdown",
   "id": "cbe05974",
   "metadata": {},
   "source": [
    "nombre_infected       735\n",
    "nombre_sain          1851\n",
    "nombre_exposed        374\n",
    "nombre_recovered    17040\n",
    "Name: 191, dtype: int64"
   ]
  },
  {
   "cell_type": "markdown",
   "id": "4547b8e0",
   "metadata": {},
   "source": [
    "nombre_infected       730\n",
    "nombre_sain          1886\n",
    "nombre_exposed        365\n",
    "nombre_recovered    17019\n",
    "Name: 192, dtype: int64"
   ]
  },
  {
   "cell_type": "markdown",
   "id": "7a208687",
   "metadata": {},
   "source": [
    "nombre_infected       728\n",
    "nombre_sain          1888\n",
    "nombre_exposed        371\n",
    "nombre_recovered    17013\n",
    "Name: 193, dtype: int64"
   ]
  },
  {
   "cell_type": "markdown",
   "id": "1cf6f096",
   "metadata": {},
   "source": [
    "nombre_infected       747\n",
    "nombre_sain          1906\n",
    "nombre_exposed        360\n",
    "nombre_recovered    16987\n",
    "Name: 194, dtype: int64"
   ]
  },
  {
   "cell_type": "markdown",
   "id": "b41fdf28",
   "metadata": {},
   "source": [
    "nombre_infected       744\n",
    "nombre_sain          1918\n",
    "nombre_exposed        365\n",
    "nombre_recovered    16973\n",
    "Name: 195, dtype: int64"
   ]
  },
  {
   "cell_type": "markdown",
   "id": "4e9a4760",
   "metadata": {},
   "source": [
    "nombre_infected       716\n",
    "nombre_sain          1957\n",
    "nombre_exposed        378\n",
    "nombre_recovered    16949\n",
    "Name: 196, dtype: int64"
   ]
  },
  {
   "cell_type": "markdown",
   "id": "4a3e1ae1",
   "metadata": {},
   "source": [
    "nombre_infected       709\n",
    "nombre_sain          1977\n",
    "nombre_exposed        382\n",
    "nombre_recovered    16932\n",
    "Name: 197, dtype: int64"
   ]
  },
  {
   "cell_type": "markdown",
   "id": "a7f87608",
   "metadata": {},
   "source": [
    "nombre_infected       722\n",
    "nombre_sain          1997\n",
    "nombre_exposed        381\n",
    "nombre_recovered    16900\n",
    "Name: 198, dtype: int64"
   ]
  },
  {
   "cell_type": "markdown",
   "id": "9b9dedda",
   "metadata": {},
   "source": [
    "nombre_infected       717\n",
    "nombre_sain          2009\n",
    "nombre_exposed        383\n",
    "nombre_recovered    16891\n",
    "Name: 199, dtype: int64"
   ]
  },
  {
   "cell_type": "markdown",
   "id": "8754c3d2",
   "metadata": {},
   "source": [
    "nombre_infected       724\n",
    "nombre_sain          2014\n",
    "nombre_exposed        398\n",
    "nombre_recovered    16864\n",
    "Name: 200, dtype: int64"
   ]
  },
  {
   "cell_type": "markdown",
   "id": "a0314402",
   "metadata": {},
   "source": [
    "nombre_infected       728\n",
    "nombre_sain          2054\n",
    "nombre_exposed        400\n",
    "nombre_recovered    16818\n",
    "Name: 201, dtype: int64"
   ]
  },
  {
   "cell_type": "markdown",
   "id": "e03e75d9",
   "metadata": {},
   "source": [
    "nombre_infected       735\n",
    "nombre_sain          2074\n",
    "nombre_exposed        403\n",
    "nombre_recovered    16788\n",
    "Name: 202, dtype: int64"
   ]
  },
  {
   "cell_type": "markdown",
   "id": "b05b489c",
   "metadata": {},
   "source": [
    "nombre_infected       746\n",
    "nombre_sain          2107\n",
    "nombre_exposed        399\n",
    "nombre_recovered    16748\n",
    "Name: 203, dtype: int64"
   ]
  },
  {
   "cell_type": "markdown",
   "id": "a6b9d476",
   "metadata": {},
   "source": [
    "nombre_infected       756\n",
    "nombre_sain          2115\n",
    "nombre_exposed        408\n",
    "nombre_recovered    16721\n",
    "Name: 204, dtype: int64"
   ]
  },
  {
   "cell_type": "markdown",
   "id": "a665a47c",
   "metadata": {},
   "source": [
    "nombre_infected       746\n",
    "nombre_sain          2131\n",
    "nombre_exposed        417\n",
    "nombre_recovered    16706\n",
    "Name: 205, dtype: int64"
   ]
  },
  {
   "cell_type": "markdown",
   "id": "9d1eeb70",
   "metadata": {},
   "source": [
    "nombre_infected       770\n",
    "nombre_sain          2146\n",
    "nombre_exposed        405\n",
    "nombre_recovered    16679\n",
    "Name: 206, dtype: int64"
   ]
  },
  {
   "cell_type": "markdown",
   "id": "6804834d",
   "metadata": {},
   "source": [
    "nombre_infected       761\n",
    "nombre_sain          2178\n",
    "nombre_exposed        421\n",
    "nombre_recovered    16640\n",
    "Name: 207, dtype: int64"
   ]
  },
  {
   "cell_type": "markdown",
   "id": "49135b7f",
   "metadata": {},
   "source": [
    "nombre_infected       733\n",
    "nombre_sain          2200\n",
    "nombre_exposed        431\n",
    "nombre_recovered    16636\n",
    "Name: 208, dtype: int64"
   ]
  },
  {
   "cell_type": "markdown",
   "id": "ba18f6c8",
   "metadata": {},
   "source": [
    "nombre_infected       733\n",
    "nombre_sain          2245\n",
    "nombre_exposed        417\n",
    "nombre_recovered    16605\n",
    "Name: 209, dtype: int64"
   ]
  },
  {
   "cell_type": "markdown",
   "id": "ea6e71c8",
   "metadata": {},
   "source": [
    "nombre_infected       741\n",
    "nombre_sain          2284\n",
    "nombre_exposed        430\n",
    "nombre_recovered    16545\n",
    "Name: 210, dtype: int64"
   ]
  },
  {
   "cell_type": "markdown",
   "id": "3982c9e7",
   "metadata": {},
   "source": [
    "nombre_infected       756\n",
    "nombre_sain          2321\n",
    "nombre_exposed        432\n",
    "nombre_recovered    16491\n",
    "Name: 211, dtype: int64"
   ]
  },
  {
   "cell_type": "markdown",
   "id": "1fbe5b70",
   "metadata": {},
   "source": [
    "nombre_infected       771\n",
    "nombre_sain          2330\n",
    "nombre_exposed        433\n",
    "nombre_recovered    16466\n",
    "Name: 212, dtype: int64"
   ]
  },
  {
   "cell_type": "markdown",
   "id": "43cc31bd",
   "metadata": {},
   "source": [
    "nombre_infected       787\n",
    "nombre_sain          2343\n",
    "nombre_exposed        458\n",
    "nombre_recovered    16412\n",
    "Name: 213, dtype: int64"
   ]
  },
  {
   "cell_type": "markdown",
   "id": "283d0379",
   "metadata": {},
   "source": [
    "nombre_infected       797\n",
    "nombre_sain          2360\n",
    "nombre_exposed        469\n",
    "nombre_recovered    16374\n",
    "Name: 214, dtype: int64"
   ]
  },
  {
   "cell_type": "markdown",
   "id": "b74711a2",
   "metadata": {},
   "source": [
    "nombre_infected       811\n",
    "nombre_sain          2379\n",
    "nombre_exposed        491\n",
    "nombre_recovered    16319\n",
    "Name: 215, dtype: int64"
   ]
  },
  {
   "cell_type": "markdown",
   "id": "a94cf223",
   "metadata": {},
   "source": [
    "nombre_infected       827\n",
    "nombre_sain          2375\n",
    "nombre_exposed        504\n",
    "nombre_recovered    16294\n",
    "Name: 216, dtype: int64"
   ]
  },
  {
   "cell_type": "markdown",
   "id": "1b53f8d2",
   "metadata": {},
   "source": [
    "nombre_infected       847\n",
    "nombre_sain          2401\n",
    "nombre_exposed        515\n",
    "nombre_recovered    16237\n",
    "Name: 217, dtype: int64"
   ]
  },
  {
   "cell_type": "markdown",
   "id": "db1b6f28",
   "metadata": {},
   "source": [
    "nombre_infected       834\n",
    "nombre_sain          2380\n",
    "nombre_exposed        554\n",
    "nombre_recovered    16232\n",
    "Name: 218, dtype: int64"
   ]
  },
  {
   "cell_type": "markdown",
   "id": "14cf3655",
   "metadata": {},
   "source": [
    "nombre_infected       834\n",
    "nombre_sain          2394\n",
    "nombre_exposed        547\n",
    "nombre_recovered    16225\n",
    "Name: 219, dtype: int64"
   ]
  },
  {
   "cell_type": "markdown",
   "id": "2fbf5682",
   "metadata": {},
   "source": [
    "nombre_infected       848\n",
    "nombre_sain          2399\n",
    "nombre_exposed        546\n",
    "nombre_recovered    16207\n",
    "Name: 220, dtype: int64"
   ]
  },
  {
   "cell_type": "markdown",
   "id": "6b4c655b",
   "metadata": {},
   "source": [
    "nombre_infected       840\n",
    "nombre_sain          2399\n",
    "nombre_exposed        556\n",
    "nombre_recovered    16205\n",
    "Name: 221, dtype: int64"
   ]
  },
  {
   "cell_type": "markdown",
   "id": "b28af35e",
   "metadata": {},
   "source": [
    "nombre_infected       848\n",
    "nombre_sain          2383\n",
    "nombre_exposed        584\n",
    "nombre_recovered    16185\n",
    "Name: 222, dtype: int64"
   ]
  },
  {
   "cell_type": "markdown",
   "id": "461ad7cd",
   "metadata": {},
   "source": [
    "nombre_infected       885\n",
    "nombre_sain          2408\n",
    "nombre_exposed        562\n",
    "nombre_recovered    16145\n",
    "Name: 223, dtype: int64"
   ]
  },
  {
   "cell_type": "markdown",
   "id": "74533ffd",
   "metadata": {},
   "source": [
    "nombre_infected       900\n",
    "nombre_sain          2388\n",
    "nombre_exposed        555\n",
    "nombre_recovered    16157\n",
    "Name: 224, dtype: int64"
   ]
  },
  {
   "cell_type": "markdown",
   "id": "27e6d11d",
   "metadata": {},
   "source": [
    "nombre_infected       914\n",
    "nombre_sain          2372\n",
    "nombre_exposed        556\n",
    "nombre_recovered    16158\n",
    "Name: 225, dtype: int64"
   ]
  },
  {
   "cell_type": "markdown",
   "id": "7824e158",
   "metadata": {},
   "source": [
    "nombre_infected       937\n",
    "nombre_sain          2365\n",
    "nombre_exposed        557\n",
    "nombre_recovered    16141\n",
    "Name: 226, dtype: int64"
   ]
  },
  {
   "cell_type": "markdown",
   "id": "011e3e91",
   "metadata": {},
   "source": [
    "nombre_infected       933\n",
    "nombre_sain          2342\n",
    "nombre_exposed        587\n",
    "nombre_recovered    16138\n",
    "Name: 227, dtype: int64"
   ]
  },
  {
   "cell_type": "markdown",
   "id": "3042ed55",
   "metadata": {},
   "source": [
    "nombre_infected       936\n",
    "nombre_sain          2327\n",
    "nombre_exposed        606\n",
    "nombre_recovered    16131\n",
    "Name: 228, dtype: int64"
   ]
  },
  {
   "cell_type": "markdown",
   "id": "91832521",
   "metadata": {},
   "source": [
    "nombre_infected       973\n",
    "nombre_sain          2299\n",
    "nombre_exposed        603\n",
    "nombre_recovered    16125\n",
    "Name: 229, dtype: int64"
   ]
  },
  {
   "cell_type": "markdown",
   "id": "39b7bae5",
   "metadata": {},
   "source": [
    "nombre_infected       996\n",
    "nombre_sain          2250\n",
    "nombre_exposed        631\n",
    "nombre_recovered    16123\n",
    "Name: 230, dtype: int64"
   ]
  },
  {
   "cell_type": "markdown",
   "id": "519ebb8c",
   "metadata": {},
   "source": [
    "nombre_infected      1011\n",
    "nombre_sain          2236\n",
    "nombre_exposed        617\n",
    "nombre_recovered    16136\n",
    "Name: 231, dtype: int64"
   ]
  },
  {
   "cell_type": "markdown",
   "id": "9be0ed00",
   "metadata": {},
   "source": [
    "nombre_infected      1028\n",
    "nombre_sain          2173\n",
    "nombre_exposed        628\n",
    "nombre_recovered    16171\n",
    "Name: 232, dtype: int64"
   ]
  },
  {
   "cell_type": "markdown",
   "id": "322dda9a",
   "metadata": {},
   "source": [
    "nombre_infected      1042\n",
    "nombre_sain          2152\n",
    "nombre_exposed        649\n",
    "nombre_recovered    16157\n",
    "Name: 233, dtype: int64"
   ]
  },
  {
   "cell_type": "markdown",
   "id": "6d383d5e",
   "metadata": {},
   "source": [
    "nombre_infected      1080\n",
    "nombre_sain          2125\n",
    "nombre_exposed        611\n",
    "nombre_recovered    16184\n",
    "Name: 234, dtype: int64"
   ]
  },
  {
   "cell_type": "markdown",
   "id": "9e12e901",
   "metadata": {},
   "source": [
    "nombre_infected      1102\n",
    "nombre_sain          2107\n",
    "nombre_exposed        585\n",
    "nombre_recovered    16206\n",
    "Name: 235, dtype: int64"
   ]
  },
  {
   "cell_type": "markdown",
   "id": "76aca113",
   "metadata": {},
   "source": [
    "nombre_infected      1102\n",
    "nombre_sain          2103\n",
    "nombre_exposed        564\n",
    "nombre_recovered    16231\n",
    "Name: 236, dtype: int64"
   ]
  },
  {
   "cell_type": "markdown",
   "id": "274d49d4",
   "metadata": {},
   "source": [
    "nombre_infected      1099\n",
    "nombre_sain          2063\n",
    "nombre_exposed        581\n",
    "nombre_recovered    16257\n",
    "Name: 237, dtype: int64"
   ]
  },
  {
   "cell_type": "markdown",
   "id": "20cf6544",
   "metadata": {},
   "source": [
    "nombre_infected      1091\n",
    "nombre_sain          2020\n",
    "nombre_exposed        596\n",
    "nombre_recovered    16293\n",
    "Name: 238, dtype: int64"
   ]
  },
  {
   "cell_type": "markdown",
   "id": "18cfe14f",
   "metadata": {},
   "source": [
    "nombre_infected      1115\n",
    "nombre_sain          2007\n",
    "nombre_exposed        600\n",
    "nombre_recovered    16278\n",
    "Name: 239, dtype: int64"
   ]
  },
  {
   "cell_type": "markdown",
   "id": "0f708298",
   "metadata": {},
   "source": [
    "nombre_infected      1090\n",
    "nombre_sain          2008\n",
    "nombre_exposed        587\n",
    "nombre_recovered    16315\n",
    "Name: 240, dtype: int64"
   ]
  },
  {
   "cell_type": "markdown",
   "id": "e5b91902",
   "metadata": {},
   "source": [
    "nombre_infected      1092\n",
    "nombre_sain          1969\n",
    "nombre_exposed        600\n",
    "nombre_recovered    16339\n",
    "Name: 241, dtype: int64"
   ]
  },
  {
   "cell_type": "markdown",
   "id": "c06f34eb",
   "metadata": {},
   "source": [
    "nombre_infected      1104\n",
    "nombre_sain          1957\n",
    "nombre_exposed        602\n",
    "nombre_recovered    16337\n",
    "Name: 242, dtype: int64"
   ]
  },
  {
   "cell_type": "markdown",
   "id": "380ddfda",
   "metadata": {},
   "source": [
    "nombre_infected      1102\n",
    "nombre_sain          1971\n",
    "nombre_exposed        589\n",
    "nombre_recovered    16338\n",
    "Name: 243, dtype: int64"
   ]
  },
  {
   "cell_type": "markdown",
   "id": "a0367b05",
   "metadata": {},
   "source": [
    "nombre_infected      1120\n",
    "nombre_sain          1945\n",
    "nombre_exposed        582\n",
    "nombre_recovered    16353\n",
    "Name: 244, dtype: int64"
   ]
  },
  {
   "cell_type": "markdown",
   "id": "49644bfb",
   "metadata": {},
   "source": [
    "nombre_infected      1145\n",
    "nombre_sain          1953\n",
    "nombre_exposed        564\n",
    "nombre_recovered    16338\n",
    "Name: 245, dtype: int64"
   ]
  },
  {
   "cell_type": "markdown",
   "id": "3e552763",
   "metadata": {},
   "source": [
    "nombre_infected      1145\n",
    "nombre_sain          1962\n",
    "nombre_exposed        561\n",
    "nombre_recovered    16332\n",
    "Name: 246, dtype: int64"
   ]
  },
  {
   "cell_type": "markdown",
   "id": "74e5662b",
   "metadata": {},
   "source": [
    "nombre_infected      1124\n",
    "nombre_sain          1983\n",
    "nombre_exposed        541\n",
    "nombre_recovered    16352\n",
    "Name: 247, dtype: int64"
   ]
  },
  {
   "cell_type": "markdown",
   "id": "aca26f08",
   "metadata": {},
   "source": [
    "nombre_infected      1110\n",
    "nombre_sain          2001\n",
    "nombre_exposed        533\n",
    "nombre_recovered    16356\n",
    "Name: 248, dtype: int64"
   ]
  },
  {
   "cell_type": "markdown",
   "id": "c54c95b6",
   "metadata": {},
   "source": [
    "nombre_infected      1103\n",
    "nombre_sain          2001\n",
    "nombre_exposed        542\n",
    "nombre_recovered    16354\n",
    "Name: 249, dtype: int64"
   ]
  },
  {
   "cell_type": "markdown",
   "id": "d5b2e364",
   "metadata": {},
   "source": [
    "nombre_infected      1086\n",
    "nombre_sain          1997\n",
    "nombre_exposed        533\n",
    "nombre_recovered    16384\n",
    "Name: 250, dtype: int64"
   ]
  },
  {
   "cell_type": "markdown",
   "id": "35f3cc37",
   "metadata": {},
   "source": [
    "nombre_infected      1109\n",
    "nombre_sain          1991\n",
    "nombre_exposed        543\n",
    "nombre_recovered    16357\n",
    "Name: 251, dtype: int64"
   ]
  },
  {
   "cell_type": "markdown",
   "id": "cb392d4a",
   "metadata": {},
   "source": [
    "nombre_infected      1079\n",
    "nombre_sain          1966\n",
    "nombre_exposed        562\n",
    "nombre_recovered    16393\n",
    "Name: 252, dtype: int64"
   ]
  },
  {
   "cell_type": "markdown",
   "id": "f0c5c369",
   "metadata": {},
   "source": [
    "nombre_infected      1062\n",
    "nombre_sain          1986\n",
    "nombre_exposed        542\n",
    "nombre_recovered    16410\n",
    "Name: 253, dtype: int64"
   ]
  },
  {
   "cell_type": "markdown",
   "id": "8e6607ba",
   "metadata": {},
   "source": [
    "nombre_infected      1063\n",
    "nombre_sain          1994\n",
    "nombre_exposed        528\n",
    "nombre_recovered    16415\n",
    "Name: 254, dtype: int64"
   ]
  },
  {
   "cell_type": "markdown",
   "id": "1fa47a28",
   "metadata": {},
   "source": [
    "nombre_infected      1053\n",
    "nombre_sain          2006\n",
    "nombre_exposed        521\n",
    "nombre_recovered    16420\n",
    "Name: 255, dtype: int64"
   ]
  },
  {
   "cell_type": "markdown",
   "id": "5c76d02b",
   "metadata": {},
   "source": [
    "nombre_infected      1065\n",
    "nombre_sain          1990\n",
    "nombre_exposed        511\n",
    "nombre_recovered    16434\n",
    "Name: 256, dtype: int64"
   ]
  },
  {
   "cell_type": "markdown",
   "id": "415fd902",
   "metadata": {},
   "source": [
    "nombre_infected      1067\n",
    "nombre_sain          1989\n",
    "nombre_exposed        514\n",
    "nombre_recovered    16430\n",
    "Name: 257, dtype: int64"
   ]
  },
  {
   "cell_type": "markdown",
   "id": "a80384b1",
   "metadata": {},
   "source": [
    "nombre_infected      1067\n",
    "nombre_sain          1955\n",
    "nombre_exposed        542\n",
    "nombre_recovered    16436\n",
    "Name: 258, dtype: int64"
   ]
  },
  {
   "cell_type": "markdown",
   "id": "a7175d1e",
   "metadata": {},
   "source": [
    "nombre_infected      1063\n",
    "nombre_sain          1967\n",
    "nombre_exposed        541\n",
    "nombre_recovered    16429\n",
    "Name: 259, dtype: int64"
   ]
  },
  {
   "cell_type": "markdown",
   "id": "3056ff45",
   "metadata": {},
   "source": [
    "nombre_infected      1072\n",
    "nombre_sain          1978\n",
    "nombre_exposed        541\n",
    "nombre_recovered    16409\n",
    "Name: 260, dtype: int64"
   ]
  },
  {
   "cell_type": "markdown",
   "id": "0c3e4d81",
   "metadata": {},
   "source": [
    "nombre_infected      1069\n",
    "nombre_sain          1971\n",
    "nombre_exposed        559\n",
    "nombre_recovered    16401\n",
    "Name: 261, dtype: int64"
   ]
  },
  {
   "cell_type": "markdown",
   "id": "5b71c25e",
   "metadata": {},
   "source": [
    "nombre_infected      1073\n",
    "nombre_sain          1967\n",
    "nombre_exposed        581\n",
    "nombre_recovered    16379\n",
    "Name: 262, dtype: int64"
   ]
  },
  {
   "cell_type": "markdown",
   "id": "df078505",
   "metadata": {},
   "source": [
    "nombre_infected      1066\n",
    "nombre_sain          1972\n",
    "nombre_exposed        616\n",
    "nombre_recovered    16346\n",
    "Name: 263, dtype: int64"
   ]
  },
  {
   "cell_type": "markdown",
   "id": "954b20b1",
   "metadata": {},
   "source": [
    "nombre_infected      1070\n",
    "nombre_sain          1985\n",
    "nombre_exposed        618\n",
    "nombre_recovered    16327\n",
    "Name: 264, dtype: int64"
   ]
  },
  {
   "cell_type": "markdown",
   "id": "f11da6d2",
   "metadata": {},
   "source": [
    "nombre_infected      1114\n",
    "nombre_sain          1995\n",
    "nombre_exposed        611\n",
    "nombre_recovered    16280\n",
    "Name: 265, dtype: int64"
   ]
  },
  {
   "cell_type": "markdown",
   "id": "14d4837a",
   "metadata": {},
   "source": [
    "nombre_infected      1142\n",
    "nombre_sain          2009\n",
    "nombre_exposed        603\n",
    "nombre_recovered    16246\n",
    "Name: 266, dtype: int64"
   ]
  },
  {
   "cell_type": "markdown",
   "id": "27de3fed",
   "metadata": {},
   "source": [
    "nombre_infected      1155\n",
    "nombre_sain          2012\n",
    "nombre_exposed        604\n",
    "nombre_recovered    16229\n",
    "Name: 267, dtype: int64"
   ]
  },
  {
   "cell_type": "markdown",
   "id": "2022de76",
   "metadata": {},
   "source": [
    "nombre_infected      1153\n",
    "nombre_sain          1970\n",
    "nombre_exposed        655\n",
    "nombre_recovered    16222\n",
    "Name: 268, dtype: int64"
   ]
  },
  {
   "cell_type": "markdown",
   "id": "7bf24aea",
   "metadata": {},
   "source": [
    "nombre_infected      1161\n",
    "nombre_sain          1946\n",
    "nombre_exposed        666\n",
    "nombre_recovered    16227\n",
    "Name: 269, dtype: int64"
   ]
  },
  {
   "cell_type": "markdown",
   "id": "9884a888",
   "metadata": {},
   "source": [
    "nombre_infected      1175\n",
    "nombre_sain          1923\n",
    "nombre_exposed        657\n",
    "nombre_recovered    16245\n",
    "Name: 270, dtype: int64"
   ]
  },
  {
   "cell_type": "markdown",
   "id": "33a77695",
   "metadata": {},
   "source": [
    "nombre_infected      1194\n",
    "nombre_sain          1911\n",
    "nombre_exposed        645\n",
    "nombre_recovered    16250\n",
    "Name: 271, dtype: int64"
   ]
  },
  {
   "cell_type": "markdown",
   "id": "7a0f0497",
   "metadata": {},
   "source": [
    "nombre_infected      1184\n",
    "nombre_sain          1893\n",
    "nombre_exposed        655\n",
    "nombre_recovered    16268\n",
    "Name: 272, dtype: int64"
   ]
  },
  {
   "cell_type": "markdown",
   "id": "4082646a",
   "metadata": {},
   "source": [
    "nombre_infected      1197\n",
    "nombre_sain          1846\n",
    "nombre_exposed        665\n",
    "nombre_recovered    16292\n",
    "Name: 273, dtype: int64"
   ]
  },
  {
   "cell_type": "markdown",
   "id": "1668ca0e",
   "metadata": {},
   "source": [
    "nombre_infected      1188\n",
    "nombre_sain          1819\n",
    "nombre_exposed        684\n",
    "nombre_recovered    16309\n",
    "Name: 274, dtype: int64"
   ]
  },
  {
   "cell_type": "markdown",
   "id": "e349c66e",
   "metadata": {},
   "source": [
    "nombre_infected      1201\n",
    "nombre_sain          1826\n",
    "nombre_exposed        667\n",
    "nombre_recovered    16306\n",
    "Name: 275, dtype: int64"
   ]
  },
  {
   "cell_type": "markdown",
   "id": "1d99d584",
   "metadata": {},
   "source": [
    "nombre_infected      1234\n",
    "nombre_sain          1812\n",
    "nombre_exposed        659\n",
    "nombre_recovered    16295\n",
    "Name: 276, dtype: int64"
   ]
  },
  {
   "cell_type": "markdown",
   "id": "d25a3d6d",
   "metadata": {},
   "source": [
    "nombre_infected      1217\n",
    "nombre_sain          1818\n",
    "nombre_exposed        661\n",
    "nombre_recovered    16304\n",
    "Name: 277, dtype: int64"
   ]
  },
  {
   "cell_type": "markdown",
   "id": "790ba1b6",
   "metadata": {},
   "source": [
    "nombre_infected      1193\n",
    "nombre_sain          1848\n",
    "nombre_exposed        656\n",
    "nombre_recovered    16303\n",
    "Name: 278, dtype: int64"
   ]
  },
  {
   "cell_type": "markdown",
   "id": "09e2c8cc",
   "metadata": {},
   "source": [
    "nombre_infected      1196\n",
    "nombre_sain          1806\n",
    "nombre_exposed        650\n",
    "nombre_recovered    16348\n",
    "Name: 279, dtype: int64"
   ]
  },
  {
   "cell_type": "markdown",
   "id": "7fc72f0c",
   "metadata": {},
   "source": [
    "nombre_infected      1187\n",
    "nombre_sain          1801\n",
    "nombre_exposed        656\n",
    "nombre_recovered    16356\n",
    "Name: 280, dtype: int64"
   ]
  },
  {
   "cell_type": "markdown",
   "id": "63c0e9a8",
   "metadata": {},
   "source": [
    "nombre_infected      1198\n",
    "nombre_sain          1799\n",
    "nombre_exposed        650\n",
    "nombre_recovered    16353\n",
    "Name: 281, dtype: int64"
   ]
  },
  {
   "cell_type": "markdown",
   "id": "6ad3b3da",
   "metadata": {},
   "source": [
    "nombre_infected      1189\n",
    "nombre_sain          1825\n",
    "nombre_exposed        637\n",
    "nombre_recovered    16349\n",
    "Name: 282, dtype: int64"
   ]
  },
  {
   "cell_type": "markdown",
   "id": "88810b29",
   "metadata": {},
   "source": [
    "nombre_infected      1205\n",
    "nombre_sain          1814\n",
    "nombre_exposed        630\n",
    "nombre_recovered    16351\n",
    "Name: 283, dtype: int64"
   ]
  },
  {
   "cell_type": "markdown",
   "id": "921a5da4",
   "metadata": {},
   "source": [
    "nombre_infected      1198\n",
    "nombre_sain          1801\n",
    "nombre_exposed        628\n",
    "nombre_recovered    16373\n",
    "Name: 284, dtype: int64"
   ]
  },
  {
   "cell_type": "markdown",
   "id": "39ecd4c8",
   "metadata": {},
   "source": [
    "nombre_infected      1191\n",
    "nombre_sain          1787\n",
    "nombre_exposed        649\n",
    "nombre_recovered    16373\n",
    "Name: 285, dtype: int64"
   ]
  },
  {
   "cell_type": "markdown",
   "id": "205b15ab",
   "metadata": {},
   "source": [
    "nombre_infected      1194\n",
    "nombre_sain          1782\n",
    "nombre_exposed        645\n",
    "nombre_recovered    16379\n",
    "Name: 286, dtype: int64"
   ]
  },
  {
   "cell_type": "markdown",
   "id": "82844ebf",
   "metadata": {},
   "source": [
    "nombre_infected      1174\n",
    "nombre_sain          1800\n",
    "nombre_exposed        645\n",
    "nombre_recovered    16381\n",
    "Name: 287, dtype: int64"
   ]
  },
  {
   "cell_type": "markdown",
   "id": "002f784a",
   "metadata": {},
   "source": [
    "nombre_infected      1172\n",
    "nombre_sain          1807\n",
    "nombre_exposed        626\n",
    "nombre_recovered    16395\n",
    "Name: 288, dtype: int64"
   ]
  },
  {
   "cell_type": "markdown",
   "id": "38e98a0a",
   "metadata": {},
   "source": [
    "nombre_infected      1187\n",
    "nombre_sain          1791\n",
    "nombre_exposed        619\n",
    "nombre_recovered    16403\n",
    "Name: 289, dtype: int64"
   ]
  },
  {
   "cell_type": "markdown",
   "id": "4d81298f",
   "metadata": {},
   "source": [
    "nombre_infected      1202\n",
    "nombre_sain          1812\n",
    "nombre_exposed        627\n",
    "nombre_recovered    16359\n",
    "Name: 290, dtype: int64"
   ]
  },
  {
   "cell_type": "markdown",
   "id": "4d24b257",
   "metadata": {},
   "source": [
    "nombre_infected      1196\n",
    "nombre_sain          1831\n",
    "nombre_exposed        606\n",
    "nombre_recovered    16367\n",
    "Name: 291, dtype: int64"
   ]
  },
  {
   "cell_type": "markdown",
   "id": "e35421db",
   "metadata": {},
   "source": [
    "nombre_infected      1179\n",
    "nombre_sain          1847\n",
    "nombre_exposed        603\n",
    "nombre_recovered    16371\n",
    "Name: 292, dtype: int64"
   ]
  },
  {
   "cell_type": "markdown",
   "id": "1a61019e",
   "metadata": {},
   "source": [
    "nombre_infected      1166\n",
    "nombre_sain          1833\n",
    "nombre_exposed        620\n",
    "nombre_recovered    16381\n",
    "Name: 293, dtype: int64"
   ]
  },
  {
   "cell_type": "markdown",
   "id": "3c408396",
   "metadata": {},
   "source": [
    "nombre_infected      1160\n",
    "nombre_sain          1831\n",
    "nombre_exposed        626\n",
    "nombre_recovered    16383\n",
    "Name: 294, dtype: int64"
   ]
  },
  {
   "cell_type": "markdown",
   "id": "9a8cc6a8",
   "metadata": {},
   "source": [
    "nombre_infected      1152\n",
    "nombre_sain          1840\n",
    "nombre_exposed        608\n",
    "nombre_recovered    16400\n",
    "Name: 295, dtype: int64"
   ]
  },
  {
   "cell_type": "markdown",
   "id": "3161a8b1",
   "metadata": {},
   "source": [
    "nombre_infected      1161\n",
    "nombre_sain          1833\n",
    "nombre_exposed        609\n",
    "nombre_recovered    16397\n",
    "Name: 296, dtype: int64"
   ]
  },
  {
   "cell_type": "markdown",
   "id": "9979c5be",
   "metadata": {},
   "source": [
    "nombre_infected      1173\n",
    "nombre_sain          1837\n",
    "nombre_exposed        585\n",
    "nombre_recovered    16405\n",
    "Name: 297, dtype: int64"
   ]
  },
  {
   "cell_type": "markdown",
   "id": "158f19d4",
   "metadata": {},
   "source": [
    "nombre_infected      1166\n",
    "nombre_sain          1868\n",
    "nombre_exposed        565\n",
    "nombre_recovered    16401\n",
    "Name: 298, dtype: int64"
   ]
  },
  {
   "cell_type": "markdown",
   "id": "8bfab8b9",
   "metadata": {},
   "source": [
    "nombre_infected      1155\n",
    "nombre_sain          1872\n",
    "nombre_exposed        579\n",
    "nombre_recovered    16394\n",
    "Name: 299, dtype: int64"
   ]
  },
  {
   "cell_type": "markdown",
   "id": "9b706a7c",
   "metadata": {},
   "source": [
    "nombre_infected      1131\n",
    "nombre_sain          1854\n",
    "nombre_exposed        615\n",
    "nombre_recovered    16400\n",
    "Name: 300, dtype: int64"
   ]
  },
  {
   "cell_type": "markdown",
   "id": "fa1eec4e",
   "metadata": {},
   "source": [
    "nombre_infected      1109\n",
    "nombre_sain          1849\n",
    "nombre_exposed        617\n",
    "nombre_recovered    16425\n",
    "Name: 301, dtype: int64"
   ]
  },
  {
   "cell_type": "markdown",
   "id": "2554416c",
   "metadata": {},
   "source": [
    "nombre_infected      1114\n",
    "nombre_sain          1841\n",
    "nombre_exposed        609\n",
    "nombre_recovered    16436\n",
    "Name: 302, dtype: int64"
   ]
  },
  {
   "cell_type": "markdown",
   "id": "306fc0dd",
   "metadata": {},
   "source": [
    "nombre_infected      1117\n",
    "nombre_sain          1837\n",
    "nombre_exposed        594\n",
    "nombre_recovered    16452\n",
    "Name: 303, dtype: int64"
   ]
  },
  {
   "cell_type": "markdown",
   "id": "d10c9767",
   "metadata": {},
   "source": [
    "nombre_infected      1104\n",
    "nombre_sain          1829\n",
    "nombre_exposed        580\n",
    "nombre_recovered    16487\n",
    "Name: 304, dtype: int64"
   ]
  },
  {
   "cell_type": "markdown",
   "id": "7fe2bca9",
   "metadata": {},
   "source": [
    "nombre_infected      1082\n",
    "nombre_sain          1830\n",
    "nombre_exposed        592\n",
    "nombre_recovered    16496\n",
    "Name: 305, dtype: int64"
   ]
  },
  {
   "cell_type": "markdown",
   "id": "5dac8f9b",
   "metadata": {},
   "source": [
    "nombre_infected      1063\n",
    "nombre_sain          1839\n",
    "nombre_exposed        587\n",
    "nombre_recovered    16511\n",
    "Name: 306, dtype: int64"
   ]
  },
  {
   "cell_type": "markdown",
   "id": "cde1bd4a",
   "metadata": {},
   "source": [
    "nombre_infected      1046\n",
    "nombre_sain          1813\n",
    "nombre_exposed        597\n",
    "nombre_recovered    16544\n",
    "Name: 307, dtype: int64"
   ]
  },
  {
   "cell_type": "markdown",
   "id": "52e9c4c8",
   "metadata": {},
   "source": [
    "nombre_infected      1047\n",
    "nombre_sain          1816\n",
    "nombre_exposed        574\n",
    "nombre_recovered    16563\n",
    "Name: 308, dtype: int64"
   ]
  },
  {
   "cell_type": "markdown",
   "id": "62a87eef",
   "metadata": {},
   "source": [
    "nombre_infected      1068\n",
    "nombre_sain          1834\n",
    "nombre_exposed        547\n",
    "nombre_recovered    16551\n",
    "Name: 309, dtype: int64"
   ]
  },
  {
   "cell_type": "markdown",
   "id": "02d04cd4",
   "metadata": {},
   "source": [
    "nombre_infected      1068\n",
    "nombre_sain          1813\n",
    "nombre_exposed        542\n",
    "nombre_recovered    16577\n",
    "Name: 310, dtype: int64"
   ]
  },
  {
   "cell_type": "markdown",
   "id": "d1e5f983",
   "metadata": {},
   "source": [
    "nombre_infected      1032\n",
    "nombre_sain          1837\n",
    "nombre_exposed        539\n",
    "nombre_recovered    16592\n",
    "Name: 311, dtype: int64"
   ]
  },
  {
   "cell_type": "markdown",
   "id": "594a83e7",
   "metadata": {},
   "source": [
    "nombre_infected      1009\n",
    "nombre_sain          1874\n",
    "nombre_exposed        513\n",
    "nombre_recovered    16604\n",
    "Name: 312, dtype: int64"
   ]
  },
  {
   "cell_type": "markdown",
   "id": "b54ed1ce",
   "metadata": {},
   "source": [
    "nombre_infected       988\n",
    "nombre_sain          1914\n",
    "nombre_exposed        519\n",
    "nombre_recovered    16579\n",
    "Name: 313, dtype: int64"
   ]
  },
  {
   "cell_type": "markdown",
   "id": "c9fa9b28",
   "metadata": {},
   "source": [
    "nombre_infected       981\n",
    "nombre_sain          1915\n",
    "nombre_exposed        517\n",
    "nombre_recovered    16587\n",
    "Name: 314, dtype: int64"
   ]
  },
  {
   "cell_type": "markdown",
   "id": "24d9f304",
   "metadata": {},
   "source": [
    "nombre_infected       968\n",
    "nombre_sain          1963\n",
    "nombre_exposed        515\n",
    "nombre_recovered    16554\n",
    "Name: 315, dtype: int64"
   ]
  },
  {
   "cell_type": "markdown",
   "id": "9c8f06c4",
   "metadata": {},
   "source": [
    "nombre_infected       943\n",
    "nombre_sain          1947\n",
    "nombre_exposed        522\n",
    "nombre_recovered    16588\n",
    "Name: 316, dtype: int64"
   ]
  },
  {
   "cell_type": "markdown",
   "id": "d2881de4",
   "metadata": {},
   "source": [
    "nombre_infected       947\n",
    "nombre_sain          1951\n",
    "nombre_exposed        523\n",
    "nombre_recovered    16579\n",
    "Name: 317, dtype: int64"
   ]
  },
  {
   "cell_type": "markdown",
   "id": "d165e731",
   "metadata": {},
   "source": [
    "nombre_infected       953\n",
    "nombre_sain          1977\n",
    "nombre_exposed        500\n",
    "nombre_recovered    16570\n",
    "Name: 318, dtype: int64"
   ]
  },
  {
   "cell_type": "markdown",
   "id": "49b46481",
   "metadata": {},
   "source": [
    "nombre_infected       940\n",
    "nombre_sain          1995\n",
    "nombre_exposed        523\n",
    "nombre_recovered    16542\n",
    "Name: 319, dtype: int64"
   ]
  },
  {
   "cell_type": "markdown",
   "id": "93362e48",
   "metadata": {},
   "source": [
    "nombre_infected       933\n",
    "nombre_sain          2028\n",
    "nombre_exposed        503\n",
    "nombre_recovered    16536\n",
    "Name: 320, dtype: int64"
   ]
  },
  {
   "cell_type": "markdown",
   "id": "573c76ed",
   "metadata": {},
   "source": [
    "nombre_infected       914\n",
    "nombre_sain          2005\n",
    "nombre_exposed        528\n",
    "nombre_recovered    16553\n",
    "Name: 321, dtype: int64"
   ]
  },
  {
   "cell_type": "markdown",
   "id": "07a93895",
   "metadata": {},
   "source": [
    "nombre_infected       902\n",
    "nombre_sain          2007\n",
    "nombre_exposed        508\n",
    "nombre_recovered    16583\n",
    "Name: 322, dtype: int64"
   ]
  },
  {
   "cell_type": "markdown",
   "id": "db214ed1",
   "metadata": {},
   "source": [
    "nombre_infected       907\n",
    "nombre_sain          2030\n",
    "nombre_exposed        509\n",
    "nombre_recovered    16554\n",
    "Name: 323, dtype: int64"
   ]
  },
  {
   "cell_type": "markdown",
   "id": "45e294e4",
   "metadata": {},
   "source": [
    "nombre_infected       905\n",
    "nombre_sain          2028\n",
    "nombre_exposed        507\n",
    "nombre_recovered    16560\n",
    "Name: 324, dtype: int64"
   ]
  },
  {
   "cell_type": "markdown",
   "id": "d3ad2cdb",
   "metadata": {},
   "source": [
    "nombre_infected       883\n",
    "nombre_sain          2057\n",
    "nombre_exposed        512\n",
    "nombre_recovered    16548\n",
    "Name: 325, dtype: int64"
   ]
  },
  {
   "cell_type": "markdown",
   "id": "b350b356",
   "metadata": {},
   "source": [
    "nombre_infected       887\n",
    "nombre_sain          2074\n",
    "nombre_exposed        507\n",
    "nombre_recovered    16532\n",
    "Name: 326, dtype: int64"
   ]
  },
  {
   "cell_type": "markdown",
   "id": "e9c8ae79",
   "metadata": {},
   "source": [
    "nombre_infected       873\n",
    "nombre_sain          2085\n",
    "nombre_exposed        499\n",
    "nombre_recovered    16543\n",
    "Name: 327, dtype: int64"
   ]
  },
  {
   "cell_type": "markdown",
   "id": "770b49af",
   "metadata": {},
   "source": [
    "nombre_infected       891\n",
    "nombre_sain          2093\n",
    "nombre_exposed        496\n",
    "nombre_recovered    16520\n",
    "Name: 328, dtype: int64"
   ]
  },
  {
   "cell_type": "markdown",
   "id": "011f6b9f",
   "metadata": {},
   "source": [
    "nombre_infected       875\n",
    "nombre_sain          2101\n",
    "nombre_exposed        530\n",
    "nombre_recovered    16494\n",
    "Name: 329, dtype: int64"
   ]
  },
  {
   "cell_type": "markdown",
   "id": "f7beb4a6",
   "metadata": {},
   "source": [
    "nombre_infected       862\n",
    "nombre_sain          2121\n",
    "nombre_exposed        535\n",
    "nombre_recovered    16482\n",
    "Name: 330, dtype: int64"
   ]
  },
  {
   "cell_type": "markdown",
   "id": "7d522da4",
   "metadata": {},
   "source": [
    "nombre_infected       890\n",
    "nombre_sain          2133\n",
    "nombre_exposed        538\n",
    "nombre_recovered    16439\n",
    "Name: 331, dtype: int64"
   ]
  },
  {
   "cell_type": "markdown",
   "id": "dcfd9daf",
   "metadata": {},
   "source": [
    "nombre_infected       881\n",
    "nombre_sain          2155\n",
    "nombre_exposed        547\n",
    "nombre_recovered    16417\n",
    "Name: 332, dtype: int64"
   ]
  },
  {
   "cell_type": "markdown",
   "id": "dbcf54c6",
   "metadata": {},
   "source": [
    "nombre_infected       896\n",
    "nombre_sain          2174\n",
    "nombre_exposed        536\n",
    "nombre_recovered    16394\n",
    "Name: 333, dtype: int64"
   ]
  },
  {
   "cell_type": "markdown",
   "id": "9eacaf87",
   "metadata": {},
   "source": [
    "nombre_infected       904\n",
    "nombre_sain          2188\n",
    "nombre_exposed        520\n",
    "nombre_recovered    16388\n",
    "Name: 334, dtype: int64"
   ]
  },
  {
   "cell_type": "markdown",
   "id": "b946a89c",
   "metadata": {},
   "source": [
    "nombre_infected       913\n",
    "nombre_sain          2182\n",
    "nombre_exposed        545\n",
    "nombre_recovered    16360\n",
    "Name: 335, dtype: int64"
   ]
  },
  {
   "cell_type": "markdown",
   "id": "18be7d83",
   "metadata": {},
   "source": [
    "nombre_infected       903\n",
    "nombre_sain          2212\n",
    "nombre_exposed        549\n",
    "nombre_recovered    16336\n",
    "Name: 336, dtype: int64"
   ]
  },
  {
   "cell_type": "markdown",
   "id": "4085b0bf",
   "metadata": {},
   "source": [
    "nombre_infected       888\n",
    "nombre_sain          2211\n",
    "nombre_exposed        560\n",
    "nombre_recovered    16341\n",
    "Name: 337, dtype: int64"
   ]
  },
  {
   "cell_type": "markdown",
   "id": "d920f5ee",
   "metadata": {},
   "source": [
    "nombre_infected       880\n",
    "nombre_sain          2218\n",
    "nombre_exposed        585\n",
    "nombre_recovered    16317\n",
    "Name: 338, dtype: int64"
   ]
  },
  {
   "cell_type": "markdown",
   "id": "e409f61d",
   "metadata": {},
   "source": [
    "nombre_infected       923\n",
    "nombre_sain          2255\n",
    "nombre_exposed        552\n",
    "nombre_recovered    16270\n",
    "Name: 339, dtype: int64"
   ]
  },
  {
   "cell_type": "markdown",
   "id": "918fdd1b",
   "metadata": {},
   "source": [
    "nombre_infected       920\n",
    "nombre_sain          2228\n",
    "nombre_exposed        580\n",
    "nombre_recovered    16272\n",
    "Name: 340, dtype: int64"
   ]
  },
  {
   "cell_type": "markdown",
   "id": "d694e61a",
   "metadata": {},
   "source": [
    "nombre_infected       931\n",
    "nombre_sain          2232\n",
    "nombre_exposed        586\n",
    "nombre_recovered    16251\n",
    "Name: 341, dtype: int64"
   ]
  },
  {
   "cell_type": "markdown",
   "id": "46ee64fe",
   "metadata": {},
   "source": [
    "nombre_infected       934\n",
    "nombre_sain          2240\n",
    "nombre_exposed        590\n",
    "nombre_recovered    16236\n",
    "Name: 342, dtype: int64"
   ]
  },
  {
   "cell_type": "markdown",
   "id": "a655432d",
   "metadata": {},
   "source": [
    "nombre_infected       944\n",
    "nombre_sain          2244\n",
    "nombre_exposed        594\n",
    "nombre_recovered    16218\n",
    "Name: 343, dtype: int64"
   ]
  },
  {
   "cell_type": "markdown",
   "id": "dc0fd3f4",
   "metadata": {},
   "source": [
    "nombre_infected       933\n",
    "nombre_sain          2278\n",
    "nombre_exposed        579\n",
    "nombre_recovered    16210\n",
    "Name: 344, dtype: int64"
   ]
  },
  {
   "cell_type": "markdown",
   "id": "0662d756",
   "metadata": {},
   "source": [
    "nombre_infected       947\n",
    "nombre_sain          2311\n",
    "nombre_exposed        584\n",
    "nombre_recovered    16158\n",
    "Name: 345, dtype: int64"
   ]
  },
  {
   "cell_type": "markdown",
   "id": "ba36c01c",
   "metadata": {},
   "source": [
    "nombre_infected       961\n",
    "nombre_sain          2308\n",
    "nombre_exposed        612\n",
    "nombre_recovered    16119\n",
    "Name: 346, dtype: int64"
   ]
  },
  {
   "cell_type": "markdown",
   "id": "b8d01ef3",
   "metadata": {},
   "source": [
    "nombre_infected       989\n",
    "nombre_sain          2276\n",
    "nombre_exposed        623\n",
    "nombre_recovered    16112\n",
    "Name: 347, dtype: int64"
   ]
  },
  {
   "cell_type": "markdown",
   "id": "5d06ffd7",
   "metadata": {},
   "source": [
    "nombre_infected       991\n",
    "nombre_sain          2287\n",
    "nombre_exposed        631\n",
    "nombre_recovered    16091\n",
    "Name: 348, dtype: int64"
   ]
  },
  {
   "cell_type": "markdown",
   "id": "6073ab70",
   "metadata": {},
   "source": [
    "nombre_infected      1001\n",
    "nombre_sain          2273\n",
    "nombre_exposed        641\n",
    "nombre_recovered    16085\n",
    "Name: 349, dtype: int64"
   ]
  },
  {
   "cell_type": "markdown",
   "id": "9d822bcc",
   "metadata": {},
   "source": [
    "nombre_infected      1032\n",
    "nombre_sain          2276\n",
    "nombre_exposed        617\n",
    "nombre_recovered    16075\n",
    "Name: 350, dtype: int64"
   ]
  },
  {
   "cell_type": "markdown",
   "id": "e22449c0",
   "metadata": {},
   "source": [
    "nombre_infected      1059\n",
    "nombre_sain          2247\n",
    "nombre_exposed        614\n",
    "nombre_recovered    16080\n",
    "Name: 351, dtype: int64"
   ]
  },
  {
   "cell_type": "markdown",
   "id": "465c6404",
   "metadata": {},
   "source": [
    "nombre_infected      1051\n",
    "nombre_sain          2229\n",
    "nombre_exposed        628\n",
    "nombre_recovered    16092\n",
    "Name: 352, dtype: int64"
   ]
  },
  {
   "cell_type": "markdown",
   "id": "47545ea5",
   "metadata": {},
   "source": [
    "nombre_infected      1077\n",
    "nombre_sain          2192\n",
    "nombre_exposed        620\n",
    "nombre_recovered    16111\n",
    "Name: 353, dtype: int64"
   ]
  },
  {
   "cell_type": "markdown",
   "id": "643740f2",
   "metadata": {},
   "source": [
    "nombre_infected      1084\n",
    "nombre_sain          2160\n",
    "nombre_exposed        629\n",
    "nombre_recovered    16127\n",
    "Name: 354, dtype: int64"
   ]
  },
  {
   "cell_type": "markdown",
   "id": "0f62efc4",
   "metadata": {},
   "source": [
    "nombre_infected      1115\n",
    "nombre_sain          2122\n",
    "nombre_exposed        635\n",
    "nombre_recovered    16128\n",
    "Name: 355, dtype: int64"
   ]
  },
  {
   "cell_type": "markdown",
   "id": "fe5c3994",
   "metadata": {},
   "source": [
    "nombre_infected      1119\n",
    "nombre_sain          2091\n",
    "nombre_exposed        633\n",
    "nombre_recovered    16157\n",
    "Name: 356, dtype: int64"
   ]
  },
  {
   "cell_type": "markdown",
   "id": "6c66a202",
   "metadata": {},
   "source": [
    "nombre_infected      1118\n",
    "nombre_sain          2070\n",
    "nombre_exposed        642\n",
    "nombre_recovered    16170\n",
    "Name: 357, dtype: int64"
   ]
  },
  {
   "cell_type": "markdown",
   "id": "ec67d965",
   "metadata": {},
   "source": [
    "nombre_infected      1125\n",
    "nombre_sain          2065\n",
    "nombre_exposed        637\n",
    "nombre_recovered    16173\n",
    "Name: 358, dtype: int64"
   ]
  },
  {
   "cell_type": "markdown",
   "id": "05b981b7",
   "metadata": {},
   "source": [
    "nombre_infected      1145\n",
    "nombre_sain          2009\n",
    "nombre_exposed        642\n",
    "nombre_recovered    16204\n",
    "Name: 359, dtype: int64"
   ]
  },
  {
   "cell_type": "markdown",
   "id": "20054517",
   "metadata": {},
   "source": [
    "nombre_infected      1145\n",
    "nombre_sain          2022\n",
    "nombre_exposed        648\n",
    "nombre_recovered    16185\n",
    "Name: 360, dtype: int64"
   ]
  },
  {
   "cell_type": "markdown",
   "id": "27247c5e",
   "metadata": {},
   "source": [
    "nombre_infected      1141\n",
    "nombre_sain          2015\n",
    "nombre_exposed        650\n",
    "nombre_recovered    16194\n",
    "Name: 361, dtype: int64"
   ]
  },
  {
   "cell_type": "markdown",
   "id": "c8332ad0",
   "metadata": {},
   "source": [
    "nombre_infected      1157\n",
    "nombre_sain          1991\n",
    "nombre_exposed        633\n",
    "nombre_recovered    16219\n",
    "Name: 362, dtype: int64"
   ]
  },
  {
   "cell_type": "markdown",
   "id": "5a861349",
   "metadata": {},
   "source": [
    "nombre_infected      1164\n",
    "nombre_sain          1987\n",
    "nombre_exposed        609\n",
    "nombre_recovered    16240\n",
    "Name: 363, dtype: int64"
   ]
  },
  {
   "cell_type": "markdown",
   "id": "f1f0e87b",
   "metadata": {},
   "source": [
    "nombre_infected      1174\n",
    "nombre_sain          1986\n",
    "nombre_exposed        611\n",
    "nombre_recovered    16229\n",
    "Name: 364, dtype: int64"
   ]
  },
  {
   "cell_type": "markdown",
   "id": "c4a85a02",
   "metadata": {},
   "source": [
    "nombre_infected      1185\n",
    "nombre_sain          1956\n",
    "nombre_exposed        605\n",
    "nombre_recovered    16254\n",
    "Name: 365, dtype: int64"
   ]
  },
  {
   "cell_type": "markdown",
   "id": "ea7b0069",
   "metadata": {},
   "source": [
    "nombre_infected      1197\n",
    "nombre_sain          1975\n",
    "nombre_exposed        582\n",
    "nombre_recovered    16246\n",
    "Name: 366, dtype: int64"
   ]
  },
  {
   "cell_type": "markdown",
   "id": "cde93e63",
   "metadata": {},
   "source": [
    "nombre_infected      1191\n",
    "nombre_sain          1998\n",
    "nombre_exposed        586\n",
    "nombre_recovered    16225\n",
    "Name: 367, dtype: int64"
   ]
  },
  {
   "cell_type": "markdown",
   "id": "bd960ee4",
   "metadata": {},
   "source": [
    "nombre_infected      1176\n",
    "nombre_sain          1968\n",
    "nombre_exposed        609\n",
    "nombre_recovered    16247\n",
    "Name: 368, dtype: int64"
   ]
  },
  {
   "cell_type": "markdown",
   "id": "fe4d0e0d",
   "metadata": {},
   "source": [
    "nombre_infected      1179\n",
    "nombre_sain          1960\n",
    "nombre_exposed        597\n",
    "nombre_recovered    16264\n",
    "Name: 369, dtype: int64"
   ]
  },
  {
   "cell_type": "markdown",
   "id": "318089c1",
   "metadata": {},
   "source": [
    "nombre_infected      1182\n",
    "nombre_sain          1989\n",
    "nombre_exposed        578\n",
    "nombre_recovered    16251\n",
    "Name: 370, dtype: int64"
   ]
  },
  {
   "cell_type": "markdown",
   "id": "d6bbfbaf",
   "metadata": {},
   "source": [
    "nombre_infected      1194\n",
    "nombre_sain          2001\n",
    "nombre_exposed        561\n",
    "nombre_recovered    16244\n",
    "Name: 371, dtype: int64"
   ]
  },
  {
   "cell_type": "markdown",
   "id": "5bc5073e",
   "metadata": {},
   "source": [
    "nombre_infected      1205\n",
    "nombre_sain          1989\n",
    "nombre_exposed        570\n",
    "nombre_recovered    16236\n",
    "Name: 372, dtype: int64"
   ]
  },
  {
   "cell_type": "markdown",
   "id": "831cf141",
   "metadata": {},
   "source": [
    "nombre_infected      1177\n",
    "nombre_sain          1978\n",
    "nombre_exposed        582\n",
    "nombre_recovered    16263\n",
    "Name: 373, dtype: int64"
   ]
  },
  {
   "cell_type": "markdown",
   "id": "db2355f8",
   "metadata": {},
   "source": [
    "nombre_infected      1198\n",
    "nombre_sain          1999\n",
    "nombre_exposed        556\n",
    "nombre_recovered    16247\n",
    "Name: 374, dtype: int64"
   ]
  },
  {
   "cell_type": "markdown",
   "id": "b95329de",
   "metadata": {},
   "source": [
    "nombre_infected      1166\n",
    "nombre_sain          2005\n",
    "nombre_exposed        561\n",
    "nombre_recovered    16268\n",
    "Name: 375, dtype: int64"
   ]
  },
  {
   "cell_type": "markdown",
   "id": "131fc585",
   "metadata": {},
   "source": [
    "nombre_infected      1154\n",
    "nombre_sain          2007\n",
    "nombre_exposed        575\n",
    "nombre_recovered    16264\n",
    "Name: 376, dtype: int64"
   ]
  },
  {
   "cell_type": "markdown",
   "id": "75d9189e",
   "metadata": {},
   "source": [
    "nombre_infected      1161\n",
    "nombre_sain          1997\n",
    "nombre_exposed        565\n",
    "nombre_recovered    16277\n",
    "Name: 377, dtype: int64"
   ]
  },
  {
   "cell_type": "markdown",
   "id": "b55c02bd",
   "metadata": {},
   "source": [
    "nombre_infected      1133\n",
    "nombre_sain          2029\n",
    "nombre_exposed        564\n",
    "nombre_recovered    16274\n",
    "Name: 378, dtype: int64"
   ]
  },
  {
   "cell_type": "markdown",
   "id": "8c625323",
   "metadata": {},
   "source": [
    "nombre_infected      1126\n",
    "nombre_sain          2045\n",
    "nombre_exposed        574\n",
    "nombre_recovered    16255\n",
    "Name: 379, dtype: int64"
   ]
  },
  {
   "cell_type": "markdown",
   "id": "b1b8878b",
   "metadata": {},
   "source": [
    "nombre_infected      1095\n",
    "nombre_sain          2041\n",
    "nombre_exposed        599\n",
    "nombre_recovered    16265\n",
    "Name: 380, dtype: int64"
   ]
  },
  {
   "cell_type": "markdown",
   "id": "63c52008",
   "metadata": {},
   "source": [
    "nombre_infected      1103\n",
    "nombre_sain          2076\n",
    "nombre_exposed        584\n",
    "nombre_recovered    16237\n",
    "Name: 381, dtype: int64"
   ]
  },
  {
   "cell_type": "markdown",
   "id": "734fa952",
   "metadata": {},
   "source": [
    "nombre_infected      1115\n",
    "nombre_sain          2127\n",
    "nombre_exposed        558\n",
    "nombre_recovered    16200\n",
    "Name: 382, dtype: int64"
   ]
  },
  {
   "cell_type": "markdown",
   "id": "c0cb089f",
   "metadata": {},
   "source": [
    "nombre_infected      1115\n",
    "nombre_sain          2139\n",
    "nombre_exposed        550\n",
    "nombre_recovered    16196\n",
    "Name: 383, dtype: int64"
   ]
  },
  {
   "cell_type": "markdown",
   "id": "ea556671",
   "metadata": {},
   "source": [
    "nombre_infected      1119\n",
    "nombre_sain          2145\n",
    "nombre_exposed        550\n",
    "nombre_recovered    16186\n",
    "Name: 384, dtype: int64"
   ]
  },
  {
   "cell_type": "markdown",
   "id": "9027826e",
   "metadata": {},
   "source": [
    "nombre_infected      1100\n",
    "nombre_sain          2161\n",
    "nombre_exposed        553\n",
    "nombre_recovered    16186\n",
    "Name: 385, dtype: int64"
   ]
  },
  {
   "cell_type": "markdown",
   "id": "c00665fb",
   "metadata": {},
   "source": [
    "nombre_infected      1088\n",
    "nombre_sain          2154\n",
    "nombre_exposed        563\n",
    "nombre_recovered    16195\n",
    "Name: 386, dtype: int64"
   ]
  },
  {
   "cell_type": "markdown",
   "id": "711a63c6",
   "metadata": {},
   "source": [
    "nombre_infected      1088\n",
    "nombre_sain          2155\n",
    "nombre_exposed        573\n",
    "nombre_recovered    16184\n",
    "Name: 387, dtype: int64"
   ]
  },
  {
   "cell_type": "markdown",
   "id": "2fa58777",
   "metadata": {},
   "source": [
    "nombre_infected      1102\n",
    "nombre_sain          2125\n",
    "nombre_exposed        588\n",
    "nombre_recovered    16185\n",
    "Name: 388, dtype: int64"
   ]
  },
  {
   "cell_type": "markdown",
   "id": "33e1e2f8",
   "metadata": {},
   "source": [
    "nombre_infected      1101\n",
    "nombre_sain          2112\n",
    "nombre_exposed        589\n",
    "nombre_recovered    16198\n",
    "Name: 389, dtype: int64"
   ]
  },
  {
   "cell_type": "markdown",
   "id": "214bf3cb",
   "metadata": {},
   "source": [
    "nombre_infected      1107\n",
    "nombre_sain          2109\n",
    "nombre_exposed        588\n",
    "nombre_recovered    16196\n",
    "Name: 390, dtype: int64"
   ]
  },
  {
   "cell_type": "markdown",
   "id": "4dde95dd",
   "metadata": {},
   "source": [
    "nombre_infected      1108\n",
    "nombre_sain          2080\n",
    "nombre_exposed        607\n",
    "nombre_recovered    16205\n",
    "Name: 391, dtype: int64"
   ]
  },
  {
   "cell_type": "markdown",
   "id": "1eda5f3f",
   "metadata": {},
   "source": [
    "nombre_infected      1133\n",
    "nombre_sain          2069\n",
    "nombre_exposed        595\n",
    "nombre_recovered    16203\n",
    "Name: 392, dtype: int64"
   ]
  },
  {
   "cell_type": "markdown",
   "id": "992f3f7f",
   "metadata": {},
   "source": [
    "nombre_infected      1150\n",
    "nombre_sain          2054\n",
    "nombre_exposed        597\n",
    "nombre_recovered    16199\n",
    "Name: 393, dtype: int64"
   ]
  },
  {
   "cell_type": "markdown",
   "id": "8ecd3065",
   "metadata": {},
   "source": [
    "nombre_infected      1141\n",
    "nombre_sain          2028\n",
    "nombre_exposed        593\n",
    "nombre_recovered    16238\n",
    "Name: 394, dtype: int64"
   ]
  },
  {
   "cell_type": "markdown",
   "id": "a9e1b0f2",
   "metadata": {},
   "source": [
    "nombre_infected      1161\n",
    "nombre_sain          2030\n",
    "nombre_exposed        575\n",
    "nombre_recovered    16234\n",
    "Name: 395, dtype: int64"
   ]
  },
  {
   "cell_type": "markdown",
   "id": "28cf4cb5",
   "metadata": {},
   "source": [
    "nombre_infected      1178\n",
    "nombre_sain          1991\n",
    "nombre_exposed        612\n",
    "nombre_recovered    16219\n",
    "Name: 396, dtype: int64"
   ]
  },
  {
   "cell_type": "markdown",
   "id": "59ae78b7",
   "metadata": {},
   "source": [
    "nombre_infected      1154\n",
    "nombre_sain          1998\n",
    "nombre_exposed        608\n",
    "nombre_recovered    16240\n",
    "Name: 397, dtype: int64"
   ]
  },
  {
   "cell_type": "markdown",
   "id": "7a025e08",
   "metadata": {},
   "source": [
    "nombre_infected      1154\n",
    "nombre_sain          1964\n",
    "nombre_exposed        605\n",
    "nombre_recovered    16277\n",
    "Name: 398, dtype: int64"
   ]
  },
  {
   "cell_type": "markdown",
   "id": "7e9f2617",
   "metadata": {},
   "source": [
    "nombre_infected      1135\n",
    "nombre_sain          1953\n",
    "nombre_exposed        608\n",
    "nombre_recovered    16304\n",
    "Name: 399, dtype: int64"
   ]
  },
  {
   "cell_type": "markdown",
   "id": "13d0d8d5",
   "metadata": {},
   "source": [
    "nombre_infected      1123\n",
    "nombre_sain          1927\n",
    "nombre_exposed        622\n",
    "nombre_recovered    16328\n",
    "Name: 400, dtype: int64"
   ]
  },
  {
   "cell_type": "markdown",
   "id": "f2ec2b15",
   "metadata": {},
   "source": [
    "nombre_infected      1131\n",
    "nombre_sain          1935\n",
    "nombre_exposed        613\n",
    "nombre_recovered    16321\n",
    "Name: 401, dtype: int64"
   ]
  },
  {
   "cell_type": "markdown",
   "id": "158827c5",
   "metadata": {},
   "source": [
    "nombre_infected      1133\n",
    "nombre_sain          1935\n",
    "nombre_exposed        597\n",
    "nombre_recovered    16335\n",
    "Name: 402, dtype: int64"
   ]
  },
  {
   "cell_type": "markdown",
   "id": "5fbbe66d",
   "metadata": {},
   "source": [
    "nombre_infected      1134\n",
    "nombre_sain          1934\n",
    "nombre_exposed        581\n",
    "nombre_recovered    16351\n",
    "Name: 403, dtype: int64"
   ]
  },
  {
   "cell_type": "markdown",
   "id": "79334519",
   "metadata": {},
   "source": [
    "nombre_infected      1155\n",
    "nombre_sain          1895\n",
    "nombre_exposed        568\n",
    "nombre_recovered    16382\n",
    "Name: 404, dtype: int64"
   ]
  },
  {
   "cell_type": "markdown",
   "id": "3217f2e3",
   "metadata": {},
   "source": [
    "nombre_infected      1161\n",
    "nombre_sain          1883\n",
    "nombre_exposed        568\n",
    "nombre_recovered    16388\n",
    "Name: 405, dtype: int64"
   ]
  },
  {
   "cell_type": "markdown",
   "id": "ddb42bfc",
   "metadata": {},
   "source": [
    "nombre_infected      1152\n",
    "nombre_sain          1898\n",
    "nombre_exposed        560\n",
    "nombre_recovered    16390\n",
    "Name: 406, dtype: int64"
   ]
  },
  {
   "cell_type": "markdown",
   "id": "88b222a2",
   "metadata": {},
   "source": [
    "nombre_infected      1146\n",
    "nombre_sain          1867\n",
    "nombre_exposed        565\n",
    "nombre_recovered    16422\n",
    "Name: 407, dtype: int64"
   ]
  },
  {
   "cell_type": "markdown",
   "id": "112b7548",
   "metadata": {},
   "source": [
    "nombre_infected      1149\n",
    "nombre_sain          1850\n",
    "nombre_exposed        561\n",
    "nombre_recovered    16440\n",
    "Name: 408, dtype: int64"
   ]
  },
  {
   "cell_type": "markdown",
   "id": "770d2064",
   "metadata": {},
   "source": [
    "nombre_infected      1160\n",
    "nombre_sain          1864\n",
    "nombre_exposed        546\n",
    "nombre_recovered    16430\n",
    "Name: 409, dtype: int64"
   ]
  },
  {
   "cell_type": "markdown",
   "id": "485875b6",
   "metadata": {},
   "source": [
    "nombre_infected      1159\n",
    "nombre_sain          1862\n",
    "nombre_exposed        553\n",
    "nombre_recovered    16426\n",
    "Name: 410, dtype: int64"
   ]
  },
  {
   "cell_type": "markdown",
   "id": "24761dff",
   "metadata": {},
   "source": [
    "nombre_infected      1121\n",
    "nombre_sain          1858\n",
    "nombre_exposed        559\n",
    "nombre_recovered    16462\n",
    "Name: 411, dtype: int64"
   ]
  },
  {
   "cell_type": "markdown",
   "id": "204c9a47",
   "metadata": {},
   "source": [
    "nombre_infected      1145\n",
    "nombre_sain          1872\n",
    "nombre_exposed        530\n",
    "nombre_recovered    16453\n",
    "Name: 412, dtype: int64"
   ]
  },
  {
   "cell_type": "markdown",
   "id": "0ad31f02",
   "metadata": {},
   "source": [
    "nombre_infected      1126\n",
    "nombre_sain          1878\n",
    "nombre_exposed        548\n",
    "nombre_recovered    16448\n",
    "Name: 413, dtype: int64"
   ]
  },
  {
   "cell_type": "markdown",
   "id": "a80d2914",
   "metadata": {},
   "source": [
    "nombre_infected      1114\n",
    "nombre_sain          1898\n",
    "nombre_exposed        553\n",
    "nombre_recovered    16435\n",
    "Name: 414, dtype: int64"
   ]
  },
  {
   "cell_type": "markdown",
   "id": "cf0867b8",
   "metadata": {},
   "source": [
    "nombre_infected      1098\n",
    "nombre_sain          1914\n",
    "nombre_exposed        565\n",
    "nombre_recovered    16423\n",
    "Name: 415, dtype: int64"
   ]
  },
  {
   "cell_type": "markdown",
   "id": "43181836",
   "metadata": {},
   "source": [
    "nombre_infected      1113\n",
    "nombre_sain          1928\n",
    "nombre_exposed        550\n",
    "nombre_recovered    16409\n",
    "Name: 416, dtype: int64"
   ]
  },
  {
   "cell_type": "markdown",
   "id": "9a21a865",
   "metadata": {},
   "source": [
    "nombre_infected      1093\n",
    "nombre_sain          1967\n",
    "nombre_exposed        549\n",
    "nombre_recovered    16391\n",
    "Name: 417, dtype: int64"
   ]
  },
  {
   "cell_type": "markdown",
   "id": "384d610a",
   "metadata": {},
   "source": [
    "nombre_infected      1077\n",
    "nombre_sain          1963\n",
    "nombre_exposed        561\n",
    "nombre_recovered    16399\n",
    "Name: 418, dtype: int64"
   ]
  },
  {
   "cell_type": "markdown",
   "id": "fd767fca",
   "metadata": {},
   "source": [
    "nombre_infected      1076\n",
    "nombre_sain          1960\n",
    "nombre_exposed        569\n",
    "nombre_recovered    16395\n",
    "Name: 419, dtype: int64"
   ]
  },
  {
   "cell_type": "markdown",
   "id": "54022bf4",
   "metadata": {},
   "source": [
    "nombre_infected      1108\n",
    "nombre_sain          1934\n",
    "nombre_exposed        571\n",
    "nombre_recovered    16387\n",
    "Name: 420, dtype: int64"
   ]
  },
  {
   "cell_type": "markdown",
   "id": "63234f4c",
   "metadata": {},
   "source": [
    "nombre_infected      1119\n",
    "nombre_sain          1928\n",
    "nombre_exposed        582\n",
    "nombre_recovered    16371\n",
    "Name: 421, dtype: int64"
   ]
  },
  {
   "cell_type": "markdown",
   "id": "93bb62ba",
   "metadata": {},
   "source": [
    "nombre_infected      1116\n",
    "nombre_sain          1939\n",
    "nombre_exposed        573\n",
    "nombre_recovered    16372\n",
    "Name: 422, dtype: int64"
   ]
  },
  {
   "cell_type": "markdown",
   "id": "2139160e",
   "metadata": {},
   "source": [
    "nombre_infected      1112\n",
    "nombre_sain          1948\n",
    "nombre_exposed        547\n",
    "nombre_recovered    16393\n",
    "Name: 423, dtype: int64"
   ]
  },
  {
   "cell_type": "markdown",
   "id": "0a0ce7ad",
   "metadata": {},
   "source": [
    "nombre_infected      1101\n",
    "nombre_sain          1953\n",
    "nombre_exposed        518\n",
    "nombre_recovered    16428\n",
    "Name: 424, dtype: int64"
   ]
  },
  {
   "cell_type": "markdown",
   "id": "5cdbdc4f",
   "metadata": {},
   "source": [
    "nombre_infected      1098\n",
    "nombre_sain          1936\n",
    "nombre_exposed        535\n",
    "nombre_recovered    16431\n",
    "Name: 425, dtype: int64"
   ]
  },
  {
   "cell_type": "markdown",
   "id": "c44eae8d",
   "metadata": {},
   "source": [
    "nombre_infected      1065\n",
    "nombre_sain          1954\n",
    "nombre_exposed        523\n",
    "nombre_recovered    16458\n",
    "Name: 426, dtype: int64"
   ]
  },
  {
   "cell_type": "markdown",
   "id": "2e9338a0",
   "metadata": {},
   "source": [
    "nombre_infected      1062\n",
    "nombre_sain          1946\n",
    "nombre_exposed        528\n",
    "nombre_recovered    16464\n",
    "Name: 427, dtype: int64"
   ]
  },
  {
   "cell_type": "markdown",
   "id": "f4fff14a",
   "metadata": {},
   "source": [
    "nombre_infected      1069\n",
    "nombre_sain          1944\n",
    "nombre_exposed        540\n",
    "nombre_recovered    16447\n",
    "Name: 428, dtype: int64"
   ]
  },
  {
   "cell_type": "markdown",
   "id": "4fc4da89",
   "metadata": {},
   "source": [
    "nombre_infected      1048\n",
    "nombre_sain          1953\n",
    "nombre_exposed        551\n",
    "nombre_recovered    16448\n",
    "Name: 429, dtype: int64"
   ]
  },
  {
   "cell_type": "markdown",
   "id": "5478d8bf",
   "metadata": {},
   "source": [
    "nombre_infected      1039\n",
    "nombre_sain          1949\n",
    "nombre_exposed        535\n",
    "nombre_recovered    16477\n",
    "Name: 430, dtype: int64"
   ]
  },
  {
   "cell_type": "markdown",
   "id": "908598ef",
   "metadata": {},
   "source": [
    "nombre_infected      1032\n",
    "nombre_sain          1970\n",
    "nombre_exposed        538\n",
    "nombre_recovered    16460\n",
    "Name: 431, dtype: int64"
   ]
  },
  {
   "cell_type": "markdown",
   "id": "dc527500",
   "metadata": {},
   "source": [
    "nombre_infected      1031\n",
    "nombre_sain          1978\n",
    "nombre_exposed        530\n",
    "nombre_recovered    16461\n",
    "Name: 432, dtype: int64"
   ]
  },
  {
   "cell_type": "markdown",
   "id": "a4d3af70",
   "metadata": {},
   "source": [
    "nombre_infected      1013\n",
    "nombre_sain          1996\n",
    "nombre_exposed        539\n",
    "nombre_recovered    16452\n",
    "Name: 433, dtype: int64"
   ]
  },
  {
   "cell_type": "markdown",
   "id": "37cfd9a6",
   "metadata": {},
   "source": [
    "nombre_infected      1020\n",
    "nombre_sain          2039\n",
    "nombre_exposed        521\n",
    "nombre_recovered    16420\n",
    "Name: 434, dtype: int64"
   ]
  },
  {
   "cell_type": "markdown",
   "id": "df42c030",
   "metadata": {},
   "source": [
    "nombre_infected      1010\n",
    "nombre_sain          2069\n",
    "nombre_exposed        527\n",
    "nombre_recovered    16394\n",
    "Name: 435, dtype: int64"
   ]
  },
  {
   "cell_type": "markdown",
   "id": "750fa469",
   "metadata": {},
   "source": [
    "nombre_infected      1040\n",
    "nombre_sain          2078\n",
    "nombre_exposed        518\n",
    "nombre_recovered    16364\n",
    "Name: 436, dtype: int64"
   ]
  },
  {
   "cell_type": "markdown",
   "id": "98c0a2c5",
   "metadata": {},
   "source": [
    "nombre_infected      1021\n",
    "nombre_sain          2092\n",
    "nombre_exposed        548\n",
    "nombre_recovered    16339\n",
    "Name: 437, dtype: int64"
   ]
  },
  {
   "cell_type": "markdown",
   "id": "84afe04d",
   "metadata": {},
   "source": [
    "nombre_infected      1023\n",
    "nombre_sain          2075\n",
    "nombre_exposed        576\n",
    "nombre_recovered    16326\n",
    "Name: 438, dtype: int64"
   ]
  },
  {
   "cell_type": "markdown",
   "id": "9aa0d254",
   "metadata": {},
   "source": [
    "nombre_infected      1045\n",
    "nombre_sain          2091\n",
    "nombre_exposed        575\n",
    "nombre_recovered    16289\n",
    "Name: 439, dtype: int64"
   ]
  },
  {
   "cell_type": "markdown",
   "id": "ab2e5bed",
   "metadata": {},
   "source": [
    "nombre_infected      1063\n",
    "nombre_sain          2065\n",
    "nombre_exposed        594\n",
    "nombre_recovered    16278\n",
    "Name: 440, dtype: int64"
   ]
  },
  {
   "cell_type": "markdown",
   "id": "8bd28ff3",
   "metadata": {},
   "source": [
    "nombre_infected      1097\n",
    "nombre_sain          2105\n",
    "nombre_exposed        560\n",
    "nombre_recovered    16238\n",
    "Name: 441, dtype: int64"
   ]
  },
  {
   "cell_type": "markdown",
   "id": "b4be9abd",
   "metadata": {},
   "source": [
    "nombre_infected      1089\n",
    "nombre_sain          2131\n",
    "nombre_exposed        559\n",
    "nombre_recovered    16221\n",
    "Name: 442, dtype: int64"
   ]
  },
  {
   "cell_type": "markdown",
   "id": "b409993a",
   "metadata": {},
   "source": [
    "nombre_infected      1065\n",
    "nombre_sain          2105\n",
    "nombre_exposed        599\n",
    "nombre_recovered    16231\n",
    "Name: 443, dtype: int64"
   ]
  },
  {
   "cell_type": "markdown",
   "id": "c3efb958",
   "metadata": {},
   "source": [
    "nombre_infected      1061\n",
    "nombre_sain          2133\n",
    "nombre_exposed        570\n",
    "nombre_recovered    16236\n",
    "Name: 444, dtype: int64"
   ]
  },
  {
   "cell_type": "markdown",
   "id": "7ee1d4bf",
   "metadata": {},
   "source": [
    "nombre_infected      1080\n",
    "nombre_sain          2132\n",
    "nombre_exposed        560\n",
    "nombre_recovered    16228\n",
    "Name: 445, dtype: int64"
   ]
  },
  {
   "cell_type": "markdown",
   "id": "75783268",
   "metadata": {},
   "source": [
    "nombre_infected      1077\n",
    "nombre_sain          2128\n",
    "nombre_exposed        563\n",
    "nombre_recovered    16232\n",
    "Name: 446, dtype: int64"
   ]
  },
  {
   "cell_type": "markdown",
   "id": "32bd0cf5",
   "metadata": {},
   "source": [
    "nombre_infected      1066\n",
    "nombre_sain          2141\n",
    "nombre_exposed        553\n",
    "nombre_recovered    16240\n",
    "Name: 447, dtype: int64"
   ]
  },
  {
   "cell_type": "markdown",
   "id": "6cff88a2",
   "metadata": {},
   "source": [
    "nombre_infected      1064\n",
    "nombre_sain          2138\n",
    "nombre_exposed        559\n",
    "nombre_recovered    16239\n",
    "Name: 448, dtype: int64"
   ]
  },
  {
   "cell_type": "markdown",
   "id": "dad39b61",
   "metadata": {},
   "source": [
    "nombre_infected      1067\n",
    "nombre_sain          2106\n",
    "nombre_exposed        562\n",
    "nombre_recovered    16265\n",
    "Name: 449, dtype: int64"
   ]
  },
  {
   "cell_type": "markdown",
   "id": "9f9daf7c",
   "metadata": {},
   "source": [
    "nombre_infected      1069\n",
    "nombre_sain          2120\n",
    "nombre_exposed        542\n",
    "nombre_recovered    16269\n",
    "Name: 450, dtype: int64"
   ]
  },
  {
   "cell_type": "markdown",
   "id": "3eef53ab",
   "metadata": {},
   "source": [
    "nombre_infected      1073\n",
    "nombre_sain          2109\n",
    "nombre_exposed        543\n",
    "nombre_recovered    16275\n",
    "Name: 451, dtype: int64"
   ]
  },
  {
   "cell_type": "markdown",
   "id": "f4b7cec4",
   "metadata": {},
   "source": [
    "nombre_infected      1083\n",
    "nombre_sain          2077\n",
    "nombre_exposed        566\n",
    "nombre_recovered    16274\n",
    "Name: 452, dtype: int64"
   ]
  },
  {
   "cell_type": "markdown",
   "id": "8973f327",
   "metadata": {},
   "source": [
    "nombre_infected      1094\n",
    "nombre_sain          2026\n",
    "nombre_exposed        569\n",
    "nombre_recovered    16311\n",
    "Name: 453, dtype: int64"
   ]
  },
  {
   "cell_type": "markdown",
   "id": "05020863",
   "metadata": {},
   "source": [
    "nombre_infected      1103\n",
    "nombre_sain          1990\n",
    "nombre_exposed        551\n",
    "nombre_recovered    16356\n",
    "Name: 454, dtype: int64"
   ]
  },
  {
   "cell_type": "markdown",
   "id": "18cec966",
   "metadata": {},
   "source": [
    "nombre_infected      1101\n",
    "nombre_sain          1964\n",
    "nombre_exposed        546\n",
    "nombre_recovered    16389\n",
    "Name: 455, dtype: int64"
   ]
  },
  {
   "cell_type": "markdown",
   "id": "4b2ea8bf",
   "metadata": {},
   "source": [
    "nombre_infected      1075\n",
    "nombre_sain          1919\n",
    "nombre_exposed        560\n",
    "nombre_recovered    16446\n",
    "Name: 456, dtype: int64"
   ]
  },
  {
   "cell_type": "markdown",
   "id": "15c8af6f",
   "metadata": {},
   "source": [
    "nombre_infected      1065\n",
    "nombre_sain          1924\n",
    "nombre_exposed        583\n",
    "nombre_recovered    16428\n",
    "Name: 457, dtype: int64"
   ]
  },
  {
   "cell_type": "markdown",
   "id": "d092bbf5",
   "metadata": {},
   "source": [
    "nombre_infected      1038\n",
    "nombre_sain          1952\n",
    "nombre_exposed        557\n",
    "nombre_recovered    16453\n",
    "Name: 458, dtype: int64"
   ]
  },
  {
   "cell_type": "markdown",
   "id": "148138ca",
   "metadata": {},
   "source": [
    "nombre_infected      1051\n",
    "nombre_sain          1959\n",
    "nombre_exposed        511\n",
    "nombre_recovered    16479\n",
    "Name: 459, dtype: int64"
   ]
  },
  {
   "cell_type": "markdown",
   "id": "7e7d4624",
   "metadata": {},
   "source": [
    "nombre_infected      1037\n",
    "nombre_sain          1985\n",
    "nombre_exposed        502\n",
    "nombre_recovered    16476\n",
    "Name: 460, dtype: int64"
   ]
  },
  {
   "cell_type": "markdown",
   "id": "c1c4faf9",
   "metadata": {},
   "source": [
    "nombre_infected      1034\n",
    "nombre_sain          1973\n",
    "nombre_exposed        521\n",
    "nombre_recovered    16472\n",
    "Name: 461, dtype: int64"
   ]
  },
  {
   "cell_type": "markdown",
   "id": "b091ff80",
   "metadata": {},
   "source": [
    "nombre_infected      1014\n",
    "nombre_sain          2002\n",
    "nombre_exposed        515\n",
    "nombre_recovered    16469\n",
    "Name: 462, dtype: int64"
   ]
  },
  {
   "cell_type": "markdown",
   "id": "b8251595",
   "metadata": {},
   "source": [
    "nombre_infected      1029\n",
    "nombre_sain          2005\n",
    "nombre_exposed        500\n",
    "nombre_recovered    16466\n",
    "Name: 463, dtype: int64"
   ]
  },
  {
   "cell_type": "markdown",
   "id": "ff295262",
   "metadata": {},
   "source": [
    "nombre_infected       998\n",
    "nombre_sain          2020\n",
    "nombre_exposed        484\n",
    "nombre_recovered    16498\n",
    "Name: 464, dtype: int64"
   ]
  },
  {
   "cell_type": "markdown",
   "id": "a3c8f85c",
   "metadata": {},
   "source": [
    "nombre_infected       968\n",
    "nombre_sain          2032\n",
    "nombre_exposed        507\n",
    "nombre_recovered    16493\n",
    "Name: 465, dtype: int64"
   ]
  },
  {
   "cell_type": "markdown",
   "id": "c74ff894",
   "metadata": {},
   "source": [
    "nombre_infected       950\n",
    "nombre_sain          2063\n",
    "nombre_exposed        498\n",
    "nombre_recovered    16489\n",
    "Name: 466, dtype: int64"
   ]
  },
  {
   "cell_type": "markdown",
   "id": "a8e5297f",
   "metadata": {},
   "source": [
    "nombre_infected       956\n",
    "nombre_sain          2078\n",
    "nombre_exposed        496\n",
    "nombre_recovered    16470\n",
    "Name: 467, dtype: int64"
   ]
  },
  {
   "cell_type": "markdown",
   "id": "dba4036f",
   "metadata": {},
   "source": [
    "nombre_infected       962\n",
    "nombre_sain          2068\n",
    "nombre_exposed        512\n",
    "nombre_recovered    16458\n",
    "Name: 468, dtype: int64"
   ]
  },
  {
   "cell_type": "markdown",
   "id": "8975ed81",
   "metadata": {},
   "source": [
    "nombre_infected       943\n",
    "nombre_sain          2075\n",
    "nombre_exposed        532\n",
    "nombre_recovered    16450\n",
    "Name: 469, dtype: int64"
   ]
  },
  {
   "cell_type": "markdown",
   "id": "2f034077",
   "metadata": {},
   "source": [
    "nombre_infected       960\n",
    "nombre_sain          2102\n",
    "nombre_exposed        511\n",
    "nombre_recovered    16427\n",
    "Name: 470, dtype: int64"
   ]
  },
  {
   "cell_type": "markdown",
   "id": "01cd9ea9",
   "metadata": {},
   "source": [
    "nombre_infected       940\n",
    "nombre_sain          2124\n",
    "nombre_exposed        513\n",
    "nombre_recovered    16423\n",
    "Name: 471, dtype: int64"
   ]
  },
  {
   "cell_type": "markdown",
   "id": "b4b87b50",
   "metadata": {},
   "source": [
    "nombre_infected       959\n",
    "nombre_sain          2151\n",
    "nombre_exposed        502\n",
    "nombre_recovered    16388\n",
    "Name: 472, dtype: int64"
   ]
  },
  {
   "cell_type": "markdown",
   "id": "8670caa4",
   "metadata": {},
   "source": [
    "nombre_infected       959\n",
    "nombre_sain          2155\n",
    "nombre_exposed        500\n",
    "nombre_recovered    16386\n",
    "Name: 473, dtype: int64"
   ]
  },
  {
   "cell_type": "markdown",
   "id": "96a9c648",
   "metadata": {},
   "source": [
    "nombre_infected       953\n",
    "nombre_sain          2156\n",
    "nombre_exposed        503\n",
    "nombre_recovered    16388\n",
    "Name: 474, dtype: int64"
   ]
  },
  {
   "cell_type": "markdown",
   "id": "2f563a7d",
   "metadata": {},
   "source": [
    "nombre_infected       959\n",
    "nombre_sain          2184\n",
    "nombre_exposed        500\n",
    "nombre_recovered    16357\n",
    "Name: 475, dtype: int64"
   ]
  },
  {
   "cell_type": "markdown",
   "id": "1980b898",
   "metadata": {},
   "source": [
    "nombre_infected       969\n",
    "nombre_sain          2204\n",
    "nombre_exposed        496\n",
    "nombre_recovered    16331\n",
    "Name: 476, dtype: int64"
   ]
  },
  {
   "cell_type": "markdown",
   "id": "5085932a",
   "metadata": {},
   "source": [
    "nombre_infected       980\n",
    "nombre_sain          2179\n",
    "nombre_exposed        524\n",
    "nombre_recovered    16317\n",
    "Name: 477, dtype: int64"
   ]
  },
  {
   "cell_type": "markdown",
   "id": "cb733cde",
   "metadata": {},
   "source": [
    "nombre_infected       982\n",
    "nombre_sain          2185\n",
    "nombre_exposed        526\n",
    "nombre_recovered    16307\n",
    "Name: 478, dtype: int64"
   ]
  },
  {
   "cell_type": "markdown",
   "id": "c893310b",
   "metadata": {},
   "source": [
    "nombre_infected      1004\n",
    "nombre_sain          2169\n",
    "nombre_exposed        533\n",
    "nombre_recovered    16294\n",
    "Name: 479, dtype: int64"
   ]
  },
  {
   "cell_type": "markdown",
   "id": "3b7e4ab5",
   "metadata": {},
   "source": [
    "nombre_infected       998\n",
    "nombre_sain          2169\n",
    "nombre_exposed        567\n",
    "nombre_recovered    16266\n",
    "Name: 480, dtype: int64"
   ]
  },
  {
   "cell_type": "markdown",
   "id": "cc2038b7",
   "metadata": {},
   "source": [
    "nombre_infected      1003\n",
    "nombre_sain          2172\n",
    "nombre_exposed        559\n",
    "nombre_recovered    16266\n",
    "Name: 481, dtype: int64"
   ]
  },
  {
   "cell_type": "markdown",
   "id": "4e0ca694",
   "metadata": {},
   "source": [
    "nombre_infected       988\n",
    "nombre_sain          2180\n",
    "nombre_exposed        557\n",
    "nombre_recovered    16275\n",
    "Name: 482, dtype: int64"
   ]
  },
  {
   "cell_type": "markdown",
   "id": "bace8f9b",
   "metadata": {},
   "source": [
    "nombre_infected      1003\n",
    "nombre_sain          2186\n",
    "nombre_exposed        529\n",
    "nombre_recovered    16282\n",
    "Name: 483, dtype: int64"
   ]
  },
  {
   "cell_type": "markdown",
   "id": "b714524d",
   "metadata": {},
   "source": [
    "nombre_infected      1019\n",
    "nombre_sain          2176\n",
    "nombre_exposed        539\n",
    "nombre_recovered    16266\n",
    "Name: 484, dtype: int64"
   ]
  },
  {
   "cell_type": "markdown",
   "id": "17713178",
   "metadata": {},
   "source": [
    "nombre_infected      1031\n",
    "nombre_sain          2156\n",
    "nombre_exposed        534\n",
    "nombre_recovered    16279\n",
    "Name: 485, dtype: int64"
   ]
  },
  {
   "cell_type": "markdown",
   "id": "f8349314",
   "metadata": {},
   "source": [
    "nombre_infected      1036\n",
    "nombre_sain          2185\n",
    "nombre_exposed        525\n",
    "nombre_recovered    16254\n",
    "Name: 486, dtype: int64"
   ]
  },
  {
   "cell_type": "markdown",
   "id": "82fde660",
   "metadata": {},
   "source": [
    "nombre_infected      1032\n",
    "nombre_sain          2184\n",
    "nombre_exposed        530\n",
    "nombre_recovered    16254\n",
    "Name: 487, dtype: int64"
   ]
  },
  {
   "cell_type": "markdown",
   "id": "c7dd64fb",
   "metadata": {},
   "source": [
    "nombre_infected      1038\n",
    "nombre_sain          2183\n",
    "nombre_exposed        541\n",
    "nombre_recovered    16238\n",
    "Name: 488, dtype: int64"
   ]
  },
  {
   "cell_type": "markdown",
   "id": "719cc847",
   "metadata": {},
   "source": [
    "nombre_infected      1070\n",
    "nombre_sain          2181\n",
    "nombre_exposed        538\n",
    "nombre_recovered    16211\n",
    "Name: 489, dtype: int64"
   ]
  },
  {
   "cell_type": "markdown",
   "id": "40e3bc58",
   "metadata": {},
   "source": [
    "nombre_infected      1080\n",
    "nombre_sain          2164\n",
    "nombre_exposed        572\n",
    "nombre_recovered    16184\n",
    "Name: 490, dtype: int64"
   ]
  },
  {
   "cell_type": "markdown",
   "id": "7c920938",
   "metadata": {},
   "source": [
    "nombre_infected      1092\n",
    "nombre_sain          2150\n",
    "nombre_exposed        595\n",
    "nombre_recovered    16163\n",
    "Name: 491, dtype: int64"
   ]
  },
  {
   "cell_type": "markdown",
   "id": "38634bb9",
   "metadata": {},
   "source": [
    "nombre_infected      1118\n",
    "nombre_sain          2127\n",
    "nombre_exposed        614\n",
    "nombre_recovered    16141\n",
    "Name: 492, dtype: int64"
   ]
  },
  {
   "cell_type": "markdown",
   "id": "a6e4b11f",
   "metadata": {},
   "source": [
    "nombre_infected      1153\n",
    "nombre_sain          2101\n",
    "nombre_exposed        612\n",
    "nombre_recovered    16134\n",
    "Name: 493, dtype: int64"
   ]
  },
  {
   "cell_type": "markdown",
   "id": "3907560f",
   "metadata": {},
   "source": [
    "nombre_infected      1180\n",
    "nombre_sain          2083\n",
    "nombre_exposed        615\n",
    "nombre_recovered    16122\n",
    "Name: 494, dtype: int64"
   ]
  },
  {
   "cell_type": "markdown",
   "id": "599eb39a",
   "metadata": {},
   "source": [
    "nombre_infected      1199\n",
    "nombre_sain          2047\n",
    "nombre_exposed        638\n",
    "nombre_recovered    16116\n",
    "Name: 495, dtype: int64"
   ]
  },
  {
   "cell_type": "markdown",
   "id": "500e5bbb",
   "metadata": {},
   "source": [
    "nombre_infected      1223\n",
    "nombre_sain          2017\n",
    "nombre_exposed        631\n",
    "nombre_recovered    16129\n",
    "Name: 496, dtype: int64"
   ]
  },
  {
   "cell_type": "markdown",
   "id": "d71ed118",
   "metadata": {},
   "source": [
    "nombre_infected      1243\n",
    "nombre_sain          1973\n",
    "nombre_exposed        631\n",
    "nombre_recovered    16153\n",
    "Name: 497, dtype: int64"
   ]
  },
  {
   "cell_type": "markdown",
   "id": "e3c730f1",
   "metadata": {},
   "source": [
    "nombre_infected      1239\n",
    "nombre_sain          1922\n",
    "nombre_exposed        635\n",
    "nombre_recovered    16204\n",
    "Name: 498, dtype: int64"
   ]
  },
  {
   "cell_type": "markdown",
   "id": "8fdf545b",
   "metadata": {},
   "source": [
    "nombre_infected      1294\n",
    "nombre_sain          1886\n",
    "nombre_exposed        631\n",
    "nombre_recovered    16189\n",
    "Name: 499, dtype: int64"
   ]
  },
  {
   "cell_type": "markdown",
   "id": "cd26b3aa",
   "metadata": {},
   "source": [
    "nombre_infected      1279\n",
    "nombre_sain          1871\n",
    "nombre_exposed        626\n",
    "nombre_recovered    16224\n",
    "Name: 500, dtype: int64"
   ]
  },
  {
   "cell_type": "markdown",
   "id": "93afe499",
   "metadata": {},
   "source": [
    "nombre_infected      1301\n",
    "nombre_sain          1839\n",
    "nombre_exposed        606\n",
    "nombre_recovered    16254\n",
    "Name: 501, dtype: int64"
   ]
  },
  {
   "cell_type": "markdown",
   "id": "720437f4",
   "metadata": {},
   "source": [
    "nombre_infected      1296\n",
    "nombre_sain          1800\n",
    "nombre_exposed        607\n",
    "nombre_recovered    16297\n",
    "Name: 502, dtype: int64"
   ]
  },
  {
   "cell_type": "markdown",
   "id": "52708f37",
   "metadata": {},
   "source": [
    "nombre_infected      1299\n",
    "nombre_sain          1775\n",
    "nombre_exposed        617\n",
    "nombre_recovered    16309\n",
    "Name: 503, dtype: int64"
   ]
  },
  {
   "cell_type": "markdown",
   "id": "ace6d6f2",
   "metadata": {},
   "source": [
    "nombre_infected      1292\n",
    "nombre_sain          1754\n",
    "nombre_exposed        621\n",
    "nombre_recovered    16333\n",
    "Name: 504, dtype: int64"
   ]
  },
  {
   "cell_type": "markdown",
   "id": "d5295b99",
   "metadata": {},
   "source": [
    "nombre_infected      1269\n",
    "nombre_sain          1707\n",
    "nombre_exposed        621\n",
    "nombre_recovered    16403\n",
    "Name: 505, dtype: int64"
   ]
  },
  {
   "cell_type": "markdown",
   "id": "4eab4cea",
   "metadata": {},
   "source": [
    "nombre_infected      1259\n",
    "nombre_sain          1710\n",
    "nombre_exposed        613\n",
    "nombre_recovered    16418\n",
    "Name: 506, dtype: int64"
   ]
  },
  {
   "cell_type": "markdown",
   "id": "631c984b",
   "metadata": {},
   "source": [
    "nombre_infected      1246\n",
    "nombre_sain          1732\n",
    "nombre_exposed        581\n",
    "nombre_recovered    16441\n",
    "Name: 507, dtype: int64"
   ]
  },
  {
   "cell_type": "markdown",
   "id": "1ce1c021",
   "metadata": {},
   "source": [
    "nombre_infected      1240\n",
    "nombre_sain          1720\n",
    "nombre_exposed        585\n",
    "nombre_recovered    16455\n",
    "Name: 508, dtype: int64"
   ]
  },
  {
   "cell_type": "markdown",
   "id": "d7e05391",
   "metadata": {},
   "source": [
    "nombre_infected      1245\n",
    "nombre_sain          1721\n",
    "nombre_exposed        585\n",
    "nombre_recovered    16449\n",
    "Name: 509, dtype: int64"
   ]
  },
  {
   "cell_type": "markdown",
   "id": "c54081ae",
   "metadata": {},
   "source": [
    "nombre_infected      1244\n",
    "nombre_sain          1716\n",
    "nombre_exposed        572\n",
    "nombre_recovered    16468\n",
    "Name: 510, dtype: int64"
   ]
  },
  {
   "cell_type": "markdown",
   "id": "a80feff8",
   "metadata": {},
   "source": [
    "nombre_infected      1251\n",
    "nombre_sain          1716\n",
    "nombre_exposed        558\n",
    "nombre_recovered    16475\n",
    "Name: 511, dtype: int64"
   ]
  },
  {
   "cell_type": "markdown",
   "id": "1a81403c",
   "metadata": {},
   "source": [
    "nombre_infected      1243\n",
    "nombre_sain          1708\n",
    "nombre_exposed        582\n",
    "nombre_recovered    16467\n",
    "Name: 512, dtype: int64"
   ]
  },
  {
   "cell_type": "markdown",
   "id": "7ab7ae75",
   "metadata": {},
   "source": [
    "nombre_infected      1229\n",
    "nombre_sain          1713\n",
    "nombre_exposed        590\n",
    "nombre_recovered    16468\n",
    "Name: 513, dtype: int64"
   ]
  },
  {
   "cell_type": "markdown",
   "id": "7586cba0",
   "metadata": {},
   "source": [
    "nombre_infected      1233\n",
    "nombre_sain          1694\n",
    "nombre_exposed        584\n",
    "nombre_recovered    16489\n",
    "Name: 514, dtype: int64"
   ]
  },
  {
   "cell_type": "markdown",
   "id": "18a70491",
   "metadata": {},
   "source": [
    "nombre_infected      1253\n",
    "nombre_sain          1686\n",
    "nombre_exposed        581\n",
    "nombre_recovered    16480\n",
    "Name: 515, dtype: int64"
   ]
  },
  {
   "cell_type": "markdown",
   "id": "643bf164",
   "metadata": {},
   "source": [
    "nombre_infected      1242\n",
    "nombre_sain          1674\n",
    "nombre_exposed        586\n",
    "nombre_recovered    16498\n",
    "Name: 516, dtype: int64"
   ]
  },
  {
   "cell_type": "markdown",
   "id": "39d8c4d0",
   "metadata": {},
   "source": [
    "nombre_infected      1230\n",
    "nombre_sain          1660\n",
    "nombre_exposed        594\n",
    "nombre_recovered    16516\n",
    "Name: 517, dtype: int64"
   ]
  },
  {
   "cell_type": "markdown",
   "id": "c9066816",
   "metadata": {},
   "source": [
    "nombre_infected      1243\n",
    "nombre_sain          1642\n",
    "nombre_exposed        571\n",
    "nombre_recovered    16544\n",
    "Name: 518, dtype: int64"
   ]
  },
  {
   "cell_type": "markdown",
   "id": "00685083",
   "metadata": {},
   "source": [
    "nombre_infected      1216\n",
    "nombre_sain          1615\n",
    "nombre_exposed        605\n",
    "nombre_recovered    16564\n",
    "Name: 519, dtype: int64"
   ]
  },
  {
   "cell_type": "markdown",
   "id": "9843b536",
   "metadata": {},
   "source": [
    "nombre_infected      1213\n",
    "nombre_sain          1647\n",
    "nombre_exposed        574\n",
    "nombre_recovered    16566\n",
    "Name: 520, dtype: int64"
   ]
  },
  {
   "cell_type": "markdown",
   "id": "db9e3ae4",
   "metadata": {},
   "source": [
    "nombre_infected      1172\n",
    "nombre_sain          1659\n",
    "nombre_exposed        583\n",
    "nombre_recovered    16586\n",
    "Name: 521, dtype: int64"
   ]
  },
  {
   "cell_type": "markdown",
   "id": "110db144",
   "metadata": {},
   "source": [
    "nombre_infected      1156\n",
    "nombre_sain          1675\n",
    "nombre_exposed        571\n",
    "nombre_recovered    16598\n",
    "Name: 522, dtype: int64"
   ]
  },
  {
   "cell_type": "markdown",
   "id": "565b9f4c",
   "metadata": {},
   "source": [
    "nombre_infected      1157\n",
    "nombre_sain          1716\n",
    "nombre_exposed        550\n",
    "nombre_recovered    16577\n",
    "Name: 523, dtype: int64"
   ]
  },
  {
   "cell_type": "markdown",
   "id": "0004566d",
   "metadata": {},
   "source": [
    "nombre_infected      1149\n",
    "nombre_sain          1731\n",
    "nombre_exposed        549\n",
    "nombre_recovered    16571\n",
    "Name: 524, dtype: int64"
   ]
  },
  {
   "cell_type": "markdown",
   "id": "d8a8ab05",
   "metadata": {},
   "source": [
    "nombre_infected      1132\n",
    "nombre_sain          1752\n",
    "nombre_exposed        541\n",
    "nombre_recovered    16575\n",
    "Name: 525, dtype: int64"
   ]
  },
  {
   "cell_type": "markdown",
   "id": "d3008d57",
   "metadata": {},
   "source": [
    "nombre_infected      1123\n",
    "nombre_sain          1758\n",
    "nombre_exposed        566\n",
    "nombre_recovered    16553\n",
    "Name: 526, dtype: int64"
   ]
  },
  {
   "cell_type": "markdown",
   "id": "6dab5f05",
   "metadata": {},
   "source": [
    "nombre_infected      1133\n",
    "nombre_sain          1772\n",
    "nombre_exposed        568\n",
    "nombre_recovered    16527\n",
    "Name: 527, dtype: int64"
   ]
  },
  {
   "cell_type": "markdown",
   "id": "a37b9287",
   "metadata": {},
   "source": [
    "nombre_infected      1125\n",
    "nombre_sain          1786\n",
    "nombre_exposed        557\n",
    "nombre_recovered    16532\n",
    "Name: 528, dtype: int64"
   ]
  },
  {
   "cell_type": "markdown",
   "id": "f88e2bde",
   "metadata": {},
   "source": [
    "nombre_infected      1133\n",
    "nombre_sain          1812\n",
    "nombre_exposed        530\n",
    "nombre_recovered    16525\n",
    "Name: 529, dtype: int64"
   ]
  },
  {
   "cell_type": "markdown",
   "id": "70d7d44f",
   "metadata": {},
   "source": [
    "nombre_infected      1125\n",
    "nombre_sain          1812\n",
    "nombre_exposed        545\n",
    "nombre_recovered    16518\n",
    "Name: 530, dtype: int64"
   ]
  },
  {
   "cell_type": "markdown",
   "id": "5de82794",
   "metadata": {},
   "source": [
    "nombre_infected      1142\n",
    "nombre_sain          1823\n",
    "nombre_exposed        526\n",
    "nombre_recovered    16509\n",
    "Name: 531, dtype: int64"
   ]
  },
  {
   "cell_type": "markdown",
   "id": "07574a38",
   "metadata": {},
   "source": [
    "nombre_infected      1131\n",
    "nombre_sain          1830\n",
    "nombre_exposed        527\n",
    "nombre_recovered    16512\n",
    "Name: 532, dtype: int64"
   ]
  },
  {
   "cell_type": "markdown",
   "id": "6a4b2e9e",
   "metadata": {},
   "source": [
    "nombre_infected      1134\n",
    "nombre_sain          1841\n",
    "nombre_exposed        534\n",
    "nombre_recovered    16491\n",
    "Name: 533, dtype: int64"
   ]
  },
  {
   "cell_type": "markdown",
   "id": "6115d40a",
   "metadata": {},
   "source": [
    "nombre_infected      1137\n",
    "nombre_sain          1835\n",
    "nombre_exposed        511\n",
    "nombre_recovered    16517\n",
    "Name: 534, dtype: int64"
   ]
  },
  {
   "cell_type": "markdown",
   "id": "5697e572",
   "metadata": {},
   "source": [
    "nombre_infected      1123\n",
    "nombre_sain          1870\n",
    "nombre_exposed        503\n",
    "nombre_recovered    16504\n",
    "Name: 535, dtype: int64"
   ]
  },
  {
   "cell_type": "markdown",
   "id": "535f1016",
   "metadata": {},
   "source": [
    "nombre_infected      1104\n",
    "nombre_sain          1847\n",
    "nombre_exposed        532\n",
    "nombre_recovered    16517\n",
    "Name: 536, dtype: int64"
   ]
  },
  {
   "cell_type": "markdown",
   "id": "5bf899ed",
   "metadata": {},
   "source": [
    "nombre_infected      1108\n",
    "nombre_sain          1841\n",
    "nombre_exposed        530\n",
    "nombre_recovered    16521\n",
    "Name: 537, dtype: int64"
   ]
  },
  {
   "cell_type": "markdown",
   "id": "ebb5b801",
   "metadata": {},
   "source": [
    "nombre_infected      1101\n",
    "nombre_sain          1846\n",
    "nombre_exposed        516\n",
    "nombre_recovered    16537\n",
    "Name: 538, dtype: int64"
   ]
  },
  {
   "cell_type": "markdown",
   "id": "5becb113",
   "metadata": {},
   "source": [
    "nombre_infected      1071\n",
    "nombre_sain          1839\n",
    "nombre_exposed        519\n",
    "nombre_recovered    16571\n",
    "Name: 539, dtype: int64"
   ]
  },
  {
   "cell_type": "markdown",
   "id": "d319fa5e",
   "metadata": {},
   "source": [
    "nombre_infected      1107\n",
    "nombre_sain          1839\n",
    "nombre_exposed        531\n",
    "nombre_recovered    16523\n",
    "Name: 540, dtype: int64"
   ]
  },
  {
   "cell_type": "markdown",
   "id": "d7167e53",
   "metadata": {},
   "source": [
    "nombre_infected      1110\n",
    "nombre_sain          1856\n",
    "nombre_exposed        527\n",
    "nombre_recovered    16507\n",
    "Name: 541, dtype: int64"
   ]
  },
  {
   "cell_type": "markdown",
   "id": "33ad077a",
   "metadata": {},
   "source": [
    "nombre_infected      1119\n",
    "nombre_sain          1866\n",
    "nombre_exposed        518\n",
    "nombre_recovered    16497\n",
    "Name: 542, dtype: int64"
   ]
  },
  {
   "cell_type": "markdown",
   "id": "98e3a0b2",
   "metadata": {},
   "source": [
    "nombre_infected      1113\n",
    "nombre_sain          1857\n",
    "nombre_exposed        521\n",
    "nombre_recovered    16509\n",
    "Name: 543, dtype: int64"
   ]
  },
  {
   "cell_type": "markdown",
   "id": "29ff7761",
   "metadata": {},
   "source": [
    "nombre_infected      1108\n",
    "nombre_sain          1854\n",
    "nombre_exposed        526\n",
    "nombre_recovered    16512\n",
    "Name: 544, dtype: int64"
   ]
  },
  {
   "cell_type": "markdown",
   "id": "c6119a8d",
   "metadata": {},
   "source": [
    "nombre_infected      1084\n",
    "nombre_sain          1849\n",
    "nombre_exposed        545\n",
    "nombre_recovered    16522\n",
    "Name: 545, dtype: int64"
   ]
  },
  {
   "cell_type": "markdown",
   "id": "6b55ee5a",
   "metadata": {},
   "source": [
    "nombre_infected      1111\n",
    "nombre_sain          1838\n",
    "nombre_exposed        547\n",
    "nombre_recovered    16504\n",
    "Name: 546, dtype: int64"
   ]
  },
  {
   "cell_type": "markdown",
   "id": "79267a41",
   "metadata": {},
   "source": [
    "nombre_infected      1094\n",
    "nombre_sain          1819\n",
    "nombre_exposed        546\n",
    "nombre_recovered    16541\n",
    "Name: 547, dtype: int64"
   ]
  },
  {
   "cell_type": "markdown",
   "id": "9d75932f",
   "metadata": {},
   "source": [
    "nombre_infected      1070\n",
    "nombre_sain          1819\n",
    "nombre_exposed        580\n",
    "nombre_recovered    16531\n",
    "Name: 548, dtype: int64"
   ]
  },
  {
   "cell_type": "markdown",
   "id": "7f62bc7a",
   "metadata": {},
   "source": [
    "nombre_infected      1080\n",
    "nombre_sain          1827\n",
    "nombre_exposed        575\n",
    "nombre_recovered    16518\n",
    "Name: 549, dtype: int64"
   ]
  },
  {
   "cell_type": "markdown",
   "id": "edba851f",
   "metadata": {},
   "source": [
    "nombre_infected      1120\n",
    "nombre_sain          1820\n",
    "nombre_exposed        558\n",
    "nombre_recovered    16502\n",
    "Name: 550, dtype: int64"
   ]
  },
  {
   "cell_type": "markdown",
   "id": "b42bf932",
   "metadata": {},
   "source": [
    "nombre_infected      1134\n",
    "nombre_sain          1824\n",
    "nombre_exposed        555\n",
    "nombre_recovered    16487\n",
    "Name: 551, dtype: int64"
   ]
  },
  {
   "cell_type": "markdown",
   "id": "25bdc739",
   "metadata": {},
   "source": [
    "nombre_infected      1126\n",
    "nombre_sain          1829\n",
    "nombre_exposed        546\n",
    "nombre_recovered    16499\n",
    "Name: 552, dtype: int64"
   ]
  },
  {
   "cell_type": "markdown",
   "id": "552b5963",
   "metadata": {},
   "source": [
    "nombre_infected      1115\n",
    "nombre_sain          1868\n",
    "nombre_exposed        539\n",
    "nombre_recovered    16478\n",
    "Name: 553, dtype: int64"
   ]
  },
  {
   "cell_type": "markdown",
   "id": "f8a6f95d",
   "metadata": {},
   "source": [
    "nombre_infected      1133\n",
    "nombre_sain          1859\n",
    "nombre_exposed        514\n",
    "nombre_recovered    16494\n",
    "Name: 554, dtype: int64"
   ]
  },
  {
   "cell_type": "markdown",
   "id": "0264e43b",
   "metadata": {},
   "source": [
    "nombre_infected      1113\n",
    "nombre_sain          1874\n",
    "nombre_exposed        522\n",
    "nombre_recovered    16491\n",
    "Name: 555, dtype: int64"
   ]
  },
  {
   "cell_type": "markdown",
   "id": "77d97fd4",
   "metadata": {},
   "source": [
    "nombre_infected      1126\n",
    "nombre_sain          1879\n",
    "nombre_exposed        523\n",
    "nombre_recovered    16472\n",
    "Name: 556, dtype: int64"
   ]
  },
  {
   "cell_type": "markdown",
   "id": "1e7d0911",
   "metadata": {},
   "source": [
    "nombre_infected      1097\n",
    "nombre_sain          1916\n",
    "nombre_exposed        531\n",
    "nombre_recovered    16456\n",
    "Name: 557, dtype: int64"
   ]
  },
  {
   "cell_type": "markdown",
   "id": "67194e2f",
   "metadata": {},
   "source": [
    "nombre_infected      1104\n",
    "nombre_sain          1943\n",
    "nombre_exposed        502\n",
    "nombre_recovered    16451\n",
    "Name: 558, dtype: int64"
   ]
  },
  {
   "cell_type": "markdown",
   "id": "2bc4a73b",
   "metadata": {},
   "source": [
    "nombre_infected      1075\n",
    "nombre_sain          1964\n",
    "nombre_exposed        517\n",
    "nombre_recovered    16444\n",
    "Name: 559, dtype: int64"
   ]
  },
  {
   "cell_type": "markdown",
   "id": "a939edbf",
   "metadata": {},
   "source": [
    "nombre_infected      1081\n",
    "nombre_sain          1975\n",
    "nombre_exposed        531\n",
    "nombre_recovered    16413\n",
    "Name: 560, dtype: int64"
   ]
  },
  {
   "cell_type": "markdown",
   "id": "53e57bb2",
   "metadata": {},
   "source": [
    "nombre_infected      1062\n",
    "nombre_sain          2017\n",
    "nombre_exposed        538\n",
    "nombre_recovered    16383\n",
    "Name: 561, dtype: int64"
   ]
  },
  {
   "cell_type": "markdown",
   "id": "a503ac73",
   "metadata": {},
   "source": [
    "nombre_infected      1063\n",
    "nombre_sain          2035\n",
    "nombre_exposed        532\n",
    "nombre_recovered    16370\n",
    "Name: 562, dtype: int64"
   ]
  },
  {
   "cell_type": "markdown",
   "id": "ce2ed665",
   "metadata": {},
   "source": [
    "nombre_infected      1064\n",
    "nombre_sain          2030\n",
    "nombre_exposed        535\n",
    "nombre_recovered    16371\n",
    "Name: 563, dtype: int64"
   ]
  },
  {
   "cell_type": "markdown",
   "id": "843fe57d",
   "metadata": {},
   "source": [
    "nombre_infected      1059\n",
    "nombre_sain          2026\n",
    "nombre_exposed        562\n",
    "nombre_recovered    16353\n",
    "Name: 564, dtype: int64"
   ]
  },
  {
   "cell_type": "markdown",
   "id": "430d14b5",
   "metadata": {},
   "source": [
    "nombre_infected      1058\n",
    "nombre_sain          2027\n",
    "nombre_exposed        556\n",
    "nombre_recovered    16359\n",
    "Name: 565, dtype: int64"
   ]
  },
  {
   "cell_type": "markdown",
   "id": "0de8ca09",
   "metadata": {},
   "source": [
    "nombre_infected      1061\n",
    "nombre_sain          2010\n",
    "nombre_exposed        560\n",
    "nombre_recovered    16369\n",
    "Name: 566, dtype: int64"
   ]
  },
  {
   "cell_type": "markdown",
   "id": "42071c23",
   "metadata": {},
   "source": [
    "nombre_infected      1036\n",
    "nombre_sain          2037\n",
    "nombre_exposed        589\n",
    "nombre_recovered    16338\n",
    "Name: 567, dtype: int64"
   ]
  },
  {
   "cell_type": "markdown",
   "id": "ac48a62b",
   "metadata": {},
   "source": [
    "nombre_infected      1048\n",
    "nombre_sain          2038\n",
    "nombre_exposed        573\n",
    "nombre_recovered    16341\n",
    "Name: 568, dtype: int64"
   ]
  },
  {
   "cell_type": "markdown",
   "id": "0f3d1d24",
   "metadata": {},
   "source": [
    "nombre_infected      1059\n",
    "nombre_sain          2016\n",
    "nombre_exposed        580\n",
    "nombre_recovered    16345\n",
    "Name: 569, dtype: int64"
   ]
  },
  {
   "cell_type": "markdown",
   "id": "30cd5fa0",
   "metadata": {},
   "source": [
    "nombre_infected      1065\n",
    "nombre_sain          2016\n",
    "nombre_exposed        586\n",
    "nombre_recovered    16333\n",
    "Name: 570, dtype: int64"
   ]
  },
  {
   "cell_type": "markdown",
   "id": "e1c8c965",
   "metadata": {},
   "source": [
    "nombre_infected      1056\n",
    "nombre_sain          2012\n",
    "nombre_exposed        622\n",
    "nombre_recovered    16310\n",
    "Name: 571, dtype: int64"
   ]
  },
  {
   "cell_type": "markdown",
   "id": "1967c7fb",
   "metadata": {},
   "source": [
    "nombre_infected      1058\n",
    "nombre_sain          1983\n",
    "nombre_exposed        627\n",
    "nombre_recovered    16332\n",
    "Name: 572, dtype: int64"
   ]
  },
  {
   "cell_type": "markdown",
   "id": "fcb0a64c",
   "metadata": {},
   "source": [
    "nombre_infected      1078\n",
    "nombre_sain          2009\n",
    "nombre_exposed        605\n",
    "nombre_recovered    16308\n",
    "Name: 573, dtype: int64"
   ]
  },
  {
   "cell_type": "markdown",
   "id": "f8243a92",
   "metadata": {},
   "source": [
    "nombre_infected      1095\n",
    "nombre_sain          2030\n",
    "nombre_exposed        587\n",
    "nombre_recovered    16288\n",
    "Name: 574, dtype: int64"
   ]
  },
  {
   "cell_type": "markdown",
   "id": "3d0ab70a",
   "metadata": {},
   "source": [
    "nombre_infected      1106\n",
    "nombre_sain          2003\n",
    "nombre_exposed        602\n",
    "nombre_recovered    16289\n",
    "Name: 575, dtype: int64"
   ]
  },
  {
   "cell_type": "markdown",
   "id": "38a17cff",
   "metadata": {},
   "source": [
    "nombre_infected      1100\n",
    "nombre_sain          1985\n",
    "nombre_exposed        601\n",
    "nombre_recovered    16314\n",
    "Name: 576, dtype: int64"
   ]
  },
  {
   "cell_type": "markdown",
   "id": "bd231df5",
   "metadata": {},
   "source": [
    "nombre_infected      1116\n",
    "nombre_sain          2002\n",
    "nombre_exposed        578\n",
    "nombre_recovered    16304\n",
    "Name: 577, dtype: int64"
   ]
  },
  {
   "cell_type": "markdown",
   "id": "f9012c3a",
   "metadata": {},
   "source": [
    "nombre_infected      1103\n",
    "nombre_sain          2017\n",
    "nombre_exposed        577\n",
    "nombre_recovered    16303\n",
    "Name: 578, dtype: int64"
   ]
  },
  {
   "cell_type": "markdown",
   "id": "034e8fa8",
   "metadata": {},
   "source": [
    "nombre_infected      1110\n",
    "nombre_sain          2016\n",
    "nombre_exposed        587\n",
    "nombre_recovered    16287\n",
    "Name: 579, dtype: int64"
   ]
  },
  {
   "cell_type": "markdown",
   "id": "bfc5ae13",
   "metadata": {},
   "source": [
    "nombre_infected      1096\n",
    "nombre_sain          2019\n",
    "nombre_exposed        585\n",
    "nombre_recovered    16300\n",
    "Name: 580, dtype: int64"
   ]
  },
  {
   "cell_type": "markdown",
   "id": "a5efb229",
   "metadata": {},
   "source": [
    "nombre_infected      1093\n",
    "nombre_sain          1981\n",
    "nombre_exposed        608\n",
    "nombre_recovered    16318\n",
    "Name: 581, dtype: int64"
   ]
  },
  {
   "cell_type": "markdown",
   "id": "59d9921d",
   "metadata": {},
   "source": [
    "nombre_infected      1068\n",
    "nombre_sain          1984\n",
    "nombre_exposed        617\n",
    "nombre_recovered    16331\n",
    "Name: 582, dtype: int64"
   ]
  },
  {
   "cell_type": "markdown",
   "id": "3510743f",
   "metadata": {},
   "source": [
    "nombre_infected      1087\n",
    "nombre_sain          1983\n",
    "nombre_exposed        612\n",
    "nombre_recovered    16318\n",
    "Name: 583, dtype: int64"
   ]
  },
  {
   "cell_type": "markdown",
   "id": "190111ed",
   "metadata": {},
   "source": [
    "nombre_infected      1093\n",
    "nombre_sain          1985\n",
    "nombre_exposed        620\n",
    "nombre_recovered    16302\n",
    "Name: 584, dtype: int64"
   ]
  },
  {
   "cell_type": "markdown",
   "id": "984c4b2e",
   "metadata": {},
   "source": [
    "nombre_infected      1083\n",
    "nombre_sain          1990\n",
    "nombre_exposed        623\n",
    "nombre_recovered    16304\n",
    "Name: 585, dtype: int64"
   ]
  },
  {
   "cell_type": "markdown",
   "id": "5076deb0",
   "metadata": {},
   "source": [
    "nombre_infected      1079\n",
    "nombre_sain          1991\n",
    "nombre_exposed        624\n",
    "nombre_recovered    16306\n",
    "Name: 586, dtype: int64"
   ]
  },
  {
   "cell_type": "markdown",
   "id": "cca5cb72",
   "metadata": {},
   "source": [
    "nombre_infected      1093\n",
    "nombre_sain          1990\n",
    "nombre_exposed        616\n",
    "nombre_recovered    16301\n",
    "Name: 587, dtype: int64"
   ]
  },
  {
   "cell_type": "markdown",
   "id": "5a14d652",
   "metadata": {},
   "source": [
    "nombre_infected      1104\n",
    "nombre_sain          1982\n",
    "nombre_exposed        591\n",
    "nombre_recovered    16323\n",
    "Name: 588, dtype: int64"
   ]
  },
  {
   "cell_type": "markdown",
   "id": "ca16b940",
   "metadata": {},
   "source": [
    "nombre_infected      1119\n",
    "nombre_sain          1978\n",
    "nombre_exposed        570\n",
    "nombre_recovered    16333\n",
    "Name: 589, dtype: int64"
   ]
  },
  {
   "cell_type": "markdown",
   "id": "d0076b56",
   "metadata": {},
   "source": [
    "nombre_infected      1105\n",
    "nombre_sain          1989\n",
    "nombre_exposed        572\n",
    "nombre_recovered    16334\n",
    "Name: 590, dtype: int64"
   ]
  },
  {
   "cell_type": "markdown",
   "id": "d5ac0e94",
   "metadata": {},
   "source": [
    "nombre_infected      1081\n",
    "nombre_sain          1965\n",
    "nombre_exposed        580\n",
    "nombre_recovered    16374\n",
    "Name: 591, dtype: int64"
   ]
  },
  {
   "cell_type": "markdown",
   "id": "17fb0b20",
   "metadata": {},
   "source": [
    "nombre_infected      1069\n",
    "nombre_sain          1979\n",
    "nombre_exposed        585\n",
    "nombre_recovered    16367\n",
    "Name: 592, dtype: int64"
   ]
  },
  {
   "cell_type": "markdown",
   "id": "fbccda08",
   "metadata": {},
   "source": [
    "nombre_infected      1087\n",
    "nombre_sain          1976\n",
    "nombre_exposed        569\n",
    "nombre_recovered    16368\n",
    "Name: 593, dtype: int64"
   ]
  },
  {
   "cell_type": "markdown",
   "id": "0dc3c1e8",
   "metadata": {},
   "source": [
    "nombre_infected      1097\n",
    "nombre_sain          1975\n",
    "nombre_exposed        565\n",
    "nombre_recovered    16363\n",
    "Name: 594, dtype: int64"
   ]
  },
  {
   "cell_type": "markdown",
   "id": "11d8558b",
   "metadata": {},
   "source": [
    "nombre_infected      1072\n",
    "nombre_sain          1971\n",
    "nombre_exposed        567\n",
    "nombre_recovered    16390\n",
    "Name: 595, dtype: int64"
   ]
  },
  {
   "cell_type": "markdown",
   "id": "9230becf",
   "metadata": {},
   "source": [
    "nombre_infected      1062\n",
    "nombre_sain          1960\n",
    "nombre_exposed        569\n",
    "nombre_recovered    16409\n",
    "Name: 596, dtype: int64"
   ]
  },
  {
   "cell_type": "markdown",
   "id": "f32f943d",
   "metadata": {},
   "source": [
    "nombre_infected      1054\n",
    "nombre_sain          1976\n",
    "nombre_exposed        550\n",
    "nombre_recovered    16420\n",
    "Name: 597, dtype: int64"
   ]
  },
  {
   "cell_type": "markdown",
   "id": "a6c03094",
   "metadata": {},
   "source": [
    "nombre_infected      1065\n",
    "nombre_sain          1948\n",
    "nombre_exposed        557\n",
    "nombre_recovered    16430\n",
    "Name: 598, dtype: int64"
   ]
  },
  {
   "cell_type": "markdown",
   "id": "f2ebffb0",
   "metadata": {},
   "source": [
    "nombre_infected      1062\n",
    "nombre_sain          1940\n",
    "nombre_exposed        568\n",
    "nombre_recovered    16430\n",
    "Name: 599, dtype: int64"
   ]
  },
  {
   "cell_type": "markdown",
   "id": "a8c42a5a",
   "metadata": {},
   "source": [
    "nombre_infected      1065\n",
    "nombre_sain          1928\n",
    "nombre_exposed        573\n",
    "nombre_recovered    16434\n",
    "Name: 600, dtype: int64"
   ]
  },
  {
   "cell_type": "markdown",
   "id": "e8dd4664",
   "metadata": {},
   "source": [
    "nombre_infected      1082\n",
    "nombre_sain          1932\n",
    "nombre_exposed        555\n",
    "nombre_recovered    16431\n",
    "Name: 601, dtype: int64"
   ]
  },
  {
   "cell_type": "markdown",
   "id": "4c0a51c5",
   "metadata": {},
   "source": [
    "nombre_infected      1038\n",
    "nombre_sain          1965\n",
    "nombre_exposed        556\n",
    "nombre_recovered    16441\n",
    "Name: 602, dtype: int64"
   ]
  },
  {
   "cell_type": "markdown",
   "id": "01120f21",
   "metadata": {},
   "source": [
    "nombre_infected      1044\n",
    "nombre_sain          1972\n",
    "nombre_exposed        550\n",
    "nombre_recovered    16434\n",
    "Name: 603, dtype: int64"
   ]
  },
  {
   "cell_type": "markdown",
   "id": "e5aa7573",
   "metadata": {},
   "source": [
    "nombre_infected      1061\n",
    "nombre_sain          2001\n",
    "nombre_exposed        525\n",
    "nombre_recovered    16413\n",
    "Name: 604, dtype: int64"
   ]
  },
  {
   "cell_type": "markdown",
   "id": "39401dfa",
   "metadata": {},
   "source": [
    "nombre_infected      1039\n",
    "nombre_sain          1995\n",
    "nombre_exposed        548\n",
    "nombre_recovered    16418\n",
    "Name: 605, dtype: int64"
   ]
  },
  {
   "cell_type": "markdown",
   "id": "e1e443a7",
   "metadata": {},
   "source": [
    "nombre_infected      1006\n",
    "nombre_sain          2004\n",
    "nombre_exposed        562\n",
    "nombre_recovered    16428\n",
    "Name: 606, dtype: int64"
   ]
  },
  {
   "cell_type": "markdown",
   "id": "6271a7d0",
   "metadata": {},
   "source": [
    "nombre_infected       993\n",
    "nombre_sain          1998\n",
    "nombre_exposed        571\n",
    "nombre_recovered    16438\n",
    "Name: 607, dtype: int64"
   ]
  },
  {
   "cell_type": "markdown",
   "id": "4996c00f",
   "metadata": {},
   "source": [
    "nombre_infected       977\n",
    "nombre_sain          1990\n",
    "nombre_exposed        608\n",
    "nombre_recovered    16425\n",
    "Name: 608, dtype: int64"
   ]
  },
  {
   "cell_type": "markdown",
   "id": "73a60cae",
   "metadata": {},
   "source": [
    "nombre_infected       979\n",
    "nombre_sain          2010\n",
    "nombre_exposed        581\n",
    "nombre_recovered    16430\n",
    "Name: 609, dtype: int64"
   ]
  },
  {
   "cell_type": "markdown",
   "id": "d99857d7",
   "metadata": {},
   "source": [
    "nombre_infected       997\n",
    "nombre_sain          2018\n",
    "nombre_exposed        550\n",
    "nombre_recovered    16435\n",
    "Name: 610, dtype: int64"
   ]
  },
  {
   "cell_type": "markdown",
   "id": "d6e78459",
   "metadata": {},
   "source": [
    "nombre_infected      1017\n",
    "nombre_sain          2027\n",
    "nombre_exposed        548\n",
    "nombre_recovered    16408\n",
    "Name: 611, dtype: int64"
   ]
  },
  {
   "cell_type": "markdown",
   "id": "b5bbcac5",
   "metadata": {},
   "source": [
    "nombre_infected      1024\n",
    "nombre_sain          2035\n",
    "nombre_exposed        551\n",
    "nombre_recovered    16390\n",
    "Name: 612, dtype: int64"
   ]
  },
  {
   "cell_type": "markdown",
   "id": "bbe4a3b9",
   "metadata": {},
   "source": [
    "nombre_infected      1013\n",
    "nombre_sain          2055\n",
    "nombre_exposed        563\n",
    "nombre_recovered    16369\n",
    "Name: 613, dtype: int64"
   ]
  },
  {
   "cell_type": "markdown",
   "id": "67ce08a3",
   "metadata": {},
   "source": [
    "nombre_infected       990\n",
    "nombre_sain          2036\n",
    "nombre_exposed        566\n",
    "nombre_recovered    16408\n",
    "Name: 614, dtype: int64"
   ]
  },
  {
   "cell_type": "markdown",
   "id": "0c2d2aaf",
   "metadata": {},
   "source": [
    "nombre_infected       984\n",
    "nombre_sain          2055\n",
    "nombre_exposed        570\n",
    "nombre_recovered    16391\n",
    "Name: 615, dtype: int64"
   ]
  },
  {
   "cell_type": "markdown",
   "id": "12206f44",
   "metadata": {},
   "source": [
    "nombre_infected       977\n",
    "nombre_sain          2077\n",
    "nombre_exposed        567\n",
    "nombre_recovered    16379\n",
    "Name: 616, dtype: int64"
   ]
  },
  {
   "cell_type": "markdown",
   "id": "fa97e5d1",
   "metadata": {},
   "source": [
    "nombre_infected       971\n",
    "nombre_sain          2089\n",
    "nombre_exposed        558\n",
    "nombre_recovered    16382\n",
    "Name: 617, dtype: int64"
   ]
  },
  {
   "cell_type": "markdown",
   "id": "ea337ae9",
   "metadata": {},
   "source": [
    "nombre_infected       977\n",
    "nombre_sain          2112\n",
    "nombre_exposed        551\n",
    "nombre_recovered    16360\n",
    "Name: 618, dtype: int64"
   ]
  },
  {
   "cell_type": "markdown",
   "id": "d0f149a4",
   "metadata": {},
   "source": [
    "nombre_infected       989\n",
    "nombre_sain          2155\n",
    "nombre_exposed        544\n",
    "nombre_recovered    16312\n",
    "Name: 619, dtype: int64"
   ]
  },
  {
   "cell_type": "markdown",
   "id": "3d5e5761",
   "metadata": {},
   "source": [
    "nombre_infected       999\n",
    "nombre_sain          2136\n",
    "nombre_exposed        574\n",
    "nombre_recovered    16291\n",
    "Name: 620, dtype: int64"
   ]
  },
  {
   "cell_type": "markdown",
   "id": "3420f00a",
   "metadata": {},
   "source": [
    "nombre_infected       991\n",
    "nombre_sain          2192\n",
    "nombre_exposed        568\n",
    "nombre_recovered    16249\n",
    "Name: 621, dtype: int64"
   ]
  },
  {
   "cell_type": "markdown",
   "id": "42e701ec",
   "metadata": {},
   "source": [
    "nombre_infected      1006\n",
    "nombre_sain          2217\n",
    "nombre_exposed        563\n",
    "nombre_recovered    16214\n",
    "Name: 622, dtype: int64"
   ]
  },
  {
   "cell_type": "markdown",
   "id": "41ee3fa9",
   "metadata": {},
   "source": [
    "nombre_infected       990\n",
    "nombre_sain          2228\n",
    "nombre_exposed        585\n",
    "nombre_recovered    16197\n",
    "Name: 623, dtype: int64"
   ]
  },
  {
   "cell_type": "markdown",
   "id": "a404edad",
   "metadata": {},
   "source": [
    "nombre_infected       990\n",
    "nombre_sain          2222\n",
    "nombre_exposed        607\n",
    "nombre_recovered    16181\n",
    "Name: 624, dtype: int64"
   ]
  },
  {
   "cell_type": "markdown",
   "id": "9769bbbd",
   "metadata": {},
   "source": [
    "nombre_infected       995\n",
    "nombre_sain          2241\n",
    "nombre_exposed        616\n",
    "nombre_recovered    16148\n",
    "Name: 625, dtype: int64"
   ]
  },
  {
   "cell_type": "markdown",
   "id": "85324ac4",
   "metadata": {},
   "source": [
    "nombre_infected       994\n",
    "nombre_sain          2238\n",
    "nombre_exposed        619\n",
    "nombre_recovered    16149\n",
    "Name: 626, dtype: int64"
   ]
  },
  {
   "cell_type": "markdown",
   "id": "f1de9621",
   "metadata": {},
   "source": [
    "nombre_infected       990\n",
    "nombre_sain          2243\n",
    "nombre_exposed        627\n",
    "nombre_recovered    16140\n",
    "Name: 627, dtype: int64"
   ]
  },
  {
   "cell_type": "markdown",
   "id": "d5abd6aa",
   "metadata": {},
   "source": [
    "nombre_infected       980\n",
    "nombre_sain          2234\n",
    "nombre_exposed        650\n",
    "nombre_recovered    16136\n",
    "Name: 628, dtype: int64"
   ]
  },
  {
   "cell_type": "markdown",
   "id": "766ec19c",
   "metadata": {},
   "source": [
    "nombre_infected      1006\n",
    "nombre_sain          2231\n",
    "nombre_exposed        642\n",
    "nombre_recovered    16121\n",
    "Name: 629, dtype: int64"
   ]
  },
  {
   "cell_type": "markdown",
   "id": "12e0e44e",
   "metadata": {},
   "source": [
    "nombre_infected      1008\n",
    "nombre_sain          2260\n",
    "nombre_exposed        630\n",
    "nombre_recovered    16102\n",
    "Name: 630, dtype: int64"
   ]
  },
  {
   "cell_type": "markdown",
   "id": "4e719bae",
   "metadata": {},
   "source": [
    "nombre_infected      1024\n",
    "nombre_sain          2275\n",
    "nombre_exposed        618\n",
    "nombre_recovered    16083\n",
    "Name: 631, dtype: int64"
   ]
  },
  {
   "cell_type": "markdown",
   "id": "170ef972",
   "metadata": {},
   "source": [
    "nombre_infected      1021\n",
    "nombre_sain          2294\n",
    "nombre_exposed        633\n",
    "nombre_recovered    16052\n",
    "Name: 632, dtype: int64"
   ]
  },
  {
   "cell_type": "markdown",
   "id": "457a743e",
   "metadata": {},
   "source": [
    "nombre_infected      1023\n",
    "nombre_sain          2286\n",
    "nombre_exposed        634\n",
    "nombre_recovered    16057\n",
    "Name: 633, dtype: int64"
   ]
  },
  {
   "cell_type": "markdown",
   "id": "b32ca1a6",
   "metadata": {},
   "source": [
    "nombre_infected      1020\n",
    "nombre_sain          2257\n",
    "nombre_exposed        661\n",
    "nombre_recovered    16062\n",
    "Name: 634, dtype: int64"
   ]
  },
  {
   "cell_type": "markdown",
   "id": "8369967c",
   "metadata": {},
   "source": [
    "nombre_infected      1034\n",
    "nombre_sain          2259\n",
    "nombre_exposed        661\n",
    "nombre_recovered    16046\n",
    "Name: 635, dtype: int64"
   ]
  },
  {
   "cell_type": "markdown",
   "id": "a9f0c936",
   "metadata": {},
   "source": [
    "nombre_infected      1031\n",
    "nombre_sain          2270\n",
    "nombre_exposed        656\n",
    "nombre_recovered    16043\n",
    "Name: 636, dtype: int64"
   ]
  },
  {
   "cell_type": "markdown",
   "id": "0bf71f5a",
   "metadata": {},
   "source": [
    "nombre_infected      1064\n",
    "nombre_sain          2275\n",
    "nombre_exposed        629\n",
    "nombre_recovered    16032\n",
    "Name: 637, dtype: int64"
   ]
  },
  {
   "cell_type": "markdown",
   "id": "da878573",
   "metadata": {},
   "source": [
    "nombre_infected      1064\n",
    "nombre_sain          2245\n",
    "nombre_exposed        655\n",
    "nombre_recovered    16036\n",
    "Name: 638, dtype: int64"
   ]
  },
  {
   "cell_type": "markdown",
   "id": "a873fe7a",
   "metadata": {},
   "source": [
    "nombre_infected      1072\n",
    "nombre_sain          2239\n",
    "nombre_exposed        653\n",
    "nombre_recovered    16036\n",
    "Name: 639, dtype: int64"
   ]
  },
  {
   "cell_type": "markdown",
   "id": "e47b0e53",
   "metadata": {},
   "source": [
    "nombre_infected      1082\n",
    "nombre_sain          2252\n",
    "nombre_exposed        636\n",
    "nombre_recovered    16030\n",
    "Name: 640, dtype: int64"
   ]
  },
  {
   "cell_type": "markdown",
   "id": "45930034",
   "metadata": {},
   "source": [
    "nombre_infected      1081\n",
    "nombre_sain          2227\n",
    "nombre_exposed        653\n",
    "nombre_recovered    16039\n",
    "Name: 641, dtype: int64"
   ]
  },
  {
   "cell_type": "markdown",
   "id": "b5c7f589",
   "metadata": {},
   "source": [
    "nombre_infected      1089\n",
    "nombre_sain          2205\n",
    "nombre_exposed        661\n",
    "nombre_recovered    16045\n",
    "Name: 642, dtype: int64"
   ]
  },
  {
   "cell_type": "markdown",
   "id": "47e505c0",
   "metadata": {},
   "source": [
    "nombre_infected      1077\n",
    "nombre_sain          2188\n",
    "nombre_exposed        679\n",
    "nombre_recovered    16056\n",
    "Name: 643, dtype: int64"
   ]
  },
  {
   "cell_type": "markdown",
   "id": "1a5e7b5b",
   "metadata": {},
   "source": [
    "nombre_infected      1093\n",
    "nombre_sain          2187\n",
    "nombre_exposed        652\n",
    "nombre_recovered    16068\n",
    "Name: 644, dtype: int64"
   ]
  },
  {
   "cell_type": "markdown",
   "id": "92854179",
   "metadata": {},
   "source": [
    "nombre_infected      1103\n",
    "nombre_sain          2165\n",
    "nombre_exposed        649\n",
    "nombre_recovered    16083\n",
    "Name: 645, dtype: int64"
   ]
  },
  {
   "cell_type": "markdown",
   "id": "00fe5e4c",
   "metadata": {},
   "source": [
    "nombre_infected      1107\n",
    "nombre_sain          2149\n",
    "nombre_exposed        638\n",
    "nombre_recovered    16106\n",
    "Name: 646, dtype: int64"
   ]
  },
  {
   "cell_type": "markdown",
   "id": "ad1e063a",
   "metadata": {},
   "source": [
    "nombre_infected      1135\n",
    "nombre_sain          2126\n",
    "nombre_exposed        628\n",
    "nombre_recovered    16111\n",
    "Name: 647, dtype: int64"
   ]
  },
  {
   "cell_type": "markdown",
   "id": "5233382e",
   "metadata": {},
   "source": [
    "nombre_infected      1146\n",
    "nombre_sain          2128\n",
    "nombre_exposed        630\n",
    "nombre_recovered    16096\n",
    "Name: 648, dtype: int64"
   ]
  },
  {
   "cell_type": "markdown",
   "id": "a0a3cafe",
   "metadata": {},
   "source": [
    "nombre_infected      1134\n",
    "nombre_sain          2105\n",
    "nombre_exposed        655\n",
    "nombre_recovered    16106\n",
    "Name: 649, dtype: int64"
   ]
  },
  {
   "cell_type": "markdown",
   "id": "0aceff39",
   "metadata": {},
   "source": [
    "nombre_infected      1148\n",
    "nombre_sain          2078\n",
    "nombre_exposed        654\n",
    "nombre_recovered    16120\n",
    "Name: 650, dtype: int64"
   ]
  },
  {
   "cell_type": "markdown",
   "id": "3c47e8e6",
   "metadata": {},
   "source": [
    "nombre_infected      1119\n",
    "nombre_sain          2061\n",
    "nombre_exposed        687\n",
    "nombre_recovered    16133\n",
    "Name: 651, dtype: int64"
   ]
  },
  {
   "cell_type": "markdown",
   "id": "f6409858",
   "metadata": {},
   "source": [
    "nombre_infected      1111\n",
    "nombre_sain          2039\n",
    "nombre_exposed        701\n",
    "nombre_recovered    16149\n",
    "Name: 652, dtype: int64"
   ]
  },
  {
   "cell_type": "markdown",
   "id": "8fe08484",
   "metadata": {},
   "source": [
    "nombre_infected      1152\n",
    "nombre_sain          2041\n",
    "nombre_exposed        682\n",
    "nombre_recovered    16125\n",
    "Name: 653, dtype: int64"
   ]
  },
  {
   "cell_type": "markdown",
   "id": "7920c9c1",
   "metadata": {},
   "source": [
    "nombre_infected      1165\n",
    "nombre_sain          2097\n",
    "nombre_exposed        662\n",
    "nombre_recovered    16076\n",
    "Name: 654, dtype: int64"
   ]
  },
  {
   "cell_type": "markdown",
   "id": "46214f25",
   "metadata": {},
   "source": [
    "nombre_infected      1140\n",
    "nombre_sain          2090\n",
    "nombre_exposed        669\n",
    "nombre_recovered    16101\n",
    "Name: 655, dtype: int64"
   ]
  },
  {
   "cell_type": "markdown",
   "id": "a4237e4f",
   "metadata": {},
   "source": [
    "nombre_infected      1155\n",
    "nombre_sain          2064\n",
    "nombre_exposed        663\n",
    "nombre_recovered    16118\n",
    "Name: 656, dtype: int64"
   ]
  },
  {
   "cell_type": "markdown",
   "id": "9daab06b",
   "metadata": {},
   "source": [
    "nombre_infected      1157\n",
    "nombre_sain          2082\n",
    "nombre_exposed        647\n",
    "nombre_recovered    16114\n",
    "Name: 657, dtype: int64"
   ]
  },
  {
   "cell_type": "markdown",
   "id": "8af09022",
   "metadata": {},
   "source": [
    "nombre_infected      1144\n",
    "nombre_sain          2058\n",
    "nombre_exposed        668\n",
    "nombre_recovered    16130\n",
    "Name: 658, dtype: int64"
   ]
  },
  {
   "cell_type": "markdown",
   "id": "7b392e24",
   "metadata": {},
   "source": [
    "nombre_infected      1117\n",
    "nombre_sain          2017\n",
    "nombre_exposed        713\n",
    "nombre_recovered    16153\n",
    "Name: 659, dtype: int64"
   ]
  },
  {
   "cell_type": "markdown",
   "id": "dfcf3b6e",
   "metadata": {},
   "source": [
    "nombre_infected      1152\n",
    "nombre_sain          1992\n",
    "nombre_exposed        716\n",
    "nombre_recovered    16140\n",
    "Name: 660, dtype: int64"
   ]
  },
  {
   "cell_type": "markdown",
   "id": "be618b1a",
   "metadata": {},
   "source": [
    "nombre_infected      1161\n",
    "nombre_sain          1980\n",
    "nombre_exposed        694\n",
    "nombre_recovered    16165\n",
    "Name: 661, dtype: int64"
   ]
  },
  {
   "cell_type": "markdown",
   "id": "331eb607",
   "metadata": {},
   "source": [
    "nombre_infected      1183\n",
    "nombre_sain          1972\n",
    "nombre_exposed        654\n",
    "nombre_recovered    16191\n",
    "Name: 662, dtype: int64"
   ]
  },
  {
   "cell_type": "markdown",
   "id": "92526fa0",
   "metadata": {},
   "source": [
    "nombre_infected      1171\n",
    "nombre_sain          1974\n",
    "nombre_exposed        650\n",
    "nombre_recovered    16205\n",
    "Name: 663, dtype: int64"
   ]
  },
  {
   "cell_type": "markdown",
   "id": "080e2b91",
   "metadata": {},
   "source": [
    "nombre_infected      1195\n",
    "nombre_sain          1936\n",
    "nombre_exposed        654\n",
    "nombre_recovered    16215\n",
    "Name: 664, dtype: int64"
   ]
  },
  {
   "cell_type": "markdown",
   "id": "413086fb",
   "metadata": {},
   "source": [
    "nombre_infected      1205\n",
    "nombre_sain          1931\n",
    "nombre_exposed        645\n",
    "nombre_recovered    16219\n",
    "Name: 665, dtype: int64"
   ]
  },
  {
   "cell_type": "markdown",
   "id": "56b4492f",
   "metadata": {},
   "source": [
    "nombre_infected      1199\n",
    "nombre_sain          1929\n",
    "nombre_exposed        638\n",
    "nombre_recovered    16234\n",
    "Name: 666, dtype: int64"
   ]
  },
  {
   "cell_type": "markdown",
   "id": "21187ef1",
   "metadata": {},
   "source": [
    "nombre_infected      1189\n",
    "nombre_sain          1932\n",
    "nombre_exposed        623\n",
    "nombre_recovered    16256\n",
    "Name: 667, dtype: int64"
   ]
  },
  {
   "cell_type": "markdown",
   "id": "b3086cc2",
   "metadata": {},
   "source": [
    "nombre_infected      1201\n",
    "nombre_sain          1949\n",
    "nombre_exposed        598\n",
    "nombre_recovered    16252\n",
    "Name: 668, dtype: int64"
   ]
  },
  {
   "cell_type": "markdown",
   "id": "3cf11962",
   "metadata": {},
   "source": [
    "nombre_infected      1189\n",
    "nombre_sain          1956\n",
    "nombre_exposed        594\n",
    "nombre_recovered    16261\n",
    "Name: 669, dtype: int64"
   ]
  },
  {
   "cell_type": "markdown",
   "id": "1a7e8695",
   "metadata": {},
   "source": [
    "nombre_infected      1191\n",
    "nombre_sain          1960\n",
    "nombre_exposed        581\n",
    "nombre_recovered    16268\n",
    "Name: 670, dtype: int64"
   ]
  },
  {
   "cell_type": "markdown",
   "id": "6b712a05",
   "metadata": {},
   "source": [
    "nombre_infected      1171\n",
    "nombre_sain          1950\n",
    "nombre_exposed        593\n",
    "nombre_recovered    16286\n",
    "Name: 671, dtype: int64"
   ]
  },
  {
   "cell_type": "markdown",
   "id": "f8197dc1",
   "metadata": {},
   "source": [
    "nombre_infected      1141\n",
    "nombre_sain          1976\n",
    "nombre_exposed        596\n",
    "nombre_recovered    16287\n",
    "Name: 672, dtype: int64"
   ]
  },
  {
   "cell_type": "markdown",
   "id": "1a27b8cc",
   "metadata": {},
   "source": [
    "nombre_infected      1143\n",
    "nombre_sain          1970\n",
    "nombre_exposed        621\n",
    "nombre_recovered    16266\n",
    "Name: 673, dtype: int64"
   ]
  },
  {
   "cell_type": "markdown",
   "id": "833284d2",
   "metadata": {},
   "source": [
    "nombre_infected      1122\n",
    "nombre_sain          1967\n",
    "nombre_exposed        618\n",
    "nombre_recovered    16293\n",
    "Name: 674, dtype: int64"
   ]
  },
  {
   "cell_type": "markdown",
   "id": "95fcbe89",
   "metadata": {},
   "source": [
    "nombre_infected      1133\n",
    "nombre_sain          1965\n",
    "nombre_exposed        603\n",
    "nombre_recovered    16299\n",
    "Name: 675, dtype: int64"
   ]
  },
  {
   "cell_type": "markdown",
   "id": "11bdac8b",
   "metadata": {},
   "source": [
    "nombre_infected      1154\n",
    "nombre_sain          1973\n",
    "nombre_exposed        604\n",
    "nombre_recovered    16269\n",
    "Name: 676, dtype: int64"
   ]
  },
  {
   "cell_type": "markdown",
   "id": "45e92be8",
   "metadata": {},
   "source": [
    "nombre_infected      1143\n",
    "nombre_sain          1981\n",
    "nombre_exposed        580\n",
    "nombre_recovered    16296\n",
    "Name: 677, dtype: int64"
   ]
  },
  {
   "cell_type": "markdown",
   "id": "f7d5d593",
   "metadata": {},
   "source": [
    "nombre_infected      1150\n",
    "nombre_sain          1961\n",
    "nombre_exposed        585\n",
    "nombre_recovered    16304\n",
    "Name: 678, dtype: int64"
   ]
  },
  {
   "cell_type": "markdown",
   "id": "9cc156ea",
   "metadata": {},
   "source": [
    "nombre_infected      1138\n",
    "nombre_sain          1966\n",
    "nombre_exposed        584\n",
    "nombre_recovered    16312\n",
    "Name: 679, dtype: int64"
   ]
  },
  {
   "cell_type": "markdown",
   "id": "70564467",
   "metadata": {},
   "source": [
    "nombre_infected      1132\n",
    "nombre_sain          1958\n",
    "nombre_exposed        582\n",
    "nombre_recovered    16328\n",
    "Name: 680, dtype: int64"
   ]
  },
  {
   "cell_type": "markdown",
   "id": "f82fe683",
   "metadata": {},
   "source": [
    "nombre_infected      1117\n",
    "nombre_sain          1946\n",
    "nombre_exposed        596\n",
    "nombre_recovered    16341\n",
    "Name: 681, dtype: int64"
   ]
  },
  {
   "cell_type": "markdown",
   "id": "57da8fdf",
   "metadata": {},
   "source": [
    "nombre_infected      1109\n",
    "nombre_sain          1943\n",
    "nombre_exposed        622\n",
    "nombre_recovered    16326\n",
    "Name: 682, dtype: int64"
   ]
  },
  {
   "cell_type": "markdown",
   "id": "2c478529",
   "metadata": {},
   "source": [
    "nombre_infected      1106\n",
    "nombre_sain          1956\n",
    "nombre_exposed        608\n",
    "nombre_recovered    16330\n",
    "Name: 683, dtype: int64"
   ]
  },
  {
   "cell_type": "markdown",
   "id": "3f6cee86",
   "metadata": {},
   "source": [
    "nombre_infected      1088\n",
    "nombre_sain          1965\n",
    "nombre_exposed        604\n",
    "nombre_recovered    16343\n",
    "Name: 684, dtype: int64"
   ]
  },
  {
   "cell_type": "markdown",
   "id": "bee3ed01",
   "metadata": {},
   "source": [
    "nombre_infected      1087\n",
    "nombre_sain          1978\n",
    "nombre_exposed        616\n",
    "nombre_recovered    16319\n",
    "Name: 685, dtype: int64"
   ]
  },
  {
   "cell_type": "markdown",
   "id": "e3ae1599",
   "metadata": {},
   "source": [
    "nombre_infected      1087\n",
    "nombre_sain          1989\n",
    "nombre_exposed        605\n",
    "nombre_recovered    16319\n",
    "Name: 686, dtype: int64"
   ]
  },
  {
   "cell_type": "markdown",
   "id": "71e682bd",
   "metadata": {},
   "source": [
    "nombre_infected      1114\n",
    "nombre_sain          1990\n",
    "nombre_exposed        599\n",
    "nombre_recovered    16297\n",
    "Name: 687, dtype: int64"
   ]
  },
  {
   "cell_type": "markdown",
   "id": "961bdaae",
   "metadata": {},
   "source": [
    "nombre_infected      1141\n",
    "nombre_sain          1991\n",
    "nombre_exposed        592\n",
    "nombre_recovered    16276\n",
    "Name: 688, dtype: int64"
   ]
  },
  {
   "cell_type": "markdown",
   "id": "75ed7e07",
   "metadata": {},
   "source": [
    "nombre_infected      1128\n",
    "nombre_sain          1968\n",
    "nombre_exposed        593\n",
    "nombre_recovered    16311\n",
    "Name: 689, dtype: int64"
   ]
  },
  {
   "cell_type": "markdown",
   "id": "cba89c48",
   "metadata": {},
   "source": [
    "nombre_infected      1165\n",
    "nombre_sain          1933\n",
    "nombre_exposed        593\n",
    "nombre_recovered    16309\n",
    "Name: 690, dtype: int64"
   ]
  },
  {
   "cell_type": "markdown",
   "id": "de64a49f",
   "metadata": {},
   "source": [
    "nombre_infected      1122\n",
    "nombre_sain          1913\n",
    "nombre_exposed        622\n",
    "nombre_recovered    16343\n",
    "Name: 691, dtype: int64"
   ]
  },
  {
   "cell_type": "markdown",
   "id": "05d32a3a",
   "metadata": {},
   "source": [
    "nombre_infected      1158\n",
    "nombre_sain          1909\n",
    "nombre_exposed        592\n",
    "nombre_recovered    16341\n",
    "Name: 692, dtype: int64"
   ]
  },
  {
   "cell_type": "markdown",
   "id": "eccba10b",
   "metadata": {},
   "source": [
    "nombre_infected      1158\n",
    "nombre_sain          1908\n",
    "nombre_exposed        598\n",
    "nombre_recovered    16336\n",
    "Name: 693, dtype: int64"
   ]
  },
  {
   "cell_type": "markdown",
   "id": "2e844a6e",
   "metadata": {},
   "source": [
    "nombre_infected      1178\n",
    "nombre_sain          1931\n",
    "nombre_exposed        563\n",
    "nombre_recovered    16328\n",
    "Name: 694, dtype: int64"
   ]
  },
  {
   "cell_type": "markdown",
   "id": "aa0bf381",
   "metadata": {},
   "source": [
    "nombre_infected      1152\n",
    "nombre_sain          1929\n",
    "nombre_exposed        568\n",
    "nombre_recovered    16351\n",
    "Name: 695, dtype: int64"
   ]
  },
  {
   "cell_type": "markdown",
   "id": "120dee54",
   "metadata": {},
   "source": [
    "nombre_infected      1139\n",
    "nombre_sain          1931\n",
    "nombre_exposed        568\n",
    "nombre_recovered    16362\n",
    "Name: 696, dtype: int64"
   ]
  },
  {
   "cell_type": "markdown",
   "id": "669d588d",
   "metadata": {},
   "source": [
    "nombre_infected      1132\n",
    "nombre_sain          1912\n",
    "nombre_exposed        576\n",
    "nombre_recovered    16380\n",
    "Name: 697, dtype: int64"
   ]
  },
  {
   "cell_type": "markdown",
   "id": "b19ce955",
   "metadata": {},
   "source": [
    "nombre_infected      1108\n",
    "nombre_sain          1910\n",
    "nombre_exposed        583\n",
    "nombre_recovered    16399\n",
    "Name: 698, dtype: int64"
   ]
  },
  {
   "cell_type": "markdown",
   "id": "a337d2af",
   "metadata": {},
   "source": [
    "nombre_infected      1125\n",
    "nombre_sain          1935\n",
    "nombre_exposed        539\n",
    "nombre_recovered    16401\n",
    "Name: 699, dtype: int64"
   ]
  },
  {
   "cell_type": "markdown",
   "id": "630b43bf",
   "metadata": {},
   "source": [
    "nombre_infected      1127\n",
    "nombre_sain          1921\n",
    "nombre_exposed        543\n",
    "nombre_recovered    16409\n",
    "Name: 700, dtype: int64"
   ]
  },
  {
   "cell_type": "markdown",
   "id": "df476adb",
   "metadata": {},
   "source": [
    "nombre_infected      1076\n",
    "nombre_sain          1911\n",
    "nombre_exposed        550\n",
    "nombre_recovered    16463\n",
    "Name: 701, dtype: int64"
   ]
  },
  {
   "cell_type": "markdown",
   "id": "ea68f9d5",
   "metadata": {},
   "source": [
    "nombre_infected      1094\n",
    "nombre_sain          1923\n",
    "nombre_exposed        532\n",
    "nombre_recovered    16451\n",
    "Name: 702, dtype: int64"
   ]
  },
  {
   "cell_type": "markdown",
   "id": "b0ce63ad",
   "metadata": {},
   "source": [
    "nombre_infected      1070\n",
    "nombre_sain          1921\n",
    "nombre_exposed        551\n",
    "nombre_recovered    16458\n",
    "Name: 703, dtype: int64"
   ]
  },
  {
   "cell_type": "markdown",
   "id": "f6d41f85",
   "metadata": {},
   "source": [
    "nombre_infected      1078\n",
    "nombre_sain          1892\n",
    "nombre_exposed        566\n",
    "nombre_recovered    16464\n",
    "Name: 704, dtype: int64"
   ]
  },
  {
   "cell_type": "markdown",
   "id": "d9c061e6",
   "metadata": {},
   "source": [
    "nombre_infected      1085\n",
    "nombre_sain          1913\n",
    "nombre_exposed        535\n",
    "nombre_recovered    16467\n",
    "Name: 705, dtype: int64"
   ]
  },
  {
   "cell_type": "markdown",
   "id": "94423077",
   "metadata": {},
   "source": [
    "nombre_infected      1096\n",
    "nombre_sain          1892\n",
    "nombre_exposed        517\n",
    "nombre_recovered    16495\n",
    "Name: 706, dtype: int64"
   ]
  },
  {
   "cell_type": "markdown",
   "id": "80ed530b",
   "metadata": {},
   "source": [
    "nombre_infected      1083\n",
    "nombre_sain          1899\n",
    "nombre_exposed        520\n",
    "nombre_recovered    16498\n",
    "Name: 707, dtype: int64"
   ]
  },
  {
   "cell_type": "markdown",
   "id": "03692fd2",
   "metadata": {},
   "source": [
    "nombre_infected      1053\n",
    "nombre_sain          1915\n",
    "nombre_exposed        525\n",
    "nombre_recovered    16507\n",
    "Name: 708, dtype: int64"
   ]
  },
  {
   "cell_type": "markdown",
   "id": "3c20e796",
   "metadata": {},
   "source": [
    "nombre_infected      1058\n",
    "nombre_sain          1915\n",
    "nombre_exposed        518\n",
    "nombre_recovered    16509\n",
    "Name: 709, dtype: int64"
   ]
  },
  {
   "cell_type": "markdown",
   "id": "284c636f",
   "metadata": {},
   "source": [
    "nombre_infected      1065\n",
    "nombre_sain          1920\n",
    "nombre_exposed        503\n",
    "nombre_recovered    16512\n",
    "Name: 710, dtype: int64"
   ]
  },
  {
   "cell_type": "markdown",
   "id": "eb029a46",
   "metadata": {},
   "source": [
    "nombre_infected      1078\n",
    "nombre_sain          1902\n",
    "nombre_exposed        491\n",
    "nombre_recovered    16529\n",
    "Name: 711, dtype: int64"
   ]
  },
  {
   "cell_type": "markdown",
   "id": "bba81b90",
   "metadata": {},
   "source": [
    "nombre_infected      1062\n",
    "nombre_sain          1904\n",
    "nombre_exposed        500\n",
    "nombre_recovered    16534\n",
    "Name: 712, dtype: int64"
   ]
  },
  {
   "cell_type": "markdown",
   "id": "14e908aa",
   "metadata": {},
   "source": [
    "nombre_infected      1048\n",
    "nombre_sain          1896\n",
    "nombre_exposed        505\n",
    "nombre_recovered    16551\n",
    "Name: 713, dtype: int64"
   ]
  },
  {
   "cell_type": "markdown",
   "id": "b10352d6",
   "metadata": {},
   "source": [
    "nombre_infected      1024\n",
    "nombre_sain          1891\n",
    "nombre_exposed        504\n",
    "nombre_recovered    16581\n",
    "Name: 714, dtype: int64"
   ]
  },
  {
   "cell_type": "markdown",
   "id": "f9983660",
   "metadata": {},
   "source": [
    "nombre_infected       994\n",
    "nombre_sain          1907\n",
    "nombre_exposed        509\n",
    "nombre_recovered    16590\n",
    "Name: 715, dtype: int64"
   ]
  },
  {
   "cell_type": "markdown",
   "id": "d90c8b1c",
   "metadata": {},
   "source": [
    "nombre_infected       987\n",
    "nombre_sain          1927\n",
    "nombre_exposed        487\n",
    "nombre_recovered    16599\n",
    "Name: 716, dtype: int64"
   ]
  },
  {
   "cell_type": "markdown",
   "id": "8e832942",
   "metadata": {},
   "source": [
    "nombre_infected       959\n",
    "nombre_sain          1917\n",
    "nombre_exposed        516\n",
    "nombre_recovered    16608\n",
    "Name: 717, dtype: int64"
   ]
  },
  {
   "cell_type": "markdown",
   "id": "e533a919",
   "metadata": {},
   "source": [
    "nombre_infected       968\n",
    "nombre_sain          1933\n",
    "nombre_exposed        506\n",
    "nombre_recovered    16593\n",
    "Name: 718, dtype: int64"
   ]
  },
  {
   "cell_type": "markdown",
   "id": "4e9af32b",
   "metadata": {},
   "source": [
    "nombre_infected       978\n",
    "nombre_sain          1965\n",
    "nombre_exposed        495\n",
    "nombre_recovered    16562\n",
    "Name: 719, dtype: int64"
   ]
  },
  {
   "cell_type": "markdown",
   "id": "f0b9a779",
   "metadata": {},
   "source": [
    "nombre_infected       978\n",
    "nombre_sain          2006\n",
    "nombre_exposed        477\n",
    "nombre_recovered    16539\n",
    "Name: 720, dtype: int64"
   ]
  },
  {
   "cell_type": "markdown",
   "id": "28bb7f05",
   "metadata": {},
   "source": [
    "nombre_infected       991\n",
    "nombre_sain          2017\n",
    "nombre_exposed        464\n",
    "nombre_recovered    16528\n",
    "Name: 721, dtype: int64"
   ]
  },
  {
   "cell_type": "markdown",
   "id": "479c1033",
   "metadata": {},
   "source": [
    "nombre_infected       955\n",
    "nombre_sain          2004\n",
    "nombre_exposed        498\n",
    "nombre_recovered    16543\n",
    "Name: 722, dtype: int64"
   ]
  },
  {
   "cell_type": "markdown",
   "id": "660db29c",
   "metadata": {},
   "source": [
    "nombre_infected       933\n",
    "nombre_sain          2014\n",
    "nombre_exposed        527\n",
    "nombre_recovered    16526\n",
    "Name: 723, dtype: int64"
   ]
  },
  {
   "cell_type": "markdown",
   "id": "92c81c70",
   "metadata": {},
   "source": [
    "nombre_infected       950\n",
    "nombre_sain          2025\n",
    "nombre_exposed        527\n",
    "nombre_recovered    16498\n",
    "Name: 724, dtype: int64"
   ]
  },
  {
   "cell_type": "markdown",
   "id": "3b0349ca",
   "metadata": {},
   "source": [
    "nombre_infected       975\n",
    "nombre_sain          2028\n",
    "nombre_exposed        532\n",
    "nombre_recovered    16465\n",
    "Name: 725, dtype: int64"
   ]
  },
  {
   "cell_type": "markdown",
   "id": "2bc381af",
   "metadata": {},
   "source": [
    "nombre_infected       973\n",
    "nombre_sain          2061\n",
    "nombre_exposed        515\n",
    "nombre_recovered    16451\n",
    "Name: 726, dtype: int64"
   ]
  },
  {
   "cell_type": "markdown",
   "id": "7fae3bee",
   "metadata": {},
   "source": [
    "nombre_infected       978\n",
    "nombre_sain          2093\n",
    "nombre_exposed        507\n",
    "nombre_recovered    16422\n",
    "Name: 727, dtype: int64"
   ]
  },
  {
   "cell_type": "markdown",
   "id": "94ae9e7c",
   "metadata": {},
   "source": [
    "nombre_infected       976\n",
    "nombre_sain          2103\n",
    "nombre_exposed        513\n",
    "nombre_recovered    16408\n",
    "Name: 728, dtype: int64"
   ]
  },
  {
   "cell_type": "markdown",
   "id": "7a1a73f7",
   "metadata": {},
   "source": [
    "nombre_infected       987\n",
    "nombre_sain          2118\n",
    "nombre_exposed        507\n",
    "nombre_recovered    16388\n",
    "Name: 729, dtype: int64"
   ]
  },
  {
   "cell_type": "markdown",
   "id": "e29ac971",
   "metadata": {},
   "source": [
    "nombre_infected      1004\n",
    "nombre_sain          2133\n",
    "nombre_exposed        491\n",
    "nombre_recovered    16372\n",
    "Name: 730, dtype: int64"
   ]
  }
 ],
 "metadata": {},
 "nbformat": 4,
 "nbformat_minor": 5
}
