{
 "cells": [
  {
   "cell_type": "markdown",
   "id": "f1ed4a54",
   "metadata": {},
   "source": [
    "nombre_infected        20\n",
    "nombre_sain         19980\n",
    "nombre_exposed          0\n",
    "nombre_recovered        0\n",
    "Name: 0, dtype: int64"
   ]
  },
  {
   "cell_type": "markdown",
   "id": "5385ab32",
   "metadata": {},
   "source": [
    "nombre_infected        20\n",
    "nombre_sain         19965\n",
    "nombre_exposed         15\n",
    "nombre_recovered        0\n",
    "Name: 1, dtype: int64"
   ]
  },
  {
   "cell_type": "markdown",
   "id": "cd6844ea",
   "metadata": {},
   "source": [
    "nombre_infected        20\n",
    "nombre_sain         19941\n",
    "nombre_exposed         39\n",
    "nombre_recovered        0\n",
    "Name: 2, dtype: int64"
   ]
  },
  {
   "cell_type": "markdown",
   "id": "895575c4",
   "metadata": {},
   "source": [
    "nombre_infected        29\n",
    "nombre_sain         19918\n",
    "nombre_exposed         53\n",
    "nombre_recovered        0\n",
    "Name: 3, dtype: int64"
   ]
  },
  {
   "cell_type": "markdown",
   "id": "69ec8e3e",
   "metadata": {},
   "source": [
    "nombre_infected        13\n",
    "nombre_sain         19897\n",
    "nombre_exposed         70\n",
    "nombre_recovered       20\n",
    "Name: 4, dtype: int64"
   ]
  },
  {
   "cell_type": "markdown",
   "id": "eed20383",
   "metadata": {},
   "source": [
    "nombre_infected        23\n",
    "nombre_sain         19873\n",
    "nombre_exposed         81\n",
    "nombre_recovered       23\n",
    "Name: 5, dtype: int64"
   ]
  },
  {
   "cell_type": "markdown",
   "id": "117f3413",
   "metadata": {},
   "source": [
    "nombre_infected        35\n",
    "nombre_sain         19831\n",
    "nombre_exposed        107\n",
    "nombre_recovered       27\n",
    "Name: 6, dtype: int64"
   ]
  },
  {
   "cell_type": "markdown",
   "id": "f17610ac",
   "metadata": {},
   "source": [
    "nombre_infected        44\n",
    "nombre_sain         19790\n",
    "nombre_exposed        132\n",
    "nombre_recovered       34\n",
    "Name: 7, dtype: int64"
   ]
  },
  {
   "cell_type": "markdown",
   "id": "fe6abccd",
   "metadata": {},
   "source": [
    "nombre_infected        71\n",
    "nombre_sain         19712\n",
    "nombre_exposed        180\n",
    "nombre_recovered       37\n",
    "Name: 8, dtype: int64"
   ]
  },
  {
   "cell_type": "markdown",
   "id": "c7316f71",
   "metadata": {},
   "source": [
    "nombre_infected       101\n",
    "nombre_sain         19625\n",
    "nombre_exposed        235\n",
    "nombre_recovered       39\n",
    "Name: 9, dtype: int64"
   ]
  },
  {
   "cell_type": "markdown",
   "id": "a8e42271",
   "metadata": {},
   "source": [
    "nombre_infected       129\n",
    "nombre_sain         19471\n",
    "nombre_exposed        349\n",
    "nombre_recovered       51\n",
    "Name: 10, dtype: int64"
   ]
  },
  {
   "cell_type": "markdown",
   "id": "84a0450f",
   "metadata": {},
   "source": [
    "nombre_infected       162\n",
    "nombre_sain         19286\n",
    "nombre_exposed        483\n",
    "nombre_recovered       69\n",
    "Name: 11, dtype: int64"
   ]
  },
  {
   "cell_type": "markdown",
   "id": "ee14d1fc",
   "metadata": {},
   "source": [
    "nombre_infected       234\n",
    "nombre_sain         19047\n",
    "nombre_exposed        640\n",
    "nombre_recovered       79\n",
    "Name: 12, dtype: int64"
   ]
  },
  {
   "cell_type": "markdown",
   "id": "e39647ab",
   "metadata": {},
   "source": [
    "nombre_infected       338\n",
    "nombre_sain         18723\n",
    "nombre_exposed        843\n",
    "nombre_recovered       96\n",
    "Name: 13, dtype: int64"
   ]
  },
  {
   "cell_type": "markdown",
   "id": "525f0f10",
   "metadata": {},
   "source": [
    "nombre_infected       481\n",
    "nombre_sain         18225\n",
    "nombre_exposed       1170\n",
    "nombre_recovered      124\n",
    "Name: 14, dtype: int64"
   ]
  },
  {
   "cell_type": "markdown",
   "id": "4a03332d",
   "metadata": {},
   "source": [
    "nombre_infected       649\n",
    "nombre_sain         17581\n",
    "nombre_exposed       1608\n",
    "nombre_recovered      162\n",
    "Name: 15, dtype: int64"
   ]
  },
  {
   "cell_type": "markdown",
   "id": "3cd3c1da",
   "metadata": {},
   "source": [
    "nombre_infected       892\n",
    "nombre_sain         16820\n",
    "nombre_exposed       2068\n",
    "nombre_recovered      220\n",
    "Name: 16, dtype: int64"
   ]
  },
  {
   "cell_type": "markdown",
   "id": "69630b71",
   "metadata": {},
   "source": [
    "nombre_infected      1210\n",
    "nombre_sain         15738\n",
    "nombre_exposed       2763\n",
    "nombre_recovered      289\n",
    "Name: 17, dtype: int64"
   ]
  },
  {
   "cell_type": "markdown",
   "id": "cf6791a7",
   "metadata": {},
   "source": [
    "nombre_infected      1579\n",
    "nombre_sain         14480\n",
    "nombre_exposed       3530\n",
    "nombre_recovered      411\n",
    "Name: 18, dtype: int64"
   ]
  },
  {
   "cell_type": "markdown",
   "id": "b773d578",
   "metadata": {},
   "source": [
    "nombre_infected      2077\n",
    "nombre_sain         13096\n",
    "nombre_exposed       4265\n",
    "nombre_recovered      562\n",
    "Name: 19, dtype: int64"
   ]
  },
  {
   "cell_type": "markdown",
   "id": "1bfd743d",
   "metadata": {},
   "source": [
    "nombre_infected      2700\n",
    "nombre_sain         11447\n",
    "nombre_exposed       5101\n",
    "nombre_recovered      752\n",
    "Name: 20, dtype: int64"
   ]
  },
  {
   "cell_type": "markdown",
   "id": "d6ee7165",
   "metadata": {},
   "source": [
    "nombre_infected     3471\n",
    "nombre_sain         9641\n",
    "nombre_exposed      5893\n",
    "nombre_recovered     995\n",
    "Name: 21, dtype: int64"
   ]
  },
  {
   "cell_type": "markdown",
   "id": "0711e271",
   "metadata": {},
   "source": [
    "nombre_infected     4320\n",
    "nombre_sain         7794\n",
    "nombre_exposed      6572\n",
    "nombre_recovered    1314\n",
    "Name: 22, dtype: int64"
   ]
  },
  {
   "cell_type": "markdown",
   "id": "ef6444c4",
   "metadata": {},
   "source": [
    "nombre_infected     5297\n",
    "nombre_sain         6096\n",
    "nombre_exposed      6903\n",
    "nombre_recovered    1704\n",
    "Name: 23, dtype: int64"
   ]
  },
  {
   "cell_type": "markdown",
   "id": "02e0dcb7",
   "metadata": {},
   "source": [
    "nombre_infected     6337\n",
    "nombre_sain         4548\n",
    "nombre_exposed      6926\n",
    "nombre_recovered    2189\n",
    "Name: 24, dtype: int64"
   ]
  },
  {
   "cell_type": "markdown",
   "id": "1cc70fb9",
   "metadata": {},
   "source": [
    "nombre_infected     7320\n",
    "nombre_sain         3239\n",
    "nombre_exposed      6666\n",
    "nombre_recovered    2775\n",
    "Name: 25, dtype: int64"
   ]
  },
  {
   "cell_type": "markdown",
   "id": "a402e41d",
   "metadata": {},
   "source": [
    "nombre_infected     8098\n",
    "nombre_sain         2266\n",
    "nombre_exposed      6152\n",
    "nombre_recovered    3484\n",
    "Name: 26, dtype: int64"
   ]
  },
  {
   "cell_type": "markdown",
   "id": "4f760caa",
   "metadata": {},
   "source": [
    "nombre_infected     8666\n",
    "nombre_sain         1568\n",
    "nombre_exposed      5415\n",
    "nombre_recovered    4351\n",
    "Name: 27, dtype: int64"
   ]
  },
  {
   "cell_type": "markdown",
   "id": "72490480",
   "metadata": {},
   "source": [
    "nombre_infected     9007\n",
    "nombre_sain         1098\n",
    "nombre_exposed      4614\n",
    "nombre_recovered    5281\n",
    "Name: 28, dtype: int64"
   ]
  },
  {
   "cell_type": "markdown",
   "id": "ba1977d7",
   "metadata": {},
   "source": [
    "nombre_infected     9120\n",
    "nombre_sain          710\n",
    "nombre_exposed      3880\n",
    "nombre_recovered    6290\n",
    "Name: 29, dtype: int64"
   ]
  },
  {
   "cell_type": "markdown",
   "id": "bb8a71ed",
   "metadata": {},
   "source": [
    "nombre_infected     8958\n",
    "nombre_sain          510\n",
    "nombre_exposed      3160\n",
    "nombre_recovered    7372\n",
    "Name: 30, dtype: int64"
   ]
  },
  {
   "cell_type": "markdown",
   "id": "02954ecc",
   "metadata": {},
   "source": [
    "nombre_infected     8687\n",
    "nombre_sain          352\n",
    "nombre_exposed      2522\n",
    "nombre_recovered    8439\n",
    "Name: 31, dtype: int64"
   ]
  },
  {
   "cell_type": "markdown",
   "id": "41bccd06",
   "metadata": {},
   "source": [
    "nombre_infected     8200\n",
    "nombre_sain          241\n",
    "nombre_exposed      2009\n",
    "nombre_recovered    9550\n",
    "Name: 32, dtype: int64"
   ]
  },
  {
   "cell_type": "markdown",
   "id": "54a0a995",
   "metadata": {},
   "source": [
    "nombre_infected      7645\n",
    "nombre_sain           175\n",
    "nombre_exposed       1601\n",
    "nombre_recovered    10579\n",
    "Name: 33, dtype: int64"
   ]
  },
  {
   "cell_type": "markdown",
   "id": "a4fee963",
   "metadata": {},
   "source": [
    "nombre_infected      7033\n",
    "nombre_sain           146\n",
    "nombre_exposed       1236\n",
    "nombre_recovered    11585\n",
    "Name: 34, dtype: int64"
   ]
  },
  {
   "cell_type": "markdown",
   "id": "006ce0df",
   "metadata": {},
   "source": [
    "nombre_infected      6398\n",
    "nombre_sain           116\n",
    "nombre_exposed        967\n",
    "nombre_recovered    12519\n",
    "Name: 35, dtype: int64"
   ]
  },
  {
   "cell_type": "markdown",
   "id": "181af9b6",
   "metadata": {},
   "source": [
    "nombre_infected      5676\n",
    "nombre_sain           100\n",
    "nombre_exposed        740\n",
    "nombre_recovered    13484\n",
    "Name: 36, dtype: int64"
   ]
  },
  {
   "cell_type": "markdown",
   "id": "d9d83fa1",
   "metadata": {},
   "source": [
    "nombre_infected      5072\n",
    "nombre_sain           108\n",
    "nombre_exposed        568\n",
    "nombre_recovered    14252\n",
    "Name: 37, dtype: int64"
   ]
  },
  {
   "cell_type": "markdown",
   "id": "8eef4cda",
   "metadata": {},
   "source": [
    "nombre_infected      4528\n",
    "nombre_sain           104\n",
    "nombre_exposed        450\n",
    "nombre_recovered    14918\n",
    "Name: 38, dtype: int64"
   ]
  },
  {
   "cell_type": "markdown",
   "id": "8965e4fa",
   "metadata": {},
   "source": [
    "nombre_infected      3988\n",
    "nombre_sain           132\n",
    "nombre_exposed        360\n",
    "nombre_recovered    15520\n",
    "Name: 39, dtype: int64"
   ]
  },
  {
   "cell_type": "markdown",
   "id": "dbe7f0e1",
   "metadata": {},
   "source": [
    "nombre_infected      3469\n",
    "nombre_sain           143\n",
    "nombre_exposed        292\n",
    "nombre_recovered    16096\n",
    "Name: 40, dtype: int64"
   ]
  },
  {
   "cell_type": "markdown",
   "id": "65315c32",
   "metadata": {},
   "source": [
    "nombre_infected      3043\n",
    "nombre_sain           163\n",
    "nombre_exposed        253\n",
    "nombre_recovered    16541\n",
    "Name: 41, dtype: int64"
   ]
  },
  {
   "cell_type": "markdown",
   "id": "712f9f2f",
   "metadata": {},
   "source": [
    "nombre_infected      2700\n",
    "nombre_sain           170\n",
    "nombre_exposed        206\n",
    "nombre_recovered    16924\n",
    "Name: 42, dtype: int64"
   ]
  },
  {
   "cell_type": "markdown",
   "id": "e49b835c",
   "metadata": {},
   "source": [
    "nombre_infected      2364\n",
    "nombre_sain           173\n",
    "nombre_exposed        178\n",
    "nombre_recovered    17285\n",
    "Name: 43, dtype: int64"
   ]
  },
  {
   "cell_type": "markdown",
   "id": "9b2b66fc",
   "metadata": {},
   "source": [
    "nombre_infected      2071\n",
    "nombre_sain           187\n",
    "nombre_exposed        162\n",
    "nombre_recovered    17580\n",
    "Name: 44, dtype: int64"
   ]
  },
  {
   "cell_type": "markdown",
   "id": "81607d72",
   "metadata": {},
   "source": [
    "nombre_infected      1814\n",
    "nombre_sain           200\n",
    "nombre_exposed        141\n",
    "nombre_recovered    17845\n",
    "Name: 45, dtype: int64"
   ]
  },
  {
   "cell_type": "markdown",
   "id": "23faa977",
   "metadata": {},
   "source": [
    "nombre_infected      1595\n",
    "nombre_sain           214\n",
    "nombre_exposed        132\n",
    "nombre_recovered    18059\n",
    "Name: 46, dtype: int64"
   ]
  },
  {
   "cell_type": "markdown",
   "id": "296aa877",
   "metadata": {},
   "source": [
    "nombre_infected      1415\n",
    "nombre_sain           228\n",
    "nombre_exposed        120\n",
    "nombre_recovered    18237\n",
    "Name: 47, dtype: int64"
   ]
  },
  {
   "cell_type": "markdown",
   "id": "d3acac37",
   "metadata": {},
   "source": [
    "nombre_infected      1275\n",
    "nombre_sain           237\n",
    "nombre_exposed        106\n",
    "nombre_recovered    18382\n",
    "Name: 48, dtype: int64"
   ]
  },
  {
   "cell_type": "markdown",
   "id": "03f673dc",
   "metadata": {},
   "source": [
    "nombre_infected      1136\n",
    "nombre_sain           253\n",
    "nombre_exposed        105\n",
    "nombre_recovered    18506\n",
    "Name: 49, dtype: int64"
   ]
  },
  {
   "cell_type": "markdown",
   "id": "0fb3c718",
   "metadata": {},
   "source": [
    "nombre_infected      1022\n",
    "nombre_sain           265\n",
    "nombre_exposed         95\n",
    "nombre_recovered    18618\n",
    "Name: 50, dtype: int64"
   ]
  },
  {
   "cell_type": "markdown",
   "id": "f9191cff",
   "metadata": {},
   "source": [
    "nombre_infected       923\n",
    "nombre_sain           274\n",
    "nombre_exposed         89\n",
    "nombre_recovered    18714\n",
    "Name: 51, dtype: int64"
   ]
  },
  {
   "cell_type": "markdown",
   "id": "dc497e71",
   "metadata": {},
   "source": [
    "nombre_infected       816\n",
    "nombre_sain           310\n",
    "nombre_exposed         76\n",
    "nombre_recovered    18798\n",
    "Name: 52, dtype: int64"
   ]
  },
  {
   "cell_type": "markdown",
   "id": "bce044aa",
   "metadata": {},
   "source": [
    "nombre_infected       750\n",
    "nombre_sain           348\n",
    "nombre_exposed         66\n",
    "nombre_recovered    18836\n",
    "Name: 53, dtype: int64"
   ]
  },
  {
   "cell_type": "markdown",
   "id": "a96d0d00",
   "metadata": {},
   "source": [
    "nombre_infected       651\n",
    "nombre_sain           363\n",
    "nombre_exposed         68\n",
    "nombre_recovered    18918\n",
    "Name: 54, dtype: int64"
   ]
  },
  {
   "cell_type": "markdown",
   "id": "4e9a617b",
   "metadata": {},
   "source": [
    "nombre_infected       567\n",
    "nombre_sain           402\n",
    "nombre_exposed         61\n",
    "nombre_recovered    18970\n",
    "Name: 55, dtype: int64"
   ]
  },
  {
   "cell_type": "markdown",
   "id": "8813db31",
   "metadata": {},
   "source": [
    "nombre_infected       514\n",
    "nombre_sain           442\n",
    "nombre_exposed         51\n",
    "nombre_recovered    18993\n",
    "Name: 56, dtype: int64"
   ]
  },
  {
   "cell_type": "markdown",
   "id": "09016792",
   "metadata": {},
   "source": [
    "nombre_infected       448\n",
    "nombre_sain           470\n",
    "nombre_exposed         60\n",
    "nombre_recovered    19022\n",
    "Name: 57, dtype: int64"
   ]
  },
  {
   "cell_type": "markdown",
   "id": "0a7d9111",
   "metadata": {},
   "source": [
    "nombre_infected       392\n",
    "nombre_sain           527\n",
    "nombre_exposed         63\n",
    "nombre_recovered    19018\n",
    "Name: 58, dtype: int64"
   ]
  },
  {
   "cell_type": "markdown",
   "id": "1163907e",
   "metadata": {},
   "source": [
    "nombre_infected       345\n",
    "nombre_sain           564\n",
    "nombre_exposed         64\n",
    "nombre_recovered    19027\n",
    "Name: 59, dtype: int64"
   ]
  },
  {
   "cell_type": "markdown",
   "id": "97de1b5c",
   "metadata": {},
   "source": [
    "nombre_infected       303\n",
    "nombre_sain           601\n",
    "nombre_exposed         66\n",
    "nombre_recovered    19030\n",
    "Name: 60, dtype: int64"
   ]
  },
  {
   "cell_type": "markdown",
   "id": "e6a1a81b",
   "metadata": {},
   "source": [
    "nombre_infected       267\n",
    "nombre_sain           656\n",
    "nombre_exposed         63\n",
    "nombre_recovered    19014\n",
    "Name: 61, dtype: int64"
   ]
  },
  {
   "cell_type": "markdown",
   "id": "7ae8d5d0",
   "metadata": {},
   "source": [
    "nombre_infected       238\n",
    "nombre_sain           694\n",
    "nombre_exposed         67\n",
    "nombre_recovered    19001\n",
    "Name: 62, dtype: int64"
   ]
  },
  {
   "cell_type": "markdown",
   "id": "0f677aaf",
   "metadata": {},
   "source": [
    "nombre_infected       210\n",
    "nombre_sain           740\n",
    "nombre_exposed         70\n",
    "nombre_recovered    18980\n",
    "Name: 63, dtype: int64"
   ]
  },
  {
   "cell_type": "markdown",
   "id": "c1de22c8",
   "metadata": {},
   "source": [
    "nombre_infected       195\n",
    "nombre_sain           797\n",
    "nombre_exposed         54\n",
    "nombre_recovered    18954\n",
    "Name: 64, dtype: int64"
   ]
  },
  {
   "cell_type": "markdown",
   "id": "f386b9ec",
   "metadata": {},
   "source": [
    "nombre_infected       173\n",
    "nombre_sain           862\n",
    "nombre_exposed         49\n",
    "nombre_recovered    18916\n",
    "Name: 65, dtype: int64"
   ]
  },
  {
   "cell_type": "markdown",
   "id": "98cc303b",
   "metadata": {},
   "source": [
    "nombre_infected       161\n",
    "nombre_sain           940\n",
    "nombre_exposed         38\n",
    "nombre_recovered    18861\n",
    "Name: 66, dtype: int64"
   ]
  },
  {
   "cell_type": "markdown",
   "id": "c80aabea",
   "metadata": {},
   "source": [
    "nombre_infected       137\n",
    "nombre_sain          1008\n",
    "nombre_exposed         39\n",
    "nombre_recovered    18816\n",
    "Name: 67, dtype: int64"
   ]
  },
  {
   "cell_type": "markdown",
   "id": "d9248e59",
   "metadata": {},
   "source": [
    "nombre_infected       122\n",
    "nombre_sain          1089\n",
    "nombre_exposed         31\n",
    "nombre_recovered    18758\n",
    "Name: 68, dtype: int64"
   ]
  },
  {
   "cell_type": "markdown",
   "id": "f7315a91",
   "metadata": {},
   "source": [
    "nombre_infected       106\n",
    "nombre_sain          1173\n",
    "nombre_exposed         30\n",
    "nombre_recovered    18691\n",
    "Name: 69, dtype: int64"
   ]
  },
  {
   "cell_type": "markdown",
   "id": "d0583565",
   "metadata": {},
   "source": [
    "nombre_infected        95\n",
    "nombre_sain          1242\n",
    "nombre_exposed         29\n",
    "nombre_recovered    18634\n",
    "Name: 70, dtype: int64"
   ]
  },
  {
   "cell_type": "markdown",
   "id": "836dae60",
   "metadata": {},
   "source": [
    "nombre_infected        85\n",
    "nombre_sain          1324\n",
    "nombre_exposed         30\n",
    "nombre_recovered    18561\n",
    "Name: 71, dtype: int64"
   ]
  },
  {
   "cell_type": "markdown",
   "id": "37c16256",
   "metadata": {},
   "source": [
    "nombre_infected        71\n",
    "nombre_sain          1386\n",
    "nombre_exposed         35\n",
    "nombre_recovered    18508\n",
    "Name: 72, dtype: int64"
   ]
  },
  {
   "cell_type": "markdown",
   "id": "5d42a6c3",
   "metadata": {},
   "source": [
    "nombre_infected        68\n",
    "nombre_sain          1444\n",
    "nombre_exposed         33\n",
    "nombre_recovered    18455\n",
    "Name: 73, dtype: int64"
   ]
  },
  {
   "cell_type": "markdown",
   "id": "1f7fda50",
   "metadata": {},
   "source": [
    "nombre_infected        61\n",
    "nombre_sain          1520\n",
    "nombre_exposed         28\n",
    "nombre_recovered    18391\n",
    "Name: 74, dtype: int64"
   ]
  },
  {
   "cell_type": "markdown",
   "id": "1a3c086c",
   "metadata": {},
   "source": [
    "nombre_infected        55\n",
    "nombre_sain          1586\n",
    "nombre_exposed         25\n",
    "nombre_recovered    18334\n",
    "Name: 75, dtype: int64"
   ]
  },
  {
   "cell_type": "markdown",
   "id": "a867ce26",
   "metadata": {},
   "source": [
    "nombre_infected        52\n",
    "nombre_sain          1647\n",
    "nombre_exposed         22\n",
    "nombre_recovered    18279\n",
    "Name: 76, dtype: int64"
   ]
  },
  {
   "cell_type": "markdown",
   "id": "a4c97b6b",
   "metadata": {},
   "source": [
    "nombre_infected        40\n",
    "nombre_sain          1715\n",
    "nombre_exposed         22\n",
    "nombre_recovered    18223\n",
    "Name: 77, dtype: int64"
   ]
  },
  {
   "cell_type": "markdown",
   "id": "0210c3df",
   "metadata": {},
   "source": [
    "nombre_infected        39\n",
    "nombre_sain          1781\n",
    "nombre_exposed         23\n",
    "nombre_recovered    18157\n",
    "Name: 78, dtype: int64"
   ]
  },
  {
   "cell_type": "markdown",
   "id": "acad3a92",
   "metadata": {},
   "source": [
    "nombre_infected        37\n",
    "nombre_sain          1840\n",
    "nombre_exposed         19\n",
    "nombre_recovered    18104\n",
    "Name: 79, dtype: int64"
   ]
  },
  {
   "cell_type": "markdown",
   "id": "a255277d",
   "metadata": {},
   "source": [
    "nombre_infected        38\n",
    "nombre_sain          1888\n",
    "nombre_exposed         19\n",
    "nombre_recovered    18055\n",
    "Name: 80, dtype: int64"
   ]
  },
  {
   "cell_type": "markdown",
   "id": "97d48af9",
   "metadata": {},
   "source": [
    "nombre_infected        30\n",
    "nombre_sain          1920\n",
    "nombre_exposed         22\n",
    "nombre_recovered    18028\n",
    "Name: 81, dtype: int64"
   ]
  },
  {
   "cell_type": "markdown",
   "id": "05028642",
   "metadata": {},
   "source": [
    "nombre_infected        29\n",
    "nombre_sain          1963\n",
    "nombre_exposed         22\n",
    "nombre_recovered    17986\n",
    "Name: 82, dtype: int64"
   ]
  },
  {
   "cell_type": "markdown",
   "id": "487ac7d7",
   "metadata": {},
   "source": [
    "nombre_infected        27\n",
    "nombre_sain          2001\n",
    "nombre_exposed         21\n",
    "nombre_recovered    17951\n",
    "Name: 83, dtype: int64"
   ]
  },
  {
   "cell_type": "markdown",
   "id": "55b1d3b8",
   "metadata": {},
   "source": [
    "nombre_infected        26\n",
    "nombre_sain          2051\n",
    "nombre_exposed         23\n",
    "nombre_recovered    17900\n",
    "Name: 84, dtype: int64"
   ]
  },
  {
   "cell_type": "markdown",
   "id": "d00c8f29",
   "metadata": {},
   "source": [
    "nombre_infected        22\n",
    "nombre_sain          2086\n",
    "nombre_exposed         27\n",
    "nombre_recovered    17865\n",
    "Name: 85, dtype: int64"
   ]
  },
  {
   "cell_type": "markdown",
   "id": "88516e5e",
   "metadata": {},
   "source": [
    "nombre_infected        23\n",
    "nombre_sain          2133\n",
    "nombre_exposed         24\n",
    "nombre_recovered    17820\n",
    "Name: 86, dtype: int64"
   ]
  },
  {
   "cell_type": "markdown",
   "id": "5acfa324",
   "metadata": {},
   "source": [
    "nombre_infected        21\n",
    "nombre_sain          2184\n",
    "nombre_exposed         22\n",
    "nombre_recovered    17773\n",
    "Name: 87, dtype: int64"
   ]
  },
  {
   "cell_type": "markdown",
   "id": "248d8a98",
   "metadata": {},
   "source": [
    "nombre_infected        22\n",
    "nombre_sain          2232\n",
    "nombre_exposed         18\n",
    "nombre_recovered    17728\n",
    "Name: 88, dtype: int64"
   ]
  },
  {
   "cell_type": "markdown",
   "id": "c8542465",
   "metadata": {},
   "source": [
    "nombre_infected        21\n",
    "nombre_sain          2278\n",
    "nombre_exposed         15\n",
    "nombre_recovered    17686\n",
    "Name: 89, dtype: int64"
   ]
  },
  {
   "cell_type": "markdown",
   "id": "aaedbe4f",
   "metadata": {},
   "source": [
    "nombre_infected        22\n",
    "nombre_sain          2331\n",
    "nombre_exposed         12\n",
    "nombre_recovered    17635\n",
    "Name: 90, dtype: int64"
   ]
  },
  {
   "cell_type": "markdown",
   "id": "273c1d44",
   "metadata": {},
   "source": [
    "nombre_infected        23\n",
    "nombre_sain          2404\n",
    "nombre_exposed         10\n",
    "nombre_recovered    17563\n",
    "Name: 91, dtype: int64"
   ]
  },
  {
   "cell_type": "markdown",
   "id": "6ddddf90",
   "metadata": {},
   "source": [
    "nombre_infected        22\n",
    "nombre_sain          2462\n",
    "nombre_exposed          9\n",
    "nombre_recovered    17507\n",
    "Name: 92, dtype: int64"
   ]
  },
  {
   "cell_type": "markdown",
   "id": "c05198cc",
   "metadata": {},
   "source": [
    "nombre_infected        18\n",
    "nombre_sain          2529\n",
    "nombre_exposed         11\n",
    "nombre_recovered    17442\n",
    "Name: 93, dtype: int64"
   ]
  },
  {
   "cell_type": "markdown",
   "id": "7f334565",
   "metadata": {},
   "source": [
    "nombre_infected        16\n",
    "nombre_sain          2590\n",
    "nombre_exposed         14\n",
    "nombre_recovered    17380\n",
    "Name: 94, dtype: int64"
   ]
  },
  {
   "cell_type": "markdown",
   "id": "f5a6e442",
   "metadata": {},
   "source": [
    "nombre_infected        13\n",
    "nombre_sain          2661\n",
    "nombre_exposed         13\n",
    "nombre_recovered    17313\n",
    "Name: 95, dtype: int64"
   ]
  },
  {
   "cell_type": "markdown",
   "id": "e516b95a",
   "metadata": {},
   "source": [
    "nombre_infected        12\n",
    "nombre_sain          2730\n",
    "nombre_exposed         15\n",
    "nombre_recovered    17243\n",
    "Name: 96, dtype: int64"
   ]
  },
  {
   "cell_type": "markdown",
   "id": "f5b674cf",
   "metadata": {},
   "source": [
    "nombre_infected        11\n",
    "nombre_sain          2793\n",
    "nombre_exposed         15\n",
    "nombre_recovered    17181\n",
    "Name: 97, dtype: int64"
   ]
  },
  {
   "cell_type": "markdown",
   "id": "250ed02c",
   "metadata": {},
   "source": [
    "nombre_infected        14\n",
    "nombre_sain          2872\n",
    "nombre_exposed         11\n",
    "nombre_recovered    17103\n",
    "Name: 98, dtype: int64"
   ]
  },
  {
   "cell_type": "markdown",
   "id": "1e94e7fa",
   "metadata": {},
   "source": [
    "nombre_infected        15\n",
    "nombre_sain          2933\n",
    "nombre_exposed          8\n",
    "nombre_recovered    17044\n",
    "Name: 99, dtype: int64"
   ]
  },
  {
   "cell_type": "markdown",
   "id": "b218db63",
   "metadata": {},
   "source": [
    "nombre_infected        16\n",
    "nombre_sain          2999\n",
    "nombre_exposed          6\n",
    "nombre_recovered    16979\n",
    "Name: 100, dtype: int64"
   ]
  },
  {
   "cell_type": "markdown",
   "id": "9797f2ca",
   "metadata": {},
   "source": [
    "nombre_infected        15\n",
    "nombre_sain          3062\n",
    "nombre_exposed         10\n",
    "nombre_recovered    16913\n",
    "Name: 101, dtype: int64"
   ]
  },
  {
   "cell_type": "markdown",
   "id": "c17cd2cc",
   "metadata": {},
   "source": [
    "nombre_infected        16\n",
    "nombre_sain          3096\n",
    "nombre_exposed         11\n",
    "nombre_recovered    16877\n",
    "Name: 102, dtype: int64"
   ]
  },
  {
   "cell_type": "markdown",
   "id": "2bffdec0",
   "metadata": {},
   "source": [
    "nombre_infected        17\n",
    "nombre_sain          3151\n",
    "nombre_exposed         11\n",
    "nombre_recovered    16821\n",
    "Name: 103, dtype: int64"
   ]
  },
  {
   "cell_type": "markdown",
   "id": "abb74e38",
   "metadata": {},
   "source": [
    "nombre_infected        13\n",
    "nombre_sain          3199\n",
    "nombre_exposed         15\n",
    "nombre_recovered    16773\n",
    "Name: 104, dtype: int64"
   ]
  },
  {
   "cell_type": "markdown",
   "id": "50321ca6",
   "metadata": {},
   "source": [
    "nombre_infected        15\n",
    "nombre_sain          3240\n",
    "nombre_exposed         12\n",
    "nombre_recovered    16733\n",
    "Name: 105, dtype: int64"
   ]
  },
  {
   "cell_type": "markdown",
   "id": "555cc9d1",
   "metadata": {},
   "source": [
    "nombre_infected        13\n",
    "nombre_sain          3284\n",
    "nombre_exposed         16\n",
    "nombre_recovered    16687\n",
    "Name: 106, dtype: int64"
   ]
  },
  {
   "cell_type": "markdown",
   "id": "07cad123",
   "metadata": {},
   "source": [
    "nombre_infected        12\n",
    "nombre_sain          3329\n",
    "nombre_exposed         15\n",
    "nombre_recovered    16644\n",
    "Name: 107, dtype: int64"
   ]
  },
  {
   "cell_type": "markdown",
   "id": "08f7f988",
   "metadata": {},
   "source": [
    "nombre_infected        13\n",
    "nombre_sain          3375\n",
    "nombre_exposed         18\n",
    "nombre_recovered    16594\n",
    "Name: 108, dtype: int64"
   ]
  },
  {
   "cell_type": "markdown",
   "id": "35ef2a30",
   "metadata": {},
   "source": [
    "nombre_infected        16\n",
    "nombre_sain          3423\n",
    "nombre_exposed         20\n",
    "nombre_recovered    16541\n",
    "Name: 109, dtype: int64"
   ]
  },
  {
   "cell_type": "markdown",
   "id": "05e8027b",
   "metadata": {},
   "source": [
    "nombre_infected        20\n",
    "nombre_sain          3471\n",
    "nombre_exposed         16\n",
    "nombre_recovered    16493\n",
    "Name: 110, dtype: int64"
   ]
  },
  {
   "cell_type": "markdown",
   "id": "39beebd5",
   "metadata": {},
   "source": [
    "nombre_infected        23\n",
    "nombre_sain          3538\n",
    "nombre_exposed         13\n",
    "nombre_recovered    16426\n",
    "Name: 111, dtype: int64"
   ]
  },
  {
   "cell_type": "markdown",
   "id": "dabb14a1",
   "metadata": {},
   "source": [
    "nombre_infected        27\n",
    "nombre_sain          3593\n",
    "nombre_exposed         17\n",
    "nombre_recovered    16363\n",
    "Name: 112, dtype: int64"
   ]
  },
  {
   "cell_type": "markdown",
   "id": "16804d71",
   "metadata": {},
   "source": [
    "nombre_infected        23\n",
    "nombre_sain          3649\n",
    "nombre_exposed         24\n",
    "nombre_recovered    16304\n",
    "Name: 113, dtype: int64"
   ]
  },
  {
   "cell_type": "markdown",
   "id": "3dbd8af7",
   "metadata": {},
   "source": [
    "nombre_infected        21\n",
    "nombre_sain          3721\n",
    "nombre_exposed         24\n",
    "nombre_recovered    16234\n",
    "Name: 114, dtype: int64"
   ]
  },
  {
   "cell_type": "markdown",
   "id": "564d79e5",
   "metadata": {},
   "source": [
    "nombre_infected        23\n",
    "nombre_sain          3782\n",
    "nombre_exposed         23\n",
    "nombre_recovered    16172\n",
    "Name: 115, dtype: int64"
   ]
  },
  {
   "cell_type": "markdown",
   "id": "f2b58bf6",
   "metadata": {},
   "source": [
    "nombre_infected        23\n",
    "nombre_sain          3842\n",
    "nombre_exposed         25\n",
    "nombre_recovered    16110\n",
    "Name: 116, dtype: int64"
   ]
  },
  {
   "cell_type": "markdown",
   "id": "f634ca63",
   "metadata": {},
   "source": [
    "nombre_infected        28\n",
    "nombre_sain          3906\n",
    "nombre_exposed         25\n",
    "nombre_recovered    16041\n",
    "Name: 117, dtype: int64"
   ]
  },
  {
   "cell_type": "markdown",
   "id": "7327fd86",
   "metadata": {},
   "source": [
    "nombre_infected        29\n",
    "nombre_sain          3964\n",
    "nombre_exposed         33\n",
    "nombre_recovered    15974\n",
    "Name: 118, dtype: int64"
   ]
  },
  {
   "cell_type": "markdown",
   "id": "9a752afc",
   "metadata": {},
   "source": [
    "nombre_infected        33\n",
    "nombre_sain          4006\n",
    "nombre_exposed         35\n",
    "nombre_recovered    15926\n",
    "Name: 119, dtype: int64"
   ]
  },
  {
   "cell_type": "markdown",
   "id": "7e2591ac",
   "metadata": {},
   "source": [
    "nombre_infected        35\n",
    "nombre_sain          4042\n",
    "nombre_exposed         38\n",
    "nombre_recovered    15885\n",
    "Name: 120, dtype: int64"
   ]
  },
  {
   "cell_type": "markdown",
   "id": "922983cd",
   "metadata": {},
   "source": [
    "nombre_infected        34\n",
    "nombre_sain          4091\n",
    "nombre_exposed         43\n",
    "nombre_recovered    15832\n",
    "Name: 121, dtype: int64"
   ]
  },
  {
   "cell_type": "markdown",
   "id": "b694de31",
   "metadata": {},
   "source": [
    "nombre_infected        43\n",
    "nombre_sain          4142\n",
    "nombre_exposed         45\n",
    "nombre_recovered    15770\n",
    "Name: 122, dtype: int64"
   ]
  },
  {
   "cell_type": "markdown",
   "id": "443f0179",
   "metadata": {},
   "source": [
    "nombre_infected        45\n",
    "nombre_sain          4191\n",
    "nombre_exposed         43\n",
    "nombre_recovered    15721\n",
    "Name: 123, dtype: int64"
   ]
  },
  {
   "cell_type": "markdown",
   "id": "7ade16e3",
   "metadata": {},
   "source": [
    "nombre_infected        52\n",
    "nombre_sain          4224\n",
    "nombre_exposed         43\n",
    "nombre_recovered    15681\n",
    "Name: 124, dtype: int64"
   ]
  },
  {
   "cell_type": "markdown",
   "id": "88c534ff",
   "metadata": {},
   "source": [
    "nombre_infected        57\n",
    "nombre_sain          4255\n",
    "nombre_exposed         55\n",
    "nombre_recovered    15633\n",
    "Name: 125, dtype: int64"
   ]
  },
  {
   "cell_type": "markdown",
   "id": "5e33fac2",
   "metadata": {},
   "source": [
    "nombre_infected        57\n",
    "nombre_sain          4274\n",
    "nombre_exposed         67\n",
    "nombre_recovered    15602\n",
    "Name: 126, dtype: int64"
   ]
  },
  {
   "cell_type": "markdown",
   "id": "8a00c255",
   "metadata": {},
   "source": [
    "nombre_infected        64\n",
    "nombre_sain          4302\n",
    "nombre_exposed         71\n",
    "nombre_recovered    15563\n",
    "Name: 127, dtype: int64"
   ]
  },
  {
   "cell_type": "markdown",
   "id": "ddbff289",
   "metadata": {},
   "source": [
    "nombre_infected        66\n",
    "nombre_sain          4326\n",
    "nombre_exposed         80\n",
    "nombre_recovered    15528\n",
    "Name: 128, dtype: int64"
   ]
  },
  {
   "cell_type": "markdown",
   "id": "69c4098c",
   "metadata": {},
   "source": [
    "nombre_infected        77\n",
    "nombre_sain          4349\n",
    "nombre_exposed         81\n",
    "nombre_recovered    15493\n",
    "Name: 129, dtype: int64"
   ]
  },
  {
   "cell_type": "markdown",
   "id": "7476d5c9",
   "metadata": {},
   "source": [
    "nombre_infected        87\n",
    "nombre_sain          4378\n",
    "nombre_exposed         76\n",
    "nombre_recovered    15459\n",
    "Name: 130, dtype: int64"
   ]
  },
  {
   "cell_type": "markdown",
   "id": "21ae1a6c",
   "metadata": {},
   "source": [
    "nombre_infected        91\n",
    "nombre_sain          4381\n",
    "nombre_exposed         92\n",
    "nombre_recovered    15436\n",
    "Name: 131, dtype: int64"
   ]
  },
  {
   "cell_type": "markdown",
   "id": "90d3e06f",
   "metadata": {},
   "source": [
    "nombre_infected        86\n",
    "nombre_sain          4397\n",
    "nombre_exposed        104\n",
    "nombre_recovered    15413\n",
    "Name: 132, dtype: int64"
   ]
  },
  {
   "cell_type": "markdown",
   "id": "f9dc859f",
   "metadata": {},
   "source": [
    "nombre_infected        96\n",
    "nombre_sain          4415\n",
    "nombre_exposed        107\n",
    "nombre_recovered    15382\n",
    "Name: 133, dtype: int64"
   ]
  },
  {
   "cell_type": "markdown",
   "id": "3336a82c",
   "metadata": {},
   "source": [
    "nombre_infected       110\n",
    "nombre_sain          4427\n",
    "nombre_exposed        115\n",
    "nombre_recovered    15348\n",
    "Name: 134, dtype: int64"
   ]
  },
  {
   "cell_type": "markdown",
   "id": "7ccb117c",
   "metadata": {},
   "source": [
    "nombre_infected       121\n",
    "nombre_sain          4451\n",
    "nombre_exposed        120\n",
    "nombre_recovered    15308\n",
    "Name: 135, dtype: int64"
   ]
  },
  {
   "cell_type": "markdown",
   "id": "b52e6663",
   "metadata": {},
   "source": [
    "nombre_infected       121\n",
    "nombre_sain          4473\n",
    "nombre_exposed        145\n",
    "nombre_recovered    15261\n",
    "Name: 136, dtype: int64"
   ]
  },
  {
   "cell_type": "markdown",
   "id": "af345b8d",
   "metadata": {},
   "source": [
    "nombre_infected       135\n",
    "nombre_sain          4489\n",
    "nombre_exposed        157\n",
    "nombre_recovered    15219\n",
    "Name: 137, dtype: int64"
   ]
  },
  {
   "cell_type": "markdown",
   "id": "3c47bb0d",
   "metadata": {},
   "source": [
    "nombre_infected       154\n",
    "nombre_sain          4492\n",
    "nombre_exposed        165\n",
    "nombre_recovered    15189\n",
    "Name: 138, dtype: int64"
   ]
  },
  {
   "cell_type": "markdown",
   "id": "b7926a56",
   "metadata": {},
   "source": [
    "nombre_infected       161\n",
    "nombre_sain          4501\n",
    "nombre_exposed        189\n",
    "nombre_recovered    15149\n",
    "Name: 139, dtype: int64"
   ]
  },
  {
   "cell_type": "markdown",
   "id": "9b69075b",
   "metadata": {},
   "source": [
    "nombre_infected       167\n",
    "nombre_sain          4505\n",
    "nombre_exposed        200\n",
    "nombre_recovered    15128\n",
    "Name: 140, dtype: int64"
   ]
  },
  {
   "cell_type": "markdown",
   "id": "82a958ad",
   "metadata": {},
   "source": [
    "nombre_infected       189\n",
    "nombre_sain          4512\n",
    "nombre_exposed        195\n",
    "nombre_recovered    15104\n",
    "Name: 141, dtype: int64"
   ]
  },
  {
   "cell_type": "markdown",
   "id": "bb028f34",
   "metadata": {},
   "source": [
    "nombre_infected       213\n",
    "nombre_sain          4508\n",
    "nombre_exposed        218\n",
    "nombre_recovered    15061\n",
    "Name: 142, dtype: int64"
   ]
  },
  {
   "cell_type": "markdown",
   "id": "b01a8cf6",
   "metadata": {},
   "source": [
    "nombre_infected       224\n",
    "nombre_sain          4483\n",
    "nombre_exposed        250\n",
    "nombre_recovered    15043\n",
    "Name: 143, dtype: int64"
   ]
  },
  {
   "cell_type": "markdown",
   "id": "a3478142",
   "metadata": {},
   "source": [
    "nombre_infected       224\n",
    "nombre_sain          4448\n",
    "nombre_exposed        291\n",
    "nombre_recovered    15037\n",
    "Name: 144, dtype: int64"
   ]
  },
  {
   "cell_type": "markdown",
   "id": "80f09117",
   "metadata": {},
   "source": [
    "nombre_infected       242\n",
    "nombre_sain          4433\n",
    "nombre_exposed        301\n",
    "nombre_recovered    15024\n",
    "Name: 145, dtype: int64"
   ]
  },
  {
   "cell_type": "markdown",
   "id": "aabca766",
   "metadata": {},
   "source": [
    "nombre_infected       265\n",
    "nombre_sain          4410\n",
    "nombre_exposed        318\n",
    "nombre_recovered    15007\n",
    "Name: 146, dtype: int64"
   ]
  },
  {
   "cell_type": "markdown",
   "id": "7db2a2ae",
   "metadata": {},
   "source": [
    "nombre_infected       291\n",
    "nombre_sain          4358\n",
    "nombre_exposed        347\n",
    "nombre_recovered    15004\n",
    "Name: 147, dtype: int64"
   ]
  },
  {
   "cell_type": "markdown",
   "id": "afdc554c",
   "metadata": {},
   "source": [
    "nombre_infected       326\n",
    "nombre_sain          4310\n",
    "nombre_exposed        363\n",
    "nombre_recovered    15001\n",
    "Name: 148, dtype: int64"
   ]
  },
  {
   "cell_type": "markdown",
   "id": "2f2616ce",
   "metadata": {},
   "source": [
    "nombre_infected       359\n",
    "nombre_sain          4257\n",
    "nombre_exposed        381\n",
    "nombre_recovered    15003\n",
    "Name: 149, dtype: int64"
   ]
  },
  {
   "cell_type": "markdown",
   "id": "8284bed7",
   "metadata": {},
   "source": [
    "nombre_infected       378\n",
    "nombre_sain          4187\n",
    "nombre_exposed        429\n",
    "nombre_recovered    15006\n",
    "Name: 150, dtype: int64"
   ]
  },
  {
   "cell_type": "markdown",
   "id": "f6d63e03",
   "metadata": {},
   "source": [
    "nombre_infected       395\n",
    "nombre_sain          4137\n",
    "nombre_exposed        444\n",
    "nombre_recovered    15024\n",
    "Name: 151, dtype: int64"
   ]
  },
  {
   "cell_type": "markdown",
   "id": "f24d325e",
   "metadata": {},
   "source": [
    "nombre_infected       426\n",
    "nombre_sain          4059\n",
    "nombre_exposed        470\n",
    "nombre_recovered    15045\n",
    "Name: 152, dtype: int64"
   ]
  },
  {
   "cell_type": "markdown",
   "id": "a8b0a87a",
   "metadata": {},
   "source": [
    "nombre_infected       457\n",
    "nombre_sain          3972\n",
    "nombre_exposed        496\n",
    "nombre_recovered    15075\n",
    "Name: 153, dtype: int64"
   ]
  },
  {
   "cell_type": "markdown",
   "id": "4453d029",
   "metadata": {},
   "source": [
    "nombre_infected       493\n",
    "nombre_sain          3870\n",
    "nombre_exposed        546\n",
    "nombre_recovered    15091\n",
    "Name: 154, dtype: int64"
   ]
  },
  {
   "cell_type": "markdown",
   "id": "3ed074c3",
   "metadata": {},
   "source": [
    "nombre_infected       528\n",
    "nombre_sain          3779\n",
    "nombre_exposed        565\n",
    "nombre_recovered    15128\n",
    "Name: 155, dtype: int64"
   ]
  },
  {
   "cell_type": "markdown",
   "id": "193438ae",
   "metadata": {},
   "source": [
    "nombre_infected       564\n",
    "nombre_sain          3689\n",
    "nombre_exposed        583\n",
    "nombre_recovered    15164\n",
    "Name: 156, dtype: int64"
   ]
  },
  {
   "cell_type": "markdown",
   "id": "3d77a944",
   "metadata": {},
   "source": [
    "nombre_infected       593\n",
    "nombre_sain          3586\n",
    "nombre_exposed        610\n",
    "nombre_recovered    15211\n",
    "Name: 157, dtype: int64"
   ]
  },
  {
   "cell_type": "markdown",
   "id": "3e0e5276",
   "metadata": {},
   "source": [
    "nombre_infected       631\n",
    "nombre_sain          3485\n",
    "nombre_exposed        616\n",
    "nombre_recovered    15268\n",
    "Name: 158, dtype: int64"
   ]
  },
  {
   "cell_type": "markdown",
   "id": "b76c6ae1",
   "metadata": {},
   "source": [
    "nombre_infected       674\n",
    "nombre_sain          3376\n",
    "nombre_exposed        656\n",
    "nombre_recovered    15294\n",
    "Name: 159, dtype: int64"
   ]
  },
  {
   "cell_type": "markdown",
   "id": "faafb8a9",
   "metadata": {},
   "source": [
    "nombre_infected       705\n",
    "nombre_sain          3287\n",
    "nombre_exposed        664\n",
    "nombre_recovered    15344\n",
    "Name: 160, dtype: int64"
   ]
  },
  {
   "cell_type": "markdown",
   "id": "c44d7c59",
   "metadata": {},
   "source": [
    "nombre_infected       758\n",
    "nombre_sain          3170\n",
    "nombre_exposed        676\n",
    "nombre_recovered    15396\n",
    "Name: 161, dtype: int64"
   ]
  },
  {
   "cell_type": "markdown",
   "id": "355d318d",
   "metadata": {},
   "source": [
    "nombre_infected       795\n",
    "nombre_sain          3060\n",
    "nombre_exposed        696\n",
    "nombre_recovered    15449\n",
    "Name: 162, dtype: int64"
   ]
  },
  {
   "cell_type": "markdown",
   "id": "b2f64326",
   "metadata": {},
   "source": [
    "nombre_infected       815\n",
    "nombre_sain          2949\n",
    "nombre_exposed        713\n",
    "nombre_recovered    15523\n",
    "Name: 163, dtype: int64"
   ]
  },
  {
   "cell_type": "markdown",
   "id": "38c5ca40",
   "metadata": {},
   "source": [
    "nombre_infected       845\n",
    "nombre_sain          2825\n",
    "nombre_exposed        729\n",
    "nombre_recovered    15601\n",
    "Name: 164, dtype: int64"
   ]
  },
  {
   "cell_type": "markdown",
   "id": "f746e568",
   "metadata": {},
   "source": [
    "nombre_infected       871\n",
    "nombre_sain          2711\n",
    "nombre_exposed        739\n",
    "nombre_recovered    15679\n",
    "Name: 165, dtype: int64"
   ]
  },
  {
   "cell_type": "markdown",
   "id": "11bb067c",
   "metadata": {},
   "source": [
    "nombre_infected       917\n",
    "nombre_sain          2609\n",
    "nombre_exposed        728\n",
    "nombre_recovered    15746\n",
    "Name: 166, dtype: int64"
   ]
  },
  {
   "cell_type": "markdown",
   "id": "df151456",
   "metadata": {},
   "source": [
    "nombre_infected       950\n",
    "nombre_sain          2518\n",
    "nombre_exposed        739\n",
    "nombre_recovered    15793\n",
    "Name: 167, dtype: int64"
   ]
  },
  {
   "cell_type": "markdown",
   "id": "6f759571",
   "metadata": {},
   "source": [
    "nombre_infected       964\n",
    "nombre_sain          2431\n",
    "nombre_exposed        746\n",
    "nombre_recovered    15859\n",
    "Name: 168, dtype: int64"
   ]
  },
  {
   "cell_type": "markdown",
   "id": "904260ed",
   "metadata": {},
   "source": [
    "nombre_infected       969\n",
    "nombre_sain          2348\n",
    "nombre_exposed        743\n",
    "nombre_recovered    15940\n",
    "Name: 169, dtype: int64"
   ]
  },
  {
   "cell_type": "markdown",
   "id": "9c4475ed",
   "metadata": {},
   "source": [
    "nombre_infected       967\n",
    "nombre_sain          2264\n",
    "nombre_exposed        745\n",
    "nombre_recovered    16024\n",
    "Name: 170, dtype: int64"
   ]
  },
  {
   "cell_type": "markdown",
   "id": "e9eadf3b",
   "metadata": {},
   "source": [
    "nombre_infected       974\n",
    "nombre_sain          2199\n",
    "nombre_exposed        726\n",
    "nombre_recovered    16101\n",
    "Name: 171, dtype: int64"
   ]
  },
  {
   "cell_type": "markdown",
   "id": "bd8e05ea",
   "metadata": {},
   "source": [
    "nombre_infected       987\n",
    "nombre_sain          2132\n",
    "nombre_exposed        710\n",
    "nombre_recovered    16171\n",
    "Name: 172, dtype: int64"
   ]
  },
  {
   "cell_type": "markdown",
   "id": "89f0decb",
   "metadata": {},
   "source": [
    "nombre_infected      1016\n",
    "nombre_sain          2045\n",
    "nombre_exposed        681\n",
    "nombre_recovered    16258\n",
    "Name: 173, dtype: int64"
   ]
  },
  {
   "cell_type": "markdown",
   "id": "fcedaf19",
   "metadata": {},
   "source": [
    "nombre_infected      1021\n",
    "nombre_sain          1990\n",
    "nombre_exposed        657\n",
    "nombre_recovered    16332\n",
    "Name: 174, dtype: int64"
   ]
  },
  {
   "cell_type": "markdown",
   "id": "c4cc92ab",
   "metadata": {},
   "source": [
    "nombre_infected      1023\n",
    "nombre_sain          1932\n",
    "nombre_exposed        634\n",
    "nombre_recovered    16411\n",
    "Name: 175, dtype: int64"
   ]
  },
  {
   "cell_type": "markdown",
   "id": "e215196f",
   "metadata": {},
   "source": [
    "nombre_infected      1038\n",
    "nombre_sain          1860\n",
    "nombre_exposed        615\n",
    "nombre_recovered    16487\n",
    "Name: 176, dtype: int64"
   ]
  },
  {
   "cell_type": "markdown",
   "id": "0b456abb",
   "metadata": {},
   "source": [
    "nombre_infected      1013\n",
    "nombre_sain          1810\n",
    "nombre_exposed        614\n",
    "nombre_recovered    16563\n",
    "Name: 177, dtype: int64"
   ]
  },
  {
   "cell_type": "markdown",
   "id": "3b42c9c1",
   "metadata": {},
   "source": [
    "nombre_infected      1010\n",
    "nombre_sain          1746\n",
    "nombre_exposed        616\n",
    "nombre_recovered    16628\n",
    "Name: 178, dtype: int64"
   ]
  },
  {
   "cell_type": "markdown",
   "id": "c9b34ed9",
   "metadata": {},
   "source": [
    "nombre_infected       988\n",
    "nombre_sain          1695\n",
    "nombre_exposed        603\n",
    "nombre_recovered    16714\n",
    "Name: 179, dtype: int64"
   ]
  },
  {
   "cell_type": "markdown",
   "id": "6d4874c0",
   "metadata": {},
   "source": [
    "nombre_infected       958\n",
    "nombre_sain          1668\n",
    "nombre_exposed        584\n",
    "nombre_recovered    16790\n",
    "Name: 180, dtype: int64"
   ]
  },
  {
   "cell_type": "markdown",
   "id": "c8219a8b",
   "metadata": {},
   "source": [
    "nombre_infected       976\n",
    "nombre_sain          1640\n",
    "nombre_exposed        548\n",
    "nombre_recovered    16836\n",
    "Name: 181, dtype: int64"
   ]
  },
  {
   "cell_type": "markdown",
   "id": "11e7996e",
   "metadata": {},
   "source": [
    "nombre_infected       966\n",
    "nombre_sain          1602\n",
    "nombre_exposed        517\n",
    "nombre_recovered    16915\n",
    "Name: 182, dtype: int64"
   ]
  },
  {
   "cell_type": "markdown",
   "id": "3f15ca06",
   "metadata": {},
   "source": [
    "nombre_infected       963\n",
    "nombre_sain          1573\n",
    "nombre_exposed        512\n",
    "nombre_recovered    16952\n",
    "Name: 183, dtype: int64"
   ]
  },
  {
   "cell_type": "markdown",
   "id": "fea264ac",
   "metadata": {},
   "source": [
    "nombre_infected       934\n",
    "nombre_sain          1558\n",
    "nombre_exposed        503\n",
    "nombre_recovered    17005\n",
    "Name: 184, dtype: int64"
   ]
  },
  {
   "cell_type": "markdown",
   "id": "5ec3b545",
   "metadata": {},
   "source": [
    "nombre_infected       883\n",
    "nombre_sain          1560\n",
    "nombre_exposed        481\n",
    "nombre_recovered    17076\n",
    "Name: 185, dtype: int64"
   ]
  },
  {
   "cell_type": "markdown",
   "id": "4a33c6c4",
   "metadata": {},
   "source": [
    "nombre_infected       872\n",
    "nombre_sain          1533\n",
    "nombre_exposed        475\n",
    "nombre_recovered    17120\n",
    "Name: 186, dtype: int64"
   ]
  },
  {
   "cell_type": "markdown",
   "id": "4bf28954",
   "metadata": {},
   "source": [
    "nombre_infected       841\n",
    "nombre_sain          1526\n",
    "nombre_exposed        468\n",
    "nombre_recovered    17165\n",
    "Name: 187, dtype: int64"
   ]
  },
  {
   "cell_type": "markdown",
   "id": "cc40d431",
   "metadata": {},
   "source": [
    "nombre_infected       829\n",
    "nombre_sain          1521\n",
    "nombre_exposed        434\n",
    "nombre_recovered    17216\n",
    "Name: 188, dtype: int64"
   ]
  },
  {
   "cell_type": "markdown",
   "id": "df546738",
   "metadata": {},
   "source": [
    "nombre_infected       808\n",
    "nombre_sain          1504\n",
    "nombre_exposed        414\n",
    "nombre_recovered    17274\n",
    "Name: 189, dtype: int64"
   ]
  },
  {
   "cell_type": "markdown",
   "id": "9c122730",
   "metadata": {},
   "source": [
    "nombre_infected       779\n",
    "nombre_sain          1505\n",
    "nombre_exposed        401\n",
    "nombre_recovered    17315\n",
    "Name: 190, dtype: int64"
   ]
  },
  {
   "cell_type": "markdown",
   "id": "c83b717d",
   "metadata": {},
   "source": [
    "nombre_infected       760\n",
    "nombre_sain          1519\n",
    "nombre_exposed        376\n",
    "nombre_recovered    17345\n",
    "Name: 191, dtype: int64"
   ]
  },
  {
   "cell_type": "markdown",
   "id": "8f51a480",
   "metadata": {},
   "source": [
    "nombre_infected       740\n",
    "nombre_sain          1528\n",
    "nombre_exposed        361\n",
    "nombre_recovered    17371\n",
    "Name: 192, dtype: int64"
   ]
  },
  {
   "cell_type": "markdown",
   "id": "ed6993a6",
   "metadata": {},
   "source": [
    "nombre_infected       720\n",
    "nombre_sain          1535\n",
    "nombre_exposed        350\n",
    "nombre_recovered    17395\n",
    "Name: 193, dtype: int64"
   ]
  },
  {
   "cell_type": "markdown",
   "id": "77cae2d9",
   "metadata": {},
   "source": [
    "nombre_infected       680\n",
    "nombre_sain          1568\n",
    "nombre_exposed        321\n",
    "nombre_recovered    17431\n",
    "Name: 194, dtype: int64"
   ]
  },
  {
   "cell_type": "markdown",
   "id": "c0753124",
   "metadata": {},
   "source": [
    "nombre_infected       667\n",
    "nombre_sain          1578\n",
    "nombre_exposed        317\n",
    "nombre_recovered    17438\n",
    "Name: 195, dtype: int64"
   ]
  },
  {
   "cell_type": "markdown",
   "id": "e3581347",
   "metadata": {},
   "source": [
    "nombre_infected       631\n",
    "nombre_sain          1585\n",
    "nombre_exposed        323\n",
    "nombre_recovered    17461\n",
    "Name: 196, dtype: int64"
   ]
  },
  {
   "cell_type": "markdown",
   "id": "46dbbbef",
   "metadata": {},
   "source": [
    "nombre_infected       606\n",
    "nombre_sain          1596\n",
    "nombre_exposed        323\n",
    "nombre_recovered    17475\n",
    "Name: 197, dtype: int64"
   ]
  },
  {
   "cell_type": "markdown",
   "id": "98f85daa",
   "metadata": {},
   "source": [
    "nombre_infected       571\n",
    "nombre_sain          1639\n",
    "nombre_exposed        321\n",
    "nombre_recovered    17469\n",
    "Name: 198, dtype: int64"
   ]
  },
  {
   "cell_type": "markdown",
   "id": "8fde7ff3",
   "metadata": {},
   "source": [
    "nombre_infected       545\n",
    "nombre_sain          1670\n",
    "nombre_exposed        332\n",
    "nombre_recovered    17453\n",
    "Name: 199, dtype: int64"
   ]
  },
  {
   "cell_type": "markdown",
   "id": "4f2fd35f",
   "metadata": {},
   "source": [
    "nombre_infected       532\n",
    "nombre_sain          1700\n",
    "nombre_exposed        322\n",
    "nombre_recovered    17446\n",
    "Name: 200, dtype: int64"
   ]
  },
  {
   "cell_type": "markdown",
   "id": "58d69c18",
   "metadata": {},
   "source": [
    "nombre_infected       517\n",
    "nombre_sain          1756\n",
    "nombre_exposed        311\n",
    "nombre_recovered    17416\n",
    "Name: 201, dtype: int64"
   ]
  },
  {
   "cell_type": "markdown",
   "id": "22b3b9b0",
   "metadata": {},
   "source": [
    "nombre_infected       509\n",
    "nombre_sain          1804\n",
    "nombre_exposed        286\n",
    "nombre_recovered    17401\n",
    "Name: 202, dtype: int64"
   ]
  },
  {
   "cell_type": "markdown",
   "id": "8efff9f5",
   "metadata": {},
   "source": [
    "nombre_infected       499\n",
    "nombre_sain          1833\n",
    "nombre_exposed        286\n",
    "nombre_recovered    17382\n",
    "Name: 203, dtype: int64"
   ]
  },
  {
   "cell_type": "markdown",
   "id": "dd5d1902",
   "metadata": {},
   "source": [
    "nombre_infected       490\n",
    "nombre_sain          1876\n",
    "nombre_exposed        287\n",
    "nombre_recovered    17347\n",
    "Name: 204, dtype: int64"
   ]
  },
  {
   "cell_type": "markdown",
   "id": "1f9202cf",
   "metadata": {},
   "source": [
    "nombre_infected       508\n",
    "nombre_sain          1924\n",
    "nombre_exposed        270\n",
    "nombre_recovered    17298\n",
    "Name: 205, dtype: int64"
   ]
  },
  {
   "cell_type": "markdown",
   "id": "a6449d90",
   "metadata": {},
   "source": [
    "nombre_infected       501\n",
    "nombre_sain          1951\n",
    "nombre_exposed        269\n",
    "nombre_recovered    17279\n",
    "Name: 206, dtype: int64"
   ]
  },
  {
   "cell_type": "markdown",
   "id": "c54dc91f",
   "metadata": {},
   "source": [
    "nombre_infected       495\n",
    "nombre_sain          1991\n",
    "nombre_exposed        263\n",
    "nombre_recovered    17251\n",
    "Name: 207, dtype: int64"
   ]
  },
  {
   "cell_type": "markdown",
   "id": "1b51e4f0",
   "metadata": {},
   "source": [
    "nombre_infected       490\n",
    "nombre_sain          2010\n",
    "nombre_exposed        279\n",
    "nombre_recovered    17221\n",
    "Name: 208, dtype: int64"
   ]
  },
  {
   "cell_type": "markdown",
   "id": "07e6700f",
   "metadata": {},
   "source": [
    "nombre_infected       482\n",
    "nombre_sain          2023\n",
    "nombre_exposed        271\n",
    "nombre_recovered    17224\n",
    "Name: 209, dtype: int64"
   ]
  },
  {
   "cell_type": "markdown",
   "id": "ed4c8291",
   "metadata": {},
   "source": [
    "nombre_infected       470\n",
    "nombre_sain          2019\n",
    "nombre_exposed        297\n",
    "nombre_recovered    17214\n",
    "Name: 210, dtype: int64"
   ]
  },
  {
   "cell_type": "markdown",
   "id": "1f7a406b",
   "metadata": {},
   "source": [
    "nombre_infected       458\n",
    "nombre_sain          2053\n",
    "nombre_exposed        299\n",
    "nombre_recovered    17190\n",
    "Name: 211, dtype: int64"
   ]
  },
  {
   "cell_type": "markdown",
   "id": "c6fd9b1c",
   "metadata": {},
   "source": [
    "nombre_infected       460\n",
    "nombre_sain          2066\n",
    "nombre_exposed        297\n",
    "nombre_recovered    17177\n",
    "Name: 212, dtype: int64"
   ]
  },
  {
   "cell_type": "markdown",
   "id": "4a05020d",
   "metadata": {},
   "source": [
    "nombre_infected       476\n",
    "nombre_sain          2077\n",
    "nombre_exposed        298\n",
    "nombre_recovered    17149\n",
    "Name: 213, dtype: int64"
   ]
  },
  {
   "cell_type": "markdown",
   "id": "1b66155a",
   "metadata": {},
   "source": [
    "nombre_infected       478\n",
    "nombre_sain          2108\n",
    "nombre_exposed        294\n",
    "nombre_recovered    17120\n",
    "Name: 214, dtype: int64"
   ]
  },
  {
   "cell_type": "markdown",
   "id": "b2394fd2",
   "metadata": {},
   "source": [
    "nombre_infected       479\n",
    "nombre_sain          2120\n",
    "nombre_exposed        305\n",
    "nombre_recovered    17096\n",
    "Name: 215, dtype: int64"
   ]
  },
  {
   "cell_type": "markdown",
   "id": "2d702465",
   "metadata": {},
   "source": [
    "nombre_infected       453\n",
    "nombre_sain          2145\n",
    "nombre_exposed        311\n",
    "nombre_recovered    17091\n",
    "Name: 216, dtype: int64"
   ]
  },
  {
   "cell_type": "markdown",
   "id": "a87f16ab",
   "metadata": {},
   "source": [
    "nombre_infected       470\n",
    "nombre_sain          2167\n",
    "nombre_exposed        300\n",
    "nombre_recovered    17063\n",
    "Name: 217, dtype: int64"
   ]
  },
  {
   "cell_type": "markdown",
   "id": "dd1e01c7",
   "metadata": {},
   "source": [
    "nombre_infected       472\n",
    "nombre_sain          2201\n",
    "nombre_exposed        296\n",
    "nombre_recovered    17031\n",
    "Name: 218, dtype: int64"
   ]
  },
  {
   "cell_type": "markdown",
   "id": "4367a37d",
   "metadata": {},
   "source": [
    "nombre_infected       463\n",
    "nombre_sain          2229\n",
    "nombre_exposed        295\n",
    "nombre_recovered    17013\n",
    "Name: 219, dtype: int64"
   ]
  },
  {
   "cell_type": "markdown",
   "id": "799f7e21",
   "metadata": {},
   "source": [
    "nombre_infected       452\n",
    "nombre_sain          2250\n",
    "nombre_exposed        297\n",
    "nombre_recovered    17001\n",
    "Name: 220, dtype: int64"
   ]
  },
  {
   "cell_type": "markdown",
   "id": "6f347052",
   "metadata": {},
   "source": [
    "nombre_infected       431\n",
    "nombre_sain          2289\n",
    "nombre_exposed        307\n",
    "nombre_recovered    16973\n",
    "Name: 221, dtype: int64"
   ]
  },
  {
   "cell_type": "markdown",
   "id": "c71c3c30",
   "metadata": {},
   "source": [
    "nombre_infected       451\n",
    "nombre_sain          2322\n",
    "nombre_exposed        297\n",
    "nombre_recovered    16930\n",
    "Name: 222, dtype: int64"
   ]
  },
  {
   "cell_type": "markdown",
   "id": "68d3807c",
   "metadata": {},
   "source": [
    "nombre_infected       441\n",
    "nombre_sain          2373\n",
    "nombre_exposed        296\n",
    "nombre_recovered    16890\n",
    "Name: 223, dtype: int64"
   ]
  },
  {
   "cell_type": "markdown",
   "id": "356be88d",
   "metadata": {},
   "source": [
    "nombre_infected       432\n",
    "nombre_sain          2407\n",
    "nombre_exposed        296\n",
    "nombre_recovered    16865\n",
    "Name: 224, dtype: int64"
   ]
  },
  {
   "cell_type": "markdown",
   "id": "4569e9a7",
   "metadata": {},
   "source": [
    "nombre_infected       438\n",
    "nombre_sain          2457\n",
    "nombre_exposed        302\n",
    "nombre_recovered    16803\n",
    "Name: 225, dtype: int64"
   ]
  },
  {
   "cell_type": "markdown",
   "id": "8b87a7cf",
   "metadata": {},
   "source": [
    "nombre_infected       425\n",
    "nombre_sain          2490\n",
    "nombre_exposed        311\n",
    "nombre_recovered    16774\n",
    "Name: 226, dtype: int64"
   ]
  },
  {
   "cell_type": "markdown",
   "id": "3afef014",
   "metadata": {},
   "source": [
    "nombre_infected       440\n",
    "nombre_sain          2518\n",
    "nombre_exposed        318\n",
    "nombre_recovered    16724\n",
    "Name: 227, dtype: int64"
   ]
  },
  {
   "cell_type": "markdown",
   "id": "18da3ebe",
   "metadata": {},
   "source": [
    "nombre_infected       445\n",
    "nombre_sain          2548\n",
    "nombre_exposed        304\n",
    "nombre_recovered    16703\n",
    "Name: 228, dtype: int64"
   ]
  },
  {
   "cell_type": "markdown",
   "id": "5ea0f1e1",
   "metadata": {},
   "source": [
    "nombre_infected       445\n",
    "nombre_sain          2585\n",
    "nombre_exposed        314\n",
    "nombre_recovered    16656\n",
    "Name: 229, dtype: int64"
   ]
  },
  {
   "cell_type": "markdown",
   "id": "addb039f",
   "metadata": {},
   "source": [
    "nombre_infected       457\n",
    "nombre_sain          2616\n",
    "nombre_exposed        325\n",
    "nombre_recovered    16602\n",
    "Name: 230, dtype: int64"
   ]
  },
  {
   "cell_type": "markdown",
   "id": "ec0ca0ba",
   "metadata": {},
   "source": [
    "nombre_infected       472\n",
    "nombre_sain          2641\n",
    "nombre_exposed        324\n",
    "nombre_recovered    16563\n",
    "Name: 231, dtype: int64"
   ]
  },
  {
   "cell_type": "markdown",
   "id": "34633942",
   "metadata": {},
   "source": [
    "nombre_infected       500\n",
    "nombre_sain          2657\n",
    "nombre_exposed        322\n",
    "nombre_recovered    16521\n",
    "Name: 232, dtype: int64"
   ]
  },
  {
   "cell_type": "markdown",
   "id": "31b04448",
   "metadata": {},
   "source": [
    "nombre_infected       522\n",
    "nombre_sain          2624\n",
    "nombre_exposed        351\n",
    "nombre_recovered    16503\n",
    "Name: 233, dtype: int64"
   ]
  },
  {
   "cell_type": "markdown",
   "id": "20c30781",
   "metadata": {},
   "source": [
    "nombre_infected       524\n",
    "nombre_sain          2627\n",
    "nombre_exposed        348\n",
    "nombre_recovered    16501\n",
    "Name: 234, dtype: int64"
   ]
  },
  {
   "cell_type": "markdown",
   "id": "84f2d620",
   "metadata": {},
   "source": [
    "nombre_infected       543\n",
    "nombre_sain          2656\n",
    "nombre_exposed        342\n",
    "nombre_recovered    16459\n",
    "Name: 235, dtype: int64"
   ]
  },
  {
   "cell_type": "markdown",
   "id": "ea732370",
   "metadata": {},
   "source": [
    "nombre_infected       545\n",
    "nombre_sain          2658\n",
    "nombre_exposed        370\n",
    "nombre_recovered    16427\n",
    "Name: 236, dtype: int64"
   ]
  },
  {
   "cell_type": "markdown",
   "id": "0e483468",
   "metadata": {},
   "source": [
    "nombre_infected       547\n",
    "nombre_sain          2661\n",
    "nombre_exposed        390\n",
    "nombre_recovered    16402\n",
    "Name: 237, dtype: int64"
   ]
  },
  {
   "cell_type": "markdown",
   "id": "9e1db239",
   "metadata": {},
   "source": [
    "nombre_infected       574\n",
    "nombre_sain          2678\n",
    "nombre_exposed        390\n",
    "nombre_recovered    16358\n",
    "Name: 238, dtype: int64"
   ]
  },
  {
   "cell_type": "markdown",
   "id": "be285e01",
   "metadata": {},
   "source": [
    "nombre_infected       581\n",
    "nombre_sain          2668\n",
    "nombre_exposed        407\n",
    "nombre_recovered    16344\n",
    "Name: 239, dtype: int64"
   ]
  },
  {
   "cell_type": "markdown",
   "id": "1dcc723b",
   "metadata": {},
   "source": [
    "nombre_infected       572\n",
    "nombre_sain          2690\n",
    "nombre_exposed        413\n",
    "nombre_recovered    16325\n",
    "Name: 240, dtype: int64"
   ]
  },
  {
   "cell_type": "markdown",
   "id": "b29b5a4d",
   "metadata": {},
   "source": [
    "nombre_infected       582\n",
    "nombre_sain          2664\n",
    "nombre_exposed        430\n",
    "nombre_recovered    16324\n",
    "Name: 241, dtype: int64"
   ]
  },
  {
   "cell_type": "markdown",
   "id": "9827ec28",
   "metadata": {},
   "source": [
    "nombre_infected       585\n",
    "nombre_sain          2679\n",
    "nombre_exposed        434\n",
    "nombre_recovered    16302\n",
    "Name: 242, dtype: int64"
   ]
  },
  {
   "cell_type": "markdown",
   "id": "d3dcf93a",
   "metadata": {},
   "source": [
    "nombre_infected       599\n",
    "nombre_sain          2677\n",
    "nombre_exposed        441\n",
    "nombre_recovered    16283\n",
    "Name: 243, dtype: int64"
   ]
  },
  {
   "cell_type": "markdown",
   "id": "cfb484fe",
   "metadata": {},
   "source": [
    "nombre_infected       610\n",
    "nombre_sain          2666\n",
    "nombre_exposed        471\n",
    "nombre_recovered    16253\n",
    "Name: 244, dtype: int64"
   ]
  },
  {
   "cell_type": "markdown",
   "id": "f17d8dd1",
   "metadata": {},
   "source": [
    "nombre_infected       629\n",
    "nombre_sain          2643\n",
    "nombre_exposed        488\n",
    "nombre_recovered    16240\n",
    "Name: 245, dtype: int64"
   ]
  },
  {
   "cell_type": "markdown",
   "id": "55a242bb",
   "metadata": {},
   "source": [
    "nombre_infected       669\n",
    "nombre_sain          2617\n",
    "nombre_exposed        492\n",
    "nombre_recovered    16222\n",
    "Name: 246, dtype: int64"
   ]
  },
  {
   "cell_type": "markdown",
   "id": "e7f5343d",
   "metadata": {},
   "source": [
    "nombre_infected       691\n",
    "nombre_sain          2627\n",
    "nombre_exposed        489\n",
    "nombre_recovered    16193\n",
    "Name: 247, dtype: int64"
   ]
  },
  {
   "cell_type": "markdown",
   "id": "49a54f9b",
   "metadata": {},
   "source": [
    "nombre_infected       710\n",
    "nombre_sain          2655\n",
    "nombre_exposed        478\n",
    "nombre_recovered    16157\n",
    "Name: 248, dtype: int64"
   ]
  },
  {
   "cell_type": "markdown",
   "id": "467d0839",
   "metadata": {},
   "source": [
    "nombre_infected       731\n",
    "nombre_sain          2655\n",
    "nombre_exposed        483\n",
    "nombre_recovered    16131\n",
    "Name: 249, dtype: int64"
   ]
  },
  {
   "cell_type": "markdown",
   "id": "6d56d4be",
   "metadata": {},
   "source": [
    "nombre_infected       723\n",
    "nombre_sain          2664\n",
    "nombre_exposed        505\n",
    "nombre_recovered    16108\n",
    "Name: 250, dtype: int64"
   ]
  },
  {
   "cell_type": "markdown",
   "id": "2045ff6c",
   "metadata": {},
   "source": [
    "nombre_infected       744\n",
    "nombre_sain          2626\n",
    "nombre_exposed        526\n",
    "nombre_recovered    16104\n",
    "Name: 251, dtype: int64"
   ]
  },
  {
   "cell_type": "markdown",
   "id": "8ac9fea6",
   "metadata": {},
   "source": [
    "nombre_infected       750\n",
    "nombre_sain          2611\n",
    "nombre_exposed        536\n",
    "nombre_recovered    16103\n",
    "Name: 252, dtype: int64"
   ]
  },
  {
   "cell_type": "markdown",
   "id": "8157f862",
   "metadata": {},
   "source": [
    "nombre_infected       793\n",
    "nombre_sain          2581\n",
    "nombre_exposed        534\n",
    "nombre_recovered    16092\n",
    "Name: 253, dtype: int64"
   ]
  },
  {
   "cell_type": "markdown",
   "id": "c6288747",
   "metadata": {},
   "source": [
    "nombre_infected       809\n",
    "nombre_sain          2548\n",
    "nombre_exposed        546\n",
    "nombre_recovered    16097\n",
    "Name: 254, dtype: int64"
   ]
  },
  {
   "cell_type": "markdown",
   "id": "c4867e29",
   "metadata": {},
   "source": [
    "nombre_infected       805\n",
    "nombre_sain          2557\n",
    "nombre_exposed        558\n",
    "nombre_recovered    16080\n",
    "Name: 255, dtype: int64"
   ]
  },
  {
   "cell_type": "markdown",
   "id": "0d90ff48",
   "metadata": {},
   "source": [
    "nombre_infected       829\n",
    "nombre_sain          2536\n",
    "nombre_exposed        562\n",
    "nombre_recovered    16073\n",
    "Name: 256, dtype: int64"
   ]
  },
  {
   "cell_type": "markdown",
   "id": "caddf46f",
   "metadata": {},
   "source": [
    "nombre_infected       837\n",
    "nombre_sain          2515\n",
    "nombre_exposed        566\n",
    "nombre_recovered    16082\n",
    "Name: 257, dtype: int64"
   ]
  },
  {
   "cell_type": "markdown",
   "id": "6000055f",
   "metadata": {},
   "source": [
    "nombre_infected       829\n",
    "nombre_sain          2478\n",
    "nombre_exposed        595\n",
    "nombre_recovered    16098\n",
    "Name: 258, dtype: int64"
   ]
  },
  {
   "cell_type": "markdown",
   "id": "2a874955",
   "metadata": {},
   "source": [
    "nombre_infected       842\n",
    "nombre_sain          2457\n",
    "nombre_exposed        598\n",
    "nombre_recovered    16103\n",
    "Name: 259, dtype: int64"
   ]
  },
  {
   "cell_type": "markdown",
   "id": "a388d451",
   "metadata": {},
   "source": [
    "nombre_infected       858\n",
    "nombre_sain          2458\n",
    "nombre_exposed        590\n",
    "nombre_recovered    16094\n",
    "Name: 260, dtype: int64"
   ]
  },
  {
   "cell_type": "markdown",
   "id": "d71395d3",
   "metadata": {},
   "source": [
    "nombre_infected       882\n",
    "nombre_sain          2417\n",
    "nombre_exposed        601\n",
    "nombre_recovered    16100\n",
    "Name: 261, dtype: int64"
   ]
  },
  {
   "cell_type": "markdown",
   "id": "22b8718c",
   "metadata": {},
   "source": [
    "nombre_infected       887\n",
    "nombre_sain          2370\n",
    "nombre_exposed        624\n",
    "nombre_recovered    16119\n",
    "Name: 262, dtype: int64"
   ]
  },
  {
   "cell_type": "markdown",
   "id": "7411a361",
   "metadata": {},
   "source": [
    "nombre_infected       907\n",
    "nombre_sain          2341\n",
    "nombre_exposed        624\n",
    "nombre_recovered    16128\n",
    "Name: 263, dtype: int64"
   ]
  },
  {
   "cell_type": "markdown",
   "id": "007a2028",
   "metadata": {},
   "source": [
    "nombre_infected       883\n",
    "nombre_sain          2301\n",
    "nombre_exposed        662\n",
    "nombre_recovered    16154\n",
    "Name: 264, dtype: int64"
   ]
  },
  {
   "cell_type": "markdown",
   "id": "a8015969",
   "metadata": {},
   "source": [
    "nombre_infected       853\n",
    "nombre_sain          2273\n",
    "nombre_exposed        662\n",
    "nombre_recovered    16212\n",
    "Name: 265, dtype: int64"
   ]
  },
  {
   "cell_type": "markdown",
   "id": "c986ad30",
   "metadata": {},
   "source": [
    "nombre_infected       839\n",
    "nombre_sain          2281\n",
    "nombre_exposed        627\n",
    "nombre_recovered    16253\n",
    "Name: 266, dtype: int64"
   ]
  },
  {
   "cell_type": "markdown",
   "id": "40229527",
   "metadata": {},
   "source": [
    "nombre_infected       861\n",
    "nombre_sain          2280\n",
    "nombre_exposed        623\n",
    "nombre_recovered    16236\n",
    "Name: 267, dtype: int64"
   ]
  },
  {
   "cell_type": "markdown",
   "id": "8d388463",
   "metadata": {},
   "source": [
    "nombre_infected       883\n",
    "nombre_sain          2250\n",
    "nombre_exposed        621\n",
    "nombre_recovered    16246\n",
    "Name: 268, dtype: int64"
   ]
  },
  {
   "cell_type": "markdown",
   "id": "0b54d212",
   "metadata": {},
   "source": [
    "nombre_infected       887\n",
    "nombre_sain          2235\n",
    "nombre_exposed        628\n",
    "nombre_recovered    16250\n",
    "Name: 269, dtype: int64"
   ]
  },
  {
   "cell_type": "markdown",
   "id": "7fef2e8e",
   "metadata": {},
   "source": [
    "nombre_infected       906\n",
    "nombre_sain          2207\n",
    "nombre_exposed        621\n",
    "nombre_recovered    16266\n",
    "Name: 270, dtype: int64"
   ]
  },
  {
   "cell_type": "markdown",
   "id": "9048a7ea",
   "metadata": {},
   "source": [
    "nombre_infected       919\n",
    "nombre_sain          2196\n",
    "nombre_exposed        614\n",
    "nombre_recovered    16271\n",
    "Name: 271, dtype: int64"
   ]
  },
  {
   "cell_type": "markdown",
   "id": "4784b55c",
   "metadata": {},
   "source": [
    "nombre_infected       934\n",
    "nombre_sain          2159\n",
    "nombre_exposed        593\n",
    "nombre_recovered    16314\n",
    "Name: 272, dtype: int64"
   ]
  },
  {
   "cell_type": "markdown",
   "id": "46300c1f",
   "metadata": {},
   "source": [
    "nombre_infected       952\n",
    "nombre_sain          2132\n",
    "nombre_exposed        606\n",
    "nombre_recovered    16310\n",
    "Name: 273, dtype: int64"
   ]
  },
  {
   "cell_type": "markdown",
   "id": "8019cd81",
   "metadata": {},
   "source": [
    "nombre_infected       952\n",
    "nombre_sain          2123\n",
    "nombre_exposed        588\n",
    "nombre_recovered    16337\n",
    "Name: 274, dtype: int64"
   ]
  },
  {
   "cell_type": "markdown",
   "id": "af321a93",
   "metadata": {},
   "source": [
    "nombre_infected       940\n",
    "nombre_sain          2085\n",
    "nombre_exposed        598\n",
    "nombre_recovered    16377\n",
    "Name: 275, dtype: int64"
   ]
  },
  {
   "cell_type": "markdown",
   "id": "3e02058a",
   "metadata": {},
   "source": [
    "nombre_infected       939\n",
    "nombre_sain          2073\n",
    "nombre_exposed        578\n",
    "nombre_recovered    16410\n",
    "Name: 276, dtype: int64"
   ]
  },
  {
   "cell_type": "markdown",
   "id": "6c6920db",
   "metadata": {},
   "source": [
    "nombre_infected       948\n",
    "nombre_sain          2070\n",
    "nombre_exposed        547\n",
    "nombre_recovered    16435\n",
    "Name: 277, dtype: int64"
   ]
  },
  {
   "cell_type": "markdown",
   "id": "ffe01735",
   "metadata": {},
   "source": [
    "nombre_infected       929\n",
    "nombre_sain          2068\n",
    "nombre_exposed        553\n",
    "nombre_recovered    16450\n",
    "Name: 278, dtype: int64"
   ]
  },
  {
   "cell_type": "markdown",
   "id": "15fe1afa",
   "metadata": {},
   "source": [
    "nombre_infected       948\n",
    "nombre_sain          2058\n",
    "nombre_exposed        543\n",
    "nombre_recovered    16451\n",
    "Name: 279, dtype: int64"
   ]
  },
  {
   "cell_type": "markdown",
   "id": "6de3e837",
   "metadata": {},
   "source": [
    "nombre_infected       919\n",
    "nombre_sain          2054\n",
    "nombre_exposed        529\n",
    "nombre_recovered    16498\n",
    "Name: 280, dtype: int64"
   ]
  },
  {
   "cell_type": "markdown",
   "id": "4910795c",
   "metadata": {},
   "source": [
    "nombre_infected       921\n",
    "nombre_sain          2022\n",
    "nombre_exposed        529\n",
    "nombre_recovered    16528\n",
    "Name: 281, dtype: int64"
   ]
  },
  {
   "cell_type": "markdown",
   "id": "a8f44b2e",
   "metadata": {},
   "source": [
    "nombre_infected       899\n",
    "nombre_sain          2017\n",
    "nombre_exposed        550\n",
    "nombre_recovered    16534\n",
    "Name: 282, dtype: int64"
   ]
  },
  {
   "cell_type": "markdown",
   "id": "789786f7",
   "metadata": {},
   "source": [
    "nombre_infected       888\n",
    "nombre_sain          2002\n",
    "nombre_exposed        569\n",
    "nombre_recovered    16541\n",
    "Name: 283, dtype: int64"
   ]
  },
  {
   "cell_type": "markdown",
   "id": "fcd34d7f",
   "metadata": {},
   "source": [
    "nombre_infected       870\n",
    "nombre_sain          2018\n",
    "nombre_exposed        566\n",
    "nombre_recovered    16546\n",
    "Name: 284, dtype: int64"
   ]
  },
  {
   "cell_type": "markdown",
   "id": "3ea2a400",
   "metadata": {},
   "source": [
    "nombre_infected       859\n",
    "nombre_sain          2037\n",
    "nombre_exposed        568\n",
    "nombre_recovered    16536\n",
    "Name: 285, dtype: int64"
   ]
  },
  {
   "cell_type": "markdown",
   "id": "d38e5d5e",
   "metadata": {},
   "source": [
    "nombre_infected       863\n",
    "nombre_sain          2056\n",
    "nombre_exposed        537\n",
    "nombre_recovered    16544\n",
    "Name: 286, dtype: int64"
   ]
  },
  {
   "cell_type": "markdown",
   "id": "a4d962dd",
   "metadata": {},
   "source": [
    "nombre_infected       878\n",
    "nombre_sain          2057\n",
    "nombre_exposed        506\n",
    "nombre_recovered    16559\n",
    "Name: 287, dtype: int64"
   ]
  },
  {
   "cell_type": "markdown",
   "id": "36472022",
   "metadata": {},
   "source": [
    "nombre_infected       875\n",
    "nombre_sain          2051\n",
    "nombre_exposed        496\n",
    "nombre_recovered    16578\n",
    "Name: 288, dtype: int64"
   ]
  },
  {
   "cell_type": "markdown",
   "id": "fde201d7",
   "metadata": {},
   "source": [
    "nombre_infected       852\n",
    "nombre_sain          2038\n",
    "nombre_exposed        503\n",
    "nombre_recovered    16607\n",
    "Name: 289, dtype: int64"
   ]
  },
  {
   "cell_type": "markdown",
   "id": "556952e4",
   "metadata": {},
   "source": [
    "nombre_infected       830\n",
    "nombre_sain          2018\n",
    "nombre_exposed        505\n",
    "nombre_recovered    16647\n",
    "Name: 290, dtype: int64"
   ]
  },
  {
   "cell_type": "markdown",
   "id": "e484f250",
   "metadata": {},
   "source": [
    "nombre_infected       824\n",
    "nombre_sain          2024\n",
    "nombre_exposed        510\n",
    "nombre_recovered    16642\n",
    "Name: 291, dtype: int64"
   ]
  },
  {
   "cell_type": "markdown",
   "id": "93b6ca76",
   "metadata": {},
   "source": [
    "nombre_infected       806\n",
    "nombre_sain          2000\n",
    "nombre_exposed        514\n",
    "nombre_recovered    16680\n",
    "Name: 292, dtype: int64"
   ]
  },
  {
   "cell_type": "markdown",
   "id": "72bda382",
   "metadata": {},
   "source": [
    "nombre_infected       778\n",
    "nombre_sain          2014\n",
    "nombre_exposed        496\n",
    "nombre_recovered    16712\n",
    "Name: 293, dtype: int64"
   ]
  },
  {
   "cell_type": "markdown",
   "id": "83161f5e",
   "metadata": {},
   "source": [
    "nombre_infected       790\n",
    "nombre_sain          2027\n",
    "nombre_exposed        489\n",
    "nombre_recovered    16694\n",
    "Name: 294, dtype: int64"
   ]
  },
  {
   "cell_type": "markdown",
   "id": "741ea0eb",
   "metadata": {},
   "source": [
    "nombre_infected       786\n",
    "nombre_sain          2031\n",
    "nombre_exposed        494\n",
    "nombre_recovered    16689\n",
    "Name: 295, dtype: int64"
   ]
  },
  {
   "cell_type": "markdown",
   "id": "27e3abc3",
   "metadata": {},
   "source": [
    "nombre_infected       771\n",
    "nombre_sain          2052\n",
    "nombre_exposed        491\n",
    "nombre_recovered    16686\n",
    "Name: 296, dtype: int64"
   ]
  },
  {
   "cell_type": "markdown",
   "id": "77427970",
   "metadata": {},
   "source": [
    "nombre_infected       771\n",
    "nombre_sain          2075\n",
    "nombre_exposed        476\n",
    "nombre_recovered    16678\n",
    "Name: 297, dtype: int64"
   ]
  },
  {
   "cell_type": "markdown",
   "id": "7ca2a03e",
   "metadata": {},
   "source": [
    "nombre_infected       765\n",
    "nombre_sain          2077\n",
    "nombre_exposed        483\n",
    "nombre_recovered    16675\n",
    "Name: 298, dtype: int64"
   ]
  },
  {
   "cell_type": "markdown",
   "id": "35ff9d40",
   "metadata": {},
   "source": [
    "nombre_infected       762\n",
    "nombre_sain          2062\n",
    "nombre_exposed        492\n",
    "nombre_recovered    16684\n",
    "Name: 299, dtype: int64"
   ]
  },
  {
   "cell_type": "markdown",
   "id": "7ca9e8b3",
   "metadata": {},
   "source": [
    "nombre_infected       740\n",
    "nombre_sain          2041\n",
    "nombre_exposed        511\n",
    "nombre_recovered    16708\n",
    "Name: 300, dtype: int64"
   ]
  },
  {
   "cell_type": "markdown",
   "id": "83265c20",
   "metadata": {},
   "source": [
    "nombre_infected       738\n",
    "nombre_sain          2052\n",
    "nombre_exposed        481\n",
    "nombre_recovered    16729\n",
    "Name: 301, dtype: int64"
   ]
  },
  {
   "cell_type": "markdown",
   "id": "52aa45be",
   "metadata": {},
   "source": [
    "nombre_infected       720\n",
    "nombre_sain          2056\n",
    "nombre_exposed        471\n",
    "nombre_recovered    16753\n",
    "Name: 302, dtype: int64"
   ]
  },
  {
   "cell_type": "markdown",
   "id": "d78b45c3",
   "metadata": {},
   "source": [
    "nombre_infected       736\n",
    "nombre_sain          2032\n",
    "nombre_exposed        462\n",
    "nombre_recovered    16770\n",
    "Name: 303, dtype: int64"
   ]
  },
  {
   "cell_type": "markdown",
   "id": "78e59f4a",
   "metadata": {},
   "source": [
    "nombre_infected       727\n",
    "nombre_sain          2021\n",
    "nombre_exposed        458\n",
    "nombre_recovered    16794\n",
    "Name: 304, dtype: int64"
   ]
  },
  {
   "cell_type": "markdown",
   "id": "a893b7f6",
   "metadata": {},
   "source": [
    "nombre_infected       719\n",
    "nombre_sain          2033\n",
    "nombre_exposed        454\n",
    "nombre_recovered    16794\n",
    "Name: 305, dtype: int64"
   ]
  },
  {
   "cell_type": "markdown",
   "id": "dfbd04aa",
   "metadata": {},
   "source": [
    "nombre_infected       711\n",
    "nombre_sain          2030\n",
    "nombre_exposed        436\n",
    "nombre_recovered    16823\n",
    "Name: 306, dtype: int64"
   ]
  },
  {
   "cell_type": "markdown",
   "id": "61c32bb6",
   "metadata": {},
   "source": [
    "nombre_infected       712\n",
    "nombre_sain          1996\n",
    "nombre_exposed        442\n",
    "nombre_recovered    16850\n",
    "Name: 307, dtype: int64"
   ]
  },
  {
   "cell_type": "markdown",
   "id": "23ed565e",
   "metadata": {},
   "source": [
    "nombre_infected       702\n",
    "nombre_sain          1987\n",
    "nombre_exposed        435\n",
    "nombre_recovered    16876\n",
    "Name: 308, dtype: int64"
   ]
  },
  {
   "cell_type": "markdown",
   "id": "8fc63591",
   "metadata": {},
   "source": [
    "nombre_infected       711\n",
    "nombre_sain          1997\n",
    "nombre_exposed        427\n",
    "nombre_recovered    16865\n",
    "Name: 309, dtype: int64"
   ]
  },
  {
   "cell_type": "markdown",
   "id": "4c706ca0",
   "metadata": {},
   "source": [
    "nombre_infected       714\n",
    "nombre_sain          1985\n",
    "nombre_exposed        424\n",
    "nombre_recovered    16877\n",
    "Name: 310, dtype: int64"
   ]
  },
  {
   "cell_type": "markdown",
   "id": "54a03eff",
   "metadata": {},
   "source": [
    "nombre_infected       697\n",
    "nombre_sain          1981\n",
    "nombre_exposed        425\n",
    "nombre_recovered    16897\n",
    "Name: 311, dtype: int64"
   ]
  },
  {
   "cell_type": "markdown",
   "id": "8846fd0d",
   "metadata": {},
   "source": [
    "nombre_infected       696\n",
    "nombre_sain          2021\n",
    "nombre_exposed        406\n",
    "nombre_recovered    16877\n",
    "Name: 312, dtype: int64"
   ]
  },
  {
   "cell_type": "markdown",
   "id": "84cffcb0",
   "metadata": {},
   "source": [
    "nombre_infected       709\n",
    "nombre_sain          2019\n",
    "nombre_exposed        421\n",
    "nombre_recovered    16851\n",
    "Name: 313, dtype: int64"
   ]
  },
  {
   "cell_type": "markdown",
   "id": "66e23b93",
   "metadata": {},
   "source": [
    "nombre_infected       702\n",
    "nombre_sain          2064\n",
    "nombre_exposed        402\n",
    "nombre_recovered    16832\n",
    "Name: 314, dtype: int64"
   ]
  },
  {
   "cell_type": "markdown",
   "id": "6b41b3e6",
   "metadata": {},
   "source": [
    "nombre_infected       686\n",
    "nombre_sain          2075\n",
    "nombre_exposed        398\n",
    "nombre_recovered    16841\n",
    "Name: 315, dtype: int64"
   ]
  },
  {
   "cell_type": "markdown",
   "id": "2989ef2a",
   "metadata": {},
   "source": [
    "nombre_infected       656\n",
    "nombre_sain          2098\n",
    "nombre_exposed        403\n",
    "nombre_recovered    16843\n",
    "Name: 316, dtype: int64"
   ]
  },
  {
   "cell_type": "markdown",
   "id": "57b3a7c3",
   "metadata": {},
   "source": [
    "nombre_infected       657\n",
    "nombre_sain          2113\n",
    "nombre_exposed        402\n",
    "nombre_recovered    16828\n",
    "Name: 317, dtype: int64"
   ]
  },
  {
   "cell_type": "markdown",
   "id": "1c05753e",
   "metadata": {},
   "source": [
    "nombre_infected       645\n",
    "nombre_sain          2164\n",
    "nombre_exposed        392\n",
    "nombre_recovered    16799\n",
    "Name: 318, dtype: int64"
   ]
  },
  {
   "cell_type": "markdown",
   "id": "c71b2193",
   "metadata": {},
   "source": [
    "nombre_infected       640\n",
    "nombre_sain          2200\n",
    "nombre_exposed        384\n",
    "nombre_recovered    16776\n",
    "Name: 319, dtype: int64"
   ]
  },
  {
   "cell_type": "markdown",
   "id": "e7131dd6",
   "metadata": {},
   "source": [
    "nombre_infected       619\n",
    "nombre_sain          2214\n",
    "nombre_exposed        400\n",
    "nombre_recovered    16767\n",
    "Name: 320, dtype: int64"
   ]
  },
  {
   "cell_type": "markdown",
   "id": "b5cee452",
   "metadata": {},
   "source": [
    "nombre_infected       623\n",
    "nombre_sain          2227\n",
    "nombre_exposed        405\n",
    "nombre_recovered    16745\n",
    "Name: 321, dtype: int64"
   ]
  },
  {
   "cell_type": "markdown",
   "id": "dfd02c20",
   "metadata": {},
   "source": [
    "nombre_infected       621\n",
    "nombre_sain          2259\n",
    "nombre_exposed        404\n",
    "nombre_recovered    16716\n",
    "Name: 322, dtype: int64"
   ]
  },
  {
   "cell_type": "markdown",
   "id": "701a1cbd",
   "metadata": {},
   "source": [
    "nombre_infected       615\n",
    "nombre_sain          2276\n",
    "nombre_exposed        414\n",
    "nombre_recovered    16695\n",
    "Name: 323, dtype: int64"
   ]
  },
  {
   "cell_type": "markdown",
   "id": "39c7396d",
   "metadata": {},
   "source": [
    "nombre_infected       626\n",
    "nombre_sain          2282\n",
    "nombre_exposed        410\n",
    "nombre_recovered    16682\n",
    "Name: 324, dtype: int64"
   ]
  },
  {
   "cell_type": "markdown",
   "id": "75085f8c",
   "metadata": {},
   "source": [
    "nombre_infected       614\n",
    "nombre_sain          2325\n",
    "nombre_exposed        406\n",
    "nombre_recovered    16655\n",
    "Name: 325, dtype: int64"
   ]
  },
  {
   "cell_type": "markdown",
   "id": "893e7138",
   "metadata": {},
   "source": [
    "nombre_infected       599\n",
    "nombre_sain          2344\n",
    "nombre_exposed        425\n",
    "nombre_recovered    16632\n",
    "Name: 326, dtype: int64"
   ]
  },
  {
   "cell_type": "markdown",
   "id": "c4d89906",
   "metadata": {},
   "source": [
    "nombre_infected       619\n",
    "nombre_sain          2379\n",
    "nombre_exposed        417\n",
    "nombre_recovered    16585\n",
    "Name: 327, dtype: int64"
   ]
  },
  {
   "cell_type": "markdown",
   "id": "58f4a497",
   "metadata": {},
   "source": [
    "nombre_infected       611\n",
    "nombre_sain          2396\n",
    "nombre_exposed        419\n",
    "nombre_recovered    16574\n",
    "Name: 328, dtype: int64"
   ]
  },
  {
   "cell_type": "markdown",
   "id": "264597b0",
   "metadata": {},
   "source": [
    "nombre_infected       623\n",
    "nombre_sain          2386\n",
    "nombre_exposed        438\n",
    "nombre_recovered    16553\n",
    "Name: 329, dtype: int64"
   ]
  },
  {
   "cell_type": "markdown",
   "id": "16264d46",
   "metadata": {},
   "source": [
    "nombre_infected       640\n",
    "nombre_sain          2402\n",
    "nombre_exposed        414\n",
    "nombre_recovered    16544\n",
    "Name: 330, dtype: int64"
   ]
  },
  {
   "cell_type": "markdown",
   "id": "04359cb0",
   "metadata": {},
   "source": [
    "nombre_infected       646\n",
    "nombre_sain          2421\n",
    "nombre_exposed        405\n",
    "nombre_recovered    16528\n",
    "Name: 331, dtype: int64"
   ]
  },
  {
   "cell_type": "markdown",
   "id": "12128df8",
   "metadata": {},
   "source": [
    "nombre_infected       651\n",
    "nombre_sain          2426\n",
    "nombre_exposed        419\n",
    "nombre_recovered    16504\n",
    "Name: 332, dtype: int64"
   ]
  },
  {
   "cell_type": "markdown",
   "id": "6b89999f",
   "metadata": {},
   "source": [
    "nombre_infected       656\n",
    "nombre_sain          2422\n",
    "nombre_exposed        440\n",
    "nombre_recovered    16482\n",
    "Name: 333, dtype: int64"
   ]
  },
  {
   "cell_type": "markdown",
   "id": "28278171",
   "metadata": {},
   "source": [
    "nombre_infected       652\n",
    "nombre_sain          2431\n",
    "nombre_exposed        436\n",
    "nombre_recovered    16481\n",
    "Name: 334, dtype: int64"
   ]
  },
  {
   "cell_type": "markdown",
   "id": "faf4857c",
   "metadata": {},
   "source": [
    "nombre_infected       668\n",
    "nombre_sain          2423\n",
    "nombre_exposed        435\n",
    "nombre_recovered    16474\n",
    "Name: 335, dtype: int64"
   ]
  },
  {
   "cell_type": "markdown",
   "id": "226dfc6d",
   "metadata": {},
   "source": [
    "nombre_infected       680\n",
    "nombre_sain          2432\n",
    "nombre_exposed        435\n",
    "nombre_recovered    16453\n",
    "Name: 336, dtype: int64"
   ]
  },
  {
   "cell_type": "markdown",
   "id": "4cfb3101",
   "metadata": {},
   "source": [
    "nombre_infected       694\n",
    "nombre_sain          2430\n",
    "nombre_exposed        444\n",
    "nombre_recovered    16432\n",
    "Name: 337, dtype: int64"
   ]
  },
  {
   "cell_type": "markdown",
   "id": "60f526f4",
   "metadata": {},
   "source": [
    "nombre_infected       689\n",
    "nombre_sain          2421\n",
    "nombre_exposed        455\n",
    "nombre_recovered    16435\n",
    "Name: 338, dtype: int64"
   ]
  },
  {
   "cell_type": "markdown",
   "id": "8d9b2074",
   "metadata": {},
   "source": [
    "nombre_infected       685\n",
    "nombre_sain          2410\n",
    "nombre_exposed        465\n",
    "nombre_recovered    16440\n",
    "Name: 339, dtype: int64"
   ]
  },
  {
   "cell_type": "markdown",
   "id": "67db69df",
   "metadata": {},
   "source": [
    "nombre_infected       717\n",
    "nombre_sain          2390\n",
    "nombre_exposed        480\n",
    "nombre_recovered    16413\n",
    "Name: 340, dtype: int64"
   ]
  },
  {
   "cell_type": "markdown",
   "id": "9d243721",
   "metadata": {},
   "source": [
    "nombre_infected       727\n",
    "nombre_sain          2378\n",
    "nombre_exposed        493\n",
    "nombre_recovered    16402\n",
    "Name: 341, dtype: int64"
   ]
  },
  {
   "cell_type": "markdown",
   "id": "b1e2372f",
   "metadata": {},
   "source": [
    "nombre_infected       741\n",
    "nombre_sain          2372\n",
    "nombre_exposed        486\n",
    "nombre_recovered    16401\n",
    "Name: 342, dtype: int64"
   ]
  },
  {
   "cell_type": "markdown",
   "id": "de71b9ba",
   "metadata": {},
   "source": [
    "nombre_infected       751\n",
    "nombre_sain          2373\n",
    "nombre_exposed        491\n",
    "nombre_recovered    16385\n",
    "Name: 343, dtype: int64"
   ]
  },
  {
   "cell_type": "markdown",
   "id": "9dcd7e02",
   "metadata": {},
   "source": [
    "nombre_infected       765\n",
    "nombre_sain          2357\n",
    "nombre_exposed        497\n",
    "nombre_recovered    16381\n",
    "Name: 344, dtype: int64"
   ]
  },
  {
   "cell_type": "markdown",
   "id": "9283d3aa",
   "metadata": {},
   "source": [
    "nombre_infected       795\n",
    "nombre_sain          2343\n",
    "nombre_exposed        498\n",
    "nombre_recovered    16364\n",
    "Name: 345, dtype: int64"
   ]
  },
  {
   "cell_type": "markdown",
   "id": "cca97fdf",
   "metadata": {},
   "source": [
    "nombre_infected       786\n",
    "nombre_sain          2360\n",
    "nombre_exposed        496\n",
    "nombre_recovered    16358\n",
    "Name: 346, dtype: int64"
   ]
  },
  {
   "cell_type": "markdown",
   "id": "17f0e668",
   "metadata": {},
   "source": [
    "nombre_infected       793\n",
    "nombre_sain          2347\n",
    "nombre_exposed        514\n",
    "nombre_recovered    16346\n",
    "Name: 347, dtype: int64"
   ]
  },
  {
   "cell_type": "markdown",
   "id": "c964ad93",
   "metadata": {},
   "source": [
    "nombre_infected       787\n",
    "nombre_sain          2331\n",
    "nombre_exposed        542\n",
    "nombre_recovered    16340\n",
    "Name: 348, dtype: int64"
   ]
  },
  {
   "cell_type": "markdown",
   "id": "2ce7bbde",
   "metadata": {},
   "source": [
    "nombre_infected       807\n",
    "nombre_sain          2337\n",
    "nombre_exposed        526\n",
    "nombre_recovered    16330\n",
    "Name: 349, dtype: int64"
   ]
  },
  {
   "cell_type": "markdown",
   "id": "39616eb4",
   "metadata": {},
   "source": [
    "nombre_infected       801\n",
    "nombre_sain          2356\n",
    "nombre_exposed        527\n",
    "nombre_recovered    16316\n",
    "Name: 350, dtype: int64"
   ]
  },
  {
   "cell_type": "markdown",
   "id": "2bd3572c",
   "metadata": {},
   "source": [
    "nombre_infected       826\n",
    "nombre_sain          2351\n",
    "nombre_exposed        526\n",
    "nombre_recovered    16297\n",
    "Name: 351, dtype: int64"
   ]
  },
  {
   "cell_type": "markdown",
   "id": "ba5e2df4",
   "metadata": {},
   "source": [
    "nombre_infected       817\n",
    "nombre_sain          2358\n",
    "nombre_exposed        533\n",
    "nombre_recovered    16292\n",
    "Name: 352, dtype: int64"
   ]
  },
  {
   "cell_type": "markdown",
   "id": "82256b97",
   "metadata": {},
   "source": [
    "nombre_infected       814\n",
    "nombre_sain          2356\n",
    "nombre_exposed        528\n",
    "nombre_recovered    16302\n",
    "Name: 353, dtype: int64"
   ]
  },
  {
   "cell_type": "markdown",
   "id": "77d9a019",
   "metadata": {},
   "source": [
    "nombre_infected       800\n",
    "nombre_sain          2339\n",
    "nombre_exposed        552\n",
    "nombre_recovered    16309\n",
    "Name: 354, dtype: int64"
   ]
  },
  {
   "cell_type": "markdown",
   "id": "c462d9e1",
   "metadata": {},
   "source": [
    "nombre_infected       810\n",
    "nombre_sain          2341\n",
    "nombre_exposed        543\n",
    "nombre_recovered    16306\n",
    "Name: 355, dtype: int64"
   ]
  },
  {
   "cell_type": "markdown",
   "id": "1b184844",
   "metadata": {},
   "source": [
    "nombre_infected       809\n",
    "nombre_sain          2331\n",
    "nombre_exposed        535\n",
    "nombre_recovered    16325\n",
    "Name: 356, dtype: int64"
   ]
  },
  {
   "cell_type": "markdown",
   "id": "566819e9",
   "metadata": {},
   "source": [
    "nombre_infected       800\n",
    "nombre_sain          2335\n",
    "nombre_exposed        538\n",
    "nombre_recovered    16327\n",
    "Name: 357, dtype: int64"
   ]
  },
  {
   "cell_type": "markdown",
   "id": "f804bd4d",
   "metadata": {},
   "source": [
    "nombre_infected       783\n",
    "nombre_sain          2314\n",
    "nombre_exposed        553\n",
    "nombre_recovered    16350\n",
    "Name: 358, dtype: int64"
   ]
  },
  {
   "cell_type": "markdown",
   "id": "1b5c9cf8",
   "metadata": {},
   "source": [
    "nombre_infected       774\n",
    "nombre_sain          2315\n",
    "nombre_exposed        555\n",
    "nombre_recovered    16356\n",
    "Name: 359, dtype: int64"
   ]
  },
  {
   "cell_type": "markdown",
   "id": "8f32a2fc",
   "metadata": {},
   "source": [
    "nombre_infected       780\n",
    "nombre_sain          2296\n",
    "nombre_exposed        547\n",
    "nombre_recovered    16377\n",
    "Name: 360, dtype: int64"
   ]
  },
  {
   "cell_type": "markdown",
   "id": "dbdf455a",
   "metadata": {},
   "source": [
    "nombre_infected       788\n",
    "nombre_sain          2279\n",
    "nombre_exposed        552\n",
    "nombre_recovered    16381\n",
    "Name: 361, dtype: int64"
   ]
  },
  {
   "cell_type": "markdown",
   "id": "9b564a7e",
   "metadata": {},
   "source": [
    "nombre_infected       785\n",
    "nombre_sain          2276\n",
    "nombre_exposed        548\n",
    "nombre_recovered    16391\n",
    "Name: 362, dtype: int64"
   ]
  },
  {
   "cell_type": "markdown",
   "id": "3235566f",
   "metadata": {},
   "source": [
    "nombre_infected       784\n",
    "nombre_sain          2264\n",
    "nombre_exposed        550\n",
    "nombre_recovered    16402\n",
    "Name: 363, dtype: int64"
   ]
  },
  {
   "cell_type": "markdown",
   "id": "1ccaf690",
   "metadata": {},
   "source": [
    "nombre_infected       812\n",
    "nombre_sain          2253\n",
    "nombre_exposed        541\n",
    "nombre_recovered    16394\n",
    "Name: 364, dtype: int64"
   ]
  },
  {
   "cell_type": "markdown",
   "id": "213c3dce",
   "metadata": {},
   "source": [
    "nombre_infected       833\n",
    "nombre_sain          2234\n",
    "nombre_exposed        529\n",
    "nombre_recovered    16404\n",
    "Name: 365, dtype: int64"
   ]
  },
  {
   "cell_type": "markdown",
   "id": "349d49b5",
   "metadata": {},
   "source": [
    "nombre_infected       856\n",
    "nombre_sain          2224\n",
    "nombre_exposed        532\n",
    "nombre_recovered    16388\n",
    "Name: 366, dtype: int64"
   ]
  },
  {
   "cell_type": "markdown",
   "id": "3e1486be",
   "metadata": {},
   "source": [
    "nombre_infected       851\n",
    "nombre_sain          2190\n",
    "nombre_exposed        556\n",
    "nombre_recovered    16403\n",
    "Name: 367, dtype: int64"
   ]
  },
  {
   "cell_type": "markdown",
   "id": "c7e660ee",
   "metadata": {},
   "source": [
    "nombre_infected       877\n",
    "nombre_sain          2173\n",
    "nombre_exposed        549\n",
    "nombre_recovered    16401\n",
    "Name: 368, dtype: int64"
   ]
  },
  {
   "cell_type": "markdown",
   "id": "83916290",
   "metadata": {},
   "source": [
    "nombre_infected       890\n",
    "nombre_sain          2175\n",
    "nombre_exposed        534\n",
    "nombre_recovered    16401\n",
    "Name: 369, dtype: int64"
   ]
  },
  {
   "cell_type": "markdown",
   "id": "36fd53e6",
   "metadata": {},
   "source": [
    "nombre_infected       875\n",
    "nombre_sain          2127\n",
    "nombre_exposed        566\n",
    "nombre_recovered    16432\n",
    "Name: 370, dtype: int64"
   ]
  },
  {
   "cell_type": "markdown",
   "id": "7f438f55",
   "metadata": {},
   "source": [
    "nombre_infected       860\n",
    "nombre_sain          2132\n",
    "nombre_exposed        558\n",
    "nombre_recovered    16450\n",
    "Name: 371, dtype: int64"
   ]
  },
  {
   "cell_type": "markdown",
   "id": "9c333b7e",
   "metadata": {},
   "source": [
    "nombre_infected       877\n",
    "nombre_sain          2103\n",
    "nombre_exposed        570\n",
    "nombre_recovered    16450\n",
    "Name: 372, dtype: int64"
   ]
  },
  {
   "cell_type": "markdown",
   "id": "c759a534",
   "metadata": {},
   "source": [
    "nombre_infected       889\n",
    "nombre_sain          2097\n",
    "nombre_exposed        561\n",
    "nombre_recovered    16453\n",
    "Name: 373, dtype: int64"
   ]
  },
  {
   "cell_type": "markdown",
   "id": "790aa840",
   "metadata": {},
   "source": [
    "nombre_infected       901\n",
    "nombre_sain          2054\n",
    "nombre_exposed        571\n",
    "nombre_recovered    16474\n",
    "Name: 374, dtype: int64"
   ]
  },
  {
   "cell_type": "markdown",
   "id": "2bf988b6",
   "metadata": {},
   "source": [
    "nombre_infected       892\n",
    "nombre_sain          2050\n",
    "nombre_exposed        567\n",
    "nombre_recovered    16491\n",
    "Name: 375, dtype: int64"
   ]
  },
  {
   "cell_type": "markdown",
   "id": "92c26800",
   "metadata": {},
   "source": [
    "nombre_infected       902\n",
    "nombre_sain          2011\n",
    "nombre_exposed        580\n",
    "nombre_recovered    16507\n",
    "Name: 376, dtype: int64"
   ]
  },
  {
   "cell_type": "markdown",
   "id": "4536de45",
   "metadata": {},
   "source": [
    "nombre_infected       919\n",
    "nombre_sain          2013\n",
    "nombre_exposed        545\n",
    "nombre_recovered    16523\n",
    "Name: 377, dtype: int64"
   ]
  },
  {
   "cell_type": "markdown",
   "id": "f6397859",
   "metadata": {},
   "source": [
    "nombre_infected       930\n",
    "nombre_sain          2014\n",
    "nombre_exposed        522\n",
    "nombre_recovered    16534\n",
    "Name: 378, dtype: int64"
   ]
  },
  {
   "cell_type": "markdown",
   "id": "2bce1f26",
   "metadata": {},
   "source": [
    "nombre_infected       934\n",
    "nombre_sain          2000\n",
    "nombre_exposed        508\n",
    "nombre_recovered    16558\n",
    "Name: 379, dtype: int64"
   ]
  },
  {
   "cell_type": "markdown",
   "id": "ca2204a9",
   "metadata": {},
   "source": [
    "nombre_infected       935\n",
    "nombre_sain          2006\n",
    "nombre_exposed        499\n",
    "nombre_recovered    16560\n",
    "Name: 380, dtype: int64"
   ]
  },
  {
   "cell_type": "markdown",
   "id": "9d4cf3d5",
   "metadata": {},
   "source": [
    "nombre_infected       951\n",
    "nombre_sain          1977\n",
    "nombre_exposed        505\n",
    "nombre_recovered    16567\n",
    "Name: 381, dtype: int64"
   ]
  },
  {
   "cell_type": "markdown",
   "id": "0cfa057e",
   "metadata": {},
   "source": [
    "nombre_infected       926\n",
    "nombre_sain          1973\n",
    "nombre_exposed        531\n",
    "nombre_recovered    16570\n",
    "Name: 382, dtype: int64"
   ]
  },
  {
   "cell_type": "markdown",
   "id": "a87b21da",
   "metadata": {},
   "source": [
    "nombre_infected       924\n",
    "nombre_sain          1974\n",
    "nombre_exposed        539\n",
    "nombre_recovered    16563\n",
    "Name: 383, dtype: int64"
   ]
  },
  {
   "cell_type": "markdown",
   "id": "b773c8b8",
   "metadata": {},
   "source": [
    "nombre_infected       933\n",
    "nombre_sain          1958\n",
    "nombre_exposed        542\n",
    "nombre_recovered    16567\n",
    "Name: 384, dtype: int64"
   ]
  },
  {
   "cell_type": "markdown",
   "id": "ed2f6129",
   "metadata": {},
   "source": [
    "nombre_infected       913\n",
    "nombre_sain          1982\n",
    "nombre_exposed        523\n",
    "nombre_recovered    16582\n",
    "Name: 385, dtype: int64"
   ]
  },
  {
   "cell_type": "markdown",
   "id": "a5190203",
   "metadata": {},
   "source": [
    "nombre_infected       912\n",
    "nombre_sain          1975\n",
    "nombre_exposed        523\n",
    "nombre_recovered    16590\n",
    "Name: 386, dtype: int64"
   ]
  },
  {
   "cell_type": "markdown",
   "id": "87059247",
   "metadata": {},
   "source": [
    "nombre_infected       911\n",
    "nombre_sain          1988\n",
    "nombre_exposed        522\n",
    "nombre_recovered    16579\n",
    "Name: 387, dtype: int64"
   ]
  },
  {
   "cell_type": "markdown",
   "id": "e47d49a2",
   "metadata": {},
   "source": [
    "nombre_infected       917\n",
    "nombre_sain          1992\n",
    "nombre_exposed        525\n",
    "nombre_recovered    16566\n",
    "Name: 388, dtype: int64"
   ]
  },
  {
   "cell_type": "markdown",
   "id": "e8282f74",
   "metadata": {},
   "source": [
    "nombre_infected       926\n",
    "nombre_sain          2013\n",
    "nombre_exposed        502\n",
    "nombre_recovered    16559\n",
    "Name: 389, dtype: int64"
   ]
  },
  {
   "cell_type": "markdown",
   "id": "f40bff22",
   "metadata": {},
   "source": [
    "nombre_infected       910\n",
    "nombre_sain          2027\n",
    "nombre_exposed        504\n",
    "nombre_recovered    16559\n",
    "Name: 390, dtype: int64"
   ]
  },
  {
   "cell_type": "markdown",
   "id": "26f67917",
   "metadata": {},
   "source": [
    "nombre_infected       895\n",
    "nombre_sain          2040\n",
    "nombre_exposed        519\n",
    "nombre_recovered    16546\n",
    "Name: 391, dtype: int64"
   ]
  },
  {
   "cell_type": "markdown",
   "id": "051eb072",
   "metadata": {},
   "source": [
    "nombre_infected       892\n",
    "nombre_sain          2032\n",
    "nombre_exposed        529\n",
    "nombre_recovered    16547\n",
    "Name: 392, dtype: int64"
   ]
  },
  {
   "cell_type": "markdown",
   "id": "7592c773",
   "metadata": {},
   "source": [
    "nombre_infected       888\n",
    "nombre_sain          2054\n",
    "nombre_exposed        505\n",
    "nombre_recovered    16553\n",
    "Name: 393, dtype: int64"
   ]
  },
  {
   "cell_type": "markdown",
   "id": "e8618e54",
   "metadata": {},
   "source": [
    "nombre_infected       905\n",
    "nombre_sain          2045\n",
    "nombre_exposed        486\n",
    "nombre_recovered    16564\n",
    "Name: 394, dtype: int64"
   ]
  },
  {
   "cell_type": "markdown",
   "id": "3476c8c5",
   "metadata": {},
   "source": [
    "nombre_infected       906\n",
    "nombre_sain          2051\n",
    "nombre_exposed        479\n",
    "nombre_recovered    16564\n",
    "Name: 395, dtype: int64"
   ]
  },
  {
   "cell_type": "markdown",
   "id": "bbabddb5",
   "metadata": {},
   "source": [
    "nombre_infected       913\n",
    "nombre_sain          2029\n",
    "nombre_exposed        490\n",
    "nombre_recovered    16568\n",
    "Name: 396, dtype: int64"
   ]
  },
  {
   "cell_type": "markdown",
   "id": "331ae17d",
   "metadata": {},
   "source": [
    "nombre_infected       916\n",
    "nombre_sain          2010\n",
    "nombre_exposed        518\n",
    "nombre_recovered    16556\n",
    "Name: 397, dtype: int64"
   ]
  },
  {
   "cell_type": "markdown",
   "id": "3b294135",
   "metadata": {},
   "source": [
    "nombre_infected       940\n",
    "nombre_sain          2007\n",
    "nombre_exposed        513\n",
    "nombre_recovered    16540\n",
    "Name: 398, dtype: int64"
   ]
  },
  {
   "cell_type": "markdown",
   "id": "91f628f5",
   "metadata": {},
   "source": [
    "nombre_infected       944\n",
    "nombre_sain          2010\n",
    "nombre_exposed        520\n",
    "nombre_recovered    16526\n",
    "Name: 399, dtype: int64"
   ]
  },
  {
   "cell_type": "markdown",
   "id": "2ffd4874",
   "metadata": {},
   "source": [
    "nombre_infected       936\n",
    "nombre_sain          2037\n",
    "nombre_exposed        528\n",
    "nombre_recovered    16499\n",
    "Name: 400, dtype: int64"
   ]
  },
  {
   "cell_type": "markdown",
   "id": "fe9495c7",
   "metadata": {},
   "source": [
    "nombre_infected       953\n",
    "nombre_sain          2026\n",
    "nombre_exposed        517\n",
    "nombre_recovered    16504\n",
    "Name: 401, dtype: int64"
   ]
  },
  {
   "cell_type": "markdown",
   "id": "06ef4870",
   "metadata": {},
   "source": [
    "nombre_infected       957\n",
    "nombre_sain          2017\n",
    "nombre_exposed        530\n",
    "nombre_recovered    16496\n",
    "Name: 402, dtype: int64"
   ]
  },
  {
   "cell_type": "markdown",
   "id": "befe1c82",
   "metadata": {},
   "source": [
    "nombre_infected       933\n",
    "nombre_sain          2015\n",
    "nombre_exposed        538\n",
    "nombre_recovered    16514\n",
    "Name: 403, dtype: int64"
   ]
  },
  {
   "cell_type": "markdown",
   "id": "eb6d48e9",
   "metadata": {},
   "source": [
    "nombre_infected       950\n",
    "nombre_sain          2016\n",
    "nombre_exposed        529\n",
    "nombre_recovered    16505\n",
    "Name: 404, dtype: int64"
   ]
  },
  {
   "cell_type": "markdown",
   "id": "8d6e9a51",
   "metadata": {},
   "source": [
    "nombre_infected       961\n",
    "nombre_sain          2030\n",
    "nombre_exposed        517\n",
    "nombre_recovered    16492\n",
    "Name: 405, dtype: int64"
   ]
  },
  {
   "cell_type": "markdown",
   "id": "a5b38b0b",
   "metadata": {},
   "source": [
    "nombre_infected       938\n",
    "nombre_sain          2020\n",
    "nombre_exposed        544\n",
    "nombre_recovered    16498\n",
    "Name: 406, dtype: int64"
   ]
  },
  {
   "cell_type": "markdown",
   "id": "b22217c0",
   "metadata": {},
   "source": [
    "nombre_infected       920\n",
    "nombre_sain          1999\n",
    "nombre_exposed        555\n",
    "nombre_recovered    16526\n",
    "Name: 407, dtype: int64"
   ]
  },
  {
   "cell_type": "markdown",
   "id": "23a41e01",
   "metadata": {},
   "source": [
    "nombre_infected       950\n",
    "nombre_sain          1992\n",
    "nombre_exposed        516\n",
    "nombre_recovered    16542\n",
    "Name: 408, dtype: int64"
   ]
  },
  {
   "cell_type": "markdown",
   "id": "427216a0",
   "metadata": {},
   "source": [
    "nombre_infected       962\n",
    "nombre_sain          2010\n",
    "nombre_exposed        494\n",
    "nombre_recovered    16534\n",
    "Name: 409, dtype: int64"
   ]
  },
  {
   "cell_type": "markdown",
   "id": "e6a64f37",
   "metadata": {},
   "source": [
    "nombre_infected       965\n",
    "nombre_sain          2023\n",
    "nombre_exposed        470\n",
    "nombre_recovered    16542\n",
    "Name: 410, dtype: int64"
   ]
  },
  {
   "cell_type": "markdown",
   "id": "70dba2ea",
   "metadata": {},
   "source": [
    "nombre_infected       956\n",
    "nombre_sain          1999\n",
    "nombre_exposed        468\n",
    "nombre_recovered    16577\n",
    "Name: 411, dtype: int64"
   ]
  },
  {
   "cell_type": "markdown",
   "id": "90fbc13c",
   "metadata": {},
   "source": [
    "nombre_infected       938\n",
    "nombre_sain          1997\n",
    "nombre_exposed        479\n",
    "nombre_recovered    16586\n",
    "Name: 412, dtype: int64"
   ]
  },
  {
   "cell_type": "markdown",
   "id": "18b85721",
   "metadata": {},
   "source": [
    "nombre_infected       932\n",
    "nombre_sain          1996\n",
    "nombre_exposed        482\n",
    "nombre_recovered    16590\n",
    "Name: 413, dtype: int64"
   ]
  },
  {
   "cell_type": "markdown",
   "id": "3bb010ae",
   "metadata": {},
   "source": [
    "nombre_infected       897\n",
    "nombre_sain          2015\n",
    "nombre_exposed        481\n",
    "nombre_recovered    16607\n",
    "Name: 414, dtype: int64"
   ]
  },
  {
   "cell_type": "markdown",
   "id": "ac8f90b4",
   "metadata": {},
   "source": [
    "nombre_infected       871\n",
    "nombre_sain          2037\n",
    "nombre_exposed        490\n",
    "nombre_recovered    16602\n",
    "Name: 415, dtype: int64"
   ]
  },
  {
   "cell_type": "markdown",
   "id": "41ae0632",
   "metadata": {},
   "source": [
    "nombre_infected       861\n",
    "nombre_sain          2060\n",
    "nombre_exposed        492\n",
    "nombre_recovered    16587\n",
    "Name: 416, dtype: int64"
   ]
  },
  {
   "cell_type": "markdown",
   "id": "1a24b0e3",
   "metadata": {},
   "source": [
    "nombre_infected       857\n",
    "nombre_sain          2076\n",
    "nombre_exposed        499\n",
    "nombre_recovered    16568\n",
    "Name: 417, dtype: int64"
   ]
  },
  {
   "cell_type": "markdown",
   "id": "ac3be5d1",
   "metadata": {},
   "source": [
    "nombre_infected       837\n",
    "nombre_sain          2099\n",
    "nombre_exposed        498\n",
    "nombre_recovered    16566\n",
    "Name: 418, dtype: int64"
   ]
  },
  {
   "cell_type": "markdown",
   "id": "5694b5ff",
   "metadata": {},
   "source": [
    "nombre_infected       853\n",
    "nombre_sain          2101\n",
    "nombre_exposed        508\n",
    "nombre_recovered    16538\n",
    "Name: 419, dtype: int64"
   ]
  },
  {
   "cell_type": "markdown",
   "id": "3c17bbd8",
   "metadata": {},
   "source": [
    "nombre_infected       851\n",
    "nombre_sain          2118\n",
    "nombre_exposed        493\n",
    "nombre_recovered    16538\n",
    "Name: 420, dtype: int64"
   ]
  },
  {
   "cell_type": "markdown",
   "id": "7cc5c52a",
   "metadata": {},
   "source": [
    "nombre_infected       828\n",
    "nombre_sain          2152\n",
    "nombre_exposed        493\n",
    "nombre_recovered    16527\n",
    "Name: 421, dtype: int64"
   ]
  },
  {
   "cell_type": "markdown",
   "id": "d8edd445",
   "metadata": {},
   "source": [
    "nombre_infected       797\n",
    "nombre_sain          2171\n",
    "nombre_exposed        496\n",
    "nombre_recovered    16536\n",
    "Name: 422, dtype: int64"
   ]
  },
  {
   "cell_type": "markdown",
   "id": "5daaf446",
   "metadata": {},
   "source": [
    "nombre_infected       785\n",
    "nombre_sain          2194\n",
    "nombre_exposed        487\n",
    "nombre_recovered    16534\n",
    "Name: 423, dtype: int64"
   ]
  },
  {
   "cell_type": "markdown",
   "id": "4a1fde25",
   "metadata": {},
   "source": [
    "nombre_infected       765\n",
    "nombre_sain          2193\n",
    "nombre_exposed        499\n",
    "nombre_recovered    16543\n",
    "Name: 424, dtype: int64"
   ]
  },
  {
   "cell_type": "markdown",
   "id": "6075b456",
   "metadata": {},
   "source": [
    "nombre_infected       749\n",
    "nombre_sain          2214\n",
    "nombre_exposed        500\n",
    "nombre_recovered    16537\n",
    "Name: 425, dtype: int64"
   ]
  },
  {
   "cell_type": "markdown",
   "id": "5488cf68",
   "metadata": {},
   "source": [
    "nombre_infected       744\n",
    "nombre_sain          2258\n",
    "nombre_exposed        497\n",
    "nombre_recovered    16501\n",
    "Name: 426, dtype: int64"
   ]
  },
  {
   "cell_type": "markdown",
   "id": "173e4fc2",
   "metadata": {},
   "source": [
    "nombre_infected       717\n",
    "nombre_sain          2250\n",
    "nombre_exposed        514\n",
    "nombre_recovered    16519\n",
    "Name: 427, dtype: int64"
   ]
  },
  {
   "cell_type": "markdown",
   "id": "0dc128f8",
   "metadata": {},
   "source": [
    "nombre_infected       719\n",
    "nombre_sain          2268\n",
    "nombre_exposed        507\n",
    "nombre_recovered    16506\n",
    "Name: 428, dtype: int64"
   ]
  },
  {
   "cell_type": "markdown",
   "id": "0f2b2e90",
   "metadata": {},
   "source": [
    "nombre_infected       737\n",
    "nombre_sain          2290\n",
    "nombre_exposed        507\n",
    "nombre_recovered    16466\n",
    "Name: 429, dtype: int64"
   ]
  },
  {
   "cell_type": "markdown",
   "id": "8417da42",
   "metadata": {},
   "source": [
    "nombre_infected       727\n",
    "nombre_sain          2306\n",
    "nombre_exposed        531\n",
    "nombre_recovered    16436\n",
    "Name: 430, dtype: int64"
   ]
  },
  {
   "cell_type": "markdown",
   "id": "33522fd8",
   "metadata": {},
   "source": [
    "nombre_infected       736\n",
    "nombre_sain          2335\n",
    "nombre_exposed        506\n",
    "nombre_recovered    16423\n",
    "Name: 431, dtype: int64"
   ]
  },
  {
   "cell_type": "markdown",
   "id": "164fea13",
   "metadata": {},
   "source": [
    "nombre_infected       741\n",
    "nombre_sain          2338\n",
    "nombre_exposed        521\n",
    "nombre_recovered    16400\n",
    "Name: 432, dtype: int64"
   ]
  },
  {
   "cell_type": "markdown",
   "id": "ec5f3afd",
   "metadata": {},
   "source": [
    "nombre_infected       736\n",
    "nombre_sain          2375\n",
    "nombre_exposed        512\n",
    "nombre_recovered    16377\n",
    "Name: 433, dtype: int64"
   ]
  },
  {
   "cell_type": "markdown",
   "id": "ae5aed1a",
   "metadata": {},
   "source": [
    "nombre_infected       742\n",
    "nombre_sain          2389\n",
    "nombre_exposed        515\n",
    "nombre_recovered    16354\n",
    "Name: 434, dtype: int64"
   ]
  },
  {
   "cell_type": "markdown",
   "id": "9a699025",
   "metadata": {},
   "source": [
    "nombre_infected       747\n",
    "nombre_sain          2399\n",
    "nombre_exposed        514\n",
    "nombre_recovered    16340\n",
    "Name: 435, dtype: int64"
   ]
  },
  {
   "cell_type": "markdown",
   "id": "7c2f3277",
   "metadata": {},
   "source": [
    "nombre_infected       769\n",
    "nombre_sain          2424\n",
    "nombre_exposed        494\n",
    "nombre_recovered    16313\n",
    "Name: 436, dtype: int64"
   ]
  },
  {
   "cell_type": "markdown",
   "id": "aa86a968",
   "metadata": {},
   "source": [
    "nombre_infected       791\n",
    "nombre_sain          2419\n",
    "nombre_exposed        510\n",
    "nombre_recovered    16280\n",
    "Name: 437, dtype: int64"
   ]
  },
  {
   "cell_type": "markdown",
   "id": "4b356f89",
   "metadata": {},
   "source": [
    "nombre_infected       786\n",
    "nombre_sain          2434\n",
    "nombre_exposed        518\n",
    "nombre_recovered    16262\n",
    "Name: 438, dtype: int64"
   ]
  },
  {
   "cell_type": "markdown",
   "id": "f2c84539",
   "metadata": {},
   "source": [
    "nombre_infected       793\n",
    "nombre_sain          2419\n",
    "nombre_exposed        515\n",
    "nombre_recovered    16273\n",
    "Name: 439, dtype: int64"
   ]
  },
  {
   "cell_type": "markdown",
   "id": "2f91086b",
   "metadata": {},
   "source": [
    "nombre_infected       783\n",
    "nombre_sain          2403\n",
    "nombre_exposed        531\n",
    "nombre_recovered    16283\n",
    "Name: 440, dtype: int64"
   ]
  },
  {
   "cell_type": "markdown",
   "id": "80a5de79",
   "metadata": {},
   "source": [
    "nombre_infected       758\n",
    "nombre_sain          2408\n",
    "nombre_exposed        538\n",
    "nombre_recovered    16296\n",
    "Name: 441, dtype: int64"
   ]
  },
  {
   "cell_type": "markdown",
   "id": "8172fe64",
   "metadata": {},
   "source": [
    "nombre_infected       772\n",
    "nombre_sain          2403\n",
    "nombre_exposed        525\n",
    "nombre_recovered    16300\n",
    "Name: 442, dtype: int64"
   ]
  },
  {
   "cell_type": "markdown",
   "id": "88610ec7",
   "metadata": {},
   "source": [
    "nombre_infected       774\n",
    "nombre_sain          2391\n",
    "nombre_exposed        537\n",
    "nombre_recovered    16298\n",
    "Name: 443, dtype: int64"
   ]
  },
  {
   "cell_type": "markdown",
   "id": "8ecf3ff7",
   "metadata": {},
   "source": [
    "nombre_infected       778\n",
    "nombre_sain          2427\n",
    "nombre_exposed        513\n",
    "nombre_recovered    16282\n",
    "Name: 444, dtype: int64"
   ]
  },
  {
   "cell_type": "markdown",
   "id": "391a764a",
   "metadata": {},
   "source": [
    "nombre_infected       783\n",
    "nombre_sain          2442\n",
    "nombre_exposed        518\n",
    "nombre_recovered    16257\n",
    "Name: 445, dtype: int64"
   ]
  },
  {
   "cell_type": "markdown",
   "id": "212572f3",
   "metadata": {},
   "source": [
    "nombre_infected       785\n",
    "nombre_sain          2465\n",
    "nombre_exposed        518\n",
    "nombre_recovered    16232\n",
    "Name: 446, dtype: int64"
   ]
  },
  {
   "cell_type": "markdown",
   "id": "2e7186a0",
   "metadata": {},
   "source": [
    "nombre_infected       771\n",
    "nombre_sain          2460\n",
    "nombre_exposed        528\n",
    "nombre_recovered    16241\n",
    "Name: 447, dtype: int64"
   ]
  },
  {
   "cell_type": "markdown",
   "id": "0603d8ea",
   "metadata": {},
   "source": [
    "nombre_infected       787\n",
    "nombre_sain          2447\n",
    "nombre_exposed        512\n",
    "nombre_recovered    16254\n",
    "Name: 448, dtype: int64"
   ]
  },
  {
   "cell_type": "markdown",
   "id": "2ccab5ba",
   "metadata": {},
   "source": [
    "nombre_infected       807\n",
    "nombre_sain          2449\n",
    "nombre_exposed        516\n",
    "nombre_recovered    16228\n",
    "Name: 449, dtype: int64"
   ]
  },
  {
   "cell_type": "markdown",
   "id": "3bd6cab1",
   "metadata": {},
   "source": [
    "nombre_infected       788\n",
    "nombre_sain          2443\n",
    "nombre_exposed        540\n",
    "nombre_recovered    16229\n",
    "Name: 450, dtype: int64"
   ]
  },
  {
   "cell_type": "markdown",
   "id": "ed514292",
   "metadata": {},
   "source": [
    "nombre_infected       807\n",
    "nombre_sain          2460\n",
    "nombre_exposed        539\n",
    "nombre_recovered    16194\n",
    "Name: 451, dtype: int64"
   ]
  },
  {
   "cell_type": "markdown",
   "id": "806a622f",
   "metadata": {},
   "source": [
    "nombre_infected       806\n",
    "nombre_sain          2418\n",
    "nombre_exposed        571\n",
    "nombre_recovered    16205\n",
    "Name: 452, dtype: int64"
   ]
  },
  {
   "cell_type": "markdown",
   "id": "f03b0600",
   "metadata": {},
   "source": [
    "nombre_infected       817\n",
    "nombre_sain          2423\n",
    "nombre_exposed        587\n",
    "nombre_recovered    16173\n",
    "Name: 453, dtype: int64"
   ]
  },
  {
   "cell_type": "markdown",
   "id": "b34bb9bb",
   "metadata": {},
   "source": [
    "nombre_infected       809\n",
    "nombre_sain          2398\n",
    "nombre_exposed        593\n",
    "nombre_recovered    16200\n",
    "Name: 454, dtype: int64"
   ]
  },
  {
   "cell_type": "markdown",
   "id": "250cec25",
   "metadata": {},
   "source": [
    "nombre_infected       821\n",
    "nombre_sain          2390\n",
    "nombre_exposed        578\n",
    "nombre_recovered    16211\n",
    "Name: 455, dtype: int64"
   ]
  },
  {
   "cell_type": "markdown",
   "id": "a89f4b49",
   "metadata": {},
   "source": [
    "nombre_infected       820\n",
    "nombre_sain          2373\n",
    "nombre_exposed        594\n",
    "nombre_recovered    16213\n",
    "Name: 456, dtype: int64"
   ]
  },
  {
   "cell_type": "markdown",
   "id": "15486bd8",
   "metadata": {},
   "source": [
    "nombre_infected       833\n",
    "nombre_sain          2350\n",
    "nombre_exposed        590\n",
    "nombre_recovered    16227\n",
    "Name: 457, dtype: int64"
   ]
  },
  {
   "cell_type": "markdown",
   "id": "b6038ad7",
   "metadata": {},
   "source": [
    "nombre_infected       828\n",
    "nombre_sain          2346\n",
    "nombre_exposed        612\n",
    "nombre_recovered    16214\n",
    "Name: 458, dtype: int64"
   ]
  },
  {
   "cell_type": "markdown",
   "id": "521ae00a",
   "metadata": {},
   "source": [
    "nombre_infected       832\n",
    "nombre_sain          2320\n",
    "nombre_exposed        619\n",
    "nombre_recovered    16229\n",
    "Name: 459, dtype: int64"
   ]
  },
  {
   "cell_type": "markdown",
   "id": "472c7eec",
   "metadata": {},
   "source": [
    "nombre_infected       827\n",
    "nombre_sain          2305\n",
    "nombre_exposed        627\n",
    "nombre_recovered    16241\n",
    "Name: 460, dtype: int64"
   ]
  },
  {
   "cell_type": "markdown",
   "id": "2244ccbe",
   "metadata": {},
   "source": [
    "nombre_infected       847\n",
    "nombre_sain          2301\n",
    "nombre_exposed        608\n",
    "nombre_recovered    16244\n",
    "Name: 461, dtype: int64"
   ]
  },
  {
   "cell_type": "markdown",
   "id": "f9cffbec",
   "metadata": {},
   "source": [
    "nombre_infected       876\n",
    "nombre_sain          2285\n",
    "nombre_exposed        614\n",
    "nombre_recovered    16225\n",
    "Name: 462, dtype: int64"
   ]
  },
  {
   "cell_type": "markdown",
   "id": "e64caa1c",
   "metadata": {},
   "source": [
    "nombre_infected       879\n",
    "nombre_sain          2303\n",
    "nombre_exposed        592\n",
    "nombre_recovered    16226\n",
    "Name: 463, dtype: int64"
   ]
  },
  {
   "cell_type": "markdown",
   "id": "768e4dff",
   "metadata": {},
   "source": [
    "nombre_infected       899\n",
    "nombre_sain          2307\n",
    "nombre_exposed        578\n",
    "nombre_recovered    16216\n",
    "Name: 464, dtype: int64"
   ]
  },
  {
   "cell_type": "markdown",
   "id": "94a9baa7",
   "metadata": {},
   "source": [
    "nombre_infected       901\n",
    "nombre_sain          2279\n",
    "nombre_exposed        602\n",
    "nombre_recovered    16218\n",
    "Name: 465, dtype: int64"
   ]
  },
  {
   "cell_type": "markdown",
   "id": "00d1ca7e",
   "metadata": {},
   "source": [
    "nombre_infected       901\n",
    "nombre_sain          2263\n",
    "nombre_exposed        611\n",
    "nombre_recovered    16225\n",
    "Name: 466, dtype: int64"
   ]
  },
  {
   "cell_type": "markdown",
   "id": "5f950371",
   "metadata": {},
   "source": [
    "nombre_infected       906\n",
    "nombre_sain          2267\n",
    "nombre_exposed        601\n",
    "nombre_recovered    16226\n",
    "Name: 467, dtype: int64"
   ]
  },
  {
   "cell_type": "markdown",
   "id": "4f3eb9ca",
   "metadata": {},
   "source": [
    "nombre_infected       893\n",
    "nombre_sain          2241\n",
    "nombre_exposed        610\n",
    "nombre_recovered    16256\n",
    "Name: 468, dtype: int64"
   ]
  },
  {
   "cell_type": "markdown",
   "id": "0ea1287a",
   "metadata": {},
   "source": [
    "nombre_infected       885\n",
    "nombre_sain          2250\n",
    "nombre_exposed        599\n",
    "nombre_recovered    16266\n",
    "Name: 469, dtype: int64"
   ]
  },
  {
   "cell_type": "markdown",
   "id": "c7e3179a",
   "metadata": {},
   "source": [
    "nombre_infected       900\n",
    "nombre_sain          2254\n",
    "nombre_exposed        580\n",
    "nombre_recovered    16266\n",
    "Name: 470, dtype: int64"
   ]
  },
  {
   "cell_type": "markdown",
   "id": "6bf0ca9c",
   "metadata": {},
   "source": [
    "nombre_infected       916\n",
    "nombre_sain          2241\n",
    "nombre_exposed        582\n",
    "nombre_recovered    16261\n",
    "Name: 471, dtype: int64"
   ]
  },
  {
   "cell_type": "markdown",
   "id": "6db19bf0",
   "metadata": {},
   "source": [
    "nombre_infected       911\n",
    "nombre_sain          2224\n",
    "nombre_exposed        576\n",
    "nombre_recovered    16289\n",
    "Name: 472, dtype: int64"
   ]
  },
  {
   "cell_type": "markdown",
   "id": "6a6374ec",
   "metadata": {},
   "source": [
    "nombre_infected       930\n",
    "nombre_sain          2205\n",
    "nombre_exposed        576\n",
    "nombre_recovered    16289\n",
    "Name: 473, dtype: int64"
   ]
  },
  {
   "cell_type": "markdown",
   "id": "bd7c64a8",
   "metadata": {},
   "source": [
    "nombre_infected       877\n",
    "nombre_sain          2194\n",
    "nombre_exposed        610\n",
    "nombre_recovered    16319\n",
    "Name: 474, dtype: int64"
   ]
  },
  {
   "cell_type": "markdown",
   "id": "a2f1271a",
   "metadata": {},
   "source": [
    "nombre_infected       886\n",
    "nombre_sain          2200\n",
    "nombre_exposed        579\n",
    "nombre_recovered    16335\n",
    "Name: 475, dtype: int64"
   ]
  },
  {
   "cell_type": "markdown",
   "id": "cfe9a128",
   "metadata": {},
   "source": [
    "nombre_infected       905\n",
    "nombre_sain          2166\n",
    "nombre_exposed        587\n",
    "nombre_recovered    16342\n",
    "Name: 476, dtype: int64"
   ]
  },
  {
   "cell_type": "markdown",
   "id": "0239b695",
   "metadata": {},
   "source": [
    "nombre_infected       893\n",
    "nombre_sain          2179\n",
    "nombre_exposed        594\n",
    "nombre_recovered    16334\n",
    "Name: 477, dtype: int64"
   ]
  },
  {
   "cell_type": "markdown",
   "id": "3bcc7801",
   "metadata": {},
   "source": [
    "nombre_infected       915\n",
    "nombre_sain          2154\n",
    "nombre_exposed        572\n",
    "nombre_recovered    16359\n",
    "Name: 478, dtype: int64"
   ]
  },
  {
   "cell_type": "markdown",
   "id": "ac116c84",
   "metadata": {},
   "source": [
    "nombre_infected       925\n",
    "nombre_sain          2142\n",
    "nombre_exposed        541\n",
    "nombre_recovered    16392\n",
    "Name: 479, dtype: int64"
   ]
  },
  {
   "cell_type": "markdown",
   "id": "77a58048",
   "metadata": {},
   "source": [
    "nombre_infected       914\n",
    "nombre_sain          2152\n",
    "nombre_exposed        517\n",
    "nombre_recovered    16417\n",
    "Name: 480, dtype: int64"
   ]
  },
  {
   "cell_type": "markdown",
   "id": "177b3182",
   "metadata": {},
   "source": [
    "nombre_infected       883\n",
    "nombre_sain          2135\n",
    "nombre_exposed        535\n",
    "nombre_recovered    16447\n",
    "Name: 481, dtype: int64"
   ]
  },
  {
   "cell_type": "markdown",
   "id": "d07eea70",
   "metadata": {},
   "source": [
    "nombre_infected       866\n",
    "nombre_sain          2119\n",
    "nombre_exposed        537\n",
    "nombre_recovered    16478\n",
    "Name: 482, dtype: int64"
   ]
  },
  {
   "cell_type": "markdown",
   "id": "9d8261cc",
   "metadata": {},
   "source": [
    "nombre_infected       863\n",
    "nombre_sain          2105\n",
    "nombre_exposed        545\n",
    "nombre_recovered    16487\n",
    "Name: 483, dtype: int64"
   ]
  },
  {
   "cell_type": "markdown",
   "id": "da78d8f5",
   "metadata": {},
   "source": [
    "nombre_infected       866\n",
    "nombre_sain          2107\n",
    "nombre_exposed        535\n",
    "nombre_recovered    16492\n",
    "Name: 484, dtype: int64"
   ]
  },
  {
   "cell_type": "markdown",
   "id": "e7807dab",
   "metadata": {},
   "source": [
    "nombre_infected       856\n",
    "nombre_sain          2111\n",
    "nombre_exposed        530\n",
    "nombre_recovered    16503\n",
    "Name: 485, dtype: int64"
   ]
  },
  {
   "cell_type": "markdown",
   "id": "51e0de2b",
   "metadata": {},
   "source": [
    "nombre_infected       849\n",
    "nombre_sain          2107\n",
    "nombre_exposed        524\n",
    "nombre_recovered    16520\n",
    "Name: 486, dtype: int64"
   ]
  },
  {
   "cell_type": "markdown",
   "id": "b6f6215a",
   "metadata": {},
   "source": [
    "nombre_infected       870\n",
    "nombre_sain          2132\n",
    "nombre_exposed        514\n",
    "nombre_recovered    16484\n",
    "Name: 487, dtype: int64"
   ]
  },
  {
   "cell_type": "markdown",
   "id": "6d82bcbd",
   "metadata": {},
   "source": [
    "nombre_infected       876\n",
    "nombre_sain          2110\n",
    "nombre_exposed        522\n",
    "nombre_recovered    16492\n",
    "Name: 488, dtype: int64"
   ]
  },
  {
   "cell_type": "markdown",
   "id": "2c46cc5a",
   "metadata": {},
   "source": [
    "nombre_infected       857\n",
    "nombre_sain          2146\n",
    "nombre_exposed        504\n",
    "nombre_recovered    16493\n",
    "Name: 489, dtype: int64"
   ]
  },
  {
   "cell_type": "markdown",
   "id": "6b96337e",
   "metadata": {},
   "source": [
    "nombre_infected       861\n",
    "nombre_sain          2144\n",
    "nombre_exposed        484\n",
    "nombre_recovered    16511\n",
    "Name: 490, dtype: int64"
   ]
  },
  {
   "cell_type": "markdown",
   "id": "896e8917",
   "metadata": {},
   "source": [
    "nombre_infected       835\n",
    "nombre_sain          2138\n",
    "nombre_exposed        501\n",
    "nombre_recovered    16526\n",
    "Name: 491, dtype: int64"
   ]
  },
  {
   "cell_type": "markdown",
   "id": "df5b3acc",
   "metadata": {},
   "source": [
    "nombre_infected       811\n",
    "nombre_sain          2153\n",
    "nombre_exposed        513\n",
    "nombre_recovered    16523\n",
    "Name: 492, dtype: int64"
   ]
  },
  {
   "cell_type": "markdown",
   "id": "a2801376",
   "metadata": {},
   "source": [
    "nombre_infected       807\n",
    "nombre_sain          2144\n",
    "nombre_exposed        527\n",
    "nombre_recovered    16522\n",
    "Name: 493, dtype: int64"
   ]
  },
  {
   "cell_type": "markdown",
   "id": "44bb116c",
   "metadata": {},
   "source": [
    "nombre_infected       787\n",
    "nombre_sain          2118\n",
    "nombre_exposed        556\n",
    "nombre_recovered    16539\n",
    "Name: 494, dtype: int64"
   ]
  },
  {
   "cell_type": "markdown",
   "id": "4ac4438d",
   "metadata": {},
   "source": [
    "nombre_infected       777\n",
    "nombre_sain          2137\n",
    "nombre_exposed        553\n",
    "nombre_recovered    16533\n",
    "Name: 495, dtype: int64"
   ]
  },
  {
   "cell_type": "markdown",
   "id": "9d519ac0",
   "metadata": {},
   "source": [
    "nombre_infected       797\n",
    "nombre_sain          2144\n",
    "nombre_exposed        539\n",
    "nombre_recovered    16520\n",
    "Name: 496, dtype: int64"
   ]
  },
  {
   "cell_type": "markdown",
   "id": "27277ddb",
   "metadata": {},
   "source": [
    "nombre_infected       802\n",
    "nombre_sain          2146\n",
    "nombre_exposed        519\n",
    "nombre_recovered    16533\n",
    "Name: 497, dtype: int64"
   ]
  },
  {
   "cell_type": "markdown",
   "id": "303eb472",
   "metadata": {},
   "source": [
    "nombre_infected       805\n",
    "nombre_sain          2167\n",
    "nombre_exposed        508\n",
    "nombre_recovered    16520\n",
    "Name: 498, dtype: int64"
   ]
  },
  {
   "cell_type": "markdown",
   "id": "7470b4b3",
   "metadata": {},
   "source": [
    "nombre_infected       789\n",
    "nombre_sain          2178\n",
    "nombre_exposed        515\n",
    "nombre_recovered    16518\n",
    "Name: 499, dtype: int64"
   ]
  },
  {
   "cell_type": "markdown",
   "id": "9956d1d3",
   "metadata": {},
   "source": [
    "nombre_infected       784\n",
    "nombre_sain          2178\n",
    "nombre_exposed        521\n",
    "nombre_recovered    16517\n",
    "Name: 500, dtype: int64"
   ]
  },
  {
   "cell_type": "markdown",
   "id": "d29f0e56",
   "metadata": {},
   "source": [
    "nombre_infected       759\n",
    "nombre_sain          2206\n",
    "nombre_exposed        521\n",
    "nombre_recovered    16514\n",
    "Name: 501, dtype: int64"
   ]
  },
  {
   "cell_type": "markdown",
   "id": "ede43f48",
   "metadata": {},
   "source": [
    "nombre_infected       771\n",
    "nombre_sain          2205\n",
    "nombre_exposed        524\n",
    "nombre_recovered    16500\n",
    "Name: 502, dtype: int64"
   ]
  },
  {
   "cell_type": "markdown",
   "id": "a7ee6348",
   "metadata": {},
   "source": [
    "nombre_infected       763\n",
    "nombre_sain          2195\n",
    "nombre_exposed        536\n",
    "nombre_recovered    16506\n",
    "Name: 503, dtype: int64"
   ]
  },
  {
   "cell_type": "markdown",
   "id": "1a25d796",
   "metadata": {},
   "source": [
    "nombre_infected       756\n",
    "nombre_sain          2212\n",
    "nombre_exposed        526\n",
    "nombre_recovered    16506\n",
    "Name: 504, dtype: int64"
   ]
  },
  {
   "cell_type": "markdown",
   "id": "5829654f",
   "metadata": {},
   "source": [
    "nombre_infected       753\n",
    "nombre_sain          2200\n",
    "nombre_exposed        516\n",
    "nombre_recovered    16531\n",
    "Name: 505, dtype: int64"
   ]
  },
  {
   "cell_type": "markdown",
   "id": "10184f83",
   "metadata": {},
   "source": [
    "nombre_infected       742\n",
    "nombre_sain          2206\n",
    "nombre_exposed        510\n",
    "nombre_recovered    16542\n",
    "Name: 506, dtype: int64"
   ]
  },
  {
   "cell_type": "markdown",
   "id": "c71dcd2e",
   "metadata": {},
   "source": [
    "nombre_infected       733\n",
    "nombre_sain          2218\n",
    "nombre_exposed        503\n",
    "nombre_recovered    16546\n",
    "Name: 507, dtype: int64"
   ]
  },
  {
   "cell_type": "markdown",
   "id": "beca6475",
   "metadata": {},
   "source": [
    "nombre_infected       748\n",
    "nombre_sain          2206\n",
    "nombre_exposed        510\n",
    "nombre_recovered    16536\n",
    "Name: 508, dtype: int64"
   ]
  },
  {
   "cell_type": "markdown",
   "id": "6d85d375",
   "metadata": {},
   "source": [
    "nombre_infected       743\n",
    "nombre_sain          2207\n",
    "nombre_exposed        506\n",
    "nombre_recovered    16544\n",
    "Name: 509, dtype: int64"
   ]
  },
  {
   "cell_type": "markdown",
   "id": "a912b990",
   "metadata": {},
   "source": [
    "nombre_infected       738\n",
    "nombre_sain          2229\n",
    "nombre_exposed        505\n",
    "nombre_recovered    16528\n",
    "Name: 510, dtype: int64"
   ]
  },
  {
   "cell_type": "markdown",
   "id": "da4a3d5f",
   "metadata": {},
   "source": [
    "nombre_infected       723\n",
    "nombre_sain          2239\n",
    "nombre_exposed        481\n",
    "nombre_recovered    16557\n",
    "Name: 511, dtype: int64"
   ]
  },
  {
   "cell_type": "markdown",
   "id": "e06c9e44",
   "metadata": {},
   "source": [
    "nombre_infected       702\n",
    "nombre_sain          2270\n",
    "nombre_exposed        475\n",
    "nombre_recovered    16553\n",
    "Name: 512, dtype: int64"
   ]
  },
  {
   "cell_type": "markdown",
   "id": "59c6d3b8",
   "metadata": {},
   "source": [
    "nombre_infected       698\n",
    "nombre_sain          2239\n",
    "nombre_exposed        501\n",
    "nombre_recovered    16562\n",
    "Name: 513, dtype: int64"
   ]
  },
  {
   "cell_type": "markdown",
   "id": "a33d2663",
   "metadata": {},
   "source": [
    "nombre_infected       672\n",
    "nombre_sain          2260\n",
    "nombre_exposed        493\n",
    "nombre_recovered    16575\n",
    "Name: 514, dtype: int64"
   ]
  },
  {
   "cell_type": "markdown",
   "id": "3a9685d4",
   "metadata": {},
   "source": [
    "nombre_infected       690\n",
    "nombre_sain          2292\n",
    "nombre_exposed        460\n",
    "nombre_recovered    16558\n",
    "Name: 515, dtype: int64"
   ]
  },
  {
   "cell_type": "markdown",
   "id": "d13bf5a7",
   "metadata": {},
   "source": [
    "nombre_infected       684\n",
    "nombre_sain          2312\n",
    "nombre_exposed        448\n",
    "nombre_recovered    16556\n",
    "Name: 516, dtype: int64"
   ]
  },
  {
   "cell_type": "markdown",
   "id": "e61b357c",
   "metadata": {},
   "source": [
    "nombre_infected       680\n",
    "nombre_sain          2314\n",
    "nombre_exposed        441\n",
    "nombre_recovered    16565\n",
    "Name: 517, dtype: int64"
   ]
  },
  {
   "cell_type": "markdown",
   "id": "e3576879",
   "metadata": {},
   "source": [
    "nombre_infected       667\n",
    "nombre_sain          2310\n",
    "nombre_exposed        465\n",
    "nombre_recovered    16558\n",
    "Name: 518, dtype: int64"
   ]
  },
  {
   "cell_type": "markdown",
   "id": "4524c476",
   "metadata": {},
   "source": [
    "nombre_infected       658\n",
    "nombre_sain          2311\n",
    "nombre_exposed        487\n",
    "nombre_recovered    16544\n",
    "Name: 519, dtype: int64"
   ]
  },
  {
   "cell_type": "markdown",
   "id": "9dc93051",
   "metadata": {},
   "source": [
    "nombre_infected       673\n",
    "nombre_sain          2322\n",
    "nombre_exposed        488\n",
    "nombre_recovered    16517\n",
    "Name: 520, dtype: int64"
   ]
  },
  {
   "cell_type": "markdown",
   "id": "021b9d9e",
   "metadata": {},
   "source": [
    "nombre_infected       663\n",
    "nombre_sain          2334\n",
    "nombre_exposed        490\n",
    "nombre_recovered    16513\n",
    "Name: 521, dtype: int64"
   ]
  },
  {
   "cell_type": "markdown",
   "id": "254b2f88",
   "metadata": {},
   "source": [
    "nombre_infected       684\n",
    "nombre_sain          2338\n",
    "nombre_exposed        487\n",
    "nombre_recovered    16491\n",
    "Name: 522, dtype: int64"
   ]
  },
  {
   "cell_type": "markdown",
   "id": "bc9cbdfa",
   "metadata": {},
   "source": [
    "nombre_infected       694\n",
    "nombre_sain          2333\n",
    "nombre_exposed        508\n",
    "nombre_recovered    16465\n",
    "Name: 523, dtype: int64"
   ]
  },
  {
   "cell_type": "markdown",
   "id": "a7c22d28",
   "metadata": {},
   "source": [
    "nombre_infected       714\n",
    "nombre_sain          2324\n",
    "nombre_exposed        506\n",
    "nombre_recovered    16456\n",
    "Name: 524, dtype: int64"
   ]
  },
  {
   "cell_type": "markdown",
   "id": "86d901ab",
   "metadata": {},
   "source": [
    "nombre_infected       735\n",
    "nombre_sain          2325\n",
    "nombre_exposed        501\n",
    "nombre_recovered    16439\n",
    "Name: 525, dtype: int64"
   ]
  },
  {
   "cell_type": "markdown",
   "id": "bbd81361",
   "metadata": {},
   "source": [
    "nombre_infected       756\n",
    "nombre_sain          2309\n",
    "nombre_exposed        489\n",
    "nombre_recovered    16446\n",
    "Name: 526, dtype: int64"
   ]
  },
  {
   "cell_type": "markdown",
   "id": "dcc99c59",
   "metadata": {},
   "source": [
    "nombre_infected       769\n",
    "nombre_sain          2309\n",
    "nombre_exposed        477\n",
    "nombre_recovered    16445\n",
    "Name: 527, dtype: int64"
   ]
  },
  {
   "cell_type": "markdown",
   "id": "1ea3e886",
   "metadata": {},
   "source": [
    "nombre_infected       781\n",
    "nombre_sain          2299\n",
    "nombre_exposed        479\n",
    "nombre_recovered    16441\n",
    "Name: 528, dtype: int64"
   ]
  },
  {
   "cell_type": "markdown",
   "id": "43de48af",
   "metadata": {},
   "source": [
    "nombre_infected       766\n",
    "nombre_sain          2272\n",
    "nombre_exposed        508\n",
    "nombre_recovered    16454\n",
    "Name: 529, dtype: int64"
   ]
  },
  {
   "cell_type": "markdown",
   "id": "1d93d3bc",
   "metadata": {},
   "source": [
    "nombre_infected       775\n",
    "nombre_sain          2272\n",
    "nombre_exposed        518\n",
    "nombre_recovered    16435\n",
    "Name: 530, dtype: int64"
   ]
  },
  {
   "cell_type": "markdown",
   "id": "0ca60df0",
   "metadata": {},
   "source": [
    "nombre_infected       767\n",
    "nombre_sain          2285\n",
    "nombre_exposed        519\n",
    "nombre_recovered    16429\n",
    "Name: 531, dtype: int64"
   ]
  },
  {
   "cell_type": "markdown",
   "id": "53f08609",
   "metadata": {},
   "source": [
    "nombre_infected       771\n",
    "nombre_sain          2262\n",
    "nombre_exposed        521\n",
    "nombre_recovered    16446\n",
    "Name: 532, dtype: int64"
   ]
  },
  {
   "cell_type": "markdown",
   "id": "c6c41784",
   "metadata": {},
   "source": [
    "nombre_infected       790\n",
    "nombre_sain          2286\n",
    "nombre_exposed        509\n",
    "nombre_recovered    16415\n",
    "Name: 533, dtype: int64"
   ]
  },
  {
   "cell_type": "markdown",
   "id": "0b761414",
   "metadata": {},
   "source": [
    "nombre_infected       810\n",
    "nombre_sain          2284\n",
    "nombre_exposed        511\n",
    "nombre_recovered    16395\n",
    "Name: 534, dtype: int64"
   ]
  },
  {
   "cell_type": "markdown",
   "id": "9bb8ffa8",
   "metadata": {},
   "source": [
    "nombre_infected       798\n",
    "nombre_sain          2264\n",
    "nombre_exposed        527\n",
    "nombre_recovered    16411\n",
    "Name: 535, dtype: int64"
   ]
  },
  {
   "cell_type": "markdown",
   "id": "b5d0d728",
   "metadata": {},
   "source": [
    "nombre_infected       803\n",
    "nombre_sain          2261\n",
    "nombre_exposed        541\n",
    "nombre_recovered    16395\n",
    "Name: 536, dtype: int64"
   ]
  },
  {
   "cell_type": "markdown",
   "id": "765b0ead",
   "metadata": {},
   "source": [
    "nombre_infected       818\n",
    "nombre_sain          2267\n",
    "nombre_exposed        529\n",
    "nombre_recovered    16386\n",
    "Name: 537, dtype: int64"
   ]
  },
  {
   "cell_type": "markdown",
   "id": "86c931d3",
   "metadata": {},
   "source": [
    "nombre_infected       820\n",
    "nombre_sain          2236\n",
    "nombre_exposed        576\n",
    "nombre_recovered    16368\n",
    "Name: 538, dtype: int64"
   ]
  },
  {
   "cell_type": "markdown",
   "id": "0cf9f583",
   "metadata": {},
   "source": [
    "nombre_infected       831\n",
    "nombre_sain          2261\n",
    "nombre_exposed        555\n",
    "nombre_recovered    16353\n",
    "Name: 539, dtype: int64"
   ]
  },
  {
   "cell_type": "markdown",
   "id": "b58529ef",
   "metadata": {},
   "source": [
    "nombre_infected       850\n",
    "nombre_sain          2272\n",
    "nombre_exposed        538\n",
    "nombre_recovered    16340\n",
    "Name: 540, dtype: int64"
   ]
  },
  {
   "cell_type": "markdown",
   "id": "b135a1a3",
   "metadata": {},
   "source": [
    "nombre_infected       824\n",
    "nombre_sain          2267\n",
    "nombre_exposed        550\n",
    "nombre_recovered    16359\n",
    "Name: 541, dtype: int64"
   ]
  },
  {
   "cell_type": "markdown",
   "id": "889a26f3",
   "metadata": {},
   "source": [
    "nombre_infected       822\n",
    "nombre_sain          2268\n",
    "nombre_exposed        558\n",
    "nombre_recovered    16352\n",
    "Name: 542, dtype: int64"
   ]
  },
  {
   "cell_type": "markdown",
   "id": "de3b937e",
   "metadata": {},
   "source": [
    "nombre_infected       828\n",
    "nombre_sain          2274\n",
    "nombre_exposed        549\n",
    "nombre_recovered    16349\n",
    "Name: 543, dtype: int64"
   ]
  },
  {
   "cell_type": "markdown",
   "id": "c501dbfa",
   "metadata": {},
   "source": [
    "nombre_infected       834\n",
    "nombre_sain          2257\n",
    "nombre_exposed        544\n",
    "nombre_recovered    16365\n",
    "Name: 544, dtype: int64"
   ]
  },
  {
   "cell_type": "markdown",
   "id": "913470bf",
   "metadata": {},
   "source": [
    "nombre_infected       849\n",
    "nombre_sain          2273\n",
    "nombre_exposed        522\n",
    "nombre_recovered    16356\n",
    "Name: 545, dtype: int64"
   ]
  },
  {
   "cell_type": "markdown",
   "id": "34e34ab7",
   "metadata": {},
   "source": [
    "nombre_infected       842\n",
    "nombre_sain          2260\n",
    "nombre_exposed        542\n",
    "nombre_recovered    16356\n",
    "Name: 546, dtype: int64"
   ]
  },
  {
   "cell_type": "markdown",
   "id": "b742ef20",
   "metadata": {},
   "source": [
    "nombre_infected       832\n",
    "nombre_sain          2253\n",
    "nombre_exposed        546\n",
    "nombre_recovered    16369\n",
    "Name: 547, dtype: int64"
   ]
  },
  {
   "cell_type": "markdown",
   "id": "e122a9ff",
   "metadata": {},
   "source": [
    "nombre_infected       814\n",
    "nombre_sain          2233\n",
    "nombre_exposed        573\n",
    "nombre_recovered    16380\n",
    "Name: 548, dtype: int64"
   ]
  },
  {
   "cell_type": "markdown",
   "id": "0114bc61",
   "metadata": {},
   "source": [
    "nombre_infected       810\n",
    "nombre_sain          2228\n",
    "nombre_exposed        574\n",
    "nombre_recovered    16388\n",
    "Name: 549, dtype: int64"
   ]
  },
  {
   "cell_type": "markdown",
   "id": "83159408",
   "metadata": {},
   "source": [
    "nombre_infected       810\n",
    "nombre_sain          2215\n",
    "nombre_exposed        602\n",
    "nombre_recovered    16373\n",
    "Name: 550, dtype: int64"
   ]
  },
  {
   "cell_type": "markdown",
   "id": "c08a2d34",
   "metadata": {},
   "source": [
    "nombre_infected       827\n",
    "nombre_sain          2215\n",
    "nombre_exposed        588\n",
    "nombre_recovered    16370\n",
    "Name: 551, dtype: int64"
   ]
  },
  {
   "cell_type": "markdown",
   "id": "9092323b",
   "metadata": {},
   "source": [
    "nombre_infected       828\n",
    "nombre_sain          2228\n",
    "nombre_exposed        563\n",
    "nombre_recovered    16381\n",
    "Name: 552, dtype: int64"
   ]
  },
  {
   "cell_type": "markdown",
   "id": "bfda9a01",
   "metadata": {},
   "source": [
    "nombre_infected       842\n",
    "nombre_sain          2241\n",
    "nombre_exposed        556\n",
    "nombre_recovered    16361\n",
    "Name: 553, dtype: int64"
   ]
  },
  {
   "cell_type": "markdown",
   "id": "eaf14e73",
   "metadata": {},
   "source": [
    "nombre_infected       849\n",
    "nombre_sain          2231\n",
    "nombre_exposed        558\n",
    "nombre_recovered    16362\n",
    "Name: 554, dtype: int64"
   ]
  },
  {
   "cell_type": "markdown",
   "id": "be98687b",
   "metadata": {},
   "source": [
    "nombre_infected       861\n",
    "nombre_sain          2187\n",
    "nombre_exposed        584\n",
    "nombre_recovered    16368\n",
    "Name: 555, dtype: int64"
   ]
  },
  {
   "cell_type": "markdown",
   "id": "f8f09cd3",
   "metadata": {},
   "source": [
    "nombre_infected       865\n",
    "nombre_sain          2156\n",
    "nombre_exposed        604\n",
    "nombre_recovered    16375\n",
    "Name: 556, dtype: int64"
   ]
  },
  {
   "cell_type": "markdown",
   "id": "4f143566",
   "metadata": {},
   "source": [
    "nombre_infected       863\n",
    "nombre_sain          2147\n",
    "nombre_exposed        600\n",
    "nombre_recovered    16390\n",
    "Name: 557, dtype: int64"
   ]
  },
  {
   "cell_type": "markdown",
   "id": "d2089888",
   "metadata": {},
   "source": [
    "nombre_infected       876\n",
    "nombre_sain          2136\n",
    "nombre_exposed        598\n",
    "nombre_recovered    16390\n",
    "Name: 558, dtype: int64"
   ]
  },
  {
   "cell_type": "markdown",
   "id": "ee1d51a1",
   "metadata": {},
   "source": [
    "nombre_infected       863\n",
    "nombre_sain          2125\n",
    "nombre_exposed        600\n",
    "nombre_recovered    16412\n",
    "Name: 559, dtype: int64"
   ]
  },
  {
   "cell_type": "markdown",
   "id": "3bc3a459",
   "metadata": {},
   "source": [
    "nombre_infected       892\n",
    "nombre_sain          2126\n",
    "nombre_exposed        569\n",
    "nombre_recovered    16413\n",
    "Name: 560, dtype: int64"
   ]
  },
  {
   "cell_type": "markdown",
   "id": "b6d4998c",
   "metadata": {},
   "source": [
    "nombre_infected       914\n",
    "nombre_sain          2119\n",
    "nombre_exposed        548\n",
    "nombre_recovered    16419\n",
    "Name: 561, dtype: int64"
   ]
  },
  {
   "cell_type": "markdown",
   "id": "b5917c90",
   "metadata": {},
   "source": [
    "nombre_infected       901\n",
    "nombre_sain          2130\n",
    "nombre_exposed        551\n",
    "nombre_recovered    16418\n",
    "Name: 562, dtype: int64"
   ]
  },
  {
   "cell_type": "markdown",
   "id": "16eac012",
   "metadata": {},
   "source": [
    "nombre_infected       899\n",
    "nombre_sain          2100\n",
    "nombre_exposed        562\n",
    "nombre_recovered    16439\n",
    "Name: 563, dtype: int64"
   ]
  },
  {
   "cell_type": "markdown",
   "id": "cbbbac64",
   "metadata": {},
   "source": [
    "nombre_infected       872\n",
    "nombre_sain          2094\n",
    "nombre_exposed        566\n",
    "nombre_recovered    16468\n",
    "Name: 564, dtype: int64"
   ]
  },
  {
   "cell_type": "markdown",
   "id": "676949a2",
   "metadata": {},
   "source": [
    "nombre_infected       863\n",
    "nombre_sain          2099\n",
    "nombre_exposed        545\n",
    "nombre_recovered    16493\n",
    "Name: 565, dtype: int64"
   ]
  },
  {
   "cell_type": "markdown",
   "id": "480c078a",
   "metadata": {},
   "source": [
    "nombre_infected       863\n",
    "nombre_sain          2105\n",
    "nombre_exposed        538\n",
    "nombre_recovered    16494\n",
    "Name: 566, dtype: int64"
   ]
  },
  {
   "cell_type": "markdown",
   "id": "6f745cf2",
   "metadata": {},
   "source": [
    "nombre_infected       822\n",
    "nombre_sain          2119\n",
    "nombre_exposed        536\n",
    "nombre_recovered    16523\n",
    "Name: 567, dtype: int64"
   ]
  },
  {
   "cell_type": "markdown",
   "id": "c22001c2",
   "metadata": {},
   "source": [
    "nombre_infected       801\n",
    "nombre_sain          2119\n",
    "nombre_exposed        540\n",
    "nombre_recovered    16540\n",
    "Name: 568, dtype: int64"
   ]
  },
  {
   "cell_type": "markdown",
   "id": "eef555ee",
   "metadata": {},
   "source": [
    "nombre_infected       788\n",
    "nombre_sain          2115\n",
    "nombre_exposed        538\n",
    "nombre_recovered    16559\n",
    "Name: 569, dtype: int64"
   ]
  },
  {
   "cell_type": "markdown",
   "id": "ca5c8eac",
   "metadata": {},
   "source": [
    "nombre_infected       790\n",
    "nombre_sain          2112\n",
    "nombre_exposed        539\n",
    "nombre_recovered    16559\n",
    "Name: 570, dtype: int64"
   ]
  },
  {
   "cell_type": "markdown",
   "id": "c7b78d4b",
   "metadata": {},
   "source": [
    "nombre_infected       789\n",
    "nombre_sain          2118\n",
    "nombre_exposed        536\n",
    "nombre_recovered    16557\n",
    "Name: 571, dtype: int64"
   ]
  },
  {
   "cell_type": "markdown",
   "id": "9132b6e1",
   "metadata": {},
   "source": [
    "nombre_infected       784\n",
    "nombre_sain          2139\n",
    "nombre_exposed        512\n",
    "nombre_recovered    16565\n",
    "Name: 572, dtype: int64"
   ]
  },
  {
   "cell_type": "markdown",
   "id": "89d5a8dc",
   "metadata": {},
   "source": [
    "nombre_infected       791\n",
    "nombre_sain          2153\n",
    "nombre_exposed        502\n",
    "nombre_recovered    16554\n",
    "Name: 573, dtype: int64"
   ]
  },
  {
   "cell_type": "markdown",
   "id": "e038733e",
   "metadata": {},
   "source": [
    "nombre_infected       791\n",
    "nombre_sain          2174\n",
    "nombre_exposed        494\n",
    "nombre_recovered    16541\n",
    "Name: 574, dtype: int64"
   ]
  },
  {
   "cell_type": "markdown",
   "id": "1d745096",
   "metadata": {},
   "source": [
    "nombre_infected       761\n",
    "nombre_sain          2202\n",
    "nombre_exposed        485\n",
    "nombre_recovered    16552\n",
    "Name: 575, dtype: int64"
   ]
  },
  {
   "cell_type": "markdown",
   "id": "2aa58e80",
   "metadata": {},
   "source": [
    "nombre_infected       734\n",
    "nombre_sain          2215\n",
    "nombre_exposed        505\n",
    "nombre_recovered    16546\n",
    "Name: 576, dtype: int64"
   ]
  },
  {
   "cell_type": "markdown",
   "id": "026b89b6",
   "metadata": {},
   "source": [
    "nombre_infected       726\n",
    "nombre_sain          2226\n",
    "nombre_exposed        509\n",
    "nombre_recovered    16539\n",
    "Name: 577, dtype: int64"
   ]
  },
  {
   "cell_type": "markdown",
   "id": "42db9736",
   "metadata": {},
   "source": [
    "nombre_infected       737\n",
    "nombre_sain          2245\n",
    "nombre_exposed        508\n",
    "nombre_recovered    16510\n",
    "Name: 578, dtype: int64"
   ]
  },
  {
   "cell_type": "markdown",
   "id": "cc2cc0cd",
   "metadata": {},
   "source": [
    "nombre_infected       733\n",
    "nombre_sain          2258\n",
    "nombre_exposed        512\n",
    "nombre_recovered    16497\n",
    "Name: 579, dtype: int64"
   ]
  },
  {
   "cell_type": "markdown",
   "id": "59cc6a9a",
   "metadata": {},
   "source": [
    "nombre_infected       709\n",
    "nombre_sain          2266\n",
    "nombre_exposed        525\n",
    "nombre_recovered    16500\n",
    "Name: 580, dtype: int64"
   ]
  },
  {
   "cell_type": "markdown",
   "id": "310e9d16",
   "metadata": {},
   "source": [
    "nombre_infected       725\n",
    "nombre_sain          2256\n",
    "nombre_exposed        507\n",
    "nombre_recovered    16512\n",
    "Name: 581, dtype: int64"
   ]
  },
  {
   "cell_type": "markdown",
   "id": "e1d4f905",
   "metadata": {},
   "source": [
    "nombre_infected       734\n",
    "nombre_sain          2265\n",
    "nombre_exposed        503\n",
    "nombre_recovered    16498\n",
    "Name: 582, dtype: int64"
   ]
  },
  {
   "cell_type": "markdown",
   "id": "573ebbcd",
   "metadata": {},
   "source": [
    "nombre_infected       729\n",
    "nombre_sain          2278\n",
    "nombre_exposed        503\n",
    "nombre_recovered    16490\n",
    "Name: 583, dtype: int64"
   ]
  },
  {
   "cell_type": "markdown",
   "id": "777da3f9",
   "metadata": {},
   "source": [
    "nombre_infected       736\n",
    "nombre_sain          2288\n",
    "nombre_exposed        505\n",
    "nombre_recovered    16471\n",
    "Name: 584, dtype: int64"
   ]
  },
  {
   "cell_type": "markdown",
   "id": "6aa4e061",
   "metadata": {},
   "source": [
    "nombre_infected       755\n",
    "nombre_sain          2303\n",
    "nombre_exposed        491\n",
    "nombre_recovered    16451\n",
    "Name: 585, dtype: int64"
   ]
  },
  {
   "cell_type": "markdown",
   "id": "d2948994",
   "metadata": {},
   "source": [
    "nombre_infected       744\n",
    "nombre_sain          2312\n",
    "nombre_exposed        495\n",
    "nombre_recovered    16449\n",
    "Name: 586, dtype: int64"
   ]
  },
  {
   "cell_type": "markdown",
   "id": "3c3b82d3",
   "metadata": {},
   "source": [
    "nombre_infected       724\n",
    "nombre_sain          2301\n",
    "nombre_exposed        514\n",
    "nombre_recovered    16461\n",
    "Name: 587, dtype: int64"
   ]
  },
  {
   "cell_type": "markdown",
   "id": "b03811a2",
   "metadata": {},
   "source": [
    "nombre_infected       740\n",
    "nombre_sain          2312\n",
    "nombre_exposed        504\n",
    "nombre_recovered    16444\n",
    "Name: 588, dtype: int64"
   ]
  },
  {
   "cell_type": "markdown",
   "id": "bb9b9328",
   "metadata": {},
   "source": [
    "nombre_infected       743\n",
    "nombre_sain          2294\n",
    "nombre_exposed        527\n",
    "nombre_recovered    16436\n",
    "Name: 589, dtype: int64"
   ]
  },
  {
   "cell_type": "markdown",
   "id": "b5932b77",
   "metadata": {},
   "source": [
    "nombre_infected       738\n",
    "nombre_sain          2282\n",
    "nombre_exposed        541\n",
    "nombre_recovered    16439\n",
    "Name: 590, dtype: int64"
   ]
  },
  {
   "cell_type": "markdown",
   "id": "24793f1d",
   "metadata": {},
   "source": [
    "nombre_infected       730\n",
    "nombre_sain          2273\n",
    "nombre_exposed        553\n",
    "nombre_recovered    16444\n",
    "Name: 591, dtype: int64"
   ]
  },
  {
   "cell_type": "markdown",
   "id": "f420f8f2",
   "metadata": {},
   "source": [
    "nombre_infected       752\n",
    "nombre_sain          2247\n",
    "nombre_exposed        534\n",
    "nombre_recovered    16467\n",
    "Name: 592, dtype: int64"
   ]
  },
  {
   "cell_type": "markdown",
   "id": "347bd51a",
   "metadata": {},
   "source": [
    "nombre_infected       754\n",
    "nombre_sain          2234\n",
    "nombre_exposed        540\n",
    "nombre_recovered    16472\n",
    "Name: 593, dtype: int64"
   ]
  },
  {
   "cell_type": "markdown",
   "id": "aca74749",
   "metadata": {},
   "source": [
    "nombre_infected       768\n",
    "nombre_sain          2214\n",
    "nombre_exposed        526\n",
    "nombre_recovered    16492\n",
    "Name: 594, dtype: int64"
   ]
  },
  {
   "cell_type": "markdown",
   "id": "b3d5dfd4",
   "metadata": {},
   "source": [
    "nombre_infected       758\n",
    "nombre_sain          2229\n",
    "nombre_exposed        512\n",
    "nombre_recovered    16501\n",
    "Name: 595, dtype: int64"
   ]
  },
  {
   "cell_type": "markdown",
   "id": "985d809e",
   "metadata": {},
   "source": [
    "nombre_infected       752\n",
    "nombre_sain          2244\n",
    "nombre_exposed        513\n",
    "nombre_recovered    16491\n",
    "Name: 596, dtype: int64"
   ]
  },
  {
   "cell_type": "markdown",
   "id": "bdc421b4",
   "metadata": {},
   "source": [
    "nombre_infected       763\n",
    "nombre_sain          2244\n",
    "nombre_exposed        499\n",
    "nombre_recovered    16494\n",
    "Name: 597, dtype: int64"
   ]
  },
  {
   "cell_type": "markdown",
   "id": "0283297e",
   "metadata": {},
   "source": [
    "nombre_infected       750\n",
    "nombre_sain          2225\n",
    "nombre_exposed        510\n",
    "nombre_recovered    16515\n",
    "Name: 598, dtype: int64"
   ]
  },
  {
   "cell_type": "markdown",
   "id": "470d5f33",
   "metadata": {},
   "source": [
    "nombre_infected       726\n",
    "nombre_sain          2233\n",
    "nombre_exposed        515\n",
    "nombre_recovered    16526\n",
    "Name: 599, dtype: int64"
   ]
  },
  {
   "cell_type": "markdown",
   "id": "ec23574d",
   "metadata": {},
   "source": [
    "nombre_infected       703\n",
    "nombre_sain          2235\n",
    "nombre_exposed        504\n",
    "nombre_recovered    16558\n",
    "Name: 600, dtype: int64"
   ]
  },
  {
   "cell_type": "markdown",
   "id": "e0a521dd",
   "metadata": {},
   "source": [
    "nombre_infected       710\n",
    "nombre_sain          2221\n",
    "nombre_exposed        501\n",
    "nombre_recovered    16568\n",
    "Name: 601, dtype: int64"
   ]
  },
  {
   "cell_type": "markdown",
   "id": "5022fc10",
   "metadata": {},
   "source": [
    "nombre_infected       713\n",
    "nombre_sain          2218\n",
    "nombre_exposed        481\n",
    "nombre_recovered    16588\n",
    "Name: 602, dtype: int64"
   ]
  },
  {
   "cell_type": "markdown",
   "id": "b29838c2",
   "metadata": {},
   "source": [
    "nombre_infected       731\n",
    "nombre_sain          2212\n",
    "nombre_exposed        480\n",
    "nombre_recovered    16577\n",
    "Name: 603, dtype: int64"
   ]
  },
  {
   "cell_type": "markdown",
   "id": "3e54c436",
   "metadata": {},
   "source": [
    "nombre_infected       711\n",
    "nombre_sain          2211\n",
    "nombre_exposed        490\n",
    "nombre_recovered    16588\n",
    "Name: 604, dtype: int64"
   ]
  },
  {
   "cell_type": "markdown",
   "id": "474a7a75",
   "metadata": {},
   "source": [
    "nombre_infected       720\n",
    "nombre_sain          2200\n",
    "nombre_exposed        477\n",
    "nombre_recovered    16603\n",
    "Name: 605, dtype: int64"
   ]
  },
  {
   "cell_type": "markdown",
   "id": "5affbeb1",
   "metadata": {},
   "source": [
    "nombre_infected       710\n",
    "nombre_sain          2182\n",
    "nombre_exposed        503\n",
    "nombre_recovered    16605\n",
    "Name: 606, dtype: int64"
   ]
  },
  {
   "cell_type": "markdown",
   "id": "fdbb42a3",
   "metadata": {},
   "source": [
    "nombre_infected       719\n",
    "nombre_sain          2204\n",
    "nombre_exposed        492\n",
    "nombre_recovered    16585\n",
    "Name: 607, dtype: int64"
   ]
  },
  {
   "cell_type": "markdown",
   "id": "6aaf2153",
   "metadata": {},
   "source": [
    "nombre_infected       721\n",
    "nombre_sain          2210\n",
    "nombre_exposed        482\n",
    "nombre_recovered    16587\n",
    "Name: 608, dtype: int64"
   ]
  },
  {
   "cell_type": "markdown",
   "id": "75a141f0",
   "metadata": {},
   "source": [
    "nombre_infected       731\n",
    "nombre_sain          2171\n",
    "nombre_exposed        487\n",
    "nombre_recovered    16611\n",
    "Name: 609, dtype: int64"
   ]
  },
  {
   "cell_type": "markdown",
   "id": "d7be2348",
   "metadata": {},
   "source": [
    "nombre_infected       712\n",
    "nombre_sain          2166\n",
    "nombre_exposed        490\n",
    "nombre_recovered    16632\n",
    "Name: 610, dtype: int64"
   ]
  },
  {
   "cell_type": "markdown",
   "id": "117d1769",
   "metadata": {},
   "source": [
    "nombre_infected       697\n",
    "nombre_sain          2162\n",
    "nombre_exposed        506\n",
    "nombre_recovered    16635\n",
    "Name: 611, dtype: int64"
   ]
  },
  {
   "cell_type": "markdown",
   "id": "8097a0df",
   "metadata": {},
   "source": [
    "nombre_infected       720\n",
    "nombre_sain          2158\n",
    "nombre_exposed        480\n",
    "nombre_recovered    16642\n",
    "Name: 612, dtype: int64"
   ]
  },
  {
   "cell_type": "markdown",
   "id": "e8b0c512",
   "metadata": {},
   "source": [
    "nombre_infected       737\n",
    "nombre_sain          2180\n",
    "nombre_exposed        448\n",
    "nombre_recovered    16635\n",
    "Name: 613, dtype: int64"
   ]
  },
  {
   "cell_type": "markdown",
   "id": "a93da864",
   "metadata": {},
   "source": [
    "nombre_infected       736\n",
    "nombre_sain          2182\n",
    "nombre_exposed        448\n",
    "nombre_recovered    16634\n",
    "Name: 614, dtype: int64"
   ]
  },
  {
   "cell_type": "markdown",
   "id": "5c2c27b0",
   "metadata": {},
   "source": [
    "nombre_infected       718\n",
    "nombre_sain          2178\n",
    "nombre_exposed        469\n",
    "nombre_recovered    16635\n",
    "Name: 615, dtype: int64"
   ]
  },
  {
   "cell_type": "markdown",
   "id": "495ae74c",
   "metadata": {},
   "source": [
    "nombre_infected       727\n",
    "nombre_sain          2187\n",
    "nombre_exposed        461\n",
    "nombre_recovered    16625\n",
    "Name: 616, dtype: int64"
   ]
  },
  {
   "cell_type": "markdown",
   "id": "44701332",
   "metadata": {},
   "source": [
    "nombre_infected       741\n",
    "nombre_sain          2195\n",
    "nombre_exposed        453\n",
    "nombre_recovered    16611\n",
    "Name: 617, dtype: int64"
   ]
  },
  {
   "cell_type": "markdown",
   "id": "a723c31b",
   "metadata": {},
   "source": [
    "nombre_infected       739\n",
    "nombre_sain          2204\n",
    "nombre_exposed        466\n",
    "nombre_recovered    16591\n",
    "Name: 618, dtype: int64"
   ]
  },
  {
   "cell_type": "markdown",
   "id": "2f306426",
   "metadata": {},
   "source": [
    "nombre_infected       733\n",
    "nombre_sain          2234\n",
    "nombre_exposed        456\n",
    "nombre_recovered    16577\n",
    "Name: 619, dtype: int64"
   ]
  },
  {
   "cell_type": "markdown",
   "id": "8414208a",
   "metadata": {},
   "source": [
    "nombre_infected       725\n",
    "nombre_sain          2249\n",
    "nombre_exposed        457\n",
    "nombre_recovered    16569\n",
    "Name: 620, dtype: int64"
   ]
  },
  {
   "cell_type": "markdown",
   "id": "d46f2389",
   "metadata": {},
   "source": [
    "nombre_infected       733\n",
    "nombre_sain          2276\n",
    "nombre_exposed        446\n",
    "nombre_recovered    16545\n",
    "Name: 621, dtype: int64"
   ]
  },
  {
   "cell_type": "markdown",
   "id": "8e07267a",
   "metadata": {},
   "source": [
    "nombre_infected       724\n",
    "nombre_sain          2282\n",
    "nombre_exposed        456\n",
    "nombre_recovered    16538\n",
    "Name: 622, dtype: int64"
   ]
  },
  {
   "cell_type": "markdown",
   "id": "3c439f6f",
   "metadata": {},
   "source": [
    "nombre_infected       724\n",
    "nombre_sain          2307\n",
    "nombre_exposed        457\n",
    "nombre_recovered    16512\n",
    "Name: 623, dtype: int64"
   ]
  },
  {
   "cell_type": "markdown",
   "id": "401eccc1",
   "metadata": {},
   "source": [
    "nombre_infected       722\n",
    "nombre_sain          2326\n",
    "nombre_exposed        477\n",
    "nombre_recovered    16475\n",
    "Name: 624, dtype: int64"
   ]
  },
  {
   "cell_type": "markdown",
   "id": "01edc753",
   "metadata": {},
   "source": [
    "nombre_infected       712\n",
    "nombre_sain          2349\n",
    "nombre_exposed        475\n",
    "nombre_recovered    16464\n",
    "Name: 625, dtype: int64"
   ]
  },
  {
   "cell_type": "markdown",
   "id": "75f969f8",
   "metadata": {},
   "source": [
    "nombre_infected       718\n",
    "nombre_sain          2343\n",
    "nombre_exposed        479\n",
    "nombre_recovered    16460\n",
    "Name: 626, dtype: int64"
   ]
  },
  {
   "cell_type": "markdown",
   "id": "10d73b6d",
   "metadata": {},
   "source": [
    "nombre_infected       752\n",
    "nombre_sain          2381\n",
    "nombre_exposed        466\n",
    "nombre_recovered    16401\n",
    "Name: 627, dtype: int64"
   ]
  },
  {
   "cell_type": "markdown",
   "id": "d78b915a",
   "metadata": {},
   "source": [
    "nombre_infected       770\n",
    "nombre_sain          2398\n",
    "nombre_exposed        451\n",
    "nombre_recovered    16381\n",
    "Name: 628, dtype: int64"
   ]
  },
  {
   "cell_type": "markdown",
   "id": "05d392ce",
   "metadata": {},
   "source": [
    "nombre_infected       750\n",
    "nombre_sain          2382\n",
    "nombre_exposed        476\n",
    "nombre_recovered    16392\n",
    "Name: 629, dtype: int64"
   ]
  },
  {
   "cell_type": "markdown",
   "id": "da0f4648",
   "metadata": {},
   "source": [
    "nombre_infected       742\n",
    "nombre_sain          2373\n",
    "nombre_exposed        487\n",
    "nombre_recovered    16398\n",
    "Name: 630, dtype: int64"
   ]
  },
  {
   "cell_type": "markdown",
   "id": "a95413dd",
   "metadata": {},
   "source": [
    "nombre_infected       760\n",
    "nombre_sain          2389\n",
    "nombre_exposed        458\n",
    "nombre_recovered    16393\n",
    "Name: 631, dtype: int64"
   ]
  },
  {
   "cell_type": "markdown",
   "id": "ba6aa927",
   "metadata": {},
   "source": [
    "nombre_infected       772\n",
    "nombre_sain          2377\n",
    "nombre_exposed        478\n",
    "nombre_recovered    16373\n",
    "Name: 632, dtype: int64"
   ]
  },
  {
   "cell_type": "markdown",
   "id": "b8149a5b",
   "metadata": {},
   "source": [
    "nombre_infected       774\n",
    "nombre_sain          2356\n",
    "nombre_exposed        485\n",
    "nombre_recovered    16385\n",
    "Name: 633, dtype: int64"
   ]
  },
  {
   "cell_type": "markdown",
   "id": "c270a75b",
   "metadata": {},
   "source": [
    "nombre_infected       797\n",
    "nombre_sain          2365\n",
    "nombre_exposed        483\n",
    "nombre_recovered    16355\n",
    "Name: 634, dtype: int64"
   ]
  },
  {
   "cell_type": "markdown",
   "id": "2b114ed5",
   "metadata": {},
   "source": [
    "nombre_infected       787\n",
    "nombre_sain          2378\n",
    "nombre_exposed        485\n",
    "nombre_recovered    16350\n",
    "Name: 635, dtype: int64"
   ]
  },
  {
   "cell_type": "markdown",
   "id": "7f770458",
   "metadata": {},
   "source": [
    "nombre_infected       780\n",
    "nombre_sain          2377\n",
    "nombre_exposed        503\n",
    "nombre_recovered    16340\n",
    "Name: 636, dtype: int64"
   ]
  },
  {
   "cell_type": "markdown",
   "id": "215990da",
   "metadata": {},
   "source": [
    "nombre_infected       770\n",
    "nombre_sain          2360\n",
    "nombre_exposed        507\n",
    "nombre_recovered    16363\n",
    "Name: 637, dtype: int64"
   ]
  },
  {
   "cell_type": "markdown",
   "id": "7f08009d",
   "metadata": {},
   "source": [
    "nombre_infected       771\n",
    "nombre_sain          2365\n",
    "nombre_exposed        510\n",
    "nombre_recovered    16354\n",
    "Name: 638, dtype: int64"
   ]
  },
  {
   "cell_type": "markdown",
   "id": "8c3b1c3b",
   "metadata": {},
   "source": [
    "nombre_infected       766\n",
    "nombre_sain          2367\n",
    "nombre_exposed        505\n",
    "nombre_recovered    16362\n",
    "Name: 639, dtype: int64"
   ]
  },
  {
   "cell_type": "markdown",
   "id": "3bc3e0bd",
   "metadata": {},
   "source": [
    "nombre_infected       775\n",
    "nombre_sain          2359\n",
    "nombre_exposed        514\n",
    "nombre_recovered    16352\n",
    "Name: 640, dtype: int64"
   ]
  },
  {
   "cell_type": "markdown",
   "id": "f4d9e46a",
   "metadata": {},
   "source": [
    "nombre_infected       751\n",
    "nombre_sain          2386\n",
    "nombre_exposed        519\n",
    "nombre_recovered    16344\n",
    "Name: 641, dtype: int64"
   ]
  },
  {
   "cell_type": "markdown",
   "id": "6b800fde",
   "metadata": {},
   "source": [
    "nombre_infected       781\n",
    "nombre_sain          2374\n",
    "nombre_exposed        502\n",
    "nombre_recovered    16343\n",
    "Name: 642, dtype: int64"
   ]
  },
  {
   "cell_type": "markdown",
   "id": "b22a4dca",
   "metadata": {},
   "source": [
    "nombre_infected       776\n",
    "nombre_sain          2375\n",
    "nombre_exposed        510\n",
    "nombre_recovered    16339\n",
    "Name: 643, dtype: int64"
   ]
  },
  {
   "cell_type": "markdown",
   "id": "7f6de279",
   "metadata": {},
   "source": [
    "nombre_infected       785\n",
    "nombre_sain          2366\n",
    "nombre_exposed        518\n",
    "nombre_recovered    16331\n",
    "Name: 644, dtype: int64"
   ]
  },
  {
   "cell_type": "markdown",
   "id": "94283a65",
   "metadata": {},
   "source": [
    "nombre_infected       776\n",
    "nombre_sain          2345\n",
    "nombre_exposed        538\n",
    "nombre_recovered    16341\n",
    "Name: 645, dtype: int64"
   ]
  },
  {
   "cell_type": "markdown",
   "id": "882785c0",
   "metadata": {},
   "source": [
    "nombre_infected       785\n",
    "nombre_sain          2363\n",
    "nombre_exposed        532\n",
    "nombre_recovered    16320\n",
    "Name: 646, dtype: int64"
   ]
  },
  {
   "cell_type": "markdown",
   "id": "f8090437",
   "metadata": {},
   "source": [
    "nombre_infected       794\n",
    "nombre_sain          2355\n",
    "nombre_exposed        524\n",
    "nombre_recovered    16327\n",
    "Name: 647, dtype: int64"
   ]
  },
  {
   "cell_type": "markdown",
   "id": "500a1cf3",
   "metadata": {},
   "source": [
    "nombre_infected       824\n",
    "nombre_sain          2361\n",
    "nombre_exposed        499\n",
    "nombre_recovered    16316\n",
    "Name: 648, dtype: int64"
   ]
  },
  {
   "cell_type": "markdown",
   "id": "0b12b452",
   "metadata": {},
   "source": [
    "nombre_infected       822\n",
    "nombre_sain          2349\n",
    "nombre_exposed        504\n",
    "nombre_recovered    16325\n",
    "Name: 649, dtype: int64"
   ]
  },
  {
   "cell_type": "markdown",
   "id": "f70df5ec",
   "metadata": {},
   "source": [
    "nombre_infected       833\n",
    "nombre_sain          2321\n",
    "nombre_exposed        510\n",
    "nombre_recovered    16336\n",
    "Name: 650, dtype: int64"
   ]
  },
  {
   "cell_type": "markdown",
   "id": "7204d54e",
   "metadata": {},
   "source": [
    "nombre_infected       844\n",
    "nombre_sain          2312\n",
    "nombre_exposed        503\n",
    "nombre_recovered    16341\n",
    "Name: 651, dtype: int64"
   ]
  },
  {
   "cell_type": "markdown",
   "id": "3c503bbf",
   "metadata": {},
   "source": [
    "nombre_infected       852\n",
    "nombre_sain          2275\n",
    "nombre_exposed        510\n",
    "nombre_recovered    16363\n",
    "Name: 652, dtype: int64"
   ]
  },
  {
   "cell_type": "markdown",
   "id": "ebd83bce",
   "metadata": {},
   "source": [
    "nombre_infected       840\n",
    "nombre_sain          2275\n",
    "nombre_exposed        510\n",
    "nombre_recovered    16375\n",
    "Name: 653, dtype: int64"
   ]
  },
  {
   "cell_type": "markdown",
   "id": "ac114b45",
   "metadata": {},
   "source": [
    "nombre_infected       866\n",
    "nombre_sain          2247\n",
    "nombre_exposed        504\n",
    "nombre_recovered    16383\n",
    "Name: 654, dtype: int64"
   ]
  },
  {
   "cell_type": "markdown",
   "id": "ba3569fe",
   "metadata": {},
   "source": [
    "nombre_infected       869\n",
    "nombre_sain          2223\n",
    "nombre_exposed        503\n",
    "nombre_recovered    16405\n",
    "Name: 655, dtype: int64"
   ]
  },
  {
   "cell_type": "markdown",
   "id": "bdabb839",
   "metadata": {},
   "source": [
    "nombre_infected       849\n",
    "nombre_sain          2219\n",
    "nombre_exposed        497\n",
    "nombre_recovered    16435\n",
    "Name: 656, dtype: int64"
   ]
  },
  {
   "cell_type": "markdown",
   "id": "951c59ce",
   "metadata": {},
   "source": [
    "nombre_infected       840\n",
    "nombre_sain          2209\n",
    "nombre_exposed        499\n",
    "nombre_recovered    16452\n",
    "Name: 657, dtype: int64"
   ]
  },
  {
   "cell_type": "markdown",
   "id": "d96e32fa",
   "metadata": {},
   "source": [
    "nombre_infected       843\n",
    "nombre_sain          2200\n",
    "nombre_exposed        481\n",
    "nombre_recovered    16476\n",
    "Name: 658, dtype: int64"
   ]
  },
  {
   "cell_type": "markdown",
   "id": "7fa4810c",
   "metadata": {},
   "source": [
    "nombre_infected       837\n",
    "nombre_sain          2184\n",
    "nombre_exposed        484\n",
    "nombre_recovered    16495\n",
    "Name: 659, dtype: int64"
   ]
  },
  {
   "cell_type": "markdown",
   "id": "0eac0d27",
   "metadata": {},
   "source": [
    "nombre_infected       824\n",
    "nombre_sain          2152\n",
    "nombre_exposed        510\n",
    "nombre_recovered    16514\n",
    "Name: 660, dtype: int64"
   ]
  },
  {
   "cell_type": "markdown",
   "id": "5ed8e5ba",
   "metadata": {},
   "source": [
    "nombre_infected       846\n",
    "nombre_sain          2161\n",
    "nombre_exposed        477\n",
    "nombre_recovered    16516\n",
    "Name: 661, dtype: int64"
   ]
  },
  {
   "cell_type": "markdown",
   "id": "fe0ef06c",
   "metadata": {},
   "source": [
    "nombre_infected       859\n",
    "nombre_sain          2159\n",
    "nombre_exposed        454\n",
    "nombre_recovered    16528\n",
    "Name: 662, dtype: int64"
   ]
  },
  {
   "cell_type": "markdown",
   "id": "a23c45d3",
   "metadata": {},
   "source": [
    "nombre_infected       857\n",
    "nombre_sain          2152\n",
    "nombre_exposed        451\n",
    "nombre_recovered    16540\n",
    "Name: 663, dtype: int64"
   ]
  },
  {
   "cell_type": "markdown",
   "id": "3e23575c",
   "metadata": {},
   "source": [
    "nombre_infected       833\n",
    "nombre_sain          2149\n",
    "nombre_exposed        465\n",
    "nombre_recovered    16553\n",
    "Name: 664, dtype: int64"
   ]
  },
  {
   "cell_type": "markdown",
   "id": "b6a17e3a",
   "metadata": {},
   "source": [
    "nombre_infected       816\n",
    "nombre_sain          2126\n",
    "nombre_exposed        477\n",
    "nombre_recovered    16581\n",
    "Name: 665, dtype: int64"
   ]
  },
  {
   "cell_type": "markdown",
   "id": "66c5d88b",
   "metadata": {},
   "source": [
    "nombre_infected       821\n",
    "nombre_sain          2132\n",
    "nombre_exposed        468\n",
    "nombre_recovered    16579\n",
    "Name: 666, dtype: int64"
   ]
  },
  {
   "cell_type": "markdown",
   "id": "80c081b0",
   "metadata": {},
   "source": [
    "nombre_infected       816\n",
    "nombre_sain          2136\n",
    "nombre_exposed        473\n",
    "nombre_recovered    16575\n",
    "Name: 667, dtype: int64"
   ]
  },
  {
   "cell_type": "markdown",
   "id": "b0c4a5c9",
   "metadata": {},
   "source": [
    "nombre_infected       811\n",
    "nombre_sain          2137\n",
    "nombre_exposed        469\n",
    "nombre_recovered    16583\n",
    "Name: 668, dtype: int64"
   ]
  },
  {
   "cell_type": "markdown",
   "id": "0718ad87",
   "metadata": {},
   "source": [
    "nombre_infected       810\n",
    "nombre_sain          2155\n",
    "nombre_exposed        439\n",
    "nombre_recovered    16596\n",
    "Name: 669, dtype: int64"
   ]
  },
  {
   "cell_type": "markdown",
   "id": "2f790c4b",
   "metadata": {},
   "source": [
    "nombre_infected       787\n",
    "nombre_sain          2142\n",
    "nombre_exposed        454\n",
    "nombre_recovered    16617\n",
    "Name: 670, dtype: int64"
   ]
  },
  {
   "cell_type": "markdown",
   "id": "8a13522d",
   "metadata": {},
   "source": [
    "nombre_infected       762\n",
    "nombre_sain          2148\n",
    "nombre_exposed        462\n",
    "nombre_recovered    16628\n",
    "Name: 671, dtype: int64"
   ]
  },
  {
   "cell_type": "markdown",
   "id": "5c759991",
   "metadata": {},
   "source": [
    "nombre_infected       758\n",
    "nombre_sain          2151\n",
    "nombre_exposed        458\n",
    "nombre_recovered    16633\n",
    "Name: 672, dtype: int64"
   ]
  },
  {
   "cell_type": "markdown",
   "id": "02599da6",
   "metadata": {},
   "source": [
    "nombre_infected       738\n",
    "nombre_sain          2149\n",
    "nombre_exposed        480\n",
    "nombre_recovered    16633\n",
    "Name: 673, dtype: int64"
   ]
  },
  {
   "cell_type": "markdown",
   "id": "a4f57f23",
   "metadata": {},
   "source": [
    "nombre_infected       738\n",
    "nombre_sain          2160\n",
    "nombre_exposed        480\n",
    "nombre_recovered    16622\n",
    "Name: 674, dtype: int64"
   ]
  },
  {
   "cell_type": "markdown",
   "id": "11be1caf",
   "metadata": {},
   "source": [
    "nombre_infected       744\n",
    "nombre_sain          2161\n",
    "nombre_exposed        458\n",
    "nombre_recovered    16637\n",
    "Name: 675, dtype: int64"
   ]
  },
  {
   "cell_type": "markdown",
   "id": "799ecd4f",
   "metadata": {},
   "source": [
    "nombre_infected       730\n",
    "nombre_sain          2181\n",
    "nombre_exposed        451\n",
    "nombre_recovered    16638\n",
    "Name: 676, dtype: int64"
   ]
  },
  {
   "cell_type": "markdown",
   "id": "7633e361",
   "metadata": {},
   "source": [
    "nombre_infected       730\n",
    "nombre_sain          2191\n",
    "nombre_exposed        457\n",
    "nombre_recovered    16622\n",
    "Name: 677, dtype: int64"
   ]
  },
  {
   "cell_type": "markdown",
   "id": "694cfb1f",
   "metadata": {},
   "source": [
    "nombre_infected       753\n",
    "nombre_sain          2240\n",
    "nombre_exposed        433\n",
    "nombre_recovered    16574\n",
    "Name: 678, dtype: int64"
   ]
  },
  {
   "cell_type": "markdown",
   "id": "99deb1d0",
   "metadata": {},
   "source": [
    "nombre_infected       752\n",
    "nombre_sain          2294\n",
    "nombre_exposed        414\n",
    "nombre_recovered    16540\n",
    "Name: 679, dtype: int64"
   ]
  },
  {
   "cell_type": "markdown",
   "id": "6ca8be8c",
   "metadata": {},
   "source": [
    "nombre_infected       755\n",
    "nombre_sain          2308\n",
    "nombre_exposed        411\n",
    "nombre_recovered    16526\n",
    "Name: 680, dtype: int64"
   ]
  },
  {
   "cell_type": "markdown",
   "id": "42804d45",
   "metadata": {},
   "source": [
    "nombre_infected       737\n",
    "nombre_sain          2345\n",
    "nombre_exposed        436\n",
    "nombre_recovered    16482\n",
    "Name: 681, dtype: int64"
   ]
  },
  {
   "cell_type": "markdown",
   "id": "4175c79a",
   "metadata": {},
   "source": [
    "nombre_infected       727\n",
    "nombre_sain          2391\n",
    "nombre_exposed        453\n",
    "nombre_recovered    16429\n",
    "Name: 682, dtype: int64"
   ]
  },
  {
   "cell_type": "markdown",
   "id": "ec85fbd9",
   "metadata": {},
   "source": [
    "nombre_infected       739\n",
    "nombre_sain          2404\n",
    "nombre_exposed        461\n",
    "nombre_recovered    16396\n",
    "Name: 683, dtype: int64"
   ]
  },
  {
   "cell_type": "markdown",
   "id": "3985c4b5",
   "metadata": {},
   "source": [
    "nombre_infected       720\n",
    "nombre_sain          2416\n",
    "nombre_exposed        483\n",
    "nombre_recovered    16381\n",
    "Name: 684, dtype: int64"
   ]
  },
  {
   "cell_type": "markdown",
   "id": "8e0df8d4",
   "metadata": {},
   "source": [
    "nombre_infected       733\n",
    "nombre_sain          2446\n",
    "nombre_exposed        467\n",
    "nombre_recovered    16354\n",
    "Name: 685, dtype: int64"
   ]
  },
  {
   "cell_type": "markdown",
   "id": "80c25098",
   "metadata": {},
   "source": [
    "nombre_infected       730\n",
    "nombre_sain          2439\n",
    "nombre_exposed        496\n",
    "nombre_recovered    16335\n",
    "Name: 686, dtype: int64"
   ]
  },
  {
   "cell_type": "markdown",
   "id": "e9102b51",
   "metadata": {},
   "source": [
    "nombre_infected       728\n",
    "nombre_sain          2450\n",
    "nombre_exposed        498\n",
    "nombre_recovered    16324\n",
    "Name: 687, dtype: int64"
   ]
  },
  {
   "cell_type": "markdown",
   "id": "e41b4c68",
   "metadata": {},
   "source": [
    "nombre_infected       733\n",
    "nombre_sain          2459\n",
    "nombre_exposed        507\n",
    "nombre_recovered    16301\n",
    "Name: 688, dtype: int64"
   ]
  },
  {
   "cell_type": "markdown",
   "id": "e0db47e3",
   "metadata": {},
   "source": [
    "nombre_infected       748\n",
    "nombre_sain          2457\n",
    "nombre_exposed        509\n",
    "nombre_recovered    16286\n",
    "Name: 689, dtype: int64"
   ]
  },
  {
   "cell_type": "markdown",
   "id": "c7169f1e",
   "metadata": {},
   "source": [
    "nombre_infected       762\n",
    "nombre_sain          2479\n",
    "nombre_exposed        496\n",
    "nombre_recovered    16263\n",
    "Name: 690, dtype: int64"
   ]
  },
  {
   "cell_type": "markdown",
   "id": "6793dd86",
   "metadata": {},
   "source": [
    "nombre_infected       775\n",
    "nombre_sain          2489\n",
    "nombre_exposed        485\n",
    "nombre_recovered    16251\n",
    "Name: 691, dtype: int64"
   ]
  },
  {
   "cell_type": "markdown",
   "id": "724edee5",
   "metadata": {},
   "source": [
    "nombre_infected       789\n",
    "nombre_sain          2485\n",
    "nombre_exposed        506\n",
    "nombre_recovered    16220\n",
    "Name: 692, dtype: int64"
   ]
  },
  {
   "cell_type": "markdown",
   "id": "001d1a09",
   "metadata": {},
   "source": [
    "nombre_infected       765\n",
    "nombre_sain          2488\n",
    "nombre_exposed        511\n",
    "nombre_recovered    16236\n",
    "Name: 693, dtype: int64"
   ]
  },
  {
   "cell_type": "markdown",
   "id": "6de84c22",
   "metadata": {},
   "source": [
    "nombre_infected       772\n",
    "nombre_sain          2468\n",
    "nombre_exposed        532\n",
    "nombre_recovered    16228\n",
    "Name: 694, dtype: int64"
   ]
  },
  {
   "cell_type": "markdown",
   "id": "d5f968f5",
   "metadata": {},
   "source": [
    "nombre_infected       782\n",
    "nombre_sain          2472\n",
    "nombre_exposed        530\n",
    "nombre_recovered    16216\n",
    "Name: 695, dtype: int64"
   ]
  },
  {
   "cell_type": "markdown",
   "id": "d0454a0b",
   "metadata": {},
   "source": [
    "nombre_infected       795\n",
    "nombre_sain          2431\n",
    "nombre_exposed        558\n",
    "nombre_recovered    16216\n",
    "Name: 696, dtype: int64"
   ]
  },
  {
   "cell_type": "markdown",
   "id": "bde9ba40",
   "metadata": {},
   "source": [
    "nombre_infected       803\n",
    "nombre_sain          2443\n",
    "nombre_exposed        535\n",
    "nombre_recovered    16219\n",
    "Name: 697, dtype: int64"
   ]
  },
  {
   "cell_type": "markdown",
   "id": "8a1eee4e",
   "metadata": {},
   "source": [
    "nombre_infected       811\n",
    "nombre_sain          2422\n",
    "nombre_exposed        555\n",
    "nombre_recovered    16212\n",
    "Name: 698, dtype: int64"
   ]
  },
  {
   "cell_type": "markdown",
   "id": "d73f1751",
   "metadata": {},
   "source": [
    "nombre_infected       815\n",
    "nombre_sain          2400\n",
    "nombre_exposed        559\n",
    "nombre_recovered    16226\n",
    "Name: 699, dtype: int64"
   ]
  },
  {
   "cell_type": "markdown",
   "id": "6cf8c0f0",
   "metadata": {},
   "source": [
    "nombre_infected       818\n",
    "nombre_sain          2400\n",
    "nombre_exposed        574\n",
    "nombre_recovered    16208\n",
    "Name: 700, dtype: int64"
   ]
  },
  {
   "cell_type": "markdown",
   "id": "e89b23e4",
   "metadata": {},
   "source": [
    "nombre_infected       830\n",
    "nombre_sain          2399\n",
    "nombre_exposed        558\n",
    "nombre_recovered    16213\n",
    "Name: 701, dtype: int64"
   ]
  },
  {
   "cell_type": "markdown",
   "id": "dea341f6",
   "metadata": {},
   "source": [
    "nombre_infected       808\n",
    "nombre_sain          2406\n",
    "nombre_exposed        588\n",
    "nombre_recovered    16198\n",
    "Name: 702, dtype: int64"
   ]
  },
  {
   "cell_type": "markdown",
   "id": "68304cd0",
   "metadata": {},
   "source": [
    "nombre_infected       819\n",
    "nombre_sain          2413\n",
    "nombre_exposed        583\n",
    "nombre_recovered    16185\n",
    "Name: 703, dtype: int64"
   ]
  },
  {
   "cell_type": "markdown",
   "id": "e9259d24",
   "metadata": {},
   "source": [
    "nombre_infected       815\n",
    "nombre_sain          2406\n",
    "nombre_exposed        582\n",
    "nombre_recovered    16197\n",
    "Name: 704, dtype: int64"
   ]
  },
  {
   "cell_type": "markdown",
   "id": "3b0b4217",
   "metadata": {},
   "source": [
    "nombre_infected       819\n",
    "nombre_sain          2404\n",
    "nombre_exposed        573\n",
    "nombre_recovered    16204\n",
    "Name: 705, dtype: int64"
   ]
  },
  {
   "cell_type": "markdown",
   "id": "bbc22888",
   "metadata": {},
   "source": [
    "nombre_infected       841\n",
    "nombre_sain          2416\n",
    "nombre_exposed        549\n",
    "nombre_recovered    16194\n",
    "Name: 706, dtype: int64"
   ]
  },
  {
   "cell_type": "markdown",
   "id": "f8c3b8a5",
   "metadata": {},
   "source": [
    "nombre_infected       844\n",
    "nombre_sain          2424\n",
    "nombre_exposed        554\n",
    "nombre_recovered    16178\n",
    "Name: 707, dtype: int64"
   ]
  },
  {
   "cell_type": "markdown",
   "id": "a5927454",
   "metadata": {},
   "source": [
    "nombre_infected       855\n",
    "nombre_sain          2435\n",
    "nombre_exposed        552\n",
    "nombre_recovered    16158\n",
    "Name: 708, dtype: int64"
   ]
  },
  {
   "cell_type": "markdown",
   "id": "e05f6962",
   "metadata": {},
   "source": [
    "nombre_infected       841\n",
    "nombre_sain          2407\n",
    "nombre_exposed        582\n",
    "nombre_recovered    16170\n",
    "Name: 709, dtype: int64"
   ]
  },
  {
   "cell_type": "markdown",
   "id": "ff434097",
   "metadata": {},
   "source": [
    "nombre_infected       861\n",
    "nombre_sain          2390\n",
    "nombre_exposed        594\n",
    "nombre_recovered    16155\n",
    "Name: 710, dtype: int64"
   ]
  },
  {
   "cell_type": "markdown",
   "id": "86b3fc83",
   "metadata": {},
   "source": [
    "nombre_infected       875\n",
    "nombre_sain          2374\n",
    "nombre_exposed        596\n",
    "nombre_recovered    16155\n",
    "Name: 711, dtype: int64"
   ]
  },
  {
   "cell_type": "markdown",
   "id": "964e4ad4",
   "metadata": {},
   "source": [
    "nombre_infected       910\n",
    "nombre_sain          2351\n",
    "nombre_exposed        580\n",
    "nombre_recovered    16159\n",
    "Name: 712, dtype: int64"
   ]
  },
  {
   "cell_type": "markdown",
   "id": "aee71baf",
   "metadata": {},
   "source": [
    "nombre_infected       924\n",
    "nombre_sain          2333\n",
    "nombre_exposed        569\n",
    "nombre_recovered    16174\n",
    "Name: 713, dtype: int64"
   ]
  },
  {
   "cell_type": "markdown",
   "id": "503cb109",
   "metadata": {},
   "source": [
    "nombre_infected       927\n",
    "nombre_sain          2339\n",
    "nombre_exposed        562\n",
    "nombre_recovered    16172\n",
    "Name: 714, dtype: int64"
   ]
  },
  {
   "cell_type": "markdown",
   "id": "f15a8286",
   "metadata": {},
   "source": [
    "nombre_infected       917\n",
    "nombre_sain          2336\n",
    "nombre_exposed        553\n",
    "nombre_recovered    16194\n",
    "Name: 715, dtype: int64"
   ]
  },
  {
   "cell_type": "markdown",
   "id": "98819f17",
   "metadata": {},
   "source": [
    "nombre_infected       916\n",
    "nombre_sain          2321\n",
    "nombre_exposed        547\n",
    "nombre_recovered    16216\n",
    "Name: 716, dtype: int64"
   ]
  },
  {
   "cell_type": "markdown",
   "id": "6238f51e",
   "metadata": {},
   "source": [
    "nombre_infected       916\n",
    "nombre_sain          2282\n",
    "nombre_exposed        570\n",
    "nombre_recovered    16232\n",
    "Name: 717, dtype: int64"
   ]
  },
  {
   "cell_type": "markdown",
   "id": "20aba847",
   "metadata": {},
   "source": [
    "nombre_infected       899\n",
    "nombre_sain          2250\n",
    "nombre_exposed        588\n",
    "nombre_recovered    16263\n",
    "Name: 718, dtype: int64"
   ]
  },
  {
   "cell_type": "markdown",
   "id": "10aac147",
   "metadata": {},
   "source": [
    "nombre_infected       909\n",
    "nombre_sain          2215\n",
    "nombre_exposed        606\n",
    "nombre_recovered    16270\n",
    "Name: 719, dtype: int64"
   ]
  },
  {
   "cell_type": "markdown",
   "id": "f1365c5d",
   "metadata": {},
   "source": [
    "nombre_infected       918\n",
    "nombre_sain          2200\n",
    "nombre_exposed        602\n",
    "nombre_recovered    16280\n",
    "Name: 720, dtype: int64"
   ]
  },
  {
   "cell_type": "markdown",
   "id": "214af7d1",
   "metadata": {},
   "source": [
    "nombre_infected       941\n",
    "nombre_sain          2202\n",
    "nombre_exposed        587\n",
    "nombre_recovered    16270\n",
    "Name: 721, dtype: int64"
   ]
  },
  {
   "cell_type": "markdown",
   "id": "43622cc9",
   "metadata": {},
   "source": [
    "nombre_infected       912\n",
    "nombre_sain          2176\n",
    "nombre_exposed        604\n",
    "nombre_recovered    16308\n",
    "Name: 722, dtype: int64"
   ]
  },
  {
   "cell_type": "markdown",
   "id": "379a7ee7",
   "metadata": {},
   "source": [
    "nombre_infected       918\n",
    "nombre_sain          2133\n",
    "nombre_exposed        638\n",
    "nombre_recovered    16311\n",
    "Name: 723, dtype: int64"
   ]
  },
  {
   "cell_type": "markdown",
   "id": "6cdaeace",
   "metadata": {},
   "source": [
    "nombre_infected       949\n",
    "nombre_sain          2113\n",
    "nombre_exposed        604\n",
    "nombre_recovered    16334\n",
    "Name: 724, dtype: int64"
   ]
  },
  {
   "cell_type": "markdown",
   "id": "1d2464be",
   "metadata": {},
   "source": [
    "nombre_infected       956\n",
    "nombre_sain          2100\n",
    "nombre_exposed        587\n",
    "nombre_recovered    16357\n",
    "Name: 725, dtype: int64"
   ]
  },
  {
   "cell_type": "markdown",
   "id": "af96c22d",
   "metadata": {},
   "source": [
    "nombre_infected       971\n",
    "nombre_sain          2067\n",
    "nombre_exposed        585\n",
    "nombre_recovered    16377\n",
    "Name: 726, dtype: int64"
   ]
  },
  {
   "cell_type": "markdown",
   "id": "8affef42",
   "metadata": {},
   "source": [
    "nombre_infected       961\n",
    "nombre_sain          2051\n",
    "nombre_exposed        572\n",
    "nombre_recovered    16416\n",
    "Name: 727, dtype: int64"
   ]
  },
  {
   "cell_type": "markdown",
   "id": "88787a2f",
   "metadata": {},
   "source": [
    "nombre_infected       940\n",
    "nombre_sain          2048\n",
    "nombre_exposed        572\n",
    "nombre_recovered    16440\n",
    "Name: 728, dtype: int64"
   ]
  },
  {
   "cell_type": "markdown",
   "id": "daf474ed",
   "metadata": {},
   "source": [
    "nombre_infected       932\n",
    "nombre_sain          2040\n",
    "nombre_exposed        549\n",
    "nombre_recovered    16479\n",
    "Name: 729, dtype: int64"
   ]
  },
  {
   "cell_type": "markdown",
   "id": "c72830ea",
   "metadata": {},
   "source": [
    "nombre_infected       944\n",
    "nombre_sain          2042\n",
    "nombre_exposed        530\n",
    "nombre_recovered    16484\n",
    "Name: 730, dtype: int64"
   ]
  }
 ],
 "metadata": {},
 "nbformat": 4,
 "nbformat_minor": 5
}
