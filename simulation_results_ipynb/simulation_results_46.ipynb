{
 "cells": [
  {
   "cell_type": "markdown",
   "id": "00268581",
   "metadata": {},
   "source": [
    "nombre_infected        20\n",
    "nombre_sain         19980\n",
    "nombre_exposed          0\n",
    "nombre_recovered        0\n",
    "Name: 0, dtype: int64"
   ]
  },
  {
   "cell_type": "markdown",
   "id": "8ebe2d94",
   "metadata": {},
   "source": [
    "nombre_infected        20\n",
    "nombre_sain         19962\n",
    "nombre_exposed         18\n",
    "nombre_recovered        0\n",
    "Name: 1, dtype: int64"
   ]
  },
  {
   "cell_type": "markdown",
   "id": "62907106",
   "metadata": {},
   "source": [
    "nombre_infected        20\n",
    "nombre_sain         19931\n",
    "nombre_exposed         49\n",
    "nombre_recovered        0\n",
    "Name: 2, dtype: int64"
   ]
  },
  {
   "cell_type": "markdown",
   "id": "948346e7",
   "metadata": {},
   "source": [
    "nombre_infected        20\n",
    "nombre_sain         19916\n",
    "nombre_exposed         59\n",
    "nombre_recovered        5\n",
    "Name: 3, dtype: int64"
   ]
  },
  {
   "cell_type": "markdown",
   "id": "4a43fa16",
   "metadata": {},
   "source": [
    "nombre_infected        14\n",
    "nombre_sain         19895\n",
    "nombre_exposed         71\n",
    "nombre_recovered       20\n",
    "Name: 4, dtype: int64"
   ]
  },
  {
   "cell_type": "markdown",
   "id": "540f0ab8",
   "metadata": {},
   "source": [
    "nombre_infected        35\n",
    "nombre_sain         19865\n",
    "nombre_exposed         80\n",
    "nombre_recovered       20\n",
    "Name: 5, dtype: int64"
   ]
  },
  {
   "cell_type": "markdown",
   "id": "083742e5",
   "metadata": {},
   "source": [
    "nombre_infected        44\n",
    "nombre_sain         19821\n",
    "nombre_exposed        113\n",
    "nombre_recovered       22\n",
    "Name: 6, dtype: int64"
   ]
  },
  {
   "cell_type": "markdown",
   "id": "a031e93a",
   "metadata": {},
   "source": [
    "nombre_infected        61\n",
    "nombre_sain         19756\n",
    "nombre_exposed        159\n",
    "nombre_recovered       24\n",
    "Name: 7, dtype: int64"
   ]
  },
  {
   "cell_type": "markdown",
   "id": "1a836da6",
   "metadata": {},
   "source": [
    "nombre_infected        93\n",
    "nombre_sain         19654\n",
    "nombre_exposed        226\n",
    "nombre_recovered       27\n",
    "Name: 8, dtype: int64"
   ]
  },
  {
   "cell_type": "markdown",
   "id": "4e4b996c",
   "metadata": {},
   "source": [
    "nombre_infected       111\n",
    "nombre_sain         19525\n",
    "nombre_exposed        322\n",
    "nombre_recovered       42\n",
    "Name: 9, dtype: int64"
   ]
  },
  {
   "cell_type": "markdown",
   "id": "0f94de4f",
   "metadata": {},
   "source": [
    "nombre_infected       160\n",
    "nombre_sain         19379\n",
    "nombre_exposed        412\n",
    "nombre_recovered       49\n",
    "Name: 10, dtype: int64"
   ]
  },
  {
   "cell_type": "markdown",
   "id": "6db24727",
   "metadata": {},
   "source": [
    "nombre_infected       230\n",
    "nombre_sain         19148\n",
    "nombre_exposed        560\n",
    "nombre_recovered       62\n",
    "Name: 11, dtype: int64"
   ]
  },
  {
   "cell_type": "markdown",
   "id": "0828cba8",
   "metadata": {},
   "source": [
    "nombre_infected       319\n",
    "nombre_sain         18818\n",
    "nombre_exposed        788\n",
    "nombre_recovered       75\n",
    "Name: 12, dtype: int64"
   ]
  },
  {
   "cell_type": "markdown",
   "id": "ea80b6e6",
   "metadata": {},
   "source": [
    "nombre_infected       416\n",
    "nombre_sain         18373\n",
    "nombre_exposed       1113\n",
    "nombre_recovered       98\n",
    "Name: 13, dtype: int64"
   ]
  },
  {
   "cell_type": "markdown",
   "id": "8ca56a98",
   "metadata": {},
   "source": [
    "nombre_infected       585\n",
    "nombre_sain         17864\n",
    "nombre_exposed       1412\n",
    "nombre_recovered      139\n",
    "Name: 14, dtype: int64"
   ]
  },
  {
   "cell_type": "markdown",
   "id": "fb09f641",
   "metadata": {},
   "source": [
    "nombre_infected       804\n",
    "nombre_sain         17094\n",
    "nombre_exposed       1909\n",
    "nombre_recovered      193\n",
    "Name: 15, dtype: int64"
   ]
  },
  {
   "cell_type": "markdown",
   "id": "313f74a0",
   "metadata": {},
   "source": [
    "nombre_infected      1102\n",
    "nombre_sain         16185\n",
    "nombre_exposed       2466\n",
    "nombre_recovered      247\n",
    "Name: 16, dtype: int64"
   ]
  },
  {
   "cell_type": "markdown",
   "id": "1e7e4d22",
   "metadata": {},
   "source": [
    "nombre_infected      1427\n",
    "nombre_sain         15074\n",
    "nombre_exposed       3153\n",
    "nombre_recovered      346\n",
    "Name: 17, dtype: int64"
   ]
  },
  {
   "cell_type": "markdown",
   "id": "123df59c",
   "metadata": {},
   "source": [
    "nombre_infected      1871\n",
    "nombre_sain         13667\n",
    "nombre_exposed       3983\n",
    "nombre_recovered      479\n",
    "Name: 18, dtype: int64"
   ]
  },
  {
   "cell_type": "markdown",
   "id": "baba2cb1",
   "metadata": {},
   "source": [
    "nombre_infected      2481\n",
    "nombre_sain         12120\n",
    "nombre_exposed       4765\n",
    "nombre_recovered      634\n",
    "Name: 19, dtype: int64"
   ]
  },
  {
   "cell_type": "markdown",
   "id": "d440a026",
   "metadata": {},
   "source": [
    "nombre_infected      3178\n",
    "nombre_sain         10315\n",
    "nombre_exposed       5669\n",
    "nombre_recovered      838\n",
    "Name: 20, dtype: int64"
   ]
  },
  {
   "cell_type": "markdown",
   "id": "f92f94a0",
   "metadata": {},
   "source": [
    "nombre_infected     4016\n",
    "nombre_sain         8544\n",
    "nombre_exposed      6332\n",
    "nombre_recovered    1108\n",
    "Name: 21, dtype: int64"
   ]
  },
  {
   "cell_type": "markdown",
   "id": "8406c1e1",
   "metadata": {},
   "source": [
    "nombre_infected     4915\n",
    "nombre_sain         6800\n",
    "nombre_exposed      6853\n",
    "nombre_recovered    1432\n",
    "Name: 22, dtype: int64"
   ]
  },
  {
   "cell_type": "markdown",
   "id": "69d81224",
   "metadata": {},
   "source": [
    "nombre_infected     5926\n",
    "nombre_sain         5189\n",
    "nombre_exposed      6999\n",
    "nombre_recovered    1886\n",
    "Name: 23, dtype: int64"
   ]
  },
  {
   "cell_type": "markdown",
   "id": "8723c2ec",
   "metadata": {},
   "source": [
    "nombre_infected     6798\n",
    "nombre_sain         3825\n",
    "nombre_exposed      6899\n",
    "nombre_recovered    2478\n",
    "Name: 24, dtype: int64"
   ]
  },
  {
   "cell_type": "markdown",
   "id": "97a41bbc",
   "metadata": {},
   "source": [
    "nombre_infected     7701\n",
    "nombre_sain         2679\n",
    "nombre_exposed      6461\n",
    "nombre_recovered    3159\n",
    "Name: 25, dtype: int64"
   ]
  },
  {
   "cell_type": "markdown",
   "id": "6e83c78d",
   "metadata": {},
   "source": [
    "nombre_infected     8507\n",
    "nombre_sain         1853\n",
    "nombre_exposed      5783\n",
    "nombre_recovered    3857\n",
    "Name: 26, dtype: int64"
   ]
  },
  {
   "cell_type": "markdown",
   "id": "632add99",
   "metadata": {},
   "source": [
    "nombre_infected     9014\n",
    "nombre_sain         1239\n",
    "nombre_exposed      4991\n",
    "nombre_recovered    4756\n",
    "Name: 27, dtype: int64"
   ]
  },
  {
   "cell_type": "markdown",
   "id": "8d660276",
   "metadata": {},
   "source": [
    "nombre_infected     9297\n",
    "nombre_sain          867\n",
    "nombre_exposed      4173\n",
    "nombre_recovered    5663\n",
    "Name: 28, dtype: int64"
   ]
  },
  {
   "cell_type": "markdown",
   "id": "0e247b91",
   "metadata": {},
   "source": [
    "nombre_infected     9344\n",
    "nombre_sain          605\n",
    "nombre_exposed      3367\n",
    "nombre_recovered    6684\n",
    "Name: 29, dtype: int64"
   ]
  },
  {
   "cell_type": "markdown",
   "id": "e6393a75",
   "metadata": {},
   "source": [
    "nombre_infected     9198\n",
    "nombre_sain          409\n",
    "nombre_exposed      2692\n",
    "nombre_recovered    7701\n",
    "Name: 30, dtype: int64"
   ]
  },
  {
   "cell_type": "markdown",
   "id": "37e85bf1",
   "metadata": {},
   "source": [
    "nombre_infected     8883\n",
    "nombre_sain          266\n",
    "nombre_exposed      2133\n",
    "nombre_recovered    8718\n",
    "Name: 31, dtype: int64"
   ]
  },
  {
   "cell_type": "markdown",
   "id": "caf95666",
   "metadata": {},
   "source": [
    "nombre_infected     8397\n",
    "nombre_sain          205\n",
    "nombre_exposed      1650\n",
    "nombre_recovered    9748\n",
    "Name: 32, dtype: int64"
   ]
  },
  {
   "cell_type": "markdown",
   "id": "dfb42c9c",
   "metadata": {},
   "source": [
    "nombre_infected      7841\n",
    "nombre_sain           140\n",
    "nombre_exposed       1287\n",
    "nombre_recovered    10732\n",
    "Name: 33, dtype: int64"
   ]
  },
  {
   "cell_type": "markdown",
   "id": "db72b30d",
   "metadata": {},
   "source": [
    "nombre_infected      7194\n",
    "nombre_sain           114\n",
    "nombre_exposed       1001\n",
    "nombre_recovered    11691\n",
    "Name: 34, dtype: int64"
   ]
  },
  {
   "cell_type": "markdown",
   "id": "da7374d5",
   "metadata": {},
   "source": [
    "nombre_infected      6595\n",
    "nombre_sain           105\n",
    "nombre_exposed        760\n",
    "nombre_recovered    12540\n",
    "Name: 35, dtype: int64"
   ]
  },
  {
   "cell_type": "markdown",
   "id": "cbc06245",
   "metadata": {},
   "source": [
    "nombre_infected      6010\n",
    "nombre_sain           103\n",
    "nombre_exposed        571\n",
    "nombre_recovered    13316\n",
    "Name: 36, dtype: int64"
   ]
  },
  {
   "cell_type": "markdown",
   "id": "db50115d",
   "metadata": {},
   "source": [
    "nombre_infected      5399\n",
    "nombre_sain           100\n",
    "nombre_exposed        433\n",
    "nombre_recovered    14068\n",
    "Name: 37, dtype: int64"
   ]
  },
  {
   "cell_type": "markdown",
   "id": "16bc81f8",
   "metadata": {},
   "source": [
    "nombre_infected      4916\n",
    "nombre_sain           108\n",
    "nombre_exposed        336\n",
    "nombre_recovered    14640\n",
    "Name: 38, dtype: int64"
   ]
  },
  {
   "cell_type": "markdown",
   "id": "d27ab145",
   "metadata": {},
   "source": [
    "nombre_infected      4435\n",
    "nombre_sain           107\n",
    "nombre_exposed        272\n",
    "nombre_recovered    15186\n",
    "Name: 39, dtype: int64"
   ]
  },
  {
   "cell_type": "markdown",
   "id": "ebb9cc87",
   "metadata": {},
   "source": [
    "nombre_infected      4019\n",
    "nombre_sain           116\n",
    "nombre_exposed        213\n",
    "nombre_recovered    15652\n",
    "Name: 40, dtype: int64"
   ]
  },
  {
   "cell_type": "markdown",
   "id": "7d5e8c49",
   "metadata": {},
   "source": [
    "nombre_infected      3640\n",
    "nombre_sain           138\n",
    "nombre_exposed        167\n",
    "nombre_recovered    16055\n",
    "Name: 41, dtype: int64"
   ]
  },
  {
   "cell_type": "markdown",
   "id": "a4b80002",
   "metadata": {},
   "source": [
    "nombre_infected      3267\n",
    "nombre_sain           153\n",
    "nombre_exposed        137\n",
    "nombre_recovered    16443\n",
    "Name: 42, dtype: int64"
   ]
  },
  {
   "cell_type": "markdown",
   "id": "6d354b9c",
   "metadata": {},
   "source": [
    "nombre_infected      2917\n",
    "nombre_sain           174\n",
    "nombre_exposed        132\n",
    "nombre_recovered    16777\n",
    "Name: 43, dtype: int64"
   ]
  },
  {
   "cell_type": "markdown",
   "id": "6cc0ea13",
   "metadata": {},
   "source": [
    "nombre_infected      2631\n",
    "nombre_sain           178\n",
    "nombre_exposed        117\n",
    "nombre_recovered    17074\n",
    "Name: 44, dtype: int64"
   ]
  },
  {
   "cell_type": "markdown",
   "id": "cb10dcad",
   "metadata": {},
   "source": [
    "nombre_infected      2377\n",
    "nombre_sain           188\n",
    "nombre_exposed        119\n",
    "nombre_recovered    17316\n",
    "Name: 45, dtype: int64"
   ]
  },
  {
   "cell_type": "markdown",
   "id": "e45934e3",
   "metadata": {},
   "source": [
    "nombre_infected      2132\n",
    "nombre_sain           210\n",
    "nombre_exposed        111\n",
    "nombre_recovered    17547\n",
    "Name: 46, dtype: int64"
   ]
  },
  {
   "cell_type": "markdown",
   "id": "f3fe3295",
   "metadata": {},
   "source": [
    "nombre_infected      1936\n",
    "nombre_sain           236\n",
    "nombre_exposed        101\n",
    "nombre_recovered    17727\n",
    "Name: 47, dtype: int64"
   ]
  },
  {
   "cell_type": "markdown",
   "id": "4df2dfe9",
   "metadata": {},
   "source": [
    "nombre_infected      1752\n",
    "nombre_sain           274\n",
    "nombre_exposed        102\n",
    "nombre_recovered    17872\n",
    "Name: 48, dtype: int64"
   ]
  },
  {
   "cell_type": "markdown",
   "id": "4f9c2ab3",
   "metadata": {},
   "source": [
    "nombre_infected      1591\n",
    "nombre_sain           299\n",
    "nombre_exposed         90\n",
    "nombre_recovered    18020\n",
    "Name: 49, dtype: int64"
   ]
  },
  {
   "cell_type": "markdown",
   "id": "7ce206da",
   "metadata": {},
   "source": [
    "nombre_infected      1452\n",
    "nombre_sain           337\n",
    "nombre_exposed         84\n",
    "nombre_recovered    18127\n",
    "Name: 50, dtype: int64"
   ]
  },
  {
   "cell_type": "markdown",
   "id": "a4c1ddb0",
   "metadata": {},
   "source": [
    "nombre_infected      1334\n",
    "nombre_sain           351\n",
    "nombre_exposed         85\n",
    "nombre_recovered    18230\n",
    "Name: 51, dtype: int64"
   ]
  },
  {
   "cell_type": "markdown",
   "id": "745cecd9",
   "metadata": {},
   "source": [
    "nombre_infected      1217\n",
    "nombre_sain           371\n",
    "nombre_exposed         88\n",
    "nombre_recovered    18324\n",
    "Name: 52, dtype: int64"
   ]
  },
  {
   "cell_type": "markdown",
   "id": "9919e8dd",
   "metadata": {},
   "source": [
    "nombre_infected      1110\n",
    "nombre_sain           408\n",
    "nombre_exposed         82\n",
    "nombre_recovered    18400\n",
    "Name: 53, dtype: int64"
   ]
  },
  {
   "cell_type": "markdown",
   "id": "97c390c9",
   "metadata": {},
   "source": [
    "nombre_infected      1028\n",
    "nombre_sain           438\n",
    "nombre_exposed         94\n",
    "nombre_recovered    18440\n",
    "Name: 54, dtype: int64"
   ]
  },
  {
   "cell_type": "markdown",
   "id": "7e48921c",
   "metadata": {},
   "source": [
    "nombre_infected       948\n",
    "nombre_sain           480\n",
    "nombre_exposed         94\n",
    "nombre_recovered    18478\n",
    "Name: 55, dtype: int64"
   ]
  },
  {
   "cell_type": "markdown",
   "id": "6a33fa0b",
   "metadata": {},
   "source": [
    "nombre_infected       895\n",
    "nombre_sain           528\n",
    "nombre_exposed         94\n",
    "nombre_recovered    18483\n",
    "Name: 56, dtype: int64"
   ]
  },
  {
   "cell_type": "markdown",
   "id": "2c1a1fb6",
   "metadata": {},
   "source": [
    "nombre_infected       836\n",
    "nombre_sain           562\n",
    "nombre_exposed        103\n",
    "nombre_recovered    18499\n",
    "Name: 57, dtype: int64"
   ]
  },
  {
   "cell_type": "markdown",
   "id": "e61a828b",
   "metadata": {},
   "source": [
    "nombre_infected       775\n",
    "nombre_sain           611\n",
    "nombre_exposed        109\n",
    "nombre_recovered    18505\n",
    "Name: 58, dtype: int64"
   ]
  },
  {
   "cell_type": "markdown",
   "id": "d18a4c3b",
   "metadata": {},
   "source": [
    "nombre_infected       733\n",
    "nombre_sain           663\n",
    "nombre_exposed        105\n",
    "nombre_recovered    18499\n",
    "Name: 59, dtype: int64"
   ]
  },
  {
   "cell_type": "markdown",
   "id": "65490169",
   "metadata": {},
   "source": [
    "nombre_infected       669\n",
    "nombre_sain           715\n",
    "nombre_exposed        115\n",
    "nombre_recovered    18501\n",
    "Name: 60, dtype: int64"
   ]
  },
  {
   "cell_type": "markdown",
   "id": "27f27809",
   "metadata": {},
   "source": [
    "nombre_infected       624\n",
    "nombre_sain           760\n",
    "nombre_exposed        120\n",
    "nombre_recovered    18496\n",
    "Name: 61, dtype: int64"
   ]
  },
  {
   "cell_type": "markdown",
   "id": "f14bf3d0",
   "metadata": {},
   "source": [
    "nombre_infected       587\n",
    "nombre_sain           791\n",
    "nombre_exposed        117\n",
    "nombre_recovered    18505\n",
    "Name: 62, dtype: int64"
   ]
  },
  {
   "cell_type": "markdown",
   "id": "a0104315",
   "metadata": {},
   "source": [
    "nombre_infected       546\n",
    "nombre_sain           824\n",
    "nombre_exposed        125\n",
    "nombre_recovered    18505\n",
    "Name: 63, dtype: int64"
   ]
  },
  {
   "cell_type": "markdown",
   "id": "7a95de9c",
   "metadata": {},
   "source": [
    "nombre_infected       519\n",
    "nombre_sain           866\n",
    "nombre_exposed        117\n",
    "nombre_recovered    18498\n",
    "Name: 64, dtype: int64"
   ]
  },
  {
   "cell_type": "markdown",
   "id": "732d04b6",
   "metadata": {},
   "source": [
    "nombre_infected       495\n",
    "nombre_sain           898\n",
    "nombre_exposed        115\n",
    "nombre_recovered    18492\n",
    "Name: 65, dtype: int64"
   ]
  },
  {
   "cell_type": "markdown",
   "id": "f97e0b67",
   "metadata": {},
   "source": [
    "nombre_infected       454\n",
    "nombre_sain           951\n",
    "nombre_exposed        115\n",
    "nombre_recovered    18480\n",
    "Name: 66, dtype: int64"
   ]
  },
  {
   "cell_type": "markdown",
   "id": "bb1b64f5",
   "metadata": {},
   "source": [
    "nombre_infected       425\n",
    "nombre_sain          1005\n",
    "nombre_exposed         99\n",
    "nombre_recovered    18471\n",
    "Name: 67, dtype: int64"
   ]
  },
  {
   "cell_type": "markdown",
   "id": "3f9d893a",
   "metadata": {},
   "source": [
    "nombre_infected       403\n",
    "nombre_sain          1048\n",
    "nombre_exposed         95\n",
    "nombre_recovered    18454\n",
    "Name: 68, dtype: int64"
   ]
  },
  {
   "cell_type": "markdown",
   "id": "fe23ff95",
   "metadata": {},
   "source": [
    "nombre_infected       379\n",
    "nombre_sain          1094\n",
    "nombre_exposed         97\n",
    "nombre_recovered    18430\n",
    "Name: 69, dtype: int64"
   ]
  },
  {
   "cell_type": "markdown",
   "id": "805a89cc",
   "metadata": {},
   "source": [
    "nombre_infected       343\n",
    "nombre_sain          1165\n",
    "nombre_exposed         92\n",
    "nombre_recovered    18400\n",
    "Name: 70, dtype: int64"
   ]
  },
  {
   "cell_type": "markdown",
   "id": "fb7c0706",
   "metadata": {},
   "source": [
    "nombre_infected       322\n",
    "nombre_sain          1214\n",
    "nombre_exposed         89\n",
    "nombre_recovered    18375\n",
    "Name: 71, dtype: int64"
   ]
  },
  {
   "cell_type": "markdown",
   "id": "cf39d38d",
   "metadata": {},
   "source": [
    "nombre_infected       304\n",
    "nombre_sain          1285\n",
    "nombre_exposed         78\n",
    "nombre_recovered    18333\n",
    "Name: 72, dtype: int64"
   ]
  },
  {
   "cell_type": "markdown",
   "id": "bd6d2011",
   "metadata": {},
   "source": [
    "nombre_infected       284\n",
    "nombre_sain          1346\n",
    "nombre_exposed         84\n",
    "nombre_recovered    18286\n",
    "Name: 73, dtype: int64"
   ]
  },
  {
   "cell_type": "markdown",
   "id": "dca6c297",
   "metadata": {},
   "source": [
    "nombre_infected       257\n",
    "nombre_sain          1404\n",
    "nombre_exposed         93\n",
    "nombre_recovered    18246\n",
    "Name: 74, dtype: int64"
   ]
  },
  {
   "cell_type": "markdown",
   "id": "8125685f",
   "metadata": {},
   "source": [
    "nombre_infected       241\n",
    "nombre_sain          1448\n",
    "nombre_exposed         97\n",
    "nombre_recovered    18214\n",
    "Name: 75, dtype: int64"
   ]
  },
  {
   "cell_type": "markdown",
   "id": "92277169",
   "metadata": {},
   "source": [
    "nombre_infected       250\n",
    "nombre_sain          1486\n",
    "nombre_exposed         87\n",
    "nombre_recovered    18177\n",
    "Name: 76, dtype: int64"
   ]
  },
  {
   "cell_type": "markdown",
   "id": "1919a4f4",
   "metadata": {},
   "source": [
    "nombre_infected       233\n",
    "nombre_sain          1538\n",
    "nombre_exposed         83\n",
    "nombre_recovered    18146\n",
    "Name: 77, dtype: int64"
   ]
  },
  {
   "cell_type": "markdown",
   "id": "80e6f729",
   "metadata": {},
   "source": [
    "nombre_infected       218\n",
    "nombre_sain          1583\n",
    "nombre_exposed         87\n",
    "nombre_recovered    18112\n",
    "Name: 78, dtype: int64"
   ]
  },
  {
   "cell_type": "markdown",
   "id": "376b903c",
   "metadata": {},
   "source": [
    "nombre_infected       211\n",
    "nombre_sain          1621\n",
    "nombre_exposed         82\n",
    "nombre_recovered    18086\n",
    "Name: 79, dtype: int64"
   ]
  },
  {
   "cell_type": "markdown",
   "id": "b7802c42",
   "metadata": {},
   "source": [
    "nombre_infected       212\n",
    "nombre_sain          1656\n",
    "nombre_exposed         82\n",
    "nombre_recovered    18050\n",
    "Name: 80, dtype: int64"
   ]
  },
  {
   "cell_type": "markdown",
   "id": "821e13b6",
   "metadata": {},
   "source": [
    "nombre_infected       189\n",
    "nombre_sain          1682\n",
    "nombre_exposed         82\n",
    "nombre_recovered    18047\n",
    "Name: 81, dtype: int64"
   ]
  },
  {
   "cell_type": "markdown",
   "id": "461ed6e7",
   "metadata": {},
   "source": [
    "nombre_infected       177\n",
    "nombre_sain          1733\n",
    "nombre_exposed         71\n",
    "nombre_recovered    18019\n",
    "Name: 82, dtype: int64"
   ]
  },
  {
   "cell_type": "markdown",
   "id": "fb0708db",
   "metadata": {},
   "source": [
    "nombre_infected       166\n",
    "nombre_sain          1762\n",
    "nombre_exposed         71\n",
    "nombre_recovered    18001\n",
    "Name: 83, dtype: int64"
   ]
  },
  {
   "cell_type": "markdown",
   "id": "5e7b50e8",
   "metadata": {},
   "source": [
    "nombre_infected       171\n",
    "nombre_sain          1799\n",
    "nombre_exposed         65\n",
    "nombre_recovered    17965\n",
    "Name: 84, dtype: int64"
   ]
  },
  {
   "cell_type": "markdown",
   "id": "0e47b80f",
   "metadata": {},
   "source": [
    "nombre_infected       163\n",
    "nombre_sain          1821\n",
    "nombre_exposed         64\n",
    "nombre_recovered    17952\n",
    "Name: 85, dtype: int64"
   ]
  },
  {
   "cell_type": "markdown",
   "id": "8d0096e7",
   "metadata": {},
   "source": [
    "nombre_infected       141\n",
    "nombre_sain          1861\n",
    "nombre_exposed         68\n",
    "nombre_recovered    17930\n",
    "Name: 86, dtype: int64"
   ]
  },
  {
   "cell_type": "markdown",
   "id": "95768eb8",
   "metadata": {},
   "source": [
    "nombre_infected       133\n",
    "nombre_sain          1885\n",
    "nombre_exposed         72\n",
    "nombre_recovered    17910\n",
    "Name: 87, dtype: int64"
   ]
  },
  {
   "cell_type": "markdown",
   "id": "058b2d26",
   "metadata": {},
   "source": [
    "nombre_infected       137\n",
    "nombre_sain          1929\n",
    "nombre_exposed         60\n",
    "nombre_recovered    17874\n",
    "Name: 88, dtype: int64"
   ]
  },
  {
   "cell_type": "markdown",
   "id": "51b1fe06",
   "metadata": {},
   "source": [
    "nombre_infected       132\n",
    "nombre_sain          1962\n",
    "nombre_exposed         66\n",
    "nombre_recovered    17840\n",
    "Name: 89, dtype: int64"
   ]
  },
  {
   "cell_type": "markdown",
   "id": "d37e2974",
   "metadata": {},
   "source": [
    "nombre_infected       123\n",
    "nombre_sain          2001\n",
    "nombre_exposed         68\n",
    "nombre_recovered    17808\n",
    "Name: 90, dtype: int64"
   ]
  },
  {
   "cell_type": "markdown",
   "id": "f5fccb8c",
   "metadata": {},
   "source": [
    "nombre_infected       114\n",
    "nombre_sain          2051\n",
    "nombre_exposed         71\n",
    "nombre_recovered    17764\n",
    "Name: 91, dtype: int64"
   ]
  },
  {
   "cell_type": "markdown",
   "id": "7c0d563a",
   "metadata": {},
   "source": [
    "nombre_infected       111\n",
    "nombre_sain          2102\n",
    "nombre_exposed         76\n",
    "nombre_recovered    17711\n",
    "Name: 92, dtype: int64"
   ]
  },
  {
   "cell_type": "markdown",
   "id": "e219a426",
   "metadata": {},
   "source": [
    "nombre_infected       117\n",
    "nombre_sain          2154\n",
    "nombre_exposed         71\n",
    "nombre_recovered    17658\n",
    "Name: 93, dtype: int64"
   ]
  },
  {
   "cell_type": "markdown",
   "id": "62ab9ef8",
   "metadata": {},
   "source": [
    "nombre_infected       120\n",
    "nombre_sain          2201\n",
    "nombre_exposed         65\n",
    "nombre_recovered    17614\n",
    "Name: 94, dtype: int64"
   ]
  },
  {
   "cell_type": "markdown",
   "id": "5db88d45",
   "metadata": {},
   "source": [
    "nombre_infected       125\n",
    "nombre_sain          2243\n",
    "nombre_exposed         65\n",
    "nombre_recovered    17567\n",
    "Name: 95, dtype: int64"
   ]
  },
  {
   "cell_type": "markdown",
   "id": "2f2ff357",
   "metadata": {},
   "source": [
    "nombre_infected       123\n",
    "nombre_sain          2299\n",
    "nombre_exposed         62\n",
    "nombre_recovered    17516\n",
    "Name: 96, dtype: int64"
   ]
  },
  {
   "cell_type": "markdown",
   "id": "38b6f1b0",
   "metadata": {},
   "source": [
    "nombre_infected       115\n",
    "nombre_sain          2350\n",
    "nombre_exposed         73\n",
    "nombre_recovered    17462\n",
    "Name: 97, dtype: int64"
   ]
  },
  {
   "cell_type": "markdown",
   "id": "36aa87ba",
   "metadata": {},
   "source": [
    "nombre_infected       118\n",
    "nombre_sain          2395\n",
    "nombre_exposed         63\n",
    "nombre_recovered    17424\n",
    "Name: 98, dtype: int64"
   ]
  },
  {
   "cell_type": "markdown",
   "id": "359ef253",
   "metadata": {},
   "source": [
    "nombre_infected       123\n",
    "nombre_sain          2426\n",
    "nombre_exposed         66\n",
    "nombre_recovered    17385\n",
    "Name: 99, dtype: int64"
   ]
  },
  {
   "cell_type": "markdown",
   "id": "9633bee1",
   "metadata": {},
   "source": [
    "nombre_infected       122\n",
    "nombre_sain          2468\n",
    "nombre_exposed         70\n",
    "nombre_recovered    17340\n",
    "Name: 100, dtype: int64"
   ]
  },
  {
   "cell_type": "markdown",
   "id": "5dfda21c",
   "metadata": {},
   "source": [
    "nombre_infected       122\n",
    "nombre_sain          2519\n",
    "nombre_exposed         75\n",
    "nombre_recovered    17284\n",
    "Name: 101, dtype: int64"
   ]
  },
  {
   "cell_type": "markdown",
   "id": "51120f87",
   "metadata": {},
   "source": [
    "nombre_infected       122\n",
    "nombre_sain          2550\n",
    "nombre_exposed         80\n",
    "nombre_recovered    17248\n",
    "Name: 102, dtype: int64"
   ]
  },
  {
   "cell_type": "markdown",
   "id": "8a14a104",
   "metadata": {},
   "source": [
    "nombre_infected       130\n",
    "nombre_sain          2596\n",
    "nombre_exposed         71\n",
    "nombre_recovered    17203\n",
    "Name: 103, dtype: int64"
   ]
  },
  {
   "cell_type": "markdown",
   "id": "fc61b9c3",
   "metadata": {},
   "source": [
    "nombre_infected       131\n",
    "nombre_sain          2627\n",
    "nombre_exposed         78\n",
    "nombre_recovered    17164\n",
    "Name: 104, dtype: int64"
   ]
  },
  {
   "cell_type": "markdown",
   "id": "2fafc6a6",
   "metadata": {},
   "source": [
    "nombre_infected       146\n",
    "nombre_sain          2643\n",
    "nombre_exposed         84\n",
    "nombre_recovered    17127\n",
    "Name: 105, dtype: int64"
   ]
  },
  {
   "cell_type": "markdown",
   "id": "1b1f330c",
   "metadata": {},
   "source": [
    "nombre_infected       148\n",
    "nombre_sain          2682\n",
    "nombre_exposed         97\n",
    "nombre_recovered    17073\n",
    "Name: 106, dtype: int64"
   ]
  },
  {
   "cell_type": "markdown",
   "id": "d05b3d7e",
   "metadata": {},
   "source": [
    "nombre_infected       143\n",
    "nombre_sain          2717\n",
    "nombre_exposed        108\n",
    "nombre_recovered    17032\n",
    "Name: 107, dtype: int64"
   ]
  },
  {
   "cell_type": "markdown",
   "id": "3bbbc471",
   "metadata": {},
   "source": [
    "nombre_infected       161\n",
    "nombre_sain          2747\n",
    "nombre_exposed         96\n",
    "nombre_recovered    16996\n",
    "Name: 108, dtype: int64"
   ]
  },
  {
   "cell_type": "markdown",
   "id": "eafaad1a",
   "metadata": {},
   "source": [
    "nombre_infected       159\n",
    "nombre_sain          2783\n",
    "nombre_exposed         95\n",
    "nombre_recovered    16963\n",
    "Name: 109, dtype: int64"
   ]
  },
  {
   "cell_type": "markdown",
   "id": "1d8300d9",
   "metadata": {},
   "source": [
    "nombre_infected       157\n",
    "nombre_sain          2820\n",
    "nombre_exposed         97\n",
    "nombre_recovered    16926\n",
    "Name: 110, dtype: int64"
   ]
  },
  {
   "cell_type": "markdown",
   "id": "9a0301ec",
   "metadata": {},
   "source": [
    "nombre_infected       165\n",
    "nombre_sain          2845\n",
    "nombre_exposed        105\n",
    "nombre_recovered    16885\n",
    "Name: 111, dtype: int64"
   ]
  },
  {
   "cell_type": "markdown",
   "id": "306994bd",
   "metadata": {},
   "source": [
    "nombre_infected       173\n",
    "nombre_sain          2866\n",
    "nombre_exposed        114\n",
    "nombre_recovered    16847\n",
    "Name: 112, dtype: int64"
   ]
  },
  {
   "cell_type": "markdown",
   "id": "f1c731c6",
   "metadata": {},
   "source": [
    "nombre_infected       179\n",
    "nombre_sain          2889\n",
    "nombre_exposed        128\n",
    "nombre_recovered    16804\n",
    "Name: 113, dtype: int64"
   ]
  },
  {
   "cell_type": "markdown",
   "id": "fb436e98",
   "metadata": {},
   "source": [
    "nombre_infected       182\n",
    "nombre_sain          2918\n",
    "nombre_exposed        136\n",
    "nombre_recovered    16764\n",
    "Name: 114, dtype: int64"
   ]
  },
  {
   "cell_type": "markdown",
   "id": "6f8d2a8e",
   "metadata": {},
   "source": [
    "nombre_infected       198\n",
    "nombre_sain          2941\n",
    "nombre_exposed        145\n",
    "nombre_recovered    16716\n",
    "Name: 115, dtype: int64"
   ]
  },
  {
   "cell_type": "markdown",
   "id": "65f48d54",
   "metadata": {},
   "source": [
    "nombre_infected       221\n",
    "nombre_sain          2982\n",
    "nombre_exposed        134\n",
    "nombre_recovered    16663\n",
    "Name: 116, dtype: int64"
   ]
  },
  {
   "cell_type": "markdown",
   "id": "70e0dd91",
   "metadata": {},
   "source": [
    "nombre_infected       252\n",
    "nombre_sain          3018\n",
    "nombre_exposed        121\n",
    "nombre_recovered    16609\n",
    "Name: 117, dtype: int64"
   ]
  },
  {
   "cell_type": "markdown",
   "id": "974a03fa",
   "metadata": {},
   "source": [
    "nombre_infected       251\n",
    "nombre_sain          3063\n",
    "nombre_exposed        135\n",
    "nombre_recovered    16551\n",
    "Name: 118, dtype: int64"
   ]
  },
  {
   "cell_type": "markdown",
   "id": "0cec9cb2",
   "metadata": {},
   "source": [
    "nombre_infected       249\n",
    "nombre_sain          3078\n",
    "nombre_exposed        153\n",
    "nombre_recovered    16520\n",
    "Name: 119, dtype: int64"
   ]
  },
  {
   "cell_type": "markdown",
   "id": "2fecb4c1",
   "metadata": {},
   "source": [
    "nombre_infected       238\n",
    "nombre_sain          3112\n",
    "nombre_exposed        176\n",
    "nombre_recovered    16474\n",
    "Name: 120, dtype: int64"
   ]
  },
  {
   "cell_type": "markdown",
   "id": "2a0c276b",
   "metadata": {},
   "source": [
    "nombre_infected       244\n",
    "nombre_sain          3131\n",
    "nombre_exposed        189\n",
    "nombre_recovered    16436\n",
    "Name: 121, dtype: int64"
   ]
  },
  {
   "cell_type": "markdown",
   "id": "c2fb39f1",
   "metadata": {},
   "source": [
    "nombre_infected       262\n",
    "nombre_sain          3169\n",
    "nombre_exposed        191\n",
    "nombre_recovered    16378\n",
    "Name: 122, dtype: int64"
   ]
  },
  {
   "cell_type": "markdown",
   "id": "b133f2ea",
   "metadata": {},
   "source": [
    "nombre_infected       266\n",
    "nombre_sain          3201\n",
    "nombre_exposed        209\n",
    "nombre_recovered    16324\n",
    "Name: 123, dtype: int64"
   ]
  },
  {
   "cell_type": "markdown",
   "id": "54167570",
   "metadata": {},
   "source": [
    "nombre_infected       288\n",
    "nombre_sain          3246\n",
    "nombre_exposed        201\n",
    "nombre_recovered    16265\n",
    "Name: 124, dtype: int64"
   ]
  },
  {
   "cell_type": "markdown",
   "id": "b834c0c6",
   "metadata": {},
   "source": [
    "nombre_infected       294\n",
    "nombre_sain          3278\n",
    "nombre_exposed        213\n",
    "nombre_recovered    16215\n",
    "Name: 125, dtype: int64"
   ]
  },
  {
   "cell_type": "markdown",
   "id": "69052d66",
   "metadata": {},
   "source": [
    "nombre_infected       304\n",
    "nombre_sain          3291\n",
    "nombre_exposed        228\n",
    "nombre_recovered    16177\n",
    "Name: 126, dtype: int64"
   ]
  },
  {
   "cell_type": "markdown",
   "id": "b157b204",
   "metadata": {},
   "source": [
    "nombre_infected       312\n",
    "nombre_sain          3280\n",
    "nombre_exposed        232\n",
    "nombre_recovered    16176\n",
    "Name: 127, dtype: int64"
   ]
  },
  {
   "cell_type": "markdown",
   "id": "c3082824",
   "metadata": {},
   "source": [
    "nombre_infected       334\n",
    "nombre_sain          3284\n",
    "nombre_exposed        241\n",
    "nombre_recovered    16141\n",
    "Name: 128, dtype: int64"
   ]
  },
  {
   "cell_type": "markdown",
   "id": "f5f95ce8",
   "metadata": {},
   "source": [
    "nombre_infected       358\n",
    "nombre_sain          3285\n",
    "nombre_exposed        257\n",
    "nombre_recovered    16100\n",
    "Name: 129, dtype: int64"
   ]
  },
  {
   "cell_type": "markdown",
   "id": "db082b05",
   "metadata": {},
   "source": [
    "nombre_infected       387\n",
    "nombre_sain          3282\n",
    "nombre_exposed        267\n",
    "nombre_recovered    16064\n",
    "Name: 130, dtype: int64"
   ]
  },
  {
   "cell_type": "markdown",
   "id": "0efc1f4c",
   "metadata": {},
   "source": [
    "nombre_infected       402\n",
    "nombre_sain          3273\n",
    "nombre_exposed        286\n",
    "nombre_recovered    16039\n",
    "Name: 131, dtype: int64"
   ]
  },
  {
   "cell_type": "markdown",
   "id": "1a8b28d3",
   "metadata": {},
   "source": [
    "nombre_infected       423\n",
    "nombre_sain          3256\n",
    "nombre_exposed        302\n",
    "nombre_recovered    16019\n",
    "Name: 132, dtype: int64"
   ]
  },
  {
   "cell_type": "markdown",
   "id": "e925d86c",
   "metadata": {},
   "source": [
    "nombre_infected       452\n",
    "nombre_sain          3230\n",
    "nombre_exposed        323\n",
    "nombre_recovered    15995\n",
    "Name: 133, dtype: int64"
   ]
  },
  {
   "cell_type": "markdown",
   "id": "69877adc",
   "metadata": {},
   "source": [
    "nombre_infected       497\n",
    "nombre_sain          3212\n",
    "nombre_exposed        323\n",
    "nombre_recovered    15968\n",
    "Name: 134, dtype: int64"
   ]
  },
  {
   "cell_type": "markdown",
   "id": "55846016",
   "metadata": {},
   "source": [
    "nombre_infected       512\n",
    "nombre_sain          3191\n",
    "nombre_exposed        329\n",
    "nombre_recovered    15968\n",
    "Name: 135, dtype: int64"
   ]
  },
  {
   "cell_type": "markdown",
   "id": "8fb6425b",
   "metadata": {},
   "source": [
    "nombre_infected       542\n",
    "nombre_sain          3159\n",
    "nombre_exposed        360\n",
    "nombre_recovered    15939\n",
    "Name: 136, dtype: int64"
   ]
  },
  {
   "cell_type": "markdown",
   "id": "1033bed3",
   "metadata": {},
   "source": [
    "nombre_infected       584\n",
    "nombre_sain          3142\n",
    "nombre_exposed        368\n",
    "nombre_recovered    15906\n",
    "Name: 137, dtype: int64"
   ]
  },
  {
   "cell_type": "markdown",
   "id": "08ed7ad3",
   "metadata": {},
   "source": [
    "nombre_infected       598\n",
    "nombre_sain          3108\n",
    "nombre_exposed        392\n",
    "nombre_recovered    15902\n",
    "Name: 138, dtype: int64"
   ]
  },
  {
   "cell_type": "markdown",
   "id": "541bef26",
   "metadata": {},
   "source": [
    "nombre_infected       612\n",
    "nombre_sain          3116\n",
    "nombre_exposed        403\n",
    "nombre_recovered    15869\n",
    "Name: 139, dtype: int64"
   ]
  },
  {
   "cell_type": "markdown",
   "id": "9f4d882c",
   "metadata": {},
   "source": [
    "nombre_infected       657\n",
    "nombre_sain          3079\n",
    "nombre_exposed        413\n",
    "nombre_recovered    15851\n",
    "Name: 140, dtype: int64"
   ]
  },
  {
   "cell_type": "markdown",
   "id": "f3026929",
   "metadata": {},
   "source": [
    "nombre_infected       666\n",
    "nombre_sain          3007\n",
    "nombre_exposed        470\n",
    "nombre_recovered    15857\n",
    "Name: 141, dtype: int64"
   ]
  },
  {
   "cell_type": "markdown",
   "id": "4482a888",
   "metadata": {},
   "source": [
    "nombre_infected       689\n",
    "nombre_sain          2962\n",
    "nombre_exposed        484\n",
    "nombre_recovered    15865\n",
    "Name: 142, dtype: int64"
   ]
  },
  {
   "cell_type": "markdown",
   "id": "6af14b32",
   "metadata": {},
   "source": [
    "nombre_infected       711\n",
    "nombre_sain          2909\n",
    "nombre_exposed        496\n",
    "nombre_recovered    15884\n",
    "Name: 143, dtype: int64"
   ]
  },
  {
   "cell_type": "markdown",
   "id": "da110e6d",
   "metadata": {},
   "source": [
    "nombre_infected       751\n",
    "nombre_sain          2848\n",
    "nombre_exposed        511\n",
    "nombre_recovered    15890\n",
    "Name: 144, dtype: int64"
   ]
  },
  {
   "cell_type": "markdown",
   "id": "5e89b596",
   "metadata": {},
   "source": [
    "nombre_infected       762\n",
    "nombre_sain          2805\n",
    "nombre_exposed        533\n",
    "nombre_recovered    15900\n",
    "Name: 145, dtype: int64"
   ]
  },
  {
   "cell_type": "markdown",
   "id": "77b5ddfc",
   "metadata": {},
   "source": [
    "nombre_infected       770\n",
    "nombre_sain          2733\n",
    "nombre_exposed        551\n",
    "nombre_recovered    15946\n",
    "Name: 146, dtype: int64"
   ]
  },
  {
   "cell_type": "markdown",
   "id": "95dc0acb",
   "metadata": {},
   "source": [
    "nombre_infected       804\n",
    "nombre_sain          2668\n",
    "nombre_exposed        570\n",
    "nombre_recovered    15958\n",
    "Name: 147, dtype: int64"
   ]
  },
  {
   "cell_type": "markdown",
   "id": "4b68d7d5",
   "metadata": {},
   "source": [
    "nombre_infected       838\n",
    "nombre_sain          2600\n",
    "nombre_exposed        565\n",
    "nombre_recovered    15997\n",
    "Name: 148, dtype: int64"
   ]
  },
  {
   "cell_type": "markdown",
   "id": "19792bf0",
   "metadata": {},
   "source": [
    "nombre_infected       861\n",
    "nombre_sain          2513\n",
    "nombre_exposed        586\n",
    "nombre_recovered    16040\n",
    "Name: 149, dtype: int64"
   ]
  },
  {
   "cell_type": "markdown",
   "id": "b08d8f4a",
   "metadata": {},
   "source": [
    "nombre_infected       897\n",
    "nombre_sain          2429\n",
    "nombre_exposed        611\n",
    "nombre_recovered    16063\n",
    "Name: 150, dtype: int64"
   ]
  },
  {
   "cell_type": "markdown",
   "id": "03faa079",
   "metadata": {},
   "source": [
    "nombre_infected       931\n",
    "nombre_sain          2347\n",
    "nombre_exposed        624\n",
    "nombre_recovered    16098\n",
    "Name: 151, dtype: int64"
   ]
  },
  {
   "cell_type": "markdown",
   "id": "d5cc4869",
   "metadata": {},
   "source": [
    "nombre_infected       958\n",
    "nombre_sain          2281\n",
    "nombre_exposed        599\n",
    "nombre_recovered    16162\n",
    "Name: 152, dtype: int64"
   ]
  },
  {
   "cell_type": "markdown",
   "id": "d5af3b9c",
   "metadata": {},
   "source": [
    "nombre_infected       994\n",
    "nombre_sain          2232\n",
    "nombre_exposed        573\n",
    "nombre_recovered    16201\n",
    "Name: 153, dtype: int64"
   ]
  },
  {
   "cell_type": "markdown",
   "id": "a54784b3",
   "metadata": {},
   "source": [
    "nombre_infected      1021\n",
    "nombre_sain          2144\n",
    "nombre_exposed        579\n",
    "nombre_recovered    16256\n",
    "Name: 154, dtype: int64"
   ]
  },
  {
   "cell_type": "markdown",
   "id": "b937d028",
   "metadata": {},
   "source": [
    "nombre_infected      1010\n",
    "nombre_sain          2079\n",
    "nombre_exposed        599\n",
    "nombre_recovered    16312\n",
    "Name: 155, dtype: int64"
   ]
  },
  {
   "cell_type": "markdown",
   "id": "e1206de7",
   "metadata": {},
   "source": [
    "nombre_infected      1026\n",
    "nombre_sain          2041\n",
    "nombre_exposed        564\n",
    "nombre_recovered    16369\n",
    "Name: 156, dtype: int64"
   ]
  },
  {
   "cell_type": "markdown",
   "id": "77d26846",
   "metadata": {},
   "source": [
    "nombre_infected      1037\n",
    "nombre_sain          1993\n",
    "nombre_exposed        556\n",
    "nombre_recovered    16414\n",
    "Name: 157, dtype: int64"
   ]
  },
  {
   "cell_type": "markdown",
   "id": "7530247e",
   "metadata": {},
   "source": [
    "nombre_infected      1049\n",
    "nombre_sain          1913\n",
    "nombre_exposed        573\n",
    "nombre_recovered    16465\n",
    "Name: 158, dtype: int64"
   ]
  },
  {
   "cell_type": "markdown",
   "id": "d9e4e9b6",
   "metadata": {},
   "source": [
    "nombre_infected      1062\n",
    "nombre_sain          1875\n",
    "nombre_exposed        561\n",
    "nombre_recovered    16502\n",
    "Name: 159, dtype: int64"
   ]
  },
  {
   "cell_type": "markdown",
   "id": "213708a1",
   "metadata": {},
   "source": [
    "nombre_infected      1047\n",
    "nombre_sain          1830\n",
    "nombre_exposed        555\n",
    "nombre_recovered    16568\n",
    "Name: 160, dtype: int64"
   ]
  },
  {
   "cell_type": "markdown",
   "id": "93165701",
   "metadata": {},
   "source": [
    "nombre_infected      1049\n",
    "nombre_sain          1789\n",
    "nombre_exposed        523\n",
    "nombre_recovered    16639\n",
    "Name: 161, dtype: int64"
   ]
  },
  {
   "cell_type": "markdown",
   "id": "73643592",
   "metadata": {},
   "source": [
    "nombre_infected      1013\n",
    "nombre_sain          1754\n",
    "nombre_exposed        512\n",
    "nombre_recovered    16721\n",
    "Name: 162, dtype: int64"
   ]
  },
  {
   "cell_type": "markdown",
   "id": "00fd12c0",
   "metadata": {},
   "source": [
    "nombre_infected      1010\n",
    "nombre_sain          1699\n",
    "nombre_exposed        513\n",
    "nombre_recovered    16778\n",
    "Name: 163, dtype: int64"
   ]
  },
  {
   "cell_type": "markdown",
   "id": "70f97151",
   "metadata": {},
   "source": [
    "nombre_infected       997\n",
    "nombre_sain          1659\n",
    "nombre_exposed        510\n",
    "nombre_recovered    16834\n",
    "Name: 164, dtype: int64"
   ]
  },
  {
   "cell_type": "markdown",
   "id": "851103bd",
   "metadata": {},
   "source": [
    "nombre_infected      1014\n",
    "nombre_sain          1626\n",
    "nombre_exposed        450\n",
    "nombre_recovered    16910\n",
    "Name: 165, dtype: int64"
   ]
  },
  {
   "cell_type": "markdown",
   "id": "479e7ac8",
   "metadata": {},
   "source": [
    "nombre_infected      1009\n",
    "nombre_sain          1595\n",
    "nombre_exposed        443\n",
    "nombre_recovered    16953\n",
    "Name: 166, dtype: int64"
   ]
  },
  {
   "cell_type": "markdown",
   "id": "cecfc2f5",
   "metadata": {},
   "source": [
    "nombre_infected       980\n",
    "nombre_sain          1558\n",
    "nombre_exposed        430\n",
    "nombre_recovered    17032\n",
    "Name: 167, dtype: int64"
   ]
  },
  {
   "cell_type": "markdown",
   "id": "926cdb98",
   "metadata": {},
   "source": [
    "nombre_infected       964\n",
    "nombre_sain          1533\n",
    "nombre_exposed        400\n",
    "nombre_recovered    17103\n",
    "Name: 168, dtype: int64"
   ]
  },
  {
   "cell_type": "markdown",
   "id": "0bdc5ddb",
   "metadata": {},
   "source": [
    "nombre_infected       916\n",
    "nombre_sain          1505\n",
    "nombre_exposed        384\n",
    "nombre_recovered    17195\n",
    "Name: 169, dtype: int64"
   ]
  },
  {
   "cell_type": "markdown",
   "id": "03f5a395",
   "metadata": {},
   "source": [
    "nombre_infected       902\n",
    "nombre_sain          1487\n",
    "nombre_exposed        347\n",
    "nombre_recovered    17264\n",
    "Name: 170, dtype: int64"
   ]
  },
  {
   "cell_type": "markdown",
   "id": "0bd6c5c5",
   "metadata": {},
   "source": [
    "nombre_infected       884\n",
    "nombre_sain          1444\n",
    "nombre_exposed        355\n",
    "nombre_recovered    17317\n",
    "Name: 171, dtype: int64"
   ]
  },
  {
   "cell_type": "markdown",
   "id": "84638db1",
   "metadata": {},
   "source": [
    "nombre_infected       865\n",
    "nombre_sain          1421\n",
    "nombre_exposed        348\n",
    "nombre_recovered    17366\n",
    "Name: 172, dtype: int64"
   ]
  },
  {
   "cell_type": "markdown",
   "id": "a41ab7d0",
   "metadata": {},
   "source": [
    "nombre_infected       839\n",
    "nombre_sain          1408\n",
    "nombre_exposed        349\n",
    "nombre_recovered    17404\n",
    "Name: 173, dtype: int64"
   ]
  },
  {
   "cell_type": "markdown",
   "id": "ac3267eb",
   "metadata": {},
   "source": [
    "nombre_infected       830\n",
    "nombre_sain          1396\n",
    "nombre_exposed        328\n",
    "nombre_recovered    17446\n",
    "Name: 174, dtype: int64"
   ]
  },
  {
   "cell_type": "markdown",
   "id": "a81eb290",
   "metadata": {},
   "source": [
    "nombre_infected       791\n",
    "nombre_sain          1383\n",
    "nombre_exposed        318\n",
    "nombre_recovered    17508\n",
    "Name: 175, dtype: int64"
   ]
  },
  {
   "cell_type": "markdown",
   "id": "e2fb11f5",
   "metadata": {},
   "source": [
    "nombre_infected       775\n",
    "nombre_sain          1360\n",
    "nombre_exposed        307\n",
    "nombre_recovered    17558\n",
    "Name: 176, dtype: int64"
   ]
  },
  {
   "cell_type": "markdown",
   "id": "9ead9bc3",
   "metadata": {},
   "source": [
    "nombre_infected       743\n",
    "nombre_sain          1357\n",
    "nombre_exposed        313\n",
    "nombre_recovered    17587\n",
    "Name: 177, dtype: int64"
   ]
  },
  {
   "cell_type": "markdown",
   "id": "9fd23ce3",
   "metadata": {},
   "source": [
    "nombre_infected       716\n",
    "nombre_sain          1353\n",
    "nombre_exposed        298\n",
    "nombre_recovered    17633\n",
    "Name: 178, dtype: int64"
   ]
  },
  {
   "cell_type": "markdown",
   "id": "cd44b0b6",
   "metadata": {},
   "source": [
    "nombre_infected       687\n",
    "nombre_sain          1360\n",
    "nombre_exposed        279\n",
    "nombre_recovered    17674\n",
    "Name: 179, dtype: int64"
   ]
  },
  {
   "cell_type": "markdown",
   "id": "1a30d086",
   "metadata": {},
   "source": [
    "nombre_infected       682\n",
    "nombre_sain          1369\n",
    "nombre_exposed        257\n",
    "nombre_recovered    17692\n",
    "Name: 180, dtype: int64"
   ]
  },
  {
   "cell_type": "markdown",
   "id": "feb0e156",
   "metadata": {},
   "source": [
    "nombre_infected       673\n",
    "nombre_sain          1372\n",
    "nombre_exposed        244\n",
    "nombre_recovered    17711\n",
    "Name: 181, dtype: int64"
   ]
  },
  {
   "cell_type": "markdown",
   "id": "36e68de6",
   "metadata": {},
   "source": [
    "nombre_infected       639\n",
    "nombre_sain          1384\n",
    "nombre_exposed        239\n",
    "nombre_recovered    17738\n",
    "Name: 182, dtype: int64"
   ]
  },
  {
   "cell_type": "markdown",
   "id": "50e7e2d2",
   "metadata": {},
   "source": [
    "nombre_infected       604\n",
    "nombre_sain          1416\n",
    "nombre_exposed        231\n",
    "nombre_recovered    17749\n",
    "Name: 183, dtype: int64"
   ]
  },
  {
   "cell_type": "markdown",
   "id": "d9fa17cc",
   "metadata": {},
   "source": [
    "nombre_infected       583\n",
    "nombre_sain          1430\n",
    "nombre_exposed        226\n",
    "nombre_recovered    17761\n",
    "Name: 184, dtype: int64"
   ]
  },
  {
   "cell_type": "markdown",
   "id": "8ff404a3",
   "metadata": {},
   "source": [
    "nombre_infected       566\n",
    "nombre_sain          1468\n",
    "nombre_exposed        220\n",
    "nombre_recovered    17746\n",
    "Name: 185, dtype: int64"
   ]
  },
  {
   "cell_type": "markdown",
   "id": "bc5961a0",
   "metadata": {},
   "source": [
    "nombre_infected       538\n",
    "nombre_sain          1485\n",
    "nombre_exposed        226\n",
    "nombre_recovered    17751\n",
    "Name: 186, dtype: int64"
   ]
  },
  {
   "cell_type": "markdown",
   "id": "a7e9fbb0",
   "metadata": {},
   "source": [
    "nombre_infected       529\n",
    "nombre_sain          1518\n",
    "nombre_exposed        211\n",
    "nombre_recovered    17742\n",
    "Name: 187, dtype: int64"
   ]
  },
  {
   "cell_type": "markdown",
   "id": "31df8ed9",
   "metadata": {},
   "source": [
    "nombre_infected       516\n",
    "nombre_sain          1533\n",
    "nombre_exposed        204\n",
    "nombre_recovered    17747\n",
    "Name: 188, dtype: int64"
   ]
  },
  {
   "cell_type": "markdown",
   "id": "186be8e9",
   "metadata": {},
   "source": [
    "nombre_infected       514\n",
    "nombre_sain          1567\n",
    "nombre_exposed        199\n",
    "nombre_recovered    17720\n",
    "Name: 189, dtype: int64"
   ]
  },
  {
   "cell_type": "markdown",
   "id": "f4f1cb38",
   "metadata": {},
   "source": [
    "nombre_infected       508\n",
    "nombre_sain          1604\n",
    "nombre_exposed        189\n",
    "nombre_recovered    17699\n",
    "Name: 190, dtype: int64"
   ]
  },
  {
   "cell_type": "markdown",
   "id": "2df9dccb",
   "metadata": {},
   "source": [
    "nombre_infected       485\n",
    "nombre_sain          1639\n",
    "nombre_exposed        189\n",
    "nombre_recovered    17687\n",
    "Name: 191, dtype: int64"
   ]
  },
  {
   "cell_type": "markdown",
   "id": "43b82945",
   "metadata": {},
   "source": [
    "nombre_infected       475\n",
    "nombre_sain          1685\n",
    "nombre_exposed        184\n",
    "nombre_recovered    17656\n",
    "Name: 192, dtype: int64"
   ]
  },
  {
   "cell_type": "markdown",
   "id": "6c12b571",
   "metadata": {},
   "source": [
    "nombre_infected       451\n",
    "nombre_sain          1703\n",
    "nombre_exposed        193\n",
    "nombre_recovered    17653\n",
    "Name: 193, dtype: int64"
   ]
  },
  {
   "cell_type": "markdown",
   "id": "d4b23da0",
   "metadata": {},
   "source": [
    "nombre_infected       435\n",
    "nombre_sain          1743\n",
    "nombre_exposed        183\n",
    "nombre_recovered    17639\n",
    "Name: 194, dtype: int64"
   ]
  },
  {
   "cell_type": "markdown",
   "id": "534c12e0",
   "metadata": {},
   "source": [
    "nombre_infected       429\n",
    "nombre_sain          1771\n",
    "nombre_exposed        181\n",
    "nombre_recovered    17619\n",
    "Name: 195, dtype: int64"
   ]
  },
  {
   "cell_type": "markdown",
   "id": "d826301e",
   "metadata": {},
   "source": [
    "nombre_infected       415\n",
    "nombre_sain          1787\n",
    "nombre_exposed        183\n",
    "nombre_recovered    17615\n",
    "Name: 196, dtype: int64"
   ]
  },
  {
   "cell_type": "markdown",
   "id": "a8d261ef",
   "metadata": {},
   "source": [
    "nombre_infected       402\n",
    "nombre_sain          1804\n",
    "nombre_exposed        196\n",
    "nombre_recovered    17598\n",
    "Name: 197, dtype: int64"
   ]
  },
  {
   "cell_type": "markdown",
   "id": "355928ab",
   "metadata": {},
   "source": [
    "nombre_infected       380\n",
    "nombre_sain          1828\n",
    "nombre_exposed        198\n",
    "nombre_recovered    17594\n",
    "Name: 198, dtype: int64"
   ]
  },
  {
   "cell_type": "markdown",
   "id": "bebd5459",
   "metadata": {},
   "source": [
    "nombre_infected       389\n",
    "nombre_sain          1861\n",
    "nombre_exposed        189\n",
    "nombre_recovered    17561\n",
    "Name: 199, dtype: int64"
   ]
  },
  {
   "cell_type": "markdown",
   "id": "8273ecce",
   "metadata": {},
   "source": [
    "nombre_infected       379\n",
    "nombre_sain          1869\n",
    "nombre_exposed        191\n",
    "nombre_recovered    17561\n",
    "Name: 200, dtype: int64"
   ]
  },
  {
   "cell_type": "markdown",
   "id": "f461ad12",
   "metadata": {},
   "source": [
    "nombre_infected       374\n",
    "nombre_sain          1919\n",
    "nombre_exposed        178\n",
    "nombre_recovered    17529\n",
    "Name: 201, dtype: int64"
   ]
  },
  {
   "cell_type": "markdown",
   "id": "cd57f4bb",
   "metadata": {},
   "source": [
    "nombre_infected       361\n",
    "nombre_sain          1938\n",
    "nombre_exposed        172\n",
    "nombre_recovered    17529\n",
    "Name: 202, dtype: int64"
   ]
  },
  {
   "cell_type": "markdown",
   "id": "71802db7",
   "metadata": {},
   "source": [
    "nombre_infected       353\n",
    "nombre_sain          1966\n",
    "nombre_exposed        170\n",
    "nombre_recovered    17511\n",
    "Name: 203, dtype: int64"
   ]
  },
  {
   "cell_type": "markdown",
   "id": "269a23be",
   "metadata": {},
   "source": [
    "nombre_infected       346\n",
    "nombre_sain          2016\n",
    "nombre_exposed        175\n",
    "nombre_recovered    17463\n",
    "Name: 204, dtype: int64"
   ]
  },
  {
   "cell_type": "markdown",
   "id": "59fa3bfb",
   "metadata": {},
   "source": [
    "nombre_infected       347\n",
    "nombre_sain          2054\n",
    "nombre_exposed        179\n",
    "nombre_recovered    17420\n",
    "Name: 205, dtype: int64"
   ]
  },
  {
   "cell_type": "markdown",
   "id": "454ddc93",
   "metadata": {},
   "source": [
    "nombre_infected       349\n",
    "nombre_sain          2093\n",
    "nombre_exposed        183\n",
    "nombre_recovered    17375\n",
    "Name: 206, dtype: int64"
   ]
  },
  {
   "cell_type": "markdown",
   "id": "6a906cd1",
   "metadata": {},
   "source": [
    "nombre_infected       342\n",
    "nombre_sain          2129\n",
    "nombre_exposed        175\n",
    "nombre_recovered    17354\n",
    "Name: 207, dtype: int64"
   ]
  },
  {
   "cell_type": "markdown",
   "id": "7e89bb48",
   "metadata": {},
   "source": [
    "nombre_infected       344\n",
    "nombre_sain          2161\n",
    "nombre_exposed        186\n",
    "nombre_recovered    17309\n",
    "Name: 208, dtype: int64"
   ]
  },
  {
   "cell_type": "markdown",
   "id": "5a1f2534",
   "metadata": {},
   "source": [
    "nombre_infected       344\n",
    "nombre_sain          2189\n",
    "nombre_exposed        197\n",
    "nombre_recovered    17270\n",
    "Name: 209, dtype: int64"
   ]
  },
  {
   "cell_type": "markdown",
   "id": "272c6a30",
   "metadata": {},
   "source": [
    "nombre_infected       339\n",
    "nombre_sain          2199\n",
    "nombre_exposed        222\n",
    "nombre_recovered    17240\n",
    "Name: 210, dtype: int64"
   ]
  },
  {
   "cell_type": "markdown",
   "id": "0c39d79b",
   "metadata": {},
   "source": [
    "nombre_infected       340\n",
    "nombre_sain          2236\n",
    "nombre_exposed        227\n",
    "nombre_recovered    17197\n",
    "Name: 211, dtype: int64"
   ]
  },
  {
   "cell_type": "markdown",
   "id": "860e9784",
   "metadata": {},
   "source": [
    "nombre_infected       349\n",
    "nombre_sain          2284\n",
    "nombre_exposed        221\n",
    "nombre_recovered    17146\n",
    "Name: 212, dtype: int64"
   ]
  },
  {
   "cell_type": "markdown",
   "id": "634f835d",
   "metadata": {},
   "source": [
    "nombre_infected       369\n",
    "nombre_sain          2305\n",
    "nombre_exposed        236\n",
    "nombre_recovered    17090\n",
    "Name: 213, dtype: int64"
   ]
  },
  {
   "cell_type": "markdown",
   "id": "1687dd43",
   "metadata": {},
   "source": [
    "nombre_infected       372\n",
    "nombre_sain          2352\n",
    "nombre_exposed        226\n",
    "nombre_recovered    17050\n",
    "Name: 214, dtype: int64"
   ]
  },
  {
   "cell_type": "markdown",
   "id": "7b7990a0",
   "metadata": {},
   "source": [
    "nombre_infected       385\n",
    "nombre_sain          2384\n",
    "nombre_exposed        218\n",
    "nombre_recovered    17013\n",
    "Name: 215, dtype: int64"
   ]
  },
  {
   "cell_type": "markdown",
   "id": "843950ce",
   "metadata": {},
   "source": [
    "nombre_infected       375\n",
    "nombre_sain          2408\n",
    "nombre_exposed        245\n",
    "nombre_recovered    16972\n",
    "Name: 216, dtype: int64"
   ]
  },
  {
   "cell_type": "markdown",
   "id": "e46b5df6",
   "metadata": {},
   "source": [
    "nombre_infected       387\n",
    "nombre_sain          2438\n",
    "nombre_exposed        256\n",
    "nombre_recovered    16919\n",
    "Name: 217, dtype: int64"
   ]
  },
  {
   "cell_type": "markdown",
   "id": "1f97a6d7",
   "metadata": {},
   "source": [
    "nombre_infected       402\n",
    "nombre_sain          2472\n",
    "nombre_exposed        252\n",
    "nombre_recovered    16874\n",
    "Name: 218, dtype: int64"
   ]
  },
  {
   "cell_type": "markdown",
   "id": "061c818a",
   "metadata": {},
   "source": [
    "nombre_infected       397\n",
    "nombre_sain          2495\n",
    "nombre_exposed        260\n",
    "nombre_recovered    16848\n",
    "Name: 219, dtype: int64"
   ]
  },
  {
   "cell_type": "markdown",
   "id": "46e5d53f",
   "metadata": {},
   "source": [
    "nombre_infected       419\n",
    "nombre_sain          2521\n",
    "nombre_exposed        241\n",
    "nombre_recovered    16819\n",
    "Name: 220, dtype: int64"
   ]
  },
  {
   "cell_type": "markdown",
   "id": "f9f98eb9",
   "metadata": {},
   "source": [
    "nombre_infected       428\n",
    "nombre_sain          2536\n",
    "nombre_exposed        257\n",
    "nombre_recovered    16779\n",
    "Name: 221, dtype: int64"
   ]
  },
  {
   "cell_type": "markdown",
   "id": "f7b0e60c",
   "metadata": {},
   "source": [
    "nombre_infected       437\n",
    "nombre_sain          2537\n",
    "nombre_exposed        304\n",
    "nombre_recovered    16722\n",
    "Name: 222, dtype: int64"
   ]
  },
  {
   "cell_type": "markdown",
   "id": "a77b5ebe",
   "metadata": {},
   "source": [
    "nombre_infected       454\n",
    "nombre_sain          2548\n",
    "nombre_exposed        314\n",
    "nombre_recovered    16684\n",
    "Name: 223, dtype: int64"
   ]
  },
  {
   "cell_type": "markdown",
   "id": "86f0461e",
   "metadata": {},
   "source": [
    "nombre_infected       484\n",
    "nombre_sain          2568\n",
    "nombre_exposed        307\n",
    "nombre_recovered    16641\n",
    "Name: 224, dtype: int64"
   ]
  },
  {
   "cell_type": "markdown",
   "id": "2c62d723",
   "metadata": {},
   "source": [
    "nombre_infected       493\n",
    "nombre_sain          2583\n",
    "nombre_exposed        318\n",
    "nombre_recovered    16606\n",
    "Name: 225, dtype: int64"
   ]
  },
  {
   "cell_type": "markdown",
   "id": "870319dd",
   "metadata": {},
   "source": [
    "nombre_infected       491\n",
    "nombre_sain          2579\n",
    "nombre_exposed        342\n",
    "nombre_recovered    16588\n",
    "Name: 226, dtype: int64"
   ]
  },
  {
   "cell_type": "markdown",
   "id": "5e9f6cdd",
   "metadata": {},
   "source": [
    "nombre_infected       517\n",
    "nombre_sain          2593\n",
    "nombre_exposed        343\n",
    "nombre_recovered    16547\n",
    "Name: 227, dtype: int64"
   ]
  },
  {
   "cell_type": "markdown",
   "id": "fa0237c5",
   "metadata": {},
   "source": [
    "nombre_infected       543\n",
    "nombre_sain          2599\n",
    "nombre_exposed        344\n",
    "nombre_recovered    16514\n",
    "Name: 228, dtype: int64"
   ]
  },
  {
   "cell_type": "markdown",
   "id": "756de242",
   "metadata": {},
   "source": [
    "nombre_infected       565\n",
    "nombre_sain          2594\n",
    "nombre_exposed        353\n",
    "nombre_recovered    16488\n",
    "Name: 229, dtype: int64"
   ]
  },
  {
   "cell_type": "markdown",
   "id": "cbc74b02",
   "metadata": {},
   "source": [
    "nombre_infected       587\n",
    "nombre_sain          2595\n",
    "nombre_exposed        359\n",
    "nombre_recovered    16459\n",
    "Name: 230, dtype: int64"
   ]
  },
  {
   "cell_type": "markdown",
   "id": "a5b92d70",
   "metadata": {},
   "source": [
    "nombre_infected       591\n",
    "nombre_sain          2581\n",
    "nombre_exposed        390\n",
    "nombre_recovered    16438\n",
    "Name: 231, dtype: int64"
   ]
  },
  {
   "cell_type": "markdown",
   "id": "5886a636",
   "metadata": {},
   "source": [
    "nombre_infected       607\n",
    "nombre_sain          2604\n",
    "nombre_exposed        393\n",
    "nombre_recovered    16396\n",
    "Name: 232, dtype: int64"
   ]
  },
  {
   "cell_type": "markdown",
   "id": "a9cd93e7",
   "metadata": {},
   "source": [
    "nombre_infected       611\n",
    "nombre_sain          2589\n",
    "nombre_exposed        416\n",
    "nombre_recovered    16384\n",
    "Name: 233, dtype: int64"
   ]
  },
  {
   "cell_type": "markdown",
   "id": "3730d9dc",
   "metadata": {},
   "source": [
    "nombre_infected       625\n",
    "nombre_sain          2576\n",
    "nombre_exposed        424\n",
    "nombre_recovered    16375\n",
    "Name: 234, dtype: int64"
   ]
  },
  {
   "cell_type": "markdown",
   "id": "de94c2c5",
   "metadata": {},
   "source": [
    "nombre_infected       658\n",
    "nombre_sain          2568\n",
    "nombre_exposed        426\n",
    "nombre_recovered    16348\n",
    "Name: 235, dtype: int64"
   ]
  },
  {
   "cell_type": "markdown",
   "id": "32270baa",
   "metadata": {},
   "source": [
    "nombre_infected       678\n",
    "nombre_sain          2567\n",
    "nombre_exposed        433\n",
    "nombre_recovered    16322\n",
    "Name: 236, dtype: int64"
   ]
  },
  {
   "cell_type": "markdown",
   "id": "42a6ba54",
   "metadata": {},
   "source": [
    "nombre_infected       716\n",
    "nombre_sain          2578\n",
    "nombre_exposed        425\n",
    "nombre_recovered    16281\n",
    "Name: 237, dtype: int64"
   ]
  },
  {
   "cell_type": "markdown",
   "id": "b3479482",
   "metadata": {},
   "source": [
    "nombre_infected       731\n",
    "nombre_sain          2563\n",
    "nombre_exposed        441\n",
    "nombre_recovered    16265\n",
    "Name: 238, dtype: int64"
   ]
  },
  {
   "cell_type": "markdown",
   "id": "62519b69",
   "metadata": {},
   "source": [
    "nombre_infected       759\n",
    "nombre_sain          2551\n",
    "nombre_exposed        447\n",
    "nombre_recovered    16243\n",
    "Name: 239, dtype: int64"
   ]
  },
  {
   "cell_type": "markdown",
   "id": "4824b378",
   "metadata": {},
   "source": [
    "nombre_infected       780\n",
    "nombre_sain          2538\n",
    "nombre_exposed        448\n",
    "nombre_recovered    16234\n",
    "Name: 240, dtype: int64"
   ]
  },
  {
   "cell_type": "markdown",
   "id": "191f92c3",
   "metadata": {},
   "source": [
    "nombre_infected       792\n",
    "nombre_sain          2500\n",
    "nombre_exposed        474\n",
    "nombre_recovered    16234\n",
    "Name: 241, dtype: int64"
   ]
  },
  {
   "cell_type": "markdown",
   "id": "03885920",
   "metadata": {},
   "source": [
    "nombre_infected       823\n",
    "nombre_sain          2480\n",
    "nombre_exposed        490\n",
    "nombre_recovered    16207\n",
    "Name: 242, dtype: int64"
   ]
  },
  {
   "cell_type": "markdown",
   "id": "ae880ff2",
   "metadata": {},
   "source": [
    "nombre_infected       843\n",
    "nombre_sain          2444\n",
    "nombre_exposed        501\n",
    "nombre_recovered    16212\n",
    "Name: 243, dtype: int64"
   ]
  },
  {
   "cell_type": "markdown",
   "id": "b46cef66",
   "metadata": {},
   "source": [
    "nombre_infected       872\n",
    "nombre_sain          2407\n",
    "nombre_exposed        515\n",
    "nombre_recovered    16206\n",
    "Name: 244, dtype: int64"
   ]
  },
  {
   "cell_type": "markdown",
   "id": "3df5c447",
   "metadata": {},
   "source": [
    "nombre_infected       889\n",
    "nombre_sain          2403\n",
    "nombre_exposed        512\n",
    "nombre_recovered    16196\n",
    "Name: 245, dtype: int64"
   ]
  },
  {
   "cell_type": "markdown",
   "id": "3bb2c550",
   "metadata": {},
   "source": [
    "nombre_infected       922\n",
    "nombre_sain          2378\n",
    "nombre_exposed        508\n",
    "nombre_recovered    16192\n",
    "Name: 246, dtype: int64"
   ]
  },
  {
   "cell_type": "markdown",
   "id": "0b1955e4",
   "metadata": {},
   "source": [
    "nombre_infected       968\n",
    "nombre_sain          2344\n",
    "nombre_exposed        504\n",
    "nombre_recovered    16184\n",
    "Name: 247, dtype: int64"
   ]
  },
  {
   "cell_type": "markdown",
   "id": "bd0d21b6",
   "metadata": {},
   "source": [
    "nombre_infected       969\n",
    "nombre_sain          2305\n",
    "nombre_exposed        523\n",
    "nombre_recovered    16203\n",
    "Name: 248, dtype: int64"
   ]
  },
  {
   "cell_type": "markdown",
   "id": "f099a3a2",
   "metadata": {},
   "source": [
    "nombre_infected       985\n",
    "nombre_sain          2258\n",
    "nombre_exposed        539\n",
    "nombre_recovered    16218\n",
    "Name: 249, dtype: int64"
   ]
  },
  {
   "cell_type": "markdown",
   "id": "3fb80b78",
   "metadata": {},
   "source": [
    "nombre_infected      1005\n",
    "nombre_sain          2239\n",
    "nombre_exposed        543\n",
    "nombre_recovered    16213\n",
    "Name: 250, dtype: int64"
   ]
  },
  {
   "cell_type": "markdown",
   "id": "94cc73a3",
   "metadata": {},
   "source": [
    "nombre_infected      1017\n",
    "nombre_sain          2198\n",
    "nombre_exposed        555\n",
    "nombre_recovered    16230\n",
    "Name: 251, dtype: int64"
   ]
  },
  {
   "cell_type": "markdown",
   "id": "823120c7",
   "metadata": {},
   "source": [
    "nombre_infected      1018\n",
    "nombre_sain          2167\n",
    "nombre_exposed        557\n",
    "nombre_recovered    16258\n",
    "Name: 252, dtype: int64"
   ]
  },
  {
   "cell_type": "markdown",
   "id": "76642314",
   "metadata": {},
   "source": [
    "nombre_infected      1042\n",
    "nombre_sain          2102\n",
    "nombre_exposed        577\n",
    "nombre_recovered    16279\n",
    "Name: 253, dtype: int64"
   ]
  },
  {
   "cell_type": "markdown",
   "id": "873752b3",
   "metadata": {},
   "source": [
    "nombre_infected      1077\n",
    "nombre_sain          2053\n",
    "nombre_exposed        562\n",
    "nombre_recovered    16308\n",
    "Name: 254, dtype: int64"
   ]
  },
  {
   "cell_type": "markdown",
   "id": "ac065a81",
   "metadata": {},
   "source": [
    "nombre_infected      1074\n",
    "nombre_sain          2019\n",
    "nombre_exposed        575\n",
    "nombre_recovered    16332\n",
    "Name: 255, dtype: int64"
   ]
  },
  {
   "cell_type": "markdown",
   "id": "95280cd4",
   "metadata": {},
   "source": [
    "nombre_infected      1082\n",
    "nombre_sain          1998\n",
    "nombre_exposed        582\n",
    "nombre_recovered    16338\n",
    "Name: 256, dtype: int64"
   ]
  },
  {
   "cell_type": "markdown",
   "id": "ac08ba71",
   "metadata": {},
   "source": [
    "nombre_infected      1097\n",
    "nombre_sain          1982\n",
    "nombre_exposed        560\n",
    "nombre_recovered    16361\n",
    "Name: 257, dtype: int64"
   ]
  },
  {
   "cell_type": "markdown",
   "id": "a4330b62",
   "metadata": {},
   "source": [
    "nombre_infected      1133\n",
    "nombre_sain          1953\n",
    "nombre_exposed        552\n",
    "nombre_recovered    16362\n",
    "Name: 258, dtype: int64"
   ]
  },
  {
   "cell_type": "markdown",
   "id": "ea6667c1",
   "metadata": {},
   "source": [
    "nombre_infected      1139\n",
    "nombre_sain          1917\n",
    "nombre_exposed        541\n",
    "nombre_recovered    16403\n",
    "Name: 259, dtype: int64"
   ]
  },
  {
   "cell_type": "markdown",
   "id": "2752cc87",
   "metadata": {},
   "source": [
    "nombre_infected      1145\n",
    "nombre_sain          1899\n",
    "nombre_exposed        537\n",
    "nombre_recovered    16419\n",
    "Name: 260, dtype: int64"
   ]
  },
  {
   "cell_type": "markdown",
   "id": "e7c04a5c",
   "metadata": {},
   "source": [
    "nombre_infected      1147\n",
    "nombre_sain          1887\n",
    "nombre_exposed        541\n",
    "nombre_recovered    16425\n",
    "Name: 261, dtype: int64"
   ]
  },
  {
   "cell_type": "markdown",
   "id": "84559156",
   "metadata": {},
   "source": [
    "nombre_infected      1154\n",
    "nombre_sain          1863\n",
    "nombre_exposed        538\n",
    "nombre_recovered    16445\n",
    "Name: 262, dtype: int64"
   ]
  },
  {
   "cell_type": "markdown",
   "id": "9fc7df32",
   "metadata": {},
   "source": [
    "nombre_infected      1138\n",
    "nombre_sain          1838\n",
    "nombre_exposed        571\n",
    "nombre_recovered    16453\n",
    "Name: 263, dtype: int64"
   ]
  },
  {
   "cell_type": "markdown",
   "id": "da278f76",
   "metadata": {},
   "source": [
    "nombre_infected      1137\n",
    "nombre_sain          1813\n",
    "nombre_exposed        578\n",
    "nombre_recovered    16472\n",
    "Name: 264, dtype: int64"
   ]
  },
  {
   "cell_type": "markdown",
   "id": "b939155a",
   "metadata": {},
   "source": [
    "nombre_infected      1139\n",
    "nombre_sain          1822\n",
    "nombre_exposed        566\n",
    "nombre_recovered    16473\n",
    "Name: 265, dtype: int64"
   ]
  },
  {
   "cell_type": "markdown",
   "id": "c009639d",
   "metadata": {},
   "source": [
    "nombre_infected      1175\n",
    "nombre_sain          1810\n",
    "nombre_exposed        530\n",
    "nombre_recovered    16485\n",
    "Name: 266, dtype: int64"
   ]
  },
  {
   "cell_type": "markdown",
   "id": "8b2c3309",
   "metadata": {},
   "source": [
    "nombre_infected      1175\n",
    "nombre_sain          1807\n",
    "nombre_exposed        528\n",
    "nombre_recovered    16490\n",
    "Name: 267, dtype: int64"
   ]
  },
  {
   "cell_type": "markdown",
   "id": "65af3c9c",
   "metadata": {},
   "source": [
    "nombre_infected      1126\n",
    "nombre_sain          1797\n",
    "nombre_exposed        556\n",
    "nombre_recovered    16521\n",
    "Name: 268, dtype: int64"
   ]
  },
  {
   "cell_type": "markdown",
   "id": "014ae27e",
   "metadata": {},
   "source": [
    "nombre_infected      1146\n",
    "nombre_sain          1801\n",
    "nombre_exposed        534\n",
    "nombre_recovered    16519\n",
    "Name: 269, dtype: int64"
   ]
  },
  {
   "cell_type": "markdown",
   "id": "a9f1806f",
   "metadata": {},
   "source": [
    "nombre_infected      1139\n",
    "nombre_sain          1794\n",
    "nombre_exposed        523\n",
    "nombre_recovered    16544\n",
    "Name: 270, dtype: int64"
   ]
  },
  {
   "cell_type": "markdown",
   "id": "748d016b",
   "metadata": {},
   "source": [
    "nombre_infected      1156\n",
    "nombre_sain          1773\n",
    "nombre_exposed        509\n",
    "nombre_recovered    16562\n",
    "Name: 271, dtype: int64"
   ]
  },
  {
   "cell_type": "markdown",
   "id": "eef2b2d0",
   "metadata": {},
   "source": [
    "nombre_infected      1122\n",
    "nombre_sain          1736\n",
    "nombre_exposed        544\n",
    "nombre_recovered    16598\n",
    "Name: 272, dtype: int64"
   ]
  },
  {
   "cell_type": "markdown",
   "id": "23e3602e",
   "metadata": {},
   "source": [
    "nombre_infected      1123\n",
    "nombre_sain          1736\n",
    "nombre_exposed        531\n",
    "nombre_recovered    16610\n",
    "Name: 273, dtype: int64"
   ]
  },
  {
   "cell_type": "markdown",
   "id": "fd18d39e",
   "metadata": {},
   "source": [
    "nombre_infected      1111\n",
    "nombre_sain          1706\n",
    "nombre_exposed        539\n",
    "nombre_recovered    16644\n",
    "Name: 274, dtype: int64"
   ]
  },
  {
   "cell_type": "markdown",
   "id": "12f555e6",
   "metadata": {},
   "source": [
    "nombre_infected      1097\n",
    "nombre_sain          1687\n",
    "nombre_exposed        546\n",
    "nombre_recovered    16670\n",
    "Name: 275, dtype: int64"
   ]
  },
  {
   "cell_type": "markdown",
   "id": "65637d49",
   "metadata": {},
   "source": [
    "nombre_infected      1074\n",
    "nombre_sain          1675\n",
    "nombre_exposed        529\n",
    "nombre_recovered    16722\n",
    "Name: 276, dtype: int64"
   ]
  },
  {
   "cell_type": "markdown",
   "id": "12a5fc3f",
   "metadata": {},
   "source": [
    "nombre_infected      1050\n",
    "nombre_sain          1659\n",
    "nombre_exposed        532\n",
    "nombre_recovered    16759\n",
    "Name: 277, dtype: int64"
   ]
  },
  {
   "cell_type": "markdown",
   "id": "7ee83578",
   "metadata": {},
   "source": [
    "nombre_infected      1031\n",
    "nombre_sain          1667\n",
    "nombre_exposed        502\n",
    "nombre_recovered    16800\n",
    "Name: 278, dtype: int64"
   ]
  },
  {
   "cell_type": "markdown",
   "id": "11bf2731",
   "metadata": {},
   "source": [
    "nombre_infected      1033\n",
    "nombre_sain          1699\n",
    "nombre_exposed        463\n",
    "nombre_recovered    16805\n",
    "Name: 279, dtype: int64"
   ]
  },
  {
   "cell_type": "markdown",
   "id": "83267f42",
   "metadata": {},
   "source": [
    "nombre_infected      1031\n",
    "nombre_sain          1681\n",
    "nombre_exposed        468\n",
    "nombre_recovered    16820\n",
    "Name: 280, dtype: int64"
   ]
  },
  {
   "cell_type": "markdown",
   "id": "e76bfb5b",
   "metadata": {},
   "source": [
    "nombre_infected      1014\n",
    "nombre_sain          1691\n",
    "nombre_exposed        470\n",
    "nombre_recovered    16825\n",
    "Name: 281, dtype: int64"
   ]
  },
  {
   "cell_type": "markdown",
   "id": "5660eff4",
   "metadata": {},
   "source": [
    "nombre_infected      1003\n",
    "nombre_sain          1687\n",
    "nombre_exposed        455\n",
    "nombre_recovered    16855\n",
    "Name: 282, dtype: int64"
   ]
  },
  {
   "cell_type": "markdown",
   "id": "67b42ed1",
   "metadata": {},
   "source": [
    "nombre_infected       969\n",
    "nombre_sain          1685\n",
    "nombre_exposed        447\n",
    "nombre_recovered    16899\n",
    "Name: 283, dtype: int64"
   ]
  },
  {
   "cell_type": "markdown",
   "id": "4bdafe09",
   "metadata": {},
   "source": [
    "nombre_infected       954\n",
    "nombre_sain          1676\n",
    "nombre_exposed        451\n",
    "nombre_recovered    16919\n",
    "Name: 284, dtype: int64"
   ]
  },
  {
   "cell_type": "markdown",
   "id": "e7a4297e",
   "metadata": {},
   "source": [
    "nombre_infected       949\n",
    "nombre_sain          1693\n",
    "nombre_exposed        449\n",
    "nombre_recovered    16909\n",
    "Name: 285, dtype: int64"
   ]
  },
  {
   "cell_type": "markdown",
   "id": "88dd2612",
   "metadata": {},
   "source": [
    "nombre_infected       915\n",
    "nombre_sain          1699\n",
    "nombre_exposed        448\n",
    "nombre_recovered    16938\n",
    "Name: 286, dtype: int64"
   ]
  },
  {
   "cell_type": "markdown",
   "id": "9055b88a",
   "metadata": {},
   "source": [
    "nombre_infected       903\n",
    "nombre_sain          1714\n",
    "nombre_exposed        427\n",
    "nombre_recovered    16956\n",
    "Name: 287, dtype: int64"
   ]
  },
  {
   "cell_type": "markdown",
   "id": "bac7ff39",
   "metadata": {},
   "source": [
    "nombre_infected       885\n",
    "nombre_sain          1757\n",
    "nombre_exposed        407\n",
    "nombre_recovered    16951\n",
    "Name: 288, dtype: int64"
   ]
  },
  {
   "cell_type": "markdown",
   "id": "3ad10e2d",
   "metadata": {},
   "source": [
    "nombre_infected       871\n",
    "nombre_sain          1804\n",
    "nombre_exposed        390\n",
    "nombre_recovered    16935\n",
    "Name: 289, dtype: int64"
   ]
  },
  {
   "cell_type": "markdown",
   "id": "bbd96181",
   "metadata": {},
   "source": [
    "nombre_infected       884\n",
    "nombre_sain          1830\n",
    "nombre_exposed        354\n",
    "nombre_recovered    16932\n",
    "Name: 290, dtype: int64"
   ]
  },
  {
   "cell_type": "markdown",
   "id": "05c68fad",
   "metadata": {},
   "source": [
    "nombre_infected       865\n",
    "nombre_sain          1855\n",
    "nombre_exposed        358\n",
    "nombre_recovered    16922\n",
    "Name: 291, dtype: int64"
   ]
  },
  {
   "cell_type": "markdown",
   "id": "472b85c6",
   "metadata": {},
   "source": [
    "nombre_infected       861\n",
    "nombre_sain          1870\n",
    "nombre_exposed        372\n",
    "nombre_recovered    16897\n",
    "Name: 292, dtype: int64"
   ]
  },
  {
   "cell_type": "markdown",
   "id": "4f0dc3d1",
   "metadata": {},
   "source": [
    "nombre_infected       841\n",
    "nombre_sain          1887\n",
    "nombre_exposed        372\n",
    "nombre_recovered    16900\n",
    "Name: 293, dtype: int64"
   ]
  },
  {
   "cell_type": "markdown",
   "id": "ab66e6c3",
   "metadata": {},
   "source": [
    "nombre_infected       835\n",
    "nombre_sain          1894\n",
    "nombre_exposed        390\n",
    "nombre_recovered    16881\n",
    "Name: 294, dtype: int64"
   ]
  },
  {
   "cell_type": "markdown",
   "id": "2aec6878",
   "metadata": {},
   "source": [
    "nombre_infected       843\n",
    "nombre_sain          1902\n",
    "nombre_exposed        385\n",
    "nombre_recovered    16870\n",
    "Name: 295, dtype: int64"
   ]
  },
  {
   "cell_type": "markdown",
   "id": "aa29706c",
   "metadata": {},
   "source": [
    "nombre_infected       819\n",
    "nombre_sain          1914\n",
    "nombre_exposed        400\n",
    "nombre_recovered    16867\n",
    "Name: 296, dtype: int64"
   ]
  },
  {
   "cell_type": "markdown",
   "id": "c726c3c8",
   "metadata": {},
   "source": [
    "nombre_infected       835\n",
    "nombre_sain          1945\n",
    "nombre_exposed        370\n",
    "nombre_recovered    16850\n",
    "Name: 297, dtype: int64"
   ]
  },
  {
   "cell_type": "markdown",
   "id": "2ed6eee1",
   "metadata": {},
   "source": [
    "nombre_infected       825\n",
    "nombre_sain          1970\n",
    "nombre_exposed        371\n",
    "nombre_recovered    16834\n",
    "Name: 298, dtype: int64"
   ]
  },
  {
   "cell_type": "markdown",
   "id": "3a1254c3",
   "metadata": {},
   "source": [
    "nombre_infected       821\n",
    "nombre_sain          1945\n",
    "nombre_exposed        403\n",
    "nombre_recovered    16831\n",
    "Name: 299, dtype: int64"
   ]
  },
  {
   "cell_type": "markdown",
   "id": "6d509158",
   "metadata": {},
   "source": [
    "nombre_infected       821\n",
    "nombre_sain          1946\n",
    "nombre_exposed        410\n",
    "nombre_recovered    16823\n",
    "Name: 300, dtype: int64"
   ]
  },
  {
   "cell_type": "markdown",
   "id": "f7e8855f",
   "metadata": {},
   "source": [
    "nombre_infected       812\n",
    "nombre_sain          1978\n",
    "nombre_exposed        407\n",
    "nombre_recovered    16803\n",
    "Name: 301, dtype: int64"
   ]
  },
  {
   "cell_type": "markdown",
   "id": "460394da",
   "metadata": {},
   "source": [
    "nombre_infected       803\n",
    "nombre_sain          2029\n",
    "nombre_exposed        402\n",
    "nombre_recovered    16766\n",
    "Name: 302, dtype: int64"
   ]
  },
  {
   "cell_type": "markdown",
   "id": "0344a024",
   "metadata": {},
   "source": [
    "nombre_infected       808\n",
    "nombre_sain          2040\n",
    "nombre_exposed        413\n",
    "nombre_recovered    16739\n",
    "Name: 303, dtype: int64"
   ]
  },
  {
   "cell_type": "markdown",
   "id": "2babc822",
   "metadata": {},
   "source": [
    "nombre_infected       813\n",
    "nombre_sain          2056\n",
    "nombre_exposed        410\n",
    "nombre_recovered    16721\n",
    "Name: 304, dtype: int64"
   ]
  },
  {
   "cell_type": "markdown",
   "id": "6afc1d2a",
   "metadata": {},
   "source": [
    "nombre_infected       826\n",
    "nombre_sain          2080\n",
    "nombre_exposed        414\n",
    "nombre_recovered    16680\n",
    "Name: 305, dtype: int64"
   ]
  },
  {
   "cell_type": "markdown",
   "id": "1a99c4ee",
   "metadata": {},
   "source": [
    "nombre_infected       830\n",
    "nombre_sain          2105\n",
    "nombre_exposed        426\n",
    "nombre_recovered    16639\n",
    "Name: 306, dtype: int64"
   ]
  },
  {
   "cell_type": "markdown",
   "id": "c4c0332e",
   "metadata": {},
   "source": [
    "nombre_infected       857\n",
    "nombre_sain          2111\n",
    "nombre_exposed        420\n",
    "nombre_recovered    16612\n",
    "Name: 307, dtype: int64"
   ]
  },
  {
   "cell_type": "markdown",
   "id": "56fd3d9d",
   "metadata": {},
   "source": [
    "nombre_infected       860\n",
    "nombre_sain          2130\n",
    "nombre_exposed        416\n",
    "nombre_recovered    16594\n",
    "Name: 308, dtype: int64"
   ]
  },
  {
   "cell_type": "markdown",
   "id": "6b4cd3b3",
   "metadata": {},
   "source": [
    "nombre_infected       854\n",
    "nombre_sain          2101\n",
    "nombre_exposed        457\n",
    "nombre_recovered    16588\n",
    "Name: 309, dtype: int64"
   ]
  },
  {
   "cell_type": "markdown",
   "id": "9b522647",
   "metadata": {},
   "source": [
    "nombre_infected       868\n",
    "nombre_sain          2123\n",
    "nombre_exposed        462\n",
    "nombre_recovered    16547\n",
    "Name: 310, dtype: int64"
   ]
  },
  {
   "cell_type": "markdown",
   "id": "c1d4373d",
   "metadata": {},
   "source": [
    "nombre_infected       881\n",
    "nombre_sain          2116\n",
    "nombre_exposed        450\n",
    "nombre_recovered    16553\n",
    "Name: 311, dtype: int64"
   ]
  },
  {
   "cell_type": "markdown",
   "id": "a739a3cb",
   "metadata": {},
   "source": [
    "nombre_infected       904\n",
    "nombre_sain          2090\n",
    "nombre_exposed        451\n",
    "nombre_recovered    16555\n",
    "Name: 312, dtype: int64"
   ]
  },
  {
   "cell_type": "markdown",
   "id": "56933c1c",
   "metadata": {},
   "source": [
    "nombre_infected       892\n",
    "nombre_sain          2095\n",
    "nombre_exposed        454\n",
    "nombre_recovered    16559\n",
    "Name: 313, dtype: int64"
   ]
  },
  {
   "cell_type": "markdown",
   "id": "77eb46b4",
   "metadata": {},
   "source": [
    "nombre_infected       913\n",
    "nombre_sain          2079\n",
    "nombre_exposed        435\n",
    "nombre_recovered    16573\n",
    "Name: 314, dtype: int64"
   ]
  },
  {
   "cell_type": "markdown",
   "id": "0cdfd615",
   "metadata": {},
   "source": [
    "nombre_infected       901\n",
    "nombre_sain          2082\n",
    "nombre_exposed        433\n",
    "nombre_recovered    16584\n",
    "Name: 315, dtype: int64"
   ]
  },
  {
   "cell_type": "markdown",
   "id": "8354fadf",
   "metadata": {},
   "source": [
    "nombre_infected       899\n",
    "nombre_sain          2081\n",
    "nombre_exposed        436\n",
    "nombre_recovered    16584\n",
    "Name: 316, dtype: int64"
   ]
  },
  {
   "cell_type": "markdown",
   "id": "5629fb0d",
   "metadata": {},
   "source": [
    "nombre_infected       923\n",
    "nombre_sain          2074\n",
    "nombre_exposed        431\n",
    "nombre_recovered    16572\n",
    "Name: 317, dtype: int64"
   ]
  },
  {
   "cell_type": "markdown",
   "id": "c68ae5d4",
   "metadata": {},
   "source": [
    "nombre_infected       937\n",
    "nombre_sain          2055\n",
    "nombre_exposed        445\n",
    "nombre_recovered    16563\n",
    "Name: 318, dtype: int64"
   ]
  },
  {
   "cell_type": "markdown",
   "id": "4510b1b5",
   "metadata": {},
   "source": [
    "nombre_infected       936\n",
    "nombre_sain          2032\n",
    "nombre_exposed        440\n",
    "nombre_recovered    16592\n",
    "Name: 319, dtype: int64"
   ]
  },
  {
   "cell_type": "markdown",
   "id": "c66de895",
   "metadata": {},
   "source": [
    "nombre_infected       899\n",
    "nombre_sain          2031\n",
    "nombre_exposed        475\n",
    "nombre_recovered    16595\n",
    "Name: 320, dtype: int64"
   ]
  },
  {
   "cell_type": "markdown",
   "id": "e268baa1",
   "metadata": {},
   "source": [
    "nombre_infected       899\n",
    "nombre_sain          2032\n",
    "nombre_exposed        479\n",
    "nombre_recovered    16590\n",
    "Name: 321, dtype: int64"
   ]
  },
  {
   "cell_type": "markdown",
   "id": "094e430f",
   "metadata": {},
   "source": [
    "nombre_infected       908\n",
    "nombre_sain          2037\n",
    "nombre_exposed        461\n",
    "nombre_recovered    16594\n",
    "Name: 322, dtype: int64"
   ]
  },
  {
   "cell_type": "markdown",
   "id": "507f4dbd",
   "metadata": {},
   "source": [
    "nombre_infected       928\n",
    "nombre_sain          2025\n",
    "nombre_exposed        447\n",
    "nombre_recovered    16600\n",
    "Name: 323, dtype: int64"
   ]
  },
  {
   "cell_type": "markdown",
   "id": "1cbb9524",
   "metadata": {},
   "source": [
    "nombre_infected       914\n",
    "nombre_sain          2032\n",
    "nombre_exposed        445\n",
    "nombre_recovered    16609\n",
    "Name: 324, dtype: int64"
   ]
  },
  {
   "cell_type": "markdown",
   "id": "e61f5cf9",
   "metadata": {},
   "source": [
    "nombre_infected       941\n",
    "nombre_sain          2005\n",
    "nombre_exposed        433\n",
    "nombre_recovered    16621\n",
    "Name: 325, dtype: int64"
   ]
  },
  {
   "cell_type": "markdown",
   "id": "18581c07",
   "metadata": {},
   "source": [
    "nombre_infected       946\n",
    "nombre_sain          1981\n",
    "nombre_exposed        449\n",
    "nombre_recovered    16624\n",
    "Name: 326, dtype: int64"
   ]
  },
  {
   "cell_type": "markdown",
   "id": "899b5db2",
   "metadata": {},
   "source": [
    "nombre_infected       943\n",
    "nombre_sain          1965\n",
    "nombre_exposed        483\n",
    "nombre_recovered    16609\n",
    "Name: 327, dtype: int64"
   ]
  },
  {
   "cell_type": "markdown",
   "id": "e13243df",
   "metadata": {},
   "source": [
    "nombre_infected       952\n",
    "nombre_sain          1960\n",
    "nombre_exposed        478\n",
    "nombre_recovered    16610\n",
    "Name: 328, dtype: int64"
   ]
  },
  {
   "cell_type": "markdown",
   "id": "b38c6f81",
   "metadata": {},
   "source": [
    "nombre_infected       984\n",
    "nombre_sain          1974\n",
    "nombre_exposed        449\n",
    "nombre_recovered    16593\n",
    "Name: 329, dtype: int64"
   ]
  },
  {
   "cell_type": "markdown",
   "id": "a1b050c9",
   "metadata": {},
   "source": [
    "nombre_infected       978\n",
    "nombre_sain          1955\n",
    "nombre_exposed        456\n",
    "nombre_recovered    16611\n",
    "Name: 330, dtype: int64"
   ]
  },
  {
   "cell_type": "markdown",
   "id": "28c173ae",
   "metadata": {},
   "source": [
    "nombre_infected      1000\n",
    "nombre_sain          1917\n",
    "nombre_exposed        448\n",
    "nombre_recovered    16635\n",
    "Name: 331, dtype: int64"
   ]
  },
  {
   "cell_type": "markdown",
   "id": "19b04b5e",
   "metadata": {},
   "source": [
    "nombre_infected      1024\n",
    "nombre_sain          1870\n",
    "nombre_exposed        475\n",
    "nombre_recovered    16631\n",
    "Name: 332, dtype: int64"
   ]
  },
  {
   "cell_type": "markdown",
   "id": "d73c0019",
   "metadata": {},
   "source": [
    "nombre_infected      1035\n",
    "nombre_sain          1850\n",
    "nombre_exposed        479\n",
    "nombre_recovered    16636\n",
    "Name: 333, dtype: int64"
   ]
  },
  {
   "cell_type": "markdown",
   "id": "7de61520",
   "metadata": {},
   "source": [
    "nombre_infected      1055\n",
    "nombre_sain          1842\n",
    "nombre_exposed        459\n",
    "nombre_recovered    16644\n",
    "Name: 334, dtype: int64"
   ]
  },
  {
   "cell_type": "markdown",
   "id": "71948a78",
   "metadata": {},
   "source": [
    "nombre_infected      1067\n",
    "nombre_sain          1817\n",
    "nombre_exposed        445\n",
    "nombre_recovered    16671\n",
    "Name: 335, dtype: int64"
   ]
  },
  {
   "cell_type": "markdown",
   "id": "183456dc",
   "metadata": {},
   "source": [
    "nombre_infected      1055\n",
    "nombre_sain          1803\n",
    "nombre_exposed        463\n",
    "nombre_recovered    16679\n",
    "Name: 336, dtype: int64"
   ]
  },
  {
   "cell_type": "markdown",
   "id": "b0a99858",
   "metadata": {},
   "source": [
    "nombre_infected      1071\n",
    "nombre_sain          1772\n",
    "nombre_exposed        465\n",
    "nombre_recovered    16692\n",
    "Name: 337, dtype: int64"
   ]
  },
  {
   "cell_type": "markdown",
   "id": "2cad6dce",
   "metadata": {},
   "source": [
    "nombre_infected      1057\n",
    "nombre_sain          1761\n",
    "nombre_exposed        472\n",
    "nombre_recovered    16710\n",
    "Name: 338, dtype: int64"
   ]
  },
  {
   "cell_type": "markdown",
   "id": "374ad79b",
   "metadata": {},
   "source": [
    "nombre_infected      1050\n",
    "nombre_sain          1726\n",
    "nombre_exposed        490\n",
    "nombre_recovered    16734\n",
    "Name: 339, dtype: int64"
   ]
  },
  {
   "cell_type": "markdown",
   "id": "02a5b181",
   "metadata": {},
   "source": [
    "nombre_infected      1028\n",
    "nombre_sain          1700\n",
    "nombre_exposed        491\n",
    "nombre_recovered    16781\n",
    "Name: 340, dtype: int64"
   ]
  },
  {
   "cell_type": "markdown",
   "id": "2abd7f21",
   "metadata": {},
   "source": [
    "nombre_infected      1011\n",
    "nombre_sain          1700\n",
    "nombre_exposed        495\n",
    "nombre_recovered    16794\n",
    "Name: 341, dtype: int64"
   ]
  },
  {
   "cell_type": "markdown",
   "id": "558304a6",
   "metadata": {},
   "source": [
    "nombre_infected      1022\n",
    "nombre_sain          1720\n",
    "nombre_exposed        457\n",
    "nombre_recovered    16801\n",
    "Name: 342, dtype: int64"
   ]
  },
  {
   "cell_type": "markdown",
   "id": "76a2e584",
   "metadata": {},
   "source": [
    "nombre_infected      1021\n",
    "nombre_sain          1725\n",
    "nombre_exposed        445\n",
    "nombre_recovered    16809\n",
    "Name: 343, dtype: int64"
   ]
  },
  {
   "cell_type": "markdown",
   "id": "f07d2806",
   "metadata": {},
   "source": [
    "nombre_infected      1016\n",
    "nombre_sain          1735\n",
    "nombre_exposed        446\n",
    "nombre_recovered    16803\n",
    "Name: 344, dtype: int64"
   ]
  },
  {
   "cell_type": "markdown",
   "id": "2ae03bd1",
   "metadata": {},
   "source": [
    "nombre_infected       995\n",
    "nombre_sain          1756\n",
    "nombre_exposed        441\n",
    "nombre_recovered    16808\n",
    "Name: 345, dtype: int64"
   ]
  },
  {
   "cell_type": "markdown",
   "id": "5a690226",
   "metadata": {},
   "source": [
    "nombre_infected       981\n",
    "nombre_sain          1766\n",
    "nombre_exposed        454\n",
    "nombre_recovered    16799\n",
    "Name: 346, dtype: int64"
   ]
  },
  {
   "cell_type": "markdown",
   "id": "a1926b73",
   "metadata": {},
   "source": [
    "nombre_infected       996\n",
    "nombre_sain          1783\n",
    "nombre_exposed        435\n",
    "nombre_recovered    16786\n",
    "Name: 347, dtype: int64"
   ]
  },
  {
   "cell_type": "markdown",
   "id": "7e36b915",
   "metadata": {},
   "source": [
    "nombre_infected       977\n",
    "nombre_sain          1784\n",
    "nombre_exposed        450\n",
    "nombre_recovered    16789\n",
    "Name: 348, dtype: int64"
   ]
  },
  {
   "cell_type": "markdown",
   "id": "ad5ddcdc",
   "metadata": {},
   "source": [
    "nombre_infected       965\n",
    "nombre_sain          1806\n",
    "nombre_exposed        470\n",
    "nombre_recovered    16759\n",
    "Name: 349, dtype: int64"
   ]
  },
  {
   "cell_type": "markdown",
   "id": "e965b364",
   "metadata": {},
   "source": [
    "nombre_infected       964\n",
    "nombre_sain          1804\n",
    "nombre_exposed        467\n",
    "nombre_recovered    16765\n",
    "Name: 350, dtype: int64"
   ]
  },
  {
   "cell_type": "markdown",
   "id": "b3a97d90",
   "metadata": {},
   "source": [
    "nombre_infected       985\n",
    "nombre_sain          1827\n",
    "nombre_exposed        447\n",
    "nombre_recovered    16741\n",
    "Name: 351, dtype: int64"
   ]
  },
  {
   "cell_type": "markdown",
   "id": "8e771c04",
   "metadata": {},
   "source": [
    "nombre_infected       963\n",
    "nombre_sain          1855\n",
    "nombre_exposed        441\n",
    "nombre_recovered    16741\n",
    "Name: 352, dtype: int64"
   ]
  },
  {
   "cell_type": "markdown",
   "id": "df7164d0",
   "metadata": {},
   "source": [
    "nombre_infected       949\n",
    "nombre_sain          1860\n",
    "nombre_exposed        450\n",
    "nombre_recovered    16741\n",
    "Name: 353, dtype: int64"
   ]
  },
  {
   "cell_type": "markdown",
   "id": "a1188cd8",
   "metadata": {},
   "source": [
    "nombre_infected       935\n",
    "nombre_sain          1871\n",
    "nombre_exposed        463\n",
    "nombre_recovered    16731\n",
    "Name: 354, dtype: int64"
   ]
  },
  {
   "cell_type": "markdown",
   "id": "5ca25edf",
   "metadata": {},
   "source": [
    "nombre_infected       920\n",
    "nombre_sain          1903\n",
    "nombre_exposed        443\n",
    "nombre_recovered    16734\n",
    "Name: 355, dtype: int64"
   ]
  },
  {
   "cell_type": "markdown",
   "id": "c7ac82ab",
   "metadata": {},
   "source": [
    "nombre_infected       896\n",
    "nombre_sain          1913\n",
    "nombre_exposed        450\n",
    "nombre_recovered    16741\n",
    "Name: 356, dtype: int64"
   ]
  },
  {
   "cell_type": "markdown",
   "id": "a8802108",
   "metadata": {},
   "source": [
    "nombre_infected       907\n",
    "nombre_sain          1953\n",
    "nombre_exposed        438\n",
    "nombre_recovered    16702\n",
    "Name: 357, dtype: int64"
   ]
  },
  {
   "cell_type": "markdown",
   "id": "3d787da2",
   "metadata": {},
   "source": [
    "nombre_infected       927\n",
    "nombre_sain          1958\n",
    "nombre_exposed        439\n",
    "nombre_recovered    16676\n",
    "Name: 358, dtype: int64"
   ]
  },
  {
   "cell_type": "markdown",
   "id": "b3f3af92",
   "metadata": {},
   "source": [
    "nombre_infected       931\n",
    "nombre_sain          1987\n",
    "nombre_exposed        424\n",
    "nombre_recovered    16658\n",
    "Name: 359, dtype: int64"
   ]
  },
  {
   "cell_type": "markdown",
   "id": "812d6b2c",
   "metadata": {},
   "source": [
    "nombre_infected       945\n",
    "nombre_sain          1996\n",
    "nombre_exposed        431\n",
    "nombre_recovered    16628\n",
    "Name: 360, dtype: int64"
   ]
  },
  {
   "cell_type": "markdown",
   "id": "7c77b926",
   "metadata": {},
   "source": [
    "nombre_infected       910\n",
    "nombre_sain          2036\n",
    "nombre_exposed        462\n",
    "nombre_recovered    16592\n",
    "Name: 361, dtype: int64"
   ]
  },
  {
   "cell_type": "markdown",
   "id": "9428b4ee",
   "metadata": {},
   "source": [
    "nombre_infected       896\n",
    "nombre_sain          2066\n",
    "nombre_exposed        467\n",
    "nombre_recovered    16571\n",
    "Name: 362, dtype: int64"
   ]
  },
  {
   "cell_type": "markdown",
   "id": "c53b9b66",
   "metadata": {},
   "source": [
    "nombre_infected       908\n",
    "nombre_sain          2091\n",
    "nombre_exposed        480\n",
    "nombre_recovered    16521\n",
    "Name: 363, dtype: int64"
   ]
  },
  {
   "cell_type": "markdown",
   "id": "37ae6995",
   "metadata": {},
   "source": [
    "nombre_infected       921\n",
    "nombre_sain          2102\n",
    "nombre_exposed        483\n",
    "nombre_recovered    16494\n",
    "Name: 364, dtype: int64"
   ]
  },
  {
   "cell_type": "markdown",
   "id": "82b5bf6d",
   "metadata": {},
   "source": [
    "nombre_infected       926\n",
    "nombre_sain          2120\n",
    "nombre_exposed        487\n",
    "nombre_recovered    16467\n",
    "Name: 365, dtype: int64"
   ]
  },
  {
   "cell_type": "markdown",
   "id": "80c3ad36",
   "metadata": {},
   "source": [
    "nombre_infected       957\n",
    "nombre_sain          2089\n",
    "nombre_exposed        478\n",
    "nombre_recovered    16476\n",
    "Name: 366, dtype: int64"
   ]
  },
  {
   "cell_type": "markdown",
   "id": "4af6f9f8",
   "metadata": {},
   "source": [
    "nombre_infected       942\n",
    "nombre_sain          2112\n",
    "nombre_exposed        476\n",
    "nombre_recovered    16470\n",
    "Name: 367, dtype: int64"
   ]
  },
  {
   "cell_type": "markdown",
   "id": "4d8f0681",
   "metadata": {},
   "source": [
    "nombre_infected       977\n",
    "nombre_sain          2073\n",
    "nombre_exposed        461\n",
    "nombre_recovered    16489\n",
    "Name: 368, dtype: int64"
   ]
  },
  {
   "cell_type": "markdown",
   "id": "0e37fcd3",
   "metadata": {},
   "source": [
    "nombre_infected       988\n",
    "nombre_sain          2064\n",
    "nombre_exposed        480\n",
    "nombre_recovered    16468\n",
    "Name: 369, dtype: int64"
   ]
  },
  {
   "cell_type": "markdown",
   "id": "b1e224c8",
   "metadata": {},
   "source": [
    "nombre_infected       982\n",
    "nombre_sain          2058\n",
    "nombre_exposed        483\n",
    "nombre_recovered    16477\n",
    "Name: 370, dtype: int64"
   ]
  },
  {
   "cell_type": "markdown",
   "id": "b06037fd",
   "metadata": {},
   "source": [
    "nombre_infected      1005\n",
    "nombre_sain          2031\n",
    "nombre_exposed        485\n",
    "nombre_recovered    16479\n",
    "Name: 371, dtype: int64"
   ]
  },
  {
   "cell_type": "markdown",
   "id": "e55aac85",
   "metadata": {},
   "source": [
    "nombre_infected      1031\n",
    "nombre_sain          1993\n",
    "nombre_exposed        501\n",
    "nombre_recovered    16475\n",
    "Name: 372, dtype: int64"
   ]
  },
  {
   "cell_type": "markdown",
   "id": "052b104b",
   "metadata": {},
   "source": [
    "nombre_infected      1026\n",
    "nombre_sain          1971\n",
    "nombre_exposed        504\n",
    "nombre_recovered    16499\n",
    "Name: 373, dtype: int64"
   ]
  },
  {
   "cell_type": "markdown",
   "id": "ae5db569",
   "metadata": {},
   "source": [
    "nombre_infected      1047\n",
    "nombre_sain          1929\n",
    "nombre_exposed        507\n",
    "nombre_recovered    16517\n",
    "Name: 374, dtype: int64"
   ]
  },
  {
   "cell_type": "markdown",
   "id": "e66d3b81",
   "metadata": {},
   "source": [
    "nombre_infected      1069\n",
    "nombre_sain          1883\n",
    "nombre_exposed        481\n",
    "nombre_recovered    16567\n",
    "Name: 375, dtype: int64"
   ]
  },
  {
   "cell_type": "markdown",
   "id": "39f1dbb4",
   "metadata": {},
   "source": [
    "nombre_infected      1057\n",
    "nombre_sain          1860\n",
    "nombre_exposed        480\n",
    "nombre_recovered    16603\n",
    "Name: 376, dtype: int64"
   ]
  },
  {
   "cell_type": "markdown",
   "id": "a9b722d3",
   "metadata": {},
   "source": [
    "nombre_infected      1051\n",
    "nombre_sain          1857\n",
    "nombre_exposed        460\n",
    "nombre_recovered    16632\n",
    "Name: 377, dtype: int64"
   ]
  },
  {
   "cell_type": "markdown",
   "id": "6263875b",
   "metadata": {},
   "source": [
    "nombre_infected      1050\n",
    "nombre_sain          1833\n",
    "nombre_exposed        447\n",
    "nombre_recovered    16670\n",
    "Name: 378, dtype: int64"
   ]
  },
  {
   "cell_type": "markdown",
   "id": "33e0ccb5",
   "metadata": {},
   "source": [
    "nombre_infected      1033\n",
    "nombre_sain          1807\n",
    "nombre_exposed        443\n",
    "nombre_recovered    16717\n",
    "Name: 379, dtype: int64"
   ]
  },
  {
   "cell_type": "markdown",
   "id": "ec2c9ea9",
   "metadata": {},
   "source": [
    "nombre_infected      1016\n",
    "nombre_sain          1810\n",
    "nombre_exposed        423\n",
    "nombre_recovered    16751\n",
    "Name: 380, dtype: int64"
   ]
  },
  {
   "cell_type": "markdown",
   "id": "242d23cf",
   "metadata": {},
   "source": [
    "nombre_infected       997\n",
    "nombre_sain          1802\n",
    "nombre_exposed        422\n",
    "nombre_recovered    16779\n",
    "Name: 381, dtype: int64"
   ]
  },
  {
   "cell_type": "markdown",
   "id": "8f1da83b",
   "metadata": {},
   "source": [
    "nombre_infected       982\n",
    "nombre_sain          1781\n",
    "nombre_exposed        415\n",
    "nombre_recovered    16822\n",
    "Name: 382, dtype: int64"
   ]
  },
  {
   "cell_type": "markdown",
   "id": "f01eec41",
   "metadata": {},
   "source": [
    "nombre_infected       986\n",
    "nombre_sain          1766\n",
    "nombre_exposed        412\n",
    "nombre_recovered    16836\n",
    "Name: 383, dtype: int64"
   ]
  },
  {
   "cell_type": "markdown",
   "id": "bea37209",
   "metadata": {},
   "source": [
    "nombre_infected       970\n",
    "nombre_sain          1776\n",
    "nombre_exposed        391\n",
    "nombre_recovered    16863\n",
    "Name: 384, dtype: int64"
   ]
  },
  {
   "cell_type": "markdown",
   "id": "23117543",
   "metadata": {},
   "source": [
    "nombre_infected       957\n",
    "nombre_sain          1761\n",
    "nombre_exposed        378\n",
    "nombre_recovered    16904\n",
    "Name: 385, dtype: int64"
   ]
  },
  {
   "cell_type": "markdown",
   "id": "5d9d9a47",
   "metadata": {},
   "source": [
    "nombre_infected       942\n",
    "nombre_sain          1772\n",
    "nombre_exposed        390\n",
    "nombre_recovered    16896\n",
    "Name: 386, dtype: int64"
   ]
  },
  {
   "cell_type": "markdown",
   "id": "dd9651be",
   "metadata": {},
   "source": [
    "nombre_infected       911\n",
    "nombre_sain          1780\n",
    "nombre_exposed        405\n",
    "nombre_recovered    16904\n",
    "Name: 387, dtype: int64"
   ]
  },
  {
   "cell_type": "markdown",
   "id": "bb6729c1",
   "metadata": {},
   "source": [
    "nombre_infected       906\n",
    "nombre_sain          1779\n",
    "nombre_exposed        416\n",
    "nombre_recovered    16899\n",
    "Name: 388, dtype: int64"
   ]
  },
  {
   "cell_type": "markdown",
   "id": "412c8bb3",
   "metadata": {},
   "source": [
    "nombre_infected       898\n",
    "nombre_sain          1794\n",
    "nombre_exposed        418\n",
    "nombre_recovered    16890\n",
    "Name: 389, dtype: int64"
   ]
  },
  {
   "cell_type": "markdown",
   "id": "f6f20313",
   "metadata": {},
   "source": [
    "nombre_infected       879\n",
    "nombre_sain          1822\n",
    "nombre_exposed        423\n",
    "nombre_recovered    16876\n",
    "Name: 390, dtype: int64"
   ]
  },
  {
   "cell_type": "markdown",
   "id": "bf18fed8",
   "metadata": {},
   "source": [
    "nombre_infected       889\n",
    "nombre_sain          1849\n",
    "nombre_exposed        396\n",
    "nombre_recovered    16866\n",
    "Name: 391, dtype: int64"
   ]
  },
  {
   "cell_type": "markdown",
   "id": "d6a4973c",
   "metadata": {},
   "source": [
    "nombre_infected       877\n",
    "nombre_sain          1859\n",
    "nombre_exposed        394\n",
    "nombre_recovered    16870\n",
    "Name: 392, dtype: int64"
   ]
  },
  {
   "cell_type": "markdown",
   "id": "b094405d",
   "metadata": {},
   "source": [
    "nombre_infected       858\n",
    "nombre_sain          1889\n",
    "nombre_exposed        393\n",
    "nombre_recovered    16860\n",
    "Name: 393, dtype: int64"
   ]
  },
  {
   "cell_type": "markdown",
   "id": "fce5fc22",
   "metadata": {},
   "source": [
    "nombre_infected       841\n",
    "nombre_sain          1916\n",
    "nombre_exposed        393\n",
    "nombre_recovered    16850\n",
    "Name: 394, dtype: int64"
   ]
  },
  {
   "cell_type": "markdown",
   "id": "b5edc56f",
   "metadata": {},
   "source": [
    "nombre_infected       837\n",
    "nombre_sain          1944\n",
    "nombre_exposed        401\n",
    "nombre_recovered    16818\n",
    "Name: 395, dtype: int64"
   ]
  },
  {
   "cell_type": "markdown",
   "id": "121b6983",
   "metadata": {},
   "source": [
    "nombre_infected       842\n",
    "nombre_sain          1982\n",
    "nombre_exposed        400\n",
    "nombre_recovered    16776\n",
    "Name: 396, dtype: int64"
   ]
  },
  {
   "cell_type": "markdown",
   "id": "8a591d9f",
   "metadata": {},
   "source": [
    "nombre_infected       842\n",
    "nombre_sain          1989\n",
    "nombre_exposed        405\n",
    "nombre_recovered    16764\n",
    "Name: 397, dtype: int64"
   ]
  },
  {
   "cell_type": "markdown",
   "id": "8710bc5c",
   "metadata": {},
   "source": [
    "nombre_infected       841\n",
    "nombre_sain          2029\n",
    "nombre_exposed        398\n",
    "nombre_recovered    16732\n",
    "Name: 398, dtype: int64"
   ]
  },
  {
   "cell_type": "markdown",
   "id": "88003a72",
   "metadata": {},
   "source": [
    "nombre_infected       836\n",
    "nombre_sain          2049\n",
    "nombre_exposed        420\n",
    "nombre_recovered    16695\n",
    "Name: 399, dtype: int64"
   ]
  },
  {
   "cell_type": "markdown",
   "id": "d433693b",
   "metadata": {},
   "source": [
    "nombre_infected       825\n",
    "nombre_sain          2075\n",
    "nombre_exposed        425\n",
    "nombre_recovered    16675\n",
    "Name: 400, dtype: int64"
   ]
  },
  {
   "cell_type": "markdown",
   "id": "d8f5779f",
   "metadata": {},
   "source": [
    "nombre_infected       829\n",
    "nombre_sain          2136\n",
    "nombre_exposed        404\n",
    "nombre_recovered    16631\n",
    "Name: 401, dtype: int64"
   ]
  },
  {
   "cell_type": "markdown",
   "id": "d180e737",
   "metadata": {},
   "source": [
    "nombre_infected       832\n",
    "nombre_sain          2145\n",
    "nombre_exposed        396\n",
    "nombre_recovered    16627\n",
    "Name: 402, dtype: int64"
   ]
  },
  {
   "cell_type": "markdown",
   "id": "095ca0a0",
   "metadata": {},
   "source": [
    "nombre_infected       821\n",
    "nombre_sain          2167\n",
    "nombre_exposed        421\n",
    "nombre_recovered    16591\n",
    "Name: 403, dtype: int64"
   ]
  },
  {
   "cell_type": "markdown",
   "id": "b1b0fb70",
   "metadata": {},
   "source": [
    "nombre_infected       826\n",
    "nombre_sain          2160\n",
    "nombre_exposed        434\n",
    "nombre_recovered    16580\n",
    "Name: 404, dtype: int64"
   ]
  },
  {
   "cell_type": "markdown",
   "id": "3683b592",
   "metadata": {},
   "source": [
    "nombre_infected       830\n",
    "nombre_sain          2158\n",
    "nombre_exposed        446\n",
    "nombre_recovered    16566\n",
    "Name: 405, dtype: int64"
   ]
  },
  {
   "cell_type": "markdown",
   "id": "59c4fd3b",
   "metadata": {},
   "source": [
    "nombre_infected       825\n",
    "nombre_sain          2143\n",
    "nombre_exposed        464\n",
    "nombre_recovered    16568\n",
    "Name: 406, dtype: int64"
   ]
  },
  {
   "cell_type": "markdown",
   "id": "b8729820",
   "metadata": {},
   "source": [
    "nombre_infected       835\n",
    "nombre_sain          2129\n",
    "nombre_exposed        457\n",
    "nombre_recovered    16579\n",
    "Name: 407, dtype: int64"
   ]
  },
  {
   "cell_type": "markdown",
   "id": "fcbd3cb3",
   "metadata": {},
   "source": [
    "nombre_infected       863\n",
    "nombre_sain          2125\n",
    "nombre_exposed        462\n",
    "nombre_recovered    16550\n",
    "Name: 408, dtype: int64"
   ]
  },
  {
   "cell_type": "markdown",
   "id": "bc715ded",
   "metadata": {},
   "source": [
    "nombre_infected       865\n",
    "nombre_sain          2106\n",
    "nombre_exposed        474\n",
    "nombre_recovered    16555\n",
    "Name: 409, dtype: int64"
   ]
  },
  {
   "cell_type": "markdown",
   "id": "ffd5aa1f",
   "metadata": {},
   "source": [
    "nombre_infected       878\n",
    "nombre_sain          2070\n",
    "nombre_exposed        503\n",
    "nombre_recovered    16549\n",
    "Name: 410, dtype: int64"
   ]
  },
  {
   "cell_type": "markdown",
   "id": "29ebd001",
   "metadata": {},
   "source": [
    "nombre_infected       895\n",
    "nombre_sain          2071\n",
    "nombre_exposed        503\n",
    "nombre_recovered    16531\n",
    "Name: 411, dtype: int64"
   ]
  },
  {
   "cell_type": "markdown",
   "id": "58286950",
   "metadata": {},
   "source": [
    "nombre_infected       924\n",
    "nombre_sain          2062\n",
    "nombre_exposed        482\n",
    "nombre_recovered    16532\n",
    "Name: 412, dtype: int64"
   ]
  },
  {
   "cell_type": "markdown",
   "id": "a68c1539",
   "metadata": {},
   "source": [
    "nombre_infected       944\n",
    "nombre_sain          2026\n",
    "nombre_exposed        485\n",
    "nombre_recovered    16545\n",
    "Name: 413, dtype: int64"
   ]
  },
  {
   "cell_type": "markdown",
   "id": "b78f7fbe",
   "metadata": {},
   "source": [
    "nombre_infected       952\n",
    "nombre_sain          2009\n",
    "nombre_exposed        476\n",
    "nombre_recovered    16563\n",
    "Name: 414, dtype: int64"
   ]
  },
  {
   "cell_type": "markdown",
   "id": "bad624f9",
   "metadata": {},
   "source": [
    "nombre_infected       944\n",
    "nombre_sain          2000\n",
    "nombre_exposed        487\n",
    "nombre_recovered    16569\n",
    "Name: 415, dtype: int64"
   ]
  },
  {
   "cell_type": "markdown",
   "id": "1e26adbc",
   "metadata": {},
   "source": [
    "nombre_infected       949\n",
    "nombre_sain          2009\n",
    "nombre_exposed        470\n",
    "nombre_recovered    16572\n",
    "Name: 416, dtype: int64"
   ]
  },
  {
   "cell_type": "markdown",
   "id": "f3ee7af0",
   "metadata": {},
   "source": [
    "nombre_infected       943\n",
    "nombre_sain          1993\n",
    "nombre_exposed        465\n",
    "nombre_recovered    16599\n",
    "Name: 417, dtype: int64"
   ]
  },
  {
   "cell_type": "markdown",
   "id": "99c2a845",
   "metadata": {},
   "source": [
    "nombre_infected       962\n",
    "nombre_sain          1980\n",
    "nombre_exposed        452\n",
    "nombre_recovered    16606\n",
    "Name: 418, dtype: int64"
   ]
  },
  {
   "cell_type": "markdown",
   "id": "c561f590",
   "metadata": {},
   "source": [
    "nombre_infected       942\n",
    "nombre_sain          1987\n",
    "nombre_exposed        460\n",
    "nombre_recovered    16611\n",
    "Name: 419, dtype: int64"
   ]
  },
  {
   "cell_type": "markdown",
   "id": "1ae18b1c",
   "metadata": {},
   "source": [
    "nombre_infected       935\n",
    "nombre_sain          1987\n",
    "nombre_exposed        464\n",
    "nombre_recovered    16614\n",
    "Name: 420, dtype: int64"
   ]
  },
  {
   "cell_type": "markdown",
   "id": "dc0eab75",
   "metadata": {},
   "source": [
    "nombre_infected       917\n",
    "nombre_sain          2013\n",
    "nombre_exposed        475\n",
    "nombre_recovered    16595\n",
    "Name: 421, dtype: int64"
   ]
  },
  {
   "cell_type": "markdown",
   "id": "7d74639e",
   "metadata": {},
   "source": [
    "nombre_infected       906\n",
    "nombre_sain          1966\n",
    "nombre_exposed        504\n",
    "nombre_recovered    16624\n",
    "Name: 422, dtype: int64"
   ]
  },
  {
   "cell_type": "markdown",
   "id": "e7522947",
   "metadata": {},
   "source": [
    "nombre_infected       898\n",
    "nombre_sain          1955\n",
    "nombre_exposed        511\n",
    "nombre_recovered    16636\n",
    "Name: 423, dtype: int64"
   ]
  },
  {
   "cell_type": "markdown",
   "id": "02971154",
   "metadata": {},
   "source": [
    "nombre_infected       923\n",
    "nombre_sain          1947\n",
    "nombre_exposed        503\n",
    "nombre_recovered    16627\n",
    "Name: 424, dtype: int64"
   ]
  },
  {
   "cell_type": "markdown",
   "id": "727d9d1e",
   "metadata": {},
   "source": [
    "nombre_infected       921\n",
    "nombre_sain          1963\n",
    "nombre_exposed        496\n",
    "nombre_recovered    16620\n",
    "Name: 425, dtype: int64"
   ]
  },
  {
   "cell_type": "markdown",
   "id": "de676257",
   "metadata": {},
   "source": [
    "nombre_infected       926\n",
    "nombre_sain          1972\n",
    "nombre_exposed        487\n",
    "nombre_recovered    16615\n",
    "Name: 426, dtype: int64"
   ]
  },
  {
   "cell_type": "markdown",
   "id": "0ed4205a",
   "metadata": {},
   "source": [
    "nombre_infected       964\n",
    "nombre_sain          1939\n",
    "nombre_exposed        486\n",
    "nombre_recovered    16611\n",
    "Name: 427, dtype: int64"
   ]
  },
  {
   "cell_type": "markdown",
   "id": "d2dd0465",
   "metadata": {},
   "source": [
    "nombre_infected       947\n",
    "nombre_sain          1949\n",
    "nombre_exposed        483\n",
    "nombre_recovered    16621\n",
    "Name: 428, dtype: int64"
   ]
  },
  {
   "cell_type": "markdown",
   "id": "583321e5",
   "metadata": {},
   "source": [
    "nombre_infected       963\n",
    "nombre_sain          1951\n",
    "nombre_exposed        475\n",
    "nombre_recovered    16611\n",
    "Name: 429, dtype: int64"
   ]
  },
  {
   "cell_type": "markdown",
   "id": "291b6054",
   "metadata": {},
   "source": [
    "nombre_infected       973\n",
    "nombre_sain          1944\n",
    "nombre_exposed        479\n",
    "nombre_recovered    16604\n",
    "Name: 430, dtype: int64"
   ]
  },
  {
   "cell_type": "markdown",
   "id": "7d4f8c13",
   "metadata": {},
   "source": [
    "nombre_infected       944\n",
    "nombre_sain          1951\n",
    "nombre_exposed        489\n",
    "nombre_recovered    16616\n",
    "Name: 431, dtype: int64"
   ]
  },
  {
   "cell_type": "markdown",
   "id": "82b79eef",
   "metadata": {},
   "source": [
    "nombre_infected       932\n",
    "nombre_sain          1941\n",
    "nombre_exposed        507\n",
    "nombre_recovered    16620\n",
    "Name: 432, dtype: int64"
   ]
  },
  {
   "cell_type": "markdown",
   "id": "90876751",
   "metadata": {},
   "source": [
    "nombre_infected       936\n",
    "nombre_sain          1959\n",
    "nombre_exposed        514\n",
    "nombre_recovered    16591\n",
    "Name: 433, dtype: int64"
   ]
  },
  {
   "cell_type": "markdown",
   "id": "b5447ba6",
   "metadata": {},
   "source": [
    "nombre_infected       942\n",
    "nombre_sain          1970\n",
    "nombre_exposed        512\n",
    "nombre_recovered    16576\n",
    "Name: 434, dtype: int64"
   ]
  },
  {
   "cell_type": "markdown",
   "id": "52549fd7",
   "metadata": {},
   "source": [
    "nombre_infected       962\n",
    "nombre_sain          1979\n",
    "nombre_exposed        513\n",
    "nombre_recovered    16546\n",
    "Name: 435, dtype: int64"
   ]
  },
  {
   "cell_type": "markdown",
   "id": "7ef2e6be",
   "metadata": {},
   "source": [
    "nombre_infected       951\n",
    "nombre_sain          2008\n",
    "nombre_exposed        515\n",
    "nombre_recovered    16526\n",
    "Name: 436, dtype: int64"
   ]
  },
  {
   "cell_type": "markdown",
   "id": "50438ac1",
   "metadata": {},
   "source": [
    "nombre_infected       962\n",
    "nombre_sain          2022\n",
    "nombre_exposed        507\n",
    "nombre_recovered    16509\n",
    "Name: 437, dtype: int64"
   ]
  },
  {
   "cell_type": "markdown",
   "id": "350906de",
   "metadata": {},
   "source": [
    "nombre_infected       955\n",
    "nombre_sain          2014\n",
    "nombre_exposed        519\n",
    "nombre_recovered    16512\n",
    "Name: 438, dtype: int64"
   ]
  },
  {
   "cell_type": "markdown",
   "id": "0fa56dfb",
   "metadata": {},
   "source": [
    "nombre_infected       972\n",
    "nombre_sain          2027\n",
    "nombre_exposed        504\n",
    "nombre_recovered    16497\n",
    "Name: 439, dtype: int64"
   ]
  },
  {
   "cell_type": "markdown",
   "id": "76bdd94e",
   "metadata": {},
   "source": [
    "nombre_infected       954\n",
    "nombre_sain          2038\n",
    "nombre_exposed        513\n",
    "nombre_recovered    16495\n",
    "Name: 440, dtype: int64"
   ]
  },
  {
   "cell_type": "markdown",
   "id": "ff2538c4",
   "metadata": {},
   "source": [
    "nombre_infected       947\n",
    "nombre_sain          2063\n",
    "nombre_exposed        492\n",
    "nombre_recovered    16498\n",
    "Name: 441, dtype: int64"
   ]
  },
  {
   "cell_type": "markdown",
   "id": "2a9cadb3",
   "metadata": {},
   "source": [
    "nombre_infected       934\n",
    "nombre_sain          2059\n",
    "nombre_exposed        505\n",
    "nombre_recovered    16502\n",
    "Name: 442, dtype: int64"
   ]
  },
  {
   "cell_type": "markdown",
   "id": "99db88a0",
   "metadata": {},
   "source": [
    "nombre_infected       946\n",
    "nombre_sain          2065\n",
    "nombre_exposed        501\n",
    "nombre_recovered    16488\n",
    "Name: 443, dtype: int64"
   ]
  },
  {
   "cell_type": "markdown",
   "id": "36355b1c",
   "metadata": {},
   "source": [
    "nombre_infected       952\n",
    "nombre_sain          2053\n",
    "nombre_exposed        505\n",
    "nombre_recovered    16490\n",
    "Name: 444, dtype: int64"
   ]
  },
  {
   "cell_type": "markdown",
   "id": "1263be5d",
   "metadata": {},
   "source": [
    "nombre_infected       973\n",
    "nombre_sain          2052\n",
    "nombre_exposed        508\n",
    "nombre_recovered    16467\n",
    "Name: 445, dtype: int64"
   ]
  },
  {
   "cell_type": "markdown",
   "id": "6b2e16ec",
   "metadata": {},
   "source": [
    "nombre_infected       981\n",
    "nombre_sain          2013\n",
    "nombre_exposed        528\n",
    "nombre_recovered    16478\n",
    "Name: 446, dtype: int64"
   ]
  },
  {
   "cell_type": "markdown",
   "id": "ebc30397",
   "metadata": {},
   "source": [
    "nombre_infected       993\n",
    "nombre_sain          1988\n",
    "nombre_exposed        533\n",
    "nombre_recovered    16486\n",
    "Name: 447, dtype: int64"
   ]
  },
  {
   "cell_type": "markdown",
   "id": "c1ddc7cc",
   "metadata": {},
   "source": [
    "nombre_infected      1026\n",
    "nombre_sain          1977\n",
    "nombre_exposed        508\n",
    "nombre_recovered    16489\n",
    "Name: 448, dtype: int64"
   ]
  },
  {
   "cell_type": "markdown",
   "id": "0657f395",
   "metadata": {},
   "source": [
    "nombre_infected       998\n",
    "nombre_sain          1972\n",
    "nombre_exposed        515\n",
    "nombre_recovered    16515\n",
    "Name: 449, dtype: int64"
   ]
  },
  {
   "cell_type": "markdown",
   "id": "642e58b1",
   "metadata": {},
   "source": [
    "nombre_infected       988\n",
    "nombre_sain          1954\n",
    "nombre_exposed        536\n",
    "nombre_recovered    16522\n",
    "Name: 450, dtype: int64"
   ]
  },
  {
   "cell_type": "markdown",
   "id": "2f3cbb40",
   "metadata": {},
   "source": [
    "nombre_infected      1000\n",
    "nombre_sain          1985\n",
    "nombre_exposed        501\n",
    "nombre_recovered    16514\n",
    "Name: 451, dtype: int64"
   ]
  },
  {
   "cell_type": "markdown",
   "id": "61ff676a",
   "metadata": {},
   "source": [
    "nombre_infected      1011\n",
    "nombre_sain          2003\n",
    "nombre_exposed        504\n",
    "nombre_recovered    16482\n",
    "Name: 452, dtype: int64"
   ]
  },
  {
   "cell_type": "markdown",
   "id": "dbf59175",
   "metadata": {},
   "source": [
    "nombre_infected       995\n",
    "nombre_sain          1997\n",
    "nombre_exposed        514\n",
    "nombre_recovered    16494\n",
    "Name: 453, dtype: int64"
   ]
  },
  {
   "cell_type": "markdown",
   "id": "68353392",
   "metadata": {},
   "source": [
    "nombre_infected       994\n",
    "nombre_sain          1980\n",
    "nombre_exposed        516\n",
    "nombre_recovered    16510\n",
    "Name: 454, dtype: int64"
   ]
  },
  {
   "cell_type": "markdown",
   "id": "e8145a4b",
   "metadata": {},
   "source": [
    "nombre_infected       999\n",
    "nombre_sain          1992\n",
    "nombre_exposed        504\n",
    "nombre_recovered    16505\n",
    "Name: 455, dtype: int64"
   ]
  },
  {
   "cell_type": "markdown",
   "id": "758197c7",
   "metadata": {},
   "source": [
    "nombre_infected      1014\n",
    "nombre_sain          1980\n",
    "nombre_exposed        502\n",
    "nombre_recovered    16504\n",
    "Name: 456, dtype: int64"
   ]
  },
  {
   "cell_type": "markdown",
   "id": "ad7d568a",
   "metadata": {},
   "source": [
    "nombre_infected      1022\n",
    "nombre_sain          1959\n",
    "nombre_exposed        511\n",
    "nombre_recovered    16508\n",
    "Name: 457, dtype: int64"
   ]
  },
  {
   "cell_type": "markdown",
   "id": "324145c3",
   "metadata": {},
   "source": [
    "nombre_infected      1019\n",
    "nombre_sain          1962\n",
    "nombre_exposed        521\n",
    "nombre_recovered    16498\n",
    "Name: 458, dtype: int64"
   ]
  },
  {
   "cell_type": "markdown",
   "id": "80a08d47",
   "metadata": {},
   "source": [
    "nombre_infected      1008\n",
    "nombre_sain          1970\n",
    "nombre_exposed        521\n",
    "nombre_recovered    16501\n",
    "Name: 459, dtype: int64"
   ]
  },
  {
   "cell_type": "markdown",
   "id": "9cfa2219",
   "metadata": {},
   "source": [
    "nombre_infected      1008\n",
    "nombre_sain          1985\n",
    "nombre_exposed        514\n",
    "nombre_recovered    16493\n",
    "Name: 460, dtype: int64"
   ]
  },
  {
   "cell_type": "markdown",
   "id": "d20b49e3",
   "metadata": {},
   "source": [
    "nombre_infected      1008\n",
    "nombre_sain          1973\n",
    "nombre_exposed        536\n",
    "nombre_recovered    16483\n",
    "Name: 461, dtype: int64"
   ]
  },
  {
   "cell_type": "markdown",
   "id": "872b1814",
   "metadata": {},
   "source": [
    "nombre_infected      1019\n",
    "nombre_sain          1996\n",
    "nombre_exposed        528\n",
    "nombre_recovered    16457\n",
    "Name: 462, dtype: int64"
   ]
  },
  {
   "cell_type": "markdown",
   "id": "8ed44eac",
   "metadata": {},
   "source": [
    "nombre_infected      1055\n",
    "nombre_sain          1990\n",
    "nombre_exposed        515\n",
    "nombre_recovered    16440\n",
    "Name: 463, dtype: int64"
   ]
  },
  {
   "cell_type": "markdown",
   "id": "c2192ffc",
   "metadata": {},
   "source": [
    "nombre_infected      1048\n",
    "nombre_sain          2029\n",
    "nombre_exposed        503\n",
    "nombre_recovered    16420\n",
    "Name: 464, dtype: int64"
   ]
  },
  {
   "cell_type": "markdown",
   "id": "f588d786",
   "metadata": {},
   "source": [
    "nombre_infected      1047\n",
    "nombre_sain          2028\n",
    "nombre_exposed        514\n",
    "nombre_recovered    16411\n",
    "Name: 465, dtype: int64"
   ]
  },
  {
   "cell_type": "markdown",
   "id": "2729afab",
   "metadata": {},
   "source": [
    "nombre_infected      1053\n",
    "nombre_sain          2025\n",
    "nombre_exposed        518\n",
    "nombre_recovered    16404\n",
    "Name: 466, dtype: int64"
   ]
  },
  {
   "cell_type": "markdown",
   "id": "f2062c81",
   "metadata": {},
   "source": [
    "nombre_infected      1049\n",
    "nombre_sain          2045\n",
    "nombre_exposed        502\n",
    "nombre_recovered    16404\n",
    "Name: 467, dtype: int64"
   ]
  },
  {
   "cell_type": "markdown",
   "id": "75582a6f",
   "metadata": {},
   "source": [
    "nombre_infected      1051\n",
    "nombre_sain          2066\n",
    "nombre_exposed        474\n",
    "nombre_recovered    16409\n",
    "Name: 468, dtype: int64"
   ]
  },
  {
   "cell_type": "markdown",
   "id": "0ddcf163",
   "metadata": {},
   "source": [
    "nombre_infected      1069\n",
    "nombre_sain          2055\n",
    "nombre_exposed        481\n",
    "nombre_recovered    16395\n",
    "Name: 469, dtype: int64"
   ]
  },
  {
   "cell_type": "markdown",
   "id": "21cf2e78",
   "metadata": {},
   "source": [
    "nombre_infected      1070\n",
    "nombre_sain          2025\n",
    "nombre_exposed        507\n",
    "nombre_recovered    16398\n",
    "Name: 470, dtype: int64"
   ]
  },
  {
   "cell_type": "markdown",
   "id": "62e0ee59",
   "metadata": {},
   "source": [
    "nombre_infected      1058\n",
    "nombre_sain          2001\n",
    "nombre_exposed        517\n",
    "nombre_recovered    16424\n",
    "Name: 471, dtype: int64"
   ]
  },
  {
   "cell_type": "markdown",
   "id": "fa71f3d9",
   "metadata": {},
   "source": [
    "nombre_infected      1022\n",
    "nombre_sain          1985\n",
    "nombre_exposed        535\n",
    "nombre_recovered    16458\n",
    "Name: 472, dtype: int64"
   ]
  },
  {
   "cell_type": "markdown",
   "id": "72f48b31",
   "metadata": {},
   "source": [
    "nombre_infected      1029\n",
    "nombre_sain          2007\n",
    "nombre_exposed        518\n",
    "nombre_recovered    16446\n",
    "Name: 473, dtype: int64"
   ]
  },
  {
   "cell_type": "markdown",
   "id": "d20e7d12",
   "metadata": {},
   "source": [
    "nombre_infected      1053\n",
    "nombre_sain          1969\n",
    "nombre_exposed        519\n",
    "nombre_recovered    16459\n",
    "Name: 474, dtype: int64"
   ]
  },
  {
   "cell_type": "markdown",
   "id": "5445730a",
   "metadata": {},
   "source": [
    "nombre_infected      1039\n",
    "nombre_sain          1971\n",
    "nombre_exposed        521\n",
    "nombre_recovered    16469\n",
    "Name: 475, dtype: int64"
   ]
  },
  {
   "cell_type": "markdown",
   "id": "d5183a4e",
   "metadata": {},
   "source": [
    "nombre_infected      1054\n",
    "nombre_sain          1953\n",
    "nombre_exposed        540\n",
    "nombre_recovered    16453\n",
    "Name: 476, dtype: int64"
   ]
  },
  {
   "cell_type": "markdown",
   "id": "2c7eb182",
   "metadata": {},
   "source": [
    "nombre_infected      1061\n",
    "nombre_sain          1947\n",
    "nombre_exposed        550\n",
    "nombre_recovered    16442\n",
    "Name: 477, dtype: int64"
   ]
  },
  {
   "cell_type": "markdown",
   "id": "0cf665fb",
   "metadata": {},
   "source": [
    "nombre_infected      1074\n",
    "nombre_sain          1923\n",
    "nombre_exposed        542\n",
    "nombre_recovered    16461\n",
    "Name: 478, dtype: int64"
   ]
  },
  {
   "cell_type": "markdown",
   "id": "ea2bda8d",
   "metadata": {},
   "source": [
    "nombre_infected      1086\n",
    "nombre_sain          1895\n",
    "nombre_exposed        531\n",
    "nombre_recovered    16488\n",
    "Name: 479, dtype: int64"
   ]
  },
  {
   "cell_type": "markdown",
   "id": "057578b9",
   "metadata": {},
   "source": [
    "nombre_infected      1086\n",
    "nombre_sain          1880\n",
    "nombre_exposed        510\n",
    "nombre_recovered    16524\n",
    "Name: 480, dtype: int64"
   ]
  },
  {
   "cell_type": "markdown",
   "id": "e2074083",
   "metadata": {},
   "source": [
    "nombre_infected      1085\n",
    "nombre_sain          1886\n",
    "nombre_exposed        508\n",
    "nombre_recovered    16521\n",
    "Name: 481, dtype: int64"
   ]
  },
  {
   "cell_type": "markdown",
   "id": "89d0290b",
   "metadata": {},
   "source": [
    "nombre_infected      1071\n",
    "nombre_sain          1836\n",
    "nombre_exposed        537\n",
    "nombre_recovered    16556\n",
    "Name: 482, dtype: int64"
   ]
  },
  {
   "cell_type": "markdown",
   "id": "04744a74",
   "metadata": {},
   "source": [
    "nombre_infected      1070\n",
    "nombre_sain          1822\n",
    "nombre_exposed        526\n",
    "nombre_recovered    16582\n",
    "Name: 483, dtype: int64"
   ]
  },
  {
   "cell_type": "markdown",
   "id": "d50097ff",
   "metadata": {},
   "source": [
    "nombre_infected      1071\n",
    "nombre_sain          1843\n",
    "nombre_exposed        496\n",
    "nombre_recovered    16590\n",
    "Name: 484, dtype: int64"
   ]
  },
  {
   "cell_type": "markdown",
   "id": "955ad557",
   "metadata": {},
   "source": [
    "nombre_infected      1096\n",
    "nombre_sain          1862\n",
    "nombre_exposed        480\n",
    "nombre_recovered    16562\n",
    "Name: 485, dtype: int64"
   ]
  },
  {
   "cell_type": "markdown",
   "id": "92126ceb",
   "metadata": {},
   "source": [
    "nombre_infected      1089\n",
    "nombre_sain          1880\n",
    "nombre_exposed        484\n",
    "nombre_recovered    16547\n",
    "Name: 486, dtype: int64"
   ]
  },
  {
   "cell_type": "markdown",
   "id": "c23d2dbc",
   "metadata": {},
   "source": [
    "nombre_infected      1080\n",
    "nombre_sain          1870\n",
    "nombre_exposed        485\n",
    "nombre_recovered    16565\n",
    "Name: 487, dtype: int64"
   ]
  },
  {
   "cell_type": "markdown",
   "id": "d6d5431c",
   "metadata": {},
   "source": [
    "nombre_infected      1059\n",
    "nombre_sain          1888\n",
    "nombre_exposed        508\n",
    "nombre_recovered    16545\n",
    "Name: 488, dtype: int64"
   ]
  },
  {
   "cell_type": "markdown",
   "id": "7149d7aa",
   "metadata": {},
   "source": [
    "nombre_infected      1056\n",
    "nombre_sain          1885\n",
    "nombre_exposed        499\n",
    "nombre_recovered    16560\n",
    "Name: 489, dtype: int64"
   ]
  },
  {
   "cell_type": "markdown",
   "id": "d49f871d",
   "metadata": {},
   "source": [
    "nombre_infected      1048\n",
    "nombre_sain          1916\n",
    "nombre_exposed        480\n",
    "nombre_recovered    16556\n",
    "Name: 490, dtype: int64"
   ]
  },
  {
   "cell_type": "markdown",
   "id": "b7efed0e",
   "metadata": {},
   "source": [
    "nombre_infected      1061\n",
    "nombre_sain          1922\n",
    "nombre_exposed        455\n",
    "nombre_recovered    16562\n",
    "Name: 491, dtype: int64"
   ]
  },
  {
   "cell_type": "markdown",
   "id": "10077e9e",
   "metadata": {},
   "source": [
    "nombre_infected      1075\n",
    "nombre_sain          1935\n",
    "nombre_exposed        437\n",
    "nombre_recovered    16553\n",
    "Name: 492, dtype: int64"
   ]
  },
  {
   "cell_type": "markdown",
   "id": "9a6b38ef",
   "metadata": {},
   "source": [
    "nombre_infected      1087\n",
    "nombre_sain          1923\n",
    "nombre_exposed        439\n",
    "nombre_recovered    16551\n",
    "Name: 493, dtype: int64"
   ]
  },
  {
   "cell_type": "markdown",
   "id": "ff8ced8d",
   "metadata": {},
   "source": [
    "nombre_infected      1063\n",
    "nombre_sain          1915\n",
    "nombre_exposed        461\n",
    "nombre_recovered    16561\n",
    "Name: 494, dtype: int64"
   ]
  },
  {
   "cell_type": "markdown",
   "id": "0c6d365b",
   "metadata": {},
   "source": [
    "nombre_infected      1057\n",
    "nombre_sain          1897\n",
    "nombre_exposed        483\n",
    "nombre_recovered    16563\n",
    "Name: 495, dtype: int64"
   ]
  },
  {
   "cell_type": "markdown",
   "id": "85bb9ab6",
   "metadata": {},
   "source": [
    "nombre_infected      1065\n",
    "nombre_sain          1913\n",
    "nombre_exposed        453\n",
    "nombre_recovered    16569\n",
    "Name: 496, dtype: int64"
   ]
  },
  {
   "cell_type": "markdown",
   "id": "d081da57",
   "metadata": {},
   "source": [
    "nombre_infected      1090\n",
    "nombre_sain          1865\n",
    "nombre_exposed        459\n",
    "nombre_recovered    16586\n",
    "Name: 497, dtype: int64"
   ]
  },
  {
   "cell_type": "markdown",
   "id": "5ff173c0",
   "metadata": {},
   "source": [
    "nombre_infected      1068\n",
    "nombre_sain          1851\n",
    "nombre_exposed        484\n",
    "nombre_recovered    16597\n",
    "Name: 498, dtype: int64"
   ]
  },
  {
   "cell_type": "markdown",
   "id": "4806d102",
   "metadata": {},
   "source": [
    "nombre_infected      1066\n",
    "nombre_sain          1823\n",
    "nombre_exposed        476\n",
    "nombre_recovered    16635\n",
    "Name: 499, dtype: int64"
   ]
  },
  {
   "cell_type": "markdown",
   "id": "394ba765",
   "metadata": {},
   "source": [
    "nombre_infected      1079\n",
    "nombre_sain          1805\n",
    "nombre_exposed        486\n",
    "nombre_recovered    16630\n",
    "Name: 500, dtype: int64"
   ]
  },
  {
   "cell_type": "markdown",
   "id": "cfcdddf5",
   "metadata": {},
   "source": [
    "nombre_infected      1080\n",
    "nombre_sain          1792\n",
    "nombre_exposed        481\n",
    "nombre_recovered    16647\n",
    "Name: 501, dtype: int64"
   ]
  },
  {
   "cell_type": "markdown",
   "id": "883bf7ad",
   "metadata": {},
   "source": [
    "nombre_infected      1078\n",
    "nombre_sain          1773\n",
    "nombre_exposed        480\n",
    "nombre_recovered    16669\n",
    "Name: 502, dtype: int64"
   ]
  },
  {
   "cell_type": "markdown",
   "id": "612a3889",
   "metadata": {},
   "source": [
    "nombre_infected      1065\n",
    "nombre_sain          1785\n",
    "nombre_exposed        483\n",
    "nombre_recovered    16667\n",
    "Name: 503, dtype: int64"
   ]
  },
  {
   "cell_type": "markdown",
   "id": "fa31babf",
   "metadata": {},
   "source": [
    "nombre_infected      1045\n",
    "nombre_sain          1760\n",
    "nombre_exposed        478\n",
    "nombre_recovered    16717\n",
    "Name: 504, dtype: int64"
   ]
  },
  {
   "cell_type": "markdown",
   "id": "3bc47283",
   "metadata": {},
   "source": [
    "nombre_infected      1054\n",
    "nombre_sain          1763\n",
    "nombre_exposed        453\n",
    "nombre_recovered    16730\n",
    "Name: 505, dtype: int64"
   ]
  },
  {
   "cell_type": "markdown",
   "id": "6af1b56b",
   "metadata": {},
   "source": [
    "nombre_infected      1059\n",
    "nombre_sain          1736\n",
    "nombre_exposed        451\n",
    "nombre_recovered    16754\n",
    "Name: 506, dtype: int64"
   ]
  },
  {
   "cell_type": "markdown",
   "id": "c6f90215",
   "metadata": {},
   "source": [
    "nombre_infected      1025\n",
    "nombre_sain          1726\n",
    "nombre_exposed        458\n",
    "nombre_recovered    16791\n",
    "Name: 507, dtype: int64"
   ]
  },
  {
   "cell_type": "markdown",
   "id": "838ff37e",
   "metadata": {},
   "source": [
    "nombre_infected      1011\n",
    "nombre_sain          1740\n",
    "nombre_exposed        444\n",
    "nombre_recovered    16805\n",
    "Name: 508, dtype: int64"
   ]
  },
  {
   "cell_type": "markdown",
   "id": "de066623",
   "metadata": {},
   "source": [
    "nombre_infected      1032\n",
    "nombre_sain          1719\n",
    "nombre_exposed        427\n",
    "nombre_recovered    16822\n",
    "Name: 509, dtype: int64"
   ]
  },
  {
   "cell_type": "markdown",
   "id": "0cd96116",
   "metadata": {},
   "source": [
    "nombre_infected      1023\n",
    "nombre_sain          1742\n",
    "nombre_exposed        416\n",
    "nombre_recovered    16819\n",
    "Name: 510, dtype: int64"
   ]
  },
  {
   "cell_type": "markdown",
   "id": "56763e10",
   "metadata": {},
   "source": [
    "nombre_infected      1014\n",
    "nombre_sain          1737\n",
    "nombre_exposed        431\n",
    "nombre_recovered    16818\n",
    "Name: 511, dtype: int64"
   ]
  },
  {
   "cell_type": "markdown",
   "id": "075bbe8c",
   "metadata": {},
   "source": [
    "nombre_infected       987\n",
    "nombre_sain          1739\n",
    "nombre_exposed        434\n",
    "nombre_recovered    16840\n",
    "Name: 512, dtype: int64"
   ]
  },
  {
   "cell_type": "markdown",
   "id": "39726171",
   "metadata": {},
   "source": [
    "nombre_infected       977\n",
    "nombre_sain          1743\n",
    "nombre_exposed        447\n",
    "nombre_recovered    16833\n",
    "Name: 513, dtype: int64"
   ]
  },
  {
   "cell_type": "markdown",
   "id": "4761ab76",
   "metadata": {},
   "source": [
    "nombre_infected       943\n",
    "nombre_sain          1776\n",
    "nombre_exposed        434\n",
    "nombre_recovered    16847\n",
    "Name: 514, dtype: int64"
   ]
  },
  {
   "cell_type": "markdown",
   "id": "e5ebad37",
   "metadata": {},
   "source": [
    "nombre_infected       948\n",
    "nombre_sain          1804\n",
    "nombre_exposed        407\n",
    "nombre_recovered    16841\n",
    "Name: 515, dtype: int64"
   ]
  },
  {
   "cell_type": "markdown",
   "id": "5c838fbf",
   "metadata": {},
   "source": [
    "nombre_infected       923\n",
    "nombre_sain          1820\n",
    "nombre_exposed        393\n",
    "nombre_recovered    16864\n",
    "Name: 516, dtype: int64"
   ]
  },
  {
   "cell_type": "markdown",
   "id": "51145373",
   "metadata": {},
   "source": [
    "nombre_infected       920\n",
    "nombre_sain          1806\n",
    "nombre_exposed        414\n",
    "nombre_recovered    16860\n",
    "Name: 517, dtype: int64"
   ]
  },
  {
   "cell_type": "markdown",
   "id": "13d2bc74",
   "metadata": {},
   "source": [
    "nombre_infected       880\n",
    "nombre_sain          1830\n",
    "nombre_exposed        411\n",
    "nombre_recovered    16879\n",
    "Name: 518, dtype: int64"
   ]
  },
  {
   "cell_type": "markdown",
   "id": "c0e2c5b7",
   "metadata": {},
   "source": [
    "nombre_infected       867\n",
    "nombre_sain          1856\n",
    "nombre_exposed        394\n",
    "nombre_recovered    16883\n",
    "Name: 519, dtype: int64"
   ]
  },
  {
   "cell_type": "markdown",
   "id": "300a59a0",
   "metadata": {},
   "source": [
    "nombre_infected       870\n",
    "nombre_sain          1848\n",
    "nombre_exposed        389\n",
    "nombre_recovered    16893\n",
    "Name: 520, dtype: int64"
   ]
  },
  {
   "cell_type": "markdown",
   "id": "5d94fe99",
   "metadata": {},
   "source": [
    "nombre_infected       852\n",
    "nombre_sain          1872\n",
    "nombre_exposed        380\n",
    "nombre_recovered    16896\n",
    "Name: 521, dtype: int64"
   ]
  },
  {
   "cell_type": "markdown",
   "id": "a65d49a4",
   "metadata": {},
   "source": [
    "nombre_infected       838\n",
    "nombre_sain          1895\n",
    "nombre_exposed        385\n",
    "nombre_recovered    16882\n",
    "Name: 522, dtype: int64"
   ]
  },
  {
   "cell_type": "markdown",
   "id": "bfa83ffc",
   "metadata": {},
   "source": [
    "nombre_infected       801\n",
    "nombre_sain          1884\n",
    "nombre_exposed        405\n",
    "nombre_recovered    16910\n",
    "Name: 523, dtype: int64"
   ]
  },
  {
   "cell_type": "markdown",
   "id": "dfd14afc",
   "metadata": {},
   "source": [
    "nombre_infected       816\n",
    "nombre_sain          1913\n",
    "nombre_exposed        387\n",
    "nombre_recovered    16884\n",
    "Name: 524, dtype: int64"
   ]
  },
  {
   "cell_type": "markdown",
   "id": "f79a6171",
   "metadata": {},
   "source": [
    "nombre_infected       809\n",
    "nombre_sain          1921\n",
    "nombre_exposed        391\n",
    "nombre_recovered    16879\n",
    "Name: 525, dtype: int64"
   ]
  },
  {
   "cell_type": "markdown",
   "id": "36854c2d",
   "metadata": {},
   "source": [
    "nombre_infected       801\n",
    "nombre_sain          1922\n",
    "nombre_exposed        408\n",
    "nombre_recovered    16869\n",
    "Name: 526, dtype: int64"
   ]
  },
  {
   "cell_type": "markdown",
   "id": "be142b07",
   "metadata": {},
   "source": [
    "nombre_infected       783\n",
    "nombre_sain          1928\n",
    "nombre_exposed        409\n",
    "nombre_recovered    16880\n",
    "Name: 527, dtype: int64"
   ]
  },
  {
   "cell_type": "markdown",
   "id": "2c683b83",
   "metadata": {},
   "source": [
    "nombre_infected       773\n",
    "nombre_sain          1934\n",
    "nombre_exposed        407\n",
    "nombre_recovered    16886\n",
    "Name: 528, dtype: int64"
   ]
  },
  {
   "cell_type": "markdown",
   "id": "9f8241a7",
   "metadata": {},
   "source": [
    "nombre_infected       767\n",
    "nombre_sain          1950\n",
    "nombre_exposed        404\n",
    "nombre_recovered    16879\n",
    "Name: 529, dtype: int64"
   ]
  },
  {
   "cell_type": "markdown",
   "id": "dae44299",
   "metadata": {},
   "source": [
    "nombre_infected       777\n",
    "nombre_sain          1964\n",
    "nombre_exposed        398\n",
    "nombre_recovered    16861\n",
    "Name: 530, dtype: int64"
   ]
  },
  {
   "cell_type": "markdown",
   "id": "542b4788",
   "metadata": {},
   "source": [
    "nombre_infected       767\n",
    "nombre_sain          1980\n",
    "nombre_exposed        404\n",
    "nombre_recovered    16849\n",
    "Name: 531, dtype: int64"
   ]
  },
  {
   "cell_type": "markdown",
   "id": "1031b18a",
   "metadata": {},
   "source": [
    "nombre_infected       770\n",
    "nombre_sain          1973\n",
    "nombre_exposed        418\n",
    "nombre_recovered    16839\n",
    "Name: 532, dtype: int64"
   ]
  },
  {
   "cell_type": "markdown",
   "id": "618181fa",
   "metadata": {},
   "source": [
    "nombre_infected       790\n",
    "nombre_sain          1988\n",
    "nombre_exposed        409\n",
    "nombre_recovered    16813\n",
    "Name: 533, dtype: int64"
   ]
  },
  {
   "cell_type": "markdown",
   "id": "d4e123c0",
   "metadata": {},
   "source": [
    "nombre_infected       781\n",
    "nombre_sain          2001\n",
    "nombre_exposed        424\n",
    "nombre_recovered    16794\n",
    "Name: 534, dtype: int64"
   ]
  },
  {
   "cell_type": "markdown",
   "id": "ec3dcff0",
   "metadata": {},
   "source": [
    "nombre_infected       767\n",
    "nombre_sain          1979\n",
    "nombre_exposed        439\n",
    "nombre_recovered    16815\n",
    "Name: 535, dtype: int64"
   ]
  },
  {
   "cell_type": "markdown",
   "id": "c37cae5b",
   "metadata": {},
   "source": [
    "nombre_infected       752\n",
    "nombre_sain          1999\n",
    "nombre_exposed        435\n",
    "nombre_recovered    16814\n",
    "Name: 536, dtype: int64"
   ]
  },
  {
   "cell_type": "markdown",
   "id": "acaa3e77",
   "metadata": {},
   "source": [
    "nombre_infected       772\n",
    "nombre_sain          2006\n",
    "nombre_exposed        428\n",
    "nombre_recovered    16794\n",
    "Name: 537, dtype: int64"
   ]
  },
  {
   "cell_type": "markdown",
   "id": "103cea5c",
   "metadata": {},
   "source": [
    "nombre_infected       778\n",
    "nombre_sain          2017\n",
    "nombre_exposed        437\n",
    "nombre_recovered    16768\n",
    "Name: 538, dtype: int64"
   ]
  },
  {
   "cell_type": "markdown",
   "id": "f8ca177a",
   "metadata": {},
   "source": [
    "nombre_infected       796\n",
    "nombre_sain          2035\n",
    "nombre_exposed        435\n",
    "nombre_recovered    16734\n",
    "Name: 539, dtype: int64"
   ]
  },
  {
   "cell_type": "markdown",
   "id": "eaf45a83",
   "metadata": {},
   "source": [
    "nombre_infected       774\n",
    "nombre_sain          2055\n",
    "nombre_exposed        443\n",
    "nombre_recovered    16728\n",
    "Name: 540, dtype: int64"
   ]
  },
  {
   "cell_type": "markdown",
   "id": "8229d4ec",
   "metadata": {},
   "source": [
    "nombre_infected       780\n",
    "nombre_sain          2069\n",
    "nombre_exposed        450\n",
    "nombre_recovered    16701\n",
    "Name: 541, dtype: int64"
   ]
  },
  {
   "cell_type": "markdown",
   "id": "724242df",
   "metadata": {},
   "source": [
    "nombre_infected       780\n",
    "nombre_sain          2082\n",
    "nombre_exposed        448\n",
    "nombre_recovered    16690\n",
    "Name: 542, dtype: int64"
   ]
  },
  {
   "cell_type": "markdown",
   "id": "59784027",
   "metadata": {},
   "source": [
    "nombre_infected       807\n",
    "nombre_sain          2054\n",
    "nombre_exposed        466\n",
    "nombre_recovered    16673\n",
    "Name: 543, dtype: int64"
   ]
  },
  {
   "cell_type": "markdown",
   "id": "64230860",
   "metadata": {},
   "source": [
    "nombre_infected       819\n",
    "nombre_sain          2063\n",
    "nombre_exposed        476\n",
    "nombre_recovered    16642\n",
    "Name: 544, dtype: int64"
   ]
  },
  {
   "cell_type": "markdown",
   "id": "f3b5aeeb",
   "metadata": {},
   "source": [
    "nombre_infected       825\n",
    "nombre_sain          2055\n",
    "nombre_exposed        483\n",
    "nombre_recovered    16637\n",
    "Name: 545, dtype: int64"
   ]
  },
  {
   "cell_type": "markdown",
   "id": "52037521",
   "metadata": {},
   "source": [
    "nombre_infected       826\n",
    "nombre_sain          2060\n",
    "nombre_exposed        483\n",
    "nombre_recovered    16631\n",
    "Name: 546, dtype: int64"
   ]
  },
  {
   "cell_type": "markdown",
   "id": "7d5a90bf",
   "metadata": {},
   "source": [
    "nombre_infected       850\n",
    "nombre_sain          2049\n",
    "nombre_exposed        472\n",
    "nombre_recovered    16629\n",
    "Name: 547, dtype: int64"
   ]
  },
  {
   "cell_type": "markdown",
   "id": "574f722b",
   "metadata": {},
   "source": [
    "nombre_infected       860\n",
    "nombre_sain          2064\n",
    "nombre_exposed        464\n",
    "nombre_recovered    16612\n",
    "Name: 548, dtype: int64"
   ]
  },
  {
   "cell_type": "markdown",
   "id": "42a2ffd7",
   "metadata": {},
   "source": [
    "nombre_infected       872\n",
    "nombre_sain          2066\n",
    "nombre_exposed        454\n",
    "nombre_recovered    16608\n",
    "Name: 549, dtype: int64"
   ]
  },
  {
   "cell_type": "markdown",
   "id": "29d6834c",
   "metadata": {},
   "source": [
    "nombre_infected       878\n",
    "nombre_sain          2067\n",
    "nombre_exposed        442\n",
    "nombre_recovered    16613\n",
    "Name: 550, dtype: int64"
   ]
  },
  {
   "cell_type": "markdown",
   "id": "c538d47c",
   "metadata": {},
   "source": [
    "nombre_infected       889\n",
    "nombre_sain          2071\n",
    "nombre_exposed        457\n",
    "nombre_recovered    16583\n",
    "Name: 551, dtype: int64"
   ]
  },
  {
   "cell_type": "markdown",
   "id": "3680bc75",
   "metadata": {},
   "source": [
    "nombre_infected       879\n",
    "nombre_sain          2085\n",
    "nombre_exposed        471\n",
    "nombre_recovered    16565\n",
    "Name: 552, dtype: int64"
   ]
  },
  {
   "cell_type": "markdown",
   "id": "964dc7ab",
   "metadata": {},
   "source": [
    "nombre_infected       893\n",
    "nombre_sain          2082\n",
    "nombre_exposed        488\n",
    "nombre_recovered    16537\n",
    "Name: 553, dtype: int64"
   ]
  },
  {
   "cell_type": "markdown",
   "id": "392a9c74",
   "metadata": {},
   "source": [
    "nombre_infected       916\n",
    "nombre_sain          2070\n",
    "nombre_exposed        489\n",
    "nombre_recovered    16525\n",
    "Name: 554, dtype: int64"
   ]
  },
  {
   "cell_type": "markdown",
   "id": "34a622cc",
   "metadata": {},
   "source": [
    "nombre_infected       928\n",
    "nombre_sain          2055\n",
    "nombre_exposed        479\n",
    "nombre_recovered    16538\n",
    "Name: 555, dtype: int64"
   ]
  },
  {
   "cell_type": "markdown",
   "id": "75702774",
   "metadata": {},
   "source": [
    "nombre_infected       912\n",
    "nombre_sain          2057\n",
    "nombre_exposed        507\n",
    "nombre_recovered    16524\n",
    "Name: 556, dtype: int64"
   ]
  },
  {
   "cell_type": "markdown",
   "id": "85d88e2f",
   "metadata": {},
   "source": [
    "nombre_infected       913\n",
    "nombre_sain          2055\n",
    "nombre_exposed        493\n",
    "nombre_recovered    16539\n",
    "Name: 557, dtype: int64"
   ]
  },
  {
   "cell_type": "markdown",
   "id": "c9d73b70",
   "metadata": {},
   "source": [
    "nombre_infected       943\n",
    "nombre_sain          2051\n",
    "nombre_exposed        479\n",
    "nombre_recovered    16527\n",
    "Name: 558, dtype: int64"
   ]
  },
  {
   "cell_type": "markdown",
   "id": "8326ea36",
   "metadata": {},
   "source": [
    "nombre_infected       947\n",
    "nombre_sain          2053\n",
    "nombre_exposed        478\n",
    "nombre_recovered    16522\n",
    "Name: 559, dtype: int64"
   ]
  },
  {
   "cell_type": "markdown",
   "id": "cc731480",
   "metadata": {},
   "source": [
    "nombre_infected       966\n",
    "nombre_sain          2038\n",
    "nombre_exposed        487\n",
    "nombre_recovered    16509\n",
    "Name: 560, dtype: int64"
   ]
  },
  {
   "cell_type": "markdown",
   "id": "561848d9",
   "metadata": {},
   "source": [
    "nombre_infected       960\n",
    "nombre_sain          2024\n",
    "nombre_exposed        508\n",
    "nombre_recovered    16508\n",
    "Name: 561, dtype: int64"
   ]
  },
  {
   "cell_type": "markdown",
   "id": "fe3703c4",
   "metadata": {},
   "source": [
    "nombre_infected       946\n",
    "nombre_sain          2029\n",
    "nombre_exposed        507\n",
    "nombre_recovered    16518\n",
    "Name: 562, dtype: int64"
   ]
  },
  {
   "cell_type": "markdown",
   "id": "e80c094f",
   "metadata": {},
   "source": [
    "nombre_infected       943\n",
    "nombre_sain          2044\n",
    "nombre_exposed        506\n",
    "nombre_recovered    16507\n",
    "Name: 563, dtype: int64"
   ]
  },
  {
   "cell_type": "markdown",
   "id": "81359e63",
   "metadata": {},
   "source": [
    "nombre_infected       944\n",
    "nombre_sain          2032\n",
    "nombre_exposed        497\n",
    "nombre_recovered    16527\n",
    "Name: 564, dtype: int64"
   ]
  },
  {
   "cell_type": "markdown",
   "id": "0dbe4691",
   "metadata": {},
   "source": [
    "nombre_infected       920\n",
    "nombre_sain          2021\n",
    "nombre_exposed        511\n",
    "nombre_recovered    16548\n",
    "Name: 565, dtype: int64"
   ]
  },
  {
   "cell_type": "markdown",
   "id": "2cef89d4",
   "metadata": {},
   "source": [
    "nombre_infected       925\n",
    "nombre_sain          2019\n",
    "nombre_exposed        510\n",
    "nombre_recovered    16546\n",
    "Name: 566, dtype: int64"
   ]
  },
  {
   "cell_type": "markdown",
   "id": "2b4e0ede",
   "metadata": {},
   "source": [
    "nombre_infected       921\n",
    "nombre_sain          2033\n",
    "nombre_exposed        501\n",
    "nombre_recovered    16545\n",
    "Name: 567, dtype: int64"
   ]
  },
  {
   "cell_type": "markdown",
   "id": "b228d62d",
   "metadata": {},
   "source": [
    "nombre_infected       931\n",
    "nombre_sain          2030\n",
    "nombre_exposed        489\n",
    "nombre_recovered    16550\n",
    "Name: 568, dtype: int64"
   ]
  },
  {
   "cell_type": "markdown",
   "id": "c3c1627c",
   "metadata": {},
   "source": [
    "nombre_infected       929\n",
    "nombre_sain          2042\n",
    "nombre_exposed        497\n",
    "nombre_recovered    16532\n",
    "Name: 569, dtype: int64"
   ]
  },
  {
   "cell_type": "markdown",
   "id": "9188c1e1",
   "metadata": {},
   "source": [
    "nombre_infected       925\n",
    "nombre_sain          2005\n",
    "nombre_exposed        508\n",
    "nombre_recovered    16562\n",
    "Name: 570, dtype: int64"
   ]
  },
  {
   "cell_type": "markdown",
   "id": "8207831d",
   "metadata": {},
   "source": [
    "nombre_infected       919\n",
    "nombre_sain          2028\n",
    "nombre_exposed        502\n",
    "nombre_recovered    16551\n",
    "Name: 571, dtype: int64"
   ]
  },
  {
   "cell_type": "markdown",
   "id": "7b718bfa",
   "metadata": {},
   "source": [
    "nombre_infected       918\n",
    "nombre_sain          2022\n",
    "nombre_exposed        510\n",
    "nombre_recovered    16550\n",
    "Name: 572, dtype: int64"
   ]
  },
  {
   "cell_type": "markdown",
   "id": "4a28be06",
   "metadata": {},
   "source": [
    "nombre_infected       916\n",
    "nombre_sain          2031\n",
    "nombre_exposed        510\n",
    "nombre_recovered    16543\n",
    "Name: 573, dtype: int64"
   ]
  },
  {
   "cell_type": "markdown",
   "id": "d981e342",
   "metadata": {},
   "source": [
    "nombre_infected       925\n",
    "nombre_sain          2036\n",
    "nombre_exposed        508\n",
    "nombre_recovered    16531\n",
    "Name: 574, dtype: int64"
   ]
  },
  {
   "cell_type": "markdown",
   "id": "78b1418d",
   "metadata": {},
   "source": [
    "nombre_infected       929\n",
    "nombre_sain          2062\n",
    "nombre_exposed        503\n",
    "nombre_recovered    16506\n",
    "Name: 575, dtype: int64"
   ]
  },
  {
   "cell_type": "markdown",
   "id": "d30aa55d",
   "metadata": {},
   "source": [
    "nombre_infected       935\n",
    "nombre_sain          2029\n",
    "nombre_exposed        501\n",
    "nombre_recovered    16535\n",
    "Name: 576, dtype: int64"
   ]
  },
  {
   "cell_type": "markdown",
   "id": "34e529c9",
   "metadata": {},
   "source": [
    "nombre_infected       925\n",
    "nombre_sain          2044\n",
    "nombre_exposed        491\n",
    "nombre_recovered    16540\n",
    "Name: 577, dtype: int64"
   ]
  },
  {
   "cell_type": "markdown",
   "id": "5ff7b8e5",
   "metadata": {},
   "source": [
    "nombre_infected       912\n",
    "nombre_sain          2028\n",
    "nombre_exposed        504\n",
    "nombre_recovered    16556\n",
    "Name: 578, dtype: int64"
   ]
  },
  {
   "cell_type": "markdown",
   "id": "552b6f44",
   "metadata": {},
   "source": [
    "nombre_infected       922\n",
    "nombre_sain          2024\n",
    "nombre_exposed        497\n",
    "nombre_recovered    16557\n",
    "Name: 579, dtype: int64"
   ]
  },
  {
   "cell_type": "markdown",
   "id": "b51ac4c8",
   "metadata": {},
   "source": [
    "nombre_infected       921\n",
    "nombre_sain          2024\n",
    "nombre_exposed        485\n",
    "nombre_recovered    16570\n",
    "Name: 580, dtype: int64"
   ]
  },
  {
   "cell_type": "markdown",
   "id": "ad78f55f",
   "metadata": {},
   "source": [
    "nombre_infected       920\n",
    "nombre_sain          2012\n",
    "nombre_exposed        481\n",
    "nombre_recovered    16587\n",
    "Name: 581, dtype: int64"
   ]
  },
  {
   "cell_type": "markdown",
   "id": "321bb019",
   "metadata": {},
   "source": [
    "nombre_infected       895\n",
    "nombre_sain          1990\n",
    "nombre_exposed        490\n",
    "nombre_recovered    16625\n",
    "Name: 582, dtype: int64"
   ]
  },
  {
   "cell_type": "markdown",
   "id": "4436d92f",
   "metadata": {},
   "source": [
    "nombre_infected       911\n",
    "nombre_sain          1996\n",
    "nombre_exposed        461\n",
    "nombre_recovered    16632\n",
    "Name: 583, dtype: int64"
   ]
  },
  {
   "cell_type": "markdown",
   "id": "a33fda62",
   "metadata": {},
   "source": [
    "nombre_infected       915\n",
    "nombre_sain          2015\n",
    "nombre_exposed        450\n",
    "nombre_recovered    16620\n",
    "Name: 584, dtype: int64"
   ]
  },
  {
   "cell_type": "markdown",
   "id": "92706f48",
   "metadata": {},
   "source": [
    "nombre_infected       908\n",
    "nombre_sain          2008\n",
    "nombre_exposed        452\n",
    "nombre_recovered    16632\n",
    "Name: 585, dtype: int64"
   ]
  },
  {
   "cell_type": "markdown",
   "id": "ccdc881e",
   "metadata": {},
   "source": [
    "nombre_infected       883\n",
    "nombre_sain          2017\n",
    "nombre_exposed        468\n",
    "nombre_recovered    16632\n",
    "Name: 586, dtype: int64"
   ]
  },
  {
   "cell_type": "markdown",
   "id": "8c683043",
   "metadata": {},
   "source": [
    "nombre_infected       917\n",
    "nombre_sain          1999\n",
    "nombre_exposed        459\n",
    "nombre_recovered    16625\n",
    "Name: 587, dtype: int64"
   ]
  },
  {
   "cell_type": "markdown",
   "id": "dc54c095",
   "metadata": {},
   "source": [
    "nombre_infected       884\n",
    "nombre_sain          1973\n",
    "nombre_exposed        482\n",
    "nombre_recovered    16661\n",
    "Name: 588, dtype: int64"
   ]
  },
  {
   "cell_type": "markdown",
   "id": "9f4027e4",
   "metadata": {},
   "source": [
    "nombre_infected       907\n",
    "nombre_sain          1992\n",
    "nombre_exposed        458\n",
    "nombre_recovered    16643\n",
    "Name: 589, dtype: int64"
   ]
  },
  {
   "cell_type": "markdown",
   "id": "7ff673dc",
   "metadata": {},
   "source": [
    "nombre_infected       902\n",
    "nombre_sain          1997\n",
    "nombre_exposed        446\n",
    "nombre_recovered    16655\n",
    "Name: 590, dtype: int64"
   ]
  },
  {
   "cell_type": "markdown",
   "id": "17a4f26d",
   "metadata": {},
   "source": [
    "nombre_infected       876\n",
    "nombre_sain          1991\n",
    "nombre_exposed        477\n",
    "nombre_recovered    16656\n",
    "Name: 591, dtype: int64"
   ]
  },
  {
   "cell_type": "markdown",
   "id": "1defccd3",
   "metadata": {},
   "source": [
    "nombre_infected       889\n",
    "nombre_sain          1995\n",
    "nombre_exposed        480\n",
    "nombre_recovered    16636\n",
    "Name: 592, dtype: int64"
   ]
  },
  {
   "cell_type": "markdown",
   "id": "a2f661f5",
   "metadata": {},
   "source": [
    "nombre_infected       884\n",
    "nombre_sain          1996\n",
    "nombre_exposed        498\n",
    "nombre_recovered    16622\n",
    "Name: 593, dtype: int64"
   ]
  },
  {
   "cell_type": "markdown",
   "id": "403c7abf",
   "metadata": {},
   "source": [
    "nombre_infected       898\n",
    "nombre_sain          2005\n",
    "nombre_exposed        478\n",
    "nombre_recovered    16619\n",
    "Name: 594, dtype: int64"
   ]
  },
  {
   "cell_type": "markdown",
   "id": "94c71779",
   "metadata": {},
   "source": [
    "nombre_infected       929\n",
    "nombre_sain          1991\n",
    "nombre_exposed        468\n",
    "nombre_recovered    16612\n",
    "Name: 595, dtype: int64"
   ]
  },
  {
   "cell_type": "markdown",
   "id": "2a25e233",
   "metadata": {},
   "source": [
    "nombre_infected       917\n",
    "nombre_sain          1984\n",
    "nombre_exposed        467\n",
    "nombre_recovered    16632\n",
    "Name: 596, dtype: int64"
   ]
  },
  {
   "cell_type": "markdown",
   "id": "5837ec70",
   "metadata": {},
   "source": [
    "nombre_infected       921\n",
    "nombre_sain          1987\n",
    "nombre_exposed        467\n",
    "nombre_recovered    16625\n",
    "Name: 597, dtype: int64"
   ]
  },
  {
   "cell_type": "markdown",
   "id": "abc01d98",
   "metadata": {},
   "source": [
    "nombre_infected       932\n",
    "nombre_sain          1991\n",
    "nombre_exposed        460\n",
    "nombre_recovered    16617\n",
    "Name: 598, dtype: int64"
   ]
  },
  {
   "cell_type": "markdown",
   "id": "c71e57d6",
   "metadata": {},
   "source": [
    "nombre_infected       936\n",
    "nombre_sain          1994\n",
    "nombre_exposed        484\n",
    "nombre_recovered    16586\n",
    "Name: 599, dtype: int64"
   ]
  },
  {
   "cell_type": "markdown",
   "id": "3e599fd8",
   "metadata": {},
   "source": [
    "nombre_infected       921\n",
    "nombre_sain          2002\n",
    "nombre_exposed        497\n",
    "nombre_recovered    16580\n",
    "Name: 600, dtype: int64"
   ]
  },
  {
   "cell_type": "markdown",
   "id": "4825f130",
   "metadata": {},
   "source": [
    "nombre_infected       938\n",
    "nombre_sain          2015\n",
    "nombre_exposed        479\n",
    "nombre_recovered    16568\n",
    "Name: 601, dtype: int64"
   ]
  },
  {
   "cell_type": "markdown",
   "id": "82248600",
   "metadata": {},
   "source": [
    "nombre_infected       944\n",
    "nombre_sain          2034\n",
    "nombre_exposed        472\n",
    "nombre_recovered    16550\n",
    "Name: 602, dtype: int64"
   ]
  },
  {
   "cell_type": "markdown",
   "id": "efb720a2",
   "metadata": {},
   "source": [
    "nombre_infected       938\n",
    "nombre_sain          2054\n",
    "nombre_exposed        470\n",
    "nombre_recovered    16538\n",
    "Name: 603, dtype: int64"
   ]
  },
  {
   "cell_type": "markdown",
   "id": "56b735ea",
   "metadata": {},
   "source": [
    "nombre_infected       936\n",
    "nombre_sain          2055\n",
    "nombre_exposed        476\n",
    "nombre_recovered    16533\n",
    "Name: 604, dtype: int64"
   ]
  },
  {
   "cell_type": "markdown",
   "id": "7e9cb51a",
   "metadata": {},
   "source": [
    "nombre_infected       920\n",
    "nombre_sain          2051\n",
    "nombre_exposed        477\n",
    "nombre_recovered    16552\n",
    "Name: 605, dtype: int64"
   ]
  },
  {
   "cell_type": "markdown",
   "id": "179e0b32",
   "metadata": {},
   "source": [
    "nombre_infected       911\n",
    "nombre_sain          2052\n",
    "nombre_exposed        482\n",
    "nombre_recovered    16555\n",
    "Name: 606, dtype: int64"
   ]
  },
  {
   "cell_type": "markdown",
   "id": "e779eb09",
   "metadata": {},
   "source": [
    "nombre_infected       924\n",
    "nombre_sain          2071\n",
    "nombre_exposed        467\n",
    "nombre_recovered    16538\n",
    "Name: 607, dtype: int64"
   ]
  },
  {
   "cell_type": "markdown",
   "id": "638a4c9f",
   "metadata": {},
   "source": [
    "nombre_infected       933\n",
    "nombre_sain          2108\n",
    "nombre_exposed        459\n",
    "nombre_recovered    16500\n",
    "Name: 608, dtype: int64"
   ]
  },
  {
   "cell_type": "markdown",
   "id": "a3da8f2e",
   "metadata": {},
   "source": [
    "nombre_infected       935\n",
    "nombre_sain          2094\n",
    "nombre_exposed        463\n",
    "nombre_recovered    16508\n",
    "Name: 609, dtype: int64"
   ]
  },
  {
   "cell_type": "markdown",
   "id": "f3c6f0c3",
   "metadata": {},
   "source": [
    "nombre_infected       930\n",
    "nombre_sain          2101\n",
    "nombre_exposed        456\n",
    "nombre_recovered    16513\n",
    "Name: 610, dtype: int64"
   ]
  },
  {
   "cell_type": "markdown",
   "id": "c3ba568b",
   "metadata": {},
   "source": [
    "nombre_infected       927\n",
    "nombre_sain          2087\n",
    "nombre_exposed        469\n",
    "nombre_recovered    16517\n",
    "Name: 611, dtype: int64"
   ]
  },
  {
   "cell_type": "markdown",
   "id": "94fd198a",
   "metadata": {},
   "source": [
    "nombre_infected       923\n",
    "nombre_sain          2070\n",
    "nombre_exposed        496\n",
    "nombre_recovered    16511\n",
    "Name: 612, dtype: int64"
   ]
  },
  {
   "cell_type": "markdown",
   "id": "aa0bcdaa",
   "metadata": {},
   "source": [
    "nombre_infected       948\n",
    "nombre_sain          2069\n",
    "nombre_exposed        491\n",
    "nombre_recovered    16492\n",
    "Name: 613, dtype: int64"
   ]
  },
  {
   "cell_type": "markdown",
   "id": "2798f461",
   "metadata": {},
   "source": [
    "nombre_infected       930\n",
    "nombre_sain          2038\n",
    "nombre_exposed        513\n",
    "nombre_recovered    16519\n",
    "Name: 614, dtype: int64"
   ]
  },
  {
   "cell_type": "markdown",
   "id": "d17d070c",
   "metadata": {},
   "source": [
    "nombre_infected       946\n",
    "nombre_sain          2028\n",
    "nombre_exposed        507\n",
    "nombre_recovered    16519\n",
    "Name: 615, dtype: int64"
   ]
  },
  {
   "cell_type": "markdown",
   "id": "ace92e3f",
   "metadata": {},
   "source": [
    "nombre_infected       946\n",
    "nombre_sain          2015\n",
    "nombre_exposed        500\n",
    "nombre_recovered    16539\n",
    "Name: 616, dtype: int64"
   ]
  },
  {
   "cell_type": "markdown",
   "id": "859de1a6",
   "metadata": {},
   "source": [
    "nombre_infected       962\n",
    "nombre_sain          1995\n",
    "nombre_exposed        508\n",
    "nombre_recovered    16535\n",
    "Name: 617, dtype: int64"
   ]
  },
  {
   "cell_type": "markdown",
   "id": "f4f17a6b",
   "metadata": {},
   "source": [
    "nombre_infected       983\n",
    "nombre_sain          1989\n",
    "nombre_exposed        512\n",
    "nombre_recovered    16516\n",
    "Name: 618, dtype: int64"
   ]
  },
  {
   "cell_type": "markdown",
   "id": "480585e4",
   "metadata": {},
   "source": [
    "nombre_infected       982\n",
    "nombre_sain          2004\n",
    "nombre_exposed        509\n",
    "nombre_recovered    16505\n",
    "Name: 619, dtype: int64"
   ]
  },
  {
   "cell_type": "markdown",
   "id": "d78e6aea",
   "metadata": {},
   "source": [
    "nombre_infected      1004\n",
    "nombre_sain          1976\n",
    "nombre_exposed        496\n",
    "nombre_recovered    16524\n",
    "Name: 620, dtype: int64"
   ]
  },
  {
   "cell_type": "markdown",
   "id": "9a100278",
   "metadata": {},
   "source": [
    "nombre_infected       996\n",
    "nombre_sain          1968\n",
    "nombre_exposed        500\n",
    "nombre_recovered    16536\n",
    "Name: 621, dtype: int64"
   ]
  },
  {
   "cell_type": "markdown",
   "id": "3ac6c080",
   "metadata": {},
   "source": [
    "nombre_infected      1013\n",
    "nombre_sain          1956\n",
    "nombre_exposed        503\n",
    "nombre_recovered    16528\n",
    "Name: 622, dtype: int64"
   ]
  },
  {
   "cell_type": "markdown",
   "id": "ddb1fe95",
   "metadata": {},
   "source": [
    "nombre_infected      1025\n",
    "nombre_sain          1940\n",
    "nombre_exposed        508\n",
    "nombre_recovered    16527\n",
    "Name: 623, dtype: int64"
   ]
  },
  {
   "cell_type": "markdown",
   "id": "73f405dd",
   "metadata": {},
   "source": [
    "nombre_infected      1038\n",
    "nombre_sain          1921\n",
    "nombre_exposed        502\n",
    "nombre_recovered    16539\n",
    "Name: 624, dtype: int64"
   ]
  },
  {
   "cell_type": "markdown",
   "id": "cd4058c4",
   "metadata": {},
   "source": [
    "nombre_infected      1048\n",
    "nombre_sain          1902\n",
    "nombre_exposed        509\n",
    "nombre_recovered    16541\n",
    "Name: 625, dtype: int64"
   ]
  },
  {
   "cell_type": "markdown",
   "id": "05ce2945",
   "metadata": {},
   "source": [
    "nombre_infected      1051\n",
    "nombre_sain          1869\n",
    "nombre_exposed        525\n",
    "nombre_recovered    16555\n",
    "Name: 626, dtype: int64"
   ]
  },
  {
   "cell_type": "markdown",
   "id": "c8ffbdb2",
   "metadata": {},
   "source": [
    "nombre_infected      1042\n",
    "nombre_sain          1882\n",
    "nombre_exposed        530\n",
    "nombre_recovered    16546\n",
    "Name: 627, dtype: int64"
   ]
  },
  {
   "cell_type": "markdown",
   "id": "02e881e6",
   "metadata": {},
   "source": [
    "nombre_infected      1044\n",
    "nombre_sain          1883\n",
    "nombre_exposed        536\n",
    "nombre_recovered    16537\n",
    "Name: 628, dtype: int64"
   ]
  },
  {
   "cell_type": "markdown",
   "id": "5c067381",
   "metadata": {},
   "source": [
    "nombre_infected      1050\n",
    "nombre_sain          1873\n",
    "nombre_exposed        540\n",
    "nombre_recovered    16537\n",
    "Name: 629, dtype: int64"
   ]
  },
  {
   "cell_type": "markdown",
   "id": "44ff17a9",
   "metadata": {},
   "source": [
    "nombre_infected      1038\n",
    "nombre_sain          1885\n",
    "nombre_exposed        518\n",
    "nombre_recovered    16559\n",
    "Name: 630, dtype: int64"
   ]
  },
  {
   "cell_type": "markdown",
   "id": "b370b18a",
   "metadata": {},
   "source": [
    "nombre_infected      1054\n",
    "nombre_sain          1886\n",
    "nombre_exposed        516\n",
    "nombre_recovered    16544\n",
    "Name: 631, dtype: int64"
   ]
  },
  {
   "cell_type": "markdown",
   "id": "21f501ac",
   "metadata": {},
   "source": [
    "nombre_infected      1067\n",
    "nombre_sain          1884\n",
    "nombre_exposed        514\n",
    "nombre_recovered    16535\n",
    "Name: 632, dtype: int64"
   ]
  },
  {
   "cell_type": "markdown",
   "id": "c269aca0",
   "metadata": {},
   "source": [
    "nombre_infected      1051\n",
    "nombre_sain          1886\n",
    "nombre_exposed        532\n",
    "nombre_recovered    16531\n",
    "Name: 633, dtype: int64"
   ]
  },
  {
   "cell_type": "markdown",
   "id": "418f01e7",
   "metadata": {},
   "source": [
    "nombre_infected      1044\n",
    "nombre_sain          1884\n",
    "nombre_exposed        540\n",
    "nombre_recovered    16532\n",
    "Name: 634, dtype: int64"
   ]
  },
  {
   "cell_type": "markdown",
   "id": "65469536",
   "metadata": {},
   "source": [
    "nombre_infected      1073\n",
    "nombre_sain          1900\n",
    "nombre_exposed        518\n",
    "nombre_recovered    16509\n",
    "Name: 635, dtype: int64"
   ]
  },
  {
   "cell_type": "markdown",
   "id": "1e4cbbdb",
   "metadata": {},
   "source": [
    "nombre_infected      1057\n",
    "nombre_sain          1878\n",
    "nombre_exposed        534\n",
    "nombre_recovered    16531\n",
    "Name: 636, dtype: int64"
   ]
  },
  {
   "cell_type": "markdown",
   "id": "17adf1cf",
   "metadata": {},
   "source": [
    "nombre_infected      1081\n",
    "nombre_sain          1891\n",
    "nombre_exposed        503\n",
    "nombre_recovered    16525\n",
    "Name: 637, dtype: int64"
   ]
  },
  {
   "cell_type": "markdown",
   "id": "566c4664",
   "metadata": {},
   "source": [
    "nombre_infected      1054\n",
    "nombre_sain          1873\n",
    "nombre_exposed        505\n",
    "nombre_recovered    16568\n",
    "Name: 638, dtype: int64"
   ]
  },
  {
   "cell_type": "markdown",
   "id": "d5be3586",
   "metadata": {},
   "source": [
    "nombre_infected      1073\n",
    "nombre_sain          1879\n",
    "nombre_exposed        488\n",
    "nombre_recovered    16560\n",
    "Name: 639, dtype: int64"
   ]
  },
  {
   "cell_type": "markdown",
   "id": "2ff2b4b7",
   "metadata": {},
   "source": [
    "nombre_infected      1070\n",
    "nombre_sain          1885\n",
    "nombre_exposed        473\n",
    "nombre_recovered    16572\n",
    "Name: 640, dtype: int64"
   ]
  },
  {
   "cell_type": "markdown",
   "id": "7743d24e",
   "metadata": {},
   "source": [
    "nombre_infected      1064\n",
    "nombre_sain          1871\n",
    "nombre_exposed        471\n",
    "nombre_recovered    16594\n",
    "Name: 641, dtype: int64"
   ]
  },
  {
   "cell_type": "markdown",
   "id": "15716227",
   "metadata": {},
   "source": [
    "nombre_infected      1063\n",
    "nombre_sain          1846\n",
    "nombre_exposed        485\n",
    "nombre_recovered    16606\n",
    "Name: 642, dtype: int64"
   ]
  },
  {
   "cell_type": "markdown",
   "id": "11852508",
   "metadata": {},
   "source": [
    "nombre_infected      1069\n",
    "nombre_sain          1835\n",
    "nombre_exposed        494\n",
    "nombre_recovered    16602\n",
    "Name: 643, dtype: int64"
   ]
  },
  {
   "cell_type": "markdown",
   "id": "f073b05d",
   "metadata": {},
   "source": [
    "nombre_infected      1058\n",
    "nombre_sain          1823\n",
    "nombre_exposed        495\n",
    "nombre_recovered    16624\n",
    "Name: 644, dtype: int64"
   ]
  },
  {
   "cell_type": "markdown",
   "id": "19837b79",
   "metadata": {},
   "source": [
    "nombre_infected      1054\n",
    "nombre_sain          1825\n",
    "nombre_exposed        498\n",
    "nombre_recovered    16623\n",
    "Name: 645, dtype: int64"
   ]
  },
  {
   "cell_type": "markdown",
   "id": "dd0df243",
   "metadata": {},
   "source": [
    "nombre_infected      1056\n",
    "nombre_sain          1835\n",
    "nombre_exposed        493\n",
    "nombre_recovered    16616\n",
    "Name: 646, dtype: int64"
   ]
  },
  {
   "cell_type": "markdown",
   "id": "70064982",
   "metadata": {},
   "source": [
    "nombre_infected      1042\n",
    "nombre_sain          1848\n",
    "nombre_exposed        495\n",
    "nombre_recovered    16615\n",
    "Name: 647, dtype: int64"
   ]
  },
  {
   "cell_type": "markdown",
   "id": "b2f9fd42",
   "metadata": {},
   "source": [
    "nombre_infected      1035\n",
    "nombre_sain          1817\n",
    "nombre_exposed        527\n",
    "nombre_recovered    16621\n",
    "Name: 648, dtype: int64"
   ]
  },
  {
   "cell_type": "markdown",
   "id": "5478b283",
   "metadata": {},
   "source": [
    "nombre_infected      1022\n",
    "nombre_sain          1815\n",
    "nombre_exposed        517\n",
    "nombre_recovered    16646\n",
    "Name: 649, dtype: int64"
   ]
  },
  {
   "cell_type": "markdown",
   "id": "49c82f10",
   "metadata": {},
   "source": [
    "nombre_infected      1011\n",
    "nombre_sain          1790\n",
    "nombre_exposed        551\n",
    "nombre_recovered    16648\n",
    "Name: 650, dtype: int64"
   ]
  },
  {
   "cell_type": "markdown",
   "id": "3b866d3b",
   "metadata": {},
   "source": [
    "nombre_infected      1032\n",
    "nombre_sain          1792\n",
    "nombre_exposed        537\n",
    "nombre_recovered    16639\n",
    "Name: 651, dtype: int64"
   ]
  },
  {
   "cell_type": "markdown",
   "id": "b92ff14d",
   "metadata": {},
   "source": [
    "nombre_infected      1025\n",
    "nombre_sain          1795\n",
    "nombre_exposed        531\n",
    "nombre_recovered    16649\n",
    "Name: 652, dtype: int64"
   ]
  },
  {
   "cell_type": "markdown",
   "id": "fb7e070b",
   "metadata": {},
   "source": [
    "nombre_infected      1060\n",
    "nombre_sain          1793\n",
    "nombre_exposed        491\n",
    "nombre_recovered    16656\n",
    "Name: 653, dtype: int64"
   ]
  },
  {
   "cell_type": "markdown",
   "id": "d23faa34",
   "metadata": {},
   "source": [
    "nombre_infected      1048\n",
    "nombre_sain          1788\n",
    "nombre_exposed        501\n",
    "nombre_recovered    16663\n",
    "Name: 654, dtype: int64"
   ]
  },
  {
   "cell_type": "markdown",
   "id": "55108b4b",
   "metadata": {},
   "source": [
    "nombre_infected      1058\n",
    "nombre_sain          1788\n",
    "nombre_exposed        485\n",
    "nombre_recovered    16669\n",
    "Name: 655, dtype: int64"
   ]
  },
  {
   "cell_type": "markdown",
   "id": "0d1cb03a",
   "metadata": {},
   "source": [
    "nombre_infected      1061\n",
    "nombre_sain          1795\n",
    "nombre_exposed        483\n",
    "nombre_recovered    16661\n",
    "Name: 656, dtype: int64"
   ]
  },
  {
   "cell_type": "markdown",
   "id": "6b15abe5",
   "metadata": {},
   "source": [
    "nombre_infected      1081\n",
    "nombre_sain          1792\n",
    "nombre_exposed        455\n",
    "nombre_recovered    16672\n",
    "Name: 657, dtype: int64"
   ]
  },
  {
   "cell_type": "markdown",
   "id": "8e965f81",
   "metadata": {},
   "source": [
    "nombre_infected      1046\n",
    "nombre_sain          1805\n",
    "nombre_exposed        460\n",
    "nombre_recovered    16689\n",
    "Name: 658, dtype: int64"
   ]
  },
  {
   "cell_type": "markdown",
   "id": "04f55019",
   "metadata": {},
   "source": [
    "nombre_infected      1035\n",
    "nombre_sain          1792\n",
    "nombre_exposed        455\n",
    "nombre_recovered    16718\n",
    "Name: 659, dtype: int64"
   ]
  },
  {
   "cell_type": "markdown",
   "id": "98263f67",
   "metadata": {},
   "source": [
    "nombre_infected      1028\n",
    "nombre_sain          1797\n",
    "nombre_exposed        459\n",
    "nombre_recovered    16716\n",
    "Name: 660, dtype: int64"
   ]
  },
  {
   "cell_type": "markdown",
   "id": "f94e02a9",
   "metadata": {},
   "source": [
    "nombre_infected      1012\n",
    "nombre_sain          1827\n",
    "nombre_exposed        461\n",
    "nombre_recovered    16700\n",
    "Name: 661, dtype: int64"
   ]
  },
  {
   "cell_type": "markdown",
   "id": "45c8a5cd",
   "metadata": {},
   "source": [
    "nombre_infected       970\n",
    "nombre_sain          1851\n",
    "nombre_exposed        483\n",
    "nombre_recovered    16696\n",
    "Name: 662, dtype: int64"
   ]
  },
  {
   "cell_type": "markdown",
   "id": "2d348a27",
   "metadata": {},
   "source": [
    "nombre_infected       977\n",
    "nombre_sain          1848\n",
    "nombre_exposed        472\n",
    "nombre_recovered    16703\n",
    "Name: 663, dtype: int64"
   ]
  },
  {
   "cell_type": "markdown",
   "id": "a1731989",
   "metadata": {},
   "source": [
    "nombre_infected       985\n",
    "nombre_sain          1832\n",
    "nombre_exposed        475\n",
    "nombre_recovered    16708\n",
    "Name: 664, dtype: int64"
   ]
  },
  {
   "cell_type": "markdown",
   "id": "be53db40",
   "metadata": {},
   "source": [
    "nombre_infected       977\n",
    "nombre_sain          1856\n",
    "nombre_exposed        470\n",
    "nombre_recovered    16697\n",
    "Name: 665, dtype: int64"
   ]
  },
  {
   "cell_type": "markdown",
   "id": "849747ec",
   "metadata": {},
   "source": [
    "nombre_infected       980\n",
    "nombre_sain          1863\n",
    "nombre_exposed        466\n",
    "nombre_recovered    16691\n",
    "Name: 666, dtype: int64"
   ]
  },
  {
   "cell_type": "markdown",
   "id": "55fed79b",
   "metadata": {},
   "source": [
    "nombre_infected       977\n",
    "nombre_sain          1848\n",
    "nombre_exposed        484\n",
    "nombre_recovered    16691\n",
    "Name: 667, dtype: int64"
   ]
  },
  {
   "cell_type": "markdown",
   "id": "a1bb5ed8",
   "metadata": {},
   "source": [
    "nombre_infected       974\n",
    "nombre_sain          1858\n",
    "nombre_exposed        492\n",
    "nombre_recovered    16676\n",
    "Name: 668, dtype: int64"
   ]
  },
  {
   "cell_type": "markdown",
   "id": "5430446d",
   "metadata": {},
   "source": [
    "nombre_infected       981\n",
    "nombre_sain          1846\n",
    "nombre_exposed        482\n",
    "nombre_recovered    16691\n",
    "Name: 669, dtype: int64"
   ]
  },
  {
   "cell_type": "markdown",
   "id": "68b06ffe",
   "metadata": {},
   "source": [
    "nombre_infected       987\n",
    "nombre_sain          1830\n",
    "nombre_exposed        496\n",
    "nombre_recovered    16687\n",
    "Name: 670, dtype: int64"
   ]
  },
  {
   "cell_type": "markdown",
   "id": "205749d6",
   "metadata": {},
   "source": [
    "nombre_infected       992\n",
    "nombre_sain          1819\n",
    "nombre_exposed        499\n",
    "nombre_recovered    16690\n",
    "Name: 671, dtype: int64"
   ]
  },
  {
   "cell_type": "markdown",
   "id": "d6557e45",
   "metadata": {},
   "source": [
    "nombre_infected       995\n",
    "nombre_sain          1792\n",
    "nombre_exposed        514\n",
    "nombre_recovered    16699\n",
    "Name: 672, dtype: int64"
   ]
  },
  {
   "cell_type": "markdown",
   "id": "709fb4e1",
   "metadata": {},
   "source": [
    "nombre_infected      1017\n",
    "nombre_sain          1811\n",
    "nombre_exposed        487\n",
    "nombre_recovered    16685\n",
    "Name: 673, dtype: int64"
   ]
  },
  {
   "cell_type": "markdown",
   "id": "4ad196db",
   "metadata": {},
   "source": [
    "nombre_infected      1021\n",
    "nombre_sain          1801\n",
    "nombre_exposed        500\n",
    "nombre_recovered    16678\n",
    "Name: 674, dtype: int64"
   ]
  },
  {
   "cell_type": "markdown",
   "id": "aa98f0d3",
   "metadata": {},
   "source": [
    "nombre_infected      1015\n",
    "nombre_sain          1834\n",
    "nombre_exposed        468\n",
    "nombre_recovered    16683\n",
    "Name: 675, dtype: int64"
   ]
  },
  {
   "cell_type": "markdown",
   "id": "a341791f",
   "metadata": {},
   "source": [
    "nombre_infected       997\n",
    "nombre_sain          1825\n",
    "nombre_exposed        468\n",
    "nombre_recovered    16710\n",
    "Name: 676, dtype: int64"
   ]
  },
  {
   "cell_type": "markdown",
   "id": "3e1aab24",
   "metadata": {},
   "source": [
    "nombre_infected       978\n",
    "nombre_sain          1840\n",
    "nombre_exposed        476\n",
    "nombre_recovered    16706\n",
    "Name: 677, dtype: int64"
   ]
  },
  {
   "cell_type": "markdown",
   "id": "d19b2f1e",
   "metadata": {},
   "source": [
    "nombre_infected       974\n",
    "nombre_sain          1851\n",
    "nombre_exposed        461\n",
    "nombre_recovered    16714\n",
    "Name: 678, dtype: int64"
   ]
  },
  {
   "cell_type": "markdown",
   "id": "da17e469",
   "metadata": {},
   "source": [
    "nombre_infected       957\n",
    "nombre_sain          1855\n",
    "nombre_exposed        469\n",
    "nombre_recovered    16719\n",
    "Name: 679, dtype: int64"
   ]
  },
  {
   "cell_type": "markdown",
   "id": "a620055b",
   "metadata": {},
   "source": [
    "nombre_infected       950\n",
    "nombre_sain          1862\n",
    "nombre_exposed        472\n",
    "nombre_recovered    16716\n",
    "Name: 680, dtype: int64"
   ]
  },
  {
   "cell_type": "markdown",
   "id": "18831e2a",
   "metadata": {},
   "source": [
    "nombre_infected       969\n",
    "nombre_sain          1877\n",
    "nombre_exposed        453\n",
    "nombre_recovered    16701\n",
    "Name: 681, dtype: int64"
   ]
  },
  {
   "cell_type": "markdown",
   "id": "ec7f2dd8",
   "metadata": {},
   "source": [
    "nombre_infected       956\n",
    "nombre_sain          1894\n",
    "nombre_exposed        463\n",
    "nombre_recovered    16687\n",
    "Name: 682, dtype: int64"
   ]
  },
  {
   "cell_type": "markdown",
   "id": "ed7f9d6f",
   "metadata": {},
   "source": [
    "nombre_infected       943\n",
    "nombre_sain          1917\n",
    "nombre_exposed        475\n",
    "nombre_recovered    16665\n",
    "Name: 683, dtype: int64"
   ]
  },
  {
   "cell_type": "markdown",
   "id": "ca9dda90",
   "metadata": {},
   "source": [
    "nombre_infected       910\n",
    "nombre_sain          1931\n",
    "nombre_exposed        484\n",
    "nombre_recovered    16675\n",
    "Name: 684, dtype: int64"
   ]
  },
  {
   "cell_type": "markdown",
   "id": "558f75ab",
   "metadata": {},
   "source": [
    "nombre_infected       918\n",
    "nombre_sain          1978\n",
    "nombre_exposed        457\n",
    "nombre_recovered    16647\n",
    "Name: 685, dtype: int64"
   ]
  },
  {
   "cell_type": "markdown",
   "id": "c55cd0fe",
   "metadata": {},
   "source": [
    "nombre_infected       929\n",
    "nombre_sain          2018\n",
    "nombre_exposed        441\n",
    "nombre_recovered    16612\n",
    "Name: 686, dtype: int64"
   ]
  },
  {
   "cell_type": "markdown",
   "id": "b3553f56",
   "metadata": {},
   "source": [
    "nombre_infected       923\n",
    "nombre_sain          2032\n",
    "nombre_exposed        442\n",
    "nombre_recovered    16603\n",
    "Name: 687, dtype: int64"
   ]
  },
  {
   "cell_type": "markdown",
   "id": "28d1665b",
   "metadata": {},
   "source": [
    "nombre_infected       924\n",
    "nombre_sain          2046\n",
    "nombre_exposed        449\n",
    "nombre_recovered    16581\n",
    "Name: 688, dtype: int64"
   ]
  },
  {
   "cell_type": "markdown",
   "id": "9a8eb5b2",
   "metadata": {},
   "source": [
    "nombre_infected       890\n",
    "nombre_sain          2078\n",
    "nombre_exposed        462\n",
    "nombre_recovered    16570\n",
    "Name: 689, dtype: int64"
   ]
  },
  {
   "cell_type": "markdown",
   "id": "21a3f42b",
   "metadata": {},
   "source": [
    "nombre_infected       901\n",
    "nombre_sain          2110\n",
    "nombre_exposed        463\n",
    "nombre_recovered    16526\n",
    "Name: 690, dtype: int64"
   ]
  },
  {
   "cell_type": "markdown",
   "id": "f372416c",
   "metadata": {},
   "source": [
    "nombre_infected       871\n",
    "nombre_sain          2128\n",
    "nombre_exposed        485\n",
    "nombre_recovered    16516\n",
    "Name: 691, dtype: int64"
   ]
  },
  {
   "cell_type": "markdown",
   "id": "14c6d27f",
   "metadata": {},
   "source": [
    "nombre_infected       869\n",
    "nombre_sain          2138\n",
    "nombre_exposed        477\n",
    "nombre_recovered    16516\n",
    "Name: 692, dtype: int64"
   ]
  },
  {
   "cell_type": "markdown",
   "id": "0a9dc190",
   "metadata": {},
   "source": [
    "nombre_infected       866\n",
    "nombre_sain          2141\n",
    "nombre_exposed        485\n",
    "nombre_recovered    16508\n",
    "Name: 693, dtype: int64"
   ]
  },
  {
   "cell_type": "markdown",
   "id": "bcd495dc",
   "metadata": {},
   "source": [
    "nombre_infected       875\n",
    "nombre_sain          2179\n",
    "nombre_exposed        465\n",
    "nombre_recovered    16481\n",
    "Name: 694, dtype: int64"
   ]
  },
  {
   "cell_type": "markdown",
   "id": "e1605553",
   "metadata": {},
   "source": [
    "nombre_infected       865\n",
    "nombre_sain          2178\n",
    "nombre_exposed        489\n",
    "nombre_recovered    16468\n",
    "Name: 695, dtype: int64"
   ]
  },
  {
   "cell_type": "markdown",
   "id": "d4a63f70",
   "metadata": {},
   "source": [
    "nombre_infected       863\n",
    "nombre_sain          2194\n",
    "nombre_exposed        496\n",
    "nombre_recovered    16447\n",
    "Name: 696, dtype: int64"
   ]
  },
  {
   "cell_type": "markdown",
   "id": "2f5670ac",
   "metadata": {},
   "source": [
    "nombre_infected       860\n",
    "nombre_sain          2211\n",
    "nombre_exposed        483\n",
    "nombre_recovered    16446\n",
    "Name: 697, dtype: int64"
   ]
  },
  {
   "cell_type": "markdown",
   "id": "e7766bb8",
   "metadata": {},
   "source": [
    "nombre_infected       881\n",
    "nombre_sain          2210\n",
    "nombre_exposed        484\n",
    "nombre_recovered    16425\n",
    "Name: 698, dtype: int64"
   ]
  },
  {
   "cell_type": "markdown",
   "id": "48563dfe",
   "metadata": {},
   "source": [
    "nombre_infected       879\n",
    "nombre_sain          2233\n",
    "nombre_exposed        495\n",
    "nombre_recovered    16393\n",
    "Name: 699, dtype: int64"
   ]
  },
  {
   "cell_type": "markdown",
   "id": "8aa6def3",
   "metadata": {},
   "source": [
    "nombre_infected       894\n",
    "nombre_sain          2217\n",
    "nombre_exposed        503\n",
    "nombre_recovered    16386\n",
    "Name: 700, dtype: int64"
   ]
  },
  {
   "cell_type": "markdown",
   "id": "a976eeb8",
   "metadata": {},
   "source": [
    "nombre_infected       888\n",
    "nombre_sain          2246\n",
    "nombre_exposed        511\n",
    "nombre_recovered    16355\n",
    "Name: 701, dtype: int64"
   ]
  },
  {
   "cell_type": "markdown",
   "id": "abb3e6eb",
   "metadata": {},
   "source": [
    "nombre_infected       878\n",
    "nombre_sain          2227\n",
    "nombre_exposed        549\n",
    "nombre_recovered    16346\n",
    "Name: 702, dtype: int64"
   ]
  },
  {
   "cell_type": "markdown",
   "id": "751e10e1",
   "metadata": {},
   "source": [
    "nombre_infected       876\n",
    "nombre_sain          2194\n",
    "nombre_exposed        574\n",
    "nombre_recovered    16356\n",
    "Name: 703, dtype: int64"
   ]
  },
  {
   "cell_type": "markdown",
   "id": "8a088a5b",
   "metadata": {},
   "source": [
    "nombre_infected       926\n",
    "nombre_sain          2203\n",
    "nombre_exposed        568\n",
    "nombre_recovered    16303\n",
    "Name: 704, dtype: int64"
   ]
  },
  {
   "cell_type": "markdown",
   "id": "420ab582",
   "metadata": {},
   "source": [
    "nombre_infected       956\n",
    "nombre_sain          2210\n",
    "nombre_exposed        568\n",
    "nombre_recovered    16266\n",
    "Name: 705, dtype: int64"
   ]
  },
  {
   "cell_type": "markdown",
   "id": "640c3e21",
   "metadata": {},
   "source": [
    "nombre_infected       972\n",
    "nombre_sain          2196\n",
    "nombre_exposed        586\n",
    "nombre_recovered    16246\n",
    "Name: 706, dtype: int64"
   ]
  },
  {
   "cell_type": "markdown",
   "id": "0815386b",
   "metadata": {},
   "source": [
    "nombre_infected       965\n",
    "nombre_sain          2182\n",
    "nombre_exposed        595\n",
    "nombre_recovered    16258\n",
    "Name: 707, dtype: int64"
   ]
  },
  {
   "cell_type": "markdown",
   "id": "6d3ec4c9",
   "metadata": {},
   "source": [
    "nombre_infected       960\n",
    "nombre_sain          2171\n",
    "nombre_exposed        605\n",
    "nombre_recovered    16264\n",
    "Name: 708, dtype: int64"
   ]
  },
  {
   "cell_type": "markdown",
   "id": "9067576e",
   "metadata": {},
   "source": [
    "nombre_infected       987\n",
    "nombre_sain          2153\n",
    "nombre_exposed        584\n",
    "nombre_recovered    16276\n",
    "Name: 709, dtype: int64"
   ]
  },
  {
   "cell_type": "markdown",
   "id": "ab4c740c",
   "metadata": {},
   "source": [
    "nombre_infected      1004\n",
    "nombre_sain          2155\n",
    "nombre_exposed        597\n",
    "nombre_recovered    16244\n",
    "Name: 710, dtype: int64"
   ]
  },
  {
   "cell_type": "markdown",
   "id": "c69c0829",
   "metadata": {},
   "source": [
    "nombre_infected      1010\n",
    "nombre_sain          2143\n",
    "nombre_exposed        603\n",
    "nombre_recovered    16244\n",
    "Name: 711, dtype: int64"
   ]
  },
  {
   "cell_type": "markdown",
   "id": "17ae9305",
   "metadata": {},
   "source": [
    "nombre_infected      1032\n",
    "nombre_sain          2127\n",
    "nombre_exposed        597\n",
    "nombre_recovered    16244\n",
    "Name: 712, dtype: int64"
   ]
  },
  {
   "cell_type": "markdown",
   "id": "9a14dd65",
   "metadata": {},
   "source": [
    "nombre_infected      1067\n",
    "nombre_sain          2125\n",
    "nombre_exposed        585\n",
    "nombre_recovered    16223\n",
    "Name: 713, dtype: int64"
   ]
  },
  {
   "cell_type": "markdown",
   "id": "d1244db7",
   "metadata": {},
   "source": [
    "nombre_infected      1091\n",
    "nombre_sain          2092\n",
    "nombre_exposed        592\n",
    "nombre_recovered    16225\n",
    "Name: 714, dtype: int64"
   ]
  },
  {
   "cell_type": "markdown",
   "id": "c0c05268",
   "metadata": {},
   "source": [
    "nombre_infected      1121\n",
    "nombre_sain          2083\n",
    "nombre_exposed        578\n",
    "nombre_recovered    16218\n",
    "Name: 715, dtype: int64"
   ]
  },
  {
   "cell_type": "markdown",
   "id": "277ac7aa",
   "metadata": {},
   "source": [
    "nombre_infected      1155\n",
    "nombre_sain          2078\n",
    "nombre_exposed        562\n",
    "nombre_recovered    16205\n",
    "Name: 716, dtype: int64"
   ]
  },
  {
   "cell_type": "markdown",
   "id": "15ba115c",
   "metadata": {},
   "source": [
    "nombre_infected      1161\n",
    "nombre_sain          2066\n",
    "nombre_exposed        581\n",
    "nombre_recovered    16192\n",
    "Name: 717, dtype: int64"
   ]
  },
  {
   "cell_type": "markdown",
   "id": "b2d39d07",
   "metadata": {},
   "source": [
    "nombre_infected      1153\n",
    "nombre_sain          2048\n",
    "nombre_exposed        588\n",
    "nombre_recovered    16211\n",
    "Name: 718, dtype: int64"
   ]
  },
  {
   "cell_type": "markdown",
   "id": "536001ad",
   "metadata": {},
   "source": [
    "nombre_infected      1168\n",
    "nombre_sain          2036\n",
    "nombre_exposed        574\n",
    "nombre_recovered    16222\n",
    "Name: 719, dtype: int64"
   ]
  },
  {
   "cell_type": "markdown",
   "id": "90cc231a",
   "metadata": {},
   "source": [
    "nombre_infected      1194\n",
    "nombre_sain          2032\n",
    "nombre_exposed        548\n",
    "nombre_recovered    16226\n",
    "Name: 720, dtype: int64"
   ]
  },
  {
   "cell_type": "markdown",
   "id": "92156fe3",
   "metadata": {},
   "source": [
    "nombre_infected      1187\n",
    "nombre_sain          1988\n",
    "nombre_exposed        578\n",
    "nombre_recovered    16247\n",
    "Name: 721, dtype: int64"
   ]
  },
  {
   "cell_type": "markdown",
   "id": "23316d1a",
   "metadata": {},
   "source": [
    "nombre_infected      1167\n",
    "nombre_sain          1974\n",
    "nombre_exposed        594\n",
    "nombre_recovered    16265\n",
    "Name: 722, dtype: int64"
   ]
  },
  {
   "cell_type": "markdown",
   "id": "1d6eb740",
   "metadata": {},
   "source": [
    "nombre_infected      1166\n",
    "nombre_sain          1934\n",
    "nombre_exposed        606\n",
    "nombre_recovered    16294\n",
    "Name: 723, dtype: int64"
   ]
  },
  {
   "cell_type": "markdown",
   "id": "409065e1",
   "metadata": {},
   "source": [
    "nombre_infected      1186\n",
    "nombre_sain          1885\n",
    "nombre_exposed        619\n",
    "nombre_recovered    16310\n",
    "Name: 724, dtype: int64"
   ]
  },
  {
   "cell_type": "markdown",
   "id": "66417464",
   "metadata": {},
   "source": [
    "nombre_infected      1200\n",
    "nombre_sain          1866\n",
    "nombre_exposed        612\n",
    "nombre_recovered    16322\n",
    "Name: 725, dtype: int64"
   ]
  },
  {
   "cell_type": "markdown",
   "id": "1bd1e413",
   "metadata": {},
   "source": [
    "nombre_infected      1233\n",
    "nombre_sain          1849\n",
    "nombre_exposed        587\n",
    "nombre_recovered    16331\n",
    "Name: 726, dtype: int64"
   ]
  },
  {
   "cell_type": "markdown",
   "id": "fded2411",
   "metadata": {},
   "source": [
    "nombre_infected      1235\n",
    "nombre_sain          1805\n",
    "nombre_exposed        579\n",
    "nombre_recovered    16381\n",
    "Name: 727, dtype: int64"
   ]
  },
  {
   "cell_type": "markdown",
   "id": "542be397",
   "metadata": {},
   "source": [
    "nombre_infected      1261\n",
    "nombre_sain          1797\n",
    "nombre_exposed        565\n",
    "nombre_recovered    16377\n",
    "Name: 728, dtype: int64"
   ]
  },
  {
   "cell_type": "markdown",
   "id": "c7cc61a1",
   "metadata": {},
   "source": [
    "nombre_infected      1274\n",
    "nombre_sain          1764\n",
    "nombre_exposed        583\n",
    "nombre_recovered    16379\n",
    "Name: 729, dtype: int64"
   ]
  },
  {
   "cell_type": "markdown",
   "id": "21305949",
   "metadata": {},
   "source": [
    "nombre_infected      1256\n",
    "nombre_sain          1721\n",
    "nombre_exposed        589\n",
    "nombre_recovered    16434\n",
    "Name: 730, dtype: int64"
   ]
  }
 ],
 "metadata": {},
 "nbformat": 4,
 "nbformat_minor": 5
}
