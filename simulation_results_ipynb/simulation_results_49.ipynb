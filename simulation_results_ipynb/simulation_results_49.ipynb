{
 "cells": [
  {
   "cell_type": "markdown",
   "id": "88cbc76e",
   "metadata": {},
   "source": [
    "nombre_infected        20\n",
    "nombre_sain         19980\n",
    "nombre_exposed          0\n",
    "nombre_recovered        0\n",
    "Name: 0, dtype: int64"
   ]
  },
  {
   "cell_type": "markdown",
   "id": "96dbc0d2",
   "metadata": {},
   "source": [
    "nombre_infected        20\n",
    "nombre_sain         19969\n",
    "nombre_exposed         11\n",
    "nombre_recovered        0\n",
    "Name: 1, dtype: int64"
   ]
  },
  {
   "cell_type": "markdown",
   "id": "a030b101",
   "metadata": {},
   "source": [
    "nombre_infected        20\n",
    "nombre_sain         19952\n",
    "nombre_exposed         28\n",
    "nombre_recovered        0\n",
    "Name: 2, dtype: int64"
   ]
  },
  {
   "cell_type": "markdown",
   "id": "f21523dd",
   "metadata": {},
   "source": [
    "nombre_infected        24\n",
    "nombre_sain         19926\n",
    "nombre_exposed         50\n",
    "nombre_recovered        0\n",
    "Name: 3, dtype: int64"
   ]
  },
  {
   "cell_type": "markdown",
   "id": "f58f207d",
   "metadata": {},
   "source": [
    "nombre_infected        29\n",
    "nombre_sain         19897\n",
    "nombre_exposed         74\n",
    "nombre_recovered        0\n",
    "Name: 4, dtype: int64"
   ]
  },
  {
   "cell_type": "markdown",
   "id": "8de73f43",
   "metadata": {},
   "source": [
    "nombre_infected        40\n",
    "nombre_sain         19843\n",
    "nombre_exposed        117\n",
    "nombre_recovered        0\n",
    "Name: 5, dtype: int64"
   ]
  },
  {
   "cell_type": "markdown",
   "id": "4d4a0613",
   "metadata": {},
   "source": [
    "nombre_infected        57\n",
    "nombre_sain         19786\n",
    "nombre_exposed        154\n",
    "nombre_recovered        3\n",
    "Name: 6, dtype: int64"
   ]
  },
  {
   "cell_type": "markdown",
   "id": "ed6ec9ee",
   "metadata": {},
   "source": [
    "nombre_infected        81\n",
    "nombre_sain         19698\n",
    "nombre_exposed        216\n",
    "nombre_recovered        5\n",
    "Name: 7, dtype: int64"
   ]
  },
  {
   "cell_type": "markdown",
   "id": "b7bd2b76",
   "metadata": {},
   "source": [
    "nombre_infected        91\n",
    "nombre_sain         19596\n",
    "nombre_exposed        282\n",
    "nombre_recovered       31\n",
    "Name: 8, dtype: int64"
   ]
  },
  {
   "cell_type": "markdown",
   "id": "f2c6d382",
   "metadata": {},
   "source": [
    "nombre_infected       138\n",
    "nombre_sain         19467\n",
    "nombre_exposed        358\n",
    "nombre_recovered       37\n",
    "Name: 9, dtype: int64"
   ]
  },
  {
   "cell_type": "markdown",
   "id": "08aadc89",
   "metadata": {},
   "source": [
    "nombre_infected       169\n",
    "nombre_sain         19272\n",
    "nombre_exposed        502\n",
    "nombre_recovered       57\n",
    "Name: 10, dtype: int64"
   ]
  },
  {
   "cell_type": "markdown",
   "id": "88e1b817",
   "metadata": {},
   "source": [
    "nombre_infected       235\n",
    "nombre_sain         19044\n",
    "nombre_exposed        649\n",
    "nombre_recovered       72\n",
    "Name: 11, dtype: int64"
   ]
  },
  {
   "cell_type": "markdown",
   "id": "b9e0c21a",
   "metadata": {},
   "source": [
    "nombre_infected       336\n",
    "nombre_sain         18711\n",
    "nombre_exposed        857\n",
    "nombre_recovered       96\n",
    "Name: 12, dtype: int64"
   ]
  },
  {
   "cell_type": "markdown",
   "id": "880c4d1c",
   "metadata": {},
   "source": [
    "nombre_infected       446\n",
    "nombre_sain         18336\n",
    "nombre_exposed       1090\n",
    "nombre_recovered      128\n",
    "Name: 13, dtype: int64"
   ]
  },
  {
   "cell_type": "markdown",
   "id": "5c2c8bf2",
   "metadata": {},
   "source": [
    "nombre_infected       579\n",
    "nombre_sain         17778\n",
    "nombre_exposed       1472\n",
    "nombre_recovered      171\n",
    "Name: 14, dtype: int64"
   ]
  },
  {
   "cell_type": "markdown",
   "id": "d1d355df",
   "metadata": {},
   "source": [
    "nombre_infected       780\n",
    "nombre_sain         17060\n",
    "nombre_exposed       1942\n",
    "nombre_recovered      218\n",
    "Name: 15, dtype: int64"
   ]
  },
  {
   "cell_type": "markdown",
   "id": "198bb512",
   "metadata": {},
   "source": [
    "nombre_infected      1064\n",
    "nombre_sain         16165\n",
    "nombre_exposed       2487\n",
    "nombre_recovered      284\n",
    "Name: 16, dtype: int64"
   ]
  },
  {
   "cell_type": "markdown",
   "id": "51c137e5",
   "metadata": {},
   "source": [
    "nombre_infected      1346\n",
    "nombre_sain         15076\n",
    "nombre_exposed       3193\n",
    "nombre_recovered      385\n",
    "Name: 17, dtype: int64"
   ]
  },
  {
   "cell_type": "markdown",
   "id": "cb022db3",
   "metadata": {},
   "source": [
    "nombre_infected      1827\n",
    "nombre_sain         13753\n",
    "nombre_exposed       3903\n",
    "nombre_recovered      517\n",
    "Name: 18, dtype: int64"
   ]
  },
  {
   "cell_type": "markdown",
   "id": "1f88fc99",
   "metadata": {},
   "source": [
    "nombre_infected      2324\n",
    "nombre_sain         12273\n",
    "nombre_exposed       4727\n",
    "nombre_recovered      676\n",
    "Name: 19, dtype: int64"
   ]
  },
  {
   "cell_type": "markdown",
   "id": "0a7188ec",
   "metadata": {},
   "source": [
    "nombre_infected      3044\n",
    "nombre_sain         10552\n",
    "nombre_exposed       5514\n",
    "nombre_recovered      890\n",
    "Name: 20, dtype: int64"
   ]
  },
  {
   "cell_type": "markdown",
   "id": "e286b053",
   "metadata": {},
   "source": [
    "nombre_infected     3771\n",
    "nombre_sain         8774\n",
    "nombre_exposed      6280\n",
    "nombre_recovered    1175\n",
    "Name: 21, dtype: int64"
   ]
  },
  {
   "cell_type": "markdown",
   "id": "a94e222b",
   "metadata": {},
   "source": [
    "nombre_infected     4641\n",
    "nombre_sain         7020\n",
    "nombre_exposed      6826\n",
    "nombre_recovered    1513\n",
    "Name: 22, dtype: int64"
   ]
  },
  {
   "cell_type": "markdown",
   "id": "2a941e7f",
   "metadata": {},
   "source": [
    "nombre_infected     5547\n",
    "nombre_sain         5371\n",
    "nombre_exposed      7104\n",
    "nombre_recovered    1978\n",
    "Name: 23, dtype: int64"
   ]
  },
  {
   "cell_type": "markdown",
   "id": "e8e15c19",
   "metadata": {},
   "source": [
    "nombre_infected     6429\n",
    "nombre_sain         3967\n",
    "nombre_exposed      7072\n",
    "nombre_recovered    2532\n",
    "Name: 24, dtype: int64"
   ]
  },
  {
   "cell_type": "markdown",
   "id": "c24be3fb",
   "metadata": {},
   "source": [
    "nombre_infected     7300\n",
    "nombre_sain         2874\n",
    "nombre_exposed      6621\n",
    "nombre_recovered    3205\n",
    "Name: 25, dtype: int64"
   ]
  },
  {
   "cell_type": "markdown",
   "id": "6cad0223",
   "metadata": {},
   "source": [
    "nombre_infected     8126\n",
    "nombre_sain         1977\n",
    "nombre_exposed      5969\n",
    "nombre_recovered    3928\n",
    "Name: 26, dtype: int64"
   ]
  },
  {
   "cell_type": "markdown",
   "id": "1ad237de",
   "metadata": {},
   "source": [
    "nombre_infected     8614\n",
    "nombre_sain         1313\n",
    "nombre_exposed      5240\n",
    "nombre_recovered    4833\n",
    "Name: 27, dtype: int64"
   ]
  },
  {
   "cell_type": "markdown",
   "id": "ddb1d68c",
   "metadata": {},
   "source": [
    "nombre_infected     8835\n",
    "nombre_sain          901\n",
    "nombre_exposed      4433\n",
    "nombre_recovered    5831\n",
    "Name: 28, dtype: int64"
   ]
  },
  {
   "cell_type": "markdown",
   "id": "4e5892b2",
   "metadata": {},
   "source": [
    "nombre_infected     8942\n",
    "nombre_sain          647\n",
    "nombre_exposed      3623\n",
    "nombre_recovered    6788\n",
    "Name: 29, dtype: int64"
   ]
  },
  {
   "cell_type": "markdown",
   "id": "9df8fe95",
   "metadata": {},
   "source": [
    "nombre_infected     8854\n",
    "nombre_sain          429\n",
    "nombre_exposed      2917\n",
    "nombre_recovered    7800\n",
    "Name: 30, dtype: int64"
   ]
  },
  {
   "cell_type": "markdown",
   "id": "8a1077cd",
   "metadata": {},
   "source": [
    "nombre_infected     8544\n",
    "nombre_sain          293\n",
    "nombre_exposed      2329\n",
    "nombre_recovered    8834\n",
    "Name: 31, dtype: int64"
   ]
  },
  {
   "cell_type": "markdown",
   "id": "7b8912f3",
   "metadata": {},
   "source": [
    "nombre_infected     8135\n",
    "nombre_sain          209\n",
    "nombre_exposed      1837\n",
    "nombre_recovered    9819\n",
    "Name: 32, dtype: int64"
   ]
  },
  {
   "cell_type": "markdown",
   "id": "a9cf526c",
   "metadata": {},
   "source": [
    "nombre_infected      7583\n",
    "nombre_sain           175\n",
    "nombre_exposed       1450\n",
    "nombre_recovered    10792\n",
    "Name: 33, dtype: int64"
   ]
  },
  {
   "cell_type": "markdown",
   "id": "fe98c2de",
   "metadata": {},
   "source": [
    "nombre_infected      6947\n",
    "nombre_sain           141\n",
    "nombre_exposed       1157\n",
    "nombre_recovered    11755\n",
    "Name: 34, dtype: int64"
   ]
  },
  {
   "cell_type": "markdown",
   "id": "55dd71df",
   "metadata": {},
   "source": [
    "nombre_infected      6336\n",
    "nombre_sain           113\n",
    "nombre_exposed        954\n",
    "nombre_recovered    12597\n",
    "Name: 35, dtype: int64"
   ]
  },
  {
   "cell_type": "markdown",
   "id": "d2144825",
   "metadata": {},
   "source": [
    "nombre_infected      5726\n",
    "nombre_sain           110\n",
    "nombre_exposed        779\n",
    "nombre_recovered    13385\n",
    "Name: 36, dtype: int64"
   ]
  },
  {
   "cell_type": "markdown",
   "id": "6d65c3a4",
   "metadata": {},
   "source": [
    "nombre_infected      5103\n",
    "nombre_sain           101\n",
    "nombre_exposed        631\n",
    "nombre_recovered    14165\n",
    "Name: 37, dtype: int64"
   ]
  },
  {
   "cell_type": "markdown",
   "id": "1dc99fdd",
   "metadata": {},
   "source": [
    "nombre_infected      4571\n",
    "nombre_sain           118\n",
    "nombre_exposed        518\n",
    "nombre_recovered    14793\n",
    "Name: 38, dtype: int64"
   ]
  },
  {
   "cell_type": "markdown",
   "id": "a3044809",
   "metadata": {},
   "source": [
    "nombre_infected      4131\n",
    "nombre_sain           121\n",
    "nombre_exposed        431\n",
    "nombre_recovered    15317\n",
    "Name: 39, dtype: int64"
   ]
  },
  {
   "cell_type": "markdown",
   "id": "7b63182d",
   "metadata": {},
   "source": [
    "nombre_infected      3610\n",
    "nombre_sain           135\n",
    "nombre_exposed        363\n",
    "nombre_recovered    15892\n",
    "Name: 40, dtype: int64"
   ]
  },
  {
   "cell_type": "markdown",
   "id": "c4d7e684",
   "metadata": {},
   "source": [
    "nombre_infected      3190\n",
    "nombre_sain           150\n",
    "nombre_exposed        304\n",
    "nombre_recovered    16356\n",
    "Name: 41, dtype: int64"
   ]
  },
  {
   "cell_type": "markdown",
   "id": "58355260",
   "metadata": {},
   "source": [
    "nombre_infected      2804\n",
    "nombre_sain           178\n",
    "nombre_exposed        250\n",
    "nombre_recovered    16768\n",
    "Name: 42, dtype: int64"
   ]
  },
  {
   "cell_type": "markdown",
   "id": "465bb1bb",
   "metadata": {},
   "source": [
    "nombre_infected      2473\n",
    "nombre_sain           215\n",
    "nombre_exposed        208\n",
    "nombre_recovered    17104\n",
    "Name: 43, dtype: int64"
   ]
  },
  {
   "cell_type": "markdown",
   "id": "a044f4c2",
   "metadata": {},
   "source": [
    "nombre_infected      2181\n",
    "nombre_sain           232\n",
    "nombre_exposed        183\n",
    "nombre_recovered    17404\n",
    "Name: 44, dtype: int64"
   ]
  },
  {
   "cell_type": "markdown",
   "id": "2f91dea8",
   "metadata": {},
   "source": [
    "nombre_infected      1904\n",
    "nombre_sain           246\n",
    "nombre_exposed        170\n",
    "nombre_recovered    17680\n",
    "Name: 45, dtype: int64"
   ]
  },
  {
   "cell_type": "markdown",
   "id": "6bd0e2fd",
   "metadata": {},
   "source": [
    "nombre_infected      1631\n",
    "nombre_sain           270\n",
    "nombre_exposed        167\n",
    "nombre_recovered    17932\n",
    "Name: 46, dtype: int64"
   ]
  },
  {
   "cell_type": "markdown",
   "id": "9415ba93",
   "metadata": {},
   "source": [
    "nombre_infected      1432\n",
    "nombre_sain           295\n",
    "nombre_exposed        151\n",
    "nombre_recovered    18122\n",
    "Name: 47, dtype: int64"
   ]
  },
  {
   "cell_type": "markdown",
   "id": "d716fca6",
   "metadata": {},
   "source": [
    "nombre_infected      1249\n",
    "nombre_sain           330\n",
    "nombre_exposed        149\n",
    "nombre_recovered    18272\n",
    "Name: 48, dtype: int64"
   ]
  },
  {
   "cell_type": "markdown",
   "id": "72e607db",
   "metadata": {},
   "source": [
    "nombre_infected      1079\n",
    "nombre_sain           366\n",
    "nombre_exposed        158\n",
    "nombre_recovered    18397\n",
    "Name: 49, dtype: int64"
   ]
  },
  {
   "cell_type": "markdown",
   "id": "4c14f7c8",
   "metadata": {},
   "source": [
    "nombre_infected       918\n",
    "nombre_sain           407\n",
    "nombre_exposed        158\n",
    "nombre_recovered    18517\n",
    "Name: 50, dtype: int64"
   ]
  },
  {
   "cell_type": "markdown",
   "id": "00b3fee0",
   "metadata": {},
   "source": [
    "nombre_infected       789\n",
    "nombre_sain           454\n",
    "nombre_exposed        142\n",
    "nombre_recovered    18615\n",
    "Name: 51, dtype: int64"
   ]
  },
  {
   "cell_type": "markdown",
   "id": "886a7815",
   "metadata": {},
   "source": [
    "nombre_infected       659\n",
    "nombre_sain           492\n",
    "nombre_exposed        139\n",
    "nombre_recovered    18710\n",
    "Name: 52, dtype: int64"
   ]
  },
  {
   "cell_type": "markdown",
   "id": "2bcfbb1c",
   "metadata": {},
   "source": [
    "nombre_infected       570\n",
    "nombre_sain           517\n",
    "nombre_exposed        141\n",
    "nombre_recovered    18772\n",
    "Name: 53, dtype: int64"
   ]
  },
  {
   "cell_type": "markdown",
   "id": "fb0dbbed",
   "metadata": {},
   "source": [
    "nombre_infected       490\n",
    "nombre_sain           557\n",
    "nombre_exposed        123\n",
    "nombre_recovered    18830\n",
    "Name: 54, dtype: int64"
   ]
  },
  {
   "cell_type": "markdown",
   "id": "ddd9a916",
   "metadata": {},
   "source": [
    "nombre_infected       430\n",
    "nombre_sain           592\n",
    "nombre_exposed        116\n",
    "nombre_recovered    18862\n",
    "Name: 55, dtype: int64"
   ]
  },
  {
   "cell_type": "markdown",
   "id": "99131413",
   "metadata": {},
   "source": [
    "nombre_infected       365\n",
    "nombre_sain           628\n",
    "nombre_exposed        104\n",
    "nombre_recovered    18903\n",
    "Name: 56, dtype: int64"
   ]
  },
  {
   "cell_type": "markdown",
   "id": "d180304b",
   "metadata": {},
   "source": [
    "nombre_infected       295\n",
    "nombre_sain           665\n",
    "nombre_exposed         95\n",
    "nombre_recovered    18945\n",
    "Name: 57, dtype: int64"
   ]
  },
  {
   "cell_type": "markdown",
   "id": "73dd0f53",
   "metadata": {},
   "source": [
    "nombre_infected       245\n",
    "nombre_sain           694\n",
    "nombre_exposed         95\n",
    "nombre_recovered    18966\n",
    "Name: 58, dtype: int64"
   ]
  },
  {
   "cell_type": "markdown",
   "id": "6a544527",
   "metadata": {},
   "source": [
    "nombre_infected       223\n",
    "nombre_sain           732\n",
    "nombre_exposed         88\n",
    "nombre_recovered    18957\n",
    "Name: 59, dtype: int64"
   ]
  },
  {
   "cell_type": "markdown",
   "id": "c586caec",
   "metadata": {},
   "source": [
    "nombre_infected       191\n",
    "nombre_sain           765\n",
    "nombre_exposed         75\n",
    "nombre_recovered    18969\n",
    "Name: 60, dtype: int64"
   ]
  },
  {
   "cell_type": "markdown",
   "id": "8931ade8",
   "metadata": {},
   "source": [
    "nombre_infected       169\n",
    "nombre_sain           802\n",
    "nombre_exposed         69\n",
    "nombre_recovered    18960\n",
    "Name: 61, dtype: int64"
   ]
  },
  {
   "cell_type": "markdown",
   "id": "5094378d",
   "metadata": {},
   "source": [
    "nombre_infected       150\n",
    "nombre_sain           852\n",
    "nombre_exposed         57\n",
    "nombre_recovered    18941\n",
    "Name: 62, dtype: int64"
   ]
  },
  {
   "cell_type": "markdown",
   "id": "62af925b",
   "metadata": {},
   "source": [
    "nombre_infected       132\n",
    "nombre_sain           913\n",
    "nombre_exposed         56\n",
    "nombre_recovered    18899\n",
    "Name: 63, dtype: int64"
   ]
  },
  {
   "cell_type": "markdown",
   "id": "51cf265e",
   "metadata": {},
   "source": [
    "nombre_infected       118\n",
    "nombre_sain           966\n",
    "nombre_exposed         52\n",
    "nombre_recovered    18864\n",
    "Name: 64, dtype: int64"
   ]
  },
  {
   "cell_type": "markdown",
   "id": "09eaf00d",
   "metadata": {},
   "source": [
    "nombre_infected       100\n",
    "nombre_sain          1006\n",
    "nombre_exposed         56\n",
    "nombre_recovered    18838\n",
    "Name: 65, dtype: int64"
   ]
  },
  {
   "cell_type": "markdown",
   "id": "35d1afc1",
   "metadata": {},
   "source": [
    "nombre_infected        77\n",
    "nombre_sain          1066\n",
    "nombre_exposed         52\n",
    "nombre_recovered    18805\n",
    "Name: 66, dtype: int64"
   ]
  },
  {
   "cell_type": "markdown",
   "id": "0311c342",
   "metadata": {},
   "source": [
    "nombre_infected        78\n",
    "nombre_sain          1124\n",
    "nombre_exposed         44\n",
    "nombre_recovered    18754\n",
    "Name: 67, dtype: int64"
   ]
  },
  {
   "cell_type": "markdown",
   "id": "9c39991c",
   "metadata": {},
   "source": [
    "nombre_infected        75\n",
    "nombre_sain          1189\n",
    "nombre_exposed         36\n",
    "nombre_recovered    18700\n",
    "Name: 68, dtype: int64"
   ]
  },
  {
   "cell_type": "markdown",
   "id": "b63da309",
   "metadata": {},
   "source": [
    "nombre_infected        73\n",
    "nombre_sain          1265\n",
    "nombre_exposed         30\n",
    "nombre_recovered    18632\n",
    "Name: 69, dtype: int64"
   ]
  },
  {
   "cell_type": "markdown",
   "id": "615c63bf",
   "metadata": {},
   "source": [
    "nombre_infected        72\n",
    "nombre_sain          1331\n",
    "nombre_exposed         25\n",
    "nombre_recovered    18572\n",
    "Name: 70, dtype: int64"
   ]
  },
  {
   "cell_type": "markdown",
   "id": "5c03a24b",
   "metadata": {},
   "source": [
    "nombre_infected        69\n",
    "nombre_sain          1394\n",
    "nombre_exposed         23\n",
    "nombre_recovered    18514\n",
    "Name: 71, dtype: int64"
   ]
  },
  {
   "cell_type": "markdown",
   "id": "d6e6fa21",
   "metadata": {},
   "source": [
    "nombre_infected        60\n",
    "nombre_sain          1465\n",
    "nombre_exposed         28\n",
    "nombre_recovered    18447\n",
    "Name: 72, dtype: int64"
   ]
  },
  {
   "cell_type": "markdown",
   "id": "2fc32a4d",
   "metadata": {},
   "source": [
    "nombre_infected        56\n",
    "nombre_sain          1516\n",
    "nombre_exposed         30\n",
    "nombre_recovered    18398\n",
    "Name: 73, dtype: int64"
   ]
  },
  {
   "cell_type": "markdown",
   "id": "2002118a",
   "metadata": {},
   "source": [
    "nombre_infected        57\n",
    "nombre_sain          1569\n",
    "nombre_exposed         27\n",
    "nombre_recovered    18347\n",
    "Name: 74, dtype: int64"
   ]
  },
  {
   "cell_type": "markdown",
   "id": "44eaa72e",
   "metadata": {},
   "source": [
    "nombre_infected        49\n",
    "nombre_sain          1635\n",
    "nombre_exposed         27\n",
    "nombre_recovered    18289\n",
    "Name: 75, dtype: int64"
   ]
  },
  {
   "cell_type": "markdown",
   "id": "eb603693",
   "metadata": {},
   "source": [
    "nombre_infected        48\n",
    "nombre_sain          1692\n",
    "nombre_exposed         26\n",
    "nombre_recovered    18234\n",
    "Name: 76, dtype: int64"
   ]
  },
  {
   "cell_type": "markdown",
   "id": "e258684d",
   "metadata": {},
   "source": [
    "nombre_infected        48\n",
    "nombre_sain          1726\n",
    "nombre_exposed         28\n",
    "nombre_recovered    18198\n",
    "Name: 77, dtype: int64"
   ]
  },
  {
   "cell_type": "markdown",
   "id": "f1c2a94c",
   "metadata": {},
   "source": [
    "nombre_infected        41\n",
    "nombre_sain          1779\n",
    "nombre_exposed         31\n",
    "nombre_recovered    18149\n",
    "Name: 78, dtype: int64"
   ]
  },
  {
   "cell_type": "markdown",
   "id": "f99bb8cf",
   "metadata": {},
   "source": [
    "nombre_infected        43\n",
    "nombre_sain          1825\n",
    "nombre_exposed         30\n",
    "nombre_recovered    18102\n",
    "Name: 79, dtype: int64"
   ]
  },
  {
   "cell_type": "markdown",
   "id": "ef225b2a",
   "metadata": {},
   "source": [
    "nombre_infected        40\n",
    "nombre_sain          1867\n",
    "nombre_exposed         26\n",
    "nombre_recovered    18067\n",
    "Name: 80, dtype: int64"
   ]
  },
  {
   "cell_type": "markdown",
   "id": "fbcc126e",
   "metadata": {},
   "source": [
    "nombre_infected        35\n",
    "nombre_sain          1896\n",
    "nombre_exposed         26\n",
    "nombre_recovered    18043\n",
    "Name: 81, dtype: int64"
   ]
  },
  {
   "cell_type": "markdown",
   "id": "8588c021",
   "metadata": {},
   "source": [
    "nombre_infected        38\n",
    "nombre_sain          1931\n",
    "nombre_exposed         23\n",
    "nombre_recovered    18008\n",
    "Name: 82, dtype: int64"
   ]
  },
  {
   "cell_type": "markdown",
   "id": "b517a646",
   "metadata": {},
   "source": [
    "nombre_infected        39\n",
    "nombre_sain          1964\n",
    "nombre_exposed         26\n",
    "nombre_recovered    17971\n",
    "Name: 83, dtype: int64"
   ]
  },
  {
   "cell_type": "markdown",
   "id": "6fa86728",
   "metadata": {},
   "source": [
    "nombre_infected        41\n",
    "nombre_sain          2002\n",
    "nombre_exposed         23\n",
    "nombre_recovered    17934\n",
    "Name: 84, dtype: int64"
   ]
  },
  {
   "cell_type": "markdown",
   "id": "5e18db73",
   "metadata": {},
   "source": [
    "nombre_infected        40\n",
    "nombre_sain          2043\n",
    "nombre_exposed         21\n",
    "nombre_recovered    17896\n",
    "Name: 85, dtype: int64"
   ]
  },
  {
   "cell_type": "markdown",
   "id": "67d9aa05",
   "metadata": {},
   "source": [
    "nombre_infected        37\n",
    "nombre_sain          2074\n",
    "nombre_exposed         27\n",
    "nombre_recovered    17862\n",
    "Name: 86, dtype: int64"
   ]
  },
  {
   "cell_type": "markdown",
   "id": "ccd8bd08",
   "metadata": {},
   "source": [
    "nombre_infected        36\n",
    "nombre_sain          2106\n",
    "nombre_exposed         30\n",
    "nombre_recovered    17828\n",
    "Name: 87, dtype: int64"
   ]
  },
  {
   "cell_type": "markdown",
   "id": "57977144",
   "metadata": {},
   "source": [
    "nombre_infected        35\n",
    "nombre_sain          2136\n",
    "nombre_exposed         30\n",
    "nombre_recovered    17799\n",
    "Name: 88, dtype: int64"
   ]
  },
  {
   "cell_type": "markdown",
   "id": "6ef7a0a0",
   "metadata": {},
   "source": [
    "nombre_infected        39\n",
    "nombre_sain          2154\n",
    "nombre_exposed         29\n",
    "nombre_recovered    17778\n",
    "Name: 89, dtype: int64"
   ]
  },
  {
   "cell_type": "markdown",
   "id": "43a6b4c2",
   "metadata": {},
   "source": [
    "nombre_infected        42\n",
    "nombre_sain          2175\n",
    "nombre_exposed         30\n",
    "nombre_recovered    17753\n",
    "Name: 90, dtype: int64"
   ]
  },
  {
   "cell_type": "markdown",
   "id": "44cc388f",
   "metadata": {},
   "source": [
    "nombre_infected        38\n",
    "nombre_sain          2211\n",
    "nombre_exposed         28\n",
    "nombre_recovered    17723\n",
    "Name: 91, dtype: int64"
   ]
  },
  {
   "cell_type": "markdown",
   "id": "6dd6e879",
   "metadata": {},
   "source": [
    "nombre_infected        40\n",
    "nombre_sain          2251\n",
    "nombre_exposed         28\n",
    "nombre_recovered    17681\n",
    "Name: 92, dtype: int64"
   ]
  },
  {
   "cell_type": "markdown",
   "id": "66ddd86d",
   "metadata": {},
   "source": [
    "nombre_infected        37\n",
    "nombre_sain          2285\n",
    "nombre_exposed         31\n",
    "nombre_recovered    17647\n",
    "Name: 93, dtype: int64"
   ]
  },
  {
   "cell_type": "markdown",
   "id": "c55f01e0",
   "metadata": {},
   "source": [
    "nombre_infected        37\n",
    "nombre_sain          2323\n",
    "nombre_exposed         28\n",
    "nombre_recovered    17612\n",
    "Name: 94, dtype: int64"
   ]
  },
  {
   "cell_type": "markdown",
   "id": "5566f3da",
   "metadata": {},
   "source": [
    "nombre_infected        40\n",
    "nombre_sain          2369\n",
    "nombre_exposed         28\n",
    "nombre_recovered    17563\n",
    "Name: 95, dtype: int64"
   ]
  },
  {
   "cell_type": "markdown",
   "id": "7df5ebce",
   "metadata": {},
   "source": [
    "nombre_infected        40\n",
    "nombre_sain          2433\n",
    "nombre_exposed         27\n",
    "nombre_recovered    17500\n",
    "Name: 96, dtype: int64"
   ]
  },
  {
   "cell_type": "markdown",
   "id": "75d133bd",
   "metadata": {},
   "source": [
    "nombre_infected        44\n",
    "nombre_sain          2483\n",
    "nombre_exposed         29\n",
    "nombre_recovered    17444\n",
    "Name: 97, dtype: int64"
   ]
  },
  {
   "cell_type": "markdown",
   "id": "9a35e3f0",
   "metadata": {},
   "source": [
    "nombre_infected        41\n",
    "nombre_sain          2530\n",
    "nombre_exposed         31\n",
    "nombre_recovered    17398\n",
    "Name: 98, dtype: int64"
   ]
  },
  {
   "cell_type": "markdown",
   "id": "ab13a836",
   "metadata": {},
   "source": [
    "nombre_infected        43\n",
    "nombre_sain          2588\n",
    "nombre_exposed         32\n",
    "nombre_recovered    17337\n",
    "Name: 99, dtype: int64"
   ]
  },
  {
   "cell_type": "markdown",
   "id": "88c7816b",
   "metadata": {},
   "source": [
    "nombre_infected        39\n",
    "nombre_sain          2652\n",
    "nombre_exposed         42\n",
    "nombre_recovered    17267\n",
    "Name: 100, dtype: int64"
   ]
  },
  {
   "cell_type": "markdown",
   "id": "f436ed33",
   "metadata": {},
   "source": [
    "nombre_infected        40\n",
    "nombre_sain          2718\n",
    "nombre_exposed         44\n",
    "nombre_recovered    17198\n",
    "Name: 101, dtype: int64"
   ]
  },
  {
   "cell_type": "markdown",
   "id": "12c68474",
   "metadata": {},
   "source": [
    "nombre_infected        50\n",
    "nombre_sain          2771\n",
    "nombre_exposed         35\n",
    "nombre_recovered    17144\n",
    "Name: 102, dtype: int64"
   ]
  },
  {
   "cell_type": "markdown",
   "id": "ab4626fe",
   "metadata": {},
   "source": [
    "nombre_infected        50\n",
    "nombre_sain          2835\n",
    "nombre_exposed         37\n",
    "nombre_recovered    17078\n",
    "Name: 103, dtype: int64"
   ]
  },
  {
   "cell_type": "markdown",
   "id": "a20475d1",
   "metadata": {},
   "source": [
    "nombre_infected        49\n",
    "nombre_sain          2906\n",
    "nombre_exposed         35\n",
    "nombre_recovered    17010\n",
    "Name: 104, dtype: int64"
   ]
  },
  {
   "cell_type": "markdown",
   "id": "95c16290",
   "metadata": {},
   "source": [
    "nombre_infected        49\n",
    "nombre_sain          2980\n",
    "nombre_exposed         45\n",
    "nombre_recovered    16926\n",
    "Name: 105, dtype: int64"
   ]
  },
  {
   "cell_type": "markdown",
   "id": "4951f24b",
   "metadata": {},
   "source": [
    "nombre_infected        49\n",
    "nombre_sain          3045\n",
    "nombre_exposed         40\n",
    "nombre_recovered    16866\n",
    "Name: 106, dtype: int64"
   ]
  },
  {
   "cell_type": "markdown",
   "id": "fde1689a",
   "metadata": {},
   "source": [
    "nombre_infected        50\n",
    "nombre_sain          3109\n",
    "nombre_exposed         44\n",
    "nombre_recovered    16797\n",
    "Name: 107, dtype: int64"
   ]
  },
  {
   "cell_type": "markdown",
   "id": "470d76e1",
   "metadata": {},
   "source": [
    "nombre_infected        55\n",
    "nombre_sain          3165\n",
    "nombre_exposed         51\n",
    "nombre_recovered    16729\n",
    "Name: 108, dtype: int64"
   ]
  },
  {
   "cell_type": "markdown",
   "id": "9f6e7198",
   "metadata": {},
   "source": [
    "nombre_infected        53\n",
    "nombre_sain          3216\n",
    "nombre_exposed         55\n",
    "nombre_recovered    16676\n",
    "Name: 109, dtype: int64"
   ]
  },
  {
   "cell_type": "markdown",
   "id": "3537feaf",
   "metadata": {},
   "source": [
    "nombre_infected        57\n",
    "nombre_sain          3269\n",
    "nombre_exposed         58\n",
    "nombre_recovered    16616\n",
    "Name: 110, dtype: int64"
   ]
  },
  {
   "cell_type": "markdown",
   "id": "1e49e7ac",
   "metadata": {},
   "source": [
    "nombre_infected        54\n",
    "nombre_sain          3335\n",
    "nombre_exposed         58\n",
    "nombre_recovered    16553\n",
    "Name: 111, dtype: int64"
   ]
  },
  {
   "cell_type": "markdown",
   "id": "1c5cab0c",
   "metadata": {},
   "source": [
    "nombre_infected        57\n",
    "nombre_sain          3394\n",
    "nombre_exposed         61\n",
    "nombre_recovered    16488\n",
    "Name: 112, dtype: int64"
   ]
  },
  {
   "cell_type": "markdown",
   "id": "4ad9cc48",
   "metadata": {},
   "source": [
    "nombre_infected        61\n",
    "nombre_sain          3443\n",
    "nombre_exposed         63\n",
    "nombre_recovered    16433\n",
    "Name: 113, dtype: int64"
   ]
  },
  {
   "cell_type": "markdown",
   "id": "bf58ee36",
   "metadata": {},
   "source": [
    "nombre_infected        63\n",
    "nombre_sain          3481\n",
    "nombre_exposed         68\n",
    "nombre_recovered    16388\n",
    "Name: 114, dtype: int64"
   ]
  },
  {
   "cell_type": "markdown",
   "id": "9144d833",
   "metadata": {},
   "source": [
    "nombre_infected        72\n",
    "nombre_sain          3525\n",
    "nombre_exposed         64\n",
    "nombre_recovered    16339\n",
    "Name: 115, dtype: int64"
   ]
  },
  {
   "cell_type": "markdown",
   "id": "b82b495b",
   "metadata": {},
   "source": [
    "nombre_infected        70\n",
    "nombre_sain          3552\n",
    "nombre_exposed         63\n",
    "nombre_recovered    16315\n",
    "Name: 116, dtype: int64"
   ]
  },
  {
   "cell_type": "markdown",
   "id": "bcfb2ca0",
   "metadata": {},
   "source": [
    "nombre_infected        78\n",
    "nombre_sain          3580\n",
    "nombre_exposed         63\n",
    "nombre_recovered    16279\n",
    "Name: 117, dtype: int64"
   ]
  },
  {
   "cell_type": "markdown",
   "id": "59393b28",
   "metadata": {},
   "source": [
    "nombre_infected        81\n",
    "nombre_sain          3607\n",
    "nombre_exposed         66\n",
    "nombre_recovered    16246\n",
    "Name: 118, dtype: int64"
   ]
  },
  {
   "cell_type": "markdown",
   "id": "e5dd74cf",
   "metadata": {},
   "source": [
    "nombre_infected        84\n",
    "nombre_sain          3623\n",
    "nombre_exposed         73\n",
    "nombre_recovered    16220\n",
    "Name: 119, dtype: int64"
   ]
  },
  {
   "cell_type": "markdown",
   "id": "3be21519",
   "metadata": {},
   "source": [
    "nombre_infected        87\n",
    "nombre_sain          3641\n",
    "nombre_exposed         80\n",
    "nombre_recovered    16192\n",
    "Name: 120, dtype: int64"
   ]
  },
  {
   "cell_type": "markdown",
   "id": "c50a3f97",
   "metadata": {},
   "source": [
    "nombre_infected        89\n",
    "nombre_sain          3679\n",
    "nombre_exposed         84\n",
    "nombre_recovered    16148\n",
    "Name: 121, dtype: int64"
   ]
  },
  {
   "cell_type": "markdown",
   "id": "99653b6c",
   "metadata": {},
   "source": [
    "nombre_infected       101\n",
    "nombre_sain          3715\n",
    "nombre_exposed         85\n",
    "nombre_recovered    16099\n",
    "Name: 122, dtype: int64"
   ]
  },
  {
   "cell_type": "markdown",
   "id": "568d74bc",
   "metadata": {},
   "source": [
    "nombre_infected       103\n",
    "nombre_sain          3731\n",
    "nombre_exposed         99\n",
    "nombre_recovered    16067\n",
    "Name: 123, dtype: int64"
   ]
  },
  {
   "cell_type": "markdown",
   "id": "38771130",
   "metadata": {},
   "source": [
    "nombre_infected       102\n",
    "nombre_sain          3759\n",
    "nombre_exposed        109\n",
    "nombre_recovered    16030\n",
    "Name: 124, dtype: int64"
   ]
  },
  {
   "cell_type": "markdown",
   "id": "bac37480",
   "metadata": {},
   "source": [
    "nombre_infected       109\n",
    "nombre_sain          3776\n",
    "nombre_exposed        109\n",
    "nombre_recovered    16006\n",
    "Name: 125, dtype: int64"
   ]
  },
  {
   "cell_type": "markdown",
   "id": "fadcacec",
   "metadata": {},
   "source": [
    "nombre_infected       122\n",
    "nombre_sain          3793\n",
    "nombre_exposed        114\n",
    "nombre_recovered    15971\n",
    "Name: 126, dtype: int64"
   ]
  },
  {
   "cell_type": "markdown",
   "id": "3694bd43",
   "metadata": {},
   "source": [
    "nombre_infected       126\n",
    "nombre_sain          3829\n",
    "nombre_exposed        123\n",
    "nombre_recovered    15922\n",
    "Name: 127, dtype: int64"
   ]
  },
  {
   "cell_type": "markdown",
   "id": "90c26079",
   "metadata": {},
   "source": [
    "nombre_infected       141\n",
    "nombre_sain          3867\n",
    "nombre_exposed        132\n",
    "nombre_recovered    15860\n",
    "Name: 128, dtype: int64"
   ]
  },
  {
   "cell_type": "markdown",
   "id": "4481cd76",
   "metadata": {},
   "source": [
    "nombre_infected       153\n",
    "nombre_sain          3889\n",
    "nombre_exposed        137\n",
    "nombre_recovered    15821\n",
    "Name: 129, dtype: int64"
   ]
  },
  {
   "cell_type": "markdown",
   "id": "bc52483f",
   "metadata": {},
   "source": [
    "nombre_infected       158\n",
    "nombre_sain          3904\n",
    "nombre_exposed        163\n",
    "nombre_recovered    15775\n",
    "Name: 130, dtype: int64"
   ]
  },
  {
   "cell_type": "markdown",
   "id": "287049ad",
   "metadata": {},
   "source": [
    "nombre_infected       160\n",
    "nombre_sain          3917\n",
    "nombre_exposed        174\n",
    "nombre_recovered    15749\n",
    "Name: 131, dtype: int64"
   ]
  },
  {
   "cell_type": "markdown",
   "id": "06028226",
   "metadata": {},
   "source": [
    "nombre_infected       179\n",
    "nombre_sain          3932\n",
    "nombre_exposed        180\n",
    "nombre_recovered    15709\n",
    "Name: 132, dtype: int64"
   ]
  },
  {
   "cell_type": "markdown",
   "id": "70e06979",
   "metadata": {},
   "source": [
    "nombre_infected       198\n",
    "nombre_sain          3949\n",
    "nombre_exposed        180\n",
    "nombre_recovered    15673\n",
    "Name: 133, dtype: int64"
   ]
  },
  {
   "cell_type": "markdown",
   "id": "6b1db7fe",
   "metadata": {},
   "source": [
    "nombre_infected       207\n",
    "nombre_sain          3957\n",
    "nombre_exposed        195\n",
    "nombre_recovered    15641\n",
    "Name: 134, dtype: int64"
   ]
  },
  {
   "cell_type": "markdown",
   "id": "5f89f0c9",
   "metadata": {},
   "source": [
    "nombre_infected       221\n",
    "nombre_sain          3978\n",
    "nombre_exposed        203\n",
    "nombre_recovered    15598\n",
    "Name: 135, dtype: int64"
   ]
  },
  {
   "cell_type": "markdown",
   "id": "898a07f8",
   "metadata": {},
   "source": [
    "nombre_infected       229\n",
    "nombre_sain          3971\n",
    "nombre_exposed        218\n",
    "nombre_recovered    15582\n",
    "Name: 136, dtype: int64"
   ]
  },
  {
   "cell_type": "markdown",
   "id": "baa6afda",
   "metadata": {},
   "source": [
    "nombre_infected       231\n",
    "nombre_sain          3956\n",
    "nombre_exposed        250\n",
    "nombre_recovered    15563\n",
    "Name: 137, dtype: int64"
   ]
  },
  {
   "cell_type": "markdown",
   "id": "bb2e6e44",
   "metadata": {},
   "source": [
    "nombre_infected       237\n",
    "nombre_sain          3939\n",
    "nombre_exposed        259\n",
    "nombre_recovered    15565\n",
    "Name: 138, dtype: int64"
   ]
  },
  {
   "cell_type": "markdown",
   "id": "56aabe4b",
   "metadata": {},
   "source": [
    "nombre_infected       272\n",
    "nombre_sain          3893\n",
    "nombre_exposed        269\n",
    "nombre_recovered    15566\n",
    "Name: 139, dtype: int64"
   ]
  },
  {
   "cell_type": "markdown",
   "id": "28b7d05f",
   "metadata": {},
   "source": [
    "nombre_infected       287\n",
    "nombre_sain          3872\n",
    "nombre_exposed        283\n",
    "nombre_recovered    15558\n",
    "Name: 140, dtype: int64"
   ]
  },
  {
   "cell_type": "markdown",
   "id": "59fb1e82",
   "metadata": {},
   "source": [
    "nombre_infected       315\n",
    "nombre_sain          3844\n",
    "nombre_exposed        302\n",
    "nombre_recovered    15539\n",
    "Name: 141, dtype: int64"
   ]
  },
  {
   "cell_type": "markdown",
   "id": "3015e7bc",
   "metadata": {},
   "source": [
    "nombre_infected       329\n",
    "nombre_sain          3810\n",
    "nombre_exposed        323\n",
    "nombre_recovered    15538\n",
    "Name: 142, dtype: int64"
   ]
  },
  {
   "cell_type": "markdown",
   "id": "8487e24b",
   "metadata": {},
   "source": [
    "nombre_infected       353\n",
    "nombre_sain          3756\n",
    "nombre_exposed        356\n",
    "nombre_recovered    15535\n",
    "Name: 143, dtype: int64"
   ]
  },
  {
   "cell_type": "markdown",
   "id": "2a41197e",
   "metadata": {},
   "source": [
    "nombre_infected       383\n",
    "nombre_sain          3728\n",
    "nombre_exposed        360\n",
    "nombre_recovered    15529\n",
    "Name: 144, dtype: int64"
   ]
  },
  {
   "cell_type": "markdown",
   "id": "312c308a",
   "metadata": {},
   "source": [
    "nombre_infected       406\n",
    "nombre_sain          3692\n",
    "nombre_exposed        370\n",
    "nombre_recovered    15532\n",
    "Name: 145, dtype: int64"
   ]
  },
  {
   "cell_type": "markdown",
   "id": "eedbc6d4",
   "metadata": {},
   "source": [
    "nombre_infected       434\n",
    "nombre_sain          3645\n",
    "nombre_exposed        377\n",
    "nombre_recovered    15544\n",
    "Name: 146, dtype: int64"
   ]
  },
  {
   "cell_type": "markdown",
   "id": "9721849b",
   "metadata": {},
   "source": [
    "nombre_infected       484\n",
    "nombre_sain          3596\n",
    "nombre_exposed        390\n",
    "nombre_recovered    15530\n",
    "Name: 147, dtype: int64"
   ]
  },
  {
   "cell_type": "markdown",
   "id": "c5857a51",
   "metadata": {},
   "source": [
    "nombre_infected       501\n",
    "nombre_sain          3541\n",
    "nombre_exposed        414\n",
    "nombre_recovered    15544\n",
    "Name: 148, dtype: int64"
   ]
  },
  {
   "cell_type": "markdown",
   "id": "a038905f",
   "metadata": {},
   "source": [
    "nombre_infected       526\n",
    "nombre_sain          3487\n",
    "nombre_exposed        418\n",
    "nombre_recovered    15569\n",
    "Name: 149, dtype: int64"
   ]
  },
  {
   "cell_type": "markdown",
   "id": "0f6c7635",
   "metadata": {},
   "source": [
    "nombre_infected       544\n",
    "nombre_sain          3421\n",
    "nombre_exposed        437\n",
    "nombre_recovered    15598\n",
    "Name: 150, dtype: int64"
   ]
  },
  {
   "cell_type": "markdown",
   "id": "134701e2",
   "metadata": {},
   "source": [
    "nombre_infected       564\n",
    "nombre_sain          3369\n",
    "nombre_exposed        451\n",
    "nombre_recovered    15616\n",
    "Name: 151, dtype: int64"
   ]
  },
  {
   "cell_type": "markdown",
   "id": "cccc37c4",
   "metadata": {},
   "source": [
    "nombre_infected       589\n",
    "nombre_sain          3294\n",
    "nombre_exposed        492\n",
    "nombre_recovered    15625\n",
    "Name: 152, dtype: int64"
   ]
  },
  {
   "cell_type": "markdown",
   "id": "a61acec0",
   "metadata": {},
   "source": [
    "nombre_infected       642\n",
    "nombre_sain          3183\n",
    "nombre_exposed        524\n",
    "nombre_recovered    15651\n",
    "Name: 153, dtype: int64"
   ]
  },
  {
   "cell_type": "markdown",
   "id": "62a1f2f6",
   "metadata": {},
   "source": [
    "nombre_infected       672\n",
    "nombre_sain          3117\n",
    "nombre_exposed        542\n",
    "nombre_recovered    15669\n",
    "Name: 154, dtype: int64"
   ]
  },
  {
   "cell_type": "markdown",
   "id": "0daa8dda",
   "metadata": {},
   "source": [
    "nombre_infected       703\n",
    "nombre_sain          3051\n",
    "nombre_exposed        546\n",
    "nombre_recovered    15700\n",
    "Name: 155, dtype: int64"
   ]
  },
  {
   "cell_type": "markdown",
   "id": "13660453",
   "metadata": {},
   "source": [
    "nombre_infected       746\n",
    "nombre_sain          2992\n",
    "nombre_exposed        560\n",
    "nombre_recovered    15702\n",
    "Name: 156, dtype: int64"
   ]
  },
  {
   "cell_type": "markdown",
   "id": "af9b474c",
   "metadata": {},
   "source": [
    "nombre_infected       762\n",
    "nombre_sain          2923\n",
    "nombre_exposed        577\n",
    "nombre_recovered    15738\n",
    "Name: 157, dtype: int64"
   ]
  },
  {
   "cell_type": "markdown",
   "id": "07eca397",
   "metadata": {},
   "source": [
    "nombre_infected       805\n",
    "nombre_sain          2851\n",
    "nombre_exposed        594\n",
    "nombre_recovered    15750\n",
    "Name: 158, dtype: int64"
   ]
  },
  {
   "cell_type": "markdown",
   "id": "65150f6d",
   "metadata": {},
   "source": [
    "nombre_infected       823\n",
    "nombre_sain          2770\n",
    "nombre_exposed        616\n",
    "nombre_recovered    15791\n",
    "Name: 159, dtype: int64"
   ]
  },
  {
   "cell_type": "markdown",
   "id": "3964bc13",
   "metadata": {},
   "source": [
    "nombre_infected       860\n",
    "nombre_sain          2707\n",
    "nombre_exposed        615\n",
    "nombre_recovered    15818\n",
    "Name: 160, dtype: int64"
   ]
  },
  {
   "cell_type": "markdown",
   "id": "e7bec447",
   "metadata": {},
   "source": [
    "nombre_infected       880\n",
    "nombre_sain          2636\n",
    "nombre_exposed        635\n",
    "nombre_recovered    15849\n",
    "Name: 161, dtype: int64"
   ]
  },
  {
   "cell_type": "markdown",
   "id": "f002bf6c",
   "metadata": {},
   "source": [
    "nombre_infected       926\n",
    "nombre_sain          2575\n",
    "nombre_exposed        644\n",
    "nombre_recovered    15855\n",
    "Name: 162, dtype: int64"
   ]
  },
  {
   "cell_type": "markdown",
   "id": "43644c06",
   "metadata": {},
   "source": [
    "nombre_infected       974\n",
    "nombre_sain          2519\n",
    "nombre_exposed        621\n",
    "nombre_recovered    15886\n",
    "Name: 163, dtype: int64"
   ]
  },
  {
   "cell_type": "markdown",
   "id": "41491958",
   "metadata": {},
   "source": [
    "nombre_infected      1003\n",
    "nombre_sain          2462\n",
    "nombre_exposed        621\n",
    "nombre_recovered    15914\n",
    "Name: 164, dtype: int64"
   ]
  },
  {
   "cell_type": "markdown",
   "id": "8f751af8",
   "metadata": {},
   "source": [
    "nombre_infected      1022\n",
    "nombre_sain          2394\n",
    "nombre_exposed        628\n",
    "nombre_recovered    15956\n",
    "Name: 165, dtype: int64"
   ]
  },
  {
   "cell_type": "markdown",
   "id": "15fb7ddf",
   "metadata": {},
   "source": [
    "nombre_infected      1031\n",
    "nombre_sain          2348\n",
    "nombre_exposed        599\n",
    "nombre_recovered    16022\n",
    "Name: 166, dtype: int64"
   ]
  },
  {
   "cell_type": "markdown",
   "id": "8f235b19",
   "metadata": {},
   "source": [
    "nombre_infected      1061\n",
    "nombre_sain          2295\n",
    "nombre_exposed        588\n",
    "nombre_recovered    16056\n",
    "Name: 167, dtype: int64"
   ]
  },
  {
   "cell_type": "markdown",
   "id": "0086a1bb",
   "metadata": {},
   "source": [
    "nombre_infected      1046\n",
    "nombre_sain          2234\n",
    "nombre_exposed        605\n",
    "nombre_recovered    16115\n",
    "Name: 168, dtype: int64"
   ]
  },
  {
   "cell_type": "markdown",
   "id": "79364e4b",
   "metadata": {},
   "source": [
    "nombre_infected      1019\n",
    "nombre_sain          2169\n",
    "nombre_exposed        615\n",
    "nombre_recovered    16197\n",
    "Name: 169, dtype: int64"
   ]
  },
  {
   "cell_type": "markdown",
   "id": "e3c0a947",
   "metadata": {},
   "source": [
    "nombre_infected      1031\n",
    "nombre_sain          2109\n",
    "nombre_exposed        612\n",
    "nombre_recovered    16248\n",
    "Name: 170, dtype: int64"
   ]
  },
  {
   "cell_type": "markdown",
   "id": "4fa96092",
   "metadata": {},
   "source": [
    "nombre_infected      1033\n",
    "nombre_sain          2038\n",
    "nombre_exposed        634\n",
    "nombre_recovered    16295\n",
    "Name: 171, dtype: int64"
   ]
  },
  {
   "cell_type": "markdown",
   "id": "87d34e11",
   "metadata": {},
   "source": [
    "nombre_infected      1022\n",
    "nombre_sain          1952\n",
    "nombre_exposed        666\n",
    "nombre_recovered    16360\n",
    "Name: 172, dtype: int64"
   ]
  },
  {
   "cell_type": "markdown",
   "id": "ec5da0f2",
   "metadata": {},
   "source": [
    "nombre_infected      1047\n",
    "nombre_sain          1904\n",
    "nombre_exposed        642\n",
    "nombre_recovered    16407\n",
    "Name: 173, dtype: int64"
   ]
  },
  {
   "cell_type": "markdown",
   "id": "607e6563",
   "metadata": {},
   "source": [
    "nombre_infected      1054\n",
    "nombre_sain          1829\n",
    "nombre_exposed        645\n",
    "nombre_recovered    16472\n",
    "Name: 174, dtype: int64"
   ]
  },
  {
   "cell_type": "markdown",
   "id": "7be492bc",
   "metadata": {},
   "source": [
    "nombre_infected      1068\n",
    "nombre_sain          1792\n",
    "nombre_exposed        620\n",
    "nombre_recovered    16520\n",
    "Name: 175, dtype: int64"
   ]
  },
  {
   "cell_type": "markdown",
   "id": "7e44077b",
   "metadata": {},
   "source": [
    "nombre_infected      1040\n",
    "nombre_sain          1758\n",
    "nombre_exposed        588\n",
    "nombre_recovered    16614\n",
    "Name: 176, dtype: int64"
   ]
  },
  {
   "cell_type": "markdown",
   "id": "7f51cece",
   "metadata": {},
   "source": [
    "nombre_infected      1038\n",
    "nombre_sain          1730\n",
    "nombre_exposed        554\n",
    "nombre_recovered    16678\n",
    "Name: 177, dtype: int64"
   ]
  },
  {
   "cell_type": "markdown",
   "id": "4f363d8e",
   "metadata": {},
   "source": [
    "nombre_infected      1024\n",
    "nombre_sain          1685\n",
    "nombre_exposed        552\n",
    "nombre_recovered    16739\n",
    "Name: 178, dtype: int64"
   ]
  },
  {
   "cell_type": "markdown",
   "id": "988b1e1c",
   "metadata": {},
   "source": [
    "nombre_infected       987\n",
    "nombre_sain          1633\n",
    "nombre_exposed        557\n",
    "nombre_recovered    16823\n",
    "Name: 179, dtype: int64"
   ]
  },
  {
   "cell_type": "markdown",
   "id": "413112bc",
   "metadata": {},
   "source": [
    "nombre_infected       995\n",
    "nombre_sain          1618\n",
    "nombre_exposed        526\n",
    "nombre_recovered    16861\n",
    "Name: 180, dtype: int64"
   ]
  },
  {
   "cell_type": "markdown",
   "id": "c799b37d",
   "metadata": {},
   "source": [
    "nombre_infected       971\n",
    "nombre_sain          1593\n",
    "nombre_exposed        518\n",
    "nombre_recovered    16918\n",
    "Name: 181, dtype: int64"
   ]
  },
  {
   "cell_type": "markdown",
   "id": "3c70d816",
   "metadata": {},
   "source": [
    "nombre_infected       938\n",
    "nombre_sain          1584\n",
    "nombre_exposed        494\n",
    "nombre_recovered    16984\n",
    "Name: 182, dtype: int64"
   ]
  },
  {
   "cell_type": "markdown",
   "id": "bcf9e6f8",
   "metadata": {},
   "source": [
    "nombre_infected       925\n",
    "nombre_sain          1541\n",
    "nombre_exposed        486\n",
    "nombre_recovered    17048\n",
    "Name: 183, dtype: int64"
   ]
  },
  {
   "cell_type": "markdown",
   "id": "2c0fc5ae",
   "metadata": {},
   "source": [
    "nombre_infected       904\n",
    "nombre_sain          1538\n",
    "nombre_exposed        465\n",
    "nombre_recovered    17093\n",
    "Name: 184, dtype: int64"
   ]
  },
  {
   "cell_type": "markdown",
   "id": "1f83e88b",
   "metadata": {},
   "source": [
    "nombre_infected       903\n",
    "nombre_sain          1505\n",
    "nombre_exposed        471\n",
    "nombre_recovered    17121\n",
    "Name: 185, dtype: int64"
   ]
  },
  {
   "cell_type": "markdown",
   "id": "37e8d0b2",
   "metadata": {},
   "source": [
    "nombre_infected       885\n",
    "nombre_sain          1483\n",
    "nombre_exposed        467\n",
    "nombre_recovered    17165\n",
    "Name: 186, dtype: int64"
   ]
  },
  {
   "cell_type": "markdown",
   "id": "a17bb11c",
   "metadata": {},
   "source": [
    "nombre_infected       866\n",
    "nombre_sain          1479\n",
    "nombre_exposed        427\n",
    "nombre_recovered    17228\n",
    "Name: 187, dtype: int64"
   ]
  },
  {
   "cell_type": "markdown",
   "id": "cd1873d8",
   "metadata": {},
   "source": [
    "nombre_infected       845\n",
    "nombre_sain          1467\n",
    "nombre_exposed        403\n",
    "nombre_recovered    17285\n",
    "Name: 188, dtype: int64"
   ]
  },
  {
   "cell_type": "markdown",
   "id": "71ec6c3e",
   "metadata": {},
   "source": [
    "nombre_infected       815\n",
    "nombre_sain          1471\n",
    "nombre_exposed        393\n",
    "nombre_recovered    17321\n",
    "Name: 189, dtype: int64"
   ]
  },
  {
   "cell_type": "markdown",
   "id": "ab2c41ec",
   "metadata": {},
   "source": [
    "nombre_infected       779\n",
    "nombre_sain          1487\n",
    "nombre_exposed        397\n",
    "nombre_recovered    17337\n",
    "Name: 190, dtype: int64"
   ]
  },
  {
   "cell_type": "markdown",
   "id": "836f3873",
   "metadata": {},
   "source": [
    "nombre_infected       769\n",
    "nombre_sain          1488\n",
    "nombre_exposed        371\n",
    "nombre_recovered    17372\n",
    "Name: 191, dtype: int64"
   ]
  },
  {
   "cell_type": "markdown",
   "id": "370646ea",
   "metadata": {},
   "source": [
    "nombre_infected       766\n",
    "nombre_sain          1501\n",
    "nombre_exposed        349\n",
    "nombre_recovered    17384\n",
    "Name: 192, dtype: int64"
   ]
  },
  {
   "cell_type": "markdown",
   "id": "cf6112d2",
   "metadata": {},
   "source": [
    "nombre_infected       741\n",
    "nombre_sain          1484\n",
    "nombre_exposed        373\n",
    "nombre_recovered    17402\n",
    "Name: 193, dtype: int64"
   ]
  },
  {
   "cell_type": "markdown",
   "id": "0cdc8d06",
   "metadata": {},
   "source": [
    "nombre_infected       720\n",
    "nombre_sain          1500\n",
    "nombre_exposed        348\n",
    "nombre_recovered    17432\n",
    "Name: 194, dtype: int64"
   ]
  },
  {
   "cell_type": "markdown",
   "id": "26fad01b",
   "metadata": {},
   "source": [
    "nombre_infected       697\n",
    "nombre_sain          1495\n",
    "nombre_exposed        337\n",
    "nombre_recovered    17471\n",
    "Name: 195, dtype: int64"
   ]
  },
  {
   "cell_type": "markdown",
   "id": "6dc5cc7e",
   "metadata": {},
   "source": [
    "nombre_infected       670\n",
    "nombre_sain          1514\n",
    "nombre_exposed        322\n",
    "nombre_recovered    17494\n",
    "Name: 196, dtype: int64"
   ]
  },
  {
   "cell_type": "markdown",
   "id": "f371fda2",
   "metadata": {},
   "source": [
    "nombre_infected       621\n",
    "nombre_sain          1523\n",
    "nombre_exposed        319\n",
    "nombre_recovered    17537\n",
    "Name: 197, dtype: int64"
   ]
  },
  {
   "cell_type": "markdown",
   "id": "e542732e",
   "metadata": {},
   "source": [
    "nombre_infected       609\n",
    "nombre_sain          1544\n",
    "nombre_exposed        305\n",
    "nombre_recovered    17542\n",
    "Name: 198, dtype: int64"
   ]
  },
  {
   "cell_type": "markdown",
   "id": "8dad539f",
   "metadata": {},
   "source": [
    "nombre_infected       575\n",
    "nombre_sain          1563\n",
    "nombre_exposed        292\n",
    "nombre_recovered    17570\n",
    "Name: 199, dtype: int64"
   ]
  },
  {
   "cell_type": "markdown",
   "id": "fe3ef5cd",
   "metadata": {},
   "source": [
    "nombre_infected       568\n",
    "nombre_sain          1583\n",
    "nombre_exposed        273\n",
    "nombre_recovered    17576\n",
    "Name: 200, dtype: int64"
   ]
  },
  {
   "cell_type": "markdown",
   "id": "935b5336",
   "metadata": {},
   "source": [
    "nombre_infected       546\n",
    "nombre_sain          1617\n",
    "nombre_exposed        267\n",
    "nombre_recovered    17570\n",
    "Name: 201, dtype: int64"
   ]
  },
  {
   "cell_type": "markdown",
   "id": "3607b956",
   "metadata": {},
   "source": [
    "nombre_infected       531\n",
    "nombre_sain          1621\n",
    "nombre_exposed        258\n",
    "nombre_recovered    17590\n",
    "Name: 202, dtype: int64"
   ]
  },
  {
   "cell_type": "markdown",
   "id": "45be6573",
   "metadata": {},
   "source": [
    "nombre_infected       507\n",
    "nombre_sain          1647\n",
    "nombre_exposed        255\n",
    "nombre_recovered    17591\n",
    "Name: 203, dtype: int64"
   ]
  },
  {
   "cell_type": "markdown",
   "id": "2eab1d01",
   "metadata": {},
   "source": [
    "nombre_infected       482\n",
    "nombre_sain          1665\n",
    "nombre_exposed        275\n",
    "nombre_recovered    17578\n",
    "Name: 204, dtype: int64"
   ]
  },
  {
   "cell_type": "markdown",
   "id": "1041f0ba",
   "metadata": {},
   "source": [
    "nombre_infected       467\n",
    "nombre_sain          1674\n",
    "nombre_exposed        276\n",
    "nombre_recovered    17583\n",
    "Name: 205, dtype: int64"
   ]
  },
  {
   "cell_type": "markdown",
   "id": "3b8f4f07",
   "metadata": {},
   "source": [
    "nombre_infected       455\n",
    "nombre_sain          1713\n",
    "nombre_exposed        272\n",
    "nombre_recovered    17560\n",
    "Name: 206, dtype: int64"
   ]
  },
  {
   "cell_type": "markdown",
   "id": "b65f632a",
   "metadata": {},
   "source": [
    "nombre_infected       447\n",
    "nombre_sain          1740\n",
    "nombre_exposed        257\n",
    "nombre_recovered    17556\n",
    "Name: 207, dtype: int64"
   ]
  },
  {
   "cell_type": "markdown",
   "id": "ba095636",
   "metadata": {},
   "source": [
    "nombre_infected       454\n",
    "nombre_sain          1773\n",
    "nombre_exposed        242\n",
    "nombre_recovered    17531\n",
    "Name: 208, dtype: int64"
   ]
  },
  {
   "cell_type": "markdown",
   "id": "faa82754",
   "metadata": {},
   "source": [
    "nombre_infected       444\n",
    "nombre_sain          1798\n",
    "nombre_exposed        241\n",
    "nombre_recovered    17517\n",
    "Name: 209, dtype: int64"
   ]
  },
  {
   "cell_type": "markdown",
   "id": "a1536b5d",
   "metadata": {},
   "source": [
    "nombre_infected       437\n",
    "nombre_sain          1828\n",
    "nombre_exposed        246\n",
    "nombre_recovered    17489\n",
    "Name: 210, dtype: int64"
   ]
  },
  {
   "cell_type": "markdown",
   "id": "7c7cd4c0",
   "metadata": {},
   "source": [
    "nombre_infected       419\n",
    "nombre_sain          1848\n",
    "nombre_exposed        243\n",
    "nombre_recovered    17490\n",
    "Name: 211, dtype: int64"
   ]
  },
  {
   "cell_type": "markdown",
   "id": "fe4c1494",
   "metadata": {},
   "source": [
    "nombre_infected       426\n",
    "nombre_sain          1893\n",
    "nombre_exposed        223\n",
    "nombre_recovered    17458\n",
    "Name: 212, dtype: int64"
   ]
  },
  {
   "cell_type": "markdown",
   "id": "0c4850fe",
   "metadata": {},
   "source": [
    "nombre_infected       429\n",
    "nombre_sain          1917\n",
    "nombre_exposed        231\n",
    "nombre_recovered    17423\n",
    "Name: 213, dtype: int64"
   ]
  },
  {
   "cell_type": "markdown",
   "id": "5a156302",
   "metadata": {},
   "source": [
    "nombre_infected       424\n",
    "nombre_sain          1952\n",
    "nombre_exposed        233\n",
    "nombre_recovered    17391\n",
    "Name: 214, dtype: int64"
   ]
  },
  {
   "cell_type": "markdown",
   "id": "86f02da6",
   "metadata": {},
   "source": [
    "nombre_infected       379\n",
    "nombre_sain          1980\n",
    "nombre_exposed        261\n",
    "nombre_recovered    17380\n",
    "Name: 215, dtype: int64"
   ]
  },
  {
   "cell_type": "markdown",
   "id": "d174d967",
   "metadata": {},
   "source": [
    "nombre_infected       370\n",
    "nombre_sain          2020\n",
    "nombre_exposed        257\n",
    "nombre_recovered    17353\n",
    "Name: 216, dtype: int64"
   ]
  },
  {
   "cell_type": "markdown",
   "id": "c9ca2e86",
   "metadata": {},
   "source": [
    "nombre_infected       370\n",
    "nombre_sain          2065\n",
    "nombre_exposed        240\n",
    "nombre_recovered    17325\n",
    "Name: 217, dtype: int64"
   ]
  },
  {
   "cell_type": "markdown",
   "id": "fe56e88b",
   "metadata": {},
   "source": [
    "nombre_infected       370\n",
    "nombre_sain          2097\n",
    "nombre_exposed        239\n",
    "nombre_recovered    17294\n",
    "Name: 218, dtype: int64"
   ]
  },
  {
   "cell_type": "markdown",
   "id": "22882536",
   "metadata": {},
   "source": [
    "nombre_infected       378\n",
    "nombre_sain          2137\n",
    "nombre_exposed        227\n",
    "nombre_recovered    17258\n",
    "Name: 219, dtype: int64"
   ]
  },
  {
   "cell_type": "markdown",
   "id": "a8a07d74",
   "metadata": {},
   "source": [
    "nombre_infected       381\n",
    "nombre_sain          2189\n",
    "nombre_exposed        218\n",
    "nombre_recovered    17212\n",
    "Name: 220, dtype: int64"
   ]
  },
  {
   "cell_type": "markdown",
   "id": "492bbd3d",
   "metadata": {},
   "source": [
    "nombre_infected       368\n",
    "nombre_sain          2204\n",
    "nombre_exposed        235\n",
    "nombre_recovered    17193\n",
    "Name: 221, dtype: int64"
   ]
  },
  {
   "cell_type": "markdown",
   "id": "47d01e1a",
   "metadata": {},
   "source": [
    "nombre_infected       376\n",
    "nombre_sain          2239\n",
    "nombre_exposed        212\n",
    "nombre_recovered    17173\n",
    "Name: 222, dtype: int64"
   ]
  },
  {
   "cell_type": "markdown",
   "id": "c5700258",
   "metadata": {},
   "source": [
    "nombre_infected       370\n",
    "nombre_sain          2281\n",
    "nombre_exposed        214\n",
    "nombre_recovered    17135\n",
    "Name: 223, dtype: int64"
   ]
  },
  {
   "cell_type": "markdown",
   "id": "81afbea3",
   "metadata": {},
   "source": [
    "nombre_infected       346\n",
    "nombre_sain          2318\n",
    "nombre_exposed        218\n",
    "nombre_recovered    17118\n",
    "Name: 224, dtype: int64"
   ]
  },
  {
   "cell_type": "markdown",
   "id": "1eaaaede",
   "metadata": {},
   "source": [
    "nombre_infected       339\n",
    "nombre_sain          2362\n",
    "nombre_exposed        227\n",
    "nombre_recovered    17072\n",
    "Name: 225, dtype: int64"
   ]
  },
  {
   "cell_type": "markdown",
   "id": "f1f1d669",
   "metadata": {},
   "source": [
    "nombre_infected       337\n",
    "nombre_sain          2412\n",
    "nombre_exposed        236\n",
    "nombre_recovered    17015\n",
    "Name: 226, dtype: int64"
   ]
  },
  {
   "cell_type": "markdown",
   "id": "bbb4f947",
   "metadata": {},
   "source": [
    "nombre_infected       339\n",
    "nombre_sain          2469\n",
    "nombre_exposed        238\n",
    "nombre_recovered    16954\n",
    "Name: 227, dtype: int64"
   ]
  },
  {
   "cell_type": "markdown",
   "id": "dfd4a886",
   "metadata": {},
   "source": [
    "nombre_infected       340\n",
    "nombre_sain          2507\n",
    "nombre_exposed        241\n",
    "nombre_recovered    16912\n",
    "Name: 228, dtype: int64"
   ]
  },
  {
   "cell_type": "markdown",
   "id": "0527bdf1",
   "metadata": {},
   "source": [
    "nombre_infected       355\n",
    "nombre_sain          2557\n",
    "nombre_exposed        246\n",
    "nombre_recovered    16842\n",
    "Name: 229, dtype: int64"
   ]
  },
  {
   "cell_type": "markdown",
   "id": "cd61243c",
   "metadata": {},
   "source": [
    "nombre_infected       361\n",
    "nombre_sain          2590\n",
    "nombre_exposed        246\n",
    "nombre_recovered    16803\n",
    "Name: 230, dtype: int64"
   ]
  },
  {
   "cell_type": "markdown",
   "id": "fc1962a3",
   "metadata": {},
   "source": [
    "nombre_infected       374\n",
    "nombre_sain          2626\n",
    "nombre_exposed        242\n",
    "nombre_recovered    16758\n",
    "Name: 231, dtype: int64"
   ]
  },
  {
   "cell_type": "markdown",
   "id": "3ab547a3",
   "metadata": {},
   "source": [
    "nombre_infected       376\n",
    "nombre_sain          2657\n",
    "nombre_exposed        252\n",
    "nombre_recovered    16715\n",
    "Name: 232, dtype: int64"
   ]
  },
  {
   "cell_type": "markdown",
   "id": "57ca52e2",
   "metadata": {},
   "source": [
    "nombre_infected       375\n",
    "nombre_sain          2677\n",
    "nombre_exposed        262\n",
    "nombre_recovered    16686\n",
    "Name: 233, dtype: int64"
   ]
  },
  {
   "cell_type": "markdown",
   "id": "bc3548da",
   "metadata": {},
   "source": [
    "nombre_infected       363\n",
    "nombre_sain          2697\n",
    "nombre_exposed        287\n",
    "nombre_recovered    16653\n",
    "Name: 234, dtype: int64"
   ]
  },
  {
   "cell_type": "markdown",
   "id": "4e7b825c",
   "metadata": {},
   "source": [
    "nombre_infected       372\n",
    "nombre_sain          2725\n",
    "nombre_exposed        276\n",
    "nombre_recovered    16627\n",
    "Name: 235, dtype: int64"
   ]
  },
  {
   "cell_type": "markdown",
   "id": "f27eacbc",
   "metadata": {},
   "source": [
    "nombre_infected       383\n",
    "nombre_sain          2750\n",
    "nombre_exposed        281\n",
    "nombre_recovered    16586\n",
    "Name: 236, dtype: int64"
   ]
  },
  {
   "cell_type": "markdown",
   "id": "026a8c2b",
   "metadata": {},
   "source": [
    "nombre_infected       381\n",
    "nombre_sain          2767\n",
    "nombre_exposed        283\n",
    "nombre_recovered    16569\n",
    "Name: 237, dtype: int64"
   ]
  },
  {
   "cell_type": "markdown",
   "id": "96992903",
   "metadata": {},
   "source": [
    "nombre_infected       373\n",
    "nombre_sain          2780\n",
    "nombre_exposed        297\n",
    "nombre_recovered    16550\n",
    "Name: 238, dtype: int64"
   ]
  },
  {
   "cell_type": "markdown",
   "id": "88186601",
   "metadata": {},
   "source": [
    "nombre_infected       374\n",
    "nombre_sain          2820\n",
    "nombre_exposed        297\n",
    "nombre_recovered    16509\n",
    "Name: 239, dtype: int64"
   ]
  },
  {
   "cell_type": "markdown",
   "id": "4c623b2d",
   "metadata": {},
   "source": [
    "nombre_infected       395\n",
    "nombre_sain          2848\n",
    "nombre_exposed        294\n",
    "nombre_recovered    16463\n",
    "Name: 240, dtype: int64"
   ]
  },
  {
   "cell_type": "markdown",
   "id": "2f1b98ff",
   "metadata": {},
   "source": [
    "nombre_infected       383\n",
    "nombre_sain          2839\n",
    "nombre_exposed        329\n",
    "nombre_recovered    16449\n",
    "Name: 241, dtype: int64"
   ]
  },
  {
   "cell_type": "markdown",
   "id": "93587d11",
   "metadata": {},
   "source": [
    "nombre_infected       399\n",
    "nombre_sain          2871\n",
    "nombre_exposed        339\n",
    "nombre_recovered    16391\n",
    "Name: 242, dtype: int64"
   ]
  },
  {
   "cell_type": "markdown",
   "id": "0e6cead3",
   "metadata": {},
   "source": [
    "nombre_infected       418\n",
    "nombre_sain          2863\n",
    "nombre_exposed        346\n",
    "nombre_recovered    16373\n",
    "Name: 243, dtype: int64"
   ]
  },
  {
   "cell_type": "markdown",
   "id": "703dabde",
   "metadata": {},
   "source": [
    "nombre_infected       434\n",
    "nombre_sain          2864\n",
    "nombre_exposed        360\n",
    "nombre_recovered    16342\n",
    "Name: 244, dtype: int64"
   ]
  },
  {
   "cell_type": "markdown",
   "id": "fb77d7bb",
   "metadata": {},
   "source": [
    "nombre_infected       463\n",
    "nombre_sain          2893\n",
    "nombre_exposed        332\n",
    "nombre_recovered    16312\n",
    "Name: 245, dtype: int64"
   ]
  },
  {
   "cell_type": "markdown",
   "id": "dd7b3660",
   "metadata": {},
   "source": [
    "nombre_infected       463\n",
    "nombre_sain          2884\n",
    "nombre_exposed        340\n",
    "nombre_recovered    16313\n",
    "Name: 246, dtype: int64"
   ]
  },
  {
   "cell_type": "markdown",
   "id": "7d4eef71",
   "metadata": {},
   "source": [
    "nombre_infected       489\n",
    "nombre_sain          2877\n",
    "nombre_exposed        343\n",
    "nombre_recovered    16291\n",
    "Name: 247, dtype: int64"
   ]
  },
  {
   "cell_type": "markdown",
   "id": "40b52fe8",
   "metadata": {},
   "source": [
    "nombre_infected       498\n",
    "nombre_sain          2875\n",
    "nombre_exposed        368\n",
    "nombre_recovered    16259\n",
    "Name: 248, dtype: int64"
   ]
  },
  {
   "cell_type": "markdown",
   "id": "bd11ed1b",
   "metadata": {},
   "source": [
    "nombre_infected       486\n",
    "nombre_sain          2870\n",
    "nombre_exposed        395\n",
    "nombre_recovered    16249\n",
    "Name: 249, dtype: int64"
   ]
  },
  {
   "cell_type": "markdown",
   "id": "eeee0066",
   "metadata": {},
   "source": [
    "nombre_infected       506\n",
    "nombre_sain          2895\n",
    "nombre_exposed        394\n",
    "nombre_recovered    16205\n",
    "Name: 250, dtype: int64"
   ]
  },
  {
   "cell_type": "markdown",
   "id": "ec6f063e",
   "metadata": {},
   "source": [
    "nombre_infected       539\n",
    "nombre_sain          2885\n",
    "nombre_exposed        393\n",
    "nombre_recovered    16183\n",
    "Name: 251, dtype: int64"
   ]
  },
  {
   "cell_type": "markdown",
   "id": "43af08a4",
   "metadata": {},
   "source": [
    "nombre_infected       550\n",
    "nombre_sain          2915\n",
    "nombre_exposed        390\n",
    "nombre_recovered    16145\n",
    "Name: 252, dtype: int64"
   ]
  },
  {
   "cell_type": "markdown",
   "id": "62c56334",
   "metadata": {},
   "source": [
    "nombre_infected       559\n",
    "nombre_sain          2908\n",
    "nombre_exposed        406\n",
    "nombre_recovered    16127\n",
    "Name: 253, dtype: int64"
   ]
  },
  {
   "cell_type": "markdown",
   "id": "e908b7b7",
   "metadata": {},
   "source": [
    "nombre_infected       571\n",
    "nombre_sain          2896\n",
    "nombre_exposed        434\n",
    "nombre_recovered    16099\n",
    "Name: 254, dtype: int64"
   ]
  },
  {
   "cell_type": "markdown",
   "id": "435ef450",
   "metadata": {},
   "source": [
    "nombre_infected       568\n",
    "nombre_sain          2923\n",
    "nombre_exposed        434\n",
    "nombre_recovered    16075\n",
    "Name: 255, dtype: int64"
   ]
  },
  {
   "cell_type": "markdown",
   "id": "19bc2c97",
   "metadata": {},
   "source": [
    "nombre_infected       592\n",
    "nombre_sain          2931\n",
    "nombre_exposed        432\n",
    "nombre_recovered    16045\n",
    "Name: 256, dtype: int64"
   ]
  },
  {
   "cell_type": "markdown",
   "id": "69ac382f",
   "metadata": {},
   "source": [
    "nombre_infected       607\n",
    "nombre_sain          2944\n",
    "nombre_exposed        444\n",
    "nombre_recovered    16005\n",
    "Name: 257, dtype: int64"
   ]
  },
  {
   "cell_type": "markdown",
   "id": "6d4c17d8",
   "metadata": {},
   "source": [
    "nombre_infected       619\n",
    "nombre_sain          2949\n",
    "nombre_exposed        434\n",
    "nombre_recovered    15998\n",
    "Name: 258, dtype: int64"
   ]
  },
  {
   "cell_type": "markdown",
   "id": "5c525148",
   "metadata": {},
   "source": [
    "nombre_infected       634\n",
    "nombre_sain          2945\n",
    "nombre_exposed        466\n",
    "nombre_recovered    15955\n",
    "Name: 259, dtype: int64"
   ]
  },
  {
   "cell_type": "markdown",
   "id": "a0732626",
   "metadata": {},
   "source": [
    "nombre_infected       649\n",
    "nombre_sain          2930\n",
    "nombre_exposed        482\n",
    "nombre_recovered    15939\n",
    "Name: 260, dtype: int64"
   ]
  },
  {
   "cell_type": "markdown",
   "id": "862bc67e",
   "metadata": {},
   "source": [
    "nombre_infected       673\n",
    "nombre_sain          2919\n",
    "nombre_exposed        495\n",
    "nombre_recovered    15913\n",
    "Name: 261, dtype: int64"
   ]
  },
  {
   "cell_type": "markdown",
   "id": "6fbdec72",
   "metadata": {},
   "source": [
    "nombre_infected       672\n",
    "nombre_sain          2918\n",
    "nombre_exposed        519\n",
    "nombre_recovered    15891\n",
    "Name: 262, dtype: int64"
   ]
  },
  {
   "cell_type": "markdown",
   "id": "c96903ec",
   "metadata": {},
   "source": [
    "nombre_infected       677\n",
    "nombre_sain          2892\n",
    "nombre_exposed        543\n",
    "nombre_recovered    15888\n",
    "Name: 263, dtype: int64"
   ]
  },
  {
   "cell_type": "markdown",
   "id": "28564cb5",
   "metadata": {},
   "source": [
    "nombre_infected       697\n",
    "nombre_sain          2864\n",
    "nombre_exposed        567\n",
    "nombre_recovered    15872\n",
    "Name: 264, dtype: int64"
   ]
  },
  {
   "cell_type": "markdown",
   "id": "dc196764",
   "metadata": {},
   "source": [
    "nombre_infected       732\n",
    "nombre_sain          2812\n",
    "nombre_exposed        591\n",
    "nombre_recovered    15865\n",
    "Name: 265, dtype: int64"
   ]
  },
  {
   "cell_type": "markdown",
   "id": "d6d4448e",
   "metadata": {},
   "source": [
    "nombre_infected       742\n",
    "nombre_sain          2755\n",
    "nombre_exposed        620\n",
    "nombre_recovered    15883\n",
    "Name: 266, dtype: int64"
   ]
  },
  {
   "cell_type": "markdown",
   "id": "ea312cc1",
   "metadata": {},
   "source": [
    "nombre_infected       762\n",
    "nombre_sain          2737\n",
    "nombre_exposed        626\n",
    "nombre_recovered    15875\n",
    "Name: 267, dtype: int64"
   ]
  },
  {
   "cell_type": "markdown",
   "id": "f3a20df5",
   "metadata": {},
   "source": [
    "nombre_infected       796\n",
    "nombre_sain          2701\n",
    "nombre_exposed        624\n",
    "nombre_recovered    15879\n",
    "Name: 268, dtype: int64"
   ]
  },
  {
   "cell_type": "markdown",
   "id": "a9db9ef0",
   "metadata": {},
   "source": [
    "nombre_infected       854\n",
    "nombre_sain          2680\n",
    "nombre_exposed        601\n",
    "nombre_recovered    15865\n",
    "Name: 269, dtype: int64"
   ]
  },
  {
   "cell_type": "markdown",
   "id": "4298c2c8",
   "metadata": {},
   "source": [
    "nombre_infected       905\n",
    "nombre_sain          2655\n",
    "nombre_exposed        616\n",
    "nombre_recovered    15824\n",
    "Name: 270, dtype: int64"
   ]
  },
  {
   "cell_type": "markdown",
   "id": "08d8c700",
   "metadata": {},
   "source": [
    "nombre_infected       930\n",
    "nombre_sain          2625\n",
    "nombre_exposed        617\n",
    "nombre_recovered    15828\n",
    "Name: 271, dtype: int64"
   ]
  },
  {
   "cell_type": "markdown",
   "id": "93fe5ac1",
   "metadata": {},
   "source": [
    "nombre_infected       959\n",
    "nombre_sain          2592\n",
    "nombre_exposed        617\n",
    "nombre_recovered    15832\n",
    "Name: 272, dtype: int64"
   ]
  },
  {
   "cell_type": "markdown",
   "id": "ecbf39ec",
   "metadata": {},
   "source": [
    "nombre_infected       956\n",
    "nombre_sain          2579\n",
    "nombre_exposed        623\n",
    "nombre_recovered    15842\n",
    "Name: 273, dtype: int64"
   ]
  },
  {
   "cell_type": "markdown",
   "id": "d95fa9b2",
   "metadata": {},
   "source": [
    "nombre_infected       969\n",
    "nombre_sain          2516\n",
    "nombre_exposed        635\n",
    "nombre_recovered    15880\n",
    "Name: 274, dtype: int64"
   ]
  },
  {
   "cell_type": "markdown",
   "id": "afa44dd3",
   "metadata": {},
   "source": [
    "nombre_infected       976\n",
    "nombre_sain          2494\n",
    "nombre_exposed        670\n",
    "nombre_recovered    15860\n",
    "Name: 275, dtype: int64"
   ]
  },
  {
   "cell_type": "markdown",
   "id": "6240c995",
   "metadata": {},
   "source": [
    "nombre_infected       984\n",
    "nombre_sain          2439\n",
    "nombre_exposed        681\n",
    "nombre_recovered    15896\n",
    "Name: 276, dtype: int64"
   ]
  },
  {
   "cell_type": "markdown",
   "id": "d75ba622",
   "metadata": {},
   "source": [
    "nombre_infected      1010\n",
    "nombre_sain          2399\n",
    "nombre_exposed        662\n",
    "nombre_recovered    15929\n",
    "Name: 277, dtype: int64"
   ]
  },
  {
   "cell_type": "markdown",
   "id": "5764edf0",
   "metadata": {},
   "source": [
    "nombre_infected      1017\n",
    "nombre_sain          2355\n",
    "nombre_exposed        681\n",
    "nombre_recovered    15947\n",
    "Name: 278, dtype: int64"
   ]
  },
  {
   "cell_type": "markdown",
   "id": "d5c3f201",
   "metadata": {},
   "source": [
    "nombre_infected      1030\n",
    "nombre_sain          2311\n",
    "nombre_exposed        691\n",
    "nombre_recovered    15968\n",
    "Name: 279, dtype: int64"
   ]
  },
  {
   "cell_type": "markdown",
   "id": "e9a3dc21",
   "metadata": {},
   "source": [
    "nombre_infected      1055\n",
    "nombre_sain          2287\n",
    "nombre_exposed        674\n",
    "nombre_recovered    15984\n",
    "Name: 280, dtype: int64"
   ]
  },
  {
   "cell_type": "markdown",
   "id": "3c815d92",
   "metadata": {},
   "source": [
    "nombre_infected      1097\n",
    "nombre_sain          2245\n",
    "nombre_exposed        657\n",
    "nombre_recovered    16001\n",
    "Name: 281, dtype: int64"
   ]
  },
  {
   "cell_type": "markdown",
   "id": "ef6aba35",
   "metadata": {},
   "source": [
    "nombre_infected      1107\n",
    "nombre_sain          2191\n",
    "nombre_exposed        682\n",
    "nombre_recovered    16020\n",
    "Name: 282, dtype: int64"
   ]
  },
  {
   "cell_type": "markdown",
   "id": "83d04013",
   "metadata": {},
   "source": [
    "nombre_infected      1118\n",
    "nombre_sain          2151\n",
    "nombre_exposed        687\n",
    "nombre_recovered    16044\n",
    "Name: 283, dtype: int64"
   ]
  },
  {
   "cell_type": "markdown",
   "id": "d98e4ca9",
   "metadata": {},
   "source": [
    "nombre_infected      1121\n",
    "nombre_sain          2092\n",
    "nombre_exposed        713\n",
    "nombre_recovered    16074\n",
    "Name: 284, dtype: int64"
   ]
  },
  {
   "cell_type": "markdown",
   "id": "d948ac88",
   "metadata": {},
   "source": [
    "nombre_infected      1106\n",
    "nombre_sain          2009\n",
    "nombre_exposed        737\n",
    "nombre_recovered    16148\n",
    "Name: 285, dtype: int64"
   ]
  },
  {
   "cell_type": "markdown",
   "id": "94a14956",
   "metadata": {},
   "source": [
    "nombre_infected      1132\n",
    "nombre_sain          1963\n",
    "nombre_exposed        708\n",
    "nombre_recovered    16197\n",
    "Name: 286, dtype: int64"
   ]
  },
  {
   "cell_type": "markdown",
   "id": "0563969f",
   "metadata": {},
   "source": [
    "nombre_infected      1162\n",
    "nombre_sain          1910\n",
    "nombre_exposed        683\n",
    "nombre_recovered    16245\n",
    "Name: 287, dtype: int64"
   ]
  },
  {
   "cell_type": "markdown",
   "id": "865b734a",
   "metadata": {},
   "source": [
    "nombre_infected      1154\n",
    "nombre_sain          1872\n",
    "nombre_exposed        670\n",
    "nombre_recovered    16304\n",
    "Name: 288, dtype: int64"
   ]
  },
  {
   "cell_type": "markdown",
   "id": "7287b6c9",
   "metadata": {},
   "source": [
    "nombre_infected      1157\n",
    "nombre_sain          1847\n",
    "nombre_exposed        646\n",
    "nombre_recovered    16350\n",
    "Name: 289, dtype: int64"
   ]
  },
  {
   "cell_type": "markdown",
   "id": "1164c2ae",
   "metadata": {},
   "source": [
    "nombre_infected      1148\n",
    "nombre_sain          1823\n",
    "nombre_exposed        615\n",
    "nombre_recovered    16414\n",
    "Name: 290, dtype: int64"
   ]
  },
  {
   "cell_type": "markdown",
   "id": "e95dbaaa",
   "metadata": {},
   "source": [
    "nombre_infected      1121\n",
    "nombre_sain          1791\n",
    "nombre_exposed        606\n",
    "nombre_recovered    16482\n",
    "Name: 291, dtype: int64"
   ]
  },
  {
   "cell_type": "markdown",
   "id": "287281f0",
   "metadata": {},
   "source": [
    "nombre_infected      1110\n",
    "nombre_sain          1738\n",
    "nombre_exposed        628\n",
    "nombre_recovered    16524\n",
    "Name: 292, dtype: int64"
   ]
  },
  {
   "cell_type": "markdown",
   "id": "813b206a",
   "metadata": {},
   "source": [
    "nombre_infected      1082\n",
    "nombre_sain          1689\n",
    "nombre_exposed        638\n",
    "nombre_recovered    16591\n",
    "Name: 293, dtype: int64"
   ]
  },
  {
   "cell_type": "markdown",
   "id": "24dbaee2",
   "metadata": {},
   "source": [
    "nombre_infected      1064\n",
    "nombre_sain          1667\n",
    "nombre_exposed        621\n",
    "nombre_recovered    16648\n",
    "Name: 294, dtype: int64"
   ]
  },
  {
   "cell_type": "markdown",
   "id": "c5887ae5",
   "metadata": {},
   "source": [
    "nombre_infected      1037\n",
    "nombre_sain          1647\n",
    "nombre_exposed        593\n",
    "nombre_recovered    16723\n",
    "Name: 295, dtype: int64"
   ]
  },
  {
   "cell_type": "markdown",
   "id": "3a4ddbbc",
   "metadata": {},
   "source": [
    "nombre_infected      1045\n",
    "nombre_sain          1632\n",
    "nombre_exposed        568\n",
    "nombre_recovered    16755\n",
    "Name: 296, dtype: int64"
   ]
  },
  {
   "cell_type": "markdown",
   "id": "5fdf7f9e",
   "metadata": {},
   "source": [
    "nombre_infected      1059\n",
    "nombre_sain          1648\n",
    "nombre_exposed        520\n",
    "nombre_recovered    16773\n",
    "Name: 297, dtype: int64"
   ]
  },
  {
   "cell_type": "markdown",
   "id": "c67c2f63",
   "metadata": {},
   "source": [
    "nombre_infected      1068\n",
    "nombre_sain          1660\n",
    "nombre_exposed        509\n",
    "nombre_recovered    16763\n",
    "Name: 298, dtype: int64"
   ]
  },
  {
   "cell_type": "markdown",
   "id": "ec64786c",
   "metadata": {},
   "source": [
    "nombre_infected      1080\n",
    "nombre_sain          1658\n",
    "nombre_exposed        491\n",
    "nombre_recovered    16771\n",
    "Name: 299, dtype: int64"
   ]
  },
  {
   "cell_type": "markdown",
   "id": "110c6f4b",
   "metadata": {},
   "source": [
    "nombre_infected      1058\n",
    "nombre_sain          1653\n",
    "nombre_exposed        490\n",
    "nombre_recovered    16799\n",
    "Name: 300, dtype: int64"
   ]
  },
  {
   "cell_type": "markdown",
   "id": "2d14e87f",
   "metadata": {},
   "source": [
    "nombre_infected      1005\n",
    "nombre_sain          1643\n",
    "nombre_exposed        490\n",
    "nombre_recovered    16862\n",
    "Name: 301, dtype: int64"
   ]
  },
  {
   "cell_type": "markdown",
   "id": "d944baed",
   "metadata": {},
   "source": [
    "nombre_infected       981\n",
    "nombre_sain          1652\n",
    "nombre_exposed        489\n",
    "nombre_recovered    16878\n",
    "Name: 302, dtype: int64"
   ]
  },
  {
   "cell_type": "markdown",
   "id": "da691d77",
   "metadata": {},
   "source": [
    "nombre_infected       962\n",
    "nombre_sain          1656\n",
    "nombre_exposed        473\n",
    "nombre_recovered    16909\n",
    "Name: 303, dtype: int64"
   ]
  },
  {
   "cell_type": "markdown",
   "id": "cea4b05e",
   "metadata": {},
   "source": [
    "nombre_infected       962\n",
    "nombre_sain          1654\n",
    "nombre_exposed        462\n",
    "nombre_recovered    16922\n",
    "Name: 304, dtype: int64"
   ]
  },
  {
   "cell_type": "markdown",
   "id": "aa09c108",
   "metadata": {},
   "source": [
    "nombre_infected       950\n",
    "nombre_sain          1688\n",
    "nombre_exposed        435\n",
    "nombre_recovered    16927\n",
    "Name: 305, dtype: int64"
   ]
  },
  {
   "cell_type": "markdown",
   "id": "ec2febbf",
   "metadata": {},
   "source": [
    "nombre_infected       943\n",
    "nombre_sain          1698\n",
    "nombre_exposed        430\n",
    "nombre_recovered    16929\n",
    "Name: 306, dtype: int64"
   ]
  },
  {
   "cell_type": "markdown",
   "id": "f49cdefd",
   "metadata": {},
   "source": [
    "nombre_infected       893\n",
    "nombre_sain          1693\n",
    "nombre_exposed        431\n",
    "nombre_recovered    16983\n",
    "Name: 307, dtype: int64"
   ]
  },
  {
   "cell_type": "markdown",
   "id": "10e872a7",
   "metadata": {},
   "source": [
    "nombre_infected       869\n",
    "nombre_sain          1728\n",
    "nombre_exposed        413\n",
    "nombre_recovered    16990\n",
    "Name: 308, dtype: int64"
   ]
  },
  {
   "cell_type": "markdown",
   "id": "2c4b18e9",
   "metadata": {},
   "source": [
    "nombre_infected       839\n",
    "nombre_sain          1714\n",
    "nombre_exposed        407\n",
    "nombre_recovered    17040\n",
    "Name: 309, dtype: int64"
   ]
  },
  {
   "cell_type": "markdown",
   "id": "41903a17",
   "metadata": {},
   "source": [
    "nombre_infected       807\n",
    "nombre_sain          1706\n",
    "nombre_exposed        419\n",
    "nombre_recovered    17068\n",
    "Name: 310, dtype: int64"
   ]
  },
  {
   "cell_type": "markdown",
   "id": "ae605764",
   "metadata": {},
   "source": [
    "nombre_infected       772\n",
    "nombre_sain          1726\n",
    "nombre_exposed        411\n",
    "nombre_recovered    17091\n",
    "Name: 311, dtype: int64"
   ]
  },
  {
   "cell_type": "markdown",
   "id": "b6af3bc6",
   "metadata": {},
   "source": [
    "nombre_infected       775\n",
    "nombre_sain          1761\n",
    "nombre_exposed        385\n",
    "nombre_recovered    17079\n",
    "Name: 312, dtype: int64"
   ]
  },
  {
   "cell_type": "markdown",
   "id": "e09ba15b",
   "metadata": {},
   "source": [
    "nombre_infected       754\n",
    "nombre_sain          1780\n",
    "nombre_exposed        395\n",
    "nombre_recovered    17071\n",
    "Name: 313, dtype: int64"
   ]
  },
  {
   "cell_type": "markdown",
   "id": "f8c014c1",
   "metadata": {},
   "source": [
    "nombre_infected       726\n",
    "nombre_sain          1804\n",
    "nombre_exposed        407\n",
    "nombre_recovered    17063\n",
    "Name: 314, dtype: int64"
   ]
  },
  {
   "cell_type": "markdown",
   "id": "e3ca3c13",
   "metadata": {},
   "source": [
    "nombre_infected       710\n",
    "nombre_sain          1844\n",
    "nombre_exposed        401\n",
    "nombre_recovered    17045\n",
    "Name: 315, dtype: int64"
   ]
  },
  {
   "cell_type": "markdown",
   "id": "66b9c1db",
   "metadata": {},
   "source": [
    "nombre_infected       689\n",
    "nombre_sain          1873\n",
    "nombre_exposed        408\n",
    "nombre_recovered    17030\n",
    "Name: 316, dtype: int64"
   ]
  },
  {
   "cell_type": "markdown",
   "id": "15b8a695",
   "metadata": {},
   "source": [
    "nombre_infected       699\n",
    "nombre_sain          1902\n",
    "nombre_exposed        398\n",
    "nombre_recovered    17001\n",
    "Name: 317, dtype: int64"
   ]
  },
  {
   "cell_type": "markdown",
   "id": "0d886bc9",
   "metadata": {},
   "source": [
    "nombre_infected       675\n",
    "nombre_sain          1938\n",
    "nombre_exposed        404\n",
    "nombre_recovered    16983\n",
    "Name: 318, dtype: int64"
   ]
  },
  {
   "cell_type": "markdown",
   "id": "838d6902",
   "metadata": {},
   "source": [
    "nombre_infected       676\n",
    "nombre_sain          1977\n",
    "nombre_exposed        399\n",
    "nombre_recovered    16948\n",
    "Name: 319, dtype: int64"
   ]
  },
  {
   "cell_type": "markdown",
   "id": "1b2a27be",
   "metadata": {},
   "source": [
    "nombre_infected       684\n",
    "nombre_sain          2017\n",
    "nombre_exposed        380\n",
    "nombre_recovered    16919\n",
    "Name: 320, dtype: int64"
   ]
  },
  {
   "cell_type": "markdown",
   "id": "393e8268",
   "metadata": {},
   "source": [
    "nombre_infected       669\n",
    "nombre_sain          2049\n",
    "nombre_exposed        385\n",
    "nombre_recovered    16897\n",
    "Name: 321, dtype: int64"
   ]
  },
  {
   "cell_type": "markdown",
   "id": "a90c8c23",
   "metadata": {},
   "source": [
    "nombre_infected       663\n",
    "nombre_sain          2084\n",
    "nombre_exposed        392\n",
    "nombre_recovered    16861\n",
    "Name: 322, dtype: int64"
   ]
  },
  {
   "cell_type": "markdown",
   "id": "30dc11db",
   "metadata": {},
   "source": [
    "nombre_infected       654\n",
    "nombre_sain          2110\n",
    "nombre_exposed        387\n",
    "nombre_recovered    16849\n",
    "Name: 323, dtype: int64"
   ]
  },
  {
   "cell_type": "markdown",
   "id": "6b68a075",
   "metadata": {},
   "source": [
    "nombre_infected       643\n",
    "nombre_sain          2128\n",
    "nombre_exposed        387\n",
    "nombre_recovered    16842\n",
    "Name: 324, dtype: int64"
   ]
  },
  {
   "cell_type": "markdown",
   "id": "ebdcdc9e",
   "metadata": {},
   "source": [
    "nombre_infected       639\n",
    "nombre_sain          2140\n",
    "nombre_exposed        378\n",
    "nombre_recovered    16843\n",
    "Name: 325, dtype: int64"
   ]
  },
  {
   "cell_type": "markdown",
   "id": "1a0a143d",
   "metadata": {},
   "source": [
    "nombre_infected       634\n",
    "nombre_sain          2149\n",
    "nombre_exposed        373\n",
    "nombre_recovered    16844\n",
    "Name: 326, dtype: int64"
   ]
  },
  {
   "cell_type": "markdown",
   "id": "0e513ecf",
   "metadata": {},
   "source": [
    "nombre_infected       627\n",
    "nombre_sain          2181\n",
    "nombre_exposed        382\n",
    "nombre_recovered    16810\n",
    "Name: 327, dtype: int64"
   ]
  },
  {
   "cell_type": "markdown",
   "id": "15522031",
   "metadata": {},
   "source": [
    "nombre_infected       632\n",
    "nombre_sain          2181\n",
    "nombre_exposed        411\n",
    "nombre_recovered    16776\n",
    "Name: 328, dtype: int64"
   ]
  },
  {
   "cell_type": "markdown",
   "id": "2e1443bd",
   "metadata": {},
   "source": [
    "nombre_infected       627\n",
    "nombre_sain          2207\n",
    "nombre_exposed        402\n",
    "nombre_recovered    16764\n",
    "Name: 329, dtype: int64"
   ]
  },
  {
   "cell_type": "markdown",
   "id": "36f152ed",
   "metadata": {},
   "source": [
    "nombre_infected       621\n",
    "nombre_sain          2229\n",
    "nombre_exposed        414\n",
    "nombre_recovered    16736\n",
    "Name: 330, dtype: int64"
   ]
  },
  {
   "cell_type": "markdown",
   "id": "e6fc890f",
   "metadata": {},
   "source": [
    "nombre_infected       626\n",
    "nombre_sain          2261\n",
    "nombre_exposed        407\n",
    "nombre_recovered    16706\n",
    "Name: 331, dtype: int64"
   ]
  },
  {
   "cell_type": "markdown",
   "id": "a3d45aa2",
   "metadata": {},
   "source": [
    "nombre_infected       633\n",
    "nombre_sain          2264\n",
    "nombre_exposed        419\n",
    "nombre_recovered    16684\n",
    "Name: 332, dtype: int64"
   ]
  },
  {
   "cell_type": "markdown",
   "id": "ae2cb7d0",
   "metadata": {},
   "source": [
    "nombre_infected       642\n",
    "nombre_sain          2317\n",
    "nombre_exposed        398\n",
    "nombre_recovered    16643\n",
    "Name: 333, dtype: int64"
   ]
  },
  {
   "cell_type": "markdown",
   "id": "9940cac2",
   "metadata": {},
   "source": [
    "nombre_infected       635\n",
    "nombre_sain          2329\n",
    "nombre_exposed        413\n",
    "nombre_recovered    16623\n",
    "Name: 334, dtype: int64"
   ]
  },
  {
   "cell_type": "markdown",
   "id": "914fb5ca",
   "metadata": {},
   "source": [
    "nombre_infected       631\n",
    "nombre_sain          2319\n",
    "nombre_exposed        438\n",
    "nombre_recovered    16612\n",
    "Name: 335, dtype: int64"
   ]
  },
  {
   "cell_type": "markdown",
   "id": "59bd7bf8",
   "metadata": {},
   "source": [
    "nombre_infected       610\n",
    "nombre_sain          2349\n",
    "nombre_exposed        451\n",
    "nombre_recovered    16590\n",
    "Name: 336, dtype: int64"
   ]
  },
  {
   "cell_type": "markdown",
   "id": "635243cb",
   "metadata": {},
   "source": [
    "nombre_infected       630\n",
    "nombre_sain          2370\n",
    "nombre_exposed        437\n",
    "nombre_recovered    16563\n",
    "Name: 337, dtype: int64"
   ]
  },
  {
   "cell_type": "markdown",
   "id": "7d393358",
   "metadata": {},
   "source": [
    "nombre_infected       645\n",
    "nombre_sain          2376\n",
    "nombre_exposed        449\n",
    "nombre_recovered    16530\n",
    "Name: 338, dtype: int64"
   ]
  },
  {
   "cell_type": "markdown",
   "id": "0b2befc5",
   "metadata": {},
   "source": [
    "nombre_infected       627\n",
    "nombre_sain          2406\n",
    "nombre_exposed        459\n",
    "nombre_recovered    16508\n",
    "Name: 339, dtype: int64"
   ]
  },
  {
   "cell_type": "markdown",
   "id": "0862b22d",
   "metadata": {},
   "source": [
    "nombre_infected       635\n",
    "nombre_sain          2429\n",
    "nombre_exposed        447\n",
    "nombre_recovered    16489\n",
    "Name: 340, dtype: int64"
   ]
  },
  {
   "cell_type": "markdown",
   "id": "9b61e785",
   "metadata": {},
   "source": [
    "nombre_infected       677\n",
    "nombre_sain          2421\n",
    "nombre_exposed        455\n",
    "nombre_recovered    16447\n",
    "Name: 341, dtype: int64"
   ]
  },
  {
   "cell_type": "markdown",
   "id": "f2f49f46",
   "metadata": {},
   "source": [
    "nombre_infected       690\n",
    "nombre_sain          2421\n",
    "nombre_exposed        473\n",
    "nombre_recovered    16416\n",
    "Name: 342, dtype: int64"
   ]
  },
  {
   "cell_type": "markdown",
   "id": "d5bbe789",
   "metadata": {},
   "source": [
    "nombre_infected       705\n",
    "nombre_sain          2427\n",
    "nombre_exposed        480\n",
    "nombre_recovered    16388\n",
    "Name: 343, dtype: int64"
   ]
  },
  {
   "cell_type": "markdown",
   "id": "70647b6d",
   "metadata": {},
   "source": [
    "nombre_infected       725\n",
    "nombre_sain          2436\n",
    "nombre_exposed        477\n",
    "nombre_recovered    16362\n",
    "Name: 344, dtype: int64"
   ]
  },
  {
   "cell_type": "markdown",
   "id": "f2eacc87",
   "metadata": {},
   "source": [
    "nombre_infected       753\n",
    "nombre_sain          2433\n",
    "nombre_exposed        495\n",
    "nombre_recovered    16319\n",
    "Name: 345, dtype: int64"
   ]
  },
  {
   "cell_type": "markdown",
   "id": "1f9b2695",
   "metadata": {},
   "source": [
    "nombre_infected       759\n",
    "nombre_sain          2440\n",
    "nombre_exposed        493\n",
    "nombre_recovered    16308\n",
    "Name: 346, dtype: int64"
   ]
  },
  {
   "cell_type": "markdown",
   "id": "412e7d2c",
   "metadata": {},
   "source": [
    "nombre_infected       763\n",
    "nombre_sain          2441\n",
    "nombre_exposed        517\n",
    "nombre_recovered    16279\n",
    "Name: 347, dtype: int64"
   ]
  },
  {
   "cell_type": "markdown",
   "id": "5bd723a7",
   "metadata": {},
   "source": [
    "nombre_infected       784\n",
    "nombre_sain          2443\n",
    "nombre_exposed        520\n",
    "nombre_recovered    16253\n",
    "Name: 348, dtype: int64"
   ]
  },
  {
   "cell_type": "markdown",
   "id": "a7203d67",
   "metadata": {},
   "source": [
    "nombre_infected       800\n",
    "nombre_sain          2437\n",
    "nombre_exposed        529\n",
    "nombre_recovered    16234\n",
    "Name: 349, dtype: int64"
   ]
  },
  {
   "cell_type": "markdown",
   "id": "088b0591",
   "metadata": {},
   "source": [
    "nombre_infected       814\n",
    "nombre_sain          2420\n",
    "nombre_exposed        542\n",
    "nombre_recovered    16224\n",
    "Name: 350, dtype: int64"
   ]
  },
  {
   "cell_type": "markdown",
   "id": "19314a28",
   "metadata": {},
   "source": [
    "nombre_infected       831\n",
    "nombre_sain          2428\n",
    "nombre_exposed        529\n",
    "nombre_recovered    16212\n",
    "Name: 351, dtype: int64"
   ]
  },
  {
   "cell_type": "markdown",
   "id": "c65519a3",
   "metadata": {},
   "source": [
    "nombre_infected       833\n",
    "nombre_sain          2429\n",
    "nombre_exposed        534\n",
    "nombre_recovered    16204\n",
    "Name: 352, dtype: int64"
   ]
  },
  {
   "cell_type": "markdown",
   "id": "f8ae07a0",
   "metadata": {},
   "source": [
    "nombre_infected       845\n",
    "nombre_sain          2396\n",
    "nombre_exposed        557\n",
    "nombre_recovered    16202\n",
    "Name: 353, dtype: int64"
   ]
  },
  {
   "cell_type": "markdown",
   "id": "e1e3b4be",
   "metadata": {},
   "source": [
    "nombre_infected       859\n",
    "nombre_sain          2374\n",
    "nombre_exposed        572\n",
    "nombre_recovered    16195\n",
    "Name: 354, dtype: int64"
   ]
  },
  {
   "cell_type": "markdown",
   "id": "2bbd819a",
   "metadata": {},
   "source": [
    "nombre_infected       881\n",
    "nombre_sain          2372\n",
    "nombre_exposed        560\n",
    "nombre_recovered    16187\n",
    "Name: 355, dtype: int64"
   ]
  },
  {
   "cell_type": "markdown",
   "id": "c0c0380c",
   "metadata": {},
   "source": [
    "nombre_infected       871\n",
    "nombre_sain          2374\n",
    "nombre_exposed        558\n",
    "nombre_recovered    16197\n",
    "Name: 356, dtype: int64"
   ]
  },
  {
   "cell_type": "markdown",
   "id": "80416161",
   "metadata": {},
   "source": [
    "nombre_infected       860\n",
    "nombre_sain          2363\n",
    "nombre_exposed        567\n",
    "nombre_recovered    16210\n",
    "Name: 357, dtype: int64"
   ]
  },
  {
   "cell_type": "markdown",
   "id": "071b680d",
   "metadata": {},
   "source": [
    "nombre_infected       884\n",
    "nombre_sain          2327\n",
    "nombre_exposed        583\n",
    "nombre_recovered    16206\n",
    "Name: 358, dtype: int64"
   ]
  },
  {
   "cell_type": "markdown",
   "id": "2f5c81d9",
   "metadata": {},
   "source": [
    "nombre_infected       891\n",
    "nombre_sain          2293\n",
    "nombre_exposed        598\n",
    "nombre_recovered    16218\n",
    "Name: 359, dtype: int64"
   ]
  },
  {
   "cell_type": "markdown",
   "id": "41b3fc76",
   "metadata": {},
   "source": [
    "nombre_infected       904\n",
    "nombre_sain          2251\n",
    "nombre_exposed        587\n",
    "nombre_recovered    16258\n",
    "Name: 360, dtype: int64"
   ]
  },
  {
   "cell_type": "markdown",
   "id": "a00ebcb9",
   "metadata": {},
   "source": [
    "nombre_infected       911\n",
    "nombre_sain          2220\n",
    "nombre_exposed        591\n",
    "nombre_recovered    16278\n",
    "Name: 361, dtype: int64"
   ]
  },
  {
   "cell_type": "markdown",
   "id": "395a9c8c",
   "metadata": {},
   "source": [
    "nombre_infected       911\n",
    "nombre_sain          2173\n",
    "nombre_exposed        627\n",
    "nombre_recovered    16289\n",
    "Name: 362, dtype: int64"
   ]
  },
  {
   "cell_type": "markdown",
   "id": "72520b17",
   "metadata": {},
   "source": [
    "nombre_infected       914\n",
    "nombre_sain          2163\n",
    "nombre_exposed        621\n",
    "nombre_recovered    16302\n",
    "Name: 363, dtype: int64"
   ]
  },
  {
   "cell_type": "markdown",
   "id": "46630e6d",
   "metadata": {},
   "source": [
    "nombre_infected       925\n",
    "nombre_sain          2147\n",
    "nombre_exposed        600\n",
    "nombre_recovered    16328\n",
    "Name: 364, dtype: int64"
   ]
  },
  {
   "cell_type": "markdown",
   "id": "ae6444b2",
   "metadata": {},
   "source": [
    "nombre_infected       918\n",
    "nombre_sain          2142\n",
    "nombre_exposed        601\n",
    "nombre_recovered    16339\n",
    "Name: 365, dtype: int64"
   ]
  },
  {
   "cell_type": "markdown",
   "id": "1df23814",
   "metadata": {},
   "source": [
    "nombre_infected       936\n",
    "nombre_sain          2106\n",
    "nombre_exposed        606\n",
    "nombre_recovered    16352\n",
    "Name: 366, dtype: int64"
   ]
  },
  {
   "cell_type": "markdown",
   "id": "9ba6e6c1",
   "metadata": {},
   "source": [
    "nombre_infected       932\n",
    "nombre_sain          2078\n",
    "nombre_exposed        601\n",
    "nombre_recovered    16389\n",
    "Name: 367, dtype: int64"
   ]
  },
  {
   "cell_type": "markdown",
   "id": "790ac494",
   "metadata": {},
   "source": [
    "nombre_infected       932\n",
    "nombre_sain          2071\n",
    "nombre_exposed        574\n",
    "nombre_recovered    16423\n",
    "Name: 368, dtype: int64"
   ]
  },
  {
   "cell_type": "markdown",
   "id": "dfd309a2",
   "metadata": {},
   "source": [
    "nombre_infected       947\n",
    "nombre_sain          2039\n",
    "nombre_exposed        558\n",
    "nombre_recovered    16456\n",
    "Name: 369, dtype: int64"
   ]
  },
  {
   "cell_type": "markdown",
   "id": "31938e66",
   "metadata": {},
   "source": [
    "nombre_infected       908\n",
    "nombre_sain          2028\n",
    "nombre_exposed        558\n",
    "nombre_recovered    16506\n",
    "Name: 370, dtype: int64"
   ]
  },
  {
   "cell_type": "markdown",
   "id": "c695c439",
   "metadata": {},
   "source": [
    "nombre_infected       868\n",
    "nombre_sain          2029\n",
    "nombre_exposed        558\n",
    "nombre_recovered    16545\n",
    "Name: 371, dtype: int64"
   ]
  },
  {
   "cell_type": "markdown",
   "id": "62f65e8f",
   "metadata": {},
   "source": [
    "nombre_infected       859\n",
    "nombre_sain          2028\n",
    "nombre_exposed        561\n",
    "nombre_recovered    16552\n",
    "Name: 372, dtype: int64"
   ]
  },
  {
   "cell_type": "markdown",
   "id": "02ea3994",
   "metadata": {},
   "source": [
    "nombre_infected       865\n",
    "nombre_sain          2057\n",
    "nombre_exposed        523\n",
    "nombre_recovered    16555\n",
    "Name: 373, dtype: int64"
   ]
  },
  {
   "cell_type": "markdown",
   "id": "5ffef179",
   "metadata": {},
   "source": [
    "nombre_infected       855\n",
    "nombre_sain          2041\n",
    "nombre_exposed        510\n",
    "nombre_recovered    16594\n",
    "Name: 374, dtype: int64"
   ]
  },
  {
   "cell_type": "markdown",
   "id": "d7663f16",
   "metadata": {},
   "source": [
    "nombre_infected       845\n",
    "nombre_sain          2033\n",
    "nombre_exposed        516\n",
    "nombre_recovered    16606\n",
    "Name: 375, dtype: int64"
   ]
  },
  {
   "cell_type": "markdown",
   "id": "1f34d0b6",
   "metadata": {},
   "source": [
    "nombre_infected       819\n",
    "nombre_sain          2005\n",
    "nombre_exposed        536\n",
    "nombre_recovered    16640\n",
    "Name: 376, dtype: int64"
   ]
  },
  {
   "cell_type": "markdown",
   "id": "e0e8e4f2",
   "metadata": {},
   "source": [
    "nombre_infected       791\n",
    "nombre_sain          1989\n",
    "nombre_exposed        541\n",
    "nombre_recovered    16679\n",
    "Name: 377, dtype: int64"
   ]
  },
  {
   "cell_type": "markdown",
   "id": "c15559dc",
   "metadata": {},
   "source": [
    "nombre_infected       783\n",
    "nombre_sain          2000\n",
    "nombre_exposed        521\n",
    "nombre_recovered    16696\n",
    "Name: 378, dtype: int64"
   ]
  },
  {
   "cell_type": "markdown",
   "id": "18c582a2",
   "metadata": {},
   "source": [
    "nombre_infected       806\n",
    "nombre_sain          1992\n",
    "nombre_exposed        496\n",
    "nombre_recovered    16706\n",
    "Name: 379, dtype: int64"
   ]
  },
  {
   "cell_type": "markdown",
   "id": "e5770fda",
   "metadata": {},
   "source": [
    "nombre_infected       816\n",
    "nombre_sain          1987\n",
    "nombre_exposed        481\n",
    "nombre_recovered    16716\n",
    "Name: 380, dtype: int64"
   ]
  },
  {
   "cell_type": "markdown",
   "id": "2b344557",
   "metadata": {},
   "source": [
    "nombre_infected       792\n",
    "nombre_sain          1986\n",
    "nombre_exposed        483\n",
    "nombre_recovered    16739\n",
    "Name: 381, dtype: int64"
   ]
  },
  {
   "cell_type": "markdown",
   "id": "af949cf6",
   "metadata": {},
   "source": [
    "nombre_infected       791\n",
    "nombre_sain          1963\n",
    "nombre_exposed        496\n",
    "nombre_recovered    16750\n",
    "Name: 382, dtype: int64"
   ]
  },
  {
   "cell_type": "markdown",
   "id": "8c5f06e8",
   "metadata": {},
   "source": [
    "nombre_infected       774\n",
    "nombre_sain          1995\n",
    "nombre_exposed        490\n",
    "nombre_recovered    16741\n",
    "Name: 383, dtype: int64"
   ]
  },
  {
   "cell_type": "markdown",
   "id": "c1dda0cb",
   "metadata": {},
   "source": [
    "nombre_infected       724\n",
    "nombre_sain          2000\n",
    "nombre_exposed        492\n",
    "nombre_recovered    16784\n",
    "Name: 384, dtype: int64"
   ]
  },
  {
   "cell_type": "markdown",
   "id": "68ca8b92",
   "metadata": {},
   "source": [
    "nombre_infected       742\n",
    "nombre_sain          1997\n",
    "nombre_exposed        483\n",
    "nombre_recovered    16778\n",
    "Name: 385, dtype: int64"
   ]
  },
  {
   "cell_type": "markdown",
   "id": "b626d4fc",
   "metadata": {},
   "source": [
    "nombre_infected       748\n",
    "nombre_sain          2014\n",
    "nombre_exposed        465\n",
    "nombre_recovered    16773\n",
    "Name: 386, dtype: int64"
   ]
  },
  {
   "cell_type": "markdown",
   "id": "95730d7d",
   "metadata": {},
   "source": [
    "nombre_infected       736\n",
    "nombre_sain          2024\n",
    "nombre_exposed        461\n",
    "nombre_recovered    16779\n",
    "Name: 387, dtype: int64"
   ]
  },
  {
   "cell_type": "markdown",
   "id": "7e62fc83",
   "metadata": {},
   "source": [
    "nombre_infected       730\n",
    "nombre_sain          2052\n",
    "nombre_exposed        443\n",
    "nombre_recovered    16775\n",
    "Name: 388, dtype: int64"
   ]
  },
  {
   "cell_type": "markdown",
   "id": "183f06ef",
   "metadata": {},
   "source": [
    "nombre_infected       714\n",
    "nombre_sain          2077\n",
    "nombre_exposed        420\n",
    "nombre_recovered    16789\n",
    "Name: 389, dtype: int64"
   ]
  },
  {
   "cell_type": "markdown",
   "id": "851ec057",
   "metadata": {},
   "source": [
    "nombre_infected       691\n",
    "nombre_sain          2104\n",
    "nombre_exposed        417\n",
    "nombre_recovered    16788\n",
    "Name: 390, dtype: int64"
   ]
  },
  {
   "cell_type": "markdown",
   "id": "070c71b2",
   "metadata": {},
   "source": [
    "nombre_infected       670\n",
    "nombre_sain          2106\n",
    "nombre_exposed        422\n",
    "nombre_recovered    16802\n",
    "Name: 391, dtype: int64"
   ]
  },
  {
   "cell_type": "markdown",
   "id": "a61d14ac",
   "metadata": {},
   "source": [
    "nombre_infected       688\n",
    "nombre_sain          2114\n",
    "nombre_exposed        407\n",
    "nombre_recovered    16791\n",
    "Name: 392, dtype: int64"
   ]
  },
  {
   "cell_type": "markdown",
   "id": "42229e61",
   "metadata": {},
   "source": [
    "nombre_infected       674\n",
    "nombre_sain          2122\n",
    "nombre_exposed        423\n",
    "nombre_recovered    16781\n",
    "Name: 393, dtype: int64"
   ]
  },
  {
   "cell_type": "markdown",
   "id": "56ca8255",
   "metadata": {},
   "source": [
    "nombre_infected       679\n",
    "nombre_sain          2151\n",
    "nombre_exposed        404\n",
    "nombre_recovered    16766\n",
    "Name: 394, dtype: int64"
   ]
  },
  {
   "cell_type": "markdown",
   "id": "57c6ce2d",
   "metadata": {},
   "source": [
    "nombre_infected       686\n",
    "nombre_sain          2153\n",
    "nombre_exposed        401\n",
    "nombre_recovered    16760\n",
    "Name: 395, dtype: int64"
   ]
  },
  {
   "cell_type": "markdown",
   "id": "88b7e433",
   "metadata": {},
   "source": [
    "nombre_infected       676\n",
    "nombre_sain          2174\n",
    "nombre_exposed        401\n",
    "nombre_recovered    16749\n",
    "Name: 396, dtype: int64"
   ]
  },
  {
   "cell_type": "markdown",
   "id": "edc0c457",
   "metadata": {},
   "source": [
    "nombre_infected       669\n",
    "nombre_sain          2169\n",
    "nombre_exposed        419\n",
    "nombre_recovered    16743\n",
    "Name: 397, dtype: int64"
   ]
  },
  {
   "cell_type": "markdown",
   "id": "69e2145f",
   "metadata": {},
   "source": [
    "nombre_infected       686\n",
    "nombre_sain          2185\n",
    "nombre_exposed        410\n",
    "nombre_recovered    16719\n",
    "Name: 398, dtype: int64"
   ]
  },
  {
   "cell_type": "markdown",
   "id": "3a2d74d3",
   "metadata": {},
   "source": [
    "nombre_infected       665\n",
    "nombre_sain          2226\n",
    "nombre_exposed        415\n",
    "nombre_recovered    16694\n",
    "Name: 399, dtype: int64"
   ]
  },
  {
   "cell_type": "markdown",
   "id": "90badf25",
   "metadata": {},
   "source": [
    "nombre_infected       669\n",
    "nombre_sain          2237\n",
    "nombre_exposed        435\n",
    "nombre_recovered    16659\n",
    "Name: 400, dtype: int64"
   ]
  },
  {
   "cell_type": "markdown",
   "id": "4719d211",
   "metadata": {},
   "source": [
    "nombre_infected       672\n",
    "nombre_sain          2258\n",
    "nombre_exposed        433\n",
    "nombre_recovered    16637\n",
    "Name: 401, dtype: int64"
   ]
  },
  {
   "cell_type": "markdown",
   "id": "50e12985",
   "metadata": {},
   "source": [
    "nombre_infected       695\n",
    "nombre_sain          2268\n",
    "nombre_exposed        419\n",
    "nombre_recovered    16618\n",
    "Name: 402, dtype: int64"
   ]
  },
  {
   "cell_type": "markdown",
   "id": "d2cc6b49",
   "metadata": {},
   "source": [
    "nombre_infected       702\n",
    "nombre_sain          2281\n",
    "nombre_exposed        419\n",
    "nombre_recovered    16598\n",
    "Name: 403, dtype: int64"
   ]
  },
  {
   "cell_type": "markdown",
   "id": "fb81cf9a",
   "metadata": {},
   "source": [
    "nombre_infected       697\n",
    "nombre_sain          2291\n",
    "nombre_exposed        418\n",
    "nombre_recovered    16594\n",
    "Name: 404, dtype: int64"
   ]
  },
  {
   "cell_type": "markdown",
   "id": "000db3f5",
   "metadata": {},
   "source": [
    "nombre_infected       694\n",
    "nombre_sain          2300\n",
    "nombre_exposed        408\n",
    "nombre_recovered    16598\n",
    "Name: 405, dtype: int64"
   ]
  },
  {
   "cell_type": "markdown",
   "id": "47a17593",
   "metadata": {},
   "source": [
    "nombre_infected       719\n",
    "nombre_sain          2286\n",
    "nombre_exposed        413\n",
    "nombre_recovered    16582\n",
    "Name: 406, dtype: int64"
   ]
  },
  {
   "cell_type": "markdown",
   "id": "16b62a41",
   "metadata": {},
   "source": [
    "nombre_infected       714\n",
    "nombre_sain          2286\n",
    "nombre_exposed        412\n",
    "nombre_recovered    16588\n",
    "Name: 407, dtype: int64"
   ]
  },
  {
   "cell_type": "markdown",
   "id": "080f49e3",
   "metadata": {},
   "source": [
    "nombre_infected       706\n",
    "nombre_sain          2302\n",
    "nombre_exposed        416\n",
    "nombre_recovered    16576\n",
    "Name: 408, dtype: int64"
   ]
  },
  {
   "cell_type": "markdown",
   "id": "013de416",
   "metadata": {},
   "source": [
    "nombre_infected       704\n",
    "nombre_sain          2271\n",
    "nombre_exposed        437\n",
    "nombre_recovered    16588\n",
    "Name: 409, dtype: int64"
   ]
  },
  {
   "cell_type": "markdown",
   "id": "f8451d6c",
   "metadata": {},
   "source": [
    "nombre_infected       686\n",
    "nombre_sain          2281\n",
    "nombre_exposed        442\n",
    "nombre_recovered    16591\n",
    "Name: 410, dtype: int64"
   ]
  },
  {
   "cell_type": "markdown",
   "id": "603ef15b",
   "metadata": {},
   "source": [
    "nombre_infected       693\n",
    "nombre_sain          2280\n",
    "nombre_exposed        428\n",
    "nombre_recovered    16599\n",
    "Name: 411, dtype: int64"
   ]
  },
  {
   "cell_type": "markdown",
   "id": "d96c52a2",
   "metadata": {},
   "source": [
    "nombre_infected       705\n",
    "nombre_sain          2281\n",
    "nombre_exposed        426\n",
    "nombre_recovered    16588\n",
    "Name: 412, dtype: int64"
   ]
  },
  {
   "cell_type": "markdown",
   "id": "fe03efa5",
   "metadata": {},
   "source": [
    "nombre_infected       716\n",
    "nombre_sain          2282\n",
    "nombre_exposed        422\n",
    "nombre_recovered    16580\n",
    "Name: 413, dtype: int64"
   ]
  },
  {
   "cell_type": "markdown",
   "id": "47306f02",
   "metadata": {},
   "source": [
    "nombre_infected       711\n",
    "nombre_sain          2286\n",
    "nombre_exposed        429\n",
    "nombre_recovered    16574\n",
    "Name: 414, dtype: int64"
   ]
  },
  {
   "cell_type": "markdown",
   "id": "6bf95051",
   "metadata": {},
   "source": [
    "nombre_infected       726\n",
    "nombre_sain          2292\n",
    "nombre_exposed        420\n",
    "nombre_recovered    16562\n",
    "Name: 415, dtype: int64"
   ]
  },
  {
   "cell_type": "markdown",
   "id": "a8190836",
   "metadata": {},
   "source": [
    "nombre_infected       736\n",
    "nombre_sain          2306\n",
    "nombre_exposed        416\n",
    "nombre_recovered    16542\n",
    "Name: 416, dtype: int64"
   ]
  },
  {
   "cell_type": "markdown",
   "id": "bb43b185",
   "metadata": {},
   "source": [
    "nombre_infected       753\n",
    "nombre_sain          2301\n",
    "nombre_exposed        424\n",
    "nombre_recovered    16522\n",
    "Name: 417, dtype: int64"
   ]
  },
  {
   "cell_type": "markdown",
   "id": "5940cf41",
   "metadata": {},
   "source": [
    "nombre_infected       752\n",
    "nombre_sain          2309\n",
    "nombre_exposed        413\n",
    "nombre_recovered    16526\n",
    "Name: 418, dtype: int64"
   ]
  },
  {
   "cell_type": "markdown",
   "id": "a7f1cb8a",
   "metadata": {},
   "source": [
    "nombre_infected       746\n",
    "nombre_sain          2254\n",
    "nombre_exposed        446\n",
    "nombre_recovered    16554\n",
    "Name: 419, dtype: int64"
   ]
  },
  {
   "cell_type": "markdown",
   "id": "1238de9f",
   "metadata": {},
   "source": [
    "nombre_infected       739\n",
    "nombre_sain          2236\n",
    "nombre_exposed        454\n",
    "nombre_recovered    16571\n",
    "Name: 420, dtype: int64"
   ]
  },
  {
   "cell_type": "markdown",
   "id": "9dbe4abb",
   "metadata": {},
   "source": [
    "nombre_infected       732\n",
    "nombre_sain          2248\n",
    "nombre_exposed        439\n",
    "nombre_recovered    16581\n",
    "Name: 421, dtype: int64"
   ]
  },
  {
   "cell_type": "markdown",
   "id": "1760c114",
   "metadata": {},
   "source": [
    "nombre_infected       746\n",
    "nombre_sain          2245\n",
    "nombre_exposed        431\n",
    "nombre_recovered    16578\n",
    "Name: 422, dtype: int64"
   ]
  },
  {
   "cell_type": "markdown",
   "id": "8e4d1b33",
   "metadata": {},
   "source": [
    "nombre_infected       747\n",
    "nombre_sain          2246\n",
    "nombre_exposed        437\n",
    "nombre_recovered    16570\n",
    "Name: 423, dtype: int64"
   ]
  },
  {
   "cell_type": "markdown",
   "id": "5f912a2a",
   "metadata": {},
   "source": [
    "nombre_infected       767\n",
    "nombre_sain          2258\n",
    "nombre_exposed        438\n",
    "nombre_recovered    16537\n",
    "Name: 424, dtype: int64"
   ]
  },
  {
   "cell_type": "markdown",
   "id": "834bdc75",
   "metadata": {},
   "source": [
    "nombre_infected       749\n",
    "nombre_sain          2279\n",
    "nombre_exposed        439\n",
    "nombre_recovered    16533\n",
    "Name: 425, dtype: int64"
   ]
  },
  {
   "cell_type": "markdown",
   "id": "780c37e0",
   "metadata": {},
   "source": [
    "nombre_infected       738\n",
    "nombre_sain          2270\n",
    "nombre_exposed        444\n",
    "nombre_recovered    16548\n",
    "Name: 426, dtype: int64"
   ]
  },
  {
   "cell_type": "markdown",
   "id": "bd5c0cde",
   "metadata": {},
   "source": [
    "nombre_infected       735\n",
    "nombre_sain          2274\n",
    "nombre_exposed        429\n",
    "nombre_recovered    16562\n",
    "Name: 427, dtype: int64"
   ]
  },
  {
   "cell_type": "markdown",
   "id": "445b7b73",
   "metadata": {},
   "source": [
    "nombre_infected       731\n",
    "nombre_sain          2292\n",
    "nombre_exposed        446\n",
    "nombre_recovered    16531\n",
    "Name: 428, dtype: int64"
   ]
  },
  {
   "cell_type": "markdown",
   "id": "e92a2757",
   "metadata": {},
   "source": [
    "nombre_infected       733\n",
    "nombre_sain          2288\n",
    "nombre_exposed        455\n",
    "nombre_recovered    16524\n",
    "Name: 429, dtype: int64"
   ]
  },
  {
   "cell_type": "markdown",
   "id": "a445251a",
   "metadata": {},
   "source": [
    "nombre_infected       736\n",
    "nombre_sain          2300\n",
    "nombre_exposed        452\n",
    "nombre_recovered    16512\n",
    "Name: 430, dtype: int64"
   ]
  },
  {
   "cell_type": "markdown",
   "id": "d063a1ba",
   "metadata": {},
   "source": [
    "nombre_infected       748\n",
    "nombre_sain          2326\n",
    "nombre_exposed        426\n",
    "nombre_recovered    16500\n",
    "Name: 431, dtype: int64"
   ]
  },
  {
   "cell_type": "markdown",
   "id": "2bb5cb3c",
   "metadata": {},
   "source": [
    "nombre_infected       736\n",
    "nombre_sain          2317\n",
    "nombre_exposed        454\n",
    "nombre_recovered    16493\n",
    "Name: 432, dtype: int64"
   ]
  },
  {
   "cell_type": "markdown",
   "id": "27ff81b0",
   "metadata": {},
   "source": [
    "nombre_infected       742\n",
    "nombre_sain          2327\n",
    "nombre_exposed        453\n",
    "nombre_recovered    16478\n",
    "Name: 433, dtype: int64"
   ]
  },
  {
   "cell_type": "markdown",
   "id": "28a0962c",
   "metadata": {},
   "source": [
    "nombre_infected       761\n",
    "nombre_sain          2326\n",
    "nombre_exposed        446\n",
    "nombre_recovered    16467\n",
    "Name: 434, dtype: int64"
   ]
  },
  {
   "cell_type": "markdown",
   "id": "cd4f2f8f",
   "metadata": {},
   "source": [
    "nombre_infected       754\n",
    "nombre_sain          2304\n",
    "nombre_exposed        465\n",
    "nombre_recovered    16477\n",
    "Name: 435, dtype: int64"
   ]
  },
  {
   "cell_type": "markdown",
   "id": "2f5a09fe",
   "metadata": {},
   "source": [
    "nombre_infected       738\n",
    "nombre_sain          2312\n",
    "nombre_exposed        468\n",
    "nombre_recovered    16482\n",
    "Name: 436, dtype: int64"
   ]
  },
  {
   "cell_type": "markdown",
   "id": "0b774d9e",
   "metadata": {},
   "source": [
    "nombre_infected       745\n",
    "nombre_sain          2324\n",
    "nombre_exposed        465\n",
    "nombre_recovered    16466\n",
    "Name: 437, dtype: int64"
   ]
  },
  {
   "cell_type": "markdown",
   "id": "fc3f1ad1",
   "metadata": {},
   "source": [
    "nombre_infected       757\n",
    "nombre_sain          2309\n",
    "nombre_exposed        461\n",
    "nombre_recovered    16473\n",
    "Name: 438, dtype: int64"
   ]
  },
  {
   "cell_type": "markdown",
   "id": "70a2b2ef",
   "metadata": {},
   "source": [
    "nombre_infected       765\n",
    "nombre_sain          2292\n",
    "nombre_exposed        475\n",
    "nombre_recovered    16468\n",
    "Name: 439, dtype: int64"
   ]
  },
  {
   "cell_type": "markdown",
   "id": "cbab08e4",
   "metadata": {},
   "source": [
    "nombre_infected       762\n",
    "nombre_sain          2272\n",
    "nombre_exposed        468\n",
    "nombre_recovered    16498\n",
    "Name: 440, dtype: int64"
   ]
  },
  {
   "cell_type": "markdown",
   "id": "ae690a01",
   "metadata": {},
   "source": [
    "nombre_infected       775\n",
    "nombre_sain          2261\n",
    "nombre_exposed        459\n",
    "nombre_recovered    16505\n",
    "Name: 441, dtype: int64"
   ]
  },
  {
   "cell_type": "markdown",
   "id": "f41449bf",
   "metadata": {},
   "source": [
    "nombre_infected       781\n",
    "nombre_sain          2250\n",
    "nombre_exposed        455\n",
    "nombre_recovered    16514\n",
    "Name: 442, dtype: int64"
   ]
  },
  {
   "cell_type": "markdown",
   "id": "882205d4",
   "metadata": {},
   "source": [
    "nombre_infected       782\n",
    "nombre_sain          2250\n",
    "nombre_exposed        471\n",
    "nombre_recovered    16497\n",
    "Name: 443, dtype: int64"
   ]
  },
  {
   "cell_type": "markdown",
   "id": "ebd962b1",
   "metadata": {},
   "source": [
    "nombre_infected       783\n",
    "nombre_sain          2255\n",
    "nombre_exposed        469\n",
    "nombre_recovered    16493\n",
    "Name: 444, dtype: int64"
   ]
  },
  {
   "cell_type": "markdown",
   "id": "8f3b167a",
   "metadata": {},
   "source": [
    "nombre_infected       778\n",
    "nombre_sain          2266\n",
    "nombre_exposed        476\n",
    "nombre_recovered    16480\n",
    "Name: 445, dtype: int64"
   ]
  },
  {
   "cell_type": "markdown",
   "id": "60eac469",
   "metadata": {},
   "source": [
    "nombre_infected       780\n",
    "nombre_sain          2291\n",
    "nombre_exposed        481\n",
    "nombre_recovered    16448\n",
    "Name: 446, dtype: int64"
   ]
  },
  {
   "cell_type": "markdown",
   "id": "5fbfc9b9",
   "metadata": {},
   "source": [
    "nombre_infected       774\n",
    "nombre_sain          2285\n",
    "nombre_exposed        481\n",
    "nombre_recovered    16460\n",
    "Name: 447, dtype: int64"
   ]
  },
  {
   "cell_type": "markdown",
   "id": "d20ce7b2",
   "metadata": {},
   "source": [
    "nombre_infected       793\n",
    "nombre_sain          2286\n",
    "nombre_exposed        481\n",
    "nombre_recovered    16440\n",
    "Name: 448, dtype: int64"
   ]
  },
  {
   "cell_type": "markdown",
   "id": "364391fa",
   "metadata": {},
   "source": [
    "nombre_infected       782\n",
    "nombre_sain          2280\n",
    "nombre_exposed        489\n",
    "nombre_recovered    16449\n",
    "Name: 449, dtype: int64"
   ]
  },
  {
   "cell_type": "markdown",
   "id": "4745b3c9",
   "metadata": {},
   "source": [
    "nombre_infected       768\n",
    "nombre_sain          2307\n",
    "nombre_exposed        491\n",
    "nombre_recovered    16434\n",
    "Name: 450, dtype: int64"
   ]
  },
  {
   "cell_type": "markdown",
   "id": "df11b6fc",
   "metadata": {},
   "source": [
    "nombre_infected       764\n",
    "nombre_sain          2308\n",
    "nombre_exposed        504\n",
    "nombre_recovered    16424\n",
    "Name: 451, dtype: int64"
   ]
  },
  {
   "cell_type": "markdown",
   "id": "b49b935c",
   "metadata": {},
   "source": [
    "nombre_infected       770\n",
    "nombre_sain          2317\n",
    "nombre_exposed        499\n",
    "nombre_recovered    16414\n",
    "Name: 452, dtype: int64"
   ]
  },
  {
   "cell_type": "markdown",
   "id": "1eec638c",
   "metadata": {},
   "source": [
    "nombre_infected       790\n",
    "nombre_sain          2323\n",
    "nombre_exposed        489\n",
    "nombre_recovered    16398\n",
    "Name: 453, dtype: int64"
   ]
  },
  {
   "cell_type": "markdown",
   "id": "a320154b",
   "metadata": {},
   "source": [
    "nombre_infected       807\n",
    "nombre_sain          2336\n",
    "nombre_exposed        505\n",
    "nombre_recovered    16352\n",
    "Name: 454, dtype: int64"
   ]
  },
  {
   "cell_type": "markdown",
   "id": "dae78885",
   "metadata": {},
   "source": [
    "nombre_infected       782\n",
    "nombre_sain          2364\n",
    "nombre_exposed        537\n",
    "nombre_recovered    16317\n",
    "Name: 455, dtype: int64"
   ]
  },
  {
   "cell_type": "markdown",
   "id": "dfa4b67c",
   "metadata": {},
   "source": [
    "nombre_infected       777\n",
    "nombre_sain          2366\n",
    "nombre_exposed        549\n",
    "nombre_recovered    16308\n",
    "Name: 456, dtype: int64"
   ]
  },
  {
   "cell_type": "markdown",
   "id": "f9f5e8ea",
   "metadata": {},
   "source": [
    "nombre_infected       769\n",
    "nombre_sain          2355\n",
    "nombre_exposed        564\n",
    "nombre_recovered    16312\n",
    "Name: 457, dtype: int64"
   ]
  },
  {
   "cell_type": "markdown",
   "id": "06668254",
   "metadata": {},
   "source": [
    "nombre_infected       823\n",
    "nombre_sain          2359\n",
    "nombre_exposed        541\n",
    "nombre_recovered    16277\n",
    "Name: 458, dtype: int64"
   ]
  },
  {
   "cell_type": "markdown",
   "id": "ba687658",
   "metadata": {},
   "source": [
    "nombre_infected       838\n",
    "nombre_sain          2358\n",
    "nombre_exposed        526\n",
    "nombre_recovered    16278\n",
    "Name: 459, dtype: int64"
   ]
  },
  {
   "cell_type": "markdown",
   "id": "b9bfcf14",
   "metadata": {},
   "source": [
    "nombre_infected       846\n",
    "nombre_sain          2377\n",
    "nombre_exposed        514\n",
    "nombre_recovered    16263\n",
    "Name: 460, dtype: int64"
   ]
  },
  {
   "cell_type": "markdown",
   "id": "abb20b95",
   "metadata": {},
   "source": [
    "nombre_infected       847\n",
    "nombre_sain          2373\n",
    "nombre_exposed        519\n",
    "nombre_recovered    16261\n",
    "Name: 461, dtype: int64"
   ]
  },
  {
   "cell_type": "markdown",
   "id": "d52220da",
   "metadata": {},
   "source": [
    "nombre_infected       834\n",
    "nombre_sain          2372\n",
    "nombre_exposed        530\n",
    "nombre_recovered    16264\n",
    "Name: 462, dtype: int64"
   ]
  },
  {
   "cell_type": "markdown",
   "id": "61a2728b",
   "metadata": {},
   "source": [
    "nombre_infected       810\n",
    "nombre_sain          2385\n",
    "nombre_exposed        538\n",
    "nombre_recovered    16267\n",
    "Name: 463, dtype: int64"
   ]
  },
  {
   "cell_type": "markdown",
   "id": "b84bc084",
   "metadata": {},
   "source": [
    "nombre_infected       797\n",
    "nombre_sain          2391\n",
    "nombre_exposed        543\n",
    "nombre_recovered    16269\n",
    "Name: 464, dtype: int64"
   ]
  },
  {
   "cell_type": "markdown",
   "id": "0b6e1ae5",
   "metadata": {},
   "source": [
    "nombre_infected       819\n",
    "nombre_sain          2409\n",
    "nombre_exposed        537\n",
    "nombre_recovered    16235\n",
    "Name: 465, dtype: int64"
   ]
  },
  {
   "cell_type": "markdown",
   "id": "ecd5281f",
   "metadata": {},
   "source": [
    "nombre_infected       815\n",
    "nombre_sain          2407\n",
    "nombre_exposed        542\n",
    "nombre_recovered    16236\n",
    "Name: 466, dtype: int64"
   ]
  },
  {
   "cell_type": "markdown",
   "id": "e6bac810",
   "metadata": {},
   "source": [
    "nombre_infected       815\n",
    "nombre_sain          2398\n",
    "nombre_exposed        536\n",
    "nombre_recovered    16251\n",
    "Name: 467, dtype: int64"
   ]
  },
  {
   "cell_type": "markdown",
   "id": "0a2f6964",
   "metadata": {},
   "source": [
    "nombre_infected       816\n",
    "nombre_sain          2384\n",
    "nombre_exposed        563\n",
    "nombre_recovered    16237\n",
    "Name: 468, dtype: int64"
   ]
  },
  {
   "cell_type": "markdown",
   "id": "01b4b199",
   "metadata": {},
   "source": [
    "nombre_infected       818\n",
    "nombre_sain          2371\n",
    "nombre_exposed        571\n",
    "nombre_recovered    16240\n",
    "Name: 469, dtype: int64"
   ]
  },
  {
   "cell_type": "markdown",
   "id": "33b1604a",
   "metadata": {},
   "source": [
    "nombre_infected       803\n",
    "nombre_sain          2400\n",
    "nombre_exposed        581\n",
    "nombre_recovered    16216\n",
    "Name: 470, dtype: int64"
   ]
  },
  {
   "cell_type": "markdown",
   "id": "fceafc01",
   "metadata": {},
   "source": [
    "nombre_infected       809\n",
    "nombre_sain          2405\n",
    "nombre_exposed        590\n",
    "nombre_recovered    16196\n",
    "Name: 471, dtype: int64"
   ]
  },
  {
   "cell_type": "markdown",
   "id": "9feb8a56",
   "metadata": {},
   "source": [
    "nombre_infected       816\n",
    "nombre_sain          2416\n",
    "nombre_exposed        577\n",
    "nombre_recovered    16191\n",
    "Name: 472, dtype: int64"
   ]
  },
  {
   "cell_type": "markdown",
   "id": "344e4538",
   "metadata": {},
   "source": [
    "nombre_infected       844\n",
    "nombre_sain          2418\n",
    "nombre_exposed        579\n",
    "nombre_recovered    16159\n",
    "Name: 473, dtype: int64"
   ]
  },
  {
   "cell_type": "markdown",
   "id": "2d5a922d",
   "metadata": {},
   "source": [
    "nombre_infected       854\n",
    "nombre_sain          2397\n",
    "nombre_exposed        611\n",
    "nombre_recovered    16138\n",
    "Name: 474, dtype: int64"
   ]
  },
  {
   "cell_type": "markdown",
   "id": "1dec3daf",
   "metadata": {},
   "source": [
    "nombre_infected       870\n",
    "nombre_sain          2410\n",
    "nombre_exposed        620\n",
    "nombre_recovered    16100\n",
    "Name: 475, dtype: int64"
   ]
  },
  {
   "cell_type": "markdown",
   "id": "e351979f",
   "metadata": {},
   "source": [
    "nombre_infected       885\n",
    "nombre_sain          2402\n",
    "nombre_exposed        621\n",
    "nombre_recovered    16092\n",
    "Name: 476, dtype: int64"
   ]
  },
  {
   "cell_type": "markdown",
   "id": "b6988d34",
   "metadata": {},
   "source": [
    "nombre_infected       909\n",
    "nombre_sain          2390\n",
    "nombre_exposed        632\n",
    "nombre_recovered    16069\n",
    "Name: 477, dtype: int64"
   ]
  },
  {
   "cell_type": "markdown",
   "id": "abccd4e8",
   "metadata": {},
   "source": [
    "nombre_infected       925\n",
    "nombre_sain          2348\n",
    "nombre_exposed        665\n",
    "nombre_recovered    16062\n",
    "Name: 478, dtype: int64"
   ]
  },
  {
   "cell_type": "markdown",
   "id": "829a7a1f",
   "metadata": {},
   "source": [
    "nombre_infected       935\n",
    "nombre_sain          2360\n",
    "nombre_exposed        626\n",
    "nombre_recovered    16079\n",
    "Name: 479, dtype: int64"
   ]
  },
  {
   "cell_type": "markdown",
   "id": "7f371501",
   "metadata": {},
   "source": [
    "nombre_infected       952\n",
    "nombre_sain          2351\n",
    "nombre_exposed        605\n",
    "nombre_recovered    16092\n",
    "Name: 480, dtype: int64"
   ]
  },
  {
   "cell_type": "markdown",
   "id": "b8c132c3",
   "metadata": {},
   "source": [
    "nombre_infected       958\n",
    "nombre_sain          2364\n",
    "nombre_exposed        612\n",
    "nombre_recovered    16066\n",
    "Name: 481, dtype: int64"
   ]
  },
  {
   "cell_type": "markdown",
   "id": "f00fe4f2",
   "metadata": {},
   "source": [
    "nombre_infected       892\n",
    "nombre_sain          2356\n",
    "nombre_exposed        653\n",
    "nombre_recovered    16099\n",
    "Name: 482, dtype: int64"
   ]
  },
  {
   "cell_type": "markdown",
   "id": "9601c69e",
   "metadata": {},
   "source": [
    "nombre_infected       880\n",
    "nombre_sain          2358\n",
    "nombre_exposed        653\n",
    "nombre_recovered    16109\n",
    "Name: 483, dtype: int64"
   ]
  },
  {
   "cell_type": "markdown",
   "id": "c1bd3e0d",
   "metadata": {},
   "source": [
    "nombre_infected       890\n",
    "nombre_sain          2348\n",
    "nombre_exposed        653\n",
    "nombre_recovered    16109\n",
    "Name: 484, dtype: int64"
   ]
  },
  {
   "cell_type": "markdown",
   "id": "8cd01304",
   "metadata": {},
   "source": [
    "nombre_infected       883\n",
    "nombre_sain          2293\n",
    "nombre_exposed        674\n",
    "nombre_recovered    16150\n",
    "Name: 485, dtype: int64"
   ]
  },
  {
   "cell_type": "markdown",
   "id": "f9591a91",
   "metadata": {},
   "source": [
    "nombre_infected       876\n",
    "nombre_sain          2308\n",
    "nombre_exposed        657\n",
    "nombre_recovered    16159\n",
    "Name: 486, dtype: int64"
   ]
  },
  {
   "cell_type": "markdown",
   "id": "6b5ffc20",
   "metadata": {},
   "source": [
    "nombre_infected       873\n",
    "nombre_sain          2298\n",
    "nombre_exposed        653\n",
    "nombre_recovered    16176\n",
    "Name: 487, dtype: int64"
   ]
  },
  {
   "cell_type": "markdown",
   "id": "c472329b",
   "metadata": {},
   "source": [
    "nombre_infected       898\n",
    "nombre_sain          2288\n",
    "nombre_exposed        618\n",
    "nombre_recovered    16196\n",
    "Name: 488, dtype: int64"
   ]
  },
  {
   "cell_type": "markdown",
   "id": "f0064bc6",
   "metadata": {},
   "source": [
    "nombre_infected       896\n",
    "nombre_sain          2254\n",
    "nombre_exposed        627\n",
    "nombre_recovered    16223\n",
    "Name: 489, dtype: int64"
   ]
  },
  {
   "cell_type": "markdown",
   "id": "4a19bd38",
   "metadata": {},
   "source": [
    "nombre_infected       899\n",
    "nombre_sain          2252\n",
    "nombre_exposed        624\n",
    "nombre_recovered    16225\n",
    "Name: 490, dtype: int64"
   ]
  },
  {
   "cell_type": "markdown",
   "id": "3380426a",
   "metadata": {},
   "source": [
    "nombre_infected       920\n",
    "nombre_sain          2255\n",
    "nombre_exposed        586\n",
    "nombre_recovered    16239\n",
    "Name: 491, dtype: int64"
   ]
  },
  {
   "cell_type": "markdown",
   "id": "c90005d1",
   "metadata": {},
   "source": [
    "nombre_infected       910\n",
    "nombre_sain          2246\n",
    "nombre_exposed        587\n",
    "nombre_recovered    16257\n",
    "Name: 492, dtype: int64"
   ]
  },
  {
   "cell_type": "markdown",
   "id": "2a25f8af",
   "metadata": {},
   "source": [
    "nombre_infected       906\n",
    "nombre_sain          2229\n",
    "nombre_exposed        577\n",
    "nombre_recovered    16288\n",
    "Name: 493, dtype: int64"
   ]
  },
  {
   "cell_type": "markdown",
   "id": "a7e4de06",
   "metadata": {},
   "source": [
    "nombre_infected       893\n",
    "nombre_sain          2213\n",
    "nombre_exposed        569\n",
    "nombre_recovered    16325\n",
    "Name: 494, dtype: int64"
   ]
  },
  {
   "cell_type": "markdown",
   "id": "2db27c6f",
   "metadata": {},
   "source": [
    "nombre_infected       872\n",
    "nombre_sain          2209\n",
    "nombre_exposed        552\n",
    "nombre_recovered    16367\n",
    "Name: 495, dtype: int64"
   ]
  },
  {
   "cell_type": "markdown",
   "id": "d028268a",
   "metadata": {},
   "source": [
    "nombre_infected       854\n",
    "nombre_sain          2212\n",
    "nombre_exposed        561\n",
    "nombre_recovered    16373\n",
    "Name: 496, dtype: int64"
   ]
  },
  {
   "cell_type": "markdown",
   "id": "47d5386e",
   "metadata": {},
   "source": [
    "nombre_infected       832\n",
    "nombre_sain          2204\n",
    "nombre_exposed        564\n",
    "nombre_recovered    16400\n",
    "Name: 497, dtype: int64"
   ]
  },
  {
   "cell_type": "markdown",
   "id": "069491f8",
   "metadata": {},
   "source": [
    "nombre_infected       815\n",
    "nombre_sain          2198\n",
    "nombre_exposed        572\n",
    "nombre_recovered    16415\n",
    "Name: 498, dtype: int64"
   ]
  },
  {
   "cell_type": "markdown",
   "id": "7ed347e0",
   "metadata": {},
   "source": [
    "nombre_infected       815\n",
    "nombre_sain          2197\n",
    "nombre_exposed        568\n",
    "nombre_recovered    16420\n",
    "Name: 499, dtype: int64"
   ]
  },
  {
   "cell_type": "markdown",
   "id": "2695da8a",
   "metadata": {},
   "source": [
    "nombre_infected       804\n",
    "nombre_sain          2196\n",
    "nombre_exposed        579\n",
    "nombre_recovered    16421\n",
    "Name: 500, dtype: int64"
   ]
  },
  {
   "cell_type": "markdown",
   "id": "d3d8a720",
   "metadata": {},
   "source": [
    "nombre_infected       819\n",
    "nombre_sain          2208\n",
    "nombre_exposed        564\n",
    "nombre_recovered    16409\n",
    "Name: 501, dtype: int64"
   ]
  },
  {
   "cell_type": "markdown",
   "id": "b8f7959a",
   "metadata": {},
   "source": [
    "nombre_infected       827\n",
    "nombre_sain          2214\n",
    "nombre_exposed        532\n",
    "nombre_recovered    16427\n",
    "Name: 502, dtype: int64"
   ]
  },
  {
   "cell_type": "markdown",
   "id": "e97f0592",
   "metadata": {},
   "source": [
    "nombre_infected       829\n",
    "nombre_sain          2232\n",
    "nombre_exposed        548\n",
    "nombre_recovered    16391\n",
    "Name: 503, dtype: int64"
   ]
  },
  {
   "cell_type": "markdown",
   "id": "67fd2420",
   "metadata": {},
   "source": [
    "nombre_infected       844\n",
    "nombre_sain          2207\n",
    "nombre_exposed        563\n",
    "nombre_recovered    16386\n",
    "Name: 504, dtype: int64"
   ]
  },
  {
   "cell_type": "markdown",
   "id": "5b44d183",
   "metadata": {},
   "source": [
    "nombre_infected       823\n",
    "nombre_sain          2216\n",
    "nombre_exposed        582\n",
    "nombre_recovered    16379\n",
    "Name: 505, dtype: int64"
   ]
  },
  {
   "cell_type": "markdown",
   "id": "c75e2560",
   "metadata": {},
   "source": [
    "nombre_infected       836\n",
    "nombre_sain          2257\n",
    "nombre_exposed        575\n",
    "nombre_recovered    16332\n",
    "Name: 506, dtype: int64"
   ]
  },
  {
   "cell_type": "markdown",
   "id": "db46cae7",
   "metadata": {},
   "source": [
    "nombre_infected       837\n",
    "nombre_sain          2259\n",
    "nombre_exposed        572\n",
    "nombre_recovered    16332\n",
    "Name: 507, dtype: int64"
   ]
  },
  {
   "cell_type": "markdown",
   "id": "d839eaae",
   "metadata": {},
   "source": [
    "nombre_infected       822\n",
    "nombre_sain          2247\n",
    "nombre_exposed        585\n",
    "nombre_recovered    16346\n",
    "Name: 508, dtype: int64"
   ]
  },
  {
   "cell_type": "markdown",
   "id": "9ccb3991",
   "metadata": {},
   "source": [
    "nombre_infected       801\n",
    "nombre_sain          2239\n",
    "nombre_exposed        584\n",
    "nombre_recovered    16376\n",
    "Name: 509, dtype: int64"
   ]
  },
  {
   "cell_type": "markdown",
   "id": "58581a36",
   "metadata": {},
   "source": [
    "nombre_infected       849\n",
    "nombre_sain          2227\n",
    "nombre_exposed        551\n",
    "nombre_recovered    16373\n",
    "Name: 510, dtype: int64"
   ]
  },
  {
   "cell_type": "markdown",
   "id": "30cc271b",
   "metadata": {},
   "source": [
    "nombre_infected       849\n",
    "nombre_sain          2239\n",
    "nombre_exposed        550\n",
    "nombre_recovered    16362\n",
    "Name: 511, dtype: int64"
   ]
  },
  {
   "cell_type": "markdown",
   "id": "6f466cd0",
   "metadata": {},
   "source": [
    "nombre_infected       844\n",
    "nombre_sain          2230\n",
    "nombre_exposed        549\n",
    "nombre_recovered    16377\n",
    "Name: 512, dtype: int64"
   ]
  },
  {
   "cell_type": "markdown",
   "id": "eabc32a6",
   "metadata": {},
   "source": [
    "nombre_infected       830\n",
    "nombre_sain          2227\n",
    "nombre_exposed        556\n",
    "nombre_recovered    16387\n",
    "Name: 513, dtype: int64"
   ]
  },
  {
   "cell_type": "markdown",
   "id": "1b7d8419",
   "metadata": {},
   "source": [
    "nombre_infected       846\n",
    "nombre_sain          2207\n",
    "nombre_exposed        560\n",
    "nombre_recovered    16387\n",
    "Name: 514, dtype: int64"
   ]
  },
  {
   "cell_type": "markdown",
   "id": "a95bf35b",
   "metadata": {},
   "source": [
    "nombre_infected       846\n",
    "nombre_sain          2218\n",
    "nombre_exposed        564\n",
    "nombre_recovered    16372\n",
    "Name: 515, dtype: int64"
   ]
  },
  {
   "cell_type": "markdown",
   "id": "c085a9d3",
   "metadata": {},
   "source": [
    "nombre_infected       854\n",
    "nombre_sain          2237\n",
    "nombre_exposed        530\n",
    "nombre_recovered    16379\n",
    "Name: 516, dtype: int64"
   ]
  },
  {
   "cell_type": "markdown",
   "id": "4f23d09d",
   "metadata": {},
   "source": [
    "nombre_infected       858\n",
    "nombre_sain          2245\n",
    "nombre_exposed        519\n",
    "nombre_recovered    16378\n",
    "Name: 517, dtype: int64"
   ]
  },
  {
   "cell_type": "markdown",
   "id": "51a9f59f",
   "metadata": {},
   "source": [
    "nombre_infected       861\n",
    "nombre_sain          2245\n",
    "nombre_exposed        520\n",
    "nombre_recovered    16374\n",
    "Name: 518, dtype: int64"
   ]
  },
  {
   "cell_type": "markdown",
   "id": "74fe27d4",
   "metadata": {},
   "source": [
    "nombre_infected       869\n",
    "nombre_sain          2255\n",
    "nombre_exposed        512\n",
    "nombre_recovered    16364\n",
    "Name: 519, dtype: int64"
   ]
  },
  {
   "cell_type": "markdown",
   "id": "45a0bf53",
   "metadata": {},
   "source": [
    "nombre_infected       855\n",
    "nombre_sain          2247\n",
    "nombre_exposed        512\n",
    "nombre_recovered    16386\n",
    "Name: 520, dtype: int64"
   ]
  },
  {
   "cell_type": "markdown",
   "id": "a6e7ddfd",
   "metadata": {},
   "source": [
    "nombre_infected       876\n",
    "nombre_sain          2246\n",
    "nombre_exposed        513\n",
    "nombre_recovered    16365\n",
    "Name: 521, dtype: int64"
   ]
  },
  {
   "cell_type": "markdown",
   "id": "12ba4697",
   "metadata": {},
   "source": [
    "nombre_infected       871\n",
    "nombre_sain          2249\n",
    "nombre_exposed        537\n",
    "nombre_recovered    16343\n",
    "Name: 522, dtype: int64"
   ]
  },
  {
   "cell_type": "markdown",
   "id": "93e426e0",
   "metadata": {},
   "source": [
    "nombre_infected       871\n",
    "nombre_sain          2245\n",
    "nombre_exposed        544\n",
    "nombre_recovered    16340\n",
    "Name: 523, dtype: int64"
   ]
  },
  {
   "cell_type": "markdown",
   "id": "47b10b83",
   "metadata": {},
   "source": [
    "nombre_infected       875\n",
    "nombre_sain          2246\n",
    "nombre_exposed        557\n",
    "nombre_recovered    16322\n",
    "Name: 524, dtype: int64"
   ]
  },
  {
   "cell_type": "markdown",
   "id": "efa1724b",
   "metadata": {},
   "source": [
    "nombre_infected       892\n",
    "nombre_sain          2252\n",
    "nombre_exposed        556\n",
    "nombre_recovered    16300\n",
    "Name: 525, dtype: int64"
   ]
  },
  {
   "cell_type": "markdown",
   "id": "7799ea3d",
   "metadata": {},
   "source": [
    "nombre_infected       897\n",
    "nombre_sain          2267\n",
    "nombre_exposed        564\n",
    "nombre_recovered    16272\n",
    "Name: 526, dtype: int64"
   ]
  },
  {
   "cell_type": "markdown",
   "id": "b075d65d",
   "metadata": {},
   "source": [
    "nombre_infected       910\n",
    "nombre_sain          2284\n",
    "nombre_exposed        541\n",
    "nombre_recovered    16265\n",
    "Name: 527, dtype: int64"
   ]
  },
  {
   "cell_type": "markdown",
   "id": "dbe4a092",
   "metadata": {},
   "source": [
    "nombre_infected       937\n",
    "nombre_sain          2274\n",
    "nombre_exposed        521\n",
    "nombre_recovered    16268\n",
    "Name: 528, dtype: int64"
   ]
  },
  {
   "cell_type": "markdown",
   "id": "3718f4d2",
   "metadata": {},
   "source": [
    "nombre_infected       936\n",
    "nombre_sain          2272\n",
    "nombre_exposed        560\n",
    "nombre_recovered    16232\n",
    "Name: 529, dtype: int64"
   ]
  },
  {
   "cell_type": "markdown",
   "id": "659be512",
   "metadata": {},
   "source": [
    "nombre_infected       945\n",
    "nombre_sain          2274\n",
    "nombre_exposed        578\n",
    "nombre_recovered    16203\n",
    "Name: 530, dtype: int64"
   ]
  },
  {
   "cell_type": "markdown",
   "id": "867d3b9c",
   "metadata": {},
   "source": [
    "nombre_infected       940\n",
    "nombre_sain          2268\n",
    "nombre_exposed        615\n",
    "nombre_recovered    16177\n",
    "Name: 531, dtype: int64"
   ]
  },
  {
   "cell_type": "markdown",
   "id": "35c6db77",
   "metadata": {},
   "source": [
    "nombre_infected       942\n",
    "nombre_sain          2269\n",
    "nombre_exposed        623\n",
    "nombre_recovered    16166\n",
    "Name: 532, dtype: int64"
   ]
  },
  {
   "cell_type": "markdown",
   "id": "c3606a67",
   "metadata": {},
   "source": [
    "nombre_infected       966\n",
    "nombre_sain          2297\n",
    "nombre_exposed        632\n",
    "nombre_recovered    16105\n",
    "Name: 533, dtype: int64"
   ]
  },
  {
   "cell_type": "markdown",
   "id": "96b2bce7",
   "metadata": {},
   "source": [
    "nombre_infected       991\n",
    "nombre_sain          2310\n",
    "nombre_exposed        636\n",
    "nombre_recovered    16063\n",
    "Name: 534, dtype: int64"
   ]
  },
  {
   "cell_type": "markdown",
   "id": "c2493ca6",
   "metadata": {},
   "source": [
    "nombre_infected      1021\n",
    "nombre_sain          2333\n",
    "nombre_exposed        618\n",
    "nombre_recovered    16028\n",
    "Name: 535, dtype: int64"
   ]
  },
  {
   "cell_type": "markdown",
   "id": "91424402",
   "metadata": {},
   "source": [
    "nombre_infected      1052\n",
    "nombre_sain          2316\n",
    "nombre_exposed        626\n",
    "nombre_recovered    16006\n",
    "Name: 536, dtype: int64"
   ]
  },
  {
   "cell_type": "markdown",
   "id": "a848c726",
   "metadata": {},
   "source": [
    "nombre_infected      1045\n",
    "nombre_sain          2299\n",
    "nombre_exposed        626\n",
    "nombre_recovered    16030\n",
    "Name: 537, dtype: int64"
   ]
  },
  {
   "cell_type": "markdown",
   "id": "6fcc4284",
   "metadata": {},
   "source": [
    "nombre_infected      1071\n",
    "nombre_sain          2266\n",
    "nombre_exposed        631\n",
    "nombre_recovered    16032\n",
    "Name: 538, dtype: int64"
   ]
  },
  {
   "cell_type": "markdown",
   "id": "856ec6b2",
   "metadata": {},
   "source": [
    "nombre_infected      1064\n",
    "nombre_sain          2263\n",
    "nombre_exposed        661\n",
    "nombre_recovered    16012\n",
    "Name: 539, dtype: int64"
   ]
  },
  {
   "cell_type": "markdown",
   "id": "95cf8e46",
   "metadata": {},
   "source": [
    "nombre_infected      1095\n",
    "nombre_sain          2226\n",
    "nombre_exposed        659\n",
    "nombre_recovered    16020\n",
    "Name: 540, dtype: int64"
   ]
  },
  {
   "cell_type": "markdown",
   "id": "d2fce3b7",
   "metadata": {},
   "source": [
    "nombre_infected      1101\n",
    "nombre_sain          2210\n",
    "nombre_exposed        673\n",
    "nombre_recovered    16016\n",
    "Name: 541, dtype: int64"
   ]
  },
  {
   "cell_type": "markdown",
   "id": "9a290871",
   "metadata": {},
   "source": [
    "nombre_infected      1095\n",
    "nombre_sain          2186\n",
    "nombre_exposed        684\n",
    "nombre_recovered    16035\n",
    "Name: 542, dtype: int64"
   ]
  },
  {
   "cell_type": "markdown",
   "id": "958b1c19",
   "metadata": {},
   "source": [
    "nombre_infected      1126\n",
    "nombre_sain          2152\n",
    "nombre_exposed        680\n",
    "nombre_recovered    16042\n",
    "Name: 543, dtype: int64"
   ]
  },
  {
   "cell_type": "markdown",
   "id": "b32d2773",
   "metadata": {},
   "source": [
    "nombre_infected      1151\n",
    "nombre_sain          2099\n",
    "nombre_exposed        693\n",
    "nombre_recovered    16057\n",
    "Name: 544, dtype: int64"
   ]
  },
  {
   "cell_type": "markdown",
   "id": "5bf2b89d",
   "metadata": {},
   "source": [
    "nombre_infected      1161\n",
    "nombre_sain          2056\n",
    "nombre_exposed        714\n",
    "nombre_recovered    16069\n",
    "Name: 545, dtype: int64"
   ]
  },
  {
   "cell_type": "markdown",
   "id": "2c819457",
   "metadata": {},
   "source": [
    "nombre_infected      1178\n",
    "nombre_sain          2045\n",
    "nombre_exposed        699\n",
    "nombre_recovered    16078\n",
    "Name: 546, dtype: int64"
   ]
  },
  {
   "cell_type": "markdown",
   "id": "598c1b72",
   "metadata": {},
   "source": [
    "nombre_infected      1146\n",
    "nombre_sain          2007\n",
    "nombre_exposed        712\n",
    "nombre_recovered    16135\n",
    "Name: 547, dtype: int64"
   ]
  },
  {
   "cell_type": "markdown",
   "id": "48f9d80f",
   "metadata": {},
   "source": [
    "nombre_infected      1151\n",
    "nombre_sain          1975\n",
    "nombre_exposed        704\n",
    "nombre_recovered    16170\n",
    "Name: 548, dtype: int64"
   ]
  },
  {
   "cell_type": "markdown",
   "id": "27b4ad79",
   "metadata": {},
   "source": [
    "nombre_infected      1153\n",
    "nombre_sain          1959\n",
    "nombre_exposed        665\n",
    "nombre_recovered    16223\n",
    "Name: 549, dtype: int64"
   ]
  },
  {
   "cell_type": "markdown",
   "id": "683a9f77",
   "metadata": {},
   "source": [
    "nombre_infected      1149\n",
    "nombre_sain          1954\n",
    "nombre_exposed        662\n",
    "nombre_recovered    16235\n",
    "Name: 550, dtype: int64"
   ]
  },
  {
   "cell_type": "markdown",
   "id": "db2b58e3",
   "metadata": {},
   "source": [
    "nombre_infected      1135\n",
    "nombre_sain          1965\n",
    "nombre_exposed        639\n",
    "nombre_recovered    16261\n",
    "Name: 551, dtype: int64"
   ]
  },
  {
   "cell_type": "markdown",
   "id": "ea3c5c00",
   "metadata": {},
   "source": [
    "nombre_infected      1130\n",
    "nombre_sain          1950\n",
    "nombre_exposed        640\n",
    "nombre_recovered    16280\n",
    "Name: 552, dtype: int64"
   ]
  },
  {
   "cell_type": "markdown",
   "id": "0f4387f6",
   "metadata": {},
   "source": [
    "nombre_infected      1110\n",
    "nombre_sain          1928\n",
    "nombre_exposed        657\n",
    "nombre_recovered    16305\n",
    "Name: 553, dtype: int64"
   ]
  },
  {
   "cell_type": "markdown",
   "id": "db33a5c8",
   "metadata": {},
   "source": [
    "nombre_infected      1113\n",
    "nombre_sain          1943\n",
    "nombre_exposed        624\n",
    "nombre_recovered    16320\n",
    "Name: 554, dtype: int64"
   ]
  },
  {
   "cell_type": "markdown",
   "id": "246c001a",
   "metadata": {},
   "source": [
    "nombre_infected      1132\n",
    "nombre_sain          1912\n",
    "nombre_exposed        625\n",
    "nombre_recovered    16331\n",
    "Name: 555, dtype: int64"
   ]
  },
  {
   "cell_type": "markdown",
   "id": "e9d2df03",
   "metadata": {},
   "source": [
    "nombre_infected      1122\n",
    "nombre_sain          1899\n",
    "nombre_exposed        636\n",
    "nombre_recovered    16343\n",
    "Name: 556, dtype: int64"
   ]
  },
  {
   "cell_type": "markdown",
   "id": "bebb9f35",
   "metadata": {},
   "source": [
    "nombre_infected      1089\n",
    "nombre_sain          1906\n",
    "nombre_exposed        629\n",
    "nombre_recovered    16376\n",
    "Name: 557, dtype: int64"
   ]
  },
  {
   "cell_type": "markdown",
   "id": "91652539",
   "metadata": {},
   "source": [
    "nombre_infected      1069\n",
    "nombre_sain          1902\n",
    "nombre_exposed        603\n",
    "nombre_recovered    16426\n",
    "Name: 558, dtype: int64"
   ]
  },
  {
   "cell_type": "markdown",
   "id": "3d5944f8",
   "metadata": {},
   "source": [
    "nombre_infected      1046\n",
    "nombre_sain          1904\n",
    "nombre_exposed        597\n",
    "nombre_recovered    16453\n",
    "Name: 559, dtype: int64"
   ]
  },
  {
   "cell_type": "markdown",
   "id": "ae36e2db",
   "metadata": {},
   "source": [
    "nombre_infected      1043\n",
    "nombre_sain          1909\n",
    "nombre_exposed        577\n",
    "nombre_recovered    16471\n",
    "Name: 560, dtype: int64"
   ]
  },
  {
   "cell_type": "markdown",
   "id": "7217341e",
   "metadata": {},
   "source": [
    "nombre_infected      1026\n",
    "nombre_sain          1912\n",
    "nombre_exposed        584\n",
    "nombre_recovered    16478\n",
    "Name: 561, dtype: int64"
   ]
  },
  {
   "cell_type": "markdown",
   "id": "9ee08bc9",
   "metadata": {},
   "source": [
    "nombre_infected      1026\n",
    "nombre_sain          1911\n",
    "nombre_exposed        575\n",
    "nombre_recovered    16488\n",
    "Name: 562, dtype: int64"
   ]
  },
  {
   "cell_type": "markdown",
   "id": "c0375712",
   "metadata": {},
   "source": [
    "nombre_infected       993\n",
    "nombre_sain          1901\n",
    "nombre_exposed        567\n",
    "nombre_recovered    16539\n",
    "Name: 563, dtype: int64"
   ]
  },
  {
   "cell_type": "markdown",
   "id": "17633164",
   "metadata": {},
   "source": [
    "nombre_infected       969\n",
    "nombre_sain          1872\n",
    "nombre_exposed        563\n",
    "nombre_recovered    16596\n",
    "Name: 564, dtype: int64"
   ]
  },
  {
   "cell_type": "markdown",
   "id": "65c1996e",
   "metadata": {},
   "source": [
    "nombre_infected       928\n",
    "nombre_sain          1880\n",
    "nombre_exposed        557\n",
    "nombre_recovered    16635\n",
    "Name: 565, dtype: int64"
   ]
  },
  {
   "cell_type": "markdown",
   "id": "41376a80",
   "metadata": {},
   "source": [
    "nombre_infected       938\n",
    "nombre_sain          1874\n",
    "nombre_exposed        523\n",
    "nombre_recovered    16665\n",
    "Name: 566, dtype: int64"
   ]
  },
  {
   "cell_type": "markdown",
   "id": "cf214d1e",
   "metadata": {},
   "source": [
    "nombre_infected       932\n",
    "nombre_sain          1879\n",
    "nombre_exposed        511\n",
    "nombre_recovered    16678\n",
    "Name: 567, dtype: int64"
   ]
  },
  {
   "cell_type": "markdown",
   "id": "f2bd8df8",
   "metadata": {},
   "source": [
    "nombre_infected       920\n",
    "nombre_sain          1847\n",
    "nombre_exposed        528\n",
    "nombre_recovered    16705\n",
    "Name: 568, dtype: int64"
   ]
  },
  {
   "cell_type": "markdown",
   "id": "1a3168c9",
   "metadata": {},
   "source": [
    "nombre_infected       878\n",
    "nombre_sain          1845\n",
    "nombre_exposed        523\n",
    "nombre_recovered    16754\n",
    "Name: 569, dtype: int64"
   ]
  },
  {
   "cell_type": "markdown",
   "id": "9c623289",
   "metadata": {},
   "source": [
    "nombre_infected       897\n",
    "nombre_sain          1825\n",
    "nombre_exposed        498\n",
    "nombre_recovered    16780\n",
    "Name: 570, dtype: int64"
   ]
  },
  {
   "cell_type": "markdown",
   "id": "5f3731d6",
   "metadata": {},
   "source": [
    "nombre_infected       899\n",
    "nombre_sain          1823\n",
    "nombre_exposed        487\n",
    "nombre_recovered    16791\n",
    "Name: 571, dtype: int64"
   ]
  },
  {
   "cell_type": "markdown",
   "id": "4e70cf75",
   "metadata": {},
   "source": [
    "nombre_infected       878\n",
    "nombre_sain          1799\n",
    "nombre_exposed        492\n",
    "nombre_recovered    16831\n",
    "Name: 572, dtype: int64"
   ]
  },
  {
   "cell_type": "markdown",
   "id": "b3b1e3a3",
   "metadata": {},
   "source": [
    "nombre_infected       836\n",
    "nombre_sain          1817\n",
    "nombre_exposed        461\n",
    "nombre_recovered    16886\n",
    "Name: 573, dtype: int64"
   ]
  },
  {
   "cell_type": "markdown",
   "id": "aad4211a",
   "metadata": {},
   "source": [
    "nombre_infected       812\n",
    "nombre_sain          1832\n",
    "nombre_exposed        451\n",
    "nombre_recovered    16905\n",
    "Name: 574, dtype: int64"
   ]
  },
  {
   "cell_type": "markdown",
   "id": "13728839",
   "metadata": {},
   "source": [
    "nombre_infected       795\n",
    "nombre_sain          1832\n",
    "nombre_exposed        450\n",
    "nombre_recovered    16923\n",
    "Name: 575, dtype: int64"
   ]
  },
  {
   "cell_type": "markdown",
   "id": "0057a1b6",
   "metadata": {},
   "source": [
    "nombre_infected       787\n",
    "nombre_sain          1848\n",
    "nombre_exposed        440\n",
    "nombre_recovered    16925\n",
    "Name: 576, dtype: int64"
   ]
  },
  {
   "cell_type": "markdown",
   "id": "9554ff3b",
   "metadata": {},
   "source": [
    "nombre_infected       763\n",
    "nombre_sain          1850\n",
    "nombre_exposed        442\n",
    "nombre_recovered    16945\n",
    "Name: 577, dtype: int64"
   ]
  },
  {
   "cell_type": "markdown",
   "id": "b3160ded",
   "metadata": {},
   "source": [
    "nombre_infected       752\n",
    "nombre_sain          1868\n",
    "nombre_exposed        439\n",
    "nombre_recovered    16941\n",
    "Name: 578, dtype: int64"
   ]
  },
  {
   "cell_type": "markdown",
   "id": "b275858d",
   "metadata": {},
   "source": [
    "nombre_infected       754\n",
    "nombre_sain          1884\n",
    "nombre_exposed        407\n",
    "nombre_recovered    16955\n",
    "Name: 579, dtype: int64"
   ]
  },
  {
   "cell_type": "markdown",
   "id": "37af6f28",
   "metadata": {},
   "source": [
    "nombre_infected       729\n",
    "nombre_sain          1878\n",
    "nombre_exposed        412\n",
    "nombre_recovered    16981\n",
    "Name: 580, dtype: int64"
   ]
  },
  {
   "cell_type": "markdown",
   "id": "66e25892",
   "metadata": {},
   "source": [
    "nombre_infected       735\n",
    "nombre_sain          1897\n",
    "nombre_exposed        412\n",
    "nombre_recovered    16956\n",
    "Name: 581, dtype: int64"
   ]
  },
  {
   "cell_type": "markdown",
   "id": "34341bac",
   "metadata": {},
   "source": [
    "nombre_infected       735\n",
    "nombre_sain          1921\n",
    "nombre_exposed        417\n",
    "nombre_recovered    16927\n",
    "Name: 582, dtype: int64"
   ]
  },
  {
   "cell_type": "markdown",
   "id": "4a888bc1",
   "metadata": {},
   "source": [
    "nombre_infected       718\n",
    "nombre_sain          1933\n",
    "nombre_exposed        423\n",
    "nombre_recovered    16926\n",
    "Name: 583, dtype: int64"
   ]
  },
  {
   "cell_type": "markdown",
   "id": "c7263440",
   "metadata": {},
   "source": [
    "nombre_infected       688\n",
    "nombre_sain          1959\n",
    "nombre_exposed        428\n",
    "nombre_recovered    16925\n",
    "Name: 584, dtype: int64"
   ]
  },
  {
   "cell_type": "markdown",
   "id": "745284c9",
   "metadata": {},
   "source": [
    "nombre_infected       683\n",
    "nombre_sain          1990\n",
    "nombre_exposed        387\n",
    "nombre_recovered    16940\n",
    "Name: 585, dtype: int64"
   ]
  },
  {
   "cell_type": "markdown",
   "id": "0a5b3604",
   "metadata": {},
   "source": [
    "nombre_infected       683\n",
    "nombre_sain          2036\n",
    "nombre_exposed        385\n",
    "nombre_recovered    16896\n",
    "Name: 586, dtype: int64"
   ]
  },
  {
   "cell_type": "markdown",
   "id": "e5e475f2",
   "metadata": {},
   "source": [
    "nombre_infected       664\n",
    "nombre_sain          2079\n",
    "nombre_exposed        375\n",
    "nombre_recovered    16882\n",
    "Name: 587, dtype: int64"
   ]
  },
  {
   "cell_type": "markdown",
   "id": "dddeefd4",
   "metadata": {},
   "source": [
    "nombre_infected       652\n",
    "nombre_sain          2078\n",
    "nombre_exposed        374\n",
    "nombre_recovered    16896\n",
    "Name: 588, dtype: int64"
   ]
  },
  {
   "cell_type": "markdown",
   "id": "d127f58c",
   "metadata": {},
   "source": [
    "nombre_infected       649\n",
    "nombre_sain          2113\n",
    "nombre_exposed        360\n",
    "nombre_recovered    16878\n",
    "Name: 589, dtype: int64"
   ]
  },
  {
   "cell_type": "markdown",
   "id": "cfae533c",
   "metadata": {},
   "source": [
    "nombre_infected       665\n",
    "nombre_sain          2176\n",
    "nombre_exposed        330\n",
    "nombre_recovered    16829\n",
    "Name: 590, dtype: int64"
   ]
  },
  {
   "cell_type": "markdown",
   "id": "1d48764e",
   "metadata": {},
   "source": [
    "nombre_infected       637\n",
    "nombre_sain          2213\n",
    "nombre_exposed        347\n",
    "nombre_recovered    16803\n",
    "Name: 591, dtype: int64"
   ]
  },
  {
   "cell_type": "markdown",
   "id": "d87c329f",
   "metadata": {},
   "source": [
    "nombre_infected       608\n",
    "nombre_sain          2230\n",
    "nombre_exposed        367\n",
    "nombre_recovered    16795\n",
    "Name: 592, dtype: int64"
   ]
  },
  {
   "cell_type": "markdown",
   "id": "65c2943f",
   "metadata": {},
   "source": [
    "nombre_infected       598\n",
    "nombre_sain          2279\n",
    "nombre_exposed        357\n",
    "nombre_recovered    16766\n",
    "Name: 593, dtype: int64"
   ]
  },
  {
   "cell_type": "markdown",
   "id": "16de1371",
   "metadata": {},
   "source": [
    "nombre_infected       603\n",
    "nombre_sain          2308\n",
    "nombre_exposed        354\n",
    "nombre_recovered    16735\n",
    "Name: 594, dtype: int64"
   ]
  },
  {
   "cell_type": "markdown",
   "id": "eb7e8c9d",
   "metadata": {},
   "source": [
    "nombre_infected       590\n",
    "nombre_sain          2360\n",
    "nombre_exposed        353\n",
    "nombre_recovered    16697\n",
    "Name: 595, dtype: int64"
   ]
  },
  {
   "cell_type": "markdown",
   "id": "7736a852",
   "metadata": {},
   "source": [
    "nombre_infected       593\n",
    "nombre_sain          2394\n",
    "nombre_exposed        349\n",
    "nombre_recovered    16664\n",
    "Name: 596, dtype: int64"
   ]
  },
  {
   "cell_type": "markdown",
   "id": "1e799e0b",
   "metadata": {},
   "source": [
    "nombre_infected       586\n",
    "nombre_sain          2423\n",
    "nombre_exposed        372\n",
    "nombre_recovered    16619\n",
    "Name: 597, dtype: int64"
   ]
  },
  {
   "cell_type": "markdown",
   "id": "b5e42192",
   "metadata": {},
   "source": [
    "nombre_infected       567\n",
    "nombre_sain          2429\n",
    "nombre_exposed        405\n",
    "nombre_recovered    16599\n",
    "Name: 598, dtype: int64"
   ]
  },
  {
   "cell_type": "markdown",
   "id": "69c930c4",
   "metadata": {},
   "source": [
    "nombre_infected       579\n",
    "nombre_sain          2430\n",
    "nombre_exposed        408\n",
    "nombre_recovered    16583\n",
    "Name: 599, dtype: int64"
   ]
  },
  {
   "cell_type": "markdown",
   "id": "c6574c89",
   "metadata": {},
   "source": [
    "nombre_infected       576\n",
    "nombre_sain          2451\n",
    "nombre_exposed        411\n",
    "nombre_recovered    16562\n",
    "Name: 600, dtype: int64"
   ]
  },
  {
   "cell_type": "markdown",
   "id": "abc06fae",
   "metadata": {},
   "source": [
    "nombre_infected       603\n",
    "nombre_sain          2476\n",
    "nombre_exposed        389\n",
    "nombre_recovered    16532\n",
    "Name: 601, dtype: int64"
   ]
  },
  {
   "cell_type": "markdown",
   "id": "df5c1912",
   "metadata": {},
   "source": [
    "nombre_infected       622\n",
    "nombre_sain          2496\n",
    "nombre_exposed        379\n",
    "nombre_recovered    16503\n",
    "Name: 602, dtype: int64"
   ]
  },
  {
   "cell_type": "markdown",
   "id": "477ecf67",
   "metadata": {},
   "source": [
    "nombre_infected       613\n",
    "nombre_sain          2504\n",
    "nombre_exposed        389\n",
    "nombre_recovered    16494\n",
    "Name: 603, dtype: int64"
   ]
  },
  {
   "cell_type": "markdown",
   "id": "4d0775bd",
   "metadata": {},
   "source": [
    "nombre_infected       609\n",
    "nombre_sain          2501\n",
    "nombre_exposed        401\n",
    "nombre_recovered    16489\n",
    "Name: 604, dtype: int64"
   ]
  },
  {
   "cell_type": "markdown",
   "id": "552089e5",
   "metadata": {},
   "source": [
    "nombre_infected       612\n",
    "nombre_sain          2518\n",
    "nombre_exposed        391\n",
    "nombre_recovered    16479\n",
    "Name: 605, dtype: int64"
   ]
  },
  {
   "cell_type": "markdown",
   "id": "668958bc",
   "metadata": {},
   "source": [
    "nombre_infected       626\n",
    "nombre_sain          2538\n",
    "nombre_exposed        383\n",
    "nombre_recovered    16453\n",
    "Name: 606, dtype: int64"
   ]
  },
  {
   "cell_type": "markdown",
   "id": "1dec37f5",
   "metadata": {},
   "source": [
    "nombre_infected       616\n",
    "nombre_sain          2547\n",
    "nombre_exposed        406\n",
    "nombre_recovered    16431\n",
    "Name: 607, dtype: int64"
   ]
  },
  {
   "cell_type": "markdown",
   "id": "88b807d5",
   "metadata": {},
   "source": [
    "nombre_infected       619\n",
    "nombre_sain          2540\n",
    "nombre_exposed        422\n",
    "nombre_recovered    16419\n",
    "Name: 608, dtype: int64"
   ]
  },
  {
   "cell_type": "markdown",
   "id": "6c436622",
   "metadata": {},
   "source": [
    "nombre_infected       621\n",
    "nombre_sain          2562\n",
    "nombre_exposed        447\n",
    "nombre_recovered    16370\n",
    "Name: 609, dtype: int64"
   ]
  },
  {
   "cell_type": "markdown",
   "id": "eb24f163",
   "metadata": {},
   "source": [
    "nombre_infected       647\n",
    "nombre_sain          2558\n",
    "nombre_exposed        462\n",
    "nombre_recovered    16333\n",
    "Name: 610, dtype: int64"
   ]
  },
  {
   "cell_type": "markdown",
   "id": "d5a8ed0b",
   "metadata": {},
   "source": [
    "nombre_infected       659\n",
    "nombre_sain          2548\n",
    "nombre_exposed        492\n",
    "nombre_recovered    16301\n",
    "Name: 611, dtype: int64"
   ]
  },
  {
   "cell_type": "markdown",
   "id": "f71a0175",
   "metadata": {},
   "source": [
    "nombre_infected       663\n",
    "nombre_sain          2572\n",
    "nombre_exposed        481\n",
    "nombre_recovered    16284\n",
    "Name: 612, dtype: int64"
   ]
  },
  {
   "cell_type": "markdown",
   "id": "94c07e94",
   "metadata": {},
   "source": [
    "nombre_infected       698\n",
    "nombre_sain          2544\n",
    "nombre_exposed        472\n",
    "nombre_recovered    16286\n",
    "Name: 613, dtype: int64"
   ]
  },
  {
   "cell_type": "markdown",
   "id": "b7b91a81",
   "metadata": {},
   "source": [
    "nombre_infected       732\n",
    "nombre_sain          2547\n",
    "nombre_exposed        460\n",
    "nombre_recovered    16261\n",
    "Name: 614, dtype: int64"
   ]
  },
  {
   "cell_type": "markdown",
   "id": "c4927a5b",
   "metadata": {},
   "source": [
    "nombre_infected       734\n",
    "nombre_sain          2532\n",
    "nombre_exposed        476\n",
    "nombre_recovered    16258\n",
    "Name: 615, dtype: int64"
   ]
  },
  {
   "cell_type": "markdown",
   "id": "5ba5eb54",
   "metadata": {},
   "source": [
    "nombre_infected       733\n",
    "nombre_sain          2517\n",
    "nombre_exposed        506\n",
    "nombre_recovered    16244\n",
    "Name: 616, dtype: int64"
   ]
  },
  {
   "cell_type": "markdown",
   "id": "f10a402b",
   "metadata": {},
   "source": [
    "nombre_infected       752\n",
    "nombre_sain          2493\n",
    "nombre_exposed        525\n",
    "nombre_recovered    16230\n",
    "Name: 617, dtype: int64"
   ]
  },
  {
   "cell_type": "markdown",
   "id": "68b70097",
   "metadata": {},
   "source": [
    "nombre_infected       755\n",
    "nombre_sain          2488\n",
    "nombre_exposed        539\n",
    "nombre_recovered    16218\n",
    "Name: 618, dtype: int64"
   ]
  },
  {
   "cell_type": "markdown",
   "id": "e08b7f19",
   "metadata": {},
   "source": [
    "nombre_infected       775\n",
    "nombre_sain          2468\n",
    "nombre_exposed        537\n",
    "nombre_recovered    16220\n",
    "Name: 619, dtype: int64"
   ]
  },
  {
   "cell_type": "markdown",
   "id": "1c4f17c1",
   "metadata": {},
   "source": [
    "nombre_infected       800\n",
    "nombre_sain          2471\n",
    "nombre_exposed        515\n",
    "nombre_recovered    16214\n",
    "Name: 620, dtype: int64"
   ]
  },
  {
   "cell_type": "markdown",
   "id": "7603b7b9",
   "metadata": {},
   "source": [
    "nombre_infected       791\n",
    "nombre_sain          2463\n",
    "nombre_exposed        496\n",
    "nombre_recovered    16250\n",
    "Name: 621, dtype: int64"
   ]
  },
  {
   "cell_type": "markdown",
   "id": "512738d6",
   "metadata": {},
   "source": [
    "nombre_infected       831\n",
    "nombre_sain          2482\n",
    "nombre_exposed        476\n",
    "nombre_recovered    16211\n",
    "Name: 622, dtype: int64"
   ]
  },
  {
   "cell_type": "markdown",
   "id": "cf738057",
   "metadata": {},
   "source": [
    "nombre_infected       822\n",
    "nombre_sain          2455\n",
    "nombre_exposed        495\n",
    "nombre_recovered    16228\n",
    "Name: 623, dtype: int64"
   ]
  },
  {
   "cell_type": "markdown",
   "id": "cb4ee02e",
   "metadata": {},
   "source": [
    "nombre_infected       823\n",
    "nombre_sain          2446\n",
    "nombre_exposed        505\n",
    "nombre_recovered    16226\n",
    "Name: 624, dtype: int64"
   ]
  },
  {
   "cell_type": "markdown",
   "id": "bb6b897e",
   "metadata": {},
   "source": [
    "nombre_infected       830\n",
    "nombre_sain          2439\n",
    "nombre_exposed        503\n",
    "nombre_recovered    16228\n",
    "Name: 625, dtype: int64"
   ]
  },
  {
   "cell_type": "markdown",
   "id": "5e1ef17f",
   "metadata": {},
   "source": [
    "nombre_infected       833\n",
    "nombre_sain          2403\n",
    "nombre_exposed        514\n",
    "nombre_recovered    16250\n",
    "Name: 626, dtype: int64"
   ]
  },
  {
   "cell_type": "markdown",
   "id": "068b91a0",
   "metadata": {},
   "source": [
    "nombre_infected       835\n",
    "nombre_sain          2397\n",
    "nombre_exposed        517\n",
    "nombre_recovered    16251\n",
    "Name: 627, dtype: int64"
   ]
  },
  {
   "cell_type": "markdown",
   "id": "3a1c2bcd",
   "metadata": {},
   "source": [
    "nombre_infected       849\n",
    "nombre_sain          2409\n",
    "nombre_exposed        492\n",
    "nombre_recovered    16250\n",
    "Name: 628, dtype: int64"
   ]
  },
  {
   "cell_type": "markdown",
   "id": "84394d8d",
   "metadata": {},
   "source": [
    "nombre_infected       836\n",
    "nombre_sain          2419\n",
    "nombre_exposed        515\n",
    "nombre_recovered    16230\n",
    "Name: 629, dtype: int64"
   ]
  },
  {
   "cell_type": "markdown",
   "id": "99a1156f",
   "metadata": {},
   "source": [
    "nombre_infected       830\n",
    "nombre_sain          2396\n",
    "nombre_exposed        547\n",
    "nombre_recovered    16227\n",
    "Name: 630, dtype: int64"
   ]
  },
  {
   "cell_type": "markdown",
   "id": "6d34c23e",
   "metadata": {},
   "source": [
    "nombre_infected       833\n",
    "nombre_sain          2394\n",
    "nombre_exposed        558\n",
    "nombre_recovered    16215\n",
    "Name: 631, dtype: int64"
   ]
  },
  {
   "cell_type": "markdown",
   "id": "b4880ceb",
   "metadata": {},
   "source": [
    "nombre_infected       843\n",
    "nombre_sain          2403\n",
    "nombre_exposed        552\n",
    "nombre_recovered    16202\n",
    "Name: 632, dtype: int64"
   ]
  },
  {
   "cell_type": "markdown",
   "id": "a04f7b4c",
   "metadata": {},
   "source": [
    "nombre_infected       865\n",
    "nombre_sain          2406\n",
    "nombre_exposed        551\n",
    "nombre_recovered    16178\n",
    "Name: 633, dtype: int64"
   ]
  },
  {
   "cell_type": "markdown",
   "id": "36b15cbb",
   "metadata": {},
   "source": [
    "nombre_infected       862\n",
    "nombre_sain          2394\n",
    "nombre_exposed        571\n",
    "nombre_recovered    16173\n",
    "Name: 634, dtype: int64"
   ]
  },
  {
   "cell_type": "markdown",
   "id": "dd5266be",
   "metadata": {},
   "source": [
    "nombre_infected       863\n",
    "nombre_sain          2387\n",
    "nombre_exposed        588\n",
    "nombre_recovered    16162\n",
    "Name: 635, dtype: int64"
   ]
  },
  {
   "cell_type": "markdown",
   "id": "f577edb6",
   "metadata": {},
   "source": [
    "nombre_infected       915\n",
    "nombre_sain          2393\n",
    "nombre_exposed        553\n",
    "nombre_recovered    16139\n",
    "Name: 636, dtype: int64"
   ]
  },
  {
   "cell_type": "markdown",
   "id": "c3825d64",
   "metadata": {},
   "source": [
    "nombre_infected       926\n",
    "nombre_sain          2381\n",
    "nombre_exposed        554\n",
    "nombre_recovered    16139\n",
    "Name: 637, dtype: int64"
   ]
  },
  {
   "cell_type": "markdown",
   "id": "3bd2ef05",
   "metadata": {},
   "source": [
    "nombre_infected       913\n",
    "nombre_sain          2329\n",
    "nombre_exposed        582\n",
    "nombre_recovered    16176\n",
    "Name: 638, dtype: int64"
   ]
  },
  {
   "cell_type": "markdown",
   "id": "c8d14df5",
   "metadata": {},
   "source": [
    "nombre_infected       906\n",
    "nombre_sain          2289\n",
    "nombre_exposed        600\n",
    "nombre_recovered    16205\n",
    "Name: 639, dtype: int64"
   ]
  },
  {
   "cell_type": "markdown",
   "id": "5594234b",
   "metadata": {},
   "source": [
    "nombre_infected       942\n",
    "nombre_sain          2251\n",
    "nombre_exposed        593\n",
    "nombre_recovered    16214\n",
    "Name: 640, dtype: int64"
   ]
  },
  {
   "cell_type": "markdown",
   "id": "0f8c4752",
   "metadata": {},
   "source": [
    "nombre_infected       948\n",
    "nombre_sain          2240\n",
    "nombre_exposed        591\n",
    "nombre_recovered    16221\n",
    "Name: 641, dtype: int64"
   ]
  },
  {
   "cell_type": "markdown",
   "id": "678871aa",
   "metadata": {},
   "source": [
    "nombre_infected       958\n",
    "nombre_sain          2194\n",
    "nombre_exposed        614\n",
    "nombre_recovered    16234\n",
    "Name: 642, dtype: int64"
   ]
  },
  {
   "cell_type": "markdown",
   "id": "7e1c1ef0",
   "metadata": {},
   "source": [
    "nombre_infected       943\n",
    "nombre_sain          2167\n",
    "nombre_exposed        609\n",
    "nombre_recovered    16281\n",
    "Name: 643, dtype: int64"
   ]
  },
  {
   "cell_type": "markdown",
   "id": "93f91f12",
   "metadata": {},
   "source": [
    "nombre_infected       947\n",
    "nombre_sain          2162\n",
    "nombre_exposed        601\n",
    "nombre_recovered    16290\n",
    "Name: 644, dtype: int64"
   ]
  },
  {
   "cell_type": "markdown",
   "id": "3c941087",
   "metadata": {},
   "source": [
    "nombre_infected       942\n",
    "nombre_sain          2128\n",
    "nombre_exposed        603\n",
    "nombre_recovered    16327\n",
    "Name: 645, dtype: int64"
   ]
  },
  {
   "cell_type": "markdown",
   "id": "49b7ce93",
   "metadata": {},
   "source": [
    "nombre_infected       940\n",
    "nombre_sain          2100\n",
    "nombre_exposed        610\n",
    "nombre_recovered    16350\n",
    "Name: 646, dtype: int64"
   ]
  },
  {
   "cell_type": "markdown",
   "id": "0951eef7",
   "metadata": {},
   "source": [
    "nombre_infected       925\n",
    "nombre_sain          2077\n",
    "nombre_exposed        600\n",
    "nombre_recovered    16398\n",
    "Name: 647, dtype: int64"
   ]
  },
  {
   "cell_type": "markdown",
   "id": "434f731d",
   "metadata": {},
   "source": [
    "nombre_infected       936\n",
    "nombre_sain          2073\n",
    "nombre_exposed        567\n",
    "nombre_recovered    16424\n",
    "Name: 648, dtype: int64"
   ]
  },
  {
   "cell_type": "markdown",
   "id": "505f91d5",
   "metadata": {},
   "source": [
    "nombre_infected       939\n",
    "nombre_sain          2069\n",
    "nombre_exposed        544\n",
    "nombre_recovered    16448\n",
    "Name: 649, dtype: int64"
   ]
  },
  {
   "cell_type": "markdown",
   "id": "d9163449",
   "metadata": {},
   "source": [
    "nombre_infected       939\n",
    "nombre_sain          2062\n",
    "nombre_exposed        526\n",
    "nombre_recovered    16473\n",
    "Name: 650, dtype: int64"
   ]
  },
  {
   "cell_type": "markdown",
   "id": "352a1af2",
   "metadata": {},
   "source": [
    "nombre_infected       925\n",
    "nombre_sain          2075\n",
    "nombre_exposed        518\n",
    "nombre_recovered    16482\n",
    "Name: 651, dtype: int64"
   ]
  },
  {
   "cell_type": "markdown",
   "id": "9b937d59",
   "metadata": {},
   "source": [
    "nombre_infected       923\n",
    "nombre_sain          2058\n",
    "nombre_exposed        504\n",
    "nombre_recovered    16515\n",
    "Name: 652, dtype: int64"
   ]
  },
  {
   "cell_type": "markdown",
   "id": "270c6198",
   "metadata": {},
   "source": [
    "nombre_infected       914\n",
    "nombre_sain          2037\n",
    "nombre_exposed        507\n",
    "nombre_recovered    16542\n",
    "Name: 653, dtype: int64"
   ]
  },
  {
   "cell_type": "markdown",
   "id": "216b6c27",
   "metadata": {},
   "source": [
    "nombre_infected       888\n",
    "nombre_sain          2031\n",
    "nombre_exposed        518\n",
    "nombre_recovered    16563\n",
    "Name: 654, dtype: int64"
   ]
  },
  {
   "cell_type": "markdown",
   "id": "b0808cf6",
   "metadata": {},
   "source": [
    "nombre_infected       883\n",
    "nombre_sain          2049\n",
    "nombre_exposed        512\n",
    "nombre_recovered    16556\n",
    "Name: 655, dtype: int64"
   ]
  },
  {
   "cell_type": "markdown",
   "id": "8acf449c",
   "metadata": {},
   "source": [
    "nombre_infected       904\n",
    "nombre_sain          2051\n",
    "nombre_exposed        506\n",
    "nombre_recovered    16539\n",
    "Name: 656, dtype: int64"
   ]
  },
  {
   "cell_type": "markdown",
   "id": "f4d96290",
   "metadata": {},
   "source": [
    "nombre_infected       887\n",
    "nombre_sain          2042\n",
    "nombre_exposed        529\n",
    "nombre_recovered    16542\n",
    "Name: 657, dtype: int64"
   ]
  },
  {
   "cell_type": "markdown",
   "id": "9dd980cb",
   "metadata": {},
   "source": [
    "nombre_infected       861\n",
    "nombre_sain          2060\n",
    "nombre_exposed        526\n",
    "nombre_recovered    16553\n",
    "Name: 658, dtype: int64"
   ]
  },
  {
   "cell_type": "markdown",
   "id": "fac29d21",
   "metadata": {},
   "source": [
    "nombre_infected       883\n",
    "nombre_sain          2060\n",
    "nombre_exposed        494\n",
    "nombre_recovered    16563\n",
    "Name: 659, dtype: int64"
   ]
  },
  {
   "cell_type": "markdown",
   "id": "30d47314",
   "metadata": {},
   "source": [
    "nombre_infected       878\n",
    "nombre_sain          2055\n",
    "nombre_exposed        509\n",
    "nombre_recovered    16558\n",
    "Name: 660, dtype: int64"
   ]
  },
  {
   "cell_type": "markdown",
   "id": "85ab98c4",
   "metadata": {},
   "source": [
    "nombre_infected       870\n",
    "nombre_sain          2076\n",
    "nombre_exposed        492\n",
    "nombre_recovered    16562\n",
    "Name: 661, dtype: int64"
   ]
  },
  {
   "cell_type": "markdown",
   "id": "9cd93df0",
   "metadata": {},
   "source": [
    "nombre_infected       857\n",
    "nombre_sain          2084\n",
    "nombre_exposed        494\n",
    "nombre_recovered    16565\n",
    "Name: 662, dtype: int64"
   ]
  },
  {
   "cell_type": "markdown",
   "id": "d3d51181",
   "metadata": {},
   "source": [
    "nombre_infected       851\n",
    "nombre_sain          2114\n",
    "nombre_exposed        507\n",
    "nombre_recovered    16528\n",
    "Name: 663, dtype: int64"
   ]
  },
  {
   "cell_type": "markdown",
   "id": "7c7c9566",
   "metadata": {},
   "source": [
    "nombre_infected       826\n",
    "nombre_sain          2137\n",
    "nombre_exposed        524\n",
    "nombre_recovered    16513\n",
    "Name: 664, dtype: int64"
   ]
  },
  {
   "cell_type": "markdown",
   "id": "eeb5149f",
   "metadata": {},
   "source": [
    "nombre_infected       848\n",
    "nombre_sain          2142\n",
    "nombre_exposed        516\n",
    "nombre_recovered    16494\n",
    "Name: 665, dtype: int64"
   ]
  },
  {
   "cell_type": "markdown",
   "id": "341764e8",
   "metadata": {},
   "source": [
    "nombre_infected       832\n",
    "nombre_sain          2159\n",
    "nombre_exposed        520\n",
    "nombre_recovered    16489\n",
    "Name: 666, dtype: int64"
   ]
  },
  {
   "cell_type": "markdown",
   "id": "460108f0",
   "metadata": {},
   "source": [
    "nombre_infected       854\n",
    "nombre_sain          2170\n",
    "nombre_exposed        508\n",
    "nombre_recovered    16468\n",
    "Name: 667, dtype: int64"
   ]
  },
  {
   "cell_type": "markdown",
   "id": "20c5ca57",
   "metadata": {},
   "source": [
    "nombre_infected       866\n",
    "nombre_sain          2176\n",
    "nombre_exposed        496\n",
    "nombre_recovered    16462\n",
    "Name: 668, dtype: int64"
   ]
  },
  {
   "cell_type": "markdown",
   "id": "626c21d8",
   "metadata": {},
   "source": [
    "nombre_infected       881\n",
    "nombre_sain          2163\n",
    "nombre_exposed        497\n",
    "nombre_recovered    16459\n",
    "Name: 669, dtype: int64"
   ]
  },
  {
   "cell_type": "markdown",
   "id": "fa230e5f",
   "metadata": {},
   "source": [
    "nombre_infected       894\n",
    "nombre_sain          2149\n",
    "nombre_exposed        520\n",
    "nombre_recovered    16437\n",
    "Name: 670, dtype: int64"
   ]
  },
  {
   "cell_type": "markdown",
   "id": "4a2d8456",
   "metadata": {},
   "source": [
    "nombre_infected       874\n",
    "nombre_sain          2171\n",
    "nombre_exposed        529\n",
    "nombre_recovered    16426\n",
    "Name: 671, dtype: int64"
   ]
  },
  {
   "cell_type": "markdown",
   "id": "86a13ea9",
   "metadata": {},
   "source": [
    "nombre_infected       879\n",
    "nombre_sain          2147\n",
    "nombre_exposed        542\n",
    "nombre_recovered    16432\n",
    "Name: 672, dtype: int64"
   ]
  },
  {
   "cell_type": "markdown",
   "id": "62a6fc79",
   "metadata": {},
   "source": [
    "nombre_infected       884\n",
    "nombre_sain          2177\n",
    "nombre_exposed        522\n",
    "nombre_recovered    16417\n",
    "Name: 673, dtype: int64"
   ]
  },
  {
   "cell_type": "markdown",
   "id": "ec237def",
   "metadata": {},
   "source": [
    "nombre_infected       890\n",
    "nombre_sain          2191\n",
    "nombre_exposed        513\n",
    "nombre_recovered    16406\n",
    "Name: 674, dtype: int64"
   ]
  },
  {
   "cell_type": "markdown",
   "id": "56ced6b0",
   "metadata": {},
   "source": [
    "nombre_infected       893\n",
    "nombre_sain          2184\n",
    "nombre_exposed        501\n",
    "nombre_recovered    16422\n",
    "Name: 675, dtype: int64"
   ]
  },
  {
   "cell_type": "markdown",
   "id": "f1f81e2d",
   "metadata": {},
   "source": [
    "nombre_infected       884\n",
    "nombre_sain          2211\n",
    "nombre_exposed        508\n",
    "nombre_recovered    16397\n",
    "Name: 676, dtype: int64"
   ]
  },
  {
   "cell_type": "markdown",
   "id": "53350fc2",
   "metadata": {},
   "source": [
    "nombre_infected       910\n",
    "nombre_sain          2190\n",
    "nombre_exposed        527\n",
    "nombre_recovered    16373\n",
    "Name: 677, dtype: int64"
   ]
  },
  {
   "cell_type": "markdown",
   "id": "9d5f3e09",
   "metadata": {},
   "source": [
    "nombre_infected       898\n",
    "nombre_sain          2182\n",
    "nombre_exposed        538\n",
    "nombre_recovered    16382\n",
    "Name: 678, dtype: int64"
   ]
  },
  {
   "cell_type": "markdown",
   "id": "4122053f",
   "metadata": {},
   "source": [
    "nombre_infected       909\n",
    "nombre_sain          2149\n",
    "nombre_exposed        545\n",
    "nombre_recovered    16397\n",
    "Name: 679, dtype: int64"
   ]
  },
  {
   "cell_type": "markdown",
   "id": "b4bcd49f",
   "metadata": {},
   "source": [
    "nombre_infected       897\n",
    "nombre_sain          2132\n",
    "nombre_exposed        558\n",
    "nombre_recovered    16413\n",
    "Name: 680, dtype: int64"
   ]
  },
  {
   "cell_type": "markdown",
   "id": "c9117b4a",
   "metadata": {},
   "source": [
    "nombre_infected       907\n",
    "nombre_sain          2113\n",
    "nombre_exposed        558\n",
    "nombre_recovered    16422\n",
    "Name: 681, dtype: int64"
   ]
  },
  {
   "cell_type": "markdown",
   "id": "f2a27231",
   "metadata": {},
   "source": [
    "nombre_infected       917\n",
    "nombre_sain          2084\n",
    "nombre_exposed        556\n",
    "nombre_recovered    16443\n",
    "Name: 682, dtype: int64"
   ]
  },
  {
   "cell_type": "markdown",
   "id": "57e73f8e",
   "metadata": {},
   "source": [
    "nombre_infected       913\n",
    "nombre_sain          2074\n",
    "nombre_exposed        555\n",
    "nombre_recovered    16458\n",
    "Name: 683, dtype: int64"
   ]
  },
  {
   "cell_type": "markdown",
   "id": "6caf6190",
   "metadata": {},
   "source": [
    "nombre_infected       921\n",
    "nombre_sain          2069\n",
    "nombre_exposed        544\n",
    "nombre_recovered    16466\n",
    "Name: 684, dtype: int64"
   ]
  },
  {
   "cell_type": "markdown",
   "id": "2e27e27f",
   "metadata": {},
   "source": [
    "nombre_infected       931\n",
    "nombre_sain          2059\n",
    "nombre_exposed        524\n",
    "nombre_recovered    16486\n",
    "Name: 685, dtype: int64"
   ]
  },
  {
   "cell_type": "markdown",
   "id": "b855ee82",
   "metadata": {},
   "source": [
    "nombre_infected       919\n",
    "nombre_sain          2047\n",
    "nombre_exposed        544\n",
    "nombre_recovered    16490\n",
    "Name: 686, dtype: int64"
   ]
  },
  {
   "cell_type": "markdown",
   "id": "8b7ebd13",
   "metadata": {},
   "source": [
    "nombre_infected       888\n",
    "nombre_sain          2053\n",
    "nombre_exposed        560\n",
    "nombre_recovered    16499\n",
    "Name: 687, dtype: int64"
   ]
  },
  {
   "cell_type": "markdown",
   "id": "3efe7e93",
   "metadata": {},
   "source": [
    "nombre_infected       885\n",
    "nombre_sain          2054\n",
    "nombre_exposed        548\n",
    "nombre_recovered    16513\n",
    "Name: 688, dtype: int64"
   ]
  },
  {
   "cell_type": "markdown",
   "id": "57392771",
   "metadata": {},
   "source": [
    "nombre_infected       900\n",
    "nombre_sain          2050\n",
    "nombre_exposed        541\n",
    "nombre_recovered    16509\n",
    "Name: 689, dtype: int64"
   ]
  },
  {
   "cell_type": "markdown",
   "id": "297d285e",
   "metadata": {},
   "source": [
    "nombre_infected       915\n",
    "nombre_sain          2065\n",
    "nombre_exposed        517\n",
    "nombre_recovered    16503\n",
    "Name: 690, dtype: int64"
   ]
  },
  {
   "cell_type": "markdown",
   "id": "ad06c4a7",
   "metadata": {},
   "source": [
    "nombre_infected       907\n",
    "nombre_sain          2055\n",
    "nombre_exposed        529\n",
    "nombre_recovered    16509\n",
    "Name: 691, dtype: int64"
   ]
  },
  {
   "cell_type": "markdown",
   "id": "25b9336d",
   "metadata": {},
   "source": [
    "nombre_infected       924\n",
    "nombre_sain          2057\n",
    "nombre_exposed        517\n",
    "nombre_recovered    16502\n",
    "Name: 692, dtype: int64"
   ]
  },
  {
   "cell_type": "markdown",
   "id": "c50738b5",
   "metadata": {},
   "source": [
    "nombre_infected       922\n",
    "nombre_sain          2072\n",
    "nombre_exposed        514\n",
    "nombre_recovered    16492\n",
    "Name: 693, dtype: int64"
   ]
  },
  {
   "cell_type": "markdown",
   "id": "9388cdd0",
   "metadata": {},
   "source": [
    "nombre_infected       928\n",
    "nombre_sain          2060\n",
    "nombre_exposed        502\n",
    "nombre_recovered    16510\n",
    "Name: 694, dtype: int64"
   ]
  },
  {
   "cell_type": "markdown",
   "id": "c70489a0",
   "metadata": {},
   "source": [
    "nombre_infected       908\n",
    "nombre_sain          2066\n",
    "nombre_exposed        504\n",
    "nombre_recovered    16522\n",
    "Name: 695, dtype: int64"
   ]
  },
  {
   "cell_type": "markdown",
   "id": "e7b02be0",
   "metadata": {},
   "source": [
    "nombre_infected       891\n",
    "nombre_sain          2062\n",
    "nombre_exposed        500\n",
    "nombre_recovered    16547\n",
    "Name: 696, dtype: int64"
   ]
  },
  {
   "cell_type": "markdown",
   "id": "aee4ca0d",
   "metadata": {},
   "source": [
    "nombre_infected       875\n",
    "nombre_sain          2064\n",
    "nombre_exposed        514\n",
    "nombre_recovered    16547\n",
    "Name: 697, dtype: int64"
   ]
  },
  {
   "cell_type": "markdown",
   "id": "9fc6e3f1",
   "metadata": {},
   "source": [
    "nombre_infected       866\n",
    "nombre_sain          2046\n",
    "nombre_exposed        532\n",
    "nombre_recovered    16556\n",
    "Name: 698, dtype: int64"
   ]
  },
  {
   "cell_type": "markdown",
   "id": "66bc4fbe",
   "metadata": {},
   "source": [
    "nombre_infected       842\n",
    "nombre_sain          2052\n",
    "nombre_exposed        549\n",
    "nombre_recovered    16557\n",
    "Name: 699, dtype: int64"
   ]
  },
  {
   "cell_type": "markdown",
   "id": "19ce1dd2",
   "metadata": {},
   "source": [
    "nombre_infected       843\n",
    "nombre_sain          2044\n",
    "nombre_exposed        550\n",
    "nombre_recovered    16563\n",
    "Name: 700, dtype: int64"
   ]
  },
  {
   "cell_type": "markdown",
   "id": "3532793c",
   "metadata": {},
   "source": [
    "nombre_infected       829\n",
    "nombre_sain          2051\n",
    "nombre_exposed        541\n",
    "nombre_recovered    16579\n",
    "Name: 701, dtype: int64"
   ]
  },
  {
   "cell_type": "markdown",
   "id": "ee2c5be3",
   "metadata": {},
   "source": [
    "nombre_infected       822\n",
    "nombre_sain          2043\n",
    "nombre_exposed        544\n",
    "nombre_recovered    16591\n",
    "Name: 702, dtype: int64"
   ]
  },
  {
   "cell_type": "markdown",
   "id": "5a961637",
   "metadata": {},
   "source": [
    "nombre_infected       822\n",
    "nombre_sain          2048\n",
    "nombre_exposed        533\n",
    "nombre_recovered    16597\n",
    "Name: 703, dtype: int64"
   ]
  },
  {
   "cell_type": "markdown",
   "id": "60576029",
   "metadata": {},
   "source": [
    "nombre_infected       830\n",
    "nombre_sain          2059\n",
    "nombre_exposed        529\n",
    "nombre_recovered    16582\n",
    "Name: 704, dtype: int64"
   ]
  },
  {
   "cell_type": "markdown",
   "id": "4a2b0d2e",
   "metadata": {},
   "source": [
    "nombre_infected       808\n",
    "nombre_sain          2091\n",
    "nombre_exposed        524\n",
    "nombre_recovered    16577\n",
    "Name: 705, dtype: int64"
   ]
  },
  {
   "cell_type": "markdown",
   "id": "e33b422c",
   "metadata": {},
   "source": [
    "nombre_infected       806\n",
    "nombre_sain          2106\n",
    "nombre_exposed        505\n",
    "nombre_recovered    16583\n",
    "Name: 706, dtype: int64"
   ]
  },
  {
   "cell_type": "markdown",
   "id": "60b25149",
   "metadata": {},
   "source": [
    "nombre_infected       813\n",
    "nombre_sain          2131\n",
    "nombre_exposed        464\n",
    "nombre_recovered    16592\n",
    "Name: 707, dtype: int64"
   ]
  },
  {
   "cell_type": "markdown",
   "id": "8e372697",
   "metadata": {},
   "source": [
    "nombre_infected       804\n",
    "nombre_sain          2117\n",
    "nombre_exposed        474\n",
    "nombre_recovered    16605\n",
    "Name: 708, dtype: int64"
   ]
  },
  {
   "cell_type": "markdown",
   "id": "33809563",
   "metadata": {},
   "source": [
    "nombre_infected       788\n",
    "nombre_sain          2130\n",
    "nombre_exposed        489\n",
    "nombre_recovered    16593\n",
    "Name: 709, dtype: int64"
   ]
  },
  {
   "cell_type": "markdown",
   "id": "5db8cbc6",
   "metadata": {},
   "source": [
    "nombre_infected       799\n",
    "nombre_sain          2125\n",
    "nombre_exposed        495\n",
    "nombre_recovered    16581\n",
    "Name: 710, dtype: int64"
   ]
  },
  {
   "cell_type": "markdown",
   "id": "a81408dc",
   "metadata": {},
   "source": [
    "nombre_infected       808\n",
    "nombre_sain          2133\n",
    "nombre_exposed        490\n",
    "nombre_recovered    16569\n",
    "Name: 711, dtype: int64"
   ]
  },
  {
   "cell_type": "markdown",
   "id": "a8ad67b9",
   "metadata": {},
   "source": [
    "nombre_infected       793\n",
    "nombre_sain          2126\n",
    "nombre_exposed        503\n",
    "nombre_recovered    16578\n",
    "Name: 712, dtype: int64"
   ]
  },
  {
   "cell_type": "markdown",
   "id": "1a868251",
   "metadata": {},
   "source": [
    "nombre_infected       791\n",
    "nombre_sain          2126\n",
    "nombre_exposed        514\n",
    "nombre_recovered    16569\n",
    "Name: 713, dtype: int64"
   ]
  },
  {
   "cell_type": "markdown",
   "id": "867ba709",
   "metadata": {},
   "source": [
    "nombre_infected       768\n",
    "nombre_sain          2119\n",
    "nombre_exposed        535\n",
    "nombre_recovered    16578\n",
    "Name: 714, dtype: int64"
   ]
  },
  {
   "cell_type": "markdown",
   "id": "ec1711b2",
   "metadata": {},
   "source": [
    "nombre_infected       767\n",
    "nombre_sain          2154\n",
    "nombre_exposed        535\n",
    "nombre_recovered    16544\n",
    "Name: 715, dtype: int64"
   ]
  },
  {
   "cell_type": "markdown",
   "id": "ce8696f9",
   "metadata": {},
   "source": [
    "nombre_infected       781\n",
    "nombre_sain          2140\n",
    "nombre_exposed        535\n",
    "nombre_recovered    16544\n",
    "Name: 716, dtype: int64"
   ]
  },
  {
   "cell_type": "markdown",
   "id": "f4b6153e",
   "metadata": {},
   "source": [
    "nombre_infected       790\n",
    "nombre_sain          2146\n",
    "nombre_exposed        520\n",
    "nombre_recovered    16544\n",
    "Name: 717, dtype: int64"
   ]
  },
  {
   "cell_type": "markdown",
   "id": "f4fb5509",
   "metadata": {},
   "source": [
    "nombre_infected       800\n",
    "nombre_sain          2122\n",
    "nombre_exposed        528\n",
    "nombre_recovered    16550\n",
    "Name: 718, dtype: int64"
   ]
  },
  {
   "cell_type": "markdown",
   "id": "259eba44",
   "metadata": {},
   "source": [
    "nombre_infected       823\n",
    "nombre_sain          2142\n",
    "nombre_exposed        497\n",
    "nombre_recovered    16538\n",
    "Name: 719, dtype: int64"
   ]
  },
  {
   "cell_type": "markdown",
   "id": "6eaeb43a",
   "metadata": {},
   "source": [
    "nombre_infected       812\n",
    "nombre_sain          2145\n",
    "nombre_exposed        489\n",
    "nombre_recovered    16554\n",
    "Name: 720, dtype: int64"
   ]
  },
  {
   "cell_type": "markdown",
   "id": "3e4a8e64",
   "metadata": {},
   "source": [
    "nombre_infected       787\n",
    "nombre_sain          2172\n",
    "nombre_exposed        492\n",
    "nombre_recovered    16549\n",
    "Name: 721, dtype: int64"
   ]
  },
  {
   "cell_type": "markdown",
   "id": "0bb677c1",
   "metadata": {},
   "source": [
    "nombre_infected       782\n",
    "nombre_sain          2147\n",
    "nombre_exposed        498\n",
    "nombre_recovered    16573\n",
    "Name: 722, dtype: int64"
   ]
  },
  {
   "cell_type": "markdown",
   "id": "ea4b4926",
   "metadata": {},
   "source": [
    "nombre_infected       784\n",
    "nombre_sain          2174\n",
    "nombre_exposed        476\n",
    "nombre_recovered    16566\n",
    "Name: 723, dtype: int64"
   ]
  },
  {
   "cell_type": "markdown",
   "id": "077f6c17",
   "metadata": {},
   "source": [
    "nombre_infected       771\n",
    "nombre_sain          2164\n",
    "nombre_exposed        499\n",
    "nombre_recovered    16566\n",
    "Name: 724, dtype: int64"
   ]
  },
  {
   "cell_type": "markdown",
   "id": "890732bc",
   "metadata": {},
   "source": [
    "nombre_infected       755\n",
    "nombre_sain          2164\n",
    "nombre_exposed        503\n",
    "nombre_recovered    16578\n",
    "Name: 725, dtype: int64"
   ]
  },
  {
   "cell_type": "markdown",
   "id": "df6744fa",
   "metadata": {},
   "source": [
    "nombre_infected       757\n",
    "nombre_sain          2174\n",
    "nombre_exposed        495\n",
    "nombre_recovered    16574\n",
    "Name: 726, dtype: int64"
   ]
  },
  {
   "cell_type": "markdown",
   "id": "6890a2ae",
   "metadata": {},
   "source": [
    "nombre_infected       755\n",
    "nombre_sain          2162\n",
    "nombre_exposed        503\n",
    "nombre_recovered    16580\n",
    "Name: 727, dtype: int64"
   ]
  },
  {
   "cell_type": "markdown",
   "id": "2c8e85b6",
   "metadata": {},
   "source": [
    "nombre_infected       769\n",
    "nombre_sain          2184\n",
    "nombre_exposed        487\n",
    "nombre_recovered    16560\n",
    "Name: 728, dtype: int64"
   ]
  },
  {
   "cell_type": "markdown",
   "id": "205050b5",
   "metadata": {},
   "source": [
    "nombre_infected       778\n",
    "nombre_sain          2177\n",
    "nombre_exposed        484\n",
    "nombre_recovered    16561\n",
    "Name: 729, dtype: int64"
   ]
  },
  {
   "cell_type": "markdown",
   "id": "5b2e68e7",
   "metadata": {},
   "source": [
    "nombre_infected       765\n",
    "nombre_sain          2201\n",
    "nombre_exposed        462\n",
    "nombre_recovered    16572\n",
    "Name: 730, dtype: int64"
   ]
  }
 ],
 "metadata": {},
 "nbformat": 4,
 "nbformat_minor": 5
}
