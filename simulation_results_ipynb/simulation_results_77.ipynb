{
 "cells": [
  {
   "cell_type": "markdown",
   "id": "1e7ccf84",
   "metadata": {},
   "source": [
    "nombre_infected        20\n",
    "nombre_sain         19980\n",
    "nombre_exposed          0\n",
    "nombre_recovered        0\n",
    "Name: 0, dtype: int64"
   ]
  },
  {
   "cell_type": "markdown",
   "id": "7cd48e03",
   "metadata": {},
   "source": [
    "nombre_infected        20\n",
    "nombre_sain         19962\n",
    "nombre_exposed         18\n",
    "nombre_recovered        0\n",
    "Name: 1, dtype: int64"
   ]
  },
  {
   "cell_type": "markdown",
   "id": "b83432f2",
   "metadata": {},
   "source": [
    "nombre_infected        20\n",
    "nombre_sain         19940\n",
    "nombre_exposed         40\n",
    "nombre_recovered        0\n",
    "Name: 2, dtype: int64"
   ]
  },
  {
   "cell_type": "markdown",
   "id": "c33a31dd",
   "metadata": {},
   "source": [
    "nombre_infected        25\n",
    "nombre_sain         19913\n",
    "nombre_exposed         62\n",
    "nombre_recovered        0\n",
    "Name: 3, dtype: int64"
   ]
  },
  {
   "cell_type": "markdown",
   "id": "04709f49",
   "metadata": {},
   "source": [
    "nombre_infected        37\n",
    "nombre_sain         19877\n",
    "nombre_exposed         86\n",
    "nombre_recovered        0\n",
    "Name: 4, dtype: int64"
   ]
  },
  {
   "cell_type": "markdown",
   "id": "c00d38bb",
   "metadata": {},
   "source": [
    "nombre_infected        38\n",
    "nombre_sain         19829\n",
    "nombre_exposed        113\n",
    "nombre_recovered       20\n",
    "Name: 5, dtype: int64"
   ]
  },
  {
   "cell_type": "markdown",
   "id": "c528b050",
   "metadata": {},
   "source": [
    "nombre_infected        52\n",
    "nombre_sain         19762\n",
    "nombre_exposed        164\n",
    "nombre_recovered       22\n",
    "Name: 6, dtype: int64"
   ]
  },
  {
   "cell_type": "markdown",
   "id": "b6fe9b69",
   "metadata": {},
   "source": [
    "nombre_infected        79\n",
    "nombre_sain         19687\n",
    "nombre_exposed        206\n",
    "nombre_recovered       28\n",
    "Name: 7, dtype: int64"
   ]
  },
  {
   "cell_type": "markdown",
   "id": "5e4c2d63",
   "metadata": {},
   "source": [
    "nombre_infected       111\n",
    "nombre_sain         19581\n",
    "nombre_exposed        271\n",
    "nombre_recovered       37\n",
    "Name: 8, dtype: int64"
   ]
  },
  {
   "cell_type": "markdown",
   "id": "653b381d",
   "metadata": {},
   "source": [
    "nombre_infected       154\n",
    "nombre_sain         19435\n",
    "nombre_exposed        369\n",
    "nombre_recovered       42\n",
    "Name: 9, dtype: int64"
   ]
  },
  {
   "cell_type": "markdown",
   "id": "ec722d0f",
   "metadata": {},
   "source": [
    "nombre_infected       217\n",
    "nombre_sain         19208\n",
    "nombre_exposed        519\n",
    "nombre_recovered       56\n",
    "Name: 10, dtype: int64"
   ]
  },
  {
   "cell_type": "markdown",
   "id": "8c28397d",
   "metadata": {},
   "source": [
    "nombre_infected       276\n",
    "nombre_sain         18910\n",
    "nombre_exposed        739\n",
    "nombre_recovered       75\n",
    "Name: 11, dtype: int64"
   ]
  },
  {
   "cell_type": "markdown",
   "id": "edc763f7",
   "metadata": {},
   "source": [
    "nombre_infected       367\n",
    "nombre_sain         18555\n",
    "nombre_exposed        969\n",
    "nombre_recovered      109\n",
    "Name: 12, dtype: int64"
   ]
  },
  {
   "cell_type": "markdown",
   "id": "5def6a48",
   "metadata": {},
   "source": [
    "nombre_infected       517\n",
    "nombre_sain         18074\n",
    "nombre_exposed       1274\n",
    "nombre_recovered      135\n",
    "Name: 13, dtype: int64"
   ]
  },
  {
   "cell_type": "markdown",
   "id": "376c38f3",
   "metadata": {},
   "source": [
    "nombre_infected       689\n",
    "nombre_sain         17428\n",
    "nombre_exposed       1702\n",
    "nombre_recovered      181\n",
    "Name: 14, dtype: int64"
   ]
  },
  {
   "cell_type": "markdown",
   "id": "e84241ea",
   "metadata": {},
   "source": [
    "nombre_infected       955\n",
    "nombre_sain         16553\n",
    "nombre_exposed       2254\n",
    "nombre_recovered      238\n",
    "Name: 15, dtype: int64"
   ]
  },
  {
   "cell_type": "markdown",
   "id": "8a211c25",
   "metadata": {},
   "source": [
    "nombre_infected      1282\n",
    "nombre_sain         15474\n",
    "nombre_exposed       2921\n",
    "nombre_recovered      323\n",
    "Name: 16, dtype: int64"
   ]
  },
  {
   "cell_type": "markdown",
   "id": "9df5d41f",
   "metadata": {},
   "source": [
    "nombre_infected      1740\n",
    "nombre_sain         14155\n",
    "nombre_exposed       3676\n",
    "nombre_recovered      429\n",
    "Name: 17, dtype: int64"
   ]
  },
  {
   "cell_type": "markdown",
   "id": "e8ce41f2",
   "metadata": {},
   "source": [
    "nombre_infected      2246\n",
    "nombre_sain         12595\n",
    "nombre_exposed       4548\n",
    "nombre_recovered      611\n",
    "Name: 18, dtype: int64"
   ]
  },
  {
   "cell_type": "markdown",
   "id": "8b987726",
   "metadata": {},
   "source": [
    "nombre_infected      2904\n",
    "nombre_sain         10934\n",
    "nombre_exposed       5340\n",
    "nombre_recovered      822\n",
    "Name: 19, dtype: int64"
   ]
  },
  {
   "cell_type": "markdown",
   "id": "c4e85e1d",
   "metadata": {},
   "source": [
    "nombre_infected     3719\n",
    "nombre_sain         9081\n",
    "nombre_exposed      6101\n",
    "nombre_recovered    1099\n",
    "Name: 20, dtype: int64"
   ]
  },
  {
   "cell_type": "markdown",
   "id": "61c6d94c",
   "metadata": {},
   "source": [
    "nombre_infected     4632\n",
    "nombre_sain         7294\n",
    "nombre_exposed      6627\n",
    "nombre_recovered    1447\n",
    "Name: 21, dtype: int64"
   ]
  },
  {
   "cell_type": "markdown",
   "id": "db2fa5a6",
   "metadata": {},
   "source": [
    "nombre_infected     5649\n",
    "nombre_sain         5621\n",
    "nombre_exposed      6834\n",
    "nombre_recovered    1896\n",
    "Name: 22, dtype: int64"
   ]
  },
  {
   "cell_type": "markdown",
   "id": "24c34426",
   "metadata": {},
   "source": [
    "nombre_infected     6600\n",
    "nombre_sain         4159\n",
    "nombre_exposed      6791\n",
    "nombre_recovered    2450\n",
    "Name: 23, dtype: int64"
   ]
  },
  {
   "cell_type": "markdown",
   "id": "dc10788e",
   "metadata": {},
   "source": [
    "nombre_infected     7439\n",
    "nombre_sain         3029\n",
    "nombre_exposed      6394\n",
    "nombre_recovered    3138\n",
    "Name: 24, dtype: int64"
   ]
  },
  {
   "cell_type": "markdown",
   "id": "d3fde8bf",
   "metadata": {},
   "source": [
    "nombre_infected     8184\n",
    "nombre_sain         2097\n",
    "nombre_exposed      5785\n",
    "nombre_recovered    3934\n",
    "Name: 25, dtype: int64"
   ]
  },
  {
   "cell_type": "markdown",
   "id": "9ca4a755",
   "metadata": {},
   "source": [
    "nombre_infected     8699\n",
    "nombre_sain         1431\n",
    "nombre_exposed      5006\n",
    "nombre_recovered    4864\n",
    "Name: 26, dtype: int64"
   ]
  },
  {
   "cell_type": "markdown",
   "id": "e66122d5",
   "metadata": {},
   "source": [
    "nombre_infected     9000\n",
    "nombre_sain          944\n",
    "nombre_exposed      4183\n",
    "nombre_recovered    5873\n",
    "Name: 27, dtype: int64"
   ]
  },
  {
   "cell_type": "markdown",
   "id": "1440ec80",
   "metadata": {},
   "source": [
    "nombre_infected     9115\n",
    "nombre_sain          646\n",
    "nombre_exposed      3347\n",
    "nombre_recovered    6892\n",
    "Name: 28, dtype: int64"
   ]
  },
  {
   "cell_type": "markdown",
   "id": "e8d51022",
   "metadata": {},
   "source": [
    "nombre_infected     8913\n",
    "nombre_sain          433\n",
    "nombre_exposed      2678\n",
    "nombre_recovered    7976\n",
    "Name: 29, dtype: int64"
   ]
  },
  {
   "cell_type": "markdown",
   "id": "599eea14",
   "metadata": {},
   "source": [
    "nombre_infected     8620\n",
    "nombre_sain          311\n",
    "nombre_exposed      2035\n",
    "nombre_recovered    9034\n",
    "Name: 30, dtype: int64"
   ]
  },
  {
   "cell_type": "markdown",
   "id": "90d59dcc",
   "metadata": {},
   "source": [
    "nombre_infected      8060\n",
    "nombre_sain           232\n",
    "nombre_exposed       1579\n",
    "nombre_recovered    10129\n",
    "Name: 31, dtype: int64"
   ]
  },
  {
   "cell_type": "markdown",
   "id": "015e4bc2",
   "metadata": {},
   "source": [
    "nombre_infected      7468\n",
    "nombre_sain           188\n",
    "nombre_exposed       1202\n",
    "nombre_recovered    11142\n",
    "Name: 32, dtype: int64"
   ]
  },
  {
   "cell_type": "markdown",
   "id": "7b30945e",
   "metadata": {},
   "source": [
    "nombre_infected      6840\n",
    "nombre_sain           158\n",
    "nombre_exposed        911\n",
    "nombre_recovered    12091\n",
    "Name: 33, dtype: int64"
   ]
  },
  {
   "cell_type": "markdown",
   "id": "fbd82404",
   "metadata": {},
   "source": [
    "nombre_infected      6182\n",
    "nombre_sain           144\n",
    "nombre_exposed        703\n",
    "nombre_recovered    12971\n",
    "Name: 34, dtype: int64"
   ]
  },
  {
   "cell_type": "markdown",
   "id": "08fb9a8e",
   "metadata": {},
   "source": [
    "nombre_infected      5544\n",
    "nombre_sain           135\n",
    "nombre_exposed        527\n",
    "nombre_recovered    13794\n",
    "Name: 35, dtype: int64"
   ]
  },
  {
   "cell_type": "markdown",
   "id": "a6125433",
   "metadata": {},
   "source": [
    "nombre_infected      4968\n",
    "nombre_sain           132\n",
    "nombre_exposed        404\n",
    "nombre_recovered    14496\n",
    "Name: 36, dtype: int64"
   ]
  },
  {
   "cell_type": "markdown",
   "id": "d1556fd1",
   "metadata": {},
   "source": [
    "nombre_infected      4438\n",
    "nombre_sain           136\n",
    "nombre_exposed        309\n",
    "nombre_recovered    15117\n",
    "Name: 37, dtype: int64"
   ]
  },
  {
   "cell_type": "markdown",
   "id": "cc4265de",
   "metadata": {},
   "source": [
    "nombre_infected      3948\n",
    "nombre_sain           160\n",
    "nombre_exposed        231\n",
    "nombre_recovered    15661\n",
    "Name: 38, dtype: int64"
   ]
  },
  {
   "cell_type": "markdown",
   "id": "ff224882",
   "metadata": {},
   "source": [
    "nombre_infected      3464\n",
    "nombre_sain           168\n",
    "nombre_exposed        186\n",
    "nombre_recovered    16182\n",
    "Name: 39, dtype: int64"
   ]
  },
  {
   "cell_type": "markdown",
   "id": "cf617447",
   "metadata": {},
   "source": [
    "nombre_infected      3067\n",
    "nombre_sain           170\n",
    "nombre_exposed        169\n",
    "nombre_recovered    16594\n",
    "Name: 40, dtype: int64"
   ]
  },
  {
   "cell_type": "markdown",
   "id": "687baf76",
   "metadata": {},
   "source": [
    "nombre_infected      2738\n",
    "nombre_sain           184\n",
    "nombre_exposed        149\n",
    "nombre_recovered    16929\n",
    "Name: 41, dtype: int64"
   ]
  },
  {
   "cell_type": "markdown",
   "id": "14e2b7bf",
   "metadata": {},
   "source": [
    "nombre_infected      2451\n",
    "nombre_sain           199\n",
    "nombre_exposed        129\n",
    "nombre_recovered    17221\n",
    "Name: 42, dtype: int64"
   ]
  },
  {
   "cell_type": "markdown",
   "id": "641025ab",
   "metadata": {},
   "source": [
    "nombre_infected      2189\n",
    "nombre_sain           217\n",
    "nombre_exposed        115\n",
    "nombre_recovered    17479\n",
    "Name: 43, dtype: int64"
   ]
  },
  {
   "cell_type": "markdown",
   "id": "92041268",
   "metadata": {},
   "source": [
    "nombre_infected      1973\n",
    "nombre_sain           223\n",
    "nombre_exposed        103\n",
    "nombre_recovered    17701\n",
    "Name: 44, dtype: int64"
   ]
  },
  {
   "cell_type": "markdown",
   "id": "2ee5083c",
   "metadata": {},
   "source": [
    "nombre_infected      1761\n",
    "nombre_sain           246\n",
    "nombre_exposed        105\n",
    "nombre_recovered    17888\n",
    "Name: 45, dtype: int64"
   ]
  },
  {
   "cell_type": "markdown",
   "id": "535eec9b",
   "metadata": {},
   "source": [
    "nombre_infected      1558\n",
    "nombre_sain           262\n",
    "nombre_exposed         99\n",
    "nombre_recovered    18081\n",
    "Name: 46, dtype: int64"
   ]
  },
  {
   "cell_type": "markdown",
   "id": "10217e49",
   "metadata": {},
   "source": [
    "nombre_infected      1411\n",
    "nombre_sain           286\n",
    "nombre_exposed         98\n",
    "nombre_recovered    18205\n",
    "Name: 47, dtype: int64"
   ]
  },
  {
   "cell_type": "markdown",
   "id": "b57b5071",
   "metadata": {},
   "source": [
    "nombre_infected      1281\n",
    "nombre_sain           311\n",
    "nombre_exposed         96\n",
    "nombre_recovered    18312\n",
    "Name: 48, dtype: int64"
   ]
  },
  {
   "cell_type": "markdown",
   "id": "dc212d19",
   "metadata": {},
   "source": [
    "nombre_infected      1158\n",
    "nombre_sain           328\n",
    "nombre_exposed         96\n",
    "nombre_recovered    18418\n",
    "Name: 49, dtype: int64"
   ]
  },
  {
   "cell_type": "markdown",
   "id": "5e857819",
   "metadata": {},
   "source": [
    "nombre_infected      1041\n",
    "nombre_sain           340\n",
    "nombre_exposed         99\n",
    "nombre_recovered    18520\n",
    "Name: 50, dtype: int64"
   ]
  },
  {
   "cell_type": "markdown",
   "id": "49f25f44",
   "metadata": {},
   "source": [
    "nombre_infected       943\n",
    "nombre_sain           373\n",
    "nombre_exposed         99\n",
    "nombre_recovered    18585\n",
    "Name: 51, dtype: int64"
   ]
  },
  {
   "cell_type": "markdown",
   "id": "e0ced1be",
   "metadata": {},
   "source": [
    "nombre_infected       877\n",
    "nombre_sain           406\n",
    "nombre_exposed         90\n",
    "nombre_recovered    18627\n",
    "Name: 52, dtype: int64"
   ]
  },
  {
   "cell_type": "markdown",
   "id": "6f2bbe56",
   "metadata": {},
   "source": [
    "nombre_infected       809\n",
    "nombre_sain           440\n",
    "nombre_exposed         89\n",
    "nombre_recovered    18662\n",
    "Name: 53, dtype: int64"
   ]
  },
  {
   "cell_type": "markdown",
   "id": "030d66c9",
   "metadata": {},
   "source": [
    "nombre_infected       718\n",
    "nombre_sain           457\n",
    "nombre_exposed        105\n",
    "nombre_recovered    18720\n",
    "Name: 54, dtype: int64"
   ]
  },
  {
   "cell_type": "markdown",
   "id": "cc62d5e8",
   "metadata": {},
   "source": [
    "nombre_infected       664\n",
    "nombre_sain           497\n",
    "nombre_exposed         99\n",
    "nombre_recovered    18740\n",
    "Name: 55, dtype: int64"
   ]
  },
  {
   "cell_type": "markdown",
   "id": "9eac4117",
   "metadata": {},
   "source": [
    "nombre_infected       619\n",
    "nombre_sain           545\n",
    "nombre_exposed         87\n",
    "nombre_recovered    18749\n",
    "Name: 56, dtype: int64"
   ]
  },
  {
   "cell_type": "markdown",
   "id": "768fb52c",
   "metadata": {},
   "source": [
    "nombre_infected       566\n",
    "nombre_sain           577\n",
    "nombre_exposed         87\n",
    "nombre_recovered    18770\n",
    "Name: 57, dtype: int64"
   ]
  },
  {
   "cell_type": "markdown",
   "id": "8a1cf449",
   "metadata": {},
   "source": [
    "nombre_infected       535\n",
    "nombre_sain           623\n",
    "nombre_exposed         73\n",
    "nombre_recovered    18769\n",
    "Name: 58, dtype: int64"
   ]
  },
  {
   "cell_type": "markdown",
   "id": "c8f06459",
   "metadata": {},
   "source": [
    "nombre_infected       492\n",
    "nombre_sain           652\n",
    "nombre_exposed         66\n",
    "nombre_recovered    18790\n",
    "Name: 59, dtype: int64"
   ]
  },
  {
   "cell_type": "markdown",
   "id": "b4850c55",
   "metadata": {},
   "source": [
    "nombre_infected       446\n",
    "nombre_sain           693\n",
    "nombre_exposed         65\n",
    "nombre_recovered    18796\n",
    "Name: 60, dtype: int64"
   ]
  },
  {
   "cell_type": "markdown",
   "id": "63dc6533",
   "metadata": {},
   "source": [
    "nombre_infected       399\n",
    "nombre_sain           725\n",
    "nombre_exposed         72\n",
    "nombre_recovered    18804\n",
    "Name: 61, dtype: int64"
   ]
  },
  {
   "cell_type": "markdown",
   "id": "6118d0f8",
   "metadata": {},
   "source": [
    "nombre_infected       358\n",
    "nombre_sain           782\n",
    "nombre_exposed         81\n",
    "nombre_recovered    18779\n",
    "Name: 62, dtype: int64"
   ]
  },
  {
   "cell_type": "markdown",
   "id": "5629fe07",
   "metadata": {},
   "source": [
    "nombre_infected       333\n",
    "nombre_sain           838\n",
    "nombre_exposed         76\n",
    "nombre_recovered    18753\n",
    "Name: 63, dtype: int64"
   ]
  },
  {
   "cell_type": "markdown",
   "id": "0fe26132",
   "metadata": {},
   "source": [
    "nombre_infected       305\n",
    "nombre_sain           881\n",
    "nombre_exposed         69\n",
    "nombre_recovered    18745\n",
    "Name: 64, dtype: int64"
   ]
  },
  {
   "cell_type": "markdown",
   "id": "0e476db5",
   "metadata": {},
   "source": [
    "nombre_infected       278\n",
    "nombre_sain           946\n",
    "nombre_exposed         65\n",
    "nombre_recovered    18711\n",
    "Name: 65, dtype: int64"
   ]
  },
  {
   "cell_type": "markdown",
   "id": "13001aad",
   "metadata": {},
   "source": [
    "nombre_infected       251\n",
    "nombre_sain          1022\n",
    "nombre_exposed         64\n",
    "nombre_recovered    18663\n",
    "Name: 66, dtype: int64"
   ]
  },
  {
   "cell_type": "markdown",
   "id": "7ca45f34",
   "metadata": {},
   "source": [
    "nombre_infected       224\n",
    "nombre_sain          1088\n",
    "nombre_exposed         67\n",
    "nombre_recovered    18621\n",
    "Name: 67, dtype: int64"
   ]
  },
  {
   "cell_type": "markdown",
   "id": "4b7b7d7e",
   "metadata": {},
   "source": [
    "nombre_infected       210\n",
    "nombre_sain          1146\n",
    "nombre_exposed         70\n",
    "nombre_recovered    18574\n",
    "Name: 68, dtype: int64"
   ]
  },
  {
   "cell_type": "markdown",
   "id": "1d013cb0",
   "metadata": {},
   "source": [
    "nombre_infected       187\n",
    "nombre_sain          1211\n",
    "nombre_exposed         66\n",
    "nombre_recovered    18536\n",
    "Name: 69, dtype: int64"
   ]
  },
  {
   "cell_type": "markdown",
   "id": "f7b0de87",
   "metadata": {},
   "source": [
    "nombre_infected       174\n",
    "nombre_sain          1272\n",
    "nombre_exposed         65\n",
    "nombre_recovered    18489\n",
    "Name: 70, dtype: int64"
   ]
  },
  {
   "cell_type": "markdown",
   "id": "1411d4cf",
   "metadata": {},
   "source": [
    "nombre_infected       152\n",
    "nombre_sain          1335\n",
    "nombre_exposed         61\n",
    "nombre_recovered    18452\n",
    "Name: 71, dtype: int64"
   ]
  },
  {
   "cell_type": "markdown",
   "id": "77bd4a99",
   "metadata": {},
   "source": [
    "nombre_infected       143\n",
    "nombre_sain          1374\n",
    "nombre_exposed         59\n",
    "nombre_recovered    18424\n",
    "Name: 72, dtype: int64"
   ]
  },
  {
   "cell_type": "markdown",
   "id": "21d7a3ce",
   "metadata": {},
   "source": [
    "nombre_infected       131\n",
    "nombre_sain          1428\n",
    "nombre_exposed         56\n",
    "nombre_recovered    18385\n",
    "Name: 73, dtype: int64"
   ]
  },
  {
   "cell_type": "markdown",
   "id": "9f90ff45",
   "metadata": {},
   "source": [
    "nombre_infected       114\n",
    "nombre_sain          1484\n",
    "nombre_exposed         51\n",
    "nombre_recovered    18351\n",
    "Name: 74, dtype: int64"
   ]
  },
  {
   "cell_type": "markdown",
   "id": "2ba72e5e",
   "metadata": {},
   "source": [
    "nombre_infected       102\n",
    "nombre_sain          1532\n",
    "nombre_exposed         53\n",
    "nombre_recovered    18313\n",
    "Name: 75, dtype: int64"
   ]
  },
  {
   "cell_type": "markdown",
   "id": "e7800a19",
   "metadata": {},
   "source": [
    "nombre_infected        96\n",
    "nombre_sain          1592\n",
    "nombre_exposed         47\n",
    "nombre_recovered    18265\n",
    "Name: 76, dtype: int64"
   ]
  },
  {
   "cell_type": "markdown",
   "id": "365c6168",
   "metadata": {},
   "source": [
    "nombre_infected        92\n",
    "nombre_sain          1641\n",
    "nombre_exposed         48\n",
    "nombre_recovered    18219\n",
    "Name: 77, dtype: int64"
   ]
  },
  {
   "cell_type": "markdown",
   "id": "b165ab21",
   "metadata": {},
   "source": [
    "nombre_infected        81\n",
    "nombre_sain          1689\n",
    "nombre_exposed         46\n",
    "nombre_recovered    18184\n",
    "Name: 78, dtype: int64"
   ]
  },
  {
   "cell_type": "markdown",
   "id": "7ba2cdfe",
   "metadata": {},
   "source": [
    "nombre_infected        77\n",
    "nombre_sain          1746\n",
    "nombre_exposed         46\n",
    "nombre_recovered    18131\n",
    "Name: 79, dtype: int64"
   ]
  },
  {
   "cell_type": "markdown",
   "id": "1482e597",
   "metadata": {},
   "source": [
    "nombre_infected        75\n",
    "nombre_sain          1798\n",
    "nombre_exposed         42\n",
    "nombre_recovered    18085\n",
    "Name: 80, dtype: int64"
   ]
  },
  {
   "cell_type": "markdown",
   "id": "44c57423",
   "metadata": {},
   "source": [
    "nombre_infected        76\n",
    "nombre_sain          1847\n",
    "nombre_exposed         43\n",
    "nombre_recovered    18034\n",
    "Name: 81, dtype: int64"
   ]
  },
  {
   "cell_type": "markdown",
   "id": "b363f669",
   "metadata": {},
   "source": [
    "nombre_infected        72\n",
    "nombre_sain          1912\n",
    "nombre_exposed         36\n",
    "nombre_recovered    17980\n",
    "Name: 82, dtype: int64"
   ]
  },
  {
   "cell_type": "markdown",
   "id": "8a887c3d",
   "metadata": {},
   "source": [
    "nombre_infected        61\n",
    "nombre_sain          1983\n",
    "nombre_exposed         27\n",
    "nombre_recovered    17929\n",
    "Name: 83, dtype: int64"
   ]
  },
  {
   "cell_type": "markdown",
   "id": "39ef63fd",
   "metadata": {},
   "source": [
    "nombre_infected        51\n",
    "nombre_sain          2049\n",
    "nombre_exposed         22\n",
    "nombre_recovered    17878\n",
    "Name: 84, dtype: int64"
   ]
  },
  {
   "cell_type": "markdown",
   "id": "d197f106",
   "metadata": {},
   "source": [
    "nombre_infected        43\n",
    "nombre_sain          2111\n",
    "nombre_exposed         22\n",
    "nombre_recovered    17824\n",
    "Name: 85, dtype: int64"
   ]
  },
  {
   "cell_type": "markdown",
   "id": "1196d37f",
   "metadata": {},
   "source": [
    "nombre_infected        39\n",
    "nombre_sain          2180\n",
    "nombre_exposed         23\n",
    "nombre_recovered    17758\n",
    "Name: 86, dtype: int64"
   ]
  },
  {
   "cell_type": "markdown",
   "id": "234e818c",
   "metadata": {},
   "source": [
    "nombre_infected        33\n",
    "nombre_sain          2260\n",
    "nombre_exposed         23\n",
    "nombre_recovered    17684\n",
    "Name: 87, dtype: int64"
   ]
  },
  {
   "cell_type": "markdown",
   "id": "4007113c",
   "metadata": {},
   "source": [
    "nombre_infected        32\n",
    "nombre_sain          2319\n",
    "nombre_exposed         25\n",
    "nombre_recovered    17624\n",
    "Name: 88, dtype: int64"
   ]
  },
  {
   "cell_type": "markdown",
   "id": "b557ec08",
   "metadata": {},
   "source": [
    "nombre_infected        34\n",
    "nombre_sain          2390\n",
    "nombre_exposed         22\n",
    "nombre_recovered    17554\n",
    "Name: 89, dtype: int64"
   ]
  },
  {
   "cell_type": "markdown",
   "id": "c2b3652a",
   "metadata": {},
   "source": [
    "nombre_infected        37\n",
    "nombre_sain          2447\n",
    "nombre_exposed         21\n",
    "nombre_recovered    17495\n",
    "Name: 90, dtype: int64"
   ]
  },
  {
   "cell_type": "markdown",
   "id": "9e79e685",
   "metadata": {},
   "source": [
    "nombre_infected        33\n",
    "nombre_sain          2510\n",
    "nombre_exposed         21\n",
    "nombre_recovered    17436\n",
    "Name: 91, dtype: int64"
   ]
  },
  {
   "cell_type": "markdown",
   "id": "dedc2073",
   "metadata": {},
   "source": [
    "nombre_infected        32\n",
    "nombre_sain          2578\n",
    "nombre_exposed         15\n",
    "nombre_recovered    17375\n",
    "Name: 92, dtype: int64"
   ]
  },
  {
   "cell_type": "markdown",
   "id": "deb78830",
   "metadata": {},
   "source": [
    "nombre_infected        36\n",
    "nombre_sain          2641\n",
    "nombre_exposed         12\n",
    "nombre_recovered    17311\n",
    "Name: 93, dtype: int64"
   ]
  },
  {
   "cell_type": "markdown",
   "id": "23dcf36a",
   "metadata": {},
   "source": [
    "nombre_infected        34\n",
    "nombre_sain          2679\n",
    "nombre_exposed         14\n",
    "nombre_recovered    17273\n",
    "Name: 94, dtype: int64"
   ]
  },
  {
   "cell_type": "markdown",
   "id": "cddf775b",
   "metadata": {},
   "source": [
    "nombre_infected        29\n",
    "nombre_sain          2737\n",
    "nombre_exposed         18\n",
    "nombre_recovered    17216\n",
    "Name: 95, dtype: int64"
   ]
  },
  {
   "cell_type": "markdown",
   "id": "4ce40a67",
   "metadata": {},
   "source": [
    "nombre_infected        27\n",
    "nombre_sain          2793\n",
    "nombre_exposed         18\n",
    "nombre_recovered    17162\n",
    "Name: 96, dtype: int64"
   ]
  },
  {
   "cell_type": "markdown",
   "id": "0673370e",
   "metadata": {},
   "source": [
    "nombre_infected        27\n",
    "nombre_sain          2833\n",
    "nombre_exposed         19\n",
    "nombre_recovered    17121\n",
    "Name: 97, dtype: int64"
   ]
  },
  {
   "cell_type": "markdown",
   "id": "839cdb0f",
   "metadata": {},
   "source": [
    "nombre_infected        30\n",
    "nombre_sain          2877\n",
    "nombre_exposed         18\n",
    "nombre_recovered    17075\n",
    "Name: 98, dtype: int64"
   ]
  },
  {
   "cell_type": "markdown",
   "id": "824f8057",
   "metadata": {},
   "source": [
    "nombre_infected        31\n",
    "nombre_sain          2916\n",
    "nombre_exposed         25\n",
    "nombre_recovered    17028\n",
    "Name: 99, dtype: int64"
   ]
  },
  {
   "cell_type": "markdown",
   "id": "21565dab",
   "metadata": {},
   "source": [
    "nombre_infected        33\n",
    "nombre_sain          2952\n",
    "nombre_exposed         27\n",
    "nombre_recovered    16988\n",
    "Name: 100, dtype: int64"
   ]
  },
  {
   "cell_type": "markdown",
   "id": "95e3126a",
   "metadata": {},
   "source": [
    "nombre_infected        36\n",
    "nombre_sain          2993\n",
    "nombre_exposed         24\n",
    "nombre_recovered    16947\n",
    "Name: 101, dtype: int64"
   ]
  },
  {
   "cell_type": "markdown",
   "id": "343d766e",
   "metadata": {},
   "source": [
    "nombre_infected        38\n",
    "nombre_sain          3031\n",
    "nombre_exposed         22\n",
    "nombre_recovered    16909\n",
    "Name: 102, dtype: int64"
   ]
  },
  {
   "cell_type": "markdown",
   "id": "f8701b2b",
   "metadata": {},
   "source": [
    "nombre_infected        37\n",
    "nombre_sain          3079\n",
    "nombre_exposed         20\n",
    "nombre_recovered    16864\n",
    "Name: 103, dtype: int64"
   ]
  },
  {
   "cell_type": "markdown",
   "id": "7fb8260e",
   "metadata": {},
   "source": [
    "nombre_infected        38\n",
    "nombre_sain          3124\n",
    "nombre_exposed         17\n",
    "nombre_recovered    16821\n",
    "Name: 104, dtype: int64"
   ]
  },
  {
   "cell_type": "markdown",
   "id": "46c30fc7",
   "metadata": {},
   "source": [
    "nombre_infected        35\n",
    "nombre_sain          3171\n",
    "nombre_exposed         20\n",
    "nombre_recovered    16774\n",
    "Name: 105, dtype: int64"
   ]
  },
  {
   "cell_type": "markdown",
   "id": "793be047",
   "metadata": {},
   "source": [
    "nombre_infected        35\n",
    "nombre_sain          3202\n",
    "nombre_exposed         22\n",
    "nombre_recovered    16741\n",
    "Name: 106, dtype: int64"
   ]
  },
  {
   "cell_type": "markdown",
   "id": "37db88da",
   "metadata": {},
   "source": [
    "nombre_infected        35\n",
    "nombre_sain          3240\n",
    "nombre_exposed         19\n",
    "nombre_recovered    16706\n",
    "Name: 107, dtype: int64"
   ]
  },
  {
   "cell_type": "markdown",
   "id": "f0770f12",
   "metadata": {},
   "source": [
    "nombre_infected        33\n",
    "nombre_sain          3274\n",
    "nombre_exposed         23\n",
    "nombre_recovered    16670\n",
    "Name: 108, dtype: int64"
   ]
  },
  {
   "cell_type": "markdown",
   "id": "f2221782",
   "metadata": {},
   "source": [
    "nombre_infected        32\n",
    "nombre_sain          3306\n",
    "nombre_exposed         26\n",
    "nombre_recovered    16636\n",
    "Name: 109, dtype: int64"
   ]
  },
  {
   "cell_type": "markdown",
   "id": "0e75262a",
   "metadata": {},
   "source": [
    "nombre_infected        30\n",
    "nombre_sain          3336\n",
    "nombre_exposed         27\n",
    "nombre_recovered    16607\n",
    "Name: 110, dtype: int64"
   ]
  },
  {
   "cell_type": "markdown",
   "id": "258aaa69",
   "metadata": {},
   "source": [
    "nombre_infected        31\n",
    "nombre_sain          3363\n",
    "nombre_exposed         25\n",
    "nombre_recovered    16581\n",
    "Name: 111, dtype: int64"
   ]
  },
  {
   "cell_type": "markdown",
   "id": "a3586957",
   "metadata": {},
   "source": [
    "nombre_infected        30\n",
    "nombre_sain          3393\n",
    "nombre_exposed         23\n",
    "nombre_recovered    16554\n",
    "Name: 112, dtype: int64"
   ]
  },
  {
   "cell_type": "markdown",
   "id": "f309e011",
   "metadata": {},
   "source": [
    "nombre_infected        34\n",
    "nombre_sain          3414\n",
    "nombre_exposed         22\n",
    "nombre_recovered    16530\n",
    "Name: 113, dtype: int64"
   ]
  },
  {
   "cell_type": "markdown",
   "id": "b61d2a2f",
   "metadata": {},
   "source": [
    "nombre_infected        34\n",
    "nombre_sain          3422\n",
    "nombre_exposed         27\n",
    "nombre_recovered    16517\n",
    "Name: 114, dtype: int64"
   ]
  },
  {
   "cell_type": "markdown",
   "id": "58e5ce07",
   "metadata": {},
   "source": [
    "nombre_infected        36\n",
    "nombre_sain          3450\n",
    "nombre_exposed         26\n",
    "nombre_recovered    16488\n",
    "Name: 115, dtype: int64"
   ]
  },
  {
   "cell_type": "markdown",
   "id": "c6b68170",
   "metadata": {},
   "source": [
    "nombre_infected        34\n",
    "nombre_sain          3487\n",
    "nombre_exposed         26\n",
    "nombre_recovered    16453\n",
    "Name: 116, dtype: int64"
   ]
  },
  {
   "cell_type": "markdown",
   "id": "f5fb6956",
   "metadata": {},
   "source": [
    "nombre_infected        36\n",
    "nombre_sain          3504\n",
    "nombre_exposed         33\n",
    "nombre_recovered    16427\n",
    "Name: 117, dtype: int64"
   ]
  },
  {
   "cell_type": "markdown",
   "id": "d8603178",
   "metadata": {},
   "source": [
    "nombre_infected        35\n",
    "nombre_sain          3523\n",
    "nombre_exposed         40\n",
    "nombre_recovered    16402\n",
    "Name: 118, dtype: int64"
   ]
  },
  {
   "cell_type": "markdown",
   "id": "7803c161",
   "metadata": {},
   "source": [
    "nombre_infected        39\n",
    "nombre_sain          3559\n",
    "nombre_exposed         40\n",
    "nombre_recovered    16362\n",
    "Name: 119, dtype: int64"
   ]
  },
  {
   "cell_type": "markdown",
   "id": "cf969619",
   "metadata": {},
   "source": [
    "nombre_infected        45\n",
    "nombre_sain          3589\n",
    "nombre_exposed         38\n",
    "nombre_recovered    16328\n",
    "Name: 120, dtype: int64"
   ]
  },
  {
   "cell_type": "markdown",
   "id": "7515061c",
   "metadata": {},
   "source": [
    "nombre_infected        54\n",
    "nombre_sain          3624\n",
    "nombre_exposed         31\n",
    "nombre_recovered    16291\n",
    "Name: 121, dtype: int64"
   ]
  },
  {
   "cell_type": "markdown",
   "id": "c3e5bc72",
   "metadata": {},
   "source": [
    "nombre_infected        56\n",
    "nombre_sain          3660\n",
    "nombre_exposed         34\n",
    "nombre_recovered    16250\n",
    "Name: 122, dtype: int64"
   ]
  },
  {
   "cell_type": "markdown",
   "id": "e857bc55",
   "metadata": {},
   "source": [
    "nombre_infected        59\n",
    "nombre_sain          3703\n",
    "nombre_exposed         42\n",
    "nombre_recovered    16196\n",
    "Name: 123, dtype: int64"
   ]
  },
  {
   "cell_type": "markdown",
   "id": "a8f97015",
   "metadata": {},
   "source": [
    "nombre_infected        59\n",
    "nombre_sain          3739\n",
    "nombre_exposed         51\n",
    "nombre_recovered    16151\n",
    "Name: 124, dtype: int64"
   ]
  },
  {
   "cell_type": "markdown",
   "id": "85395bc4",
   "metadata": {},
   "source": [
    "nombre_infected        68\n",
    "nombre_sain          3772\n",
    "nombre_exposed         55\n",
    "nombre_recovered    16105\n",
    "Name: 125, dtype: int64"
   ]
  },
  {
   "cell_type": "markdown",
   "id": "e19c1e44",
   "metadata": {},
   "source": [
    "nombre_infected        69\n",
    "nombre_sain          3800\n",
    "nombre_exposed         56\n",
    "nombre_recovered    16075\n",
    "Name: 126, dtype: int64"
   ]
  },
  {
   "cell_type": "markdown",
   "id": "9734dbcd",
   "metadata": {},
   "source": [
    "nombre_infected        77\n",
    "nombre_sain          3835\n",
    "nombre_exposed         53\n",
    "nombre_recovered    16035\n",
    "Name: 127, dtype: int64"
   ]
  },
  {
   "cell_type": "markdown",
   "id": "74b5b71f",
   "metadata": {},
   "source": [
    "nombre_infected        87\n",
    "nombre_sain          3853\n",
    "nombre_exposed         57\n",
    "nombre_recovered    16003\n",
    "Name: 128, dtype: int64"
   ]
  },
  {
   "cell_type": "markdown",
   "id": "c2d405c9",
   "metadata": {},
   "source": [
    "nombre_infected        83\n",
    "nombre_sain          3884\n",
    "nombre_exposed         69\n",
    "nombre_recovered    15964\n",
    "Name: 129, dtype: int64"
   ]
  },
  {
   "cell_type": "markdown",
   "id": "19261ac9",
   "metadata": {},
   "source": [
    "nombre_infected        82\n",
    "nombre_sain          3915\n",
    "nombre_exposed         73\n",
    "nombre_recovered    15930\n",
    "Name: 130, dtype: int64"
   ]
  },
  {
   "cell_type": "markdown",
   "id": "7ec9b452",
   "metadata": {},
   "source": [
    "nombre_infected        90\n",
    "nombre_sain          3954\n",
    "nombre_exposed         70\n",
    "nombre_recovered    15886\n",
    "Name: 131, dtype: int64"
   ]
  },
  {
   "cell_type": "markdown",
   "id": "31281e04",
   "metadata": {},
   "source": [
    "nombre_infected        95\n",
    "nombre_sain          3979\n",
    "nombre_exposed         79\n",
    "nombre_recovered    15847\n",
    "Name: 132, dtype: int64"
   ]
  },
  {
   "cell_type": "markdown",
   "id": "1ef93ecc",
   "metadata": {},
   "source": [
    "nombre_infected       102\n",
    "nombre_sain          4021\n",
    "nombre_exposed         87\n",
    "nombre_recovered    15790\n",
    "Name: 133, dtype: int64"
   ]
  },
  {
   "cell_type": "markdown",
   "id": "8abe0fa9",
   "metadata": {},
   "source": [
    "nombre_infected       105\n",
    "nombre_sain          4048\n",
    "nombre_exposed         97\n",
    "nombre_recovered    15750\n",
    "Name: 134, dtype: int64"
   ]
  },
  {
   "cell_type": "markdown",
   "id": "46ea22c3",
   "metadata": {},
   "source": [
    "nombre_infected       106\n",
    "nombre_sain          4095\n",
    "nombre_exposed        103\n",
    "nombre_recovered    15696\n",
    "Name: 135, dtype: int64"
   ]
  },
  {
   "cell_type": "markdown",
   "id": "df0749ad",
   "metadata": {},
   "source": [
    "nombre_infected       119\n",
    "nombre_sain          4136\n",
    "nombre_exposed        101\n",
    "nombre_recovered    15644\n",
    "Name: 136, dtype: int64"
   ]
  },
  {
   "cell_type": "markdown",
   "id": "182aaa74",
   "metadata": {},
   "source": [
    "nombre_infected       120\n",
    "nombre_sain          4144\n",
    "nombre_exposed        124\n",
    "nombre_recovered    15612\n",
    "Name: 137, dtype: int64"
   ]
  },
  {
   "cell_type": "markdown",
   "id": "986fb584",
   "metadata": {},
   "source": [
    "nombre_infected       128\n",
    "nombre_sain          4170\n",
    "nombre_exposed        131\n",
    "nombre_recovered    15571\n",
    "Name: 138, dtype: int64"
   ]
  },
  {
   "cell_type": "markdown",
   "id": "187cca08",
   "metadata": {},
   "source": [
    "nombre_infected       147\n",
    "nombre_sain          4189\n",
    "nombre_exposed        125\n",
    "nombre_recovered    15539\n",
    "Name: 139, dtype: int64"
   ]
  },
  {
   "cell_type": "markdown",
   "id": "1cdc991b",
   "metadata": {},
   "source": [
    "nombre_infected       166\n",
    "nombre_sain          4183\n",
    "nombre_exposed        135\n",
    "nombre_recovered    15516\n",
    "Name: 140, dtype: int64"
   ]
  },
  {
   "cell_type": "markdown",
   "id": "fc3a2b81",
   "metadata": {},
   "source": [
    "nombre_infected       173\n",
    "nombre_sain          4182\n",
    "nombre_exposed        139\n",
    "nombre_recovered    15506\n",
    "Name: 141, dtype: int64"
   ]
  },
  {
   "cell_type": "markdown",
   "id": "72cb12b5",
   "metadata": {},
   "source": [
    "nombre_infected       179\n",
    "nombre_sain          4181\n",
    "nombre_exposed        161\n",
    "nombre_recovered    15479\n",
    "Name: 142, dtype: int64"
   ]
  },
  {
   "cell_type": "markdown",
   "id": "b6096368",
   "metadata": {},
   "source": [
    "nombre_infected       186\n",
    "nombre_sain          4179\n",
    "nombre_exposed        188\n",
    "nombre_recovered    15447\n",
    "Name: 143, dtype: int64"
   ]
  },
  {
   "cell_type": "markdown",
   "id": "60650a92",
   "metadata": {},
   "source": [
    "nombre_infected       188\n",
    "nombre_sain          4186\n",
    "nombre_exposed        206\n",
    "nombre_recovered    15420\n",
    "Name: 144, dtype: int64"
   ]
  },
  {
   "cell_type": "markdown",
   "id": "7ffdcadd",
   "metadata": {},
   "source": [
    "nombre_infected       197\n",
    "nombre_sain          4165\n",
    "nombre_exposed        219\n",
    "nombre_recovered    15419\n",
    "Name: 145, dtype: int64"
   ]
  },
  {
   "cell_type": "markdown",
   "id": "b5803fd9",
   "metadata": {},
   "source": [
    "nombre_infected       218\n",
    "nombre_sain          4146\n",
    "nombre_exposed        233\n",
    "nombre_recovered    15403\n",
    "Name: 146, dtype: int64"
   ]
  },
  {
   "cell_type": "markdown",
   "id": "3e6f1a90",
   "metadata": {},
   "source": [
    "nombre_infected       252\n",
    "nombre_sain          4121\n",
    "nombre_exposed        229\n",
    "nombre_recovered    15398\n",
    "Name: 147, dtype: int64"
   ]
  },
  {
   "cell_type": "markdown",
   "id": "f4bd7f28",
   "metadata": {},
   "source": [
    "nombre_infected       259\n",
    "nombre_sain          4112\n",
    "nombre_exposed        245\n",
    "nombre_recovered    15384\n",
    "Name: 148, dtype: int64"
   ]
  },
  {
   "cell_type": "markdown",
   "id": "e3a37457",
   "metadata": {},
   "source": [
    "nombre_infected       266\n",
    "nombre_sain          4080\n",
    "nombre_exposed        281\n",
    "nombre_recovered    15373\n",
    "Name: 149, dtype: int64"
   ]
  },
  {
   "cell_type": "markdown",
   "id": "794ee3a3",
   "metadata": {},
   "source": [
    "nombre_infected       286\n",
    "nombre_sain          4048\n",
    "nombre_exposed        293\n",
    "nombre_recovered    15373\n",
    "Name: 150, dtype: int64"
   ]
  },
  {
   "cell_type": "markdown",
   "id": "67a9bfec",
   "metadata": {},
   "source": [
    "nombre_infected       328\n",
    "nombre_sain          4011\n",
    "nombre_exposed        302\n",
    "nombre_recovered    15359\n",
    "Name: 151, dtype: int64"
   ]
  },
  {
   "cell_type": "markdown",
   "id": "42030ac6",
   "metadata": {},
   "source": [
    "nombre_infected       343\n",
    "nombre_sain          3984\n",
    "nombre_exposed        314\n",
    "nombre_recovered    15359\n",
    "Name: 152, dtype: int64"
   ]
  },
  {
   "cell_type": "markdown",
   "id": "0ff853c9",
   "metadata": {},
   "source": [
    "nombre_infected       371\n",
    "nombre_sain          3917\n",
    "nombre_exposed        331\n",
    "nombre_recovered    15381\n",
    "Name: 153, dtype: int64"
   ]
  },
  {
   "cell_type": "markdown",
   "id": "1479f863",
   "metadata": {},
   "source": [
    "nombre_infected       393\n",
    "nombre_sain          3874\n",
    "nombre_exposed        346\n",
    "nombre_recovered    15387\n",
    "Name: 154, dtype: int64"
   ]
  },
  {
   "cell_type": "markdown",
   "id": "67a6b1b6",
   "metadata": {},
   "source": [
    "nombre_infected       423\n",
    "nombre_sain          3831\n",
    "nombre_exposed        361\n",
    "nombre_recovered    15385\n",
    "Name: 155, dtype: int64"
   ]
  },
  {
   "cell_type": "markdown",
   "id": "d6f9fec4",
   "metadata": {},
   "source": [
    "nombre_infected       460\n",
    "nombre_sain          3782\n",
    "nombre_exposed        373\n",
    "nombre_recovered    15385\n",
    "Name: 156, dtype: int64"
   ]
  },
  {
   "cell_type": "markdown",
   "id": "4be2aba4",
   "metadata": {},
   "source": [
    "nombre_infected       491\n",
    "nombre_sain          3710\n",
    "nombre_exposed        405\n",
    "nombre_recovered    15394\n",
    "Name: 157, dtype: int64"
   ]
  },
  {
   "cell_type": "markdown",
   "id": "0b64fd38",
   "metadata": {},
   "source": [
    "nombre_infected       518\n",
    "nombre_sain          3657\n",
    "nombre_exposed        418\n",
    "nombre_recovered    15407\n",
    "Name: 158, dtype: int64"
   ]
  },
  {
   "cell_type": "markdown",
   "id": "10c3a767",
   "metadata": {},
   "source": [
    "nombre_infected       540\n",
    "nombre_sain          3583\n",
    "nombre_exposed        442\n",
    "nombre_recovered    15435\n",
    "Name: 159, dtype: int64"
   ]
  },
  {
   "cell_type": "markdown",
   "id": "8936e106",
   "metadata": {},
   "source": [
    "nombre_infected       571\n",
    "nombre_sain          3528\n",
    "nombre_exposed        442\n",
    "nombre_recovered    15459\n",
    "Name: 160, dtype: int64"
   ]
  },
  {
   "cell_type": "markdown",
   "id": "33a75ed3",
   "metadata": {},
   "source": [
    "nombre_infected       592\n",
    "nombre_sain          3469\n",
    "nombre_exposed        443\n",
    "nombre_recovered    15496\n",
    "Name: 161, dtype: int64"
   ]
  },
  {
   "cell_type": "markdown",
   "id": "04fb5e0a",
   "metadata": {},
   "source": [
    "nombre_infected       575\n",
    "nombre_sain          3389\n",
    "nombre_exposed        479\n",
    "nombre_recovered    15557\n",
    "Name: 162, dtype: int64"
   ]
  },
  {
   "cell_type": "markdown",
   "id": "36097838",
   "metadata": {},
   "source": [
    "nombre_infected       608\n",
    "nombre_sain          3291\n",
    "nombre_exposed        524\n",
    "nombre_recovered    15577\n",
    "Name: 163, dtype: int64"
   ]
  },
  {
   "cell_type": "markdown",
   "id": "21bfdbd4",
   "metadata": {},
   "source": [
    "nombre_infected       658\n",
    "nombre_sain          3194\n",
    "nombre_exposed        535\n",
    "nombre_recovered    15613\n",
    "Name: 164, dtype: int64"
   ]
  },
  {
   "cell_type": "markdown",
   "id": "a4db27d1",
   "metadata": {},
   "source": [
    "nombre_infected       697\n",
    "nombre_sain          3105\n",
    "nombre_exposed        533\n",
    "nombre_recovered    15665\n",
    "Name: 165, dtype: int64"
   ]
  },
  {
   "cell_type": "markdown",
   "id": "342a638c",
   "metadata": {},
   "source": [
    "nombre_infected       735\n",
    "nombre_sain          3026\n",
    "nombre_exposed        538\n",
    "nombre_recovered    15701\n",
    "Name: 166, dtype: int64"
   ]
  },
  {
   "cell_type": "markdown",
   "id": "18450e2d",
   "metadata": {},
   "source": [
    "nombre_infected       762\n",
    "nombre_sain          2949\n",
    "nombre_exposed        543\n",
    "nombre_recovered    15746\n",
    "Name: 167, dtype: int64"
   ]
  },
  {
   "cell_type": "markdown",
   "id": "23599d0c",
   "metadata": {},
   "source": [
    "nombre_infected       791\n",
    "nombre_sain          2864\n",
    "nombre_exposed        546\n",
    "nombre_recovered    15799\n",
    "Name: 168, dtype: int64"
   ]
  },
  {
   "cell_type": "markdown",
   "id": "a8c79e9d",
   "metadata": {},
   "source": [
    "nombre_infected       817\n",
    "nombre_sain          2763\n",
    "nombre_exposed        557\n",
    "nombre_recovered    15863\n",
    "Name: 169, dtype: int64"
   ]
  },
  {
   "cell_type": "markdown",
   "id": "37dc71a5",
   "metadata": {},
   "source": [
    "nombre_infected       832\n",
    "nombre_sain          2667\n",
    "nombre_exposed        581\n",
    "nombre_recovered    15920\n",
    "Name: 170, dtype: int64"
   ]
  },
  {
   "cell_type": "markdown",
   "id": "8b04a38a",
   "metadata": {},
   "source": [
    "nombre_infected       874\n",
    "nombre_sain          2585\n",
    "nombre_exposed        585\n",
    "nombre_recovered    15956\n",
    "Name: 171, dtype: int64"
   ]
  },
  {
   "cell_type": "markdown",
   "id": "24eab27e",
   "metadata": {},
   "source": [
    "nombre_infected       900\n",
    "nombre_sain          2482\n",
    "nombre_exposed        592\n",
    "nombre_recovered    16026\n",
    "Name: 172, dtype: int64"
   ]
  },
  {
   "cell_type": "markdown",
   "id": "58255a1f",
   "metadata": {},
   "source": [
    "nombre_infected       934\n",
    "nombre_sain          2404\n",
    "nombre_exposed        585\n",
    "nombre_recovered    16077\n",
    "Name: 173, dtype: int64"
   ]
  },
  {
   "cell_type": "markdown",
   "id": "6725c63c",
   "metadata": {},
   "source": [
    "nombre_infected       940\n",
    "nombre_sain          2326\n",
    "nombre_exposed        566\n",
    "nombre_recovered    16168\n",
    "Name: 174, dtype: int64"
   ]
  },
  {
   "cell_type": "markdown",
   "id": "2db7db46",
   "metadata": {},
   "source": [
    "nombre_infected       958\n",
    "nombre_sain          2251\n",
    "nombre_exposed        551\n",
    "nombre_recovered    16240\n",
    "Name: 175, dtype: int64"
   ]
  },
  {
   "cell_type": "markdown",
   "id": "145070dd",
   "metadata": {},
   "source": [
    "nombre_infected       948\n",
    "nombre_sain          2186\n",
    "nombre_exposed        570\n",
    "nombre_recovered    16296\n",
    "Name: 176, dtype: int64"
   ]
  },
  {
   "cell_type": "markdown",
   "id": "05d80779",
   "metadata": {},
   "source": [
    "nombre_infected       973\n",
    "nombre_sain          2113\n",
    "nombre_exposed        562\n",
    "nombre_recovered    16352\n",
    "Name: 177, dtype: int64"
   ]
  },
  {
   "cell_type": "markdown",
   "id": "772db797",
   "metadata": {},
   "source": [
    "nombre_infected       973\n",
    "nombre_sain          2041\n",
    "nombre_exposed        551\n",
    "nombre_recovered    16435\n",
    "Name: 178, dtype: int64"
   ]
  },
  {
   "cell_type": "markdown",
   "id": "f723da86",
   "metadata": {},
   "source": [
    "nombre_infected       999\n",
    "nombre_sain          2006\n",
    "nombre_exposed        531\n",
    "nombre_recovered    16464\n",
    "Name: 179, dtype: int64"
   ]
  },
  {
   "cell_type": "markdown",
   "id": "dc1af4b8",
   "metadata": {},
   "source": [
    "nombre_infected      1010\n",
    "nombre_sain          1958\n",
    "nombre_exposed        521\n",
    "nombre_recovered    16511\n",
    "Name: 180, dtype: int64"
   ]
  },
  {
   "cell_type": "markdown",
   "id": "1fc00169",
   "metadata": {},
   "source": [
    "nombre_infected       994\n",
    "nombre_sain          1898\n",
    "nombre_exposed        528\n",
    "nombre_recovered    16580\n",
    "Name: 181, dtype: int64"
   ]
  },
  {
   "cell_type": "markdown",
   "id": "10b59bcc",
   "metadata": {},
   "source": [
    "nombre_infected       960\n",
    "nombre_sain          1859\n",
    "nombre_exposed        537\n",
    "nombre_recovered    16644\n",
    "Name: 182, dtype: int64"
   ]
  },
  {
   "cell_type": "markdown",
   "id": "33d97527",
   "metadata": {},
   "source": [
    "nombre_infected       972\n",
    "nombre_sain          1841\n",
    "nombre_exposed        522\n",
    "nombre_recovered    16665\n",
    "Name: 183, dtype: int64"
   ]
  },
  {
   "cell_type": "markdown",
   "id": "9ef55d94",
   "metadata": {},
   "source": [
    "nombre_infected      1005\n",
    "nombre_sain          1828\n",
    "nombre_exposed        484\n",
    "nombre_recovered    16683\n",
    "Name: 184, dtype: int64"
   ]
  },
  {
   "cell_type": "markdown",
   "id": "ca067032",
   "metadata": {},
   "source": [
    "nombre_infected       978\n",
    "nombre_sain          1819\n",
    "nombre_exposed        488\n",
    "nombre_recovered    16715\n",
    "Name: 185, dtype: int64"
   ]
  },
  {
   "cell_type": "markdown",
   "id": "4d25dcc5",
   "metadata": {},
   "source": [
    "nombre_infected       960\n",
    "nombre_sain          1808\n",
    "nombre_exposed        453\n",
    "nombre_recovered    16779\n",
    "Name: 186, dtype: int64"
   ]
  },
  {
   "cell_type": "markdown",
   "id": "08f44d7f",
   "metadata": {},
   "source": [
    "nombre_infected       948\n",
    "nombre_sain          1794\n",
    "nombre_exposed        435\n",
    "nombre_recovered    16823\n",
    "Name: 187, dtype: int64"
   ]
  },
  {
   "cell_type": "markdown",
   "id": "b3683d72",
   "metadata": {},
   "source": [
    "nombre_infected       927\n",
    "nombre_sain          1787\n",
    "nombre_exposed        443\n",
    "nombre_recovered    16843\n",
    "Name: 188, dtype: int64"
   ]
  },
  {
   "cell_type": "markdown",
   "id": "a8b47f55",
   "metadata": {},
   "source": [
    "nombre_infected       914\n",
    "nombre_sain          1764\n",
    "nombre_exposed        447\n",
    "nombre_recovered    16875\n",
    "Name: 189, dtype: int64"
   ]
  },
  {
   "cell_type": "markdown",
   "id": "53f72d42",
   "metadata": {},
   "source": [
    "nombre_infected       885\n",
    "nombre_sain          1750\n",
    "nombre_exposed        465\n",
    "nombre_recovered    16900\n",
    "Name: 190, dtype: int64"
   ]
  },
  {
   "cell_type": "markdown",
   "id": "4599c424",
   "metadata": {},
   "source": [
    "nombre_infected       887\n",
    "nombre_sain          1703\n",
    "nombre_exposed        476\n",
    "nombre_recovered    16934\n",
    "Name: 191, dtype: int64"
   ]
  },
  {
   "cell_type": "markdown",
   "id": "922fed32",
   "metadata": {},
   "source": [
    "nombre_infected       863\n",
    "nombre_sain          1689\n",
    "nombre_exposed        482\n",
    "nombre_recovered    16966\n",
    "Name: 192, dtype: int64"
   ]
  },
  {
   "cell_type": "markdown",
   "id": "346d3693",
   "metadata": {},
   "source": [
    "nombre_infected       868\n",
    "nombre_sain          1680\n",
    "nombre_exposed        446\n",
    "nombre_recovered    17006\n",
    "Name: 193, dtype: int64"
   ]
  },
  {
   "cell_type": "markdown",
   "id": "33e313e5",
   "metadata": {},
   "source": [
    "nombre_infected       851\n",
    "nombre_sain          1662\n",
    "nombre_exposed        454\n",
    "nombre_recovered    17033\n",
    "Name: 194, dtype: int64"
   ]
  },
  {
   "cell_type": "markdown",
   "id": "9be1b3ae",
   "metadata": {},
   "source": [
    "nombre_infected       834\n",
    "nombre_sain          1659\n",
    "nombre_exposed        437\n",
    "nombre_recovered    17070\n",
    "Name: 195, dtype: int64"
   ]
  },
  {
   "cell_type": "markdown",
   "id": "7d4bf6d8",
   "metadata": {},
   "source": [
    "nombre_infected       832\n",
    "nombre_sain          1647\n",
    "nombre_exposed        415\n",
    "nombre_recovered    17106\n",
    "Name: 196, dtype: int64"
   ]
  },
  {
   "cell_type": "markdown",
   "id": "b44313ff",
   "metadata": {},
   "source": [
    "nombre_infected       820\n",
    "nombre_sain          1623\n",
    "nombre_exposed        406\n",
    "nombre_recovered    17151\n",
    "Name: 197, dtype: int64"
   ]
  },
  {
   "cell_type": "markdown",
   "id": "d7d98b10",
   "metadata": {},
   "source": [
    "nombre_infected       791\n",
    "nombre_sain          1606\n",
    "nombre_exposed        410\n",
    "nombre_recovered    17193\n",
    "Name: 198, dtype: int64"
   ]
  },
  {
   "cell_type": "markdown",
   "id": "04ff8504",
   "metadata": {},
   "source": [
    "nombre_infected       800\n",
    "nombre_sain          1605\n",
    "nombre_exposed        376\n",
    "nombre_recovered    17219\n",
    "Name: 199, dtype: int64"
   ]
  },
  {
   "cell_type": "markdown",
   "id": "c4f258dd",
   "metadata": {},
   "source": [
    "nombre_infected       795\n",
    "nombre_sain          1607\n",
    "nombre_exposed        330\n",
    "nombre_recovered    17268\n",
    "Name: 200, dtype: int64"
   ]
  },
  {
   "cell_type": "markdown",
   "id": "89b4ac00",
   "metadata": {},
   "source": [
    "nombre_infected       781\n",
    "nombre_sain          1604\n",
    "nombre_exposed        328\n",
    "nombre_recovered    17287\n",
    "Name: 201, dtype: int64"
   ]
  },
  {
   "cell_type": "markdown",
   "id": "d3f91328",
   "metadata": {},
   "source": [
    "nombre_infected       770\n",
    "nombre_sain          1617\n",
    "nombre_exposed        322\n",
    "nombre_recovered    17291\n",
    "Name: 202, dtype: int64"
   ]
  },
  {
   "cell_type": "markdown",
   "id": "b3e6b5a9",
   "metadata": {},
   "source": [
    "nombre_infected       720\n",
    "nombre_sain          1635\n",
    "nombre_exposed        314\n",
    "nombre_recovered    17331\n",
    "Name: 203, dtype: int64"
   ]
  },
  {
   "cell_type": "markdown",
   "id": "76044bf4",
   "metadata": {},
   "source": [
    "nombre_infected       708\n",
    "nombre_sain          1638\n",
    "nombre_exposed        310\n",
    "nombre_recovered    17344\n",
    "Name: 204, dtype: int64"
   ]
  },
  {
   "cell_type": "markdown",
   "id": "e3d351d1",
   "metadata": {},
   "source": [
    "nombre_infected       704\n",
    "nombre_sain          1654\n",
    "nombre_exposed        296\n",
    "nombre_recovered    17346\n",
    "Name: 205, dtype: int64"
   ]
  },
  {
   "cell_type": "markdown",
   "id": "5fb6d5b5",
   "metadata": {},
   "source": [
    "nombre_infected       684\n",
    "nombre_sain          1675\n",
    "nombre_exposed        299\n",
    "nombre_recovered    17342\n",
    "Name: 206, dtype: int64"
   ]
  },
  {
   "cell_type": "markdown",
   "id": "312f1af8",
   "metadata": {},
   "source": [
    "nombre_infected       659\n",
    "nombre_sain          1700\n",
    "nombre_exposed        300\n",
    "nombre_recovered    17341\n",
    "Name: 207, dtype: int64"
   ]
  },
  {
   "cell_type": "markdown",
   "id": "c4a8366f",
   "metadata": {},
   "source": [
    "nombre_infected       667\n",
    "nombre_sain          1732\n",
    "nombre_exposed        280\n",
    "nombre_recovered    17321\n",
    "Name: 208, dtype: int64"
   ]
  },
  {
   "cell_type": "markdown",
   "id": "d98ca5c8",
   "metadata": {},
   "source": [
    "nombre_infected       650\n",
    "nombre_sain          1744\n",
    "nombre_exposed        286\n",
    "nombre_recovered    17320\n",
    "Name: 209, dtype: int64"
   ]
  },
  {
   "cell_type": "markdown",
   "id": "b6c28652",
   "metadata": {},
   "source": [
    "nombre_infected       632\n",
    "nombre_sain          1777\n",
    "nombre_exposed        286\n",
    "nombre_recovered    17305\n",
    "Name: 210, dtype: int64"
   ]
  },
  {
   "cell_type": "markdown",
   "id": "930da34f",
   "metadata": {},
   "source": [
    "nombre_infected       628\n",
    "nombre_sain          1777\n",
    "nombre_exposed        284\n",
    "nombre_recovered    17311\n",
    "Name: 211, dtype: int64"
   ]
  },
  {
   "cell_type": "markdown",
   "id": "9f649b35",
   "metadata": {},
   "source": [
    "nombre_infected       631\n",
    "nombre_sain          1816\n",
    "nombre_exposed        267\n",
    "nombre_recovered    17286\n",
    "Name: 212, dtype: int64"
   ]
  },
  {
   "cell_type": "markdown",
   "id": "b93cbdf5",
   "metadata": {},
   "source": [
    "nombre_infected       616\n",
    "nombre_sain          1839\n",
    "nombre_exposed        271\n",
    "nombre_recovered    17274\n",
    "Name: 213, dtype: int64"
   ]
  },
  {
   "cell_type": "markdown",
   "id": "d608f457",
   "metadata": {},
   "source": [
    "nombre_infected       604\n",
    "nombre_sain          1851\n",
    "nombre_exposed        291\n",
    "nombre_recovered    17254\n",
    "Name: 214, dtype: int64"
   ]
  },
  {
   "cell_type": "markdown",
   "id": "9d1a56c2",
   "metadata": {},
   "source": [
    "nombre_infected       603\n",
    "nombre_sain          1881\n",
    "nombre_exposed        299\n",
    "nombre_recovered    17217\n",
    "Name: 215, dtype: int64"
   ]
  },
  {
   "cell_type": "markdown",
   "id": "c1bd8e4a",
   "metadata": {},
   "source": [
    "nombre_infected       606\n",
    "nombre_sain          1918\n",
    "nombre_exposed        280\n",
    "nombre_recovered    17196\n",
    "Name: 216, dtype: int64"
   ]
  },
  {
   "cell_type": "markdown",
   "id": "52bbd364",
   "metadata": {},
   "source": [
    "nombre_infected       621\n",
    "nombre_sain          1955\n",
    "nombre_exposed        267\n",
    "nombre_recovered    17157\n",
    "Name: 217, dtype: int64"
   ]
  },
  {
   "cell_type": "markdown",
   "id": "3ec4f9fd",
   "metadata": {},
   "source": [
    "nombre_infected       606\n",
    "nombre_sain          1973\n",
    "nombre_exposed        288\n",
    "nombre_recovered    17133\n",
    "Name: 218, dtype: int64"
   ]
  },
  {
   "cell_type": "markdown",
   "id": "d3f67df4",
   "metadata": {},
   "source": [
    "nombre_infected       598\n",
    "nombre_sain          2020\n",
    "nombre_exposed        282\n",
    "nombre_recovered    17100\n",
    "Name: 219, dtype: int64"
   ]
  },
  {
   "cell_type": "markdown",
   "id": "0e4a86d4",
   "metadata": {},
   "source": [
    "nombre_infected       598\n",
    "nombre_sain          2042\n",
    "nombre_exposed        273\n",
    "nombre_recovered    17087\n",
    "Name: 220, dtype: int64"
   ]
  },
  {
   "cell_type": "markdown",
   "id": "ecf71b32",
   "metadata": {},
   "source": [
    "nombre_infected       586\n",
    "nombre_sain          2080\n",
    "nombre_exposed        276\n",
    "nombre_recovered    17058\n",
    "Name: 221, dtype: int64"
   ]
  },
  {
   "cell_type": "markdown",
   "id": "0657aaf5",
   "metadata": {},
   "source": [
    "nombre_infected       555\n",
    "nombre_sain          2123\n",
    "nombre_exposed        281\n",
    "nombre_recovered    17041\n",
    "Name: 222, dtype: int64"
   ]
  },
  {
   "cell_type": "markdown",
   "id": "c30b535b",
   "metadata": {},
   "source": [
    "nombre_infected       557\n",
    "nombre_sain          2167\n",
    "nombre_exposed        280\n",
    "nombre_recovered    16996\n",
    "Name: 223, dtype: int64"
   ]
  },
  {
   "cell_type": "markdown",
   "id": "63ddfd71",
   "metadata": {},
   "source": [
    "nombre_infected       572\n",
    "nombre_sain          2204\n",
    "nombre_exposed        291\n",
    "nombre_recovered    16933\n",
    "Name: 224, dtype: int64"
   ]
  },
  {
   "cell_type": "markdown",
   "id": "20e81273",
   "metadata": {},
   "source": [
    "nombre_infected       565\n",
    "nombre_sain          2245\n",
    "nombre_exposed        313\n",
    "nombre_recovered    16877\n",
    "Name: 225, dtype: int64"
   ]
  },
  {
   "cell_type": "markdown",
   "id": "dac313b0",
   "metadata": {},
   "source": [
    "nombre_infected       565\n",
    "nombre_sain          2268\n",
    "nombre_exposed        315\n",
    "nombre_recovered    16852\n",
    "Name: 226, dtype: int64"
   ]
  },
  {
   "cell_type": "markdown",
   "id": "0a855a3d",
   "metadata": {},
   "source": [
    "nombre_infected       564\n",
    "nombre_sain          2265\n",
    "nombre_exposed        343\n",
    "nombre_recovered    16828\n",
    "Name: 227, dtype: int64"
   ]
  },
  {
   "cell_type": "markdown",
   "id": "4f2845cb",
   "metadata": {},
   "source": [
    "nombre_infected       572\n",
    "nombre_sain          2283\n",
    "nombre_exposed        338\n",
    "nombre_recovered    16807\n",
    "Name: 228, dtype: int64"
   ]
  },
  {
   "cell_type": "markdown",
   "id": "8b8b346c",
   "metadata": {},
   "source": [
    "nombre_infected       573\n",
    "nombre_sain          2303\n",
    "nombre_exposed        342\n",
    "nombre_recovered    16782\n",
    "Name: 229, dtype: int64"
   ]
  },
  {
   "cell_type": "markdown",
   "id": "a5c52ff5",
   "metadata": {},
   "source": [
    "nombre_infected       574\n",
    "nombre_sain          2320\n",
    "nombre_exposed        335\n",
    "nombre_recovered    16771\n",
    "Name: 230, dtype: int64"
   ]
  },
  {
   "cell_type": "markdown",
   "id": "ed8dcb38",
   "metadata": {},
   "source": [
    "nombre_infected       586\n",
    "nombre_sain          2348\n",
    "nombre_exposed        312\n",
    "nombre_recovered    16754\n",
    "Name: 231, dtype: int64"
   ]
  },
  {
   "cell_type": "markdown",
   "id": "cba81302",
   "metadata": {},
   "source": [
    "nombre_infected       591\n",
    "nombre_sain          2382\n",
    "nombre_exposed        307\n",
    "nombre_recovered    16720\n",
    "Name: 232, dtype: int64"
   ]
  },
  {
   "cell_type": "markdown",
   "id": "9512b875",
   "metadata": {},
   "source": [
    "nombre_infected       585\n",
    "nombre_sain          2396\n",
    "nombre_exposed        310\n",
    "nombre_recovered    16709\n",
    "Name: 233, dtype: int64"
   ]
  },
  {
   "cell_type": "markdown",
   "id": "9eca7ba2",
   "metadata": {},
   "source": [
    "nombre_infected       589\n",
    "nombre_sain          2413\n",
    "nombre_exposed        318\n",
    "nombre_recovered    16680\n",
    "Name: 234, dtype: int64"
   ]
  },
  {
   "cell_type": "markdown",
   "id": "9c1e16fe",
   "metadata": {},
   "source": [
    "nombre_infected       575\n",
    "nombre_sain          2462\n",
    "nombre_exposed        316\n",
    "nombre_recovered    16647\n",
    "Name: 235, dtype: int64"
   ]
  },
  {
   "cell_type": "markdown",
   "id": "a7e00354",
   "metadata": {},
   "source": [
    "nombre_infected       557\n",
    "nombre_sain          2493\n",
    "nombre_exposed        313\n",
    "nombre_recovered    16637\n",
    "Name: 236, dtype: int64"
   ]
  },
  {
   "cell_type": "markdown",
   "id": "69175c7b",
   "metadata": {},
   "source": [
    "nombre_infected       550\n",
    "nombre_sain          2530\n",
    "nombre_exposed        320\n",
    "nombre_recovered    16600\n",
    "Name: 237, dtype: int64"
   ]
  },
  {
   "cell_type": "markdown",
   "id": "7110108b",
   "metadata": {},
   "source": [
    "nombre_infected       563\n",
    "nombre_sain          2542\n",
    "nombre_exposed        337\n",
    "nombre_recovered    16558\n",
    "Name: 238, dtype: int64"
   ]
  },
  {
   "cell_type": "markdown",
   "id": "0d75dc53",
   "metadata": {},
   "source": [
    "nombre_infected       554\n",
    "nombre_sain          2588\n",
    "nombre_exposed        340\n",
    "nombre_recovered    16518\n",
    "Name: 239, dtype: int64"
   ]
  },
  {
   "cell_type": "markdown",
   "id": "ac0abf7d",
   "metadata": {},
   "source": [
    "nombre_infected       573\n",
    "nombre_sain          2625\n",
    "nombre_exposed        329\n",
    "nombre_recovered    16473\n",
    "Name: 240, dtype: int64"
   ]
  },
  {
   "cell_type": "markdown",
   "id": "240dddca",
   "metadata": {},
   "source": [
    "nombre_infected       567\n",
    "nombre_sain          2672\n",
    "nombre_exposed        325\n",
    "nombre_recovered    16436\n",
    "Name: 241, dtype: int64"
   ]
  },
  {
   "cell_type": "markdown",
   "id": "66447e4e",
   "metadata": {},
   "source": [
    "nombre_infected       563\n",
    "nombre_sain          2700\n",
    "nombre_exposed        328\n",
    "nombre_recovered    16409\n",
    "Name: 242, dtype: int64"
   ]
  },
  {
   "cell_type": "markdown",
   "id": "6894ed43",
   "metadata": {},
   "source": [
    "nombre_infected       565\n",
    "nombre_sain          2724\n",
    "nombre_exposed        335\n",
    "nombre_recovered    16376\n",
    "Name: 243, dtype: int64"
   ]
  },
  {
   "cell_type": "markdown",
   "id": "69a3d329",
   "metadata": {},
   "source": [
    "nombre_infected       570\n",
    "nombre_sain          2761\n",
    "nombre_exposed        351\n",
    "nombre_recovered    16318\n",
    "Name: 244, dtype: int64"
   ]
  },
  {
   "cell_type": "markdown",
   "id": "87e3a120",
   "metadata": {},
   "source": [
    "nombre_infected       572\n",
    "nombre_sain          2752\n",
    "nombre_exposed        364\n",
    "nombre_recovered    16312\n",
    "Name: 245, dtype: int64"
   ]
  },
  {
   "cell_type": "markdown",
   "id": "97a20b35",
   "metadata": {},
   "source": [
    "nombre_infected       570\n",
    "nombre_sain          2751\n",
    "nombre_exposed        372\n",
    "nombre_recovered    16307\n",
    "Name: 246, dtype: int64"
   ]
  },
  {
   "cell_type": "markdown",
   "id": "5d1d3e2e",
   "metadata": {},
   "source": [
    "nombre_infected       587\n",
    "nombre_sain          2751\n",
    "nombre_exposed        369\n",
    "nombre_recovered    16293\n",
    "Name: 247, dtype: int64"
   ]
  },
  {
   "cell_type": "markdown",
   "id": "0ff98433",
   "metadata": {},
   "source": [
    "nombre_infected       609\n",
    "nombre_sain          2756\n",
    "nombre_exposed        357\n",
    "nombre_recovered    16278\n",
    "Name: 248, dtype: int64"
   ]
  },
  {
   "cell_type": "markdown",
   "id": "4f90324c",
   "metadata": {},
   "source": [
    "nombre_infected       622\n",
    "nombre_sain          2748\n",
    "nombre_exposed        359\n",
    "nombre_recovered    16271\n",
    "Name: 249, dtype: int64"
   ]
  },
  {
   "cell_type": "markdown",
   "id": "26c35341",
   "metadata": {},
   "source": [
    "nombre_infected       644\n",
    "nombre_sain          2716\n",
    "nombre_exposed        378\n",
    "nombre_recovered    16262\n",
    "Name: 250, dtype: int64"
   ]
  },
  {
   "cell_type": "markdown",
   "id": "83232018",
   "metadata": {},
   "source": [
    "nombre_infected       661\n",
    "nombre_sain          2720\n",
    "nombre_exposed        375\n",
    "nombre_recovered    16244\n",
    "Name: 251, dtype: int64"
   ]
  },
  {
   "cell_type": "markdown",
   "id": "93ba1e78",
   "metadata": {},
   "source": [
    "nombre_infected       693\n",
    "nombre_sain          2674\n",
    "nombre_exposed        390\n",
    "nombre_recovered    16243\n",
    "Name: 252, dtype: int64"
   ]
  },
  {
   "cell_type": "markdown",
   "id": "1ed58630",
   "metadata": {},
   "source": [
    "nombre_infected       681\n",
    "nombre_sain          2679\n",
    "nombre_exposed        403\n",
    "nombre_recovered    16237\n",
    "Name: 253, dtype: int64"
   ]
  },
  {
   "cell_type": "markdown",
   "id": "d8088121",
   "metadata": {},
   "source": [
    "nombre_infected       722\n",
    "nombre_sain          2659\n",
    "nombre_exposed        381\n",
    "nombre_recovered    16238\n",
    "Name: 254, dtype: int64"
   ]
  },
  {
   "cell_type": "markdown",
   "id": "24559448",
   "metadata": {},
   "source": [
    "nombre_infected       737\n",
    "nombre_sain          2639\n",
    "nombre_exposed        393\n",
    "nombre_recovered    16231\n",
    "Name: 255, dtype: int64"
   ]
  },
  {
   "cell_type": "markdown",
   "id": "5bfcc9fe",
   "metadata": {},
   "source": [
    "nombre_infected       745\n",
    "nombre_sain          2594\n",
    "nombre_exposed        429\n",
    "nombre_recovered    16232\n",
    "Name: 256, dtype: int64"
   ]
  },
  {
   "cell_type": "markdown",
   "id": "b93cadde",
   "metadata": {},
   "source": [
    "nombre_infected       759\n",
    "nombre_sain          2560\n",
    "nombre_exposed        438\n",
    "nombre_recovered    16243\n",
    "Name: 257, dtype: int64"
   ]
  },
  {
   "cell_type": "markdown",
   "id": "9b9e41cf",
   "metadata": {},
   "source": [
    "nombre_infected       769\n",
    "nombre_sain          2537\n",
    "nombre_exposed        435\n",
    "nombre_recovered    16259\n",
    "Name: 258, dtype: int64"
   ]
  },
  {
   "cell_type": "markdown",
   "id": "0000fb2a",
   "metadata": {},
   "source": [
    "nombre_infected       783\n",
    "nombre_sain          2488\n",
    "nombre_exposed        449\n",
    "nombre_recovered    16280\n",
    "Name: 259, dtype: int64"
   ]
  },
  {
   "cell_type": "markdown",
   "id": "b52dc740",
   "metadata": {},
   "source": [
    "nombre_infected       821\n",
    "nombre_sain          2459\n",
    "nombre_exposed        453\n",
    "nombre_recovered    16267\n",
    "Name: 260, dtype: int64"
   ]
  },
  {
   "cell_type": "markdown",
   "id": "1b84d164",
   "metadata": {},
   "source": [
    "nombre_infected       858\n",
    "nombre_sain          2417\n",
    "nombre_exposed        457\n",
    "nombre_recovered    16268\n",
    "Name: 261, dtype: int64"
   ]
  },
  {
   "cell_type": "markdown",
   "id": "7713b065",
   "metadata": {},
   "source": [
    "nombre_infected       877\n",
    "nombre_sain          2390\n",
    "nombre_exposed        446\n",
    "nombre_recovered    16287\n",
    "Name: 262, dtype: int64"
   ]
  },
  {
   "cell_type": "markdown",
   "id": "5339b98c",
   "metadata": {},
   "source": [
    "nombre_infected       895\n",
    "nombre_sain          2372\n",
    "nombre_exposed        441\n",
    "nombre_recovered    16292\n",
    "Name: 263, dtype: int64"
   ]
  },
  {
   "cell_type": "markdown",
   "id": "69edf891",
   "metadata": {},
   "source": [
    "nombre_infected       885\n",
    "nombre_sain          2316\n",
    "nombre_exposed        464\n",
    "nombre_recovered    16335\n",
    "Name: 264, dtype: int64"
   ]
  },
  {
   "cell_type": "markdown",
   "id": "52807df9",
   "metadata": {},
   "source": [
    "nombre_infected       879\n",
    "nombre_sain          2268\n",
    "nombre_exposed        479\n",
    "nombre_recovered    16374\n",
    "Name: 265, dtype: int64"
   ]
  },
  {
   "cell_type": "markdown",
   "id": "bcd0beca",
   "metadata": {},
   "source": [
    "nombre_infected       906\n",
    "nombre_sain          2230\n",
    "nombre_exposed        494\n",
    "nombre_recovered    16370\n",
    "Name: 266, dtype: int64"
   ]
  },
  {
   "cell_type": "markdown",
   "id": "ecb74f51",
   "metadata": {},
   "source": [
    "nombre_infected       935\n",
    "nombre_sain          2193\n",
    "nombre_exposed        489\n",
    "nombre_recovered    16383\n",
    "Name: 267, dtype: int64"
   ]
  },
  {
   "cell_type": "markdown",
   "id": "ec935512",
   "metadata": {},
   "source": [
    "nombre_infected       956\n",
    "nombre_sain          2163\n",
    "nombre_exposed        488\n",
    "nombre_recovered    16393\n",
    "Name: 268, dtype: int64"
   ]
  },
  {
   "cell_type": "markdown",
   "id": "2ec98159",
   "metadata": {},
   "source": [
    "nombre_infected       966\n",
    "nombre_sain          2134\n",
    "nombre_exposed        495\n",
    "nombre_recovered    16405\n",
    "Name: 269, dtype: int64"
   ]
  },
  {
   "cell_type": "markdown",
   "id": "aee458ba",
   "metadata": {},
   "source": [
    "nombre_infected       943\n",
    "nombre_sain          2089\n",
    "nombre_exposed        524\n",
    "nombre_recovered    16444\n",
    "Name: 270, dtype: int64"
   ]
  },
  {
   "cell_type": "markdown",
   "id": "2bb24296",
   "metadata": {},
   "source": [
    "nombre_infected       968\n",
    "nombre_sain          2086\n",
    "nombre_exposed        497\n",
    "nombre_recovered    16449\n",
    "Name: 271, dtype: int64"
   ]
  },
  {
   "cell_type": "markdown",
   "id": "3d49a56c",
   "metadata": {},
   "source": [
    "nombre_infected       975\n",
    "nombre_sain          2066\n",
    "nombre_exposed        492\n",
    "nombre_recovered    16467\n",
    "Name: 272, dtype: int64"
   ]
  },
  {
   "cell_type": "markdown",
   "id": "79507de0",
   "metadata": {},
   "source": [
    "nombre_infected       982\n",
    "nombre_sain          2020\n",
    "nombre_exposed        483\n",
    "nombre_recovered    16515\n",
    "Name: 273, dtype: int64"
   ]
  },
  {
   "cell_type": "markdown",
   "id": "e26ca6a9",
   "metadata": {},
   "source": [
    "nombre_infected       969\n",
    "nombre_sain          1988\n",
    "nombre_exposed        495\n",
    "nombre_recovered    16548\n",
    "Name: 274, dtype: int64"
   ]
  },
  {
   "cell_type": "markdown",
   "id": "a4a12a52",
   "metadata": {},
   "source": [
    "nombre_infected       978\n",
    "nombre_sain          1982\n",
    "nombre_exposed        487\n",
    "nombre_recovered    16553\n",
    "Name: 275, dtype: int64"
   ]
  },
  {
   "cell_type": "markdown",
   "id": "44fbe821",
   "metadata": {},
   "source": [
    "nombre_infected       980\n",
    "nombre_sain          1984\n",
    "nombre_exposed        478\n",
    "nombre_recovered    16558\n",
    "Name: 276, dtype: int64"
   ]
  },
  {
   "cell_type": "markdown",
   "id": "620fb0d4",
   "metadata": {},
   "source": [
    "nombre_infected       979\n",
    "nombre_sain          1962\n",
    "nombre_exposed        468\n",
    "nombre_recovered    16591\n",
    "Name: 277, dtype: int64"
   ]
  },
  {
   "cell_type": "markdown",
   "id": "495b1802",
   "metadata": {},
   "source": [
    "nombre_infected       960\n",
    "nombre_sain          1973\n",
    "nombre_exposed        453\n",
    "nombre_recovered    16614\n",
    "Name: 278, dtype: int64"
   ]
  },
  {
   "cell_type": "markdown",
   "id": "c04064e2",
   "metadata": {},
   "source": [
    "nombre_infected       957\n",
    "nombre_sain          1966\n",
    "nombre_exposed        445\n",
    "nombre_recovered    16632\n",
    "Name: 279, dtype: int64"
   ]
  },
  {
   "cell_type": "markdown",
   "id": "32e3953f",
   "metadata": {},
   "source": [
    "nombre_infected       932\n",
    "nombre_sain          1967\n",
    "nombre_exposed        449\n",
    "nombre_recovered    16652\n",
    "Name: 280, dtype: int64"
   ]
  },
  {
   "cell_type": "markdown",
   "id": "ebc0d1e9",
   "metadata": {},
   "source": [
    "nombre_infected       943\n",
    "nombre_sain          1954\n",
    "nombre_exposed        433\n",
    "nombre_recovered    16670\n",
    "Name: 281, dtype: int64"
   ]
  },
  {
   "cell_type": "markdown",
   "id": "0673a87b",
   "metadata": {},
   "source": [
    "nombre_infected       912\n",
    "nombre_sain          1952\n",
    "nombre_exposed        448\n",
    "nombre_recovered    16688\n",
    "Name: 282, dtype: int64"
   ]
  },
  {
   "cell_type": "markdown",
   "id": "c7cb87ae",
   "metadata": {},
   "source": [
    "nombre_infected       906\n",
    "nombre_sain          1961\n",
    "nombre_exposed        452\n",
    "nombre_recovered    16681\n",
    "Name: 283, dtype: int64"
   ]
  },
  {
   "cell_type": "markdown",
   "id": "9fe26952",
   "metadata": {},
   "source": [
    "nombre_infected       886\n",
    "nombre_sain          1950\n",
    "nombre_exposed        449\n",
    "nombre_recovered    16715\n",
    "Name: 284, dtype: int64"
   ]
  },
  {
   "cell_type": "markdown",
   "id": "a24ad26e",
   "metadata": {},
   "source": [
    "nombre_infected       879\n",
    "nombre_sain          1941\n",
    "nombre_exposed        457\n",
    "nombre_recovered    16723\n",
    "Name: 285, dtype: int64"
   ]
  },
  {
   "cell_type": "markdown",
   "id": "bb5eca15",
   "metadata": {},
   "source": [
    "nombre_infected       885\n",
    "nombre_sain          1958\n",
    "nombre_exposed        462\n",
    "nombre_recovered    16695\n",
    "Name: 286, dtype: int64"
   ]
  },
  {
   "cell_type": "markdown",
   "id": "7c8a8255",
   "metadata": {},
   "source": [
    "nombre_infected       890\n",
    "nombre_sain          1977\n",
    "nombre_exposed        456\n",
    "nombre_recovered    16677\n",
    "Name: 287, dtype: int64"
   ]
  },
  {
   "cell_type": "markdown",
   "id": "3a3129ee",
   "metadata": {},
   "source": [
    "nombre_infected       894\n",
    "nombre_sain          1975\n",
    "nombre_exposed        449\n",
    "nombre_recovered    16682\n",
    "Name: 288, dtype: int64"
   ]
  },
  {
   "cell_type": "markdown",
   "id": "22990393",
   "metadata": {},
   "source": [
    "nombre_infected       904\n",
    "nombre_sain          1971\n",
    "nombre_exposed        457\n",
    "nombre_recovered    16668\n",
    "Name: 289, dtype: int64"
   ]
  },
  {
   "cell_type": "markdown",
   "id": "fb8d4088",
   "metadata": {},
   "source": [
    "nombre_infected       878\n",
    "nombre_sain          2002\n",
    "nombre_exposed        462\n",
    "nombre_recovered    16658\n",
    "Name: 290, dtype: int64"
   ]
  },
  {
   "cell_type": "markdown",
   "id": "eb371d02",
   "metadata": {},
   "source": [
    "nombre_infected       898\n",
    "nombre_sain          2011\n",
    "nombre_exposed        445\n",
    "nombre_recovered    16646\n",
    "Name: 291, dtype: int64"
   ]
  },
  {
   "cell_type": "markdown",
   "id": "43611854",
   "metadata": {},
   "source": [
    "nombre_infected       904\n",
    "nombre_sain          2038\n",
    "nombre_exposed        437\n",
    "nombre_recovered    16621\n",
    "Name: 292, dtype: int64"
   ]
  },
  {
   "cell_type": "markdown",
   "id": "5e3789d9",
   "metadata": {},
   "source": [
    "nombre_infected       881\n",
    "nombre_sain          2042\n",
    "nombre_exposed        461\n",
    "nombre_recovered    16616\n",
    "Name: 293, dtype: int64"
   ]
  },
  {
   "cell_type": "markdown",
   "id": "8b4c7836",
   "metadata": {},
   "source": [
    "nombre_infected       865\n",
    "nombre_sain          2045\n",
    "nombre_exposed        472\n",
    "nombre_recovered    16618\n",
    "Name: 294, dtype: int64"
   ]
  },
  {
   "cell_type": "markdown",
   "id": "e760797a",
   "metadata": {},
   "source": [
    "nombre_infected       882\n",
    "nombre_sain          2068\n",
    "nombre_exposed        466\n",
    "nombre_recovered    16584\n",
    "Name: 295, dtype: int64"
   ]
  },
  {
   "cell_type": "markdown",
   "id": "e3c6004e",
   "metadata": {},
   "source": [
    "nombre_infected       884\n",
    "nombre_sain          2094\n",
    "nombre_exposed        461\n",
    "nombre_recovered    16561\n",
    "Name: 296, dtype: int64"
   ]
  },
  {
   "cell_type": "markdown",
   "id": "e0960ea6",
   "metadata": {},
   "source": [
    "nombre_infected       870\n",
    "nombre_sain          2113\n",
    "nombre_exposed        474\n",
    "nombre_recovered    16543\n",
    "Name: 297, dtype: int64"
   ]
  },
  {
   "cell_type": "markdown",
   "id": "eeec1187",
   "metadata": {},
   "source": [
    "nombre_infected       838\n",
    "nombre_sain          2123\n",
    "nombre_exposed        486\n",
    "nombre_recovered    16553\n",
    "Name: 298, dtype: int64"
   ]
  },
  {
   "cell_type": "markdown",
   "id": "9ad77951",
   "metadata": {},
   "source": [
    "nombre_infected       833\n",
    "nombre_sain          2129\n",
    "nombre_exposed        492\n",
    "nombre_recovered    16546\n",
    "Name: 299, dtype: int64"
   ]
  },
  {
   "cell_type": "markdown",
   "id": "072f06fe",
   "metadata": {},
   "source": [
    "nombre_infected       831\n",
    "nombre_sain          2127\n",
    "nombre_exposed        493\n",
    "nombre_recovered    16549\n",
    "Name: 300, dtype: int64"
   ]
  },
  {
   "cell_type": "markdown",
   "id": "71946584",
   "metadata": {},
   "source": [
    "nombre_infected       825\n",
    "nombre_sain          2157\n",
    "nombre_exposed        487\n",
    "nombre_recovered    16531\n",
    "Name: 301, dtype: int64"
   ]
  },
  {
   "cell_type": "markdown",
   "id": "bb5951bc",
   "metadata": {},
   "source": [
    "nombre_infected       857\n",
    "nombre_sain          2181\n",
    "nombre_exposed        476\n",
    "nombre_recovered    16486\n",
    "Name: 302, dtype: int64"
   ]
  },
  {
   "cell_type": "markdown",
   "id": "971e6acf",
   "metadata": {},
   "source": [
    "nombre_infected       866\n",
    "nombre_sain          2198\n",
    "nombre_exposed        463\n",
    "nombre_recovered    16473\n",
    "Name: 303, dtype: int64"
   ]
  },
  {
   "cell_type": "markdown",
   "id": "f91b2496",
   "metadata": {},
   "source": [
    "nombre_infected       862\n",
    "nombre_sain          2173\n",
    "nombre_exposed        476\n",
    "nombre_recovered    16489\n",
    "Name: 304, dtype: int64"
   ]
  },
  {
   "cell_type": "markdown",
   "id": "889df072",
   "metadata": {},
   "source": [
    "nombre_infected       871\n",
    "nombre_sain          2192\n",
    "nombre_exposed        466\n",
    "nombre_recovered    16471\n",
    "Name: 305, dtype: int64"
   ]
  },
  {
   "cell_type": "markdown",
   "id": "1114d976",
   "metadata": {},
   "source": [
    "nombre_infected       850\n",
    "nombre_sain          2208\n",
    "nombre_exposed        473\n",
    "nombre_recovered    16469\n",
    "Name: 306, dtype: int64"
   ]
  },
  {
   "cell_type": "markdown",
   "id": "51a8e712",
   "metadata": {},
   "source": [
    "nombre_infected       843\n",
    "nombre_sain          2198\n",
    "nombre_exposed        507\n",
    "nombre_recovered    16452\n",
    "Name: 307, dtype: int64"
   ]
  },
  {
   "cell_type": "markdown",
   "id": "4469684d",
   "metadata": {},
   "source": [
    "nombre_infected       833\n",
    "nombre_sain          2175\n",
    "nombre_exposed        529\n",
    "nombre_recovered    16463\n",
    "Name: 308, dtype: int64"
   ]
  },
  {
   "cell_type": "markdown",
   "id": "c622908b",
   "metadata": {},
   "source": [
    "nombre_infected       835\n",
    "nombre_sain          2158\n",
    "nombre_exposed        522\n",
    "nombre_recovered    16485\n",
    "Name: 309, dtype: int64"
   ]
  },
  {
   "cell_type": "markdown",
   "id": "47901761",
   "metadata": {},
   "source": [
    "nombre_infected       840\n",
    "nombre_sain          2147\n",
    "nombre_exposed        498\n",
    "nombre_recovered    16515\n",
    "Name: 310, dtype: int64"
   ]
  },
  {
   "cell_type": "markdown",
   "id": "94331dc3",
   "metadata": {},
   "source": [
    "nombre_infected       846\n",
    "nombre_sain          2140\n",
    "nombre_exposed        490\n",
    "nombre_recovered    16524\n",
    "Name: 311, dtype: int64"
   ]
  },
  {
   "cell_type": "markdown",
   "id": "8a00977e",
   "metadata": {},
   "source": [
    "nombre_infected       841\n",
    "nombre_sain          2118\n",
    "nombre_exposed        497\n",
    "nombre_recovered    16544\n",
    "Name: 312, dtype: int64"
   ]
  },
  {
   "cell_type": "markdown",
   "id": "8e5b7cda",
   "metadata": {},
   "source": [
    "nombre_infected       860\n",
    "nombre_sain          2109\n",
    "nombre_exposed        480\n",
    "nombre_recovered    16551\n",
    "Name: 313, dtype: int64"
   ]
  },
  {
   "cell_type": "markdown",
   "id": "007bf26e",
   "metadata": {},
   "source": [
    "nombre_infected       871\n",
    "nombre_sain          2079\n",
    "nombre_exposed        493\n",
    "nombre_recovered    16557\n",
    "Name: 314, dtype: int64"
   ]
  },
  {
   "cell_type": "markdown",
   "id": "872ee613",
   "metadata": {},
   "source": [
    "nombre_infected       878\n",
    "nombre_sain          2060\n",
    "nombre_exposed        498\n",
    "nombre_recovered    16564\n",
    "Name: 315, dtype: int64"
   ]
  },
  {
   "cell_type": "markdown",
   "id": "9fe5c653",
   "metadata": {},
   "source": [
    "nombre_infected       876\n",
    "nombre_sain          2042\n",
    "nombre_exposed        489\n",
    "nombre_recovered    16593\n",
    "Name: 316, dtype: int64"
   ]
  },
  {
   "cell_type": "markdown",
   "id": "a7965b95",
   "metadata": {},
   "source": [
    "nombre_infected       881\n",
    "nombre_sain          2014\n",
    "nombre_exposed        475\n",
    "nombre_recovered    16630\n",
    "Name: 317, dtype: int64"
   ]
  },
  {
   "cell_type": "markdown",
   "id": "85d6e633",
   "metadata": {},
   "source": [
    "nombre_infected       903\n",
    "nombre_sain          2013\n",
    "nombre_exposed        451\n",
    "nombre_recovered    16633\n",
    "Name: 318, dtype: int64"
   ]
  },
  {
   "cell_type": "markdown",
   "id": "ab4dded9",
   "metadata": {},
   "source": [
    "nombre_infected       908\n",
    "nombre_sain          1990\n",
    "nombre_exposed        458\n",
    "nombre_recovered    16644\n",
    "Name: 319, dtype: int64"
   ]
  },
  {
   "cell_type": "markdown",
   "id": "277df24e",
   "metadata": {},
   "source": [
    "nombre_infected       892\n",
    "nombre_sain          1977\n",
    "nombre_exposed        463\n",
    "nombre_recovered    16668\n",
    "Name: 320, dtype: int64"
   ]
  },
  {
   "cell_type": "markdown",
   "id": "daae25dc",
   "metadata": {},
   "source": [
    "nombre_infected       885\n",
    "nombre_sain          1980\n",
    "nombre_exposed        437\n",
    "nombre_recovered    16698\n",
    "Name: 321, dtype: int64"
   ]
  },
  {
   "cell_type": "markdown",
   "id": "aca717e9",
   "metadata": {},
   "source": [
    "nombre_infected       881\n",
    "nombre_sain          1972\n",
    "nombre_exposed        438\n",
    "nombre_recovered    16709\n",
    "Name: 322, dtype: int64"
   ]
  },
  {
   "cell_type": "markdown",
   "id": "e8695f16",
   "metadata": {},
   "source": [
    "nombre_infected       888\n",
    "nombre_sain          1975\n",
    "nombre_exposed        431\n",
    "nombre_recovered    16706\n",
    "Name: 323, dtype: int64"
   ]
  },
  {
   "cell_type": "markdown",
   "id": "59874806",
   "metadata": {},
   "source": [
    "nombre_infected       888\n",
    "nombre_sain          1973\n",
    "nombre_exposed        430\n",
    "nombre_recovered    16709\n",
    "Name: 324, dtype: int64"
   ]
  },
  {
   "cell_type": "markdown",
   "id": "e90a4acc",
   "metadata": {},
   "source": [
    "nombre_infected       873\n",
    "nombre_sain          1952\n",
    "nombre_exposed        427\n",
    "nombre_recovered    16748\n",
    "Name: 325, dtype: int64"
   ]
  },
  {
   "cell_type": "markdown",
   "id": "6e9bdeb9",
   "metadata": {},
   "source": [
    "nombre_infected       871\n",
    "nombre_sain          1935\n",
    "nombre_exposed        421\n",
    "nombre_recovered    16773\n",
    "Name: 326, dtype: int64"
   ]
  },
  {
   "cell_type": "markdown",
   "id": "225f36a6",
   "metadata": {},
   "source": [
    "nombre_infected       863\n",
    "nombre_sain          1947\n",
    "nombre_exposed        403\n",
    "nombre_recovered    16787\n",
    "Name: 327, dtype: int64"
   ]
  },
  {
   "cell_type": "markdown",
   "id": "e8177e9a",
   "metadata": {},
   "source": [
    "nombre_infected       850\n",
    "nombre_sain          1950\n",
    "nombre_exposed        395\n",
    "nombre_recovered    16805\n",
    "Name: 328, dtype: int64"
   ]
  },
  {
   "cell_type": "markdown",
   "id": "c269c369",
   "metadata": {},
   "source": [
    "nombre_infected       823\n",
    "nombre_sain          1935\n",
    "nombre_exposed        403\n",
    "nombre_recovered    16839\n",
    "Name: 329, dtype: int64"
   ]
  },
  {
   "cell_type": "markdown",
   "id": "d073b73f",
   "metadata": {},
   "source": [
    "nombre_infected       811\n",
    "nombre_sain          1946\n",
    "nombre_exposed        404\n",
    "nombre_recovered    16839\n",
    "Name: 330, dtype: int64"
   ]
  },
  {
   "cell_type": "markdown",
   "id": "0f9ee651",
   "metadata": {},
   "source": [
    "nombre_infected       796\n",
    "nombre_sain          1940\n",
    "nombre_exposed        412\n",
    "nombre_recovered    16852\n",
    "Name: 331, dtype: int64"
   ]
  },
  {
   "cell_type": "markdown",
   "id": "cb99c218",
   "metadata": {},
   "source": [
    "nombre_infected       795\n",
    "nombre_sain          1951\n",
    "nombre_exposed        387\n",
    "nombre_recovered    16867\n",
    "Name: 332, dtype: int64"
   ]
  },
  {
   "cell_type": "markdown",
   "id": "34ed2fe3",
   "metadata": {},
   "source": [
    "nombre_infected       774\n",
    "nombre_sain          1962\n",
    "nombre_exposed        371\n",
    "nombre_recovered    16893\n",
    "Name: 333, dtype: int64"
   ]
  },
  {
   "cell_type": "markdown",
   "id": "fbdfa9c7",
   "metadata": {},
   "source": [
    "nombre_infected       763\n",
    "nombre_sain          1972\n",
    "nombre_exposed        362\n",
    "nombre_recovered    16903\n",
    "Name: 334, dtype: int64"
   ]
  },
  {
   "cell_type": "markdown",
   "id": "9c710deb",
   "metadata": {},
   "source": [
    "nombre_infected       745\n",
    "nombre_sain          1984\n",
    "nombre_exposed        344\n",
    "nombre_recovered    16927\n",
    "Name: 335, dtype: int64"
   ]
  },
  {
   "cell_type": "markdown",
   "id": "2055b595",
   "metadata": {},
   "source": [
    "nombre_infected       733\n",
    "nombre_sain          1996\n",
    "nombre_exposed        345\n",
    "nombre_recovered    16926\n",
    "Name: 336, dtype: int64"
   ]
  },
  {
   "cell_type": "markdown",
   "id": "f363ada2",
   "metadata": {},
   "source": [
    "nombre_infected       736\n",
    "nombre_sain          1984\n",
    "nombre_exposed        355\n",
    "nombre_recovered    16925\n",
    "Name: 337, dtype: int64"
   ]
  },
  {
   "cell_type": "markdown",
   "id": "2ddd4e1e",
   "metadata": {},
   "source": [
    "nombre_infected       727\n",
    "nombre_sain          1984\n",
    "nombre_exposed        346\n",
    "nombre_recovered    16943\n",
    "Name: 338, dtype: int64"
   ]
  },
  {
   "cell_type": "markdown",
   "id": "3b860ee5",
   "metadata": {},
   "source": [
    "nombre_infected       719\n",
    "nombre_sain          1988\n",
    "nombre_exposed        340\n",
    "nombre_recovered    16953\n",
    "Name: 339, dtype: int64"
   ]
  },
  {
   "cell_type": "markdown",
   "id": "b6f8d0b1",
   "metadata": {},
   "source": [
    "nombre_infected       728\n",
    "nombre_sain          2014\n",
    "nombre_exposed        332\n",
    "nombre_recovered    16926\n",
    "Name: 340, dtype: int64"
   ]
  },
  {
   "cell_type": "markdown",
   "id": "a512d483",
   "metadata": {},
   "source": [
    "nombre_infected       719\n",
    "nombre_sain          2034\n",
    "nombre_exposed        331\n",
    "nombre_recovered    16916\n",
    "Name: 341, dtype: int64"
   ]
  },
  {
   "cell_type": "markdown",
   "id": "30fca6ba",
   "metadata": {},
   "source": [
    "nombre_infected       702\n",
    "nombre_sain          2067\n",
    "nombre_exposed        330\n",
    "nombre_recovered    16901\n",
    "Name: 342, dtype: int64"
   ]
  },
  {
   "cell_type": "markdown",
   "id": "9e5aa731",
   "metadata": {},
   "source": [
    "nombre_infected       701\n",
    "nombre_sain          2070\n",
    "nombre_exposed        322\n",
    "nombre_recovered    16907\n",
    "Name: 343, dtype: int64"
   ]
  },
  {
   "cell_type": "markdown",
   "id": "b5399e07",
   "metadata": {},
   "source": [
    "nombre_infected       700\n",
    "nombre_sain          2073\n",
    "nombre_exposed        337\n",
    "nombre_recovered    16890\n",
    "Name: 344, dtype: int64"
   ]
  },
  {
   "cell_type": "markdown",
   "id": "a8bdd63a",
   "metadata": {},
   "source": [
    "nombre_infected       675\n",
    "nombre_sain          2086\n",
    "nombre_exposed        337\n",
    "nombre_recovered    16902\n",
    "Name: 345, dtype: int64"
   ]
  },
  {
   "cell_type": "markdown",
   "id": "c3284ec6",
   "metadata": {},
   "source": [
    "nombre_infected       668\n",
    "nombre_sain          2100\n",
    "nombre_exposed        329\n",
    "nombre_recovered    16903\n",
    "Name: 346, dtype: int64"
   ]
  },
  {
   "cell_type": "markdown",
   "id": "adb0a757",
   "metadata": {},
   "source": [
    "nombre_infected       648\n",
    "nombre_sain          2141\n",
    "nombre_exposed        311\n",
    "nombre_recovered    16900\n",
    "Name: 347, dtype: int64"
   ]
  },
  {
   "cell_type": "markdown",
   "id": "61f4cf31",
   "metadata": {},
   "source": [
    "nombre_infected       666\n",
    "nombre_sain          2146\n",
    "nombre_exposed        311\n",
    "nombre_recovered    16877\n",
    "Name: 348, dtype: int64"
   ]
  },
  {
   "cell_type": "markdown",
   "id": "96694ced",
   "metadata": {},
   "source": [
    "nombre_infected       649\n",
    "nombre_sain          2160\n",
    "nombre_exposed        330\n",
    "nombre_recovered    16861\n",
    "Name: 349, dtype: int64"
   ]
  },
  {
   "cell_type": "markdown",
   "id": "29550a6d",
   "metadata": {},
   "source": [
    "nombre_infected       640\n",
    "nombre_sain          2170\n",
    "nombre_exposed        328\n",
    "nombre_recovered    16862\n",
    "Name: 350, dtype: int64"
   ]
  },
  {
   "cell_type": "markdown",
   "id": "e0cf8394",
   "metadata": {},
   "source": [
    "nombre_infected       639\n",
    "nombre_sain          2166\n",
    "nombre_exposed        339\n",
    "nombre_recovered    16856\n",
    "Name: 351, dtype: int64"
   ]
  },
  {
   "cell_type": "markdown",
   "id": "10d52245",
   "metadata": {},
   "source": [
    "nombre_infected       638\n",
    "nombre_sain          2189\n",
    "nombre_exposed        345\n",
    "nombre_recovered    16828\n",
    "Name: 352, dtype: int64"
   ]
  },
  {
   "cell_type": "markdown",
   "id": "57d21e1c",
   "metadata": {},
   "source": [
    "nombre_infected       650\n",
    "nombre_sain          2218\n",
    "nombre_exposed        344\n",
    "nombre_recovered    16788\n",
    "Name: 353, dtype: int64"
   ]
  },
  {
   "cell_type": "markdown",
   "id": "175dcdd6",
   "metadata": {},
   "source": [
    "nombre_infected       652\n",
    "nombre_sain          2249\n",
    "nombre_exposed        318\n",
    "nombre_recovered    16781\n",
    "Name: 354, dtype: int64"
   ]
  },
  {
   "cell_type": "markdown",
   "id": "e5536ce8",
   "metadata": {},
   "source": [
    "nombre_infected       628\n",
    "nombre_sain          2276\n",
    "nombre_exposed        314\n",
    "nombre_recovered    16782\n",
    "Name: 355, dtype: int64"
   ]
  },
  {
   "cell_type": "markdown",
   "id": "17a4a062",
   "metadata": {},
   "source": [
    "nombre_infected       632\n",
    "nombre_sain          2292\n",
    "nombre_exposed        326\n",
    "nombre_recovered    16750\n",
    "Name: 356, dtype: int64"
   ]
  },
  {
   "cell_type": "markdown",
   "id": "303ceaeb",
   "metadata": {},
   "source": [
    "nombre_infected       618\n",
    "nombre_sain          2302\n",
    "nombre_exposed        344\n",
    "nombre_recovered    16736\n",
    "Name: 357, dtype: int64"
   ]
  },
  {
   "cell_type": "markdown",
   "id": "91ab1e47",
   "metadata": {},
   "source": [
    "nombre_infected       626\n",
    "nombre_sain          2322\n",
    "nombre_exposed        341\n",
    "nombre_recovered    16711\n",
    "Name: 358, dtype: int64"
   ]
  },
  {
   "cell_type": "markdown",
   "id": "5131e88b",
   "metadata": {},
   "source": [
    "nombre_infected       625\n",
    "nombre_sain          2342\n",
    "nombre_exposed        352\n",
    "nombre_recovered    16681\n",
    "Name: 359, dtype: int64"
   ]
  },
  {
   "cell_type": "markdown",
   "id": "a92e585f",
   "metadata": {},
   "source": [
    "nombre_infected       613\n",
    "nombre_sain          2354\n",
    "nombre_exposed        368\n",
    "nombre_recovered    16665\n",
    "Name: 360, dtype: int64"
   ]
  },
  {
   "cell_type": "markdown",
   "id": "ce1f9d19",
   "metadata": {},
   "source": [
    "nombre_infected       610\n",
    "nombre_sain          2373\n",
    "nombre_exposed        363\n",
    "nombre_recovered    16654\n",
    "Name: 361, dtype: int64"
   ]
  },
  {
   "cell_type": "markdown",
   "id": "8e3575c4",
   "metadata": {},
   "source": [
    "nombre_infected       637\n",
    "nombre_sain          2397\n",
    "nombre_exposed        351\n",
    "nombre_recovered    16615\n",
    "Name: 362, dtype: int64"
   ]
  },
  {
   "cell_type": "markdown",
   "id": "ac5d92ff",
   "metadata": {},
   "source": [
    "nombre_infected       641\n",
    "nombre_sain          2404\n",
    "nombre_exposed        378\n",
    "nombre_recovered    16577\n",
    "Name: 363, dtype: int64"
   ]
  },
  {
   "cell_type": "markdown",
   "id": "6a406cd2",
   "metadata": {},
   "source": [
    "nombre_infected       652\n",
    "nombre_sain          2443\n",
    "nombre_exposed        370\n",
    "nombre_recovered    16535\n",
    "Name: 364, dtype: int64"
   ]
  },
  {
   "cell_type": "markdown",
   "id": "4d181599",
   "metadata": {},
   "source": [
    "nombre_infected       643\n",
    "nombre_sain          2446\n",
    "nombre_exposed        379\n",
    "nombre_recovered    16532\n",
    "Name: 365, dtype: int64"
   ]
  },
  {
   "cell_type": "markdown",
   "id": "20a8ab00",
   "metadata": {},
   "source": [
    "nombre_infected       647\n",
    "nombre_sain          2484\n",
    "nombre_exposed        366\n",
    "nombre_recovered    16503\n",
    "Name: 366, dtype: int64"
   ]
  },
  {
   "cell_type": "markdown",
   "id": "0d2fb824",
   "metadata": {},
   "source": [
    "nombre_infected       668\n",
    "nombre_sain          2471\n",
    "nombre_exposed        392\n",
    "nombre_recovered    16469\n",
    "Name: 367, dtype: int64"
   ]
  },
  {
   "cell_type": "markdown",
   "id": "84798107",
   "metadata": {},
   "source": [
    "nombre_infected       653\n",
    "nombre_sain          2509\n",
    "nombre_exposed        389\n",
    "nombre_recovered    16449\n",
    "Name: 368, dtype: int64"
   ]
  },
  {
   "cell_type": "markdown",
   "id": "c0f3586d",
   "metadata": {},
   "source": [
    "nombre_infected       653\n",
    "nombre_sain          2535\n",
    "nombre_exposed        390\n",
    "nombre_recovered    16422\n",
    "Name: 369, dtype: int64"
   ]
  },
  {
   "cell_type": "markdown",
   "id": "dd6ca43c",
   "metadata": {},
   "source": [
    "nombre_infected       654\n",
    "nombre_sain          2543\n",
    "nombre_exposed        394\n",
    "nombre_recovered    16409\n",
    "Name: 370, dtype: int64"
   ]
  },
  {
   "cell_type": "markdown",
   "id": "40af196d",
   "metadata": {},
   "source": [
    "nombre_infected       681\n",
    "nombre_sain          2556\n",
    "nombre_exposed        385\n",
    "nombre_recovered    16378\n",
    "Name: 371, dtype: int64"
   ]
  },
  {
   "cell_type": "markdown",
   "id": "0104eb98",
   "metadata": {},
   "source": [
    "nombre_infected       669\n",
    "nombre_sain          2556\n",
    "nombre_exposed        392\n",
    "nombre_recovered    16383\n",
    "Name: 372, dtype: int64"
   ]
  },
  {
   "cell_type": "markdown",
   "id": "d30960af",
   "metadata": {},
   "source": [
    "nombre_infected       654\n",
    "nombre_sain          2564\n",
    "nombre_exposed        420\n",
    "nombre_recovered    16362\n",
    "Name: 373, dtype: int64"
   ]
  },
  {
   "cell_type": "markdown",
   "id": "4a5c0636",
   "metadata": {},
   "source": [
    "nombre_infected       677\n",
    "nombre_sain          2570\n",
    "nombre_exposed        419\n",
    "nombre_recovered    16334\n",
    "Name: 374, dtype: int64"
   ]
  },
  {
   "cell_type": "markdown",
   "id": "b8d9a6bf",
   "metadata": {},
   "source": [
    "nombre_infected       679\n",
    "nombre_sain          2561\n",
    "nombre_exposed        453\n",
    "nombre_recovered    16307\n",
    "Name: 375, dtype: int64"
   ]
  },
  {
   "cell_type": "markdown",
   "id": "38c283fe",
   "metadata": {},
   "source": [
    "nombre_infected       704\n",
    "nombre_sain          2565\n",
    "nombre_exposed        474\n",
    "nombre_recovered    16257\n",
    "Name: 376, dtype: int64"
   ]
  },
  {
   "cell_type": "markdown",
   "id": "10800384",
   "metadata": {},
   "source": [
    "nombre_infected       713\n",
    "nombre_sain          2550\n",
    "nombre_exposed        498\n",
    "nombre_recovered    16239\n",
    "Name: 377, dtype: int64"
   ]
  },
  {
   "cell_type": "markdown",
   "id": "7918733d",
   "metadata": {},
   "source": [
    "nombre_infected       720\n",
    "nombre_sain          2535\n",
    "nombre_exposed        516\n",
    "nombre_recovered    16229\n",
    "Name: 378, dtype: int64"
   ]
  },
  {
   "cell_type": "markdown",
   "id": "92d9a393",
   "metadata": {},
   "source": [
    "nombre_infected       739\n",
    "nombre_sain          2512\n",
    "nombre_exposed        528\n",
    "nombre_recovered    16221\n",
    "Name: 379, dtype: int64"
   ]
  },
  {
   "cell_type": "markdown",
   "id": "4433c0d7",
   "metadata": {},
   "source": [
    "nombre_infected       765\n",
    "nombre_sain          2512\n",
    "nombre_exposed        519\n",
    "nombre_recovered    16204\n",
    "Name: 380, dtype: int64"
   ]
  },
  {
   "cell_type": "markdown",
   "id": "7b44d086",
   "metadata": {},
   "source": [
    "nombre_infected       799\n",
    "nombre_sain          2505\n",
    "nombre_exposed        514\n",
    "nombre_recovered    16182\n",
    "Name: 381, dtype: int64"
   ]
  },
  {
   "cell_type": "markdown",
   "id": "660e6f54",
   "metadata": {},
   "source": [
    "nombre_infected       791\n",
    "nombre_sain          2491\n",
    "nombre_exposed        545\n",
    "nombre_recovered    16173\n",
    "Name: 382, dtype: int64"
   ]
  },
  {
   "cell_type": "markdown",
   "id": "c65399f2",
   "metadata": {},
   "source": [
    "nombre_infected       826\n",
    "nombre_sain          2480\n",
    "nombre_exposed        540\n",
    "nombre_recovered    16154\n",
    "Name: 383, dtype: int64"
   ]
  },
  {
   "cell_type": "markdown",
   "id": "4869c240",
   "metadata": {},
   "source": [
    "nombre_infected       860\n",
    "nombre_sain          2467\n",
    "nombre_exposed        539\n",
    "nombre_recovered    16134\n",
    "Name: 384, dtype: int64"
   ]
  },
  {
   "cell_type": "markdown",
   "id": "adcca24e",
   "metadata": {},
   "source": [
    "nombre_infected       886\n",
    "nombre_sain          2457\n",
    "nombre_exposed        539\n",
    "nombre_recovered    16118\n",
    "Name: 385, dtype: int64"
   ]
  },
  {
   "cell_type": "markdown",
   "id": "10818192",
   "metadata": {},
   "source": [
    "nombre_infected       873\n",
    "nombre_sain          2446\n",
    "nombre_exposed        542\n",
    "nombre_recovered    16139\n",
    "Name: 386, dtype: int64"
   ]
  },
  {
   "cell_type": "markdown",
   "id": "922c47e7",
   "metadata": {},
   "source": [
    "nombre_infected       880\n",
    "nombre_sain          2414\n",
    "nombre_exposed        545\n",
    "nombre_recovered    16161\n",
    "Name: 387, dtype: int64"
   ]
  },
  {
   "cell_type": "markdown",
   "id": "db65d69e",
   "metadata": {},
   "source": [
    "nombre_infected       868\n",
    "nombre_sain          2400\n",
    "nombre_exposed        539\n",
    "nombre_recovered    16193\n",
    "Name: 388, dtype: int64"
   ]
  },
  {
   "cell_type": "markdown",
   "id": "701f40bf",
   "metadata": {},
   "source": [
    "nombre_infected       896\n",
    "nombre_sain          2361\n",
    "nombre_exposed        524\n",
    "nombre_recovered    16219\n",
    "Name: 389, dtype: int64"
   ]
  },
  {
   "cell_type": "markdown",
   "id": "cb8fe671",
   "metadata": {},
   "source": [
    "nombre_infected       887\n",
    "nombre_sain          2301\n",
    "nombre_exposed        558\n",
    "nombre_recovered    16254\n",
    "Name: 390, dtype: int64"
   ]
  },
  {
   "cell_type": "markdown",
   "id": "d721808c",
   "metadata": {},
   "source": [
    "nombre_infected       878\n",
    "nombre_sain          2266\n",
    "nombre_exposed        581\n",
    "nombre_recovered    16275\n",
    "Name: 391, dtype: int64"
   ]
  },
  {
   "cell_type": "markdown",
   "id": "0a13c5b1",
   "metadata": {},
   "source": [
    "nombre_infected       885\n",
    "nombre_sain          2262\n",
    "nombre_exposed        575\n",
    "nombre_recovered    16278\n",
    "Name: 392, dtype: int64"
   ]
  },
  {
   "cell_type": "markdown",
   "id": "0ffbf73f",
   "metadata": {},
   "source": [
    "nombre_infected       896\n",
    "nombre_sain          2267\n",
    "nombre_exposed        542\n",
    "nombre_recovered    16295\n",
    "Name: 393, dtype: int64"
   ]
  },
  {
   "cell_type": "markdown",
   "id": "d2db4516",
   "metadata": {},
   "source": [
    "nombre_infected       913\n",
    "nombre_sain          2241\n",
    "nombre_exposed        546\n",
    "nombre_recovered    16300\n",
    "Name: 394, dtype: int64"
   ]
  },
  {
   "cell_type": "markdown",
   "id": "ac7d6997",
   "metadata": {},
   "source": [
    "nombre_infected       930\n",
    "nombre_sain          2229\n",
    "nombre_exposed        544\n",
    "nombre_recovered    16297\n",
    "Name: 395, dtype: int64"
   ]
  },
  {
   "cell_type": "markdown",
   "id": "5390b0f3",
   "metadata": {},
   "source": [
    "nombre_infected       940\n",
    "nombre_sain          2220\n",
    "nombre_exposed        521\n",
    "nombre_recovered    16319\n",
    "Name: 396, dtype: int64"
   ]
  },
  {
   "cell_type": "markdown",
   "id": "30436f72",
   "metadata": {},
   "source": [
    "nombre_infected       926\n",
    "nombre_sain          2181\n",
    "nombre_exposed        549\n",
    "nombre_recovered    16344\n",
    "Name: 397, dtype: int64"
   ]
  },
  {
   "cell_type": "markdown",
   "id": "ab466ac5",
   "metadata": {},
   "source": [
    "nombre_infected       930\n",
    "nombre_sain          2161\n",
    "nombre_exposed        537\n",
    "nombre_recovered    16372\n",
    "Name: 398, dtype: int64"
   ]
  },
  {
   "cell_type": "markdown",
   "id": "e19ce0e1",
   "metadata": {},
   "source": [
    "nombre_infected       951\n",
    "nombre_sain          2150\n",
    "nombre_exposed        516\n",
    "nombre_recovered    16383\n",
    "Name: 399, dtype: int64"
   ]
  },
  {
   "cell_type": "markdown",
   "id": "e840100a",
   "metadata": {},
   "source": [
    "nombre_infected       920\n",
    "nombre_sain          2113\n",
    "nombre_exposed        536\n",
    "nombre_recovered    16431\n",
    "Name: 400, dtype: int64"
   ]
  },
  {
   "cell_type": "markdown",
   "id": "af3029c9",
   "metadata": {},
   "source": [
    "nombre_infected       938\n",
    "nombre_sain          2093\n",
    "nombre_exposed        503\n",
    "nombre_recovered    16466\n",
    "Name: 401, dtype: int64"
   ]
  },
  {
   "cell_type": "markdown",
   "id": "a16ec5b8",
   "metadata": {},
   "source": [
    "nombre_infected       940\n",
    "nombre_sain          2035\n",
    "nombre_exposed        511\n",
    "nombre_recovered    16514\n",
    "Name: 402, dtype: int64"
   ]
  },
  {
   "cell_type": "markdown",
   "id": "a073f427",
   "metadata": {},
   "source": [
    "nombre_infected       911\n",
    "nombre_sain          1995\n",
    "nombre_exposed        542\n",
    "nombre_recovered    16552\n",
    "Name: 403, dtype: int64"
   ]
  },
  {
   "cell_type": "markdown",
   "id": "bf20808c",
   "metadata": {},
   "source": [
    "nombre_infected       888\n",
    "nombre_sain          1988\n",
    "nombre_exposed        532\n",
    "nombre_recovered    16592\n",
    "Name: 404, dtype: int64"
   ]
  },
  {
   "cell_type": "markdown",
   "id": "3f834fd1",
   "metadata": {},
   "source": [
    "nombre_infected       918\n",
    "nombre_sain          1984\n",
    "nombre_exposed        491\n",
    "nombre_recovered    16607\n",
    "Name: 405, dtype: int64"
   ]
  },
  {
   "cell_type": "markdown",
   "id": "0aa74662",
   "metadata": {},
   "source": [
    "nombre_infected       925\n",
    "nombre_sain          1954\n",
    "nombre_exposed        491\n",
    "nombre_recovered    16630\n",
    "Name: 406, dtype: int64"
   ]
  },
  {
   "cell_type": "markdown",
   "id": "4b612bca",
   "metadata": {},
   "source": [
    "nombre_infected       909\n",
    "nombre_sain          1926\n",
    "nombre_exposed        505\n",
    "nombre_recovered    16660\n",
    "Name: 407, dtype: int64"
   ]
  },
  {
   "cell_type": "markdown",
   "id": "aec6dbdd",
   "metadata": {},
   "source": [
    "nombre_infected       904\n",
    "nombre_sain          1945\n",
    "nombre_exposed        462\n",
    "nombre_recovered    16689\n",
    "Name: 408, dtype: int64"
   ]
  },
  {
   "cell_type": "markdown",
   "id": "757d9a17",
   "metadata": {},
   "source": [
    "nombre_infected       926\n",
    "nombre_sain          1921\n",
    "nombre_exposed        456\n",
    "nombre_recovered    16697\n",
    "Name: 409, dtype: int64"
   ]
  },
  {
   "cell_type": "markdown",
   "id": "20d49406",
   "metadata": {},
   "source": [
    "nombre_infected       918\n",
    "nombre_sain          1905\n",
    "nombre_exposed        461\n",
    "nombre_recovered    16716\n",
    "Name: 410, dtype: int64"
   ]
  },
  {
   "cell_type": "markdown",
   "id": "8196c615",
   "metadata": {},
   "source": [
    "nombre_infected       896\n",
    "nombre_sain          1911\n",
    "nombre_exposed        451\n",
    "nombre_recovered    16742\n",
    "Name: 411, dtype: int64"
   ]
  },
  {
   "cell_type": "markdown",
   "id": "c65b4b0c",
   "metadata": {},
   "source": [
    "nombre_infected       872\n",
    "nombre_sain          1921\n",
    "nombre_exposed        442\n",
    "nombre_recovered    16765\n",
    "Name: 412, dtype: int64"
   ]
  },
  {
   "cell_type": "markdown",
   "id": "8978d938",
   "metadata": {},
   "source": [
    "nombre_infected       854\n",
    "nombre_sain          1892\n",
    "nombre_exposed        448\n",
    "nombre_recovered    16806\n",
    "Name: 413, dtype: int64"
   ]
  },
  {
   "cell_type": "markdown",
   "id": "18b1d3bd",
   "metadata": {},
   "source": [
    "nombre_infected       839\n",
    "nombre_sain          1920\n",
    "nombre_exposed        437\n",
    "nombre_recovered    16804\n",
    "Name: 414, dtype: int64"
   ]
  },
  {
   "cell_type": "markdown",
   "id": "500a6068",
   "metadata": {},
   "source": [
    "nombre_infected       805\n",
    "nombre_sain          1938\n",
    "nombre_exposed        421\n",
    "nombre_recovered    16836\n",
    "Name: 415, dtype: int64"
   ]
  },
  {
   "cell_type": "markdown",
   "id": "b3bda194",
   "metadata": {},
   "source": [
    "nombre_infected       806\n",
    "nombre_sain          1948\n",
    "nombre_exposed        406\n",
    "nombre_recovered    16840\n",
    "Name: 416, dtype: int64"
   ]
  },
  {
   "cell_type": "markdown",
   "id": "8122720d",
   "metadata": {},
   "source": [
    "nombre_infected       774\n",
    "nombre_sain          1988\n",
    "nombre_exposed        389\n",
    "nombre_recovered    16849\n",
    "Name: 417, dtype: int64"
   ]
  },
  {
   "cell_type": "markdown",
   "id": "f48c9828",
   "metadata": {},
   "source": [
    "nombre_infected       780\n",
    "nombre_sain          1996\n",
    "nombre_exposed        386\n",
    "nombre_recovered    16838\n",
    "Name: 418, dtype: int64"
   ]
  },
  {
   "cell_type": "markdown",
   "id": "de8c69f4",
   "metadata": {},
   "source": [
    "nombre_infected       772\n",
    "nombre_sain          1991\n",
    "nombre_exposed        392\n",
    "nombre_recovered    16845\n",
    "Name: 419, dtype: int64"
   ]
  },
  {
   "cell_type": "markdown",
   "id": "c2b7b915",
   "metadata": {},
   "source": [
    "nombre_infected       741\n",
    "nombre_sain          1991\n",
    "nombre_exposed        397\n",
    "nombre_recovered    16871\n",
    "Name: 420, dtype: int64"
   ]
  },
  {
   "cell_type": "markdown",
   "id": "257a0309",
   "metadata": {},
   "source": [
    "nombre_infected       757\n",
    "nombre_sain          1973\n",
    "nombre_exposed        405\n",
    "nombre_recovered    16865\n",
    "Name: 421, dtype: int64"
   ]
  },
  {
   "cell_type": "markdown",
   "id": "17992236",
   "metadata": {},
   "source": [
    "nombre_infected       743\n",
    "nombre_sain          2003\n",
    "nombre_exposed        376\n",
    "nombre_recovered    16878\n",
    "Name: 422, dtype: int64"
   ]
  },
  {
   "cell_type": "markdown",
   "id": "878a1b49",
   "metadata": {},
   "source": [
    "nombre_infected       726\n",
    "nombre_sain          2021\n",
    "nombre_exposed        372\n",
    "nombre_recovered    16881\n",
    "Name: 423, dtype: int64"
   ]
  },
  {
   "cell_type": "markdown",
   "id": "07d2db26",
   "metadata": {},
   "source": [
    "nombre_infected       719\n",
    "nombre_sain          2030\n",
    "nombre_exposed        371\n",
    "nombre_recovered    16880\n",
    "Name: 424, dtype: int64"
   ]
  },
  {
   "cell_type": "markdown",
   "id": "16117f00",
   "metadata": {},
   "source": [
    "nombre_infected       721\n",
    "nombre_sain          2049\n",
    "nombre_exposed        365\n",
    "nombre_recovered    16865\n",
    "Name: 425, dtype: int64"
   ]
  },
  {
   "cell_type": "markdown",
   "id": "2c7550c6",
   "metadata": {},
   "source": [
    "nombre_infected       710\n",
    "nombre_sain          2072\n",
    "nombre_exposed        359\n",
    "nombre_recovered    16859\n",
    "Name: 426, dtype: int64"
   ]
  },
  {
   "cell_type": "markdown",
   "id": "7fe2e900",
   "metadata": {},
   "source": [
    "nombre_infected       696\n",
    "nombre_sain          2080\n",
    "nombre_exposed        364\n",
    "nombre_recovered    16860\n",
    "Name: 427, dtype: int64"
   ]
  },
  {
   "cell_type": "markdown",
   "id": "e9567a4f",
   "metadata": {},
   "source": [
    "nombre_infected       705\n",
    "nombre_sain          2081\n",
    "nombre_exposed        354\n",
    "nombre_recovered    16860\n",
    "Name: 428, dtype: int64"
   ]
  },
  {
   "cell_type": "markdown",
   "id": "b3eb0733",
   "metadata": {},
   "source": [
    "nombre_infected       686\n",
    "nombre_sain          2085\n",
    "nombre_exposed        352\n",
    "nombre_recovered    16877\n",
    "Name: 429, dtype: int64"
   ]
  },
  {
   "cell_type": "markdown",
   "id": "a029ef98",
   "metadata": {},
   "source": [
    "nombre_infected       677\n",
    "nombre_sain          2123\n",
    "nombre_exposed        342\n",
    "nombre_recovered    16858\n",
    "Name: 430, dtype: int64"
   ]
  },
  {
   "cell_type": "markdown",
   "id": "8acf4ade",
   "metadata": {},
   "source": [
    "nombre_infected       679\n",
    "nombre_sain          2124\n",
    "nombre_exposed        337\n",
    "nombre_recovered    16860\n",
    "Name: 431, dtype: int64"
   ]
  },
  {
   "cell_type": "markdown",
   "id": "aa2e35ce",
   "metadata": {},
   "source": [
    "nombre_infected       657\n",
    "nombre_sain          2138\n",
    "nombre_exposed        345\n",
    "nombre_recovered    16860\n",
    "Name: 432, dtype: int64"
   ]
  },
  {
   "cell_type": "markdown",
   "id": "5cc47e6b",
   "metadata": {},
   "source": [
    "nombre_infected       659\n",
    "nombre_sain          2152\n",
    "nombre_exposed        348\n",
    "nombre_recovered    16841\n",
    "Name: 433, dtype: int64"
   ]
  },
  {
   "cell_type": "markdown",
   "id": "9617e3de",
   "metadata": {},
   "source": [
    "nombre_infected       651\n",
    "nombre_sain          2194\n",
    "nombre_exposed        346\n",
    "nombre_recovered    16809\n",
    "Name: 434, dtype: int64"
   ]
  },
  {
   "cell_type": "markdown",
   "id": "deb0f01b",
   "metadata": {},
   "source": [
    "nombre_infected       631\n",
    "nombre_sain          2231\n",
    "nombre_exposed        339\n",
    "nombre_recovered    16799\n",
    "Name: 435, dtype: int64"
   ]
  },
  {
   "cell_type": "markdown",
   "id": "7f05ba48",
   "metadata": {},
   "source": [
    "nombre_infected       623\n",
    "nombre_sain          2257\n",
    "nombre_exposed        349\n",
    "nombre_recovered    16771\n",
    "Name: 436, dtype: int64"
   ]
  },
  {
   "cell_type": "markdown",
   "id": "8682bacd",
   "metadata": {},
   "source": [
    "nombre_infected       603\n",
    "nombre_sain          2284\n",
    "nombre_exposed        373\n",
    "nombre_recovered    16740\n",
    "Name: 437, dtype: int64"
   ]
  },
  {
   "cell_type": "markdown",
   "id": "a6592763",
   "metadata": {},
   "source": [
    "nombre_infected       612\n",
    "nombre_sain          2305\n",
    "nombre_exposed        368\n",
    "nombre_recovered    16715\n",
    "Name: 438, dtype: int64"
   ]
  },
  {
   "cell_type": "markdown",
   "id": "e6fe8db1",
   "metadata": {},
   "source": [
    "nombre_infected       629\n",
    "nombre_sain          2336\n",
    "nombre_exposed        354\n",
    "nombre_recovered    16681\n",
    "Name: 439, dtype: int64"
   ]
  },
  {
   "cell_type": "markdown",
   "id": "bfad0fb6",
   "metadata": {},
   "source": [
    "nombre_infected       633\n",
    "nombre_sain          2340\n",
    "nombre_exposed        348\n",
    "nombre_recovered    16679\n",
    "Name: 440, dtype: int64"
   ]
  },
  {
   "cell_type": "markdown",
   "id": "52c939aa",
   "metadata": {},
   "source": [
    "nombre_infected       627\n",
    "nombre_sain          2332\n",
    "nombre_exposed        349\n",
    "nombre_recovered    16692\n",
    "Name: 441, dtype: int64"
   ]
  },
  {
   "cell_type": "markdown",
   "id": "5a616c59",
   "metadata": {},
   "source": [
    "nombre_infected       607\n",
    "nombre_sain          2347\n",
    "nombre_exposed        353\n",
    "nombre_recovered    16693\n",
    "Name: 442, dtype: int64"
   ]
  },
  {
   "cell_type": "markdown",
   "id": "0620d7b1",
   "metadata": {},
   "source": [
    "nombre_infected       613\n",
    "nombre_sain          2350\n",
    "nombre_exposed        342\n",
    "nombre_recovered    16695\n",
    "Name: 443, dtype: int64"
   ]
  },
  {
   "cell_type": "markdown",
   "id": "9efc7428",
   "metadata": {},
   "source": [
    "nombre_infected       628\n",
    "nombre_sain          2355\n",
    "nombre_exposed        338\n",
    "nombre_recovered    16679\n",
    "Name: 444, dtype: int64"
   ]
  },
  {
   "cell_type": "markdown",
   "id": "fbc111be",
   "metadata": {},
   "source": [
    "nombre_infected       607\n",
    "nombre_sain          2362\n",
    "nombre_exposed        350\n",
    "nombre_recovered    16681\n",
    "Name: 445, dtype: int64"
   ]
  },
  {
   "cell_type": "markdown",
   "id": "f0a34892",
   "metadata": {},
   "source": [
    "nombre_infected       594\n",
    "nombre_sain          2368\n",
    "nombre_exposed        360\n",
    "nombre_recovered    16678\n",
    "Name: 446, dtype: int64"
   ]
  },
  {
   "cell_type": "markdown",
   "id": "205affc9",
   "metadata": {},
   "source": [
    "nombre_infected       591\n",
    "nombre_sain          2413\n",
    "nombre_exposed        331\n",
    "nombre_recovered    16665\n",
    "Name: 447, dtype: int64"
   ]
  },
  {
   "cell_type": "markdown",
   "id": "a55e54e9",
   "metadata": {},
   "source": [
    "nombre_infected       617\n",
    "nombre_sain          2421\n",
    "nombre_exposed        328\n",
    "nombre_recovered    16634\n",
    "Name: 448, dtype: int64"
   ]
  },
  {
   "cell_type": "markdown",
   "id": "8ce8a734",
   "metadata": {},
   "source": [
    "nombre_infected       591\n",
    "nombre_sain          2407\n",
    "nombre_exposed        348\n",
    "nombre_recovered    16654\n",
    "Name: 449, dtype: int64"
   ]
  },
  {
   "cell_type": "markdown",
   "id": "b6f4ee7c",
   "metadata": {},
   "source": [
    "nombre_infected       583\n",
    "nombre_sain          2433\n",
    "nombre_exposed        355\n",
    "nombre_recovered    16629\n",
    "Name: 450, dtype: int64"
   ]
  },
  {
   "cell_type": "markdown",
   "id": "d6bc3f78",
   "metadata": {},
   "source": [
    "nombre_infected       602\n",
    "nombre_sain          2443\n",
    "nombre_exposed        343\n",
    "nombre_recovered    16612\n",
    "Name: 451, dtype: int64"
   ]
  },
  {
   "cell_type": "markdown",
   "id": "1f3d0052",
   "metadata": {},
   "source": [
    "nombre_infected       616\n",
    "nombre_sain          2468\n",
    "nombre_exposed        341\n",
    "nombre_recovered    16575\n",
    "Name: 452, dtype: int64"
   ]
  },
  {
   "cell_type": "markdown",
   "id": "6a8fffbe",
   "metadata": {},
   "source": [
    "nombre_infected       612\n",
    "nombre_sain          2473\n",
    "nombre_exposed        359\n",
    "nombre_recovered    16556\n",
    "Name: 453, dtype: int64"
   ]
  },
  {
   "cell_type": "markdown",
   "id": "ff2a336d",
   "metadata": {},
   "source": [
    "nombre_infected       599\n",
    "nombre_sain          2476\n",
    "nombre_exposed        364\n",
    "nombre_recovered    16561\n",
    "Name: 454, dtype: int64"
   ]
  },
  {
   "cell_type": "markdown",
   "id": "37dff0b1",
   "metadata": {},
   "source": [
    "nombre_infected       606\n",
    "nombre_sain          2483\n",
    "nombre_exposed        367\n",
    "nombre_recovered    16544\n",
    "Name: 455, dtype: int64"
   ]
  },
  {
   "cell_type": "markdown",
   "id": "ef486b29",
   "metadata": {},
   "source": [
    "nombre_infected       600\n",
    "nombre_sain          2523\n",
    "nombre_exposed        354\n",
    "nombre_recovered    16523\n",
    "Name: 456, dtype: int64"
   ]
  },
  {
   "cell_type": "markdown",
   "id": "093834ef",
   "metadata": {},
   "source": [
    "nombre_infected       616\n",
    "nombre_sain          2533\n",
    "nombre_exposed        361\n",
    "nombre_recovered    16490\n",
    "Name: 457, dtype: int64"
   ]
  },
  {
   "cell_type": "markdown",
   "id": "9627688d",
   "metadata": {},
   "source": [
    "nombre_infected       611\n",
    "nombre_sain          2527\n",
    "nombre_exposed        390\n",
    "nombre_recovered    16472\n",
    "Name: 458, dtype: int64"
   ]
  },
  {
   "cell_type": "markdown",
   "id": "ab816d78",
   "metadata": {},
   "source": [
    "nombre_infected       627\n",
    "nombre_sain          2532\n",
    "nombre_exposed        401\n",
    "nombre_recovered    16440\n",
    "Name: 459, dtype: int64"
   ]
  },
  {
   "cell_type": "markdown",
   "id": "0025869d",
   "metadata": {},
   "source": [
    "nombre_infected       612\n",
    "nombre_sain          2550\n",
    "nombre_exposed        413\n",
    "nombre_recovered    16425\n",
    "Name: 460, dtype: int64"
   ]
  },
  {
   "cell_type": "markdown",
   "id": "6a7c953c",
   "metadata": {},
   "source": [
    "nombre_infected       631\n",
    "nombre_sain          2587\n",
    "nombre_exposed        398\n",
    "nombre_recovered    16384\n",
    "Name: 461, dtype: int64"
   ]
  },
  {
   "cell_type": "markdown",
   "id": "44b53ad8",
   "metadata": {},
   "source": [
    "nombre_infected       632\n",
    "nombre_sain          2603\n",
    "nombre_exposed        406\n",
    "nombre_recovered    16359\n",
    "Name: 462, dtype: int64"
   ]
  },
  {
   "cell_type": "markdown",
   "id": "e7ad7cd3",
   "metadata": {},
   "source": [
    "nombre_infected       638\n",
    "nombre_sain          2650\n",
    "nombre_exposed        400\n",
    "nombre_recovered    16312\n",
    "Name: 463, dtype: int64"
   ]
  },
  {
   "cell_type": "markdown",
   "id": "2ef71789",
   "metadata": {},
   "source": [
    "nombre_infected       655\n",
    "nombre_sain          2643\n",
    "nombre_exposed        417\n",
    "nombre_recovered    16285\n",
    "Name: 464, dtype: int64"
   ]
  },
  {
   "cell_type": "markdown",
   "id": "974f0d17",
   "metadata": {},
   "source": [
    "nombre_infected       652\n",
    "nombre_sain          2690\n",
    "nombre_exposed        414\n",
    "nombre_recovered    16244\n",
    "Name: 465, dtype: int64"
   ]
  },
  {
   "cell_type": "markdown",
   "id": "d0ac174a",
   "metadata": {},
   "source": [
    "nombre_infected       671\n",
    "nombre_sain          2701\n",
    "nombre_exposed        409\n",
    "nombre_recovered    16219\n",
    "Name: 466, dtype: int64"
   ]
  },
  {
   "cell_type": "markdown",
   "id": "6f1e5e95",
   "metadata": {},
   "source": [
    "nombre_infected       686\n",
    "nombre_sain          2705\n",
    "nombre_exposed        400\n",
    "nombre_recovered    16209\n",
    "Name: 467, dtype: int64"
   ]
  },
  {
   "cell_type": "markdown",
   "id": "7462a83f",
   "metadata": {},
   "source": [
    "nombre_infected       683\n",
    "nombre_sain          2701\n",
    "nombre_exposed        420\n",
    "nombre_recovered    16196\n",
    "Name: 468, dtype: int64"
   ]
  },
  {
   "cell_type": "markdown",
   "id": "2ee8fa7f",
   "metadata": {},
   "source": [
    "nombre_infected       683\n",
    "nombre_sain          2691\n",
    "nombre_exposed        439\n",
    "nombre_recovered    16187\n",
    "Name: 469, dtype: int64"
   ]
  },
  {
   "cell_type": "markdown",
   "id": "a12ce08f",
   "metadata": {},
   "source": [
    "nombre_infected       684\n",
    "nombre_sain          2695\n",
    "nombre_exposed        460\n",
    "nombre_recovered    16161\n",
    "Name: 470, dtype: int64"
   ]
  },
  {
   "cell_type": "markdown",
   "id": "229b50dc",
   "metadata": {},
   "source": [
    "nombre_infected       705\n",
    "nombre_sain          2705\n",
    "nombre_exposed        457\n",
    "nombre_recovered    16133\n",
    "Name: 471, dtype: int64"
   ]
  },
  {
   "cell_type": "markdown",
   "id": "0f4a420d",
   "metadata": {},
   "source": [
    "nombre_infected       717\n",
    "nombre_sain          2696\n",
    "nombre_exposed        459\n",
    "nombre_recovered    16128\n",
    "Name: 472, dtype: int64"
   ]
  },
  {
   "cell_type": "markdown",
   "id": "a8e096ec",
   "metadata": {},
   "source": [
    "nombre_infected       728\n",
    "nombre_sain          2705\n",
    "nombre_exposed        475\n",
    "nombre_recovered    16092\n",
    "Name: 473, dtype: int64"
   ]
  },
  {
   "cell_type": "markdown",
   "id": "b8109364",
   "metadata": {},
   "source": [
    "nombre_infected       740\n",
    "nombre_sain          2689\n",
    "nombre_exposed        490\n",
    "nombre_recovered    16081\n",
    "Name: 474, dtype: int64"
   ]
  },
  {
   "cell_type": "markdown",
   "id": "c52c0a38",
   "metadata": {},
   "source": [
    "nombre_infected       768\n",
    "nombre_sain          2692\n",
    "nombre_exposed        494\n",
    "nombre_recovered    16046\n",
    "Name: 475, dtype: int64"
   ]
  },
  {
   "cell_type": "markdown",
   "id": "e73d40e9",
   "metadata": {},
   "source": [
    "nombre_infected       783\n",
    "nombre_sain          2664\n",
    "nombre_exposed        525\n",
    "nombre_recovered    16028\n",
    "Name: 476, dtype: int64"
   ]
  },
  {
   "cell_type": "markdown",
   "id": "956fafb9",
   "metadata": {},
   "source": [
    "nombre_infected       793\n",
    "nombre_sain          2660\n",
    "nombre_exposed        526\n",
    "nombre_recovered    16021\n",
    "Name: 477, dtype: int64"
   ]
  },
  {
   "cell_type": "markdown",
   "id": "a4abdbcf",
   "metadata": {},
   "source": [
    "nombre_infected       821\n",
    "nombre_sain          2619\n",
    "nombre_exposed        520\n",
    "nombre_recovered    16040\n",
    "Name: 478, dtype: int64"
   ]
  },
  {
   "cell_type": "markdown",
   "id": "860b2d67",
   "metadata": {},
   "source": [
    "nombre_infected       852\n",
    "nombre_sain          2616\n",
    "nombre_exposed        476\n",
    "nombre_recovered    16056\n",
    "Name: 479, dtype: int64"
   ]
  },
  {
   "cell_type": "markdown",
   "id": "6fbbc96e",
   "metadata": {},
   "source": [
    "nombre_infected       880\n",
    "nombre_sain          2597\n",
    "nombre_exposed        486\n",
    "nombre_recovered    16037\n",
    "Name: 480, dtype: int64"
   ]
  },
  {
   "cell_type": "markdown",
   "id": "e8169932",
   "metadata": {},
   "source": [
    "nombre_infected       872\n",
    "nombre_sain          2572\n",
    "nombre_exposed        504\n",
    "nombre_recovered    16052\n",
    "Name: 481, dtype: int64"
   ]
  },
  {
   "cell_type": "markdown",
   "id": "4d97703e",
   "metadata": {},
   "source": [
    "nombre_infected       913\n",
    "nombre_sain          2566\n",
    "nombre_exposed        491\n",
    "nombre_recovered    16030\n",
    "Name: 482, dtype: int64"
   ]
  },
  {
   "cell_type": "markdown",
   "id": "3880b6af",
   "metadata": {},
   "source": [
    "nombre_infected       923\n",
    "nombre_sain          2544\n",
    "nombre_exposed        499\n",
    "nombre_recovered    16034\n",
    "Name: 483, dtype: int64"
   ]
  },
  {
   "cell_type": "markdown",
   "id": "a4af0fd8",
   "metadata": {},
   "source": [
    "nombre_infected       945\n",
    "nombre_sain          2485\n",
    "nombre_exposed        533\n",
    "nombre_recovered    16037\n",
    "Name: 484, dtype: int64"
   ]
  },
  {
   "cell_type": "markdown",
   "id": "dbddfa52",
   "metadata": {},
   "source": [
    "nombre_infected       946\n",
    "nombre_sain          2470\n",
    "nombre_exposed        545\n",
    "nombre_recovered    16039\n",
    "Name: 485, dtype: int64"
   ]
  },
  {
   "cell_type": "markdown",
   "id": "bf138e9b",
   "metadata": {},
   "source": [
    "nombre_infected       966\n",
    "nombre_sain          2433\n",
    "nombre_exposed        550\n",
    "nombre_recovered    16051\n",
    "Name: 486, dtype: int64"
   ]
  },
  {
   "cell_type": "markdown",
   "id": "304d3fe0",
   "metadata": {},
   "source": [
    "nombre_infected       971\n",
    "nombre_sain          2413\n",
    "nombre_exposed        557\n",
    "nombre_recovered    16059\n",
    "Name: 487, dtype: int64"
   ]
  },
  {
   "cell_type": "markdown",
   "id": "89eb3835",
   "metadata": {},
   "source": [
    "nombre_infected       992\n",
    "nombre_sain          2373\n",
    "nombre_exposed        573\n",
    "nombre_recovered    16062\n",
    "Name: 488, dtype: int64"
   ]
  },
  {
   "cell_type": "markdown",
   "id": "2abc8e54",
   "metadata": {},
   "source": [
    "nombre_infected      1018\n",
    "nombre_sain          2352\n",
    "nombre_exposed        569\n",
    "nombre_recovered    16061\n",
    "Name: 489, dtype: int64"
   ]
  },
  {
   "cell_type": "markdown",
   "id": "a8c25e85",
   "metadata": {},
   "source": [
    "nombre_infected      1032\n",
    "nombre_sain          2337\n",
    "nombre_exposed        567\n",
    "nombre_recovered    16064\n",
    "Name: 490, dtype: int64"
   ]
  },
  {
   "cell_type": "markdown",
   "id": "20bc03e9",
   "metadata": {},
   "source": [
    "nombre_infected      1048\n",
    "nombre_sain          2301\n",
    "nombre_exposed        563\n",
    "nombre_recovered    16088\n",
    "Name: 491, dtype: int64"
   ]
  },
  {
   "cell_type": "markdown",
   "id": "4b0f0dd4",
   "metadata": {},
   "source": [
    "nombre_infected      1031\n",
    "nombre_sain          2259\n",
    "nombre_exposed        585\n",
    "nombre_recovered    16125\n",
    "Name: 492, dtype: int64"
   ]
  },
  {
   "cell_type": "markdown",
   "id": "8e49cedb",
   "metadata": {},
   "source": [
    "nombre_infected      1048\n",
    "nombre_sain          2194\n",
    "nombre_exposed        603\n",
    "nombre_recovered    16155\n",
    "Name: 493, dtype: int64"
   ]
  },
  {
   "cell_type": "markdown",
   "id": "781d25c3",
   "metadata": {},
   "source": [
    "nombre_infected      1052\n",
    "nombre_sain          2161\n",
    "nombre_exposed        606\n",
    "nombre_recovered    16181\n",
    "Name: 494, dtype: int64"
   ]
  },
  {
   "cell_type": "markdown",
   "id": "7b4ac1bb",
   "metadata": {},
   "source": [
    "nombre_infected      1087\n",
    "nombre_sain          2138\n",
    "nombre_exposed        595\n",
    "nombre_recovered    16180\n",
    "Name: 495, dtype: int64"
   ]
  },
  {
   "cell_type": "markdown",
   "id": "5e5c9d8e",
   "metadata": {},
   "source": [
    "nombre_infected      1103\n",
    "nombre_sain          2085\n",
    "nombre_exposed        590\n",
    "nombre_recovered    16222\n",
    "Name: 496, dtype: int64"
   ]
  },
  {
   "cell_type": "markdown",
   "id": "cebc423c",
   "metadata": {},
   "source": [
    "nombre_infected      1120\n",
    "nombre_sain          2063\n",
    "nombre_exposed        583\n",
    "nombre_recovered    16234\n",
    "Name: 497, dtype: int64"
   ]
  },
  {
   "cell_type": "markdown",
   "id": "b2748bd6",
   "metadata": {},
   "source": [
    "nombre_infected      1106\n",
    "nombre_sain          2019\n",
    "nombre_exposed        601\n",
    "nombre_recovered    16274\n",
    "Name: 498, dtype: int64"
   ]
  },
  {
   "cell_type": "markdown",
   "id": "c98ba8a4",
   "metadata": {},
   "source": [
    "nombre_infected      1125\n",
    "nombre_sain          1980\n",
    "nombre_exposed        610\n",
    "nombre_recovered    16285\n",
    "Name: 499, dtype: int64"
   ]
  },
  {
   "cell_type": "markdown",
   "id": "53b70f21",
   "metadata": {},
   "source": [
    "nombre_infected      1165\n",
    "nombre_sain          1950\n",
    "nombre_exposed        560\n",
    "nombre_recovered    16325\n",
    "Name: 500, dtype: int64"
   ]
  },
  {
   "cell_type": "markdown",
   "id": "20379b3d",
   "metadata": {},
   "source": [
    "nombre_infected      1141\n",
    "nombre_sain          1930\n",
    "nombre_exposed        560\n",
    "nombre_recovered    16369\n",
    "Name: 501, dtype: int64"
   ]
  },
  {
   "cell_type": "markdown",
   "id": "4e156b7f",
   "metadata": {},
   "source": [
    "nombre_infected      1149\n",
    "nombre_sain          1907\n",
    "nombre_exposed        561\n",
    "nombre_recovered    16383\n",
    "Name: 502, dtype: int64"
   ]
  },
  {
   "cell_type": "markdown",
   "id": "a4817188",
   "metadata": {},
   "source": [
    "nombre_infected      1143\n",
    "nombre_sain          1880\n",
    "nombre_exposed        568\n",
    "nombre_recovered    16409\n",
    "Name: 503, dtype: int64"
   ]
  },
  {
   "cell_type": "markdown",
   "id": "25a33e55",
   "metadata": {},
   "source": [
    "nombre_infected      1138\n",
    "nombre_sain          1834\n",
    "nombre_exposed        575\n",
    "nombre_recovered    16453\n",
    "Name: 504, dtype: int64"
   ]
  },
  {
   "cell_type": "markdown",
   "id": "d1a4f272",
   "metadata": {},
   "source": [
    "nombre_infected      1139\n",
    "nombre_sain          1815\n",
    "nombre_exposed        559\n",
    "nombre_recovered    16487\n",
    "Name: 505, dtype: int64"
   ]
  },
  {
   "cell_type": "markdown",
   "id": "7bcfd77a",
   "metadata": {},
   "source": [
    "nombre_infected      1129\n",
    "nombre_sain          1776\n",
    "nombre_exposed        547\n",
    "nombre_recovered    16548\n",
    "Name: 506, dtype: int64"
   ]
  },
  {
   "cell_type": "markdown",
   "id": "8f74ea22",
   "metadata": {},
   "source": [
    "nombre_infected      1141\n",
    "nombre_sain          1770\n",
    "nombre_exposed        520\n",
    "nombre_recovered    16569\n",
    "Name: 507, dtype: int64"
   ]
  },
  {
   "cell_type": "markdown",
   "id": "e44beb96",
   "metadata": {},
   "source": [
    "nombre_infected      1124\n",
    "nombre_sain          1724\n",
    "nombre_exposed        532\n",
    "nombre_recovered    16620\n",
    "Name: 508, dtype: int64"
   ]
  },
  {
   "cell_type": "markdown",
   "id": "612a8fad",
   "metadata": {},
   "source": [
    "nombre_infected      1081\n",
    "nombre_sain          1724\n",
    "nombre_exposed        530\n",
    "nombre_recovered    16665\n",
    "Name: 509, dtype: int64"
   ]
  },
  {
   "cell_type": "markdown",
   "id": "3098d9ae",
   "metadata": {},
   "source": [
    "nombre_infected      1073\n",
    "nombre_sain          1738\n",
    "nombre_exposed        497\n",
    "nombre_recovered    16692\n",
    "Name: 510, dtype: int64"
   ]
  },
  {
   "cell_type": "markdown",
   "id": "f0ffd97a",
   "metadata": {},
   "source": [
    "nombre_infected      1053\n",
    "nombre_sain          1733\n",
    "nombre_exposed        498\n",
    "nombre_recovered    16716\n",
    "Name: 511, dtype: int64"
   ]
  },
  {
   "cell_type": "markdown",
   "id": "4195e949",
   "metadata": {},
   "source": [
    "nombre_infected      1045\n",
    "nombre_sain          1711\n",
    "nombre_exposed        490\n",
    "nombre_recovered    16754\n",
    "Name: 512, dtype: int64"
   ]
  },
  {
   "cell_type": "markdown",
   "id": "7fca5daa",
   "metadata": {},
   "source": [
    "nombre_infected      1034\n",
    "nombre_sain          1716\n",
    "nombre_exposed        469\n",
    "nombre_recovered    16781\n",
    "Name: 513, dtype: int64"
   ]
  },
  {
   "cell_type": "markdown",
   "id": "5923ab6b",
   "metadata": {},
   "source": [
    "nombre_infected      1013\n",
    "nombre_sain          1727\n",
    "nombre_exposed        458\n",
    "nombre_recovered    16802\n",
    "Name: 514, dtype: int64"
   ]
  },
  {
   "cell_type": "markdown",
   "id": "97d318f3",
   "metadata": {},
   "source": [
    "nombre_infected      1011\n",
    "nombre_sain          1761\n",
    "nombre_exposed        436\n",
    "nombre_recovered    16792\n",
    "Name: 515, dtype: int64"
   ]
  },
  {
   "cell_type": "markdown",
   "id": "6938de99",
   "metadata": {},
   "source": [
    "nombre_infected       981\n",
    "nombre_sain          1730\n",
    "nombre_exposed        452\n",
    "nombre_recovered    16837\n",
    "Name: 516, dtype: int64"
   ]
  },
  {
   "cell_type": "markdown",
   "id": "f26bc02c",
   "metadata": {},
   "source": [
    "nombre_infected       971\n",
    "nombre_sain          1729\n",
    "nombre_exposed        450\n",
    "nombre_recovered    16850\n",
    "Name: 517, dtype: int64"
   ]
  },
  {
   "cell_type": "markdown",
   "id": "4c682b91",
   "metadata": {},
   "source": [
    "nombre_infected       959\n",
    "nombre_sain          1720\n",
    "nombre_exposed        458\n",
    "nombre_recovered    16863\n",
    "Name: 518, dtype: int64"
   ]
  },
  {
   "cell_type": "markdown",
   "id": "53cbb71d",
   "metadata": {},
   "source": [
    "nombre_infected       967\n",
    "nombre_sain          1719\n",
    "nombre_exposed        443\n",
    "nombre_recovered    16871\n",
    "Name: 519, dtype: int64"
   ]
  },
  {
   "cell_type": "markdown",
   "id": "002763a1",
   "metadata": {},
   "source": [
    "nombre_infected       936\n",
    "nombre_sain          1714\n",
    "nombre_exposed        452\n",
    "nombre_recovered    16898\n",
    "Name: 520, dtype: int64"
   ]
  },
  {
   "cell_type": "markdown",
   "id": "2714d69c",
   "metadata": {},
   "source": [
    "nombre_infected       931\n",
    "nombre_sain          1742\n",
    "nombre_exposed        427\n",
    "nombre_recovered    16900\n",
    "Name: 521, dtype: int64"
   ]
  },
  {
   "cell_type": "markdown",
   "id": "9415a1e0",
   "metadata": {},
   "source": [
    "nombre_infected       915\n",
    "nombre_sain          1749\n",
    "nombre_exposed        418\n",
    "nombre_recovered    16918\n",
    "Name: 522, dtype: int64"
   ]
  },
  {
   "cell_type": "markdown",
   "id": "0b29409a",
   "metadata": {},
   "source": [
    "nombre_infected       915\n",
    "nombre_sain          1766\n",
    "nombre_exposed        388\n",
    "nombre_recovered    16931\n",
    "Name: 523, dtype: int64"
   ]
  },
  {
   "cell_type": "markdown",
   "id": "1d9aecd9",
   "metadata": {},
   "source": [
    "nombre_infected       911\n",
    "nombre_sain          1804\n",
    "nombre_exposed        378\n",
    "nombre_recovered    16907\n",
    "Name: 524, dtype: int64"
   ]
  },
  {
   "cell_type": "markdown",
   "id": "da476aa1",
   "metadata": {},
   "source": [
    "nombre_infected       871\n",
    "nombre_sain          1823\n",
    "nombre_exposed        385\n",
    "nombre_recovered    16921\n",
    "Name: 525, dtype: int64"
   ]
  },
  {
   "cell_type": "markdown",
   "id": "25f1d8c7",
   "metadata": {},
   "source": [
    "nombre_infected       867\n",
    "nombre_sain          1832\n",
    "nombre_exposed        379\n",
    "nombre_recovered    16922\n",
    "Name: 526, dtype: int64"
   ]
  },
  {
   "cell_type": "markdown",
   "id": "e3b73352",
   "metadata": {},
   "source": [
    "nombre_infected       855\n",
    "nombre_sain          1859\n",
    "nombre_exposed        371\n",
    "nombre_recovered    16915\n",
    "Name: 527, dtype: int64"
   ]
  },
  {
   "cell_type": "markdown",
   "id": "41c80b3c",
   "metadata": {},
   "source": [
    "nombre_infected       826\n",
    "nombre_sain          1895\n",
    "nombre_exposed        386\n",
    "nombre_recovered    16893\n",
    "Name: 528, dtype: int64"
   ]
  },
  {
   "cell_type": "markdown",
   "id": "94f19c41",
   "metadata": {},
   "source": [
    "nombre_infected       804\n",
    "nombre_sain          1915\n",
    "nombre_exposed        394\n",
    "nombre_recovered    16887\n",
    "Name: 529, dtype: int64"
   ]
  },
  {
   "cell_type": "markdown",
   "id": "19c5094c",
   "metadata": {},
   "source": [
    "nombre_infected       797\n",
    "nombre_sain          1932\n",
    "nombre_exposed        388\n",
    "nombre_recovered    16883\n",
    "Name: 530, dtype: int64"
   ]
  },
  {
   "cell_type": "markdown",
   "id": "8664ea1d",
   "metadata": {},
   "source": [
    "nombre_infected       812\n",
    "nombre_sain          1956\n",
    "nombre_exposed        377\n",
    "nombre_recovered    16855\n",
    "Name: 531, dtype: int64"
   ]
  },
  {
   "cell_type": "markdown",
   "id": "9b4ed059",
   "metadata": {},
   "source": [
    "nombre_infected       769\n",
    "nombre_sain          1954\n",
    "nombre_exposed        403\n",
    "nombre_recovered    16874\n",
    "Name: 532, dtype: int64"
   ]
  },
  {
   "cell_type": "markdown",
   "id": "d07bf2f7",
   "metadata": {},
   "source": [
    "nombre_infected       762\n",
    "nombre_sain          1985\n",
    "nombre_exposed        404\n",
    "nombre_recovered    16849\n",
    "Name: 533, dtype: int64"
   ]
  },
  {
   "cell_type": "markdown",
   "id": "eb9ca0b8",
   "metadata": {},
   "source": [
    "nombre_infected       774\n",
    "nombre_sain          1980\n",
    "nombre_exposed        396\n",
    "nombre_recovered    16850\n",
    "Name: 534, dtype: int64"
   ]
  },
  {
   "cell_type": "markdown",
   "id": "f2650470",
   "metadata": {},
   "source": [
    "nombre_infected       765\n",
    "nombre_sain          1983\n",
    "nombre_exposed        385\n",
    "nombre_recovered    16867\n",
    "Name: 535, dtype: int64"
   ]
  },
  {
   "cell_type": "markdown",
   "id": "6155de03",
   "metadata": {},
   "source": [
    "nombre_infected       757\n",
    "nombre_sain          1987\n",
    "nombre_exposed        388\n",
    "nombre_recovered    16868\n",
    "Name: 536, dtype: int64"
   ]
  },
  {
   "cell_type": "markdown",
   "id": "88c020ff",
   "metadata": {},
   "source": [
    "nombre_infected       741\n",
    "nombre_sain          2021\n",
    "nombre_exposed        386\n",
    "nombre_recovered    16852\n",
    "Name: 537, dtype: int64"
   ]
  },
  {
   "cell_type": "markdown",
   "id": "25aa9c19",
   "metadata": {},
   "source": [
    "nombre_infected       748\n",
    "nombre_sain          2028\n",
    "nombre_exposed        386\n",
    "nombre_recovered    16838\n",
    "Name: 538, dtype: int64"
   ]
  },
  {
   "cell_type": "markdown",
   "id": "17a13253",
   "metadata": {},
   "source": [
    "nombre_infected       723\n",
    "nombre_sain          2053\n",
    "nombre_exposed        375\n",
    "nombre_recovered    16849\n",
    "Name: 539, dtype: int64"
   ]
  },
  {
   "cell_type": "markdown",
   "id": "2f3e2055",
   "metadata": {},
   "source": [
    "nombre_infected       714\n",
    "nombre_sain          2066\n",
    "nombre_exposed        370\n",
    "nombre_recovered    16850\n",
    "Name: 540, dtype: int64"
   ]
  },
  {
   "cell_type": "markdown",
   "id": "29917348",
   "metadata": {},
   "source": [
    "nombre_infected       703\n",
    "nombre_sain          2050\n",
    "nombre_exposed        388\n",
    "nombre_recovered    16859\n",
    "Name: 541, dtype: int64"
   ]
  },
  {
   "cell_type": "markdown",
   "id": "d3874747",
   "metadata": {},
   "source": [
    "nombre_infected       691\n",
    "nombre_sain          2087\n",
    "nombre_exposed        384\n",
    "nombre_recovered    16838\n",
    "Name: 542, dtype: int64"
   ]
  },
  {
   "cell_type": "markdown",
   "id": "0be35990",
   "metadata": {},
   "source": [
    "nombre_infected       714\n",
    "nombre_sain          2102\n",
    "nombre_exposed        373\n",
    "nombre_recovered    16811\n",
    "Name: 543, dtype: int64"
   ]
  },
  {
   "cell_type": "markdown",
   "id": "7ae815d7",
   "metadata": {},
   "source": [
    "nombre_infected       702\n",
    "nombre_sain          2131\n",
    "nombre_exposed        379\n",
    "nombre_recovered    16788\n",
    "Name: 544, dtype: int64"
   ]
  },
  {
   "cell_type": "markdown",
   "id": "5e7b64d3",
   "metadata": {},
   "source": [
    "nombre_infected       682\n",
    "nombre_sain          2140\n",
    "nombre_exposed        393\n",
    "nombre_recovered    16785\n",
    "Name: 545, dtype: int64"
   ]
  },
  {
   "cell_type": "markdown",
   "id": "9cd208da",
   "metadata": {},
   "source": [
    "nombre_infected       670\n",
    "nombre_sain          2176\n",
    "nombre_exposed        385\n",
    "nombre_recovered    16769\n",
    "Name: 546, dtype: int64"
   ]
  },
  {
   "cell_type": "markdown",
   "id": "d8b9ab2c",
   "metadata": {},
   "source": [
    "nombre_infected       669\n",
    "nombre_sain          2223\n",
    "nombre_exposed        382\n",
    "nombre_recovered    16726\n",
    "Name: 547, dtype: int64"
   ]
  },
  {
   "cell_type": "markdown",
   "id": "63806323",
   "metadata": {},
   "source": [
    "nombre_infected       683\n",
    "nombre_sain          2237\n",
    "nombre_exposed        394\n",
    "nombre_recovered    16686\n",
    "Name: 548, dtype: int64"
   ]
  },
  {
   "cell_type": "markdown",
   "id": "34d39393",
   "metadata": {},
   "source": [
    "nombre_infected       685\n",
    "nombre_sain          2259\n",
    "nombre_exposed        399\n",
    "nombre_recovered    16657\n",
    "Name: 549, dtype: int64"
   ]
  },
  {
   "cell_type": "markdown",
   "id": "2a35cea7",
   "metadata": {},
   "source": [
    "nombre_infected       700\n",
    "nombre_sain          2289\n",
    "nombre_exposed        387\n",
    "nombre_recovered    16624\n",
    "Name: 550, dtype: int64"
   ]
  },
  {
   "cell_type": "markdown",
   "id": "d8694bc2",
   "metadata": {},
   "source": [
    "nombre_infected       679\n",
    "nombre_sain          2309\n",
    "nombre_exposed        408\n",
    "nombre_recovered    16604\n",
    "Name: 551, dtype: int64"
   ]
  },
  {
   "cell_type": "markdown",
   "id": "fc5ecebe",
   "metadata": {},
   "source": [
    "nombre_infected       678\n",
    "nombre_sain          2365\n",
    "nombre_exposed        412\n",
    "nombre_recovered    16545\n",
    "Name: 552, dtype: int64"
   ]
  },
  {
   "cell_type": "markdown",
   "id": "64cc67c9",
   "metadata": {},
   "source": [
    "nombre_infected       702\n",
    "nombre_sain          2400\n",
    "nombre_exposed        405\n",
    "nombre_recovered    16493\n",
    "Name: 553, dtype: int64"
   ]
  },
  {
   "cell_type": "markdown",
   "id": "1436e02f",
   "metadata": {},
   "source": [
    "nombre_infected       708\n",
    "nombre_sain          2437\n",
    "nombre_exposed        407\n",
    "nombre_recovered    16448\n",
    "Name: 554, dtype: int64"
   ]
  },
  {
   "cell_type": "markdown",
   "id": "617162d2",
   "metadata": {},
   "source": [
    "nombre_infected       681\n",
    "nombre_sain          2475\n",
    "nombre_exposed        429\n",
    "nombre_recovered    16415\n",
    "Name: 555, dtype: int64"
   ]
  },
  {
   "cell_type": "markdown",
   "id": "a24e3f0c",
   "metadata": {},
   "source": [
    "nombre_infected       699\n",
    "nombre_sain          2499\n",
    "nombre_exposed        434\n",
    "nombre_recovered    16368\n",
    "Name: 556, dtype: int64"
   ]
  },
  {
   "cell_type": "markdown",
   "id": "e4ae5054",
   "metadata": {},
   "source": [
    "nombre_infected       684\n",
    "nombre_sain          2506\n",
    "nombre_exposed        439\n",
    "nombre_recovered    16371\n",
    "Name: 557, dtype: int64"
   ]
  },
  {
   "cell_type": "markdown",
   "id": "60daf19f",
   "metadata": {},
   "source": [
    "nombre_infected       699\n",
    "nombre_sain          2534\n",
    "nombre_exposed        436\n",
    "nombre_recovered    16331\n",
    "Name: 558, dtype: int64"
   ]
  },
  {
   "cell_type": "markdown",
   "id": "7d20f2ff",
   "metadata": {},
   "source": [
    "nombre_infected       699\n",
    "nombre_sain          2535\n",
    "nombre_exposed        450\n",
    "nombre_recovered    16316\n",
    "Name: 559, dtype: int64"
   ]
  },
  {
   "cell_type": "markdown",
   "id": "8d42b889",
   "metadata": {},
   "source": [
    "nombre_infected       693\n",
    "nombre_sain          2553\n",
    "nombre_exposed        455\n",
    "nombre_recovered    16299\n",
    "Name: 560, dtype: int64"
   ]
  },
  {
   "cell_type": "markdown",
   "id": "0569affa",
   "metadata": {},
   "source": [
    "nombre_infected       721\n",
    "nombre_sain          2587\n",
    "nombre_exposed        439\n",
    "nombre_recovered    16253\n",
    "Name: 561, dtype: int64"
   ]
  },
  {
   "cell_type": "markdown",
   "id": "62f1526f",
   "metadata": {},
   "source": [
    "nombre_infected       729\n",
    "nombre_sain          2587\n",
    "nombre_exposed        442\n",
    "nombre_recovered    16242\n",
    "Name: 562, dtype: int64"
   ]
  },
  {
   "cell_type": "markdown",
   "id": "8e76c47d",
   "metadata": {},
   "source": [
    "nombre_infected       722\n",
    "nombre_sain          2590\n",
    "nombre_exposed        459\n",
    "nombre_recovered    16229\n",
    "Name: 563, dtype: int64"
   ]
  },
  {
   "cell_type": "markdown",
   "id": "29b181aa",
   "metadata": {},
   "source": [
    "nombre_infected       739\n",
    "nombre_sain          2589\n",
    "nombre_exposed        467\n",
    "nombre_recovered    16205\n",
    "Name: 564, dtype: int64"
   ]
  },
  {
   "cell_type": "markdown",
   "id": "a62f8508",
   "metadata": {},
   "source": [
    "nombre_infected       752\n",
    "nombre_sain          2580\n",
    "nombre_exposed        469\n",
    "nombre_recovered    16199\n",
    "Name: 565, dtype: int64"
   ]
  },
  {
   "cell_type": "markdown",
   "id": "96214f9f",
   "metadata": {},
   "source": [
    "nombre_infected       763\n",
    "nombre_sain          2570\n",
    "nombre_exposed        475\n",
    "nombre_recovered    16192\n",
    "Name: 566, dtype: int64"
   ]
  },
  {
   "cell_type": "markdown",
   "id": "64032d8b",
   "metadata": {},
   "source": [
    "nombre_infected       783\n",
    "nombre_sain          2533\n",
    "nombre_exposed        478\n",
    "nombre_recovered    16206\n",
    "Name: 567, dtype: int64"
   ]
  },
  {
   "cell_type": "markdown",
   "id": "d0dff965",
   "metadata": {},
   "source": [
    "nombre_infected       805\n",
    "nombre_sain          2507\n",
    "nombre_exposed        495\n",
    "nombre_recovered    16193\n",
    "Name: 568, dtype: int64"
   ]
  },
  {
   "cell_type": "markdown",
   "id": "3ca533e4",
   "metadata": {},
   "source": [
    "nombre_infected       825\n",
    "nombre_sain          2482\n",
    "nombre_exposed        504\n",
    "nombre_recovered    16189\n",
    "Name: 569, dtype: int64"
   ]
  },
  {
   "cell_type": "markdown",
   "id": "ddc669b6",
   "metadata": {},
   "source": [
    "nombre_infected       847\n",
    "nombre_sain          2467\n",
    "nombre_exposed        488\n",
    "nombre_recovered    16198\n",
    "Name: 570, dtype: int64"
   ]
  },
  {
   "cell_type": "markdown",
   "id": "b5869490",
   "metadata": {},
   "source": [
    "nombre_infected       856\n",
    "nombre_sain          2459\n",
    "nombre_exposed        474\n",
    "nombre_recovered    16211\n",
    "Name: 571, dtype: int64"
   ]
  },
  {
   "cell_type": "markdown",
   "id": "80600b9d",
   "metadata": {},
   "source": [
    "nombre_infected       829\n",
    "nombre_sain          2466\n",
    "nombre_exposed        473\n",
    "nombre_recovered    16232\n",
    "Name: 572, dtype: int64"
   ]
  },
  {
   "cell_type": "markdown",
   "id": "b0574afd",
   "metadata": {},
   "source": [
    "nombre_infected       816\n",
    "nombre_sain          2451\n",
    "nombre_exposed        492\n",
    "nombre_recovered    16241\n",
    "Name: 573, dtype: int64"
   ]
  },
  {
   "cell_type": "markdown",
   "id": "5008d6ba",
   "metadata": {},
   "source": [
    "nombre_infected       812\n",
    "nombre_sain          2452\n",
    "nombre_exposed        504\n",
    "nombre_recovered    16232\n",
    "Name: 574, dtype: int64"
   ]
  },
  {
   "cell_type": "markdown",
   "id": "089ef35f",
   "metadata": {},
   "source": [
    "nombre_infected       820\n",
    "nombre_sain          2446\n",
    "nombre_exposed        493\n",
    "nombre_recovered    16241\n",
    "Name: 575, dtype: int64"
   ]
  },
  {
   "cell_type": "markdown",
   "id": "3e5f9369",
   "metadata": {},
   "source": [
    "nombre_infected       819\n",
    "nombre_sain          2452\n",
    "nombre_exposed        482\n",
    "nombre_recovered    16247\n",
    "Name: 576, dtype: int64"
   ]
  },
  {
   "cell_type": "markdown",
   "id": "5e610ff0",
   "metadata": {},
   "source": [
    "nombre_infected       816\n",
    "nombre_sain          2440\n",
    "nombre_exposed        477\n",
    "nombre_recovered    16267\n",
    "Name: 577, dtype: int64"
   ]
  },
  {
   "cell_type": "markdown",
   "id": "92842ec3",
   "metadata": {},
   "source": [
    "nombre_infected       813\n",
    "nombre_sain          2422\n",
    "nombre_exposed        491\n",
    "nombre_recovered    16274\n",
    "Name: 578, dtype: int64"
   ]
  },
  {
   "cell_type": "markdown",
   "id": "063dc73a",
   "metadata": {},
   "source": [
    "nombre_infected       805\n",
    "nombre_sain          2410\n",
    "nombre_exposed        508\n",
    "nombre_recovered    16277\n",
    "Name: 579, dtype: int64"
   ]
  },
  {
   "cell_type": "markdown",
   "id": "07f96b06",
   "metadata": {},
   "source": [
    "nombre_infected       812\n",
    "nombre_sain          2403\n",
    "nombre_exposed        501\n",
    "nombre_recovered    16284\n",
    "Name: 580, dtype: int64"
   ]
  },
  {
   "cell_type": "markdown",
   "id": "97d6115e",
   "metadata": {},
   "source": [
    "nombre_infected       809\n",
    "nombre_sain          2392\n",
    "nombre_exposed        534\n",
    "nombre_recovered    16265\n",
    "Name: 581, dtype: int64"
   ]
  },
  {
   "cell_type": "markdown",
   "id": "7f38f712",
   "metadata": {},
   "source": [
    "nombre_infected       820\n",
    "nombre_sain          2399\n",
    "nombre_exposed        520\n",
    "nombre_recovered    16261\n",
    "Name: 582, dtype: int64"
   ]
  },
  {
   "cell_type": "markdown",
   "id": "89feb9d8",
   "metadata": {},
   "source": [
    "nombre_infected       873\n",
    "nombre_sain          2382\n",
    "nombre_exposed        494\n",
    "nombre_recovered    16251\n",
    "Name: 583, dtype: int64"
   ]
  },
  {
   "cell_type": "markdown",
   "id": "a2cac41b",
   "metadata": {},
   "source": [
    "nombre_infected       886\n",
    "nombre_sain          2374\n",
    "nombre_exposed        492\n",
    "nombre_recovered    16248\n",
    "Name: 584, dtype: int64"
   ]
  },
  {
   "cell_type": "markdown",
   "id": "42dcaa2b",
   "metadata": {},
   "source": [
    "nombre_infected       862\n",
    "nombre_sain          2356\n",
    "nombre_exposed        508\n",
    "nombre_recovered    16274\n",
    "Name: 585, dtype: int64"
   ]
  },
  {
   "cell_type": "markdown",
   "id": "8fd6999f",
   "metadata": {},
   "source": [
    "nombre_infected       846\n",
    "nombre_sain          2332\n",
    "nombre_exposed        532\n",
    "nombre_recovered    16290\n",
    "Name: 586, dtype: int64"
   ]
  },
  {
   "cell_type": "markdown",
   "id": "2293d7d2",
   "metadata": {},
   "source": [
    "nombre_infected       851\n",
    "nombre_sain          2347\n",
    "nombre_exposed        507\n",
    "nombre_recovered    16295\n",
    "Name: 587, dtype: int64"
   ]
  },
  {
   "cell_type": "markdown",
   "id": "3b897fa6",
   "metadata": {},
   "source": [
    "nombre_infected       858\n",
    "nombre_sain          2332\n",
    "nombre_exposed        495\n",
    "nombre_recovered    16315\n",
    "Name: 588, dtype: int64"
   ]
  },
  {
   "cell_type": "markdown",
   "id": "add9b61e",
   "metadata": {},
   "source": [
    "nombre_infected       861\n",
    "nombre_sain          2319\n",
    "nombre_exposed        493\n",
    "nombre_recovered    16327\n",
    "Name: 589, dtype: int64"
   ]
  },
  {
   "cell_type": "markdown",
   "id": "1b92ca19",
   "metadata": {},
   "source": [
    "nombre_infected       877\n",
    "nombre_sain          2314\n",
    "nombre_exposed        491\n",
    "nombre_recovered    16318\n",
    "Name: 590, dtype: int64"
   ]
  },
  {
   "cell_type": "markdown",
   "id": "b8eec736",
   "metadata": {},
   "source": [
    "nombre_infected       868\n",
    "nombre_sain          2279\n",
    "nombre_exposed        510\n",
    "nombre_recovered    16343\n",
    "Name: 591, dtype: int64"
   ]
  },
  {
   "cell_type": "markdown",
   "id": "0e3e2f93",
   "metadata": {},
   "source": [
    "nombre_infected       859\n",
    "nombre_sain          2280\n",
    "nombre_exposed        516\n",
    "nombre_recovered    16345\n",
    "Name: 592, dtype: int64"
   ]
  },
  {
   "cell_type": "markdown",
   "id": "de7e46fa",
   "metadata": {},
   "source": [
    "nombre_infected       873\n",
    "nombre_sain          2276\n",
    "nombre_exposed        494\n",
    "nombre_recovered    16357\n",
    "Name: 593, dtype: int64"
   ]
  },
  {
   "cell_type": "markdown",
   "id": "94401389",
   "metadata": {},
   "source": [
    "nombre_infected       854\n",
    "nombre_sain          2292\n",
    "nombre_exposed        507\n",
    "nombre_recovered    16347\n",
    "Name: 594, dtype: int64"
   ]
  },
  {
   "cell_type": "markdown",
   "id": "55a9472e",
   "metadata": {},
   "source": [
    "nombre_infected       853\n",
    "nombre_sain          2274\n",
    "nombre_exposed        520\n",
    "nombre_recovered    16353\n",
    "Name: 595, dtype: int64"
   ]
  },
  {
   "cell_type": "markdown",
   "id": "6516f0d1",
   "metadata": {},
   "source": [
    "nombre_infected       837\n",
    "nombre_sain          2268\n",
    "nombre_exposed        521\n",
    "nombre_recovered    16374\n",
    "Name: 596, dtype: int64"
   ]
  },
  {
   "cell_type": "markdown",
   "id": "d9489bf2",
   "metadata": {},
   "source": [
    "nombre_infected       833\n",
    "nombre_sain          2251\n",
    "nombre_exposed        528\n",
    "nombre_recovered    16388\n",
    "Name: 597, dtype: int64"
   ]
  },
  {
   "cell_type": "markdown",
   "id": "4ac28ca9",
   "metadata": {},
   "source": [
    "nombre_infected       822\n",
    "nombre_sain          2223\n",
    "nombre_exposed        555\n",
    "nombre_recovered    16400\n",
    "Name: 598, dtype: int64"
   ]
  },
  {
   "cell_type": "markdown",
   "id": "43adde98",
   "metadata": {},
   "source": [
    "nombre_infected       820\n",
    "nombre_sain          2206\n",
    "nombre_exposed        556\n",
    "nombre_recovered    16418\n",
    "Name: 599, dtype: int64"
   ]
  },
  {
   "cell_type": "markdown",
   "id": "a307475f",
   "metadata": {},
   "source": [
    "nombre_infected       840\n",
    "nombre_sain          2196\n",
    "nombre_exposed        530\n",
    "nombre_recovered    16434\n",
    "Name: 600, dtype: int64"
   ]
  },
  {
   "cell_type": "markdown",
   "id": "756113d8",
   "metadata": {},
   "source": [
    "nombre_infected       853\n",
    "nombre_sain          2201\n",
    "nombre_exposed        528\n",
    "nombre_recovered    16418\n",
    "Name: 601, dtype: int64"
   ]
  },
  {
   "cell_type": "markdown",
   "id": "f6c0f81f",
   "metadata": {},
   "source": [
    "nombre_infected       870\n",
    "nombre_sain          2227\n",
    "nombre_exposed        507\n",
    "nombre_recovered    16396\n",
    "Name: 602, dtype: int64"
   ]
  },
  {
   "cell_type": "markdown",
   "id": "a0536ed8",
   "metadata": {},
   "source": [
    "nombre_infected       854\n",
    "nombre_sain          2214\n",
    "nombre_exposed        521\n",
    "nombre_recovered    16411\n",
    "Name: 603, dtype: int64"
   ]
  },
  {
   "cell_type": "markdown",
   "id": "6b8b3e6e",
   "metadata": {},
   "source": [
    "nombre_infected       856\n",
    "nombre_sain          2230\n",
    "nombre_exposed        484\n",
    "nombre_recovered    16430\n",
    "Name: 604, dtype: int64"
   ]
  },
  {
   "cell_type": "markdown",
   "id": "23215be5",
   "metadata": {},
   "source": [
    "nombre_infected       869\n",
    "nombre_sain          2215\n",
    "nombre_exposed        489\n",
    "nombre_recovered    16427\n",
    "Name: 605, dtype: int64"
   ]
  },
  {
   "cell_type": "markdown",
   "id": "88d710a2",
   "metadata": {},
   "source": [
    "nombre_infected       857\n",
    "nombre_sain          2208\n",
    "nombre_exposed        491\n",
    "nombre_recovered    16444\n",
    "Name: 606, dtype: int64"
   ]
  },
  {
   "cell_type": "markdown",
   "id": "1f8bf431",
   "metadata": {},
   "source": [
    "nombre_infected       846\n",
    "nombre_sain          2172\n",
    "nombre_exposed        502\n",
    "nombre_recovered    16480\n",
    "Name: 607, dtype: int64"
   ]
  },
  {
   "cell_type": "markdown",
   "id": "a99a7488",
   "metadata": {},
   "source": [
    "nombre_infected       861\n",
    "nombre_sain          2174\n",
    "nombre_exposed        507\n",
    "nombre_recovered    16458\n",
    "Name: 608, dtype: int64"
   ]
  },
  {
   "cell_type": "markdown",
   "id": "3c5c81cf",
   "metadata": {},
   "source": [
    "nombre_infected       871\n",
    "nombre_sain          2144\n",
    "nombre_exposed        504\n",
    "nombre_recovered    16481\n",
    "Name: 609, dtype: int64"
   ]
  },
  {
   "cell_type": "markdown",
   "id": "4188f7fc",
   "metadata": {},
   "source": [
    "nombre_infected       881\n",
    "nombre_sain          2167\n",
    "nombre_exposed        475\n",
    "nombre_recovered    16477\n",
    "Name: 610, dtype: int64"
   ]
  },
  {
   "cell_type": "markdown",
   "id": "caf3177b",
   "metadata": {},
   "source": [
    "nombre_infected       861\n",
    "nombre_sain          2147\n",
    "nombre_exposed        501\n",
    "nombre_recovered    16491\n",
    "Name: 611, dtype: int64"
   ]
  },
  {
   "cell_type": "markdown",
   "id": "1ed5a2fa",
   "metadata": {},
   "source": [
    "nombre_infected       855\n",
    "nombre_sain          2149\n",
    "nombre_exposed        511\n",
    "nombre_recovered    16485\n",
    "Name: 612, dtype: int64"
   ]
  },
  {
   "cell_type": "markdown",
   "id": "15c04b33",
   "metadata": {},
   "source": [
    "nombre_infected       878\n",
    "nombre_sain          2162\n",
    "nombre_exposed        486\n",
    "nombre_recovered    16474\n",
    "Name: 613, dtype: int64"
   ]
  },
  {
   "cell_type": "markdown",
   "id": "3e8e9c42",
   "metadata": {},
   "source": [
    "nombre_infected       888\n",
    "nombre_sain          2154\n",
    "nombre_exposed        499\n",
    "nombre_recovered    16459\n",
    "Name: 614, dtype: int64"
   ]
  },
  {
   "cell_type": "markdown",
   "id": "6913b2e2",
   "metadata": {},
   "source": [
    "nombre_infected       892\n",
    "nombre_sain          2107\n",
    "nombre_exposed        501\n",
    "nombre_recovered    16500\n",
    "Name: 615, dtype: int64"
   ]
  },
  {
   "cell_type": "markdown",
   "id": "a772cd70",
   "metadata": {},
   "source": [
    "nombre_infected       911\n",
    "nombre_sain          2086\n",
    "nombre_exposed        495\n",
    "nombre_recovered    16508\n",
    "Name: 616, dtype: int64"
   ]
  },
  {
   "cell_type": "markdown",
   "id": "be558250",
   "metadata": {},
   "source": [
    "nombre_infected       921\n",
    "nombre_sain          2077\n",
    "nombre_exposed        501\n",
    "nombre_recovered    16501\n",
    "Name: 617, dtype: int64"
   ]
  },
  {
   "cell_type": "markdown",
   "id": "6d536ac0",
   "metadata": {},
   "source": [
    "nombre_infected       907\n",
    "nombre_sain          2054\n",
    "nombre_exposed        507\n",
    "nombre_recovered    16532\n",
    "Name: 618, dtype: int64"
   ]
  },
  {
   "cell_type": "markdown",
   "id": "9f3cd6bf",
   "metadata": {},
   "source": [
    "nombre_infected       928\n",
    "nombre_sain          2057\n",
    "nombre_exposed        486\n",
    "nombre_recovered    16529\n",
    "Name: 619, dtype: int64"
   ]
  },
  {
   "cell_type": "markdown",
   "id": "165568c8",
   "metadata": {},
   "source": [
    "nombre_infected       947\n",
    "nombre_sain          2020\n",
    "nombre_exposed        496\n",
    "nombre_recovered    16537\n",
    "Name: 620, dtype: int64"
   ]
  },
  {
   "cell_type": "markdown",
   "id": "71cb70c6",
   "metadata": {},
   "source": [
    "nombre_infected       942\n",
    "nombre_sain          2013\n",
    "nombre_exposed        497\n",
    "nombre_recovered    16548\n",
    "Name: 621, dtype: int64"
   ]
  },
  {
   "cell_type": "markdown",
   "id": "26207839",
   "metadata": {},
   "source": [
    "nombre_infected       946\n",
    "nombre_sain          1991\n",
    "nombre_exposed        486\n",
    "nombre_recovered    16577\n",
    "Name: 622, dtype: int64"
   ]
  },
  {
   "cell_type": "markdown",
   "id": "fc607397",
   "metadata": {},
   "source": [
    "nombre_infected       958\n",
    "nombre_sain          1968\n",
    "nombre_exposed        478\n",
    "nombre_recovered    16596\n",
    "Name: 623, dtype: int64"
   ]
  },
  {
   "cell_type": "markdown",
   "id": "b3ab4927",
   "metadata": {},
   "source": [
    "nombre_infected       959\n",
    "nombre_sain          1963\n",
    "nombre_exposed        456\n",
    "nombre_recovered    16622\n",
    "Name: 624, dtype: int64"
   ]
  },
  {
   "cell_type": "markdown",
   "id": "7c9d17c2",
   "metadata": {},
   "source": [
    "nombre_infected       959\n",
    "nombre_sain          1929\n",
    "nombre_exposed        450\n",
    "nombre_recovered    16662\n",
    "Name: 625, dtype: int64"
   ]
  },
  {
   "cell_type": "markdown",
   "id": "77ef7253",
   "metadata": {},
   "source": [
    "nombre_infected       967\n",
    "nombre_sain          1911\n",
    "nombre_exposed        462\n",
    "nombre_recovered    16660\n",
    "Name: 626, dtype: int64"
   ]
  },
  {
   "cell_type": "markdown",
   "id": "62b6f6f2",
   "metadata": {},
   "source": [
    "nombre_infected       959\n",
    "nombre_sain          1876\n",
    "nombre_exposed        470\n",
    "nombre_recovered    16695\n",
    "Name: 627, dtype: int64"
   ]
  },
  {
   "cell_type": "markdown",
   "id": "64927cbb",
   "metadata": {},
   "source": [
    "nombre_infected       938\n",
    "nombre_sain          1900\n",
    "nombre_exposed        457\n",
    "nombre_recovered    16705\n",
    "Name: 628, dtype: int64"
   ]
  },
  {
   "cell_type": "markdown",
   "id": "252553b3",
   "metadata": {},
   "source": [
    "nombre_infected       902\n",
    "nombre_sain          1891\n",
    "nombre_exposed        466\n",
    "nombre_recovered    16741\n",
    "Name: 629, dtype: int64"
   ]
  },
  {
   "cell_type": "markdown",
   "id": "bcfcd7cd",
   "metadata": {},
   "source": [
    "nombre_infected       881\n",
    "nombre_sain          1898\n",
    "nombre_exposed        460\n",
    "nombre_recovered    16761\n",
    "Name: 630, dtype: int64"
   ]
  },
  {
   "cell_type": "markdown",
   "id": "484129e4",
   "metadata": {},
   "source": [
    "nombre_infected       880\n",
    "nombre_sain          1891\n",
    "nombre_exposed        453\n",
    "nombre_recovered    16776\n",
    "Name: 631, dtype: int64"
   ]
  },
  {
   "cell_type": "markdown",
   "id": "a61a2960",
   "metadata": {},
   "source": [
    "nombre_infected       884\n",
    "nombre_sain          1883\n",
    "nombre_exposed        437\n",
    "nombre_recovered    16796\n",
    "Name: 632, dtype: int64"
   ]
  },
  {
   "cell_type": "markdown",
   "id": "635f667a",
   "metadata": {},
   "source": [
    "nombre_infected       882\n",
    "nombre_sain          1884\n",
    "nombre_exposed        429\n",
    "nombre_recovered    16805\n",
    "Name: 633, dtype: int64"
   ]
  },
  {
   "cell_type": "markdown",
   "id": "d4cefb01",
   "metadata": {},
   "source": [
    "nombre_infected       886\n",
    "nombre_sain          1889\n",
    "nombre_exposed        429\n",
    "nombre_recovered    16796\n",
    "Name: 634, dtype: int64"
   ]
  },
  {
   "cell_type": "markdown",
   "id": "ca01ba04",
   "metadata": {},
   "source": [
    "nombre_infected       871\n",
    "nombre_sain          1888\n",
    "nombre_exposed        438\n",
    "nombre_recovered    16803\n",
    "Name: 635, dtype: int64"
   ]
  },
  {
   "cell_type": "markdown",
   "id": "2a031086",
   "metadata": {},
   "source": [
    "nombre_infected       857\n",
    "nombre_sain          1893\n",
    "nombre_exposed        434\n",
    "nombre_recovered    16816\n",
    "Name: 636, dtype: int64"
   ]
  },
  {
   "cell_type": "markdown",
   "id": "aa8cf1b4",
   "metadata": {},
   "source": [
    "nombre_infected       868\n",
    "nombre_sain          1908\n",
    "nombre_exposed        416\n",
    "nombre_recovered    16808\n",
    "Name: 637, dtype: int64"
   ]
  },
  {
   "cell_type": "markdown",
   "id": "c2632358",
   "metadata": {},
   "source": [
    "nombre_infected       873\n",
    "nombre_sain          1924\n",
    "nombre_exposed        412\n",
    "nombre_recovered    16791\n",
    "Name: 638, dtype: int64"
   ]
  },
  {
   "cell_type": "markdown",
   "id": "171d66b7",
   "metadata": {},
   "source": [
    "nombre_infected       897\n",
    "nombre_sain          1908\n",
    "nombre_exposed        418\n",
    "nombre_recovered    16777\n",
    "Name: 639, dtype: int64"
   ]
  },
  {
   "cell_type": "markdown",
   "id": "06ef9f24",
   "metadata": {},
   "source": [
    "nombre_infected       890\n",
    "nombre_sain          1917\n",
    "nombre_exposed        399\n",
    "nombre_recovered    16794\n",
    "Name: 640, dtype: int64"
   ]
  },
  {
   "cell_type": "markdown",
   "id": "66585496",
   "metadata": {},
   "source": [
    "nombre_infected       877\n",
    "nombre_sain          1937\n",
    "nombre_exposed        379\n",
    "nombre_recovered    16807\n",
    "Name: 641, dtype: int64"
   ]
  },
  {
   "cell_type": "markdown",
   "id": "f3547fcb",
   "metadata": {},
   "source": [
    "nombre_infected       862\n",
    "nombre_sain          1939\n",
    "nombre_exposed        386\n",
    "nombre_recovered    16813\n",
    "Name: 642, dtype: int64"
   ]
  },
  {
   "cell_type": "markdown",
   "id": "7bea8dd5",
   "metadata": {},
   "source": [
    "nombre_infected       862\n",
    "nombre_sain          1963\n",
    "nombre_exposed        380\n",
    "nombre_recovered    16795\n",
    "Name: 643, dtype: int64"
   ]
  },
  {
   "cell_type": "markdown",
   "id": "35e14ee4",
   "metadata": {},
   "source": [
    "nombre_infected       832\n",
    "nombre_sain          1989\n",
    "nombre_exposed        376\n",
    "nombre_recovered    16803\n",
    "Name: 644, dtype: int64"
   ]
  },
  {
   "cell_type": "markdown",
   "id": "c8512705",
   "metadata": {},
   "source": [
    "nombre_infected       803\n",
    "nombre_sain          1990\n",
    "nombre_exposed        408\n",
    "nombre_recovered    16799\n",
    "Name: 645, dtype: int64"
   ]
  },
  {
   "cell_type": "markdown",
   "id": "d0fa6bdb",
   "metadata": {},
   "source": [
    "nombre_infected       783\n",
    "nombre_sain          2008\n",
    "nombre_exposed        409\n",
    "nombre_recovered    16800\n",
    "Name: 646, dtype: int64"
   ]
  },
  {
   "cell_type": "markdown",
   "id": "0fbf46d8",
   "metadata": {},
   "source": [
    "nombre_infected       787\n",
    "nombre_sain          2033\n",
    "nombre_exposed        388\n",
    "nombre_recovered    16792\n",
    "Name: 647, dtype: int64"
   ]
  },
  {
   "cell_type": "markdown",
   "id": "97e30737",
   "metadata": {},
   "source": [
    "nombre_infected       808\n",
    "nombre_sain          2027\n",
    "nombre_exposed        385\n",
    "nombre_recovered    16780\n",
    "Name: 648, dtype: int64"
   ]
  },
  {
   "cell_type": "markdown",
   "id": "dabeb4f9",
   "metadata": {},
   "source": [
    "nombre_infected       789\n",
    "nombre_sain          2025\n",
    "nombre_exposed        389\n",
    "nombre_recovered    16797\n",
    "Name: 649, dtype: int64"
   ]
  },
  {
   "cell_type": "markdown",
   "id": "8cce8611",
   "metadata": {},
   "source": [
    "nombre_infected       802\n",
    "nombre_sain          2030\n",
    "nombre_exposed        374\n",
    "nombre_recovered    16794\n",
    "Name: 650, dtype: int64"
   ]
  },
  {
   "cell_type": "markdown",
   "id": "e01c48b5",
   "metadata": {},
   "source": [
    "nombre_infected       814\n",
    "nombre_sain          2053\n",
    "nombre_exposed        357\n",
    "nombre_recovered    16776\n",
    "Name: 651, dtype: int64"
   ]
  },
  {
   "cell_type": "markdown",
   "id": "7b13a57a",
   "metadata": {},
   "source": [
    "nombre_infected       798\n",
    "nombre_sain          2067\n",
    "nombre_exposed        373\n",
    "nombre_recovered    16762\n",
    "Name: 652, dtype: int64"
   ]
  },
  {
   "cell_type": "markdown",
   "id": "47ce8fb5",
   "metadata": {},
   "source": [
    "nombre_infected       781\n",
    "nombre_sain          2072\n",
    "nombre_exposed        383\n",
    "nombre_recovered    16764\n",
    "Name: 653, dtype: int64"
   ]
  },
  {
   "cell_type": "markdown",
   "id": "1f462bb3",
   "metadata": {},
   "source": [
    "nombre_infected       775\n",
    "nombre_sain          2066\n",
    "nombre_exposed        397\n",
    "nombre_recovered    16762\n",
    "Name: 654, dtype: int64"
   ]
  },
  {
   "cell_type": "markdown",
   "id": "f2dc18bf",
   "metadata": {},
   "source": [
    "nombre_infected       770\n",
    "nombre_sain          2073\n",
    "nombre_exposed        394\n",
    "nombre_recovered    16763\n",
    "Name: 655, dtype: int64"
   ]
  },
  {
   "cell_type": "markdown",
   "id": "e698236f",
   "metadata": {},
   "source": [
    "nombre_infected       788\n",
    "nombre_sain          2104\n",
    "nombre_exposed        359\n",
    "nombre_recovered    16749\n",
    "Name: 656, dtype: int64"
   ]
  },
  {
   "cell_type": "markdown",
   "id": "da37fcd9",
   "metadata": {},
   "source": [
    "nombre_infected       792\n",
    "nombre_sain          2078\n",
    "nombre_exposed        387\n",
    "nombre_recovered    16743\n",
    "Name: 657, dtype: int64"
   ]
  },
  {
   "cell_type": "markdown",
   "id": "7a67cc08",
   "metadata": {},
   "source": [
    "nombre_infected       790\n",
    "nombre_sain          2101\n",
    "nombre_exposed        378\n",
    "nombre_recovered    16731\n",
    "Name: 658, dtype: int64"
   ]
  },
  {
   "cell_type": "markdown",
   "id": "9f22250b",
   "metadata": {},
   "source": [
    "nombre_infected       777\n",
    "nombre_sain          2128\n",
    "nombre_exposed        392\n",
    "nombre_recovered    16703\n",
    "Name: 659, dtype: int64"
   ]
  },
  {
   "cell_type": "markdown",
   "id": "86d4d838",
   "metadata": {},
   "source": [
    "nombre_infected       773\n",
    "nombre_sain          2127\n",
    "nombre_exposed        408\n",
    "nombre_recovered    16692\n",
    "Name: 660, dtype: int64"
   ]
  },
  {
   "cell_type": "markdown",
   "id": "640653e3",
   "metadata": {},
   "source": [
    "nombre_infected       765\n",
    "nombre_sain          2125\n",
    "nombre_exposed        417\n",
    "nombre_recovered    16693\n",
    "Name: 661, dtype: int64"
   ]
  },
  {
   "cell_type": "markdown",
   "id": "72737297",
   "metadata": {},
   "source": [
    "nombre_infected       789\n",
    "nombre_sain          2111\n",
    "nombre_exposed        412\n",
    "nombre_recovered    16688\n",
    "Name: 662, dtype: int64"
   ]
  },
  {
   "cell_type": "markdown",
   "id": "d49037f1",
   "metadata": {},
   "source": [
    "nombre_infected       770\n",
    "nombre_sain          2144\n",
    "nombre_exposed        397\n",
    "nombre_recovered    16689\n",
    "Name: 663, dtype: int64"
   ]
  },
  {
   "cell_type": "markdown",
   "id": "b83b2c99",
   "metadata": {},
   "source": [
    "nombre_infected       787\n",
    "nombre_sain          2130\n",
    "nombre_exposed        386\n",
    "nombre_recovered    16697\n",
    "Name: 664, dtype: int64"
   ]
  },
  {
   "cell_type": "markdown",
   "id": "408f6998",
   "metadata": {},
   "source": [
    "nombre_infected       766\n",
    "nombre_sain          2134\n",
    "nombre_exposed        389\n",
    "nombre_recovered    16711\n",
    "Name: 665, dtype: int64"
   ]
  },
  {
   "cell_type": "markdown",
   "id": "afc1bb64",
   "metadata": {},
   "source": [
    "nombre_infected       760\n",
    "nombre_sain          2151\n",
    "nombre_exposed        387\n",
    "nombre_recovered    16702\n",
    "Name: 666, dtype: int64"
   ]
  },
  {
   "cell_type": "markdown",
   "id": "8a597022",
   "metadata": {},
   "source": [
    "nombre_infected       751\n",
    "nombre_sain          2159\n",
    "nombre_exposed        378\n",
    "nombre_recovered    16712\n",
    "Name: 667, dtype: int64"
   ]
  },
  {
   "cell_type": "markdown",
   "id": "031e38f9",
   "metadata": {},
   "source": [
    "nombre_infected       741\n",
    "nombre_sain          2131\n",
    "nombre_exposed        400\n",
    "nombre_recovered    16728\n",
    "Name: 668, dtype: int64"
   ]
  },
  {
   "cell_type": "markdown",
   "id": "fc5c130f",
   "metadata": {},
   "source": [
    "nombre_infected       748\n",
    "nombre_sain          2129\n",
    "nombre_exposed        402\n",
    "nombre_recovered    16721\n",
    "Name: 669, dtype: int64"
   ]
  },
  {
   "cell_type": "markdown",
   "id": "6c62d15f",
   "metadata": {},
   "source": [
    "nombre_infected       758\n",
    "nombre_sain          2157\n",
    "nombre_exposed        374\n",
    "nombre_recovered    16711\n",
    "Name: 670, dtype: int64"
   ]
  },
  {
   "cell_type": "markdown",
   "id": "70e95053",
   "metadata": {},
   "source": [
    "nombre_infected       750\n",
    "nombre_sain          2161\n",
    "nombre_exposed        366\n",
    "nombre_recovered    16723\n",
    "Name: 671, dtype: int64"
   ]
  },
  {
   "cell_type": "markdown",
   "id": "d393cd8a",
   "metadata": {},
   "source": [
    "nombre_infected       737\n",
    "nombre_sain          2151\n",
    "nombre_exposed        391\n",
    "nombre_recovered    16721\n",
    "Name: 672, dtype: int64"
   ]
  },
  {
   "cell_type": "markdown",
   "id": "8ddc6076",
   "metadata": {},
   "source": [
    "nombre_infected       727\n",
    "nombre_sain          2137\n",
    "nombre_exposed        412\n",
    "nombre_recovered    16724\n",
    "Name: 673, dtype: int64"
   ]
  },
  {
   "cell_type": "markdown",
   "id": "09a83e3e",
   "metadata": {},
   "source": [
    "nombre_infected       725\n",
    "nombre_sain          2137\n",
    "nombre_exposed        410\n",
    "nombre_recovered    16728\n",
    "Name: 674, dtype: int64"
   ]
  },
  {
   "cell_type": "markdown",
   "id": "da2986f3",
   "metadata": {},
   "source": [
    "nombre_infected       763\n",
    "nombre_sain          2160\n",
    "nombre_exposed        372\n",
    "nombre_recovered    16705\n",
    "Name: 675, dtype: int64"
   ]
  },
  {
   "cell_type": "markdown",
   "id": "2d0f441e",
   "metadata": {},
   "source": [
    "nombre_infected       760\n",
    "nombre_sain          2175\n",
    "nombre_exposed        382\n",
    "nombre_recovered    16683\n",
    "Name: 676, dtype: int64"
   ]
  },
  {
   "cell_type": "markdown",
   "id": "b5d699d7",
   "metadata": {},
   "source": [
    "nombre_infected       741\n",
    "nombre_sain          2203\n",
    "nombre_exposed        383\n",
    "nombre_recovered    16673\n",
    "Name: 677, dtype: int64"
   ]
  },
  {
   "cell_type": "markdown",
   "id": "95ac49c4",
   "metadata": {},
   "source": [
    "nombre_infected       728\n",
    "nombre_sain          2193\n",
    "nombre_exposed        405\n",
    "nombre_recovered    16674\n",
    "Name: 678, dtype: int64"
   ]
  },
  {
   "cell_type": "markdown",
   "id": "b4ba6902",
   "metadata": {},
   "source": [
    "nombre_infected       718\n",
    "nombre_sain          2191\n",
    "nombre_exposed        415\n",
    "nombre_recovered    16676\n",
    "Name: 679, dtype: int64"
   ]
  },
  {
   "cell_type": "markdown",
   "id": "5d144f3f",
   "metadata": {},
   "source": [
    "nombre_infected       736\n",
    "nombre_sain          2195\n",
    "nombre_exposed        421\n",
    "nombre_recovered    16648\n",
    "Name: 680, dtype: int64"
   ]
  },
  {
   "cell_type": "markdown",
   "id": "d5f24865",
   "metadata": {},
   "source": [
    "nombre_infected       749\n",
    "nombre_sain          2229\n",
    "nombre_exposed        392\n",
    "nombre_recovered    16630\n",
    "Name: 681, dtype: int64"
   ]
  },
  {
   "cell_type": "markdown",
   "id": "92f9a19b",
   "metadata": {},
   "source": [
    "nombre_infected       738\n",
    "nombre_sain          2253\n",
    "nombre_exposed        374\n",
    "nombre_recovered    16635\n",
    "Name: 682, dtype: int64"
   ]
  },
  {
   "cell_type": "markdown",
   "id": "932161ce",
   "metadata": {},
   "source": [
    "nombre_infected       714\n",
    "nombre_sain          2252\n",
    "nombre_exposed        391\n",
    "nombre_recovered    16643\n",
    "Name: 683, dtype: int64"
   ]
  },
  {
   "cell_type": "markdown",
   "id": "a020e025",
   "metadata": {},
   "source": [
    "nombre_infected       685\n",
    "nombre_sain          2268\n",
    "nombre_exposed        407\n",
    "nombre_recovered    16640\n",
    "Name: 684, dtype: int64"
   ]
  },
  {
   "cell_type": "markdown",
   "id": "04733094",
   "metadata": {},
   "source": [
    "nombre_infected       679\n",
    "nombre_sain          2275\n",
    "nombre_exposed        419\n",
    "nombre_recovered    16627\n",
    "Name: 685, dtype: int64"
   ]
  },
  {
   "cell_type": "markdown",
   "id": "8b459c4c",
   "metadata": {},
   "source": [
    "nombre_infected       696\n",
    "nombre_sain          2309\n",
    "nombre_exposed        391\n",
    "nombre_recovered    16604\n",
    "Name: 686, dtype: int64"
   ]
  },
  {
   "cell_type": "markdown",
   "id": "ea3adde0",
   "metadata": {},
   "source": [
    "nombre_infected       709\n",
    "nombre_sain          2319\n",
    "nombre_exposed        397\n",
    "nombre_recovered    16575\n",
    "Name: 687, dtype: int64"
   ]
  },
  {
   "cell_type": "markdown",
   "id": "0dfcd3fd",
   "metadata": {},
   "source": [
    "nombre_infected       703\n",
    "nombre_sain          2335\n",
    "nombre_exposed        389\n",
    "nombre_recovered    16573\n",
    "Name: 688, dtype: int64"
   ]
  },
  {
   "cell_type": "markdown",
   "id": "6d8fa1a2",
   "metadata": {},
   "source": [
    "nombre_infected       691\n",
    "nombre_sain          2354\n",
    "nombre_exposed        388\n",
    "nombre_recovered    16567\n",
    "Name: 689, dtype: int64"
   ]
  },
  {
   "cell_type": "markdown",
   "id": "0a9dfd4b",
   "metadata": {},
   "source": [
    "nombre_infected       688\n",
    "nombre_sain          2359\n",
    "nombre_exposed        396\n",
    "nombre_recovered    16557\n",
    "Name: 690, dtype: int64"
   ]
  },
  {
   "cell_type": "markdown",
   "id": "af579d0d",
   "metadata": {},
   "source": [
    "nombre_infected       692\n",
    "nombre_sain          2364\n",
    "nombre_exposed        394\n",
    "nombre_recovered    16550\n",
    "Name: 691, dtype: int64"
   ]
  },
  {
   "cell_type": "markdown",
   "id": "68177293",
   "metadata": {},
   "source": [
    "nombre_infected       699\n",
    "nombre_sain          2351\n",
    "nombre_exposed        397\n",
    "nombre_recovered    16553\n",
    "Name: 692, dtype: int64"
   ]
  },
  {
   "cell_type": "markdown",
   "id": "e9416800",
   "metadata": {},
   "source": [
    "nombre_infected       686\n",
    "nombre_sain          2367\n",
    "nombre_exposed        418\n",
    "nombre_recovered    16529\n",
    "Name: 693, dtype: int64"
   ]
  },
  {
   "cell_type": "markdown",
   "id": "6a198bb1",
   "metadata": {},
   "source": [
    "nombre_infected       693\n",
    "nombre_sain          2382\n",
    "nombre_exposed        391\n",
    "nombre_recovered    16534\n",
    "Name: 694, dtype: int64"
   ]
  },
  {
   "cell_type": "markdown",
   "id": "4d105c0a",
   "metadata": {},
   "source": [
    "nombre_infected       704\n",
    "nombre_sain          2375\n",
    "nombre_exposed        403\n",
    "nombre_recovered    16518\n",
    "Name: 695, dtype: int64"
   ]
  },
  {
   "cell_type": "markdown",
   "id": "c908e6f9",
   "metadata": {},
   "source": [
    "nombre_infected       688\n",
    "nombre_sain          2392\n",
    "nombre_exposed        418\n",
    "nombre_recovered    16502\n",
    "Name: 696, dtype: int64"
   ]
  },
  {
   "cell_type": "markdown",
   "id": "df318f3d",
   "metadata": {},
   "source": [
    "nombre_infected       686\n",
    "nombre_sain          2399\n",
    "nombre_exposed        417\n",
    "nombre_recovered    16498\n",
    "Name: 697, dtype: int64"
   ]
  },
  {
   "cell_type": "markdown",
   "id": "b91d69b9",
   "metadata": {},
   "source": [
    "nombre_infected       707\n",
    "nombre_sain          2410\n",
    "nombre_exposed        411\n",
    "nombre_recovered    16472\n",
    "Name: 698, dtype: int64"
   ]
  },
  {
   "cell_type": "markdown",
   "id": "fb5f3d55",
   "metadata": {},
   "source": [
    "nombre_infected       734\n",
    "nombre_sain          2400\n",
    "nombre_exposed        409\n",
    "nombre_recovered    16457\n",
    "Name: 699, dtype: int64"
   ]
  },
  {
   "cell_type": "markdown",
   "id": "2c34ad8f",
   "metadata": {},
   "source": [
    "nombre_infected       731\n",
    "nombre_sain          2419\n",
    "nombre_exposed        414\n",
    "nombre_recovered    16436\n",
    "Name: 700, dtype: int64"
   ]
  },
  {
   "cell_type": "markdown",
   "id": "3144be8c",
   "metadata": {},
   "source": [
    "nombre_infected       735\n",
    "nombre_sain          2416\n",
    "nombre_exposed        415\n",
    "nombre_recovered    16434\n",
    "Name: 701, dtype: int64"
   ]
  },
  {
   "cell_type": "markdown",
   "id": "5ba1f59c",
   "metadata": {},
   "source": [
    "nombre_infected       738\n",
    "nombre_sain          2439\n",
    "nombre_exposed        388\n",
    "nombre_recovered    16435\n",
    "Name: 702, dtype: int64"
   ]
  },
  {
   "cell_type": "markdown",
   "id": "a96c2ef5",
   "metadata": {},
   "source": [
    "nombre_infected       740\n",
    "nombre_sain          2467\n",
    "nombre_exposed        405\n",
    "nombre_recovered    16388\n",
    "Name: 703, dtype: int64"
   ]
  },
  {
   "cell_type": "markdown",
   "id": "770b1a32",
   "metadata": {},
   "source": [
    "nombre_infected       734\n",
    "nombre_sain          2484\n",
    "nombre_exposed        404\n",
    "nombre_recovered    16378\n",
    "Name: 704, dtype: int64"
   ]
  },
  {
   "cell_type": "markdown",
   "id": "b940878c",
   "metadata": {},
   "source": [
    "nombre_infected       732\n",
    "nombre_sain          2473\n",
    "nombre_exposed        419\n",
    "nombre_recovered    16376\n",
    "Name: 705, dtype: int64"
   ]
  },
  {
   "cell_type": "markdown",
   "id": "91ccecbe",
   "metadata": {},
   "source": [
    "nombre_infected       731\n",
    "nombre_sain          2468\n",
    "nombre_exposed        435\n",
    "nombre_recovered    16366\n",
    "Name: 706, dtype: int64"
   ]
  },
  {
   "cell_type": "markdown",
   "id": "35c06ddc",
   "metadata": {},
   "source": [
    "nombre_infected       726\n",
    "nombre_sain          2472\n",
    "nombre_exposed        445\n",
    "nombre_recovered    16357\n",
    "Name: 707, dtype: int64"
   ]
  },
  {
   "cell_type": "markdown",
   "id": "33136bdb",
   "metadata": {},
   "source": [
    "nombre_infected       733\n",
    "nombre_sain          2459\n",
    "nombre_exposed        457\n",
    "nombre_recovered    16351\n",
    "Name: 708, dtype: int64"
   ]
  },
  {
   "cell_type": "markdown",
   "id": "726275ae",
   "metadata": {},
   "source": [
    "nombre_infected       768\n",
    "nombre_sain          2439\n",
    "nombre_exposed        463\n",
    "nombre_recovered    16330\n",
    "Name: 709, dtype: int64"
   ]
  },
  {
   "cell_type": "markdown",
   "id": "d106c918",
   "metadata": {},
   "source": [
    "nombre_infected       782\n",
    "nombre_sain          2437\n",
    "nombre_exposed        460\n",
    "nombre_recovered    16321\n",
    "Name: 710, dtype: int64"
   ]
  },
  {
   "cell_type": "markdown",
   "id": "0cae4aef",
   "metadata": {},
   "source": [
    "nombre_infected       804\n",
    "nombre_sain          2452\n",
    "nombre_exposed        462\n",
    "nombre_recovered    16282\n",
    "Name: 711, dtype: int64"
   ]
  },
  {
   "cell_type": "markdown",
   "id": "ae6fb198",
   "metadata": {},
   "source": [
    "nombre_infected       813\n",
    "nombre_sain          2448\n",
    "nombre_exposed        467\n",
    "nombre_recovered    16272\n",
    "Name: 712, dtype: int64"
   ]
  },
  {
   "cell_type": "markdown",
   "id": "989bd6b3",
   "metadata": {},
   "source": [
    "nombre_infected       828\n",
    "nombre_sain          2444\n",
    "nombre_exposed        459\n",
    "nombre_recovered    16269\n",
    "Name: 713, dtype: int64"
   ]
  },
  {
   "cell_type": "markdown",
   "id": "4f33eb07",
   "metadata": {},
   "source": [
    "nombre_infected       831\n",
    "nombre_sain          2457\n",
    "nombre_exposed        453\n",
    "nombre_recovered    16259\n",
    "Name: 714, dtype: int64"
   ]
  },
  {
   "cell_type": "markdown",
   "id": "ac04afe9",
   "metadata": {},
   "source": [
    "nombre_infected       838\n",
    "nombre_sain          2416\n",
    "nombre_exposed        457\n",
    "nombre_recovered    16289\n",
    "Name: 715, dtype: int64"
   ]
  },
  {
   "cell_type": "markdown",
   "id": "20410557",
   "metadata": {},
   "source": [
    "nombre_infected       864\n",
    "nombre_sain          2362\n",
    "nombre_exposed        477\n",
    "nombre_recovered    16297\n",
    "Name: 716, dtype: int64"
   ]
  },
  {
   "cell_type": "markdown",
   "id": "82709c03",
   "metadata": {},
   "source": [
    "nombre_infected       848\n",
    "nombre_sain          2350\n",
    "nombre_exposed        493\n",
    "nombre_recovered    16309\n",
    "Name: 717, dtype: int64"
   ]
  },
  {
   "cell_type": "markdown",
   "id": "547df094",
   "metadata": {},
   "source": [
    "nombre_infected       859\n",
    "nombre_sain          2347\n",
    "nombre_exposed        503\n",
    "nombre_recovered    16291\n",
    "Name: 718, dtype: int64"
   ]
  },
  {
   "cell_type": "markdown",
   "id": "27189296",
   "metadata": {},
   "source": [
    "nombre_infected       866\n",
    "nombre_sain          2348\n",
    "nombre_exposed        507\n",
    "nombre_recovered    16279\n",
    "Name: 719, dtype: int64"
   ]
  },
  {
   "cell_type": "markdown",
   "id": "342d5351",
   "metadata": {},
   "source": [
    "nombre_infected       858\n",
    "nombre_sain          2342\n",
    "nombre_exposed        502\n",
    "nombre_recovered    16298\n",
    "Name: 720, dtype: int64"
   ]
  },
  {
   "cell_type": "markdown",
   "id": "5e60da1c",
   "metadata": {},
   "source": [
    "nombre_infected       879\n",
    "nombre_sain          2329\n",
    "nombre_exposed        513\n",
    "nombre_recovered    16279\n",
    "Name: 721, dtype: int64"
   ]
  },
  {
   "cell_type": "markdown",
   "id": "b699a14f",
   "metadata": {},
   "source": [
    "nombre_infected       880\n",
    "nombre_sain          2310\n",
    "nombre_exposed        501\n",
    "nombre_recovered    16309\n",
    "Name: 722, dtype: int64"
   ]
  },
  {
   "cell_type": "markdown",
   "id": "24d2891a",
   "metadata": {},
   "source": [
    "nombre_infected       859\n",
    "nombre_sain          2300\n",
    "nombre_exposed        501\n",
    "nombre_recovered    16340\n",
    "Name: 723, dtype: int64"
   ]
  },
  {
   "cell_type": "markdown",
   "id": "d886bc92",
   "metadata": {},
   "source": [
    "nombre_infected       859\n",
    "nombre_sain          2323\n",
    "nombre_exposed        478\n",
    "nombre_recovered    16340\n",
    "Name: 724, dtype: int64"
   ]
  },
  {
   "cell_type": "markdown",
   "id": "340c83d6",
   "metadata": {},
   "source": [
    "nombre_infected       879\n",
    "nombre_sain          2299\n",
    "nombre_exposed        465\n",
    "nombre_recovered    16357\n",
    "Name: 725, dtype: int64"
   ]
  },
  {
   "cell_type": "markdown",
   "id": "819bf9c0",
   "metadata": {},
   "source": [
    "nombre_infected       901\n",
    "nombre_sain          2308\n",
    "nombre_exposed        458\n",
    "nombre_recovered    16333\n",
    "Name: 726, dtype: int64"
   ]
  },
  {
   "cell_type": "markdown",
   "id": "a1460dd1",
   "metadata": {},
   "source": [
    "nombre_infected       917\n",
    "nombre_sain          2326\n",
    "nombre_exposed        446\n",
    "nombre_recovered    16311\n",
    "Name: 727, dtype: int64"
   ]
  },
  {
   "cell_type": "markdown",
   "id": "e449fdf4",
   "metadata": {},
   "source": [
    "nombre_infected       902\n",
    "nombre_sain          2315\n",
    "nombre_exposed        466\n",
    "nombre_recovered    16317\n",
    "Name: 728, dtype: int64"
   ]
  },
  {
   "cell_type": "markdown",
   "id": "79cc5f88",
   "metadata": {},
   "source": [
    "nombre_infected       908\n",
    "nombre_sain          2275\n",
    "nombre_exposed        503\n",
    "nombre_recovered    16314\n",
    "Name: 729, dtype: int64"
   ]
  },
  {
   "cell_type": "markdown",
   "id": "9911265d",
   "metadata": {},
   "source": [
    "nombre_infected       918\n",
    "nombre_sain          2238\n",
    "nombre_exposed        534\n",
    "nombre_recovered    16310\n",
    "Name: 730, dtype: int64"
   ]
  }
 ],
 "metadata": {},
 "nbformat": 4,
 "nbformat_minor": 5
}
