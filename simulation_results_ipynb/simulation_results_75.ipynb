{
 "cells": [
  {
   "cell_type": "markdown",
   "id": "dee2ebf6",
   "metadata": {},
   "source": [
    "nombre_infected        20\n",
    "nombre_sain         19980\n",
    "nombre_exposed          0\n",
    "nombre_recovered        0\n",
    "Name: 0, dtype: int64"
   ]
  },
  {
   "cell_type": "markdown",
   "id": "4f24ee08",
   "metadata": {},
   "source": [
    "nombre_infected        20\n",
    "nombre_sain         19959\n",
    "nombre_exposed         21\n",
    "nombre_recovered        0\n",
    "Name: 1, dtype: int64"
   ]
  },
  {
   "cell_type": "markdown",
   "id": "9c2f4ab2",
   "metadata": {},
   "source": [
    "nombre_infected        19\n",
    "nombre_sain         19939\n",
    "nombre_exposed         41\n",
    "nombre_recovered        1\n",
    "Name: 2, dtype: int64"
   ]
  },
  {
   "cell_type": "markdown",
   "id": "91ef612b",
   "metadata": {},
   "source": [
    "nombre_infected         6\n",
    "nombre_sain         19920\n",
    "nombre_exposed         54\n",
    "nombre_recovered       20\n",
    "Name: 3, dtype: int64"
   ]
  },
  {
   "cell_type": "markdown",
   "id": "620cfe90",
   "metadata": {},
   "source": [
    "nombre_infected        18\n",
    "nombre_sain         19901\n",
    "nombre_exposed         61\n",
    "nombre_recovered       20\n",
    "Name: 4, dtype: int64"
   ]
  },
  {
   "cell_type": "markdown",
   "id": "b06adb9b",
   "metadata": {},
   "source": [
    "nombre_infected        29\n",
    "nombre_sain         19871\n",
    "nombre_exposed         79\n",
    "nombre_recovered       21\n",
    "Name: 5, dtype: int64"
   ]
  },
  {
   "cell_type": "markdown",
   "id": "2601de33",
   "metadata": {},
   "source": [
    "nombre_infected        35\n",
    "nombre_sain         19830\n",
    "nombre_exposed        110\n",
    "nombre_recovered       25\n",
    "Name: 6, dtype: int64"
   ]
  },
  {
   "cell_type": "markdown",
   "id": "e2a074f5",
   "metadata": {},
   "source": [
    "nombre_infected        49\n",
    "nombre_sain         19776\n",
    "nombre_exposed        146\n",
    "nombre_recovered       29\n",
    "Name: 7, dtype: int64"
   ]
  },
  {
   "cell_type": "markdown",
   "id": "96c42ab4",
   "metadata": {},
   "source": [
    "nombre_infected        64\n",
    "nombre_sain         19718\n",
    "nombre_exposed        183\n",
    "nombre_recovered       35\n",
    "Name: 8, dtype: int64"
   ]
  },
  {
   "cell_type": "markdown",
   "id": "c121a496",
   "metadata": {},
   "source": [
    "nombre_infected        91\n",
    "nombre_sain         19620\n",
    "nombre_exposed        249\n",
    "nombre_recovered       40\n",
    "Name: 9, dtype: int64"
   ]
  },
  {
   "cell_type": "markdown",
   "id": "65cc8088",
   "metadata": {},
   "source": [
    "nombre_infected       123\n",
    "nombre_sain         19495\n",
    "nombre_exposed        332\n",
    "nombre_recovered       50\n",
    "Name: 10, dtype: int64"
   ]
  },
  {
   "cell_type": "markdown",
   "id": "63d61d0e",
   "metadata": {},
   "source": [
    "nombre_infected       164\n",
    "nombre_sain         19320\n",
    "nombre_exposed        461\n",
    "nombre_recovered       55\n",
    "Name: 11, dtype: int64"
   ]
  },
  {
   "cell_type": "markdown",
   "id": "c239614d",
   "metadata": {},
   "source": [
    "nombre_infected       230\n",
    "nombre_sain         19099\n",
    "nombre_exposed        606\n",
    "nombre_recovered       65\n",
    "Name: 12, dtype: int64"
   ]
  },
  {
   "cell_type": "markdown",
   "id": "56cd0085",
   "metadata": {},
   "source": [
    "nombre_infected       335\n",
    "nombre_sain         18750\n",
    "nombre_exposed        827\n",
    "nombre_recovered       88\n",
    "Name: 13, dtype: int64"
   ]
  },
  {
   "cell_type": "markdown",
   "id": "50a8c0d5",
   "metadata": {},
   "source": [
    "nombre_infected       422\n",
    "nombre_sain         18334\n",
    "nombre_exposed       1119\n",
    "nombre_recovered      125\n",
    "Name: 14, dtype: int64"
   ]
  },
  {
   "cell_type": "markdown",
   "id": "9c080dec",
   "metadata": {},
   "source": [
    "nombre_infected       572\n",
    "nombre_sain         17732\n",
    "nombre_exposed       1523\n",
    "nombre_recovered      173\n",
    "Name: 15, dtype: int64"
   ]
  },
  {
   "cell_type": "markdown",
   "id": "8caed9d4",
   "metadata": {},
   "source": [
    "nombre_infected       777\n",
    "nombre_sain         17012\n",
    "nombre_exposed       1991\n",
    "nombre_recovered      220\n",
    "Name: 16, dtype: int64"
   ]
  },
  {
   "cell_type": "markdown",
   "id": "07383c38",
   "metadata": {},
   "source": [
    "nombre_infected      1086\n",
    "nombre_sain         16140\n",
    "nombre_exposed       2475\n",
    "nombre_recovered      299\n",
    "Name: 17, dtype: int64"
   ]
  },
  {
   "cell_type": "markdown",
   "id": "a7bb98a7",
   "metadata": {},
   "source": [
    "nombre_infected      1489\n",
    "nombre_sain         14913\n",
    "nombre_exposed       3217\n",
    "nombre_recovered      381\n",
    "Name: 18, dtype: int64"
   ]
  },
  {
   "cell_type": "markdown",
   "id": "51dce74b",
   "metadata": {},
   "source": [
    "nombre_infected      1911\n",
    "nombre_sain         13498\n",
    "nombre_exposed       4068\n",
    "nombre_recovered      523\n",
    "Name: 19, dtype: int64"
   ]
  },
  {
   "cell_type": "markdown",
   "id": "93bfa80e",
   "metadata": {},
   "source": [
    "nombre_infected      2508\n",
    "nombre_sain         11948\n",
    "nombre_exposed       4846\n",
    "nombre_recovered      698\n",
    "Name: 20, dtype: int64"
   ]
  },
  {
   "cell_type": "markdown",
   "id": "e9b73dd0",
   "metadata": {},
   "source": [
    "nombre_infected      3272\n",
    "nombre_sain         10132\n",
    "nombre_exposed       5660\n",
    "nombre_recovered      936\n",
    "Name: 21, dtype: int64"
   ]
  },
  {
   "cell_type": "markdown",
   "id": "575e7fa2",
   "metadata": {},
   "source": [
    "nombre_infected     4011\n",
    "nombre_sain         8320\n",
    "nombre_exposed      6383\n",
    "nombre_recovered    1286\n",
    "Name: 22, dtype: int64"
   ]
  },
  {
   "cell_type": "markdown",
   "id": "f7c20271",
   "metadata": {},
   "source": [
    "nombre_infected     4903\n",
    "nombre_sain         6626\n",
    "nombre_exposed      6782\n",
    "nombre_recovered    1689\n",
    "Name: 23, dtype: int64"
   ]
  },
  {
   "cell_type": "markdown",
   "id": "55d3c9c9",
   "metadata": {},
   "source": [
    "nombre_infected     5881\n",
    "nombre_sain         5058\n",
    "nombre_exposed      6874\n",
    "nombre_recovered    2187\n",
    "Name: 24, dtype: int64"
   ]
  },
  {
   "cell_type": "markdown",
   "id": "9f91d477",
   "metadata": {},
   "source": [
    "nombre_infected     6777\n",
    "nombre_sain         3676\n",
    "nombre_exposed      6753\n",
    "nombre_recovered    2794\n",
    "Name: 25, dtype: int64"
   ]
  },
  {
   "cell_type": "markdown",
   "id": "f60ec833",
   "metadata": {},
   "source": [
    "nombre_infected     7610\n",
    "nombre_sain         2671\n",
    "nombre_exposed      6188\n",
    "nombre_recovered    3531\n",
    "Name: 26, dtype: int64"
   ]
  },
  {
   "cell_type": "markdown",
   "id": "db9392dd",
   "metadata": {},
   "source": [
    "nombre_infected     8376\n",
    "nombre_sain         1861\n",
    "nombre_exposed      5501\n",
    "nombre_recovered    4262\n",
    "Name: 27, dtype: int64"
   ]
  },
  {
   "cell_type": "markdown",
   "id": "fddd2e7f",
   "metadata": {},
   "source": [
    "nombre_infected     8896\n",
    "nombre_sain         1262\n",
    "nombre_exposed      4672\n",
    "nombre_recovered    5170\n",
    "Name: 28, dtype: int64"
   ]
  },
  {
   "cell_type": "markdown",
   "id": "98dd2862",
   "metadata": {},
   "source": [
    "nombre_infected     9060\n",
    "nombre_sain          863\n",
    "nombre_exposed      3925\n",
    "nombre_recovered    6152\n",
    "Name: 29, dtype: int64"
   ]
  },
  {
   "cell_type": "markdown",
   "id": "7cb37d4a",
   "metadata": {},
   "source": [
    "nombre_infected     9084\n",
    "nombre_sain          579\n",
    "nombre_exposed      3187\n",
    "nombre_recovered    7150\n",
    "Name: 30, dtype: int64"
   ]
  },
  {
   "cell_type": "markdown",
   "id": "e90451da",
   "metadata": {},
   "source": [
    "nombre_infected     8872\n",
    "nombre_sain          402\n",
    "nombre_exposed      2520\n",
    "nombre_recovered    8206\n",
    "Name: 31, dtype: int64"
   ]
  },
  {
   "cell_type": "markdown",
   "id": "ba7a1862",
   "metadata": {},
   "source": [
    "nombre_infected     8515\n",
    "nombre_sain          277\n",
    "nombre_exposed      2009\n",
    "nombre_recovered    9199\n",
    "Name: 32, dtype: int64"
   ]
  },
  {
   "cell_type": "markdown",
   "id": "7182c11b",
   "metadata": {},
   "source": [
    "nombre_infected      8081\n",
    "nombre_sain           214\n",
    "nombre_exposed       1528\n",
    "nombre_recovered    10177\n",
    "Name: 33, dtype: int64"
   ]
  },
  {
   "cell_type": "markdown",
   "id": "cdc1f6cb",
   "metadata": {},
   "source": [
    "nombre_infected      7574\n",
    "nombre_sain           168\n",
    "nombre_exposed       1129\n",
    "nombre_recovered    11129\n",
    "Name: 34, dtype: int64"
   ]
  },
  {
   "cell_type": "markdown",
   "id": "e5dff496",
   "metadata": {},
   "source": [
    "nombre_infected      6943\n",
    "nombre_sain           147\n",
    "nombre_exposed        851\n",
    "nombre_recovered    12059\n",
    "Name: 35, dtype: int64"
   ]
  },
  {
   "cell_type": "markdown",
   "id": "6303c5e7",
   "metadata": {},
   "source": [
    "nombre_infected      6339\n",
    "nombre_sain           117\n",
    "nombre_exposed        632\n",
    "nombre_recovered    12912\n",
    "Name: 36, dtype: int64"
   ]
  },
  {
   "cell_type": "markdown",
   "id": "e746ba4f",
   "metadata": {},
   "source": [
    "nombre_infected      5673\n",
    "nombre_sain            98\n",
    "nombre_exposed        487\n",
    "nombre_recovered    13742\n",
    "Name: 37, dtype: int64"
   ]
  },
  {
   "cell_type": "markdown",
   "id": "24afe6e6",
   "metadata": {},
   "source": [
    "nombre_infected      5078\n",
    "nombre_sain            99\n",
    "nombre_exposed        343\n",
    "nombre_recovered    14480\n",
    "Name: 38, dtype: int64"
   ]
  },
  {
   "cell_type": "markdown",
   "id": "acaf9d69",
   "metadata": {},
   "source": [
    "nombre_infected      4507\n",
    "nombre_sain            92\n",
    "nombre_exposed        267\n",
    "nombre_recovered    15134\n",
    "Name: 39, dtype: int64"
   ]
  },
  {
   "cell_type": "markdown",
   "id": "584ebb4b",
   "metadata": {},
   "source": [
    "nombre_infected      3961\n",
    "nombre_sain           103\n",
    "nombre_exposed        202\n",
    "nombre_recovered    15734\n",
    "Name: 40, dtype: int64"
   ]
  },
  {
   "cell_type": "markdown",
   "id": "b501699b",
   "metadata": {},
   "source": [
    "nombre_infected      3509\n",
    "nombre_sain           101\n",
    "nombre_exposed        144\n",
    "nombre_recovered    16246\n",
    "Name: 41, dtype: int64"
   ]
  },
  {
   "cell_type": "markdown",
   "id": "88ba88cc",
   "metadata": {},
   "source": [
    "nombre_infected      3079\n",
    "nombre_sain           114\n",
    "nombre_exposed         99\n",
    "nombre_recovered    16708\n",
    "Name: 42, dtype: int64"
   ]
  },
  {
   "cell_type": "markdown",
   "id": "c02c60f6",
   "metadata": {},
   "source": [
    "nombre_infected      2669\n",
    "nombre_sain           120\n",
    "nombre_exposed         94\n",
    "nombre_recovered    17117\n",
    "Name: 43, dtype: int64"
   ]
  },
  {
   "cell_type": "markdown",
   "id": "f8cf64fd",
   "metadata": {},
   "source": [
    "nombre_infected      2299\n",
    "nombre_sain           134\n",
    "nombre_exposed         81\n",
    "nombre_recovered    17486\n",
    "Name: 44, dtype: int64"
   ]
  },
  {
   "cell_type": "markdown",
   "id": "00dd58ff",
   "metadata": {},
   "source": [
    "nombre_infected      1985\n",
    "nombre_sain           144\n",
    "nombre_exposed         74\n",
    "nombre_recovered    17797\n",
    "Name: 45, dtype: int64"
   ]
  },
  {
   "cell_type": "markdown",
   "id": "b1f678f6",
   "metadata": {},
   "source": [
    "nombre_infected      1719\n",
    "nombre_sain           154\n",
    "nombre_exposed         69\n",
    "nombre_recovered    18058\n",
    "Name: 46, dtype: int64"
   ]
  },
  {
   "cell_type": "markdown",
   "id": "ba7392f1",
   "metadata": {},
   "source": [
    "nombre_infected      1478\n",
    "nombre_sain           178\n",
    "nombre_exposed         61\n",
    "nombre_recovered    18283\n",
    "Name: 47, dtype: int64"
   ]
  },
  {
   "cell_type": "markdown",
   "id": "6a348bde",
   "metadata": {},
   "source": [
    "nombre_infected      1265\n",
    "nombre_sain           199\n",
    "nombre_exposed         56\n",
    "nombre_recovered    18480\n",
    "Name: 48, dtype: int64"
   ]
  },
  {
   "cell_type": "markdown",
   "id": "21124878",
   "metadata": {},
   "source": [
    "nombre_infected      1078\n",
    "nombre_sain           220\n",
    "nombre_exposed         55\n",
    "nombre_recovered    18647\n",
    "Name: 49, dtype: int64"
   ]
  },
  {
   "cell_type": "markdown",
   "id": "2cb62cd5",
   "metadata": {},
   "source": [
    "nombre_infected       926\n",
    "nombre_sain           259\n",
    "nombre_exposed         59\n",
    "nombre_recovered    18756\n",
    "Name: 50, dtype: int64"
   ]
  },
  {
   "cell_type": "markdown",
   "id": "0de354da",
   "metadata": {},
   "source": [
    "nombre_infected       781\n",
    "nombre_sain           303\n",
    "nombre_exposed         53\n",
    "nombre_recovered    18863\n",
    "Name: 51, dtype: int64"
   ]
  },
  {
   "cell_type": "markdown",
   "id": "405c4cee",
   "metadata": {},
   "source": [
    "nombre_infected       683\n",
    "nombre_sain           338\n",
    "nombre_exposed         50\n",
    "nombre_recovered    18929\n",
    "Name: 52, dtype: int64"
   ]
  },
  {
   "cell_type": "markdown",
   "id": "63341b2e",
   "metadata": {},
   "source": [
    "nombre_infected       592\n",
    "nombre_sain           390\n",
    "nombre_exposed         43\n",
    "nombre_recovered    18975\n",
    "Name: 53, dtype: int64"
   ]
  },
  {
   "cell_type": "markdown",
   "id": "27ec596b",
   "metadata": {},
   "source": [
    "nombre_infected       509\n",
    "nombre_sain           433\n",
    "nombre_exposed         41\n",
    "nombre_recovered    19017\n",
    "Name: 54, dtype: int64"
   ]
  },
  {
   "cell_type": "markdown",
   "id": "2118ee8c",
   "metadata": {},
   "source": [
    "nombre_infected       446\n",
    "nombre_sain           465\n",
    "nombre_exposed         44\n",
    "nombre_recovered    19045\n",
    "Name: 55, dtype: int64"
   ]
  },
  {
   "cell_type": "markdown",
   "id": "9ef38c45",
   "metadata": {},
   "source": [
    "nombre_infected       392\n",
    "nombre_sain           514\n",
    "nombre_exposed         34\n",
    "nombre_recovered    19060\n",
    "Name: 56, dtype: int64"
   ]
  },
  {
   "cell_type": "markdown",
   "id": "405889f5",
   "metadata": {},
   "source": [
    "nombre_infected       360\n",
    "nombre_sain           581\n",
    "nombre_exposed         28\n",
    "nombre_recovered    19031\n",
    "Name: 57, dtype: int64"
   ]
  },
  {
   "cell_type": "markdown",
   "id": "866b4cd6",
   "metadata": {},
   "source": [
    "nombre_infected       311\n",
    "nombre_sain           628\n",
    "nombre_exposed         31\n",
    "nombre_recovered    19030\n",
    "Name: 58, dtype: int64"
   ]
  },
  {
   "cell_type": "markdown",
   "id": "c1084ca9",
   "metadata": {},
   "source": [
    "nombre_infected       277\n",
    "nombre_sain           665\n",
    "nombre_exposed         39\n",
    "nombre_recovered    19019\n",
    "Name: 59, dtype: int64"
   ]
  },
  {
   "cell_type": "markdown",
   "id": "229c4cca",
   "metadata": {},
   "source": [
    "nombre_infected       246\n",
    "nombre_sain           710\n",
    "nombre_exposed         39\n",
    "nombre_recovered    19005\n",
    "Name: 60, dtype: int64"
   ]
  },
  {
   "cell_type": "markdown",
   "id": "1516d511",
   "metadata": {},
   "source": [
    "nombre_infected       224\n",
    "nombre_sain           743\n",
    "nombre_exposed         37\n",
    "nombre_recovered    18996\n",
    "Name: 61, dtype: int64"
   ]
  },
  {
   "cell_type": "markdown",
   "id": "58a69b71",
   "metadata": {},
   "source": [
    "nombre_infected       205\n",
    "nombre_sain           781\n",
    "nombre_exposed         29\n",
    "nombre_recovered    18985\n",
    "Name: 62, dtype: int64"
   ]
  },
  {
   "cell_type": "markdown",
   "id": "a881751b",
   "metadata": {},
   "source": [
    "nombre_infected       193\n",
    "nombre_sain           848\n",
    "nombre_exposed         29\n",
    "nombre_recovered    18930\n",
    "Name: 63, dtype: int64"
   ]
  },
  {
   "cell_type": "markdown",
   "id": "dbf460a7",
   "metadata": {},
   "source": [
    "nombre_infected       170\n",
    "nombre_sain           909\n",
    "nombre_exposed         28\n",
    "nombre_recovered    18893\n",
    "Name: 64, dtype: int64"
   ]
  },
  {
   "cell_type": "markdown",
   "id": "ed2d3363",
   "metadata": {},
   "source": [
    "nombre_infected       149\n",
    "nombre_sain           965\n",
    "nombre_exposed         31\n",
    "nombre_recovered    18855\n",
    "Name: 65, dtype: int64"
   ]
  },
  {
   "cell_type": "markdown",
   "id": "819af9fc",
   "metadata": {},
   "source": [
    "nombre_infected       134\n",
    "nombre_sain          1023\n",
    "nombre_exposed         26\n",
    "nombre_recovered    18817\n",
    "Name: 66, dtype: int64"
   ]
  },
  {
   "cell_type": "markdown",
   "id": "1cceaeb8",
   "metadata": {},
   "source": [
    "nombre_infected       129\n",
    "nombre_sain          1071\n",
    "nombre_exposed         26\n",
    "nombre_recovered    18774\n",
    "Name: 67, dtype: int64"
   ]
  },
  {
   "cell_type": "markdown",
   "id": "cfc4227c",
   "metadata": {},
   "source": [
    "nombre_infected       124\n",
    "nombre_sain          1147\n",
    "nombre_exposed         25\n",
    "nombre_recovered    18704\n",
    "Name: 68, dtype: int64"
   ]
  },
  {
   "cell_type": "markdown",
   "id": "a579a96f",
   "metadata": {},
   "source": [
    "nombre_infected       108\n",
    "nombre_sain          1207\n",
    "nombre_exposed         30\n",
    "nombre_recovered    18655\n",
    "Name: 69, dtype: int64"
   ]
  },
  {
   "cell_type": "markdown",
   "id": "87d5af56",
   "metadata": {},
   "source": [
    "nombre_infected        92\n",
    "nombre_sain          1267\n",
    "nombre_exposed         29\n",
    "nombre_recovered    18612\n",
    "Name: 70, dtype: int64"
   ]
  },
  {
   "cell_type": "markdown",
   "id": "17079465",
   "metadata": {},
   "source": [
    "nombre_infected        81\n",
    "nombre_sain          1329\n",
    "nombre_exposed         29\n",
    "nombre_recovered    18561\n",
    "Name: 71, dtype: int64"
   ]
  },
  {
   "cell_type": "markdown",
   "id": "da552fa0",
   "metadata": {},
   "source": [
    "nombre_infected        69\n",
    "nombre_sain          1394\n",
    "nombre_exposed         32\n",
    "nombre_recovered    18505\n",
    "Name: 72, dtype: int64"
   ]
  },
  {
   "cell_type": "markdown",
   "id": "dd43038b",
   "metadata": {},
   "source": [
    "nombre_infected        68\n",
    "nombre_sain          1457\n",
    "nombre_exposed         31\n",
    "nombre_recovered    18444\n",
    "Name: 73, dtype: int64"
   ]
  },
  {
   "cell_type": "markdown",
   "id": "517aef7f",
   "metadata": {},
   "source": [
    "nombre_infected        71\n",
    "nombre_sain          1501\n",
    "nombre_exposed         27\n",
    "nombre_recovered    18401\n",
    "Name: 74, dtype: int64"
   ]
  },
  {
   "cell_type": "markdown",
   "id": "cb3ff897",
   "metadata": {},
   "source": [
    "nombre_infected        59\n",
    "nombre_sain          1555\n",
    "nombre_exposed         26\n",
    "nombre_recovered    18360\n",
    "Name: 75, dtype: int64"
   ]
  },
  {
   "cell_type": "markdown",
   "id": "e8387a6a",
   "metadata": {},
   "source": [
    "nombre_infected        58\n",
    "nombre_sain          1620\n",
    "nombre_exposed         26\n",
    "nombre_recovered    18296\n",
    "Name: 76, dtype: int64"
   ]
  },
  {
   "cell_type": "markdown",
   "id": "335148ac",
   "metadata": {},
   "source": [
    "nombre_infected        61\n",
    "nombre_sain          1695\n",
    "nombre_exposed         20\n",
    "nombre_recovered    18224\n",
    "Name: 77, dtype: int64"
   ]
  },
  {
   "cell_type": "markdown",
   "id": "c3b4f599",
   "metadata": {},
   "source": [
    "nombre_infected        59\n",
    "nombre_sain          1756\n",
    "nombre_exposed         18\n",
    "nombre_recovered    18167\n",
    "Name: 78, dtype: int64"
   ]
  },
  {
   "cell_type": "markdown",
   "id": "086069a3",
   "metadata": {},
   "source": [
    "nombre_infected        55\n",
    "nombre_sain          1829\n",
    "nombre_exposed         18\n",
    "nombre_recovered    18098\n",
    "Name: 79, dtype: int64"
   ]
  },
  {
   "cell_type": "markdown",
   "id": "6b6b9577",
   "metadata": {},
   "source": [
    "nombre_infected        49\n",
    "nombre_sain          1897\n",
    "nombre_exposed         19\n",
    "nombre_recovered    18035\n",
    "Name: 80, dtype: int64"
   ]
  },
  {
   "cell_type": "markdown",
   "id": "7a19c965",
   "metadata": {},
   "source": [
    "nombre_infected        44\n",
    "nombre_sain          1978\n",
    "nombre_exposed         18\n",
    "nombre_recovered    17960\n",
    "Name: 81, dtype: int64"
   ]
  },
  {
   "cell_type": "markdown",
   "id": "b6216961",
   "metadata": {},
   "source": [
    "nombre_infected        40\n",
    "nombre_sain          2073\n",
    "nombre_exposed         15\n",
    "nombre_recovered    17872\n",
    "Name: 82, dtype: int64"
   ]
  },
  {
   "cell_type": "markdown",
   "id": "092ccc29",
   "metadata": {},
   "source": [
    "nombre_infected        41\n",
    "nombre_sain          2148\n",
    "nombre_exposed         14\n",
    "nombre_recovered    17797\n",
    "Name: 83, dtype: int64"
   ]
  },
  {
   "cell_type": "markdown",
   "id": "64331796",
   "metadata": {},
   "source": [
    "nombre_infected        42\n",
    "nombre_sain          2214\n",
    "nombre_exposed         16\n",
    "nombre_recovered    17728\n",
    "Name: 84, dtype: int64"
   ]
  },
  {
   "cell_type": "markdown",
   "id": "4e204217",
   "metadata": {},
   "source": [
    "nombre_infected        42\n",
    "nombre_sain          2296\n",
    "nombre_exposed         13\n",
    "nombre_recovered    17649\n",
    "Name: 85, dtype: int64"
   ]
  },
  {
   "cell_type": "markdown",
   "id": "5c723003",
   "metadata": {},
   "source": [
    "nombre_infected        40\n",
    "nombre_sain          2373\n",
    "nombre_exposed         14\n",
    "nombre_recovered    17573\n",
    "Name: 86, dtype: int64"
   ]
  },
  {
   "cell_type": "markdown",
   "id": "e7caf248",
   "metadata": {},
   "source": [
    "nombre_infected        34\n",
    "nombre_sain          2442\n",
    "nombre_exposed         20\n",
    "nombre_recovered    17504\n",
    "Name: 87, dtype: int64"
   ]
  },
  {
   "cell_type": "markdown",
   "id": "ae29b43e",
   "metadata": {},
   "source": [
    "nombre_infected        34\n",
    "nombre_sain          2514\n",
    "nombre_exposed         21\n",
    "nombre_recovered    17431\n",
    "Name: 88, dtype: int64"
   ]
  },
  {
   "cell_type": "markdown",
   "id": "0f18f481",
   "metadata": {},
   "source": [
    "nombre_infected        40\n",
    "nombre_sain          2577\n",
    "nombre_exposed         22\n",
    "nombre_recovered    17361\n",
    "Name: 89, dtype: int64"
   ]
  },
  {
   "cell_type": "markdown",
   "id": "e0ab900e",
   "metadata": {},
   "source": [
    "nombre_infected        35\n",
    "nombre_sain          2628\n",
    "nombre_exposed         24\n",
    "nombre_recovered    17313\n",
    "Name: 90, dtype: int64"
   ]
  },
  {
   "cell_type": "markdown",
   "id": "ca1825e8",
   "metadata": {},
   "source": [
    "nombre_infected        36\n",
    "nombre_sain          2676\n",
    "nombre_exposed         25\n",
    "nombre_recovered    17263\n",
    "Name: 91, dtype: int64"
   ]
  },
  {
   "cell_type": "markdown",
   "id": "f86a2bab",
   "metadata": {},
   "source": [
    "nombre_infected        36\n",
    "nombre_sain          2724\n",
    "nombre_exposed         24\n",
    "nombre_recovered    17216\n",
    "Name: 92, dtype: int64"
   ]
  },
  {
   "cell_type": "markdown",
   "id": "8a663ec9",
   "metadata": {},
   "source": [
    "nombre_infected        34\n",
    "nombre_sain          2771\n",
    "nombre_exposed         25\n",
    "nombre_recovered    17170\n",
    "Name: 93, dtype: int64"
   ]
  },
  {
   "cell_type": "markdown",
   "id": "80c31172",
   "metadata": {},
   "source": [
    "nombre_infected        38\n",
    "nombre_sain          2813\n",
    "nombre_exposed         28\n",
    "nombre_recovered    17121\n",
    "Name: 94, dtype: int64"
   ]
  },
  {
   "cell_type": "markdown",
   "id": "572941e0",
   "metadata": {},
   "source": [
    "nombre_infected        40\n",
    "nombre_sain          2860\n",
    "nombre_exposed         28\n",
    "nombre_recovered    17072\n",
    "Name: 95, dtype: int64"
   ]
  },
  {
   "cell_type": "markdown",
   "id": "d7353917",
   "metadata": {},
   "source": [
    "nombre_infected        44\n",
    "nombre_sain          2896\n",
    "nombre_exposed         23\n",
    "nombre_recovered    17037\n",
    "Name: 96, dtype: int64"
   ]
  },
  {
   "cell_type": "markdown",
   "id": "5ac9a59c",
   "metadata": {},
   "source": [
    "nombre_infected        41\n",
    "nombre_sain          2938\n",
    "nombre_exposed         24\n",
    "nombre_recovered    16997\n",
    "Name: 97, dtype: int64"
   ]
  },
  {
   "cell_type": "markdown",
   "id": "b1b113ee",
   "metadata": {},
   "source": [
    "nombre_infected        43\n",
    "nombre_sain          2977\n",
    "nombre_exposed         29\n",
    "nombre_recovered    16951\n",
    "Name: 98, dtype: int64"
   ]
  },
  {
   "cell_type": "markdown",
   "id": "0ad20330",
   "metadata": {},
   "source": [
    "nombre_infected        43\n",
    "nombre_sain          3005\n",
    "nombre_exposed         31\n",
    "nombre_recovered    16921\n",
    "Name: 99, dtype: int64"
   ]
  },
  {
   "cell_type": "markdown",
   "id": "15dbe405",
   "metadata": {},
   "source": [
    "nombre_infected        47\n",
    "nombre_sain          3061\n",
    "nombre_exposed         28\n",
    "nombre_recovered    16864\n",
    "Name: 100, dtype: int64"
   ]
  },
  {
   "cell_type": "markdown",
   "id": "09764fc2",
   "metadata": {},
   "source": [
    "nombre_infected        48\n",
    "nombre_sain          3107\n",
    "nombre_exposed         25\n",
    "nombre_recovered    16820\n",
    "Name: 101, dtype: int64"
   ]
  },
  {
   "cell_type": "markdown",
   "id": "17c824cc",
   "metadata": {},
   "source": [
    "nombre_infected        46\n",
    "nombre_sain          3154\n",
    "nombre_exposed         25\n",
    "nombre_recovered    16775\n",
    "Name: 102, dtype: int64"
   ]
  },
  {
   "cell_type": "markdown",
   "id": "6c676d52",
   "metadata": {},
   "source": [
    "nombre_infected        44\n",
    "nombre_sain          3215\n",
    "nombre_exposed         26\n",
    "nombre_recovered    16715\n",
    "Name: 103, dtype: int64"
   ]
  },
  {
   "cell_type": "markdown",
   "id": "af433915",
   "metadata": {},
   "source": [
    "nombre_infected        42\n",
    "nombre_sain          3257\n",
    "nombre_exposed         28\n",
    "nombre_recovered    16673\n",
    "Name: 104, dtype: int64"
   ]
  },
  {
   "cell_type": "markdown",
   "id": "548bf482",
   "metadata": {},
   "source": [
    "nombre_infected        42\n",
    "nombre_sain          3330\n",
    "nombre_exposed         28\n",
    "nombre_recovered    16600\n",
    "Name: 105, dtype: int64"
   ]
  },
  {
   "cell_type": "markdown",
   "id": "dc3dda8c",
   "metadata": {},
   "source": [
    "nombre_infected        38\n",
    "nombre_sain          3378\n",
    "nombre_exposed         27\n",
    "nombre_recovered    16557\n",
    "Name: 106, dtype: int64"
   ]
  },
  {
   "cell_type": "markdown",
   "id": "e1cfefa0",
   "metadata": {},
   "source": [
    "nombre_infected        41\n",
    "nombre_sain          3442\n",
    "nombre_exposed         27\n",
    "nombre_recovered    16490\n",
    "Name: 107, dtype: int64"
   ]
  },
  {
   "cell_type": "markdown",
   "id": "82881c45",
   "metadata": {},
   "source": [
    "nombre_infected        39\n",
    "nombre_sain          3494\n",
    "nombre_exposed         36\n",
    "nombre_recovered    16431\n",
    "Name: 108, dtype: int64"
   ]
  },
  {
   "cell_type": "markdown",
   "id": "eb1e67d6",
   "metadata": {},
   "source": [
    "nombre_infected        49\n",
    "nombre_sain          3534\n",
    "nombre_exposed         35\n",
    "nombre_recovered    16382\n",
    "Name: 109, dtype: int64"
   ]
  },
  {
   "cell_type": "markdown",
   "id": "0c169de3",
   "metadata": {},
   "source": [
    "nombre_infected        50\n",
    "nombre_sain          3580\n",
    "nombre_exposed         39\n",
    "nombre_recovered    16331\n",
    "Name: 110, dtype: int64"
   ]
  },
  {
   "cell_type": "markdown",
   "id": "21ff563d",
   "metadata": {},
   "source": [
    "nombre_infected        57\n",
    "nombre_sain          3616\n",
    "nombre_exposed         37\n",
    "nombre_recovered    16290\n",
    "Name: 111, dtype: int64"
   ]
  },
  {
   "cell_type": "markdown",
   "id": "f08995d2",
   "metadata": {},
   "source": [
    "nombre_infected        59\n",
    "nombre_sain          3667\n",
    "nombre_exposed         39\n",
    "nombre_recovered    16235\n",
    "Name: 112, dtype: int64"
   ]
  },
  {
   "cell_type": "markdown",
   "id": "8c77beec",
   "metadata": {},
   "source": [
    "nombre_infected        59\n",
    "nombre_sain          3709\n",
    "nombre_exposed         39\n",
    "nombre_recovered    16193\n",
    "Name: 113, dtype: int64"
   ]
  },
  {
   "cell_type": "markdown",
   "id": "5a55f0b2",
   "metadata": {},
   "source": [
    "nombre_infected        64\n",
    "nombre_sain          3743\n",
    "nombre_exposed         40\n",
    "nombre_recovered    16153\n",
    "Name: 114, dtype: int64"
   ]
  },
  {
   "cell_type": "markdown",
   "id": "2a5b4fb0",
   "metadata": {},
   "source": [
    "nombre_infected        62\n",
    "nombre_sain          3781\n",
    "nombre_exposed         48\n",
    "nombre_recovered    16109\n",
    "Name: 115, dtype: int64"
   ]
  },
  {
   "cell_type": "markdown",
   "id": "921cf198",
   "metadata": {},
   "source": [
    "nombre_infected        65\n",
    "nombre_sain          3800\n",
    "nombre_exposed         52\n",
    "nombre_recovered    16083\n",
    "Name: 116, dtype: int64"
   ]
  },
  {
   "cell_type": "markdown",
   "id": "dff81ff9",
   "metadata": {},
   "source": [
    "nombre_infected        73\n",
    "nombre_sain          3832\n",
    "nombre_exposed         57\n",
    "nombre_recovered    16038\n",
    "Name: 117, dtype: int64"
   ]
  },
  {
   "cell_type": "markdown",
   "id": "dde2debc",
   "metadata": {},
   "source": [
    "nombre_infected        79\n",
    "nombre_sain          3844\n",
    "nombre_exposed         69\n",
    "nombre_recovered    16008\n",
    "Name: 118, dtype: int64"
   ]
  },
  {
   "cell_type": "markdown",
   "id": "8f3e8a41",
   "metadata": {},
   "source": [
    "nombre_infected        92\n",
    "nombre_sain          3870\n",
    "nombre_exposed         66\n",
    "nombre_recovered    15972\n",
    "Name: 119, dtype: int64"
   ]
  },
  {
   "cell_type": "markdown",
   "id": "0542c50c",
   "metadata": {},
   "source": [
    "nombre_infected        97\n",
    "nombre_sain          3891\n",
    "nombre_exposed         79\n",
    "nombre_recovered    15933\n",
    "Name: 120, dtype: int64"
   ]
  },
  {
   "cell_type": "markdown",
   "id": "d323c0f8",
   "metadata": {},
   "source": [
    "nombre_infected       103\n",
    "nombre_sain          3913\n",
    "nombre_exposed         83\n",
    "nombre_recovered    15901\n",
    "Name: 121, dtype: int64"
   ]
  },
  {
   "cell_type": "markdown",
   "id": "a96caed0",
   "metadata": {},
   "source": [
    "nombre_infected       111\n",
    "nombre_sain          3932\n",
    "nombre_exposed         90\n",
    "nombre_recovered    15867\n",
    "Name: 122, dtype: int64"
   ]
  },
  {
   "cell_type": "markdown",
   "id": "a433bddd",
   "metadata": {},
   "source": [
    "nombre_infected       113\n",
    "nombre_sain          3944\n",
    "nombre_exposed        112\n",
    "nombre_recovered    15831\n",
    "Name: 123, dtype: int64"
   ]
  },
  {
   "cell_type": "markdown",
   "id": "32d7dfcd",
   "metadata": {},
   "source": [
    "nombre_infected       122\n",
    "nombre_sain          3985\n",
    "nombre_exposed        116\n",
    "nombre_recovered    15777\n",
    "Name: 124, dtype: int64"
   ]
  },
  {
   "cell_type": "markdown",
   "id": "4eb5663f",
   "metadata": {},
   "source": [
    "nombre_infected       139\n",
    "nombre_sain          4011\n",
    "nombre_exposed        116\n",
    "nombre_recovered    15734\n",
    "Name: 125, dtype: int64"
   ]
  },
  {
   "cell_type": "markdown",
   "id": "e48e8e5f",
   "metadata": {},
   "source": [
    "nombre_infected       139\n",
    "nombre_sain          4025\n",
    "nombre_exposed        132\n",
    "nombre_recovered    15704\n",
    "Name: 126, dtype: int64"
   ]
  },
  {
   "cell_type": "markdown",
   "id": "26ca6804",
   "metadata": {},
   "source": [
    "nombre_infected       157\n",
    "nombre_sain          4023\n",
    "nombre_exposed        147\n",
    "nombre_recovered    15673\n",
    "Name: 127, dtype: int64"
   ]
  },
  {
   "cell_type": "markdown",
   "id": "9579c1f7",
   "metadata": {},
   "source": [
    "nombre_infected       176\n",
    "nombre_sain          4038\n",
    "nombre_exposed        151\n",
    "nombre_recovered    15635\n",
    "Name: 128, dtype: int64"
   ]
  },
  {
   "cell_type": "markdown",
   "id": "29d5658e",
   "metadata": {},
   "source": [
    "nombre_infected       198\n",
    "nombre_sain          4053\n",
    "nombre_exposed        136\n",
    "nombre_recovered    15613\n",
    "Name: 129, dtype: int64"
   ]
  },
  {
   "cell_type": "markdown",
   "id": "8629e474",
   "metadata": {},
   "source": [
    "nombre_infected       213\n",
    "nombre_sain          4059\n",
    "nombre_exposed        144\n",
    "nombre_recovered    15584\n",
    "Name: 130, dtype: int64"
   ]
  },
  {
   "cell_type": "markdown",
   "id": "299ebdb9",
   "metadata": {},
   "source": [
    "nombre_infected       214\n",
    "nombre_sain          4072\n",
    "nombre_exposed        157\n",
    "nombre_recovered    15557\n",
    "Name: 131, dtype: int64"
   ]
  },
  {
   "cell_type": "markdown",
   "id": "1d96cc0d",
   "metadata": {},
   "source": [
    "nombre_infected       224\n",
    "nombre_sain          4076\n",
    "nombre_exposed        191\n",
    "nombre_recovered    15509\n",
    "Name: 132, dtype: int64"
   ]
  },
  {
   "cell_type": "markdown",
   "id": "d44d4631",
   "metadata": {},
   "source": [
    "nombre_infected       236\n",
    "nombre_sain          4074\n",
    "nombre_exposed        210\n",
    "nombre_recovered    15480\n",
    "Name: 133, dtype: int64"
   ]
  },
  {
   "cell_type": "markdown",
   "id": "672bffda",
   "metadata": {},
   "source": [
    "nombre_infected       256\n",
    "nombre_sain          4086\n",
    "nombre_exposed        203\n",
    "nombre_recovered    15455\n",
    "Name: 134, dtype: int64"
   ]
  },
  {
   "cell_type": "markdown",
   "id": "188c90ba",
   "metadata": {},
   "source": [
    "nombre_infected       273\n",
    "nombre_sain          4057\n",
    "nombre_exposed        227\n",
    "nombre_recovered    15443\n",
    "Name: 135, dtype: int64"
   ]
  },
  {
   "cell_type": "markdown",
   "id": "02749c60",
   "metadata": {},
   "source": [
    "nombre_infected       291\n",
    "nombre_sain          4052\n",
    "nombre_exposed        230\n",
    "nombre_recovered    15427\n",
    "Name: 136, dtype: int64"
   ]
  },
  {
   "cell_type": "markdown",
   "id": "055051b9",
   "metadata": {},
   "source": [
    "nombre_infected       308\n",
    "nombre_sain          4033\n",
    "nombre_exposed        246\n",
    "nombre_recovered    15413\n",
    "Name: 137, dtype: int64"
   ]
  },
  {
   "cell_type": "markdown",
   "id": "76ae361b",
   "metadata": {},
   "source": [
    "nombre_infected       332\n",
    "nombre_sain          3999\n",
    "nombre_exposed        261\n",
    "nombre_recovered    15408\n",
    "Name: 138, dtype: int64"
   ]
  },
  {
   "cell_type": "markdown",
   "id": "f95a4700",
   "metadata": {},
   "source": [
    "nombre_infected       342\n",
    "nombre_sain          3959\n",
    "nombre_exposed        304\n",
    "nombre_recovered    15395\n",
    "Name: 139, dtype: int64"
   ]
  },
  {
   "cell_type": "markdown",
   "id": "a777fa46",
   "metadata": {},
   "source": [
    "nombre_infected       354\n",
    "nombre_sain          3923\n",
    "nombre_exposed        321\n",
    "nombre_recovered    15402\n",
    "Name: 140, dtype: int64"
   ]
  },
  {
   "cell_type": "markdown",
   "id": "b4c2391e",
   "metadata": {},
   "source": [
    "nombre_infected       393\n",
    "nombre_sain          3886\n",
    "nombre_exposed        324\n",
    "nombre_recovered    15397\n",
    "Name: 141, dtype: int64"
   ]
  },
  {
   "cell_type": "markdown",
   "id": "754a5a24",
   "metadata": {},
   "source": [
    "nombre_infected       428\n",
    "nombre_sain          3861\n",
    "nombre_exposed        325\n",
    "nombre_recovered    15386\n",
    "Name: 142, dtype: int64"
   ]
  },
  {
   "cell_type": "markdown",
   "id": "580d77c7",
   "metadata": {},
   "source": [
    "nombre_infected       454\n",
    "nombre_sain          3810\n",
    "nombre_exposed        358\n",
    "nombre_recovered    15378\n",
    "Name: 143, dtype: int64"
   ]
  },
  {
   "cell_type": "markdown",
   "id": "c4533247",
   "metadata": {},
   "source": [
    "nombre_infected       494\n",
    "nombre_sain          3779\n",
    "nombre_exposed        359\n",
    "nombre_recovered    15368\n",
    "Name: 144, dtype: int64"
   ]
  },
  {
   "cell_type": "markdown",
   "id": "f85f49e1",
   "metadata": {},
   "source": [
    "nombre_infected       540\n",
    "nombre_sain          3717\n",
    "nombre_exposed        369\n",
    "nombre_recovered    15374\n",
    "Name: 145, dtype: int64"
   ]
  },
  {
   "cell_type": "markdown",
   "id": "3da980f5",
   "metadata": {},
   "source": [
    "nombre_infected       572\n",
    "nombre_sain          3656\n",
    "nombre_exposed        398\n",
    "nombre_recovered    15374\n",
    "Name: 146, dtype: int64"
   ]
  },
  {
   "cell_type": "markdown",
   "id": "3ea3c995",
   "metadata": {},
   "source": [
    "nombre_infected       613\n",
    "nombre_sain          3582\n",
    "nombre_exposed        404\n",
    "nombre_recovered    15401\n",
    "Name: 147, dtype: int64"
   ]
  },
  {
   "cell_type": "markdown",
   "id": "8f42d99a",
   "metadata": {},
   "source": [
    "nombre_infected       644\n",
    "nombre_sain          3475\n",
    "nombre_exposed        441\n",
    "nombre_recovered    15440\n",
    "Name: 148, dtype: int64"
   ]
  },
  {
   "cell_type": "markdown",
   "id": "bd92f5a4",
   "metadata": {},
   "source": [
    "nombre_infected       664\n",
    "nombre_sain          3391\n",
    "nombre_exposed        471\n",
    "nombre_recovered    15474\n",
    "Name: 149, dtype: int64"
   ]
  },
  {
   "cell_type": "markdown",
   "id": "77b6a6d0",
   "metadata": {},
   "source": [
    "nombre_infected       683\n",
    "nombre_sain          3301\n",
    "nombre_exposed        481\n",
    "nombre_recovered    15535\n",
    "Name: 150, dtype: int64"
   ]
  },
  {
   "cell_type": "markdown",
   "id": "0cf2aa77",
   "metadata": {},
   "source": [
    "nombre_infected       733\n",
    "nombre_sain          3173\n",
    "nombre_exposed        518\n",
    "nombre_recovered    15576\n",
    "Name: 151, dtype: int64"
   ]
  },
  {
   "cell_type": "markdown",
   "id": "1a6c331e",
   "metadata": {},
   "source": [
    "nombre_infected       750\n",
    "nombre_sain          3059\n",
    "nombre_exposed        552\n",
    "nombre_recovered    15639\n",
    "Name: 152, dtype: int64"
   ]
  },
  {
   "cell_type": "markdown",
   "id": "77557dca",
   "metadata": {},
   "source": [
    "nombre_infected       797\n",
    "nombre_sain          2939\n",
    "nombre_exposed        572\n",
    "nombre_recovered    15692\n",
    "Name: 153, dtype: int64"
   ]
  },
  {
   "cell_type": "markdown",
   "id": "81f3e4bf",
   "metadata": {},
   "source": [
    "nombre_infected       842\n",
    "nombre_sain          2835\n",
    "nombre_exposed        561\n",
    "nombre_recovered    15762\n",
    "Name: 154, dtype: int64"
   ]
  },
  {
   "cell_type": "markdown",
   "id": "cbcfdcd7",
   "metadata": {},
   "source": [
    "nombre_infected       864\n",
    "nombre_sain          2756\n",
    "nombre_exposed        552\n",
    "nombre_recovered    15828\n",
    "Name: 155, dtype: int64"
   ]
  },
  {
   "cell_type": "markdown",
   "id": "6c277617",
   "metadata": {},
   "source": [
    "nombre_infected       915\n",
    "nombre_sain          2662\n",
    "nombre_exposed        545\n",
    "nombre_recovered    15878\n",
    "Name: 156, dtype: int64"
   ]
  },
  {
   "cell_type": "markdown",
   "id": "8a56cfe8",
   "metadata": {},
   "source": [
    "nombre_infected       923\n",
    "nombre_sain          2571\n",
    "nombre_exposed        536\n",
    "nombre_recovered    15970\n",
    "Name: 157, dtype: int64"
   ]
  },
  {
   "cell_type": "markdown",
   "id": "19d6b4c5",
   "metadata": {},
   "source": [
    "nombre_infected       942\n",
    "nombre_sain          2458\n",
    "nombre_exposed        556\n",
    "nombre_recovered    16044\n",
    "Name: 158, dtype: int64"
   ]
  },
  {
   "cell_type": "markdown",
   "id": "b778e7fc",
   "metadata": {},
   "source": [
    "nombre_infected       925\n",
    "nombre_sain          2332\n",
    "nombre_exposed        594\n",
    "nombre_recovered    16149\n",
    "Name: 159, dtype: int64"
   ]
  },
  {
   "cell_type": "markdown",
   "id": "b7c7d4e0",
   "metadata": {},
   "source": [
    "nombre_infected       940\n",
    "nombre_sain          2247\n",
    "nombre_exposed        595\n",
    "nombre_recovered    16218\n",
    "Name: 160, dtype: int64"
   ]
  },
  {
   "cell_type": "markdown",
   "id": "c3206e81",
   "metadata": {},
   "source": [
    "nombre_infected       999\n",
    "nombre_sain          2180\n",
    "nombre_exposed        550\n",
    "nombre_recovered    16271\n",
    "Name: 161, dtype: int64"
   ]
  },
  {
   "cell_type": "markdown",
   "id": "68bac763",
   "metadata": {},
   "source": [
    "nombre_infected      1038\n",
    "nombre_sain          2123\n",
    "nombre_exposed        501\n",
    "nombre_recovered    16338\n",
    "Name: 162, dtype: int64"
   ]
  },
  {
   "cell_type": "markdown",
   "id": "0449a509",
   "metadata": {},
   "source": [
    "nombre_infected      1029\n",
    "nombre_sain          2052\n",
    "nombre_exposed        512\n",
    "nombre_recovered    16407\n",
    "Name: 163, dtype: int64"
   ]
  },
  {
   "cell_type": "markdown",
   "id": "8b4b7446",
   "metadata": {},
   "source": [
    "nombre_infected      1028\n",
    "nombre_sain          1982\n",
    "nombre_exposed        516\n",
    "nombre_recovered    16474\n",
    "Name: 164, dtype: int64"
   ]
  },
  {
   "cell_type": "markdown",
   "id": "856348d3",
   "metadata": {},
   "source": [
    "nombre_infected      1021\n",
    "nombre_sain          1927\n",
    "nombre_exposed        512\n",
    "nombre_recovered    16540\n",
    "Name: 165, dtype: int64"
   ]
  },
  {
   "cell_type": "markdown",
   "id": "5ac0e6cc",
   "metadata": {},
   "source": [
    "nombre_infected      1019\n",
    "nombre_sain          1887\n",
    "nombre_exposed        481\n",
    "nombre_recovered    16613\n",
    "Name: 166, dtype: int64"
   ]
  },
  {
   "cell_type": "markdown",
   "id": "1cd56b99",
   "metadata": {},
   "source": [
    "nombre_infected      1006\n",
    "nombre_sain          1852\n",
    "nombre_exposed        467\n",
    "nombre_recovered    16675\n",
    "Name: 167, dtype: int64"
   ]
  },
  {
   "cell_type": "markdown",
   "id": "8591c08f",
   "metadata": {},
   "source": [
    "nombre_infected      1008\n",
    "nombre_sain          1828\n",
    "nombre_exposed        440\n",
    "nombre_recovered    16724\n",
    "Name: 168, dtype: int64"
   ]
  },
  {
   "cell_type": "markdown",
   "id": "0b93bdbc",
   "metadata": {},
   "source": [
    "nombre_infected       990\n",
    "nombre_sain          1797\n",
    "nombre_exposed        436\n",
    "nombre_recovered    16777\n",
    "Name: 169, dtype: int64"
   ]
  },
  {
   "cell_type": "markdown",
   "id": "713819a3",
   "metadata": {},
   "source": [
    "nombre_infected       937\n",
    "nombre_sain          1766\n",
    "nombre_exposed        455\n",
    "nombre_recovered    16842\n",
    "Name: 170, dtype: int64"
   ]
  },
  {
   "cell_type": "markdown",
   "id": "d3cabffd",
   "metadata": {},
   "source": [
    "nombre_infected       921\n",
    "nombre_sain          1755\n",
    "nombre_exposed        441\n",
    "nombre_recovered    16883\n",
    "Name: 171, dtype: int64"
   ]
  },
  {
   "cell_type": "markdown",
   "id": "b7ad68ba",
   "metadata": {},
   "source": [
    "nombre_infected       917\n",
    "nombre_sain          1751\n",
    "nombre_exposed        404\n",
    "nombre_recovered    16928\n",
    "Name: 172, dtype: int64"
   ]
  },
  {
   "cell_type": "markdown",
   "id": "f8ef7f73",
   "metadata": {},
   "source": [
    "nombre_infected       906\n",
    "nombre_sain          1750\n",
    "nombre_exposed        392\n",
    "nombre_recovered    16952\n",
    "Name: 173, dtype: int64"
   ]
  },
  {
   "cell_type": "markdown",
   "id": "397d4332",
   "metadata": {},
   "source": [
    "nombre_infected       900\n",
    "nombre_sain          1735\n",
    "nombre_exposed        374\n",
    "nombre_recovered    16991\n",
    "Name: 174, dtype: int64"
   ]
  },
  {
   "cell_type": "markdown",
   "id": "709ac7f1",
   "metadata": {},
   "source": [
    "nombre_infected       861\n",
    "nombre_sain          1726\n",
    "nombre_exposed        390\n",
    "nombre_recovered    17023\n",
    "Name: 175, dtype: int64"
   ]
  },
  {
   "cell_type": "markdown",
   "id": "c4a7a01f",
   "metadata": {},
   "source": [
    "nombre_infected       837\n",
    "nombre_sain          1720\n",
    "nombre_exposed        367\n",
    "nombre_recovered    17076\n",
    "Name: 176, dtype: int64"
   ]
  },
  {
   "cell_type": "markdown",
   "id": "9e95636e",
   "metadata": {},
   "source": [
    "nombre_infected       832\n",
    "nombre_sain          1698\n",
    "nombre_exposed        352\n",
    "nombre_recovered    17118\n",
    "Name: 177, dtype: int64"
   ]
  },
  {
   "cell_type": "markdown",
   "id": "c507980c",
   "metadata": {},
   "source": [
    "nombre_infected       820\n",
    "nombre_sain          1683\n",
    "nombre_exposed        326\n",
    "nombre_recovered    17171\n",
    "Name: 178, dtype: int64"
   ]
  },
  {
   "cell_type": "markdown",
   "id": "fa2f7af0",
   "metadata": {},
   "source": [
    "nombre_infected       791\n",
    "nombre_sain          1660\n",
    "nombre_exposed        323\n",
    "nombre_recovered    17226\n",
    "Name: 179, dtype: int64"
   ]
  },
  {
   "cell_type": "markdown",
   "id": "12f7fbe7",
   "metadata": {},
   "source": [
    "nombre_infected       772\n",
    "nombre_sain          1658\n",
    "nombre_exposed        300\n",
    "nombre_recovered    17270\n",
    "Name: 180, dtype: int64"
   ]
  },
  {
   "cell_type": "markdown",
   "id": "ecb4ecf6",
   "metadata": {},
   "source": [
    "nombre_infected       751\n",
    "nombre_sain          1634\n",
    "nombre_exposed        311\n",
    "nombre_recovered    17304\n",
    "Name: 181, dtype: int64"
   ]
  },
  {
   "cell_type": "markdown",
   "id": "5a5849fb",
   "metadata": {},
   "source": [
    "nombre_infected       708\n",
    "nombre_sain          1627\n",
    "nombre_exposed        308\n",
    "nombre_recovered    17357\n",
    "Name: 182, dtype: int64"
   ]
  },
  {
   "cell_type": "markdown",
   "id": "53f9b01d",
   "metadata": {},
   "source": [
    "nombre_infected       704\n",
    "nombre_sain          1641\n",
    "nombre_exposed        285\n",
    "nombre_recovered    17370\n",
    "Name: 183, dtype: int64"
   ]
  },
  {
   "cell_type": "markdown",
   "id": "afff7df3",
   "metadata": {},
   "source": [
    "nombre_infected       670\n",
    "nombre_sain          1637\n",
    "nombre_exposed        286\n",
    "nombre_recovered    17407\n",
    "Name: 184, dtype: int64"
   ]
  },
  {
   "cell_type": "markdown",
   "id": "7d17e8da",
   "metadata": {},
   "source": [
    "nombre_infected       662\n",
    "nombre_sain          1652\n",
    "nombre_exposed        279\n",
    "nombre_recovered    17407\n",
    "Name: 185, dtype: int64"
   ]
  },
  {
   "cell_type": "markdown",
   "id": "78498e71",
   "metadata": {},
   "source": [
    "nombre_infected       660\n",
    "nombre_sain          1670\n",
    "nombre_exposed        261\n",
    "nombre_recovered    17409\n",
    "Name: 186, dtype: int64"
   ]
  },
  {
   "cell_type": "markdown",
   "id": "c50a4e39",
   "metadata": {},
   "source": [
    "nombre_infected       670\n",
    "nombre_sain          1690\n",
    "nombre_exposed        245\n",
    "nombre_recovered    17395\n",
    "Name: 187, dtype: int64"
   ]
  },
  {
   "cell_type": "markdown",
   "id": "716c1e8e",
   "metadata": {},
   "source": [
    "nombre_infected       608\n",
    "nombre_sain          1727\n",
    "nombre_exposed        268\n",
    "nombre_recovered    17397\n",
    "Name: 188, dtype: int64"
   ]
  },
  {
   "cell_type": "markdown",
   "id": "08cae503",
   "metadata": {},
   "source": [
    "nombre_infected       593\n",
    "nombre_sain          1767\n",
    "nombre_exposed        257\n",
    "nombre_recovered    17383\n",
    "Name: 189, dtype: int64"
   ]
  },
  {
   "cell_type": "markdown",
   "id": "736b2b3d",
   "metadata": {},
   "source": [
    "nombre_infected       593\n",
    "nombre_sain          1803\n",
    "nombre_exposed        249\n",
    "nombre_recovered    17355\n",
    "Name: 190, dtype: int64"
   ]
  },
  {
   "cell_type": "markdown",
   "id": "c6096fd3",
   "metadata": {},
   "source": [
    "nombre_infected       582\n",
    "nombre_sain          1834\n",
    "nombre_exposed        253\n",
    "nombre_recovered    17331\n",
    "Name: 191, dtype: int64"
   ]
  },
  {
   "cell_type": "markdown",
   "id": "71dc4475",
   "metadata": {},
   "source": [
    "nombre_infected       572\n",
    "nombre_sain          1858\n",
    "nombre_exposed        245\n",
    "nombre_recovered    17325\n",
    "Name: 192, dtype: int64"
   ]
  },
  {
   "cell_type": "markdown",
   "id": "6b3dd659",
   "metadata": {},
   "source": [
    "nombre_infected       563\n",
    "nombre_sain          1870\n",
    "nombre_exposed        254\n",
    "nombre_recovered    17313\n",
    "Name: 193, dtype: int64"
   ]
  },
  {
   "cell_type": "markdown",
   "id": "aeef020c",
   "metadata": {},
   "source": [
    "nombre_infected       548\n",
    "nombre_sain          1880\n",
    "nombre_exposed        256\n",
    "nombre_recovered    17316\n",
    "Name: 194, dtype: int64"
   ]
  },
  {
   "cell_type": "markdown",
   "id": "07efe4be",
   "metadata": {},
   "source": [
    "nombre_infected       542\n",
    "nombre_sain          1919\n",
    "nombre_exposed        253\n",
    "nombre_recovered    17286\n",
    "Name: 195, dtype: int64"
   ]
  },
  {
   "cell_type": "markdown",
   "id": "5e16dbdf",
   "metadata": {},
   "source": [
    "nombre_infected       563\n",
    "nombre_sain          1954\n",
    "nombre_exposed        230\n",
    "nombre_recovered    17253\n",
    "Name: 196, dtype: int64"
   ]
  },
  {
   "cell_type": "markdown",
   "id": "cae00fab",
   "metadata": {},
   "source": [
    "nombre_infected       548\n",
    "nombre_sain          1981\n",
    "nombre_exposed        251\n",
    "nombre_recovered    17220\n",
    "Name: 197, dtype: int64"
   ]
  },
  {
   "cell_type": "markdown",
   "id": "f7782486",
   "metadata": {},
   "source": [
    "nombre_infected       532\n",
    "nombre_sain          2034\n",
    "nombre_exposed        248\n",
    "nombre_recovered    17186\n",
    "Name: 198, dtype: int64"
   ]
  },
  {
   "cell_type": "markdown",
   "id": "d0a4c17f",
   "metadata": {},
   "source": [
    "nombre_infected       542\n",
    "nombre_sain          2064\n",
    "nombre_exposed        235\n",
    "nombre_recovered    17159\n",
    "Name: 199, dtype: int64"
   ]
  },
  {
   "cell_type": "markdown",
   "id": "df54d5b4",
   "metadata": {},
   "source": [
    "nombre_infected       532\n",
    "nombre_sain          2093\n",
    "nombre_exposed        234\n",
    "nombre_recovered    17141\n",
    "Name: 200, dtype: int64"
   ]
  },
  {
   "cell_type": "markdown",
   "id": "0a074e6d",
   "metadata": {},
   "source": [
    "nombre_infected       531\n",
    "nombre_sain          2099\n",
    "nombre_exposed        233\n",
    "nombre_recovered    17137\n",
    "Name: 201, dtype: int64"
   ]
  },
  {
   "cell_type": "markdown",
   "id": "e9b03833",
   "metadata": {},
   "source": [
    "nombre_infected       534\n",
    "nombre_sain          2135\n",
    "nombre_exposed        227\n",
    "nombre_recovered    17104\n",
    "Name: 202, dtype: int64"
   ]
  },
  {
   "cell_type": "markdown",
   "id": "a4ca876f",
   "metadata": {},
   "source": [
    "nombre_infected       512\n",
    "nombre_sain          2164\n",
    "nombre_exposed        243\n",
    "nombre_recovered    17081\n",
    "Name: 203, dtype: int64"
   ]
  },
  {
   "cell_type": "markdown",
   "id": "e1f7f9c8",
   "metadata": {},
   "source": [
    "nombre_infected       502\n",
    "nombre_sain          2198\n",
    "nombre_exposed        246\n",
    "nombre_recovered    17054\n",
    "Name: 204, dtype: int64"
   ]
  },
  {
   "cell_type": "markdown",
   "id": "9808eaaf",
   "metadata": {},
   "source": [
    "nombre_infected       509\n",
    "nombre_sain          2248\n",
    "nombre_exposed        241\n",
    "nombre_recovered    17002\n",
    "Name: 205, dtype: int64"
   ]
  },
  {
   "cell_type": "markdown",
   "id": "ee24d04e",
   "metadata": {},
   "source": [
    "nombre_infected       504\n",
    "nombre_sain          2283\n",
    "nombre_exposed        239\n",
    "nombre_recovered    16974\n",
    "Name: 206, dtype: int64"
   ]
  },
  {
   "cell_type": "markdown",
   "id": "c55ba795",
   "metadata": {},
   "source": [
    "nombre_infected       504\n",
    "nombre_sain          2293\n",
    "nombre_exposed        254\n",
    "nombre_recovered    16949\n",
    "Name: 207, dtype: int64"
   ]
  },
  {
   "cell_type": "markdown",
   "id": "68df14a4",
   "metadata": {},
   "source": [
    "nombre_infected       494\n",
    "nombre_sain          2337\n",
    "nombre_exposed        259\n",
    "nombre_recovered    16910\n",
    "Name: 208, dtype: int64"
   ]
  },
  {
   "cell_type": "markdown",
   "id": "28339c0a",
   "metadata": {},
   "source": [
    "nombre_infected       489\n",
    "nombre_sain          2384\n",
    "nombre_exposed        272\n",
    "nombre_recovered    16855\n",
    "Name: 209, dtype: int64"
   ]
  },
  {
   "cell_type": "markdown",
   "id": "c532ba5a",
   "metadata": {},
   "source": [
    "nombre_infected       494\n",
    "nombre_sain          2411\n",
    "nombre_exposed        290\n",
    "nombre_recovered    16805\n",
    "Name: 210, dtype: int64"
   ]
  },
  {
   "cell_type": "markdown",
   "id": "d21903cf",
   "metadata": {},
   "source": [
    "nombre_infected       499\n",
    "nombre_sain          2433\n",
    "nombre_exposed        300\n",
    "nombre_recovered    16768\n",
    "Name: 211, dtype: int64"
   ]
  },
  {
   "cell_type": "markdown",
   "id": "ccc6687a",
   "metadata": {},
   "source": [
    "nombre_infected       497\n",
    "nombre_sain          2479\n",
    "nombre_exposed        289\n",
    "nombre_recovered    16735\n",
    "Name: 212, dtype: int64"
   ]
  },
  {
   "cell_type": "markdown",
   "id": "f7392345",
   "metadata": {},
   "source": [
    "nombre_infected       509\n",
    "nombre_sain          2502\n",
    "nombre_exposed        295\n",
    "nombre_recovered    16694\n",
    "Name: 213, dtype: int64"
   ]
  },
  {
   "cell_type": "markdown",
   "id": "ce0c2ec3",
   "metadata": {},
   "source": [
    "nombre_infected       531\n",
    "nombre_sain          2553\n",
    "nombre_exposed        297\n",
    "nombre_recovered    16619\n",
    "Name: 214, dtype: int64"
   ]
  },
  {
   "cell_type": "markdown",
   "id": "3b45cc01",
   "metadata": {},
   "source": [
    "nombre_infected       533\n",
    "nombre_sain          2566\n",
    "nombre_exposed        303\n",
    "nombre_recovered    16598\n",
    "Name: 215, dtype: int64"
   ]
  },
  {
   "cell_type": "markdown",
   "id": "a79494b2",
   "metadata": {},
   "source": [
    "nombre_infected       533\n",
    "nombre_sain          2604\n",
    "nombre_exposed        304\n",
    "nombre_recovered    16559\n",
    "Name: 216, dtype: int64"
   ]
  },
  {
   "cell_type": "markdown",
   "id": "44ba810b",
   "metadata": {},
   "source": [
    "nombre_infected       526\n",
    "nombre_sain          2619\n",
    "nombre_exposed        316\n",
    "nombre_recovered    16539\n",
    "Name: 217, dtype: int64"
   ]
  },
  {
   "cell_type": "markdown",
   "id": "eb3b22c0",
   "metadata": {},
   "source": [
    "nombre_infected       528\n",
    "nombre_sain          2628\n",
    "nombre_exposed        329\n",
    "nombre_recovered    16515\n",
    "Name: 218, dtype: int64"
   ]
  },
  {
   "cell_type": "markdown",
   "id": "ac0093f5",
   "metadata": {},
   "source": [
    "nombre_infected       537\n",
    "nombre_sain          2649\n",
    "nombre_exposed        326\n",
    "nombre_recovered    16488\n",
    "Name: 219, dtype: int64"
   ]
  },
  {
   "cell_type": "markdown",
   "id": "b995ccb4",
   "metadata": {},
   "source": [
    "nombre_infected       545\n",
    "nombre_sain          2675\n",
    "nombre_exposed        322\n",
    "nombre_recovered    16458\n",
    "Name: 220, dtype: int64"
   ]
  },
  {
   "cell_type": "markdown",
   "id": "4c0de18f",
   "metadata": {},
   "source": [
    "nombre_infected       550\n",
    "nombre_sain          2667\n",
    "nombre_exposed        332\n",
    "nombre_recovered    16451\n",
    "Name: 221, dtype: int64"
   ]
  },
  {
   "cell_type": "markdown",
   "id": "8b435b9e",
   "metadata": {},
   "source": [
    "nombre_infected       569\n",
    "nombre_sain          2685\n",
    "nombre_exposed        322\n",
    "nombre_recovered    16424\n",
    "Name: 222, dtype: int64"
   ]
  },
  {
   "cell_type": "markdown",
   "id": "ba5e5b8a",
   "metadata": {},
   "source": [
    "nombre_infected       601\n",
    "nombre_sain          2712\n",
    "nombre_exposed        318\n",
    "nombre_recovered    16369\n",
    "Name: 223, dtype: int64"
   ]
  },
  {
   "cell_type": "markdown",
   "id": "61943ff2",
   "metadata": {},
   "source": [
    "nombre_infected       600\n",
    "nombre_sain          2683\n",
    "nombre_exposed        345\n",
    "nombre_recovered    16372\n",
    "Name: 224, dtype: int64"
   ]
  },
  {
   "cell_type": "markdown",
   "id": "9b9ebabd",
   "metadata": {},
   "source": [
    "nombre_infected       610\n",
    "nombre_sain          2659\n",
    "nombre_exposed        379\n",
    "nombre_recovered    16352\n",
    "Name: 225, dtype: int64"
   ]
  },
  {
   "cell_type": "markdown",
   "id": "ac04620f",
   "metadata": {},
   "source": [
    "nombre_infected       613\n",
    "nombre_sain          2651\n",
    "nombre_exposed        397\n",
    "nombre_recovered    16339\n",
    "Name: 226, dtype: int64"
   ]
  },
  {
   "cell_type": "markdown",
   "id": "8a273f12",
   "metadata": {},
   "source": [
    "nombre_infected       635\n",
    "nombre_sain          2651\n",
    "nombre_exposed        400\n",
    "nombre_recovered    16314\n",
    "Name: 227, dtype: int64"
   ]
  },
  {
   "cell_type": "markdown",
   "id": "ae8f421e",
   "metadata": {},
   "source": [
    "nombre_infected       674\n",
    "nombre_sain          2669\n",
    "nombre_exposed        381\n",
    "nombre_recovered    16276\n",
    "Name: 228, dtype: int64"
   ]
  },
  {
   "cell_type": "markdown",
   "id": "8432168a",
   "metadata": {},
   "source": [
    "nombre_infected       707\n",
    "nombre_sain          2669\n",
    "nombre_exposed        375\n",
    "nombre_recovered    16249\n",
    "Name: 229, dtype: int64"
   ]
  },
  {
   "cell_type": "markdown",
   "id": "ecd9822d",
   "metadata": {},
   "source": [
    "nombre_infected       691\n",
    "nombre_sain          2666\n",
    "nombre_exposed        401\n",
    "nombre_recovered    16242\n",
    "Name: 230, dtype: int64"
   ]
  },
  {
   "cell_type": "markdown",
   "id": "3a6a01f6",
   "metadata": {},
   "source": [
    "nombre_infected       703\n",
    "nombre_sain          2674\n",
    "nombre_exposed        413\n",
    "nombre_recovered    16210\n",
    "Name: 231, dtype: int64"
   ]
  },
  {
   "cell_type": "markdown",
   "id": "ba71c33a",
   "metadata": {},
   "source": [
    "nombre_infected       726\n",
    "nombre_sain          2648\n",
    "nombre_exposed        441\n",
    "nombre_recovered    16185\n",
    "Name: 232, dtype: int64"
   ]
  },
  {
   "cell_type": "markdown",
   "id": "d03d872e",
   "metadata": {},
   "source": [
    "nombre_infected       735\n",
    "nombre_sain          2621\n",
    "nombre_exposed        458\n",
    "nombre_recovered    16186\n",
    "Name: 233, dtype: int64"
   ]
  },
  {
   "cell_type": "markdown",
   "id": "bdd1956a",
   "metadata": {},
   "source": [
    "nombre_infected       760\n",
    "nombre_sain          2629\n",
    "nombre_exposed        464\n",
    "nombre_recovered    16147\n",
    "Name: 234, dtype: int64"
   ]
  },
  {
   "cell_type": "markdown",
   "id": "32e93a0d",
   "metadata": {},
   "source": [
    "nombre_infected       794\n",
    "nombre_sain          2614\n",
    "nombre_exposed        484\n",
    "nombre_recovered    16108\n",
    "Name: 235, dtype: int64"
   ]
  },
  {
   "cell_type": "markdown",
   "id": "b48d9e99",
   "metadata": {},
   "source": [
    "nombre_infected       810\n",
    "nombre_sain          2588\n",
    "nombre_exposed        495\n",
    "nombre_recovered    16107\n",
    "Name: 236, dtype: int64"
   ]
  },
  {
   "cell_type": "markdown",
   "id": "cd095abd",
   "metadata": {},
   "source": [
    "nombre_infected       824\n",
    "nombre_sain          2570\n",
    "nombre_exposed        500\n",
    "nombre_recovered    16106\n",
    "Name: 237, dtype: int64"
   ]
  },
  {
   "cell_type": "markdown",
   "id": "3f0d1867",
   "metadata": {},
   "source": [
    "nombre_infected       851\n",
    "nombre_sain          2524\n",
    "nombre_exposed        509\n",
    "nombre_recovered    16116\n",
    "Name: 238, dtype: int64"
   ]
  },
  {
   "cell_type": "markdown",
   "id": "a9f734a8",
   "metadata": {},
   "source": [
    "nombre_infected       846\n",
    "nombre_sain          2476\n",
    "nombre_exposed        515\n",
    "nombre_recovered    16163\n",
    "Name: 239, dtype: int64"
   ]
  },
  {
   "cell_type": "markdown",
   "id": "13ed7118",
   "metadata": {},
   "source": [
    "nombre_infected       881\n",
    "nombre_sain          2451\n",
    "nombre_exposed        525\n",
    "nombre_recovered    16143\n",
    "Name: 240, dtype: int64"
   ]
  },
  {
   "cell_type": "markdown",
   "id": "a5e6b9b3",
   "metadata": {},
   "source": [
    "nombre_infected       908\n",
    "nombre_sain          2434\n",
    "nombre_exposed        519\n",
    "nombre_recovered    16139\n",
    "Name: 241, dtype: int64"
   ]
  },
  {
   "cell_type": "markdown",
   "id": "bb5d9239",
   "metadata": {},
   "source": [
    "nombre_infected       917\n",
    "nombre_sain          2437\n",
    "nombre_exposed        518\n",
    "nombre_recovered    16128\n",
    "Name: 242, dtype: int64"
   ]
  },
  {
   "cell_type": "markdown",
   "id": "083c54be",
   "metadata": {},
   "source": [
    "nombre_infected       935\n",
    "nombre_sain          2404\n",
    "nombre_exposed        500\n",
    "nombre_recovered    16161\n",
    "Name: 243, dtype: int64"
   ]
  },
  {
   "cell_type": "markdown",
   "id": "938f719d",
   "metadata": {},
   "source": [
    "nombre_infected       939\n",
    "nombre_sain          2370\n",
    "nombre_exposed        511\n",
    "nombre_recovered    16180\n",
    "Name: 244, dtype: int64"
   ]
  },
  {
   "cell_type": "markdown",
   "id": "a3ff3912",
   "metadata": {},
   "source": [
    "nombre_infected       968\n",
    "nombre_sain          2357\n",
    "nombre_exposed        473\n",
    "nombre_recovered    16202\n",
    "Name: 245, dtype: int64"
   ]
  },
  {
   "cell_type": "markdown",
   "id": "9725b97a",
   "metadata": {},
   "source": [
    "nombre_infected       968\n",
    "nombre_sain          2330\n",
    "nombre_exposed        467\n",
    "nombre_recovered    16235\n",
    "Name: 246, dtype: int64"
   ]
  },
  {
   "cell_type": "markdown",
   "id": "2146d408",
   "metadata": {},
   "source": [
    "nombre_infected       959\n",
    "nombre_sain          2338\n",
    "nombre_exposed        479\n",
    "nombre_recovered    16224\n",
    "Name: 247, dtype: int64"
   ]
  },
  {
   "cell_type": "markdown",
   "id": "a50b3934",
   "metadata": {},
   "source": [
    "nombre_infected       995\n",
    "nombre_sain          2356\n",
    "nombre_exposed        481\n",
    "nombre_recovered    16168\n",
    "Name: 248, dtype: int64"
   ]
  },
  {
   "cell_type": "markdown",
   "id": "2b1a3ec6",
   "metadata": {},
   "source": [
    "nombre_infected       967\n",
    "nombre_sain          2299\n",
    "nombre_exposed        512\n",
    "nombre_recovered    16222\n",
    "Name: 249, dtype: int64"
   ]
  },
  {
   "cell_type": "markdown",
   "id": "20fa72b7",
   "metadata": {},
   "source": [
    "nombre_infected       966\n",
    "nombre_sain          2251\n",
    "nombre_exposed        524\n",
    "nombre_recovered    16259\n",
    "Name: 250, dtype: int64"
   ]
  },
  {
   "cell_type": "markdown",
   "id": "52dd88d1",
   "metadata": {},
   "source": [
    "nombre_infected       973\n",
    "nombre_sain          2211\n",
    "nombre_exposed        538\n",
    "nombre_recovered    16278\n",
    "Name: 251, dtype: int64"
   ]
  },
  {
   "cell_type": "markdown",
   "id": "1d7099d7",
   "metadata": {},
   "source": [
    "nombre_infected       968\n",
    "nombre_sain          2192\n",
    "nombre_exposed        544\n",
    "nombre_recovered    16296\n",
    "Name: 252, dtype: int64"
   ]
  },
  {
   "cell_type": "markdown",
   "id": "71d40b73",
   "metadata": {},
   "source": [
    "nombre_infected       981\n",
    "nombre_sain          2163\n",
    "nombre_exposed        519\n",
    "nombre_recovered    16337\n",
    "Name: 253, dtype: int64"
   ]
  },
  {
   "cell_type": "markdown",
   "id": "5abab305",
   "metadata": {},
   "source": [
    "nombre_infected       982\n",
    "nombre_sain          2160\n",
    "nombre_exposed        488\n",
    "nombre_recovered    16370\n",
    "Name: 254, dtype: int64"
   ]
  },
  {
   "cell_type": "markdown",
   "id": "356cc9b9",
   "metadata": {},
   "source": [
    "nombre_infected       992\n",
    "nombre_sain          2132\n",
    "nombre_exposed        496\n",
    "nombre_recovered    16380\n",
    "Name: 255, dtype: int64"
   ]
  },
  {
   "cell_type": "markdown",
   "id": "0d09d834",
   "metadata": {},
   "source": [
    "nombre_infected       987\n",
    "nombre_sain          2088\n",
    "nombre_exposed        521\n",
    "nombre_recovered    16404\n",
    "Name: 256, dtype: int64"
   ]
  },
  {
   "cell_type": "markdown",
   "id": "0b60e971",
   "metadata": {},
   "source": [
    "nombre_infected      1011\n",
    "nombre_sain          2068\n",
    "nombre_exposed        509\n",
    "nombre_recovered    16412\n",
    "Name: 257, dtype: int64"
   ]
  },
  {
   "cell_type": "markdown",
   "id": "92105ba7",
   "metadata": {},
   "source": [
    "nombre_infected      1017\n",
    "nombre_sain          2020\n",
    "nombre_exposed        513\n",
    "nombre_recovered    16450\n",
    "Name: 258, dtype: int64"
   ]
  },
  {
   "cell_type": "markdown",
   "id": "9a009155",
   "metadata": {},
   "source": [
    "nombre_infected      1015\n",
    "nombre_sain          1971\n",
    "nombre_exposed        506\n",
    "nombre_recovered    16508\n",
    "Name: 259, dtype: int64"
   ]
  },
  {
   "cell_type": "markdown",
   "id": "50387f85",
   "metadata": {},
   "source": [
    "nombre_infected      1028\n",
    "nombre_sain          1925\n",
    "nombre_exposed        491\n",
    "nombre_recovered    16556\n",
    "Name: 260, dtype: int64"
   ]
  },
  {
   "cell_type": "markdown",
   "id": "ff441107",
   "metadata": {},
   "source": [
    "nombre_infected      1027\n",
    "nombre_sain          1934\n",
    "nombre_exposed        470\n",
    "nombre_recovered    16569\n",
    "Name: 261, dtype: int64"
   ]
  },
  {
   "cell_type": "markdown",
   "id": "79bc20f1",
   "metadata": {},
   "source": [
    "nombre_infected      1017\n",
    "nombre_sain          1911\n",
    "nombre_exposed        445\n",
    "nombre_recovered    16627\n",
    "Name: 262, dtype: int64"
   ]
  },
  {
   "cell_type": "markdown",
   "id": "27f85e5e",
   "metadata": {},
   "source": [
    "nombre_infected      1021\n",
    "nombre_sain          1891\n",
    "nombre_exposed        429\n",
    "nombre_recovered    16659\n",
    "Name: 263, dtype: int64"
   ]
  },
  {
   "cell_type": "markdown",
   "id": "73bc5314",
   "metadata": {},
   "source": [
    "nombre_infected       987\n",
    "nombre_sain          1854\n",
    "nombre_exposed        449\n",
    "nombre_recovered    16710\n",
    "Name: 264, dtype: int64"
   ]
  },
  {
   "cell_type": "markdown",
   "id": "2ca5d417",
   "metadata": {},
   "source": [
    "nombre_infected       997\n",
    "nombre_sain          1841\n",
    "nombre_exposed        433\n",
    "nombre_recovered    16729\n",
    "Name: 265, dtype: int64"
   ]
  },
  {
   "cell_type": "markdown",
   "id": "1950cfdb",
   "metadata": {},
   "source": [
    "nombre_infected       981\n",
    "nombre_sain          1827\n",
    "nombre_exposed        405\n",
    "nombre_recovered    16787\n",
    "Name: 266, dtype: int64"
   ]
  },
  {
   "cell_type": "markdown",
   "id": "05d24828",
   "metadata": {},
   "source": [
    "nombre_infected       952\n",
    "nombre_sain          1821\n",
    "nombre_exposed        417\n",
    "nombre_recovered    16810\n",
    "Name: 267, dtype: int64"
   ]
  },
  {
   "cell_type": "markdown",
   "id": "a8a39bbe",
   "metadata": {},
   "source": [
    "nombre_infected       948\n",
    "nombre_sain          1832\n",
    "nombre_exposed        405\n",
    "nombre_recovered    16815\n",
    "Name: 268, dtype: int64"
   ]
  },
  {
   "cell_type": "markdown",
   "id": "16786713",
   "metadata": {},
   "source": [
    "nombre_infected       937\n",
    "nombre_sain          1838\n",
    "nombre_exposed        394\n",
    "nombre_recovered    16831\n",
    "Name: 269, dtype: int64"
   ]
  },
  {
   "cell_type": "markdown",
   "id": "4a0011fe",
   "metadata": {},
   "source": [
    "nombre_infected       941\n",
    "nombre_sain          1844\n",
    "nombre_exposed        383\n",
    "nombre_recovered    16832\n",
    "Name: 270, dtype: int64"
   ]
  },
  {
   "cell_type": "markdown",
   "id": "92bb4050",
   "metadata": {},
   "source": [
    "nombre_infected       903\n",
    "nombre_sain          1866\n",
    "nombre_exposed        396\n",
    "nombre_recovered    16835\n",
    "Name: 271, dtype: int64"
   ]
  },
  {
   "cell_type": "markdown",
   "id": "ea9cdbfc",
   "metadata": {},
   "source": [
    "nombre_infected       893\n",
    "nombre_sain          1875\n",
    "nombre_exposed        398\n",
    "nombre_recovered    16834\n",
    "Name: 272, dtype: int64"
   ]
  },
  {
   "cell_type": "markdown",
   "id": "defecffe",
   "metadata": {},
   "source": [
    "nombre_infected       893\n",
    "nombre_sain          1908\n",
    "nombre_exposed        382\n",
    "nombre_recovered    16817\n",
    "Name: 273, dtype: int64"
   ]
  },
  {
   "cell_type": "markdown",
   "id": "f9bdb216",
   "metadata": {},
   "source": [
    "nombre_infected       893\n",
    "nombre_sain          1914\n",
    "nombre_exposed        367\n",
    "nombre_recovered    16826\n",
    "Name: 274, dtype: int64"
   ]
  },
  {
   "cell_type": "markdown",
   "id": "2038d75a",
   "metadata": {},
   "source": [
    "nombre_infected       887\n",
    "nombre_sain          1929\n",
    "nombre_exposed        368\n",
    "nombre_recovered    16816\n",
    "Name: 275, dtype: int64"
   ]
  },
  {
   "cell_type": "markdown",
   "id": "cba2472d",
   "metadata": {},
   "source": [
    "nombre_infected       845\n",
    "nombre_sain          1930\n",
    "nombre_exposed        387\n",
    "nombre_recovered    16838\n",
    "Name: 276, dtype: int64"
   ]
  },
  {
   "cell_type": "markdown",
   "id": "82f95b6e",
   "metadata": {},
   "source": [
    "nombre_infected       834\n",
    "nombre_sain          1935\n",
    "nombre_exposed        385\n",
    "nombre_recovered    16846\n",
    "Name: 277, dtype: int64"
   ]
  },
  {
   "cell_type": "markdown",
   "id": "d9caf8ba",
   "metadata": {},
   "source": [
    "nombre_infected       839\n",
    "nombre_sain          1968\n",
    "nombre_exposed        380\n",
    "nombre_recovered    16813\n",
    "Name: 278, dtype: int64"
   ]
  },
  {
   "cell_type": "markdown",
   "id": "d1b1c79d",
   "metadata": {},
   "source": [
    "nombre_infected       830\n",
    "nombre_sain          1976\n",
    "nombre_exposed        384\n",
    "nombre_recovered    16810\n",
    "Name: 279, dtype: int64"
   ]
  },
  {
   "cell_type": "markdown",
   "id": "a456aa57",
   "metadata": {},
   "source": [
    "nombre_infected       796\n",
    "nombre_sain          1972\n",
    "nombre_exposed        389\n",
    "nombre_recovered    16843\n",
    "Name: 280, dtype: int64"
   ]
  },
  {
   "cell_type": "markdown",
   "id": "9a9d80b4",
   "metadata": {},
   "source": [
    "nombre_infected       793\n",
    "nombre_sain          1975\n",
    "nombre_exposed        392\n",
    "nombre_recovered    16840\n",
    "Name: 281, dtype: int64"
   ]
  },
  {
   "cell_type": "markdown",
   "id": "6e84943b",
   "metadata": {},
   "source": [
    "nombre_infected       796\n",
    "nombre_sain          1990\n",
    "nombre_exposed        376\n",
    "nombre_recovered    16838\n",
    "Name: 282, dtype: int64"
   ]
  },
  {
   "cell_type": "markdown",
   "id": "a51827b2",
   "metadata": {},
   "source": [
    "nombre_infected       782\n",
    "nombre_sain          2020\n",
    "nombre_exposed        359\n",
    "nombre_recovered    16839\n",
    "Name: 283, dtype: int64"
   ]
  },
  {
   "cell_type": "markdown",
   "id": "3a529d86",
   "metadata": {},
   "source": [
    "nombre_infected       777\n",
    "nombre_sain          2057\n",
    "nombre_exposed        343\n",
    "nombre_recovered    16823\n",
    "Name: 284, dtype: int64"
   ]
  },
  {
   "cell_type": "markdown",
   "id": "4b71376e",
   "metadata": {},
   "source": [
    "nombre_infected       753\n",
    "nombre_sain          2079\n",
    "nombre_exposed        352\n",
    "nombre_recovered    16816\n",
    "Name: 285, dtype: int64"
   ]
  },
  {
   "cell_type": "markdown",
   "id": "a2fe5b4d",
   "metadata": {},
   "source": [
    "nombre_infected       745\n",
    "nombre_sain          2095\n",
    "nombre_exposed        361\n",
    "nombre_recovered    16799\n",
    "Name: 286, dtype: int64"
   ]
  },
  {
   "cell_type": "markdown",
   "id": "dd135363",
   "metadata": {},
   "source": [
    "nombre_infected       751\n",
    "nombre_sain          2082\n",
    "nombre_exposed        377\n",
    "nombre_recovered    16790\n",
    "Name: 287, dtype: int64"
   ]
  },
  {
   "cell_type": "markdown",
   "id": "167acf9a",
   "metadata": {},
   "source": [
    "nombre_infected       749\n",
    "nombre_sain          2098\n",
    "nombre_exposed        369\n",
    "nombre_recovered    16784\n",
    "Name: 288, dtype: int64"
   ]
  },
  {
   "cell_type": "markdown",
   "id": "9354fd61",
   "metadata": {},
   "source": [
    "nombre_infected       746\n",
    "nombre_sain          2105\n",
    "nombre_exposed        386\n",
    "nombre_recovered    16763\n",
    "Name: 289, dtype: int64"
   ]
  },
  {
   "cell_type": "markdown",
   "id": "fce1a87a",
   "metadata": {},
   "source": [
    "nombre_infected       750\n",
    "nombre_sain          2128\n",
    "nombre_exposed        383\n",
    "nombre_recovered    16739\n",
    "Name: 290, dtype: int64"
   ]
  },
  {
   "cell_type": "markdown",
   "id": "2cacbc01",
   "metadata": {},
   "source": [
    "nombre_infected       749\n",
    "nombre_sain          2138\n",
    "nombre_exposed        377\n",
    "nombre_recovered    16736\n",
    "Name: 291, dtype: int64"
   ]
  },
  {
   "cell_type": "markdown",
   "id": "58d05b88",
   "metadata": {},
   "source": [
    "nombre_infected       771\n",
    "nombre_sain          2132\n",
    "nombre_exposed        385\n",
    "nombre_recovered    16712\n",
    "Name: 292, dtype: int64"
   ]
  },
  {
   "cell_type": "markdown",
   "id": "19dbb0e8",
   "metadata": {},
   "source": [
    "nombre_infected       782\n",
    "nombre_sain          2146\n",
    "nombre_exposed        387\n",
    "nombre_recovered    16685\n",
    "Name: 293, dtype: int64"
   ]
  },
  {
   "cell_type": "markdown",
   "id": "e8c65f9e",
   "metadata": {},
   "source": [
    "nombre_infected       766\n",
    "nombre_sain          2157\n",
    "nombre_exposed        415\n",
    "nombre_recovered    16662\n",
    "Name: 294, dtype: int64"
   ]
  },
  {
   "cell_type": "markdown",
   "id": "d1b74a8f",
   "metadata": {},
   "source": [
    "nombre_infected       771\n",
    "nombre_sain          2184\n",
    "nombre_exposed        423\n",
    "nombre_recovered    16622\n",
    "Name: 295, dtype: int64"
   ]
  },
  {
   "cell_type": "markdown",
   "id": "07282998",
   "metadata": {},
   "source": [
    "nombre_infected       770\n",
    "nombre_sain          2197\n",
    "nombre_exposed        420\n",
    "nombre_recovered    16613\n",
    "Name: 296, dtype: int64"
   ]
  },
  {
   "cell_type": "markdown",
   "id": "db08ce7e",
   "metadata": {},
   "source": [
    "nombre_infected       785\n",
    "nombre_sain          2215\n",
    "nombre_exposed        411\n",
    "nombre_recovered    16589\n",
    "Name: 297, dtype: int64"
   ]
  },
  {
   "cell_type": "markdown",
   "id": "a8392f1d",
   "metadata": {},
   "source": [
    "nombre_infected       789\n",
    "nombre_sain          2229\n",
    "nombre_exposed        416\n",
    "nombre_recovered    16566\n",
    "Name: 298, dtype: int64"
   ]
  },
  {
   "cell_type": "markdown",
   "id": "819ecf0e",
   "metadata": {},
   "source": [
    "nombre_infected       807\n",
    "nombre_sain          2229\n",
    "nombre_exposed        396\n",
    "nombre_recovered    16568\n",
    "Name: 299, dtype: int64"
   ]
  },
  {
   "cell_type": "markdown",
   "id": "6ddaab15",
   "metadata": {},
   "source": [
    "nombre_infected       827\n",
    "nombre_sain          2223\n",
    "nombre_exposed        414\n",
    "nombre_recovered    16536\n",
    "Name: 300, dtype: int64"
   ]
  },
  {
   "cell_type": "markdown",
   "id": "449f5d5d",
   "metadata": {},
   "source": [
    "nombre_infected       833\n",
    "nombre_sain          2216\n",
    "nombre_exposed        444\n",
    "nombre_recovered    16507\n",
    "Name: 301, dtype: int64"
   ]
  },
  {
   "cell_type": "markdown",
   "id": "96eed475",
   "metadata": {},
   "source": [
    "nombre_infected       825\n",
    "nombre_sain          2223\n",
    "nombre_exposed        458\n",
    "nombre_recovered    16494\n",
    "Name: 302, dtype: int64"
   ]
  },
  {
   "cell_type": "markdown",
   "id": "156599da",
   "metadata": {},
   "source": [
    "nombre_infected       816\n",
    "nombre_sain          2254\n",
    "nombre_exposed        449\n",
    "nombre_recovered    16481\n",
    "Name: 303, dtype: int64"
   ]
  },
  {
   "cell_type": "markdown",
   "id": "5314b3eb",
   "metadata": {},
   "source": [
    "nombre_infected       827\n",
    "nombre_sain          2236\n",
    "nombre_exposed        460\n",
    "nombre_recovered    16477\n",
    "Name: 304, dtype: int64"
   ]
  },
  {
   "cell_type": "markdown",
   "id": "97248272",
   "metadata": {},
   "source": [
    "nombre_infected       829\n",
    "nombre_sain          2239\n",
    "nombre_exposed        467\n",
    "nombre_recovered    16465\n",
    "Name: 305, dtype: int64"
   ]
  },
  {
   "cell_type": "markdown",
   "id": "9bd6b76e",
   "metadata": {},
   "source": [
    "nombre_infected       845\n",
    "nombre_sain          2245\n",
    "nombre_exposed        466\n",
    "nombre_recovered    16444\n",
    "Name: 306, dtype: int64"
   ]
  },
  {
   "cell_type": "markdown",
   "id": "bab27008",
   "metadata": {},
   "source": [
    "nombre_infected       819\n",
    "nombre_sain          2246\n",
    "nombre_exposed        499\n",
    "nombre_recovered    16436\n",
    "Name: 307, dtype: int64"
   ]
  },
  {
   "cell_type": "markdown",
   "id": "d0211fcb",
   "metadata": {},
   "source": [
    "nombre_infected       821\n",
    "nombre_sain          2259\n",
    "nombre_exposed        510\n",
    "nombre_recovered    16410\n",
    "Name: 308, dtype: int64"
   ]
  },
  {
   "cell_type": "markdown",
   "id": "997826bd",
   "metadata": {},
   "source": [
    "nombre_infected       867\n",
    "nombre_sain          2267\n",
    "nombre_exposed        487\n",
    "nombre_recovered    16379\n",
    "Name: 309, dtype: int64"
   ]
  },
  {
   "cell_type": "markdown",
   "id": "13fc289f",
   "metadata": {},
   "source": [
    "nombre_infected       861\n",
    "nombre_sain          2264\n",
    "nombre_exposed        474\n",
    "nombre_recovered    16401\n",
    "Name: 310, dtype: int64"
   ]
  },
  {
   "cell_type": "markdown",
   "id": "207bc503",
   "metadata": {},
   "source": [
    "nombre_infected       862\n",
    "nombre_sain          2261\n",
    "nombre_exposed        462\n",
    "nombre_recovered    16415\n",
    "Name: 311, dtype: int64"
   ]
  },
  {
   "cell_type": "markdown",
   "id": "f56423a2",
   "metadata": {},
   "source": [
    "nombre_infected       869\n",
    "nombre_sain          2269\n",
    "nombre_exposed        461\n",
    "nombre_recovered    16401\n",
    "Name: 312, dtype: int64"
   ]
  },
  {
   "cell_type": "markdown",
   "id": "fe2ba8fb",
   "metadata": {},
   "source": [
    "nombre_infected       877\n",
    "nombre_sain          2251\n",
    "nombre_exposed        478\n",
    "nombre_recovered    16394\n",
    "Name: 313, dtype: int64"
   ]
  },
  {
   "cell_type": "markdown",
   "id": "4abd8269",
   "metadata": {},
   "source": [
    "nombre_infected       866\n",
    "nombre_sain          2249\n",
    "nombre_exposed        476\n",
    "nombre_recovered    16409\n",
    "Name: 314, dtype: int64"
   ]
  },
  {
   "cell_type": "markdown",
   "id": "59052efc",
   "metadata": {},
   "source": [
    "nombre_infected       904\n",
    "nombre_sain          2233\n",
    "nombre_exposed        474\n",
    "nombre_recovered    16389\n",
    "Name: 315, dtype: int64"
   ]
  },
  {
   "cell_type": "markdown",
   "id": "8459e07e",
   "metadata": {},
   "source": [
    "nombre_infected       890\n",
    "nombre_sain          2210\n",
    "nombre_exposed        499\n",
    "nombre_recovered    16401\n",
    "Name: 316, dtype: int64"
   ]
  },
  {
   "cell_type": "markdown",
   "id": "9bcf6463",
   "metadata": {},
   "source": [
    "nombre_infected       893\n",
    "nombre_sain          2178\n",
    "nombre_exposed        516\n",
    "nombre_recovered    16413\n",
    "Name: 317, dtype: int64"
   ]
  },
  {
   "cell_type": "markdown",
   "id": "5c007405",
   "metadata": {},
   "source": [
    "nombre_infected       879\n",
    "nombre_sain          2147\n",
    "nombre_exposed        529\n",
    "nombre_recovered    16445\n",
    "Name: 318, dtype: int64"
   ]
  },
  {
   "cell_type": "markdown",
   "id": "f3235649",
   "metadata": {},
   "source": [
    "nombre_infected       908\n",
    "nombre_sain          2132\n",
    "nombre_exposed        518\n",
    "nombre_recovered    16442\n",
    "Name: 319, dtype: int64"
   ]
  },
  {
   "cell_type": "markdown",
   "id": "7d376eb6",
   "metadata": {},
   "source": [
    "nombre_infected       904\n",
    "nombre_sain          2104\n",
    "nombre_exposed        527\n",
    "nombre_recovered    16465\n",
    "Name: 320, dtype: int64"
   ]
  },
  {
   "cell_type": "markdown",
   "id": "112631e4",
   "metadata": {},
   "source": [
    "nombre_infected       912\n",
    "nombre_sain          2127\n",
    "nombre_exposed        510\n",
    "nombre_recovered    16451\n",
    "Name: 321, dtype: int64"
   ]
  },
  {
   "cell_type": "markdown",
   "id": "f3fa990a",
   "metadata": {},
   "source": [
    "nombre_infected       920\n",
    "nombre_sain          2114\n",
    "nombre_exposed        519\n",
    "nombre_recovered    16447\n",
    "Name: 322, dtype: int64"
   ]
  },
  {
   "cell_type": "markdown",
   "id": "04c9d94c",
   "metadata": {},
   "source": [
    "nombre_infected       924\n",
    "nombre_sain          2113\n",
    "nombre_exposed        498\n",
    "nombre_recovered    16465\n",
    "Name: 323, dtype: int64"
   ]
  },
  {
   "cell_type": "markdown",
   "id": "002d9f20",
   "metadata": {},
   "source": [
    "nombre_infected       938\n",
    "nombre_sain          2109\n",
    "nombre_exposed        493\n",
    "nombre_recovered    16460\n",
    "Name: 324, dtype: int64"
   ]
  },
  {
   "cell_type": "markdown",
   "id": "403204a1",
   "metadata": {},
   "source": [
    "nombre_infected       935\n",
    "nombre_sain          2146\n",
    "nombre_exposed        478\n",
    "nombre_recovered    16441\n",
    "Name: 325, dtype: int64"
   ]
  },
  {
   "cell_type": "markdown",
   "id": "78e1452a",
   "metadata": {},
   "source": [
    "nombre_infected       931\n",
    "nombre_sain          2139\n",
    "nombre_exposed        475\n",
    "nombre_recovered    16455\n",
    "Name: 326, dtype: int64"
   ]
  },
  {
   "cell_type": "markdown",
   "id": "9d53b7b2",
   "metadata": {},
   "source": [
    "nombre_infected       910\n",
    "nombre_sain          2145\n",
    "nombre_exposed        489\n",
    "nombre_recovered    16456\n",
    "Name: 327, dtype: int64"
   ]
  },
  {
   "cell_type": "markdown",
   "id": "7a03c6d5",
   "metadata": {},
   "source": [
    "nombre_infected       872\n",
    "nombre_sain          2160\n",
    "nombre_exposed        482\n",
    "nombre_recovered    16486\n",
    "Name: 328, dtype: int64"
   ]
  },
  {
   "cell_type": "markdown",
   "id": "d47ffdf4",
   "metadata": {},
   "source": [
    "nombre_infected       870\n",
    "nombre_sain          2182\n",
    "nombre_exposed        451\n",
    "nombre_recovered    16497\n",
    "Name: 329, dtype: int64"
   ]
  },
  {
   "cell_type": "markdown",
   "id": "ff386dc8",
   "metadata": {},
   "source": [
    "nombre_infected       858\n",
    "nombre_sain          2189\n",
    "nombre_exposed        455\n",
    "nombre_recovered    16498\n",
    "Name: 330, dtype: int64"
   ]
  },
  {
   "cell_type": "markdown",
   "id": "4896c099",
   "metadata": {},
   "source": [
    "nombre_infected       877\n",
    "nombre_sain          2222\n",
    "nombre_exposed        433\n",
    "nombre_recovered    16468\n",
    "Name: 331, dtype: int64"
   ]
  },
  {
   "cell_type": "markdown",
   "id": "71666bd0",
   "metadata": {},
   "source": [
    "nombre_infected       862\n",
    "nombre_sain          2233\n",
    "nombre_exposed        434\n",
    "nombre_recovered    16471\n",
    "Name: 332, dtype: int64"
   ]
  },
  {
   "cell_type": "markdown",
   "id": "e6bf2f1e",
   "metadata": {},
   "source": [
    "nombre_infected       862\n",
    "nombre_sain          2207\n",
    "nombre_exposed        453\n",
    "nombre_recovered    16478\n",
    "Name: 333, dtype: int64"
   ]
  },
  {
   "cell_type": "markdown",
   "id": "6f57c6f0",
   "metadata": {},
   "source": [
    "nombre_infected       856\n",
    "nombre_sain          2191\n",
    "nombre_exposed        484\n",
    "nombre_recovered    16469\n",
    "Name: 334, dtype: int64"
   ]
  },
  {
   "cell_type": "markdown",
   "id": "0bb0af8d",
   "metadata": {},
   "source": [
    "nombre_infected       860\n",
    "nombre_sain          2208\n",
    "nombre_exposed        461\n",
    "nombre_recovered    16471\n",
    "Name: 335, dtype: int64"
   ]
  },
  {
   "cell_type": "markdown",
   "id": "4f66ec56",
   "metadata": {},
   "source": [
    "nombre_infected       841\n",
    "nombre_sain          2184\n",
    "nombre_exposed        462\n",
    "nombre_recovered    16513\n",
    "Name: 336, dtype: int64"
   ]
  },
  {
   "cell_type": "markdown",
   "id": "c12410ba",
   "metadata": {},
   "source": [
    "nombre_infected       859\n",
    "nombre_sain          2180\n",
    "nombre_exposed        448\n",
    "nombre_recovered    16513\n",
    "Name: 337, dtype: int64"
   ]
  },
  {
   "cell_type": "markdown",
   "id": "1d2b69b3",
   "metadata": {},
   "source": [
    "nombre_infected       846\n",
    "nombre_sain          2173\n",
    "nombre_exposed        462\n",
    "nombre_recovered    16519\n",
    "Name: 338, dtype: int64"
   ]
  },
  {
   "cell_type": "markdown",
   "id": "63e9709b",
   "metadata": {},
   "source": [
    "nombre_infected       857\n",
    "nombre_sain          2182\n",
    "nombre_exposed        435\n",
    "nombre_recovered    16526\n",
    "Name: 339, dtype: int64"
   ]
  },
  {
   "cell_type": "markdown",
   "id": "c68a6655",
   "metadata": {},
   "source": [
    "nombre_infected       838\n",
    "nombre_sain          2181\n",
    "nombre_exposed        443\n",
    "nombre_recovered    16538\n",
    "Name: 340, dtype: int64"
   ]
  },
  {
   "cell_type": "markdown",
   "id": "5ae83e07",
   "metadata": {},
   "source": [
    "nombre_infected       800\n",
    "nombre_sain          2185\n",
    "nombre_exposed        448\n",
    "nombre_recovered    16567\n",
    "Name: 341, dtype: int64"
   ]
  },
  {
   "cell_type": "markdown",
   "id": "00082deb",
   "metadata": {},
   "source": [
    "nombre_infected       797\n",
    "nombre_sain          2194\n",
    "nombre_exposed        444\n",
    "nombre_recovered    16565\n",
    "Name: 342, dtype: int64"
   ]
  },
  {
   "cell_type": "markdown",
   "id": "7ec7fd7b",
   "metadata": {},
   "source": [
    "nombre_infected       799\n",
    "nombre_sain          2175\n",
    "nombre_exposed        441\n",
    "nombre_recovered    16585\n",
    "Name: 343, dtype: int64"
   ]
  },
  {
   "cell_type": "markdown",
   "id": "4b5d4556",
   "metadata": {},
   "source": [
    "nombre_infected       775\n",
    "nombre_sain          2207\n",
    "nombre_exposed        446\n",
    "nombre_recovered    16572\n",
    "Name: 344, dtype: int64"
   ]
  },
  {
   "cell_type": "markdown",
   "id": "1cbd4815",
   "metadata": {},
   "source": [
    "nombre_infected       768\n",
    "nombre_sain          2194\n",
    "nombre_exposed        454\n",
    "nombre_recovered    16584\n",
    "Name: 345, dtype: int64"
   ]
  },
  {
   "cell_type": "markdown",
   "id": "1faeb564",
   "metadata": {},
   "source": [
    "nombre_infected       763\n",
    "nombre_sain          2180\n",
    "nombre_exposed        451\n",
    "nombre_recovered    16606\n",
    "Name: 346, dtype: int64"
   ]
  },
  {
   "cell_type": "markdown",
   "id": "044f6589",
   "metadata": {},
   "source": [
    "nombre_infected       771\n",
    "nombre_sain          2179\n",
    "nombre_exposed        444\n",
    "nombre_recovered    16606\n",
    "Name: 347, dtype: int64"
   ]
  },
  {
   "cell_type": "markdown",
   "id": "574056dd",
   "metadata": {},
   "source": [
    "nombre_infected       747\n",
    "nombre_sain          2207\n",
    "nombre_exposed        444\n",
    "nombre_recovered    16602\n",
    "Name: 348, dtype: int64"
   ]
  },
  {
   "cell_type": "markdown",
   "id": "ea4f6dfe",
   "metadata": {},
   "source": [
    "nombre_infected       775\n",
    "nombre_sain          2228\n",
    "nombre_exposed        442\n",
    "nombre_recovered    16555\n",
    "Name: 349, dtype: int64"
   ]
  },
  {
   "cell_type": "markdown",
   "id": "a72998e4",
   "metadata": {},
   "source": [
    "nombre_infected       779\n",
    "nombre_sain          2224\n",
    "nombre_exposed        444\n",
    "nombre_recovered    16553\n",
    "Name: 350, dtype: int64"
   ]
  },
  {
   "cell_type": "markdown",
   "id": "5bf79bb9",
   "metadata": {},
   "source": [
    "nombre_infected       781\n",
    "nombre_sain          2250\n",
    "nombre_exposed        444\n",
    "nombre_recovered    16525\n",
    "Name: 351, dtype: int64"
   ]
  },
  {
   "cell_type": "markdown",
   "id": "5224871e",
   "metadata": {},
   "source": [
    "nombre_infected       773\n",
    "nombre_sain          2271\n",
    "nombre_exposed        445\n",
    "nombre_recovered    16511\n",
    "Name: 352, dtype: int64"
   ]
  },
  {
   "cell_type": "markdown",
   "id": "a4f99b53",
   "metadata": {},
   "source": [
    "nombre_infected       761\n",
    "nombre_sain          2282\n",
    "nombre_exposed        453\n",
    "nombre_recovered    16504\n",
    "Name: 353, dtype: int64"
   ]
  },
  {
   "cell_type": "markdown",
   "id": "db37be0b",
   "metadata": {},
   "source": [
    "nombre_infected       779\n",
    "nombre_sain          2280\n",
    "nombre_exposed        434\n",
    "nombre_recovered    16507\n",
    "Name: 354, dtype: int64"
   ]
  },
  {
   "cell_type": "markdown",
   "id": "24987aff",
   "metadata": {},
   "source": [
    "nombre_infected       786\n",
    "nombre_sain          2265\n",
    "nombre_exposed        429\n",
    "nombre_recovered    16520\n",
    "Name: 355, dtype: int64"
   ]
  },
  {
   "cell_type": "markdown",
   "id": "0ca8e192",
   "metadata": {},
   "source": [
    "nombre_infected       777\n",
    "nombre_sain          2269\n",
    "nombre_exposed        448\n",
    "nombre_recovered    16506\n",
    "Name: 356, dtype: int64"
   ]
  },
  {
   "cell_type": "markdown",
   "id": "8f1b9311",
   "metadata": {},
   "source": [
    "nombre_infected       765\n",
    "nombre_sain          2283\n",
    "nombre_exposed        436\n",
    "nombre_recovered    16516\n",
    "Name: 357, dtype: int64"
   ]
  },
  {
   "cell_type": "markdown",
   "id": "e7b06e7f",
   "metadata": {},
   "source": [
    "nombre_infected       794\n",
    "nombre_sain          2289\n",
    "nombre_exposed        434\n",
    "nombre_recovered    16483\n",
    "Name: 358, dtype: int64"
   ]
  },
  {
   "cell_type": "markdown",
   "id": "b291c61f",
   "metadata": {},
   "source": [
    "nombre_infected       802\n",
    "nombre_sain          2294\n",
    "nombre_exposed        434\n",
    "nombre_recovered    16470\n",
    "Name: 359, dtype: int64"
   ]
  },
  {
   "cell_type": "markdown",
   "id": "c50db437",
   "metadata": {},
   "source": [
    "nombre_infected       805\n",
    "nombre_sain          2289\n",
    "nombre_exposed        452\n",
    "nombre_recovered    16454\n",
    "Name: 360, dtype: int64"
   ]
  },
  {
   "cell_type": "markdown",
   "id": "55505492",
   "metadata": {},
   "source": [
    "nombre_infected       782\n",
    "nombre_sain          2296\n",
    "nombre_exposed        470\n",
    "nombre_recovered    16452\n",
    "Name: 361, dtype: int64"
   ]
  },
  {
   "cell_type": "markdown",
   "id": "3ed26c4f",
   "metadata": {},
   "source": [
    "nombre_infected       775\n",
    "nombre_sain          2311\n",
    "nombre_exposed        462\n",
    "nombre_recovered    16452\n",
    "Name: 362, dtype: int64"
   ]
  },
  {
   "cell_type": "markdown",
   "id": "e7f13b53",
   "metadata": {},
   "source": [
    "nombre_infected       776\n",
    "nombre_sain          2316\n",
    "nombre_exposed        461\n",
    "nombre_recovered    16447\n",
    "Name: 363, dtype: int64"
   ]
  },
  {
   "cell_type": "markdown",
   "id": "a11c08bb",
   "metadata": {},
   "source": [
    "nombre_infected       783\n",
    "nombre_sain          2297\n",
    "nombre_exposed        474\n",
    "nombre_recovered    16446\n",
    "Name: 364, dtype: int64"
   ]
  },
  {
   "cell_type": "markdown",
   "id": "9451d68a",
   "metadata": {},
   "source": [
    "nombre_infected       787\n",
    "nombre_sain          2279\n",
    "nombre_exposed        486\n",
    "nombre_recovered    16448\n",
    "Name: 365, dtype: int64"
   ]
  },
  {
   "cell_type": "markdown",
   "id": "c2b577af",
   "metadata": {},
   "source": [
    "nombre_infected       813\n",
    "nombre_sain          2258\n",
    "nombre_exposed        493\n",
    "nombre_recovered    16436\n",
    "Name: 366, dtype: int64"
   ]
  },
  {
   "cell_type": "markdown",
   "id": "6a03761e",
   "metadata": {},
   "source": [
    "nombre_infected       812\n",
    "nombre_sain          2275\n",
    "nombre_exposed        489\n",
    "nombre_recovered    16424\n",
    "Name: 367, dtype: int64"
   ]
  },
  {
   "cell_type": "markdown",
   "id": "30126116",
   "metadata": {},
   "source": [
    "nombre_infected       819\n",
    "nombre_sain          2278\n",
    "nombre_exposed        494\n",
    "nombre_recovered    16409\n",
    "Name: 368, dtype: int64"
   ]
  },
  {
   "cell_type": "markdown",
   "id": "78d2a196",
   "metadata": {},
   "source": [
    "nombre_infected       854\n",
    "nombre_sain          2260\n",
    "nombre_exposed        488\n",
    "nombre_recovered    16398\n",
    "Name: 369, dtype: int64"
   ]
  },
  {
   "cell_type": "markdown",
   "id": "c9602b0c",
   "metadata": {},
   "source": [
    "nombre_infected       863\n",
    "nombre_sain          2272\n",
    "nombre_exposed        465\n",
    "nombre_recovered    16400\n",
    "Name: 370, dtype: int64"
   ]
  },
  {
   "cell_type": "markdown",
   "id": "e2367abe",
   "metadata": {},
   "source": [
    "nombre_infected       875\n",
    "nombre_sain          2256\n",
    "nombre_exposed        455\n",
    "nombre_recovered    16414\n",
    "Name: 371, dtype: int64"
   ]
  },
  {
   "cell_type": "markdown",
   "id": "5eb3cc1e",
   "metadata": {},
   "source": [
    "nombre_infected       886\n",
    "nombre_sain          2236\n",
    "nombre_exposed        451\n",
    "nombre_recovered    16427\n",
    "Name: 372, dtype: int64"
   ]
  },
  {
   "cell_type": "markdown",
   "id": "714c8774",
   "metadata": {},
   "source": [
    "nombre_infected       883\n",
    "nombre_sain          2229\n",
    "nombre_exposed        455\n",
    "nombre_recovered    16433\n",
    "Name: 373, dtype: int64"
   ]
  },
  {
   "cell_type": "markdown",
   "id": "2a7132f7",
   "metadata": {},
   "source": [
    "nombre_infected       878\n",
    "nombre_sain          2213\n",
    "nombre_exposed        461\n",
    "nombre_recovered    16448\n",
    "Name: 374, dtype: int64"
   ]
  },
  {
   "cell_type": "markdown",
   "id": "d2301925",
   "metadata": {},
   "source": [
    "nombre_infected       889\n",
    "nombre_sain          2223\n",
    "nombre_exposed        445\n",
    "nombre_recovered    16443\n",
    "Name: 375, dtype: int64"
   ]
  },
  {
   "cell_type": "markdown",
   "id": "bc33b701",
   "metadata": {},
   "source": [
    "nombre_infected       897\n",
    "nombre_sain          2243\n",
    "nombre_exposed        432\n",
    "nombre_recovered    16428\n",
    "Name: 376, dtype: int64"
   ]
  },
  {
   "cell_type": "markdown",
   "id": "8942c8ca",
   "metadata": {},
   "source": [
    "nombre_infected       869\n",
    "nombre_sain          2217\n",
    "nombre_exposed        446\n",
    "nombre_recovered    16468\n",
    "Name: 377, dtype: int64"
   ]
  },
  {
   "cell_type": "markdown",
   "id": "e1167e1a",
   "metadata": {},
   "source": [
    "nombre_infected       874\n",
    "nombre_sain          2228\n",
    "nombre_exposed        436\n",
    "nombre_recovered    16462\n",
    "Name: 378, dtype: int64"
   ]
  },
  {
   "cell_type": "markdown",
   "id": "9b2f5a26",
   "metadata": {},
   "source": [
    "nombre_infected       866\n",
    "nombre_sain          2216\n",
    "nombre_exposed        456\n",
    "nombre_recovered    16462\n",
    "Name: 379, dtype: int64"
   ]
  },
  {
   "cell_type": "markdown",
   "id": "c3740a0a",
   "metadata": {},
   "source": [
    "nombre_infected       881\n",
    "nombre_sain          2220\n",
    "nombre_exposed        454\n",
    "nombre_recovered    16445\n",
    "Name: 380, dtype: int64"
   ]
  },
  {
   "cell_type": "markdown",
   "id": "a5dc18da",
   "metadata": {},
   "source": [
    "nombre_infected       891\n",
    "nombre_sain          2221\n",
    "nombre_exposed        451\n",
    "nombre_recovered    16437\n",
    "Name: 381, dtype: int64"
   ]
  },
  {
   "cell_type": "markdown",
   "id": "53f8c659",
   "metadata": {},
   "source": [
    "nombre_infected       893\n",
    "nombre_sain          2233\n",
    "nombre_exposed        454\n",
    "nombre_recovered    16420\n",
    "Name: 382, dtype: int64"
   ]
  },
  {
   "cell_type": "markdown",
   "id": "5ea592bc",
   "metadata": {},
   "source": [
    "nombre_infected       860\n",
    "nombre_sain          2250\n",
    "nombre_exposed        452\n",
    "nombre_recovered    16438\n",
    "Name: 383, dtype: int64"
   ]
  },
  {
   "cell_type": "markdown",
   "id": "6f2ff9b4",
   "metadata": {},
   "source": [
    "nombre_infected       891\n",
    "nombre_sain          2267\n",
    "nombre_exposed        441\n",
    "nombre_recovered    16401\n",
    "Name: 384, dtype: int64"
   ]
  },
  {
   "cell_type": "markdown",
   "id": "1432a1c1",
   "metadata": {},
   "source": [
    "nombre_infected       900\n",
    "nombre_sain          2267\n",
    "nombre_exposed        448\n",
    "nombre_recovered    16385\n",
    "Name: 385, dtype: int64"
   ]
  },
  {
   "cell_type": "markdown",
   "id": "565d214c",
   "metadata": {},
   "source": [
    "nombre_infected       910\n",
    "nombre_sain          2264\n",
    "nombre_exposed        451\n",
    "nombre_recovered    16375\n",
    "Name: 386, dtype: int64"
   ]
  },
  {
   "cell_type": "markdown",
   "id": "bb8e413b",
   "metadata": {},
   "source": [
    "nombre_infected       899\n",
    "nombre_sain          2227\n",
    "nombre_exposed        473\n",
    "nombre_recovered    16401\n",
    "Name: 387, dtype: int64"
   ]
  },
  {
   "cell_type": "markdown",
   "id": "b9e642af",
   "metadata": {},
   "source": [
    "nombre_infected       904\n",
    "nombre_sain          2226\n",
    "nombre_exposed        464\n",
    "nombre_recovered    16406\n",
    "Name: 388, dtype: int64"
   ]
  },
  {
   "cell_type": "markdown",
   "id": "7dd628da",
   "metadata": {},
   "source": [
    "nombre_infected       928\n",
    "nombre_sain          2208\n",
    "nombre_exposed        460\n",
    "nombre_recovered    16404\n",
    "Name: 389, dtype: int64"
   ]
  },
  {
   "cell_type": "markdown",
   "id": "ae2fdec0",
   "metadata": {},
   "source": [
    "nombre_infected       926\n",
    "nombre_sain          2185\n",
    "nombre_exposed        496\n",
    "nombre_recovered    16393\n",
    "Name: 390, dtype: int64"
   ]
  },
  {
   "cell_type": "markdown",
   "id": "8e60de44",
   "metadata": {},
   "source": [
    "nombre_infected       933\n",
    "nombre_sain          2207\n",
    "nombre_exposed        468\n",
    "nombre_recovered    16392\n",
    "Name: 391, dtype: int64"
   ]
  },
  {
   "cell_type": "markdown",
   "id": "3dc85102",
   "metadata": {},
   "source": [
    "nombre_infected       942\n",
    "nombre_sain          2174\n",
    "nombre_exposed        481\n",
    "nombre_recovered    16403\n",
    "Name: 392, dtype: int64"
   ]
  },
  {
   "cell_type": "markdown",
   "id": "bb44c94b",
   "metadata": {},
   "source": [
    "nombre_infected       944\n",
    "nombre_sain          2148\n",
    "nombre_exposed        496\n",
    "nombre_recovered    16412\n",
    "Name: 393, dtype: int64"
   ]
  },
  {
   "cell_type": "markdown",
   "id": "67a7177d",
   "metadata": {},
   "source": [
    "nombre_infected       955\n",
    "nombre_sain          2144\n",
    "nombre_exposed        485\n",
    "nombre_recovered    16416\n",
    "Name: 394, dtype: int64"
   ]
  },
  {
   "cell_type": "markdown",
   "id": "46bbcd27",
   "metadata": {},
   "source": [
    "nombre_infected       946\n",
    "nombre_sain          2146\n",
    "nombre_exposed        488\n",
    "nombre_recovered    16420\n",
    "Name: 395, dtype: int64"
   ]
  },
  {
   "cell_type": "markdown",
   "id": "e411a2a5",
   "metadata": {},
   "source": [
    "nombre_infected       949\n",
    "nombre_sain          2139\n",
    "nombre_exposed        477\n",
    "nombre_recovered    16435\n",
    "Name: 396, dtype: int64"
   ]
  },
  {
   "cell_type": "markdown",
   "id": "3a6a8ab4",
   "metadata": {},
   "source": [
    "nombre_infected       946\n",
    "nombre_sain          2141\n",
    "nombre_exposed        476\n",
    "nombre_recovered    16437\n",
    "Name: 397, dtype: int64"
   ]
  },
  {
   "cell_type": "markdown",
   "id": "af0b2b65",
   "metadata": {},
   "source": [
    "nombre_infected       953\n",
    "nombre_sain          2150\n",
    "nombre_exposed        463\n",
    "nombre_recovered    16434\n",
    "Name: 398, dtype: int64"
   ]
  },
  {
   "cell_type": "markdown",
   "id": "e4dfaa81",
   "metadata": {},
   "source": [
    "nombre_infected       964\n",
    "nombre_sain          2158\n",
    "nombre_exposed        460\n",
    "nombre_recovered    16418\n",
    "Name: 399, dtype: int64"
   ]
  },
  {
   "cell_type": "markdown",
   "id": "7a974ee7",
   "metadata": {},
   "source": [
    "nombre_infected       951\n",
    "nombre_sain          2172\n",
    "nombre_exposed        455\n",
    "nombre_recovered    16422\n",
    "Name: 400, dtype: int64"
   ]
  },
  {
   "cell_type": "markdown",
   "id": "defa40c1",
   "metadata": {},
   "source": [
    "nombre_infected       975\n",
    "nombre_sain          2165\n",
    "nombre_exposed        479\n",
    "nombre_recovered    16381\n",
    "Name: 401, dtype: int64"
   ]
  },
  {
   "cell_type": "markdown",
   "id": "8f7e8c0d",
   "metadata": {},
   "source": [
    "nombre_infected       954\n",
    "nombre_sain          2132\n",
    "nombre_exposed        515\n",
    "nombre_recovered    16399\n",
    "Name: 402, dtype: int64"
   ]
  },
  {
   "cell_type": "markdown",
   "id": "520a1fab",
   "metadata": {},
   "source": [
    "nombre_infected       960\n",
    "nombre_sain          2129\n",
    "nombre_exposed        507\n",
    "nombre_recovered    16404\n",
    "Name: 403, dtype: int64"
   ]
  },
  {
   "cell_type": "markdown",
   "id": "a60f1d85",
   "metadata": {},
   "source": [
    "nombre_infected       953\n",
    "nombre_sain          2138\n",
    "nombre_exposed        517\n",
    "nombre_recovered    16392\n",
    "Name: 404, dtype: int64"
   ]
  },
  {
   "cell_type": "markdown",
   "id": "7f3fca19",
   "metadata": {},
   "source": [
    "nombre_infected       963\n",
    "nombre_sain          2134\n",
    "nombre_exposed        506\n",
    "nombre_recovered    16397\n",
    "Name: 405, dtype: int64"
   ]
  },
  {
   "cell_type": "markdown",
   "id": "6f879970",
   "metadata": {},
   "source": [
    "nombre_infected       964\n",
    "nombre_sain          2133\n",
    "nombre_exposed        491\n",
    "nombre_recovered    16412\n",
    "Name: 406, dtype: int64"
   ]
  },
  {
   "cell_type": "markdown",
   "id": "49e07045",
   "metadata": {},
   "source": [
    "nombre_infected       965\n",
    "nombre_sain          2171\n",
    "nombre_exposed        464\n",
    "nombre_recovered    16400\n",
    "Name: 407, dtype: int64"
   ]
  },
  {
   "cell_type": "markdown",
   "id": "2ccca789",
   "metadata": {},
   "source": [
    "nombre_infected       954\n",
    "nombre_sain          2166\n",
    "nombre_exposed        471\n",
    "nombre_recovered    16409\n",
    "Name: 408, dtype: int64"
   ]
  },
  {
   "cell_type": "markdown",
   "id": "751186b8",
   "metadata": {},
   "source": [
    "nombre_infected       936\n",
    "nombre_sain          2180\n",
    "nombre_exposed        487\n",
    "nombre_recovered    16397\n",
    "Name: 409, dtype: int64"
   ]
  },
  {
   "cell_type": "markdown",
   "id": "1d0896f8",
   "metadata": {},
   "source": [
    "nombre_infected       948\n",
    "nombre_sain          2174\n",
    "nombre_exposed        467\n",
    "nombre_recovered    16411\n",
    "Name: 410, dtype: int64"
   ]
  },
  {
   "cell_type": "markdown",
   "id": "86eef93f",
   "metadata": {},
   "source": [
    "nombre_infected       925\n",
    "nombre_sain          2179\n",
    "nombre_exposed        469\n",
    "nombre_recovered    16427\n",
    "Name: 411, dtype: int64"
   ]
  },
  {
   "cell_type": "markdown",
   "id": "b4554309",
   "metadata": {},
   "source": [
    "nombre_infected       913\n",
    "nombre_sain          2152\n",
    "nombre_exposed        481\n",
    "nombre_recovered    16454\n",
    "Name: 412, dtype: int64"
   ]
  },
  {
   "cell_type": "markdown",
   "id": "8e346f8a",
   "metadata": {},
   "source": [
    "nombre_infected       910\n",
    "nombre_sain          2155\n",
    "nombre_exposed        477\n",
    "nombre_recovered    16458\n",
    "Name: 413, dtype: int64"
   ]
  },
  {
   "cell_type": "markdown",
   "id": "6645cf53",
   "metadata": {},
   "source": [
    "nombre_infected       914\n",
    "nombre_sain          2172\n",
    "nombre_exposed        469\n",
    "nombre_recovered    16445\n",
    "Name: 414, dtype: int64"
   ]
  },
  {
   "cell_type": "markdown",
   "id": "34d07aec",
   "metadata": {},
   "source": [
    "nombre_infected       910\n",
    "nombre_sain          2206\n",
    "nombre_exposed        445\n",
    "nombre_recovered    16439\n",
    "Name: 415, dtype: int64"
   ]
  },
  {
   "cell_type": "markdown",
   "id": "00ae65c1",
   "metadata": {},
   "source": [
    "nombre_infected       944\n",
    "nombre_sain          2159\n",
    "nombre_exposed        466\n",
    "nombre_recovered    16431\n",
    "Name: 416, dtype: int64"
   ]
  },
  {
   "cell_type": "markdown",
   "id": "b90135b0",
   "metadata": {},
   "source": [
    "nombre_infected       903\n",
    "nombre_sain          2158\n",
    "nombre_exposed        490\n",
    "nombre_recovered    16449\n",
    "Name: 417, dtype: int64"
   ]
  },
  {
   "cell_type": "markdown",
   "id": "b01391a7",
   "metadata": {},
   "source": [
    "nombre_infected       920\n",
    "nombre_sain          2167\n",
    "nombre_exposed        458\n",
    "nombre_recovered    16455\n",
    "Name: 418, dtype: int64"
   ]
  },
  {
   "cell_type": "markdown",
   "id": "345b82c8",
   "metadata": {},
   "source": [
    "nombre_infected       914\n",
    "nombre_sain          2147\n",
    "nombre_exposed        455\n",
    "nombre_recovered    16484\n",
    "Name: 419, dtype: int64"
   ]
  },
  {
   "cell_type": "markdown",
   "id": "1e4903e5",
   "metadata": {},
   "source": [
    "nombre_infected       920\n",
    "nombre_sain          2154\n",
    "nombre_exposed        440\n",
    "nombre_recovered    16486\n",
    "Name: 420, dtype: int64"
   ]
  },
  {
   "cell_type": "markdown",
   "id": "36fc7940",
   "metadata": {},
   "source": [
    "nombre_infected       876\n",
    "nombre_sain          2166\n",
    "nombre_exposed        449\n",
    "nombre_recovered    16509\n",
    "Name: 421, dtype: int64"
   ]
  },
  {
   "cell_type": "markdown",
   "id": "d0e776f4",
   "metadata": {},
   "source": [
    "nombre_infected       869\n",
    "nombre_sain          2194\n",
    "nombre_exposed        424\n",
    "nombre_recovered    16513\n",
    "Name: 422, dtype: int64"
   ]
  },
  {
   "cell_type": "markdown",
   "id": "126d85ad",
   "metadata": {},
   "source": [
    "nombre_infected       846\n",
    "nombre_sain          2212\n",
    "nombre_exposed        431\n",
    "nombre_recovered    16511\n",
    "Name: 423, dtype: int64"
   ]
  },
  {
   "cell_type": "markdown",
   "id": "4f57d0c7",
   "metadata": {},
   "source": [
    "nombre_infected       844\n",
    "nombre_sain          2251\n",
    "nombre_exposed        427\n",
    "nombre_recovered    16478\n",
    "Name: 424, dtype: int64"
   ]
  },
  {
   "cell_type": "markdown",
   "id": "32d1425d",
   "metadata": {},
   "source": [
    "nombre_infected       842\n",
    "nombre_sain          2266\n",
    "nombre_exposed        435\n",
    "nombre_recovered    16457\n",
    "Name: 425, dtype: int64"
   ]
  },
  {
   "cell_type": "markdown",
   "id": "86858900",
   "metadata": {},
   "source": [
    "nombre_infected       843\n",
    "nombre_sain          2277\n",
    "nombre_exposed        449\n",
    "nombre_recovered    16431\n",
    "Name: 426, dtype: int64"
   ]
  },
  {
   "cell_type": "markdown",
   "id": "adbab753",
   "metadata": {},
   "source": [
    "nombre_infected       833\n",
    "nombre_sain          2259\n",
    "nombre_exposed        465\n",
    "nombre_recovered    16443\n",
    "Name: 427, dtype: int64"
   ]
  },
  {
   "cell_type": "markdown",
   "id": "cabdba6f",
   "metadata": {},
   "source": [
    "nombre_infected       853\n",
    "nombre_sain          2245\n",
    "nombre_exposed        461\n",
    "nombre_recovered    16441\n",
    "Name: 428, dtype: int64"
   ]
  },
  {
   "cell_type": "markdown",
   "id": "6086822c",
   "metadata": {},
   "source": [
    "nombre_infected       854\n",
    "nombre_sain          2256\n",
    "nombre_exposed        468\n",
    "nombre_recovered    16422\n",
    "Name: 429, dtype: int64"
   ]
  },
  {
   "cell_type": "markdown",
   "id": "33fc59b9",
   "metadata": {},
   "source": [
    "nombre_infected       874\n",
    "nombre_sain          2264\n",
    "nombre_exposed        466\n",
    "nombre_recovered    16396\n",
    "Name: 430, dtype: int64"
   ]
  },
  {
   "cell_type": "markdown",
   "id": "6948a3c3",
   "metadata": {},
   "source": [
    "nombre_infected       894\n",
    "nombre_sain          2265\n",
    "nombre_exposed        450\n",
    "nombre_recovered    16391\n",
    "Name: 431, dtype: int64"
   ]
  },
  {
   "cell_type": "markdown",
   "id": "a777b39b",
   "metadata": {},
   "source": [
    "nombre_infected       879\n",
    "nombre_sain          2246\n",
    "nombre_exposed        488\n",
    "nombre_recovered    16387\n",
    "Name: 432, dtype: int64"
   ]
  },
  {
   "cell_type": "markdown",
   "id": "9425b03e",
   "metadata": {},
   "source": [
    "nombre_infected       893\n",
    "nombre_sain          2253\n",
    "nombre_exposed        478\n",
    "nombre_recovered    16376\n",
    "Name: 433, dtype: int64"
   ]
  },
  {
   "cell_type": "markdown",
   "id": "bd2d9be3",
   "metadata": {},
   "source": [
    "nombre_infected       908\n",
    "nombre_sain          2259\n",
    "nombre_exposed        454\n",
    "nombre_recovered    16379\n",
    "Name: 434, dtype: int64"
   ]
  },
  {
   "cell_type": "markdown",
   "id": "7bccba64",
   "metadata": {},
   "source": [
    "nombre_infected       919\n",
    "nombre_sain          2255\n",
    "nombre_exposed        459\n",
    "nombre_recovered    16367\n",
    "Name: 435, dtype: int64"
   ]
  },
  {
   "cell_type": "markdown",
   "id": "dc6b5bf2",
   "metadata": {},
   "source": [
    "nombre_infected       928\n",
    "nombre_sain          2249\n",
    "nombre_exposed        462\n",
    "nombre_recovered    16361\n",
    "Name: 436, dtype: int64"
   ]
  },
  {
   "cell_type": "markdown",
   "id": "31b8d0de",
   "metadata": {},
   "source": [
    "nombre_infected       942\n",
    "nombre_sain          2222\n",
    "nombre_exposed        472\n",
    "nombre_recovered    16364\n",
    "Name: 437, dtype: int64"
   ]
  },
  {
   "cell_type": "markdown",
   "id": "3e23701a",
   "metadata": {},
   "source": [
    "nombre_infected       944\n",
    "nombre_sain          2216\n",
    "nombre_exposed        462\n",
    "nombre_recovered    16378\n",
    "Name: 438, dtype: int64"
   ]
  },
  {
   "cell_type": "markdown",
   "id": "b3fbb3d2",
   "metadata": {},
   "source": [
    "nombre_infected       939\n",
    "nombre_sain          2219\n",
    "nombre_exposed        469\n",
    "nombre_recovered    16373\n",
    "Name: 439, dtype: int64"
   ]
  },
  {
   "cell_type": "markdown",
   "id": "beb4c101",
   "metadata": {},
   "source": [
    "nombre_infected       915\n",
    "nombre_sain          2211\n",
    "nombre_exposed        505\n",
    "nombre_recovered    16369\n",
    "Name: 440, dtype: int64"
   ]
  },
  {
   "cell_type": "markdown",
   "id": "ce1aec72",
   "metadata": {},
   "source": [
    "nombre_infected       941\n",
    "nombre_sain          2185\n",
    "nombre_exposed        495\n",
    "nombre_recovered    16379\n",
    "Name: 441, dtype: int64"
   ]
  },
  {
   "cell_type": "markdown",
   "id": "d0a064ce",
   "metadata": {},
   "source": [
    "nombre_infected       936\n",
    "nombre_sain          2168\n",
    "nombre_exposed        508\n",
    "nombre_recovered    16388\n",
    "Name: 442, dtype: int64"
   ]
  },
  {
   "cell_type": "markdown",
   "id": "3f54111e",
   "metadata": {},
   "source": [
    "nombre_infected       930\n",
    "nombre_sain          2163\n",
    "nombre_exposed        518\n",
    "nombre_recovered    16389\n",
    "Name: 443, dtype: int64"
   ]
  },
  {
   "cell_type": "markdown",
   "id": "caeef6d3",
   "metadata": {},
   "source": [
    "nombre_infected       929\n",
    "nombre_sain          2154\n",
    "nombre_exposed        527\n",
    "nombre_recovered    16390\n",
    "Name: 444, dtype: int64"
   ]
  },
  {
   "cell_type": "markdown",
   "id": "fdcd3a3d",
   "metadata": {},
   "source": [
    "nombre_infected       930\n",
    "nombre_sain          2139\n",
    "nombre_exposed        510\n",
    "nombre_recovered    16421\n",
    "Name: 445, dtype: int64"
   ]
  },
  {
   "cell_type": "markdown",
   "id": "ea72e9bb",
   "metadata": {},
   "source": [
    "nombre_infected       954\n",
    "nombre_sain          2134\n",
    "nombre_exposed        506\n",
    "nombre_recovered    16406\n",
    "Name: 446, dtype: int64"
   ]
  },
  {
   "cell_type": "markdown",
   "id": "d07b3540",
   "metadata": {},
   "source": [
    "nombre_infected       963\n",
    "nombre_sain          2121\n",
    "nombre_exposed        515\n",
    "nombre_recovered    16401\n",
    "Name: 447, dtype: int64"
   ]
  },
  {
   "cell_type": "markdown",
   "id": "fc275ad8",
   "metadata": {},
   "source": [
    "nombre_infected       987\n",
    "nombre_sain          2097\n",
    "nombre_exposed        506\n",
    "nombre_recovered    16410\n",
    "Name: 448, dtype: int64"
   ]
  },
  {
   "cell_type": "markdown",
   "id": "eceb06ca",
   "metadata": {},
   "source": [
    "nombre_infected       978\n",
    "nombre_sain          2080\n",
    "nombre_exposed        527\n",
    "nombre_recovered    16415\n",
    "Name: 449, dtype: int64"
   ]
  },
  {
   "cell_type": "markdown",
   "id": "3111372d",
   "metadata": {},
   "source": [
    "nombre_infected       981\n",
    "nombre_sain          2064\n",
    "nombre_exposed        549\n",
    "nombre_recovered    16406\n",
    "Name: 450, dtype: int64"
   ]
  },
  {
   "cell_type": "markdown",
   "id": "c06c77d8",
   "metadata": {},
   "source": [
    "nombre_infected       985\n",
    "nombre_sain          2037\n",
    "nombre_exposed        559\n",
    "nombre_recovered    16419\n",
    "Name: 451, dtype: int64"
   ]
  },
  {
   "cell_type": "markdown",
   "id": "15f404f8",
   "metadata": {},
   "source": [
    "nombre_infected       997\n",
    "nombre_sain          2019\n",
    "nombre_exposed        565\n",
    "nombre_recovered    16419\n",
    "Name: 452, dtype: int64"
   ]
  },
  {
   "cell_type": "markdown",
   "id": "bcb5bab9",
   "metadata": {},
   "source": [
    "nombre_infected       984\n",
    "nombre_sain          2018\n",
    "nombre_exposed        542\n",
    "nombre_recovered    16456\n",
    "Name: 453, dtype: int64"
   ]
  },
  {
   "cell_type": "markdown",
   "id": "8c7a7e4c",
   "metadata": {},
   "source": [
    "nombre_infected       998\n",
    "nombre_sain          1993\n",
    "nombre_exposed        520\n",
    "nombre_recovered    16489\n",
    "Name: 454, dtype: int64"
   ]
  },
  {
   "cell_type": "markdown",
   "id": "b4a7f8af",
   "metadata": {},
   "source": [
    "nombre_infected      1026\n",
    "nombre_sain          2001\n",
    "nombre_exposed        491\n",
    "nombre_recovered    16482\n",
    "Name: 455, dtype: int64"
   ]
  },
  {
   "cell_type": "markdown",
   "id": "727e8b99",
   "metadata": {},
   "source": [
    "nombre_infected      1007\n",
    "nombre_sain          1988\n",
    "nombre_exposed        492\n",
    "nombre_recovered    16513\n",
    "Name: 456, dtype: int64"
   ]
  },
  {
   "cell_type": "markdown",
   "id": "587fcdba",
   "metadata": {},
   "source": [
    "nombre_infected       999\n",
    "nombre_sain          1980\n",
    "nombre_exposed        492\n",
    "nombre_recovered    16529\n",
    "Name: 457, dtype: int64"
   ]
  },
  {
   "cell_type": "markdown",
   "id": "71207978",
   "metadata": {},
   "source": [
    "nombre_infected       972\n",
    "nombre_sain          1984\n",
    "nombre_exposed        502\n",
    "nombre_recovered    16542\n",
    "Name: 458, dtype: int64"
   ]
  },
  {
   "cell_type": "markdown",
   "id": "cc0681ef",
   "metadata": {},
   "source": [
    "nombre_infected       949\n",
    "nombre_sain          2001\n",
    "nombre_exposed        482\n",
    "nombre_recovered    16568\n",
    "Name: 459, dtype: int64"
   ]
  },
  {
   "cell_type": "markdown",
   "id": "7f2acf26",
   "metadata": {},
   "source": [
    "nombre_infected       953\n",
    "nombre_sain          1986\n",
    "nombre_exposed        485\n",
    "nombre_recovered    16576\n",
    "Name: 460, dtype: int64"
   ]
  },
  {
   "cell_type": "markdown",
   "id": "7e68f796",
   "metadata": {},
   "source": [
    "nombre_infected       954\n",
    "nombre_sain          1978\n",
    "nombre_exposed        470\n",
    "nombre_recovered    16598\n",
    "Name: 461, dtype: int64"
   ]
  },
  {
   "cell_type": "markdown",
   "id": "b88ee542",
   "metadata": {},
   "source": [
    "nombre_infected       925\n",
    "nombre_sain          1973\n",
    "nombre_exposed        462\n",
    "nombre_recovered    16640\n",
    "Name: 462, dtype: int64"
   ]
  },
  {
   "cell_type": "markdown",
   "id": "8040080c",
   "metadata": {},
   "source": [
    "nombre_infected       938\n",
    "nombre_sain          1976\n",
    "nombre_exposed        433\n",
    "nombre_recovered    16653\n",
    "Name: 463, dtype: int64"
   ]
  },
  {
   "cell_type": "markdown",
   "id": "62a7badb",
   "metadata": {},
   "source": [
    "nombre_infected       930\n",
    "nombre_sain          1958\n",
    "nombre_exposed        447\n",
    "nombre_recovered    16665\n",
    "Name: 464, dtype: int64"
   ]
  },
  {
   "cell_type": "markdown",
   "id": "61ec12a3",
   "metadata": {},
   "source": [
    "nombre_infected       927\n",
    "nombre_sain          1964\n",
    "nombre_exposed        454\n",
    "nombre_recovered    16655\n",
    "Name: 465, dtype: int64"
   ]
  },
  {
   "cell_type": "markdown",
   "id": "d20b85b7",
   "metadata": {},
   "source": [
    "nombre_infected       917\n",
    "nombre_sain          1948\n",
    "nombre_exposed        456\n",
    "nombre_recovered    16679\n",
    "Name: 466, dtype: int64"
   ]
  },
  {
   "cell_type": "markdown",
   "id": "1e25f39a",
   "metadata": {},
   "source": [
    "nombre_infected       895\n",
    "nombre_sain          1941\n",
    "nombre_exposed        447\n",
    "nombre_recovered    16717\n",
    "Name: 467, dtype: int64"
   ]
  },
  {
   "cell_type": "markdown",
   "id": "342d1d09",
   "metadata": {},
   "source": [
    "nombre_infected       895\n",
    "nombre_sain          1971\n",
    "nombre_exposed        430\n",
    "nombre_recovered    16704\n",
    "Name: 468, dtype: int64"
   ]
  },
  {
   "cell_type": "markdown",
   "id": "fb0ceb30",
   "metadata": {},
   "source": [
    "nombre_infected       889\n",
    "nombre_sain          1982\n",
    "nombre_exposed        425\n",
    "nombre_recovered    16704\n",
    "Name: 469, dtype: int64"
   ]
  },
  {
   "cell_type": "markdown",
   "id": "4862cecc",
   "metadata": {},
   "source": [
    "nombre_infected       871\n",
    "nombre_sain          1995\n",
    "nombre_exposed        412\n",
    "nombre_recovered    16722\n",
    "Name: 470, dtype: int64"
   ]
  },
  {
   "cell_type": "markdown",
   "id": "23b11b47",
   "metadata": {},
   "source": [
    "nombre_infected       856\n",
    "nombre_sain          1998\n",
    "nombre_exposed        427\n",
    "nombre_recovered    16719\n",
    "Name: 471, dtype: int64"
   ]
  },
  {
   "cell_type": "markdown",
   "id": "688fd2b9",
   "metadata": {},
   "source": [
    "nombre_infected       853\n",
    "nombre_sain          1993\n",
    "nombre_exposed        433\n",
    "nombre_recovered    16721\n",
    "Name: 472, dtype: int64"
   ]
  },
  {
   "cell_type": "markdown",
   "id": "5d4e0f11",
   "metadata": {},
   "source": [
    "nombre_infected       841\n",
    "nombre_sain          2028\n",
    "nombre_exposed        423\n",
    "nombre_recovered    16708\n",
    "Name: 473, dtype: int64"
   ]
  },
  {
   "cell_type": "markdown",
   "id": "d3f613dd",
   "metadata": {},
   "source": [
    "nombre_infected       832\n",
    "nombre_sain          2065\n",
    "nombre_exposed        421\n",
    "nombre_recovered    16682\n",
    "Name: 474, dtype: int64"
   ]
  },
  {
   "cell_type": "markdown",
   "id": "b9b75d46",
   "metadata": {},
   "source": [
    "nombre_infected       820\n",
    "nombre_sain          2092\n",
    "nombre_exposed        432\n",
    "nombre_recovered    16656\n",
    "Name: 475, dtype: int64"
   ]
  },
  {
   "cell_type": "markdown",
   "id": "6498004c",
   "metadata": {},
   "source": [
    "nombre_infected       830\n",
    "nombre_sain          2104\n",
    "nombre_exposed        424\n",
    "nombre_recovered    16642\n",
    "Name: 476, dtype: int64"
   ]
  },
  {
   "cell_type": "markdown",
   "id": "9ff97689",
   "metadata": {},
   "source": [
    "nombre_infected       825\n",
    "nombre_sain          2137\n",
    "nombre_exposed        424\n",
    "nombre_recovered    16614\n",
    "Name: 477, dtype: int64"
   ]
  },
  {
   "cell_type": "markdown",
   "id": "5a0128de",
   "metadata": {},
   "source": [
    "nombre_infected       841\n",
    "nombre_sain          2160\n",
    "nombre_exposed        421\n",
    "nombre_recovered    16578\n",
    "Name: 478, dtype: int64"
   ]
  },
  {
   "cell_type": "markdown",
   "id": "6d2cc7f8",
   "metadata": {},
   "source": [
    "nombre_infected       851\n",
    "nombre_sain          2172\n",
    "nombre_exposed        424\n",
    "nombre_recovered    16553\n",
    "Name: 479, dtype: int64"
   ]
  },
  {
   "cell_type": "markdown",
   "id": "0e43ecf0",
   "metadata": {},
   "source": [
    "nombre_infected       843\n",
    "nombre_sain          2170\n",
    "nombre_exposed        450\n",
    "nombre_recovered    16537\n",
    "Name: 480, dtype: int64"
   ]
  },
  {
   "cell_type": "markdown",
   "id": "57528f2d",
   "metadata": {},
   "source": [
    "nombre_infected       850\n",
    "nombre_sain          2174\n",
    "nombre_exposed        442\n",
    "nombre_recovered    16534\n",
    "Name: 481, dtype: int64"
   ]
  },
  {
   "cell_type": "markdown",
   "id": "87d9058a",
   "metadata": {},
   "source": [
    "nombre_infected       870\n",
    "nombre_sain          2168\n",
    "nombre_exposed        446\n",
    "nombre_recovered    16516\n",
    "Name: 482, dtype: int64"
   ]
  },
  {
   "cell_type": "markdown",
   "id": "2559ffb8",
   "metadata": {},
   "source": [
    "nombre_infected       863\n",
    "nombre_sain          2194\n",
    "nombre_exposed        450\n",
    "nombre_recovered    16493\n",
    "Name: 483, dtype: int64"
   ]
  },
  {
   "cell_type": "markdown",
   "id": "54f7c733",
   "metadata": {},
   "source": [
    "nombre_infected       843\n",
    "nombre_sain          2233\n",
    "nombre_exposed        459\n",
    "nombre_recovered    16465\n",
    "Name: 484, dtype: int64"
   ]
  },
  {
   "cell_type": "markdown",
   "id": "6605809d",
   "metadata": {},
   "source": [
    "nombre_infected       850\n",
    "nombre_sain          2221\n",
    "nombre_exposed        457\n",
    "nombre_recovered    16472\n",
    "Name: 485, dtype: int64"
   ]
  },
  {
   "cell_type": "markdown",
   "id": "ad3c7b30",
   "metadata": {},
   "source": [
    "nombre_infected       832\n",
    "nombre_sain          2216\n",
    "nombre_exposed        463\n",
    "nombre_recovered    16489\n",
    "Name: 486, dtype: int64"
   ]
  },
  {
   "cell_type": "markdown",
   "id": "5c449d08",
   "metadata": {},
   "source": [
    "nombre_infected       832\n",
    "nombre_sain          2246\n",
    "nombre_exposed        464\n",
    "nombre_recovered    16458\n",
    "Name: 487, dtype: int64"
   ]
  },
  {
   "cell_type": "markdown",
   "id": "678947c6",
   "metadata": {},
   "source": [
    "nombre_infected       835\n",
    "nombre_sain          2277\n",
    "nombre_exposed        473\n",
    "nombre_recovered    16415\n",
    "Name: 488, dtype: int64"
   ]
  },
  {
   "cell_type": "markdown",
   "id": "2e61e04c",
   "metadata": {},
   "source": [
    "nombre_infected       845\n",
    "nombre_sain          2262\n",
    "nombre_exposed        467\n",
    "nombre_recovered    16426\n",
    "Name: 489, dtype: int64"
   ]
  },
  {
   "cell_type": "markdown",
   "id": "5762563b",
   "metadata": {},
   "source": [
    "nombre_infected       877\n",
    "nombre_sain          2272\n",
    "nombre_exposed        454\n",
    "nombre_recovered    16397\n",
    "Name: 490, dtype: int64"
   ]
  },
  {
   "cell_type": "markdown",
   "id": "ac5a5b02",
   "metadata": {},
   "source": [
    "nombre_infected       883\n",
    "nombre_sain          2276\n",
    "nombre_exposed        463\n",
    "nombre_recovered    16378\n",
    "Name: 491, dtype: int64"
   ]
  },
  {
   "cell_type": "markdown",
   "id": "f6817d2b",
   "metadata": {},
   "source": [
    "nombre_infected       876\n",
    "nombre_sain          2274\n",
    "nombre_exposed        476\n",
    "nombre_recovered    16374\n",
    "Name: 492, dtype: int64"
   ]
  },
  {
   "cell_type": "markdown",
   "id": "ec66b161",
   "metadata": {},
   "source": [
    "nombre_infected       897\n",
    "nombre_sain          2290\n",
    "nombre_exposed        470\n",
    "nombre_recovered    16343\n",
    "Name: 493, dtype: int64"
   ]
  },
  {
   "cell_type": "markdown",
   "id": "61478833",
   "metadata": {},
   "source": [
    "nombre_infected       897\n",
    "nombre_sain          2297\n",
    "nombre_exposed        462\n",
    "nombre_recovered    16344\n",
    "Name: 494, dtype: int64"
   ]
  },
  {
   "cell_type": "markdown",
   "id": "ac7f118e",
   "metadata": {},
   "source": [
    "nombre_infected       912\n",
    "nombre_sain          2280\n",
    "nombre_exposed        488\n",
    "nombre_recovered    16320\n",
    "Name: 495, dtype: int64"
   ]
  },
  {
   "cell_type": "markdown",
   "id": "00b32613",
   "metadata": {},
   "source": [
    "nombre_infected       905\n",
    "nombre_sain          2287\n",
    "nombre_exposed        483\n",
    "nombre_recovered    16325\n",
    "Name: 496, dtype: int64"
   ]
  },
  {
   "cell_type": "markdown",
   "id": "2788d447",
   "metadata": {},
   "source": [
    "nombre_infected       914\n",
    "nombre_sain          2272\n",
    "nombre_exposed        479\n",
    "nombre_recovered    16335\n",
    "Name: 497, dtype: int64"
   ]
  },
  {
   "cell_type": "markdown",
   "id": "1db92b14",
   "metadata": {},
   "source": [
    "nombre_infected       916\n",
    "nombre_sain          2265\n",
    "nombre_exposed        497\n",
    "nombre_recovered    16322\n",
    "Name: 498, dtype: int64"
   ]
  },
  {
   "cell_type": "markdown",
   "id": "f9e7a010",
   "metadata": {},
   "source": [
    "nombre_infected       939\n",
    "nombre_sain          2258\n",
    "nombre_exposed        485\n",
    "nombre_recovered    16318\n",
    "Name: 499, dtype: int64"
   ]
  },
  {
   "cell_type": "markdown",
   "id": "9ccb8d63",
   "metadata": {},
   "source": [
    "nombre_infected       960\n",
    "nombre_sain          2255\n",
    "nombre_exposed        455\n",
    "nombre_recovered    16330\n",
    "Name: 500, dtype: int64"
   ]
  },
  {
   "cell_type": "markdown",
   "id": "3feeef6d",
   "metadata": {},
   "source": [
    "nombre_infected       952\n",
    "nombre_sain          2225\n",
    "nombre_exposed        470\n",
    "nombre_recovered    16353\n",
    "Name: 501, dtype: int64"
   ]
  },
  {
   "cell_type": "markdown",
   "id": "8e5c7ea8",
   "metadata": {},
   "source": [
    "nombre_infected       926\n",
    "nombre_sain          2212\n",
    "nombre_exposed        492\n",
    "nombre_recovered    16370\n",
    "Name: 502, dtype: int64"
   ]
  },
  {
   "cell_type": "markdown",
   "id": "f1d555a5",
   "metadata": {},
   "source": [
    "nombre_infected       940\n",
    "nombre_sain          2213\n",
    "nombre_exposed        492\n",
    "nombre_recovered    16355\n",
    "Name: 503, dtype: int64"
   ]
  },
  {
   "cell_type": "markdown",
   "id": "ab9ef3ad",
   "metadata": {},
   "source": [
    "nombre_infected       963\n",
    "nombre_sain          2223\n",
    "nombre_exposed        460\n",
    "nombre_recovered    16354\n",
    "Name: 504, dtype: int64"
   ]
  },
  {
   "cell_type": "markdown",
   "id": "6c74c328",
   "metadata": {},
   "source": [
    "nombre_infected       984\n",
    "nombre_sain          2207\n",
    "nombre_exposed        451\n",
    "nombre_recovered    16358\n",
    "Name: 505, dtype: int64"
   ]
  },
  {
   "cell_type": "markdown",
   "id": "8da29dc9",
   "metadata": {},
   "source": [
    "nombre_infected       976\n",
    "nombre_sain          2191\n",
    "nombre_exposed        483\n",
    "nombre_recovered    16350\n",
    "Name: 506, dtype: int64"
   ]
  },
  {
   "cell_type": "markdown",
   "id": "8f5a997c",
   "metadata": {},
   "source": [
    "nombre_infected       948\n",
    "nombre_sain          2188\n",
    "nombre_exposed        499\n",
    "nombre_recovered    16365\n",
    "Name: 507, dtype: int64"
   ]
  },
  {
   "cell_type": "markdown",
   "id": "6a82705e",
   "metadata": {},
   "source": [
    "nombre_infected       981\n",
    "nombre_sain          2177\n",
    "nombre_exposed        481\n",
    "nombre_recovered    16361\n",
    "Name: 508, dtype: int64"
   ]
  },
  {
   "cell_type": "markdown",
   "id": "e10f6e70",
   "metadata": {},
   "source": [
    "nombre_infected       965\n",
    "nombre_sain          2150\n",
    "nombre_exposed        504\n",
    "nombre_recovered    16381\n",
    "Name: 509, dtype: int64"
   ]
  },
  {
   "cell_type": "markdown",
   "id": "e5599bf4",
   "metadata": {},
   "source": [
    "nombre_infected       958\n",
    "nombre_sain          2131\n",
    "nombre_exposed        515\n",
    "nombre_recovered    16396\n",
    "Name: 510, dtype: int64"
   ]
  },
  {
   "cell_type": "markdown",
   "id": "77cd26bf",
   "metadata": {},
   "source": [
    "nombre_infected       992\n",
    "nombre_sain          2104\n",
    "nombre_exposed        489\n",
    "nombre_recovered    16415\n",
    "Name: 511, dtype: int64"
   ]
  },
  {
   "cell_type": "markdown",
   "id": "20eb08c9",
   "metadata": {},
   "source": [
    "nombre_infected       975\n",
    "nombre_sain          2087\n",
    "nombre_exposed        486\n",
    "nombre_recovered    16452\n",
    "Name: 512, dtype: int64"
   ]
  },
  {
   "cell_type": "markdown",
   "id": "79e0c3a8",
   "metadata": {},
   "source": [
    "nombre_infected       952\n",
    "nombre_sain          2050\n",
    "nombre_exposed        501\n",
    "nombre_recovered    16497\n",
    "Name: 513, dtype: int64"
   ]
  },
  {
   "cell_type": "markdown",
   "id": "a6b1b096",
   "metadata": {},
   "source": [
    "nombre_infected       972\n",
    "nombre_sain          2039\n",
    "nombre_exposed        487\n",
    "nombre_recovered    16502\n",
    "Name: 514, dtype: int64"
   ]
  },
  {
   "cell_type": "markdown",
   "id": "a6d89cda",
   "metadata": {},
   "source": [
    "nombre_infected       980\n",
    "nombre_sain          2034\n",
    "nombre_exposed        471\n",
    "nombre_recovered    16515\n",
    "Name: 515, dtype: int64"
   ]
  },
  {
   "cell_type": "markdown",
   "id": "cd75a18c",
   "metadata": {},
   "source": [
    "nombre_infected      1002\n",
    "nombre_sain          2010\n",
    "nombre_exposed        447\n",
    "nombre_recovered    16541\n",
    "Name: 516, dtype: int64"
   ]
  },
  {
   "cell_type": "markdown",
   "id": "121769ee",
   "metadata": {},
   "source": [
    "nombre_infected       990\n",
    "nombre_sain          1981\n",
    "nombre_exposed        455\n",
    "nombre_recovered    16574\n",
    "Name: 517, dtype: int64"
   ]
  },
  {
   "cell_type": "markdown",
   "id": "945a6356",
   "metadata": {},
   "source": [
    "nombre_infected       978\n",
    "nombre_sain          1968\n",
    "nombre_exposed        474\n",
    "nombre_recovered    16580\n",
    "Name: 518, dtype: int64"
   ]
  },
  {
   "cell_type": "markdown",
   "id": "a09ab0d9",
   "metadata": {},
   "source": [
    "nombre_infected       989\n",
    "nombre_sain          1943\n",
    "nombre_exposed        469\n",
    "nombre_recovered    16599\n",
    "Name: 519, dtype: int64"
   ]
  },
  {
   "cell_type": "markdown",
   "id": "7dd00fc4",
   "metadata": {},
   "source": [
    "nombre_infected       980\n",
    "nombre_sain          1943\n",
    "nombre_exposed        448\n",
    "nombre_recovered    16629\n",
    "Name: 520, dtype: int64"
   ]
  },
  {
   "cell_type": "markdown",
   "id": "5f134049",
   "metadata": {},
   "source": [
    "nombre_infected       976\n",
    "nombre_sain          1912\n",
    "nombre_exposed        455\n",
    "nombre_recovered    16657\n",
    "Name: 521, dtype: int64"
   ]
  },
  {
   "cell_type": "markdown",
   "id": "a53d439e",
   "metadata": {},
   "source": [
    "nombre_infected       944\n",
    "nombre_sain          1950\n",
    "nombre_exposed        419\n",
    "nombre_recovered    16687\n",
    "Name: 522, dtype: int64"
   ]
  },
  {
   "cell_type": "markdown",
   "id": "d9de1974",
   "metadata": {},
   "source": [
    "nombre_infected       956\n",
    "nombre_sain          1940\n",
    "nombre_exposed        406\n",
    "nombre_recovered    16698\n",
    "Name: 523, dtype: int64"
   ]
  },
  {
   "cell_type": "markdown",
   "id": "83a52eb1",
   "metadata": {},
   "source": [
    "nombre_infected       931\n",
    "nombre_sain          1946\n",
    "nombre_exposed        406\n",
    "nombre_recovered    16717\n",
    "Name: 524, dtype: int64"
   ]
  },
  {
   "cell_type": "markdown",
   "id": "589bff93",
   "metadata": {},
   "source": [
    "nombre_infected       897\n",
    "nombre_sain          1945\n",
    "nombre_exposed        383\n",
    "nombre_recovered    16775\n",
    "Name: 525, dtype: int64"
   ]
  },
  {
   "cell_type": "markdown",
   "id": "c3ff49c3",
   "metadata": {},
   "source": [
    "nombre_infected       875\n",
    "nombre_sain          1960\n",
    "nombre_exposed        389\n",
    "nombre_recovered    16776\n",
    "Name: 526, dtype: int64"
   ]
  },
  {
   "cell_type": "markdown",
   "id": "cc7e8c37",
   "metadata": {},
   "source": [
    "nombre_infected       852\n",
    "nombre_sain          1969\n",
    "nombre_exposed        389\n",
    "nombre_recovered    16790\n",
    "Name: 527, dtype: int64"
   ]
  },
  {
   "cell_type": "markdown",
   "id": "88fedcb3",
   "metadata": {},
   "source": [
    "nombre_infected       833\n",
    "nombre_sain          2008\n",
    "nombre_exposed        373\n",
    "nombre_recovered    16786\n",
    "Name: 528, dtype: int64"
   ]
  },
  {
   "cell_type": "markdown",
   "id": "e69bd3fd",
   "metadata": {},
   "source": [
    "nombre_infected       829\n",
    "nombre_sain          2006\n",
    "nombre_exposed        377\n",
    "nombre_recovered    16788\n",
    "Name: 529, dtype: int64"
   ]
  },
  {
   "cell_type": "markdown",
   "id": "810ddfdf",
   "metadata": {},
   "source": [
    "nombre_infected       816\n",
    "nombre_sain          1997\n",
    "nombre_exposed        390\n",
    "nombre_recovered    16797\n",
    "Name: 530, dtype: int64"
   ]
  },
  {
   "cell_type": "markdown",
   "id": "3f9587c5",
   "metadata": {},
   "source": [
    "nombre_infected       814\n",
    "nombre_sain          2017\n",
    "nombre_exposed        382\n",
    "nombre_recovered    16787\n",
    "Name: 531, dtype: int64"
   ]
  },
  {
   "cell_type": "markdown",
   "id": "b05769b1",
   "metadata": {},
   "source": [
    "nombre_infected       808\n",
    "nombre_sain          2025\n",
    "nombre_exposed        372\n",
    "nombre_recovered    16795\n",
    "Name: 532, dtype: int64"
   ]
  },
  {
   "cell_type": "markdown",
   "id": "31b6d980",
   "metadata": {},
   "source": [
    "nombre_infected       792\n",
    "nombre_sain          2057\n",
    "nombre_exposed        373\n",
    "nombre_recovered    16778\n",
    "Name: 533, dtype: int64"
   ]
  },
  {
   "cell_type": "markdown",
   "id": "6ce8021b",
   "metadata": {},
   "source": [
    "nombre_infected       783\n",
    "nombre_sain          2067\n",
    "nombre_exposed        367\n",
    "nombre_recovered    16783\n",
    "Name: 534, dtype: int64"
   ]
  },
  {
   "cell_type": "markdown",
   "id": "45970fca",
   "metadata": {},
   "source": [
    "nombre_infected       747\n",
    "nombre_sain          2063\n",
    "nombre_exposed        383\n",
    "nombre_recovered    16807\n",
    "Name: 535, dtype: int64"
   ]
  },
  {
   "cell_type": "markdown",
   "id": "45c270d6",
   "metadata": {},
   "source": [
    "nombre_infected       760\n",
    "nombre_sain          2082\n",
    "nombre_exposed        370\n",
    "nombre_recovered    16788\n",
    "Name: 536, dtype: int64"
   ]
  },
  {
   "cell_type": "markdown",
   "id": "708806db",
   "metadata": {},
   "source": [
    "nombre_infected       754\n",
    "nombre_sain          2083\n",
    "nombre_exposed        378\n",
    "nombre_recovered    16785\n",
    "Name: 537, dtype: int64"
   ]
  },
  {
   "cell_type": "markdown",
   "id": "b975811f",
   "metadata": {},
   "source": [
    "nombre_infected       738\n",
    "nombre_sain          2095\n",
    "nombre_exposed        399\n",
    "nombre_recovered    16768\n",
    "Name: 538, dtype: int64"
   ]
  },
  {
   "cell_type": "markdown",
   "id": "72b1e187",
   "metadata": {},
   "source": [
    "nombre_infected       740\n",
    "nombre_sain          2112\n",
    "nombre_exposed        395\n",
    "nombre_recovered    16753\n",
    "Name: 539, dtype: int64"
   ]
  },
  {
   "cell_type": "markdown",
   "id": "12404c68",
   "metadata": {},
   "source": [
    "nombre_infected       764\n",
    "nombre_sain          2126\n",
    "nombre_exposed        378\n",
    "nombre_recovered    16732\n",
    "Name: 540, dtype: int64"
   ]
  },
  {
   "cell_type": "markdown",
   "id": "86df3413",
   "metadata": {},
   "source": [
    "nombre_infected       756\n",
    "nombre_sain          2130\n",
    "nombre_exposed        373\n",
    "nombre_recovered    16741\n",
    "Name: 541, dtype: int64"
   ]
  },
  {
   "cell_type": "markdown",
   "id": "5f798d42",
   "metadata": {},
   "source": [
    "nombre_infected       744\n",
    "nombre_sain          2130\n",
    "nombre_exposed        390\n",
    "nombre_recovered    16736\n",
    "Name: 542, dtype: int64"
   ]
  },
  {
   "cell_type": "markdown",
   "id": "24db53f9",
   "metadata": {},
   "source": [
    "nombre_infected       732\n",
    "nombre_sain          2161\n",
    "nombre_exposed        386\n",
    "nombre_recovered    16721\n",
    "Name: 543, dtype: int64"
   ]
  },
  {
   "cell_type": "markdown",
   "id": "6d60ac30",
   "metadata": {},
   "source": [
    "nombre_infected       745\n",
    "nombre_sain          2156\n",
    "nombre_exposed        370\n",
    "nombre_recovered    16729\n",
    "Name: 544, dtype: int64"
   ]
  },
  {
   "cell_type": "markdown",
   "id": "a3ccdd49",
   "metadata": {},
   "source": [
    "nombre_infected       753\n",
    "nombre_sain          2158\n",
    "nombre_exposed        362\n",
    "nombre_recovered    16727\n",
    "Name: 545, dtype: int64"
   ]
  },
  {
   "cell_type": "markdown",
   "id": "187dde05",
   "metadata": {},
   "source": [
    "nombre_infected       746\n",
    "nombre_sain          2147\n",
    "nombre_exposed        383\n",
    "nombre_recovered    16724\n",
    "Name: 546, dtype: int64"
   ]
  },
  {
   "cell_type": "markdown",
   "id": "06b07c50",
   "metadata": {},
   "source": [
    "nombre_infected       762\n",
    "nombre_sain          2146\n",
    "nombre_exposed        378\n",
    "nombre_recovered    16714\n",
    "Name: 547, dtype: int64"
   ]
  },
  {
   "cell_type": "markdown",
   "id": "70512702",
   "metadata": {},
   "source": [
    "nombre_infected       752\n",
    "nombre_sain          2157\n",
    "nombre_exposed        396\n",
    "nombre_recovered    16695\n",
    "Name: 548, dtype: int64"
   ]
  },
  {
   "cell_type": "markdown",
   "id": "3e7dc465",
   "metadata": {},
   "source": [
    "nombre_infected       748\n",
    "nombre_sain          2135\n",
    "nombre_exposed        400\n",
    "nombre_recovered    16717\n",
    "Name: 549, dtype: int64"
   ]
  },
  {
   "cell_type": "markdown",
   "id": "600617b7",
   "metadata": {},
   "source": [
    "nombre_infected       744\n",
    "nombre_sain          2154\n",
    "nombre_exposed        406\n",
    "nombre_recovered    16696\n",
    "Name: 550, dtype: int64"
   ]
  },
  {
   "cell_type": "markdown",
   "id": "80f9ed59",
   "metadata": {},
   "source": [
    "nombre_infected       760\n",
    "nombre_sain          2150\n",
    "nombre_exposed        404\n",
    "nombre_recovered    16686\n",
    "Name: 551, dtype: int64"
   ]
  },
  {
   "cell_type": "markdown",
   "id": "a9b94f42",
   "metadata": {},
   "source": [
    "nombre_infected       771\n",
    "nombre_sain          2174\n",
    "nombre_exposed        384\n",
    "nombre_recovered    16671\n",
    "Name: 552, dtype: int64"
   ]
  },
  {
   "cell_type": "markdown",
   "id": "552eaf17",
   "metadata": {},
   "source": [
    "nombre_infected       786\n",
    "nombre_sain          2169\n",
    "nombre_exposed        395\n",
    "nombre_recovered    16650\n",
    "Name: 553, dtype: int64"
   ]
  },
  {
   "cell_type": "markdown",
   "id": "7d3ca55e",
   "metadata": {},
   "source": [
    "nombre_infected       788\n",
    "nombre_sain          2181\n",
    "nombre_exposed        391\n",
    "nombre_recovered    16640\n",
    "Name: 554, dtype: int64"
   ]
  },
  {
   "cell_type": "markdown",
   "id": "28c0342f",
   "metadata": {},
   "source": [
    "nombre_infected       795\n",
    "nombre_sain          2167\n",
    "nombre_exposed        389\n",
    "nombre_recovered    16649\n",
    "Name: 555, dtype: int64"
   ]
  },
  {
   "cell_type": "markdown",
   "id": "23cf6f57",
   "metadata": {},
   "source": [
    "nombre_infected       790\n",
    "nombre_sain          2135\n",
    "nombre_exposed        410\n",
    "nombre_recovered    16665\n",
    "Name: 556, dtype: int64"
   ]
  },
  {
   "cell_type": "markdown",
   "id": "7d0713b0",
   "metadata": {},
   "source": [
    "nombre_infected       789\n",
    "nombre_sain          2136\n",
    "nombre_exposed        402\n",
    "nombre_recovered    16673\n",
    "Name: 557, dtype: int64"
   ]
  },
  {
   "cell_type": "markdown",
   "id": "122bc49e",
   "metadata": {},
   "source": [
    "nombre_infected       776\n",
    "nombre_sain          2129\n",
    "nombre_exposed        412\n",
    "nombre_recovered    16683\n",
    "Name: 558, dtype: int64"
   ]
  },
  {
   "cell_type": "markdown",
   "id": "aded2ff1",
   "metadata": {},
   "source": [
    "nombre_infected       769\n",
    "nombre_sain          2122\n",
    "nombre_exposed        424\n",
    "nombre_recovered    16685\n",
    "Name: 559, dtype: int64"
   ]
  },
  {
   "cell_type": "markdown",
   "id": "3c749afb",
   "metadata": {},
   "source": [
    "nombre_infected       781\n",
    "nombre_sain          2106\n",
    "nombre_exposed        402\n",
    "nombre_recovered    16711\n",
    "Name: 560, dtype: int64"
   ]
  },
  {
   "cell_type": "markdown",
   "id": "570c0c59",
   "metadata": {},
   "source": [
    "nombre_infected       793\n",
    "nombre_sain          2119\n",
    "nombre_exposed        390\n",
    "nombre_recovered    16698\n",
    "Name: 561, dtype: int64"
   ]
  },
  {
   "cell_type": "markdown",
   "id": "6ed140a9",
   "metadata": {},
   "source": [
    "nombre_infected       807\n",
    "nombre_sain          2133\n",
    "nombre_exposed        395\n",
    "nombre_recovered    16665\n",
    "Name: 562, dtype: int64"
   ]
  },
  {
   "cell_type": "markdown",
   "id": "7003897e",
   "metadata": {},
   "source": [
    "nombre_infected       788\n",
    "nombre_sain          2130\n",
    "nombre_exposed        401\n",
    "nombre_recovered    16681\n",
    "Name: 563, dtype: int64"
   ]
  },
  {
   "cell_type": "markdown",
   "id": "4d769389",
   "metadata": {},
   "source": [
    "nombre_infected       773\n",
    "nombre_sain          2139\n",
    "nombre_exposed        401\n",
    "nombre_recovered    16687\n",
    "Name: 564, dtype: int64"
   ]
  },
  {
   "cell_type": "markdown",
   "id": "57070e36",
   "metadata": {},
   "source": [
    "nombre_infected       777\n",
    "nombre_sain          2148\n",
    "nombre_exposed        403\n",
    "nombre_recovered    16672\n",
    "Name: 565, dtype: int64"
   ]
  },
  {
   "cell_type": "markdown",
   "id": "b5f0fe1f",
   "metadata": {},
   "source": [
    "nombre_infected       771\n",
    "nombre_sain          2155\n",
    "nombre_exposed        417\n",
    "nombre_recovered    16657\n",
    "Name: 566, dtype: int64"
   ]
  },
  {
   "cell_type": "markdown",
   "id": "7a121d8f",
   "metadata": {},
   "source": [
    "nombre_infected       777\n",
    "nombre_sain          2175\n",
    "nombre_exposed        417\n",
    "nombre_recovered    16631\n",
    "Name: 567, dtype: int64"
   ]
  },
  {
   "cell_type": "markdown",
   "id": "a317d170",
   "metadata": {},
   "source": [
    "nombre_infected       783\n",
    "nombre_sain          2181\n",
    "nombre_exposed        410\n",
    "nombre_recovered    16626\n",
    "Name: 568, dtype: int64"
   ]
  },
  {
   "cell_type": "markdown",
   "id": "a59793e5",
   "metadata": {},
   "source": [
    "nombre_infected       801\n",
    "nombre_sain          2209\n",
    "nombre_exposed        387\n",
    "nombre_recovered    16603\n",
    "Name: 569, dtype: int64"
   ]
  },
  {
   "cell_type": "markdown",
   "id": "db882c1f",
   "metadata": {},
   "source": [
    "nombre_infected       787\n",
    "nombre_sain          2209\n",
    "nombre_exposed        413\n",
    "nombre_recovered    16591\n",
    "Name: 570, dtype: int64"
   ]
  },
  {
   "cell_type": "markdown",
   "id": "6c7c0145",
   "metadata": {},
   "source": [
    "nombre_infected       815\n",
    "nombre_sain          2186\n",
    "nombre_exposed        427\n",
    "nombre_recovered    16572\n",
    "Name: 571, dtype: int64"
   ]
  },
  {
   "cell_type": "markdown",
   "id": "47634d92",
   "metadata": {},
   "source": [
    "nombre_infected       801\n",
    "nombre_sain          2182\n",
    "nombre_exposed        459\n",
    "nombre_recovered    16558\n",
    "Name: 572, dtype: int64"
   ]
  },
  {
   "cell_type": "markdown",
   "id": "4ea05765",
   "metadata": {},
   "source": [
    "nombre_infected       803\n",
    "nombre_sain          2195\n",
    "nombre_exposed        471\n",
    "nombre_recovered    16531\n",
    "Name: 573, dtype: int64"
   ]
  },
  {
   "cell_type": "markdown",
   "id": "d4b8e6e3",
   "metadata": {},
   "source": [
    "nombre_infected       804\n",
    "nombre_sain          2217\n",
    "nombre_exposed        454\n",
    "nombre_recovered    16525\n",
    "Name: 574, dtype: int64"
   ]
  },
  {
   "cell_type": "markdown",
   "id": "e7cff300",
   "metadata": {},
   "source": [
    "nombre_infected       833\n",
    "nombre_sain          2203\n",
    "nombre_exposed        433\n",
    "nombre_recovered    16531\n",
    "Name: 575, dtype: int64"
   ]
  },
  {
   "cell_type": "markdown",
   "id": "fdbdb09f",
   "metadata": {},
   "source": [
    "nombre_infected       821\n",
    "nombre_sain          2193\n",
    "nombre_exposed        448\n",
    "nombre_recovered    16538\n",
    "Name: 576, dtype: int64"
   ]
  },
  {
   "cell_type": "markdown",
   "id": "fdd68d37",
   "metadata": {},
   "source": [
    "nombre_infected       832\n",
    "nombre_sain          2210\n",
    "nombre_exposed        444\n",
    "nombre_recovered    16514\n",
    "Name: 577, dtype: int64"
   ]
  },
  {
   "cell_type": "markdown",
   "id": "34a23d48",
   "metadata": {},
   "source": [
    "nombre_infected       838\n",
    "nombre_sain          2214\n",
    "nombre_exposed        441\n",
    "nombre_recovered    16507\n",
    "Name: 578, dtype: int64"
   ]
  },
  {
   "cell_type": "markdown",
   "id": "8c120389",
   "metadata": {},
   "source": [
    "nombre_infected       849\n",
    "nombre_sain          2189\n",
    "nombre_exposed        454\n",
    "nombre_recovered    16508\n",
    "Name: 579, dtype: int64"
   ]
  },
  {
   "cell_type": "markdown",
   "id": "f17b1d41",
   "metadata": {},
   "source": [
    "nombre_infected       866\n",
    "nombre_sain          2191\n",
    "nombre_exposed        437\n",
    "nombre_recovered    16506\n",
    "Name: 580, dtype: int64"
   ]
  },
  {
   "cell_type": "markdown",
   "id": "067bfb3c",
   "metadata": {},
   "source": [
    "nombre_infected       844\n",
    "nombre_sain          2209\n",
    "nombre_exposed        449\n",
    "nombre_recovered    16498\n",
    "Name: 581, dtype: int64"
   ]
  },
  {
   "cell_type": "markdown",
   "id": "24e4826c",
   "metadata": {},
   "source": [
    "nombre_infected       870\n",
    "nombre_sain          2228\n",
    "nombre_exposed        429\n",
    "nombre_recovered    16473\n",
    "Name: 582, dtype: int64"
   ]
  },
  {
   "cell_type": "markdown",
   "id": "5196745a",
   "metadata": {},
   "source": [
    "nombre_infected       851\n",
    "nombre_sain          2219\n",
    "nombre_exposed        437\n",
    "nombre_recovered    16493\n",
    "Name: 583, dtype: int64"
   ]
  },
  {
   "cell_type": "markdown",
   "id": "34331a00",
   "metadata": {},
   "source": [
    "nombre_infected       853\n",
    "nombre_sain          2209\n",
    "nombre_exposed        452\n",
    "nombre_recovered    16486\n",
    "Name: 584, dtype: int64"
   ]
  },
  {
   "cell_type": "markdown",
   "id": "f77a66a1",
   "metadata": {},
   "source": [
    "nombre_infected       834\n",
    "nombre_sain          2218\n",
    "nombre_exposed        454\n",
    "nombre_recovered    16494\n",
    "Name: 585, dtype: int64"
   ]
  },
  {
   "cell_type": "markdown",
   "id": "219971b5",
   "metadata": {},
   "source": [
    "nombre_infected       831\n",
    "nombre_sain          2199\n",
    "nombre_exposed        478\n",
    "nombre_recovered    16492\n",
    "Name: 586, dtype: int64"
   ]
  },
  {
   "cell_type": "markdown",
   "id": "ebcbae43",
   "metadata": {},
   "source": [
    "nombre_infected       845\n",
    "nombre_sain          2215\n",
    "nombre_exposed        467\n",
    "nombre_recovered    16473\n",
    "Name: 587, dtype: int64"
   ]
  },
  {
   "cell_type": "markdown",
   "id": "32c0079a",
   "metadata": {},
   "source": [
    "nombre_infected       838\n",
    "nombre_sain          2220\n",
    "nombre_exposed        447\n",
    "nombre_recovered    16495\n",
    "Name: 588, dtype: int64"
   ]
  },
  {
   "cell_type": "markdown",
   "id": "0a9c6bce",
   "metadata": {},
   "source": [
    "nombre_infected       843\n",
    "nombre_sain          2228\n",
    "nombre_exposed        443\n",
    "nombre_recovered    16486\n",
    "Name: 589, dtype: int64"
   ]
  },
  {
   "cell_type": "markdown",
   "id": "f1ae9540",
   "metadata": {},
   "source": [
    "nombre_infected       851\n",
    "nombre_sain          2227\n",
    "nombre_exposed        434\n",
    "nombre_recovered    16488\n",
    "Name: 590, dtype: int64"
   ]
  },
  {
   "cell_type": "markdown",
   "id": "97f6ec44",
   "metadata": {},
   "source": [
    "nombre_infected       848\n",
    "nombre_sain          2222\n",
    "nombre_exposed        445\n",
    "nombre_recovered    16485\n",
    "Name: 591, dtype: int64"
   ]
  },
  {
   "cell_type": "markdown",
   "id": "e96d9bdb",
   "metadata": {},
   "source": [
    "nombre_infected       871\n",
    "nombre_sain          2209\n",
    "nombre_exposed        464\n",
    "nombre_recovered    16456\n",
    "Name: 592, dtype: int64"
   ]
  },
  {
   "cell_type": "markdown",
   "id": "81f6854c",
   "metadata": {},
   "source": [
    "nombre_infected       860\n",
    "nombre_sain          2171\n",
    "nombre_exposed        494\n",
    "nombre_recovered    16475\n",
    "Name: 593, dtype: int64"
   ]
  },
  {
   "cell_type": "markdown",
   "id": "05682710",
   "metadata": {},
   "source": [
    "nombre_infected       868\n",
    "nombre_sain          2155\n",
    "nombre_exposed        487\n",
    "nombre_recovered    16490\n",
    "Name: 594, dtype: int64"
   ]
  },
  {
   "cell_type": "markdown",
   "id": "272a2cc2",
   "metadata": {},
   "source": [
    "nombre_infected       887\n",
    "nombre_sain          2172\n",
    "nombre_exposed        464\n",
    "nombre_recovered    16477\n",
    "Name: 595, dtype: int64"
   ]
  },
  {
   "cell_type": "markdown",
   "id": "f5904d93",
   "metadata": {},
   "source": [
    "nombre_infected       887\n",
    "nombre_sain          2156\n",
    "nombre_exposed        467\n",
    "nombre_recovered    16490\n",
    "Name: 596, dtype: int64"
   ]
  },
  {
   "cell_type": "markdown",
   "id": "8e3e6cf6",
   "metadata": {},
   "source": [
    "nombre_infected       865\n",
    "nombre_sain          2123\n",
    "nombre_exposed        491\n",
    "nombre_recovered    16521\n",
    "Name: 597, dtype: int64"
   ]
  },
  {
   "cell_type": "markdown",
   "id": "be0860ce",
   "metadata": {},
   "source": [
    "nombre_infected       890\n",
    "nombre_sain          2126\n",
    "nombre_exposed        493\n",
    "nombre_recovered    16491\n",
    "Name: 598, dtype: int64"
   ]
  },
  {
   "cell_type": "markdown",
   "id": "e2e83419",
   "metadata": {},
   "source": [
    "nombre_infected       899\n",
    "nombre_sain          2130\n",
    "nombre_exposed        494\n",
    "nombre_recovered    16477\n",
    "Name: 599, dtype: int64"
   ]
  },
  {
   "cell_type": "markdown",
   "id": "dc951e67",
   "metadata": {},
   "source": [
    "nombre_infected       907\n",
    "nombre_sain          2120\n",
    "nombre_exposed        479\n",
    "nombre_recovered    16494\n",
    "Name: 600, dtype: int64"
   ]
  },
  {
   "cell_type": "markdown",
   "id": "b48b96d8",
   "metadata": {},
   "source": [
    "nombre_infected       913\n",
    "nombre_sain          2111\n",
    "nombre_exposed        499\n",
    "nombre_recovered    16477\n",
    "Name: 601, dtype: int64"
   ]
  },
  {
   "cell_type": "markdown",
   "id": "db483447",
   "metadata": {},
   "source": [
    "nombre_infected       920\n",
    "nombre_sain          2119\n",
    "nombre_exposed        490\n",
    "nombre_recovered    16471\n",
    "Name: 602, dtype: int64"
   ]
  },
  {
   "cell_type": "markdown",
   "id": "3d401417",
   "metadata": {},
   "source": [
    "nombre_infected       907\n",
    "nombre_sain          2167\n",
    "nombre_exposed        477\n",
    "nombre_recovered    16449\n",
    "Name: 603, dtype: int64"
   ]
  },
  {
   "cell_type": "markdown",
   "id": "e8072d6d",
   "metadata": {},
   "source": [
    "nombre_infected       930\n",
    "nombre_sain          2164\n",
    "nombre_exposed        490\n",
    "nombre_recovered    16416\n",
    "Name: 604, dtype: int64"
   ]
  },
  {
   "cell_type": "markdown",
   "id": "e2066328",
   "metadata": {},
   "source": [
    "nombre_infected       916\n",
    "nombre_sain          2154\n",
    "nombre_exposed        499\n",
    "nombre_recovered    16431\n",
    "Name: 605, dtype: int64"
   ]
  },
  {
   "cell_type": "markdown",
   "id": "3540bf29",
   "metadata": {},
   "source": [
    "nombre_infected       921\n",
    "nombre_sain          2183\n",
    "nombre_exposed        491\n",
    "nombre_recovered    16405\n",
    "Name: 606, dtype: int64"
   ]
  },
  {
   "cell_type": "markdown",
   "id": "2dd70a3c",
   "metadata": {},
   "source": [
    "nombre_infected       924\n",
    "nombre_sain          2191\n",
    "nombre_exposed        488\n",
    "nombre_recovered    16397\n",
    "Name: 607, dtype: int64"
   ]
  },
  {
   "cell_type": "markdown",
   "id": "dfb09acc",
   "metadata": {},
   "source": [
    "nombre_infected       929\n",
    "nombre_sain          2178\n",
    "nombre_exposed        511\n",
    "nombre_recovered    16382\n",
    "Name: 608, dtype: int64"
   ]
  },
  {
   "cell_type": "markdown",
   "id": "92812843",
   "metadata": {},
   "source": [
    "nombre_infected       953\n",
    "nombre_sain          2135\n",
    "nombre_exposed        501\n",
    "nombre_recovered    16411\n",
    "Name: 609, dtype: int64"
   ]
  },
  {
   "cell_type": "markdown",
   "id": "48528221",
   "metadata": {},
   "source": [
    "nombre_infected       959\n",
    "nombre_sain          2115\n",
    "nombre_exposed        509\n",
    "nombre_recovered    16417\n",
    "Name: 610, dtype: int64"
   ]
  },
  {
   "cell_type": "markdown",
   "id": "c8cedc7e",
   "metadata": {},
   "source": [
    "nombre_infected       970\n",
    "nombre_sain          2087\n",
    "nombre_exposed        500\n",
    "nombre_recovered    16443\n",
    "Name: 611, dtype: int64"
   ]
  },
  {
   "cell_type": "markdown",
   "id": "a620f7d2",
   "metadata": {},
   "source": [
    "nombre_infected       958\n",
    "nombre_sain          2080\n",
    "nombre_exposed        512\n",
    "nombre_recovered    16450\n",
    "Name: 612, dtype: int64"
   ]
  },
  {
   "cell_type": "markdown",
   "id": "3c54643e",
   "metadata": {},
   "source": [
    "nombre_infected       962\n",
    "nombre_sain          2077\n",
    "nombre_exposed        511\n",
    "nombre_recovered    16450\n",
    "Name: 613, dtype: int64"
   ]
  },
  {
   "cell_type": "markdown",
   "id": "ce53361d",
   "metadata": {},
   "source": [
    "nombre_infected       951\n",
    "nombre_sain          2055\n",
    "nombre_exposed        499\n",
    "nombre_recovered    16495\n",
    "Name: 614, dtype: int64"
   ]
  },
  {
   "cell_type": "markdown",
   "id": "5f48e978",
   "metadata": {},
   "source": [
    "nombre_infected       959\n",
    "nombre_sain          2044\n",
    "nombre_exposed        491\n",
    "nombre_recovered    16506\n",
    "Name: 615, dtype: int64"
   ]
  },
  {
   "cell_type": "markdown",
   "id": "a4f9fbe0",
   "metadata": {},
   "source": [
    "nombre_infected       980\n",
    "nombre_sain          2056\n",
    "nombre_exposed        458\n",
    "nombre_recovered    16506\n",
    "Name: 616, dtype: int64"
   ]
  },
  {
   "cell_type": "markdown",
   "id": "61829483",
   "metadata": {},
   "source": [
    "nombre_infected       980\n",
    "nombre_sain          2033\n",
    "nombre_exposed        464\n",
    "nombre_recovered    16523\n",
    "Name: 617, dtype: int64"
   ]
  },
  {
   "cell_type": "markdown",
   "id": "5037c239",
   "metadata": {},
   "source": [
    "nombre_infected       948\n",
    "nombre_sain          2022\n",
    "nombre_exposed        476\n",
    "nombre_recovered    16554\n",
    "Name: 618, dtype: int64"
   ]
  },
  {
   "cell_type": "markdown",
   "id": "15952a70",
   "metadata": {},
   "source": [
    "nombre_infected       952\n",
    "nombre_sain          2016\n",
    "nombre_exposed        455\n",
    "nombre_recovered    16577\n",
    "Name: 619, dtype: int64"
   ]
  },
  {
   "cell_type": "markdown",
   "id": "cd59caec",
   "metadata": {},
   "source": [
    "nombre_infected       946\n",
    "nombre_sain          2019\n",
    "nombre_exposed        467\n",
    "nombre_recovered    16568\n",
    "Name: 620, dtype: int64"
   ]
  },
  {
   "cell_type": "markdown",
   "id": "0d6753a4",
   "metadata": {},
   "source": [
    "nombre_infected       936\n",
    "nombre_sain          2005\n",
    "nombre_exposed        489\n",
    "nombre_recovered    16570\n",
    "Name: 621, dtype: int64"
   ]
  },
  {
   "cell_type": "markdown",
   "id": "061febc1",
   "metadata": {},
   "source": [
    "nombre_infected       916\n",
    "nombre_sain          2012\n",
    "nombre_exposed        489\n",
    "nombre_recovered    16583\n",
    "Name: 622, dtype: int64"
   ]
  },
  {
   "cell_type": "markdown",
   "id": "eebe4ed6",
   "metadata": {},
   "source": [
    "nombre_infected       914\n",
    "nombre_sain          2030\n",
    "nombre_exposed        482\n",
    "nombre_recovered    16574\n",
    "Name: 623, dtype: int64"
   ]
  },
  {
   "cell_type": "markdown",
   "id": "aa9e3216",
   "metadata": {},
   "source": [
    "nombre_infected       927\n",
    "nombre_sain          2021\n",
    "nombre_exposed        468\n",
    "nombre_recovered    16584\n",
    "Name: 624, dtype: int64"
   ]
  },
  {
   "cell_type": "markdown",
   "id": "a029affe",
   "metadata": {},
   "source": [
    "nombre_infected       930\n",
    "nombre_sain          2026\n",
    "nombre_exposed        470\n",
    "nombre_recovered    16574\n",
    "Name: 625, dtype: int64"
   ]
  },
  {
   "cell_type": "markdown",
   "id": "0399b789",
   "metadata": {},
   "source": [
    "nombre_infected       935\n",
    "nombre_sain          2019\n",
    "nombre_exposed        465\n",
    "nombre_recovered    16581\n",
    "Name: 626, dtype: int64"
   ]
  },
  {
   "cell_type": "markdown",
   "id": "3ded3534",
   "metadata": {},
   "source": [
    "nombre_infected       935\n",
    "nombre_sain          2040\n",
    "nombre_exposed        451\n",
    "nombre_recovered    16574\n",
    "Name: 627, dtype: int64"
   ]
  },
  {
   "cell_type": "markdown",
   "id": "7bf82a4b",
   "metadata": {},
   "source": [
    "nombre_infected       942\n",
    "nombre_sain          2074\n",
    "nombre_exposed        431\n",
    "nombre_recovered    16553\n",
    "Name: 628, dtype: int64"
   ]
  },
  {
   "cell_type": "markdown",
   "id": "6f325aea",
   "metadata": {},
   "source": [
    "nombre_infected       928\n",
    "nombre_sain          2086\n",
    "nombre_exposed        424\n",
    "nombre_recovered    16562\n",
    "Name: 629, dtype: int64"
   ]
  },
  {
   "cell_type": "markdown",
   "id": "e4f40a0e",
   "metadata": {},
   "source": [
    "nombre_infected       911\n",
    "nombre_sain          2103\n",
    "nombre_exposed        428\n",
    "nombre_recovered    16558\n",
    "Name: 630, dtype: int64"
   ]
  },
  {
   "cell_type": "markdown",
   "id": "0c86aa2f",
   "metadata": {},
   "source": [
    "nombre_infected       900\n",
    "nombre_sain          2133\n",
    "nombre_exposed        429\n",
    "nombre_recovered    16538\n",
    "Name: 631, dtype: int64"
   ]
  },
  {
   "cell_type": "markdown",
   "id": "f0660d41",
   "metadata": {},
   "source": [
    "nombre_infected       910\n",
    "nombre_sain          2137\n",
    "nombre_exposed        409\n",
    "nombre_recovered    16544\n",
    "Name: 632, dtype: int64"
   ]
  },
  {
   "cell_type": "markdown",
   "id": "824aeea9",
   "metadata": {},
   "source": [
    "nombre_infected       902\n",
    "nombre_sain          2144\n",
    "nombre_exposed        426\n",
    "nombre_recovered    16528\n",
    "Name: 633, dtype: int64"
   ]
  },
  {
   "cell_type": "markdown",
   "id": "a656af18",
   "metadata": {},
   "source": [
    "nombre_infected       884\n",
    "nombre_sain          2156\n",
    "nombre_exposed        451\n",
    "nombre_recovered    16509\n",
    "Name: 634, dtype: int64"
   ]
  },
  {
   "cell_type": "markdown",
   "id": "b9b47152",
   "metadata": {},
   "source": [
    "nombre_infected       874\n",
    "nombre_sain          2165\n",
    "nombre_exposed        455\n",
    "nombre_recovered    16506\n",
    "Name: 635, dtype: int64"
   ]
  },
  {
   "cell_type": "markdown",
   "id": "6e8df327",
   "metadata": {},
   "source": [
    "nombre_infected       867\n",
    "nombre_sain          2166\n",
    "nombre_exposed        447\n",
    "nombre_recovered    16520\n",
    "Name: 636, dtype: int64"
   ]
  },
  {
   "cell_type": "markdown",
   "id": "46303bfc",
   "metadata": {},
   "source": [
    "nombre_infected       867\n",
    "nombre_sain          2181\n",
    "nombre_exposed        441\n",
    "nombre_recovered    16511\n",
    "Name: 637, dtype: int64"
   ]
  },
  {
   "cell_type": "markdown",
   "id": "32d9fed0",
   "metadata": {},
   "source": [
    "nombre_infected       870\n",
    "nombre_sain          2155\n",
    "nombre_exposed        464\n",
    "nombre_recovered    16511\n",
    "Name: 638, dtype: int64"
   ]
  },
  {
   "cell_type": "markdown",
   "id": "e31d2590",
   "metadata": {},
   "source": [
    "nombre_infected       871\n",
    "nombre_sain          2165\n",
    "nombre_exposed        459\n",
    "nombre_recovered    16505\n",
    "Name: 639, dtype: int64"
   ]
  },
  {
   "cell_type": "markdown",
   "id": "46e2dd5e",
   "metadata": {},
   "source": [
    "nombre_infected       875\n",
    "nombre_sain          2176\n",
    "nombre_exposed        437\n",
    "nombre_recovered    16512\n",
    "Name: 640, dtype: int64"
   ]
  },
  {
   "cell_type": "markdown",
   "id": "747f27e5",
   "metadata": {},
   "source": [
    "nombre_infected       879\n",
    "nombre_sain          2180\n",
    "nombre_exposed        432\n",
    "nombre_recovered    16509\n",
    "Name: 641, dtype: int64"
   ]
  },
  {
   "cell_type": "markdown",
   "id": "7c397c5d",
   "metadata": {},
   "source": [
    "nombre_infected       862\n",
    "nombre_sain          2186\n",
    "nombre_exposed        425\n",
    "nombre_recovered    16527\n",
    "Name: 642, dtype: int64"
   ]
  },
  {
   "cell_type": "markdown",
   "id": "a51cf38e",
   "metadata": {},
   "source": [
    "nombre_infected       858\n",
    "nombre_sain          2217\n",
    "nombre_exposed        398\n",
    "nombre_recovered    16527\n",
    "Name: 643, dtype: int64"
   ]
  },
  {
   "cell_type": "markdown",
   "id": "1d9e276e",
   "metadata": {},
   "source": [
    "nombre_infected       837\n",
    "nombre_sain          2214\n",
    "nombre_exposed        425\n",
    "nombre_recovered    16524\n",
    "Name: 644, dtype: int64"
   ]
  },
  {
   "cell_type": "markdown",
   "id": "ab75bb8c",
   "metadata": {},
   "source": [
    "nombre_infected       804\n",
    "nombre_sain          2228\n",
    "nombre_exposed        423\n",
    "nombre_recovered    16545\n",
    "Name: 645, dtype: int64"
   ]
  },
  {
   "cell_type": "markdown",
   "id": "b4d2b375",
   "metadata": {},
   "source": [
    "nombre_infected       802\n",
    "nombre_sain          2229\n",
    "nombre_exposed        426\n",
    "nombre_recovered    16543\n",
    "Name: 646, dtype: int64"
   ]
  },
  {
   "cell_type": "markdown",
   "id": "f8247800",
   "metadata": {},
   "source": [
    "nombre_infected       782\n",
    "nombre_sain          2241\n",
    "nombre_exposed        420\n",
    "nombre_recovered    16557\n",
    "Name: 647, dtype: int64"
   ]
  },
  {
   "cell_type": "markdown",
   "id": "0aa10a70",
   "metadata": {},
   "source": [
    "nombre_infected       799\n",
    "nombre_sain          2223\n",
    "nombre_exposed        417\n",
    "nombre_recovered    16561\n",
    "Name: 648, dtype: int64"
   ]
  },
  {
   "cell_type": "markdown",
   "id": "4b74bf21",
   "metadata": {},
   "source": [
    "nombre_infected       776\n",
    "nombre_sain          2248\n",
    "nombre_exposed        419\n",
    "nombre_recovered    16557\n",
    "Name: 649, dtype: int64"
   ]
  },
  {
   "cell_type": "markdown",
   "id": "9923f176",
   "metadata": {},
   "source": [
    "nombre_infected       792\n",
    "nombre_sain          2249\n",
    "nombre_exposed        410\n",
    "nombre_recovered    16549\n",
    "Name: 650, dtype: int64"
   ]
  },
  {
   "cell_type": "markdown",
   "id": "0a786fc6",
   "metadata": {},
   "source": [
    "nombre_infected       781\n",
    "nombre_sain          2262\n",
    "nombre_exposed        407\n",
    "nombre_recovered    16550\n",
    "Name: 651, dtype: int64"
   ]
  },
  {
   "cell_type": "markdown",
   "id": "c7595574",
   "metadata": {},
   "source": [
    "nombre_infected       768\n",
    "nombre_sain          2266\n",
    "nombre_exposed        400\n",
    "nombre_recovered    16566\n",
    "Name: 652, dtype: int64"
   ]
  },
  {
   "cell_type": "markdown",
   "id": "454cbc9f",
   "metadata": {},
   "source": [
    "nombre_infected       744\n",
    "nombre_sain          2281\n",
    "nombre_exposed        415\n",
    "nombre_recovered    16560\n",
    "Name: 653, dtype: int64"
   ]
  },
  {
   "cell_type": "markdown",
   "id": "30bb0599",
   "metadata": {},
   "source": [
    "nombre_infected       741\n",
    "nombre_sain          2295\n",
    "nombre_exposed        409\n",
    "nombre_recovered    16555\n",
    "Name: 654, dtype: int64"
   ]
  },
  {
   "cell_type": "markdown",
   "id": "3b8cf40b",
   "metadata": {},
   "source": [
    "nombre_infected       734\n",
    "nombre_sain          2314\n",
    "nombre_exposed        408\n",
    "nombre_recovered    16544\n",
    "Name: 655, dtype: int64"
   ]
  },
  {
   "cell_type": "markdown",
   "id": "c34cf281",
   "metadata": {},
   "source": [
    "nombre_infected       719\n",
    "nombre_sain          2337\n",
    "nombre_exposed        409\n",
    "nombre_recovered    16535\n",
    "Name: 656, dtype: int64"
   ]
  },
  {
   "cell_type": "markdown",
   "id": "1a714f75",
   "metadata": {},
   "source": [
    "nombre_infected       708\n",
    "nombre_sain          2349\n",
    "nombre_exposed        416\n",
    "nombre_recovered    16527\n",
    "Name: 657, dtype: int64"
   ]
  },
  {
   "cell_type": "markdown",
   "id": "0df180ab",
   "metadata": {},
   "source": [
    "nombre_infected       711\n",
    "nombre_sain          2348\n",
    "nombre_exposed        429\n",
    "nombre_recovered    16512\n",
    "Name: 658, dtype: int64"
   ]
  },
  {
   "cell_type": "markdown",
   "id": "70d1c63d",
   "metadata": {},
   "source": [
    "nombre_infected       705\n",
    "nombre_sain          2361\n",
    "nombre_exposed        435\n",
    "nombre_recovered    16499\n",
    "Name: 659, dtype: int64"
   ]
  },
  {
   "cell_type": "markdown",
   "id": "562c0f5d",
   "metadata": {},
   "source": [
    "nombre_infected       708\n",
    "nombre_sain          2356\n",
    "nombre_exposed        453\n",
    "nombre_recovered    16483\n",
    "Name: 660, dtype: int64"
   ]
  },
  {
   "cell_type": "markdown",
   "id": "3098ac26",
   "metadata": {},
   "source": [
    "nombre_infected       724\n",
    "nombre_sain          2345\n",
    "nombre_exposed        477\n",
    "nombre_recovered    16454\n",
    "Name: 661, dtype: int64"
   ]
  },
  {
   "cell_type": "markdown",
   "id": "10175eaa",
   "metadata": {},
   "source": [
    "nombre_infected       715\n",
    "nombre_sain          2352\n",
    "nombre_exposed        489\n",
    "nombre_recovered    16444\n",
    "Name: 662, dtype: int64"
   ]
  },
  {
   "cell_type": "markdown",
   "id": "e5133a3c",
   "metadata": {},
   "source": [
    "nombre_infected       722\n",
    "nombre_sain          2379\n",
    "nombre_exposed        483\n",
    "nombre_recovered    16416\n",
    "Name: 663, dtype: int64"
   ]
  },
  {
   "cell_type": "markdown",
   "id": "a5b7fc94",
   "metadata": {},
   "source": [
    "nombre_infected       766\n",
    "nombre_sain          2371\n",
    "nombre_exposed        471\n",
    "nombre_recovered    16392\n",
    "Name: 664, dtype: int64"
   ]
  },
  {
   "cell_type": "markdown",
   "id": "7fc9e031",
   "metadata": {},
   "source": [
    "nombre_infected       775\n",
    "nombre_sain          2387\n",
    "nombre_exposed        474\n",
    "nombre_recovered    16364\n",
    "Name: 665, dtype: int64"
   ]
  },
  {
   "cell_type": "markdown",
   "id": "59e37112",
   "metadata": {},
   "source": [
    "nombre_infected       783\n",
    "nombre_sain          2386\n",
    "nombre_exposed        475\n",
    "nombre_recovered    16356\n",
    "Name: 666, dtype: int64"
   ]
  },
  {
   "cell_type": "markdown",
   "id": "70c2221b",
   "metadata": {},
   "source": [
    "nombre_infected       783\n",
    "nombre_sain          2369\n",
    "nombre_exposed        474\n",
    "nombre_recovered    16374\n",
    "Name: 667, dtype: int64"
   ]
  },
  {
   "cell_type": "markdown",
   "id": "2a1faabc",
   "metadata": {},
   "source": [
    "nombre_infected       769\n",
    "nombre_sain          2373\n",
    "nombre_exposed        466\n",
    "nombre_recovered    16392\n",
    "Name: 668, dtype: int64"
   ]
  },
  {
   "cell_type": "markdown",
   "id": "be806f5a",
   "metadata": {},
   "source": [
    "nombre_infected       760\n",
    "nombre_sain          2384\n",
    "nombre_exposed        465\n",
    "nombre_recovered    16391\n",
    "Name: 669, dtype: int64"
   ]
  },
  {
   "cell_type": "markdown",
   "id": "6718873c",
   "metadata": {},
   "source": [
    "nombre_infected       776\n",
    "nombre_sain          2388\n",
    "nombre_exposed        466\n",
    "nombre_recovered    16370\n",
    "Name: 670, dtype: int64"
   ]
  },
  {
   "cell_type": "markdown",
   "id": "2d571aeb",
   "metadata": {},
   "source": [
    "nombre_infected       776\n",
    "nombre_sain          2404\n",
    "nombre_exposed        471\n",
    "nombre_recovered    16349\n",
    "Name: 671, dtype: int64"
   ]
  },
  {
   "cell_type": "markdown",
   "id": "5b77ee0c",
   "metadata": {},
   "source": [
    "nombre_infected       781\n",
    "nombre_sain          2413\n",
    "nombre_exposed        483\n",
    "nombre_recovered    16323\n",
    "Name: 672, dtype: int64"
   ]
  },
  {
   "cell_type": "markdown",
   "id": "4c54fed5",
   "metadata": {},
   "source": [
    "nombre_infected       788\n",
    "nombre_sain          2427\n",
    "nombre_exposed        466\n",
    "nombre_recovered    16319\n",
    "Name: 673, dtype: int64"
   ]
  },
  {
   "cell_type": "markdown",
   "id": "ba0cdd63",
   "metadata": {},
   "source": [
    "nombre_infected       803\n",
    "nombre_sain          2440\n",
    "nombre_exposed        450\n",
    "nombre_recovered    16307\n",
    "Name: 674, dtype: int64"
   ]
  },
  {
   "cell_type": "markdown",
   "id": "47bd3e41",
   "metadata": {},
   "source": [
    "nombre_infected       811\n",
    "nombre_sain          2446\n",
    "nombre_exposed        442\n",
    "nombre_recovered    16301\n",
    "Name: 675, dtype: int64"
   ]
  },
  {
   "cell_type": "markdown",
   "id": "19f4f897",
   "metadata": {},
   "source": [
    "nombre_infected       776\n",
    "nombre_sain          2476\n",
    "nombre_exposed        465\n",
    "nombre_recovered    16283\n",
    "Name: 676, dtype: int64"
   ]
  },
  {
   "cell_type": "markdown",
   "id": "80dfef0a",
   "metadata": {},
   "source": [
    "nombre_infected       795\n",
    "nombre_sain          2494\n",
    "nombre_exposed        452\n",
    "nombre_recovered    16259\n",
    "Name: 677, dtype: int64"
   ]
  },
  {
   "cell_type": "markdown",
   "id": "02ab3b2b",
   "metadata": {},
   "source": [
    "nombre_infected       801\n",
    "nombre_sain          2503\n",
    "nombre_exposed        444\n",
    "nombre_recovered    16252\n",
    "Name: 678, dtype: int64"
   ]
  },
  {
   "cell_type": "markdown",
   "id": "5f14efae",
   "metadata": {},
   "source": [
    "nombre_infected       795\n",
    "nombre_sain          2503\n",
    "nombre_exposed        472\n",
    "nombre_recovered    16230\n",
    "Name: 679, dtype: int64"
   ]
  },
  {
   "cell_type": "markdown",
   "id": "aaf14914",
   "metadata": {},
   "source": [
    "nombre_infected       795\n",
    "nombre_sain          2475\n",
    "nombre_exposed        478\n",
    "nombre_recovered    16252\n",
    "Name: 680, dtype: int64"
   ]
  },
  {
   "cell_type": "markdown",
   "id": "b00e3fd6",
   "metadata": {},
   "source": [
    "nombre_infected       810\n",
    "nombre_sain          2488\n",
    "nombre_exposed        485\n",
    "nombre_recovered    16217\n",
    "Name: 681, dtype: int64"
   ]
  },
  {
   "cell_type": "markdown",
   "id": "e88de25f",
   "metadata": {},
   "source": [
    "nombre_infected       812\n",
    "nombre_sain          2469\n",
    "nombre_exposed        494\n",
    "nombre_recovered    16225\n",
    "Name: 682, dtype: int64"
   ]
  },
  {
   "cell_type": "markdown",
   "id": "16d0e7fa",
   "metadata": {},
   "source": [
    "nombre_infected       822\n",
    "nombre_sain          2480\n",
    "nombre_exposed        482\n",
    "nombre_recovered    16216\n",
    "Name: 683, dtype: int64"
   ]
  },
  {
   "cell_type": "markdown",
   "id": "af96b281",
   "metadata": {},
   "source": [
    "nombre_infected       835\n",
    "nombre_sain          2479\n",
    "nombre_exposed        484\n",
    "nombre_recovered    16202\n",
    "Name: 684, dtype: int64"
   ]
  },
  {
   "cell_type": "markdown",
   "id": "56bb77b6",
   "metadata": {},
   "source": [
    "nombre_infected       859\n",
    "nombre_sain          2480\n",
    "nombre_exposed        484\n",
    "nombre_recovered    16177\n",
    "Name: 685, dtype: int64"
   ]
  },
  {
   "cell_type": "markdown",
   "id": "7aefaeb8",
   "metadata": {},
   "source": [
    "nombre_infected       863\n",
    "nombre_sain          2468\n",
    "nombre_exposed        489\n",
    "nombre_recovered    16180\n",
    "Name: 686, dtype: int64"
   ]
  },
  {
   "cell_type": "markdown",
   "id": "579df924",
   "metadata": {},
   "source": [
    "nombre_infected       862\n",
    "nombre_sain          2451\n",
    "nombre_exposed        518\n",
    "nombre_recovered    16169\n",
    "Name: 687, dtype: int64"
   ]
  },
  {
   "cell_type": "markdown",
   "id": "48165192",
   "metadata": {},
   "source": [
    "nombre_infected       858\n",
    "nombre_sain          2418\n",
    "nombre_exposed        535\n",
    "nombre_recovered    16189\n",
    "Name: 688, dtype: int64"
   ]
  },
  {
   "cell_type": "markdown",
   "id": "d4f4c620",
   "metadata": {},
   "source": [
    "nombre_infected       863\n",
    "nombre_sain          2385\n",
    "nombre_exposed        552\n",
    "nombre_recovered    16200\n",
    "Name: 689, dtype: int64"
   ]
  },
  {
   "cell_type": "markdown",
   "id": "9d3bdecd",
   "metadata": {},
   "source": [
    "nombre_infected       899\n",
    "nombre_sain          2396\n",
    "nombre_exposed        523\n",
    "nombre_recovered    16182\n",
    "Name: 690, dtype: int64"
   ]
  },
  {
   "cell_type": "markdown",
   "id": "38c88d46",
   "metadata": {},
   "source": [
    "nombre_infected       908\n",
    "nombre_sain          2361\n",
    "nombre_exposed        527\n",
    "nombre_recovered    16204\n",
    "Name: 691, dtype: int64"
   ]
  },
  {
   "cell_type": "markdown",
   "id": "c7a1943e",
   "metadata": {},
   "source": [
    "nombre_infected       913\n",
    "nombre_sain          2350\n",
    "nombre_exposed        550\n",
    "nombre_recovered    16187\n",
    "Name: 692, dtype: int64"
   ]
  },
  {
   "cell_type": "markdown",
   "id": "882f490c",
   "metadata": {},
   "source": [
    "nombre_infected       928\n",
    "nombre_sain          2321\n",
    "nombre_exposed        566\n",
    "nombre_recovered    16185\n",
    "Name: 693, dtype: int64"
   ]
  },
  {
   "cell_type": "markdown",
   "id": "2d90062c",
   "metadata": {},
   "source": [
    "nombre_infected       937\n",
    "nombre_sain          2303\n",
    "nombre_exposed        557\n",
    "nombre_recovered    16203\n",
    "Name: 694, dtype: int64"
   ]
  },
  {
   "cell_type": "markdown",
   "id": "eace439b",
   "metadata": {},
   "source": [
    "nombre_infected       961\n",
    "nombre_sain          2304\n",
    "nombre_exposed        537\n",
    "nombre_recovered    16198\n",
    "Name: 695, dtype: int64"
   ]
  },
  {
   "cell_type": "markdown",
   "id": "eeb5b7eb",
   "metadata": {},
   "source": [
    "nombre_infected       981\n",
    "nombre_sain          2290\n",
    "nombre_exposed        516\n",
    "nombre_recovered    16213\n",
    "Name: 696, dtype: int64"
   ]
  },
  {
   "cell_type": "markdown",
   "id": "5a32797c",
   "metadata": {},
   "source": [
    "nombre_infected       990\n",
    "nombre_sain          2259\n",
    "nombre_exposed        545\n",
    "nombre_recovered    16206\n",
    "Name: 697, dtype: int64"
   ]
  },
  {
   "cell_type": "markdown",
   "id": "4b31a29f",
   "metadata": {},
   "source": [
    "nombre_infected      1007\n",
    "nombre_sain          2249\n",
    "nombre_exposed        540\n",
    "nombre_recovered    16204\n",
    "Name: 698, dtype: int64"
   ]
  },
  {
   "cell_type": "markdown",
   "id": "e5580647",
   "metadata": {},
   "source": [
    "nombre_infected      1019\n",
    "nombre_sain          2244\n",
    "nombre_exposed        502\n",
    "nombre_recovered    16235\n",
    "Name: 699, dtype: int64"
   ]
  },
  {
   "cell_type": "markdown",
   "id": "380c4158",
   "metadata": {},
   "source": [
    "nombre_infected      1017\n",
    "nombre_sain          2235\n",
    "nombre_exposed        492\n",
    "nombre_recovered    16256\n",
    "Name: 700, dtype: int64"
   ]
  },
  {
   "cell_type": "markdown",
   "id": "36bfc402",
   "metadata": {},
   "source": [
    "nombre_infected       994\n",
    "nombre_sain          2207\n",
    "nombre_exposed        499\n",
    "nombre_recovered    16300\n",
    "Name: 701, dtype: int64"
   ]
  },
  {
   "cell_type": "markdown",
   "id": "8233487f",
   "metadata": {},
   "source": [
    "nombre_infected       977\n",
    "nombre_sain          2202\n",
    "nombre_exposed        500\n",
    "nombre_recovered    16321\n",
    "Name: 702, dtype: int64"
   ]
  },
  {
   "cell_type": "markdown",
   "id": "9660c05e",
   "metadata": {},
   "source": [
    "nombre_infected       986\n",
    "nombre_sain          2192\n",
    "nombre_exposed        490\n",
    "nombre_recovered    16332\n",
    "Name: 703, dtype: int64"
   ]
  },
  {
   "cell_type": "markdown",
   "id": "a0bd25e7",
   "metadata": {},
   "source": [
    "nombre_infected       987\n",
    "nombre_sain          2193\n",
    "nombre_exposed        480\n",
    "nombre_recovered    16340\n",
    "Name: 704, dtype: int64"
   ]
  },
  {
   "cell_type": "markdown",
   "id": "028dc364",
   "metadata": {},
   "source": [
    "nombre_infected       963\n",
    "nombre_sain          2197\n",
    "nombre_exposed        476\n",
    "nombre_recovered    16364\n",
    "Name: 705, dtype: int64"
   ]
  },
  {
   "cell_type": "markdown",
   "id": "6514cd19",
   "metadata": {},
   "source": [
    "nombre_infected       983\n",
    "nombre_sain          2193\n",
    "nombre_exposed        467\n",
    "nombre_recovered    16357\n",
    "Name: 706, dtype: int64"
   ]
  },
  {
   "cell_type": "markdown",
   "id": "cde658d6",
   "metadata": {},
   "source": [
    "nombre_infected       983\n",
    "nombre_sain          2166\n",
    "nombre_exposed        483\n",
    "nombre_recovered    16368\n",
    "Name: 707, dtype: int64"
   ]
  },
  {
   "cell_type": "markdown",
   "id": "d9bfc41c",
   "metadata": {},
   "source": [
    "nombre_infected       960\n",
    "nombre_sain          2153\n",
    "nombre_exposed        474\n",
    "nombre_recovered    16413\n",
    "Name: 708, dtype: int64"
   ]
  },
  {
   "cell_type": "markdown",
   "id": "36af80d0",
   "metadata": {},
   "source": [
    "nombre_infected       969\n",
    "nombre_sain          2141\n",
    "nombre_exposed        486\n",
    "nombre_recovered    16404\n",
    "Name: 709, dtype: int64"
   ]
  },
  {
   "cell_type": "markdown",
   "id": "e752819b",
   "metadata": {},
   "source": [
    "nombre_infected       972\n",
    "nombre_sain          2146\n",
    "nombre_exposed        489\n",
    "nombre_recovered    16393\n",
    "Name: 710, dtype: int64"
   ]
  },
  {
   "cell_type": "markdown",
   "id": "e7d3ee1b",
   "metadata": {},
   "source": [
    "nombre_infected       967\n",
    "nombre_sain          2155\n",
    "nombre_exposed        500\n",
    "nombre_recovered    16378\n",
    "Name: 711, dtype: int64"
   ]
  },
  {
   "cell_type": "markdown",
   "id": "4203a9b5",
   "metadata": {},
   "source": [
    "nombre_infected      1001\n",
    "nombre_sain          2157\n",
    "nombre_exposed        465\n",
    "nombre_recovered    16377\n",
    "Name: 712, dtype: int64"
   ]
  },
  {
   "cell_type": "markdown",
   "id": "45b83fc1",
   "metadata": {},
   "source": [
    "nombre_infected       994\n",
    "nombre_sain          2172\n",
    "nombre_exposed        466\n",
    "nombre_recovered    16368\n",
    "Name: 713, dtype: int64"
   ]
  },
  {
   "cell_type": "markdown",
   "id": "0c2f678f",
   "metadata": {},
   "source": [
    "nombre_infected       975\n",
    "nombre_sain          2159\n",
    "nombre_exposed        475\n",
    "nombre_recovered    16391\n",
    "Name: 714, dtype: int64"
   ]
  },
  {
   "cell_type": "markdown",
   "id": "e9b1518f",
   "metadata": {},
   "source": [
    "nombre_infected       963\n",
    "nombre_sain          2168\n",
    "nombre_exposed        471\n",
    "nombre_recovered    16398\n",
    "Name: 715, dtype: int64"
   ]
  },
  {
   "cell_type": "markdown",
   "id": "7b0dcc7f",
   "metadata": {},
   "source": [
    "nombre_infected       961\n",
    "nombre_sain          2160\n",
    "nombre_exposed        485\n",
    "nombre_recovered    16394\n",
    "Name: 716, dtype: int64"
   ]
  },
  {
   "cell_type": "markdown",
   "id": "6a7f55e7",
   "metadata": {},
   "source": [
    "nombre_infected       979\n",
    "nombre_sain          2158\n",
    "nombre_exposed        470\n",
    "nombre_recovered    16393\n",
    "Name: 717, dtype: int64"
   ]
  },
  {
   "cell_type": "markdown",
   "id": "e658b996",
   "metadata": {},
   "source": [
    "nombre_infected       942\n",
    "nombre_sain          2147\n",
    "nombre_exposed        484\n",
    "nombre_recovered    16427\n",
    "Name: 718, dtype: int64"
   ]
  },
  {
   "cell_type": "markdown",
   "id": "a13c2a19",
   "metadata": {},
   "source": [
    "nombre_infected       940\n",
    "nombre_sain          2138\n",
    "nombre_exposed        483\n",
    "nombre_recovered    16439\n",
    "Name: 719, dtype: int64"
   ]
  },
  {
   "cell_type": "markdown",
   "id": "bd7ed218",
   "metadata": {},
   "source": [
    "nombre_infected       952\n",
    "nombre_sain          2126\n",
    "nombre_exposed        462\n",
    "nombre_recovered    16460\n",
    "Name: 720, dtype: int64"
   ]
  },
  {
   "cell_type": "markdown",
   "id": "2c9384e5",
   "metadata": {},
   "source": [
    "nombre_infected       962\n",
    "nombre_sain          2116\n",
    "nombre_exposed        464\n",
    "nombre_recovered    16458\n",
    "Name: 721, dtype: int64"
   ]
  },
  {
   "cell_type": "markdown",
   "id": "fc3f5113",
   "metadata": {},
   "source": [
    "nombre_infected       960\n",
    "nombre_sain          2099\n",
    "nombre_exposed        480\n",
    "nombre_recovered    16461\n",
    "Name: 722, dtype: int64"
   ]
  },
  {
   "cell_type": "markdown",
   "id": "8cebaf29",
   "metadata": {},
   "source": [
    "nombre_infected       961\n",
    "nombre_sain          2083\n",
    "nombre_exposed        472\n",
    "nombre_recovered    16484\n",
    "Name: 723, dtype: int64"
   ]
  },
  {
   "cell_type": "markdown",
   "id": "553deb94",
   "metadata": {},
   "source": [
    "nombre_infected       951\n",
    "nombre_sain          2082\n",
    "nombre_exposed        465\n",
    "nombre_recovered    16502\n",
    "Name: 724, dtype: int64"
   ]
  },
  {
   "cell_type": "markdown",
   "id": "57973deb",
   "metadata": {},
   "source": [
    "nombre_infected       959\n",
    "nombre_sain          2081\n",
    "nombre_exposed        460\n",
    "nombre_recovered    16500\n",
    "Name: 725, dtype: int64"
   ]
  },
  {
   "cell_type": "markdown",
   "id": "a36b5ae4",
   "metadata": {},
   "source": [
    "nombre_infected       968\n",
    "nombre_sain          2095\n",
    "nombre_exposed        452\n",
    "nombre_recovered    16485\n",
    "Name: 726, dtype: int64"
   ]
  },
  {
   "cell_type": "markdown",
   "id": "45b5ced8",
   "metadata": {},
   "source": [
    "nombre_infected       953\n",
    "nombre_sain          2093\n",
    "nombre_exposed        466\n",
    "nombre_recovered    16488\n",
    "Name: 727, dtype: int64"
   ]
  },
  {
   "cell_type": "markdown",
   "id": "82c1c284",
   "metadata": {},
   "source": [
    "nombre_infected       958\n",
    "nombre_sain          2074\n",
    "nombre_exposed        461\n",
    "nombre_recovered    16507\n",
    "Name: 728, dtype: int64"
   ]
  },
  {
   "cell_type": "markdown",
   "id": "4ee09125",
   "metadata": {},
   "source": [
    "nombre_infected       965\n",
    "nombre_sain          2071\n",
    "nombre_exposed        461\n",
    "nombre_recovered    16503\n",
    "Name: 729, dtype: int64"
   ]
  },
  {
   "cell_type": "markdown",
   "id": "8be0410f",
   "metadata": {},
   "source": [
    "nombre_infected       955\n",
    "nombre_sain          2091\n",
    "nombre_exposed        438\n",
    "nombre_recovered    16516\n",
    "Name: 730, dtype: int64"
   ]
  }
 ],
 "metadata": {},
 "nbformat": 4,
 "nbformat_minor": 5
}
