{
 "cells": [
  {
   "cell_type": "markdown",
   "id": "022f4762",
   "metadata": {},
   "source": [
    "nombre_infected        20\n",
    "nombre_sain         19980\n",
    "nombre_exposed          0\n",
    "nombre_recovered        0\n",
    "Name: 0, dtype: int64"
   ]
  },
  {
   "cell_type": "markdown",
   "id": "fe5c9dd3",
   "metadata": {},
   "source": [
    "nombre_infected        20\n",
    "nombre_sain         19969\n",
    "nombre_exposed         11\n",
    "nombre_recovered        0\n",
    "Name: 1, dtype: int64"
   ]
  },
  {
   "cell_type": "markdown",
   "id": "e6c39ee4",
   "metadata": {},
   "source": [
    "nombre_infected         0\n",
    "nombre_sain         19957\n",
    "nombre_exposed         23\n",
    "nombre_recovered       20\n",
    "Name: 2, dtype: int64"
   ]
  },
  {
   "cell_type": "markdown",
   "id": "56c5c97e",
   "metadata": {},
   "source": [
    "nombre_infected         2\n",
    "nombre_sain         19957\n",
    "nombre_exposed         21\n",
    "nombre_recovered       20\n",
    "Name: 3, dtype: int64"
   ]
  },
  {
   "cell_type": "markdown",
   "id": "a23c8190",
   "metadata": {},
   "source": [
    "nombre_infected        10\n",
    "nombre_sain         19946\n",
    "nombre_exposed         24\n",
    "nombre_recovered       20\n",
    "Name: 4, dtype: int64"
   ]
  },
  {
   "cell_type": "markdown",
   "id": "36ccdb1f",
   "metadata": {},
   "source": [
    "nombre_infected        10\n",
    "nombre_sain         19935\n",
    "nombre_exposed         34\n",
    "nombre_recovered       21\n",
    "Name: 5, dtype: int64"
   ]
  },
  {
   "cell_type": "markdown",
   "id": "d42dc2a1",
   "metadata": {},
   "source": [
    "nombre_infected        14\n",
    "nombre_sain         19921\n",
    "nombre_exposed         43\n",
    "nombre_recovered       22\n",
    "Name: 6, dtype: int64"
   ]
  },
  {
   "cell_type": "markdown",
   "id": "1b6619ab",
   "metadata": {},
   "source": [
    "nombre_infected        21\n",
    "nombre_sain         19896\n",
    "nombre_exposed         61\n",
    "nombre_recovered       22\n",
    "Name: 7, dtype: int64"
   ]
  },
  {
   "cell_type": "markdown",
   "id": "528382c1",
   "metadata": {},
   "source": [
    "nombre_infected        28\n",
    "nombre_sain         19867\n",
    "nombre_exposed         82\n",
    "nombre_recovered       23\n",
    "Name: 8, dtype: int64"
   ]
  },
  {
   "cell_type": "markdown",
   "id": "14510b01",
   "metadata": {},
   "source": [
    "nombre_infected        43\n",
    "nombre_sain         19837\n",
    "nombre_exposed         97\n",
    "nombre_recovered       23\n",
    "Name: 9, dtype: int64"
   ]
  },
  {
   "cell_type": "markdown",
   "id": "7b536c00",
   "metadata": {},
   "source": [
    "nombre_infected        60\n",
    "nombre_sain         19755\n",
    "nombre_exposed        159\n",
    "nombre_recovered       26\n",
    "Name: 10, dtype: int64"
   ]
  },
  {
   "cell_type": "markdown",
   "id": "f3a72597",
   "metadata": {},
   "source": [
    "nombre_infected        70\n",
    "nombre_sain         19672\n",
    "nombre_exposed        228\n",
    "nombre_recovered       30\n",
    "Name: 11, dtype: int64"
   ]
  },
  {
   "cell_type": "markdown",
   "id": "ad9b57f0",
   "metadata": {},
   "source": [
    "nombre_infected        97\n",
    "nombre_sain         19579\n",
    "nombre_exposed        289\n",
    "nombre_recovered       35\n",
    "Name: 12, dtype: int64"
   ]
  },
  {
   "cell_type": "markdown",
   "id": "80b2780b",
   "metadata": {},
   "source": [
    "nombre_infected       134\n",
    "nombre_sain         19429\n",
    "nombre_exposed        394\n",
    "nombre_recovered       43\n",
    "Name: 13, dtype: int64"
   ]
  },
  {
   "cell_type": "markdown",
   "id": "8d5eadb6",
   "metadata": {},
   "source": [
    "nombre_infected       178\n",
    "nombre_sain         19227\n",
    "nombre_exposed        541\n",
    "nombre_recovered       54\n",
    "Name: 14, dtype: int64"
   ]
  },
  {
   "cell_type": "markdown",
   "id": "75c4745b",
   "metadata": {},
   "source": [
    "nombre_infected       237\n",
    "nombre_sain         18992\n",
    "nombre_exposed        694\n",
    "nombre_recovered       77\n",
    "Name: 15, dtype: int64"
   ]
  },
  {
   "cell_type": "markdown",
   "id": "ba87b2de",
   "metadata": {},
   "source": [
    "nombre_infected       346\n",
    "nombre_sain         18631\n",
    "nombre_exposed        932\n",
    "nombre_recovered       91\n",
    "Name: 16, dtype: int64"
   ]
  },
  {
   "cell_type": "markdown",
   "id": "b3d7d812",
   "metadata": {},
   "source": [
    "nombre_infected       490\n",
    "nombre_sain         18195\n",
    "nombre_exposed       1194\n",
    "nombre_recovered      121\n",
    "Name: 17, dtype: int64"
   ]
  },
  {
   "cell_type": "markdown",
   "id": "0616c4ec",
   "metadata": {},
   "source": [
    "nombre_infected       646\n",
    "nombre_sain         17610\n",
    "nombre_exposed       1582\n",
    "nombre_recovered      162\n",
    "Name: 18, dtype: int64"
   ]
  },
  {
   "cell_type": "markdown",
   "id": "0fda9121",
   "metadata": {},
   "source": [
    "nombre_infected       862\n",
    "nombre_sain         16859\n",
    "nombre_exposed       2065\n",
    "nombre_recovered      214\n",
    "Name: 19, dtype: int64"
   ]
  },
  {
   "cell_type": "markdown",
   "id": "e8591878",
   "metadata": {},
   "source": [
    "nombre_infected      1118\n",
    "nombre_sain         15859\n",
    "nombre_exposed       2708\n",
    "nombre_recovered      315\n",
    "Name: 20, dtype: int64"
   ]
  },
  {
   "cell_type": "markdown",
   "id": "e7d37131",
   "metadata": {},
   "source": [
    "nombre_infected      1479\n",
    "nombre_sain         14635\n",
    "nombre_exposed       3472\n",
    "nombre_recovered      414\n",
    "Name: 21, dtype: int64"
   ]
  },
  {
   "cell_type": "markdown",
   "id": "fe50d6f8",
   "metadata": {},
   "source": [
    "nombre_infected      1964\n",
    "nombre_sain         13161\n",
    "nombre_exposed       4323\n",
    "nombre_recovered      552\n",
    "Name: 22, dtype: int64"
   ]
  },
  {
   "cell_type": "markdown",
   "id": "119ab16a",
   "metadata": {},
   "source": [
    "nombre_infected      2600\n",
    "nombre_sain         11585\n",
    "nombre_exposed       5117\n",
    "nombre_recovered      698\n",
    "Name: 23, dtype: int64"
   ]
  },
  {
   "cell_type": "markdown",
   "id": "af828331",
   "metadata": {},
   "source": [
    "nombre_infected     3355\n",
    "nombre_sain         9815\n",
    "nombre_exposed      5903\n",
    "nombre_recovered     927\n",
    "Name: 24, dtype: int64"
   ]
  },
  {
   "cell_type": "markdown",
   "id": "fb14de3c",
   "metadata": {},
   "source": [
    "nombre_infected     4092\n",
    "nombre_sain         8044\n",
    "nombre_exposed      6606\n",
    "nombre_recovered    1258\n",
    "Name: 25, dtype: int64"
   ]
  },
  {
   "cell_type": "markdown",
   "id": "f97b1e1f",
   "metadata": {},
   "source": [
    "nombre_infected     4989\n",
    "nombre_sain         6327\n",
    "nombre_exposed      7042\n",
    "nombre_recovered    1642\n",
    "Name: 26, dtype: int64"
   ]
  },
  {
   "cell_type": "markdown",
   "id": "9c6f39d7",
   "metadata": {},
   "source": [
    "nombre_infected     5942\n",
    "nombre_sain         4799\n",
    "nombre_exposed      7128\n",
    "nombre_recovered    2131\n",
    "Name: 27, dtype: int64"
   ]
  },
  {
   "cell_type": "markdown",
   "id": "4b6426e1",
   "metadata": {},
   "source": [
    "nombre_infected     6846\n",
    "nombre_sain         3538\n",
    "nombre_exposed      6904\n",
    "nombre_recovered    2712\n",
    "Name: 28, dtype: int64"
   ]
  },
  {
   "cell_type": "markdown",
   "id": "eb7284fc",
   "metadata": {},
   "source": [
    "nombre_infected     7684\n",
    "nombre_sain         2508\n",
    "nombre_exposed      6390\n",
    "nombre_recovered    3418\n",
    "Name: 29, dtype: int64"
   ]
  },
  {
   "cell_type": "markdown",
   "id": "11622a0a",
   "metadata": {},
   "source": [
    "nombre_infected     8382\n",
    "nombre_sain         1735\n",
    "nombre_exposed      5674\n",
    "nombre_recovered    4209\n",
    "Name: 30, dtype: int64"
   ]
  },
  {
   "cell_type": "markdown",
   "id": "26102787",
   "metadata": {},
   "source": [
    "nombre_infected     8748\n",
    "nombre_sain         1188\n",
    "nombre_exposed      4928\n",
    "nombre_recovered    5136\n",
    "Name: 31, dtype: int64"
   ]
  },
  {
   "cell_type": "markdown",
   "id": "36122183",
   "metadata": {},
   "source": [
    "nombre_infected     9005\n",
    "nombre_sain          811\n",
    "nombre_exposed      4050\n",
    "nombre_recovered    6134\n",
    "Name: 32, dtype: int64"
   ]
  },
  {
   "cell_type": "markdown",
   "id": "395d81cd",
   "metadata": {},
   "source": [
    "nombre_infected     9042\n",
    "nombre_sain          562\n",
    "nombre_exposed      3249\n",
    "nombre_recovered    7147\n",
    "Name: 33, dtype: int64"
   ]
  },
  {
   "cell_type": "markdown",
   "id": "a1aa0a62",
   "metadata": {},
   "source": [
    "nombre_infected     8843\n",
    "nombre_sain          391\n",
    "nombre_exposed      2535\n",
    "nombre_recovered    8231\n",
    "Name: 34, dtype: int64"
   ]
  },
  {
   "cell_type": "markdown",
   "id": "a3d88794",
   "metadata": {},
   "source": [
    "nombre_infected     8415\n",
    "nombre_sain          285\n",
    "nombre_exposed      1979\n",
    "nombre_recovered    9321\n",
    "Name: 35, dtype: int64"
   ]
  },
  {
   "cell_type": "markdown",
   "id": "d2b55f44",
   "metadata": {},
   "source": [
    "nombre_infected      7986\n",
    "nombre_sain           222\n",
    "nombre_exposed       1507\n",
    "nombre_recovered    10285\n",
    "Name: 36, dtype: int64"
   ]
  },
  {
   "cell_type": "markdown",
   "id": "67a6e29e",
   "metadata": {},
   "source": [
    "nombre_infected      7414\n",
    "nombre_sain           191\n",
    "nombre_exposed       1119\n",
    "nombre_recovered    11276\n",
    "Name: 37, dtype: int64"
   ]
  },
  {
   "cell_type": "markdown",
   "id": "85614ca9",
   "metadata": {},
   "source": [
    "nombre_infected      6801\n",
    "nombre_sain           177\n",
    "nombre_exposed        822\n",
    "nombre_recovered    12200\n",
    "Name: 38, dtype: int64"
   ]
  },
  {
   "cell_type": "markdown",
   "id": "2f4c63f3",
   "metadata": {},
   "source": [
    "nombre_infected      6239\n",
    "nombre_sain           157\n",
    "nombre_exposed        613\n",
    "nombre_recovered    12991\n",
    "Name: 39, dtype: int64"
   ]
  },
  {
   "cell_type": "markdown",
   "id": "61ab993c",
   "metadata": {},
   "source": [
    "nombre_infected      5604\n",
    "nombre_sain           160\n",
    "nombre_exposed        464\n",
    "nombre_recovered    13772\n",
    "Name: 40, dtype: int64"
   ]
  },
  {
   "cell_type": "markdown",
   "id": "8351e944",
   "metadata": {},
   "source": [
    "nombre_infected      5122\n",
    "nombre_sain           168\n",
    "nombre_exposed        335\n",
    "nombre_recovered    14375\n",
    "Name: 41, dtype: int64"
   ]
  },
  {
   "cell_type": "markdown",
   "id": "43fbcbd6",
   "metadata": {},
   "source": [
    "nombre_infected      4633\n",
    "nombre_sain           163\n",
    "nombre_exposed        247\n",
    "nombre_recovered    14957\n",
    "Name: 42, dtype: int64"
   ]
  },
  {
   "cell_type": "markdown",
   "id": "1b591d39",
   "metadata": {},
   "source": [
    "nombre_infected      4128\n",
    "nombre_sain           152\n",
    "nombre_exposed        200\n",
    "nombre_recovered    15520\n",
    "Name: 43, dtype: int64"
   ]
  },
  {
   "cell_type": "markdown",
   "id": "d50fe2e2",
   "metadata": {},
   "source": [
    "nombre_infected      3680\n",
    "nombre_sain           154\n",
    "nombre_exposed        156\n",
    "nombre_recovered    16010\n",
    "Name: 44, dtype: int64"
   ]
  },
  {
   "cell_type": "markdown",
   "id": "dbe8e036",
   "metadata": {},
   "source": [
    "nombre_infected      3283\n",
    "nombre_sain           156\n",
    "nombre_exposed        142\n",
    "nombre_recovered    16419\n",
    "Name: 45, dtype: int64"
   ]
  },
  {
   "cell_type": "markdown",
   "id": "e3310ae9",
   "metadata": {},
   "source": [
    "nombre_infected      2897\n",
    "nombre_sain           172\n",
    "nombre_exposed        133\n",
    "nombre_recovered    16798\n",
    "Name: 46, dtype: int64"
   ]
  },
  {
   "cell_type": "markdown",
   "id": "e79ffd65",
   "metadata": {},
   "source": [
    "nombre_infected      2570\n",
    "nombre_sain           193\n",
    "nombre_exposed        112\n",
    "nombre_recovered    17125\n",
    "Name: 47, dtype: int64"
   ]
  },
  {
   "cell_type": "markdown",
   "id": "0c85a01a",
   "metadata": {},
   "source": [
    "nombre_infected      2250\n",
    "nombre_sain           229\n",
    "nombre_exposed         83\n",
    "nombre_recovered    17438\n",
    "Name: 48, dtype: int64"
   ]
  },
  {
   "cell_type": "markdown",
   "id": "b9825d1f",
   "metadata": {},
   "source": [
    "nombre_infected      1987\n",
    "nombre_sain           263\n",
    "nombre_exposed         84\n",
    "nombre_recovered    17666\n",
    "Name: 49, dtype: int64"
   ]
  },
  {
   "cell_type": "markdown",
   "id": "58dcc6e7",
   "metadata": {},
   "source": [
    "nombre_infected      1774\n",
    "nombre_sain           286\n",
    "nombre_exposed         80\n",
    "nombre_recovered    17860\n",
    "Name: 50, dtype: int64"
   ]
  },
  {
   "cell_type": "markdown",
   "id": "2de929e0",
   "metadata": {},
   "source": [
    "nombre_infected      1590\n",
    "nombre_sain           309\n",
    "nombre_exposed         97\n",
    "nombre_recovered    18004\n",
    "Name: 51, dtype: int64"
   ]
  },
  {
   "cell_type": "markdown",
   "id": "c845d572",
   "metadata": {},
   "source": [
    "nombre_infected      1401\n",
    "nombre_sain           320\n",
    "nombre_exposed        100\n",
    "nombre_recovered    18179\n",
    "Name: 52, dtype: int64"
   ]
  },
  {
   "cell_type": "markdown",
   "id": "61f50791",
   "metadata": {},
   "source": [
    "nombre_infected      1256\n",
    "nombre_sain           355\n",
    "nombre_exposed        105\n",
    "nombre_recovered    18284\n",
    "Name: 53, dtype: int64"
   ]
  },
  {
   "cell_type": "markdown",
   "id": "2d24bd2a",
   "metadata": {},
   "source": [
    "nombre_infected      1089\n",
    "nombre_sain           394\n",
    "nombre_exposed         99\n",
    "nombre_recovered    18418\n",
    "Name: 54, dtype: int64"
   ]
  },
  {
   "cell_type": "markdown",
   "id": "cdd20bc6",
   "metadata": {},
   "source": [
    "nombre_infected       962\n",
    "nombre_sain           404\n",
    "nombre_exposed        118\n",
    "nombre_recovered    18516\n",
    "Name: 55, dtype: int64"
   ]
  },
  {
   "cell_type": "markdown",
   "id": "98f67e6b",
   "metadata": {},
   "source": [
    "nombre_infected       842\n",
    "nombre_sain           443\n",
    "nombre_exposed        109\n",
    "nombre_recovered    18606\n",
    "Name: 56, dtype: int64"
   ]
  },
  {
   "cell_type": "markdown",
   "id": "9cfc2e1b",
   "metadata": {},
   "source": [
    "nombre_infected       719\n",
    "nombre_sain           493\n",
    "nombre_exposed        102\n",
    "nombre_recovered    18686\n",
    "Name: 57, dtype: int64"
   ]
  },
  {
   "cell_type": "markdown",
   "id": "99819fbe",
   "metadata": {},
   "source": [
    "nombre_infected       652\n",
    "nombre_sain           524\n",
    "nombre_exposed         97\n",
    "nombre_recovered    18727\n",
    "Name: 58, dtype: int64"
   ]
  },
  {
   "cell_type": "markdown",
   "id": "c1c4249a",
   "metadata": {},
   "source": [
    "nombre_infected       537\n",
    "nombre_sain           570\n",
    "nombre_exposed         91\n",
    "nombre_recovered    18802\n",
    "Name: 59, dtype: int64"
   ]
  },
  {
   "cell_type": "markdown",
   "id": "2ef49f96",
   "metadata": {},
   "source": [
    "nombre_infected       454\n",
    "nombre_sain           607\n",
    "nombre_exposed         88\n",
    "nombre_recovered    18851\n",
    "Name: 60, dtype: int64"
   ]
  },
  {
   "cell_type": "markdown",
   "id": "013ad8f4",
   "metadata": {},
   "source": [
    "nombre_infected       383\n",
    "nombre_sain           656\n",
    "nombre_exposed         85\n",
    "nombre_recovered    18876\n",
    "Name: 61, dtype: int64"
   ]
  },
  {
   "cell_type": "markdown",
   "id": "8ba681d3",
   "metadata": {},
   "source": [
    "nombre_infected       328\n",
    "nombre_sain           713\n",
    "nombre_exposed         87\n",
    "nombre_recovered    18872\n",
    "Name: 62, dtype: int64"
   ]
  },
  {
   "cell_type": "markdown",
   "id": "6bf5c067",
   "metadata": {},
   "source": [
    "nombre_infected       281\n",
    "nombre_sain           745\n",
    "nombre_exposed         73\n",
    "nombre_recovered    18901\n",
    "Name: 63, dtype: int64"
   ]
  },
  {
   "cell_type": "markdown",
   "id": "717c312b",
   "metadata": {},
   "source": [
    "nombre_infected       244\n",
    "nombre_sain           792\n",
    "nombre_exposed         61\n",
    "nombre_recovered    18903\n",
    "Name: 64, dtype: int64"
   ]
  },
  {
   "cell_type": "markdown",
   "id": "c4bca83f",
   "metadata": {},
   "source": [
    "nombre_infected       201\n",
    "nombre_sain           838\n",
    "nombre_exposed         55\n",
    "nombre_recovered    18906\n",
    "Name: 65, dtype: int64"
   ]
  },
  {
   "cell_type": "markdown",
   "id": "38324384",
   "metadata": {},
   "source": [
    "nombre_infected       182\n",
    "nombre_sain           892\n",
    "nombre_exposed         50\n",
    "nombre_recovered    18876\n",
    "Name: 66, dtype: int64"
   ]
  },
  {
   "cell_type": "markdown",
   "id": "ee4f1b89",
   "metadata": {},
   "source": [
    "nombre_infected       154\n",
    "nombre_sain           945\n",
    "nombre_exposed         47\n",
    "nombre_recovered    18854\n",
    "Name: 67, dtype: int64"
   ]
  },
  {
   "cell_type": "markdown",
   "id": "61878bb3",
   "metadata": {},
   "source": [
    "nombre_infected       125\n",
    "nombre_sain           996\n",
    "nombre_exposed         50\n",
    "nombre_recovered    18829\n",
    "Name: 68, dtype: int64"
   ]
  },
  {
   "cell_type": "markdown",
   "id": "4493a195",
   "metadata": {},
   "source": [
    "nombre_infected       114\n",
    "nombre_sain          1057\n",
    "nombre_exposed         43\n",
    "nombre_recovered    18786\n",
    "Name: 69, dtype: int64"
   ]
  },
  {
   "cell_type": "markdown",
   "id": "3daf4fd6",
   "metadata": {},
   "source": [
    "nombre_infected        99\n",
    "nombre_sain          1112\n",
    "nombre_exposed         42\n",
    "nombre_recovered    18747\n",
    "Name: 70, dtype: int64"
   ]
  },
  {
   "cell_type": "markdown",
   "id": "3df62c2c",
   "metadata": {},
   "source": [
    "nombre_infected        87\n",
    "nombre_sain          1155\n",
    "nombre_exposed         44\n",
    "nombre_recovered    18714\n",
    "Name: 71, dtype: int64"
   ]
  },
  {
   "cell_type": "markdown",
   "id": "5e83c3c0",
   "metadata": {},
   "source": [
    "nombre_infected        75\n",
    "nombre_sain          1211\n",
    "nombre_exposed         42\n",
    "nombre_recovered    18672\n",
    "Name: 72, dtype: int64"
   ]
  },
  {
   "cell_type": "markdown",
   "id": "deff565b",
   "metadata": {},
   "source": [
    "nombre_infected        66\n",
    "nombre_sain          1271\n",
    "nombre_exposed         34\n",
    "nombre_recovered    18629\n",
    "Name: 73, dtype: int64"
   ]
  },
  {
   "cell_type": "markdown",
   "id": "2d90d9eb",
   "metadata": {},
   "source": [
    "nombre_infected        64\n",
    "nombre_sain          1334\n",
    "nombre_exposed         32\n",
    "nombre_recovered    18570\n",
    "Name: 74, dtype: int64"
   ]
  },
  {
   "cell_type": "markdown",
   "id": "e71589d9",
   "metadata": {},
   "source": [
    "nombre_infected        59\n",
    "nombre_sain          1392\n",
    "nombre_exposed         30\n",
    "nombre_recovered    18519\n",
    "Name: 75, dtype: int64"
   ]
  },
  {
   "cell_type": "markdown",
   "id": "b90361e6",
   "metadata": {},
   "source": [
    "nombre_infected        50\n",
    "nombre_sain          1451\n",
    "nombre_exposed         30\n",
    "nombre_recovered    18469\n",
    "Name: 76, dtype: int64"
   ]
  },
  {
   "cell_type": "markdown",
   "id": "13ff6131",
   "metadata": {},
   "source": [
    "nombre_infected        55\n",
    "nombre_sain          1505\n",
    "nombre_exposed         26\n",
    "nombre_recovered    18414\n",
    "Name: 77, dtype: int64"
   ]
  },
  {
   "cell_type": "markdown",
   "id": "b3ef1bb1",
   "metadata": {},
   "source": [
    "nombre_infected        53\n",
    "nombre_sain          1552\n",
    "nombre_exposed         25\n",
    "nombre_recovered    18370\n",
    "Name: 78, dtype: int64"
   ]
  },
  {
   "cell_type": "markdown",
   "id": "553e1931",
   "metadata": {},
   "source": [
    "nombre_infected        50\n",
    "nombre_sain          1606\n",
    "nombre_exposed         19\n",
    "nombre_recovered    18325\n",
    "Name: 79, dtype: int64"
   ]
  },
  {
   "cell_type": "markdown",
   "id": "9b5e6b5d",
   "metadata": {},
   "source": [
    "nombre_infected        50\n",
    "nombre_sain          1650\n",
    "nombre_exposed         20\n",
    "nombre_recovered    18280\n",
    "Name: 80, dtype: int64"
   ]
  },
  {
   "cell_type": "markdown",
   "id": "4c644c9d",
   "metadata": {},
   "source": [
    "nombre_infected        49\n",
    "nombre_sain          1695\n",
    "nombre_exposed         21\n",
    "nombre_recovered    18235\n",
    "Name: 81, dtype: int64"
   ]
  },
  {
   "cell_type": "markdown",
   "id": "4f739571",
   "metadata": {},
   "source": [
    "nombre_infected        47\n",
    "nombre_sain          1740\n",
    "nombre_exposed         28\n",
    "nombre_recovered    18185\n",
    "Name: 82, dtype: int64"
   ]
  },
  {
   "cell_type": "markdown",
   "id": "0bc13789",
   "metadata": {},
   "source": [
    "nombre_infected        46\n",
    "nombre_sain          1781\n",
    "nombre_exposed         24\n",
    "nombre_recovered    18149\n",
    "Name: 83, dtype: int64"
   ]
  },
  {
   "cell_type": "markdown",
   "id": "741064ba",
   "metadata": {},
   "source": [
    "nombre_infected        45\n",
    "nombre_sain          1815\n",
    "nombre_exposed         25\n",
    "nombre_recovered    18115\n",
    "Name: 84, dtype: int64"
   ]
  },
  {
   "cell_type": "markdown",
   "id": "81cc1ba6",
   "metadata": {},
   "source": [
    "nombre_infected        49\n",
    "nombre_sain          1864\n",
    "nombre_exposed         24\n",
    "nombre_recovered    18063\n",
    "Name: 85, dtype: int64"
   ]
  },
  {
   "cell_type": "markdown",
   "id": "909e933b",
   "metadata": {},
   "source": [
    "nombre_infected        47\n",
    "nombre_sain          1907\n",
    "nombre_exposed         24\n",
    "nombre_recovered    18022\n",
    "Name: 86, dtype: int64"
   ]
  },
  {
   "cell_type": "markdown",
   "id": "bb48e7bf",
   "metadata": {},
   "source": [
    "nombre_infected        47\n",
    "nombre_sain          1942\n",
    "nombre_exposed         32\n",
    "nombre_recovered    17979\n",
    "Name: 87, dtype: int64"
   ]
  },
  {
   "cell_type": "markdown",
   "id": "66eff77b",
   "metadata": {},
   "source": [
    "nombre_infected        41\n",
    "nombre_sain          1999\n",
    "nombre_exposed         32\n",
    "nombre_recovered    17928\n",
    "Name: 88, dtype: int64"
   ]
  },
  {
   "cell_type": "markdown",
   "id": "a451f1d1",
   "metadata": {},
   "source": [
    "nombre_infected        45\n",
    "nombre_sain          2057\n",
    "nombre_exposed         29\n",
    "nombre_recovered    17869\n",
    "Name: 89, dtype: int64"
   ]
  },
  {
   "cell_type": "markdown",
   "id": "a52c9eeb",
   "metadata": {},
   "source": [
    "nombre_infected        44\n",
    "nombre_sain          2126\n",
    "nombre_exposed         26\n",
    "nombre_recovered    17804\n",
    "Name: 90, dtype: int64"
   ]
  },
  {
   "cell_type": "markdown",
   "id": "b51166c8",
   "metadata": {},
   "source": [
    "nombre_infected        44\n",
    "nombre_sain          2178\n",
    "nombre_exposed         30\n",
    "nombre_recovered    17748\n",
    "Name: 91, dtype: int64"
   ]
  },
  {
   "cell_type": "markdown",
   "id": "5e890b44",
   "metadata": {},
   "source": [
    "nombre_infected        46\n",
    "nombre_sain          2229\n",
    "nombre_exposed         25\n",
    "nombre_recovered    17700\n",
    "Name: 92, dtype: int64"
   ]
  },
  {
   "cell_type": "markdown",
   "id": "b328cf47",
   "metadata": {},
   "source": [
    "nombre_infected        45\n",
    "nombre_sain          2284\n",
    "nombre_exposed         29\n",
    "nombre_recovered    17642\n",
    "Name: 93, dtype: int64"
   ]
  },
  {
   "cell_type": "markdown",
   "id": "6c995b3d",
   "metadata": {},
   "source": [
    "nombre_infected        44\n",
    "nombre_sain          2333\n",
    "nombre_exposed         32\n",
    "nombre_recovered    17591\n",
    "Name: 94, dtype: int64"
   ]
  },
  {
   "cell_type": "markdown",
   "id": "7fdec97f",
   "metadata": {},
   "source": [
    "nombre_infected        46\n",
    "nombre_sain          2393\n",
    "nombre_exposed         27\n",
    "nombre_recovered    17534\n",
    "Name: 95, dtype: int64"
   ]
  },
  {
   "cell_type": "markdown",
   "id": "d8d589d6",
   "metadata": {},
   "source": [
    "nombre_infected        37\n",
    "nombre_sain          2448\n",
    "nombre_exposed         27\n",
    "nombre_recovered    17488\n",
    "Name: 96, dtype: int64"
   ]
  },
  {
   "cell_type": "markdown",
   "id": "af409d9e",
   "metadata": {},
   "source": [
    "nombre_infected        37\n",
    "nombre_sain          2509\n",
    "nombre_exposed         26\n",
    "nombre_recovered    17428\n",
    "Name: 97, dtype: int64"
   ]
  },
  {
   "cell_type": "markdown",
   "id": "947b297d",
   "metadata": {},
   "source": [
    "nombre_infected        36\n",
    "nombre_sain          2561\n",
    "nombre_exposed         26\n",
    "nombre_recovered    17377\n",
    "Name: 98, dtype: int64"
   ]
  },
  {
   "cell_type": "markdown",
   "id": "a06f3074",
   "metadata": {},
   "source": [
    "nombre_infected        33\n",
    "nombre_sain          2614\n",
    "nombre_exposed         23\n",
    "nombre_recovered    17330\n",
    "Name: 99, dtype: int64"
   ]
  },
  {
   "cell_type": "markdown",
   "id": "1fc9054a",
   "metadata": {},
   "source": [
    "nombre_infected        33\n",
    "nombre_sain          2666\n",
    "nombre_exposed         18\n",
    "nombre_recovered    17283\n",
    "Name: 100, dtype: int64"
   ]
  },
  {
   "cell_type": "markdown",
   "id": "795ca080",
   "metadata": {},
   "source": [
    "nombre_infected        30\n",
    "nombre_sain          2714\n",
    "nombre_exposed         22\n",
    "nombre_recovered    17234\n",
    "Name: 101, dtype: int64"
   ]
  },
  {
   "cell_type": "markdown",
   "id": "76a7b5d4",
   "metadata": {},
   "source": [
    "nombre_infected        29\n",
    "nombre_sain          2768\n",
    "nombre_exposed         27\n",
    "nombre_recovered    17176\n",
    "Name: 102, dtype: int64"
   ]
  },
  {
   "cell_type": "markdown",
   "id": "947ae7cc",
   "metadata": {},
   "source": [
    "nombre_infected        30\n",
    "nombre_sain          2824\n",
    "nombre_exposed         26\n",
    "nombre_recovered    17120\n",
    "Name: 103, dtype: int64"
   ]
  },
  {
   "cell_type": "markdown",
   "id": "e2d79ff7",
   "metadata": {},
   "source": [
    "nombre_infected        29\n",
    "nombre_sain          2875\n",
    "nombre_exposed         26\n",
    "nombre_recovered    17070\n",
    "Name: 104, dtype: int64"
   ]
  },
  {
   "cell_type": "markdown",
   "id": "2f80ea8b",
   "metadata": {},
   "source": [
    "nombre_infected        33\n",
    "nombre_sain          2920\n",
    "nombre_exposed         22\n",
    "nombre_recovered    17025\n",
    "Name: 105, dtype: int64"
   ]
  },
  {
   "cell_type": "markdown",
   "id": "93c2d77e",
   "metadata": {},
   "source": [
    "nombre_infected        36\n",
    "nombre_sain          2973\n",
    "nombre_exposed         22\n",
    "nombre_recovered    16969\n",
    "Name: 106, dtype: int64"
   ]
  },
  {
   "cell_type": "markdown",
   "id": "df483408",
   "metadata": {},
   "source": [
    "nombre_infected        37\n",
    "nombre_sain          3025\n",
    "nombre_exposed         27\n",
    "nombre_recovered    16911\n",
    "Name: 107, dtype: int64"
   ]
  },
  {
   "cell_type": "markdown",
   "id": "89d8cc15",
   "metadata": {},
   "source": [
    "nombre_infected        34\n",
    "nombre_sain          3085\n",
    "nombre_exposed         32\n",
    "nombre_recovered    16849\n",
    "Name: 108, dtype: int64"
   ]
  },
  {
   "cell_type": "markdown",
   "id": "1b82fba5",
   "metadata": {},
   "source": [
    "nombre_infected        39\n",
    "nombre_sain          3157\n",
    "nombre_exposed         26\n",
    "nombre_recovered    16778\n",
    "Name: 109, dtype: int64"
   ]
  },
  {
   "cell_type": "markdown",
   "id": "1c6406b9",
   "metadata": {},
   "source": [
    "nombre_infected        43\n",
    "nombre_sain          3205\n",
    "nombre_exposed         29\n",
    "nombre_recovered    16723\n",
    "Name: 110, dtype: int64"
   ]
  },
  {
   "cell_type": "markdown",
   "id": "d84ee36b",
   "metadata": {},
   "source": [
    "nombre_infected        40\n",
    "nombre_sain          3266\n",
    "nombre_exposed         33\n",
    "nombre_recovered    16661\n",
    "Name: 111, dtype: int64"
   ]
  },
  {
   "cell_type": "markdown",
   "id": "b46cac99",
   "metadata": {},
   "source": [
    "nombre_infected        40\n",
    "nombre_sain          3302\n",
    "nombre_exposed         37\n",
    "nombre_recovered    16621\n",
    "Name: 112, dtype: int64"
   ]
  },
  {
   "cell_type": "markdown",
   "id": "e2ac7ddc",
   "metadata": {},
   "source": [
    "nombre_infected        41\n",
    "nombre_sain          3350\n",
    "nombre_exposed         38\n",
    "nombre_recovered    16571\n",
    "Name: 113, dtype: int64"
   ]
  },
  {
   "cell_type": "markdown",
   "id": "896b0bee",
   "metadata": {},
   "source": [
    "nombre_infected        41\n",
    "nombre_sain          3377\n",
    "nombre_exposed         36\n",
    "nombre_recovered    16546\n",
    "Name: 114, dtype: int64"
   ]
  },
  {
   "cell_type": "markdown",
   "id": "e71c66fb",
   "metadata": {},
   "source": [
    "nombre_infected        47\n",
    "nombre_sain          3402\n",
    "nombre_exposed         36\n",
    "nombre_recovered    16515\n",
    "Name: 115, dtype: int64"
   ]
  },
  {
   "cell_type": "markdown",
   "id": "08d60eb9",
   "metadata": {},
   "source": [
    "nombre_infected        47\n",
    "nombre_sain          3437\n",
    "nombre_exposed         34\n",
    "nombre_recovered    16482\n",
    "Name: 116, dtype: int64"
   ]
  },
  {
   "cell_type": "markdown",
   "id": "16bafb89",
   "metadata": {},
   "source": [
    "nombre_infected        47\n",
    "nombre_sain          3471\n",
    "nombre_exposed         37\n",
    "nombre_recovered    16445\n",
    "Name: 117, dtype: int64"
   ]
  },
  {
   "cell_type": "markdown",
   "id": "032c3a0e",
   "metadata": {},
   "source": [
    "nombre_infected        52\n",
    "nombre_sain          3493\n",
    "nombre_exposed         37\n",
    "nombre_recovered    16418\n",
    "Name: 118, dtype: int64"
   ]
  },
  {
   "cell_type": "markdown",
   "id": "48cec80a",
   "metadata": {},
   "source": [
    "nombre_infected        53\n",
    "nombre_sain          3518\n",
    "nombre_exposed         46\n",
    "nombre_recovered    16383\n",
    "Name: 119, dtype: int64"
   ]
  },
  {
   "cell_type": "markdown",
   "id": "eb9daa1e",
   "metadata": {},
   "source": [
    "nombre_infected        56\n",
    "nombre_sain          3544\n",
    "nombre_exposed         48\n",
    "nombre_recovered    16352\n",
    "Name: 120, dtype: int64"
   ]
  },
  {
   "cell_type": "markdown",
   "id": "2b9f690d",
   "metadata": {},
   "source": [
    "nombre_infected        56\n",
    "nombre_sain          3575\n",
    "nombre_exposed         48\n",
    "nombre_recovered    16321\n",
    "Name: 121, dtype: int64"
   ]
  },
  {
   "cell_type": "markdown",
   "id": "c520b981",
   "metadata": {},
   "source": [
    "nombre_infected        59\n",
    "nombre_sain          3626\n",
    "nombre_exposed         51\n",
    "nombre_recovered    16264\n",
    "Name: 122, dtype: int64"
   ]
  },
  {
   "cell_type": "markdown",
   "id": "5e5806f8",
   "metadata": {},
   "source": [
    "nombre_infected        64\n",
    "nombre_sain          3668\n",
    "nombre_exposed         49\n",
    "nombre_recovered    16219\n",
    "Name: 123, dtype: int64"
   ]
  },
  {
   "cell_type": "markdown",
   "id": "9851b76e",
   "metadata": {},
   "source": [
    "nombre_infected        64\n",
    "nombre_sain          3709\n",
    "nombre_exposed         49\n",
    "nombre_recovered    16178\n",
    "Name: 124, dtype: int64"
   ]
  },
  {
   "cell_type": "markdown",
   "id": "4a46dc7b",
   "metadata": {},
   "source": [
    "nombre_infected        68\n",
    "nombre_sain          3758\n",
    "nombre_exposed         48\n",
    "nombre_recovered    16126\n",
    "Name: 125, dtype: int64"
   ]
  },
  {
   "cell_type": "markdown",
   "id": "da906f30",
   "metadata": {},
   "source": [
    "nombre_infected        68\n",
    "nombre_sain          3793\n",
    "nombre_exposed         57\n",
    "nombre_recovered    16082\n",
    "Name: 126, dtype: int64"
   ]
  },
  {
   "cell_type": "markdown",
   "id": "123e0c69",
   "metadata": {},
   "source": [
    "nombre_infected        70\n",
    "nombre_sain          3814\n",
    "nombre_exposed         65\n",
    "nombre_recovered    16051\n",
    "Name: 127, dtype: int64"
   ]
  },
  {
   "cell_type": "markdown",
   "id": "a3347107",
   "metadata": {},
   "source": [
    "nombre_infected        74\n",
    "nombre_sain          3840\n",
    "nombre_exposed         76\n",
    "nombre_recovered    16010\n",
    "Name: 128, dtype: int64"
   ]
  },
  {
   "cell_type": "markdown",
   "id": "c32d7a57",
   "metadata": {},
   "source": [
    "nombre_infected        81\n",
    "nombre_sain          3880\n",
    "nombre_exposed         75\n",
    "nombre_recovered    15964\n",
    "Name: 129, dtype: int64"
   ]
  },
  {
   "cell_type": "markdown",
   "id": "39225325",
   "metadata": {},
   "source": [
    "nombre_infected        84\n",
    "nombre_sain          3905\n",
    "nombre_exposed         80\n",
    "nombre_recovered    15931\n",
    "Name: 130, dtype: int64"
   ]
  },
  {
   "cell_type": "markdown",
   "id": "349bf495",
   "metadata": {},
   "source": [
    "nombre_infected        85\n",
    "nombre_sain          3930\n",
    "nombre_exposed         87\n",
    "nombre_recovered    15898\n",
    "Name: 131, dtype: int64"
   ]
  },
  {
   "cell_type": "markdown",
   "id": "1d9d95c3",
   "metadata": {},
   "source": [
    "nombre_infected        89\n",
    "nombre_sain          3950\n",
    "nombre_exposed         90\n",
    "nombre_recovered    15871\n",
    "Name: 132, dtype: int64"
   ]
  },
  {
   "cell_type": "markdown",
   "id": "c2359d08",
   "metadata": {},
   "source": [
    "nombre_infected        98\n",
    "nombre_sain          3966\n",
    "nombre_exposed        102\n",
    "nombre_recovered    15834\n",
    "Name: 133, dtype: int64"
   ]
  },
  {
   "cell_type": "markdown",
   "id": "63c8fb9d",
   "metadata": {},
   "source": [
    "nombre_infected       109\n",
    "nombre_sain          3985\n",
    "nombre_exposed        111\n",
    "nombre_recovered    15795\n",
    "Name: 134, dtype: int64"
   ]
  },
  {
   "cell_type": "markdown",
   "id": "943e716f",
   "metadata": {},
   "source": [
    "nombre_infected       119\n",
    "nombre_sain          4006\n",
    "nombre_exposed        113\n",
    "nombre_recovered    15762\n",
    "Name: 135, dtype: int64"
   ]
  },
  {
   "cell_type": "markdown",
   "id": "733b2514",
   "metadata": {},
   "source": [
    "nombre_infected       124\n",
    "nombre_sain          4005\n",
    "nombre_exposed        118\n",
    "nombre_recovered    15753\n",
    "Name: 136, dtype: int64"
   ]
  },
  {
   "cell_type": "markdown",
   "id": "8c4c0f2f",
   "metadata": {},
   "source": [
    "nombre_infected       127\n",
    "nombre_sain          4009\n",
    "nombre_exposed        139\n",
    "nombre_recovered    15725\n",
    "Name: 137, dtype: int64"
   ]
  },
  {
   "cell_type": "markdown",
   "id": "025b8e4c",
   "metadata": {},
   "source": [
    "nombre_infected       131\n",
    "nombre_sain          4011\n",
    "nombre_exposed        142\n",
    "nombre_recovered    15716\n",
    "Name: 138, dtype: int64"
   ]
  },
  {
   "cell_type": "markdown",
   "id": "f9ba3e6e",
   "metadata": {},
   "source": [
    "nombre_infected       149\n",
    "nombre_sain          4022\n",
    "nombre_exposed        142\n",
    "nombre_recovered    15687\n",
    "Name: 139, dtype: int64"
   ]
  },
  {
   "cell_type": "markdown",
   "id": "a6834fc0",
   "metadata": {},
   "source": [
    "nombre_infected       158\n",
    "nombre_sain          4023\n",
    "nombre_exposed        146\n",
    "nombre_recovered    15673\n",
    "Name: 140, dtype: int64"
   ]
  },
  {
   "cell_type": "markdown",
   "id": "28f53370",
   "metadata": {},
   "source": [
    "nombre_infected       176\n",
    "nombre_sain          4025\n",
    "nombre_exposed        147\n",
    "nombre_recovered    15652\n",
    "Name: 141, dtype: int64"
   ]
  },
  {
   "cell_type": "markdown",
   "id": "25b07b0a",
   "metadata": {},
   "source": [
    "nombre_infected       192\n",
    "nombre_sain          4001\n",
    "nombre_exposed        173\n",
    "nombre_recovered    15634\n",
    "Name: 142, dtype: int64"
   ]
  },
  {
   "cell_type": "markdown",
   "id": "505090fc",
   "metadata": {},
   "source": [
    "nombre_infected       195\n",
    "nombre_sain          3991\n",
    "nombre_exposed        196\n",
    "nombre_recovered    15618\n",
    "Name: 143, dtype: int64"
   ]
  },
  {
   "cell_type": "markdown",
   "id": "99b9eaf5",
   "metadata": {},
   "source": [
    "nombre_infected       215\n",
    "nombre_sain          3976\n",
    "nombre_exposed        198\n",
    "nombre_recovered    15611\n",
    "Name: 144, dtype: int64"
   ]
  },
  {
   "cell_type": "markdown",
   "id": "642a662c",
   "metadata": {},
   "source": [
    "nombre_infected       229\n",
    "nombre_sain          3949\n",
    "nombre_exposed        224\n",
    "nombre_recovered    15598\n",
    "Name: 145, dtype: int64"
   ]
  },
  {
   "cell_type": "markdown",
   "id": "4c5acf2d",
   "metadata": {},
   "source": [
    "nombre_infected       247\n",
    "nombre_sain          3932\n",
    "nombre_exposed        240\n",
    "nombre_recovered    15581\n",
    "Name: 146, dtype: int64"
   ]
  },
  {
   "cell_type": "markdown",
   "id": "57918982",
   "metadata": {},
   "source": [
    "nombre_infected       256\n",
    "nombre_sain          3901\n",
    "nombre_exposed        262\n",
    "nombre_recovered    15581\n",
    "Name: 147, dtype: int64"
   ]
  },
  {
   "cell_type": "markdown",
   "id": "3968649f",
   "metadata": {},
   "source": [
    "nombre_infected       277\n",
    "nombre_sain          3866\n",
    "nombre_exposed        287\n",
    "nombre_recovered    15570\n",
    "Name: 148, dtype: int64"
   ]
  },
  {
   "cell_type": "markdown",
   "id": "42cb5172",
   "metadata": {},
   "source": [
    "nombre_infected       308\n",
    "nombre_sain          3839\n",
    "nombre_exposed        306\n",
    "nombre_recovered    15547\n",
    "Name: 149, dtype: int64"
   ]
  },
  {
   "cell_type": "markdown",
   "id": "abd525e9",
   "metadata": {},
   "source": [
    "nombre_infected       332\n",
    "nombre_sain          3784\n",
    "nombre_exposed        330\n",
    "nombre_recovered    15554\n",
    "Name: 150, dtype: int64"
   ]
  },
  {
   "cell_type": "markdown",
   "id": "ffd5dd71",
   "metadata": {},
   "source": [
    "nombre_infected       358\n",
    "nombre_sain          3757\n",
    "nombre_exposed        349\n",
    "nombre_recovered    15536\n",
    "Name: 151, dtype: int64"
   ]
  },
  {
   "cell_type": "markdown",
   "id": "2f64cc1c",
   "metadata": {},
   "source": [
    "nombre_infected       392\n",
    "nombre_sain          3710\n",
    "nombre_exposed        379\n",
    "nombre_recovered    15519\n",
    "Name: 152, dtype: int64"
   ]
  },
  {
   "cell_type": "markdown",
   "id": "e9915b58",
   "metadata": {},
   "source": [
    "nombre_infected       409\n",
    "nombre_sain          3672\n",
    "nombre_exposed        403\n",
    "nombre_recovered    15516\n",
    "Name: 153, dtype: int64"
   ]
  },
  {
   "cell_type": "markdown",
   "id": "793fc8c4",
   "metadata": {},
   "source": [
    "nombre_infected       454\n",
    "nombre_sain          3646\n",
    "nombre_exposed        405\n",
    "nombre_recovered    15495\n",
    "Name: 154, dtype: int64"
   ]
  },
  {
   "cell_type": "markdown",
   "id": "56a23dec",
   "metadata": {},
   "source": [
    "nombre_infected       465\n",
    "nombre_sain          3609\n",
    "nombre_exposed        425\n",
    "nombre_recovered    15501\n",
    "Name: 155, dtype: int64"
   ]
  },
  {
   "cell_type": "markdown",
   "id": "d7a227a4",
   "metadata": {},
   "source": [
    "nombre_infected       509\n",
    "nombre_sain          3557\n",
    "nombre_exposed        440\n",
    "nombre_recovered    15494\n",
    "Name: 156, dtype: int64"
   ]
  },
  {
   "cell_type": "markdown",
   "id": "8437e835",
   "metadata": {},
   "source": [
    "nombre_infected       520\n",
    "nombre_sain          3503\n",
    "nombre_exposed        480\n",
    "nombre_recovered    15497\n",
    "Name: 157, dtype: int64"
   ]
  },
  {
   "cell_type": "markdown",
   "id": "eadb3af9",
   "metadata": {},
   "source": [
    "nombre_infected       533\n",
    "nombre_sain          3476\n",
    "nombre_exposed        499\n",
    "nombre_recovered    15492\n",
    "Name: 158, dtype: int64"
   ]
  },
  {
   "cell_type": "markdown",
   "id": "e490d7fc",
   "metadata": {},
   "source": [
    "nombre_infected       601\n",
    "nombre_sain          3438\n",
    "nombre_exposed        498\n",
    "nombre_recovered    15463\n",
    "Name: 159, dtype: int64"
   ]
  },
  {
   "cell_type": "markdown",
   "id": "6e19c6a6",
   "metadata": {},
   "source": [
    "nombre_infected       644\n",
    "nombre_sain          3410\n",
    "nombre_exposed        498\n",
    "nombre_recovered    15448\n",
    "Name: 160, dtype: int64"
   ]
  },
  {
   "cell_type": "markdown",
   "id": "85b0a61a",
   "metadata": {},
   "source": [
    "nombre_infected       656\n",
    "nombre_sain          3338\n",
    "nombre_exposed        540\n",
    "nombre_recovered    15466\n",
    "Name: 161, dtype: int64"
   ]
  },
  {
   "cell_type": "markdown",
   "id": "412a8272",
   "metadata": {},
   "source": [
    "nombre_infected       684\n",
    "nombre_sain          3280\n",
    "nombre_exposed        570\n",
    "nombre_recovered    15466\n",
    "Name: 162, dtype: int64"
   ]
  },
  {
   "cell_type": "markdown",
   "id": "a76d6fee",
   "metadata": {},
   "source": [
    "nombre_infected       713\n",
    "nombre_sain          3201\n",
    "nombre_exposed        599\n",
    "nombre_recovered    15487\n",
    "Name: 163, dtype: int64"
   ]
  },
  {
   "cell_type": "markdown",
   "id": "cec989e2",
   "metadata": {},
   "source": [
    "nombre_infected       758\n",
    "nombre_sain          3120\n",
    "nombre_exposed        624\n",
    "nombre_recovered    15498\n",
    "Name: 164, dtype: int64"
   ]
  },
  {
   "cell_type": "markdown",
   "id": "e4cf18de",
   "metadata": {},
   "source": [
    "nombre_infected       801\n",
    "nombre_sain          3027\n",
    "nombre_exposed        662\n",
    "nombre_recovered    15510\n",
    "Name: 165, dtype: int64"
   ]
  },
  {
   "cell_type": "markdown",
   "id": "9b587156",
   "metadata": {},
   "source": [
    "nombre_infected       835\n",
    "nombre_sain          2930\n",
    "nombre_exposed        697\n",
    "nombre_recovered    15538\n",
    "Name: 166, dtype: int64"
   ]
  },
  {
   "cell_type": "markdown",
   "id": "ed579e32",
   "metadata": {},
   "source": [
    "nombre_infected       894\n",
    "nombre_sain          2847\n",
    "nombre_exposed        692\n",
    "nombre_recovered    15567\n",
    "Name: 167, dtype: int64"
   ]
  },
  {
   "cell_type": "markdown",
   "id": "2ca1bccb",
   "metadata": {},
   "source": [
    "nombre_infected       950\n",
    "nombre_sain          2741\n",
    "nombre_exposed        688\n",
    "nombre_recovered    15621\n",
    "Name: 168, dtype: int64"
   ]
  },
  {
   "cell_type": "markdown",
   "id": "65bc24fe",
   "metadata": {},
   "source": [
    "nombre_infected       988\n",
    "nombre_sain          2656\n",
    "nombre_exposed        680\n",
    "nombre_recovered    15676\n",
    "Name: 169, dtype: int64"
   ]
  },
  {
   "cell_type": "markdown",
   "id": "92691ee0",
   "metadata": {},
   "source": [
    "nombre_infected      1018\n",
    "nombre_sain          2558\n",
    "nombre_exposed        676\n",
    "nombre_recovered    15748\n",
    "Name: 170, dtype: int64"
   ]
  },
  {
   "cell_type": "markdown",
   "id": "9343fe0b",
   "metadata": {},
   "source": [
    "nombre_infected      1022\n",
    "nombre_sain          2441\n",
    "nombre_exposed        708\n",
    "nombre_recovered    15829\n",
    "Name: 171, dtype: int64"
   ]
  },
  {
   "cell_type": "markdown",
   "id": "70b20cbe",
   "metadata": {},
   "source": [
    "nombre_infected      1027\n",
    "nombre_sain          2359\n",
    "nombre_exposed        710\n",
    "nombre_recovered    15904\n",
    "Name: 172, dtype: int64"
   ]
  },
  {
   "cell_type": "markdown",
   "id": "4e2f6c8f",
   "metadata": {},
   "source": [
    "nombre_infected      1062\n",
    "nombre_sain          2273\n",
    "nombre_exposed        693\n",
    "nombre_recovered    15972\n",
    "Name: 173, dtype: int64"
   ]
  },
  {
   "cell_type": "markdown",
   "id": "ec10b602",
   "metadata": {},
   "source": [
    "nombre_infected      1075\n",
    "nombre_sain          2188\n",
    "nombre_exposed        699\n",
    "nombre_recovered    16038\n",
    "Name: 174, dtype: int64"
   ]
  },
  {
   "cell_type": "markdown",
   "id": "9a8a7424",
   "metadata": {},
   "source": [
    "nombre_infected      1074\n",
    "nombre_sain          2120\n",
    "nombre_exposed        687\n",
    "nombre_recovered    16119\n",
    "Name: 175, dtype: int64"
   ]
  },
  {
   "cell_type": "markdown",
   "id": "d91505cc",
   "metadata": {},
   "source": [
    "nombre_infected      1084\n",
    "nombre_sain          2060\n",
    "nombre_exposed        669\n",
    "nombre_recovered    16187\n",
    "Name: 176, dtype: int64"
   ]
  },
  {
   "cell_type": "markdown",
   "id": "65722161",
   "metadata": {},
   "source": [
    "nombre_infected      1081\n",
    "nombre_sain          2000\n",
    "nombre_exposed        642\n",
    "nombre_recovered    16277\n",
    "Name: 177, dtype: int64"
   ]
  },
  {
   "cell_type": "markdown",
   "id": "d20e1fde",
   "metadata": {},
   "source": [
    "nombre_infected      1094\n",
    "nombre_sain          1930\n",
    "nombre_exposed        621\n",
    "nombre_recovered    16355\n",
    "Name: 178, dtype: int64"
   ]
  },
  {
   "cell_type": "markdown",
   "id": "c4d720ae",
   "metadata": {},
   "source": [
    "nombre_infected      1098\n",
    "nombre_sain          1867\n",
    "nombre_exposed        625\n",
    "nombre_recovered    16410\n",
    "Name: 179, dtype: int64"
   ]
  },
  {
   "cell_type": "markdown",
   "id": "7220367f",
   "metadata": {},
   "source": [
    "nombre_infected      1076\n",
    "nombre_sain          1811\n",
    "nombre_exposed        623\n",
    "nombre_recovered    16490\n",
    "Name: 180, dtype: int64"
   ]
  },
  {
   "cell_type": "markdown",
   "id": "e743f42a",
   "metadata": {},
   "source": [
    "nombre_infected      1062\n",
    "nombre_sain          1748\n",
    "nombre_exposed        614\n",
    "nombre_recovered    16576\n",
    "Name: 181, dtype: int64"
   ]
  },
  {
   "cell_type": "markdown",
   "id": "8c38e21b",
   "metadata": {},
   "source": [
    "nombre_infected      1041\n",
    "nombre_sain          1713\n",
    "nombre_exposed        611\n",
    "nombre_recovered    16635\n",
    "Name: 182, dtype: int64"
   ]
  },
  {
   "cell_type": "markdown",
   "id": "e12b2d89",
   "metadata": {},
   "source": [
    "nombre_infected      1049\n",
    "nombre_sain          1675\n",
    "nombre_exposed        578\n",
    "nombre_recovered    16698\n",
    "Name: 183, dtype: int64"
   ]
  },
  {
   "cell_type": "markdown",
   "id": "f11f9000",
   "metadata": {},
   "source": [
    "nombre_infected      1072\n",
    "nombre_sain          1632\n",
    "nombre_exposed        557\n",
    "nombre_recovered    16739\n",
    "Name: 184, dtype: int64"
   ]
  },
  {
   "cell_type": "markdown",
   "id": "ee8f56a7",
   "metadata": {},
   "source": [
    "nombre_infected      1051\n",
    "nombre_sain          1611\n",
    "nombre_exposed        533\n",
    "nombre_recovered    16805\n",
    "Name: 185, dtype: int64"
   ]
  },
  {
   "cell_type": "markdown",
   "id": "91628ae2",
   "metadata": {},
   "source": [
    "nombre_infected      1010\n",
    "nombre_sain          1577\n",
    "nombre_exposed        536\n",
    "nombre_recovered    16877\n",
    "Name: 186, dtype: int64"
   ]
  },
  {
   "cell_type": "markdown",
   "id": "bd3ce7e5",
   "metadata": {},
   "source": [
    "nombre_infected      1000\n",
    "nombre_sain          1576\n",
    "nombre_exposed        487\n",
    "nombre_recovered    16937\n",
    "Name: 187, dtype: int64"
   ]
  },
  {
   "cell_type": "markdown",
   "id": "a8c3999a",
   "metadata": {},
   "source": [
    "nombre_infected       991\n",
    "nombre_sain          1559\n",
    "nombre_exposed        472\n",
    "nombre_recovered    16978\n",
    "Name: 188, dtype: int64"
   ]
  },
  {
   "cell_type": "markdown",
   "id": "16cfa4fc",
   "metadata": {},
   "source": [
    "nombre_infected       960\n",
    "nombre_sain          1553\n",
    "nombre_exposed        439\n",
    "nombre_recovered    17048\n",
    "Name: 189, dtype: int64"
   ]
  },
  {
   "cell_type": "markdown",
   "id": "a3cccf68",
   "metadata": {},
   "source": [
    "nombre_infected       927\n",
    "nombre_sain          1527\n",
    "nombre_exposed        440\n",
    "nombre_recovered    17106\n",
    "Name: 190, dtype: int64"
   ]
  },
  {
   "cell_type": "markdown",
   "id": "ada6daa9",
   "metadata": {},
   "source": [
    "nombre_infected       922\n",
    "nombre_sain          1531\n",
    "nombre_exposed        402\n",
    "nombre_recovered    17145\n",
    "Name: 191, dtype: int64"
   ]
  },
  {
   "cell_type": "markdown",
   "id": "fd8a7782",
   "metadata": {},
   "source": [
    "nombre_infected       899\n",
    "nombre_sain          1532\n",
    "nombre_exposed        378\n",
    "nombre_recovered    17191\n",
    "Name: 192, dtype: int64"
   ]
  },
  {
   "cell_type": "markdown",
   "id": "4db02147",
   "metadata": {},
   "source": [
    "nombre_infected       874\n",
    "nombre_sain          1516\n",
    "nombre_exposed        380\n",
    "nombre_recovered    17230\n",
    "Name: 193, dtype: int64"
   ]
  },
  {
   "cell_type": "markdown",
   "id": "2bf7db64",
   "metadata": {},
   "source": [
    "nombre_infected       841\n",
    "nombre_sain          1514\n",
    "nombre_exposed        391\n",
    "nombre_recovered    17254\n",
    "Name: 194, dtype: int64"
   ]
  },
  {
   "cell_type": "markdown",
   "id": "48edc5e7",
   "metadata": {},
   "source": [
    "nombre_infected       831\n",
    "nombre_sain          1521\n",
    "nombre_exposed        377\n",
    "nombre_recovered    17271\n",
    "Name: 195, dtype: int64"
   ]
  },
  {
   "cell_type": "markdown",
   "id": "ad3b97f9",
   "metadata": {},
   "source": [
    "nombre_infected       793\n",
    "nombre_sain          1522\n",
    "nombre_exposed        363\n",
    "nombre_recovered    17322\n",
    "Name: 196, dtype: int64"
   ]
  },
  {
   "cell_type": "markdown",
   "id": "91e99726",
   "metadata": {},
   "source": [
    "nombre_infected       773\n",
    "nombre_sain          1517\n",
    "nombre_exposed        363\n",
    "nombre_recovered    17347\n",
    "Name: 197, dtype: int64"
   ]
  },
  {
   "cell_type": "markdown",
   "id": "88a702dd",
   "metadata": {},
   "source": [
    "nombre_infected       742\n",
    "nombre_sain          1540\n",
    "nombre_exposed        342\n",
    "nombre_recovered    17376\n",
    "Name: 198, dtype: int64"
   ]
  },
  {
   "cell_type": "markdown",
   "id": "8c52f821",
   "metadata": {},
   "source": [
    "nombre_infected       727\n",
    "nombre_sain          1553\n",
    "nombre_exposed        318\n",
    "nombre_recovered    17402\n",
    "Name: 199, dtype: int64"
   ]
  },
  {
   "cell_type": "markdown",
   "id": "bb6b1710",
   "metadata": {},
   "source": [
    "nombre_infected       707\n",
    "nombre_sain          1575\n",
    "nombre_exposed        326\n",
    "nombre_recovered    17392\n",
    "Name: 200, dtype: int64"
   ]
  },
  {
   "cell_type": "markdown",
   "id": "9e92304f",
   "metadata": {},
   "source": [
    "nombre_infected       676\n",
    "nombre_sain          1583\n",
    "nombre_exposed        339\n",
    "nombre_recovered    17402\n",
    "Name: 201, dtype: int64"
   ]
  },
  {
   "cell_type": "markdown",
   "id": "69e0f989",
   "metadata": {},
   "source": [
    "nombre_infected       650\n",
    "nombre_sain          1622\n",
    "nombre_exposed        316\n",
    "nombre_recovered    17412\n",
    "Name: 202, dtype: int64"
   ]
  },
  {
   "cell_type": "markdown",
   "id": "9882a60f",
   "metadata": {},
   "source": [
    "nombre_infected       618\n",
    "nombre_sain          1664\n",
    "nombre_exposed        313\n",
    "nombre_recovered    17405\n",
    "Name: 203, dtype: int64"
   ]
  },
  {
   "cell_type": "markdown",
   "id": "fd1c7766",
   "metadata": {},
   "source": [
    "nombre_infected       618\n",
    "nombre_sain          1686\n",
    "nombre_exposed        310\n",
    "nombre_recovered    17386\n",
    "Name: 204, dtype: int64"
   ]
  },
  {
   "cell_type": "markdown",
   "id": "c52dc03f",
   "metadata": {},
   "source": [
    "nombre_infected       592\n",
    "nombre_sain          1701\n",
    "nombre_exposed        313\n",
    "nombre_recovered    17394\n",
    "Name: 205, dtype: int64"
   ]
  },
  {
   "cell_type": "markdown",
   "id": "6fd49fdb",
   "metadata": {},
   "source": [
    "nombre_infected       567\n",
    "nombre_sain          1720\n",
    "nombre_exposed        308\n",
    "nombre_recovered    17405\n",
    "Name: 206, dtype: int64"
   ]
  },
  {
   "cell_type": "markdown",
   "id": "52e1f6f3",
   "metadata": {},
   "source": [
    "nombre_infected       560\n",
    "nombre_sain          1765\n",
    "nombre_exposed        304\n",
    "nombre_recovered    17371\n",
    "Name: 207, dtype: int64"
   ]
  },
  {
   "cell_type": "markdown",
   "id": "725d2a93",
   "metadata": {},
   "source": [
    "nombre_infected       566\n",
    "nombre_sain          1810\n",
    "nombre_exposed        309\n",
    "nombre_recovered    17315\n",
    "Name: 208, dtype: int64"
   ]
  },
  {
   "cell_type": "markdown",
   "id": "f3977b2d",
   "metadata": {},
   "source": [
    "nombre_infected       557\n",
    "nombre_sain          1843\n",
    "nombre_exposed        304\n",
    "nombre_recovered    17296\n",
    "Name: 209, dtype: int64"
   ]
  },
  {
   "cell_type": "markdown",
   "id": "28eceda2",
   "metadata": {},
   "source": [
    "nombre_infected       554\n",
    "nombre_sain          1878\n",
    "nombre_exposed        301\n",
    "nombre_recovered    17267\n",
    "Name: 210, dtype: int64"
   ]
  },
  {
   "cell_type": "markdown",
   "id": "02032241",
   "metadata": {},
   "source": [
    "nombre_infected       549\n",
    "nombre_sain          1868\n",
    "nombre_exposed        314\n",
    "nombre_recovered    17269\n",
    "Name: 211, dtype: int64"
   ]
  },
  {
   "cell_type": "markdown",
   "id": "f1e96506",
   "metadata": {},
   "source": [
    "nombre_infected       539\n",
    "nombre_sain          1906\n",
    "nombre_exposed        323\n",
    "nombre_recovered    17232\n",
    "Name: 212, dtype: int64"
   ]
  },
  {
   "cell_type": "markdown",
   "id": "f120350e",
   "metadata": {},
   "source": [
    "nombre_infected       559\n",
    "nombre_sain          1953\n",
    "nombre_exposed        308\n",
    "nombre_recovered    17180\n",
    "Name: 213, dtype: int64"
   ]
  },
  {
   "cell_type": "markdown",
   "id": "b39faa51",
   "metadata": {},
   "source": [
    "nombre_infected       560\n",
    "nombre_sain          1994\n",
    "nombre_exposed        311\n",
    "nombre_recovered    17135\n",
    "Name: 214, dtype: int64"
   ]
  },
  {
   "cell_type": "markdown",
   "id": "2964ad0c",
   "metadata": {},
   "source": [
    "nombre_infected       542\n",
    "nombre_sain          2042\n",
    "nombre_exposed        304\n",
    "nombre_recovered    17112\n",
    "Name: 215, dtype: int64"
   ]
  },
  {
   "cell_type": "markdown",
   "id": "64ee1d89",
   "metadata": {},
   "source": [
    "nombre_infected       575\n",
    "nombre_sain          2073\n",
    "nombre_exposed        279\n",
    "nombre_recovered    17073\n",
    "Name: 216, dtype: int64"
   ]
  },
  {
   "cell_type": "markdown",
   "id": "ad78fcd9",
   "metadata": {},
   "source": [
    "nombre_infected       564\n",
    "nombre_sain          2103\n",
    "nombre_exposed        291\n",
    "nombre_recovered    17042\n",
    "Name: 217, dtype: int64"
   ]
  },
  {
   "cell_type": "markdown",
   "id": "731708cb",
   "metadata": {},
   "source": [
    "nombre_infected       564\n",
    "nombre_sain          2097\n",
    "nombre_exposed        319\n",
    "nombre_recovered    17020\n",
    "Name: 218, dtype: int64"
   ]
  },
  {
   "cell_type": "markdown",
   "id": "b4b2d582",
   "metadata": {},
   "source": [
    "nombre_infected       551\n",
    "nombre_sain          2133\n",
    "nombre_exposed        326\n",
    "nombre_recovered    16990\n",
    "Name: 219, dtype: int64"
   ]
  },
  {
   "cell_type": "markdown",
   "id": "28d8f8f2",
   "metadata": {},
   "source": [
    "nombre_infected       542\n",
    "nombre_sain          2163\n",
    "nombre_exposed        331\n",
    "nombre_recovered    16964\n",
    "Name: 220, dtype: int64"
   ]
  },
  {
   "cell_type": "markdown",
   "id": "9595d203",
   "metadata": {},
   "source": [
    "nombre_infected       547\n",
    "nombre_sain          2198\n",
    "nombre_exposed        340\n",
    "nombre_recovered    16915\n",
    "Name: 221, dtype: int64"
   ]
  },
  {
   "cell_type": "markdown",
   "id": "c999cabb",
   "metadata": {},
   "source": [
    "nombre_infected       533\n",
    "nombre_sain          2191\n",
    "nombre_exposed        356\n",
    "nombre_recovered    16920\n",
    "Name: 222, dtype: int64"
   ]
  },
  {
   "cell_type": "markdown",
   "id": "76dccc70",
   "metadata": {},
   "source": [
    "nombre_infected       530\n",
    "nombre_sain          2227\n",
    "nombre_exposed        348\n",
    "nombre_recovered    16895\n",
    "Name: 223, dtype: int64"
   ]
  },
  {
   "cell_type": "markdown",
   "id": "93e276ad",
   "metadata": {},
   "source": [
    "nombre_infected       533\n",
    "nombre_sain          2249\n",
    "nombre_exposed        348\n",
    "nombre_recovered    16870\n",
    "Name: 224, dtype: int64"
   ]
  },
  {
   "cell_type": "markdown",
   "id": "adff5b06",
   "metadata": {},
   "source": [
    "nombre_infected       541\n",
    "nombre_sain          2270\n",
    "nombre_exposed        343\n",
    "nombre_recovered    16846\n",
    "Name: 225, dtype: int64"
   ]
  },
  {
   "cell_type": "markdown",
   "id": "cd0b39e8",
   "metadata": {},
   "source": [
    "nombre_infected       554\n",
    "nombre_sain          2304\n",
    "nombre_exposed        343\n",
    "nombre_recovered    16799\n",
    "Name: 226, dtype: int64"
   ]
  },
  {
   "cell_type": "markdown",
   "id": "6ad2cf2e",
   "metadata": {},
   "source": [
    "nombre_infected       539\n",
    "nombre_sain          2322\n",
    "nombre_exposed        359\n",
    "nombre_recovered    16780\n",
    "Name: 227, dtype: int64"
   ]
  },
  {
   "cell_type": "markdown",
   "id": "72e7c38e",
   "metadata": {},
   "source": [
    "nombre_infected       534\n",
    "nombre_sain          2342\n",
    "nombre_exposed        352\n",
    "nombre_recovered    16772\n",
    "Name: 228, dtype: int64"
   ]
  },
  {
   "cell_type": "markdown",
   "id": "65580524",
   "metadata": {},
   "source": [
    "nombre_infected       541\n",
    "nombre_sain          2344\n",
    "nombre_exposed        369\n",
    "nombre_recovered    16746\n",
    "Name: 229, dtype: int64"
   ]
  },
  {
   "cell_type": "markdown",
   "id": "265b637d",
   "metadata": {},
   "source": [
    "nombre_infected       546\n",
    "nombre_sain          2367\n",
    "nombre_exposed        376\n",
    "nombre_recovered    16711\n",
    "Name: 230, dtype: int64"
   ]
  },
  {
   "cell_type": "markdown",
   "id": "be4e4d56",
   "metadata": {},
   "source": [
    "nombre_infected       577\n",
    "nombre_sain          2376\n",
    "nombre_exposed        369\n",
    "nombre_recovered    16678\n",
    "Name: 231, dtype: int64"
   ]
  },
  {
   "cell_type": "markdown",
   "id": "5843ae73",
   "metadata": {},
   "source": [
    "nombre_infected       570\n",
    "nombre_sain          2399\n",
    "nombre_exposed        379\n",
    "nombre_recovered    16652\n",
    "Name: 232, dtype: int64"
   ]
  },
  {
   "cell_type": "markdown",
   "id": "35689412",
   "metadata": {},
   "source": [
    "nombre_infected       578\n",
    "nombre_sain          2416\n",
    "nombre_exposed        374\n",
    "nombre_recovered    16632\n",
    "Name: 233, dtype: int64"
   ]
  },
  {
   "cell_type": "markdown",
   "id": "8fe5782b",
   "metadata": {},
   "source": [
    "nombre_infected       580\n",
    "nombre_sain          2417\n",
    "nombre_exposed        402\n",
    "nombre_recovered    16601\n",
    "Name: 234, dtype: int64"
   ]
  },
  {
   "cell_type": "markdown",
   "id": "b43f7218",
   "metadata": {},
   "source": [
    "nombre_infected       591\n",
    "nombre_sain          2453\n",
    "nombre_exposed        398\n",
    "nombre_recovered    16558\n",
    "Name: 235, dtype: int64"
   ]
  },
  {
   "cell_type": "markdown",
   "id": "bc2b9524",
   "metadata": {},
   "source": [
    "nombre_infected       586\n",
    "nombre_sain          2462\n",
    "nombre_exposed        405\n",
    "nombre_recovered    16547\n",
    "Name: 236, dtype: int64"
   ]
  },
  {
   "cell_type": "markdown",
   "id": "5ba64f24",
   "metadata": {},
   "source": [
    "nombre_infected       607\n",
    "nombre_sain          2471\n",
    "nombre_exposed        386\n",
    "nombre_recovered    16536\n",
    "Name: 237, dtype: int64"
   ]
  },
  {
   "cell_type": "markdown",
   "id": "cc655ec0",
   "metadata": {},
   "source": [
    "nombre_infected       613\n",
    "nombre_sain          2484\n",
    "nombre_exposed        398\n",
    "nombre_recovered    16505\n",
    "Name: 238, dtype: int64"
   ]
  },
  {
   "cell_type": "markdown",
   "id": "bb2d4ef7",
   "metadata": {},
   "source": [
    "nombre_infected       610\n",
    "nombre_sain          2496\n",
    "nombre_exposed        400\n",
    "nombre_recovered    16494\n",
    "Name: 239, dtype: int64"
   ]
  },
  {
   "cell_type": "markdown",
   "id": "bfc88439",
   "metadata": {},
   "source": [
    "nombre_infected       621\n",
    "nombre_sain          2501\n",
    "nombre_exposed        419\n",
    "nombre_recovered    16459\n",
    "Name: 240, dtype: int64"
   ]
  },
  {
   "cell_type": "markdown",
   "id": "2f2e5d7f",
   "metadata": {},
   "source": [
    "nombre_infected       634\n",
    "nombre_sain          2506\n",
    "nombre_exposed        418\n",
    "nombre_recovered    16442\n",
    "Name: 241, dtype: int64"
   ]
  },
  {
   "cell_type": "markdown",
   "id": "5b65b27b",
   "metadata": {},
   "source": [
    "nombre_infected       614\n",
    "nombre_sain          2511\n",
    "nombre_exposed        447\n",
    "nombre_recovered    16428\n",
    "Name: 242, dtype: int64"
   ]
  },
  {
   "cell_type": "markdown",
   "id": "a390af7a",
   "metadata": {},
   "source": [
    "nombre_infected       653\n",
    "nombre_sain          2489\n",
    "nombre_exposed        447\n",
    "nombre_recovered    16411\n",
    "Name: 243, dtype: int64"
   ]
  },
  {
   "cell_type": "markdown",
   "id": "6f63e20c",
   "metadata": {},
   "source": [
    "nombre_infected       649\n",
    "nombre_sain          2505\n",
    "nombre_exposed        466\n",
    "nombre_recovered    16380\n",
    "Name: 244, dtype: int64"
   ]
  },
  {
   "cell_type": "markdown",
   "id": "a7ab80d2",
   "metadata": {},
   "source": [
    "nombre_infected       689\n",
    "nombre_sain          2508\n",
    "nombre_exposed        450\n",
    "nombre_recovered    16353\n",
    "Name: 245, dtype: int64"
   ]
  },
  {
   "cell_type": "markdown",
   "id": "a3d9d807",
   "metadata": {},
   "source": [
    "nombre_infected       697\n",
    "nombre_sain          2519\n",
    "nombre_exposed        445\n",
    "nombre_recovered    16339\n",
    "Name: 246, dtype: int64"
   ]
  },
  {
   "cell_type": "markdown",
   "id": "c9047054",
   "metadata": {},
   "source": [
    "nombre_infected       699\n",
    "nombre_sain          2503\n",
    "nombre_exposed        457\n",
    "nombre_recovered    16341\n",
    "Name: 247, dtype: int64"
   ]
  },
  {
   "cell_type": "markdown",
   "id": "47646cec",
   "metadata": {},
   "source": [
    "nombre_infected       705\n",
    "nombre_sain          2486\n",
    "nombre_exposed        463\n",
    "nombre_recovered    16346\n",
    "Name: 248, dtype: int64"
   ]
  },
  {
   "cell_type": "markdown",
   "id": "ded7c660",
   "metadata": {},
   "source": [
    "nombre_infected       702\n",
    "nombre_sain          2453\n",
    "nombre_exposed        469\n",
    "nombre_recovered    16376\n",
    "Name: 249, dtype: int64"
   ]
  },
  {
   "cell_type": "markdown",
   "id": "43b1b0d3",
   "metadata": {},
   "source": [
    "nombre_infected       705\n",
    "nombre_sain          2433\n",
    "nombre_exposed        479\n",
    "nombre_recovered    16383\n",
    "Name: 250, dtype: int64"
   ]
  },
  {
   "cell_type": "markdown",
   "id": "9c647498",
   "metadata": {},
   "source": [
    "nombre_infected       725\n",
    "nombre_sain          2434\n",
    "nombre_exposed        473\n",
    "nombre_recovered    16368\n",
    "Name: 251, dtype: int64"
   ]
  },
  {
   "cell_type": "markdown",
   "id": "e1dd95a6",
   "metadata": {},
   "source": [
    "nombre_infected       706\n",
    "nombre_sain          2414\n",
    "nombre_exposed        479\n",
    "nombre_recovered    16401\n",
    "Name: 252, dtype: int64"
   ]
  },
  {
   "cell_type": "markdown",
   "id": "b5fe383b",
   "metadata": {},
   "source": [
    "nombre_infected       716\n",
    "nombre_sain          2426\n",
    "nombre_exposed        478\n",
    "nombre_recovered    16380\n",
    "Name: 253, dtype: int64"
   ]
  },
  {
   "cell_type": "markdown",
   "id": "5f53b137",
   "metadata": {},
   "source": [
    "nombre_infected       736\n",
    "nombre_sain          2386\n",
    "nombre_exposed        480\n",
    "nombre_recovered    16398\n",
    "Name: 254, dtype: int64"
   ]
  },
  {
   "cell_type": "markdown",
   "id": "bf158895",
   "metadata": {},
   "source": [
    "nombre_infected       739\n",
    "nombre_sain          2347\n",
    "nombre_exposed        511\n",
    "nombre_recovered    16403\n",
    "Name: 255, dtype: int64"
   ]
  },
  {
   "cell_type": "markdown",
   "id": "dd0e96ac",
   "metadata": {},
   "source": [
    "nombre_infected       739\n",
    "nombre_sain          2365\n",
    "nombre_exposed        512\n",
    "nombre_recovered    16384\n",
    "Name: 256, dtype: int64"
   ]
  },
  {
   "cell_type": "markdown",
   "id": "07c74e52",
   "metadata": {},
   "source": [
    "nombre_infected       743\n",
    "nombre_sain          2365\n",
    "nombre_exposed        509\n",
    "nombre_recovered    16383\n",
    "Name: 257, dtype: int64"
   ]
  },
  {
   "cell_type": "markdown",
   "id": "07efb81c",
   "metadata": {},
   "source": [
    "nombre_infected       740\n",
    "nombre_sain          2360\n",
    "nombre_exposed        500\n",
    "nombre_recovered    16400\n",
    "Name: 258, dtype: int64"
   ]
  },
  {
   "cell_type": "markdown",
   "id": "d59285f2",
   "metadata": {},
   "source": [
    "nombre_infected       749\n",
    "nombre_sain          2333\n",
    "nombre_exposed        512\n",
    "nombre_recovered    16406\n",
    "Name: 259, dtype: int64"
   ]
  },
  {
   "cell_type": "markdown",
   "id": "d69b4660",
   "metadata": {},
   "source": [
    "nombre_infected       788\n",
    "nombre_sain          2341\n",
    "nombre_exposed        470\n",
    "nombre_recovered    16401\n",
    "Name: 260, dtype: int64"
   ]
  },
  {
   "cell_type": "markdown",
   "id": "4469eeea",
   "metadata": {},
   "source": [
    "nombre_infected       785\n",
    "nombre_sain          2340\n",
    "nombre_exposed        478\n",
    "nombre_recovered    16397\n",
    "Name: 261, dtype: int64"
   ]
  },
  {
   "cell_type": "markdown",
   "id": "bfec24ef",
   "metadata": {},
   "source": [
    "nombre_infected       783\n",
    "nombre_sain          2302\n",
    "nombre_exposed        487\n",
    "nombre_recovered    16428\n",
    "Name: 262, dtype: int64"
   ]
  },
  {
   "cell_type": "markdown",
   "id": "0f71796f",
   "metadata": {},
   "source": [
    "nombre_infected       812\n",
    "nombre_sain          2282\n",
    "nombre_exposed        481\n",
    "nombre_recovered    16425\n",
    "Name: 263, dtype: int64"
   ]
  },
  {
   "cell_type": "markdown",
   "id": "9bbaee5b",
   "metadata": {},
   "source": [
    "nombre_infected       799\n",
    "nombre_sain          2261\n",
    "nombre_exposed        501\n",
    "nombre_recovered    16439\n",
    "Name: 264, dtype: int64"
   ]
  },
  {
   "cell_type": "markdown",
   "id": "72f28b6c",
   "metadata": {},
   "source": [
    "nombre_infected       803\n",
    "nombre_sain          2272\n",
    "nombre_exposed        478\n",
    "nombre_recovered    16447\n",
    "Name: 265, dtype: int64"
   ]
  },
  {
   "cell_type": "markdown",
   "id": "f51af650",
   "metadata": {},
   "source": [
    "nombre_infected       811\n",
    "nombre_sain          2266\n",
    "nombre_exposed        492\n",
    "nombre_recovered    16431\n",
    "Name: 266, dtype: int64"
   ]
  },
  {
   "cell_type": "markdown",
   "id": "95146e01",
   "metadata": {},
   "source": [
    "nombre_infected       797\n",
    "nombre_sain          2248\n",
    "nombre_exposed        520\n",
    "nombre_recovered    16435\n",
    "Name: 267, dtype: int64"
   ]
  },
  {
   "cell_type": "markdown",
   "id": "3718ff0f",
   "metadata": {},
   "source": [
    "nombre_infected       814\n",
    "nombre_sain          2233\n",
    "nombre_exposed        501\n",
    "nombre_recovered    16452\n",
    "Name: 268, dtype: int64"
   ]
  },
  {
   "cell_type": "markdown",
   "id": "6b41a21a",
   "metadata": {},
   "source": [
    "nombre_infected       805\n",
    "nombre_sain          2210\n",
    "nombre_exposed        504\n",
    "nombre_recovered    16481\n",
    "Name: 269, dtype: int64"
   ]
  },
  {
   "cell_type": "markdown",
   "id": "d390e6e0",
   "metadata": {},
   "source": [
    "nombre_infected       819\n",
    "nombre_sain          2212\n",
    "nombre_exposed        504\n",
    "nombre_recovered    16465\n",
    "Name: 270, dtype: int64"
   ]
  },
  {
   "cell_type": "markdown",
   "id": "7d967760",
   "metadata": {},
   "source": [
    "nombre_infected       816\n",
    "nombre_sain          2180\n",
    "nombre_exposed        526\n",
    "nombre_recovered    16478\n",
    "Name: 271, dtype: int64"
   ]
  },
  {
   "cell_type": "markdown",
   "id": "ce0aab02",
   "metadata": {},
   "source": [
    "nombre_infected       835\n",
    "nombre_sain          2188\n",
    "nombre_exposed        485\n",
    "nombre_recovered    16492\n",
    "Name: 272, dtype: int64"
   ]
  },
  {
   "cell_type": "markdown",
   "id": "a72a7caf",
   "metadata": {},
   "source": [
    "nombre_infected       836\n",
    "nombre_sain          2163\n",
    "nombre_exposed        492\n",
    "nombre_recovered    16509\n",
    "Name: 273, dtype: int64"
   ]
  },
  {
   "cell_type": "markdown",
   "id": "285a765b",
   "metadata": {},
   "source": [
    "nombre_infected       838\n",
    "nombre_sain          2168\n",
    "nombre_exposed        473\n",
    "nombre_recovered    16521\n",
    "Name: 274, dtype: int64"
   ]
  },
  {
   "cell_type": "markdown",
   "id": "94a44a46",
   "metadata": {},
   "source": [
    "nombre_infected       830\n",
    "nombre_sain          2147\n",
    "nombre_exposed        471\n",
    "nombre_recovered    16552\n",
    "Name: 275, dtype: int64"
   ]
  },
  {
   "cell_type": "markdown",
   "id": "f07b289b",
   "metadata": {},
   "source": [
    "nombre_infected       817\n",
    "nombre_sain          2127\n",
    "nombre_exposed        474\n",
    "nombre_recovered    16582\n",
    "Name: 276, dtype: int64"
   ]
  },
  {
   "cell_type": "markdown",
   "id": "d7050b41",
   "metadata": {},
   "source": [
    "nombre_infected       812\n",
    "nombre_sain          2131\n",
    "nombre_exposed        449\n",
    "nombre_recovered    16608\n",
    "Name: 277, dtype: int64"
   ]
  },
  {
   "cell_type": "markdown",
   "id": "9bd95eae",
   "metadata": {},
   "source": [
    "nombre_infected       820\n",
    "nombre_sain          2116\n",
    "nombre_exposed        444\n",
    "nombre_recovered    16620\n",
    "Name: 278, dtype: int64"
   ]
  },
  {
   "cell_type": "markdown",
   "id": "9076fe42",
   "metadata": {},
   "source": [
    "nombre_infected       810\n",
    "nombre_sain          2118\n",
    "nombre_exposed        446\n",
    "nombre_recovered    16626\n",
    "Name: 279, dtype: int64"
   ]
  },
  {
   "cell_type": "markdown",
   "id": "110832d8",
   "metadata": {},
   "source": [
    "nombre_infected       794\n",
    "nombre_sain          2076\n",
    "nombre_exposed        472\n",
    "nombre_recovered    16658\n",
    "Name: 280, dtype: int64"
   ]
  },
  {
   "cell_type": "markdown",
   "id": "f5aee340",
   "metadata": {},
   "source": [
    "nombre_infected       781\n",
    "nombre_sain          2074\n",
    "nombre_exposed        461\n",
    "nombre_recovered    16684\n",
    "Name: 281, dtype: int64"
   ]
  },
  {
   "cell_type": "markdown",
   "id": "37a9fd3d",
   "metadata": {},
   "source": [
    "nombre_infected       766\n",
    "nombre_sain          2067\n",
    "nombre_exposed        470\n",
    "nombre_recovered    16697\n",
    "Name: 282, dtype: int64"
   ]
  },
  {
   "cell_type": "markdown",
   "id": "c95cd9fc",
   "metadata": {},
   "source": [
    "nombre_infected       773\n",
    "nombre_sain          2072\n",
    "nombre_exposed        446\n",
    "nombre_recovered    16709\n",
    "Name: 283, dtype: int64"
   ]
  },
  {
   "cell_type": "markdown",
   "id": "c26929cc",
   "metadata": {},
   "source": [
    "nombre_infected       773\n",
    "nombre_sain          2081\n",
    "nombre_exposed        435\n",
    "nombre_recovered    16711\n",
    "Name: 284, dtype: int64"
   ]
  },
  {
   "cell_type": "markdown",
   "id": "0d0efdce",
   "metadata": {},
   "source": [
    "nombre_infected       767\n",
    "nombre_sain          2082\n",
    "nombre_exposed        446\n",
    "nombre_recovered    16705\n",
    "Name: 285, dtype: int64"
   ]
  },
  {
   "cell_type": "markdown",
   "id": "6f85f790",
   "metadata": {},
   "source": [
    "nombre_infected       776\n",
    "nombre_sain          2109\n",
    "nombre_exposed        419\n",
    "nombre_recovered    16696\n",
    "Name: 286, dtype: int64"
   ]
  },
  {
   "cell_type": "markdown",
   "id": "9096320e",
   "metadata": {},
   "source": [
    "nombre_infected       747\n",
    "nombre_sain          2134\n",
    "nombre_exposed        416\n",
    "nombre_recovered    16703\n",
    "Name: 287, dtype: int64"
   ]
  },
  {
   "cell_type": "markdown",
   "id": "de5810af",
   "metadata": {},
   "source": [
    "nombre_infected       756\n",
    "nombre_sain          2112\n",
    "nombre_exposed        414\n",
    "nombre_recovered    16718\n",
    "Name: 288, dtype: int64"
   ]
  },
  {
   "cell_type": "markdown",
   "id": "31d2eb72",
   "metadata": {},
   "source": [
    "nombre_infected       758\n",
    "nombre_sain          2106\n",
    "nombre_exposed        414\n",
    "nombre_recovered    16722\n",
    "Name: 289, dtype: int64"
   ]
  },
  {
   "cell_type": "markdown",
   "id": "efc5e799",
   "metadata": {},
   "source": [
    "nombre_infected       749\n",
    "nombre_sain          2111\n",
    "nombre_exposed        411\n",
    "nombre_recovered    16729\n",
    "Name: 290, dtype: int64"
   ]
  },
  {
   "cell_type": "markdown",
   "id": "4b4151ea",
   "metadata": {},
   "source": [
    "nombre_infected       746\n",
    "nombre_sain          2109\n",
    "nombre_exposed        409\n",
    "nombre_recovered    16736\n",
    "Name: 291, dtype: int64"
   ]
  },
  {
   "cell_type": "markdown",
   "id": "9da1a1ba",
   "metadata": {},
   "source": [
    "nombre_infected       726\n",
    "nombre_sain          2131\n",
    "nombre_exposed        407\n",
    "nombre_recovered    16736\n",
    "Name: 292, dtype: int64"
   ]
  },
  {
   "cell_type": "markdown",
   "id": "dd72f84f",
   "metadata": {},
   "source": [
    "nombre_infected       727\n",
    "nombre_sain          2135\n",
    "nombre_exposed        397\n",
    "nombre_recovered    16741\n",
    "Name: 293, dtype: int64"
   ]
  },
  {
   "cell_type": "markdown",
   "id": "f555d7ca",
   "metadata": {},
   "source": [
    "nombre_infected       718\n",
    "nombre_sain          2129\n",
    "nombre_exposed        408\n",
    "nombre_recovered    16745\n",
    "Name: 294, dtype: int64"
   ]
  },
  {
   "cell_type": "markdown",
   "id": "4753fa4c",
   "metadata": {},
   "source": [
    "nombre_infected       701\n",
    "nombre_sain          2134\n",
    "nombre_exposed        408\n",
    "nombre_recovered    16757\n",
    "Name: 295, dtype: int64"
   ]
  },
  {
   "cell_type": "markdown",
   "id": "a31c92d4",
   "metadata": {},
   "source": [
    "nombre_infected       674\n",
    "nombre_sain          2159\n",
    "nombre_exposed        419\n",
    "nombre_recovered    16748\n",
    "Name: 296, dtype: int64"
   ]
  },
  {
   "cell_type": "markdown",
   "id": "db08f434",
   "metadata": {},
   "source": [
    "nombre_infected       661\n",
    "nombre_sain          2182\n",
    "nombre_exposed        414\n",
    "nombre_recovered    16743\n",
    "Name: 297, dtype: int64"
   ]
  },
  {
   "cell_type": "markdown",
   "id": "03383819",
   "metadata": {},
   "source": [
    "nombre_infected       649\n",
    "nombre_sain          2212\n",
    "nombre_exposed        392\n",
    "nombre_recovered    16747\n",
    "Name: 298, dtype: int64"
   ]
  },
  {
   "cell_type": "markdown",
   "id": "888dd407",
   "metadata": {},
   "source": [
    "nombre_infected       655\n",
    "nombre_sain          2252\n",
    "nombre_exposed        384\n",
    "nombre_recovered    16709\n",
    "Name: 299, dtype: int64"
   ]
  },
  {
   "cell_type": "markdown",
   "id": "a2be2638",
   "metadata": {},
   "source": [
    "nombre_infected       658\n",
    "nombre_sain          2278\n",
    "nombre_exposed        396\n",
    "nombre_recovered    16668\n",
    "Name: 300, dtype: int64"
   ]
  },
  {
   "cell_type": "markdown",
   "id": "17189584",
   "metadata": {},
   "source": [
    "nombre_infected       663\n",
    "nombre_sain          2318\n",
    "nombre_exposed        387\n",
    "nombre_recovered    16632\n",
    "Name: 301, dtype: int64"
   ]
  },
  {
   "cell_type": "markdown",
   "id": "be4f5291",
   "metadata": {},
   "source": [
    "nombre_infected       668\n",
    "nombre_sain          2343\n",
    "nombre_exposed        372\n",
    "nombre_recovered    16617\n",
    "Name: 302, dtype: int64"
   ]
  },
  {
   "cell_type": "markdown",
   "id": "790a950a",
   "metadata": {},
   "source": [
    "nombre_infected       655\n",
    "nombre_sain          2364\n",
    "nombre_exposed        377\n",
    "nombre_recovered    16604\n",
    "Name: 303, dtype: int64"
   ]
  },
  {
   "cell_type": "markdown",
   "id": "2269d7bb",
   "metadata": {},
   "source": [
    "nombre_infected       643\n",
    "nombre_sain          2372\n",
    "nombre_exposed        400\n",
    "nombre_recovered    16585\n",
    "Name: 304, dtype: int64"
   ]
  },
  {
   "cell_type": "markdown",
   "id": "e2d3d382",
   "metadata": {},
   "source": [
    "nombre_infected       651\n",
    "nombre_sain          2407\n",
    "nombre_exposed        393\n",
    "nombre_recovered    16549\n",
    "Name: 305, dtype: int64"
   ]
  },
  {
   "cell_type": "markdown",
   "id": "a49109bc",
   "metadata": {},
   "source": [
    "nombre_infected       640\n",
    "nombre_sain          2406\n",
    "nombre_exposed        406\n",
    "nombre_recovered    16548\n",
    "Name: 306, dtype: int64"
   ]
  },
  {
   "cell_type": "markdown",
   "id": "eeb4430f",
   "metadata": {},
   "source": [
    "nombre_infected       647\n",
    "nombre_sain          2418\n",
    "nombre_exposed        417\n",
    "nombre_recovered    16518\n",
    "Name: 307, dtype: int64"
   ]
  },
  {
   "cell_type": "markdown",
   "id": "63341651",
   "metadata": {},
   "source": [
    "nombre_infected       673\n",
    "nombre_sain          2446\n",
    "nombre_exposed        422\n",
    "nombre_recovered    16459\n",
    "Name: 308, dtype: int64"
   ]
  },
  {
   "cell_type": "markdown",
   "id": "04cba522",
   "metadata": {},
   "source": [
    "nombre_infected       673\n",
    "nombre_sain          2448\n",
    "nombre_exposed        451\n",
    "nombre_recovered    16428\n",
    "Name: 309, dtype: int64"
   ]
  },
  {
   "cell_type": "markdown",
   "id": "e00ab8a7",
   "metadata": {},
   "source": [
    "nombre_infected       678\n",
    "nombre_sain          2477\n",
    "nombre_exposed        441\n",
    "nombre_recovered    16404\n",
    "Name: 310, dtype: int64"
   ]
  },
  {
   "cell_type": "markdown",
   "id": "01f0499f",
   "metadata": {},
   "source": [
    "nombre_infected       708\n",
    "nombre_sain          2514\n",
    "nombre_exposed        435\n",
    "nombre_recovered    16343\n",
    "Name: 311, dtype: int64"
   ]
  },
  {
   "cell_type": "markdown",
   "id": "8e5f5986",
   "metadata": {},
   "source": [
    "nombre_infected       704\n",
    "nombre_sain          2521\n",
    "nombre_exposed        456\n",
    "nombre_recovered    16319\n",
    "Name: 312, dtype: int64"
   ]
  },
  {
   "cell_type": "markdown",
   "id": "59fabde8",
   "metadata": {},
   "source": [
    "nombre_infected       720\n",
    "nombre_sain          2524\n",
    "nombre_exposed        458\n",
    "nombre_recovered    16298\n",
    "Name: 313, dtype: int64"
   ]
  },
  {
   "cell_type": "markdown",
   "id": "59eff59f",
   "metadata": {},
   "source": [
    "nombre_infected       736\n",
    "nombre_sain          2531\n",
    "nombre_exposed        456\n",
    "nombre_recovered    16277\n",
    "Name: 314, dtype: int64"
   ]
  },
  {
   "cell_type": "markdown",
   "id": "4e86287a",
   "metadata": {},
   "source": [
    "nombre_infected       743\n",
    "nombre_sain          2528\n",
    "nombre_exposed        466\n",
    "nombre_recovered    16263\n",
    "Name: 315, dtype: int64"
   ]
  },
  {
   "cell_type": "markdown",
   "id": "bde2833d",
   "metadata": {},
   "source": [
    "nombre_infected       747\n",
    "nombre_sain          2547\n",
    "nombre_exposed        451\n",
    "nombre_recovered    16255\n",
    "Name: 316, dtype: int64"
   ]
  },
  {
   "cell_type": "markdown",
   "id": "c7e92c9f",
   "metadata": {},
   "source": [
    "nombre_infected       781\n",
    "nombre_sain          2518\n",
    "nombre_exposed        474\n",
    "nombre_recovered    16227\n",
    "Name: 317, dtype: int64"
   ]
  },
  {
   "cell_type": "markdown",
   "id": "39523bd1",
   "metadata": {},
   "source": [
    "nombre_infected       774\n",
    "nombre_sain          2504\n",
    "nombre_exposed        499\n",
    "nombre_recovered    16223\n",
    "Name: 318, dtype: int64"
   ]
  },
  {
   "cell_type": "markdown",
   "id": "4ed645f2",
   "metadata": {},
   "source": [
    "nombre_infected       774\n",
    "nombre_sain          2503\n",
    "nombre_exposed        517\n",
    "nombre_recovered    16206\n",
    "Name: 319, dtype: int64"
   ]
  },
  {
   "cell_type": "markdown",
   "id": "b4621f18",
   "metadata": {},
   "source": [
    "nombre_infected       820\n",
    "nombre_sain          2458\n",
    "nombre_exposed        516\n",
    "nombre_recovered    16206\n",
    "Name: 320, dtype: int64"
   ]
  },
  {
   "cell_type": "markdown",
   "id": "21a22420",
   "metadata": {},
   "source": [
    "nombre_infected       831\n",
    "nombre_sain          2481\n",
    "nombre_exposed        504\n",
    "nombre_recovered    16184\n",
    "Name: 321, dtype: int64"
   ]
  },
  {
   "cell_type": "markdown",
   "id": "e489a2fb",
   "metadata": {},
   "source": [
    "nombre_infected       827\n",
    "nombre_sain          2466\n",
    "nombre_exposed        520\n",
    "nombre_recovered    16187\n",
    "Name: 322, dtype: int64"
   ]
  },
  {
   "cell_type": "markdown",
   "id": "cde330d3",
   "metadata": {},
   "source": [
    "nombre_infected       835\n",
    "nombre_sain          2418\n",
    "nombre_exposed        552\n",
    "nombre_recovered    16195\n",
    "Name: 323, dtype: int64"
   ]
  },
  {
   "cell_type": "markdown",
   "id": "f9df1bfb",
   "metadata": {},
   "source": [
    "nombre_infected       861\n",
    "nombre_sain          2401\n",
    "nombre_exposed        556\n",
    "nombre_recovered    16182\n",
    "Name: 324, dtype: int64"
   ]
  },
  {
   "cell_type": "markdown",
   "id": "c78131d2",
   "metadata": {},
   "source": [
    "nombre_infected       872\n",
    "nombre_sain          2369\n",
    "nombre_exposed        572\n",
    "nombre_recovered    16187\n",
    "Name: 325, dtype: int64"
   ]
  },
  {
   "cell_type": "markdown",
   "id": "2ec86722",
   "metadata": {},
   "source": [
    "nombre_infected       881\n",
    "nombre_sain          2344\n",
    "nombre_exposed        577\n",
    "nombre_recovered    16198\n",
    "Name: 326, dtype: int64"
   ]
  },
  {
   "cell_type": "markdown",
   "id": "b1fa228e",
   "metadata": {},
   "source": [
    "nombre_infected       869\n",
    "nombre_sain          2335\n",
    "nombre_exposed        618\n",
    "nombre_recovered    16178\n",
    "Name: 327, dtype: int64"
   ]
  },
  {
   "cell_type": "markdown",
   "id": "e5d68eab",
   "metadata": {},
   "source": [
    "nombre_infected       871\n",
    "nombre_sain          2307\n",
    "nombre_exposed        618\n",
    "nombre_recovered    16204\n",
    "Name: 328, dtype: int64"
   ]
  },
  {
   "cell_type": "markdown",
   "id": "bb977b85",
   "metadata": {},
   "source": [
    "nombre_infected       898\n",
    "nombre_sain          2317\n",
    "nombre_exposed        585\n",
    "nombre_recovered    16200\n",
    "Name: 329, dtype: int64"
   ]
  },
  {
   "cell_type": "markdown",
   "id": "fff0f899",
   "metadata": {},
   "source": [
    "nombre_infected       909\n",
    "nombre_sain          2316\n",
    "nombre_exposed        558\n",
    "nombre_recovered    16217\n",
    "Name: 330, dtype: int64"
   ]
  },
  {
   "cell_type": "markdown",
   "id": "4de845ad",
   "metadata": {},
   "source": [
    "nombre_infected       922\n",
    "nombre_sain          2282\n",
    "nombre_exposed        579\n",
    "nombre_recovered    16217\n",
    "Name: 331, dtype: int64"
   ]
  },
  {
   "cell_type": "markdown",
   "id": "17546dd0",
   "metadata": {},
   "source": [
    "nombre_infected       923\n",
    "nombre_sain          2255\n",
    "nombre_exposed        589\n",
    "nombre_recovered    16233\n",
    "Name: 332, dtype: int64"
   ]
  },
  {
   "cell_type": "markdown",
   "id": "f27e847e",
   "metadata": {},
   "source": [
    "nombre_infected       935\n",
    "nombre_sain          2239\n",
    "nombre_exposed        583\n",
    "nombre_recovered    16243\n",
    "Name: 333, dtype: int64"
   ]
  },
  {
   "cell_type": "markdown",
   "id": "d99f9b23",
   "metadata": {},
   "source": [
    "nombre_infected       940\n",
    "nombre_sain          2250\n",
    "nombre_exposed        570\n",
    "nombre_recovered    16240\n",
    "Name: 334, dtype: int64"
   ]
  },
  {
   "cell_type": "markdown",
   "id": "65b9325f",
   "metadata": {},
   "source": [
    "nombre_infected       958\n",
    "nombre_sain          2229\n",
    "nombre_exposed        563\n",
    "nombre_recovered    16250\n",
    "Name: 335, dtype: int64"
   ]
  },
  {
   "cell_type": "markdown",
   "id": "d0f0da1a",
   "metadata": {},
   "source": [
    "nombre_infected       951\n",
    "nombre_sain          2214\n",
    "nombre_exposed        592\n",
    "nombre_recovered    16243\n",
    "Name: 336, dtype: int64"
   ]
  },
  {
   "cell_type": "markdown",
   "id": "6d6abff8",
   "metadata": {},
   "source": [
    "nombre_infected       961\n",
    "nombre_sain          2201\n",
    "nombre_exposed        580\n",
    "nombre_recovered    16258\n",
    "Name: 337, dtype: int64"
   ]
  },
  {
   "cell_type": "markdown",
   "id": "8d36d79d",
   "metadata": {},
   "source": [
    "nombre_infected       976\n",
    "nombre_sain          2176\n",
    "nombre_exposed        587\n",
    "nombre_recovered    16261\n",
    "Name: 338, dtype: int64"
   ]
  },
  {
   "cell_type": "markdown",
   "id": "9239ac7d",
   "metadata": {},
   "source": [
    "nombre_infected       980\n",
    "nombre_sain          2188\n",
    "nombre_exposed        578\n",
    "nombre_recovered    16254\n",
    "Name: 339, dtype: int64"
   ]
  },
  {
   "cell_type": "markdown",
   "id": "face60f7",
   "metadata": {},
   "source": [
    "nombre_infected       992\n",
    "nombre_sain          2195\n",
    "nombre_exposed        584\n",
    "nombre_recovered    16229\n",
    "Name: 340, dtype: int64"
   ]
  },
  {
   "cell_type": "markdown",
   "id": "bd7bd578",
   "metadata": {},
   "source": [
    "nombre_infected       986\n",
    "nombre_sain          2179\n",
    "nombre_exposed        602\n",
    "nombre_recovered    16233\n",
    "Name: 341, dtype: int64"
   ]
  },
  {
   "cell_type": "markdown",
   "id": "93942fd6",
   "metadata": {},
   "source": [
    "nombre_infected       986\n",
    "nombre_sain          2165\n",
    "nombre_exposed        609\n",
    "nombre_recovered    16240\n",
    "Name: 342, dtype: int64"
   ]
  },
  {
   "cell_type": "markdown",
   "id": "4713dab3",
   "metadata": {},
   "source": [
    "nombre_infected       993\n",
    "nombre_sain          2142\n",
    "nombre_exposed        603\n",
    "nombre_recovered    16262\n",
    "Name: 343, dtype: int64"
   ]
  },
  {
   "cell_type": "markdown",
   "id": "66fd8ebe",
   "metadata": {},
   "source": [
    "nombre_infected      1031\n",
    "nombre_sain          2117\n",
    "nombre_exposed        586\n",
    "nombre_recovered    16266\n",
    "Name: 344, dtype: int64"
   ]
  },
  {
   "cell_type": "markdown",
   "id": "43a7fb1c",
   "metadata": {},
   "source": [
    "nombre_infected      1052\n",
    "nombre_sain          2094\n",
    "nombre_exposed        582\n",
    "nombre_recovered    16272\n",
    "Name: 345, dtype: int64"
   ]
  },
  {
   "cell_type": "markdown",
   "id": "bdeb10be",
   "metadata": {},
   "source": [
    "nombre_infected      1049\n",
    "nombre_sain          2084\n",
    "nombre_exposed        574\n",
    "nombre_recovered    16293\n",
    "Name: 346, dtype: int64"
   ]
  },
  {
   "cell_type": "markdown",
   "id": "b013c85e",
   "metadata": {},
   "source": [
    "nombre_infected      1036\n",
    "nombre_sain          2076\n",
    "nombre_exposed        579\n",
    "nombre_recovered    16309\n",
    "Name: 347, dtype: int64"
   ]
  },
  {
   "cell_type": "markdown",
   "id": "656ccf51",
   "metadata": {},
   "source": [
    "nombre_infected      1033\n",
    "nombre_sain          2047\n",
    "nombre_exposed        577\n",
    "nombre_recovered    16343\n",
    "Name: 348, dtype: int64"
   ]
  },
  {
   "cell_type": "markdown",
   "id": "3f2cffdd",
   "metadata": {},
   "source": [
    "nombre_infected      1020\n",
    "nombre_sain          2015\n",
    "nombre_exposed        577\n",
    "nombre_recovered    16388\n",
    "Name: 349, dtype: int64"
   ]
  },
  {
   "cell_type": "markdown",
   "id": "825a3734",
   "metadata": {},
   "source": [
    "nombre_infected      1042\n",
    "nombre_sain          1977\n",
    "nombre_exposed        569\n",
    "nombre_recovered    16412\n",
    "Name: 350, dtype: int64"
   ]
  },
  {
   "cell_type": "markdown",
   "id": "858d1b53",
   "metadata": {},
   "source": [
    "nombre_infected      1024\n",
    "nombre_sain          1965\n",
    "nombre_exposed        579\n",
    "nombre_recovered    16432\n",
    "Name: 351, dtype: int64"
   ]
  },
  {
   "cell_type": "markdown",
   "id": "b536a8a9",
   "metadata": {},
   "source": [
    "nombre_infected      1047\n",
    "nombre_sain          1959\n",
    "nombre_exposed        555\n",
    "nombre_recovered    16439\n",
    "Name: 352, dtype: int64"
   ]
  },
  {
   "cell_type": "markdown",
   "id": "d0ca4a00",
   "metadata": {},
   "source": [
    "nombre_infected      1037\n",
    "nombre_sain          1930\n",
    "nombre_exposed        565\n",
    "nombre_recovered    16468\n",
    "Name: 353, dtype: int64"
   ]
  },
  {
   "cell_type": "markdown",
   "id": "245647b7",
   "metadata": {},
   "source": [
    "nombre_infected      1040\n",
    "nombre_sain          1921\n",
    "nombre_exposed        534\n",
    "nombre_recovered    16505\n",
    "Name: 354, dtype: int64"
   ]
  },
  {
   "cell_type": "markdown",
   "id": "8c427362",
   "metadata": {},
   "source": [
    "nombre_infected      1029\n",
    "nombre_sain          1892\n",
    "nombre_exposed        527\n",
    "nombre_recovered    16552\n",
    "Name: 355, dtype: int64"
   ]
  },
  {
   "cell_type": "markdown",
   "id": "7a16ba04",
   "metadata": {},
   "source": [
    "nombre_infected      1022\n",
    "nombre_sain          1869\n",
    "nombre_exposed        540\n",
    "nombre_recovered    16569\n",
    "Name: 356, dtype: int64"
   ]
  },
  {
   "cell_type": "markdown",
   "id": "2d6e472d",
   "metadata": {},
   "source": [
    "nombre_infected      1010\n",
    "nombre_sain          1862\n",
    "nombre_exposed        529\n",
    "nombre_recovered    16599\n",
    "Name: 357, dtype: int64"
   ]
  },
  {
   "cell_type": "markdown",
   "id": "16b7a131",
   "metadata": {},
   "source": [
    "nombre_infected      1008\n",
    "nombre_sain          1850\n",
    "nombre_exposed        522\n",
    "nombre_recovered    16620\n",
    "Name: 358, dtype: int64"
   ]
  },
  {
   "cell_type": "markdown",
   "id": "ca8944cc",
   "metadata": {},
   "source": [
    "nombre_infected       990\n",
    "nombre_sain          1843\n",
    "nombre_exposed        504\n",
    "nombre_recovered    16663\n",
    "Name: 359, dtype: int64"
   ]
  },
  {
   "cell_type": "markdown",
   "id": "d2deec84",
   "metadata": {},
   "source": [
    "nombre_infected      1000\n",
    "nombre_sain          1844\n",
    "nombre_exposed        486\n",
    "nombre_recovered    16670\n",
    "Name: 360, dtype: int64"
   ]
  },
  {
   "cell_type": "markdown",
   "id": "552a80d9",
   "metadata": {},
   "source": [
    "nombre_infected       973\n",
    "nombre_sain          1852\n",
    "nombre_exposed        476\n",
    "nombre_recovered    16699\n",
    "Name: 361, dtype: int64"
   ]
  },
  {
   "cell_type": "markdown",
   "id": "bdb47df9",
   "metadata": {},
   "source": [
    "nombre_infected       956\n",
    "nombre_sain          1835\n",
    "nombre_exposed        484\n",
    "nombre_recovered    16725\n",
    "Name: 362, dtype: int64"
   ]
  },
  {
   "cell_type": "markdown",
   "id": "e14ec8cf",
   "metadata": {},
   "source": [
    "nombre_infected       930\n",
    "nombre_sain          1841\n",
    "nombre_exposed        501\n",
    "nombre_recovered    16728\n",
    "Name: 363, dtype: int64"
   ]
  },
  {
   "cell_type": "markdown",
   "id": "6236763d",
   "metadata": {},
   "source": [
    "nombre_infected       930\n",
    "nombre_sain          1829\n",
    "nombre_exposed        480\n",
    "nombre_recovered    16761\n",
    "Name: 364, dtype: int64"
   ]
  },
  {
   "cell_type": "markdown",
   "id": "ab1c7f86",
   "metadata": {},
   "source": [
    "nombre_infected       888\n",
    "nombre_sain          1820\n",
    "nombre_exposed        484\n",
    "nombre_recovered    16808\n",
    "Name: 365, dtype: int64"
   ]
  },
  {
   "cell_type": "markdown",
   "id": "93c0f874",
   "metadata": {},
   "source": [
    "nombre_infected       866\n",
    "nombre_sain          1815\n",
    "nombre_exposed        482\n",
    "nombre_recovered    16837\n",
    "Name: 366, dtype: int64"
   ]
  },
  {
   "cell_type": "markdown",
   "id": "09921cce",
   "metadata": {},
   "source": [
    "nombre_infected       864\n",
    "nombre_sain          1827\n",
    "nombre_exposed        452\n",
    "nombre_recovered    16857\n",
    "Name: 367, dtype: int64"
   ]
  },
  {
   "cell_type": "markdown",
   "id": "21156a34",
   "metadata": {},
   "source": [
    "nombre_infected       861\n",
    "nombre_sain          1802\n",
    "nombre_exposed        467\n",
    "nombre_recovered    16870\n",
    "Name: 368, dtype: int64"
   ]
  },
  {
   "cell_type": "markdown",
   "id": "e361854d",
   "metadata": {},
   "source": [
    "nombre_infected       860\n",
    "nombre_sain          1811\n",
    "nombre_exposed        458\n",
    "nombre_recovered    16871\n",
    "Name: 369, dtype: int64"
   ]
  },
  {
   "cell_type": "markdown",
   "id": "f54a5530",
   "metadata": {},
   "source": [
    "nombre_infected       842\n",
    "nombre_sain          1823\n",
    "nombre_exposed        453\n",
    "nombre_recovered    16882\n",
    "Name: 370, dtype: int64"
   ]
  },
  {
   "cell_type": "markdown",
   "id": "98d807bd",
   "metadata": {},
   "source": [
    "nombre_infected       820\n",
    "nombre_sain          1862\n",
    "nombre_exposed        439\n",
    "nombre_recovered    16879\n",
    "Name: 371, dtype: int64"
   ]
  },
  {
   "cell_type": "markdown",
   "id": "0bdf751e",
   "metadata": {},
   "source": [
    "nombre_infected       832\n",
    "nombre_sain          1881\n",
    "nombre_exposed        442\n",
    "nombre_recovered    16845\n",
    "Name: 372, dtype: int64"
   ]
  },
  {
   "cell_type": "markdown",
   "id": "51acd32b",
   "metadata": {},
   "source": [
    "nombre_infected       816\n",
    "nombre_sain          1903\n",
    "nombre_exposed        444\n",
    "nombre_recovered    16837\n",
    "Name: 373, dtype: int64"
   ]
  },
  {
   "cell_type": "markdown",
   "id": "6cec368b",
   "metadata": {},
   "source": [
    "nombre_infected       808\n",
    "nombre_sain          1932\n",
    "nombre_exposed        430\n",
    "nombre_recovered    16830\n",
    "Name: 374, dtype: int64"
   ]
  },
  {
   "cell_type": "markdown",
   "id": "a4152d59",
   "metadata": {},
   "source": [
    "nombre_infected       806\n",
    "nombre_sain          1942\n",
    "nombre_exposed        422\n",
    "nombre_recovered    16830\n",
    "Name: 375, dtype: int64"
   ]
  },
  {
   "cell_type": "markdown",
   "id": "e4928963",
   "metadata": {},
   "source": [
    "nombre_infected       810\n",
    "nombre_sain          1946\n",
    "nombre_exposed        415\n",
    "nombre_recovered    16829\n",
    "Name: 376, dtype: int64"
   ]
  },
  {
   "cell_type": "markdown",
   "id": "8665cba2",
   "metadata": {},
   "source": [
    "nombre_infected       801\n",
    "nombre_sain          1962\n",
    "nombre_exposed        425\n",
    "nombre_recovered    16812\n",
    "Name: 377, dtype: int64"
   ]
  },
  {
   "cell_type": "markdown",
   "id": "4782b7a1",
   "metadata": {},
   "source": [
    "nombre_infected       799\n",
    "nombre_sain          1989\n",
    "nombre_exposed        436\n",
    "nombre_recovered    16776\n",
    "Name: 378, dtype: int64"
   ]
  },
  {
   "cell_type": "markdown",
   "id": "6f4e9540",
   "metadata": {},
   "source": [
    "nombre_infected       801\n",
    "nombre_sain          1995\n",
    "nombre_exposed        445\n",
    "nombre_recovered    16759\n",
    "Name: 379, dtype: int64"
   ]
  },
  {
   "cell_type": "markdown",
   "id": "4b16eed2",
   "metadata": {},
   "source": [
    "nombre_infected       801\n",
    "nombre_sain          2012\n",
    "nombre_exposed        437\n",
    "nombre_recovered    16750\n",
    "Name: 380, dtype: int64"
   ]
  },
  {
   "cell_type": "markdown",
   "id": "4c7af0ea",
   "metadata": {},
   "source": [
    "nombre_infected       809\n",
    "nombre_sain          2004\n",
    "nombre_exposed        438\n",
    "nombre_recovered    16749\n",
    "Name: 381, dtype: int64"
   ]
  },
  {
   "cell_type": "markdown",
   "id": "ba313472",
   "metadata": {},
   "source": [
    "nombre_infected       777\n",
    "nombre_sain          2027\n",
    "nombre_exposed        449\n",
    "nombre_recovered    16747\n",
    "Name: 382, dtype: int64"
   ]
  },
  {
   "cell_type": "markdown",
   "id": "107fa0c1",
   "metadata": {},
   "source": [
    "nombre_infected       760\n",
    "nombre_sain          2037\n",
    "nombre_exposed        451\n",
    "nombre_recovered    16752\n",
    "Name: 383, dtype: int64"
   ]
  },
  {
   "cell_type": "markdown",
   "id": "ebdfbf89",
   "metadata": {},
   "source": [
    "nombre_infected       771\n",
    "nombre_sain          2039\n",
    "nombre_exposed        438\n",
    "nombre_recovered    16752\n",
    "Name: 384, dtype: int64"
   ]
  },
  {
   "cell_type": "markdown",
   "id": "138d47e4",
   "metadata": {},
   "source": [
    "nombre_infected       772\n",
    "nombre_sain          2057\n",
    "nombre_exposed        448\n",
    "nombre_recovered    16723\n",
    "Name: 385, dtype: int64"
   ]
  },
  {
   "cell_type": "markdown",
   "id": "00330077",
   "metadata": {},
   "source": [
    "nombre_infected       799\n",
    "nombre_sain          2089\n",
    "nombre_exposed        419\n",
    "nombre_recovered    16693\n",
    "Name: 386, dtype: int64"
   ]
  },
  {
   "cell_type": "markdown",
   "id": "e6520126",
   "metadata": {},
   "source": [
    "nombre_infected       805\n",
    "nombre_sain          2089\n",
    "nombre_exposed        419\n",
    "nombre_recovered    16687\n",
    "Name: 387, dtype: int64"
   ]
  },
  {
   "cell_type": "markdown",
   "id": "98b44a2b",
   "metadata": {},
   "source": [
    "nombre_infected       787\n",
    "nombre_sain          2089\n",
    "nombre_exposed        418\n",
    "nombre_recovered    16706\n",
    "Name: 388, dtype: int64"
   ]
  },
  {
   "cell_type": "markdown",
   "id": "edaaa4c9",
   "metadata": {},
   "source": [
    "nombre_infected       788\n",
    "nombre_sain          2099\n",
    "nombre_exposed        423\n",
    "nombre_recovered    16690\n",
    "Name: 389, dtype: int64"
   ]
  },
  {
   "cell_type": "markdown",
   "id": "201c9621",
   "metadata": {},
   "source": [
    "nombre_infected       769\n",
    "nombre_sain          2102\n",
    "nombre_exposed        439\n",
    "nombre_recovered    16690\n",
    "Name: 390, dtype: int64"
   ]
  },
  {
   "cell_type": "markdown",
   "id": "bd610821",
   "metadata": {},
   "source": [
    "nombre_infected       761\n",
    "nombre_sain          2106\n",
    "nombre_exposed        453\n",
    "nombre_recovered    16680\n",
    "Name: 391, dtype: int64"
   ]
  },
  {
   "cell_type": "markdown",
   "id": "42ec2f6f",
   "metadata": {},
   "source": [
    "nombre_infected       759\n",
    "nombre_sain          2140\n",
    "nombre_exposed        438\n",
    "nombre_recovered    16663\n",
    "Name: 392, dtype: int64"
   ]
  },
  {
   "cell_type": "markdown",
   "id": "a82abb07",
   "metadata": {},
   "source": [
    "nombre_infected       728\n",
    "nombre_sain          2139\n",
    "nombre_exposed        450\n",
    "nombre_recovered    16683\n",
    "Name: 393, dtype: int64"
   ]
  },
  {
   "cell_type": "markdown",
   "id": "20102684",
   "metadata": {},
   "source": [
    "nombre_infected       714\n",
    "nombre_sain          2145\n",
    "nombre_exposed        465\n",
    "nombre_recovered    16676\n",
    "Name: 394, dtype: int64"
   ]
  },
  {
   "cell_type": "markdown",
   "id": "87c8916b",
   "metadata": {},
   "source": [
    "nombre_infected       748\n",
    "nombre_sain          2148\n",
    "nombre_exposed        437\n",
    "nombre_recovered    16667\n",
    "Name: 395, dtype: int64"
   ]
  },
  {
   "cell_type": "markdown",
   "id": "f10538c8",
   "metadata": {},
   "source": [
    "nombre_infected       746\n",
    "nombre_sain          2174\n",
    "nombre_exposed        443\n",
    "nombre_recovered    16637\n",
    "Name: 396, dtype: int64"
   ]
  },
  {
   "cell_type": "markdown",
   "id": "72e12454",
   "metadata": {},
   "source": [
    "nombre_infected       746\n",
    "nombre_sain          2191\n",
    "nombre_exposed        437\n",
    "nombre_recovered    16626\n",
    "Name: 397, dtype: int64"
   ]
  },
  {
   "cell_type": "markdown",
   "id": "5fe1628d",
   "metadata": {},
   "source": [
    "nombre_infected       758\n",
    "nombre_sain          2198\n",
    "nombre_exposed        430\n",
    "nombre_recovered    16614\n",
    "Name: 398, dtype: int64"
   ]
  },
  {
   "cell_type": "markdown",
   "id": "e6c95512",
   "metadata": {},
   "source": [
    "nombre_infected       758\n",
    "nombre_sain          2228\n",
    "nombre_exposed        456\n",
    "nombre_recovered    16558\n",
    "Name: 399, dtype: int64"
   ]
  },
  {
   "cell_type": "markdown",
   "id": "4e16fb32",
   "metadata": {},
   "source": [
    "nombre_infected       762\n",
    "nombre_sain          2229\n",
    "nombre_exposed        470\n",
    "nombre_recovered    16539\n",
    "Name: 400, dtype: int64"
   ]
  },
  {
   "cell_type": "markdown",
   "id": "d1938a6a",
   "metadata": {},
   "source": [
    "nombre_infected       791\n",
    "nombre_sain          2223\n",
    "nombre_exposed        477\n",
    "nombre_recovered    16509\n",
    "Name: 401, dtype: int64"
   ]
  },
  {
   "cell_type": "markdown",
   "id": "1c6c60b8",
   "metadata": {},
   "source": [
    "nombre_infected       785\n",
    "nombre_sain          2242\n",
    "nombre_exposed        471\n",
    "nombre_recovered    16502\n",
    "Name: 402, dtype: int64"
   ]
  },
  {
   "cell_type": "markdown",
   "id": "928b0b39",
   "metadata": {},
   "source": [
    "nombre_infected       778\n",
    "nombre_sain          2262\n",
    "nombre_exposed        464\n",
    "nombre_recovered    16496\n",
    "Name: 403, dtype: int64"
   ]
  },
  {
   "cell_type": "markdown",
   "id": "def3bff7",
   "metadata": {},
   "source": [
    "nombre_infected       765\n",
    "nombre_sain          2266\n",
    "nombre_exposed        459\n",
    "nombre_recovered    16510\n",
    "Name: 404, dtype: int64"
   ]
  },
  {
   "cell_type": "markdown",
   "id": "c4f2aac2",
   "metadata": {},
   "source": [
    "nombre_infected       765\n",
    "nombre_sain          2257\n",
    "nombre_exposed        462\n",
    "nombre_recovered    16516\n",
    "Name: 405, dtype: int64"
   ]
  },
  {
   "cell_type": "markdown",
   "id": "d9be225d",
   "metadata": {},
   "source": [
    "nombre_infected       793\n",
    "nombre_sain          2263\n",
    "nombre_exposed        455\n",
    "nombre_recovered    16489\n",
    "Name: 406, dtype: int64"
   ]
  },
  {
   "cell_type": "markdown",
   "id": "b4c229ae",
   "metadata": {},
   "source": [
    "nombre_infected       800\n",
    "nombre_sain          2273\n",
    "nombre_exposed        462\n",
    "nombre_recovered    16465\n",
    "Name: 407, dtype: int64"
   ]
  },
  {
   "cell_type": "markdown",
   "id": "9ba9805d",
   "metadata": {},
   "source": [
    "nombre_infected       813\n",
    "nombre_sain          2246\n",
    "nombre_exposed        474\n",
    "nombre_recovered    16467\n",
    "Name: 408, dtype: int64"
   ]
  },
  {
   "cell_type": "markdown",
   "id": "c4bfb4aa",
   "metadata": {},
   "source": [
    "nombre_infected       809\n",
    "nombre_sain          2268\n",
    "nombre_exposed        488\n",
    "nombre_recovered    16435\n",
    "Name: 409, dtype: int64"
   ]
  },
  {
   "cell_type": "markdown",
   "id": "d60a4e63",
   "metadata": {},
   "source": [
    "nombre_infected       816\n",
    "nombre_sain          2257\n",
    "nombre_exposed        492\n",
    "nombre_recovered    16435\n",
    "Name: 410, dtype: int64"
   ]
  },
  {
   "cell_type": "markdown",
   "id": "4922d8c4",
   "metadata": {},
   "source": [
    "nombre_infected       813\n",
    "nombre_sain          2257\n",
    "nombre_exposed        504\n",
    "nombre_recovered    16426\n",
    "Name: 411, dtype: int64"
   ]
  },
  {
   "cell_type": "markdown",
   "id": "fe1f9861",
   "metadata": {},
   "source": [
    "nombre_infected       821\n",
    "nombre_sain          2271\n",
    "nombre_exposed        494\n",
    "nombre_recovered    16414\n",
    "Name: 412, dtype: int64"
   ]
  },
  {
   "cell_type": "markdown",
   "id": "d45e66a7",
   "metadata": {},
   "source": [
    "nombre_infected       819\n",
    "nombre_sain          2266\n",
    "nombre_exposed        507\n",
    "nombre_recovered    16408\n",
    "Name: 413, dtype: int64"
   ]
  },
  {
   "cell_type": "markdown",
   "id": "cdd64a45",
   "metadata": {},
   "source": [
    "nombre_infected       826\n",
    "nombre_sain          2289\n",
    "nombre_exposed        485\n",
    "nombre_recovered    16400\n",
    "Name: 414, dtype: int64"
   ]
  },
  {
   "cell_type": "markdown",
   "id": "bc82137f",
   "metadata": {},
   "source": [
    "nombre_infected       848\n",
    "nombre_sain          2307\n",
    "nombre_exposed        475\n",
    "nombre_recovered    16370\n",
    "Name: 415, dtype: int64"
   ]
  },
  {
   "cell_type": "markdown",
   "id": "733779a8",
   "metadata": {},
   "source": [
    "nombre_infected       836\n",
    "nombre_sain          2298\n",
    "nombre_exposed        506\n",
    "nombre_recovered    16360\n",
    "Name: 416, dtype: int64"
   ]
  },
  {
   "cell_type": "markdown",
   "id": "33dfb3ac",
   "metadata": {},
   "source": [
    "nombre_infected       829\n",
    "nombre_sain          2322\n",
    "nombre_exposed        489\n",
    "nombre_recovered    16360\n",
    "Name: 417, dtype: int64"
   ]
  },
  {
   "cell_type": "markdown",
   "id": "71650e18",
   "metadata": {},
   "source": [
    "nombre_infected       835\n",
    "nombre_sain          2304\n",
    "nombre_exposed        492\n",
    "nombre_recovered    16369\n",
    "Name: 418, dtype: int64"
   ]
  },
  {
   "cell_type": "markdown",
   "id": "e3ba9ca2",
   "metadata": {},
   "source": [
    "nombre_infected       828\n",
    "nombre_sain          2314\n",
    "nombre_exposed        489\n",
    "nombre_recovered    16369\n",
    "Name: 419, dtype: int64"
   ]
  },
  {
   "cell_type": "markdown",
   "id": "5656a59c",
   "metadata": {},
   "source": [
    "nombre_infected       834\n",
    "nombre_sain          2306\n",
    "nombre_exposed        482\n",
    "nombre_recovered    16378\n",
    "Name: 420, dtype: int64"
   ]
  },
  {
   "cell_type": "markdown",
   "id": "7224aada",
   "metadata": {},
   "source": [
    "nombre_infected       832\n",
    "nombre_sain          2311\n",
    "nombre_exposed        484\n",
    "nombre_recovered    16373\n",
    "Name: 421, dtype: int64"
   ]
  },
  {
   "cell_type": "markdown",
   "id": "121f9956",
   "metadata": {},
   "source": [
    "nombre_infected       834\n",
    "nombre_sain          2324\n",
    "nombre_exposed        490\n",
    "nombre_recovered    16352\n",
    "Name: 422, dtype: int64"
   ]
  },
  {
   "cell_type": "markdown",
   "id": "74b7b844",
   "metadata": {},
   "source": [
    "nombre_infected       837\n",
    "nombre_sain          2331\n",
    "nombre_exposed        486\n",
    "nombre_recovered    16346\n",
    "Name: 423, dtype: int64"
   ]
  },
  {
   "cell_type": "markdown",
   "id": "ab897c13",
   "metadata": {},
   "source": [
    "nombre_infected       853\n",
    "nombre_sain          2334\n",
    "nombre_exposed        485\n",
    "nombre_recovered    16328\n",
    "Name: 424, dtype: int64"
   ]
  },
  {
   "cell_type": "markdown",
   "id": "c139a71c",
   "metadata": {},
   "source": [
    "nombre_infected       845\n",
    "nombre_sain          2318\n",
    "nombre_exposed        501\n",
    "nombre_recovered    16336\n",
    "Name: 425, dtype: int64"
   ]
  },
  {
   "cell_type": "markdown",
   "id": "acc7fe61",
   "metadata": {},
   "source": [
    "nombre_infected       852\n",
    "nombre_sain          2338\n",
    "nombre_exposed        468\n",
    "nombre_recovered    16342\n",
    "Name: 426, dtype: int64"
   ]
  },
  {
   "cell_type": "markdown",
   "id": "0250cd0f",
   "metadata": {},
   "source": [
    "nombre_infected       860\n",
    "nombre_sain          2321\n",
    "nombre_exposed        471\n",
    "nombre_recovered    16348\n",
    "Name: 427, dtype: int64"
   ]
  },
  {
   "cell_type": "markdown",
   "id": "5f5ec0b4",
   "metadata": {},
   "source": [
    "nombre_infected       847\n",
    "nombre_sain          2306\n",
    "nombre_exposed        476\n",
    "nombre_recovered    16371\n",
    "Name: 428, dtype: int64"
   ]
  },
  {
   "cell_type": "markdown",
   "id": "a8d60d5b",
   "metadata": {},
   "source": [
    "nombre_infected       850\n",
    "nombre_sain          2318\n",
    "nombre_exposed        465\n",
    "nombre_recovered    16367\n",
    "Name: 429, dtype: int64"
   ]
  },
  {
   "cell_type": "markdown",
   "id": "2437c7ff",
   "metadata": {},
   "source": [
    "nombre_infected       839\n",
    "nombre_sain          2293\n",
    "nombre_exposed        479\n",
    "nombre_recovered    16389\n",
    "Name: 430, dtype: int64"
   ]
  },
  {
   "cell_type": "markdown",
   "id": "d02e7536",
   "metadata": {},
   "source": [
    "nombre_infected       822\n",
    "nombre_sain          2297\n",
    "nombre_exposed        489\n",
    "nombre_recovered    16392\n",
    "Name: 431, dtype: int64"
   ]
  },
  {
   "cell_type": "markdown",
   "id": "ed7dd48b",
   "metadata": {},
   "source": [
    "nombre_infected       820\n",
    "nombre_sain          2270\n",
    "nombre_exposed        507\n",
    "nombre_recovered    16403\n",
    "Name: 432, dtype: int64"
   ]
  },
  {
   "cell_type": "markdown",
   "id": "f80f329a",
   "metadata": {},
   "source": [
    "nombre_infected       813\n",
    "nombre_sain          2278\n",
    "nombre_exposed        506\n",
    "nombre_recovered    16403\n",
    "Name: 433, dtype: int64"
   ]
  },
  {
   "cell_type": "markdown",
   "id": "2f4ab294",
   "metadata": {},
   "source": [
    "nombre_infected       834\n",
    "nombre_sain          2272\n",
    "nombre_exposed        513\n",
    "nombre_recovered    16381\n",
    "Name: 434, dtype: int64"
   ]
  },
  {
   "cell_type": "markdown",
   "id": "ed28d730",
   "metadata": {},
   "source": [
    "nombre_infected       841\n",
    "nombre_sain          2300\n",
    "nombre_exposed        505\n",
    "nombre_recovered    16354\n",
    "Name: 435, dtype: int64"
   ]
  },
  {
   "cell_type": "markdown",
   "id": "71572cbb",
   "metadata": {},
   "source": [
    "nombre_infected       840\n",
    "nombre_sain          2297\n",
    "nombre_exposed        497\n",
    "nombre_recovered    16366\n",
    "Name: 436, dtype: int64"
   ]
  },
  {
   "cell_type": "markdown",
   "id": "85ecf683",
   "metadata": {},
   "source": [
    "nombre_infected       855\n",
    "nombre_sain          2303\n",
    "nombre_exposed        488\n",
    "nombre_recovered    16354\n",
    "Name: 437, dtype: int64"
   ]
  },
  {
   "cell_type": "markdown",
   "id": "c597bd75",
   "metadata": {},
   "source": [
    "nombre_infected       823\n",
    "nombre_sain          2299\n",
    "nombre_exposed        514\n",
    "nombre_recovered    16364\n",
    "Name: 438, dtype: int64"
   ]
  },
  {
   "cell_type": "markdown",
   "id": "b0a28b93",
   "metadata": {},
   "source": [
    "nombre_infected       823\n",
    "nombre_sain          2310\n",
    "nombre_exposed        504\n",
    "nombre_recovered    16363\n",
    "Name: 439, dtype: int64"
   ]
  },
  {
   "cell_type": "markdown",
   "id": "838958d3",
   "metadata": {},
   "source": [
    "nombre_infected       823\n",
    "nombre_sain          2302\n",
    "nombre_exposed        510\n",
    "nombre_recovered    16365\n",
    "Name: 440, dtype: int64"
   ]
  },
  {
   "cell_type": "markdown",
   "id": "68816093",
   "metadata": {},
   "source": [
    "nombre_infected       834\n",
    "nombre_sain          2294\n",
    "nombre_exposed        502\n",
    "nombre_recovered    16370\n",
    "Name: 441, dtype: int64"
   ]
  },
  {
   "cell_type": "markdown",
   "id": "7697056c",
   "metadata": {},
   "source": [
    "nombre_infected       886\n",
    "nombre_sain          2282\n",
    "nombre_exposed        480\n",
    "nombre_recovered    16352\n",
    "Name: 442, dtype: int64"
   ]
  },
  {
   "cell_type": "markdown",
   "id": "e912a7b0",
   "metadata": {},
   "source": [
    "nombre_infected       864\n",
    "nombre_sain          2286\n",
    "nombre_exposed        517\n",
    "nombre_recovered    16333\n",
    "Name: 443, dtype: int64"
   ]
  },
  {
   "cell_type": "markdown",
   "id": "0abd9f52",
   "metadata": {},
   "source": [
    "nombre_infected       876\n",
    "nombre_sain          2257\n",
    "nombre_exposed        528\n",
    "nombre_recovered    16339\n",
    "Name: 444, dtype: int64"
   ]
  },
  {
   "cell_type": "markdown",
   "id": "5bfaebb9",
   "metadata": {},
   "source": [
    "nombre_infected       879\n",
    "nombre_sain          2271\n",
    "nombre_exposed        537\n",
    "nombre_recovered    16313\n",
    "Name: 445, dtype: int64"
   ]
  },
  {
   "cell_type": "markdown",
   "id": "2395714d",
   "metadata": {},
   "source": [
    "nombre_infected       892\n",
    "nombre_sain          2290\n",
    "nombre_exposed        512\n",
    "nombre_recovered    16306\n",
    "Name: 446, dtype: int64"
   ]
  },
  {
   "cell_type": "markdown",
   "id": "3a2c0ad5",
   "metadata": {},
   "source": [
    "nombre_infected       892\n",
    "nombre_sain          2304\n",
    "nombre_exposed        517\n",
    "nombre_recovered    16287\n",
    "Name: 447, dtype: int64"
   ]
  },
  {
   "cell_type": "markdown",
   "id": "3b3aee44",
   "metadata": {},
   "source": [
    "nombre_infected       894\n",
    "nombre_sain          2311\n",
    "nombre_exposed        520\n",
    "nombre_recovered    16275\n",
    "Name: 448, dtype: int64"
   ]
  },
  {
   "cell_type": "markdown",
   "id": "5fb65c24",
   "metadata": {},
   "source": [
    "nombre_infected       881\n",
    "nombre_sain          2326\n",
    "nombre_exposed        523\n",
    "nombre_recovered    16270\n",
    "Name: 449, dtype: int64"
   ]
  },
  {
   "cell_type": "markdown",
   "id": "cbd6e2c9",
   "metadata": {},
   "source": [
    "nombre_infected       886\n",
    "nombre_sain          2309\n",
    "nombre_exposed        537\n",
    "nombre_recovered    16268\n",
    "Name: 450, dtype: int64"
   ]
  },
  {
   "cell_type": "markdown",
   "id": "6dadfde6",
   "metadata": {},
   "source": [
    "nombre_infected       906\n",
    "nombre_sain          2313\n",
    "nombre_exposed        514\n",
    "nombre_recovered    16267\n",
    "Name: 451, dtype: int64"
   ]
  },
  {
   "cell_type": "markdown",
   "id": "93a43781",
   "metadata": {},
   "source": [
    "nombre_infected       901\n",
    "nombre_sain          2303\n",
    "nombre_exposed        526\n",
    "nombre_recovered    16270\n",
    "Name: 452, dtype: int64"
   ]
  },
  {
   "cell_type": "markdown",
   "id": "7f2f9ccc",
   "metadata": {},
   "source": [
    "nombre_infected       894\n",
    "nombre_sain          2304\n",
    "nombre_exposed        533\n",
    "nombre_recovered    16269\n",
    "Name: 453, dtype: int64"
   ]
  },
  {
   "cell_type": "markdown",
   "id": "2cb711a9",
   "metadata": {},
   "source": [
    "nombre_infected       912\n",
    "nombre_sain          2305\n",
    "nombre_exposed        534\n",
    "nombre_recovered    16249\n",
    "Name: 454, dtype: int64"
   ]
  },
  {
   "cell_type": "markdown",
   "id": "69b01a35",
   "metadata": {},
   "source": [
    "nombre_infected       908\n",
    "nombre_sain          2311\n",
    "nombre_exposed        537\n",
    "nombre_recovered    16244\n",
    "Name: 455, dtype: int64"
   ]
  },
  {
   "cell_type": "markdown",
   "id": "c64467ff",
   "metadata": {},
   "source": [
    "nombre_infected       916\n",
    "nombre_sain          2280\n",
    "nombre_exposed        562\n",
    "nombre_recovered    16242\n",
    "Name: 456, dtype: int64"
   ]
  },
  {
   "cell_type": "markdown",
   "id": "5797c04a",
   "metadata": {},
   "source": [
    "nombre_infected       928\n",
    "nombre_sain          2240\n",
    "nombre_exposed        575\n",
    "nombre_recovered    16257\n",
    "Name: 457, dtype: int64"
   ]
  },
  {
   "cell_type": "markdown",
   "id": "0876758f",
   "metadata": {},
   "source": [
    "nombre_infected       933\n",
    "nombre_sain          2190\n",
    "nombre_exposed        607\n",
    "nombre_recovered    16270\n",
    "Name: 458, dtype: int64"
   ]
  },
  {
   "cell_type": "markdown",
   "id": "de8f6b59",
   "metadata": {},
   "source": [
    "nombre_infected       959\n",
    "nombre_sain          2182\n",
    "nombre_exposed        609\n",
    "nombre_recovered    16250\n",
    "Name: 459, dtype: int64"
   ]
  },
  {
   "cell_type": "markdown",
   "id": "687a8bee",
   "metadata": {},
   "source": [
    "nombre_infected       956\n",
    "nombre_sain          2198\n",
    "nombre_exposed        595\n",
    "nombre_recovered    16251\n",
    "Name: 460, dtype: int64"
   ]
  },
  {
   "cell_type": "markdown",
   "id": "07914ab7",
   "metadata": {},
   "source": [
    "nombre_infected       974\n",
    "nombre_sain          2190\n",
    "nombre_exposed        590\n",
    "nombre_recovered    16246\n",
    "Name: 461, dtype: int64"
   ]
  },
  {
   "cell_type": "markdown",
   "id": "52ee16f9",
   "metadata": {},
   "source": [
    "nombre_infected       989\n",
    "nombre_sain          2166\n",
    "nombre_exposed        594\n",
    "nombre_recovered    16251\n",
    "Name: 462, dtype: int64"
   ]
  },
  {
   "cell_type": "markdown",
   "id": "91ecad2e",
   "metadata": {},
   "source": [
    "nombre_infected       995\n",
    "nombre_sain          2133\n",
    "nombre_exposed        597\n",
    "nombre_recovered    16275\n",
    "Name: 463, dtype: int64"
   ]
  },
  {
   "cell_type": "markdown",
   "id": "1d2641a0",
   "metadata": {},
   "source": [
    "nombre_infected       995\n",
    "nombre_sain          2119\n",
    "nombre_exposed        589\n",
    "nombre_recovered    16297\n",
    "Name: 464, dtype: int64"
   ]
  },
  {
   "cell_type": "markdown",
   "id": "87513845",
   "metadata": {},
   "source": [
    "nombre_infected      1025\n",
    "nombre_sain          2112\n",
    "nombre_exposed        581\n",
    "nombre_recovered    16282\n",
    "Name: 465, dtype: int64"
   ]
  },
  {
   "cell_type": "markdown",
   "id": "65991bcb",
   "metadata": {},
   "source": [
    "nombre_infected      1015\n",
    "nombre_sain          2090\n",
    "nombre_exposed        607\n",
    "nombre_recovered    16288\n",
    "Name: 466, dtype: int64"
   ]
  },
  {
   "cell_type": "markdown",
   "id": "cd5711ff",
   "metadata": {},
   "source": [
    "nombre_infected      1045\n",
    "nombre_sain          2083\n",
    "nombre_exposed        593\n",
    "nombre_recovered    16279\n",
    "Name: 467, dtype: int64"
   ]
  },
  {
   "cell_type": "markdown",
   "id": "33f6f124",
   "metadata": {},
   "source": [
    "nombre_infected      1051\n",
    "nombre_sain          2074\n",
    "nombre_exposed        593\n",
    "nombre_recovered    16282\n",
    "Name: 468, dtype: int64"
   ]
  },
  {
   "cell_type": "markdown",
   "id": "237cede8",
   "metadata": {},
   "source": [
    "nombre_infected      1046\n",
    "nombre_sain          2060\n",
    "nombre_exposed        588\n",
    "nombre_recovered    16306\n",
    "Name: 469, dtype: int64"
   ]
  },
  {
   "cell_type": "markdown",
   "id": "4c7b7ddf",
   "metadata": {},
   "source": [
    "nombre_infected      1043\n",
    "nombre_sain          2057\n",
    "nombre_exposed        576\n",
    "nombre_recovered    16324\n",
    "Name: 470, dtype: int64"
   ]
  },
  {
   "cell_type": "markdown",
   "id": "5971f2a5",
   "metadata": {},
   "source": [
    "nombre_infected      1042\n",
    "nombre_sain          2025\n",
    "nombre_exposed        592\n",
    "nombre_recovered    16341\n",
    "Name: 471, dtype: int64"
   ]
  },
  {
   "cell_type": "markdown",
   "id": "7f557104",
   "metadata": {},
   "source": [
    "nombre_infected      1044\n",
    "nombre_sain          2012\n",
    "nombre_exposed        578\n",
    "nombre_recovered    16366\n",
    "Name: 472, dtype: int64"
   ]
  },
  {
   "cell_type": "markdown",
   "id": "eed8fc44",
   "metadata": {},
   "source": [
    "nombre_infected      1023\n",
    "nombre_sain          2004\n",
    "nombre_exposed        577\n",
    "nombre_recovered    16396\n",
    "Name: 473, dtype: int64"
   ]
  },
  {
   "cell_type": "markdown",
   "id": "4d541fb9",
   "metadata": {},
   "source": [
    "nombre_infected      1031\n",
    "nombre_sain          1977\n",
    "nombre_exposed        570\n",
    "nombre_recovered    16422\n",
    "Name: 474, dtype: int64"
   ]
  },
  {
   "cell_type": "markdown",
   "id": "d76db5b5",
   "metadata": {},
   "source": [
    "nombre_infected      1028\n",
    "nombre_sain          1947\n",
    "nombre_exposed        586\n",
    "nombre_recovered    16439\n",
    "Name: 475, dtype: int64"
   ]
  },
  {
   "cell_type": "markdown",
   "id": "3c7ce09b",
   "metadata": {},
   "source": [
    "nombre_infected       992\n",
    "nombre_sain          1935\n",
    "nombre_exposed        587\n",
    "nombre_recovered    16486\n",
    "Name: 476, dtype: int64"
   ]
  },
  {
   "cell_type": "markdown",
   "id": "b9215725",
   "metadata": {},
   "source": [
    "nombre_infected      1014\n",
    "nombre_sain          1933\n",
    "nombre_exposed        559\n",
    "nombre_recovered    16494\n",
    "Name: 477, dtype: int64"
   ]
  },
  {
   "cell_type": "markdown",
   "id": "6fcdca08",
   "metadata": {},
   "source": [
    "nombre_infected      1016\n",
    "nombre_sain          1919\n",
    "nombre_exposed        570\n",
    "nombre_recovered    16495\n",
    "Name: 478, dtype: int64"
   ]
  },
  {
   "cell_type": "markdown",
   "id": "435d19cf",
   "metadata": {},
   "source": [
    "nombre_infected      1011\n",
    "nombre_sain          1922\n",
    "nombre_exposed        575\n",
    "nombre_recovered    16492\n",
    "Name: 479, dtype: int64"
   ]
  },
  {
   "cell_type": "markdown",
   "id": "efdd2e38",
   "metadata": {},
   "source": [
    "nombre_infected      1011\n",
    "nombre_sain          1921\n",
    "nombre_exposed        573\n",
    "nombre_recovered    16495\n",
    "Name: 480, dtype: int64"
   ]
  },
  {
   "cell_type": "markdown",
   "id": "1117d36d",
   "metadata": {},
   "source": [
    "nombre_infected      1031\n",
    "nombre_sain          1917\n",
    "nombre_exposed        558\n",
    "nombre_recovered    16494\n",
    "Name: 481, dtype: int64"
   ]
  },
  {
   "cell_type": "markdown",
   "id": "743d2ffe",
   "metadata": {},
   "source": [
    "nombre_infected      1040\n",
    "nombre_sain          1916\n",
    "nombre_exposed        536\n",
    "nombre_recovered    16508\n",
    "Name: 482, dtype: int64"
   ]
  },
  {
   "cell_type": "markdown",
   "id": "81d90922",
   "metadata": {},
   "source": [
    "nombre_infected      1026\n",
    "nombre_sain          1924\n",
    "nombre_exposed        536\n",
    "nombre_recovered    16514\n",
    "Name: 483, dtype: int64"
   ]
  },
  {
   "cell_type": "markdown",
   "id": "f33dc138",
   "metadata": {},
   "source": [
    "nombre_infected      1020\n",
    "nombre_sain          1916\n",
    "nombre_exposed        530\n",
    "nombre_recovered    16534\n",
    "Name: 484, dtype: int64"
   ]
  },
  {
   "cell_type": "markdown",
   "id": "54e9c546",
   "metadata": {},
   "source": [
    "nombre_infected      1003\n",
    "nombre_sain          1933\n",
    "nombre_exposed        536\n",
    "nombre_recovered    16528\n",
    "Name: 485, dtype: int64"
   ]
  },
  {
   "cell_type": "markdown",
   "id": "54612cd2",
   "metadata": {},
   "source": [
    "nombre_infected      1020\n",
    "nombre_sain          1933\n",
    "nombre_exposed        517\n",
    "nombre_recovered    16530\n",
    "Name: 486, dtype: int64"
   ]
  },
  {
   "cell_type": "markdown",
   "id": "ebef679b",
   "metadata": {},
   "source": [
    "nombre_infected       991\n",
    "nombre_sain          1944\n",
    "nombre_exposed        509\n",
    "nombre_recovered    16556\n",
    "Name: 487, dtype: int64"
   ]
  },
  {
   "cell_type": "markdown",
   "id": "022c83a9",
   "metadata": {},
   "source": [
    "nombre_infected       958\n",
    "nombre_sain          1930\n",
    "nombre_exposed        518\n",
    "nombre_recovered    16594\n",
    "Name: 488, dtype: int64"
   ]
  },
  {
   "cell_type": "markdown",
   "id": "f6e250a6",
   "metadata": {},
   "source": [
    "nombre_infected       946\n",
    "nombre_sain          1949\n",
    "nombre_exposed        501\n",
    "nombre_recovered    16604\n",
    "Name: 489, dtype: int64"
   ]
  },
  {
   "cell_type": "markdown",
   "id": "283d2906",
   "metadata": {},
   "source": [
    "nombre_infected       946\n",
    "nombre_sain          1938\n",
    "nombre_exposed        502\n",
    "nombre_recovered    16614\n",
    "Name: 490, dtype: int64"
   ]
  },
  {
   "cell_type": "markdown",
   "id": "d9374614",
   "metadata": {},
   "source": [
    "nombre_infected       933\n",
    "nombre_sain          1951\n",
    "nombre_exposed        486\n",
    "nombre_recovered    16630\n",
    "Name: 491, dtype: int64"
   ]
  },
  {
   "cell_type": "markdown",
   "id": "80fb8bf9",
   "metadata": {},
   "source": [
    "nombre_infected       937\n",
    "nombre_sain          1971\n",
    "nombre_exposed        465\n",
    "nombre_recovered    16627\n",
    "Name: 492, dtype: int64"
   ]
  },
  {
   "cell_type": "markdown",
   "id": "77a752f8",
   "metadata": {},
   "source": [
    "nombre_infected       920\n",
    "nombre_sain          1978\n",
    "nombre_exposed        465\n",
    "nombre_recovered    16637\n",
    "Name: 493, dtype: int64"
   ]
  },
  {
   "cell_type": "markdown",
   "id": "54047d77",
   "metadata": {},
   "source": [
    "nombre_infected       887\n",
    "nombre_sain          1991\n",
    "nombre_exposed        480\n",
    "nombre_recovered    16642\n",
    "Name: 494, dtype: int64"
   ]
  },
  {
   "cell_type": "markdown",
   "id": "2af9d99b",
   "metadata": {},
   "source": [
    "nombre_infected       903\n",
    "nombre_sain          1990\n",
    "nombre_exposed        467\n",
    "nombre_recovered    16640\n",
    "Name: 495, dtype: int64"
   ]
  },
  {
   "cell_type": "markdown",
   "id": "056d94b6",
   "metadata": {},
   "source": [
    "nombre_infected       865\n",
    "nombre_sain          1981\n",
    "nombre_exposed        474\n",
    "nombre_recovered    16680\n",
    "Name: 496, dtype: int64"
   ]
  },
  {
   "cell_type": "markdown",
   "id": "3ec61be0",
   "metadata": {},
   "source": [
    "nombre_infected       861\n",
    "nombre_sain          1967\n",
    "nombre_exposed        457\n",
    "nombre_recovered    16715\n",
    "Name: 497, dtype: int64"
   ]
  },
  {
   "cell_type": "markdown",
   "id": "e9981c3c",
   "metadata": {},
   "source": [
    "nombre_infected       854\n",
    "nombre_sain          1975\n",
    "nombre_exposed        446\n",
    "nombre_recovered    16725\n",
    "Name: 498, dtype: int64"
   ]
  },
  {
   "cell_type": "markdown",
   "id": "d3203346",
   "metadata": {},
   "source": [
    "nombre_infected       858\n",
    "nombre_sain          2000\n",
    "nombre_exposed        432\n",
    "nombre_recovered    16710\n",
    "Name: 499, dtype: int64"
   ]
  },
  {
   "cell_type": "markdown",
   "id": "b6608dc9",
   "metadata": {},
   "source": [
    "nombre_infected       837\n",
    "nombre_sain          2015\n",
    "nombre_exposed        439\n",
    "nombre_recovered    16709\n",
    "Name: 500, dtype: int64"
   ]
  },
  {
   "cell_type": "markdown",
   "id": "516bad6c",
   "metadata": {},
   "source": [
    "nombre_infected       837\n",
    "nombre_sain          2028\n",
    "nombre_exposed        446\n",
    "nombre_recovered    16689\n",
    "Name: 501, dtype: int64"
   ]
  },
  {
   "cell_type": "markdown",
   "id": "90272b7f",
   "metadata": {},
   "source": [
    "nombre_infected       827\n",
    "nombre_sain          2041\n",
    "nombre_exposed        447\n",
    "nombre_recovered    16685\n",
    "Name: 502, dtype: int64"
   ]
  },
  {
   "cell_type": "markdown",
   "id": "e7266313",
   "metadata": {},
   "source": [
    "nombre_infected       809\n",
    "nombre_sain          2045\n",
    "nombre_exposed        459\n",
    "nombre_recovered    16687\n",
    "Name: 503, dtype: int64"
   ]
  },
  {
   "cell_type": "markdown",
   "id": "dad36b7d",
   "metadata": {},
   "source": [
    "nombre_infected       818\n",
    "nombre_sain          2056\n",
    "nombre_exposed        445\n",
    "nombre_recovered    16681\n",
    "Name: 504, dtype: int64"
   ]
  },
  {
   "cell_type": "markdown",
   "id": "49c487e4",
   "metadata": {},
   "source": [
    "nombre_infected       809\n",
    "nombre_sain          2053\n",
    "nombre_exposed        452\n",
    "nombre_recovered    16686\n",
    "Name: 505, dtype: int64"
   ]
  },
  {
   "cell_type": "markdown",
   "id": "2625b8ee",
   "metadata": {},
   "source": [
    "nombre_infected       807\n",
    "nombre_sain          2056\n",
    "nombre_exposed        457\n",
    "nombre_recovered    16680\n",
    "Name: 506, dtype: int64"
   ]
  },
  {
   "cell_type": "markdown",
   "id": "12d8b776",
   "metadata": {},
   "source": [
    "nombre_infected       795\n",
    "nombre_sain          2065\n",
    "nombre_exposed        470\n",
    "nombre_recovered    16670\n",
    "Name: 507, dtype: int64"
   ]
  },
  {
   "cell_type": "markdown",
   "id": "3cd137a7",
   "metadata": {},
   "source": [
    "nombre_infected       802\n",
    "nombre_sain          2092\n",
    "nombre_exposed        458\n",
    "nombre_recovered    16648\n",
    "Name: 508, dtype: int64"
   ]
  },
  {
   "cell_type": "markdown",
   "id": "cc9a2fda",
   "metadata": {},
   "source": [
    "nombre_infected       813\n",
    "nombre_sain          2124\n",
    "nombre_exposed        447\n",
    "nombre_recovered    16616\n",
    "Name: 509, dtype: int64"
   ]
  },
  {
   "cell_type": "markdown",
   "id": "1060d329",
   "metadata": {},
   "source": [
    "nombre_infected       814\n",
    "nombre_sain          2127\n",
    "nombre_exposed        445\n",
    "nombre_recovered    16614\n",
    "Name: 510, dtype: int64"
   ]
  },
  {
   "cell_type": "markdown",
   "id": "8cc60a41",
   "metadata": {},
   "source": [
    "nombre_infected       823\n",
    "nombre_sain          2135\n",
    "nombre_exposed        443\n",
    "nombre_recovered    16599\n",
    "Name: 511, dtype: int64"
   ]
  },
  {
   "cell_type": "markdown",
   "id": "91fe56c1",
   "metadata": {},
   "source": [
    "nombre_infected       800\n",
    "nombre_sain          2155\n",
    "nombre_exposed        459\n",
    "nombre_recovered    16586\n",
    "Name: 512, dtype: int64"
   ]
  },
  {
   "cell_type": "markdown",
   "id": "d59500ff",
   "metadata": {},
   "source": [
    "nombre_infected       793\n",
    "nombre_sain          2173\n",
    "nombre_exposed        458\n",
    "nombre_recovered    16576\n",
    "Name: 513, dtype: int64"
   ]
  },
  {
   "cell_type": "markdown",
   "id": "59001b85",
   "metadata": {},
   "source": [
    "nombre_infected       792\n",
    "nombre_sain          2184\n",
    "nombre_exposed        465\n",
    "nombre_recovered    16559\n",
    "Name: 514, dtype: int64"
   ]
  },
  {
   "cell_type": "markdown",
   "id": "2ecec2c7",
   "metadata": {},
   "source": [
    "nombre_infected       812\n",
    "nombre_sain          2179\n",
    "nombre_exposed        459\n",
    "nombre_recovered    16550\n",
    "Name: 515, dtype: int64"
   ]
  },
  {
   "cell_type": "markdown",
   "id": "889a9889",
   "metadata": {},
   "source": [
    "nombre_infected       803\n",
    "nombre_sain          2188\n",
    "nombre_exposed        477\n",
    "nombre_recovered    16532\n",
    "Name: 516, dtype: int64"
   ]
  },
  {
   "cell_type": "markdown",
   "id": "75aa510a",
   "metadata": {},
   "source": [
    "nombre_infected       799\n",
    "nombre_sain          2205\n",
    "nombre_exposed        476\n",
    "nombre_recovered    16520\n",
    "Name: 517, dtype: int64"
   ]
  },
  {
   "cell_type": "markdown",
   "id": "9684c85e",
   "metadata": {},
   "source": [
    "nombre_infected       784\n",
    "nombre_sain          2206\n",
    "nombre_exposed        491\n",
    "nombre_recovered    16519\n",
    "Name: 518, dtype: int64"
   ]
  },
  {
   "cell_type": "markdown",
   "id": "96b51b0a",
   "metadata": {},
   "source": [
    "nombre_infected       785\n",
    "nombre_sain          2193\n",
    "nombre_exposed        510\n",
    "nombre_recovered    16512\n",
    "Name: 519, dtype: int64"
   ]
  },
  {
   "cell_type": "markdown",
   "id": "d15bb5f3",
   "metadata": {},
   "source": [
    "nombre_infected       813\n",
    "nombre_sain          2214\n",
    "nombre_exposed        490\n",
    "nombre_recovered    16483\n",
    "Name: 520, dtype: int64"
   ]
  },
  {
   "cell_type": "markdown",
   "id": "d9acce54",
   "metadata": {},
   "source": [
    "nombre_infected       837\n",
    "nombre_sain          2243\n",
    "nombre_exposed        456\n",
    "nombre_recovered    16464\n",
    "Name: 521, dtype: int64"
   ]
  },
  {
   "cell_type": "markdown",
   "id": "18dc317c",
   "metadata": {},
   "source": [
    "nombre_infected       809\n",
    "nombre_sain          2228\n",
    "nombre_exposed        479\n",
    "nombre_recovered    16484\n",
    "Name: 522, dtype: int64"
   ]
  },
  {
   "cell_type": "markdown",
   "id": "4e6fdcd6",
   "metadata": {},
   "source": [
    "nombre_infected       799\n",
    "nombre_sain          2228\n",
    "nombre_exposed        485\n",
    "nombre_recovered    16488\n",
    "Name: 523, dtype: int64"
   ]
  },
  {
   "cell_type": "markdown",
   "id": "d65fe147",
   "metadata": {},
   "source": [
    "nombre_infected       796\n",
    "nombre_sain          2191\n",
    "nombre_exposed        503\n",
    "nombre_recovered    16510\n",
    "Name: 524, dtype: int64"
   ]
  },
  {
   "cell_type": "markdown",
   "id": "3acbc000",
   "metadata": {},
   "source": [
    "nombre_infected       807\n",
    "nombre_sain          2163\n",
    "nombre_exposed        534\n",
    "nombre_recovered    16496\n",
    "Name: 525, dtype: int64"
   ]
  },
  {
   "cell_type": "markdown",
   "id": "b5567c64",
   "metadata": {},
   "source": [
    "nombre_infected       802\n",
    "nombre_sain          2173\n",
    "nombre_exposed        524\n",
    "nombre_recovered    16501\n",
    "Name: 526, dtype: int64"
   ]
  },
  {
   "cell_type": "markdown",
   "id": "73dbc230",
   "metadata": {},
   "source": [
    "nombre_infected       799\n",
    "nombre_sain          2166\n",
    "nombre_exposed        513\n",
    "nombre_recovered    16522\n",
    "Name: 527, dtype: int64"
   ]
  },
  {
   "cell_type": "markdown",
   "id": "e8c3d07f",
   "metadata": {},
   "source": [
    "nombre_infected       810\n",
    "nombre_sain          2163\n",
    "nombre_exposed        500\n",
    "nombre_recovered    16527\n",
    "Name: 528, dtype: int64"
   ]
  },
  {
   "cell_type": "markdown",
   "id": "bc34c743",
   "metadata": {},
   "source": [
    "nombre_infected       793\n",
    "nombre_sain          2139\n",
    "nombre_exposed        515\n",
    "nombre_recovered    16553\n",
    "Name: 529, dtype: int64"
   ]
  },
  {
   "cell_type": "markdown",
   "id": "98679c76",
   "metadata": {},
   "source": [
    "nombre_infected       805\n",
    "nombre_sain          2131\n",
    "nombre_exposed        511\n",
    "nombre_recovered    16553\n",
    "Name: 530, dtype: int64"
   ]
  },
  {
   "cell_type": "markdown",
   "id": "16f9e38d",
   "metadata": {},
   "source": [
    "nombre_infected       814\n",
    "nombre_sain          2122\n",
    "nombre_exposed        486\n",
    "nombre_recovered    16578\n",
    "Name: 531, dtype: int64"
   ]
  },
  {
   "cell_type": "markdown",
   "id": "b2c77da0",
   "metadata": {},
   "source": [
    "nombre_infected       829\n",
    "nombre_sain          2125\n",
    "nombre_exposed        477\n",
    "nombre_recovered    16569\n",
    "Name: 532, dtype: int64"
   ]
  },
  {
   "cell_type": "markdown",
   "id": "fdfdbbcc",
   "metadata": {},
   "source": [
    "nombre_infected       832\n",
    "nombre_sain          2142\n",
    "nombre_exposed        440\n",
    "nombre_recovered    16586\n",
    "Name: 533, dtype: int64"
   ]
  },
  {
   "cell_type": "markdown",
   "id": "adefcb06",
   "metadata": {},
   "source": [
    "nombre_infected       847\n",
    "nombre_sain          2114\n",
    "nombre_exposed        436\n",
    "nombre_recovered    16603\n",
    "Name: 534, dtype: int64"
   ]
  },
  {
   "cell_type": "markdown",
   "id": "63a8c597",
   "metadata": {},
   "source": [
    "nombre_infected       827\n",
    "nombre_sain          2116\n",
    "nombre_exposed        445\n",
    "nombre_recovered    16612\n",
    "Name: 535, dtype: int64"
   ]
  },
  {
   "cell_type": "markdown",
   "id": "a62094ea",
   "metadata": {},
   "source": [
    "nombre_infected       809\n",
    "nombre_sain          2095\n",
    "nombre_exposed        443\n",
    "nombre_recovered    16653\n",
    "Name: 536, dtype: int64"
   ]
  },
  {
   "cell_type": "markdown",
   "id": "61cbc3c5",
   "metadata": {},
   "source": [
    "nombre_infected       785\n",
    "nombre_sain          2090\n",
    "nombre_exposed        439\n",
    "nombre_recovered    16686\n",
    "Name: 537, dtype: int64"
   ]
  },
  {
   "cell_type": "markdown",
   "id": "c9c3bbc6",
   "metadata": {},
   "source": [
    "nombre_infected       783\n",
    "nombre_sain          2098\n",
    "nombre_exposed        433\n",
    "nombre_recovered    16686\n",
    "Name: 538, dtype: int64"
   ]
  },
  {
   "cell_type": "markdown",
   "id": "68aec94f",
   "metadata": {},
   "source": [
    "nombre_infected       772\n",
    "nombre_sain          2103\n",
    "nombre_exposed        408\n",
    "nombre_recovered    16717\n",
    "Name: 539, dtype: int64"
   ]
  },
  {
   "cell_type": "markdown",
   "id": "d6592da0",
   "metadata": {},
   "source": [
    "nombre_infected       759\n",
    "nombre_sain          2095\n",
    "nombre_exposed        405\n",
    "nombre_recovered    16741\n",
    "Name: 540, dtype: int64"
   ]
  },
  {
   "cell_type": "markdown",
   "id": "10a1d8c3",
   "metadata": {},
   "source": [
    "nombre_infected       727\n",
    "nombre_sain          2122\n",
    "nombre_exposed        395\n",
    "nombre_recovered    16756\n",
    "Name: 541, dtype: int64"
   ]
  },
  {
   "cell_type": "markdown",
   "id": "c955eb20",
   "metadata": {},
   "source": [
    "nombre_infected       697\n",
    "nombre_sain          2159\n",
    "nombre_exposed        400\n",
    "nombre_recovered    16744\n",
    "Name: 542, dtype: int64"
   ]
  },
  {
   "cell_type": "markdown",
   "id": "95550037",
   "metadata": {},
   "source": [
    "nombre_infected       702\n",
    "nombre_sain          2150\n",
    "nombre_exposed        397\n",
    "nombre_recovered    16751\n",
    "Name: 543, dtype: int64"
   ]
  },
  {
   "cell_type": "markdown",
   "id": "dc6e3514",
   "metadata": {},
   "source": [
    "nombre_infected       687\n",
    "nombre_sain          2157\n",
    "nombre_exposed        393\n",
    "nombre_recovered    16763\n",
    "Name: 544, dtype: int64"
   ]
  },
  {
   "cell_type": "markdown",
   "id": "b68d9685",
   "metadata": {},
   "source": [
    "nombre_infected       669\n",
    "nombre_sain          2157\n",
    "nombre_exposed        396\n",
    "nombre_recovered    16778\n",
    "Name: 545, dtype: int64"
   ]
  },
  {
   "cell_type": "markdown",
   "id": "1d35057a",
   "metadata": {},
   "source": [
    "nombre_infected       659\n",
    "nombre_sain          2163\n",
    "nombre_exposed        374\n",
    "nombre_recovered    16804\n",
    "Name: 546, dtype: int64"
   ]
  },
  {
   "cell_type": "markdown",
   "id": "bbec00d4",
   "metadata": {},
   "source": [
    "nombre_infected       648\n",
    "nombre_sain          2145\n",
    "nombre_exposed        389\n",
    "nombre_recovered    16818\n",
    "Name: 547, dtype: int64"
   ]
  },
  {
   "cell_type": "markdown",
   "id": "fe9ab569",
   "metadata": {},
   "source": [
    "nombre_infected       639\n",
    "nombre_sain          2174\n",
    "nombre_exposed        379\n",
    "nombre_recovered    16808\n",
    "Name: 548, dtype: int64"
   ]
  },
  {
   "cell_type": "markdown",
   "id": "17fbd20f",
   "metadata": {},
   "source": [
    "nombre_infected       647\n",
    "nombre_sain          2162\n",
    "nombre_exposed        382\n",
    "nombre_recovered    16809\n",
    "Name: 549, dtype: int64"
   ]
  },
  {
   "cell_type": "markdown",
   "id": "51b20b6f",
   "metadata": {},
   "source": [
    "nombre_infected       645\n",
    "nombre_sain          2188\n",
    "nombre_exposed        374\n",
    "nombre_recovered    16793\n",
    "Name: 550, dtype: int64"
   ]
  },
  {
   "cell_type": "markdown",
   "id": "9f7d10cb",
   "metadata": {},
   "source": [
    "nombre_infected       639\n",
    "nombre_sain          2209\n",
    "nombre_exposed        376\n",
    "nombre_recovered    16776\n",
    "Name: 551, dtype: int64"
   ]
  },
  {
   "cell_type": "markdown",
   "id": "6a762e1c",
   "metadata": {},
   "source": [
    "nombre_infected       631\n",
    "nombre_sain          2219\n",
    "nombre_exposed        378\n",
    "nombre_recovered    16772\n",
    "Name: 552, dtype: int64"
   ]
  },
  {
   "cell_type": "markdown",
   "id": "6aaed2ab",
   "metadata": {},
   "source": [
    "nombre_infected       618\n",
    "nombre_sain          2208\n",
    "nombre_exposed        385\n",
    "nombre_recovered    16789\n",
    "Name: 553, dtype: int64"
   ]
  },
  {
   "cell_type": "markdown",
   "id": "7ccfabc3",
   "metadata": {},
   "source": [
    "nombre_infected       621\n",
    "nombre_sain          2212\n",
    "nombre_exposed        381\n",
    "nombre_recovered    16786\n",
    "Name: 554, dtype: int64"
   ]
  },
  {
   "cell_type": "markdown",
   "id": "b5c57c0e",
   "metadata": {},
   "source": [
    "nombre_infected       620\n",
    "nombre_sain          2229\n",
    "nombre_exposed        396\n",
    "nombre_recovered    16755\n",
    "Name: 555, dtype: int64"
   ]
  },
  {
   "cell_type": "markdown",
   "id": "a4b8f189",
   "metadata": {},
   "source": [
    "nombre_infected       609\n",
    "nombre_sain          2255\n",
    "nombre_exposed        386\n",
    "nombre_recovered    16750\n",
    "Name: 556, dtype: int64"
   ]
  },
  {
   "cell_type": "markdown",
   "id": "9abb3c1f",
   "metadata": {},
   "source": [
    "nombre_infected       623\n",
    "nombre_sain          2266\n",
    "nombre_exposed        377\n",
    "nombre_recovered    16734\n",
    "Name: 557, dtype: int64"
   ]
  },
  {
   "cell_type": "markdown",
   "id": "764f89b2",
   "metadata": {},
   "source": [
    "nombre_infected       618\n",
    "nombre_sain          2289\n",
    "nombre_exposed        383\n",
    "nombre_recovered    16710\n",
    "Name: 558, dtype: int64"
   ]
  },
  {
   "cell_type": "markdown",
   "id": "062a8df4",
   "metadata": {},
   "source": [
    "nombre_infected       625\n",
    "nombre_sain          2278\n",
    "nombre_exposed        382\n",
    "nombre_recovered    16715\n",
    "Name: 559, dtype: int64"
   ]
  },
  {
   "cell_type": "markdown",
   "id": "bed4e8cf",
   "metadata": {},
   "source": [
    "nombre_infected       648\n",
    "nombre_sain          2277\n",
    "nombre_exposed        386\n",
    "nombre_recovered    16689\n",
    "Name: 560, dtype: int64"
   ]
  },
  {
   "cell_type": "markdown",
   "id": "182ecedf",
   "metadata": {},
   "source": [
    "nombre_infected       645\n",
    "nombre_sain          2285\n",
    "nombre_exposed        383\n",
    "nombre_recovered    16687\n",
    "Name: 561, dtype: int64"
   ]
  },
  {
   "cell_type": "markdown",
   "id": "61d65d74",
   "metadata": {},
   "source": [
    "nombre_infected       635\n",
    "nombre_sain          2304\n",
    "nombre_exposed        379\n",
    "nombre_recovered    16682\n",
    "Name: 562, dtype: int64"
   ]
  },
  {
   "cell_type": "markdown",
   "id": "dc2df8d7",
   "metadata": {},
   "source": [
    "nombre_infected       646\n",
    "nombre_sain          2282\n",
    "nombre_exposed        380\n",
    "nombre_recovered    16692\n",
    "Name: 563, dtype: int64"
   ]
  },
  {
   "cell_type": "markdown",
   "id": "3abe10df",
   "metadata": {},
   "source": [
    "nombre_infected       647\n",
    "nombre_sain          2290\n",
    "nombre_exposed        378\n",
    "nombre_recovered    16685\n",
    "Name: 564, dtype: int64"
   ]
  },
  {
   "cell_type": "markdown",
   "id": "a49aa84e",
   "metadata": {},
   "source": [
    "nombre_infected       648\n",
    "nombre_sain          2280\n",
    "nombre_exposed        392\n",
    "nombre_recovered    16680\n",
    "Name: 565, dtype: int64"
   ]
  },
  {
   "cell_type": "markdown",
   "id": "849b00e8",
   "metadata": {},
   "source": [
    "nombre_infected       651\n",
    "nombre_sain          2287\n",
    "nombre_exposed        390\n",
    "nombre_recovered    16672\n",
    "Name: 566, dtype: int64"
   ]
  },
  {
   "cell_type": "markdown",
   "id": "6f2fd5be",
   "metadata": {},
   "source": [
    "nombre_infected       633\n",
    "nombre_sain          2295\n",
    "nombre_exposed        394\n",
    "nombre_recovered    16678\n",
    "Name: 567, dtype: int64"
   ]
  },
  {
   "cell_type": "markdown",
   "id": "11e55cd1",
   "metadata": {},
   "source": [
    "nombre_infected       647\n",
    "nombre_sain          2294\n",
    "nombre_exposed        382\n",
    "nombre_recovered    16677\n",
    "Name: 568, dtype: int64"
   ]
  },
  {
   "cell_type": "markdown",
   "id": "7becc96e",
   "metadata": {},
   "source": [
    "nombre_infected       654\n",
    "nombre_sain          2288\n",
    "nombre_exposed        375\n",
    "nombre_recovered    16683\n",
    "Name: 569, dtype: int64"
   ]
  },
  {
   "cell_type": "markdown",
   "id": "a743d582",
   "metadata": {},
   "source": [
    "nombre_infected       655\n",
    "nombre_sain          2302\n",
    "nombre_exposed        381\n",
    "nombre_recovered    16662\n",
    "Name: 570, dtype: int64"
   ]
  },
  {
   "cell_type": "markdown",
   "id": "003aeeb6",
   "metadata": {},
   "source": [
    "nombre_infected       645\n",
    "nombre_sain          2302\n",
    "nombre_exposed        385\n",
    "nombre_recovered    16668\n",
    "Name: 571, dtype: int64"
   ]
  },
  {
   "cell_type": "markdown",
   "id": "7ab70621",
   "metadata": {},
   "source": [
    "nombre_infected       645\n",
    "nombre_sain          2292\n",
    "nombre_exposed        406\n",
    "nombre_recovered    16657\n",
    "Name: 572, dtype: int64"
   ]
  },
  {
   "cell_type": "markdown",
   "id": "0294fb08",
   "metadata": {},
   "source": [
    "nombre_infected       658\n",
    "nombre_sain          2287\n",
    "nombre_exposed        398\n",
    "nombre_recovered    16657\n",
    "Name: 573, dtype: int64"
   ]
  },
  {
   "cell_type": "markdown",
   "id": "ce30ebfd",
   "metadata": {},
   "source": [
    "nombre_infected       684\n",
    "nombre_sain          2287\n",
    "nombre_exposed        377\n",
    "nombre_recovered    16652\n",
    "Name: 574, dtype: int64"
   ]
  },
  {
   "cell_type": "markdown",
   "id": "9a3e744c",
   "metadata": {},
   "source": [
    "nombre_infected       678\n",
    "nombre_sain          2291\n",
    "nombre_exposed        388\n",
    "nombre_recovered    16643\n",
    "Name: 575, dtype: int64"
   ]
  },
  {
   "cell_type": "markdown",
   "id": "bf033a48",
   "metadata": {},
   "source": [
    "nombre_infected       671\n",
    "nombre_sain          2300\n",
    "nombre_exposed        384\n",
    "nombre_recovered    16645\n",
    "Name: 576, dtype: int64"
   ]
  },
  {
   "cell_type": "markdown",
   "id": "9c4c6723",
   "metadata": {},
   "source": [
    "nombre_infected       659\n",
    "nombre_sain          2301\n",
    "nombre_exposed        394\n",
    "nombre_recovered    16646\n",
    "Name: 577, dtype: int64"
   ]
  },
  {
   "cell_type": "markdown",
   "id": "bfccc514",
   "metadata": {},
   "source": [
    "nombre_infected       652\n",
    "nombre_sain          2276\n",
    "nombre_exposed        413\n",
    "nombre_recovered    16659\n",
    "Name: 578, dtype: int64"
   ]
  },
  {
   "cell_type": "markdown",
   "id": "2228418c",
   "metadata": {},
   "source": [
    "nombre_infected       648\n",
    "nombre_sain          2272\n",
    "nombre_exposed        437\n",
    "nombre_recovered    16643\n",
    "Name: 579, dtype: int64"
   ]
  },
  {
   "cell_type": "markdown",
   "id": "3bd25bb3",
   "metadata": {},
   "source": [
    "nombre_infected       671\n",
    "nombre_sain          2296\n",
    "nombre_exposed        432\n",
    "nombre_recovered    16601\n",
    "Name: 580, dtype: int64"
   ]
  },
  {
   "cell_type": "markdown",
   "id": "7a8a199a",
   "metadata": {},
   "source": [
    "nombre_infected       689\n",
    "nombre_sain          2301\n",
    "nombre_exposed        418\n",
    "nombre_recovered    16592\n",
    "Name: 581, dtype: int64"
   ]
  },
  {
   "cell_type": "markdown",
   "id": "3b362dee",
   "metadata": {},
   "source": [
    "nombre_infected       704\n",
    "nombre_sain          2287\n",
    "nombre_exposed        441\n",
    "nombre_recovered    16568\n",
    "Name: 582, dtype: int64"
   ]
  },
  {
   "cell_type": "markdown",
   "id": "de14054e",
   "metadata": {},
   "source": [
    "nombre_infected       706\n",
    "nombre_sain          2286\n",
    "nombre_exposed        444\n",
    "nombre_recovered    16564\n",
    "Name: 583, dtype: int64"
   ]
  },
  {
   "cell_type": "markdown",
   "id": "f4fa47d1",
   "metadata": {},
   "source": [
    "nombre_infected       731\n",
    "nombre_sain          2310\n",
    "nombre_exposed        437\n",
    "nombre_recovered    16522\n",
    "Name: 584, dtype: int64"
   ]
  },
  {
   "cell_type": "markdown",
   "id": "47bddcf9",
   "metadata": {},
   "source": [
    "nombre_infected       741\n",
    "nombre_sain          2296\n",
    "nombre_exposed        443\n",
    "nombre_recovered    16520\n",
    "Name: 585, dtype: int64"
   ]
  },
  {
   "cell_type": "markdown",
   "id": "55b81e41",
   "metadata": {},
   "source": [
    "nombre_infected       732\n",
    "nombre_sain          2271\n",
    "nombre_exposed        448\n",
    "nombre_recovered    16549\n",
    "Name: 586, dtype: int64"
   ]
  },
  {
   "cell_type": "markdown",
   "id": "2c097057",
   "metadata": {},
   "source": [
    "nombre_infected       742\n",
    "nombre_sain          2266\n",
    "nombre_exposed        449\n",
    "nombre_recovered    16543\n",
    "Name: 587, dtype: int64"
   ]
  },
  {
   "cell_type": "markdown",
   "id": "8c976c37",
   "metadata": {},
   "source": [
    "nombre_infected       755\n",
    "nombre_sain          2261\n",
    "nombre_exposed        448\n",
    "nombre_recovered    16536\n",
    "Name: 588, dtype: int64"
   ]
  },
  {
   "cell_type": "markdown",
   "id": "e1d2f186",
   "metadata": {},
   "source": [
    "nombre_infected       758\n",
    "nombre_sain          2271\n",
    "nombre_exposed        450\n",
    "nombre_recovered    16521\n",
    "Name: 589, dtype: int64"
   ]
  },
  {
   "cell_type": "markdown",
   "id": "1eed557a",
   "metadata": {},
   "source": [
    "nombre_infected       775\n",
    "nombre_sain          2259\n",
    "nombre_exposed        457\n",
    "nombre_recovered    16509\n",
    "Name: 590, dtype: int64"
   ]
  },
  {
   "cell_type": "markdown",
   "id": "e76b8d8a",
   "metadata": {},
   "source": [
    "nombre_infected       772\n",
    "nombre_sain          2267\n",
    "nombre_exposed        460\n",
    "nombre_recovered    16501\n",
    "Name: 591, dtype: int64"
   ]
  },
  {
   "cell_type": "markdown",
   "id": "5c219fc1",
   "metadata": {},
   "source": [
    "nombre_infected       785\n",
    "nombre_sain          2268\n",
    "nombre_exposed        463\n",
    "nombre_recovered    16484\n",
    "Name: 592, dtype: int64"
   ]
  },
  {
   "cell_type": "markdown",
   "id": "06d44e22",
   "metadata": {},
   "source": [
    "nombre_infected       800\n",
    "nombre_sain          2293\n",
    "nombre_exposed        445\n",
    "nombre_recovered    16462\n",
    "Name: 593, dtype: int64"
   ]
  },
  {
   "cell_type": "markdown",
   "id": "40a3405e",
   "metadata": {},
   "source": [
    "nombre_infected       787\n",
    "nombre_sain          2297\n",
    "nombre_exposed        456\n",
    "nombre_recovered    16460\n",
    "Name: 594, dtype: int64"
   ]
  },
  {
   "cell_type": "markdown",
   "id": "9b6ff452",
   "metadata": {},
   "source": [
    "nombre_infected       791\n",
    "nombre_sain          2296\n",
    "nombre_exposed        452\n",
    "nombre_recovered    16461\n",
    "Name: 595, dtype: int64"
   ]
  },
  {
   "cell_type": "markdown",
   "id": "60915fd7",
   "metadata": {},
   "source": [
    "nombre_infected       775\n",
    "nombre_sain          2309\n",
    "nombre_exposed        474\n",
    "nombre_recovered    16442\n",
    "Name: 596, dtype: int64"
   ]
  },
  {
   "cell_type": "markdown",
   "id": "fa3416ef",
   "metadata": {},
   "source": [
    "nombre_infected       753\n",
    "nombre_sain          2324\n",
    "nombre_exposed        479\n",
    "nombre_recovered    16444\n",
    "Name: 597, dtype: int64"
   ]
  },
  {
   "cell_type": "markdown",
   "id": "7c05e1c9",
   "metadata": {},
   "source": [
    "nombre_infected       768\n",
    "nombre_sain          2336\n",
    "nombre_exposed        473\n",
    "nombre_recovered    16423\n",
    "Name: 598, dtype: int64"
   ]
  },
  {
   "cell_type": "markdown",
   "id": "6b29515a",
   "metadata": {},
   "source": [
    "nombre_infected       780\n",
    "nombre_sain          2332\n",
    "nombre_exposed        468\n",
    "nombre_recovered    16420\n",
    "Name: 599, dtype: int64"
   ]
  },
  {
   "cell_type": "markdown",
   "id": "b9d2b60b",
   "metadata": {},
   "source": [
    "nombre_infected       779\n",
    "nombre_sain          2328\n",
    "nombre_exposed        465\n",
    "nombre_recovered    16428\n",
    "Name: 600, dtype: int64"
   ]
  },
  {
   "cell_type": "markdown",
   "id": "37266512",
   "metadata": {},
   "source": [
    "nombre_infected       759\n",
    "nombre_sain          2335\n",
    "nombre_exposed        479\n",
    "nombre_recovered    16427\n",
    "Name: 601, dtype: int64"
   ]
  },
  {
   "cell_type": "markdown",
   "id": "cbfbd7ad",
   "metadata": {},
   "source": [
    "nombre_infected       751\n",
    "nombre_sain          2328\n",
    "nombre_exposed        493\n",
    "nombre_recovered    16428\n",
    "Name: 602, dtype: int64"
   ]
  },
  {
   "cell_type": "markdown",
   "id": "11325473",
   "metadata": {},
   "source": [
    "nombre_infected       743\n",
    "nombre_sain          2330\n",
    "nombre_exposed        499\n",
    "nombre_recovered    16428\n",
    "Name: 603, dtype: int64"
   ]
  },
  {
   "cell_type": "markdown",
   "id": "1f3f547f",
   "metadata": {},
   "source": [
    "nombre_infected       755\n",
    "nombre_sain          2300\n",
    "nombre_exposed        498\n",
    "nombre_recovered    16447\n",
    "Name: 604, dtype: int64"
   ]
  },
  {
   "cell_type": "markdown",
   "id": "cc0daabb",
   "metadata": {},
   "source": [
    "nombre_infected       766\n",
    "nombre_sain          2287\n",
    "nombre_exposed        498\n",
    "nombre_recovered    16449\n",
    "Name: 605, dtype: int64"
   ]
  },
  {
   "cell_type": "markdown",
   "id": "e665fa31",
   "metadata": {},
   "source": [
    "nombre_infected       776\n",
    "nombre_sain          2321\n",
    "nombre_exposed        473\n",
    "nombre_recovered    16430\n",
    "Name: 606, dtype: int64"
   ]
  },
  {
   "cell_type": "markdown",
   "id": "5529c9b3",
   "metadata": {},
   "source": [
    "nombre_infected       806\n",
    "nombre_sain          2322\n",
    "nombre_exposed        478\n",
    "nombre_recovered    16394\n",
    "Name: 607, dtype: int64"
   ]
  },
  {
   "cell_type": "markdown",
   "id": "a92c7c9e",
   "metadata": {},
   "source": [
    "nombre_infected       796\n",
    "nombre_sain          2320\n",
    "nombre_exposed        499\n",
    "nombre_recovered    16385\n",
    "Name: 608, dtype: int64"
   ]
  },
  {
   "cell_type": "markdown",
   "id": "4b9a9607",
   "metadata": {},
   "source": [
    "nombre_infected       812\n",
    "nombre_sain          2316\n",
    "nombre_exposed        497\n",
    "nombre_recovered    16375\n",
    "Name: 609, dtype: int64"
   ]
  },
  {
   "cell_type": "markdown",
   "id": "694bdd0c",
   "metadata": {},
   "source": [
    "nombre_infected       824\n",
    "nombre_sain          2312\n",
    "nombre_exposed        492\n",
    "nombre_recovered    16372\n",
    "Name: 610, dtype: int64"
   ]
  },
  {
   "cell_type": "markdown",
   "id": "48b2017d",
   "metadata": {},
   "source": [
    "nombre_infected       827\n",
    "nombre_sain          2333\n",
    "nombre_exposed        505\n",
    "nombre_recovered    16335\n",
    "Name: 611, dtype: int64"
   ]
  },
  {
   "cell_type": "markdown",
   "id": "8a99b614",
   "metadata": {},
   "source": [
    "nombre_infected       821\n",
    "nombre_sain          2339\n",
    "nombre_exposed        506\n",
    "nombre_recovered    16334\n",
    "Name: 612, dtype: int64"
   ]
  },
  {
   "cell_type": "markdown",
   "id": "73b0c562",
   "metadata": {},
   "source": [
    "nombre_infected       826\n",
    "nombre_sain          2324\n",
    "nombre_exposed        516\n",
    "nombre_recovered    16334\n",
    "Name: 613, dtype: int64"
   ]
  },
  {
   "cell_type": "markdown",
   "id": "bab393ba",
   "metadata": {},
   "source": [
    "nombre_infected       826\n",
    "nombre_sain          2309\n",
    "nombre_exposed        538\n",
    "nombre_recovered    16327\n",
    "Name: 614, dtype: int64"
   ]
  },
  {
   "cell_type": "markdown",
   "id": "a410e4ee",
   "metadata": {},
   "source": [
    "nombre_infected       821\n",
    "nombre_sain          2348\n",
    "nombre_exposed        525\n",
    "nombre_recovered    16306\n",
    "Name: 615, dtype: int64"
   ]
  },
  {
   "cell_type": "markdown",
   "id": "28257c14",
   "metadata": {},
   "source": [
    "nombre_infected       844\n",
    "nombre_sain          2357\n",
    "nombre_exposed        509\n",
    "nombre_recovered    16290\n",
    "Name: 616, dtype: int64"
   ]
  },
  {
   "cell_type": "markdown",
   "id": "bae829c0",
   "metadata": {},
   "source": [
    "nombre_infected       847\n",
    "nombre_sain          2360\n",
    "nombre_exposed        511\n",
    "nombre_recovered    16282\n",
    "Name: 617, dtype: int64"
   ]
  },
  {
   "cell_type": "markdown",
   "id": "31f1c393",
   "metadata": {},
   "source": [
    "nombre_infected       848\n",
    "nombre_sain          2349\n",
    "nombre_exposed        535\n",
    "nombre_recovered    16268\n",
    "Name: 618, dtype: int64"
   ]
  },
  {
   "cell_type": "markdown",
   "id": "d094de0c",
   "metadata": {},
   "source": [
    "nombre_infected       858\n",
    "nombre_sain          2351\n",
    "nombre_exposed        550\n",
    "nombre_recovered    16241\n",
    "Name: 619, dtype: int64"
   ]
  },
  {
   "cell_type": "markdown",
   "id": "113dfb9f",
   "metadata": {},
   "source": [
    "nombre_infected       880\n",
    "nombre_sain          2334\n",
    "nombre_exposed        559\n",
    "nombre_recovered    16227\n",
    "Name: 620, dtype: int64"
   ]
  },
  {
   "cell_type": "markdown",
   "id": "1ff0fd60",
   "metadata": {},
   "source": [
    "nombre_infected       878\n",
    "nombre_sain          2341\n",
    "nombre_exposed        570\n",
    "nombre_recovered    16211\n",
    "Name: 621, dtype: int64"
   ]
  },
  {
   "cell_type": "markdown",
   "id": "452a32a8",
   "metadata": {},
   "source": [
    "nombre_infected       899\n",
    "nombre_sain          2310\n",
    "nombre_exposed        587\n",
    "nombre_recovered    16204\n",
    "Name: 622, dtype: int64"
   ]
  },
  {
   "cell_type": "markdown",
   "id": "74f50dd4",
   "metadata": {},
   "source": [
    "nombre_infected       901\n",
    "nombre_sain          2288\n",
    "nombre_exposed        602\n",
    "nombre_recovered    16209\n",
    "Name: 623, dtype: int64"
   ]
  },
  {
   "cell_type": "markdown",
   "id": "392acb85",
   "metadata": {},
   "source": [
    "nombre_infected       890\n",
    "nombre_sain          2268\n",
    "nombre_exposed        625\n",
    "nombre_recovered    16217\n",
    "Name: 624, dtype: int64"
   ]
  },
  {
   "cell_type": "markdown",
   "id": "f1af1261",
   "metadata": {},
   "source": [
    "nombre_infected       921\n",
    "nombre_sain          2269\n",
    "nombre_exposed        605\n",
    "nombre_recovered    16205\n",
    "Name: 625, dtype: int64"
   ]
  },
  {
   "cell_type": "markdown",
   "id": "07af0b67",
   "metadata": {},
   "source": [
    "nombre_infected       906\n",
    "nombre_sain          2275\n",
    "nombre_exposed        599\n",
    "nombre_recovered    16220\n",
    "Name: 626, dtype: int64"
   ]
  },
  {
   "cell_type": "markdown",
   "id": "e243ed22",
   "metadata": {},
   "source": [
    "nombre_infected       929\n",
    "nombre_sain          2277\n",
    "nombre_exposed        589\n",
    "nombre_recovered    16205\n",
    "Name: 627, dtype: int64"
   ]
  },
  {
   "cell_type": "markdown",
   "id": "64b33e62",
   "metadata": {},
   "source": [
    "nombre_infected       952\n",
    "nombre_sain          2277\n",
    "nombre_exposed        577\n",
    "nombre_recovered    16194\n",
    "Name: 628, dtype: int64"
   ]
  },
  {
   "cell_type": "markdown",
   "id": "5460403a",
   "metadata": {},
   "source": [
    "nombre_infected       978\n",
    "nombre_sain          2279\n",
    "nombre_exposed        584\n",
    "nombre_recovered    16159\n",
    "Name: 629, dtype: int64"
   ]
  },
  {
   "cell_type": "markdown",
   "id": "ff74e9cd",
   "metadata": {},
   "source": [
    "nombre_infected       991\n",
    "nombre_sain          2299\n",
    "nombre_exposed        567\n",
    "nombre_recovered    16143\n",
    "Name: 630, dtype: int64"
   ]
  },
  {
   "cell_type": "markdown",
   "id": "c11dc93e",
   "metadata": {},
   "source": [
    "nombre_infected       990\n",
    "nombre_sain          2278\n",
    "nombre_exposed        571\n",
    "nombre_recovered    16161\n",
    "Name: 631, dtype: int64"
   ]
  },
  {
   "cell_type": "markdown",
   "id": "16e31899",
   "metadata": {},
   "source": [
    "nombre_infected       973\n",
    "nombre_sain          2260\n",
    "nombre_exposed        576\n",
    "nombre_recovered    16191\n",
    "Name: 632, dtype: int64"
   ]
  },
  {
   "cell_type": "markdown",
   "id": "dffb0081",
   "metadata": {},
   "source": [
    "nombre_infected       978\n",
    "nombre_sain          2246\n",
    "nombre_exposed        576\n",
    "nombre_recovered    16200\n",
    "Name: 633, dtype: int64"
   ]
  },
  {
   "cell_type": "markdown",
   "id": "ca6c84d3",
   "metadata": {},
   "source": [
    "nombre_infected       964\n",
    "nombre_sain          2230\n",
    "nombre_exposed        595\n",
    "nombre_recovered    16211\n",
    "Name: 634, dtype: int64"
   ]
  },
  {
   "cell_type": "markdown",
   "id": "352ad42f",
   "metadata": {},
   "source": [
    "nombre_infected       948\n",
    "nombre_sain          2229\n",
    "nombre_exposed        599\n",
    "nombre_recovered    16224\n",
    "Name: 635, dtype: int64"
   ]
  },
  {
   "cell_type": "markdown",
   "id": "0f8a7960",
   "metadata": {},
   "source": [
    "nombre_infected       941\n",
    "nombre_sain          2214\n",
    "nombre_exposed        596\n",
    "nombre_recovered    16249\n",
    "Name: 636, dtype: int64"
   ]
  },
  {
   "cell_type": "markdown",
   "id": "9d91c9d0",
   "metadata": {},
   "source": [
    "nombre_infected       927\n",
    "nombre_sain          2211\n",
    "nombre_exposed        608\n",
    "nombre_recovered    16254\n",
    "Name: 637, dtype: int64"
   ]
  },
  {
   "cell_type": "markdown",
   "id": "f7d1b2ad",
   "metadata": {},
   "source": [
    "nombre_infected       917\n",
    "nombre_sain          2211\n",
    "nombre_exposed        599\n",
    "nombre_recovered    16273\n",
    "Name: 638, dtype: int64"
   ]
  },
  {
   "cell_type": "markdown",
   "id": "d3a2e55e",
   "metadata": {},
   "source": [
    "nombre_infected       954\n",
    "nombre_sain          2185\n",
    "nombre_exposed        579\n",
    "nombre_recovered    16282\n",
    "Name: 639, dtype: int64"
   ]
  },
  {
   "cell_type": "markdown",
   "id": "8c1e3a6a",
   "metadata": {},
   "source": [
    "nombre_infected       970\n",
    "nombre_sain          2187\n",
    "nombre_exposed        548\n",
    "nombre_recovered    16295\n",
    "Name: 640, dtype: int64"
   ]
  },
  {
   "cell_type": "markdown",
   "id": "4cb00a3a",
   "metadata": {},
   "source": [
    "nombre_infected       971\n",
    "nombre_sain          2178\n",
    "nombre_exposed        544\n",
    "nombre_recovered    16307\n",
    "Name: 641, dtype: int64"
   ]
  },
  {
   "cell_type": "markdown",
   "id": "29884044",
   "metadata": {},
   "source": [
    "nombre_infected       962\n",
    "nombre_sain          2176\n",
    "nombre_exposed        558\n",
    "nombre_recovered    16304\n",
    "Name: 642, dtype: int64"
   ]
  },
  {
   "cell_type": "markdown",
   "id": "20092193",
   "metadata": {},
   "source": [
    "nombre_infected       970\n",
    "nombre_sain          2148\n",
    "nombre_exposed        558\n",
    "nombre_recovered    16324\n",
    "Name: 643, dtype: int64"
   ]
  },
  {
   "cell_type": "markdown",
   "id": "b2a43d34",
   "metadata": {},
   "source": [
    "nombre_infected       973\n",
    "nombre_sain          2148\n",
    "nombre_exposed        572\n",
    "nombre_recovered    16307\n",
    "Name: 644, dtype: int64"
   ]
  },
  {
   "cell_type": "markdown",
   "id": "6e52760f",
   "metadata": {},
   "source": [
    "nombre_infected       981\n",
    "nombre_sain          2126\n",
    "nombre_exposed        569\n",
    "nombre_recovered    16324\n",
    "Name: 645, dtype: int64"
   ]
  },
  {
   "cell_type": "markdown",
   "id": "bf1b5301",
   "metadata": {},
   "source": [
    "nombre_infected       979\n",
    "nombre_sain          2120\n",
    "nombre_exposed        570\n",
    "nombre_recovered    16331\n",
    "Name: 646, dtype: int64"
   ]
  },
  {
   "cell_type": "markdown",
   "id": "4f63c838",
   "metadata": {},
   "source": [
    "nombre_infected       976\n",
    "nombre_sain          2113\n",
    "nombre_exposed        589\n",
    "nombre_recovered    16322\n",
    "Name: 647, dtype: int64"
   ]
  },
  {
   "cell_type": "markdown",
   "id": "941d54b5",
   "metadata": {},
   "source": [
    "nombre_infected       968\n",
    "nombre_sain          2117\n",
    "nombre_exposed        582\n",
    "nombre_recovered    16333\n",
    "Name: 648, dtype: int64"
   ]
  },
  {
   "cell_type": "markdown",
   "id": "769a53af",
   "metadata": {},
   "source": [
    "nombre_infected       998\n",
    "nombre_sain          2113\n",
    "nombre_exposed        576\n",
    "nombre_recovered    16313\n",
    "Name: 649, dtype: int64"
   ]
  },
  {
   "cell_type": "markdown",
   "id": "db0e3ba2",
   "metadata": {},
   "source": [
    "nombre_infected       962\n",
    "nombre_sain          2087\n",
    "nombre_exposed        600\n",
    "nombre_recovered    16351\n",
    "Name: 650, dtype: int64"
   ]
  },
  {
   "cell_type": "markdown",
   "id": "8f8f3d73",
   "metadata": {},
   "source": [
    "nombre_infected       962\n",
    "nombre_sain          2098\n",
    "nombre_exposed        594\n",
    "nombre_recovered    16346\n",
    "Name: 651, dtype: int64"
   ]
  },
  {
   "cell_type": "markdown",
   "id": "cb0494fb",
   "metadata": {},
   "source": [
    "nombre_infected       977\n",
    "nombre_sain          2088\n",
    "nombre_exposed        595\n",
    "nombre_recovered    16340\n",
    "Name: 652, dtype: int64"
   ]
  },
  {
   "cell_type": "markdown",
   "id": "98b787ba",
   "metadata": {},
   "source": [
    "nombre_infected       959\n",
    "nombre_sain          2081\n",
    "nombre_exposed        597\n",
    "nombre_recovered    16363\n",
    "Name: 653, dtype: int64"
   ]
  },
  {
   "cell_type": "markdown",
   "id": "f9378818",
   "metadata": {},
   "source": [
    "nombre_infected       966\n",
    "nombre_sain          2079\n",
    "nombre_exposed        583\n",
    "nombre_recovered    16372\n",
    "Name: 654, dtype: int64"
   ]
  },
  {
   "cell_type": "markdown",
   "id": "ba3137f2",
   "metadata": {},
   "source": [
    "nombre_infected       985\n",
    "nombre_sain          2086\n",
    "nombre_exposed        572\n",
    "nombre_recovered    16357\n",
    "Name: 655, dtype: int64"
   ]
  },
  {
   "cell_type": "markdown",
   "id": "b280d12b",
   "metadata": {},
   "source": [
    "nombre_infected       992\n",
    "nombre_sain          2028\n",
    "nombre_exposed        591\n",
    "nombre_recovered    16389\n",
    "Name: 656, dtype: int64"
   ]
  },
  {
   "cell_type": "markdown",
   "id": "0afcab38",
   "metadata": {},
   "source": [
    "nombre_infected       985\n",
    "nombre_sain          2042\n",
    "nombre_exposed        581\n",
    "nombre_recovered    16392\n",
    "Name: 657, dtype: int64"
   ]
  },
  {
   "cell_type": "markdown",
   "id": "9c0b0d29",
   "metadata": {},
   "source": [
    "nombre_infected       980\n",
    "nombre_sain          2041\n",
    "nombre_exposed        579\n",
    "nombre_recovered    16400\n",
    "Name: 658, dtype: int64"
   ]
  },
  {
   "cell_type": "markdown",
   "id": "1a677942",
   "metadata": {},
   "source": [
    "nombre_infected       982\n",
    "nombre_sain          2053\n",
    "nombre_exposed        570\n",
    "nombre_recovered    16395\n",
    "Name: 659, dtype: int64"
   ]
  },
  {
   "cell_type": "markdown",
   "id": "19519998",
   "metadata": {},
   "source": [
    "nombre_infected       959\n",
    "nombre_sain          2048\n",
    "nombre_exposed        591\n",
    "nombre_recovered    16402\n",
    "Name: 660, dtype: int64"
   ]
  },
  {
   "cell_type": "markdown",
   "id": "f565ee24",
   "metadata": {},
   "source": [
    "nombre_infected       977\n",
    "nombre_sain          2060\n",
    "nombre_exposed        574\n",
    "nombre_recovered    16389\n",
    "Name: 661, dtype: int64"
   ]
  },
  {
   "cell_type": "markdown",
   "id": "05c9f01e",
   "metadata": {},
   "source": [
    "nombre_infected       967\n",
    "nombre_sain          2058\n",
    "nombre_exposed        566\n",
    "nombre_recovered    16409\n",
    "Name: 662, dtype: int64"
   ]
  },
  {
   "cell_type": "markdown",
   "id": "97db1319",
   "metadata": {},
   "source": [
    "nombre_infected       997\n",
    "nombre_sain          2068\n",
    "nombre_exposed        533\n",
    "nombre_recovered    16402\n",
    "Name: 663, dtype: int64"
   ]
  },
  {
   "cell_type": "markdown",
   "id": "e2eb887a",
   "metadata": {},
   "source": [
    "nombre_infected       992\n",
    "nombre_sain          2074\n",
    "nombre_exposed        532\n",
    "nombre_recovered    16402\n",
    "Name: 664, dtype: int64"
   ]
  },
  {
   "cell_type": "markdown",
   "id": "896426e8",
   "metadata": {},
   "source": [
    "nombre_infected       989\n",
    "nombre_sain          2064\n",
    "nombre_exposed        531\n",
    "nombre_recovered    16416\n",
    "Name: 665, dtype: int64"
   ]
  },
  {
   "cell_type": "markdown",
   "id": "b68b7be9",
   "metadata": {},
   "source": [
    "nombre_infected       993\n",
    "nombre_sain          2067\n",
    "nombre_exposed        531\n",
    "nombre_recovered    16409\n",
    "Name: 666, dtype: int64"
   ]
  },
  {
   "cell_type": "markdown",
   "id": "aff87070",
   "metadata": {},
   "source": [
    "nombre_infected       968\n",
    "nombre_sain          2083\n",
    "nombre_exposed        534\n",
    "nombre_recovered    16415\n",
    "Name: 667, dtype: int64"
   ]
  },
  {
   "cell_type": "markdown",
   "id": "37c09764",
   "metadata": {},
   "source": [
    "nombre_infected       974\n",
    "nombre_sain          2084\n",
    "nombre_exposed        529\n",
    "nombre_recovered    16413\n",
    "Name: 668, dtype: int64"
   ]
  },
  {
   "cell_type": "markdown",
   "id": "91147625",
   "metadata": {},
   "source": [
    "nombre_infected       977\n",
    "nombre_sain          2070\n",
    "nombre_exposed        542\n",
    "nombre_recovered    16411\n",
    "Name: 669, dtype: int64"
   ]
  },
  {
   "cell_type": "markdown",
   "id": "0c9e5a05",
   "metadata": {},
   "source": [
    "nombre_infected       977\n",
    "nombre_sain          2093\n",
    "nombre_exposed        550\n",
    "nombre_recovered    16380\n",
    "Name: 670, dtype: int64"
   ]
  },
  {
   "cell_type": "markdown",
   "id": "6a31b66c",
   "metadata": {},
   "source": [
    "nombre_infected       996\n",
    "nombre_sain          2093\n",
    "nombre_exposed        534\n",
    "nombre_recovered    16377\n",
    "Name: 671, dtype: int64"
   ]
  },
  {
   "cell_type": "markdown",
   "id": "e62aac2f",
   "metadata": {},
   "source": [
    "nombre_infected       965\n",
    "nombre_sain          2076\n",
    "nombre_exposed        551\n",
    "nombre_recovered    16408\n",
    "Name: 672, dtype: int64"
   ]
  },
  {
   "cell_type": "markdown",
   "id": "f1f35ddc",
   "metadata": {},
   "source": [
    "nombre_infected       952\n",
    "nombre_sain          2098\n",
    "nombre_exposed        553\n",
    "nombre_recovered    16397\n",
    "Name: 673, dtype: int64"
   ]
  },
  {
   "cell_type": "markdown",
   "id": "441a485a",
   "metadata": {},
   "source": [
    "nombre_infected       969\n",
    "nombre_sain          2121\n",
    "nombre_exposed        521\n",
    "nombre_recovered    16389\n",
    "Name: 674, dtype: int64"
   ]
  },
  {
   "cell_type": "markdown",
   "id": "50fb9ca8",
   "metadata": {},
   "source": [
    "nombre_infected       951\n",
    "nombre_sain          2110\n",
    "nombre_exposed        540\n",
    "nombre_recovered    16399\n",
    "Name: 675, dtype: int64"
   ]
  },
  {
   "cell_type": "markdown",
   "id": "843f06e0",
   "metadata": {},
   "source": [
    "nombre_infected       923\n",
    "nombre_sain          2091\n",
    "nombre_exposed        558\n",
    "nombre_recovered    16428\n",
    "Name: 676, dtype: int64"
   ]
  },
  {
   "cell_type": "markdown",
   "id": "c33a82fe",
   "metadata": {},
   "source": [
    "nombre_infected       932\n",
    "nombre_sain          2085\n",
    "nombre_exposed        551\n",
    "nombre_recovered    16432\n",
    "Name: 677, dtype: int64"
   ]
  },
  {
   "cell_type": "markdown",
   "id": "0452679e",
   "metadata": {},
   "source": [
    "nombre_infected       947\n",
    "nombre_sain          2097\n",
    "nombre_exposed        530\n",
    "nombre_recovered    16426\n",
    "Name: 678, dtype: int64"
   ]
  },
  {
   "cell_type": "markdown",
   "id": "6881b45b",
   "metadata": {},
   "source": [
    "nombre_infected       945\n",
    "nombre_sain          2086\n",
    "nombre_exposed        551\n",
    "nombre_recovered    16418\n",
    "Name: 679, dtype: int64"
   ]
  },
  {
   "cell_type": "markdown",
   "id": "6158f897",
   "metadata": {},
   "source": [
    "nombre_infected       940\n",
    "nombre_sain          2089\n",
    "nombre_exposed        537\n",
    "nombre_recovered    16434\n",
    "Name: 680, dtype: int64"
   ]
  },
  {
   "cell_type": "markdown",
   "id": "a3ec65d1",
   "metadata": {},
   "source": [
    "nombre_infected       948\n",
    "nombre_sain          2084\n",
    "nombre_exposed        534\n",
    "nombre_recovered    16434\n",
    "Name: 681, dtype: int64"
   ]
  },
  {
   "cell_type": "markdown",
   "id": "b9056eb9",
   "metadata": {},
   "source": [
    "nombre_infected       959\n",
    "nombre_sain          2075\n",
    "nombre_exposed        547\n",
    "nombre_recovered    16419\n",
    "Name: 682, dtype: int64"
   ]
  },
  {
   "cell_type": "markdown",
   "id": "3fc77e0c",
   "metadata": {},
   "source": [
    "nombre_infected       953\n",
    "nombre_sain          2069\n",
    "nombre_exposed        528\n",
    "nombre_recovered    16450\n",
    "Name: 683, dtype: int64"
   ]
  },
  {
   "cell_type": "markdown",
   "id": "cbfbd402",
   "metadata": {},
   "source": [
    "nombre_infected       967\n",
    "nombre_sain          2038\n",
    "nombre_exposed        528\n",
    "nombre_recovered    16467\n",
    "Name: 684, dtype: int64"
   ]
  },
  {
   "cell_type": "markdown",
   "id": "5c37d092",
   "metadata": {},
   "source": [
    "nombre_infected       929\n",
    "nombre_sain          2036\n",
    "nombre_exposed        528\n",
    "nombre_recovered    16507\n",
    "Name: 685, dtype: int64"
   ]
  },
  {
   "cell_type": "markdown",
   "id": "7f344f91",
   "metadata": {},
   "source": [
    "nombre_infected       953\n",
    "nombre_sain          2045\n",
    "nombre_exposed        527\n",
    "nombre_recovered    16475\n",
    "Name: 686, dtype: int64"
   ]
  },
  {
   "cell_type": "markdown",
   "id": "ea074251",
   "metadata": {},
   "source": [
    "nombre_infected       973\n",
    "nombre_sain          2032\n",
    "nombre_exposed        523\n",
    "nombre_recovered    16472\n",
    "Name: 687, dtype: int64"
   ]
  },
  {
   "cell_type": "markdown",
   "id": "b4f0a8d0",
   "metadata": {},
   "source": [
    "nombre_infected       970\n",
    "nombre_sain          2030\n",
    "nombre_exposed        524\n",
    "nombre_recovered    16476\n",
    "Name: 688, dtype: int64"
   ]
  },
  {
   "cell_type": "markdown",
   "id": "cf1336a2",
   "metadata": {},
   "source": [
    "nombre_infected       960\n",
    "nombre_sain          2032\n",
    "nombre_exposed        520\n",
    "nombre_recovered    16488\n",
    "Name: 689, dtype: int64"
   ]
  },
  {
   "cell_type": "markdown",
   "id": "46c2f51a",
   "metadata": {},
   "source": [
    "nombre_infected       951\n",
    "nombre_sain          2018\n",
    "nombre_exposed        547\n",
    "nombre_recovered    16484\n",
    "Name: 690, dtype: int64"
   ]
  },
  {
   "cell_type": "markdown",
   "id": "f0024501",
   "metadata": {},
   "source": [
    "nombre_infected       924\n",
    "nombre_sain          2019\n",
    "nombre_exposed        568\n",
    "nombre_recovered    16489\n",
    "Name: 691, dtype: int64"
   ]
  },
  {
   "cell_type": "markdown",
   "id": "bc8f44c9",
   "metadata": {},
   "source": [
    "nombre_infected       907\n",
    "nombre_sain          2018\n",
    "nombre_exposed        567\n",
    "nombre_recovered    16508\n",
    "Name: 692, dtype: int64"
   ]
  },
  {
   "cell_type": "markdown",
   "id": "a4fbcee6",
   "metadata": {},
   "source": [
    "nombre_infected       928\n",
    "nombre_sain          2007\n",
    "nombre_exposed        549\n",
    "nombre_recovered    16516\n",
    "Name: 693, dtype: int64"
   ]
  },
  {
   "cell_type": "markdown",
   "id": "a771b6ae",
   "metadata": {},
   "source": [
    "nombre_infected       939\n",
    "nombre_sain          1999\n",
    "nombre_exposed        527\n",
    "nombre_recovered    16535\n",
    "Name: 694, dtype: int64"
   ]
  },
  {
   "cell_type": "markdown",
   "id": "798fcfa0",
   "metadata": {},
   "source": [
    "nombre_infected       954\n",
    "nombre_sain          1987\n",
    "nombre_exposed        529\n",
    "nombre_recovered    16530\n",
    "Name: 695, dtype: int64"
   ]
  },
  {
   "cell_type": "markdown",
   "id": "f2528823",
   "metadata": {},
   "source": [
    "nombre_infected       934\n",
    "nombre_sain          1991\n",
    "nombre_exposed        534\n",
    "nombre_recovered    16541\n",
    "Name: 696, dtype: int64"
   ]
  },
  {
   "cell_type": "markdown",
   "id": "74157894",
   "metadata": {},
   "source": [
    "nombre_infected       913\n",
    "nombre_sain          1994\n",
    "nombre_exposed        531\n",
    "nombre_recovered    16562\n",
    "Name: 697, dtype: int64"
   ]
  },
  {
   "cell_type": "markdown",
   "id": "ae1a752e",
   "metadata": {},
   "source": [
    "nombre_infected       911\n",
    "nombre_sain          2003\n",
    "nombre_exposed        507\n",
    "nombre_recovered    16579\n",
    "Name: 698, dtype: int64"
   ]
  },
  {
   "cell_type": "markdown",
   "id": "02f4ac78",
   "metadata": {},
   "source": [
    "nombre_infected       903\n",
    "nombre_sain          1994\n",
    "nombre_exposed        492\n",
    "nombre_recovered    16611\n",
    "Name: 699, dtype: int64"
   ]
  },
  {
   "cell_type": "markdown",
   "id": "03768d74",
   "metadata": {},
   "source": [
    "nombre_infected       894\n",
    "nombre_sain          1985\n",
    "nombre_exposed        497\n",
    "nombre_recovered    16624\n",
    "Name: 700, dtype: int64"
   ]
  },
  {
   "cell_type": "markdown",
   "id": "ea1cdaad",
   "metadata": {},
   "source": [
    "nombre_infected       871\n",
    "nombre_sain          1991\n",
    "nombre_exposed        511\n",
    "nombre_recovered    16627\n",
    "Name: 701, dtype: int64"
   ]
  },
  {
   "cell_type": "markdown",
   "id": "3c4bfa58",
   "metadata": {},
   "source": [
    "nombre_infected       859\n",
    "nombre_sain          2009\n",
    "nombre_exposed        488\n",
    "nombre_recovered    16644\n",
    "Name: 702, dtype: int64"
   ]
  },
  {
   "cell_type": "markdown",
   "id": "27141d50",
   "metadata": {},
   "source": [
    "nombre_infected       853\n",
    "nombre_sain          2010\n",
    "nombre_exposed        477\n",
    "nombre_recovered    16660\n",
    "Name: 703, dtype: int64"
   ]
  },
  {
   "cell_type": "markdown",
   "id": "87ba45d1",
   "metadata": {},
   "source": [
    "nombre_infected       829\n",
    "nombre_sain          2005\n",
    "nombre_exposed        496\n",
    "nombre_recovered    16670\n",
    "Name: 704, dtype: int64"
   ]
  },
  {
   "cell_type": "markdown",
   "id": "eda1c322",
   "metadata": {},
   "source": [
    "nombre_infected       839\n",
    "nombre_sain          2015\n",
    "nombre_exposed        479\n",
    "nombre_recovered    16667\n",
    "Name: 705, dtype: int64"
   ]
  },
  {
   "cell_type": "markdown",
   "id": "22545af3",
   "metadata": {},
   "source": [
    "nombre_infected       845\n",
    "nombre_sain          2010\n",
    "nombre_exposed        482\n",
    "nombre_recovered    16663\n",
    "Name: 706, dtype: int64"
   ]
  },
  {
   "cell_type": "markdown",
   "id": "25ea5b96",
   "metadata": {},
   "source": [
    "nombre_infected       857\n",
    "nombre_sain          2008\n",
    "nombre_exposed        473\n",
    "nombre_recovered    16662\n",
    "Name: 707, dtype: int64"
   ]
  },
  {
   "cell_type": "markdown",
   "id": "b013ea2a",
   "metadata": {},
   "source": [
    "nombre_infected       860\n",
    "nombre_sain          1991\n",
    "nombre_exposed        477\n",
    "nombre_recovered    16672\n",
    "Name: 708, dtype: int64"
   ]
  },
  {
   "cell_type": "markdown",
   "id": "62c91002",
   "metadata": {},
   "source": [
    "nombre_infected       844\n",
    "nombre_sain          1976\n",
    "nombre_exposed        490\n",
    "nombre_recovered    16690\n",
    "Name: 709, dtype: int64"
   ]
  },
  {
   "cell_type": "markdown",
   "id": "f1729583",
   "metadata": {},
   "source": [
    "nombre_infected       849\n",
    "nombre_sain          1968\n",
    "nombre_exposed        492\n",
    "nombre_recovered    16691\n",
    "Name: 710, dtype: int64"
   ]
  },
  {
   "cell_type": "markdown",
   "id": "7467b463",
   "metadata": {},
   "source": [
    "nombre_infected       843\n",
    "nombre_sain          1951\n",
    "nombre_exposed        499\n",
    "nombre_recovered    16707\n",
    "Name: 711, dtype: int64"
   ]
  },
  {
   "cell_type": "markdown",
   "id": "6fe20e02",
   "metadata": {},
   "source": [
    "nombre_infected       818\n",
    "nombre_sain          1951\n",
    "nombre_exposed        496\n",
    "nombre_recovered    16735\n",
    "Name: 712, dtype: int64"
   ]
  },
  {
   "cell_type": "markdown",
   "id": "badc1b17",
   "metadata": {},
   "source": [
    "nombre_infected       796\n",
    "nombre_sain          1937\n",
    "nombre_exposed        503\n",
    "nombre_recovered    16764\n",
    "Name: 713, dtype: int64"
   ]
  },
  {
   "cell_type": "markdown",
   "id": "572996d4",
   "metadata": {},
   "source": [
    "nombre_infected       786\n",
    "nombre_sain          1961\n",
    "nombre_exposed        482\n",
    "nombre_recovered    16771\n",
    "Name: 714, dtype: int64"
   ]
  },
  {
   "cell_type": "markdown",
   "id": "275f41c6",
   "metadata": {},
   "source": [
    "nombre_infected       784\n",
    "nombre_sain          1980\n",
    "nombre_exposed        480\n",
    "nombre_recovered    16756\n",
    "Name: 715, dtype: int64"
   ]
  },
  {
   "cell_type": "markdown",
   "id": "587e9a3a",
   "metadata": {},
   "source": [
    "nombre_infected       798\n",
    "nombre_sain          2002\n",
    "nombre_exposed        447\n",
    "nombre_recovered    16753\n",
    "Name: 716, dtype: int64"
   ]
  },
  {
   "cell_type": "markdown",
   "id": "b0ad38f3",
   "metadata": {},
   "source": [
    "nombre_infected       788\n",
    "nombre_sain          2012\n",
    "nombre_exposed        457\n",
    "nombre_recovered    16743\n",
    "Name: 717, dtype: int64"
   ]
  },
  {
   "cell_type": "markdown",
   "id": "a0faf8fd",
   "metadata": {},
   "source": [
    "nombre_infected       762\n",
    "nombre_sain          2023\n",
    "nombre_exposed        468\n",
    "nombre_recovered    16747\n",
    "Name: 718, dtype: int64"
   ]
  },
  {
   "cell_type": "markdown",
   "id": "3b48a2cb",
   "metadata": {},
   "source": [
    "nombre_infected       755\n",
    "nombre_sain          2034\n",
    "nombre_exposed        469\n",
    "nombre_recovered    16742\n",
    "Name: 719, dtype: int64"
   ]
  },
  {
   "cell_type": "markdown",
   "id": "c213c0cf",
   "metadata": {},
   "source": [
    "nombre_infected       756\n",
    "nombre_sain          2033\n",
    "nombre_exposed        460\n",
    "nombre_recovered    16751\n",
    "Name: 720, dtype: int64"
   ]
  },
  {
   "cell_type": "markdown",
   "id": "a74992d3",
   "metadata": {},
   "source": [
    "nombre_infected       771\n",
    "nombre_sain          2045\n",
    "nombre_exposed        445\n",
    "nombre_recovered    16739\n",
    "Name: 721, dtype: int64"
   ]
  },
  {
   "cell_type": "markdown",
   "id": "bbdbcfe7",
   "metadata": {},
   "source": [
    "nombre_infected       771\n",
    "nombre_sain          2088\n",
    "nombre_exposed        446\n",
    "nombre_recovered    16695\n",
    "Name: 722, dtype: int64"
   ]
  },
  {
   "cell_type": "markdown",
   "id": "0eff7226",
   "metadata": {},
   "source": [
    "nombre_infected       751\n",
    "nombre_sain          2103\n",
    "nombre_exposed        444\n",
    "nombre_recovered    16702\n",
    "Name: 723, dtype: int64"
   ]
  },
  {
   "cell_type": "markdown",
   "id": "03b2008f",
   "metadata": {},
   "source": [
    "nombre_infected       746\n",
    "nombre_sain          2108\n",
    "nombre_exposed        436\n",
    "nombre_recovered    16710\n",
    "Name: 724, dtype: int64"
   ]
  },
  {
   "cell_type": "markdown",
   "id": "acd2da97",
   "metadata": {},
   "source": [
    "nombre_infected       723\n",
    "nombre_sain          2123\n",
    "nombre_exposed        444\n",
    "nombre_recovered    16710\n",
    "Name: 725, dtype: int64"
   ]
  },
  {
   "cell_type": "markdown",
   "id": "0bea251e",
   "metadata": {},
   "source": [
    "nombre_infected       728\n",
    "nombre_sain          2124\n",
    "nombre_exposed        451\n",
    "nombre_recovered    16697\n",
    "Name: 726, dtype: int64"
   ]
  },
  {
   "cell_type": "markdown",
   "id": "d2b9f32f",
   "metadata": {},
   "source": [
    "nombre_infected       735\n",
    "nombre_sain          2151\n",
    "nombre_exposed        460\n",
    "nombre_recovered    16654\n",
    "Name: 727, dtype: int64"
   ]
  },
  {
   "cell_type": "markdown",
   "id": "816924b0",
   "metadata": {},
   "source": [
    "nombre_infected       739\n",
    "nombre_sain          2165\n",
    "nombre_exposed        463\n",
    "nombre_recovered    16633\n",
    "Name: 728, dtype: int64"
   ]
  },
  {
   "cell_type": "markdown",
   "id": "ece3671c",
   "metadata": {},
   "source": [
    "nombre_infected       771\n",
    "nombre_sain          2168\n",
    "nombre_exposed        453\n",
    "nombre_recovered    16608\n",
    "Name: 729, dtype: int64"
   ]
  },
  {
   "cell_type": "markdown",
   "id": "69a3d084",
   "metadata": {},
   "source": [
    "nombre_infected       764\n",
    "nombre_sain          2193\n",
    "nombre_exposed        447\n",
    "nombre_recovered    16596\n",
    "Name: 730, dtype: int64"
   ]
  }
 ],
 "metadata": {},
 "nbformat": 4,
 "nbformat_minor": 5
}
