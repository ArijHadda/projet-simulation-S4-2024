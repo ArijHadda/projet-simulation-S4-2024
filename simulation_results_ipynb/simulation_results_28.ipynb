{
 "cells": [
  {
   "cell_type": "markdown",
   "id": "ce44fe50",
   "metadata": {},
   "source": [
    "nombre_infected        20\n",
    "nombre_sain         19980\n",
    "nombre_exposed          0\n",
    "nombre_recovered        0\n",
    "Name: 0, dtype: int64"
   ]
  },
  {
   "cell_type": "markdown",
   "id": "8a311a9d",
   "metadata": {},
   "source": [
    "nombre_infected        20\n",
    "nombre_sain         19961\n",
    "nombre_exposed         19\n",
    "nombre_recovered        0\n",
    "Name: 1, dtype: int64"
   ]
  },
  {
   "cell_type": "markdown",
   "id": "991bb633",
   "metadata": {},
   "source": [
    "nombre_infected        20\n",
    "nombre_sain         19930\n",
    "nombre_exposed         50\n",
    "nombre_recovered        0\n",
    "Name: 2, dtype: int64"
   ]
  },
  {
   "cell_type": "markdown",
   "id": "5737e133",
   "metadata": {},
   "source": [
    "nombre_infected        25\n",
    "nombre_sain         19897\n",
    "nombre_exposed         78\n",
    "nombre_recovered        0\n",
    "Name: 3, dtype: int64"
   ]
  },
  {
   "cell_type": "markdown",
   "id": "e9540a6d",
   "metadata": {},
   "source": [
    "nombre_infected        34\n",
    "nombre_sain         19867\n",
    "nombre_exposed         99\n",
    "nombre_recovered        0\n",
    "Name: 4, dtype: int64"
   ]
  },
  {
   "cell_type": "markdown",
   "id": "bca14741",
   "metadata": {},
   "source": [
    "nombre_infected        56\n",
    "nombre_sain         19799\n",
    "nombre_exposed        145\n",
    "nombre_recovered        0\n",
    "Name: 5, dtype: int64"
   ]
  },
  {
   "cell_type": "markdown",
   "id": "91329461",
   "metadata": {},
   "source": [
    "nombre_infected        76\n",
    "nombre_sain         19722\n",
    "nombre_exposed        202\n",
    "nombre_recovered        0\n",
    "Name: 6, dtype: int64"
   ]
  },
  {
   "cell_type": "markdown",
   "id": "7e61f206",
   "metadata": {},
   "source": [
    "nombre_infected       103\n",
    "nombre_sain         19603\n",
    "nombre_exposed        289\n",
    "nombre_recovered        5\n",
    "Name: 7, dtype: int64"
   ]
  },
  {
   "cell_type": "markdown",
   "id": "88c6b533",
   "metadata": {},
   "source": [
    "nombre_infected       149\n",
    "nombre_sain         19482\n",
    "nombre_exposed        356\n",
    "nombre_recovered       13\n",
    "Name: 8, dtype: int64"
   ]
  },
  {
   "cell_type": "markdown",
   "id": "4d9070e3",
   "metadata": {},
   "source": [
    "nombre_infected       212\n",
    "nombre_sain         19287\n",
    "nombre_exposed        479\n",
    "nombre_recovered       22\n",
    "Name: 9, dtype: int64"
   ]
  },
  {
   "cell_type": "markdown",
   "id": "2f12798f",
   "metadata": {},
   "source": [
    "nombre_infected       284\n",
    "nombre_sain         18967\n",
    "nombre_exposed        708\n",
    "nombre_recovered       41\n",
    "Name: 10, dtype: int64"
   ]
  },
  {
   "cell_type": "markdown",
   "id": "28cb0198",
   "metadata": {},
   "source": [
    "nombre_infected       352\n",
    "nombre_sain         18601\n",
    "nombre_exposed        958\n",
    "nombre_recovered       89\n",
    "Name: 11, dtype: int64"
   ]
  },
  {
   "cell_type": "markdown",
   "id": "65adee6b",
   "metadata": {},
   "source": [
    "nombre_infected       508\n",
    "nombre_sain         18126\n",
    "nombre_exposed       1244\n",
    "nombre_recovered      122\n",
    "Name: 12, dtype: int64"
   ]
  },
  {
   "cell_type": "markdown",
   "id": "b77194d2",
   "metadata": {},
   "source": [
    "nombre_infected       688\n",
    "nombre_sain         17482\n",
    "nombre_exposed       1660\n",
    "nombre_recovered      170\n",
    "Name: 13, dtype: int64"
   ]
  },
  {
   "cell_type": "markdown",
   "id": "7d857d59",
   "metadata": {},
   "source": [
    "nombre_infected       936\n",
    "nombre_sain         16675\n",
    "nombre_exposed       2157\n",
    "nombre_recovered      232\n",
    "Name: 14, dtype: int64"
   ]
  },
  {
   "cell_type": "markdown",
   "id": "d14abdb7",
   "metadata": {},
   "source": [
    "nombre_infected      1244\n",
    "nombre_sain         15623\n",
    "nombre_exposed       2807\n",
    "nombre_recovered      326\n",
    "Name: 15, dtype: int64"
   ]
  },
  {
   "cell_type": "markdown",
   "id": "8dbd0d54",
   "metadata": {},
   "source": [
    "nombre_infected      1634\n",
    "nombre_sain         14342\n",
    "nombre_exposed       3570\n",
    "nombre_recovered      454\n",
    "Name: 16, dtype: int64"
   ]
  },
  {
   "cell_type": "markdown",
   "id": "aa78153c",
   "metadata": {},
   "source": [
    "nombre_infected      2148\n",
    "nombre_sain         12912\n",
    "nombre_exposed       4337\n",
    "nombre_recovered      603\n",
    "Name: 17, dtype: int64"
   ]
  },
  {
   "cell_type": "markdown",
   "id": "b92c0aef",
   "metadata": {},
   "source": [
    "nombre_infected      2813\n",
    "nombre_sain         11233\n",
    "nombre_exposed       5122\n",
    "nombre_recovered      832\n",
    "Name: 18, dtype: int64"
   ]
  },
  {
   "cell_type": "markdown",
   "id": "9a59d844",
   "metadata": {},
   "source": [
    "nombre_infected     3598\n",
    "nombre_sain         9410\n",
    "nombre_exposed      5889\n",
    "nombre_recovered    1103\n",
    "Name: 19, dtype: int64"
   ]
  },
  {
   "cell_type": "markdown",
   "id": "ff561b0c",
   "metadata": {},
   "source": [
    "nombre_infected     4442\n",
    "nombre_sain         7645\n",
    "nombre_exposed      6479\n",
    "nombre_recovered    1434\n",
    "Name: 20, dtype: int64"
   ]
  },
  {
   "cell_type": "markdown",
   "id": "5b5ef43b",
   "metadata": {},
   "source": [
    "nombre_infected     5434\n",
    "nombre_sain         5955\n",
    "nombre_exposed      6723\n",
    "nombre_recovered    1888\n",
    "Name: 21, dtype: int64"
   ]
  },
  {
   "cell_type": "markdown",
   "id": "83b326fc",
   "metadata": {},
   "source": [
    "nombre_infected     6337\n",
    "nombre_sain         4425\n",
    "nombre_exposed      6797\n",
    "nombre_recovered    2441\n",
    "Name: 22, dtype: int64"
   ]
  },
  {
   "cell_type": "markdown",
   "id": "22d586da",
   "metadata": {},
   "source": [
    "nombre_infected     7272\n",
    "nombre_sain         3136\n",
    "nombre_exposed      6467\n",
    "nombre_recovered    3125\n",
    "Name: 23, dtype: int64"
   ]
  },
  {
   "cell_type": "markdown",
   "id": "89223e30",
   "metadata": {},
   "source": [
    "nombre_infected     8088\n",
    "nombre_sain         2209\n",
    "nombre_exposed      5836\n",
    "nombre_recovered    3867\n",
    "Name: 24, dtype: int64"
   ]
  },
  {
   "cell_type": "markdown",
   "id": "c997b950",
   "metadata": {},
   "source": [
    "nombre_infected     8657\n",
    "nombre_sain         1522\n",
    "nombre_exposed      5057\n",
    "nombre_recovered    4764\n",
    "Name: 25, dtype: int64"
   ]
  },
  {
   "cell_type": "markdown",
   "id": "0d994389",
   "metadata": {},
   "source": [
    "nombre_infected     8937\n",
    "nombre_sain         1044\n",
    "nombre_exposed      4257\n",
    "nombre_recovered    5762\n",
    "Name: 26, dtype: int64"
   ]
  },
  {
   "cell_type": "markdown",
   "id": "669efb6f",
   "metadata": {},
   "source": [
    "nombre_infected     9072\n",
    "nombre_sain          745\n",
    "nombre_exposed      3403\n",
    "nombre_recovered    6780\n",
    "Name: 27, dtype: int64"
   ]
  },
  {
   "cell_type": "markdown",
   "id": "9b1a8438",
   "metadata": {},
   "source": [
    "nombre_infected     8916\n",
    "nombre_sain          507\n",
    "nombre_exposed      2718\n",
    "nombre_recovered    7859\n",
    "Name: 28, dtype: int64"
   ]
  },
  {
   "cell_type": "markdown",
   "id": "3a390bf8",
   "metadata": {},
   "source": [
    "nombre_infected     8533\n",
    "nombre_sain          369\n",
    "nombre_exposed      2115\n",
    "nombre_recovered    8983\n",
    "Name: 29, dtype: int64"
   ]
  },
  {
   "cell_type": "markdown",
   "id": "7fda87f1",
   "metadata": {},
   "source": [
    "nombre_infected      8066\n",
    "nombre_sain           275\n",
    "nombre_exposed       1609\n",
    "nombre_recovered    10050\n",
    "Name: 30, dtype: int64"
   ]
  },
  {
   "cell_type": "markdown",
   "id": "aa163ae9",
   "metadata": {},
   "source": [
    "nombre_infected      7465\n",
    "nombre_sain           219\n",
    "nombre_exposed       1243\n",
    "nombre_recovered    11073\n",
    "Name: 31, dtype: int64"
   ]
  },
  {
   "cell_type": "markdown",
   "id": "74330f0c",
   "metadata": {},
   "source": [
    "nombre_infected      6829\n",
    "nombre_sain           176\n",
    "nombre_exposed        935\n",
    "nombre_recovered    12060\n",
    "Name: 32, dtype: int64"
   ]
  },
  {
   "cell_type": "markdown",
   "id": "454311ad",
   "metadata": {},
   "source": [
    "nombre_infected      6187\n",
    "nombre_sain           168\n",
    "nombre_exposed        722\n",
    "nombre_recovered    12923\n",
    "Name: 33, dtype: int64"
   ]
  },
  {
   "cell_type": "markdown",
   "id": "7b06c2ea",
   "metadata": {},
   "source": [
    "nombre_infected      5498\n",
    "nombre_sain           172\n",
    "nombre_exposed        563\n",
    "nombre_recovered    13767\n",
    "Name: 34, dtype: int64"
   ]
  },
  {
   "cell_type": "markdown",
   "id": "750f4fff",
   "metadata": {},
   "source": [
    "nombre_infected      4852\n",
    "nombre_sain           182\n",
    "nombre_exposed        439\n",
    "nombre_recovered    14527\n",
    "Name: 35, dtype: int64"
   ]
  },
  {
   "cell_type": "markdown",
   "id": "b05dc0ed",
   "metadata": {},
   "source": [
    "nombre_infected      4238\n",
    "nombre_sain           207\n",
    "nombre_exposed        343\n",
    "nombre_recovered    15212\n",
    "Name: 36, dtype: int64"
   ]
  },
  {
   "cell_type": "markdown",
   "id": "a36c3862",
   "metadata": {},
   "source": [
    "nombre_infected      3685\n",
    "nombre_sain           206\n",
    "nombre_exposed        285\n",
    "nombre_recovered    15824\n",
    "Name: 37, dtype: int64"
   ]
  },
  {
   "cell_type": "markdown",
   "id": "5a191396",
   "metadata": {},
   "source": [
    "nombre_infected      3181\n",
    "nombre_sain           230\n",
    "nombre_exposed        260\n",
    "nombre_recovered    16329\n",
    "Name: 38, dtype: int64"
   ]
  },
  {
   "cell_type": "markdown",
   "id": "178e5d89",
   "metadata": {},
   "source": [
    "nombre_infected      2806\n",
    "nombre_sain           247\n",
    "nombre_exposed        220\n",
    "nombre_recovered    16727\n",
    "Name: 39, dtype: int64"
   ]
  },
  {
   "cell_type": "markdown",
   "id": "161aa031",
   "metadata": {},
   "source": [
    "nombre_infected      2438\n",
    "nombre_sain           269\n",
    "nombre_exposed        194\n",
    "nombre_recovered    17099\n",
    "Name: 40, dtype: int64"
   ]
  },
  {
   "cell_type": "markdown",
   "id": "397f9e23",
   "metadata": {},
   "source": [
    "nombre_infected      2133\n",
    "nombre_sain           316\n",
    "nombre_exposed        160\n",
    "nombre_recovered    17391\n",
    "Name: 41, dtype: int64"
   ]
  },
  {
   "cell_type": "markdown",
   "id": "0e121f2e",
   "metadata": {},
   "source": [
    "nombre_infected      1871\n",
    "nombre_sain           360\n",
    "nombre_exposed        134\n",
    "nombre_recovered    17635\n",
    "Name: 42, dtype: int64"
   ]
  },
  {
   "cell_type": "markdown",
   "id": "03f6accd",
   "metadata": {},
   "source": [
    "nombre_infected      1608\n",
    "nombre_sain           378\n",
    "nombre_exposed        144\n",
    "nombre_recovered    17870\n",
    "Name: 43, dtype: int64"
   ]
  },
  {
   "cell_type": "markdown",
   "id": "131d95fb",
   "metadata": {},
   "source": [
    "nombre_infected      1370\n",
    "nombre_sain           424\n",
    "nombre_exposed        131\n",
    "nombre_recovered    18075\n",
    "Name: 44, dtype: int64"
   ]
  },
  {
   "cell_type": "markdown",
   "id": "e8407770",
   "metadata": {},
   "source": [
    "nombre_infected      1170\n",
    "nombre_sain           471\n",
    "nombre_exposed        121\n",
    "nombre_recovered    18238\n",
    "Name: 45, dtype: int64"
   ]
  },
  {
   "cell_type": "markdown",
   "id": "9b9bf40a",
   "metadata": {},
   "source": [
    "nombre_infected       993\n",
    "nombre_sain           521\n",
    "nombre_exposed        121\n",
    "nombre_recovered    18365\n",
    "Name: 46, dtype: int64"
   ]
  },
  {
   "cell_type": "markdown",
   "id": "49f24897",
   "metadata": {},
   "source": [
    "nombre_infected       858\n",
    "nombre_sain           583\n",
    "nombre_exposed        123\n",
    "nombre_recovered    18436\n",
    "Name: 47, dtype: int64"
   ]
  },
  {
   "cell_type": "markdown",
   "id": "b3d6f2a4",
   "metadata": {},
   "source": [
    "nombre_infected       721\n",
    "nombre_sain           652\n",
    "nombre_exposed        116\n",
    "nombre_recovered    18511\n",
    "Name: 48, dtype: int64"
   ]
  },
  {
   "cell_type": "markdown",
   "id": "4c345dd9",
   "metadata": {},
   "source": [
    "nombre_infected       622\n",
    "nombre_sain           729\n",
    "nombre_exposed        112\n",
    "nombre_recovered    18537\n",
    "Name: 49, dtype: int64"
   ]
  },
  {
   "cell_type": "markdown",
   "id": "b1b68dc3",
   "metadata": {},
   "source": [
    "nombre_infected       543\n",
    "nombre_sain           818\n",
    "nombre_exposed         95\n",
    "nombre_recovered    18544\n",
    "Name: 50, dtype: int64"
   ]
  },
  {
   "cell_type": "markdown",
   "id": "4e466b44",
   "metadata": {},
   "source": [
    "nombre_infected       456\n",
    "nombre_sain           885\n",
    "nombre_exposed         95\n",
    "nombre_recovered    18564\n",
    "Name: 51, dtype: int64"
   ]
  },
  {
   "cell_type": "markdown",
   "id": "416320b5",
   "metadata": {},
   "source": [
    "nombre_infected       401\n",
    "nombre_sain           934\n",
    "nombre_exposed         90\n",
    "nombre_recovered    18575\n",
    "Name: 52, dtype: int64"
   ]
  },
  {
   "cell_type": "markdown",
   "id": "1ddb46d8",
   "metadata": {},
   "source": [
    "nombre_infected       363\n",
    "nombre_sain          1006\n",
    "nombre_exposed         82\n",
    "nombre_recovered    18549\n",
    "Name: 53, dtype: int64"
   ]
  },
  {
   "cell_type": "markdown",
   "id": "19baba0d",
   "metadata": {},
   "source": [
    "nombre_infected       325\n",
    "nombre_sain          1083\n",
    "nombre_exposed         73\n",
    "nombre_recovered    18519\n",
    "Name: 54, dtype: int64"
   ]
  },
  {
   "cell_type": "markdown",
   "id": "3c4ff347",
   "metadata": {},
   "source": [
    "nombre_infected       301\n",
    "nombre_sain          1169\n",
    "nombre_exposed         71\n",
    "nombre_recovered    18459\n",
    "Name: 55, dtype: int64"
   ]
  },
  {
   "cell_type": "markdown",
   "id": "eef11fa4",
   "metadata": {},
   "source": [
    "nombre_infected       283\n",
    "nombre_sain          1231\n",
    "nombre_exposed         79\n",
    "nombre_recovered    18407\n",
    "Name: 56, dtype: int64"
   ]
  },
  {
   "cell_type": "markdown",
   "id": "16892acf",
   "metadata": {},
   "source": [
    "nombre_infected       262\n",
    "nombre_sain          1290\n",
    "nombre_exposed         79\n",
    "nombre_recovered    18369\n",
    "Name: 57, dtype: int64"
   ]
  },
  {
   "cell_type": "markdown",
   "id": "2ad01b2f",
   "metadata": {},
   "source": [
    "nombre_infected       250\n",
    "nombre_sain          1346\n",
    "nombre_exposed         76\n",
    "nombre_recovered    18328\n",
    "Name: 58, dtype: int64"
   ]
  },
  {
   "cell_type": "markdown",
   "id": "906ca092",
   "metadata": {},
   "source": [
    "nombre_infected       231\n",
    "nombre_sain          1409\n",
    "nombre_exposed         76\n",
    "nombre_recovered    18284\n",
    "Name: 59, dtype: int64"
   ]
  },
  {
   "cell_type": "markdown",
   "id": "b822ab1d",
   "metadata": {},
   "source": [
    "nombre_infected       225\n",
    "nombre_sain          1492\n",
    "nombre_exposed         76\n",
    "nombre_recovered    18207\n",
    "Name: 60, dtype: int64"
   ]
  },
  {
   "cell_type": "markdown",
   "id": "86dcd503",
   "metadata": {},
   "source": [
    "nombre_infected       225\n",
    "nombre_sain          1556\n",
    "nombre_exposed         69\n",
    "nombre_recovered    18150\n",
    "Name: 61, dtype: int64"
   ]
  },
  {
   "cell_type": "markdown",
   "id": "92652def",
   "metadata": {},
   "source": [
    "nombre_infected       214\n",
    "nombre_sain          1625\n",
    "nombre_exposed         75\n",
    "nombre_recovered    18086\n",
    "Name: 62, dtype: int64"
   ]
  },
  {
   "cell_type": "markdown",
   "id": "6827dedb",
   "metadata": {},
   "source": [
    "nombre_infected       201\n",
    "nombre_sain          1683\n",
    "nombre_exposed         85\n",
    "nombre_recovered    18031\n",
    "Name: 63, dtype: int64"
   ]
  },
  {
   "cell_type": "markdown",
   "id": "795c94ab",
   "metadata": {},
   "source": [
    "nombre_infected       203\n",
    "nombre_sain          1747\n",
    "nombre_exposed         88\n",
    "nombre_recovered    17962\n",
    "Name: 64, dtype: int64"
   ]
  },
  {
   "cell_type": "markdown",
   "id": "ed48a734",
   "metadata": {},
   "source": [
    "nombre_infected       210\n",
    "nombre_sain          1798\n",
    "nombre_exposed         82\n",
    "nombre_recovered    17910\n",
    "Name: 65, dtype: int64"
   ]
  },
  {
   "cell_type": "markdown",
   "id": "ee39e1d9",
   "metadata": {},
   "source": [
    "nombre_infected       222\n",
    "nombre_sain          1863\n",
    "nombre_exposed         74\n",
    "nombre_recovered    17841\n",
    "Name: 66, dtype: int64"
   ]
  },
  {
   "cell_type": "markdown",
   "id": "e80c0d43",
   "metadata": {},
   "source": [
    "nombre_infected       225\n",
    "nombre_sain          1928\n",
    "nombre_exposed         73\n",
    "nombre_recovered    17774\n",
    "Name: 67, dtype: int64"
   ]
  },
  {
   "cell_type": "markdown",
   "id": "0b196f8a",
   "metadata": {},
   "source": [
    "nombre_infected       220\n",
    "nombre_sain          1980\n",
    "nombre_exposed         80\n",
    "nombre_recovered    17720\n",
    "Name: 68, dtype: int64"
   ]
  },
  {
   "cell_type": "markdown",
   "id": "27a0097b",
   "metadata": {},
   "source": [
    "nombre_infected       224\n",
    "nombre_sain          2041\n",
    "nombre_exposed         69\n",
    "nombre_recovered    17666\n",
    "Name: 69, dtype: int64"
   ]
  },
  {
   "cell_type": "markdown",
   "id": "b65c6b7c",
   "metadata": {},
   "source": [
    "nombre_infected       223\n",
    "nombre_sain          2072\n",
    "nombre_exposed         71\n",
    "nombre_recovered    17634\n",
    "Name: 70, dtype: int64"
   ]
  },
  {
   "cell_type": "markdown",
   "id": "5ee46616",
   "metadata": {},
   "source": [
    "nombre_infected       223\n",
    "nombre_sain          2104\n",
    "nombre_exposed         72\n",
    "nombre_recovered    17601\n",
    "Name: 71, dtype: int64"
   ]
  },
  {
   "cell_type": "markdown",
   "id": "15d97320",
   "metadata": {},
   "source": [
    "nombre_infected       219\n",
    "nombre_sain          2123\n",
    "nombre_exposed         91\n",
    "nombre_recovered    17567\n",
    "Name: 72, dtype: int64"
   ]
  },
  {
   "cell_type": "markdown",
   "id": "dde2eac7",
   "metadata": {},
   "source": [
    "nombre_infected       222\n",
    "nombre_sain          2168\n",
    "nombre_exposed         90\n",
    "nombre_recovered    17520\n",
    "Name: 73, dtype: int64"
   ]
  },
  {
   "cell_type": "markdown",
   "id": "bbcf8d25",
   "metadata": {},
   "source": [
    "nombre_infected       227\n",
    "nombre_sain          2191\n",
    "nombre_exposed         91\n",
    "nombre_recovered    17491\n",
    "Name: 74, dtype: int64"
   ]
  },
  {
   "cell_type": "markdown",
   "id": "f7eb1371",
   "metadata": {},
   "source": [
    "nombre_infected       225\n",
    "nombre_sain          2222\n",
    "nombre_exposed         91\n",
    "nombre_recovered    17462\n",
    "Name: 75, dtype: int64"
   ]
  },
  {
   "cell_type": "markdown",
   "id": "2d66bb7b",
   "metadata": {},
   "source": [
    "nombre_infected       227\n",
    "nombre_sain          2244\n",
    "nombre_exposed         91\n",
    "nombre_recovered    17438\n",
    "Name: 76, dtype: int64"
   ]
  },
  {
   "cell_type": "markdown",
   "id": "dc37484b",
   "metadata": {},
   "source": [
    "nombre_infected       219\n",
    "nombre_sain          2275\n",
    "nombre_exposed         99\n",
    "nombre_recovered    17407\n",
    "Name: 77, dtype: int64"
   ]
  },
  {
   "cell_type": "markdown",
   "id": "25cb49e7",
   "metadata": {},
   "source": [
    "nombre_infected       217\n",
    "nombre_sain          2313\n",
    "nombre_exposed         88\n",
    "nombre_recovered    17382\n",
    "Name: 78, dtype: int64"
   ]
  },
  {
   "cell_type": "markdown",
   "id": "0f3c5e73",
   "metadata": {},
   "source": [
    "nombre_infected       206\n",
    "nombre_sain          2357\n",
    "nombre_exposed         86\n",
    "nombre_recovered    17351\n",
    "Name: 79, dtype: int64"
   ]
  },
  {
   "cell_type": "markdown",
   "id": "55bf971c",
   "metadata": {},
   "source": [
    "nombre_infected       206\n",
    "nombre_sain          2392\n",
    "nombre_exposed         81\n",
    "nombre_recovered    17321\n",
    "Name: 80, dtype: int64"
   ]
  },
  {
   "cell_type": "markdown",
   "id": "360fd6a2",
   "metadata": {},
   "source": [
    "nombre_infected       202\n",
    "nombre_sain          2411\n",
    "nombre_exposed         98\n",
    "nombre_recovered    17289\n",
    "Name: 81, dtype: int64"
   ]
  },
  {
   "cell_type": "markdown",
   "id": "cf27c306",
   "metadata": {},
   "source": [
    "nombre_infected       184\n",
    "nombre_sain          2428\n",
    "nombre_exposed        116\n",
    "nombre_recovered    17272\n",
    "Name: 82, dtype: int64"
   ]
  },
  {
   "cell_type": "markdown",
   "id": "1071ea84",
   "metadata": {},
   "source": [
    "nombre_infected       177\n",
    "nombre_sain          2465\n",
    "nombre_exposed        107\n",
    "nombre_recovered    17251\n",
    "Name: 83, dtype: int64"
   ]
  },
  {
   "cell_type": "markdown",
   "id": "9121e0c3",
   "metadata": {},
   "source": [
    "nombre_infected       190\n",
    "nombre_sain          2477\n",
    "nombre_exposed         94\n",
    "nombre_recovered    17239\n",
    "Name: 84, dtype: int64"
   ]
  },
  {
   "cell_type": "markdown",
   "id": "c4cd59a2",
   "metadata": {},
   "source": [
    "nombre_infected       184\n",
    "nombre_sain          2503\n",
    "nombre_exposed         98\n",
    "nombre_recovered    17215\n",
    "Name: 85, dtype: int64"
   ]
  },
  {
   "cell_type": "markdown",
   "id": "6a30b980",
   "metadata": {},
   "source": [
    "nombre_infected       180\n",
    "nombre_sain          2515\n",
    "nombre_exposed         98\n",
    "nombre_recovered    17207\n",
    "Name: 86, dtype: int64"
   ]
  },
  {
   "cell_type": "markdown",
   "id": "da76dccd",
   "metadata": {},
   "source": [
    "nombre_infected       190\n",
    "nombre_sain          2541\n",
    "nombre_exposed         86\n",
    "nombre_recovered    17183\n",
    "Name: 87, dtype: int64"
   ]
  },
  {
   "cell_type": "markdown",
   "id": "e0b8a460",
   "metadata": {},
   "source": [
    "nombre_infected       189\n",
    "nombre_sain          2550\n",
    "nombre_exposed         89\n",
    "nombre_recovered    17172\n",
    "Name: 88, dtype: int64"
   ]
  },
  {
   "cell_type": "markdown",
   "id": "5029255c",
   "metadata": {},
   "source": [
    "nombre_infected       185\n",
    "nombre_sain          2582\n",
    "nombre_exposed         88\n",
    "nombre_recovered    17145\n",
    "Name: 89, dtype: int64"
   ]
  },
  {
   "cell_type": "markdown",
   "id": "d888ef2f",
   "metadata": {},
   "source": [
    "nombre_infected       176\n",
    "nombre_sain          2611\n",
    "nombre_exposed         95\n",
    "nombre_recovered    17118\n",
    "Name: 90, dtype: int64"
   ]
  },
  {
   "cell_type": "markdown",
   "id": "e284cd8c",
   "metadata": {},
   "source": [
    "nombre_infected       172\n",
    "nombre_sain          2635\n",
    "nombre_exposed         95\n",
    "nombre_recovered    17098\n",
    "Name: 91, dtype: int64"
   ]
  },
  {
   "cell_type": "markdown",
   "id": "c9a956bb",
   "metadata": {},
   "source": [
    "nombre_infected       176\n",
    "nombre_sain          2667\n",
    "nombre_exposed         93\n",
    "nombre_recovered    17064\n",
    "Name: 92, dtype: int64"
   ]
  },
  {
   "cell_type": "markdown",
   "id": "1655dbba",
   "metadata": {},
   "source": [
    "nombre_infected       177\n",
    "nombre_sain          2710\n",
    "nombre_exposed         93\n",
    "nombre_recovered    17020\n",
    "Name: 93, dtype: int64"
   ]
  },
  {
   "cell_type": "markdown",
   "id": "0c1e7700",
   "metadata": {},
   "source": [
    "nombre_infected       182\n",
    "nombre_sain          2738\n",
    "nombre_exposed         88\n",
    "nombre_recovered    16992\n",
    "Name: 94, dtype: int64"
   ]
  },
  {
   "cell_type": "markdown",
   "id": "54d29afc",
   "metadata": {},
   "source": [
    "nombre_infected       192\n",
    "nombre_sain          2771\n",
    "nombre_exposed         90\n",
    "nombre_recovered    16947\n",
    "Name: 95, dtype: int64"
   ]
  },
  {
   "cell_type": "markdown",
   "id": "a6117b13",
   "metadata": {},
   "source": [
    "nombre_infected       195\n",
    "nombre_sain          2786\n",
    "nombre_exposed        104\n",
    "nombre_recovered    16915\n",
    "Name: 96, dtype: int64"
   ]
  },
  {
   "cell_type": "markdown",
   "id": "e61794f3",
   "metadata": {},
   "source": [
    "nombre_infected       187\n",
    "nombre_sain          2831\n",
    "nombre_exposed        102\n",
    "nombre_recovered    16880\n",
    "Name: 97, dtype: int64"
   ]
  },
  {
   "cell_type": "markdown",
   "id": "2bb037d7",
   "metadata": {},
   "source": [
    "nombre_infected       195\n",
    "nombre_sain          2858\n",
    "nombre_exposed        113\n",
    "nombre_recovered    16834\n",
    "Name: 98, dtype: int64"
   ]
  },
  {
   "cell_type": "markdown",
   "id": "b7bdb37f",
   "metadata": {},
   "source": [
    "nombre_infected       199\n",
    "nombre_sain          2878\n",
    "nombre_exposed        118\n",
    "nombre_recovered    16805\n",
    "Name: 99, dtype: int64"
   ]
  },
  {
   "cell_type": "markdown",
   "id": "0393218b",
   "metadata": {},
   "source": [
    "nombre_infected       209\n",
    "nombre_sain          2928\n",
    "nombre_exposed        115\n",
    "nombre_recovered    16748\n",
    "Name: 100, dtype: int64"
   ]
  },
  {
   "cell_type": "markdown",
   "id": "9edae423",
   "metadata": {},
   "source": [
    "nombre_infected       209\n",
    "nombre_sain          2990\n",
    "nombre_exposed         97\n",
    "nombre_recovered    16704\n",
    "Name: 101, dtype: int64"
   ]
  },
  {
   "cell_type": "markdown",
   "id": "b5402592",
   "metadata": {},
   "source": [
    "nombre_infected       202\n",
    "nombre_sain          3022\n",
    "nombre_exposed        104\n",
    "nombre_recovered    16672\n",
    "Name: 102, dtype: int64"
   ]
  },
  {
   "cell_type": "markdown",
   "id": "ad659bcd",
   "metadata": {},
   "source": [
    "nombre_infected       197\n",
    "nombre_sain          3043\n",
    "nombre_exposed        127\n",
    "nombre_recovered    16633\n",
    "Name: 103, dtype: int64"
   ]
  },
  {
   "cell_type": "markdown",
   "id": "cf42ce37",
   "metadata": {},
   "source": [
    "nombre_infected       208\n",
    "nombre_sain          3091\n",
    "nombre_exposed        134\n",
    "nombre_recovered    16567\n",
    "Name: 104, dtype: int64"
   ]
  },
  {
   "cell_type": "markdown",
   "id": "a47c50c4",
   "metadata": {},
   "source": [
    "nombre_infected       225\n",
    "nombre_sain          3132\n",
    "nombre_exposed        129\n",
    "nombre_recovered    16514\n",
    "Name: 105, dtype: int64"
   ]
  },
  {
   "cell_type": "markdown",
   "id": "1061e25f",
   "metadata": {},
   "source": [
    "nombre_infected       238\n",
    "nombre_sain          3148\n",
    "nombre_exposed        133\n",
    "nombre_recovered    16481\n",
    "Name: 106, dtype: int64"
   ]
  },
  {
   "cell_type": "markdown",
   "id": "7807b0fa",
   "metadata": {},
   "source": [
    "nombre_infected       243\n",
    "nombre_sain          3185\n",
    "nombre_exposed        155\n",
    "nombre_recovered    16417\n",
    "Name: 107, dtype: int64"
   ]
  },
  {
   "cell_type": "markdown",
   "id": "43f9f638",
   "metadata": {},
   "source": [
    "nombre_infected       249\n",
    "nombre_sain          3215\n",
    "nombre_exposed        159\n",
    "nombre_recovered    16377\n",
    "Name: 108, dtype: int64"
   ]
  },
  {
   "cell_type": "markdown",
   "id": "befe085e",
   "metadata": {},
   "source": [
    "nombre_infected       262\n",
    "nombre_sain          3218\n",
    "nombre_exposed        168\n",
    "nombre_recovered    16352\n",
    "Name: 109, dtype: int64"
   ]
  },
  {
   "cell_type": "markdown",
   "id": "bd8c69a3",
   "metadata": {},
   "source": [
    "nombre_infected       276\n",
    "nombre_sain          3238\n",
    "nombre_exposed        173\n",
    "nombre_recovered    16313\n",
    "Name: 110, dtype: int64"
   ]
  },
  {
   "cell_type": "markdown",
   "id": "a7d0b76a",
   "metadata": {},
   "source": [
    "nombre_infected       282\n",
    "nombre_sain          3232\n",
    "nombre_exposed        194\n",
    "nombre_recovered    16292\n",
    "Name: 111, dtype: int64"
   ]
  },
  {
   "cell_type": "markdown",
   "id": "671fc5eb",
   "metadata": {},
   "source": [
    "nombre_infected       292\n",
    "nombre_sain          3245\n",
    "nombre_exposed        205\n",
    "nombre_recovered    16258\n",
    "Name: 112, dtype: int64"
   ]
  },
  {
   "cell_type": "markdown",
   "id": "114be0fd",
   "metadata": {},
   "source": [
    "nombre_infected       300\n",
    "nombre_sain          3241\n",
    "nombre_exposed        226\n",
    "nombre_recovered    16233\n",
    "Name: 113, dtype: int64"
   ]
  },
  {
   "cell_type": "markdown",
   "id": "8d2657e5",
   "metadata": {},
   "source": [
    "nombre_infected       310\n",
    "nombre_sain          3234\n",
    "nombre_exposed        235\n",
    "nombre_recovered    16221\n",
    "Name: 114, dtype: int64"
   ]
  },
  {
   "cell_type": "markdown",
   "id": "06787e14",
   "metadata": {},
   "source": [
    "nombre_infected       330\n",
    "nombre_sain          3239\n",
    "nombre_exposed        232\n",
    "nombre_recovered    16199\n",
    "Name: 115, dtype: int64"
   ]
  },
  {
   "cell_type": "markdown",
   "id": "f5b95e27",
   "metadata": {},
   "source": [
    "nombre_infected       346\n",
    "nombre_sain          3249\n",
    "nombre_exposed        215\n",
    "nombre_recovered    16190\n",
    "Name: 116, dtype: int64"
   ]
  },
  {
   "cell_type": "markdown",
   "id": "0edddb0f",
   "metadata": {},
   "source": [
    "nombre_infected       366\n",
    "nombre_sain          3221\n",
    "nombre_exposed        228\n",
    "nombre_recovered    16185\n",
    "Name: 117, dtype: int64"
   ]
  },
  {
   "cell_type": "markdown",
   "id": "f9d4304c",
   "metadata": {},
   "source": [
    "nombre_infected       380\n",
    "nombre_sain          3193\n",
    "nombre_exposed        244\n",
    "nombre_recovered    16183\n",
    "Name: 118, dtype: int64"
   ]
  },
  {
   "cell_type": "markdown",
   "id": "21109f2c",
   "metadata": {},
   "source": [
    "nombre_infected       402\n",
    "nombre_sain          3152\n",
    "nombre_exposed        267\n",
    "nombre_recovered    16179\n",
    "Name: 119, dtype: int64"
   ]
  },
  {
   "cell_type": "markdown",
   "id": "054f7f52",
   "metadata": {},
   "source": [
    "nombre_infected       417\n",
    "nombre_sain          3122\n",
    "nombre_exposed        273\n",
    "nombre_recovered    16188\n",
    "Name: 120, dtype: int64"
   ]
  },
  {
   "cell_type": "markdown",
   "id": "57658c77",
   "metadata": {},
   "source": [
    "nombre_infected       426\n",
    "nombre_sain          3099\n",
    "nombre_exposed        287\n",
    "nombre_recovered    16188\n",
    "Name: 121, dtype: int64"
   ]
  },
  {
   "cell_type": "markdown",
   "id": "dedce283",
   "metadata": {},
   "source": [
    "nombre_infected       439\n",
    "nombre_sain          3092\n",
    "nombre_exposed        298\n",
    "nombre_recovered    16171\n",
    "Name: 122, dtype: int64"
   ]
  },
  {
   "cell_type": "markdown",
   "id": "4c00e1d7",
   "metadata": {},
   "source": [
    "nombre_infected       457\n",
    "nombre_sain          3076\n",
    "nombre_exposed        297\n",
    "nombre_recovered    16170\n",
    "Name: 123, dtype: int64"
   ]
  },
  {
   "cell_type": "markdown",
   "id": "c54b3611",
   "metadata": {},
   "source": [
    "nombre_infected       467\n",
    "nombre_sain          3040\n",
    "nombre_exposed        321\n",
    "nombre_recovered    16172\n",
    "Name: 124, dtype: int64"
   ]
  },
  {
   "cell_type": "markdown",
   "id": "d2998a22",
   "metadata": {},
   "source": [
    "nombre_infected       489\n",
    "nombre_sain          3024\n",
    "nombre_exposed        324\n",
    "nombre_recovered    16163\n",
    "Name: 125, dtype: int64"
   ]
  },
  {
   "cell_type": "markdown",
   "id": "ca2ba94c",
   "metadata": {},
   "source": [
    "nombre_infected       488\n",
    "nombre_sain          2993\n",
    "nombre_exposed        325\n",
    "nombre_recovered    16194\n",
    "Name: 126, dtype: int64"
   ]
  },
  {
   "cell_type": "markdown",
   "id": "cb51efc8",
   "metadata": {},
   "source": [
    "nombre_infected       508\n",
    "nombre_sain          2976\n",
    "nombre_exposed        323\n",
    "nombre_recovered    16193\n",
    "Name: 127, dtype: int64"
   ]
  },
  {
   "cell_type": "markdown",
   "id": "616f4923",
   "metadata": {},
   "source": [
    "nombre_infected       504\n",
    "nombre_sain          2938\n",
    "nombre_exposed        331\n",
    "nombre_recovered    16227\n",
    "Name: 128, dtype: int64"
   ]
  },
  {
   "cell_type": "markdown",
   "id": "17e8f5e1",
   "metadata": {},
   "source": [
    "nombre_infected       523\n",
    "nombre_sain          2915\n",
    "nombre_exposed        359\n",
    "nombre_recovered    16203\n",
    "Name: 129, dtype: int64"
   ]
  },
  {
   "cell_type": "markdown",
   "id": "81d27063",
   "metadata": {},
   "source": [
    "nombre_infected       512\n",
    "nombre_sain          2893\n",
    "nombre_exposed        385\n",
    "nombre_recovered    16210\n",
    "Name: 130, dtype: int64"
   ]
  },
  {
   "cell_type": "markdown",
   "id": "c5dcdb76",
   "metadata": {},
   "source": [
    "nombre_infected       537\n",
    "nombre_sain          2875\n",
    "nombre_exposed        360\n",
    "nombre_recovered    16228\n",
    "Name: 131, dtype: int64"
   ]
  },
  {
   "cell_type": "markdown",
   "id": "190b92ff",
   "metadata": {},
   "source": [
    "nombre_infected       569\n",
    "nombre_sain          2822\n",
    "nombre_exposed        366\n",
    "nombre_recovered    16243\n",
    "Name: 132, dtype: int64"
   ]
  },
  {
   "cell_type": "markdown",
   "id": "d4d8e2ec",
   "metadata": {},
   "source": [
    "nombre_infected       586\n",
    "nombre_sain          2800\n",
    "nombre_exposed        373\n",
    "nombre_recovered    16241\n",
    "Name: 133, dtype: int64"
   ]
  },
  {
   "cell_type": "markdown",
   "id": "71094452",
   "metadata": {},
   "source": [
    "nombre_infected       570\n",
    "nombre_sain          2775\n",
    "nombre_exposed        383\n",
    "nombre_recovered    16272\n",
    "Name: 134, dtype: int64"
   ]
  },
  {
   "cell_type": "markdown",
   "id": "0c52d1fe",
   "metadata": {},
   "source": [
    "nombre_infected       582\n",
    "nombre_sain          2743\n",
    "nombre_exposed        394\n",
    "nombre_recovered    16281\n",
    "Name: 135, dtype: int64"
   ]
  },
  {
   "cell_type": "markdown",
   "id": "6319250d",
   "metadata": {},
   "source": [
    "nombre_infected       602\n",
    "nombre_sain          2722\n",
    "nombre_exposed        379\n",
    "nombre_recovered    16297\n",
    "Name: 136, dtype: int64"
   ]
  },
  {
   "cell_type": "markdown",
   "id": "3a967de3",
   "metadata": {},
   "source": [
    "nombre_infected       623\n",
    "nombre_sain          2695\n",
    "nombre_exposed        393\n",
    "nombre_recovered    16289\n",
    "Name: 137, dtype: int64"
   ]
  },
  {
   "cell_type": "markdown",
   "id": "17131f81",
   "metadata": {},
   "source": [
    "nombre_infected       626\n",
    "nombre_sain          2677\n",
    "nombre_exposed        389\n",
    "nombre_recovered    16308\n",
    "Name: 138, dtype: int64"
   ]
  },
  {
   "cell_type": "markdown",
   "id": "3fcf0c6b",
   "metadata": {},
   "source": [
    "nombre_infected       654\n",
    "nombre_sain          2655\n",
    "nombre_exposed        372\n",
    "nombre_recovered    16319\n",
    "Name: 139, dtype: int64"
   ]
  },
  {
   "cell_type": "markdown",
   "id": "f4776f48",
   "metadata": {},
   "source": [
    "nombre_infected       656\n",
    "nombre_sain          2605\n",
    "nombre_exposed        386\n",
    "nombre_recovered    16353\n",
    "Name: 140, dtype: int64"
   ]
  },
  {
   "cell_type": "markdown",
   "id": "88b0dc16",
   "metadata": {},
   "source": [
    "nombre_infected       674\n",
    "nombre_sain          2537\n",
    "nombre_exposed        400\n",
    "nombre_recovered    16389\n",
    "Name: 141, dtype: int64"
   ]
  },
  {
   "cell_type": "markdown",
   "id": "93e6a094",
   "metadata": {},
   "source": [
    "nombre_infected       661\n",
    "nombre_sain          2496\n",
    "nombre_exposed        423\n",
    "nombre_recovered    16420\n",
    "Name: 142, dtype: int64"
   ]
  },
  {
   "cell_type": "markdown",
   "id": "59f50ac3",
   "metadata": {},
   "source": [
    "nombre_infected       686\n",
    "nombre_sain          2482\n",
    "nombre_exposed        404\n",
    "nombre_recovered    16428\n",
    "Name: 143, dtype: int64"
   ]
  },
  {
   "cell_type": "markdown",
   "id": "1a679ac3",
   "metadata": {},
   "source": [
    "nombre_infected       696\n",
    "nombre_sain          2448\n",
    "nombre_exposed        402\n",
    "nombre_recovered    16454\n",
    "Name: 144, dtype: int64"
   ]
  },
  {
   "cell_type": "markdown",
   "id": "a3a88892",
   "metadata": {},
   "source": [
    "nombre_infected       695\n",
    "nombre_sain          2426\n",
    "nombre_exposed        398\n",
    "nombre_recovered    16481\n",
    "Name: 145, dtype: int64"
   ]
  },
  {
   "cell_type": "markdown",
   "id": "e00c42ad",
   "metadata": {},
   "source": [
    "nombre_infected       682\n",
    "nombre_sain          2383\n",
    "nombre_exposed        411\n",
    "nombre_recovered    16524\n",
    "Name: 146, dtype: int64"
   ]
  },
  {
   "cell_type": "markdown",
   "id": "6e684b20",
   "metadata": {},
   "source": [
    "nombre_infected       680\n",
    "nombre_sain          2363\n",
    "nombre_exposed        427\n",
    "nombre_recovered    16530\n",
    "Name: 147, dtype: int64"
   ]
  },
  {
   "cell_type": "markdown",
   "id": "bbf2fca2",
   "metadata": {},
   "source": [
    "nombre_infected       697\n",
    "nombre_sain          2340\n",
    "nombre_exposed        424\n",
    "nombre_recovered    16539\n",
    "Name: 148, dtype: int64"
   ]
  },
  {
   "cell_type": "markdown",
   "id": "fd7211d1",
   "metadata": {},
   "source": [
    "nombre_infected       702\n",
    "nombre_sain          2315\n",
    "nombre_exposed        424\n",
    "nombre_recovered    16559\n",
    "Name: 149, dtype: int64"
   ]
  },
  {
   "cell_type": "markdown",
   "id": "2555d1ba",
   "metadata": {},
   "source": [
    "nombre_infected       696\n",
    "nombre_sain          2296\n",
    "nombre_exposed        422\n",
    "nombre_recovered    16586\n",
    "Name: 150, dtype: int64"
   ]
  },
  {
   "cell_type": "markdown",
   "id": "cc8351d2",
   "metadata": {},
   "source": [
    "nombre_infected       695\n",
    "nombre_sain          2257\n",
    "nombre_exposed        434\n",
    "nombre_recovered    16614\n",
    "Name: 151, dtype: int64"
   ]
  },
  {
   "cell_type": "markdown",
   "id": "a1ef108c",
   "metadata": {},
   "source": [
    "nombre_infected       702\n",
    "nombre_sain          2252\n",
    "nombre_exposed        414\n",
    "nombre_recovered    16632\n",
    "Name: 152, dtype: int64"
   ]
  },
  {
   "cell_type": "markdown",
   "id": "2484f5d7",
   "metadata": {},
   "source": [
    "nombre_infected       704\n",
    "nombre_sain          2241\n",
    "nombre_exposed        411\n",
    "nombre_recovered    16644\n",
    "Name: 153, dtype: int64"
   ]
  },
  {
   "cell_type": "markdown",
   "id": "edf1a0b3",
   "metadata": {},
   "source": [
    "nombre_infected       710\n",
    "nombre_sain          2215\n",
    "nombre_exposed        393\n",
    "nombre_recovered    16682\n",
    "Name: 154, dtype: int64"
   ]
  },
  {
   "cell_type": "markdown",
   "id": "21d17dff",
   "metadata": {},
   "source": [
    "nombre_infected       710\n",
    "nombre_sain          2196\n",
    "nombre_exposed        407\n",
    "nombre_recovered    16687\n",
    "Name: 155, dtype: int64"
   ]
  },
  {
   "cell_type": "markdown",
   "id": "48f2e1c9",
   "metadata": {},
   "source": [
    "nombre_infected       724\n",
    "nombre_sain          2183\n",
    "nombre_exposed        400\n",
    "nombre_recovered    16693\n",
    "Name: 156, dtype: int64"
   ]
  },
  {
   "cell_type": "markdown",
   "id": "de731ca1",
   "metadata": {},
   "source": [
    "nombre_infected       734\n",
    "nombre_sain          2180\n",
    "nombre_exposed        386\n",
    "nombre_recovered    16700\n",
    "Name: 157, dtype: int64"
   ]
  },
  {
   "cell_type": "markdown",
   "id": "49844a4e",
   "metadata": {},
   "source": [
    "nombre_infected       709\n",
    "nombre_sain          2160\n",
    "nombre_exposed        392\n",
    "nombre_recovered    16739\n",
    "Name: 158, dtype: int64"
   ]
  },
  {
   "cell_type": "markdown",
   "id": "c2c7af60",
   "metadata": {},
   "source": [
    "nombre_infected       713\n",
    "nombre_sain          2145\n",
    "nombre_exposed        393\n",
    "nombre_recovered    16749\n",
    "Name: 159, dtype: int64"
   ]
  },
  {
   "cell_type": "markdown",
   "id": "920d6a37",
   "metadata": {},
   "source": [
    "nombre_infected       694\n",
    "nombre_sain          2141\n",
    "nombre_exposed        399\n",
    "nombre_recovered    16766\n",
    "Name: 160, dtype: int64"
   ]
  },
  {
   "cell_type": "markdown",
   "id": "f3b2c1d3",
   "metadata": {},
   "source": [
    "nombre_infected       682\n",
    "nombre_sain          2145\n",
    "nombre_exposed        414\n",
    "nombre_recovered    16759\n",
    "Name: 161, dtype: int64"
   ]
  },
  {
   "cell_type": "markdown",
   "id": "82944469",
   "metadata": {},
   "source": [
    "nombre_infected       695\n",
    "nombre_sain          2138\n",
    "nombre_exposed        392\n",
    "nombre_recovered    16775\n",
    "Name: 162, dtype: int64"
   ]
  },
  {
   "cell_type": "markdown",
   "id": "db045422",
   "metadata": {},
   "source": [
    "nombre_infected       713\n",
    "nombre_sain          2154\n",
    "nombre_exposed        365\n",
    "nombre_recovered    16768\n",
    "Name: 163, dtype: int64"
   ]
  },
  {
   "cell_type": "markdown",
   "id": "98882cac",
   "metadata": {},
   "source": [
    "nombre_infected       683\n",
    "nombre_sain          2155\n",
    "nombre_exposed        374\n",
    "nombre_recovered    16788\n",
    "Name: 164, dtype: int64"
   ]
  },
  {
   "cell_type": "markdown",
   "id": "2e6e746f",
   "metadata": {},
   "source": [
    "nombre_infected       684\n",
    "nombre_sain          2147\n",
    "nombre_exposed        361\n",
    "nombre_recovered    16808\n",
    "Name: 165, dtype: int64"
   ]
  },
  {
   "cell_type": "markdown",
   "id": "04252fe1",
   "metadata": {},
   "source": [
    "nombre_infected       683\n",
    "nombre_sain          2150\n",
    "nombre_exposed        367\n",
    "nombre_recovered    16800\n",
    "Name: 166, dtype: int64"
   ]
  },
  {
   "cell_type": "markdown",
   "id": "b7aa6b1f",
   "metadata": {},
   "source": [
    "nombre_infected       692\n",
    "nombre_sain          2197\n",
    "nombre_exposed        347\n",
    "nombre_recovered    16764\n",
    "Name: 167, dtype: int64"
   ]
  },
  {
   "cell_type": "markdown",
   "id": "2ca86216",
   "metadata": {},
   "source": [
    "nombre_infected       686\n",
    "nombre_sain          2216\n",
    "nombre_exposed        342\n",
    "nombre_recovered    16756\n",
    "Name: 168, dtype: int64"
   ]
  },
  {
   "cell_type": "markdown",
   "id": "ed525eb5",
   "metadata": {},
   "source": [
    "nombre_infected       660\n",
    "nombre_sain          2238\n",
    "nombre_exposed        352\n",
    "nombre_recovered    16750\n",
    "Name: 169, dtype: int64"
   ]
  },
  {
   "cell_type": "markdown",
   "id": "15ba1f90",
   "metadata": {},
   "source": [
    "nombre_infected       639\n",
    "nombre_sain          2229\n",
    "nombre_exposed        358\n",
    "nombre_recovered    16774\n",
    "Name: 170, dtype: int64"
   ]
  },
  {
   "cell_type": "markdown",
   "id": "b93fa5ac",
   "metadata": {},
   "source": [
    "nombre_infected       656\n",
    "nombre_sain          2280\n",
    "nombre_exposed        348\n",
    "nombre_recovered    16716\n",
    "Name: 171, dtype: int64"
   ]
  },
  {
   "cell_type": "markdown",
   "id": "3bd1998a",
   "metadata": {},
   "source": [
    "nombre_infected       664\n",
    "nombre_sain          2316\n",
    "nombre_exposed        319\n",
    "nombre_recovered    16701\n",
    "Name: 172, dtype: int64"
   ]
  },
  {
   "cell_type": "markdown",
   "id": "01301854",
   "metadata": {},
   "source": [
    "nombre_infected       658\n",
    "nombre_sain          2320\n",
    "nombre_exposed        334\n",
    "nombre_recovered    16688\n",
    "Name: 173, dtype: int64"
   ]
  },
  {
   "cell_type": "markdown",
   "id": "1e054479",
   "metadata": {},
   "source": [
    "nombre_infected       647\n",
    "nombre_sain          2330\n",
    "nombre_exposed        351\n",
    "nombre_recovered    16672\n",
    "Name: 174, dtype: int64"
   ]
  },
  {
   "cell_type": "markdown",
   "id": "3be8bdb5",
   "metadata": {},
   "source": [
    "nombre_infected       638\n",
    "nombre_sain          2363\n",
    "nombre_exposed        352\n",
    "nombre_recovered    16647\n",
    "Name: 175, dtype: int64"
   ]
  },
  {
   "cell_type": "markdown",
   "id": "e51f94d0",
   "metadata": {},
   "source": [
    "nombre_infected       635\n",
    "nombre_sain          2382\n",
    "nombre_exposed        366\n",
    "nombre_recovered    16617\n",
    "Name: 176, dtype: int64"
   ]
  },
  {
   "cell_type": "markdown",
   "id": "4dc9df44",
   "metadata": {},
   "source": [
    "nombre_infected       623\n",
    "nombre_sain          2402\n",
    "nombre_exposed        375\n",
    "nombre_recovered    16600\n",
    "Name: 177, dtype: int64"
   ]
  },
  {
   "cell_type": "markdown",
   "id": "168953fb",
   "metadata": {},
   "source": [
    "nombre_infected       621\n",
    "nombre_sain          2421\n",
    "nombre_exposed        381\n",
    "nombre_recovered    16577\n",
    "Name: 178, dtype: int64"
   ]
  },
  {
   "cell_type": "markdown",
   "id": "81004843",
   "metadata": {},
   "source": [
    "nombre_infected       629\n",
    "nombre_sain          2425\n",
    "nombre_exposed        379\n",
    "nombre_recovered    16567\n",
    "Name: 179, dtype: int64"
   ]
  },
  {
   "cell_type": "markdown",
   "id": "5dadeb19",
   "metadata": {},
   "source": [
    "nombre_infected       653\n",
    "nombre_sain          2445\n",
    "nombre_exposed        371\n",
    "nombre_recovered    16531\n",
    "Name: 180, dtype: int64"
   ]
  },
  {
   "cell_type": "markdown",
   "id": "ee1fe0ba",
   "metadata": {},
   "source": [
    "nombre_infected       668\n",
    "nombre_sain          2449\n",
    "nombre_exposed        359\n",
    "nombre_recovered    16524\n",
    "Name: 181, dtype: int64"
   ]
  },
  {
   "cell_type": "markdown",
   "id": "86c5cac5",
   "metadata": {},
   "source": [
    "nombre_infected       655\n",
    "nombre_sain          2462\n",
    "nombre_exposed        362\n",
    "nombre_recovered    16521\n",
    "Name: 182, dtype: int64"
   ]
  },
  {
   "cell_type": "markdown",
   "id": "76f0a3d1",
   "metadata": {},
   "source": [
    "nombre_infected       651\n",
    "nombre_sain          2458\n",
    "nombre_exposed        378\n",
    "nombre_recovered    16513\n",
    "Name: 183, dtype: int64"
   ]
  },
  {
   "cell_type": "markdown",
   "id": "c5afa362",
   "metadata": {},
   "source": [
    "nombre_infected       656\n",
    "nombre_sain          2483\n",
    "nombre_exposed        368\n",
    "nombre_recovered    16493\n",
    "Name: 184, dtype: int64"
   ]
  },
  {
   "cell_type": "markdown",
   "id": "5b81bd7a",
   "metadata": {},
   "source": [
    "nombre_infected       656\n",
    "nombre_sain          2480\n",
    "nombre_exposed        377\n",
    "nombre_recovered    16487\n",
    "Name: 185, dtype: int64"
   ]
  },
  {
   "cell_type": "markdown",
   "id": "ea85da37",
   "metadata": {},
   "source": [
    "nombre_infected       643\n",
    "nombre_sain          2508\n",
    "nombre_exposed        394\n",
    "nombre_recovered    16455\n",
    "Name: 186, dtype: int64"
   ]
  },
  {
   "cell_type": "markdown",
   "id": "c3c54c69",
   "metadata": {},
   "source": [
    "nombre_infected       666\n",
    "nombre_sain          2562\n",
    "nombre_exposed        371\n",
    "nombre_recovered    16401\n",
    "Name: 187, dtype: int64"
   ]
  },
  {
   "cell_type": "markdown",
   "id": "24ec5ca4",
   "metadata": {},
   "source": [
    "nombre_infected       660\n",
    "nombre_sain          2596\n",
    "nombre_exposed        363\n",
    "nombre_recovered    16381\n",
    "Name: 188, dtype: int64"
   ]
  },
  {
   "cell_type": "markdown",
   "id": "50454c8e",
   "metadata": {},
   "source": [
    "nombre_infected       681\n",
    "nombre_sain          2601\n",
    "nombre_exposed        362\n",
    "nombre_recovered    16356\n",
    "Name: 189, dtype: int64"
   ]
  },
  {
   "cell_type": "markdown",
   "id": "53ee9e51",
   "metadata": {},
   "source": [
    "nombre_infected       696\n",
    "nombre_sain          2597\n",
    "nombre_exposed        369\n",
    "nombre_recovered    16338\n",
    "Name: 190, dtype: int64"
   ]
  },
  {
   "cell_type": "markdown",
   "id": "6e51f90d",
   "metadata": {},
   "source": [
    "nombre_infected       679\n",
    "nombre_sain          2568\n",
    "nombre_exposed        382\n",
    "nombre_recovered    16371\n",
    "Name: 191, dtype: int64"
   ]
  },
  {
   "cell_type": "markdown",
   "id": "36f734a0",
   "metadata": {},
   "source": [
    "nombre_infected       697\n",
    "nombre_sain          2570\n",
    "nombre_exposed        375\n",
    "nombre_recovered    16358\n",
    "Name: 192, dtype: int64"
   ]
  },
  {
   "cell_type": "markdown",
   "id": "4bc428af",
   "metadata": {},
   "source": [
    "nombre_infected       709\n",
    "nombre_sain          2558\n",
    "nombre_exposed        382\n",
    "nombre_recovered    16351\n",
    "Name: 193, dtype: int64"
   ]
  },
  {
   "cell_type": "markdown",
   "id": "d8e3a3ec",
   "metadata": {},
   "source": [
    "nombre_infected       690\n",
    "nombre_sain          2562\n",
    "nombre_exposed        386\n",
    "nombre_recovered    16362\n",
    "Name: 194, dtype: int64"
   ]
  },
  {
   "cell_type": "markdown",
   "id": "0ac3d80b",
   "metadata": {},
   "source": [
    "nombre_infected       693\n",
    "nombre_sain          2549\n",
    "nombre_exposed        398\n",
    "nombre_recovered    16360\n",
    "Name: 195, dtype: int64"
   ]
  },
  {
   "cell_type": "markdown",
   "id": "92d3c70f",
   "metadata": {},
   "source": [
    "nombre_infected       679\n",
    "nombre_sain          2543\n",
    "nombre_exposed        428\n",
    "nombre_recovered    16350\n",
    "Name: 196, dtype: int64"
   ]
  },
  {
   "cell_type": "markdown",
   "id": "287dbf36",
   "metadata": {},
   "source": [
    "nombre_infected       686\n",
    "nombre_sain          2518\n",
    "nombre_exposed        433\n",
    "nombre_recovered    16363\n",
    "Name: 197, dtype: int64"
   ]
  },
  {
   "cell_type": "markdown",
   "id": "3c6aa08d",
   "metadata": {},
   "source": [
    "nombre_infected       685\n",
    "nombre_sain          2508\n",
    "nombre_exposed        414\n",
    "nombre_recovered    16393\n",
    "Name: 198, dtype: int64"
   ]
  },
  {
   "cell_type": "markdown",
   "id": "998ff7ee",
   "metadata": {},
   "source": [
    "nombre_infected       698\n",
    "nombre_sain          2473\n",
    "nombre_exposed        400\n",
    "nombre_recovered    16429\n",
    "Name: 199, dtype: int64"
   ]
  },
  {
   "cell_type": "markdown",
   "id": "59b3835b",
   "metadata": {},
   "source": [
    "nombre_infected       709\n",
    "nombre_sain          2466\n",
    "nombre_exposed        409\n",
    "nombre_recovered    16416\n",
    "Name: 200, dtype: int64"
   ]
  },
  {
   "cell_type": "markdown",
   "id": "5a431d87",
   "metadata": {},
   "source": [
    "nombre_infected       727\n",
    "nombre_sain          2453\n",
    "nombre_exposed        411\n",
    "nombre_recovered    16409\n",
    "Name: 201, dtype: int64"
   ]
  },
  {
   "cell_type": "markdown",
   "id": "5b50ee69",
   "metadata": {},
   "source": [
    "nombre_infected       747\n",
    "nombre_sain          2448\n",
    "nombre_exposed        394\n",
    "nombre_recovered    16411\n",
    "Name: 202, dtype: int64"
   ]
  },
  {
   "cell_type": "markdown",
   "id": "74e070ad",
   "metadata": {},
   "source": [
    "nombre_infected       743\n",
    "nombre_sain          2442\n",
    "nombre_exposed        406\n",
    "nombre_recovered    16409\n",
    "Name: 203, dtype: int64"
   ]
  },
  {
   "cell_type": "markdown",
   "id": "e738b1e2",
   "metadata": {},
   "source": [
    "nombre_infected       763\n",
    "nombre_sain          2451\n",
    "nombre_exposed        409\n",
    "nombre_recovered    16377\n",
    "Name: 204, dtype: int64"
   ]
  },
  {
   "cell_type": "markdown",
   "id": "dd7acc7f",
   "metadata": {},
   "source": [
    "nombre_infected       751\n",
    "nombre_sain          2442\n",
    "nombre_exposed        401\n",
    "nombre_recovered    16406\n",
    "Name: 205, dtype: int64"
   ]
  },
  {
   "cell_type": "markdown",
   "id": "c9d37376",
   "metadata": {},
   "source": [
    "nombre_infected       757\n",
    "nombre_sain          2443\n",
    "nombre_exposed        398\n",
    "nombre_recovered    16402\n",
    "Name: 206, dtype: int64"
   ]
  },
  {
   "cell_type": "markdown",
   "id": "66425ba5",
   "metadata": {},
   "source": [
    "nombre_infected       772\n",
    "nombre_sain          2450\n",
    "nombre_exposed        400\n",
    "nombre_recovered    16378\n",
    "Name: 207, dtype: int64"
   ]
  },
  {
   "cell_type": "markdown",
   "id": "946e2caa",
   "metadata": {},
   "source": [
    "nombre_infected       778\n",
    "nombre_sain          2461\n",
    "nombre_exposed        402\n",
    "nombre_recovered    16359\n",
    "Name: 208, dtype: int64"
   ]
  },
  {
   "cell_type": "markdown",
   "id": "901e5ff2",
   "metadata": {},
   "source": [
    "nombre_infected       787\n",
    "nombre_sain          2460\n",
    "nombre_exposed        420\n",
    "nombre_recovered    16333\n",
    "Name: 209, dtype: int64"
   ]
  },
  {
   "cell_type": "markdown",
   "id": "0322d302",
   "metadata": {},
   "source": [
    "nombre_infected       792\n",
    "nombre_sain          2452\n",
    "nombre_exposed        444\n",
    "nombre_recovered    16312\n",
    "Name: 210, dtype: int64"
   ]
  },
  {
   "cell_type": "markdown",
   "id": "50ff4c6e",
   "metadata": {},
   "source": [
    "nombre_infected       801\n",
    "nombre_sain          2470\n",
    "nombre_exposed        423\n",
    "nombre_recovered    16306\n",
    "Name: 211, dtype: int64"
   ]
  },
  {
   "cell_type": "markdown",
   "id": "5c63df1f",
   "metadata": {},
   "source": [
    "nombre_infected       810\n",
    "nombre_sain          2475\n",
    "nombre_exposed        412\n",
    "nombre_recovered    16303\n",
    "Name: 212, dtype: int64"
   ]
  },
  {
   "cell_type": "markdown",
   "id": "ddc6caea",
   "metadata": {},
   "source": [
    "nombre_infected       816\n",
    "nombre_sain          2495\n",
    "nombre_exposed        399\n",
    "nombre_recovered    16290\n",
    "Name: 213, dtype: int64"
   ]
  },
  {
   "cell_type": "markdown",
   "id": "1a9eed1e",
   "metadata": {},
   "source": [
    "nombre_infected       824\n",
    "nombre_sain          2486\n",
    "nombre_exposed        394\n",
    "nombre_recovered    16296\n",
    "Name: 214, dtype: int64"
   ]
  },
  {
   "cell_type": "markdown",
   "id": "5ae2cc39",
   "metadata": {},
   "source": [
    "nombre_infected       819\n",
    "nombre_sain          2496\n",
    "nombre_exposed        387\n",
    "nombre_recovered    16298\n",
    "Name: 215, dtype: int64"
   ]
  },
  {
   "cell_type": "markdown",
   "id": "c4e06ad1",
   "metadata": {},
   "source": [
    "nombre_infected       814\n",
    "nombre_sain          2512\n",
    "nombre_exposed        389\n",
    "nombre_recovered    16285\n",
    "Name: 216, dtype: int64"
   ]
  },
  {
   "cell_type": "markdown",
   "id": "7cfb2639",
   "metadata": {},
   "source": [
    "nombre_infected       795\n",
    "nombre_sain          2542\n",
    "nombre_exposed        397\n",
    "nombre_recovered    16266\n",
    "Name: 217, dtype: int64"
   ]
  },
  {
   "cell_type": "markdown",
   "id": "c26bd9fc",
   "metadata": {},
   "source": [
    "nombre_infected       806\n",
    "nombre_sain          2551\n",
    "nombre_exposed        372\n",
    "nombre_recovered    16271\n",
    "Name: 218, dtype: int64"
   ]
  },
  {
   "cell_type": "markdown",
   "id": "e42b0c1b",
   "metadata": {},
   "source": [
    "nombre_infected       788\n",
    "nombre_sain          2535\n",
    "nombre_exposed        419\n",
    "nombre_recovered    16258\n",
    "Name: 219, dtype: int64"
   ]
  },
  {
   "cell_type": "markdown",
   "id": "23b8d3f7",
   "metadata": {},
   "source": [
    "nombre_infected       755\n",
    "nombre_sain          2529\n",
    "nombre_exposed        428\n",
    "nombre_recovered    16288\n",
    "Name: 220, dtype: int64"
   ]
  },
  {
   "cell_type": "markdown",
   "id": "22e1e458",
   "metadata": {},
   "source": [
    "nombre_infected       771\n",
    "nombre_sain          2531\n",
    "nombre_exposed        432\n",
    "nombre_recovered    16266\n",
    "Name: 221, dtype: int64"
   ]
  },
  {
   "cell_type": "markdown",
   "id": "c99a2e29",
   "metadata": {},
   "source": [
    "nombre_infected       775\n",
    "nombre_sain          2533\n",
    "nombre_exposed        454\n",
    "nombre_recovered    16238\n",
    "Name: 222, dtype: int64"
   ]
  },
  {
   "cell_type": "markdown",
   "id": "39a2838c",
   "metadata": {},
   "source": [
    "nombre_infected       799\n",
    "nombre_sain          2567\n",
    "nombre_exposed        443\n",
    "nombre_recovered    16191\n",
    "Name: 223, dtype: int64"
   ]
  },
  {
   "cell_type": "markdown",
   "id": "f46f6263",
   "metadata": {},
   "source": [
    "nombre_infected       807\n",
    "nombre_sain          2551\n",
    "nombre_exposed        471\n",
    "nombre_recovered    16171\n",
    "Name: 224, dtype: int64"
   ]
  },
  {
   "cell_type": "markdown",
   "id": "f18dc4fb",
   "metadata": {},
   "source": [
    "nombre_infected       826\n",
    "nombre_sain          2545\n",
    "nombre_exposed        460\n",
    "nombre_recovered    16169\n",
    "Name: 225, dtype: int64"
   ]
  },
  {
   "cell_type": "markdown",
   "id": "b14b7bd6",
   "metadata": {},
   "source": [
    "nombre_infected       832\n",
    "nombre_sain          2543\n",
    "nombre_exposed        480\n",
    "nombre_recovered    16145\n",
    "Name: 226, dtype: int64"
   ]
  },
  {
   "cell_type": "markdown",
   "id": "ae4dbcfd",
   "metadata": {},
   "source": [
    "nombre_infected       849\n",
    "nombre_sain          2535\n",
    "nombre_exposed        509\n",
    "nombre_recovered    16107\n",
    "Name: 227, dtype: int64"
   ]
  },
  {
   "cell_type": "markdown",
   "id": "cfa15886",
   "metadata": {},
   "source": [
    "nombre_infected       855\n",
    "nombre_sain          2528\n",
    "nombre_exposed        527\n",
    "nombre_recovered    16090\n",
    "Name: 228, dtype: int64"
   ]
  },
  {
   "cell_type": "markdown",
   "id": "976ce1f3",
   "metadata": {},
   "source": [
    "nombre_infected       885\n",
    "nombre_sain          2506\n",
    "nombre_exposed        498\n",
    "nombre_recovered    16111\n",
    "Name: 229, dtype: int64"
   ]
  },
  {
   "cell_type": "markdown",
   "id": "93178e11",
   "metadata": {},
   "source": [
    "nombre_infected       949\n",
    "nombre_sain          2476\n",
    "nombre_exposed        488\n",
    "nombre_recovered    16087\n",
    "Name: 230, dtype: int64"
   ]
  },
  {
   "cell_type": "markdown",
   "id": "3f258c0b",
   "metadata": {},
   "source": [
    "nombre_infected       956\n",
    "nombre_sain          2434\n",
    "nombre_exposed        483\n",
    "nombre_recovered    16127\n",
    "Name: 231, dtype: int64"
   ]
  },
  {
   "cell_type": "markdown",
   "id": "843d7b16",
   "metadata": {},
   "source": [
    "nombre_infected       952\n",
    "nombre_sain          2373\n",
    "nombre_exposed        499\n",
    "nombre_recovered    16176\n",
    "Name: 232, dtype: int64"
   ]
  },
  {
   "cell_type": "markdown",
   "id": "5afadff1",
   "metadata": {},
   "source": [
    "nombre_infected       962\n",
    "nombre_sain          2350\n",
    "nombre_exposed        480\n",
    "nombre_recovered    16208\n",
    "Name: 233, dtype: int64"
   ]
  },
  {
   "cell_type": "markdown",
   "id": "cdb177be",
   "metadata": {},
   "source": [
    "nombre_infected       978\n",
    "nombre_sain          2325\n",
    "nombre_exposed        468\n",
    "nombre_recovered    16229\n",
    "Name: 234, dtype: int64"
   ]
  },
  {
   "cell_type": "markdown",
   "id": "2252147e",
   "metadata": {},
   "source": [
    "nombre_infected       966\n",
    "nombre_sain          2321\n",
    "nombre_exposed        487\n",
    "nombre_recovered    16226\n",
    "Name: 235, dtype: int64"
   ]
  },
  {
   "cell_type": "markdown",
   "id": "2bbde131",
   "metadata": {},
   "source": [
    "nombre_infected       963\n",
    "nombre_sain          2266\n",
    "nombre_exposed        489\n",
    "nombre_recovered    16282\n",
    "Name: 236, dtype: int64"
   ]
  },
  {
   "cell_type": "markdown",
   "id": "39448a2f",
   "metadata": {},
   "source": [
    "nombre_infected       968\n",
    "nombre_sain          2223\n",
    "nombre_exposed        484\n",
    "nombre_recovered    16325\n",
    "Name: 237, dtype: int64"
   ]
  },
  {
   "cell_type": "markdown",
   "id": "7a5a8425",
   "metadata": {},
   "source": [
    "nombre_infected       975\n",
    "nombre_sain          2204\n",
    "nombre_exposed        492\n",
    "nombre_recovered    16329\n",
    "Name: 238, dtype: int64"
   ]
  },
  {
   "cell_type": "markdown",
   "id": "43ee22af",
   "metadata": {},
   "source": [
    "nombre_infected       971\n",
    "nombre_sain          2177\n",
    "nombre_exposed        511\n",
    "nombre_recovered    16341\n",
    "Name: 239, dtype: int64"
   ]
  },
  {
   "cell_type": "markdown",
   "id": "9d04c4d2",
   "metadata": {},
   "source": [
    "nombre_infected       971\n",
    "nombre_sain          2142\n",
    "nombre_exposed        527\n",
    "nombre_recovered    16360\n",
    "Name: 240, dtype: int64"
   ]
  },
  {
   "cell_type": "markdown",
   "id": "7840f230",
   "metadata": {},
   "source": [
    "nombre_infected       974\n",
    "nombre_sain          2146\n",
    "nombre_exposed        517\n",
    "nombre_recovered    16363\n",
    "Name: 241, dtype: int64"
   ]
  },
  {
   "cell_type": "markdown",
   "id": "fd239cda",
   "metadata": {},
   "source": [
    "nombre_infected       974\n",
    "nombre_sain          2090\n",
    "nombre_exposed        522\n",
    "nombre_recovered    16414\n",
    "Name: 242, dtype: int64"
   ]
  },
  {
   "cell_type": "markdown",
   "id": "3f373363",
   "metadata": {},
   "source": [
    "nombre_infected       976\n",
    "nombre_sain          2074\n",
    "nombre_exposed        527\n",
    "nombre_recovered    16423\n",
    "Name: 243, dtype: int64"
   ]
  },
  {
   "cell_type": "markdown",
   "id": "dbdc81f2",
   "metadata": {},
   "source": [
    "nombre_infected       995\n",
    "nombre_sain          2045\n",
    "nombre_exposed        516\n",
    "nombre_recovered    16444\n",
    "Name: 244, dtype: int64"
   ]
  },
  {
   "cell_type": "markdown",
   "id": "ffe41b8f",
   "metadata": {},
   "source": [
    "nombre_infected       998\n",
    "nombre_sain          2018\n",
    "nombre_exposed        498\n",
    "nombre_recovered    16486\n",
    "Name: 245, dtype: int64"
   ]
  },
  {
   "cell_type": "markdown",
   "id": "7afac3bd",
   "metadata": {},
   "source": [
    "nombre_infected      1001\n",
    "nombre_sain          1998\n",
    "nombre_exposed        488\n",
    "nombre_recovered    16513\n",
    "Name: 246, dtype: int64"
   ]
  },
  {
   "cell_type": "markdown",
   "id": "ecc0da24",
   "metadata": {},
   "source": [
    "nombre_infected       983\n",
    "nombre_sain          1991\n",
    "nombre_exposed        499\n",
    "nombre_recovered    16527\n",
    "Name: 247, dtype: int64"
   ]
  },
  {
   "cell_type": "markdown",
   "id": "c0407795",
   "metadata": {},
   "source": [
    "nombre_infected       992\n",
    "nombre_sain          1964\n",
    "nombre_exposed        489\n",
    "nombre_recovered    16555\n",
    "Name: 248, dtype: int64"
   ]
  },
  {
   "cell_type": "markdown",
   "id": "a98f80c9",
   "metadata": {},
   "source": [
    "nombre_infected       990\n",
    "nombre_sain          1957\n",
    "nombre_exposed        475\n",
    "nombre_recovered    16578\n",
    "Name: 249, dtype: int64"
   ]
  },
  {
   "cell_type": "markdown",
   "id": "9b646591",
   "metadata": {},
   "source": [
    "nombre_infected       976\n",
    "nombre_sain          1951\n",
    "nombre_exposed        479\n",
    "nombre_recovered    16594\n",
    "Name: 250, dtype: int64"
   ]
  },
  {
   "cell_type": "markdown",
   "id": "24091d2b",
   "metadata": {},
   "source": [
    "nombre_infected       951\n",
    "nombre_sain          1945\n",
    "nombre_exposed        486\n",
    "nombre_recovered    16618\n",
    "Name: 251, dtype: int64"
   ]
  },
  {
   "cell_type": "markdown",
   "id": "b115b363",
   "metadata": {},
   "source": [
    "nombre_infected       982\n",
    "nombre_sain          1956\n",
    "nombre_exposed        441\n",
    "nombre_recovered    16621\n",
    "Name: 252, dtype: int64"
   ]
  },
  {
   "cell_type": "markdown",
   "id": "6590e2d7",
   "metadata": {},
   "source": [
    "nombre_infected       958\n",
    "nombre_sain          1945\n",
    "nombre_exposed        459\n",
    "nombre_recovered    16638\n",
    "Name: 253, dtype: int64"
   ]
  },
  {
   "cell_type": "markdown",
   "id": "f264b0e4",
   "metadata": {},
   "source": [
    "nombre_infected       911\n",
    "nombre_sain          1954\n",
    "nombre_exposed        473\n",
    "nombre_recovered    16662\n",
    "Name: 254, dtype: int64"
   ]
  },
  {
   "cell_type": "markdown",
   "id": "0a12a3f3",
   "metadata": {},
   "source": [
    "nombre_infected       917\n",
    "nombre_sain          1975\n",
    "nombre_exposed        450\n",
    "nombre_recovered    16658\n",
    "Name: 255, dtype: int64"
   ]
  },
  {
   "cell_type": "markdown",
   "id": "1b0db39f",
   "metadata": {},
   "source": [
    "nombre_infected       920\n",
    "nombre_sain          2012\n",
    "nombre_exposed        440\n",
    "nombre_recovered    16628\n",
    "Name: 256, dtype: int64"
   ]
  },
  {
   "cell_type": "markdown",
   "id": "0a3f0f67",
   "metadata": {},
   "source": [
    "nombre_infected       889\n",
    "nombre_sain          2046\n",
    "nombre_exposed        432\n",
    "nombre_recovered    16633\n",
    "Name: 257, dtype: int64"
   ]
  },
  {
   "cell_type": "markdown",
   "id": "7b54c352",
   "metadata": {},
   "source": [
    "nombre_infected       867\n",
    "nombre_sain          2127\n",
    "nombre_exposed        412\n",
    "nombre_recovered    16594\n",
    "Name: 258, dtype: int64"
   ]
  },
  {
   "cell_type": "markdown",
   "id": "aa961c43",
   "metadata": {},
   "source": [
    "nombre_infected       847\n",
    "nombre_sain          2145\n",
    "nombre_exposed        411\n",
    "nombre_recovered    16597\n",
    "Name: 259, dtype: int64"
   ]
  },
  {
   "cell_type": "markdown",
   "id": "7b7b4e1b",
   "metadata": {},
   "source": [
    "nombre_infected       845\n",
    "nombre_sain          2179\n",
    "nombre_exposed        424\n",
    "nombre_recovered    16552\n",
    "Name: 260, dtype: int64"
   ]
  },
  {
   "cell_type": "markdown",
   "id": "8ee23825",
   "metadata": {},
   "source": [
    "nombre_infected       827\n",
    "nombre_sain          2236\n",
    "nombre_exposed        427\n",
    "nombre_recovered    16510\n",
    "Name: 261, dtype: int64"
   ]
  },
  {
   "cell_type": "markdown",
   "id": "0c9b364f",
   "metadata": {},
   "source": [
    "nombre_infected       820\n",
    "nombre_sain          2255\n",
    "nombre_exposed        437\n",
    "nombre_recovered    16488\n",
    "Name: 262, dtype: int64"
   ]
  },
  {
   "cell_type": "markdown",
   "id": "4dabce02",
   "metadata": {},
   "source": [
    "nombre_infected       841\n",
    "nombre_sain          2283\n",
    "nombre_exposed        423\n",
    "nombre_recovered    16453\n",
    "Name: 263, dtype: int64"
   ]
  },
  {
   "cell_type": "markdown",
   "id": "f601e2d9",
   "metadata": {},
   "source": [
    "nombre_infected       843\n",
    "nombre_sain          2311\n",
    "nombre_exposed        423\n",
    "nombre_recovered    16423\n",
    "Name: 264, dtype: int64"
   ]
  },
  {
   "cell_type": "markdown",
   "id": "8d512759",
   "metadata": {},
   "source": [
    "nombre_infected       844\n",
    "nombre_sain          2306\n",
    "nombre_exposed        439\n",
    "nombre_recovered    16411\n",
    "Name: 265, dtype: int64"
   ]
  },
  {
   "cell_type": "markdown",
   "id": "2644324a",
   "metadata": {},
   "source": [
    "nombre_infected       828\n",
    "nombre_sain          2293\n",
    "nombre_exposed        482\n",
    "nombre_recovered    16397\n",
    "Name: 266, dtype: int64"
   ]
  },
  {
   "cell_type": "markdown",
   "id": "746a0f1d",
   "metadata": {},
   "source": [
    "nombre_infected       828\n",
    "nombre_sain          2310\n",
    "nombre_exposed        487\n",
    "nombre_recovered    16375\n",
    "Name: 267, dtype: int64"
   ]
  },
  {
   "cell_type": "markdown",
   "id": "ca292d1a",
   "metadata": {},
   "source": [
    "nombre_infected       833\n",
    "nombre_sain          2323\n",
    "nombre_exposed        480\n",
    "nombre_recovered    16364\n",
    "Name: 268, dtype: int64"
   ]
  },
  {
   "cell_type": "markdown",
   "id": "b6874bbd",
   "metadata": {},
   "source": [
    "nombre_infected       846\n",
    "nombre_sain          2343\n",
    "nombre_exposed        466\n",
    "nombre_recovered    16345\n",
    "Name: 269, dtype: int64"
   ]
  },
  {
   "cell_type": "markdown",
   "id": "fa87a5cf",
   "metadata": {},
   "source": [
    "nombre_infected       872\n",
    "nombre_sain          2345\n",
    "nombre_exposed        473\n",
    "nombre_recovered    16310\n",
    "Name: 270, dtype: int64"
   ]
  },
  {
   "cell_type": "markdown",
   "id": "7aaab90b",
   "metadata": {},
   "source": [
    "nombre_infected       864\n",
    "nombre_sain          2371\n",
    "nombre_exposed        466\n",
    "nombre_recovered    16299\n",
    "Name: 271, dtype: int64"
   ]
  },
  {
   "cell_type": "markdown",
   "id": "b23f3378",
   "metadata": {},
   "source": [
    "nombre_infected       855\n",
    "nombre_sain          2347\n",
    "nombre_exposed        483\n",
    "nombre_recovered    16315\n",
    "Name: 272, dtype: int64"
   ]
  },
  {
   "cell_type": "markdown",
   "id": "04261820",
   "metadata": {},
   "source": [
    "nombre_infected       862\n",
    "nombre_sain          2352\n",
    "nombre_exposed        482\n",
    "nombre_recovered    16304\n",
    "Name: 273, dtype: int64"
   ]
  },
  {
   "cell_type": "markdown",
   "id": "9dcf4928",
   "metadata": {},
   "source": [
    "nombre_infected       847\n",
    "nombre_sain          2346\n",
    "nombre_exposed        487\n",
    "nombre_recovered    16320\n",
    "Name: 274, dtype: int64"
   ]
  },
  {
   "cell_type": "markdown",
   "id": "8baa29b3",
   "metadata": {},
   "source": [
    "nombre_infected       848\n",
    "nombre_sain          2332\n",
    "nombre_exposed        483\n",
    "nombre_recovered    16337\n",
    "Name: 275, dtype: int64"
   ]
  },
  {
   "cell_type": "markdown",
   "id": "20f4b208",
   "metadata": {},
   "source": [
    "nombre_infected       846\n",
    "nombre_sain          2295\n",
    "nombre_exposed        508\n",
    "nombre_recovered    16351\n",
    "Name: 276, dtype: int64"
   ]
  },
  {
   "cell_type": "markdown",
   "id": "0dc73803",
   "metadata": {},
   "source": [
    "nombre_infected       860\n",
    "nombre_sain          2306\n",
    "nombre_exposed        488\n",
    "nombre_recovered    16346\n",
    "Name: 277, dtype: int64"
   ]
  },
  {
   "cell_type": "markdown",
   "id": "e854a167",
   "metadata": {},
   "source": [
    "nombre_infected       851\n",
    "nombre_sain          2329\n",
    "nombre_exposed        499\n",
    "nombre_recovered    16321\n",
    "Name: 278, dtype: int64"
   ]
  },
  {
   "cell_type": "markdown",
   "id": "38f0fafc",
   "metadata": {},
   "source": [
    "nombre_infected       874\n",
    "nombre_sain          2364\n",
    "nombre_exposed        469\n",
    "nombre_recovered    16293\n",
    "Name: 279, dtype: int64"
   ]
  },
  {
   "cell_type": "markdown",
   "id": "93b0666c",
   "metadata": {},
   "source": [
    "nombre_infected       890\n",
    "nombre_sain          2413\n",
    "nombre_exposed        439\n",
    "nombre_recovered    16258\n",
    "Name: 280, dtype: int64"
   ]
  },
  {
   "cell_type": "markdown",
   "id": "a3af8ada",
   "metadata": {},
   "source": [
    "nombre_infected       868\n",
    "nombre_sain          2399\n",
    "nombre_exposed        496\n",
    "nombre_recovered    16237\n",
    "Name: 281, dtype: int64"
   ]
  },
  {
   "cell_type": "markdown",
   "id": "3dfb283e",
   "metadata": {},
   "source": [
    "nombre_infected       852\n",
    "nombre_sain          2436\n",
    "nombre_exposed        502\n",
    "nombre_recovered    16210\n",
    "Name: 282, dtype: int64"
   ]
  },
  {
   "cell_type": "markdown",
   "id": "c585e71c",
   "metadata": {},
   "source": [
    "nombre_infected       865\n",
    "nombre_sain          2463\n",
    "nombre_exposed        496\n",
    "nombre_recovered    16176\n",
    "Name: 283, dtype: int64"
   ]
  },
  {
   "cell_type": "markdown",
   "id": "5f51222c",
   "metadata": {},
   "source": [
    "nombre_infected       870\n",
    "nombre_sain          2492\n",
    "nombre_exposed        505\n",
    "nombre_recovered    16133\n",
    "Name: 284, dtype: int64"
   ]
  },
  {
   "cell_type": "markdown",
   "id": "c8f283f4",
   "metadata": {},
   "source": [
    "nombre_infected       889\n",
    "nombre_sain          2471\n",
    "nombre_exposed        537\n",
    "nombre_recovered    16103\n",
    "Name: 285, dtype: int64"
   ]
  },
  {
   "cell_type": "markdown",
   "id": "5d5d25a1",
   "metadata": {},
   "source": [
    "nombre_infected       868\n",
    "nombre_sain          2495\n",
    "nombre_exposed        541\n",
    "nombre_recovered    16096\n",
    "Name: 286, dtype: int64"
   ]
  },
  {
   "cell_type": "markdown",
   "id": "41037917",
   "metadata": {},
   "source": [
    "nombre_infected       878\n",
    "nombre_sain          2537\n",
    "nombre_exposed        506\n",
    "nombre_recovered    16079\n",
    "Name: 287, dtype: int64"
   ]
  },
  {
   "cell_type": "markdown",
   "id": "921e25f4",
   "metadata": {},
   "source": [
    "nombre_infected       908\n",
    "nombre_sain          2522\n",
    "nombre_exposed        507\n",
    "nombre_recovered    16063\n",
    "Name: 288, dtype: int64"
   ]
  },
  {
   "cell_type": "markdown",
   "id": "0cb02503",
   "metadata": {},
   "source": [
    "nombre_infected       872\n",
    "nombre_sain          2532\n",
    "nombre_exposed        522\n",
    "nombre_recovered    16074\n",
    "Name: 289, dtype: int64"
   ]
  },
  {
   "cell_type": "markdown",
   "id": "d2693d97",
   "metadata": {},
   "source": [
    "nombre_infected       863\n",
    "nombre_sain          2516\n",
    "nombre_exposed        550\n",
    "nombre_recovered    16071\n",
    "Name: 290, dtype: int64"
   ]
  },
  {
   "cell_type": "markdown",
   "id": "1ac24560",
   "metadata": {},
   "source": [
    "nombre_infected       884\n",
    "nombre_sain          2501\n",
    "nombre_exposed        555\n",
    "nombre_recovered    16060\n",
    "Name: 291, dtype: int64"
   ]
  },
  {
   "cell_type": "markdown",
   "id": "9e325fb5",
   "metadata": {},
   "source": [
    "nombre_infected       894\n",
    "nombre_sain          2497\n",
    "nombre_exposed        553\n",
    "nombre_recovered    16056\n",
    "Name: 292, dtype: int64"
   ]
  },
  {
   "cell_type": "markdown",
   "id": "63465f49",
   "metadata": {},
   "source": [
    "nombre_infected       902\n",
    "nombre_sain          2465\n",
    "nombre_exposed        553\n",
    "nombre_recovered    16080\n",
    "Name: 293, dtype: int64"
   ]
  },
  {
   "cell_type": "markdown",
   "id": "d4048d33",
   "metadata": {},
   "source": [
    "nombre_infected       890\n",
    "nombre_sain          2454\n",
    "nombre_exposed        579\n",
    "nombre_recovered    16077\n",
    "Name: 294, dtype: int64"
   ]
  },
  {
   "cell_type": "markdown",
   "id": "ed2d9d1d",
   "metadata": {},
   "source": [
    "nombre_infected       926\n",
    "nombre_sain          2462\n",
    "nombre_exposed        540\n",
    "nombre_recovered    16072\n",
    "Name: 295, dtype: int64"
   ]
  },
  {
   "cell_type": "markdown",
   "id": "1ebdf5bf",
   "metadata": {},
   "source": [
    "nombre_infected       915\n",
    "nombre_sain          2437\n",
    "nombre_exposed        542\n",
    "nombre_recovered    16106\n",
    "Name: 296, dtype: int64"
   ]
  },
  {
   "cell_type": "markdown",
   "id": "594289ad",
   "metadata": {},
   "source": [
    "nombre_infected       922\n",
    "nombre_sain          2427\n",
    "nombre_exposed        545\n",
    "nombre_recovered    16106\n",
    "Name: 297, dtype: int64"
   ]
  },
  {
   "cell_type": "markdown",
   "id": "3e331c36",
   "metadata": {},
   "source": [
    "nombre_infected       936\n",
    "nombre_sain          2409\n",
    "nombre_exposed        545\n",
    "nombre_recovered    16110\n",
    "Name: 298, dtype: int64"
   ]
  },
  {
   "cell_type": "markdown",
   "id": "5289a1a4",
   "metadata": {},
   "source": [
    "nombre_infected       935\n",
    "nombre_sain          2390\n",
    "nombre_exposed        547\n",
    "nombre_recovered    16128\n",
    "Name: 299, dtype: int64"
   ]
  },
  {
   "cell_type": "markdown",
   "id": "da83f95b",
   "metadata": {},
   "source": [
    "nombre_infected       963\n",
    "nombre_sain          2382\n",
    "nombre_exposed        524\n",
    "nombre_recovered    16131\n",
    "Name: 300, dtype: int64"
   ]
  },
  {
   "cell_type": "markdown",
   "id": "32ea78ac",
   "metadata": {},
   "source": [
    "nombre_infected       924\n",
    "nombre_sain          2352\n",
    "nombre_exposed        542\n",
    "nombre_recovered    16182\n",
    "Name: 301, dtype: int64"
   ]
  },
  {
   "cell_type": "markdown",
   "id": "4c712ca4",
   "metadata": {},
   "source": [
    "nombre_infected       908\n",
    "nombre_sain          2320\n",
    "nombre_exposed        536\n",
    "nombre_recovered    16236\n",
    "Name: 302, dtype: int64"
   ]
  },
  {
   "cell_type": "markdown",
   "id": "21f1302d",
   "metadata": {},
   "source": [
    "nombre_infected       940\n",
    "nombre_sain          2305\n",
    "nombre_exposed        521\n",
    "nombre_recovered    16234\n",
    "Name: 303, dtype: int64"
   ]
  },
  {
   "cell_type": "markdown",
   "id": "9ec35a75",
   "metadata": {},
   "source": [
    "nombre_infected       899\n",
    "nombre_sain          2303\n",
    "nombre_exposed        516\n",
    "nombre_recovered    16282\n",
    "Name: 304, dtype: int64"
   ]
  },
  {
   "cell_type": "markdown",
   "id": "d39fc442",
   "metadata": {},
   "source": [
    "nombre_infected       914\n",
    "nombre_sain          2274\n",
    "nombre_exposed        510\n",
    "nombre_recovered    16302\n",
    "Name: 305, dtype: int64"
   ]
  },
  {
   "cell_type": "markdown",
   "id": "3824c1c2",
   "metadata": {},
   "source": [
    "nombre_infected       905\n",
    "nombre_sain          2252\n",
    "nombre_exposed        518\n",
    "nombre_recovered    16325\n",
    "Name: 306, dtype: int64"
   ]
  },
  {
   "cell_type": "markdown",
   "id": "8c66ac8f",
   "metadata": {},
   "source": [
    "nombre_infected       917\n",
    "nombre_sain          2254\n",
    "nombre_exposed        500\n",
    "nombre_recovered    16329\n",
    "Name: 307, dtype: int64"
   ]
  },
  {
   "cell_type": "markdown",
   "id": "019ce591",
   "metadata": {},
   "source": [
    "nombre_infected       900\n",
    "nombre_sain          2267\n",
    "nombre_exposed        492\n",
    "nombre_recovered    16341\n",
    "Name: 308, dtype: int64"
   ]
  },
  {
   "cell_type": "markdown",
   "id": "2ba5b5f3",
   "metadata": {},
   "source": [
    "nombre_infected       914\n",
    "nombre_sain          2267\n",
    "nombre_exposed        473\n",
    "nombre_recovered    16346\n",
    "Name: 309, dtype: int64"
   ]
  },
  {
   "cell_type": "markdown",
   "id": "c74ae5b3",
   "metadata": {},
   "source": [
    "nombre_infected       922\n",
    "nombre_sain          2233\n",
    "nombre_exposed        485\n",
    "nombre_recovered    16360\n",
    "Name: 310, dtype: int64"
   ]
  },
  {
   "cell_type": "markdown",
   "id": "e67a84f4",
   "metadata": {},
   "source": [
    "nombre_infected       908\n",
    "nombre_sain          2203\n",
    "nombre_exposed        483\n",
    "nombre_recovered    16406\n",
    "Name: 311, dtype: int64"
   ]
  },
  {
   "cell_type": "markdown",
   "id": "d28d77df",
   "metadata": {},
   "source": [
    "nombre_infected       913\n",
    "nombre_sain          2191\n",
    "nombre_exposed        481\n",
    "nombre_recovered    16415\n",
    "Name: 312, dtype: int64"
   ]
  },
  {
   "cell_type": "markdown",
   "id": "ab01d831",
   "metadata": {},
   "source": [
    "nombre_infected       920\n",
    "nombre_sain          2206\n",
    "nombre_exposed        482\n",
    "nombre_recovered    16392\n",
    "Name: 313, dtype: int64"
   ]
  },
  {
   "cell_type": "markdown",
   "id": "10f6b1fb",
   "metadata": {},
   "source": [
    "nombre_infected       927\n",
    "nombre_sain          2236\n",
    "nombre_exposed        454\n",
    "nombre_recovered    16383\n",
    "Name: 314, dtype: int64"
   ]
  },
  {
   "cell_type": "markdown",
   "id": "d38599de",
   "metadata": {},
   "source": [
    "nombre_infected       934\n",
    "nombre_sain          2226\n",
    "nombre_exposed        455\n",
    "nombre_recovered    16385\n",
    "Name: 315, dtype: int64"
   ]
  },
  {
   "cell_type": "markdown",
   "id": "26472a1e",
   "metadata": {},
   "source": [
    "nombre_infected       920\n",
    "nombre_sain          2237\n",
    "nombre_exposed        463\n",
    "nombre_recovered    16380\n",
    "Name: 316, dtype: int64"
   ]
  },
  {
   "cell_type": "markdown",
   "id": "59677015",
   "metadata": {},
   "source": [
    "nombre_infected       921\n",
    "nombre_sain          2237\n",
    "nombre_exposed        455\n",
    "nombre_recovered    16387\n",
    "Name: 317, dtype: int64"
   ]
  },
  {
   "cell_type": "markdown",
   "id": "880de56c",
   "metadata": {},
   "source": [
    "nombre_infected       934\n",
    "nombre_sain          2257\n",
    "nombre_exposed        434\n",
    "nombre_recovered    16375\n",
    "Name: 318, dtype: int64"
   ]
  },
  {
   "cell_type": "markdown",
   "id": "c10f9e1d",
   "metadata": {},
   "source": [
    "nombre_infected       927\n",
    "nombre_sain          2257\n",
    "nombre_exposed        446\n",
    "nombre_recovered    16370\n",
    "Name: 319, dtype: int64"
   ]
  },
  {
   "cell_type": "markdown",
   "id": "3825609e",
   "metadata": {},
   "source": [
    "nombre_infected       911\n",
    "nombre_sain          2271\n",
    "nombre_exposed        460\n",
    "nombre_recovered    16358\n",
    "Name: 320, dtype: int64"
   ]
  },
  {
   "cell_type": "markdown",
   "id": "d5ed3a16",
   "metadata": {},
   "source": [
    "nombre_infected       906\n",
    "nombre_sain          2273\n",
    "nombre_exposed        470\n",
    "nombre_recovered    16351\n",
    "Name: 321, dtype: int64"
   ]
  },
  {
   "cell_type": "markdown",
   "id": "9155ce06",
   "metadata": {},
   "source": [
    "nombre_infected       905\n",
    "nombre_sain          2318\n",
    "nombre_exposed        449\n",
    "nombre_recovered    16328\n",
    "Name: 322, dtype: int64"
   ]
  },
  {
   "cell_type": "markdown",
   "id": "7e230afc",
   "metadata": {},
   "source": [
    "nombre_infected       924\n",
    "nombre_sain          2336\n",
    "nombre_exposed        442\n",
    "nombre_recovered    16298\n",
    "Name: 323, dtype: int64"
   ]
  },
  {
   "cell_type": "markdown",
   "id": "23602169",
   "metadata": {},
   "source": [
    "nombre_infected       903\n",
    "nombre_sain          2345\n",
    "nombre_exposed        470\n",
    "nombre_recovered    16282\n",
    "Name: 324, dtype: int64"
   ]
  },
  {
   "cell_type": "markdown",
   "id": "645edbf2",
   "metadata": {},
   "source": [
    "nombre_infected       887\n",
    "nombre_sain          2342\n",
    "nombre_exposed        482\n",
    "nombre_recovered    16289\n",
    "Name: 325, dtype: int64"
   ]
  },
  {
   "cell_type": "markdown",
   "id": "018d33e2",
   "metadata": {},
   "source": [
    "nombre_infected       892\n",
    "nombre_sain          2349\n",
    "nombre_exposed        483\n",
    "nombre_recovered    16276\n",
    "Name: 326, dtype: int64"
   ]
  },
  {
   "cell_type": "markdown",
   "id": "bdc300d5",
   "metadata": {},
   "source": [
    "nombre_infected       894\n",
    "nombre_sain          2328\n",
    "nombre_exposed        490\n",
    "nombre_recovered    16288\n",
    "Name: 327, dtype: int64"
   ]
  },
  {
   "cell_type": "markdown",
   "id": "250b1cdc",
   "metadata": {},
   "source": [
    "nombre_infected       904\n",
    "nombre_sain          2324\n",
    "nombre_exposed        485\n",
    "nombre_recovered    16287\n",
    "Name: 328, dtype: int64"
   ]
  },
  {
   "cell_type": "markdown",
   "id": "279d0007",
   "metadata": {},
   "source": [
    "nombre_infected       930\n",
    "nombre_sain          2345\n",
    "nombre_exposed        473\n",
    "nombre_recovered    16252\n",
    "Name: 329, dtype: int64"
   ]
  },
  {
   "cell_type": "markdown",
   "id": "72b3c752",
   "metadata": {},
   "source": [
    "nombre_infected       945\n",
    "nombre_sain          2315\n",
    "nombre_exposed        488\n",
    "nombre_recovered    16252\n",
    "Name: 330, dtype: int64"
   ]
  },
  {
   "cell_type": "markdown",
   "id": "32b041c1",
   "metadata": {},
   "source": [
    "nombre_infected       951\n",
    "nombre_sain          2295\n",
    "nombre_exposed        519\n",
    "nombre_recovered    16235\n",
    "Name: 331, dtype: int64"
   ]
  },
  {
   "cell_type": "markdown",
   "id": "65f20cc7",
   "metadata": {},
   "source": [
    "nombre_infected       952\n",
    "nombre_sain          2266\n",
    "nombre_exposed        524\n",
    "nombre_recovered    16258\n",
    "Name: 332, dtype: int64"
   ]
  },
  {
   "cell_type": "markdown",
   "id": "524d7229",
   "metadata": {},
   "source": [
    "nombre_infected       980\n",
    "nombre_sain          2278\n",
    "nombre_exposed        521\n",
    "nombre_recovered    16221\n",
    "Name: 333, dtype: int64"
   ]
  },
  {
   "cell_type": "markdown",
   "id": "685410b0",
   "metadata": {},
   "source": [
    "nombre_infected       970\n",
    "nombre_sain          2258\n",
    "nombre_exposed        538\n",
    "nombre_recovered    16234\n",
    "Name: 334, dtype: int64"
   ]
  },
  {
   "cell_type": "markdown",
   "id": "1e2da53c",
   "metadata": {},
   "source": [
    "nombre_infected       953\n",
    "nombre_sain          2264\n",
    "nombre_exposed        509\n",
    "nombre_recovered    16274\n",
    "Name: 335, dtype: int64"
   ]
  },
  {
   "cell_type": "markdown",
   "id": "e7dae3cf",
   "metadata": {},
   "source": [
    "nombre_infected       962\n",
    "nombre_sain          2262\n",
    "nombre_exposed        514\n",
    "nombre_recovered    16262\n",
    "Name: 336, dtype: int64"
   ]
  },
  {
   "cell_type": "markdown",
   "id": "e7d379d1",
   "metadata": {},
   "source": [
    "nombre_infected       960\n",
    "nombre_sain          2252\n",
    "nombre_exposed        525\n",
    "nombre_recovered    16263\n",
    "Name: 337, dtype: int64"
   ]
  },
  {
   "cell_type": "markdown",
   "id": "2025d2f0",
   "metadata": {},
   "source": [
    "nombre_infected       969\n",
    "nombre_sain          2254\n",
    "nombre_exposed        520\n",
    "nombre_recovered    16257\n",
    "Name: 338, dtype: int64"
   ]
  },
  {
   "cell_type": "markdown",
   "id": "2f96eea4",
   "metadata": {},
   "source": [
    "nombre_infected       979\n",
    "nombre_sain          2238\n",
    "nombre_exposed        525\n",
    "nombre_recovered    16258\n",
    "Name: 339, dtype: int64"
   ]
  },
  {
   "cell_type": "markdown",
   "id": "717ef923",
   "metadata": {},
   "source": [
    "nombre_infected       987\n",
    "nombre_sain          2235\n",
    "nombre_exposed        521\n",
    "nombre_recovered    16257\n",
    "Name: 340, dtype: int64"
   ]
  },
  {
   "cell_type": "markdown",
   "id": "297dd1cd",
   "metadata": {},
   "source": [
    "nombre_infected      1000\n",
    "nombre_sain          2229\n",
    "nombre_exposed        542\n",
    "nombre_recovered    16229\n",
    "Name: 341, dtype: int64"
   ]
  },
  {
   "cell_type": "markdown",
   "id": "c48970ee",
   "metadata": {},
   "source": [
    "nombre_infected       982\n",
    "nombre_sain          2226\n",
    "nombre_exposed        540\n",
    "nombre_recovered    16252\n",
    "Name: 342, dtype: int64"
   ]
  },
  {
   "cell_type": "markdown",
   "id": "bd1dd7a2",
   "metadata": {},
   "source": [
    "nombre_infected       994\n",
    "nombre_sain          2241\n",
    "nombre_exposed        528\n",
    "nombre_recovered    16237\n",
    "Name: 343, dtype: int64"
   ]
  },
  {
   "cell_type": "markdown",
   "id": "48beca99",
   "metadata": {},
   "source": [
    "nombre_infected       987\n",
    "nombre_sain          2271\n",
    "nombre_exposed        538\n",
    "nombre_recovered    16204\n",
    "Name: 344, dtype: int64"
   ]
  },
  {
   "cell_type": "markdown",
   "id": "bb9af512",
   "metadata": {},
   "source": [
    "nombre_infected       975\n",
    "nombre_sain          2299\n",
    "nombre_exposed        539\n",
    "nombre_recovered    16187\n",
    "Name: 345, dtype: int64"
   ]
  },
  {
   "cell_type": "markdown",
   "id": "d02a9b19",
   "metadata": {},
   "source": [
    "nombre_infected       993\n",
    "nombre_sain          2271\n",
    "nombre_exposed        573\n",
    "nombre_recovered    16163\n",
    "Name: 346, dtype: int64"
   ]
  },
  {
   "cell_type": "markdown",
   "id": "592d76e7",
   "metadata": {},
   "source": [
    "nombre_infected      1008\n",
    "nombre_sain          2268\n",
    "nombre_exposed        593\n",
    "nombre_recovered    16131\n",
    "Name: 347, dtype: int64"
   ]
  },
  {
   "cell_type": "markdown",
   "id": "cc56f2b6",
   "metadata": {},
   "source": [
    "nombre_infected      1005\n",
    "nombre_sain          2261\n",
    "nombre_exposed        592\n",
    "nombre_recovered    16142\n",
    "Name: 348, dtype: int64"
   ]
  },
  {
   "cell_type": "markdown",
   "id": "f2ce2489",
   "metadata": {},
   "source": [
    "nombre_infected      1025\n",
    "nombre_sain          2247\n",
    "nombre_exposed        581\n",
    "nombre_recovered    16147\n",
    "Name: 349, dtype: int64"
   ]
  },
  {
   "cell_type": "markdown",
   "id": "b7147430",
   "metadata": {},
   "source": [
    "nombre_infected      1039\n",
    "nombre_sain          2230\n",
    "nombre_exposed        609\n",
    "nombre_recovered    16122\n",
    "Name: 350, dtype: int64"
   ]
  },
  {
   "cell_type": "markdown",
   "id": "c72b468f",
   "metadata": {},
   "source": [
    "nombre_infected      1043\n",
    "nombre_sain          2227\n",
    "nombre_exposed        595\n",
    "nombre_recovered    16135\n",
    "Name: 351, dtype: int64"
   ]
  },
  {
   "cell_type": "markdown",
   "id": "3389a848",
   "metadata": {},
   "source": [
    "nombre_infected      1069\n",
    "nombre_sain          2214\n",
    "nombre_exposed        592\n",
    "nombre_recovered    16125\n",
    "Name: 352, dtype: int64"
   ]
  },
  {
   "cell_type": "markdown",
   "id": "e24a838c",
   "metadata": {},
   "source": [
    "nombre_infected      1069\n",
    "nombre_sain          2198\n",
    "nombre_exposed        602\n",
    "nombre_recovered    16131\n",
    "Name: 353, dtype: int64"
   ]
  },
  {
   "cell_type": "markdown",
   "id": "5e9c70da",
   "metadata": {},
   "source": [
    "nombre_infected      1088\n",
    "nombre_sain          2192\n",
    "nombre_exposed        572\n",
    "nombre_recovered    16148\n",
    "Name: 354, dtype: int64"
   ]
  },
  {
   "cell_type": "markdown",
   "id": "245c04d4",
   "metadata": {},
   "source": [
    "nombre_infected      1095\n",
    "nombre_sain          2153\n",
    "nombre_exposed        584\n",
    "nombre_recovered    16168\n",
    "Name: 355, dtype: int64"
   ]
  },
  {
   "cell_type": "markdown",
   "id": "d250c542",
   "metadata": {},
   "source": [
    "nombre_infected      1101\n",
    "nombre_sain          2123\n",
    "nombre_exposed        584\n",
    "nombre_recovered    16192\n",
    "Name: 356, dtype: int64"
   ]
  },
  {
   "cell_type": "markdown",
   "id": "fd0788fa",
   "metadata": {},
   "source": [
    "nombre_infected      1091\n",
    "nombre_sain          2136\n",
    "nombre_exposed        573\n",
    "nombre_recovered    16200\n",
    "Name: 357, dtype: int64"
   ]
  },
  {
   "cell_type": "markdown",
   "id": "50468473",
   "metadata": {},
   "source": [
    "nombre_infected      1081\n",
    "nombre_sain          2133\n",
    "nombre_exposed        569\n",
    "nombre_recovered    16217\n",
    "Name: 358, dtype: int64"
   ]
  },
  {
   "cell_type": "markdown",
   "id": "859a5121",
   "metadata": {},
   "source": [
    "nombre_infected      1102\n",
    "nombre_sain          2114\n",
    "nombre_exposed        559\n",
    "nombre_recovered    16225\n",
    "Name: 359, dtype: int64"
   ]
  },
  {
   "cell_type": "markdown",
   "id": "2f1b713a",
   "metadata": {},
   "source": [
    "nombre_infected      1103\n",
    "nombre_sain          2078\n",
    "nombre_exposed        579\n",
    "nombre_recovered    16240\n",
    "Name: 360, dtype: int64"
   ]
  },
  {
   "cell_type": "markdown",
   "id": "2473bdd9",
   "metadata": {},
   "source": [
    "nombre_infected      1098\n",
    "nombre_sain          2062\n",
    "nombre_exposed        569\n",
    "nombre_recovered    16271\n",
    "Name: 361, dtype: int64"
   ]
  },
  {
   "cell_type": "markdown",
   "id": "72356b4f",
   "metadata": {},
   "source": [
    "nombre_infected      1102\n",
    "nombre_sain          2054\n",
    "nombre_exposed        554\n",
    "nombre_recovered    16290\n",
    "Name: 362, dtype: int64"
   ]
  },
  {
   "cell_type": "markdown",
   "id": "64dd62a7",
   "metadata": {},
   "source": [
    "nombre_infected      1125\n",
    "nombre_sain          2036\n",
    "nombre_exposed        552\n",
    "nombre_recovered    16287\n",
    "Name: 363, dtype: int64"
   ]
  },
  {
   "cell_type": "markdown",
   "id": "c6632749",
   "metadata": {},
   "source": [
    "nombre_infected      1102\n",
    "nombre_sain          2041\n",
    "nombre_exposed        547\n",
    "nombre_recovered    16310\n",
    "Name: 364, dtype: int64"
   ]
  },
  {
   "cell_type": "markdown",
   "id": "4d2dcea6",
   "metadata": {},
   "source": [
    "nombre_infected      1097\n",
    "nombre_sain          2031\n",
    "nombre_exposed        545\n",
    "nombre_recovered    16327\n",
    "Name: 365, dtype: int64"
   ]
  },
  {
   "cell_type": "markdown",
   "id": "e916f75e",
   "metadata": {},
   "source": [
    "nombre_infected      1056\n",
    "nombre_sain          2034\n",
    "nombre_exposed        558\n",
    "nombre_recovered    16352\n",
    "Name: 366, dtype: int64"
   ]
  },
  {
   "cell_type": "markdown",
   "id": "6ecb8c4e",
   "metadata": {},
   "source": [
    "nombre_infected      1052\n",
    "nombre_sain          2057\n",
    "nombre_exposed        538\n",
    "nombre_recovered    16353\n",
    "Name: 367, dtype: int64"
   ]
  },
  {
   "cell_type": "markdown",
   "id": "20a885a7",
   "metadata": {},
   "source": [
    "nombre_infected      1061\n",
    "nombre_sain          2100\n",
    "nombre_exposed        498\n",
    "nombre_recovered    16341\n",
    "Name: 368, dtype: int64"
   ]
  },
  {
   "cell_type": "markdown",
   "id": "8d0361b8",
   "metadata": {},
   "source": [
    "nombre_infected      1081\n",
    "nombre_sain          2106\n",
    "nombre_exposed        482\n",
    "nombre_recovered    16331\n",
    "Name: 369, dtype: int64"
   ]
  },
  {
   "cell_type": "markdown",
   "id": "95791c4f",
   "metadata": {},
   "source": [
    "nombre_infected      1058\n",
    "nombre_sain          2122\n",
    "nombre_exposed        486\n",
    "nombre_recovered    16334\n",
    "Name: 370, dtype: int64"
   ]
  },
  {
   "cell_type": "markdown",
   "id": "424b1a17",
   "metadata": {},
   "source": [
    "nombre_infected      1015\n",
    "nombre_sain          2153\n",
    "nombre_exposed        483\n",
    "nombre_recovered    16349\n",
    "Name: 371, dtype: int64"
   ]
  },
  {
   "cell_type": "markdown",
   "id": "1bf72c17",
   "metadata": {},
   "source": [
    "nombre_infected      1006\n",
    "nombre_sain          2151\n",
    "nombre_exposed        496\n",
    "nombre_recovered    16347\n",
    "Name: 372, dtype: int64"
   ]
  },
  {
   "cell_type": "markdown",
   "id": "68a76064",
   "metadata": {},
   "source": [
    "nombre_infected       998\n",
    "nombre_sain          2152\n",
    "nombre_exposed        496\n",
    "nombre_recovered    16354\n",
    "Name: 373, dtype: int64"
   ]
  },
  {
   "cell_type": "markdown",
   "id": "604eec72",
   "metadata": {},
   "source": [
    "nombre_infected       972\n",
    "nombre_sain          2191\n",
    "nombre_exposed        488\n",
    "nombre_recovered    16349\n",
    "Name: 374, dtype: int64"
   ]
  },
  {
   "cell_type": "markdown",
   "id": "4312829a",
   "metadata": {},
   "source": [
    "nombre_infected       953\n",
    "nombre_sain          2194\n",
    "nombre_exposed        502\n",
    "nombre_recovered    16351\n",
    "Name: 375, dtype: int64"
   ]
  },
  {
   "cell_type": "markdown",
   "id": "f52118c4",
   "metadata": {},
   "source": [
    "nombre_infected       949\n",
    "nombre_sain          2223\n",
    "nombre_exposed        473\n",
    "nombre_recovered    16355\n",
    "Name: 376, dtype: int64"
   ]
  },
  {
   "cell_type": "markdown",
   "id": "3ef49705",
   "metadata": {},
   "source": [
    "nombre_infected       942\n",
    "nombre_sain          2217\n",
    "nombre_exposed        490\n",
    "nombre_recovered    16351\n",
    "Name: 377, dtype: int64"
   ]
  },
  {
   "cell_type": "markdown",
   "id": "4be47763",
   "metadata": {},
   "source": [
    "nombre_infected       968\n",
    "nombre_sain          2217\n",
    "nombre_exposed        479\n",
    "nombre_recovered    16336\n",
    "Name: 378, dtype: int64"
   ]
  },
  {
   "cell_type": "markdown",
   "id": "7bd71106",
   "metadata": {},
   "source": [
    "nombre_infected       934\n",
    "nombre_sain          2196\n",
    "nombre_exposed        507\n",
    "nombre_recovered    16363\n",
    "Name: 379, dtype: int64"
   ]
  },
  {
   "cell_type": "markdown",
   "id": "501984c0",
   "metadata": {},
   "source": [
    "nombre_infected       935\n",
    "nombre_sain          2204\n",
    "nombre_exposed        510\n",
    "nombre_recovered    16351\n",
    "Name: 380, dtype: int64"
   ]
  },
  {
   "cell_type": "markdown",
   "id": "31fa9b36",
   "metadata": {},
   "source": [
    "nombre_infected       959\n",
    "nombre_sain          2203\n",
    "nombre_exposed        497\n",
    "nombre_recovered    16341\n",
    "Name: 381, dtype: int64"
   ]
  },
  {
   "cell_type": "markdown",
   "id": "05b6f5e0",
   "metadata": {},
   "source": [
    "nombre_infected       985\n",
    "nombre_sain          2201\n",
    "nombre_exposed        491\n",
    "nombre_recovered    16323\n",
    "Name: 382, dtype: int64"
   ]
  },
  {
   "cell_type": "markdown",
   "id": "7c374f1c",
   "metadata": {},
   "source": [
    "nombre_infected       991\n",
    "nombre_sain          2200\n",
    "nombre_exposed        489\n",
    "nombre_recovered    16320\n",
    "Name: 383, dtype: int64"
   ]
  },
  {
   "cell_type": "markdown",
   "id": "04742528",
   "metadata": {},
   "source": [
    "nombre_infected       985\n",
    "nombre_sain          2186\n",
    "nombre_exposed        502\n",
    "nombre_recovered    16327\n",
    "Name: 384, dtype: int64"
   ]
  },
  {
   "cell_type": "markdown",
   "id": "262efc31",
   "metadata": {},
   "source": [
    "nombre_infected       994\n",
    "nombre_sain          2162\n",
    "nombre_exposed        508\n",
    "nombre_recovered    16336\n",
    "Name: 385, dtype: int64"
   ]
  },
  {
   "cell_type": "markdown",
   "id": "ea2b7722",
   "metadata": {},
   "source": [
    "nombre_infected       994\n",
    "nombre_sain          2167\n",
    "nombre_exposed        498\n",
    "nombre_recovered    16341\n",
    "Name: 386, dtype: int64"
   ]
  },
  {
   "cell_type": "markdown",
   "id": "79586ad3",
   "metadata": {},
   "source": [
    "nombre_infected       986\n",
    "nombre_sain          2157\n",
    "nombre_exposed        483\n",
    "nombre_recovered    16374\n",
    "Name: 387, dtype: int64"
   ]
  },
  {
   "cell_type": "markdown",
   "id": "b9f0030b",
   "metadata": {},
   "source": [
    "nombre_infected       990\n",
    "nombre_sain          2115\n",
    "nombre_exposed        494\n",
    "nombre_recovered    16401\n",
    "Name: 388, dtype: int64"
   ]
  },
  {
   "cell_type": "markdown",
   "id": "6260e60d",
   "metadata": {},
   "source": [
    "nombre_infected       998\n",
    "nombre_sain          2087\n",
    "nombre_exposed        496\n",
    "nombre_recovered    16419\n",
    "Name: 389, dtype: int64"
   ]
  },
  {
   "cell_type": "markdown",
   "id": "f22d303b",
   "metadata": {},
   "source": [
    "nombre_infected       975\n",
    "nombre_sain          2093\n",
    "nombre_exposed        477\n",
    "nombre_recovered    16455\n",
    "Name: 390, dtype: int64"
   ]
  },
  {
   "cell_type": "markdown",
   "id": "ad60b80b",
   "metadata": {},
   "source": [
    "nombre_infected       976\n",
    "nombre_sain          2084\n",
    "nombre_exposed        480\n",
    "nombre_recovered    16460\n",
    "Name: 391, dtype: int64"
   ]
  },
  {
   "cell_type": "markdown",
   "id": "6fbbcf8f",
   "metadata": {},
   "source": [
    "nombre_infected       984\n",
    "nombre_sain          2073\n",
    "nombre_exposed        482\n",
    "nombre_recovered    16461\n",
    "Name: 392, dtype: int64"
   ]
  },
  {
   "cell_type": "markdown",
   "id": "2e64f996",
   "metadata": {},
   "source": [
    "nombre_infected       976\n",
    "nombre_sain          2050\n",
    "nombre_exposed        497\n",
    "nombre_recovered    16477\n",
    "Name: 393, dtype: int64"
   ]
  },
  {
   "cell_type": "markdown",
   "id": "3b8200d5",
   "metadata": {},
   "source": [
    "nombre_infected       960\n",
    "nombre_sain          2052\n",
    "nombre_exposed        488\n",
    "nombre_recovered    16500\n",
    "Name: 394, dtype: int64"
   ]
  },
  {
   "cell_type": "markdown",
   "id": "45114097",
   "metadata": {},
   "source": [
    "nombre_infected       964\n",
    "nombre_sain          2041\n",
    "nombre_exposed        467\n",
    "nombre_recovered    16528\n",
    "Name: 395, dtype: int64"
   ]
  },
  {
   "cell_type": "markdown",
   "id": "6d14f3e7",
   "metadata": {},
   "source": [
    "nombre_infected       931\n",
    "nombre_sain          2043\n",
    "nombre_exposed        458\n",
    "nombre_recovered    16568\n",
    "Name: 396, dtype: int64"
   ]
  },
  {
   "cell_type": "markdown",
   "id": "cbe2e04b",
   "metadata": {},
   "source": [
    "nombre_infected       919\n",
    "nombre_sain          2056\n",
    "nombre_exposed        447\n",
    "nombre_recovered    16578\n",
    "Name: 397, dtype: int64"
   ]
  },
  {
   "cell_type": "markdown",
   "id": "1a46f4ee",
   "metadata": {},
   "source": [
    "nombre_infected       913\n",
    "nombre_sain          2051\n",
    "nombre_exposed        449\n",
    "nombre_recovered    16587\n",
    "Name: 398, dtype: int64"
   ]
  },
  {
   "cell_type": "markdown",
   "id": "668fe408",
   "metadata": {},
   "source": [
    "nombre_infected       896\n",
    "nombre_sain          2070\n",
    "nombre_exposed        444\n",
    "nombre_recovered    16590\n",
    "Name: 399, dtype: int64"
   ]
  },
  {
   "cell_type": "markdown",
   "id": "49d9e533",
   "metadata": {},
   "source": [
    "nombre_infected       911\n",
    "nombre_sain          2083\n",
    "nombre_exposed        419\n",
    "nombre_recovered    16587\n",
    "Name: 400, dtype: int64"
   ]
  },
  {
   "cell_type": "markdown",
   "id": "9ba9975b",
   "metadata": {},
   "source": [
    "nombre_infected       902\n",
    "nombre_sain          2111\n",
    "nombre_exposed        419\n",
    "nombre_recovered    16568\n",
    "Name: 401, dtype: int64"
   ]
  },
  {
   "cell_type": "markdown",
   "id": "d0efd136",
   "metadata": {},
   "source": [
    "nombre_infected       884\n",
    "nombre_sain          2134\n",
    "nombre_exposed        421\n",
    "nombre_recovered    16561\n",
    "Name: 402, dtype: int64"
   ]
  },
  {
   "cell_type": "markdown",
   "id": "3eb4911c",
   "metadata": {},
   "source": [
    "nombre_infected       865\n",
    "nombre_sain          2137\n",
    "nombre_exposed        442\n",
    "nombre_recovered    16556\n",
    "Name: 403, dtype: int64"
   ]
  },
  {
   "cell_type": "markdown",
   "id": "7e9de0e1",
   "metadata": {},
   "source": [
    "nombre_infected       868\n",
    "nombre_sain          2143\n",
    "nombre_exposed        440\n",
    "nombre_recovered    16549\n",
    "Name: 404, dtype: int64"
   ]
  },
  {
   "cell_type": "markdown",
   "id": "5f5ff392",
   "metadata": {},
   "source": [
    "nombre_infected       850\n",
    "nombre_sain          2167\n",
    "nombre_exposed        455\n",
    "nombre_recovered    16528\n",
    "Name: 405, dtype: int64"
   ]
  },
  {
   "cell_type": "markdown",
   "id": "8a449c31",
   "metadata": {},
   "source": [
    "nombre_infected       854\n",
    "nombre_sain          2197\n",
    "nombre_exposed        432\n",
    "nombre_recovered    16517\n",
    "Name: 406, dtype: int64"
   ]
  },
  {
   "cell_type": "markdown",
   "id": "7bd07f94",
   "metadata": {},
   "source": [
    "nombre_infected       877\n",
    "nombre_sain          2210\n",
    "nombre_exposed        416\n",
    "nombre_recovered    16497\n",
    "Name: 407, dtype: int64"
   ]
  },
  {
   "cell_type": "markdown",
   "id": "c9d0aada",
   "metadata": {},
   "source": [
    "nombre_infected       880\n",
    "nombre_sain          2237\n",
    "nombre_exposed        395\n",
    "nombre_recovered    16488\n",
    "Name: 408, dtype: int64"
   ]
  },
  {
   "cell_type": "markdown",
   "id": "91c47435",
   "metadata": {},
   "source": [
    "nombre_infected       875\n",
    "nombre_sain          2287\n",
    "nombre_exposed        383\n",
    "nombre_recovered    16455\n",
    "Name: 409, dtype: int64"
   ]
  },
  {
   "cell_type": "markdown",
   "id": "aa2f21e4",
   "metadata": {},
   "source": [
    "nombre_infected       861\n",
    "nombre_sain          2329\n",
    "nombre_exposed        383\n",
    "nombre_recovered    16427\n",
    "Name: 410, dtype: int64"
   ]
  },
  {
   "cell_type": "markdown",
   "id": "9e2fc3f9",
   "metadata": {},
   "source": [
    "nombre_infected       840\n",
    "nombre_sain          2354\n",
    "nombre_exposed        412\n",
    "nombre_recovered    16394\n",
    "Name: 411, dtype: int64"
   ]
  },
  {
   "cell_type": "markdown",
   "id": "64ffea2d",
   "metadata": {},
   "source": [
    "nombre_infected       840\n",
    "nombre_sain          2369\n",
    "nombre_exposed        417\n",
    "nombre_recovered    16374\n",
    "Name: 412, dtype: int64"
   ]
  },
  {
   "cell_type": "markdown",
   "id": "c5ae3a77",
   "metadata": {},
   "source": [
    "nombre_infected       836\n",
    "nombre_sain          2374\n",
    "nombre_exposed        425\n",
    "nombre_recovered    16365\n",
    "Name: 413, dtype: int64"
   ]
  },
  {
   "cell_type": "markdown",
   "id": "6eba5991",
   "metadata": {},
   "source": [
    "nombre_infected       841\n",
    "nombre_sain          2403\n",
    "nombre_exposed        422\n",
    "nombre_recovered    16334\n",
    "Name: 414, dtype: int64"
   ]
  },
  {
   "cell_type": "markdown",
   "id": "f6780068",
   "metadata": {},
   "source": [
    "nombre_infected       833\n",
    "nombre_sain          2405\n",
    "nombre_exposed        446\n",
    "nombre_recovered    16316\n",
    "Name: 415, dtype: int64"
   ]
  },
  {
   "cell_type": "markdown",
   "id": "28290532",
   "metadata": {},
   "source": [
    "nombre_infected       834\n",
    "nombre_sain          2430\n",
    "nombre_exposed        459\n",
    "nombre_recovered    16277\n",
    "Name: 416, dtype: int64"
   ]
  },
  {
   "cell_type": "markdown",
   "id": "8eede929",
   "metadata": {},
   "source": [
    "nombre_infected       851\n",
    "nombre_sain          2461\n",
    "nombre_exposed        438\n",
    "nombre_recovered    16250\n",
    "Name: 417, dtype: int64"
   ]
  },
  {
   "cell_type": "markdown",
   "id": "0253616c",
   "metadata": {},
   "source": [
    "nombre_infected       861\n",
    "nombre_sain          2448\n",
    "nombre_exposed        439\n",
    "nombre_recovered    16252\n",
    "Name: 418, dtype: int64"
   ]
  },
  {
   "cell_type": "markdown",
   "id": "d0fd5fc5",
   "metadata": {},
   "source": [
    "nombre_infected       847\n",
    "nombre_sain          2463\n",
    "nombre_exposed        445\n",
    "nombre_recovered    16245\n",
    "Name: 419, dtype: int64"
   ]
  },
  {
   "cell_type": "markdown",
   "id": "011f099c",
   "metadata": {},
   "source": [
    "nombre_infected       825\n",
    "nombre_sain          2443\n",
    "nombre_exposed        454\n",
    "nombre_recovered    16278\n",
    "Name: 420, dtype: int64"
   ]
  },
  {
   "cell_type": "markdown",
   "id": "960cd676",
   "metadata": {},
   "source": [
    "nombre_infected       849\n",
    "nombre_sain          2440\n",
    "nombre_exposed        442\n",
    "nombre_recovered    16269\n",
    "Name: 421, dtype: int64"
   ]
  },
  {
   "cell_type": "markdown",
   "id": "cd141746",
   "metadata": {},
   "source": [
    "nombre_infected       861\n",
    "nombre_sain          2425\n",
    "nombre_exposed        454\n",
    "nombre_recovered    16260\n",
    "Name: 422, dtype: int64"
   ]
  },
  {
   "cell_type": "markdown",
   "id": "398b513f",
   "metadata": {},
   "source": [
    "nombre_infected       855\n",
    "nombre_sain          2450\n",
    "nombre_exposed        446\n",
    "nombre_recovered    16249\n",
    "Name: 423, dtype: int64"
   ]
  },
  {
   "cell_type": "markdown",
   "id": "f01c178c",
   "metadata": {},
   "source": [
    "nombre_infected       870\n",
    "nombre_sain          2411\n",
    "nombre_exposed        461\n",
    "nombre_recovered    16258\n",
    "Name: 424, dtype: int64"
   ]
  },
  {
   "cell_type": "markdown",
   "id": "fce07cea",
   "metadata": {},
   "source": [
    "nombre_infected       882\n",
    "nombre_sain          2430\n",
    "nombre_exposed        450\n",
    "nombre_recovered    16238\n",
    "Name: 425, dtype: int64"
   ]
  },
  {
   "cell_type": "markdown",
   "id": "35a1a7d0",
   "metadata": {},
   "source": [
    "nombre_infected       909\n",
    "nombre_sain          2417\n",
    "nombre_exposed        452\n",
    "nombre_recovered    16222\n",
    "Name: 426, dtype: int64"
   ]
  },
  {
   "cell_type": "markdown",
   "id": "19151547",
   "metadata": {},
   "source": [
    "nombre_infected       911\n",
    "nombre_sain          2407\n",
    "nombre_exposed        449\n",
    "nombre_recovered    16233\n",
    "Name: 427, dtype: int64"
   ]
  },
  {
   "cell_type": "markdown",
   "id": "4c6b197b",
   "metadata": {},
   "source": [
    "nombre_infected       923\n",
    "nombre_sain          2402\n",
    "nombre_exposed        440\n",
    "nombre_recovered    16235\n",
    "Name: 428, dtype: int64"
   ]
  },
  {
   "cell_type": "markdown",
   "id": "af906b5c",
   "metadata": {},
   "source": [
    "nombre_infected       913\n",
    "nombre_sain          2377\n",
    "nombre_exposed        462\n",
    "nombre_recovered    16248\n",
    "Name: 429, dtype: int64"
   ]
  },
  {
   "cell_type": "markdown",
   "id": "5af79d89",
   "metadata": {},
   "source": [
    "nombre_infected       895\n",
    "nombre_sain          2388\n",
    "nombre_exposed        466\n",
    "nombre_recovered    16251\n",
    "Name: 430, dtype: int64"
   ]
  },
  {
   "cell_type": "markdown",
   "id": "e83b5a8a",
   "metadata": {},
   "source": [
    "nombre_infected       904\n",
    "nombre_sain          2396\n",
    "nombre_exposed        459\n",
    "nombre_recovered    16241\n",
    "Name: 431, dtype: int64"
   ]
  },
  {
   "cell_type": "markdown",
   "id": "f3116fc0",
   "metadata": {},
   "source": [
    "nombre_infected       898\n",
    "nombre_sain          2404\n",
    "nombre_exposed        464\n",
    "nombre_recovered    16234\n",
    "Name: 432, dtype: int64"
   ]
  },
  {
   "cell_type": "markdown",
   "id": "65397ad3",
   "metadata": {},
   "source": [
    "nombre_infected       900\n",
    "nombre_sain          2398\n",
    "nombre_exposed        479\n",
    "nombre_recovered    16223\n",
    "Name: 433, dtype: int64"
   ]
  },
  {
   "cell_type": "markdown",
   "id": "137d5769",
   "metadata": {},
   "source": [
    "nombre_infected       913\n",
    "nombre_sain          2415\n",
    "nombre_exposed        472\n",
    "nombre_recovered    16200\n",
    "Name: 434, dtype: int64"
   ]
  },
  {
   "cell_type": "markdown",
   "id": "dbddfdeb",
   "metadata": {},
   "source": [
    "nombre_infected       917\n",
    "nombre_sain          2396\n",
    "nombre_exposed        496\n",
    "nombre_recovered    16191\n",
    "Name: 435, dtype: int64"
   ]
  },
  {
   "cell_type": "markdown",
   "id": "867cc84d",
   "metadata": {},
   "source": [
    "nombre_infected       927\n",
    "nombre_sain          2390\n",
    "nombre_exposed        498\n",
    "nombre_recovered    16185\n",
    "Name: 436, dtype: int64"
   ]
  },
  {
   "cell_type": "markdown",
   "id": "890654ce",
   "metadata": {},
   "source": [
    "nombre_infected       935\n",
    "nombre_sain          2365\n",
    "nombre_exposed        501\n",
    "nombre_recovered    16199\n",
    "Name: 437, dtype: int64"
   ]
  },
  {
   "cell_type": "markdown",
   "id": "2d1b9bd7",
   "metadata": {},
   "source": [
    "nombre_infected       927\n",
    "nombre_sain          2365\n",
    "nombre_exposed        513\n",
    "nombre_recovered    16195\n",
    "Name: 438, dtype: int64"
   ]
  },
  {
   "cell_type": "markdown",
   "id": "51a81fb6",
   "metadata": {},
   "source": [
    "nombre_infected       957\n",
    "nombre_sain          2347\n",
    "nombre_exposed        510\n",
    "nombre_recovered    16186\n",
    "Name: 439, dtype: int64"
   ]
  },
  {
   "cell_type": "markdown",
   "id": "9c5a9b88",
   "metadata": {},
   "source": [
    "nombre_infected       975\n",
    "nombre_sain          2332\n",
    "nombre_exposed        495\n",
    "nombre_recovered    16198\n",
    "Name: 440, dtype: int64"
   ]
  },
  {
   "cell_type": "markdown",
   "id": "9aaf75a0",
   "metadata": {},
   "source": [
    "nombre_infected       985\n",
    "nombre_sain          2318\n",
    "nombre_exposed        504\n",
    "nombre_recovered    16193\n",
    "Name: 441, dtype: int64"
   ]
  },
  {
   "cell_type": "markdown",
   "id": "812f9110",
   "metadata": {},
   "source": [
    "nombre_infected       951\n",
    "nombre_sain          2328\n",
    "nombre_exposed        505\n",
    "nombre_recovered    16216\n",
    "Name: 442, dtype: int64"
   ]
  },
  {
   "cell_type": "markdown",
   "id": "d16c065a",
   "metadata": {},
   "source": [
    "nombre_infected       966\n",
    "nombre_sain          2296\n",
    "nombre_exposed        506\n",
    "nombre_recovered    16232\n",
    "Name: 443, dtype: int64"
   ]
  },
  {
   "cell_type": "markdown",
   "id": "754d5343",
   "metadata": {},
   "source": [
    "nombre_infected       938\n",
    "nombre_sain          2296\n",
    "nombre_exposed        524\n",
    "nombre_recovered    16242\n",
    "Name: 444, dtype: int64"
   ]
  },
  {
   "cell_type": "markdown",
   "id": "b7cdaafd",
   "metadata": {},
   "source": [
    "nombre_infected       914\n",
    "nombre_sain          2292\n",
    "nombre_exposed        532\n",
    "nombre_recovered    16262\n",
    "Name: 445, dtype: int64"
   ]
  },
  {
   "cell_type": "markdown",
   "id": "5eff38cb",
   "metadata": {},
   "source": [
    "nombre_infected       910\n",
    "nombre_sain          2290\n",
    "nombre_exposed        514\n",
    "nombre_recovered    16286\n",
    "Name: 446, dtype: int64"
   ]
  },
  {
   "cell_type": "markdown",
   "id": "fe1e7b62",
   "metadata": {},
   "source": [
    "nombre_infected       922\n",
    "nombre_sain          2319\n",
    "nombre_exposed        499\n",
    "nombre_recovered    16260\n",
    "Name: 447, dtype: int64"
   ]
  },
  {
   "cell_type": "markdown",
   "id": "b0f2b7f9",
   "metadata": {},
   "source": [
    "nombre_infected       918\n",
    "nombre_sain          2324\n",
    "nombre_exposed        515\n",
    "nombre_recovered    16243\n",
    "Name: 448, dtype: int64"
   ]
  },
  {
   "cell_type": "markdown",
   "id": "b76b4891",
   "metadata": {},
   "source": [
    "nombre_infected       906\n",
    "nombre_sain          2340\n",
    "nombre_exposed        530\n",
    "nombre_recovered    16224\n",
    "Name: 449, dtype: int64"
   ]
  },
  {
   "cell_type": "markdown",
   "id": "1ae1f664",
   "metadata": {},
   "source": [
    "nombre_infected       918\n",
    "nombre_sain          2377\n",
    "nombre_exposed        487\n",
    "nombre_recovered    16218\n",
    "Name: 450, dtype: int64"
   ]
  },
  {
   "cell_type": "markdown",
   "id": "80c3a68e",
   "metadata": {},
   "source": [
    "nombre_infected       923\n",
    "nombre_sain          2357\n",
    "nombre_exposed        513\n",
    "nombre_recovered    16207\n",
    "Name: 451, dtype: int64"
   ]
  },
  {
   "cell_type": "markdown",
   "id": "b329e285",
   "metadata": {},
   "source": [
    "nombre_infected       921\n",
    "nombre_sain          2338\n",
    "nombre_exposed        529\n",
    "nombre_recovered    16212\n",
    "Name: 452, dtype: int64"
   ]
  },
  {
   "cell_type": "markdown",
   "id": "0e2e5657",
   "metadata": {},
   "source": [
    "nombre_infected       923\n",
    "nombre_sain          2329\n",
    "nombre_exposed        542\n",
    "nombre_recovered    16206\n",
    "Name: 453, dtype: int64"
   ]
  },
  {
   "cell_type": "markdown",
   "id": "a6a1306b",
   "metadata": {},
   "source": [
    "nombre_infected       937\n",
    "nombre_sain          2326\n",
    "nombre_exposed        548\n",
    "nombre_recovered    16189\n",
    "Name: 454, dtype: int64"
   ]
  },
  {
   "cell_type": "markdown",
   "id": "c5db1a23",
   "metadata": {},
   "source": [
    "nombre_infected       953\n",
    "nombre_sain          2306\n",
    "nombre_exposed        545\n",
    "nombre_recovered    16196\n",
    "Name: 455, dtype: int64"
   ]
  },
  {
   "cell_type": "markdown",
   "id": "03b72c03",
   "metadata": {},
   "source": [
    "nombre_infected       951\n",
    "nombre_sain          2269\n",
    "nombre_exposed        556\n",
    "nombre_recovered    16224\n",
    "Name: 456, dtype: int64"
   ]
  },
  {
   "cell_type": "markdown",
   "id": "781608d4",
   "metadata": {},
   "source": [
    "nombre_infected       968\n",
    "nombre_sain          2264\n",
    "nombre_exposed        520\n",
    "nombre_recovered    16248\n",
    "Name: 457, dtype: int64"
   ]
  },
  {
   "cell_type": "markdown",
   "id": "95482bb9",
   "metadata": {},
   "source": [
    "nombre_infected       989\n",
    "nombre_sain          2227\n",
    "nombre_exposed        522\n",
    "nombre_recovered    16262\n",
    "Name: 458, dtype: int64"
   ]
  },
  {
   "cell_type": "markdown",
   "id": "b8c6d6a5",
   "metadata": {},
   "source": [
    "nombre_infected       995\n",
    "nombre_sain          2229\n",
    "nombre_exposed        517\n",
    "nombre_recovered    16259\n",
    "Name: 459, dtype: int64"
   ]
  },
  {
   "cell_type": "markdown",
   "id": "98ee9d48",
   "metadata": {},
   "source": [
    "nombre_infected      1004\n",
    "nombre_sain          2219\n",
    "nombre_exposed        503\n",
    "nombre_recovered    16274\n",
    "Name: 460, dtype: int64"
   ]
  },
  {
   "cell_type": "markdown",
   "id": "c327220e",
   "metadata": {},
   "source": [
    "nombre_infected      1006\n",
    "nombre_sain          2189\n",
    "nombre_exposed        539\n",
    "nombre_recovered    16266\n",
    "Name: 461, dtype: int64"
   ]
  },
  {
   "cell_type": "markdown",
   "id": "0240acdb",
   "metadata": {},
   "source": [
    "nombre_infected       983\n",
    "nombre_sain          2206\n",
    "nombre_exposed        520\n",
    "nombre_recovered    16291\n",
    "Name: 462, dtype: int64"
   ]
  },
  {
   "cell_type": "markdown",
   "id": "14515b9f",
   "metadata": {},
   "source": [
    "nombre_infected       985\n",
    "nombre_sain          2233\n",
    "nombre_exposed        497\n",
    "nombre_recovered    16285\n",
    "Name: 463, dtype: int64"
   ]
  },
  {
   "cell_type": "markdown",
   "id": "40b75dd9",
   "metadata": {},
   "source": [
    "nombre_infected       975\n",
    "nombre_sain          2259\n",
    "nombre_exposed        509\n",
    "nombre_recovered    16257\n",
    "Name: 464, dtype: int64"
   ]
  },
  {
   "cell_type": "markdown",
   "id": "29b48505",
   "metadata": {},
   "source": [
    "nombre_infected       958\n",
    "nombre_sain          2238\n",
    "nombre_exposed        522\n",
    "nombre_recovered    16282\n",
    "Name: 465, dtype: int64"
   ]
  },
  {
   "cell_type": "markdown",
   "id": "06e04cf9",
   "metadata": {},
   "source": [
    "nombre_infected       956\n",
    "nombre_sain          2240\n",
    "nombre_exposed        510\n",
    "nombre_recovered    16294\n",
    "Name: 466, dtype: int64"
   ]
  },
  {
   "cell_type": "markdown",
   "id": "9e476e36",
   "metadata": {},
   "source": [
    "nombre_infected       933\n",
    "nombre_sain          2247\n",
    "nombre_exposed        509\n",
    "nombre_recovered    16311\n",
    "Name: 467, dtype: int64"
   ]
  },
  {
   "cell_type": "markdown",
   "id": "84da55b5",
   "metadata": {},
   "source": [
    "nombre_infected       936\n",
    "nombre_sain          2259\n",
    "nombre_exposed        492\n",
    "nombre_recovered    16313\n",
    "Name: 468, dtype: int64"
   ]
  },
  {
   "cell_type": "markdown",
   "id": "66d897d7",
   "metadata": {},
   "source": [
    "nombre_infected       940\n",
    "nombre_sain          2262\n",
    "nombre_exposed        482\n",
    "nombre_recovered    16316\n",
    "Name: 469, dtype: int64"
   ]
  },
  {
   "cell_type": "markdown",
   "id": "6c503a83",
   "metadata": {},
   "source": [
    "nombre_infected       942\n",
    "nombre_sain          2225\n",
    "nombre_exposed        489\n",
    "nombre_recovered    16344\n",
    "Name: 470, dtype: int64"
   ]
  },
  {
   "cell_type": "markdown",
   "id": "e692f4ad",
   "metadata": {},
   "source": [
    "nombre_infected       925\n",
    "nombre_sain          2227\n",
    "nombre_exposed        489\n",
    "nombre_recovered    16359\n",
    "Name: 471, dtype: int64"
   ]
  },
  {
   "cell_type": "markdown",
   "id": "fd9d5207",
   "metadata": {},
   "source": [
    "nombre_infected       908\n",
    "nombre_sain          2210\n",
    "nombre_exposed        507\n",
    "nombre_recovered    16375\n",
    "Name: 472, dtype: int64"
   ]
  },
  {
   "cell_type": "markdown",
   "id": "80d2ce41",
   "metadata": {},
   "source": [
    "nombre_infected       881\n",
    "nombre_sain          2205\n",
    "nombre_exposed        511\n",
    "nombre_recovered    16403\n",
    "Name: 473, dtype: int64"
   ]
  },
  {
   "cell_type": "markdown",
   "id": "024c53a9",
   "metadata": {},
   "source": [
    "nombre_infected       879\n",
    "nombre_sain          2224\n",
    "nombre_exposed        488\n",
    "nombre_recovered    16409\n",
    "Name: 474, dtype: int64"
   ]
  },
  {
   "cell_type": "markdown",
   "id": "310db5e4",
   "metadata": {},
   "source": [
    "nombre_infected       887\n",
    "nombre_sain          2214\n",
    "nombre_exposed        476\n",
    "nombre_recovered    16423\n",
    "Name: 475, dtype: int64"
   ]
  },
  {
   "cell_type": "markdown",
   "id": "8791bebf",
   "metadata": {},
   "source": [
    "nombre_infected       856\n",
    "nombre_sain          2197\n",
    "nombre_exposed        482\n",
    "nombre_recovered    16465\n",
    "Name: 476, dtype: int64"
   ]
  },
  {
   "cell_type": "markdown",
   "id": "cacc136c",
   "metadata": {},
   "source": [
    "nombre_infected       855\n",
    "nombre_sain          2181\n",
    "nombre_exposed        493\n",
    "nombre_recovered    16471\n",
    "Name: 477, dtype: int64"
   ]
  },
  {
   "cell_type": "markdown",
   "id": "fd746574",
   "metadata": {},
   "source": [
    "nombre_infected       861\n",
    "nombre_sain          2198\n",
    "nombre_exposed        467\n",
    "nombre_recovered    16474\n",
    "Name: 478, dtype: int64"
   ]
  },
  {
   "cell_type": "markdown",
   "id": "53914ab1",
   "metadata": {},
   "source": [
    "nombre_infected       866\n",
    "nombre_sain          2215\n",
    "nombre_exposed        445\n",
    "nombre_recovered    16474\n",
    "Name: 479, dtype: int64"
   ]
  },
  {
   "cell_type": "markdown",
   "id": "e5a741e6",
   "metadata": {},
   "source": [
    "nombre_infected       859\n",
    "nombre_sain          2220\n",
    "nombre_exposed        464\n",
    "nombre_recovered    16457\n",
    "Name: 480, dtype: int64"
   ]
  },
  {
   "cell_type": "markdown",
   "id": "2be752ad",
   "metadata": {},
   "source": [
    "nombre_infected       852\n",
    "nombre_sain          2217\n",
    "nombre_exposed        458\n",
    "nombre_recovered    16473\n",
    "Name: 481, dtype: int64"
   ]
  },
  {
   "cell_type": "markdown",
   "id": "a62988f5",
   "metadata": {},
   "source": [
    "nombre_infected       844\n",
    "nombre_sain          2222\n",
    "nombre_exposed        438\n",
    "nombre_recovered    16496\n",
    "Name: 482, dtype: int64"
   ]
  },
  {
   "cell_type": "markdown",
   "id": "4f446e78",
   "metadata": {},
   "source": [
    "nombre_infected       817\n",
    "nombre_sain          2212\n",
    "nombre_exposed        449\n",
    "nombre_recovered    16522\n",
    "Name: 483, dtype: int64"
   ]
  },
  {
   "cell_type": "markdown",
   "id": "ec64bb4f",
   "metadata": {},
   "source": [
    "nombre_infected       819\n",
    "nombre_sain          2220\n",
    "nombre_exposed        438\n",
    "nombre_recovered    16523\n",
    "Name: 484, dtype: int64"
   ]
  },
  {
   "cell_type": "markdown",
   "id": "c9e1eeac",
   "metadata": {},
   "source": [
    "nombre_infected       815\n",
    "nombre_sain          2253\n",
    "nombre_exposed        421\n",
    "nombre_recovered    16511\n",
    "Name: 485, dtype: int64"
   ]
  },
  {
   "cell_type": "markdown",
   "id": "9d23580c",
   "metadata": {},
   "source": [
    "nombre_infected       808\n",
    "nombre_sain          2244\n",
    "nombre_exposed        419\n",
    "nombre_recovered    16529\n",
    "Name: 486, dtype: int64"
   ]
  },
  {
   "cell_type": "markdown",
   "id": "dae950fb",
   "metadata": {},
   "source": [
    "nombre_infected       783\n",
    "nombre_sain          2231\n",
    "nombre_exposed        420\n",
    "nombre_recovered    16566\n",
    "Name: 487, dtype: int64"
   ]
  },
  {
   "cell_type": "markdown",
   "id": "a0210850",
   "metadata": {},
   "source": [
    "nombre_infected       771\n",
    "nombre_sain          2261\n",
    "nombre_exposed        409\n",
    "nombre_recovered    16559\n",
    "Name: 488, dtype: int64"
   ]
  },
  {
   "cell_type": "markdown",
   "id": "f748085a",
   "metadata": {},
   "source": [
    "nombre_infected       746\n",
    "nombre_sain          2260\n",
    "nombre_exposed        420\n",
    "nombre_recovered    16574\n",
    "Name: 489, dtype: int64"
   ]
  },
  {
   "cell_type": "markdown",
   "id": "dfb91148",
   "metadata": {},
   "source": [
    "nombre_infected       751\n",
    "nombre_sain          2293\n",
    "nombre_exposed        392\n",
    "nombre_recovered    16564\n",
    "Name: 490, dtype: int64"
   ]
  },
  {
   "cell_type": "markdown",
   "id": "c92cfb2a",
   "metadata": {},
   "source": [
    "nombre_infected       767\n",
    "nombre_sain          2292\n",
    "nombre_exposed        396\n",
    "nombre_recovered    16545\n",
    "Name: 491, dtype: int64"
   ]
  },
  {
   "cell_type": "markdown",
   "id": "af0827a3",
   "metadata": {},
   "source": [
    "nombre_infected       742\n",
    "nombre_sain          2299\n",
    "nombre_exposed        400\n",
    "nombre_recovered    16559\n",
    "Name: 492, dtype: int64"
   ]
  },
  {
   "cell_type": "markdown",
   "id": "57618976",
   "metadata": {},
   "source": [
    "nombre_infected       746\n",
    "nombre_sain          2301\n",
    "nombre_exposed        400\n",
    "nombre_recovered    16553\n",
    "Name: 493, dtype: int64"
   ]
  },
  {
   "cell_type": "markdown",
   "id": "fcdedd55",
   "metadata": {},
   "source": [
    "nombre_infected       734\n",
    "nombre_sain          2320\n",
    "nombre_exposed        392\n",
    "nombre_recovered    16554\n",
    "Name: 494, dtype: int64"
   ]
  },
  {
   "cell_type": "markdown",
   "id": "2c56db97",
   "metadata": {},
   "source": [
    "nombre_infected       734\n",
    "nombre_sain          2317\n",
    "nombre_exposed        397\n",
    "nombre_recovered    16552\n",
    "Name: 495, dtype: int64"
   ]
  },
  {
   "cell_type": "markdown",
   "id": "e398da09",
   "metadata": {},
   "source": [
    "nombre_infected       740\n",
    "nombre_sain          2343\n",
    "nombre_exposed        388\n",
    "nombre_recovered    16529\n",
    "Name: 496, dtype: int64"
   ]
  },
  {
   "cell_type": "markdown",
   "id": "ba38a3b3",
   "metadata": {},
   "source": [
    "nombre_infected       737\n",
    "nombre_sain          2333\n",
    "nombre_exposed        391\n",
    "nombre_recovered    16539\n",
    "Name: 497, dtype: int64"
   ]
  },
  {
   "cell_type": "markdown",
   "id": "7ec0ed78",
   "metadata": {},
   "source": [
    "nombre_infected       720\n",
    "nombre_sain          2354\n",
    "nombre_exposed        391\n",
    "nombre_recovered    16535\n",
    "Name: 498, dtype: int64"
   ]
  },
  {
   "cell_type": "markdown",
   "id": "ff9c18e1",
   "metadata": {},
   "source": [
    "nombre_infected       727\n",
    "nombre_sain          2378\n",
    "nombre_exposed        370\n",
    "nombre_recovered    16525\n",
    "Name: 499, dtype: int64"
   ]
  },
  {
   "cell_type": "markdown",
   "id": "3100c0f9",
   "metadata": {},
   "source": [
    "nombre_infected       731\n",
    "nombre_sain          2377\n",
    "nombre_exposed        384\n",
    "nombre_recovered    16508\n",
    "Name: 500, dtype: int64"
   ]
  },
  {
   "cell_type": "markdown",
   "id": "7a5ba2c6",
   "metadata": {},
   "source": [
    "nombre_infected       741\n",
    "nombre_sain          2387\n",
    "nombre_exposed        379\n",
    "nombre_recovered    16493\n",
    "Name: 501, dtype: int64"
   ]
  },
  {
   "cell_type": "markdown",
   "id": "f9b219af",
   "metadata": {},
   "source": [
    "nombre_infected       711\n",
    "nombre_sain          2387\n",
    "nombre_exposed        414\n",
    "nombre_recovered    16488\n",
    "Name: 502, dtype: int64"
   ]
  },
  {
   "cell_type": "markdown",
   "id": "0b554fe1",
   "metadata": {},
   "source": [
    "nombre_infected       714\n",
    "nombre_sain          2415\n",
    "nombre_exposed        411\n",
    "nombre_recovered    16460\n",
    "Name: 503, dtype: int64"
   ]
  },
  {
   "cell_type": "markdown",
   "id": "b21d3bac",
   "metadata": {},
   "source": [
    "nombre_infected       687\n",
    "nombre_sain          2441\n",
    "nombre_exposed        402\n",
    "nombre_recovered    16470\n",
    "Name: 504, dtype: int64"
   ]
  },
  {
   "cell_type": "markdown",
   "id": "551f9aea",
   "metadata": {},
   "source": [
    "nombre_infected       724\n",
    "nombre_sain          2456\n",
    "nombre_exposed        388\n",
    "nombre_recovered    16432\n",
    "Name: 505, dtype: int64"
   ]
  },
  {
   "cell_type": "markdown",
   "id": "4a164f62",
   "metadata": {},
   "source": [
    "nombre_infected       724\n",
    "nombre_sain          2480\n",
    "nombre_exposed        391\n",
    "nombre_recovered    16405\n",
    "Name: 506, dtype: int64"
   ]
  },
  {
   "cell_type": "markdown",
   "id": "a7997f51",
   "metadata": {},
   "source": [
    "nombre_infected       698\n",
    "nombre_sain          2515\n",
    "nombre_exposed        397\n",
    "nombre_recovered    16390\n",
    "Name: 507, dtype: int64"
   ]
  },
  {
   "cell_type": "markdown",
   "id": "ab41e6af",
   "metadata": {},
   "source": [
    "nombre_infected       713\n",
    "nombre_sain          2534\n",
    "nombre_exposed        410\n",
    "nombre_recovered    16343\n",
    "Name: 508, dtype: int64"
   ]
  },
  {
   "cell_type": "markdown",
   "id": "c32e46b8",
   "metadata": {},
   "source": [
    "nombre_infected       737\n",
    "nombre_sain          2558\n",
    "nombre_exposed        414\n",
    "nombre_recovered    16291\n",
    "Name: 509, dtype: int64"
   ]
  },
  {
   "cell_type": "markdown",
   "id": "e38cc495",
   "metadata": {},
   "source": [
    "nombre_infected       732\n",
    "nombre_sain          2568\n",
    "nombre_exposed        425\n",
    "nombre_recovered    16275\n",
    "Name: 510, dtype: int64"
   ]
  },
  {
   "cell_type": "markdown",
   "id": "fd36e3bf",
   "metadata": {},
   "source": [
    "nombre_infected       733\n",
    "nombre_sain          2589\n",
    "nombre_exposed        424\n",
    "nombre_recovered    16254\n",
    "Name: 511, dtype: int64"
   ]
  },
  {
   "cell_type": "markdown",
   "id": "185ae646",
   "metadata": {},
   "source": [
    "nombre_infected       751\n",
    "nombre_sain          2618\n",
    "nombre_exposed        411\n",
    "nombre_recovered    16220\n",
    "Name: 512, dtype: int64"
   ]
  },
  {
   "cell_type": "markdown",
   "id": "9d99e1ac",
   "metadata": {},
   "source": [
    "nombre_infected       765\n",
    "nombre_sain          2665\n",
    "nombre_exposed        394\n",
    "nombre_recovered    16176\n",
    "Name: 513, dtype: int64"
   ]
  },
  {
   "cell_type": "markdown",
   "id": "929a7a53",
   "metadata": {},
   "source": [
    "nombre_infected       749\n",
    "nombre_sain          2689\n",
    "nombre_exposed        402\n",
    "nombre_recovered    16160\n",
    "Name: 514, dtype: int64"
   ]
  },
  {
   "cell_type": "markdown",
   "id": "db18be68",
   "metadata": {},
   "source": [
    "nombre_infected       734\n",
    "nombre_sain          2727\n",
    "nombre_exposed        414\n",
    "nombre_recovered    16125\n",
    "Name: 515, dtype: int64"
   ]
  },
  {
   "cell_type": "markdown",
   "id": "b4ed4452",
   "metadata": {},
   "source": [
    "nombre_infected       744\n",
    "nombre_sain          2752\n",
    "nombre_exposed        421\n",
    "nombre_recovered    16083\n",
    "Name: 516, dtype: int64"
   ]
  },
  {
   "cell_type": "markdown",
   "id": "41e9732d",
   "metadata": {},
   "source": [
    "nombre_infected       749\n",
    "nombre_sain          2727\n",
    "nombre_exposed        447\n",
    "nombre_recovered    16077\n",
    "Name: 517, dtype: int64"
   ]
  },
  {
   "cell_type": "markdown",
   "id": "6e210a57",
   "metadata": {},
   "source": [
    "nombre_infected       754\n",
    "nombre_sain          2757\n",
    "nombre_exposed        444\n",
    "nombre_recovered    16045\n",
    "Name: 518, dtype: int64"
   ]
  },
  {
   "cell_type": "markdown",
   "id": "1cf2c337",
   "metadata": {},
   "source": [
    "nombre_infected       766\n",
    "nombre_sain          2760\n",
    "nombre_exposed        441\n",
    "nombre_recovered    16033\n",
    "Name: 519, dtype: int64"
   ]
  },
  {
   "cell_type": "markdown",
   "id": "b0473548",
   "metadata": {},
   "source": [
    "nombre_infected       772\n",
    "nombre_sain          2753\n",
    "nombre_exposed        458\n",
    "nombre_recovered    16017\n",
    "Name: 520, dtype: int64"
   ]
  },
  {
   "cell_type": "markdown",
   "id": "3bd7ce85",
   "metadata": {},
   "source": [
    "nombre_infected       785\n",
    "nombre_sain          2764\n",
    "nombre_exposed        452\n",
    "nombre_recovered    15999\n",
    "Name: 521, dtype: int64"
   ]
  },
  {
   "cell_type": "markdown",
   "id": "a94c6e03",
   "metadata": {},
   "source": [
    "nombre_infected       797\n",
    "nombre_sain          2806\n",
    "nombre_exposed        436\n",
    "nombre_recovered    15961\n",
    "Name: 522, dtype: int64"
   ]
  },
  {
   "cell_type": "markdown",
   "id": "0167453c",
   "metadata": {},
   "source": [
    "nombre_infected       779\n",
    "nombre_sain          2822\n",
    "nombre_exposed        456\n",
    "nombre_recovered    15943\n",
    "Name: 523, dtype: int64"
   ]
  },
  {
   "cell_type": "markdown",
   "id": "99e65321",
   "metadata": {},
   "source": [
    "nombre_infected       783\n",
    "nombre_sain          2821\n",
    "nombre_exposed        474\n",
    "nombre_recovered    15922\n",
    "Name: 524, dtype: int64"
   ]
  },
  {
   "cell_type": "markdown",
   "id": "3b75607e",
   "metadata": {},
   "source": [
    "nombre_infected       809\n",
    "nombre_sain          2859\n",
    "nombre_exposed        450\n",
    "nombre_recovered    15882\n",
    "Name: 525, dtype: int64"
   ]
  },
  {
   "cell_type": "markdown",
   "id": "aec37c88",
   "metadata": {},
   "source": [
    "nombre_infected       816\n",
    "nombre_sain          2863\n",
    "nombre_exposed        468\n",
    "nombre_recovered    15853\n",
    "Name: 526, dtype: int64"
   ]
  },
  {
   "cell_type": "markdown",
   "id": "71fb6345",
   "metadata": {},
   "source": [
    "nombre_infected       827\n",
    "nombre_sain          2871\n",
    "nombre_exposed        491\n",
    "nombre_recovered    15811\n",
    "Name: 527, dtype: int64"
   ]
  },
  {
   "cell_type": "markdown",
   "id": "df361444",
   "metadata": {},
   "source": [
    "nombre_infected       823\n",
    "nombre_sain          2863\n",
    "nombre_exposed        525\n",
    "nombre_recovered    15789\n",
    "Name: 528, dtype: int64"
   ]
  },
  {
   "cell_type": "markdown",
   "id": "28889a62",
   "metadata": {},
   "source": [
    "nombre_infected       860\n",
    "nombre_sain          2885\n",
    "nombre_exposed        521\n",
    "nombre_recovered    15734\n",
    "Name: 529, dtype: int64"
   ]
  },
  {
   "cell_type": "markdown",
   "id": "dd658840",
   "metadata": {},
   "source": [
    "nombre_infected       894\n",
    "nombre_sain          2911\n",
    "nombre_exposed        505\n",
    "nombre_recovered    15690\n",
    "Name: 530, dtype: int64"
   ]
  },
  {
   "cell_type": "markdown",
   "id": "c736aef7",
   "metadata": {},
   "source": [
    "nombre_infected       902\n",
    "nombre_sain          2901\n",
    "nombre_exposed        519\n",
    "nombre_recovered    15678\n",
    "Name: 531, dtype: int64"
   ]
  },
  {
   "cell_type": "markdown",
   "id": "5f944649",
   "metadata": {},
   "source": [
    "nombre_infected       917\n",
    "nombre_sain          2865\n",
    "nombre_exposed        553\n",
    "nombre_recovered    15665\n",
    "Name: 532, dtype: int64"
   ]
  },
  {
   "cell_type": "markdown",
   "id": "be9e7f43",
   "metadata": {},
   "source": [
    "nombre_infected       943\n",
    "nombre_sain          2844\n",
    "nombre_exposed        553\n",
    "nombre_recovered    15660\n",
    "Name: 533, dtype: int64"
   ]
  },
  {
   "cell_type": "markdown",
   "id": "0189fa0f",
   "metadata": {},
   "source": [
    "nombre_infected       976\n",
    "nombre_sain          2801\n",
    "nombre_exposed        551\n",
    "nombre_recovered    15672\n",
    "Name: 534, dtype: int64"
   ]
  },
  {
   "cell_type": "markdown",
   "id": "196baecd",
   "metadata": {},
   "source": [
    "nombre_infected       974\n",
    "nombre_sain          2745\n",
    "nombre_exposed        574\n",
    "nombre_recovered    15707\n",
    "Name: 535, dtype: int64"
   ]
  },
  {
   "cell_type": "markdown",
   "id": "b3a5c0d3",
   "metadata": {},
   "source": [
    "nombre_infected       972\n",
    "nombre_sain          2717\n",
    "nombre_exposed        601\n",
    "nombre_recovered    15710\n",
    "Name: 536, dtype: int64"
   ]
  },
  {
   "cell_type": "markdown",
   "id": "6ecb35ad",
   "metadata": {},
   "source": [
    "nombre_infected      1000\n",
    "nombre_sain          2676\n",
    "nombre_exposed        598\n",
    "nombre_recovered    15726\n",
    "Name: 537, dtype: int64"
   ]
  },
  {
   "cell_type": "markdown",
   "id": "4e944521",
   "metadata": {},
   "source": [
    "nombre_infected      1008\n",
    "nombre_sain          2631\n",
    "nombre_exposed        602\n",
    "nombre_recovered    15759\n",
    "Name: 538, dtype: int64"
   ]
  },
  {
   "cell_type": "markdown",
   "id": "13b318bf",
   "metadata": {},
   "source": [
    "nombre_infected       997\n",
    "nombre_sain          2614\n",
    "nombre_exposed        607\n",
    "nombre_recovered    15782\n",
    "Name: 539, dtype: int64"
   ]
  },
  {
   "cell_type": "markdown",
   "id": "b233f746",
   "metadata": {},
   "source": [
    "nombre_infected      1042\n",
    "nombre_sain          2572\n",
    "nombre_exposed        606\n",
    "nombre_recovered    15780\n",
    "Name: 540, dtype: int64"
   ]
  },
  {
   "cell_type": "markdown",
   "id": "b761f513",
   "metadata": {},
   "source": [
    "nombre_infected      1076\n",
    "nombre_sain          2542\n",
    "nombre_exposed        592\n",
    "nombre_recovered    15790\n",
    "Name: 541, dtype: int64"
   ]
  },
  {
   "cell_type": "markdown",
   "id": "d8f5203e",
   "metadata": {},
   "source": [
    "nombre_infected      1069\n",
    "nombre_sain          2502\n",
    "nombre_exposed        586\n",
    "nombre_recovered    15843\n",
    "Name: 542, dtype: int64"
   ]
  },
  {
   "cell_type": "markdown",
   "id": "9d28aac7",
   "metadata": {},
   "source": [
    "nombre_infected      1085\n",
    "nombre_sain          2444\n",
    "nombre_exposed        603\n",
    "nombre_recovered    15868\n",
    "Name: 543, dtype: int64"
   ]
  },
  {
   "cell_type": "markdown",
   "id": "bec552d5",
   "metadata": {},
   "source": [
    "nombre_infected      1083\n",
    "nombre_sain          2421\n",
    "nombre_exposed        609\n",
    "nombre_recovered    15887\n",
    "Name: 544, dtype: int64"
   ]
  },
  {
   "cell_type": "markdown",
   "id": "ca8258b4",
   "metadata": {},
   "source": [
    "nombre_infected      1101\n",
    "nombre_sain          2399\n",
    "nombre_exposed        598\n",
    "nombre_recovered    15902\n",
    "Name: 545, dtype: int64"
   ]
  },
  {
   "cell_type": "markdown",
   "id": "09bc063d",
   "metadata": {},
   "source": [
    "nombre_infected      1122\n",
    "nombre_sain          2398\n",
    "nombre_exposed        568\n",
    "nombre_recovered    15912\n",
    "Name: 546, dtype: int64"
   ]
  },
  {
   "cell_type": "markdown",
   "id": "59872579",
   "metadata": {},
   "source": [
    "nombre_infected      1114\n",
    "nombre_sain          2379\n",
    "nombre_exposed        583\n",
    "nombre_recovered    15924\n",
    "Name: 547, dtype: int64"
   ]
  },
  {
   "cell_type": "markdown",
   "id": "e1c5041a",
   "metadata": {},
   "source": [
    "nombre_infected      1110\n",
    "nombre_sain          2379\n",
    "nombre_exposed        594\n",
    "nombre_recovered    15917\n",
    "Name: 548, dtype: int64"
   ]
  },
  {
   "cell_type": "markdown",
   "id": "6002eebf",
   "metadata": {},
   "source": [
    "nombre_infected      1127\n",
    "nombre_sain          2369\n",
    "nombre_exposed        575\n",
    "nombre_recovered    15929\n",
    "Name: 549, dtype: int64"
   ]
  },
  {
   "cell_type": "markdown",
   "id": "0450f6de",
   "metadata": {},
   "source": [
    "nombre_infected      1137\n",
    "nombre_sain          2342\n",
    "nombre_exposed        605\n",
    "nombre_recovered    15916\n",
    "Name: 550, dtype: int64"
   ]
  },
  {
   "cell_type": "markdown",
   "id": "b1f4655c",
   "metadata": {},
   "source": [
    "nombre_infected      1138\n",
    "nombre_sain          2351\n",
    "nombre_exposed        599\n",
    "nombre_recovered    15912\n",
    "Name: 551, dtype: int64"
   ]
  },
  {
   "cell_type": "markdown",
   "id": "8d2169b8",
   "metadata": {},
   "source": [
    "nombre_infected      1155\n",
    "nombre_sain          2297\n",
    "nombre_exposed        617\n",
    "nombre_recovered    15931\n",
    "Name: 552, dtype: int64"
   ]
  },
  {
   "cell_type": "markdown",
   "id": "884655d1",
   "metadata": {},
   "source": [
    "nombre_infected      1134\n",
    "nombre_sain          2301\n",
    "nombre_exposed        638\n",
    "nombre_recovered    15927\n",
    "Name: 553, dtype: int64"
   ]
  },
  {
   "cell_type": "markdown",
   "id": "5fd69a6d",
   "metadata": {},
   "source": [
    "nombre_infected      1140\n",
    "nombre_sain          2289\n",
    "nombre_exposed        648\n",
    "nombre_recovered    15923\n",
    "Name: 554, dtype: int64"
   ]
  },
  {
   "cell_type": "markdown",
   "id": "13ea5552",
   "metadata": {},
   "source": [
    "nombre_infected      1148\n",
    "nombre_sain          2292\n",
    "nombre_exposed        638\n",
    "nombre_recovered    15922\n",
    "Name: 555, dtype: int64"
   ]
  },
  {
   "cell_type": "markdown",
   "id": "7f7208a9",
   "metadata": {},
   "source": [
    "nombre_infected      1181\n",
    "nombre_sain          2275\n",
    "nombre_exposed        609\n",
    "nombre_recovered    15935\n",
    "Name: 556, dtype: int64"
   ]
  },
  {
   "cell_type": "markdown",
   "id": "ec520a4b",
   "metadata": {},
   "source": [
    "nombre_infected      1150\n",
    "nombre_sain          2256\n",
    "nombre_exposed        633\n",
    "nombre_recovered    15961\n",
    "Name: 557, dtype: int64"
   ]
  },
  {
   "cell_type": "markdown",
   "id": "d260748a",
   "metadata": {},
   "source": [
    "nombre_infected      1136\n",
    "nombre_sain          2241\n",
    "nombre_exposed        623\n",
    "nombre_recovered    16000\n",
    "Name: 558, dtype: int64"
   ]
  },
  {
   "cell_type": "markdown",
   "id": "e6d15985",
   "metadata": {},
   "source": [
    "nombre_infected      1128\n",
    "nombre_sain          2215\n",
    "nombre_exposed        625\n",
    "nombre_recovered    16032\n",
    "Name: 559, dtype: int64"
   ]
  },
  {
   "cell_type": "markdown",
   "id": "f82b68d9",
   "metadata": {},
   "source": [
    "nombre_infected      1121\n",
    "nombre_sain          2195\n",
    "nombre_exposed        614\n",
    "nombre_recovered    16070\n",
    "Name: 560, dtype: int64"
   ]
  },
  {
   "cell_type": "markdown",
   "id": "4235014d",
   "metadata": {},
   "source": [
    "nombre_infected      1121\n",
    "nombre_sain          2202\n",
    "nombre_exposed        598\n",
    "nombre_recovered    16079\n",
    "Name: 561, dtype: int64"
   ]
  },
  {
   "cell_type": "markdown",
   "id": "b89bbdbe",
   "metadata": {},
   "source": [
    "nombre_infected      1094\n",
    "nombre_sain          2193\n",
    "nombre_exposed        597\n",
    "nombre_recovered    16116\n",
    "Name: 562, dtype: int64"
   ]
  },
  {
   "cell_type": "markdown",
   "id": "6d89cc11",
   "metadata": {},
   "source": [
    "nombre_infected      1062\n",
    "nombre_sain          2202\n",
    "nombre_exposed        598\n",
    "nombre_recovered    16138\n",
    "Name: 563, dtype: int64"
   ]
  },
  {
   "cell_type": "markdown",
   "id": "ed5158fa",
   "metadata": {},
   "source": [
    "nombre_infected      1055\n",
    "nombre_sain          2208\n",
    "nombre_exposed        600\n",
    "nombre_recovered    16137\n",
    "Name: 564, dtype: int64"
   ]
  },
  {
   "cell_type": "markdown",
   "id": "ffc6b208",
   "metadata": {},
   "source": [
    "nombre_infected      1055\n",
    "nombre_sain          2229\n",
    "nombre_exposed        559\n",
    "nombre_recovered    16157\n",
    "Name: 565, dtype: int64"
   ]
  },
  {
   "cell_type": "markdown",
   "id": "a1eed71a",
   "metadata": {},
   "source": [
    "nombre_infected      1030\n",
    "nombre_sain          2220\n",
    "nombre_exposed        585\n",
    "nombre_recovered    16165\n",
    "Name: 566, dtype: int64"
   ]
  },
  {
   "cell_type": "markdown",
   "id": "04533ee8",
   "metadata": {},
   "source": [
    "nombre_infected      1004\n",
    "nombre_sain          2223\n",
    "nombre_exposed        583\n",
    "nombre_recovered    16190\n",
    "Name: 567, dtype: int64"
   ]
  },
  {
   "cell_type": "markdown",
   "id": "0c83f79a",
   "metadata": {},
   "source": [
    "nombre_infected      1019\n",
    "nombre_sain          2228\n",
    "nombre_exposed        562\n",
    "nombre_recovered    16191\n",
    "Name: 568, dtype: int64"
   ]
  },
  {
   "cell_type": "markdown",
   "id": "465466e0",
   "metadata": {},
   "source": [
    "nombre_infected      1022\n",
    "nombre_sain          2241\n",
    "nombre_exposed        543\n",
    "nombre_recovered    16194\n",
    "Name: 569, dtype: int64"
   ]
  },
  {
   "cell_type": "markdown",
   "id": "bd84013e",
   "metadata": {},
   "source": [
    "nombre_infected      1027\n",
    "nombre_sain          2262\n",
    "nombre_exposed        528\n",
    "nombre_recovered    16183\n",
    "Name: 570, dtype: int64"
   ]
  },
  {
   "cell_type": "markdown",
   "id": "7ccf608a",
   "metadata": {},
   "source": [
    "nombre_infected      1022\n",
    "nombre_sain          2225\n",
    "nombre_exposed        551\n",
    "nombre_recovered    16202\n",
    "Name: 571, dtype: int64"
   ]
  },
  {
   "cell_type": "markdown",
   "id": "622bd937",
   "metadata": {},
   "source": [
    "nombre_infected      1035\n",
    "nombre_sain          2233\n",
    "nombre_exposed        544\n",
    "nombre_recovered    16188\n",
    "Name: 572, dtype: int64"
   ]
  },
  {
   "cell_type": "markdown",
   "id": "4f2a5a5e",
   "metadata": {},
   "source": [
    "nombre_infected      1031\n",
    "nombre_sain          2211\n",
    "nombre_exposed        529\n",
    "nombre_recovered    16229\n",
    "Name: 573, dtype: int64"
   ]
  },
  {
   "cell_type": "markdown",
   "id": "45ae6283",
   "metadata": {},
   "source": [
    "nombre_infected      1008\n",
    "nombre_sain          2219\n",
    "nombre_exposed        533\n",
    "nombre_recovered    16240\n",
    "Name: 574, dtype: int64"
   ]
  },
  {
   "cell_type": "markdown",
   "id": "57b246e8",
   "metadata": {},
   "source": [
    "nombre_infected      1010\n",
    "nombre_sain          2218\n",
    "nombre_exposed        543\n",
    "nombre_recovered    16229\n",
    "Name: 575, dtype: int64"
   ]
  },
  {
   "cell_type": "markdown",
   "id": "73f5cbc5",
   "metadata": {},
   "source": [
    "nombre_infected      1011\n",
    "nombre_sain          2218\n",
    "nombre_exposed        540\n",
    "nombre_recovered    16231\n",
    "Name: 576, dtype: int64"
   ]
  },
  {
   "cell_type": "markdown",
   "id": "2c90c49e",
   "metadata": {},
   "source": [
    "nombre_infected       998\n",
    "nombre_sain          2199\n",
    "nombre_exposed        540\n",
    "nombre_recovered    16263\n",
    "Name: 577, dtype: int64"
   ]
  },
  {
   "cell_type": "markdown",
   "id": "efce8bd7",
   "metadata": {},
   "source": [
    "nombre_infected      1012\n",
    "nombre_sain          2207\n",
    "nombre_exposed        536\n",
    "nombre_recovered    16245\n",
    "Name: 578, dtype: int64"
   ]
  },
  {
   "cell_type": "markdown",
   "id": "d1ae4cff",
   "metadata": {},
   "source": [
    "nombre_infected      1008\n",
    "nombre_sain          2193\n",
    "nombre_exposed        557\n",
    "nombre_recovered    16242\n",
    "Name: 579, dtype: int64"
   ]
  },
  {
   "cell_type": "markdown",
   "id": "91cf3c2c",
   "metadata": {},
   "source": [
    "nombre_infected      1004\n",
    "nombre_sain          2167\n",
    "nombre_exposed        557\n",
    "nombre_recovered    16272\n",
    "Name: 580, dtype: int64"
   ]
  },
  {
   "cell_type": "markdown",
   "id": "e8c46af2",
   "metadata": {},
   "source": [
    "nombre_infected      1011\n",
    "nombre_sain          2147\n",
    "nombre_exposed        563\n",
    "nombre_recovered    16279\n",
    "Name: 581, dtype: int64"
   ]
  },
  {
   "cell_type": "markdown",
   "id": "760e81e3",
   "metadata": {},
   "source": [
    "nombre_infected      1028\n",
    "nombre_sain          2124\n",
    "nombre_exposed        556\n",
    "nombre_recovered    16292\n",
    "Name: 582, dtype: int64"
   ]
  },
  {
   "cell_type": "markdown",
   "id": "1aefae36",
   "metadata": {},
   "source": [
    "nombre_infected      1052\n",
    "nombre_sain          2118\n",
    "nombre_exposed        551\n",
    "nombre_recovered    16279\n",
    "Name: 583, dtype: int64"
   ]
  },
  {
   "cell_type": "markdown",
   "id": "a9247896",
   "metadata": {},
   "source": [
    "nombre_infected      1036\n",
    "nombre_sain          2130\n",
    "nombre_exposed        559\n",
    "nombre_recovered    16275\n",
    "Name: 584, dtype: int64"
   ]
  },
  {
   "cell_type": "markdown",
   "id": "37f49bc3",
   "metadata": {},
   "source": [
    "nombre_infected      1040\n",
    "nombre_sain          2121\n",
    "nombre_exposed        543\n",
    "nombre_recovered    16296\n",
    "Name: 585, dtype: int64"
   ]
  },
  {
   "cell_type": "markdown",
   "id": "8bba5935",
   "metadata": {},
   "source": [
    "nombre_infected      1061\n",
    "nombre_sain          2079\n",
    "nombre_exposed        551\n",
    "nombre_recovered    16309\n",
    "Name: 586, dtype: int64"
   ]
  },
  {
   "cell_type": "markdown",
   "id": "e555c4a2",
   "metadata": {},
   "source": [
    "nombre_infected      1054\n",
    "nombre_sain          2056\n",
    "nombre_exposed        562\n",
    "nombre_recovered    16328\n",
    "Name: 587, dtype: int64"
   ]
  },
  {
   "cell_type": "markdown",
   "id": "b13b415c",
   "metadata": {},
   "source": [
    "nombre_infected      1057\n",
    "nombre_sain          2069\n",
    "nombre_exposed        542\n",
    "nombre_recovered    16332\n",
    "Name: 588, dtype: int64"
   ]
  },
  {
   "cell_type": "markdown",
   "id": "6fd2a96a",
   "metadata": {},
   "source": [
    "nombre_infected      1062\n",
    "nombre_sain          2069\n",
    "nombre_exposed        532\n",
    "nombre_recovered    16337\n",
    "Name: 589, dtype: int64"
   ]
  },
  {
   "cell_type": "markdown",
   "id": "a880e187",
   "metadata": {},
   "source": [
    "nombre_infected      1055\n",
    "nombre_sain          2032\n",
    "nombre_exposed        558\n",
    "nombre_recovered    16355\n",
    "Name: 590, dtype: int64"
   ]
  },
  {
   "cell_type": "markdown",
   "id": "2fe8b58a",
   "metadata": {},
   "source": [
    "nombre_infected      1059\n",
    "nombre_sain          2011\n",
    "nombre_exposed        546\n",
    "nombre_recovered    16384\n",
    "Name: 591, dtype: int64"
   ]
  },
  {
   "cell_type": "markdown",
   "id": "d4a03b93",
   "metadata": {},
   "source": [
    "nombre_infected      1054\n",
    "nombre_sain          2034\n",
    "nombre_exposed        533\n",
    "nombre_recovered    16379\n",
    "Name: 592, dtype: int64"
   ]
  },
  {
   "cell_type": "markdown",
   "id": "17fd38a2",
   "metadata": {},
   "source": [
    "nombre_infected      1046\n",
    "nombre_sain          2030\n",
    "nombre_exposed        509\n",
    "nombre_recovered    16415\n",
    "Name: 593, dtype: int64"
   ]
  },
  {
   "cell_type": "markdown",
   "id": "e817fdf0",
   "metadata": {},
   "source": [
    "nombre_infected      1040\n",
    "nombre_sain          2044\n",
    "nombre_exposed        477\n",
    "nombre_recovered    16439\n",
    "Name: 594, dtype: int64"
   ]
  },
  {
   "cell_type": "markdown",
   "id": "2ff18d7c",
   "metadata": {},
   "source": [
    "nombre_infected      1040\n",
    "nombre_sain          2031\n",
    "nombre_exposed        457\n",
    "nombre_recovered    16472\n",
    "Name: 595, dtype: int64"
   ]
  },
  {
   "cell_type": "markdown",
   "id": "f1d49b9c",
   "metadata": {},
   "source": [
    "nombre_infected      1023\n",
    "nombre_sain          2011\n",
    "nombre_exposed        466\n",
    "nombre_recovered    16500\n",
    "Name: 596, dtype: int64"
   ]
  },
  {
   "cell_type": "markdown",
   "id": "2ca9e3ca",
   "metadata": {},
   "source": [
    "nombre_infected       975\n",
    "nombre_sain          2017\n",
    "nombre_exposed        485\n",
    "nombre_recovered    16523\n",
    "Name: 597, dtype: int64"
   ]
  },
  {
   "cell_type": "markdown",
   "id": "f9e8fd16",
   "metadata": {},
   "source": [
    "nombre_infected       976\n",
    "nombre_sain          2040\n",
    "nombre_exposed        472\n",
    "nombre_recovered    16512\n",
    "Name: 598, dtype: int64"
   ]
  },
  {
   "cell_type": "markdown",
   "id": "cdf621dc",
   "metadata": {},
   "source": [
    "nombre_infected       974\n",
    "nombre_sain          2051\n",
    "nombre_exposed        448\n",
    "nombre_recovered    16527\n",
    "Name: 599, dtype: int64"
   ]
  },
  {
   "cell_type": "markdown",
   "id": "867220a1",
   "metadata": {},
   "source": [
    "nombre_infected       968\n",
    "nombre_sain          2051\n",
    "nombre_exposed        444\n",
    "nombre_recovered    16537\n",
    "Name: 600, dtype: int64"
   ]
  },
  {
   "cell_type": "markdown",
   "id": "c3f95082",
   "metadata": {},
   "source": [
    "nombre_infected       932\n",
    "nombre_sain          2078\n",
    "nombre_exposed        447\n",
    "nombre_recovered    16543\n",
    "Name: 601, dtype: int64"
   ]
  },
  {
   "cell_type": "markdown",
   "id": "26359fc2",
   "metadata": {},
   "source": [
    "nombre_infected       921\n",
    "nombre_sain          2086\n",
    "nombre_exposed        450\n",
    "nombre_recovered    16543\n",
    "Name: 602, dtype: int64"
   ]
  },
  {
   "cell_type": "markdown",
   "id": "2a4cfc80",
   "metadata": {},
   "source": [
    "nombre_infected       922\n",
    "nombre_sain          2076\n",
    "nombre_exposed        470\n",
    "nombre_recovered    16532\n",
    "Name: 603, dtype: int64"
   ]
  },
  {
   "cell_type": "markdown",
   "id": "df369500",
   "metadata": {},
   "source": [
    "nombre_infected       918\n",
    "nombre_sain          2063\n",
    "nombre_exposed        487\n",
    "nombre_recovered    16532\n",
    "Name: 604, dtype: int64"
   ]
  },
  {
   "cell_type": "markdown",
   "id": "fd37c584",
   "metadata": {},
   "source": [
    "nombre_infected       899\n",
    "nombre_sain          2077\n",
    "nombre_exposed        482\n",
    "nombre_recovered    16542\n",
    "Name: 605, dtype: int64"
   ]
  },
  {
   "cell_type": "markdown",
   "id": "13737c29",
   "metadata": {},
   "source": [
    "nombre_infected       938\n",
    "nombre_sain          2094\n",
    "nombre_exposed        438\n",
    "nombre_recovered    16530\n",
    "Name: 606, dtype: int64"
   ]
  },
  {
   "cell_type": "markdown",
   "id": "b6558591",
   "metadata": {},
   "source": [
    "nombre_infected       956\n",
    "nombre_sain          2091\n",
    "nombre_exposed        425\n",
    "nombre_recovered    16528\n",
    "Name: 607, dtype: int64"
   ]
  },
  {
   "cell_type": "markdown",
   "id": "a9922b6c",
   "metadata": {},
   "source": [
    "nombre_infected       925\n",
    "nombre_sain          2109\n",
    "nombre_exposed        447\n",
    "nombre_recovered    16519\n",
    "Name: 608, dtype: int64"
   ]
  },
  {
   "cell_type": "markdown",
   "id": "285b5f71",
   "metadata": {},
   "source": [
    "nombre_infected       929\n",
    "nombre_sain          2134\n",
    "nombre_exposed        426\n",
    "nombre_recovered    16511\n",
    "Name: 609, dtype: int64"
   ]
  },
  {
   "cell_type": "markdown",
   "id": "2249ada1",
   "metadata": {},
   "source": [
    "nombre_infected       922\n",
    "nombre_sain          2151\n",
    "nombre_exposed        420\n",
    "nombre_recovered    16507\n",
    "Name: 610, dtype: int64"
   ]
  },
  {
   "cell_type": "markdown",
   "id": "c2f251bb",
   "metadata": {},
   "source": [
    "nombre_infected       897\n",
    "nombre_sain          2137\n",
    "nombre_exposed        432\n",
    "nombre_recovered    16534\n",
    "Name: 611, dtype: int64"
   ]
  },
  {
   "cell_type": "markdown",
   "id": "cdc477fc",
   "metadata": {},
   "source": [
    "nombre_infected       907\n",
    "nombre_sain          2159\n",
    "nombre_exposed        438\n",
    "nombre_recovered    16496\n",
    "Name: 612, dtype: int64"
   ]
  },
  {
   "cell_type": "markdown",
   "id": "d4896a75",
   "metadata": {},
   "source": [
    "nombre_infected       902\n",
    "nombre_sain          2157\n",
    "nombre_exposed        460\n",
    "nombre_recovered    16481\n",
    "Name: 613, dtype: int64"
   ]
  },
  {
   "cell_type": "markdown",
   "id": "bba7e1fe",
   "metadata": {},
   "source": [
    "nombre_infected       879\n",
    "nombre_sain          2145\n",
    "nombre_exposed        487\n",
    "nombre_recovered    16489\n",
    "Name: 614, dtype: int64"
   ]
  },
  {
   "cell_type": "markdown",
   "id": "4fd3eb83",
   "metadata": {},
   "source": [
    "nombre_infected       896\n",
    "nombre_sain          2159\n",
    "nombre_exposed        474\n",
    "nombre_recovered    16471\n",
    "Name: 615, dtype: int64"
   ]
  },
  {
   "cell_type": "markdown",
   "id": "054380a9",
   "metadata": {},
   "source": [
    "nombre_infected       910\n",
    "nombre_sain          2181\n",
    "nombre_exposed        443\n",
    "nombre_recovered    16466\n",
    "Name: 616, dtype: int64"
   ]
  },
  {
   "cell_type": "markdown",
   "id": "27cea355",
   "metadata": {},
   "source": [
    "nombre_infected       891\n",
    "nombre_sain          2170\n",
    "nombre_exposed        461\n",
    "nombre_recovered    16478\n",
    "Name: 617, dtype: int64"
   ]
  },
  {
   "cell_type": "markdown",
   "id": "d1c1ba24",
   "metadata": {},
   "source": [
    "nombre_infected       880\n",
    "nombre_sain          2168\n",
    "nombre_exposed        475\n",
    "nombre_recovered    16477\n",
    "Name: 618, dtype: int64"
   ]
  },
  {
   "cell_type": "markdown",
   "id": "21fd7651",
   "metadata": {},
   "source": [
    "nombre_infected       890\n",
    "nombre_sain          2172\n",
    "nombre_exposed        476\n",
    "nombre_recovered    16462\n",
    "Name: 619, dtype: int64"
   ]
  },
  {
   "cell_type": "markdown",
   "id": "d3f0e83b",
   "metadata": {},
   "source": [
    "nombre_infected       908\n",
    "nombre_sain          2149\n",
    "nombre_exposed        470\n",
    "nombre_recovered    16473\n",
    "Name: 620, dtype: int64"
   ]
  },
  {
   "cell_type": "markdown",
   "id": "70a06dd3",
   "metadata": {},
   "source": [
    "nombre_infected       910\n",
    "nombre_sain          2155\n",
    "nombre_exposed        465\n",
    "nombre_recovered    16470\n",
    "Name: 621, dtype: int64"
   ]
  },
  {
   "cell_type": "markdown",
   "id": "5be507dd",
   "metadata": {},
   "source": [
    "nombre_infected       907\n",
    "nombre_sain          2143\n",
    "nombre_exposed        464\n",
    "nombre_recovered    16486\n",
    "Name: 622, dtype: int64"
   ]
  },
  {
   "cell_type": "markdown",
   "id": "7c5c61d3",
   "metadata": {},
   "source": [
    "nombre_infected       930\n",
    "nombre_sain          2186\n",
    "nombre_exposed        441\n",
    "nombre_recovered    16443\n",
    "Name: 623, dtype: int64"
   ]
  },
  {
   "cell_type": "markdown",
   "id": "07a9e9ee",
   "metadata": {},
   "source": [
    "nombre_infected       935\n",
    "nombre_sain          2207\n",
    "nombre_exposed        441\n",
    "nombre_recovered    16417\n",
    "Name: 624, dtype: int64"
   ]
  },
  {
   "cell_type": "markdown",
   "id": "33871d89",
   "metadata": {},
   "source": [
    "nombre_infected       929\n",
    "nombre_sain          2201\n",
    "nombre_exposed        460\n",
    "nombre_recovered    16410\n",
    "Name: 625, dtype: int64"
   ]
  },
  {
   "cell_type": "markdown",
   "id": "4ae8db08",
   "metadata": {},
   "source": [
    "nombre_infected       929\n",
    "nombre_sain          2204\n",
    "nombre_exposed        469\n",
    "nombre_recovered    16398\n",
    "Name: 626, dtype: int64"
   ]
  },
  {
   "cell_type": "markdown",
   "id": "9091ef17",
   "metadata": {},
   "source": [
    "nombre_infected       929\n",
    "nombre_sain          2208\n",
    "nombre_exposed        475\n",
    "nombre_recovered    16388\n",
    "Name: 627, dtype: int64"
   ]
  },
  {
   "cell_type": "markdown",
   "id": "b772bfcb",
   "metadata": {},
   "source": [
    "nombre_infected       950\n",
    "nombre_sain          2218\n",
    "nombre_exposed        480\n",
    "nombre_recovered    16352\n",
    "Name: 628, dtype: int64"
   ]
  },
  {
   "cell_type": "markdown",
   "id": "bbe51ec7",
   "metadata": {},
   "source": [
    "nombre_infected       948\n",
    "nombre_sain          2212\n",
    "nombre_exposed        496\n",
    "nombre_recovered    16344\n",
    "Name: 629, dtype: int64"
   ]
  },
  {
   "cell_type": "markdown",
   "id": "ac10c1a6",
   "metadata": {},
   "source": [
    "nombre_infected       953\n",
    "nombre_sain          2231\n",
    "nombre_exposed        480\n",
    "nombre_recovered    16336\n",
    "Name: 630, dtype: int64"
   ]
  },
  {
   "cell_type": "markdown",
   "id": "c5934963",
   "metadata": {},
   "source": [
    "nombre_infected       963\n",
    "nombre_sain          2270\n",
    "nombre_exposed        485\n",
    "nombre_recovered    16282\n",
    "Name: 631, dtype: int64"
   ]
  },
  {
   "cell_type": "markdown",
   "id": "38b39d33",
   "metadata": {},
   "source": [
    "nombre_infected       966\n",
    "nombre_sain          2302\n",
    "nombre_exposed        484\n",
    "nombre_recovered    16248\n",
    "Name: 632, dtype: int64"
   ]
  },
  {
   "cell_type": "markdown",
   "id": "98678eaa",
   "metadata": {},
   "source": [
    "nombre_infected       985\n",
    "nombre_sain          2303\n",
    "nombre_exposed        491\n",
    "nombre_recovered    16221\n",
    "Name: 633, dtype: int64"
   ]
  },
  {
   "cell_type": "markdown",
   "id": "ee290251",
   "metadata": {},
   "source": [
    "nombre_infected       991\n",
    "nombre_sain          2328\n",
    "nombre_exposed        501\n",
    "nombre_recovered    16180\n",
    "Name: 634, dtype: int64"
   ]
  },
  {
   "cell_type": "markdown",
   "id": "f671ecc1",
   "metadata": {},
   "source": [
    "nombre_infected       997\n",
    "nombre_sain          2328\n",
    "nombre_exposed        500\n",
    "nombre_recovered    16175\n",
    "Name: 635, dtype: int64"
   ]
  },
  {
   "cell_type": "markdown",
   "id": "57e3acff",
   "metadata": {},
   "source": [
    "nombre_infected       984\n",
    "nombre_sain          2328\n",
    "nombre_exposed        503\n",
    "nombre_recovered    16185\n",
    "Name: 636, dtype: int64"
   ]
  },
  {
   "cell_type": "markdown",
   "id": "ae6204a1",
   "metadata": {},
   "source": [
    "nombre_infected       962\n",
    "nombre_sain          2348\n",
    "nombre_exposed        524\n",
    "nombre_recovered    16166\n",
    "Name: 637, dtype: int64"
   ]
  },
  {
   "cell_type": "markdown",
   "id": "d88ca85b",
   "metadata": {},
   "source": [
    "nombre_infected       981\n",
    "nombre_sain          2379\n",
    "nombre_exposed        481\n",
    "nombre_recovered    16159\n",
    "Name: 638, dtype: int64"
   ]
  },
  {
   "cell_type": "markdown",
   "id": "191b1015",
   "metadata": {},
   "source": [
    "nombre_infected       992\n",
    "nombre_sain          2378\n",
    "nombre_exposed        503\n",
    "nombre_recovered    16127\n",
    "Name: 639, dtype: int64"
   ]
  },
  {
   "cell_type": "markdown",
   "id": "f9683ff3",
   "metadata": {},
   "source": [
    "nombre_infected       985\n",
    "nombre_sain          2364\n",
    "nombre_exposed        551\n",
    "nombre_recovered    16100\n",
    "Name: 640, dtype: int64"
   ]
  },
  {
   "cell_type": "markdown",
   "id": "31f5cbc4",
   "metadata": {},
   "source": [
    "nombre_infected       963\n",
    "nombre_sain          2366\n",
    "nombre_exposed        592\n",
    "nombre_recovered    16079\n",
    "Name: 641, dtype: int64"
   ]
  },
  {
   "cell_type": "markdown",
   "id": "5ac29323",
   "metadata": {},
   "source": [
    "nombre_infected       984\n",
    "nombre_sain          2380\n",
    "nombre_exposed        568\n",
    "nombre_recovered    16068\n",
    "Name: 642, dtype: int64"
   ]
  },
  {
   "cell_type": "markdown",
   "id": "afe27317",
   "metadata": {},
   "source": [
    "nombre_infected      1014\n",
    "nombre_sain          2363\n",
    "nombre_exposed        535\n",
    "nombre_recovered    16088\n",
    "Name: 643, dtype: int64"
   ]
  },
  {
   "cell_type": "markdown",
   "id": "859ff418",
   "metadata": {},
   "source": [
    "nombre_infected      1034\n",
    "nombre_sain          2352\n",
    "nombre_exposed        553\n",
    "nombre_recovered    16061\n",
    "Name: 644, dtype: int64"
   ]
  },
  {
   "cell_type": "markdown",
   "id": "c660b275",
   "metadata": {},
   "source": [
    "nombre_infected      1050\n",
    "nombre_sain          2362\n",
    "nombre_exposed        528\n",
    "nombre_recovered    16060\n",
    "Name: 645, dtype: int64"
   ]
  },
  {
   "cell_type": "markdown",
   "id": "c56d8080",
   "metadata": {},
   "source": [
    "nombre_infected      1037\n",
    "nombre_sain          2350\n",
    "nombre_exposed        554\n",
    "nombre_recovered    16059\n",
    "Name: 646, dtype: int64"
   ]
  },
  {
   "cell_type": "markdown",
   "id": "2002b538",
   "metadata": {},
   "source": [
    "nombre_infected      1014\n",
    "nombre_sain          2373\n",
    "nombre_exposed        556\n",
    "nombre_recovered    16057\n",
    "Name: 647, dtype: int64"
   ]
  },
  {
   "cell_type": "markdown",
   "id": "4ef971cc",
   "metadata": {},
   "source": [
    "nombre_infected      1029\n",
    "nombre_sain          2353\n",
    "nombre_exposed        555\n",
    "nombre_recovered    16063\n",
    "Name: 648, dtype: int64"
   ]
  },
  {
   "cell_type": "markdown",
   "id": "5532577b",
   "metadata": {},
   "source": [
    "nombre_infected      1026\n",
    "nombre_sain          2348\n",
    "nombre_exposed        576\n",
    "nombre_recovered    16050\n",
    "Name: 649, dtype: int64"
   ]
  },
  {
   "cell_type": "markdown",
   "id": "b65a9db4",
   "metadata": {},
   "source": [
    "nombre_infected      1004\n",
    "nombre_sain          2312\n",
    "nombre_exposed        583\n",
    "nombre_recovered    16101\n",
    "Name: 650, dtype: int64"
   ]
  },
  {
   "cell_type": "markdown",
   "id": "3e86aaf3",
   "metadata": {},
   "source": [
    "nombre_infected      1016\n",
    "nombre_sain          2314\n",
    "nombre_exposed        573\n",
    "nombre_recovered    16097\n",
    "Name: 651, dtype: int64"
   ]
  },
  {
   "cell_type": "markdown",
   "id": "5a03caf3",
   "metadata": {},
   "source": [
    "nombre_infected      1067\n",
    "nombre_sain          2308\n",
    "nombre_exposed        541\n",
    "nombre_recovered    16084\n",
    "Name: 652, dtype: int64"
   ]
  },
  {
   "cell_type": "markdown",
   "id": "74cb1dbe",
   "metadata": {},
   "source": [
    "nombre_infected      1081\n",
    "nombre_sain          2283\n",
    "nombre_exposed        543\n",
    "nombre_recovered    16093\n",
    "Name: 653, dtype: int64"
   ]
  },
  {
   "cell_type": "markdown",
   "id": "b54be67b",
   "metadata": {},
   "source": [
    "nombre_infected      1066\n",
    "nombre_sain          2239\n",
    "nombre_exposed        583\n",
    "nombre_recovered    16112\n",
    "Name: 654, dtype: int64"
   ]
  },
  {
   "cell_type": "markdown",
   "id": "9ac87f83",
   "metadata": {},
   "source": [
    "nombre_infected      1057\n",
    "nombre_sain          2220\n",
    "nombre_exposed        571\n",
    "nombre_recovered    16152\n",
    "Name: 655, dtype: int64"
   ]
  },
  {
   "cell_type": "markdown",
   "id": "abf14a7a",
   "metadata": {},
   "source": [
    "nombre_infected      1065\n",
    "nombre_sain          2199\n",
    "nombre_exposed        576\n",
    "nombre_recovered    16160\n",
    "Name: 656, dtype: int64"
   ]
  },
  {
   "cell_type": "markdown",
   "id": "760373c9",
   "metadata": {},
   "source": [
    "nombre_infected      1065\n",
    "nombre_sain          2210\n",
    "nombre_exposed        571\n",
    "nombre_recovered    16154\n",
    "Name: 657, dtype: int64"
   ]
  },
  {
   "cell_type": "markdown",
   "id": "7ea3ccba",
   "metadata": {},
   "source": [
    "nombre_infected      1072\n",
    "nombre_sain          2178\n",
    "nombre_exposed        571\n",
    "nombre_recovered    16179\n",
    "Name: 658, dtype: int64"
   ]
  },
  {
   "cell_type": "markdown",
   "id": "1ee92c04",
   "metadata": {},
   "source": [
    "nombre_infected      1080\n",
    "nombre_sain          2183\n",
    "nombre_exposed        571\n",
    "nombre_recovered    16166\n",
    "Name: 659, dtype: int64"
   ]
  },
  {
   "cell_type": "markdown",
   "id": "9089070c",
   "metadata": {},
   "source": [
    "nombre_infected      1092\n",
    "nombre_sain          2183\n",
    "nombre_exposed        551\n",
    "nombre_recovered    16174\n",
    "Name: 660, dtype: int64"
   ]
  },
  {
   "cell_type": "markdown",
   "id": "b0082c06",
   "metadata": {},
   "source": [
    "nombre_infected      1103\n",
    "nombre_sain          2145\n",
    "nombre_exposed        566\n",
    "nombre_recovered    16186\n",
    "Name: 661, dtype: int64"
   ]
  },
  {
   "cell_type": "markdown",
   "id": "7058d282",
   "metadata": {},
   "source": [
    "nombre_infected      1089\n",
    "nombre_sain          2148\n",
    "nombre_exposed        564\n",
    "nombre_recovered    16199\n",
    "Name: 662, dtype: int64"
   ]
  },
  {
   "cell_type": "markdown",
   "id": "02a1beba",
   "metadata": {},
   "source": [
    "nombre_infected      1083\n",
    "nombre_sain          2137\n",
    "nombre_exposed        569\n",
    "nombre_recovered    16211\n",
    "Name: 663, dtype: int64"
   ]
  },
  {
   "cell_type": "markdown",
   "id": "e5ae5618",
   "metadata": {},
   "source": [
    "nombre_infected      1092\n",
    "nombre_sain          2127\n",
    "nombre_exposed        559\n",
    "nombre_recovered    16222\n",
    "Name: 664, dtype: int64"
   ]
  },
  {
   "cell_type": "markdown",
   "id": "7eca4e2b",
   "metadata": {},
   "source": [
    "nombre_infected      1103\n",
    "nombre_sain          2117\n",
    "nombre_exposed        551\n",
    "nombre_recovered    16229\n",
    "Name: 665, dtype: int64"
   ]
  },
  {
   "cell_type": "markdown",
   "id": "f87b5899",
   "metadata": {},
   "source": [
    "nombre_infected      1085\n",
    "nombre_sain          2104\n",
    "nombre_exposed        538\n",
    "nombre_recovered    16273\n",
    "Name: 666, dtype: int64"
   ]
  },
  {
   "cell_type": "markdown",
   "id": "02c35932",
   "metadata": {},
   "source": [
    "nombre_infected      1096\n",
    "nombre_sain          2096\n",
    "nombre_exposed        552\n",
    "nombre_recovered    16256\n",
    "Name: 667, dtype: int64"
   ]
  },
  {
   "cell_type": "markdown",
   "id": "d7c6331a",
   "metadata": {},
   "source": [
    "nombre_infected      1081\n",
    "nombre_sain          2060\n",
    "nombre_exposed        566\n",
    "nombre_recovered    16293\n",
    "Name: 668, dtype: int64"
   ]
  },
  {
   "cell_type": "markdown",
   "id": "644fecfe",
   "metadata": {},
   "source": [
    "nombre_infected      1068\n",
    "nombre_sain          2047\n",
    "nombre_exposed        573\n",
    "nombre_recovered    16312\n",
    "Name: 669, dtype: int64"
   ]
  },
  {
   "cell_type": "markdown",
   "id": "c5f82d27",
   "metadata": {},
   "source": [
    "nombre_infected      1084\n",
    "nombre_sain          2040\n",
    "nombre_exposed        562\n",
    "nombre_recovered    16314\n",
    "Name: 670, dtype: int64"
   ]
  },
  {
   "cell_type": "markdown",
   "id": "889dbc90",
   "metadata": {},
   "source": [
    "nombre_infected      1068\n",
    "nombre_sain          2043\n",
    "nombre_exposed        551\n",
    "nombre_recovered    16338\n",
    "Name: 671, dtype: int64"
   ]
  },
  {
   "cell_type": "markdown",
   "id": "012f1c58",
   "metadata": {},
   "source": [
    "nombre_infected      1053\n",
    "nombre_sain          2039\n",
    "nombre_exposed        541\n",
    "nombre_recovered    16367\n",
    "Name: 672, dtype: int64"
   ]
  },
  {
   "cell_type": "markdown",
   "id": "c2ec62e2",
   "metadata": {},
   "source": [
    "nombre_infected      1056\n",
    "nombre_sain          2036\n",
    "nombre_exposed        532\n",
    "nombre_recovered    16376\n",
    "Name: 673, dtype: int64"
   ]
  },
  {
   "cell_type": "markdown",
   "id": "9d0a1a40",
   "metadata": {},
   "source": [
    "nombre_infected      1044\n",
    "nombre_sain          2031\n",
    "nombre_exposed        546\n",
    "nombre_recovered    16379\n",
    "Name: 674, dtype: int64"
   ]
  },
  {
   "cell_type": "markdown",
   "id": "8d4c6a5a",
   "metadata": {},
   "source": [
    "nombre_infected      1044\n",
    "nombre_sain          2038\n",
    "nombre_exposed        535\n",
    "nombre_recovered    16383\n",
    "Name: 675, dtype: int64"
   ]
  },
  {
   "cell_type": "markdown",
   "id": "a2bd9ef0",
   "metadata": {},
   "source": [
    "nombre_infected      1051\n",
    "nombre_sain          2059\n",
    "nombre_exposed        526\n",
    "nombre_recovered    16364\n",
    "Name: 676, dtype: int64"
   ]
  },
  {
   "cell_type": "markdown",
   "id": "4fa134ab",
   "metadata": {},
   "source": [
    "nombre_infected      1034\n",
    "nombre_sain          2079\n",
    "nombre_exposed        514\n",
    "nombre_recovered    16373\n",
    "Name: 677, dtype: int64"
   ]
  },
  {
   "cell_type": "markdown",
   "id": "7d1d27ca",
   "metadata": {},
   "source": [
    "nombre_infected      1038\n",
    "nombre_sain          2094\n",
    "nombre_exposed        491\n",
    "nombre_recovered    16377\n",
    "Name: 678, dtype: int64"
   ]
  },
  {
   "cell_type": "markdown",
   "id": "7af12416",
   "metadata": {},
   "source": [
    "nombre_infected      1011\n",
    "nombre_sain          2087\n",
    "nombre_exposed        518\n",
    "nombre_recovered    16384\n",
    "Name: 679, dtype: int64"
   ]
  },
  {
   "cell_type": "markdown",
   "id": "516002e8",
   "metadata": {},
   "source": [
    "nombre_infected      1005\n",
    "nombre_sain          2066\n",
    "nombre_exposed        518\n",
    "nombre_recovered    16411\n",
    "Name: 680, dtype: int64"
   ]
  },
  {
   "cell_type": "markdown",
   "id": "abec884a",
   "metadata": {},
   "source": [
    "nombre_infected       992\n",
    "nombre_sain          2067\n",
    "nombre_exposed        523\n",
    "nombre_recovered    16418\n",
    "Name: 681, dtype: int64"
   ]
  },
  {
   "cell_type": "markdown",
   "id": "fb83f66d",
   "metadata": {},
   "source": [
    "nombre_infected       977\n",
    "nombre_sain          2089\n",
    "nombre_exposed        505\n",
    "nombre_recovered    16429\n",
    "Name: 682, dtype: int64"
   ]
  },
  {
   "cell_type": "markdown",
   "id": "dab73adc",
   "metadata": {},
   "source": [
    "nombre_infected       985\n",
    "nombre_sain          2123\n",
    "nombre_exposed        484\n",
    "nombre_recovered    16408\n",
    "Name: 683, dtype: int64"
   ]
  },
  {
   "cell_type": "markdown",
   "id": "60e4442a",
   "metadata": {},
   "source": [
    "nombre_infected       971\n",
    "nombre_sain          2113\n",
    "nombre_exposed        504\n",
    "nombre_recovered    16412\n",
    "Name: 684, dtype: int64"
   ]
  },
  {
   "cell_type": "markdown",
   "id": "989e5dca",
   "metadata": {},
   "source": [
    "nombre_infected       960\n",
    "nombre_sain          2146\n",
    "nombre_exposed        473\n",
    "nombre_recovered    16421\n",
    "Name: 685, dtype: int64"
   ]
  },
  {
   "cell_type": "markdown",
   "id": "b57203e5",
   "metadata": {},
   "source": [
    "nombre_infected       956\n",
    "nombre_sain          2145\n",
    "nombre_exposed        483\n",
    "nombre_recovered    16416\n",
    "Name: 686, dtype: int64"
   ]
  },
  {
   "cell_type": "markdown",
   "id": "c64d5f3e",
   "metadata": {},
   "source": [
    "nombre_infected       956\n",
    "nombre_sain          2149\n",
    "nombre_exposed        481\n",
    "nombre_recovered    16414\n",
    "Name: 687, dtype: int64"
   ]
  },
  {
   "cell_type": "markdown",
   "id": "6731846a",
   "metadata": {},
   "source": [
    "nombre_infected       912\n",
    "nombre_sain          2176\n",
    "nombre_exposed        489\n",
    "nombre_recovered    16423\n",
    "Name: 688, dtype: int64"
   ]
  },
  {
   "cell_type": "markdown",
   "id": "8feb6a0f",
   "metadata": {},
   "source": [
    "nombre_infected       918\n",
    "nombre_sain          2217\n",
    "nombre_exposed        459\n",
    "nombre_recovered    16406\n",
    "Name: 689, dtype: int64"
   ]
  },
  {
   "cell_type": "markdown",
   "id": "9a84365b",
   "metadata": {},
   "source": [
    "nombre_infected       917\n",
    "nombre_sain          2221\n",
    "nombre_exposed        453\n",
    "nombre_recovered    16409\n",
    "Name: 690, dtype: int64"
   ]
  },
  {
   "cell_type": "markdown",
   "id": "a06fde7b",
   "metadata": {},
   "source": [
    "nombre_infected       938\n",
    "nombre_sain          2266\n",
    "nombre_exposed        425\n",
    "nombre_recovered    16371\n",
    "Name: 691, dtype: int64"
   ]
  },
  {
   "cell_type": "markdown",
   "id": "632ee602",
   "metadata": {},
   "source": [
    "nombre_infected       909\n",
    "nombre_sain          2258\n",
    "nombre_exposed        454\n",
    "nombre_recovered    16379\n",
    "Name: 692, dtype: int64"
   ]
  },
  {
   "cell_type": "markdown",
   "id": "7a08a67f",
   "metadata": {},
   "source": [
    "nombre_infected       889\n",
    "nombre_sain          2289\n",
    "nombre_exposed        453\n",
    "nombre_recovered    16369\n",
    "Name: 693, dtype: int64"
   ]
  },
  {
   "cell_type": "markdown",
   "id": "7c2b1c01",
   "metadata": {},
   "source": [
    "nombre_infected       874\n",
    "nombre_sain          2312\n",
    "nombre_exposed        473\n",
    "nombre_recovered    16341\n",
    "Name: 694, dtype: int64"
   ]
  },
  {
   "cell_type": "markdown",
   "id": "bdbc3d92",
   "metadata": {},
   "source": [
    "nombre_infected       858\n",
    "nombre_sain          2337\n",
    "nombre_exposed        469\n",
    "nombre_recovered    16336\n",
    "Name: 695, dtype: int64"
   ]
  },
  {
   "cell_type": "markdown",
   "id": "41bbdd2d",
   "metadata": {},
   "source": [
    "nombre_infected       875\n",
    "nombre_sain          2332\n",
    "nombre_exposed        462\n",
    "nombre_recovered    16331\n",
    "Name: 696, dtype: int64"
   ]
  },
  {
   "cell_type": "markdown",
   "id": "08af3092",
   "metadata": {},
   "source": [
    "nombre_infected       880\n",
    "nombre_sain          2312\n",
    "nombre_exposed        498\n",
    "nombre_recovered    16310\n",
    "Name: 697, dtype: int64"
   ]
  },
  {
   "cell_type": "markdown",
   "id": "097e5e89",
   "metadata": {},
   "source": [
    "nombre_infected       881\n",
    "nombre_sain          2316\n",
    "nombre_exposed        511\n",
    "nombre_recovered    16292\n",
    "Name: 698, dtype: int64"
   ]
  },
  {
   "cell_type": "markdown",
   "id": "9846a0f1",
   "metadata": {},
   "source": [
    "nombre_infected       887\n",
    "nombre_sain          2311\n",
    "nombre_exposed        495\n",
    "nombre_recovered    16307\n",
    "Name: 699, dtype: int64"
   ]
  },
  {
   "cell_type": "markdown",
   "id": "dc47abf6",
   "metadata": {},
   "source": [
    "nombre_infected       907\n",
    "nombre_sain          2315\n",
    "nombre_exposed        486\n",
    "nombre_recovered    16292\n",
    "Name: 700, dtype: int64"
   ]
  },
  {
   "cell_type": "markdown",
   "id": "f2c81329",
   "metadata": {},
   "source": [
    "nombre_infected       917\n",
    "nombre_sain          2337\n",
    "nombre_exposed        476\n",
    "nombre_recovered    16270\n",
    "Name: 701, dtype: int64"
   ]
  },
  {
   "cell_type": "markdown",
   "id": "990fc273",
   "metadata": {},
   "source": [
    "nombre_infected       918\n",
    "nombre_sain          2337\n",
    "nombre_exposed        481\n",
    "nombre_recovered    16264\n",
    "Name: 702, dtype: int64"
   ]
  },
  {
   "cell_type": "markdown",
   "id": "04e2cd15",
   "metadata": {},
   "source": [
    "nombre_infected       921\n",
    "nombre_sain          2317\n",
    "nombre_exposed        485\n",
    "nombre_recovered    16277\n",
    "Name: 703, dtype: int64"
   ]
  },
  {
   "cell_type": "markdown",
   "id": "72d03d86",
   "metadata": {},
   "source": [
    "nombre_infected       928\n",
    "nombre_sain          2311\n",
    "nombre_exposed        480\n",
    "nombre_recovered    16281\n",
    "Name: 704, dtype: int64"
   ]
  },
  {
   "cell_type": "markdown",
   "id": "a75217e4",
   "metadata": {},
   "source": [
    "nombre_infected       913\n",
    "nombre_sain          2339\n",
    "nombre_exposed        467\n",
    "nombre_recovered    16281\n",
    "Name: 705, dtype: int64"
   ]
  },
  {
   "cell_type": "markdown",
   "id": "0105a57e",
   "metadata": {},
   "source": [
    "nombre_infected       899\n",
    "nombre_sain          2326\n",
    "nombre_exposed        472\n",
    "nombre_recovered    16303\n",
    "Name: 706, dtype: int64"
   ]
  },
  {
   "cell_type": "markdown",
   "id": "ce72f1dc",
   "metadata": {},
   "source": [
    "nombre_infected       888\n",
    "nombre_sain          2300\n",
    "nombre_exposed        490\n",
    "nombre_recovered    16322\n",
    "Name: 707, dtype: int64"
   ]
  },
  {
   "cell_type": "markdown",
   "id": "a4ce99bc",
   "metadata": {},
   "source": [
    "nombre_infected       882\n",
    "nombre_sain          2324\n",
    "nombre_exposed        469\n",
    "nombre_recovered    16325\n",
    "Name: 708, dtype: int64"
   ]
  },
  {
   "cell_type": "markdown",
   "id": "1ad912fa",
   "metadata": {},
   "source": [
    "nombre_infected       895\n",
    "nombre_sain          2313\n",
    "nombre_exposed        457\n",
    "nombre_recovered    16335\n",
    "Name: 709, dtype: int64"
   ]
  },
  {
   "cell_type": "markdown",
   "id": "150d9237",
   "metadata": {},
   "source": [
    "nombre_infected       923\n",
    "nombre_sain          2298\n",
    "nombre_exposed        451\n",
    "nombre_recovered    16328\n",
    "Name: 710, dtype: int64"
   ]
  },
  {
   "cell_type": "markdown",
   "id": "b3daba9e",
   "metadata": {},
   "source": [
    "nombre_infected       909\n",
    "nombre_sain          2284\n",
    "nombre_exposed        456\n",
    "nombre_recovered    16351\n",
    "Name: 711, dtype: int64"
   ]
  },
  {
   "cell_type": "markdown",
   "id": "0e79a816",
   "metadata": {},
   "source": [
    "nombre_infected       889\n",
    "nombre_sain          2275\n",
    "nombre_exposed        482\n",
    "nombre_recovered    16354\n",
    "Name: 712, dtype: int64"
   ]
  },
  {
   "cell_type": "markdown",
   "id": "6d4862c0",
   "metadata": {},
   "source": [
    "nombre_infected       879\n",
    "nombre_sain          2271\n",
    "nombre_exposed        485\n",
    "nombre_recovered    16365\n",
    "Name: 713, dtype: int64"
   ]
  },
  {
   "cell_type": "markdown",
   "id": "85eb398e",
   "metadata": {},
   "source": [
    "nombre_infected       872\n",
    "nombre_sain          2267\n",
    "nombre_exposed        498\n",
    "nombre_recovered    16363\n",
    "Name: 714, dtype: int64"
   ]
  },
  {
   "cell_type": "markdown",
   "id": "cddaf9bd",
   "metadata": {},
   "source": [
    "nombre_infected       864\n",
    "nombre_sain          2270\n",
    "nombre_exposed        489\n",
    "nombre_recovered    16377\n",
    "Name: 715, dtype: int64"
   ]
  },
  {
   "cell_type": "markdown",
   "id": "8704dcf5",
   "metadata": {},
   "source": [
    "nombre_infected       883\n",
    "nombre_sain          2277\n",
    "nombre_exposed        487\n",
    "nombre_recovered    16353\n",
    "Name: 716, dtype: int64"
   ]
  },
  {
   "cell_type": "markdown",
   "id": "4610bc51",
   "metadata": {},
   "source": [
    "nombre_infected       878\n",
    "nombre_sain          2250\n",
    "nombre_exposed        489\n",
    "nombre_recovered    16383\n",
    "Name: 717, dtype: int64"
   ]
  },
  {
   "cell_type": "markdown",
   "id": "def1e102",
   "metadata": {},
   "source": [
    "nombre_infected       891\n",
    "nombre_sain          2257\n",
    "nombre_exposed        485\n",
    "nombre_recovered    16367\n",
    "Name: 718, dtype: int64"
   ]
  },
  {
   "cell_type": "markdown",
   "id": "b15c013c",
   "metadata": {},
   "source": [
    "nombre_infected       869\n",
    "nombre_sain          2277\n",
    "nombre_exposed        468\n",
    "nombre_recovered    16386\n",
    "Name: 719, dtype: int64"
   ]
  },
  {
   "cell_type": "markdown",
   "id": "261307c9",
   "metadata": {},
   "source": [
    "nombre_infected       868\n",
    "nombre_sain          2302\n",
    "nombre_exposed        427\n",
    "nombre_recovered    16403\n",
    "Name: 720, dtype: int64"
   ]
  },
  {
   "cell_type": "markdown",
   "id": "1f071b5d",
   "metadata": {},
   "source": [
    "nombre_infected       879\n",
    "nombre_sain          2305\n",
    "nombre_exposed        428\n",
    "nombre_recovered    16388\n",
    "Name: 721, dtype: int64"
   ]
  },
  {
   "cell_type": "markdown",
   "id": "2c211fee",
   "metadata": {},
   "source": [
    "nombre_infected       862\n",
    "nombre_sain          2314\n",
    "nombre_exposed        427\n",
    "nombre_recovered    16397\n",
    "Name: 722, dtype: int64"
   ]
  },
  {
   "cell_type": "markdown",
   "id": "99748aca",
   "metadata": {},
   "source": [
    "nombre_infected       854\n",
    "nombre_sain          2320\n",
    "nombre_exposed        428\n",
    "nombre_recovered    16398\n",
    "Name: 723, dtype: int64"
   ]
  },
  {
   "cell_type": "markdown",
   "id": "f65398bc",
   "metadata": {},
   "source": [
    "nombre_infected       835\n",
    "nombre_sain          2314\n",
    "nombre_exposed        439\n",
    "nombre_recovered    16412\n",
    "Name: 724, dtype: int64"
   ]
  },
  {
   "cell_type": "markdown",
   "id": "6c88e8a2",
   "metadata": {},
   "source": [
    "nombre_infected       811\n",
    "nombre_sain          2320\n",
    "nombre_exposed        458\n",
    "nombre_recovered    16411\n",
    "Name: 725, dtype: int64"
   ]
  },
  {
   "cell_type": "markdown",
   "id": "ed31e367",
   "metadata": {},
   "source": [
    "nombre_infected       816\n",
    "nombre_sain          2341\n",
    "nombre_exposed        443\n",
    "nombre_recovered    16400\n",
    "Name: 726, dtype: int64"
   ]
  },
  {
   "cell_type": "markdown",
   "id": "22972f4a",
   "metadata": {},
   "source": [
    "nombre_infected       828\n",
    "nombre_sain          2359\n",
    "nombre_exposed        412\n",
    "nombre_recovered    16401\n",
    "Name: 727, dtype: int64"
   ]
  },
  {
   "cell_type": "markdown",
   "id": "7371a7fd",
   "metadata": {},
   "source": [
    "nombre_infected       816\n",
    "nombre_sain          2327\n",
    "nombre_exposed        426\n",
    "nombre_recovered    16431\n",
    "Name: 728, dtype: int64"
   ]
  },
  {
   "cell_type": "markdown",
   "id": "b2adc471",
   "metadata": {},
   "source": [
    "nombre_infected       828\n",
    "nombre_sain          2324\n",
    "nombre_exposed        421\n",
    "nombre_recovered    16427\n",
    "Name: 729, dtype: int64"
   ]
  },
  {
   "cell_type": "markdown",
   "id": "5fa6cc18",
   "metadata": {},
   "source": [
    "nombre_infected       831\n",
    "nombre_sain          2329\n",
    "nombre_exposed        445\n",
    "nombre_recovered    16395\n",
    "Name: 730, dtype: int64"
   ]
  }
 ],
 "metadata": {},
 "nbformat": 4,
 "nbformat_minor": 5
}
