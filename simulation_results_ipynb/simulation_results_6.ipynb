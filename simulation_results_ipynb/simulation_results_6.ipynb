{
 "cells": [
  {
   "cell_type": "markdown",
   "id": "02c0bb47",
   "metadata": {},
   "source": [
    "nombre_infected        20\n",
    "nombre_sain         19980\n",
    "nombre_exposed          0\n",
    "nombre_recovered        0\n",
    "Name: 0, dtype: int64"
   ]
  },
  {
   "cell_type": "markdown",
   "id": "e5b1f2e3",
   "metadata": {},
   "source": [
    "nombre_infected        20\n",
    "nombre_sain         19962\n",
    "nombre_exposed         18\n",
    "nombre_recovered        0\n",
    "Name: 1, dtype: int64"
   ]
  },
  {
   "cell_type": "markdown",
   "id": "d2b8bd2f",
   "metadata": {},
   "source": [
    "nombre_infected        20\n",
    "nombre_sain         19939\n",
    "nombre_exposed         41\n",
    "nombre_recovered        0\n",
    "Name: 2, dtype: int64"
   ]
  },
  {
   "cell_type": "markdown",
   "id": "6e944976",
   "metadata": {},
   "source": [
    "nombre_infected        25\n",
    "nombre_sain         19904\n",
    "nombre_exposed         71\n",
    "nombre_recovered        0\n",
    "Name: 3, dtype: int64"
   ]
  },
  {
   "cell_type": "markdown",
   "id": "b9505bc7",
   "metadata": {},
   "source": [
    "nombre_infected        35\n",
    "nombre_sain         19865\n",
    "nombre_exposed        100\n",
    "nombre_recovered        0\n",
    "Name: 4, dtype: int64"
   ]
  },
  {
   "cell_type": "markdown",
   "id": "319ccb8e",
   "metadata": {},
   "source": [
    "nombre_infected        46\n",
    "nombre_sain         19810\n",
    "nombre_exposed        143\n",
    "nombre_recovered        1\n",
    "Name: 5, dtype: int64"
   ]
  },
  {
   "cell_type": "markdown",
   "id": "9955dc5a",
   "metadata": {},
   "source": [
    "nombre_infected        72\n",
    "nombre_sain         19737\n",
    "nombre_exposed        188\n",
    "nombre_recovered        3\n",
    "Name: 6, dtype: int64"
   ]
  },
  {
   "cell_type": "markdown",
   "id": "236f3eb9",
   "metadata": {},
   "source": [
    "nombre_infected       103\n",
    "nombre_sain         19636\n",
    "nombre_exposed        253\n",
    "nombre_recovered        8\n",
    "Name: 7, dtype: int64"
   ]
  },
  {
   "cell_type": "markdown",
   "id": "83783710",
   "metadata": {},
   "source": [
    "nombre_infected       134\n",
    "nombre_sain         19496\n",
    "nombre_exposed        351\n",
    "nombre_recovered       19\n",
    "Name: 8, dtype: int64"
   ]
  },
  {
   "cell_type": "markdown",
   "id": "a0c61271",
   "metadata": {},
   "source": [
    "nombre_infected       170\n",
    "nombre_sain         19295\n",
    "nombre_exposed        488\n",
    "nombre_recovered       47\n",
    "Name: 9, dtype: int64"
   ]
  },
  {
   "cell_type": "markdown",
   "id": "2de0dc33",
   "metadata": {},
   "source": [
    "nombre_infected       245\n",
    "nombre_sain         19051\n",
    "nombre_exposed        647\n",
    "nombre_recovered       57\n",
    "Name: 10, dtype: int64"
   ]
  },
  {
   "cell_type": "markdown",
   "id": "7e21f20f",
   "metadata": {},
   "source": [
    "nombre_infected       322\n",
    "nombre_sain         18734\n",
    "nombre_exposed        858\n",
    "nombre_recovered       86\n",
    "Name: 11, dtype: int64"
   ]
  },
  {
   "cell_type": "markdown",
   "id": "6149f0df",
   "metadata": {},
   "source": [
    "nombre_infected       452\n",
    "nombre_sain         18261\n",
    "nombre_exposed       1164\n",
    "nombre_recovered      123\n",
    "Name: 12, dtype: int64"
   ]
  },
  {
   "cell_type": "markdown",
   "id": "90e7a68a",
   "metadata": {},
   "source": [
    "nombre_infected       597\n",
    "nombre_sain         17703\n",
    "nombre_exposed       1528\n",
    "nombre_recovered      172\n",
    "Name: 13, dtype: int64"
   ]
  },
  {
   "cell_type": "markdown",
   "id": "94c550f2",
   "metadata": {},
   "source": [
    "nombre_infected       791\n",
    "nombre_sain         16964\n",
    "nombre_exposed       2007\n",
    "nombre_recovered      238\n",
    "Name: 14, dtype: int64"
   ]
  },
  {
   "cell_type": "markdown",
   "id": "3517bba6",
   "metadata": {},
   "source": [
    "nombre_infected      1069\n",
    "nombre_sain         16022\n",
    "nombre_exposed       2585\n",
    "nombre_recovered      324\n",
    "Name: 15, dtype: int64"
   ]
  },
  {
   "cell_type": "markdown",
   "id": "723080d8",
   "metadata": {},
   "source": [
    "nombre_infected      1442\n",
    "nombre_sain         14894\n",
    "nombre_exposed       3248\n",
    "nombre_recovered      416\n",
    "Name: 16, dtype: int64"
   ]
  },
  {
   "cell_type": "markdown",
   "id": "233c3ba3",
   "metadata": {},
   "source": [
    "nombre_infected      1888\n",
    "nombre_sain         13474\n",
    "nombre_exposed       4084\n",
    "nombre_recovered      554\n",
    "Name: 17, dtype: int64"
   ]
  },
  {
   "cell_type": "markdown",
   "id": "a47180da",
   "metadata": {},
   "source": [
    "nombre_infected      2436\n",
    "nombre_sain         11948\n",
    "nombre_exposed       4859\n",
    "nombre_recovered      757\n",
    "Name: 18, dtype: int64"
   ]
  },
  {
   "cell_type": "markdown",
   "id": "d810b61d",
   "metadata": {},
   "source": [
    "nombre_infected      3150\n",
    "nombre_sain         10240\n",
    "nombre_exposed       5577\n",
    "nombre_recovered     1033\n",
    "Name: 19, dtype: int64"
   ]
  },
  {
   "cell_type": "markdown",
   "id": "30074d6d",
   "metadata": {},
   "source": [
    "nombre_infected     3868\n",
    "nombre_sain         8472\n",
    "nombre_exposed      6288\n",
    "nombre_recovered    1372\n",
    "Name: 20, dtype: int64"
   ]
  },
  {
   "cell_type": "markdown",
   "id": "a641a475",
   "metadata": {},
   "source": [
    "nombre_infected     4726\n",
    "nombre_sain         6832\n",
    "nombre_exposed      6634\n",
    "nombre_recovered    1808\n",
    "Name: 21, dtype: int64"
   ]
  },
  {
   "cell_type": "markdown",
   "id": "87df6673",
   "metadata": {},
   "source": [
    "nombre_infected     5585\n",
    "nombre_sain         5320\n",
    "nombre_exposed      6751\n",
    "nombre_recovered    2344\n",
    "Name: 22, dtype: int64"
   ]
  },
  {
   "cell_type": "markdown",
   "id": "3899e568",
   "metadata": {},
   "source": [
    "nombre_infected     6535\n",
    "nombre_sain         3953\n",
    "nombre_exposed      6586\n",
    "nombre_recovered    2926\n",
    "Name: 23, dtype: int64"
   ]
  },
  {
   "cell_type": "markdown",
   "id": "c8b190b7",
   "metadata": {},
   "source": [
    "nombre_infected     7265\n",
    "nombre_sain         2823\n",
    "nombre_exposed      6228\n",
    "nombre_recovered    3684\n",
    "Name: 24, dtype: int64"
   ]
  },
  {
   "cell_type": "markdown",
   "id": "fc64b93b",
   "metadata": {},
   "source": [
    "nombre_infected     7779\n",
    "nombre_sain         1988\n",
    "nombre_exposed      5634\n",
    "nombre_recovered    4599\n",
    "Name: 25, dtype: int64"
   ]
  },
  {
   "cell_type": "markdown",
   "id": "ca891a46",
   "metadata": {},
   "source": [
    "nombre_infected     8188\n",
    "nombre_sain         1397\n",
    "nombre_exposed      4873\n",
    "nombre_recovered    5542\n",
    "Name: 26, dtype: int64"
   ]
  },
  {
   "cell_type": "markdown",
   "id": "b7a9fe43",
   "metadata": {},
   "source": [
    "nombre_infected     8397\n",
    "nombre_sain          989\n",
    "nombre_exposed      4072\n",
    "nombre_recovered    6542\n",
    "Name: 27, dtype: int64"
   ]
  },
  {
   "cell_type": "markdown",
   "id": "749217ad",
   "metadata": {},
   "source": [
    "nombre_infected     8420\n",
    "nombre_sain          702\n",
    "nombre_exposed      3356\n",
    "nombre_recovered    7522\n",
    "Name: 28, dtype: int64"
   ]
  },
  {
   "cell_type": "markdown",
   "id": "840d141d",
   "metadata": {},
   "source": [
    "nombre_infected     8224\n",
    "nombre_sain          508\n",
    "nombre_exposed      2681\n",
    "nombre_recovered    8587\n",
    "Name: 29, dtype: int64"
   ]
  },
  {
   "cell_type": "markdown",
   "id": "59754588",
   "metadata": {},
   "source": [
    "nombre_infected     7772\n",
    "nombre_sain          366\n",
    "nombre_exposed      2135\n",
    "nombre_recovered    9727\n",
    "Name: 30, dtype: int64"
   ]
  },
  {
   "cell_type": "markdown",
   "id": "70358b14",
   "metadata": {},
   "source": [
    "nombre_infected      7261\n",
    "nombre_sain           281\n",
    "nombre_exposed       1684\n",
    "nombre_recovered    10774\n",
    "Name: 31, dtype: int64"
   ]
  },
  {
   "cell_type": "markdown",
   "id": "1e166d1a",
   "metadata": {},
   "source": [
    "nombre_infected      6741\n",
    "nombre_sain           221\n",
    "nombre_exposed       1337\n",
    "nombre_recovered    11701\n",
    "Name: 32, dtype: int64"
   ]
  },
  {
   "cell_type": "markdown",
   "id": "ddaab673",
   "metadata": {},
   "source": [
    "nombre_infected      6222\n",
    "nombre_sain           201\n",
    "nombre_exposed       1037\n",
    "nombre_recovered    12540\n",
    "Name: 33, dtype: int64"
   ]
  },
  {
   "cell_type": "markdown",
   "id": "cd4e9e60",
   "metadata": {},
   "source": [
    "nombre_infected      5627\n",
    "nombre_sain           191\n",
    "nombre_exposed        832\n",
    "nombre_recovered    13350\n",
    "Name: 34, dtype: int64"
   ]
  },
  {
   "cell_type": "markdown",
   "id": "4c355dda",
   "metadata": {},
   "source": [
    "nombre_infected      5094\n",
    "nombre_sain           182\n",
    "nombre_exposed        670\n",
    "nombre_recovered    14054\n",
    "Name: 35, dtype: int64"
   ]
  },
  {
   "cell_type": "markdown",
   "id": "6e282e97",
   "metadata": {},
   "source": [
    "nombre_infected      4585\n",
    "nombre_sain           192\n",
    "nombre_exposed        527\n",
    "nombre_recovered    14696\n",
    "Name: 36, dtype: int64"
   ]
  },
  {
   "cell_type": "markdown",
   "id": "08bbe540",
   "metadata": {},
   "source": [
    "nombre_infected      4098\n",
    "nombre_sain           202\n",
    "nombre_exposed        417\n",
    "nombre_recovered    15283\n",
    "Name: 37, dtype: int64"
   ]
  },
  {
   "cell_type": "markdown",
   "id": "917bb6b6",
   "metadata": {},
   "source": [
    "nombre_infected      3637\n",
    "nombre_sain           214\n",
    "nombre_exposed        344\n",
    "nombre_recovered    15805\n",
    "Name: 38, dtype: int64"
   ]
  },
  {
   "cell_type": "markdown",
   "id": "cb19e589",
   "metadata": {},
   "source": [
    "nombre_infected      3260\n",
    "nombre_sain           220\n",
    "nombre_exposed        288\n",
    "nombre_recovered    16232\n",
    "Name: 39, dtype: int64"
   ]
  },
  {
   "cell_type": "markdown",
   "id": "b06cc48c",
   "metadata": {},
   "source": [
    "nombre_infected      2860\n",
    "nombre_sain           235\n",
    "nombre_exposed        249\n",
    "nombre_recovered    16656\n",
    "Name: 40, dtype: int64"
   ]
  },
  {
   "cell_type": "markdown",
   "id": "dcb391c7",
   "metadata": {},
   "source": [
    "nombre_infected      2542\n",
    "nombre_sain           248\n",
    "nombre_exposed        205\n",
    "nombre_recovered    17005\n",
    "Name: 41, dtype: int64"
   ]
  },
  {
   "cell_type": "markdown",
   "id": "c0428e42",
   "metadata": {},
   "source": [
    "nombre_infected      2282\n",
    "nombre_sain           258\n",
    "nombre_exposed        181\n",
    "nombre_recovered    17279\n",
    "Name: 42, dtype: int64"
   ]
  },
  {
   "cell_type": "markdown",
   "id": "9bd4ebb2",
   "metadata": {},
   "source": [
    "nombre_infected      2035\n",
    "nombre_sain           279\n",
    "nombre_exposed        162\n",
    "nombre_recovered    17524\n",
    "Name: 43, dtype: int64"
   ]
  },
  {
   "cell_type": "markdown",
   "id": "eafd800a",
   "metadata": {},
   "source": [
    "nombre_infected      1824\n",
    "nombre_sain           308\n",
    "nombre_exposed        149\n",
    "nombre_recovered    17719\n",
    "Name: 44, dtype: int64"
   ]
  },
  {
   "cell_type": "markdown",
   "id": "ef892c7b",
   "metadata": {},
   "source": [
    "nombre_infected      1670\n",
    "nombre_sain           328\n",
    "nombre_exposed        129\n",
    "nombre_recovered    17873\n",
    "Name: 45, dtype: int64"
   ]
  },
  {
   "cell_type": "markdown",
   "id": "5a02137c",
   "metadata": {},
   "source": [
    "nombre_infected      1500\n",
    "nombre_sain           351\n",
    "nombre_exposed        114\n",
    "nombre_recovered    18035\n",
    "Name: 46, dtype: int64"
   ]
  },
  {
   "cell_type": "markdown",
   "id": "38b3b978",
   "metadata": {},
   "source": [
    "nombre_infected      1349\n",
    "nombre_sain           380\n",
    "nombre_exposed        112\n",
    "nombre_recovered    18159\n",
    "Name: 47, dtype: int64"
   ]
  },
  {
   "cell_type": "markdown",
   "id": "1ec53924",
   "metadata": {},
   "source": [
    "nombre_infected      1223\n",
    "nombre_sain           418\n",
    "nombre_exposed        115\n",
    "nombre_recovered    18244\n",
    "Name: 48, dtype: int64"
   ]
  },
  {
   "cell_type": "markdown",
   "id": "7a2c5450",
   "metadata": {},
   "source": [
    "nombre_infected      1111\n",
    "nombre_sain           466\n",
    "nombre_exposed        104\n",
    "nombre_recovered    18319\n",
    "Name: 49, dtype: int64"
   ]
  },
  {
   "cell_type": "markdown",
   "id": "20bc5037",
   "metadata": {},
   "source": [
    "nombre_infected      1016\n",
    "nombre_sain           522\n",
    "nombre_exposed         98\n",
    "nombre_recovered    18364\n",
    "Name: 50, dtype: int64"
   ]
  },
  {
   "cell_type": "markdown",
   "id": "fd91254b",
   "metadata": {},
   "source": [
    "nombre_infected       910\n",
    "nombre_sain           566\n",
    "nombre_exposed        109\n",
    "nombre_recovered    18415\n",
    "Name: 51, dtype: int64"
   ]
  },
  {
   "cell_type": "markdown",
   "id": "68177922",
   "metadata": {},
   "source": [
    "nombre_infected       829\n",
    "nombre_sain           631\n",
    "nombre_exposed        104\n",
    "nombre_recovered    18436\n",
    "Name: 52, dtype: int64"
   ]
  },
  {
   "cell_type": "markdown",
   "id": "66a78b9c",
   "metadata": {},
   "source": [
    "nombre_infected       740\n",
    "nombre_sain           696\n",
    "nombre_exposed        101\n",
    "nombre_recovered    18463\n",
    "Name: 53, dtype: int64"
   ]
  },
  {
   "cell_type": "markdown",
   "id": "b4cec0cc",
   "metadata": {},
   "source": [
    "nombre_infected       684\n",
    "nombre_sain           778\n",
    "nombre_exposed         96\n",
    "nombre_recovered    18442\n",
    "Name: 54, dtype: int64"
   ]
  },
  {
   "cell_type": "markdown",
   "id": "d7ab8f01",
   "metadata": {},
   "source": [
    "nombre_infected       616\n",
    "nombre_sain           826\n",
    "nombre_exposed        107\n",
    "nombre_recovered    18451\n",
    "Name: 55, dtype: int64"
   ]
  },
  {
   "cell_type": "markdown",
   "id": "35a8a25b",
   "metadata": {},
   "source": [
    "nombre_infected       547\n",
    "nombre_sain           899\n",
    "nombre_exposed        115\n",
    "nombre_recovered    18439\n",
    "Name: 56, dtype: int64"
   ]
  },
  {
   "cell_type": "markdown",
   "id": "b507ca82",
   "metadata": {},
   "source": [
    "nombre_infected       497\n",
    "nombre_sain           973\n",
    "nombre_exposed        107\n",
    "nombre_recovered    18423\n",
    "Name: 57, dtype: int64"
   ]
  },
  {
   "cell_type": "markdown",
   "id": "56898665",
   "metadata": {},
   "source": [
    "nombre_infected       453\n",
    "nombre_sain          1040\n",
    "nombre_exposed        102\n",
    "nombre_recovered    18405\n",
    "Name: 58, dtype: int64"
   ]
  },
  {
   "cell_type": "markdown",
   "id": "04f58e26",
   "metadata": {},
   "source": [
    "nombre_infected       399\n",
    "nombre_sain          1119\n",
    "nombre_exposed         95\n",
    "nombre_recovered    18387\n",
    "Name: 59, dtype: int64"
   ]
  },
  {
   "cell_type": "markdown",
   "id": "8abfc532",
   "metadata": {},
   "source": [
    "nombre_infected       354\n",
    "nombre_sain          1178\n",
    "nombre_exposed         99\n",
    "nombre_recovered    18369\n",
    "Name: 60, dtype: int64"
   ]
  },
  {
   "cell_type": "markdown",
   "id": "8768b5f3",
   "metadata": {},
   "source": [
    "nombre_infected       310\n",
    "nombre_sain          1242\n",
    "nombre_exposed         99\n",
    "nombre_recovered    18349\n",
    "Name: 61, dtype: int64"
   ]
  },
  {
   "cell_type": "markdown",
   "id": "6f2fdc30",
   "metadata": {},
   "source": [
    "nombre_infected       272\n",
    "nombre_sain          1297\n",
    "nombre_exposed         97\n",
    "nombre_recovered    18334\n",
    "Name: 62, dtype: int64"
   ]
  },
  {
   "cell_type": "markdown",
   "id": "448b10c0",
   "metadata": {},
   "source": [
    "nombre_infected       229\n",
    "nombre_sain          1368\n",
    "nombre_exposed         93\n",
    "nombre_recovered    18310\n",
    "Name: 63, dtype: int64"
   ]
  },
  {
   "cell_type": "markdown",
   "id": "3184143b",
   "metadata": {},
   "source": [
    "nombre_infected       210\n",
    "nombre_sain          1423\n",
    "nombre_exposed         79\n",
    "nombre_recovered    18288\n",
    "Name: 64, dtype: int64"
   ]
  },
  {
   "cell_type": "markdown",
   "id": "8b1a2ebb",
   "metadata": {},
   "source": [
    "nombre_infected       191\n",
    "nombre_sain          1493\n",
    "nombre_exposed         65\n",
    "nombre_recovered    18251\n",
    "Name: 65, dtype: int64"
   ]
  },
  {
   "cell_type": "markdown",
   "id": "fc7892d8",
   "metadata": {},
   "source": [
    "nombre_infected       177\n",
    "nombre_sain          1566\n",
    "nombre_exposed         61\n",
    "nombre_recovered    18196\n",
    "Name: 66, dtype: int64"
   ]
  },
  {
   "cell_type": "markdown",
   "id": "0c0af1d1",
   "metadata": {},
   "source": [
    "nombre_infected       159\n",
    "nombre_sain          1630\n",
    "nombre_exposed         62\n",
    "nombre_recovered    18149\n",
    "Name: 67, dtype: int64"
   ]
  },
  {
   "cell_type": "markdown",
   "id": "3fd673d3",
   "metadata": {},
   "source": [
    "nombre_infected       136\n",
    "nombre_sain          1688\n",
    "nombre_exposed         65\n",
    "nombre_recovered    18111\n",
    "Name: 68, dtype: int64"
   ]
  },
  {
   "cell_type": "markdown",
   "id": "6c853412",
   "metadata": {},
   "source": [
    "nombre_infected       133\n",
    "nombre_sain          1751\n",
    "nombre_exposed         55\n",
    "nombre_recovered    18061\n",
    "Name: 69, dtype: int64"
   ]
  },
  {
   "cell_type": "markdown",
   "id": "7000a0ea",
   "metadata": {},
   "source": [
    "nombre_infected       117\n",
    "nombre_sain          1824\n",
    "nombre_exposed         51\n",
    "nombre_recovered    18008\n",
    "Name: 70, dtype: int64"
   ]
  },
  {
   "cell_type": "markdown",
   "id": "4bddf399",
   "metadata": {},
   "source": [
    "nombre_infected        97\n",
    "nombre_sain          1885\n",
    "nombre_exposed         54\n",
    "nombre_recovered    17964\n",
    "Name: 71, dtype: int64"
   ]
  },
  {
   "cell_type": "markdown",
   "id": "cb82b4bc",
   "metadata": {},
   "source": [
    "nombre_infected        82\n",
    "nombre_sain          1943\n",
    "nombre_exposed         52\n",
    "nombre_recovered    17923\n",
    "Name: 72, dtype: int64"
   ]
  },
  {
   "cell_type": "markdown",
   "id": "c20605e6",
   "metadata": {},
   "source": [
    "nombre_infected        84\n",
    "nombre_sain          1992\n",
    "nombre_exposed         50\n",
    "nombre_recovered    17874\n",
    "Name: 73, dtype: int64"
   ]
  },
  {
   "cell_type": "markdown",
   "id": "4671e961",
   "metadata": {},
   "source": [
    "nombre_infected        80\n",
    "nombre_sain          2049\n",
    "nombre_exposed         42\n",
    "nombre_recovered    17829\n",
    "Name: 74, dtype: int64"
   ]
  },
  {
   "cell_type": "markdown",
   "id": "686fa88b",
   "metadata": {},
   "source": [
    "nombre_infected        75\n",
    "nombre_sain          2111\n",
    "nombre_exposed         39\n",
    "nombre_recovered    17775\n",
    "Name: 75, dtype: int64"
   ]
  },
  {
   "cell_type": "markdown",
   "id": "43acdc9f",
   "metadata": {},
   "source": [
    "nombre_infected        73\n",
    "nombre_sain          2191\n",
    "nombre_exposed         38\n",
    "nombre_recovered    17698\n",
    "Name: 76, dtype: int64"
   ]
  },
  {
   "cell_type": "markdown",
   "id": "988457e0",
   "metadata": {},
   "source": [
    "nombre_infected        77\n",
    "nombre_sain          2234\n",
    "nombre_exposed         34\n",
    "nombre_recovered    17655\n",
    "Name: 77, dtype: int64"
   ]
  },
  {
   "cell_type": "markdown",
   "id": "46e03300",
   "metadata": {},
   "source": [
    "nombre_infected        68\n",
    "nombre_sain          2284\n",
    "nombre_exposed         33\n",
    "nombre_recovered    17615\n",
    "Name: 78, dtype: int64"
   ]
  },
  {
   "cell_type": "markdown",
   "id": "55971dae",
   "metadata": {},
   "source": [
    "nombre_infected        72\n",
    "nombre_sain          2329\n",
    "nombre_exposed         27\n",
    "nombre_recovered    17572\n",
    "Name: 79, dtype: int64"
   ]
  },
  {
   "cell_type": "markdown",
   "id": "eeb2ce85",
   "metadata": {},
   "source": [
    "nombre_infected        68\n",
    "nombre_sain          2381\n",
    "nombre_exposed         33\n",
    "nombre_recovered    17518\n",
    "Name: 80, dtype: int64"
   ]
  },
  {
   "cell_type": "markdown",
   "id": "b2b4a548",
   "metadata": {},
   "source": [
    "nombre_infected        65\n",
    "nombre_sain          2450\n",
    "nombre_exposed         32\n",
    "nombre_recovered    17453\n",
    "Name: 81, dtype: int64"
   ]
  },
  {
   "cell_type": "markdown",
   "id": "7704e9c5",
   "metadata": {},
   "source": [
    "nombre_infected        60\n",
    "nombre_sain          2515\n",
    "nombre_exposed         31\n",
    "nombre_recovered    17394\n",
    "Name: 82, dtype: int64"
   ]
  },
  {
   "cell_type": "markdown",
   "id": "c6b0769e",
   "metadata": {},
   "source": [
    "nombre_infected        53\n",
    "nombre_sain          2567\n",
    "nombre_exposed         37\n",
    "nombre_recovered    17343\n",
    "Name: 83, dtype: int64"
   ]
  },
  {
   "cell_type": "markdown",
   "id": "50b3c622",
   "metadata": {},
   "source": [
    "nombre_infected        49\n",
    "nombre_sain          2618\n",
    "nombre_exposed         45\n",
    "nombre_recovered    17288\n",
    "Name: 84, dtype: int64"
   ]
  },
  {
   "cell_type": "markdown",
   "id": "21450c5d",
   "metadata": {},
   "source": [
    "nombre_infected        50\n",
    "nombre_sain          2687\n",
    "nombre_exposed         41\n",
    "nombre_recovered    17222\n",
    "Name: 85, dtype: int64"
   ]
  },
  {
   "cell_type": "markdown",
   "id": "7befbdc8",
   "metadata": {},
   "source": [
    "nombre_infected        48\n",
    "nombre_sain          2768\n",
    "nombre_exposed         39\n",
    "nombre_recovered    17145\n",
    "Name: 86, dtype: int64"
   ]
  },
  {
   "cell_type": "markdown",
   "id": "59b51986",
   "metadata": {},
   "source": [
    "nombre_infected        47\n",
    "nombre_sain          2838\n",
    "nombre_exposed         38\n",
    "nombre_recovered    17077\n",
    "Name: 87, dtype: int64"
   ]
  },
  {
   "cell_type": "markdown",
   "id": "3b119c41",
   "metadata": {},
   "source": [
    "nombre_infected        54\n",
    "nombre_sain          2881\n",
    "nombre_exposed         37\n",
    "nombre_recovered    17028\n",
    "Name: 88, dtype: int64"
   ]
  },
  {
   "cell_type": "markdown",
   "id": "4aae4c64",
   "metadata": {},
   "source": [
    "nombre_infected        51\n",
    "nombre_sain          2927\n",
    "nombre_exposed         46\n",
    "nombre_recovered    16976\n",
    "Name: 89, dtype: int64"
   ]
  },
  {
   "cell_type": "markdown",
   "id": "8fb48a7e",
   "metadata": {},
   "source": [
    "nombre_infected        57\n",
    "nombre_sain          2973\n",
    "nombre_exposed         44\n",
    "nombre_recovered    16926\n",
    "Name: 90, dtype: int64"
   ]
  },
  {
   "cell_type": "markdown",
   "id": "054b0f98",
   "metadata": {},
   "source": [
    "nombre_infected        55\n",
    "nombre_sain          3001\n",
    "nombre_exposed         45\n",
    "nombre_recovered    16899\n",
    "Name: 91, dtype: int64"
   ]
  },
  {
   "cell_type": "markdown",
   "id": "6b432742",
   "metadata": {},
   "source": [
    "nombre_infected        52\n",
    "nombre_sain          3046\n",
    "nombre_exposed         46\n",
    "nombre_recovered    16856\n",
    "Name: 92, dtype: int64"
   ]
  },
  {
   "cell_type": "markdown",
   "id": "e2f2617c",
   "metadata": {},
   "source": [
    "nombre_infected        51\n",
    "nombre_sain          3076\n",
    "nombre_exposed         59\n",
    "nombre_recovered    16814\n",
    "Name: 93, dtype: int64"
   ]
  },
  {
   "cell_type": "markdown",
   "id": "4fba413c",
   "metadata": {},
   "source": [
    "nombre_infected        50\n",
    "nombre_sain          3140\n",
    "nombre_exposed         57\n",
    "nombre_recovered    16753\n",
    "Name: 94, dtype: int64"
   ]
  },
  {
   "cell_type": "markdown",
   "id": "afda6c00",
   "metadata": {},
   "source": [
    "nombre_infected        54\n",
    "nombre_sain          3198\n",
    "nombre_exposed         50\n",
    "nombre_recovered    16698\n",
    "Name: 95, dtype: int64"
   ]
  },
  {
   "cell_type": "markdown",
   "id": "3c4a2203",
   "metadata": {},
   "source": [
    "nombre_infected        59\n",
    "nombre_sain          3277\n",
    "nombre_exposed         42\n",
    "nombre_recovered    16622\n",
    "Name: 96, dtype: int64"
   ]
  },
  {
   "cell_type": "markdown",
   "id": "05cdfbd2",
   "metadata": {},
   "source": [
    "nombre_infected        57\n",
    "nombre_sain          3320\n",
    "nombre_exposed         41\n",
    "nombre_recovered    16582\n",
    "Name: 97, dtype: int64"
   ]
  },
  {
   "cell_type": "markdown",
   "id": "784f4298",
   "metadata": {},
   "source": [
    "nombre_infected        55\n",
    "nombre_sain          3393\n",
    "nombre_exposed         45\n",
    "nombre_recovered    16507\n",
    "Name: 98, dtype: int64"
   ]
  },
  {
   "cell_type": "markdown",
   "id": "50a359f8",
   "metadata": {},
   "source": [
    "nombre_infected        54\n",
    "nombre_sain          3454\n",
    "nombre_exposed         40\n",
    "nombre_recovered    16452\n",
    "Name: 99, dtype: int64"
   ]
  },
  {
   "cell_type": "markdown",
   "id": "228d1475",
   "metadata": {},
   "source": [
    "nombre_infected        59\n",
    "nombre_sain          3515\n",
    "nombre_exposed         37\n",
    "nombre_recovered    16389\n",
    "Name: 100, dtype: int64"
   ]
  },
  {
   "cell_type": "markdown",
   "id": "3a59e8c1",
   "metadata": {},
   "source": [
    "nombre_infected        58\n",
    "nombre_sain          3588\n",
    "nombre_exposed         42\n",
    "nombre_recovered    16312\n",
    "Name: 101, dtype: int64"
   ]
  },
  {
   "cell_type": "markdown",
   "id": "9f6b50e4",
   "metadata": {},
   "source": [
    "nombre_infected        60\n",
    "nombre_sain          3655\n",
    "nombre_exposed         43\n",
    "nombre_recovered    16242\n",
    "Name: 102, dtype: int64"
   ]
  },
  {
   "cell_type": "markdown",
   "id": "45763e84",
   "metadata": {},
   "source": [
    "nombre_infected        57\n",
    "nombre_sain          3704\n",
    "nombre_exposed         52\n",
    "nombre_recovered    16187\n",
    "Name: 103, dtype: int64"
   ]
  },
  {
   "cell_type": "markdown",
   "id": "5243866d",
   "metadata": {},
   "source": [
    "nombre_infected        60\n",
    "nombre_sain          3758\n",
    "nombre_exposed         57\n",
    "nombre_recovered    16125\n",
    "Name: 104, dtype: int64"
   ]
  },
  {
   "cell_type": "markdown",
   "id": "92b17fc0",
   "metadata": {},
   "source": [
    "nombre_infected        60\n",
    "nombre_sain          3812\n",
    "nombre_exposed         62\n",
    "nombre_recovered    16066\n",
    "Name: 105, dtype: int64"
   ]
  },
  {
   "cell_type": "markdown",
   "id": "f10b7093",
   "metadata": {},
   "source": [
    "nombre_infected        56\n",
    "nombre_sain          3865\n",
    "nombre_exposed         70\n",
    "nombre_recovered    16009\n",
    "Name: 106, dtype: int64"
   ]
  },
  {
   "cell_type": "markdown",
   "id": "b94096f7",
   "metadata": {},
   "source": [
    "nombre_infected        64\n",
    "nombre_sain          3907\n",
    "nombre_exposed         75\n",
    "nombre_recovered    15954\n",
    "Name: 107, dtype: int64"
   ]
  },
  {
   "cell_type": "markdown",
   "id": "b787d393",
   "metadata": {},
   "source": [
    "nombre_infected        70\n",
    "nombre_sain          3981\n",
    "nombre_exposed         68\n",
    "nombre_recovered    15881\n",
    "Name: 108, dtype: int64"
   ]
  },
  {
   "cell_type": "markdown",
   "id": "66467faa",
   "metadata": {},
   "source": [
    "nombre_infected        72\n",
    "nombre_sain          4028\n",
    "nombre_exposed         74\n",
    "nombre_recovered    15826\n",
    "Name: 109, dtype: int64"
   ]
  },
  {
   "cell_type": "markdown",
   "id": "4fb7bdf5",
   "metadata": {},
   "source": [
    "nombre_infected        78\n",
    "nombre_sain          4077\n",
    "nombre_exposed         78\n",
    "nombre_recovered    15767\n",
    "Name: 110, dtype: int64"
   ]
  },
  {
   "cell_type": "markdown",
   "id": "7cc4fd41",
   "metadata": {},
   "source": [
    "nombre_infected        82\n",
    "nombre_sain          4130\n",
    "nombre_exposed         74\n",
    "nombre_recovered    15714\n",
    "Name: 111, dtype: int64"
   ]
  },
  {
   "cell_type": "markdown",
   "id": "e071ec40",
   "metadata": {},
   "source": [
    "nombre_infected        84\n",
    "nombre_sain          4198\n",
    "nombre_exposed         73\n",
    "nombre_recovered    15645\n",
    "Name: 112, dtype: int64"
   ]
  },
  {
   "cell_type": "markdown",
   "id": "0e76654e",
   "metadata": {},
   "source": [
    "nombre_infected        96\n",
    "nombre_sain          4267\n",
    "nombre_exposed         68\n",
    "nombre_recovered    15569\n",
    "Name: 113, dtype: int64"
   ]
  },
  {
   "cell_type": "markdown",
   "id": "8b0cf25a",
   "metadata": {},
   "source": [
    "nombre_infected        93\n",
    "nombre_sain          4332\n",
    "nombre_exposed         73\n",
    "nombre_recovered    15502\n",
    "Name: 114, dtype: int64"
   ]
  },
  {
   "cell_type": "markdown",
   "id": "dfc30b12",
   "metadata": {},
   "source": [
    "nombre_infected        94\n",
    "nombre_sain          4370\n",
    "nombre_exposed         82\n",
    "nombre_recovered    15454\n",
    "Name: 115, dtype: int64"
   ]
  },
  {
   "cell_type": "markdown",
   "id": "d7d4465e",
   "metadata": {},
   "source": [
    "nombre_infected        90\n",
    "nombre_sain          4410\n",
    "nombre_exposed         98\n",
    "nombre_recovered    15402\n",
    "Name: 116, dtype: int64"
   ]
  },
  {
   "cell_type": "markdown",
   "id": "b5d0b248",
   "metadata": {},
   "source": [
    "nombre_infected        95\n",
    "nombre_sain          4465\n",
    "nombre_exposed         98\n",
    "nombre_recovered    15342\n",
    "Name: 117, dtype: int64"
   ]
  },
  {
   "cell_type": "markdown",
   "id": "20ad54cd",
   "metadata": {},
   "source": [
    "nombre_infected        92\n",
    "nombre_sain          4494\n",
    "nombre_exposed        108\n",
    "nombre_recovered    15306\n",
    "Name: 118, dtype: int64"
   ]
  },
  {
   "cell_type": "markdown",
   "id": "f3351195",
   "metadata": {},
   "source": [
    "nombre_infected       103\n",
    "nombre_sain          4530\n",
    "nombre_exposed        109\n",
    "nombre_recovered    15258\n",
    "Name: 119, dtype: int64"
   ]
  },
  {
   "cell_type": "markdown",
   "id": "93399ef8",
   "metadata": {},
   "source": [
    "nombre_infected       120\n",
    "nombre_sain          4564\n",
    "nombre_exposed        114\n",
    "nombre_recovered    15202\n",
    "Name: 120, dtype: int64"
   ]
  },
  {
   "cell_type": "markdown",
   "id": "f2aa1e90",
   "metadata": {},
   "source": [
    "nombre_infected       127\n",
    "nombre_sain          4585\n",
    "nombre_exposed        123\n",
    "nombre_recovered    15165\n",
    "Name: 121, dtype: int64"
   ]
  },
  {
   "cell_type": "markdown",
   "id": "d823b565",
   "metadata": {},
   "source": [
    "nombre_infected       134\n",
    "nombre_sain          4606\n",
    "nombre_exposed        129\n",
    "nombre_recovered    15131\n",
    "Name: 122, dtype: int64"
   ]
  },
  {
   "cell_type": "markdown",
   "id": "5b1781f1",
   "metadata": {},
   "source": [
    "nombre_infected       144\n",
    "nombre_sain          4640\n",
    "nombre_exposed        128\n",
    "nombre_recovered    15088\n",
    "Name: 123, dtype: int64"
   ]
  },
  {
   "cell_type": "markdown",
   "id": "fd7d7d9e",
   "metadata": {},
   "source": [
    "nombre_infected       149\n",
    "nombre_sain          4655\n",
    "nombre_exposed        137\n",
    "nombre_recovered    15059\n",
    "Name: 124, dtype: int64"
   ]
  },
  {
   "cell_type": "markdown",
   "id": "b70469b9",
   "metadata": {},
   "source": [
    "nombre_infected       158\n",
    "nombre_sain          4676\n",
    "nombre_exposed        142\n",
    "nombre_recovered    15024\n",
    "Name: 125, dtype: int64"
   ]
  },
  {
   "cell_type": "markdown",
   "id": "9a5cdd8e",
   "metadata": {},
   "source": [
    "nombre_infected       180\n",
    "nombre_sain          4688\n",
    "nombre_exposed        154\n",
    "nombre_recovered    14978\n",
    "Name: 126, dtype: int64"
   ]
  },
  {
   "cell_type": "markdown",
   "id": "52c39fba",
   "metadata": {},
   "source": [
    "nombre_infected       181\n",
    "nombre_sain          4680\n",
    "nombre_exposed        179\n",
    "nombre_recovered    14960\n",
    "Name: 127, dtype: int64"
   ]
  },
  {
   "cell_type": "markdown",
   "id": "1ed9d396",
   "metadata": {},
   "source": [
    "nombre_infected       179\n",
    "nombre_sain          4697\n",
    "nombre_exposed        204\n",
    "nombre_recovered    14920\n",
    "Name: 128, dtype: int64"
   ]
  },
  {
   "cell_type": "markdown",
   "id": "198f282c",
   "metadata": {},
   "source": [
    "nombre_infected       193\n",
    "nombre_sain          4691\n",
    "nombre_exposed        235\n",
    "nombre_recovered    14881\n",
    "Name: 129, dtype: int64"
   ]
  },
  {
   "cell_type": "markdown",
   "id": "6aedb445",
   "metadata": {},
   "source": [
    "nombre_infected       205\n",
    "nombre_sain          4690\n",
    "nombre_exposed        253\n",
    "nombre_recovered    14852\n",
    "Name: 130, dtype: int64"
   ]
  },
  {
   "cell_type": "markdown",
   "id": "9cbdd84a",
   "metadata": {},
   "source": [
    "nombre_infected       245\n",
    "nombre_sain          4709\n",
    "nombre_exposed        248\n",
    "nombre_recovered    14798\n",
    "Name: 131, dtype: int64"
   ]
  },
  {
   "cell_type": "markdown",
   "id": "af43d4fe",
   "metadata": {},
   "source": [
    "nombre_infected       267\n",
    "nombre_sain          4695\n",
    "nombre_exposed        274\n",
    "nombre_recovered    14764\n",
    "Name: 132, dtype: int64"
   ]
  },
  {
   "cell_type": "markdown",
   "id": "93149f64",
   "metadata": {},
   "source": [
    "nombre_infected       294\n",
    "nombre_sain          4661\n",
    "nombre_exposed        295\n",
    "nombre_recovered    14750\n",
    "Name: 133, dtype: int64"
   ]
  },
  {
   "cell_type": "markdown",
   "id": "2a9f2300",
   "metadata": {},
   "source": [
    "nombre_infected       318\n",
    "nombre_sain          4625\n",
    "nombre_exposed        324\n",
    "nombre_recovered    14733\n",
    "Name: 134, dtype: int64"
   ]
  },
  {
   "cell_type": "markdown",
   "id": "3e232311",
   "metadata": {},
   "source": [
    "nombre_infected       328\n",
    "nombre_sain          4581\n",
    "nombre_exposed        355\n",
    "nombre_recovered    14736\n",
    "Name: 135, dtype: int64"
   ]
  },
  {
   "cell_type": "markdown",
   "id": "c73d1338",
   "metadata": {},
   "source": [
    "nombre_infected       351\n",
    "nombre_sain          4527\n",
    "nombre_exposed        373\n",
    "nombre_recovered    14749\n",
    "Name: 136, dtype: int64"
   ]
  },
  {
   "cell_type": "markdown",
   "id": "1da13428",
   "metadata": {},
   "source": [
    "nombre_infected       371\n",
    "nombre_sain          4482\n",
    "nombre_exposed        392\n",
    "nombre_recovered    14755\n",
    "Name: 137, dtype: int64"
   ]
  },
  {
   "cell_type": "markdown",
   "id": "89b6c706",
   "metadata": {},
   "source": [
    "nombre_infected       379\n",
    "nombre_sain          4449\n",
    "nombre_exposed        411\n",
    "nombre_recovered    14761\n",
    "Name: 138, dtype: int64"
   ]
  },
  {
   "cell_type": "markdown",
   "id": "85f44402",
   "metadata": {},
   "source": [
    "nombre_infected       400\n",
    "nombre_sain          4405\n",
    "nombre_exposed        414\n",
    "nombre_recovered    14781\n",
    "Name: 139, dtype: int64"
   ]
  },
  {
   "cell_type": "markdown",
   "id": "1c19fd11",
   "metadata": {},
   "source": [
    "nombre_infected       446\n",
    "nombre_sain          4322\n",
    "nombre_exposed        437\n",
    "nombre_recovered    14795\n",
    "Name: 140, dtype: int64"
   ]
  },
  {
   "cell_type": "markdown",
   "id": "36f4441a",
   "metadata": {},
   "source": [
    "nombre_infected       483\n",
    "nombre_sain          4240\n",
    "nombre_exposed        470\n",
    "nombre_recovered    14807\n",
    "Name: 141, dtype: int64"
   ]
  },
  {
   "cell_type": "markdown",
   "id": "d75a0c8e",
   "metadata": {},
   "source": [
    "nombre_infected       525\n",
    "nombre_sain          4163\n",
    "nombre_exposed        497\n",
    "nombre_recovered    14815\n",
    "Name: 142, dtype: int64"
   ]
  },
  {
   "cell_type": "markdown",
   "id": "0a994403",
   "metadata": {},
   "source": [
    "nombre_infected       580\n",
    "nombre_sain          4070\n",
    "nombre_exposed        519\n",
    "nombre_recovered    14831\n",
    "Name: 143, dtype: int64"
   ]
  },
  {
   "cell_type": "markdown",
   "id": "e0ce5b0f",
   "metadata": {},
   "source": [
    "nombre_infected       622\n",
    "nombre_sain          3972\n",
    "nombre_exposed        538\n",
    "nombre_recovered    14868\n",
    "Name: 144, dtype: int64"
   ]
  },
  {
   "cell_type": "markdown",
   "id": "aecbf895",
   "metadata": {},
   "source": [
    "nombre_infected       667\n",
    "nombre_sain          3864\n",
    "nombre_exposed        560\n",
    "nombre_recovered    14909\n",
    "Name: 145, dtype: int64"
   ]
  },
  {
   "cell_type": "markdown",
   "id": "2c3564f8",
   "metadata": {},
   "source": [
    "nombre_infected       683\n",
    "nombre_sain          3735\n",
    "nombre_exposed        617\n",
    "nombre_recovered    14965\n",
    "Name: 146, dtype: int64"
   ]
  },
  {
   "cell_type": "markdown",
   "id": "450967a8",
   "metadata": {},
   "source": [
    "nombre_infected       716\n",
    "nombre_sain          3629\n",
    "nombre_exposed        624\n",
    "nombre_recovered    15031\n",
    "Name: 147, dtype: int64"
   ]
  },
  {
   "cell_type": "markdown",
   "id": "4522af65",
   "metadata": {},
   "source": [
    "nombre_infected       746\n",
    "nombre_sain          3516\n",
    "nombre_exposed        637\n",
    "nombre_recovered    15101\n",
    "Name: 148, dtype: int64"
   ]
  },
  {
   "cell_type": "markdown",
   "id": "1920e0a9",
   "metadata": {},
   "source": [
    "nombre_infected       775\n",
    "nombre_sain          3421\n",
    "nombre_exposed        642\n",
    "nombre_recovered    15162\n",
    "Name: 149, dtype: int64"
   ]
  },
  {
   "cell_type": "markdown",
   "id": "979439cf",
   "metadata": {},
   "source": [
    "nombre_infected       792\n",
    "nombre_sain          3290\n",
    "nombre_exposed        680\n",
    "nombre_recovered    15238\n",
    "Name: 150, dtype: int64"
   ]
  },
  {
   "cell_type": "markdown",
   "id": "998d6cc0",
   "metadata": {},
   "source": [
    "nombre_infected       823\n",
    "nombre_sain          3167\n",
    "nombre_exposed        712\n",
    "nombre_recovered    15298\n",
    "Name: 151, dtype: int64"
   ]
  },
  {
   "cell_type": "markdown",
   "id": "e365d1a8",
   "metadata": {},
   "source": [
    "nombre_infected       871\n",
    "nombre_sain          3044\n",
    "nombre_exposed        694\n",
    "nombre_recovered    15391\n",
    "Name: 152, dtype: int64"
   ]
  },
  {
   "cell_type": "markdown",
   "id": "5babf13b",
   "metadata": {},
   "source": [
    "nombre_infected       914\n",
    "nombre_sain          2934\n",
    "nombre_exposed        697\n",
    "nombre_recovered    15455\n",
    "Name: 153, dtype: int64"
   ]
  },
  {
   "cell_type": "markdown",
   "id": "4bf9c2f7",
   "metadata": {},
   "source": [
    "nombre_infected       938\n",
    "nombre_sain          2794\n",
    "nombre_exposed        724\n",
    "nombre_recovered    15544\n",
    "Name: 154, dtype: int64"
   ]
  },
  {
   "cell_type": "markdown",
   "id": "0654e582",
   "metadata": {},
   "source": [
    "nombre_infected       949\n",
    "nombre_sain          2681\n",
    "nombre_exposed        732\n",
    "nombre_recovered    15638\n",
    "Name: 155, dtype: int64"
   ]
  },
  {
   "cell_type": "markdown",
   "id": "d720b563",
   "metadata": {},
   "source": [
    "nombre_infected       963\n",
    "nombre_sain          2588\n",
    "nombre_exposed        701\n",
    "nombre_recovered    15748\n",
    "Name: 156, dtype: int64"
   ]
  },
  {
   "cell_type": "markdown",
   "id": "919c5283",
   "metadata": {},
   "source": [
    "nombre_infected      1012\n",
    "nombre_sain          2464\n",
    "nombre_exposed        695\n",
    "nombre_recovered    15829\n",
    "Name: 157, dtype: int64"
   ]
  },
  {
   "cell_type": "markdown",
   "id": "052aa201",
   "metadata": {},
   "source": [
    "nombre_infected      1035\n",
    "nombre_sain          2355\n",
    "nombre_exposed        699\n",
    "nombre_recovered    15911\n",
    "Name: 158, dtype: int64"
   ]
  },
  {
   "cell_type": "markdown",
   "id": "67e69a14",
   "metadata": {},
   "source": [
    "nombre_infected      1022\n",
    "nombre_sain          2271\n",
    "nombre_exposed        691\n",
    "nombre_recovered    16016\n",
    "Name: 159, dtype: int64"
   ]
  },
  {
   "cell_type": "markdown",
   "id": "0985f223",
   "metadata": {},
   "source": [
    "nombre_infected      1048\n",
    "nombre_sain          2178\n",
    "nombre_exposed        669\n",
    "nombre_recovered    16105\n",
    "Name: 160, dtype: int64"
   ]
  },
  {
   "cell_type": "markdown",
   "id": "bb1a7cb1",
   "metadata": {},
   "source": [
    "nombre_infected      1082\n",
    "nombre_sain          2053\n",
    "nombre_exposed        643\n",
    "nombre_recovered    16222\n",
    "Name: 161, dtype: int64"
   ]
  },
  {
   "cell_type": "markdown",
   "id": "39bb863a",
   "metadata": {},
   "source": [
    "nombre_infected      1079\n",
    "nombre_sain          1956\n",
    "nombre_exposed        648\n",
    "nombre_recovered    16317\n",
    "Name: 162, dtype: int64"
   ]
  },
  {
   "cell_type": "markdown",
   "id": "1cb5cb6d",
   "metadata": {},
   "source": [
    "nombre_infected      1060\n",
    "nombre_sain          1899\n",
    "nombre_exposed        622\n",
    "nombre_recovered    16419\n",
    "Name: 163, dtype: int64"
   ]
  },
  {
   "cell_type": "markdown",
   "id": "05d7bf2d",
   "metadata": {},
   "source": [
    "nombre_infected      1020\n",
    "nombre_sain          1848\n",
    "nombre_exposed        612\n",
    "nombre_recovered    16520\n",
    "Name: 164, dtype: int64"
   ]
  },
  {
   "cell_type": "markdown",
   "id": "a811356b",
   "metadata": {},
   "source": [
    "nombre_infected      1011\n",
    "nombre_sain          1797\n",
    "nombre_exposed        604\n",
    "nombre_recovered    16588\n",
    "Name: 165, dtype: int64"
   ]
  },
  {
   "cell_type": "markdown",
   "id": "5afe78cf",
   "metadata": {},
   "source": [
    "nombre_infected      1005\n",
    "nombre_sain          1772\n",
    "nombre_exposed        567\n",
    "nombre_recovered    16656\n",
    "Name: 166, dtype: int64"
   ]
  },
  {
   "cell_type": "markdown",
   "id": "f4b4cb6f",
   "metadata": {},
   "source": [
    "nombre_infected      1010\n",
    "nombre_sain          1752\n",
    "nombre_exposed        528\n",
    "nombre_recovered    16710\n",
    "Name: 167, dtype: int64"
   ]
  },
  {
   "cell_type": "markdown",
   "id": "9b9d88c2",
   "metadata": {},
   "source": [
    "nombre_infected      1007\n",
    "nombre_sain          1741\n",
    "nombre_exposed        484\n",
    "nombre_recovered    16768\n",
    "Name: 168, dtype: int64"
   ]
  },
  {
   "cell_type": "markdown",
   "id": "5489ce31",
   "metadata": {},
   "source": [
    "nombre_infected       989\n",
    "nombre_sain          1742\n",
    "nombre_exposed        478\n",
    "nombre_recovered    16791\n",
    "Name: 169, dtype: int64"
   ]
  },
  {
   "cell_type": "markdown",
   "id": "44bd7aa2",
   "metadata": {},
   "source": [
    "nombre_infected       950\n",
    "nombre_sain          1740\n",
    "nombre_exposed        475\n",
    "nombre_recovered    16835\n",
    "Name: 170, dtype: int64"
   ]
  },
  {
   "cell_type": "markdown",
   "id": "26a899d5",
   "metadata": {},
   "source": [
    "nombre_infected       939\n",
    "nombre_sain          1738\n",
    "nombre_exposed        438\n",
    "nombre_recovered    16885\n",
    "Name: 171, dtype: int64"
   ]
  },
  {
   "cell_type": "markdown",
   "id": "013b2513",
   "metadata": {},
   "source": [
    "nombre_infected       905\n",
    "nombre_sain          1738\n",
    "nombre_exposed        435\n",
    "nombre_recovered    16922\n",
    "Name: 172, dtype: int64"
   ]
  },
  {
   "cell_type": "markdown",
   "id": "12f5596f",
   "metadata": {},
   "source": [
    "nombre_infected       880\n",
    "nombre_sain          1722\n",
    "nombre_exposed        429\n",
    "nombre_recovered    16969\n",
    "Name: 173, dtype: int64"
   ]
  },
  {
   "cell_type": "markdown",
   "id": "e4610ca8",
   "metadata": {},
   "source": [
    "nombre_infected       877\n",
    "nombre_sain          1722\n",
    "nombre_exposed        409\n",
    "nombre_recovered    16992\n",
    "Name: 174, dtype: int64"
   ]
  },
  {
   "cell_type": "markdown",
   "id": "9f6138be",
   "metadata": {},
   "source": [
    "nombre_infected       858\n",
    "nombre_sain          1728\n",
    "nombre_exposed        397\n",
    "nombre_recovered    17017\n",
    "Name: 175, dtype: int64"
   ]
  },
  {
   "cell_type": "markdown",
   "id": "81c73fe5",
   "metadata": {},
   "source": [
    "nombre_infected       828\n",
    "nombre_sain          1730\n",
    "nombre_exposed        393\n",
    "nombre_recovered    17049\n",
    "Name: 176, dtype: int64"
   ]
  },
  {
   "cell_type": "markdown",
   "id": "90c1a779",
   "metadata": {},
   "source": [
    "nombre_infected       818\n",
    "nombre_sain          1754\n",
    "nombre_exposed        380\n",
    "nombre_recovered    17048\n",
    "Name: 177, dtype: int64"
   ]
  },
  {
   "cell_type": "markdown",
   "id": "558b1d35",
   "metadata": {},
   "source": [
    "nombre_infected       789\n",
    "nombre_sain          1761\n",
    "nombre_exposed        387\n",
    "nombre_recovered    17063\n",
    "Name: 178, dtype: int64"
   ]
  },
  {
   "cell_type": "markdown",
   "id": "dddafab9",
   "metadata": {},
   "source": [
    "nombre_infected       779\n",
    "nombre_sain          1797\n",
    "nombre_exposed        373\n",
    "nombre_recovered    17051\n",
    "Name: 179, dtype: int64"
   ]
  },
  {
   "cell_type": "markdown",
   "id": "ee579790",
   "metadata": {},
   "source": [
    "nombre_infected       750\n",
    "nombre_sain          1831\n",
    "nombre_exposed        359\n",
    "nombre_recovered    17060\n",
    "Name: 180, dtype: int64"
   ]
  },
  {
   "cell_type": "markdown",
   "id": "663746c3",
   "metadata": {},
   "source": [
    "nombre_infected       736\n",
    "nombre_sain          1864\n",
    "nombre_exposed        347\n",
    "nombre_recovered    17053\n",
    "Name: 181, dtype: int64"
   ]
  },
  {
   "cell_type": "markdown",
   "id": "12a44b3a",
   "metadata": {},
   "source": [
    "nombre_infected       728\n",
    "nombre_sain          1883\n",
    "nombre_exposed        344\n",
    "nombre_recovered    17045\n",
    "Name: 182, dtype: int64"
   ]
  },
  {
   "cell_type": "markdown",
   "id": "742eed47",
   "metadata": {},
   "source": [
    "nombre_infected       716\n",
    "nombre_sain          1907\n",
    "nombre_exposed        346\n",
    "nombre_recovered    17031\n",
    "Name: 183, dtype: int64"
   ]
  },
  {
   "cell_type": "markdown",
   "id": "f49e44fc",
   "metadata": {},
   "source": [
    "nombre_infected       695\n",
    "nombre_sain          1934\n",
    "nombre_exposed        352\n",
    "nombre_recovered    17019\n",
    "Name: 184, dtype: int64"
   ]
  },
  {
   "cell_type": "markdown",
   "id": "a4a4a50f",
   "metadata": {},
   "source": [
    "nombre_infected       685\n",
    "nombre_sain          1934\n",
    "nombre_exposed        349\n",
    "nombre_recovered    17032\n",
    "Name: 185, dtype: int64"
   ]
  },
  {
   "cell_type": "markdown",
   "id": "d4fa6b41",
   "metadata": {},
   "source": [
    "nombre_infected       672\n",
    "nombre_sain          1962\n",
    "nombre_exposed        345\n",
    "nombre_recovered    17021\n",
    "Name: 186, dtype: int64"
   ]
  },
  {
   "cell_type": "markdown",
   "id": "5e53e30c",
   "metadata": {},
   "source": [
    "nombre_infected       640\n",
    "nombre_sain          2000\n",
    "nombre_exposed        353\n",
    "nombre_recovered    17007\n",
    "Name: 187, dtype: int64"
   ]
  },
  {
   "cell_type": "markdown",
   "id": "0ae4e1e3",
   "metadata": {},
   "source": [
    "nombre_infected       627\n",
    "nombre_sain          2043\n",
    "nombre_exposed        338\n",
    "nombre_recovered    16992\n",
    "Name: 188, dtype: int64"
   ]
  },
  {
   "cell_type": "markdown",
   "id": "497a9f72",
   "metadata": {},
   "source": [
    "nombre_infected       637\n",
    "nombre_sain          2109\n",
    "nombre_exposed        324\n",
    "nombre_recovered    16930\n",
    "Name: 189, dtype: int64"
   ]
  },
  {
   "cell_type": "markdown",
   "id": "4c2fe417",
   "metadata": {},
   "source": [
    "nombre_infected       618\n",
    "nombre_sain          2167\n",
    "nombre_exposed        326\n",
    "nombre_recovered    16889\n",
    "Name: 190, dtype: int64"
   ]
  },
  {
   "cell_type": "markdown",
   "id": "3a92cd8e",
   "metadata": {},
   "source": [
    "nombre_infected       602\n",
    "nombre_sain          2230\n",
    "nombre_exposed        319\n",
    "nombre_recovered    16849\n",
    "Name: 191, dtype: int64"
   ]
  },
  {
   "cell_type": "markdown",
   "id": "2e5b7c44",
   "metadata": {},
   "source": [
    "nombre_infected       587\n",
    "nombre_sain          2276\n",
    "nombre_exposed        337\n",
    "nombre_recovered    16800\n",
    "Name: 192, dtype: int64"
   ]
  },
  {
   "cell_type": "markdown",
   "id": "5f6297bc",
   "metadata": {},
   "source": [
    "nombre_infected       577\n",
    "nombre_sain          2330\n",
    "nombre_exposed        328\n",
    "nombre_recovered    16765\n",
    "Name: 193, dtype: int64"
   ]
  },
  {
   "cell_type": "markdown",
   "id": "21457305",
   "metadata": {},
   "source": [
    "nombre_infected       558\n",
    "nombre_sain          2385\n",
    "nombre_exposed        328\n",
    "nombre_recovered    16729\n",
    "Name: 194, dtype: int64"
   ]
  },
  {
   "cell_type": "markdown",
   "id": "cf564559",
   "metadata": {},
   "source": [
    "nombre_infected       558\n",
    "nombre_sain          2436\n",
    "nombre_exposed        321\n",
    "nombre_recovered    16685\n",
    "Name: 195, dtype: int64"
   ]
  },
  {
   "cell_type": "markdown",
   "id": "87395efc",
   "metadata": {},
   "source": [
    "nombre_infected       544\n",
    "nombre_sain          2474\n",
    "nombre_exposed        334\n",
    "nombre_recovered    16648\n",
    "Name: 196, dtype: int64"
   ]
  },
  {
   "cell_type": "markdown",
   "id": "31617219",
   "metadata": {},
   "source": [
    "nombre_infected       555\n",
    "nombre_sain          2495\n",
    "nombre_exposed        335\n",
    "nombre_recovered    16615\n",
    "Name: 197, dtype: int64"
   ]
  },
  {
   "cell_type": "markdown",
   "id": "ce0a8db6",
   "metadata": {},
   "source": [
    "nombre_infected       557\n",
    "nombre_sain          2506\n",
    "nombre_exposed        346\n",
    "nombre_recovered    16591\n",
    "Name: 198, dtype: int64"
   ]
  },
  {
   "cell_type": "markdown",
   "id": "37a48e78",
   "metadata": {},
   "source": [
    "nombre_infected       550\n",
    "nombre_sain          2533\n",
    "nombre_exposed        338\n",
    "nombre_recovered    16579\n",
    "Name: 199, dtype: int64"
   ]
  },
  {
   "cell_type": "markdown",
   "id": "34391570",
   "metadata": {},
   "source": [
    "nombre_infected       559\n",
    "nombre_sain          2523\n",
    "nombre_exposed        358\n",
    "nombre_recovered    16560\n",
    "Name: 200, dtype: int64"
   ]
  },
  {
   "cell_type": "markdown",
   "id": "f03450e9",
   "metadata": {},
   "source": [
    "nombre_infected       553\n",
    "nombre_sain          2532\n",
    "nombre_exposed        389\n",
    "nombre_recovered    16526\n",
    "Name: 201, dtype: int64"
   ]
  },
  {
   "cell_type": "markdown",
   "id": "d9871218",
   "metadata": {},
   "source": [
    "nombre_infected       557\n",
    "nombre_sain          2532\n",
    "nombre_exposed        385\n",
    "nombre_recovered    16526\n",
    "Name: 202, dtype: int64"
   ]
  },
  {
   "cell_type": "markdown",
   "id": "7a625465",
   "metadata": {},
   "source": [
    "nombre_infected       555\n",
    "nombre_sain          2550\n",
    "nombre_exposed        378\n",
    "nombre_recovered    16517\n",
    "Name: 203, dtype: int64"
   ]
  },
  {
   "cell_type": "markdown",
   "id": "5cbf4a69",
   "metadata": {},
   "source": [
    "nombre_infected       562\n",
    "nombre_sain          2541\n",
    "nombre_exposed        384\n",
    "nombre_recovered    16513\n",
    "Name: 204, dtype: int64"
   ]
  },
  {
   "cell_type": "markdown",
   "id": "d5cc2175",
   "metadata": {},
   "source": [
    "nombre_infected       562\n",
    "nombre_sain          2555\n",
    "nombre_exposed        383\n",
    "nombre_recovered    16500\n",
    "Name: 205, dtype: int64"
   ]
  },
  {
   "cell_type": "markdown",
   "id": "669c0917",
   "metadata": {},
   "source": [
    "nombre_infected       565\n",
    "nombre_sain          2568\n",
    "nombre_exposed        371\n",
    "nombre_recovered    16496\n",
    "Name: 206, dtype: int64"
   ]
  },
  {
   "cell_type": "markdown",
   "id": "3e321893",
   "metadata": {},
   "source": [
    "nombre_infected       593\n",
    "nombre_sain          2554\n",
    "nombre_exposed        364\n",
    "nombre_recovered    16489\n",
    "Name: 207, dtype: int64"
   ]
  },
  {
   "cell_type": "markdown",
   "id": "d048728e",
   "metadata": {},
   "source": [
    "nombre_infected       580\n",
    "nombre_sain          2566\n",
    "nombre_exposed        359\n",
    "nombre_recovered    16495\n",
    "Name: 208, dtype: int64"
   ]
  },
  {
   "cell_type": "markdown",
   "id": "fcbd4e0f",
   "metadata": {},
   "source": [
    "nombre_infected       577\n",
    "nombre_sain          2572\n",
    "nombre_exposed        361\n",
    "nombre_recovered    16490\n",
    "Name: 209, dtype: int64"
   ]
  },
  {
   "cell_type": "markdown",
   "id": "2b0c98b3",
   "metadata": {},
   "source": [
    "nombre_infected       562\n",
    "nombre_sain          2571\n",
    "nombre_exposed        385\n",
    "nombre_recovered    16482\n",
    "Name: 210, dtype: int64"
   ]
  },
  {
   "cell_type": "markdown",
   "id": "0cdbcefe",
   "metadata": {},
   "source": [
    "nombre_infected       571\n",
    "nombre_sain          2567\n",
    "nombre_exposed        395\n",
    "nombre_recovered    16467\n",
    "Name: 211, dtype: int64"
   ]
  },
  {
   "cell_type": "markdown",
   "id": "07abd9b7",
   "metadata": {},
   "source": [
    "nombre_infected       568\n",
    "nombre_sain          2555\n",
    "nombre_exposed        410\n",
    "nombre_recovered    16467\n",
    "Name: 212, dtype: int64"
   ]
  },
  {
   "cell_type": "markdown",
   "id": "e2979865",
   "metadata": {},
   "source": [
    "nombre_infected       587\n",
    "nombre_sain          2576\n",
    "nombre_exposed        399\n",
    "nombre_recovered    16438\n",
    "Name: 213, dtype: int64"
   ]
  },
  {
   "cell_type": "markdown",
   "id": "7c6af033",
   "metadata": {},
   "source": [
    "nombre_infected       602\n",
    "nombre_sain          2579\n",
    "nombre_exposed        422\n",
    "nombre_recovered    16397\n",
    "Name: 214, dtype: int64"
   ]
  },
  {
   "cell_type": "markdown",
   "id": "3c308610",
   "metadata": {},
   "source": [
    "nombre_infected       608\n",
    "nombre_sain          2582\n",
    "nombre_exposed        407\n",
    "nombre_recovered    16403\n",
    "Name: 215, dtype: int64"
   ]
  },
  {
   "cell_type": "markdown",
   "id": "362089e9",
   "metadata": {},
   "source": [
    "nombre_infected       622\n",
    "nombre_sain          2567\n",
    "nombre_exposed        421\n",
    "nombre_recovered    16390\n",
    "Name: 216, dtype: int64"
   ]
  },
  {
   "cell_type": "markdown",
   "id": "78623e76",
   "metadata": {},
   "source": [
    "nombre_infected       610\n",
    "nombre_sain          2564\n",
    "nombre_exposed        447\n",
    "nombre_recovered    16379\n",
    "Name: 217, dtype: int64"
   ]
  },
  {
   "cell_type": "markdown",
   "id": "eb1791d0",
   "metadata": {},
   "source": [
    "nombre_infected       612\n",
    "nombre_sain          2575\n",
    "nombre_exposed        437\n",
    "nombre_recovered    16376\n",
    "Name: 218, dtype: int64"
   ]
  },
  {
   "cell_type": "markdown",
   "id": "72611f88",
   "metadata": {},
   "source": [
    "nombre_infected       609\n",
    "nombre_sain          2585\n",
    "nombre_exposed        441\n",
    "nombre_recovered    16365\n",
    "Name: 219, dtype: int64"
   ]
  },
  {
   "cell_type": "markdown",
   "id": "f555e86d",
   "metadata": {},
   "source": [
    "nombre_infected       635\n",
    "nombre_sain          2602\n",
    "nombre_exposed        424\n",
    "nombre_recovered    16339\n",
    "Name: 220, dtype: int64"
   ]
  },
  {
   "cell_type": "markdown",
   "id": "327267c2",
   "metadata": {},
   "source": [
    "nombre_infected       641\n",
    "nombre_sain          2612\n",
    "nombre_exposed        410\n",
    "nombre_recovered    16337\n",
    "Name: 221, dtype: int64"
   ]
  },
  {
   "cell_type": "markdown",
   "id": "19cd7417",
   "metadata": {},
   "source": [
    "nombre_infected       640\n",
    "nombre_sain          2587\n",
    "nombre_exposed        423\n",
    "nombre_recovered    16350\n",
    "Name: 222, dtype: int64"
   ]
  },
  {
   "cell_type": "markdown",
   "id": "88a6c326",
   "metadata": {},
   "source": [
    "nombre_infected       651\n",
    "nombre_sain          2581\n",
    "nombre_exposed        421\n",
    "nombre_recovered    16347\n",
    "Name: 223, dtype: int64"
   ]
  },
  {
   "cell_type": "markdown",
   "id": "53ad2914",
   "metadata": {},
   "source": [
    "nombre_infected       669\n",
    "nombre_sain          2595\n",
    "nombre_exposed        401\n",
    "nombre_recovered    16335\n",
    "Name: 224, dtype: int64"
   ]
  },
  {
   "cell_type": "markdown",
   "id": "f23c99a7",
   "metadata": {},
   "source": [
    "nombre_infected       664\n",
    "nombre_sain          2587\n",
    "nombre_exposed        418\n",
    "nombre_recovered    16331\n",
    "Name: 225, dtype: int64"
   ]
  },
  {
   "cell_type": "markdown",
   "id": "d423a05d",
   "metadata": {},
   "source": [
    "nombre_infected       655\n",
    "nombre_sain          2589\n",
    "nombre_exposed        422\n",
    "nombre_recovered    16334\n",
    "Name: 226, dtype: int64"
   ]
  },
  {
   "cell_type": "markdown",
   "id": "73183643",
   "metadata": {},
   "source": [
    "nombre_infected       661\n",
    "nombre_sain          2608\n",
    "nombre_exposed        406\n",
    "nombre_recovered    16325\n",
    "Name: 227, dtype: int64"
   ]
  },
  {
   "cell_type": "markdown",
   "id": "c36281ee",
   "metadata": {},
   "source": [
    "nombre_infected       687\n",
    "nombre_sain          2637\n",
    "nombre_exposed        392\n",
    "nombre_recovered    16284\n",
    "Name: 228, dtype: int64"
   ]
  },
  {
   "cell_type": "markdown",
   "id": "3dd4546f",
   "metadata": {},
   "source": [
    "nombre_infected       665\n",
    "nombre_sain          2634\n",
    "nombre_exposed        405\n",
    "nombre_recovered    16296\n",
    "Name: 229, dtype: int64"
   ]
  },
  {
   "cell_type": "markdown",
   "id": "1589c2dd",
   "metadata": {},
   "source": [
    "nombre_infected       650\n",
    "nombre_sain          2645\n",
    "nombre_exposed        435\n",
    "nombre_recovered    16270\n",
    "Name: 230, dtype: int64"
   ]
  },
  {
   "cell_type": "markdown",
   "id": "614d141a",
   "metadata": {},
   "source": [
    "nombre_infected       648\n",
    "nombre_sain          2664\n",
    "nombre_exposed        437\n",
    "nombre_recovered    16251\n",
    "Name: 231, dtype: int64"
   ]
  },
  {
   "cell_type": "markdown",
   "id": "9118e066",
   "metadata": {},
   "source": [
    "nombre_infected       651\n",
    "nombre_sain          2671\n",
    "nombre_exposed        430\n",
    "nombre_recovered    16248\n",
    "Name: 232, dtype: int64"
   ]
  },
  {
   "cell_type": "markdown",
   "id": "3695a6f3",
   "metadata": {},
   "source": [
    "nombre_infected       664\n",
    "nombre_sain          2704\n",
    "nombre_exposed        431\n",
    "nombre_recovered    16201\n",
    "Name: 233, dtype: int64"
   ]
  },
  {
   "cell_type": "markdown",
   "id": "8e0518e8",
   "metadata": {},
   "source": [
    "nombre_infected       662\n",
    "nombre_sain          2731\n",
    "nombre_exposed        424\n",
    "nombre_recovered    16183\n",
    "Name: 234, dtype: int64"
   ]
  },
  {
   "cell_type": "markdown",
   "id": "7dd4e2c6",
   "metadata": {},
   "source": [
    "nombre_infected       648\n",
    "nombre_sain          2749\n",
    "nombre_exposed        440\n",
    "nombre_recovered    16163\n",
    "Name: 235, dtype: int64"
   ]
  },
  {
   "cell_type": "markdown",
   "id": "343fbbf4",
   "metadata": {},
   "source": [
    "nombre_infected       652\n",
    "nombre_sain          2741\n",
    "nombre_exposed        453\n",
    "nombre_recovered    16154\n",
    "Name: 236, dtype: int64"
   ]
  },
  {
   "cell_type": "markdown",
   "id": "423993de",
   "metadata": {},
   "source": [
    "nombre_infected       677\n",
    "nombre_sain          2754\n",
    "nombre_exposed        444\n",
    "nombre_recovered    16125\n",
    "Name: 237, dtype: int64"
   ]
  },
  {
   "cell_type": "markdown",
   "id": "0716e4ce",
   "metadata": {},
   "source": [
    "nombre_infected       690\n",
    "nombre_sain          2787\n",
    "nombre_exposed        431\n",
    "nombre_recovered    16092\n",
    "Name: 238, dtype: int64"
   ]
  },
  {
   "cell_type": "markdown",
   "id": "96df296e",
   "metadata": {},
   "source": [
    "nombre_infected       688\n",
    "nombre_sain          2791\n",
    "nombre_exposed        443\n",
    "nombre_recovered    16078\n",
    "Name: 239, dtype: int64"
   ]
  },
  {
   "cell_type": "markdown",
   "id": "9d6b0ca2",
   "metadata": {},
   "source": [
    "nombre_infected       687\n",
    "nombre_sain          2803\n",
    "nombre_exposed        453\n",
    "nombre_recovered    16057\n",
    "Name: 240, dtype: int64"
   ]
  },
  {
   "cell_type": "markdown",
   "id": "0044cdf6",
   "metadata": {},
   "source": [
    "nombre_infected       686\n",
    "nombre_sain          2850\n",
    "nombre_exposed        448\n",
    "nombre_recovered    16016\n",
    "Name: 241, dtype: int64"
   ]
  },
  {
   "cell_type": "markdown",
   "id": "0afe468c",
   "metadata": {},
   "source": [
    "nombre_infected       678\n",
    "nombre_sain          2896\n",
    "nombre_exposed        458\n",
    "nombre_recovered    15968\n",
    "Name: 242, dtype: int64"
   ]
  },
  {
   "cell_type": "markdown",
   "id": "7df1c1e9",
   "metadata": {},
   "source": [
    "nombre_infected       677\n",
    "nombre_sain          2934\n",
    "nombre_exposed        481\n",
    "nombre_recovered    15908\n",
    "Name: 243, dtype: int64"
   ]
  },
  {
   "cell_type": "markdown",
   "id": "f60d2fc7",
   "metadata": {},
   "source": [
    "nombre_infected       698\n",
    "nombre_sain          2955\n",
    "nombre_exposed        492\n",
    "nombre_recovered    15855\n",
    "Name: 244, dtype: int64"
   ]
  },
  {
   "cell_type": "markdown",
   "id": "8b138af6",
   "metadata": {},
   "source": [
    "nombre_infected       699\n",
    "nombre_sain          2937\n",
    "nombre_exposed        530\n",
    "nombre_recovered    15834\n",
    "Name: 245, dtype: int64"
   ]
  },
  {
   "cell_type": "markdown",
   "id": "26bb0057",
   "metadata": {},
   "source": [
    "nombre_infected       733\n",
    "nombre_sain          2951\n",
    "nombre_exposed        521\n",
    "nombre_recovered    15795\n",
    "Name: 246, dtype: int64"
   ]
  },
  {
   "cell_type": "markdown",
   "id": "1f366629",
   "metadata": {},
   "source": [
    "nombre_infected       716\n",
    "nombre_sain          2940\n",
    "nombre_exposed        540\n",
    "nombre_recovered    15804\n",
    "Name: 247, dtype: int64"
   ]
  },
  {
   "cell_type": "markdown",
   "id": "a9241961",
   "metadata": {},
   "source": [
    "nombre_infected       709\n",
    "nombre_sain          2982\n",
    "nombre_exposed        540\n",
    "nombre_recovered    15769\n",
    "Name: 248, dtype: int64"
   ]
  },
  {
   "cell_type": "markdown",
   "id": "d177e929",
   "metadata": {},
   "source": [
    "nombre_infected       736\n",
    "nombre_sain          2984\n",
    "nombre_exposed        554\n",
    "nombre_recovered    15726\n",
    "Name: 249, dtype: int64"
   ]
  },
  {
   "cell_type": "markdown",
   "id": "170b1238",
   "metadata": {},
   "source": [
    "nombre_infected       750\n",
    "nombre_sain          2999\n",
    "nombre_exposed        551\n",
    "nombre_recovered    15700\n",
    "Name: 250, dtype: int64"
   ]
  },
  {
   "cell_type": "markdown",
   "id": "e0fd3cfc",
   "metadata": {},
   "source": [
    "nombre_infected       765\n",
    "nombre_sain          2996\n",
    "nombre_exposed        562\n",
    "nombre_recovered    15677\n",
    "Name: 251, dtype: int64"
   ]
  },
  {
   "cell_type": "markdown",
   "id": "3e2ad085",
   "metadata": {},
   "source": [
    "nombre_infected       769\n",
    "nombre_sain          3016\n",
    "nombre_exposed        570\n",
    "nombre_recovered    15645\n",
    "Name: 252, dtype: int64"
   ]
  },
  {
   "cell_type": "markdown",
   "id": "a42b62bc",
   "metadata": {},
   "source": [
    "nombre_infected       790\n",
    "nombre_sain          3032\n",
    "nombre_exposed        560\n",
    "nombre_recovered    15618\n",
    "Name: 253, dtype: int64"
   ]
  },
  {
   "cell_type": "markdown",
   "id": "e0206c68",
   "metadata": {},
   "source": [
    "nombre_infected       811\n",
    "nombre_sain          3027\n",
    "nombre_exposed        560\n",
    "nombre_recovered    15602\n",
    "Name: 254, dtype: int64"
   ]
  },
  {
   "cell_type": "markdown",
   "id": "f86bf87d",
   "metadata": {},
   "source": [
    "nombre_infected       842\n",
    "nombre_sain          3005\n",
    "nombre_exposed        571\n",
    "nombre_recovered    15582\n",
    "Name: 255, dtype: int64"
   ]
  },
  {
   "cell_type": "markdown",
   "id": "52559f8a",
   "metadata": {},
   "source": [
    "nombre_infected       835\n",
    "nombre_sain          2987\n",
    "nombre_exposed        594\n",
    "nombre_recovered    15584\n",
    "Name: 256, dtype: int64"
   ]
  },
  {
   "cell_type": "markdown",
   "id": "aad9bb01",
   "metadata": {},
   "source": [
    "nombre_infected       846\n",
    "nombre_sain          2971\n",
    "nombre_exposed        606\n",
    "nombre_recovered    15577\n",
    "Name: 257, dtype: int64"
   ]
  },
  {
   "cell_type": "markdown",
   "id": "5484066d",
   "metadata": {},
   "source": [
    "nombre_infected       858\n",
    "nombre_sain          2930\n",
    "nombre_exposed        650\n",
    "nombre_recovered    15562\n",
    "Name: 258, dtype: int64"
   ]
  },
  {
   "cell_type": "markdown",
   "id": "c67d8045",
   "metadata": {},
   "source": [
    "nombre_infected       911\n",
    "nombre_sain          2885\n",
    "nombre_exposed        650\n",
    "nombre_recovered    15554\n",
    "Name: 259, dtype: int64"
   ]
  },
  {
   "cell_type": "markdown",
   "id": "2845698b",
   "metadata": {},
   "source": [
    "nombre_infected       913\n",
    "nombre_sain          2872\n",
    "nombre_exposed        652\n",
    "nombre_recovered    15563\n",
    "Name: 260, dtype: int64"
   ]
  },
  {
   "cell_type": "markdown",
   "id": "13675bdf",
   "metadata": {},
   "source": [
    "nombre_infected       921\n",
    "nombre_sain          2831\n",
    "nombre_exposed        676\n",
    "nombre_recovered    15572\n",
    "Name: 261, dtype: int64"
   ]
  },
  {
   "cell_type": "markdown",
   "id": "ade935fe",
   "metadata": {},
   "source": [
    "nombre_infected       925\n",
    "nombre_sain          2805\n",
    "nombre_exposed        671\n",
    "nombre_recovered    15599\n",
    "Name: 262, dtype: int64"
   ]
  },
  {
   "cell_type": "markdown",
   "id": "5e3c0f59",
   "metadata": {},
   "source": [
    "nombre_infected       963\n",
    "nombre_sain          2793\n",
    "nombre_exposed        667\n",
    "nombre_recovered    15577\n",
    "Name: 263, dtype: int64"
   ]
  },
  {
   "cell_type": "markdown",
   "id": "6eb5c3eb",
   "metadata": {},
   "source": [
    "nombre_infected       972\n",
    "nombre_sain          2729\n",
    "nombre_exposed        694\n",
    "nombre_recovered    15605\n",
    "Name: 264, dtype: int64"
   ]
  },
  {
   "cell_type": "markdown",
   "id": "e305d577",
   "metadata": {},
   "source": [
    "nombre_infected       986\n",
    "nombre_sain          2700\n",
    "nombre_exposed        703\n",
    "nombre_recovered    15611\n",
    "Name: 265, dtype: int64"
   ]
  },
  {
   "cell_type": "markdown",
   "id": "632d3f2e",
   "metadata": {},
   "source": [
    "nombre_infected      1015\n",
    "nombre_sain          2698\n",
    "nombre_exposed        672\n",
    "nombre_recovered    15615\n",
    "Name: 266, dtype: int64"
   ]
  },
  {
   "cell_type": "markdown",
   "id": "fb2cd95b",
   "metadata": {},
   "source": [
    "nombre_infected      1030\n",
    "nombre_sain          2660\n",
    "nombre_exposed        681\n",
    "nombre_recovered    15629\n",
    "Name: 267, dtype: int64"
   ]
  },
  {
   "cell_type": "markdown",
   "id": "5126b375",
   "metadata": {},
   "source": [
    "nombre_infected      1031\n",
    "nombre_sain          2580\n",
    "nombre_exposed        700\n",
    "nombre_recovered    15689\n",
    "Name: 268, dtype: int64"
   ]
  },
  {
   "cell_type": "markdown",
   "id": "b4e408dd",
   "metadata": {},
   "source": [
    "nombre_infected      1028\n",
    "nombre_sain          2530\n",
    "nombre_exposed        726\n",
    "nombre_recovered    15716\n",
    "Name: 269, dtype: int64"
   ]
  },
  {
   "cell_type": "markdown",
   "id": "b6bec106",
   "metadata": {},
   "source": [
    "nombre_infected      1034\n",
    "nombre_sain          2498\n",
    "nombre_exposed        706\n",
    "nombre_recovered    15762\n",
    "Name: 270, dtype: int64"
   ]
  },
  {
   "cell_type": "markdown",
   "id": "5e8b9796",
   "metadata": {},
   "source": [
    "nombre_infected      1034\n",
    "nombre_sain          2465\n",
    "nombre_exposed        702\n",
    "nombre_recovered    15799\n",
    "Name: 271, dtype: int64"
   ]
  },
  {
   "cell_type": "markdown",
   "id": "e9c99f55",
   "metadata": {},
   "source": [
    "nombre_infected      1050\n",
    "nombre_sain          2416\n",
    "nombre_exposed        695\n",
    "nombre_recovered    15839\n",
    "Name: 272, dtype: int64"
   ]
  },
  {
   "cell_type": "markdown",
   "id": "7cd66332",
   "metadata": {},
   "source": [
    "nombre_infected      1052\n",
    "nombre_sain          2395\n",
    "nombre_exposed        676\n",
    "nombre_recovered    15877\n",
    "Name: 273, dtype: int64"
   ]
  },
  {
   "cell_type": "markdown",
   "id": "c09872c7",
   "metadata": {},
   "source": [
    "nombre_infected      1052\n",
    "nombre_sain          2366\n",
    "nombre_exposed        673\n",
    "nombre_recovered    15909\n",
    "Name: 274, dtype: int64"
   ]
  },
  {
   "cell_type": "markdown",
   "id": "2418aec4",
   "metadata": {},
   "source": [
    "nombre_infected      1077\n",
    "nombre_sain          2322\n",
    "nombre_exposed        647\n",
    "nombre_recovered    15954\n",
    "Name: 275, dtype: int64"
   ]
  },
  {
   "cell_type": "markdown",
   "id": "b91aa7b4",
   "metadata": {},
   "source": [
    "nombre_infected      1058\n",
    "nombre_sain          2300\n",
    "nombre_exposed        627\n",
    "nombre_recovered    16015\n",
    "Name: 276, dtype: int64"
   ]
  },
  {
   "cell_type": "markdown",
   "id": "7bc36cee",
   "metadata": {},
   "source": [
    "nombre_infected      1043\n",
    "nombre_sain          2269\n",
    "nombre_exposed        635\n",
    "nombre_recovered    16053\n",
    "Name: 277, dtype: int64"
   ]
  },
  {
   "cell_type": "markdown",
   "id": "2bed7a06",
   "metadata": {},
   "source": [
    "nombre_infected      1041\n",
    "nombre_sain          2257\n",
    "nombre_exposed        629\n",
    "nombre_recovered    16073\n",
    "Name: 278, dtype: int64"
   ]
  },
  {
   "cell_type": "markdown",
   "id": "70c02ed6",
   "metadata": {},
   "source": [
    "nombre_infected       997\n",
    "nombre_sain          2247\n",
    "nombre_exposed        639\n",
    "nombre_recovered    16117\n",
    "Name: 279, dtype: int64"
   ]
  },
  {
   "cell_type": "markdown",
   "id": "7f2c1577",
   "metadata": {},
   "source": [
    "nombre_infected       985\n",
    "nombre_sain          2221\n",
    "nombre_exposed        621\n",
    "nombre_recovered    16173\n",
    "Name: 280, dtype: int64"
   ]
  },
  {
   "cell_type": "markdown",
   "id": "a658cab7",
   "metadata": {},
   "source": [
    "nombre_infected       985\n",
    "nombre_sain          2208\n",
    "nombre_exposed        611\n",
    "nombre_recovered    16196\n",
    "Name: 281, dtype: int64"
   ]
  },
  {
   "cell_type": "markdown",
   "id": "56d7a40a",
   "metadata": {},
   "source": [
    "nombre_infected       985\n",
    "nombre_sain          2179\n",
    "nombre_exposed        610\n",
    "nombre_recovered    16226\n",
    "Name: 282, dtype: int64"
   ]
  },
  {
   "cell_type": "markdown",
   "id": "5991e77b",
   "metadata": {},
   "source": [
    "nombre_infected       973\n",
    "nombre_sain          2158\n",
    "nombre_exposed        609\n",
    "nombre_recovered    16260\n",
    "Name: 283, dtype: int64"
   ]
  },
  {
   "cell_type": "markdown",
   "id": "ecce0c9b",
   "metadata": {},
   "source": [
    "nombre_infected       992\n",
    "nombre_sain          2133\n",
    "nombre_exposed        591\n",
    "nombre_recovered    16284\n",
    "Name: 284, dtype: int64"
   ]
  },
  {
   "cell_type": "markdown",
   "id": "45b6d315",
   "metadata": {},
   "source": [
    "nombre_infected       961\n",
    "nombre_sain          2127\n",
    "nombre_exposed        571\n",
    "nombre_recovered    16341\n",
    "Name: 285, dtype: int64"
   ]
  },
  {
   "cell_type": "markdown",
   "id": "a2948c3b",
   "metadata": {},
   "source": [
    "nombre_infected       950\n",
    "nombre_sain          2106\n",
    "nombre_exposed        572\n",
    "nombre_recovered    16372\n",
    "Name: 286, dtype: int64"
   ]
  },
  {
   "cell_type": "markdown",
   "id": "a9aa68a5",
   "metadata": {},
   "source": [
    "nombre_infected       948\n",
    "nombre_sain          2098\n",
    "nombre_exposed        560\n",
    "nombre_recovered    16394\n",
    "Name: 287, dtype: int64"
   ]
  },
  {
   "cell_type": "markdown",
   "id": "0e02b42d",
   "metadata": {},
   "source": [
    "nombre_infected       972\n",
    "nombre_sain          2091\n",
    "nombre_exposed        539\n",
    "nombre_recovered    16398\n",
    "Name: 288, dtype: int64"
   ]
  },
  {
   "cell_type": "markdown",
   "id": "2e861770",
   "metadata": {},
   "source": [
    "nombre_infected       956\n",
    "nombre_sain          2095\n",
    "nombre_exposed        526\n",
    "nombre_recovered    16423\n",
    "Name: 289, dtype: int64"
   ]
  },
  {
   "cell_type": "markdown",
   "id": "eeb65af3",
   "metadata": {},
   "source": [
    "nombre_infected       916\n",
    "nombre_sain          2094\n",
    "nombre_exposed        510\n",
    "nombre_recovered    16480\n",
    "Name: 290, dtype: int64"
   ]
  },
  {
   "cell_type": "markdown",
   "id": "111ad490",
   "metadata": {},
   "source": [
    "nombre_infected       899\n",
    "nombre_sain          2096\n",
    "nombre_exposed        504\n",
    "nombre_recovered    16501\n",
    "Name: 291, dtype: int64"
   ]
  },
  {
   "cell_type": "markdown",
   "id": "54eeb318",
   "metadata": {},
   "source": [
    "nombre_infected       871\n",
    "nombre_sain          2076\n",
    "nombre_exposed        525\n",
    "nombre_recovered    16528\n",
    "Name: 292, dtype: int64"
   ]
  },
  {
   "cell_type": "markdown",
   "id": "965963e2",
   "metadata": {},
   "source": [
    "nombre_infected       861\n",
    "nombre_sain          2080\n",
    "nombre_exposed        512\n",
    "nombre_recovered    16547\n",
    "Name: 293, dtype: int64"
   ]
  },
  {
   "cell_type": "markdown",
   "id": "039b81df",
   "metadata": {},
   "source": [
    "nombre_infected       849\n",
    "nombre_sain          2080\n",
    "nombre_exposed        502\n",
    "nombre_recovered    16569\n",
    "Name: 294, dtype: int64"
   ]
  },
  {
   "cell_type": "markdown",
   "id": "39047796",
   "metadata": {},
   "source": [
    "nombre_infected       818\n",
    "nombre_sain          2107\n",
    "nombre_exposed        509\n",
    "nombre_recovered    16566\n",
    "Name: 295, dtype: int64"
   ]
  },
  {
   "cell_type": "markdown",
   "id": "309488a5",
   "metadata": {},
   "source": [
    "nombre_infected       829\n",
    "nombre_sain          2103\n",
    "nombre_exposed        490\n",
    "nombre_recovered    16578\n",
    "Name: 296, dtype: int64"
   ]
  },
  {
   "cell_type": "markdown",
   "id": "56903e5a",
   "metadata": {},
   "source": [
    "nombre_infected       827\n",
    "nombre_sain          2104\n",
    "nombre_exposed        462\n",
    "nombre_recovered    16607\n",
    "Name: 297, dtype: int64"
   ]
  },
  {
   "cell_type": "markdown",
   "id": "8d05e385",
   "metadata": {},
   "source": [
    "nombre_infected       833\n",
    "nombre_sain          2116\n",
    "nombre_exposed        472\n",
    "nombre_recovered    16579\n",
    "Name: 298, dtype: int64"
   ]
  },
  {
   "cell_type": "markdown",
   "id": "1ea22f63",
   "metadata": {},
   "source": [
    "nombre_infected       817\n",
    "nombre_sain          2112\n",
    "nombre_exposed        472\n",
    "nombre_recovered    16599\n",
    "Name: 299, dtype: int64"
   ]
  },
  {
   "cell_type": "markdown",
   "id": "1ae7e903",
   "metadata": {},
   "source": [
    "nombre_infected       775\n",
    "nombre_sain          2139\n",
    "nombre_exposed        472\n",
    "nombre_recovered    16614\n",
    "Name: 300, dtype: int64"
   ]
  },
  {
   "cell_type": "markdown",
   "id": "7707f8f9",
   "metadata": {},
   "source": [
    "nombre_infected       763\n",
    "nombre_sain          2154\n",
    "nombre_exposed        454\n",
    "nombre_recovered    16629\n",
    "Name: 301, dtype: int64"
   ]
  },
  {
   "cell_type": "markdown",
   "id": "56624b67",
   "metadata": {},
   "source": [
    "nombre_infected       752\n",
    "nombre_sain          2179\n",
    "nombre_exposed        424\n",
    "nombre_recovered    16645\n",
    "Name: 302, dtype: int64"
   ]
  },
  {
   "cell_type": "markdown",
   "id": "8daffd81",
   "metadata": {},
   "source": [
    "nombre_infected       745\n",
    "nombre_sain          2210\n",
    "nombre_exposed        418\n",
    "nombre_recovered    16627\n",
    "Name: 303, dtype: int64"
   ]
  },
  {
   "cell_type": "markdown",
   "id": "ee04c8c3",
   "metadata": {},
   "source": [
    "nombre_infected       722\n",
    "nombre_sain          2228\n",
    "nombre_exposed        416\n",
    "nombre_recovered    16634\n",
    "Name: 304, dtype: int64"
   ]
  },
  {
   "cell_type": "markdown",
   "id": "4ec68bc7",
   "metadata": {},
   "source": [
    "nombre_infected       704\n",
    "nombre_sain          2242\n",
    "nombre_exposed        420\n",
    "nombre_recovered    16634\n",
    "Name: 305, dtype: int64"
   ]
  },
  {
   "cell_type": "markdown",
   "id": "6017ed1e",
   "metadata": {},
   "source": [
    "nombre_infected       722\n",
    "nombre_sain          2277\n",
    "nombre_exposed        396\n",
    "nombre_recovered    16605\n",
    "Name: 306, dtype: int64"
   ]
  },
  {
   "cell_type": "markdown",
   "id": "aa33d8c3",
   "metadata": {},
   "source": [
    "nombre_infected       723\n",
    "nombre_sain          2305\n",
    "nombre_exposed        398\n",
    "nombre_recovered    16574\n",
    "Name: 307, dtype: int64"
   ]
  },
  {
   "cell_type": "markdown",
   "id": "ed80ba48",
   "metadata": {},
   "source": [
    "nombre_infected       705\n",
    "nombre_sain          2318\n",
    "nombre_exposed        406\n",
    "nombre_recovered    16571\n",
    "Name: 308, dtype: int64"
   ]
  },
  {
   "cell_type": "markdown",
   "id": "7bfb3499",
   "metadata": {},
   "source": [
    "nombre_infected       696\n",
    "nombre_sain          2324\n",
    "nombre_exposed        424\n",
    "nombre_recovered    16556\n",
    "Name: 309, dtype: int64"
   ]
  },
  {
   "cell_type": "markdown",
   "id": "a8de332b",
   "metadata": {},
   "source": [
    "nombre_infected       695\n",
    "nombre_sain          2345\n",
    "nombre_exposed        426\n",
    "nombre_recovered    16534\n",
    "Name: 310, dtype: int64"
   ]
  },
  {
   "cell_type": "markdown",
   "id": "c13da0b2",
   "metadata": {},
   "source": [
    "nombre_infected       683\n",
    "nombre_sain          2381\n",
    "nombre_exposed        426\n",
    "nombre_recovered    16510\n",
    "Name: 311, dtype: int64"
   ]
  },
  {
   "cell_type": "markdown",
   "id": "82e79531",
   "metadata": {},
   "source": [
    "nombre_infected       697\n",
    "nombre_sain          2394\n",
    "nombre_exposed        412\n",
    "nombre_recovered    16497\n",
    "Name: 312, dtype: int64"
   ]
  },
  {
   "cell_type": "markdown",
   "id": "c344a2df",
   "metadata": {},
   "source": [
    "nombre_infected       717\n",
    "nombre_sain          2420\n",
    "nombre_exposed        401\n",
    "nombre_recovered    16462\n",
    "Name: 313, dtype: int64"
   ]
  },
  {
   "cell_type": "markdown",
   "id": "c56a40be",
   "metadata": {},
   "source": [
    "nombre_infected       713\n",
    "nombre_sain          2434\n",
    "nombre_exposed        407\n",
    "nombre_recovered    16446\n",
    "Name: 314, dtype: int64"
   ]
  },
  {
   "cell_type": "markdown",
   "id": "a28ec1a9",
   "metadata": {},
   "source": [
    "nombre_infected       701\n",
    "nombre_sain          2447\n",
    "nombre_exposed        427\n",
    "nombre_recovered    16425\n",
    "Name: 315, dtype: int64"
   ]
  },
  {
   "cell_type": "markdown",
   "id": "0bb31cfe",
   "metadata": {},
   "source": [
    "nombre_infected       680\n",
    "nombre_sain          2493\n",
    "nombre_exposed        419\n",
    "nombre_recovered    16408\n",
    "Name: 316, dtype: int64"
   ]
  },
  {
   "cell_type": "markdown",
   "id": "28ebf55e",
   "metadata": {},
   "source": [
    "nombre_infected       678\n",
    "nombre_sain          2504\n",
    "nombre_exposed        428\n",
    "nombre_recovered    16390\n",
    "Name: 317, dtype: int64"
   ]
  },
  {
   "cell_type": "markdown",
   "id": "42d8d09c",
   "metadata": {},
   "source": [
    "nombre_infected       677\n",
    "nombre_sain          2536\n",
    "nombre_exposed        415\n",
    "nombre_recovered    16372\n",
    "Name: 318, dtype: int64"
   ]
  },
  {
   "cell_type": "markdown",
   "id": "1959d1a0",
   "metadata": {},
   "source": [
    "nombre_infected       677\n",
    "nombre_sain          2547\n",
    "nombre_exposed        432\n",
    "nombre_recovered    16344\n",
    "Name: 319, dtype: int64"
   ]
  },
  {
   "cell_type": "markdown",
   "id": "58176cbd",
   "metadata": {},
   "source": [
    "nombre_infected       672\n",
    "nombre_sain          2568\n",
    "nombre_exposed        443\n",
    "nombre_recovered    16317\n",
    "Name: 320, dtype: int64"
   ]
  },
  {
   "cell_type": "markdown",
   "id": "6b9ab458",
   "metadata": {},
   "source": [
    "nombre_infected       676\n",
    "nombre_sain          2594\n",
    "nombre_exposed        451\n",
    "nombre_recovered    16279\n",
    "Name: 321, dtype: int64"
   ]
  },
  {
   "cell_type": "markdown",
   "id": "008b8ff0",
   "metadata": {},
   "source": [
    "nombre_infected       684\n",
    "nombre_sain          2605\n",
    "nombre_exposed        451\n",
    "nombre_recovered    16260\n",
    "Name: 322, dtype: int64"
   ]
  },
  {
   "cell_type": "markdown",
   "id": "aaa42239",
   "metadata": {},
   "source": [
    "nombre_infected       700\n",
    "nombre_sain          2578\n",
    "nombre_exposed        452\n",
    "nombre_recovered    16270\n",
    "Name: 323, dtype: int64"
   ]
  },
  {
   "cell_type": "markdown",
   "id": "1666aa52",
   "metadata": {},
   "source": [
    "nombre_infected       686\n",
    "nombre_sain          2568\n",
    "nombre_exposed        452\n",
    "nombre_recovered    16294\n",
    "Name: 324, dtype: int64"
   ]
  },
  {
   "cell_type": "markdown",
   "id": "59aa6224",
   "metadata": {},
   "source": [
    "nombre_infected       705\n",
    "nombre_sain          2574\n",
    "nombre_exposed        447\n",
    "nombre_recovered    16274\n",
    "Name: 325, dtype: int64"
   ]
  },
  {
   "cell_type": "markdown",
   "id": "ce56618a",
   "metadata": {},
   "source": [
    "nombre_infected       720\n",
    "nombre_sain          2549\n",
    "nombre_exposed        460\n",
    "nombre_recovered    16271\n",
    "Name: 326, dtype: int64"
   ]
  },
  {
   "cell_type": "markdown",
   "id": "2e0ce7fa",
   "metadata": {},
   "source": [
    "nombre_infected       724\n",
    "nombre_sain          2530\n",
    "nombre_exposed        473\n",
    "nombre_recovered    16273\n",
    "Name: 327, dtype: int64"
   ]
  },
  {
   "cell_type": "markdown",
   "id": "3c013d91",
   "metadata": {},
   "source": [
    "nombre_infected       742\n",
    "nombre_sain          2489\n",
    "nombre_exposed        502\n",
    "nombre_recovered    16267\n",
    "Name: 328, dtype: int64"
   ]
  },
  {
   "cell_type": "markdown",
   "id": "de6c9c52",
   "metadata": {},
   "source": [
    "nombre_infected       764\n",
    "nombre_sain          2510\n",
    "nombre_exposed        485\n",
    "nombre_recovered    16241\n",
    "Name: 329, dtype: int64"
   ]
  },
  {
   "cell_type": "markdown",
   "id": "ec8699cb",
   "metadata": {},
   "source": [
    "nombre_infected       781\n",
    "nombre_sain          2507\n",
    "nombre_exposed        475\n",
    "nombre_recovered    16237\n",
    "Name: 330, dtype: int64"
   ]
  },
  {
   "cell_type": "markdown",
   "id": "8f87141c",
   "metadata": {},
   "source": [
    "nombre_infected       802\n",
    "nombre_sain          2493\n",
    "nombre_exposed        495\n",
    "nombre_recovered    16210\n",
    "Name: 331, dtype: int64"
   ]
  },
  {
   "cell_type": "markdown",
   "id": "8cdb6080",
   "metadata": {},
   "source": [
    "nombre_infected       805\n",
    "nombre_sain          2501\n",
    "nombre_exposed        509\n",
    "nombre_recovered    16185\n",
    "Name: 332, dtype: int64"
   ]
  },
  {
   "cell_type": "markdown",
   "id": "017af94a",
   "metadata": {},
   "source": [
    "nombre_infected       812\n",
    "nombre_sain          2507\n",
    "nombre_exposed        516\n",
    "nombre_recovered    16165\n",
    "Name: 333, dtype: int64"
   ]
  },
  {
   "cell_type": "markdown",
   "id": "91047840",
   "metadata": {},
   "source": [
    "nombre_infected       832\n",
    "nombre_sain          2540\n",
    "nombre_exposed        492\n",
    "nombre_recovered    16136\n",
    "Name: 334, dtype: int64"
   ]
  },
  {
   "cell_type": "markdown",
   "id": "2eaf3320",
   "metadata": {},
   "source": [
    "nombre_infected       864\n",
    "nombre_sain          2513\n",
    "nombre_exposed        518\n",
    "nombre_recovered    16105\n",
    "Name: 335, dtype: int64"
   ]
  },
  {
   "cell_type": "markdown",
   "id": "2e84e830",
   "metadata": {},
   "source": [
    "nombre_infected       874\n",
    "nombre_sain          2509\n",
    "nombre_exposed        537\n",
    "nombre_recovered    16080\n",
    "Name: 336, dtype: int64"
   ]
  },
  {
   "cell_type": "markdown",
   "id": "e7a6beb6",
   "metadata": {},
   "source": [
    "nombre_infected       879\n",
    "nombre_sain          2531\n",
    "nombre_exposed        529\n",
    "nombre_recovered    16061\n",
    "Name: 337, dtype: int64"
   ]
  },
  {
   "cell_type": "markdown",
   "id": "bac61ff4",
   "metadata": {},
   "source": [
    "nombre_infected       904\n",
    "nombre_sain          2553\n",
    "nombre_exposed        513\n",
    "nombre_recovered    16030\n",
    "Name: 338, dtype: int64"
   ]
  },
  {
   "cell_type": "markdown",
   "id": "f52e4016",
   "metadata": {},
   "source": [
    "nombre_infected       899\n",
    "nombre_sain          2519\n",
    "nombre_exposed        555\n",
    "nombre_recovered    16027\n",
    "Name: 339, dtype: int64"
   ]
  },
  {
   "cell_type": "markdown",
   "id": "c5bdc3cc",
   "metadata": {},
   "source": [
    "nombre_infected       886\n",
    "nombre_sain          2496\n",
    "nombre_exposed        590\n",
    "nombre_recovered    16028\n",
    "Name: 340, dtype: int64"
   ]
  },
  {
   "cell_type": "markdown",
   "id": "74fe427b",
   "metadata": {},
   "source": [
    "nombre_infected       902\n",
    "nombre_sain          2522\n",
    "nombre_exposed        561\n",
    "nombre_recovered    16015\n",
    "Name: 341, dtype: int64"
   ]
  },
  {
   "cell_type": "markdown",
   "id": "2fae1894",
   "metadata": {},
   "source": [
    "nombre_infected       925\n",
    "nombre_sain          2505\n",
    "nombre_exposed        552\n",
    "nombre_recovered    16018\n",
    "Name: 342, dtype: int64"
   ]
  },
  {
   "cell_type": "markdown",
   "id": "089466e8",
   "metadata": {},
   "source": [
    "nombre_infected       933\n",
    "nombre_sain          2463\n",
    "nombre_exposed        568\n",
    "nombre_recovered    16036\n",
    "Name: 343, dtype: int64"
   ]
  },
  {
   "cell_type": "markdown",
   "id": "10f62c42",
   "metadata": {},
   "source": [
    "nombre_infected       947\n",
    "nombre_sain          2443\n",
    "nombre_exposed        564\n",
    "nombre_recovered    16046\n",
    "Name: 344, dtype: int64"
   ]
  },
  {
   "cell_type": "markdown",
   "id": "cf8d41fa",
   "metadata": {},
   "source": [
    "nombre_infected       939\n",
    "nombre_sain          2444\n",
    "nombre_exposed        564\n",
    "nombre_recovered    16053\n",
    "Name: 345, dtype: int64"
   ]
  },
  {
   "cell_type": "markdown",
   "id": "6295f18b",
   "metadata": {},
   "source": [
    "nombre_infected       926\n",
    "nombre_sain          2418\n",
    "nombre_exposed        575\n",
    "nombre_recovered    16081\n",
    "Name: 346, dtype: int64"
   ]
  },
  {
   "cell_type": "markdown",
   "id": "f2437bed",
   "metadata": {},
   "source": [
    "nombre_infected       921\n",
    "nombre_sain          2396\n",
    "nombre_exposed        600\n",
    "nombre_recovered    16083\n",
    "Name: 347, dtype: int64"
   ]
  },
  {
   "cell_type": "markdown",
   "id": "f9512bfc",
   "metadata": {},
   "source": [
    "nombre_infected       929\n",
    "nombre_sain          2369\n",
    "nombre_exposed        607\n",
    "nombre_recovered    16095\n",
    "Name: 348, dtype: int64"
   ]
  },
  {
   "cell_type": "markdown",
   "id": "4c730b96",
   "metadata": {},
   "source": [
    "nombre_infected       943\n",
    "nombre_sain          2348\n",
    "nombre_exposed        611\n",
    "nombre_recovered    16098\n",
    "Name: 349, dtype: int64"
   ]
  },
  {
   "cell_type": "markdown",
   "id": "65a548e1",
   "metadata": {},
   "source": [
    "nombre_infected       955\n",
    "nombre_sain          2326\n",
    "nombre_exposed        619\n",
    "nombre_recovered    16100\n",
    "Name: 350, dtype: int64"
   ]
  },
  {
   "cell_type": "markdown",
   "id": "ea3a05ee",
   "metadata": {},
   "source": [
    "nombre_infected      1004\n",
    "nombre_sain          2304\n",
    "nombre_exposed        607\n",
    "nombre_recovered    16085\n",
    "Name: 351, dtype: int64"
   ]
  },
  {
   "cell_type": "markdown",
   "id": "727b04b5",
   "metadata": {},
   "source": [
    "nombre_infected      1006\n",
    "nombre_sain          2262\n",
    "nombre_exposed        635\n",
    "nombre_recovered    16097\n",
    "Name: 352, dtype: int64"
   ]
  },
  {
   "cell_type": "markdown",
   "id": "7b5794db",
   "metadata": {},
   "source": [
    "nombre_infected       999\n",
    "nombre_sain          2247\n",
    "nombre_exposed        631\n",
    "nombre_recovered    16123\n",
    "Name: 353, dtype: int64"
   ]
  },
  {
   "cell_type": "markdown",
   "id": "34bce8f4",
   "metadata": {},
   "source": [
    "nombre_infected       986\n",
    "nombre_sain          2231\n",
    "nombre_exposed        619\n",
    "nombre_recovered    16164\n",
    "Name: 354, dtype: int64"
   ]
  },
  {
   "cell_type": "markdown",
   "id": "1fd975ef",
   "metadata": {},
   "source": [
    "nombre_infected      1020\n",
    "nombre_sain          2227\n",
    "nombre_exposed        603\n",
    "nombre_recovered    16150\n",
    "Name: 355, dtype: int64"
   ]
  },
  {
   "cell_type": "markdown",
   "id": "14bab0ea",
   "metadata": {},
   "source": [
    "nombre_infected      1030\n",
    "nombre_sain          2199\n",
    "nombre_exposed        594\n",
    "nombre_recovered    16177\n",
    "Name: 356, dtype: int64"
   ]
  },
  {
   "cell_type": "markdown",
   "id": "7d142455",
   "metadata": {},
   "source": [
    "nombre_infected      1028\n",
    "nombre_sain          2179\n",
    "nombre_exposed        580\n",
    "nombre_recovered    16213\n",
    "Name: 357, dtype: int64"
   ]
  },
  {
   "cell_type": "markdown",
   "id": "d09b20ff",
   "metadata": {},
   "source": [
    "nombre_infected      1028\n",
    "nombre_sain          2169\n",
    "nombre_exposed        564\n",
    "nombre_recovered    16239\n",
    "Name: 358, dtype: int64"
   ]
  },
  {
   "cell_type": "markdown",
   "id": "35e59ce6",
   "metadata": {},
   "source": [
    "nombre_infected      1018\n",
    "nombre_sain          2142\n",
    "nombre_exposed        556\n",
    "nombre_recovered    16284\n",
    "Name: 359, dtype: int64"
   ]
  },
  {
   "cell_type": "markdown",
   "id": "e677e7d0",
   "metadata": {},
   "source": [
    "nombre_infected      1011\n",
    "nombre_sain          2125\n",
    "nombre_exposed        555\n",
    "nombre_recovered    16309\n",
    "Name: 360, dtype: int64"
   ]
  },
  {
   "cell_type": "markdown",
   "id": "96d8b068",
   "metadata": {},
   "source": [
    "nombre_infected      1001\n",
    "nombre_sain          2124\n",
    "nombre_exposed        549\n",
    "nombre_recovered    16326\n",
    "Name: 361, dtype: int64"
   ]
  },
  {
   "cell_type": "markdown",
   "id": "93a38437",
   "metadata": {},
   "source": [
    "nombre_infected       989\n",
    "nombre_sain          2074\n",
    "nombre_exposed        566\n",
    "nombre_recovered    16371\n",
    "Name: 362, dtype: int64"
   ]
  },
  {
   "cell_type": "markdown",
   "id": "ab0799f7",
   "metadata": {},
   "source": [
    "nombre_infected       969\n",
    "nombre_sain          2056\n",
    "nombre_exposed        573\n",
    "nombre_recovered    16402\n",
    "Name: 363, dtype: int64"
   ]
  },
  {
   "cell_type": "markdown",
   "id": "f16677f2",
   "metadata": {},
   "source": [
    "nombre_infected       960\n",
    "nombre_sain          2082\n",
    "nombre_exposed        548\n",
    "nombre_recovered    16410\n",
    "Name: 364, dtype: int64"
   ]
  },
  {
   "cell_type": "markdown",
   "id": "4e227f3c",
   "metadata": {},
   "source": [
    "nombre_infected       962\n",
    "nombre_sain          2100\n",
    "nombre_exposed        537\n",
    "nombre_recovered    16401\n",
    "Name: 365, dtype: int64"
   ]
  },
  {
   "cell_type": "markdown",
   "id": "615d159f",
   "metadata": {},
   "source": [
    "nombre_infected       978\n",
    "nombre_sain          2119\n",
    "nombre_exposed        529\n",
    "nombre_recovered    16374\n",
    "Name: 366, dtype: int64"
   ]
  },
  {
   "cell_type": "markdown",
   "id": "7fc18090",
   "metadata": {},
   "source": [
    "nombre_infected       956\n",
    "nombre_sain          2125\n",
    "nombre_exposed        528\n",
    "nombre_recovered    16391\n",
    "Name: 367, dtype: int64"
   ]
  },
  {
   "cell_type": "markdown",
   "id": "321ba63e",
   "metadata": {},
   "source": [
    "nombre_infected       957\n",
    "nombre_sain          2142\n",
    "nombre_exposed        514\n",
    "nombre_recovered    16387\n",
    "Name: 368, dtype: int64"
   ]
  },
  {
   "cell_type": "markdown",
   "id": "f3d0e2d3",
   "metadata": {},
   "source": [
    "nombre_infected       980\n",
    "nombre_sain          2155\n",
    "nombre_exposed        496\n",
    "nombre_recovered    16369\n",
    "Name: 369, dtype: int64"
   ]
  },
  {
   "cell_type": "markdown",
   "id": "d0d305cb",
   "metadata": {},
   "source": [
    "nombre_infected       936\n",
    "nombre_sain          2189\n",
    "nombre_exposed        505\n",
    "nombre_recovered    16370\n",
    "Name: 370, dtype: int64"
   ]
  },
  {
   "cell_type": "markdown",
   "id": "8d565542",
   "metadata": {},
   "source": [
    "nombre_infected       941\n",
    "nombre_sain          2217\n",
    "nombre_exposed        489\n",
    "nombre_recovered    16353\n",
    "Name: 371, dtype: int64"
   ]
  },
  {
   "cell_type": "markdown",
   "id": "6c9bb566",
   "metadata": {},
   "source": [
    "nombre_infected       937\n",
    "nombre_sain          2237\n",
    "nombre_exposed        492\n",
    "nombre_recovered    16334\n",
    "Name: 372, dtype: int64"
   ]
  },
  {
   "cell_type": "markdown",
   "id": "abd8ef99",
   "metadata": {},
   "source": [
    "nombre_infected       938\n",
    "nombre_sain          2265\n",
    "nombre_exposed        514\n",
    "nombre_recovered    16283\n",
    "Name: 373, dtype: int64"
   ]
  },
  {
   "cell_type": "markdown",
   "id": "80b1c5b0",
   "metadata": {},
   "source": [
    "nombre_infected       919\n",
    "nombre_sain          2291\n",
    "nombre_exposed        525\n",
    "nombre_recovered    16265\n",
    "Name: 374, dtype: int64"
   ]
  },
  {
   "cell_type": "markdown",
   "id": "7d70d67a",
   "metadata": {},
   "source": [
    "nombre_infected       906\n",
    "nombre_sain          2305\n",
    "nombre_exposed        557\n",
    "nombre_recovered    16232\n",
    "Name: 375, dtype: int64"
   ]
  },
  {
   "cell_type": "markdown",
   "id": "dcae06b8",
   "metadata": {},
   "source": [
    "nombre_infected       886\n",
    "nombre_sain          2334\n",
    "nombre_exposed        566\n",
    "nombre_recovered    16214\n",
    "Name: 376, dtype: int64"
   ]
  },
  {
   "cell_type": "markdown",
   "id": "98ef93c9",
   "metadata": {},
   "source": [
    "nombre_infected       891\n",
    "nombre_sain          2354\n",
    "nombre_exposed        547\n",
    "nombre_recovered    16208\n",
    "Name: 377, dtype: int64"
   ]
  },
  {
   "cell_type": "markdown",
   "id": "118aa372",
   "metadata": {},
   "source": [
    "nombre_infected       877\n",
    "nombre_sain          2380\n",
    "nombre_exposed        561\n",
    "nombre_recovered    16182\n",
    "Name: 378, dtype: int64"
   ]
  },
  {
   "cell_type": "markdown",
   "id": "f36914ed",
   "metadata": {},
   "source": [
    "nombre_infected       896\n",
    "nombre_sain          2360\n",
    "nombre_exposed        558\n",
    "nombre_recovered    16186\n",
    "Name: 379, dtype: int64"
   ]
  },
  {
   "cell_type": "markdown",
   "id": "6660dd53",
   "metadata": {},
   "source": [
    "nombre_infected       888\n",
    "nombre_sain          2348\n",
    "nombre_exposed        570\n",
    "nombre_recovered    16194\n",
    "Name: 380, dtype: int64"
   ]
  },
  {
   "cell_type": "markdown",
   "id": "26f9b9f1",
   "metadata": {},
   "source": [
    "nombre_infected       911\n",
    "nombre_sain          2376\n",
    "nombre_exposed        561\n",
    "nombre_recovered    16152\n",
    "Name: 381, dtype: int64"
   ]
  },
  {
   "cell_type": "markdown",
   "id": "f93ab023",
   "metadata": {},
   "source": [
    "nombre_infected       925\n",
    "nombre_sain          2345\n",
    "nombre_exposed        579\n",
    "nombre_recovered    16151\n",
    "Name: 382, dtype: int64"
   ]
  },
  {
   "cell_type": "markdown",
   "id": "c022c4e4",
   "metadata": {},
   "source": [
    "nombre_infected       940\n",
    "nombre_sain          2351\n",
    "nombre_exposed        568\n",
    "nombre_recovered    16141\n",
    "Name: 383, dtype: int64"
   ]
  },
  {
   "cell_type": "markdown",
   "id": "c8668723",
   "metadata": {},
   "source": [
    "nombre_infected       928\n",
    "nombre_sain          2345\n",
    "nombre_exposed        578\n",
    "nombre_recovered    16149\n",
    "Name: 384, dtype: int64"
   ]
  },
  {
   "cell_type": "markdown",
   "id": "fd4e59ca",
   "metadata": {},
   "source": [
    "nombre_infected       926\n",
    "nombre_sain          2314\n",
    "nombre_exposed        602\n",
    "nombre_recovered    16158\n",
    "Name: 385, dtype: int64"
   ]
  },
  {
   "cell_type": "markdown",
   "id": "24ac8952",
   "metadata": {},
   "source": [
    "nombre_infected       958\n",
    "nombre_sain          2293\n",
    "nombre_exposed        598\n",
    "nombre_recovered    16151\n",
    "Name: 386, dtype: int64"
   ]
  },
  {
   "cell_type": "markdown",
   "id": "073c89d2",
   "metadata": {},
   "source": [
    "nombre_infected       947\n",
    "nombre_sain          2281\n",
    "nombre_exposed        599\n",
    "nombre_recovered    16173\n",
    "Name: 387, dtype: int64"
   ]
  },
  {
   "cell_type": "markdown",
   "id": "4418dcf8",
   "metadata": {},
   "source": [
    "nombre_infected       947\n",
    "nombre_sain          2323\n",
    "nombre_exposed        568\n",
    "nombre_recovered    16162\n",
    "Name: 388, dtype: int64"
   ]
  },
  {
   "cell_type": "markdown",
   "id": "730dcd73",
   "metadata": {},
   "source": [
    "nombre_infected       968\n",
    "nombre_sain          2302\n",
    "nombre_exposed        558\n",
    "nombre_recovered    16172\n",
    "Name: 389, dtype: int64"
   ]
  },
  {
   "cell_type": "markdown",
   "id": "72be154a",
   "metadata": {},
   "source": [
    "nombre_infected       973\n",
    "nombre_sain          2326\n",
    "nombre_exposed        529\n",
    "nombre_recovered    16172\n",
    "Name: 390, dtype: int64"
   ]
  },
  {
   "cell_type": "markdown",
   "id": "3d3654bc",
   "metadata": {},
   "source": [
    "nombre_infected       984\n",
    "nombre_sain          2315\n",
    "nombre_exposed        543\n",
    "nombre_recovered    16158\n",
    "Name: 391, dtype: int64"
   ]
  },
  {
   "cell_type": "markdown",
   "id": "116ec6dd",
   "metadata": {},
   "source": [
    "nombre_infected       980\n",
    "nombre_sain          2284\n",
    "nombre_exposed        552\n",
    "nombre_recovered    16184\n",
    "Name: 392, dtype: int64"
   ]
  },
  {
   "cell_type": "markdown",
   "id": "9dedf5cf",
   "metadata": {},
   "source": [
    "nombre_infected      1001\n",
    "nombre_sain          2281\n",
    "nombre_exposed        547\n",
    "nombre_recovered    16171\n",
    "Name: 393, dtype: int64"
   ]
  },
  {
   "cell_type": "markdown",
   "id": "53bf5def",
   "metadata": {},
   "source": [
    "nombre_infected       974\n",
    "nombre_sain          2266\n",
    "nombre_exposed        557\n",
    "nombre_recovered    16203\n",
    "Name: 394, dtype: int64"
   ]
  },
  {
   "cell_type": "markdown",
   "id": "a4aeff4a",
   "metadata": {},
   "source": [
    "nombre_infected       970\n",
    "nombre_sain          2265\n",
    "nombre_exposed        545\n",
    "nombre_recovered    16220\n",
    "Name: 395, dtype: int64"
   ]
  },
  {
   "cell_type": "markdown",
   "id": "debffa8a",
   "metadata": {},
   "source": [
    "nombre_infected       963\n",
    "nombre_sain          2261\n",
    "nombre_exposed        540\n",
    "nombre_recovered    16236\n",
    "Name: 396, dtype: int64"
   ]
  },
  {
   "cell_type": "markdown",
   "id": "a0549320",
   "metadata": {},
   "source": [
    "nombre_infected       957\n",
    "nombre_sain          2266\n",
    "nombre_exposed        523\n",
    "nombre_recovered    16254\n",
    "Name: 397, dtype: int64"
   ]
  },
  {
   "cell_type": "markdown",
   "id": "a968ab29",
   "metadata": {},
   "source": [
    "nombre_infected       964\n",
    "nombre_sain          2246\n",
    "nombre_exposed        501\n",
    "nombre_recovered    16289\n",
    "Name: 398, dtype: int64"
   ]
  },
  {
   "cell_type": "markdown",
   "id": "16d31adf",
   "metadata": {},
   "source": [
    "nombre_infected       961\n",
    "nombre_sain          2217\n",
    "nombre_exposed        510\n",
    "nombre_recovered    16312\n",
    "Name: 399, dtype: int64"
   ]
  },
  {
   "cell_type": "markdown",
   "id": "9c97e120",
   "metadata": {},
   "source": [
    "nombre_infected       961\n",
    "nombre_sain          2220\n",
    "nombre_exposed        496\n",
    "nombre_recovered    16323\n",
    "Name: 400, dtype: int64"
   ]
  },
  {
   "cell_type": "markdown",
   "id": "7c728ba5",
   "metadata": {},
   "source": [
    "nombre_infected       955\n",
    "nombre_sain          2236\n",
    "nombre_exposed        471\n",
    "nombre_recovered    16338\n",
    "Name: 401, dtype: int64"
   ]
  },
  {
   "cell_type": "markdown",
   "id": "4c543bbb",
   "metadata": {},
   "source": [
    "nombre_infected       934\n",
    "nombre_sain          2237\n",
    "nombre_exposed        478\n",
    "nombre_recovered    16351\n",
    "Name: 402, dtype: int64"
   ]
  },
  {
   "cell_type": "markdown",
   "id": "3d5e0f35",
   "metadata": {},
   "source": [
    "nombre_infected       895\n",
    "nombre_sain          2226\n",
    "nombre_exposed        507\n",
    "nombre_recovered    16372\n",
    "Name: 403, dtype: int64"
   ]
  },
  {
   "cell_type": "markdown",
   "id": "c3815080",
   "metadata": {},
   "source": [
    "nombre_infected       875\n",
    "nombre_sain          2227\n",
    "nombre_exposed        505\n",
    "nombre_recovered    16393\n",
    "Name: 404, dtype: int64"
   ]
  },
  {
   "cell_type": "markdown",
   "id": "74340eb3",
   "metadata": {},
   "source": [
    "nombre_infected       868\n",
    "nombre_sain          2225\n",
    "nombre_exposed        493\n",
    "nombre_recovered    16414\n",
    "Name: 405, dtype: int64"
   ]
  },
  {
   "cell_type": "markdown",
   "id": "d000d386",
   "metadata": {},
   "source": [
    "nombre_infected       856\n",
    "nombre_sain          2227\n",
    "nombre_exposed        508\n",
    "nombre_recovered    16409\n",
    "Name: 406, dtype: int64"
   ]
  },
  {
   "cell_type": "markdown",
   "id": "679386e0",
   "metadata": {},
   "source": [
    "nombre_infected       849\n",
    "nombre_sain          2223\n",
    "nombre_exposed        532\n",
    "nombre_recovered    16396\n",
    "Name: 407, dtype: int64"
   ]
  },
  {
   "cell_type": "markdown",
   "id": "29aa157d",
   "metadata": {},
   "source": [
    "nombre_infected       878\n",
    "nombre_sain          2222\n",
    "nombre_exposed        498\n",
    "nombre_recovered    16402\n",
    "Name: 408, dtype: int64"
   ]
  },
  {
   "cell_type": "markdown",
   "id": "c31d2c82",
   "metadata": {},
   "source": [
    "nombre_infected       889\n",
    "nombre_sain          2216\n",
    "nombre_exposed        496\n",
    "nombre_recovered    16399\n",
    "Name: 409, dtype: int64"
   ]
  },
  {
   "cell_type": "markdown",
   "id": "6639f4c8",
   "metadata": {},
   "source": [
    "nombre_infected       879\n",
    "nombre_sain          2220\n",
    "nombre_exposed        502\n",
    "nombre_recovered    16399\n",
    "Name: 410, dtype: int64"
   ]
  },
  {
   "cell_type": "markdown",
   "id": "7d21c5c1",
   "metadata": {},
   "source": [
    "nombre_infected       872\n",
    "nombre_sain          2254\n",
    "nombre_exposed        490\n",
    "nombre_recovered    16384\n",
    "Name: 411, dtype: int64"
   ]
  },
  {
   "cell_type": "markdown",
   "id": "9dc39056",
   "metadata": {},
   "source": [
    "nombre_infected       884\n",
    "nombre_sain          2284\n",
    "nombre_exposed        468\n",
    "nombre_recovered    16364\n",
    "Name: 412, dtype: int64"
   ]
  },
  {
   "cell_type": "markdown",
   "id": "0fa11555",
   "metadata": {},
   "source": [
    "nombre_infected       877\n",
    "nombre_sain          2300\n",
    "nombre_exposed        478\n",
    "nombre_recovered    16345\n",
    "Name: 413, dtype: int64"
   ]
  },
  {
   "cell_type": "markdown",
   "id": "7e2329a3",
   "metadata": {},
   "source": [
    "nombre_infected       869\n",
    "nombre_sain          2308\n",
    "nombre_exposed        493\n",
    "nombre_recovered    16330\n",
    "Name: 414, dtype: int64"
   ]
  },
  {
   "cell_type": "markdown",
   "id": "30abed0e",
   "metadata": {},
   "source": [
    "nombre_infected       842\n",
    "nombre_sain          2326\n",
    "nombre_exposed        512\n",
    "nombre_recovered    16320\n",
    "Name: 415, dtype: int64"
   ]
  },
  {
   "cell_type": "markdown",
   "id": "a1e2d8a2",
   "metadata": {},
   "source": [
    "nombre_infected       840\n",
    "nombre_sain          2327\n",
    "nombre_exposed        486\n",
    "nombre_recovered    16347\n",
    "Name: 416, dtype: int64"
   ]
  },
  {
   "cell_type": "markdown",
   "id": "af24846e",
   "metadata": {},
   "source": [
    "nombre_infected       832\n",
    "nombre_sain          2320\n",
    "nombre_exposed        498\n",
    "nombre_recovered    16350\n",
    "Name: 417, dtype: int64"
   ]
  },
  {
   "cell_type": "markdown",
   "id": "cca4b6b4",
   "metadata": {},
   "source": [
    "nombre_infected       816\n",
    "nombre_sain          2321\n",
    "nombre_exposed        503\n",
    "nombre_recovered    16360\n",
    "Name: 418, dtype: int64"
   ]
  },
  {
   "cell_type": "markdown",
   "id": "37ccfeb9",
   "metadata": {},
   "source": [
    "nombre_infected       823\n",
    "nombre_sain          2356\n",
    "nombre_exposed        484\n",
    "nombre_recovered    16337\n",
    "Name: 419, dtype: int64"
   ]
  },
  {
   "cell_type": "markdown",
   "id": "1ee84385",
   "metadata": {},
   "source": [
    "nombre_infected       831\n",
    "nombre_sain          2348\n",
    "nombre_exposed        468\n",
    "nombre_recovered    16353\n",
    "Name: 420, dtype: int64"
   ]
  },
  {
   "cell_type": "markdown",
   "id": "0c4effd6",
   "metadata": {},
   "source": [
    "nombre_infected       833\n",
    "nombre_sain          2350\n",
    "nombre_exposed        461\n",
    "nombre_recovered    16356\n",
    "Name: 421, dtype: int64"
   ]
  },
  {
   "cell_type": "markdown",
   "id": "9da587c7",
   "metadata": {},
   "source": [
    "nombre_infected       803\n",
    "nombre_sain          2369\n",
    "nombre_exposed        481\n",
    "nombre_recovered    16347\n",
    "Name: 422, dtype: int64"
   ]
  },
  {
   "cell_type": "markdown",
   "id": "1aeed01b",
   "metadata": {},
   "source": [
    "nombre_infected       803\n",
    "nombre_sain          2367\n",
    "nombre_exposed        473\n",
    "nombre_recovered    16357\n",
    "Name: 423, dtype: int64"
   ]
  },
  {
   "cell_type": "markdown",
   "id": "78fef281",
   "metadata": {},
   "source": [
    "nombre_infected       796\n",
    "nombre_sain          2365\n",
    "nombre_exposed        451\n",
    "nombre_recovered    16388\n",
    "Name: 424, dtype: int64"
   ]
  },
  {
   "cell_type": "markdown",
   "id": "8ffe278c",
   "metadata": {},
   "source": [
    "nombre_infected       794\n",
    "nombre_sain          2380\n",
    "nombre_exposed        465\n",
    "nombre_recovered    16361\n",
    "Name: 425, dtype: int64"
   ]
  },
  {
   "cell_type": "markdown",
   "id": "6020b800",
   "metadata": {},
   "source": [
    "nombre_infected       777\n",
    "nombre_sain          2390\n",
    "nombre_exposed        463\n",
    "nombre_recovered    16370\n",
    "Name: 426, dtype: int64"
   ]
  },
  {
   "cell_type": "markdown",
   "id": "fe5f2fb1",
   "metadata": {},
   "source": [
    "nombre_infected       755\n",
    "nombre_sain          2413\n",
    "nombre_exposed        478\n",
    "nombre_recovered    16354\n",
    "Name: 427, dtype: int64"
   ]
  },
  {
   "cell_type": "markdown",
   "id": "0c65a26a",
   "metadata": {},
   "source": [
    "nombre_infected       767\n",
    "nombre_sain          2446\n",
    "nombre_exposed        450\n",
    "nombre_recovered    16337\n",
    "Name: 428, dtype: int64"
   ]
  },
  {
   "cell_type": "markdown",
   "id": "af24e2a7",
   "metadata": {},
   "source": [
    "nombre_infected       777\n",
    "nombre_sain          2457\n",
    "nombre_exposed        431\n",
    "nombre_recovered    16335\n",
    "Name: 429, dtype: int64"
   ]
  },
  {
   "cell_type": "markdown",
   "id": "4b8a4a1d",
   "metadata": {},
   "source": [
    "nombre_infected       781\n",
    "nombre_sain          2469\n",
    "nombre_exposed        429\n",
    "nombre_recovered    16321\n",
    "Name: 430, dtype: int64"
   ]
  },
  {
   "cell_type": "markdown",
   "id": "e3ed5ba4",
   "metadata": {},
   "source": [
    "nombre_infected       754\n",
    "nombre_sain          2440\n",
    "nombre_exposed        472\n",
    "nombre_recovered    16334\n",
    "Name: 431, dtype: int64"
   ]
  },
  {
   "cell_type": "markdown",
   "id": "b2b6521d",
   "metadata": {},
   "source": [
    "nombre_infected       748\n",
    "nombre_sain          2451\n",
    "nombre_exposed        465\n",
    "nombre_recovered    16336\n",
    "Name: 432, dtype: int64"
   ]
  },
  {
   "cell_type": "markdown",
   "id": "af02b770",
   "metadata": {},
   "source": [
    "nombre_infected       767\n",
    "nombre_sain          2479\n",
    "nombre_exposed        444\n",
    "nombre_recovered    16310\n",
    "Name: 433, dtype: int64"
   ]
  },
  {
   "cell_type": "markdown",
   "id": "2edcefcf",
   "metadata": {},
   "source": [
    "nombre_infected       764\n",
    "nombre_sain          2473\n",
    "nombre_exposed        453\n",
    "nombre_recovered    16310\n",
    "Name: 434, dtype: int64"
   ]
  },
  {
   "cell_type": "markdown",
   "id": "ede8c6d5",
   "metadata": {},
   "source": [
    "nombre_infected       776\n",
    "nombre_sain          2476\n",
    "nombre_exposed        459\n",
    "nombre_recovered    16289\n",
    "Name: 435, dtype: int64"
   ]
  },
  {
   "cell_type": "markdown",
   "id": "3537c23f",
   "metadata": {},
   "source": [
    "nombre_infected       753\n",
    "nombre_sain          2475\n",
    "nombre_exposed        472\n",
    "nombre_recovered    16300\n",
    "Name: 436, dtype: int64"
   ]
  },
  {
   "cell_type": "markdown",
   "id": "2f8ba594",
   "metadata": {},
   "source": [
    "nombre_infected       753\n",
    "nombre_sain          2468\n",
    "nombre_exposed        469\n",
    "nombre_recovered    16310\n",
    "Name: 437, dtype: int64"
   ]
  },
  {
   "cell_type": "markdown",
   "id": "88b5e95b",
   "metadata": {},
   "source": [
    "nombre_infected       770\n",
    "nombre_sain          2484\n",
    "nombre_exposed        455\n",
    "nombre_recovered    16291\n",
    "Name: 438, dtype: int64"
   ]
  },
  {
   "cell_type": "markdown",
   "id": "42bc5faf",
   "metadata": {},
   "source": [
    "nombre_infected       763\n",
    "nombre_sain          2499\n",
    "nombre_exposed        466\n",
    "nombre_recovered    16272\n",
    "Name: 439, dtype: int64"
   ]
  },
  {
   "cell_type": "markdown",
   "id": "b5a6bca8",
   "metadata": {},
   "source": [
    "nombre_infected       748\n",
    "nombre_sain          2531\n",
    "nombre_exposed        481\n",
    "nombre_recovered    16240\n",
    "Name: 440, dtype: int64"
   ]
  },
  {
   "cell_type": "markdown",
   "id": "47b61d23",
   "metadata": {},
   "source": [
    "nombre_infected       747\n",
    "nombre_sain          2564\n",
    "nombre_exposed        469\n",
    "nombre_recovered    16220\n",
    "Name: 441, dtype: int64"
   ]
  },
  {
   "cell_type": "markdown",
   "id": "03ea0123",
   "metadata": {},
   "source": [
    "nombre_infected       747\n",
    "nombre_sain          2584\n",
    "nombre_exposed        484\n",
    "nombre_recovered    16185\n",
    "Name: 442, dtype: int64"
   ]
  },
  {
   "cell_type": "markdown",
   "id": "3f91be0b",
   "metadata": {},
   "source": [
    "nombre_infected       739\n",
    "nombre_sain          2600\n",
    "nombre_exposed        465\n",
    "nombre_recovered    16196\n",
    "Name: 443, dtype: int64"
   ]
  },
  {
   "cell_type": "markdown",
   "id": "c4b09372",
   "metadata": {},
   "source": [
    "nombre_infected       713\n",
    "nombre_sain          2632\n",
    "nombre_exposed        482\n",
    "nombre_recovered    16173\n",
    "Name: 444, dtype: int64"
   ]
  },
  {
   "cell_type": "markdown",
   "id": "295531f6",
   "metadata": {},
   "source": [
    "nombre_infected       722\n",
    "nombre_sain          2651\n",
    "nombre_exposed        486\n",
    "nombre_recovered    16141\n",
    "Name: 445, dtype: int64"
   ]
  },
  {
   "cell_type": "markdown",
   "id": "f154f39c",
   "metadata": {},
   "source": [
    "nombre_infected       730\n",
    "nombre_sain          2687\n",
    "nombre_exposed        497\n",
    "nombre_recovered    16086\n",
    "Name: 446, dtype: int64"
   ]
  },
  {
   "cell_type": "markdown",
   "id": "b435bb99",
   "metadata": {},
   "source": [
    "nombre_infected       742\n",
    "nombre_sain          2702\n",
    "nombre_exposed        490\n",
    "nombre_recovered    16066\n",
    "Name: 447, dtype: int64"
   ]
  },
  {
   "cell_type": "markdown",
   "id": "6d3d1573",
   "metadata": {},
   "source": [
    "nombre_infected       734\n",
    "nombre_sain          2729\n",
    "nombre_exposed        484\n",
    "nombre_recovered    16053\n",
    "Name: 448, dtype: int64"
   ]
  },
  {
   "cell_type": "markdown",
   "id": "21cd5c43",
   "metadata": {},
   "source": [
    "nombre_infected       754\n",
    "nombre_sain          2722\n",
    "nombre_exposed        507\n",
    "nombre_recovered    16017\n",
    "Name: 449, dtype: int64"
   ]
  },
  {
   "cell_type": "markdown",
   "id": "7ed7b0a9",
   "metadata": {},
   "source": [
    "nombre_infected       772\n",
    "nombre_sain          2714\n",
    "nombre_exposed        521\n",
    "nombre_recovered    15993\n",
    "Name: 450, dtype: int64"
   ]
  },
  {
   "cell_type": "markdown",
   "id": "16ae3311",
   "metadata": {},
   "source": [
    "nombre_infected       776\n",
    "nombre_sain          2680\n",
    "nombre_exposed        538\n",
    "nombre_recovered    16006\n",
    "Name: 451, dtype: int64"
   ]
  },
  {
   "cell_type": "markdown",
   "id": "a0cd0554",
   "metadata": {},
   "source": [
    "nombre_infected       776\n",
    "nombre_sain          2709\n",
    "nombre_exposed        533\n",
    "nombre_recovered    15982\n",
    "Name: 452, dtype: int64"
   ]
  },
  {
   "cell_type": "markdown",
   "id": "1bd871e5",
   "metadata": {},
   "source": [
    "nombre_infected       803\n",
    "nombre_sain          2700\n",
    "nombre_exposed        549\n",
    "nombre_recovered    15948\n",
    "Name: 453, dtype: int64"
   ]
  },
  {
   "cell_type": "markdown",
   "id": "a7331e98",
   "metadata": {},
   "source": [
    "nombre_infected       813\n",
    "nombre_sain          2703\n",
    "nombre_exposed        547\n",
    "nombre_recovered    15937\n",
    "Name: 454, dtype: int64"
   ]
  },
  {
   "cell_type": "markdown",
   "id": "0ac90f74",
   "metadata": {},
   "source": [
    "nombre_infected       830\n",
    "nombre_sain          2679\n",
    "nombre_exposed        560\n",
    "nombre_recovered    15931\n",
    "Name: 455, dtype: int64"
   ]
  },
  {
   "cell_type": "markdown",
   "id": "18e55a26",
   "metadata": {},
   "source": [
    "nombre_infected       829\n",
    "nombre_sain          2658\n",
    "nombre_exposed        584\n",
    "nombre_recovered    15929\n",
    "Name: 456, dtype: int64"
   ]
  },
  {
   "cell_type": "markdown",
   "id": "1d36f2d9",
   "metadata": {},
   "source": [
    "nombre_infected       833\n",
    "nombre_sain          2646\n",
    "nombre_exposed        572\n",
    "nombre_recovered    15949\n",
    "Name: 457, dtype: int64"
   ]
  },
  {
   "cell_type": "markdown",
   "id": "b087d229",
   "metadata": {},
   "source": [
    "nombre_infected       855\n",
    "nombre_sain          2639\n",
    "nombre_exposed        562\n",
    "nombre_recovered    15944\n",
    "Name: 458, dtype: int64"
   ]
  },
  {
   "cell_type": "markdown",
   "id": "6162ac87",
   "metadata": {},
   "source": [
    "nombre_infected       844\n",
    "nombre_sain          2631\n",
    "nombre_exposed        559\n",
    "nombre_recovered    15966\n",
    "Name: 459, dtype: int64"
   ]
  },
  {
   "cell_type": "markdown",
   "id": "bf3225c8",
   "metadata": {},
   "source": [
    "nombre_infected       830\n",
    "nombre_sain          2617\n",
    "nombre_exposed        561\n",
    "nombre_recovered    15992\n",
    "Name: 460, dtype: int64"
   ]
  },
  {
   "cell_type": "markdown",
   "id": "f364ce58",
   "metadata": {},
   "source": [
    "nombre_infected       844\n",
    "nombre_sain          2582\n",
    "nombre_exposed        555\n",
    "nombre_recovered    16019\n",
    "Name: 461, dtype: int64"
   ]
  },
  {
   "cell_type": "markdown",
   "id": "54b7c551",
   "metadata": {},
   "source": [
    "nombre_infected       837\n",
    "nombre_sain          2545\n",
    "nombre_exposed        586\n",
    "nombre_recovered    16032\n",
    "Name: 462, dtype: int64"
   ]
  },
  {
   "cell_type": "markdown",
   "id": "1adb4a7c",
   "metadata": {},
   "source": [
    "nombre_infected       859\n",
    "nombre_sain          2561\n",
    "nombre_exposed        559\n",
    "nombre_recovered    16021\n",
    "Name: 463, dtype: int64"
   ]
  },
  {
   "cell_type": "markdown",
   "id": "c2e42184",
   "metadata": {},
   "source": [
    "nombre_infected       868\n",
    "nombre_sain          2558\n",
    "nombre_exposed        573\n",
    "nombre_recovered    16001\n",
    "Name: 464, dtype: int64"
   ]
  },
  {
   "cell_type": "markdown",
   "id": "fd2f6575",
   "metadata": {},
   "source": [
    "nombre_infected       867\n",
    "nombre_sain          2562\n",
    "nombre_exposed        577\n",
    "nombre_recovered    15994\n",
    "Name: 465, dtype: int64"
   ]
  },
  {
   "cell_type": "markdown",
   "id": "9cdcee05",
   "metadata": {},
   "source": [
    "nombre_infected       856\n",
    "nombre_sain          2565\n",
    "nombre_exposed        577\n",
    "nombre_recovered    16002\n",
    "Name: 466, dtype: int64"
   ]
  },
  {
   "cell_type": "markdown",
   "id": "1598acfb",
   "metadata": {},
   "source": [
    "nombre_infected       848\n",
    "nombre_sain          2549\n",
    "nombre_exposed        576\n",
    "nombre_recovered    16027\n",
    "Name: 467, dtype: int64"
   ]
  },
  {
   "cell_type": "markdown",
   "id": "8e3ce7bc",
   "metadata": {},
   "source": [
    "nombre_infected       855\n",
    "nombre_sain          2522\n",
    "nombre_exposed        577\n",
    "nombre_recovered    16046\n",
    "Name: 468, dtype: int64"
   ]
  },
  {
   "cell_type": "markdown",
   "id": "5ede744c",
   "metadata": {},
   "source": [
    "nombre_infected       832\n",
    "nombre_sain          2532\n",
    "nombre_exposed        575\n",
    "nombre_recovered    16061\n",
    "Name: 469, dtype: int64"
   ]
  },
  {
   "cell_type": "markdown",
   "id": "8291c033",
   "metadata": {},
   "source": [
    "nombre_infected       833\n",
    "nombre_sain          2534\n",
    "nombre_exposed        582\n",
    "nombre_recovered    16051\n",
    "Name: 470, dtype: int64"
   ]
  },
  {
   "cell_type": "markdown",
   "id": "7687e7a6",
   "metadata": {},
   "source": [
    "nombre_infected       836\n",
    "nombre_sain          2526\n",
    "nombre_exposed        594\n",
    "nombre_recovered    16044\n",
    "Name: 471, dtype: int64"
   ]
  },
  {
   "cell_type": "markdown",
   "id": "0720b994",
   "metadata": {},
   "source": [
    "nombre_infected       850\n",
    "nombre_sain          2529\n",
    "nombre_exposed        568\n",
    "nombre_recovered    16053\n",
    "Name: 472, dtype: int64"
   ]
  },
  {
   "cell_type": "markdown",
   "id": "89710210",
   "metadata": {},
   "source": [
    "nombre_infected       852\n",
    "nombre_sain          2523\n",
    "nombre_exposed        567\n",
    "nombre_recovered    16058\n",
    "Name: 473, dtype: int64"
   ]
  },
  {
   "cell_type": "markdown",
   "id": "05436b04",
   "metadata": {},
   "source": [
    "nombre_infected       870\n",
    "nombre_sain          2507\n",
    "nombre_exposed        557\n",
    "nombre_recovered    16066\n",
    "Name: 474, dtype: int64"
   ]
  },
  {
   "cell_type": "markdown",
   "id": "6d6135bd",
   "metadata": {},
   "source": [
    "nombre_infected       904\n",
    "nombre_sain          2479\n",
    "nombre_exposed        553\n",
    "nombre_recovered    16064\n",
    "Name: 475, dtype: int64"
   ]
  },
  {
   "cell_type": "markdown",
   "id": "811ab987",
   "metadata": {},
   "source": [
    "nombre_infected       886\n",
    "nombre_sain          2432\n",
    "nombre_exposed        590\n",
    "nombre_recovered    16092\n",
    "Name: 476, dtype: int64"
   ]
  },
  {
   "cell_type": "markdown",
   "id": "26b3070b",
   "metadata": {},
   "source": [
    "nombre_infected       891\n",
    "nombre_sain          2405\n",
    "nombre_exposed        592\n",
    "nombre_recovered    16112\n",
    "Name: 477, dtype: int64"
   ]
  },
  {
   "cell_type": "markdown",
   "id": "deaddcb1",
   "metadata": {},
   "source": [
    "nombre_infected       908\n",
    "nombre_sain          2375\n",
    "nombre_exposed        591\n",
    "nombre_recovered    16126\n",
    "Name: 478, dtype: int64"
   ]
  },
  {
   "cell_type": "markdown",
   "id": "950ea7c7",
   "metadata": {},
   "source": [
    "nombre_infected       907\n",
    "nombre_sain          2365\n",
    "nombre_exposed        592\n",
    "nombre_recovered    16136\n",
    "Name: 479, dtype: int64"
   ]
  },
  {
   "cell_type": "markdown",
   "id": "8f33f9d6",
   "metadata": {},
   "source": [
    "nombre_infected       905\n",
    "nombre_sain          2355\n",
    "nombre_exposed        581\n",
    "nombre_recovered    16159\n",
    "Name: 480, dtype: int64"
   ]
  },
  {
   "cell_type": "markdown",
   "id": "556859e0",
   "metadata": {},
   "source": [
    "nombre_infected       903\n",
    "nombre_sain          2383\n",
    "nombre_exposed        564\n",
    "nombre_recovered    16150\n",
    "Name: 481, dtype: int64"
   ]
  },
  {
   "cell_type": "markdown",
   "id": "ac466059",
   "metadata": {},
   "source": [
    "nombre_infected       902\n",
    "nombre_sain          2361\n",
    "nombre_exposed        580\n",
    "nombre_recovered    16157\n",
    "Name: 482, dtype: int64"
   ]
  },
  {
   "cell_type": "markdown",
   "id": "9c7920c2",
   "metadata": {},
   "source": [
    "nombre_infected       913\n",
    "nombre_sain          2349\n",
    "nombre_exposed        577\n",
    "nombre_recovered    16161\n",
    "Name: 483, dtype: int64"
   ]
  },
  {
   "cell_type": "markdown",
   "id": "6b08f00d",
   "metadata": {},
   "source": [
    "nombre_infected       894\n",
    "nombre_sain          2323\n",
    "nombre_exposed        572\n",
    "nombre_recovered    16211\n",
    "Name: 484, dtype: int64"
   ]
  },
  {
   "cell_type": "markdown",
   "id": "384e3cd1",
   "metadata": {},
   "source": [
    "nombre_infected       888\n",
    "nombre_sain          2322\n",
    "nombre_exposed        576\n",
    "nombre_recovered    16214\n",
    "Name: 485, dtype: int64"
   ]
  },
  {
   "cell_type": "markdown",
   "id": "e2fc84eb",
   "metadata": {},
   "source": [
    "nombre_infected       886\n",
    "nombre_sain          2306\n",
    "nombre_exposed        592\n",
    "nombre_recovered    16216\n",
    "Name: 486, dtype: int64"
   ]
  },
  {
   "cell_type": "markdown",
   "id": "eaa06e43",
   "metadata": {},
   "source": [
    "nombre_infected       877\n",
    "nombre_sain          2315\n",
    "nombre_exposed        568\n",
    "nombre_recovered    16240\n",
    "Name: 487, dtype: int64"
   ]
  },
  {
   "cell_type": "markdown",
   "id": "67cc0526",
   "metadata": {},
   "source": [
    "nombre_infected       891\n",
    "nombre_sain          2284\n",
    "nombre_exposed        567\n",
    "nombre_recovered    16258\n",
    "Name: 488, dtype: int64"
   ]
  },
  {
   "cell_type": "markdown",
   "id": "c3d6faf3",
   "metadata": {},
   "source": [
    "nombre_infected       875\n",
    "nombre_sain          2263\n",
    "nombre_exposed        599\n",
    "nombre_recovered    16263\n",
    "Name: 489, dtype: int64"
   ]
  },
  {
   "cell_type": "markdown",
   "id": "f8dc1dff",
   "metadata": {},
   "source": [
    "nombre_infected       879\n",
    "nombre_sain          2279\n",
    "nombre_exposed        590\n",
    "nombre_recovered    16252\n",
    "Name: 490, dtype: int64"
   ]
  },
  {
   "cell_type": "markdown",
   "id": "32ae197c",
   "metadata": {},
   "source": [
    "nombre_infected       909\n",
    "nombre_sain          2304\n",
    "nombre_exposed        544\n",
    "nombre_recovered    16243\n",
    "Name: 491, dtype: int64"
   ]
  },
  {
   "cell_type": "markdown",
   "id": "7f11410b",
   "metadata": {},
   "source": [
    "nombre_infected       918\n",
    "nombre_sain          2320\n",
    "nombre_exposed        548\n",
    "nombre_recovered    16214\n",
    "Name: 492, dtype: int64"
   ]
  },
  {
   "cell_type": "markdown",
   "id": "dd7b0a34",
   "metadata": {},
   "source": [
    "nombre_infected       905\n",
    "nombre_sain          2329\n",
    "nombre_exposed        543\n",
    "nombre_recovered    16223\n",
    "Name: 493, dtype: int64"
   ]
  },
  {
   "cell_type": "markdown",
   "id": "b8c98287",
   "metadata": {},
   "source": [
    "nombre_infected       921\n",
    "nombre_sain          2312\n",
    "nombre_exposed        536\n",
    "nombre_recovered    16231\n",
    "Name: 494, dtype: int64"
   ]
  },
  {
   "cell_type": "markdown",
   "id": "a4bb09ee",
   "metadata": {},
   "source": [
    "nombre_infected       882\n",
    "nombre_sain          2319\n",
    "nombre_exposed        519\n",
    "nombre_recovered    16280\n",
    "Name: 495, dtype: int64"
   ]
  },
  {
   "cell_type": "markdown",
   "id": "12d5d3f9",
   "metadata": {},
   "source": [
    "nombre_infected       871\n",
    "nombre_sain          2308\n",
    "nombre_exposed        510\n",
    "nombre_recovered    16311\n",
    "Name: 496, dtype: int64"
   ]
  },
  {
   "cell_type": "markdown",
   "id": "a2da8374",
   "metadata": {},
   "source": [
    "nombre_infected       867\n",
    "nombre_sain          2297\n",
    "nombre_exposed        525\n",
    "nombre_recovered    16311\n",
    "Name: 497, dtype: int64"
   ]
  },
  {
   "cell_type": "markdown",
   "id": "f1fa6182",
   "metadata": {},
   "source": [
    "nombre_infected       843\n",
    "nombre_sain          2302\n",
    "nombre_exposed        539\n",
    "nombre_recovered    16316\n",
    "Name: 498, dtype: int64"
   ]
  },
  {
   "cell_type": "markdown",
   "id": "a297baab",
   "metadata": {},
   "source": [
    "nombre_infected       832\n",
    "nombre_sain          2344\n",
    "nombre_exposed        509\n",
    "nombre_recovered    16315\n",
    "Name: 499, dtype: int64"
   ]
  },
  {
   "cell_type": "markdown",
   "id": "c383d801",
   "metadata": {},
   "source": [
    "nombre_infected       840\n",
    "nombre_sain          2369\n",
    "nombre_exposed        497\n",
    "nombre_recovered    16294\n",
    "Name: 500, dtype: int64"
   ]
  },
  {
   "cell_type": "markdown",
   "id": "36fdd4aa",
   "metadata": {},
   "source": [
    "nombre_infected       849\n",
    "nombre_sain          2355\n",
    "nombre_exposed        498\n",
    "nombre_recovered    16298\n",
    "Name: 501, dtype: int64"
   ]
  },
  {
   "cell_type": "markdown",
   "id": "e2023163",
   "metadata": {},
   "source": [
    "nombre_infected       818\n",
    "nombre_sain          2394\n",
    "nombre_exposed        498\n",
    "nombre_recovered    16290\n",
    "Name: 502, dtype: int64"
   ]
  },
  {
   "cell_type": "markdown",
   "id": "6db79ddb",
   "metadata": {},
   "source": [
    "nombre_infected       819\n",
    "nombre_sain          2378\n",
    "nombre_exposed        500\n",
    "nombre_recovered    16303\n",
    "Name: 503, dtype: int64"
   ]
  },
  {
   "cell_type": "markdown",
   "id": "da853995",
   "metadata": {},
   "source": [
    "nombre_infected       808\n",
    "nombre_sain          2414\n",
    "nombre_exposed        489\n",
    "nombre_recovered    16289\n",
    "Name: 504, dtype: int64"
   ]
  },
  {
   "cell_type": "markdown",
   "id": "67b4fbf7",
   "metadata": {},
   "source": [
    "nombre_infected       814\n",
    "nombre_sain          2433\n",
    "nombre_exposed        481\n",
    "nombre_recovered    16272\n",
    "Name: 505, dtype: int64"
   ]
  },
  {
   "cell_type": "markdown",
   "id": "9ccce9ce",
   "metadata": {},
   "source": [
    "nombre_infected       803\n",
    "nombre_sain          2464\n",
    "nombre_exposed        476\n",
    "nombre_recovered    16257\n",
    "Name: 506, dtype: int64"
   ]
  },
  {
   "cell_type": "markdown",
   "id": "a3a080ff",
   "metadata": {},
   "source": [
    "nombre_infected       832\n",
    "nombre_sain          2467\n",
    "nombre_exposed        482\n",
    "nombre_recovered    16219\n",
    "Name: 507, dtype: int64"
   ]
  },
  {
   "cell_type": "markdown",
   "id": "98c4c5ef",
   "metadata": {},
   "source": [
    "nombre_infected       824\n",
    "nombre_sain          2455\n",
    "nombre_exposed        486\n",
    "nombre_recovered    16235\n",
    "Name: 508, dtype: int64"
   ]
  },
  {
   "cell_type": "markdown",
   "id": "48bfac3e",
   "metadata": {},
   "source": [
    "nombre_infected       796\n",
    "nombre_sain          2478\n",
    "nombre_exposed        491\n",
    "nombre_recovered    16235\n",
    "Name: 509, dtype: int64"
   ]
  },
  {
   "cell_type": "markdown",
   "id": "e619fadb",
   "metadata": {},
   "source": [
    "nombre_infected       800\n",
    "nombre_sain          2508\n",
    "nombre_exposed        474\n",
    "nombre_recovered    16218\n",
    "Name: 510, dtype: int64"
   ]
  },
  {
   "cell_type": "markdown",
   "id": "6140c979",
   "metadata": {},
   "source": [
    "nombre_infected       824\n",
    "nombre_sain          2512\n",
    "nombre_exposed        472\n",
    "nombre_recovered    16192\n",
    "Name: 511, dtype: int64"
   ]
  },
  {
   "cell_type": "markdown",
   "id": "3f9b07d3",
   "metadata": {},
   "source": [
    "nombre_infected       824\n",
    "nombre_sain          2509\n",
    "nombre_exposed        484\n",
    "nombre_recovered    16183\n",
    "Name: 512, dtype: int64"
   ]
  },
  {
   "cell_type": "markdown",
   "id": "2a77e98f",
   "metadata": {},
   "source": [
    "nombre_infected       815\n",
    "nombre_sain          2487\n",
    "nombre_exposed        508\n",
    "nombre_recovered    16190\n",
    "Name: 513, dtype: int64"
   ]
  },
  {
   "cell_type": "markdown",
   "id": "f4f9c4ed",
   "metadata": {},
   "source": [
    "nombre_infected       813\n",
    "nombre_sain          2521\n",
    "nombre_exposed        492\n",
    "nombre_recovered    16174\n",
    "Name: 514, dtype: int64"
   ]
  },
  {
   "cell_type": "markdown",
   "id": "47e97db2",
   "metadata": {},
   "source": [
    "nombre_infected       819\n",
    "nombre_sain          2513\n",
    "nombre_exposed        506\n",
    "nombre_recovered    16162\n",
    "Name: 515, dtype: int64"
   ]
  },
  {
   "cell_type": "markdown",
   "id": "e6f796de",
   "metadata": {},
   "source": [
    "nombre_infected       809\n",
    "nombre_sain          2506\n",
    "nombre_exposed        527\n",
    "nombre_recovered    16158\n",
    "Name: 516, dtype: int64"
   ]
  },
  {
   "cell_type": "markdown",
   "id": "467a607c",
   "metadata": {},
   "source": [
    "nombre_infected       807\n",
    "nombre_sain          2493\n",
    "nombre_exposed        526\n",
    "nombre_recovered    16174\n",
    "Name: 517, dtype: int64"
   ]
  },
  {
   "cell_type": "markdown",
   "id": "8277a8f0",
   "metadata": {},
   "source": [
    "nombre_infected       836\n",
    "nombre_sain          2491\n",
    "nombre_exposed        516\n",
    "nombre_recovered    16157\n",
    "Name: 518, dtype: int64"
   ]
  },
  {
   "cell_type": "markdown",
   "id": "26fcf73f",
   "metadata": {},
   "source": [
    "nombre_infected       852\n",
    "nombre_sain          2495\n",
    "nombre_exposed        515\n",
    "nombre_recovered    16138\n",
    "Name: 519, dtype: int64"
   ]
  },
  {
   "cell_type": "markdown",
   "id": "7cc944ff",
   "metadata": {},
   "source": [
    "nombre_infected       844\n",
    "nombre_sain          2477\n",
    "nombre_exposed        548\n",
    "nombre_recovered    16131\n",
    "Name: 520, dtype: int64"
   ]
  },
  {
   "cell_type": "markdown",
   "id": "3f356a23",
   "metadata": {},
   "source": [
    "nombre_infected       857\n",
    "nombre_sain          2467\n",
    "nombre_exposed        550\n",
    "nombre_recovered    16126\n",
    "Name: 521, dtype: int64"
   ]
  },
  {
   "cell_type": "markdown",
   "id": "c16aee51",
   "metadata": {},
   "source": [
    "nombre_infected       863\n",
    "nombre_sain          2482\n",
    "nombre_exposed        519\n",
    "nombre_recovered    16136\n",
    "Name: 522, dtype: int64"
   ]
  },
  {
   "cell_type": "markdown",
   "id": "22c12610",
   "metadata": {},
   "source": [
    "nombre_infected       863\n",
    "nombre_sain          2457\n",
    "nombre_exposed        543\n",
    "nombre_recovered    16137\n",
    "Name: 523, dtype: int64"
   ]
  },
  {
   "cell_type": "markdown",
   "id": "aa810bbe",
   "metadata": {},
   "source": [
    "nombre_infected       866\n",
    "nombre_sain          2437\n",
    "nombre_exposed        556\n",
    "nombre_recovered    16141\n",
    "Name: 524, dtype: int64"
   ]
  },
  {
   "cell_type": "markdown",
   "id": "b6ebc1f4",
   "metadata": {},
   "source": [
    "nombre_infected       891\n",
    "nombre_sain          2430\n",
    "nombre_exposed        567\n",
    "nombre_recovered    16112\n",
    "Name: 525, dtype: int64"
   ]
  },
  {
   "cell_type": "markdown",
   "id": "d3e29eb0",
   "metadata": {},
   "source": [
    "nombre_infected       876\n",
    "nombre_sain          2392\n",
    "nombre_exposed        584\n",
    "nombre_recovered    16148\n",
    "Name: 526, dtype: int64"
   ]
  },
  {
   "cell_type": "markdown",
   "id": "f62c0409",
   "metadata": {},
   "source": [
    "nombre_infected       873\n",
    "nombre_sain          2372\n",
    "nombre_exposed        581\n",
    "nombre_recovered    16174\n",
    "Name: 527, dtype: int64"
   ]
  },
  {
   "cell_type": "markdown",
   "id": "889caa3d",
   "metadata": {},
   "source": [
    "nombre_infected       905\n",
    "nombre_sain          2370\n",
    "nombre_exposed        574\n",
    "nombre_recovered    16151\n",
    "Name: 528, dtype: int64"
   ]
  },
  {
   "cell_type": "markdown",
   "id": "fa60b4e3",
   "metadata": {},
   "source": [
    "nombre_infected       907\n",
    "nombre_sain          2406\n",
    "nombre_exposed        559\n",
    "nombre_recovered    16128\n",
    "Name: 529, dtype: int64"
   ]
  },
  {
   "cell_type": "markdown",
   "id": "e6de0667",
   "metadata": {},
   "source": [
    "nombre_infected       904\n",
    "nombre_sain          2400\n",
    "nombre_exposed        571\n",
    "nombre_recovered    16125\n",
    "Name: 530, dtype: int64"
   ]
  },
  {
   "cell_type": "markdown",
   "id": "3b05cad3",
   "metadata": {},
   "source": [
    "nombre_infected       916\n",
    "nombre_sain          2369\n",
    "nombre_exposed        572\n",
    "nombre_recovered    16143\n",
    "Name: 531, dtype: int64"
   ]
  },
  {
   "cell_type": "markdown",
   "id": "6b844087",
   "metadata": {},
   "source": [
    "nombre_infected       888\n",
    "nombre_sain          2393\n",
    "nombre_exposed        570\n",
    "nombre_recovered    16149\n",
    "Name: 532, dtype: int64"
   ]
  },
  {
   "cell_type": "markdown",
   "id": "18a02673",
   "metadata": {},
   "source": [
    "nombre_infected       899\n",
    "nombre_sain          2389\n",
    "nombre_exposed        558\n",
    "nombre_recovered    16154\n",
    "Name: 533, dtype: int64"
   ]
  },
  {
   "cell_type": "markdown",
   "id": "69612b4a",
   "metadata": {},
   "source": [
    "nombre_infected       891\n",
    "nombre_sain          2402\n",
    "nombre_exposed        554\n",
    "nombre_recovered    16153\n",
    "Name: 534, dtype: int64"
   ]
  },
  {
   "cell_type": "markdown",
   "id": "8735127f",
   "metadata": {},
   "source": [
    "nombre_infected       876\n",
    "nombre_sain          2402\n",
    "nombre_exposed        583\n",
    "nombre_recovered    16139\n",
    "Name: 535, dtype: int64"
   ]
  },
  {
   "cell_type": "markdown",
   "id": "14e84a75",
   "metadata": {},
   "source": [
    "nombre_infected       882\n",
    "nombre_sain          2399\n",
    "nombre_exposed        571\n",
    "nombre_recovered    16148\n",
    "Name: 536, dtype: int64"
   ]
  },
  {
   "cell_type": "markdown",
   "id": "a79eb2b4",
   "metadata": {},
   "source": [
    "nombre_infected       872\n",
    "nombre_sain          2408\n",
    "nombre_exposed        568\n",
    "nombre_recovered    16152\n",
    "Name: 537, dtype: int64"
   ]
  },
  {
   "cell_type": "markdown",
   "id": "2d7a5078",
   "metadata": {},
   "source": [
    "nombre_infected       867\n",
    "nombre_sain          2440\n",
    "nombre_exposed        564\n",
    "nombre_recovered    16129\n",
    "Name: 538, dtype: int64"
   ]
  },
  {
   "cell_type": "markdown",
   "id": "a0ecf8eb",
   "metadata": {},
   "source": [
    "nombre_infected       877\n",
    "nombre_sain          2458\n",
    "nombre_exposed        566\n",
    "nombre_recovered    16099\n",
    "Name: 539, dtype: int64"
   ]
  },
  {
   "cell_type": "markdown",
   "id": "ee0c3d4a",
   "metadata": {},
   "source": [
    "nombre_infected       890\n",
    "nombre_sain          2473\n",
    "nombre_exposed        575\n",
    "nombre_recovered    16062\n",
    "Name: 540, dtype: int64"
   ]
  },
  {
   "cell_type": "markdown",
   "id": "091f02d2",
   "metadata": {},
   "source": [
    "nombre_infected       891\n",
    "nombre_sain          2483\n",
    "nombre_exposed        575\n",
    "nombre_recovered    16051\n",
    "Name: 541, dtype: int64"
   ]
  },
  {
   "cell_type": "markdown",
   "id": "4d000c4d",
   "metadata": {},
   "source": [
    "nombre_infected       881\n",
    "nombre_sain          2532\n",
    "nombre_exposed        566\n",
    "nombre_recovered    16021\n",
    "Name: 542, dtype: int64"
   ]
  },
  {
   "cell_type": "markdown",
   "id": "913e5ab4",
   "metadata": {},
   "source": [
    "nombre_infected       886\n",
    "nombre_sain          2557\n",
    "nombre_exposed        544\n",
    "nombre_recovered    16013\n",
    "Name: 543, dtype: int64"
   ]
  },
  {
   "cell_type": "markdown",
   "id": "dbae6d70",
   "metadata": {},
   "source": [
    "nombre_infected       879\n",
    "nombre_sain          2573\n",
    "nombre_exposed        561\n",
    "nombre_recovered    15987\n",
    "Name: 544, dtype: int64"
   ]
  },
  {
   "cell_type": "markdown",
   "id": "dd6ef5e4",
   "metadata": {},
   "source": [
    "nombre_infected       833\n",
    "nombre_sain          2582\n",
    "nombre_exposed        566\n",
    "nombre_recovered    16019\n",
    "Name: 545, dtype: int64"
   ]
  },
  {
   "cell_type": "markdown",
   "id": "90410dab",
   "metadata": {},
   "source": [
    "nombre_infected       814\n",
    "nombre_sain          2599\n",
    "nombre_exposed        564\n",
    "nombre_recovered    16023\n",
    "Name: 546, dtype: int64"
   ]
  },
  {
   "cell_type": "markdown",
   "id": "12daabba",
   "metadata": {},
   "source": [
    "nombre_infected       841\n",
    "nombre_sain          2623\n",
    "nombre_exposed        531\n",
    "nombre_recovered    16005\n",
    "Name: 547, dtype: int64"
   ]
  },
  {
   "cell_type": "markdown",
   "id": "263446c3",
   "metadata": {},
   "source": [
    "nombre_infected       818\n",
    "nombre_sain          2621\n",
    "nombre_exposed        559\n",
    "nombre_recovered    16002\n",
    "Name: 548, dtype: int64"
   ]
  },
  {
   "cell_type": "markdown",
   "id": "ab1fce20",
   "metadata": {},
   "source": [
    "nombre_infected       816\n",
    "nombre_sain          2615\n",
    "nombre_exposed        580\n",
    "nombre_recovered    15989\n",
    "Name: 549, dtype: int64"
   ]
  },
  {
   "cell_type": "markdown",
   "id": "f2f8808a",
   "metadata": {},
   "source": [
    "nombre_infected       827\n",
    "nombre_sain          2632\n",
    "nombre_exposed        587\n",
    "nombre_recovered    15954\n",
    "Name: 550, dtype: int64"
   ]
  },
  {
   "cell_type": "markdown",
   "id": "4fee237c",
   "metadata": {},
   "source": [
    "nombre_infected       857\n",
    "nombre_sain          2618\n",
    "nombre_exposed        606\n",
    "nombre_recovered    15919\n",
    "Name: 551, dtype: int64"
   ]
  },
  {
   "cell_type": "markdown",
   "id": "74f27090",
   "metadata": {},
   "source": [
    "nombre_infected       842\n",
    "nombre_sain          2635\n",
    "nombre_exposed        620\n",
    "nombre_recovered    15903\n",
    "Name: 552, dtype: int64"
   ]
  },
  {
   "cell_type": "markdown",
   "id": "7d6cda98",
   "metadata": {},
   "source": [
    "nombre_infected       860\n",
    "nombre_sain          2664\n",
    "nombre_exposed        590\n",
    "nombre_recovered    15886\n",
    "Name: 553, dtype: int64"
   ]
  },
  {
   "cell_type": "markdown",
   "id": "26f6e602",
   "metadata": {},
   "source": [
    "nombre_infected       878\n",
    "nombre_sain          2676\n",
    "nombre_exposed        597\n",
    "nombre_recovered    15849\n",
    "Name: 554, dtype: int64"
   ]
  },
  {
   "cell_type": "markdown",
   "id": "c317a97f",
   "metadata": {},
   "source": [
    "nombre_infected       881\n",
    "nombre_sain          2653\n",
    "nombre_exposed        602\n",
    "nombre_recovered    15864\n",
    "Name: 555, dtype: int64"
   ]
  },
  {
   "cell_type": "markdown",
   "id": "011a0aea",
   "metadata": {},
   "source": [
    "nombre_infected       895\n",
    "nombre_sain          2653\n",
    "nombre_exposed        607\n",
    "nombre_recovered    15845\n",
    "Name: 556, dtype: int64"
   ]
  },
  {
   "cell_type": "markdown",
   "id": "53c330e3",
   "metadata": {},
   "source": [
    "nombre_infected       892\n",
    "nombre_sain          2636\n",
    "nombre_exposed        616\n",
    "nombre_recovered    15856\n",
    "Name: 557, dtype: int64"
   ]
  },
  {
   "cell_type": "markdown",
   "id": "21209453",
   "metadata": {},
   "source": [
    "nombre_infected       921\n",
    "nombre_sain          2619\n",
    "nombre_exposed        589\n",
    "nombre_recovered    15871\n",
    "Name: 558, dtype: int64"
   ]
  },
  {
   "cell_type": "markdown",
   "id": "6bde5ee2",
   "metadata": {},
   "source": [
    "nombre_infected       939\n",
    "nombre_sain          2610\n",
    "nombre_exposed        587\n",
    "nombre_recovered    15864\n",
    "Name: 559, dtype: int64"
   ]
  },
  {
   "cell_type": "markdown",
   "id": "cbe7a976",
   "metadata": {},
   "source": [
    "nombre_infected       916\n",
    "nombre_sain          2593\n",
    "nombre_exposed        612\n",
    "nombre_recovered    15879\n",
    "Name: 560, dtype: int64"
   ]
  },
  {
   "cell_type": "markdown",
   "id": "4638ed47",
   "metadata": {},
   "source": [
    "nombre_infected       923\n",
    "nombre_sain          2614\n",
    "nombre_exposed        602\n",
    "nombre_recovered    15861\n",
    "Name: 561, dtype: int64"
   ]
  },
  {
   "cell_type": "markdown",
   "id": "e7a3d047",
   "metadata": {},
   "source": [
    "nombre_infected       919\n",
    "nombre_sain          2629\n",
    "nombre_exposed        586\n",
    "nombre_recovered    15866\n",
    "Name: 562, dtype: int64"
   ]
  },
  {
   "cell_type": "markdown",
   "id": "8523bdac",
   "metadata": {},
   "source": [
    "nombre_infected       935\n",
    "nombre_sain          2621\n",
    "nombre_exposed        583\n",
    "nombre_recovered    15861\n",
    "Name: 563, dtype: int64"
   ]
  },
  {
   "cell_type": "markdown",
   "id": "b746d009",
   "metadata": {},
   "source": [
    "nombre_infected       920\n",
    "nombre_sain          2605\n",
    "nombre_exposed        613\n",
    "nombre_recovered    15862\n",
    "Name: 564, dtype: int64"
   ]
  },
  {
   "cell_type": "markdown",
   "id": "408f0d54",
   "metadata": {},
   "source": [
    "nombre_infected       921\n",
    "nombre_sain          2571\n",
    "nombre_exposed        635\n",
    "nombre_recovered    15873\n",
    "Name: 565, dtype: int64"
   ]
  },
  {
   "cell_type": "markdown",
   "id": "d06a1eef",
   "metadata": {},
   "source": [
    "nombre_infected       940\n",
    "nombre_sain          2576\n",
    "nombre_exposed        630\n",
    "nombre_recovered    15854\n",
    "Name: 566, dtype: int64"
   ]
  },
  {
   "cell_type": "markdown",
   "id": "5e3eebd9",
   "metadata": {},
   "source": [
    "nombre_infected       970\n",
    "nombre_sain          2539\n",
    "nombre_exposed        624\n",
    "nombre_recovered    15867\n",
    "Name: 567, dtype: int64"
   ]
  },
  {
   "cell_type": "markdown",
   "id": "e333ccb7",
   "metadata": {},
   "source": [
    "nombre_infected       996\n",
    "nombre_sain          2531\n",
    "nombre_exposed        619\n",
    "nombre_recovered    15854\n",
    "Name: 568, dtype: int64"
   ]
  },
  {
   "cell_type": "markdown",
   "id": "ab347112",
   "metadata": {},
   "source": [
    "nombre_infected       998\n",
    "nombre_sain          2515\n",
    "nombre_exposed        630\n",
    "nombre_recovered    15857\n",
    "Name: 569, dtype: int64"
   ]
  },
  {
   "cell_type": "markdown",
   "id": "87b37006",
   "metadata": {},
   "source": [
    "nombre_infected       992\n",
    "nombre_sain          2496\n",
    "nombre_exposed        614\n",
    "nombre_recovered    15898\n",
    "Name: 570, dtype: int64"
   ]
  },
  {
   "cell_type": "markdown",
   "id": "d8de9b43",
   "metadata": {},
   "source": [
    "nombre_infected       990\n",
    "nombre_sain          2491\n",
    "nombre_exposed        609\n",
    "nombre_recovered    15910\n",
    "Name: 571, dtype: int64"
   ]
  },
  {
   "cell_type": "markdown",
   "id": "1025c636",
   "metadata": {},
   "source": [
    "nombre_infected      1007\n",
    "nombre_sain          2460\n",
    "nombre_exposed        630\n",
    "nombre_recovered    15903\n",
    "Name: 572, dtype: int64"
   ]
  },
  {
   "cell_type": "markdown",
   "id": "7a228a0e",
   "metadata": {},
   "source": [
    "nombre_infected      1029\n",
    "nombre_sain          2431\n",
    "nombre_exposed        613\n",
    "nombre_recovered    15927\n",
    "Name: 573, dtype: int64"
   ]
  },
  {
   "cell_type": "markdown",
   "id": "7366c533",
   "metadata": {},
   "source": [
    "nombre_infected      1025\n",
    "nombre_sain          2405\n",
    "nombre_exposed        626\n",
    "nombre_recovered    15944\n",
    "Name: 574, dtype: int64"
   ]
  },
  {
   "cell_type": "markdown",
   "id": "475b2e05",
   "metadata": {},
   "source": [
    "nombre_infected      1013\n",
    "nombre_sain          2390\n",
    "nombre_exposed        629\n",
    "nombre_recovered    15968\n",
    "Name: 575, dtype: int64"
   ]
  },
  {
   "cell_type": "markdown",
   "id": "50ccb152",
   "metadata": {},
   "source": [
    "nombre_infected      1016\n",
    "nombre_sain          2369\n",
    "nombre_exposed        624\n",
    "nombre_recovered    15991\n",
    "Name: 576, dtype: int64"
   ]
  },
  {
   "cell_type": "markdown",
   "id": "0fddbea2",
   "metadata": {},
   "source": [
    "nombre_infected      1020\n",
    "nombre_sain          2371\n",
    "nombre_exposed        622\n",
    "nombre_recovered    15987\n",
    "Name: 577, dtype: int64"
   ]
  },
  {
   "cell_type": "markdown",
   "id": "072b3bb9",
   "metadata": {},
   "source": [
    "nombre_infected      1025\n",
    "nombre_sain          2356\n",
    "nombre_exposed        621\n",
    "nombre_recovered    15998\n",
    "Name: 578, dtype: int64"
   ]
  },
  {
   "cell_type": "markdown",
   "id": "2079213e",
   "metadata": {},
   "source": [
    "nombre_infected      1034\n",
    "nombre_sain          2314\n",
    "nombre_exposed        620\n",
    "nombre_recovered    16032\n",
    "Name: 579, dtype: int64"
   ]
  },
  {
   "cell_type": "markdown",
   "id": "7bbc68a1",
   "metadata": {},
   "source": [
    "nombre_infected      1024\n",
    "nombre_sain          2309\n",
    "nombre_exposed        611\n",
    "nombre_recovered    16056\n",
    "Name: 580, dtype: int64"
   ]
  },
  {
   "cell_type": "markdown",
   "id": "d613b4cc",
   "metadata": {},
   "source": [
    "nombre_infected      1049\n",
    "nombre_sain          2288\n",
    "nombre_exposed        627\n",
    "nombre_recovered    16036\n",
    "Name: 581, dtype: int64"
   ]
  },
  {
   "cell_type": "markdown",
   "id": "0101ba33",
   "metadata": {},
   "source": [
    "nombre_infected      1046\n",
    "nombre_sain          2291\n",
    "nombre_exposed        630\n",
    "nombre_recovered    16033\n",
    "Name: 582, dtype: int64"
   ]
  },
  {
   "cell_type": "markdown",
   "id": "40eef256",
   "metadata": {},
   "source": [
    "nombre_infected      1046\n",
    "nombre_sain          2263\n",
    "nombre_exposed        601\n",
    "nombre_recovered    16090\n",
    "Name: 583, dtype: int64"
   ]
  },
  {
   "cell_type": "markdown",
   "id": "7fd286c1",
   "metadata": {},
   "source": [
    "nombre_infected      1089\n",
    "nombre_sain          2270\n",
    "nombre_exposed        567\n",
    "nombre_recovered    16074\n",
    "Name: 584, dtype: int64"
   ]
  },
  {
   "cell_type": "markdown",
   "id": "df63fb73",
   "metadata": {},
   "source": [
    "nombre_infected      1103\n",
    "nombre_sain          2243\n",
    "nombre_exposed        567\n",
    "nombre_recovered    16087\n",
    "Name: 585, dtype: int64"
   ]
  },
  {
   "cell_type": "markdown",
   "id": "d1447455",
   "metadata": {},
   "source": [
    "nombre_infected      1048\n",
    "nombre_sain          2192\n",
    "nombre_exposed        604\n",
    "nombre_recovered    16156\n",
    "Name: 586, dtype: int64"
   ]
  },
  {
   "cell_type": "markdown",
   "id": "60dd1837",
   "metadata": {},
   "source": [
    "nombre_infected      1059\n",
    "nombre_sain          2174\n",
    "nombre_exposed        605\n",
    "nombre_recovered    16162\n",
    "Name: 587, dtype: int64"
   ]
  },
  {
   "cell_type": "markdown",
   "id": "9083ff77",
   "metadata": {},
   "source": [
    "nombre_infected      1066\n",
    "nombre_sain          2167\n",
    "nombre_exposed        573\n",
    "nombre_recovered    16194\n",
    "Name: 588, dtype: int64"
   ]
  },
  {
   "cell_type": "markdown",
   "id": "d82b48c4",
   "metadata": {},
   "source": [
    "nombre_infected      1062\n",
    "nombre_sain          2169\n",
    "nombre_exposed        565\n",
    "nombre_recovered    16204\n",
    "Name: 589, dtype: int64"
   ]
  },
  {
   "cell_type": "markdown",
   "id": "a54d1a18",
   "metadata": {},
   "source": [
    "nombre_infected      1048\n",
    "nombre_sain          2146\n",
    "nombre_exposed        565\n",
    "nombre_recovered    16241\n",
    "Name: 590, dtype: int64"
   ]
  },
  {
   "cell_type": "markdown",
   "id": "4bb77302",
   "metadata": {},
   "source": [
    "nombre_infected      1023\n",
    "nombre_sain          2132\n",
    "nombre_exposed        579\n",
    "nombre_recovered    16266\n",
    "Name: 591, dtype: int64"
   ]
  },
  {
   "cell_type": "markdown",
   "id": "ab9370f8",
   "metadata": {},
   "source": [
    "nombre_infected      1040\n",
    "nombre_sain          2136\n",
    "nombre_exposed        566\n",
    "nombre_recovered    16258\n",
    "Name: 592, dtype: int64"
   ]
  },
  {
   "cell_type": "markdown",
   "id": "689217ad",
   "metadata": {},
   "source": [
    "nombre_infected      1022\n",
    "nombre_sain          2117\n",
    "nombre_exposed        561\n",
    "nombre_recovered    16300\n",
    "Name: 593, dtype: int64"
   ]
  },
  {
   "cell_type": "markdown",
   "id": "8b4e3d71",
   "metadata": {},
   "source": [
    "nombre_infected      1007\n",
    "nombre_sain          2123\n",
    "nombre_exposed        538\n",
    "nombre_recovered    16332\n",
    "Name: 594, dtype: int64"
   ]
  },
  {
   "cell_type": "markdown",
   "id": "f78c51cc",
   "metadata": {},
   "source": [
    "nombre_infected       990\n",
    "nombre_sain          2128\n",
    "nombre_exposed        531\n",
    "nombre_recovered    16351\n",
    "Name: 595, dtype: int64"
   ]
  },
  {
   "cell_type": "markdown",
   "id": "ad0334c4",
   "metadata": {},
   "source": [
    "nombre_infected       995\n",
    "nombre_sain          2123\n",
    "nombre_exposed        521\n",
    "nombre_recovered    16361\n",
    "Name: 596, dtype: int64"
   ]
  },
  {
   "cell_type": "markdown",
   "id": "6c71e31c",
   "metadata": {},
   "source": [
    "nombre_infected       967\n",
    "nombre_sain          2137\n",
    "nombre_exposed        510\n",
    "nombre_recovered    16386\n",
    "Name: 597, dtype: int64"
   ]
  },
  {
   "cell_type": "markdown",
   "id": "a2e10e4d",
   "metadata": {},
   "source": [
    "nombre_infected       945\n",
    "nombre_sain          2135\n",
    "nombre_exposed        524\n",
    "nombre_recovered    16396\n",
    "Name: 598, dtype: int64"
   ]
  },
  {
   "cell_type": "markdown",
   "id": "056cfe68",
   "metadata": {},
   "source": [
    "nombre_infected       948\n",
    "nombre_sain          2139\n",
    "nombre_exposed        511\n",
    "nombre_recovered    16402\n",
    "Name: 599, dtype: int64"
   ]
  },
  {
   "cell_type": "markdown",
   "id": "156a95a4",
   "metadata": {},
   "source": [
    "nombre_infected       922\n",
    "nombre_sain          2143\n",
    "nombre_exposed        519\n",
    "nombre_recovered    16416\n",
    "Name: 600, dtype: int64"
   ]
  },
  {
   "cell_type": "markdown",
   "id": "adbd5923",
   "metadata": {},
   "source": [
    "nombre_infected       912\n",
    "nombre_sain          2147\n",
    "nombre_exposed        526\n",
    "nombre_recovered    16415\n",
    "Name: 601, dtype: int64"
   ]
  },
  {
   "cell_type": "markdown",
   "id": "a94a8a2d",
   "metadata": {},
   "source": [
    "nombre_infected       891\n",
    "nombre_sain          2167\n",
    "nombre_exposed        493\n",
    "nombre_recovered    16449\n",
    "Name: 602, dtype: int64"
   ]
  },
  {
   "cell_type": "markdown",
   "id": "fb2011c1",
   "metadata": {},
   "source": [
    "nombre_infected       897\n",
    "nombre_sain          2182\n",
    "nombre_exposed        476\n",
    "nombre_recovered    16445\n",
    "Name: 603, dtype: int64"
   ]
  },
  {
   "cell_type": "markdown",
   "id": "f465bccd",
   "metadata": {},
   "source": [
    "nombre_infected       887\n",
    "nombre_sain          2202\n",
    "nombre_exposed        475\n",
    "nombre_recovered    16436\n",
    "Name: 604, dtype: int64"
   ]
  },
  {
   "cell_type": "markdown",
   "id": "01011702",
   "metadata": {},
   "source": [
    "nombre_infected       893\n",
    "nombre_sain          2222\n",
    "nombre_exposed        473\n",
    "nombre_recovered    16412\n",
    "Name: 605, dtype: int64"
   ]
  },
  {
   "cell_type": "markdown",
   "id": "406cf8eb",
   "metadata": {},
   "source": [
    "nombre_infected       869\n",
    "nombre_sain          2229\n",
    "nombre_exposed        491\n",
    "nombre_recovered    16411\n",
    "Name: 606, dtype: int64"
   ]
  },
  {
   "cell_type": "markdown",
   "id": "62fcb807",
   "metadata": {},
   "source": [
    "nombre_infected       860\n",
    "nombre_sain          2245\n",
    "nombre_exposed        505\n",
    "nombre_recovered    16390\n",
    "Name: 607, dtype: int64"
   ]
  },
  {
   "cell_type": "markdown",
   "id": "4eb795cc",
   "metadata": {},
   "source": [
    "nombre_infected       839\n",
    "nombre_sain          2245\n",
    "nombre_exposed        516\n",
    "nombre_recovered    16400\n",
    "Name: 608, dtype: int64"
   ]
  },
  {
   "cell_type": "markdown",
   "id": "30e4051b",
   "metadata": {},
   "source": [
    "nombre_infected       864\n",
    "nombre_sain          2272\n",
    "nombre_exposed        488\n",
    "nombre_recovered    16376\n",
    "Name: 609, dtype: int64"
   ]
  },
  {
   "cell_type": "markdown",
   "id": "759dcc45",
   "metadata": {},
   "source": [
    "nombre_infected       852\n",
    "nombre_sain          2277\n",
    "nombre_exposed        499\n",
    "nombre_recovered    16372\n",
    "Name: 610, dtype: int64"
   ]
  },
  {
   "cell_type": "markdown",
   "id": "6de38da6",
   "metadata": {},
   "source": [
    "nombre_infected       840\n",
    "nombre_sain          2299\n",
    "nombre_exposed        498\n",
    "nombre_recovered    16363\n",
    "Name: 611, dtype: int64"
   ]
  },
  {
   "cell_type": "markdown",
   "id": "81e45a30",
   "metadata": {},
   "source": [
    "nombre_infected       850\n",
    "nombre_sain          2312\n",
    "nombre_exposed        505\n",
    "nombre_recovered    16333\n",
    "Name: 612, dtype: int64"
   ]
  },
  {
   "cell_type": "markdown",
   "id": "565872e5",
   "metadata": {},
   "source": [
    "nombre_infected       861\n",
    "nombre_sain          2348\n",
    "nombre_exposed        489\n",
    "nombre_recovered    16302\n",
    "Name: 613, dtype: int64"
   ]
  },
  {
   "cell_type": "markdown",
   "id": "da158a7f",
   "metadata": {},
   "source": [
    "nombre_infected       857\n",
    "nombre_sain          2349\n",
    "nombre_exposed        487\n",
    "nombre_recovered    16307\n",
    "Name: 614, dtype: int64"
   ]
  },
  {
   "cell_type": "markdown",
   "id": "52a3a524",
   "metadata": {},
   "source": [
    "nombre_infected       859\n",
    "nombre_sain          2361\n",
    "nombre_exposed        479\n",
    "nombre_recovered    16301\n",
    "Name: 615, dtype: int64"
   ]
  },
  {
   "cell_type": "markdown",
   "id": "5d2cb5e5",
   "metadata": {},
   "source": [
    "nombre_infected       845\n",
    "nombre_sain          2375\n",
    "nombre_exposed        486\n",
    "nombre_recovered    16294\n",
    "Name: 616, dtype: int64"
   ]
  },
  {
   "cell_type": "markdown",
   "id": "802e0bba",
   "metadata": {},
   "source": [
    "nombre_infected       828\n",
    "nombre_sain          2384\n",
    "nombre_exposed        506\n",
    "nombre_recovered    16282\n",
    "Name: 617, dtype: int64"
   ]
  },
  {
   "cell_type": "markdown",
   "id": "e6742654",
   "metadata": {},
   "source": [
    "nombre_infected       830\n",
    "nombre_sain          2408\n",
    "nombre_exposed        486\n",
    "nombre_recovered    16276\n",
    "Name: 618, dtype: int64"
   ]
  },
  {
   "cell_type": "markdown",
   "id": "06277812",
   "metadata": {},
   "source": [
    "nombre_infected       853\n",
    "nombre_sain          2426\n",
    "nombre_exposed        469\n",
    "nombre_recovered    16252\n",
    "Name: 619, dtype: int64"
   ]
  },
  {
   "cell_type": "markdown",
   "id": "d72a09a1",
   "metadata": {},
   "source": [
    "nombre_infected       863\n",
    "nombre_sain          2421\n",
    "nombre_exposed        477\n",
    "nombre_recovered    16239\n",
    "Name: 620, dtype: int64"
   ]
  },
  {
   "cell_type": "markdown",
   "id": "7f876abb",
   "metadata": {},
   "source": [
    "nombre_infected       830\n",
    "nombre_sain          2412\n",
    "nombre_exposed        507\n",
    "nombre_recovered    16251\n",
    "Name: 621, dtype: int64"
   ]
  },
  {
   "cell_type": "markdown",
   "id": "ba031cb7",
   "metadata": {},
   "source": [
    "nombre_infected       835\n",
    "nombre_sain          2394\n",
    "nombre_exposed        513\n",
    "nombre_recovered    16258\n",
    "Name: 622, dtype: int64"
   ]
  },
  {
   "cell_type": "markdown",
   "id": "b2a2310b",
   "metadata": {},
   "source": [
    "nombre_infected       833\n",
    "nombre_sain          2398\n",
    "nombre_exposed        514\n",
    "nombre_recovered    16255\n",
    "Name: 623, dtype: int64"
   ]
  },
  {
   "cell_type": "markdown",
   "id": "382b42c9",
   "metadata": {},
   "source": [
    "nombre_infected       839\n",
    "nombre_sain          2401\n",
    "nombre_exposed        502\n",
    "nombre_recovered    16258\n",
    "Name: 624, dtype: int64"
   ]
  },
  {
   "cell_type": "markdown",
   "id": "b58dbe36",
   "metadata": {},
   "source": [
    "nombre_infected       831\n",
    "nombre_sain          2377\n",
    "nombre_exposed        511\n",
    "nombre_recovered    16281\n",
    "Name: 625, dtype: int64"
   ]
  },
  {
   "cell_type": "markdown",
   "id": "5567a5bd",
   "metadata": {},
   "source": [
    "nombre_infected       824\n",
    "nombre_sain          2386\n",
    "nombre_exposed        507\n",
    "nombre_recovered    16283\n",
    "Name: 626, dtype: int64"
   ]
  },
  {
   "cell_type": "markdown",
   "id": "d5432799",
   "metadata": {},
   "source": [
    "nombre_infected       801\n",
    "nombre_sain          2406\n",
    "nombre_exposed        498\n",
    "nombre_recovered    16295\n",
    "Name: 627, dtype: int64"
   ]
  },
  {
   "cell_type": "markdown",
   "id": "f02a4341",
   "metadata": {},
   "source": [
    "nombre_infected       816\n",
    "nombre_sain          2421\n",
    "nombre_exposed        489\n",
    "nombre_recovered    16274\n",
    "Name: 628, dtype: int64"
   ]
  },
  {
   "cell_type": "markdown",
   "id": "a4c17a06",
   "metadata": {},
   "source": [
    "nombre_infected       820\n",
    "nombre_sain          2400\n",
    "nombre_exposed        512\n",
    "nombre_recovered    16268\n",
    "Name: 629, dtype: int64"
   ]
  },
  {
   "cell_type": "markdown",
   "id": "9f7f249e",
   "metadata": {},
   "source": [
    "nombre_infected       821\n",
    "nombre_sain          2412\n",
    "nombre_exposed        515\n",
    "nombre_recovered    16252\n",
    "Name: 630, dtype: int64"
   ]
  },
  {
   "cell_type": "markdown",
   "id": "e9527133",
   "metadata": {},
   "source": [
    "nombre_infected       800\n",
    "nombre_sain          2406\n",
    "nombre_exposed        533\n",
    "nombre_recovered    16261\n",
    "Name: 631, dtype: int64"
   ]
  },
  {
   "cell_type": "markdown",
   "id": "fbcf4f45",
   "metadata": {},
   "source": [
    "nombre_infected       799\n",
    "nombre_sain          2402\n",
    "nombre_exposed        522\n",
    "nombre_recovered    16277\n",
    "Name: 632, dtype: int64"
   ]
  },
  {
   "cell_type": "markdown",
   "id": "7e6a3213",
   "metadata": {},
   "source": [
    "nombre_infected       824\n",
    "nombre_sain          2405\n",
    "nombre_exposed        537\n",
    "nombre_recovered    16234\n",
    "Name: 633, dtype: int64"
   ]
  },
  {
   "cell_type": "markdown",
   "id": "5af69ccc",
   "metadata": {},
   "source": [
    "nombre_infected       824\n",
    "nombre_sain          2399\n",
    "nombre_exposed        543\n",
    "nombre_recovered    16234\n",
    "Name: 634, dtype: int64"
   ]
  },
  {
   "cell_type": "markdown",
   "id": "eaed1558",
   "metadata": {},
   "source": [
    "nombre_infected       795\n",
    "nombre_sain          2413\n",
    "nombre_exposed        543\n",
    "nombre_recovered    16249\n",
    "Name: 635, dtype: int64"
   ]
  },
  {
   "cell_type": "markdown",
   "id": "6a6111fe",
   "metadata": {},
   "source": [
    "nombre_infected       819\n",
    "nombre_sain          2390\n",
    "nombre_exposed        540\n",
    "nombre_recovered    16251\n",
    "Name: 636, dtype: int64"
   ]
  },
  {
   "cell_type": "markdown",
   "id": "466bf984",
   "metadata": {},
   "source": [
    "nombre_infected       833\n",
    "nombre_sain          2373\n",
    "nombre_exposed        523\n",
    "nombre_recovered    16271\n",
    "Name: 637, dtype: int64"
   ]
  },
  {
   "cell_type": "markdown",
   "id": "91c822f8",
   "metadata": {},
   "source": [
    "nombre_infected       847\n",
    "nombre_sain          2400\n",
    "nombre_exposed        508\n",
    "nombre_recovered    16245\n",
    "Name: 638, dtype: int64"
   ]
  },
  {
   "cell_type": "markdown",
   "id": "57b7afd5",
   "metadata": {},
   "source": [
    "nombre_infected       855\n",
    "nombre_sain          2394\n",
    "nombre_exposed        521\n",
    "nombre_recovered    16230\n",
    "Name: 639, dtype: int64"
   ]
  },
  {
   "cell_type": "markdown",
   "id": "1076afe1",
   "metadata": {},
   "source": [
    "nombre_infected       863\n",
    "nombre_sain          2382\n",
    "nombre_exposed        518\n",
    "nombre_recovered    16237\n",
    "Name: 640, dtype: int64"
   ]
  },
  {
   "cell_type": "markdown",
   "id": "be905744",
   "metadata": {},
   "source": [
    "nombre_infected       869\n",
    "nombre_sain          2409\n",
    "nombre_exposed        509\n",
    "nombre_recovered    16213\n",
    "Name: 641, dtype: int64"
   ]
  },
  {
   "cell_type": "markdown",
   "id": "7be36c0e",
   "metadata": {},
   "source": [
    "nombre_infected       875\n",
    "nombre_sain          2415\n",
    "nombre_exposed        512\n",
    "nombre_recovered    16198\n",
    "Name: 642, dtype: int64"
   ]
  },
  {
   "cell_type": "markdown",
   "id": "550b6ef0",
   "metadata": {},
   "source": [
    "nombre_infected       853\n",
    "nombre_sain          2428\n",
    "nombre_exposed        504\n",
    "nombre_recovered    16215\n",
    "Name: 643, dtype: int64"
   ]
  },
  {
   "cell_type": "markdown",
   "id": "6d1d1917",
   "metadata": {},
   "source": [
    "nombre_infected       850\n",
    "nombre_sain          2427\n",
    "nombre_exposed        520\n",
    "nombre_recovered    16203\n",
    "Name: 644, dtype: int64"
   ]
  },
  {
   "cell_type": "markdown",
   "id": "d262efdc",
   "metadata": {},
   "source": [
    "nombre_infected       859\n",
    "nombre_sain          2461\n",
    "nombre_exposed        503\n",
    "nombre_recovered    16177\n",
    "Name: 645, dtype: int64"
   ]
  },
  {
   "cell_type": "markdown",
   "id": "e0fb911b",
   "metadata": {},
   "source": [
    "nombre_infected       867\n",
    "nombre_sain          2467\n",
    "nombre_exposed        503\n",
    "nombre_recovered    16163\n",
    "Name: 646, dtype: int64"
   ]
  },
  {
   "cell_type": "markdown",
   "id": "d890963c",
   "metadata": {},
   "source": [
    "nombre_infected       862\n",
    "nombre_sain          2476\n",
    "nombre_exposed        524\n",
    "nombre_recovered    16138\n",
    "Name: 647, dtype: int64"
   ]
  },
  {
   "cell_type": "markdown",
   "id": "38280874",
   "metadata": {},
   "source": [
    "nombre_infected       868\n",
    "nombre_sain          2466\n",
    "nombre_exposed        520\n",
    "nombre_recovered    16146\n",
    "Name: 648, dtype: int64"
   ]
  },
  {
   "cell_type": "markdown",
   "id": "5560a785",
   "metadata": {},
   "source": [
    "nombre_infected       864\n",
    "nombre_sain          2436\n",
    "nombre_exposed        536\n",
    "nombre_recovered    16164\n",
    "Name: 649, dtype: int64"
   ]
  },
  {
   "cell_type": "markdown",
   "id": "70c3e767",
   "metadata": {},
   "source": [
    "nombre_infected       881\n",
    "nombre_sain          2426\n",
    "nombre_exposed        538\n",
    "nombre_recovered    16155\n",
    "Name: 650, dtype: int64"
   ]
  },
  {
   "cell_type": "markdown",
   "id": "cf54ab83",
   "metadata": {},
   "source": [
    "nombre_infected       904\n",
    "nombre_sain          2427\n",
    "nombre_exposed        536\n",
    "nombre_recovered    16133\n",
    "Name: 651, dtype: int64"
   ]
  },
  {
   "cell_type": "markdown",
   "id": "a7d540ea",
   "metadata": {},
   "source": [
    "nombre_infected       897\n",
    "nombre_sain          2405\n",
    "nombre_exposed        562\n",
    "nombre_recovered    16136\n",
    "Name: 652, dtype: int64"
   ]
  },
  {
   "cell_type": "markdown",
   "id": "3096618e",
   "metadata": {},
   "source": [
    "nombre_infected       907\n",
    "nombre_sain          2398\n",
    "nombre_exposed        553\n",
    "nombre_recovered    16142\n",
    "Name: 653, dtype: int64"
   ]
  },
  {
   "cell_type": "markdown",
   "id": "f47fbc44",
   "metadata": {},
   "source": [
    "nombre_infected       949\n",
    "nombre_sain          2405\n",
    "nombre_exposed        523\n",
    "nombre_recovered    16123\n",
    "Name: 654, dtype: int64"
   ]
  },
  {
   "cell_type": "markdown",
   "id": "bd5339d8",
   "metadata": {},
   "source": [
    "nombre_infected       946\n",
    "nombre_sain          2409\n",
    "nombre_exposed        530\n",
    "nombre_recovered    16115\n",
    "Name: 655, dtype: int64"
   ]
  },
  {
   "cell_type": "markdown",
   "id": "cb23a4da",
   "metadata": {},
   "source": [
    "nombre_infected       968\n",
    "nombre_sain          2386\n",
    "nombre_exposed        520\n",
    "nombre_recovered    16126\n",
    "Name: 656, dtype: int64"
   ]
  },
  {
   "cell_type": "markdown",
   "id": "9ef35d05",
   "metadata": {},
   "source": [
    "nombre_infected       965\n",
    "nombre_sain          2357\n",
    "nombre_exposed        544\n",
    "nombre_recovered    16134\n",
    "Name: 657, dtype: int64"
   ]
  },
  {
   "cell_type": "markdown",
   "id": "00a2782d",
   "metadata": {},
   "source": [
    "nombre_infected       950\n",
    "nombre_sain          2366\n",
    "nombre_exposed        552\n",
    "nombre_recovered    16132\n",
    "Name: 658, dtype: int64"
   ]
  },
  {
   "cell_type": "markdown",
   "id": "0d46bfc0",
   "metadata": {},
   "source": [
    "nombre_infected       939\n",
    "nombre_sain          2381\n",
    "nombre_exposed        566\n",
    "nombre_recovered    16114\n",
    "Name: 659, dtype: int64"
   ]
  },
  {
   "cell_type": "markdown",
   "id": "29cae434",
   "metadata": {},
   "source": [
    "nombre_infected       938\n",
    "nombre_sain          2376\n",
    "nombre_exposed        585\n",
    "nombre_recovered    16101\n",
    "Name: 660, dtype: int64"
   ]
  },
  {
   "cell_type": "markdown",
   "id": "cbb63181",
   "metadata": {},
   "source": [
    "nombre_infected       942\n",
    "nombre_sain          2382\n",
    "nombre_exposed        591\n",
    "nombre_recovered    16085\n",
    "Name: 661, dtype: int64"
   ]
  },
  {
   "cell_type": "markdown",
   "id": "8dd8dfa8",
   "metadata": {},
   "source": [
    "nombre_infected       956\n",
    "nombre_sain          2366\n",
    "nombre_exposed        599\n",
    "nombre_recovered    16079\n",
    "Name: 662, dtype: int64"
   ]
  },
  {
   "cell_type": "markdown",
   "id": "b35b180b",
   "metadata": {},
   "source": [
    "nombre_infected       997\n",
    "nombre_sain          2327\n",
    "nombre_exposed        621\n",
    "nombre_recovered    16055\n",
    "Name: 663, dtype: int64"
   ]
  },
  {
   "cell_type": "markdown",
   "id": "aa2684db",
   "metadata": {},
   "source": [
    "nombre_infected      1000\n",
    "nombre_sain          2289\n",
    "nombre_exposed        638\n",
    "nombre_recovered    16073\n",
    "Name: 664, dtype: int64"
   ]
  },
  {
   "cell_type": "markdown",
   "id": "76ef5f90",
   "metadata": {},
   "source": [
    "nombre_infected      1021\n",
    "nombre_sain          2277\n",
    "nombre_exposed        637\n",
    "nombre_recovered    16065\n",
    "Name: 665, dtype: int64"
   ]
  },
  {
   "cell_type": "markdown",
   "id": "d330d43c",
   "metadata": {},
   "source": [
    "nombre_infected      1014\n",
    "nombre_sain          2276\n",
    "nombre_exposed        652\n",
    "nombre_recovered    16058\n",
    "Name: 666, dtype: int64"
   ]
  },
  {
   "cell_type": "markdown",
   "id": "798fb956",
   "metadata": {},
   "source": [
    "nombre_infected      1017\n",
    "nombre_sain          2281\n",
    "nombre_exposed        628\n",
    "nombre_recovered    16074\n",
    "Name: 667, dtype: int64"
   ]
  },
  {
   "cell_type": "markdown",
   "id": "64de9ffa",
   "metadata": {},
   "source": [
    "nombre_infected      1030\n",
    "nombre_sain          2311\n",
    "nombre_exposed        617\n",
    "nombre_recovered    16042\n",
    "Name: 668, dtype: int64"
   ]
  },
  {
   "cell_type": "markdown",
   "id": "11cff71b",
   "metadata": {},
   "source": [
    "nombre_infected      1059\n",
    "nombre_sain          2283\n",
    "nombre_exposed        608\n",
    "nombre_recovered    16050\n",
    "Name: 669, dtype: int64"
   ]
  },
  {
   "cell_type": "markdown",
   "id": "5d1ad3d5",
   "metadata": {},
   "source": [
    "nombre_infected      1058\n",
    "nombre_sain          2278\n",
    "nombre_exposed        588\n",
    "nombre_recovered    16076\n",
    "Name: 670, dtype: int64"
   ]
  },
  {
   "cell_type": "markdown",
   "id": "e4988305",
   "metadata": {},
   "source": [
    "nombre_infected      1056\n",
    "nombre_sain          2277\n",
    "nombre_exposed        570\n",
    "nombre_recovered    16097\n",
    "Name: 671, dtype: int64"
   ]
  },
  {
   "cell_type": "markdown",
   "id": "d2a41b96",
   "metadata": {},
   "source": [
    "nombre_infected      1041\n",
    "nombre_sain          2274\n",
    "nombre_exposed        568\n",
    "nombre_recovered    16117\n",
    "Name: 672, dtype: int64"
   ]
  },
  {
   "cell_type": "markdown",
   "id": "fbc4d772",
   "metadata": {},
   "source": [
    "nombre_infected      1009\n",
    "nombre_sain          2250\n",
    "nombre_exposed        591\n",
    "nombre_recovered    16150\n",
    "Name: 673, dtype: int64"
   ]
  },
  {
   "cell_type": "markdown",
   "id": "38dbbbea",
   "metadata": {},
   "source": [
    "nombre_infected      1008\n",
    "nombre_sain          2233\n",
    "nombre_exposed        590\n",
    "nombre_recovered    16169\n",
    "Name: 674, dtype: int64"
   ]
  },
  {
   "cell_type": "markdown",
   "id": "31b670d2",
   "metadata": {},
   "source": [
    "nombre_infected       998\n",
    "nombre_sain          2241\n",
    "nombre_exposed        596\n",
    "nombre_recovered    16165\n",
    "Name: 675, dtype: int64"
   ]
  },
  {
   "cell_type": "markdown",
   "id": "978533c3",
   "metadata": {},
   "source": [
    "nombre_infected       993\n",
    "nombre_sain          2234\n",
    "nombre_exposed        579\n",
    "nombre_recovered    16194\n",
    "Name: 676, dtype: int64"
   ]
  },
  {
   "cell_type": "markdown",
   "id": "11ca0a02",
   "metadata": {},
   "source": [
    "nombre_infected       979\n",
    "nombre_sain          2231\n",
    "nombre_exposed        581\n",
    "nombre_recovered    16209\n",
    "Name: 677, dtype: int64"
   ]
  },
  {
   "cell_type": "markdown",
   "id": "51f7ab97",
   "metadata": {},
   "source": [
    "nombre_infected       980\n",
    "nombre_sain          2239\n",
    "nombre_exposed        596\n",
    "nombre_recovered    16185\n",
    "Name: 678, dtype: int64"
   ]
  },
  {
   "cell_type": "markdown",
   "id": "9c1f7e05",
   "metadata": {},
   "source": [
    "nombre_infected       991\n",
    "nombre_sain          2230\n",
    "nombre_exposed        579\n",
    "nombre_recovered    16200\n",
    "Name: 679, dtype: int64"
   ]
  },
  {
   "cell_type": "markdown",
   "id": "b9a7c1d4",
   "metadata": {},
   "source": [
    "nombre_infected       980\n",
    "nombre_sain          2237\n",
    "nombre_exposed        579\n",
    "nombre_recovered    16204\n",
    "Name: 680, dtype: int64"
   ]
  },
  {
   "cell_type": "markdown",
   "id": "b102461a",
   "metadata": {},
   "source": [
    "nombre_infected       980\n",
    "nombre_sain          2232\n",
    "nombre_exposed        577\n",
    "nombre_recovered    16211\n",
    "Name: 681, dtype: int64"
   ]
  },
  {
   "cell_type": "markdown",
   "id": "986e3a80",
   "metadata": {},
   "source": [
    "nombre_infected       984\n",
    "nombre_sain          2224\n",
    "nombre_exposed        571\n",
    "nombre_recovered    16221\n",
    "Name: 682, dtype: int64"
   ]
  },
  {
   "cell_type": "markdown",
   "id": "47799c39",
   "metadata": {},
   "source": [
    "nombre_infected       992\n",
    "nombre_sain          2225\n",
    "nombre_exposed        587\n",
    "nombre_recovered    16196\n",
    "Name: 683, dtype: int64"
   ]
  },
  {
   "cell_type": "markdown",
   "id": "9ece1d8d",
   "metadata": {},
   "source": [
    "nombre_infected      1014\n",
    "nombre_sain          2225\n",
    "nombre_exposed        555\n",
    "nombre_recovered    16206\n",
    "Name: 684, dtype: int64"
   ]
  },
  {
   "cell_type": "markdown",
   "id": "907c55e0",
   "metadata": {},
   "source": [
    "nombre_infected      1019\n",
    "nombre_sain          2229\n",
    "nombre_exposed        541\n",
    "nombre_recovered    16211\n",
    "Name: 685, dtype: int64"
   ]
  },
  {
   "cell_type": "markdown",
   "id": "0ed4cb2c",
   "metadata": {},
   "source": [
    "nombre_infected      1030\n",
    "nombre_sain          2202\n",
    "nombre_exposed        540\n",
    "nombre_recovered    16228\n",
    "Name: 686, dtype: int64"
   ]
  },
  {
   "cell_type": "markdown",
   "id": "1b91547c",
   "metadata": {},
   "source": [
    "nombre_infected       990\n",
    "nombre_sain          2203\n",
    "nombre_exposed        541\n",
    "nombre_recovered    16266\n",
    "Name: 687, dtype: int64"
   ]
  },
  {
   "cell_type": "markdown",
   "id": "11723c70",
   "metadata": {},
   "source": [
    "nombre_infected       972\n",
    "nombre_sain          2194\n",
    "nombre_exposed        544\n",
    "nombre_recovered    16290\n",
    "Name: 688, dtype: int64"
   ]
  },
  {
   "cell_type": "markdown",
   "id": "9a31159b",
   "metadata": {},
   "source": [
    "nombre_infected       979\n",
    "nombre_sain          2216\n",
    "nombre_exposed        518\n",
    "nombre_recovered    16287\n",
    "Name: 689, dtype: int64"
   ]
  },
  {
   "cell_type": "markdown",
   "id": "333483e5",
   "metadata": {},
   "source": [
    "nombre_infected       980\n",
    "nombre_sain          2211\n",
    "nombre_exposed        523\n",
    "nombre_recovered    16286\n",
    "Name: 690, dtype: int64"
   ]
  },
  {
   "cell_type": "markdown",
   "id": "4895745f",
   "metadata": {},
   "source": [
    "nombre_infected       935\n",
    "nombre_sain          2209\n",
    "nombre_exposed        555\n",
    "nombre_recovered    16301\n",
    "Name: 691, dtype: int64"
   ]
  },
  {
   "cell_type": "markdown",
   "id": "71a08c2e",
   "metadata": {},
   "source": [
    "nombre_infected       939\n",
    "nombre_sain          2184\n",
    "nombre_exposed        552\n",
    "nombre_recovered    16325\n",
    "Name: 692, dtype: int64"
   ]
  },
  {
   "cell_type": "markdown",
   "id": "acacefce",
   "metadata": {},
   "source": [
    "nombre_infected       934\n",
    "nombre_sain          2173\n",
    "nombre_exposed        550\n",
    "nombre_recovered    16343\n",
    "Name: 693, dtype: int64"
   ]
  },
  {
   "cell_type": "markdown",
   "id": "b791b1bf",
   "metadata": {},
   "source": [
    "nombre_infected       937\n",
    "nombre_sain          2165\n",
    "nombre_exposed        536\n",
    "nombre_recovered    16362\n",
    "Name: 694, dtype: int64"
   ]
  },
  {
   "cell_type": "markdown",
   "id": "aa36fa1f",
   "metadata": {},
   "source": [
    "nombre_infected       939\n",
    "nombre_sain          2161\n",
    "nombre_exposed        524\n",
    "nombre_recovered    16376\n",
    "Name: 695, dtype: int64"
   ]
  },
  {
   "cell_type": "markdown",
   "id": "0db6cfa4",
   "metadata": {},
   "source": [
    "nombre_infected       907\n",
    "nombre_sain          2192\n",
    "nombre_exposed        495\n",
    "nombre_recovered    16406\n",
    "Name: 696, dtype: int64"
   ]
  },
  {
   "cell_type": "markdown",
   "id": "1e333b1f",
   "metadata": {},
   "source": [
    "nombre_infected       905\n",
    "nombre_sain          2197\n",
    "nombre_exposed        485\n",
    "nombre_recovered    16413\n",
    "Name: 697, dtype: int64"
   ]
  },
  {
   "cell_type": "markdown",
   "id": "da266dd5",
   "metadata": {},
   "source": [
    "nombre_infected       864\n",
    "nombre_sain          2182\n",
    "nombre_exposed        502\n",
    "nombre_recovered    16452\n",
    "Name: 698, dtype: int64"
   ]
  },
  {
   "cell_type": "markdown",
   "id": "807033d3",
   "metadata": {},
   "source": [
    "nombre_infected       843\n",
    "nombre_sain          2186\n",
    "nombre_exposed        494\n",
    "nombre_recovered    16477\n",
    "Name: 699, dtype: int64"
   ]
  },
  {
   "cell_type": "markdown",
   "id": "303f38a6",
   "metadata": {},
   "source": [
    "nombre_infected       839\n",
    "nombre_sain          2142\n",
    "nombre_exposed        524\n",
    "nombre_recovered    16495\n",
    "Name: 700, dtype: int64"
   ]
  },
  {
   "cell_type": "markdown",
   "id": "e07f047a",
   "metadata": {},
   "source": [
    "nombre_infected       798\n",
    "nombre_sain          2139\n",
    "nombre_exposed        542\n",
    "nombre_recovered    16521\n",
    "Name: 701, dtype: int64"
   ]
  },
  {
   "cell_type": "markdown",
   "id": "f9c77b7e",
   "metadata": {},
   "source": [
    "nombre_infected       806\n",
    "nombre_sain          2147\n",
    "nombre_exposed        533\n",
    "nombre_recovered    16514\n",
    "Name: 702, dtype: int64"
   ]
  },
  {
   "cell_type": "markdown",
   "id": "7bf02878",
   "metadata": {},
   "source": [
    "nombre_infected       830\n",
    "nombre_sain          2166\n",
    "nombre_exposed        515\n",
    "nombre_recovered    16489\n",
    "Name: 703, dtype: int64"
   ]
  },
  {
   "cell_type": "markdown",
   "id": "03088764",
   "metadata": {},
   "source": [
    "nombre_infected       824\n",
    "nombre_sain          2177\n",
    "nombre_exposed        507\n",
    "nombre_recovered    16492\n",
    "Name: 704, dtype: int64"
   ]
  },
  {
   "cell_type": "markdown",
   "id": "1507a710",
   "metadata": {},
   "source": [
    "nombre_infected       818\n",
    "nombre_sain          2220\n",
    "nombre_exposed        502\n",
    "nombre_recovered    16460\n",
    "Name: 705, dtype: int64"
   ]
  },
  {
   "cell_type": "markdown",
   "id": "fc9f3cc7",
   "metadata": {},
   "source": [
    "nombre_infected       818\n",
    "nombre_sain          2261\n",
    "nombre_exposed        501\n",
    "nombre_recovered    16420\n",
    "Name: 706, dtype: int64"
   ]
  },
  {
   "cell_type": "markdown",
   "id": "c0e3a7da",
   "metadata": {},
   "source": [
    "nombre_infected       795\n",
    "nombre_sain          2301\n",
    "nombre_exposed        499\n",
    "nombre_recovered    16405\n",
    "Name: 707, dtype: int64"
   ]
  },
  {
   "cell_type": "markdown",
   "id": "c1534a2b",
   "metadata": {},
   "source": [
    "nombre_infected       812\n",
    "nombre_sain          2338\n",
    "nombre_exposed        494\n",
    "nombre_recovered    16356\n",
    "Name: 708, dtype: int64"
   ]
  },
  {
   "cell_type": "markdown",
   "id": "cd4eb57e",
   "metadata": {},
   "source": [
    "nombre_infected       796\n",
    "nombre_sain          2379\n",
    "nombre_exposed        489\n",
    "nombre_recovered    16336\n",
    "Name: 709, dtype: int64"
   ]
  },
  {
   "cell_type": "markdown",
   "id": "0fc43c1e",
   "metadata": {},
   "source": [
    "nombre_infected       783\n",
    "nombre_sain          2403\n",
    "nombre_exposed        498\n",
    "nombre_recovered    16316\n",
    "Name: 710, dtype: int64"
   ]
  },
  {
   "cell_type": "markdown",
   "id": "77b65521",
   "metadata": {},
   "source": [
    "nombre_infected       777\n",
    "nombre_sain          2459\n",
    "nombre_exposed        487\n",
    "nombre_recovered    16277\n",
    "Name: 711, dtype: int64"
   ]
  },
  {
   "cell_type": "markdown",
   "id": "baad1328",
   "metadata": {},
   "source": [
    "nombre_infected       780\n",
    "nombre_sain          2525\n",
    "nombre_exposed        465\n",
    "nombre_recovered    16230\n",
    "Name: 712, dtype: int64"
   ]
  },
  {
   "cell_type": "markdown",
   "id": "c41a6b80",
   "metadata": {},
   "source": [
    "nombre_infected       779\n",
    "nombre_sain          2566\n",
    "nombre_exposed        474\n",
    "nombre_recovered    16181\n",
    "Name: 713, dtype: int64"
   ]
  },
  {
   "cell_type": "markdown",
   "id": "ae474cf0",
   "metadata": {},
   "source": [
    "nombre_infected       794\n",
    "nombre_sain          2601\n",
    "nombre_exposed        477\n",
    "nombre_recovered    16128\n",
    "Name: 714, dtype: int64"
   ]
  },
  {
   "cell_type": "markdown",
   "id": "a245522a",
   "metadata": {},
   "source": [
    "nombre_infected       800\n",
    "nombre_sain          2600\n",
    "nombre_exposed        499\n",
    "nombre_recovered    16101\n",
    "Name: 715, dtype: int64"
   ]
  },
  {
   "cell_type": "markdown",
   "id": "88bd92b1",
   "metadata": {},
   "source": [
    "nombre_infected       792\n",
    "nombre_sain          2657\n",
    "nombre_exposed        485\n",
    "nombre_recovered    16066\n",
    "Name: 716, dtype: int64"
   ]
  },
  {
   "cell_type": "markdown",
   "id": "1d6db0f3",
   "metadata": {},
   "source": [
    "nombre_infected       791\n",
    "nombre_sain          2665\n",
    "nombre_exposed        504\n",
    "nombre_recovered    16040\n",
    "Name: 717, dtype: int64"
   ]
  },
  {
   "cell_type": "markdown",
   "id": "d30f4975",
   "metadata": {},
   "source": [
    "nombre_infected       770\n",
    "nombre_sain          2656\n",
    "nombre_exposed        551\n",
    "nombre_recovered    16023\n",
    "Name: 718, dtype: int64"
   ]
  },
  {
   "cell_type": "markdown",
   "id": "0ee3b7b9",
   "metadata": {},
   "source": [
    "nombre_infected       762\n",
    "nombre_sain          2662\n",
    "nombre_exposed        557\n",
    "nombre_recovered    16019\n",
    "Name: 719, dtype: int64"
   ]
  },
  {
   "cell_type": "markdown",
   "id": "7eb0e796",
   "metadata": {},
   "source": [
    "nombre_infected       789\n",
    "nombre_sain          2701\n",
    "nombre_exposed        538\n",
    "nombre_recovered    15972\n",
    "Name: 720, dtype: int64"
   ]
  },
  {
   "cell_type": "markdown",
   "id": "6d023477",
   "metadata": {},
   "source": [
    "nombre_infected       821\n",
    "nombre_sain          2731\n",
    "nombre_exposed        525\n",
    "nombre_recovered    15923\n",
    "Name: 721, dtype: int64"
   ]
  },
  {
   "cell_type": "markdown",
   "id": "877e287b",
   "metadata": {},
   "source": [
    "nombre_infected       828\n",
    "nombre_sain          2736\n",
    "nombre_exposed        534\n",
    "nombre_recovered    15902\n",
    "Name: 722, dtype: int64"
   ]
  },
  {
   "cell_type": "markdown",
   "id": "f50e8e4d",
   "metadata": {},
   "source": [
    "nombre_infected       860\n",
    "nombre_sain          2727\n",
    "nombre_exposed        540\n",
    "nombre_recovered    15873\n",
    "Name: 723, dtype: int64"
   ]
  },
  {
   "cell_type": "markdown",
   "id": "010b2cde",
   "metadata": {},
   "source": [
    "nombre_infected       862\n",
    "nombre_sain          2718\n",
    "nombre_exposed        577\n",
    "nombre_recovered    15843\n",
    "Name: 724, dtype: int64"
   ]
  },
  {
   "cell_type": "markdown",
   "id": "59c9a149",
   "metadata": {},
   "source": [
    "nombre_infected       878\n",
    "nombre_sain          2701\n",
    "nombre_exposed        593\n",
    "nombre_recovered    15828\n",
    "Name: 725, dtype: int64"
   ]
  },
  {
   "cell_type": "markdown",
   "id": "e58e3b38",
   "metadata": {},
   "source": [
    "nombre_infected       894\n",
    "nombre_sain          2687\n",
    "nombre_exposed        604\n",
    "nombre_recovered    15815\n",
    "Name: 726, dtype: int64"
   ]
  },
  {
   "cell_type": "markdown",
   "id": "90ebe41f",
   "metadata": {},
   "source": [
    "nombre_infected       917\n",
    "nombre_sain          2663\n",
    "nombre_exposed        597\n",
    "nombre_recovered    15823\n",
    "Name: 727, dtype: int64"
   ]
  },
  {
   "cell_type": "markdown",
   "id": "41099088",
   "metadata": {},
   "source": [
    "nombre_infected       911\n",
    "nombre_sain          2643\n",
    "nombre_exposed        624\n",
    "nombre_recovered    15822\n",
    "Name: 728, dtype: int64"
   ]
  },
  {
   "cell_type": "markdown",
   "id": "d569c0a7",
   "metadata": {},
   "source": [
    "nombre_infected       906\n",
    "nombre_sain          2620\n",
    "nombre_exposed        635\n",
    "nombre_recovered    15839\n",
    "Name: 729, dtype: int64"
   ]
  },
  {
   "cell_type": "markdown",
   "id": "49429821",
   "metadata": {},
   "source": [
    "nombre_infected       919\n",
    "nombre_sain          2601\n",
    "nombre_exposed        632\n",
    "nombre_recovered    15848\n",
    "Name: 730, dtype: int64"
   ]
  }
 ],
 "metadata": {},
 "nbformat": 4,
 "nbformat_minor": 5
}
