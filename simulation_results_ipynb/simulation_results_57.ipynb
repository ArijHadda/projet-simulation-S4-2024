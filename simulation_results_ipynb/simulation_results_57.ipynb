{
 "cells": [
  {
   "cell_type": "markdown",
   "id": "91078ca2",
   "metadata": {},
   "source": [
    "nombre_infected        20\n",
    "nombre_sain         19980\n",
    "nombre_exposed          0\n",
    "nombre_recovered        0\n",
    "Name: 0, dtype: int64"
   ]
  },
  {
   "cell_type": "markdown",
   "id": "071de899",
   "metadata": {},
   "source": [
    "nombre_infected        20\n",
    "nombre_sain         19962\n",
    "nombre_exposed         18\n",
    "nombre_recovered        0\n",
    "Name: 1, dtype: int64"
   ]
  },
  {
   "cell_type": "markdown",
   "id": "9b2f51f5",
   "metadata": {},
   "source": [
    "nombre_infected         0\n",
    "nombre_sain         19945\n",
    "nombre_exposed         35\n",
    "nombre_recovered       20\n",
    "Name: 2, dtype: int64"
   ]
  },
  {
   "cell_type": "markdown",
   "id": "cb115e92",
   "metadata": {},
   "source": [
    "nombre_infected         5\n",
    "nombre_sain         19944\n",
    "nombre_exposed         31\n",
    "nombre_recovered       20\n",
    "Name: 3, dtype: int64"
   ]
  },
  {
   "cell_type": "markdown",
   "id": "17ab2dc7",
   "metadata": {},
   "source": [
    "nombre_infected        12\n",
    "nombre_sain         19934\n",
    "nombre_exposed         34\n",
    "nombre_recovered       20\n",
    "Name: 4, dtype: int64"
   ]
  },
  {
   "cell_type": "markdown",
   "id": "3555be32",
   "metadata": {},
   "source": [
    "nombre_infected        19\n",
    "nombre_sain         19911\n",
    "nombre_exposed         49\n",
    "nombre_recovered       21\n",
    "Name: 5, dtype: int64"
   ]
  },
  {
   "cell_type": "markdown",
   "id": "2074ef0a",
   "metadata": {},
   "source": [
    "nombre_infected        24\n",
    "nombre_sain         19871\n",
    "nombre_exposed         83\n",
    "nombre_recovered       22\n",
    "Name: 6, dtype: int64"
   ]
  },
  {
   "cell_type": "markdown",
   "id": "fcb6899b",
   "metadata": {},
   "source": [
    "nombre_infected        35\n",
    "nombre_sain         19829\n",
    "nombre_exposed        111\n",
    "nombre_recovered       25\n",
    "Name: 7, dtype: int64"
   ]
  },
  {
   "cell_type": "markdown",
   "id": "290732fa",
   "metadata": {},
   "source": [
    "nombre_infected        51\n",
    "nombre_sain         19770\n",
    "nombre_exposed        148\n",
    "nombre_recovered       31\n",
    "Name: 8, dtype: int64"
   ]
  },
  {
   "cell_type": "markdown",
   "id": "42234b74",
   "metadata": {},
   "source": [
    "nombre_infected        76\n",
    "nombre_sain         19696\n",
    "nombre_exposed        195\n",
    "nombre_recovered       33\n",
    "Name: 9, dtype: int64"
   ]
  },
  {
   "cell_type": "markdown",
   "id": "51860254",
   "metadata": {},
   "source": [
    "nombre_infected       107\n",
    "nombre_sain         19553\n",
    "nombre_exposed        303\n",
    "nombre_recovered       37\n",
    "Name: 10, dtype: int64"
   ]
  },
  {
   "cell_type": "markdown",
   "id": "f9b9b602",
   "metadata": {},
   "source": [
    "nombre_infected       147\n",
    "nombre_sain         19407\n",
    "nombre_exposed        399\n",
    "nombre_recovered       47\n",
    "Name: 11, dtype: int64"
   ]
  },
  {
   "cell_type": "markdown",
   "id": "b9e26144",
   "metadata": {},
   "source": [
    "nombre_infected       198\n",
    "nombre_sain         19178\n",
    "nombre_exposed        561\n",
    "nombre_recovered       63\n",
    "Name: 12, dtype: int64"
   ]
  },
  {
   "cell_type": "markdown",
   "id": "a4f771c5",
   "metadata": {},
   "source": [
    "nombre_infected       282\n",
    "nombre_sain         18902\n",
    "nombre_exposed        736\n",
    "nombre_recovered       80\n",
    "Name: 13, dtype: int64"
   ]
  },
  {
   "cell_type": "markdown",
   "id": "e8d41264",
   "metadata": {},
   "source": [
    "nombre_infected       394\n",
    "nombre_sain         18555\n",
    "nombre_exposed        943\n",
    "nombre_recovered      108\n",
    "Name: 14, dtype: int64"
   ]
  },
  {
   "cell_type": "markdown",
   "id": "216eeb74",
   "metadata": {},
   "source": [
    "nombre_infected       544\n",
    "nombre_sain         18020\n",
    "nombre_exposed       1296\n",
    "nombre_recovered      140\n",
    "Name: 15, dtype: int64"
   ]
  },
  {
   "cell_type": "markdown",
   "id": "fad99f27",
   "metadata": {},
   "source": [
    "nombre_infected       718\n",
    "nombre_sain         17370\n",
    "nombre_exposed       1713\n",
    "nombre_recovered      199\n",
    "Name: 16, dtype: int64"
   ]
  },
  {
   "cell_type": "markdown",
   "id": "fb714c1b",
   "metadata": {},
   "source": [
    "nombre_infected       958\n",
    "nombre_sain         16469\n",
    "nombre_exposed       2307\n",
    "nombre_recovered      266\n",
    "Name: 17, dtype: int64"
   ]
  },
  {
   "cell_type": "markdown",
   "id": "b9131b84",
   "metadata": {},
   "source": [
    "nombre_infected      1249\n",
    "nombre_sain         15384\n",
    "nombre_exposed       2997\n",
    "nombre_recovered      370\n",
    "Name: 18, dtype: int64"
   ]
  },
  {
   "cell_type": "markdown",
   "id": "6fd7251c",
   "metadata": {},
   "source": [
    "nombre_infected      1660\n",
    "nombre_sain         14123\n",
    "nombre_exposed       3737\n",
    "nombre_recovered      480\n",
    "Name: 19, dtype: int64"
   ]
  },
  {
   "cell_type": "markdown",
   "id": "330f9216",
   "metadata": {},
   "source": [
    "nombre_infected      2193\n",
    "nombre_sain         12668\n",
    "nombre_exposed       4481\n",
    "nombre_recovered      658\n",
    "Name: 20, dtype: int64"
   ]
  },
  {
   "cell_type": "markdown",
   "id": "101c5c21",
   "metadata": {},
   "source": [
    "nombre_infected      2863\n",
    "nombre_sain         11035\n",
    "nombre_exposed       5252\n",
    "nombre_recovered      850\n",
    "Name: 21, dtype: int64"
   ]
  },
  {
   "cell_type": "markdown",
   "id": "df8e16f6",
   "metadata": {},
   "source": [
    "nombre_infected     3555\n",
    "nombre_sain         9202\n",
    "nombre_exposed      6117\n",
    "nombre_recovered    1126\n",
    "Name: 22, dtype: int64"
   ]
  },
  {
   "cell_type": "markdown",
   "id": "bb7de475",
   "metadata": {},
   "source": [
    "nombre_infected     4387\n",
    "nombre_sain         7451\n",
    "nombre_exposed      6658\n",
    "nombre_recovered    1504\n",
    "Name: 23, dtype: int64"
   ]
  },
  {
   "cell_type": "markdown",
   "id": "5cce00e0",
   "metadata": {},
   "source": [
    "nombre_infected     5280\n",
    "nombre_sain         5769\n",
    "nombre_exposed      7009\n",
    "nombre_recovered    1942\n",
    "Name: 24, dtype: int64"
   ]
  },
  {
   "cell_type": "markdown",
   "id": "10fbd4d6",
   "metadata": {},
   "source": [
    "nombre_infected     6205\n",
    "nombre_sain         4325\n",
    "nombre_exposed      6984\n",
    "nombre_recovered    2486\n",
    "Name: 25, dtype: int64"
   ]
  },
  {
   "cell_type": "markdown",
   "id": "44410166",
   "metadata": {},
   "source": [
    "nombre_infected     7057\n",
    "nombre_sain         3153\n",
    "nombre_exposed      6633\n",
    "nombre_recovered    3157\n",
    "Name: 26, dtype: int64"
   ]
  },
  {
   "cell_type": "markdown",
   "id": "bcc36aa2",
   "metadata": {},
   "source": [
    "nombre_infected     7756\n",
    "nombre_sain         2264\n",
    "nombre_exposed      6075\n",
    "nombre_recovered    3905\n",
    "Name: 27, dtype: int64"
   ]
  },
  {
   "cell_type": "markdown",
   "id": "10d2bcb2",
   "metadata": {},
   "source": [
    "nombre_infected     8314\n",
    "nombre_sain         1574\n",
    "nombre_exposed      5388\n",
    "nombre_recovered    4724\n",
    "Name: 28, dtype: int64"
   ]
  },
  {
   "cell_type": "markdown",
   "id": "bf298279",
   "metadata": {},
   "source": [
    "nombre_infected     8626\n",
    "nombre_sain         1075\n",
    "nombre_exposed      4605\n",
    "nombre_recovered    5694\n",
    "Name: 29, dtype: int64"
   ]
  },
  {
   "cell_type": "markdown",
   "id": "6bc5b178",
   "metadata": {},
   "source": [
    "nombre_infected     8774\n",
    "nombre_sain          762\n",
    "nombre_exposed      3803\n",
    "nombre_recovered    6661\n",
    "Name: 30, dtype: int64"
   ]
  },
  {
   "cell_type": "markdown",
   "id": "406518df",
   "metadata": {},
   "source": [
    "nombre_infected     8720\n",
    "nombre_sain          509\n",
    "nombre_exposed      3112\n",
    "nombre_recovered    7659\n",
    "Name: 31, dtype: int64"
   ]
  },
  {
   "cell_type": "markdown",
   "id": "7f4271a4",
   "metadata": {},
   "source": [
    "nombre_infected     8455\n",
    "nombre_sain          360\n",
    "nombre_exposed      2550\n",
    "nombre_recovered    8635\n",
    "Name: 32, dtype: int64"
   ]
  },
  {
   "cell_type": "markdown",
   "id": "5277821e",
   "metadata": {},
   "source": [
    "nombre_infected     8136\n",
    "nombre_sain          261\n",
    "nombre_exposed      2014\n",
    "nombre_recovered    9589\n",
    "Name: 33, dtype: int64"
   ]
  },
  {
   "cell_type": "markdown",
   "id": "0758fb24",
   "metadata": {},
   "source": [
    "nombre_infected      7703\n",
    "nombre_sain           204\n",
    "nombre_exposed       1574\n",
    "nombre_recovered    10519\n",
    "Name: 34, dtype: int64"
   ]
  },
  {
   "cell_type": "markdown",
   "id": "e39df19d",
   "metadata": {},
   "source": [
    "nombre_infected      7187\n",
    "nombre_sain           174\n",
    "nombre_exposed       1235\n",
    "nombre_recovered    11404\n",
    "Name: 35, dtype: int64"
   ]
  },
  {
   "cell_type": "markdown",
   "id": "e6cd1d9c",
   "metadata": {},
   "source": [
    "nombre_infected      6598\n",
    "nombre_sain           150\n",
    "nombre_exposed        997\n",
    "nombre_recovered    12255\n",
    "Name: 36, dtype: int64"
   ]
  },
  {
   "cell_type": "markdown",
   "id": "36ceb0c7",
   "metadata": {},
   "source": [
    "nombre_infected      6093\n",
    "nombre_sain           140\n",
    "nombre_exposed        734\n",
    "nombre_recovered    13033\n",
    "Name: 37, dtype: int64"
   ]
  },
  {
   "cell_type": "markdown",
   "id": "7daa3c53",
   "metadata": {},
   "source": [
    "nombre_infected      5598\n",
    "nombre_sain           128\n",
    "nombre_exposed        564\n",
    "nombre_recovered    13710\n",
    "Name: 38, dtype: int64"
   ]
  },
  {
   "cell_type": "markdown",
   "id": "9915835c",
   "metadata": {},
   "source": [
    "nombre_infected      5047\n",
    "nombre_sain           126\n",
    "nombre_exposed        426\n",
    "nombre_recovered    14401\n",
    "Name: 39, dtype: int64"
   ]
  },
  {
   "cell_type": "markdown",
   "id": "d84d1c14",
   "metadata": {},
   "source": [
    "nombre_infected      4542\n",
    "nombre_sain           118\n",
    "nombre_exposed        330\n",
    "nombre_recovered    15010\n",
    "Name: 40, dtype: int64"
   ]
  },
  {
   "cell_type": "markdown",
   "id": "e0bd2fdf",
   "metadata": {},
   "source": [
    "nombre_infected      4088\n",
    "nombre_sain           114\n",
    "nombre_exposed        278\n",
    "nombre_recovered    15520\n",
    "Name: 41, dtype: int64"
   ]
  },
  {
   "cell_type": "markdown",
   "id": "72ed0000",
   "metadata": {},
   "source": [
    "nombre_infected      3660\n",
    "nombre_sain           115\n",
    "nombre_exposed        216\n",
    "nombre_recovered    16009\n",
    "Name: 42, dtype: int64"
   ]
  },
  {
   "cell_type": "markdown",
   "id": "47b7169e",
   "metadata": {},
   "source": [
    "nombre_infected      3327\n",
    "nombre_sain           128\n",
    "nombre_exposed        162\n",
    "nombre_recovered    16383\n",
    "Name: 43, dtype: int64"
   ]
  },
  {
   "cell_type": "markdown",
   "id": "5c4df4c2",
   "metadata": {},
   "source": [
    "nombre_infected      3002\n",
    "nombre_sain           136\n",
    "nombre_exposed        128\n",
    "nombre_recovered    16734\n",
    "Name: 44, dtype: int64"
   ]
  },
  {
   "cell_type": "markdown",
   "id": "2da9fe39",
   "metadata": {},
   "source": [
    "nombre_infected      2698\n",
    "nombre_sain           136\n",
    "nombre_exposed        110\n",
    "nombre_recovered    17056\n",
    "Name: 45, dtype: int64"
   ]
  },
  {
   "cell_type": "markdown",
   "id": "836d033b",
   "metadata": {},
   "source": [
    "nombre_infected      2425\n",
    "nombre_sain           135\n",
    "nombre_exposed         98\n",
    "nombre_recovered    17342\n",
    "Name: 46, dtype: int64"
   ]
  },
  {
   "cell_type": "markdown",
   "id": "e0280396",
   "metadata": {},
   "source": [
    "nombre_infected      2147\n",
    "nombre_sain           154\n",
    "nombre_exposed         80\n",
    "nombre_recovered    17619\n",
    "Name: 47, dtype: int64"
   ]
  },
  {
   "cell_type": "markdown",
   "id": "c742f3e3",
   "metadata": {},
   "source": [
    "nombre_infected      1901\n",
    "nombre_sain           175\n",
    "nombre_exposed         73\n",
    "nombre_recovered    17851\n",
    "Name: 48, dtype: int64"
   ]
  },
  {
   "cell_type": "markdown",
   "id": "4e1f1790",
   "metadata": {},
   "source": [
    "nombre_infected      1655\n",
    "nombre_sain           198\n",
    "nombre_exposed         65\n",
    "nombre_recovered    18082\n",
    "Name: 49, dtype: int64"
   ]
  },
  {
   "cell_type": "markdown",
   "id": "4fad4d53",
   "metadata": {},
   "source": [
    "nombre_infected      1464\n",
    "nombre_sain           223\n",
    "nombre_exposed         52\n",
    "nombre_recovered    18261\n",
    "Name: 50, dtype: int64"
   ]
  },
  {
   "cell_type": "markdown",
   "id": "5bb63110",
   "metadata": {},
   "source": [
    "nombre_infected      1291\n",
    "nombre_sain           261\n",
    "nombre_exposed         52\n",
    "nombre_recovered    18396\n",
    "Name: 51, dtype: int64"
   ]
  },
  {
   "cell_type": "markdown",
   "id": "9350c24f",
   "metadata": {},
   "source": [
    "nombre_infected      1108\n",
    "nombre_sain           303\n",
    "nombre_exposed         42\n",
    "nombre_recovered    18547\n",
    "Name: 52, dtype: int64"
   ]
  },
  {
   "cell_type": "markdown",
   "id": "2d4bed32",
   "metadata": {},
   "source": [
    "nombre_infected       972\n",
    "nombre_sain           331\n",
    "nombre_exposed         50\n",
    "nombre_recovered    18647\n",
    "Name: 53, dtype: int64"
   ]
  },
  {
   "cell_type": "markdown",
   "id": "ba282fa2",
   "metadata": {},
   "source": [
    "nombre_infected       881\n",
    "nombre_sain           383\n",
    "nombre_exposed         40\n",
    "nombre_recovered    18696\n",
    "Name: 54, dtype: int64"
   ]
  },
  {
   "cell_type": "markdown",
   "id": "a40a74e3",
   "metadata": {},
   "source": [
    "nombre_infected       768\n",
    "nombre_sain           429\n",
    "nombre_exposed         47\n",
    "nombre_recovered    18756\n",
    "Name: 55, dtype: int64"
   ]
  },
  {
   "cell_type": "markdown",
   "id": "626aa996",
   "metadata": {},
   "source": [
    "nombre_infected       672\n",
    "nombre_sain           465\n",
    "nombre_exposed         56\n",
    "nombre_recovered    18807\n",
    "Name: 56, dtype: int64"
   ]
  },
  {
   "cell_type": "markdown",
   "id": "fb750741",
   "metadata": {},
   "source": [
    "nombre_infected       596\n",
    "nombre_sain           530\n",
    "nombre_exposed         56\n",
    "nombre_recovered    18818\n",
    "Name: 57, dtype: int64"
   ]
  },
  {
   "cell_type": "markdown",
   "id": "7b8cf1cb",
   "metadata": {},
   "source": [
    "nombre_infected       532\n",
    "nombre_sain           587\n",
    "nombre_exposed         43\n",
    "nombre_recovered    18838\n",
    "Name: 58, dtype: int64"
   ]
  },
  {
   "cell_type": "markdown",
   "id": "17b8d5c1",
   "metadata": {},
   "source": [
    "nombre_infected       468\n",
    "nombre_sain           648\n",
    "nombre_exposed         48\n",
    "nombre_recovered    18836\n",
    "Name: 59, dtype: int64"
   ]
  },
  {
   "cell_type": "markdown",
   "id": "c4a324bf",
   "metadata": {},
   "source": [
    "nombre_infected       416\n",
    "nombre_sain           712\n",
    "nombre_exposed         57\n",
    "nombre_recovered    18815\n",
    "Name: 60, dtype: int64"
   ]
  },
  {
   "cell_type": "markdown",
   "id": "e353a8ff",
   "metadata": {},
   "source": [
    "nombre_infected       378\n",
    "nombre_sain           749\n",
    "nombre_exposed         66\n",
    "nombre_recovered    18807\n",
    "Name: 61, dtype: int64"
   ]
  },
  {
   "cell_type": "markdown",
   "id": "cfd4392a",
   "metadata": {},
   "source": [
    "nombre_infected       349\n",
    "nombre_sain           815\n",
    "nombre_exposed         62\n",
    "nombre_recovered    18774\n",
    "Name: 62, dtype: int64"
   ]
  },
  {
   "cell_type": "markdown",
   "id": "6625f3e6",
   "metadata": {},
   "source": [
    "nombre_infected       332\n",
    "nombre_sain           874\n",
    "nombre_exposed         62\n",
    "nombre_recovered    18732\n",
    "Name: 63, dtype: int64"
   ]
  },
  {
   "cell_type": "markdown",
   "id": "c7e76a9e",
   "metadata": {},
   "source": [
    "nombre_infected       304\n",
    "nombre_sain           933\n",
    "nombre_exposed         67\n",
    "nombre_recovered    18696\n",
    "Name: 64, dtype: int64"
   ]
  },
  {
   "cell_type": "markdown",
   "id": "e5b83f62",
   "metadata": {},
   "source": [
    "nombre_infected       282\n",
    "nombre_sain           995\n",
    "nombre_exposed         71\n",
    "nombre_recovered    18652\n",
    "Name: 65, dtype: int64"
   ]
  },
  {
   "cell_type": "markdown",
   "id": "852cda1d",
   "metadata": {},
   "source": [
    "nombre_infected       266\n",
    "nombre_sain          1049\n",
    "nombre_exposed         67\n",
    "nombre_recovered    18618\n",
    "Name: 66, dtype: int64"
   ]
  },
  {
   "cell_type": "markdown",
   "id": "d12d6a76",
   "metadata": {},
   "source": [
    "nombre_infected       250\n",
    "nombre_sain          1100\n",
    "nombre_exposed         71\n",
    "nombre_recovered    18579\n",
    "Name: 67, dtype: int64"
   ]
  },
  {
   "cell_type": "markdown",
   "id": "e5dcd478",
   "metadata": {},
   "source": [
    "nombre_infected       243\n",
    "nombre_sain          1140\n",
    "nombre_exposed         61\n",
    "nombre_recovered    18556\n",
    "Name: 68, dtype: int64"
   ]
  },
  {
   "cell_type": "markdown",
   "id": "3a5cd12b",
   "metadata": {},
   "source": [
    "nombre_infected       230\n",
    "nombre_sain          1173\n",
    "nombre_exposed         57\n",
    "nombre_recovered    18540\n",
    "Name: 69, dtype: int64"
   ]
  },
  {
   "cell_type": "markdown",
   "id": "8779e7e0",
   "metadata": {},
   "source": [
    "nombre_infected       217\n",
    "nombre_sain          1203\n",
    "nombre_exposed         57\n",
    "nombre_recovered    18523\n",
    "Name: 70, dtype: int64"
   ]
  },
  {
   "cell_type": "markdown",
   "id": "6e13e4be",
   "metadata": {},
   "source": [
    "nombre_infected       206\n",
    "nombre_sain          1234\n",
    "nombre_exposed         60\n",
    "nombre_recovered    18500\n",
    "Name: 71, dtype: int64"
   ]
  },
  {
   "cell_type": "markdown",
   "id": "57498b85",
   "metadata": {},
   "source": [
    "nombre_infected       193\n",
    "nombre_sain          1271\n",
    "nombre_exposed         53\n",
    "nombre_recovered    18483\n",
    "Name: 72, dtype: int64"
   ]
  },
  {
   "cell_type": "markdown",
   "id": "46386843",
   "metadata": {},
   "source": [
    "nombre_infected       178\n",
    "nombre_sain          1288\n",
    "nombre_exposed         54\n",
    "nombre_recovered    18480\n",
    "Name: 73, dtype: int64"
   ]
  },
  {
   "cell_type": "markdown",
   "id": "48b57a3d",
   "metadata": {},
   "source": [
    "nombre_infected       161\n",
    "nombre_sain          1304\n",
    "nombre_exposed         53\n",
    "nombre_recovered    18482\n",
    "Name: 74, dtype: int64"
   ]
  },
  {
   "cell_type": "markdown",
   "id": "b78fa2ca",
   "metadata": {},
   "source": [
    "nombre_infected       147\n",
    "nombre_sain          1334\n",
    "nombre_exposed         50\n",
    "nombre_recovered    18469\n",
    "Name: 75, dtype: int64"
   ]
  },
  {
   "cell_type": "markdown",
   "id": "fe1c1b44",
   "metadata": {},
   "source": [
    "nombre_infected       139\n",
    "nombre_sain          1368\n",
    "nombre_exposed         44\n",
    "nombre_recovered    18449\n",
    "Name: 76, dtype: int64"
   ]
  },
  {
   "cell_type": "markdown",
   "id": "8bdd1e5b",
   "metadata": {},
   "source": [
    "nombre_infected       128\n",
    "nombre_sain          1400\n",
    "nombre_exposed         43\n",
    "nombre_recovered    18429\n",
    "Name: 77, dtype: int64"
   ]
  },
  {
   "cell_type": "markdown",
   "id": "82dc1a2d",
   "metadata": {},
   "source": [
    "nombre_infected       126\n",
    "nombre_sain          1441\n",
    "nombre_exposed         36\n",
    "nombre_recovered    18397\n",
    "Name: 78, dtype: int64"
   ]
  },
  {
   "cell_type": "markdown",
   "id": "48f116eb",
   "metadata": {},
   "source": [
    "nombre_infected       123\n",
    "nombre_sain          1477\n",
    "nombre_exposed         40\n",
    "nombre_recovered    18360\n",
    "Name: 79, dtype: int64"
   ]
  },
  {
   "cell_type": "markdown",
   "id": "5ff5aed2",
   "metadata": {},
   "source": [
    "nombre_infected       116\n",
    "nombre_sain          1498\n",
    "nombre_exposed         43\n",
    "nombre_recovered    18343\n",
    "Name: 80, dtype: int64"
   ]
  },
  {
   "cell_type": "markdown",
   "id": "76234c6f",
   "metadata": {},
   "source": [
    "nombre_infected       113\n",
    "nombre_sain          1534\n",
    "nombre_exposed         44\n",
    "nombre_recovered    18309\n",
    "Name: 81, dtype: int64"
   ]
  },
  {
   "cell_type": "markdown",
   "id": "5b2a0d2f",
   "metadata": {},
   "source": [
    "nombre_infected       119\n",
    "nombre_sain          1579\n",
    "nombre_exposed         43\n",
    "nombre_recovered    18259\n",
    "Name: 82, dtype: int64"
   ]
  },
  {
   "cell_type": "markdown",
   "id": "f948af34",
   "metadata": {},
   "source": [
    "nombre_infected       112\n",
    "nombre_sain          1620\n",
    "nombre_exposed         39\n",
    "nombre_recovered    18229\n",
    "Name: 83, dtype: int64"
   ]
  },
  {
   "cell_type": "markdown",
   "id": "513a0894",
   "metadata": {},
   "source": [
    "nombre_infected       110\n",
    "nombre_sain          1662\n",
    "nombre_exposed         35\n",
    "nombre_recovered    18193\n",
    "Name: 84, dtype: int64"
   ]
  },
  {
   "cell_type": "markdown",
   "id": "dcc8ed30",
   "metadata": {},
   "source": [
    "nombre_infected       104\n",
    "nombre_sain          1711\n",
    "nombre_exposed         38\n",
    "nombre_recovered    18147\n",
    "Name: 85, dtype: int64"
   ]
  },
  {
   "cell_type": "markdown",
   "id": "50d135d8",
   "metadata": {},
   "source": [
    "nombre_infected       106\n",
    "nombre_sain          1755\n",
    "nombre_exposed         32\n",
    "nombre_recovered    18107\n",
    "Name: 86, dtype: int64"
   ]
  },
  {
   "cell_type": "markdown",
   "id": "bed0a99a",
   "metadata": {},
   "source": [
    "nombre_infected        92\n",
    "nombre_sain          1808\n",
    "nombre_exposed         36\n",
    "nombre_recovered    18064\n",
    "Name: 87, dtype: int64"
   ]
  },
  {
   "cell_type": "markdown",
   "id": "1d53a10e",
   "metadata": {},
   "source": [
    "nombre_infected        84\n",
    "nombre_sain          1849\n",
    "nombre_exposed         44\n",
    "nombre_recovered    18023\n",
    "Name: 88, dtype: int64"
   ]
  },
  {
   "cell_type": "markdown",
   "id": "03420788",
   "metadata": {},
   "source": [
    "nombre_infected        82\n",
    "nombre_sain          1884\n",
    "nombre_exposed         42\n",
    "nombre_recovered    17992\n",
    "Name: 89, dtype: int64"
   ]
  },
  {
   "cell_type": "markdown",
   "id": "ff2995fa",
   "metadata": {},
   "source": [
    "nombre_infected        85\n",
    "nombre_sain          1924\n",
    "nombre_exposed         31\n",
    "nombre_recovered    17960\n",
    "Name: 90, dtype: int64"
   ]
  },
  {
   "cell_type": "markdown",
   "id": "53f3923b",
   "metadata": {},
   "source": [
    "nombre_infected        89\n",
    "nombre_sain          1970\n",
    "nombre_exposed         26\n",
    "nombre_recovered    17915\n",
    "Name: 91, dtype: int64"
   ]
  },
  {
   "cell_type": "markdown",
   "id": "2455706d",
   "metadata": {},
   "source": [
    "nombre_infected        85\n",
    "nombre_sain          2001\n",
    "nombre_exposed         28\n",
    "nombre_recovered    17886\n",
    "Name: 92, dtype: int64"
   ]
  },
  {
   "cell_type": "markdown",
   "id": "77589a5c",
   "metadata": {},
   "source": [
    "nombre_infected        72\n",
    "nombre_sain          2040\n",
    "nombre_exposed         35\n",
    "nombre_recovered    17853\n",
    "Name: 93, dtype: int64"
   ]
  },
  {
   "cell_type": "markdown",
   "id": "c5a9543d",
   "metadata": {},
   "source": [
    "nombre_infected        67\n",
    "nombre_sain          2080\n",
    "nombre_exposed         41\n",
    "nombre_recovered    17812\n",
    "Name: 94, dtype: int64"
   ]
  },
  {
   "cell_type": "markdown",
   "id": "152eba79",
   "metadata": {},
   "source": [
    "nombre_infected        67\n",
    "nombre_sain          2116\n",
    "nombre_exposed         33\n",
    "nombre_recovered    17784\n",
    "Name: 95, dtype: int64"
   ]
  },
  {
   "cell_type": "markdown",
   "id": "318c61ae",
   "metadata": {},
   "source": [
    "nombre_infected        70\n",
    "nombre_sain          2146\n",
    "nombre_exposed         30\n",
    "nombre_recovered    17754\n",
    "Name: 96, dtype: int64"
   ]
  },
  {
   "cell_type": "markdown",
   "id": "a6c93a15",
   "metadata": {},
   "source": [
    "nombre_infected        72\n",
    "nombre_sain          2184\n",
    "nombre_exposed         29\n",
    "nombre_recovered    17715\n",
    "Name: 97, dtype: int64"
   ]
  },
  {
   "cell_type": "markdown",
   "id": "fc12d6da",
   "metadata": {},
   "source": [
    "nombre_infected        69\n",
    "nombre_sain          2228\n",
    "nombre_exposed         34\n",
    "nombre_recovered    17669\n",
    "Name: 98, dtype: int64"
   ]
  },
  {
   "cell_type": "markdown",
   "id": "657d1f17",
   "metadata": {},
   "source": [
    "nombre_infected        62\n",
    "nombre_sain          2276\n",
    "nombre_exposed         33\n",
    "nombre_recovered    17629\n",
    "Name: 99, dtype: int64"
   ]
  },
  {
   "cell_type": "markdown",
   "id": "2fba340f",
   "metadata": {},
   "source": [
    "nombre_infected        67\n",
    "nombre_sain          2322\n",
    "nombre_exposed         33\n",
    "nombre_recovered    17578\n",
    "Name: 100, dtype: int64"
   ]
  },
  {
   "cell_type": "markdown",
   "id": "b9a350f5",
   "metadata": {},
   "source": [
    "nombre_infected        71\n",
    "nombre_sain          2385\n",
    "nombre_exposed         34\n",
    "nombre_recovered    17510\n",
    "Name: 101, dtype: int64"
   ]
  },
  {
   "cell_type": "markdown",
   "id": "0d7d171b",
   "metadata": {},
   "source": [
    "nombre_infected        68\n",
    "nombre_sain          2441\n",
    "nombre_exposed         37\n",
    "nombre_recovered    17454\n",
    "Name: 102, dtype: int64"
   ]
  },
  {
   "cell_type": "markdown",
   "id": "136f670f",
   "metadata": {},
   "source": [
    "nombre_infected        69\n",
    "nombre_sain          2524\n",
    "nombre_exposed         33\n",
    "nombre_recovered    17374\n",
    "Name: 103, dtype: int64"
   ]
  },
  {
   "cell_type": "markdown",
   "id": "9e18ad4b",
   "metadata": {},
   "source": [
    "nombre_infected        70\n",
    "nombre_sain          2572\n",
    "nombre_exposed         35\n",
    "nombre_recovered    17323\n",
    "Name: 104, dtype: int64"
   ]
  },
  {
   "cell_type": "markdown",
   "id": "d79b5cd6",
   "metadata": {},
   "source": [
    "nombre_infected        67\n",
    "nombre_sain          2620\n",
    "nombre_exposed         44\n",
    "nombre_recovered    17269\n",
    "Name: 105, dtype: int64"
   ]
  },
  {
   "cell_type": "markdown",
   "id": "dbb6e726",
   "metadata": {},
   "source": [
    "nombre_infected        67\n",
    "nombre_sain          2669\n",
    "nombre_exposed         40\n",
    "nombre_recovered    17224\n",
    "Name: 106, dtype: int64"
   ]
  },
  {
   "cell_type": "markdown",
   "id": "59a9378c",
   "metadata": {},
   "source": [
    "nombre_infected        68\n",
    "nombre_sain          2719\n",
    "nombre_exposed         44\n",
    "nombre_recovered    17169\n",
    "Name: 107, dtype: int64"
   ]
  },
  {
   "cell_type": "markdown",
   "id": "839c7b57",
   "metadata": {},
   "source": [
    "nombre_infected        64\n",
    "nombre_sain          2782\n",
    "nombre_exposed         48\n",
    "nombre_recovered    17106\n",
    "Name: 108, dtype: int64"
   ]
  },
  {
   "cell_type": "markdown",
   "id": "e8145bcd",
   "metadata": {},
   "source": [
    "nombre_infected        67\n",
    "nombre_sain          2838\n",
    "nombre_exposed         43\n",
    "nombre_recovered    17052\n",
    "Name: 109, dtype: int64"
   ]
  },
  {
   "cell_type": "markdown",
   "id": "5bc121ea",
   "metadata": {},
   "source": [
    "nombre_infected        68\n",
    "nombre_sain          2920\n",
    "nombre_exposed         45\n",
    "nombre_recovered    16967\n",
    "Name: 110, dtype: int64"
   ]
  },
  {
   "cell_type": "markdown",
   "id": "88a6264f",
   "metadata": {},
   "source": [
    "nombre_infected        76\n",
    "nombre_sain          2975\n",
    "nombre_exposed         44\n",
    "nombre_recovered    16905\n",
    "Name: 111, dtype: int64"
   ]
  },
  {
   "cell_type": "markdown",
   "id": "e37cdbac",
   "metadata": {},
   "source": [
    "nombre_infected        76\n",
    "nombre_sain          3030\n",
    "nombre_exposed         46\n",
    "nombre_recovered    16848\n",
    "Name: 112, dtype: int64"
   ]
  },
  {
   "cell_type": "markdown",
   "id": "4c317f17",
   "metadata": {},
   "source": [
    "nombre_infected        72\n",
    "nombre_sain          3096\n",
    "nombre_exposed         62\n",
    "nombre_recovered    16770\n",
    "Name: 113, dtype: int64"
   ]
  },
  {
   "cell_type": "markdown",
   "id": "bc2c38b6",
   "metadata": {},
   "source": [
    "nombre_infected        75\n",
    "nombre_sain          3122\n",
    "nombre_exposed         67\n",
    "nombre_recovered    16736\n",
    "Name: 114, dtype: int64"
   ]
  },
  {
   "cell_type": "markdown",
   "id": "d1336686",
   "metadata": {},
   "source": [
    "nombre_infected        77\n",
    "nombre_sain          3180\n",
    "nombre_exposed         64\n",
    "nombre_recovered    16679\n",
    "Name: 115, dtype: int64"
   ]
  },
  {
   "cell_type": "markdown",
   "id": "6a5fc12f",
   "metadata": {},
   "source": [
    "nombre_infected        83\n",
    "nombre_sain          3230\n",
    "nombre_exposed         57\n",
    "nombre_recovered    16630\n",
    "Name: 116, dtype: int64"
   ]
  },
  {
   "cell_type": "markdown",
   "id": "965a9d88",
   "metadata": {},
   "source": [
    "nombre_infected        84\n",
    "nombre_sain          3285\n",
    "nombre_exposed         59\n",
    "nombre_recovered    16572\n",
    "Name: 117, dtype: int64"
   ]
  },
  {
   "cell_type": "markdown",
   "id": "bc6b18ea",
   "metadata": {},
   "source": [
    "nombre_infected        82\n",
    "nombre_sain          3336\n",
    "nombre_exposed         52\n",
    "nombre_recovered    16530\n",
    "Name: 118, dtype: int64"
   ]
  },
  {
   "cell_type": "markdown",
   "id": "f0e90d5b",
   "metadata": {},
   "source": [
    "nombre_infected        82\n",
    "nombre_sain          3387\n",
    "nombre_exposed         48\n",
    "nombre_recovered    16483\n",
    "Name: 119, dtype: int64"
   ]
  },
  {
   "cell_type": "markdown",
   "id": "4e41a9fe",
   "metadata": {},
   "source": [
    "nombre_infected        71\n",
    "nombre_sain          3425\n",
    "nombre_exposed         66\n",
    "nombre_recovered    16438\n",
    "Name: 120, dtype: int64"
   ]
  },
  {
   "cell_type": "markdown",
   "id": "2ca982ff",
   "metadata": {},
   "source": [
    "nombre_infected        72\n",
    "nombre_sain          3454\n",
    "nombre_exposed         69\n",
    "nombre_recovered    16405\n",
    "Name: 121, dtype: int64"
   ]
  },
  {
   "cell_type": "markdown",
   "id": "84ad2604",
   "metadata": {},
   "source": [
    "nombre_infected        69\n",
    "nombre_sain          3475\n",
    "nombre_exposed         72\n",
    "nombre_recovered    16384\n",
    "Name: 122, dtype: int64"
   ]
  },
  {
   "cell_type": "markdown",
   "id": "abccee6e",
   "metadata": {},
   "source": [
    "nombre_infected        77\n",
    "nombre_sain          3507\n",
    "nombre_exposed         65\n",
    "nombre_recovered    16351\n",
    "Name: 123, dtype: int64"
   ]
  },
  {
   "cell_type": "markdown",
   "id": "5fcb65aa",
   "metadata": {},
   "source": [
    "nombre_infected        85\n",
    "nombre_sain          3528\n",
    "nombre_exposed         64\n",
    "nombre_recovered    16323\n",
    "Name: 124, dtype: int64"
   ]
  },
  {
   "cell_type": "markdown",
   "id": "7a109c64",
   "metadata": {},
   "source": [
    "nombre_infected        87\n",
    "nombre_sain          3533\n",
    "nombre_exposed         63\n",
    "nombre_recovered    16317\n",
    "Name: 125, dtype: int64"
   ]
  },
  {
   "cell_type": "markdown",
   "id": "bd481b38",
   "metadata": {},
   "source": [
    "nombre_infected        91\n",
    "nombre_sain          3550\n",
    "nombre_exposed         57\n",
    "nombre_recovered    16302\n",
    "Name: 126, dtype: int64"
   ]
  },
  {
   "cell_type": "markdown",
   "id": "da77e69d",
   "metadata": {},
   "source": [
    "nombre_infected        92\n",
    "nombre_sain          3571\n",
    "nombre_exposed         59\n",
    "nombre_recovered    16278\n",
    "Name: 127, dtype: int64"
   ]
  },
  {
   "cell_type": "markdown",
   "id": "fa76131d",
   "metadata": {},
   "source": [
    "nombre_infected        90\n",
    "nombre_sain          3596\n",
    "nombre_exposed         63\n",
    "nombre_recovered    16251\n",
    "Name: 128, dtype: int64"
   ]
  },
  {
   "cell_type": "markdown",
   "id": "d3b08f91",
   "metadata": {},
   "source": [
    "nombre_infected        90\n",
    "nombre_sain          3596\n",
    "nombre_exposed         71\n",
    "nombre_recovered    16243\n",
    "Name: 129, dtype: int64"
   ]
  },
  {
   "cell_type": "markdown",
   "id": "06a2dd7e",
   "metadata": {},
   "source": [
    "nombre_infected        84\n",
    "nombre_sain          3605\n",
    "nombre_exposed         78\n",
    "nombre_recovered    16233\n",
    "Name: 130, dtype: int64"
   ]
  },
  {
   "cell_type": "markdown",
   "id": "a820f853",
   "metadata": {},
   "source": [
    "nombre_infected        95\n",
    "nombre_sain          3608\n",
    "nombre_exposed         84\n",
    "nombre_recovered    16213\n",
    "Name: 131, dtype: int64"
   ]
  },
  {
   "cell_type": "markdown",
   "id": "45e59dd5",
   "metadata": {},
   "source": [
    "nombre_infected        96\n",
    "nombre_sain          3618\n",
    "nombre_exposed         88\n",
    "nombre_recovered    16198\n",
    "Name: 132, dtype: int64"
   ]
  },
  {
   "cell_type": "markdown",
   "id": "55a45544",
   "metadata": {},
   "source": [
    "nombre_infected        99\n",
    "nombre_sain          3642\n",
    "nombre_exposed         87\n",
    "nombre_recovered    16172\n",
    "Name: 133, dtype: int64"
   ]
  },
  {
   "cell_type": "markdown",
   "id": "7aeb0193",
   "metadata": {},
   "source": [
    "nombre_infected       106\n",
    "nombre_sain          3640\n",
    "nombre_exposed         98\n",
    "nombre_recovered    16156\n",
    "Name: 134, dtype: int64"
   ]
  },
  {
   "cell_type": "markdown",
   "id": "a690b271",
   "metadata": {},
   "source": [
    "nombre_infected       113\n",
    "nombre_sain          3673\n",
    "nombre_exposed        102\n",
    "nombre_recovered    16112\n",
    "Name: 135, dtype: int64"
   ]
  },
  {
   "cell_type": "markdown",
   "id": "1b740677",
   "metadata": {},
   "source": [
    "nombre_infected       126\n",
    "nombre_sain          3685\n",
    "nombre_exposed        108\n",
    "nombre_recovered    16081\n",
    "Name: 136, dtype: int64"
   ]
  },
  {
   "cell_type": "markdown",
   "id": "a456cd9c",
   "metadata": {},
   "source": [
    "nombre_infected       135\n",
    "nombre_sain          3703\n",
    "nombre_exposed        119\n",
    "nombre_recovered    16043\n",
    "Name: 137, dtype: int64"
   ]
  },
  {
   "cell_type": "markdown",
   "id": "006eabbe",
   "metadata": {},
   "source": [
    "nombre_infected       145\n",
    "nombre_sain          3720\n",
    "nombre_exposed        122\n",
    "nombre_recovered    16013\n",
    "Name: 138, dtype: int64"
   ]
  },
  {
   "cell_type": "markdown",
   "id": "cf4ded68",
   "metadata": {},
   "source": [
    "nombre_infected       146\n",
    "nombre_sain          3734\n",
    "nombre_exposed        141\n",
    "nombre_recovered    15979\n",
    "Name: 139, dtype: int64"
   ]
  },
  {
   "cell_type": "markdown",
   "id": "ff1bc8e7",
   "metadata": {},
   "source": [
    "nombre_infected       159\n",
    "nombre_sain          3769\n",
    "nombre_exposed        141\n",
    "nombre_recovered    15931\n",
    "Name: 140, dtype: int64"
   ]
  },
  {
   "cell_type": "markdown",
   "id": "75d3ae14",
   "metadata": {},
   "source": [
    "nombre_infected       171\n",
    "nombre_sain          3797\n",
    "nombre_exposed        149\n",
    "nombre_recovered    15883\n",
    "Name: 141, dtype: int64"
   ]
  },
  {
   "cell_type": "markdown",
   "id": "eed2d4be",
   "metadata": {},
   "source": [
    "nombre_infected       193\n",
    "nombre_sain          3824\n",
    "nombre_exposed        143\n",
    "nombre_recovered    15840\n",
    "Name: 142, dtype: int64"
   ]
  },
  {
   "cell_type": "markdown",
   "id": "d284d57a",
   "metadata": {},
   "source": [
    "nombre_infected       197\n",
    "nombre_sain          3840\n",
    "nombre_exposed        155\n",
    "nombre_recovered    15808\n",
    "Name: 143, dtype: int64"
   ]
  },
  {
   "cell_type": "markdown",
   "id": "08061c2e",
   "metadata": {},
   "source": [
    "nombre_infected       214\n",
    "nombre_sain          3850\n",
    "nombre_exposed        171\n",
    "nombre_recovered    15765\n",
    "Name: 144, dtype: int64"
   ]
  },
  {
   "cell_type": "markdown",
   "id": "5a7020df",
   "metadata": {},
   "source": [
    "nombre_infected       217\n",
    "nombre_sain          3859\n",
    "nombre_exposed        203\n",
    "nombre_recovered    15721\n",
    "Name: 145, dtype: int64"
   ]
  },
  {
   "cell_type": "markdown",
   "id": "e02f6d85",
   "metadata": {},
   "source": [
    "nombre_infected       221\n",
    "nombre_sain          3891\n",
    "nombre_exposed        211\n",
    "nombre_recovered    15677\n",
    "Name: 146, dtype: int64"
   ]
  },
  {
   "cell_type": "markdown",
   "id": "7d606889",
   "metadata": {},
   "source": [
    "nombre_infected       228\n",
    "nombre_sain          3899\n",
    "nombre_exposed        222\n",
    "nombre_recovered    15651\n",
    "Name: 147, dtype: int64"
   ]
  },
  {
   "cell_type": "markdown",
   "id": "eb6265aa",
   "metadata": {},
   "source": [
    "nombre_infected       244\n",
    "nombre_sain          3911\n",
    "nombre_exposed        225\n",
    "nombre_recovered    15620\n",
    "Name: 148, dtype: int64"
   ]
  },
  {
   "cell_type": "markdown",
   "id": "2ef820c6",
   "metadata": {},
   "source": [
    "nombre_infected       263\n",
    "nombre_sain          3928\n",
    "nombre_exposed        232\n",
    "nombre_recovered    15577\n",
    "Name: 149, dtype: int64"
   ]
  },
  {
   "cell_type": "markdown",
   "id": "a0f1f852",
   "metadata": {},
   "source": [
    "nombre_infected       283\n",
    "nombre_sain          3925\n",
    "nombre_exposed        264\n",
    "nombre_recovered    15528\n",
    "Name: 150, dtype: int64"
   ]
  },
  {
   "cell_type": "markdown",
   "id": "44e7ff67",
   "metadata": {},
   "source": [
    "nombre_infected       300\n",
    "nombre_sain          3910\n",
    "nombre_exposed        291\n",
    "nombre_recovered    15499\n",
    "Name: 151, dtype: int64"
   ]
  },
  {
   "cell_type": "markdown",
   "id": "520c015c",
   "metadata": {},
   "source": [
    "nombre_infected       330\n",
    "nombre_sain          3893\n",
    "nombre_exposed        305\n",
    "nombre_recovered    15472\n",
    "Name: 152, dtype: int64"
   ]
  },
  {
   "cell_type": "markdown",
   "id": "d495bcc9",
   "metadata": {},
   "source": [
    "nombre_infected       348\n",
    "nombre_sain          3895\n",
    "nombre_exposed        331\n",
    "nombre_recovered    15426\n",
    "Name: 153, dtype: int64"
   ]
  },
  {
   "cell_type": "markdown",
   "id": "1724ddec",
   "metadata": {},
   "source": [
    "nombre_infected       379\n",
    "nombre_sain          3855\n",
    "nombre_exposed        352\n",
    "nombre_recovered    15414\n",
    "Name: 154, dtype: int64"
   ]
  },
  {
   "cell_type": "markdown",
   "id": "168758e1",
   "metadata": {},
   "source": [
    "nombre_infected       412\n",
    "nombre_sain          3831\n",
    "nombre_exposed        367\n",
    "nombre_recovered    15390\n",
    "Name: 155, dtype: int64"
   ]
  },
  {
   "cell_type": "markdown",
   "id": "b861f7d8",
   "metadata": {},
   "source": [
    "nombre_infected       438\n",
    "nombre_sain          3799\n",
    "nombre_exposed        386\n",
    "nombre_recovered    15377\n",
    "Name: 156, dtype: int64"
   ]
  },
  {
   "cell_type": "markdown",
   "id": "33dda01c",
   "metadata": {},
   "source": [
    "nombre_infected       461\n",
    "nombre_sain          3758\n",
    "nombre_exposed        396\n",
    "nombre_recovered    15385\n",
    "Name: 157, dtype: int64"
   ]
  },
  {
   "cell_type": "markdown",
   "id": "3089655e",
   "metadata": {},
   "source": [
    "nombre_infected       473\n",
    "nombre_sain          3710\n",
    "nombre_exposed        418\n",
    "nombre_recovered    15399\n",
    "Name: 158, dtype: int64"
   ]
  },
  {
   "cell_type": "markdown",
   "id": "3bc16f8a",
   "metadata": {},
   "source": [
    "nombre_infected       508\n",
    "nombre_sain          3651\n",
    "nombre_exposed        444\n",
    "nombre_recovered    15397\n",
    "Name: 159, dtype: int64"
   ]
  },
  {
   "cell_type": "markdown",
   "id": "3083fa41",
   "metadata": {},
   "source": [
    "nombre_infected       538\n",
    "nombre_sain          3586\n",
    "nombre_exposed        471\n",
    "nombre_recovered    15405\n",
    "Name: 160, dtype: int64"
   ]
  },
  {
   "cell_type": "markdown",
   "id": "70fe38e4",
   "metadata": {},
   "source": [
    "nombre_infected       565\n",
    "nombre_sain          3528\n",
    "nombre_exposed        483\n",
    "nombre_recovered    15424\n",
    "Name: 161, dtype: int64"
   ]
  },
  {
   "cell_type": "markdown",
   "id": "647056ce",
   "metadata": {},
   "source": [
    "nombre_infected       595\n",
    "nombre_sain          3452\n",
    "nombre_exposed        496\n",
    "nombre_recovered    15457\n",
    "Name: 162, dtype: int64"
   ]
  },
  {
   "cell_type": "markdown",
   "id": "4f95f3ea",
   "metadata": {},
   "source": [
    "nombre_infected       612\n",
    "nombre_sain          3396\n",
    "nombre_exposed        517\n",
    "nombre_recovered    15475\n",
    "Name: 163, dtype: int64"
   ]
  },
  {
   "cell_type": "markdown",
   "id": "0d14ff48",
   "metadata": {},
   "source": [
    "nombre_infected       661\n",
    "nombre_sain          3311\n",
    "nombre_exposed        538\n",
    "nombre_recovered    15490\n",
    "Name: 164, dtype: int64"
   ]
  },
  {
   "cell_type": "markdown",
   "id": "ee6bf974",
   "metadata": {},
   "source": [
    "nombre_infected       696\n",
    "nombre_sain          3230\n",
    "nombre_exposed        562\n",
    "nombre_recovered    15512\n",
    "Name: 165, dtype: int64"
   ]
  },
  {
   "cell_type": "markdown",
   "id": "a34d0c3b",
   "metadata": {},
   "source": [
    "nombre_infected       725\n",
    "nombre_sain          3203\n",
    "nombre_exposed        544\n",
    "nombre_recovered    15528\n",
    "Name: 166, dtype: int64"
   ]
  },
  {
   "cell_type": "markdown",
   "id": "dace5efd",
   "metadata": {},
   "source": [
    "nombre_infected       771\n",
    "nombre_sain          3166\n",
    "nombre_exposed        542\n",
    "nombre_recovered    15521\n",
    "Name: 167, dtype: int64"
   ]
  },
  {
   "cell_type": "markdown",
   "id": "516d02e8",
   "metadata": {},
   "source": [
    "nombre_infected       764\n",
    "nombre_sain          3088\n",
    "nombre_exposed        584\n",
    "nombre_recovered    15564\n",
    "Name: 168, dtype: int64"
   ]
  },
  {
   "cell_type": "markdown",
   "id": "1c8a857b",
   "metadata": {},
   "source": [
    "nombre_infected       770\n",
    "nombre_sain          3027\n",
    "nombre_exposed        591\n",
    "nombre_recovered    15612\n",
    "Name: 169, dtype: int64"
   ]
  },
  {
   "cell_type": "markdown",
   "id": "8456df09",
   "metadata": {},
   "source": [
    "nombre_infected       789\n",
    "nombre_sain          3003\n",
    "nombre_exposed        570\n",
    "nombre_recovered    15638\n",
    "Name: 170, dtype: int64"
   ]
  },
  {
   "cell_type": "markdown",
   "id": "4519a827",
   "metadata": {},
   "source": [
    "nombre_infected       828\n",
    "nombre_sain          2920\n",
    "nombre_exposed        595\n",
    "nombre_recovered    15657\n",
    "Name: 171, dtype: int64"
   ]
  },
  {
   "cell_type": "markdown",
   "id": "a36fe85a",
   "metadata": {},
   "source": [
    "nombre_infected       828\n",
    "nombre_sain          2845\n",
    "nombre_exposed        616\n",
    "nombre_recovered    15711\n",
    "Name: 172, dtype: int64"
   ]
  },
  {
   "cell_type": "markdown",
   "id": "6509aa2a",
   "metadata": {},
   "source": [
    "nombre_infected       877\n",
    "nombre_sain          2773\n",
    "nombre_exposed        615\n",
    "nombre_recovered    15735\n",
    "Name: 173, dtype: int64"
   ]
  },
  {
   "cell_type": "markdown",
   "id": "7dd10cb2",
   "metadata": {},
   "source": [
    "nombre_infected       900\n",
    "nombre_sain          2709\n",
    "nombre_exposed        629\n",
    "nombre_recovered    15762\n",
    "Name: 174, dtype: int64"
   ]
  },
  {
   "cell_type": "markdown",
   "id": "530e7b00",
   "metadata": {},
   "source": [
    "nombre_infected       919\n",
    "nombre_sain          2632\n",
    "nombre_exposed        643\n",
    "nombre_recovered    15806\n",
    "Name: 175, dtype: int64"
   ]
  },
  {
   "cell_type": "markdown",
   "id": "1f50d469",
   "metadata": {},
   "source": [
    "nombre_infected       950\n",
    "nombre_sain          2557\n",
    "nombre_exposed        648\n",
    "nombre_recovered    15845\n",
    "Name: 176, dtype: int64"
   ]
  },
  {
   "cell_type": "markdown",
   "id": "d89d554a",
   "metadata": {},
   "source": [
    "nombre_infected       969\n",
    "nombre_sain          2475\n",
    "nombre_exposed        666\n",
    "nombre_recovered    15890\n",
    "Name: 177, dtype: int64"
   ]
  },
  {
   "cell_type": "markdown",
   "id": "62d426cb",
   "metadata": {},
   "source": [
    "nombre_infected      1019\n",
    "nombre_sain          2386\n",
    "nombre_exposed        656\n",
    "nombre_recovered    15939\n",
    "Name: 178, dtype: int64"
   ]
  },
  {
   "cell_type": "markdown",
   "id": "10c2c718",
   "metadata": {},
   "source": [
    "nombre_infected      1046\n",
    "nombre_sain          2299\n",
    "nombre_exposed        647\n",
    "nombre_recovered    16008\n",
    "Name: 179, dtype: int64"
   ]
  },
  {
   "cell_type": "markdown",
   "id": "17324f01",
   "metadata": {},
   "source": [
    "nombre_infected      1085\n",
    "nombre_sain          2218\n",
    "nombre_exposed        642\n",
    "nombre_recovered    16055\n",
    "Name: 180, dtype: int64"
   ]
  },
  {
   "cell_type": "markdown",
   "id": "d2abd6a3",
   "metadata": {},
   "source": [
    "nombre_infected      1096\n",
    "nombre_sain          2136\n",
    "nombre_exposed        649\n",
    "nombre_recovered    16119\n",
    "Name: 181, dtype: int64"
   ]
  },
  {
   "cell_type": "markdown",
   "id": "e4cb9c53",
   "metadata": {},
   "source": [
    "nombre_infected      1096\n",
    "nombre_sain          2053\n",
    "nombre_exposed        650\n",
    "nombre_recovered    16201\n",
    "Name: 182, dtype: int64"
   ]
  },
  {
   "cell_type": "markdown",
   "id": "abd30ff0",
   "metadata": {},
   "source": [
    "nombre_infected      1124\n",
    "nombre_sain          1981\n",
    "nombre_exposed        630\n",
    "nombre_recovered    16265\n",
    "Name: 183, dtype: int64"
   ]
  },
  {
   "cell_type": "markdown",
   "id": "0def8d89",
   "metadata": {},
   "source": [
    "nombre_infected      1136\n",
    "nombre_sain          1928\n",
    "nombre_exposed        592\n",
    "nombre_recovered    16344\n",
    "Name: 184, dtype: int64"
   ]
  },
  {
   "cell_type": "markdown",
   "id": "98ece56d",
   "metadata": {},
   "source": [
    "nombre_infected      1161\n",
    "nombre_sain          1871\n",
    "nombre_exposed        572\n",
    "nombre_recovered    16396\n",
    "Name: 185, dtype: int64"
   ]
  },
  {
   "cell_type": "markdown",
   "id": "1cecedf5",
   "metadata": {},
   "source": [
    "nombre_infected      1157\n",
    "nombre_sain          1813\n",
    "nombre_exposed        545\n",
    "nombre_recovered    16485\n",
    "Name: 186, dtype: int64"
   ]
  },
  {
   "cell_type": "markdown",
   "id": "c5f89e12",
   "metadata": {},
   "source": [
    "nombre_infected      1148\n",
    "nombre_sain          1743\n",
    "nombre_exposed        539\n",
    "nombre_recovered    16570\n",
    "Name: 187, dtype: int64"
   ]
  },
  {
   "cell_type": "markdown",
   "id": "b13941e3",
   "metadata": {},
   "source": [
    "nombre_infected      1145\n",
    "nombre_sain          1707\n",
    "nombre_exposed        514\n",
    "nombre_recovered    16634\n",
    "Name: 188, dtype: int64"
   ]
  },
  {
   "cell_type": "markdown",
   "id": "cfa0b60c",
   "metadata": {},
   "source": [
    "nombre_infected      1134\n",
    "nombre_sain          1671\n",
    "nombre_exposed        496\n",
    "nombre_recovered    16699\n",
    "Name: 189, dtype: int64"
   ]
  },
  {
   "cell_type": "markdown",
   "id": "dad0e0ad",
   "metadata": {},
   "source": [
    "nombre_infected      1100\n",
    "nombre_sain          1642\n",
    "nombre_exposed        490\n",
    "nombre_recovered    16768\n",
    "Name: 190, dtype: int64"
   ]
  },
  {
   "cell_type": "markdown",
   "id": "e2fb3128",
   "metadata": {},
   "source": [
    "nombre_infected      1074\n",
    "nombre_sain          1613\n",
    "nombre_exposed        487\n",
    "nombre_recovered    16826\n",
    "Name: 191, dtype: int64"
   ]
  },
  {
   "cell_type": "markdown",
   "id": "5f4b79d1",
   "metadata": {},
   "source": [
    "nombre_infected      1070\n",
    "nombre_sain          1600\n",
    "nombre_exposed        478\n",
    "nombre_recovered    16852\n",
    "Name: 192, dtype: int64"
   ]
  },
  {
   "cell_type": "markdown",
   "id": "62b608ba",
   "metadata": {},
   "source": [
    "nombre_infected      1073\n",
    "nombre_sain          1614\n",
    "nombre_exposed        438\n",
    "nombre_recovered    16875\n",
    "Name: 193, dtype: int64"
   ]
  },
  {
   "cell_type": "markdown",
   "id": "d5dfb8a2",
   "metadata": {},
   "source": [
    "nombre_infected      1073\n",
    "nombre_sain          1608\n",
    "nombre_exposed        432\n",
    "nombre_recovered    16887\n",
    "Name: 194, dtype: int64"
   ]
  },
  {
   "cell_type": "markdown",
   "id": "619b76d9",
   "metadata": {},
   "source": [
    "nombre_infected      1045\n",
    "nombre_sain          1591\n",
    "nombre_exposed        423\n",
    "nombre_recovered    16941\n",
    "Name: 195, dtype: int64"
   ]
  },
  {
   "cell_type": "markdown",
   "id": "a3ef05b5",
   "metadata": {},
   "source": [
    "nombre_infected       994\n",
    "nombre_sain          1595\n",
    "nombre_exposed        421\n",
    "nombre_recovered    16990\n",
    "Name: 196, dtype: int64"
   ]
  },
  {
   "cell_type": "markdown",
   "id": "7e07923d",
   "metadata": {},
   "source": [
    "nombre_infected       971\n",
    "nombre_sain          1578\n",
    "nombre_exposed        404\n",
    "nombre_recovered    17047\n",
    "Name: 197, dtype: int64"
   ]
  },
  {
   "cell_type": "markdown",
   "id": "72de5495",
   "metadata": {},
   "source": [
    "nombre_infected       951\n",
    "nombre_sain          1608\n",
    "nombre_exposed        394\n",
    "nombre_recovered    17047\n",
    "Name: 198, dtype: int64"
   ]
  },
  {
   "cell_type": "markdown",
   "id": "200ecc1c",
   "metadata": {},
   "source": [
    "nombre_infected       911\n",
    "nombre_sain          1651\n",
    "nombre_exposed        383\n",
    "nombre_recovered    17055\n",
    "Name: 199, dtype: int64"
   ]
  },
  {
   "cell_type": "markdown",
   "id": "7fad5c97",
   "metadata": {},
   "source": [
    "nombre_infected       868\n",
    "nombre_sain          1636\n",
    "nombre_exposed        396\n",
    "nombre_recovered    17100\n",
    "Name: 200, dtype: int64"
   ]
  },
  {
   "cell_type": "markdown",
   "id": "0b56baaa",
   "metadata": {},
   "source": [
    "nombre_infected       835\n",
    "nombre_sain          1645\n",
    "nombre_exposed        408\n",
    "nombre_recovered    17112\n",
    "Name: 201, dtype: int64"
   ]
  },
  {
   "cell_type": "markdown",
   "id": "3ef3f4bb",
   "metadata": {},
   "source": [
    "nombre_infected       854\n",
    "nombre_sain          1668\n",
    "nombre_exposed        385\n",
    "nombre_recovered    17093\n",
    "Name: 202, dtype: int64"
   ]
  },
  {
   "cell_type": "markdown",
   "id": "6d72377d",
   "metadata": {},
   "source": [
    "nombre_infected       848\n",
    "nombre_sain          1662\n",
    "nombre_exposed        375\n",
    "nombre_recovered    17115\n",
    "Name: 203, dtype: int64"
   ]
  },
  {
   "cell_type": "markdown",
   "id": "2c9b6bd2",
   "metadata": {},
   "source": [
    "nombre_infected       863\n",
    "nombre_sain          1691\n",
    "nombre_exposed        361\n",
    "nombre_recovered    17085\n",
    "Name: 204, dtype: int64"
   ]
  },
  {
   "cell_type": "markdown",
   "id": "4e4896dc",
   "metadata": {},
   "source": [
    "nombre_infected       836\n",
    "nombre_sain          1678\n",
    "nombre_exposed        397\n",
    "nombre_recovered    17089\n",
    "Name: 205, dtype: int64"
   ]
  },
  {
   "cell_type": "markdown",
   "id": "a8553af3",
   "metadata": {},
   "source": [
    "nombre_infected       818\n",
    "nombre_sain          1683\n",
    "nombre_exposed        404\n",
    "nombre_recovered    17095\n",
    "Name: 206, dtype: int64"
   ]
  },
  {
   "cell_type": "markdown",
   "id": "2054747b",
   "metadata": {},
   "source": [
    "nombre_infected       823\n",
    "nombre_sain          1697\n",
    "nombre_exposed        392\n",
    "nombre_recovered    17088\n",
    "Name: 207, dtype: int64"
   ]
  },
  {
   "cell_type": "markdown",
   "id": "6896f414",
   "metadata": {},
   "source": [
    "nombre_infected       815\n",
    "nombre_sain          1719\n",
    "nombre_exposed        372\n",
    "nombre_recovered    17094\n",
    "Name: 208, dtype: int64"
   ]
  },
  {
   "cell_type": "markdown",
   "id": "19689ff1",
   "metadata": {},
   "source": [
    "nombre_infected       828\n",
    "nombre_sain          1729\n",
    "nombre_exposed        362\n",
    "nombre_recovered    17081\n",
    "Name: 209, dtype: int64"
   ]
  },
  {
   "cell_type": "markdown",
   "id": "1d74ed80",
   "metadata": {},
   "source": [
    "nombre_infected       807\n",
    "nombre_sain          1772\n",
    "nombre_exposed        371\n",
    "nombre_recovered    17050\n",
    "Name: 210, dtype: int64"
   ]
  },
  {
   "cell_type": "markdown",
   "id": "5c1a0425",
   "metadata": {},
   "source": [
    "nombre_infected       781\n",
    "nombre_sain          1761\n",
    "nombre_exposed        387\n",
    "nombre_recovered    17071\n",
    "Name: 211, dtype: int64"
   ]
  },
  {
   "cell_type": "markdown",
   "id": "9f955689",
   "metadata": {},
   "source": [
    "nombre_infected       752\n",
    "nombre_sain          1775\n",
    "nombre_exposed        384\n",
    "nombre_recovered    17089\n",
    "Name: 212, dtype: int64"
   ]
  },
  {
   "cell_type": "markdown",
   "id": "025a5af7",
   "metadata": {},
   "source": [
    "nombre_infected       733\n",
    "nombre_sain          1767\n",
    "nombre_exposed        399\n",
    "nombre_recovered    17101\n",
    "Name: 213, dtype: int64"
   ]
  },
  {
   "cell_type": "markdown",
   "id": "04f36fb1",
   "metadata": {},
   "source": [
    "nombre_infected       718\n",
    "nombre_sain          1790\n",
    "nombre_exposed        388\n",
    "nombre_recovered    17104\n",
    "Name: 214, dtype: int64"
   ]
  },
  {
   "cell_type": "markdown",
   "id": "68558d71",
   "metadata": {},
   "source": [
    "nombre_infected       731\n",
    "nombre_sain          1804\n",
    "nombre_exposed        369\n",
    "nombre_recovered    17096\n",
    "Name: 215, dtype: int64"
   ]
  },
  {
   "cell_type": "markdown",
   "id": "4c0f0340",
   "metadata": {},
   "source": [
    "nombre_infected       738\n",
    "nombre_sain          1799\n",
    "nombre_exposed        367\n",
    "nombre_recovered    17096\n",
    "Name: 216, dtype: int64"
   ]
  },
  {
   "cell_type": "markdown",
   "id": "a7fcd551",
   "metadata": {},
   "source": [
    "nombre_infected       744\n",
    "nombre_sain          1822\n",
    "nombre_exposed        351\n",
    "nombre_recovered    17083\n",
    "Name: 217, dtype: int64"
   ]
  },
  {
   "cell_type": "markdown",
   "id": "763c7376",
   "metadata": {},
   "source": [
    "nombre_infected       726\n",
    "nombre_sain          1832\n",
    "nombre_exposed        379\n",
    "nombre_recovered    17063\n",
    "Name: 218, dtype: int64"
   ]
  },
  {
   "cell_type": "markdown",
   "id": "a5d59f97",
   "metadata": {},
   "source": [
    "nombre_infected       719\n",
    "nombre_sain          1818\n",
    "nombre_exposed        393\n",
    "nombre_recovered    17070\n",
    "Name: 219, dtype: int64"
   ]
  },
  {
   "cell_type": "markdown",
   "id": "d9806ff6",
   "metadata": {},
   "source": [
    "nombre_infected       717\n",
    "nombre_sain          1846\n",
    "nombre_exposed        393\n",
    "nombre_recovered    17044\n",
    "Name: 220, dtype: int64"
   ]
  },
  {
   "cell_type": "markdown",
   "id": "1eed9f92",
   "metadata": {},
   "source": [
    "nombre_infected       742\n",
    "nombre_sain          1842\n",
    "nombre_exposed        388\n",
    "nombre_recovered    17028\n",
    "Name: 221, dtype: int64"
   ]
  },
  {
   "cell_type": "markdown",
   "id": "0326ec36",
   "metadata": {},
   "source": [
    "nombre_infected       721\n",
    "nombre_sain          1826\n",
    "nombre_exposed        415\n",
    "nombre_recovered    17038\n",
    "Name: 222, dtype: int64"
   ]
  },
  {
   "cell_type": "markdown",
   "id": "3db71048",
   "metadata": {},
   "source": [
    "nombre_infected       731\n",
    "nombre_sain          1830\n",
    "nombre_exposed        406\n",
    "nombre_recovered    17033\n",
    "Name: 223, dtype: int64"
   ]
  },
  {
   "cell_type": "markdown",
   "id": "d6035362",
   "metadata": {},
   "source": [
    "nombre_infected       746\n",
    "nombre_sain          1836\n",
    "nombre_exposed        397\n",
    "nombre_recovered    17021\n",
    "Name: 224, dtype: int64"
   ]
  },
  {
   "cell_type": "markdown",
   "id": "2d2cb62b",
   "metadata": {},
   "source": [
    "nombre_infected       754\n",
    "nombre_sain          1851\n",
    "nombre_exposed        370\n",
    "nombre_recovered    17025\n",
    "Name: 225, dtype: int64"
   ]
  },
  {
   "cell_type": "markdown",
   "id": "fa2417ab",
   "metadata": {},
   "source": [
    "nombre_infected       739\n",
    "nombre_sain          1853\n",
    "nombre_exposed        387\n",
    "nombre_recovered    17021\n",
    "Name: 226, dtype: int64"
   ]
  },
  {
   "cell_type": "markdown",
   "id": "4441fae5",
   "metadata": {},
   "source": [
    "nombre_infected       716\n",
    "nombre_sain          1845\n",
    "nombre_exposed        410\n",
    "nombre_recovered    17029\n",
    "Name: 227, dtype: int64"
   ]
  },
  {
   "cell_type": "markdown",
   "id": "b90af958",
   "metadata": {},
   "source": [
    "nombre_infected       727\n",
    "nombre_sain          1864\n",
    "nombre_exposed        376\n",
    "nombre_recovered    17033\n",
    "Name: 228, dtype: int64"
   ]
  },
  {
   "cell_type": "markdown",
   "id": "caa318d7",
   "metadata": {},
   "source": [
    "nombre_infected       755\n",
    "nombre_sain          1855\n",
    "nombre_exposed        377\n",
    "nombre_recovered    17013\n",
    "Name: 229, dtype: int64"
   ]
  },
  {
   "cell_type": "markdown",
   "id": "cba690f6",
   "metadata": {},
   "source": [
    "nombre_infected       741\n",
    "nombre_sain          1850\n",
    "nombre_exposed        381\n",
    "nombre_recovered    17028\n",
    "Name: 230, dtype: int64"
   ]
  },
  {
   "cell_type": "markdown",
   "id": "1c4c7d09",
   "metadata": {},
   "source": [
    "nombre_infected       752\n",
    "nombre_sain          1864\n",
    "nombre_exposed        363\n",
    "nombre_recovered    17021\n",
    "Name: 231, dtype: int64"
   ]
  },
  {
   "cell_type": "markdown",
   "id": "40f1c6a0",
   "metadata": {},
   "source": [
    "nombre_infected       744\n",
    "nombre_sain          1856\n",
    "nombre_exposed        363\n",
    "nombre_recovered    17037\n",
    "Name: 232, dtype: int64"
   ]
  },
  {
   "cell_type": "markdown",
   "id": "e2341ae8",
   "metadata": {},
   "source": [
    "nombre_infected       738\n",
    "nombre_sain          1876\n",
    "nombre_exposed        357\n",
    "nombre_recovered    17029\n",
    "Name: 233, dtype: int64"
   ]
  },
  {
   "cell_type": "markdown",
   "id": "0663f827",
   "metadata": {},
   "source": [
    "nombre_infected       733\n",
    "nombre_sain          1873\n",
    "nombre_exposed        366\n",
    "nombre_recovered    17028\n",
    "Name: 234, dtype: int64"
   ]
  },
  {
   "cell_type": "markdown",
   "id": "c07950a4",
   "metadata": {},
   "source": [
    "nombre_infected       707\n",
    "nombre_sain          1872\n",
    "nombre_exposed        367\n",
    "nombre_recovered    17054\n",
    "Name: 235, dtype: int64"
   ]
  },
  {
   "cell_type": "markdown",
   "id": "40abb4c9",
   "metadata": {},
   "source": [
    "nombre_infected       718\n",
    "nombre_sain          1864\n",
    "nombre_exposed        355\n",
    "nombre_recovered    17063\n",
    "Name: 236, dtype: int64"
   ]
  },
  {
   "cell_type": "markdown",
   "id": "df8323fd",
   "metadata": {},
   "source": [
    "nombre_infected       736\n",
    "nombre_sain          1879\n",
    "nombre_exposed        349\n",
    "nombre_recovered    17036\n",
    "Name: 237, dtype: int64"
   ]
  },
  {
   "cell_type": "markdown",
   "id": "5ce6865d",
   "metadata": {},
   "source": [
    "nombre_infected       731\n",
    "nombre_sain          1863\n",
    "nombre_exposed        345\n",
    "nombre_recovered    17061\n",
    "Name: 238, dtype: int64"
   ]
  },
  {
   "cell_type": "markdown",
   "id": "6a6f47f9",
   "metadata": {},
   "source": [
    "nombre_infected       727\n",
    "nombre_sain          1882\n",
    "nombre_exposed        329\n",
    "nombre_recovered    17062\n",
    "Name: 239, dtype: int64"
   ]
  },
  {
   "cell_type": "markdown",
   "id": "ec414cb5",
   "metadata": {},
   "source": [
    "nombre_infected       718\n",
    "nombre_sain          1888\n",
    "nombre_exposed        348\n",
    "nombre_recovered    17046\n",
    "Name: 240, dtype: int64"
   ]
  },
  {
   "cell_type": "markdown",
   "id": "c83bc893",
   "metadata": {},
   "source": [
    "nombre_infected       732\n",
    "nombre_sain          1912\n",
    "nombre_exposed        336\n",
    "nombre_recovered    17020\n",
    "Name: 241, dtype: int64"
   ]
  },
  {
   "cell_type": "markdown",
   "id": "02f80be7",
   "metadata": {},
   "source": [
    "nombre_infected       713\n",
    "nombre_sain          1910\n",
    "nombre_exposed        351\n",
    "nombre_recovered    17026\n",
    "Name: 242, dtype: int64"
   ]
  },
  {
   "cell_type": "markdown",
   "id": "025c28a6",
   "metadata": {},
   "source": [
    "nombre_infected       698\n",
    "nombre_sain          1911\n",
    "nombre_exposed        353\n",
    "nombre_recovered    17038\n",
    "Name: 243, dtype: int64"
   ]
  },
  {
   "cell_type": "markdown",
   "id": "f660ab18",
   "metadata": {},
   "source": [
    "nombre_infected       704\n",
    "nombre_sain          1912\n",
    "nombre_exposed        348\n",
    "nombre_recovered    17036\n",
    "Name: 244, dtype: int64"
   ]
  },
  {
   "cell_type": "markdown",
   "id": "0e53fc0a",
   "metadata": {},
   "source": [
    "nombre_infected       701\n",
    "nombre_sain          1914\n",
    "nombre_exposed        345\n",
    "nombre_recovered    17040\n",
    "Name: 245, dtype: int64"
   ]
  },
  {
   "cell_type": "markdown",
   "id": "fb6aba91",
   "metadata": {},
   "source": [
    "nombre_infected       704\n",
    "nombre_sain          1921\n",
    "nombre_exposed        329\n",
    "nombre_recovered    17046\n",
    "Name: 246, dtype: int64"
   ]
  },
  {
   "cell_type": "markdown",
   "id": "8eceb723",
   "metadata": {},
   "source": [
    "nombre_infected       696\n",
    "nombre_sain          1946\n",
    "nombre_exposed        324\n",
    "nombre_recovered    17034\n",
    "Name: 247, dtype: int64"
   ]
  },
  {
   "cell_type": "markdown",
   "id": "7e4f5e20",
   "metadata": {},
   "source": [
    "nombre_infected       695\n",
    "nombre_sain          1961\n",
    "nombre_exposed        322\n",
    "nombre_recovered    17022\n",
    "Name: 248, dtype: int64"
   ]
  },
  {
   "cell_type": "markdown",
   "id": "ccad64f2",
   "metadata": {},
   "source": [
    "nombre_infected       678\n",
    "nombre_sain          1968\n",
    "nombre_exposed        333\n",
    "nombre_recovered    17021\n",
    "Name: 249, dtype: int64"
   ]
  },
  {
   "cell_type": "markdown",
   "id": "48cc622a",
   "metadata": {},
   "source": [
    "nombre_infected       674\n",
    "nombre_sain          2011\n",
    "nombre_exposed        316\n",
    "nombre_recovered    16999\n",
    "Name: 250, dtype: int64"
   ]
  },
  {
   "cell_type": "markdown",
   "id": "c911eb7f",
   "metadata": {},
   "source": [
    "nombre_infected       669\n",
    "nombre_sain          2033\n",
    "nombre_exposed        319\n",
    "nombre_recovered    16979\n",
    "Name: 251, dtype: int64"
   ]
  },
  {
   "cell_type": "markdown",
   "id": "2b583803",
   "metadata": {},
   "source": [
    "nombre_infected       672\n",
    "nombre_sain          2044\n",
    "nombre_exposed        324\n",
    "nombre_recovered    16960\n",
    "Name: 252, dtype: int64"
   ]
  },
  {
   "cell_type": "markdown",
   "id": "7e9c70f6",
   "metadata": {},
   "source": [
    "nombre_infected       677\n",
    "nombre_sain          2047\n",
    "nombre_exposed        336\n",
    "nombre_recovered    16940\n",
    "Name: 253, dtype: int64"
   ]
  },
  {
   "cell_type": "markdown",
   "id": "7a76d0d3",
   "metadata": {},
   "source": [
    "nombre_infected       674\n",
    "nombre_sain          2069\n",
    "nombre_exposed        335\n",
    "nombre_recovered    16922\n",
    "Name: 254, dtype: int64"
   ]
  },
  {
   "cell_type": "markdown",
   "id": "347859ca",
   "metadata": {},
   "source": [
    "nombre_infected       684\n",
    "nombre_sain          2084\n",
    "nombre_exposed        313\n",
    "nombre_recovered    16919\n",
    "Name: 255, dtype: int64"
   ]
  },
  {
   "cell_type": "markdown",
   "id": "1909129d",
   "metadata": {},
   "source": [
    "nombre_infected       674\n",
    "nombre_sain          2075\n",
    "nombre_exposed        313\n",
    "nombre_recovered    16938\n",
    "Name: 256, dtype: int64"
   ]
  },
  {
   "cell_type": "markdown",
   "id": "fc5c4c69",
   "metadata": {},
   "source": [
    "nombre_infected       662\n",
    "nombre_sain          2067\n",
    "nombre_exposed        339\n",
    "nombre_recovered    16932\n",
    "Name: 257, dtype: int64"
   ]
  },
  {
   "cell_type": "markdown",
   "id": "9c6546d8",
   "metadata": {},
   "source": [
    "nombre_infected       666\n",
    "nombre_sain          2055\n",
    "nombre_exposed        337\n",
    "nombre_recovered    16942\n",
    "Name: 258, dtype: int64"
   ]
  },
  {
   "cell_type": "markdown",
   "id": "ea2726bf",
   "metadata": {},
   "source": [
    "nombre_infected       669\n",
    "nombre_sain          2040\n",
    "nombre_exposed        338\n",
    "nombre_recovered    16953\n",
    "Name: 259, dtype: int64"
   ]
  },
  {
   "cell_type": "markdown",
   "id": "5ef92ff2",
   "metadata": {},
   "source": [
    "nombre_infected       668\n",
    "nombre_sain          2042\n",
    "nombre_exposed        337\n",
    "nombre_recovered    16953\n",
    "Name: 260, dtype: int64"
   ]
  },
  {
   "cell_type": "markdown",
   "id": "5862c2e3",
   "metadata": {},
   "source": [
    "nombre_infected       641\n",
    "nombre_sain          2036\n",
    "nombre_exposed        355\n",
    "nombre_recovered    16968\n",
    "Name: 261, dtype: int64"
   ]
  },
  {
   "cell_type": "markdown",
   "id": "d2487f48",
   "metadata": {},
   "source": [
    "nombre_infected       629\n",
    "nombre_sain          2059\n",
    "nombre_exposed        341\n",
    "nombre_recovered    16971\n",
    "Name: 262, dtype: int64"
   ]
  },
  {
   "cell_type": "markdown",
   "id": "c45372a1",
   "metadata": {},
   "source": [
    "nombre_infected       622\n",
    "nombre_sain          2066\n",
    "nombre_exposed        343\n",
    "nombre_recovered    16969\n",
    "Name: 263, dtype: int64"
   ]
  },
  {
   "cell_type": "markdown",
   "id": "185f14fc",
   "metadata": {},
   "source": [
    "nombre_infected       627\n",
    "nombre_sain          2085\n",
    "nombre_exposed        333\n",
    "nombre_recovered    16955\n",
    "Name: 264, dtype: int64"
   ]
  },
  {
   "cell_type": "markdown",
   "id": "2db2dddb",
   "metadata": {},
   "source": [
    "nombre_infected       624\n",
    "nombre_sain          2075\n",
    "nombre_exposed        343\n",
    "nombre_recovered    16958\n",
    "Name: 265, dtype: int64"
   ]
  },
  {
   "cell_type": "markdown",
   "id": "19680ae9",
   "metadata": {},
   "source": [
    "nombre_infected       617\n",
    "nombre_sain          2077\n",
    "nombre_exposed        354\n",
    "nombre_recovered    16952\n",
    "Name: 266, dtype: int64"
   ]
  },
  {
   "cell_type": "markdown",
   "id": "d5e1d39d",
   "metadata": {},
   "source": [
    "nombre_infected       630\n",
    "nombre_sain          2097\n",
    "nombre_exposed        336\n",
    "nombre_recovered    16937\n",
    "Name: 267, dtype: int64"
   ]
  },
  {
   "cell_type": "markdown",
   "id": "9f817f6c",
   "metadata": {},
   "source": [
    "nombre_infected       641\n",
    "nombre_sain          2100\n",
    "nombre_exposed        336\n",
    "nombre_recovered    16923\n",
    "Name: 268, dtype: int64"
   ]
  },
  {
   "cell_type": "markdown",
   "id": "aff578a6",
   "metadata": {},
   "source": [
    "nombre_infected       622\n",
    "nombre_sain          2112\n",
    "nombre_exposed        350\n",
    "nombre_recovered    16916\n",
    "Name: 269, dtype: int64"
   ]
  },
  {
   "cell_type": "markdown",
   "id": "55f72b68",
   "metadata": {},
   "source": [
    "nombre_infected       635\n",
    "nombre_sain          2146\n",
    "nombre_exposed        332\n",
    "nombre_recovered    16887\n",
    "Name: 270, dtype: int64"
   ]
  },
  {
   "cell_type": "markdown",
   "id": "d37a458f",
   "metadata": {},
   "source": [
    "nombre_infected       615\n",
    "nombre_sain          2165\n",
    "nombre_exposed        328\n",
    "nombre_recovered    16892\n",
    "Name: 271, dtype: int64"
   ]
  },
  {
   "cell_type": "markdown",
   "id": "89db6ffa",
   "metadata": {},
   "source": [
    "nombre_infected       606\n",
    "nombre_sain          2201\n",
    "nombre_exposed        327\n",
    "nombre_recovered    16866\n",
    "Name: 272, dtype: int64"
   ]
  },
  {
   "cell_type": "markdown",
   "id": "857481ae",
   "metadata": {},
   "source": [
    "nombre_infected       594\n",
    "nombre_sain          2238\n",
    "nombre_exposed        325\n",
    "nombre_recovered    16843\n",
    "Name: 273, dtype: int64"
   ]
  },
  {
   "cell_type": "markdown",
   "id": "bbe6badc",
   "metadata": {},
   "source": [
    "nombre_infected       582\n",
    "nombre_sain          2262\n",
    "nombre_exposed        315\n",
    "nombre_recovered    16841\n",
    "Name: 274, dtype: int64"
   ]
  },
  {
   "cell_type": "markdown",
   "id": "01fc3e37",
   "metadata": {},
   "source": [
    "nombre_infected       573\n",
    "nombre_sain          2281\n",
    "nombre_exposed        338\n",
    "nombre_recovered    16808\n",
    "Name: 275, dtype: int64"
   ]
  },
  {
   "cell_type": "markdown",
   "id": "b233172f",
   "metadata": {},
   "source": [
    "nombre_infected       556\n",
    "nombre_sain          2312\n",
    "nombre_exposed        333\n",
    "nombre_recovered    16799\n",
    "Name: 276, dtype: int64"
   ]
  },
  {
   "cell_type": "markdown",
   "id": "2c00dcc2",
   "metadata": {},
   "source": [
    "nombre_infected       555\n",
    "nombre_sain          2330\n",
    "nombre_exposed        339\n",
    "nombre_recovered    16776\n",
    "Name: 277, dtype: int64"
   ]
  },
  {
   "cell_type": "markdown",
   "id": "bc470f8e",
   "metadata": {},
   "source": [
    "nombre_infected       566\n",
    "nombre_sain          2366\n",
    "nombre_exposed        327\n",
    "nombre_recovered    16741\n",
    "Name: 278, dtype: int64"
   ]
  },
  {
   "cell_type": "markdown",
   "id": "fd03b3ce",
   "metadata": {},
   "source": [
    "nombre_infected       559\n",
    "nombre_sain          2386\n",
    "nombre_exposed        332\n",
    "nombre_recovered    16723\n",
    "Name: 279, dtype: int64"
   ]
  },
  {
   "cell_type": "markdown",
   "id": "0365a79b",
   "metadata": {},
   "source": [
    "nombre_infected       554\n",
    "nombre_sain          2427\n",
    "nombre_exposed        317\n",
    "nombre_recovered    16702\n",
    "Name: 280, dtype: int64"
   ]
  },
  {
   "cell_type": "markdown",
   "id": "2b6a479a",
   "metadata": {},
   "source": [
    "nombre_infected       559\n",
    "nombre_sain          2454\n",
    "nombre_exposed        309\n",
    "nombre_recovered    16678\n",
    "Name: 281, dtype: int64"
   ]
  },
  {
   "cell_type": "markdown",
   "id": "07be22e7",
   "metadata": {},
   "source": [
    "nombre_infected       555\n",
    "nombre_sain          2489\n",
    "nombre_exposed        317\n",
    "nombre_recovered    16639\n",
    "Name: 282, dtype: int64"
   ]
  },
  {
   "cell_type": "markdown",
   "id": "1eb23f74",
   "metadata": {},
   "source": [
    "nombre_infected       577\n",
    "nombre_sain          2534\n",
    "nombre_exposed        297\n",
    "nombre_recovered    16592\n",
    "Name: 283, dtype: int64"
   ]
  },
  {
   "cell_type": "markdown",
   "id": "573343ec",
   "metadata": {},
   "source": [
    "nombre_infected       569\n",
    "nombre_sain          2568\n",
    "nombre_exposed        322\n",
    "nombre_recovered    16541\n",
    "Name: 284, dtype: int64"
   ]
  },
  {
   "cell_type": "markdown",
   "id": "33145110",
   "metadata": {},
   "source": [
    "nombre_infected       575\n",
    "nombre_sain          2573\n",
    "nombre_exposed        337\n",
    "nombre_recovered    16515\n",
    "Name: 285, dtype: int64"
   ]
  },
  {
   "cell_type": "markdown",
   "id": "d221bf08",
   "metadata": {},
   "source": [
    "nombre_infected       582\n",
    "nombre_sain          2605\n",
    "nombre_exposed        347\n",
    "nombre_recovered    16466\n",
    "Name: 286, dtype: int64"
   ]
  },
  {
   "cell_type": "markdown",
   "id": "d1670d8e",
   "metadata": {},
   "source": [
    "nombre_infected       602\n",
    "nombre_sain          2651\n",
    "nombre_exposed        331\n",
    "nombre_recovered    16416\n",
    "Name: 287, dtype: int64"
   ]
  },
  {
   "cell_type": "markdown",
   "id": "b2faeec7",
   "metadata": {},
   "source": [
    "nombre_infected       586\n",
    "nombre_sain          2704\n",
    "nombre_exposed        339\n",
    "nombre_recovered    16371\n",
    "Name: 288, dtype: int64"
   ]
  },
  {
   "cell_type": "markdown",
   "id": "d00963ce",
   "metadata": {},
   "source": [
    "nombre_infected       585\n",
    "nombre_sain          2732\n",
    "nombre_exposed        345\n",
    "nombre_recovered    16338\n",
    "Name: 289, dtype: int64"
   ]
  },
  {
   "cell_type": "markdown",
   "id": "5652b9d9",
   "metadata": {},
   "source": [
    "nombre_infected       579\n",
    "nombre_sain          2755\n",
    "nombre_exposed        365\n",
    "nombre_recovered    16301\n",
    "Name: 290, dtype: int64"
   ]
  },
  {
   "cell_type": "markdown",
   "id": "cd244968",
   "metadata": {},
   "source": [
    "nombre_infected       585\n",
    "nombre_sain          2797\n",
    "nombre_exposed        372\n",
    "nombre_recovered    16246\n",
    "Name: 291, dtype: int64"
   ]
  },
  {
   "cell_type": "markdown",
   "id": "a538221a",
   "metadata": {},
   "source": [
    "nombre_infected       606\n",
    "nombre_sain          2802\n",
    "nombre_exposed        369\n",
    "nombre_recovered    16223\n",
    "Name: 292, dtype: int64"
   ]
  },
  {
   "cell_type": "markdown",
   "id": "8a0e9a28",
   "metadata": {},
   "source": [
    "nombre_infected       616\n",
    "nombre_sain          2816\n",
    "nombre_exposed        381\n",
    "nombre_recovered    16187\n",
    "Name: 293, dtype: int64"
   ]
  },
  {
   "cell_type": "markdown",
   "id": "c0fc653a",
   "metadata": {},
   "source": [
    "nombre_infected       616\n",
    "nombre_sain          2839\n",
    "nombre_exposed        401\n",
    "nombre_recovered    16144\n",
    "Name: 294, dtype: int64"
   ]
  },
  {
   "cell_type": "markdown",
   "id": "5b65c3df",
   "metadata": {},
   "source": [
    "nombre_infected       624\n",
    "nombre_sain          2854\n",
    "nombre_exposed        397\n",
    "nombre_recovered    16125\n",
    "Name: 295, dtype: int64"
   ]
  },
  {
   "cell_type": "markdown",
   "id": "af1cdb77",
   "metadata": {},
   "source": [
    "nombre_infected       625\n",
    "nombre_sain          2864\n",
    "nombre_exposed        412\n",
    "nombre_recovered    16099\n",
    "Name: 296, dtype: int64"
   ]
  },
  {
   "cell_type": "markdown",
   "id": "042e20c2",
   "metadata": {},
   "source": [
    "nombre_infected       637\n",
    "nombre_sain          2875\n",
    "nombre_exposed        409\n",
    "nombre_recovered    16079\n",
    "Name: 297, dtype: int64"
   ]
  },
  {
   "cell_type": "markdown",
   "id": "a35e2763",
   "metadata": {},
   "source": [
    "nombre_infected       647\n",
    "nombre_sain          2881\n",
    "nombre_exposed        430\n",
    "nombre_recovered    16042\n",
    "Name: 298, dtype: int64"
   ]
  },
  {
   "cell_type": "markdown",
   "id": "ab8d556f",
   "metadata": {},
   "source": [
    "nombre_infected       677\n",
    "nombre_sain          2848\n",
    "nombre_exposed        457\n",
    "nombre_recovered    16018\n",
    "Name: 299, dtype: int64"
   ]
  },
  {
   "cell_type": "markdown",
   "id": "fd0c798b",
   "metadata": {},
   "source": [
    "nombre_infected       683\n",
    "nombre_sain          2850\n",
    "nombre_exposed        467\n",
    "nombre_recovered    16000\n",
    "Name: 300, dtype: int64"
   ]
  },
  {
   "cell_type": "markdown",
   "id": "049dab22",
   "metadata": {},
   "source": [
    "nombre_infected       721\n",
    "nombre_sain          2831\n",
    "nombre_exposed        461\n",
    "nombre_recovered    15987\n",
    "Name: 301, dtype: int64"
   ]
  },
  {
   "cell_type": "markdown",
   "id": "8fc4124b",
   "metadata": {},
   "source": [
    "nombre_infected       706\n",
    "nombre_sain          2845\n",
    "nombre_exposed        458\n",
    "nombre_recovered    15991\n",
    "Name: 302, dtype: int64"
   ]
  },
  {
   "cell_type": "markdown",
   "id": "e1f19825",
   "metadata": {},
   "source": [
    "nombre_infected       699\n",
    "nombre_sain          2837\n",
    "nombre_exposed        478\n",
    "nombre_recovered    15986\n",
    "Name: 303, dtype: int64"
   ]
  },
  {
   "cell_type": "markdown",
   "id": "d8456bbf",
   "metadata": {},
   "source": [
    "nombre_infected       702\n",
    "nombre_sain          2845\n",
    "nombre_exposed        493\n",
    "nombre_recovered    15960\n",
    "Name: 304, dtype: int64"
   ]
  },
  {
   "cell_type": "markdown",
   "id": "66d032c0",
   "metadata": {},
   "source": [
    "nombre_infected       705\n",
    "nombre_sain          2848\n",
    "nombre_exposed        499\n",
    "nombre_recovered    15948\n",
    "Name: 305, dtype: int64"
   ]
  },
  {
   "cell_type": "markdown",
   "id": "ee9e37a7",
   "metadata": {},
   "source": [
    "nombre_infected       698\n",
    "nombre_sain          2837\n",
    "nombre_exposed        524\n",
    "nombre_recovered    15941\n",
    "Name: 306, dtype: int64"
   ]
  },
  {
   "cell_type": "markdown",
   "id": "a93f7b8b",
   "metadata": {},
   "source": [
    "nombre_infected       707\n",
    "nombre_sain          2797\n",
    "nombre_exposed        569\n",
    "nombre_recovered    15927\n",
    "Name: 307, dtype: int64"
   ]
  },
  {
   "cell_type": "markdown",
   "id": "a3bc6917",
   "metadata": {},
   "source": [
    "nombre_infected       743\n",
    "nombre_sain          2785\n",
    "nombre_exposed        554\n",
    "nombre_recovered    15918\n",
    "Name: 308, dtype: int64"
   ]
  },
  {
   "cell_type": "markdown",
   "id": "c2350b76",
   "metadata": {},
   "source": [
    "nombre_infected       777\n",
    "nombre_sain          2780\n",
    "nombre_exposed        557\n",
    "nombre_recovered    15886\n",
    "Name: 309, dtype: int64"
   ]
  },
  {
   "cell_type": "markdown",
   "id": "c61955cb",
   "metadata": {},
   "source": [
    "nombre_infected       800\n",
    "nombre_sain          2751\n",
    "nombre_exposed        587\n",
    "nombre_recovered    15862\n",
    "Name: 310, dtype: int64"
   ]
  },
  {
   "cell_type": "markdown",
   "id": "0740835b",
   "metadata": {},
   "source": [
    "nombre_infected       829\n",
    "nombre_sain          2706\n",
    "nombre_exposed        600\n",
    "nombre_recovered    15865\n",
    "Name: 311, dtype: int64"
   ]
  },
  {
   "cell_type": "markdown",
   "id": "be56c7ff",
   "metadata": {},
   "source": [
    "nombre_infected       862\n",
    "nombre_sain          2673\n",
    "nombre_exposed        609\n",
    "nombre_recovered    15856\n",
    "Name: 312, dtype: int64"
   ]
  },
  {
   "cell_type": "markdown",
   "id": "78f719f7",
   "metadata": {},
   "source": [
    "nombre_infected       852\n",
    "nombre_sain          2643\n",
    "nombre_exposed        621\n",
    "nombre_recovered    15884\n",
    "Name: 313, dtype: int64"
   ]
  },
  {
   "cell_type": "markdown",
   "id": "2260496d",
   "metadata": {},
   "source": [
    "nombre_infected       889\n",
    "nombre_sain          2625\n",
    "nombre_exposed        620\n",
    "nombre_recovered    15866\n",
    "Name: 314, dtype: int64"
   ]
  },
  {
   "cell_type": "markdown",
   "id": "fef14925",
   "metadata": {},
   "source": [
    "nombre_infected       908\n",
    "nombre_sain          2582\n",
    "nombre_exposed        624\n",
    "nombre_recovered    15886\n",
    "Name: 315, dtype: int64"
   ]
  },
  {
   "cell_type": "markdown",
   "id": "1e4bed42",
   "metadata": {},
   "source": [
    "nombre_infected       927\n",
    "nombre_sain          2577\n",
    "nombre_exposed        604\n",
    "nombre_recovered    15892\n",
    "Name: 316, dtype: int64"
   ]
  },
  {
   "cell_type": "markdown",
   "id": "a7a78a39",
   "metadata": {},
   "source": [
    "nombre_infected       947\n",
    "nombre_sain          2574\n",
    "nombre_exposed        598\n",
    "nombre_recovered    15881\n",
    "Name: 317, dtype: int64"
   ]
  },
  {
   "cell_type": "markdown",
   "id": "ed199fb1",
   "metadata": {},
   "source": [
    "nombre_infected       956\n",
    "nombre_sain          2552\n",
    "nombre_exposed        599\n",
    "nombre_recovered    15893\n",
    "Name: 318, dtype: int64"
   ]
  },
  {
   "cell_type": "markdown",
   "id": "1f6ef8ae",
   "metadata": {},
   "source": [
    "nombre_infected       975\n",
    "nombre_sain          2499\n",
    "nombre_exposed        603\n",
    "nombre_recovered    15923\n",
    "Name: 319, dtype: int64"
   ]
  },
  {
   "cell_type": "markdown",
   "id": "e0c2ab1d",
   "metadata": {},
   "source": [
    "nombre_infected      1008\n",
    "nombre_sain          2434\n",
    "nombre_exposed        608\n",
    "nombre_recovered    15950\n",
    "Name: 320, dtype: int64"
   ]
  },
  {
   "cell_type": "markdown",
   "id": "481c79fe",
   "metadata": {},
   "source": [
    "nombre_infected      1003\n",
    "nombre_sain          2407\n",
    "nombre_exposed        616\n",
    "nombre_recovered    15974\n",
    "Name: 321, dtype: int64"
   ]
  },
  {
   "cell_type": "markdown",
   "id": "f5725ca2",
   "metadata": {},
   "source": [
    "nombre_infected      1028\n",
    "nombre_sain          2369\n",
    "nombre_exposed        610\n",
    "nombre_recovered    15993\n",
    "Name: 322, dtype: int64"
   ]
  },
  {
   "cell_type": "markdown",
   "id": "33b25987",
   "metadata": {},
   "source": [
    "nombre_infected      1038\n",
    "nombre_sain          2337\n",
    "nombre_exposed        605\n",
    "nombre_recovered    16020\n",
    "Name: 323, dtype: int64"
   ]
  },
  {
   "cell_type": "markdown",
   "id": "29529128",
   "metadata": {},
   "source": [
    "nombre_infected      1058\n",
    "nombre_sain          2295\n",
    "nombre_exposed        617\n",
    "nombre_recovered    16030\n",
    "Name: 324, dtype: int64"
   ]
  },
  {
   "cell_type": "markdown",
   "id": "a3caa134",
   "metadata": {},
   "source": [
    "nombre_infected      1080\n",
    "nombre_sain          2258\n",
    "nombre_exposed        603\n",
    "nombre_recovered    16059\n",
    "Name: 325, dtype: int64"
   ]
  },
  {
   "cell_type": "markdown",
   "id": "960df998",
   "metadata": {},
   "source": [
    "nombre_infected      1082\n",
    "nombre_sain          2229\n",
    "nombre_exposed        605\n",
    "nombre_recovered    16084\n",
    "Name: 326, dtype: int64"
   ]
  },
  {
   "cell_type": "markdown",
   "id": "a23dbd2c",
   "metadata": {},
   "source": [
    "nombre_infected      1093\n",
    "nombre_sain          2182\n",
    "nombre_exposed        589\n",
    "nombre_recovered    16136\n",
    "Name: 327, dtype: int64"
   ]
  },
  {
   "cell_type": "markdown",
   "id": "3a1458c8",
   "metadata": {},
   "source": [
    "nombre_infected      1100\n",
    "nombre_sain          2137\n",
    "nombre_exposed        588\n",
    "nombre_recovered    16175\n",
    "Name: 328, dtype: int64"
   ]
  },
  {
   "cell_type": "markdown",
   "id": "5d7d4833",
   "metadata": {},
   "source": [
    "nombre_infected      1080\n",
    "nombre_sain          2116\n",
    "nombre_exposed        574\n",
    "nombre_recovered    16230\n",
    "Name: 329, dtype: int64"
   ]
  },
  {
   "cell_type": "markdown",
   "id": "fba5d106",
   "metadata": {},
   "source": [
    "nombre_infected      1088\n",
    "nombre_sain          2093\n",
    "nombre_exposed        580\n",
    "nombre_recovered    16239\n",
    "Name: 330, dtype: int64"
   ]
  },
  {
   "cell_type": "markdown",
   "id": "545c3912",
   "metadata": {},
   "source": [
    "nombre_infected      1073\n",
    "nombre_sain          2059\n",
    "nombre_exposed        584\n",
    "nombre_recovered    16284\n",
    "Name: 331, dtype: int64"
   ]
  },
  {
   "cell_type": "markdown",
   "id": "fc4452bf",
   "metadata": {},
   "source": [
    "nombre_infected      1074\n",
    "nombre_sain          2022\n",
    "nombre_exposed        587\n",
    "nombre_recovered    16317\n",
    "Name: 332, dtype: int64"
   ]
  },
  {
   "cell_type": "markdown",
   "id": "96855e72",
   "metadata": {},
   "source": [
    "nombre_infected      1100\n",
    "nombre_sain          2002\n",
    "nombre_exposed        547\n",
    "nombre_recovered    16351\n",
    "Name: 333, dtype: int64"
   ]
  },
  {
   "cell_type": "markdown",
   "id": "e2a5a3da",
   "metadata": {},
   "source": [
    "nombre_infected      1117\n",
    "nombre_sain          1993\n",
    "nombre_exposed        520\n",
    "nombre_recovered    16370\n",
    "Name: 334, dtype: int64"
   ]
  },
  {
   "cell_type": "markdown",
   "id": "2a9a1d08",
   "metadata": {},
   "source": [
    "nombre_infected      1129\n",
    "nombre_sain          1970\n",
    "nombre_exposed        519\n",
    "nombre_recovered    16382\n",
    "Name: 335, dtype: int64"
   ]
  },
  {
   "cell_type": "markdown",
   "id": "57fa7a43",
   "metadata": {},
   "source": [
    "nombre_infected      1135\n",
    "nombre_sain          1947\n",
    "nombre_exposed        525\n",
    "nombre_recovered    16393\n",
    "Name: 336, dtype: int64"
   ]
  },
  {
   "cell_type": "markdown",
   "id": "d9ea3b5f",
   "metadata": {},
   "source": [
    "nombre_infected      1111\n",
    "nombre_sain          1912\n",
    "nombre_exposed        528\n",
    "nombre_recovered    16449\n",
    "Name: 337, dtype: int64"
   ]
  },
  {
   "cell_type": "markdown",
   "id": "49725360",
   "metadata": {},
   "source": [
    "nombre_infected      1126\n",
    "nombre_sain          1889\n",
    "nombre_exposed        506\n",
    "nombre_recovered    16479\n",
    "Name: 338, dtype: int64"
   ]
  },
  {
   "cell_type": "markdown",
   "id": "9325b3dc",
   "metadata": {},
   "source": [
    "nombre_infected      1086\n",
    "nombre_sain          1849\n",
    "nombre_exposed        533\n",
    "nombre_recovered    16532\n",
    "Name: 339, dtype: int64"
   ]
  },
  {
   "cell_type": "markdown",
   "id": "644eaf8c",
   "metadata": {},
   "source": [
    "nombre_infected      1091\n",
    "nombre_sain          1855\n",
    "nombre_exposed        487\n",
    "nombre_recovered    16567\n",
    "Name: 340, dtype: int64"
   ]
  },
  {
   "cell_type": "markdown",
   "id": "77646048",
   "metadata": {},
   "source": [
    "nombre_infected      1081\n",
    "nombre_sain          1850\n",
    "nombre_exposed        480\n",
    "nombre_recovered    16589\n",
    "Name: 341, dtype: int64"
   ]
  },
  {
   "cell_type": "markdown",
   "id": "88d02430",
   "metadata": {},
   "source": [
    "nombre_infected      1067\n",
    "nombre_sain          1839\n",
    "nombre_exposed        477\n",
    "nombre_recovered    16617\n",
    "Name: 342, dtype: int64"
   ]
  },
  {
   "cell_type": "markdown",
   "id": "d4403261",
   "metadata": {},
   "source": [
    "nombre_infected      1055\n",
    "nombre_sain          1811\n",
    "nombre_exposed        485\n",
    "nombre_recovered    16649\n",
    "Name: 343, dtype: int64"
   ]
  },
  {
   "cell_type": "markdown",
   "id": "86adf58e",
   "metadata": {},
   "source": [
    "nombre_infected      1055\n",
    "nombre_sain          1797\n",
    "nombre_exposed        474\n",
    "nombre_recovered    16674\n",
    "Name: 344, dtype: int64"
   ]
  },
  {
   "cell_type": "markdown",
   "id": "09b496e0",
   "metadata": {},
   "source": [
    "nombre_infected      1044\n",
    "nombre_sain          1747\n",
    "nombre_exposed        510\n",
    "nombre_recovered    16699\n",
    "Name: 345, dtype: int64"
   ]
  },
  {
   "cell_type": "markdown",
   "id": "cc262488",
   "metadata": {},
   "source": [
    "nombre_infected      1018\n",
    "nombre_sain          1765\n",
    "nombre_exposed        503\n",
    "nombre_recovered    16714\n",
    "Name: 346, dtype: int64"
   ]
  },
  {
   "cell_type": "markdown",
   "id": "8cb51e32",
   "metadata": {},
   "source": [
    "nombre_infected      1034\n",
    "nombre_sain          1763\n",
    "nombre_exposed        460\n",
    "nombre_recovered    16743\n",
    "Name: 347, dtype: int64"
   ]
  },
  {
   "cell_type": "markdown",
   "id": "87f9d36c",
   "metadata": {},
   "source": [
    "nombre_infected      1039\n",
    "nombre_sain          1750\n",
    "nombre_exposed        434\n",
    "nombre_recovered    16777\n",
    "Name: 348, dtype: int64"
   ]
  },
  {
   "cell_type": "markdown",
   "id": "802b6dee",
   "metadata": {},
   "source": [
    "nombre_infected      1027\n",
    "nombre_sain          1752\n",
    "nombre_exposed        420\n",
    "nombre_recovered    16801\n",
    "Name: 349, dtype: int64"
   ]
  },
  {
   "cell_type": "markdown",
   "id": "6423a137",
   "metadata": {},
   "source": [
    "nombre_infected      1042\n",
    "nombre_sain          1740\n",
    "nombre_exposed        389\n",
    "nombre_recovered    16829\n",
    "Name: 350, dtype: int64"
   ]
  },
  {
   "cell_type": "markdown",
   "id": "3643b412",
   "metadata": {},
   "source": [
    "nombre_infected      1007\n",
    "nombre_sain          1725\n",
    "nombre_exposed        413\n",
    "nombre_recovered    16855\n",
    "Name: 351, dtype: int64"
   ]
  },
  {
   "cell_type": "markdown",
   "id": "e8b57e62",
   "metadata": {},
   "source": [
    "nombre_infected       999\n",
    "nombre_sain          1726\n",
    "nombre_exposed        412\n",
    "nombre_recovered    16863\n",
    "Name: 352, dtype: int64"
   ]
  },
  {
   "cell_type": "markdown",
   "id": "3a1b5a19",
   "metadata": {},
   "source": [
    "nombre_infected       994\n",
    "nombre_sain          1730\n",
    "nombre_exposed        403\n",
    "nombre_recovered    16873\n",
    "Name: 353, dtype: int64"
   ]
  },
  {
   "cell_type": "markdown",
   "id": "6384c62a",
   "metadata": {},
   "source": [
    "nombre_infected       978\n",
    "nombre_sain          1743\n",
    "nombre_exposed        392\n",
    "nombre_recovered    16887\n",
    "Name: 354, dtype: int64"
   ]
  },
  {
   "cell_type": "markdown",
   "id": "8efedfbd",
   "metadata": {},
   "source": [
    "nombre_infected       960\n",
    "nombre_sain          1729\n",
    "nombre_exposed        392\n",
    "nombre_recovered    16919\n",
    "Name: 355, dtype: int64"
   ]
  },
  {
   "cell_type": "markdown",
   "id": "07e9c6f5",
   "metadata": {},
   "source": [
    "nombre_infected       964\n",
    "nombre_sain          1730\n",
    "nombre_exposed        384\n",
    "nombre_recovered    16922\n",
    "Name: 356, dtype: int64"
   ]
  },
  {
   "cell_type": "markdown",
   "id": "e4d255a3",
   "metadata": {},
   "source": [
    "nombre_infected       923\n",
    "nombre_sain          1723\n",
    "nombre_exposed        402\n",
    "nombre_recovered    16952\n",
    "Name: 357, dtype: int64"
   ]
  },
  {
   "cell_type": "markdown",
   "id": "0782d52e",
   "metadata": {},
   "source": [
    "nombre_infected       915\n",
    "nombre_sain          1738\n",
    "nombre_exposed        396\n",
    "nombre_recovered    16951\n",
    "Name: 358, dtype: int64"
   ]
  },
  {
   "cell_type": "markdown",
   "id": "6805ae16",
   "metadata": {},
   "source": [
    "nombre_infected       926\n",
    "nombre_sain          1774\n",
    "nombre_exposed        395\n",
    "nombre_recovered    16905\n",
    "Name: 359, dtype: int64"
   ]
  },
  {
   "cell_type": "markdown",
   "id": "4c18f64f",
   "metadata": {},
   "source": [
    "nombre_infected       900\n",
    "nombre_sain          1779\n",
    "nombre_exposed        398\n",
    "nombre_recovered    16923\n",
    "Name: 360, dtype: int64"
   ]
  },
  {
   "cell_type": "markdown",
   "id": "28bc484e",
   "metadata": {},
   "source": [
    "nombre_infected       903\n",
    "nombre_sain          1780\n",
    "nombre_exposed        401\n",
    "nombre_recovered    16916\n",
    "Name: 361, dtype: int64"
   ]
  },
  {
   "cell_type": "markdown",
   "id": "6ee413a6",
   "metadata": {},
   "source": [
    "nombre_infected       874\n",
    "nombre_sain          1771\n",
    "nombre_exposed        408\n",
    "nombre_recovered    16947\n",
    "Name: 362, dtype: int64"
   ]
  },
  {
   "cell_type": "markdown",
   "id": "212918f0",
   "metadata": {},
   "source": [
    "nombre_infected       856\n",
    "nombre_sain          1744\n",
    "nombre_exposed        429\n",
    "nombre_recovered    16971\n",
    "Name: 363, dtype: int64"
   ]
  },
  {
   "cell_type": "markdown",
   "id": "4cc711c0",
   "metadata": {},
   "source": [
    "nombre_infected       843\n",
    "nombre_sain          1778\n",
    "nombre_exposed        412\n",
    "nombre_recovered    16967\n",
    "Name: 364, dtype: int64"
   ]
  },
  {
   "cell_type": "markdown",
   "id": "6d525a53",
   "metadata": {},
   "source": [
    "nombre_infected       863\n",
    "nombre_sain          1798\n",
    "nombre_exposed        395\n",
    "nombre_recovered    16944\n",
    "Name: 365, dtype: int64"
   ]
  },
  {
   "cell_type": "markdown",
   "id": "9d973c3e",
   "metadata": {},
   "source": [
    "nombre_infected       853\n",
    "nombre_sain          1829\n",
    "nombre_exposed        390\n",
    "nombre_recovered    16928\n",
    "Name: 366, dtype: int64"
   ]
  },
  {
   "cell_type": "markdown",
   "id": "bc6b082a",
   "metadata": {},
   "source": [
    "nombre_infected       847\n",
    "nombre_sain          1851\n",
    "nombre_exposed        375\n",
    "nombre_recovered    16927\n",
    "Name: 367, dtype: int64"
   ]
  },
  {
   "cell_type": "markdown",
   "id": "15029703",
   "metadata": {},
   "source": [
    "nombre_infected       847\n",
    "nombre_sain          1856\n",
    "nombre_exposed        374\n",
    "nombre_recovered    16923\n",
    "Name: 368, dtype: int64"
   ]
  },
  {
   "cell_type": "markdown",
   "id": "33580dda",
   "metadata": {},
   "source": [
    "nombre_infected       822\n",
    "nombre_sain          1864\n",
    "nombre_exposed        356\n",
    "nombre_recovered    16958\n",
    "Name: 369, dtype: int64"
   ]
  },
  {
   "cell_type": "markdown",
   "id": "bfbb9e32",
   "metadata": {},
   "source": [
    "nombre_infected       808\n",
    "nombre_sain          1886\n",
    "nombre_exposed        333\n",
    "nombre_recovered    16973\n",
    "Name: 370, dtype: int64"
   ]
  },
  {
   "cell_type": "markdown",
   "id": "e6bf28e5",
   "metadata": {},
   "source": [
    "nombre_infected       790\n",
    "nombre_sain          1910\n",
    "nombre_exposed        325\n",
    "nombre_recovered    16975\n",
    "Name: 371, dtype: int64"
   ]
  },
  {
   "cell_type": "markdown",
   "id": "c47c82cb",
   "metadata": {},
   "source": [
    "nombre_infected       755\n",
    "nombre_sain          1929\n",
    "nombre_exposed        336\n",
    "nombre_recovered    16980\n",
    "Name: 372, dtype: int64"
   ]
  },
  {
   "cell_type": "markdown",
   "id": "7b382f11",
   "metadata": {},
   "source": [
    "nombre_infected       713\n",
    "nombre_sain          1951\n",
    "nombre_exposed        352\n",
    "nombre_recovered    16984\n",
    "Name: 373, dtype: int64"
   ]
  },
  {
   "cell_type": "markdown",
   "id": "d48fb048",
   "metadata": {},
   "source": [
    "nombre_infected       687\n",
    "nombre_sain          1967\n",
    "nombre_exposed        368\n",
    "nombre_recovered    16978\n",
    "Name: 374, dtype: int64"
   ]
  },
  {
   "cell_type": "markdown",
   "id": "1369a64b",
   "metadata": {},
   "source": [
    "nombre_infected       688\n",
    "nombre_sain          2006\n",
    "nombre_exposed        362\n",
    "nombre_recovered    16944\n",
    "Name: 375, dtype: int64"
   ]
  },
  {
   "cell_type": "markdown",
   "id": "090218ab",
   "metadata": {},
   "source": [
    "nombre_infected       691\n",
    "nombre_sain          2015\n",
    "nombre_exposed        361\n",
    "nombre_recovered    16933\n",
    "Name: 376, dtype: int64"
   ]
  },
  {
   "cell_type": "markdown",
   "id": "5e23acc4",
   "metadata": {},
   "source": [
    "nombre_infected       676\n",
    "nombre_sain          2019\n",
    "nombre_exposed        380\n",
    "nombre_recovered    16925\n",
    "Name: 377, dtype: int64"
   ]
  },
  {
   "cell_type": "markdown",
   "id": "c2f7d6fd",
   "metadata": {},
   "source": [
    "nombre_infected       673\n",
    "nombre_sain          2048\n",
    "nombre_exposed        369\n",
    "nombre_recovered    16910\n",
    "Name: 378, dtype: int64"
   ]
  },
  {
   "cell_type": "markdown",
   "id": "9aa9b312",
   "metadata": {},
   "source": [
    "nombre_infected       651\n",
    "nombre_sain          2053\n",
    "nombre_exposed        388\n",
    "nombre_recovered    16908\n",
    "Name: 379, dtype: int64"
   ]
  },
  {
   "cell_type": "markdown",
   "id": "a012e30f",
   "metadata": {},
   "source": [
    "nombre_infected       644\n",
    "nombre_sain          2093\n",
    "nombre_exposed        376\n",
    "nombre_recovered    16887\n",
    "Name: 380, dtype: int64"
   ]
  },
  {
   "cell_type": "markdown",
   "id": "d8f280d3",
   "metadata": {},
   "source": [
    "nombre_infected       640\n",
    "nombre_sain          2117\n",
    "nombre_exposed        360\n",
    "nombre_recovered    16883\n",
    "Name: 381, dtype: int64"
   ]
  },
  {
   "cell_type": "markdown",
   "id": "939e3521",
   "metadata": {},
   "source": [
    "nombre_infected       636\n",
    "nombre_sain          2129\n",
    "nombre_exposed        348\n",
    "nombre_recovered    16887\n",
    "Name: 382, dtype: int64"
   ]
  },
  {
   "cell_type": "markdown",
   "id": "cd032c76",
   "metadata": {},
   "source": [
    "nombre_infected       623\n",
    "nombre_sain          2161\n",
    "nombre_exposed        369\n",
    "nombre_recovered    16847\n",
    "Name: 383, dtype: int64"
   ]
  },
  {
   "cell_type": "markdown",
   "id": "d4959fb5",
   "metadata": {},
   "source": [
    "nombre_infected       603\n",
    "nombre_sain          2199\n",
    "nombre_exposed        366\n",
    "nombre_recovered    16832\n",
    "Name: 384, dtype: int64"
   ]
  },
  {
   "cell_type": "markdown",
   "id": "c66a157c",
   "metadata": {},
   "source": [
    "nombre_infected       612\n",
    "nombre_sain          2235\n",
    "nombre_exposed        349\n",
    "nombre_recovered    16804\n",
    "Name: 385, dtype: int64"
   ]
  },
  {
   "cell_type": "markdown",
   "id": "78104d24",
   "metadata": {},
   "source": [
    "nombre_infected       591\n",
    "nombre_sain          2259\n",
    "nombre_exposed        361\n",
    "nombre_recovered    16789\n",
    "Name: 386, dtype: int64"
   ]
  },
  {
   "cell_type": "markdown",
   "id": "2231b8e6",
   "metadata": {},
   "source": [
    "nombre_infected       592\n",
    "nombre_sain          2289\n",
    "nombre_exposed        350\n",
    "nombre_recovered    16769\n",
    "Name: 387, dtype: int64"
   ]
  },
  {
   "cell_type": "markdown",
   "id": "34e81c1d",
   "metadata": {},
   "source": [
    "nombre_infected       592\n",
    "nombre_sain          2313\n",
    "nombre_exposed        351\n",
    "nombre_recovered    16744\n",
    "Name: 388, dtype: int64"
   ]
  },
  {
   "cell_type": "markdown",
   "id": "147d280a",
   "metadata": {},
   "source": [
    "nombre_infected       605\n",
    "nombre_sain          2344\n",
    "nombre_exposed        348\n",
    "nombre_recovered    16703\n",
    "Name: 389, dtype: int64"
   ]
  },
  {
   "cell_type": "markdown",
   "id": "78070547",
   "metadata": {},
   "source": [
    "nombre_infected       609\n",
    "nombre_sain          2371\n",
    "nombre_exposed        345\n",
    "nombre_recovered    16675\n",
    "Name: 390, dtype: int64"
   ]
  },
  {
   "cell_type": "markdown",
   "id": "eda0e888",
   "metadata": {},
   "source": [
    "nombre_infected       608\n",
    "nombre_sain          2399\n",
    "nombre_exposed        365\n",
    "nombre_recovered    16628\n",
    "Name: 391, dtype: int64"
   ]
  },
  {
   "cell_type": "markdown",
   "id": "11354d77",
   "metadata": {},
   "source": [
    "nombre_infected       598\n",
    "nombre_sain          2438\n",
    "nombre_exposed        365\n",
    "nombre_recovered    16599\n",
    "Name: 392, dtype: int64"
   ]
  },
  {
   "cell_type": "markdown",
   "id": "c608e3ee",
   "metadata": {},
   "source": [
    "nombre_infected       609\n",
    "nombre_sain          2486\n",
    "nombre_exposed        367\n",
    "nombre_recovered    16538\n",
    "Name: 393, dtype: int64"
   ]
  },
  {
   "cell_type": "markdown",
   "id": "f5b7ebf2",
   "metadata": {},
   "source": [
    "nombre_infected       599\n",
    "nombre_sain          2515\n",
    "nombre_exposed        387\n",
    "nombre_recovered    16499\n",
    "Name: 394, dtype: int64"
   ]
  },
  {
   "cell_type": "markdown",
   "id": "0b944359",
   "metadata": {},
   "source": [
    "nombre_infected       621\n",
    "nombre_sain          2535\n",
    "nombre_exposed        384\n",
    "nombre_recovered    16460\n",
    "Name: 395, dtype: int64"
   ]
  },
  {
   "cell_type": "markdown",
   "id": "80c3d6cb",
   "metadata": {},
   "source": [
    "nombre_infected       636\n",
    "nombre_sain          2530\n",
    "nombre_exposed        412\n",
    "nombre_recovered    16422\n",
    "Name: 396, dtype: int64"
   ]
  },
  {
   "cell_type": "markdown",
   "id": "fbb32fbb",
   "metadata": {},
   "source": [
    "nombre_infected       620\n",
    "nombre_sain          2547\n",
    "nombre_exposed        433\n",
    "nombre_recovered    16400\n",
    "Name: 397, dtype: int64"
   ]
  },
  {
   "cell_type": "markdown",
   "id": "b42833b0",
   "metadata": {},
   "source": [
    "nombre_infected       631\n",
    "nombre_sain          2582\n",
    "nombre_exposed        419\n",
    "nombre_recovered    16368\n",
    "Name: 398, dtype: int64"
   ]
  },
  {
   "cell_type": "markdown",
   "id": "52ebdefd",
   "metadata": {},
   "source": [
    "nombre_infected       652\n",
    "nombre_sain          2587\n",
    "nombre_exposed        421\n",
    "nombre_recovered    16340\n",
    "Name: 399, dtype: int64"
   ]
  },
  {
   "cell_type": "markdown",
   "id": "b0c6c579",
   "metadata": {},
   "source": [
    "nombre_infected       645\n",
    "nombre_sain          2596\n",
    "nombre_exposed        430\n",
    "nombre_recovered    16329\n",
    "Name: 400, dtype: int64"
   ]
  },
  {
   "cell_type": "markdown",
   "id": "e4bc115b",
   "metadata": {},
   "source": [
    "nombre_infected       644\n",
    "nombre_sain          2602\n",
    "nombre_exposed        460\n",
    "nombre_recovered    16294\n",
    "Name: 401, dtype: int64"
   ]
  },
  {
   "cell_type": "markdown",
   "id": "c399fd28",
   "metadata": {},
   "source": [
    "nombre_infected       655\n",
    "nombre_sain          2575\n",
    "nombre_exposed        487\n",
    "nombre_recovered    16283\n",
    "Name: 402, dtype: int64"
   ]
  },
  {
   "cell_type": "markdown",
   "id": "49997115",
   "metadata": {},
   "source": [
    "nombre_infected       683\n",
    "nombre_sain          2581\n",
    "nombre_exposed        482\n",
    "nombre_recovered    16254\n",
    "Name: 403, dtype: int64"
   ]
  },
  {
   "cell_type": "markdown",
   "id": "81d363a3",
   "metadata": {},
   "source": [
    "nombre_infected       717\n",
    "nombre_sain          2565\n",
    "nombre_exposed        457\n",
    "nombre_recovered    16261\n",
    "Name: 404, dtype: int64"
   ]
  },
  {
   "cell_type": "markdown",
   "id": "42c4e51a",
   "metadata": {},
   "source": [
    "nombre_infected       726\n",
    "nombre_sain          2585\n",
    "nombre_exposed        457\n",
    "nombre_recovered    16232\n",
    "Name: 405, dtype: int64"
   ]
  },
  {
   "cell_type": "markdown",
   "id": "5b9eaad6",
   "metadata": {},
   "source": [
    "nombre_infected       751\n",
    "nombre_sain          2553\n",
    "nombre_exposed        463\n",
    "nombre_recovered    16233\n",
    "Name: 406, dtype: int64"
   ]
  },
  {
   "cell_type": "markdown",
   "id": "997d185d",
   "metadata": {},
   "source": [
    "nombre_infected       741\n",
    "nombre_sain          2534\n",
    "nombre_exposed        502\n",
    "nombre_recovered    16223\n",
    "Name: 407, dtype: int64"
   ]
  },
  {
   "cell_type": "markdown",
   "id": "d7152862",
   "metadata": {},
   "source": [
    "nombre_infected       745\n",
    "nombre_sain          2531\n",
    "nombre_exposed        510\n",
    "nombre_recovered    16214\n",
    "Name: 408, dtype: int64"
   ]
  },
  {
   "cell_type": "markdown",
   "id": "8c7a9890",
   "metadata": {},
   "source": [
    "nombre_infected       756\n",
    "nombre_sain          2495\n",
    "nombre_exposed        532\n",
    "nombre_recovered    16217\n",
    "Name: 409, dtype: int64"
   ]
  },
  {
   "cell_type": "markdown",
   "id": "8dc2e750",
   "metadata": {},
   "source": [
    "nombre_infected       793\n",
    "nombre_sain          2464\n",
    "nombre_exposed        544\n",
    "nombre_recovered    16199\n",
    "Name: 410, dtype: int64"
   ]
  },
  {
   "cell_type": "markdown",
   "id": "a8d4878c",
   "metadata": {},
   "source": [
    "nombre_infected       820\n",
    "nombre_sain          2418\n",
    "nombre_exposed        551\n",
    "nombre_recovered    16211\n",
    "Name: 411, dtype: int64"
   ]
  },
  {
   "cell_type": "markdown",
   "id": "b939a632",
   "metadata": {},
   "source": [
    "nombre_infected       856\n",
    "nombre_sain          2416\n",
    "nombre_exposed        523\n",
    "nombre_recovered    16205\n",
    "Name: 412, dtype: int64"
   ]
  },
  {
   "cell_type": "markdown",
   "id": "d9d67b2d",
   "metadata": {},
   "source": [
    "nombre_infected       873\n",
    "nombre_sain          2390\n",
    "nombre_exposed        521\n",
    "nombre_recovered    16216\n",
    "Name: 413, dtype: int64"
   ]
  },
  {
   "cell_type": "markdown",
   "id": "c9741dca",
   "metadata": {},
   "source": [
    "nombre_infected       897\n",
    "nombre_sain          2374\n",
    "nombre_exposed        531\n",
    "nombre_recovered    16198\n",
    "Name: 414, dtype: int64"
   ]
  },
  {
   "cell_type": "markdown",
   "id": "a8cd993f",
   "metadata": {},
   "source": [
    "nombre_infected       913\n",
    "nombre_sain          2345\n",
    "nombre_exposed        525\n",
    "nombre_recovered    16217\n",
    "Name: 415, dtype: int64"
   ]
  },
  {
   "cell_type": "markdown",
   "id": "9ed5e504",
   "metadata": {},
   "source": [
    "nombre_infected       908\n",
    "nombre_sain          2314\n",
    "nombre_exposed        547\n",
    "nombre_recovered    16231\n",
    "Name: 416, dtype: int64"
   ]
  },
  {
   "cell_type": "markdown",
   "id": "7ac380f7",
   "metadata": {},
   "source": [
    "nombre_infected       905\n",
    "nombre_sain          2277\n",
    "nombre_exposed        570\n",
    "nombre_recovered    16248\n",
    "Name: 417, dtype: int64"
   ]
  },
  {
   "cell_type": "markdown",
   "id": "11b1e672",
   "metadata": {},
   "source": [
    "nombre_infected       906\n",
    "nombre_sain          2227\n",
    "nombre_exposed        586\n",
    "nombre_recovered    16281\n",
    "Name: 418, dtype: int64"
   ]
  },
  {
   "cell_type": "markdown",
   "id": "2fc5607e",
   "metadata": {},
   "source": [
    "nombre_infected       930\n",
    "nombre_sain          2183\n",
    "nombre_exposed        594\n",
    "nombre_recovered    16293\n",
    "Name: 419, dtype: int64"
   ]
  },
  {
   "cell_type": "markdown",
   "id": "620b7e00",
   "metadata": {},
   "source": [
    "nombre_infected       972\n",
    "nombre_sain          2143\n",
    "nombre_exposed        585\n",
    "nombre_recovered    16300\n",
    "Name: 420, dtype: int64"
   ]
  },
  {
   "cell_type": "markdown",
   "id": "bb0a65a0",
   "metadata": {},
   "source": [
    "nombre_infected       991\n",
    "nombre_sain          2110\n",
    "nombre_exposed        599\n",
    "nombre_recovered    16300\n",
    "Name: 421, dtype: int64"
   ]
  },
  {
   "cell_type": "markdown",
   "id": "40b2ea51",
   "metadata": {},
   "source": [
    "nombre_infected      1021\n",
    "nombre_sain          2073\n",
    "nombre_exposed        587\n",
    "nombre_recovered    16319\n",
    "Name: 422, dtype: int64"
   ]
  },
  {
   "cell_type": "markdown",
   "id": "6165cf17",
   "metadata": {},
   "source": [
    "nombre_infected      1066\n",
    "nombre_sain          2045\n",
    "nombre_exposed        569\n",
    "nombre_recovered    16320\n",
    "Name: 423, dtype: int64"
   ]
  },
  {
   "cell_type": "markdown",
   "id": "ece27eb5",
   "metadata": {},
   "source": [
    "nombre_infected      1082\n",
    "nombre_sain          2036\n",
    "nombre_exposed        552\n",
    "nombre_recovered    16330\n",
    "Name: 424, dtype: int64"
   ]
  },
  {
   "cell_type": "markdown",
   "id": "dc19707c",
   "metadata": {},
   "source": [
    "nombre_infected      1103\n",
    "nombre_sain          2016\n",
    "nombre_exposed        546\n",
    "nombre_recovered    16335\n",
    "Name: 425, dtype: int64"
   ]
  },
  {
   "cell_type": "markdown",
   "id": "d8d8d312",
   "metadata": {},
   "source": [
    "nombre_infected      1095\n",
    "nombre_sain          2002\n",
    "nombre_exposed        557\n",
    "nombre_recovered    16346\n",
    "Name: 426, dtype: int64"
   ]
  },
  {
   "cell_type": "markdown",
   "id": "cd466c8e",
   "metadata": {},
   "source": [
    "nombre_infected      1067\n",
    "nombre_sain          1995\n",
    "nombre_exposed        551\n",
    "nombre_recovered    16387\n",
    "Name: 427, dtype: int64"
   ]
  },
  {
   "cell_type": "markdown",
   "id": "20914595",
   "metadata": {},
   "source": [
    "nombre_infected      1037\n",
    "nombre_sain          1990\n",
    "nombre_exposed        556\n",
    "nombre_recovered    16417\n",
    "Name: 428, dtype: int64"
   ]
  },
  {
   "cell_type": "markdown",
   "id": "8488f18e",
   "metadata": {},
   "source": [
    "nombre_infected      1063\n",
    "nombre_sain          1977\n",
    "nombre_exposed        541\n",
    "nombre_recovered    16419\n",
    "Name: 429, dtype: int64"
   ]
  },
  {
   "cell_type": "markdown",
   "id": "a63579d9",
   "metadata": {},
   "source": [
    "nombre_infected      1073\n",
    "nombre_sain          1996\n",
    "nombre_exposed        527\n",
    "nombre_recovered    16404\n",
    "Name: 430, dtype: int64"
   ]
  },
  {
   "cell_type": "markdown",
   "id": "f54678e3",
   "metadata": {},
   "source": [
    "nombre_infected      1068\n",
    "nombre_sain          1973\n",
    "nombre_exposed        562\n",
    "nombre_recovered    16397\n",
    "Name: 431, dtype: int64"
   ]
  },
  {
   "cell_type": "markdown",
   "id": "70d0c220",
   "metadata": {},
   "source": [
    "nombre_infected      1043\n",
    "nombre_sain          1994\n",
    "nombre_exposed        579\n",
    "nombre_recovered    16384\n",
    "Name: 432, dtype: int64"
   ]
  },
  {
   "cell_type": "markdown",
   "id": "dde1696f",
   "metadata": {},
   "source": [
    "nombre_infected      1040\n",
    "nombre_sain          2009\n",
    "nombre_exposed        575\n",
    "nombre_recovered    16376\n",
    "Name: 433, dtype: int64"
   ]
  },
  {
   "cell_type": "markdown",
   "id": "a0e5ff9c",
   "metadata": {},
   "source": [
    "nombre_infected      1051\n",
    "nombre_sain          2046\n",
    "nombre_exposed        564\n",
    "nombre_recovered    16339\n",
    "Name: 434, dtype: int64"
   ]
  },
  {
   "cell_type": "markdown",
   "id": "40d46cbd",
   "metadata": {},
   "source": [
    "nombre_infected      1036\n",
    "nombre_sain          2057\n",
    "nombre_exposed        559\n",
    "nombre_recovered    16348\n",
    "Name: 435, dtype: int64"
   ]
  },
  {
   "cell_type": "markdown",
   "id": "8d5246a8",
   "metadata": {},
   "source": [
    "nombre_infected      1027\n",
    "nombre_sain          2084\n",
    "nombre_exposed        550\n",
    "nombre_recovered    16339\n",
    "Name: 436, dtype: int64"
   ]
  },
  {
   "cell_type": "markdown",
   "id": "b20425c5",
   "metadata": {},
   "source": [
    "nombre_infected      1023\n",
    "nombre_sain          2076\n",
    "nombre_exposed        576\n",
    "nombre_recovered    16325\n",
    "Name: 437, dtype: int64"
   ]
  },
  {
   "cell_type": "markdown",
   "id": "e231552e",
   "metadata": {},
   "source": [
    "nombre_infected      1027\n",
    "nombre_sain          2082\n",
    "nombre_exposed        576\n",
    "nombre_recovered    16315\n",
    "Name: 438, dtype: int64"
   ]
  },
  {
   "cell_type": "markdown",
   "id": "bbb4cb15",
   "metadata": {},
   "source": [
    "nombre_infected      1021\n",
    "nombre_sain          2106\n",
    "nombre_exposed        580\n",
    "nombre_recovered    16293\n",
    "Name: 439, dtype: int64"
   ]
  },
  {
   "cell_type": "markdown",
   "id": "43bb3fb4",
   "metadata": {},
   "source": [
    "nombre_infected      1023\n",
    "nombre_sain          2120\n",
    "nombre_exposed        569\n",
    "nombre_recovered    16288\n",
    "Name: 440, dtype: int64"
   ]
  },
  {
   "cell_type": "markdown",
   "id": "4a1e6a1e",
   "metadata": {},
   "source": [
    "nombre_infected      1025\n",
    "nombre_sain          2135\n",
    "nombre_exposed        549\n",
    "nombre_recovered    16291\n",
    "Name: 441, dtype: int64"
   ]
  },
  {
   "cell_type": "markdown",
   "id": "c9abd533",
   "metadata": {},
   "source": [
    "nombre_infected      1017\n",
    "nombre_sain          2153\n",
    "nombre_exposed        525\n",
    "nombre_recovered    16305\n",
    "Name: 442, dtype: int64"
   ]
  },
  {
   "cell_type": "markdown",
   "id": "4c2bc4d3",
   "metadata": {},
   "source": [
    "nombre_infected       994\n",
    "nombre_sain          2141\n",
    "nombre_exposed        539\n",
    "nombre_recovered    16326\n",
    "Name: 443, dtype: int64"
   ]
  },
  {
   "cell_type": "markdown",
   "id": "ad11c3b0",
   "metadata": {},
   "source": [
    "nombre_infected       989\n",
    "nombre_sain          2137\n",
    "nombre_exposed        554\n",
    "nombre_recovered    16320\n",
    "Name: 444, dtype: int64"
   ]
  },
  {
   "cell_type": "markdown",
   "id": "71c8ecfa",
   "metadata": {},
   "source": [
    "nombre_infected       991\n",
    "nombre_sain          2136\n",
    "nombre_exposed        560\n",
    "nombre_recovered    16313\n",
    "Name: 445, dtype: int64"
   ]
  },
  {
   "cell_type": "markdown",
   "id": "d71e1cf2",
   "metadata": {},
   "source": [
    "nombre_infected       996\n",
    "nombre_sain          2114\n",
    "nombre_exposed        572\n",
    "nombre_recovered    16318\n",
    "Name: 446, dtype: int64"
   ]
  },
  {
   "cell_type": "markdown",
   "id": "8e9a9f0b",
   "metadata": {},
   "source": [
    "nombre_infected       988\n",
    "nombre_sain          2123\n",
    "nombre_exposed        569\n",
    "nombre_recovered    16320\n",
    "Name: 447, dtype: int64"
   ]
  },
  {
   "cell_type": "markdown",
   "id": "547c846f",
   "metadata": {},
   "source": [
    "nombre_infected       982\n",
    "nombre_sain          2102\n",
    "nombre_exposed        583\n",
    "nombre_recovered    16333\n",
    "Name: 448, dtype: int64"
   ]
  },
  {
   "cell_type": "markdown",
   "id": "d03789fd",
   "metadata": {},
   "source": [
    "nombre_infected      1021\n",
    "nombre_sain          2103\n",
    "nombre_exposed        556\n",
    "nombre_recovered    16320\n",
    "Name: 449, dtype: int64"
   ]
  },
  {
   "cell_type": "markdown",
   "id": "8d5c0c56",
   "metadata": {},
   "source": [
    "nombre_infected      1009\n",
    "nombre_sain          2107\n",
    "nombre_exposed        545\n",
    "nombre_recovered    16339\n",
    "Name: 450, dtype: int64"
   ]
  },
  {
   "cell_type": "markdown",
   "id": "bb45e054",
   "metadata": {},
   "source": [
    "nombre_infected      1008\n",
    "nombre_sain          2077\n",
    "nombre_exposed        551\n",
    "nombre_recovered    16364\n",
    "Name: 451, dtype: int64"
   ]
  },
  {
   "cell_type": "markdown",
   "id": "48cf4d75",
   "metadata": {},
   "source": [
    "nombre_infected       996\n",
    "nombre_sain          2065\n",
    "nombre_exposed        559\n",
    "nombre_recovered    16380\n",
    "Name: 452, dtype: int64"
   ]
  },
  {
   "cell_type": "markdown",
   "id": "9657c47a",
   "metadata": {},
   "source": [
    "nombre_infected      1002\n",
    "nombre_sain          2050\n",
    "nombre_exposed        562\n",
    "nombre_recovered    16386\n",
    "Name: 453, dtype: int64"
   ]
  },
  {
   "cell_type": "markdown",
   "id": "2abc0553",
   "metadata": {},
   "source": [
    "nombre_infected      1011\n",
    "nombre_sain          2028\n",
    "nombre_exposed        544\n",
    "nombre_recovered    16417\n",
    "Name: 454, dtype: int64"
   ]
  },
  {
   "cell_type": "markdown",
   "id": "52d61bc4",
   "metadata": {},
   "source": [
    "nombre_infected      1001\n",
    "nombre_sain          2000\n",
    "nombre_exposed        546\n",
    "nombre_recovered    16453\n",
    "Name: 455, dtype: int64"
   ]
  },
  {
   "cell_type": "markdown",
   "id": "3d644d46",
   "metadata": {},
   "source": [
    "nombre_infected       975\n",
    "nombre_sain          2003\n",
    "nombre_exposed        563\n",
    "nombre_recovered    16459\n",
    "Name: 456, dtype: int64"
   ]
  },
  {
   "cell_type": "markdown",
   "id": "5811e4e6",
   "metadata": {},
   "source": [
    "nombre_infected       974\n",
    "nombre_sain          1998\n",
    "nombre_exposed        537\n",
    "nombre_recovered    16491\n",
    "Name: 457, dtype: int64"
   ]
  },
  {
   "cell_type": "markdown",
   "id": "d7bdc004",
   "metadata": {},
   "source": [
    "nombre_infected       973\n",
    "nombre_sain          1996\n",
    "nombre_exposed        510\n",
    "nombre_recovered    16521\n",
    "Name: 458, dtype: int64"
   ]
  },
  {
   "cell_type": "markdown",
   "id": "dad328c4",
   "metadata": {},
   "source": [
    "nombre_infected       963\n",
    "nombre_sain          1995\n",
    "nombre_exposed        508\n",
    "nombre_recovered    16534\n",
    "Name: 459, dtype: int64"
   ]
  },
  {
   "cell_type": "markdown",
   "id": "2dd9d036",
   "metadata": {},
   "source": [
    "nombre_infected       984\n",
    "nombre_sain          1961\n",
    "nombre_exposed        517\n",
    "nombre_recovered    16538\n",
    "Name: 460, dtype: int64"
   ]
  },
  {
   "cell_type": "markdown",
   "id": "743d9801",
   "metadata": {},
   "source": [
    "nombre_infected       956\n",
    "nombre_sain          1961\n",
    "nombre_exposed        531\n",
    "nombre_recovered    16552\n",
    "Name: 461, dtype: int64"
   ]
  },
  {
   "cell_type": "markdown",
   "id": "c71ea7c4",
   "metadata": {},
   "source": [
    "nombre_infected       939\n",
    "nombre_sain          1956\n",
    "nombre_exposed        515\n",
    "nombre_recovered    16590\n",
    "Name: 462, dtype: int64"
   ]
  },
  {
   "cell_type": "markdown",
   "id": "e898bb52",
   "metadata": {},
   "source": [
    "nombre_infected       919\n",
    "nombre_sain          1958\n",
    "nombre_exposed        519\n",
    "nombre_recovered    16604\n",
    "Name: 463, dtype: int64"
   ]
  },
  {
   "cell_type": "markdown",
   "id": "393b393c",
   "metadata": {},
   "source": [
    "nombre_infected       916\n",
    "nombre_sain          1954\n",
    "nombre_exposed        515\n",
    "nombre_recovered    16615\n",
    "Name: 464, dtype: int64"
   ]
  },
  {
   "cell_type": "markdown",
   "id": "cff65ba8",
   "metadata": {},
   "source": [
    "nombre_infected       919\n",
    "nombre_sain          1969\n",
    "nombre_exposed        476\n",
    "nombre_recovered    16636\n",
    "Name: 465, dtype: int64"
   ]
  },
  {
   "cell_type": "markdown",
   "id": "cec2c5e8",
   "metadata": {},
   "source": [
    "nombre_infected       939\n",
    "nombre_sain          1964\n",
    "nombre_exposed        458\n",
    "nombre_recovered    16639\n",
    "Name: 466, dtype: int64"
   ]
  },
  {
   "cell_type": "markdown",
   "id": "ee45b859",
   "metadata": {},
   "source": [
    "nombre_infected       910\n",
    "nombre_sain          1976\n",
    "nombre_exposed        457\n",
    "nombre_recovered    16657\n",
    "Name: 467, dtype: int64"
   ]
  },
  {
   "cell_type": "markdown",
   "id": "5aaf383f",
   "metadata": {},
   "source": [
    "nombre_infected       915\n",
    "nombre_sain          1950\n",
    "nombre_exposed        455\n",
    "nombre_recovered    16680\n",
    "Name: 468, dtype: int64"
   ]
  },
  {
   "cell_type": "markdown",
   "id": "8609d3dd",
   "metadata": {},
   "source": [
    "nombre_infected       877\n",
    "nombre_sain          1963\n",
    "nombre_exposed        457\n",
    "nombre_recovered    16703\n",
    "Name: 469, dtype: int64"
   ]
  },
  {
   "cell_type": "markdown",
   "id": "e3912247",
   "metadata": {},
   "source": [
    "nombre_infected       887\n",
    "nombre_sain          1962\n",
    "nombre_exposed        453\n",
    "nombre_recovered    16698\n",
    "Name: 470, dtype: int64"
   ]
  },
  {
   "cell_type": "markdown",
   "id": "075d74df",
   "metadata": {},
   "source": [
    "nombre_infected       880\n",
    "nombre_sain          1964\n",
    "nombre_exposed        465\n",
    "nombre_recovered    16691\n",
    "Name: 471, dtype: int64"
   ]
  },
  {
   "cell_type": "markdown",
   "id": "15c192d9",
   "metadata": {},
   "source": [
    "nombre_infected       859\n",
    "nombre_sain          1979\n",
    "nombre_exposed        445\n",
    "nombre_recovered    16717\n",
    "Name: 472, dtype: int64"
   ]
  },
  {
   "cell_type": "markdown",
   "id": "c06460a3",
   "metadata": {},
   "source": [
    "nombre_infected       850\n",
    "nombre_sain          2000\n",
    "nombre_exposed        422\n",
    "nombre_recovered    16728\n",
    "Name: 473, dtype: int64"
   ]
  },
  {
   "cell_type": "markdown",
   "id": "a25c4e4e",
   "metadata": {},
   "source": [
    "nombre_infected       838\n",
    "nombre_sain          1994\n",
    "nombre_exposed        439\n",
    "nombre_recovered    16729\n",
    "Name: 474, dtype: int64"
   ]
  },
  {
   "cell_type": "markdown",
   "id": "3227fe4a",
   "metadata": {},
   "source": [
    "nombre_infected       827\n",
    "nombre_sain          2015\n",
    "nombre_exposed        441\n",
    "nombre_recovered    16717\n",
    "Name: 475, dtype: int64"
   ]
  },
  {
   "cell_type": "markdown",
   "id": "82791839",
   "metadata": {},
   "source": [
    "nombre_infected       813\n",
    "nombre_sain          2014\n",
    "nombre_exposed        443\n",
    "nombre_recovered    16730\n",
    "Name: 476, dtype: int64"
   ]
  },
  {
   "cell_type": "markdown",
   "id": "c3a6fb26",
   "metadata": {},
   "source": [
    "nombre_infected       816\n",
    "nombre_sain          2021\n",
    "nombre_exposed        436\n",
    "nombre_recovered    16727\n",
    "Name: 477, dtype: int64"
   ]
  },
  {
   "cell_type": "markdown",
   "id": "3a18bc67",
   "metadata": {},
   "source": [
    "nombre_infected       822\n",
    "nombre_sain          2047\n",
    "nombre_exposed        405\n",
    "nombre_recovered    16726\n",
    "Name: 478, dtype: int64"
   ]
  },
  {
   "cell_type": "markdown",
   "id": "27bbfcb1",
   "metadata": {},
   "source": [
    "nombre_infected       815\n",
    "nombre_sain          2055\n",
    "nombre_exposed        422\n",
    "nombre_recovered    16708\n",
    "Name: 479, dtype: int64"
   ]
  },
  {
   "cell_type": "markdown",
   "id": "da9564b6",
   "metadata": {},
   "source": [
    "nombre_infected       800\n",
    "nombre_sain          2091\n",
    "nombre_exposed        416\n",
    "nombre_recovered    16693\n",
    "Name: 480, dtype: int64"
   ]
  },
  {
   "cell_type": "markdown",
   "id": "86b2aedd",
   "metadata": {},
   "source": [
    "nombre_infected       813\n",
    "nombre_sain          2090\n",
    "nombre_exposed        421\n",
    "nombre_recovered    16676\n",
    "Name: 481, dtype: int64"
   ]
  },
  {
   "cell_type": "markdown",
   "id": "98018627",
   "metadata": {},
   "source": [
    "nombre_infected       818\n",
    "nombre_sain          2096\n",
    "nombre_exposed        417\n",
    "nombre_recovered    16669\n",
    "Name: 482, dtype: int64"
   ]
  },
  {
   "cell_type": "markdown",
   "id": "1f53f0f0",
   "metadata": {},
   "source": [
    "nombre_infected       800\n",
    "nombre_sain          2109\n",
    "nombre_exposed        424\n",
    "nombre_recovered    16667\n",
    "Name: 483, dtype: int64"
   ]
  },
  {
   "cell_type": "markdown",
   "id": "75bc0615",
   "metadata": {},
   "source": [
    "nombre_infected       801\n",
    "nombre_sain          2116\n",
    "nombre_exposed        418\n",
    "nombre_recovered    16665\n",
    "Name: 484, dtype: int64"
   ]
  },
  {
   "cell_type": "markdown",
   "id": "ee936c75",
   "metadata": {},
   "source": [
    "nombre_infected       798\n",
    "nombre_sain          2117\n",
    "nombre_exposed        417\n",
    "nombre_recovered    16668\n",
    "Name: 485, dtype: int64"
   ]
  },
  {
   "cell_type": "markdown",
   "id": "df843abe",
   "metadata": {},
   "source": [
    "nombre_infected       782\n",
    "nombre_sain          2122\n",
    "nombre_exposed        426\n",
    "nombre_recovered    16670\n",
    "Name: 486, dtype: int64"
   ]
  },
  {
   "cell_type": "markdown",
   "id": "d554ac41",
   "metadata": {},
   "source": [
    "nombre_infected       757\n",
    "nombre_sain          2119\n",
    "nombre_exposed        444\n",
    "nombre_recovered    16680\n",
    "Name: 487, dtype: int64"
   ]
  },
  {
   "cell_type": "markdown",
   "id": "9a1a5ee4",
   "metadata": {},
   "source": [
    "nombre_infected       764\n",
    "nombre_sain          2110\n",
    "nombre_exposed        448\n",
    "nombre_recovered    16678\n",
    "Name: 488, dtype: int64"
   ]
  },
  {
   "cell_type": "markdown",
   "id": "415a0181",
   "metadata": {},
   "source": [
    "nombre_infected       759\n",
    "nombre_sain          2104\n",
    "nombre_exposed        445\n",
    "nombre_recovered    16692\n",
    "Name: 489, dtype: int64"
   ]
  },
  {
   "cell_type": "markdown",
   "id": "e47b3e80",
   "metadata": {},
   "source": [
    "nombre_infected       767\n",
    "nombre_sain          2116\n",
    "nombre_exposed        449\n",
    "nombre_recovered    16668\n",
    "Name: 490, dtype: int64"
   ]
  },
  {
   "cell_type": "markdown",
   "id": "3f051b2b",
   "metadata": {},
   "source": [
    "nombre_infected       782\n",
    "nombre_sain          2105\n",
    "nombre_exposed        449\n",
    "nombre_recovered    16664\n",
    "Name: 491, dtype: int64"
   ]
  },
  {
   "cell_type": "markdown",
   "id": "b4a1bdd7",
   "metadata": {},
   "source": [
    "nombre_infected       742\n",
    "nombre_sain          2107\n",
    "nombre_exposed        461\n",
    "nombre_recovered    16690\n",
    "Name: 492, dtype: int64"
   ]
  },
  {
   "cell_type": "markdown",
   "id": "de3aac73",
   "metadata": {},
   "source": [
    "nombre_infected       748\n",
    "nombre_sain          2098\n",
    "nombre_exposed        469\n",
    "nombre_recovered    16685\n",
    "Name: 493, dtype: int64"
   ]
  },
  {
   "cell_type": "markdown",
   "id": "cb73b017",
   "metadata": {},
   "source": [
    "nombre_infected       745\n",
    "nombre_sain          2110\n",
    "nombre_exposed        453\n",
    "nombre_recovered    16692\n",
    "Name: 494, dtype: int64"
   ]
  },
  {
   "cell_type": "markdown",
   "id": "d9a52d49",
   "metadata": {},
   "source": [
    "nombre_infected       738\n",
    "nombre_sain          2145\n",
    "nombre_exposed        429\n",
    "nombre_recovered    16688\n",
    "Name: 495, dtype: int64"
   ]
  },
  {
   "cell_type": "markdown",
   "id": "316b119f",
   "metadata": {},
   "source": [
    "nombre_infected       733\n",
    "nombre_sain          2163\n",
    "nombre_exposed        435\n",
    "nombre_recovered    16669\n",
    "Name: 496, dtype: int64"
   ]
  },
  {
   "cell_type": "markdown",
   "id": "bce0ad80",
   "metadata": {},
   "source": [
    "nombre_infected       708\n",
    "nombre_sain          2232\n",
    "nombre_exposed        420\n",
    "nombre_recovered    16640\n",
    "Name: 497, dtype: int64"
   ]
  },
  {
   "cell_type": "markdown",
   "id": "b303854e",
   "metadata": {},
   "source": [
    "nombre_infected       722\n",
    "nombre_sain          2256\n",
    "nombre_exposed        420\n",
    "nombre_recovered    16602\n",
    "Name: 498, dtype: int64"
   ]
  },
  {
   "cell_type": "markdown",
   "id": "95e351fc",
   "metadata": {},
   "source": [
    "nombre_infected       714\n",
    "nombre_sain          2257\n",
    "nombre_exposed        444\n",
    "nombre_recovered    16585\n",
    "Name: 499, dtype: int64"
   ]
  },
  {
   "cell_type": "markdown",
   "id": "38d5c5e9",
   "metadata": {},
   "source": [
    "nombre_infected       718\n",
    "nombre_sain          2279\n",
    "nombre_exposed        435\n",
    "nombre_recovered    16568\n",
    "Name: 500, dtype: int64"
   ]
  },
  {
   "cell_type": "markdown",
   "id": "44ca5a0c",
   "metadata": {},
   "source": [
    "nombre_infected       732\n",
    "nombre_sain          2304\n",
    "nombre_exposed        428\n",
    "nombre_recovered    16536\n",
    "Name: 501, dtype: int64"
   ]
  },
  {
   "cell_type": "markdown",
   "id": "23881076",
   "metadata": {},
   "source": [
    "nombre_infected       733\n",
    "nombre_sain          2322\n",
    "nombre_exposed        436\n",
    "nombre_recovered    16509\n",
    "Name: 502, dtype: int64"
   ]
  },
  {
   "cell_type": "markdown",
   "id": "6fdae7e0",
   "metadata": {},
   "source": [
    "nombre_infected       730\n",
    "nombre_sain          2347\n",
    "nombre_exposed        453\n",
    "nombre_recovered    16470\n",
    "Name: 503, dtype: int64"
   ]
  },
  {
   "cell_type": "markdown",
   "id": "6441e1c9",
   "metadata": {},
   "source": [
    "nombre_infected       715\n",
    "nombre_sain          2371\n",
    "nombre_exposed        459\n",
    "nombre_recovered    16455\n",
    "Name: 504, dtype: int64"
   ]
  },
  {
   "cell_type": "markdown",
   "id": "7b51c5bd",
   "metadata": {},
   "source": [
    "nombre_infected       756\n",
    "nombre_sain          2385\n",
    "nombre_exposed        453\n",
    "nombre_recovered    16406\n",
    "Name: 505, dtype: int64"
   ]
  },
  {
   "cell_type": "markdown",
   "id": "6f978079",
   "metadata": {},
   "source": [
    "nombre_infected       749\n",
    "nombre_sain          2400\n",
    "nombre_exposed        456\n",
    "nombre_recovered    16395\n",
    "Name: 506, dtype: int64"
   ]
  },
  {
   "cell_type": "markdown",
   "id": "a2c713af",
   "metadata": {},
   "source": [
    "nombre_infected       768\n",
    "nombre_sain          2403\n",
    "nombre_exposed        460\n",
    "nombre_recovered    16369\n",
    "Name: 507, dtype: int64"
   ]
  },
  {
   "cell_type": "markdown",
   "id": "4e57c171",
   "metadata": {},
   "source": [
    "nombre_infected       774\n",
    "nombre_sain          2417\n",
    "nombre_exposed        454\n",
    "nombre_recovered    16355\n",
    "Name: 508, dtype: int64"
   ]
  },
  {
   "cell_type": "markdown",
   "id": "60fbd3e2",
   "metadata": {},
   "source": [
    "nombre_infected       769\n",
    "nombre_sain          2446\n",
    "nombre_exposed        444\n",
    "nombre_recovered    16341\n",
    "Name: 509, dtype: int64"
   ]
  },
  {
   "cell_type": "markdown",
   "id": "ad0da943",
   "metadata": {},
   "source": [
    "nombre_infected       788\n",
    "nombre_sain          2445\n",
    "nombre_exposed        436\n",
    "nombre_recovered    16331\n",
    "Name: 510, dtype: int64"
   ]
  },
  {
   "cell_type": "markdown",
   "id": "4fbfe2e7",
   "metadata": {},
   "source": [
    "nombre_infected       778\n",
    "nombre_sain          2480\n",
    "nombre_exposed        424\n",
    "nombre_recovered    16318\n",
    "Name: 511, dtype: int64"
   ]
  },
  {
   "cell_type": "markdown",
   "id": "40de6721",
   "metadata": {},
   "source": [
    "nombre_infected       760\n",
    "nombre_sain          2450\n",
    "nombre_exposed        463\n",
    "nombre_recovered    16327\n",
    "Name: 512, dtype: int64"
   ]
  },
  {
   "cell_type": "markdown",
   "id": "36eb9601",
   "metadata": {},
   "source": [
    "nombre_infected       767\n",
    "nombre_sain          2420\n",
    "nombre_exposed        484\n",
    "nombre_recovered    16329\n",
    "Name: 513, dtype: int64"
   ]
  },
  {
   "cell_type": "markdown",
   "id": "a820ce29",
   "metadata": {},
   "source": [
    "nombre_infected       799\n",
    "nombre_sain          2421\n",
    "nombre_exposed        435\n",
    "nombre_recovered    16345\n",
    "Name: 514, dtype: int64"
   ]
  },
  {
   "cell_type": "markdown",
   "id": "d7c5346b",
   "metadata": {},
   "source": [
    "nombre_infected       797\n",
    "nombre_sain          2363\n",
    "nombre_exposed        470\n",
    "nombre_recovered    16370\n",
    "Name: 515, dtype: int64"
   ]
  },
  {
   "cell_type": "markdown",
   "id": "8c87139e",
   "metadata": {},
   "source": [
    "nombre_infected       794\n",
    "nombre_sain          2361\n",
    "nombre_exposed        477\n",
    "nombre_recovered    16368\n",
    "Name: 516, dtype: int64"
   ]
  },
  {
   "cell_type": "markdown",
   "id": "82c8bf02",
   "metadata": {},
   "source": [
    "nombre_infected       838\n",
    "nombre_sain          2360\n",
    "nombre_exposed        450\n",
    "nombre_recovered    16352\n",
    "Name: 517, dtype: int64"
   ]
  },
  {
   "cell_type": "markdown",
   "id": "8fb25854",
   "metadata": {},
   "source": [
    "nombre_infected       830\n",
    "nombre_sain          2336\n",
    "nombre_exposed        459\n",
    "nombre_recovered    16375\n",
    "Name: 518, dtype: int64"
   ]
  },
  {
   "cell_type": "markdown",
   "id": "a3966ed8",
   "metadata": {},
   "source": [
    "nombre_infected       840\n",
    "nombre_sain          2331\n",
    "nombre_exposed        450\n",
    "nombre_recovered    16379\n",
    "Name: 519, dtype: int64"
   ]
  },
  {
   "cell_type": "markdown",
   "id": "d55ca91f",
   "metadata": {},
   "source": [
    "nombre_infected       841\n",
    "nombre_sain          2312\n",
    "nombre_exposed        484\n",
    "nombre_recovered    16363\n",
    "Name: 520, dtype: int64"
   ]
  },
  {
   "cell_type": "markdown",
   "id": "c2bc200d",
   "metadata": {},
   "source": [
    "nombre_infected       830\n",
    "nombre_sain          2283\n",
    "nombre_exposed        504\n",
    "nombre_recovered    16383\n",
    "Name: 521, dtype: int64"
   ]
  },
  {
   "cell_type": "markdown",
   "id": "8758f119",
   "metadata": {},
   "source": [
    "nombre_infected       837\n",
    "nombre_sain          2292\n",
    "nombre_exposed        481\n",
    "nombre_recovered    16390\n",
    "Name: 522, dtype: int64"
   ]
  },
  {
   "cell_type": "markdown",
   "id": "eaf76e4a",
   "metadata": {},
   "source": [
    "nombre_infected       872\n",
    "nombre_sain          2280\n",
    "nombre_exposed        466\n",
    "nombre_recovered    16382\n",
    "Name: 523, dtype: int64"
   ]
  },
  {
   "cell_type": "markdown",
   "id": "2ad021cc",
   "metadata": {},
   "source": [
    "nombre_infected       847\n",
    "nombre_sain          2241\n",
    "nombre_exposed        494\n",
    "nombre_recovered    16418\n",
    "Name: 524, dtype: int64"
   ]
  },
  {
   "cell_type": "markdown",
   "id": "d214d19c",
   "metadata": {},
   "source": [
    "nombre_infected       843\n",
    "nombre_sain          2221\n",
    "nombre_exposed        514\n",
    "nombre_recovered    16422\n",
    "Name: 525, dtype: int64"
   ]
  },
  {
   "cell_type": "markdown",
   "id": "f9d7e428",
   "metadata": {},
   "source": [
    "nombre_infected       849\n",
    "nombre_sain          2202\n",
    "nombre_exposed        500\n",
    "nombre_recovered    16449\n",
    "Name: 526, dtype: int64"
   ]
  },
  {
   "cell_type": "markdown",
   "id": "82782f31",
   "metadata": {},
   "source": [
    "nombre_infected       853\n",
    "nombre_sain          2168\n",
    "nombre_exposed        501\n",
    "nombre_recovered    16478\n",
    "Name: 527, dtype: int64"
   ]
  },
  {
   "cell_type": "markdown",
   "id": "57edb8b5",
   "metadata": {},
   "source": [
    "nombre_infected       827\n",
    "nombre_sain          2149\n",
    "nombre_exposed        509\n",
    "nombre_recovered    16515\n",
    "Name: 528, dtype: int64"
   ]
  },
  {
   "cell_type": "markdown",
   "id": "307140d0",
   "metadata": {},
   "source": [
    "nombre_infected       854\n",
    "nombre_sain          2129\n",
    "nombre_exposed        476\n",
    "nombre_recovered    16541\n",
    "Name: 529, dtype: int64"
   ]
  },
  {
   "cell_type": "markdown",
   "id": "0addf034",
   "metadata": {},
   "source": [
    "nombre_infected       876\n",
    "nombre_sain          2112\n",
    "nombre_exposed        454\n",
    "nombre_recovered    16558\n",
    "Name: 530, dtype: int64"
   ]
  },
  {
   "cell_type": "markdown",
   "id": "62fe3888",
   "metadata": {},
   "source": [
    "nombre_infected       876\n",
    "nombre_sain          2096\n",
    "nombre_exposed        453\n",
    "nombre_recovered    16575\n",
    "Name: 531, dtype: int64"
   ]
  },
  {
   "cell_type": "markdown",
   "id": "8e744878",
   "metadata": {},
   "source": [
    "nombre_infected       865\n",
    "nombre_sain          2092\n",
    "nombre_exposed        445\n",
    "nombre_recovered    16598\n",
    "Name: 532, dtype: int64"
   ]
  },
  {
   "cell_type": "markdown",
   "id": "f8f77e38",
   "metadata": {},
   "source": [
    "nombre_infected       856\n",
    "nombre_sain          2067\n",
    "nombre_exposed        448\n",
    "nombre_recovered    16629\n",
    "Name: 533, dtype: int64"
   ]
  },
  {
   "cell_type": "markdown",
   "id": "3dbba104",
   "metadata": {},
   "source": [
    "nombre_infected       841\n",
    "nombre_sain          2048\n",
    "nombre_exposed        457\n",
    "nombre_recovered    16654\n",
    "Name: 534, dtype: int64"
   ]
  },
  {
   "cell_type": "markdown",
   "id": "0c362a99",
   "metadata": {},
   "source": [
    "nombre_infected       866\n",
    "nombre_sain          2026\n",
    "nombre_exposed        449\n",
    "nombre_recovered    16659\n",
    "Name: 535, dtype: int64"
   ]
  },
  {
   "cell_type": "markdown",
   "id": "f7656897",
   "metadata": {},
   "source": [
    "nombre_infected       862\n",
    "nombre_sain          2009\n",
    "nombre_exposed        456\n",
    "nombre_recovered    16673\n",
    "Name: 536, dtype: int64"
   ]
  },
  {
   "cell_type": "markdown",
   "id": "89628521",
   "metadata": {},
   "source": [
    "nombre_infected       883\n",
    "nombre_sain          1994\n",
    "nombre_exposed        445\n",
    "nombre_recovered    16678\n",
    "Name: 537, dtype: int64"
   ]
  },
  {
   "cell_type": "markdown",
   "id": "eddb2a9f",
   "metadata": {},
   "source": [
    "nombre_infected       908\n",
    "nombre_sain          1980\n",
    "nombre_exposed        447\n",
    "nombre_recovered    16665\n",
    "Name: 538, dtype: int64"
   ]
  },
  {
   "cell_type": "markdown",
   "id": "e090c26a",
   "metadata": {},
   "source": [
    "nombre_infected       875\n",
    "nombre_sain          1959\n",
    "nombre_exposed        464\n",
    "nombre_recovered    16702\n",
    "Name: 539, dtype: int64"
   ]
  },
  {
   "cell_type": "markdown",
   "id": "b75e703a",
   "metadata": {},
   "source": [
    "nombre_infected       865\n",
    "nombre_sain          1961\n",
    "nombre_exposed        433\n",
    "nombre_recovered    16741\n",
    "Name: 540, dtype: int64"
   ]
  },
  {
   "cell_type": "markdown",
   "id": "198adc3f",
   "metadata": {},
   "source": [
    "nombre_infected       865\n",
    "nombre_sain          1961\n",
    "nombre_exposed        421\n",
    "nombre_recovered    16753\n",
    "Name: 541, dtype: int64"
   ]
  },
  {
   "cell_type": "markdown",
   "id": "89c27eae",
   "metadata": {},
   "source": [
    "nombre_infected       852\n",
    "nombre_sain          1953\n",
    "nombre_exposed        427\n",
    "nombre_recovered    16768\n",
    "Name: 542, dtype: int64"
   ]
  },
  {
   "cell_type": "markdown",
   "id": "c8a864ff",
   "metadata": {},
   "source": [
    "nombre_infected       872\n",
    "nombre_sain          1957\n",
    "nombre_exposed        407\n",
    "nombre_recovered    16764\n",
    "Name: 543, dtype: int64"
   ]
  },
  {
   "cell_type": "markdown",
   "id": "77c257d2",
   "metadata": {},
   "source": [
    "nombre_infected       858\n",
    "nombre_sain          1945\n",
    "nombre_exposed        438\n",
    "nombre_recovered    16759\n",
    "Name: 544, dtype: int64"
   ]
  },
  {
   "cell_type": "markdown",
   "id": "e84765c5",
   "metadata": {},
   "source": [
    "nombre_infected       859\n",
    "nombre_sain          1948\n",
    "nombre_exposed        429\n",
    "nombre_recovered    16764\n",
    "Name: 545, dtype: int64"
   ]
  },
  {
   "cell_type": "markdown",
   "id": "f303362e",
   "metadata": {},
   "source": [
    "nombre_infected       864\n",
    "nombre_sain          1959\n",
    "nombre_exposed        414\n",
    "nombre_recovered    16763\n",
    "Name: 546, dtype: int64"
   ]
  },
  {
   "cell_type": "markdown",
   "id": "99ae62a3",
   "metadata": {},
   "source": [
    "nombre_infected       841\n",
    "nombre_sain          1963\n",
    "nombre_exposed        408\n",
    "nombre_recovered    16788\n",
    "Name: 547, dtype: int64"
   ]
  },
  {
   "cell_type": "markdown",
   "id": "207e5729",
   "metadata": {},
   "source": [
    "nombre_infected       834\n",
    "nombre_sain          1984\n",
    "nombre_exposed        399\n",
    "nombre_recovered    16783\n",
    "Name: 548, dtype: int64"
   ]
  },
  {
   "cell_type": "markdown",
   "id": "d6b89411",
   "metadata": {},
   "source": [
    "nombre_infected       793\n",
    "nombre_sain          1981\n",
    "nombre_exposed        418\n",
    "nombre_recovered    16808\n",
    "Name: 549, dtype: int64"
   ]
  },
  {
   "cell_type": "markdown",
   "id": "baccb0c9",
   "metadata": {},
   "source": [
    "nombre_infected       787\n",
    "nombre_sain          1990\n",
    "nombre_exposed        411\n",
    "nombre_recovered    16812\n",
    "Name: 550, dtype: int64"
   ]
  },
  {
   "cell_type": "markdown",
   "id": "f45b38d5",
   "metadata": {},
   "source": [
    "nombre_infected       789\n",
    "nombre_sain          1995\n",
    "nombre_exposed        381\n",
    "nombre_recovered    16835\n",
    "Name: 551, dtype: int64"
   ]
  },
  {
   "cell_type": "markdown",
   "id": "ad14817c",
   "metadata": {},
   "source": [
    "nombre_infected       793\n",
    "nombre_sain          2021\n",
    "nombre_exposed        358\n",
    "nombre_recovered    16828\n",
    "Name: 552, dtype: int64"
   ]
  },
  {
   "cell_type": "markdown",
   "id": "fa3a7528",
   "metadata": {},
   "source": [
    "nombre_infected       779\n",
    "nombre_sain          2027\n",
    "nombre_exposed        363\n",
    "nombre_recovered    16831\n",
    "Name: 553, dtype: int64"
   ]
  },
  {
   "cell_type": "markdown",
   "id": "1a98851f",
   "metadata": {},
   "source": [
    "nombre_infected       771\n",
    "nombre_sain          2047\n",
    "nombre_exposed        359\n",
    "nombre_recovered    16823\n",
    "Name: 554, dtype: int64"
   ]
  },
  {
   "cell_type": "markdown",
   "id": "85229297",
   "metadata": {},
   "source": [
    "nombre_infected       767\n",
    "nombre_sain          2054\n",
    "nombre_exposed        376\n",
    "nombre_recovered    16803\n",
    "Name: 555, dtype: int64"
   ]
  },
  {
   "cell_type": "markdown",
   "id": "56196c56",
   "metadata": {},
   "source": [
    "nombre_infected       766\n",
    "nombre_sain          2071\n",
    "nombre_exposed        374\n",
    "nombre_recovered    16789\n",
    "Name: 556, dtype: int64"
   ]
  },
  {
   "cell_type": "markdown",
   "id": "8ca55e40",
   "metadata": {},
   "source": [
    "nombre_infected       751\n",
    "nombre_sain          2078\n",
    "nombre_exposed        390\n",
    "nombre_recovered    16781\n",
    "Name: 557, dtype: int64"
   ]
  },
  {
   "cell_type": "markdown",
   "id": "613e85df",
   "metadata": {},
   "source": [
    "nombre_infected       741\n",
    "nombre_sain          2079\n",
    "nombre_exposed        396\n",
    "nombre_recovered    16784\n",
    "Name: 558, dtype: int64"
   ]
  },
  {
   "cell_type": "markdown",
   "id": "1da2a0c0",
   "metadata": {},
   "source": [
    "nombre_infected       728\n",
    "nombre_sain          2107\n",
    "nombre_exposed        408\n",
    "nombre_recovered    16757\n",
    "Name: 559, dtype: int64"
   ]
  },
  {
   "cell_type": "markdown",
   "id": "44d1c9af",
   "metadata": {},
   "source": [
    "nombre_infected       724\n",
    "nombre_sain          2129\n",
    "nombre_exposed        407\n",
    "nombre_recovered    16740\n",
    "Name: 560, dtype: int64"
   ]
  },
  {
   "cell_type": "markdown",
   "id": "c6003e05",
   "metadata": {},
   "source": [
    "nombre_infected       742\n",
    "nombre_sain          2147\n",
    "nombre_exposed        392\n",
    "nombre_recovered    16719\n",
    "Name: 561, dtype: int64"
   ]
  },
  {
   "cell_type": "markdown",
   "id": "df9a9e9c",
   "metadata": {},
   "source": [
    "nombre_infected       761\n",
    "nombre_sain          2172\n",
    "nombre_exposed        369\n",
    "nombre_recovered    16698\n",
    "Name: 562, dtype: int64"
   ]
  },
  {
   "cell_type": "markdown",
   "id": "ec08b36c",
   "metadata": {},
   "source": [
    "nombre_infected       733\n",
    "nombre_sain          2201\n",
    "nombre_exposed        393\n",
    "nombre_recovered    16673\n",
    "Name: 563, dtype: int64"
   ]
  },
  {
   "cell_type": "markdown",
   "id": "f97659fb",
   "metadata": {},
   "source": [
    "nombre_infected       700\n",
    "nombre_sain          2223\n",
    "nombre_exposed        403\n",
    "nombre_recovered    16674\n",
    "Name: 564, dtype: int64"
   ]
  },
  {
   "cell_type": "markdown",
   "id": "cd22bfd2",
   "metadata": {},
   "source": [
    "nombre_infected       699\n",
    "nombre_sain          2254\n",
    "nombre_exposed        402\n",
    "nombre_recovered    16645\n",
    "Name: 565, dtype: int64"
   ]
  },
  {
   "cell_type": "markdown",
   "id": "f1b604e1",
   "metadata": {},
   "source": [
    "nombre_infected       713\n",
    "nombre_sain          2284\n",
    "nombre_exposed        378\n",
    "nombre_recovered    16625\n",
    "Name: 566, dtype: int64"
   ]
  },
  {
   "cell_type": "markdown",
   "id": "3deccf96",
   "metadata": {},
   "source": [
    "nombre_infected       717\n",
    "nombre_sain          2309\n",
    "nombre_exposed        369\n",
    "nombre_recovered    16605\n",
    "Name: 567, dtype: int64"
   ]
  },
  {
   "cell_type": "markdown",
   "id": "093a517f",
   "metadata": {},
   "source": [
    "nombre_infected       703\n",
    "nombre_sain          2324\n",
    "nombre_exposed        388\n",
    "nombre_recovered    16585\n",
    "Name: 568, dtype: int64"
   ]
  },
  {
   "cell_type": "markdown",
   "id": "3cb5e0e1",
   "metadata": {},
   "source": [
    "nombre_infected       695\n",
    "nombre_sain          2355\n",
    "nombre_exposed        403\n",
    "nombre_recovered    16547\n",
    "Name: 569, dtype: int64"
   ]
  },
  {
   "cell_type": "markdown",
   "id": "a132db0a",
   "metadata": {},
   "source": [
    "nombre_infected       720\n",
    "nombre_sain          2419\n",
    "nombre_exposed        384\n",
    "nombre_recovered    16477\n",
    "Name: 570, dtype: int64"
   ]
  },
  {
   "cell_type": "markdown",
   "id": "71c3618f",
   "metadata": {},
   "source": [
    "nombre_infected       733\n",
    "nombre_sain          2426\n",
    "nombre_exposed        398\n",
    "nombre_recovered    16443\n",
    "Name: 571, dtype: int64"
   ]
  },
  {
   "cell_type": "markdown",
   "id": "621bda84",
   "metadata": {},
   "source": [
    "nombre_infected       748\n",
    "nombre_sain          2431\n",
    "nombre_exposed        413\n",
    "nombre_recovered    16408\n",
    "Name: 572, dtype: int64"
   ]
  },
  {
   "cell_type": "markdown",
   "id": "42b9cb45",
   "metadata": {},
   "source": [
    "nombre_infected       745\n",
    "nombre_sain          2446\n",
    "nombre_exposed        436\n",
    "nombre_recovered    16373\n",
    "Name: 573, dtype: int64"
   ]
  },
  {
   "cell_type": "markdown",
   "id": "a94cdf25",
   "metadata": {},
   "source": [
    "nombre_infected       763\n",
    "nombre_sain          2474\n",
    "nombre_exposed        440\n",
    "nombre_recovered    16323\n",
    "Name: 574, dtype: int64"
   ]
  },
  {
   "cell_type": "markdown",
   "id": "5748c0fe",
   "metadata": {},
   "source": [
    "nombre_infected       761\n",
    "nombre_sain          2477\n",
    "nombre_exposed        456\n",
    "nombre_recovered    16306\n",
    "Name: 575, dtype: int64"
   ]
  },
  {
   "cell_type": "markdown",
   "id": "32310db6",
   "metadata": {},
   "source": [
    "nombre_infected       760\n",
    "nombre_sain          2500\n",
    "nombre_exposed        461\n",
    "nombre_recovered    16279\n",
    "Name: 576, dtype: int64"
   ]
  },
  {
   "cell_type": "markdown",
   "id": "3c0e2cba",
   "metadata": {},
   "source": [
    "nombre_infected       773\n",
    "nombre_sain          2536\n",
    "nombre_exposed        480\n",
    "nombre_recovered    16211\n",
    "Name: 577, dtype: int64"
   ]
  },
  {
   "cell_type": "markdown",
   "id": "042a47f2",
   "metadata": {},
   "source": [
    "nombre_infected       776\n",
    "nombre_sain          2533\n",
    "nombre_exposed        497\n",
    "nombre_recovered    16194\n",
    "Name: 578, dtype: int64"
   ]
  },
  {
   "cell_type": "markdown",
   "id": "891248c8",
   "metadata": {},
   "source": [
    "nombre_infected       786\n",
    "nombre_sain          2555\n",
    "nombre_exposed        497\n",
    "nombre_recovered    16162\n",
    "Name: 579, dtype: int64"
   ]
  },
  {
   "cell_type": "markdown",
   "id": "d7d2f434",
   "metadata": {},
   "source": [
    "nombre_infected       816\n",
    "nombre_sain          2577\n",
    "nombre_exposed        482\n",
    "nombre_recovered    16125\n",
    "Name: 580, dtype: int64"
   ]
  },
  {
   "cell_type": "markdown",
   "id": "9e69b29b",
   "metadata": {},
   "source": [
    "nombre_infected       806\n",
    "nombre_sain          2579\n",
    "nombre_exposed        503\n",
    "nombre_recovered    16112\n",
    "Name: 581, dtype: int64"
   ]
  },
  {
   "cell_type": "markdown",
   "id": "9fcdc96d",
   "metadata": {},
   "source": [
    "nombre_infected       797\n",
    "nombre_sain          2567\n",
    "nombre_exposed        519\n",
    "nombre_recovered    16117\n",
    "Name: 582, dtype: int64"
   ]
  },
  {
   "cell_type": "markdown",
   "id": "b6dea06e",
   "metadata": {},
   "source": [
    "nombre_infected       809\n",
    "nombre_sain          2596\n",
    "nombre_exposed        522\n",
    "nombre_recovered    16073\n",
    "Name: 583, dtype: int64"
   ]
  },
  {
   "cell_type": "markdown",
   "id": "689157a2",
   "metadata": {},
   "source": [
    "nombre_infected       827\n",
    "nombre_sain          2584\n",
    "nombre_exposed        529\n",
    "nombre_recovered    16060\n",
    "Name: 584, dtype: int64"
   ]
  },
  {
   "cell_type": "markdown",
   "id": "2686894a",
   "metadata": {},
   "source": [
    "nombre_infected       831\n",
    "nombre_sain          2598\n",
    "nombre_exposed        537\n",
    "nombre_recovered    16034\n",
    "Name: 585, dtype: int64"
   ]
  },
  {
   "cell_type": "markdown",
   "id": "4a555748",
   "metadata": {},
   "source": [
    "nombre_infected       851\n",
    "nombre_sain          2611\n",
    "nombre_exposed        543\n",
    "nombre_recovered    15995\n",
    "Name: 586, dtype: int64"
   ]
  },
  {
   "cell_type": "markdown",
   "id": "5acb1730",
   "metadata": {},
   "source": [
    "nombre_infected       829\n",
    "nombre_sain          2628\n",
    "nombre_exposed        541\n",
    "nombre_recovered    16002\n",
    "Name: 587, dtype: int64"
   ]
  },
  {
   "cell_type": "markdown",
   "id": "63f25943",
   "metadata": {},
   "source": [
    "nombre_infected       822\n",
    "nombre_sain          2616\n",
    "nombre_exposed        553\n",
    "nombre_recovered    16009\n",
    "Name: 588, dtype: int64"
   ]
  },
  {
   "cell_type": "markdown",
   "id": "0b6ea218",
   "metadata": {},
   "source": [
    "nombre_infected       820\n",
    "nombre_sain          2606\n",
    "nombre_exposed        559\n",
    "nombre_recovered    16015\n",
    "Name: 589, dtype: int64"
   ]
  },
  {
   "cell_type": "markdown",
   "id": "ecd52dff",
   "metadata": {},
   "source": [
    "nombre_infected       827\n",
    "nombre_sain          2618\n",
    "nombre_exposed        544\n",
    "nombre_recovered    16011\n",
    "Name: 590, dtype: int64"
   ]
  },
  {
   "cell_type": "markdown",
   "id": "d681cff2",
   "metadata": {},
   "source": [
    "nombre_infected       850\n",
    "nombre_sain          2600\n",
    "nombre_exposed        545\n",
    "nombre_recovered    16005\n",
    "Name: 591, dtype: int64"
   ]
  },
  {
   "cell_type": "markdown",
   "id": "012b062c",
   "metadata": {},
   "source": [
    "nombre_infected       860\n",
    "nombre_sain          2600\n",
    "nombre_exposed        547\n",
    "nombre_recovered    15993\n",
    "Name: 592, dtype: int64"
   ]
  },
  {
   "cell_type": "markdown",
   "id": "4313e0d2",
   "metadata": {},
   "source": [
    "nombre_infected       881\n",
    "nombre_sain          2549\n",
    "nombre_exposed        575\n",
    "nombre_recovered    15995\n",
    "Name: 593, dtype: int64"
   ]
  },
  {
   "cell_type": "markdown",
   "id": "b1843aaa",
   "metadata": {},
   "source": [
    "nombre_infected       918\n",
    "nombre_sain          2520\n",
    "nombre_exposed        574\n",
    "nombre_recovered    15988\n",
    "Name: 594, dtype: int64"
   ]
  },
  {
   "cell_type": "markdown",
   "id": "45eff181",
   "metadata": {},
   "source": [
    "nombre_infected       930\n",
    "nombre_sain          2522\n",
    "nombre_exposed        556\n",
    "nombre_recovered    15992\n",
    "Name: 595, dtype: int64"
   ]
  },
  {
   "cell_type": "markdown",
   "id": "7ef1e99d",
   "metadata": {},
   "source": [
    "nombre_infected       930\n",
    "nombre_sain          2522\n",
    "nombre_exposed        559\n",
    "nombre_recovered    15989\n",
    "Name: 596, dtype: int64"
   ]
  },
  {
   "cell_type": "markdown",
   "id": "0143f7dc",
   "metadata": {},
   "source": [
    "nombre_infected       928\n",
    "nombre_sain          2503\n",
    "nombre_exposed        567\n",
    "nombre_recovered    16002\n",
    "Name: 597, dtype: int64"
   ]
  },
  {
   "cell_type": "markdown",
   "id": "59c9534d",
   "metadata": {},
   "source": [
    "nombre_infected       954\n",
    "nombre_sain          2458\n",
    "nombre_exposed        585\n",
    "nombre_recovered    16003\n",
    "Name: 598, dtype: int64"
   ]
  },
  {
   "cell_type": "markdown",
   "id": "7f429160",
   "metadata": {},
   "source": [
    "nombre_infected       952\n",
    "nombre_sain          2430\n",
    "nombre_exposed        594\n",
    "nombre_recovered    16024\n",
    "Name: 599, dtype: int64"
   ]
  },
  {
   "cell_type": "markdown",
   "id": "222662b4",
   "metadata": {},
   "source": [
    "nombre_infected       966\n",
    "nombre_sain          2353\n",
    "nombre_exposed        622\n",
    "nombre_recovered    16059\n",
    "Name: 600, dtype: int64"
   ]
  },
  {
   "cell_type": "markdown",
   "id": "8e47a3d1",
   "metadata": {},
   "source": [
    "nombre_infected       961\n",
    "nombre_sain          2303\n",
    "nombre_exposed        636\n",
    "nombre_recovered    16100\n",
    "Name: 601, dtype: int64"
   ]
  },
  {
   "cell_type": "markdown",
   "id": "3ab1eb52",
   "metadata": {},
   "source": [
    "nombre_infected      1000\n",
    "nombre_sain          2262\n",
    "nombre_exposed        630\n",
    "nombre_recovered    16108\n",
    "Name: 602, dtype: int64"
   ]
  },
  {
   "cell_type": "markdown",
   "id": "71142503",
   "metadata": {},
   "source": [
    "nombre_infected       988\n",
    "nombre_sain          2228\n",
    "nombre_exposed        641\n",
    "nombre_recovered    16143\n",
    "Name: 603, dtype: int64"
   ]
  },
  {
   "cell_type": "markdown",
   "id": "25810261",
   "metadata": {},
   "source": [
    "nombre_infected       997\n",
    "nombre_sain          2211\n",
    "nombre_exposed        632\n",
    "nombre_recovered    16160\n",
    "Name: 604, dtype: int64"
   ]
  },
  {
   "cell_type": "markdown",
   "id": "092c7e05",
   "metadata": {},
   "source": [
    "nombre_infected      1015\n",
    "nombre_sain          2195\n",
    "nombre_exposed        606\n",
    "nombre_recovered    16184\n",
    "Name: 605, dtype: int64"
   ]
  },
  {
   "cell_type": "markdown",
   "id": "c4592e6f",
   "metadata": {},
   "source": [
    "nombre_infected      1007\n",
    "nombre_sain          2192\n",
    "nombre_exposed        585\n",
    "nombre_recovered    16216\n",
    "Name: 606, dtype: int64"
   ]
  },
  {
   "cell_type": "markdown",
   "id": "782e175b",
   "metadata": {},
   "source": [
    "nombre_infected      1004\n",
    "nombre_sain          2143\n",
    "nombre_exposed        599\n",
    "nombre_recovered    16254\n",
    "Name: 607, dtype: int64"
   ]
  },
  {
   "cell_type": "markdown",
   "id": "a96a1fa5",
   "metadata": {},
   "source": [
    "nombre_infected       993\n",
    "nombre_sain          2088\n",
    "nombre_exposed        624\n",
    "nombre_recovered    16295\n",
    "Name: 608, dtype: int64"
   ]
  },
  {
   "cell_type": "markdown",
   "id": "40b609d7",
   "metadata": {},
   "source": [
    "nombre_infected       987\n",
    "nombre_sain          2090\n",
    "nombre_exposed        597\n",
    "nombre_recovered    16326\n",
    "Name: 609, dtype: int64"
   ]
  },
  {
   "cell_type": "markdown",
   "id": "c4eaa452",
   "metadata": {},
   "source": [
    "nombre_infected       999\n",
    "nombre_sain          2073\n",
    "nombre_exposed        591\n",
    "nombre_recovered    16337\n",
    "Name: 610, dtype: int64"
   ]
  },
  {
   "cell_type": "markdown",
   "id": "d27fa99b",
   "metadata": {},
   "source": [
    "nombre_infected      1002\n",
    "nombre_sain          2039\n",
    "nombre_exposed        600\n",
    "nombre_recovered    16359\n",
    "Name: 611, dtype: int64"
   ]
  },
  {
   "cell_type": "markdown",
   "id": "aa17b967",
   "metadata": {},
   "source": [
    "nombre_infected      1007\n",
    "nombre_sain          2051\n",
    "nombre_exposed        571\n",
    "nombre_recovered    16371\n",
    "Name: 612, dtype: int64"
   ]
  },
  {
   "cell_type": "markdown",
   "id": "db804a70",
   "metadata": {},
   "source": [
    "nombre_infected      1018\n",
    "nombre_sain          2047\n",
    "nombre_exposed        551\n",
    "nombre_recovered    16384\n",
    "Name: 613, dtype: int64"
   ]
  },
  {
   "cell_type": "markdown",
   "id": "1471aa75",
   "metadata": {},
   "source": [
    "nombre_infected      1007\n",
    "nombre_sain          2015\n",
    "nombre_exposed        570\n",
    "nombre_recovered    16408\n",
    "Name: 614, dtype: int64"
   ]
  },
  {
   "cell_type": "markdown",
   "id": "8c806ffa",
   "metadata": {},
   "source": [
    "nombre_infected      1021\n",
    "nombre_sain          1977\n",
    "nombre_exposed        557\n",
    "nombre_recovered    16445\n",
    "Name: 615, dtype: int64"
   ]
  },
  {
   "cell_type": "markdown",
   "id": "921e25d0",
   "metadata": {},
   "source": [
    "nombre_infected      1011\n",
    "nombre_sain          1942\n",
    "nombre_exposed        573\n",
    "nombre_recovered    16474\n",
    "Name: 616, dtype: int64"
   ]
  },
  {
   "cell_type": "markdown",
   "id": "91c484d5",
   "metadata": {},
   "source": [
    "nombre_infected      1025\n",
    "nombre_sain          1941\n",
    "nombre_exposed        556\n",
    "nombre_recovered    16478\n",
    "Name: 617, dtype: int64"
   ]
  },
  {
   "cell_type": "markdown",
   "id": "87951fbc",
   "metadata": {},
   "source": [
    "nombre_infected      1020\n",
    "nombre_sain          1927\n",
    "nombre_exposed        565\n",
    "nombre_recovered    16488\n",
    "Name: 618, dtype: int64"
   ]
  },
  {
   "cell_type": "markdown",
   "id": "f9cc1178",
   "metadata": {},
   "source": [
    "nombre_infected      1037\n",
    "nombre_sain          1915\n",
    "nombre_exposed        563\n",
    "nombre_recovered    16485\n",
    "Name: 619, dtype: int64"
   ]
  },
  {
   "cell_type": "markdown",
   "id": "302ca8ee",
   "metadata": {},
   "source": [
    "nombre_infected      1012\n",
    "nombre_sain          1929\n",
    "nombre_exposed        554\n",
    "nombre_recovered    16505\n",
    "Name: 620, dtype: int64"
   ]
  },
  {
   "cell_type": "markdown",
   "id": "c44e488d",
   "metadata": {},
   "source": [
    "nombre_infected      1034\n",
    "nombre_sain          1946\n",
    "nombre_exposed        538\n",
    "nombre_recovered    16482\n",
    "Name: 621, dtype: int64"
   ]
  },
  {
   "cell_type": "markdown",
   "id": "57620cd3",
   "metadata": {},
   "source": [
    "nombre_infected      1023\n",
    "nombre_sain          1963\n",
    "nombre_exposed        543\n",
    "nombre_recovered    16471\n",
    "Name: 622, dtype: int64"
   ]
  },
  {
   "cell_type": "markdown",
   "id": "5112e592",
   "metadata": {},
   "source": [
    "nombre_infected      1019\n",
    "nombre_sain          1948\n",
    "nombre_exposed        546\n",
    "nombre_recovered    16487\n",
    "Name: 623, dtype: int64"
   ]
  },
  {
   "cell_type": "markdown",
   "id": "e26e18bd",
   "metadata": {},
   "source": [
    "nombre_infected      1028\n",
    "nombre_sain          1966\n",
    "nombre_exposed        526\n",
    "nombre_recovered    16480\n",
    "Name: 624, dtype: int64"
   ]
  },
  {
   "cell_type": "markdown",
   "id": "39a516e0",
   "metadata": {},
   "source": [
    "nombre_infected       993\n",
    "nombre_sain          1972\n",
    "nombre_exposed        538\n",
    "nombre_recovered    16497\n",
    "Name: 625, dtype: int64"
   ]
  },
  {
   "cell_type": "markdown",
   "id": "3d453087",
   "metadata": {},
   "source": [
    "nombre_infected      1004\n",
    "nombre_sain          1983\n",
    "nombre_exposed        519\n",
    "nombre_recovered    16494\n",
    "Name: 626, dtype: int64"
   ]
  },
  {
   "cell_type": "markdown",
   "id": "456e306b",
   "metadata": {},
   "source": [
    "nombre_infected      1011\n",
    "nombre_sain          1980\n",
    "nombre_exposed        505\n",
    "nombre_recovered    16504\n",
    "Name: 627, dtype: int64"
   ]
  },
  {
   "cell_type": "markdown",
   "id": "e8f9204a",
   "metadata": {},
   "source": [
    "nombre_infected      1004\n",
    "nombre_sain          1981\n",
    "nombre_exposed        505\n",
    "nombre_recovered    16510\n",
    "Name: 628, dtype: int64"
   ]
  },
  {
   "cell_type": "markdown",
   "id": "7c35c06c",
   "metadata": {},
   "source": [
    "nombre_infected       979\n",
    "nombre_sain          1999\n",
    "nombre_exposed        524\n",
    "nombre_recovered    16498\n",
    "Name: 629, dtype: int64"
   ]
  },
  {
   "cell_type": "markdown",
   "id": "f9a578be",
   "metadata": {},
   "source": [
    "nombre_infected       971\n",
    "nombre_sain          2013\n",
    "nombre_exposed        519\n",
    "nombre_recovered    16497\n",
    "Name: 630, dtype: int64"
   ]
  },
  {
   "cell_type": "markdown",
   "id": "901f6806",
   "metadata": {},
   "source": [
    "nombre_infected       965\n",
    "nombre_sain          2015\n",
    "nombre_exposed        507\n",
    "nombre_recovered    16513\n",
    "Name: 631, dtype: int64"
   ]
  },
  {
   "cell_type": "markdown",
   "id": "874159f8",
   "metadata": {},
   "source": [
    "nombre_infected       963\n",
    "nombre_sain          2022\n",
    "nombre_exposed        516\n",
    "nombre_recovered    16499\n",
    "Name: 632, dtype: int64"
   ]
  },
  {
   "cell_type": "markdown",
   "id": "ba645881",
   "metadata": {},
   "source": [
    "nombre_infected       950\n",
    "nombre_sain          2058\n",
    "nombre_exposed        507\n",
    "nombre_recovered    16485\n",
    "Name: 633, dtype: int64"
   ]
  },
  {
   "cell_type": "markdown",
   "id": "aebb7155",
   "metadata": {},
   "source": [
    "nombre_infected       946\n",
    "nombre_sain          2059\n",
    "nombre_exposed        507\n",
    "nombre_recovered    16488\n",
    "Name: 634, dtype: int64"
   ]
  },
  {
   "cell_type": "markdown",
   "id": "62527166",
   "metadata": {},
   "source": [
    "nombre_infected       948\n",
    "nombre_sain          2019\n",
    "nombre_exposed        536\n",
    "nombre_recovered    16497\n",
    "Name: 635, dtype: int64"
   ]
  },
  {
   "cell_type": "markdown",
   "id": "09368bfd",
   "metadata": {},
   "source": [
    "nombre_infected       956\n",
    "nombre_sain          2034\n",
    "nombre_exposed        538\n",
    "nombre_recovered    16472\n",
    "Name: 636, dtype: int64"
   ]
  },
  {
   "cell_type": "markdown",
   "id": "f8916e23",
   "metadata": {},
   "source": [
    "nombre_infected       986\n",
    "nombre_sain          2023\n",
    "nombre_exposed        529\n",
    "nombre_recovered    16462\n",
    "Name: 637, dtype: int64"
   ]
  },
  {
   "cell_type": "markdown",
   "id": "c966a633",
   "metadata": {},
   "source": [
    "nombre_infected       981\n",
    "nombre_sain          2010\n",
    "nombre_exposed        541\n",
    "nombre_recovered    16468\n",
    "Name: 638, dtype: int64"
   ]
  },
  {
   "cell_type": "markdown",
   "id": "8cbb998f",
   "metadata": {},
   "source": [
    "nombre_infected       984\n",
    "nombre_sain          2006\n",
    "nombre_exposed        537\n",
    "nombre_recovered    16473\n",
    "Name: 639, dtype: int64"
   ]
  },
  {
   "cell_type": "markdown",
   "id": "84c924cd",
   "metadata": {},
   "source": [
    "nombre_infected       993\n",
    "nombre_sain          2014\n",
    "nombre_exposed        526\n",
    "nombre_recovered    16467\n",
    "Name: 640, dtype: int64"
   ]
  },
  {
   "cell_type": "markdown",
   "id": "df08317d",
   "metadata": {},
   "source": [
    "nombre_infected       982\n",
    "nombre_sain          2009\n",
    "nombre_exposed        532\n",
    "nombre_recovered    16477\n",
    "Name: 641, dtype: int64"
   ]
  },
  {
   "cell_type": "markdown",
   "id": "98ea905f",
   "metadata": {},
   "source": [
    "nombre_infected       978\n",
    "nombre_sain          1982\n",
    "nombre_exposed        549\n",
    "nombre_recovered    16491\n",
    "Name: 642, dtype: int64"
   ]
  },
  {
   "cell_type": "markdown",
   "id": "d9429cce",
   "metadata": {},
   "source": [
    "nombre_infected       976\n",
    "nombre_sain          1980\n",
    "nombre_exposed        537\n",
    "nombre_recovered    16507\n",
    "Name: 643, dtype: int64"
   ]
  },
  {
   "cell_type": "markdown",
   "id": "0bb8b5e7",
   "metadata": {},
   "source": [
    "nombre_infected      1012\n",
    "nombre_sain          1990\n",
    "nombre_exposed        509\n",
    "nombre_recovered    16489\n",
    "Name: 644, dtype: int64"
   ]
  },
  {
   "cell_type": "markdown",
   "id": "9cfbee80",
   "metadata": {},
   "source": [
    "nombre_infected      1019\n",
    "nombre_sain          1977\n",
    "nombre_exposed        500\n",
    "nombre_recovered    16504\n",
    "Name: 645, dtype: int64"
   ]
  },
  {
   "cell_type": "markdown",
   "id": "0299aa1f",
   "metadata": {},
   "source": [
    "nombre_infected      1005\n",
    "nombre_sain          1952\n",
    "nombre_exposed        503\n",
    "nombre_recovered    16540\n",
    "Name: 646, dtype: int64"
   ]
  },
  {
   "cell_type": "markdown",
   "id": "68fa6bce",
   "metadata": {},
   "source": [
    "nombre_infected       987\n",
    "nombre_sain          1921\n",
    "nombre_exposed        526\n",
    "nombre_recovered    16566\n",
    "Name: 647, dtype: int64"
   ]
  },
  {
   "cell_type": "markdown",
   "id": "59a61e41",
   "metadata": {},
   "source": [
    "nombre_infected       973\n",
    "nombre_sain          1909\n",
    "nombre_exposed        535\n",
    "nombre_recovered    16583\n",
    "Name: 648, dtype: int64"
   ]
  },
  {
   "cell_type": "markdown",
   "id": "7d0652fa",
   "metadata": {},
   "source": [
    "nombre_infected       984\n",
    "nombre_sain          1908\n",
    "nombre_exposed        516\n",
    "nombre_recovered    16592\n",
    "Name: 649, dtype: int64"
   ]
  },
  {
   "cell_type": "markdown",
   "id": "3a336ded",
   "metadata": {},
   "source": [
    "nombre_infected       998\n",
    "nombre_sain          1885\n",
    "nombre_exposed        509\n",
    "nombre_recovered    16608\n",
    "Name: 650, dtype: int64"
   ]
  },
  {
   "cell_type": "markdown",
   "id": "ea256793",
   "metadata": {},
   "source": [
    "nombre_infected      1006\n",
    "nombre_sain          1871\n",
    "nombre_exposed        518\n",
    "nombre_recovered    16605\n",
    "Name: 651, dtype: int64"
   ]
  },
  {
   "cell_type": "markdown",
   "id": "23711e17",
   "metadata": {},
   "source": [
    "nombre_infected      1019\n",
    "nombre_sain          1879\n",
    "nombre_exposed        508\n",
    "nombre_recovered    16594\n",
    "Name: 652, dtype: int64"
   ]
  },
  {
   "cell_type": "markdown",
   "id": "39ada24c",
   "metadata": {},
   "source": [
    "nombre_infected      1012\n",
    "nombre_sain          1865\n",
    "nombre_exposed        496\n",
    "nombre_recovered    16627\n",
    "Name: 653, dtype: int64"
   ]
  },
  {
   "cell_type": "markdown",
   "id": "05b48e54",
   "metadata": {},
   "source": [
    "nombre_infected       992\n",
    "nombre_sain          1861\n",
    "nombre_exposed        504\n",
    "nombre_recovered    16643\n",
    "Name: 654, dtype: int64"
   ]
  },
  {
   "cell_type": "markdown",
   "id": "63bbe86a",
   "metadata": {},
   "source": [
    "nombre_infected       993\n",
    "nombre_sain          1907\n",
    "nombre_exposed        465\n",
    "nombre_recovered    16635\n",
    "Name: 655, dtype: int64"
   ]
  },
  {
   "cell_type": "markdown",
   "id": "1d3f39e6",
   "metadata": {},
   "source": [
    "nombre_infected       992\n",
    "nombre_sain          1939\n",
    "nombre_exposed        455\n",
    "nombre_recovered    16614\n",
    "Name: 656, dtype: int64"
   ]
  },
  {
   "cell_type": "markdown",
   "id": "b80a3ea4",
   "metadata": {},
   "source": [
    "nombre_infected       978\n",
    "nombre_sain          1918\n",
    "nombre_exposed        461\n",
    "nombre_recovered    16643\n",
    "Name: 657, dtype: int64"
   ]
  },
  {
   "cell_type": "markdown",
   "id": "1cfd4aac",
   "metadata": {},
   "source": [
    "nombre_infected       998\n",
    "nombre_sain          1918\n",
    "nombre_exposed        472\n",
    "nombre_recovered    16612\n",
    "Name: 658, dtype: int64"
   ]
  },
  {
   "cell_type": "markdown",
   "id": "eb489a4d",
   "metadata": {},
   "source": [
    "nombre_infected       997\n",
    "nombre_sain          1915\n",
    "nombre_exposed        488\n",
    "nombre_recovered    16600\n",
    "Name: 659, dtype: int64"
   ]
  },
  {
   "cell_type": "markdown",
   "id": "2277a401",
   "metadata": {},
   "source": [
    "nombre_infected       992\n",
    "nombre_sain          1897\n",
    "nombre_exposed        503\n",
    "nombre_recovered    16608\n",
    "Name: 660, dtype: int64"
   ]
  },
  {
   "cell_type": "markdown",
   "id": "26be91da",
   "metadata": {},
   "source": [
    "nombre_infected       978\n",
    "nombre_sain          1920\n",
    "nombre_exposed        510\n",
    "nombre_recovered    16592\n",
    "Name: 661, dtype: int64"
   ]
  },
  {
   "cell_type": "markdown",
   "id": "aa82b7a5",
   "metadata": {},
   "source": [
    "nombre_infected       999\n",
    "nombre_sain          1911\n",
    "nombre_exposed        504\n",
    "nombre_recovered    16586\n",
    "Name: 662, dtype: int64"
   ]
  },
  {
   "cell_type": "markdown",
   "id": "d25dbaf4",
   "metadata": {},
   "source": [
    "nombre_infected       995\n",
    "nombre_sain          1941\n",
    "nombre_exposed        501\n",
    "nombre_recovered    16563\n",
    "Name: 663, dtype: int64"
   ]
  },
  {
   "cell_type": "markdown",
   "id": "5a20162b",
   "metadata": {},
   "source": [
    "nombre_infected       970\n",
    "nombre_sain          1937\n",
    "nombre_exposed        509\n",
    "nombre_recovered    16584\n",
    "Name: 664, dtype: int64"
   ]
  },
  {
   "cell_type": "markdown",
   "id": "bf1534cf",
   "metadata": {},
   "source": [
    "nombre_infected       969\n",
    "nombre_sain          1941\n",
    "nombre_exposed        484\n",
    "nombre_recovered    16606\n",
    "Name: 665, dtype: int64"
   ]
  },
  {
   "cell_type": "markdown",
   "id": "b60bb509",
   "metadata": {},
   "source": [
    "nombre_infected       973\n",
    "nombre_sain          1943\n",
    "nombre_exposed        462\n",
    "nombre_recovered    16622\n",
    "Name: 666, dtype: int64"
   ]
  },
  {
   "cell_type": "markdown",
   "id": "cc12eb7b",
   "metadata": {},
   "source": [
    "nombre_infected       954\n",
    "nombre_sain          1942\n",
    "nombre_exposed        476\n",
    "nombre_recovered    16628\n",
    "Name: 667, dtype: int64"
   ]
  },
  {
   "cell_type": "markdown",
   "id": "33e16554",
   "metadata": {},
   "source": [
    "nombre_infected       926\n",
    "nombre_sain          1937\n",
    "nombre_exposed        491\n",
    "nombre_recovered    16646\n",
    "Name: 668, dtype: int64"
   ]
  },
  {
   "cell_type": "markdown",
   "id": "fe6d77f2",
   "metadata": {},
   "source": [
    "nombre_infected       936\n",
    "nombre_sain          1934\n",
    "nombre_exposed        471\n",
    "nombre_recovered    16659\n",
    "Name: 669, dtype: int64"
   ]
  },
  {
   "cell_type": "markdown",
   "id": "e9bf162a",
   "metadata": {},
   "source": [
    "nombre_infected       955\n",
    "nombre_sain          1951\n",
    "nombre_exposed        455\n",
    "nombre_recovered    16639\n",
    "Name: 670, dtype: int64"
   ]
  },
  {
   "cell_type": "markdown",
   "id": "7cd0276e",
   "metadata": {},
   "source": [
    "nombre_infected       957\n",
    "nombre_sain          1941\n",
    "nombre_exposed        478\n",
    "nombre_recovered    16624\n",
    "Name: 671, dtype: int64"
   ]
  },
  {
   "cell_type": "markdown",
   "id": "db4fefd8",
   "metadata": {},
   "source": [
    "nombre_infected       950\n",
    "nombre_sain          1939\n",
    "nombre_exposed        486\n",
    "nombre_recovered    16625\n",
    "Name: 672, dtype: int64"
   ]
  },
  {
   "cell_type": "markdown",
   "id": "7ee6ddf5",
   "metadata": {},
   "source": [
    "nombre_infected       973\n",
    "nombre_sain          1922\n",
    "nombre_exposed        475\n",
    "nombre_recovered    16630\n",
    "Name: 673, dtype: int64"
   ]
  },
  {
   "cell_type": "markdown",
   "id": "3d2eccb8",
   "metadata": {},
   "source": [
    "nombre_infected       958\n",
    "nombre_sain          1910\n",
    "nombre_exposed        489\n",
    "nombre_recovered    16643\n",
    "Name: 674, dtype: int64"
   ]
  },
  {
   "cell_type": "markdown",
   "id": "0d967366",
   "metadata": {},
   "source": [
    "nombre_infected       960\n",
    "nombre_sain          1887\n",
    "nombre_exposed        493\n",
    "nombre_recovered    16660\n",
    "Name: 675, dtype: int64"
   ]
  },
  {
   "cell_type": "markdown",
   "id": "5cbed9b4",
   "metadata": {},
   "source": [
    "nombre_infected       954\n",
    "nombre_sain          1908\n",
    "nombre_exposed        481\n",
    "nombre_recovered    16657\n",
    "Name: 676, dtype: int64"
   ]
  },
  {
   "cell_type": "markdown",
   "id": "87dbd262",
   "metadata": {},
   "source": [
    "nombre_infected       939\n",
    "nombre_sain          1921\n",
    "nombre_exposed        472\n",
    "nombre_recovered    16668\n",
    "Name: 677, dtype: int64"
   ]
  },
  {
   "cell_type": "markdown",
   "id": "dc06114a",
   "metadata": {},
   "source": [
    "nombre_infected       957\n",
    "nombre_sain          1927\n",
    "nombre_exposed        462\n",
    "nombre_recovered    16654\n",
    "Name: 678, dtype: int64"
   ]
  },
  {
   "cell_type": "markdown",
   "id": "2baa0431",
   "metadata": {},
   "source": [
    "nombre_infected       969\n",
    "nombre_sain          1946\n",
    "nombre_exposed        430\n",
    "nombre_recovered    16655\n",
    "Name: 679, dtype: int64"
   ]
  },
  {
   "cell_type": "markdown",
   "id": "c6c46b9e",
   "metadata": {},
   "source": [
    "nombre_infected       953\n",
    "nombre_sain          1934\n",
    "nombre_exposed        438\n",
    "nombre_recovered    16675\n",
    "Name: 680, dtype: int64"
   ]
  },
  {
   "cell_type": "markdown",
   "id": "7f0516bb",
   "metadata": {},
   "source": [
    "nombre_infected       910\n",
    "nombre_sain          1931\n",
    "nombre_exposed        464\n",
    "nombre_recovered    16695\n",
    "Name: 681, dtype: int64"
   ]
  },
  {
   "cell_type": "markdown",
   "id": "e2673136",
   "metadata": {},
   "source": [
    "nombre_infected       905\n",
    "nombre_sain          1944\n",
    "nombre_exposed        453\n",
    "nombre_recovered    16698\n",
    "Name: 682, dtype: int64"
   ]
  },
  {
   "cell_type": "markdown",
   "id": "b6b745b1",
   "metadata": {},
   "source": [
    "nombre_infected       914\n",
    "nombre_sain          1952\n",
    "nombre_exposed        450\n",
    "nombre_recovered    16684\n",
    "Name: 683, dtype: int64"
   ]
  },
  {
   "cell_type": "markdown",
   "id": "7e1ec92c",
   "metadata": {},
   "source": [
    "nombre_infected       898\n",
    "nombre_sain          1951\n",
    "nombre_exposed        460\n",
    "nombre_recovered    16691\n",
    "Name: 684, dtype: int64"
   ]
  },
  {
   "cell_type": "markdown",
   "id": "92d7ab16",
   "metadata": {},
   "source": [
    "nombre_infected       905\n",
    "nombre_sain          1967\n",
    "nombre_exposed        430\n",
    "nombre_recovered    16698\n",
    "Name: 685, dtype: int64"
   ]
  },
  {
   "cell_type": "markdown",
   "id": "d68f74fb",
   "metadata": {},
   "source": [
    "nombre_infected       889\n",
    "nombre_sain          1997\n",
    "nombre_exposed        399\n",
    "nombre_recovered    16715\n",
    "Name: 686, dtype: int64"
   ]
  },
  {
   "cell_type": "markdown",
   "id": "1a4989f5",
   "metadata": {},
   "source": [
    "nombre_infected       856\n",
    "nombre_sain          1988\n",
    "nombre_exposed        414\n",
    "nombre_recovered    16742\n",
    "Name: 687, dtype: int64"
   ]
  },
  {
   "cell_type": "markdown",
   "id": "20887760",
   "metadata": {},
   "source": [
    "nombre_infected       853\n",
    "nombre_sain          2000\n",
    "nombre_exposed        401\n",
    "nombre_recovered    16746\n",
    "Name: 688, dtype: int64"
   ]
  },
  {
   "cell_type": "markdown",
   "id": "39439c5e",
   "metadata": {},
   "source": [
    "nombre_infected       856\n",
    "nombre_sain          2003\n",
    "nombre_exposed        406\n",
    "nombre_recovered    16735\n",
    "Name: 689, dtype: int64"
   ]
  },
  {
   "cell_type": "markdown",
   "id": "12e34b32",
   "metadata": {},
   "source": [
    "nombre_infected       835\n",
    "nombre_sain          1994\n",
    "nombre_exposed        425\n",
    "nombre_recovered    16746\n",
    "Name: 690, dtype: int64"
   ]
  },
  {
   "cell_type": "markdown",
   "id": "ec64b739",
   "metadata": {},
   "source": [
    "nombre_infected       838\n",
    "nombre_sain          1993\n",
    "nombre_exposed        425\n",
    "nombre_recovered    16744\n",
    "Name: 691, dtype: int64"
   ]
  },
  {
   "cell_type": "markdown",
   "id": "2b8dd5f0",
   "metadata": {},
   "source": [
    "nombre_infected       824\n",
    "nombre_sain          1995\n",
    "nombre_exposed        454\n",
    "nombre_recovered    16727\n",
    "Name: 692, dtype: int64"
   ]
  },
  {
   "cell_type": "markdown",
   "id": "653562a6",
   "metadata": {},
   "source": [
    "nombre_infected       818\n",
    "nombre_sain          1998\n",
    "nombre_exposed        457\n",
    "nombre_recovered    16727\n",
    "Name: 693, dtype: int64"
   ]
  },
  {
   "cell_type": "markdown",
   "id": "e71222b9",
   "metadata": {},
   "source": [
    "nombre_infected       840\n",
    "nombre_sain          2005\n",
    "nombre_exposed        422\n",
    "nombre_recovered    16733\n",
    "Name: 694, dtype: int64"
   ]
  },
  {
   "cell_type": "markdown",
   "id": "b2a969a5",
   "metadata": {},
   "source": [
    "nombre_infected       842\n",
    "nombre_sain          2006\n",
    "nombre_exposed        421\n",
    "nombre_recovered    16731\n",
    "Name: 695, dtype: int64"
   ]
  },
  {
   "cell_type": "markdown",
   "id": "f03c93b9",
   "metadata": {},
   "source": [
    "nombre_infected       838\n",
    "nombre_sain          1996\n",
    "nombre_exposed        439\n",
    "nombre_recovered    16727\n",
    "Name: 696, dtype: int64"
   ]
  },
  {
   "cell_type": "markdown",
   "id": "8b427981",
   "metadata": {},
   "source": [
    "nombre_infected       860\n",
    "nombre_sain          2004\n",
    "nombre_exposed        432\n",
    "nombre_recovered    16704\n",
    "Name: 697, dtype: int64"
   ]
  },
  {
   "cell_type": "markdown",
   "id": "20704bb3",
   "metadata": {},
   "source": [
    "nombre_infected       882\n",
    "nombre_sain          1996\n",
    "nombre_exposed        425\n",
    "nombre_recovered    16697\n",
    "Name: 698, dtype: int64"
   ]
  },
  {
   "cell_type": "markdown",
   "id": "82b452a2",
   "metadata": {},
   "source": [
    "nombre_infected       888\n",
    "nombre_sain          1992\n",
    "nombre_exposed        439\n",
    "nombre_recovered    16681\n",
    "Name: 699, dtype: int64"
   ]
  },
  {
   "cell_type": "markdown",
   "id": "ea7eb635",
   "metadata": {},
   "source": [
    "nombre_infected       894\n",
    "nombre_sain          2002\n",
    "nombre_exposed        420\n",
    "nombre_recovered    16684\n",
    "Name: 700, dtype: int64"
   ]
  },
  {
   "cell_type": "markdown",
   "id": "fa0a2ec4",
   "metadata": {},
   "source": [
    "nombre_infected       913\n",
    "nombre_sain          2005\n",
    "nombre_exposed        403\n",
    "nombre_recovered    16679\n",
    "Name: 701, dtype: int64"
   ]
  },
  {
   "cell_type": "markdown",
   "id": "3ce00cce",
   "metadata": {},
   "source": [
    "nombre_infected       923\n",
    "nombre_sain          1997\n",
    "nombre_exposed        412\n",
    "nombre_recovered    16668\n",
    "Name: 702, dtype: int64"
   ]
  },
  {
   "cell_type": "markdown",
   "id": "6e23c801",
   "metadata": {},
   "source": [
    "nombre_infected       897\n",
    "nombre_sain          1991\n",
    "nombre_exposed        437\n",
    "nombre_recovered    16675\n",
    "Name: 703, dtype: int64"
   ]
  },
  {
   "cell_type": "markdown",
   "id": "94a08b4a",
   "metadata": {},
   "source": [
    "nombre_infected       892\n",
    "nombre_sain          2003\n",
    "nombre_exposed        444\n",
    "nombre_recovered    16661\n",
    "Name: 704, dtype: int64"
   ]
  },
  {
   "cell_type": "markdown",
   "id": "7589f344",
   "metadata": {},
   "source": [
    "nombre_infected       882\n",
    "nombre_sain          1993\n",
    "nombre_exposed        443\n",
    "nombre_recovered    16682\n",
    "Name: 705, dtype: int64"
   ]
  },
  {
   "cell_type": "markdown",
   "id": "eef6a7d7",
   "metadata": {},
   "source": [
    "nombre_infected       863\n",
    "nombre_sain          1992\n",
    "nombre_exposed        457\n",
    "nombre_recovered    16688\n",
    "Name: 706, dtype: int64"
   ]
  },
  {
   "cell_type": "markdown",
   "id": "b59018e7",
   "metadata": {},
   "source": [
    "nombre_infected       877\n",
    "nombre_sain          1987\n",
    "nombre_exposed        456\n",
    "nombre_recovered    16680\n",
    "Name: 707, dtype: int64"
   ]
  },
  {
   "cell_type": "markdown",
   "id": "783c2038",
   "metadata": {},
   "source": [
    "nombre_infected       873\n",
    "nombre_sain          1992\n",
    "nombre_exposed        432\n",
    "nombre_recovered    16703\n",
    "Name: 708, dtype: int64"
   ]
  },
  {
   "cell_type": "markdown",
   "id": "56697d8c",
   "metadata": {},
   "source": [
    "nombre_infected       885\n",
    "nombre_sain          1984\n",
    "nombre_exposed        425\n",
    "nombre_recovered    16706\n",
    "Name: 709, dtype: int64"
   ]
  },
  {
   "cell_type": "markdown",
   "id": "cedd5cb5",
   "metadata": {},
   "source": [
    "nombre_infected       875\n",
    "nombre_sain          2001\n",
    "nombre_exposed        428\n",
    "nombre_recovered    16696\n",
    "Name: 710, dtype: int64"
   ]
  },
  {
   "cell_type": "markdown",
   "id": "d8990138",
   "metadata": {},
   "source": [
    "nombre_infected       850\n",
    "nombre_sain          2016\n",
    "nombre_exposed        426\n",
    "nombre_recovered    16708\n",
    "Name: 711, dtype: int64"
   ]
  },
  {
   "cell_type": "markdown",
   "id": "85ef0b6a",
   "metadata": {},
   "source": [
    "nombre_infected       831\n",
    "nombre_sain          2002\n",
    "nombre_exposed        442\n",
    "nombre_recovered    16725\n",
    "Name: 712, dtype: int64"
   ]
  },
  {
   "cell_type": "markdown",
   "id": "dff1edda",
   "metadata": {},
   "source": [
    "nombre_infected       840\n",
    "nombre_sain          1981\n",
    "nombre_exposed        435\n",
    "nombre_recovered    16744\n",
    "Name: 713, dtype: int64"
   ]
  },
  {
   "cell_type": "markdown",
   "id": "bbc14ddc",
   "metadata": {},
   "source": [
    "nombre_infected       829\n",
    "nombre_sain          1989\n",
    "nombre_exposed        428\n",
    "nombre_recovered    16754\n",
    "Name: 714, dtype: int64"
   ]
  },
  {
   "cell_type": "markdown",
   "id": "0f9616cd",
   "metadata": {},
   "source": [
    "nombre_infected       813\n",
    "nombre_sain          1992\n",
    "nombre_exposed        415\n",
    "nombre_recovered    16780\n",
    "Name: 715, dtype: int64"
   ]
  },
  {
   "cell_type": "markdown",
   "id": "eb7501f3",
   "metadata": {},
   "source": [
    "nombre_infected       825\n",
    "nombre_sain          2010\n",
    "nombre_exposed        400\n",
    "nombre_recovered    16765\n",
    "Name: 716, dtype: int64"
   ]
  },
  {
   "cell_type": "markdown",
   "id": "aed4aa62",
   "metadata": {},
   "source": [
    "nombre_infected       821\n",
    "nombre_sain          1995\n",
    "nombre_exposed        411\n",
    "nombre_recovered    16773\n",
    "Name: 717, dtype: int64"
   ]
  },
  {
   "cell_type": "markdown",
   "id": "8f70e5c7",
   "metadata": {},
   "source": [
    "nombre_infected       800\n",
    "nombre_sain          2022\n",
    "nombre_exposed        401\n",
    "nombre_recovered    16777\n",
    "Name: 718, dtype: int64"
   ]
  },
  {
   "cell_type": "markdown",
   "id": "d59c2745",
   "metadata": {},
   "source": [
    "nombre_infected       823\n",
    "nombre_sain          2019\n",
    "nombre_exposed        374\n",
    "nombre_recovered    16784\n",
    "Name: 719, dtype: int64"
   ]
  },
  {
   "cell_type": "markdown",
   "id": "9930e101",
   "metadata": {},
   "source": [
    "nombre_infected       824\n",
    "nombre_sain          2023\n",
    "nombre_exposed        364\n",
    "nombre_recovered    16789\n",
    "Name: 720, dtype: int64"
   ]
  },
  {
   "cell_type": "markdown",
   "id": "a64cf398",
   "metadata": {},
   "source": [
    "nombre_infected       801\n",
    "nombre_sain          2024\n",
    "nombre_exposed        377\n",
    "nombre_recovered    16798\n",
    "Name: 721, dtype: int64"
   ]
  },
  {
   "cell_type": "markdown",
   "id": "a78d1419",
   "metadata": {},
   "source": [
    "nombre_infected       785\n",
    "nombre_sain          2027\n",
    "nombre_exposed        384\n",
    "nombre_recovered    16804\n",
    "Name: 722, dtype: int64"
   ]
  },
  {
   "cell_type": "markdown",
   "id": "c97b97dd",
   "metadata": {},
   "source": [
    "nombre_infected       762\n",
    "nombre_sain          2013\n",
    "nombre_exposed        391\n",
    "nombre_recovered    16834\n",
    "Name: 723, dtype: int64"
   ]
  },
  {
   "cell_type": "markdown",
   "id": "6e469f51",
   "metadata": {},
   "source": [
    "nombre_infected       749\n",
    "nombre_sain          2036\n",
    "nombre_exposed        384\n",
    "nombre_recovered    16831\n",
    "Name: 724, dtype: int64"
   ]
  },
  {
   "cell_type": "markdown",
   "id": "832c2576",
   "metadata": {},
   "source": [
    "nombre_infected       750\n",
    "nombre_sain          2063\n",
    "nombre_exposed        362\n",
    "nombre_recovered    16825\n",
    "Name: 725, dtype: int64"
   ]
  },
  {
   "cell_type": "markdown",
   "id": "ec54fbaa",
   "metadata": {},
   "source": [
    "nombre_infected       747\n",
    "nombre_sain          2086\n",
    "nombre_exposed        369\n",
    "nombre_recovered    16798\n",
    "Name: 726, dtype: int64"
   ]
  },
  {
   "cell_type": "markdown",
   "id": "79320c1f",
   "metadata": {},
   "source": [
    "nombre_infected       726\n",
    "nombre_sain          2100\n",
    "nombre_exposed        372\n",
    "nombre_recovered    16802\n",
    "Name: 727, dtype: int64"
   ]
  },
  {
   "cell_type": "markdown",
   "id": "ea711974",
   "metadata": {},
   "source": [
    "nombre_infected       712\n",
    "nombre_sain          2104\n",
    "nombre_exposed        390\n",
    "nombre_recovered    16794\n",
    "Name: 728, dtype: int64"
   ]
  },
  {
   "cell_type": "markdown",
   "id": "75cf21cd",
   "metadata": {},
   "source": [
    "nombre_infected       707\n",
    "nombre_sain          2129\n",
    "nombre_exposed        387\n",
    "nombre_recovered    16777\n",
    "Name: 729, dtype: int64"
   ]
  },
  {
   "cell_type": "markdown",
   "id": "d6d56b2d",
   "metadata": {},
   "source": [
    "nombre_infected       706\n",
    "nombre_sain          2143\n",
    "nombre_exposed        392\n",
    "nombre_recovered    16759\n",
    "Name: 730, dtype: int64"
   ]
  }
 ],
 "metadata": {},
 "nbformat": 4,
 "nbformat_minor": 5
}
