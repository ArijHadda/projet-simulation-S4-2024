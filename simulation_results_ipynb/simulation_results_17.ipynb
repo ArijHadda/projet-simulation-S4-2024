{
 "cells": [
  {
   "cell_type": "markdown",
   "id": "f5a4d8d0",
   "metadata": {},
   "source": [
    "nombre_infected        20\n",
    "nombre_sain         19980\n",
    "nombre_exposed          0\n",
    "nombre_recovered        0\n",
    "Name: 0, dtype: int64"
   ]
  },
  {
   "cell_type": "markdown",
   "id": "42fd62a1",
   "metadata": {},
   "source": [
    "nombre_infected        20\n",
    "nombre_sain         19965\n",
    "nombre_exposed         15\n",
    "nombre_recovered        0\n",
    "Name: 1, dtype: int64"
   ]
  },
  {
   "cell_type": "markdown",
   "id": "6857eda3",
   "metadata": {},
   "source": [
    "nombre_infected        20\n",
    "nombre_sain         19941\n",
    "nombre_exposed         39\n",
    "nombre_recovered        0\n",
    "Name: 2, dtype: int64"
   ]
  },
  {
   "cell_type": "markdown",
   "id": "419c69fa",
   "metadata": {},
   "source": [
    "nombre_infected        20\n",
    "nombre_sain         19915\n",
    "nombre_exposed         65\n",
    "nombre_recovered        0\n",
    "Name: 3, dtype: int64"
   ]
  },
  {
   "cell_type": "markdown",
   "id": "1582ad15",
   "metadata": {},
   "source": [
    "nombre_infected        31\n",
    "nombre_sain         19885\n",
    "nombre_exposed         84\n",
    "nombre_recovered        0\n",
    "Name: 4, dtype: int64"
   ]
  },
  {
   "cell_type": "markdown",
   "id": "6391fa51",
   "metadata": {},
   "source": [
    "nombre_infected        29\n",
    "nombre_sain         19849\n",
    "nombre_exposed        102\n",
    "nombre_recovered       20\n",
    "Name: 5, dtype: int64"
   ]
  },
  {
   "cell_type": "markdown",
   "id": "f528574e",
   "metadata": {},
   "source": [
    "nombre_infected        48\n",
    "nombre_sain         19798\n",
    "nombre_exposed        133\n",
    "nombre_recovered       21\n",
    "Name: 6, dtype: int64"
   ]
  },
  {
   "cell_type": "markdown",
   "id": "212adc7a",
   "metadata": {},
   "source": [
    "nombre_infected        77\n",
    "nombre_sain         19717\n",
    "nombre_exposed        183\n",
    "nombre_recovered       23\n",
    "Name: 7, dtype: int64"
   ]
  },
  {
   "cell_type": "markdown",
   "id": "9e999def",
   "metadata": {},
   "source": [
    "nombre_infected        93\n",
    "nombre_sain         19627\n",
    "nombre_exposed        248\n",
    "nombre_recovered       32\n",
    "Name: 8, dtype: int64"
   ]
  },
  {
   "cell_type": "markdown",
   "id": "293f6326",
   "metadata": {},
   "source": [
    "nombre_infected       133\n",
    "nombre_sain         19497\n",
    "nombre_exposed        333\n",
    "nombre_recovered       37\n",
    "Name: 9, dtype: int64"
   ]
  },
  {
   "cell_type": "markdown",
   "id": "c213649c",
   "metadata": {},
   "source": [
    "nombre_infected       180\n",
    "nombre_sain         19298\n",
    "nombre_exposed        470\n",
    "nombre_recovered       52\n",
    "Name: 10, dtype: int64"
   ]
  },
  {
   "cell_type": "markdown",
   "id": "8f295e01",
   "metadata": {},
   "source": [
    "nombre_infected       228\n",
    "nombre_sain         19038\n",
    "nombre_exposed        674\n",
    "nombre_recovered       60\n",
    "Name: 11, dtype: int64"
   ]
  },
  {
   "cell_type": "markdown",
   "id": "74759d28",
   "metadata": {},
   "source": [
    "nombre_infected       335\n",
    "nombre_sain         18744\n",
    "nombre_exposed        846\n",
    "nombre_recovered       75\n",
    "Name: 12, dtype: int64"
   ]
  },
  {
   "cell_type": "markdown",
   "id": "d537096a",
   "metadata": {},
   "source": [
    "nombre_infected       473\n",
    "nombre_sain         18231\n",
    "nombre_exposed       1200\n",
    "nombre_recovered       96\n",
    "Name: 13, dtype: int64"
   ]
  },
  {
   "cell_type": "markdown",
   "id": "e8fcad48",
   "metadata": {},
   "source": [
    "nombre_infected       612\n",
    "nombre_sain         17684\n",
    "nombre_exposed       1576\n",
    "nombre_recovered      128\n",
    "Name: 14, dtype: int64"
   ]
  },
  {
   "cell_type": "markdown",
   "id": "c776f8be",
   "metadata": {},
   "source": [
    "nombre_infected       883\n",
    "nombre_sain         16952\n",
    "nombre_exposed       1990\n",
    "nombre_recovered      175\n",
    "Name: 15, dtype: int64"
   ]
  },
  {
   "cell_type": "markdown",
   "id": "c479af09",
   "metadata": {},
   "source": [
    "nombre_infected      1158\n",
    "nombre_sain         15946\n",
    "nombre_exposed       2643\n",
    "nombre_recovered      253\n",
    "Name: 16, dtype: int64"
   ]
  },
  {
   "cell_type": "markdown",
   "id": "d98beffd",
   "metadata": {},
   "source": [
    "nombre_infected      1500\n",
    "nombre_sain         14779\n",
    "nombre_exposed       3361\n",
    "nombre_recovered      360\n",
    "Name: 17, dtype: int64"
   ]
  },
  {
   "cell_type": "markdown",
   "id": "26e8d019",
   "metadata": {},
   "source": [
    "nombre_infected      1970\n",
    "nombre_sain         13394\n",
    "nombre_exposed       4127\n",
    "nombre_recovered      509\n",
    "Name: 18, dtype: int64"
   ]
  },
  {
   "cell_type": "markdown",
   "id": "0d864095",
   "metadata": {},
   "source": [
    "nombre_infected      2561\n",
    "nombre_sain         11728\n",
    "nombre_exposed       5025\n",
    "nombre_recovered      686\n",
    "Name: 19, dtype: int64"
   ]
  },
  {
   "cell_type": "markdown",
   "id": "31de6238",
   "metadata": {},
   "source": [
    "nombre_infected      3193\n",
    "nombre_sain         10014\n",
    "nombre_exposed       5848\n",
    "nombre_recovered      945\n",
    "Name: 20, dtype: int64"
   ]
  },
  {
   "cell_type": "markdown",
   "id": "cb81efc2",
   "metadata": {},
   "source": [
    "nombre_infected     3964\n",
    "nombre_sain         8245\n",
    "nombre_exposed      6546\n",
    "nombre_recovered    1245\n",
    "Name: 21, dtype: int64"
   ]
  },
  {
   "cell_type": "markdown",
   "id": "ce1f4026",
   "metadata": {},
   "source": [
    "nombre_infected     4954\n",
    "nombre_sain         6466\n",
    "nombre_exposed      6936\n",
    "nombre_recovered    1644\n",
    "Name: 22, dtype: int64"
   ]
  },
  {
   "cell_type": "markdown",
   "id": "dc028981",
   "metadata": {},
   "source": [
    "nombre_infected     5907\n",
    "nombre_sain         4838\n",
    "nombre_exposed      7163\n",
    "nombre_recovered    2092\n",
    "Name: 23, dtype: int64"
   ]
  },
  {
   "cell_type": "markdown",
   "id": "e28f5034",
   "metadata": {},
   "source": [
    "nombre_infected     6765\n",
    "nombre_sain         3575\n",
    "nombre_exposed      6954\n",
    "nombre_recovered    2706\n",
    "Name: 24, dtype: int64"
   ]
  },
  {
   "cell_type": "markdown",
   "id": "8bdf1b23",
   "metadata": {},
   "source": [
    "nombre_infected     7573\n",
    "nombre_sain         2524\n",
    "nombre_exposed      6479\n",
    "nombre_recovered    3424\n",
    "Name: 25, dtype: int64"
   ]
  },
  {
   "cell_type": "markdown",
   "id": "f80e3d1e",
   "metadata": {},
   "source": [
    "nombre_infected     8263\n",
    "nombre_sain         1728\n",
    "nombre_exposed      5780\n",
    "nombre_recovered    4229\n",
    "Name: 26, dtype: int64"
   ]
  },
  {
   "cell_type": "markdown",
   "id": "8ef07fe5",
   "metadata": {},
   "source": [
    "nombre_infected     8675\n",
    "nombre_sain         1150\n",
    "nombre_exposed      5065\n",
    "nombre_recovered    5110\n",
    "Name: 27, dtype: int64"
   ]
  },
  {
   "cell_type": "markdown",
   "id": "c7fc2b51",
   "metadata": {},
   "source": [
    "nombre_infected     8883\n",
    "nombre_sain          778\n",
    "nombre_exposed      4275\n",
    "nombre_recovered    6064\n",
    "Name: 28, dtype: int64"
   ]
  },
  {
   "cell_type": "markdown",
   "id": "89a156d6",
   "metadata": {},
   "source": [
    "nombre_infected     8830\n",
    "nombre_sain          514\n",
    "nombre_exposed      3531\n",
    "nombre_recovered    7125\n",
    "Name: 29, dtype: int64"
   ]
  },
  {
   "cell_type": "markdown",
   "id": "ab238cde",
   "metadata": {},
   "source": [
    "nombre_infected     8665\n",
    "nombre_sain          368\n",
    "nombre_exposed      2839\n",
    "nombre_recovered    8128\n",
    "Name: 30, dtype: int64"
   ]
  },
  {
   "cell_type": "markdown",
   "id": "59c0a714",
   "metadata": {},
   "source": [
    "nombre_infected     8324\n",
    "nombre_sain          254\n",
    "nombre_exposed      2270\n",
    "nombre_recovered    9152\n",
    "Name: 31, dtype: int64"
   ]
  },
  {
   "cell_type": "markdown",
   "id": "149be507",
   "metadata": {},
   "source": [
    "nombre_infected      7814\n",
    "nombre_sain           195\n",
    "nombre_exposed       1809\n",
    "nombre_recovered    10182\n",
    "Name: 32, dtype: int64"
   ]
  },
  {
   "cell_type": "markdown",
   "id": "f6559f02",
   "metadata": {},
   "source": [
    "nombre_infected      7314\n",
    "nombre_sain           147\n",
    "nombre_exposed       1439\n",
    "nombre_recovered    11100\n",
    "Name: 33, dtype: int64"
   ]
  },
  {
   "cell_type": "markdown",
   "id": "910d0dc7",
   "metadata": {},
   "source": [
    "nombre_infected      6777\n",
    "nombre_sain           127\n",
    "nombre_exposed       1135\n",
    "nombre_recovered    11961\n",
    "Name: 34, dtype: int64"
   ]
  },
  {
   "cell_type": "markdown",
   "id": "329c9bed",
   "metadata": {},
   "source": [
    "nombre_infected      6219\n",
    "nombre_sain           127\n",
    "nombre_exposed        863\n",
    "nombre_recovered    12791\n",
    "Name: 35, dtype: int64"
   ]
  },
  {
   "cell_type": "markdown",
   "id": "7c8d0e7d",
   "metadata": {},
   "source": [
    "nombre_infected      5615\n",
    "nombre_sain           138\n",
    "nombre_exposed        678\n",
    "nombre_recovered    13569\n",
    "Name: 36, dtype: int64"
   ]
  },
  {
   "cell_type": "markdown",
   "id": "9c8055cf",
   "metadata": {},
   "source": [
    "nombre_infected      5090\n",
    "nombre_sain           161\n",
    "nombre_exposed        520\n",
    "nombre_recovered    14229\n",
    "Name: 37, dtype: int64"
   ]
  },
  {
   "cell_type": "markdown",
   "id": "470a9490",
   "metadata": {},
   "source": [
    "nombre_infected      4587\n",
    "nombre_sain           153\n",
    "nombre_exposed        412\n",
    "nombre_recovered    14848\n",
    "Name: 38, dtype: int64"
   ]
  },
  {
   "cell_type": "markdown",
   "id": "990bd7f5",
   "metadata": {},
   "source": [
    "nombre_infected      4075\n",
    "nombre_sain           178\n",
    "nombre_exposed        345\n",
    "nombre_recovered    15402\n",
    "Name: 39, dtype: int64"
   ]
  },
  {
   "cell_type": "markdown",
   "id": "69a084cf",
   "metadata": {},
   "source": [
    "nombre_infected      3646\n",
    "nombre_sain           186\n",
    "nombre_exposed        281\n",
    "nombre_recovered    15887\n",
    "Name: 40, dtype: int64"
   ]
  },
  {
   "cell_type": "markdown",
   "id": "44dc8c00",
   "metadata": {},
   "source": [
    "nombre_infected      3273\n",
    "nombre_sain           217\n",
    "nombre_exposed        222\n",
    "nombre_recovered    16288\n",
    "Name: 41, dtype: int64"
   ]
  },
  {
   "cell_type": "markdown",
   "id": "1221eb1f",
   "metadata": {},
   "source": [
    "nombre_infected      2988\n",
    "nombre_sain           233\n",
    "nombre_exposed        190\n",
    "nombre_recovered    16589\n",
    "Name: 42, dtype: int64"
   ]
  },
  {
   "cell_type": "markdown",
   "id": "4a00b1a3",
   "metadata": {},
   "source": [
    "nombre_infected      2665\n",
    "nombre_sain           253\n",
    "nombre_exposed        172\n",
    "nombre_recovered    16910\n",
    "Name: 43, dtype: int64"
   ]
  },
  {
   "cell_type": "markdown",
   "id": "50260615",
   "metadata": {},
   "source": [
    "nombre_infected      2367\n",
    "nombre_sain           268\n",
    "nombre_exposed        153\n",
    "nombre_recovered    17212\n",
    "Name: 44, dtype: int64"
   ]
  },
  {
   "cell_type": "markdown",
   "id": "cb6440fd",
   "metadata": {},
   "source": [
    "nombre_infected      2106\n",
    "nombre_sain           274\n",
    "nombre_exposed        146\n",
    "nombre_recovered    17474\n",
    "Name: 45, dtype: int64"
   ]
  },
  {
   "cell_type": "markdown",
   "id": "c6511536",
   "metadata": {},
   "source": [
    "nombre_infected      1878\n",
    "nombre_sain           301\n",
    "nombre_exposed        144\n",
    "nombre_recovered    17677\n",
    "Name: 46, dtype: int64"
   ]
  },
  {
   "cell_type": "markdown",
   "id": "641615e1",
   "metadata": {},
   "source": [
    "nombre_infected      1697\n",
    "nombre_sain           328\n",
    "nombre_exposed        128\n",
    "nombre_recovered    17847\n",
    "Name: 47, dtype: int64"
   ]
  },
  {
   "cell_type": "markdown",
   "id": "54303f91",
   "metadata": {},
   "source": [
    "nombre_infected      1521\n",
    "nombre_sain           351\n",
    "nombre_exposed        116\n",
    "nombre_recovered    18012\n",
    "Name: 48, dtype: int64"
   ]
  },
  {
   "cell_type": "markdown",
   "id": "362db0c7",
   "metadata": {},
   "source": [
    "nombre_infected      1359\n",
    "nombre_sain           391\n",
    "nombre_exposed        116\n",
    "nombre_recovered    18134\n",
    "Name: 49, dtype: int64"
   ]
  },
  {
   "cell_type": "markdown",
   "id": "b20d88fa",
   "metadata": {},
   "source": [
    "nombre_infected      1211\n",
    "nombre_sain           415\n",
    "nombre_exposed        129\n",
    "nombre_recovered    18245\n",
    "Name: 50, dtype: int64"
   ]
  },
  {
   "cell_type": "markdown",
   "id": "8b24cdec",
   "metadata": {},
   "source": [
    "nombre_infected      1073\n",
    "nombre_sain           463\n",
    "nombre_exposed        136\n",
    "nombre_recovered    18328\n",
    "Name: 51, dtype: int64"
   ]
  },
  {
   "cell_type": "markdown",
   "id": "7512df9d",
   "metadata": {},
   "source": [
    "nombre_infected       967\n",
    "nombre_sain           521\n",
    "nombre_exposed        135\n",
    "nombre_recovered    18377\n",
    "Name: 52, dtype: int64"
   ]
  },
  {
   "cell_type": "markdown",
   "id": "9784b06e",
   "metadata": {},
   "source": [
    "nombre_infected       855\n",
    "nombre_sain           587\n",
    "nombre_exposed        132\n",
    "nombre_recovered    18426\n",
    "Name: 53, dtype: int64"
   ]
  },
  {
   "cell_type": "markdown",
   "id": "a0be0d3e",
   "metadata": {},
   "source": [
    "nombre_infected       769\n",
    "nombre_sain           647\n",
    "nombre_exposed        127\n",
    "nombre_recovered    18457\n",
    "Name: 54, dtype: int64"
   ]
  },
  {
   "cell_type": "markdown",
   "id": "bd0e49cb",
   "metadata": {},
   "source": [
    "nombre_infected       713\n",
    "nombre_sain           718\n",
    "nombre_exposed        115\n",
    "nombre_recovered    18454\n",
    "Name: 55, dtype: int64"
   ]
  },
  {
   "cell_type": "markdown",
   "id": "b3199257",
   "metadata": {},
   "source": [
    "nombre_infected       639\n",
    "nombre_sain           780\n",
    "nombre_exposed        113\n",
    "nombre_recovered    18468\n",
    "Name: 56, dtype: int64"
   ]
  },
  {
   "cell_type": "markdown",
   "id": "22b13134",
   "metadata": {},
   "source": [
    "nombre_infected       581\n",
    "nombre_sain           841\n",
    "nombre_exposed        114\n",
    "nombre_recovered    18464\n",
    "Name: 57, dtype: int64"
   ]
  },
  {
   "cell_type": "markdown",
   "id": "5560e70c",
   "metadata": {},
   "source": [
    "nombre_infected       540\n",
    "nombre_sain           908\n",
    "nombre_exposed        109\n",
    "nombre_recovered    18443\n",
    "Name: 58, dtype: int64"
   ]
  },
  {
   "cell_type": "markdown",
   "id": "fdc22961",
   "metadata": {},
   "source": [
    "nombre_infected       515\n",
    "nombre_sain           970\n",
    "nombre_exposed        111\n",
    "nombre_recovered    18404\n",
    "Name: 59, dtype: int64"
   ]
  },
  {
   "cell_type": "markdown",
   "id": "19d7b7c4",
   "metadata": {},
   "source": [
    "nombre_infected       487\n",
    "nombre_sain          1003\n",
    "nombre_exposed        124\n",
    "nombre_recovered    18386\n",
    "Name: 60, dtype: int64"
   ]
  },
  {
   "cell_type": "markdown",
   "id": "9b588804",
   "metadata": {},
   "source": [
    "nombre_infected       432\n",
    "nombre_sain          1044\n",
    "nombre_exposed        125\n",
    "nombre_recovered    18399\n",
    "Name: 61, dtype: int64"
   ]
  },
  {
   "cell_type": "markdown",
   "id": "1e6aea8f",
   "metadata": {},
   "source": [
    "nombre_infected       417\n",
    "nombre_sain          1071\n",
    "nombre_exposed        116\n",
    "nombre_recovered    18396\n",
    "Name: 62, dtype: int64"
   ]
  },
  {
   "cell_type": "markdown",
   "id": "d1bc6573",
   "metadata": {},
   "source": [
    "nombre_infected       375\n",
    "nombre_sain          1097\n",
    "nombre_exposed        116\n",
    "nombre_recovered    18412\n",
    "Name: 63, dtype: int64"
   ]
  },
  {
   "cell_type": "markdown",
   "id": "1031b006",
   "metadata": {},
   "source": [
    "nombre_infected       335\n",
    "nombre_sain          1136\n",
    "nombre_exposed        102\n",
    "nombre_recovered    18427\n",
    "Name: 64, dtype: int64"
   ]
  },
  {
   "cell_type": "markdown",
   "id": "29409651",
   "metadata": {},
   "source": [
    "nombre_infected       309\n",
    "nombre_sain          1186\n",
    "nombre_exposed         93\n",
    "nombre_recovered    18412\n",
    "Name: 65, dtype: int64"
   ]
  },
  {
   "cell_type": "markdown",
   "id": "04af8886",
   "metadata": {},
   "source": [
    "nombre_infected       271\n",
    "nombre_sain          1215\n",
    "nombre_exposed         91\n",
    "nombre_recovered    18423\n",
    "Name: 66, dtype: int64"
   ]
  },
  {
   "cell_type": "markdown",
   "id": "8ab5d6ef",
   "metadata": {},
   "source": [
    "nombre_infected       245\n",
    "nombre_sain          1243\n",
    "nombre_exposed         82\n",
    "nombre_recovered    18430\n",
    "Name: 67, dtype: int64"
   ]
  },
  {
   "cell_type": "markdown",
   "id": "1be6b621",
   "metadata": {},
   "source": [
    "nombre_infected       213\n",
    "nombre_sain          1275\n",
    "nombre_exposed         83\n",
    "nombre_recovered    18429\n",
    "Name: 68, dtype: int64"
   ]
  },
  {
   "cell_type": "markdown",
   "id": "cc215e5e",
   "metadata": {},
   "source": [
    "nombre_infected       198\n",
    "nombre_sain          1306\n",
    "nombre_exposed         71\n",
    "nombre_recovered    18425\n",
    "Name: 69, dtype: int64"
   ]
  },
  {
   "cell_type": "markdown",
   "id": "073184ce",
   "metadata": {},
   "source": [
    "nombre_infected       187\n",
    "nombre_sain          1339\n",
    "nombre_exposed         66\n",
    "nombre_recovered    18408\n",
    "Name: 70, dtype: int64"
   ]
  },
  {
   "cell_type": "markdown",
   "id": "9a635c9c",
   "metadata": {},
   "source": [
    "nombre_infected       171\n",
    "nombre_sain          1382\n",
    "nombre_exposed         70\n",
    "nombre_recovered    18377\n",
    "Name: 71, dtype: int64"
   ]
  },
  {
   "cell_type": "markdown",
   "id": "a0a86f70",
   "metadata": {},
   "source": [
    "nombre_infected       160\n",
    "nombre_sain          1423\n",
    "nombre_exposed         69\n",
    "nombre_recovered    18348\n",
    "Name: 72, dtype: int64"
   ]
  },
  {
   "cell_type": "markdown",
   "id": "fc0f0c9c",
   "metadata": {},
   "source": [
    "nombre_infected       145\n",
    "nombre_sain          1447\n",
    "nombre_exposed         75\n",
    "nombre_recovered    18333\n",
    "Name: 73, dtype: int64"
   ]
  },
  {
   "cell_type": "markdown",
   "id": "356f1e54",
   "metadata": {},
   "source": [
    "nombre_infected       132\n",
    "nombre_sain          1483\n",
    "nombre_exposed         69\n",
    "nombre_recovered    18316\n",
    "Name: 74, dtype: int64"
   ]
  },
  {
   "cell_type": "markdown",
   "id": "341a2cd8",
   "metadata": {},
   "source": [
    "nombre_infected       129\n",
    "nombre_sain          1522\n",
    "nombre_exposed         63\n",
    "nombre_recovered    18286\n",
    "Name: 75, dtype: int64"
   ]
  },
  {
   "cell_type": "markdown",
   "id": "9c0c45e4",
   "metadata": {},
   "source": [
    "nombre_infected       129\n",
    "nombre_sain          1558\n",
    "nombre_exposed         54\n",
    "nombre_recovered    18259\n",
    "Name: 76, dtype: int64"
   ]
  },
  {
   "cell_type": "markdown",
   "id": "6c26f4af",
   "metadata": {},
   "source": [
    "nombre_infected       117\n",
    "nombre_sain          1597\n",
    "nombre_exposed         48\n",
    "nombre_recovered    18238\n",
    "Name: 77, dtype: int64"
   ]
  },
  {
   "cell_type": "markdown",
   "id": "59e7849d",
   "metadata": {},
   "source": [
    "nombre_infected       112\n",
    "nombre_sain          1627\n",
    "nombre_exposed         47\n",
    "nombre_recovered    18214\n",
    "Name: 78, dtype: int64"
   ]
  },
  {
   "cell_type": "markdown",
   "id": "96cf94c7",
   "metadata": {},
   "source": [
    "nombre_infected        94\n",
    "nombre_sain          1669\n",
    "nombre_exposed         50\n",
    "nombre_recovered    18187\n",
    "Name: 79, dtype: int64"
   ]
  },
  {
   "cell_type": "markdown",
   "id": "35748e54",
   "metadata": {},
   "source": [
    "nombre_infected        94\n",
    "nombre_sain          1728\n",
    "nombre_exposed         47\n",
    "nombre_recovered    18131\n",
    "Name: 80, dtype: int64"
   ]
  },
  {
   "cell_type": "markdown",
   "id": "87dfbf7a",
   "metadata": {},
   "source": [
    "nombre_infected        93\n",
    "nombre_sain          1795\n",
    "nombre_exposed         43\n",
    "nombre_recovered    18069\n",
    "Name: 81, dtype: int64"
   ]
  },
  {
   "cell_type": "markdown",
   "id": "d8c65386",
   "metadata": {},
   "source": [
    "nombre_infected        93\n",
    "nombre_sain          1843\n",
    "nombre_exposed         42\n",
    "nombre_recovered    18022\n",
    "Name: 82, dtype: int64"
   ]
  },
  {
   "cell_type": "markdown",
   "id": "bc9928b5",
   "metadata": {},
   "source": [
    "nombre_infected        89\n",
    "nombre_sain          1893\n",
    "nombre_exposed         43\n",
    "nombre_recovered    17975\n",
    "Name: 83, dtype: int64"
   ]
  },
  {
   "cell_type": "markdown",
   "id": "906e5f04",
   "metadata": {},
   "source": [
    "nombre_infected        87\n",
    "nombre_sain          1951\n",
    "nombre_exposed         41\n",
    "nombre_recovered    17921\n",
    "Name: 84, dtype: int64"
   ]
  },
  {
   "cell_type": "markdown",
   "id": "27a6cceb",
   "metadata": {},
   "source": [
    "nombre_infected        80\n",
    "nombre_sain          2026\n",
    "nombre_exposed         42\n",
    "nombre_recovered    17852\n",
    "Name: 85, dtype: int64"
   ]
  },
  {
   "cell_type": "markdown",
   "id": "736f03ba",
   "metadata": {},
   "source": [
    "nombre_infected        83\n",
    "nombre_sain          2068\n",
    "nombre_exposed         42\n",
    "nombre_recovered    17807\n",
    "Name: 86, dtype: int64"
   ]
  },
  {
   "cell_type": "markdown",
   "id": "2df4c090",
   "metadata": {},
   "source": [
    "nombre_infected        85\n",
    "nombre_sain          2124\n",
    "nombre_exposed         51\n",
    "nombre_recovered    17740\n",
    "Name: 87, dtype: int64"
   ]
  },
  {
   "cell_type": "markdown",
   "id": "32db4dd0",
   "metadata": {},
   "source": [
    "nombre_infected        87\n",
    "nombre_sain          2198\n",
    "nombre_exposed         50\n",
    "nombre_recovered    17665\n",
    "Name: 88, dtype: int64"
   ]
  },
  {
   "cell_type": "markdown",
   "id": "17f84490",
   "metadata": {},
   "source": [
    "nombre_infected        92\n",
    "nombre_sain          2257\n",
    "nombre_exposed         45\n",
    "nombre_recovered    17606\n",
    "Name: 89, dtype: int64"
   ]
  },
  {
   "cell_type": "markdown",
   "id": "a7062518",
   "metadata": {},
   "source": [
    "nombre_infected        88\n",
    "nombre_sain          2322\n",
    "nombre_exposed         50\n",
    "nombre_recovered    17540\n",
    "Name: 90, dtype: int64"
   ]
  },
  {
   "cell_type": "markdown",
   "id": "4e863dfd",
   "metadata": {},
   "source": [
    "nombre_infected        83\n",
    "nombre_sain          2384\n",
    "nombre_exposed         48\n",
    "nombre_recovered    17485\n",
    "Name: 91, dtype: int64"
   ]
  },
  {
   "cell_type": "markdown",
   "id": "c92dcf44",
   "metadata": {},
   "source": [
    "nombre_infected        74\n",
    "nombre_sain          2464\n",
    "nombre_exposed         44\n",
    "nombre_recovered    17418\n",
    "Name: 92, dtype: int64"
   ]
  },
  {
   "cell_type": "markdown",
   "id": "f9691ece",
   "metadata": {},
   "source": [
    "nombre_infected        76\n",
    "nombre_sain          2541\n",
    "nombre_exposed         43\n",
    "nombre_recovered    17340\n",
    "Name: 93, dtype: int64"
   ]
  },
  {
   "cell_type": "markdown",
   "id": "72b4e0ad",
   "metadata": {},
   "source": [
    "nombre_infected        70\n",
    "nombre_sain          2610\n",
    "nombre_exposed         48\n",
    "nombre_recovered    17272\n",
    "Name: 94, dtype: int64"
   ]
  },
  {
   "cell_type": "markdown",
   "id": "245037c3",
   "metadata": {},
   "source": [
    "nombre_infected        68\n",
    "nombre_sain          2691\n",
    "nombre_exposed         53\n",
    "nombre_recovered    17188\n",
    "Name: 95, dtype: int64"
   ]
  },
  {
   "cell_type": "markdown",
   "id": "41d85d2f",
   "metadata": {},
   "source": [
    "nombre_infected        72\n",
    "nombre_sain          2771\n",
    "nombre_exposed         54\n",
    "nombre_recovered    17103\n",
    "Name: 96, dtype: int64"
   ]
  },
  {
   "cell_type": "markdown",
   "id": "5ac9a6e3",
   "metadata": {},
   "source": [
    "nombre_infected        82\n",
    "nombre_sain          2843\n",
    "nombre_exposed         47\n",
    "nombre_recovered    17028\n",
    "Name: 97, dtype: int64"
   ]
  },
  {
   "cell_type": "markdown",
   "id": "00c2ad24",
   "metadata": {},
   "source": [
    "nombre_infected        80\n",
    "nombre_sain          2903\n",
    "nombre_exposed         57\n",
    "nombre_recovered    16960\n",
    "Name: 98, dtype: int64"
   ]
  },
  {
   "cell_type": "markdown",
   "id": "36a871c9",
   "metadata": {},
   "source": [
    "nombre_infected        83\n",
    "nombre_sain          2963\n",
    "nombre_exposed         57\n",
    "nombre_recovered    16897\n",
    "Name: 99, dtype: int64"
   ]
  },
  {
   "cell_type": "markdown",
   "id": "9175fa9b",
   "metadata": {},
   "source": [
    "nombre_infected        88\n",
    "nombre_sain          3025\n",
    "nombre_exposed         59\n",
    "nombre_recovered    16828\n",
    "Name: 100, dtype: int64"
   ]
  },
  {
   "cell_type": "markdown",
   "id": "9b284a45",
   "metadata": {},
   "source": [
    "nombre_infected        95\n",
    "nombre_sain          3078\n",
    "nombre_exposed         55\n",
    "nombre_recovered    16772\n",
    "Name: 101, dtype: int64"
   ]
  },
  {
   "cell_type": "markdown",
   "id": "ff965234",
   "metadata": {},
   "source": [
    "nombre_infected        94\n",
    "nombre_sain          3114\n",
    "nombre_exposed         65\n",
    "nombre_recovered    16727\n",
    "Name: 102, dtype: int64"
   ]
  },
  {
   "cell_type": "markdown",
   "id": "f9b6b1b5",
   "metadata": {},
   "source": [
    "nombre_infected        94\n",
    "nombre_sain          3154\n",
    "nombre_exposed         73\n",
    "nombre_recovered    16679\n",
    "Name: 103, dtype: int64"
   ]
  },
  {
   "cell_type": "markdown",
   "id": "d27fd42d",
   "metadata": {},
   "source": [
    "nombre_infected        94\n",
    "nombre_sain          3193\n",
    "nombre_exposed         80\n",
    "nombre_recovered    16633\n",
    "Name: 104, dtype: int64"
   ]
  },
  {
   "cell_type": "markdown",
   "id": "bc3678fa",
   "metadata": {},
   "source": [
    "nombre_infected        97\n",
    "nombre_sain          3244\n",
    "nombre_exposed         70\n",
    "nombre_recovered    16589\n",
    "Name: 105, dtype: int64"
   ]
  },
  {
   "cell_type": "markdown",
   "id": "b5e20c5a",
   "metadata": {},
   "source": [
    "nombre_infected       107\n",
    "nombre_sain          3282\n",
    "nombre_exposed         62\n",
    "nombre_recovered    16549\n",
    "Name: 106, dtype: int64"
   ]
  },
  {
   "cell_type": "markdown",
   "id": "b599c12c",
   "metadata": {},
   "source": [
    "nombre_infected       113\n",
    "nombre_sain          3299\n",
    "nombre_exposed         70\n",
    "nombre_recovered    16518\n",
    "Name: 107, dtype: int64"
   ]
  },
  {
   "cell_type": "markdown",
   "id": "91c4057f",
   "metadata": {},
   "source": [
    "nombre_infected       111\n",
    "nombre_sain          3312\n",
    "nombre_exposed         83\n",
    "nombre_recovered    16494\n",
    "Name: 108, dtype: int64"
   ]
  },
  {
   "cell_type": "markdown",
   "id": "36b34ed6",
   "metadata": {},
   "source": [
    "nombre_infected       101\n",
    "nombre_sain          3334\n",
    "nombre_exposed         93\n",
    "nombre_recovered    16472\n",
    "Name: 109, dtype: int64"
   ]
  },
  {
   "cell_type": "markdown",
   "id": "89eecec6",
   "metadata": {},
   "source": [
    "nombre_infected       110\n",
    "nombre_sain          3347\n",
    "nombre_exposed         99\n",
    "nombre_recovered    16444\n",
    "Name: 110, dtype: int64"
   ]
  },
  {
   "cell_type": "markdown",
   "id": "2931e622",
   "metadata": {},
   "source": [
    "nombre_infected       122\n",
    "nombre_sain          3345\n",
    "nombre_exposed        104\n",
    "nombre_recovered    16429\n",
    "Name: 111, dtype: int64"
   ]
  },
  {
   "cell_type": "markdown",
   "id": "7184a148",
   "metadata": {},
   "source": [
    "nombre_infected       127\n",
    "nombre_sain          3351\n",
    "nombre_exposed        115\n",
    "nombre_recovered    16407\n",
    "Name: 112, dtype: int64"
   ]
  },
  {
   "cell_type": "markdown",
   "id": "e79dd36c",
   "metadata": {},
   "source": [
    "nombre_infected       135\n",
    "nombre_sain          3358\n",
    "nombre_exposed        115\n",
    "nombre_recovered    16392\n",
    "Name: 113, dtype: int64"
   ]
  },
  {
   "cell_type": "markdown",
   "id": "32fe08b8",
   "metadata": {},
   "source": [
    "nombre_infected       137\n",
    "nombre_sain          3365\n",
    "nombre_exposed        124\n",
    "nombre_recovered    16374\n",
    "Name: 114, dtype: int64"
   ]
  },
  {
   "cell_type": "markdown",
   "id": "276fe749",
   "metadata": {},
   "source": [
    "nombre_infected       143\n",
    "nombre_sain          3364\n",
    "nombre_exposed        122\n",
    "nombre_recovered    16371\n",
    "Name: 115, dtype: int64"
   ]
  },
  {
   "cell_type": "markdown",
   "id": "e3765982",
   "metadata": {},
   "source": [
    "nombre_infected       148\n",
    "nombre_sain          3372\n",
    "nombre_exposed        129\n",
    "nombre_recovered    16351\n",
    "Name: 116, dtype: int64"
   ]
  },
  {
   "cell_type": "markdown",
   "id": "c43da52e",
   "metadata": {},
   "source": [
    "nombre_infected       160\n",
    "nombre_sain          3387\n",
    "nombre_exposed        133\n",
    "nombre_recovered    16320\n",
    "Name: 117, dtype: int64"
   ]
  },
  {
   "cell_type": "markdown",
   "id": "a3224f4a",
   "metadata": {},
   "source": [
    "nombre_infected       167\n",
    "nombre_sain          3386\n",
    "nombre_exposed        145\n",
    "nombre_recovered    16302\n",
    "Name: 118, dtype: int64"
   ]
  },
  {
   "cell_type": "markdown",
   "id": "f5601d48",
   "metadata": {},
   "source": [
    "nombre_infected       167\n",
    "nombre_sain          3410\n",
    "nombre_exposed        143\n",
    "nombre_recovered    16280\n",
    "Name: 119, dtype: int64"
   ]
  },
  {
   "cell_type": "markdown",
   "id": "f0c6cd14",
   "metadata": {},
   "source": [
    "nombre_infected       176\n",
    "nombre_sain          3424\n",
    "nombre_exposed        148\n",
    "nombre_recovered    16252\n",
    "Name: 120, dtype: int64"
   ]
  },
  {
   "cell_type": "markdown",
   "id": "2932d3ed",
   "metadata": {},
   "source": [
    "nombre_infected       192\n",
    "nombre_sain          3440\n",
    "nombre_exposed        140\n",
    "nombre_recovered    16228\n",
    "Name: 121, dtype: int64"
   ]
  },
  {
   "cell_type": "markdown",
   "id": "f23a99a4",
   "metadata": {},
   "source": [
    "nombre_infected       196\n",
    "nombre_sain          3453\n",
    "nombre_exposed        152\n",
    "nombre_recovered    16199\n",
    "Name: 122, dtype: int64"
   ]
  },
  {
   "cell_type": "markdown",
   "id": "4ddc8010",
   "metadata": {},
   "source": [
    "nombre_infected       195\n",
    "nombre_sain          3482\n",
    "nombre_exposed        163\n",
    "nombre_recovered    16160\n",
    "Name: 123, dtype: int64"
   ]
  },
  {
   "cell_type": "markdown",
   "id": "399174c4",
   "metadata": {},
   "source": [
    "nombre_infected       196\n",
    "nombre_sain          3472\n",
    "nombre_exposed        188\n",
    "nombre_recovered    16144\n",
    "Name: 124, dtype: int64"
   ]
  },
  {
   "cell_type": "markdown",
   "id": "7e8808c9",
   "metadata": {},
   "source": [
    "nombre_infected       203\n",
    "nombre_sain          3482\n",
    "nombre_exposed        191\n",
    "nombre_recovered    16124\n",
    "Name: 125, dtype: int64"
   ]
  },
  {
   "cell_type": "markdown",
   "id": "928efd39",
   "metadata": {},
   "source": [
    "nombre_infected       227\n",
    "nombre_sain          3485\n",
    "nombre_exposed        192\n",
    "nombre_recovered    16096\n",
    "Name: 126, dtype: int64"
   ]
  },
  {
   "cell_type": "markdown",
   "id": "08548716",
   "metadata": {},
   "source": [
    "nombre_infected       243\n",
    "nombre_sain          3502\n",
    "nombre_exposed        186\n",
    "nombre_recovered    16069\n",
    "Name: 127, dtype: int64"
   ]
  },
  {
   "cell_type": "markdown",
   "id": "c3af6daf",
   "metadata": {},
   "source": [
    "nombre_infected       251\n",
    "nombre_sain          3513\n",
    "nombre_exposed        200\n",
    "nombre_recovered    16036\n",
    "Name: 128, dtype: int64"
   ]
  },
  {
   "cell_type": "markdown",
   "id": "8e3727bb",
   "metadata": {},
   "source": [
    "nombre_infected       271\n",
    "nombre_sain          3495\n",
    "nombre_exposed        216\n",
    "nombre_recovered    16018\n",
    "Name: 129, dtype: int64"
   ]
  },
  {
   "cell_type": "markdown",
   "id": "f373e2ea",
   "metadata": {},
   "source": [
    "nombre_infected       276\n",
    "nombre_sain          3494\n",
    "nombre_exposed        223\n",
    "nombre_recovered    16007\n",
    "Name: 130, dtype: int64"
   ]
  },
  {
   "cell_type": "markdown",
   "id": "ecd387be",
   "metadata": {},
   "source": [
    "nombre_infected       276\n",
    "nombre_sain          3459\n",
    "nombre_exposed        256\n",
    "nombre_recovered    16009\n",
    "Name: 131, dtype: int64"
   ]
  },
  {
   "cell_type": "markdown",
   "id": "33a13726",
   "metadata": {},
   "source": [
    "nombre_infected       285\n",
    "nombre_sain          3438\n",
    "nombre_exposed        270\n",
    "nombre_recovered    16007\n",
    "Name: 132, dtype: int64"
   ]
  },
  {
   "cell_type": "markdown",
   "id": "0d2ae100",
   "metadata": {},
   "source": [
    "nombre_infected       307\n",
    "nombre_sain          3424\n",
    "nombre_exposed        261\n",
    "nombre_recovered    16008\n",
    "Name: 133, dtype: int64"
   ]
  },
  {
   "cell_type": "markdown",
   "id": "051bd4ad",
   "metadata": {},
   "source": [
    "nombre_infected       308\n",
    "nombre_sain          3413\n",
    "nombre_exposed        282\n",
    "nombre_recovered    15997\n",
    "Name: 134, dtype: int64"
   ]
  },
  {
   "cell_type": "markdown",
   "id": "0507dadc",
   "metadata": {},
   "source": [
    "nombre_infected       324\n",
    "nombre_sain          3394\n",
    "nombre_exposed        292\n",
    "nombre_recovered    15990\n",
    "Name: 135, dtype: int64"
   ]
  },
  {
   "cell_type": "markdown",
   "id": "368965c9",
   "metadata": {},
   "source": [
    "nombre_infected       355\n",
    "nombre_sain          3391\n",
    "nombre_exposed        285\n",
    "nombre_recovered    15969\n",
    "Name: 136, dtype: int64"
   ]
  },
  {
   "cell_type": "markdown",
   "id": "7f62dc63",
   "metadata": {},
   "source": [
    "nombre_infected       375\n",
    "nombre_sain          3379\n",
    "nombre_exposed        289\n",
    "nombre_recovered    15957\n",
    "Name: 137, dtype: int64"
   ]
  },
  {
   "cell_type": "markdown",
   "id": "784dce3c",
   "metadata": {},
   "source": [
    "nombre_infected       369\n",
    "nombre_sain          3365\n",
    "nombre_exposed        311\n",
    "nombre_recovered    15955\n",
    "Name: 138, dtype: int64"
   ]
  },
  {
   "cell_type": "markdown",
   "id": "2089bdae",
   "metadata": {},
   "source": [
    "nombre_infected       398\n",
    "nombre_sain          3350\n",
    "nombre_exposed        301\n",
    "nombre_recovered    15951\n",
    "Name: 139, dtype: int64"
   ]
  },
  {
   "cell_type": "markdown",
   "id": "e83823c6",
   "metadata": {},
   "source": [
    "nombre_infected       412\n",
    "nombre_sain          3336\n",
    "nombre_exposed        313\n",
    "nombre_recovered    15939\n",
    "Name: 140, dtype: int64"
   ]
  },
  {
   "cell_type": "markdown",
   "id": "c1c9e1b1",
   "metadata": {},
   "source": [
    "nombre_infected       421\n",
    "nombre_sain          3305\n",
    "nombre_exposed        337\n",
    "nombre_recovered    15937\n",
    "Name: 141, dtype: int64"
   ]
  },
  {
   "cell_type": "markdown",
   "id": "f16231a0",
   "metadata": {},
   "source": [
    "nombre_infected       437\n",
    "nombre_sain          3245\n",
    "nombre_exposed        368\n",
    "nombre_recovered    15950\n",
    "Name: 142, dtype: int64"
   ]
  },
  {
   "cell_type": "markdown",
   "id": "3b2809b0",
   "metadata": {},
   "source": [
    "nombre_infected       450\n",
    "nombre_sain          3191\n",
    "nombre_exposed        402\n",
    "nombre_recovered    15957\n",
    "Name: 143, dtype: int64"
   ]
  },
  {
   "cell_type": "markdown",
   "id": "67a5afce",
   "metadata": {},
   "source": [
    "nombre_infected       469\n",
    "nombre_sain          3145\n",
    "nombre_exposed        420\n",
    "nombre_recovered    15966\n",
    "Name: 144, dtype: int64"
   ]
  },
  {
   "cell_type": "markdown",
   "id": "a99aafe2",
   "metadata": {},
   "source": [
    "nombre_infected       490\n",
    "nombre_sain          3103\n",
    "nombre_exposed        420\n",
    "nombre_recovered    15987\n",
    "Name: 145, dtype: int64"
   ]
  },
  {
   "cell_type": "markdown",
   "id": "888a2585",
   "metadata": {},
   "source": [
    "nombre_infected       489\n",
    "nombre_sain          3075\n",
    "nombre_exposed        429\n",
    "nombre_recovered    16007\n",
    "Name: 146, dtype: int64"
   ]
  },
  {
   "cell_type": "markdown",
   "id": "a2a640f8",
   "metadata": {},
   "source": [
    "nombre_infected       517\n",
    "nombre_sain          3041\n",
    "nombre_exposed        423\n",
    "nombre_recovered    16019\n",
    "Name: 147, dtype: int64"
   ]
  },
  {
   "cell_type": "markdown",
   "id": "d0e2d7fa",
   "metadata": {},
   "source": [
    "nombre_infected       544\n",
    "nombre_sain          3009\n",
    "nombre_exposed        424\n",
    "nombre_recovered    16023\n",
    "Name: 148, dtype: int64"
   ]
  },
  {
   "cell_type": "markdown",
   "id": "7934fc0a",
   "metadata": {},
   "source": [
    "nombre_infected       561\n",
    "nombre_sain          2963\n",
    "nombre_exposed        436\n",
    "nombre_recovered    16040\n",
    "Name: 149, dtype: int64"
   ]
  },
  {
   "cell_type": "markdown",
   "id": "c085177f",
   "metadata": {},
   "source": [
    "nombre_infected       587\n",
    "nombre_sain          2915\n",
    "nombre_exposed        437\n",
    "nombre_recovered    16061\n",
    "Name: 150, dtype: int64"
   ]
  },
  {
   "cell_type": "markdown",
   "id": "07929ee6",
   "metadata": {},
   "source": [
    "nombre_infected       600\n",
    "nombre_sain          2877\n",
    "nombre_exposed        437\n",
    "nombre_recovered    16086\n",
    "Name: 151, dtype: int64"
   ]
  },
  {
   "cell_type": "markdown",
   "id": "e937e5bc",
   "metadata": {},
   "source": [
    "nombre_infected       602\n",
    "nombre_sain          2819\n",
    "nombre_exposed        469\n",
    "nombre_recovered    16110\n",
    "Name: 152, dtype: int64"
   ]
  },
  {
   "cell_type": "markdown",
   "id": "7312f19d",
   "metadata": {},
   "source": [
    "nombre_infected       602\n",
    "nombre_sain          2786\n",
    "nombre_exposed        468\n",
    "nombre_recovered    16144\n",
    "Name: 153, dtype: int64"
   ]
  },
  {
   "cell_type": "markdown",
   "id": "3bb21e3c",
   "metadata": {},
   "source": [
    "nombre_infected       604\n",
    "nombre_sain          2770\n",
    "nombre_exposed        454\n",
    "nombre_recovered    16172\n",
    "Name: 154, dtype: int64"
   ]
  },
  {
   "cell_type": "markdown",
   "id": "2bd6e8c7",
   "metadata": {},
   "source": [
    "nombre_infected       632\n",
    "nombre_sain          2724\n",
    "nombre_exposed        460\n",
    "nombre_recovered    16184\n",
    "Name: 155, dtype: int64"
   ]
  },
  {
   "cell_type": "markdown",
   "id": "956d5f7d",
   "metadata": {},
   "source": [
    "nombre_infected       646\n",
    "nombre_sain          2686\n",
    "nombre_exposed        464\n",
    "nombre_recovered    16204\n",
    "Name: 156, dtype: int64"
   ]
  },
  {
   "cell_type": "markdown",
   "id": "4011a41c",
   "metadata": {},
   "source": [
    "nombre_infected       664\n",
    "nombre_sain          2639\n",
    "nombre_exposed        463\n",
    "nombre_recovered    16234\n",
    "Name: 157, dtype: int64"
   ]
  },
  {
   "cell_type": "markdown",
   "id": "c69c69a9",
   "metadata": {},
   "source": [
    "nombre_infected       667\n",
    "nombre_sain          2607\n",
    "nombre_exposed        460\n",
    "nombre_recovered    16266\n",
    "Name: 158, dtype: int64"
   ]
  },
  {
   "cell_type": "markdown",
   "id": "cc5ed278",
   "metadata": {},
   "source": [
    "nombre_infected       670\n",
    "nombre_sain          2572\n",
    "nombre_exposed        470\n",
    "nombre_recovered    16288\n",
    "Name: 159, dtype: int64"
   ]
  },
  {
   "cell_type": "markdown",
   "id": "df789707",
   "metadata": {},
   "source": [
    "nombre_infected       688\n",
    "nombre_sain          2541\n",
    "nombre_exposed        489\n",
    "nombre_recovered    16282\n",
    "Name: 160, dtype: int64"
   ]
  },
  {
   "cell_type": "markdown",
   "id": "091ec837",
   "metadata": {},
   "source": [
    "nombre_infected       669\n",
    "nombre_sain          2524\n",
    "nombre_exposed        497\n",
    "nombre_recovered    16310\n",
    "Name: 161, dtype: int64"
   ]
  },
  {
   "cell_type": "markdown",
   "id": "9cd3ddeb",
   "metadata": {},
   "source": [
    "nombre_infected       686\n",
    "nombre_sain          2516\n",
    "nombre_exposed        476\n",
    "nombre_recovered    16322\n",
    "Name: 162, dtype: int64"
   ]
  },
  {
   "cell_type": "markdown",
   "id": "ddbcf04e",
   "metadata": {},
   "source": [
    "nombre_infected       695\n",
    "nombre_sain          2488\n",
    "nombre_exposed        470\n",
    "nombre_recovered    16347\n",
    "Name: 163, dtype: int64"
   ]
  },
  {
   "cell_type": "markdown",
   "id": "b56be5db",
   "metadata": {},
   "source": [
    "nombre_infected       702\n",
    "nombre_sain          2460\n",
    "nombre_exposed        486\n",
    "nombre_recovered    16352\n",
    "Name: 164, dtype: int64"
   ]
  },
  {
   "cell_type": "markdown",
   "id": "96e3d1e3",
   "metadata": {},
   "source": [
    "nombre_infected       686\n",
    "nombre_sain          2446\n",
    "nombre_exposed        490\n",
    "nombre_recovered    16378\n",
    "Name: 165, dtype: int64"
   ]
  },
  {
   "cell_type": "markdown",
   "id": "0330d21a",
   "metadata": {},
   "source": [
    "nombre_infected       713\n",
    "nombre_sain          2453\n",
    "nombre_exposed        469\n",
    "nombre_recovered    16365\n",
    "Name: 166, dtype: int64"
   ]
  },
  {
   "cell_type": "markdown",
   "id": "bc302a13",
   "metadata": {},
   "source": [
    "nombre_infected       729\n",
    "nombre_sain          2450\n",
    "nombre_exposed        445\n",
    "nombre_recovered    16376\n",
    "Name: 167, dtype: int64"
   ]
  },
  {
   "cell_type": "markdown",
   "id": "ad1cea18",
   "metadata": {},
   "source": [
    "nombre_infected       717\n",
    "nombre_sain          2406\n",
    "nombre_exposed        470\n",
    "nombre_recovered    16407\n",
    "Name: 168, dtype: int64"
   ]
  },
  {
   "cell_type": "markdown",
   "id": "fb3fd4a7",
   "metadata": {},
   "source": [
    "nombre_infected       713\n",
    "nombre_sain          2385\n",
    "nombre_exposed        480\n",
    "nombre_recovered    16422\n",
    "Name: 169, dtype: int64"
   ]
  },
  {
   "cell_type": "markdown",
   "id": "30b21a99",
   "metadata": {},
   "source": [
    "nombre_infected       701\n",
    "nombre_sain          2351\n",
    "nombre_exposed        496\n",
    "nombre_recovered    16452\n",
    "Name: 170, dtype: int64"
   ]
  },
  {
   "cell_type": "markdown",
   "id": "95acc3ee",
   "metadata": {},
   "source": [
    "nombre_infected       728\n",
    "nombre_sain          2358\n",
    "nombre_exposed        462\n",
    "nombre_recovered    16452\n",
    "Name: 171, dtype: int64"
   ]
  },
  {
   "cell_type": "markdown",
   "id": "3c3018d0",
   "metadata": {},
   "source": [
    "nombre_infected       766\n",
    "nombre_sain          2327\n",
    "nombre_exposed        461\n",
    "nombre_recovered    16446\n",
    "Name: 172, dtype: int64"
   ]
  },
  {
   "cell_type": "markdown",
   "id": "82af2d8b",
   "metadata": {},
   "source": [
    "nombre_infected       773\n",
    "nombre_sain          2299\n",
    "nombre_exposed        462\n",
    "nombre_recovered    16466\n",
    "Name: 173, dtype: int64"
   ]
  },
  {
   "cell_type": "markdown",
   "id": "ddca4ced",
   "metadata": {},
   "source": [
    "nombre_infected       790\n",
    "nombre_sain          2278\n",
    "nombre_exposed        455\n",
    "nombre_recovered    16477\n",
    "Name: 174, dtype: int64"
   ]
  },
  {
   "cell_type": "markdown",
   "id": "f50e3348",
   "metadata": {},
   "source": [
    "nombre_infected       774\n",
    "nombre_sain          2271\n",
    "nombre_exposed        447\n",
    "nombre_recovered    16508\n",
    "Name: 175, dtype: int64"
   ]
  },
  {
   "cell_type": "markdown",
   "id": "737ccc6e",
   "metadata": {},
   "source": [
    "nombre_infected       765\n",
    "nombre_sain          2240\n",
    "nombre_exposed        462\n",
    "nombre_recovered    16533\n",
    "Name: 176, dtype: int64"
   ]
  },
  {
   "cell_type": "markdown",
   "id": "3a014d3e",
   "metadata": {},
   "source": [
    "nombre_infected       782\n",
    "nombre_sain          2252\n",
    "nombre_exposed        441\n",
    "nombre_recovered    16525\n",
    "Name: 177, dtype: int64"
   ]
  },
  {
   "cell_type": "markdown",
   "id": "9a9ac7ba",
   "metadata": {},
   "source": [
    "nombre_infected       779\n",
    "nombre_sain          2246\n",
    "nombre_exposed        446\n",
    "nombre_recovered    16529\n",
    "Name: 178, dtype: int64"
   ]
  },
  {
   "cell_type": "markdown",
   "id": "4186e2ac",
   "metadata": {},
   "source": [
    "nombre_infected       762\n",
    "nombre_sain          2247\n",
    "nombre_exposed        463\n",
    "nombre_recovered    16528\n",
    "Name: 179, dtype: int64"
   ]
  },
  {
   "cell_type": "markdown",
   "id": "8bc9a14b",
   "metadata": {},
   "source": [
    "nombre_infected       766\n",
    "nombre_sain          2242\n",
    "nombre_exposed        473\n",
    "nombre_recovered    16519\n",
    "Name: 180, dtype: int64"
   ]
  },
  {
   "cell_type": "markdown",
   "id": "ca1b17c8",
   "metadata": {},
   "source": [
    "nombre_infected       788\n",
    "nombre_sain          2228\n",
    "nombre_exposed        484\n",
    "nombre_recovered    16500\n",
    "Name: 181, dtype: int64"
   ]
  },
  {
   "cell_type": "markdown",
   "id": "2c7cab62",
   "metadata": {},
   "source": [
    "nombre_infected       765\n",
    "nombre_sain          2245\n",
    "nombre_exposed        473\n",
    "nombre_recovered    16517\n",
    "Name: 182, dtype: int64"
   ]
  },
  {
   "cell_type": "markdown",
   "id": "45821166",
   "metadata": {},
   "source": [
    "nombre_infected       746\n",
    "nombre_sain          2274\n",
    "nombre_exposed        472\n",
    "nombre_recovered    16508\n",
    "Name: 183, dtype: int64"
   ]
  },
  {
   "cell_type": "markdown",
   "id": "8d334e00",
   "metadata": {},
   "source": [
    "nombre_infected       734\n",
    "nombre_sain          2286\n",
    "nombre_exposed        452\n",
    "nombre_recovered    16528\n",
    "Name: 184, dtype: int64"
   ]
  },
  {
   "cell_type": "markdown",
   "id": "91b4187f",
   "metadata": {},
   "source": [
    "nombre_infected       746\n",
    "nombre_sain          2293\n",
    "nombre_exposed        447\n",
    "nombre_recovered    16514\n",
    "Name: 185, dtype: int64"
   ]
  },
  {
   "cell_type": "markdown",
   "id": "b1b3c0b6",
   "metadata": {},
   "source": [
    "nombre_infected       743\n",
    "nombre_sain          2299\n",
    "nombre_exposed        457\n",
    "nombre_recovered    16501\n",
    "Name: 186, dtype: int64"
   ]
  },
  {
   "cell_type": "markdown",
   "id": "24ade485",
   "metadata": {},
   "source": [
    "nombre_infected       717\n",
    "nombre_sain          2321\n",
    "nombre_exposed        466\n",
    "nombre_recovered    16496\n",
    "Name: 187, dtype: int64"
   ]
  },
  {
   "cell_type": "markdown",
   "id": "37fc481b",
   "metadata": {},
   "source": [
    "nombre_infected       738\n",
    "nombre_sain          2335\n",
    "nombre_exposed        451\n",
    "nombre_recovered    16476\n",
    "Name: 188, dtype: int64"
   ]
  },
  {
   "cell_type": "markdown",
   "id": "a9d24dee",
   "metadata": {},
   "source": [
    "nombre_infected       730\n",
    "nombre_sain          2331\n",
    "nombre_exposed        468\n",
    "nombre_recovered    16471\n",
    "Name: 189, dtype: int64"
   ]
  },
  {
   "cell_type": "markdown",
   "id": "d43ca521",
   "metadata": {},
   "source": [
    "nombre_infected       720\n",
    "nombre_sain          2338\n",
    "nombre_exposed        473\n",
    "nombre_recovered    16469\n",
    "Name: 190, dtype: int64"
   ]
  },
  {
   "cell_type": "markdown",
   "id": "d9b97d02",
   "metadata": {},
   "source": [
    "nombre_infected       743\n",
    "nombre_sain          2322\n",
    "nombre_exposed        466\n",
    "nombre_recovered    16469\n",
    "Name: 191, dtype: int64"
   ]
  },
  {
   "cell_type": "markdown",
   "id": "f7518620",
   "metadata": {},
   "source": [
    "nombre_infected       737\n",
    "nombre_sain          2301\n",
    "nombre_exposed        482\n",
    "nombre_recovered    16480\n",
    "Name: 192, dtype: int64"
   ]
  },
  {
   "cell_type": "markdown",
   "id": "76ba3e8f",
   "metadata": {},
   "source": [
    "nombre_infected       725\n",
    "nombre_sain          2297\n",
    "nombre_exposed        474\n",
    "nombre_recovered    16504\n",
    "Name: 193, dtype: int64"
   ]
  },
  {
   "cell_type": "markdown",
   "id": "65f04135",
   "metadata": {},
   "source": [
    "nombre_infected       745\n",
    "nombre_sain          2261\n",
    "nombre_exposed        471\n",
    "nombre_recovered    16523\n",
    "Name: 194, dtype: int64"
   ]
  },
  {
   "cell_type": "markdown",
   "id": "bf88bc0c",
   "metadata": {},
   "source": [
    "nombre_infected       747\n",
    "nombre_sain          2267\n",
    "nombre_exposed        444\n",
    "nombre_recovered    16542\n",
    "Name: 195, dtype: int64"
   ]
  },
  {
   "cell_type": "markdown",
   "id": "2dd5742f",
   "metadata": {},
   "source": [
    "nombre_infected       738\n",
    "nombre_sain          2258\n",
    "nombre_exposed        444\n",
    "nombre_recovered    16560\n",
    "Name: 196, dtype: int64"
   ]
  },
  {
   "cell_type": "markdown",
   "id": "c039b3c3",
   "metadata": {},
   "source": [
    "nombre_infected       731\n",
    "nombre_sain          2236\n",
    "nombre_exposed        456\n",
    "nombre_recovered    16577\n",
    "Name: 197, dtype: int64"
   ]
  },
  {
   "cell_type": "markdown",
   "id": "55a833fe",
   "metadata": {},
   "source": [
    "nombre_infected       741\n",
    "nombre_sain          2214\n",
    "nombre_exposed        459\n",
    "nombre_recovered    16586\n",
    "Name: 198, dtype: int64"
   ]
  },
  {
   "cell_type": "markdown",
   "id": "2ec26f63",
   "metadata": {},
   "source": [
    "nombre_infected       746\n",
    "nombre_sain          2157\n",
    "nombre_exposed        471\n",
    "nombre_recovered    16626\n",
    "Name: 199, dtype: int64"
   ]
  },
  {
   "cell_type": "markdown",
   "id": "e99b6c13",
   "metadata": {},
   "source": [
    "nombre_infected       723\n",
    "nombre_sain          2149\n",
    "nombre_exposed        473\n",
    "nombre_recovered    16655\n",
    "Name: 200, dtype: int64"
   ]
  },
  {
   "cell_type": "markdown",
   "id": "17e83f5a",
   "metadata": {},
   "source": [
    "nombre_infected       731\n",
    "nombre_sain          2147\n",
    "nombre_exposed        459\n",
    "nombre_recovered    16663\n",
    "Name: 201, dtype: int64"
   ]
  },
  {
   "cell_type": "markdown",
   "id": "54f9a6fc",
   "metadata": {},
   "source": [
    "nombre_infected       736\n",
    "nombre_sain          2131\n",
    "nombre_exposed        450\n",
    "nombre_recovered    16683\n",
    "Name: 202, dtype: int64"
   ]
  },
  {
   "cell_type": "markdown",
   "id": "4bb92251",
   "metadata": {},
   "source": [
    "nombre_infected       749\n",
    "nombre_sain          2121\n",
    "nombre_exposed        457\n",
    "nombre_recovered    16673\n",
    "Name: 203, dtype: int64"
   ]
  },
  {
   "cell_type": "markdown",
   "id": "3b98d430",
   "metadata": {},
   "source": [
    "nombre_infected       759\n",
    "nombre_sain          2141\n",
    "nombre_exposed        434\n",
    "nombre_recovered    16666\n",
    "Name: 204, dtype: int64"
   ]
  },
  {
   "cell_type": "markdown",
   "id": "c09e0a64",
   "metadata": {},
   "source": [
    "nombre_infected       745\n",
    "nombre_sain          2148\n",
    "nombre_exposed        426\n",
    "nombre_recovered    16681\n",
    "Name: 205, dtype: int64"
   ]
  },
  {
   "cell_type": "markdown",
   "id": "a025ab59",
   "metadata": {},
   "source": [
    "nombre_infected       745\n",
    "nombre_sain          2136\n",
    "nombre_exposed        407\n",
    "nombre_recovered    16712\n",
    "Name: 206, dtype: int64"
   ]
  },
  {
   "cell_type": "markdown",
   "id": "41495637",
   "metadata": {},
   "source": [
    "nombre_infected       739\n",
    "nombre_sain          2118\n",
    "nombre_exposed        411\n",
    "nombre_recovered    16732\n",
    "Name: 207, dtype: int64"
   ]
  },
  {
   "cell_type": "markdown",
   "id": "4b5d10f3",
   "metadata": {},
   "source": [
    "nombre_infected       724\n",
    "nombre_sain          2118\n",
    "nombre_exposed        418\n",
    "nombre_recovered    16740\n",
    "Name: 208, dtype: int64"
   ]
  },
  {
   "cell_type": "markdown",
   "id": "20ba92fe",
   "metadata": {},
   "source": [
    "nombre_infected       725\n",
    "nombre_sain          2113\n",
    "nombre_exposed        430\n",
    "nombre_recovered    16732\n",
    "Name: 209, dtype: int64"
   ]
  },
  {
   "cell_type": "markdown",
   "id": "a7e2146e",
   "metadata": {},
   "source": [
    "nombre_infected       738\n",
    "nombre_sain          2114\n",
    "nombre_exposed        421\n",
    "nombre_recovered    16727\n",
    "Name: 210, dtype: int64"
   ]
  },
  {
   "cell_type": "markdown",
   "id": "44d1b9a2",
   "metadata": {},
   "source": [
    "nombre_infected       731\n",
    "nombre_sain          2111\n",
    "nombre_exposed        439\n",
    "nombre_recovered    16719\n",
    "Name: 211, dtype: int64"
   ]
  },
  {
   "cell_type": "markdown",
   "id": "51d72585",
   "metadata": {},
   "source": [
    "nombre_infected       715\n",
    "nombre_sain          2128\n",
    "nombre_exposed        437\n",
    "nombre_recovered    16720\n",
    "Name: 212, dtype: int64"
   ]
  },
  {
   "cell_type": "markdown",
   "id": "cedef8a5",
   "metadata": {},
   "source": [
    "nombre_infected       719\n",
    "nombre_sain          2126\n",
    "nombre_exposed        431\n",
    "nombre_recovered    16724\n",
    "Name: 213, dtype: int64"
   ]
  },
  {
   "cell_type": "markdown",
   "id": "ec575e73",
   "metadata": {},
   "source": [
    "nombre_infected       728\n",
    "nombre_sain          2122\n",
    "nombre_exposed        420\n",
    "nombre_recovered    16730\n",
    "Name: 214, dtype: int64"
   ]
  },
  {
   "cell_type": "markdown",
   "id": "47b051fb",
   "metadata": {},
   "source": [
    "nombre_infected       711\n",
    "nombre_sain          2122\n",
    "nombre_exposed        447\n",
    "nombre_recovered    16720\n",
    "Name: 215, dtype: int64"
   ]
  },
  {
   "cell_type": "markdown",
   "id": "9a3dc220",
   "metadata": {},
   "source": [
    "nombre_infected       726\n",
    "nombre_sain          2119\n",
    "nombre_exposed        469\n",
    "nombre_recovered    16686\n",
    "Name: 216, dtype: int64"
   ]
  },
  {
   "cell_type": "markdown",
   "id": "61bc591a",
   "metadata": {},
   "source": [
    "nombre_infected       723\n",
    "nombre_sain          2149\n",
    "nombre_exposed        464\n",
    "nombre_recovered    16664\n",
    "Name: 217, dtype: int64"
   ]
  },
  {
   "cell_type": "markdown",
   "id": "fda915c4",
   "metadata": {},
   "source": [
    "nombre_infected       710\n",
    "nombre_sain          2151\n",
    "nombre_exposed        465\n",
    "nombre_recovered    16674\n",
    "Name: 218, dtype: int64"
   ]
  },
  {
   "cell_type": "markdown",
   "id": "b3f45d8b",
   "metadata": {},
   "source": [
    "nombre_infected       704\n",
    "nombre_sain          2165\n",
    "nombre_exposed        465\n",
    "nombre_recovered    16666\n",
    "Name: 219, dtype: int64"
   ]
  },
  {
   "cell_type": "markdown",
   "id": "6cdcaf71",
   "metadata": {},
   "source": [
    "nombre_infected       708\n",
    "nombre_sain          2173\n",
    "nombre_exposed        461\n",
    "nombre_recovered    16658\n",
    "Name: 220, dtype: int64"
   ]
  },
  {
   "cell_type": "markdown",
   "id": "7a5b1bb9",
   "metadata": {},
   "source": [
    "nombre_infected       724\n",
    "nombre_sain          2176\n",
    "nombre_exposed        448\n",
    "nombre_recovered    16652\n",
    "Name: 221, dtype: int64"
   ]
  },
  {
   "cell_type": "markdown",
   "id": "96e9007c",
   "metadata": {},
   "source": [
    "nombre_infected       729\n",
    "nombre_sain          2182\n",
    "nombre_exposed        455\n",
    "nombre_recovered    16634\n",
    "Name: 222, dtype: int64"
   ]
  },
  {
   "cell_type": "markdown",
   "id": "93d1ff31",
   "metadata": {},
   "source": [
    "nombre_infected       707\n",
    "nombre_sain          2191\n",
    "nombre_exposed        470\n",
    "nombre_recovered    16632\n",
    "Name: 223, dtype: int64"
   ]
  },
  {
   "cell_type": "markdown",
   "id": "b9b99a79",
   "metadata": {},
   "source": [
    "nombre_infected       735\n",
    "nombre_sain          2210\n",
    "nombre_exposed        451\n",
    "nombre_recovered    16604\n",
    "Name: 224, dtype: int64"
   ]
  },
  {
   "cell_type": "markdown",
   "id": "3ae87567",
   "metadata": {},
   "source": [
    "nombre_infected       735\n",
    "nombre_sain          2237\n",
    "nombre_exposed        436\n",
    "nombre_recovered    16592\n",
    "Name: 225, dtype: int64"
   ]
  },
  {
   "cell_type": "markdown",
   "id": "4d8a7971",
   "metadata": {},
   "source": [
    "nombre_infected       741\n",
    "nombre_sain          2224\n",
    "nombre_exposed        446\n",
    "nombre_recovered    16589\n",
    "Name: 226, dtype: int64"
   ]
  },
  {
   "cell_type": "markdown",
   "id": "b8fc593f",
   "metadata": {},
   "source": [
    "nombre_infected       727\n",
    "nombre_sain          2228\n",
    "nombre_exposed        459\n",
    "nombre_recovered    16586\n",
    "Name: 227, dtype: int64"
   ]
  },
  {
   "cell_type": "markdown",
   "id": "ba536773",
   "metadata": {},
   "source": [
    "nombre_infected       704\n",
    "nombre_sain          2246\n",
    "nombre_exposed        482\n",
    "nombre_recovered    16568\n",
    "Name: 228, dtype: int64"
   ]
  },
  {
   "cell_type": "markdown",
   "id": "a1bff65f",
   "metadata": {},
   "source": [
    "nombre_infected       705\n",
    "nombre_sain          2259\n",
    "nombre_exposed        476\n",
    "nombre_recovered    16560\n",
    "Name: 229, dtype: int64"
   ]
  },
  {
   "cell_type": "markdown",
   "id": "9e8c5ab1",
   "metadata": {},
   "source": [
    "nombre_infected       716\n",
    "nombre_sain          2252\n",
    "nombre_exposed        486\n",
    "nombre_recovered    16546\n",
    "Name: 230, dtype: int64"
   ]
  },
  {
   "cell_type": "markdown",
   "id": "0db3d982",
   "metadata": {},
   "source": [
    "nombre_infected       717\n",
    "nombre_sain          2226\n",
    "nombre_exposed        496\n",
    "nombre_recovered    16561\n",
    "Name: 231, dtype: int64"
   ]
  },
  {
   "cell_type": "markdown",
   "id": "948bbb21",
   "metadata": {},
   "source": [
    "nombre_infected       710\n",
    "nombre_sain          2226\n",
    "nombre_exposed        506\n",
    "nombre_recovered    16558\n",
    "Name: 232, dtype: int64"
   ]
  },
  {
   "cell_type": "markdown",
   "id": "a50058f4",
   "metadata": {},
   "source": [
    "nombre_infected       736\n",
    "nombre_sain          2219\n",
    "nombre_exposed        500\n",
    "nombre_recovered    16545\n",
    "Name: 233, dtype: int64"
   ]
  },
  {
   "cell_type": "markdown",
   "id": "d88f8b72",
   "metadata": {},
   "source": [
    "nombre_infected       746\n",
    "nombre_sain          2227\n",
    "nombre_exposed        490\n",
    "nombre_recovered    16537\n",
    "Name: 234, dtype: int64"
   ]
  },
  {
   "cell_type": "markdown",
   "id": "291261c5",
   "metadata": {},
   "source": [
    "nombre_infected       768\n",
    "nombre_sain          2207\n",
    "nombre_exposed        478\n",
    "nombre_recovered    16547\n",
    "Name: 235, dtype: int64"
   ]
  },
  {
   "cell_type": "markdown",
   "id": "fcdb9c37",
   "metadata": {},
   "source": [
    "nombre_infected       776\n",
    "nombre_sain          2194\n",
    "nombre_exposed        485\n",
    "nombre_recovered    16545\n",
    "Name: 236, dtype: int64"
   ]
  },
  {
   "cell_type": "markdown",
   "id": "270cafb5",
   "metadata": {},
   "source": [
    "nombre_infected       783\n",
    "nombre_sain          2191\n",
    "nombre_exposed        486\n",
    "nombre_recovered    16540\n",
    "Name: 237, dtype: int64"
   ]
  },
  {
   "cell_type": "markdown",
   "id": "4755285f",
   "metadata": {},
   "source": [
    "nombre_infected       782\n",
    "nombre_sain          2210\n",
    "nombre_exposed        465\n",
    "nombre_recovered    16543\n",
    "Name: 238, dtype: int64"
   ]
  },
  {
   "cell_type": "markdown",
   "id": "0f95d085",
   "metadata": {},
   "source": [
    "nombre_infected       781\n",
    "nombre_sain          2200\n",
    "nombre_exposed        444\n",
    "nombre_recovered    16575\n",
    "Name: 239, dtype: int64"
   ]
  },
  {
   "cell_type": "markdown",
   "id": "202eb6be",
   "metadata": {},
   "source": [
    "nombre_infected       801\n",
    "nombre_sain          2207\n",
    "nombre_exposed        437\n",
    "nombre_recovered    16555\n",
    "Name: 240, dtype: int64"
   ]
  },
  {
   "cell_type": "markdown",
   "id": "6f839984",
   "metadata": {},
   "source": [
    "nombre_infected       800\n",
    "nombre_sain          2189\n",
    "nombre_exposed        435\n",
    "nombre_recovered    16576\n",
    "Name: 241, dtype: int64"
   ]
  },
  {
   "cell_type": "markdown",
   "id": "3492a762",
   "metadata": {},
   "source": [
    "nombre_infected       798\n",
    "nombre_sain          2182\n",
    "nombre_exposed        446\n",
    "nombre_recovered    16574\n",
    "Name: 242, dtype: int64"
   ]
  },
  {
   "cell_type": "markdown",
   "id": "c7d995ca",
   "metadata": {},
   "source": [
    "nombre_infected       792\n",
    "nombre_sain          2158\n",
    "nombre_exposed        452\n",
    "nombre_recovered    16598\n",
    "Name: 243, dtype: int64"
   ]
  },
  {
   "cell_type": "markdown",
   "id": "85366704",
   "metadata": {},
   "source": [
    "nombre_infected       794\n",
    "nombre_sain          2169\n",
    "nombre_exposed        441\n",
    "nombre_recovered    16596\n",
    "Name: 244, dtype: int64"
   ]
  },
  {
   "cell_type": "markdown",
   "id": "0b693d3d",
   "metadata": {},
   "source": [
    "nombre_infected       763\n",
    "nombre_sain          2163\n",
    "nombre_exposed        469\n",
    "nombre_recovered    16605\n",
    "Name: 245, dtype: int64"
   ]
  },
  {
   "cell_type": "markdown",
   "id": "54d10ab3",
   "metadata": {},
   "source": [
    "nombre_infected       750\n",
    "nombre_sain          2164\n",
    "nombre_exposed        464\n",
    "nombre_recovered    16622\n",
    "Name: 246, dtype: int64"
   ]
  },
  {
   "cell_type": "markdown",
   "id": "3c624a6d",
   "metadata": {},
   "source": [
    "nombre_infected       768\n",
    "nombre_sain          2160\n",
    "nombre_exposed        456\n",
    "nombre_recovered    16616\n",
    "Name: 247, dtype: int64"
   ]
  },
  {
   "cell_type": "markdown",
   "id": "aefe06cb",
   "metadata": {},
   "source": [
    "nombre_infected       771\n",
    "nombre_sain          2151\n",
    "nombre_exposed        462\n",
    "nombre_recovered    16616\n",
    "Name: 248, dtype: int64"
   ]
  },
  {
   "cell_type": "markdown",
   "id": "1e8046ac",
   "metadata": {},
   "source": [
    "nombre_infected       770\n",
    "nombre_sain          2142\n",
    "nombre_exposed        468\n",
    "nombre_recovered    16620\n",
    "Name: 249, dtype: int64"
   ]
  },
  {
   "cell_type": "markdown",
   "id": "7f9c05e7",
   "metadata": {},
   "source": [
    "nombre_infected       774\n",
    "nombre_sain          2146\n",
    "nombre_exposed        463\n",
    "nombre_recovered    16617\n",
    "Name: 250, dtype: int64"
   ]
  },
  {
   "cell_type": "markdown",
   "id": "7da3f0c3",
   "metadata": {},
   "source": [
    "nombre_infected       784\n",
    "nombre_sain          2166\n",
    "nombre_exposed        455\n",
    "nombre_recovered    16595\n",
    "Name: 251, dtype: int64"
   ]
  },
  {
   "cell_type": "markdown",
   "id": "cc8e9d95",
   "metadata": {},
   "source": [
    "nombre_infected       798\n",
    "nombre_sain          2143\n",
    "nombre_exposed        457\n",
    "nombre_recovered    16602\n",
    "Name: 252, dtype: int64"
   ]
  },
  {
   "cell_type": "markdown",
   "id": "04794ef8",
   "metadata": {},
   "source": [
    "nombre_infected       810\n",
    "nombre_sain          2170\n",
    "nombre_exposed        462\n",
    "nombre_recovered    16558\n",
    "Name: 253, dtype: int64"
   ]
  },
  {
   "cell_type": "markdown",
   "id": "47012176",
   "metadata": {},
   "source": [
    "nombre_infected       816\n",
    "nombre_sain          2172\n",
    "nombre_exposed        471\n",
    "nombre_recovered    16541\n",
    "Name: 254, dtype: int64"
   ]
  },
  {
   "cell_type": "markdown",
   "id": "0e526a03",
   "metadata": {},
   "source": [
    "nombre_infected       825\n",
    "nombre_sain          2192\n",
    "nombre_exposed        466\n",
    "nombre_recovered    16517\n",
    "Name: 255, dtype: int64"
   ]
  },
  {
   "cell_type": "markdown",
   "id": "61a33312",
   "metadata": {},
   "source": [
    "nombre_infected       830\n",
    "nombre_sain          2244\n",
    "nombre_exposed        437\n",
    "nombre_recovered    16489\n",
    "Name: 256, dtype: int64"
   ]
  },
  {
   "cell_type": "markdown",
   "id": "a1e7e9b2",
   "metadata": {},
   "source": [
    "nombre_infected       836\n",
    "nombre_sain          2239\n",
    "nombre_exposed        455\n",
    "nombre_recovered    16470\n",
    "Name: 257, dtype: int64"
   ]
  },
  {
   "cell_type": "markdown",
   "id": "c53d186e",
   "metadata": {},
   "source": [
    "nombre_infected       833\n",
    "nombre_sain          2275\n",
    "nombre_exposed        463\n",
    "nombre_recovered    16429\n",
    "Name: 258, dtype: int64"
   ]
  },
  {
   "cell_type": "markdown",
   "id": "efdd06b9",
   "metadata": {},
   "source": [
    "nombre_infected       829\n",
    "nombre_sain          2303\n",
    "nombre_exposed        453\n",
    "nombre_recovered    16415\n",
    "Name: 259, dtype: int64"
   ]
  },
  {
   "cell_type": "markdown",
   "id": "be7713ce",
   "metadata": {},
   "source": [
    "nombre_infected       830\n",
    "nombre_sain          2324\n",
    "nombre_exposed        471\n",
    "nombre_recovered    16375\n",
    "Name: 260, dtype: int64"
   ]
  },
  {
   "cell_type": "markdown",
   "id": "c96e631d",
   "metadata": {},
   "source": [
    "nombre_infected       824\n",
    "nombre_sain          2364\n",
    "nombre_exposed        485\n",
    "nombre_recovered    16327\n",
    "Name: 261, dtype: int64"
   ]
  },
  {
   "cell_type": "markdown",
   "id": "00d2009c",
   "metadata": {},
   "source": [
    "nombre_infected       843\n",
    "nombre_sain          2352\n",
    "nombre_exposed        517\n",
    "nombre_recovered    16288\n",
    "Name: 262, dtype: int64"
   ]
  },
  {
   "cell_type": "markdown",
   "id": "d3ef43ad",
   "metadata": {},
   "source": [
    "nombre_infected       859\n",
    "nombre_sain          2342\n",
    "nombre_exposed        522\n",
    "nombre_recovered    16277\n",
    "Name: 263, dtype: int64"
   ]
  },
  {
   "cell_type": "markdown",
   "id": "8f489f58",
   "metadata": {},
   "source": [
    "nombre_infected       857\n",
    "nombre_sain          2343\n",
    "nombre_exposed        533\n",
    "nombre_recovered    16267\n",
    "Name: 264, dtype: int64"
   ]
  },
  {
   "cell_type": "markdown",
   "id": "27403040",
   "metadata": {},
   "source": [
    "nombre_infected       876\n",
    "nombre_sain          2332\n",
    "nombre_exposed        542\n",
    "nombre_recovered    16250\n",
    "Name: 265, dtype: int64"
   ]
  },
  {
   "cell_type": "markdown",
   "id": "b9a6cafb",
   "metadata": {},
   "source": [
    "nombre_infected       898\n",
    "nombre_sain          2323\n",
    "nombre_exposed        552\n",
    "nombre_recovered    16227\n",
    "Name: 266, dtype: int64"
   ]
  },
  {
   "cell_type": "markdown",
   "id": "a10f7a61",
   "metadata": {},
   "source": [
    "nombre_infected       913\n",
    "nombre_sain          2322\n",
    "nombre_exposed        558\n",
    "nombre_recovered    16207\n",
    "Name: 267, dtype: int64"
   ]
  },
  {
   "cell_type": "markdown",
   "id": "5eaa93c4",
   "metadata": {},
   "source": [
    "nombre_infected       928\n",
    "nombre_sain          2309\n",
    "nombre_exposed        542\n",
    "nombre_recovered    16221\n",
    "Name: 268, dtype: int64"
   ]
  },
  {
   "cell_type": "markdown",
   "id": "56a6b972",
   "metadata": {},
   "source": [
    "nombre_infected       926\n",
    "nombre_sain          2309\n",
    "nombre_exposed        548\n",
    "nombre_recovered    16217\n",
    "Name: 269, dtype: int64"
   ]
  },
  {
   "cell_type": "markdown",
   "id": "bb4d7ace",
   "metadata": {},
   "source": [
    "nombre_infected       948\n",
    "nombre_sain          2279\n",
    "nombre_exposed        558\n",
    "nombre_recovered    16215\n",
    "Name: 270, dtype: int64"
   ]
  },
  {
   "cell_type": "markdown",
   "id": "e475091f",
   "metadata": {},
   "source": [
    "nombre_infected       941\n",
    "nombre_sain          2249\n",
    "nombre_exposed        573\n",
    "nombre_recovered    16237\n",
    "Name: 271, dtype: int64"
   ]
  },
  {
   "cell_type": "markdown",
   "id": "384ceb04",
   "metadata": {},
   "source": [
    "nombre_infected       973\n",
    "nombre_sain          2216\n",
    "nombre_exposed        577\n",
    "nombre_recovered    16234\n",
    "Name: 272, dtype: int64"
   ]
  },
  {
   "cell_type": "markdown",
   "id": "9f87d22f",
   "metadata": {},
   "source": [
    "nombre_infected       952\n",
    "nombre_sain          2198\n",
    "nombre_exposed        587\n",
    "nombre_recovered    16263\n",
    "Name: 273, dtype: int64"
   ]
  },
  {
   "cell_type": "markdown",
   "id": "b06726a2",
   "metadata": {},
   "source": [
    "nombre_infected       957\n",
    "nombre_sain          2185\n",
    "nombre_exposed        563\n",
    "nombre_recovered    16295\n",
    "Name: 274, dtype: int64"
   ]
  },
  {
   "cell_type": "markdown",
   "id": "6da370a6",
   "metadata": {},
   "source": [
    "nombre_infected       964\n",
    "nombre_sain          2165\n",
    "nombre_exposed        560\n",
    "nombre_recovered    16311\n",
    "Name: 275, dtype: int64"
   ]
  },
  {
   "cell_type": "markdown",
   "id": "ea6c209a",
   "metadata": {},
   "source": [
    "nombre_infected       995\n",
    "nombre_sain          2135\n",
    "nombre_exposed        548\n",
    "nombre_recovered    16322\n",
    "Name: 276, dtype: int64"
   ]
  },
  {
   "cell_type": "markdown",
   "id": "acb57396",
   "metadata": {},
   "source": [
    "nombre_infected      1010\n",
    "nombre_sain          2118\n",
    "nombre_exposed        554\n",
    "nombre_recovered    16318\n",
    "Name: 277, dtype: int64"
   ]
  },
  {
   "cell_type": "markdown",
   "id": "a7c30a01",
   "metadata": {},
   "source": [
    "nombre_infected      1016\n",
    "nombre_sain          2084\n",
    "nombre_exposed        566\n",
    "nombre_recovered    16334\n",
    "Name: 278, dtype: int64"
   ]
  },
  {
   "cell_type": "markdown",
   "id": "2da90df4",
   "metadata": {},
   "source": [
    "nombre_infected       991\n",
    "nombre_sain          2058\n",
    "nombre_exposed        575\n",
    "nombre_recovered    16376\n",
    "Name: 279, dtype: int64"
   ]
  },
  {
   "cell_type": "markdown",
   "id": "808ad17a",
   "metadata": {},
   "source": [
    "nombre_infected       974\n",
    "nombre_sain          2049\n",
    "nombre_exposed        577\n",
    "nombre_recovered    16400\n",
    "Name: 280, dtype: int64"
   ]
  },
  {
   "cell_type": "markdown",
   "id": "519472c6",
   "metadata": {},
   "source": [
    "nombre_infected       992\n",
    "nombre_sain          2028\n",
    "nombre_exposed        539\n",
    "nombre_recovered    16441\n",
    "Name: 281, dtype: int64"
   ]
  },
  {
   "cell_type": "markdown",
   "id": "59a0abd0",
   "metadata": {},
   "source": [
    "nombre_infected       994\n",
    "nombre_sain          2034\n",
    "nombre_exposed        517\n",
    "nombre_recovered    16455\n",
    "Name: 282, dtype: int64"
   ]
  },
  {
   "cell_type": "markdown",
   "id": "30df2dee",
   "metadata": {},
   "source": [
    "nombre_infected       961\n",
    "nombre_sain          2010\n",
    "nombre_exposed        540\n",
    "nombre_recovered    16489\n",
    "Name: 283, dtype: int64"
   ]
  },
  {
   "cell_type": "markdown",
   "id": "4d69152d",
   "metadata": {},
   "source": [
    "nombre_infected       966\n",
    "nombre_sain          2004\n",
    "nombre_exposed        521\n",
    "nombre_recovered    16509\n",
    "Name: 284, dtype: int64"
   ]
  },
  {
   "cell_type": "markdown",
   "id": "8c2fc17c",
   "metadata": {},
   "source": [
    "nombre_infected       938\n",
    "nombre_sain          1971\n",
    "nombre_exposed        544\n",
    "nombre_recovered    16547\n",
    "Name: 285, dtype: int64"
   ]
  },
  {
   "cell_type": "markdown",
   "id": "21766d64",
   "metadata": {},
   "source": [
    "nombre_infected       893\n",
    "nombre_sain          1969\n",
    "nombre_exposed        560\n",
    "nombre_recovered    16578\n",
    "Name: 286, dtype: int64"
   ]
  },
  {
   "cell_type": "markdown",
   "id": "a5e663b6",
   "metadata": {},
   "source": [
    "nombre_infected       914\n",
    "nombre_sain          1969\n",
    "nombre_exposed        505\n",
    "nombre_recovered    16612\n",
    "Name: 287, dtype: int64"
   ]
  },
  {
   "cell_type": "markdown",
   "id": "5c6fd7c7",
   "metadata": {},
   "source": [
    "nombre_infected       920\n",
    "nombre_sain          1971\n",
    "nombre_exposed        494\n",
    "nombre_recovered    16615\n",
    "Name: 288, dtype: int64"
   ]
  },
  {
   "cell_type": "markdown",
   "id": "2d3228d1",
   "metadata": {},
   "source": [
    "nombre_infected       883\n",
    "nombre_sain          2017\n",
    "nombre_exposed        482\n",
    "nombre_recovered    16618\n",
    "Name: 289, dtype: int64"
   ]
  },
  {
   "cell_type": "markdown",
   "id": "7316b3c7",
   "metadata": {},
   "source": [
    "nombre_infected       867\n",
    "nombre_sain          2038\n",
    "nombre_exposed        467\n",
    "nombre_recovered    16628\n",
    "Name: 290, dtype: int64"
   ]
  },
  {
   "cell_type": "markdown",
   "id": "e9c878cf",
   "metadata": {},
   "source": [
    "nombre_infected       849\n",
    "nombre_sain          2041\n",
    "nombre_exposed        467\n",
    "nombre_recovered    16643\n",
    "Name: 291, dtype: int64"
   ]
  },
  {
   "cell_type": "markdown",
   "id": "c31c3ef7",
   "metadata": {},
   "source": [
    "nombre_infected       846\n",
    "nombre_sain          2080\n",
    "nombre_exposed        449\n",
    "nombre_recovered    16625\n",
    "Name: 292, dtype: int64"
   ]
  },
  {
   "cell_type": "markdown",
   "id": "0f6d5747",
   "metadata": {},
   "source": [
    "nombre_infected       853\n",
    "nombre_sain          2080\n",
    "nombre_exposed        447\n",
    "nombre_recovered    16620\n",
    "Name: 293, dtype: int64"
   ]
  },
  {
   "cell_type": "markdown",
   "id": "85038172",
   "metadata": {},
   "source": [
    "nombre_infected       832\n",
    "nombre_sain          2109\n",
    "nombre_exposed        448\n",
    "nombre_recovered    16611\n",
    "Name: 294, dtype: int64"
   ]
  },
  {
   "cell_type": "markdown",
   "id": "1cf76b7f",
   "metadata": {},
   "source": [
    "nombre_infected       816\n",
    "nombre_sain          2136\n",
    "nombre_exposed        456\n",
    "nombre_recovered    16592\n",
    "Name: 295, dtype: int64"
   ]
  },
  {
   "cell_type": "markdown",
   "id": "693dbdfe",
   "metadata": {},
   "source": [
    "nombre_infected       824\n",
    "nombre_sain          2155\n",
    "nombre_exposed        430\n",
    "nombre_recovered    16591\n",
    "Name: 296, dtype: int64"
   ]
  },
  {
   "cell_type": "markdown",
   "id": "b21b851b",
   "metadata": {},
   "source": [
    "nombre_infected       804\n",
    "nombre_sain          2150\n",
    "nombre_exposed        449\n",
    "nombre_recovered    16597\n",
    "Name: 297, dtype: int64"
   ]
  },
  {
   "cell_type": "markdown",
   "id": "635f7f66",
   "metadata": {},
   "source": [
    "nombre_infected       776\n",
    "nombre_sain          2174\n",
    "nombre_exposed        448\n",
    "nombre_recovered    16602\n",
    "Name: 298, dtype: int64"
   ]
  },
  {
   "cell_type": "markdown",
   "id": "1c39786b",
   "metadata": {},
   "source": [
    "nombre_infected       760\n",
    "nombre_sain          2178\n",
    "nombre_exposed        466\n",
    "nombre_recovered    16596\n",
    "Name: 299, dtype: int64"
   ]
  },
  {
   "cell_type": "markdown",
   "id": "b2f04a44",
   "metadata": {},
   "source": [
    "nombre_infected       755\n",
    "nombre_sain          2180\n",
    "nombre_exposed        462\n",
    "nombre_recovered    16603\n",
    "Name: 300, dtype: int64"
   ]
  },
  {
   "cell_type": "markdown",
   "id": "c5a996da",
   "metadata": {},
   "source": [
    "nombre_infected       780\n",
    "nombre_sain          2204\n",
    "nombre_exposed        456\n",
    "nombre_recovered    16560\n",
    "Name: 301, dtype: int64"
   ]
  },
  {
   "cell_type": "markdown",
   "id": "dda12274",
   "metadata": {},
   "source": [
    "nombre_infected       787\n",
    "nombre_sain          2200\n",
    "nombre_exposed        445\n",
    "nombre_recovered    16568\n",
    "Name: 302, dtype: int64"
   ]
  },
  {
   "cell_type": "markdown",
   "id": "cced7afb",
   "metadata": {},
   "source": [
    "nombre_infected       765\n",
    "nombre_sain          2219\n",
    "nombre_exposed        456\n",
    "nombre_recovered    16560\n",
    "Name: 303, dtype: int64"
   ]
  },
  {
   "cell_type": "markdown",
   "id": "7009953a",
   "metadata": {},
   "source": [
    "nombre_infected       758\n",
    "nombre_sain          2233\n",
    "nombre_exposed        455\n",
    "nombre_recovered    16554\n",
    "Name: 304, dtype: int64"
   ]
  },
  {
   "cell_type": "markdown",
   "id": "612d5376",
   "metadata": {},
   "source": [
    "nombre_infected       737\n",
    "nombre_sain          2268\n",
    "nombre_exposed        437\n",
    "nombre_recovered    16558\n",
    "Name: 305, dtype: int64"
   ]
  },
  {
   "cell_type": "markdown",
   "id": "350b32f8",
   "metadata": {},
   "source": [
    "nombre_infected       708\n",
    "nombre_sain          2312\n",
    "nombre_exposed        433\n",
    "nombre_recovered    16547\n",
    "Name: 306, dtype: int64"
   ]
  },
  {
   "cell_type": "markdown",
   "id": "49dd3379",
   "metadata": {},
   "source": [
    "nombre_infected       696\n",
    "nombre_sain          2318\n",
    "nombre_exposed        433\n",
    "nombre_recovered    16553\n",
    "Name: 307, dtype: int64"
   ]
  },
  {
   "cell_type": "markdown",
   "id": "85b7e5cb",
   "metadata": {},
   "source": [
    "nombre_infected       692\n",
    "nombre_sain          2341\n",
    "nombre_exposed        430\n",
    "nombre_recovered    16537\n",
    "Name: 308, dtype: int64"
   ]
  },
  {
   "cell_type": "markdown",
   "id": "666366cb",
   "metadata": {},
   "source": [
    "nombre_infected       716\n",
    "nombre_sain          2355\n",
    "nombre_exposed        415\n",
    "nombre_recovered    16514\n",
    "Name: 309, dtype: int64"
   ]
  },
  {
   "cell_type": "markdown",
   "id": "5a1f4dce",
   "metadata": {},
   "source": [
    "nombre_infected       701\n",
    "nombre_sain          2371\n",
    "nombre_exposed        410\n",
    "nombre_recovered    16518\n",
    "Name: 310, dtype: int64"
   ]
  },
  {
   "cell_type": "markdown",
   "id": "56dd11dd",
   "metadata": {},
   "source": [
    "nombre_infected       713\n",
    "nombre_sain          2372\n",
    "nombre_exposed        420\n",
    "nombre_recovered    16495\n",
    "Name: 311, dtype: int64"
   ]
  },
  {
   "cell_type": "markdown",
   "id": "a160cedb",
   "metadata": {},
   "source": [
    "nombre_infected       691\n",
    "nombre_sain          2401\n",
    "nombre_exposed        430\n",
    "nombre_recovered    16478\n",
    "Name: 312, dtype: int64"
   ]
  },
  {
   "cell_type": "markdown",
   "id": "1c047971",
   "metadata": {},
   "source": [
    "nombre_infected       732\n",
    "nombre_sain          2398\n",
    "nombre_exposed        418\n",
    "nombre_recovered    16452\n",
    "Name: 313, dtype: int64"
   ]
  },
  {
   "cell_type": "markdown",
   "id": "6a48b591",
   "metadata": {},
   "source": [
    "nombre_infected       720\n",
    "nombre_sain          2416\n",
    "nombre_exposed        409\n",
    "nombre_recovered    16455\n",
    "Name: 314, dtype: int64"
   ]
  },
  {
   "cell_type": "markdown",
   "id": "50c92a02",
   "metadata": {},
   "source": [
    "nombre_infected       691\n",
    "nombre_sain          2382\n",
    "nombre_exposed        452\n",
    "nombre_recovered    16475\n",
    "Name: 315, dtype: int64"
   ]
  },
  {
   "cell_type": "markdown",
   "id": "c33b68ff",
   "metadata": {},
   "source": [
    "nombre_infected       706\n",
    "nombre_sain          2391\n",
    "nombre_exposed        433\n",
    "nombre_recovered    16470\n",
    "Name: 316, dtype: int64"
   ]
  },
  {
   "cell_type": "markdown",
   "id": "1352058a",
   "metadata": {},
   "source": [
    "nombre_infected       704\n",
    "nombre_sain          2374\n",
    "nombre_exposed        438\n",
    "nombre_recovered    16484\n",
    "Name: 317, dtype: int64"
   ]
  },
  {
   "cell_type": "markdown",
   "id": "a93fcbde",
   "metadata": {},
   "source": [
    "nombre_infected       726\n",
    "nombre_sain          2393\n",
    "nombre_exposed        430\n",
    "nombre_recovered    16451\n",
    "Name: 318, dtype: int64"
   ]
  },
  {
   "cell_type": "markdown",
   "id": "b5cdba94",
   "metadata": {},
   "source": [
    "nombre_infected       726\n",
    "nombre_sain          2388\n",
    "nombre_exposed        419\n",
    "nombre_recovered    16467\n",
    "Name: 319, dtype: int64"
   ]
  },
  {
   "cell_type": "markdown",
   "id": "7f0079ac",
   "metadata": {},
   "source": [
    "nombre_infected       722\n",
    "nombre_sain          2387\n",
    "nombre_exposed        424\n",
    "nombre_recovered    16467\n",
    "Name: 320, dtype: int64"
   ]
  },
  {
   "cell_type": "markdown",
   "id": "51fe24a7",
   "metadata": {},
   "source": [
    "nombre_infected       730\n",
    "nombre_sain          2415\n",
    "nombre_exposed        410\n",
    "nombre_recovered    16445\n",
    "Name: 321, dtype: int64"
   ]
  },
  {
   "cell_type": "markdown",
   "id": "f9c22d52",
   "metadata": {},
   "source": [
    "nombre_infected       710\n",
    "nombre_sain          2430\n",
    "nombre_exposed        426\n",
    "nombre_recovered    16434\n",
    "Name: 322, dtype: int64"
   ]
  },
  {
   "cell_type": "markdown",
   "id": "9cfda105",
   "metadata": {},
   "source": [
    "nombre_infected       701\n",
    "nombre_sain          2439\n",
    "nombre_exposed        435\n",
    "nombre_recovered    16425\n",
    "Name: 323, dtype: int64"
   ]
  },
  {
   "cell_type": "markdown",
   "id": "5444d79f",
   "metadata": {},
   "source": [
    "nombre_infected       697\n",
    "nombre_sain          2473\n",
    "nombre_exposed        414\n",
    "nombre_recovered    16416\n",
    "Name: 324, dtype: int64"
   ]
  },
  {
   "cell_type": "markdown",
   "id": "3413cba2",
   "metadata": {},
   "source": [
    "nombre_infected       694\n",
    "nombre_sain          2466\n",
    "nombre_exposed        410\n",
    "nombre_recovered    16430\n",
    "Name: 325, dtype: int64"
   ]
  },
  {
   "cell_type": "markdown",
   "id": "33f0aa59",
   "metadata": {},
   "source": [
    "nombre_infected       690\n",
    "nombre_sain          2473\n",
    "nombre_exposed        416\n",
    "nombre_recovered    16421\n",
    "Name: 326, dtype: int64"
   ]
  },
  {
   "cell_type": "markdown",
   "id": "d94ce35e",
   "metadata": {},
   "source": [
    "nombre_infected       698\n",
    "nombre_sain          2479\n",
    "nombre_exposed        428\n",
    "nombre_recovered    16395\n",
    "Name: 327, dtype: int64"
   ]
  },
  {
   "cell_type": "markdown",
   "id": "34497c9d",
   "metadata": {},
   "source": [
    "nombre_infected       689\n",
    "nombre_sain          2487\n",
    "nombre_exposed        446\n",
    "nombre_recovered    16378\n",
    "Name: 328, dtype: int64"
   ]
  },
  {
   "cell_type": "markdown",
   "id": "275de2c1",
   "metadata": {},
   "source": [
    "nombre_infected       702\n",
    "nombre_sain          2479\n",
    "nombre_exposed        460\n",
    "nombre_recovered    16359\n",
    "Name: 329, dtype: int64"
   ]
  },
  {
   "cell_type": "markdown",
   "id": "79dd705c",
   "metadata": {},
   "source": [
    "nombre_infected       732\n",
    "nombre_sain          2491\n",
    "nombre_exposed        448\n",
    "nombre_recovered    16329\n",
    "Name: 330, dtype: int64"
   ]
  },
  {
   "cell_type": "markdown",
   "id": "71d5b143",
   "metadata": {},
   "source": [
    "nombre_infected       747\n",
    "nombre_sain          2476\n",
    "nombre_exposed        469\n",
    "nombre_recovered    16308\n",
    "Name: 331, dtype: int64"
   ]
  },
  {
   "cell_type": "markdown",
   "id": "89413f85",
   "metadata": {},
   "source": [
    "nombre_infected       750\n",
    "nombre_sain          2472\n",
    "nombre_exposed        459\n",
    "nombre_recovered    16319\n",
    "Name: 332, dtype: int64"
   ]
  },
  {
   "cell_type": "markdown",
   "id": "f1cc32d9",
   "metadata": {},
   "source": [
    "nombre_infected       763\n",
    "nombre_sain          2442\n",
    "nombre_exposed        485\n",
    "nombre_recovered    16310\n",
    "Name: 333, dtype: int64"
   ]
  },
  {
   "cell_type": "markdown",
   "id": "11813de6",
   "metadata": {},
   "source": [
    "nombre_infected       755\n",
    "nombre_sain          2439\n",
    "nombre_exposed        483\n",
    "nombre_recovered    16323\n",
    "Name: 334, dtype: int64"
   ]
  },
  {
   "cell_type": "markdown",
   "id": "8b9396b4",
   "metadata": {},
   "source": [
    "nombre_infected       774\n",
    "nombre_sain          2411\n",
    "nombre_exposed        473\n",
    "nombre_recovered    16342\n",
    "Name: 335, dtype: int64"
   ]
  },
  {
   "cell_type": "markdown",
   "id": "6bb3f0d6",
   "metadata": {},
   "source": [
    "nombre_infected       769\n",
    "nombre_sain          2399\n",
    "nombre_exposed        481\n",
    "nombre_recovered    16351\n",
    "Name: 336, dtype: int64"
   ]
  },
  {
   "cell_type": "markdown",
   "id": "748c87ad",
   "metadata": {},
   "source": [
    "nombre_infected       771\n",
    "nombre_sain          2358\n",
    "nombre_exposed        489\n",
    "nombre_recovered    16382\n",
    "Name: 337, dtype: int64"
   ]
  },
  {
   "cell_type": "markdown",
   "id": "84428373",
   "metadata": {},
   "source": [
    "nombre_infected       778\n",
    "nombre_sain          2370\n",
    "nombre_exposed        466\n",
    "nombre_recovered    16386\n",
    "Name: 338, dtype: int64"
   ]
  },
  {
   "cell_type": "markdown",
   "id": "8b155ffc",
   "metadata": {},
   "source": [
    "nombre_infected       801\n",
    "nombre_sain          2354\n",
    "nombre_exposed        447\n",
    "nombre_recovered    16398\n",
    "Name: 339, dtype: int64"
   ]
  },
  {
   "cell_type": "markdown",
   "id": "01a8ad9f",
   "metadata": {},
   "source": [
    "nombre_infected       817\n",
    "nombre_sain          2349\n",
    "nombre_exposed        440\n",
    "nombre_recovered    16394\n",
    "Name: 340, dtype: int64"
   ]
  },
  {
   "cell_type": "markdown",
   "id": "2613f645",
   "metadata": {},
   "source": [
    "nombre_infected       804\n",
    "nombre_sain          2346\n",
    "nombre_exposed        458\n",
    "nombre_recovered    16392\n",
    "Name: 341, dtype: int64"
   ]
  },
  {
   "cell_type": "markdown",
   "id": "79ec691d",
   "metadata": {},
   "source": [
    "nombre_infected       775\n",
    "nombre_sain          2332\n",
    "nombre_exposed        484\n",
    "nombre_recovered    16409\n",
    "Name: 342, dtype: int64"
   ]
  },
  {
   "cell_type": "markdown",
   "id": "76340cfb",
   "metadata": {},
   "source": [
    "nombre_infected       787\n",
    "nombre_sain          2334\n",
    "nombre_exposed        494\n",
    "nombre_recovered    16385\n",
    "Name: 343, dtype: int64"
   ]
  },
  {
   "cell_type": "markdown",
   "id": "1d39b8ef",
   "metadata": {},
   "source": [
    "nombre_infected       799\n",
    "nombre_sain          2352\n",
    "nombre_exposed        479\n",
    "nombre_recovered    16370\n",
    "Name: 344, dtype: int64"
   ]
  },
  {
   "cell_type": "markdown",
   "id": "a1a7c294",
   "metadata": {},
   "source": [
    "nombre_infected       794\n",
    "nombre_sain          2346\n",
    "nombre_exposed        486\n",
    "nombre_recovered    16374\n",
    "Name: 345, dtype: int64"
   ]
  },
  {
   "cell_type": "markdown",
   "id": "c728fd97",
   "metadata": {},
   "source": [
    "nombre_infected       813\n",
    "nombre_sain          2330\n",
    "nombre_exposed        491\n",
    "nombre_recovered    16366\n",
    "Name: 346, dtype: int64"
   ]
  },
  {
   "cell_type": "markdown",
   "id": "09ee1ab9",
   "metadata": {},
   "source": [
    "nombre_infected       816\n",
    "nombre_sain          2327\n",
    "nombre_exposed        492\n",
    "nombre_recovered    16365\n",
    "Name: 347, dtype: int64"
   ]
  },
  {
   "cell_type": "markdown",
   "id": "33ababdc",
   "metadata": {},
   "source": [
    "nombre_infected       825\n",
    "nombre_sain          2311\n",
    "nombre_exposed        494\n",
    "nombre_recovered    16370\n",
    "Name: 348, dtype: int64"
   ]
  },
  {
   "cell_type": "markdown",
   "id": "1b434102",
   "metadata": {},
   "source": [
    "nombre_infected       822\n",
    "nombre_sain          2315\n",
    "nombre_exposed        497\n",
    "nombre_recovered    16366\n",
    "Name: 349, dtype: int64"
   ]
  },
  {
   "cell_type": "markdown",
   "id": "2c556557",
   "metadata": {},
   "source": [
    "nombre_infected       825\n",
    "nombre_sain          2329\n",
    "nombre_exposed        503\n",
    "nombre_recovered    16343\n",
    "Name: 350, dtype: int64"
   ]
  },
  {
   "cell_type": "markdown",
   "id": "2ac9e6b3",
   "metadata": {},
   "source": [
    "nombre_infected       813\n",
    "nombre_sain          2342\n",
    "nombre_exposed        510\n",
    "nombre_recovered    16335\n",
    "Name: 351, dtype: int64"
   ]
  },
  {
   "cell_type": "markdown",
   "id": "f07363a6",
   "metadata": {},
   "source": [
    "nombre_infected       824\n",
    "nombre_sain          2346\n",
    "nombre_exposed        495\n",
    "nombre_recovered    16335\n",
    "Name: 352, dtype: int64"
   ]
  },
  {
   "cell_type": "markdown",
   "id": "ebc9401e",
   "metadata": {},
   "source": [
    "nombre_infected       833\n",
    "nombre_sain          2374\n",
    "nombre_exposed        485\n",
    "nombre_recovered    16308\n",
    "Name: 353, dtype: int64"
   ]
  },
  {
   "cell_type": "markdown",
   "id": "a303b100",
   "metadata": {},
   "source": [
    "nombre_infected       820\n",
    "nombre_sain          2372\n",
    "nombre_exposed        507\n",
    "nombre_recovered    16301\n",
    "Name: 354, dtype: int64"
   ]
  },
  {
   "cell_type": "markdown",
   "id": "e92c9c2f",
   "metadata": {},
   "source": [
    "nombre_infected       813\n",
    "nombre_sain          2398\n",
    "nombre_exposed        490\n",
    "nombre_recovered    16299\n",
    "Name: 355, dtype: int64"
   ]
  },
  {
   "cell_type": "markdown",
   "id": "571230e8",
   "metadata": {},
   "source": [
    "nombre_infected       781\n",
    "nombre_sain          2414\n",
    "nombre_exposed        493\n",
    "nombre_recovered    16312\n",
    "Name: 356, dtype: int64"
   ]
  },
  {
   "cell_type": "markdown",
   "id": "202f362a",
   "metadata": {},
   "source": [
    "nombre_infected       800\n",
    "nombre_sain          2415\n",
    "nombre_exposed        478\n",
    "nombre_recovered    16307\n",
    "Name: 357, dtype: int64"
   ]
  },
  {
   "cell_type": "markdown",
   "id": "c1f20c6b",
   "metadata": {},
   "source": [
    "nombre_infected       800\n",
    "nombre_sain          2392\n",
    "nombre_exposed        486\n",
    "nombre_recovered    16322\n",
    "Name: 358, dtype: int64"
   ]
  },
  {
   "cell_type": "markdown",
   "id": "e7cf4b09",
   "metadata": {},
   "source": [
    "nombre_infected       815\n",
    "nombre_sain          2399\n",
    "nombre_exposed        457\n",
    "nombre_recovered    16329\n",
    "Name: 359, dtype: int64"
   ]
  },
  {
   "cell_type": "markdown",
   "id": "3467752f",
   "metadata": {},
   "source": [
    "nombre_infected       801\n",
    "nombre_sain          2422\n",
    "nombre_exposed        474\n",
    "nombre_recovered    16303\n",
    "Name: 360, dtype: int64"
   ]
  },
  {
   "cell_type": "markdown",
   "id": "3538756c",
   "metadata": {},
   "source": [
    "nombre_infected       819\n",
    "nombre_sain          2417\n",
    "nombre_exposed        480\n",
    "nombre_recovered    16284\n",
    "Name: 361, dtype: int64"
   ]
  },
  {
   "cell_type": "markdown",
   "id": "c990bd66",
   "metadata": {},
   "source": [
    "nombre_infected       813\n",
    "nombre_sain          2395\n",
    "nombre_exposed        524\n",
    "nombre_recovered    16268\n",
    "Name: 362, dtype: int64"
   ]
  },
  {
   "cell_type": "markdown",
   "id": "ae2e0383",
   "metadata": {},
   "source": [
    "nombre_infected       813\n",
    "nombre_sain          2374\n",
    "nombre_exposed        530\n",
    "nombre_recovered    16283\n",
    "Name: 363, dtype: int64"
   ]
  },
  {
   "cell_type": "markdown",
   "id": "0c81daa1",
   "metadata": {},
   "source": [
    "nombre_infected       834\n",
    "nombre_sain          2383\n",
    "nombre_exposed        519\n",
    "nombre_recovered    16264\n",
    "Name: 364, dtype: int64"
   ]
  },
  {
   "cell_type": "markdown",
   "id": "11ef18eb",
   "metadata": {},
   "source": [
    "nombre_infected       839\n",
    "nombre_sain          2393\n",
    "nombre_exposed        520\n",
    "nombre_recovered    16248\n",
    "Name: 365, dtype: int64"
   ]
  },
  {
   "cell_type": "markdown",
   "id": "35118db7",
   "metadata": {},
   "source": [
    "nombre_infected       835\n",
    "nombre_sain          2407\n",
    "nombre_exposed        528\n",
    "nombre_recovered    16230\n",
    "Name: 366, dtype: int64"
   ]
  },
  {
   "cell_type": "markdown",
   "id": "a20fc185",
   "metadata": {},
   "source": [
    "nombre_infected       853\n",
    "nombre_sain          2385\n",
    "nombre_exposed        529\n",
    "nombre_recovered    16233\n",
    "Name: 367, dtype: int64"
   ]
  },
  {
   "cell_type": "markdown",
   "id": "6f017185",
   "metadata": {},
   "source": [
    "nombre_infected       892\n",
    "nombre_sain          2375\n",
    "nombre_exposed        524\n",
    "nombre_recovered    16209\n",
    "Name: 368, dtype: int64"
   ]
  },
  {
   "cell_type": "markdown",
   "id": "4f80895f",
   "metadata": {},
   "source": [
    "nombre_infected       895\n",
    "nombre_sain          2345\n",
    "nombre_exposed        534\n",
    "nombre_recovered    16226\n",
    "Name: 369, dtype: int64"
   ]
  },
  {
   "cell_type": "markdown",
   "id": "1c451d5e",
   "metadata": {},
   "source": [
    "nombre_infected       919\n",
    "nombre_sain          2308\n",
    "nombre_exposed        544\n",
    "nombre_recovered    16229\n",
    "Name: 370, dtype: int64"
   ]
  },
  {
   "cell_type": "markdown",
   "id": "e323bacc",
   "metadata": {},
   "source": [
    "nombre_infected       926\n",
    "nombre_sain          2291\n",
    "nombre_exposed        551\n",
    "nombre_recovered    16232\n",
    "Name: 371, dtype: int64"
   ]
  },
  {
   "cell_type": "markdown",
   "id": "d233d7db",
   "metadata": {},
   "source": [
    "nombre_infected       922\n",
    "nombre_sain          2263\n",
    "nombre_exposed        564\n",
    "nombre_recovered    16251\n",
    "Name: 372, dtype: int64"
   ]
  },
  {
   "cell_type": "markdown",
   "id": "da589f0c",
   "metadata": {},
   "source": [
    "nombre_infected       911\n",
    "nombre_sain          2263\n",
    "nombre_exposed        553\n",
    "nombre_recovered    16273\n",
    "Name: 373, dtype: int64"
   ]
  },
  {
   "cell_type": "markdown",
   "id": "2acfe59b",
   "metadata": {},
   "source": [
    "nombre_infected       930\n",
    "nombre_sain          2220\n",
    "nombre_exposed        547\n",
    "nombre_recovered    16303\n",
    "Name: 374, dtype: int64"
   ]
  },
  {
   "cell_type": "markdown",
   "id": "930b43aa",
   "metadata": {},
   "source": [
    "nombre_infected       941\n",
    "nombre_sain          2194\n",
    "nombre_exposed        551\n",
    "nombre_recovered    16314\n",
    "Name: 375, dtype: int64"
   ]
  },
  {
   "cell_type": "markdown",
   "id": "2aee88d6",
   "metadata": {},
   "source": [
    "nombre_infected       953\n",
    "nombre_sain          2183\n",
    "nombre_exposed        535\n",
    "nombre_recovered    16329\n",
    "Name: 376, dtype: int64"
   ]
  },
  {
   "cell_type": "markdown",
   "id": "95214b07",
   "metadata": {},
   "source": [
    "nombre_infected       934\n",
    "nombre_sain          2163\n",
    "nombre_exposed        545\n",
    "nombre_recovered    16358\n",
    "Name: 377, dtype: int64"
   ]
  },
  {
   "cell_type": "markdown",
   "id": "978c910a",
   "metadata": {},
   "source": [
    "nombre_infected       918\n",
    "nombre_sain          2179\n",
    "nombre_exposed        543\n",
    "nombre_recovered    16360\n",
    "Name: 378, dtype: int64"
   ]
  },
  {
   "cell_type": "markdown",
   "id": "df383333",
   "metadata": {},
   "source": [
    "nombre_infected       921\n",
    "nombre_sain          2180\n",
    "nombre_exposed        529\n",
    "nombre_recovered    16370\n",
    "Name: 379, dtype: int64"
   ]
  },
  {
   "cell_type": "markdown",
   "id": "89c641c3",
   "metadata": {},
   "source": [
    "nombre_infected       917\n",
    "nombre_sain          2184\n",
    "nombre_exposed        514\n",
    "nombre_recovered    16385\n",
    "Name: 380, dtype: int64"
   ]
  },
  {
   "cell_type": "markdown",
   "id": "c73874df",
   "metadata": {},
   "source": [
    "nombre_infected       928\n",
    "nombre_sain          2179\n",
    "nombre_exposed        495\n",
    "nombre_recovered    16398\n",
    "Name: 381, dtype: int64"
   ]
  },
  {
   "cell_type": "markdown",
   "id": "e52f4734",
   "metadata": {},
   "source": [
    "nombre_infected       906\n",
    "nombre_sain          2171\n",
    "nombre_exposed        497\n",
    "nombre_recovered    16426\n",
    "Name: 382, dtype: int64"
   ]
  },
  {
   "cell_type": "markdown",
   "id": "0ecc9ff9",
   "metadata": {},
   "source": [
    "nombre_infected       907\n",
    "nombre_sain          2167\n",
    "nombre_exposed        490\n",
    "nombre_recovered    16436\n",
    "Name: 383, dtype: int64"
   ]
  },
  {
   "cell_type": "markdown",
   "id": "f5e7b519",
   "metadata": {},
   "source": [
    "nombre_infected       899\n",
    "nombre_sain          2142\n",
    "nombre_exposed        496\n",
    "nombre_recovered    16463\n",
    "Name: 384, dtype: int64"
   ]
  },
  {
   "cell_type": "markdown",
   "id": "8881488d",
   "metadata": {},
   "source": [
    "nombre_infected       884\n",
    "nombre_sain          2167\n",
    "nombre_exposed        479\n",
    "nombre_recovered    16470\n",
    "Name: 385, dtype: int64"
   ]
  },
  {
   "cell_type": "markdown",
   "id": "0b9ed065",
   "metadata": {},
   "source": [
    "nombre_infected       887\n",
    "nombre_sain          2152\n",
    "nombre_exposed        465\n",
    "nombre_recovered    16496\n",
    "Name: 386, dtype: int64"
   ]
  },
  {
   "cell_type": "markdown",
   "id": "be725565",
   "metadata": {},
   "source": [
    "nombre_infected       900\n",
    "nombre_sain          2142\n",
    "nombre_exposed        479\n",
    "nombre_recovered    16479\n",
    "Name: 387, dtype: int64"
   ]
  },
  {
   "cell_type": "markdown",
   "id": "52d604fc",
   "metadata": {},
   "source": [
    "nombre_infected       911\n",
    "nombre_sain          2159\n",
    "nombre_exposed        464\n",
    "nombre_recovered    16466\n",
    "Name: 388, dtype: int64"
   ]
  },
  {
   "cell_type": "markdown",
   "id": "44bbb25b",
   "metadata": {},
   "source": [
    "nombre_infected       888\n",
    "nombre_sain          2166\n",
    "nombre_exposed        463\n",
    "nombre_recovered    16483\n",
    "Name: 389, dtype: int64"
   ]
  },
  {
   "cell_type": "markdown",
   "id": "ed480cac",
   "metadata": {},
   "source": [
    "nombre_infected       857\n",
    "nombre_sain          2135\n",
    "nombre_exposed        486\n",
    "nombre_recovered    16522\n",
    "Name: 390, dtype: int64"
   ]
  },
  {
   "cell_type": "markdown",
   "id": "c084e8cb",
   "metadata": {},
   "source": [
    "nombre_infected       865\n",
    "nombre_sain          2111\n",
    "nombre_exposed        485\n",
    "nombre_recovered    16539\n",
    "Name: 391, dtype: int64"
   ]
  },
  {
   "cell_type": "markdown",
   "id": "cd60dcd2",
   "metadata": {},
   "source": [
    "nombre_infected       840\n",
    "nombre_sain          2117\n",
    "nombre_exposed        477\n",
    "nombre_recovered    16566\n",
    "Name: 392, dtype: int64"
   ]
  },
  {
   "cell_type": "markdown",
   "id": "898133f5",
   "metadata": {},
   "source": [
    "nombre_infected       837\n",
    "nombre_sain          2106\n",
    "nombre_exposed        478\n",
    "nombre_recovered    16579\n",
    "Name: 393, dtype: int64"
   ]
  },
  {
   "cell_type": "markdown",
   "id": "d8ee634c",
   "metadata": {},
   "source": [
    "nombre_infected       835\n",
    "nombre_sain          2108\n",
    "nombre_exposed        464\n",
    "nombre_recovered    16593\n",
    "Name: 394, dtype: int64"
   ]
  },
  {
   "cell_type": "markdown",
   "id": "b7ff4bce",
   "metadata": {},
   "source": [
    "nombre_infected       822\n",
    "nombre_sain          2103\n",
    "nombre_exposed        475\n",
    "nombre_recovered    16600\n",
    "Name: 395, dtype: int64"
   ]
  },
  {
   "cell_type": "markdown",
   "id": "5d187882",
   "metadata": {},
   "source": [
    "nombre_infected       825\n",
    "nombre_sain          2103\n",
    "nombre_exposed        486\n",
    "nombre_recovered    16586\n",
    "Name: 396, dtype: int64"
   ]
  },
  {
   "cell_type": "markdown",
   "id": "189e2c2b",
   "metadata": {},
   "source": [
    "nombre_infected       813\n",
    "nombre_sain          2108\n",
    "nombre_exposed        473\n",
    "nombre_recovered    16606\n",
    "Name: 397, dtype: int64"
   ]
  },
  {
   "cell_type": "markdown",
   "id": "6eb150bb",
   "metadata": {},
   "source": [
    "nombre_infected       799\n",
    "nombre_sain          2145\n",
    "nombre_exposed        458\n",
    "nombre_recovered    16598\n",
    "Name: 398, dtype: int64"
   ]
  },
  {
   "cell_type": "markdown",
   "id": "d973bd97",
   "metadata": {},
   "source": [
    "nombre_infected       807\n",
    "nombre_sain          2145\n",
    "nombre_exposed        450\n",
    "nombre_recovered    16598\n",
    "Name: 399, dtype: int64"
   ]
  },
  {
   "cell_type": "markdown",
   "id": "d58a63df",
   "metadata": {},
   "source": [
    "nombre_infected       809\n",
    "nombre_sain          2155\n",
    "nombre_exposed        440\n",
    "nombre_recovered    16596\n",
    "Name: 400, dtype: int64"
   ]
  },
  {
   "cell_type": "markdown",
   "id": "ed6903db",
   "metadata": {},
   "source": [
    "nombre_infected       808\n",
    "nombre_sain          2154\n",
    "nombre_exposed        447\n",
    "nombre_recovered    16591\n",
    "Name: 401, dtype: int64"
   ]
  },
  {
   "cell_type": "markdown",
   "id": "96d7ffd9",
   "metadata": {},
   "source": [
    "nombre_infected       792\n",
    "nombre_sain          2152\n",
    "nombre_exposed        439\n",
    "nombre_recovered    16617\n",
    "Name: 402, dtype: int64"
   ]
  },
  {
   "cell_type": "markdown",
   "id": "2636b29b",
   "metadata": {},
   "source": [
    "nombre_infected       795\n",
    "nombre_sain          2157\n",
    "nombre_exposed        429\n",
    "nombre_recovered    16619\n",
    "Name: 403, dtype: int64"
   ]
  },
  {
   "cell_type": "markdown",
   "id": "2ad2a47f",
   "metadata": {},
   "source": [
    "nombre_infected       771\n",
    "nombre_sain          2153\n",
    "nombre_exposed        462\n",
    "nombre_recovered    16614\n",
    "Name: 404, dtype: int64"
   ]
  },
  {
   "cell_type": "markdown",
   "id": "a0ecaaa4",
   "metadata": {},
   "source": [
    "nombre_infected       777\n",
    "nombre_sain          2163\n",
    "nombre_exposed        454\n",
    "nombre_recovered    16606\n",
    "Name: 405, dtype: int64"
   ]
  },
  {
   "cell_type": "markdown",
   "id": "fab70aed",
   "metadata": {},
   "source": [
    "nombre_infected       782\n",
    "nombre_sain          2177\n",
    "nombre_exposed        450\n",
    "nombre_recovered    16591\n",
    "Name: 406, dtype: int64"
   ]
  },
  {
   "cell_type": "markdown",
   "id": "efd31fdf",
   "metadata": {},
   "source": [
    "nombre_infected       795\n",
    "nombre_sain          2154\n",
    "nombre_exposed        469\n",
    "nombre_recovered    16582\n",
    "Name: 407, dtype: int64"
   ]
  },
  {
   "cell_type": "markdown",
   "id": "9bfdc93c",
   "metadata": {},
   "source": [
    "nombre_infected       782\n",
    "nombre_sain          2147\n",
    "nombre_exposed        469\n",
    "nombre_recovered    16602\n",
    "Name: 408, dtype: int64"
   ]
  },
  {
   "cell_type": "markdown",
   "id": "b6a6ad75",
   "metadata": {},
   "source": [
    "nombre_infected       776\n",
    "nombre_sain          2125\n",
    "nombre_exposed        481\n",
    "nombre_recovered    16618\n",
    "Name: 409, dtype: int64"
   ]
  },
  {
   "cell_type": "markdown",
   "id": "38912164",
   "metadata": {},
   "source": [
    "nombre_infected       794\n",
    "nombre_sain          2104\n",
    "nombre_exposed        486\n",
    "nombre_recovered    16616\n",
    "Name: 410, dtype: int64"
   ]
  },
  {
   "cell_type": "markdown",
   "id": "610f8279",
   "metadata": {},
   "source": [
    "nombre_infected       807\n",
    "nombre_sain          2089\n",
    "nombre_exposed        487\n",
    "nombre_recovered    16617\n",
    "Name: 411, dtype: int64"
   ]
  },
  {
   "cell_type": "markdown",
   "id": "741ee5af",
   "metadata": {},
   "source": [
    "nombre_infected       792\n",
    "nombre_sain          2123\n",
    "nombre_exposed        461\n",
    "nombre_recovered    16624\n",
    "Name: 412, dtype: int64"
   ]
  },
  {
   "cell_type": "markdown",
   "id": "754f97d2",
   "metadata": {},
   "source": [
    "nombre_infected       805\n",
    "nombre_sain          2107\n",
    "nombre_exposed        446\n",
    "nombre_recovered    16642\n",
    "Name: 413, dtype: int64"
   ]
  },
  {
   "cell_type": "markdown",
   "id": "f045037c",
   "metadata": {},
   "source": [
    "nombre_infected       809\n",
    "nombre_sain          2105\n",
    "nombre_exposed        427\n",
    "nombre_recovered    16659\n",
    "Name: 414, dtype: int64"
   ]
  },
  {
   "cell_type": "markdown",
   "id": "a1c72b81",
   "metadata": {},
   "source": [
    "nombre_infected       817\n",
    "nombre_sain          2096\n",
    "nombre_exposed        428\n",
    "nombre_recovered    16659\n",
    "Name: 415, dtype: int64"
   ]
  },
  {
   "cell_type": "markdown",
   "id": "a0c3c181",
   "metadata": {},
   "source": [
    "nombre_infected       819\n",
    "nombre_sain          2088\n",
    "nombre_exposed        443\n",
    "nombre_recovered    16650\n",
    "Name: 416, dtype: int64"
   ]
  },
  {
   "cell_type": "markdown",
   "id": "11ee88a0",
   "metadata": {},
   "source": [
    "nombre_infected       810\n",
    "nombre_sain          2092\n",
    "nombre_exposed        444\n",
    "nombre_recovered    16654\n",
    "Name: 417, dtype: int64"
   ]
  },
  {
   "cell_type": "markdown",
   "id": "5b687e7b",
   "metadata": {},
   "source": [
    "nombre_infected       803\n",
    "nombre_sain          2102\n",
    "nombre_exposed        431\n",
    "nombre_recovered    16664\n",
    "Name: 418, dtype: int64"
   ]
  },
  {
   "cell_type": "markdown",
   "id": "c83e558e",
   "metadata": {},
   "source": [
    "nombre_infected       787\n",
    "nombre_sain          2121\n",
    "nombre_exposed        431\n",
    "nombre_recovered    16661\n",
    "Name: 419, dtype: int64"
   ]
  },
  {
   "cell_type": "markdown",
   "id": "72133e94",
   "metadata": {},
   "source": [
    "nombre_infected       769\n",
    "nombre_sain          2152\n",
    "nombre_exposed        405\n",
    "nombre_recovered    16674\n",
    "Name: 420, dtype: int64"
   ]
  },
  {
   "cell_type": "markdown",
   "id": "671af025",
   "metadata": {},
   "source": [
    "nombre_infected       753\n",
    "nombre_sain          2178\n",
    "nombre_exposed        396\n",
    "nombre_recovered    16673\n",
    "Name: 421, dtype: int64"
   ]
  },
  {
   "cell_type": "markdown",
   "id": "4564f0ef",
   "metadata": {},
   "source": [
    "nombre_infected       740\n",
    "nombre_sain          2162\n",
    "nombre_exposed        437\n",
    "nombre_recovered    16661\n",
    "Name: 422, dtype: int64"
   ]
  },
  {
   "cell_type": "markdown",
   "id": "e094eaf3",
   "metadata": {},
   "source": [
    "nombre_infected       726\n",
    "nombre_sain          2153\n",
    "nombre_exposed        452\n",
    "nombre_recovered    16669\n",
    "Name: 423, dtype: int64"
   ]
  },
  {
   "cell_type": "markdown",
   "id": "86287a18",
   "metadata": {},
   "source": [
    "nombre_infected       735\n",
    "nombre_sain          2161\n",
    "nombre_exposed        460\n",
    "nombre_recovered    16644\n",
    "Name: 424, dtype: int64"
   ]
  },
  {
   "cell_type": "markdown",
   "id": "419d55ed",
   "metadata": {},
   "source": [
    "nombre_infected       728\n",
    "nombre_sain          2177\n",
    "nombre_exposed        455\n",
    "nombre_recovered    16640\n",
    "Name: 425, dtype: int64"
   ]
  },
  {
   "cell_type": "markdown",
   "id": "51eae613",
   "metadata": {},
   "source": [
    "nombre_infected       731\n",
    "nombre_sain          2193\n",
    "nombre_exposed        459\n",
    "nombre_recovered    16617\n",
    "Name: 426, dtype: int64"
   ]
  },
  {
   "cell_type": "markdown",
   "id": "7b66bf84",
   "metadata": {},
   "source": [
    "nombre_infected       755\n",
    "nombre_sain          2168\n",
    "nombre_exposed        455\n",
    "nombre_recovered    16622\n",
    "Name: 427, dtype: int64"
   ]
  },
  {
   "cell_type": "markdown",
   "id": "cac0ce38",
   "metadata": {},
   "source": [
    "nombre_infected       754\n",
    "nombre_sain          2177\n",
    "nombre_exposed        453\n",
    "nombre_recovered    16616\n",
    "Name: 428, dtype: int64"
   ]
  },
  {
   "cell_type": "markdown",
   "id": "b4134067",
   "metadata": {},
   "source": [
    "nombre_infected       761\n",
    "nombre_sain          2186\n",
    "nombre_exposed        441\n",
    "nombre_recovered    16612\n",
    "Name: 429, dtype: int64"
   ]
  },
  {
   "cell_type": "markdown",
   "id": "3c0a89f6",
   "metadata": {},
   "source": [
    "nombre_infected       761\n",
    "nombre_sain          2191\n",
    "nombre_exposed        443\n",
    "nombre_recovered    16605\n",
    "Name: 430, dtype: int64"
   ]
  },
  {
   "cell_type": "markdown",
   "id": "e7433ca0",
   "metadata": {},
   "source": [
    "nombre_infected       758\n",
    "nombre_sain          2201\n",
    "nombre_exposed        443\n",
    "nombre_recovered    16598\n",
    "Name: 431, dtype: int64"
   ]
  },
  {
   "cell_type": "markdown",
   "id": "33ccd7d5",
   "metadata": {},
   "source": [
    "nombre_infected       722\n",
    "nombre_sain          2218\n",
    "nombre_exposed        462\n",
    "nombre_recovered    16598\n",
    "Name: 432, dtype: int64"
   ]
  },
  {
   "cell_type": "markdown",
   "id": "de67ebe4",
   "metadata": {},
   "source": [
    "nombre_infected       724\n",
    "nombre_sain          2232\n",
    "nombre_exposed        443\n",
    "nombre_recovered    16601\n",
    "Name: 433, dtype: int64"
   ]
  },
  {
   "cell_type": "markdown",
   "id": "a48ad34e",
   "metadata": {},
   "source": [
    "nombre_infected       754\n",
    "nombre_sain          2246\n",
    "nombre_exposed        422\n",
    "nombre_recovered    16578\n",
    "Name: 434, dtype: int64"
   ]
  },
  {
   "cell_type": "markdown",
   "id": "22209592",
   "metadata": {},
   "source": [
    "nombre_infected       755\n",
    "nombre_sain          2238\n",
    "nombre_exposed        418\n",
    "nombre_recovered    16589\n",
    "Name: 435, dtype: int64"
   ]
  },
  {
   "cell_type": "markdown",
   "id": "7fea5809",
   "metadata": {},
   "source": [
    "nombre_infected       762\n",
    "nombre_sain          2267\n",
    "nombre_exposed        397\n",
    "nombre_recovered    16574\n",
    "Name: 436, dtype: int64"
   ]
  },
  {
   "cell_type": "markdown",
   "id": "31708006",
   "metadata": {},
   "source": [
    "nombre_infected       757\n",
    "nombre_sain          2283\n",
    "nombre_exposed        406\n",
    "nombre_recovered    16554\n",
    "Name: 437, dtype: int64"
   ]
  },
  {
   "cell_type": "markdown",
   "id": "e67239d6",
   "metadata": {},
   "source": [
    "nombre_infected       749\n",
    "nombre_sain          2275\n",
    "nombre_exposed        443\n",
    "nombre_recovered    16533\n",
    "Name: 438, dtype: int64"
   ]
  },
  {
   "cell_type": "markdown",
   "id": "451dd793",
   "metadata": {},
   "source": [
    "nombre_infected       740\n",
    "nombre_sain          2303\n",
    "nombre_exposed        440\n",
    "nombre_recovered    16517\n",
    "Name: 439, dtype: int64"
   ]
  },
  {
   "cell_type": "markdown",
   "id": "8e8acc00",
   "metadata": {},
   "source": [
    "nombre_infected       741\n",
    "nombre_sain          2317\n",
    "nombre_exposed        435\n",
    "nombre_recovered    16507\n",
    "Name: 440, dtype: int64"
   ]
  },
  {
   "cell_type": "markdown",
   "id": "a9e860a0",
   "metadata": {},
   "source": [
    "nombre_infected       729\n",
    "nombre_sain          2313\n",
    "nombre_exposed        455\n",
    "nombre_recovered    16503\n",
    "Name: 441, dtype: int64"
   ]
  },
  {
   "cell_type": "markdown",
   "id": "fe558c0d",
   "metadata": {},
   "source": [
    "nombre_infected       735\n",
    "nombre_sain          2349\n",
    "nombre_exposed        470\n",
    "nombre_recovered    16446\n",
    "Name: 442, dtype: int64"
   ]
  },
  {
   "cell_type": "markdown",
   "id": "5b4fa599",
   "metadata": {},
   "source": [
    "nombre_infected       748\n",
    "nombre_sain          2366\n",
    "nombre_exposed        455\n",
    "nombre_recovered    16431\n",
    "Name: 443, dtype: int64"
   ]
  },
  {
   "cell_type": "markdown",
   "id": "60639028",
   "metadata": {},
   "source": [
    "nombre_infected       751\n",
    "nombre_sain          2372\n",
    "nombre_exposed        465\n",
    "nombre_recovered    16412\n",
    "Name: 444, dtype: int64"
   ]
  },
  {
   "cell_type": "markdown",
   "id": "0ff391cb",
   "metadata": {},
   "source": [
    "nombre_infected       756\n",
    "nombre_sain          2367\n",
    "nombre_exposed        472\n",
    "nombre_recovered    16405\n",
    "Name: 445, dtype: int64"
   ]
  },
  {
   "cell_type": "markdown",
   "id": "013195c1",
   "metadata": {},
   "source": [
    "nombre_infected       770\n",
    "nombre_sain          2364\n",
    "nombre_exposed        483\n",
    "nombre_recovered    16383\n",
    "Name: 446, dtype: int64"
   ]
  },
  {
   "cell_type": "markdown",
   "id": "28e937de",
   "metadata": {},
   "source": [
    "nombre_infected       761\n",
    "nombre_sain          2384\n",
    "nombre_exposed        490\n",
    "nombre_recovered    16365\n",
    "Name: 447, dtype: int64"
   ]
  },
  {
   "cell_type": "markdown",
   "id": "b8b1ba64",
   "metadata": {},
   "source": [
    "nombre_infected       777\n",
    "nombre_sain          2391\n",
    "nombre_exposed        478\n",
    "nombre_recovered    16354\n",
    "Name: 448, dtype: int64"
   ]
  },
  {
   "cell_type": "markdown",
   "id": "dd8adddd",
   "metadata": {},
   "source": [
    "nombre_infected       784\n",
    "nombre_sain          2402\n",
    "nombre_exposed        492\n",
    "nombre_recovered    16322\n",
    "Name: 449, dtype: int64"
   ]
  },
  {
   "cell_type": "markdown",
   "id": "98322b4b",
   "metadata": {},
   "source": [
    "nombre_infected       779\n",
    "nombre_sain          2412\n",
    "nombre_exposed        516\n",
    "nombre_recovered    16293\n",
    "Name: 450, dtype: int64"
   ]
  },
  {
   "cell_type": "markdown",
   "id": "391dcc68",
   "metadata": {},
   "source": [
    "nombre_infected       791\n",
    "nombre_sain          2426\n",
    "nombre_exposed        505\n",
    "nombre_recovered    16278\n",
    "Name: 451, dtype: int64"
   ]
  },
  {
   "cell_type": "markdown",
   "id": "8c643340",
   "metadata": {},
   "source": [
    "nombre_infected       794\n",
    "nombre_sain          2461\n",
    "nombre_exposed        506\n",
    "nombre_recovered    16239\n",
    "Name: 452, dtype: int64"
   ]
  },
  {
   "cell_type": "markdown",
   "id": "0d8e38d6",
   "metadata": {},
   "source": [
    "nombre_infected       795\n",
    "nombre_sain          2450\n",
    "nombre_exposed        516\n",
    "nombre_recovered    16239\n",
    "Name: 453, dtype: int64"
   ]
  },
  {
   "cell_type": "markdown",
   "id": "84a36989",
   "metadata": {},
   "source": [
    "nombre_infected       788\n",
    "nombre_sain          2459\n",
    "nombre_exposed        532\n",
    "nombre_recovered    16221\n",
    "Name: 454, dtype: int64"
   ]
  },
  {
   "cell_type": "markdown",
   "id": "6180b69d",
   "metadata": {},
   "source": [
    "nombre_infected       808\n",
    "nombre_sain          2466\n",
    "nombre_exposed        543\n",
    "nombre_recovered    16183\n",
    "Name: 455, dtype: int64"
   ]
  },
  {
   "cell_type": "markdown",
   "id": "5231db31",
   "metadata": {},
   "source": [
    "nombre_infected       835\n",
    "nombre_sain          2471\n",
    "nombre_exposed        551\n",
    "nombre_recovered    16143\n",
    "Name: 456, dtype: int64"
   ]
  },
  {
   "cell_type": "markdown",
   "id": "63815592",
   "metadata": {},
   "source": [
    "nombre_infected       863\n",
    "nombre_sain          2488\n",
    "nombre_exposed        535\n",
    "nombre_recovered    16114\n",
    "Name: 457, dtype: int64"
   ]
  },
  {
   "cell_type": "markdown",
   "id": "61001cfb",
   "metadata": {},
   "source": [
    "nombre_infected       874\n",
    "nombre_sain          2475\n",
    "nombre_exposed        543\n",
    "nombre_recovered    16108\n",
    "Name: 458, dtype: int64"
   ]
  },
  {
   "cell_type": "markdown",
   "id": "3bdc8c04",
   "metadata": {},
   "source": [
    "nombre_infected       913\n",
    "nombre_sain          2461\n",
    "nombre_exposed        533\n",
    "nombre_recovered    16093\n",
    "Name: 459, dtype: int64"
   ]
  },
  {
   "cell_type": "markdown",
   "id": "15511d29",
   "metadata": {},
   "source": [
    "nombre_infected       937\n",
    "nombre_sain          2459\n",
    "nombre_exposed        530\n",
    "nombre_recovered    16074\n",
    "Name: 460, dtype: int64"
   ]
  },
  {
   "cell_type": "markdown",
   "id": "ddafe896",
   "metadata": {},
   "source": [
    "nombre_infected       960\n",
    "nombre_sain          2424\n",
    "nombre_exposed        550\n",
    "nombre_recovered    16066\n",
    "Name: 461, dtype: int64"
   ]
  },
  {
   "cell_type": "markdown",
   "id": "86b053be",
   "metadata": {},
   "source": [
    "nombre_infected       966\n",
    "nombre_sain          2395\n",
    "nombre_exposed        563\n",
    "nombre_recovered    16076\n",
    "Name: 462, dtype: int64"
   ]
  },
  {
   "cell_type": "markdown",
   "id": "e954cbd2",
   "metadata": {},
   "source": [
    "nombre_infected       964\n",
    "nombre_sain          2364\n",
    "nombre_exposed        569\n",
    "nombre_recovered    16103\n",
    "Name: 463, dtype: int64"
   ]
  },
  {
   "cell_type": "markdown",
   "id": "55b298d4",
   "metadata": {},
   "source": [
    "nombre_infected       984\n",
    "nombre_sain          2369\n",
    "nombre_exposed        545\n",
    "nombre_recovered    16102\n",
    "Name: 464, dtype: int64"
   ]
  },
  {
   "cell_type": "markdown",
   "id": "1a9f6fd3",
   "metadata": {},
   "source": [
    "nombre_infected       992\n",
    "nombre_sain          2347\n",
    "nombre_exposed        547\n",
    "nombre_recovered    16114\n",
    "Name: 465, dtype: int64"
   ]
  },
  {
   "cell_type": "markdown",
   "id": "1c10a4b8",
   "metadata": {},
   "source": [
    "nombre_infected      1013\n",
    "nombre_sain          2310\n",
    "nombre_exposed        556\n",
    "nombre_recovered    16121\n",
    "Name: 466, dtype: int64"
   ]
  },
  {
   "cell_type": "markdown",
   "id": "728f836d",
   "metadata": {},
   "source": [
    "nombre_infected      1008\n",
    "nombre_sain          2273\n",
    "nombre_exposed        578\n",
    "nombre_recovered    16141\n",
    "Name: 467, dtype: int64"
   ]
  },
  {
   "cell_type": "markdown",
   "id": "f219bc87",
   "metadata": {},
   "source": [
    "nombre_infected      1013\n",
    "nombre_sain          2226\n",
    "nombre_exposed        585\n",
    "nombre_recovered    16176\n",
    "Name: 468, dtype: int64"
   ]
  },
  {
   "cell_type": "markdown",
   "id": "f0780394",
   "metadata": {},
   "source": [
    "nombre_infected      1004\n",
    "nombre_sain          2202\n",
    "nombre_exposed        593\n",
    "nombre_recovered    16201\n",
    "Name: 469, dtype: int64"
   ]
  },
  {
   "cell_type": "markdown",
   "id": "1f044bde",
   "metadata": {},
   "source": [
    "nombre_infected      1013\n",
    "nombre_sain          2175\n",
    "nombre_exposed        591\n",
    "nombre_recovered    16221\n",
    "Name: 470, dtype: int64"
   ]
  },
  {
   "cell_type": "markdown",
   "id": "6620d720",
   "metadata": {},
   "source": [
    "nombre_infected      1022\n",
    "nombre_sain          2110\n",
    "nombre_exposed        624\n",
    "nombre_recovered    16244\n",
    "Name: 471, dtype: int64"
   ]
  },
  {
   "cell_type": "markdown",
   "id": "f72c67af",
   "metadata": {},
   "source": [
    "nombre_infected      1018\n",
    "nombre_sain          2083\n",
    "nombre_exposed        619\n",
    "nombre_recovered    16280\n",
    "Name: 472, dtype: int64"
   ]
  },
  {
   "cell_type": "markdown",
   "id": "334ec36f",
   "metadata": {},
   "source": [
    "nombre_infected      1025\n",
    "nombre_sain          2049\n",
    "nombre_exposed        616\n",
    "nombre_recovered    16310\n",
    "Name: 473, dtype: int64"
   ]
  },
  {
   "cell_type": "markdown",
   "id": "e1ae884a",
   "metadata": {},
   "source": [
    "nombre_infected      1042\n",
    "nombre_sain          2031\n",
    "nombre_exposed        593\n",
    "nombre_recovered    16334\n",
    "Name: 474, dtype: int64"
   ]
  },
  {
   "cell_type": "markdown",
   "id": "cf422439",
   "metadata": {},
   "source": [
    "nombre_infected      1041\n",
    "nombre_sain          2002\n",
    "nombre_exposed        600\n",
    "nombre_recovered    16357\n",
    "Name: 475, dtype: int64"
   ]
  },
  {
   "cell_type": "markdown",
   "id": "a8ab0544",
   "metadata": {},
   "source": [
    "nombre_infected      1045\n",
    "nombre_sain          1966\n",
    "nombre_exposed        615\n",
    "nombre_recovered    16374\n",
    "Name: 476, dtype: int64"
   ]
  },
  {
   "cell_type": "markdown",
   "id": "cc55b428",
   "metadata": {},
   "source": [
    "nombre_infected      1040\n",
    "nombre_sain          1978\n",
    "nombre_exposed        585\n",
    "nombre_recovered    16397\n",
    "Name: 477, dtype: int64"
   ]
  },
  {
   "cell_type": "markdown",
   "id": "1154a87b",
   "metadata": {},
   "source": [
    "nombre_infected      1063\n",
    "nombre_sain          1987\n",
    "nombre_exposed        561\n",
    "nombre_recovered    16389\n",
    "Name: 478, dtype: int64"
   ]
  },
  {
   "cell_type": "markdown",
   "id": "e9653fca",
   "metadata": {},
   "source": [
    "nombre_infected      1055\n",
    "nombre_sain          1966\n",
    "nombre_exposed        572\n",
    "nombre_recovered    16407\n",
    "Name: 479, dtype: int64"
   ]
  },
  {
   "cell_type": "markdown",
   "id": "acf899da",
   "metadata": {},
   "source": [
    "nombre_infected      1043\n",
    "nombre_sain          1964\n",
    "nombre_exposed        567\n",
    "nombre_recovered    16426\n",
    "Name: 480, dtype: int64"
   ]
  },
  {
   "cell_type": "markdown",
   "id": "9859010a",
   "metadata": {},
   "source": [
    "nombre_infected      1051\n",
    "nombre_sain          1968\n",
    "nombre_exposed        548\n",
    "nombre_recovered    16433\n",
    "Name: 481, dtype: int64"
   ]
  },
  {
   "cell_type": "markdown",
   "id": "562a7b7e",
   "metadata": {},
   "source": [
    "nombre_infected      1028\n",
    "nombre_sain          1983\n",
    "nombre_exposed        553\n",
    "nombre_recovered    16436\n",
    "Name: 482, dtype: int64"
   ]
  },
  {
   "cell_type": "markdown",
   "id": "1cf53900",
   "metadata": {},
   "source": [
    "nombre_infected      1038\n",
    "nombre_sain          1993\n",
    "nombre_exposed        557\n",
    "nombre_recovered    16412\n",
    "Name: 483, dtype: int64"
   ]
  },
  {
   "cell_type": "markdown",
   "id": "71343e23",
   "metadata": {},
   "source": [
    "nombre_infected      1042\n",
    "nombre_sain          1997\n",
    "nombre_exposed        567\n",
    "nombre_recovered    16394\n",
    "Name: 484, dtype: int64"
   ]
  },
  {
   "cell_type": "markdown",
   "id": "f4501965",
   "metadata": {},
   "source": [
    "nombre_infected      1046\n",
    "nombre_sain          1998\n",
    "nombre_exposed        555\n",
    "nombre_recovered    16401\n",
    "Name: 485, dtype: int64"
   ]
  },
  {
   "cell_type": "markdown",
   "id": "6ca3e9c6",
   "metadata": {},
   "source": [
    "nombre_infected      1016\n",
    "nombre_sain          1974\n",
    "nombre_exposed        568\n",
    "nombre_recovered    16442\n",
    "Name: 486, dtype: int64"
   ]
  },
  {
   "cell_type": "markdown",
   "id": "3d7fd098",
   "metadata": {},
   "source": [
    "nombre_infected      1029\n",
    "nombre_sain          1974\n",
    "nombre_exposed        566\n",
    "nombre_recovered    16431\n",
    "Name: 487, dtype: int64"
   ]
  },
  {
   "cell_type": "markdown",
   "id": "d226dccb",
   "metadata": {},
   "source": [
    "nombre_infected      1037\n",
    "nombre_sain          1964\n",
    "nombre_exposed        566\n",
    "nombre_recovered    16433\n",
    "Name: 488, dtype: int64"
   ]
  },
  {
   "cell_type": "markdown",
   "id": "482c1fd6",
   "metadata": {},
   "source": [
    "nombre_infected      1044\n",
    "nombre_sain          1959\n",
    "nombre_exposed        560\n",
    "nombre_recovered    16437\n",
    "Name: 489, dtype: int64"
   ]
  },
  {
   "cell_type": "markdown",
   "id": "8e63e9f7",
   "metadata": {},
   "source": [
    "nombre_infected      1040\n",
    "nombre_sain          1994\n",
    "nombre_exposed        541\n",
    "nombre_recovered    16425\n",
    "Name: 490, dtype: int64"
   ]
  },
  {
   "cell_type": "markdown",
   "id": "8cd6c84f",
   "metadata": {},
   "source": [
    "nombre_infected      1040\n",
    "nombre_sain          1982\n",
    "nombre_exposed        541\n",
    "nombre_recovered    16437\n",
    "Name: 491, dtype: int64"
   ]
  },
  {
   "cell_type": "markdown",
   "id": "5b789d50",
   "metadata": {},
   "source": [
    "nombre_infected      1031\n",
    "nombre_sain          2007\n",
    "nombre_exposed        530\n",
    "nombre_recovered    16432\n",
    "Name: 492, dtype: int64"
   ]
  },
  {
   "cell_type": "markdown",
   "id": "5d0c499f",
   "metadata": {},
   "source": [
    "nombre_infected      1018\n",
    "nombre_sain          2001\n",
    "nombre_exposed        538\n",
    "nombre_recovered    16443\n",
    "Name: 493, dtype: int64"
   ]
  },
  {
   "cell_type": "markdown",
   "id": "0ffa8834",
   "metadata": {},
   "source": [
    "nombre_infected      1008\n",
    "nombre_sain          2004\n",
    "nombre_exposed        566\n",
    "nombre_recovered    16422\n",
    "Name: 494, dtype: int64"
   ]
  },
  {
   "cell_type": "markdown",
   "id": "b93b8423",
   "metadata": {},
   "source": [
    "nombre_infected      1001\n",
    "nombre_sain          2008\n",
    "nombre_exposed        572\n",
    "nombre_recovered    16419\n",
    "Name: 495, dtype: int64"
   ]
  },
  {
   "cell_type": "markdown",
   "id": "17945bc7",
   "metadata": {},
   "source": [
    "nombre_infected      1008\n",
    "nombre_sain          2027\n",
    "nombre_exposed        577\n",
    "nombre_recovered    16388\n",
    "Name: 496, dtype: int64"
   ]
  },
  {
   "cell_type": "markdown",
   "id": "1b98bf57",
   "metadata": {},
   "source": [
    "nombre_infected      1026\n",
    "nombre_sain          2052\n",
    "nombre_exposed        575\n",
    "nombre_recovered    16347\n",
    "Name: 497, dtype: int64"
   ]
  },
  {
   "cell_type": "markdown",
   "id": "fcb2f088",
   "metadata": {},
   "source": [
    "nombre_infected      1037\n",
    "nombre_sain          2061\n",
    "nombre_exposed        569\n",
    "nombre_recovered    16333\n",
    "Name: 498, dtype: int64"
   ]
  },
  {
   "cell_type": "markdown",
   "id": "f6f28a6a",
   "metadata": {},
   "source": [
    "nombre_infected      1058\n",
    "nombre_sain          2043\n",
    "nombre_exposed        569\n",
    "nombre_recovered    16330\n",
    "Name: 499, dtype: int64"
   ]
  },
  {
   "cell_type": "markdown",
   "id": "f3b81d6e",
   "metadata": {},
   "source": [
    "nombre_infected      1064\n",
    "nombre_sain          2034\n",
    "nombre_exposed        581\n",
    "nombre_recovered    16321\n",
    "Name: 500, dtype: int64"
   ]
  },
  {
   "cell_type": "markdown",
   "id": "0de23cc6",
   "metadata": {},
   "source": [
    "nombre_infected      1074\n",
    "nombre_sain          2049\n",
    "nombre_exposed        565\n",
    "nombre_recovered    16312\n",
    "Name: 501, dtype: int64"
   ]
  },
  {
   "cell_type": "markdown",
   "id": "f6a5e1bb",
   "metadata": {},
   "source": [
    "nombre_infected      1110\n",
    "nombre_sain          2047\n",
    "nombre_exposed        557\n",
    "nombre_recovered    16286\n",
    "Name: 502, dtype: int64"
   ]
  },
  {
   "cell_type": "markdown",
   "id": "d93954f5",
   "metadata": {},
   "source": [
    "nombre_infected      1087\n",
    "nombre_sain          2036\n",
    "nombre_exposed        590\n",
    "nombre_recovered    16287\n",
    "Name: 503, dtype: int64"
   ]
  },
  {
   "cell_type": "markdown",
   "id": "d45f8a69",
   "metadata": {},
   "source": [
    "nombre_infected      1078\n",
    "nombre_sain          2039\n",
    "nombre_exposed        594\n",
    "nombre_recovered    16289\n",
    "Name: 504, dtype: int64"
   ]
  },
  {
   "cell_type": "markdown",
   "id": "0efafed2",
   "metadata": {},
   "source": [
    "nombre_infected      1070\n",
    "nombre_sain          2038\n",
    "nombre_exposed        588\n",
    "nombre_recovered    16304\n",
    "Name: 505, dtype: int64"
   ]
  },
  {
   "cell_type": "markdown",
   "id": "c4ba9118",
   "metadata": {},
   "source": [
    "nombre_infected      1077\n",
    "nombre_sain          2031\n",
    "nombre_exposed        589\n",
    "nombre_recovered    16303\n",
    "Name: 506, dtype: int64"
   ]
  },
  {
   "cell_type": "markdown",
   "id": "6de46817",
   "metadata": {},
   "source": [
    "nombre_infected      1098\n",
    "nombre_sain          2026\n",
    "nombre_exposed        566\n",
    "nombre_recovered    16310\n",
    "Name: 507, dtype: int64"
   ]
  },
  {
   "cell_type": "markdown",
   "id": "ac41860f",
   "metadata": {},
   "source": [
    "nombre_infected      1100\n",
    "nombre_sain          2016\n",
    "nombre_exposed        554\n",
    "nombre_recovered    16330\n",
    "Name: 508, dtype: int64"
   ]
  },
  {
   "cell_type": "markdown",
   "id": "3cc82192",
   "metadata": {},
   "source": [
    "nombre_infected      1092\n",
    "nombre_sain          2024\n",
    "nombre_exposed        552\n",
    "nombre_recovered    16332\n",
    "Name: 509, dtype: int64"
   ]
  },
  {
   "cell_type": "markdown",
   "id": "a1225c07",
   "metadata": {},
   "source": [
    "nombre_infected      1053\n",
    "nombre_sain          2010\n",
    "nombre_exposed        572\n",
    "nombre_recovered    16365\n",
    "Name: 510, dtype: int64"
   ]
  },
  {
   "cell_type": "markdown",
   "id": "5107680f",
   "metadata": {},
   "source": [
    "nombre_infected      1068\n",
    "nombre_sain          2024\n",
    "nombre_exposed        568\n",
    "nombre_recovered    16340\n",
    "Name: 511, dtype: int64"
   ]
  },
  {
   "cell_type": "markdown",
   "id": "76995397",
   "metadata": {},
   "source": [
    "nombre_infected      1074\n",
    "nombre_sain          2041\n",
    "nombre_exposed        538\n",
    "nombre_recovered    16347\n",
    "Name: 512, dtype: int64"
   ]
  },
  {
   "cell_type": "markdown",
   "id": "4c9fa5c8",
   "metadata": {},
   "source": [
    "nombre_infected      1077\n",
    "nombre_sain          2041\n",
    "nombre_exposed        551\n",
    "nombre_recovered    16331\n",
    "Name: 513, dtype: int64"
   ]
  },
  {
   "cell_type": "markdown",
   "id": "8c95fe83",
   "metadata": {},
   "source": [
    "nombre_infected      1067\n",
    "nombre_sain          2032\n",
    "nombre_exposed        598\n",
    "nombre_recovered    16303\n",
    "Name: 514, dtype: int64"
   ]
  },
  {
   "cell_type": "markdown",
   "id": "cc01993f",
   "metadata": {},
   "source": [
    "nombre_infected      1067\n",
    "nombre_sain          2053\n",
    "nombre_exposed        573\n",
    "nombre_recovered    16307\n",
    "Name: 515, dtype: int64"
   ]
  },
  {
   "cell_type": "markdown",
   "id": "b7894990",
   "metadata": {},
   "source": [
    "nombre_infected      1072\n",
    "nombre_sain          2071\n",
    "nombre_exposed        576\n",
    "nombre_recovered    16281\n",
    "Name: 516, dtype: int64"
   ]
  },
  {
   "cell_type": "markdown",
   "id": "9edbe0a9",
   "metadata": {},
   "source": [
    "nombre_infected      1053\n",
    "nombre_sain          2052\n",
    "nombre_exposed        611\n",
    "nombre_recovered    16284\n",
    "Name: 517, dtype: int64"
   ]
  },
  {
   "cell_type": "markdown",
   "id": "f7e859bb",
   "metadata": {},
   "source": [
    "nombre_infected      1062\n",
    "nombre_sain          2057\n",
    "nombre_exposed        623\n",
    "nombre_recovered    16258\n",
    "Name: 518, dtype: int64"
   ]
  },
  {
   "cell_type": "markdown",
   "id": "e963a1d7",
   "metadata": {},
   "source": [
    "nombre_infected      1083\n",
    "nombre_sain          2042\n",
    "nombre_exposed        624\n",
    "nombre_recovered    16251\n",
    "Name: 519, dtype: int64"
   ]
  },
  {
   "cell_type": "markdown",
   "id": "33dcc499",
   "metadata": {},
   "source": [
    "nombre_infected      1059\n",
    "nombre_sain          2040\n",
    "nombre_exposed        640\n",
    "nombre_recovered    16261\n",
    "Name: 520, dtype: int64"
   ]
  },
  {
   "cell_type": "markdown",
   "id": "648afe0f",
   "metadata": {},
   "source": [
    "nombre_infected      1059\n",
    "nombre_sain          2059\n",
    "nombre_exposed        645\n",
    "nombre_recovered    16237\n",
    "Name: 521, dtype: int64"
   ]
  },
  {
   "cell_type": "markdown",
   "id": "4fe53e5b",
   "metadata": {},
   "source": [
    "nombre_infected      1076\n",
    "nombre_sain          2069\n",
    "nombre_exposed        631\n",
    "nombre_recovered    16224\n",
    "Name: 522, dtype: int64"
   ]
  },
  {
   "cell_type": "markdown",
   "id": "5d9c7381",
   "metadata": {},
   "source": [
    "nombre_infected      1067\n",
    "nombre_sain          2074\n",
    "nombre_exposed        640\n",
    "nombre_recovered    16219\n",
    "Name: 523, dtype: int64"
   ]
  },
  {
   "cell_type": "markdown",
   "id": "36df986c",
   "metadata": {},
   "source": [
    "nombre_infected      1088\n",
    "nombre_sain          2114\n",
    "nombre_exposed        605\n",
    "nombre_recovered    16193\n",
    "Name: 524, dtype: int64"
   ]
  },
  {
   "cell_type": "markdown",
   "id": "5bc939b3",
   "metadata": {},
   "source": [
    "nombre_infected      1096\n",
    "nombre_sain          2139\n",
    "nombre_exposed        585\n",
    "nombre_recovered    16180\n",
    "Name: 525, dtype: int64"
   ]
  },
  {
   "cell_type": "markdown",
   "id": "9d7732ee",
   "metadata": {},
   "source": [
    "nombre_infected      1098\n",
    "nombre_sain          2140\n",
    "nombre_exposed        603\n",
    "nombre_recovered    16159\n",
    "Name: 526, dtype: int64"
   ]
  },
  {
   "cell_type": "markdown",
   "id": "29172953",
   "metadata": {},
   "source": [
    "nombre_infected      1103\n",
    "nombre_sain          2110\n",
    "nombre_exposed        638\n",
    "nombre_recovered    16149\n",
    "Name: 527, dtype: int64"
   ]
  },
  {
   "cell_type": "markdown",
   "id": "20a565e0",
   "metadata": {},
   "source": [
    "nombre_infected      1113\n",
    "nombre_sain          2115\n",
    "nombre_exposed        643\n",
    "nombre_recovered    16129\n",
    "Name: 528, dtype: int64"
   ]
  },
  {
   "cell_type": "markdown",
   "id": "894beae3",
   "metadata": {},
   "source": [
    "nombre_infected      1136\n",
    "nombre_sain          2138\n",
    "nombre_exposed        617\n",
    "nombre_recovered    16109\n",
    "Name: 529, dtype: int64"
   ]
  },
  {
   "cell_type": "markdown",
   "id": "2e91404e",
   "metadata": {},
   "source": [
    "nombre_infected      1148\n",
    "nombre_sain          2134\n",
    "nombre_exposed        616\n",
    "nombre_recovered    16102\n",
    "Name: 530, dtype: int64"
   ]
  },
  {
   "cell_type": "markdown",
   "id": "490ec296",
   "metadata": {},
   "source": [
    "nombre_infected      1112\n",
    "nombre_sain          2121\n",
    "nombre_exposed        627\n",
    "nombre_recovered    16140\n",
    "Name: 531, dtype: int64"
   ]
  },
  {
   "cell_type": "markdown",
   "id": "f07d3c6d",
   "metadata": {},
   "source": [
    "nombre_infected      1126\n",
    "nombre_sain          2111\n",
    "nombre_exposed        631\n",
    "nombre_recovered    16132\n",
    "Name: 532, dtype: int64"
   ]
  },
  {
   "cell_type": "markdown",
   "id": "1faea65b",
   "metadata": {},
   "source": [
    "nombre_infected      1162\n",
    "nombre_sain          2081\n",
    "nombre_exposed        625\n",
    "nombre_recovered    16132\n",
    "Name: 533, dtype: int64"
   ]
  },
  {
   "cell_type": "markdown",
   "id": "dd816fb6",
   "metadata": {},
   "source": [
    "nombre_infected      1133\n",
    "nombre_sain          2062\n",
    "nombre_exposed        671\n",
    "nombre_recovered    16134\n",
    "Name: 534, dtype: int64"
   ]
  },
  {
   "cell_type": "markdown",
   "id": "436258b6",
   "metadata": {},
   "source": [
    "nombre_infected      1128\n",
    "nombre_sain          2048\n",
    "nombre_exposed        670\n",
    "nombre_recovered    16154\n",
    "Name: 535, dtype: int64"
   ]
  },
  {
   "cell_type": "markdown",
   "id": "d655af66",
   "metadata": {},
   "source": [
    "nombre_infected      1160\n",
    "nombre_sain          2061\n",
    "nombre_exposed        636\n",
    "nombre_recovered    16143\n",
    "Name: 536, dtype: int64"
   ]
  },
  {
   "cell_type": "markdown",
   "id": "1d1840fd",
   "metadata": {},
   "source": [
    "nombre_infected      1146\n",
    "nombre_sain          2050\n",
    "nombre_exposed        638\n",
    "nombre_recovered    16166\n",
    "Name: 537, dtype: int64"
   ]
  },
  {
   "cell_type": "markdown",
   "id": "43c5f373",
   "metadata": {},
   "source": [
    "nombre_infected      1148\n",
    "nombre_sain          2040\n",
    "nombre_exposed        622\n",
    "nombre_recovered    16190\n",
    "Name: 538, dtype: int64"
   ]
  },
  {
   "cell_type": "markdown",
   "id": "45458087",
   "metadata": {},
   "source": [
    "nombre_infected      1136\n",
    "nombre_sain          2014\n",
    "nombre_exposed        626\n",
    "nombre_recovered    16224\n",
    "Name: 539, dtype: int64"
   ]
  },
  {
   "cell_type": "markdown",
   "id": "d2b6f5ca",
   "metadata": {},
   "source": [
    "nombre_infected      1115\n",
    "nombre_sain          1987\n",
    "nombre_exposed        647\n",
    "nombre_recovered    16251\n",
    "Name: 540, dtype: int64"
   ]
  },
  {
   "cell_type": "markdown",
   "id": "dff5bcfb",
   "metadata": {},
   "source": [
    "nombre_infected      1120\n",
    "nombre_sain          1985\n",
    "nombre_exposed        631\n",
    "nombre_recovered    16264\n",
    "Name: 541, dtype: int64"
   ]
  },
  {
   "cell_type": "markdown",
   "id": "cb3cba8a",
   "metadata": {},
   "source": [
    "nombre_infected      1113\n",
    "nombre_sain          1992\n",
    "nombre_exposed        626\n",
    "nombre_recovered    16269\n",
    "Name: 542, dtype: int64"
   ]
  },
  {
   "cell_type": "markdown",
   "id": "c0e50778",
   "metadata": {},
   "source": [
    "nombre_infected      1083\n",
    "nombre_sain          2005\n",
    "nombre_exposed        627\n",
    "nombre_recovered    16285\n",
    "Name: 543, dtype: int64"
   ]
  },
  {
   "cell_type": "markdown",
   "id": "9fc9a278",
   "metadata": {},
   "source": [
    "nombre_infected      1077\n",
    "nombre_sain          2010\n",
    "nombre_exposed        632\n",
    "nombre_recovered    16281\n",
    "Name: 544, dtype: int64"
   ]
  },
  {
   "cell_type": "markdown",
   "id": "0dbab0f8",
   "metadata": {},
   "source": [
    "nombre_infected      1065\n",
    "nombre_sain          2011\n",
    "nombre_exposed        626\n",
    "nombre_recovered    16298\n",
    "Name: 545, dtype: int64"
   ]
  },
  {
   "cell_type": "markdown",
   "id": "1d6ece03",
   "metadata": {},
   "source": [
    "nombre_infected      1072\n",
    "nombre_sain          2004\n",
    "nombre_exposed        619\n",
    "nombre_recovered    16305\n",
    "Name: 546, dtype: int64"
   ]
  },
  {
   "cell_type": "markdown",
   "id": "92d46e98",
   "metadata": {},
   "source": [
    "nombre_infected      1072\n",
    "nombre_sain          2030\n",
    "nombre_exposed        580\n",
    "nombre_recovered    16318\n",
    "Name: 547, dtype: int64"
   ]
  },
  {
   "cell_type": "markdown",
   "id": "9485d170",
   "metadata": {},
   "source": [
    "nombre_infected      1076\n",
    "nombre_sain          2007\n",
    "nombre_exposed        563\n",
    "nombre_recovered    16354\n",
    "Name: 548, dtype: int64"
   ]
  },
  {
   "cell_type": "markdown",
   "id": "1f806bc5",
   "metadata": {},
   "source": [
    "nombre_infected      1070\n",
    "nombre_sain          2006\n",
    "nombre_exposed        539\n",
    "nombre_recovered    16385\n",
    "Name: 549, dtype: int64"
   ]
  },
  {
   "cell_type": "markdown",
   "id": "44c08a63",
   "metadata": {},
   "source": [
    "nombre_infected      1057\n",
    "nombre_sain          2007\n",
    "nombre_exposed        551\n",
    "nombre_recovered    16385\n",
    "Name: 550, dtype: int64"
   ]
  },
  {
   "cell_type": "markdown",
   "id": "e193f66f",
   "metadata": {},
   "source": [
    "nombre_infected      1068\n",
    "nombre_sain          2012\n",
    "nombre_exposed        522\n",
    "nombre_recovered    16398\n",
    "Name: 551, dtype: int64"
   ]
  },
  {
   "cell_type": "markdown",
   "id": "4d9b5adf",
   "metadata": {},
   "source": [
    "nombre_infected      1034\n",
    "nombre_sain          2020\n",
    "nombre_exposed        535\n",
    "nombre_recovered    16411\n",
    "Name: 552, dtype: int64"
   ]
  },
  {
   "cell_type": "markdown",
   "id": "f7481578",
   "metadata": {},
   "source": [
    "nombre_infected      1019\n",
    "nombre_sain          1997\n",
    "nombre_exposed        562\n",
    "nombre_recovered    16422\n",
    "Name: 553, dtype: int64"
   ]
  },
  {
   "cell_type": "markdown",
   "id": "b6e64150",
   "metadata": {},
   "source": [
    "nombre_infected      1021\n",
    "nombre_sain          1993\n",
    "nombre_exposed        570\n",
    "nombre_recovered    16416\n",
    "Name: 554, dtype: int64"
   ]
  },
  {
   "cell_type": "markdown",
   "id": "732bb476",
   "metadata": {},
   "source": [
    "nombre_infected      1010\n",
    "nombre_sain          2003\n",
    "nombre_exposed        556\n",
    "nombre_recovered    16431\n",
    "Name: 555, dtype: int64"
   ]
  },
  {
   "cell_type": "markdown",
   "id": "99f5a6ae",
   "metadata": {},
   "source": [
    "nombre_infected      1014\n",
    "nombre_sain          2004\n",
    "nombre_exposed        542\n",
    "nombre_recovered    16440\n",
    "Name: 556, dtype: int64"
   ]
  },
  {
   "cell_type": "markdown",
   "id": "0737a9fc",
   "metadata": {},
   "source": [
    "nombre_infected      1010\n",
    "nombre_sain          2011\n",
    "nombre_exposed        522\n",
    "nombre_recovered    16457\n",
    "Name: 557, dtype: int64"
   ]
  },
  {
   "cell_type": "markdown",
   "id": "b684e1e5",
   "metadata": {},
   "source": [
    "nombre_infected       985\n",
    "nombre_sain          2019\n",
    "nombre_exposed        517\n",
    "nombre_recovered    16479\n",
    "Name: 558, dtype: int64"
   ]
  },
  {
   "cell_type": "markdown",
   "id": "9d155750",
   "metadata": {},
   "source": [
    "nombre_infected       966\n",
    "nombre_sain          2012\n",
    "nombre_exposed        527\n",
    "nombre_recovered    16495\n",
    "Name: 559, dtype: int64"
   ]
  },
  {
   "cell_type": "markdown",
   "id": "16a452d8",
   "metadata": {},
   "source": [
    "nombre_infected       968\n",
    "nombre_sain          1990\n",
    "nombre_exposed        520\n",
    "nombre_recovered    16522\n",
    "Name: 560, dtype: int64"
   ]
  },
  {
   "cell_type": "markdown",
   "id": "47545edf",
   "metadata": {},
   "source": [
    "nombre_infected       950\n",
    "nombre_sain          2003\n",
    "nombre_exposed        518\n",
    "nombre_recovered    16529\n",
    "Name: 561, dtype: int64"
   ]
  },
  {
   "cell_type": "markdown",
   "id": "1635fef5",
   "metadata": {},
   "source": [
    "nombre_infected       952\n",
    "nombre_sain          2051\n",
    "nombre_exposed        482\n",
    "nombre_recovered    16515\n",
    "Name: 562, dtype: int64"
   ]
  },
  {
   "cell_type": "markdown",
   "id": "ba14f69d",
   "metadata": {},
   "source": [
    "nombre_infected       935\n",
    "nombre_sain          2064\n",
    "nombre_exposed        492\n",
    "nombre_recovered    16509\n",
    "Name: 563, dtype: int64"
   ]
  },
  {
   "cell_type": "markdown",
   "id": "f9498f24",
   "metadata": {},
   "source": [
    "nombre_infected       920\n",
    "nombre_sain          2068\n",
    "nombre_exposed        494\n",
    "nombre_recovered    16518\n",
    "Name: 564, dtype: int64"
   ]
  },
  {
   "cell_type": "markdown",
   "id": "e35b2284",
   "metadata": {},
   "source": [
    "nombre_infected       910\n",
    "nombre_sain          2061\n",
    "nombre_exposed        501\n",
    "nombre_recovered    16528\n",
    "Name: 565, dtype: int64"
   ]
  },
  {
   "cell_type": "markdown",
   "id": "a50b703c",
   "metadata": {},
   "source": [
    "nombre_infected       884\n",
    "nombre_sain          2074\n",
    "nombre_exposed        512\n",
    "nombre_recovered    16530\n",
    "Name: 566, dtype: int64"
   ]
  },
  {
   "cell_type": "markdown",
   "id": "861065e8",
   "metadata": {},
   "source": [
    "nombre_infected       852\n",
    "nombre_sain          2083\n",
    "nombre_exposed        520\n",
    "nombre_recovered    16545\n",
    "Name: 567, dtype: int64"
   ]
  },
  {
   "cell_type": "markdown",
   "id": "717f4347",
   "metadata": {},
   "source": [
    "nombre_infected       856\n",
    "nombre_sain          2078\n",
    "nombre_exposed        528\n",
    "nombre_recovered    16538\n",
    "Name: 568, dtype: int64"
   ]
  },
  {
   "cell_type": "markdown",
   "id": "10eabe4e",
   "metadata": {},
   "source": [
    "nombre_infected       842\n",
    "nombre_sain          2102\n",
    "nombre_exposed        518\n",
    "nombre_recovered    16538\n",
    "Name: 569, dtype: int64"
   ]
  },
  {
   "cell_type": "markdown",
   "id": "01017fb2",
   "metadata": {},
   "source": [
    "nombre_infected       852\n",
    "nombre_sain          2136\n",
    "nombre_exposed        488\n",
    "nombre_recovered    16524\n",
    "Name: 570, dtype: int64"
   ]
  },
  {
   "cell_type": "markdown",
   "id": "9d12a08d",
   "metadata": {},
   "source": [
    "nombre_infected       846\n",
    "nombre_sain          2161\n",
    "nombre_exposed        495\n",
    "nombre_recovered    16498\n",
    "Name: 571, dtype: int64"
   ]
  },
  {
   "cell_type": "markdown",
   "id": "47fb5602",
   "metadata": {},
   "source": [
    "nombre_infected       834\n",
    "nombre_sain          2186\n",
    "nombre_exposed        489\n",
    "nombre_recovered    16491\n",
    "Name: 572, dtype: int64"
   ]
  },
  {
   "cell_type": "markdown",
   "id": "d1c0699a",
   "metadata": {},
   "source": [
    "nombre_infected       837\n",
    "nombre_sain          2198\n",
    "nombre_exposed        495\n",
    "nombre_recovered    16470\n",
    "Name: 573, dtype: int64"
   ]
  },
  {
   "cell_type": "markdown",
   "id": "8d1dbef6",
   "metadata": {},
   "source": [
    "nombre_infected       812\n",
    "nombre_sain          2244\n",
    "nombre_exposed        482\n",
    "nombre_recovered    16462\n",
    "Name: 574, dtype: int64"
   ]
  },
  {
   "cell_type": "markdown",
   "id": "1c4eaac9",
   "metadata": {},
   "source": [
    "nombre_infected       814\n",
    "nombre_sain          2260\n",
    "nombre_exposed        480\n",
    "nombre_recovered    16446\n",
    "Name: 575, dtype: int64"
   ]
  },
  {
   "cell_type": "markdown",
   "id": "810f7b35",
   "metadata": {},
   "source": [
    "nombre_infected       827\n",
    "nombre_sain          2269\n",
    "nombre_exposed        460\n",
    "nombre_recovered    16444\n",
    "Name: 576, dtype: int64"
   ]
  },
  {
   "cell_type": "markdown",
   "id": "57f7ce13",
   "metadata": {},
   "source": [
    "nombre_infected       813\n",
    "nombre_sain          2268\n",
    "nombre_exposed        454\n",
    "nombre_recovered    16465\n",
    "Name: 577, dtype: int64"
   ]
  },
  {
   "cell_type": "markdown",
   "id": "fe0c5cbd",
   "metadata": {},
   "source": [
    "nombre_infected       788\n",
    "nombre_sain          2250\n",
    "nombre_exposed        455\n",
    "nombre_recovered    16507\n",
    "Name: 578, dtype: int64"
   ]
  },
  {
   "cell_type": "markdown",
   "id": "f502ee95",
   "metadata": {},
   "source": [
    "nombre_infected       762\n",
    "nombre_sain          2256\n",
    "nombre_exposed        457\n",
    "nombre_recovered    16525\n",
    "Name: 579, dtype: int64"
   ]
  },
  {
   "cell_type": "markdown",
   "id": "d322eeb2",
   "metadata": {},
   "source": [
    "nombre_infected       742\n",
    "nombre_sain          2275\n",
    "nombre_exposed        454\n",
    "nombre_recovered    16529\n",
    "Name: 580, dtype: int64"
   ]
  },
  {
   "cell_type": "markdown",
   "id": "b4e44c9c",
   "metadata": {},
   "source": [
    "nombre_infected       732\n",
    "nombre_sain          2290\n",
    "nombre_exposed        457\n",
    "nombre_recovered    16521\n",
    "Name: 581, dtype: int64"
   ]
  },
  {
   "cell_type": "markdown",
   "id": "b1c71b2e",
   "metadata": {},
   "source": [
    "nombre_infected       749\n",
    "nombre_sain          2308\n",
    "nombre_exposed        447\n",
    "nombre_recovered    16496\n",
    "Name: 582, dtype: int64"
   ]
  },
  {
   "cell_type": "markdown",
   "id": "6beaed29",
   "metadata": {},
   "source": [
    "nombre_infected       754\n",
    "nombre_sain          2326\n",
    "nombre_exposed        419\n",
    "nombre_recovered    16501\n",
    "Name: 583, dtype: int64"
   ]
  },
  {
   "cell_type": "markdown",
   "id": "0a180624",
   "metadata": {},
   "source": [
    "nombre_infected       740\n",
    "nombre_sain          2334\n",
    "nombre_exposed        427\n",
    "nombre_recovered    16499\n",
    "Name: 584, dtype: int64"
   ]
  },
  {
   "cell_type": "markdown",
   "id": "5bc6d689",
   "metadata": {},
   "source": [
    "nombre_infected       750\n",
    "nombre_sain          2309\n",
    "nombre_exposed        422\n",
    "nombre_recovered    16519\n",
    "Name: 585, dtype: int64"
   ]
  },
  {
   "cell_type": "markdown",
   "id": "c0d64475",
   "metadata": {},
   "source": [
    "nombre_infected       741\n",
    "nombre_sain          2293\n",
    "nombre_exposed        436\n",
    "nombre_recovered    16530\n",
    "Name: 586, dtype: int64"
   ]
  },
  {
   "cell_type": "markdown",
   "id": "9b07be75",
   "metadata": {},
   "source": [
    "nombre_infected       732\n",
    "nombre_sain          2310\n",
    "nombre_exposed        424\n",
    "nombre_recovered    16534\n",
    "Name: 587, dtype: int64"
   ]
  },
  {
   "cell_type": "markdown",
   "id": "6fe2898d",
   "metadata": {},
   "source": [
    "nombre_infected       738\n",
    "nombre_sain          2317\n",
    "nombre_exposed        413\n",
    "nombre_recovered    16532\n",
    "Name: 588, dtype: int64"
   ]
  },
  {
   "cell_type": "markdown",
   "id": "e112d921",
   "metadata": {},
   "source": [
    "nombre_infected       741\n",
    "nombre_sain          2308\n",
    "nombre_exposed        420\n",
    "nombre_recovered    16531\n",
    "Name: 589, dtype: int64"
   ]
  },
  {
   "cell_type": "markdown",
   "id": "fce6a4f7",
   "metadata": {},
   "source": [
    "nombre_infected       732\n",
    "nombre_sain          2302\n",
    "nombre_exposed        432\n",
    "nombre_recovered    16534\n",
    "Name: 590, dtype: int64"
   ]
  },
  {
   "cell_type": "markdown",
   "id": "a6a9e914",
   "metadata": {},
   "source": [
    "nombre_infected       710\n",
    "nombre_sain          2312\n",
    "nombre_exposed        445\n",
    "nombre_recovered    16533\n",
    "Name: 591, dtype: int64"
   ]
  },
  {
   "cell_type": "markdown",
   "id": "d70f2f66",
   "metadata": {},
   "source": [
    "nombre_infected       710\n",
    "nombre_sain          2327\n",
    "nombre_exposed        432\n",
    "nombre_recovered    16531\n",
    "Name: 592, dtype: int64"
   ]
  },
  {
   "cell_type": "markdown",
   "id": "a7e071b6",
   "metadata": {},
   "source": [
    "nombre_infected       701\n",
    "nombre_sain          2375\n",
    "nombre_exposed        424\n",
    "nombre_recovered    16500\n",
    "Name: 593, dtype: int64"
   ]
  },
  {
   "cell_type": "markdown",
   "id": "bb65dac3",
   "metadata": {},
   "source": [
    "nombre_infected       682\n",
    "nombre_sain          2394\n",
    "nombre_exposed        428\n",
    "nombre_recovered    16496\n",
    "Name: 594, dtype: int64"
   ]
  },
  {
   "cell_type": "markdown",
   "id": "8c597f44",
   "metadata": {},
   "source": [
    "nombre_infected       657\n",
    "nombre_sain          2403\n",
    "nombre_exposed        434\n",
    "nombre_recovered    16506\n",
    "Name: 595, dtype: int64"
   ]
  },
  {
   "cell_type": "markdown",
   "id": "c2b0a54e",
   "metadata": {},
   "source": [
    "nombre_infected       676\n",
    "nombre_sain          2393\n",
    "nombre_exposed        435\n",
    "nombre_recovered    16496\n",
    "Name: 596, dtype: int64"
   ]
  },
  {
   "cell_type": "markdown",
   "id": "8290c782",
   "metadata": {},
   "source": [
    "nombre_infected       674\n",
    "nombre_sain          2398\n",
    "nombre_exposed        424\n",
    "nombre_recovered    16504\n",
    "Name: 597, dtype: int64"
   ]
  },
  {
   "cell_type": "markdown",
   "id": "94a3ea6e",
   "metadata": {},
   "source": [
    "nombre_infected       680\n",
    "nombre_sain          2408\n",
    "nombre_exposed        426\n",
    "nombre_recovered    16486\n",
    "Name: 598, dtype: int64"
   ]
  },
  {
   "cell_type": "markdown",
   "id": "e3a8cadd",
   "metadata": {},
   "source": [
    "nombre_infected       690\n",
    "nombre_sain          2439\n",
    "nombre_exposed        436\n",
    "nombre_recovered    16435\n",
    "Name: 599, dtype: int64"
   ]
  },
  {
   "cell_type": "markdown",
   "id": "a8d79af9",
   "metadata": {},
   "source": [
    "nombre_infected       700\n",
    "nombre_sain          2441\n",
    "nombre_exposed        461\n",
    "nombre_recovered    16398\n",
    "Name: 600, dtype: int64"
   ]
  },
  {
   "cell_type": "markdown",
   "id": "d0becaa0",
   "metadata": {},
   "source": [
    "nombre_infected       695\n",
    "nombre_sain          2458\n",
    "nombre_exposed        457\n",
    "nombre_recovered    16390\n",
    "Name: 601, dtype: int64"
   ]
  },
  {
   "cell_type": "markdown",
   "id": "a5b6a682",
   "metadata": {},
   "source": [
    "nombre_infected       730\n",
    "nombre_sain          2448\n",
    "nombre_exposed        456\n",
    "nombre_recovered    16366\n",
    "Name: 602, dtype: int64"
   ]
  },
  {
   "cell_type": "markdown",
   "id": "fc2910f7",
   "metadata": {},
   "source": [
    "nombre_infected       714\n",
    "nombre_sain          2473\n",
    "nombre_exposed        452\n",
    "nombre_recovered    16361\n",
    "Name: 603, dtype: int64"
   ]
  },
  {
   "cell_type": "markdown",
   "id": "831b0d31",
   "metadata": {},
   "source": [
    "nombre_infected       714\n",
    "nombre_sain          2484\n",
    "nombre_exposed        449\n",
    "nombre_recovered    16353\n",
    "Name: 604, dtype: int64"
   ]
  },
  {
   "cell_type": "markdown",
   "id": "7003ab1c",
   "metadata": {},
   "source": [
    "nombre_infected       737\n",
    "nombre_sain          2472\n",
    "nombre_exposed        444\n",
    "nombre_recovered    16347\n",
    "Name: 605, dtype: int64"
   ]
  },
  {
   "cell_type": "markdown",
   "id": "f778aa9a",
   "metadata": {},
   "source": [
    "nombre_infected       727\n",
    "nombre_sain          2450\n",
    "nombre_exposed        478\n",
    "nombre_recovered    16345\n",
    "Name: 606, dtype: int64"
   ]
  },
  {
   "cell_type": "markdown",
   "id": "97219c62",
   "metadata": {},
   "source": [
    "nombre_infected       704\n",
    "nombre_sain          2450\n",
    "nombre_exposed        488\n",
    "nombre_recovered    16358\n",
    "Name: 607, dtype: int64"
   ]
  },
  {
   "cell_type": "markdown",
   "id": "c7e581c5",
   "metadata": {},
   "source": [
    "nombre_infected       692\n",
    "nombre_sain          2455\n",
    "nombre_exposed        501\n",
    "nombre_recovered    16352\n",
    "Name: 608, dtype: int64"
   ]
  },
  {
   "cell_type": "markdown",
   "id": "ea9948df",
   "metadata": {},
   "source": [
    "nombre_infected       702\n",
    "nombre_sain          2463\n",
    "nombre_exposed        483\n",
    "nombre_recovered    16352\n",
    "Name: 609, dtype: int64"
   ]
  },
  {
   "cell_type": "markdown",
   "id": "0083b5b6",
   "metadata": {},
   "source": [
    "nombre_infected       710\n",
    "nombre_sain          2451\n",
    "nombre_exposed        481\n",
    "nombre_recovered    16358\n",
    "Name: 610, dtype: int64"
   ]
  },
  {
   "cell_type": "markdown",
   "id": "77c6a817",
   "metadata": {},
   "source": [
    "nombre_infected       718\n",
    "nombre_sain          2417\n",
    "nombre_exposed        487\n",
    "nombre_recovered    16378\n",
    "Name: 611, dtype: int64"
   ]
  },
  {
   "cell_type": "markdown",
   "id": "04349d1a",
   "metadata": {},
   "source": [
    "nombre_infected       727\n",
    "nombre_sain          2406\n",
    "nombre_exposed        498\n",
    "nombre_recovered    16369\n",
    "Name: 612, dtype: int64"
   ]
  },
  {
   "cell_type": "markdown",
   "id": "7d99dfc4",
   "metadata": {},
   "source": [
    "nombre_infected       733\n",
    "nombre_sain          2411\n",
    "nombre_exposed        487\n",
    "nombre_recovered    16369\n",
    "Name: 613, dtype: int64"
   ]
  },
  {
   "cell_type": "markdown",
   "id": "2278d5a6",
   "metadata": {},
   "source": [
    "nombre_infected       758\n",
    "nombre_sain          2395\n",
    "nombre_exposed        489\n",
    "nombre_recovered    16358\n",
    "Name: 614, dtype: int64"
   ]
  },
  {
   "cell_type": "markdown",
   "id": "21c50abd",
   "metadata": {},
   "source": [
    "nombre_infected       722\n",
    "nombre_sain          2403\n",
    "nombre_exposed        510\n",
    "nombre_recovered    16365\n",
    "Name: 615, dtype: int64"
   ]
  },
  {
   "cell_type": "markdown",
   "id": "948f7907",
   "metadata": {},
   "source": [
    "nombre_infected       733\n",
    "nombre_sain          2412\n",
    "nombre_exposed        510\n",
    "nombre_recovered    16345\n",
    "Name: 616, dtype: int64"
   ]
  },
  {
   "cell_type": "markdown",
   "id": "a6137142",
   "metadata": {},
   "source": [
    "nombre_infected       736\n",
    "nombre_sain          2408\n",
    "nombre_exposed        495\n",
    "nombre_recovered    16361\n",
    "Name: 617, dtype: int64"
   ]
  },
  {
   "cell_type": "markdown",
   "id": "35a36cad",
   "metadata": {},
   "source": [
    "nombre_infected       748\n",
    "nombre_sain          2393\n",
    "nombre_exposed        511\n",
    "nombre_recovered    16348\n",
    "Name: 618, dtype: int64"
   ]
  },
  {
   "cell_type": "markdown",
   "id": "90555c36",
   "metadata": {},
   "source": [
    "nombre_infected       764\n",
    "nombre_sain          2426\n",
    "nombre_exposed        490\n",
    "nombre_recovered    16320\n",
    "Name: 619, dtype: int64"
   ]
  },
  {
   "cell_type": "markdown",
   "id": "9c1ef237",
   "metadata": {},
   "source": [
    "nombre_infected       775\n",
    "nombre_sain          2427\n",
    "nombre_exposed        489\n",
    "nombre_recovered    16309\n",
    "Name: 620, dtype: int64"
   ]
  },
  {
   "cell_type": "markdown",
   "id": "49914919",
   "metadata": {},
   "source": [
    "nombre_infected       779\n",
    "nombre_sain          2461\n",
    "nombre_exposed        487\n",
    "nombre_recovered    16273\n",
    "Name: 621, dtype: int64"
   ]
  },
  {
   "cell_type": "markdown",
   "id": "df71a05a",
   "metadata": {},
   "source": [
    "nombre_infected       775\n",
    "nombre_sain          2470\n",
    "nombre_exposed        486\n",
    "nombre_recovered    16269\n",
    "Name: 622, dtype: int64"
   ]
  },
  {
   "cell_type": "markdown",
   "id": "74c01e8a",
   "metadata": {},
   "source": [
    "nombre_infected       778\n",
    "nombre_sain          2489\n",
    "nombre_exposed        468\n",
    "nombre_recovered    16265\n",
    "Name: 623, dtype: int64"
   ]
  },
  {
   "cell_type": "markdown",
   "id": "090ba606",
   "metadata": {},
   "source": [
    "nombre_infected       764\n",
    "nombre_sain          2485\n",
    "nombre_exposed        488\n",
    "nombre_recovered    16263\n",
    "Name: 624, dtype: int64"
   ]
  },
  {
   "cell_type": "markdown",
   "id": "04b84802",
   "metadata": {},
   "source": [
    "nombre_infected       769\n",
    "nombre_sain          2491\n",
    "nombre_exposed        483\n",
    "nombre_recovered    16257\n",
    "Name: 625, dtype: int64"
   ]
  },
  {
   "cell_type": "markdown",
   "id": "f029c036",
   "metadata": {},
   "source": [
    "nombre_infected       762\n",
    "nombre_sain          2485\n",
    "nombre_exposed        516\n",
    "nombre_recovered    16237\n",
    "Name: 626, dtype: int64"
   ]
  },
  {
   "cell_type": "markdown",
   "id": "5c1142c8",
   "metadata": {},
   "source": [
    "nombre_infected       783\n",
    "nombre_sain          2461\n",
    "nombre_exposed        532\n",
    "nombre_recovered    16224\n",
    "Name: 627, dtype: int64"
   ]
  },
  {
   "cell_type": "markdown",
   "id": "37db5ceb",
   "metadata": {},
   "source": [
    "nombre_infected       796\n",
    "nombre_sain          2456\n",
    "nombre_exposed        520\n",
    "nombre_recovered    16228\n",
    "Name: 628, dtype: int64"
   ]
  },
  {
   "cell_type": "markdown",
   "id": "eca21883",
   "metadata": {},
   "source": [
    "nombre_infected       809\n",
    "nombre_sain          2452\n",
    "nombre_exposed        513\n",
    "nombre_recovered    16226\n",
    "Name: 629, dtype: int64"
   ]
  },
  {
   "cell_type": "markdown",
   "id": "bb6d2f67",
   "metadata": {},
   "source": [
    "nombre_infected       818\n",
    "nombre_sain          2446\n",
    "nombre_exposed        532\n",
    "nombre_recovered    16204\n",
    "Name: 630, dtype: int64"
   ]
  },
  {
   "cell_type": "markdown",
   "id": "d468b6ca",
   "metadata": {},
   "source": [
    "nombre_infected       821\n",
    "nombre_sain          2443\n",
    "nombre_exposed        545\n",
    "nombre_recovered    16191\n",
    "Name: 631, dtype: int64"
   ]
  },
  {
   "cell_type": "markdown",
   "id": "89d9de0f",
   "metadata": {},
   "source": [
    "nombre_infected       838\n",
    "nombre_sain          2442\n",
    "nombre_exposed        537\n",
    "nombre_recovered    16183\n",
    "Name: 632, dtype: int64"
   ]
  },
  {
   "cell_type": "markdown",
   "id": "60eb9427",
   "metadata": {},
   "source": [
    "nombre_infected       832\n",
    "nombre_sain          2455\n",
    "nombre_exposed        526\n",
    "nombre_recovered    16187\n",
    "Name: 633, dtype: int64"
   ]
  },
  {
   "cell_type": "markdown",
   "id": "cd09e970",
   "metadata": {},
   "source": [
    "nombre_infected       836\n",
    "nombre_sain          2481\n",
    "nombre_exposed        503\n",
    "nombre_recovered    16180\n",
    "Name: 634, dtype: int64"
   ]
  },
  {
   "cell_type": "markdown",
   "id": "5c343312",
   "metadata": {},
   "source": [
    "nombre_infected       828\n",
    "nombre_sain          2473\n",
    "nombre_exposed        523\n",
    "nombre_recovered    16176\n",
    "Name: 635, dtype: int64"
   ]
  },
  {
   "cell_type": "markdown",
   "id": "59eff561",
   "metadata": {},
   "source": [
    "nombre_infected       822\n",
    "nombre_sain          2484\n",
    "nombre_exposed        534\n",
    "nombre_recovered    16160\n",
    "Name: 636, dtype: int64"
   ]
  },
  {
   "cell_type": "markdown",
   "id": "c3f2b536",
   "metadata": {},
   "source": [
    "nombre_infected       824\n",
    "nombre_sain          2493\n",
    "nombre_exposed        533\n",
    "nombre_recovered    16150\n",
    "Name: 637, dtype: int64"
   ]
  },
  {
   "cell_type": "markdown",
   "id": "1c24fa69",
   "metadata": {},
   "source": [
    "nombre_infected       842\n",
    "nombre_sain          2484\n",
    "nombre_exposed        541\n",
    "nombre_recovered    16133\n",
    "Name: 638, dtype: int64"
   ]
  },
  {
   "cell_type": "markdown",
   "id": "f0fbd006",
   "metadata": {},
   "source": [
    "nombre_infected       816\n",
    "nombre_sain          2461\n",
    "nombre_exposed        568\n",
    "nombre_recovered    16155\n",
    "Name: 639, dtype: int64"
   ]
  },
  {
   "cell_type": "markdown",
   "id": "e06d9f53",
   "metadata": {},
   "source": [
    "nombre_infected       827\n",
    "nombre_sain          2480\n",
    "nombre_exposed        554\n",
    "nombre_recovered    16139\n",
    "Name: 640, dtype: int64"
   ]
  },
  {
   "cell_type": "markdown",
   "id": "552c82d3",
   "metadata": {},
   "source": [
    "nombre_infected       815\n",
    "nombre_sain          2471\n",
    "nombre_exposed        566\n",
    "nombre_recovered    16148\n",
    "Name: 641, dtype: int64"
   ]
  },
  {
   "cell_type": "markdown",
   "id": "3004730a",
   "metadata": {},
   "source": [
    "nombre_infected       831\n",
    "nombre_sain          2454\n",
    "nombre_exposed        560\n",
    "nombre_recovered    16155\n",
    "Name: 642, dtype: int64"
   ]
  },
  {
   "cell_type": "markdown",
   "id": "694db12a",
   "metadata": {},
   "source": [
    "nombre_infected       874\n",
    "nombre_sain          2405\n",
    "nombre_exposed        571\n",
    "nombre_recovered    16150\n",
    "Name: 643, dtype: int64"
   ]
  },
  {
   "cell_type": "markdown",
   "id": "f9a4b4a7",
   "metadata": {},
   "source": [
    "nombre_infected       896\n",
    "nombre_sain          2382\n",
    "nombre_exposed        557\n",
    "nombre_recovered    16165\n",
    "Name: 644, dtype: int64"
   ]
  },
  {
   "cell_type": "markdown",
   "id": "ecd9480f",
   "metadata": {},
   "source": [
    "nombre_infected       910\n",
    "nombre_sain          2353\n",
    "nombre_exposed        552\n",
    "nombre_recovered    16185\n",
    "Name: 645, dtype: int64"
   ]
  },
  {
   "cell_type": "markdown",
   "id": "ce79cc4f",
   "metadata": {},
   "source": [
    "nombre_infected       903\n",
    "nombre_sain          2343\n",
    "nombre_exposed        552\n",
    "nombre_recovered    16202\n",
    "Name: 646, dtype: int64"
   ]
  },
  {
   "cell_type": "markdown",
   "id": "16c9c5ca",
   "metadata": {},
   "source": [
    "nombre_infected       891\n",
    "nombre_sain          2336\n",
    "nombre_exposed        566\n",
    "nombre_recovered    16207\n",
    "Name: 647, dtype: int64"
   ]
  },
  {
   "cell_type": "markdown",
   "id": "0f8e71c7",
   "metadata": {},
   "source": [
    "nombre_infected       891\n",
    "nombre_sain          2321\n",
    "nombre_exposed        559\n",
    "nombre_recovered    16229\n",
    "Name: 648, dtype: int64"
   ]
  },
  {
   "cell_type": "markdown",
   "id": "7abcc715",
   "metadata": {},
   "source": [
    "nombre_infected       901\n",
    "nombre_sain          2310\n",
    "nombre_exposed        539\n",
    "nombre_recovered    16250\n",
    "Name: 649, dtype: int64"
   ]
  },
  {
   "cell_type": "markdown",
   "id": "dcede3bd",
   "metadata": {},
   "source": [
    "nombre_infected       915\n",
    "nombre_sain          2277\n",
    "nombre_exposed        551\n",
    "nombre_recovered    16257\n",
    "Name: 650, dtype: int64"
   ]
  },
  {
   "cell_type": "markdown",
   "id": "55c34a59",
   "metadata": {},
   "source": [
    "nombre_infected       913\n",
    "nombre_sain          2261\n",
    "nombre_exposed        565\n",
    "nombre_recovered    16261\n",
    "Name: 651, dtype: int64"
   ]
  },
  {
   "cell_type": "markdown",
   "id": "71f8e838",
   "metadata": {},
   "source": [
    "nombre_infected       895\n",
    "nombre_sain          2250\n",
    "nombre_exposed        553\n",
    "nombre_recovered    16302\n",
    "Name: 652, dtype: int64"
   ]
  },
  {
   "cell_type": "markdown",
   "id": "deb6763d",
   "metadata": {},
   "source": [
    "nombre_infected       881\n",
    "nombre_sain          2234\n",
    "nombre_exposed        555\n",
    "nombre_recovered    16330\n",
    "Name: 653, dtype: int64"
   ]
  },
  {
   "cell_type": "markdown",
   "id": "8bf3b156",
   "metadata": {},
   "source": [
    "nombre_infected       917\n",
    "nombre_sain          2214\n",
    "nombre_exposed        533\n",
    "nombre_recovered    16336\n",
    "Name: 654, dtype: int64"
   ]
  },
  {
   "cell_type": "markdown",
   "id": "3077d33e",
   "metadata": {},
   "source": [
    "nombre_infected       917\n",
    "nombre_sain          2210\n",
    "nombre_exposed        530\n",
    "nombre_recovered    16343\n",
    "Name: 655, dtype: int64"
   ]
  },
  {
   "cell_type": "markdown",
   "id": "83232bb8",
   "metadata": {},
   "source": [
    "nombre_infected       905\n",
    "nombre_sain          2208\n",
    "nombre_exposed        534\n",
    "nombre_recovered    16353\n",
    "Name: 656, dtype: int64"
   ]
  },
  {
   "cell_type": "markdown",
   "id": "f5f24533",
   "metadata": {},
   "source": [
    "nombre_infected       899\n",
    "nombre_sain          2192\n",
    "nombre_exposed        549\n",
    "nombre_recovered    16360\n",
    "Name: 657, dtype: int64"
   ]
  },
  {
   "cell_type": "markdown",
   "id": "8af964f7",
   "metadata": {},
   "source": [
    "nombre_infected       894\n",
    "nombre_sain          2200\n",
    "nombre_exposed        523\n",
    "nombre_recovered    16383\n",
    "Name: 658, dtype: int64"
   ]
  },
  {
   "cell_type": "markdown",
   "id": "f3c56297",
   "metadata": {},
   "source": [
    "nombre_infected       869\n",
    "nombre_sain          2194\n",
    "nombre_exposed        516\n",
    "nombre_recovered    16421\n",
    "Name: 659, dtype: int64"
   ]
  },
  {
   "cell_type": "markdown",
   "id": "9fde7bab",
   "metadata": {},
   "source": [
    "nombre_infected       890\n",
    "nombre_sain          2190\n",
    "nombre_exposed        509\n",
    "nombre_recovered    16411\n",
    "Name: 660, dtype: int64"
   ]
  },
  {
   "cell_type": "markdown",
   "id": "2f4e3664",
   "metadata": {},
   "source": [
    "nombre_infected       905\n",
    "nombre_sain          2212\n",
    "nombre_exposed        494\n",
    "nombre_recovered    16389\n",
    "Name: 661, dtype: int64"
   ]
  },
  {
   "cell_type": "markdown",
   "id": "acf913d5",
   "metadata": {},
   "source": [
    "nombre_infected       899\n",
    "nombre_sain          2228\n",
    "nombre_exposed        491\n",
    "nombre_recovered    16382\n",
    "Name: 662, dtype: int64"
   ]
  },
  {
   "cell_type": "markdown",
   "id": "8cb30a2a",
   "metadata": {},
   "source": [
    "nombre_infected       887\n",
    "nombre_sain          2226\n",
    "nombre_exposed        516\n",
    "nombre_recovered    16371\n",
    "Name: 663, dtype: int64"
   ]
  },
  {
   "cell_type": "markdown",
   "id": "b8cad3f2",
   "metadata": {},
   "source": [
    "nombre_infected       876\n",
    "nombre_sain          2226\n",
    "nombre_exposed        530\n",
    "nombre_recovered    16368\n",
    "Name: 664, dtype: int64"
   ]
  },
  {
   "cell_type": "markdown",
   "id": "c638115e",
   "metadata": {},
   "source": [
    "nombre_infected       867\n",
    "nombre_sain          2246\n",
    "nombre_exposed        526\n",
    "nombre_recovered    16361\n",
    "Name: 665, dtype: int64"
   ]
  },
  {
   "cell_type": "markdown",
   "id": "86649b64",
   "metadata": {},
   "source": [
    "nombre_infected       872\n",
    "nombre_sain          2252\n",
    "nombre_exposed        529\n",
    "nombre_recovered    16347\n",
    "Name: 666, dtype: int64"
   ]
  },
  {
   "cell_type": "markdown",
   "id": "d4ca329e",
   "metadata": {},
   "source": [
    "nombre_infected       860\n",
    "nombre_sain          2237\n",
    "nombre_exposed        547\n",
    "nombre_recovered    16356\n",
    "Name: 667, dtype: int64"
   ]
  },
  {
   "cell_type": "markdown",
   "id": "4ffaae3a",
   "metadata": {},
   "source": [
    "nombre_infected       860\n",
    "nombre_sain          2251\n",
    "nombre_exposed        531\n",
    "nombre_recovered    16358\n",
    "Name: 668, dtype: int64"
   ]
  },
  {
   "cell_type": "markdown",
   "id": "8ce01a3d",
   "metadata": {},
   "source": [
    "nombre_infected       864\n",
    "nombre_sain          2246\n",
    "nombre_exposed        528\n",
    "nombre_recovered    16362\n",
    "Name: 669, dtype: int64"
   ]
  },
  {
   "cell_type": "markdown",
   "id": "e6a48990",
   "metadata": {},
   "source": [
    "nombre_infected       861\n",
    "nombre_sain          2252\n",
    "nombre_exposed        522\n",
    "nombre_recovered    16365\n",
    "Name: 670, dtype: int64"
   ]
  },
  {
   "cell_type": "markdown",
   "id": "0b03471c",
   "metadata": {},
   "source": [
    "nombre_infected       859\n",
    "nombre_sain          2255\n",
    "nombre_exposed        511\n",
    "nombre_recovered    16375\n",
    "Name: 671, dtype: int64"
   ]
  },
  {
   "cell_type": "markdown",
   "id": "e9505a0f",
   "metadata": {},
   "source": [
    "nombre_infected       857\n",
    "nombre_sain          2252\n",
    "nombre_exposed        524\n",
    "nombre_recovered    16367\n",
    "Name: 672, dtype: int64"
   ]
  },
  {
   "cell_type": "markdown",
   "id": "b93d49fc",
   "metadata": {},
   "source": [
    "nombre_infected       836\n",
    "nombre_sain          2262\n",
    "nombre_exposed        519\n",
    "nombre_recovered    16383\n",
    "Name: 673, dtype: int64"
   ]
  },
  {
   "cell_type": "markdown",
   "id": "c98aeb4c",
   "metadata": {},
   "source": [
    "nombre_infected       821\n",
    "nombre_sain          2288\n",
    "nombre_exposed        518\n",
    "nombre_recovered    16373\n",
    "Name: 674, dtype: int64"
   ]
  },
  {
   "cell_type": "markdown",
   "id": "4f3af142",
   "metadata": {},
   "source": [
    "nombre_infected       802\n",
    "nombre_sain          2294\n",
    "nombre_exposed        515\n",
    "nombre_recovered    16389\n",
    "Name: 675, dtype: int64"
   ]
  },
  {
   "cell_type": "markdown",
   "id": "7088c90d",
   "metadata": {},
   "source": [
    "nombre_infected       792\n",
    "nombre_sain          2291\n",
    "nombre_exposed        526\n",
    "nombre_recovered    16391\n",
    "Name: 676, dtype: int64"
   ]
  },
  {
   "cell_type": "markdown",
   "id": "b786142b",
   "metadata": {},
   "source": [
    "nombre_infected       813\n",
    "nombre_sain          2296\n",
    "nombre_exposed        505\n",
    "nombre_recovered    16386\n",
    "Name: 677, dtype: int64"
   ]
  },
  {
   "cell_type": "markdown",
   "id": "7d88c1f4",
   "metadata": {},
   "source": [
    "nombre_infected       839\n",
    "nombre_sain          2311\n",
    "nombre_exposed        482\n",
    "nombre_recovered    16368\n",
    "Name: 678, dtype: int64"
   ]
  },
  {
   "cell_type": "markdown",
   "id": "cabc2f91",
   "metadata": {},
   "source": [
    "nombre_infected       845\n",
    "nombre_sain          2294\n",
    "nombre_exposed        487\n",
    "nombre_recovered    16374\n",
    "Name: 679, dtype: int64"
   ]
  },
  {
   "cell_type": "markdown",
   "id": "1ee5371e",
   "metadata": {},
   "source": [
    "nombre_infected       828\n",
    "nombre_sain          2282\n",
    "nombre_exposed        490\n",
    "nombre_recovered    16400\n",
    "Name: 680, dtype: int64"
   ]
  },
  {
   "cell_type": "markdown",
   "id": "86cb9ed8",
   "metadata": {},
   "source": [
    "nombre_infected       834\n",
    "nombre_sain          2298\n",
    "nombre_exposed        482\n",
    "nombre_recovered    16386\n",
    "Name: 681, dtype: int64"
   ]
  },
  {
   "cell_type": "markdown",
   "id": "0b9c52a2",
   "metadata": {},
   "source": [
    "nombre_infected       847\n",
    "nombre_sain          2304\n",
    "nombre_exposed        475\n",
    "nombre_recovered    16374\n",
    "Name: 682, dtype: int64"
   ]
  },
  {
   "cell_type": "markdown",
   "id": "436ae3eb",
   "metadata": {},
   "source": [
    "nombre_infected       832\n",
    "nombre_sain          2293\n",
    "nombre_exposed        467\n",
    "nombre_recovered    16408\n",
    "Name: 683, dtype: int64"
   ]
  },
  {
   "cell_type": "markdown",
   "id": "49f15f08",
   "metadata": {},
   "source": [
    "nombre_infected       827\n",
    "nombre_sain          2296\n",
    "nombre_exposed        464\n",
    "nombre_recovered    16413\n",
    "Name: 684, dtype: int64"
   ]
  },
  {
   "cell_type": "markdown",
   "id": "2a183275",
   "metadata": {},
   "source": [
    "nombre_infected       824\n",
    "nombre_sain          2263\n",
    "nombre_exposed        495\n",
    "nombre_recovered    16418\n",
    "Name: 685, dtype: int64"
   ]
  },
  {
   "cell_type": "markdown",
   "id": "e3211c70",
   "metadata": {},
   "source": [
    "nombre_infected       825\n",
    "nombre_sain          2295\n",
    "nombre_exposed        487\n",
    "nombre_recovered    16393\n",
    "Name: 686, dtype: int64"
   ]
  },
  {
   "cell_type": "markdown",
   "id": "b6e82956",
   "metadata": {},
   "source": [
    "nombre_infected       833\n",
    "nombre_sain          2278\n",
    "nombre_exposed        496\n",
    "nombre_recovered    16393\n",
    "Name: 687, dtype: int64"
   ]
  },
  {
   "cell_type": "markdown",
   "id": "230986b3",
   "metadata": {},
   "source": [
    "nombre_infected       807\n",
    "nombre_sain          2294\n",
    "nombre_exposed        499\n",
    "nombre_recovered    16400\n",
    "Name: 688, dtype: int64"
   ]
  },
  {
   "cell_type": "markdown",
   "id": "b40ed32c",
   "metadata": {},
   "source": [
    "nombre_infected       826\n",
    "nombre_sain          2298\n",
    "nombre_exposed        496\n",
    "nombre_recovered    16380\n",
    "Name: 689, dtype: int64"
   ]
  },
  {
   "cell_type": "markdown",
   "id": "ce33271a",
   "metadata": {},
   "source": [
    "nombre_infected       837\n",
    "nombre_sain          2309\n",
    "nombre_exposed        499\n",
    "nombre_recovered    16355\n",
    "Name: 690, dtype: int64"
   ]
  },
  {
   "cell_type": "markdown",
   "id": "2d0991e6",
   "metadata": {},
   "source": [
    "nombre_infected       830\n",
    "nombre_sain          2347\n",
    "nombre_exposed        507\n",
    "nombre_recovered    16316\n",
    "Name: 691, dtype: int64"
   ]
  },
  {
   "cell_type": "markdown",
   "id": "e11a232d",
   "metadata": {},
   "source": [
    "nombre_infected       848\n",
    "nombre_sain          2365\n",
    "nombre_exposed        481\n",
    "nombre_recovered    16306\n",
    "Name: 692, dtype: int64"
   ]
  },
  {
   "cell_type": "markdown",
   "id": "7c3106d1",
   "metadata": {},
   "source": [
    "nombre_infected       837\n",
    "nombre_sain          2352\n",
    "nombre_exposed        514\n",
    "nombre_recovered    16297\n",
    "Name: 693, dtype: int64"
   ]
  },
  {
   "cell_type": "markdown",
   "id": "cc44b7b2",
   "metadata": {},
   "source": [
    "nombre_infected       837\n",
    "nombre_sain          2372\n",
    "nombre_exposed        539\n",
    "nombre_recovered    16252\n",
    "Name: 694, dtype: int64"
   ]
  },
  {
   "cell_type": "markdown",
   "id": "cbffbe71",
   "metadata": {},
   "source": [
    "nombre_infected       837\n",
    "nombre_sain          2388\n",
    "nombre_exposed        536\n",
    "nombre_recovered    16239\n",
    "Name: 695, dtype: int64"
   ]
  },
  {
   "cell_type": "markdown",
   "id": "129776ae",
   "metadata": {},
   "source": [
    "nombre_infected       854\n",
    "nombre_sain          2405\n",
    "nombre_exposed        530\n",
    "nombre_recovered    16211\n",
    "Name: 696, dtype: int64"
   ]
  },
  {
   "cell_type": "markdown",
   "id": "f4a46984",
   "metadata": {},
   "source": [
    "nombre_infected       867\n",
    "nombre_sain          2408\n",
    "nombre_exposed        542\n",
    "nombre_recovered    16183\n",
    "Name: 697, dtype: int64"
   ]
  },
  {
   "cell_type": "markdown",
   "id": "2f5cbd5e",
   "metadata": {},
   "source": [
    "nombre_infected       855\n",
    "nombre_sain          2409\n",
    "nombre_exposed        540\n",
    "nombre_recovered    16196\n",
    "Name: 698, dtype: int64"
   ]
  },
  {
   "cell_type": "markdown",
   "id": "1e8e0c05",
   "metadata": {},
   "source": [
    "nombre_infected       874\n",
    "nombre_sain          2398\n",
    "nombre_exposed        523\n",
    "nombre_recovered    16205\n",
    "Name: 699, dtype: int64"
   ]
  },
  {
   "cell_type": "markdown",
   "id": "40159b83",
   "metadata": {},
   "source": [
    "nombre_infected       899\n",
    "nombre_sain          2416\n",
    "nombre_exposed        532\n",
    "nombre_recovered    16153\n",
    "Name: 700, dtype: int64"
   ]
  },
  {
   "cell_type": "markdown",
   "id": "050dda61",
   "metadata": {},
   "source": [
    "nombre_infected       910\n",
    "nombre_sain          2437\n",
    "nombre_exposed        497\n",
    "nombre_recovered    16156\n",
    "Name: 701, dtype: int64"
   ]
  },
  {
   "cell_type": "markdown",
   "id": "bbecef6c",
   "metadata": {},
   "source": [
    "nombre_infected       911\n",
    "nombre_sain          2384\n",
    "nombre_exposed        526\n",
    "nombre_recovered    16179\n",
    "Name: 702, dtype: int64"
   ]
  },
  {
   "cell_type": "markdown",
   "id": "9171ae92",
   "metadata": {},
   "source": [
    "nombre_infected       894\n",
    "nombre_sain          2372\n",
    "nombre_exposed        558\n",
    "nombre_recovered    16176\n",
    "Name: 703, dtype: int64"
   ]
  },
  {
   "cell_type": "markdown",
   "id": "6951164d",
   "metadata": {},
   "source": [
    "nombre_infected       910\n",
    "nombre_sain          2385\n",
    "nombre_exposed        552\n",
    "nombre_recovered    16153\n",
    "Name: 704, dtype: int64"
   ]
  },
  {
   "cell_type": "markdown",
   "id": "ac9d8e29",
   "metadata": {},
   "source": [
    "nombre_infected       905\n",
    "nombre_sain          2388\n",
    "nombre_exposed        577\n",
    "nombre_recovered    16130\n",
    "Name: 705, dtype: int64"
   ]
  },
  {
   "cell_type": "markdown",
   "id": "437f227d",
   "metadata": {},
   "source": [
    "nombre_infected       921\n",
    "nombre_sain          2375\n",
    "nombre_exposed        595\n",
    "nombre_recovered    16109\n",
    "Name: 706, dtype: int64"
   ]
  },
  {
   "cell_type": "markdown",
   "id": "3bff3a82",
   "metadata": {},
   "source": [
    "nombre_infected       888\n",
    "nombre_sain          2360\n",
    "nombre_exposed        589\n",
    "nombre_recovered    16163\n",
    "Name: 707, dtype: int64"
   ]
  },
  {
   "cell_type": "markdown",
   "id": "8b46c188",
   "metadata": {},
   "source": [
    "nombre_infected       916\n",
    "nombre_sain          2377\n",
    "nombre_exposed        563\n",
    "nombre_recovered    16144\n",
    "Name: 708, dtype: int64"
   ]
  },
  {
   "cell_type": "markdown",
   "id": "68126839",
   "metadata": {},
   "source": [
    "nombre_infected       926\n",
    "nombre_sain          2387\n",
    "nombre_exposed        545\n",
    "nombre_recovered    16142\n",
    "Name: 709, dtype: int64"
   ]
  },
  {
   "cell_type": "markdown",
   "id": "7c62588d",
   "metadata": {},
   "source": [
    "nombre_infected       927\n",
    "nombre_sain          2388\n",
    "nombre_exposed        544\n",
    "nombre_recovered    16141\n",
    "Name: 710, dtype: int64"
   ]
  },
  {
   "cell_type": "markdown",
   "id": "48a3e356",
   "metadata": {},
   "source": [
    "nombre_infected       933\n",
    "nombre_sain          2371\n",
    "nombre_exposed        547\n",
    "nombre_recovered    16149\n",
    "Name: 711, dtype: int64"
   ]
  },
  {
   "cell_type": "markdown",
   "id": "f1ed6fc6",
   "metadata": {},
   "source": [
    "nombre_infected       924\n",
    "nombre_sain          2345\n",
    "nombre_exposed        581\n",
    "nombre_recovered    16150\n",
    "Name: 712, dtype: int64"
   ]
  },
  {
   "cell_type": "markdown",
   "id": "202aa281",
   "metadata": {},
   "source": [
    "nombre_infected       955\n",
    "nombre_sain          2349\n",
    "nombre_exposed        578\n",
    "nombre_recovered    16118\n",
    "Name: 713, dtype: int64"
   ]
  },
  {
   "cell_type": "markdown",
   "id": "9a2753f8",
   "metadata": {},
   "source": [
    "nombre_infected       954\n",
    "nombre_sain          2360\n",
    "nombre_exposed        583\n",
    "nombre_recovered    16103\n",
    "Name: 714, dtype: int64"
   ]
  },
  {
   "cell_type": "markdown",
   "id": "fdbbb12a",
   "metadata": {},
   "source": [
    "nombre_infected       968\n",
    "nombre_sain          2350\n",
    "nombre_exposed        567\n",
    "nombre_recovered    16115\n",
    "Name: 715, dtype: int64"
   ]
  },
  {
   "cell_type": "markdown",
   "id": "99b68a82",
   "metadata": {},
   "source": [
    "nombre_infected       980\n",
    "nombre_sain          2324\n",
    "nombre_exposed        573\n",
    "nombre_recovered    16123\n",
    "Name: 716, dtype: int64"
   ]
  },
  {
   "cell_type": "markdown",
   "id": "6ed46c01",
   "metadata": {},
   "source": [
    "nombre_infected       974\n",
    "nombre_sain          2321\n",
    "nombre_exposed        587\n",
    "nombre_recovered    16118\n",
    "Name: 717, dtype: int64"
   ]
  },
  {
   "cell_type": "markdown",
   "id": "0ec83259",
   "metadata": {},
   "source": [
    "nombre_infected       971\n",
    "nombre_sain          2306\n",
    "nombre_exposed        583\n",
    "nombre_recovered    16140\n",
    "Name: 718, dtype: int64"
   ]
  },
  {
   "cell_type": "markdown",
   "id": "4be8dada",
   "metadata": {},
   "source": [
    "nombre_infected       973\n",
    "nombre_sain          2282\n",
    "nombre_exposed        596\n",
    "nombre_recovered    16149\n",
    "Name: 719, dtype: int64"
   ]
  },
  {
   "cell_type": "markdown",
   "id": "aba0b01a",
   "metadata": {},
   "source": [
    "nombre_infected       970\n",
    "nombre_sain          2287\n",
    "nombre_exposed        585\n",
    "nombre_recovered    16158\n",
    "Name: 720, dtype: int64"
   ]
  },
  {
   "cell_type": "markdown",
   "id": "82721456",
   "metadata": {},
   "source": [
    "nombre_infected       978\n",
    "nombre_sain          2273\n",
    "nombre_exposed        596\n",
    "nombre_recovered    16153\n",
    "Name: 721, dtype: int64"
   ]
  },
  {
   "cell_type": "markdown",
   "id": "ac9bf63a",
   "metadata": {},
   "source": [
    "nombre_infected       976\n",
    "nombre_sain          2251\n",
    "nombre_exposed        607\n",
    "nombre_recovered    16166\n",
    "Name: 722, dtype: int64"
   ]
  },
  {
   "cell_type": "markdown",
   "id": "576d97be",
   "metadata": {},
   "source": [
    "nombre_infected       991\n",
    "nombre_sain          2251\n",
    "nombre_exposed        597\n",
    "nombre_recovered    16161\n",
    "Name: 723, dtype: int64"
   ]
  },
  {
   "cell_type": "markdown",
   "id": "d5c04a60",
   "metadata": {},
   "source": [
    "nombre_infected       989\n",
    "nombre_sain          2256\n",
    "nombre_exposed        594\n",
    "nombre_recovered    16161\n",
    "Name: 724, dtype: int64"
   ]
  },
  {
   "cell_type": "markdown",
   "id": "30e6210f",
   "metadata": {},
   "source": [
    "nombre_infected      1002\n",
    "nombre_sain          2259\n",
    "nombre_exposed        578\n",
    "nombre_recovered    16161\n",
    "Name: 725, dtype: int64"
   ]
  },
  {
   "cell_type": "markdown",
   "id": "42949fc1",
   "metadata": {},
   "source": [
    "nombre_infected      1012\n",
    "nombre_sain          2257\n",
    "nombre_exposed        576\n",
    "nombre_recovered    16155\n",
    "Name: 726, dtype: int64"
   ]
  },
  {
   "cell_type": "markdown",
   "id": "bbbe2414",
   "metadata": {},
   "source": [
    "nombre_infected      1004\n",
    "nombre_sain          2245\n",
    "nombre_exposed        592\n",
    "nombre_recovered    16159\n",
    "Name: 727, dtype: int64"
   ]
  },
  {
   "cell_type": "markdown",
   "id": "1b5aabb0",
   "metadata": {},
   "source": [
    "nombre_infected      1021\n",
    "nombre_sain          2255\n",
    "nombre_exposed        585\n",
    "nombre_recovered    16139\n",
    "Name: 728, dtype: int64"
   ]
  },
  {
   "cell_type": "markdown",
   "id": "b0071666",
   "metadata": {},
   "source": [
    "nombre_infected      1034\n",
    "nombre_sain          2222\n",
    "nombre_exposed        610\n",
    "nombre_recovered    16134\n",
    "Name: 729, dtype: int64"
   ]
  },
  {
   "cell_type": "markdown",
   "id": "58da604d",
   "metadata": {},
   "source": [
    "nombre_infected      1026\n",
    "nombre_sain          2226\n",
    "nombre_exposed        603\n",
    "nombre_recovered    16145\n",
    "Name: 730, dtype: int64"
   ]
  }
 ],
 "metadata": {},
 "nbformat": 4,
 "nbformat_minor": 5
}
