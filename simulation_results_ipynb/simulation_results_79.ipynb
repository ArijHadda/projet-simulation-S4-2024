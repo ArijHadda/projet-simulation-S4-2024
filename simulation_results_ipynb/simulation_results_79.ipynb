{
 "cells": [
  {
   "cell_type": "markdown",
   "id": "99bafe3c",
   "metadata": {},
   "source": [
    "nombre_infected        20\n",
    "nombre_sain         19980\n",
    "nombre_exposed          0\n",
    "nombre_recovered        0\n",
    "Name: 0, dtype: int64"
   ]
  },
  {
   "cell_type": "markdown",
   "id": "4b1ff756",
   "metadata": {},
   "source": [
    "nombre_infected        20\n",
    "nombre_sain         19968\n",
    "nombre_exposed         12\n",
    "nombre_recovered        0\n",
    "Name: 1, dtype: int64"
   ]
  },
  {
   "cell_type": "markdown",
   "id": "fb644aea",
   "metadata": {},
   "source": [
    "nombre_infected        17\n",
    "nombre_sain         19947\n",
    "nombre_exposed         33\n",
    "nombre_recovered        3\n",
    "Name: 2, dtype: int64"
   ]
  },
  {
   "cell_type": "markdown",
   "id": "441a8976",
   "metadata": {},
   "source": [
    "nombre_infected        19\n",
    "nombre_sain         19928\n",
    "nombre_exposed         50\n",
    "nombre_recovered        3\n",
    "Name: 3, dtype: int64"
   ]
  },
  {
   "cell_type": "markdown",
   "id": "b2f82dde",
   "metadata": {},
   "source": [
    "nombre_infected         6\n",
    "nombre_sain         19908\n",
    "nombre_exposed         66\n",
    "nombre_recovered       20\n",
    "Name: 4, dtype: int64"
   ]
  },
  {
   "cell_type": "markdown",
   "id": "9fdb431d",
   "metadata": {},
   "source": [
    "nombre_infected        18\n",
    "nombre_sain         19882\n",
    "nombre_exposed         80\n",
    "nombre_recovered       20\n",
    "Name: 5, dtype: int64"
   ]
  },
  {
   "cell_type": "markdown",
   "id": "33e1d945",
   "metadata": {},
   "source": [
    "nombre_infected        35\n",
    "nombre_sain         19853\n",
    "nombre_exposed         94\n",
    "nombre_recovered       18\n",
    "Name: 6, dtype: int64"
   ]
  },
  {
   "cell_type": "markdown",
   "id": "1d5e2674",
   "metadata": {},
   "source": [
    "nombre_infected        46\n",
    "nombre_sain         19808\n",
    "nombre_exposed        126\n",
    "nombre_recovered       20\n",
    "Name: 7, dtype: int64"
   ]
  },
  {
   "cell_type": "markdown",
   "id": "cc42e7ba",
   "metadata": {},
   "source": [
    "nombre_infected        63\n",
    "nombre_sain         19737\n",
    "nombre_exposed        177\n",
    "nombre_recovered       23\n",
    "Name: 8, dtype: int64"
   ]
  },
  {
   "cell_type": "markdown",
   "id": "86aad458",
   "metadata": {},
   "source": [
    "nombre_infected        85\n",
    "nombre_sain         19654\n",
    "nombre_exposed        230\n",
    "nombre_recovered       31\n",
    "Name: 9, dtype: int64"
   ]
  },
  {
   "cell_type": "markdown",
   "id": "68aae57b",
   "metadata": {},
   "source": [
    "nombre_infected       112\n",
    "nombre_sain         19545\n",
    "nombre_exposed        301\n",
    "nombre_recovered       42\n",
    "Name: 10, dtype: int64"
   ]
  },
  {
   "cell_type": "markdown",
   "id": "33869c22",
   "metadata": {},
   "source": [
    "nombre_infected       165\n",
    "nombre_sain         19381\n",
    "nombre_exposed        405\n",
    "nombre_recovered       49\n",
    "Name: 11, dtype: int64"
   ]
  },
  {
   "cell_type": "markdown",
   "id": "d0c571dc",
   "metadata": {},
   "source": [
    "nombre_infected       211\n",
    "nombre_sain         19148\n",
    "nombre_exposed        579\n",
    "nombre_recovered       62\n",
    "Name: 12, dtype: int64"
   ]
  },
  {
   "cell_type": "markdown",
   "id": "af01b170",
   "metadata": {},
   "source": [
    "nombre_infected       279\n",
    "nombre_sain         18851\n",
    "nombre_exposed        791\n",
    "nombre_recovered       79\n",
    "Name: 13, dtype: int64"
   ]
  },
  {
   "cell_type": "markdown",
   "id": "05cb4688",
   "metadata": {},
   "source": [
    "nombre_infected       391\n",
    "nombre_sain         18489\n",
    "nombre_exposed       1017\n",
    "nombre_recovered      103\n",
    "Name: 14, dtype: int64"
   ]
  },
  {
   "cell_type": "markdown",
   "id": "9e475079",
   "metadata": {},
   "source": [
    "nombre_infected       528\n",
    "nombre_sain         17998\n",
    "nombre_exposed       1336\n",
    "nombre_recovered      138\n",
    "Name: 15, dtype: int64"
   ]
  },
  {
   "cell_type": "markdown",
   "id": "0c03eff8",
   "metadata": {},
   "source": [
    "nombre_infected       711\n",
    "nombre_sain         17322\n",
    "nombre_exposed       1791\n",
    "nombre_recovered      176\n",
    "Name: 16, dtype: int64"
   ]
  },
  {
   "cell_type": "markdown",
   "id": "dfae7186",
   "metadata": {},
   "source": [
    "nombre_infected       925\n",
    "nombre_sain         16488\n",
    "nombre_exposed       2336\n",
    "nombre_recovered      251\n",
    "Name: 17, dtype: int64"
   ]
  },
  {
   "cell_type": "markdown",
   "id": "3798cd1d",
   "metadata": {},
   "source": [
    "nombre_infected      1282\n",
    "nombre_sain         15509\n",
    "nombre_exposed       2881\n",
    "nombre_recovered      328\n",
    "Name: 18, dtype: int64"
   ]
  },
  {
   "cell_type": "markdown",
   "id": "8db9fc90",
   "metadata": {},
   "source": [
    "nombre_infected      1699\n",
    "nombre_sain         14136\n",
    "nombre_exposed       3721\n",
    "nombre_recovered      444\n",
    "Name: 19, dtype: int64"
   ]
  },
  {
   "cell_type": "markdown",
   "id": "1a2f64b1",
   "metadata": {},
   "source": [
    "nombre_infected      2206\n",
    "nombre_sain         12668\n",
    "nombre_exposed       4512\n",
    "nombre_recovered      614\n",
    "Name: 20, dtype: int64"
   ]
  },
  {
   "cell_type": "markdown",
   "id": "fc2be2f8",
   "metadata": {},
   "source": [
    "nombre_infected      2886\n",
    "nombre_sain         10968\n",
    "nombre_exposed       5334\n",
    "nombre_recovered      812\n",
    "Name: 21, dtype: int64"
   ]
  },
  {
   "cell_type": "markdown",
   "id": "dc603818",
   "metadata": {},
   "source": [
    "nombre_infected     3597\n",
    "nombre_sain         9217\n",
    "nombre_exposed      6083\n",
    "nombre_recovered    1103\n",
    "Name: 22, dtype: int64"
   ]
  },
  {
   "cell_type": "markdown",
   "id": "996463b9",
   "metadata": {},
   "source": [
    "nombre_infected     4505\n",
    "nombre_sain         7456\n",
    "nombre_exposed      6582\n",
    "nombre_recovered    1457\n",
    "Name: 23, dtype: int64"
   ]
  },
  {
   "cell_type": "markdown",
   "id": "903f8acb",
   "metadata": {},
   "source": [
    "nombre_infected     5462\n",
    "nombre_sain         5805\n",
    "nombre_exposed      6837\n",
    "nombre_recovered    1896\n",
    "Name: 24, dtype: int64"
   ]
  },
  {
   "cell_type": "markdown",
   "id": "dcca18ff",
   "metadata": {},
   "source": [
    "nombre_infected     6333\n",
    "nombre_sain         4335\n",
    "nombre_exposed      6855\n",
    "nombre_recovered    2477\n",
    "Name: 25, dtype: int64"
   ]
  },
  {
   "cell_type": "markdown",
   "id": "d443a8c7",
   "metadata": {},
   "source": [
    "nombre_infected     7195\n",
    "nombre_sain         3149\n",
    "nombre_exposed      6501\n",
    "nombre_recovered    3155\n",
    "Name: 26, dtype: int64"
   ]
  },
  {
   "cell_type": "markdown",
   "id": "3c84c2ab",
   "metadata": {},
   "source": [
    "nombre_infected     7986\n",
    "nombre_sain         2218\n",
    "nombre_exposed      5902\n",
    "nombre_recovered    3894\n",
    "Name: 27, dtype: int64"
   ]
  },
  {
   "cell_type": "markdown",
   "id": "9861e1f3",
   "metadata": {},
   "source": [
    "nombre_infected     8563\n",
    "nombre_sain         1544\n",
    "nombre_exposed      5151\n",
    "nombre_recovered    4742\n",
    "Name: 28, dtype: int64"
   ]
  },
  {
   "cell_type": "markdown",
   "id": "374b232b",
   "metadata": {},
   "source": [
    "nombre_infected     8885\n",
    "nombre_sain         1020\n",
    "nombre_exposed      4383\n",
    "nombre_recovered    5712\n",
    "Name: 29, dtype: int64"
   ]
  },
  {
   "cell_type": "markdown",
   "id": "e7448a84",
   "metadata": {},
   "source": [
    "nombre_infected     8986\n",
    "nombre_sain          705\n",
    "nombre_exposed      3588\n",
    "nombre_recovered    6721\n",
    "Name: 30, dtype: int64"
   ]
  },
  {
   "cell_type": "markdown",
   "id": "2afccff2",
   "metadata": {},
   "source": [
    "nombre_infected     8855\n",
    "nombre_sain          494\n",
    "nombre_exposed      2887\n",
    "nombre_recovered    7764\n",
    "Name: 31, dtype: int64"
   ]
  },
  {
   "cell_type": "markdown",
   "id": "44b247e1",
   "metadata": {},
   "source": [
    "nombre_infected     8545\n",
    "nombre_sain          366\n",
    "nombre_exposed      2301\n",
    "nombre_recovered    8788\n",
    "Name: 32, dtype: int64"
   ]
  },
  {
   "cell_type": "markdown",
   "id": "e0ff1282",
   "metadata": {},
   "source": [
    "nombre_infected     8163\n",
    "nombre_sain          285\n",
    "nombre_exposed      1753\n",
    "nombre_recovered    9799\n",
    "Name: 33, dtype: int64"
   ]
  },
  {
   "cell_type": "markdown",
   "id": "352ba898",
   "metadata": {},
   "source": [
    "nombre_infected      7671\n",
    "nombre_sain           257\n",
    "nombre_exposed       1319\n",
    "nombre_recovered    10753\n",
    "Name: 34, dtype: int64"
   ]
  },
  {
   "cell_type": "markdown",
   "id": "17e76a40",
   "metadata": {},
   "source": [
    "nombre_infected      7075\n",
    "nombre_sain           232\n",
    "nombre_exposed       1040\n",
    "nombre_recovered    11653\n",
    "Name: 35, dtype: int64"
   ]
  },
  {
   "cell_type": "markdown",
   "id": "a1dbb6e2",
   "metadata": {},
   "source": [
    "nombre_infected      6482\n",
    "nombre_sain           218\n",
    "nombre_exposed        844\n",
    "nombre_recovered    12456\n",
    "Name: 36, dtype: int64"
   ]
  },
  {
   "cell_type": "markdown",
   "id": "5e66ef0d",
   "metadata": {},
   "source": [
    "nombre_infected      5910\n",
    "nombre_sain           201\n",
    "nombre_exposed        694\n",
    "nombre_recovered    13195\n",
    "Name: 37, dtype: int64"
   ]
  },
  {
   "cell_type": "markdown",
   "id": "4ed83600",
   "metadata": {},
   "source": [
    "nombre_infected      5325\n",
    "nombre_sain           223\n",
    "nombre_exposed        566\n",
    "nombre_recovered    13886\n",
    "Name: 38, dtype: int64"
   ]
  },
  {
   "cell_type": "markdown",
   "id": "de5ca1cb",
   "metadata": {},
   "source": [
    "nombre_infected      4853\n",
    "nombre_sain           230\n",
    "nombre_exposed        456\n",
    "nombre_recovered    14461\n",
    "Name: 39, dtype: int64"
   ]
  },
  {
   "cell_type": "markdown",
   "id": "4b0343fe",
   "metadata": {},
   "source": [
    "nombre_infected      4363\n",
    "nombre_sain           265\n",
    "nombre_exposed        380\n",
    "nombre_recovered    14992\n",
    "Name: 40, dtype: int64"
   ]
  },
  {
   "cell_type": "markdown",
   "id": "142b1232",
   "metadata": {},
   "source": [
    "nombre_infected      3879\n",
    "nombre_sain           285\n",
    "nombre_exposed        324\n",
    "nombre_recovered    15512\n",
    "Name: 41, dtype: int64"
   ]
  },
  {
   "cell_type": "markdown",
   "id": "8c37ac2b",
   "metadata": {},
   "source": [
    "nombre_infected      3456\n",
    "nombre_sain           299\n",
    "nombre_exposed        277\n",
    "nombre_recovered    15968\n",
    "Name: 42, dtype: int64"
   ]
  },
  {
   "cell_type": "markdown",
   "id": "d2040d5d",
   "metadata": {},
   "source": [
    "nombre_infected      3035\n",
    "nombre_sain           326\n",
    "nombre_exposed        236\n",
    "nombre_recovered    16403\n",
    "Name: 43, dtype: int64"
   ]
  },
  {
   "cell_type": "markdown",
   "id": "009eeac1",
   "metadata": {},
   "source": [
    "nombre_infected      2665\n",
    "nombre_sain           329\n",
    "nombre_exposed        249\n",
    "nombre_recovered    16757\n",
    "Name: 44, dtype: int64"
   ]
  },
  {
   "cell_type": "markdown",
   "id": "a4b046fb",
   "metadata": {},
   "source": [
    "nombre_infected      2350\n",
    "nombre_sain           368\n",
    "nombre_exposed        233\n",
    "nombre_recovered    17049\n",
    "Name: 45, dtype: int64"
   ]
  },
  {
   "cell_type": "markdown",
   "id": "06a63434",
   "metadata": {},
   "source": [
    "nombre_infected      2089\n",
    "nombre_sain           409\n",
    "nombre_exposed        201\n",
    "nombre_recovered    17301\n",
    "Name: 46, dtype: int64"
   ]
  },
  {
   "cell_type": "markdown",
   "id": "48225318",
   "metadata": {},
   "source": [
    "nombre_infected      1850\n",
    "nombre_sain           437\n",
    "nombre_exposed        197\n",
    "nombre_recovered    17516\n",
    "Name: 47, dtype: int64"
   ]
  },
  {
   "cell_type": "markdown",
   "id": "e998d068",
   "metadata": {},
   "source": [
    "nombre_infected      1652\n",
    "nombre_sain           478\n",
    "nombre_exposed        192\n",
    "nombre_recovered    17678\n",
    "Name: 48, dtype: int64"
   ]
  },
  {
   "cell_type": "markdown",
   "id": "4838542c",
   "metadata": {},
   "source": [
    "nombre_infected      1475\n",
    "nombre_sain           528\n",
    "nombre_exposed        190\n",
    "nombre_recovered    17807\n",
    "Name: 49, dtype: int64"
   ]
  },
  {
   "cell_type": "markdown",
   "id": "b8d087f3",
   "metadata": {},
   "source": [
    "nombre_infected      1320\n",
    "nombre_sain           563\n",
    "nombre_exposed        204\n",
    "nombre_recovered    17913\n",
    "Name: 50, dtype: int64"
   ]
  },
  {
   "cell_type": "markdown",
   "id": "2d5599eb",
   "metadata": {},
   "source": [
    "nombre_infected      1179\n",
    "nombre_sain           620\n",
    "nombre_exposed        191\n",
    "nombre_recovered    18010\n",
    "Name: 51, dtype: int64"
   ]
  },
  {
   "cell_type": "markdown",
   "id": "3ed26541",
   "metadata": {},
   "source": [
    "nombre_infected      1035\n",
    "nombre_sain           674\n",
    "nombre_exposed        193\n",
    "nombre_recovered    18098\n",
    "Name: 52, dtype: int64"
   ]
  },
  {
   "cell_type": "markdown",
   "id": "3a487601",
   "metadata": {},
   "source": [
    "nombre_infected       912\n",
    "nombre_sain           712\n",
    "nombre_exposed        182\n",
    "nombre_recovered    18194\n",
    "Name: 53, dtype: int64"
   ]
  },
  {
   "cell_type": "markdown",
   "id": "eafbe78c",
   "metadata": {},
   "source": [
    "nombre_infected       814\n",
    "nombre_sain           759\n",
    "nombre_exposed        179\n",
    "nombre_recovered    18248\n",
    "Name: 54, dtype: int64"
   ]
  },
  {
   "cell_type": "markdown",
   "id": "cd1f9aa0",
   "metadata": {},
   "source": [
    "nombre_infected       725\n",
    "nombre_sain           814\n",
    "nombre_exposed        173\n",
    "nombre_recovered    18288\n",
    "Name: 55, dtype: int64"
   ]
  },
  {
   "cell_type": "markdown",
   "id": "27620991",
   "metadata": {},
   "source": [
    "nombre_infected       639\n",
    "nombre_sain           880\n",
    "nombre_exposed        161\n",
    "nombre_recovered    18320\n",
    "Name: 56, dtype: int64"
   ]
  },
  {
   "cell_type": "markdown",
   "id": "f81dc72b",
   "metadata": {},
   "source": [
    "nombre_infected       583\n",
    "nombre_sain           903\n",
    "nombre_exposed        163\n",
    "nombre_recovered    18351\n",
    "Name: 57, dtype: int64"
   ]
  },
  {
   "cell_type": "markdown",
   "id": "5073167e",
   "metadata": {},
   "source": [
    "nombre_infected       535\n",
    "nombre_sain           967\n",
    "nombre_exposed        143\n",
    "nombre_recovered    18355\n",
    "Name: 58, dtype: int64"
   ]
  },
  {
   "cell_type": "markdown",
   "id": "b5fc4690",
   "metadata": {},
   "source": [
    "nombre_infected       517\n",
    "nombre_sain          1026\n",
    "nombre_exposed        121\n",
    "nombre_recovered    18336\n",
    "Name: 59, dtype: int64"
   ]
  },
  {
   "cell_type": "markdown",
   "id": "9ca25c0c",
   "metadata": {},
   "source": [
    "nombre_infected       460\n",
    "nombre_sain          1074\n",
    "nombre_exposed        126\n",
    "nombre_recovered    18340\n",
    "Name: 60, dtype: int64"
   ]
  },
  {
   "cell_type": "markdown",
   "id": "7bc11013",
   "metadata": {},
   "source": [
    "nombre_infected       425\n",
    "nombre_sain          1134\n",
    "nombre_exposed        127\n",
    "nombre_recovered    18314\n",
    "Name: 61, dtype: int64"
   ]
  },
  {
   "cell_type": "markdown",
   "id": "b8222cd2",
   "metadata": {},
   "source": [
    "nombre_infected       388\n",
    "nombre_sain          1204\n",
    "nombre_exposed        118\n",
    "nombre_recovered    18290\n",
    "Name: 62, dtype: int64"
   ]
  },
  {
   "cell_type": "markdown",
   "id": "2b3ed9f4",
   "metadata": {},
   "source": [
    "nombre_infected       362\n",
    "nombre_sain          1256\n",
    "nombre_exposed        110\n",
    "nombre_recovered    18272\n",
    "Name: 63, dtype: int64"
   ]
  },
  {
   "cell_type": "markdown",
   "id": "829d13c3",
   "metadata": {},
   "source": [
    "nombre_infected       347\n",
    "nombre_sain          1290\n",
    "nombre_exposed        118\n",
    "nombre_recovered    18245\n",
    "Name: 64, dtype: int64"
   ]
  },
  {
   "cell_type": "markdown",
   "id": "e03a46f5",
   "metadata": {},
   "source": [
    "nombre_infected       307\n",
    "nombre_sain          1312\n",
    "nombre_exposed        139\n",
    "nombre_recovered    18242\n",
    "Name: 65, dtype: int64"
   ]
  },
  {
   "cell_type": "markdown",
   "id": "855345c0",
   "metadata": {},
   "source": [
    "nombre_infected       297\n",
    "nombre_sain          1368\n",
    "nombre_exposed        132\n",
    "nombre_recovered    18203\n",
    "Name: 66, dtype: int64"
   ]
  },
  {
   "cell_type": "markdown",
   "id": "f50bf265",
   "metadata": {},
   "source": [
    "nombre_infected       274\n",
    "nombre_sain          1409\n",
    "nombre_exposed        124\n",
    "nombre_recovered    18193\n",
    "Name: 67, dtype: int64"
   ]
  },
  {
   "cell_type": "markdown",
   "id": "0edc16f3",
   "metadata": {},
   "source": [
    "nombre_infected       264\n",
    "nombre_sain          1432\n",
    "nombre_exposed        115\n",
    "nombre_recovered    18189\n",
    "Name: 68, dtype: int64"
   ]
  },
  {
   "cell_type": "markdown",
   "id": "cfd3ebbf",
   "metadata": {},
   "source": [
    "nombre_infected       244\n",
    "nombre_sain          1481\n",
    "nombre_exposed        106\n",
    "nombre_recovered    18169\n",
    "Name: 69, dtype: int64"
   ]
  },
  {
   "cell_type": "markdown",
   "id": "a5106140",
   "metadata": {},
   "source": [
    "nombre_infected       230\n",
    "nombre_sain          1508\n",
    "nombre_exposed         90\n",
    "nombre_recovered    18172\n",
    "Name: 70, dtype: int64"
   ]
  },
  {
   "cell_type": "markdown",
   "id": "eb150a3f",
   "metadata": {},
   "source": [
    "nombre_infected       221\n",
    "nombre_sain          1550\n",
    "nombre_exposed         74\n",
    "nombre_recovered    18155\n",
    "Name: 71, dtype: int64"
   ]
  },
  {
   "cell_type": "markdown",
   "id": "22e83499",
   "metadata": {},
   "source": [
    "nombre_infected       214\n",
    "nombre_sain          1566\n",
    "nombre_exposed         76\n",
    "nombre_recovered    18144\n",
    "Name: 72, dtype: int64"
   ]
  },
  {
   "cell_type": "markdown",
   "id": "5af37b98",
   "metadata": {},
   "source": [
    "nombre_infected       203\n",
    "nombre_sain          1606\n",
    "nombre_exposed         78\n",
    "nombre_recovered    18113\n",
    "Name: 73, dtype: int64"
   ]
  },
  {
   "cell_type": "markdown",
   "id": "79f806a2",
   "metadata": {},
   "source": [
    "nombre_infected       190\n",
    "nombre_sain          1637\n",
    "nombre_exposed         83\n",
    "nombre_recovered    18090\n",
    "Name: 74, dtype: int64"
   ]
  },
  {
   "cell_type": "markdown",
   "id": "1d47285f",
   "metadata": {},
   "source": [
    "nombre_infected       174\n",
    "nombre_sain          1670\n",
    "nombre_exposed         84\n",
    "nombre_recovered    18072\n",
    "Name: 75, dtype: int64"
   ]
  },
  {
   "cell_type": "markdown",
   "id": "4840bc32",
   "metadata": {},
   "source": [
    "nombre_infected       162\n",
    "nombre_sain          1704\n",
    "nombre_exposed         81\n",
    "nombre_recovered    18053\n",
    "Name: 76, dtype: int64"
   ]
  },
  {
   "cell_type": "markdown",
   "id": "55c82960",
   "metadata": {},
   "source": [
    "nombre_infected       167\n",
    "nombre_sain          1748\n",
    "nombre_exposed         87\n",
    "nombre_recovered    17998\n",
    "Name: 77, dtype: int64"
   ]
  },
  {
   "cell_type": "markdown",
   "id": "0afb037c",
   "metadata": {},
   "source": [
    "nombre_infected       160\n",
    "nombre_sain          1788\n",
    "nombre_exposed         81\n",
    "nombre_recovered    17971\n",
    "Name: 78, dtype: int64"
   ]
  },
  {
   "cell_type": "markdown",
   "id": "066e4e13",
   "metadata": {},
   "source": [
    "nombre_infected       159\n",
    "nombre_sain          1821\n",
    "nombre_exposed         72\n",
    "nombre_recovered    17948\n",
    "Name: 79, dtype: int64"
   ]
  },
  {
   "cell_type": "markdown",
   "id": "92cafc3e",
   "metadata": {},
   "source": [
    "nombre_infected       147\n",
    "nombre_sain          1869\n",
    "nombre_exposed         69\n",
    "nombre_recovered    17915\n",
    "Name: 80, dtype: int64"
   ]
  },
  {
   "cell_type": "markdown",
   "id": "27a252d8",
   "metadata": {},
   "source": [
    "nombre_infected       134\n",
    "nombre_sain          1906\n",
    "nombre_exposed         76\n",
    "nombre_recovered    17884\n",
    "Name: 81, dtype: int64"
   ]
  },
  {
   "cell_type": "markdown",
   "id": "8a47f045",
   "metadata": {},
   "source": [
    "nombre_infected       138\n",
    "nombre_sain          1940\n",
    "nombre_exposed         71\n",
    "nombre_recovered    17851\n",
    "Name: 82, dtype: int64"
   ]
  },
  {
   "cell_type": "markdown",
   "id": "784aebcb",
   "metadata": {},
   "source": [
    "nombre_infected       136\n",
    "nombre_sain          1976\n",
    "nombre_exposed         72\n",
    "nombre_recovered    17816\n",
    "Name: 83, dtype: int64"
   ]
  },
  {
   "cell_type": "markdown",
   "id": "dd850a93",
   "metadata": {},
   "source": [
    "nombre_infected       128\n",
    "nombre_sain          2031\n",
    "nombre_exposed         77\n",
    "nombre_recovered    17764\n",
    "Name: 84, dtype: int64"
   ]
  },
  {
   "cell_type": "markdown",
   "id": "e8962a1d",
   "metadata": {},
   "source": [
    "nombre_infected       122\n",
    "nombre_sain          2081\n",
    "nombre_exposed         73\n",
    "nombre_recovered    17724\n",
    "Name: 85, dtype: int64"
   ]
  },
  {
   "cell_type": "markdown",
   "id": "7863558c",
   "metadata": {},
   "source": [
    "nombre_infected       114\n",
    "nombre_sain          2123\n",
    "nombre_exposed         66\n",
    "nombre_recovered    17697\n",
    "Name: 86, dtype: int64"
   ]
  },
  {
   "cell_type": "markdown",
   "id": "7d6df03f",
   "metadata": {},
   "source": [
    "nombre_infected       116\n",
    "nombre_sain          2162\n",
    "nombre_exposed         65\n",
    "nombre_recovered    17657\n",
    "Name: 87, dtype: int64"
   ]
  },
  {
   "cell_type": "markdown",
   "id": "cfe4d306",
   "metadata": {},
   "source": [
    "nombre_infected       110\n",
    "nombre_sain          2219\n",
    "nombre_exposed         65\n",
    "nombre_recovered    17606\n",
    "Name: 88, dtype: int64"
   ]
  },
  {
   "cell_type": "markdown",
   "id": "a19d39f3",
   "metadata": {},
   "source": [
    "nombre_infected       106\n",
    "nombre_sain          2263\n",
    "nombre_exposed         69\n",
    "nombre_recovered    17562\n",
    "Name: 89, dtype: int64"
   ]
  },
  {
   "cell_type": "markdown",
   "id": "0c8d52f4",
   "metadata": {},
   "source": [
    "nombre_infected       103\n",
    "nombre_sain          2311\n",
    "nombre_exposed         75\n",
    "nombre_recovered    17511\n",
    "Name: 90, dtype: int64"
   ]
  },
  {
   "cell_type": "markdown",
   "id": "b48fb176",
   "metadata": {},
   "source": [
    "nombre_infected        92\n",
    "nombre_sain          2362\n",
    "nombre_exposed         85\n",
    "nombre_recovered    17461\n",
    "Name: 91, dtype: int64"
   ]
  },
  {
   "cell_type": "markdown",
   "id": "4e5c8893",
   "metadata": {},
   "source": [
    "nombre_infected        89\n",
    "nombre_sain          2411\n",
    "nombre_exposed         86\n",
    "nombre_recovered    17414\n",
    "Name: 92, dtype: int64"
   ]
  },
  {
   "cell_type": "markdown",
   "id": "055ce4b3",
   "metadata": {},
   "source": [
    "nombre_infected        98\n",
    "nombre_sain          2473\n",
    "nombre_exposed         77\n",
    "nombre_recovered    17352\n",
    "Name: 93, dtype: int64"
   ]
  },
  {
   "cell_type": "markdown",
   "id": "fafb3797",
   "metadata": {},
   "source": [
    "nombre_infected       105\n",
    "nombre_sain          2530\n",
    "nombre_exposed         70\n",
    "nombre_recovered    17295\n",
    "Name: 94, dtype: int64"
   ]
  },
  {
   "cell_type": "markdown",
   "id": "9f49e527",
   "metadata": {},
   "source": [
    "nombre_infected       107\n",
    "nombre_sain          2588\n",
    "nombre_exposed         60\n",
    "nombre_recovered    17245\n",
    "Name: 95, dtype: int64"
   ]
  },
  {
   "cell_type": "markdown",
   "id": "9e980d6c",
   "metadata": {},
   "source": [
    "nombre_infected       106\n",
    "nombre_sain          2623\n",
    "nombre_exposed         70\n",
    "nombre_recovered    17201\n",
    "Name: 96, dtype: int64"
   ]
  },
  {
   "cell_type": "markdown",
   "id": "c8356b4e",
   "metadata": {},
   "source": [
    "nombre_infected       103\n",
    "nombre_sain          2695\n",
    "nombre_exposed         79\n",
    "nombre_recovered    17123\n",
    "Name: 97, dtype: int64"
   ]
  },
  {
   "cell_type": "markdown",
   "id": "84e3b0ce",
   "metadata": {},
   "source": [
    "nombre_infected       110\n",
    "nombre_sain          2741\n",
    "nombre_exposed         77\n",
    "nombre_recovered    17072\n",
    "Name: 98, dtype: int64"
   ]
  },
  {
   "cell_type": "markdown",
   "id": "34794312",
   "metadata": {},
   "source": [
    "nombre_infected       118\n",
    "nombre_sain          2781\n",
    "nombre_exposed         74\n",
    "nombre_recovered    17027\n",
    "Name: 99, dtype: int64"
   ]
  },
  {
   "cell_type": "markdown",
   "id": "fe310930",
   "metadata": {},
   "source": [
    "nombre_infected       116\n",
    "nombre_sain          2831\n",
    "nombre_exposed         78\n",
    "nombre_recovered    16975\n",
    "Name: 100, dtype: int64"
   ]
  },
  {
   "cell_type": "markdown",
   "id": "3ead97e6",
   "metadata": {},
   "source": [
    "nombre_infected       114\n",
    "nombre_sain          2866\n",
    "nombre_exposed         97\n",
    "nombre_recovered    16923\n",
    "Name: 101, dtype: int64"
   ]
  },
  {
   "cell_type": "markdown",
   "id": "cf6eda60",
   "metadata": {},
   "source": [
    "nombre_infected       114\n",
    "nombre_sain          2906\n",
    "nombre_exposed         97\n",
    "nombre_recovered    16883\n",
    "Name: 102, dtype: int64"
   ]
  },
  {
   "cell_type": "markdown",
   "id": "9d09d401",
   "metadata": {},
   "source": [
    "nombre_infected       123\n",
    "nombre_sain          2935\n",
    "nombre_exposed         90\n",
    "nombre_recovered    16852\n",
    "Name: 103, dtype: int64"
   ]
  },
  {
   "cell_type": "markdown",
   "id": "b7374600",
   "metadata": {},
   "source": [
    "nombre_infected       129\n",
    "nombre_sain          2966\n",
    "nombre_exposed         95\n",
    "nombre_recovered    16810\n",
    "Name: 104, dtype: int64"
   ]
  },
  {
   "cell_type": "markdown",
   "id": "2c5352b9",
   "metadata": {},
   "source": [
    "nombre_infected       133\n",
    "nombre_sain          3005\n",
    "nombre_exposed         99\n",
    "nombre_recovered    16763\n",
    "Name: 105, dtype: int64"
   ]
  },
  {
   "cell_type": "markdown",
   "id": "29aa337f",
   "metadata": {},
   "source": [
    "nombre_infected       141\n",
    "nombre_sain          3026\n",
    "nombre_exposed        104\n",
    "nombre_recovered    16729\n",
    "Name: 106, dtype: int64"
   ]
  },
  {
   "cell_type": "markdown",
   "id": "07e585d0",
   "metadata": {},
   "source": [
    "nombre_infected       145\n",
    "nombre_sain          3068\n",
    "nombre_exposed        102\n",
    "nombre_recovered    16685\n",
    "Name: 107, dtype: int64"
   ]
  },
  {
   "cell_type": "markdown",
   "id": "35ea24f9",
   "metadata": {},
   "source": [
    "nombre_infected       141\n",
    "nombre_sain          3101\n",
    "nombre_exposed        105\n",
    "nombre_recovered    16653\n",
    "Name: 108, dtype: int64"
   ]
  },
  {
   "cell_type": "markdown",
   "id": "2d403864",
   "metadata": {},
   "source": [
    "nombre_infected       147\n",
    "nombre_sain          3104\n",
    "nombre_exposed        121\n",
    "nombre_recovered    16628\n",
    "Name: 109, dtype: int64"
   ]
  },
  {
   "cell_type": "markdown",
   "id": "163595b5",
   "metadata": {},
   "source": [
    "nombre_infected       161\n",
    "nombre_sain          3124\n",
    "nombre_exposed        123\n",
    "nombre_recovered    16592\n",
    "Name: 110, dtype: int64"
   ]
  },
  {
   "cell_type": "markdown",
   "id": "287bf0e3",
   "metadata": {},
   "source": [
    "nombre_infected       171\n",
    "nombre_sain          3140\n",
    "nombre_exposed        131\n",
    "nombre_recovered    16558\n",
    "Name: 111, dtype: int64"
   ]
  },
  {
   "cell_type": "markdown",
   "id": "5ba11e51",
   "metadata": {},
   "source": [
    "nombre_infected       176\n",
    "nombre_sain          3141\n",
    "nombre_exposed        139\n",
    "nombre_recovered    16544\n",
    "Name: 112, dtype: int64"
   ]
  },
  {
   "cell_type": "markdown",
   "id": "d85747fb",
   "metadata": {},
   "source": [
    "nombre_infected       180\n",
    "nombre_sain          3168\n",
    "nombre_exposed        132\n",
    "nombre_recovered    16520\n",
    "Name: 113, dtype: int64"
   ]
  },
  {
   "cell_type": "markdown",
   "id": "be3864c4",
   "metadata": {},
   "source": [
    "nombre_infected       181\n",
    "nombre_sain          3163\n",
    "nombre_exposed        143\n",
    "nombre_recovered    16513\n",
    "Name: 114, dtype: int64"
   ]
  },
  {
   "cell_type": "markdown",
   "id": "dd3020ea",
   "metadata": {},
   "source": [
    "nombre_infected       170\n",
    "nombre_sain          3165\n",
    "nombre_exposed        163\n",
    "nombre_recovered    16502\n",
    "Name: 115, dtype: int64"
   ]
  },
  {
   "cell_type": "markdown",
   "id": "d9395e67",
   "metadata": {},
   "source": [
    "nombre_infected       181\n",
    "nombre_sain          3177\n",
    "nombre_exposed        151\n",
    "nombre_recovered    16491\n",
    "Name: 116, dtype: int64"
   ]
  },
  {
   "cell_type": "markdown",
   "id": "94d842f5",
   "metadata": {},
   "source": [
    "nombre_infected       198\n",
    "nombre_sain          3187\n",
    "nombre_exposed        153\n",
    "nombre_recovered    16462\n",
    "Name: 117, dtype: int64"
   ]
  },
  {
   "cell_type": "markdown",
   "id": "d21cdcb2",
   "metadata": {},
   "source": [
    "nombre_infected       204\n",
    "nombre_sain          3193\n",
    "nombre_exposed        159\n",
    "nombre_recovered    16444\n",
    "Name: 118, dtype: int64"
   ]
  },
  {
   "cell_type": "markdown",
   "id": "c680c362",
   "metadata": {},
   "source": [
    "nombre_infected       207\n",
    "nombre_sain          3196\n",
    "nombre_exposed        165\n",
    "nombre_recovered    16432\n",
    "Name: 119, dtype: int64"
   ]
  },
  {
   "cell_type": "markdown",
   "id": "70761faf",
   "metadata": {},
   "source": [
    "nombre_infected       214\n",
    "nombre_sain          3206\n",
    "nombre_exposed        163\n",
    "nombre_recovered    16417\n",
    "Name: 120, dtype: int64"
   ]
  },
  {
   "cell_type": "markdown",
   "id": "95f1ff47",
   "metadata": {},
   "source": [
    "nombre_infected       224\n",
    "nombre_sain          3209\n",
    "nombre_exposed        174\n",
    "nombre_recovered    16393\n",
    "Name: 121, dtype: int64"
   ]
  },
  {
   "cell_type": "markdown",
   "id": "a3984261",
   "metadata": {},
   "source": [
    "nombre_infected       226\n",
    "nombre_sain          3229\n",
    "nombre_exposed        178\n",
    "nombre_recovered    16367\n",
    "Name: 122, dtype: int64"
   ]
  },
  {
   "cell_type": "markdown",
   "id": "a60af105",
   "metadata": {},
   "source": [
    "nombre_infected       236\n",
    "nombre_sain          3229\n",
    "nombre_exposed        192\n",
    "nombre_recovered    16343\n",
    "Name: 123, dtype: int64"
   ]
  },
  {
   "cell_type": "markdown",
   "id": "f0ec662e",
   "metadata": {},
   "source": [
    "nombre_infected       248\n",
    "nombre_sain          3247\n",
    "nombre_exposed        185\n",
    "nombre_recovered    16320\n",
    "Name: 124, dtype: int64"
   ]
  },
  {
   "cell_type": "markdown",
   "id": "b793fb50",
   "metadata": {},
   "source": [
    "nombre_infected       262\n",
    "nombre_sain          3267\n",
    "nombre_exposed        192\n",
    "nombre_recovered    16279\n",
    "Name: 125, dtype: int64"
   ]
  },
  {
   "cell_type": "markdown",
   "id": "1b7b08ea",
   "metadata": {},
   "source": [
    "nombre_infected       282\n",
    "nombre_sain          3263\n",
    "nombre_exposed        208\n",
    "nombre_recovered    16247\n",
    "Name: 126, dtype: int64"
   ]
  },
  {
   "cell_type": "markdown",
   "id": "28dae4db",
   "metadata": {},
   "source": [
    "nombre_infected       284\n",
    "nombre_sain          3260\n",
    "nombre_exposed        230\n",
    "nombre_recovered    16226\n",
    "Name: 127, dtype: int64"
   ]
  },
  {
   "cell_type": "markdown",
   "id": "2cd83590",
   "metadata": {},
   "source": [
    "nombre_infected       295\n",
    "nombre_sain          3272\n",
    "nombre_exposed        243\n",
    "nombre_recovered    16190\n",
    "Name: 128, dtype: int64"
   ]
  },
  {
   "cell_type": "markdown",
   "id": "cde33848",
   "metadata": {},
   "source": [
    "nombre_infected       303\n",
    "nombre_sain          3251\n",
    "nombre_exposed        266\n",
    "nombre_recovered    16180\n",
    "Name: 129, dtype: int64"
   ]
  },
  {
   "cell_type": "markdown",
   "id": "d5ae8009",
   "metadata": {},
   "source": [
    "nombre_infected       318\n",
    "nombre_sain          3252\n",
    "nombre_exposed        284\n",
    "nombre_recovered    16146\n",
    "Name: 130, dtype: int64"
   ]
  },
  {
   "cell_type": "markdown",
   "id": "0f79edc1",
   "metadata": {},
   "source": [
    "nombre_infected       327\n",
    "nombre_sain          3268\n",
    "nombre_exposed        287\n",
    "nombre_recovered    16118\n",
    "Name: 131, dtype: int64"
   ]
  },
  {
   "cell_type": "markdown",
   "id": "4787bbdf",
   "metadata": {},
   "source": [
    "nombre_infected       348\n",
    "nombre_sain          3254\n",
    "nombre_exposed        289\n",
    "nombre_recovered    16109\n",
    "Name: 132, dtype: int64"
   ]
  },
  {
   "cell_type": "markdown",
   "id": "c5c8cbac",
   "metadata": {},
   "source": [
    "nombre_infected       366\n",
    "nombre_sain          3251\n",
    "nombre_exposed        297\n",
    "nombre_recovered    16086\n",
    "Name: 133, dtype: int64"
   ]
  },
  {
   "cell_type": "markdown",
   "id": "997af1b8",
   "metadata": {},
   "source": [
    "nombre_infected       378\n",
    "nombre_sain          3227\n",
    "nombre_exposed        315\n",
    "nombre_recovered    16080\n",
    "Name: 134, dtype: int64"
   ]
  },
  {
   "cell_type": "markdown",
   "id": "fb8dc200",
   "metadata": {},
   "source": [
    "nombre_infected       400\n",
    "nombre_sain          3198\n",
    "nombre_exposed        325\n",
    "nombre_recovered    16077\n",
    "Name: 135, dtype: int64"
   ]
  },
  {
   "cell_type": "markdown",
   "id": "5b476568",
   "metadata": {},
   "source": [
    "nombre_infected       413\n",
    "nombre_sain          3181\n",
    "nombre_exposed        332\n",
    "nombre_recovered    16074\n",
    "Name: 136, dtype: int64"
   ]
  },
  {
   "cell_type": "markdown",
   "id": "08155dff",
   "metadata": {},
   "source": [
    "nombre_infected       422\n",
    "nombre_sain          3152\n",
    "nombre_exposed        358\n",
    "nombre_recovered    16068\n",
    "Name: 137, dtype: int64"
   ]
  },
  {
   "cell_type": "markdown",
   "id": "951e61e2",
   "metadata": {},
   "source": [
    "nombre_infected       470\n",
    "nombre_sain          3100\n",
    "nombre_exposed        364\n",
    "nombre_recovered    16066\n",
    "Name: 138, dtype: int64"
   ]
  },
  {
   "cell_type": "markdown",
   "id": "fb5f448c",
   "metadata": {},
   "source": [
    "nombre_infected       485\n",
    "nombre_sain          3056\n",
    "nombre_exposed        399\n",
    "nombre_recovered    16060\n",
    "Name: 139, dtype: int64"
   ]
  },
  {
   "cell_type": "markdown",
   "id": "1266df80",
   "metadata": {},
   "source": [
    "nombre_infected       516\n",
    "nombre_sain          2996\n",
    "nombre_exposed        408\n",
    "nombre_recovered    16080\n",
    "Name: 140, dtype: int64"
   ]
  },
  {
   "cell_type": "markdown",
   "id": "0f3b951c",
   "metadata": {},
   "source": [
    "nombre_infected       530\n",
    "nombre_sain          2920\n",
    "nombre_exposed        431\n",
    "nombre_recovered    16119\n",
    "Name: 141, dtype: int64"
   ]
  },
  {
   "cell_type": "markdown",
   "id": "46584d0f",
   "metadata": {},
   "source": [
    "nombre_infected       568\n",
    "nombre_sain          2877\n",
    "nombre_exposed        412\n",
    "nombre_recovered    16143\n",
    "Name: 142, dtype: int64"
   ]
  },
  {
   "cell_type": "markdown",
   "id": "0a7b1bc1",
   "metadata": {},
   "source": [
    "nombre_infected       585\n",
    "nombre_sain          2840\n",
    "nombre_exposed        403\n",
    "nombre_recovered    16172\n",
    "Name: 143, dtype: int64"
   ]
  },
  {
   "cell_type": "markdown",
   "id": "05538f4e",
   "metadata": {},
   "source": [
    "nombre_infected       591\n",
    "nombre_sain          2772\n",
    "nombre_exposed        421\n",
    "nombre_recovered    16216\n",
    "Name: 144, dtype: int64"
   ]
  },
  {
   "cell_type": "markdown",
   "id": "65d3a238",
   "metadata": {},
   "source": [
    "nombre_infected       599\n",
    "nombre_sain          2738\n",
    "nombre_exposed        431\n",
    "nombre_recovered    16232\n",
    "Name: 145, dtype: int64"
   ]
  },
  {
   "cell_type": "markdown",
   "id": "0a4c7923",
   "metadata": {},
   "source": [
    "nombre_infected       603\n",
    "nombre_sain          2681\n",
    "nombre_exposed        455\n",
    "nombre_recovered    16261\n",
    "Name: 146, dtype: int64"
   ]
  },
  {
   "cell_type": "markdown",
   "id": "77807093",
   "metadata": {},
   "source": [
    "nombre_infected       625\n",
    "nombre_sain          2679\n",
    "nombre_exposed        438\n",
    "nombre_recovered    16258\n",
    "Name: 147, dtype: int64"
   ]
  },
  {
   "cell_type": "markdown",
   "id": "33206173",
   "metadata": {},
   "source": [
    "nombre_infected       653\n",
    "nombre_sain          2691\n",
    "nombre_exposed        401\n",
    "nombre_recovered    16255\n",
    "Name: 148, dtype: int64"
   ]
  },
  {
   "cell_type": "markdown",
   "id": "056992d3",
   "metadata": {},
   "source": [
    "nombre_infected       654\n",
    "nombre_sain          2678\n",
    "nombre_exposed        411\n",
    "nombre_recovered    16257\n",
    "Name: 149, dtype: int64"
   ]
  },
  {
   "cell_type": "markdown",
   "id": "71ff75f8",
   "metadata": {},
   "source": [
    "nombre_infected       670\n",
    "nombre_sain          2685\n",
    "nombre_exposed        402\n",
    "nombre_recovered    16243\n",
    "Name: 150, dtype: int64"
   ]
  },
  {
   "cell_type": "markdown",
   "id": "a8fa45b1",
   "metadata": {},
   "source": [
    "nombre_infected       669\n",
    "nombre_sain          2690\n",
    "nombre_exposed        412\n",
    "nombre_recovered    16229\n",
    "Name: 151, dtype: int64"
   ]
  },
  {
   "cell_type": "markdown",
   "id": "4004a7f2",
   "metadata": {},
   "source": [
    "nombre_infected       674\n",
    "nombre_sain          2683\n",
    "nombre_exposed        438\n",
    "nombre_recovered    16205\n",
    "Name: 152, dtype: int64"
   ]
  },
  {
   "cell_type": "markdown",
   "id": "35682aba",
   "metadata": {},
   "source": [
    "nombre_infected       665\n",
    "nombre_sain          2663\n",
    "nombre_exposed        455\n",
    "nombre_recovered    16217\n",
    "Name: 153, dtype: int64"
   ]
  },
  {
   "cell_type": "markdown",
   "id": "b664dd24",
   "metadata": {},
   "source": [
    "nombre_infected       674\n",
    "nombre_sain          2618\n",
    "nombre_exposed        489\n",
    "nombre_recovered    16219\n",
    "Name: 154, dtype: int64"
   ]
  },
  {
   "cell_type": "markdown",
   "id": "9da134bb",
   "metadata": {},
   "source": [
    "nombre_infected       680\n",
    "nombre_sain          2605\n",
    "nombre_exposed        475\n",
    "nombre_recovered    16240\n",
    "Name: 155, dtype: int64"
   ]
  },
  {
   "cell_type": "markdown",
   "id": "86bbaf57",
   "metadata": {},
   "source": [
    "nombre_infected       717\n",
    "nombre_sain          2572\n",
    "nombre_exposed        473\n",
    "nombre_recovered    16238\n",
    "Name: 156, dtype: int64"
   ]
  },
  {
   "cell_type": "markdown",
   "id": "9a614e05",
   "metadata": {},
   "source": [
    "nombre_infected       724\n",
    "nombre_sain          2518\n",
    "nombre_exposed        478\n",
    "nombre_recovered    16280\n",
    "Name: 157, dtype: int64"
   ]
  },
  {
   "cell_type": "markdown",
   "id": "e9c33362",
   "metadata": {},
   "source": [
    "nombre_infected       721\n",
    "nombre_sain          2487\n",
    "nombre_exposed        479\n",
    "nombre_recovered    16313\n",
    "Name: 158, dtype: int64"
   ]
  },
  {
   "cell_type": "markdown",
   "id": "5451639a",
   "metadata": {},
   "source": [
    "nombre_infected       730\n",
    "nombre_sain          2462\n",
    "nombre_exposed        470\n",
    "nombre_recovered    16338\n",
    "Name: 159, dtype: int64"
   ]
  },
  {
   "cell_type": "markdown",
   "id": "706d04cd",
   "metadata": {},
   "source": [
    "nombre_infected       745\n",
    "nombre_sain          2415\n",
    "nombre_exposed        471\n",
    "nombre_recovered    16369\n",
    "Name: 160, dtype: int64"
   ]
  },
  {
   "cell_type": "markdown",
   "id": "4cd851eb",
   "metadata": {},
   "source": [
    "nombre_infected       759\n",
    "nombre_sain          2369\n",
    "nombre_exposed        476\n",
    "nombre_recovered    16396\n",
    "Name: 161, dtype: int64"
   ]
  },
  {
   "cell_type": "markdown",
   "id": "9cb4dfbc",
   "metadata": {},
   "source": [
    "nombre_infected       765\n",
    "nombre_sain          2306\n",
    "nombre_exposed        498\n",
    "nombre_recovered    16431\n",
    "Name: 162, dtype: int64"
   ]
  },
  {
   "cell_type": "markdown",
   "id": "b40610d2",
   "metadata": {},
   "source": [
    "nombre_infected       780\n",
    "nombre_sain          2269\n",
    "nombre_exposed        490\n",
    "nombre_recovered    16461\n",
    "Name: 163, dtype: int64"
   ]
  },
  {
   "cell_type": "markdown",
   "id": "d3ef0eb3",
   "metadata": {},
   "source": [
    "nombre_infected       802\n",
    "nombre_sain          2230\n",
    "nombre_exposed        474\n",
    "nombre_recovered    16494\n",
    "Name: 164, dtype: int64"
   ]
  },
  {
   "cell_type": "markdown",
   "id": "26c20c76",
   "metadata": {},
   "source": [
    "nombre_infected       800\n",
    "nombre_sain          2191\n",
    "nombre_exposed        461\n",
    "nombre_recovered    16548\n",
    "Name: 165, dtype: int64"
   ]
  },
  {
   "cell_type": "markdown",
   "id": "31d131ef",
   "metadata": {},
   "source": [
    "nombre_infected       797\n",
    "nombre_sain          2188\n",
    "nombre_exposed        444\n",
    "nombre_recovered    16571\n",
    "Name: 166, dtype: int64"
   ]
  },
  {
   "cell_type": "markdown",
   "id": "3fc06898",
   "metadata": {},
   "source": [
    "nombre_infected       786\n",
    "nombre_sain          2153\n",
    "nombre_exposed        452\n",
    "nombre_recovered    16609\n",
    "Name: 167, dtype: int64"
   ]
  },
  {
   "cell_type": "markdown",
   "id": "7c98a430",
   "metadata": {},
   "source": [
    "nombre_infected       786\n",
    "nombre_sain          2132\n",
    "nombre_exposed        456\n",
    "nombre_recovered    16626\n",
    "Name: 168, dtype: int64"
   ]
  },
  {
   "cell_type": "markdown",
   "id": "dddef43e",
   "metadata": {},
   "source": [
    "nombre_infected       783\n",
    "nombre_sain          2090\n",
    "nombre_exposed        456\n",
    "nombre_recovered    16671\n",
    "Name: 169, dtype: int64"
   ]
  },
  {
   "cell_type": "markdown",
   "id": "50e3460c",
   "metadata": {},
   "source": [
    "nombre_infected       779\n",
    "nombre_sain          2049\n",
    "nombre_exposed        461\n",
    "nombre_recovered    16711\n",
    "Name: 170, dtype: int64"
   ]
  },
  {
   "cell_type": "markdown",
   "id": "3f8e9594",
   "metadata": {},
   "source": [
    "nombre_infected       790\n",
    "nombre_sain          2033\n",
    "nombre_exposed        437\n",
    "nombre_recovered    16740\n",
    "Name: 171, dtype: int64"
   ]
  },
  {
   "cell_type": "markdown",
   "id": "06bd62de",
   "metadata": {},
   "source": [
    "nombre_infected       780\n",
    "nombre_sain          2015\n",
    "nombre_exposed        447\n",
    "nombre_recovered    16758\n",
    "Name: 172, dtype: int64"
   ]
  },
  {
   "cell_type": "markdown",
   "id": "ee660096",
   "metadata": {},
   "source": [
    "nombre_infected       787\n",
    "nombre_sain          2009\n",
    "nombre_exposed        426\n",
    "nombre_recovered    16778\n",
    "Name: 173, dtype: int64"
   ]
  },
  {
   "cell_type": "markdown",
   "id": "365c7357",
   "metadata": {},
   "source": [
    "nombre_infected       792\n",
    "nombre_sain          2026\n",
    "nombre_exposed        418\n",
    "nombre_recovered    16764\n",
    "Name: 174, dtype: int64"
   ]
  },
  {
   "cell_type": "markdown",
   "id": "6648f653",
   "metadata": {},
   "source": [
    "nombre_infected       782\n",
    "nombre_sain          2011\n",
    "nombre_exposed        420\n",
    "nombre_recovered    16787\n",
    "Name: 175, dtype: int64"
   ]
  },
  {
   "cell_type": "markdown",
   "id": "efe9de4d",
   "metadata": {},
   "source": [
    "nombre_infected       756\n",
    "nombre_sain          2014\n",
    "nombre_exposed        436\n",
    "nombre_recovered    16794\n",
    "Name: 176, dtype: int64"
   ]
  },
  {
   "cell_type": "markdown",
   "id": "07502bc3",
   "metadata": {},
   "source": [
    "nombre_infected       745\n",
    "nombre_sain          2005\n",
    "nombre_exposed        450\n",
    "nombre_recovered    16800\n",
    "Name: 177, dtype: int64"
   ]
  },
  {
   "cell_type": "markdown",
   "id": "832f169a",
   "metadata": {},
   "source": [
    "nombre_infected       734\n",
    "nombre_sain          2016\n",
    "nombre_exposed        449\n",
    "nombre_recovered    16801\n",
    "Name: 178, dtype: int64"
   ]
  },
  {
   "cell_type": "markdown",
   "id": "324a9cde",
   "metadata": {},
   "source": [
    "nombre_infected       720\n",
    "nombre_sain          2023\n",
    "nombre_exposed        430\n",
    "nombre_recovered    16827\n",
    "Name: 179, dtype: int64"
   ]
  },
  {
   "cell_type": "markdown",
   "id": "f9c79d23",
   "metadata": {},
   "source": [
    "nombre_infected       706\n",
    "nombre_sain          2045\n",
    "nombre_exposed        408\n",
    "nombre_recovered    16841\n",
    "Name: 180, dtype: int64"
   ]
  },
  {
   "cell_type": "markdown",
   "id": "5075f9bb",
   "metadata": {},
   "source": [
    "nombre_infected       684\n",
    "nombre_sain          2082\n",
    "nombre_exposed        393\n",
    "nombre_recovered    16841\n",
    "Name: 181, dtype: int64"
   ]
  },
  {
   "cell_type": "markdown",
   "id": "4a4446c4",
   "metadata": {},
   "source": [
    "nombre_infected       684\n",
    "nombre_sain          2092\n",
    "nombre_exposed        383\n",
    "nombre_recovered    16841\n",
    "Name: 182, dtype: int64"
   ]
  },
  {
   "cell_type": "markdown",
   "id": "51fbed13",
   "metadata": {},
   "source": [
    "nombre_infected       687\n",
    "nombre_sain          2124\n",
    "nombre_exposed        362\n",
    "nombre_recovered    16827\n",
    "Name: 183, dtype: int64"
   ]
  },
  {
   "cell_type": "markdown",
   "id": "b88898da",
   "metadata": {},
   "source": [
    "nombre_infected       685\n",
    "nombre_sain          2156\n",
    "nombre_exposed        362\n",
    "nombre_recovered    16797\n",
    "Name: 184, dtype: int64"
   ]
  },
  {
   "cell_type": "markdown",
   "id": "f760de30",
   "metadata": {},
   "source": [
    "nombre_infected       661\n",
    "nombre_sain          2151\n",
    "nombre_exposed        386\n",
    "nombre_recovered    16802\n",
    "Name: 185, dtype: int64"
   ]
  },
  {
   "cell_type": "markdown",
   "id": "fa857628",
   "metadata": {},
   "source": [
    "nombre_infected       657\n",
    "nombre_sain          2169\n",
    "nombre_exposed        390\n",
    "nombre_recovered    16784\n",
    "Name: 186, dtype: int64"
   ]
  },
  {
   "cell_type": "markdown",
   "id": "1d76c416",
   "metadata": {},
   "source": [
    "nombre_infected       646\n",
    "nombre_sain          2186\n",
    "nombre_exposed        379\n",
    "nombre_recovered    16789\n",
    "Name: 187, dtype: int64"
   ]
  },
  {
   "cell_type": "markdown",
   "id": "1f29648d",
   "metadata": {},
   "source": [
    "nombre_infected       632\n",
    "nombre_sain          2196\n",
    "nombre_exposed        393\n",
    "nombre_recovered    16779\n",
    "Name: 188, dtype: int64"
   ]
  },
  {
   "cell_type": "markdown",
   "id": "edd5a959",
   "metadata": {},
   "source": [
    "nombre_infected       648\n",
    "nombre_sain          2220\n",
    "nombre_exposed        387\n",
    "nombre_recovered    16745\n",
    "Name: 189, dtype: int64"
   ]
  },
  {
   "cell_type": "markdown",
   "id": "26e3778e",
   "metadata": {},
   "source": [
    "nombre_infected       663\n",
    "nombre_sain          2230\n",
    "nombre_exposed        385\n",
    "nombre_recovered    16722\n",
    "Name: 190, dtype: int64"
   ]
  },
  {
   "cell_type": "markdown",
   "id": "90c6c209",
   "metadata": {},
   "source": [
    "nombre_infected       653\n",
    "nombre_sain          2236\n",
    "nombre_exposed        397\n",
    "nombre_recovered    16714\n",
    "Name: 191, dtype: int64"
   ]
  },
  {
   "cell_type": "markdown",
   "id": "1b011ef1",
   "metadata": {},
   "source": [
    "nombre_infected       647\n",
    "nombre_sain          2266\n",
    "nombre_exposed        382\n",
    "nombre_recovered    16705\n",
    "Name: 192, dtype: int64"
   ]
  },
  {
   "cell_type": "markdown",
   "id": "7cf922d6",
   "metadata": {},
   "source": [
    "nombre_infected       640\n",
    "nombre_sain          2273\n",
    "nombre_exposed        402\n",
    "nombre_recovered    16685\n",
    "Name: 193, dtype: int64"
   ]
  },
  {
   "cell_type": "markdown",
   "id": "cbe515d7",
   "metadata": {},
   "source": [
    "nombre_infected       616\n",
    "nombre_sain          2291\n",
    "nombre_exposed        396\n",
    "nombre_recovered    16697\n",
    "Name: 194, dtype: int64"
   ]
  },
  {
   "cell_type": "markdown",
   "id": "d36a5333",
   "metadata": {},
   "source": [
    "nombre_infected       625\n",
    "nombre_sain          2283\n",
    "nombre_exposed        397\n",
    "nombre_recovered    16695\n",
    "Name: 195, dtype: int64"
   ]
  },
  {
   "cell_type": "markdown",
   "id": "a0cd2852",
   "metadata": {},
   "source": [
    "nombre_infected       632\n",
    "nombre_sain          2284\n",
    "nombre_exposed        394\n",
    "nombre_recovered    16690\n",
    "Name: 196, dtype: int64"
   ]
  },
  {
   "cell_type": "markdown",
   "id": "6ad5d119",
   "metadata": {},
   "source": [
    "nombre_infected       660\n",
    "nombre_sain          2328\n",
    "nombre_exposed        354\n",
    "nombre_recovered    16658\n",
    "Name: 197, dtype: int64"
   ]
  },
  {
   "cell_type": "markdown",
   "id": "cba1d2ed",
   "metadata": {},
   "source": [
    "nombre_infected       638\n",
    "nombre_sain          2327\n",
    "nombre_exposed        363\n",
    "nombre_recovered    16672\n",
    "Name: 198, dtype: int64"
   ]
  },
  {
   "cell_type": "markdown",
   "id": "812a0051",
   "metadata": {},
   "source": [
    "nombre_infected       637\n",
    "nombre_sain          2335\n",
    "nombre_exposed        365\n",
    "nombre_recovered    16663\n",
    "Name: 199, dtype: int64"
   ]
  },
  {
   "cell_type": "markdown",
   "id": "56b5c500",
   "metadata": {},
   "source": [
    "nombre_infected       646\n",
    "nombre_sain          2349\n",
    "nombre_exposed        376\n",
    "nombre_recovered    16629\n",
    "Name: 200, dtype: int64"
   ]
  },
  {
   "cell_type": "markdown",
   "id": "a987ba6b",
   "metadata": {},
   "source": [
    "nombre_infected       647\n",
    "nombre_sain          2372\n",
    "nombre_exposed        378\n",
    "nombre_recovered    16603\n",
    "Name: 201, dtype: int64"
   ]
  },
  {
   "cell_type": "markdown",
   "id": "dcf9c74f",
   "metadata": {},
   "source": [
    "nombre_infected       645\n",
    "nombre_sain          2374\n",
    "nombre_exposed        389\n",
    "nombre_recovered    16592\n",
    "Name: 202, dtype: int64"
   ]
  },
  {
   "cell_type": "markdown",
   "id": "881a7246",
   "metadata": {},
   "source": [
    "nombre_infected       624\n",
    "nombre_sain          2368\n",
    "nombre_exposed        392\n",
    "nombre_recovered    16616\n",
    "Name: 203, dtype: int64"
   ]
  },
  {
   "cell_type": "markdown",
   "id": "f3958056",
   "metadata": {},
   "source": [
    "nombre_infected       629\n",
    "nombre_sain          2367\n",
    "nombre_exposed        403\n",
    "nombre_recovered    16601\n",
    "Name: 204, dtype: int64"
   ]
  },
  {
   "cell_type": "markdown",
   "id": "e33e51d4",
   "metadata": {},
   "source": [
    "nombre_infected       651\n",
    "nombre_sain          2409\n",
    "nombre_exposed        381\n",
    "nombre_recovered    16559\n",
    "Name: 205, dtype: int64"
   ]
  },
  {
   "cell_type": "markdown",
   "id": "a13a8a39",
   "metadata": {},
   "source": [
    "nombre_infected       657\n",
    "nombre_sain          2441\n",
    "nombre_exposed        360\n",
    "nombre_recovered    16542\n",
    "Name: 206, dtype: int64"
   ]
  },
  {
   "cell_type": "markdown",
   "id": "ea40ccbb",
   "metadata": {},
   "source": [
    "nombre_infected       670\n",
    "nombre_sain          2441\n",
    "nombre_exposed        375\n",
    "nombre_recovered    16514\n",
    "Name: 207, dtype: int64"
   ]
  },
  {
   "cell_type": "markdown",
   "id": "d28bf9f6",
   "metadata": {},
   "source": [
    "nombre_infected       680\n",
    "nombre_sain          2467\n",
    "nombre_exposed        370\n",
    "nombre_recovered    16483\n",
    "Name: 208, dtype: int64"
   ]
  },
  {
   "cell_type": "markdown",
   "id": "0be00c8d",
   "metadata": {},
   "source": [
    "nombre_infected       695\n",
    "nombre_sain          2466\n",
    "nombre_exposed        359\n",
    "nombre_recovered    16480\n",
    "Name: 209, dtype: int64"
   ]
  },
  {
   "cell_type": "markdown",
   "id": "727159b3",
   "metadata": {},
   "source": [
    "nombre_infected       665\n",
    "nombre_sain          2474\n",
    "nombre_exposed        378\n",
    "nombre_recovered    16483\n",
    "Name: 210, dtype: int64"
   ]
  },
  {
   "cell_type": "markdown",
   "id": "494bac09",
   "metadata": {},
   "source": [
    "nombre_infected       644\n",
    "nombre_sain          2486\n",
    "nombre_exposed        401\n",
    "nombre_recovered    16469\n",
    "Name: 211, dtype: int64"
   ]
  },
  {
   "cell_type": "markdown",
   "id": "55cc5f35",
   "metadata": {},
   "source": [
    "nombre_infected       646\n",
    "nombre_sain          2488\n",
    "nombre_exposed        404\n",
    "nombre_recovered    16462\n",
    "Name: 212, dtype: int64"
   ]
  },
  {
   "cell_type": "markdown",
   "id": "0dc4eaa2",
   "metadata": {},
   "source": [
    "nombre_infected       633\n",
    "nombre_sain          2491\n",
    "nombre_exposed        406\n",
    "nombre_recovered    16470\n",
    "Name: 213, dtype: int64"
   ]
  },
  {
   "cell_type": "markdown",
   "id": "96fcff9c",
   "metadata": {},
   "source": [
    "nombre_infected       642\n",
    "nombre_sain          2485\n",
    "nombre_exposed        393\n",
    "nombre_recovered    16480\n",
    "Name: 214, dtype: int64"
   ]
  },
  {
   "cell_type": "markdown",
   "id": "08649d36",
   "metadata": {},
   "source": [
    "nombre_infected       644\n",
    "nombre_sain          2490\n",
    "nombre_exposed        397\n",
    "nombre_recovered    16469\n",
    "Name: 215, dtype: int64"
   ]
  },
  {
   "cell_type": "markdown",
   "id": "01d56c20",
   "metadata": {},
   "source": [
    "nombre_infected       657\n",
    "nombre_sain          2478\n",
    "nombre_exposed        398\n",
    "nombre_recovered    16467\n",
    "Name: 216, dtype: int64"
   ]
  },
  {
   "cell_type": "markdown",
   "id": "ab8f4e1a",
   "metadata": {},
   "source": [
    "nombre_infected       667\n",
    "nombre_sain          2475\n",
    "nombre_exposed        409\n",
    "nombre_recovered    16449\n",
    "Name: 217, dtype: int64"
   ]
  },
  {
   "cell_type": "markdown",
   "id": "410b20ff",
   "metadata": {},
   "source": [
    "nombre_infected       650\n",
    "nombre_sain          2462\n",
    "nombre_exposed        441\n",
    "nombre_recovered    16447\n",
    "Name: 218, dtype: int64"
   ]
  },
  {
   "cell_type": "markdown",
   "id": "2f141d97",
   "metadata": {},
   "source": [
    "nombre_infected       651\n",
    "nombre_sain          2456\n",
    "nombre_exposed        460\n",
    "nombre_recovered    16433\n",
    "Name: 219, dtype: int64"
   ]
  },
  {
   "cell_type": "markdown",
   "id": "e3ce98d7",
   "metadata": {},
   "source": [
    "nombre_infected       673\n",
    "nombre_sain          2467\n",
    "nombre_exposed        437\n",
    "nombre_recovered    16423\n",
    "Name: 220, dtype: int64"
   ]
  },
  {
   "cell_type": "markdown",
   "id": "f63a6eb8",
   "metadata": {},
   "source": [
    "nombre_infected       668\n",
    "nombre_sain          2475\n",
    "nombre_exposed        441\n",
    "nombre_recovered    16416\n",
    "Name: 221, dtype: int64"
   ]
  },
  {
   "cell_type": "markdown",
   "id": "dfbae5a4",
   "metadata": {},
   "source": [
    "nombre_infected       664\n",
    "nombre_sain          2475\n",
    "nombre_exposed        444\n",
    "nombre_recovered    16417\n",
    "Name: 222, dtype: int64"
   ]
  },
  {
   "cell_type": "markdown",
   "id": "3ae15bd8",
   "metadata": {},
   "source": [
    "nombre_infected       688\n",
    "nombre_sain          2455\n",
    "nombre_exposed        455\n",
    "nombre_recovered    16402\n",
    "Name: 223, dtype: int64"
   ]
  },
  {
   "cell_type": "markdown",
   "id": "35b403dc",
   "metadata": {},
   "source": [
    "nombre_infected       714\n",
    "nombre_sain          2451\n",
    "nombre_exposed        441\n",
    "nombre_recovered    16394\n",
    "Name: 224, dtype: int64"
   ]
  },
  {
   "cell_type": "markdown",
   "id": "22af8b5a",
   "metadata": {},
   "source": [
    "nombre_infected       724\n",
    "nombre_sain          2454\n",
    "nombre_exposed        459\n",
    "nombre_recovered    16363\n",
    "Name: 225, dtype: int64"
   ]
  },
  {
   "cell_type": "markdown",
   "id": "ffdef59c",
   "metadata": {},
   "source": [
    "nombre_infected       745\n",
    "nombre_sain          2457\n",
    "nombre_exposed        463\n",
    "nombre_recovered    16335\n",
    "Name: 226, dtype: int64"
   ]
  },
  {
   "cell_type": "markdown",
   "id": "8ad3aa15",
   "metadata": {},
   "source": [
    "nombre_infected       747\n",
    "nombre_sain          2456\n",
    "nombre_exposed        481\n",
    "nombre_recovered    16316\n",
    "Name: 227, dtype: int64"
   ]
  },
  {
   "cell_type": "markdown",
   "id": "b8236506",
   "metadata": {},
   "source": [
    "nombre_infected       730\n",
    "nombre_sain          2474\n",
    "nombre_exposed        490\n",
    "nombre_recovered    16306\n",
    "Name: 228, dtype: int64"
   ]
  },
  {
   "cell_type": "markdown",
   "id": "eeb1e4b6",
   "metadata": {},
   "source": [
    "nombre_infected       750\n",
    "nombre_sain          2474\n",
    "nombre_exposed        467\n",
    "nombre_recovered    16309\n",
    "Name: 229, dtype: int64"
   ]
  },
  {
   "cell_type": "markdown",
   "id": "780f4d75",
   "metadata": {},
   "source": [
    "nombre_infected       764\n",
    "nombre_sain          2493\n",
    "nombre_exposed        461\n",
    "nombre_recovered    16282\n",
    "Name: 230, dtype: int64"
   ]
  },
  {
   "cell_type": "markdown",
   "id": "027103ab",
   "metadata": {},
   "source": [
    "nombre_infected       763\n",
    "nombre_sain          2512\n",
    "nombre_exposed        485\n",
    "nombre_recovered    16240\n",
    "Name: 231, dtype: int64"
   ]
  },
  {
   "cell_type": "markdown",
   "id": "3e40cae1",
   "metadata": {},
   "source": [
    "nombre_infected       773\n",
    "nombre_sain          2507\n",
    "nombre_exposed        496\n",
    "nombre_recovered    16224\n",
    "Name: 232, dtype: int64"
   ]
  },
  {
   "cell_type": "markdown",
   "id": "eb79462b",
   "metadata": {},
   "source": [
    "nombre_infected       778\n",
    "nombre_sain          2536\n",
    "nombre_exposed        494\n",
    "nombre_recovered    16192\n",
    "Name: 233, dtype: int64"
   ]
  },
  {
   "cell_type": "markdown",
   "id": "bc0f7ce4",
   "metadata": {},
   "source": [
    "nombre_infected       794\n",
    "nombre_sain          2534\n",
    "nombre_exposed        518\n",
    "nombre_recovered    16154\n",
    "Name: 234, dtype: int64"
   ]
  },
  {
   "cell_type": "markdown",
   "id": "10d746ef",
   "metadata": {},
   "source": [
    "nombre_infected       802\n",
    "nombre_sain          2532\n",
    "nombre_exposed        519\n",
    "nombre_recovered    16147\n",
    "Name: 235, dtype: int64"
   ]
  },
  {
   "cell_type": "markdown",
   "id": "0b380927",
   "metadata": {},
   "source": [
    "nombre_infected       818\n",
    "nombre_sain          2513\n",
    "nombre_exposed        528\n",
    "nombre_recovered    16141\n",
    "Name: 236, dtype: int64"
   ]
  },
  {
   "cell_type": "markdown",
   "id": "0648ef9c",
   "metadata": {},
   "source": [
    "nombre_infected       827\n",
    "nombre_sain          2485\n",
    "nombre_exposed        540\n",
    "nombre_recovered    16148\n",
    "Name: 237, dtype: int64"
   ]
  },
  {
   "cell_type": "markdown",
   "id": "6c7aba2c",
   "metadata": {},
   "source": [
    "nombre_infected       829\n",
    "nombre_sain          2469\n",
    "nombre_exposed        551\n",
    "nombre_recovered    16151\n",
    "Name: 238, dtype: int64"
   ]
  },
  {
   "cell_type": "markdown",
   "id": "7acbd12a",
   "metadata": {},
   "source": [
    "nombre_infected       832\n",
    "nombre_sain          2467\n",
    "nombre_exposed        542\n",
    "nombre_recovered    16159\n",
    "Name: 239, dtype: int64"
   ]
  },
  {
   "cell_type": "markdown",
   "id": "e6645a50",
   "metadata": {},
   "source": [
    "nombre_infected       863\n",
    "nombre_sain          2447\n",
    "nombre_exposed        519\n",
    "nombre_recovered    16171\n",
    "Name: 240, dtype: int64"
   ]
  },
  {
   "cell_type": "markdown",
   "id": "fa0eadde",
   "metadata": {},
   "source": [
    "nombre_infected       852\n",
    "nombre_sain          2427\n",
    "nombre_exposed        547\n",
    "nombre_recovered    16174\n",
    "Name: 241, dtype: int64"
   ]
  },
  {
   "cell_type": "markdown",
   "id": "a8873c35",
   "metadata": {},
   "source": [
    "nombre_infected       863\n",
    "nombre_sain          2421\n",
    "nombre_exposed        537\n",
    "nombre_recovered    16179\n",
    "Name: 242, dtype: int64"
   ]
  },
  {
   "cell_type": "markdown",
   "id": "225d330e",
   "metadata": {},
   "source": [
    "nombre_infected       895\n",
    "nombre_sain          2407\n",
    "nombre_exposed        529\n",
    "nombre_recovered    16169\n",
    "Name: 243, dtype: int64"
   ]
  },
  {
   "cell_type": "markdown",
   "id": "c372d4c5",
   "metadata": {},
   "source": [
    "nombre_infected       907\n",
    "nombre_sain          2387\n",
    "nombre_exposed        542\n",
    "nombre_recovered    16164\n",
    "Name: 244, dtype: int64"
   ]
  },
  {
   "cell_type": "markdown",
   "id": "d0f3cb87",
   "metadata": {},
   "source": [
    "nombre_infected       913\n",
    "nombre_sain          2357\n",
    "nombre_exposed        550\n",
    "nombre_recovered    16180\n",
    "Name: 245, dtype: int64"
   ]
  },
  {
   "cell_type": "markdown",
   "id": "a5dee67f",
   "metadata": {},
   "source": [
    "nombre_infected       923\n",
    "nombre_sain          2336\n",
    "nombre_exposed        562\n",
    "nombre_recovered    16179\n",
    "Name: 246, dtype: int64"
   ]
  },
  {
   "cell_type": "markdown",
   "id": "cf0975b4",
   "metadata": {},
   "source": [
    "nombre_infected       922\n",
    "nombre_sain          2318\n",
    "nombre_exposed        564\n",
    "nombre_recovered    16196\n",
    "Name: 247, dtype: int64"
   ]
  },
  {
   "cell_type": "markdown",
   "id": "72478f3a",
   "metadata": {},
   "source": [
    "nombre_infected       951\n",
    "nombre_sain          2301\n",
    "nombre_exposed        547\n",
    "nombre_recovered    16201\n",
    "Name: 248, dtype: int64"
   ]
  },
  {
   "cell_type": "markdown",
   "id": "16fc6b5f",
   "metadata": {},
   "source": [
    "nombre_infected       952\n",
    "nombre_sain          2265\n",
    "nombre_exposed        559\n",
    "nombre_recovered    16224\n",
    "Name: 249, dtype: int64"
   ]
  },
  {
   "cell_type": "markdown",
   "id": "530002af",
   "metadata": {},
   "source": [
    "nombre_infected       936\n",
    "nombre_sain          2247\n",
    "nombre_exposed        554\n",
    "nombre_recovered    16263\n",
    "Name: 250, dtype: int64"
   ]
  },
  {
   "cell_type": "markdown",
   "id": "96e33b13",
   "metadata": {},
   "source": [
    "nombre_infected       938\n",
    "nombre_sain          2235\n",
    "nombre_exposed        541\n",
    "nombre_recovered    16286\n",
    "Name: 251, dtype: int64"
   ]
  },
  {
   "cell_type": "markdown",
   "id": "2970ad39",
   "metadata": {},
   "source": [
    "nombre_infected       946\n",
    "nombre_sain          2222\n",
    "nombre_exposed        528\n",
    "nombre_recovered    16304\n",
    "Name: 252, dtype: int64"
   ]
  },
  {
   "cell_type": "markdown",
   "id": "c4b65bf7",
   "metadata": {},
   "source": [
    "nombre_infected       943\n",
    "nombre_sain          2202\n",
    "nombre_exposed        543\n",
    "nombre_recovered    16312\n",
    "Name: 253, dtype: int64"
   ]
  },
  {
   "cell_type": "markdown",
   "id": "76213dfb",
   "metadata": {},
   "source": [
    "nombre_infected       939\n",
    "nombre_sain          2211\n",
    "nombre_exposed        535\n",
    "nombre_recovered    16315\n",
    "Name: 254, dtype: int64"
   ]
  },
  {
   "cell_type": "markdown",
   "id": "9824c681",
   "metadata": {},
   "source": [
    "nombre_infected       932\n",
    "nombre_sain          2220\n",
    "nombre_exposed        529\n",
    "nombre_recovered    16319\n",
    "Name: 255, dtype: int64"
   ]
  },
  {
   "cell_type": "markdown",
   "id": "4de927e9",
   "metadata": {},
   "source": [
    "nombre_infected       923\n",
    "nombre_sain          2222\n",
    "nombre_exposed        532\n",
    "nombre_recovered    16323\n",
    "Name: 256, dtype: int64"
   ]
  },
  {
   "cell_type": "markdown",
   "id": "75ad6ee4",
   "metadata": {},
   "source": [
    "nombre_infected       878\n",
    "nombre_sain          2216\n",
    "nombre_exposed        542\n",
    "nombre_recovered    16364\n",
    "Name: 257, dtype: int64"
   ]
  },
  {
   "cell_type": "markdown",
   "id": "0acba1e8",
   "metadata": {},
   "source": [
    "nombre_infected       876\n",
    "nombre_sain          2222\n",
    "nombre_exposed        520\n",
    "nombre_recovered    16382\n",
    "Name: 258, dtype: int64"
   ]
  },
  {
   "cell_type": "markdown",
   "id": "f0ea546b",
   "metadata": {},
   "source": [
    "nombre_infected       845\n",
    "nombre_sain          2229\n",
    "nombre_exposed        545\n",
    "nombre_recovered    16381\n",
    "Name: 259, dtype: int64"
   ]
  },
  {
   "cell_type": "markdown",
   "id": "42e87e6b",
   "metadata": {},
   "source": [
    "nombre_infected       848\n",
    "nombre_sain          2255\n",
    "nombre_exposed        526\n",
    "nombre_recovered    16371\n",
    "Name: 260, dtype: int64"
   ]
  },
  {
   "cell_type": "markdown",
   "id": "fcd29823",
   "metadata": {},
   "source": [
    "nombre_infected       836\n",
    "nombre_sain          2274\n",
    "nombre_exposed        515\n",
    "nombre_recovered    16375\n",
    "Name: 261, dtype: int64"
   ]
  },
  {
   "cell_type": "markdown",
   "id": "03ab563b",
   "metadata": {},
   "source": [
    "nombre_infected       855\n",
    "nombre_sain          2266\n",
    "nombre_exposed        507\n",
    "nombre_recovered    16372\n",
    "Name: 262, dtype: int64"
   ]
  },
  {
   "cell_type": "markdown",
   "id": "d7f1ad00",
   "metadata": {},
   "source": [
    "nombre_infected       861\n",
    "nombre_sain          2275\n",
    "nombre_exposed        496\n",
    "nombre_recovered    16368\n",
    "Name: 263, dtype: int64"
   ]
  },
  {
   "cell_type": "markdown",
   "id": "6f96772e",
   "metadata": {},
   "source": [
    "nombre_infected       869\n",
    "nombre_sain          2255\n",
    "nombre_exposed        512\n",
    "nombre_recovered    16364\n",
    "Name: 264, dtype: int64"
   ]
  },
  {
   "cell_type": "markdown",
   "id": "e28747a4",
   "metadata": {},
   "source": [
    "nombre_infected       854\n",
    "nombre_sain          2262\n",
    "nombre_exposed        529\n",
    "nombre_recovered    16355\n",
    "Name: 265, dtype: int64"
   ]
  },
  {
   "cell_type": "markdown",
   "id": "fc3ba5d4",
   "metadata": {},
   "source": [
    "nombre_infected       829\n",
    "nombre_sain          2279\n",
    "nombre_exposed        534\n",
    "nombre_recovered    16358\n",
    "Name: 266, dtype: int64"
   ]
  },
  {
   "cell_type": "markdown",
   "id": "38bb3850",
   "metadata": {},
   "source": [
    "nombre_infected       811\n",
    "nombre_sain          2286\n",
    "nombre_exposed        554\n",
    "nombre_recovered    16349\n",
    "Name: 267, dtype: int64"
   ]
  },
  {
   "cell_type": "markdown",
   "id": "0e0b16c6",
   "metadata": {},
   "source": [
    "nombre_infected       782\n",
    "nombre_sain          2279\n",
    "nombre_exposed        563\n",
    "nombre_recovered    16376\n",
    "Name: 268, dtype: int64"
   ]
  },
  {
   "cell_type": "markdown",
   "id": "12e66109",
   "metadata": {},
   "source": [
    "nombre_infected       802\n",
    "nombre_sain          2287\n",
    "nombre_exposed        526\n",
    "nombre_recovered    16385\n",
    "Name: 269, dtype: int64"
   ]
  },
  {
   "cell_type": "markdown",
   "id": "1f85691e",
   "metadata": {},
   "source": [
    "nombre_infected       831\n",
    "nombre_sain          2286\n",
    "nombre_exposed        517\n",
    "nombre_recovered    16366\n",
    "Name: 270, dtype: int64"
   ]
  },
  {
   "cell_type": "markdown",
   "id": "4c27b088",
   "metadata": {},
   "source": [
    "nombre_infected       829\n",
    "nombre_sain          2297\n",
    "nombre_exposed        515\n",
    "nombre_recovered    16359\n",
    "Name: 271, dtype: int64"
   ]
  },
  {
   "cell_type": "markdown",
   "id": "cfc2ee9e",
   "metadata": {},
   "source": [
    "nombre_infected       811\n",
    "nombre_sain          2320\n",
    "nombre_exposed        528\n",
    "nombre_recovered    16341\n",
    "Name: 272, dtype: int64"
   ]
  },
  {
   "cell_type": "markdown",
   "id": "f6f4481c",
   "metadata": {},
   "source": [
    "nombre_infected       826\n",
    "nombre_sain          2344\n",
    "nombre_exposed        511\n",
    "nombre_recovered    16319\n",
    "Name: 273, dtype: int64"
   ]
  },
  {
   "cell_type": "markdown",
   "id": "3b2d22cf",
   "metadata": {},
   "source": [
    "nombre_infected       839\n",
    "nombre_sain          2326\n",
    "nombre_exposed        531\n",
    "nombre_recovered    16304\n",
    "Name: 274, dtype: int64"
   ]
  },
  {
   "cell_type": "markdown",
   "id": "faffe21c",
   "metadata": {},
   "source": [
    "nombre_infected       835\n",
    "nombre_sain          2313\n",
    "nombre_exposed        541\n",
    "nombre_recovered    16311\n",
    "Name: 275, dtype: int64"
   ]
  },
  {
   "cell_type": "markdown",
   "id": "f3bfb880",
   "metadata": {},
   "source": [
    "nombre_infected       819\n",
    "nombre_sain          2292\n",
    "nombre_exposed        575\n",
    "nombre_recovered    16314\n",
    "Name: 276, dtype: int64"
   ]
  },
  {
   "cell_type": "markdown",
   "id": "9e40dce3",
   "metadata": {},
   "source": [
    "nombre_infected       812\n",
    "nombre_sain          2317\n",
    "nombre_exposed        553\n",
    "nombre_recovered    16318\n",
    "Name: 277, dtype: int64"
   ]
  },
  {
   "cell_type": "markdown",
   "id": "139ac820",
   "metadata": {},
   "source": [
    "nombre_infected       840\n",
    "nombre_sain          2316\n",
    "nombre_exposed        552\n",
    "nombre_recovered    16292\n",
    "Name: 278, dtype: int64"
   ]
  },
  {
   "cell_type": "markdown",
   "id": "b377f275",
   "metadata": {},
   "source": [
    "nombre_infected       848\n",
    "nombre_sain          2315\n",
    "nombre_exposed        548\n",
    "nombre_recovered    16289\n",
    "Name: 279, dtype: int64"
   ]
  },
  {
   "cell_type": "markdown",
   "id": "1a64774b",
   "metadata": {},
   "source": [
    "nombre_infected       879\n",
    "nombre_sain          2279\n",
    "nombre_exposed        553\n",
    "nombre_recovered    16289\n",
    "Name: 280, dtype: int64"
   ]
  },
  {
   "cell_type": "markdown",
   "id": "189386cd",
   "metadata": {},
   "source": [
    "nombre_infected       877\n",
    "nombre_sain          2264\n",
    "nombre_exposed        563\n",
    "nombre_recovered    16296\n",
    "Name: 281, dtype: int64"
   ]
  },
  {
   "cell_type": "markdown",
   "id": "c8bec8c5",
   "metadata": {},
   "source": [
    "nombre_infected       865\n",
    "nombre_sain          2265\n",
    "nombre_exposed        561\n",
    "nombre_recovered    16309\n",
    "Name: 282, dtype: int64"
   ]
  },
  {
   "cell_type": "markdown",
   "id": "e7147345",
   "metadata": {},
   "source": [
    "nombre_infected       878\n",
    "nombre_sain          2250\n",
    "nombre_exposed        560\n",
    "nombre_recovered    16312\n",
    "Name: 283, dtype: int64"
   ]
  },
  {
   "cell_type": "markdown",
   "id": "37afb3ff",
   "metadata": {},
   "source": [
    "nombre_infected       876\n",
    "nombre_sain          2248\n",
    "nombre_exposed        560\n",
    "nombre_recovered    16316\n",
    "Name: 284, dtype: int64"
   ]
  },
  {
   "cell_type": "markdown",
   "id": "31315dfd",
   "metadata": {},
   "source": [
    "nombre_infected       866\n",
    "nombre_sain          2229\n",
    "nombre_exposed        571\n",
    "nombre_recovered    16334\n",
    "Name: 285, dtype: int64"
   ]
  },
  {
   "cell_type": "markdown",
   "id": "9449b77c",
   "metadata": {},
   "source": [
    "nombre_infected       902\n",
    "nombre_sain          2221\n",
    "nombre_exposed        566\n",
    "nombre_recovered    16311\n",
    "Name: 286, dtype: int64"
   ]
  },
  {
   "cell_type": "markdown",
   "id": "4900e385",
   "metadata": {},
   "source": [
    "nombre_infected       900\n",
    "nombre_sain          2215\n",
    "nombre_exposed        582\n",
    "nombre_recovered    16303\n",
    "Name: 287, dtype: int64"
   ]
  },
  {
   "cell_type": "markdown",
   "id": "863d4745",
   "metadata": {},
   "source": [
    "nombre_infected       906\n",
    "nombre_sain          2213\n",
    "nombre_exposed        559\n",
    "nombre_recovered    16322\n",
    "Name: 288, dtype: int64"
   ]
  },
  {
   "cell_type": "markdown",
   "id": "1887f7bc",
   "metadata": {},
   "source": [
    "nombre_infected       928\n",
    "nombre_sain          2197\n",
    "nombre_exposed        546\n",
    "nombre_recovered    16329\n",
    "Name: 289, dtype: int64"
   ]
  },
  {
   "cell_type": "markdown",
   "id": "02e83301",
   "metadata": {},
   "source": [
    "nombre_infected       923\n",
    "nombre_sain          2200\n",
    "nombre_exposed        539\n",
    "nombre_recovered    16338\n",
    "Name: 290, dtype: int64"
   ]
  },
  {
   "cell_type": "markdown",
   "id": "14db6441",
   "metadata": {},
   "source": [
    "nombre_infected       920\n",
    "nombre_sain          2204\n",
    "nombre_exposed        528\n",
    "nombre_recovered    16348\n",
    "Name: 291, dtype: int64"
   ]
  },
  {
   "cell_type": "markdown",
   "id": "af9c94c8",
   "metadata": {},
   "source": [
    "nombre_infected       926\n",
    "nombre_sain          2214\n",
    "nombre_exposed        520\n",
    "nombre_recovered    16340\n",
    "Name: 292, dtype: int64"
   ]
  },
  {
   "cell_type": "markdown",
   "id": "c2303cb7",
   "metadata": {},
   "source": [
    "nombre_infected       898\n",
    "nombre_sain          2197\n",
    "nombre_exposed        540\n",
    "nombre_recovered    16365\n",
    "Name: 293, dtype: int64"
   ]
  },
  {
   "cell_type": "markdown",
   "id": "bd1fe8c3",
   "metadata": {},
   "source": [
    "nombre_infected       896\n",
    "nombre_sain          2187\n",
    "nombre_exposed        548\n",
    "nombre_recovered    16369\n",
    "Name: 294, dtype: int64"
   ]
  },
  {
   "cell_type": "markdown",
   "id": "5b2e689a",
   "metadata": {},
   "source": [
    "nombre_infected       900\n",
    "nombre_sain          2158\n",
    "nombre_exposed        573\n",
    "nombre_recovered    16369\n",
    "Name: 295, dtype: int64"
   ]
  },
  {
   "cell_type": "markdown",
   "id": "b1662e4b",
   "metadata": {},
   "source": [
    "nombre_infected       901\n",
    "nombre_sain          2160\n",
    "nombre_exposed        568\n",
    "nombre_recovered    16371\n",
    "Name: 296, dtype: int64"
   ]
  },
  {
   "cell_type": "markdown",
   "id": "ed363a92",
   "metadata": {},
   "source": [
    "nombre_infected       916\n",
    "nombre_sain          2158\n",
    "nombre_exposed        555\n",
    "nombre_recovered    16371\n",
    "Name: 297, dtype: int64"
   ]
  },
  {
   "cell_type": "markdown",
   "id": "63597249",
   "metadata": {},
   "source": [
    "nombre_infected       912\n",
    "nombre_sain          2171\n",
    "nombre_exposed        566\n",
    "nombre_recovered    16351\n",
    "Name: 298, dtype: int64"
   ]
  },
  {
   "cell_type": "markdown",
   "id": "64159a26",
   "metadata": {},
   "source": [
    "nombre_infected       897\n",
    "nombre_sain          2177\n",
    "nombre_exposed        563\n",
    "nombre_recovered    16363\n",
    "Name: 299, dtype: int64"
   ]
  },
  {
   "cell_type": "markdown",
   "id": "92a8b941",
   "metadata": {},
   "source": [
    "nombre_infected       893\n",
    "nombre_sain          2184\n",
    "nombre_exposed        544\n",
    "nombre_recovered    16379\n",
    "Name: 300, dtype: int64"
   ]
  },
  {
   "cell_type": "markdown",
   "id": "fbda7483",
   "metadata": {},
   "source": [
    "nombre_infected       912\n",
    "nombre_sain          2182\n",
    "nombre_exposed        533\n",
    "nombre_recovered    16373\n",
    "Name: 301, dtype: int64"
   ]
  },
  {
   "cell_type": "markdown",
   "id": "01f5d8c5",
   "metadata": {},
   "source": [
    "nombre_infected       924\n",
    "nombre_sain          2168\n",
    "nombre_exposed        528\n",
    "nombre_recovered    16380\n",
    "Name: 302, dtype: int64"
   ]
  },
  {
   "cell_type": "markdown",
   "id": "9804f5a3",
   "metadata": {},
   "source": [
    "nombre_infected       925\n",
    "nombre_sain          2162\n",
    "nombre_exposed        530\n",
    "nombre_recovered    16383\n",
    "Name: 303, dtype: int64"
   ]
  },
  {
   "cell_type": "markdown",
   "id": "ba3a41df",
   "metadata": {},
   "source": [
    "nombre_infected       922\n",
    "nombre_sain          2134\n",
    "nombre_exposed        559\n",
    "nombre_recovered    16385\n",
    "Name: 304, dtype: int64"
   ]
  },
  {
   "cell_type": "markdown",
   "id": "c915c73f",
   "metadata": {},
   "source": [
    "nombre_infected       915\n",
    "nombre_sain          2131\n",
    "nombre_exposed        565\n",
    "nombre_recovered    16389\n",
    "Name: 305, dtype: int64"
   ]
  },
  {
   "cell_type": "markdown",
   "id": "4c3e33d2",
   "metadata": {},
   "source": [
    "nombre_infected       905\n",
    "nombre_sain          2118\n",
    "nombre_exposed        554\n",
    "nombre_recovered    16423\n",
    "Name: 306, dtype: int64"
   ]
  },
  {
   "cell_type": "markdown",
   "id": "9d2b1f51",
   "metadata": {},
   "source": [
    "nombre_infected       888\n",
    "nombre_sain          2119\n",
    "nombre_exposed        552\n",
    "nombre_recovered    16441\n",
    "Name: 307, dtype: int64"
   ]
  },
  {
   "cell_type": "markdown",
   "id": "663381fc",
   "metadata": {},
   "source": [
    "nombre_infected       894\n",
    "nombre_sain          2102\n",
    "nombre_exposed        550\n",
    "nombre_recovered    16454\n",
    "Name: 308, dtype: int64"
   ]
  },
  {
   "cell_type": "markdown",
   "id": "55517048",
   "metadata": {},
   "source": [
    "nombre_infected       888\n",
    "nombre_sain          2112\n",
    "nombre_exposed        544\n",
    "nombre_recovered    16456\n",
    "Name: 309, dtype: int64"
   ]
  },
  {
   "cell_type": "markdown",
   "id": "9a5aba5e",
   "metadata": {},
   "source": [
    "nombre_infected       891\n",
    "nombre_sain          2111\n",
    "nombre_exposed        529\n",
    "nombre_recovered    16469\n",
    "Name: 310, dtype: int64"
   ]
  },
  {
   "cell_type": "markdown",
   "id": "8c398f58",
   "metadata": {},
   "source": [
    "nombre_infected       871\n",
    "nombre_sain          2124\n",
    "nombre_exposed        528\n",
    "nombre_recovered    16477\n",
    "Name: 311, dtype: int64"
   ]
  },
  {
   "cell_type": "markdown",
   "id": "d087fc54",
   "metadata": {},
   "source": [
    "nombre_infected       877\n",
    "nombre_sain          2138\n",
    "nombre_exposed        503\n",
    "nombre_recovered    16482\n",
    "Name: 312, dtype: int64"
   ]
  },
  {
   "cell_type": "markdown",
   "id": "8973aa65",
   "metadata": {},
   "source": [
    "nombre_infected       869\n",
    "nombre_sain          2134\n",
    "nombre_exposed        505\n",
    "nombre_recovered    16492\n",
    "Name: 313, dtype: int64"
   ]
  },
  {
   "cell_type": "markdown",
   "id": "0f748413",
   "metadata": {},
   "source": [
    "nombre_infected       857\n",
    "nombre_sain          2127\n",
    "nombre_exposed        491\n",
    "nombre_recovered    16525\n",
    "Name: 314, dtype: int64"
   ]
  },
  {
   "cell_type": "markdown",
   "id": "10accf1a",
   "metadata": {},
   "source": [
    "nombre_infected       840\n",
    "nombre_sain          2131\n",
    "nombre_exposed        475\n",
    "nombre_recovered    16554\n",
    "Name: 315, dtype: int64"
   ]
  },
  {
   "cell_type": "markdown",
   "id": "4cc5ba64",
   "metadata": {},
   "source": [
    "nombre_infected       862\n",
    "nombre_sain          2120\n",
    "nombre_exposed        464\n",
    "nombre_recovered    16554\n",
    "Name: 316, dtype: int64"
   ]
  },
  {
   "cell_type": "markdown",
   "id": "0737e740",
   "metadata": {},
   "source": [
    "nombre_infected       843\n",
    "nombre_sain          2132\n",
    "nombre_exposed        461\n",
    "nombre_recovered    16564\n",
    "Name: 317, dtype: int64"
   ]
  },
  {
   "cell_type": "markdown",
   "id": "b5c3f8ac",
   "metadata": {},
   "source": [
    "nombre_infected       809\n",
    "nombre_sain          2137\n",
    "nombre_exposed        474\n",
    "nombre_recovered    16580\n",
    "Name: 318, dtype: int64"
   ]
  },
  {
   "cell_type": "markdown",
   "id": "560b5832",
   "metadata": {},
   "source": [
    "nombre_infected       812\n",
    "nombre_sain          2141\n",
    "nombre_exposed        463\n",
    "nombre_recovered    16584\n",
    "Name: 319, dtype: int64"
   ]
  },
  {
   "cell_type": "markdown",
   "id": "5392a145",
   "metadata": {},
   "source": [
    "nombre_infected       824\n",
    "nombre_sain          2131\n",
    "nombre_exposed        470\n",
    "nombre_recovered    16575\n",
    "Name: 320, dtype: int64"
   ]
  },
  {
   "cell_type": "markdown",
   "id": "01e7db28",
   "metadata": {},
   "source": [
    "nombre_infected       817\n",
    "nombre_sain          2134\n",
    "nombre_exposed        459\n",
    "nombre_recovered    16590\n",
    "Name: 321, dtype: int64"
   ]
  },
  {
   "cell_type": "markdown",
   "id": "fa1d5bff",
   "metadata": {},
   "source": [
    "nombre_infected       783\n",
    "nombre_sain          2140\n",
    "nombre_exposed        483\n",
    "nombre_recovered    16594\n",
    "Name: 322, dtype: int64"
   ]
  },
  {
   "cell_type": "markdown",
   "id": "f6007de1",
   "metadata": {},
   "source": [
    "nombre_infected       769\n",
    "nombre_sain          2132\n",
    "nombre_exposed        489\n",
    "nombre_recovered    16610\n",
    "Name: 323, dtype: int64"
   ]
  },
  {
   "cell_type": "markdown",
   "id": "81d301d8",
   "metadata": {},
   "source": [
    "nombre_infected       770\n",
    "nombre_sain          2131\n",
    "nombre_exposed        474\n",
    "nombre_recovered    16625\n",
    "Name: 324, dtype: int64"
   ]
  },
  {
   "cell_type": "markdown",
   "id": "f63a4607",
   "metadata": {},
   "source": [
    "nombre_infected       768\n",
    "nombre_sain          2133\n",
    "nombre_exposed        475\n",
    "nombre_recovered    16624\n",
    "Name: 325, dtype: int64"
   ]
  },
  {
   "cell_type": "markdown",
   "id": "fa8823a5",
   "metadata": {},
   "source": [
    "nombre_infected       771\n",
    "nombre_sain          2117\n",
    "nombre_exposed        471\n",
    "nombre_recovered    16641\n",
    "Name: 326, dtype: int64"
   ]
  },
  {
   "cell_type": "markdown",
   "id": "bf1b94d9",
   "metadata": {},
   "source": [
    "nombre_infected       760\n",
    "nombre_sain          2111\n",
    "nombre_exposed        470\n",
    "nombre_recovered    16659\n",
    "Name: 327, dtype: int64"
   ]
  },
  {
   "cell_type": "markdown",
   "id": "4bcafbd5",
   "metadata": {},
   "source": [
    "nombre_infected       729\n",
    "nombre_sain          2128\n",
    "nombre_exposed        463\n",
    "nombre_recovered    16680\n",
    "Name: 328, dtype: int64"
   ]
  },
  {
   "cell_type": "markdown",
   "id": "ebd4f44b",
   "metadata": {},
   "source": [
    "nombre_infected       722\n",
    "nombre_sain          2133\n",
    "nombre_exposed        461\n",
    "nombre_recovered    16684\n",
    "Name: 329, dtype: int64"
   ]
  },
  {
   "cell_type": "markdown",
   "id": "15313663",
   "metadata": {},
   "source": [
    "nombre_infected       712\n",
    "nombre_sain          2152\n",
    "nombre_exposed        439\n",
    "nombre_recovered    16697\n",
    "Name: 330, dtype: int64"
   ]
  },
  {
   "cell_type": "markdown",
   "id": "837595a6",
   "metadata": {},
   "source": [
    "nombre_infected       728\n",
    "nombre_sain          2181\n",
    "nombre_exposed        413\n",
    "nombre_recovered    16678\n",
    "Name: 331, dtype: int64"
   ]
  },
  {
   "cell_type": "markdown",
   "id": "021c8ac0",
   "metadata": {},
   "source": [
    "nombre_infected       742\n",
    "nombre_sain          2179\n",
    "nombre_exposed        410\n",
    "nombre_recovered    16669\n",
    "Name: 332, dtype: int64"
   ]
  },
  {
   "cell_type": "markdown",
   "id": "130f57ad",
   "metadata": {},
   "source": [
    "nombre_infected       739\n",
    "nombre_sain          2195\n",
    "nombre_exposed        412\n",
    "nombre_recovered    16654\n",
    "Name: 333, dtype: int64"
   ]
  },
  {
   "cell_type": "markdown",
   "id": "fb619228",
   "metadata": {},
   "source": [
    "nombre_infected       728\n",
    "nombre_sain          2204\n",
    "nombre_exposed        417\n",
    "nombre_recovered    16651\n",
    "Name: 334, dtype: int64"
   ]
  },
  {
   "cell_type": "markdown",
   "id": "524586ca",
   "metadata": {},
   "source": [
    "nombre_infected       735\n",
    "nombre_sain          2206\n",
    "nombre_exposed        406\n",
    "nombre_recovered    16653\n",
    "Name: 335, dtype: int64"
   ]
  },
  {
   "cell_type": "markdown",
   "id": "27b0c753",
   "metadata": {},
   "source": [
    "nombre_infected       733\n",
    "nombre_sain          2195\n",
    "nombre_exposed        416\n",
    "nombre_recovered    16656\n",
    "Name: 336, dtype: int64"
   ]
  },
  {
   "cell_type": "markdown",
   "id": "58613e71",
   "metadata": {},
   "source": [
    "nombre_infected       713\n",
    "nombre_sain          2191\n",
    "nombre_exposed        427\n",
    "nombre_recovered    16669\n",
    "Name: 337, dtype: int64"
   ]
  },
  {
   "cell_type": "markdown",
   "id": "7c40c8c3",
   "metadata": {},
   "source": [
    "nombre_infected       703\n",
    "nombre_sain          2186\n",
    "nombre_exposed        422\n",
    "nombre_recovered    16689\n",
    "Name: 338, dtype: int64"
   ]
  },
  {
   "cell_type": "markdown",
   "id": "50e3ec4f",
   "metadata": {},
   "source": [
    "nombre_infected       699\n",
    "nombre_sain          2182\n",
    "nombre_exposed        437\n",
    "nombre_recovered    16682\n",
    "Name: 339, dtype: int64"
   ]
  },
  {
   "cell_type": "markdown",
   "id": "a6d90a91",
   "metadata": {},
   "source": [
    "nombre_infected       713\n",
    "nombre_sain          2208\n",
    "nombre_exposed        423\n",
    "nombre_recovered    16656\n",
    "Name: 340, dtype: int64"
   ]
  },
  {
   "cell_type": "markdown",
   "id": "f796c743",
   "metadata": {},
   "source": [
    "nombre_infected       698\n",
    "nombre_sain          2246\n",
    "nombre_exposed        407\n",
    "nombre_recovered    16649\n",
    "Name: 341, dtype: int64"
   ]
  },
  {
   "cell_type": "markdown",
   "id": "68d51fed",
   "metadata": {},
   "source": [
    "nombre_infected       699\n",
    "nombre_sain          2272\n",
    "nombre_exposed        394\n",
    "nombre_recovered    16635\n",
    "Name: 342, dtype: int64"
   ]
  },
  {
   "cell_type": "markdown",
   "id": "d04e70ee",
   "metadata": {},
   "source": [
    "nombre_infected       691\n",
    "nombre_sain          2260\n",
    "nombre_exposed        410\n",
    "nombre_recovered    16639\n",
    "Name: 343, dtype: int64"
   ]
  },
  {
   "cell_type": "markdown",
   "id": "d6122b1b",
   "metadata": {},
   "source": [
    "nombre_infected       692\n",
    "nombre_sain          2287\n",
    "nombre_exposed        403\n",
    "nombre_recovered    16618\n",
    "Name: 344, dtype: int64"
   ]
  },
  {
   "cell_type": "markdown",
   "id": "5be6ac0d",
   "metadata": {},
   "source": [
    "nombre_infected       686\n",
    "nombre_sain          2301\n",
    "nombre_exposed        420\n",
    "nombre_recovered    16593\n",
    "Name: 345, dtype: int64"
   ]
  },
  {
   "cell_type": "markdown",
   "id": "d0c194b0",
   "metadata": {},
   "source": [
    "nombre_infected       675\n",
    "nombre_sain          2343\n",
    "nombre_exposed        419\n",
    "nombre_recovered    16563\n",
    "Name: 346, dtype: int64"
   ]
  },
  {
   "cell_type": "markdown",
   "id": "e5f60b59",
   "metadata": {},
   "source": [
    "nombre_infected       673\n",
    "nombre_sain          2373\n",
    "nombre_exposed        428\n",
    "nombre_recovered    16526\n",
    "Name: 347, dtype: int64"
   ]
  },
  {
   "cell_type": "markdown",
   "id": "f685c36a",
   "metadata": {},
   "source": [
    "nombre_infected       668\n",
    "nombre_sain          2395\n",
    "nombre_exposed        438\n",
    "nombre_recovered    16499\n",
    "Name: 348, dtype: int64"
   ]
  },
  {
   "cell_type": "markdown",
   "id": "ea0e13ad",
   "metadata": {},
   "source": [
    "nombre_infected       690\n",
    "nombre_sain          2409\n",
    "nombre_exposed        440\n",
    "nombre_recovered    16461\n",
    "Name: 349, dtype: int64"
   ]
  },
  {
   "cell_type": "markdown",
   "id": "fde34992",
   "metadata": {},
   "source": [
    "nombre_infected       693\n",
    "nombre_sain          2460\n",
    "nombre_exposed        439\n",
    "nombre_recovered    16408\n",
    "Name: 350, dtype: int64"
   ]
  },
  {
   "cell_type": "markdown",
   "id": "871a34e4",
   "metadata": {},
   "source": [
    "nombre_infected       701\n",
    "nombre_sain          2496\n",
    "nombre_exposed        438\n",
    "nombre_recovered    16365\n",
    "Name: 351, dtype: int64"
   ]
  },
  {
   "cell_type": "markdown",
   "id": "19355749",
   "metadata": {},
   "source": [
    "nombre_infected       716\n",
    "nombre_sain          2482\n",
    "nombre_exposed        471\n",
    "nombre_recovered    16331\n",
    "Name: 352, dtype: int64"
   ]
  },
  {
   "cell_type": "markdown",
   "id": "a2675580",
   "metadata": {},
   "source": [
    "nombre_infected       724\n",
    "nombre_sain          2509\n",
    "nombre_exposed        480\n",
    "nombre_recovered    16287\n",
    "Name: 353, dtype: int64"
   ]
  },
  {
   "cell_type": "markdown",
   "id": "2c4e7bea",
   "metadata": {},
   "source": [
    "nombre_infected       725\n",
    "nombre_sain          2512\n",
    "nombre_exposed        501\n",
    "nombre_recovered    16262\n",
    "Name: 354, dtype: int64"
   ]
  },
  {
   "cell_type": "markdown",
   "id": "1963a8c1",
   "metadata": {},
   "source": [
    "nombre_infected       722\n",
    "nombre_sain          2543\n",
    "nombre_exposed        501\n",
    "nombre_recovered    16234\n",
    "Name: 355, dtype: int64"
   ]
  },
  {
   "cell_type": "markdown",
   "id": "585333d1",
   "metadata": {},
   "source": [
    "nombre_infected       761\n",
    "nombre_sain          2559\n",
    "nombre_exposed        481\n",
    "nombre_recovered    16199\n",
    "Name: 356, dtype: int64"
   ]
  },
  {
   "cell_type": "markdown",
   "id": "42014967",
   "metadata": {},
   "source": [
    "nombre_infected       782\n",
    "nombre_sain          2553\n",
    "nombre_exposed        483\n",
    "nombre_recovered    16182\n",
    "Name: 357, dtype: int64"
   ]
  },
  {
   "cell_type": "markdown",
   "id": "3f0242c1",
   "metadata": {},
   "source": [
    "nombre_infected       770\n",
    "nombre_sain          2529\n",
    "nombre_exposed        495\n",
    "nombre_recovered    16206\n",
    "Name: 358, dtype: int64"
   ]
  },
  {
   "cell_type": "markdown",
   "id": "fb993a89",
   "metadata": {},
   "source": [
    "nombre_infected       774\n",
    "nombre_sain          2534\n",
    "nombre_exposed        496\n",
    "nombre_recovered    16196\n",
    "Name: 359, dtype: int64"
   ]
  },
  {
   "cell_type": "markdown",
   "id": "9aaecb5e",
   "metadata": {},
   "source": [
    "nombre_infected       794\n",
    "nombre_sain          2540\n",
    "nombre_exposed        500\n",
    "nombre_recovered    16166\n",
    "Name: 360, dtype: int64"
   ]
  },
  {
   "cell_type": "markdown",
   "id": "1097d024",
   "metadata": {},
   "source": [
    "nombre_infected       813\n",
    "nombre_sain          2553\n",
    "nombre_exposed        505\n",
    "nombre_recovered    16129\n",
    "Name: 361, dtype: int64"
   ]
  },
  {
   "cell_type": "markdown",
   "id": "691872b5",
   "metadata": {},
   "source": [
    "nombre_infected       819\n",
    "nombre_sain          2525\n",
    "nombre_exposed        545\n",
    "nombre_recovered    16111\n",
    "Name: 362, dtype: int64"
   ]
  },
  {
   "cell_type": "markdown",
   "id": "f30d30b7",
   "metadata": {},
   "source": [
    "nombre_infected       823\n",
    "nombre_sain          2517\n",
    "nombre_exposed        564\n",
    "nombre_recovered    16096\n",
    "Name: 363, dtype: int64"
   ]
  },
  {
   "cell_type": "markdown",
   "id": "d67e62be",
   "metadata": {},
   "source": [
    "nombre_infected       851\n",
    "nombre_sain          2515\n",
    "nombre_exposed        572\n",
    "nombre_recovered    16062\n",
    "Name: 364, dtype: int64"
   ]
  },
  {
   "cell_type": "markdown",
   "id": "d0a8f8fc",
   "metadata": {},
   "source": [
    "nombre_infected       874\n",
    "nombre_sain          2499\n",
    "nombre_exposed        582\n",
    "nombre_recovered    16045\n",
    "Name: 365, dtype: int64"
   ]
  },
  {
   "cell_type": "markdown",
   "id": "0fb4330e",
   "metadata": {},
   "source": [
    "nombre_infected       881\n",
    "nombre_sain          2478\n",
    "nombre_exposed        597\n",
    "nombre_recovered    16044\n",
    "Name: 366, dtype: int64"
   ]
  },
  {
   "cell_type": "markdown",
   "id": "ef45734c",
   "metadata": {},
   "source": [
    "nombre_infected       917\n",
    "nombre_sain          2461\n",
    "nombre_exposed        604\n",
    "nombre_recovered    16018\n",
    "Name: 367, dtype: int64"
   ]
  },
  {
   "cell_type": "markdown",
   "id": "6e6b9285",
   "metadata": {},
   "source": [
    "nombre_infected       917\n",
    "nombre_sain          2487\n",
    "nombre_exposed        599\n",
    "nombre_recovered    15997\n",
    "Name: 368, dtype: int64"
   ]
  },
  {
   "cell_type": "markdown",
   "id": "e5f5b631",
   "metadata": {},
   "source": [
    "nombre_infected       942\n",
    "nombre_sain          2482\n",
    "nombre_exposed        588\n",
    "nombre_recovered    15988\n",
    "Name: 369, dtype: int64"
   ]
  },
  {
   "cell_type": "markdown",
   "id": "914c0775",
   "metadata": {},
   "source": [
    "nombre_infected       937\n",
    "nombre_sain          2493\n",
    "nombre_exposed        581\n",
    "nombre_recovered    15989\n",
    "Name: 370, dtype: int64"
   ]
  },
  {
   "cell_type": "markdown",
   "id": "f5c9a849",
   "metadata": {},
   "source": [
    "nombre_infected       944\n",
    "nombre_sain          2519\n",
    "nombre_exposed        562\n",
    "nombre_recovered    15975\n",
    "Name: 371, dtype: int64"
   ]
  },
  {
   "cell_type": "markdown",
   "id": "0a0792d4",
   "metadata": {},
   "source": [
    "nombre_infected       953\n",
    "nombre_sain          2519\n",
    "nombre_exposed        583\n",
    "nombre_recovered    15945\n",
    "Name: 372, dtype: int64"
   ]
  },
  {
   "cell_type": "markdown",
   "id": "3a7b3392",
   "metadata": {},
   "source": [
    "nombre_infected       962\n",
    "nombre_sain          2497\n",
    "nombre_exposed        608\n",
    "nombre_recovered    15933\n",
    "Name: 373, dtype: int64"
   ]
  },
  {
   "cell_type": "markdown",
   "id": "53ddd3ce",
   "metadata": {},
   "source": [
    "nombre_infected       962\n",
    "nombre_sain          2515\n",
    "nombre_exposed        616\n",
    "nombre_recovered    15907\n",
    "Name: 374, dtype: int64"
   ]
  },
  {
   "cell_type": "markdown",
   "id": "1744ee57",
   "metadata": {},
   "source": [
    "nombre_infected       999\n",
    "nombre_sain          2505\n",
    "nombre_exposed        608\n",
    "nombre_recovered    15888\n",
    "Name: 375, dtype: int64"
   ]
  },
  {
   "cell_type": "markdown",
   "id": "7e4bbc29",
   "metadata": {},
   "source": [
    "nombre_infected      1032\n",
    "nombre_sain          2496\n",
    "nombre_exposed        572\n",
    "nombre_recovered    15900\n",
    "Name: 376, dtype: int64"
   ]
  },
  {
   "cell_type": "markdown",
   "id": "69838b5b",
   "metadata": {},
   "source": [
    "nombre_infected      1038\n",
    "nombre_sain          2470\n",
    "nombre_exposed        589\n",
    "nombre_recovered    15903\n",
    "Name: 377, dtype: int64"
   ]
  },
  {
   "cell_type": "markdown",
   "id": "60755252",
   "metadata": {},
   "source": [
    "nombre_infected      1039\n",
    "nombre_sain          2479\n",
    "nombre_exposed        588\n",
    "nombre_recovered    15894\n",
    "Name: 378, dtype: int64"
   ]
  },
  {
   "cell_type": "markdown",
   "id": "a78ed068",
   "metadata": {},
   "source": [
    "nombre_infected      1062\n",
    "nombre_sain          2442\n",
    "nombre_exposed        603\n",
    "nombre_recovered    15893\n",
    "Name: 379, dtype: int64"
   ]
  },
  {
   "cell_type": "markdown",
   "id": "b9fc17db",
   "metadata": {},
   "source": [
    "nombre_infected      1069\n",
    "nombre_sain          2427\n",
    "nombre_exposed        602\n",
    "nombre_recovered    15902\n",
    "Name: 380, dtype: int64"
   ]
  },
  {
   "cell_type": "markdown",
   "id": "c3d66524",
   "metadata": {},
   "source": [
    "nombre_infected      1070\n",
    "nombre_sain          2413\n",
    "nombre_exposed        629\n",
    "nombre_recovered    15888\n",
    "Name: 381, dtype: int64"
   ]
  },
  {
   "cell_type": "markdown",
   "id": "ebff1d57",
   "metadata": {},
   "source": [
    "nombre_infected      1062\n",
    "nombre_sain          2391\n",
    "nombre_exposed        645\n",
    "nombre_recovered    15902\n",
    "Name: 382, dtype: int64"
   ]
  },
  {
   "cell_type": "markdown",
   "id": "011cbec3",
   "metadata": {},
   "source": [
    "nombre_infected      1077\n",
    "nombre_sain          2397\n",
    "nombre_exposed        633\n",
    "nombre_recovered    15893\n",
    "Name: 383, dtype: int64"
   ]
  },
  {
   "cell_type": "markdown",
   "id": "a3b47341",
   "metadata": {},
   "source": [
    "nombre_infected      1100\n",
    "nombre_sain          2391\n",
    "nombre_exposed        611\n",
    "nombre_recovered    15898\n",
    "Name: 384, dtype: int64"
   ]
  },
  {
   "cell_type": "markdown",
   "id": "ed8c66f2",
   "metadata": {},
   "source": [
    "nombre_infected      1075\n",
    "nombre_sain          2370\n",
    "nombre_exposed        644\n",
    "nombre_recovered    15911\n",
    "Name: 385, dtype: int64"
   ]
  },
  {
   "cell_type": "markdown",
   "id": "085c05c5",
   "metadata": {},
   "source": [
    "nombre_infected      1113\n",
    "nombre_sain          2364\n",
    "nombre_exposed        614\n",
    "nombre_recovered    15909\n",
    "Name: 386, dtype: int64"
   ]
  },
  {
   "cell_type": "markdown",
   "id": "caf53423",
   "metadata": {},
   "source": [
    "nombre_infected      1104\n",
    "nombre_sain          2330\n",
    "nombre_exposed        634\n",
    "nombre_recovered    15932\n",
    "Name: 387, dtype: int64"
   ]
  },
  {
   "cell_type": "markdown",
   "id": "532fdf50",
   "metadata": {},
   "source": [
    "nombre_infected      1082\n",
    "nombre_sain          2307\n",
    "nombre_exposed        640\n",
    "nombre_recovered    15971\n",
    "Name: 388, dtype: int64"
   ]
  },
  {
   "cell_type": "markdown",
   "id": "20528896",
   "metadata": {},
   "source": [
    "nombre_infected      1093\n",
    "nombre_sain          2287\n",
    "nombre_exposed        632\n",
    "nombre_recovered    15988\n",
    "Name: 389, dtype: int64"
   ]
  },
  {
   "cell_type": "markdown",
   "id": "da7a8ed3",
   "metadata": {},
   "source": [
    "nombre_infected      1081\n",
    "nombre_sain          2281\n",
    "nombre_exposed        641\n",
    "nombre_recovered    15997\n",
    "Name: 390, dtype: int64"
   ]
  },
  {
   "cell_type": "markdown",
   "id": "c8a0fb6a",
   "metadata": {},
   "source": [
    "nombre_infected      1069\n",
    "nombre_sain          2265\n",
    "nombre_exposed        654\n",
    "nombre_recovered    16012\n",
    "Name: 391, dtype: int64"
   ]
  },
  {
   "cell_type": "markdown",
   "id": "1d2df2c9",
   "metadata": {},
   "source": [
    "nombre_infected      1088\n",
    "nombre_sain          2257\n",
    "nombre_exposed        645\n",
    "nombre_recovered    16010\n",
    "Name: 392, dtype: int64"
   ]
  },
  {
   "cell_type": "markdown",
   "id": "a3f6f99e",
   "metadata": {},
   "source": [
    "nombre_infected      1060\n",
    "nombre_sain          2282\n",
    "nombre_exposed        632\n",
    "nombre_recovered    16026\n",
    "Name: 393, dtype: int64"
   ]
  },
  {
   "cell_type": "markdown",
   "id": "b3651347",
   "metadata": {},
   "source": [
    "nombre_infected      1049\n",
    "nombre_sain          2269\n",
    "nombre_exposed        635\n",
    "nombre_recovered    16047\n",
    "Name: 394, dtype: int64"
   ]
  },
  {
   "cell_type": "markdown",
   "id": "47b82f70",
   "metadata": {},
   "source": [
    "nombre_infected      1046\n",
    "nombre_sain          2271\n",
    "nombre_exposed        622\n",
    "nombre_recovered    16061\n",
    "Name: 395, dtype: int64"
   ]
  },
  {
   "cell_type": "markdown",
   "id": "b0eab645",
   "metadata": {},
   "source": [
    "nombre_infected      1065\n",
    "nombre_sain          2261\n",
    "nombre_exposed        617\n",
    "nombre_recovered    16057\n",
    "Name: 396, dtype: int64"
   ]
  },
  {
   "cell_type": "markdown",
   "id": "06cb29b9",
   "metadata": {},
   "source": [
    "nombre_infected      1076\n",
    "nombre_sain          2260\n",
    "nombre_exposed        595\n",
    "nombre_recovered    16069\n",
    "Name: 397, dtype: int64"
   ]
  },
  {
   "cell_type": "markdown",
   "id": "11296b2a",
   "metadata": {},
   "source": [
    "nombre_infected      1091\n",
    "nombre_sain          2246\n",
    "nombre_exposed        596\n",
    "nombre_recovered    16067\n",
    "Name: 398, dtype: int64"
   ]
  },
  {
   "cell_type": "markdown",
   "id": "5e369a69",
   "metadata": {},
   "source": [
    "nombre_infected      1095\n",
    "nombre_sain          2202\n",
    "nombre_exposed        611\n",
    "nombre_recovered    16092\n",
    "Name: 399, dtype: int64"
   ]
  },
  {
   "cell_type": "markdown",
   "id": "6d68c570",
   "metadata": {},
   "source": [
    "nombre_infected      1081\n",
    "nombre_sain          2175\n",
    "nombre_exposed        610\n",
    "nombre_recovered    16134\n",
    "Name: 400, dtype: int64"
   ]
  },
  {
   "cell_type": "markdown",
   "id": "e76cefd3",
   "metadata": {},
   "source": [
    "nombre_infected      1053\n",
    "nombre_sain          2192\n",
    "nombre_exposed        605\n",
    "nombre_recovered    16150\n",
    "Name: 401, dtype: int64"
   ]
  },
  {
   "cell_type": "markdown",
   "id": "0584330c",
   "metadata": {},
   "source": [
    "nombre_infected      1070\n",
    "nombre_sain          2184\n",
    "nombre_exposed        576\n",
    "nombre_recovered    16170\n",
    "Name: 402, dtype: int64"
   ]
  },
  {
   "cell_type": "markdown",
   "id": "d86fcc01",
   "metadata": {},
   "source": [
    "nombre_infected      1054\n",
    "nombre_sain          2171\n",
    "nombre_exposed        580\n",
    "nombre_recovered    16195\n",
    "Name: 403, dtype: int64"
   ]
  },
  {
   "cell_type": "markdown",
   "id": "d7a4ceae",
   "metadata": {},
   "source": [
    "nombre_infected      1035\n",
    "nombre_sain          2162\n",
    "nombre_exposed        582\n",
    "nombre_recovered    16221\n",
    "Name: 404, dtype: int64"
   ]
  },
  {
   "cell_type": "markdown",
   "id": "bfc93134",
   "metadata": {},
   "source": [
    "nombre_infected      1021\n",
    "nombre_sain          2141\n",
    "nombre_exposed        594\n",
    "nombre_recovered    16244\n",
    "Name: 405, dtype: int64"
   ]
  },
  {
   "cell_type": "markdown",
   "id": "7dc1c983",
   "metadata": {},
   "source": [
    "nombre_infected      1014\n",
    "nombre_sain          2135\n",
    "nombre_exposed        590\n",
    "nombre_recovered    16261\n",
    "Name: 406, dtype: int64"
   ]
  },
  {
   "cell_type": "markdown",
   "id": "2bd3d8e9",
   "metadata": {},
   "source": [
    "nombre_infected      1006\n",
    "nombre_sain          2115\n",
    "nombre_exposed        602\n",
    "nombre_recovered    16277\n",
    "Name: 407, dtype: int64"
   ]
  },
  {
   "cell_type": "markdown",
   "id": "31f9d509",
   "metadata": {},
   "source": [
    "nombre_infected      1000\n",
    "nombre_sain          2130\n",
    "nombre_exposed        585\n",
    "nombre_recovered    16285\n",
    "Name: 408, dtype: int64"
   ]
  },
  {
   "cell_type": "markdown",
   "id": "113a34cc",
   "metadata": {},
   "source": [
    "nombre_infected       998\n",
    "nombre_sain          2112\n",
    "nombre_exposed        571\n",
    "nombre_recovered    16319\n",
    "Name: 409, dtype: int64"
   ]
  },
  {
   "cell_type": "markdown",
   "id": "fcf2b4df",
   "metadata": {},
   "source": [
    "nombre_infected       990\n",
    "nombre_sain          2113\n",
    "nombre_exposed        543\n",
    "nombre_recovered    16354\n",
    "Name: 410, dtype: int64"
   ]
  },
  {
   "cell_type": "markdown",
   "id": "cb88fb55",
   "metadata": {},
   "source": [
    "nombre_infected      1018\n",
    "nombre_sain          2119\n",
    "nombre_exposed        533\n",
    "nombre_recovered    16330\n",
    "Name: 411, dtype: int64"
   ]
  },
  {
   "cell_type": "markdown",
   "id": "33cea236",
   "metadata": {},
   "source": [
    "nombre_infected       996\n",
    "nombre_sain          2113\n",
    "nombre_exposed        527\n",
    "nombre_recovered    16364\n",
    "Name: 412, dtype: int64"
   ]
  },
  {
   "cell_type": "markdown",
   "id": "c6ca45ca",
   "metadata": {},
   "source": [
    "nombre_infected       970\n",
    "nombre_sain          2097\n",
    "nombre_exposed        546\n",
    "nombre_recovered    16387\n",
    "Name: 413, dtype: int64"
   ]
  },
  {
   "cell_type": "markdown",
   "id": "ca1c0b06",
   "metadata": {},
   "source": [
    "nombre_infected       963\n",
    "nombre_sain          2092\n",
    "nombre_exposed        569\n",
    "nombre_recovered    16376\n",
    "Name: 414, dtype: int64"
   ]
  },
  {
   "cell_type": "markdown",
   "id": "1cffe974",
   "metadata": {},
   "source": [
    "nombre_infected       967\n",
    "nombre_sain          2094\n",
    "nombre_exposed        561\n",
    "nombre_recovered    16378\n",
    "Name: 415, dtype: int64"
   ]
  },
  {
   "cell_type": "markdown",
   "id": "016b8816",
   "metadata": {},
   "source": [
    "nombre_infected       968\n",
    "nombre_sain          2112\n",
    "nombre_exposed        531\n",
    "nombre_recovered    16389\n",
    "Name: 416, dtype: int64"
   ]
  },
  {
   "cell_type": "markdown",
   "id": "cf9e39d3",
   "metadata": {},
   "source": [
    "nombre_infected       980\n",
    "nombre_sain          2117\n",
    "nombre_exposed        520\n",
    "nombre_recovered    16383\n",
    "Name: 417, dtype: int64"
   ]
  },
  {
   "cell_type": "markdown",
   "id": "c15ddc97",
   "metadata": {},
   "source": [
    "nombre_infected       943\n",
    "nombre_sain          2127\n",
    "nombre_exposed        537\n",
    "nombre_recovered    16393\n",
    "Name: 418, dtype: int64"
   ]
  },
  {
   "cell_type": "markdown",
   "id": "1ab47427",
   "metadata": {},
   "source": [
    "nombre_infected       937\n",
    "nombre_sain          2106\n",
    "nombre_exposed        554\n",
    "nombre_recovered    16403\n",
    "Name: 419, dtype: int64"
   ]
  },
  {
   "cell_type": "markdown",
   "id": "697209ac",
   "metadata": {},
   "source": [
    "nombre_infected       927\n",
    "nombre_sain          2112\n",
    "nombre_exposed        566\n",
    "nombre_recovered    16395\n",
    "Name: 420, dtype: int64"
   ]
  },
  {
   "cell_type": "markdown",
   "id": "2c44173a",
   "metadata": {},
   "source": [
    "nombre_infected       928\n",
    "nombre_sain          2149\n",
    "nombre_exposed        538\n",
    "nombre_recovered    16385\n",
    "Name: 421, dtype: int64"
   ]
  },
  {
   "cell_type": "markdown",
   "id": "2d5e870e",
   "metadata": {},
   "source": [
    "nombre_infected       933\n",
    "nombre_sain          2174\n",
    "nombre_exposed        515\n",
    "nombre_recovered    16378\n",
    "Name: 422, dtype: int64"
   ]
  },
  {
   "cell_type": "markdown",
   "id": "191318a6",
   "metadata": {},
   "source": [
    "nombre_infected       930\n",
    "nombre_sain          2192\n",
    "nombre_exposed        499\n",
    "nombre_recovered    16379\n",
    "Name: 423, dtype: int64"
   ]
  },
  {
   "cell_type": "markdown",
   "id": "36ba6e33",
   "metadata": {},
   "source": [
    "nombre_infected       925\n",
    "nombre_sain          2182\n",
    "nombre_exposed        519\n",
    "nombre_recovered    16374\n",
    "Name: 424, dtype: int64"
   ]
  },
  {
   "cell_type": "markdown",
   "id": "a5a1989e",
   "metadata": {},
   "source": [
    "nombre_infected       911\n",
    "nombre_sain          2185\n",
    "nombre_exposed        519\n",
    "nombre_recovered    16385\n",
    "Name: 425, dtype: int64"
   ]
  },
  {
   "cell_type": "markdown",
   "id": "0ad57570",
   "metadata": {},
   "source": [
    "nombre_infected       902\n",
    "nombre_sain          2196\n",
    "nombre_exposed        530\n",
    "nombre_recovered    16372\n",
    "Name: 426, dtype: int64"
   ]
  },
  {
   "cell_type": "markdown",
   "id": "2d5897b2",
   "metadata": {},
   "source": [
    "nombre_infected       921\n",
    "nombre_sain          2231\n",
    "nombre_exposed        510\n",
    "nombre_recovered    16338\n",
    "Name: 427, dtype: int64"
   ]
  },
  {
   "cell_type": "markdown",
   "id": "585580f6",
   "metadata": {},
   "source": [
    "nombre_infected       904\n",
    "nombre_sain          2223\n",
    "nombre_exposed        516\n",
    "nombre_recovered    16357\n",
    "Name: 428, dtype: int64"
   ]
  },
  {
   "cell_type": "markdown",
   "id": "f8bacf6c",
   "metadata": {},
   "source": [
    "nombre_infected       932\n",
    "nombre_sain          2223\n",
    "nombre_exposed        504\n",
    "nombre_recovered    16341\n",
    "Name: 429, dtype: int64"
   ]
  },
  {
   "cell_type": "markdown",
   "id": "3ee060da",
   "metadata": {},
   "source": [
    "nombre_infected       936\n",
    "nombre_sain          2221\n",
    "nombre_exposed        507\n",
    "nombre_recovered    16336\n",
    "Name: 430, dtype: int64"
   ]
  },
  {
   "cell_type": "markdown",
   "id": "7da626c9",
   "metadata": {},
   "source": [
    "nombre_infected       927\n",
    "nombre_sain          2231\n",
    "nombre_exposed        516\n",
    "nombre_recovered    16326\n",
    "Name: 431, dtype: int64"
   ]
  },
  {
   "cell_type": "markdown",
   "id": "5475f5ef",
   "metadata": {},
   "source": [
    "nombre_infected       923\n",
    "nombre_sain          2227\n",
    "nombre_exposed        517\n",
    "nombre_recovered    16333\n",
    "Name: 432, dtype: int64"
   ]
  },
  {
   "cell_type": "markdown",
   "id": "0110c786",
   "metadata": {},
   "source": [
    "nombre_infected       937\n",
    "nombre_sain          2234\n",
    "nombre_exposed        518\n",
    "nombre_recovered    16311\n",
    "Name: 433, dtype: int64"
   ]
  },
  {
   "cell_type": "markdown",
   "id": "c5ea7b91",
   "metadata": {},
   "source": [
    "nombre_infected       941\n",
    "nombre_sain          2231\n",
    "nombre_exposed        515\n",
    "nombre_recovered    16313\n",
    "Name: 434, dtype: int64"
   ]
  },
  {
   "cell_type": "markdown",
   "id": "1f549ead",
   "metadata": {},
   "source": [
    "nombre_infected       937\n",
    "nombre_sain          2220\n",
    "nombre_exposed        526\n",
    "nombre_recovered    16317\n",
    "Name: 435, dtype: int64"
   ]
  },
  {
   "cell_type": "markdown",
   "id": "5e35f450",
   "metadata": {},
   "source": [
    "nombre_infected       924\n",
    "nombre_sain          2248\n",
    "nombre_exposed        526\n",
    "nombre_recovered    16302\n",
    "Name: 436, dtype: int64"
   ]
  },
  {
   "cell_type": "markdown",
   "id": "4204f5ed",
   "metadata": {},
   "source": [
    "nombre_infected       942\n",
    "nombre_sain          2228\n",
    "nombre_exposed        547\n",
    "nombre_recovered    16283\n",
    "Name: 437, dtype: int64"
   ]
  },
  {
   "cell_type": "markdown",
   "id": "64eef20f",
   "metadata": {},
   "source": [
    "nombre_infected       932\n",
    "nombre_sain          2241\n",
    "nombre_exposed        543\n",
    "nombre_recovered    16284\n",
    "Name: 438, dtype: int64"
   ]
  },
  {
   "cell_type": "markdown",
   "id": "a334349a",
   "metadata": {},
   "source": [
    "nombre_infected       920\n",
    "nombre_sain          2193\n",
    "nombre_exposed        595\n",
    "nombre_recovered    16292\n",
    "Name: 439, dtype: int64"
   ]
  },
  {
   "cell_type": "markdown",
   "id": "7e0abaf5",
   "metadata": {},
   "source": [
    "nombre_infected       936\n",
    "nombre_sain          2211\n",
    "nombre_exposed        587\n",
    "nombre_recovered    16266\n",
    "Name: 440, dtype: int64"
   ]
  },
  {
   "cell_type": "markdown",
   "id": "09e9a59f",
   "metadata": {},
   "source": [
    "nombre_infected       942\n",
    "nombre_sain          2199\n",
    "nombre_exposed        577\n",
    "nombre_recovered    16282\n",
    "Name: 441, dtype: int64"
   ]
  },
  {
   "cell_type": "markdown",
   "id": "7d99b7ec",
   "metadata": {},
   "source": [
    "nombre_infected       926\n",
    "nombre_sain          2197\n",
    "nombre_exposed        580\n",
    "nombre_recovered    16297\n",
    "Name: 442, dtype: int64"
   ]
  },
  {
   "cell_type": "markdown",
   "id": "229c1499",
   "metadata": {},
   "source": [
    "nombre_infected       933\n",
    "nombre_sain          2211\n",
    "nombre_exposed        552\n",
    "nombre_recovered    16304\n",
    "Name: 443, dtype: int64"
   ]
  },
  {
   "cell_type": "markdown",
   "id": "361ab138",
   "metadata": {},
   "source": [
    "nombre_infected       918\n",
    "nombre_sain          2212\n",
    "nombre_exposed        563\n",
    "nombre_recovered    16307\n",
    "Name: 444, dtype: int64"
   ]
  },
  {
   "cell_type": "markdown",
   "id": "2a861c6f",
   "metadata": {},
   "source": [
    "nombre_infected       929\n",
    "nombre_sain          2235\n",
    "nombre_exposed        552\n",
    "nombre_recovered    16284\n",
    "Name: 445, dtype: int64"
   ]
  },
  {
   "cell_type": "markdown",
   "id": "a3b58cc8",
   "metadata": {},
   "source": [
    "nombre_infected       915\n",
    "nombre_sain          2235\n",
    "nombre_exposed        566\n",
    "nombre_recovered    16284\n",
    "Name: 446, dtype: int64"
   ]
  },
  {
   "cell_type": "markdown",
   "id": "72e5a541",
   "metadata": {},
   "source": [
    "nombre_infected       923\n",
    "nombre_sain          2224\n",
    "nombre_exposed        558\n",
    "nombre_recovered    16295\n",
    "Name: 447, dtype: int64"
   ]
  },
  {
   "cell_type": "markdown",
   "id": "acb8d673",
   "metadata": {},
   "source": [
    "nombre_infected       912\n",
    "nombre_sain          2235\n",
    "nombre_exposed        538\n",
    "nombre_recovered    16315\n",
    "Name: 448, dtype: int64"
   ]
  },
  {
   "cell_type": "markdown",
   "id": "eb8381f4",
   "metadata": {},
   "source": [
    "nombre_infected       936\n",
    "nombre_sain          2220\n",
    "nombre_exposed        524\n",
    "nombre_recovered    16320\n",
    "Name: 449, dtype: int64"
   ]
  },
  {
   "cell_type": "markdown",
   "id": "026ada4b",
   "metadata": {},
   "source": [
    "nombre_infected       923\n",
    "nombre_sain          2212\n",
    "nombre_exposed        539\n",
    "nombre_recovered    16326\n",
    "Name: 450, dtype: int64"
   ]
  },
  {
   "cell_type": "markdown",
   "id": "e87fc2a8",
   "metadata": {},
   "source": [
    "nombre_infected       930\n",
    "nombre_sain          2225\n",
    "nombre_exposed        528\n",
    "nombre_recovered    16317\n",
    "Name: 451, dtype: int64"
   ]
  },
  {
   "cell_type": "markdown",
   "id": "3f93265a",
   "metadata": {},
   "source": [
    "nombre_infected       918\n",
    "nombre_sain          2215\n",
    "nombre_exposed        553\n",
    "nombre_recovered    16314\n",
    "Name: 452, dtype: int64"
   ]
  },
  {
   "cell_type": "markdown",
   "id": "139f7462",
   "metadata": {},
   "source": [
    "nombre_infected       924\n",
    "nombre_sain          2223\n",
    "nombre_exposed        524\n",
    "nombre_recovered    16329\n",
    "Name: 453, dtype: int64"
   ]
  },
  {
   "cell_type": "markdown",
   "id": "7a7a73cc",
   "metadata": {},
   "source": [
    "nombre_infected       927\n",
    "nombre_sain          2234\n",
    "nombre_exposed        502\n",
    "nombre_recovered    16337\n",
    "Name: 454, dtype: int64"
   ]
  },
  {
   "cell_type": "markdown",
   "id": "af3c2571",
   "metadata": {},
   "source": [
    "nombre_infected       920\n",
    "nombre_sain          2232\n",
    "nombre_exposed        501\n",
    "nombre_recovered    16347\n",
    "Name: 455, dtype: int64"
   ]
  },
  {
   "cell_type": "markdown",
   "id": "2a70deb0",
   "metadata": {},
   "source": [
    "nombre_infected       917\n",
    "nombre_sain          2213\n",
    "nombre_exposed        515\n",
    "nombre_recovered    16355\n",
    "Name: 456, dtype: int64"
   ]
  },
  {
   "cell_type": "markdown",
   "id": "3a9c4303",
   "metadata": {},
   "source": [
    "nombre_infected       917\n",
    "nombre_sain          2228\n",
    "nombre_exposed        511\n",
    "nombre_recovered    16344\n",
    "Name: 457, dtype: int64"
   ]
  },
  {
   "cell_type": "markdown",
   "id": "23362f52",
   "metadata": {},
   "source": [
    "nombre_infected       911\n",
    "nombre_sain          2262\n",
    "nombre_exposed        490\n",
    "nombre_recovered    16337\n",
    "Name: 458, dtype: int64"
   ]
  },
  {
   "cell_type": "markdown",
   "id": "c604249b",
   "metadata": {},
   "source": [
    "nombre_infected       901\n",
    "nombre_sain          2267\n",
    "nombre_exposed        481\n",
    "nombre_recovered    16351\n",
    "Name: 459, dtype: int64"
   ]
  },
  {
   "cell_type": "markdown",
   "id": "2e289559",
   "metadata": {},
   "source": [
    "nombre_infected       911\n",
    "nombre_sain          2276\n",
    "nombre_exposed        484\n",
    "nombre_recovered    16329\n",
    "Name: 460, dtype: int64"
   ]
  },
  {
   "cell_type": "markdown",
   "id": "065cb2d3",
   "metadata": {},
   "source": [
    "nombre_infected       908\n",
    "nombre_sain          2273\n",
    "nombre_exposed        500\n",
    "nombre_recovered    16319\n",
    "Name: 461, dtype: int64"
   ]
  },
  {
   "cell_type": "markdown",
   "id": "8ec026d6",
   "metadata": {},
   "source": [
    "nombre_infected       899\n",
    "nombre_sain          2296\n",
    "nombre_exposed        510\n",
    "nombre_recovered    16295\n",
    "Name: 462, dtype: int64"
   ]
  },
  {
   "cell_type": "markdown",
   "id": "7950f65c",
   "metadata": {},
   "source": [
    "nombre_infected       877\n",
    "nombre_sain          2287\n",
    "nombre_exposed        524\n",
    "nombre_recovered    16312\n",
    "Name: 463, dtype: int64"
   ]
  },
  {
   "cell_type": "markdown",
   "id": "eed9eaea",
   "metadata": {},
   "source": [
    "nombre_infected       918\n",
    "nombre_sain          2288\n",
    "nombre_exposed        502\n",
    "nombre_recovered    16292\n",
    "Name: 464, dtype: int64"
   ]
  },
  {
   "cell_type": "markdown",
   "id": "9799bdbb",
   "metadata": {},
   "source": [
    "nombre_infected       893\n",
    "nombre_sain          2291\n",
    "nombre_exposed        531\n",
    "nombre_recovered    16285\n",
    "Name: 465, dtype: int64"
   ]
  },
  {
   "cell_type": "markdown",
   "id": "beaab84d",
   "metadata": {},
   "source": [
    "nombre_infected       891\n",
    "nombre_sain          2309\n",
    "nombre_exposed        529\n",
    "nombre_recovered    16271\n",
    "Name: 466, dtype: int64"
   ]
  },
  {
   "cell_type": "markdown",
   "id": "34587983",
   "metadata": {},
   "source": [
    "nombre_infected       909\n",
    "nombre_sain          2315\n",
    "nombre_exposed        516\n",
    "nombre_recovered    16260\n",
    "Name: 467, dtype: int64"
   ]
  },
  {
   "cell_type": "markdown",
   "id": "412d316b",
   "metadata": {},
   "source": [
    "nombre_infected       917\n",
    "nombre_sain          2304\n",
    "nombre_exposed        514\n",
    "nombre_recovered    16265\n",
    "Name: 468, dtype: int64"
   ]
  },
  {
   "cell_type": "markdown",
   "id": "5ef8d8fb",
   "metadata": {},
   "source": [
    "nombre_infected       906\n",
    "nombre_sain          2298\n",
    "nombre_exposed        531\n",
    "nombre_recovered    16265\n",
    "Name: 469, dtype: int64"
   ]
  },
  {
   "cell_type": "markdown",
   "id": "9165e846",
   "metadata": {},
   "source": [
    "nombre_infected       895\n",
    "nombre_sain          2306\n",
    "nombre_exposed        527\n",
    "nombre_recovered    16272\n",
    "Name: 470, dtype: int64"
   ]
  },
  {
   "cell_type": "markdown",
   "id": "8f269ead",
   "metadata": {},
   "source": [
    "nombre_infected       916\n",
    "nombre_sain          2312\n",
    "nombre_exposed        515\n",
    "nombre_recovered    16257\n",
    "Name: 471, dtype: int64"
   ]
  },
  {
   "cell_type": "markdown",
   "id": "cf825606",
   "metadata": {},
   "source": [
    "nombre_infected       911\n",
    "nombre_sain          2326\n",
    "nombre_exposed        495\n",
    "nombre_recovered    16268\n",
    "Name: 472, dtype: int64"
   ]
  },
  {
   "cell_type": "markdown",
   "id": "6acdfd3a",
   "metadata": {},
   "source": [
    "nombre_infected       916\n",
    "nombre_sain          2294\n",
    "nombre_exposed        517\n",
    "nombre_recovered    16273\n",
    "Name: 473, dtype: int64"
   ]
  },
  {
   "cell_type": "markdown",
   "id": "522ce4ef",
   "metadata": {},
   "source": [
    "nombre_infected       924\n",
    "nombre_sain          2282\n",
    "nombre_exposed        533\n",
    "nombre_recovered    16261\n",
    "Name: 474, dtype: int64"
   ]
  },
  {
   "cell_type": "markdown",
   "id": "0ee76cb2",
   "metadata": {},
   "source": [
    "nombre_infected       913\n",
    "nombre_sain          2264\n",
    "nombre_exposed        533\n",
    "nombre_recovered    16290\n",
    "Name: 475, dtype: int64"
   ]
  },
  {
   "cell_type": "markdown",
   "id": "acd98978",
   "metadata": {},
   "source": [
    "nombre_infected       891\n",
    "nombre_sain          2270\n",
    "nombre_exposed        548\n",
    "nombre_recovered    16291\n",
    "Name: 476, dtype: int64"
   ]
  },
  {
   "cell_type": "markdown",
   "id": "c76dd00a",
   "metadata": {},
   "source": [
    "nombre_infected       872\n",
    "nombre_sain          2282\n",
    "nombre_exposed        521\n",
    "nombre_recovered    16325\n",
    "Name: 477, dtype: int64"
   ]
  },
  {
   "cell_type": "markdown",
   "id": "9eb4ffad",
   "metadata": {},
   "source": [
    "nombre_infected       879\n",
    "nombre_sain          2296\n",
    "nombre_exposed        521\n",
    "nombre_recovered    16304\n",
    "Name: 478, dtype: int64"
   ]
  },
  {
   "cell_type": "markdown",
   "id": "7abbe531",
   "metadata": {},
   "source": [
    "nombre_infected       874\n",
    "nombre_sain          2281\n",
    "nombre_exposed        526\n",
    "nombre_recovered    16319\n",
    "Name: 479, dtype: int64"
   ]
  },
  {
   "cell_type": "markdown",
   "id": "0812a942",
   "metadata": {},
   "source": [
    "nombre_infected       884\n",
    "nombre_sain          2285\n",
    "nombre_exposed        504\n",
    "nombre_recovered    16327\n",
    "Name: 480, dtype: int64"
   ]
  },
  {
   "cell_type": "markdown",
   "id": "88b5838c",
   "metadata": {},
   "source": [
    "nombre_infected       878\n",
    "nombre_sain          2310\n",
    "nombre_exposed        498\n",
    "nombre_recovered    16314\n",
    "Name: 481, dtype: int64"
   ]
  },
  {
   "cell_type": "markdown",
   "id": "0856940c",
   "metadata": {},
   "source": [
    "nombre_infected       855\n",
    "nombre_sain          2317\n",
    "nombre_exposed        505\n",
    "nombre_recovered    16323\n",
    "Name: 482, dtype: int64"
   ]
  },
  {
   "cell_type": "markdown",
   "id": "7603e810",
   "metadata": {},
   "source": [
    "nombre_infected       842\n",
    "nombre_sain          2307\n",
    "nombre_exposed        500\n",
    "nombre_recovered    16351\n",
    "Name: 483, dtype: int64"
   ]
  },
  {
   "cell_type": "markdown",
   "id": "f36a1d94",
   "metadata": {},
   "source": [
    "nombre_infected       850\n",
    "nombre_sain          2304\n",
    "nombre_exposed        491\n",
    "nombre_recovered    16355\n",
    "Name: 484, dtype: int64"
   ]
  },
  {
   "cell_type": "markdown",
   "id": "f9b420b1",
   "metadata": {},
   "source": [
    "nombre_infected       833\n",
    "nombre_sain          2271\n",
    "nombre_exposed        532\n",
    "nombre_recovered    16364\n",
    "Name: 485, dtype: int64"
   ]
  },
  {
   "cell_type": "markdown",
   "id": "4eab88ee",
   "metadata": {},
   "source": [
    "nombre_infected       844\n",
    "nombre_sain          2267\n",
    "nombre_exposed        513\n",
    "nombre_recovered    16376\n",
    "Name: 486, dtype: int64"
   ]
  },
  {
   "cell_type": "markdown",
   "id": "ad5c5104",
   "metadata": {},
   "source": [
    "nombre_infected       851\n",
    "nombre_sain          2276\n",
    "nombre_exposed        503\n",
    "nombre_recovered    16370\n",
    "Name: 487, dtype: int64"
   ]
  },
  {
   "cell_type": "markdown",
   "id": "4f50881f",
   "metadata": {},
   "source": [
    "nombre_infected       862\n",
    "nombre_sain          2271\n",
    "nombre_exposed        513\n",
    "nombre_recovered    16354\n",
    "Name: 488, dtype: int64"
   ]
  },
  {
   "cell_type": "markdown",
   "id": "6ab0942b",
   "metadata": {},
   "source": [
    "nombre_infected       862\n",
    "nombre_sain          2258\n",
    "nombre_exposed        521\n",
    "nombre_recovered    16359\n",
    "Name: 489, dtype: int64"
   ]
  },
  {
   "cell_type": "markdown",
   "id": "4ad36d1e",
   "metadata": {},
   "source": [
    "nombre_infected       877\n",
    "nombre_sain          2259\n",
    "nombre_exposed        540\n",
    "nombre_recovered    16324\n",
    "Name: 490, dtype: int64"
   ]
  },
  {
   "cell_type": "markdown",
   "id": "11889c34",
   "metadata": {},
   "source": [
    "nombre_infected       874\n",
    "nombre_sain          2255\n",
    "nombre_exposed        542\n",
    "nombre_recovered    16329\n",
    "Name: 491, dtype: int64"
   ]
  },
  {
   "cell_type": "markdown",
   "id": "3fa05840",
   "metadata": {},
   "source": [
    "nombre_infected       875\n",
    "nombre_sain          2280\n",
    "nombre_exposed        520\n",
    "nombre_recovered    16325\n",
    "Name: 492, dtype: int64"
   ]
  },
  {
   "cell_type": "markdown",
   "id": "c7e62f8b",
   "metadata": {},
   "source": [
    "nombre_infected       877\n",
    "nombre_sain          2294\n",
    "nombre_exposed        502\n",
    "nombre_recovered    16327\n",
    "Name: 493, dtype: int64"
   ]
  },
  {
   "cell_type": "markdown",
   "id": "57eeb952",
   "metadata": {},
   "source": [
    "nombre_infected       854\n",
    "nombre_sain          2297\n",
    "nombre_exposed        511\n",
    "nombre_recovered    16338\n",
    "Name: 494, dtype: int64"
   ]
  },
  {
   "cell_type": "markdown",
   "id": "5330c978",
   "metadata": {},
   "source": [
    "nombre_infected       834\n",
    "nombre_sain          2310\n",
    "nombre_exposed        491\n",
    "nombre_recovered    16365\n",
    "Name: 495, dtype: int64"
   ]
  },
  {
   "cell_type": "markdown",
   "id": "4d118d8f",
   "metadata": {},
   "source": [
    "nombre_infected       854\n",
    "nombre_sain          2323\n",
    "nombre_exposed        483\n",
    "nombre_recovered    16340\n",
    "Name: 496, dtype: int64"
   ]
  },
  {
   "cell_type": "markdown",
   "id": "21a86aa1",
   "metadata": {},
   "source": [
    "nombre_infected       819\n",
    "nombre_sain          2290\n",
    "nombre_exposed        509\n",
    "nombre_recovered    16382\n",
    "Name: 497, dtype: int64"
   ]
  },
  {
   "cell_type": "markdown",
   "id": "bceed801",
   "metadata": {},
   "source": [
    "nombre_infected       819\n",
    "nombre_sain          2322\n",
    "nombre_exposed        488\n",
    "nombre_recovered    16371\n",
    "Name: 498, dtype: int64"
   ]
  },
  {
   "cell_type": "markdown",
   "id": "d31358d2",
   "metadata": {},
   "source": [
    "nombre_infected       841\n",
    "nombre_sain          2366\n",
    "nombre_exposed        463\n",
    "nombre_recovered    16330\n",
    "Name: 499, dtype: int64"
   ]
  },
  {
   "cell_type": "markdown",
   "id": "5064cf22",
   "metadata": {},
   "source": [
    "nombre_infected       846\n",
    "nombre_sain          2357\n",
    "nombre_exposed        462\n",
    "nombre_recovered    16335\n",
    "Name: 500, dtype: int64"
   ]
  },
  {
   "cell_type": "markdown",
   "id": "a7aa6c7c",
   "metadata": {},
   "source": [
    "nombre_infected       834\n",
    "nombre_sain          2364\n",
    "nombre_exposed        460\n",
    "nombre_recovered    16342\n",
    "Name: 501, dtype: int64"
   ]
  },
  {
   "cell_type": "markdown",
   "id": "a28a18a7",
   "metadata": {},
   "source": [
    "nombre_infected       823\n",
    "nombre_sain          2377\n",
    "nombre_exposed        464\n",
    "nombre_recovered    16336\n",
    "Name: 502, dtype: int64"
   ]
  },
  {
   "cell_type": "markdown",
   "id": "730e7555",
   "metadata": {},
   "source": [
    "nombre_infected       793\n",
    "nombre_sain          2384\n",
    "nombre_exposed        469\n",
    "nombre_recovered    16354\n",
    "Name: 503, dtype: int64"
   ]
  },
  {
   "cell_type": "markdown",
   "id": "fb2217ce",
   "metadata": {},
   "source": [
    "nombre_infected       782\n",
    "nombre_sain          2387\n",
    "nombre_exposed        478\n",
    "nombre_recovered    16353\n",
    "Name: 504, dtype: int64"
   ]
  },
  {
   "cell_type": "markdown",
   "id": "96878bd2",
   "metadata": {},
   "source": [
    "nombre_infected       781\n",
    "nombre_sain          2395\n",
    "nombre_exposed        484\n",
    "nombre_recovered    16340\n",
    "Name: 505, dtype: int64"
   ]
  },
  {
   "cell_type": "markdown",
   "id": "dcd10c58",
   "metadata": {},
   "source": [
    "nombre_infected       775\n",
    "nombre_sain          2435\n",
    "nombre_exposed        472\n",
    "nombre_recovered    16318\n",
    "Name: 506, dtype: int64"
   ]
  },
  {
   "cell_type": "markdown",
   "id": "92adbba5",
   "metadata": {},
   "source": [
    "nombre_infected       781\n",
    "nombre_sain          2474\n",
    "nombre_exposed        460\n",
    "nombre_recovered    16285\n",
    "Name: 507, dtype: int64"
   ]
  },
  {
   "cell_type": "markdown",
   "id": "9868bc09",
   "metadata": {},
   "source": [
    "nombre_infected       765\n",
    "nombre_sain          2510\n",
    "nombre_exposed        452\n",
    "nombre_recovered    16273\n",
    "Name: 508, dtype: int64"
   ]
  },
  {
   "cell_type": "markdown",
   "id": "c0ba345c",
   "metadata": {},
   "source": [
    "nombre_infected       742\n",
    "nombre_sain          2551\n",
    "nombre_exposed        474\n",
    "nombre_recovered    16233\n",
    "Name: 509, dtype: int64"
   ]
  },
  {
   "cell_type": "markdown",
   "id": "4dbd1470",
   "metadata": {},
   "source": [
    "nombre_infected       753\n",
    "nombre_sain          2553\n",
    "nombre_exposed        479\n",
    "nombre_recovered    16215\n",
    "Name: 510, dtype: int64"
   ]
  },
  {
   "cell_type": "markdown",
   "id": "a8b9e9df",
   "metadata": {},
   "source": [
    "nombre_infected       752\n",
    "nombre_sain          2593\n",
    "nombre_exposed        484\n",
    "nombre_recovered    16171\n",
    "Name: 511, dtype: int64"
   ]
  },
  {
   "cell_type": "markdown",
   "id": "15836302",
   "metadata": {},
   "source": [
    "nombre_infected       773\n",
    "nombre_sain          2608\n",
    "nombre_exposed        465\n",
    "nombre_recovered    16154\n",
    "Name: 512, dtype: int64"
   ]
  },
  {
   "cell_type": "markdown",
   "id": "47d1c580",
   "metadata": {},
   "source": [
    "nombre_infected       790\n",
    "nombre_sain          2621\n",
    "nombre_exposed        469\n",
    "nombre_recovered    16120\n",
    "Name: 513, dtype: int64"
   ]
  },
  {
   "cell_type": "markdown",
   "id": "f69019e3",
   "metadata": {},
   "source": [
    "nombre_infected       777\n",
    "nombre_sain          2631\n",
    "nombre_exposed        497\n",
    "nombre_recovered    16095\n",
    "Name: 514, dtype: int64"
   ]
  },
  {
   "cell_type": "markdown",
   "id": "12998a4f",
   "metadata": {},
   "source": [
    "nombre_infected       741\n",
    "nombre_sain          2656\n",
    "nombre_exposed        508\n",
    "nombre_recovered    16095\n",
    "Name: 515, dtype: int64"
   ]
  },
  {
   "cell_type": "markdown",
   "id": "2f479fc8",
   "metadata": {},
   "source": [
    "nombre_infected       765\n",
    "nombre_sain          2632\n",
    "nombre_exposed        519\n",
    "nombre_recovered    16084\n",
    "Name: 516, dtype: int64"
   ]
  },
  {
   "cell_type": "markdown",
   "id": "efeac3ef",
   "metadata": {},
   "source": [
    "nombre_infected       784\n",
    "nombre_sain          2658\n",
    "nombre_exposed        512\n",
    "nombre_recovered    16046\n",
    "Name: 517, dtype: int64"
   ]
  },
  {
   "cell_type": "markdown",
   "id": "1ea73015",
   "metadata": {},
   "source": [
    "nombre_infected       792\n",
    "nombre_sain          2650\n",
    "nombre_exposed        516\n",
    "nombre_recovered    16042\n",
    "Name: 518, dtype: int64"
   ]
  },
  {
   "cell_type": "markdown",
   "id": "407ef34e",
   "metadata": {},
   "source": [
    "nombre_infected       787\n",
    "nombre_sain          2636\n",
    "nombre_exposed        527\n",
    "nombre_recovered    16050\n",
    "Name: 519, dtype: int64"
   ]
  },
  {
   "cell_type": "markdown",
   "id": "e9c72f3b",
   "metadata": {},
   "source": [
    "nombre_infected       768\n",
    "nombre_sain          2648\n",
    "nombre_exposed        543\n",
    "nombre_recovered    16041\n",
    "Name: 520, dtype: int64"
   ]
  },
  {
   "cell_type": "markdown",
   "id": "a88db03f",
   "metadata": {},
   "source": [
    "nombre_infected       778\n",
    "nombre_sain          2621\n",
    "nombre_exposed        555\n",
    "nombre_recovered    16046\n",
    "Name: 521, dtype: int64"
   ]
  },
  {
   "cell_type": "markdown",
   "id": "e29044af",
   "metadata": {},
   "source": [
    "nombre_infected       787\n",
    "nombre_sain          2617\n",
    "nombre_exposed        562\n",
    "nombre_recovered    16034\n",
    "Name: 522, dtype: int64"
   ]
  },
  {
   "cell_type": "markdown",
   "id": "f520527c",
   "metadata": {},
   "source": [
    "nombre_infected       800\n",
    "nombre_sain          2602\n",
    "nombre_exposed        573\n",
    "nombre_recovered    16025\n",
    "Name: 523, dtype: int64"
   ]
  },
  {
   "cell_type": "markdown",
   "id": "0d6f6db4",
   "metadata": {},
   "source": [
    "nombre_infected       818\n",
    "nombre_sain          2598\n",
    "nombre_exposed        566\n",
    "nombre_recovered    16018\n",
    "Name: 524, dtype: int64"
   ]
  },
  {
   "cell_type": "markdown",
   "id": "906ca1f5",
   "metadata": {},
   "source": [
    "nombre_infected       821\n",
    "nombre_sain          2574\n",
    "nombre_exposed        564\n",
    "nombre_recovered    16041\n",
    "Name: 525, dtype: int64"
   ]
  },
  {
   "cell_type": "markdown",
   "id": "75eddba1",
   "metadata": {},
   "source": [
    "nombre_infected       831\n",
    "nombre_sain          2589\n",
    "nombre_exposed        550\n",
    "nombre_recovered    16030\n",
    "Name: 526, dtype: int64"
   ]
  },
  {
   "cell_type": "markdown",
   "id": "a7d3b731",
   "metadata": {},
   "source": [
    "nombre_infected       851\n",
    "nombre_sain          2594\n",
    "nombre_exposed        530\n",
    "nombre_recovered    16025\n",
    "Name: 527, dtype: int64"
   ]
  },
  {
   "cell_type": "markdown",
   "id": "b14c8c20",
   "metadata": {},
   "source": [
    "nombre_infected       842\n",
    "nombre_sain          2599\n",
    "nombre_exposed        547\n",
    "nombre_recovered    16012\n",
    "Name: 528, dtype: int64"
   ]
  },
  {
   "cell_type": "markdown",
   "id": "d2ad8139",
   "metadata": {},
   "source": [
    "nombre_infected       840\n",
    "nombre_sain          2592\n",
    "nombre_exposed        555\n",
    "nombre_recovered    16013\n",
    "Name: 529, dtype: int64"
   ]
  },
  {
   "cell_type": "markdown",
   "id": "c7df0219",
   "metadata": {},
   "source": [
    "nombre_infected       861\n",
    "nombre_sain          2567\n",
    "nombre_exposed        550\n",
    "nombre_recovered    16022\n",
    "Name: 530, dtype: int64"
   ]
  },
  {
   "cell_type": "markdown",
   "id": "e7a35942",
   "metadata": {},
   "source": [
    "nombre_infected       865\n",
    "nombre_sain          2562\n",
    "nombre_exposed        560\n",
    "nombre_recovered    16013\n",
    "Name: 531, dtype: int64"
   ]
  },
  {
   "cell_type": "markdown",
   "id": "b8a5e993",
   "metadata": {},
   "source": [
    "nombre_infected       882\n",
    "nombre_sain          2558\n",
    "nombre_exposed        550\n",
    "nombre_recovered    16010\n",
    "Name: 532, dtype: int64"
   ]
  },
  {
   "cell_type": "markdown",
   "id": "d3a74ff4",
   "metadata": {},
   "source": [
    "nombre_infected       889\n",
    "nombre_sain          2570\n",
    "nombre_exposed        566\n",
    "nombre_recovered    15975\n",
    "Name: 533, dtype: int64"
   ]
  },
  {
   "cell_type": "markdown",
   "id": "c3c8af53",
   "metadata": {},
   "source": [
    "nombre_infected       905\n",
    "nombre_sain          2557\n",
    "nombre_exposed        563\n",
    "nombre_recovered    15975\n",
    "Name: 534, dtype: int64"
   ]
  },
  {
   "cell_type": "markdown",
   "id": "8b35d979",
   "metadata": {},
   "source": [
    "nombre_infected       913\n",
    "nombre_sain          2501\n",
    "nombre_exposed        589\n",
    "nombre_recovered    15997\n",
    "Name: 535, dtype: int64"
   ]
  },
  {
   "cell_type": "markdown",
   "id": "d39cedfc",
   "metadata": {},
   "source": [
    "nombre_infected       884\n",
    "nombre_sain          2504\n",
    "nombre_exposed        597\n",
    "nombre_recovered    16015\n",
    "Name: 536, dtype: int64"
   ]
  },
  {
   "cell_type": "markdown",
   "id": "dc89e34e",
   "metadata": {},
   "source": [
    "nombre_infected       906\n",
    "nombre_sain          2515\n",
    "nombre_exposed        574\n",
    "nombre_recovered    16005\n",
    "Name: 537, dtype: int64"
   ]
  },
  {
   "cell_type": "markdown",
   "id": "26a6decb",
   "metadata": {},
   "source": [
    "nombre_infected       939\n",
    "nombre_sain          2530\n",
    "nombre_exposed        557\n",
    "nombre_recovered    15974\n",
    "Name: 538, dtype: int64"
   ]
  },
  {
   "cell_type": "markdown",
   "id": "ec5f2441",
   "metadata": {},
   "source": [
    "nombre_infected       932\n",
    "nombre_sain          2494\n",
    "nombre_exposed        575\n",
    "nombre_recovered    15999\n",
    "Name: 539, dtype: int64"
   ]
  },
  {
   "cell_type": "markdown",
   "id": "45707bd3",
   "metadata": {},
   "source": [
    "nombre_infected       956\n",
    "nombre_sain          2497\n",
    "nombre_exposed        574\n",
    "nombre_recovered    15973\n",
    "Name: 540, dtype: int64"
   ]
  },
  {
   "cell_type": "markdown",
   "id": "e48c0e20",
   "metadata": {},
   "source": [
    "nombre_infected       951\n",
    "nombre_sain          2467\n",
    "nombre_exposed        586\n",
    "nombre_recovered    15996\n",
    "Name: 541, dtype: int64"
   ]
  },
  {
   "cell_type": "markdown",
   "id": "2928083c",
   "metadata": {},
   "source": [
    "nombre_infected       958\n",
    "nombre_sain          2434\n",
    "nombre_exposed        601\n",
    "nombre_recovered    16007\n",
    "Name: 542, dtype: int64"
   ]
  },
  {
   "cell_type": "markdown",
   "id": "1b93309a",
   "metadata": {},
   "source": [
    "nombre_infected       955\n",
    "nombre_sain          2403\n",
    "nombre_exposed        626\n",
    "nombre_recovered    16016\n",
    "Name: 543, dtype: int64"
   ]
  },
  {
   "cell_type": "markdown",
   "id": "29c9ba0b",
   "metadata": {},
   "source": [
    "nombre_infected       953\n",
    "nombre_sain          2383\n",
    "nombre_exposed        640\n",
    "nombre_recovered    16024\n",
    "Name: 544, dtype: int64"
   ]
  },
  {
   "cell_type": "markdown",
   "id": "23cc90f4",
   "metadata": {},
   "source": [
    "nombre_infected       963\n",
    "nombre_sain          2361\n",
    "nombre_exposed        660\n",
    "nombre_recovered    16016\n",
    "Name: 545, dtype: int64"
   ]
  },
  {
   "cell_type": "markdown",
   "id": "684b3f2f",
   "metadata": {},
   "source": [
    "nombre_infected       974\n",
    "nombre_sain          2359\n",
    "nombre_exposed        660\n",
    "nombre_recovered    16007\n",
    "Name: 546, dtype: int64"
   ]
  },
  {
   "cell_type": "markdown",
   "id": "ef184bbd",
   "metadata": {},
   "source": [
    "nombre_infected      1014\n",
    "nombre_sain          2320\n",
    "nombre_exposed        649\n",
    "nombre_recovered    16017\n",
    "Name: 547, dtype: int64"
   ]
  },
  {
   "cell_type": "markdown",
   "id": "8da3d49d",
   "metadata": {},
   "source": [
    "nombre_infected      1027\n",
    "nombre_sain          2295\n",
    "nombre_exposed        653\n",
    "nombre_recovered    16025\n",
    "Name: 548, dtype: int64"
   ]
  },
  {
   "cell_type": "markdown",
   "id": "3d732d02",
   "metadata": {},
   "source": [
    "nombre_infected      1032\n",
    "nombre_sain          2233\n",
    "nombre_exposed        669\n",
    "nombre_recovered    16066\n",
    "Name: 549, dtype: int64"
   ]
  },
  {
   "cell_type": "markdown",
   "id": "88ba504f",
   "metadata": {},
   "source": [
    "nombre_infected      1041\n",
    "nombre_sain          2199\n",
    "nombre_exposed        694\n",
    "nombre_recovered    16066\n",
    "Name: 550, dtype: int64"
   ]
  },
  {
   "cell_type": "markdown",
   "id": "307d225c",
   "metadata": {},
   "source": [
    "nombre_infected      1053\n",
    "nombre_sain          2202\n",
    "nombre_exposed        660\n",
    "nombre_recovered    16085\n",
    "Name: 551, dtype: int64"
   ]
  },
  {
   "cell_type": "markdown",
   "id": "f3e9d3aa",
   "metadata": {},
   "source": [
    "nombre_infected      1075\n",
    "nombre_sain          2186\n",
    "nombre_exposed        636\n",
    "nombre_recovered    16103\n",
    "Name: 552, dtype: int64"
   ]
  },
  {
   "cell_type": "markdown",
   "id": "c1af9935",
   "metadata": {},
   "source": [
    "nombre_infected      1081\n",
    "nombre_sain          2166\n",
    "nombre_exposed        631\n",
    "nombre_recovered    16122\n",
    "Name: 553, dtype: int64"
   ]
  },
  {
   "cell_type": "markdown",
   "id": "fb9a4fe8",
   "metadata": {},
   "source": [
    "nombre_infected      1080\n",
    "nombre_sain          2145\n",
    "nombre_exposed        619\n",
    "nombre_recovered    16156\n",
    "Name: 554, dtype: int64"
   ]
  },
  {
   "cell_type": "markdown",
   "id": "322c99cd",
   "metadata": {},
   "source": [
    "nombre_infected      1078\n",
    "nombre_sain          2136\n",
    "nombre_exposed        606\n",
    "nombre_recovered    16180\n",
    "Name: 555, dtype: int64"
   ]
  },
  {
   "cell_type": "markdown",
   "id": "ccf224b9",
   "metadata": {},
   "source": [
    "nombre_infected      1067\n",
    "nombre_sain          2129\n",
    "nombre_exposed        588\n",
    "nombre_recovered    16216\n",
    "Name: 556, dtype: int64"
   ]
  },
  {
   "cell_type": "markdown",
   "id": "c211cdd5",
   "metadata": {},
   "source": [
    "nombre_infected      1055\n",
    "nombre_sain          2119\n",
    "nombre_exposed        579\n",
    "nombre_recovered    16247\n",
    "Name: 557, dtype: int64"
   ]
  },
  {
   "cell_type": "markdown",
   "id": "fa5b1c22",
   "metadata": {},
   "source": [
    "nombre_infected      1044\n",
    "nombre_sain          2094\n",
    "nombre_exposed        601\n",
    "nombre_recovered    16261\n",
    "Name: 558, dtype: int64"
   ]
  },
  {
   "cell_type": "markdown",
   "id": "3c03a7bb",
   "metadata": {},
   "source": [
    "nombre_infected      1025\n",
    "nombre_sain          2113\n",
    "nombre_exposed        599\n",
    "nombre_recovered    16263\n",
    "Name: 559, dtype: int64"
   ]
  },
  {
   "cell_type": "markdown",
   "id": "9f8a48fb",
   "metadata": {},
   "source": [
    "nombre_infected      1018\n",
    "nombre_sain          2141\n",
    "nombre_exposed        587\n",
    "nombre_recovered    16254\n",
    "Name: 560, dtype: int64"
   ]
  },
  {
   "cell_type": "markdown",
   "id": "c8ee19c8",
   "metadata": {},
   "source": [
    "nombre_infected      1010\n",
    "nombre_sain          2162\n",
    "nombre_exposed        584\n",
    "nombre_recovered    16244\n",
    "Name: 561, dtype: int64"
   ]
  },
  {
   "cell_type": "markdown",
   "id": "569b8afd",
   "metadata": {},
   "source": [
    "nombre_infected       998\n",
    "nombre_sain          2165\n",
    "nombre_exposed        567\n",
    "nombre_recovered    16270\n",
    "Name: 562, dtype: int64"
   ]
  },
  {
   "cell_type": "markdown",
   "id": "25a6b63e",
   "metadata": {},
   "source": [
    "nombre_infected      1004\n",
    "nombre_sain          2152\n",
    "nombre_exposed        547\n",
    "nombre_recovered    16297\n",
    "Name: 563, dtype: int64"
   ]
  },
  {
   "cell_type": "markdown",
   "id": "050a109d",
   "metadata": {},
   "source": [
    "nombre_infected      1000\n",
    "nombre_sain          2127\n",
    "nombre_exposed        562\n",
    "nombre_recovered    16311\n",
    "Name: 564, dtype: int64"
   ]
  },
  {
   "cell_type": "markdown",
   "id": "1e1a15d6",
   "metadata": {},
   "source": [
    "nombre_infected       955\n",
    "nombre_sain          2113\n",
    "nombre_exposed        597\n",
    "nombre_recovered    16335\n",
    "Name: 565, dtype: int64"
   ]
  },
  {
   "cell_type": "markdown",
   "id": "bcaac695",
   "metadata": {},
   "source": [
    "nombre_infected       955\n",
    "nombre_sain          2141\n",
    "nombre_exposed        562\n",
    "nombre_recovered    16342\n",
    "Name: 566, dtype: int64"
   ]
  },
  {
   "cell_type": "markdown",
   "id": "fbdb5777",
   "metadata": {},
   "source": [
    "nombre_infected       936\n",
    "nombre_sain          2135\n",
    "nombre_exposed        578\n",
    "nombre_recovered    16351\n",
    "Name: 567, dtype: int64"
   ]
  },
  {
   "cell_type": "markdown",
   "id": "e650192d",
   "metadata": {},
   "source": [
    "nombre_infected       942\n",
    "nombre_sain          2147\n",
    "nombre_exposed        557\n",
    "nombre_recovered    16354\n",
    "Name: 568, dtype: int64"
   ]
  },
  {
   "cell_type": "markdown",
   "id": "2e2d3104",
   "metadata": {},
   "source": [
    "nombre_infected       932\n",
    "nombre_sain          2160\n",
    "nombre_exposed        549\n",
    "nombre_recovered    16359\n",
    "Name: 569, dtype: int64"
   ]
  },
  {
   "cell_type": "markdown",
   "id": "4c17e675",
   "metadata": {},
   "source": [
    "nombre_infected       928\n",
    "nombre_sain          2173\n",
    "nombre_exposed        552\n",
    "nombre_recovered    16347\n",
    "Name: 570, dtype: int64"
   ]
  },
  {
   "cell_type": "markdown",
   "id": "bcef0d02",
   "metadata": {},
   "source": [
    "nombre_infected       914\n",
    "nombre_sain          2209\n",
    "nombre_exposed        525\n",
    "nombre_recovered    16352\n",
    "Name: 571, dtype: int64"
   ]
  },
  {
   "cell_type": "markdown",
   "id": "7b625fea",
   "metadata": {},
   "source": [
    "nombre_infected       900\n",
    "nombre_sain          2226\n",
    "nombre_exposed        530\n",
    "nombre_recovered    16344\n",
    "Name: 572, dtype: int64"
   ]
  },
  {
   "cell_type": "markdown",
   "id": "8c403f6f",
   "metadata": {},
   "source": [
    "nombre_infected       903\n",
    "nombre_sain          2213\n",
    "nombre_exposed        564\n",
    "nombre_recovered    16320\n",
    "Name: 573, dtype: int64"
   ]
  },
  {
   "cell_type": "markdown",
   "id": "a2efe622",
   "metadata": {},
   "source": [
    "nombre_infected       928\n",
    "nombre_sain          2217\n",
    "nombre_exposed        556\n",
    "nombre_recovered    16299\n",
    "Name: 574, dtype: int64"
   ]
  },
  {
   "cell_type": "markdown",
   "id": "f5d8079b",
   "metadata": {},
   "source": [
    "nombre_infected       935\n",
    "nombre_sain          2261\n",
    "nombre_exposed        522\n",
    "nombre_recovered    16282\n",
    "Name: 575, dtype: int64"
   ]
  },
  {
   "cell_type": "markdown",
   "id": "70913a70",
   "metadata": {},
   "source": [
    "nombre_infected       959\n",
    "nombre_sain          2267\n",
    "nombre_exposed        493\n",
    "nombre_recovered    16281\n",
    "Name: 576, dtype: int64"
   ]
  },
  {
   "cell_type": "markdown",
   "id": "9d33f9e1",
   "metadata": {},
   "source": [
    "nombre_infected       956\n",
    "nombre_sain          2277\n",
    "nombre_exposed        499\n",
    "nombre_recovered    16268\n",
    "Name: 577, dtype: int64"
   ]
  },
  {
   "cell_type": "markdown",
   "id": "12c341fa",
   "metadata": {},
   "source": [
    "nombre_infected       930\n",
    "nombre_sain          2285\n",
    "nombre_exposed        532\n",
    "nombre_recovered    16253\n",
    "Name: 578, dtype: int64"
   ]
  },
  {
   "cell_type": "markdown",
   "id": "09cf8ddb",
   "metadata": {},
   "source": [
    "nombre_infected       913\n",
    "nombre_sain          2317\n",
    "nombre_exposed        534\n",
    "nombre_recovered    16236\n",
    "Name: 579, dtype: int64"
   ]
  },
  {
   "cell_type": "markdown",
   "id": "a9516816",
   "metadata": {},
   "source": [
    "nombre_infected       886\n",
    "nombre_sain          2308\n",
    "nombre_exposed        547\n",
    "nombre_recovered    16259\n",
    "Name: 580, dtype: int64"
   ]
  },
  {
   "cell_type": "markdown",
   "id": "a022ecd4",
   "metadata": {},
   "source": [
    "nombre_infected       895\n",
    "nombre_sain          2326\n",
    "nombre_exposed        534\n",
    "nombre_recovered    16245\n",
    "Name: 581, dtype: int64"
   ]
  },
  {
   "cell_type": "markdown",
   "id": "88deb474",
   "metadata": {},
   "source": [
    "nombre_infected       909\n",
    "nombre_sain          2329\n",
    "nombre_exposed        559\n",
    "nombre_recovered    16203\n",
    "Name: 582, dtype: int64"
   ]
  },
  {
   "cell_type": "markdown",
   "id": "ef6535b2",
   "metadata": {},
   "source": [
    "nombre_infected       891\n",
    "nombre_sain          2339\n",
    "nombre_exposed        569\n",
    "nombre_recovered    16201\n",
    "Name: 583, dtype: int64"
   ]
  },
  {
   "cell_type": "markdown",
   "id": "c3ca8019",
   "metadata": {},
   "source": [
    "nombre_infected       900\n",
    "nombre_sain          2341\n",
    "nombre_exposed        570\n",
    "nombre_recovered    16189\n",
    "Name: 584, dtype: int64"
   ]
  },
  {
   "cell_type": "markdown",
   "id": "57712332",
   "metadata": {},
   "source": [
    "nombre_infected       918\n",
    "nombre_sain          2337\n",
    "nombre_exposed        574\n",
    "nombre_recovered    16171\n",
    "Name: 585, dtype: int64"
   ]
  },
  {
   "cell_type": "markdown",
   "id": "edb0158a",
   "metadata": {},
   "source": [
    "nombre_infected       946\n",
    "nombre_sain          2382\n",
    "nombre_exposed        536\n",
    "nombre_recovered    16136\n",
    "Name: 586, dtype: int64"
   ]
  },
  {
   "cell_type": "markdown",
   "id": "9a6fe54e",
   "metadata": {},
   "source": [
    "nombre_infected       972\n",
    "nombre_sain          2362\n",
    "nombre_exposed        514\n",
    "nombre_recovered    16152\n",
    "Name: 587, dtype: int64"
   ]
  },
  {
   "cell_type": "markdown",
   "id": "edcf908a",
   "metadata": {},
   "source": [
    "nombre_infected       966\n",
    "nombre_sain          2343\n",
    "nombre_exposed        524\n",
    "nombre_recovered    16167\n",
    "Name: 588, dtype: int64"
   ]
  },
  {
   "cell_type": "markdown",
   "id": "d196bf26",
   "metadata": {},
   "source": [
    "nombre_infected       948\n",
    "nombre_sain          2340\n",
    "nombre_exposed        539\n",
    "nombre_recovered    16173\n",
    "Name: 589, dtype: int64"
   ]
  },
  {
   "cell_type": "markdown",
   "id": "b7cce5ad",
   "metadata": {},
   "source": [
    "nombre_infected       945\n",
    "nombre_sain          2346\n",
    "nombre_exposed        542\n",
    "nombre_recovered    16167\n",
    "Name: 590, dtype: int64"
   ]
  },
  {
   "cell_type": "markdown",
   "id": "711e1ed2",
   "metadata": {},
   "source": [
    "nombre_infected       958\n",
    "nombre_sain          2309\n",
    "nombre_exposed        550\n",
    "nombre_recovered    16183\n",
    "Name: 591, dtype: int64"
   ]
  },
  {
   "cell_type": "markdown",
   "id": "6007ef74",
   "metadata": {},
   "source": [
    "nombre_infected       958\n",
    "nombre_sain          2303\n",
    "nombre_exposed        571\n",
    "nombre_recovered    16168\n",
    "Name: 592, dtype: int64"
   ]
  },
  {
   "cell_type": "markdown",
   "id": "0f399782",
   "metadata": {},
   "source": [
    "nombre_infected       937\n",
    "nombre_sain          2291\n",
    "nombre_exposed        581\n",
    "nombre_recovered    16191\n",
    "Name: 593, dtype: int64"
   ]
  },
  {
   "cell_type": "markdown",
   "id": "17b73b78",
   "metadata": {},
   "source": [
    "nombre_infected       946\n",
    "nombre_sain          2291\n",
    "nombre_exposed        569\n",
    "nombre_recovered    16194\n",
    "Name: 594, dtype: int64"
   ]
  },
  {
   "cell_type": "markdown",
   "id": "ce1b782b",
   "metadata": {},
   "source": [
    "nombre_infected       964\n",
    "nombre_sain          2280\n",
    "nombre_exposed        568\n",
    "nombre_recovered    16188\n",
    "Name: 595, dtype: int64"
   ]
  },
  {
   "cell_type": "markdown",
   "id": "c3629bb7",
   "metadata": {},
   "source": [
    "nombre_infected       967\n",
    "nombre_sain          2244\n",
    "nombre_exposed        568\n",
    "nombre_recovered    16221\n",
    "Name: 596, dtype: int64"
   ]
  },
  {
   "cell_type": "markdown",
   "id": "330519c7",
   "metadata": {},
   "source": [
    "nombre_infected       971\n",
    "nombre_sain          2218\n",
    "nombre_exposed        583\n",
    "nombre_recovered    16228\n",
    "Name: 597, dtype: int64"
   ]
  },
  {
   "cell_type": "markdown",
   "id": "ad73f376",
   "metadata": {},
   "source": [
    "nombre_infected      1000\n",
    "nombre_sain          2193\n",
    "nombre_exposed        589\n",
    "nombre_recovered    16218\n",
    "Name: 598, dtype: int64"
   ]
  },
  {
   "cell_type": "markdown",
   "id": "482639e7",
   "metadata": {},
   "source": [
    "nombre_infected       995\n",
    "nombre_sain          2222\n",
    "nombre_exposed        576\n",
    "nombre_recovered    16207\n",
    "Name: 599, dtype: int64"
   ]
  },
  {
   "cell_type": "markdown",
   "id": "b63b2abf",
   "metadata": {},
   "source": [
    "nombre_infected       999\n",
    "nombre_sain          2208\n",
    "nombre_exposed        583\n",
    "nombre_recovered    16210\n",
    "Name: 600, dtype: int64"
   ]
  },
  {
   "cell_type": "markdown",
   "id": "3ea205ed",
   "metadata": {},
   "source": [
    "nombre_infected      1018\n",
    "nombre_sain          2212\n",
    "nombre_exposed        561\n",
    "nombre_recovered    16209\n",
    "Name: 601, dtype: int64"
   ]
  },
  {
   "cell_type": "markdown",
   "id": "97a46ea2",
   "metadata": {},
   "source": [
    "nombre_infected      1027\n",
    "nombre_sain          2177\n",
    "nombre_exposed        582\n",
    "nombre_recovered    16214\n",
    "Name: 602, dtype: int64"
   ]
  },
  {
   "cell_type": "markdown",
   "id": "1ce1b573",
   "metadata": {},
   "source": [
    "nombre_infected      1027\n",
    "nombre_sain          2166\n",
    "nombre_exposed        590\n",
    "nombre_recovered    16217\n",
    "Name: 603, dtype: int64"
   ]
  },
  {
   "cell_type": "markdown",
   "id": "57934551",
   "metadata": {},
   "source": [
    "nombre_infected      1052\n",
    "nombre_sain          2129\n",
    "nombre_exposed        589\n",
    "nombre_recovered    16230\n",
    "Name: 604, dtype: int64"
   ]
  },
  {
   "cell_type": "markdown",
   "id": "5d88ecce",
   "metadata": {},
   "source": [
    "nombre_infected      1054\n",
    "nombre_sain          2107\n",
    "nombre_exposed        576\n",
    "nombre_recovered    16263\n",
    "Name: 605, dtype: int64"
   ]
  },
  {
   "cell_type": "markdown",
   "id": "93b5109e",
   "metadata": {},
   "source": [
    "nombre_infected      1041\n",
    "nombre_sain          2065\n",
    "nombre_exposed        586\n",
    "nombre_recovered    16308\n",
    "Name: 606, dtype: int64"
   ]
  },
  {
   "cell_type": "markdown",
   "id": "58dbf5f2",
   "metadata": {},
   "source": [
    "nombre_infected      1026\n",
    "nombre_sain          2071\n",
    "nombre_exposed        586\n",
    "nombre_recovered    16317\n",
    "Name: 607, dtype: int64"
   ]
  },
  {
   "cell_type": "markdown",
   "id": "095a4a7c",
   "metadata": {},
   "source": [
    "nombre_infected      1002\n",
    "nombre_sain          2041\n",
    "nombre_exposed        597\n",
    "nombre_recovered    16360\n",
    "Name: 608, dtype: int64"
   ]
  },
  {
   "cell_type": "markdown",
   "id": "f13ed527",
   "metadata": {},
   "source": [
    "nombre_infected       966\n",
    "nombre_sain          2000\n",
    "nombre_exposed        618\n",
    "nombre_recovered    16416\n",
    "Name: 609, dtype: int64"
   ]
  },
  {
   "cell_type": "markdown",
   "id": "f3b1ff22",
   "metadata": {},
   "source": [
    "nombre_infected      1005\n",
    "nombre_sain          1973\n",
    "nombre_exposed        578\n",
    "nombre_recovered    16444\n",
    "Name: 610, dtype: int64"
   ]
  },
  {
   "cell_type": "markdown",
   "id": "784487a6",
   "metadata": {},
   "source": [
    "nombre_infected      1001\n",
    "nombre_sain          1993\n",
    "nombre_exposed        557\n",
    "nombre_recovered    16449\n",
    "Name: 611, dtype: int64"
   ]
  },
  {
   "cell_type": "markdown",
   "id": "d13c670c",
   "metadata": {},
   "source": [
    "nombre_infected      1018\n",
    "nombre_sain          1970\n",
    "nombre_exposed        538\n",
    "nombre_recovered    16474\n",
    "Name: 612, dtype: int64"
   ]
  },
  {
   "cell_type": "markdown",
   "id": "9a87fd94",
   "metadata": {},
   "source": [
    "nombre_infected      1028\n",
    "nombre_sain          1936\n",
    "nombre_exposed        531\n",
    "nombre_recovered    16505\n",
    "Name: 613, dtype: int64"
   ]
  },
  {
   "cell_type": "markdown",
   "id": "96d95fa9",
   "metadata": {},
   "source": [
    "nombre_infected       990\n",
    "nombre_sain          1939\n",
    "nombre_exposed        547\n",
    "nombre_recovered    16524\n",
    "Name: 614, dtype: int64"
   ]
  },
  {
   "cell_type": "markdown",
   "id": "4362c05e",
   "metadata": {},
   "source": [
    "nombre_infected       975\n",
    "nombre_sain          1933\n",
    "nombre_exposed        527\n",
    "nombre_recovered    16565\n",
    "Name: 615, dtype: int64"
   ]
  },
  {
   "cell_type": "markdown",
   "id": "e2b00867",
   "metadata": {},
   "source": [
    "nombre_infected       966\n",
    "nombre_sain          1929\n",
    "nombre_exposed        518\n",
    "nombre_recovered    16587\n",
    "Name: 616, dtype: int64"
   ]
  },
  {
   "cell_type": "markdown",
   "id": "6bc82c74",
   "metadata": {},
   "source": [
    "nombre_infected       956\n",
    "nombre_sain          1957\n",
    "nombre_exposed        492\n",
    "nombre_recovered    16595\n",
    "Name: 617, dtype: int64"
   ]
  },
  {
   "cell_type": "markdown",
   "id": "10eb1f44",
   "metadata": {},
   "source": [
    "nombre_infected       934\n",
    "nombre_sain          1969\n",
    "nombre_exposed        472\n",
    "nombre_recovered    16625\n",
    "Name: 618, dtype: int64"
   ]
  },
  {
   "cell_type": "markdown",
   "id": "ed3ae683",
   "metadata": {},
   "source": [
    "nombre_infected       903\n",
    "nombre_sain          1981\n",
    "nombre_exposed        475\n",
    "nombre_recovered    16641\n",
    "Name: 619, dtype: int64"
   ]
  },
  {
   "cell_type": "markdown",
   "id": "c44cfad5",
   "metadata": {},
   "source": [
    "nombre_infected       885\n",
    "nombre_sain          1944\n",
    "nombre_exposed        511\n",
    "nombre_recovered    16660\n",
    "Name: 620, dtype: int64"
   ]
  },
  {
   "cell_type": "markdown",
   "id": "eeda3b76",
   "metadata": {},
   "source": [
    "nombre_infected       850\n",
    "nombre_sain          1977\n",
    "nombre_exposed        528\n",
    "nombre_recovered    16645\n",
    "Name: 621, dtype: int64"
   ]
  },
  {
   "cell_type": "markdown",
   "id": "45ac10ae",
   "metadata": {},
   "source": [
    "nombre_infected       849\n",
    "nombre_sain          1980\n",
    "nombre_exposed        513\n",
    "nombre_recovered    16658\n",
    "Name: 622, dtype: int64"
   ]
  },
  {
   "cell_type": "markdown",
   "id": "bc35ce32",
   "metadata": {},
   "source": [
    "nombre_infected       850\n",
    "nombre_sain          2039\n",
    "nombre_exposed        479\n",
    "nombre_recovered    16632\n",
    "Name: 623, dtype: int64"
   ]
  },
  {
   "cell_type": "markdown",
   "id": "3063cdb4",
   "metadata": {},
   "source": [
    "nombre_infected       859\n",
    "nombre_sain          2046\n",
    "nombre_exposed        481\n",
    "nombre_recovered    16614\n",
    "Name: 624, dtype: int64"
   ]
  },
  {
   "cell_type": "markdown",
   "id": "e780cebf",
   "metadata": {},
   "source": [
    "nombre_infected       824\n",
    "nombre_sain          2065\n",
    "nombre_exposed        486\n",
    "nombre_recovered    16625\n",
    "Name: 625, dtype: int64"
   ]
  },
  {
   "cell_type": "markdown",
   "id": "d996f71a",
   "metadata": {},
   "source": [
    "nombre_infected       802\n",
    "nombre_sain          2104\n",
    "nombre_exposed        479\n",
    "nombre_recovered    16615\n",
    "Name: 626, dtype: int64"
   ]
  },
  {
   "cell_type": "markdown",
   "id": "bdfe8404",
   "metadata": {},
   "source": [
    "nombre_infected       784\n",
    "nombre_sain          2124\n",
    "nombre_exposed        477\n",
    "nombre_recovered    16615\n",
    "Name: 627, dtype: int64"
   ]
  },
  {
   "cell_type": "markdown",
   "id": "4dde6911",
   "metadata": {},
   "source": [
    "nombre_infected       812\n",
    "nombre_sain          2142\n",
    "nombre_exposed        453\n",
    "nombre_recovered    16593\n",
    "Name: 628, dtype: int64"
   ]
  },
  {
   "cell_type": "markdown",
   "id": "0cf137ce",
   "metadata": {},
   "source": [
    "nombre_infected       811\n",
    "nombre_sain          2167\n",
    "nombre_exposed        461\n",
    "nombre_recovered    16561\n",
    "Name: 629, dtype: int64"
   ]
  },
  {
   "cell_type": "markdown",
   "id": "5d198e09",
   "metadata": {},
   "source": [
    "nombre_infected       814\n",
    "nombre_sain          2184\n",
    "nombre_exposed        448\n",
    "nombre_recovered    16554\n",
    "Name: 630, dtype: int64"
   ]
  },
  {
   "cell_type": "markdown",
   "id": "c5660dd6",
   "metadata": {},
   "source": [
    "nombre_infected       788\n",
    "nombre_sain          2196\n",
    "nombre_exposed        450\n",
    "nombre_recovered    16566\n",
    "Name: 631, dtype: int64"
   ]
  },
  {
   "cell_type": "markdown",
   "id": "a7df4cf2",
   "metadata": {},
   "source": [
    "nombre_infected       791\n",
    "nombre_sain          2202\n",
    "nombre_exposed        450\n",
    "nombre_recovered    16557\n",
    "Name: 632, dtype: int64"
   ]
  },
  {
   "cell_type": "markdown",
   "id": "16682183",
   "metadata": {},
   "source": [
    "nombre_infected       796\n",
    "nombre_sain          2222\n",
    "nombre_exposed        456\n",
    "nombre_recovered    16526\n",
    "Name: 633, dtype: int64"
   ]
  },
  {
   "cell_type": "markdown",
   "id": "679e94e0",
   "metadata": {},
   "source": [
    "nombre_infected       799\n",
    "nombre_sain          2259\n",
    "nombre_exposed        441\n",
    "nombre_recovered    16501\n",
    "Name: 634, dtype: int64"
   ]
  },
  {
   "cell_type": "markdown",
   "id": "e67508ee",
   "metadata": {},
   "source": [
    "nombre_infected       770\n",
    "nombre_sain          2229\n",
    "nombre_exposed        479\n",
    "nombre_recovered    16522\n",
    "Name: 635, dtype: int64"
   ]
  },
  {
   "cell_type": "markdown",
   "id": "84e5c178",
   "metadata": {},
   "source": [
    "nombre_infected       788\n",
    "nombre_sain          2234\n",
    "nombre_exposed        461\n",
    "nombre_recovered    16517\n",
    "Name: 636, dtype: int64"
   ]
  },
  {
   "cell_type": "markdown",
   "id": "71a69a7c",
   "metadata": {},
   "source": [
    "nombre_infected       775\n",
    "nombre_sain          2242\n",
    "nombre_exposed        478\n",
    "nombre_recovered    16505\n",
    "Name: 637, dtype: int64"
   ]
  },
  {
   "cell_type": "markdown",
   "id": "c88e500c",
   "metadata": {},
   "source": [
    "nombre_infected       766\n",
    "nombre_sain          2242\n",
    "nombre_exposed        482\n",
    "nombre_recovered    16510\n",
    "Name: 638, dtype: int64"
   ]
  },
  {
   "cell_type": "markdown",
   "id": "1d5a5a4c",
   "metadata": {},
   "source": [
    "nombre_infected       775\n",
    "nombre_sain          2244\n",
    "nombre_exposed        482\n",
    "nombre_recovered    16499\n",
    "Name: 639, dtype: int64"
   ]
  },
  {
   "cell_type": "markdown",
   "id": "47a8b63b",
   "metadata": {},
   "source": [
    "nombre_infected       785\n",
    "nombre_sain          2256\n",
    "nombre_exposed        457\n",
    "nombre_recovered    16502\n",
    "Name: 640, dtype: int64"
   ]
  },
  {
   "cell_type": "markdown",
   "id": "384989c0",
   "metadata": {},
   "source": [
    "nombre_infected       798\n",
    "nombre_sain          2260\n",
    "nombre_exposed        444\n",
    "nombre_recovered    16498\n",
    "Name: 641, dtype: int64"
   ]
  },
  {
   "cell_type": "markdown",
   "id": "ba24d0b9",
   "metadata": {},
   "source": [
    "nombre_infected       807\n",
    "nombre_sain          2281\n",
    "nombre_exposed        431\n",
    "nombre_recovered    16481\n",
    "Name: 642, dtype: int64"
   ]
  },
  {
   "cell_type": "markdown",
   "id": "06c44094",
   "metadata": {},
   "source": [
    "nombre_infected       806\n",
    "nombre_sain          2272\n",
    "nombre_exposed        448\n",
    "nombre_recovered    16474\n",
    "Name: 643, dtype: int64"
   ]
  },
  {
   "cell_type": "markdown",
   "id": "f7ae2883",
   "metadata": {},
   "source": [
    "nombre_infected       789\n",
    "nombre_sain          2298\n",
    "nombre_exposed        471\n",
    "nombre_recovered    16442\n",
    "Name: 644, dtype: int64"
   ]
  },
  {
   "cell_type": "markdown",
   "id": "e105d63c",
   "metadata": {},
   "source": [
    "nombre_infected       753\n",
    "nombre_sain          2280\n",
    "nombre_exposed        509\n",
    "nombre_recovered    16458\n",
    "Name: 645, dtype: int64"
   ]
  },
  {
   "cell_type": "markdown",
   "id": "b83a8182",
   "metadata": {},
   "source": [
    "nombre_infected       751\n",
    "nombre_sain          2286\n",
    "nombre_exposed        493\n",
    "nombre_recovered    16470\n",
    "Name: 646, dtype: int64"
   ]
  },
  {
   "cell_type": "markdown",
   "id": "533bdebc",
   "metadata": {},
   "source": [
    "nombre_infected       780\n",
    "nombre_sain          2294\n",
    "nombre_exposed        476\n",
    "nombre_recovered    16450\n",
    "Name: 647, dtype: int64"
   ]
  },
  {
   "cell_type": "markdown",
   "id": "9a41028a",
   "metadata": {},
   "source": [
    "nombre_infected       764\n",
    "nombre_sain          2289\n",
    "nombre_exposed        510\n",
    "nombre_recovered    16437\n",
    "Name: 648, dtype: int64"
   ]
  },
  {
   "cell_type": "markdown",
   "id": "5cd699fc",
   "metadata": {},
   "source": [
    "nombre_infected       773\n",
    "nombre_sain          2274\n",
    "nombre_exposed        516\n",
    "nombre_recovered    16437\n",
    "Name: 649, dtype: int64"
   ]
  },
  {
   "cell_type": "markdown",
   "id": "fc479294",
   "metadata": {},
   "source": [
    "nombre_infected       773\n",
    "nombre_sain          2255\n",
    "nombre_exposed        526\n",
    "nombre_recovered    16446\n",
    "Name: 650, dtype: int64"
   ]
  },
  {
   "cell_type": "markdown",
   "id": "41b1fead",
   "metadata": {},
   "source": [
    "nombre_infected       775\n",
    "nombre_sain          2268\n",
    "nombre_exposed        521\n",
    "nombre_recovered    16436\n",
    "Name: 651, dtype: int64"
   ]
  },
  {
   "cell_type": "markdown",
   "id": "e6f1fc72",
   "metadata": {},
   "source": [
    "nombre_infected       791\n",
    "nombre_sain          2253\n",
    "nombre_exposed        507\n",
    "nombre_recovered    16449\n",
    "Name: 652, dtype: int64"
   ]
  },
  {
   "cell_type": "markdown",
   "id": "4a6e0bc7",
   "metadata": {},
   "source": [
    "nombre_infected       806\n",
    "nombre_sain          2232\n",
    "nombre_exposed        498\n",
    "nombre_recovered    16464\n",
    "Name: 653, dtype: int64"
   ]
  },
  {
   "cell_type": "markdown",
   "id": "59152ade",
   "metadata": {},
   "source": [
    "nombre_infected       800\n",
    "nombre_sain          2252\n",
    "nombre_exposed        476\n",
    "nombre_recovered    16472\n",
    "Name: 654, dtype: int64"
   ]
  },
  {
   "cell_type": "markdown",
   "id": "013455ab",
   "metadata": {},
   "source": [
    "nombre_infected       805\n",
    "nombre_sain          2235\n",
    "nombre_exposed        489\n",
    "nombre_recovered    16471\n",
    "Name: 655, dtype: int64"
   ]
  },
  {
   "cell_type": "markdown",
   "id": "70fc69c6",
   "metadata": {},
   "source": [
    "nombre_infected       824\n",
    "nombre_sain          2223\n",
    "nombre_exposed        470\n",
    "nombre_recovered    16483\n",
    "Name: 656, dtype: int64"
   ]
  },
  {
   "cell_type": "markdown",
   "id": "2d6548d8",
   "metadata": {},
   "source": [
    "nombre_infected       841\n",
    "nombre_sain          2220\n",
    "nombre_exposed        485\n",
    "nombre_recovered    16454\n",
    "Name: 657, dtype: int64"
   ]
  },
  {
   "cell_type": "markdown",
   "id": "880ac7b4",
   "metadata": {},
   "source": [
    "nombre_infected       823\n",
    "nombre_sain          2210\n",
    "nombre_exposed        492\n",
    "nombre_recovered    16475\n",
    "Name: 658, dtype: int64"
   ]
  },
  {
   "cell_type": "markdown",
   "id": "dd2c878e",
   "metadata": {},
   "source": [
    "nombre_infected       840\n",
    "nombre_sain          2207\n",
    "nombre_exposed        476\n",
    "nombre_recovered    16477\n",
    "Name: 659, dtype: int64"
   ]
  },
  {
   "cell_type": "markdown",
   "id": "16c4b144",
   "metadata": {},
   "source": [
    "nombre_infected       855\n",
    "nombre_sain          2198\n",
    "nombre_exposed        458\n",
    "nombre_recovered    16489\n",
    "Name: 660, dtype: int64"
   ]
  },
  {
   "cell_type": "markdown",
   "id": "f32d2248",
   "metadata": {},
   "source": [
    "nombre_infected       849\n",
    "nombre_sain          2193\n",
    "nombre_exposed        463\n",
    "nombre_recovered    16495\n",
    "Name: 661, dtype: int64"
   ]
  },
  {
   "cell_type": "markdown",
   "id": "8d89cda5",
   "metadata": {},
   "source": [
    "nombre_infected       842\n",
    "nombre_sain          2177\n",
    "nombre_exposed        482\n",
    "nombre_recovered    16499\n",
    "Name: 662, dtype: int64"
   ]
  },
  {
   "cell_type": "markdown",
   "id": "2f798e1b",
   "metadata": {},
   "source": [
    "nombre_infected       845\n",
    "nombre_sain          2186\n",
    "nombre_exposed        492\n",
    "nombre_recovered    16477\n",
    "Name: 663, dtype: int64"
   ]
  },
  {
   "cell_type": "markdown",
   "id": "117302bd",
   "metadata": {},
   "source": [
    "nombre_infected       851\n",
    "nombre_sain          2197\n",
    "nombre_exposed        492\n",
    "nombre_recovered    16460\n",
    "Name: 664, dtype: int64"
   ]
  },
  {
   "cell_type": "markdown",
   "id": "4f804c37",
   "metadata": {},
   "source": [
    "nombre_infected       843\n",
    "nombre_sain          2210\n",
    "nombre_exposed        506\n",
    "nombre_recovered    16441\n",
    "Name: 665, dtype: int64"
   ]
  },
  {
   "cell_type": "markdown",
   "id": "bad153ea",
   "metadata": {},
   "source": [
    "nombre_infected       838\n",
    "nombre_sain          2218\n",
    "nombre_exposed        483\n",
    "nombre_recovered    16461\n",
    "Name: 666, dtype: int64"
   ]
  },
  {
   "cell_type": "markdown",
   "id": "ef7544d6",
   "metadata": {},
   "source": [
    "nombre_infected       849\n",
    "nombre_sain          2252\n",
    "nombre_exposed        472\n",
    "nombre_recovered    16427\n",
    "Name: 667, dtype: int64"
   ]
  },
  {
   "cell_type": "markdown",
   "id": "27b9b214",
   "metadata": {},
   "source": [
    "nombre_infected       840\n",
    "nombre_sain          2256\n",
    "nombre_exposed        480\n",
    "nombre_recovered    16424\n",
    "Name: 668, dtype: int64"
   ]
  },
  {
   "cell_type": "markdown",
   "id": "fa383546",
   "metadata": {},
   "source": [
    "nombre_infected       826\n",
    "nombre_sain          2275\n",
    "nombre_exposed        481\n",
    "nombre_recovered    16418\n",
    "Name: 669, dtype: int64"
   ]
  },
  {
   "cell_type": "markdown",
   "id": "8440702e",
   "metadata": {},
   "source": [
    "nombre_infected       841\n",
    "nombre_sain          2291\n",
    "nombre_exposed        475\n",
    "nombre_recovered    16393\n",
    "Name: 670, dtype: int64"
   ]
  },
  {
   "cell_type": "markdown",
   "id": "8b98e9a9",
   "metadata": {},
   "source": [
    "nombre_infected       844\n",
    "nombre_sain          2273\n",
    "nombre_exposed        495\n",
    "nombre_recovered    16388\n",
    "Name: 671, dtype: int64"
   ]
  },
  {
   "cell_type": "markdown",
   "id": "17bb5606",
   "metadata": {},
   "source": [
    "nombre_infected       826\n",
    "nombre_sain          2296\n",
    "nombre_exposed        503\n",
    "nombre_recovered    16375\n",
    "Name: 672, dtype: int64"
   ]
  },
  {
   "cell_type": "markdown",
   "id": "bbf359d4",
   "metadata": {},
   "source": [
    "nombre_infected       841\n",
    "nombre_sain          2283\n",
    "nombre_exposed        499\n",
    "nombre_recovered    16377\n",
    "Name: 673, dtype: int64"
   ]
  },
  {
   "cell_type": "markdown",
   "id": "54457451",
   "metadata": {},
   "source": [
    "nombre_infected       812\n",
    "nombre_sain          2318\n",
    "nombre_exposed        481\n",
    "nombre_recovered    16389\n",
    "Name: 674, dtype: int64"
   ]
  },
  {
   "cell_type": "markdown",
   "id": "312106b2",
   "metadata": {},
   "source": [
    "nombre_infected       815\n",
    "nombre_sain          2317\n",
    "nombre_exposed        474\n",
    "nombre_recovered    16394\n",
    "Name: 675, dtype: int64"
   ]
  },
  {
   "cell_type": "markdown",
   "id": "98242953",
   "metadata": {},
   "source": [
    "nombre_infected       811\n",
    "nombre_sain          2308\n",
    "nombre_exposed        466\n",
    "nombre_recovered    16415\n",
    "Name: 676, dtype: int64"
   ]
  },
  {
   "cell_type": "markdown",
   "id": "56defdaf",
   "metadata": {},
   "source": [
    "nombre_infected       801\n",
    "nombre_sain          2302\n",
    "nombre_exposed        500\n",
    "nombre_recovered    16397\n",
    "Name: 677, dtype: int64"
   ]
  },
  {
   "cell_type": "markdown",
   "id": "019cacbc",
   "metadata": {},
   "source": [
    "nombre_infected       804\n",
    "nombre_sain          2294\n",
    "nombre_exposed        493\n",
    "nombre_recovered    16409\n",
    "Name: 678, dtype: int64"
   ]
  },
  {
   "cell_type": "markdown",
   "id": "bdcc91ca",
   "metadata": {},
   "source": [
    "nombre_infected       814\n",
    "nombre_sain          2303\n",
    "nombre_exposed        488\n",
    "nombre_recovered    16395\n",
    "Name: 679, dtype: int64"
   ]
  },
  {
   "cell_type": "markdown",
   "id": "16c75974",
   "metadata": {},
   "source": [
    "nombre_infected       812\n",
    "nombre_sain          2313\n",
    "nombre_exposed        480\n",
    "nombre_recovered    16395\n",
    "Name: 680, dtype: int64"
   ]
  },
  {
   "cell_type": "markdown",
   "id": "d9c0d25c",
   "metadata": {},
   "source": [
    "nombre_infected       832\n",
    "nombre_sain          2326\n",
    "nombre_exposed        477\n",
    "nombre_recovered    16365\n",
    "Name: 681, dtype: int64"
   ]
  },
  {
   "cell_type": "markdown",
   "id": "755ff240",
   "metadata": {},
   "source": [
    "nombre_infected       828\n",
    "nombre_sain          2363\n",
    "nombre_exposed        484\n",
    "nombre_recovered    16325\n",
    "Name: 682, dtype: int64"
   ]
  },
  {
   "cell_type": "markdown",
   "id": "427678cd",
   "metadata": {},
   "source": [
    "nombre_infected       830\n",
    "nombre_sain          2383\n",
    "nombre_exposed        497\n",
    "nombre_recovered    16290\n",
    "Name: 683, dtype: int64"
   ]
  },
  {
   "cell_type": "markdown",
   "id": "39d39d3c",
   "metadata": {},
   "source": [
    "nombre_infected       823\n",
    "nombre_sain          2395\n",
    "nombre_exposed        516\n",
    "nombre_recovered    16266\n",
    "Name: 684, dtype: int64"
   ]
  },
  {
   "cell_type": "markdown",
   "id": "6099ba59",
   "metadata": {},
   "source": [
    "nombre_infected       849\n",
    "nombre_sain          2398\n",
    "nombre_exposed        496\n",
    "nombre_recovered    16257\n",
    "Name: 685, dtype: int64"
   ]
  },
  {
   "cell_type": "markdown",
   "id": "2a817b7b",
   "metadata": {},
   "source": [
    "nombre_infected       852\n",
    "nombre_sain          2389\n",
    "nombre_exposed        502\n",
    "nombre_recovered    16257\n",
    "Name: 686, dtype: int64"
   ]
  },
  {
   "cell_type": "markdown",
   "id": "cca98a89",
   "metadata": {},
   "source": [
    "nombre_infected       830\n",
    "nombre_sain          2380\n",
    "nombre_exposed        541\n",
    "nombre_recovered    16249\n",
    "Name: 687, dtype: int64"
   ]
  },
  {
   "cell_type": "markdown",
   "id": "3b68287b",
   "metadata": {},
   "source": [
    "nombre_infected       845\n",
    "nombre_sain          2395\n",
    "nombre_exposed        554\n",
    "nombre_recovered    16206\n",
    "Name: 688, dtype: int64"
   ]
  },
  {
   "cell_type": "markdown",
   "id": "e1d77567",
   "metadata": {},
   "source": [
    "nombre_infected       897\n",
    "nombre_sain          2394\n",
    "nombre_exposed        525\n",
    "nombre_recovered    16184\n",
    "Name: 689, dtype: int64"
   ]
  },
  {
   "cell_type": "markdown",
   "id": "52749625",
   "metadata": {},
   "source": [
    "nombre_infected       911\n",
    "nombre_sain          2380\n",
    "nombre_exposed        537\n",
    "nombre_recovered    16172\n",
    "Name: 690, dtype: int64"
   ]
  },
  {
   "cell_type": "markdown",
   "id": "550e7626",
   "metadata": {},
   "source": [
    "nombre_infected       916\n",
    "nombre_sain          2395\n",
    "nombre_exposed        525\n",
    "nombre_recovered    16164\n",
    "Name: 691, dtype: int64"
   ]
  },
  {
   "cell_type": "markdown",
   "id": "6311f53c",
   "metadata": {},
   "source": [
    "nombre_infected       914\n",
    "nombre_sain          2420\n",
    "nombre_exposed        529\n",
    "nombre_recovered    16137\n",
    "Name: 692, dtype: int64"
   ]
  },
  {
   "cell_type": "markdown",
   "id": "c5bf2b63",
   "metadata": {},
   "source": [
    "nombre_infected       897\n",
    "nombre_sain          2421\n",
    "nombre_exposed        546\n",
    "nombre_recovered    16136\n",
    "Name: 693, dtype: int64"
   ]
  },
  {
   "cell_type": "markdown",
   "id": "f1558ea9",
   "metadata": {},
   "source": [
    "nombre_infected       890\n",
    "nombre_sain          2449\n",
    "nombre_exposed        542\n",
    "nombre_recovered    16119\n",
    "Name: 694, dtype: int64"
   ]
  },
  {
   "cell_type": "markdown",
   "id": "178b7fb9",
   "metadata": {},
   "source": [
    "nombre_infected       873\n",
    "nombre_sain          2471\n",
    "nombre_exposed        549\n",
    "nombre_recovered    16107\n",
    "Name: 695, dtype: int64"
   ]
  },
  {
   "cell_type": "markdown",
   "id": "61af616f",
   "metadata": {},
   "source": [
    "nombre_infected       912\n",
    "nombre_sain          2465\n",
    "nombre_exposed        522\n",
    "nombre_recovered    16101\n",
    "Name: 696, dtype: int64"
   ]
  },
  {
   "cell_type": "markdown",
   "id": "f30895f9",
   "metadata": {},
   "source": [
    "nombre_infected       940\n",
    "nombre_sain          2491\n",
    "nombre_exposed        503\n",
    "nombre_recovered    16066\n",
    "Name: 697, dtype: int64"
   ]
  },
  {
   "cell_type": "markdown",
   "id": "e4c53742",
   "metadata": {},
   "source": [
    "nombre_infected       904\n",
    "nombre_sain          2493\n",
    "nombre_exposed        540\n",
    "nombre_recovered    16063\n",
    "Name: 698, dtype: int64"
   ]
  },
  {
   "cell_type": "markdown",
   "id": "0a3e8733",
   "metadata": {},
   "source": [
    "nombre_infected       901\n",
    "nombre_sain          2482\n",
    "nombre_exposed        567\n",
    "nombre_recovered    16050\n",
    "Name: 699, dtype: int64"
   ]
  },
  {
   "cell_type": "markdown",
   "id": "18c0ea2d",
   "metadata": {},
   "source": [
    "nombre_infected       907\n",
    "nombre_sain          2492\n",
    "nombre_exposed        563\n",
    "nombre_recovered    16038\n",
    "Name: 700, dtype: int64"
   ]
  },
  {
   "cell_type": "markdown",
   "id": "882c67b0",
   "metadata": {},
   "source": [
    "nombre_infected       896\n",
    "nombre_sain          2474\n",
    "nombre_exposed        598\n",
    "nombre_recovered    16032\n",
    "Name: 701, dtype: int64"
   ]
  },
  {
   "cell_type": "markdown",
   "id": "b76a4bae",
   "metadata": {},
   "source": [
    "nombre_infected       913\n",
    "nombre_sain          2448\n",
    "nombre_exposed        600\n",
    "nombre_recovered    16039\n",
    "Name: 702, dtype: int64"
   ]
  },
  {
   "cell_type": "markdown",
   "id": "ff748516",
   "metadata": {},
   "source": [
    "nombre_infected       947\n",
    "nombre_sain          2436\n",
    "nombre_exposed        591\n",
    "nombre_recovered    16026\n",
    "Name: 703, dtype: int64"
   ]
  },
  {
   "cell_type": "markdown",
   "id": "374cf266",
   "metadata": {},
   "source": [
    "nombre_infected       964\n",
    "nombre_sain          2423\n",
    "nombre_exposed        609\n",
    "nombre_recovered    16004\n",
    "Name: 704, dtype: int64"
   ]
  },
  {
   "cell_type": "markdown",
   "id": "d8331b2c",
   "metadata": {},
   "source": [
    "nombre_infected       965\n",
    "nombre_sain          2409\n",
    "nombre_exposed        622\n",
    "nombre_recovered    16004\n",
    "Name: 705, dtype: int64"
   ]
  },
  {
   "cell_type": "markdown",
   "id": "49daa54b",
   "metadata": {},
   "source": [
    "nombre_infected       993\n",
    "nombre_sain          2420\n",
    "nombre_exposed        607\n",
    "nombre_recovered    15980\n",
    "Name: 706, dtype: int64"
   ]
  },
  {
   "cell_type": "markdown",
   "id": "21dc78a5",
   "metadata": {},
   "source": [
    "nombre_infected      1017\n",
    "nombre_sain          2387\n",
    "nombre_exposed        621\n",
    "nombre_recovered    15975\n",
    "Name: 707, dtype: int64"
   ]
  },
  {
   "cell_type": "markdown",
   "id": "2873bf49",
   "metadata": {},
   "source": [
    "nombre_infected       989\n",
    "nombre_sain          2379\n",
    "nombre_exposed        644\n",
    "nombre_recovered    15988\n",
    "Name: 708, dtype: int64"
   ]
  },
  {
   "cell_type": "markdown",
   "id": "115d322a",
   "metadata": {},
   "source": [
    "nombre_infected       998\n",
    "nombre_sain          2357\n",
    "nombre_exposed        619\n",
    "nombre_recovered    16026\n",
    "Name: 709, dtype: int64"
   ]
  },
  {
   "cell_type": "markdown",
   "id": "2e8cf911",
   "metadata": {},
   "source": [
    "nombre_infected       996\n",
    "nombre_sain          2329\n",
    "nombre_exposed        625\n",
    "nombre_recovered    16050\n",
    "Name: 710, dtype: int64"
   ]
  },
  {
   "cell_type": "markdown",
   "id": "84e715df",
   "metadata": {},
   "source": [
    "nombre_infected      1003\n",
    "nombre_sain          2309\n",
    "nombre_exposed        628\n",
    "nombre_recovered    16060\n",
    "Name: 711, dtype: int64"
   ]
  },
  {
   "cell_type": "markdown",
   "id": "f1489c36",
   "metadata": {},
   "source": [
    "nombre_infected       987\n",
    "nombre_sain          2328\n",
    "nombre_exposed        600\n",
    "nombre_recovered    16085\n",
    "Name: 712, dtype: int64"
   ]
  },
  {
   "cell_type": "markdown",
   "id": "d72789b1",
   "metadata": {},
   "source": [
    "nombre_infected       998\n",
    "nombre_sain          2289\n",
    "nombre_exposed        631\n",
    "nombre_recovered    16082\n",
    "Name: 713, dtype: int64"
   ]
  },
  {
   "cell_type": "markdown",
   "id": "a43c8646",
   "metadata": {},
   "source": [
    "nombre_infected      1020\n",
    "nombre_sain          2300\n",
    "nombre_exposed        606\n",
    "nombre_recovered    16074\n",
    "Name: 714, dtype: int64"
   ]
  },
  {
   "cell_type": "markdown",
   "id": "5603197a",
   "metadata": {},
   "source": [
    "nombre_infected      1036\n",
    "nombre_sain          2298\n",
    "nombre_exposed        604\n",
    "nombre_recovered    16062\n",
    "Name: 715, dtype: int64"
   ]
  },
  {
   "cell_type": "markdown",
   "id": "a940d092",
   "metadata": {},
   "source": [
    "nombre_infected      1018\n",
    "nombre_sain          2281\n",
    "nombre_exposed        620\n",
    "nombre_recovered    16081\n",
    "Name: 716, dtype: int64"
   ]
  },
  {
   "cell_type": "markdown",
   "id": "d3a46be6",
   "metadata": {},
   "source": [
    "nombre_infected      1021\n",
    "nombre_sain          2266\n",
    "nombre_exposed        611\n",
    "nombre_recovered    16102\n",
    "Name: 717, dtype: int64"
   ]
  },
  {
   "cell_type": "markdown",
   "id": "21e51f11",
   "metadata": {},
   "source": [
    "nombre_infected      1027\n",
    "nombre_sain          2270\n",
    "nombre_exposed        605\n",
    "nombre_recovered    16098\n",
    "Name: 718, dtype: int64"
   ]
  },
  {
   "cell_type": "markdown",
   "id": "b77e6f5e",
   "metadata": {},
   "source": [
    "nombre_infected      1037\n",
    "nombre_sain          2268\n",
    "nombre_exposed        599\n",
    "nombre_recovered    16096\n",
    "Name: 719, dtype: int64"
   ]
  },
  {
   "cell_type": "markdown",
   "id": "756e5502",
   "metadata": {},
   "source": [
    "nombre_infected      1035\n",
    "nombre_sain          2289\n",
    "nombre_exposed        598\n",
    "nombre_recovered    16078\n",
    "Name: 720, dtype: int64"
   ]
  },
  {
   "cell_type": "markdown",
   "id": "95b6f126",
   "metadata": {},
   "source": [
    "nombre_infected      1052\n",
    "nombre_sain          2311\n",
    "nombre_exposed        585\n",
    "nombre_recovered    16052\n",
    "Name: 721, dtype: int64"
   ]
  },
  {
   "cell_type": "markdown",
   "id": "f959cee0",
   "metadata": {},
   "source": [
    "nombre_infected      1043\n",
    "nombre_sain          2328\n",
    "nombre_exposed        582\n",
    "nombre_recovered    16047\n",
    "Name: 722, dtype: int64"
   ]
  },
  {
   "cell_type": "markdown",
   "id": "ef5fc94f",
   "metadata": {},
   "source": [
    "nombre_infected      1029\n",
    "nombre_sain          2320\n",
    "nombre_exposed        583\n",
    "nombre_recovered    16068\n",
    "Name: 723, dtype: int64"
   ]
  },
  {
   "cell_type": "markdown",
   "id": "38692e1b",
   "metadata": {},
   "source": [
    "nombre_infected      1023\n",
    "nombre_sain          2346\n",
    "nombre_exposed        557\n",
    "nombre_recovered    16074\n",
    "Name: 724, dtype: int64"
   ]
  },
  {
   "cell_type": "markdown",
   "id": "d6cfd5a4",
   "metadata": {},
   "source": [
    "nombre_infected      1014\n",
    "nombre_sain          2317\n",
    "nombre_exposed        594\n",
    "nombre_recovered    16075\n",
    "Name: 725, dtype: int64"
   ]
  },
  {
   "cell_type": "markdown",
   "id": "ceffde3e",
   "metadata": {},
   "source": [
    "nombre_infected       993\n",
    "nombre_sain          2306\n",
    "nombre_exposed        630\n",
    "nombre_recovered    16071\n",
    "Name: 726, dtype: int64"
   ]
  },
  {
   "cell_type": "markdown",
   "id": "f598be0c",
   "metadata": {},
   "source": [
    "nombre_infected       988\n",
    "nombre_sain          2318\n",
    "nombre_exposed        619\n",
    "nombre_recovered    16075\n",
    "Name: 727, dtype: int64"
   ]
  },
  {
   "cell_type": "markdown",
   "id": "87cb874a",
   "metadata": {},
   "source": [
    "nombre_infected      1005\n",
    "nombre_sain          2336\n",
    "nombre_exposed        587\n",
    "nombre_recovered    16072\n",
    "Name: 728, dtype: int64"
   ]
  },
  {
   "cell_type": "markdown",
   "id": "bb0a2800",
   "metadata": {},
   "source": [
    "nombre_infected       970\n",
    "nombre_sain          2322\n",
    "nombre_exposed        623\n",
    "nombre_recovered    16085\n",
    "Name: 729, dtype: int64"
   ]
  },
  {
   "cell_type": "markdown",
   "id": "14fa2b3c",
   "metadata": {},
   "source": [
    "nombre_infected      1024\n",
    "nombre_sain          2310\n",
    "nombre_exposed        610\n",
    "nombre_recovered    16056\n",
    "Name: 730, dtype: int64"
   ]
  }
 ],
 "metadata": {},
 "nbformat": 4,
 "nbformat_minor": 5
}
