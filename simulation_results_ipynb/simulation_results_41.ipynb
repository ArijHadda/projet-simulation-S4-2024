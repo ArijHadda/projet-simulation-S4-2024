{
 "cells": [
  {
   "cell_type": "markdown",
   "id": "31857244",
   "metadata": {},
   "source": [
    "nombre_infected        20\n",
    "nombre_sain         19980\n",
    "nombre_exposed          0\n",
    "nombre_recovered        0\n",
    "Name: 0, dtype: int64"
   ]
  },
  {
   "cell_type": "markdown",
   "id": "2388455d",
   "metadata": {},
   "source": [
    "nombre_infected        20\n",
    "nombre_sain         19968\n",
    "nombre_exposed         12\n",
    "nombre_recovered        0\n",
    "Name: 1, dtype: int64"
   ]
  },
  {
   "cell_type": "markdown",
   "id": "7fb4697b",
   "metadata": {},
   "source": [
    "nombre_infected        16\n",
    "nombre_sain         19949\n",
    "nombre_exposed         31\n",
    "nombre_recovered        4\n",
    "Name: 2, dtype: int64"
   ]
  },
  {
   "cell_type": "markdown",
   "id": "03a5a67a",
   "metadata": {},
   "source": [
    "nombre_infected        20\n",
    "nombre_sain         19927\n",
    "nombre_exposed         49\n",
    "nombre_recovered        4\n",
    "Name: 3, dtype: int64"
   ]
  },
  {
   "cell_type": "markdown",
   "id": "82eea037",
   "metadata": {},
   "source": [
    "nombre_infected        27\n",
    "nombre_sain         19904\n",
    "nombre_exposed         65\n",
    "nombre_recovered        4\n",
    "Name: 4, dtype: int64"
   ]
  },
  {
   "cell_type": "markdown",
   "id": "66f13e54",
   "metadata": {},
   "source": [
    "nombre_infected        25\n",
    "nombre_sain         19874\n",
    "nombre_exposed         81\n",
    "nombre_recovered       20\n",
    "Name: 5, dtype: int64"
   ]
  },
  {
   "cell_type": "markdown",
   "id": "00c9bf32",
   "metadata": {},
   "source": [
    "nombre_infected        36\n",
    "nombre_sain         19829\n",
    "nombre_exposed        114\n",
    "nombre_recovered       21\n",
    "Name: 6, dtype: int64"
   ]
  },
  {
   "cell_type": "markdown",
   "id": "1609cc43",
   "metadata": {},
   "source": [
    "nombre_infected        56\n",
    "nombre_sain         19777\n",
    "nombre_exposed        145\n",
    "nombre_recovered       22\n",
    "Name: 7, dtype: int64"
   ]
  },
  {
   "cell_type": "markdown",
   "id": "3351802c",
   "metadata": {},
   "source": [
    "nombre_infected        82\n",
    "nombre_sain         19683\n",
    "nombre_exposed        207\n",
    "nombre_recovered       28\n",
    "Name: 8, dtype: int64"
   ]
  },
  {
   "cell_type": "markdown",
   "id": "7f86f379",
   "metadata": {},
   "source": [
    "nombre_infected       103\n",
    "nombre_sain         19576\n",
    "nombre_exposed        285\n",
    "nombre_recovered       36\n",
    "Name: 9, dtype: int64"
   ]
  },
  {
   "cell_type": "markdown",
   "id": "6c82228e",
   "metadata": {},
   "source": [
    "nombre_infected       146\n",
    "nombre_sain         19428\n",
    "nombre_exposed        378\n",
    "nombre_recovered       48\n",
    "Name: 10, dtype: int64"
   ]
  },
  {
   "cell_type": "markdown",
   "id": "a6214c78",
   "metadata": {},
   "source": [
    "nombre_infected       207\n",
    "nombre_sain         19215\n",
    "nombre_exposed        522\n",
    "nombre_recovered       56\n",
    "Name: 11, dtype: int64"
   ]
  },
  {
   "cell_type": "markdown",
   "id": "2df5d6e1",
   "metadata": {},
   "source": [
    "nombre_infected       287\n",
    "nombre_sain         18910\n",
    "nombre_exposed        728\n",
    "nombre_recovered       75\n",
    "Name: 12, dtype: int64"
   ]
  },
  {
   "cell_type": "markdown",
   "id": "4400774f",
   "metadata": {},
   "source": [
    "nombre_infected       391\n",
    "nombre_sain         18506\n",
    "nombre_exposed       1005\n",
    "nombre_recovered       98\n",
    "Name: 13, dtype: int64"
   ]
  },
  {
   "cell_type": "markdown",
   "id": "9b47223c",
   "metadata": {},
   "source": [
    "nombre_infected       525\n",
    "nombre_sain         18002\n",
    "nombre_exposed       1335\n",
    "nombre_recovered      138\n",
    "Name: 14, dtype: int64"
   ]
  },
  {
   "cell_type": "markdown",
   "id": "0852fc56",
   "metadata": {},
   "source": [
    "nombre_infected       710\n",
    "nombre_sain         17350\n",
    "nombre_exposed       1750\n",
    "nombre_recovered      190\n",
    "Name: 15, dtype: int64"
   ]
  },
  {
   "cell_type": "markdown",
   "id": "32686383",
   "metadata": {},
   "source": [
    "nombre_infected       947\n",
    "nombre_sain         16460\n",
    "nombre_exposed       2331\n",
    "nombre_recovered      262\n",
    "Name: 16, dtype: int64"
   ]
  },
  {
   "cell_type": "markdown",
   "id": "aa1a0d1f",
   "metadata": {},
   "source": [
    "nombre_infected      1267\n",
    "nombre_sain         15443\n",
    "nombre_exposed       2945\n",
    "nombre_recovered      345\n",
    "Name: 17, dtype: int64"
   ]
  },
  {
   "cell_type": "markdown",
   "id": "fdf7e3ea",
   "metadata": {},
   "source": [
    "nombre_infected      1694\n",
    "nombre_sain         14201\n",
    "nombre_exposed       3652\n",
    "nombre_recovered      453\n",
    "Name: 18, dtype: int64"
   ]
  },
  {
   "cell_type": "markdown",
   "id": "c3dfe219",
   "metadata": {},
   "source": [
    "nombre_infected      2199\n",
    "nombre_sain         12723\n",
    "nombre_exposed       4468\n",
    "nombre_recovered      610\n",
    "Name: 19, dtype: int64"
   ]
  },
  {
   "cell_type": "markdown",
   "id": "1474adfa",
   "metadata": {},
   "source": [
    "nombre_infected      2839\n",
    "nombre_sain         11015\n",
    "nombre_exposed       5344\n",
    "nombre_recovered      802\n",
    "Name: 20, dtype: int64"
   ]
  },
  {
   "cell_type": "markdown",
   "id": "c19245d4",
   "metadata": {},
   "source": [
    "nombre_infected     3568\n",
    "nombre_sain         9295\n",
    "nombre_exposed      6076\n",
    "nombre_recovered    1061\n",
    "Name: 21, dtype: int64"
   ]
  },
  {
   "cell_type": "markdown",
   "id": "a82714a5",
   "metadata": {},
   "source": [
    "nombre_infected     4398\n",
    "nombre_sain         7494\n",
    "nombre_exposed      6694\n",
    "nombre_recovered    1414\n",
    "Name: 22, dtype: int64"
   ]
  },
  {
   "cell_type": "markdown",
   "id": "059875e8",
   "metadata": {},
   "source": [
    "nombre_infected     5329\n",
    "nombre_sain         5822\n",
    "nombre_exposed      7003\n",
    "nombre_recovered    1846\n",
    "Name: 23, dtype: int64"
   ]
  },
  {
   "cell_type": "markdown",
   "id": "175c5bc2",
   "metadata": {},
   "source": [
    "nombre_infected     6240\n",
    "nombre_sain         4402\n",
    "nombre_exposed      6957\n",
    "nombre_recovered    2401\n",
    "Name: 24, dtype: int64"
   ]
  },
  {
   "cell_type": "markdown",
   "id": "d3b4884c",
   "metadata": {},
   "source": [
    "nombre_infected     7115\n",
    "nombre_sain         3215\n",
    "nombre_exposed      6609\n",
    "nombre_recovered    3061\n",
    "Name: 25, dtype: int64"
   ]
  },
  {
   "cell_type": "markdown",
   "id": "0a8cdcc5",
   "metadata": {},
   "source": [
    "nombre_infected     7862\n",
    "nombre_sain         2282\n",
    "nombre_exposed      6032\n",
    "nombre_recovered    3824\n",
    "Name: 26, dtype: int64"
   ]
  },
  {
   "cell_type": "markdown",
   "id": "3c151235",
   "metadata": {},
   "source": [
    "nombre_infected     8309\n",
    "nombre_sain         1586\n",
    "nombre_exposed      5387\n",
    "nombre_recovered    4718\n",
    "Name: 27, dtype: int64"
   ]
  },
  {
   "cell_type": "markdown",
   "id": "92ec86c9",
   "metadata": {},
   "source": [
    "nombre_infected     8592\n",
    "nombre_sain         1084\n",
    "nombre_exposed      4634\n",
    "nombre_recovered    5690\n",
    "Name: 28, dtype: int64"
   ]
  },
  {
   "cell_type": "markdown",
   "id": "751519b0",
   "metadata": {},
   "source": [
    "nombre_infected     8685\n",
    "nombre_sain          719\n",
    "nombre_exposed      3856\n",
    "nombre_recovered    6740\n",
    "Name: 29, dtype: int64"
   ]
  },
  {
   "cell_type": "markdown",
   "id": "7cc9557b",
   "metadata": {},
   "source": [
    "nombre_infected     8513\n",
    "nombre_sain          500\n",
    "nombre_exposed      3188\n",
    "nombre_recovered    7799\n",
    "Name: 30, dtype: int64"
   ]
  },
  {
   "cell_type": "markdown",
   "id": "aacc8c38",
   "metadata": {},
   "source": [
    "nombre_infected     8184\n",
    "nombre_sain          357\n",
    "nombre_exposed      2574\n",
    "nombre_recovered    8885\n",
    "Name: 31, dtype: int64"
   ]
  },
  {
   "cell_type": "markdown",
   "id": "8544553b",
   "metadata": {},
   "source": [
    "nombre_infected     7781\n",
    "nombre_sain          249\n",
    "nombre_exposed      2056\n",
    "nombre_recovered    9914\n",
    "Name: 32, dtype: int64"
   ]
  },
  {
   "cell_type": "markdown",
   "id": "97355f5c",
   "metadata": {},
   "source": [
    "nombre_infected      7317\n",
    "nombre_sain           185\n",
    "nombre_exposed       1603\n",
    "nombre_recovered    10895\n",
    "Name: 33, dtype: int64"
   ]
  },
  {
   "cell_type": "markdown",
   "id": "c334485d",
   "metadata": {},
   "source": [
    "nombre_infected      6776\n",
    "nombre_sain           150\n",
    "nombre_exposed       1248\n",
    "nombre_recovered    11826\n",
    "Name: 34, dtype: int64"
   ]
  },
  {
   "cell_type": "markdown",
   "id": "bdeeb7ab",
   "metadata": {},
   "source": [
    "nombre_infected      6232\n",
    "nombre_sain           130\n",
    "nombre_exposed        977\n",
    "nombre_recovered    12661\n",
    "Name: 35, dtype: int64"
   ]
  },
  {
   "cell_type": "markdown",
   "id": "5b299f1e",
   "metadata": {},
   "source": [
    "nombre_infected      5617\n",
    "nombre_sain           115\n",
    "nombre_exposed        786\n",
    "nombre_recovered    13482\n",
    "Name: 36, dtype: int64"
   ]
  },
  {
   "cell_type": "markdown",
   "id": "9c530d57",
   "metadata": {},
   "source": [
    "nombre_infected      5109\n",
    "nombre_sain           108\n",
    "nombre_exposed        625\n",
    "nombre_recovered    14158\n",
    "Name: 37, dtype: int64"
   ]
  },
  {
   "cell_type": "markdown",
   "id": "8bde7946",
   "metadata": {},
   "source": [
    "nombre_infected      4641\n",
    "nombre_sain           114\n",
    "nombre_exposed        513\n",
    "nombre_recovered    14732\n",
    "Name: 38, dtype: int64"
   ]
  },
  {
   "cell_type": "markdown",
   "id": "0db96334",
   "metadata": {},
   "source": [
    "nombre_infected      4153\n",
    "nombre_sain           123\n",
    "nombre_exposed        400\n",
    "nombre_recovered    15324\n",
    "Name: 39, dtype: int64"
   ]
  },
  {
   "cell_type": "markdown",
   "id": "f04af751",
   "metadata": {},
   "source": [
    "nombre_infected      3744\n",
    "nombre_sain           149\n",
    "nombre_exposed        312\n",
    "nombre_recovered    15795\n",
    "Name: 40, dtype: int64"
   ]
  },
  {
   "cell_type": "markdown",
   "id": "ad045b4e",
   "metadata": {},
   "source": [
    "nombre_infected      3336\n",
    "nombre_sain           149\n",
    "nombre_exposed        268\n",
    "nombre_recovered    16247\n",
    "Name: 41, dtype: int64"
   ]
  },
  {
   "cell_type": "markdown",
   "id": "242308d3",
   "metadata": {},
   "source": [
    "nombre_infected      2981\n",
    "nombre_sain           161\n",
    "nombre_exposed        219\n",
    "nombre_recovered    16639\n",
    "Name: 42, dtype: int64"
   ]
  },
  {
   "cell_type": "markdown",
   "id": "9aeab0a1",
   "metadata": {},
   "source": [
    "nombre_infected      2641\n",
    "nombre_sain           191\n",
    "nombre_exposed        194\n",
    "nombre_recovered    16974\n",
    "Name: 43, dtype: int64"
   ]
  },
  {
   "cell_type": "markdown",
   "id": "11d87073",
   "metadata": {},
   "source": [
    "nombre_infected      2328\n",
    "nombre_sain           222\n",
    "nombre_exposed        180\n",
    "nombre_recovered    17270\n",
    "Name: 44, dtype: int64"
   ]
  },
  {
   "cell_type": "markdown",
   "id": "9bbae0b5",
   "metadata": {},
   "source": [
    "nombre_infected      2061\n",
    "nombre_sain           243\n",
    "nombre_exposed        154\n",
    "nombre_recovered    17542\n",
    "Name: 45, dtype: int64"
   ]
  },
  {
   "cell_type": "markdown",
   "id": "2a61cb53",
   "metadata": {},
   "source": [
    "nombre_infected      1841\n",
    "nombre_sain           277\n",
    "nombre_exposed        144\n",
    "nombre_recovered    17738\n",
    "Name: 46, dtype: int64"
   ]
  },
  {
   "cell_type": "markdown",
   "id": "430f0f7a",
   "metadata": {},
   "source": [
    "nombre_infected      1612\n",
    "nombre_sain           333\n",
    "nombre_exposed        133\n",
    "nombre_recovered    17922\n",
    "Name: 47, dtype: int64"
   ]
  },
  {
   "cell_type": "markdown",
   "id": "1ad1ae6e",
   "metadata": {},
   "source": [
    "nombre_infected      1451\n",
    "nombre_sain           373\n",
    "nombre_exposed        132\n",
    "nombre_recovered    18044\n",
    "Name: 48, dtype: int64"
   ]
  },
  {
   "cell_type": "markdown",
   "id": "5f0ca004",
   "metadata": {},
   "source": [
    "nombre_infected      1288\n",
    "nombre_sain           412\n",
    "nombre_exposed        147\n",
    "nombre_recovered    18153\n",
    "Name: 49, dtype: int64"
   ]
  },
  {
   "cell_type": "markdown",
   "id": "ed61a77a",
   "metadata": {},
   "source": [
    "nombre_infected      1150\n",
    "nombre_sain           463\n",
    "nombre_exposed        144\n",
    "nombre_recovered    18243\n",
    "Name: 50, dtype: int64"
   ]
  },
  {
   "cell_type": "markdown",
   "id": "c37f57b8",
   "metadata": {},
   "source": [
    "nombre_infected      1047\n",
    "nombre_sain           531\n",
    "nombre_exposed        128\n",
    "nombre_recovered    18294\n",
    "Name: 51, dtype: int64"
   ]
  },
  {
   "cell_type": "markdown",
   "id": "310e963b",
   "metadata": {},
   "source": [
    "nombre_infected       949\n",
    "nombre_sain           586\n",
    "nombre_exposed        133\n",
    "nombre_recovered    18332\n",
    "Name: 52, dtype: int64"
   ]
  },
  {
   "cell_type": "markdown",
   "id": "50a8c0ed",
   "metadata": {},
   "source": [
    "nombre_infected       855\n",
    "nombre_sain           643\n",
    "nombre_exposed        126\n",
    "nombre_recovered    18376\n",
    "Name: 53, dtype: int64"
   ]
  },
  {
   "cell_type": "markdown",
   "id": "e0c87a8e",
   "metadata": {},
   "source": [
    "nombre_infected       780\n",
    "nombre_sain           693\n",
    "nombre_exposed        127\n",
    "nombre_recovered    18400\n",
    "Name: 54, dtype: int64"
   ]
  },
  {
   "cell_type": "markdown",
   "id": "468ad502",
   "metadata": {},
   "source": [
    "nombre_infected       690\n",
    "nombre_sain           735\n",
    "nombre_exposed        139\n",
    "nombre_recovered    18436\n",
    "Name: 55, dtype: int64"
   ]
  },
  {
   "cell_type": "markdown",
   "id": "be26c2ad",
   "metadata": {},
   "source": [
    "nombre_infected       624\n",
    "nombre_sain           792\n",
    "nombre_exposed        140\n",
    "nombre_recovered    18444\n",
    "Name: 56, dtype: int64"
   ]
  },
  {
   "cell_type": "markdown",
   "id": "219b44c4",
   "metadata": {},
   "source": [
    "nombre_infected       576\n",
    "nombre_sain           828\n",
    "nombre_exposed        145\n",
    "nombre_recovered    18451\n",
    "Name: 57, dtype: int64"
   ]
  },
  {
   "cell_type": "markdown",
   "id": "64e79642",
   "metadata": {},
   "source": [
    "nombre_infected       541\n",
    "nombre_sain           867\n",
    "nombre_exposed        133\n",
    "nombre_recovered    18459\n",
    "Name: 58, dtype: int64"
   ]
  },
  {
   "cell_type": "markdown",
   "id": "145a2e4a",
   "metadata": {},
   "source": [
    "nombre_infected       498\n",
    "nombre_sain           898\n",
    "nombre_exposed        136\n",
    "nombre_recovered    18468\n",
    "Name: 59, dtype: int64"
   ]
  },
  {
   "cell_type": "markdown",
   "id": "95b1d3de",
   "metadata": {},
   "source": [
    "nombre_infected       462\n",
    "nombre_sain           953\n",
    "nombre_exposed        121\n",
    "nombre_recovered    18464\n",
    "Name: 60, dtype: int64"
   ]
  },
  {
   "cell_type": "markdown",
   "id": "e063c09a",
   "metadata": {},
   "source": [
    "nombre_infected       420\n",
    "nombre_sain          1000\n",
    "nombre_exposed        112\n",
    "nombre_recovered    18468\n",
    "Name: 61, dtype: int64"
   ]
  },
  {
   "cell_type": "markdown",
   "id": "44669689",
   "metadata": {},
   "source": [
    "nombre_infected       397\n",
    "nombre_sain          1056\n",
    "nombre_exposed        106\n",
    "nombre_recovered    18441\n",
    "Name: 62, dtype: int64"
   ]
  },
  {
   "cell_type": "markdown",
   "id": "43a9a558",
   "metadata": {},
   "source": [
    "nombre_infected       371\n",
    "nombre_sain          1116\n",
    "nombre_exposed        100\n",
    "nombre_recovered    18413\n",
    "Name: 63, dtype: int64"
   ]
  },
  {
   "cell_type": "markdown",
   "id": "57d0b6e2",
   "metadata": {},
   "source": [
    "nombre_infected       352\n",
    "nombre_sain          1170\n",
    "nombre_exposed        107\n",
    "nombre_recovered    18371\n",
    "Name: 64, dtype: int64"
   ]
  },
  {
   "cell_type": "markdown",
   "id": "b108b3bb",
   "metadata": {},
   "source": [
    "nombre_infected       336\n",
    "nombre_sain          1219\n",
    "nombre_exposed        108\n",
    "nombre_recovered    18337\n",
    "Name: 65, dtype: int64"
   ]
  },
  {
   "cell_type": "markdown",
   "id": "ca031158",
   "metadata": {},
   "source": [
    "nombre_infected       319\n",
    "nombre_sain          1263\n",
    "nombre_exposed        115\n",
    "nombre_recovered    18303\n",
    "Name: 66, dtype: int64"
   ]
  },
  {
   "cell_type": "markdown",
   "id": "8b56ed42",
   "metadata": {},
   "source": [
    "nombre_infected       308\n",
    "nombre_sain          1303\n",
    "nombre_exposed        115\n",
    "nombre_recovered    18274\n",
    "Name: 67, dtype: int64"
   ]
  },
  {
   "cell_type": "markdown",
   "id": "14ccff06",
   "metadata": {},
   "source": [
    "nombre_infected       299\n",
    "nombre_sain          1346\n",
    "nombre_exposed        118\n",
    "nombre_recovered    18237\n",
    "Name: 68, dtype: int64"
   ]
  },
  {
   "cell_type": "markdown",
   "id": "cfb01c34",
   "metadata": {},
   "source": [
    "nombre_infected       306\n",
    "nombre_sain          1406\n",
    "nombre_exposed        106\n",
    "nombre_recovered    18182\n",
    "Name: 69, dtype: int64"
   ]
  },
  {
   "cell_type": "markdown",
   "id": "3ee6f6de",
   "metadata": {},
   "source": [
    "nombre_infected       295\n",
    "nombre_sain          1444\n",
    "nombre_exposed        114\n",
    "nombre_recovered    18147\n",
    "Name: 70, dtype: int64"
   ]
  },
  {
   "cell_type": "markdown",
   "id": "bfe71de8",
   "metadata": {},
   "source": [
    "nombre_infected       280\n",
    "nombre_sain          1476\n",
    "nombre_exposed        121\n",
    "nombre_recovered    18123\n",
    "Name: 71, dtype: int64"
   ]
  },
  {
   "cell_type": "markdown",
   "id": "ed09e5d0",
   "metadata": {},
   "source": [
    "nombre_infected       279\n",
    "nombre_sain          1499\n",
    "nombre_exposed        116\n",
    "nombre_recovered    18106\n",
    "Name: 72, dtype: int64"
   ]
  },
  {
   "cell_type": "markdown",
   "id": "98d5b3fc",
   "metadata": {},
   "source": [
    "nombre_infected       288\n",
    "nombre_sain          1526\n",
    "nombre_exposed        104\n",
    "nombre_recovered    18082\n",
    "Name: 73, dtype: int64"
   ]
  },
  {
   "cell_type": "markdown",
   "id": "5df83c2b",
   "metadata": {},
   "source": [
    "nombre_infected       273\n",
    "nombre_sain          1559\n",
    "nombre_exposed        109\n",
    "nombre_recovered    18059\n",
    "Name: 74, dtype: int64"
   ]
  },
  {
   "cell_type": "markdown",
   "id": "da051752",
   "metadata": {},
   "source": [
    "nombre_infected       258\n",
    "nombre_sain          1600\n",
    "nombre_exposed        111\n",
    "nombre_recovered    18031\n",
    "Name: 75, dtype: int64"
   ]
  },
  {
   "cell_type": "markdown",
   "id": "e39c05c8",
   "metadata": {},
   "source": [
    "nombre_infected       250\n",
    "nombre_sain          1641\n",
    "nombre_exposed        115\n",
    "nombre_recovered    17994\n",
    "Name: 76, dtype: int64"
   ]
  },
  {
   "cell_type": "markdown",
   "id": "d7c07111",
   "metadata": {},
   "source": [
    "nombre_infected       248\n",
    "nombre_sain          1678\n",
    "nombre_exposed        116\n",
    "nombre_recovered    17958\n",
    "Name: 77, dtype: int64"
   ]
  },
  {
   "cell_type": "markdown",
   "id": "114980fb",
   "metadata": {},
   "source": [
    "nombre_infected       251\n",
    "nombre_sain          1711\n",
    "nombre_exposed        122\n",
    "nombre_recovered    17916\n",
    "Name: 78, dtype: int64"
   ]
  },
  {
   "cell_type": "markdown",
   "id": "33fa771a",
   "metadata": {},
   "source": [
    "nombre_infected       254\n",
    "nombre_sain          1749\n",
    "nombre_exposed        125\n",
    "nombre_recovered    17872\n",
    "Name: 79, dtype: int64"
   ]
  },
  {
   "cell_type": "markdown",
   "id": "0e0a48ba",
   "metadata": {},
   "source": [
    "nombre_infected       260\n",
    "nombre_sain          1771\n",
    "nombre_exposed        125\n",
    "nombre_recovered    17844\n",
    "Name: 80, dtype: int64"
   ]
  },
  {
   "cell_type": "markdown",
   "id": "bdd29eef",
   "metadata": {},
   "source": [
    "nombre_infected       248\n",
    "nombre_sain          1801\n",
    "nombre_exposed        139\n",
    "nombre_recovered    17812\n",
    "Name: 81, dtype: int64"
   ]
  },
  {
   "cell_type": "markdown",
   "id": "516475fa",
   "metadata": {},
   "source": [
    "nombre_infected       246\n",
    "nombre_sain          1848\n",
    "nombre_exposed        131\n",
    "nombre_recovered    17775\n",
    "Name: 82, dtype: int64"
   ]
  },
  {
   "cell_type": "markdown",
   "id": "4a409fcb",
   "metadata": {},
   "source": [
    "nombre_infected       257\n",
    "nombre_sain          1891\n",
    "nombre_exposed        112\n",
    "nombre_recovered    17740\n",
    "Name: 83, dtype: int64"
   ]
  },
  {
   "cell_type": "markdown",
   "id": "4036c978",
   "metadata": {},
   "source": [
    "nombre_infected       258\n",
    "nombre_sain          1909\n",
    "nombre_exposed        125\n",
    "nombre_recovered    17708\n",
    "Name: 84, dtype: int64"
   ]
  },
  {
   "cell_type": "markdown",
   "id": "69be4b9f",
   "metadata": {},
   "source": [
    "nombre_infected       250\n",
    "nombre_sain          1954\n",
    "nombre_exposed        129\n",
    "nombre_recovered    17667\n",
    "Name: 85, dtype: int64"
   ]
  },
  {
   "cell_type": "markdown",
   "id": "0f117087",
   "metadata": {},
   "source": [
    "nombre_infected       239\n",
    "nombre_sain          1977\n",
    "nombre_exposed        131\n",
    "nombre_recovered    17653\n",
    "Name: 86, dtype: int64"
   ]
  },
  {
   "cell_type": "markdown",
   "id": "be423945",
   "metadata": {},
   "source": [
    "nombre_infected       232\n",
    "nombre_sain          2020\n",
    "nombre_exposed        126\n",
    "nombre_recovered    17622\n",
    "Name: 87, dtype: int64"
   ]
  },
  {
   "cell_type": "markdown",
   "id": "a3bba60a",
   "metadata": {},
   "source": [
    "nombre_infected       228\n",
    "nombre_sain          2047\n",
    "nombre_exposed        132\n",
    "nombre_recovered    17593\n",
    "Name: 88, dtype: int64"
   ]
  },
  {
   "cell_type": "markdown",
   "id": "3dc3d31d",
   "metadata": {},
   "source": [
    "nombre_infected       225\n",
    "nombre_sain          2063\n",
    "nombre_exposed        138\n",
    "nombre_recovered    17574\n",
    "Name: 89, dtype: int64"
   ]
  },
  {
   "cell_type": "markdown",
   "id": "b1eb0c1c",
   "metadata": {},
   "source": [
    "nombre_infected       228\n",
    "nombre_sain          2093\n",
    "nombre_exposed        132\n",
    "nombre_recovered    17547\n",
    "Name: 90, dtype: int64"
   ]
  },
  {
   "cell_type": "markdown",
   "id": "b55d8feb",
   "metadata": {},
   "source": [
    "nombre_infected       238\n",
    "nombre_sain          2120\n",
    "nombre_exposed        124\n",
    "nombre_recovered    17518\n",
    "Name: 91, dtype: int64"
   ]
  },
  {
   "cell_type": "markdown",
   "id": "d4cdabad",
   "metadata": {},
   "source": [
    "nombre_infected       243\n",
    "nombre_sain          2148\n",
    "nombre_exposed        124\n",
    "nombre_recovered    17485\n",
    "Name: 92, dtype: int64"
   ]
  },
  {
   "cell_type": "markdown",
   "id": "ef496316",
   "metadata": {},
   "source": [
    "nombre_infected       244\n",
    "nombre_sain          2180\n",
    "nombre_exposed        123\n",
    "nombre_recovered    17453\n",
    "Name: 93, dtype: int64"
   ]
  },
  {
   "cell_type": "markdown",
   "id": "d93397ae",
   "metadata": {},
   "source": [
    "nombre_infected       241\n",
    "nombre_sain          2210\n",
    "nombre_exposed        128\n",
    "nombre_recovered    17421\n",
    "Name: 94, dtype: int64"
   ]
  },
  {
   "cell_type": "markdown",
   "id": "1aa84384",
   "metadata": {},
   "source": [
    "nombre_infected       242\n",
    "nombre_sain          2250\n",
    "nombre_exposed        121\n",
    "nombre_recovered    17387\n",
    "Name: 95, dtype: int64"
   ]
  },
  {
   "cell_type": "markdown",
   "id": "b34b71e4",
   "metadata": {},
   "source": [
    "nombre_infected       231\n",
    "nombre_sain          2290\n",
    "nombre_exposed        129\n",
    "nombre_recovered    17350\n",
    "Name: 96, dtype: int64"
   ]
  },
  {
   "cell_type": "markdown",
   "id": "a89c1ecd",
   "metadata": {},
   "source": [
    "nombre_infected       234\n",
    "nombre_sain          2323\n",
    "nombre_exposed        130\n",
    "nombre_recovered    17313\n",
    "Name: 97, dtype: int64"
   ]
  },
  {
   "cell_type": "markdown",
   "id": "2de82da3",
   "metadata": {},
   "source": [
    "nombre_infected       255\n",
    "nombre_sain          2348\n",
    "nombre_exposed        127\n",
    "nombre_recovered    17270\n",
    "Name: 98, dtype: int64"
   ]
  },
  {
   "cell_type": "markdown",
   "id": "41cbdef7",
   "metadata": {},
   "source": [
    "nombre_infected       255\n",
    "nombre_sain          2387\n",
    "nombre_exposed        141\n",
    "nombre_recovered    17217\n",
    "Name: 99, dtype: int64"
   ]
  },
  {
   "cell_type": "markdown",
   "id": "12fbe2fa",
   "metadata": {},
   "source": [
    "nombre_infected       257\n",
    "nombre_sain          2439\n",
    "nombre_exposed        142\n",
    "nombre_recovered    17162\n",
    "Name: 100, dtype: int64"
   ]
  },
  {
   "cell_type": "markdown",
   "id": "e4e7e0fd",
   "metadata": {},
   "source": [
    "nombre_infected       255\n",
    "nombre_sain          2475\n",
    "nombre_exposed        141\n",
    "nombre_recovered    17129\n",
    "Name: 101, dtype: int64"
   ]
  },
  {
   "cell_type": "markdown",
   "id": "f6ad01c3",
   "metadata": {},
   "source": [
    "nombre_infected       259\n",
    "nombre_sain          2501\n",
    "nombre_exposed        149\n",
    "nombre_recovered    17091\n",
    "Name: 102, dtype: int64"
   ]
  },
  {
   "cell_type": "markdown",
   "id": "2b87a747",
   "metadata": {},
   "source": [
    "nombre_infected       260\n",
    "nombre_sain          2519\n",
    "nombre_exposed        162\n",
    "nombre_recovered    17059\n",
    "Name: 103, dtype: int64"
   ]
  },
  {
   "cell_type": "markdown",
   "id": "8d13decc",
   "metadata": {},
   "source": [
    "nombre_infected       244\n",
    "nombre_sain          2523\n",
    "nombre_exposed        178\n",
    "nombre_recovered    17055\n",
    "Name: 104, dtype: int64"
   ]
  },
  {
   "cell_type": "markdown",
   "id": "a0c2cfa9",
   "metadata": {},
   "source": [
    "nombre_infected       256\n",
    "nombre_sain          2543\n",
    "nombre_exposed        170\n",
    "nombre_recovered    17031\n",
    "Name: 105, dtype: int64"
   ]
  },
  {
   "cell_type": "markdown",
   "id": "d15455ab",
   "metadata": {},
   "source": [
    "nombre_infected       264\n",
    "nombre_sain          2560\n",
    "nombre_exposed        161\n",
    "nombre_recovered    17015\n",
    "Name: 106, dtype: int64"
   ]
  },
  {
   "cell_type": "markdown",
   "id": "2f097306",
   "metadata": {},
   "source": [
    "nombre_infected       264\n",
    "nombre_sain          2596\n",
    "nombre_exposed        165\n",
    "nombre_recovered    16975\n",
    "Name: 107, dtype: int64"
   ]
  },
  {
   "cell_type": "markdown",
   "id": "51173ccc",
   "metadata": {},
   "source": [
    "nombre_infected       289\n",
    "nombre_sain          2604\n",
    "nombre_exposed        171\n",
    "nombre_recovered    16936\n",
    "Name: 108, dtype: int64"
   ]
  },
  {
   "cell_type": "markdown",
   "id": "312dc028",
   "metadata": {},
   "source": [
    "nombre_infected       286\n",
    "nombre_sain          2636\n",
    "nombre_exposed        193\n",
    "nombre_recovered    16885\n",
    "Name: 109, dtype: int64"
   ]
  },
  {
   "cell_type": "markdown",
   "id": "7cbf9fd7",
   "metadata": {},
   "source": [
    "nombre_infected       283\n",
    "nombre_sain          2657\n",
    "nombre_exposed        206\n",
    "nombre_recovered    16854\n",
    "Name: 110, dtype: int64"
   ]
  },
  {
   "cell_type": "markdown",
   "id": "80a02d1f",
   "metadata": {},
   "source": [
    "nombre_infected       299\n",
    "nombre_sain          2664\n",
    "nombre_exposed        207\n",
    "nombre_recovered    16830\n",
    "Name: 111, dtype: int64"
   ]
  },
  {
   "cell_type": "markdown",
   "id": "346f25f0",
   "metadata": {},
   "source": [
    "nombre_infected       306\n",
    "nombre_sain          2679\n",
    "nombre_exposed        215\n",
    "nombre_recovered    16800\n",
    "Name: 112, dtype: int64"
   ]
  },
  {
   "cell_type": "markdown",
   "id": "a838254e",
   "metadata": {},
   "source": [
    "nombre_infected       303\n",
    "nombre_sain          2689\n",
    "nombre_exposed        225\n",
    "nombre_recovered    16783\n",
    "Name: 113, dtype: int64"
   ]
  },
  {
   "cell_type": "markdown",
   "id": "ef03a06c",
   "metadata": {},
   "source": [
    "nombre_infected       329\n",
    "nombre_sain          2685\n",
    "nombre_exposed        220\n",
    "nombre_recovered    16766\n",
    "Name: 114, dtype: int64"
   ]
  },
  {
   "cell_type": "markdown",
   "id": "8eafd8b5",
   "metadata": {},
   "source": [
    "nombre_infected       346\n",
    "nombre_sain          2689\n",
    "nombre_exposed        226\n",
    "nombre_recovered    16739\n",
    "Name: 115, dtype: int64"
   ]
  },
  {
   "cell_type": "markdown",
   "id": "7697b6e5",
   "metadata": {},
   "source": [
    "nombre_infected       354\n",
    "nombre_sain          2681\n",
    "nombre_exposed        236\n",
    "nombre_recovered    16729\n",
    "Name: 116, dtype: int64"
   ]
  },
  {
   "cell_type": "markdown",
   "id": "7ba348f5",
   "metadata": {},
   "source": [
    "nombre_infected       369\n",
    "nombre_sain          2660\n",
    "nombre_exposed        257\n",
    "nombre_recovered    16714\n",
    "Name: 117, dtype: int64"
   ]
  },
  {
   "cell_type": "markdown",
   "id": "e8c36115",
   "metadata": {},
   "source": [
    "nombre_infected       382\n",
    "nombre_sain          2643\n",
    "nombre_exposed        274\n",
    "nombre_recovered    16701\n",
    "Name: 118, dtype: int64"
   ]
  },
  {
   "cell_type": "markdown",
   "id": "474b5b87",
   "metadata": {},
   "source": [
    "nombre_infected       392\n",
    "nombre_sain          2644\n",
    "nombre_exposed        281\n",
    "nombre_recovered    16683\n",
    "Name: 119, dtype: int64"
   ]
  },
  {
   "cell_type": "markdown",
   "id": "f347ff9d",
   "metadata": {},
   "source": [
    "nombre_infected       411\n",
    "nombre_sain          2633\n",
    "nombre_exposed        286\n",
    "nombre_recovered    16670\n",
    "Name: 120, dtype: int64"
   ]
  },
  {
   "cell_type": "markdown",
   "id": "cd66967a",
   "metadata": {},
   "source": [
    "nombre_infected       435\n",
    "nombre_sain          2615\n",
    "nombre_exposed        279\n",
    "nombre_recovered    16671\n",
    "Name: 121, dtype: int64"
   ]
  },
  {
   "cell_type": "markdown",
   "id": "5268ba47",
   "metadata": {},
   "source": [
    "nombre_infected       450\n",
    "nombre_sain          2606\n",
    "nombre_exposed        277\n",
    "nombre_recovered    16667\n",
    "Name: 122, dtype: int64"
   ]
  },
  {
   "cell_type": "markdown",
   "id": "9b147300",
   "metadata": {},
   "source": [
    "nombre_infected       473\n",
    "nombre_sain          2577\n",
    "nombre_exposed        295\n",
    "nombre_recovered    16655\n",
    "Name: 123, dtype: int64"
   ]
  },
  {
   "cell_type": "markdown",
   "id": "b3bf07b3",
   "metadata": {},
   "source": [
    "nombre_infected       483\n",
    "nombre_sain          2543\n",
    "nombre_exposed        303\n",
    "nombre_recovered    16671\n",
    "Name: 124, dtype: int64"
   ]
  },
  {
   "cell_type": "markdown",
   "id": "b3411e2f",
   "metadata": {},
   "source": [
    "nombre_infected       499\n",
    "nombre_sain          2516\n",
    "nombre_exposed        309\n",
    "nombre_recovered    16676\n",
    "Name: 125, dtype: int64"
   ]
  },
  {
   "cell_type": "markdown",
   "id": "548e0573",
   "metadata": {},
   "source": [
    "nombre_infected       525\n",
    "nombre_sain          2471\n",
    "nombre_exposed        314\n",
    "nombre_recovered    16690\n",
    "Name: 126, dtype: int64"
   ]
  },
  {
   "cell_type": "markdown",
   "id": "1aea4388",
   "metadata": {},
   "source": [
    "nombre_infected       535\n",
    "nombre_sain          2435\n",
    "nombre_exposed        325\n",
    "nombre_recovered    16705\n",
    "Name: 127, dtype: int64"
   ]
  },
  {
   "cell_type": "markdown",
   "id": "bceb2bef",
   "metadata": {},
   "source": [
    "nombre_infected       539\n",
    "nombre_sain          2403\n",
    "nombre_exposed        349\n",
    "nombre_recovered    16709\n",
    "Name: 128, dtype: int64"
   ]
  },
  {
   "cell_type": "markdown",
   "id": "baafdbcb",
   "metadata": {},
   "source": [
    "nombre_infected       562\n",
    "nombre_sain          2370\n",
    "nombre_exposed        354\n",
    "nombre_recovered    16714\n",
    "Name: 129, dtype: int64"
   ]
  },
  {
   "cell_type": "markdown",
   "id": "d5650a4d",
   "metadata": {},
   "source": [
    "nombre_infected       578\n",
    "nombre_sain          2355\n",
    "nombre_exposed        344\n",
    "nombre_recovered    16723\n",
    "Name: 130, dtype: int64"
   ]
  },
  {
   "cell_type": "markdown",
   "id": "b6d50b41",
   "metadata": {},
   "source": [
    "nombre_infected       599\n",
    "nombre_sain          2347\n",
    "nombre_exposed        339\n",
    "nombre_recovered    16715\n",
    "Name: 131, dtype: int64"
   ]
  },
  {
   "cell_type": "markdown",
   "id": "53d7f84a",
   "metadata": {},
   "source": [
    "nombre_infected       603\n",
    "nombre_sain          2321\n",
    "nombre_exposed        353\n",
    "nombre_recovered    16723\n",
    "Name: 132, dtype: int64"
   ]
  },
  {
   "cell_type": "markdown",
   "id": "622abb55",
   "metadata": {},
   "source": [
    "nombre_infected       609\n",
    "nombre_sain          2284\n",
    "nombre_exposed        376\n",
    "nombre_recovered    16731\n",
    "Name: 133, dtype: int64"
   ]
  },
  {
   "cell_type": "markdown",
   "id": "9da93b33",
   "metadata": {},
   "source": [
    "nombre_infected       616\n",
    "nombre_sain          2274\n",
    "nombre_exposed        382\n",
    "nombre_recovered    16728\n",
    "Name: 134, dtype: int64"
   ]
  },
  {
   "cell_type": "markdown",
   "id": "57331de8",
   "metadata": {},
   "source": [
    "nombre_infected       624\n",
    "nombre_sain          2252\n",
    "nombre_exposed        386\n",
    "nombre_recovered    16738\n",
    "Name: 135, dtype: int64"
   ]
  },
  {
   "cell_type": "markdown",
   "id": "fe058b61",
   "metadata": {},
   "source": [
    "nombre_infected       621\n",
    "nombre_sain          2251\n",
    "nombre_exposed        378\n",
    "nombre_recovered    16750\n",
    "Name: 136, dtype: int64"
   ]
  },
  {
   "cell_type": "markdown",
   "id": "5d9cc58d",
   "metadata": {},
   "source": [
    "nombre_infected       621\n",
    "nombre_sain          2247\n",
    "nombre_exposed        382\n",
    "nombre_recovered    16750\n",
    "Name: 137, dtype: int64"
   ]
  },
  {
   "cell_type": "markdown",
   "id": "6071a267",
   "metadata": {},
   "source": [
    "nombre_infected       621\n",
    "nombre_sain          2242\n",
    "nombre_exposed        387\n",
    "nombre_recovered    16750\n",
    "Name: 138, dtype: int64"
   ]
  },
  {
   "cell_type": "markdown",
   "id": "ea1dd231",
   "metadata": {},
   "source": [
    "nombre_infected       626\n",
    "nombre_sain          2245\n",
    "nombre_exposed        381\n",
    "nombre_recovered    16748\n",
    "Name: 139, dtype: int64"
   ]
  },
  {
   "cell_type": "markdown",
   "id": "23d611ca",
   "metadata": {},
   "source": [
    "nombre_infected       642\n",
    "nombre_sain          2213\n",
    "nombre_exposed        384\n",
    "nombre_recovered    16761\n",
    "Name: 140, dtype: int64"
   ]
  },
  {
   "cell_type": "markdown",
   "id": "3bbdfe88",
   "metadata": {},
   "source": [
    "nombre_infected       644\n",
    "nombre_sain          2202\n",
    "nombre_exposed        385\n",
    "nombre_recovered    16769\n",
    "Name: 141, dtype: int64"
   ]
  },
  {
   "cell_type": "markdown",
   "id": "f0323ea6",
   "metadata": {},
   "source": [
    "nombre_infected       653\n",
    "nombre_sain          2190\n",
    "nombre_exposed        377\n",
    "nombre_recovered    16780\n",
    "Name: 142, dtype: int64"
   ]
  },
  {
   "cell_type": "markdown",
   "id": "6fb71418",
   "metadata": {},
   "source": [
    "nombre_infected       673\n",
    "nombre_sain          2173\n",
    "nombre_exposed        377\n",
    "nombre_recovered    16777\n",
    "Name: 143, dtype: int64"
   ]
  },
  {
   "cell_type": "markdown",
   "id": "bcc7df23",
   "metadata": {},
   "source": [
    "nombre_infected       674\n",
    "nombre_sain          2168\n",
    "nombre_exposed        385\n",
    "nombre_recovered    16773\n",
    "Name: 144, dtype: int64"
   ]
  },
  {
   "cell_type": "markdown",
   "id": "17514865",
   "metadata": {},
   "source": [
    "nombre_infected       666\n",
    "nombre_sain          2174\n",
    "nombre_exposed        367\n",
    "nombre_recovered    16793\n",
    "Name: 145, dtype: int64"
   ]
  },
  {
   "cell_type": "markdown",
   "id": "553825c5",
   "metadata": {},
   "source": [
    "nombre_infected       674\n",
    "nombre_sain          2159\n",
    "nombre_exposed        349\n",
    "nombre_recovered    16818\n",
    "Name: 146, dtype: int64"
   ]
  },
  {
   "cell_type": "markdown",
   "id": "a7e5ff87",
   "metadata": {},
   "source": [
    "nombre_infected       670\n",
    "nombre_sain          2173\n",
    "nombre_exposed        341\n",
    "nombre_recovered    16816\n",
    "Name: 147, dtype: int64"
   ]
  },
  {
   "cell_type": "markdown",
   "id": "77eaf175",
   "metadata": {},
   "source": [
    "nombre_infected       649\n",
    "nombre_sain          2185\n",
    "nombre_exposed        332\n",
    "nombre_recovered    16834\n",
    "Name: 148, dtype: int64"
   ]
  },
  {
   "cell_type": "markdown",
   "id": "b1ac8bbe",
   "metadata": {},
   "source": [
    "nombre_infected       642\n",
    "nombre_sain          2203\n",
    "nombre_exposed        326\n",
    "nombre_recovered    16829\n",
    "Name: 149, dtype: int64"
   ]
  },
  {
   "cell_type": "markdown",
   "id": "95699d57",
   "metadata": {},
   "source": [
    "nombre_infected       620\n",
    "nombre_sain          2215\n",
    "nombre_exposed        340\n",
    "nombre_recovered    16825\n",
    "Name: 150, dtype: int64"
   ]
  },
  {
   "cell_type": "markdown",
   "id": "24df8dd4",
   "metadata": {},
   "source": [
    "nombre_infected       633\n",
    "nombre_sain          2217\n",
    "nombre_exposed        344\n",
    "nombre_recovered    16806\n",
    "Name: 151, dtype: int64"
   ]
  },
  {
   "cell_type": "markdown",
   "id": "eca2d81f",
   "metadata": {},
   "source": [
    "nombre_infected       635\n",
    "nombre_sain          2217\n",
    "nombre_exposed        354\n",
    "nombre_recovered    16794\n",
    "Name: 152, dtype: int64"
   ]
  },
  {
   "cell_type": "markdown",
   "id": "4f715721",
   "metadata": {},
   "source": [
    "nombre_infected       638\n",
    "nombre_sain          2242\n",
    "nombre_exposed        343\n",
    "nombre_recovered    16777\n",
    "Name: 153, dtype: int64"
   ]
  },
  {
   "cell_type": "markdown",
   "id": "9fe70f9b",
   "metadata": {},
   "source": [
    "nombre_infected       647\n",
    "nombre_sain          2254\n",
    "nombre_exposed        338\n",
    "nombre_recovered    16761\n",
    "Name: 154, dtype: int64"
   ]
  },
  {
   "cell_type": "markdown",
   "id": "70effb15",
   "metadata": {},
   "source": [
    "nombre_infected       647\n",
    "nombre_sain          2252\n",
    "nombre_exposed        351\n",
    "nombre_recovered    16750\n",
    "Name: 155, dtype: int64"
   ]
  },
  {
   "cell_type": "markdown",
   "id": "cf44face",
   "metadata": {},
   "source": [
    "nombre_infected       650\n",
    "nombre_sain          2254\n",
    "nombre_exposed        351\n",
    "nombre_recovered    16745\n",
    "Name: 156, dtype: int64"
   ]
  },
  {
   "cell_type": "markdown",
   "id": "cd70b6ae",
   "metadata": {},
   "source": [
    "nombre_infected       645\n",
    "nombre_sain          2254\n",
    "nombre_exposed        360\n",
    "nombre_recovered    16741\n",
    "Name: 157, dtype: int64"
   ]
  },
  {
   "cell_type": "markdown",
   "id": "04562723",
   "metadata": {},
   "source": [
    "nombre_infected       655\n",
    "nombre_sain          2257\n",
    "nombre_exposed        342\n",
    "nombre_recovered    16746\n",
    "Name: 158, dtype: int64"
   ]
  },
  {
   "cell_type": "markdown",
   "id": "235940bf",
   "metadata": {},
   "source": [
    "nombre_infected       654\n",
    "nombre_sain          2240\n",
    "nombre_exposed        362\n",
    "nombre_recovered    16744\n",
    "Name: 159, dtype: int64"
   ]
  },
  {
   "cell_type": "markdown",
   "id": "4f4bbae6",
   "metadata": {},
   "source": [
    "nombre_infected       639\n",
    "nombre_sain          2212\n",
    "nombre_exposed        385\n",
    "nombre_recovered    16764\n",
    "Name: 160, dtype: int64"
   ]
  },
  {
   "cell_type": "markdown",
   "id": "e5db2beb",
   "metadata": {},
   "source": [
    "nombre_infected       645\n",
    "nombre_sain          2197\n",
    "nombre_exposed        393\n",
    "nombre_recovered    16765\n",
    "Name: 161, dtype: int64"
   ]
  },
  {
   "cell_type": "markdown",
   "id": "e3d32456",
   "metadata": {},
   "source": [
    "nombre_infected       651\n",
    "nombre_sain          2170\n",
    "nombre_exposed        409\n",
    "nombre_recovered    16770\n",
    "Name: 162, dtype: int64"
   ]
  },
  {
   "cell_type": "markdown",
   "id": "e0bf1528",
   "metadata": {},
   "source": [
    "nombre_infected       648\n",
    "nombre_sain          2168\n",
    "nombre_exposed        401\n",
    "nombre_recovered    16783\n",
    "Name: 163, dtype: int64"
   ]
  },
  {
   "cell_type": "markdown",
   "id": "295f40f8",
   "metadata": {},
   "source": [
    "nombre_infected       677\n",
    "nombre_sain          2175\n",
    "nombre_exposed        363\n",
    "nombre_recovered    16785\n",
    "Name: 164, dtype: int64"
   ]
  },
  {
   "cell_type": "markdown",
   "id": "61869b99",
   "metadata": {},
   "source": [
    "nombre_infected       663\n",
    "nombre_sain          2176\n",
    "nombre_exposed        375\n",
    "nombre_recovered    16786\n",
    "Name: 165, dtype: int64"
   ]
  },
  {
   "cell_type": "markdown",
   "id": "b7da7cf4",
   "metadata": {},
   "source": [
    "nombre_infected       653\n",
    "nombre_sain          2180\n",
    "nombre_exposed        378\n",
    "nombre_recovered    16789\n",
    "Name: 166, dtype: int64"
   ]
  },
  {
   "cell_type": "markdown",
   "id": "c3197ebc",
   "metadata": {},
   "source": [
    "nombre_infected       644\n",
    "nombre_sain          2168\n",
    "nombre_exposed        362\n",
    "nombre_recovered    16826\n",
    "Name: 167, dtype: int64"
   ]
  },
  {
   "cell_type": "markdown",
   "id": "0b7930a3",
   "metadata": {},
   "source": [
    "nombre_infected       663\n",
    "nombre_sain          2166\n",
    "nombre_exposed        351\n",
    "nombre_recovered    16820\n",
    "Name: 168, dtype: int64"
   ]
  },
  {
   "cell_type": "markdown",
   "id": "c039edd4",
   "metadata": {},
   "source": [
    "nombre_infected       654\n",
    "nombre_sain          2171\n",
    "nombre_exposed        345\n",
    "nombre_recovered    16830\n",
    "Name: 169, dtype: int64"
   ]
  },
  {
   "cell_type": "markdown",
   "id": "546a89e1",
   "metadata": {},
   "source": [
    "nombre_infected       643\n",
    "nombre_sain          2162\n",
    "nombre_exposed        359\n",
    "nombre_recovered    16836\n",
    "Name: 170, dtype: int64"
   ]
  },
  {
   "cell_type": "markdown",
   "id": "4b9b24a6",
   "metadata": {},
   "source": [
    "nombre_infected       645\n",
    "nombre_sain          2163\n",
    "nombre_exposed        365\n",
    "nombre_recovered    16827\n",
    "Name: 171, dtype: int64"
   ]
  },
  {
   "cell_type": "markdown",
   "id": "0e79faa4",
   "metadata": {},
   "source": [
    "nombre_infected       650\n",
    "nombre_sain          2163\n",
    "nombre_exposed        387\n",
    "nombre_recovered    16800\n",
    "Name: 172, dtype: int64"
   ]
  },
  {
   "cell_type": "markdown",
   "id": "5239340d",
   "metadata": {},
   "source": [
    "nombre_infected       642\n",
    "nombre_sain          2176\n",
    "nombre_exposed        379\n",
    "nombre_recovered    16803\n",
    "Name: 173, dtype: int64"
   ]
  },
  {
   "cell_type": "markdown",
   "id": "03becbf7",
   "metadata": {},
   "source": [
    "nombre_infected       643\n",
    "nombre_sain          2159\n",
    "nombre_exposed        379\n",
    "nombre_recovered    16819\n",
    "Name: 174, dtype: int64"
   ]
  },
  {
   "cell_type": "markdown",
   "id": "c85f334e",
   "metadata": {},
   "source": [
    "nombre_infected       630\n",
    "nombre_sain          2190\n",
    "nombre_exposed        376\n",
    "nombre_recovered    16804\n",
    "Name: 175, dtype: int64"
   ]
  },
  {
   "cell_type": "markdown",
   "id": "493eccf9",
   "metadata": {},
   "source": [
    "nombre_infected       625\n",
    "nombre_sain          2205\n",
    "nombre_exposed        382\n",
    "nombre_recovered    16788\n",
    "Name: 176, dtype: int64"
   ]
  },
  {
   "cell_type": "markdown",
   "id": "86729aae",
   "metadata": {},
   "source": [
    "nombre_infected       617\n",
    "nombre_sain          2219\n",
    "nombre_exposed        371\n",
    "nombre_recovered    16793\n",
    "Name: 177, dtype: int64"
   ]
  },
  {
   "cell_type": "markdown",
   "id": "0f213796",
   "metadata": {},
   "source": [
    "nombre_infected       631\n",
    "nombre_sain          2251\n",
    "nombre_exposed        362\n",
    "nombre_recovered    16756\n",
    "Name: 178, dtype: int64"
   ]
  },
  {
   "cell_type": "markdown",
   "id": "de0180c9",
   "metadata": {},
   "source": [
    "nombre_infected       629\n",
    "nombre_sain          2247\n",
    "nombre_exposed        382\n",
    "nombre_recovered    16742\n",
    "Name: 179, dtype: int64"
   ]
  },
  {
   "cell_type": "markdown",
   "id": "a6dcdacd",
   "metadata": {},
   "source": [
    "nombre_infected       630\n",
    "nombre_sain          2257\n",
    "nombre_exposed        388\n",
    "nombre_recovered    16725\n",
    "Name: 180, dtype: int64"
   ]
  },
  {
   "cell_type": "markdown",
   "id": "5094466e",
   "metadata": {},
   "source": [
    "nombre_infected       629\n",
    "nombre_sain          2252\n",
    "nombre_exposed        411\n",
    "nombre_recovered    16708\n",
    "Name: 181, dtype: int64"
   ]
  },
  {
   "cell_type": "markdown",
   "id": "6512a22d",
   "metadata": {},
   "source": [
    "nombre_infected       625\n",
    "nombre_sain          2256\n",
    "nombre_exposed        418\n",
    "nombre_recovered    16701\n",
    "Name: 182, dtype: int64"
   ]
  },
  {
   "cell_type": "markdown",
   "id": "c26de9f3",
   "metadata": {},
   "source": [
    "nombre_infected       633\n",
    "nombre_sain          2279\n",
    "nombre_exposed        412\n",
    "nombre_recovered    16676\n",
    "Name: 183, dtype: int64"
   ]
  },
  {
   "cell_type": "markdown",
   "id": "11a874df",
   "metadata": {},
   "source": [
    "nombre_infected       661\n",
    "nombre_sain          2293\n",
    "nombre_exposed        399\n",
    "nombre_recovered    16647\n",
    "Name: 184, dtype: int64"
   ]
  },
  {
   "cell_type": "markdown",
   "id": "bbdaaa1d",
   "metadata": {},
   "source": [
    "nombre_infected       673\n",
    "nombre_sain          2310\n",
    "nombre_exposed        387\n",
    "nombre_recovered    16630\n",
    "Name: 185, dtype: int64"
   ]
  },
  {
   "cell_type": "markdown",
   "id": "8b331428",
   "metadata": {},
   "source": [
    "nombre_infected       663\n",
    "nombre_sain          2336\n",
    "nombre_exposed        387\n",
    "nombre_recovered    16614\n",
    "Name: 186, dtype: int64"
   ]
  },
  {
   "cell_type": "markdown",
   "id": "01fea1f0",
   "metadata": {},
   "source": [
    "nombre_infected       653\n",
    "nombre_sain          2323\n",
    "nombre_exposed        409\n",
    "nombre_recovered    16615\n",
    "Name: 187, dtype: int64"
   ]
  },
  {
   "cell_type": "markdown",
   "id": "0a6106c9",
   "metadata": {},
   "source": [
    "nombre_infected       662\n",
    "nombre_sain          2334\n",
    "nombre_exposed        409\n",
    "nombre_recovered    16595\n",
    "Name: 188, dtype: int64"
   ]
  },
  {
   "cell_type": "markdown",
   "id": "8633e8c7",
   "metadata": {},
   "source": [
    "nombre_infected       666\n",
    "nombre_sain          2341\n",
    "nombre_exposed        431\n",
    "nombre_recovered    16562\n",
    "Name: 189, dtype: int64"
   ]
  },
  {
   "cell_type": "markdown",
   "id": "ab2551a1",
   "metadata": {},
   "source": [
    "nombre_infected       674\n",
    "nombre_sain          2385\n",
    "nombre_exposed        408\n",
    "nombre_recovered    16533\n",
    "Name: 190, dtype: int64"
   ]
  },
  {
   "cell_type": "markdown",
   "id": "e33898cc",
   "metadata": {},
   "source": [
    "nombre_infected       672\n",
    "nombre_sain          2377\n",
    "nombre_exposed        408\n",
    "nombre_recovered    16543\n",
    "Name: 191, dtype: int64"
   ]
  },
  {
   "cell_type": "markdown",
   "id": "ab858f54",
   "metadata": {},
   "source": [
    "nombre_infected       657\n",
    "nombre_sain          2384\n",
    "nombre_exposed        432\n",
    "nombre_recovered    16527\n",
    "Name: 192, dtype: int64"
   ]
  },
  {
   "cell_type": "markdown",
   "id": "7188b32a",
   "metadata": {},
   "source": [
    "nombre_infected       685\n",
    "nombre_sain          2395\n",
    "nombre_exposed        422\n",
    "nombre_recovered    16498\n",
    "Name: 193, dtype: int64"
   ]
  },
  {
   "cell_type": "markdown",
   "id": "381081fb",
   "metadata": {},
   "source": [
    "nombre_infected       690\n",
    "nombre_sain          2385\n",
    "nombre_exposed        420\n",
    "nombre_recovered    16505\n",
    "Name: 194, dtype: int64"
   ]
  },
  {
   "cell_type": "markdown",
   "id": "a385afa6",
   "metadata": {},
   "source": [
    "nombre_infected       712\n",
    "nombre_sain          2393\n",
    "nombre_exposed        433\n",
    "nombre_recovered    16462\n",
    "Name: 195, dtype: int64"
   ]
  },
  {
   "cell_type": "markdown",
   "id": "a406b1bd",
   "metadata": {},
   "source": [
    "nombre_infected       729\n",
    "nombre_sain          2393\n",
    "nombre_exposed        435\n",
    "nombre_recovered    16443\n",
    "Name: 196, dtype: int64"
   ]
  },
  {
   "cell_type": "markdown",
   "id": "ba0d4fc5",
   "metadata": {},
   "source": [
    "nombre_infected       744\n",
    "nombre_sain          2363\n",
    "nombre_exposed        438\n",
    "nombre_recovered    16455\n",
    "Name: 197, dtype: int64"
   ]
  },
  {
   "cell_type": "markdown",
   "id": "cee0c0ca",
   "metadata": {},
   "source": [
    "nombre_infected       728\n",
    "nombre_sain          2314\n",
    "nombre_exposed        482\n",
    "nombre_recovered    16476\n",
    "Name: 198, dtype: int64"
   ]
  },
  {
   "cell_type": "markdown",
   "id": "ccc0af5d",
   "metadata": {},
   "source": [
    "nombre_infected       731\n",
    "nombre_sain          2285\n",
    "nombre_exposed        500\n",
    "nombre_recovered    16484\n",
    "Name: 199, dtype: int64"
   ]
  },
  {
   "cell_type": "markdown",
   "id": "9b9d9c0a",
   "metadata": {},
   "source": [
    "nombre_infected       764\n",
    "nombre_sain          2237\n",
    "nombre_exposed        487\n",
    "nombre_recovered    16512\n",
    "Name: 200, dtype: int64"
   ]
  },
  {
   "cell_type": "markdown",
   "id": "f097486a",
   "metadata": {},
   "source": [
    "nombre_infected       798\n",
    "nombre_sain          2213\n",
    "nombre_exposed        481\n",
    "nombre_recovered    16508\n",
    "Name: 201, dtype: int64"
   ]
  },
  {
   "cell_type": "markdown",
   "id": "0e302dd8",
   "metadata": {},
   "source": [
    "nombre_infected       781\n",
    "nombre_sain          2184\n",
    "nombre_exposed        495\n",
    "nombre_recovered    16540\n",
    "Name: 202, dtype: int64"
   ]
  },
  {
   "cell_type": "markdown",
   "id": "423aa780",
   "metadata": {},
   "source": [
    "nombre_infected       777\n",
    "nombre_sain          2163\n",
    "nombre_exposed        500\n",
    "nombre_recovered    16560\n",
    "Name: 203, dtype: int64"
   ]
  },
  {
   "cell_type": "markdown",
   "id": "127a0099",
   "metadata": {},
   "source": [
    "nombre_infected       796\n",
    "nombre_sain          2117\n",
    "nombre_exposed        486\n",
    "nombre_recovered    16601\n",
    "Name: 204, dtype: int64"
   ]
  },
  {
   "cell_type": "markdown",
   "id": "c22914ec",
   "metadata": {},
   "source": [
    "nombre_infected       792\n",
    "nombre_sain          2104\n",
    "nombre_exposed        480\n",
    "nombre_recovered    16624\n",
    "Name: 205, dtype: int64"
   ]
  },
  {
   "cell_type": "markdown",
   "id": "1c6253a7",
   "metadata": {},
   "source": [
    "nombre_infected       797\n",
    "nombre_sain          2084\n",
    "nombre_exposed        470\n",
    "nombre_recovered    16649\n",
    "Name: 206, dtype: int64"
   ]
  },
  {
   "cell_type": "markdown",
   "id": "fb73ab90",
   "metadata": {},
   "source": [
    "nombre_infected       803\n",
    "nombre_sain          2063\n",
    "nombre_exposed        454\n",
    "nombre_recovered    16680\n",
    "Name: 207, dtype: int64"
   ]
  },
  {
   "cell_type": "markdown",
   "id": "5d20fe2f",
   "metadata": {},
   "source": [
    "nombre_infected       796\n",
    "nombre_sain          2058\n",
    "nombre_exposed        454\n",
    "nombre_recovered    16692\n",
    "Name: 208, dtype: int64"
   ]
  },
  {
   "cell_type": "markdown",
   "id": "3cb54e4e",
   "metadata": {},
   "source": [
    "nombre_infected       787\n",
    "nombre_sain          2057\n",
    "nombre_exposed        468\n",
    "nombre_recovered    16688\n",
    "Name: 209, dtype: int64"
   ]
  },
  {
   "cell_type": "markdown",
   "id": "67dbea88",
   "metadata": {},
   "source": [
    "nombre_infected       771\n",
    "nombre_sain          2035\n",
    "nombre_exposed        470\n",
    "nombre_recovered    16724\n",
    "Name: 210, dtype: int64"
   ]
  },
  {
   "cell_type": "markdown",
   "id": "46fefbc3",
   "metadata": {},
   "source": [
    "nombre_infected       771\n",
    "nombre_sain          2036\n",
    "nombre_exposed        443\n",
    "nombre_recovered    16750\n",
    "Name: 211, dtype: int64"
   ]
  },
  {
   "cell_type": "markdown",
   "id": "0ea46337",
   "metadata": {},
   "source": [
    "nombre_infected       781\n",
    "nombre_sain          2027\n",
    "nombre_exposed        450\n",
    "nombre_recovered    16742\n",
    "Name: 212, dtype: int64"
   ]
  },
  {
   "cell_type": "markdown",
   "id": "f1fb7e56",
   "metadata": {},
   "source": [
    "nombre_infected       768\n",
    "nombre_sain          2038\n",
    "nombre_exposed        443\n",
    "nombre_recovered    16751\n",
    "Name: 213, dtype: int64"
   ]
  },
  {
   "cell_type": "markdown",
   "id": "919763e0",
   "metadata": {},
   "source": [
    "nombre_infected       777\n",
    "nombre_sain          2066\n",
    "nombre_exposed        432\n",
    "nombre_recovered    16725\n",
    "Name: 214, dtype: int64"
   ]
  },
  {
   "cell_type": "markdown",
   "id": "39e20464",
   "metadata": {},
   "source": [
    "nombre_infected       782\n",
    "nombre_sain          2089\n",
    "nombre_exposed        416\n",
    "nombre_recovered    16713\n",
    "Name: 215, dtype: int64"
   ]
  },
  {
   "cell_type": "markdown",
   "id": "d152a123",
   "metadata": {},
   "source": [
    "nombre_infected       788\n",
    "nombre_sain          2095\n",
    "nombre_exposed        416\n",
    "nombre_recovered    16701\n",
    "Name: 216, dtype: int64"
   ]
  },
  {
   "cell_type": "markdown",
   "id": "7d1d3846",
   "metadata": {},
   "source": [
    "nombre_infected       801\n",
    "nombre_sain          2100\n",
    "nombre_exposed        407\n",
    "nombre_recovered    16692\n",
    "Name: 217, dtype: int64"
   ]
  },
  {
   "cell_type": "markdown",
   "id": "8e05ce9e",
   "metadata": {},
   "source": [
    "nombre_infected       788\n",
    "nombre_sain          2077\n",
    "nombre_exposed        423\n",
    "nombre_recovered    16712\n",
    "Name: 218, dtype: int64"
   ]
  },
  {
   "cell_type": "markdown",
   "id": "12fbad1d",
   "metadata": {},
   "source": [
    "nombre_infected       782\n",
    "nombre_sain          2071\n",
    "nombre_exposed        432\n",
    "nombre_recovered    16715\n",
    "Name: 219, dtype: int64"
   ]
  },
  {
   "cell_type": "markdown",
   "id": "9ef1d541",
   "metadata": {},
   "source": [
    "nombre_infected       777\n",
    "nombre_sain          2087\n",
    "nombre_exposed        443\n",
    "nombre_recovered    16693\n",
    "Name: 220, dtype: int64"
   ]
  },
  {
   "cell_type": "markdown",
   "id": "22b0327e",
   "metadata": {},
   "source": [
    "nombre_infected       807\n",
    "nombre_sain          2087\n",
    "nombre_exposed        429\n",
    "nombre_recovered    16677\n",
    "Name: 221, dtype: int64"
   ]
  },
  {
   "cell_type": "markdown",
   "id": "9f0a4c9a",
   "metadata": {},
   "source": [
    "nombre_infected       819\n",
    "nombre_sain          2071\n",
    "nombre_exposed        420\n",
    "nombre_recovered    16690\n",
    "Name: 222, dtype: int64"
   ]
  },
  {
   "cell_type": "markdown",
   "id": "e2a32907",
   "metadata": {},
   "source": [
    "nombre_infected       824\n",
    "nombre_sain          2061\n",
    "nombre_exposed        425\n",
    "nombre_recovered    16690\n",
    "Name: 223, dtype: int64"
   ]
  },
  {
   "cell_type": "markdown",
   "id": "8fdd5a5e",
   "metadata": {},
   "source": [
    "nombre_infected       821\n",
    "nombre_sain          2055\n",
    "nombre_exposed        431\n",
    "nombre_recovered    16693\n",
    "Name: 224, dtype: int64"
   ]
  },
  {
   "cell_type": "markdown",
   "id": "0a63fe4f",
   "metadata": {},
   "source": [
    "nombre_infected       818\n",
    "nombre_sain          2063\n",
    "nombre_exposed        447\n",
    "nombre_recovered    16672\n",
    "Name: 225, dtype: int64"
   ]
  },
  {
   "cell_type": "markdown",
   "id": "7603c1b2",
   "metadata": {},
   "source": [
    "nombre_infected       818\n",
    "nombre_sain          2058\n",
    "nombre_exposed        454\n",
    "nombre_recovered    16670\n",
    "Name: 226, dtype: int64"
   ]
  },
  {
   "cell_type": "markdown",
   "id": "932ecf25",
   "metadata": {},
   "source": [
    "nombre_infected       835\n",
    "nombre_sain          2060\n",
    "nombre_exposed        463\n",
    "nombre_recovered    16642\n",
    "Name: 227, dtype: int64"
   ]
  },
  {
   "cell_type": "markdown",
   "id": "76c1e5e7",
   "metadata": {},
   "source": [
    "nombre_infected       853\n",
    "nombre_sain          2070\n",
    "nombre_exposed        453\n",
    "nombre_recovered    16624\n",
    "Name: 228, dtype: int64"
   ]
  },
  {
   "cell_type": "markdown",
   "id": "ccf9a09a",
   "metadata": {},
   "source": [
    "nombre_infected       852\n",
    "nombre_sain          2070\n",
    "nombre_exposed        449\n",
    "nombre_recovered    16629\n",
    "Name: 229, dtype: int64"
   ]
  },
  {
   "cell_type": "markdown",
   "id": "7a90c703",
   "metadata": {},
   "source": [
    "nombre_infected       842\n",
    "nombre_sain          2057\n",
    "nombre_exposed        476\n",
    "nombre_recovered    16625\n",
    "Name: 230, dtype: int64"
   ]
  },
  {
   "cell_type": "markdown",
   "id": "202e27f8",
   "metadata": {},
   "source": [
    "nombre_infected       845\n",
    "nombre_sain          2069\n",
    "nombre_exposed        462\n",
    "nombre_recovered    16624\n",
    "Name: 231, dtype: int64"
   ]
  },
  {
   "cell_type": "markdown",
   "id": "f77cc4bb",
   "metadata": {},
   "source": [
    "nombre_infected       851\n",
    "nombre_sain          2059\n",
    "nombre_exposed        457\n",
    "nombre_recovered    16633\n",
    "Name: 232, dtype: int64"
   ]
  },
  {
   "cell_type": "markdown",
   "id": "085c4f6b",
   "metadata": {},
   "source": [
    "nombre_infected       856\n",
    "nombre_sain          2046\n",
    "nombre_exposed        458\n",
    "nombre_recovered    16640\n",
    "Name: 233, dtype: int64"
   ]
  },
  {
   "cell_type": "markdown",
   "id": "3bb93c9e",
   "metadata": {},
   "source": [
    "nombre_infected       870\n",
    "nombre_sain          2029\n",
    "nombre_exposed        461\n",
    "nombre_recovered    16640\n",
    "Name: 234, dtype: int64"
   ]
  },
  {
   "cell_type": "markdown",
   "id": "9422f0b6",
   "metadata": {},
   "source": [
    "nombre_infected       879\n",
    "nombre_sain          2033\n",
    "nombre_exposed        462\n",
    "nombre_recovered    16626\n",
    "Name: 235, dtype: int64"
   ]
  },
  {
   "cell_type": "markdown",
   "id": "881eef3a",
   "metadata": {},
   "source": [
    "nombre_infected       860\n",
    "nombre_sain          2034\n",
    "nombre_exposed        466\n",
    "nombre_recovered    16640\n",
    "Name: 236, dtype: int64"
   ]
  },
  {
   "cell_type": "markdown",
   "id": "86198020",
   "metadata": {},
   "source": [
    "nombre_infected       892\n",
    "nombre_sain          2027\n",
    "nombre_exposed        458\n",
    "nombre_recovered    16623\n",
    "Name: 237, dtype: int64"
   ]
  },
  {
   "cell_type": "markdown",
   "id": "1230c2e4",
   "metadata": {},
   "source": [
    "nombre_infected       892\n",
    "nombre_sain          2030\n",
    "nombre_exposed        460\n",
    "nombre_recovered    16618\n",
    "Name: 238, dtype: int64"
   ]
  },
  {
   "cell_type": "markdown",
   "id": "e58f7fe0",
   "metadata": {},
   "source": [
    "nombre_infected       898\n",
    "nombre_sain          2047\n",
    "nombre_exposed        457\n",
    "nombre_recovered    16598\n",
    "Name: 239, dtype: int64"
   ]
  },
  {
   "cell_type": "markdown",
   "id": "f4188fe9",
   "metadata": {},
   "source": [
    "nombre_infected       879\n",
    "nombre_sain          2062\n",
    "nombre_exposed        453\n",
    "nombre_recovered    16606\n",
    "Name: 240, dtype: int64"
   ]
  },
  {
   "cell_type": "markdown",
   "id": "3784d82d",
   "metadata": {},
   "source": [
    "nombre_infected       885\n",
    "nombre_sain          2070\n",
    "nombre_exposed        422\n",
    "nombre_recovered    16623\n",
    "Name: 241, dtype: int64"
   ]
  },
  {
   "cell_type": "markdown",
   "id": "93b81776",
   "metadata": {},
   "source": [
    "nombre_infected       883\n",
    "nombre_sain          2094\n",
    "nombre_exposed        427\n",
    "nombre_recovered    16596\n",
    "Name: 242, dtype: int64"
   ]
  },
  {
   "cell_type": "markdown",
   "id": "e8271bad",
   "metadata": {},
   "source": [
    "nombre_infected       859\n",
    "nombre_sain          2087\n",
    "nombre_exposed        458\n",
    "nombre_recovered    16596\n",
    "Name: 243, dtype: int64"
   ]
  },
  {
   "cell_type": "markdown",
   "id": "717189d3",
   "metadata": {},
   "source": [
    "nombre_infected       887\n",
    "nombre_sain          2060\n",
    "nombre_exposed        474\n",
    "nombre_recovered    16579\n",
    "Name: 244, dtype: int64"
   ]
  },
  {
   "cell_type": "markdown",
   "id": "bc20591e",
   "metadata": {},
   "source": [
    "nombre_infected       877\n",
    "nombre_sain          2061\n",
    "nombre_exposed        488\n",
    "nombre_recovered    16574\n",
    "Name: 245, dtype: int64"
   ]
  },
  {
   "cell_type": "markdown",
   "id": "b990b4cd",
   "metadata": {},
   "source": [
    "nombre_infected       884\n",
    "nombre_sain          2063\n",
    "nombre_exposed        482\n",
    "nombre_recovered    16571\n",
    "Name: 246, dtype: int64"
   ]
  },
  {
   "cell_type": "markdown",
   "id": "bcf4c101",
   "metadata": {},
   "source": [
    "nombre_infected       896\n",
    "nombre_sain          2065\n",
    "nombre_exposed        466\n",
    "nombre_recovered    16573\n",
    "Name: 247, dtype: int64"
   ]
  },
  {
   "cell_type": "markdown",
   "id": "f90544d8",
   "metadata": {},
   "source": [
    "nombre_infected       890\n",
    "nombre_sain          2065\n",
    "nombre_exposed        461\n",
    "nombre_recovered    16584\n",
    "Name: 248, dtype: int64"
   ]
  },
  {
   "cell_type": "markdown",
   "id": "483e7a09",
   "metadata": {},
   "source": [
    "nombre_infected       889\n",
    "nombre_sain          2078\n",
    "nombre_exposed        449\n",
    "nombre_recovered    16584\n",
    "Name: 249, dtype: int64"
   ]
  },
  {
   "cell_type": "markdown",
   "id": "ef813edd",
   "metadata": {},
   "source": [
    "nombre_infected       923\n",
    "nombre_sain          2090\n",
    "nombre_exposed        425\n",
    "nombre_recovered    16562\n",
    "Name: 250, dtype: int64"
   ]
  },
  {
   "cell_type": "markdown",
   "id": "13f672d1",
   "metadata": {},
   "source": [
    "nombre_infected       911\n",
    "nombre_sain          2071\n",
    "nombre_exposed        435\n",
    "nombre_recovered    16583\n",
    "Name: 251, dtype: int64"
   ]
  },
  {
   "cell_type": "markdown",
   "id": "ddc9a98f",
   "metadata": {},
   "source": [
    "nombre_infected       903\n",
    "nombre_sain          2056\n",
    "nombre_exposed        454\n",
    "nombre_recovered    16587\n",
    "Name: 252, dtype: int64"
   ]
  },
  {
   "cell_type": "markdown",
   "id": "67224f46",
   "metadata": {},
   "source": [
    "nombre_infected       898\n",
    "nombre_sain          2030\n",
    "nombre_exposed        507\n",
    "nombre_recovered    16565\n",
    "Name: 253, dtype: int64"
   ]
  },
  {
   "cell_type": "markdown",
   "id": "db403ea1",
   "metadata": {},
   "source": [
    "nombre_infected       893\n",
    "nombre_sain          2043\n",
    "nombre_exposed        464\n",
    "nombre_recovered    16600\n",
    "Name: 254, dtype: int64"
   ]
  },
  {
   "cell_type": "markdown",
   "id": "9847090d",
   "metadata": {},
   "source": [
    "nombre_infected       932\n",
    "nombre_sain          2036\n",
    "nombre_exposed        433\n",
    "nombre_recovered    16599\n",
    "Name: 255, dtype: int64"
   ]
  },
  {
   "cell_type": "markdown",
   "id": "eca4c991",
   "metadata": {},
   "source": [
    "nombre_infected       955\n",
    "nombre_sain          2018\n",
    "nombre_exposed        416\n",
    "nombre_recovered    16611\n",
    "Name: 256, dtype: int64"
   ]
  },
  {
   "cell_type": "markdown",
   "id": "6ebe9673",
   "metadata": {},
   "source": [
    "nombre_infected       958\n",
    "nombre_sain          1999\n",
    "nombre_exposed        418\n",
    "nombre_recovered    16625\n",
    "Name: 257, dtype: int64"
   ]
  },
  {
   "cell_type": "markdown",
   "id": "c1702ab0",
   "metadata": {},
   "source": [
    "nombre_infected       954\n",
    "nombre_sain          1989\n",
    "nombre_exposed        418\n",
    "nombre_recovered    16639\n",
    "Name: 258, dtype: int64"
   ]
  },
  {
   "cell_type": "markdown",
   "id": "d55f8d0c",
   "metadata": {},
   "source": [
    "nombre_infected       933\n",
    "nombre_sain          1958\n",
    "nombre_exposed        440\n",
    "nombre_recovered    16669\n",
    "Name: 259, dtype: int64"
   ]
  },
  {
   "cell_type": "markdown",
   "id": "e90157de",
   "metadata": {},
   "source": [
    "nombre_infected       932\n",
    "nombre_sain          1943\n",
    "nombre_exposed        439\n",
    "nombre_recovered    16686\n",
    "Name: 260, dtype: int64"
   ]
  },
  {
   "cell_type": "markdown",
   "id": "a7e7f2ca",
   "metadata": {},
   "source": [
    "nombre_infected       947\n",
    "nombre_sain          1934\n",
    "nombre_exposed        440\n",
    "nombre_recovered    16679\n",
    "Name: 261, dtype: int64"
   ]
  },
  {
   "cell_type": "markdown",
   "id": "b693629e",
   "metadata": {},
   "source": [
    "nombre_infected       953\n",
    "nombre_sain          1932\n",
    "nombre_exposed        423\n",
    "nombre_recovered    16692\n",
    "Name: 262, dtype: int64"
   ]
  },
  {
   "cell_type": "markdown",
   "id": "09522dd6",
   "metadata": {},
   "source": [
    "nombre_infected       951\n",
    "nombre_sain          1930\n",
    "nombre_exposed        419\n",
    "nombre_recovered    16700\n",
    "Name: 263, dtype: int64"
   ]
  },
  {
   "cell_type": "markdown",
   "id": "b970d8cf",
   "metadata": {},
   "source": [
    "nombre_infected       945\n",
    "nombre_sain          1936\n",
    "nombre_exposed        412\n",
    "nombre_recovered    16707\n",
    "Name: 264, dtype: int64"
   ]
  },
  {
   "cell_type": "markdown",
   "id": "8088570c",
   "metadata": {},
   "source": [
    "nombre_infected       924\n",
    "nombre_sain          1926\n",
    "nombre_exposed        423\n",
    "nombre_recovered    16727\n",
    "Name: 265, dtype: int64"
   ]
  },
  {
   "cell_type": "markdown",
   "id": "4b725466",
   "metadata": {},
   "source": [
    "nombre_infected       910\n",
    "nombre_sain          1937\n",
    "nombre_exposed        432\n",
    "nombre_recovered    16721\n",
    "Name: 266, dtype: int64"
   ]
  },
  {
   "cell_type": "markdown",
   "id": "93639c02",
   "metadata": {},
   "source": [
    "nombre_infected       898\n",
    "nombre_sain          1935\n",
    "nombre_exposed        442\n",
    "nombre_recovered    16725\n",
    "Name: 267, dtype: int64"
   ]
  },
  {
   "cell_type": "markdown",
   "id": "e8f3f9bd",
   "metadata": {},
   "source": [
    "nombre_infected       896\n",
    "nombre_sain          1931\n",
    "nombre_exposed        439\n",
    "nombre_recovered    16734\n",
    "Name: 268, dtype: int64"
   ]
  },
  {
   "cell_type": "markdown",
   "id": "d50bcbd1",
   "metadata": {},
   "source": [
    "nombre_infected       902\n",
    "nombre_sain          1946\n",
    "nombre_exposed        419\n",
    "nombre_recovered    16733\n",
    "Name: 269, dtype: int64"
   ]
  },
  {
   "cell_type": "markdown",
   "id": "1658aa9b",
   "metadata": {},
   "source": [
    "nombre_infected       917\n",
    "nombre_sain          1947\n",
    "nombre_exposed        410\n",
    "nombre_recovered    16726\n",
    "Name: 270, dtype: int64"
   ]
  },
  {
   "cell_type": "markdown",
   "id": "2b6f524c",
   "metadata": {},
   "source": [
    "nombre_infected       921\n",
    "nombre_sain          1941\n",
    "nombre_exposed        412\n",
    "nombre_recovered    16726\n",
    "Name: 271, dtype: int64"
   ]
  },
  {
   "cell_type": "markdown",
   "id": "4c8caf36",
   "metadata": {},
   "source": [
    "nombre_infected       910\n",
    "nombre_sain          1940\n",
    "nombre_exposed        432\n",
    "nombre_recovered    16718\n",
    "Name: 272, dtype: int64"
   ]
  },
  {
   "cell_type": "markdown",
   "id": "862c3bb6",
   "metadata": {},
   "source": [
    "nombre_infected       902\n",
    "nombre_sain          1958\n",
    "nombre_exposed        425\n",
    "nombre_recovered    16715\n",
    "Name: 273, dtype: int64"
   ]
  },
  {
   "cell_type": "markdown",
   "id": "bc67b86f",
   "metadata": {},
   "source": [
    "nombre_infected       892\n",
    "nombre_sain          1946\n",
    "nombre_exposed        438\n",
    "nombre_recovered    16724\n",
    "Name: 274, dtype: int64"
   ]
  },
  {
   "cell_type": "markdown",
   "id": "76519f85",
   "metadata": {},
   "source": [
    "nombre_infected       879\n",
    "nombre_sain          1950\n",
    "nombre_exposed        459\n",
    "nombre_recovered    16712\n",
    "Name: 275, dtype: int64"
   ]
  },
  {
   "cell_type": "markdown",
   "id": "e98cc1ce",
   "metadata": {},
   "source": [
    "nombre_infected       883\n",
    "nombre_sain          1960\n",
    "nombre_exposed        461\n",
    "nombre_recovered    16696\n",
    "Name: 276, dtype: int64"
   ]
  },
  {
   "cell_type": "markdown",
   "id": "a0f7f633",
   "metadata": {},
   "source": [
    "nombre_infected       896\n",
    "nombre_sain          1960\n",
    "nombre_exposed        443\n",
    "nombre_recovered    16701\n",
    "Name: 277, dtype: int64"
   ]
  },
  {
   "cell_type": "markdown",
   "id": "78ad8500",
   "metadata": {},
   "source": [
    "nombre_infected       901\n",
    "nombre_sain          1970\n",
    "nombre_exposed        431\n",
    "nombre_recovered    16698\n",
    "Name: 278, dtype: int64"
   ]
  },
  {
   "cell_type": "markdown",
   "id": "3f6e35f6",
   "metadata": {},
   "source": [
    "nombre_infected       904\n",
    "nombre_sain          1990\n",
    "nombre_exposed        403\n",
    "nombre_recovered    16703\n",
    "Name: 279, dtype: int64"
   ]
  },
  {
   "cell_type": "markdown",
   "id": "2c239d7d",
   "metadata": {},
   "source": [
    "nombre_infected       897\n",
    "nombre_sain          1984\n",
    "nombre_exposed        391\n",
    "nombre_recovered    16728\n",
    "Name: 280, dtype: int64"
   ]
  },
  {
   "cell_type": "markdown",
   "id": "bcd0de23",
   "metadata": {},
   "source": [
    "nombre_infected       900\n",
    "nombre_sain          1991\n",
    "nombre_exposed        397\n",
    "nombre_recovered    16712\n",
    "Name: 281, dtype: int64"
   ]
  },
  {
   "cell_type": "markdown",
   "id": "344e002a",
   "metadata": {},
   "source": [
    "nombre_infected       888\n",
    "nombre_sain          1975\n",
    "nombre_exposed        420\n",
    "nombre_recovered    16717\n",
    "Name: 282, dtype: int64"
   ]
  },
  {
   "cell_type": "markdown",
   "id": "23993f3a",
   "metadata": {},
   "source": [
    "nombre_infected       848\n",
    "nombre_sain          1985\n",
    "nombre_exposed        415\n",
    "nombre_recovered    16752\n",
    "Name: 283, dtype: int64"
   ]
  },
  {
   "cell_type": "markdown",
   "id": "63a66d99",
   "metadata": {},
   "source": [
    "nombre_infected       840\n",
    "nombre_sain          1971\n",
    "nombre_exposed        428\n",
    "nombre_recovered    16761\n",
    "Name: 284, dtype: int64"
   ]
  },
  {
   "cell_type": "markdown",
   "id": "07b60741",
   "metadata": {},
   "source": [
    "nombre_infected       823\n",
    "nombre_sain          1989\n",
    "nombre_exposed        427\n",
    "nombre_recovered    16761\n",
    "Name: 285, dtype: int64"
   ]
  },
  {
   "cell_type": "markdown",
   "id": "eae62326",
   "metadata": {},
   "source": [
    "nombre_infected       840\n",
    "nombre_sain          1990\n",
    "nombre_exposed        407\n",
    "nombre_recovered    16763\n",
    "Name: 286, dtype: int64"
   ]
  },
  {
   "cell_type": "markdown",
   "id": "9c6f8cdc",
   "metadata": {},
   "source": [
    "nombre_infected       865\n",
    "nombre_sain          1994\n",
    "nombre_exposed        390\n",
    "nombre_recovered    16751\n",
    "Name: 287, dtype: int64"
   ]
  },
  {
   "cell_type": "markdown",
   "id": "b327a937",
   "metadata": {},
   "source": [
    "nombre_infected       868\n",
    "nombre_sain          2006\n",
    "nombre_exposed        374\n",
    "nombre_recovered    16752\n",
    "Name: 288, dtype: int64"
   ]
  },
  {
   "cell_type": "markdown",
   "id": "5e63255d",
   "metadata": {},
   "source": [
    "nombre_infected       855\n",
    "nombre_sain          1990\n",
    "nombre_exposed        389\n",
    "nombre_recovered    16766\n",
    "Name: 289, dtype: int64"
   ]
  },
  {
   "cell_type": "markdown",
   "id": "cec73678",
   "metadata": {},
   "source": [
    "nombre_infected       833\n",
    "nombre_sain          1979\n",
    "nombre_exposed        410\n",
    "nombre_recovered    16778\n",
    "Name: 290, dtype: int64"
   ]
  },
  {
   "cell_type": "markdown",
   "id": "368686f7",
   "metadata": {},
   "source": [
    "nombre_infected       838\n",
    "nombre_sain          1983\n",
    "nombre_exposed        417\n",
    "nombre_recovered    16762\n",
    "Name: 291, dtype: int64"
   ]
  },
  {
   "cell_type": "markdown",
   "id": "b732b855",
   "metadata": {},
   "source": [
    "nombre_infected       832\n",
    "nombre_sain          2000\n",
    "nombre_exposed        424\n",
    "nombre_recovered    16744\n",
    "Name: 292, dtype: int64"
   ]
  },
  {
   "cell_type": "markdown",
   "id": "f463c07c",
   "metadata": {},
   "source": [
    "nombre_infected       834\n",
    "nombre_sain          2013\n",
    "nombre_exposed        421\n",
    "nombre_recovered    16732\n",
    "Name: 293, dtype: int64"
   ]
  },
  {
   "cell_type": "markdown",
   "id": "96d65093",
   "metadata": {},
   "source": [
    "nombre_infected       821\n",
    "nombre_sain          2015\n",
    "nombre_exposed        437\n",
    "nombre_recovered    16727\n",
    "Name: 294, dtype: int64"
   ]
  },
  {
   "cell_type": "markdown",
   "id": "9cf6d927",
   "metadata": {},
   "source": [
    "nombre_infected       814\n",
    "nombre_sain          2063\n",
    "nombre_exposed        424\n",
    "nombre_recovered    16699\n",
    "Name: 295, dtype: int64"
   ]
  },
  {
   "cell_type": "markdown",
   "id": "69214402",
   "metadata": {},
   "source": [
    "nombre_infected       818\n",
    "nombre_sain          2095\n",
    "nombre_exposed        432\n",
    "nombre_recovered    16655\n",
    "Name: 296, dtype: int64"
   ]
  },
  {
   "cell_type": "markdown",
   "id": "4a56d168",
   "metadata": {},
   "source": [
    "nombre_infected       815\n",
    "nombre_sain          2116\n",
    "nombre_exposed        440\n",
    "nombre_recovered    16629\n",
    "Name: 297, dtype: int64"
   ]
  },
  {
   "cell_type": "markdown",
   "id": "c990d3e7",
   "metadata": {},
   "source": [
    "nombre_infected       819\n",
    "nombre_sain          2136\n",
    "nombre_exposed        442\n",
    "nombre_recovered    16603\n",
    "Name: 298, dtype: int64"
   ]
  },
  {
   "cell_type": "markdown",
   "id": "0163badf",
   "metadata": {},
   "source": [
    "nombre_infected       806\n",
    "nombre_sain          2159\n",
    "nombre_exposed        463\n",
    "nombre_recovered    16572\n",
    "Name: 299, dtype: int64"
   ]
  },
  {
   "cell_type": "markdown",
   "id": "5d18573d",
   "metadata": {},
   "source": [
    "nombre_infected       806\n",
    "nombre_sain          2219\n",
    "nombre_exposed        448\n",
    "nombre_recovered    16527\n",
    "Name: 300, dtype: int64"
   ]
  },
  {
   "cell_type": "markdown",
   "id": "76b7e876",
   "metadata": {},
   "source": [
    "nombre_infected       809\n",
    "nombre_sain          2247\n",
    "nombre_exposed        458\n",
    "nombre_recovered    16486\n",
    "Name: 301, dtype: int64"
   ]
  },
  {
   "cell_type": "markdown",
   "id": "fdb1db88",
   "metadata": {},
   "source": [
    "nombre_infected       825\n",
    "nombre_sain          2262\n",
    "nombre_exposed        483\n",
    "nombre_recovered    16430\n",
    "Name: 302, dtype: int64"
   ]
  },
  {
   "cell_type": "markdown",
   "id": "8927e0d9",
   "metadata": {},
   "source": [
    "nombre_infected       816\n",
    "nombre_sain          2291\n",
    "nombre_exposed        508\n",
    "nombre_recovered    16385\n",
    "Name: 303, dtype: int64"
   ]
  },
  {
   "cell_type": "markdown",
   "id": "ea4cb9de",
   "metadata": {},
   "source": [
    "nombre_infected       839\n",
    "nombre_sain          2310\n",
    "nombre_exposed        516\n",
    "nombre_recovered    16335\n",
    "Name: 304, dtype: int64"
   ]
  },
  {
   "cell_type": "markdown",
   "id": "ba93c588",
   "metadata": {},
   "source": [
    "nombre_infected       843\n",
    "nombre_sain          2308\n",
    "nombre_exposed        526\n",
    "nombre_recovered    16323\n",
    "Name: 305, dtype: int64"
   ]
  },
  {
   "cell_type": "markdown",
   "id": "43a09a63",
   "metadata": {},
   "source": [
    "nombre_infected       874\n",
    "nombre_sain          2325\n",
    "nombre_exposed        525\n",
    "nombre_recovered    16276\n",
    "Name: 306, dtype: int64"
   ]
  },
  {
   "cell_type": "markdown",
   "id": "41b17f82",
   "metadata": {},
   "source": [
    "nombre_infected       884\n",
    "nombre_sain          2347\n",
    "nombre_exposed        534\n",
    "nombre_recovered    16235\n",
    "Name: 307, dtype: int64"
   ]
  },
  {
   "cell_type": "markdown",
   "id": "03627adb",
   "metadata": {},
   "source": [
    "nombre_infected       910\n",
    "nombre_sain          2331\n",
    "nombre_exposed        553\n",
    "nombre_recovered    16206\n",
    "Name: 308, dtype: int64"
   ]
  },
  {
   "cell_type": "markdown",
   "id": "11849ca1",
   "metadata": {},
   "source": [
    "nombre_infected       939\n",
    "nombre_sain          2312\n",
    "nombre_exposed        553\n",
    "nombre_recovered    16196\n",
    "Name: 309, dtype: int64"
   ]
  },
  {
   "cell_type": "markdown",
   "id": "925ed24e",
   "metadata": {},
   "source": [
    "nombre_infected       944\n",
    "nombre_sain          2322\n",
    "nombre_exposed        560\n",
    "nombre_recovered    16174\n",
    "Name: 310, dtype: int64"
   ]
  },
  {
   "cell_type": "markdown",
   "id": "7700057c",
   "metadata": {},
   "source": [
    "nombre_infected       966\n",
    "nombre_sain          2357\n",
    "nombre_exposed        514\n",
    "nombre_recovered    16163\n",
    "Name: 311, dtype: int64"
   ]
  },
  {
   "cell_type": "markdown",
   "id": "acb07d0f",
   "metadata": {},
   "source": [
    "nombre_infected       982\n",
    "nombre_sain          2325\n",
    "nombre_exposed        518\n",
    "nombre_recovered    16175\n",
    "Name: 312, dtype: int64"
   ]
  },
  {
   "cell_type": "markdown",
   "id": "4af71ad4",
   "metadata": {},
   "source": [
    "nombre_infected       963\n",
    "nombre_sain          2299\n",
    "nombre_exposed        558\n",
    "nombre_recovered    16180\n",
    "Name: 313, dtype: int64"
   ]
  },
  {
   "cell_type": "markdown",
   "id": "a99a63db",
   "metadata": {},
   "source": [
    "nombre_infected       956\n",
    "nombre_sain          2305\n",
    "nombre_exposed        571\n",
    "nombre_recovered    16168\n",
    "Name: 314, dtype: int64"
   ]
  },
  {
   "cell_type": "markdown",
   "id": "20cc64b2",
   "metadata": {},
   "source": [
    "nombre_infected       957\n",
    "nombre_sain          2275\n",
    "nombre_exposed        592\n",
    "nombre_recovered    16176\n",
    "Name: 315, dtype: int64"
   ]
  },
  {
   "cell_type": "markdown",
   "id": "ee258ecd",
   "metadata": {},
   "source": [
    "nombre_infected       966\n",
    "nombre_sain          2250\n",
    "nombre_exposed        599\n",
    "nombre_recovered    16185\n",
    "Name: 316, dtype: int64"
   ]
  },
  {
   "cell_type": "markdown",
   "id": "77de0008",
   "metadata": {},
   "source": [
    "nombre_infected       975\n",
    "nombre_sain          2260\n",
    "nombre_exposed        582\n",
    "nombre_recovered    16183\n",
    "Name: 317, dtype: int64"
   ]
  },
  {
   "cell_type": "markdown",
   "id": "e7df374a",
   "metadata": {},
   "source": [
    "nombre_infected       993\n",
    "nombre_sain          2271\n",
    "nombre_exposed        570\n",
    "nombre_recovered    16166\n",
    "Name: 318, dtype: int64"
   ]
  },
  {
   "cell_type": "markdown",
   "id": "92a70711",
   "metadata": {},
   "source": [
    "nombre_infected      1002\n",
    "nombre_sain          2287\n",
    "nombre_exposed        542\n",
    "nombre_recovered    16169\n",
    "Name: 319, dtype: int64"
   ]
  },
  {
   "cell_type": "markdown",
   "id": "df320bab",
   "metadata": {},
   "source": [
    "nombre_infected       990\n",
    "nombre_sain          2293\n",
    "nombre_exposed        559\n",
    "nombre_recovered    16158\n",
    "Name: 320, dtype: int64"
   ]
  },
  {
   "cell_type": "markdown",
   "id": "a4b04568",
   "metadata": {},
   "source": [
    "nombre_infected      1001\n",
    "nombre_sain          2279\n",
    "nombre_exposed        582\n",
    "nombre_recovered    16138\n",
    "Name: 321, dtype: int64"
   ]
  },
  {
   "cell_type": "markdown",
   "id": "4a5b2124",
   "metadata": {},
   "source": [
    "nombre_infected      1009\n",
    "nombre_sain          2299\n",
    "nombre_exposed        570\n",
    "nombre_recovered    16122\n",
    "Name: 322, dtype: int64"
   ]
  },
  {
   "cell_type": "markdown",
   "id": "d57a2cbe",
   "metadata": {},
   "source": [
    "nombre_infected      1001\n",
    "nombre_sain          2283\n",
    "nombre_exposed        578\n",
    "nombre_recovered    16138\n",
    "Name: 323, dtype: int64"
   ]
  },
  {
   "cell_type": "markdown",
   "id": "b890d3df",
   "metadata": {},
   "source": [
    "nombre_infected      1017\n",
    "nombre_sain          2244\n",
    "nombre_exposed        577\n",
    "nombre_recovered    16162\n",
    "Name: 324, dtype: int64"
   ]
  },
  {
   "cell_type": "markdown",
   "id": "337f030c",
   "metadata": {},
   "source": [
    "nombre_infected      1006\n",
    "nombre_sain          2218\n",
    "nombre_exposed        590\n",
    "nombre_recovered    16186\n",
    "Name: 325, dtype: int64"
   ]
  },
  {
   "cell_type": "markdown",
   "id": "3680b368",
   "metadata": {},
   "source": [
    "nombre_infected      1012\n",
    "nombre_sain          2186\n",
    "nombre_exposed        600\n",
    "nombre_recovered    16202\n",
    "Name: 326, dtype: int64"
   ]
  },
  {
   "cell_type": "markdown",
   "id": "ea71747c",
   "metadata": {},
   "source": [
    "nombre_infected      1023\n",
    "nombre_sain          2191\n",
    "nombre_exposed        593\n",
    "nombre_recovered    16193\n",
    "Name: 327, dtype: int64"
   ]
  },
  {
   "cell_type": "markdown",
   "id": "49c8c5a7",
   "metadata": {},
   "source": [
    "nombre_infected      1009\n",
    "nombre_sain          2165\n",
    "nombre_exposed        585\n",
    "nombre_recovered    16241\n",
    "Name: 328, dtype: int64"
   ]
  },
  {
   "cell_type": "markdown",
   "id": "11079f9d",
   "metadata": {},
   "source": [
    "nombre_infected      1028\n",
    "nombre_sain          2151\n",
    "nombre_exposed        555\n",
    "nombre_recovered    16266\n",
    "Name: 329, dtype: int64"
   ]
  },
  {
   "cell_type": "markdown",
   "id": "65fe806e",
   "metadata": {},
   "source": [
    "nombre_infected      1047\n",
    "nombre_sain          2117\n",
    "nombre_exposed        578\n",
    "nombre_recovered    16258\n",
    "Name: 330, dtype: int64"
   ]
  },
  {
   "cell_type": "markdown",
   "id": "4297c14d",
   "metadata": {},
   "source": [
    "nombre_infected      1027\n",
    "nombre_sain          2100\n",
    "nombre_exposed        588\n",
    "nombre_recovered    16285\n",
    "Name: 331, dtype: int64"
   ]
  },
  {
   "cell_type": "markdown",
   "id": "7166e4df",
   "metadata": {},
   "source": [
    "nombre_infected      1029\n",
    "nombre_sain          2067\n",
    "nombre_exposed        578\n",
    "nombre_recovered    16326\n",
    "Name: 332, dtype: int64"
   ]
  },
  {
   "cell_type": "markdown",
   "id": "dcb6b4e3",
   "metadata": {},
   "source": [
    "nombre_infected      1041\n",
    "nombre_sain          2042\n",
    "nombre_exposed        581\n",
    "nombre_recovered    16336\n",
    "Name: 333, dtype: int64"
   ]
  },
  {
   "cell_type": "markdown",
   "id": "ca7e4f80",
   "metadata": {},
   "source": [
    "nombre_infected      1029\n",
    "nombre_sain          2030\n",
    "nombre_exposed        541\n",
    "nombre_recovered    16400\n",
    "Name: 334, dtype: int64"
   ]
  },
  {
   "cell_type": "markdown",
   "id": "ae1a2e6e",
   "metadata": {},
   "source": [
    "nombre_infected      1034\n",
    "nombre_sain          2015\n",
    "nombre_exposed        517\n",
    "nombre_recovered    16434\n",
    "Name: 335, dtype: int64"
   ]
  },
  {
   "cell_type": "markdown",
   "id": "8fd527d4",
   "metadata": {},
   "source": [
    "nombre_infected      1026\n",
    "nombre_sain          1990\n",
    "nombre_exposed        536\n",
    "nombre_recovered    16448\n",
    "Name: 336, dtype: int64"
   ]
  },
  {
   "cell_type": "markdown",
   "id": "c1b6c66b",
   "metadata": {},
   "source": [
    "nombre_infected      1022\n",
    "nombre_sain          1969\n",
    "nombre_exposed        532\n",
    "nombre_recovered    16477\n",
    "Name: 337, dtype: int64"
   ]
  },
  {
   "cell_type": "markdown",
   "id": "b96b78fa",
   "metadata": {},
   "source": [
    "nombre_infected      1029\n",
    "nombre_sain          1973\n",
    "nombre_exposed        519\n",
    "nombre_recovered    16479\n",
    "Name: 338, dtype: int64"
   ]
  },
  {
   "cell_type": "markdown",
   "id": "c66b5d73",
   "metadata": {},
   "source": [
    "nombre_infected       996\n",
    "nombre_sain          1956\n",
    "nombre_exposed        514\n",
    "nombre_recovered    16534\n",
    "Name: 339, dtype: int64"
   ]
  },
  {
   "cell_type": "markdown",
   "id": "f0c7e35f",
   "metadata": {},
   "source": [
    "nombre_infected       974\n",
    "nombre_sain          1963\n",
    "nombre_exposed        504\n",
    "nombre_recovered    16559\n",
    "Name: 340, dtype: int64"
   ]
  },
  {
   "cell_type": "markdown",
   "id": "e42e1be4",
   "metadata": {},
   "source": [
    "nombre_infected       984\n",
    "nombre_sain          1943\n",
    "nombre_exposed        500\n",
    "nombre_recovered    16573\n",
    "Name: 341, dtype: int64"
   ]
  },
  {
   "cell_type": "markdown",
   "id": "9392b689",
   "metadata": {},
   "source": [
    "nombre_infected       963\n",
    "nombre_sain          1934\n",
    "nombre_exposed        503\n",
    "nombre_recovered    16600\n",
    "Name: 342, dtype: int64"
   ]
  },
  {
   "cell_type": "markdown",
   "id": "b4df370b",
   "metadata": {},
   "source": [
    "nombre_infected       950\n",
    "nombre_sain          1927\n",
    "nombre_exposed        519\n",
    "nombre_recovered    16604\n",
    "Name: 343, dtype: int64"
   ]
  },
  {
   "cell_type": "markdown",
   "id": "d37331c5",
   "metadata": {},
   "source": [
    "nombre_infected       950\n",
    "nombre_sain          1940\n",
    "nombre_exposed        499\n",
    "nombre_recovered    16611\n",
    "Name: 344, dtype: int64"
   ]
  },
  {
   "cell_type": "markdown",
   "id": "cc613691",
   "metadata": {},
   "source": [
    "nombre_infected       946\n",
    "nombre_sain          1924\n",
    "nombre_exposed        490\n",
    "nombre_recovered    16640\n",
    "Name: 345, dtype: int64"
   ]
  },
  {
   "cell_type": "markdown",
   "id": "411035a5",
   "metadata": {},
   "source": [
    "nombre_infected       941\n",
    "nombre_sain          1927\n",
    "nombre_exposed        488\n",
    "nombre_recovered    16644\n",
    "Name: 346, dtype: int64"
   ]
  },
  {
   "cell_type": "markdown",
   "id": "1a7b3ae0",
   "metadata": {},
   "source": [
    "nombre_infected       929\n",
    "nombre_sain          1908\n",
    "nombre_exposed        493\n",
    "nombre_recovered    16670\n",
    "Name: 347, dtype: int64"
   ]
  },
  {
   "cell_type": "markdown",
   "id": "eab03c6a",
   "metadata": {},
   "source": [
    "nombre_infected       932\n",
    "nombre_sain          1878\n",
    "nombre_exposed        494\n",
    "nombre_recovered    16696\n",
    "Name: 348, dtype: int64"
   ]
  },
  {
   "cell_type": "markdown",
   "id": "5ea9200e",
   "metadata": {},
   "source": [
    "nombre_infected       948\n",
    "nombre_sain          1892\n",
    "nombre_exposed        472\n",
    "nombre_recovered    16688\n",
    "Name: 349, dtype: int64"
   ]
  },
  {
   "cell_type": "markdown",
   "id": "e97f2c4c",
   "metadata": {},
   "source": [
    "nombre_infected       932\n",
    "nombre_sain          1896\n",
    "nombre_exposed        465\n",
    "nombre_recovered    16707\n",
    "Name: 350, dtype: int64"
   ]
  },
  {
   "cell_type": "markdown",
   "id": "1cf0659c",
   "metadata": {},
   "source": [
    "nombre_infected       925\n",
    "nombre_sain          1898\n",
    "nombre_exposed        449\n",
    "nombre_recovered    16728\n",
    "Name: 351, dtype: int64"
   ]
  },
  {
   "cell_type": "markdown",
   "id": "4eb7d733",
   "metadata": {},
   "source": [
    "nombre_infected       903\n",
    "nombre_sain          1900\n",
    "nombre_exposed        451\n",
    "nombre_recovered    16746\n",
    "Name: 352, dtype: int64"
   ]
  },
  {
   "cell_type": "markdown",
   "id": "aeeadb9a",
   "metadata": {},
   "source": [
    "nombre_infected       901\n",
    "nombre_sain          1884\n",
    "nombre_exposed        460\n",
    "nombre_recovered    16755\n",
    "Name: 353, dtype: int64"
   ]
  },
  {
   "cell_type": "markdown",
   "id": "01c20700",
   "metadata": {},
   "source": [
    "nombre_infected       896\n",
    "nombre_sain          1900\n",
    "nombre_exposed        469\n",
    "nombre_recovered    16735\n",
    "Name: 354, dtype: int64"
   ]
  },
  {
   "cell_type": "markdown",
   "id": "5d73372c",
   "metadata": {},
   "source": [
    "nombre_infected       883\n",
    "nombre_sain          1899\n",
    "nombre_exposed        495\n",
    "nombre_recovered    16723\n",
    "Name: 355, dtype: int64"
   ]
  },
  {
   "cell_type": "markdown",
   "id": "d3ca9c44",
   "metadata": {},
   "source": [
    "nombre_infected       893\n",
    "nombre_sain          1882\n",
    "nombre_exposed        496\n",
    "nombre_recovered    16729\n",
    "Name: 356, dtype: int64"
   ]
  },
  {
   "cell_type": "markdown",
   "id": "a25d2408",
   "metadata": {},
   "source": [
    "nombre_infected       903\n",
    "nombre_sain          1919\n",
    "nombre_exposed        478\n",
    "nombre_recovered    16700\n",
    "Name: 357, dtype: int64"
   ]
  },
  {
   "cell_type": "markdown",
   "id": "d6c456f6",
   "metadata": {},
   "source": [
    "nombre_infected       886\n",
    "nombre_sain          1924\n",
    "nombre_exposed        453\n",
    "nombre_recovered    16737\n",
    "Name: 358, dtype: int64"
   ]
  },
  {
   "cell_type": "markdown",
   "id": "c06b32ea",
   "metadata": {},
   "source": [
    "nombre_infected       886\n",
    "nombre_sain          1936\n",
    "nombre_exposed        445\n",
    "nombre_recovered    16733\n",
    "Name: 359, dtype: int64"
   ]
  },
  {
   "cell_type": "markdown",
   "id": "1e2673f8",
   "metadata": {},
   "source": [
    "nombre_infected       878\n",
    "nombre_sain          1958\n",
    "nombre_exposed        439\n",
    "nombre_recovered    16725\n",
    "Name: 360, dtype: int64"
   ]
  },
  {
   "cell_type": "markdown",
   "id": "2fae7568",
   "metadata": {},
   "source": [
    "nombre_infected       876\n",
    "nombre_sain          1977\n",
    "nombre_exposed        441\n",
    "nombre_recovered    16706\n",
    "Name: 361, dtype: int64"
   ]
  },
  {
   "cell_type": "markdown",
   "id": "e3451c78",
   "metadata": {},
   "source": [
    "nombre_infected       849\n",
    "nombre_sain          1980\n",
    "nombre_exposed        446\n",
    "nombre_recovered    16725\n",
    "Name: 362, dtype: int64"
   ]
  },
  {
   "cell_type": "markdown",
   "id": "23b21e74",
   "metadata": {},
   "source": [
    "nombre_infected       853\n",
    "nombre_sain          2007\n",
    "nombre_exposed        433\n",
    "nombre_recovered    16707\n",
    "Name: 363, dtype: int64"
   ]
  },
  {
   "cell_type": "markdown",
   "id": "b41a8e47",
   "metadata": {},
   "source": [
    "nombre_infected       849\n",
    "nombre_sain          2030\n",
    "nombre_exposed        432\n",
    "nombre_recovered    16689\n",
    "Name: 364, dtype: int64"
   ]
  },
  {
   "cell_type": "markdown",
   "id": "8a03f0e3",
   "metadata": {},
   "source": [
    "nombre_infected       856\n",
    "nombre_sain          2025\n",
    "nombre_exposed        435\n",
    "nombre_recovered    16684\n",
    "Name: 365, dtype: int64"
   ]
  },
  {
   "cell_type": "markdown",
   "id": "7a34d51c",
   "metadata": {},
   "source": [
    "nombre_infected       826\n",
    "nombre_sain          2022\n",
    "nombre_exposed        448\n",
    "nombre_recovered    16704\n",
    "Name: 366, dtype: int64"
   ]
  },
  {
   "cell_type": "markdown",
   "id": "bf7c168c",
   "metadata": {},
   "source": [
    "nombre_infected       812\n",
    "nombre_sain          2034\n",
    "nombre_exposed        454\n",
    "nombre_recovered    16700\n",
    "Name: 367, dtype: int64"
   ]
  },
  {
   "cell_type": "markdown",
   "id": "82f36f06",
   "metadata": {},
   "source": [
    "nombre_infected       816\n",
    "nombre_sain          2043\n",
    "nombre_exposed        450\n",
    "nombre_recovered    16691\n",
    "Name: 368, dtype: int64"
   ]
  },
  {
   "cell_type": "markdown",
   "id": "337cac44",
   "metadata": {},
   "source": [
    "nombre_infected       830\n",
    "nombre_sain          2076\n",
    "nombre_exposed        448\n",
    "nombre_recovered    16646\n",
    "Name: 369, dtype: int64"
   ]
  },
  {
   "cell_type": "markdown",
   "id": "e6a4636f",
   "metadata": {},
   "source": [
    "nombre_infected       809\n",
    "nombre_sain          2067\n",
    "nombre_exposed        473\n",
    "nombre_recovered    16651\n",
    "Name: 370, dtype: int64"
   ]
  },
  {
   "cell_type": "markdown",
   "id": "99765acf",
   "metadata": {},
   "source": [
    "nombre_infected       785\n",
    "nombre_sain          2075\n",
    "nombre_exposed        480\n",
    "nombre_recovered    16660\n",
    "Name: 371, dtype: int64"
   ]
  },
  {
   "cell_type": "markdown",
   "id": "669c224f",
   "metadata": {},
   "source": [
    "nombre_infected       796\n",
    "nombre_sain          2110\n",
    "nombre_exposed        468\n",
    "nombre_recovered    16626\n",
    "Name: 372, dtype: int64"
   ]
  },
  {
   "cell_type": "markdown",
   "id": "5a3fcf11",
   "metadata": {},
   "source": [
    "nombre_infected       800\n",
    "nombre_sain          2121\n",
    "nombre_exposed        451\n",
    "nombre_recovered    16628\n",
    "Name: 373, dtype: int64"
   ]
  },
  {
   "cell_type": "markdown",
   "id": "14c74393",
   "metadata": {},
   "source": [
    "nombre_infected       807\n",
    "nombre_sain          2139\n",
    "nombre_exposed        463\n",
    "nombre_recovered    16591\n",
    "Name: 374, dtype: int64"
   ]
  },
  {
   "cell_type": "markdown",
   "id": "f4efcc5d",
   "metadata": {},
   "source": [
    "nombre_infected       813\n",
    "nombre_sain          2171\n",
    "nombre_exposed        449\n",
    "nombre_recovered    16567\n",
    "Name: 375, dtype: int64"
   ]
  },
  {
   "cell_type": "markdown",
   "id": "618e73ea",
   "metadata": {},
   "source": [
    "nombre_infected       788\n",
    "nombre_sain          2152\n",
    "nombre_exposed        479\n",
    "nombre_recovered    16581\n",
    "Name: 376, dtype: int64"
   ]
  },
  {
   "cell_type": "markdown",
   "id": "247efb71",
   "metadata": {},
   "source": [
    "nombre_infected       787\n",
    "nombre_sain          2166\n",
    "nombre_exposed        467\n",
    "nombre_recovered    16580\n",
    "Name: 377, dtype: int64"
   ]
  },
  {
   "cell_type": "markdown",
   "id": "fb440ec3",
   "metadata": {},
   "source": [
    "nombre_infected       776\n",
    "nombre_sain          2204\n",
    "nombre_exposed        470\n",
    "nombre_recovered    16550\n",
    "Name: 378, dtype: int64"
   ]
  },
  {
   "cell_type": "markdown",
   "id": "1989dbca",
   "metadata": {},
   "source": [
    "nombre_infected       787\n",
    "nombre_sain          2179\n",
    "nombre_exposed        485\n",
    "nombre_recovered    16549\n",
    "Name: 379, dtype: int64"
   ]
  },
  {
   "cell_type": "markdown",
   "id": "33853e72",
   "metadata": {},
   "source": [
    "nombre_infected       790\n",
    "nombre_sain          2191\n",
    "nombre_exposed        476\n",
    "nombre_recovered    16543\n",
    "Name: 380, dtype: int64"
   ]
  },
  {
   "cell_type": "markdown",
   "id": "a3db69ce",
   "metadata": {},
   "source": [
    "nombre_infected       786\n",
    "nombre_sain          2209\n",
    "nombre_exposed        461\n",
    "nombre_recovered    16544\n",
    "Name: 381, dtype: int64"
   ]
  },
  {
   "cell_type": "markdown",
   "id": "6d8ffb6c",
   "metadata": {},
   "source": [
    "nombre_infected       780\n",
    "nombre_sain          2212\n",
    "nombre_exposed        471\n",
    "nombre_recovered    16537\n",
    "Name: 382, dtype: int64"
   ]
  },
  {
   "cell_type": "markdown",
   "id": "31d9c6e1",
   "metadata": {},
   "source": [
    "nombre_infected       777\n",
    "nombre_sain          2193\n",
    "nombre_exposed        470\n",
    "nombre_recovered    16560\n",
    "Name: 383, dtype: int64"
   ]
  },
  {
   "cell_type": "markdown",
   "id": "da0f40dc",
   "metadata": {},
   "source": [
    "nombre_infected       780\n",
    "nombre_sain          2186\n",
    "nombre_exposed        469\n",
    "nombre_recovered    16565\n",
    "Name: 384, dtype: int64"
   ]
  },
  {
   "cell_type": "markdown",
   "id": "e278d18f",
   "metadata": {},
   "source": [
    "nombre_infected       805\n",
    "nombre_sain          2186\n",
    "nombre_exposed        462\n",
    "nombre_recovered    16547\n",
    "Name: 385, dtype: int64"
   ]
  },
  {
   "cell_type": "markdown",
   "id": "ee74f41f",
   "metadata": {},
   "source": [
    "nombre_infected       806\n",
    "nombre_sain          2174\n",
    "nombre_exposed        454\n",
    "nombre_recovered    16566\n",
    "Name: 386, dtype: int64"
   ]
  },
  {
   "cell_type": "markdown",
   "id": "991a087c",
   "metadata": {},
   "source": [
    "nombre_infected       793\n",
    "nombre_sain          2167\n",
    "nombre_exposed        469\n",
    "nombre_recovered    16571\n",
    "Name: 387, dtype: int64"
   ]
  },
  {
   "cell_type": "markdown",
   "id": "9c2e68d8",
   "metadata": {},
   "source": [
    "nombre_infected       791\n",
    "nombre_sain          2185\n",
    "nombre_exposed        463\n",
    "nombre_recovered    16561\n",
    "Name: 388, dtype: int64"
   ]
  },
  {
   "cell_type": "markdown",
   "id": "0ce0692c",
   "metadata": {},
   "source": [
    "nombre_infected       785\n",
    "nombre_sain          2186\n",
    "nombre_exposed        470\n",
    "nombre_recovered    16559\n",
    "Name: 389, dtype: int64"
   ]
  },
  {
   "cell_type": "markdown",
   "id": "47be468b",
   "metadata": {},
   "source": [
    "nombre_infected       779\n",
    "nombre_sain          2184\n",
    "nombre_exposed        485\n",
    "nombre_recovered    16552\n",
    "Name: 390, dtype: int64"
   ]
  },
  {
   "cell_type": "markdown",
   "id": "5fa21454",
   "metadata": {},
   "source": [
    "nombre_infected       789\n",
    "nombre_sain          2196\n",
    "nombre_exposed        455\n",
    "nombre_recovered    16560\n",
    "Name: 391, dtype: int64"
   ]
  },
  {
   "cell_type": "markdown",
   "id": "1dbb3b2f",
   "metadata": {},
   "source": [
    "nombre_infected       799\n",
    "nombre_sain          2196\n",
    "nombre_exposed        435\n",
    "nombre_recovered    16570\n",
    "Name: 392, dtype: int64"
   ]
  },
  {
   "cell_type": "markdown",
   "id": "85c97373",
   "metadata": {},
   "source": [
    "nombre_infected       776\n",
    "nombre_sain          2188\n",
    "nombre_exposed        469\n",
    "nombre_recovered    16567\n",
    "Name: 393, dtype: int64"
   ]
  },
  {
   "cell_type": "markdown",
   "id": "d2f20008",
   "metadata": {},
   "source": [
    "nombre_infected       759\n",
    "nombre_sain          2181\n",
    "nombre_exposed        477\n",
    "nombre_recovered    16583\n",
    "Name: 394, dtype: int64"
   ]
  },
  {
   "cell_type": "markdown",
   "id": "3a7dfc53",
   "metadata": {},
   "source": [
    "nombre_infected       752\n",
    "nombre_sain          2157\n",
    "nombre_exposed        502\n",
    "nombre_recovered    16589\n",
    "Name: 395, dtype: int64"
   ]
  },
  {
   "cell_type": "markdown",
   "id": "0a364426",
   "metadata": {},
   "source": [
    "nombre_infected       772\n",
    "nombre_sain          2177\n",
    "nombre_exposed        493\n",
    "nombre_recovered    16558\n",
    "Name: 396, dtype: int64"
   ]
  },
  {
   "cell_type": "markdown",
   "id": "231d7ad9",
   "metadata": {},
   "source": [
    "nombre_infected       788\n",
    "nombre_sain          2176\n",
    "nombre_exposed        491\n",
    "nombre_recovered    16545\n",
    "Name: 397, dtype: int64"
   ]
  },
  {
   "cell_type": "markdown",
   "id": "45e84ec7",
   "metadata": {},
   "source": [
    "nombre_infected       798\n",
    "nombre_sain          2179\n",
    "nombre_exposed        473\n",
    "nombre_recovered    16550\n",
    "Name: 398, dtype: int64"
   ]
  },
  {
   "cell_type": "markdown",
   "id": "9feced13",
   "metadata": {},
   "source": [
    "nombre_infected       816\n",
    "nombre_sain          2173\n",
    "nombre_exposed        460\n",
    "nombre_recovered    16551\n",
    "Name: 399, dtype: int64"
   ]
  },
  {
   "cell_type": "markdown",
   "id": "a64a9b46",
   "metadata": {},
   "source": [
    "nombre_infected       806\n",
    "nombre_sain          2160\n",
    "nombre_exposed        474\n",
    "nombre_recovered    16560\n",
    "Name: 400, dtype: int64"
   ]
  },
  {
   "cell_type": "markdown",
   "id": "edd552fc",
   "metadata": {},
   "source": [
    "nombre_infected       801\n",
    "nombre_sain          2151\n",
    "nombre_exposed        494\n",
    "nombre_recovered    16554\n",
    "Name: 401, dtype: int64"
   ]
  },
  {
   "cell_type": "markdown",
   "id": "dc87dd4f",
   "metadata": {},
   "source": [
    "nombre_infected       780\n",
    "nombre_sain          2152\n",
    "nombre_exposed        496\n",
    "nombre_recovered    16572\n",
    "Name: 402, dtype: int64"
   ]
  },
  {
   "cell_type": "markdown",
   "id": "bae22646",
   "metadata": {},
   "source": [
    "nombre_infected       787\n",
    "nombre_sain          2167\n",
    "nombre_exposed        467\n",
    "nombre_recovered    16579\n",
    "Name: 403, dtype: int64"
   ]
  },
  {
   "cell_type": "markdown",
   "id": "f19cc2aa",
   "metadata": {},
   "source": [
    "nombre_infected       793\n",
    "nombre_sain          2156\n",
    "nombre_exposed        474\n",
    "nombre_recovered    16577\n",
    "Name: 404, dtype: int64"
   ]
  },
  {
   "cell_type": "markdown",
   "id": "0aea8514",
   "metadata": {},
   "source": [
    "nombre_infected       777\n",
    "nombre_sain          2201\n",
    "nombre_exposed        457\n",
    "nombre_recovered    16565\n",
    "Name: 405, dtype: int64"
   ]
  },
  {
   "cell_type": "markdown",
   "id": "bfc99d5d",
   "metadata": {},
   "source": [
    "nombre_infected       778\n",
    "nombre_sain          2207\n",
    "nombre_exposed        449\n",
    "nombre_recovered    16566\n",
    "Name: 406, dtype: int64"
   ]
  },
  {
   "cell_type": "markdown",
   "id": "840bc9a9",
   "metadata": {},
   "source": [
    "nombre_infected       756\n",
    "nombre_sain          2189\n",
    "nombre_exposed        491\n",
    "nombre_recovered    16564\n",
    "Name: 407, dtype: int64"
   ]
  },
  {
   "cell_type": "markdown",
   "id": "102498ee",
   "metadata": {},
   "source": [
    "nombre_infected       745\n",
    "nombre_sain          2190\n",
    "nombre_exposed        492\n",
    "nombre_recovered    16573\n",
    "Name: 408, dtype: int64"
   ]
  },
  {
   "cell_type": "markdown",
   "id": "b8969804",
   "metadata": {},
   "source": [
    "nombre_infected       743\n",
    "nombre_sain          2216\n",
    "nombre_exposed        504\n",
    "nombre_recovered    16537\n",
    "Name: 409, dtype: int64"
   ]
  },
  {
   "cell_type": "markdown",
   "id": "22c86eaf",
   "metadata": {},
   "source": [
    "nombre_infected       775\n",
    "nombre_sain          2261\n",
    "nombre_exposed        456\n",
    "nombre_recovered    16508\n",
    "Name: 410, dtype: int64"
   ]
  },
  {
   "cell_type": "markdown",
   "id": "d591a034",
   "metadata": {},
   "source": [
    "nombre_infected       802\n",
    "nombre_sain          2266\n",
    "nombre_exposed        463\n",
    "nombre_recovered    16469\n",
    "Name: 411, dtype: int64"
   ]
  },
  {
   "cell_type": "markdown",
   "id": "2024d67c",
   "metadata": {},
   "source": [
    "nombre_infected       799\n",
    "nombre_sain          2263\n",
    "nombre_exposed        480\n",
    "nombre_recovered    16458\n",
    "Name: 412, dtype: int64"
   ]
  },
  {
   "cell_type": "markdown",
   "id": "dcd7a5a7",
   "metadata": {},
   "source": [
    "nombre_infected       810\n",
    "nombre_sain          2257\n",
    "nombre_exposed        491\n",
    "nombre_recovered    16442\n",
    "Name: 413, dtype: int64"
   ]
  },
  {
   "cell_type": "markdown",
   "id": "9a93bd0b",
   "metadata": {},
   "source": [
    "nombre_infected       832\n",
    "nombre_sain          2249\n",
    "nombre_exposed        491\n",
    "nombre_recovered    16428\n",
    "Name: 414, dtype: int64"
   ]
  },
  {
   "cell_type": "markdown",
   "id": "c87b5540",
   "metadata": {},
   "source": [
    "nombre_infected       858\n",
    "nombre_sain          2260\n",
    "nombre_exposed        452\n",
    "nombre_recovered    16430\n",
    "Name: 415, dtype: int64"
   ]
  },
  {
   "cell_type": "markdown",
   "id": "06f5b4cb",
   "metadata": {},
   "source": [
    "nombre_infected       846\n",
    "nombre_sain          2263\n",
    "nombre_exposed        454\n",
    "nombre_recovered    16437\n",
    "Name: 416, dtype: int64"
   ]
  },
  {
   "cell_type": "markdown",
   "id": "c32b2a3d",
   "metadata": {},
   "source": [
    "nombre_infected       859\n",
    "nombre_sain          2290\n",
    "nombre_exposed        451\n",
    "nombre_recovered    16400\n",
    "Name: 417, dtype: int64"
   ]
  },
  {
   "cell_type": "markdown",
   "id": "915220c5",
   "metadata": {},
   "source": [
    "nombre_infected       858\n",
    "nombre_sain          2283\n",
    "nombre_exposed        472\n",
    "nombre_recovered    16387\n",
    "Name: 418, dtype: int64"
   ]
  },
  {
   "cell_type": "markdown",
   "id": "063424fa",
   "metadata": {},
   "source": [
    "nombre_infected       840\n",
    "nombre_sain          2279\n",
    "nombre_exposed        485\n",
    "nombre_recovered    16396\n",
    "Name: 419, dtype: int64"
   ]
  },
  {
   "cell_type": "markdown",
   "id": "97838cc8",
   "metadata": {},
   "source": [
    "nombre_infected       832\n",
    "nombre_sain          2249\n",
    "nombre_exposed        513\n",
    "nombre_recovered    16406\n",
    "Name: 420, dtype: int64"
   ]
  },
  {
   "cell_type": "markdown",
   "id": "0474960d",
   "metadata": {},
   "source": [
    "nombre_infected       841\n",
    "nombre_sain          2256\n",
    "nombre_exposed        516\n",
    "nombre_recovered    16387\n",
    "Name: 421, dtype: int64"
   ]
  },
  {
   "cell_type": "markdown",
   "id": "b10ccee7",
   "metadata": {},
   "source": [
    "nombre_infected       862\n",
    "nombre_sain          2238\n",
    "nombre_exposed        494\n",
    "nombre_recovered    16406\n",
    "Name: 422, dtype: int64"
   ]
  },
  {
   "cell_type": "markdown",
   "id": "d53a8b40",
   "metadata": {},
   "source": [
    "nombre_infected       875\n",
    "nombre_sain          2219\n",
    "nombre_exposed        508\n",
    "nombre_recovered    16398\n",
    "Name: 423, dtype: int64"
   ]
  },
  {
   "cell_type": "markdown",
   "id": "c155a5d2",
   "metadata": {},
   "source": [
    "nombre_infected       855\n",
    "nombre_sain          2202\n",
    "nombre_exposed        525\n",
    "nombre_recovered    16418\n",
    "Name: 424, dtype: int64"
   ]
  },
  {
   "cell_type": "markdown",
   "id": "9da6ada5",
   "metadata": {},
   "source": [
    "nombre_infected       854\n",
    "nombre_sain          2202\n",
    "nombre_exposed        536\n",
    "nombre_recovered    16408\n",
    "Name: 425, dtype: int64"
   ]
  },
  {
   "cell_type": "markdown",
   "id": "552880d5",
   "metadata": {},
   "source": [
    "nombre_infected       864\n",
    "nombre_sain          2202\n",
    "nombre_exposed        526\n",
    "nombre_recovered    16408\n",
    "Name: 426, dtype: int64"
   ]
  },
  {
   "cell_type": "markdown",
   "id": "4a29f7d2",
   "metadata": {},
   "source": [
    "nombre_infected       868\n",
    "nombre_sain          2204\n",
    "nombre_exposed        509\n",
    "nombre_recovered    16419\n",
    "Name: 427, dtype: int64"
   ]
  },
  {
   "cell_type": "markdown",
   "id": "3f0f58d6",
   "metadata": {},
   "source": [
    "nombre_infected       891\n",
    "nombre_sain          2190\n",
    "nombre_exposed        502\n",
    "nombre_recovered    16417\n",
    "Name: 428, dtype: int64"
   ]
  },
  {
   "cell_type": "markdown",
   "id": "8092f663",
   "metadata": {},
   "source": [
    "nombre_infected       893\n",
    "nombre_sain          2159\n",
    "nombre_exposed        541\n",
    "nombre_recovered    16407\n",
    "Name: 429, dtype: int64"
   ]
  },
  {
   "cell_type": "markdown",
   "id": "a6eefbcb",
   "metadata": {},
   "source": [
    "nombre_infected       917\n",
    "nombre_sain          2159\n",
    "nombre_exposed        529\n",
    "nombre_recovered    16395\n",
    "Name: 430, dtype: int64"
   ]
  },
  {
   "cell_type": "markdown",
   "id": "5b7e5c93",
   "metadata": {},
   "source": [
    "nombre_infected       920\n",
    "nombre_sain          2157\n",
    "nombre_exposed        525\n",
    "nombre_recovered    16398\n",
    "Name: 431, dtype: int64"
   ]
  },
  {
   "cell_type": "markdown",
   "id": "c429c409",
   "metadata": {},
   "source": [
    "nombre_infected       927\n",
    "nombre_sain          2147\n",
    "nombre_exposed        511\n",
    "nombre_recovered    16415\n",
    "Name: 432, dtype: int64"
   ]
  },
  {
   "cell_type": "markdown",
   "id": "95f8661a",
   "metadata": {},
   "source": [
    "nombre_infected       937\n",
    "nombre_sain          2131\n",
    "nombre_exposed        509\n",
    "nombre_recovered    16423\n",
    "Name: 433, dtype: int64"
   ]
  },
  {
   "cell_type": "markdown",
   "id": "ea61c03a",
   "metadata": {},
   "source": [
    "nombre_infected       955\n",
    "nombre_sain          2133\n",
    "nombre_exposed        492\n",
    "nombre_recovered    16420\n",
    "Name: 434, dtype: int64"
   ]
  },
  {
   "cell_type": "markdown",
   "id": "c2d7f841",
   "metadata": {},
   "source": [
    "nombre_infected       984\n",
    "nombre_sain          2159\n",
    "nombre_exposed        456\n",
    "nombre_recovered    16401\n",
    "Name: 435, dtype: int64"
   ]
  },
  {
   "cell_type": "markdown",
   "id": "0d0dff86",
   "metadata": {},
   "source": [
    "nombre_infected       973\n",
    "nombre_sain          2119\n",
    "nombre_exposed        505\n",
    "nombre_recovered    16403\n",
    "Name: 436, dtype: int64"
   ]
  },
  {
   "cell_type": "markdown",
   "id": "7629886e",
   "metadata": {},
   "source": [
    "nombre_infected       947\n",
    "nombre_sain          2123\n",
    "nombre_exposed        515\n",
    "nombre_recovered    16415\n",
    "Name: 437, dtype: int64"
   ]
  },
  {
   "cell_type": "markdown",
   "id": "7da80dee",
   "metadata": {},
   "source": [
    "nombre_infected       967\n",
    "nombre_sain          2123\n",
    "nombre_exposed        496\n",
    "nombre_recovered    16414\n",
    "Name: 438, dtype: int64"
   ]
  },
  {
   "cell_type": "markdown",
   "id": "c5e4eb06",
   "metadata": {},
   "source": [
    "nombre_infected       957\n",
    "nombre_sain          2108\n",
    "nombre_exposed        499\n",
    "nombre_recovered    16436\n",
    "Name: 439, dtype: int64"
   ]
  },
  {
   "cell_type": "markdown",
   "id": "568cb4c9",
   "metadata": {},
   "source": [
    "nombre_infected       963\n",
    "nombre_sain          2094\n",
    "nombre_exposed        495\n",
    "nombre_recovered    16448\n",
    "Name: 440, dtype: int64"
   ]
  },
  {
   "cell_type": "markdown",
   "id": "c1ff4781",
   "metadata": {},
   "source": [
    "nombre_infected       970\n",
    "nombre_sain          2110\n",
    "nombre_exposed        502\n",
    "nombre_recovered    16418\n",
    "Name: 441, dtype: int64"
   ]
  },
  {
   "cell_type": "markdown",
   "id": "29e636de",
   "metadata": {},
   "source": [
    "nombre_infected       978\n",
    "nombre_sain          2118\n",
    "nombre_exposed        489\n",
    "nombre_recovered    16415\n",
    "Name: 442, dtype: int64"
   ]
  },
  {
   "cell_type": "markdown",
   "id": "017310fb",
   "metadata": {},
   "source": [
    "nombre_infected       989\n",
    "nombre_sain          2116\n",
    "nombre_exposed        485\n",
    "nombre_recovered    16410\n",
    "Name: 443, dtype: int64"
   ]
  },
  {
   "cell_type": "markdown",
   "id": "dca3abfc",
   "metadata": {},
   "source": [
    "nombre_infected      1002\n",
    "nombre_sain          2110\n",
    "nombre_exposed        469\n",
    "nombre_recovered    16419\n",
    "Name: 444, dtype: int64"
   ]
  },
  {
   "cell_type": "markdown",
   "id": "db5259ee",
   "metadata": {},
   "source": [
    "nombre_infected      1018\n",
    "nombre_sain          2095\n",
    "nombre_exposed        469\n",
    "nombre_recovered    16418\n",
    "Name: 445, dtype: int64"
   ]
  },
  {
   "cell_type": "markdown",
   "id": "990fad9a",
   "metadata": {},
   "source": [
    "nombre_infected      1002\n",
    "nombre_sain          2099\n",
    "nombre_exposed        479\n",
    "nombre_recovered    16420\n",
    "Name: 446, dtype: int64"
   ]
  },
  {
   "cell_type": "markdown",
   "id": "5e9f3b8c",
   "metadata": {},
   "source": [
    "nombre_infected       984\n",
    "nombre_sain          2115\n",
    "nombre_exposed        471\n",
    "nombre_recovered    16430\n",
    "Name: 447, dtype: int64"
   ]
  },
  {
   "cell_type": "markdown",
   "id": "8a4b9544",
   "metadata": {},
   "source": [
    "nombre_infected       979\n",
    "nombre_sain          2124\n",
    "nombre_exposed        469\n",
    "nombre_recovered    16428\n",
    "Name: 448, dtype: int64"
   ]
  },
  {
   "cell_type": "markdown",
   "id": "8fbedc72",
   "metadata": {},
   "source": [
    "nombre_infected       963\n",
    "nombre_sain          2108\n",
    "nombre_exposed        481\n",
    "nombre_recovered    16448\n",
    "Name: 449, dtype: int64"
   ]
  },
  {
   "cell_type": "markdown",
   "id": "8cdb7fb0",
   "metadata": {},
   "source": [
    "nombre_infected       977\n",
    "nombre_sain          2106\n",
    "nombre_exposed        466\n",
    "nombre_recovered    16451\n",
    "Name: 450, dtype: int64"
   ]
  },
  {
   "cell_type": "markdown",
   "id": "f463b503",
   "metadata": {},
   "source": [
    "nombre_infected       950\n",
    "nombre_sain          2097\n",
    "nombre_exposed        494\n",
    "nombre_recovered    16459\n",
    "Name: 451, dtype: int64"
   ]
  },
  {
   "cell_type": "markdown",
   "id": "de0b1cd6",
   "metadata": {},
   "source": [
    "nombre_infected       953\n",
    "nombre_sain          2112\n",
    "nombre_exposed        509\n",
    "nombre_recovered    16426\n",
    "Name: 452, dtype: int64"
   ]
  },
  {
   "cell_type": "markdown",
   "id": "8d2701cc",
   "metadata": {},
   "source": [
    "nombre_infected       956\n",
    "nombre_sain          2101\n",
    "nombre_exposed        520\n",
    "nombre_recovered    16423\n",
    "Name: 453, dtype: int64"
   ]
  },
  {
   "cell_type": "markdown",
   "id": "1b82f90b",
   "metadata": {},
   "source": [
    "nombre_infected       942\n",
    "nombre_sain          2086\n",
    "nombre_exposed        528\n",
    "nombre_recovered    16444\n",
    "Name: 454, dtype: int64"
   ]
  },
  {
   "cell_type": "markdown",
   "id": "aeaae698",
   "metadata": {},
   "source": [
    "nombre_infected       971\n",
    "nombre_sain          2090\n",
    "nombre_exposed        529\n",
    "nombre_recovered    16410\n",
    "Name: 455, dtype: int64"
   ]
  },
  {
   "cell_type": "markdown",
   "id": "617a81c3",
   "metadata": {},
   "source": [
    "nombre_infected       966\n",
    "nombre_sain          2107\n",
    "nombre_exposed        515\n",
    "nombre_recovered    16412\n",
    "Name: 456, dtype: int64"
   ]
  },
  {
   "cell_type": "markdown",
   "id": "45e6dd7d",
   "metadata": {},
   "source": [
    "nombre_infected       975\n",
    "nombre_sain          2113\n",
    "nombre_exposed        511\n",
    "nombre_recovered    16401\n",
    "Name: 457, dtype: int64"
   ]
  },
  {
   "cell_type": "markdown",
   "id": "c8991cd0",
   "metadata": {},
   "source": [
    "nombre_infected       976\n",
    "nombre_sain          2100\n",
    "nombre_exposed        520\n",
    "nombre_recovered    16404\n",
    "Name: 458, dtype: int64"
   ]
  },
  {
   "cell_type": "markdown",
   "id": "d9516573",
   "metadata": {},
   "source": [
    "nombre_infected       967\n",
    "nombre_sain          2064\n",
    "nombre_exposed        533\n",
    "nombre_recovered    16436\n",
    "Name: 459, dtype: int64"
   ]
  },
  {
   "cell_type": "markdown",
   "id": "bad3870b",
   "metadata": {},
   "source": [
    "nombre_infected       975\n",
    "nombre_sain          2072\n",
    "nombre_exposed        507\n",
    "nombre_recovered    16446\n",
    "Name: 460, dtype: int64"
   ]
  },
  {
   "cell_type": "markdown",
   "id": "a0a07303",
   "metadata": {},
   "source": [
    "nombre_infected       974\n",
    "nombre_sain          2063\n",
    "nombre_exposed        498\n",
    "nombre_recovered    16465\n",
    "Name: 461, dtype: int64"
   ]
  },
  {
   "cell_type": "markdown",
   "id": "ca4b0c73",
   "metadata": {},
   "source": [
    "nombre_infected       952\n",
    "nombre_sain          2047\n",
    "nombre_exposed        503\n",
    "nombre_recovered    16498\n",
    "Name: 462, dtype: int64"
   ]
  },
  {
   "cell_type": "markdown",
   "id": "4b094937",
   "metadata": {},
   "source": [
    "nombre_infected       955\n",
    "nombre_sain          2027\n",
    "nombre_exposed        506\n",
    "nombre_recovered    16512\n",
    "Name: 463, dtype: int64"
   ]
  },
  {
   "cell_type": "markdown",
   "id": "deb62a1b",
   "metadata": {},
   "source": [
    "nombre_infected       946\n",
    "nombre_sain          2032\n",
    "nombre_exposed        501\n",
    "nombre_recovered    16521\n",
    "Name: 464, dtype: int64"
   ]
  },
  {
   "cell_type": "markdown",
   "id": "f316afd2",
   "metadata": {},
   "source": [
    "nombre_infected       932\n",
    "nombre_sain          2003\n",
    "nombre_exposed        515\n",
    "nombre_recovered    16550\n",
    "Name: 465, dtype: int64"
   ]
  },
  {
   "cell_type": "markdown",
   "id": "2d5da349",
   "metadata": {},
   "source": [
    "nombre_infected       939\n",
    "nombre_sain          2021\n",
    "nombre_exposed        484\n",
    "nombre_recovered    16556\n",
    "Name: 466, dtype: int64"
   ]
  },
  {
   "cell_type": "markdown",
   "id": "2b744479",
   "metadata": {},
   "source": [
    "nombre_infected       952\n",
    "nombre_sain          2024\n",
    "nombre_exposed        464\n",
    "nombre_recovered    16560\n",
    "Name: 467, dtype: int64"
   ]
  },
  {
   "cell_type": "markdown",
   "id": "fd2ded06",
   "metadata": {},
   "source": [
    "nombre_infected       952\n",
    "nombre_sain          2031\n",
    "nombre_exposed        462\n",
    "nombre_recovered    16555\n",
    "Name: 468, dtype: int64"
   ]
  },
  {
   "cell_type": "markdown",
   "id": "550eacb6",
   "metadata": {},
   "source": [
    "nombre_infected       937\n",
    "nombre_sain          2023\n",
    "nombre_exposed        471\n",
    "nombre_recovered    16569\n",
    "Name: 469, dtype: int64"
   ]
  },
  {
   "cell_type": "markdown",
   "id": "c24749b9",
   "metadata": {},
   "source": [
    "nombre_infected       925\n",
    "nombre_sain          2030\n",
    "nombre_exposed        471\n",
    "nombre_recovered    16574\n",
    "Name: 470, dtype: int64"
   ]
  },
  {
   "cell_type": "markdown",
   "id": "7bf8bf50",
   "metadata": {},
   "source": [
    "nombre_infected       960\n",
    "nombre_sain          2022\n",
    "nombre_exposed        470\n",
    "nombre_recovered    16548\n",
    "Name: 471, dtype: int64"
   ]
  },
  {
   "cell_type": "markdown",
   "id": "30ef9bc1",
   "metadata": {},
   "source": [
    "nombre_infected       930\n",
    "nombre_sain          2014\n",
    "nombre_exposed        482\n",
    "nombre_recovered    16574\n",
    "Name: 472, dtype: int64"
   ]
  },
  {
   "cell_type": "markdown",
   "id": "dd89bf3b",
   "metadata": {},
   "source": [
    "nombre_infected       892\n",
    "nombre_sain          2009\n",
    "nombre_exposed        508\n",
    "nombre_recovered    16591\n",
    "Name: 473, dtype: int64"
   ]
  },
  {
   "cell_type": "markdown",
   "id": "1b2ae11a",
   "metadata": {},
   "source": [
    "nombre_infected       905\n",
    "nombre_sain          2017\n",
    "nombre_exposed        482\n",
    "nombre_recovered    16596\n",
    "Name: 474, dtype: int64"
   ]
  },
  {
   "cell_type": "markdown",
   "id": "97fbf21c",
   "metadata": {},
   "source": [
    "nombre_infected       904\n",
    "nombre_sain          2057\n",
    "nombre_exposed        457\n",
    "nombre_recovered    16582\n",
    "Name: 475, dtype: int64"
   ]
  },
  {
   "cell_type": "markdown",
   "id": "f3345b0b",
   "metadata": {},
   "source": [
    "nombre_infected       883\n",
    "nombre_sain          2071\n",
    "nombre_exposed        456\n",
    "nombre_recovered    16590\n",
    "Name: 476, dtype: int64"
   ]
  },
  {
   "cell_type": "markdown",
   "id": "bb293f4c",
   "metadata": {},
   "source": [
    "nombre_infected       887\n",
    "nombre_sain          2063\n",
    "nombre_exposed        460\n",
    "nombre_recovered    16590\n",
    "Name: 477, dtype: int64"
   ]
  },
  {
   "cell_type": "markdown",
   "id": "66b6b079",
   "metadata": {},
   "source": [
    "nombre_infected       875\n",
    "nombre_sain          2085\n",
    "nombre_exposed        452\n",
    "nombre_recovered    16588\n",
    "Name: 478, dtype: int64"
   ]
  },
  {
   "cell_type": "markdown",
   "id": "d932cb69",
   "metadata": {},
   "source": [
    "nombre_infected       888\n",
    "nombre_sain          2118\n",
    "nombre_exposed        456\n",
    "nombre_recovered    16538\n",
    "Name: 479, dtype: int64"
   ]
  },
  {
   "cell_type": "markdown",
   "id": "ac25da39",
   "metadata": {},
   "source": [
    "nombre_infected       880\n",
    "nombre_sain          2111\n",
    "nombre_exposed        486\n",
    "nombre_recovered    16523\n",
    "Name: 480, dtype: int64"
   ]
  },
  {
   "cell_type": "markdown",
   "id": "aab72505",
   "metadata": {},
   "source": [
    "nombre_infected       880\n",
    "nombre_sain          2132\n",
    "nombre_exposed        494\n",
    "nombre_recovered    16494\n",
    "Name: 481, dtype: int64"
   ]
  },
  {
   "cell_type": "markdown",
   "id": "99adf3f4",
   "metadata": {},
   "source": [
    "nombre_infected       877\n",
    "nombre_sain          2129\n",
    "nombre_exposed        497\n",
    "nombre_recovered    16497\n",
    "Name: 482, dtype: int64"
   ]
  },
  {
   "cell_type": "markdown",
   "id": "a3fa875f",
   "metadata": {},
   "source": [
    "nombre_infected       904\n",
    "nombre_sain          2133\n",
    "nombre_exposed        481\n",
    "nombre_recovered    16482\n",
    "Name: 483, dtype: int64"
   ]
  },
  {
   "cell_type": "markdown",
   "id": "3b628c07",
   "metadata": {},
   "source": [
    "nombre_infected       927\n",
    "nombre_sain          2156\n",
    "nombre_exposed        476\n",
    "nombre_recovered    16441\n",
    "Name: 484, dtype: int64"
   ]
  },
  {
   "cell_type": "markdown",
   "id": "99010a25",
   "metadata": {},
   "source": [
    "nombre_infected       920\n",
    "nombre_sain          2153\n",
    "nombre_exposed        487\n",
    "nombre_recovered    16440\n",
    "Name: 485, dtype: int64"
   ]
  },
  {
   "cell_type": "markdown",
   "id": "92de0697",
   "metadata": {},
   "source": [
    "nombre_infected       937\n",
    "nombre_sain          2138\n",
    "nombre_exposed        502\n",
    "nombre_recovered    16423\n",
    "Name: 486, dtype: int64"
   ]
  },
  {
   "cell_type": "markdown",
   "id": "8e1e1b7c",
   "metadata": {},
   "source": [
    "nombre_infected       919\n",
    "nombre_sain          2158\n",
    "nombre_exposed        518\n",
    "nombre_recovered    16405\n",
    "Name: 487, dtype: int64"
   ]
  },
  {
   "cell_type": "markdown",
   "id": "4cc8808e",
   "metadata": {},
   "source": [
    "nombre_infected       931\n",
    "nombre_sain          2163\n",
    "nombre_exposed        511\n",
    "nombre_recovered    16395\n",
    "Name: 488, dtype: int64"
   ]
  },
  {
   "cell_type": "markdown",
   "id": "b1b00c64",
   "metadata": {},
   "source": [
    "nombre_infected       955\n",
    "nombre_sain          2149\n",
    "nombre_exposed        508\n",
    "nombre_recovered    16388\n",
    "Name: 489, dtype: int64"
   ]
  },
  {
   "cell_type": "markdown",
   "id": "69a9ed8d",
   "metadata": {},
   "source": [
    "nombre_infected       953\n",
    "nombre_sain          2145\n",
    "nombre_exposed        516\n",
    "nombre_recovered    16386\n",
    "Name: 490, dtype: int64"
   ]
  },
  {
   "cell_type": "markdown",
   "id": "86b3eba3",
   "metadata": {},
   "source": [
    "nombre_infected       964\n",
    "nombre_sain          2147\n",
    "nombre_exposed        507\n",
    "nombre_recovered    16382\n",
    "Name: 491, dtype: int64"
   ]
  },
  {
   "cell_type": "markdown",
   "id": "117277dc",
   "metadata": {},
   "source": [
    "nombre_infected       974\n",
    "nombre_sain          2149\n",
    "nombre_exposed        491\n",
    "nombre_recovered    16386\n",
    "Name: 492, dtype: int64"
   ]
  },
  {
   "cell_type": "markdown",
   "id": "9b838099",
   "metadata": {},
   "source": [
    "nombre_infected       964\n",
    "nombre_sain          2141\n",
    "nombre_exposed        507\n",
    "nombre_recovered    16388\n",
    "Name: 493, dtype: int64"
   ]
  },
  {
   "cell_type": "markdown",
   "id": "e9bf893d",
   "metadata": {},
   "source": [
    "nombre_infected       991\n",
    "nombre_sain          2132\n",
    "nombre_exposed        497\n",
    "nombre_recovered    16380\n",
    "Name: 494, dtype: int64"
   ]
  },
  {
   "cell_type": "markdown",
   "id": "ec2adc8a",
   "metadata": {},
   "source": [
    "nombre_infected       977\n",
    "nombre_sain          2134\n",
    "nombre_exposed        494\n",
    "nombre_recovered    16395\n",
    "Name: 495, dtype: int64"
   ]
  },
  {
   "cell_type": "markdown",
   "id": "db26a743",
   "metadata": {},
   "source": [
    "nombre_infected       978\n",
    "nombre_sain          2107\n",
    "nombre_exposed        521\n",
    "nombre_recovered    16394\n",
    "Name: 496, dtype: int64"
   ]
  },
  {
   "cell_type": "markdown",
   "id": "1c60d36d",
   "metadata": {},
   "source": [
    "nombre_infected       978\n",
    "nombre_sain          2090\n",
    "nombre_exposed        519\n",
    "nombre_recovered    16413\n",
    "Name: 497, dtype: int64"
   ]
  },
  {
   "cell_type": "markdown",
   "id": "bc942202",
   "metadata": {},
   "source": [
    "nombre_infected       987\n",
    "nombre_sain          2107\n",
    "nombre_exposed        499\n",
    "nombre_recovered    16407\n",
    "Name: 498, dtype: int64"
   ]
  },
  {
   "cell_type": "markdown",
   "id": "e9dac6f5",
   "metadata": {},
   "source": [
    "nombre_infected       992\n",
    "nombre_sain          2121\n",
    "nombre_exposed        477\n",
    "nombre_recovered    16410\n",
    "Name: 499, dtype: int64"
   ]
  },
  {
   "cell_type": "markdown",
   "id": "43e0618b",
   "metadata": {},
   "source": [
    "nombre_infected       978\n",
    "nombre_sain          2120\n",
    "nombre_exposed        489\n",
    "nombre_recovered    16413\n",
    "Name: 500, dtype: int64"
   ]
  },
  {
   "cell_type": "markdown",
   "id": "350ce80b",
   "metadata": {},
   "source": [
    "nombre_infected       975\n",
    "nombre_sain          2110\n",
    "nombre_exposed        497\n",
    "nombre_recovered    16418\n",
    "Name: 501, dtype: int64"
   ]
  },
  {
   "cell_type": "markdown",
   "id": "0be9f786",
   "metadata": {},
   "source": [
    "nombre_infected       988\n",
    "nombre_sain          2095\n",
    "nombre_exposed        491\n",
    "nombre_recovered    16426\n",
    "Name: 502, dtype: int64"
   ]
  },
  {
   "cell_type": "markdown",
   "id": "4ebca82f",
   "metadata": {},
   "source": [
    "nombre_infected       976\n",
    "nombre_sain          2077\n",
    "nombre_exposed        521\n",
    "nombre_recovered    16426\n",
    "Name: 503, dtype: int64"
   ]
  },
  {
   "cell_type": "markdown",
   "id": "1fff5f4f",
   "metadata": {},
   "source": [
    "nombre_infected      1003\n",
    "nombre_sain          2088\n",
    "nombre_exposed        512\n",
    "nombre_recovered    16397\n",
    "Name: 504, dtype: int64"
   ]
  },
  {
   "cell_type": "markdown",
   "id": "883fdd66",
   "metadata": {},
   "source": [
    "nombre_infected      1018\n",
    "nombre_sain          2077\n",
    "nombre_exposed        508\n",
    "nombre_recovered    16397\n",
    "Name: 505, dtype: int64"
   ]
  },
  {
   "cell_type": "markdown",
   "id": "682a35ee",
   "metadata": {},
   "source": [
    "nombre_infected      1013\n",
    "nombre_sain          2083\n",
    "nombre_exposed        511\n",
    "nombre_recovered    16393\n",
    "Name: 506, dtype: int64"
   ]
  },
  {
   "cell_type": "markdown",
   "id": "9a252e3d",
   "metadata": {},
   "source": [
    "nombre_infected      1021\n",
    "nombre_sain          2079\n",
    "nombre_exposed        507\n",
    "nombre_recovered    16393\n",
    "Name: 507, dtype: int64"
   ]
  },
  {
   "cell_type": "markdown",
   "id": "5bfc1fe2",
   "metadata": {},
   "source": [
    "nombre_infected      1026\n",
    "nombre_sain          2063\n",
    "nombre_exposed        519\n",
    "nombre_recovered    16392\n",
    "Name: 508, dtype: int64"
   ]
  },
  {
   "cell_type": "markdown",
   "id": "81abb2da",
   "metadata": {},
   "source": [
    "nombre_infected      1010\n",
    "nombre_sain          2054\n",
    "nombre_exposed        536\n",
    "nombre_recovered    16400\n",
    "Name: 509, dtype: int64"
   ]
  },
  {
   "cell_type": "markdown",
   "id": "7d27902c",
   "metadata": {},
   "source": [
    "nombre_infected       998\n",
    "nombre_sain          2047\n",
    "nombre_exposed        551\n",
    "nombre_recovered    16404\n",
    "Name: 510, dtype: int64"
   ]
  },
  {
   "cell_type": "markdown",
   "id": "f842670d",
   "metadata": {},
   "source": [
    "nombre_infected      1030\n",
    "nombre_sain          2041\n",
    "nombre_exposed        524\n",
    "nombre_recovered    16405\n",
    "Name: 511, dtype: int64"
   ]
  },
  {
   "cell_type": "markdown",
   "id": "e6a88605",
   "metadata": {},
   "source": [
    "nombre_infected      1020\n",
    "nombre_sain          2004\n",
    "nombre_exposed        528\n",
    "nombre_recovered    16448\n",
    "Name: 512, dtype: int64"
   ]
  },
  {
   "cell_type": "markdown",
   "id": "41931004",
   "metadata": {},
   "source": [
    "nombre_infected      1016\n",
    "nombre_sain          1988\n",
    "nombre_exposed        525\n",
    "nombre_recovered    16471\n",
    "Name: 513, dtype: int64"
   ]
  },
  {
   "cell_type": "markdown",
   "id": "690e2775",
   "metadata": {},
   "source": [
    "nombre_infected       993\n",
    "nombre_sain          1987\n",
    "nombre_exposed        556\n",
    "nombre_recovered    16464\n",
    "Name: 514, dtype: int64"
   ]
  },
  {
   "cell_type": "markdown",
   "id": "535ef457",
   "metadata": {},
   "source": [
    "nombre_infected      1005\n",
    "nombre_sain          1974\n",
    "nombre_exposed        554\n",
    "nombre_recovered    16467\n",
    "Name: 515, dtype: int64"
   ]
  },
  {
   "cell_type": "markdown",
   "id": "9eacef11",
   "metadata": {},
   "source": [
    "nombre_infected      1018\n",
    "nombre_sain          1990\n",
    "nombre_exposed        555\n",
    "nombre_recovered    16437\n",
    "Name: 516, dtype: int64"
   ]
  },
  {
   "cell_type": "markdown",
   "id": "ff3fee1b",
   "metadata": {},
   "source": [
    "nombre_infected      1010\n",
    "nombre_sain          1997\n",
    "nombre_exposed        570\n",
    "nombre_recovered    16423\n",
    "Name: 517, dtype: int64"
   ]
  },
  {
   "cell_type": "markdown",
   "id": "a3e8ccee",
   "metadata": {},
   "source": [
    "nombre_infected      1012\n",
    "nombre_sain          2010\n",
    "nombre_exposed        570\n",
    "nombre_recovered    16408\n",
    "Name: 518, dtype: int64"
   ]
  },
  {
   "cell_type": "markdown",
   "id": "4a0f45bd",
   "metadata": {},
   "source": [
    "nombre_infected      1039\n",
    "nombre_sain          2008\n",
    "nombre_exposed        560\n",
    "nombre_recovered    16393\n",
    "Name: 519, dtype: int64"
   ]
  },
  {
   "cell_type": "markdown",
   "id": "6e3b7694",
   "metadata": {},
   "source": [
    "nombre_infected      1037\n",
    "nombre_sain          2004\n",
    "nombre_exposed        577\n",
    "nombre_recovered    16382\n",
    "Name: 520, dtype: int64"
   ]
  },
  {
   "cell_type": "markdown",
   "id": "0333c1b4",
   "metadata": {},
   "source": [
    "nombre_infected      1010\n",
    "nombre_sain          2020\n",
    "nombre_exposed        581\n",
    "nombre_recovered    16389\n",
    "Name: 521, dtype: int64"
   ]
  },
  {
   "cell_type": "markdown",
   "id": "feb5e62f",
   "metadata": {},
   "source": [
    "nombre_infected      1006\n",
    "nombre_sain          2017\n",
    "nombre_exposed        572\n",
    "nombre_recovered    16405\n",
    "Name: 522, dtype: int64"
   ]
  },
  {
   "cell_type": "markdown",
   "id": "30196d35",
   "metadata": {},
   "source": [
    "nombre_infected      1026\n",
    "nombre_sain          2023\n",
    "nombre_exposed        575\n",
    "nombre_recovered    16376\n",
    "Name: 523, dtype: int64"
   ]
  },
  {
   "cell_type": "markdown",
   "id": "e5fe7e69",
   "metadata": {},
   "source": [
    "nombre_infected      1022\n",
    "nombre_sain          2013\n",
    "nombre_exposed        586\n",
    "nombre_recovered    16379\n",
    "Name: 524, dtype: int64"
   ]
  },
  {
   "cell_type": "markdown",
   "id": "0dc0c4ea",
   "metadata": {},
   "source": [
    "nombre_infected      1046\n",
    "nombre_sain          1992\n",
    "nombre_exposed        579\n",
    "nombre_recovered    16383\n",
    "Name: 525, dtype: int64"
   ]
  },
  {
   "cell_type": "markdown",
   "id": "343f4488",
   "metadata": {},
   "source": [
    "nombre_infected      1060\n",
    "nombre_sain          1997\n",
    "nombre_exposed        554\n",
    "nombre_recovered    16389\n",
    "Name: 526, dtype: int64"
   ]
  },
  {
   "cell_type": "markdown",
   "id": "af1ea9f9",
   "metadata": {},
   "source": [
    "nombre_infected      1074\n",
    "nombre_sain          1963\n",
    "nombre_exposed        575\n",
    "nombre_recovered    16388\n",
    "Name: 527, dtype: int64"
   ]
  },
  {
   "cell_type": "markdown",
   "id": "8fedf029",
   "metadata": {},
   "source": [
    "nombre_infected      1052\n",
    "nombre_sain          1997\n",
    "nombre_exposed        563\n",
    "nombre_recovered    16388\n",
    "Name: 528, dtype: int64"
   ]
  },
  {
   "cell_type": "markdown",
   "id": "2a6ebbe0",
   "metadata": {},
   "source": [
    "nombre_infected      1081\n",
    "nombre_sain          2015\n",
    "nombre_exposed        544\n",
    "nombre_recovered    16360\n",
    "Name: 529, dtype: int64"
   ]
  },
  {
   "cell_type": "markdown",
   "id": "6279c0f6",
   "metadata": {},
   "source": [
    "nombre_infected      1098\n",
    "nombre_sain          2011\n",
    "nombre_exposed        541\n",
    "nombre_recovered    16350\n",
    "Name: 530, dtype: int64"
   ]
  },
  {
   "cell_type": "markdown",
   "id": "de4902f1",
   "metadata": {},
   "source": [
    "nombre_infected      1074\n",
    "nombre_sain          1990\n",
    "nombre_exposed        569\n",
    "nombre_recovered    16367\n",
    "Name: 531, dtype: int64"
   ]
  },
  {
   "cell_type": "markdown",
   "id": "28b55f97",
   "metadata": {},
   "source": [
    "nombre_infected      1065\n",
    "nombre_sain          1993\n",
    "nombre_exposed        586\n",
    "nombre_recovered    16356\n",
    "Name: 532, dtype: int64"
   ]
  },
  {
   "cell_type": "markdown",
   "id": "1aa4edeb",
   "metadata": {},
   "source": [
    "nombre_infected      1069\n",
    "nombre_sain          1995\n",
    "nombre_exposed        581\n",
    "nombre_recovered    16355\n",
    "Name: 533, dtype: int64"
   ]
  },
  {
   "cell_type": "markdown",
   "id": "c9fcdd3b",
   "metadata": {},
   "source": [
    "nombre_infected      1089\n",
    "nombre_sain          2030\n",
    "nombre_exposed        553\n",
    "nombre_recovered    16328\n",
    "Name: 534, dtype: int64"
   ]
  },
  {
   "cell_type": "markdown",
   "id": "1b13a0c1",
   "metadata": {},
   "source": [
    "nombre_infected      1106\n",
    "nombre_sain          2025\n",
    "nombre_exposed        546\n",
    "nombre_recovered    16323\n",
    "Name: 535, dtype: int64"
   ]
  },
  {
   "cell_type": "markdown",
   "id": "689eba76",
   "metadata": {},
   "source": [
    "nombre_infected      1090\n",
    "nombre_sain          2020\n",
    "nombre_exposed        569\n",
    "nombre_recovered    16321\n",
    "Name: 536, dtype: int64"
   ]
  },
  {
   "cell_type": "markdown",
   "id": "98d01111",
   "metadata": {},
   "source": [
    "nombre_infected      1082\n",
    "nombre_sain          2021\n",
    "nombre_exposed        566\n",
    "nombre_recovered    16331\n",
    "Name: 537, dtype: int64"
   ]
  },
  {
   "cell_type": "markdown",
   "id": "a675e05e",
   "metadata": {},
   "source": [
    "nombre_infected      1088\n",
    "nombre_sain          2039\n",
    "nombre_exposed        572\n",
    "nombre_recovered    16301\n",
    "Name: 538, dtype: int64"
   ]
  },
  {
   "cell_type": "markdown",
   "id": "14bdbc5d",
   "metadata": {},
   "source": [
    "nombre_infected      1085\n",
    "nombre_sain          2050\n",
    "nombre_exposed        573\n",
    "nombre_recovered    16292\n",
    "Name: 539, dtype: int64"
   ]
  },
  {
   "cell_type": "markdown",
   "id": "f1dbf959",
   "metadata": {},
   "source": [
    "nombre_infected      1079\n",
    "nombre_sain          2038\n",
    "nombre_exposed        581\n",
    "nombre_recovered    16302\n",
    "Name: 540, dtype: int64"
   ]
  },
  {
   "cell_type": "markdown",
   "id": "6702782a",
   "metadata": {},
   "source": [
    "nombre_infected      1081\n",
    "nombre_sain          2036\n",
    "nombre_exposed        600\n",
    "nombre_recovered    16283\n",
    "Name: 541, dtype: int64"
   ]
  },
  {
   "cell_type": "markdown",
   "id": "c219b55e",
   "metadata": {},
   "source": [
    "nombre_infected      1083\n",
    "nombre_sain          2033\n",
    "nombre_exposed        597\n",
    "nombre_recovered    16287\n",
    "Name: 542, dtype: int64"
   ]
  },
  {
   "cell_type": "markdown",
   "id": "f5a85fba",
   "metadata": {},
   "source": [
    "nombre_infected      1057\n",
    "nombre_sain          2018\n",
    "nombre_exposed        612\n",
    "nombre_recovered    16313\n",
    "Name: 543, dtype: int64"
   ]
  },
  {
   "cell_type": "markdown",
   "id": "c5e97441",
   "metadata": {},
   "source": [
    "nombre_infected      1073\n",
    "nombre_sain          1997\n",
    "nombre_exposed        599\n",
    "nombre_recovered    16331\n",
    "Name: 544, dtype: int64"
   ]
  },
  {
   "cell_type": "markdown",
   "id": "b4869d68",
   "metadata": {},
   "source": [
    "nombre_infected      1072\n",
    "nombre_sain          2014\n",
    "nombre_exposed        592\n",
    "nombre_recovered    16322\n",
    "Name: 545, dtype: int64"
   ]
  },
  {
   "cell_type": "markdown",
   "id": "2c4cf88a",
   "metadata": {},
   "source": [
    "nombre_infected      1068\n",
    "nombre_sain          2006\n",
    "nombre_exposed        609\n",
    "nombre_recovered    16317\n",
    "Name: 546, dtype: int64"
   ]
  },
  {
   "cell_type": "markdown",
   "id": "e68cb2e1",
   "metadata": {},
   "source": [
    "nombre_infected      1065\n",
    "nombre_sain          1997\n",
    "nombre_exposed        615\n",
    "nombre_recovered    16323\n",
    "Name: 547, dtype: int64"
   ]
  },
  {
   "cell_type": "markdown",
   "id": "944977eb",
   "metadata": {},
   "source": [
    "nombre_infected      1090\n",
    "nombre_sain          2014\n",
    "nombre_exposed        592\n",
    "nombre_recovered    16304\n",
    "Name: 548, dtype: int64"
   ]
  },
  {
   "cell_type": "markdown",
   "id": "3bc2d11c",
   "metadata": {},
   "source": [
    "nombre_infected      1099\n",
    "nombre_sain          2016\n",
    "nombre_exposed        561\n",
    "nombre_recovered    16324\n",
    "Name: 549, dtype: int64"
   ]
  },
  {
   "cell_type": "markdown",
   "id": "f009a1b3",
   "metadata": {},
   "source": [
    "nombre_infected      1076\n",
    "nombre_sain          2007\n",
    "nombre_exposed        593\n",
    "nombre_recovered    16324\n",
    "Name: 550, dtype: int64"
   ]
  },
  {
   "cell_type": "markdown",
   "id": "fd61ee2e",
   "metadata": {},
   "source": [
    "nombre_infected      1076\n",
    "nombre_sain          2005\n",
    "nombre_exposed        596\n",
    "nombre_recovered    16323\n",
    "Name: 551, dtype: int64"
   ]
  },
  {
   "cell_type": "markdown",
   "id": "3bc866f6",
   "metadata": {},
   "source": [
    "nombre_infected      1065\n",
    "nombre_sain          2008\n",
    "nombre_exposed        590\n",
    "nombre_recovered    16337\n",
    "Name: 552, dtype: int64"
   ]
  },
  {
   "cell_type": "markdown",
   "id": "65d4bcd2",
   "metadata": {},
   "source": [
    "nombre_infected      1050\n",
    "nombre_sain          1987\n",
    "nombre_exposed        609\n",
    "nombre_recovered    16354\n",
    "Name: 553, dtype: int64"
   ]
  },
  {
   "cell_type": "markdown",
   "id": "e54fa4d0",
   "metadata": {},
   "source": [
    "nombre_infected      1033\n",
    "nombre_sain          1984\n",
    "nombre_exposed        612\n",
    "nombre_recovered    16371\n",
    "Name: 554, dtype: int64"
   ]
  },
  {
   "cell_type": "markdown",
   "id": "f6056a58",
   "metadata": {},
   "source": [
    "nombre_infected      1037\n",
    "nombre_sain          1967\n",
    "nombre_exposed        612\n",
    "nombre_recovered    16384\n",
    "Name: 555, dtype: int64"
   ]
  },
  {
   "cell_type": "markdown",
   "id": "1615635d",
   "metadata": {},
   "source": [
    "nombre_infected      1054\n",
    "nombre_sain          1961\n",
    "nombre_exposed        587\n",
    "nombre_recovered    16398\n",
    "Name: 556, dtype: int64"
   ]
  },
  {
   "cell_type": "markdown",
   "id": "1f04c7f4",
   "metadata": {},
   "source": [
    "nombre_infected      1090\n",
    "nombre_sain          1955\n",
    "nombre_exposed        560\n",
    "nombre_recovered    16395\n",
    "Name: 557, dtype: int64"
   ]
  },
  {
   "cell_type": "markdown",
   "id": "d871733c",
   "metadata": {},
   "source": [
    "nombre_infected      1104\n",
    "nombre_sain          1931\n",
    "nombre_exposed        560\n",
    "nombre_recovered    16405\n",
    "Name: 558, dtype: int64"
   ]
  },
  {
   "cell_type": "markdown",
   "id": "5340b076",
   "metadata": {},
   "source": [
    "nombre_infected      1098\n",
    "nombre_sain          1894\n",
    "nombre_exposed        571\n",
    "nombre_recovered    16437\n",
    "Name: 559, dtype: int64"
   ]
  },
  {
   "cell_type": "markdown",
   "id": "bc6893fd",
   "metadata": {},
   "source": [
    "nombre_infected      1073\n",
    "nombre_sain          1860\n",
    "nombre_exposed        578\n",
    "nombre_recovered    16489\n",
    "Name: 560, dtype: int64"
   ]
  },
  {
   "cell_type": "markdown",
   "id": "005d12ec",
   "metadata": {},
   "source": [
    "nombre_infected      1075\n",
    "nombre_sain          1866\n",
    "nombre_exposed        550\n",
    "nombre_recovered    16509\n",
    "Name: 561, dtype: int64"
   ]
  },
  {
   "cell_type": "markdown",
   "id": "b1f20bec",
   "metadata": {},
   "source": [
    "nombre_infected      1059\n",
    "nombre_sain          1876\n",
    "nombre_exposed        542\n",
    "nombre_recovered    16523\n",
    "Name: 562, dtype: int64"
   ]
  },
  {
   "cell_type": "markdown",
   "id": "62d66626",
   "metadata": {},
   "source": [
    "nombre_infected      1067\n",
    "nombre_sain          1871\n",
    "nombre_exposed        527\n",
    "nombre_recovered    16535\n",
    "Name: 563, dtype: int64"
   ]
  },
  {
   "cell_type": "markdown",
   "id": "12d93663",
   "metadata": {},
   "source": [
    "nombre_infected      1053\n",
    "nombre_sain          1874\n",
    "nombre_exposed        503\n",
    "nombre_recovered    16570\n",
    "Name: 564, dtype: int64"
   ]
  },
  {
   "cell_type": "markdown",
   "id": "19ee2757",
   "metadata": {},
   "source": [
    "nombre_infected      1047\n",
    "nombre_sain          1871\n",
    "nombre_exposed        516\n",
    "nombre_recovered    16566\n",
    "Name: 565, dtype: int64"
   ]
  },
  {
   "cell_type": "markdown",
   "id": "92016f52",
   "metadata": {},
   "source": [
    "nombre_infected      1051\n",
    "nombre_sain          1871\n",
    "nombre_exposed        502\n",
    "nombre_recovered    16576\n",
    "Name: 566, dtype: int64"
   ]
  },
  {
   "cell_type": "markdown",
   "id": "e429e88b",
   "metadata": {},
   "source": [
    "nombre_infected      1022\n",
    "nombre_sain          1862\n",
    "nombre_exposed        502\n",
    "nombre_recovered    16614\n",
    "Name: 567, dtype: int64"
   ]
  },
  {
   "cell_type": "markdown",
   "id": "ac635a6e",
   "metadata": {},
   "source": [
    "nombre_infected      1002\n",
    "nombre_sain          1872\n",
    "nombre_exposed        507\n",
    "nombre_recovered    16619\n",
    "Name: 568, dtype: int64"
   ]
  },
  {
   "cell_type": "markdown",
   "id": "0edd2bb1",
   "metadata": {},
   "source": [
    "nombre_infected       992\n",
    "nombre_sain          1858\n",
    "nombre_exposed        532\n",
    "nombre_recovered    16618\n",
    "Name: 569, dtype: int64"
   ]
  },
  {
   "cell_type": "markdown",
   "id": "05b46076",
   "metadata": {},
   "source": [
    "nombre_infected       978\n",
    "nombre_sain          1855\n",
    "nombre_exposed        547\n",
    "nombre_recovered    16620\n",
    "Name: 570, dtype: int64"
   ]
  },
  {
   "cell_type": "markdown",
   "id": "a0274e97",
   "metadata": {},
   "source": [
    "nombre_infected       997\n",
    "nombre_sain          1890\n",
    "nombre_exposed        508\n",
    "nombre_recovered    16605\n",
    "Name: 571, dtype: int64"
   ]
  },
  {
   "cell_type": "markdown",
   "id": "df02f0a8",
   "metadata": {},
   "source": [
    "nombre_infected       999\n",
    "nombre_sain          1890\n",
    "nombre_exposed        521\n",
    "nombre_recovered    16590\n",
    "Name: 572, dtype: int64"
   ]
  },
  {
   "cell_type": "markdown",
   "id": "19f21765",
   "metadata": {},
   "source": [
    "nombre_infected       983\n",
    "nombre_sain          1907\n",
    "nombre_exposed        520\n",
    "nombre_recovered    16590\n",
    "Name: 573, dtype: int64"
   ]
  },
  {
   "cell_type": "markdown",
   "id": "8d1b4c11",
   "metadata": {},
   "source": [
    "nombre_infected       982\n",
    "nombre_sain          1914\n",
    "nombre_exposed        522\n",
    "nombre_recovered    16582\n",
    "Name: 574, dtype: int64"
   ]
  },
  {
   "cell_type": "markdown",
   "id": "40a2b686",
   "metadata": {},
   "source": [
    "nombre_infected       985\n",
    "nombre_sain          1922\n",
    "nombre_exposed        499\n",
    "nombre_recovered    16594\n",
    "Name: 575, dtype: int64"
   ]
  },
  {
   "cell_type": "markdown",
   "id": "a648363d",
   "metadata": {},
   "source": [
    "nombre_infected       977\n",
    "nombre_sain          1893\n",
    "nombre_exposed        502\n",
    "nombre_recovered    16628\n",
    "Name: 576, dtype: int64"
   ]
  },
  {
   "cell_type": "markdown",
   "id": "de0bc33b",
   "metadata": {},
   "source": [
    "nombre_infected       967\n",
    "nombre_sain          1901\n",
    "nombre_exposed        514\n",
    "nombre_recovered    16618\n",
    "Name: 577, dtype: int64"
   ]
  },
  {
   "cell_type": "markdown",
   "id": "9b759a17",
   "metadata": {},
   "source": [
    "nombre_infected       968\n",
    "nombre_sain          1918\n",
    "nombre_exposed        498\n",
    "nombre_recovered    16616\n",
    "Name: 578, dtype: int64"
   ]
  },
  {
   "cell_type": "markdown",
   "id": "97117da3",
   "metadata": {},
   "source": [
    "nombre_infected       994\n",
    "nombre_sain          1926\n",
    "nombre_exposed        479\n",
    "nombre_recovered    16601\n",
    "Name: 579, dtype: int64"
   ]
  },
  {
   "cell_type": "markdown",
   "id": "61048b32",
   "metadata": {},
   "source": [
    "nombre_infected       986\n",
    "nombre_sain          1907\n",
    "nombre_exposed        498\n",
    "nombre_recovered    16609\n",
    "Name: 580, dtype: int64"
   ]
  },
  {
   "cell_type": "markdown",
   "id": "4c45b174",
   "metadata": {},
   "source": [
    "nombre_infected       976\n",
    "nombre_sain          1921\n",
    "nombre_exposed        495\n",
    "nombre_recovered    16608\n",
    "Name: 581, dtype: int64"
   ]
  },
  {
   "cell_type": "markdown",
   "id": "43a58d6c",
   "metadata": {},
   "source": [
    "nombre_infected       973\n",
    "nombre_sain          1922\n",
    "nombre_exposed        486\n",
    "nombre_recovered    16619\n",
    "Name: 582, dtype: int64"
   ]
  },
  {
   "cell_type": "markdown",
   "id": "fc8d341b",
   "metadata": {},
   "source": [
    "nombre_infected       975\n",
    "nombre_sain          1937\n",
    "nombre_exposed        480\n",
    "nombre_recovered    16608\n",
    "Name: 583, dtype: int64"
   ]
  },
  {
   "cell_type": "markdown",
   "id": "4c26f6f7",
   "metadata": {},
   "source": [
    "nombre_infected       959\n",
    "nombre_sain          1957\n",
    "nombre_exposed        457\n",
    "nombre_recovered    16627\n",
    "Name: 584, dtype: int64"
   ]
  },
  {
   "cell_type": "markdown",
   "id": "81d29837",
   "metadata": {},
   "source": [
    "nombre_infected       921\n",
    "nombre_sain          1959\n",
    "nombre_exposed        468\n",
    "nombre_recovered    16652\n",
    "Name: 585, dtype: int64"
   ]
  },
  {
   "cell_type": "markdown",
   "id": "41641600",
   "metadata": {},
   "source": [
    "nombre_infected       901\n",
    "nombre_sain          1995\n",
    "nombre_exposed        456\n",
    "nombre_recovered    16648\n",
    "Name: 586, dtype: int64"
   ]
  },
  {
   "cell_type": "markdown",
   "id": "188ce1b1",
   "metadata": {},
   "source": [
    "nombre_infected       885\n",
    "nombre_sain          2015\n",
    "nombre_exposed        436\n",
    "nombre_recovered    16664\n",
    "Name: 587, dtype: int64"
   ]
  },
  {
   "cell_type": "markdown",
   "id": "db210c89",
   "metadata": {},
   "source": [
    "nombre_infected       890\n",
    "nombre_sain          2032\n",
    "nombre_exposed        420\n",
    "nombre_recovered    16658\n",
    "Name: 588, dtype: int64"
   ]
  },
  {
   "cell_type": "markdown",
   "id": "b935ddf7",
   "metadata": {},
   "source": [
    "nombre_infected       882\n",
    "nombre_sain          2044\n",
    "nombre_exposed        425\n",
    "nombre_recovered    16649\n",
    "Name: 589, dtype: int64"
   ]
  },
  {
   "cell_type": "markdown",
   "id": "04a30364",
   "metadata": {},
   "source": [
    "nombre_infected       860\n",
    "nombre_sain          2046\n",
    "nombre_exposed        432\n",
    "nombre_recovered    16662\n",
    "Name: 590, dtype: int64"
   ]
  },
  {
   "cell_type": "markdown",
   "id": "26a3d97f",
   "metadata": {},
   "source": [
    "nombre_infected       847\n",
    "nombre_sain          2067\n",
    "nombre_exposed        427\n",
    "nombre_recovered    16659\n",
    "Name: 591, dtype: int64"
   ]
  },
  {
   "cell_type": "markdown",
   "id": "74f67597",
   "metadata": {},
   "source": [
    "nombre_infected       853\n",
    "nombre_sain          2086\n",
    "nombre_exposed        436\n",
    "nombre_recovered    16625\n",
    "Name: 592, dtype: int64"
   ]
  },
  {
   "cell_type": "markdown",
   "id": "3a37e6d1",
   "metadata": {},
   "source": [
    "nombre_infected       855\n",
    "nombre_sain          2091\n",
    "nombre_exposed        441\n",
    "nombre_recovered    16613\n",
    "Name: 593, dtype: int64"
   ]
  },
  {
   "cell_type": "markdown",
   "id": "42993b5d",
   "metadata": {},
   "source": [
    "nombre_infected       867\n",
    "nombre_sain          2110\n",
    "nombre_exposed        455\n",
    "nombre_recovered    16568\n",
    "Name: 594, dtype: int64"
   ]
  },
  {
   "cell_type": "markdown",
   "id": "ea290848",
   "metadata": {},
   "source": [
    "nombre_infected       858\n",
    "nombre_sain          2157\n",
    "nombre_exposed        454\n",
    "nombre_recovered    16531\n",
    "Name: 595, dtype: int64"
   ]
  },
  {
   "cell_type": "markdown",
   "id": "045f423b",
   "metadata": {},
   "source": [
    "nombre_infected       859\n",
    "nombre_sain          2156\n",
    "nombre_exposed        468\n",
    "nombre_recovered    16517\n",
    "Name: 596, dtype: int64"
   ]
  },
  {
   "cell_type": "markdown",
   "id": "e004c9d2",
   "metadata": {},
   "source": [
    "nombre_infected       855\n",
    "nombre_sain          2176\n",
    "nombre_exposed        471\n",
    "nombre_recovered    16498\n",
    "Name: 597, dtype: int64"
   ]
  },
  {
   "cell_type": "markdown",
   "id": "d8f37549",
   "metadata": {},
   "source": [
    "nombre_infected       860\n",
    "nombre_sain          2193\n",
    "nombre_exposed        475\n",
    "nombre_recovered    16472\n",
    "Name: 598, dtype: int64"
   ]
  },
  {
   "cell_type": "markdown",
   "id": "971e2401",
   "metadata": {},
   "source": [
    "nombre_infected       876\n",
    "nombre_sain          2239\n",
    "nombre_exposed        434\n",
    "nombre_recovered    16451\n",
    "Name: 599, dtype: int64"
   ]
  },
  {
   "cell_type": "markdown",
   "id": "6edc256b",
   "metadata": {},
   "source": [
    "nombre_infected       867\n",
    "nombre_sain          2254\n",
    "nombre_exposed        465\n",
    "nombre_recovered    16414\n",
    "Name: 600, dtype: int64"
   ]
  },
  {
   "cell_type": "markdown",
   "id": "ccc41a8d",
   "metadata": {},
   "source": [
    "nombre_infected       849\n",
    "nombre_sain          2309\n",
    "nombre_exposed        489\n",
    "nombre_recovered    16353\n",
    "Name: 601, dtype: int64"
   ]
  },
  {
   "cell_type": "markdown",
   "id": "26b2bacd",
   "metadata": {},
   "source": [
    "nombre_infected       858\n",
    "nombre_sain          2343\n",
    "nombre_exposed        500\n",
    "nombre_recovered    16299\n",
    "Name: 602, dtype: int64"
   ]
  },
  {
   "cell_type": "markdown",
   "id": "48360b98",
   "metadata": {},
   "source": [
    "nombre_infected       866\n",
    "nombre_sain          2355\n",
    "nombre_exposed        498\n",
    "nombre_recovered    16281\n",
    "Name: 603, dtype: int64"
   ]
  },
  {
   "cell_type": "markdown",
   "id": "a6bafbe2",
   "metadata": {},
   "source": [
    "nombre_infected       854\n",
    "nombre_sain          2336\n",
    "nombre_exposed        523\n",
    "nombre_recovered    16287\n",
    "Name: 604, dtype: int64"
   ]
  },
  {
   "cell_type": "markdown",
   "id": "98389275",
   "metadata": {},
   "source": [
    "nombre_infected       858\n",
    "nombre_sain          2320\n",
    "nombre_exposed        529\n",
    "nombre_recovered    16293\n",
    "Name: 605, dtype: int64"
   ]
  },
  {
   "cell_type": "markdown",
   "id": "2e7755a2",
   "metadata": {},
   "source": [
    "nombre_infected       876\n",
    "nombre_sain          2292\n",
    "nombre_exposed        555\n",
    "nombre_recovered    16277\n",
    "Name: 606, dtype: int64"
   ]
  },
  {
   "cell_type": "markdown",
   "id": "7ffad471",
   "metadata": {},
   "source": [
    "nombre_infected       891\n",
    "nombre_sain          2313\n",
    "nombre_exposed        533\n",
    "nombre_recovered    16263\n",
    "Name: 607, dtype: int64"
   ]
  },
  {
   "cell_type": "markdown",
   "id": "c4f29e14",
   "metadata": {},
   "source": [
    "nombre_infected       926\n",
    "nombre_sain          2283\n",
    "nombre_exposed        531\n",
    "nombre_recovered    16260\n",
    "Name: 608, dtype: int64"
   ]
  },
  {
   "cell_type": "markdown",
   "id": "7d6d4ded",
   "metadata": {},
   "source": [
    "nombre_infected       921\n",
    "nombre_sain          2275\n",
    "nombre_exposed        538\n",
    "nombre_recovered    16266\n",
    "Name: 609, dtype: int64"
   ]
  },
  {
   "cell_type": "markdown",
   "id": "d7a4b88a",
   "metadata": {},
   "source": [
    "nombre_infected       934\n",
    "nombre_sain          2297\n",
    "nombre_exposed        513\n",
    "nombre_recovered    16256\n",
    "Name: 610, dtype: int64"
   ]
  },
  {
   "cell_type": "markdown",
   "id": "0ac63254",
   "metadata": {},
   "source": [
    "nombre_infected       923\n",
    "nombre_sain          2285\n",
    "nombre_exposed        536\n",
    "nombre_recovered    16256\n",
    "Name: 611, dtype: int64"
   ]
  },
  {
   "cell_type": "markdown",
   "id": "f305ea46",
   "metadata": {},
   "source": [
    "nombre_infected       920\n",
    "nombre_sain          2272\n",
    "nombre_exposed        559\n",
    "nombre_recovered    16249\n",
    "Name: 612, dtype: int64"
   ]
  },
  {
   "cell_type": "markdown",
   "id": "0c002f10",
   "metadata": {},
   "source": [
    "nombre_infected       934\n",
    "nombre_sain          2284\n",
    "nombre_exposed        545\n",
    "nombre_recovered    16237\n",
    "Name: 613, dtype: int64"
   ]
  },
  {
   "cell_type": "markdown",
   "id": "17f4bd1e",
   "metadata": {},
   "source": [
    "nombre_infected       944\n",
    "nombre_sain          2275\n",
    "nombre_exposed        557\n",
    "nombre_recovered    16224\n",
    "Name: 614, dtype: int64"
   ]
  },
  {
   "cell_type": "markdown",
   "id": "ad12e863",
   "metadata": {},
   "source": [
    "nombre_infected       953\n",
    "nombre_sain          2269\n",
    "nombre_exposed        568\n",
    "nombre_recovered    16210\n",
    "Name: 615, dtype: int64"
   ]
  },
  {
   "cell_type": "markdown",
   "id": "f801f8a1",
   "metadata": {},
   "source": [
    "nombre_infected       984\n",
    "nombre_sain          2257\n",
    "nombre_exposed        561\n",
    "nombre_recovered    16198\n",
    "Name: 616, dtype: int64"
   ]
  },
  {
   "cell_type": "markdown",
   "id": "5b2df81a",
   "metadata": {},
   "source": [
    "nombre_infected       992\n",
    "nombre_sain          2267\n",
    "nombre_exposed        574\n",
    "nombre_recovered    16167\n",
    "Name: 617, dtype: int64"
   ]
  },
  {
   "cell_type": "markdown",
   "id": "86818ff7",
   "metadata": {},
   "source": [
    "nombre_infected      1006\n",
    "nombre_sain          2262\n",
    "nombre_exposed        579\n",
    "nombre_recovered    16153\n",
    "Name: 618, dtype: int64"
   ]
  },
  {
   "cell_type": "markdown",
   "id": "8714a9bd",
   "metadata": {},
   "source": [
    "nombre_infected       994\n",
    "nombre_sain          2240\n",
    "nombre_exposed        589\n",
    "nombre_recovered    16177\n",
    "Name: 619, dtype: int64"
   ]
  },
  {
   "cell_type": "markdown",
   "id": "aa74f981",
   "metadata": {},
   "source": [
    "nombre_infected       987\n",
    "nombre_sain          2221\n",
    "nombre_exposed        577\n",
    "nombre_recovered    16215\n",
    "Name: 620, dtype: int64"
   ]
  },
  {
   "cell_type": "markdown",
   "id": "1e06d74a",
   "metadata": {},
   "source": [
    "nombre_infected       988\n",
    "nombre_sain          2211\n",
    "nombre_exposed        574\n",
    "nombre_recovered    16227\n",
    "Name: 621, dtype: int64"
   ]
  },
  {
   "cell_type": "markdown",
   "id": "48eb32b0",
   "metadata": {},
   "source": [
    "nombre_infected      1004\n",
    "nombre_sain          2180\n",
    "nombre_exposed        597\n",
    "nombre_recovered    16219\n",
    "Name: 622, dtype: int64"
   ]
  },
  {
   "cell_type": "markdown",
   "id": "e4952d9f",
   "metadata": {},
   "source": [
    "nombre_infected       984\n",
    "nombre_sain          2166\n",
    "nombre_exposed        614\n",
    "nombre_recovered    16236\n",
    "Name: 623, dtype: int64"
   ]
  },
  {
   "cell_type": "markdown",
   "id": "9c1cabb3",
   "metadata": {},
   "source": [
    "nombre_infected      1009\n",
    "nombre_sain          2161\n",
    "nombre_exposed        599\n",
    "nombre_recovered    16231\n",
    "Name: 624, dtype: int64"
   ]
  },
  {
   "cell_type": "markdown",
   "id": "7c254154",
   "metadata": {},
   "source": [
    "nombre_infected      1060\n",
    "nombre_sain          2134\n",
    "nombre_exposed        560\n",
    "nombre_recovered    16246\n",
    "Name: 625, dtype: int64"
   ]
  },
  {
   "cell_type": "markdown",
   "id": "b0854588",
   "metadata": {},
   "source": [
    "nombre_infected      1054\n",
    "nombre_sain          2125\n",
    "nombre_exposed        576\n",
    "nombre_recovered    16245\n",
    "Name: 626, dtype: int64"
   ]
  },
  {
   "cell_type": "markdown",
   "id": "251eb3be",
   "metadata": {},
   "source": [
    "nombre_infected      1053\n",
    "nombre_sain          2110\n",
    "nombre_exposed        585\n",
    "nombre_recovered    16252\n",
    "Name: 627, dtype: int64"
   ]
  },
  {
   "cell_type": "markdown",
   "id": "684a7b04",
   "metadata": {},
   "source": [
    "nombre_infected      1030\n",
    "nombre_sain          2083\n",
    "nombre_exposed        599\n",
    "nombre_recovered    16288\n",
    "Name: 628, dtype: int64"
   ]
  },
  {
   "cell_type": "markdown",
   "id": "9f51f341",
   "metadata": {},
   "source": [
    "nombre_infected      1052\n",
    "nombre_sain          2051\n",
    "nombre_exposed        594\n",
    "nombre_recovered    16303\n",
    "Name: 629, dtype: int64"
   ]
  },
  {
   "cell_type": "markdown",
   "id": "97a0fb91",
   "metadata": {},
   "source": [
    "nombre_infected      1049\n",
    "nombre_sain          2034\n",
    "nombre_exposed        586\n",
    "nombre_recovered    16331\n",
    "Name: 630, dtype: int64"
   ]
  },
  {
   "cell_type": "markdown",
   "id": "4cb7254e",
   "metadata": {},
   "source": [
    "nombre_infected      1059\n",
    "nombre_sain          2036\n",
    "nombre_exposed        581\n",
    "nombre_recovered    16324\n",
    "Name: 631, dtype: int64"
   ]
  },
  {
   "cell_type": "markdown",
   "id": "982d9a9d",
   "metadata": {},
   "source": [
    "nombre_infected      1059\n",
    "nombre_sain          2028\n",
    "nombre_exposed        584\n",
    "nombre_recovered    16329\n",
    "Name: 632, dtype: int64"
   ]
  },
  {
   "cell_type": "markdown",
   "id": "40b5439f",
   "metadata": {},
   "source": [
    "nombre_infected      1077\n",
    "nombre_sain          2008\n",
    "nombre_exposed        588\n",
    "nombre_recovered    16327\n",
    "Name: 633, dtype: int64"
   ]
  },
  {
   "cell_type": "markdown",
   "id": "fe0c4e92",
   "metadata": {},
   "source": [
    "nombre_infected      1058\n",
    "nombre_sain          2013\n",
    "nombre_exposed        580\n",
    "nombre_recovered    16349\n",
    "Name: 634, dtype: int64"
   ]
  },
  {
   "cell_type": "markdown",
   "id": "00dd9d7c",
   "metadata": {},
   "source": [
    "nombre_infected      1046\n",
    "nombre_sain          1992\n",
    "nombre_exposed        594\n",
    "nombre_recovered    16368\n",
    "Name: 635, dtype: int64"
   ]
  },
  {
   "cell_type": "markdown",
   "id": "cd679146",
   "metadata": {},
   "source": [
    "nombre_infected      1030\n",
    "nombre_sain          1991\n",
    "nombre_exposed        580\n",
    "nombre_recovered    16399\n",
    "Name: 636, dtype: int64"
   ]
  },
  {
   "cell_type": "markdown",
   "id": "bae4d50d",
   "metadata": {},
   "source": [
    "nombre_infected      1052\n",
    "nombre_sain          1986\n",
    "nombre_exposed        575\n",
    "nombre_recovered    16387\n",
    "Name: 637, dtype: int64"
   ]
  },
  {
   "cell_type": "markdown",
   "id": "82402b95",
   "metadata": {},
   "source": [
    "nombre_infected      1035\n",
    "nombre_sain          1996\n",
    "nombre_exposed        570\n",
    "nombre_recovered    16399\n",
    "Name: 638, dtype: int64"
   ]
  },
  {
   "cell_type": "markdown",
   "id": "bcf7d6c9",
   "metadata": {},
   "source": [
    "nombre_infected      1037\n",
    "nombre_sain          2016\n",
    "nombre_exposed        532\n",
    "nombre_recovered    16415\n",
    "Name: 639, dtype: int64"
   ]
  },
  {
   "cell_type": "markdown",
   "id": "f4d0f7d6",
   "metadata": {},
   "source": [
    "nombre_infected      1023\n",
    "nombre_sain          1976\n",
    "nombre_exposed        539\n",
    "nombre_recovered    16462\n",
    "Name: 640, dtype: int64"
   ]
  },
  {
   "cell_type": "markdown",
   "id": "884bf55f",
   "metadata": {},
   "source": [
    "nombre_infected      1017\n",
    "nombre_sain          1991\n",
    "nombre_exposed        527\n",
    "nombre_recovered    16465\n",
    "Name: 641, dtype: int64"
   ]
  },
  {
   "cell_type": "markdown",
   "id": "994ef3b8",
   "metadata": {},
   "source": [
    "nombre_infected      1005\n",
    "nombre_sain          1973\n",
    "nombre_exposed        549\n",
    "nombre_recovered    16473\n",
    "Name: 642, dtype: int64"
   ]
  },
  {
   "cell_type": "markdown",
   "id": "34acc546",
   "metadata": {},
   "source": [
    "nombre_infected       989\n",
    "nombre_sain          1980\n",
    "nombre_exposed        542\n",
    "nombre_recovered    16489\n",
    "Name: 643, dtype: int64"
   ]
  },
  {
   "cell_type": "markdown",
   "id": "153524e3",
   "metadata": {},
   "source": [
    "nombre_infected       979\n",
    "nombre_sain          1982\n",
    "nombre_exposed        537\n",
    "nombre_recovered    16502\n",
    "Name: 644, dtype: int64"
   ]
  },
  {
   "cell_type": "markdown",
   "id": "5e70e83f",
   "metadata": {},
   "source": [
    "nombre_infected       995\n",
    "nombre_sain          1973\n",
    "nombre_exposed        544\n",
    "nombre_recovered    16488\n",
    "Name: 645, dtype: int64"
   ]
  },
  {
   "cell_type": "markdown",
   "id": "366fa893",
   "metadata": {},
   "source": [
    "nombre_infected       964\n",
    "nombre_sain          2001\n",
    "nombre_exposed        540\n",
    "nombre_recovered    16495\n",
    "Name: 646, dtype: int64"
   ]
  },
  {
   "cell_type": "markdown",
   "id": "4469a177",
   "metadata": {},
   "source": [
    "nombre_infected       980\n",
    "nombre_sain          1993\n",
    "nombre_exposed        548\n",
    "nombre_recovered    16479\n",
    "Name: 647, dtype: int64"
   ]
  },
  {
   "cell_type": "markdown",
   "id": "3a89af45",
   "metadata": {},
   "source": [
    "nombre_infected       982\n",
    "nombre_sain          2007\n",
    "nombre_exposed        543\n",
    "nombre_recovered    16468\n",
    "Name: 648, dtype: int64"
   ]
  },
  {
   "cell_type": "markdown",
   "id": "f8a6e3a3",
   "metadata": {},
   "source": [
    "nombre_infected       979\n",
    "nombre_sain          2014\n",
    "nombre_exposed        528\n",
    "nombre_recovered    16479\n",
    "Name: 649, dtype: int64"
   ]
  },
  {
   "cell_type": "markdown",
   "id": "f37cc991",
   "metadata": {},
   "source": [
    "nombre_infected       979\n",
    "nombre_sain          1993\n",
    "nombre_exposed        544\n",
    "nombre_recovered    16484\n",
    "Name: 650, dtype: int64"
   ]
  },
  {
   "cell_type": "markdown",
   "id": "f1fb2ece",
   "metadata": {},
   "source": [
    "nombre_infected       977\n",
    "nombre_sain          2020\n",
    "nombre_exposed        536\n",
    "nombre_recovered    16467\n",
    "Name: 651, dtype: int64"
   ]
  },
  {
   "cell_type": "markdown",
   "id": "21fec033",
   "metadata": {},
   "source": [
    "nombre_infected       957\n",
    "nombre_sain          1998\n",
    "nombre_exposed        541\n",
    "nombre_recovered    16504\n",
    "Name: 652, dtype: int64"
   ]
  },
  {
   "cell_type": "markdown",
   "id": "87444335",
   "metadata": {},
   "source": [
    "nombre_infected       947\n",
    "nombre_sain          1984\n",
    "nombre_exposed        527\n",
    "nombre_recovered    16542\n",
    "Name: 653, dtype: int64"
   ]
  },
  {
   "cell_type": "markdown",
   "id": "e5dddaf5",
   "metadata": {},
   "source": [
    "nombre_infected       937\n",
    "nombre_sain          1994\n",
    "nombre_exposed        521\n",
    "nombre_recovered    16548\n",
    "Name: 654, dtype: int64"
   ]
  },
  {
   "cell_type": "markdown",
   "id": "d25a1020",
   "metadata": {},
   "source": [
    "nombre_infected       957\n",
    "nombre_sain          1990\n",
    "nombre_exposed        523\n",
    "nombre_recovered    16530\n",
    "Name: 655, dtype: int64"
   ]
  },
  {
   "cell_type": "markdown",
   "id": "9a4c4e64",
   "metadata": {},
   "source": [
    "nombre_infected       950\n",
    "nombre_sain          1999\n",
    "nombre_exposed        508\n",
    "nombre_recovered    16543\n",
    "Name: 656, dtype: int64"
   ]
  },
  {
   "cell_type": "markdown",
   "id": "b63d8dd8",
   "metadata": {},
   "source": [
    "nombre_infected       963\n",
    "nombre_sain          2018\n",
    "nombre_exposed        491\n",
    "nombre_recovered    16528\n",
    "Name: 657, dtype: int64"
   ]
  },
  {
   "cell_type": "markdown",
   "id": "0bcb621f",
   "metadata": {},
   "source": [
    "nombre_infected       964\n",
    "nombre_sain          2019\n",
    "nombre_exposed        499\n",
    "nombre_recovered    16518\n",
    "Name: 658, dtype: int64"
   ]
  },
  {
   "cell_type": "markdown",
   "id": "bbd3ba93",
   "metadata": {},
   "source": [
    "nombre_infected       922\n",
    "nombre_sain          2031\n",
    "nombre_exposed        523\n",
    "nombre_recovered    16524\n",
    "Name: 659, dtype: int64"
   ]
  },
  {
   "cell_type": "markdown",
   "id": "6dceb0cc",
   "metadata": {},
   "source": [
    "nombre_infected       919\n",
    "nombre_sain          2048\n",
    "nombre_exposed        499\n",
    "nombre_recovered    16534\n",
    "Name: 660, dtype: int64"
   ]
  },
  {
   "cell_type": "markdown",
   "id": "d46e1cc4",
   "metadata": {},
   "source": [
    "nombre_infected       916\n",
    "nombre_sain          2037\n",
    "nombre_exposed        495\n",
    "nombre_recovered    16552\n",
    "Name: 661, dtype: int64"
   ]
  },
  {
   "cell_type": "markdown",
   "id": "53484194",
   "metadata": {},
   "source": [
    "nombre_infected       913\n",
    "nombre_sain          2008\n",
    "nombre_exposed        514\n",
    "nombre_recovered    16565\n",
    "Name: 662, dtype: int64"
   ]
  },
  {
   "cell_type": "markdown",
   "id": "ad1254ee",
   "metadata": {},
   "source": [
    "nombre_infected       917\n",
    "nombre_sain          2011\n",
    "nombre_exposed        519\n",
    "nombre_recovered    16553\n",
    "Name: 663, dtype: int64"
   ]
  },
  {
   "cell_type": "markdown",
   "id": "af7f4f77",
   "metadata": {},
   "source": [
    "nombre_infected       907\n",
    "nombre_sain          1999\n",
    "nombre_exposed        536\n",
    "nombre_recovered    16558\n",
    "Name: 664, dtype: int64"
   ]
  },
  {
   "cell_type": "markdown",
   "id": "eb3f4e2a",
   "metadata": {},
   "source": [
    "nombre_infected       918\n",
    "nombre_sain          2022\n",
    "nombre_exposed        519\n",
    "nombre_recovered    16541\n",
    "Name: 665, dtype: int64"
   ]
  },
  {
   "cell_type": "markdown",
   "id": "8f612aef",
   "metadata": {},
   "source": [
    "nombre_infected       941\n",
    "nombre_sain          2003\n",
    "nombre_exposed        522\n",
    "nombre_recovered    16534\n",
    "Name: 666, dtype: int64"
   ]
  },
  {
   "cell_type": "markdown",
   "id": "786210fb",
   "metadata": {},
   "source": [
    "nombre_infected       923\n",
    "nombre_sain          2032\n",
    "nombre_exposed        512\n",
    "nombre_recovered    16533\n",
    "Name: 667, dtype: int64"
   ]
  },
  {
   "cell_type": "markdown",
   "id": "47dbe4c8",
   "metadata": {},
   "source": [
    "nombre_infected       913\n",
    "nombre_sain          2039\n",
    "nombre_exposed        517\n",
    "nombre_recovered    16531\n",
    "Name: 668, dtype: int64"
   ]
  },
  {
   "cell_type": "markdown",
   "id": "a9f0f9e7",
   "metadata": {},
   "source": [
    "nombre_infected       932\n",
    "nombre_sain          2009\n",
    "nombre_exposed        526\n",
    "nombre_recovered    16533\n",
    "Name: 669, dtype: int64"
   ]
  },
  {
   "cell_type": "markdown",
   "id": "16eca183",
   "metadata": {},
   "source": [
    "nombre_infected       936\n",
    "nombre_sain          2022\n",
    "nombre_exposed        510\n",
    "nombre_recovered    16532\n",
    "Name: 670, dtype: int64"
   ]
  },
  {
   "cell_type": "markdown",
   "id": "88da65b8",
   "metadata": {},
   "source": [
    "nombre_infected       939\n",
    "nombre_sain          2004\n",
    "nombre_exposed        520\n",
    "nombre_recovered    16537\n",
    "Name: 671, dtype: int64"
   ]
  },
  {
   "cell_type": "markdown",
   "id": "042864ab",
   "metadata": {},
   "source": [
    "nombre_infected       936\n",
    "nombre_sain          2005\n",
    "nombre_exposed        504\n",
    "nombre_recovered    16555\n",
    "Name: 672, dtype: int64"
   ]
  },
  {
   "cell_type": "markdown",
   "id": "b35f2936",
   "metadata": {},
   "source": [
    "nombre_infected       924\n",
    "nombre_sain          1994\n",
    "nombre_exposed        500\n",
    "nombre_recovered    16582\n",
    "Name: 673, dtype: int64"
   ]
  },
  {
   "cell_type": "markdown",
   "id": "77b4292e",
   "metadata": {},
   "source": [
    "nombre_infected       918\n",
    "nombre_sain          1991\n",
    "nombre_exposed        487\n",
    "nombre_recovered    16604\n",
    "Name: 674, dtype: int64"
   ]
  },
  {
   "cell_type": "markdown",
   "id": "9d13303c",
   "metadata": {},
   "source": [
    "nombre_infected       891\n",
    "nombre_sain          1976\n",
    "nombre_exposed        511\n",
    "nombre_recovered    16622\n",
    "Name: 675, dtype: int64"
   ]
  },
  {
   "cell_type": "markdown",
   "id": "8c5fb906",
   "metadata": {},
   "source": [
    "nombre_infected       896\n",
    "nombre_sain          1968\n",
    "nombre_exposed        498\n",
    "nombre_recovered    16638\n",
    "Name: 676, dtype: int64"
   ]
  },
  {
   "cell_type": "markdown",
   "id": "d62ec2e7",
   "metadata": {},
   "source": [
    "nombre_infected       926\n",
    "nombre_sain          1968\n",
    "nombre_exposed        476\n",
    "nombre_recovered    16630\n",
    "Name: 677, dtype: int64"
   ]
  },
  {
   "cell_type": "markdown",
   "id": "e9523936",
   "metadata": {},
   "source": [
    "nombre_infected       899\n",
    "nombre_sain          1932\n",
    "nombre_exposed        511\n",
    "nombre_recovered    16658\n",
    "Name: 678, dtype: int64"
   ]
  },
  {
   "cell_type": "markdown",
   "id": "b6c37460",
   "metadata": {},
   "source": [
    "nombre_infected       903\n",
    "nombre_sain          1928\n",
    "nombre_exposed        509\n",
    "nombre_recovered    16660\n",
    "Name: 679, dtype: int64"
   ]
  },
  {
   "cell_type": "markdown",
   "id": "f6647af9",
   "metadata": {},
   "source": [
    "nombre_infected       896\n",
    "nombre_sain          1930\n",
    "nombre_exposed        507\n",
    "nombre_recovered    16667\n",
    "Name: 680, dtype: int64"
   ]
  },
  {
   "cell_type": "markdown",
   "id": "1bccbd35",
   "metadata": {},
   "source": [
    "nombre_infected       906\n",
    "nombre_sain          1944\n",
    "nombre_exposed        490\n",
    "nombre_recovered    16660\n",
    "Name: 681, dtype: int64"
   ]
  },
  {
   "cell_type": "markdown",
   "id": "a678f116",
   "metadata": {},
   "source": [
    "nombre_infected       907\n",
    "nombre_sain          1935\n",
    "nombre_exposed        511\n",
    "nombre_recovered    16647\n",
    "Name: 682, dtype: int64"
   ]
  },
  {
   "cell_type": "markdown",
   "id": "814c9f2a",
   "metadata": {},
   "source": [
    "nombre_infected       908\n",
    "nombre_sain          1945\n",
    "nombre_exposed        508\n",
    "nombre_recovered    16639\n",
    "Name: 683, dtype: int64"
   ]
  },
  {
   "cell_type": "markdown",
   "id": "b013efc1",
   "metadata": {},
   "source": [
    "nombre_infected       946\n",
    "nombre_sain          1966\n",
    "nombre_exposed        485\n",
    "nombre_recovered    16603\n",
    "Name: 684, dtype: int64"
   ]
  },
  {
   "cell_type": "markdown",
   "id": "27ed0cba",
   "metadata": {},
   "source": [
    "nombre_infected       937\n",
    "nombre_sain          1948\n",
    "nombre_exposed        495\n",
    "nombre_recovered    16620\n",
    "Name: 685, dtype: int64"
   ]
  },
  {
   "cell_type": "markdown",
   "id": "59c990b5",
   "metadata": {},
   "source": [
    "nombre_infected       928\n",
    "nombre_sain          1946\n",
    "nombre_exposed        491\n",
    "nombre_recovered    16635\n",
    "Name: 686, dtype: int64"
   ]
  },
  {
   "cell_type": "markdown",
   "id": "090e9600",
   "metadata": {},
   "source": [
    "nombre_infected       922\n",
    "nombre_sain          1938\n",
    "nombre_exposed        482\n",
    "nombre_recovered    16658\n",
    "Name: 687, dtype: int64"
   ]
  },
  {
   "cell_type": "markdown",
   "id": "b869760a",
   "metadata": {},
   "source": [
    "nombre_infected       945\n",
    "nombre_sain          1945\n",
    "nombre_exposed        481\n",
    "nombre_recovered    16629\n",
    "Name: 688, dtype: int64"
   ]
  },
  {
   "cell_type": "markdown",
   "id": "de5e00a2",
   "metadata": {},
   "source": [
    "nombre_infected       965\n",
    "nombre_sain          1961\n",
    "nombre_exposed        466\n",
    "nombre_recovered    16608\n",
    "Name: 689, dtype: int64"
   ]
  },
  {
   "cell_type": "markdown",
   "id": "d45f58c5",
   "metadata": {},
   "source": [
    "nombre_infected       941\n",
    "nombre_sain          1992\n",
    "nombre_exposed        463\n",
    "nombre_recovered    16604\n",
    "Name: 690, dtype: int64"
   ]
  },
  {
   "cell_type": "markdown",
   "id": "fedcb41a",
   "metadata": {},
   "source": [
    "nombre_infected       918\n",
    "nombre_sain          2002\n",
    "nombre_exposed        471\n",
    "nombre_recovered    16609\n",
    "Name: 691, dtype: int64"
   ]
  },
  {
   "cell_type": "markdown",
   "id": "77f30227",
   "metadata": {},
   "source": [
    "nombre_infected       914\n",
    "nombre_sain          2020\n",
    "nombre_exposed        472\n",
    "nombre_recovered    16594\n",
    "Name: 692, dtype: int64"
   ]
  },
  {
   "cell_type": "markdown",
   "id": "98337014",
   "metadata": {},
   "source": [
    "nombre_infected       927\n",
    "nombre_sain          2023\n",
    "nombre_exposed        486\n",
    "nombre_recovered    16564\n",
    "Name: 693, dtype: int64"
   ]
  },
  {
   "cell_type": "markdown",
   "id": "e98c4929",
   "metadata": {},
   "source": [
    "nombre_infected       922\n",
    "nombre_sain          2042\n",
    "nombre_exposed        481\n",
    "nombre_recovered    16555\n",
    "Name: 694, dtype: int64"
   ]
  },
  {
   "cell_type": "markdown",
   "id": "e9026663",
   "metadata": {},
   "source": [
    "nombre_infected       942\n",
    "nombre_sain          2057\n",
    "nombre_exposed        469\n",
    "nombre_recovered    16532\n",
    "Name: 695, dtype: int64"
   ]
  },
  {
   "cell_type": "markdown",
   "id": "b0d6c3b1",
   "metadata": {},
   "source": [
    "nombre_infected       938\n",
    "nombre_sain          2067\n",
    "nombre_exposed        473\n",
    "nombre_recovered    16522\n",
    "Name: 696, dtype: int64"
   ]
  },
  {
   "cell_type": "markdown",
   "id": "d8a1a5cc",
   "metadata": {},
   "source": [
    "nombre_infected       954\n",
    "nombre_sain          2083\n",
    "nombre_exposed        470\n",
    "nombre_recovered    16493\n",
    "Name: 697, dtype: int64"
   ]
  },
  {
   "cell_type": "markdown",
   "id": "f115e825",
   "metadata": {},
   "source": [
    "nombre_infected       916\n",
    "nombre_sain          2092\n",
    "nombre_exposed        503\n",
    "nombre_recovered    16489\n",
    "Name: 698, dtype: int64"
   ]
  },
  {
   "cell_type": "markdown",
   "id": "bd60afc1",
   "metadata": {},
   "source": [
    "nombre_infected       918\n",
    "nombre_sain          2077\n",
    "nombre_exposed        529\n",
    "nombre_recovered    16476\n",
    "Name: 699, dtype: int64"
   ]
  },
  {
   "cell_type": "markdown",
   "id": "d3de2fff",
   "metadata": {},
   "source": [
    "nombre_infected       941\n",
    "nombre_sain          2096\n",
    "nombre_exposed        512\n",
    "nombre_recovered    16451\n",
    "Name: 700, dtype: int64"
   ]
  },
  {
   "cell_type": "markdown",
   "id": "f09fe5f1",
   "metadata": {},
   "source": [
    "nombre_infected       961\n",
    "nombre_sain          2113\n",
    "nombre_exposed        498\n",
    "nombre_recovered    16428\n",
    "Name: 701, dtype: int64"
   ]
  },
  {
   "cell_type": "markdown",
   "id": "f819d543",
   "metadata": {},
   "source": [
    "nombre_infected       964\n",
    "nombre_sain          2104\n",
    "nombre_exposed        487\n",
    "nombre_recovered    16445\n",
    "Name: 702, dtype: int64"
   ]
  },
  {
   "cell_type": "markdown",
   "id": "eae4e01f",
   "metadata": {},
   "source": [
    "nombre_infected       953\n",
    "nombre_sain          2088\n",
    "nombre_exposed        492\n",
    "nombre_recovered    16467\n",
    "Name: 703, dtype: int64"
   ]
  },
  {
   "cell_type": "markdown",
   "id": "24fc3b74",
   "metadata": {},
   "source": [
    "nombre_infected       944\n",
    "nombre_sain          2114\n",
    "nombre_exposed        482\n",
    "nombre_recovered    16460\n",
    "Name: 704, dtype: int64"
   ]
  },
  {
   "cell_type": "markdown",
   "id": "8bb5d385",
   "metadata": {},
   "source": [
    "nombre_infected       954\n",
    "nombre_sain          2132\n",
    "nombre_exposed        480\n",
    "nombre_recovered    16434\n",
    "Name: 705, dtype: int64"
   ]
  },
  {
   "cell_type": "markdown",
   "id": "1af720d0",
   "metadata": {},
   "source": [
    "nombre_infected       969\n",
    "nombre_sain          2136\n",
    "nombre_exposed        477\n",
    "nombre_recovered    16418\n",
    "Name: 706, dtype: int64"
   ]
  },
  {
   "cell_type": "markdown",
   "id": "41294ecc",
   "metadata": {},
   "source": [
    "nombre_infected       967\n",
    "nombre_sain          2131\n",
    "nombre_exposed        459\n",
    "nombre_recovered    16443\n",
    "Name: 707, dtype: int64"
   ]
  },
  {
   "cell_type": "markdown",
   "id": "af00a019",
   "metadata": {},
   "source": [
    "nombre_infected       958\n",
    "nombre_sain          2123\n",
    "nombre_exposed        471\n",
    "nombre_recovered    16448\n",
    "Name: 708, dtype: int64"
   ]
  },
  {
   "cell_type": "markdown",
   "id": "7c7a1f58",
   "metadata": {},
   "source": [
    "nombre_infected       945\n",
    "nombre_sain          2090\n",
    "nombre_exposed        500\n",
    "nombre_recovered    16465\n",
    "Name: 709, dtype: int64"
   ]
  },
  {
   "cell_type": "markdown",
   "id": "5aaf542a",
   "metadata": {},
   "source": [
    "nombre_infected       933\n",
    "nombre_sain          2113\n",
    "nombre_exposed        518\n",
    "nombre_recovered    16436\n",
    "Name: 710, dtype: int64"
   ]
  },
  {
   "cell_type": "markdown",
   "id": "e4052d72",
   "metadata": {},
   "source": [
    "nombre_infected       961\n",
    "nombre_sain          2140\n",
    "nombre_exposed        491\n",
    "nombre_recovered    16408\n",
    "Name: 711, dtype: int64"
   ]
  },
  {
   "cell_type": "markdown",
   "id": "012c50a3",
   "metadata": {},
   "source": [
    "nombre_infected       941\n",
    "nombre_sain          2118\n",
    "nombre_exposed        530\n",
    "nombre_recovered    16411\n",
    "Name: 712, dtype: int64"
   ]
  },
  {
   "cell_type": "markdown",
   "id": "36f2a439",
   "metadata": {},
   "source": [
    "nombre_infected       925\n",
    "nombre_sain          2116\n",
    "nombre_exposed        547\n",
    "nombre_recovered    16412\n",
    "Name: 713, dtype: int64"
   ]
  },
  {
   "cell_type": "markdown",
   "id": "3c78fd5f",
   "metadata": {},
   "source": [
    "nombre_infected       927\n",
    "nombre_sain          2126\n",
    "nombre_exposed        544\n",
    "nombre_recovered    16403\n",
    "Name: 714, dtype: int64"
   ]
  },
  {
   "cell_type": "markdown",
   "id": "8a0a225d",
   "metadata": {},
   "source": [
    "nombre_infected       922\n",
    "nombre_sain          2103\n",
    "nombre_exposed        572\n",
    "nombre_recovered    16403\n",
    "Name: 715, dtype: int64"
   ]
  },
  {
   "cell_type": "markdown",
   "id": "4049208a",
   "metadata": {},
   "source": [
    "nombre_infected       943\n",
    "nombre_sain          2105\n",
    "nombre_exposed        563\n",
    "nombre_recovered    16389\n",
    "Name: 716, dtype: int64"
   ]
  },
  {
   "cell_type": "markdown",
   "id": "bc740077",
   "metadata": {},
   "source": [
    "nombre_infected       964\n",
    "nombre_sain          2112\n",
    "nombre_exposed        537\n",
    "nombre_recovered    16387\n",
    "Name: 717, dtype: int64"
   ]
  },
  {
   "cell_type": "markdown",
   "id": "6963f865",
   "metadata": {},
   "source": [
    "nombre_infected       963\n",
    "nombre_sain          2083\n",
    "nombre_exposed        546\n",
    "nombre_recovered    16408\n",
    "Name: 718, dtype: int64"
   ]
  },
  {
   "cell_type": "markdown",
   "id": "f77bcf36",
   "metadata": {},
   "source": [
    "nombre_infected       964\n",
    "nombre_sain          2076\n",
    "nombre_exposed        560\n",
    "nombre_recovered    16400\n",
    "Name: 719, dtype: int64"
   ]
  },
  {
   "cell_type": "markdown",
   "id": "1e15daaf",
   "metadata": {},
   "source": [
    "nombre_infected       961\n",
    "nombre_sain          2085\n",
    "nombre_exposed        549\n",
    "nombre_recovered    16405\n",
    "Name: 720, dtype: int64"
   ]
  },
  {
   "cell_type": "markdown",
   "id": "d75b7742",
   "metadata": {},
   "source": [
    "nombre_infected       984\n",
    "nombre_sain          2056\n",
    "nombre_exposed        555\n",
    "nombre_recovered    16405\n",
    "Name: 721, dtype: int64"
   ]
  },
  {
   "cell_type": "markdown",
   "id": "335fd019",
   "metadata": {},
   "source": [
    "nombre_infected       993\n",
    "nombre_sain          2051\n",
    "nombre_exposed        542\n",
    "nombre_recovered    16414\n",
    "Name: 722, dtype: int64"
   ]
  },
  {
   "cell_type": "markdown",
   "id": "196ff6fc",
   "metadata": {},
   "source": [
    "nombre_infected       986\n",
    "nombre_sain          2060\n",
    "nombre_exposed        533\n",
    "nombre_recovered    16421\n",
    "Name: 723, dtype: int64"
   ]
  },
  {
   "cell_type": "markdown",
   "id": "c678157f",
   "metadata": {},
   "source": [
    "nombre_infected       981\n",
    "nombre_sain          2080\n",
    "nombre_exposed        498\n",
    "nombre_recovered    16441\n",
    "Name: 724, dtype: int64"
   ]
  },
  {
   "cell_type": "markdown",
   "id": "df57db15",
   "metadata": {},
   "source": [
    "nombre_infected       977\n",
    "nombre_sain          2095\n",
    "nombre_exposed        476\n",
    "nombre_recovered    16452\n",
    "Name: 725, dtype: int64"
   ]
  },
  {
   "cell_type": "markdown",
   "id": "d89a1341",
   "metadata": {},
   "source": [
    "nombre_infected       957\n",
    "nombre_sain          2088\n",
    "nombre_exposed        484\n",
    "nombre_recovered    16471\n",
    "Name: 726, dtype: int64"
   ]
  },
  {
   "cell_type": "markdown",
   "id": "82f4e7c1",
   "metadata": {},
   "source": [
    "nombre_infected       937\n",
    "nombre_sain          2101\n",
    "nombre_exposed        479\n",
    "nombre_recovered    16483\n",
    "Name: 727, dtype: int64"
   ]
  },
  {
   "cell_type": "markdown",
   "id": "99231ca3",
   "metadata": {},
   "source": [
    "nombre_infected       919\n",
    "nombre_sain          2097\n",
    "nombre_exposed        475\n",
    "nombre_recovered    16509\n",
    "Name: 728, dtype: int64"
   ]
  },
  {
   "cell_type": "markdown",
   "id": "ca87e9e0",
   "metadata": {},
   "source": [
    "nombre_infected       897\n",
    "nombre_sain          2098\n",
    "nombre_exposed        488\n",
    "nombre_recovered    16517\n",
    "Name: 729, dtype: int64"
   ]
  },
  {
   "cell_type": "markdown",
   "id": "cc56c8b9",
   "metadata": {},
   "source": [
    "nombre_infected       878\n",
    "nombre_sain          2102\n",
    "nombre_exposed        488\n",
    "nombre_recovered    16532\n",
    "Name: 730, dtype: int64"
   ]
  }
 ],
 "metadata": {},
 "nbformat": 4,
 "nbformat_minor": 5
}
