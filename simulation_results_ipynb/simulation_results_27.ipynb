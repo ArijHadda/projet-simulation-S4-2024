{
 "cells": [
  {
   "cell_type": "markdown",
   "id": "81978be4",
   "metadata": {},
   "source": [
    "nombre_infected        20\n",
    "nombre_sain         19980\n",
    "nombre_exposed          0\n",
    "nombre_recovered        0\n",
    "Name: 0, dtype: int64"
   ]
  },
  {
   "cell_type": "markdown",
   "id": "562aa1eb",
   "metadata": {},
   "source": [
    "nombre_infected        20\n",
    "nombre_sain         19965\n",
    "nombre_exposed         15\n",
    "nombre_recovered        0\n",
    "Name: 1, dtype: int64"
   ]
  },
  {
   "cell_type": "markdown",
   "id": "09930d89",
   "metadata": {},
   "source": [
    "nombre_infected        20\n",
    "nombre_sain         19942\n",
    "nombre_exposed         38\n",
    "nombre_recovered        0\n",
    "Name: 2, dtype: int64"
   ]
  },
  {
   "cell_type": "markdown",
   "id": "a55aeb19",
   "metadata": {},
   "source": [
    "nombre_infected        25\n",
    "nombre_sain         19910\n",
    "nombre_exposed         65\n",
    "nombre_recovered        0\n",
    "Name: 3, dtype: int64"
   ]
  },
  {
   "cell_type": "markdown",
   "id": "9ee962f7",
   "metadata": {},
   "source": [
    "nombre_infected        38\n",
    "nombre_sain         19868\n",
    "nombre_exposed         94\n",
    "nombre_recovered        0\n",
    "Name: 4, dtype: int64"
   ]
  },
  {
   "cell_type": "markdown",
   "id": "5098349c",
   "metadata": {},
   "source": [
    "nombre_infected        25\n",
    "nombre_sain         19835\n",
    "nombre_exposed        119\n",
    "nombre_recovered       21\n",
    "Name: 5, dtype: int64"
   ]
  },
  {
   "cell_type": "markdown",
   "id": "d95dd135",
   "metadata": {},
   "source": [
    "nombre_infected        45\n",
    "nombre_sain         19793\n",
    "nombre_exposed        141\n",
    "nombre_recovered       21\n",
    "Name: 6, dtype: int64"
   ]
  },
  {
   "cell_type": "markdown",
   "id": "501c099f",
   "metadata": {},
   "source": [
    "nombre_infected        67\n",
    "nombre_sain         19733\n",
    "nombre_exposed        176\n",
    "nombre_recovered       24\n",
    "Name: 7, dtype: int64"
   ]
  },
  {
   "cell_type": "markdown",
   "id": "36d16701",
   "metadata": {},
   "source": [
    "nombre_infected        90\n",
    "nombre_sain         19614\n",
    "nombre_exposed        261\n",
    "nombre_recovered       35\n",
    "Name: 8, dtype: int64"
   ]
  },
  {
   "cell_type": "markdown",
   "id": "9daddc61",
   "metadata": {},
   "source": [
    "nombre_infected       109\n",
    "nombre_sain         19503\n",
    "nombre_exposed        341\n",
    "nombre_recovered       47\n",
    "Name: 9, dtype: int64"
   ]
  },
  {
   "cell_type": "markdown",
   "id": "08a0aa34",
   "metadata": {},
   "source": [
    "nombre_infected       176\n",
    "nombre_sain         19311\n",
    "nombre_exposed        460\n",
    "nombre_recovered       53\n",
    "Name: 10, dtype: int64"
   ]
  },
  {
   "cell_type": "markdown",
   "id": "e26e2ab5",
   "metadata": {},
   "source": [
    "nombre_infected       239\n",
    "nombre_sain         19048\n",
    "nombre_exposed        647\n",
    "nombre_recovered       66\n",
    "Name: 11, dtype: int64"
   ]
  },
  {
   "cell_type": "markdown",
   "id": "4322e937",
   "metadata": {},
   "source": [
    "nombre_infected       323\n",
    "nombre_sain         18716\n",
    "nombre_exposed        868\n",
    "nombre_recovered       93\n",
    "Name: 12, dtype: int64"
   ]
  },
  {
   "cell_type": "markdown",
   "id": "d5a3c4ad",
   "metadata": {},
   "source": [
    "nombre_infected       470\n",
    "nombre_sain         18288\n",
    "nombre_exposed       1128\n",
    "nombre_recovered      114\n",
    "Name: 13, dtype: int64"
   ]
  },
  {
   "cell_type": "markdown",
   "id": "82a3f77c",
   "metadata": {},
   "source": [
    "nombre_infected       650\n",
    "nombre_sain         17693\n",
    "nombre_exposed       1500\n",
    "nombre_recovered      157\n",
    "Name: 14, dtype: int64"
   ]
  },
  {
   "cell_type": "markdown",
   "id": "48ed0554",
   "metadata": {},
   "source": [
    "nombre_infected       848\n",
    "nombre_sain         16869\n",
    "nombre_exposed       2063\n",
    "nombre_recovered      220\n",
    "Name: 15, dtype: int64"
   ]
  },
  {
   "cell_type": "markdown",
   "id": "edb45c9e",
   "metadata": {},
   "source": [
    "nombre_infected      1135\n",
    "nombre_sain         15872\n",
    "nombre_exposed       2679\n",
    "nombre_recovered      314\n",
    "Name: 16, dtype: int64"
   ]
  },
  {
   "cell_type": "markdown",
   "id": "a5e39587",
   "metadata": {},
   "source": [
    "nombre_infected      1530\n",
    "nombre_sain         14710\n",
    "nombre_exposed       3350\n",
    "nombre_recovered      410\n",
    "Name: 17, dtype: int64"
   ]
  },
  {
   "cell_type": "markdown",
   "id": "bdc21fc0",
   "metadata": {},
   "source": [
    "nombre_infected      2059\n",
    "nombre_sain         13265\n",
    "nombre_exposed       4125\n",
    "nombre_recovered      551\n",
    "Name: 18, dtype: int64"
   ]
  },
  {
   "cell_type": "markdown",
   "id": "d01202e1",
   "metadata": {},
   "source": [
    "nombre_infected      2604\n",
    "nombre_sain         11644\n",
    "nombre_exposed       4995\n",
    "nombre_recovered      757\n",
    "Name: 19, dtype: int64"
   ]
  },
  {
   "cell_type": "markdown",
   "id": "f828bd10",
   "metadata": {},
   "source": [
    "nombre_infected     3342\n",
    "nombre_sain         9872\n",
    "nombre_exposed      5770\n",
    "nombre_recovered    1016\n",
    "Name: 20, dtype: int64"
   ]
  },
  {
   "cell_type": "markdown",
   "id": "c7629bdc",
   "metadata": {},
   "source": [
    "nombre_infected     4213\n",
    "nombre_sain         8014\n",
    "nombre_exposed      6441\n",
    "nombre_recovered    1332\n",
    "Name: 21, dtype: int64"
   ]
  },
  {
   "cell_type": "markdown",
   "id": "0ccb3ba1",
   "metadata": {},
   "source": [
    "nombre_infected     4984\n",
    "nombre_sain         6218\n",
    "nombre_exposed      7001\n",
    "nombre_recovered    1797\n",
    "Name: 22, dtype: int64"
   ]
  },
  {
   "cell_type": "markdown",
   "id": "a0f085c1",
   "metadata": {},
   "source": [
    "nombre_infected     5966\n",
    "nombre_sain         4717\n",
    "nombre_exposed      6996\n",
    "nombre_recovered    2321\n",
    "Name: 23, dtype: int64"
   ]
  },
  {
   "cell_type": "markdown",
   "id": "d92368b1",
   "metadata": {},
   "source": [
    "nombre_infected     6873\n",
    "nombre_sain         3426\n",
    "nombre_exposed      6740\n",
    "nombre_recovered    2961\n",
    "Name: 24, dtype: int64"
   ]
  },
  {
   "cell_type": "markdown",
   "id": "7a17c7a8",
   "metadata": {},
   "source": [
    "nombre_infected     7632\n",
    "nombre_sain         2426\n",
    "nombre_exposed      6206\n",
    "nombre_recovered    3736\n",
    "Name: 25, dtype: int64"
   ]
  },
  {
   "cell_type": "markdown",
   "id": "d3c410ed",
   "metadata": {},
   "source": [
    "nombre_infected     8194\n",
    "nombre_sain         1707\n",
    "nombre_exposed      5478\n",
    "nombre_recovered    4621\n",
    "Name: 26, dtype: int64"
   ]
  },
  {
   "cell_type": "markdown",
   "id": "edc23b02",
   "metadata": {},
   "source": [
    "nombre_infected     8618\n",
    "nombre_sain         1178\n",
    "nombre_exposed      4635\n",
    "nombre_recovered    5569\n",
    "Name: 27, dtype: int64"
   ]
  },
  {
   "cell_type": "markdown",
   "id": "c49faa0a",
   "metadata": {},
   "source": [
    "nombre_infected     8701\n",
    "nombre_sain          829\n",
    "nombre_exposed      3869\n",
    "nombre_recovered    6601\n",
    "Name: 28, dtype: int64"
   ]
  },
  {
   "cell_type": "markdown",
   "id": "648e90a3",
   "metadata": {},
   "source": [
    "nombre_infected     8573\n",
    "nombre_sain          580\n",
    "nombre_exposed      3177\n",
    "nombre_recovered    7670\n",
    "Name: 29, dtype: int64"
   ]
  },
  {
   "cell_type": "markdown",
   "id": "03509079",
   "metadata": {},
   "source": [
    "nombre_infected     8281\n",
    "nombre_sain          387\n",
    "nombre_exposed      2585\n",
    "nombre_recovered    8747\n",
    "Name: 30, dtype: int64"
   ]
  },
  {
   "cell_type": "markdown",
   "id": "ff3ad4d9",
   "metadata": {},
   "source": [
    "nombre_infected     7882\n",
    "nombre_sain          276\n",
    "nombre_exposed      2036\n",
    "nombre_recovered    9806\n",
    "Name: 31, dtype: int64"
   ]
  },
  {
   "cell_type": "markdown",
   "id": "ad6a9d74",
   "metadata": {},
   "source": [
    "nombre_infected      7389\n",
    "nombre_sain           222\n",
    "nombre_exposed       1569\n",
    "nombre_recovered    10820\n",
    "Name: 32, dtype: int64"
   ]
  },
  {
   "cell_type": "markdown",
   "id": "1c72e094",
   "metadata": {},
   "source": [
    "nombre_infected      6828\n",
    "nombre_sain           190\n",
    "nombre_exposed       1214\n",
    "nombre_recovered    11768\n",
    "Name: 33, dtype: int64"
   ]
  },
  {
   "cell_type": "markdown",
   "id": "4bb61447",
   "metadata": {},
   "source": [
    "nombre_infected      6316\n",
    "nombre_sain           175\n",
    "nombre_exposed        936\n",
    "nombre_recovered    12573\n",
    "Name: 34, dtype: int64"
   ]
  },
  {
   "cell_type": "markdown",
   "id": "e79fab64",
   "metadata": {},
   "source": [
    "nombre_infected      5794\n",
    "nombre_sain           172\n",
    "nombre_exposed        721\n",
    "nombre_recovered    13313\n",
    "Name: 35, dtype: int64"
   ]
  },
  {
   "cell_type": "markdown",
   "id": "dc7a78d6",
   "metadata": {},
   "source": [
    "nombre_infected      5224\n",
    "nombre_sain           163\n",
    "nombre_exposed        536\n",
    "nombre_recovered    14077\n",
    "Name: 36, dtype: int64"
   ]
  },
  {
   "cell_type": "markdown",
   "id": "c4b69823",
   "metadata": {},
   "source": [
    "nombre_infected      4609\n",
    "nombre_sain           174\n",
    "nombre_exposed        439\n",
    "nombre_recovered    14778\n",
    "Name: 37, dtype: int64"
   ]
  },
  {
   "cell_type": "markdown",
   "id": "5a709b22",
   "metadata": {},
   "source": [
    "nombre_infected      4060\n",
    "nombre_sain           186\n",
    "nombre_exposed        321\n",
    "nombre_recovered    15433\n",
    "Name: 38, dtype: int64"
   ]
  },
  {
   "cell_type": "markdown",
   "id": "23a198b8",
   "metadata": {},
   "source": [
    "nombre_infected      3557\n",
    "nombre_sain           197\n",
    "nombre_exposed        249\n",
    "nombre_recovered    15997\n",
    "Name: 39, dtype: int64"
   ]
  },
  {
   "cell_type": "markdown",
   "id": "c446cfcb",
   "metadata": {},
   "source": [
    "nombre_infected      3044\n",
    "nombre_sain           219\n",
    "nombre_exposed        200\n",
    "nombre_recovered    16537\n",
    "Name: 40, dtype: int64"
   ]
  },
  {
   "cell_type": "markdown",
   "id": "d271e4f7",
   "metadata": {},
   "source": [
    "nombre_infected      2587\n",
    "nombre_sain           227\n",
    "nombre_exposed        169\n",
    "nombre_recovered    17017\n",
    "Name: 41, dtype: int64"
   ]
  },
  {
   "cell_type": "markdown",
   "id": "39e5d983",
   "metadata": {},
   "source": [
    "nombre_infected      2181\n",
    "nombre_sain           238\n",
    "nombre_exposed        152\n",
    "nombre_recovered    17429\n",
    "Name: 42, dtype: int64"
   ]
  },
  {
   "cell_type": "markdown",
   "id": "e62651e9",
   "metadata": {},
   "source": [
    "nombre_infected      1833\n",
    "nombre_sain           253\n",
    "nombre_exposed        144\n",
    "nombre_recovered    17770\n",
    "Name: 43, dtype: int64"
   ]
  },
  {
   "cell_type": "markdown",
   "id": "555dac1f",
   "metadata": {},
   "source": [
    "nombre_infected      1537\n",
    "nombre_sain           262\n",
    "nombre_exposed        145\n",
    "nombre_recovered    18056\n",
    "Name: 44, dtype: int64"
   ]
  },
  {
   "cell_type": "markdown",
   "id": "53e9868e",
   "metadata": {},
   "source": [
    "nombre_infected      1280\n",
    "nombre_sain           279\n",
    "nombre_exposed        130\n",
    "nombre_recovered    18311\n",
    "Name: 45, dtype: int64"
   ]
  },
  {
   "cell_type": "markdown",
   "id": "6d09c562",
   "metadata": {},
   "source": [
    "nombre_infected      1068\n",
    "nombre_sain           298\n",
    "nombre_exposed        113\n",
    "nombre_recovered    18521\n",
    "Name: 46, dtype: int64"
   ]
  },
  {
   "cell_type": "markdown",
   "id": "5c150747",
   "metadata": {},
   "source": [
    "nombre_infected       893\n",
    "nombre_sain           326\n",
    "nombre_exposed        101\n",
    "nombre_recovered    18680\n",
    "Name: 47, dtype: int64"
   ]
  },
  {
   "cell_type": "markdown",
   "id": "c07092cf",
   "metadata": {},
   "source": [
    "nombre_infected       739\n",
    "nombre_sain           364\n",
    "nombre_exposed         91\n",
    "nombre_recovered    18806\n",
    "Name: 48, dtype: int64"
   ]
  },
  {
   "cell_type": "markdown",
   "id": "1ca3f2d6",
   "metadata": {},
   "source": [
    "nombre_infected       611\n",
    "nombre_sain           405\n",
    "nombre_exposed         80\n",
    "nombre_recovered    18904\n",
    "Name: 49, dtype: int64"
   ]
  },
  {
   "cell_type": "markdown",
   "id": "aa578a85",
   "metadata": {},
   "source": [
    "nombre_infected       516\n",
    "nombre_sain           441\n",
    "nombre_exposed         65\n",
    "nombre_recovered    18978\n",
    "Name: 50, dtype: int64"
   ]
  },
  {
   "cell_type": "markdown",
   "id": "082c32d0",
   "metadata": {},
   "source": [
    "nombre_infected       432\n",
    "nombre_sain           489\n",
    "nombre_exposed         59\n",
    "nombre_recovered    19020\n",
    "Name: 51, dtype: int64"
   ]
  },
  {
   "cell_type": "markdown",
   "id": "e8f6b511",
   "metadata": {},
   "source": [
    "nombre_infected       350\n",
    "nombre_sain           551\n",
    "nombre_exposed         53\n",
    "nombre_recovered    19046\n",
    "Name: 52, dtype: int64"
   ]
  },
  {
   "cell_type": "markdown",
   "id": "5a365610",
   "metadata": {},
   "source": [
    "nombre_infected       297\n",
    "nombre_sain           622\n",
    "nombre_exposed         53\n",
    "nombre_recovered    19028\n",
    "Name: 53, dtype: int64"
   ]
  },
  {
   "cell_type": "markdown",
   "id": "54e1e027",
   "metadata": {},
   "source": [
    "nombre_infected       251\n",
    "nombre_sain           697\n",
    "nombre_exposed         40\n",
    "nombre_recovered    19012\n",
    "Name: 54, dtype: int64"
   ]
  },
  {
   "cell_type": "markdown",
   "id": "30db5860",
   "metadata": {},
   "source": [
    "nombre_infected       218\n",
    "nombre_sain           768\n",
    "nombre_exposed         36\n",
    "nombre_recovered    18978\n",
    "Name: 55, dtype: int64"
   ]
  },
  {
   "cell_type": "markdown",
   "id": "111b9db0",
   "metadata": {},
   "source": [
    "nombre_infected       184\n",
    "nombre_sain           832\n",
    "nombre_exposed         36\n",
    "nombre_recovered    18948\n",
    "Name: 56, dtype: int64"
   ]
  },
  {
   "cell_type": "markdown",
   "id": "8fb358e1",
   "metadata": {},
   "source": [
    "nombre_infected       169\n",
    "nombre_sain           913\n",
    "nombre_exposed         33\n",
    "nombre_recovered    18885\n",
    "Name: 57, dtype: int64"
   ]
  },
  {
   "cell_type": "markdown",
   "id": "1cae9852",
   "metadata": {},
   "source": [
    "nombre_infected       150\n",
    "nombre_sain           966\n",
    "nombre_exposed         34\n",
    "nombre_recovered    18850\n",
    "Name: 58, dtype: int64"
   ]
  },
  {
   "cell_type": "markdown",
   "id": "336ac834",
   "metadata": {},
   "source": [
    "nombre_infected       136\n",
    "nombre_sain          1018\n",
    "nombre_exposed         37\n",
    "nombre_recovered    18809\n",
    "Name: 59, dtype: int64"
   ]
  },
  {
   "cell_type": "markdown",
   "id": "40cc522f",
   "metadata": {},
   "source": [
    "nombre_infected       125\n",
    "nombre_sain          1086\n",
    "nombre_exposed         40\n",
    "nombre_recovered    18749\n",
    "Name: 60, dtype: int64"
   ]
  },
  {
   "cell_type": "markdown",
   "id": "818bbb76",
   "metadata": {},
   "source": [
    "nombre_infected       119\n",
    "nombre_sain          1141\n",
    "nombre_exposed         42\n",
    "nombre_recovered    18698\n",
    "Name: 61, dtype: int64"
   ]
  },
  {
   "cell_type": "markdown",
   "id": "1dc91980",
   "metadata": {},
   "source": [
    "nombre_infected       116\n",
    "nombre_sain          1201\n",
    "nombre_exposed         39\n",
    "nombre_recovered    18644\n",
    "Name: 62, dtype: int64"
   ]
  },
  {
   "cell_type": "markdown",
   "id": "e476f515",
   "metadata": {},
   "source": [
    "nombre_infected       118\n",
    "nombre_sain          1250\n",
    "nombre_exposed         34\n",
    "nombre_recovered    18598\n",
    "Name: 63, dtype: int64"
   ]
  },
  {
   "cell_type": "markdown",
   "id": "1a6b2df0",
   "metadata": {},
   "source": [
    "nombre_infected       108\n",
    "nombre_sain          1312\n",
    "nombre_exposed         31\n",
    "nombre_recovered    18549\n",
    "Name: 64, dtype: int64"
   ]
  },
  {
   "cell_type": "markdown",
   "id": "3f3182f9",
   "metadata": {},
   "source": [
    "nombre_infected       100\n",
    "nombre_sain          1347\n",
    "nombre_exposed         37\n",
    "nombre_recovered    18516\n",
    "Name: 65, dtype: int64"
   ]
  },
  {
   "cell_type": "markdown",
   "id": "3e187e4d",
   "metadata": {},
   "source": [
    "nombre_infected        90\n",
    "nombre_sain          1388\n",
    "nombre_exposed         41\n",
    "nombre_recovered    18481\n",
    "Name: 66, dtype: int64"
   ]
  },
  {
   "cell_type": "markdown",
   "id": "ecdc9523",
   "metadata": {},
   "source": [
    "nombre_infected        89\n",
    "nombre_sain          1426\n",
    "nombre_exposed         42\n",
    "nombre_recovered    18443\n",
    "Name: 67, dtype: int64"
   ]
  },
  {
   "cell_type": "markdown",
   "id": "565efc44",
   "metadata": {},
   "source": [
    "nombre_infected        90\n",
    "nombre_sain          1455\n",
    "nombre_exposed         44\n",
    "nombre_recovered    18411\n",
    "Name: 68, dtype: int64"
   ]
  },
  {
   "cell_type": "markdown",
   "id": "03d3dcbf",
   "metadata": {},
   "source": [
    "nombre_infected        89\n",
    "nombre_sain          1484\n",
    "nombre_exposed         43\n",
    "nombre_recovered    18384\n",
    "Name: 69, dtype: int64"
   ]
  },
  {
   "cell_type": "markdown",
   "id": "cbd64ec8",
   "metadata": {},
   "source": [
    "nombre_infected        84\n",
    "nombre_sain          1518\n",
    "nombre_exposed         43\n",
    "nombre_recovered    18355\n",
    "Name: 70, dtype: int64"
   ]
  },
  {
   "cell_type": "markdown",
   "id": "de36cfc7",
   "metadata": {},
   "source": [
    "nombre_infected        84\n",
    "nombre_sain          1536\n",
    "nombre_exposed         43\n",
    "nombre_recovered    18337\n",
    "Name: 71, dtype: int64"
   ]
  },
  {
   "cell_type": "markdown",
   "id": "f1599968",
   "metadata": {},
   "source": [
    "nombre_infected        82\n",
    "nombre_sain          1557\n",
    "nombre_exposed         43\n",
    "nombre_recovered    18318\n",
    "Name: 72, dtype: int64"
   ]
  },
  {
   "cell_type": "markdown",
   "id": "b018afc6",
   "metadata": {},
   "source": [
    "nombre_infected        79\n",
    "nombre_sain          1580\n",
    "nombre_exposed         49\n",
    "nombre_recovered    18292\n",
    "Name: 73, dtype: int64"
   ]
  },
  {
   "cell_type": "markdown",
   "id": "1468ea2b",
   "metadata": {},
   "source": [
    "nombre_infected        76\n",
    "nombre_sain          1618\n",
    "nombre_exposed         45\n",
    "nombre_recovered    18261\n",
    "Name: 74, dtype: int64"
   ]
  },
  {
   "cell_type": "markdown",
   "id": "703436b1",
   "metadata": {},
   "source": [
    "nombre_infected        75\n",
    "nombre_sain          1642\n",
    "nombre_exposed         41\n",
    "nombre_recovered    18242\n",
    "Name: 75, dtype: int64"
   ]
  },
  {
   "cell_type": "markdown",
   "id": "f7b63f83",
   "metadata": {},
   "source": [
    "nombre_infected        74\n",
    "nombre_sain          1667\n",
    "nombre_exposed         37\n",
    "nombre_recovered    18222\n",
    "Name: 76, dtype: int64"
   ]
  },
  {
   "cell_type": "markdown",
   "id": "b0bff2e3",
   "metadata": {},
   "source": [
    "nombre_infected        77\n",
    "nombre_sain          1682\n",
    "nombre_exposed         42\n",
    "nombre_recovered    18199\n",
    "Name: 77, dtype: int64"
   ]
  },
  {
   "cell_type": "markdown",
   "id": "5b179978",
   "metadata": {},
   "source": [
    "nombre_infected        71\n",
    "nombre_sain          1700\n",
    "nombre_exposed         44\n",
    "nombre_recovered    18185\n",
    "Name: 78, dtype: int64"
   ]
  },
  {
   "cell_type": "markdown",
   "id": "712003c8",
   "metadata": {},
   "source": [
    "nombre_infected        76\n",
    "nombre_sain          1725\n",
    "nombre_exposed         43\n",
    "nombre_recovered    18156\n",
    "Name: 79, dtype: int64"
   ]
  },
  {
   "cell_type": "markdown",
   "id": "a505ee5a",
   "metadata": {},
   "source": [
    "nombre_infected        70\n",
    "nombre_sain          1737\n",
    "nombre_exposed         43\n",
    "nombre_recovered    18150\n",
    "Name: 80, dtype: int64"
   ]
  },
  {
   "cell_type": "markdown",
   "id": "1d697f13",
   "metadata": {},
   "source": [
    "nombre_infected        74\n",
    "nombre_sain          1746\n",
    "nombre_exposed         37\n",
    "nombre_recovered    18143\n",
    "Name: 81, dtype: int64"
   ]
  },
  {
   "cell_type": "markdown",
   "id": "91bb4ea5",
   "metadata": {},
   "source": [
    "nombre_infected        67\n",
    "nombre_sain          1764\n",
    "nombre_exposed         39\n",
    "nombre_recovered    18130\n",
    "Name: 82, dtype: int64"
   ]
  },
  {
   "cell_type": "markdown",
   "id": "9e47bf9a",
   "metadata": {},
   "source": [
    "nombre_infected        63\n",
    "nombre_sain          1798\n",
    "nombre_exposed         37\n",
    "nombre_recovered    18102\n",
    "Name: 83, dtype: int64"
   ]
  },
  {
   "cell_type": "markdown",
   "id": "6a940c58",
   "metadata": {},
   "source": [
    "nombre_infected        59\n",
    "nombre_sain          1822\n",
    "nombre_exposed         38\n",
    "nombre_recovered    18081\n",
    "Name: 84, dtype: int64"
   ]
  },
  {
   "cell_type": "markdown",
   "id": "f326ab6d",
   "metadata": {},
   "source": [
    "nombre_infected        56\n",
    "nombre_sain          1848\n",
    "nombre_exposed         33\n",
    "nombre_recovered    18063\n",
    "Name: 85, dtype: int64"
   ]
  },
  {
   "cell_type": "markdown",
   "id": "e5578334",
   "metadata": {},
   "source": [
    "nombre_infected        56\n",
    "nombre_sain          1893\n",
    "nombre_exposed         31\n",
    "nombre_recovered    18020\n",
    "Name: 86, dtype: int64"
   ]
  },
  {
   "cell_type": "markdown",
   "id": "142ae9fa",
   "metadata": {},
   "source": [
    "nombre_infected        54\n",
    "nombre_sain          1928\n",
    "nombre_exposed         30\n",
    "nombre_recovered    17988\n",
    "Name: 87, dtype: int64"
   ]
  },
  {
   "cell_type": "markdown",
   "id": "93e1afbe",
   "metadata": {},
   "source": [
    "nombre_infected        55\n",
    "nombre_sain          1975\n",
    "nombre_exposed         24\n",
    "nombre_recovered    17946\n",
    "Name: 88, dtype: int64"
   ]
  },
  {
   "cell_type": "markdown",
   "id": "8aa53f99",
   "metadata": {},
   "source": [
    "nombre_infected        52\n",
    "nombre_sain          2028\n",
    "nombre_exposed         27\n",
    "nombre_recovered    17893\n",
    "Name: 89, dtype: int64"
   ]
  },
  {
   "cell_type": "markdown",
   "id": "c5e7ff07",
   "metadata": {},
   "source": [
    "nombre_infected        54\n",
    "nombre_sain          2083\n",
    "nombre_exposed         28\n",
    "nombre_recovered    17835\n",
    "Name: 90, dtype: int64"
   ]
  },
  {
   "cell_type": "markdown",
   "id": "93e0c6f8",
   "metadata": {},
   "source": [
    "nombre_infected        48\n",
    "nombre_sain          2141\n",
    "nombre_exposed         30\n",
    "nombre_recovered    17781\n",
    "Name: 91, dtype: int64"
   ]
  },
  {
   "cell_type": "markdown",
   "id": "e08d1496",
   "metadata": {},
   "source": [
    "nombre_infected        43\n",
    "nombre_sain          2190\n",
    "nombre_exposed         33\n",
    "nombre_recovered    17734\n",
    "Name: 92, dtype: int64"
   ]
  },
  {
   "cell_type": "markdown",
   "id": "fcd7e95b",
   "metadata": {},
   "source": [
    "nombre_infected        45\n",
    "nombre_sain          2265\n",
    "nombre_exposed         32\n",
    "nombre_recovered    17658\n",
    "Name: 93, dtype: int64"
   ]
  },
  {
   "cell_type": "markdown",
   "id": "b4726f6f",
   "metadata": {},
   "source": [
    "nombre_infected        47\n",
    "nombre_sain          2348\n",
    "nombre_exposed         29\n",
    "nombre_recovered    17576\n",
    "Name: 94, dtype: int64"
   ]
  },
  {
   "cell_type": "markdown",
   "id": "217bf6cf",
   "metadata": {},
   "source": [
    "nombre_infected        49\n",
    "nombre_sain          2405\n",
    "nombre_exposed         32\n",
    "nombre_recovered    17514\n",
    "Name: 95, dtype: int64"
   ]
  },
  {
   "cell_type": "markdown",
   "id": "32ba3382",
   "metadata": {},
   "source": [
    "nombre_infected        49\n",
    "nombre_sain          2498\n",
    "nombre_exposed         34\n",
    "nombre_recovered    17419\n",
    "Name: 96, dtype: int64"
   ]
  },
  {
   "cell_type": "markdown",
   "id": "fd8db930",
   "metadata": {},
   "source": [
    "nombre_infected        49\n",
    "nombre_sain          2562\n",
    "nombre_exposed         33\n",
    "nombre_recovered    17356\n",
    "Name: 97, dtype: int64"
   ]
  },
  {
   "cell_type": "markdown",
   "id": "8c75117a",
   "metadata": {},
   "source": [
    "nombre_infected        47\n",
    "nombre_sain          2619\n",
    "nombre_exposed         37\n",
    "nombre_recovered    17297\n",
    "Name: 98, dtype: int64"
   ]
  },
  {
   "cell_type": "markdown",
   "id": "315f5e4a",
   "metadata": {},
   "source": [
    "nombre_infected        49\n",
    "nombre_sain          2672\n",
    "nombre_exposed         31\n",
    "nombre_recovered    17248\n",
    "Name: 99, dtype: int64"
   ]
  },
  {
   "cell_type": "markdown",
   "id": "f6e18bca",
   "metadata": {},
   "source": [
    "nombre_infected        54\n",
    "nombre_sain          2729\n",
    "nombre_exposed         31\n",
    "nombre_recovered    17186\n",
    "Name: 100, dtype: int64"
   ]
  },
  {
   "cell_type": "markdown",
   "id": "61e02b5b",
   "metadata": {},
   "source": [
    "nombre_infected        57\n",
    "nombre_sain          2789\n",
    "nombre_exposed         36\n",
    "nombre_recovered    17118\n",
    "Name: 101, dtype: int64"
   ]
  },
  {
   "cell_type": "markdown",
   "id": "680f38d1",
   "metadata": {},
   "source": [
    "nombre_infected        62\n",
    "nombre_sain          2856\n",
    "nombre_exposed         29\n",
    "nombre_recovered    17053\n",
    "Name: 102, dtype: int64"
   ]
  },
  {
   "cell_type": "markdown",
   "id": "a7cd20e6",
   "metadata": {},
   "source": [
    "nombre_infected        59\n",
    "nombre_sain          2905\n",
    "nombre_exposed         36\n",
    "nombre_recovered    17000\n",
    "Name: 103, dtype: int64"
   ]
  },
  {
   "cell_type": "markdown",
   "id": "d40f4b0f",
   "metadata": {},
   "source": [
    "nombre_infected        55\n",
    "nombre_sain          2940\n",
    "nombre_exposed         44\n",
    "nombre_recovered    16961\n",
    "Name: 104, dtype: int64"
   ]
  },
  {
   "cell_type": "markdown",
   "id": "16521471",
   "metadata": {},
   "source": [
    "nombre_infected        54\n",
    "nombre_sain          2993\n",
    "nombre_exposed         49\n",
    "nombre_recovered    16904\n",
    "Name: 105, dtype: int64"
   ]
  },
  {
   "cell_type": "markdown",
   "id": "7c4c5012",
   "metadata": {},
   "source": [
    "nombre_infected        64\n",
    "nombre_sain          3048\n",
    "nombre_exposed         48\n",
    "nombre_recovered    16840\n",
    "Name: 106, dtype: int64"
   ]
  },
  {
   "cell_type": "markdown",
   "id": "fc5afc00",
   "metadata": {},
   "source": [
    "nombre_infected        60\n",
    "nombre_sain          3098\n",
    "nombre_exposed         49\n",
    "nombre_recovered    16793\n",
    "Name: 107, dtype: int64"
   ]
  },
  {
   "cell_type": "markdown",
   "id": "051a2a2c",
   "metadata": {},
   "source": [
    "nombre_infected        60\n",
    "nombre_sain          3128\n",
    "nombre_exposed         58\n",
    "nombre_recovered    16754\n",
    "Name: 108, dtype: int64"
   ]
  },
  {
   "cell_type": "markdown",
   "id": "469dca5b",
   "metadata": {},
   "source": [
    "nombre_infected        63\n",
    "nombre_sain          3166\n",
    "nombre_exposed         62\n",
    "nombre_recovered    16709\n",
    "Name: 109, dtype: int64"
   ]
  },
  {
   "cell_type": "markdown",
   "id": "14504717",
   "metadata": {},
   "source": [
    "nombre_infected        67\n",
    "nombre_sain          3210\n",
    "nombre_exposed         60\n",
    "nombre_recovered    16663\n",
    "Name: 110, dtype: int64"
   ]
  },
  {
   "cell_type": "markdown",
   "id": "83e3ddee",
   "metadata": {},
   "source": [
    "nombre_infected        75\n",
    "nombre_sain          3253\n",
    "nombre_exposed         62\n",
    "nombre_recovered    16610\n",
    "Name: 111, dtype: int64"
   ]
  },
  {
   "cell_type": "markdown",
   "id": "30baad26",
   "metadata": {},
   "source": [
    "nombre_infected        75\n",
    "nombre_sain          3299\n",
    "nombre_exposed         68\n",
    "nombre_recovered    16558\n",
    "Name: 112, dtype: int64"
   ]
  },
  {
   "cell_type": "markdown",
   "id": "dc4e4aff",
   "metadata": {},
   "source": [
    "nombre_infected        81\n",
    "nombre_sain          3341\n",
    "nombre_exposed         61\n",
    "nombre_recovered    16517\n",
    "Name: 113, dtype: int64"
   ]
  },
  {
   "cell_type": "markdown",
   "id": "25d6d736",
   "metadata": {},
   "source": [
    "nombre_infected        83\n",
    "nombre_sain          3394\n",
    "nombre_exposed         70\n",
    "nombre_recovered    16453\n",
    "Name: 114, dtype: int64"
   ]
  },
  {
   "cell_type": "markdown",
   "id": "3221fe39",
   "metadata": {},
   "source": [
    "nombre_infected        80\n",
    "nombre_sain          3439\n",
    "nombre_exposed         72\n",
    "nombre_recovered    16409\n",
    "Name: 115, dtype: int64"
   ]
  },
  {
   "cell_type": "markdown",
   "id": "6f0559f8",
   "metadata": {},
   "source": [
    "nombre_infected        85\n",
    "nombre_sain          3476\n",
    "nombre_exposed         65\n",
    "nombre_recovered    16374\n",
    "Name: 116, dtype: int64"
   ]
  },
  {
   "cell_type": "markdown",
   "id": "9f8a38a9",
   "metadata": {},
   "source": [
    "nombre_infected        96\n",
    "nombre_sain          3522\n",
    "nombre_exposed         64\n",
    "nombre_recovered    16318\n",
    "Name: 117, dtype: int64"
   ]
  },
  {
   "cell_type": "markdown",
   "id": "2ed386b0",
   "metadata": {},
   "source": [
    "nombre_infected        97\n",
    "nombre_sain          3553\n",
    "nombre_exposed         71\n",
    "nombre_recovered    16279\n",
    "Name: 118, dtype: int64"
   ]
  },
  {
   "cell_type": "markdown",
   "id": "cecea56a",
   "metadata": {},
   "source": [
    "nombre_infected       101\n",
    "nombre_sain          3574\n",
    "nombre_exposed         77\n",
    "nombre_recovered    16248\n",
    "Name: 119, dtype: int64"
   ]
  },
  {
   "cell_type": "markdown",
   "id": "68ae7420",
   "metadata": {},
   "source": [
    "nombre_infected       108\n",
    "nombre_sain          3612\n",
    "nombre_exposed         84\n",
    "nombre_recovered    16196\n",
    "Name: 120, dtype: int64"
   ]
  },
  {
   "cell_type": "markdown",
   "id": "d5dd9554",
   "metadata": {},
   "source": [
    "nombre_infected       122\n",
    "nombre_sain          3638\n",
    "nombre_exposed         97\n",
    "nombre_recovered    16143\n",
    "Name: 121, dtype: int64"
   ]
  },
  {
   "cell_type": "markdown",
   "id": "ccaeef80",
   "metadata": {},
   "source": [
    "nombre_infected       127\n",
    "nombre_sain          3672\n",
    "nombre_exposed         90\n",
    "nombre_recovered    16111\n",
    "Name: 122, dtype: int64"
   ]
  },
  {
   "cell_type": "markdown",
   "id": "eeb6d8fd",
   "metadata": {},
   "source": [
    "nombre_infected       134\n",
    "nombre_sain          3682\n",
    "nombre_exposed        100\n",
    "nombre_recovered    16084\n",
    "Name: 123, dtype: int64"
   ]
  },
  {
   "cell_type": "markdown",
   "id": "9a00e09f",
   "metadata": {},
   "source": [
    "nombre_infected       146\n",
    "nombre_sain          3695\n",
    "nombre_exposed        113\n",
    "nombre_recovered    16046\n",
    "Name: 124, dtype: int64"
   ]
  },
  {
   "cell_type": "markdown",
   "id": "4bd36b15",
   "metadata": {},
   "source": [
    "nombre_infected       150\n",
    "nombre_sain          3699\n",
    "nombre_exposed        133\n",
    "nombre_recovered    16018\n",
    "Name: 125, dtype: int64"
   ]
  },
  {
   "cell_type": "markdown",
   "id": "a360d0c4",
   "metadata": {},
   "source": [
    "nombre_infected       145\n",
    "nombre_sain          3717\n",
    "nombre_exposed        140\n",
    "nombre_recovered    15998\n",
    "Name: 126, dtype: int64"
   ]
  },
  {
   "cell_type": "markdown",
   "id": "9ca0cff4",
   "metadata": {},
   "source": [
    "nombre_infected       152\n",
    "nombre_sain          3719\n",
    "nombre_exposed        147\n",
    "nombre_recovered    15982\n",
    "Name: 127, dtype: int64"
   ]
  },
  {
   "cell_type": "markdown",
   "id": "172bb209",
   "metadata": {},
   "source": [
    "nombre_infected       168\n",
    "nombre_sain          3734\n",
    "nombre_exposed        145\n",
    "nombre_recovered    15953\n",
    "Name: 128, dtype: int64"
   ]
  },
  {
   "cell_type": "markdown",
   "id": "f2fc1770",
   "metadata": {},
   "source": [
    "nombre_infected       161\n",
    "nombre_sain          3728\n",
    "nombre_exposed        172\n",
    "nombre_recovered    15939\n",
    "Name: 129, dtype: int64"
   ]
  },
  {
   "cell_type": "markdown",
   "id": "8e670de0",
   "metadata": {},
   "source": [
    "nombre_infected       173\n",
    "nombre_sain          3724\n",
    "nombre_exposed        180\n",
    "nombre_recovered    15923\n",
    "Name: 130, dtype: int64"
   ]
  },
  {
   "cell_type": "markdown",
   "id": "86961248",
   "metadata": {},
   "source": [
    "nombre_infected       190\n",
    "nombre_sain          3726\n",
    "nombre_exposed        195\n",
    "nombre_recovered    15889\n",
    "Name: 131, dtype: int64"
   ]
  },
  {
   "cell_type": "markdown",
   "id": "ccd1838e",
   "metadata": {},
   "source": [
    "nombre_infected       213\n",
    "nombre_sain          3721\n",
    "nombre_exposed        203\n",
    "nombre_recovered    15863\n",
    "Name: 132, dtype: int64"
   ]
  },
  {
   "cell_type": "markdown",
   "id": "9e14d51d",
   "metadata": {},
   "source": [
    "nombre_infected       241\n",
    "nombre_sain          3713\n",
    "nombre_exposed        209\n",
    "nombre_recovered    15837\n",
    "Name: 133, dtype: int64"
   ]
  },
  {
   "cell_type": "markdown",
   "id": "6403f7ff",
   "metadata": {},
   "source": [
    "nombre_infected       248\n",
    "nombre_sain          3711\n",
    "nombre_exposed        219\n",
    "nombre_recovered    15822\n",
    "Name: 134, dtype: int64"
   ]
  },
  {
   "cell_type": "markdown",
   "id": "82d4deaf",
   "metadata": {},
   "source": [
    "nombre_infected       262\n",
    "nombre_sain          3688\n",
    "nombre_exposed        243\n",
    "nombre_recovered    15807\n",
    "Name: 135, dtype: int64"
   ]
  },
  {
   "cell_type": "markdown",
   "id": "b098a2fe",
   "metadata": {},
   "source": [
    "nombre_infected       281\n",
    "nombre_sain          3683\n",
    "nombre_exposed        242\n",
    "nombre_recovered    15794\n",
    "Name: 136, dtype: int64"
   ]
  },
  {
   "cell_type": "markdown",
   "id": "01107c59",
   "metadata": {},
   "source": [
    "nombre_infected       296\n",
    "nombre_sain          3679\n",
    "nombre_exposed        248\n",
    "nombre_recovered    15777\n",
    "Name: 137, dtype: int64"
   ]
  },
  {
   "cell_type": "markdown",
   "id": "9c3d85c0",
   "metadata": {},
   "source": [
    "nombre_infected       310\n",
    "nombre_sain          3654\n",
    "nombre_exposed        254\n",
    "nombre_recovered    15782\n",
    "Name: 138, dtype: int64"
   ]
  },
  {
   "cell_type": "markdown",
   "id": "06db900c",
   "metadata": {},
   "source": [
    "nombre_infected       331\n",
    "nombre_sain          3622\n",
    "nombre_exposed        273\n",
    "nombre_recovered    15774\n",
    "Name: 139, dtype: int64"
   ]
  },
  {
   "cell_type": "markdown",
   "id": "89b53fde",
   "metadata": {},
   "source": [
    "nombre_infected       336\n",
    "nombre_sain          3584\n",
    "nombre_exposed        304\n",
    "nombre_recovered    15776\n",
    "Name: 140, dtype: int64"
   ]
  },
  {
   "cell_type": "markdown",
   "id": "4f768196",
   "metadata": {},
   "source": [
    "nombre_infected       361\n",
    "nombre_sain          3533\n",
    "nombre_exposed        329\n",
    "nombre_recovered    15777\n",
    "Name: 141, dtype: int64"
   ]
  },
  {
   "cell_type": "markdown",
   "id": "0a9257a1",
   "metadata": {},
   "source": [
    "nombre_infected       378\n",
    "nombre_sain          3502\n",
    "nombre_exposed        338\n",
    "nombre_recovered    15782\n",
    "Name: 142, dtype: int64"
   ]
  },
  {
   "cell_type": "markdown",
   "id": "9f53692b",
   "metadata": {},
   "source": [
    "nombre_infected       384\n",
    "nombre_sain          3463\n",
    "nombre_exposed        348\n",
    "nombre_recovered    15805\n",
    "Name: 143, dtype: int64"
   ]
  },
  {
   "cell_type": "markdown",
   "id": "45464f24",
   "metadata": {},
   "source": [
    "nombre_infected       406\n",
    "nombre_sain          3421\n",
    "nombre_exposed        372\n",
    "nombre_recovered    15801\n",
    "Name: 144, dtype: int64"
   ]
  },
  {
   "cell_type": "markdown",
   "id": "a38e3f1a",
   "metadata": {},
   "source": [
    "nombre_infected       440\n",
    "nombre_sain          3380\n",
    "nombre_exposed        385\n",
    "nombre_recovered    15795\n",
    "Name: 145, dtype: int64"
   ]
  },
  {
   "cell_type": "markdown",
   "id": "2544c7a7",
   "metadata": {},
   "source": [
    "nombre_infected       464\n",
    "nombre_sain          3323\n",
    "nombre_exposed        411\n",
    "nombre_recovered    15802\n",
    "Name: 146, dtype: int64"
   ]
  },
  {
   "cell_type": "markdown",
   "id": "40ece899",
   "metadata": {},
   "source": [
    "nombre_infected       482\n",
    "nombre_sain          3279\n",
    "nombre_exposed        427\n",
    "nombre_recovered    15812\n",
    "Name: 147, dtype: int64"
   ]
  },
  {
   "cell_type": "markdown",
   "id": "3cf3d9e8",
   "metadata": {},
   "source": [
    "nombre_infected       524\n",
    "nombre_sain          3210\n",
    "nombre_exposed        442\n",
    "nombre_recovered    15824\n",
    "Name: 148, dtype: int64"
   ]
  },
  {
   "cell_type": "markdown",
   "id": "84ae2f13",
   "metadata": {},
   "source": [
    "nombre_infected       526\n",
    "nombre_sain          3179\n",
    "nombre_exposed        448\n",
    "nombre_recovered    15847\n",
    "Name: 149, dtype: int64"
   ]
  },
  {
   "cell_type": "markdown",
   "id": "5fbdfd52",
   "metadata": {},
   "source": [
    "nombre_infected       569\n",
    "nombre_sain          3131\n",
    "nombre_exposed        450\n",
    "nombre_recovered    15850\n",
    "Name: 150, dtype: int64"
   ]
  },
  {
   "cell_type": "markdown",
   "id": "23d01963",
   "metadata": {},
   "source": [
    "nombre_infected       596\n",
    "nombre_sain          3081\n",
    "nombre_exposed        465\n",
    "nombre_recovered    15858\n",
    "Name: 151, dtype: int64"
   ]
  },
  {
   "cell_type": "markdown",
   "id": "3303141a",
   "metadata": {},
   "source": [
    "nombre_infected       598\n",
    "nombre_sain          3029\n",
    "nombre_exposed        503\n",
    "nombre_recovered    15870\n",
    "Name: 152, dtype: int64"
   ]
  },
  {
   "cell_type": "markdown",
   "id": "7cd1d6b1",
   "metadata": {},
   "source": [
    "nombre_infected       642\n",
    "nombre_sain          2986\n",
    "nombre_exposed        500\n",
    "nombre_recovered    15872\n",
    "Name: 153, dtype: int64"
   ]
  },
  {
   "cell_type": "markdown",
   "id": "b3f0b410",
   "metadata": {},
   "source": [
    "nombre_infected       647\n",
    "nombre_sain          2918\n",
    "nombre_exposed        530\n",
    "nombre_recovered    15905\n",
    "Name: 154, dtype: int64"
   ]
  },
  {
   "cell_type": "markdown",
   "id": "7ce5e8d9",
   "metadata": {},
   "source": [
    "nombre_infected       659\n",
    "nombre_sain          2858\n",
    "nombre_exposed        553\n",
    "nombre_recovered    15930\n",
    "Name: 155, dtype: int64"
   ]
  },
  {
   "cell_type": "markdown",
   "id": "c7b3395c",
   "metadata": {},
   "source": [
    "nombre_infected       668\n",
    "nombre_sain          2830\n",
    "nombre_exposed        557\n",
    "nombre_recovered    15945\n",
    "Name: 156, dtype: int64"
   ]
  },
  {
   "cell_type": "markdown",
   "id": "5966d150",
   "metadata": {},
   "source": [
    "nombre_infected       720\n",
    "nombre_sain          2780\n",
    "nombre_exposed        532\n",
    "nombre_recovered    15968\n",
    "Name: 157, dtype: int64"
   ]
  },
  {
   "cell_type": "markdown",
   "id": "2de84998",
   "metadata": {},
   "source": [
    "nombre_infected       749\n",
    "nombre_sain          2728\n",
    "nombre_exposed        543\n",
    "nombre_recovered    15980\n",
    "Name: 158, dtype: int64"
   ]
  },
  {
   "cell_type": "markdown",
   "id": "7822c388",
   "metadata": {},
   "source": [
    "nombre_infected       751\n",
    "nombre_sain          2664\n",
    "nombre_exposed        571\n",
    "nombre_recovered    16014\n",
    "Name: 159, dtype: int64"
   ]
  },
  {
   "cell_type": "markdown",
   "id": "119760b4",
   "metadata": {},
   "source": [
    "nombre_infected       784\n",
    "nombre_sain          2608\n",
    "nombre_exposed        559\n",
    "nombre_recovered    16049\n",
    "Name: 160, dtype: int64"
   ]
  },
  {
   "cell_type": "markdown",
   "id": "b55fd14d",
   "metadata": {},
   "source": [
    "nombre_infected       786\n",
    "nombre_sain          2550\n",
    "nombre_exposed        580\n",
    "nombre_recovered    16084\n",
    "Name: 161, dtype: int64"
   ]
  },
  {
   "cell_type": "markdown",
   "id": "2196a109",
   "metadata": {},
   "source": [
    "nombre_infected       800\n",
    "nombre_sain          2500\n",
    "nombre_exposed        589\n",
    "nombre_recovered    16111\n",
    "Name: 162, dtype: int64"
   ]
  },
  {
   "cell_type": "markdown",
   "id": "c97b7952",
   "metadata": {},
   "source": [
    "nombre_infected       831\n",
    "nombre_sain          2441\n",
    "nombre_exposed        592\n",
    "nombre_recovered    16136\n",
    "Name: 163, dtype: int64"
   ]
  },
  {
   "cell_type": "markdown",
   "id": "9151bf34",
   "metadata": {},
   "source": [
    "nombre_infected       845\n",
    "nombre_sain          2369\n",
    "nombre_exposed        615\n",
    "nombre_recovered    16171\n",
    "Name: 164, dtype: int64"
   ]
  },
  {
   "cell_type": "markdown",
   "id": "a4395a00",
   "metadata": {},
   "source": [
    "nombre_infected       832\n",
    "nombre_sain          2309\n",
    "nombre_exposed        624\n",
    "nombre_recovered    16235\n",
    "Name: 165, dtype: int64"
   ]
  },
  {
   "cell_type": "markdown",
   "id": "b1c48a6e",
   "metadata": {},
   "source": [
    "nombre_infected       861\n",
    "nombre_sain          2259\n",
    "nombre_exposed        605\n",
    "nombre_recovered    16275\n",
    "Name: 166, dtype: int64"
   ]
  },
  {
   "cell_type": "markdown",
   "id": "d2567620",
   "metadata": {},
   "source": [
    "nombre_infected       866\n",
    "nombre_sain          2178\n",
    "nombre_exposed        615\n",
    "nombre_recovered    16341\n",
    "Name: 167, dtype: int64"
   ]
  },
  {
   "cell_type": "markdown",
   "id": "3c634210",
   "metadata": {},
   "source": [
    "nombre_infected       886\n",
    "nombre_sain          2129\n",
    "nombre_exposed        581\n",
    "nombre_recovered    16404\n",
    "Name: 168, dtype: int64"
   ]
  },
  {
   "cell_type": "markdown",
   "id": "640dcafb",
   "metadata": {},
   "source": [
    "nombre_infected       911\n",
    "nombre_sain          2094\n",
    "nombre_exposed        546\n",
    "nombre_recovered    16449\n",
    "Name: 169, dtype: int64"
   ]
  },
  {
   "cell_type": "markdown",
   "id": "4638b98c",
   "metadata": {},
   "source": [
    "nombre_infected       891\n",
    "nombre_sain          2065\n",
    "nombre_exposed        528\n",
    "nombre_recovered    16516\n",
    "Name: 170, dtype: int64"
   ]
  },
  {
   "cell_type": "markdown",
   "id": "57a55cb6",
   "metadata": {},
   "source": [
    "nombre_infected       907\n",
    "nombre_sain          2022\n",
    "nombre_exposed        504\n",
    "nombre_recovered    16567\n",
    "Name: 171, dtype: int64"
   ]
  },
  {
   "cell_type": "markdown",
   "id": "dff1f670",
   "metadata": {},
   "source": [
    "nombre_infected       923\n",
    "nombre_sain          1962\n",
    "nombre_exposed        487\n",
    "nombre_recovered    16628\n",
    "Name: 172, dtype: int64"
   ]
  },
  {
   "cell_type": "markdown",
   "id": "a51df525",
   "metadata": {},
   "source": [
    "nombre_infected       925\n",
    "nombre_sain          1904\n",
    "nombre_exposed        494\n",
    "nombre_recovered    16677\n",
    "Name: 173, dtype: int64"
   ]
  },
  {
   "cell_type": "markdown",
   "id": "e7a7e755",
   "metadata": {},
   "source": [
    "nombre_infected       913\n",
    "nombre_sain          1873\n",
    "nombre_exposed        491\n",
    "nombre_recovered    16723\n",
    "Name: 174, dtype: int64"
   ]
  },
  {
   "cell_type": "markdown",
   "id": "079f72c1",
   "metadata": {},
   "source": [
    "nombre_infected       921\n",
    "nombre_sain          1817\n",
    "nombre_exposed        479\n",
    "nombre_recovered    16783\n",
    "Name: 175, dtype: int64"
   ]
  },
  {
   "cell_type": "markdown",
   "id": "64ee021d",
   "metadata": {},
   "source": [
    "nombre_infected       874\n",
    "nombre_sain          1795\n",
    "nombre_exposed        476\n",
    "nombre_recovered    16855\n",
    "Name: 176, dtype: int64"
   ]
  },
  {
   "cell_type": "markdown",
   "id": "b5cf735f",
   "metadata": {},
   "source": [
    "nombre_infected       863\n",
    "nombre_sain          1765\n",
    "nombre_exposed        472\n",
    "nombre_recovered    16900\n",
    "Name: 177, dtype: int64"
   ]
  },
  {
   "cell_type": "markdown",
   "id": "360427b5",
   "metadata": {},
   "source": [
    "nombre_infected       875\n",
    "nombre_sain          1750\n",
    "nombre_exposed        447\n",
    "nombre_recovered    16928\n",
    "Name: 178, dtype: int64"
   ]
  },
  {
   "cell_type": "markdown",
   "id": "fdbaa17b",
   "metadata": {},
   "source": [
    "nombre_infected       861\n",
    "nombre_sain          1743\n",
    "nombre_exposed        432\n",
    "nombre_recovered    16964\n",
    "Name: 179, dtype: int64"
   ]
  },
  {
   "cell_type": "markdown",
   "id": "e8ad3040",
   "metadata": {},
   "source": [
    "nombre_infected       832\n",
    "nombre_sain          1748\n",
    "nombre_exposed        422\n",
    "nombre_recovered    16998\n",
    "Name: 180, dtype: int64"
   ]
  },
  {
   "cell_type": "markdown",
   "id": "12c84dee",
   "metadata": {},
   "source": [
    "nombre_infected       825\n",
    "nombre_sain          1755\n",
    "nombre_exposed        402\n",
    "nombre_recovered    17018\n",
    "Name: 181, dtype: int64"
   ]
  },
  {
   "cell_type": "markdown",
   "id": "99ac2c17",
   "metadata": {},
   "source": [
    "nombre_infected       809\n",
    "nombre_sain          1771\n",
    "nombre_exposed        399\n",
    "nombre_recovered    17021\n",
    "Name: 182, dtype: int64"
   ]
  },
  {
   "cell_type": "markdown",
   "id": "d518ec24",
   "metadata": {},
   "source": [
    "nombre_infected       784\n",
    "nombre_sain          1767\n",
    "nombre_exposed        389\n",
    "nombre_recovered    17060\n",
    "Name: 183, dtype: int64"
   ]
  },
  {
   "cell_type": "markdown",
   "id": "c0cac3d7",
   "metadata": {},
   "source": [
    "nombre_infected       770\n",
    "nombre_sain          1774\n",
    "nombre_exposed        383\n",
    "nombre_recovered    17073\n",
    "Name: 184, dtype: int64"
   ]
  },
  {
   "cell_type": "markdown",
   "id": "0bf77964",
   "metadata": {},
   "source": [
    "nombre_infected       762\n",
    "nombre_sain          1766\n",
    "nombre_exposed        390\n",
    "nombre_recovered    17082\n",
    "Name: 185, dtype: int64"
   ]
  },
  {
   "cell_type": "markdown",
   "id": "46b7264c",
   "metadata": {},
   "source": [
    "nombre_infected       758\n",
    "nombre_sain          1767\n",
    "nombre_exposed        379\n",
    "nombre_recovered    17096\n",
    "Name: 186, dtype: int64"
   ]
  },
  {
   "cell_type": "markdown",
   "id": "6fd34457",
   "metadata": {},
   "source": [
    "nombre_infected       731\n",
    "nombre_sain          1744\n",
    "nombre_exposed        414\n",
    "nombre_recovered    17111\n",
    "Name: 187, dtype: int64"
   ]
  },
  {
   "cell_type": "markdown",
   "id": "00133abc",
   "metadata": {},
   "source": [
    "nombre_infected       730\n",
    "nombre_sain          1750\n",
    "nombre_exposed        394\n",
    "nombre_recovered    17126\n",
    "Name: 188, dtype: int64"
   ]
  },
  {
   "cell_type": "markdown",
   "id": "ec7b4ab1",
   "metadata": {},
   "source": [
    "nombre_infected       714\n",
    "nombre_sain          1730\n",
    "nombre_exposed        392\n",
    "nombre_recovered    17164\n",
    "Name: 189, dtype: int64"
   ]
  },
  {
   "cell_type": "markdown",
   "id": "ed0f7004",
   "metadata": {},
   "source": [
    "nombre_infected       704\n",
    "nombre_sain          1734\n",
    "nombre_exposed        381\n",
    "nombre_recovered    17181\n",
    "Name: 190, dtype: int64"
   ]
  },
  {
   "cell_type": "markdown",
   "id": "5843006d",
   "metadata": {},
   "source": [
    "nombre_infected       713\n",
    "nombre_sain          1721\n",
    "nombre_exposed        381\n",
    "nombre_recovered    17185\n",
    "Name: 191, dtype: int64"
   ]
  },
  {
   "cell_type": "markdown",
   "id": "38e467bf",
   "metadata": {},
   "source": [
    "nombre_infected       704\n",
    "nombre_sain          1699\n",
    "nombre_exposed        383\n",
    "nombre_recovered    17214\n",
    "Name: 192, dtype: int64"
   ]
  },
  {
   "cell_type": "markdown",
   "id": "c882310d",
   "metadata": {},
   "source": [
    "nombre_infected       695\n",
    "nombre_sain          1712\n",
    "nombre_exposed        355\n",
    "nombre_recovered    17238\n",
    "Name: 193, dtype: int64"
   ]
  },
  {
   "cell_type": "markdown",
   "id": "c11888bf",
   "metadata": {},
   "source": [
    "nombre_infected       710\n",
    "nombre_sain          1708\n",
    "nombre_exposed        340\n",
    "nombre_recovered    17242\n",
    "Name: 194, dtype: int64"
   ]
  },
  {
   "cell_type": "markdown",
   "id": "0a0ee11e",
   "metadata": {},
   "source": [
    "nombre_infected       693\n",
    "nombre_sain          1680\n",
    "nombre_exposed        353\n",
    "nombre_recovered    17274\n",
    "Name: 195, dtype: int64"
   ]
  },
  {
   "cell_type": "markdown",
   "id": "d154bb57",
   "metadata": {},
   "source": [
    "nombre_infected       684\n",
    "nombre_sain          1684\n",
    "nombre_exposed        346\n",
    "nombre_recovered    17286\n",
    "Name: 196, dtype: int64"
   ]
  },
  {
   "cell_type": "markdown",
   "id": "37e80fdf",
   "metadata": {},
   "source": [
    "nombre_infected       673\n",
    "nombre_sain          1706\n",
    "nombre_exposed        312\n",
    "nombre_recovered    17309\n",
    "Name: 197, dtype: int64"
   ]
  },
  {
   "cell_type": "markdown",
   "id": "3f5111bc",
   "metadata": {},
   "source": [
    "nombre_infected       675\n",
    "nombre_sain          1708\n",
    "nombre_exposed        298\n",
    "nombre_recovered    17319\n",
    "Name: 198, dtype: int64"
   ]
  },
  {
   "cell_type": "markdown",
   "id": "702ecf18",
   "metadata": {},
   "source": [
    "nombre_infected       671\n",
    "nombre_sain          1705\n",
    "nombre_exposed        302\n",
    "nombre_recovered    17322\n",
    "Name: 199, dtype: int64"
   ]
  },
  {
   "cell_type": "markdown",
   "id": "a0fcc826",
   "metadata": {},
   "source": [
    "nombre_infected       652\n",
    "nombre_sain          1711\n",
    "nombre_exposed        296\n",
    "nombre_recovered    17341\n",
    "Name: 200, dtype: int64"
   ]
  },
  {
   "cell_type": "markdown",
   "id": "b118ecf0",
   "metadata": {},
   "source": [
    "nombre_infected       644\n",
    "nombre_sain          1704\n",
    "nombre_exposed        295\n",
    "nombre_recovered    17357\n",
    "Name: 201, dtype: int64"
   ]
  },
  {
   "cell_type": "markdown",
   "id": "04f2f9b8",
   "metadata": {},
   "source": [
    "nombre_infected       639\n",
    "nombre_sain          1706\n",
    "nombre_exposed        298\n",
    "nombre_recovered    17357\n",
    "Name: 202, dtype: int64"
   ]
  },
  {
   "cell_type": "markdown",
   "id": "1fa7476b",
   "metadata": {},
   "source": [
    "nombre_infected       633\n",
    "nombre_sain          1714\n",
    "nombre_exposed        285\n",
    "nombre_recovered    17368\n",
    "Name: 203, dtype: int64"
   ]
  },
  {
   "cell_type": "markdown",
   "id": "f1348d3f",
   "metadata": {},
   "source": [
    "nombre_infected       622\n",
    "nombre_sain          1712\n",
    "nombre_exposed        280\n",
    "nombre_recovered    17386\n",
    "Name: 204, dtype: int64"
   ]
  },
  {
   "cell_type": "markdown",
   "id": "e695fb3e",
   "metadata": {},
   "source": [
    "nombre_infected       589\n",
    "nombre_sain          1745\n",
    "nombre_exposed        283\n",
    "nombre_recovered    17383\n",
    "Name: 205, dtype: int64"
   ]
  },
  {
   "cell_type": "markdown",
   "id": "9fc7959c",
   "metadata": {},
   "source": [
    "nombre_infected       557\n",
    "nombre_sain          1744\n",
    "nombre_exposed        304\n",
    "nombre_recovered    17395\n",
    "Name: 206, dtype: int64"
   ]
  },
  {
   "cell_type": "markdown",
   "id": "8a05c5fc",
   "metadata": {},
   "source": [
    "nombre_infected       530\n",
    "nombre_sain          1774\n",
    "nombre_exposed        310\n",
    "nombre_recovered    17386\n",
    "Name: 207, dtype: int64"
   ]
  },
  {
   "cell_type": "markdown",
   "id": "e4aae4b7",
   "metadata": {},
   "source": [
    "nombre_infected       543\n",
    "nombre_sain          1816\n",
    "nombre_exposed        287\n",
    "nombre_recovered    17354\n",
    "Name: 208, dtype: int64"
   ]
  },
  {
   "cell_type": "markdown",
   "id": "3d0b190c",
   "metadata": {},
   "source": [
    "nombre_infected       532\n",
    "nombre_sain          1867\n",
    "nombre_exposed        282\n",
    "nombre_recovered    17319\n",
    "Name: 209, dtype: int64"
   ]
  },
  {
   "cell_type": "markdown",
   "id": "0c69e95e",
   "metadata": {},
   "source": [
    "nombre_infected       515\n",
    "nombre_sain          1882\n",
    "nombre_exposed        287\n",
    "nombre_recovered    17316\n",
    "Name: 210, dtype: int64"
   ]
  },
  {
   "cell_type": "markdown",
   "id": "5d51cd8a",
   "metadata": {},
   "source": [
    "nombre_infected       515\n",
    "nombre_sain          1930\n",
    "nombre_exposed        276\n",
    "nombre_recovered    17279\n",
    "Name: 211, dtype: int64"
   ]
  },
  {
   "cell_type": "markdown",
   "id": "8b0cce30",
   "metadata": {},
   "source": [
    "nombre_infected       494\n",
    "nombre_sain          1980\n",
    "nombre_exposed        283\n",
    "nombre_recovered    17243\n",
    "Name: 212, dtype: int64"
   ]
  },
  {
   "cell_type": "markdown",
   "id": "52c6a725",
   "metadata": {},
   "source": [
    "nombre_infected       486\n",
    "nombre_sain          2026\n",
    "nombre_exposed        270\n",
    "nombre_recovered    17218\n",
    "Name: 213, dtype: int64"
   ]
  },
  {
   "cell_type": "markdown",
   "id": "83163e36",
   "metadata": {},
   "source": [
    "nombre_infected       499\n",
    "nombre_sain          2067\n",
    "nombre_exposed        272\n",
    "nombre_recovered    17162\n",
    "Name: 214, dtype: int64"
   ]
  },
  {
   "cell_type": "markdown",
   "id": "127a6f4a",
   "metadata": {},
   "source": [
    "nombre_infected       507\n",
    "nombre_sain          2111\n",
    "nombre_exposed        280\n",
    "nombre_recovered    17102\n",
    "Name: 215, dtype: int64"
   ]
  },
  {
   "cell_type": "markdown",
   "id": "77f4d61f",
   "metadata": {},
   "source": [
    "nombre_infected       485\n",
    "nombre_sain          2150\n",
    "nombre_exposed        308\n",
    "nombre_recovered    17057\n",
    "Name: 216, dtype: int64"
   ]
  },
  {
   "cell_type": "markdown",
   "id": "6aa8f8c7",
   "metadata": {},
   "source": [
    "nombre_infected       457\n",
    "nombre_sain          2204\n",
    "nombre_exposed        324\n",
    "nombre_recovered    17015\n",
    "Name: 217, dtype: int64"
   ]
  },
  {
   "cell_type": "markdown",
   "id": "62de914f",
   "metadata": {},
   "source": [
    "nombre_infected       450\n",
    "nombre_sain          2249\n",
    "nombre_exposed        322\n",
    "nombre_recovered    16979\n",
    "Name: 218, dtype: int64"
   ]
  },
  {
   "cell_type": "markdown",
   "id": "a58dcbc7",
   "metadata": {},
   "source": [
    "nombre_infected       462\n",
    "nombre_sain          2287\n",
    "nombre_exposed        328\n",
    "nombre_recovered    16923\n",
    "Name: 219, dtype: int64"
   ]
  },
  {
   "cell_type": "markdown",
   "id": "35a24f3b",
   "metadata": {},
   "source": [
    "nombre_infected       465\n",
    "nombre_sain          2339\n",
    "nombre_exposed        337\n",
    "nombre_recovered    16859\n",
    "Name: 220, dtype: int64"
   ]
  },
  {
   "cell_type": "markdown",
   "id": "fa297431",
   "metadata": {},
   "source": [
    "nombre_infected       472\n",
    "nombre_sain          2395\n",
    "nombre_exposed        332\n",
    "nombre_recovered    16801\n",
    "Name: 221, dtype: int64"
   ]
  },
  {
   "cell_type": "markdown",
   "id": "712ec05f",
   "metadata": {},
   "source": [
    "nombre_infected       480\n",
    "nombre_sain          2458\n",
    "nombre_exposed        323\n",
    "nombre_recovered    16739\n",
    "Name: 222, dtype: int64"
   ]
  },
  {
   "cell_type": "markdown",
   "id": "c4a07a65",
   "metadata": {},
   "source": [
    "nombre_infected       486\n",
    "nombre_sain          2491\n",
    "nombre_exposed        318\n",
    "nombre_recovered    16705\n",
    "Name: 223, dtype: int64"
   ]
  },
  {
   "cell_type": "markdown",
   "id": "9836068b",
   "metadata": {},
   "source": [
    "nombre_infected       473\n",
    "nombre_sain          2533\n",
    "nombre_exposed        347\n",
    "nombre_recovered    16647\n",
    "Name: 224, dtype: int64"
   ]
  },
  {
   "cell_type": "markdown",
   "id": "28fdfb69",
   "metadata": {},
   "source": [
    "nombre_infected       488\n",
    "nombre_sain          2544\n",
    "nombre_exposed        358\n",
    "nombre_recovered    16610\n",
    "Name: 225, dtype: int64"
   ]
  },
  {
   "cell_type": "markdown",
   "id": "c37a7954",
   "metadata": {},
   "source": [
    "nombre_infected       480\n",
    "nombre_sain          2579\n",
    "nombre_exposed        373\n",
    "nombre_recovered    16568\n",
    "Name: 226, dtype: int64"
   ]
  },
  {
   "cell_type": "markdown",
   "id": "4ce10b81",
   "metadata": {},
   "source": [
    "nombre_infected       491\n",
    "nombre_sain          2636\n",
    "nombre_exposed        360\n",
    "nombre_recovered    16513\n",
    "Name: 227, dtype: int64"
   ]
  },
  {
   "cell_type": "markdown",
   "id": "bc2d05a7",
   "metadata": {},
   "source": [
    "nombre_infected       505\n",
    "nombre_sain          2678\n",
    "nombre_exposed        352\n",
    "nombre_recovered    16465\n",
    "Name: 228, dtype: int64"
   ]
  },
  {
   "cell_type": "markdown",
   "id": "6ff72927",
   "metadata": {},
   "source": [
    "nombre_infected       474\n",
    "nombre_sain          2713\n",
    "nombre_exposed        374\n",
    "nombre_recovered    16439\n",
    "Name: 229, dtype: int64"
   ]
  },
  {
   "cell_type": "markdown",
   "id": "500c62c3",
   "metadata": {},
   "source": [
    "nombre_infected       494\n",
    "nombre_sain          2710\n",
    "nombre_exposed        398\n",
    "nombre_recovered    16398\n",
    "Name: 230, dtype: int64"
   ]
  },
  {
   "cell_type": "markdown",
   "id": "ebf25f87",
   "metadata": {},
   "source": [
    "nombre_infected       501\n",
    "nombre_sain          2725\n",
    "nombre_exposed        408\n",
    "nombre_recovered    16366\n",
    "Name: 231, dtype: int64"
   ]
  },
  {
   "cell_type": "markdown",
   "id": "f7e52419",
   "metadata": {},
   "source": [
    "nombre_infected       510\n",
    "nombre_sain          2732\n",
    "nombre_exposed        415\n",
    "nombre_recovered    16343\n",
    "Name: 232, dtype: int64"
   ]
  },
  {
   "cell_type": "markdown",
   "id": "03d12c4a",
   "metadata": {},
   "source": [
    "nombre_infected       538\n",
    "nombre_sain          2732\n",
    "nombre_exposed        422\n",
    "nombre_recovered    16308\n",
    "Name: 233, dtype: int64"
   ]
  },
  {
   "cell_type": "markdown",
   "id": "03454221",
   "metadata": {},
   "source": [
    "nombre_infected       542\n",
    "nombre_sain          2742\n",
    "nombre_exposed        431\n",
    "nombre_recovered    16285\n",
    "Name: 234, dtype: int64"
   ]
  },
  {
   "cell_type": "markdown",
   "id": "15212a10",
   "metadata": {},
   "source": [
    "nombre_infected       574\n",
    "nombre_sain          2742\n",
    "nombre_exposed        425\n",
    "nombre_recovered    16259\n",
    "Name: 235, dtype: int64"
   ]
  },
  {
   "cell_type": "markdown",
   "id": "975ebda4",
   "metadata": {},
   "source": [
    "nombre_infected       602\n",
    "nombre_sain          2734\n",
    "nombre_exposed        430\n",
    "nombre_recovered    16234\n",
    "Name: 236, dtype: int64"
   ]
  },
  {
   "cell_type": "markdown",
   "id": "ea516bda",
   "metadata": {},
   "source": [
    "nombre_infected       627\n",
    "nombre_sain          2711\n",
    "nombre_exposed        458\n",
    "nombre_recovered    16204\n",
    "Name: 237, dtype: int64"
   ]
  },
  {
   "cell_type": "markdown",
   "id": "fc640a0f",
   "metadata": {},
   "source": [
    "nombre_infected       657\n",
    "nombre_sain          2691\n",
    "nombre_exposed        475\n",
    "nombre_recovered    16177\n",
    "Name: 238, dtype: int64"
   ]
  },
  {
   "cell_type": "markdown",
   "id": "47fbb966",
   "metadata": {},
   "source": [
    "nombre_infected       658\n",
    "nombre_sain          2672\n",
    "nombre_exposed        501\n",
    "nombre_recovered    16169\n",
    "Name: 239, dtype: int64"
   ]
  },
  {
   "cell_type": "markdown",
   "id": "479e1f85",
   "metadata": {},
   "source": [
    "nombre_infected       684\n",
    "nombre_sain          2636\n",
    "nombre_exposed        510\n",
    "nombre_recovered    16170\n",
    "Name: 240, dtype: int64"
   ]
  },
  {
   "cell_type": "markdown",
   "id": "7b4f635c",
   "metadata": {},
   "source": [
    "nombre_infected       695\n",
    "nombre_sain          2638\n",
    "nombre_exposed        506\n",
    "nombre_recovered    16161\n",
    "Name: 241, dtype: int64"
   ]
  },
  {
   "cell_type": "markdown",
   "id": "d840c375",
   "metadata": {},
   "source": [
    "nombre_infected       718\n",
    "nombre_sain          2614\n",
    "nombre_exposed        502\n",
    "nombre_recovered    16166\n",
    "Name: 242, dtype: int64"
   ]
  },
  {
   "cell_type": "markdown",
   "id": "9bec1857",
   "metadata": {},
   "source": [
    "nombre_infected       733\n",
    "nombre_sain          2561\n",
    "nombre_exposed        541\n",
    "nombre_recovered    16165\n",
    "Name: 243, dtype: int64"
   ]
  },
  {
   "cell_type": "markdown",
   "id": "16e64cbc",
   "metadata": {},
   "source": [
    "nombre_infected       735\n",
    "nombre_sain          2527\n",
    "nombre_exposed        567\n",
    "nombre_recovered    16171\n",
    "Name: 244, dtype: int64"
   ]
  },
  {
   "cell_type": "markdown",
   "id": "48c2476c",
   "metadata": {},
   "source": [
    "nombre_infected       757\n",
    "nombre_sain          2517\n",
    "nombre_exposed        551\n",
    "nombre_recovered    16175\n",
    "Name: 245, dtype: int64"
   ]
  },
  {
   "cell_type": "markdown",
   "id": "0a1a4d50",
   "metadata": {},
   "source": [
    "nombre_infected       782\n",
    "nombre_sain          2515\n",
    "nombre_exposed        529\n",
    "nombre_recovered    16174\n",
    "Name: 246, dtype: int64"
   ]
  },
  {
   "cell_type": "markdown",
   "id": "7f1d5e00",
   "metadata": {},
   "source": [
    "nombre_infected       796\n",
    "nombre_sain          2511\n",
    "nombre_exposed        522\n",
    "nombre_recovered    16171\n",
    "Name: 247, dtype: int64"
   ]
  },
  {
   "cell_type": "markdown",
   "id": "3e517f16",
   "metadata": {},
   "source": [
    "nombre_infected       829\n",
    "nombre_sain          2488\n",
    "nombre_exposed        507\n",
    "nombre_recovered    16176\n",
    "Name: 248, dtype: int64"
   ]
  },
  {
   "cell_type": "markdown",
   "id": "3cc737dd",
   "metadata": {},
   "source": [
    "nombre_infected       839\n",
    "nombre_sain          2469\n",
    "nombre_exposed        515\n",
    "nombre_recovered    16177\n",
    "Name: 249, dtype: int64"
   ]
  },
  {
   "cell_type": "markdown",
   "id": "a8a847c3",
   "metadata": {},
   "source": [
    "nombre_infected       840\n",
    "nombre_sain          2457\n",
    "nombre_exposed        530\n",
    "nombre_recovered    16173\n",
    "Name: 250, dtype: int64"
   ]
  },
  {
   "cell_type": "markdown",
   "id": "b9483efc",
   "metadata": {},
   "source": [
    "nombre_infected       838\n",
    "nombre_sain          2425\n",
    "nombre_exposed        543\n",
    "nombre_recovered    16194\n",
    "Name: 251, dtype: int64"
   ]
  },
  {
   "cell_type": "markdown",
   "id": "88c0c322",
   "metadata": {},
   "source": [
    "nombre_infected       825\n",
    "nombre_sain          2410\n",
    "nombre_exposed        536\n",
    "nombre_recovered    16229\n",
    "Name: 252, dtype: int64"
   ]
  },
  {
   "cell_type": "markdown",
   "id": "b72cd9ac",
   "metadata": {},
   "source": [
    "nombre_infected       827\n",
    "nombre_sain          2401\n",
    "nombre_exposed        550\n",
    "nombre_recovered    16222\n",
    "Name: 253, dtype: int64"
   ]
  },
  {
   "cell_type": "markdown",
   "id": "e494dbe9",
   "metadata": {},
   "source": [
    "nombre_infected       849\n",
    "nombre_sain          2380\n",
    "nombre_exposed        562\n",
    "nombre_recovered    16209\n",
    "Name: 254, dtype: int64"
   ]
  },
  {
   "cell_type": "markdown",
   "id": "e356d573",
   "metadata": {},
   "source": [
    "nombre_infected       869\n",
    "nombre_sain          2352\n",
    "nombre_exposed        572\n",
    "nombre_recovered    16207\n",
    "Name: 255, dtype: int64"
   ]
  },
  {
   "cell_type": "markdown",
   "id": "84803d3d",
   "metadata": {},
   "source": [
    "nombre_infected       858\n",
    "nombre_sain          2317\n",
    "nombre_exposed        590\n",
    "nombre_recovered    16235\n",
    "Name: 256, dtype: int64"
   ]
  },
  {
   "cell_type": "markdown",
   "id": "bfe436bd",
   "metadata": {},
   "source": [
    "nombre_infected       879\n",
    "nombre_sain          2330\n",
    "nombre_exposed        556\n",
    "nombre_recovered    16235\n",
    "Name: 257, dtype: int64"
   ]
  },
  {
   "cell_type": "markdown",
   "id": "53f019f2",
   "metadata": {},
   "source": [
    "nombre_infected       893\n",
    "nombre_sain          2329\n",
    "nombre_exposed        558\n",
    "nombre_recovered    16220\n",
    "Name: 258, dtype: int64"
   ]
  },
  {
   "cell_type": "markdown",
   "id": "99c9d03a",
   "metadata": {},
   "source": [
    "nombre_infected       916\n",
    "nombre_sain          2328\n",
    "nombre_exposed        542\n",
    "nombre_recovered    16214\n",
    "Name: 259, dtype: int64"
   ]
  },
  {
   "cell_type": "markdown",
   "id": "d4f17235",
   "metadata": {},
   "source": [
    "nombre_infected       919\n",
    "nombre_sain          2342\n",
    "nombre_exposed        530\n",
    "nombre_recovered    16209\n",
    "Name: 260, dtype: int64"
   ]
  },
  {
   "cell_type": "markdown",
   "id": "f1ffc0f6",
   "metadata": {},
   "source": [
    "nombre_infected       918\n",
    "nombre_sain          2320\n",
    "nombre_exposed        522\n",
    "nombre_recovered    16240\n",
    "Name: 261, dtype: int64"
   ]
  },
  {
   "cell_type": "markdown",
   "id": "af1a2fba",
   "metadata": {},
   "source": [
    "nombre_infected       914\n",
    "nombre_sain          2312\n",
    "nombre_exposed        534\n",
    "nombre_recovered    16240\n",
    "Name: 262, dtype: int64"
   ]
  },
  {
   "cell_type": "markdown",
   "id": "6974748c",
   "metadata": {},
   "source": [
    "nombre_infected       891\n",
    "nombre_sain          2312\n",
    "nombre_exposed        541\n",
    "nombre_recovered    16256\n",
    "Name: 263, dtype: int64"
   ]
  },
  {
   "cell_type": "markdown",
   "id": "77a96a22",
   "metadata": {},
   "source": [
    "nombre_infected       897\n",
    "nombre_sain          2310\n",
    "nombre_exposed        559\n",
    "nombre_recovered    16234\n",
    "Name: 264, dtype: int64"
   ]
  },
  {
   "cell_type": "markdown",
   "id": "f3e522a5",
   "metadata": {},
   "source": [
    "nombre_infected       920\n",
    "nombre_sain          2315\n",
    "nombre_exposed        542\n",
    "nombre_recovered    16223\n",
    "Name: 265, dtype: int64"
   ]
  },
  {
   "cell_type": "markdown",
   "id": "fb471673",
   "metadata": {},
   "source": [
    "nombre_infected       930\n",
    "nombre_sain          2315\n",
    "nombre_exposed        531\n",
    "nombre_recovered    16224\n",
    "Name: 266, dtype: int64"
   ]
  },
  {
   "cell_type": "markdown",
   "id": "f3b4df9f",
   "metadata": {},
   "source": [
    "nombre_infected       925\n",
    "nombre_sain          2311\n",
    "nombre_exposed        543\n",
    "nombre_recovered    16221\n",
    "Name: 267, dtype: int64"
   ]
  },
  {
   "cell_type": "markdown",
   "id": "a584fa11",
   "metadata": {},
   "source": [
    "nombre_infected       908\n",
    "nombre_sain          2319\n",
    "nombre_exposed        536\n",
    "nombre_recovered    16237\n",
    "Name: 268, dtype: int64"
   ]
  },
  {
   "cell_type": "markdown",
   "id": "086090fa",
   "metadata": {},
   "source": [
    "nombre_infected       914\n",
    "nombre_sain          2288\n",
    "nombre_exposed        552\n",
    "nombre_recovered    16246\n",
    "Name: 269, dtype: int64"
   ]
  },
  {
   "cell_type": "markdown",
   "id": "99bd3998",
   "metadata": {},
   "source": [
    "nombre_infected       912\n",
    "nombre_sain          2271\n",
    "nombre_exposed        553\n",
    "nombre_recovered    16264\n",
    "Name: 270, dtype: int64"
   ]
  },
  {
   "cell_type": "markdown",
   "id": "303335e2",
   "metadata": {},
   "source": [
    "nombre_infected       910\n",
    "nombre_sain          2266\n",
    "nombre_exposed        541\n",
    "nombre_recovered    16283\n",
    "Name: 271, dtype: int64"
   ]
  },
  {
   "cell_type": "markdown",
   "id": "4320fa7a",
   "metadata": {},
   "source": [
    "nombre_infected       888\n",
    "nombre_sain          2264\n",
    "nombre_exposed        552\n",
    "nombre_recovered    16296\n",
    "Name: 272, dtype: int64"
   ]
  },
  {
   "cell_type": "markdown",
   "id": "20508e47",
   "metadata": {},
   "source": [
    "nombre_infected       863\n",
    "nombre_sain          2260\n",
    "nombre_exposed        561\n",
    "nombre_recovered    16316\n",
    "Name: 273, dtype: int64"
   ]
  },
  {
   "cell_type": "markdown",
   "id": "b7cbb132",
   "metadata": {},
   "source": [
    "nombre_infected       874\n",
    "nombre_sain          2265\n",
    "nombre_exposed        536\n",
    "nombre_recovered    16325\n",
    "Name: 274, dtype: int64"
   ]
  },
  {
   "cell_type": "markdown",
   "id": "270cb4a3",
   "metadata": {},
   "source": [
    "nombre_infected       894\n",
    "nombre_sain          2253\n",
    "nombre_exposed        522\n",
    "nombre_recovered    16331\n",
    "Name: 275, dtype: int64"
   ]
  },
  {
   "cell_type": "markdown",
   "id": "bcc68f7e",
   "metadata": {},
   "source": [
    "nombre_infected       900\n",
    "nombre_sain          2223\n",
    "nombre_exposed        522\n",
    "nombre_recovered    16355\n",
    "Name: 276, dtype: int64"
   ]
  },
  {
   "cell_type": "markdown",
   "id": "887fb677",
   "metadata": {},
   "source": [
    "nombre_infected       894\n",
    "nombre_sain          2183\n",
    "nombre_exposed        549\n",
    "nombre_recovered    16374\n",
    "Name: 277, dtype: int64"
   ]
  },
  {
   "cell_type": "markdown",
   "id": "75ca42fa",
   "metadata": {},
   "source": [
    "nombre_infected       903\n",
    "nombre_sain          2171\n",
    "nombre_exposed        543\n",
    "nombre_recovered    16383\n",
    "Name: 278, dtype: int64"
   ]
  },
  {
   "cell_type": "markdown",
   "id": "21dffef6",
   "metadata": {},
   "source": [
    "nombre_infected       894\n",
    "nombre_sain          2134\n",
    "nombre_exposed        547\n",
    "nombre_recovered    16425\n",
    "Name: 279, dtype: int64"
   ]
  },
  {
   "cell_type": "markdown",
   "id": "4f34f048",
   "metadata": {},
   "source": [
    "nombre_infected       890\n",
    "nombre_sain          2107\n",
    "nombre_exposed        549\n",
    "nombre_recovered    16454\n",
    "Name: 280, dtype: int64"
   ]
  },
  {
   "cell_type": "markdown",
   "id": "2572ab27",
   "metadata": {},
   "source": [
    "nombre_infected       893\n",
    "nombre_sain          2091\n",
    "nombre_exposed        548\n",
    "nombre_recovered    16468\n",
    "Name: 281, dtype: int64"
   ]
  },
  {
   "cell_type": "markdown",
   "id": "faa0dbab",
   "metadata": {},
   "source": [
    "nombre_infected       904\n",
    "nombre_sain          2062\n",
    "nombre_exposed        540\n",
    "nombre_recovered    16494\n",
    "Name: 282, dtype: int64"
   ]
  },
  {
   "cell_type": "markdown",
   "id": "67dd3f97",
   "metadata": {},
   "source": [
    "nombre_infected       898\n",
    "nombre_sain          2048\n",
    "nombre_exposed        529\n",
    "nombre_recovered    16525\n",
    "Name: 283, dtype: int64"
   ]
  },
  {
   "cell_type": "markdown",
   "id": "516e58ec",
   "metadata": {},
   "source": [
    "nombre_infected       901\n",
    "nombre_sain          2024\n",
    "nombre_exposed        528\n",
    "nombre_recovered    16547\n",
    "Name: 284, dtype: int64"
   ]
  },
  {
   "cell_type": "markdown",
   "id": "0973c76c",
   "metadata": {},
   "source": [
    "nombre_infected       900\n",
    "nombre_sain          1973\n",
    "nombre_exposed        536\n",
    "nombre_recovered    16591\n",
    "Name: 285, dtype: int64"
   ]
  },
  {
   "cell_type": "markdown",
   "id": "530d0192",
   "metadata": {},
   "source": [
    "nombre_infected       862\n",
    "nombre_sain          1961\n",
    "nombre_exposed        536\n",
    "nombre_recovered    16641\n",
    "Name: 286, dtype: int64"
   ]
  },
  {
   "cell_type": "markdown",
   "id": "cb6d276e",
   "metadata": {},
   "source": [
    "nombre_infected       895\n",
    "nombre_sain          1947\n",
    "nombre_exposed        504\n",
    "nombre_recovered    16654\n",
    "Name: 287, dtype: int64"
   ]
  },
  {
   "cell_type": "markdown",
   "id": "6de22486",
   "metadata": {},
   "source": [
    "nombre_infected       867\n",
    "nombre_sain          1947\n",
    "nombre_exposed        506\n",
    "nombre_recovered    16680\n",
    "Name: 288, dtype: int64"
   ]
  },
  {
   "cell_type": "markdown",
   "id": "4f92b598",
   "metadata": {},
   "source": [
    "nombre_infected       846\n",
    "nombre_sain          1950\n",
    "nombre_exposed        516\n",
    "nombre_recovered    16688\n",
    "Name: 289, dtype: int64"
   ]
  },
  {
   "cell_type": "markdown",
   "id": "680e6037",
   "metadata": {},
   "source": [
    "nombre_infected       853\n",
    "nombre_sain          1951\n",
    "nombre_exposed        505\n",
    "nombre_recovered    16691\n",
    "Name: 290, dtype: int64"
   ]
  },
  {
   "cell_type": "markdown",
   "id": "d95759f1",
   "metadata": {},
   "source": [
    "nombre_infected       845\n",
    "nombre_sain          1962\n",
    "nombre_exposed        490\n",
    "nombre_recovered    16703\n",
    "Name: 291, dtype: int64"
   ]
  },
  {
   "cell_type": "markdown",
   "id": "eec13ead",
   "metadata": {},
   "source": [
    "nombre_infected       828\n",
    "nombre_sain          1982\n",
    "nombre_exposed        480\n",
    "nombre_recovered    16710\n",
    "Name: 292, dtype: int64"
   ]
  },
  {
   "cell_type": "markdown",
   "id": "2a635d00",
   "metadata": {},
   "source": [
    "nombre_infected       845\n",
    "nombre_sain          1984\n",
    "nombre_exposed        466\n",
    "nombre_recovered    16705\n",
    "Name: 293, dtype: int64"
   ]
  },
  {
   "cell_type": "markdown",
   "id": "837c5e58",
   "metadata": {},
   "source": [
    "nombre_infected       847\n",
    "nombre_sain          1987\n",
    "nombre_exposed        462\n",
    "nombre_recovered    16704\n",
    "Name: 294, dtype: int64"
   ]
  },
  {
   "cell_type": "markdown",
   "id": "ebae2f01",
   "metadata": {},
   "source": [
    "nombre_infected       833\n",
    "nombre_sain          2006\n",
    "nombre_exposed        451\n",
    "nombre_recovered    16710\n",
    "Name: 295, dtype: int64"
   ]
  },
  {
   "cell_type": "markdown",
   "id": "5cc12957",
   "metadata": {},
   "source": [
    "nombre_infected       833\n",
    "nombre_sain          1988\n",
    "nombre_exposed        469\n",
    "nombre_recovered    16710\n",
    "Name: 296, dtype: int64"
   ]
  },
  {
   "cell_type": "markdown",
   "id": "6f47a4e4",
   "metadata": {},
   "source": [
    "nombre_infected       800\n",
    "nombre_sain          1986\n",
    "nombre_exposed        487\n",
    "nombre_recovered    16727\n",
    "Name: 297, dtype: int64"
   ]
  },
  {
   "cell_type": "markdown",
   "id": "5ee0b500",
   "metadata": {},
   "source": [
    "nombre_infected       783\n",
    "nombre_sain          2006\n",
    "nombre_exposed        484\n",
    "nombre_recovered    16727\n",
    "Name: 298, dtype: int64"
   ]
  },
  {
   "cell_type": "markdown",
   "id": "4179572d",
   "metadata": {},
   "source": [
    "nombre_infected       785\n",
    "nombre_sain          1995\n",
    "nombre_exposed        460\n",
    "nombre_recovered    16760\n",
    "Name: 299, dtype: int64"
   ]
  },
  {
   "cell_type": "markdown",
   "id": "7111f4e7",
   "metadata": {},
   "source": [
    "nombre_infected       751\n",
    "nombre_sain          1993\n",
    "nombre_exposed        457\n",
    "nombre_recovered    16799\n",
    "Name: 300, dtype: int64"
   ]
  },
  {
   "cell_type": "markdown",
   "id": "c220c09d",
   "metadata": {},
   "source": [
    "nombre_infected       729\n",
    "nombre_sain          2014\n",
    "nombre_exposed        440\n",
    "nombre_recovered    16817\n",
    "Name: 301, dtype: int64"
   ]
  },
  {
   "cell_type": "markdown",
   "id": "1ff8522f",
   "metadata": {},
   "source": [
    "nombre_infected       713\n",
    "nombre_sain          2031\n",
    "nombre_exposed        432\n",
    "nombre_recovered    16824\n",
    "Name: 302, dtype: int64"
   ]
  },
  {
   "cell_type": "markdown",
   "id": "cd0c2b23",
   "metadata": {},
   "source": [
    "nombre_infected       698\n",
    "nombre_sain          2058\n",
    "nombre_exposed        416\n",
    "nombre_recovered    16828\n",
    "Name: 303, dtype: int64"
   ]
  },
  {
   "cell_type": "markdown",
   "id": "9a7909aa",
   "metadata": {},
   "source": [
    "nombre_infected       703\n",
    "nombre_sain          2065\n",
    "nombre_exposed        428\n",
    "nombre_recovered    16804\n",
    "Name: 304, dtype: int64"
   ]
  },
  {
   "cell_type": "markdown",
   "id": "af1462fa",
   "metadata": {},
   "source": [
    "nombre_infected       692\n",
    "nombre_sain          2085\n",
    "nombre_exposed        416\n",
    "nombre_recovered    16807\n",
    "Name: 305, dtype: int64"
   ]
  },
  {
   "cell_type": "markdown",
   "id": "b60cb246",
   "metadata": {},
   "source": [
    "nombre_infected       694\n",
    "nombre_sain          2106\n",
    "nombre_exposed        401\n",
    "nombre_recovered    16799\n",
    "Name: 306, dtype: int64"
   ]
  },
  {
   "cell_type": "markdown",
   "id": "a1d0ed6b",
   "metadata": {},
   "source": [
    "nombre_infected       672\n",
    "nombre_sain          2157\n",
    "nombre_exposed        397\n",
    "nombre_recovered    16774\n",
    "Name: 307, dtype: int64"
   ]
  },
  {
   "cell_type": "markdown",
   "id": "c05cec1b",
   "metadata": {},
   "source": [
    "nombre_infected       666\n",
    "nombre_sain          2211\n",
    "nombre_exposed        390\n",
    "nombre_recovered    16733\n",
    "Name: 308, dtype: int64"
   ]
  },
  {
   "cell_type": "markdown",
   "id": "96e4c543",
   "metadata": {},
   "source": [
    "nombre_infected       651\n",
    "nombre_sain          2254\n",
    "nombre_exposed        394\n",
    "nombre_recovered    16701\n",
    "Name: 309, dtype: int64"
   ]
  },
  {
   "cell_type": "markdown",
   "id": "f6cea009",
   "metadata": {},
   "source": [
    "nombre_infected       653\n",
    "nombre_sain          2265\n",
    "nombre_exposed        395\n",
    "nombre_recovered    16687\n",
    "Name: 310, dtype: int64"
   ]
  },
  {
   "cell_type": "markdown",
   "id": "a27bad6d",
   "metadata": {},
   "source": [
    "nombre_infected       635\n",
    "nombre_sain          2316\n",
    "nombre_exposed        395\n",
    "nombre_recovered    16654\n",
    "Name: 311, dtype: int64"
   ]
  },
  {
   "cell_type": "markdown",
   "id": "fa3db64d",
   "metadata": {},
   "source": [
    "nombre_infected       631\n",
    "nombre_sain          2332\n",
    "nombre_exposed        404\n",
    "nombre_recovered    16633\n",
    "Name: 312, dtype: int64"
   ]
  },
  {
   "cell_type": "markdown",
   "id": "24f2293a",
   "metadata": {},
   "source": [
    "nombre_infected       633\n",
    "nombre_sain          2346\n",
    "nombre_exposed        405\n",
    "nombre_recovered    16616\n",
    "Name: 313, dtype: int64"
   ]
  },
  {
   "cell_type": "markdown",
   "id": "bb0db6ac",
   "metadata": {},
   "source": [
    "nombre_infected       652\n",
    "nombre_sain          2352\n",
    "nombre_exposed        400\n",
    "nombre_recovered    16596\n",
    "Name: 314, dtype: int64"
   ]
  },
  {
   "cell_type": "markdown",
   "id": "016157db",
   "metadata": {},
   "source": [
    "nombre_infected       650\n",
    "nombre_sain          2355\n",
    "nombre_exposed        420\n",
    "nombre_recovered    16575\n",
    "Name: 315, dtype: int64"
   ]
  },
  {
   "cell_type": "markdown",
   "id": "e17c24e8",
   "metadata": {},
   "source": [
    "nombre_infected       643\n",
    "nombre_sain          2361\n",
    "nombre_exposed        421\n",
    "nombre_recovered    16575\n",
    "Name: 316, dtype: int64"
   ]
  },
  {
   "cell_type": "markdown",
   "id": "82503a0f",
   "metadata": {},
   "source": [
    "nombre_infected       660\n",
    "nombre_sain          2359\n",
    "nombre_exposed        419\n",
    "nombre_recovered    16562\n",
    "Name: 317, dtype: int64"
   ]
  },
  {
   "cell_type": "markdown",
   "id": "376a8cb6",
   "metadata": {},
   "source": [
    "nombre_infected       654\n",
    "nombre_sain          2351\n",
    "nombre_exposed        412\n",
    "nombre_recovered    16583\n",
    "Name: 318, dtype: int64"
   ]
  },
  {
   "cell_type": "markdown",
   "id": "e487d1d2",
   "metadata": {},
   "source": [
    "nombre_infected       645\n",
    "nombre_sain          2338\n",
    "nombre_exposed        411\n",
    "nombre_recovered    16606\n",
    "Name: 319, dtype: int64"
   ]
  },
  {
   "cell_type": "markdown",
   "id": "df03f620",
   "metadata": {},
   "source": [
    "nombre_infected       643\n",
    "nombre_sain          2344\n",
    "nombre_exposed        399\n",
    "nombre_recovered    16614\n",
    "Name: 320, dtype: int64"
   ]
  },
  {
   "cell_type": "markdown",
   "id": "caff8109",
   "metadata": {},
   "source": [
    "nombre_infected       636\n",
    "nombre_sain          2328\n",
    "nombre_exposed        394\n",
    "nombre_recovered    16642\n",
    "Name: 321, dtype: int64"
   ]
  },
  {
   "cell_type": "markdown",
   "id": "1c2053f3",
   "metadata": {},
   "source": [
    "nombre_infected       635\n",
    "nombre_sain          2331\n",
    "nombre_exposed        382\n",
    "nombre_recovered    16652\n",
    "Name: 322, dtype: int64"
   ]
  },
  {
   "cell_type": "markdown",
   "id": "bfa78260",
   "metadata": {},
   "source": [
    "nombre_infected       627\n",
    "nombre_sain          2331\n",
    "nombre_exposed        377\n",
    "nombre_recovered    16665\n",
    "Name: 323, dtype: int64"
   ]
  },
  {
   "cell_type": "markdown",
   "id": "2826258a",
   "metadata": {},
   "source": [
    "nombre_infected       636\n",
    "nombre_sain          2343\n",
    "nombre_exposed        354\n",
    "nombre_recovered    16667\n",
    "Name: 324, dtype: int64"
   ]
  },
  {
   "cell_type": "markdown",
   "id": "532c74fe",
   "metadata": {},
   "source": [
    "nombre_infected       628\n",
    "nombre_sain          2319\n",
    "nombre_exposed        353\n",
    "nombre_recovered    16700\n",
    "Name: 325, dtype: int64"
   ]
  },
  {
   "cell_type": "markdown",
   "id": "6daea347",
   "metadata": {},
   "source": [
    "nombre_infected       618\n",
    "nombre_sain          2315\n",
    "nombre_exposed        334\n",
    "nombre_recovered    16733\n",
    "Name: 326, dtype: int64"
   ]
  },
  {
   "cell_type": "markdown",
   "id": "e419b999",
   "metadata": {},
   "source": [
    "nombre_infected       616\n",
    "nombre_sain          2303\n",
    "nombre_exposed        340\n",
    "nombre_recovered    16741\n",
    "Name: 327, dtype: int64"
   ]
  },
  {
   "cell_type": "markdown",
   "id": "2344d94a",
   "metadata": {},
   "source": [
    "nombre_infected       621\n",
    "nombre_sain          2305\n",
    "nombre_exposed        346\n",
    "nombre_recovered    16728\n",
    "Name: 328, dtype: int64"
   ]
  },
  {
   "cell_type": "markdown",
   "id": "a3f4f0a6",
   "metadata": {},
   "source": [
    "nombre_infected       598\n",
    "nombre_sain          2298\n",
    "nombre_exposed        368\n",
    "nombre_recovered    16736\n",
    "Name: 329, dtype: int64"
   ]
  },
  {
   "cell_type": "markdown",
   "id": "b29b76ed",
   "metadata": {},
   "source": [
    "nombre_infected       593\n",
    "nombre_sain          2304\n",
    "nombre_exposed        364\n",
    "nombre_recovered    16739\n",
    "Name: 330, dtype: int64"
   ]
  },
  {
   "cell_type": "markdown",
   "id": "1ee2a318",
   "metadata": {},
   "source": [
    "nombre_infected       587\n",
    "nombre_sain          2323\n",
    "nombre_exposed        370\n",
    "nombre_recovered    16720\n",
    "Name: 331, dtype: int64"
   ]
  },
  {
   "cell_type": "markdown",
   "id": "17bbe0d3",
   "metadata": {},
   "source": [
    "nombre_infected       589\n",
    "nombre_sain          2345\n",
    "nombre_exposed        368\n",
    "nombre_recovered    16698\n",
    "Name: 332, dtype: int64"
   ]
  },
  {
   "cell_type": "markdown",
   "id": "75111f9b",
   "metadata": {},
   "source": [
    "nombre_infected       567\n",
    "nombre_sain          2332\n",
    "nombre_exposed        391\n",
    "nombre_recovered    16710\n",
    "Name: 333, dtype: int64"
   ]
  },
  {
   "cell_type": "markdown",
   "id": "d395bf2f",
   "metadata": {},
   "source": [
    "nombre_infected       569\n",
    "nombre_sain          2351\n",
    "nombre_exposed        398\n",
    "nombre_recovered    16682\n",
    "Name: 334, dtype: int64"
   ]
  },
  {
   "cell_type": "markdown",
   "id": "302ffcdc",
   "metadata": {},
   "source": [
    "nombre_infected       570\n",
    "nombre_sain          2372\n",
    "nombre_exposed        390\n",
    "nombre_recovered    16668\n",
    "Name: 335, dtype: int64"
   ]
  },
  {
   "cell_type": "markdown",
   "id": "8c1845aa",
   "metadata": {},
   "source": [
    "nombre_infected       596\n",
    "nombre_sain          2398\n",
    "nombre_exposed        366\n",
    "nombre_recovered    16640\n",
    "Name: 336, dtype: int64"
   ]
  },
  {
   "cell_type": "markdown",
   "id": "c99287a5",
   "metadata": {},
   "source": [
    "nombre_infected       593\n",
    "nombre_sain          2425\n",
    "nombre_exposed        361\n",
    "nombre_recovered    16621\n",
    "Name: 337, dtype: int64"
   ]
  },
  {
   "cell_type": "markdown",
   "id": "b67a3375",
   "metadata": {},
   "source": [
    "nombre_infected       618\n",
    "nombre_sain          2467\n",
    "nombre_exposed        336\n",
    "nombre_recovered    16579\n",
    "Name: 338, dtype: int64"
   ]
  },
  {
   "cell_type": "markdown",
   "id": "2be0ebbb",
   "metadata": {},
   "source": [
    "nombre_infected       626\n",
    "nombre_sain          2492\n",
    "nombre_exposed        333\n",
    "nombre_recovered    16549\n",
    "Name: 339, dtype: int64"
   ]
  },
  {
   "cell_type": "markdown",
   "id": "073cff9f",
   "metadata": {},
   "source": [
    "nombre_infected       635\n",
    "nombre_sain          2507\n",
    "nombre_exposed        334\n",
    "nombre_recovered    16524\n",
    "Name: 340, dtype: int64"
   ]
  },
  {
   "cell_type": "markdown",
   "id": "742b0773",
   "metadata": {},
   "source": [
    "nombre_infected       614\n",
    "nombre_sain          2520\n",
    "nombre_exposed        338\n",
    "nombre_recovered    16528\n",
    "Name: 341, dtype: int64"
   ]
  },
  {
   "cell_type": "markdown",
   "id": "d4b89bd8",
   "metadata": {},
   "source": [
    "nombre_infected       621\n",
    "nombre_sain          2512\n",
    "nombre_exposed        358\n",
    "nombre_recovered    16509\n",
    "Name: 342, dtype: int64"
   ]
  },
  {
   "cell_type": "markdown",
   "id": "8014d700",
   "metadata": {},
   "source": [
    "nombre_infected       610\n",
    "nombre_sain          2511\n",
    "nombre_exposed        368\n",
    "nombre_recovered    16511\n",
    "Name: 343, dtype: int64"
   ]
  },
  {
   "cell_type": "markdown",
   "id": "18c556ed",
   "metadata": {},
   "source": [
    "nombre_infected       623\n",
    "nombre_sain          2521\n",
    "nombre_exposed        364\n",
    "nombre_recovered    16492\n",
    "Name: 344, dtype: int64"
   ]
  },
  {
   "cell_type": "markdown",
   "id": "53c35b31",
   "metadata": {},
   "source": [
    "nombre_infected       623\n",
    "nombre_sain          2495\n",
    "nombre_exposed        394\n",
    "nombre_recovered    16488\n",
    "Name: 345, dtype: int64"
   ]
  },
  {
   "cell_type": "markdown",
   "id": "fe2f27d9",
   "metadata": {},
   "source": [
    "nombre_infected       620\n",
    "nombre_sain          2506\n",
    "nombre_exposed        402\n",
    "nombre_recovered    16472\n",
    "Name: 346, dtype: int64"
   ]
  },
  {
   "cell_type": "markdown",
   "id": "83ed8018",
   "metadata": {},
   "source": [
    "nombre_infected       624\n",
    "nombre_sain          2521\n",
    "nombre_exposed        426\n",
    "nombre_recovered    16429\n",
    "Name: 347, dtype: int64"
   ]
  },
  {
   "cell_type": "markdown",
   "id": "35c0d067",
   "metadata": {},
   "source": [
    "nombre_infected       641\n",
    "nombre_sain          2546\n",
    "nombre_exposed        428\n",
    "nombre_recovered    16385\n",
    "Name: 348, dtype: int64"
   ]
  },
  {
   "cell_type": "markdown",
   "id": "0b654ff5",
   "metadata": {},
   "source": [
    "nombre_infected       650\n",
    "nombre_sain          2529\n",
    "nombre_exposed        453\n",
    "nombre_recovered    16368\n",
    "Name: 349, dtype: int64"
   ]
  },
  {
   "cell_type": "markdown",
   "id": "391ab0fd",
   "metadata": {},
   "source": [
    "nombre_infected       671\n",
    "nombre_sain          2550\n",
    "nombre_exposed        438\n",
    "nombre_recovered    16341\n",
    "Name: 350, dtype: int64"
   ]
  },
  {
   "cell_type": "markdown",
   "id": "02c72a2d",
   "metadata": {},
   "source": [
    "nombre_infected       700\n",
    "nombre_sain          2556\n",
    "nombre_exposed        431\n",
    "nombre_recovered    16313\n",
    "Name: 351, dtype: int64"
   ]
  },
  {
   "cell_type": "markdown",
   "id": "533ec5fb",
   "metadata": {},
   "source": [
    "nombre_infected       718\n",
    "nombre_sain          2569\n",
    "nombre_exposed        432\n",
    "nombre_recovered    16281\n",
    "Name: 352, dtype: int64"
   ]
  },
  {
   "cell_type": "markdown",
   "id": "7cb1d294",
   "metadata": {},
   "source": [
    "nombre_infected       745\n",
    "nombre_sain          2549\n",
    "nombre_exposed        449\n",
    "nombre_recovered    16257\n",
    "Name: 353, dtype: int64"
   ]
  },
  {
   "cell_type": "markdown",
   "id": "d8230038",
   "metadata": {},
   "source": [
    "nombre_infected       760\n",
    "nombre_sain          2546\n",
    "nombre_exposed        460\n",
    "nombre_recovered    16234\n",
    "Name: 354, dtype: int64"
   ]
  },
  {
   "cell_type": "markdown",
   "id": "1245ea0e",
   "metadata": {},
   "source": [
    "nombre_infected       776\n",
    "nombre_sain          2562\n",
    "nombre_exposed        464\n",
    "nombre_recovered    16198\n",
    "Name: 355, dtype: int64"
   ]
  },
  {
   "cell_type": "markdown",
   "id": "3ed70d49",
   "metadata": {},
   "source": [
    "nombre_infected       816\n",
    "nombre_sain          2565\n",
    "nombre_exposed        452\n",
    "nombre_recovered    16167\n",
    "Name: 356, dtype: int64"
   ]
  },
  {
   "cell_type": "markdown",
   "id": "53324e7d",
   "metadata": {},
   "source": [
    "nombre_infected       823\n",
    "nombre_sain          2550\n",
    "nombre_exposed        468\n",
    "nombre_recovered    16159\n",
    "Name: 357, dtype: int64"
   ]
  },
  {
   "cell_type": "markdown",
   "id": "1b1ec410",
   "metadata": {},
   "source": [
    "nombre_infected       831\n",
    "nombre_sain          2547\n",
    "nombre_exposed        471\n",
    "nombre_recovered    16151\n",
    "Name: 358, dtype: int64"
   ]
  },
  {
   "cell_type": "markdown",
   "id": "12f7d093",
   "metadata": {},
   "source": [
    "nombre_infected       825\n",
    "nombre_sain          2511\n",
    "nombre_exposed        510\n",
    "nombre_recovered    16154\n",
    "Name: 359, dtype: int64"
   ]
  },
  {
   "cell_type": "markdown",
   "id": "ddae7689",
   "metadata": {},
   "source": [
    "nombre_infected       829\n",
    "nombre_sain          2510\n",
    "nombre_exposed        512\n",
    "nombre_recovered    16149\n",
    "Name: 360, dtype: int64"
   ]
  },
  {
   "cell_type": "markdown",
   "id": "426913a5",
   "metadata": {},
   "source": [
    "nombre_infected       850\n",
    "nombre_sain          2459\n",
    "nombre_exposed        525\n",
    "nombre_recovered    16166\n",
    "Name: 361, dtype: int64"
   ]
  },
  {
   "cell_type": "markdown",
   "id": "b2afa759",
   "metadata": {},
   "source": [
    "nombre_infected       861\n",
    "nombre_sain          2439\n",
    "nombre_exposed        547\n",
    "nombre_recovered    16153\n",
    "Name: 362, dtype: int64"
   ]
  },
  {
   "cell_type": "markdown",
   "id": "8d27a3ce",
   "metadata": {},
   "source": [
    "nombre_infected       880\n",
    "nombre_sain          2411\n",
    "nombre_exposed        551\n",
    "nombre_recovered    16158\n",
    "Name: 363, dtype: int64"
   ]
  },
  {
   "cell_type": "markdown",
   "id": "c7c1e8db",
   "metadata": {},
   "source": [
    "nombre_infected       900\n",
    "nombre_sain          2382\n",
    "nombre_exposed        576\n",
    "nombre_recovered    16142\n",
    "Name: 364, dtype: int64"
   ]
  },
  {
   "cell_type": "markdown",
   "id": "491e6f0b",
   "metadata": {},
   "source": [
    "nombre_infected       919\n",
    "nombre_sain          2375\n",
    "nombre_exposed        570\n",
    "nombre_recovered    16136\n",
    "Name: 365, dtype: int64"
   ]
  },
  {
   "cell_type": "markdown",
   "id": "9ba90c37",
   "metadata": {},
   "source": [
    "nombre_infected       944\n",
    "nombre_sain          2330\n",
    "nombre_exposed        595\n",
    "nombre_recovered    16131\n",
    "Name: 366, dtype: int64"
   ]
  },
  {
   "cell_type": "markdown",
   "id": "fedb3e09",
   "metadata": {},
   "source": [
    "nombre_infected       979\n",
    "nombre_sain          2296\n",
    "nombre_exposed        584\n",
    "nombre_recovered    16141\n",
    "Name: 367, dtype: int64"
   ]
  },
  {
   "cell_type": "markdown",
   "id": "dacecf50",
   "metadata": {},
   "source": [
    "nombre_infected       980\n",
    "nombre_sain          2262\n",
    "nombre_exposed        607\n",
    "nombre_recovered    16151\n",
    "Name: 368, dtype: int64"
   ]
  },
  {
   "cell_type": "markdown",
   "id": "6293b2e6",
   "metadata": {},
   "source": [
    "nombre_infected       985\n",
    "nombre_sain          2238\n",
    "nombre_exposed        612\n",
    "nombre_recovered    16165\n",
    "Name: 369, dtype: int64"
   ]
  },
  {
   "cell_type": "markdown",
   "id": "6a9d9ce2",
   "metadata": {},
   "source": [
    "nombre_infected      1025\n",
    "nombre_sain          2199\n",
    "nombre_exposed        591\n",
    "nombre_recovered    16185\n",
    "Name: 370, dtype: int64"
   ]
  },
  {
   "cell_type": "markdown",
   "id": "bdbfd451",
   "metadata": {},
   "source": [
    "nombre_infected      1051\n",
    "nombre_sain          2178\n",
    "nombre_exposed        583\n",
    "nombre_recovered    16188\n",
    "Name: 371, dtype: int64"
   ]
  },
  {
   "cell_type": "markdown",
   "id": "6c0be449",
   "metadata": {},
   "source": [
    "nombre_infected      1064\n",
    "nombre_sain          2119\n",
    "nombre_exposed        589\n",
    "nombre_recovered    16228\n",
    "Name: 372, dtype: int64"
   ]
  },
  {
   "cell_type": "markdown",
   "id": "baceb4c0",
   "metadata": {},
   "source": [
    "nombre_infected      1046\n",
    "nombre_sain          2086\n",
    "nombre_exposed        597\n",
    "nombre_recovered    16271\n",
    "Name: 373, dtype: int64"
   ]
  },
  {
   "cell_type": "markdown",
   "id": "2b21d663",
   "metadata": {},
   "source": [
    "nombre_infected      1054\n",
    "nombre_sain          2031\n",
    "nombre_exposed        590\n",
    "nombre_recovered    16325\n",
    "Name: 374, dtype: int64"
   ]
  },
  {
   "cell_type": "markdown",
   "id": "399ad88e",
   "metadata": {},
   "source": [
    "nombre_infected      1072\n",
    "nombre_sain          2000\n",
    "nombre_exposed        567\n",
    "nombre_recovered    16361\n",
    "Name: 375, dtype: int64"
   ]
  },
  {
   "cell_type": "markdown",
   "id": "d282bc2b",
   "metadata": {},
   "source": [
    "nombre_infected      1052\n",
    "nombre_sain          1953\n",
    "nombre_exposed        576\n",
    "nombre_recovered    16419\n",
    "Name: 376, dtype: int64"
   ]
  },
  {
   "cell_type": "markdown",
   "id": "7fea450f",
   "metadata": {},
   "source": [
    "nombre_infected      1025\n",
    "nombre_sain          1915\n",
    "nombre_exposed        576\n",
    "nombre_recovered    16484\n",
    "Name: 377, dtype: int64"
   ]
  },
  {
   "cell_type": "markdown",
   "id": "65b1f9af",
   "metadata": {},
   "source": [
    "nombre_infected      1011\n",
    "nombre_sain          1877\n",
    "nombre_exposed        573\n",
    "nombre_recovered    16539\n",
    "Name: 378, dtype: int64"
   ]
  },
  {
   "cell_type": "markdown",
   "id": "0eb3157f",
   "metadata": {},
   "source": [
    "nombre_infected      1034\n",
    "nombre_sain          1849\n",
    "nombre_exposed        540\n",
    "nombre_recovered    16577\n",
    "Name: 379, dtype: int64"
   ]
  },
  {
   "cell_type": "markdown",
   "id": "4f913748",
   "metadata": {},
   "source": [
    "nombre_infected      1025\n",
    "nombre_sain          1822\n",
    "nombre_exposed        511\n",
    "nombre_recovered    16642\n",
    "Name: 380, dtype: int64"
   ]
  },
  {
   "cell_type": "markdown",
   "id": "1def5cf3",
   "metadata": {},
   "source": [
    "nombre_infected      1011\n",
    "nombre_sain          1799\n",
    "nombre_exposed        509\n",
    "nombre_recovered    16681\n",
    "Name: 381, dtype: int64"
   ]
  },
  {
   "cell_type": "markdown",
   "id": "c2290085",
   "metadata": {},
   "source": [
    "nombre_infected       969\n",
    "nombre_sain          1814\n",
    "nombre_exposed        483\n",
    "nombre_recovered    16734\n",
    "Name: 382, dtype: int64"
   ]
  },
  {
   "cell_type": "markdown",
   "id": "7f2f9a9f",
   "metadata": {},
   "source": [
    "nombre_infected       958\n",
    "nombre_sain          1784\n",
    "nombre_exposed        473\n",
    "nombre_recovered    16785\n",
    "Name: 383, dtype: int64"
   ]
  },
  {
   "cell_type": "markdown",
   "id": "1d686d80",
   "metadata": {},
   "source": [
    "nombre_infected       937\n",
    "nombre_sain          1799\n",
    "nombre_exposed        458\n",
    "nombre_recovered    16806\n",
    "Name: 384, dtype: int64"
   ]
  },
  {
   "cell_type": "markdown",
   "id": "7b6837b8",
   "metadata": {},
   "source": [
    "nombre_infected       922\n",
    "nombre_sain          1769\n",
    "nombre_exposed        472\n",
    "nombre_recovered    16837\n",
    "Name: 385, dtype: int64"
   ]
  },
  {
   "cell_type": "markdown",
   "id": "def23920",
   "metadata": {},
   "source": [
    "nombre_infected       912\n",
    "nombre_sain          1787\n",
    "nombre_exposed        443\n",
    "nombre_recovered    16858\n",
    "Name: 386, dtype: int64"
   ]
  },
  {
   "cell_type": "markdown",
   "id": "77a59268",
   "metadata": {},
   "source": [
    "nombre_infected       895\n",
    "nombre_sain          1788\n",
    "nombre_exposed        442\n",
    "nombre_recovered    16875\n",
    "Name: 387, dtype: int64"
   ]
  },
  {
   "cell_type": "markdown",
   "id": "d1d23b08",
   "metadata": {},
   "source": [
    "nombre_infected       861\n",
    "nombre_sain          1823\n",
    "nombre_exposed        433\n",
    "nombre_recovered    16883\n",
    "Name: 388, dtype: int64"
   ]
  },
  {
   "cell_type": "markdown",
   "id": "a1cd8c86",
   "metadata": {},
   "source": [
    "nombre_infected       855\n",
    "nombre_sain          1828\n",
    "nombre_exposed        434\n",
    "nombre_recovered    16883\n",
    "Name: 389, dtype: int64"
   ]
  },
  {
   "cell_type": "markdown",
   "id": "f76f877b",
   "metadata": {},
   "source": [
    "nombre_infected       836\n",
    "nombre_sain          1831\n",
    "nombre_exposed        451\n",
    "nombre_recovered    16882\n",
    "Name: 390, dtype: int64"
   ]
  },
  {
   "cell_type": "markdown",
   "id": "7fd1baf6",
   "metadata": {},
   "source": [
    "nombre_infected       805\n",
    "nombre_sain          1832\n",
    "nombre_exposed        466\n",
    "nombre_recovered    16897\n",
    "Name: 391, dtype: int64"
   ]
  },
  {
   "cell_type": "markdown",
   "id": "4844c097",
   "metadata": {},
   "source": [
    "nombre_infected       812\n",
    "nombre_sain          1852\n",
    "nombre_exposed        450\n",
    "nombre_recovered    16886\n",
    "Name: 392, dtype: int64"
   ]
  },
  {
   "cell_type": "markdown",
   "id": "649ae256",
   "metadata": {},
   "source": [
    "nombre_infected       825\n",
    "nombre_sain          1895\n",
    "nombre_exposed        419\n",
    "nombre_recovered    16861\n",
    "Name: 393, dtype: int64"
   ]
  },
  {
   "cell_type": "markdown",
   "id": "689652f7",
   "metadata": {},
   "source": [
    "nombre_infected       804\n",
    "nombre_sain          1919\n",
    "nombre_exposed        417\n",
    "nombre_recovered    16860\n",
    "Name: 394, dtype: int64"
   ]
  },
  {
   "cell_type": "markdown",
   "id": "d2846c96",
   "metadata": {},
   "source": [
    "nombre_infected       804\n",
    "nombre_sain          1970\n",
    "nombre_exposed        408\n",
    "nombre_recovered    16818\n",
    "Name: 395, dtype: int64"
   ]
  },
  {
   "cell_type": "markdown",
   "id": "91e2ec5a",
   "metadata": {},
   "source": [
    "nombre_infected       775\n",
    "nombre_sain          1977\n",
    "nombre_exposed        415\n",
    "nombre_recovered    16833\n",
    "Name: 396, dtype: int64"
   ]
  },
  {
   "cell_type": "markdown",
   "id": "afba5104",
   "metadata": {},
   "source": [
    "nombre_infected       751\n",
    "nombre_sain          1988\n",
    "nombre_exposed        425\n",
    "nombre_recovered    16836\n",
    "Name: 397, dtype: int64"
   ]
  },
  {
   "cell_type": "markdown",
   "id": "7bb6c764",
   "metadata": {},
   "source": [
    "nombre_infected       759\n",
    "nombre_sain          1995\n",
    "nombre_exposed        402\n",
    "nombre_recovered    16844\n",
    "Name: 398, dtype: int64"
   ]
  },
  {
   "cell_type": "markdown",
   "id": "1cfee687",
   "metadata": {},
   "source": [
    "nombre_infected       767\n",
    "nombre_sain          2000\n",
    "nombre_exposed        388\n",
    "nombre_recovered    16845\n",
    "Name: 399, dtype: int64"
   ]
  },
  {
   "cell_type": "markdown",
   "id": "1ff5b459",
   "metadata": {},
   "source": [
    "nombre_infected       750\n",
    "nombre_sain          1993\n",
    "nombre_exposed        396\n",
    "nombre_recovered    16861\n",
    "Name: 400, dtype: int64"
   ]
  },
  {
   "cell_type": "markdown",
   "id": "24384283",
   "metadata": {},
   "source": [
    "nombre_infected       732\n",
    "nombre_sain          1998\n",
    "nombre_exposed        388\n",
    "nombre_recovered    16882\n",
    "Name: 401, dtype: int64"
   ]
  },
  {
   "cell_type": "markdown",
   "id": "c7b22c1a",
   "metadata": {},
   "source": [
    "nombre_infected       729\n",
    "nombre_sain          1992\n",
    "nombre_exposed        383\n",
    "nombre_recovered    16896\n",
    "Name: 402, dtype: int64"
   ]
  },
  {
   "cell_type": "markdown",
   "id": "7ec992ef",
   "metadata": {},
   "source": [
    "nombre_infected       719\n",
    "nombre_sain          2016\n",
    "nombre_exposed        374\n",
    "nombre_recovered    16891\n",
    "Name: 403, dtype: int64"
   ]
  },
  {
   "cell_type": "markdown",
   "id": "bd05c6b4",
   "metadata": {},
   "source": [
    "nombre_infected       709\n",
    "nombre_sain          2033\n",
    "nombre_exposed        386\n",
    "nombre_recovered    16872\n",
    "Name: 404, dtype: int64"
   ]
  },
  {
   "cell_type": "markdown",
   "id": "0e66bbfd",
   "metadata": {},
   "source": [
    "nombre_infected       693\n",
    "nombre_sain          2034\n",
    "nombre_exposed        399\n",
    "nombre_recovered    16874\n",
    "Name: 405, dtype: int64"
   ]
  },
  {
   "cell_type": "markdown",
   "id": "5d438959",
   "metadata": {},
   "source": [
    "nombre_infected       711\n",
    "nombre_sain          2040\n",
    "nombre_exposed        397\n",
    "nombre_recovered    16852\n",
    "Name: 406, dtype: int64"
   ]
  },
  {
   "cell_type": "markdown",
   "id": "f2d70a0b",
   "metadata": {},
   "source": [
    "nombre_infected       690\n",
    "nombre_sain          2067\n",
    "nombre_exposed        402\n",
    "nombre_recovered    16841\n",
    "Name: 407, dtype: int64"
   ]
  },
  {
   "cell_type": "markdown",
   "id": "0fd30433",
   "metadata": {},
   "source": [
    "nombre_infected       675\n",
    "nombre_sain          2107\n",
    "nombre_exposed        401\n",
    "nombre_recovered    16817\n",
    "Name: 408, dtype: int64"
   ]
  },
  {
   "cell_type": "markdown",
   "id": "c1fdb196",
   "metadata": {},
   "source": [
    "nombre_infected       683\n",
    "nombre_sain          2144\n",
    "nombre_exposed        402\n",
    "nombre_recovered    16771\n",
    "Name: 409, dtype: int64"
   ]
  },
  {
   "cell_type": "markdown",
   "id": "9bd40a73",
   "metadata": {},
   "source": [
    "nombre_infected       658\n",
    "nombre_sain          2174\n",
    "nombre_exposed        411\n",
    "nombre_recovered    16757\n",
    "Name: 410, dtype: int64"
   ]
  },
  {
   "cell_type": "markdown",
   "id": "553bc9e2",
   "metadata": {},
   "source": [
    "nombre_infected       644\n",
    "nombre_sain          2189\n",
    "nombre_exposed        417\n",
    "nombre_recovered    16750\n",
    "Name: 411, dtype: int64"
   ]
  },
  {
   "cell_type": "markdown",
   "id": "27ef5767",
   "metadata": {},
   "source": [
    "nombre_infected       640\n",
    "nombre_sain          2202\n",
    "nombre_exposed        439\n",
    "nombre_recovered    16719\n",
    "Name: 412, dtype: int64"
   ]
  },
  {
   "cell_type": "markdown",
   "id": "3a430992",
   "metadata": {},
   "source": [
    "nombre_infected       670\n",
    "nombre_sain          2255\n",
    "nombre_exposed        412\n",
    "nombre_recovered    16663\n",
    "Name: 413, dtype: int64"
   ]
  },
  {
   "cell_type": "markdown",
   "id": "1230d983",
   "metadata": {},
   "source": [
    "nombre_infected       690\n",
    "nombre_sain          2266\n",
    "nombre_exposed        415\n",
    "nombre_recovered    16629\n",
    "Name: 414, dtype: int64"
   ]
  },
  {
   "cell_type": "markdown",
   "id": "5c231640",
   "metadata": {},
   "source": [
    "nombre_infected       675\n",
    "nombre_sain          2287\n",
    "nombre_exposed        430\n",
    "nombre_recovered    16608\n",
    "Name: 415, dtype: int64"
   ]
  },
  {
   "cell_type": "markdown",
   "id": "3780c8a6",
   "metadata": {},
   "source": [
    "nombre_infected       689\n",
    "nombre_sain          2314\n",
    "nombre_exposed        427\n",
    "nombre_recovered    16570\n",
    "Name: 416, dtype: int64"
   ]
  },
  {
   "cell_type": "markdown",
   "id": "6268965c",
   "metadata": {},
   "source": [
    "nombre_infected       712\n",
    "nombre_sain          2334\n",
    "nombre_exposed        414\n",
    "nombre_recovered    16540\n",
    "Name: 417, dtype: int64"
   ]
  },
  {
   "cell_type": "markdown",
   "id": "afd7c522",
   "metadata": {},
   "source": [
    "nombre_infected       728\n",
    "nombre_sain          2372\n",
    "nombre_exposed        429\n",
    "nombre_recovered    16471\n",
    "Name: 418, dtype: int64"
   ]
  },
  {
   "cell_type": "markdown",
   "id": "336f62bb",
   "metadata": {},
   "source": [
    "nombre_infected       729\n",
    "nombre_sain          2425\n",
    "nombre_exposed        431\n",
    "nombre_recovered    16415\n",
    "Name: 419, dtype: int64"
   ]
  },
  {
   "cell_type": "markdown",
   "id": "5f6bfe7e",
   "metadata": {},
   "source": [
    "nombre_infected       725\n",
    "nombre_sain          2454\n",
    "nombre_exposed        442\n",
    "nombre_recovered    16379\n",
    "Name: 420, dtype: int64"
   ]
  },
  {
   "cell_type": "markdown",
   "id": "7967e1cc",
   "metadata": {},
   "source": [
    "nombre_infected       714\n",
    "nombre_sain          2496\n",
    "nombre_exposed        454\n",
    "nombre_recovered    16336\n",
    "Name: 421, dtype: int64"
   ]
  },
  {
   "cell_type": "markdown",
   "id": "00611e48",
   "metadata": {},
   "source": [
    "nombre_infected       726\n",
    "nombre_sain          2521\n",
    "nombre_exposed        448\n",
    "nombre_recovered    16305\n",
    "Name: 422, dtype: int64"
   ]
  },
  {
   "cell_type": "markdown",
   "id": "f147bee5",
   "metadata": {},
   "source": [
    "nombre_infected       714\n",
    "nombre_sain          2510\n",
    "nombre_exposed        475\n",
    "nombre_recovered    16301\n",
    "Name: 423, dtype: int64"
   ]
  },
  {
   "cell_type": "markdown",
   "id": "b0abbd5b",
   "metadata": {},
   "source": [
    "nombre_infected       731\n",
    "nombre_sain          2513\n",
    "nombre_exposed        495\n",
    "nombre_recovered    16261\n",
    "Name: 424, dtype: int64"
   ]
  },
  {
   "cell_type": "markdown",
   "id": "c424a9e9",
   "metadata": {},
   "source": [
    "nombre_infected       745\n",
    "nombre_sain          2514\n",
    "nombre_exposed        505\n",
    "nombre_recovered    16236\n",
    "Name: 425, dtype: int64"
   ]
  },
  {
   "cell_type": "markdown",
   "id": "67cf4a99",
   "metadata": {},
   "source": [
    "nombre_infected       751\n",
    "nombre_sain          2543\n",
    "nombre_exposed        505\n",
    "nombre_recovered    16201\n",
    "Name: 426, dtype: int64"
   ]
  },
  {
   "cell_type": "markdown",
   "id": "2bc4c3a4",
   "metadata": {},
   "source": [
    "nombre_infected       759\n",
    "nombre_sain          2545\n",
    "nombre_exposed        521\n",
    "nombre_recovered    16175\n",
    "Name: 427, dtype: int64"
   ]
  },
  {
   "cell_type": "markdown",
   "id": "ab30ec2e",
   "metadata": {},
   "source": [
    "nombre_infected       759\n",
    "nombre_sain          2578\n",
    "nombre_exposed        507\n",
    "nombre_recovered    16156\n",
    "Name: 428, dtype: int64"
   ]
  },
  {
   "cell_type": "markdown",
   "id": "6a7ce50d",
   "metadata": {},
   "source": [
    "nombre_infected       754\n",
    "nombre_sain          2584\n",
    "nombre_exposed        518\n",
    "nombre_recovered    16144\n",
    "Name: 429, dtype: int64"
   ]
  },
  {
   "cell_type": "markdown",
   "id": "4b80afba",
   "metadata": {},
   "source": [
    "nombre_infected       754\n",
    "nombre_sain          2573\n",
    "nombre_exposed        540\n",
    "nombre_recovered    16133\n",
    "Name: 430, dtype: int64"
   ]
  },
  {
   "cell_type": "markdown",
   "id": "bbc22f0b",
   "metadata": {},
   "source": [
    "nombre_infected       738\n",
    "nombre_sain          2560\n",
    "nombre_exposed        563\n",
    "nombre_recovered    16139\n",
    "Name: 431, dtype: int64"
   ]
  },
  {
   "cell_type": "markdown",
   "id": "6a1b2770",
   "metadata": {},
   "source": [
    "nombre_infected       737\n",
    "nombre_sain          2559\n",
    "nombre_exposed        567\n",
    "nombre_recovered    16137\n",
    "Name: 432, dtype: int64"
   ]
  },
  {
   "cell_type": "markdown",
   "id": "85f004c6",
   "metadata": {},
   "source": [
    "nombre_infected       765\n",
    "nombre_sain          2546\n",
    "nombre_exposed        560\n",
    "nombre_recovered    16129\n",
    "Name: 433, dtype: int64"
   ]
  },
  {
   "cell_type": "markdown",
   "id": "0a2cb899",
   "metadata": {},
   "source": [
    "nombre_infected       780\n",
    "nombre_sain          2512\n",
    "nombre_exposed        586\n",
    "nombre_recovered    16122\n",
    "Name: 434, dtype: int64"
   ]
  },
  {
   "cell_type": "markdown",
   "id": "133f59c6",
   "metadata": {},
   "source": [
    "nombre_infected       801\n",
    "nombre_sain          2512\n",
    "nombre_exposed        571\n",
    "nombre_recovered    16116\n",
    "Name: 435, dtype: int64"
   ]
  },
  {
   "cell_type": "markdown",
   "id": "e2163cf2",
   "metadata": {},
   "source": [
    "nombre_infected       807\n",
    "nombre_sain          2518\n",
    "nombre_exposed        552\n",
    "nombre_recovered    16123\n",
    "Name: 436, dtype: int64"
   ]
  },
  {
   "cell_type": "markdown",
   "id": "8aeaaf7f",
   "metadata": {},
   "source": [
    "nombre_infected       793\n",
    "nombre_sain          2538\n",
    "nombre_exposed        550\n",
    "nombre_recovered    16119\n",
    "Name: 437, dtype: int64"
   ]
  },
  {
   "cell_type": "markdown",
   "id": "accad79a",
   "metadata": {},
   "source": [
    "nombre_infected       785\n",
    "nombre_sain          2537\n",
    "nombre_exposed        568\n",
    "nombre_recovered    16110\n",
    "Name: 438, dtype: int64"
   ]
  },
  {
   "cell_type": "markdown",
   "id": "4f208a34",
   "metadata": {},
   "source": [
    "nombre_infected       793\n",
    "nombre_sain          2538\n",
    "nombre_exposed        559\n",
    "nombre_recovered    16110\n",
    "Name: 439, dtype: int64"
   ]
  },
  {
   "cell_type": "markdown",
   "id": "2c86cd39",
   "metadata": {},
   "source": [
    "nombre_infected       817\n",
    "nombre_sain          2536\n",
    "nombre_exposed        561\n",
    "nombre_recovered    16086\n",
    "Name: 440, dtype: int64"
   ]
  },
  {
   "cell_type": "markdown",
   "id": "0c467d09",
   "metadata": {},
   "source": [
    "nombre_infected       828\n",
    "nombre_sain          2531\n",
    "nombre_exposed        571\n",
    "nombre_recovered    16070\n",
    "Name: 441, dtype: int64"
   ]
  },
  {
   "cell_type": "markdown",
   "id": "7099ef26",
   "metadata": {},
   "source": [
    "nombre_infected       811\n",
    "nombre_sain          2527\n",
    "nombre_exposed        583\n",
    "nombre_recovered    16079\n",
    "Name: 442, dtype: int64"
   ]
  },
  {
   "cell_type": "markdown",
   "id": "2cf2d85e",
   "metadata": {},
   "source": [
    "nombre_infected       812\n",
    "nombre_sain          2541\n",
    "nombre_exposed        587\n",
    "nombre_recovered    16060\n",
    "Name: 443, dtype: int64"
   ]
  },
  {
   "cell_type": "markdown",
   "id": "0beb756f",
   "metadata": {},
   "source": [
    "nombre_infected       824\n",
    "nombre_sain          2529\n",
    "nombre_exposed        586\n",
    "nombre_recovered    16061\n",
    "Name: 444, dtype: int64"
   ]
  },
  {
   "cell_type": "markdown",
   "id": "2cc36b0e",
   "metadata": {},
   "source": [
    "nombre_infected       834\n",
    "nombre_sain          2518\n",
    "nombre_exposed        581\n",
    "nombre_recovered    16067\n",
    "Name: 445, dtype: int64"
   ]
  },
  {
   "cell_type": "markdown",
   "id": "71d78b2a",
   "metadata": {},
   "source": [
    "nombre_infected       830\n",
    "nombre_sain          2502\n",
    "nombre_exposed        576\n",
    "nombre_recovered    16092\n",
    "Name: 446, dtype: int64"
   ]
  },
  {
   "cell_type": "markdown",
   "id": "3dd72f30",
   "metadata": {},
   "source": [
    "nombre_infected       819\n",
    "nombre_sain          2496\n",
    "nombre_exposed        566\n",
    "nombre_recovered    16119\n",
    "Name: 447, dtype: int64"
   ]
  },
  {
   "cell_type": "markdown",
   "id": "1c15cacb",
   "metadata": {},
   "source": [
    "nombre_infected       842\n",
    "nombre_sain          2506\n",
    "nombre_exposed        560\n",
    "nombre_recovered    16092\n",
    "Name: 448, dtype: int64"
   ]
  },
  {
   "cell_type": "markdown",
   "id": "83f575a9",
   "metadata": {},
   "source": [
    "nombre_infected       852\n",
    "nombre_sain          2514\n",
    "nombre_exposed        555\n",
    "nombre_recovered    16079\n",
    "Name: 449, dtype: int64"
   ]
  },
  {
   "cell_type": "markdown",
   "id": "8d99d180",
   "metadata": {},
   "source": [
    "nombre_infected       869\n",
    "nombre_sain          2486\n",
    "nombre_exposed        546\n",
    "nombre_recovered    16099\n",
    "Name: 450, dtype: int64"
   ]
  },
  {
   "cell_type": "markdown",
   "id": "31d6203c",
   "metadata": {},
   "source": [
    "nombre_infected       864\n",
    "nombre_sain          2489\n",
    "nombre_exposed        570\n",
    "nombre_recovered    16077\n",
    "Name: 451, dtype: int64"
   ]
  },
  {
   "cell_type": "markdown",
   "id": "b2cb5145",
   "metadata": {},
   "source": [
    "nombre_infected       861\n",
    "nombre_sain          2485\n",
    "nombre_exposed        571\n",
    "nombre_recovered    16083\n",
    "Name: 452, dtype: int64"
   ]
  },
  {
   "cell_type": "markdown",
   "id": "52bb5517",
   "metadata": {},
   "source": [
    "nombre_infected       868\n",
    "nombre_sain          2480\n",
    "nombre_exposed        566\n",
    "nombre_recovered    16086\n",
    "Name: 453, dtype: int64"
   ]
  },
  {
   "cell_type": "markdown",
   "id": "291dadd9",
   "metadata": {},
   "source": [
    "nombre_infected       871\n",
    "nombre_sain          2487\n",
    "nombre_exposed        555\n",
    "nombre_recovered    16087\n",
    "Name: 454, dtype: int64"
   ]
  },
  {
   "cell_type": "markdown",
   "id": "ad13f954",
   "metadata": {},
   "source": [
    "nombre_infected       884\n",
    "nombre_sain          2469\n",
    "nombre_exposed        570\n",
    "nombre_recovered    16077\n",
    "Name: 455, dtype: int64"
   ]
  },
  {
   "cell_type": "markdown",
   "id": "cedfc0a0",
   "metadata": {},
   "source": [
    "nombre_infected       902\n",
    "nombre_sain          2435\n",
    "nombre_exposed        600\n",
    "nombre_recovered    16063\n",
    "Name: 456, dtype: int64"
   ]
  },
  {
   "cell_type": "markdown",
   "id": "0c18bca8",
   "metadata": {},
   "source": [
    "nombre_infected       916\n",
    "nombre_sain          2416\n",
    "nombre_exposed        595\n",
    "nombre_recovered    16073\n",
    "Name: 457, dtype: int64"
   ]
  },
  {
   "cell_type": "markdown",
   "id": "b108eb44",
   "metadata": {},
   "source": [
    "nombre_infected       936\n",
    "nombre_sain          2404\n",
    "nombre_exposed        592\n",
    "nombre_recovered    16068\n",
    "Name: 458, dtype: int64"
   ]
  },
  {
   "cell_type": "markdown",
   "id": "62894658",
   "metadata": {},
   "source": [
    "nombre_infected       953\n",
    "nombre_sain          2398\n",
    "nombre_exposed        580\n",
    "nombre_recovered    16069\n",
    "Name: 459, dtype: int64"
   ]
  },
  {
   "cell_type": "markdown",
   "id": "b9a4caf0",
   "metadata": {},
   "source": [
    "nombre_infected       954\n",
    "nombre_sain          2380\n",
    "nombre_exposed        586\n",
    "nombre_recovered    16080\n",
    "Name: 460, dtype: int64"
   ]
  },
  {
   "cell_type": "markdown",
   "id": "7b29d960",
   "metadata": {},
   "source": [
    "nombre_infected       961\n",
    "nombre_sain          2355\n",
    "nombre_exposed        601\n",
    "nombre_recovered    16083\n",
    "Name: 461, dtype: int64"
   ]
  },
  {
   "cell_type": "markdown",
   "id": "3ac1344a",
   "metadata": {},
   "source": [
    "nombre_infected       971\n",
    "nombre_sain          2331\n",
    "nombre_exposed        602\n",
    "nombre_recovered    16096\n",
    "Name: 462, dtype: int64"
   ]
  },
  {
   "cell_type": "markdown",
   "id": "00288470",
   "metadata": {},
   "source": [
    "nombre_infected       961\n",
    "nombre_sain          2294\n",
    "nombre_exposed        631\n",
    "nombre_recovered    16114\n",
    "Name: 463, dtype: int64"
   ]
  },
  {
   "cell_type": "markdown",
   "id": "94266c23",
   "metadata": {},
   "source": [
    "nombre_infected       961\n",
    "nombre_sain          2324\n",
    "nombre_exposed        608\n",
    "nombre_recovered    16107\n",
    "Name: 464, dtype: int64"
   ]
  },
  {
   "cell_type": "markdown",
   "id": "8933e337",
   "metadata": {},
   "source": [
    "nombre_infected       994\n",
    "nombre_sain          2298\n",
    "nombre_exposed        589\n",
    "nombre_recovered    16119\n",
    "Name: 465, dtype: int64"
   ]
  },
  {
   "cell_type": "markdown",
   "id": "ff139d0b",
   "metadata": {},
   "source": [
    "nombre_infected       988\n",
    "nombre_sain          2271\n",
    "nombre_exposed        600\n",
    "nombre_recovered    16141\n",
    "Name: 466, dtype: int64"
   ]
  },
  {
   "cell_type": "markdown",
   "id": "5324a181",
   "metadata": {},
   "source": [
    "nombre_infected       984\n",
    "nombre_sain          2266\n",
    "nombre_exposed        604\n",
    "nombre_recovered    16146\n",
    "Name: 467, dtype: int64"
   ]
  },
  {
   "cell_type": "markdown",
   "id": "aacb4feb",
   "metadata": {},
   "source": [
    "nombre_infected       984\n",
    "nombre_sain          2253\n",
    "nombre_exposed        599\n",
    "nombre_recovered    16164\n",
    "Name: 468, dtype: int64"
   ]
  },
  {
   "cell_type": "markdown",
   "id": "557802f4",
   "metadata": {},
   "source": [
    "nombre_infected       949\n",
    "nombre_sain          2222\n",
    "nombre_exposed        597\n",
    "nombre_recovered    16232\n",
    "Name: 469, dtype: int64"
   ]
  },
  {
   "cell_type": "markdown",
   "id": "fcec91fe",
   "metadata": {},
   "source": [
    "nombre_infected       969\n",
    "nombre_sain          2192\n",
    "nombre_exposed        577\n",
    "nombre_recovered    16262\n",
    "Name: 470, dtype: int64"
   ]
  },
  {
   "cell_type": "markdown",
   "id": "761c0ac1",
   "metadata": {},
   "source": [
    "nombre_infected       982\n",
    "nombre_sain          2184\n",
    "nombre_exposed        571\n",
    "nombre_recovered    16263\n",
    "Name: 471, dtype: int64"
   ]
  },
  {
   "cell_type": "markdown",
   "id": "231cf1c2",
   "metadata": {},
   "source": [
    "nombre_infected       987\n",
    "nombre_sain          2164\n",
    "nombre_exposed        560\n",
    "nombre_recovered    16289\n",
    "Name: 472, dtype: int64"
   ]
  },
  {
   "cell_type": "markdown",
   "id": "de52293c",
   "metadata": {},
   "source": [
    "nombre_infected       996\n",
    "nombre_sain          2152\n",
    "nombre_exposed        550\n",
    "nombre_recovered    16302\n",
    "Name: 473, dtype: int64"
   ]
  },
  {
   "cell_type": "markdown",
   "id": "a9a5f058",
   "metadata": {},
   "source": [
    "nombre_infected      1016\n",
    "nombre_sain          2148\n",
    "nombre_exposed        545\n",
    "nombre_recovered    16291\n",
    "Name: 474, dtype: int64"
   ]
  },
  {
   "cell_type": "markdown",
   "id": "5290684e",
   "metadata": {},
   "source": [
    "nombre_infected      1004\n",
    "nombre_sain          2119\n",
    "nombre_exposed        554\n",
    "nombre_recovered    16323\n",
    "Name: 475, dtype: int64"
   ]
  },
  {
   "cell_type": "markdown",
   "id": "1247064c",
   "metadata": {},
   "source": [
    "nombre_infected       981\n",
    "nombre_sain          2092\n",
    "nombre_exposed        567\n",
    "nombre_recovered    16360\n",
    "Name: 476, dtype: int64"
   ]
  },
  {
   "cell_type": "markdown",
   "id": "57a5b076",
   "metadata": {},
   "source": [
    "nombre_infected       970\n",
    "nombre_sain          2079\n",
    "nombre_exposed        550\n",
    "nombre_recovered    16401\n",
    "Name: 477, dtype: int64"
   ]
  },
  {
   "cell_type": "markdown",
   "id": "74ad0017",
   "metadata": {},
   "source": [
    "nombre_infected       970\n",
    "nombre_sain          2077\n",
    "nombre_exposed        533\n",
    "nombre_recovered    16420\n",
    "Name: 478, dtype: int64"
   ]
  },
  {
   "cell_type": "markdown",
   "id": "107a4ecf",
   "metadata": {},
   "source": [
    "nombre_infected       944\n",
    "nombre_sain          2094\n",
    "nombre_exposed        512\n",
    "nombre_recovered    16450\n",
    "Name: 479, dtype: int64"
   ]
  },
  {
   "cell_type": "markdown",
   "id": "a03da1cd",
   "metadata": {},
   "source": [
    "nombre_infected       915\n",
    "nombre_sain          2100\n",
    "nombre_exposed        507\n",
    "nombre_recovered    16478\n",
    "Name: 480, dtype: int64"
   ]
  },
  {
   "cell_type": "markdown",
   "id": "fa3bbd32",
   "metadata": {},
   "source": [
    "nombre_infected       902\n",
    "nombre_sain          2099\n",
    "nombre_exposed        507\n",
    "nombre_recovered    16492\n",
    "Name: 481, dtype: int64"
   ]
  },
  {
   "cell_type": "markdown",
   "id": "e88338e1",
   "metadata": {},
   "source": [
    "nombre_infected       919\n",
    "nombre_sain          2068\n",
    "nombre_exposed        504\n",
    "nombre_recovered    16509\n",
    "Name: 482, dtype: int64"
   ]
  },
  {
   "cell_type": "markdown",
   "id": "034b322b",
   "metadata": {},
   "source": [
    "nombre_infected       898\n",
    "nombre_sain          2057\n",
    "nombre_exposed        505\n",
    "nombre_recovered    16540\n",
    "Name: 483, dtype: int64"
   ]
  },
  {
   "cell_type": "markdown",
   "id": "a3ac9556",
   "metadata": {},
   "source": [
    "nombre_infected       913\n",
    "nombre_sain          2011\n",
    "nombre_exposed        514\n",
    "nombre_recovered    16562\n",
    "Name: 484, dtype: int64"
   ]
  },
  {
   "cell_type": "markdown",
   "id": "398071fc",
   "metadata": {},
   "source": [
    "nombre_infected       910\n",
    "nombre_sain          1995\n",
    "nombre_exposed        507\n",
    "nombre_recovered    16588\n",
    "Name: 485, dtype: int64"
   ]
  },
  {
   "cell_type": "markdown",
   "id": "1914f8e7",
   "metadata": {},
   "source": [
    "nombre_infected       908\n",
    "nombre_sain          1978\n",
    "nombre_exposed        504\n",
    "nombre_recovered    16610\n",
    "Name: 486, dtype: int64"
   ]
  },
  {
   "cell_type": "markdown",
   "id": "327d4253",
   "metadata": {},
   "source": [
    "nombre_infected       901\n",
    "nombre_sain          1976\n",
    "nombre_exposed        508\n",
    "nombre_recovered    16615\n",
    "Name: 487, dtype: int64"
   ]
  },
  {
   "cell_type": "markdown",
   "id": "5d563040",
   "metadata": {},
   "source": [
    "nombre_infected       907\n",
    "nombre_sain          1981\n",
    "nombre_exposed        476\n",
    "nombre_recovered    16636\n",
    "Name: 488, dtype: int64"
   ]
  },
  {
   "cell_type": "markdown",
   "id": "18363356",
   "metadata": {},
   "source": [
    "nombre_infected       893\n",
    "nombre_sain          1996\n",
    "nombre_exposed        465\n",
    "nombre_recovered    16646\n",
    "Name: 489, dtype: int64"
   ]
  },
  {
   "cell_type": "markdown",
   "id": "ad47bb80",
   "metadata": {},
   "source": [
    "nombre_infected       869\n",
    "nombre_sain          2014\n",
    "nombre_exposed        462\n",
    "nombre_recovered    16655\n",
    "Name: 490, dtype: int64"
   ]
  },
  {
   "cell_type": "markdown",
   "id": "a46327ac",
   "metadata": {},
   "source": [
    "nombre_infected       859\n",
    "nombre_sain          2020\n",
    "nombre_exposed        456\n",
    "nombre_recovered    16665\n",
    "Name: 491, dtype: int64"
   ]
  },
  {
   "cell_type": "markdown",
   "id": "9fd659cb",
   "metadata": {},
   "source": [
    "nombre_infected       829\n",
    "nombre_sain          2055\n",
    "nombre_exposed        452\n",
    "nombre_recovered    16664\n",
    "Name: 492, dtype: int64"
   ]
  },
  {
   "cell_type": "markdown",
   "id": "7e87f9ce",
   "metadata": {},
   "source": [
    "nombre_infected       812\n",
    "nombre_sain          2065\n",
    "nombre_exposed        449\n",
    "nombre_recovered    16674\n",
    "Name: 493, dtype: int64"
   ]
  },
  {
   "cell_type": "markdown",
   "id": "42faf06a",
   "metadata": {},
   "source": [
    "nombre_infected       797\n",
    "nombre_sain          2059\n",
    "nombre_exposed        478\n",
    "nombre_recovered    16666\n",
    "Name: 494, dtype: int64"
   ]
  },
  {
   "cell_type": "markdown",
   "id": "d6d17dfa",
   "metadata": {},
   "source": [
    "nombre_infected       773\n",
    "nombre_sain          2067\n",
    "nombre_exposed        504\n",
    "nombre_recovered    16656\n",
    "Name: 495, dtype: int64"
   ]
  },
  {
   "cell_type": "markdown",
   "id": "54c67aa1",
   "metadata": {},
   "source": [
    "nombre_infected       776\n",
    "nombre_sain          2099\n",
    "nombre_exposed        477\n",
    "nombre_recovered    16648\n",
    "Name: 496, dtype: int64"
   ]
  },
  {
   "cell_type": "markdown",
   "id": "4def79b2",
   "metadata": {},
   "source": [
    "nombre_infected       785\n",
    "nombre_sain          2107\n",
    "nombre_exposed        461\n",
    "nombre_recovered    16647\n",
    "Name: 497, dtype: int64"
   ]
  },
  {
   "cell_type": "markdown",
   "id": "19a37de3",
   "metadata": {},
   "source": [
    "nombre_infected       794\n",
    "nombre_sain          2137\n",
    "nombre_exposed        424\n",
    "nombre_recovered    16645\n",
    "Name: 498, dtype: int64"
   ]
  },
  {
   "cell_type": "markdown",
   "id": "d08424ef",
   "metadata": {},
   "source": [
    "nombre_infected       795\n",
    "nombre_sain          2157\n",
    "nombre_exposed        425\n",
    "nombre_recovered    16623\n",
    "Name: 499, dtype: int64"
   ]
  },
  {
   "cell_type": "markdown",
   "id": "ce00d4b1",
   "metadata": {},
   "source": [
    "nombre_infected       753\n",
    "nombre_sain          2202\n",
    "nombre_exposed        420\n",
    "nombre_recovered    16625\n",
    "Name: 500, dtype: int64"
   ]
  },
  {
   "cell_type": "markdown",
   "id": "644410d4",
   "metadata": {},
   "source": [
    "nombre_infected       728\n",
    "nombre_sain          2222\n",
    "nombre_exposed        435\n",
    "nombre_recovered    16615\n",
    "Name: 501, dtype: int64"
   ]
  },
  {
   "cell_type": "markdown",
   "id": "c1f4e90f",
   "metadata": {},
   "source": [
    "nombre_infected       715\n",
    "nombre_sain          2237\n",
    "nombre_exposed        433\n",
    "nombre_recovered    16615\n",
    "Name: 502, dtype: int64"
   ]
  },
  {
   "cell_type": "markdown",
   "id": "47ab1336",
   "metadata": {},
   "source": [
    "nombre_infected       716\n",
    "nombre_sain          2237\n",
    "nombre_exposed        438\n",
    "nombre_recovered    16609\n",
    "Name: 503, dtype: int64"
   ]
  },
  {
   "cell_type": "markdown",
   "id": "a4282adf",
   "metadata": {},
   "source": [
    "nombre_infected       698\n",
    "nombre_sain          2279\n",
    "nombre_exposed        424\n",
    "nombre_recovered    16599\n",
    "Name: 504, dtype: int64"
   ]
  },
  {
   "cell_type": "markdown",
   "id": "94e1c0dd",
   "metadata": {},
   "source": [
    "nombre_infected       717\n",
    "nombre_sain          2308\n",
    "nombre_exposed        415\n",
    "nombre_recovered    16560\n",
    "Name: 505, dtype: int64"
   ]
  },
  {
   "cell_type": "markdown",
   "id": "77f22671",
   "metadata": {},
   "source": [
    "nombre_infected       703\n",
    "nombre_sain          2342\n",
    "nombre_exposed        405\n",
    "nombre_recovered    16550\n",
    "Name: 506, dtype: int64"
   ]
  },
  {
   "cell_type": "markdown",
   "id": "c778b1d1",
   "metadata": {},
   "source": [
    "nombre_infected       699\n",
    "nombre_sain          2355\n",
    "nombre_exposed        416\n",
    "nombre_recovered    16530\n",
    "Name: 507, dtype: int64"
   ]
  },
  {
   "cell_type": "markdown",
   "id": "101e7443",
   "metadata": {},
   "source": [
    "nombre_infected       685\n",
    "nombre_sain          2381\n",
    "nombre_exposed        425\n",
    "nombre_recovered    16509\n",
    "Name: 508, dtype: int64"
   ]
  },
  {
   "cell_type": "markdown",
   "id": "0ae43cdb",
   "metadata": {},
   "source": [
    "nombre_infected       670\n",
    "nombre_sain          2436\n",
    "nombre_exposed        409\n",
    "nombre_recovered    16485\n",
    "Name: 509, dtype: int64"
   ]
  },
  {
   "cell_type": "markdown",
   "id": "909677ea",
   "metadata": {},
   "source": [
    "nombre_infected       678\n",
    "nombre_sain          2472\n",
    "nombre_exposed        401\n",
    "nombre_recovered    16449\n",
    "Name: 510, dtype: int64"
   ]
  },
  {
   "cell_type": "markdown",
   "id": "682212c0",
   "metadata": {},
   "source": [
    "nombre_infected       692\n",
    "nombre_sain          2477\n",
    "nombre_exposed        406\n",
    "nombre_recovered    16425\n",
    "Name: 511, dtype: int64"
   ]
  },
  {
   "cell_type": "markdown",
   "id": "6eb07ce8",
   "metadata": {},
   "source": [
    "nombre_infected       691\n",
    "nombre_sain          2472\n",
    "nombre_exposed        440\n",
    "nombre_recovered    16397\n",
    "Name: 512, dtype: int64"
   ]
  },
  {
   "cell_type": "markdown",
   "id": "9ffcd6f6",
   "metadata": {},
   "source": [
    "nombre_infected       683\n",
    "nombre_sain          2489\n",
    "nombre_exposed        445\n",
    "nombre_recovered    16383\n",
    "Name: 513, dtype: int64"
   ]
  },
  {
   "cell_type": "markdown",
   "id": "4864b9fb",
   "metadata": {},
   "source": [
    "nombre_infected       669\n",
    "nombre_sain          2508\n",
    "nombre_exposed        456\n",
    "nombre_recovered    16367\n",
    "Name: 514, dtype: int64"
   ]
  },
  {
   "cell_type": "markdown",
   "id": "23099395",
   "metadata": {},
   "source": [
    "nombre_infected       675\n",
    "nombre_sain          2508\n",
    "nombre_exposed        463\n",
    "nombre_recovered    16354\n",
    "Name: 515, dtype: int64"
   ]
  },
  {
   "cell_type": "markdown",
   "id": "dd202fec",
   "metadata": {},
   "source": [
    "nombre_infected       664\n",
    "nombre_sain          2533\n",
    "nombre_exposed        471\n",
    "nombre_recovered    16332\n",
    "Name: 516, dtype: int64"
   ]
  },
  {
   "cell_type": "markdown",
   "id": "4a6ebd29",
   "metadata": {},
   "source": [
    "nombre_infected       689\n",
    "nombre_sain          2516\n",
    "nombre_exposed        475\n",
    "nombre_recovered    16320\n",
    "Name: 517, dtype: int64"
   ]
  },
  {
   "cell_type": "markdown",
   "id": "6814f5a9",
   "metadata": {},
   "source": [
    "nombre_infected       686\n",
    "nombre_sain          2530\n",
    "nombre_exposed        498\n",
    "nombre_recovered    16286\n",
    "Name: 518, dtype: int64"
   ]
  },
  {
   "cell_type": "markdown",
   "id": "0b6b404d",
   "metadata": {},
   "source": [
    "nombre_infected       705\n",
    "nombre_sain          2537\n",
    "nombre_exposed        500\n",
    "nombre_recovered    16258\n",
    "Name: 519, dtype: int64"
   ]
  },
  {
   "cell_type": "markdown",
   "id": "7d8d59df",
   "metadata": {},
   "source": [
    "nombre_infected       731\n",
    "nombre_sain          2575\n",
    "nombre_exposed        486\n",
    "nombre_recovered    16208\n",
    "Name: 520, dtype: int64"
   ]
  },
  {
   "cell_type": "markdown",
   "id": "6a2fbc79",
   "metadata": {},
   "source": [
    "nombre_infected       732\n",
    "nombre_sain          2576\n",
    "nombre_exposed        500\n",
    "nombre_recovered    16192\n",
    "Name: 521, dtype: int64"
   ]
  },
  {
   "cell_type": "markdown",
   "id": "8d3fda78",
   "metadata": {},
   "source": [
    "nombre_infected       725\n",
    "nombre_sain          2614\n",
    "nombre_exposed        487\n",
    "nombre_recovered    16174\n",
    "Name: 522, dtype: int64"
   ]
  },
  {
   "cell_type": "markdown",
   "id": "98f6f672",
   "metadata": {},
   "source": [
    "nombre_infected       742\n",
    "nombre_sain          2585\n",
    "nombre_exposed        506\n",
    "nombre_recovered    16167\n",
    "Name: 523, dtype: int64"
   ]
  },
  {
   "cell_type": "markdown",
   "id": "db079cb1",
   "metadata": {},
   "source": [
    "nombre_infected       751\n",
    "nombre_sain          2579\n",
    "nombre_exposed        507\n",
    "nombre_recovered    16163\n",
    "Name: 524, dtype: int64"
   ]
  },
  {
   "cell_type": "markdown",
   "id": "a788a635",
   "metadata": {},
   "source": [
    "nombre_infected       764\n",
    "nombre_sain          2579\n",
    "nombre_exposed        517\n",
    "nombre_recovered    16140\n",
    "Name: 525, dtype: int64"
   ]
  },
  {
   "cell_type": "markdown",
   "id": "0df767cb",
   "metadata": {},
   "source": [
    "nombre_infected       785\n",
    "nombre_sain          2544\n",
    "nombre_exposed        527\n",
    "nombre_recovered    16144\n",
    "Name: 526, dtype: int64"
   ]
  },
  {
   "cell_type": "markdown",
   "id": "e5d6a258",
   "metadata": {},
   "source": [
    "nombre_infected       817\n",
    "nombre_sain          2531\n",
    "nombre_exposed        500\n",
    "nombre_recovered    16152\n",
    "Name: 527, dtype: int64"
   ]
  },
  {
   "cell_type": "markdown",
   "id": "f5ff1423",
   "metadata": {},
   "source": [
    "nombre_infected       846\n",
    "nombre_sain          2525\n",
    "nombre_exposed        514\n",
    "nombre_recovered    16115\n",
    "Name: 528, dtype: int64"
   ]
  },
  {
   "cell_type": "markdown",
   "id": "7e93ab80",
   "metadata": {},
   "source": [
    "nombre_infected       849\n",
    "nombre_sain          2506\n",
    "nombre_exposed        556\n",
    "nombre_recovered    16089\n",
    "Name: 529, dtype: int64"
   ]
  },
  {
   "cell_type": "markdown",
   "id": "6d528ed5",
   "metadata": {},
   "source": [
    "nombre_infected       853\n",
    "nombre_sain          2475\n",
    "nombre_exposed        582\n",
    "nombre_recovered    16090\n",
    "Name: 530, dtype: int64"
   ]
  },
  {
   "cell_type": "markdown",
   "id": "7069124c",
   "metadata": {},
   "source": [
    "nombre_infected       854\n",
    "nombre_sain          2448\n",
    "nombre_exposed        596\n",
    "nombre_recovered    16102\n",
    "Name: 531, dtype: int64"
   ]
  },
  {
   "cell_type": "markdown",
   "id": "ffa324a8",
   "metadata": {},
   "source": [
    "nombre_infected       871\n",
    "nombre_sain          2444\n",
    "nombre_exposed        586\n",
    "nombre_recovered    16099\n",
    "Name: 532, dtype: int64"
   ]
  },
  {
   "cell_type": "markdown",
   "id": "3019ce70",
   "metadata": {},
   "source": [
    "nombre_infected       874\n",
    "nombre_sain          2431\n",
    "nombre_exposed        587\n",
    "nombre_recovered    16108\n",
    "Name: 533, dtype: int64"
   ]
  },
  {
   "cell_type": "markdown",
   "id": "4f3a2ae8",
   "metadata": {},
   "source": [
    "nombre_infected       884\n",
    "nombre_sain          2430\n",
    "nombre_exposed        579\n",
    "nombre_recovered    16107\n",
    "Name: 534, dtype: int64"
   ]
  },
  {
   "cell_type": "markdown",
   "id": "a1f81ca8",
   "metadata": {},
   "source": [
    "nombre_infected       891\n",
    "nombre_sain          2423\n",
    "nombre_exposed        569\n",
    "nombre_recovered    16117\n",
    "Name: 535, dtype: int64"
   ]
  },
  {
   "cell_type": "markdown",
   "id": "bdd1a684",
   "metadata": {},
   "source": [
    "nombre_infected       904\n",
    "nombre_sain          2416\n",
    "nombre_exposed        568\n",
    "nombre_recovered    16112\n",
    "Name: 536, dtype: int64"
   ]
  },
  {
   "cell_type": "markdown",
   "id": "e68ea25e",
   "metadata": {},
   "source": [
    "nombre_infected       910\n",
    "nombre_sain          2388\n",
    "nombre_exposed        571\n",
    "nombre_recovered    16131\n",
    "Name: 537, dtype: int64"
   ]
  },
  {
   "cell_type": "markdown",
   "id": "1a8ae336",
   "metadata": {},
   "source": [
    "nombre_infected       924\n",
    "nombre_sain          2375\n",
    "nombre_exposed        556\n",
    "nombre_recovered    16145\n",
    "Name: 538, dtype: int64"
   ]
  },
  {
   "cell_type": "markdown",
   "id": "53d470fe",
   "metadata": {},
   "source": [
    "nombre_infected       939\n",
    "nombre_sain          2356\n",
    "nombre_exposed        549\n",
    "nombre_recovered    16156\n",
    "Name: 539, dtype: int64"
   ]
  },
  {
   "cell_type": "markdown",
   "id": "ddf3aadc",
   "metadata": {},
   "source": [
    "nombre_infected       952\n",
    "nombre_sain          2335\n",
    "nombre_exposed        562\n",
    "nombre_recovered    16151\n",
    "Name: 540, dtype: int64"
   ]
  },
  {
   "cell_type": "markdown",
   "id": "c8715653",
   "metadata": {},
   "source": [
    "nombre_infected       963\n",
    "nombre_sain          2325\n",
    "nombre_exposed        566\n",
    "nombre_recovered    16146\n",
    "Name: 541, dtype: int64"
   ]
  },
  {
   "cell_type": "markdown",
   "id": "67669ce1",
   "metadata": {},
   "source": [
    "nombre_infected       963\n",
    "nombre_sain          2297\n",
    "nombre_exposed        569\n",
    "nombre_recovered    16171\n",
    "Name: 542, dtype: int64"
   ]
  },
  {
   "cell_type": "markdown",
   "id": "c47ec86a",
   "metadata": {},
   "source": [
    "nombre_infected       981\n",
    "nombre_sain          2264\n",
    "nombre_exposed        577\n",
    "nombre_recovered    16178\n",
    "Name: 543, dtype: int64"
   ]
  },
  {
   "cell_type": "markdown",
   "id": "c80015ea",
   "metadata": {},
   "source": [
    "nombre_infected       999\n",
    "nombre_sain          2236\n",
    "nombre_exposed        563\n",
    "nombre_recovered    16202\n",
    "Name: 544, dtype: int64"
   ]
  },
  {
   "cell_type": "markdown",
   "id": "c87144a6",
   "metadata": {},
   "source": [
    "nombre_infected      1012\n",
    "nombre_sain          2206\n",
    "nombre_exposed        578\n",
    "nombre_recovered    16204\n",
    "Name: 545, dtype: int64"
   ]
  },
  {
   "cell_type": "markdown",
   "id": "57650c6b",
   "metadata": {},
   "source": [
    "nombre_infected      1006\n",
    "nombre_sain          2160\n",
    "nombre_exposed        602\n",
    "nombre_recovered    16232\n",
    "Name: 546, dtype: int64"
   ]
  },
  {
   "cell_type": "markdown",
   "id": "e2788034",
   "metadata": {},
   "source": [
    "nombre_infected       998\n",
    "nombre_sain          2129\n",
    "nombre_exposed        593\n",
    "nombre_recovered    16280\n",
    "Name: 547, dtype: int64"
   ]
  },
  {
   "cell_type": "markdown",
   "id": "5aa6121c",
   "metadata": {},
   "source": [
    "nombre_infected      1002\n",
    "nombre_sain          2101\n",
    "nombre_exposed        576\n",
    "nombre_recovered    16321\n",
    "Name: 548, dtype: int64"
   ]
  },
  {
   "cell_type": "markdown",
   "id": "29648335",
   "metadata": {},
   "source": [
    "nombre_infected       977\n",
    "nombre_sain          2082\n",
    "nombre_exposed        586\n",
    "nombre_recovered    16355\n",
    "Name: 549, dtype: int64"
   ]
  },
  {
   "cell_type": "markdown",
   "id": "9b7669ce",
   "metadata": {},
   "source": [
    "nombre_infected      1000\n",
    "nombre_sain          2036\n",
    "nombre_exposed        572\n",
    "nombre_recovered    16392\n",
    "Name: 550, dtype: int64"
   ]
  },
  {
   "cell_type": "markdown",
   "id": "71e1cd69",
   "metadata": {},
   "source": [
    "nombre_infected      1011\n",
    "nombre_sain          2034\n",
    "nombre_exposed        542\n",
    "nombre_recovered    16413\n",
    "Name: 551, dtype: int64"
   ]
  },
  {
   "cell_type": "markdown",
   "id": "9b510b96",
   "metadata": {},
   "source": [
    "nombre_infected      1023\n",
    "nombre_sain          2001\n",
    "nombre_exposed        539\n",
    "nombre_recovered    16437\n",
    "Name: 552, dtype: int64"
   ]
  },
  {
   "cell_type": "markdown",
   "id": "4a50ba5e",
   "metadata": {},
   "source": [
    "nombre_infected      1005\n",
    "nombre_sain          1990\n",
    "nombre_exposed        539\n",
    "nombre_recovered    16466\n",
    "Name: 553, dtype: int64"
   ]
  },
  {
   "cell_type": "markdown",
   "id": "15edf57c",
   "metadata": {},
   "source": [
    "nombre_infected       971\n",
    "nombre_sain          1975\n",
    "nombre_exposed        533\n",
    "nombre_recovered    16521\n",
    "Name: 554, dtype: int64"
   ]
  },
  {
   "cell_type": "markdown",
   "id": "5d087404",
   "metadata": {},
   "source": [
    "nombre_infected       947\n",
    "nombre_sain          1947\n",
    "nombre_exposed        545\n",
    "nombre_recovered    16561\n",
    "Name: 555, dtype: int64"
   ]
  },
  {
   "cell_type": "markdown",
   "id": "7b0c5cc4",
   "metadata": {},
   "source": [
    "nombre_infected       934\n",
    "nombre_sain          1916\n",
    "nombre_exposed        549\n",
    "nombre_recovered    16601\n",
    "Name: 556, dtype: int64"
   ]
  },
  {
   "cell_type": "markdown",
   "id": "3d19a03e",
   "metadata": {},
   "source": [
    "nombre_infected       937\n",
    "nombre_sain          1907\n",
    "nombre_exposed        518\n",
    "nombre_recovered    16638\n",
    "Name: 557, dtype: int64"
   ]
  },
  {
   "cell_type": "markdown",
   "id": "a0e9e57c",
   "metadata": {},
   "source": [
    "nombre_infected       927\n",
    "nombre_sain          1890\n",
    "nombre_exposed        503\n",
    "nombre_recovered    16680\n",
    "Name: 558, dtype: int64"
   ]
  },
  {
   "cell_type": "markdown",
   "id": "f074137c",
   "metadata": {},
   "source": [
    "nombre_infected       952\n",
    "nombre_sain          1886\n",
    "nombre_exposed        480\n",
    "nombre_recovered    16682\n",
    "Name: 559, dtype: int64"
   ]
  },
  {
   "cell_type": "markdown",
   "id": "af7abf82",
   "metadata": {},
   "source": [
    "nombre_infected       930\n",
    "nombre_sain          1906\n",
    "nombre_exposed        484\n",
    "nombre_recovered    16680\n",
    "Name: 560, dtype: int64"
   ]
  },
  {
   "cell_type": "markdown",
   "id": "8dccfe9b",
   "metadata": {},
   "source": [
    "nombre_infected       918\n",
    "nombre_sain          1905\n",
    "nombre_exposed        466\n",
    "nombre_recovered    16711\n",
    "Name: 561, dtype: int64"
   ]
  },
  {
   "cell_type": "markdown",
   "id": "488c7b1d",
   "metadata": {},
   "source": [
    "nombre_infected       903\n",
    "nombre_sain          1899\n",
    "nombre_exposed        481\n",
    "nombre_recovered    16717\n",
    "Name: 562, dtype: int64"
   ]
  },
  {
   "cell_type": "markdown",
   "id": "45e9ab2b",
   "metadata": {},
   "source": [
    "nombre_infected       895\n",
    "nombre_sain          1907\n",
    "nombre_exposed        472\n",
    "nombre_recovered    16726\n",
    "Name: 563, dtype: int64"
   ]
  },
  {
   "cell_type": "markdown",
   "id": "6ba9f21b",
   "metadata": {},
   "source": [
    "nombre_infected       866\n",
    "nombre_sain          1899\n",
    "nombre_exposed        483\n",
    "nombre_recovered    16752\n",
    "Name: 564, dtype: int64"
   ]
  },
  {
   "cell_type": "markdown",
   "id": "d6873575",
   "metadata": {},
   "source": [
    "nombre_infected       871\n",
    "nombre_sain          1872\n",
    "nombre_exposed        458\n",
    "nombre_recovered    16799\n",
    "Name: 565, dtype: int64"
   ]
  },
  {
   "cell_type": "markdown",
   "id": "cebf214b",
   "metadata": {},
   "source": [
    "nombre_infected       869\n",
    "nombre_sain          1873\n",
    "nombre_exposed        441\n",
    "nombre_recovered    16817\n",
    "Name: 566, dtype: int64"
   ]
  },
  {
   "cell_type": "markdown",
   "id": "ef9cb4bc",
   "metadata": {},
   "source": [
    "nombre_infected       841\n",
    "nombre_sain          1868\n",
    "nombre_exposed        447\n",
    "nombre_recovered    16844\n",
    "Name: 567, dtype: int64"
   ]
  },
  {
   "cell_type": "markdown",
   "id": "c6f961d7",
   "metadata": {},
   "source": [
    "nombre_infected       829\n",
    "nombre_sain          1878\n",
    "nombre_exposed        438\n",
    "nombre_recovered    16855\n",
    "Name: 568, dtype: int64"
   ]
  },
  {
   "cell_type": "markdown",
   "id": "2d48d875",
   "metadata": {},
   "source": [
    "nombre_infected       828\n",
    "nombre_sain          1882\n",
    "nombre_exposed        443\n",
    "nombre_recovered    16847\n",
    "Name: 569, dtype: int64"
   ]
  },
  {
   "cell_type": "markdown",
   "id": "17f5c6aa",
   "metadata": {},
   "source": [
    "nombre_infected       797\n",
    "nombre_sain          1918\n",
    "nombre_exposed        429\n",
    "nombre_recovered    16856\n",
    "Name: 570, dtype: int64"
   ]
  },
  {
   "cell_type": "markdown",
   "id": "4362a9be",
   "metadata": {},
   "source": [
    "nombre_infected       781\n",
    "nombre_sain          1907\n",
    "nombre_exposed        447\n",
    "nombre_recovered    16865\n",
    "Name: 571, dtype: int64"
   ]
  },
  {
   "cell_type": "markdown",
   "id": "7456db84",
   "metadata": {},
   "source": [
    "nombre_infected       752\n",
    "nombre_sain          1934\n",
    "nombre_exposed        444\n",
    "nombre_recovered    16870\n",
    "Name: 572, dtype: int64"
   ]
  },
  {
   "cell_type": "markdown",
   "id": "04f51eff",
   "metadata": {},
   "source": [
    "nombre_infected       739\n",
    "nombre_sain          1928\n",
    "nombre_exposed        446\n",
    "nombre_recovered    16887\n",
    "Name: 573, dtype: int64"
   ]
  },
  {
   "cell_type": "markdown",
   "id": "3bbc8998",
   "metadata": {},
   "source": [
    "nombre_infected       761\n",
    "nombre_sain          1931\n",
    "nombre_exposed        413\n",
    "nombre_recovered    16895\n",
    "Name: 574, dtype: int64"
   ]
  },
  {
   "cell_type": "markdown",
   "id": "f46f5c7f",
   "metadata": {},
   "source": [
    "nombre_infected       749\n",
    "nombre_sain          1940\n",
    "nombre_exposed        413\n",
    "nombre_recovered    16898\n",
    "Name: 575, dtype: int64"
   ]
  },
  {
   "cell_type": "markdown",
   "id": "51fcc559",
   "metadata": {},
   "source": [
    "nombre_infected       740\n",
    "nombre_sain          1964\n",
    "nombre_exposed        419\n",
    "nombre_recovered    16877\n",
    "Name: 576, dtype: int64"
   ]
  },
  {
   "cell_type": "markdown",
   "id": "dd1f644f",
   "metadata": {},
   "source": [
    "nombre_infected       726\n",
    "nombre_sain          1986\n",
    "nombre_exposed        417\n",
    "nombre_recovered    16871\n",
    "Name: 577, dtype: int64"
   ]
  },
  {
   "cell_type": "markdown",
   "id": "0ec63e0f",
   "metadata": {},
   "source": [
    "nombre_infected       711\n",
    "nombre_sain          2040\n",
    "nombre_exposed        398\n",
    "nombre_recovered    16851\n",
    "Name: 578, dtype: int64"
   ]
  },
  {
   "cell_type": "markdown",
   "id": "87bd23da",
   "metadata": {},
   "source": [
    "nombre_infected       700\n",
    "nombre_sain          2069\n",
    "nombre_exposed        378\n",
    "nombre_recovered    16853\n",
    "Name: 579, dtype: int64"
   ]
  },
  {
   "cell_type": "markdown",
   "id": "8c8510d0",
   "metadata": {},
   "source": [
    "nombre_infected       672\n",
    "nombre_sain          2069\n",
    "nombre_exposed        407\n",
    "nombre_recovered    16852\n",
    "Name: 580, dtype: int64"
   ]
  },
  {
   "cell_type": "markdown",
   "id": "318f8cc8",
   "metadata": {},
   "source": [
    "nombre_infected       670\n",
    "nombre_sain          2081\n",
    "nombre_exposed        414\n",
    "nombre_recovered    16835\n",
    "Name: 581, dtype: int64"
   ]
  },
  {
   "cell_type": "markdown",
   "id": "feddf485",
   "metadata": {},
   "source": [
    "nombre_infected       666\n",
    "nombre_sain          2138\n",
    "nombre_exposed        401\n",
    "nombre_recovered    16795\n",
    "Name: 582, dtype: int64"
   ]
  },
  {
   "cell_type": "markdown",
   "id": "9979288f",
   "metadata": {},
   "source": [
    "nombre_infected       668\n",
    "nombre_sain          2158\n",
    "nombre_exposed        391\n",
    "nombre_recovered    16783\n",
    "Name: 583, dtype: int64"
   ]
  },
  {
   "cell_type": "markdown",
   "id": "f520dc17",
   "metadata": {},
   "source": [
    "nombre_infected       647\n",
    "nombre_sain          2198\n",
    "nombre_exposed        402\n",
    "nombre_recovered    16753\n",
    "Name: 584, dtype: int64"
   ]
  },
  {
   "cell_type": "markdown",
   "id": "93c22e21",
   "metadata": {},
   "source": [
    "nombre_infected       656\n",
    "nombre_sain          2202\n",
    "nombre_exposed        410\n",
    "nombre_recovered    16732\n",
    "Name: 585, dtype: int64"
   ]
  },
  {
   "cell_type": "markdown",
   "id": "2608592a",
   "metadata": {},
   "source": [
    "nombre_infected       654\n",
    "nombre_sain          2227\n",
    "nombre_exposed        407\n",
    "nombre_recovered    16712\n",
    "Name: 586, dtype: int64"
   ]
  },
  {
   "cell_type": "markdown",
   "id": "aa4631cf",
   "metadata": {},
   "source": [
    "nombre_infected       661\n",
    "nombre_sain          2245\n",
    "nombre_exposed        399\n",
    "nombre_recovered    16695\n",
    "Name: 587, dtype: int64"
   ]
  },
  {
   "cell_type": "markdown",
   "id": "4de60e54",
   "metadata": {},
   "source": [
    "nombre_infected       657\n",
    "nombre_sain          2267\n",
    "nombre_exposed        407\n",
    "nombre_recovered    16669\n",
    "Name: 588, dtype: int64"
   ]
  },
  {
   "cell_type": "markdown",
   "id": "9a6757ed",
   "metadata": {},
   "source": [
    "nombre_infected       657\n",
    "nombre_sain          2308\n",
    "nombre_exposed        395\n",
    "nombre_recovered    16640\n",
    "Name: 589, dtype: int64"
   ]
  },
  {
   "cell_type": "markdown",
   "id": "d28626c9",
   "metadata": {},
   "source": [
    "nombre_infected       639\n",
    "nombre_sain          2332\n",
    "nombre_exposed        397\n",
    "nombre_recovered    16632\n",
    "Name: 590, dtype: int64"
   ]
  },
  {
   "cell_type": "markdown",
   "id": "5a4283b1",
   "metadata": {},
   "source": [
    "nombre_infected       648\n",
    "nombre_sain          2345\n",
    "nombre_exposed        401\n",
    "nombre_recovered    16606\n",
    "Name: 591, dtype: int64"
   ]
  },
  {
   "cell_type": "markdown",
   "id": "8c46c6b3",
   "metadata": {},
   "source": [
    "nombre_infected       655\n",
    "nombre_sain          2363\n",
    "nombre_exposed        398\n",
    "nombre_recovered    16584\n",
    "Name: 592, dtype: int64"
   ]
  },
  {
   "cell_type": "markdown",
   "id": "b0dddc3a",
   "metadata": {},
   "source": [
    "nombre_infected       663\n",
    "nombre_sain          2352\n",
    "nombre_exposed        412\n",
    "nombre_recovered    16573\n",
    "Name: 593, dtype: int64"
   ]
  },
  {
   "cell_type": "markdown",
   "id": "25c8fcc2",
   "metadata": {},
   "source": [
    "nombre_infected       645\n",
    "nombre_sain          2385\n",
    "nombre_exposed        410\n",
    "nombre_recovered    16560\n",
    "Name: 594, dtype: int64"
   ]
  },
  {
   "cell_type": "markdown",
   "id": "3cfbe50c",
   "metadata": {},
   "source": [
    "nombre_infected       630\n",
    "nombre_sain          2410\n",
    "nombre_exposed        399\n",
    "nombre_recovered    16561\n",
    "Name: 595, dtype: int64"
   ]
  },
  {
   "cell_type": "markdown",
   "id": "b895e948",
   "metadata": {},
   "source": [
    "nombre_infected       652\n",
    "nombre_sain          2424\n",
    "nombre_exposed        391\n",
    "nombre_recovered    16533\n",
    "Name: 596, dtype: int64"
   ]
  },
  {
   "cell_type": "markdown",
   "id": "fd433b02",
   "metadata": {},
   "source": [
    "nombre_infected       640\n",
    "nombre_sain          2442\n",
    "nombre_exposed        409\n",
    "nombre_recovered    16509\n",
    "Name: 597, dtype: int64"
   ]
  },
  {
   "cell_type": "markdown",
   "id": "2cbb5f5d",
   "metadata": {},
   "source": [
    "nombre_infected       647\n",
    "nombre_sain          2471\n",
    "nombre_exposed        394\n",
    "nombre_recovered    16488\n",
    "Name: 598, dtype: int64"
   ]
  },
  {
   "cell_type": "markdown",
   "id": "5492a3d2",
   "metadata": {},
   "source": [
    "nombre_infected       636\n",
    "nombre_sain          2487\n",
    "nombre_exposed        395\n",
    "nombre_recovered    16482\n",
    "Name: 599, dtype: int64"
   ]
  },
  {
   "cell_type": "markdown",
   "id": "a5c38ab7",
   "metadata": {},
   "source": [
    "nombre_infected       659\n",
    "nombre_sain          2489\n",
    "nombre_exposed        390\n",
    "nombre_recovered    16462\n",
    "Name: 600, dtype: int64"
   ]
  },
  {
   "cell_type": "markdown",
   "id": "8f61dba1",
   "metadata": {},
   "source": [
    "nombre_infected       659\n",
    "nombre_sain          2471\n",
    "nombre_exposed        424\n",
    "nombre_recovered    16446\n",
    "Name: 601, dtype: int64"
   ]
  },
  {
   "cell_type": "markdown",
   "id": "ab8c9c54",
   "metadata": {},
   "source": [
    "nombre_infected       670\n",
    "nombre_sain          2481\n",
    "nombre_exposed        419\n",
    "nombre_recovered    16430\n",
    "Name: 602, dtype: int64"
   ]
  },
  {
   "cell_type": "markdown",
   "id": "e9e25ad3",
   "metadata": {},
   "source": [
    "nombre_infected       673\n",
    "nombre_sain          2484\n",
    "nombre_exposed        411\n",
    "nombre_recovered    16432\n",
    "Name: 603, dtype: int64"
   ]
  },
  {
   "cell_type": "markdown",
   "id": "24ee4461",
   "metadata": {},
   "source": [
    "nombre_infected       681\n",
    "nombre_sain          2492\n",
    "nombre_exposed        416\n",
    "nombre_recovered    16411\n",
    "Name: 604, dtype: int64"
   ]
  },
  {
   "cell_type": "markdown",
   "id": "a718a3b0",
   "metadata": {},
   "source": [
    "nombre_infected       699\n",
    "nombre_sain          2470\n",
    "nombre_exposed        419\n",
    "nombre_recovered    16412\n",
    "Name: 605, dtype: int64"
   ]
  },
  {
   "cell_type": "markdown",
   "id": "363d2460",
   "metadata": {},
   "source": [
    "nombre_infected       689\n",
    "nombre_sain          2446\n",
    "nombre_exposed        440\n",
    "nombre_recovered    16425\n",
    "Name: 606, dtype: int64"
   ]
  },
  {
   "cell_type": "markdown",
   "id": "29ffc1d5",
   "metadata": {},
   "source": [
    "nombre_infected       705\n",
    "nombre_sain          2435\n",
    "nombre_exposed        459\n",
    "nombre_recovered    16401\n",
    "Name: 607, dtype: int64"
   ]
  },
  {
   "cell_type": "markdown",
   "id": "9393d5ca",
   "metadata": {},
   "source": [
    "nombre_infected       701\n",
    "nombre_sain          2417\n",
    "nombre_exposed        491\n",
    "nombre_recovered    16391\n",
    "Name: 608, dtype: int64"
   ]
  },
  {
   "cell_type": "markdown",
   "id": "8d39fa81",
   "metadata": {},
   "source": [
    "nombre_infected       727\n",
    "nombre_sain          2397\n",
    "nombre_exposed        497\n",
    "nombre_recovered    16379\n",
    "Name: 609, dtype: int64"
   ]
  },
  {
   "cell_type": "markdown",
   "id": "b9ac9514",
   "metadata": {},
   "source": [
    "nombre_infected       755\n",
    "nombre_sain          2393\n",
    "nombre_exposed        491\n",
    "nombre_recovered    16361\n",
    "Name: 610, dtype: int64"
   ]
  },
  {
   "cell_type": "markdown",
   "id": "3b496092",
   "metadata": {},
   "source": [
    "nombre_infected       777\n",
    "nombre_sain          2369\n",
    "nombre_exposed        488\n",
    "nombre_recovered    16366\n",
    "Name: 611, dtype: int64"
   ]
  },
  {
   "cell_type": "markdown",
   "id": "7de96ab2",
   "metadata": {},
   "source": [
    "nombre_infected       762\n",
    "nombre_sain          2383\n",
    "nombre_exposed        500\n",
    "nombre_recovered    16355\n",
    "Name: 612, dtype: int64"
   ]
  },
  {
   "cell_type": "markdown",
   "id": "758bb4aa",
   "metadata": {},
   "source": [
    "nombre_infected       770\n",
    "nombre_sain          2372\n",
    "nombre_exposed        474\n",
    "nombre_recovered    16384\n",
    "Name: 613, dtype: int64"
   ]
  },
  {
   "cell_type": "markdown",
   "id": "e0329e93",
   "metadata": {},
   "source": [
    "nombre_infected       773\n",
    "nombre_sain          2380\n",
    "nombre_exposed        486\n",
    "nombre_recovered    16361\n",
    "Name: 614, dtype: int64"
   ]
  },
  {
   "cell_type": "markdown",
   "id": "ec2944cb",
   "metadata": {},
   "source": [
    "nombre_infected       760\n",
    "nombre_sain          2385\n",
    "nombre_exposed        497\n",
    "nombre_recovered    16358\n",
    "Name: 615, dtype: int64"
   ]
  },
  {
   "cell_type": "markdown",
   "id": "1ed4e298",
   "metadata": {},
   "source": [
    "nombre_infected       771\n",
    "nombre_sain          2374\n",
    "nombre_exposed        505\n",
    "nombre_recovered    16350\n",
    "Name: 616, dtype: int64"
   ]
  },
  {
   "cell_type": "markdown",
   "id": "3945bede",
   "metadata": {},
   "source": [
    "nombre_infected       793\n",
    "nombre_sain          2371\n",
    "nombre_exposed        482\n",
    "nombre_recovered    16354\n",
    "Name: 617, dtype: int64"
   ]
  },
  {
   "cell_type": "markdown",
   "id": "9cc63675",
   "metadata": {},
   "source": [
    "nombre_infected       825\n",
    "nombre_sain          2381\n",
    "nombre_exposed        478\n",
    "nombre_recovered    16316\n",
    "Name: 618, dtype: int64"
   ]
  },
  {
   "cell_type": "markdown",
   "id": "df87773a",
   "metadata": {},
   "source": [
    "nombre_infected       822\n",
    "nombre_sain          2373\n",
    "nombre_exposed        473\n",
    "nombre_recovered    16332\n",
    "Name: 619, dtype: int64"
   ]
  },
  {
   "cell_type": "markdown",
   "id": "61b5eeac",
   "metadata": {},
   "source": [
    "nombre_infected       813\n",
    "nombre_sain          2371\n",
    "nombre_exposed        471\n",
    "nombre_recovered    16345\n",
    "Name: 620, dtype: int64"
   ]
  },
  {
   "cell_type": "markdown",
   "id": "f4e494cc",
   "metadata": {},
   "source": [
    "nombre_infected       805\n",
    "nombre_sain          2345\n",
    "nombre_exposed        488\n",
    "nombre_recovered    16362\n",
    "Name: 621, dtype: int64"
   ]
  },
  {
   "cell_type": "markdown",
   "id": "bfa4a680",
   "metadata": {},
   "source": [
    "nombre_infected       802\n",
    "nombre_sain          2326\n",
    "nombre_exposed        485\n",
    "nombre_recovered    16387\n",
    "Name: 622, dtype: int64"
   ]
  },
  {
   "cell_type": "markdown",
   "id": "292f530b",
   "metadata": {},
   "source": [
    "nombre_infected       806\n",
    "nombre_sain          2302\n",
    "nombre_exposed        494\n",
    "nombre_recovered    16398\n",
    "Name: 623, dtype: int64"
   ]
  },
  {
   "cell_type": "markdown",
   "id": "be62d60e",
   "metadata": {},
   "source": [
    "nombre_infected       825\n",
    "nombre_sain          2290\n",
    "nombre_exposed        492\n",
    "nombre_recovered    16393\n",
    "Name: 624, dtype: int64"
   ]
  },
  {
   "cell_type": "markdown",
   "id": "4a26c409",
   "metadata": {},
   "source": [
    "nombre_infected       837\n",
    "nombre_sain          2276\n",
    "nombre_exposed        491\n",
    "nombre_recovered    16396\n",
    "Name: 625, dtype: int64"
   ]
  },
  {
   "cell_type": "markdown",
   "id": "0c6b26d9",
   "metadata": {},
   "source": [
    "nombre_infected       834\n",
    "nombre_sain          2240\n",
    "nombre_exposed        506\n",
    "nombre_recovered    16420\n",
    "Name: 626, dtype: int64"
   ]
  },
  {
   "cell_type": "markdown",
   "id": "925b0590",
   "metadata": {},
   "source": [
    "nombre_infected       836\n",
    "nombre_sain          2221\n",
    "nombre_exposed        504\n",
    "nombre_recovered    16439\n",
    "Name: 627, dtype: int64"
   ]
  },
  {
   "cell_type": "markdown",
   "id": "4cfe2b6b",
   "metadata": {},
   "source": [
    "nombre_infected       802\n",
    "nombre_sain          2223\n",
    "nombre_exposed        496\n",
    "nombre_recovered    16479\n",
    "Name: 628, dtype: int64"
   ]
  },
  {
   "cell_type": "markdown",
   "id": "791649a2",
   "metadata": {},
   "source": [
    "nombre_infected       820\n",
    "nombre_sain          2230\n",
    "nombre_exposed        473\n",
    "nombre_recovered    16477\n",
    "Name: 629, dtype: int64"
   ]
  },
  {
   "cell_type": "markdown",
   "id": "a271d7dd",
   "metadata": {},
   "source": [
    "nombre_infected       778\n",
    "nombre_sain          2210\n",
    "nombre_exposed        502\n",
    "nombre_recovered    16510\n",
    "Name: 630, dtype: int64"
   ]
  },
  {
   "cell_type": "markdown",
   "id": "56d409ed",
   "metadata": {},
   "source": [
    "nombre_infected       784\n",
    "nombre_sain          2226\n",
    "nombre_exposed        491\n",
    "nombre_recovered    16499\n",
    "Name: 631, dtype: int64"
   ]
  },
  {
   "cell_type": "markdown",
   "id": "f23a426a",
   "metadata": {},
   "source": [
    "nombre_infected       771\n",
    "nombre_sain          2209\n",
    "nombre_exposed        513\n",
    "nombre_recovered    16507\n",
    "Name: 632, dtype: int64"
   ]
  },
  {
   "cell_type": "markdown",
   "id": "916e2de8",
   "metadata": {},
   "source": [
    "nombre_infected       800\n",
    "nombre_sain          2223\n",
    "nombre_exposed        486\n",
    "nombre_recovered    16491\n",
    "Name: 633, dtype: int64"
   ]
  },
  {
   "cell_type": "markdown",
   "id": "a66b9c5b",
   "metadata": {},
   "source": [
    "nombre_infected       801\n",
    "nombre_sain          2209\n",
    "nombre_exposed        494\n",
    "nombre_recovered    16496\n",
    "Name: 634, dtype: int64"
   ]
  },
  {
   "cell_type": "markdown",
   "id": "1053d587",
   "metadata": {},
   "source": [
    "nombre_infected       801\n",
    "nombre_sain          2216\n",
    "nombre_exposed        488\n",
    "nombre_recovered    16495\n",
    "Name: 635, dtype: int64"
   ]
  },
  {
   "cell_type": "markdown",
   "id": "a7e99de0",
   "metadata": {},
   "source": [
    "nombre_infected       816\n",
    "nombre_sain          2208\n",
    "nombre_exposed        484\n",
    "nombre_recovered    16492\n",
    "Name: 636, dtype: int64"
   ]
  },
  {
   "cell_type": "markdown",
   "id": "1d48746b",
   "metadata": {},
   "source": [
    "nombre_infected       798\n",
    "nombre_sain          2179\n",
    "nombre_exposed        501\n",
    "nombre_recovered    16522\n",
    "Name: 637, dtype: int64"
   ]
  },
  {
   "cell_type": "markdown",
   "id": "4fd03682",
   "metadata": {},
   "source": [
    "nombre_infected       835\n",
    "nombre_sain          2174\n",
    "nombre_exposed        496\n",
    "nombre_recovered    16495\n",
    "Name: 638, dtype: int64"
   ]
  },
  {
   "cell_type": "markdown",
   "id": "f06d9a58",
   "metadata": {},
   "source": [
    "nombre_infected       825\n",
    "nombre_sain          2186\n",
    "nombre_exposed        502\n",
    "nombre_recovered    16487\n",
    "Name: 639, dtype: int64"
   ]
  },
  {
   "cell_type": "markdown",
   "id": "c674de70",
   "metadata": {},
   "source": [
    "nombre_infected       860\n",
    "nombre_sain          2183\n",
    "nombre_exposed        475\n",
    "nombre_recovered    16482\n",
    "Name: 640, dtype: int64"
   ]
  },
  {
   "cell_type": "markdown",
   "id": "d9d5a288",
   "metadata": {},
   "source": [
    "nombre_infected       850\n",
    "nombre_sain          2173\n",
    "nombre_exposed        482\n",
    "nombre_recovered    16495\n",
    "Name: 641, dtype: int64"
   ]
  },
  {
   "cell_type": "markdown",
   "id": "cb4aea7e",
   "metadata": {},
   "source": [
    "nombre_infected       836\n",
    "nombre_sain          2172\n",
    "nombre_exposed        496\n",
    "nombre_recovered    16496\n",
    "Name: 642, dtype: int64"
   ]
  },
  {
   "cell_type": "markdown",
   "id": "53131658",
   "metadata": {},
   "source": [
    "nombre_infected       822\n",
    "nombre_sain          2178\n",
    "nombre_exposed        497\n",
    "nombre_recovered    16503\n",
    "Name: 643, dtype: int64"
   ]
  },
  {
   "cell_type": "markdown",
   "id": "b684482b",
   "metadata": {},
   "source": [
    "nombre_infected       833\n",
    "nombre_sain          2185\n",
    "nombre_exposed        487\n",
    "nombre_recovered    16495\n",
    "Name: 644, dtype: int64"
   ]
  },
  {
   "cell_type": "markdown",
   "id": "caf1bc1a",
   "metadata": {},
   "source": [
    "nombre_infected       835\n",
    "nombre_sain          2165\n",
    "nombre_exposed        492\n",
    "nombre_recovered    16508\n",
    "Name: 645, dtype: int64"
   ]
  },
  {
   "cell_type": "markdown",
   "id": "69e019e2",
   "metadata": {},
   "source": [
    "nombre_infected       812\n",
    "nombre_sain          2157\n",
    "nombre_exposed        515\n",
    "nombre_recovered    16516\n",
    "Name: 646, dtype: int64"
   ]
  },
  {
   "cell_type": "markdown",
   "id": "6161e90f",
   "metadata": {},
   "source": [
    "nombre_infected       822\n",
    "nombre_sain          2135\n",
    "nombre_exposed        507\n",
    "nombre_recovered    16536\n",
    "Name: 647, dtype: int64"
   ]
  },
  {
   "cell_type": "markdown",
   "id": "928d8980",
   "metadata": {},
   "source": [
    "nombre_infected       794\n",
    "nombre_sain          2111\n",
    "nombre_exposed        518\n",
    "nombre_recovered    16577\n",
    "Name: 648, dtype: int64"
   ]
  },
  {
   "cell_type": "markdown",
   "id": "e57c5e79",
   "metadata": {},
   "source": [
    "nombre_infected       798\n",
    "nombre_sain          2109\n",
    "nombre_exposed        500\n",
    "nombre_recovered    16593\n",
    "Name: 649, dtype: int64"
   ]
  },
  {
   "cell_type": "markdown",
   "id": "c2e9f8cf",
   "metadata": {},
   "source": [
    "nombre_infected       810\n",
    "nombre_sain          2108\n",
    "nombre_exposed        491\n",
    "nombre_recovered    16591\n",
    "Name: 650, dtype: int64"
   ]
  },
  {
   "cell_type": "markdown",
   "id": "b1eab69c",
   "metadata": {},
   "source": [
    "nombre_infected       789\n",
    "nombre_sain          2100\n",
    "nombre_exposed        497\n",
    "nombre_recovered    16614\n",
    "Name: 651, dtype: int64"
   ]
  },
  {
   "cell_type": "markdown",
   "id": "2adf3022",
   "metadata": {},
   "source": [
    "nombre_infected       795\n",
    "nombre_sain          2095\n",
    "nombre_exposed        492\n",
    "nombre_recovered    16618\n",
    "Name: 652, dtype: int64"
   ]
  },
  {
   "cell_type": "markdown",
   "id": "3d2e7e73",
   "metadata": {},
   "source": [
    "nombre_infected       804\n",
    "nombre_sain          2104\n",
    "nombre_exposed        464\n",
    "nombre_recovered    16628\n",
    "Name: 653, dtype: int64"
   ]
  },
  {
   "cell_type": "markdown",
   "id": "773a85d6",
   "metadata": {},
   "source": [
    "nombre_infected       818\n",
    "nombre_sain          2109\n",
    "nombre_exposed        438\n",
    "nombre_recovered    16635\n",
    "Name: 654, dtype: int64"
   ]
  },
  {
   "cell_type": "markdown",
   "id": "c838b118",
   "metadata": {},
   "source": [
    "nombre_infected       831\n",
    "nombre_sain          2123\n",
    "nombre_exposed        434\n",
    "nombre_recovered    16612\n",
    "Name: 655, dtype: int64"
   ]
  },
  {
   "cell_type": "markdown",
   "id": "ad8f273c",
   "metadata": {},
   "source": [
    "nombre_infected       820\n",
    "nombre_sain          2097\n",
    "nombre_exposed        451\n",
    "nombre_recovered    16632\n",
    "Name: 656, dtype: int64"
   ]
  },
  {
   "cell_type": "markdown",
   "id": "f33d7785",
   "metadata": {},
   "source": [
    "nombre_infected       796\n",
    "nombre_sain          2119\n",
    "nombre_exposed        463\n",
    "nombre_recovered    16622\n",
    "Name: 657, dtype: int64"
   ]
  },
  {
   "cell_type": "markdown",
   "id": "4722b206",
   "metadata": {},
   "source": [
    "nombre_infected       791\n",
    "nombre_sain          2115\n",
    "nombre_exposed        467\n",
    "nombre_recovered    16627\n",
    "Name: 658, dtype: int64"
   ]
  },
  {
   "cell_type": "markdown",
   "id": "d1322a88",
   "metadata": {},
   "source": [
    "nombre_infected       777\n",
    "nombre_sain          2116\n",
    "nombre_exposed        454\n",
    "nombre_recovered    16653\n",
    "Name: 659, dtype: int64"
   ]
  },
  {
   "cell_type": "markdown",
   "id": "5720b28e",
   "metadata": {},
   "source": [
    "nombre_infected       785\n",
    "nombre_sain          2117\n",
    "nombre_exposed        447\n",
    "nombre_recovered    16651\n",
    "Name: 660, dtype: int64"
   ]
  },
  {
   "cell_type": "markdown",
   "id": "0c3e8f45",
   "metadata": {},
   "source": [
    "nombre_infected       789\n",
    "nombre_sain          2121\n",
    "nombre_exposed        442\n",
    "nombre_recovered    16648\n",
    "Name: 661, dtype: int64"
   ]
  },
  {
   "cell_type": "markdown",
   "id": "b1d09835",
   "metadata": {},
   "source": [
    "nombre_infected       769\n",
    "nombre_sain          2129\n",
    "nombre_exposed        451\n",
    "nombre_recovered    16651\n",
    "Name: 662, dtype: int64"
   ]
  },
  {
   "cell_type": "markdown",
   "id": "2bca746f",
   "metadata": {},
   "source": [
    "nombre_infected       760\n",
    "nombre_sain          2119\n",
    "nombre_exposed        454\n",
    "nombre_recovered    16667\n",
    "Name: 663, dtype: int64"
   ]
  },
  {
   "cell_type": "markdown",
   "id": "da662973",
   "metadata": {},
   "source": [
    "nombre_infected       756\n",
    "nombre_sain          2138\n",
    "nombre_exposed        439\n",
    "nombre_recovered    16667\n",
    "Name: 664, dtype: int64"
   ]
  },
  {
   "cell_type": "markdown",
   "id": "2f8bacbf",
   "metadata": {},
   "source": [
    "nombre_infected       745\n",
    "nombre_sain          2143\n",
    "nombre_exposed        443\n",
    "nombre_recovered    16669\n",
    "Name: 665, dtype: int64"
   ]
  },
  {
   "cell_type": "markdown",
   "id": "ee6c560b",
   "metadata": {},
   "source": [
    "nombre_infected       744\n",
    "nombre_sain          2146\n",
    "nombre_exposed        441\n",
    "nombre_recovered    16669\n",
    "Name: 666, dtype: int64"
   ]
  },
  {
   "cell_type": "markdown",
   "id": "94fd7d4f",
   "metadata": {},
   "source": [
    "nombre_infected       758\n",
    "nombre_sain          2158\n",
    "nombre_exposed        424\n",
    "nombre_recovered    16660\n",
    "Name: 667, dtype: int64"
   ]
  },
  {
   "cell_type": "markdown",
   "id": "e853fb3b",
   "metadata": {},
   "source": [
    "nombre_infected       769\n",
    "nombre_sain          2159\n",
    "nombre_exposed        423\n",
    "nombre_recovered    16649\n",
    "Name: 668, dtype: int64"
   ]
  },
  {
   "cell_type": "markdown",
   "id": "10d69fd8",
   "metadata": {},
   "source": [
    "nombre_infected       752\n",
    "nombre_sain          2155\n",
    "nombre_exposed        438\n",
    "nombre_recovered    16655\n",
    "Name: 669, dtype: int64"
   ]
  },
  {
   "cell_type": "markdown",
   "id": "f8556884",
   "metadata": {},
   "source": [
    "nombre_infected       750\n",
    "nombre_sain          2150\n",
    "nombre_exposed        444\n",
    "nombre_recovered    16656\n",
    "Name: 670, dtype: int64"
   ]
  },
  {
   "cell_type": "markdown",
   "id": "e71741f9",
   "metadata": {},
   "source": [
    "nombre_infected       753\n",
    "nombre_sain          2151\n",
    "nombre_exposed        440\n",
    "nombre_recovered    16656\n",
    "Name: 671, dtype: int64"
   ]
  },
  {
   "cell_type": "markdown",
   "id": "59aa67cc",
   "metadata": {},
   "source": [
    "nombre_infected       743\n",
    "nombre_sain          2114\n",
    "nombre_exposed        465\n",
    "nombre_recovered    16678\n",
    "Name: 672, dtype: int64"
   ]
  },
  {
   "cell_type": "markdown",
   "id": "ec22d0f5",
   "metadata": {},
   "source": [
    "nombre_infected       745\n",
    "nombre_sain          2138\n",
    "nombre_exposed        444\n",
    "nombre_recovered    16673\n",
    "Name: 673, dtype: int64"
   ]
  },
  {
   "cell_type": "markdown",
   "id": "d2bc0e6a",
   "metadata": {},
   "source": [
    "nombre_infected       765\n",
    "nombre_sain          2136\n",
    "nombre_exposed        437\n",
    "nombre_recovered    16662\n",
    "Name: 674, dtype: int64"
   ]
  },
  {
   "cell_type": "markdown",
   "id": "280784cc",
   "metadata": {},
   "source": [
    "nombre_infected       756\n",
    "nombre_sain          2148\n",
    "nombre_exposed        441\n",
    "nombre_recovered    16655\n",
    "Name: 675, dtype: int64"
   ]
  },
  {
   "cell_type": "markdown",
   "id": "35c8104f",
   "metadata": {},
   "source": [
    "nombre_infected       738\n",
    "nombre_sain          2182\n",
    "nombre_exposed        444\n",
    "nombre_recovered    16636\n",
    "Name: 676, dtype: int64"
   ]
  },
  {
   "cell_type": "markdown",
   "id": "2a4eb1f7",
   "metadata": {},
   "source": [
    "nombre_infected       750\n",
    "nombre_sain          2199\n",
    "nombre_exposed        438\n",
    "nombre_recovered    16613\n",
    "Name: 677, dtype: int64"
   ]
  },
  {
   "cell_type": "markdown",
   "id": "f3834331",
   "metadata": {},
   "source": [
    "nombre_infected       759\n",
    "nombre_sain          2234\n",
    "nombre_exposed        416\n",
    "nombre_recovered    16591\n",
    "Name: 678, dtype: int64"
   ]
  },
  {
   "cell_type": "markdown",
   "id": "0e6afc35",
   "metadata": {},
   "source": [
    "nombre_infected       746\n",
    "nombre_sain          2259\n",
    "nombre_exposed        422\n",
    "nombre_recovered    16573\n",
    "Name: 679, dtype: int64"
   ]
  },
  {
   "cell_type": "markdown",
   "id": "bff9af52",
   "metadata": {},
   "source": [
    "nombre_infected       744\n",
    "nombre_sain          2276\n",
    "nombre_exposed        431\n",
    "nombre_recovered    16549\n",
    "Name: 680, dtype: int64"
   ]
  },
  {
   "cell_type": "markdown",
   "id": "de82f27a",
   "metadata": {},
   "source": [
    "nombre_infected       726\n",
    "nombre_sain          2305\n",
    "nombre_exposed        447\n",
    "nombre_recovered    16522\n",
    "Name: 681, dtype: int64"
   ]
  },
  {
   "cell_type": "markdown",
   "id": "401b0613",
   "metadata": {},
   "source": [
    "nombre_infected       734\n",
    "nombre_sain          2316\n",
    "nombre_exposed        458\n",
    "nombre_recovered    16492\n",
    "Name: 682, dtype: int64"
   ]
  },
  {
   "cell_type": "markdown",
   "id": "43ec63e7",
   "metadata": {},
   "source": [
    "nombre_infected       737\n",
    "nombre_sain          2318\n",
    "nombre_exposed        470\n",
    "nombre_recovered    16475\n",
    "Name: 683, dtype: int64"
   ]
  },
  {
   "cell_type": "markdown",
   "id": "aa0ad1ba",
   "metadata": {},
   "source": [
    "nombre_infected       742\n",
    "nombre_sain          2324\n",
    "nombre_exposed        505\n",
    "nombre_recovered    16429\n",
    "Name: 684, dtype: int64"
   ]
  },
  {
   "cell_type": "markdown",
   "id": "8515c109",
   "metadata": {},
   "source": [
    "nombre_infected       760\n",
    "nombre_sain          2319\n",
    "nombre_exposed        509\n",
    "nombre_recovered    16412\n",
    "Name: 685, dtype: int64"
   ]
  },
  {
   "cell_type": "markdown",
   "id": "26f4e666",
   "metadata": {},
   "source": [
    "nombre_infected       781\n",
    "nombre_sain          2356\n",
    "nombre_exposed        493\n",
    "nombre_recovered    16370\n",
    "Name: 686, dtype: int64"
   ]
  },
  {
   "cell_type": "markdown",
   "id": "2804a067",
   "metadata": {},
   "source": [
    "nombre_infected       780\n",
    "nombre_sain          2333\n",
    "nombre_exposed        513\n",
    "nombre_recovered    16374\n",
    "Name: 687, dtype: int64"
   ]
  },
  {
   "cell_type": "markdown",
   "id": "ab41ed79",
   "metadata": {},
   "source": [
    "nombre_infected       807\n",
    "nombre_sain          2360\n",
    "nombre_exposed        501\n",
    "nombre_recovered    16332\n",
    "Name: 688, dtype: int64"
   ]
  },
  {
   "cell_type": "markdown",
   "id": "c4c350de",
   "metadata": {},
   "source": [
    "nombre_infected       808\n",
    "nombre_sain          2362\n",
    "nombre_exposed        515\n",
    "nombre_recovered    16315\n",
    "Name: 689, dtype: int64"
   ]
  },
  {
   "cell_type": "markdown",
   "id": "cd458b36",
   "metadata": {},
   "source": [
    "nombre_infected       820\n",
    "nombre_sain          2361\n",
    "nombre_exposed        503\n",
    "nombre_recovered    16316\n",
    "Name: 690, dtype: int64"
   ]
  },
  {
   "cell_type": "markdown",
   "id": "07b051cb",
   "metadata": {},
   "source": [
    "nombre_infected       846\n",
    "nombre_sain          2347\n",
    "nombre_exposed        506\n",
    "nombre_recovered    16301\n",
    "Name: 691, dtype: int64"
   ]
  },
  {
   "cell_type": "markdown",
   "id": "ff0b4c6d",
   "metadata": {},
   "source": [
    "nombre_infected       837\n",
    "nombre_sain          2348\n",
    "nombre_exposed        529\n",
    "nombre_recovered    16286\n",
    "Name: 692, dtype: int64"
   ]
  },
  {
   "cell_type": "markdown",
   "id": "015c28c7",
   "metadata": {},
   "source": [
    "nombre_infected       835\n",
    "nombre_sain          2323\n",
    "nombre_exposed        548\n",
    "nombre_recovered    16294\n",
    "Name: 693, dtype: int64"
   ]
  },
  {
   "cell_type": "markdown",
   "id": "8c78a003",
   "metadata": {},
   "source": [
    "nombre_infected       856\n",
    "nombre_sain          2307\n",
    "nombre_exposed        540\n",
    "nombre_recovered    16297\n",
    "Name: 694, dtype: int64"
   ]
  },
  {
   "cell_type": "markdown",
   "id": "c622d65a",
   "metadata": {},
   "source": [
    "nombre_infected       871\n",
    "nombre_sain          2318\n",
    "nombre_exposed        527\n",
    "nombre_recovered    16284\n",
    "Name: 695, dtype: int64"
   ]
  },
  {
   "cell_type": "markdown",
   "id": "f5a0138c",
   "metadata": {},
   "source": [
    "nombre_infected       883\n",
    "nombre_sain          2307\n",
    "nombre_exposed        528\n",
    "nombre_recovered    16282\n",
    "Name: 696, dtype: int64"
   ]
  },
  {
   "cell_type": "markdown",
   "id": "87272083",
   "metadata": {},
   "source": [
    "nombre_infected       905\n",
    "nombre_sain          2298\n",
    "nombre_exposed        530\n",
    "nombre_recovered    16267\n",
    "Name: 697, dtype: int64"
   ]
  },
  {
   "cell_type": "markdown",
   "id": "bb0b6d78",
   "metadata": {},
   "source": [
    "nombre_infected       911\n",
    "nombre_sain          2296\n",
    "nombre_exposed        528\n",
    "nombre_recovered    16265\n",
    "Name: 698, dtype: int64"
   ]
  },
  {
   "cell_type": "markdown",
   "id": "9e1be58a",
   "metadata": {},
   "source": [
    "nombre_infected       918\n",
    "nombre_sain          2277\n",
    "nombre_exposed        534\n",
    "nombre_recovered    16271\n",
    "Name: 699, dtype: int64"
   ]
  },
  {
   "cell_type": "markdown",
   "id": "ba5d1e79",
   "metadata": {},
   "source": [
    "nombre_infected       925\n",
    "nombre_sain          2271\n",
    "nombre_exposed        553\n",
    "nombre_recovered    16251\n",
    "Name: 700, dtype: int64"
   ]
  },
  {
   "cell_type": "markdown",
   "id": "2ee3d93d",
   "metadata": {},
   "source": [
    "nombre_infected       895\n",
    "nombre_sain          2260\n",
    "nombre_exposed        576\n",
    "nombre_recovered    16269\n",
    "Name: 701, dtype: int64"
   ]
  },
  {
   "cell_type": "markdown",
   "id": "19ee418a",
   "metadata": {},
   "source": [
    "nombre_infected       931\n",
    "nombre_sain          2237\n",
    "nombre_exposed        575\n",
    "nombre_recovered    16257\n",
    "Name: 702, dtype: int64"
   ]
  },
  {
   "cell_type": "markdown",
   "id": "d925b69e",
   "metadata": {},
   "source": [
    "nombre_infected       955\n",
    "nombre_sain          2192\n",
    "nombre_exposed        592\n",
    "nombre_recovered    16261\n",
    "Name: 703, dtype: int64"
   ]
  },
  {
   "cell_type": "markdown",
   "id": "dc8c2b0f",
   "metadata": {},
   "source": [
    "nombre_infected       960\n",
    "nombre_sain          2201\n",
    "nombre_exposed        592\n",
    "nombre_recovered    16247\n",
    "Name: 704, dtype: int64"
   ]
  },
  {
   "cell_type": "markdown",
   "id": "af766f57",
   "metadata": {},
   "source": [
    "nombre_infected       982\n",
    "nombre_sain          2215\n",
    "nombre_exposed        569\n",
    "nombre_recovered    16234\n",
    "Name: 705, dtype: int64"
   ]
  },
  {
   "cell_type": "markdown",
   "id": "b694bb3c",
   "metadata": {},
   "source": [
    "nombre_infected      1001\n",
    "nombre_sain          2197\n",
    "nombre_exposed        586\n",
    "nombre_recovered    16216\n",
    "Name: 706, dtype: int64"
   ]
  },
  {
   "cell_type": "markdown",
   "id": "30260500",
   "metadata": {},
   "source": [
    "nombre_infected      1001\n",
    "nombre_sain          2186\n",
    "nombre_exposed        586\n",
    "nombre_recovered    16227\n",
    "Name: 707, dtype: int64"
   ]
  },
  {
   "cell_type": "markdown",
   "id": "1e29c577",
   "metadata": {},
   "source": [
    "nombre_infected      1005\n",
    "nombre_sain          2177\n",
    "nombre_exposed        583\n",
    "nombre_recovered    16235\n",
    "Name: 708, dtype: int64"
   ]
  },
  {
   "cell_type": "markdown",
   "id": "bfe12cb5",
   "metadata": {},
   "source": [
    "nombre_infected      1010\n",
    "nombre_sain          2180\n",
    "nombre_exposed        561\n",
    "nombre_recovered    16249\n",
    "Name: 709, dtype: int64"
   ]
  },
  {
   "cell_type": "markdown",
   "id": "95a3d6bd",
   "metadata": {},
   "source": [
    "nombre_infected       989\n",
    "nombre_sain          2171\n",
    "nombre_exposed        589\n",
    "nombre_recovered    16251\n",
    "Name: 710, dtype: int64"
   ]
  },
  {
   "cell_type": "markdown",
   "id": "c99e495e",
   "metadata": {},
   "source": [
    "nombre_infected       996\n",
    "nombre_sain          2174\n",
    "nombre_exposed        604\n",
    "nombre_recovered    16226\n",
    "Name: 711, dtype: int64"
   ]
  },
  {
   "cell_type": "markdown",
   "id": "435d1bd8",
   "metadata": {},
   "source": [
    "nombre_infected      1015\n",
    "nombre_sain          2151\n",
    "nombre_exposed        595\n",
    "nombre_recovered    16239\n",
    "Name: 712, dtype: int64"
   ]
  },
  {
   "cell_type": "markdown",
   "id": "f97d1247",
   "metadata": {},
   "source": [
    "nombre_infected      1004\n",
    "nombre_sain          2154\n",
    "nombre_exposed        590\n",
    "nombre_recovered    16252\n",
    "Name: 713, dtype: int64"
   ]
  },
  {
   "cell_type": "markdown",
   "id": "2ea2ed0e",
   "metadata": {},
   "source": [
    "nombre_infected      1020\n",
    "nombre_sain          2119\n",
    "nombre_exposed        594\n",
    "nombre_recovered    16267\n",
    "Name: 714, dtype: int64"
   ]
  },
  {
   "cell_type": "markdown",
   "id": "52fa3296",
   "metadata": {},
   "source": [
    "nombre_infected      1022\n",
    "nombre_sain          2109\n",
    "nombre_exposed        594\n",
    "nombre_recovered    16275\n",
    "Name: 715, dtype: int64"
   ]
  },
  {
   "cell_type": "markdown",
   "id": "addec73b",
   "metadata": {},
   "source": [
    "nombre_infected      1027\n",
    "nombre_sain          2127\n",
    "nombre_exposed        555\n",
    "nombre_recovered    16291\n",
    "Name: 716, dtype: int64"
   ]
  },
  {
   "cell_type": "markdown",
   "id": "cbcf334f",
   "metadata": {},
   "source": [
    "nombre_infected      1010\n",
    "nombre_sain          2109\n",
    "nombre_exposed        552\n",
    "nombre_recovered    16329\n",
    "Name: 717, dtype: int64"
   ]
  },
  {
   "cell_type": "markdown",
   "id": "7991c122",
   "metadata": {},
   "source": [
    "nombre_infected       993\n",
    "nombre_sain          2089\n",
    "nombre_exposed        564\n",
    "nombre_recovered    16354\n",
    "Name: 718, dtype: int64"
   ]
  },
  {
   "cell_type": "markdown",
   "id": "cdfe66d5",
   "metadata": {},
   "source": [
    "nombre_infected       960\n",
    "nombre_sain          2082\n",
    "nombre_exposed        599\n",
    "nombre_recovered    16359\n",
    "Name: 719, dtype: int64"
   ]
  },
  {
   "cell_type": "markdown",
   "id": "2dd85f12",
   "metadata": {},
   "source": [
    "nombre_infected       973\n",
    "nombre_sain          2091\n",
    "nombre_exposed        562\n",
    "nombre_recovered    16374\n",
    "Name: 720, dtype: int64"
   ]
  },
  {
   "cell_type": "markdown",
   "id": "f97a5376",
   "metadata": {},
   "source": [
    "nombre_infected       970\n",
    "nombre_sain          2065\n",
    "nombre_exposed        564\n",
    "nombre_recovered    16401\n",
    "Name: 721, dtype: int64"
   ]
  },
  {
   "cell_type": "markdown",
   "id": "3c526109",
   "metadata": {},
   "source": [
    "nombre_infected       965\n",
    "nombre_sain          2058\n",
    "nombre_exposed        546\n",
    "nombre_recovered    16431\n",
    "Name: 722, dtype: int64"
   ]
  },
  {
   "cell_type": "markdown",
   "id": "3f8aff5a",
   "metadata": {},
   "source": [
    "nombre_infected       923\n",
    "nombre_sain          2055\n",
    "nombre_exposed        552\n",
    "nombre_recovered    16470\n",
    "Name: 723, dtype: int64"
   ]
  },
  {
   "cell_type": "markdown",
   "id": "d994624c",
   "metadata": {},
   "source": [
    "nombre_infected       919\n",
    "nombre_sain          2021\n",
    "nombre_exposed        544\n",
    "nombre_recovered    16516\n",
    "Name: 724, dtype: int64"
   ]
  },
  {
   "cell_type": "markdown",
   "id": "e994565c",
   "metadata": {},
   "source": [
    "nombre_infected       897\n",
    "nombre_sain          2007\n",
    "nombre_exposed        539\n",
    "nombre_recovered    16557\n",
    "Name: 725, dtype: int64"
   ]
  },
  {
   "cell_type": "markdown",
   "id": "023d64d5",
   "metadata": {},
   "source": [
    "nombre_infected       923\n",
    "nombre_sain          1987\n",
    "nombre_exposed        517\n",
    "nombre_recovered    16573\n",
    "Name: 726, dtype: int64"
   ]
  },
  {
   "cell_type": "markdown",
   "id": "52ad0c7d",
   "metadata": {},
   "source": [
    "nombre_infected       909\n",
    "nombre_sain          1998\n",
    "nombre_exposed        501\n",
    "nombre_recovered    16592\n",
    "Name: 727, dtype: int64"
   ]
  },
  {
   "cell_type": "markdown",
   "id": "45f9c594",
   "metadata": {},
   "source": [
    "nombre_infected       905\n",
    "nombre_sain          2008\n",
    "nombre_exposed        475\n",
    "nombre_recovered    16612\n",
    "Name: 728, dtype: int64"
   ]
  },
  {
   "cell_type": "markdown",
   "id": "cc11f604",
   "metadata": {},
   "source": [
    "nombre_infected       895\n",
    "nombre_sain          1990\n",
    "nombre_exposed        468\n",
    "nombre_recovered    16647\n",
    "Name: 729, dtype: int64"
   ]
  },
  {
   "cell_type": "markdown",
   "id": "4197ba10",
   "metadata": {},
   "source": [
    "nombre_infected       857\n",
    "nombre_sain          1971\n",
    "nombre_exposed        479\n",
    "nombre_recovered    16693\n",
    "Name: 730, dtype: int64"
   ]
  }
 ],
 "metadata": {},
 "nbformat": 4,
 "nbformat_minor": 5
}
