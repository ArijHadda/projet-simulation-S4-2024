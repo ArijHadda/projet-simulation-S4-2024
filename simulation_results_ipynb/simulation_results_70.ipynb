{
 "cells": [
  {
   "cell_type": "markdown",
   "id": "17f3a988",
   "metadata": {},
   "source": [
    "nombre_infected        20\n",
    "nombre_sain         19980\n",
    "nombre_exposed          0\n",
    "nombre_recovered        0\n",
    "Name: 0, dtype: int64"
   ]
  },
  {
   "cell_type": "markdown",
   "id": "12bb87fb",
   "metadata": {},
   "source": [
    "nombre_infected        20\n",
    "nombre_sain         19963\n",
    "nombre_exposed         17\n",
    "nombre_recovered        0\n",
    "Name: 1, dtype: int64"
   ]
  },
  {
   "cell_type": "markdown",
   "id": "5c918c65",
   "metadata": {},
   "source": [
    "nombre_infected        20\n",
    "nombre_sain         19938\n",
    "nombre_exposed         42\n",
    "nombre_recovered        0\n",
    "Name: 2, dtype: int64"
   ]
  },
  {
   "cell_type": "markdown",
   "id": "346df592",
   "metadata": {},
   "source": [
    "nombre_infected        23\n",
    "nombre_sain         19912\n",
    "nombre_exposed         65\n",
    "nombre_recovered        0\n",
    "Name: 3, dtype: int64"
   ]
  },
  {
   "cell_type": "markdown",
   "id": "ddbfcca3",
   "metadata": {},
   "source": [
    "nombre_infected        10\n",
    "nombre_sain         19887\n",
    "nombre_exposed         83\n",
    "nombre_recovered       20\n",
    "Name: 4, dtype: int64"
   ]
  },
  {
   "cell_type": "markdown",
   "id": "6bdf10eb",
   "metadata": {},
   "source": [
    "nombre_infected        23\n",
    "nombre_sain         19879\n",
    "nombre_exposed         78\n",
    "nombre_recovered       20\n",
    "Name: 5, dtype: int64"
   ]
  },
  {
   "cell_type": "markdown",
   "id": "f4ae9bc8",
   "metadata": {},
   "source": [
    "nombre_infected        30\n",
    "nombre_sain         19852\n",
    "nombre_exposed         95\n",
    "nombre_recovered       23\n",
    "Name: 6, dtype: int64"
   ]
  },
  {
   "cell_type": "markdown",
   "id": "ce61b1bd",
   "metadata": {},
   "source": [
    "nombre_infected        45\n",
    "nombre_sain         19802\n",
    "nombre_exposed        127\n",
    "nombre_recovered       26\n",
    "Name: 7, dtype: int64"
   ]
  },
  {
   "cell_type": "markdown",
   "id": "6e512f40",
   "metadata": {},
   "source": [
    "nombre_infected        63\n",
    "nombre_sain         19740\n",
    "nombre_exposed        167\n",
    "nombre_recovered       30\n",
    "Name: 8, dtype: int64"
   ]
  },
  {
   "cell_type": "markdown",
   "id": "3d6df6ca",
   "metadata": {},
   "source": [
    "nombre_infected        85\n",
    "nombre_sain         19652\n",
    "nombre_exposed        231\n",
    "nombre_recovered       32\n",
    "Name: 9, dtype: int64"
   ]
  },
  {
   "cell_type": "markdown",
   "id": "c42db024",
   "metadata": {},
   "source": [
    "nombre_infected       111\n",
    "nombre_sain         19512\n",
    "nombre_exposed        337\n",
    "nombre_recovered       40\n",
    "Name: 10, dtype: int64"
   ]
  },
  {
   "cell_type": "markdown",
   "id": "8ad8c2c5",
   "metadata": {},
   "source": [
    "nombre_infected       160\n",
    "nombre_sain         19337\n",
    "nombre_exposed        455\n",
    "nombre_recovered       48\n",
    "Name: 11, dtype: int64"
   ]
  },
  {
   "cell_type": "markdown",
   "id": "969c4c25",
   "metadata": {},
   "source": [
    "nombre_infected       213\n",
    "nombre_sain         19127\n",
    "nombre_exposed        600\n",
    "nombre_recovered       60\n",
    "Name: 12, dtype: int64"
   ]
  },
  {
   "cell_type": "markdown",
   "id": "3c5e4433",
   "metadata": {},
   "source": [
    "nombre_infected       289\n",
    "nombre_sain         18806\n",
    "nombre_exposed        826\n",
    "nombre_recovered       79\n",
    "Name: 13, dtype: int64"
   ]
  },
  {
   "cell_type": "markdown",
   "id": "66c9cf43",
   "metadata": {},
   "source": [
    "nombre_infected       404\n",
    "nombre_sain         18430\n",
    "nombre_exposed       1063\n",
    "nombre_recovered      103\n",
    "Name: 14, dtype: int64"
   ]
  },
  {
   "cell_type": "markdown",
   "id": "e43b0cf6",
   "metadata": {},
   "source": [
    "nombre_infected       549\n",
    "nombre_sain         17899\n",
    "nombre_exposed       1401\n",
    "nombre_recovered      151\n",
    "Name: 15, dtype: int64"
   ]
  },
  {
   "cell_type": "markdown",
   "id": "7c66232c",
   "metadata": {},
   "source": [
    "nombre_infected       723\n",
    "nombre_sain         17247\n",
    "nombre_exposed       1830\n",
    "nombre_recovered      200\n",
    "Name: 16, dtype: int64"
   ]
  },
  {
   "cell_type": "markdown",
   "id": "40811e3d",
   "metadata": {},
   "source": [
    "nombre_infected       984\n",
    "nombre_sain         16376\n",
    "nombre_exposed       2381\n",
    "nombre_recovered      259\n",
    "Name: 17, dtype: int64"
   ]
  },
  {
   "cell_type": "markdown",
   "id": "b52b90e7",
   "metadata": {},
   "source": [
    "nombre_infected      1282\n",
    "nombre_sain         15371\n",
    "nombre_exposed       2992\n",
    "nombre_recovered      355\n",
    "Name: 18, dtype: int64"
   ]
  },
  {
   "cell_type": "markdown",
   "id": "de4a3d8d",
   "metadata": {},
   "source": [
    "nombre_infected      1655\n",
    "nombre_sain         14113\n",
    "nombre_exposed       3754\n",
    "nombre_recovered      478\n",
    "Name: 19, dtype: int64"
   ]
  },
  {
   "cell_type": "markdown",
   "id": "db6c13bb",
   "metadata": {},
   "source": [
    "nombre_infected      2162\n",
    "nombre_sain         12678\n",
    "nombre_exposed       4504\n",
    "nombre_recovered      656\n",
    "Name: 20, dtype: int64"
   ]
  },
  {
   "cell_type": "markdown",
   "id": "563d7ba4",
   "metadata": {},
   "source": [
    "nombre_infected      2790\n",
    "nombre_sain         11076\n",
    "nombre_exposed       5276\n",
    "nombre_recovered      858\n",
    "Name: 21, dtype: int64"
   ]
  },
  {
   "cell_type": "markdown",
   "id": "a840def7",
   "metadata": {},
   "source": [
    "nombre_infected     3482\n",
    "nombre_sain         9282\n",
    "nombre_exposed      6106\n",
    "nombre_recovered    1130\n",
    "Name: 22, dtype: int64"
   ]
  },
  {
   "cell_type": "markdown",
   "id": "d74c88c8",
   "metadata": {},
   "source": [
    "nombre_infected     4309\n",
    "nombre_sain         7543\n",
    "nombre_exposed      6690\n",
    "nombre_recovered    1458\n",
    "Name: 23, dtype: int64"
   ]
  },
  {
   "cell_type": "markdown",
   "id": "829a94ab",
   "metadata": {},
   "source": [
    "nombre_infected     5191\n",
    "nombre_sain         5887\n",
    "nombre_exposed      7057\n",
    "nombre_recovered    1865\n",
    "Name: 24, dtype: int64"
   ]
  },
  {
   "cell_type": "markdown",
   "id": "a5ec3840",
   "metadata": {},
   "source": [
    "nombre_infected     6016\n",
    "nombre_sain         4419\n",
    "nombre_exposed      7145\n",
    "nombre_recovered    2420\n",
    "Name: 25, dtype: int64"
   ]
  },
  {
   "cell_type": "markdown",
   "id": "f07b82a1",
   "metadata": {},
   "source": [
    "nombre_infected     6838\n",
    "nombre_sain         3217\n",
    "nombre_exposed      6877\n",
    "nombre_recovered    3068\n",
    "Name: 26, dtype: int64"
   ]
  },
  {
   "cell_type": "markdown",
   "id": "8baf4cc1",
   "metadata": {},
   "source": [
    "nombre_infected     7606\n",
    "nombre_sain         2327\n",
    "nombre_exposed      6304\n",
    "nombre_recovered    3763\n",
    "Name: 27, dtype: int64"
   ]
  },
  {
   "cell_type": "markdown",
   "id": "e70789ba",
   "metadata": {},
   "source": [
    "nombre_infected     8235\n",
    "nombre_sain         1603\n",
    "nombre_exposed      5579\n",
    "nombre_recovered    4583\n",
    "Name: 28, dtype: int64"
   ]
  },
  {
   "cell_type": "markdown",
   "id": "79467816",
   "metadata": {},
   "source": [
    "nombre_infected     8534\n",
    "nombre_sain         1144\n",
    "nombre_exposed      4793\n",
    "nombre_recovered    5529\n",
    "Name: 29, dtype: int64"
   ]
  },
  {
   "cell_type": "markdown",
   "id": "a1aa4c0c",
   "metadata": {},
   "source": [
    "nombre_infected     8773\n",
    "nombre_sain          826\n",
    "nombre_exposed      3923\n",
    "nombre_recovered    6478\n",
    "Name: 30, dtype: int64"
   ]
  },
  {
   "cell_type": "markdown",
   "id": "763e2400",
   "metadata": {},
   "source": [
    "nombre_infected     8722\n",
    "nombre_sain          562\n",
    "nombre_exposed      3268\n",
    "nombre_recovered    7448\n",
    "Name: 31, dtype: int64"
   ]
  },
  {
   "cell_type": "markdown",
   "id": "b53329c0",
   "metadata": {},
   "source": [
    "nombre_infected     8429\n",
    "nombre_sain          436\n",
    "nombre_exposed      2661\n",
    "nombre_recovered    8474\n",
    "Name: 32, dtype: int64"
   ]
  },
  {
   "cell_type": "markdown",
   "id": "9dc07e10",
   "metadata": {},
   "source": [
    "nombre_infected     8022\n",
    "nombre_sain          337\n",
    "nombre_exposed      2124\n",
    "nombre_recovered    9517\n",
    "Name: 33, dtype: int64"
   ]
  },
  {
   "cell_type": "markdown",
   "id": "70c87446",
   "metadata": {},
   "source": [
    "nombre_infected      7582\n",
    "nombre_sain           270\n",
    "nombre_exposed       1703\n",
    "nombre_recovered    10445\n",
    "Name: 34, dtype: int64"
   ]
  },
  {
   "cell_type": "markdown",
   "id": "3f87ddc9",
   "metadata": {},
   "source": [
    "nombre_infected      7062\n",
    "nombre_sain           228\n",
    "nombre_exposed       1362\n",
    "nombre_recovered    11348\n",
    "Name: 35, dtype: int64"
   ]
  },
  {
   "cell_type": "markdown",
   "id": "94acc717",
   "metadata": {},
   "source": [
    "nombre_infected      6583\n",
    "nombre_sain           204\n",
    "nombre_exposed       1050\n",
    "nombre_recovered    12163\n",
    "Name: 36, dtype: int64"
   ]
  },
  {
   "cell_type": "markdown",
   "id": "4b41f9a8",
   "metadata": {},
   "source": [
    "nombre_infected      5989\n",
    "nombre_sain           171\n",
    "nombre_exposed        838\n",
    "nombre_recovered    13002\n",
    "Name: 37, dtype: int64"
   ]
  },
  {
   "cell_type": "markdown",
   "id": "794922b7",
   "metadata": {},
   "source": [
    "nombre_infected      5489\n",
    "nombre_sain           165\n",
    "nombre_exposed        646\n",
    "nombre_recovered    13700\n",
    "Name: 38, dtype: int64"
   ]
  },
  {
   "cell_type": "markdown",
   "id": "2f1db4aa",
   "metadata": {},
   "source": [
    "nombre_infected      5036\n",
    "nombre_sain           157\n",
    "nombre_exposed        497\n",
    "nombre_recovered    14310\n",
    "Name: 39, dtype: int64"
   ]
  },
  {
   "cell_type": "markdown",
   "id": "5546a697",
   "metadata": {},
   "source": [
    "nombre_infected      4584\n",
    "nombre_sain           173\n",
    "nombre_exposed        383\n",
    "nombre_recovered    14860\n",
    "Name: 40, dtype: int64"
   ]
  },
  {
   "cell_type": "markdown",
   "id": "7cf6c841",
   "metadata": {},
   "source": [
    "nombre_infected      4136\n",
    "nombre_sain           187\n",
    "nombre_exposed        304\n",
    "nombre_recovered    15373\n",
    "Name: 41, dtype: int64"
   ]
  },
  {
   "cell_type": "markdown",
   "id": "60db00c0",
   "metadata": {},
   "source": [
    "nombre_infected      3744\n",
    "nombre_sain           203\n",
    "nombre_exposed        244\n",
    "nombre_recovered    15809\n",
    "Name: 42, dtype: int64"
   ]
  },
  {
   "cell_type": "markdown",
   "id": "e8ceaddd",
   "metadata": {},
   "source": [
    "nombre_infected      3382\n",
    "nombre_sain           216\n",
    "nombre_exposed        211\n",
    "nombre_recovered    16191\n",
    "Name: 43, dtype: int64"
   ]
  },
  {
   "cell_type": "markdown",
   "id": "7943de18",
   "metadata": {},
   "source": [
    "nombre_infected      3077\n",
    "nombre_sain           232\n",
    "nombre_exposed        189\n",
    "nombre_recovered    16502\n",
    "Name: 44, dtype: int64"
   ]
  },
  {
   "cell_type": "markdown",
   "id": "10225273",
   "metadata": {},
   "source": [
    "nombre_infected      2733\n",
    "nombre_sain           253\n",
    "nombre_exposed        165\n",
    "nombre_recovered    16849\n",
    "Name: 45, dtype: int64"
   ]
  },
  {
   "cell_type": "markdown",
   "id": "bc26163e",
   "metadata": {},
   "source": [
    "nombre_infected      2455\n",
    "nombre_sain           271\n",
    "nombre_exposed        154\n",
    "nombre_recovered    17120\n",
    "Name: 46, dtype: int64"
   ]
  },
  {
   "cell_type": "markdown",
   "id": "1fe016b6",
   "metadata": {},
   "source": [
    "nombre_infected      2202\n",
    "nombre_sain           295\n",
    "nombre_exposed        150\n",
    "nombre_recovered    17353\n",
    "Name: 47, dtype: int64"
   ]
  },
  {
   "cell_type": "markdown",
   "id": "bbbff98e",
   "metadata": {},
   "source": [
    "nombre_infected      1981\n",
    "nombre_sain           327\n",
    "nombre_exposed        136\n",
    "nombre_recovered    17556\n",
    "Name: 48, dtype: int64"
   ]
  },
  {
   "cell_type": "markdown",
   "id": "1d8b2336",
   "metadata": {},
   "source": [
    "nombre_infected      1757\n",
    "nombre_sain           358\n",
    "nombre_exposed        136\n",
    "nombre_recovered    17749\n",
    "Name: 49, dtype: int64"
   ]
  },
  {
   "cell_type": "markdown",
   "id": "2ad1f766",
   "metadata": {},
   "source": [
    "nombre_infected      1584\n",
    "nombre_sain           388\n",
    "nombre_exposed        120\n",
    "nombre_recovered    17908\n",
    "Name: 50, dtype: int64"
   ]
  },
  {
   "cell_type": "markdown",
   "id": "9ee57656",
   "metadata": {},
   "source": [
    "nombre_infected      1420\n",
    "nombre_sain           405\n",
    "nombre_exposed        139\n",
    "nombre_recovered    18036\n",
    "Name: 51, dtype: int64"
   ]
  },
  {
   "cell_type": "markdown",
   "id": "a40f91c2",
   "metadata": {},
   "source": [
    "nombre_infected      1231\n",
    "nombre_sain           461\n",
    "nombre_exposed        146\n",
    "nombre_recovered    18162\n",
    "Name: 52, dtype: int64"
   ]
  },
  {
   "cell_type": "markdown",
   "id": "87394c66",
   "metadata": {},
   "source": [
    "nombre_infected      1096\n",
    "nombre_sain           502\n",
    "nombre_exposed        146\n",
    "nombre_recovered    18256\n",
    "Name: 53, dtype: int64"
   ]
  },
  {
   "cell_type": "markdown",
   "id": "88a3aafd",
   "metadata": {},
   "source": [
    "nombre_infected       970\n",
    "nombre_sain           566\n",
    "nombre_exposed        141\n",
    "nombre_recovered    18323\n",
    "Name: 54, dtype: int64"
   ]
  },
  {
   "cell_type": "markdown",
   "id": "0b2d017a",
   "metadata": {},
   "source": [
    "nombre_infected       862\n",
    "nombre_sain           618\n",
    "nombre_exposed        129\n",
    "nombre_recovered    18391\n",
    "Name: 55, dtype: int64"
   ]
  },
  {
   "cell_type": "markdown",
   "id": "35bb33fe",
   "metadata": {},
   "source": [
    "nombre_infected       762\n",
    "nombre_sain           687\n",
    "nombre_exposed        126\n",
    "nombre_recovered    18425\n",
    "Name: 56, dtype: int64"
   ]
  },
  {
   "cell_type": "markdown",
   "id": "f3d7f778",
   "metadata": {},
   "source": [
    "nombre_infected       661\n",
    "nombre_sain           730\n",
    "nombre_exposed        135\n",
    "nombre_recovered    18474\n",
    "Name: 57, dtype: int64"
   ]
  },
  {
   "cell_type": "markdown",
   "id": "d722c219",
   "metadata": {},
   "source": [
    "nombre_infected       583\n",
    "nombre_sain           775\n",
    "nombre_exposed        146\n",
    "nombre_recovered    18496\n",
    "Name: 58, dtype: int64"
   ]
  },
  {
   "cell_type": "markdown",
   "id": "3ffb1191",
   "metadata": {},
   "source": [
    "nombre_infected       506\n",
    "nombre_sain           814\n",
    "nombre_exposed        143\n",
    "nombre_recovered    18537\n",
    "Name: 59, dtype: int64"
   ]
  },
  {
   "cell_type": "markdown",
   "id": "f8ba85e6",
   "metadata": {},
   "source": [
    "nombre_infected       463\n",
    "nombre_sain           863\n",
    "nombre_exposed        132\n",
    "nombre_recovered    18542\n",
    "Name: 60, dtype: int64"
   ]
  },
  {
   "cell_type": "markdown",
   "id": "db159b52",
   "metadata": {},
   "source": [
    "nombre_infected       419\n",
    "nombre_sain           885\n",
    "nombre_exposed        138\n",
    "nombre_recovered    18558\n",
    "Name: 61, dtype: int64"
   ]
  },
  {
   "cell_type": "markdown",
   "id": "81012690",
   "metadata": {},
   "source": [
    "nombre_infected       376\n",
    "nombre_sain           916\n",
    "nombre_exposed        141\n",
    "nombre_recovered    18567\n",
    "Name: 62, dtype: int64"
   ]
  },
  {
   "cell_type": "markdown",
   "id": "0e73d5e6",
   "metadata": {},
   "source": [
    "nombre_infected       327\n",
    "nombre_sain           959\n",
    "nombre_exposed        134\n",
    "nombre_recovered    18580\n",
    "Name: 63, dtype: int64"
   ]
  },
  {
   "cell_type": "markdown",
   "id": "abaef603",
   "metadata": {},
   "source": [
    "nombre_infected       294\n",
    "nombre_sain           998\n",
    "nombre_exposed        125\n",
    "nombre_recovered    18583\n",
    "Name: 64, dtype: int64"
   ]
  },
  {
   "cell_type": "markdown",
   "id": "386301f0",
   "metadata": {},
   "source": [
    "nombre_infected       268\n",
    "nombre_sain          1051\n",
    "nombre_exposed        110\n",
    "nombre_recovered    18571\n",
    "Name: 65, dtype: int64"
   ]
  },
  {
   "cell_type": "markdown",
   "id": "c04b9ed5",
   "metadata": {},
   "source": [
    "nombre_infected       225\n",
    "nombre_sain          1096\n",
    "nombre_exposed        107\n",
    "nombre_recovered    18572\n",
    "Name: 66, dtype: int64"
   ]
  },
  {
   "cell_type": "markdown",
   "id": "82fe7470",
   "metadata": {},
   "source": [
    "nombre_infected       201\n",
    "nombre_sain          1145\n",
    "nombre_exposed        102\n",
    "nombre_recovered    18552\n",
    "Name: 67, dtype: int64"
   ]
  },
  {
   "cell_type": "markdown",
   "id": "971a4139",
   "metadata": {},
   "source": [
    "nombre_infected       198\n",
    "nombre_sain          1193\n",
    "nombre_exposed         89\n",
    "nombre_recovered    18520\n",
    "Name: 68, dtype: int64"
   ]
  },
  {
   "cell_type": "markdown",
   "id": "ff97b9f2",
   "metadata": {},
   "source": [
    "nombre_infected       181\n",
    "nombre_sain          1237\n",
    "nombre_exposed         96\n",
    "nombre_recovered    18486\n",
    "Name: 69, dtype: int64"
   ]
  },
  {
   "cell_type": "markdown",
   "id": "dfa72502",
   "metadata": {},
   "source": [
    "nombre_infected       166\n",
    "nombre_sain          1270\n",
    "nombre_exposed         97\n",
    "nombre_recovered    18467\n",
    "Name: 70, dtype: int64"
   ]
  },
  {
   "cell_type": "markdown",
   "id": "7ccac97c",
   "metadata": {},
   "source": [
    "nombre_infected       152\n",
    "nombre_sain          1315\n",
    "nombre_exposed        104\n",
    "nombre_recovered    18429\n",
    "Name: 71, dtype: int64"
   ]
  },
  {
   "cell_type": "markdown",
   "id": "93c05b85",
   "metadata": {},
   "source": [
    "nombre_infected       138\n",
    "nombre_sain          1376\n",
    "nombre_exposed         91\n",
    "nombre_recovered    18395\n",
    "Name: 72, dtype: int64"
   ]
  },
  {
   "cell_type": "markdown",
   "id": "b3a951c6",
   "metadata": {},
   "source": [
    "nombre_infected       140\n",
    "nombre_sain          1432\n",
    "nombre_exposed         75\n",
    "nombre_recovered    18353\n",
    "Name: 73, dtype: int64"
   ]
  },
  {
   "cell_type": "markdown",
   "id": "40f09a14",
   "metadata": {},
   "source": [
    "nombre_infected       130\n",
    "nombre_sain          1499\n",
    "nombre_exposed         64\n",
    "nombre_recovered    18307\n",
    "Name: 74, dtype: int64"
   ]
  },
  {
   "cell_type": "markdown",
   "id": "d378b1e0",
   "metadata": {},
   "source": [
    "nombre_infected       120\n",
    "nombre_sain          1555\n",
    "nombre_exposed         64\n",
    "nombre_recovered    18261\n",
    "Name: 75, dtype: int64"
   ]
  },
  {
   "cell_type": "markdown",
   "id": "6e92cb0d",
   "metadata": {},
   "source": [
    "nombre_infected       116\n",
    "nombre_sain          1601\n",
    "nombre_exposed         58\n",
    "nombre_recovered    18225\n",
    "Name: 76, dtype: int64"
   ]
  },
  {
   "cell_type": "markdown",
   "id": "d869ec6d",
   "metadata": {},
   "source": [
    "nombre_infected       106\n",
    "nombre_sain          1649\n",
    "nombre_exposed         56\n",
    "nombre_recovered    18189\n",
    "Name: 77, dtype: int64"
   ]
  },
  {
   "cell_type": "markdown",
   "id": "53a9f01c",
   "metadata": {},
   "source": [
    "nombre_infected       105\n",
    "nombre_sain          1709\n",
    "nombre_exposed         55\n",
    "nombre_recovered    18131\n",
    "Name: 78, dtype: int64"
   ]
  },
  {
   "cell_type": "markdown",
   "id": "adaaa677",
   "metadata": {},
   "source": [
    "nombre_infected       101\n",
    "nombre_sain          1764\n",
    "nombre_exposed         56\n",
    "nombre_recovered    18079\n",
    "Name: 79, dtype: int64"
   ]
  },
  {
   "cell_type": "markdown",
   "id": "5e0c288c",
   "metadata": {},
   "source": [
    "nombre_infected        89\n",
    "nombre_sain          1801\n",
    "nombre_exposed         59\n",
    "nombre_recovered    18051\n",
    "Name: 80, dtype: int64"
   ]
  },
  {
   "cell_type": "markdown",
   "id": "4e82a3e5",
   "metadata": {},
   "source": [
    "nombre_infected        90\n",
    "nombre_sain          1858\n",
    "nombre_exposed         49\n",
    "nombre_recovered    18003\n",
    "Name: 81, dtype: int64"
   ]
  },
  {
   "cell_type": "markdown",
   "id": "c67bc110",
   "metadata": {},
   "source": [
    "nombre_infected        91\n",
    "nombre_sain          1900\n",
    "nombre_exposed         40\n",
    "nombre_recovered    17969\n",
    "Name: 82, dtype: int64"
   ]
  },
  {
   "cell_type": "markdown",
   "id": "b8169e2b",
   "metadata": {},
   "source": [
    "nombre_infected        86\n",
    "nombre_sain          1947\n",
    "nombre_exposed         36\n",
    "nombre_recovered    17931\n",
    "Name: 83, dtype: int64"
   ]
  },
  {
   "cell_type": "markdown",
   "id": "d3f05dbc",
   "metadata": {},
   "source": [
    "nombre_infected        85\n",
    "nombre_sain          2005\n",
    "nombre_exposed         37\n",
    "nombre_recovered    17873\n",
    "Name: 84, dtype: int64"
   ]
  },
  {
   "cell_type": "markdown",
   "id": "3a53b0bd",
   "metadata": {},
   "source": [
    "nombre_infected        75\n",
    "nombre_sain          2070\n",
    "nombre_exposed         34\n",
    "nombre_recovered    17821\n",
    "Name: 85, dtype: int64"
   ]
  },
  {
   "cell_type": "markdown",
   "id": "9807c531",
   "metadata": {},
   "source": [
    "nombre_infected        71\n",
    "nombre_sain          2120\n",
    "nombre_exposed         44\n",
    "nombre_recovered    17765\n",
    "Name: 86, dtype: int64"
   ]
  },
  {
   "cell_type": "markdown",
   "id": "4bf70991",
   "metadata": {},
   "source": [
    "nombre_infected        64\n",
    "nombre_sain          2171\n",
    "nombre_exposed         43\n",
    "nombre_recovered    17722\n",
    "Name: 87, dtype: int64"
   ]
  },
  {
   "cell_type": "markdown",
   "id": "44bdc4c4",
   "metadata": {},
   "source": [
    "nombre_infected        61\n",
    "nombre_sain          2227\n",
    "nombre_exposed         45\n",
    "nombre_recovered    17667\n",
    "Name: 88, dtype: int64"
   ]
  },
  {
   "cell_type": "markdown",
   "id": "5cf81d17",
   "metadata": {},
   "source": [
    "nombre_infected        60\n",
    "nombre_sain          2284\n",
    "nombre_exposed         48\n",
    "nombre_recovered    17608\n",
    "Name: 89, dtype: int64"
   ]
  },
  {
   "cell_type": "markdown",
   "id": "d2e8336d",
   "metadata": {},
   "source": [
    "nombre_infected        51\n",
    "nombre_sain          2334\n",
    "nombre_exposed         46\n",
    "nombre_recovered    17569\n",
    "Name: 90, dtype: int64"
   ]
  },
  {
   "cell_type": "markdown",
   "id": "42b01d64",
   "metadata": {},
   "source": [
    "nombre_infected        59\n",
    "nombre_sain          2397\n",
    "nombre_exposed         39\n",
    "nombre_recovered    17505\n",
    "Name: 91, dtype: int64"
   ]
  },
  {
   "cell_type": "markdown",
   "id": "a3362167",
   "metadata": {},
   "source": [
    "nombre_infected        61\n",
    "nombre_sain          2460\n",
    "nombre_exposed         32\n",
    "nombre_recovered    17447\n",
    "Name: 92, dtype: int64"
   ]
  },
  {
   "cell_type": "markdown",
   "id": "cfc3881a",
   "metadata": {},
   "source": [
    "nombre_infected        55\n",
    "nombre_sain          2519\n",
    "nombre_exposed         35\n",
    "nombre_recovered    17391\n",
    "Name: 93, dtype: int64"
   ]
  },
  {
   "cell_type": "markdown",
   "id": "e986cf17",
   "metadata": {},
   "source": [
    "nombre_infected        51\n",
    "nombre_sain          2577\n",
    "nombre_exposed         40\n",
    "nombre_recovered    17332\n",
    "Name: 94, dtype: int64"
   ]
  },
  {
   "cell_type": "markdown",
   "id": "a1f26a13",
   "metadata": {},
   "source": [
    "nombre_infected        55\n",
    "nombre_sain          2633\n",
    "nombre_exposed         33\n",
    "nombre_recovered    17279\n",
    "Name: 95, dtype: int64"
   ]
  },
  {
   "cell_type": "markdown",
   "id": "35600920",
   "metadata": {},
   "source": [
    "nombre_infected        55\n",
    "nombre_sain          2703\n",
    "nombre_exposed         34\n",
    "nombre_recovered    17208\n",
    "Name: 96, dtype: int64"
   ]
  },
  {
   "cell_type": "markdown",
   "id": "1f85ddac",
   "metadata": {},
   "source": [
    "nombre_infected        58\n",
    "nombre_sain          2765\n",
    "nombre_exposed         31\n",
    "nombre_recovered    17146\n",
    "Name: 97, dtype: int64"
   ]
  },
  {
   "cell_type": "markdown",
   "id": "fb6e4f72",
   "metadata": {},
   "source": [
    "nombre_infected        58\n",
    "nombre_sain          2823\n",
    "nombre_exposed         34\n",
    "nombre_recovered    17085\n",
    "Name: 98, dtype: int64"
   ]
  },
  {
   "cell_type": "markdown",
   "id": "beb475a4",
   "metadata": {},
   "source": [
    "nombre_infected        58\n",
    "nombre_sain          2874\n",
    "nombre_exposed         36\n",
    "nombre_recovered    17032\n",
    "Name: 99, dtype: int64"
   ]
  },
  {
   "cell_type": "markdown",
   "id": "420fc792",
   "metadata": {},
   "source": [
    "nombre_infected        58\n",
    "nombre_sain          2920\n",
    "nombre_exposed         44\n",
    "nombre_recovered    16978\n",
    "Name: 100, dtype: int64"
   ]
  },
  {
   "cell_type": "markdown",
   "id": "3b50eadf",
   "metadata": {},
   "source": [
    "nombre_infected        58\n",
    "nombre_sain          2986\n",
    "nombre_exposed         49\n",
    "nombre_recovered    16907\n",
    "Name: 101, dtype: int64"
   ]
  },
  {
   "cell_type": "markdown",
   "id": "6d05a504",
   "metadata": {},
   "source": [
    "nombre_infected        62\n",
    "nombre_sain          3041\n",
    "nombre_exposed         52\n",
    "nombre_recovered    16845\n",
    "Name: 102, dtype: int64"
   ]
  },
  {
   "cell_type": "markdown",
   "id": "ea4a828a",
   "metadata": {},
   "source": [
    "nombre_infected        67\n",
    "nombre_sain          3099\n",
    "nombre_exposed         55\n",
    "nombre_recovered    16779\n",
    "Name: 103, dtype: int64"
   ]
  },
  {
   "cell_type": "markdown",
   "id": "4ade6eb2",
   "metadata": {},
   "source": [
    "nombre_infected        66\n",
    "nombre_sain          3150\n",
    "nombre_exposed         58\n",
    "nombre_recovered    16726\n",
    "Name: 104, dtype: int64"
   ]
  },
  {
   "cell_type": "markdown",
   "id": "0c4cae7c",
   "metadata": {},
   "source": [
    "nombre_infected        64\n",
    "nombre_sain          3189\n",
    "nombre_exposed         68\n",
    "nombre_recovered    16679\n",
    "Name: 105, dtype: int64"
   ]
  },
  {
   "cell_type": "markdown",
   "id": "d4c0be9b",
   "metadata": {},
   "source": [
    "nombre_infected        66\n",
    "nombre_sain          3237\n",
    "nombre_exposed         59\n",
    "nombre_recovered    16638\n",
    "Name: 106, dtype: int64"
   ]
  },
  {
   "cell_type": "markdown",
   "id": "47f62277",
   "metadata": {},
   "source": [
    "nombre_infected        68\n",
    "nombre_sain          3274\n",
    "nombre_exposed         58\n",
    "nombre_recovered    16600\n",
    "Name: 107, dtype: int64"
   ]
  },
  {
   "cell_type": "markdown",
   "id": "d5215a7b",
   "metadata": {},
   "source": [
    "nombre_infected        74\n",
    "nombre_sain          3300\n",
    "nombre_exposed         55\n",
    "nombre_recovered    16571\n",
    "Name: 108, dtype: int64"
   ]
  },
  {
   "cell_type": "markdown",
   "id": "de743b1c",
   "metadata": {},
   "source": [
    "nombre_infected        77\n",
    "nombre_sain          3338\n",
    "nombre_exposed         60\n",
    "nombre_recovered    16525\n",
    "Name: 109, dtype: int64"
   ]
  },
  {
   "cell_type": "markdown",
   "id": "db9b6368",
   "metadata": {},
   "source": [
    "nombre_infected        78\n",
    "nombre_sain          3366\n",
    "nombre_exposed         56\n",
    "nombre_recovered    16500\n",
    "Name: 110, dtype: int64"
   ]
  },
  {
   "cell_type": "markdown",
   "id": "c40d7f87",
   "metadata": {},
   "source": [
    "nombre_infected        81\n",
    "nombre_sain          3396\n",
    "nombre_exposed         62\n",
    "nombre_recovered    16461\n",
    "Name: 111, dtype: int64"
   ]
  },
  {
   "cell_type": "markdown",
   "id": "219c2ff3",
   "metadata": {},
   "source": [
    "nombre_infected        79\n",
    "nombre_sain          3419\n",
    "nombre_exposed         63\n",
    "nombre_recovered    16439\n",
    "Name: 112, dtype: int64"
   ]
  },
  {
   "cell_type": "markdown",
   "id": "6bef7a57",
   "metadata": {},
   "source": [
    "nombre_infected        76\n",
    "nombre_sain          3445\n",
    "nombre_exposed         73\n",
    "nombre_recovered    16406\n",
    "Name: 113, dtype: int64"
   ]
  },
  {
   "cell_type": "markdown",
   "id": "386b3295",
   "metadata": {},
   "source": [
    "nombre_infected        70\n",
    "nombre_sain          3476\n",
    "nombre_exposed         80\n",
    "nombre_recovered    16374\n",
    "Name: 114, dtype: int64"
   ]
  },
  {
   "cell_type": "markdown",
   "id": "8d22ff9e",
   "metadata": {},
   "source": [
    "nombre_infected        77\n",
    "nombre_sain          3491\n",
    "nombre_exposed         82\n",
    "nombre_recovered    16350\n",
    "Name: 115, dtype: int64"
   ]
  },
  {
   "cell_type": "markdown",
   "id": "6b7b7d04",
   "metadata": {},
   "source": [
    "nombre_infected        84\n",
    "nombre_sain          3507\n",
    "nombre_exposed         87\n",
    "nombre_recovered    16322\n",
    "Name: 116, dtype: int64"
   ]
  },
  {
   "cell_type": "markdown",
   "id": "761594f4",
   "metadata": {},
   "source": [
    "nombre_infected        90\n",
    "nombre_sain          3537\n",
    "nombre_exposed         82\n",
    "nombre_recovered    16291\n",
    "Name: 117, dtype: int64"
   ]
  },
  {
   "cell_type": "markdown",
   "id": "82df62b7",
   "metadata": {},
   "source": [
    "nombre_infected        94\n",
    "nombre_sain          3546\n",
    "nombre_exposed         86\n",
    "nombre_recovered    16274\n",
    "Name: 118, dtype: int64"
   ]
  },
  {
   "cell_type": "markdown",
   "id": "767e6b83",
   "metadata": {},
   "source": [
    "nombre_infected        98\n",
    "nombre_sain          3575\n",
    "nombre_exposed         87\n",
    "nombre_recovered    16240\n",
    "Name: 119, dtype: int64"
   ]
  },
  {
   "cell_type": "markdown",
   "id": "f5c96415",
   "metadata": {},
   "source": [
    "nombre_infected       101\n",
    "nombre_sain          3588\n",
    "nombre_exposed        100\n",
    "nombre_recovered    16211\n",
    "Name: 120, dtype: int64"
   ]
  },
  {
   "cell_type": "markdown",
   "id": "fae3b4df",
   "metadata": {},
   "source": [
    "nombre_infected       101\n",
    "nombre_sain          3606\n",
    "nombre_exposed         94\n",
    "nombre_recovered    16199\n",
    "Name: 121, dtype: int64"
   ]
  },
  {
   "cell_type": "markdown",
   "id": "993cca69",
   "metadata": {},
   "source": [
    "nombre_infected       108\n",
    "nombre_sain          3624\n",
    "nombre_exposed         96\n",
    "nombre_recovered    16172\n",
    "Name: 122, dtype: int64"
   ]
  },
  {
   "cell_type": "markdown",
   "id": "9801c76e",
   "metadata": {},
   "source": [
    "nombre_infected       115\n",
    "nombre_sain          3629\n",
    "nombre_exposed        100\n",
    "nombre_recovered    16156\n",
    "Name: 123, dtype: int64"
   ]
  },
  {
   "cell_type": "markdown",
   "id": "7aed5eb6",
   "metadata": {},
   "source": [
    "nombre_infected       121\n",
    "nombre_sain          3640\n",
    "nombre_exposed        100\n",
    "nombre_recovered    16139\n",
    "Name: 124, dtype: int64"
   ]
  },
  {
   "cell_type": "markdown",
   "id": "9c8be74f",
   "metadata": {},
   "source": [
    "nombre_infected       119\n",
    "nombre_sain          3656\n",
    "nombre_exposed        108\n",
    "nombre_recovered    16117\n",
    "Name: 125, dtype: int64"
   ]
  },
  {
   "cell_type": "markdown",
   "id": "cc625716",
   "metadata": {},
   "source": [
    "nombre_infected       125\n",
    "nombre_sain          3665\n",
    "nombre_exposed        122\n",
    "nombre_recovered    16088\n",
    "Name: 126, dtype: int64"
   ]
  },
  {
   "cell_type": "markdown",
   "id": "8eb7095a",
   "metadata": {},
   "source": [
    "nombre_infected       126\n",
    "nombre_sain          3669\n",
    "nombre_exposed        139\n",
    "nombre_recovered    16066\n",
    "Name: 127, dtype: int64"
   ]
  },
  {
   "cell_type": "markdown",
   "id": "f5a29c74",
   "metadata": {},
   "source": [
    "nombre_infected       132\n",
    "nombre_sain          3683\n",
    "nombre_exposed        140\n",
    "nombre_recovered    16045\n",
    "Name: 128, dtype: int64"
   ]
  },
  {
   "cell_type": "markdown",
   "id": "81919062",
   "metadata": {},
   "source": [
    "nombre_infected       145\n",
    "nombre_sain          3675\n",
    "nombre_exposed        152\n",
    "nombre_recovered    16028\n",
    "Name: 129, dtype: int64"
   ]
  },
  {
   "cell_type": "markdown",
   "id": "cb9c61a2",
   "metadata": {},
   "source": [
    "nombre_infected       162\n",
    "nombre_sain          3673\n",
    "nombre_exposed        146\n",
    "nombre_recovered    16019\n",
    "Name: 130, dtype: int64"
   ]
  },
  {
   "cell_type": "markdown",
   "id": "84ae956c",
   "metadata": {},
   "source": [
    "nombre_infected       162\n",
    "nombre_sain          3673\n",
    "nombre_exposed        153\n",
    "nombre_recovered    16012\n",
    "Name: 131, dtype: int64"
   ]
  },
  {
   "cell_type": "markdown",
   "id": "acc4731a",
   "metadata": {},
   "source": [
    "nombre_infected       167\n",
    "nombre_sain          3689\n",
    "nombre_exposed        158\n",
    "nombre_recovered    15986\n",
    "Name: 132, dtype: int64"
   ]
  },
  {
   "cell_type": "markdown",
   "id": "946bd365",
   "metadata": {},
   "source": [
    "nombre_infected       182\n",
    "nombre_sain          3686\n",
    "nombre_exposed        152\n",
    "nombre_recovered    15980\n",
    "Name: 133, dtype: int64"
   ]
  },
  {
   "cell_type": "markdown",
   "id": "49cef5d4",
   "metadata": {},
   "source": [
    "nombre_infected       194\n",
    "nombre_sain          3670\n",
    "nombre_exposed        166\n",
    "nombre_recovered    15970\n",
    "Name: 134, dtype: int64"
   ]
  },
  {
   "cell_type": "markdown",
   "id": "75ecb3f7",
   "metadata": {},
   "source": [
    "nombre_infected       199\n",
    "nombre_sain          3637\n",
    "nombre_exposed        193\n",
    "nombre_recovered    15971\n",
    "Name: 135, dtype: int64"
   ]
  },
  {
   "cell_type": "markdown",
   "id": "217a6a98",
   "metadata": {},
   "source": [
    "nombre_infected       214\n",
    "nombre_sain          3631\n",
    "nombre_exposed        190\n",
    "nombre_recovered    15965\n",
    "Name: 136, dtype: int64"
   ]
  },
  {
   "cell_type": "markdown",
   "id": "8547d3b0",
   "metadata": {},
   "source": [
    "nombre_infected       224\n",
    "nombre_sain          3616\n",
    "nombre_exposed        212\n",
    "nombre_recovered    15948\n",
    "Name: 137, dtype: int64"
   ]
  },
  {
   "cell_type": "markdown",
   "id": "328d9129",
   "metadata": {},
   "source": [
    "nombre_infected       226\n",
    "nombre_sain          3602\n",
    "nombre_exposed        235\n",
    "nombre_recovered    15937\n",
    "Name: 138, dtype: int64"
   ]
  },
  {
   "cell_type": "markdown",
   "id": "32cdb231",
   "metadata": {},
   "source": [
    "nombre_infected       229\n",
    "nombre_sain          3581\n",
    "nombre_exposed        252\n",
    "nombre_recovered    15938\n",
    "Name: 139, dtype: int64"
   ]
  },
  {
   "cell_type": "markdown",
   "id": "1adb88c5",
   "metadata": {},
   "source": [
    "nombre_infected       248\n",
    "nombre_sain          3551\n",
    "nombre_exposed        264\n",
    "nombre_recovered    15937\n",
    "Name: 140, dtype: int64"
   ]
  },
  {
   "cell_type": "markdown",
   "id": "38a645d1",
   "metadata": {},
   "source": [
    "nombre_infected       267\n",
    "nombre_sain          3550\n",
    "nombre_exposed        248\n",
    "nombre_recovered    15935\n",
    "Name: 141, dtype: int64"
   ]
  },
  {
   "cell_type": "markdown",
   "id": "7f1f8de1",
   "metadata": {},
   "source": [
    "nombre_infected       281\n",
    "nombre_sain          3532\n",
    "nombre_exposed        266\n",
    "nombre_recovered    15921\n",
    "Name: 142, dtype: int64"
   ]
  },
  {
   "cell_type": "markdown",
   "id": "c2023bb9",
   "metadata": {},
   "source": [
    "nombre_infected       291\n",
    "nombre_sain          3527\n",
    "nombre_exposed        268\n",
    "nombre_recovered    15914\n",
    "Name: 143, dtype: int64"
   ]
  },
  {
   "cell_type": "markdown",
   "id": "dbb8c8c3",
   "metadata": {},
   "source": [
    "nombre_infected       305\n",
    "nombre_sain          3513\n",
    "nombre_exposed        282\n",
    "nombre_recovered    15900\n",
    "Name: 144, dtype: int64"
   ]
  },
  {
   "cell_type": "markdown",
   "id": "96026e89",
   "metadata": {},
   "source": [
    "nombre_infected       313\n",
    "nombre_sain          3503\n",
    "nombre_exposed        297\n",
    "nombre_recovered    15887\n",
    "Name: 145, dtype: int64"
   ]
  },
  {
   "cell_type": "markdown",
   "id": "4961f5da",
   "metadata": {},
   "source": [
    "nombre_infected       329\n",
    "nombre_sain          3470\n",
    "nombre_exposed        321\n",
    "nombre_recovered    15880\n",
    "Name: 146, dtype: int64"
   ]
  },
  {
   "cell_type": "markdown",
   "id": "6aae04ca",
   "metadata": {},
   "source": [
    "nombre_infected       337\n",
    "nombre_sain          3464\n",
    "nombre_exposed        326\n",
    "nombre_recovered    15873\n",
    "Name: 147, dtype: int64"
   ]
  },
  {
   "cell_type": "markdown",
   "id": "7bbd4b7b",
   "metadata": {},
   "source": [
    "nombre_infected       365\n",
    "nombre_sain          3457\n",
    "nombre_exposed        341\n",
    "nombre_recovered    15837\n",
    "Name: 148, dtype: int64"
   ]
  },
  {
   "cell_type": "markdown",
   "id": "239c7159",
   "metadata": {},
   "source": [
    "nombre_infected       378\n",
    "nombre_sain          3437\n",
    "nombre_exposed        354\n",
    "nombre_recovered    15831\n",
    "Name: 149, dtype: int64"
   ]
  },
  {
   "cell_type": "markdown",
   "id": "6dcad00f",
   "metadata": {},
   "source": [
    "nombre_infected       396\n",
    "nombre_sain          3432\n",
    "nombre_exposed        376\n",
    "nombre_recovered    15796\n",
    "Name: 150, dtype: int64"
   ]
  },
  {
   "cell_type": "markdown",
   "id": "4ed03948",
   "metadata": {},
   "source": [
    "nombre_infected       423\n",
    "nombre_sain          3402\n",
    "nombre_exposed        392\n",
    "nombre_recovered    15783\n",
    "Name: 151, dtype: int64"
   ]
  },
  {
   "cell_type": "markdown",
   "id": "ce039804",
   "metadata": {},
   "source": [
    "nombre_infected       425\n",
    "nombre_sain          3377\n",
    "nombre_exposed        418\n",
    "nombre_recovered    15780\n",
    "Name: 152, dtype: int64"
   ]
  },
  {
   "cell_type": "markdown",
   "id": "03e31406",
   "metadata": {},
   "source": [
    "nombre_infected       425\n",
    "nombre_sain          3359\n",
    "nombre_exposed        430\n",
    "nombre_recovered    15786\n",
    "Name: 153, dtype: int64"
   ]
  },
  {
   "cell_type": "markdown",
   "id": "e9dfa1ac",
   "metadata": {},
   "source": [
    "nombre_infected       455\n",
    "nombre_sain          3348\n",
    "nombre_exposed        413\n",
    "nombre_recovered    15784\n",
    "Name: 154, dtype: int64"
   ]
  },
  {
   "cell_type": "markdown",
   "id": "0fbb7bf3",
   "metadata": {},
   "source": [
    "nombre_infected       465\n",
    "nombre_sain          3316\n",
    "nombre_exposed        424\n",
    "nombre_recovered    15795\n",
    "Name: 155, dtype: int64"
   ]
  },
  {
   "cell_type": "markdown",
   "id": "c2dd8fbc",
   "metadata": {},
   "source": [
    "nombre_infected       492\n",
    "nombre_sain          3310\n",
    "nombre_exposed        404\n",
    "nombre_recovered    15794\n",
    "Name: 156, dtype: int64"
   ]
  },
  {
   "cell_type": "markdown",
   "id": "90f2e411",
   "metadata": {},
   "source": [
    "nombre_infected       510\n",
    "nombre_sain          3269\n",
    "nombre_exposed        409\n",
    "nombre_recovered    15812\n",
    "Name: 157, dtype: int64"
   ]
  },
  {
   "cell_type": "markdown",
   "id": "85ca8473",
   "metadata": {},
   "source": [
    "nombre_infected       499\n",
    "nombre_sain          3209\n",
    "nombre_exposed        448\n",
    "nombre_recovered    15844\n",
    "Name: 158, dtype: int64"
   ]
  },
  {
   "cell_type": "markdown",
   "id": "4c02a6b2",
   "metadata": {},
   "source": [
    "nombre_infected       500\n",
    "nombre_sain          3195\n",
    "nombre_exposed        444\n",
    "nombre_recovered    15861\n",
    "Name: 159, dtype: int64"
   ]
  },
  {
   "cell_type": "markdown",
   "id": "03d1ada4",
   "metadata": {},
   "source": [
    "nombre_infected       521\n",
    "nombre_sain          3129\n",
    "nombre_exposed        475\n",
    "nombre_recovered    15875\n",
    "Name: 160, dtype: int64"
   ]
  },
  {
   "cell_type": "markdown",
   "id": "12a83535",
   "metadata": {},
   "source": [
    "nombre_infected       528\n",
    "nombre_sain          3078\n",
    "nombre_exposed        483\n",
    "nombre_recovered    15911\n",
    "Name: 161, dtype: int64"
   ]
  },
  {
   "cell_type": "markdown",
   "id": "21f5bb8d",
   "metadata": {},
   "source": [
    "nombre_infected       551\n",
    "nombre_sain          3043\n",
    "nombre_exposed        490\n",
    "nombre_recovered    15916\n",
    "Name: 162, dtype: int64"
   ]
  },
  {
   "cell_type": "markdown",
   "id": "8e8916c8",
   "metadata": {},
   "source": [
    "nombre_infected       562\n",
    "nombre_sain          2995\n",
    "nombre_exposed        502\n",
    "nombre_recovered    15941\n",
    "Name: 163, dtype: int64"
   ]
  },
  {
   "cell_type": "markdown",
   "id": "2a0c75b4",
   "metadata": {},
   "source": [
    "nombre_infected       559\n",
    "nombre_sain          2949\n",
    "nombre_exposed        531\n",
    "nombre_recovered    15961\n",
    "Name: 164, dtype: int64"
   ]
  },
  {
   "cell_type": "markdown",
   "id": "7abff24b",
   "metadata": {},
   "source": [
    "nombre_infected       578\n",
    "nombre_sain          2893\n",
    "nombre_exposed        546\n",
    "nombre_recovered    15983\n",
    "Name: 165, dtype: int64"
   ]
  },
  {
   "cell_type": "markdown",
   "id": "e3ba5588",
   "metadata": {},
   "source": [
    "nombre_infected       607\n",
    "nombre_sain          2865\n",
    "nombre_exposed        533\n",
    "nombre_recovered    15995\n",
    "Name: 166, dtype: int64"
   ]
  },
  {
   "cell_type": "markdown",
   "id": "3899ab11",
   "metadata": {},
   "source": [
    "nombre_infected       630\n",
    "nombre_sain          2843\n",
    "nombre_exposed        528\n",
    "nombre_recovered    15999\n",
    "Name: 167, dtype: int64"
   ]
  },
  {
   "cell_type": "markdown",
   "id": "20efbe21",
   "metadata": {},
   "source": [
    "nombre_infected       659\n",
    "nombre_sain          2804\n",
    "nombre_exposed        523\n",
    "nombre_recovered    16014\n",
    "Name: 168, dtype: int64"
   ]
  },
  {
   "cell_type": "markdown",
   "id": "bf1ac505",
   "metadata": {},
   "source": [
    "nombre_infected       684\n",
    "nombre_sain          2755\n",
    "nombre_exposed        526\n",
    "nombre_recovered    16035\n",
    "Name: 169, dtype: int64"
   ]
  },
  {
   "cell_type": "markdown",
   "id": "f2a22791",
   "metadata": {},
   "source": [
    "nombre_infected       685\n",
    "nombre_sain          2704\n",
    "nombre_exposed        535\n",
    "nombre_recovered    16076\n",
    "Name: 170, dtype: int64"
   ]
  },
  {
   "cell_type": "markdown",
   "id": "0d88d2f9",
   "metadata": {},
   "source": [
    "nombre_infected       703\n",
    "nombre_sain          2686\n",
    "nombre_exposed        523\n",
    "nombre_recovered    16088\n",
    "Name: 171, dtype: int64"
   ]
  },
  {
   "cell_type": "markdown",
   "id": "1c4c4d7c",
   "metadata": {},
   "source": [
    "nombre_infected       729\n",
    "nombre_sain          2635\n",
    "nombre_exposed        519\n",
    "nombre_recovered    16117\n",
    "Name: 172, dtype: int64"
   ]
  },
  {
   "cell_type": "markdown",
   "id": "9ad21310",
   "metadata": {},
   "source": [
    "nombre_infected       733\n",
    "nombre_sain          2571\n",
    "nombre_exposed        552\n",
    "nombre_recovered    16144\n",
    "Name: 173, dtype: int64"
   ]
  },
  {
   "cell_type": "markdown",
   "id": "ce54a0d0",
   "metadata": {},
   "source": [
    "nombre_infected       713\n",
    "nombre_sain          2530\n",
    "nombre_exposed        558\n",
    "nombre_recovered    16199\n",
    "Name: 174, dtype: int64"
   ]
  },
  {
   "cell_type": "markdown",
   "id": "68a4c8e2",
   "metadata": {},
   "source": [
    "nombre_infected       733\n",
    "nombre_sain          2495\n",
    "nombre_exposed        543\n",
    "nombre_recovered    16229\n",
    "Name: 175, dtype: int64"
   ]
  },
  {
   "cell_type": "markdown",
   "id": "645acc4e",
   "metadata": {},
   "source": [
    "nombre_infected       746\n",
    "nombre_sain          2459\n",
    "nombre_exposed        550\n",
    "nombre_recovered    16245\n",
    "Name: 176, dtype: int64"
   ]
  },
  {
   "cell_type": "markdown",
   "id": "f25d81f5",
   "metadata": {},
   "source": [
    "nombre_infected       759\n",
    "nombre_sain          2409\n",
    "nombre_exposed        553\n",
    "nombre_recovered    16279\n",
    "Name: 177, dtype: int64"
   ]
  },
  {
   "cell_type": "markdown",
   "id": "f906bcc7",
   "metadata": {},
   "source": [
    "nombre_infected       789\n",
    "nombre_sain          2382\n",
    "nombre_exposed        533\n",
    "nombre_recovered    16296\n",
    "Name: 178, dtype: int64"
   ]
  },
  {
   "cell_type": "markdown",
   "id": "97f7cc3b",
   "metadata": {},
   "source": [
    "nombre_infected       791\n",
    "nombre_sain          2319\n",
    "nombre_exposed        571\n",
    "nombre_recovered    16319\n",
    "Name: 179, dtype: int64"
   ]
  },
  {
   "cell_type": "markdown",
   "id": "0b8ee533",
   "metadata": {},
   "source": [
    "nombre_infected       801\n",
    "nombre_sain          2283\n",
    "nombre_exposed        569\n",
    "nombre_recovered    16347\n",
    "Name: 180, dtype: int64"
   ]
  },
  {
   "cell_type": "markdown",
   "id": "139f57de",
   "metadata": {},
   "source": [
    "nombre_infected       811\n",
    "nombre_sain          2243\n",
    "nombre_exposed        576\n",
    "nombre_recovered    16370\n",
    "Name: 181, dtype: int64"
   ]
  },
  {
   "cell_type": "markdown",
   "id": "d150e434",
   "metadata": {},
   "source": [
    "nombre_infected       814\n",
    "nombre_sain          2196\n",
    "nombre_exposed        595\n",
    "nombre_recovered    16395\n",
    "Name: 182, dtype: int64"
   ]
  },
  {
   "cell_type": "markdown",
   "id": "4cbb5c40",
   "metadata": {},
   "source": [
    "nombre_infected       825\n",
    "nombre_sain          2192\n",
    "nombre_exposed        573\n",
    "nombre_recovered    16410\n",
    "Name: 183, dtype: int64"
   ]
  },
  {
   "cell_type": "markdown",
   "id": "717ca873",
   "metadata": {},
   "source": [
    "nombre_infected       836\n",
    "nombre_sain          2150\n",
    "nombre_exposed        587\n",
    "nombre_recovered    16427\n",
    "Name: 184, dtype: int64"
   ]
  },
  {
   "cell_type": "markdown",
   "id": "1a462ccc",
   "metadata": {},
   "source": [
    "nombre_infected       843\n",
    "nombre_sain          2109\n",
    "nombre_exposed        611\n",
    "nombre_recovered    16437\n",
    "Name: 185, dtype: int64"
   ]
  },
  {
   "cell_type": "markdown",
   "id": "af9e8ced",
   "metadata": {},
   "source": [
    "nombre_infected       863\n",
    "nombre_sain          2109\n",
    "nombre_exposed        588\n",
    "nombre_recovered    16440\n",
    "Name: 186, dtype: int64"
   ]
  },
  {
   "cell_type": "markdown",
   "id": "087a1818",
   "metadata": {},
   "source": [
    "nombre_infected       881\n",
    "nombre_sain          2094\n",
    "nombre_exposed        575\n",
    "nombre_recovered    16450\n",
    "Name: 187, dtype: int64"
   ]
  },
  {
   "cell_type": "markdown",
   "id": "632efb0c",
   "metadata": {},
   "source": [
    "nombre_infected       903\n",
    "nombre_sain          2073\n",
    "nombre_exposed        554\n",
    "nombre_recovered    16470\n",
    "Name: 188, dtype: int64"
   ]
  },
  {
   "cell_type": "markdown",
   "id": "820ee8c0",
   "metadata": {},
   "source": [
    "nombre_infected       921\n",
    "nombre_sain          2035\n",
    "nombre_exposed        553\n",
    "nombre_recovered    16491\n",
    "Name: 189, dtype: int64"
   ]
  },
  {
   "cell_type": "markdown",
   "id": "3b29a3b5",
   "metadata": {},
   "source": [
    "nombre_infected       895\n",
    "nombre_sain          2032\n",
    "nombre_exposed        553\n",
    "nombre_recovered    16520\n",
    "Name: 190, dtype: int64"
   ]
  },
  {
   "cell_type": "markdown",
   "id": "78ee8201",
   "metadata": {},
   "source": [
    "nombre_infected       899\n",
    "nombre_sain          2024\n",
    "nombre_exposed        534\n",
    "nombre_recovered    16543\n",
    "Name: 191, dtype: int64"
   ]
  },
  {
   "cell_type": "markdown",
   "id": "bf0a4751",
   "metadata": {},
   "source": [
    "nombre_infected       889\n",
    "nombre_sain          2032\n",
    "nombre_exposed        523\n",
    "nombre_recovered    16556\n",
    "Name: 192, dtype: int64"
   ]
  },
  {
   "cell_type": "markdown",
   "id": "7d8732c3",
   "metadata": {},
   "source": [
    "nombre_infected       910\n",
    "nombre_sain          2009\n",
    "nombre_exposed        513\n",
    "nombre_recovered    16568\n",
    "Name: 193, dtype: int64"
   ]
  },
  {
   "cell_type": "markdown",
   "id": "8df60b3e",
   "metadata": {},
   "source": [
    "nombre_infected       915\n",
    "nombre_sain          2012\n",
    "nombre_exposed        512\n",
    "nombre_recovered    16561\n",
    "Name: 194, dtype: int64"
   ]
  },
  {
   "cell_type": "markdown",
   "id": "98cd455d",
   "metadata": {},
   "source": [
    "nombre_infected       903\n",
    "nombre_sain          1995\n",
    "nombre_exposed        516\n",
    "nombre_recovered    16586\n",
    "Name: 195, dtype: int64"
   ]
  },
  {
   "cell_type": "markdown",
   "id": "6a452b49",
   "metadata": {},
   "source": [
    "nombre_infected       893\n",
    "nombre_sain          1967\n",
    "nombre_exposed        520\n",
    "nombre_recovered    16620\n",
    "Name: 196, dtype: int64"
   ]
  },
  {
   "cell_type": "markdown",
   "id": "32eea580",
   "metadata": {},
   "source": [
    "nombre_infected       889\n",
    "nombre_sain          1968\n",
    "nombre_exposed        504\n",
    "nombre_recovered    16639\n",
    "Name: 197, dtype: int64"
   ]
  },
  {
   "cell_type": "markdown",
   "id": "e2c78c10",
   "metadata": {},
   "source": [
    "nombre_infected       873\n",
    "nombre_sain          1963\n",
    "nombre_exposed        497\n",
    "nombre_recovered    16667\n",
    "Name: 198, dtype: int64"
   ]
  },
  {
   "cell_type": "markdown",
   "id": "1b70dea7",
   "metadata": {},
   "source": [
    "nombre_infected       862\n",
    "nombre_sain          1961\n",
    "nombre_exposed        499\n",
    "nombre_recovered    16678\n",
    "Name: 199, dtype: int64"
   ]
  },
  {
   "cell_type": "markdown",
   "id": "794c5c24",
   "metadata": {},
   "source": [
    "nombre_infected       861\n",
    "nombre_sain          1955\n",
    "nombre_exposed        490\n",
    "nombre_recovered    16694\n",
    "Name: 200, dtype: int64"
   ]
  },
  {
   "cell_type": "markdown",
   "id": "84a38b80",
   "metadata": {},
   "source": [
    "nombre_infected       848\n",
    "nombre_sain          1958\n",
    "nombre_exposed        470\n",
    "nombre_recovered    16724\n",
    "Name: 201, dtype: int64"
   ]
  },
  {
   "cell_type": "markdown",
   "id": "09562bf7",
   "metadata": {},
   "source": [
    "nombre_infected       879\n",
    "nombre_sain          1940\n",
    "nombre_exposed        446\n",
    "nombre_recovered    16735\n",
    "Name: 202, dtype: int64"
   ]
  },
  {
   "cell_type": "markdown",
   "id": "e512c920",
   "metadata": {},
   "source": [
    "nombre_infected       833\n",
    "nombre_sain          1907\n",
    "nombre_exposed        467\n",
    "nombre_recovered    16793\n",
    "Name: 203, dtype: int64"
   ]
  },
  {
   "cell_type": "markdown",
   "id": "830fddda",
   "metadata": {},
   "source": [
    "nombre_infected       824\n",
    "nombre_sain          1912\n",
    "nombre_exposed        444\n",
    "nombre_recovered    16820\n",
    "Name: 204, dtype: int64"
   ]
  },
  {
   "cell_type": "markdown",
   "id": "f26dcf3e",
   "metadata": {},
   "source": [
    "nombre_infected       807\n",
    "nombre_sain          1899\n",
    "nombre_exposed        458\n",
    "nombre_recovered    16836\n",
    "Name: 205, dtype: int64"
   ]
  },
  {
   "cell_type": "markdown",
   "id": "263ed4fd",
   "metadata": {},
   "source": [
    "nombre_infected       777\n",
    "nombre_sain          1906\n",
    "nombre_exposed        458\n",
    "nombre_recovered    16859\n",
    "Name: 206, dtype: int64"
   ]
  },
  {
   "cell_type": "markdown",
   "id": "825a01da",
   "metadata": {},
   "source": [
    "nombre_infected       783\n",
    "nombre_sain          1900\n",
    "nombre_exposed        440\n",
    "nombre_recovered    16877\n",
    "Name: 207, dtype: int64"
   ]
  },
  {
   "cell_type": "markdown",
   "id": "991fa859",
   "metadata": {},
   "source": [
    "nombre_infected       775\n",
    "nombre_sain          1930\n",
    "nombre_exposed        425\n",
    "nombre_recovered    16870\n",
    "Name: 208, dtype: int64"
   ]
  },
  {
   "cell_type": "markdown",
   "id": "28025be1",
   "metadata": {},
   "source": [
    "nombre_infected       778\n",
    "nombre_sain          1949\n",
    "nombre_exposed        388\n",
    "nombre_recovered    16885\n",
    "Name: 209, dtype: int64"
   ]
  },
  {
   "cell_type": "markdown",
   "id": "00968303",
   "metadata": {},
   "source": [
    "nombre_infected       767\n",
    "nombre_sain          1965\n",
    "nombre_exposed        368\n",
    "nombre_recovered    16900\n",
    "Name: 210, dtype: int64"
   ]
  },
  {
   "cell_type": "markdown",
   "id": "b0ae0f74",
   "metadata": {},
   "source": [
    "nombre_infected       735\n",
    "nombre_sain          1989\n",
    "nombre_exposed        384\n",
    "nombre_recovered    16892\n",
    "Name: 211, dtype: int64"
   ]
  },
  {
   "cell_type": "markdown",
   "id": "9e16d0e6",
   "metadata": {},
   "source": [
    "nombre_infected       728\n",
    "nombre_sain          2004\n",
    "nombre_exposed        396\n",
    "nombre_recovered    16872\n",
    "Name: 212, dtype: int64"
   ]
  },
  {
   "cell_type": "markdown",
   "id": "8dc3e440",
   "metadata": {},
   "source": [
    "nombre_infected       731\n",
    "nombre_sain          2045\n",
    "nombre_exposed        376\n",
    "nombre_recovered    16848\n",
    "Name: 213, dtype: int64"
   ]
  },
  {
   "cell_type": "markdown",
   "id": "9e293b6a",
   "metadata": {},
   "source": [
    "nombre_infected       711\n",
    "nombre_sain          2062\n",
    "nombre_exposed        372\n",
    "nombre_recovered    16855\n",
    "Name: 214, dtype: int64"
   ]
  },
  {
   "cell_type": "markdown",
   "id": "a886219e",
   "metadata": {},
   "source": [
    "nombre_infected       682\n",
    "nombre_sain          2086\n",
    "nombre_exposed        392\n",
    "nombre_recovered    16840\n",
    "Name: 215, dtype: int64"
   ]
  },
  {
   "cell_type": "markdown",
   "id": "dfba78ce",
   "metadata": {},
   "source": [
    "nombre_infected       668\n",
    "nombre_sain          2092\n",
    "nombre_exposed        409\n",
    "nombre_recovered    16831\n",
    "Name: 216, dtype: int64"
   ]
  },
  {
   "cell_type": "markdown",
   "id": "361fc996",
   "metadata": {},
   "source": [
    "nombre_infected       664\n",
    "nombre_sain          2112\n",
    "nombre_exposed        416\n",
    "nombre_recovered    16808\n",
    "Name: 217, dtype: int64"
   ]
  },
  {
   "cell_type": "markdown",
   "id": "2659c6ef",
   "metadata": {},
   "source": [
    "nombre_infected       660\n",
    "nombre_sain          2119\n",
    "nombre_exposed        422\n",
    "nombre_recovered    16799\n",
    "Name: 218, dtype: int64"
   ]
  },
  {
   "cell_type": "markdown",
   "id": "b4440181",
   "metadata": {},
   "source": [
    "nombre_infected       662\n",
    "nombre_sain          2138\n",
    "nombre_exposed        423\n",
    "nombre_recovered    16777\n",
    "Name: 219, dtype: int64"
   ]
  },
  {
   "cell_type": "markdown",
   "id": "3ad0c018",
   "metadata": {},
   "source": [
    "nombre_infected       660\n",
    "nombre_sain          2164\n",
    "nombre_exposed        413\n",
    "nombre_recovered    16763\n",
    "Name: 220, dtype: int64"
   ]
  },
  {
   "cell_type": "markdown",
   "id": "5006d5f2",
   "metadata": {},
   "source": [
    "nombre_infected       660\n",
    "nombre_sain          2202\n",
    "nombre_exposed        404\n",
    "nombre_recovered    16734\n",
    "Name: 221, dtype: int64"
   ]
  },
  {
   "cell_type": "markdown",
   "id": "1ccbb981",
   "metadata": {},
   "source": [
    "nombre_infected       675\n",
    "nombre_sain          2228\n",
    "nombre_exposed        386\n",
    "nombre_recovered    16711\n",
    "Name: 222, dtype: int64"
   ]
  },
  {
   "cell_type": "markdown",
   "id": "3a2422ac",
   "metadata": {},
   "source": [
    "nombre_infected       675\n",
    "nombre_sain          2253\n",
    "nombre_exposed        391\n",
    "nombre_recovered    16681\n",
    "Name: 223, dtype: int64"
   ]
  },
  {
   "cell_type": "markdown",
   "id": "cef4a49e",
   "metadata": {},
   "source": [
    "nombre_infected       701\n",
    "nombre_sain          2262\n",
    "nombre_exposed        385\n",
    "nombre_recovered    16652\n",
    "Name: 224, dtype: int64"
   ]
  },
  {
   "cell_type": "markdown",
   "id": "a4961504",
   "metadata": {},
   "source": [
    "nombre_infected       683\n",
    "nombre_sain          2275\n",
    "nombre_exposed        388\n",
    "nombre_recovered    16654\n",
    "Name: 225, dtype: int64"
   ]
  },
  {
   "cell_type": "markdown",
   "id": "5bb13f48",
   "metadata": {},
   "source": [
    "nombre_infected       689\n",
    "nombre_sain          2292\n",
    "nombre_exposed        402\n",
    "nombre_recovered    16617\n",
    "Name: 226, dtype: int64"
   ]
  },
  {
   "cell_type": "markdown",
   "id": "aaa9d3e9",
   "metadata": {},
   "source": [
    "nombre_infected       700\n",
    "nombre_sain          2282\n",
    "nombre_exposed        406\n",
    "nombre_recovered    16612\n",
    "Name: 227, dtype: int64"
   ]
  },
  {
   "cell_type": "markdown",
   "id": "89481b4c",
   "metadata": {},
   "source": [
    "nombre_infected       701\n",
    "nombre_sain          2300\n",
    "nombre_exposed        412\n",
    "nombre_recovered    16587\n",
    "Name: 228, dtype: int64"
   ]
  },
  {
   "cell_type": "markdown",
   "id": "07e23432",
   "metadata": {},
   "source": [
    "nombre_infected       696\n",
    "nombre_sain          2312\n",
    "nombre_exposed        417\n",
    "nombre_recovered    16575\n",
    "Name: 229, dtype: int64"
   ]
  },
  {
   "cell_type": "markdown",
   "id": "d0115a9b",
   "metadata": {},
   "source": [
    "nombre_infected       696\n",
    "nombre_sain          2304\n",
    "nombre_exposed        417\n",
    "nombre_recovered    16583\n",
    "Name: 230, dtype: int64"
   ]
  },
  {
   "cell_type": "markdown",
   "id": "1f97346f",
   "metadata": {},
   "source": [
    "nombre_infected       699\n",
    "nombre_sain          2309\n",
    "nombre_exposed        425\n",
    "nombre_recovered    16567\n",
    "Name: 231, dtype: int64"
   ]
  },
  {
   "cell_type": "markdown",
   "id": "f80580f2",
   "metadata": {},
   "source": [
    "nombre_infected       705\n",
    "nombre_sain          2348\n",
    "nombre_exposed        415\n",
    "nombre_recovered    16532\n",
    "Name: 232, dtype: int64"
   ]
  },
  {
   "cell_type": "markdown",
   "id": "d3ba6ad7",
   "metadata": {},
   "source": [
    "nombre_infected       691\n",
    "nombre_sain          2363\n",
    "nombre_exposed        429\n",
    "nombre_recovered    16517\n",
    "Name: 233, dtype: int64"
   ]
  },
  {
   "cell_type": "markdown",
   "id": "107956e7",
   "metadata": {},
   "source": [
    "nombre_infected       699\n",
    "nombre_sain          2394\n",
    "nombre_exposed        415\n",
    "nombre_recovered    16492\n",
    "Name: 234, dtype: int64"
   ]
  },
  {
   "cell_type": "markdown",
   "id": "8b79a803",
   "metadata": {},
   "source": [
    "nombre_infected       729\n",
    "nombre_sain          2380\n",
    "nombre_exposed        427\n",
    "nombre_recovered    16464\n",
    "Name: 235, dtype: int64"
   ]
  },
  {
   "cell_type": "markdown",
   "id": "3aa5058b",
   "metadata": {},
   "source": [
    "nombre_infected       743\n",
    "nombre_sain          2381\n",
    "nombre_exposed        435\n",
    "nombre_recovered    16441\n",
    "Name: 236, dtype: int64"
   ]
  },
  {
   "cell_type": "markdown",
   "id": "abe44900",
   "metadata": {},
   "source": [
    "nombre_infected       729\n",
    "nombre_sain          2401\n",
    "nombre_exposed        441\n",
    "nombre_recovered    16429\n",
    "Name: 237, dtype: int64"
   ]
  },
  {
   "cell_type": "markdown",
   "id": "6218d313",
   "metadata": {},
   "source": [
    "nombre_infected       715\n",
    "nombre_sain          2396\n",
    "nombre_exposed        474\n",
    "nombre_recovered    16415\n",
    "Name: 238, dtype: int64"
   ]
  },
  {
   "cell_type": "markdown",
   "id": "eb085e35",
   "metadata": {},
   "source": [
    "nombre_infected       747\n",
    "nombre_sain          2396\n",
    "nombre_exposed        477\n",
    "nombre_recovered    16380\n",
    "Name: 239, dtype: int64"
   ]
  },
  {
   "cell_type": "markdown",
   "id": "b57bb7da",
   "metadata": {},
   "source": [
    "nombre_infected       775\n",
    "nombre_sain          2400\n",
    "nombre_exposed        474\n",
    "nombre_recovered    16351\n",
    "Name: 240, dtype: int64"
   ]
  },
  {
   "cell_type": "markdown",
   "id": "23ad9ece",
   "metadata": {},
   "source": [
    "nombre_infected       780\n",
    "nombre_sain          2398\n",
    "nombre_exposed        457\n",
    "nombre_recovered    16365\n",
    "Name: 241, dtype: int64"
   ]
  },
  {
   "cell_type": "markdown",
   "id": "8b6abe00",
   "metadata": {},
   "source": [
    "nombre_infected       785\n",
    "nombre_sain          2409\n",
    "nombre_exposed        439\n",
    "nombre_recovered    16367\n",
    "Name: 242, dtype: int64"
   ]
  },
  {
   "cell_type": "markdown",
   "id": "85e5af2a",
   "metadata": {},
   "source": [
    "nombre_infected       790\n",
    "nombre_sain          2404\n",
    "nombre_exposed        444\n",
    "nombre_recovered    16362\n",
    "Name: 243, dtype: int64"
   ]
  },
  {
   "cell_type": "markdown",
   "id": "80f85d7e",
   "metadata": {},
   "source": [
    "nombre_infected       795\n",
    "nombre_sain          2383\n",
    "nombre_exposed        461\n",
    "nombre_recovered    16361\n",
    "Name: 244, dtype: int64"
   ]
  },
  {
   "cell_type": "markdown",
   "id": "af00862d",
   "metadata": {},
   "source": [
    "nombre_infected       788\n",
    "nombre_sain          2374\n",
    "nombre_exposed        493\n",
    "nombre_recovered    16345\n",
    "Name: 245, dtype: int64"
   ]
  },
  {
   "cell_type": "markdown",
   "id": "18bc575a",
   "metadata": {},
   "source": [
    "nombre_infected       805\n",
    "nombre_sain          2361\n",
    "nombre_exposed        502\n",
    "nombre_recovered    16332\n",
    "Name: 246, dtype: int64"
   ]
  },
  {
   "cell_type": "markdown",
   "id": "aec7ce05",
   "metadata": {},
   "source": [
    "nombre_infected       798\n",
    "nombre_sain          2375\n",
    "nombre_exposed        497\n",
    "nombre_recovered    16330\n",
    "Name: 247, dtype: int64"
   ]
  },
  {
   "cell_type": "markdown",
   "id": "c3f6dc91",
   "metadata": {},
   "source": [
    "nombre_infected       813\n",
    "nombre_sain          2387\n",
    "nombre_exposed        464\n",
    "nombre_recovered    16336\n",
    "Name: 248, dtype: int64"
   ]
  },
  {
   "cell_type": "markdown",
   "id": "9e1d1931",
   "metadata": {},
   "source": [
    "nombre_infected       800\n",
    "nombre_sain          2393\n",
    "nombre_exposed        475\n",
    "nombre_recovered    16332\n",
    "Name: 249, dtype: int64"
   ]
  },
  {
   "cell_type": "markdown",
   "id": "5361fd3d",
   "metadata": {},
   "source": [
    "nombre_infected       807\n",
    "nombre_sain          2403\n",
    "nombre_exposed        470\n",
    "nombre_recovered    16320\n",
    "Name: 250, dtype: int64"
   ]
  },
  {
   "cell_type": "markdown",
   "id": "f09f9b3f",
   "metadata": {},
   "source": [
    "nombre_infected       819\n",
    "nombre_sain          2426\n",
    "nombre_exposed        467\n",
    "nombre_recovered    16288\n",
    "Name: 251, dtype: int64"
   ]
  },
  {
   "cell_type": "markdown",
   "id": "df2c4488",
   "metadata": {},
   "source": [
    "nombre_infected       830\n",
    "nombre_sain          2410\n",
    "nombre_exposed        488\n",
    "nombre_recovered    16272\n",
    "Name: 252, dtype: int64"
   ]
  },
  {
   "cell_type": "markdown",
   "id": "17502539",
   "metadata": {},
   "source": [
    "nombre_infected       819\n",
    "nombre_sain          2417\n",
    "nombre_exposed        480\n",
    "nombre_recovered    16284\n",
    "Name: 253, dtype: int64"
   ]
  },
  {
   "cell_type": "markdown",
   "id": "2d29e86d",
   "metadata": {},
   "source": [
    "nombre_infected       838\n",
    "nombre_sain          2412\n",
    "nombre_exposed        492\n",
    "nombre_recovered    16258\n",
    "Name: 254, dtype: int64"
   ]
  },
  {
   "cell_type": "markdown",
   "id": "ea799aa9",
   "metadata": {},
   "source": [
    "nombre_infected       841\n",
    "nombre_sain          2383\n",
    "nombre_exposed        524\n",
    "nombre_recovered    16252\n",
    "Name: 255, dtype: int64"
   ]
  },
  {
   "cell_type": "markdown",
   "id": "ab935530",
   "metadata": {},
   "source": [
    "nombre_infected       831\n",
    "nombre_sain          2362\n",
    "nombre_exposed        545\n",
    "nombre_recovered    16262\n",
    "Name: 256, dtype: int64"
   ]
  },
  {
   "cell_type": "markdown",
   "id": "22611fc2",
   "metadata": {},
   "source": [
    "nombre_infected       841\n",
    "nombre_sain          2326\n",
    "nombre_exposed        530\n",
    "nombre_recovered    16303\n",
    "Name: 257, dtype: int64"
   ]
  },
  {
   "cell_type": "markdown",
   "id": "85234618",
   "metadata": {},
   "source": [
    "nombre_infected       863\n",
    "nombre_sain          2279\n",
    "nombre_exposed        524\n",
    "nombre_recovered    16334\n",
    "Name: 258, dtype: int64"
   ]
  },
  {
   "cell_type": "markdown",
   "id": "4c6fdfe8",
   "metadata": {},
   "source": [
    "nombre_infected       850\n",
    "nombre_sain          2274\n",
    "nombre_exposed        528\n",
    "nombre_recovered    16348\n",
    "Name: 259, dtype: int64"
   ]
  },
  {
   "cell_type": "markdown",
   "id": "be0f7efc",
   "metadata": {},
   "source": [
    "nombre_infected       838\n",
    "nombre_sain          2243\n",
    "nombre_exposed        525\n",
    "nombre_recovered    16394\n",
    "Name: 260, dtype: int64"
   ]
  },
  {
   "cell_type": "markdown",
   "id": "9c9ed0da",
   "metadata": {},
   "source": [
    "nombre_infected       842\n",
    "nombre_sain          2228\n",
    "nombre_exposed        525\n",
    "nombre_recovered    16405\n",
    "Name: 261, dtype: int64"
   ]
  },
  {
   "cell_type": "markdown",
   "id": "302b7442",
   "metadata": {},
   "source": [
    "nombre_infected       857\n",
    "nombre_sain          2207\n",
    "nombre_exposed        526\n",
    "nombre_recovered    16410\n",
    "Name: 262, dtype: int64"
   ]
  },
  {
   "cell_type": "markdown",
   "id": "2d65b79d",
   "metadata": {},
   "source": [
    "nombre_infected       855\n",
    "nombre_sain          2209\n",
    "nombre_exposed        520\n",
    "nombre_recovered    16416\n",
    "Name: 263, dtype: int64"
   ]
  },
  {
   "cell_type": "markdown",
   "id": "c9c06e7c",
   "metadata": {},
   "source": [
    "nombre_infected       854\n",
    "nombre_sain          2182\n",
    "nombre_exposed        545\n",
    "nombre_recovered    16419\n",
    "Name: 264, dtype: int64"
   ]
  },
  {
   "cell_type": "markdown",
   "id": "9a5a903f",
   "metadata": {},
   "source": [
    "nombre_infected       859\n",
    "nombre_sain          2190\n",
    "nombre_exposed        523\n",
    "nombre_recovered    16428\n",
    "Name: 265, dtype: int64"
   ]
  },
  {
   "cell_type": "markdown",
   "id": "e3c77671",
   "metadata": {},
   "source": [
    "nombre_infected       844\n",
    "nombre_sain          2164\n",
    "nombre_exposed        526\n",
    "nombre_recovered    16466\n",
    "Name: 266, dtype: int64"
   ]
  },
  {
   "cell_type": "markdown",
   "id": "9b60553b",
   "metadata": {},
   "source": [
    "nombre_infected       846\n",
    "nombre_sain          2165\n",
    "nombre_exposed        517\n",
    "nombre_recovered    16472\n",
    "Name: 267, dtype: int64"
   ]
  },
  {
   "cell_type": "markdown",
   "id": "02809678",
   "metadata": {},
   "source": [
    "nombre_infected       835\n",
    "nombre_sain          2165\n",
    "nombre_exposed        508\n",
    "nombre_recovered    16492\n",
    "Name: 268, dtype: int64"
   ]
  },
  {
   "cell_type": "markdown",
   "id": "4a5afb8d",
   "metadata": {},
   "source": [
    "nombre_infected       826\n",
    "nombre_sain          2136\n",
    "nombre_exposed        499\n",
    "nombre_recovered    16539\n",
    "Name: 269, dtype: int64"
   ]
  },
  {
   "cell_type": "markdown",
   "id": "c349487d",
   "metadata": {},
   "source": [
    "nombre_infected       811\n",
    "nombre_sain          2140\n",
    "nombre_exposed        500\n",
    "nombre_recovered    16549\n",
    "Name: 270, dtype: int64"
   ]
  },
  {
   "cell_type": "markdown",
   "id": "e0b92df8",
   "metadata": {},
   "source": [
    "nombre_infected       811\n",
    "nombre_sain          2142\n",
    "nombre_exposed        494\n",
    "nombre_recovered    16553\n",
    "Name: 271, dtype: int64"
   ]
  },
  {
   "cell_type": "markdown",
   "id": "fd1c4601",
   "metadata": {},
   "source": [
    "nombre_infected       796\n",
    "nombre_sain          2155\n",
    "nombre_exposed        488\n",
    "nombre_recovered    16561\n",
    "Name: 272, dtype: int64"
   ]
  },
  {
   "cell_type": "markdown",
   "id": "f3ff2946",
   "metadata": {},
   "source": [
    "nombre_infected       785\n",
    "nombre_sain          2164\n",
    "nombre_exposed        474\n",
    "nombre_recovered    16577\n",
    "Name: 273, dtype: int64"
   ]
  },
  {
   "cell_type": "markdown",
   "id": "3463f31d",
   "metadata": {},
   "source": [
    "nombre_infected       755\n",
    "nombre_sain          2149\n",
    "nombre_exposed        485\n",
    "nombre_recovered    16611\n",
    "Name: 274, dtype: int64"
   ]
  },
  {
   "cell_type": "markdown",
   "id": "05aa1443",
   "metadata": {},
   "source": [
    "nombre_infected       737\n",
    "nombre_sain          2148\n",
    "nombre_exposed        486\n",
    "nombre_recovered    16629\n",
    "Name: 275, dtype: int64"
   ]
  },
  {
   "cell_type": "markdown",
   "id": "3ad8d90c",
   "metadata": {},
   "source": [
    "nombre_infected       735\n",
    "nombre_sain          2152\n",
    "nombre_exposed        475\n",
    "nombre_recovered    16638\n",
    "Name: 276, dtype: int64"
   ]
  },
  {
   "cell_type": "markdown",
   "id": "2219540c",
   "metadata": {},
   "source": [
    "nombre_infected       726\n",
    "nombre_sain          2143\n",
    "nombre_exposed        450\n",
    "nombre_recovered    16681\n",
    "Name: 277, dtype: int64"
   ]
  },
  {
   "cell_type": "markdown",
   "id": "11edffca",
   "metadata": {},
   "source": [
    "nombre_infected       727\n",
    "nombre_sain          2134\n",
    "nombre_exposed        443\n",
    "nombre_recovered    16696\n",
    "Name: 278, dtype: int64"
   ]
  },
  {
   "cell_type": "markdown",
   "id": "61102404",
   "metadata": {},
   "source": [
    "nombre_infected       742\n",
    "nombre_sain          2127\n",
    "nombre_exposed        424\n",
    "nombre_recovered    16707\n",
    "Name: 279, dtype: int64"
   ]
  },
  {
   "cell_type": "markdown",
   "id": "ae142e0c",
   "metadata": {},
   "source": [
    "nombre_infected       722\n",
    "nombre_sain          2109\n",
    "nombre_exposed        440\n",
    "nombre_recovered    16729\n",
    "Name: 280, dtype: int64"
   ]
  },
  {
   "cell_type": "markdown",
   "id": "bcbc54a4",
   "metadata": {},
   "source": [
    "nombre_infected       699\n",
    "nombre_sain          2118\n",
    "nombre_exposed        436\n",
    "nombre_recovered    16747\n",
    "Name: 281, dtype: int64"
   ]
  },
  {
   "cell_type": "markdown",
   "id": "43ffe7c0",
   "metadata": {},
   "source": [
    "nombre_infected       704\n",
    "nombre_sain          2117\n",
    "nombre_exposed        434\n",
    "nombre_recovered    16745\n",
    "Name: 282, dtype: int64"
   ]
  },
  {
   "cell_type": "markdown",
   "id": "740a1d75",
   "metadata": {},
   "source": [
    "nombre_infected       687\n",
    "nombre_sain          2164\n",
    "nombre_exposed        423\n",
    "nombre_recovered    16726\n",
    "Name: 283, dtype: int64"
   ]
  },
  {
   "cell_type": "markdown",
   "id": "26296d38",
   "metadata": {},
   "source": [
    "nombre_infected       656\n",
    "nombre_sain          2183\n",
    "nombre_exposed        442\n",
    "nombre_recovered    16719\n",
    "Name: 284, dtype: int64"
   ]
  },
  {
   "cell_type": "markdown",
   "id": "d2773526",
   "metadata": {},
   "source": [
    "nombre_infected       662\n",
    "nombre_sain          2204\n",
    "nombre_exposed        417\n",
    "nombre_recovered    16717\n",
    "Name: 285, dtype: int64"
   ]
  },
  {
   "cell_type": "markdown",
   "id": "5118bb2f",
   "metadata": {},
   "source": [
    "nombre_infected       665\n",
    "nombre_sain          2194\n",
    "nombre_exposed        412\n",
    "nombre_recovered    16729\n",
    "Name: 286, dtype: int64"
   ]
  },
  {
   "cell_type": "markdown",
   "id": "dc32d820",
   "metadata": {},
   "source": [
    "nombre_infected       644\n",
    "nombre_sain          2219\n",
    "nombre_exposed        409\n",
    "nombre_recovered    16728\n",
    "Name: 287, dtype: int64"
   ]
  },
  {
   "cell_type": "markdown",
   "id": "c54f9f14",
   "metadata": {},
   "source": [
    "nombre_infected       620\n",
    "nombre_sain          2242\n",
    "nombre_exposed        405\n",
    "nombre_recovered    16733\n",
    "Name: 288, dtype: int64"
   ]
  },
  {
   "cell_type": "markdown",
   "id": "2bbe7570",
   "metadata": {},
   "source": [
    "nombre_infected       601\n",
    "nombre_sain          2269\n",
    "nombre_exposed        401\n",
    "nombre_recovered    16729\n",
    "Name: 289, dtype: int64"
   ]
  },
  {
   "cell_type": "markdown",
   "id": "b8a4993b",
   "metadata": {},
   "source": [
    "nombre_infected       586\n",
    "nombre_sain          2297\n",
    "nombre_exposed        407\n",
    "nombre_recovered    16710\n",
    "Name: 290, dtype: int64"
   ]
  },
  {
   "cell_type": "markdown",
   "id": "ddd09e6e",
   "metadata": {},
   "source": [
    "nombre_infected       570\n",
    "nombre_sain          2335\n",
    "nombre_exposed        395\n",
    "nombre_recovered    16700\n",
    "Name: 291, dtype: int64"
   ]
  },
  {
   "cell_type": "markdown",
   "id": "0a2414a9",
   "metadata": {},
   "source": [
    "nombre_infected       566\n",
    "nombre_sain          2353\n",
    "nombre_exposed        399\n",
    "nombre_recovered    16682\n",
    "Name: 292, dtype: int64"
   ]
  },
  {
   "cell_type": "markdown",
   "id": "e420963a",
   "metadata": {},
   "source": [
    "nombre_infected       578\n",
    "nombre_sain          2398\n",
    "nombre_exposed        394\n",
    "nombre_recovered    16630\n",
    "Name: 293, dtype: int64"
   ]
  },
  {
   "cell_type": "markdown",
   "id": "20223b61",
   "metadata": {},
   "source": [
    "nombre_infected       588\n",
    "nombre_sain          2427\n",
    "nombre_exposed        374\n",
    "nombre_recovered    16611\n",
    "Name: 294, dtype: int64"
   ]
  },
  {
   "cell_type": "markdown",
   "id": "58781c6c",
   "metadata": {},
   "source": [
    "nombre_infected       616\n",
    "nombre_sain          2444\n",
    "nombre_exposed        374\n",
    "nombre_recovered    16566\n",
    "Name: 295, dtype: int64"
   ]
  },
  {
   "cell_type": "markdown",
   "id": "3a1bf84e",
   "metadata": {},
   "source": [
    "nombre_infected       594\n",
    "nombre_sain          2475\n",
    "nombre_exposed        380\n",
    "nombre_recovered    16551\n",
    "Name: 296, dtype: int64"
   ]
  },
  {
   "cell_type": "markdown",
   "id": "2ce278fb",
   "metadata": {},
   "source": [
    "nombre_infected       571\n",
    "nombre_sain          2471\n",
    "nombre_exposed        414\n",
    "nombre_recovered    16544\n",
    "Name: 297, dtype: int64"
   ]
  },
  {
   "cell_type": "markdown",
   "id": "d276ec45",
   "metadata": {},
   "source": [
    "nombre_infected       579\n",
    "nombre_sain          2462\n",
    "nombre_exposed        445\n",
    "nombre_recovered    16514\n",
    "Name: 298, dtype: int64"
   ]
  },
  {
   "cell_type": "markdown",
   "id": "6220a1ad",
   "metadata": {},
   "source": [
    "nombre_infected       578\n",
    "nombre_sain          2465\n",
    "nombre_exposed        438\n",
    "nombre_recovered    16519\n",
    "Name: 299, dtype: int64"
   ]
  },
  {
   "cell_type": "markdown",
   "id": "7a33bb86",
   "metadata": {},
   "source": [
    "nombre_infected       573\n",
    "nombre_sain          2493\n",
    "nombre_exposed        432\n",
    "nombre_recovered    16502\n",
    "Name: 300, dtype: int64"
   ]
  },
  {
   "cell_type": "markdown",
   "id": "dee2e1fe",
   "metadata": {},
   "source": [
    "nombre_infected       586\n",
    "nombre_sain          2509\n",
    "nombre_exposed        427\n",
    "nombre_recovered    16478\n",
    "Name: 301, dtype: int64"
   ]
  },
  {
   "cell_type": "markdown",
   "id": "c7954e9d",
   "metadata": {},
   "source": [
    "nombre_infected       582\n",
    "nombre_sain          2485\n",
    "nombre_exposed        445\n",
    "nombre_recovered    16488\n",
    "Name: 302, dtype: int64"
   ]
  },
  {
   "cell_type": "markdown",
   "id": "0eb5b5e4",
   "metadata": {},
   "source": [
    "nombre_infected       580\n",
    "nombre_sain          2501\n",
    "nombre_exposed        451\n",
    "nombre_recovered    16468\n",
    "Name: 303, dtype: int64"
   ]
  },
  {
   "cell_type": "markdown",
   "id": "97b77639",
   "metadata": {},
   "source": [
    "nombre_infected       590\n",
    "nombre_sain          2518\n",
    "nombre_exposed        448\n",
    "nombre_recovered    16444\n",
    "Name: 304, dtype: int64"
   ]
  },
  {
   "cell_type": "markdown",
   "id": "80bb65f5",
   "metadata": {},
   "source": [
    "nombre_infected       609\n",
    "nombre_sain          2562\n",
    "nombre_exposed        419\n",
    "nombre_recovered    16410\n",
    "Name: 305, dtype: int64"
   ]
  },
  {
   "cell_type": "markdown",
   "id": "9e61879a",
   "metadata": {},
   "source": [
    "nombre_infected       598\n",
    "nombre_sain          2535\n",
    "nombre_exposed        447\n",
    "nombre_recovered    16420\n",
    "Name: 306, dtype: int64"
   ]
  },
  {
   "cell_type": "markdown",
   "id": "94240525",
   "metadata": {},
   "source": [
    "nombre_infected       587\n",
    "nombre_sain          2516\n",
    "nombre_exposed        470\n",
    "nombre_recovered    16427\n",
    "Name: 307, dtype: int64"
   ]
  },
  {
   "cell_type": "markdown",
   "id": "4599f122",
   "metadata": {},
   "source": [
    "nombre_infected       599\n",
    "nombre_sain          2513\n",
    "nombre_exposed        476\n",
    "nombre_recovered    16412\n",
    "Name: 308, dtype: int64"
   ]
  },
  {
   "cell_type": "markdown",
   "id": "4c1504da",
   "metadata": {},
   "source": [
    "nombre_infected       614\n",
    "nombre_sain          2513\n",
    "nombre_exposed        489\n",
    "nombre_recovered    16384\n",
    "Name: 309, dtype: int64"
   ]
  },
  {
   "cell_type": "markdown",
   "id": "ec498af0",
   "metadata": {},
   "source": [
    "nombre_infected       635\n",
    "nombre_sain          2515\n",
    "nombre_exposed        462\n",
    "nombre_recovered    16388\n",
    "Name: 310, dtype: int64"
   ]
  },
  {
   "cell_type": "markdown",
   "id": "8af1bcc4",
   "metadata": {},
   "source": [
    "nombre_infected       654\n",
    "nombre_sain          2504\n",
    "nombre_exposed        467\n",
    "nombre_recovered    16375\n",
    "Name: 311, dtype: int64"
   ]
  },
  {
   "cell_type": "markdown",
   "id": "72ec4d0b",
   "metadata": {},
   "source": [
    "nombre_infected       656\n",
    "nombre_sain          2503\n",
    "nombre_exposed        486\n",
    "nombre_recovered    16355\n",
    "Name: 312, dtype: int64"
   ]
  },
  {
   "cell_type": "markdown",
   "id": "2687ed67",
   "metadata": {},
   "source": [
    "nombre_infected       680\n",
    "nombre_sain          2480\n",
    "nombre_exposed        489\n",
    "nombre_recovered    16351\n",
    "Name: 313, dtype: int64"
   ]
  },
  {
   "cell_type": "markdown",
   "id": "272058b3",
   "metadata": {},
   "source": [
    "nombre_infected       686\n",
    "nombre_sain          2491\n",
    "nombre_exposed        465\n",
    "nombre_recovered    16358\n",
    "Name: 314, dtype: int64"
   ]
  },
  {
   "cell_type": "markdown",
   "id": "27b53aca",
   "metadata": {},
   "source": [
    "nombre_infected       692\n",
    "nombre_sain          2480\n",
    "nombre_exposed        482\n",
    "nombre_recovered    16346\n",
    "Name: 315, dtype: int64"
   ]
  },
  {
   "cell_type": "markdown",
   "id": "695cbfb7",
   "metadata": {},
   "source": [
    "nombre_infected       686\n",
    "nombre_sain          2462\n",
    "nombre_exposed        495\n",
    "nombre_recovered    16357\n",
    "Name: 316, dtype: int64"
   ]
  },
  {
   "cell_type": "markdown",
   "id": "2d04ef19",
   "metadata": {},
   "source": [
    "nombre_infected       706\n",
    "nombre_sain          2463\n",
    "nombre_exposed        485\n",
    "nombre_recovered    16346\n",
    "Name: 317, dtype: int64"
   ]
  },
  {
   "cell_type": "markdown",
   "id": "747d2cf2",
   "metadata": {},
   "source": [
    "nombre_infected       725\n",
    "nombre_sain          2441\n",
    "nombre_exposed        498\n",
    "nombre_recovered    16336\n",
    "Name: 318, dtype: int64"
   ]
  },
  {
   "cell_type": "markdown",
   "id": "51968b7f",
   "metadata": {},
   "source": [
    "nombre_infected       733\n",
    "nombre_sain          2414\n",
    "nombre_exposed        510\n",
    "nombre_recovered    16343\n",
    "Name: 319, dtype: int64"
   ]
  },
  {
   "cell_type": "markdown",
   "id": "88360b23",
   "metadata": {},
   "source": [
    "nombre_infected       744\n",
    "nombre_sain          2390\n",
    "nombre_exposed        514\n",
    "nombre_recovered    16352\n",
    "Name: 320, dtype: int64"
   ]
  },
  {
   "cell_type": "markdown",
   "id": "61e6d70a",
   "metadata": {},
   "source": [
    "nombre_infected       737\n",
    "nombre_sain          2404\n",
    "nombre_exposed        526\n",
    "nombre_recovered    16333\n",
    "Name: 321, dtype: int64"
   ]
  },
  {
   "cell_type": "markdown",
   "id": "be89167d",
   "metadata": {},
   "source": [
    "nombre_infected       733\n",
    "nombre_sain          2393\n",
    "nombre_exposed        532\n",
    "nombre_recovered    16342\n",
    "Name: 322, dtype: int64"
   ]
  },
  {
   "cell_type": "markdown",
   "id": "632b34d2",
   "metadata": {},
   "source": [
    "nombre_infected       741\n",
    "nombre_sain          2395\n",
    "nombre_exposed        529\n",
    "nombre_recovered    16335\n",
    "Name: 323, dtype: int64"
   ]
  },
  {
   "cell_type": "markdown",
   "id": "5373960d",
   "metadata": {},
   "source": [
    "nombre_infected       774\n",
    "nombre_sain          2385\n",
    "nombre_exposed        526\n",
    "nombre_recovered    16315\n",
    "Name: 324, dtype: int64"
   ]
  },
  {
   "cell_type": "markdown",
   "id": "dba6f71a",
   "metadata": {},
   "source": [
    "nombre_infected       811\n",
    "nombre_sain          2376\n",
    "nombre_exposed        533\n",
    "nombre_recovered    16280\n",
    "Name: 325, dtype: int64"
   ]
  },
  {
   "cell_type": "markdown",
   "id": "1fd6bbcc",
   "metadata": {},
   "source": [
    "nombre_infected       820\n",
    "nombre_sain          2398\n",
    "nombre_exposed        517\n",
    "nombre_recovered    16265\n",
    "Name: 326, dtype: int64"
   ]
  },
  {
   "cell_type": "markdown",
   "id": "8ab5d907",
   "metadata": {},
   "source": [
    "nombre_infected       850\n",
    "nombre_sain          2392\n",
    "nombre_exposed        520\n",
    "nombre_recovered    16238\n",
    "Name: 327, dtype: int64"
   ]
  },
  {
   "cell_type": "markdown",
   "id": "d0e8554e",
   "metadata": {},
   "source": [
    "nombre_infected       869\n",
    "nombre_sain          2344\n",
    "nombre_exposed        555\n",
    "nombre_recovered    16232\n",
    "Name: 328, dtype: int64"
   ]
  },
  {
   "cell_type": "markdown",
   "id": "e9fed879",
   "metadata": {},
   "source": [
    "nombre_infected       886\n",
    "nombre_sain          2330\n",
    "nombre_exposed        556\n",
    "nombre_recovered    16228\n",
    "Name: 329, dtype: int64"
   ]
  },
  {
   "cell_type": "markdown",
   "id": "f82b23d7",
   "metadata": {},
   "source": [
    "nombre_infected       909\n",
    "nombre_sain          2353\n",
    "nombre_exposed        538\n",
    "nombre_recovered    16200\n",
    "Name: 330, dtype: int64"
   ]
  },
  {
   "cell_type": "markdown",
   "id": "af4eba49",
   "metadata": {},
   "source": [
    "nombre_infected       932\n",
    "nombre_sain          2367\n",
    "nombre_exposed        510\n",
    "nombre_recovered    16191\n",
    "Name: 331, dtype: int64"
   ]
  },
  {
   "cell_type": "markdown",
   "id": "6000a2d1",
   "metadata": {},
   "source": [
    "nombre_infected       911\n",
    "nombre_sain          2338\n",
    "nombre_exposed        550\n",
    "nombre_recovered    16201\n",
    "Name: 332, dtype: int64"
   ]
  },
  {
   "cell_type": "markdown",
   "id": "0f8becb7",
   "metadata": {},
   "source": [
    "nombre_infected       911\n",
    "nombre_sain          2319\n",
    "nombre_exposed        565\n",
    "nombre_recovered    16205\n",
    "Name: 333, dtype: int64"
   ]
  },
  {
   "cell_type": "markdown",
   "id": "c4b34ab4",
   "metadata": {},
   "source": [
    "nombre_infected       896\n",
    "nombre_sain          2298\n",
    "nombre_exposed        588\n",
    "nombre_recovered    16218\n",
    "Name: 334, dtype: int64"
   ]
  },
  {
   "cell_type": "markdown",
   "id": "75906f85",
   "metadata": {},
   "source": [
    "nombre_infected       916\n",
    "nombre_sain          2266\n",
    "nombre_exposed        609\n",
    "nombre_recovered    16209\n",
    "Name: 335, dtype: int64"
   ]
  },
  {
   "cell_type": "markdown",
   "id": "3d91b5bc",
   "metadata": {},
   "source": [
    "nombre_infected       928\n",
    "nombre_sain          2270\n",
    "nombre_exposed        618\n",
    "nombre_recovered    16184\n",
    "Name: 336, dtype: int64"
   ]
  },
  {
   "cell_type": "markdown",
   "id": "cc6aad4e",
   "metadata": {},
   "source": [
    "nombre_infected       949\n",
    "nombre_sain          2237\n",
    "nombre_exposed        629\n",
    "nombre_recovered    16185\n",
    "Name: 337, dtype: int64"
   ]
  },
  {
   "cell_type": "markdown",
   "id": "a5203cea",
   "metadata": {},
   "source": [
    "nombre_infected       968\n",
    "nombre_sain          2220\n",
    "nombre_exposed        640\n",
    "nombre_recovered    16172\n",
    "Name: 338, dtype: int64"
   ]
  },
  {
   "cell_type": "markdown",
   "id": "4cd3388b",
   "metadata": {},
   "source": [
    "nombre_infected      1001\n",
    "nombre_sain          2197\n",
    "nombre_exposed        627\n",
    "nombre_recovered    16175\n",
    "Name: 339, dtype: int64"
   ]
  },
  {
   "cell_type": "markdown",
   "id": "cf22b63a",
   "metadata": {},
   "source": [
    "nombre_infected      1000\n",
    "nombre_sain          2188\n",
    "nombre_exposed        633\n",
    "nombre_recovered    16179\n",
    "Name: 340, dtype: int64"
   ]
  },
  {
   "cell_type": "markdown",
   "id": "ed454bcb",
   "metadata": {},
   "source": [
    "nombre_infected      1019\n",
    "nombre_sain          2147\n",
    "nombre_exposed        654\n",
    "nombre_recovered    16180\n",
    "Name: 341, dtype: int64"
   ]
  },
  {
   "cell_type": "markdown",
   "id": "05c12711",
   "metadata": {},
   "source": [
    "nombre_infected      1021\n",
    "nombre_sain          2147\n",
    "nombre_exposed        664\n",
    "nombre_recovered    16168\n",
    "Name: 342, dtype: int64"
   ]
  },
  {
   "cell_type": "markdown",
   "id": "1493ce3c",
   "metadata": {},
   "source": [
    "nombre_infected      1037\n",
    "nombre_sain          2153\n",
    "nombre_exposed        644\n",
    "nombre_recovered    16166\n",
    "Name: 343, dtype: int64"
   ]
  },
  {
   "cell_type": "markdown",
   "id": "10734c2a",
   "metadata": {},
   "source": [
    "nombre_infected      1037\n",
    "nombre_sain          2154\n",
    "nombre_exposed        643\n",
    "nombre_recovered    16166\n",
    "Name: 344, dtype: int64"
   ]
  },
  {
   "cell_type": "markdown",
   "id": "33842f92",
   "metadata": {},
   "source": [
    "nombre_infected      1055\n",
    "nombre_sain          2156\n",
    "nombre_exposed        616\n",
    "nombre_recovered    16173\n",
    "Name: 345, dtype: int64"
   ]
  },
  {
   "cell_type": "markdown",
   "id": "2caa3409",
   "metadata": {},
   "source": [
    "nombre_infected      1048\n",
    "nombre_sain          2133\n",
    "nombre_exposed        615\n",
    "nombre_recovered    16204\n",
    "Name: 346, dtype: int64"
   ]
  },
  {
   "cell_type": "markdown",
   "id": "896dbcd2",
   "metadata": {},
   "source": [
    "nombre_infected      1043\n",
    "nombre_sain          2117\n",
    "nombre_exposed        618\n",
    "nombre_recovered    16222\n",
    "Name: 347, dtype: int64"
   ]
  },
  {
   "cell_type": "markdown",
   "id": "f1780653",
   "metadata": {},
   "source": [
    "nombre_infected      1038\n",
    "nombre_sain          2112\n",
    "nombre_exposed        617\n",
    "nombre_recovered    16233\n",
    "Name: 348, dtype: int64"
   ]
  },
  {
   "cell_type": "markdown",
   "id": "f023cbea",
   "metadata": {},
   "source": [
    "nombre_infected      1021\n",
    "nombre_sain          2104\n",
    "nombre_exposed        635\n",
    "nombre_recovered    16240\n",
    "Name: 349, dtype: int64"
   ]
  },
  {
   "cell_type": "markdown",
   "id": "4d1789ea",
   "metadata": {},
   "source": [
    "nombre_infected      1064\n",
    "nombre_sain          2084\n",
    "nombre_exposed        614\n",
    "nombre_recovered    16238\n",
    "Name: 350, dtype: int64"
   ]
  },
  {
   "cell_type": "markdown",
   "id": "548f4bbd",
   "metadata": {},
   "source": [
    "nombre_infected      1066\n",
    "nombre_sain          2099\n",
    "nombre_exposed        599\n",
    "nombre_recovered    16236\n",
    "Name: 351, dtype: int64"
   ]
  },
  {
   "cell_type": "markdown",
   "id": "6ad8d836",
   "metadata": {},
   "source": [
    "nombre_infected      1046\n",
    "nombre_sain          2101\n",
    "nombre_exposed        591\n",
    "nombre_recovered    16262\n",
    "Name: 352, dtype: int64"
   ]
  },
  {
   "cell_type": "markdown",
   "id": "eea9934f",
   "metadata": {},
   "source": [
    "nombre_infected      1023\n",
    "nombre_sain          2107\n",
    "nombre_exposed        598\n",
    "nombre_recovered    16272\n",
    "Name: 353, dtype: int64"
   ]
  },
  {
   "cell_type": "markdown",
   "id": "92380a82",
   "metadata": {},
   "source": [
    "nombre_infected      1009\n",
    "nombre_sain          2100\n",
    "nombre_exposed        600\n",
    "nombre_recovered    16291\n",
    "Name: 354, dtype: int64"
   ]
  },
  {
   "cell_type": "markdown",
   "id": "ae956c73",
   "metadata": {},
   "source": [
    "nombre_infected      1023\n",
    "nombre_sain          2099\n",
    "nombre_exposed        591\n",
    "nombre_recovered    16287\n",
    "Name: 355, dtype: int64"
   ]
  },
  {
   "cell_type": "markdown",
   "id": "e96a587a",
   "metadata": {},
   "source": [
    "nombre_infected      1027\n",
    "nombre_sain          2060\n",
    "nombre_exposed        615\n",
    "nombre_recovered    16298\n",
    "Name: 356, dtype: int64"
   ]
  },
  {
   "cell_type": "markdown",
   "id": "94287a07",
   "metadata": {},
   "source": [
    "nombre_infected      1016\n",
    "nombre_sain          2060\n",
    "nombre_exposed        633\n",
    "nombre_recovered    16291\n",
    "Name: 357, dtype: int64"
   ]
  },
  {
   "cell_type": "markdown",
   "id": "db87ad8c",
   "metadata": {},
   "source": [
    "nombre_infected      1028\n",
    "nombre_sain          2017\n",
    "nombre_exposed        667\n",
    "nombre_recovered    16288\n",
    "Name: 358, dtype: int64"
   ]
  },
  {
   "cell_type": "markdown",
   "id": "e1664b1a",
   "metadata": {},
   "source": [
    "nombre_infected      1026\n",
    "nombre_sain          2014\n",
    "nombre_exposed        642\n",
    "nombre_recovered    16318\n",
    "Name: 359, dtype: int64"
   ]
  },
  {
   "cell_type": "markdown",
   "id": "32bc0272",
   "metadata": {},
   "source": [
    "nombre_infected      1031\n",
    "nombre_sain          2002\n",
    "nombre_exposed        638\n",
    "nombre_recovered    16329\n",
    "Name: 360, dtype: int64"
   ]
  },
  {
   "cell_type": "markdown",
   "id": "2dd14fe7",
   "metadata": {},
   "source": [
    "nombre_infected      1032\n",
    "nombre_sain          2002\n",
    "nombre_exposed        628\n",
    "nombre_recovered    16338\n",
    "Name: 361, dtype: int64"
   ]
  },
  {
   "cell_type": "markdown",
   "id": "920ceff1",
   "metadata": {},
   "source": [
    "nombre_infected      1045\n",
    "nombre_sain          1972\n",
    "nombre_exposed        615\n",
    "nombre_recovered    16368\n",
    "Name: 362, dtype: int64"
   ]
  },
  {
   "cell_type": "markdown",
   "id": "53efbdba",
   "metadata": {},
   "source": [
    "nombre_infected      1040\n",
    "nombre_sain          1985\n",
    "nombre_exposed        612\n",
    "nombre_recovered    16363\n",
    "Name: 363, dtype: int64"
   ]
  },
  {
   "cell_type": "markdown",
   "id": "38f3dedb",
   "metadata": {},
   "source": [
    "nombre_infected      1018\n",
    "nombre_sain          1980\n",
    "nombre_exposed        631\n",
    "nombre_recovered    16371\n",
    "Name: 364, dtype: int64"
   ]
  },
  {
   "cell_type": "markdown",
   "id": "5c16c419",
   "metadata": {},
   "source": [
    "nombre_infected      1010\n",
    "nombre_sain          1979\n",
    "nombre_exposed        632\n",
    "nombre_recovered    16379\n",
    "Name: 365, dtype: int64"
   ]
  },
  {
   "cell_type": "markdown",
   "id": "108f59fe",
   "metadata": {},
   "source": [
    "nombre_infected      1026\n",
    "nombre_sain          1962\n",
    "nombre_exposed        619\n",
    "nombre_recovered    16393\n",
    "Name: 366, dtype: int64"
   ]
  },
  {
   "cell_type": "markdown",
   "id": "0c0f8685",
   "metadata": {},
   "source": [
    "nombre_infected      1029\n",
    "nombre_sain          1947\n",
    "nombre_exposed        601\n",
    "nombre_recovered    16423\n",
    "Name: 367, dtype: int64"
   ]
  },
  {
   "cell_type": "markdown",
   "id": "d1b1949f",
   "metadata": {},
   "source": [
    "nombre_infected      1015\n",
    "nombre_sain          1931\n",
    "nombre_exposed        598\n",
    "nombre_recovered    16456\n",
    "Name: 368, dtype: int64"
   ]
  },
  {
   "cell_type": "markdown",
   "id": "a1f0d61d",
   "metadata": {},
   "source": [
    "nombre_infected      1022\n",
    "nombre_sain          1908\n",
    "nombre_exposed        586\n",
    "nombre_recovered    16484\n",
    "Name: 369, dtype: int64"
   ]
  },
  {
   "cell_type": "markdown",
   "id": "3dc34664",
   "metadata": {},
   "source": [
    "nombre_infected       996\n",
    "nombre_sain          1898\n",
    "nombre_exposed        601\n",
    "nombre_recovered    16505\n",
    "Name: 370, dtype: int64"
   ]
  },
  {
   "cell_type": "markdown",
   "id": "44bce294",
   "metadata": {},
   "source": [
    "nombre_infected       991\n",
    "nombre_sain          1898\n",
    "nombre_exposed        558\n",
    "nombre_recovered    16553\n",
    "Name: 371, dtype: int64"
   ]
  },
  {
   "cell_type": "markdown",
   "id": "a0b8db3a",
   "metadata": {},
   "source": [
    "nombre_infected       994\n",
    "nombre_sain          1911\n",
    "nombre_exposed        536\n",
    "nombre_recovered    16559\n",
    "Name: 372, dtype: int64"
   ]
  },
  {
   "cell_type": "markdown",
   "id": "100d3de9",
   "metadata": {},
   "source": [
    "nombre_infected       972\n",
    "nombre_sain          1928\n",
    "nombre_exposed        528\n",
    "nombre_recovered    16572\n",
    "Name: 373, dtype: int64"
   ]
  },
  {
   "cell_type": "markdown",
   "id": "0a7a9be3",
   "metadata": {},
   "source": [
    "nombre_infected       941\n",
    "nombre_sain          1971\n",
    "nombre_exposed        518\n",
    "nombre_recovered    16570\n",
    "Name: 374, dtype: int64"
   ]
  },
  {
   "cell_type": "markdown",
   "id": "77216701",
   "metadata": {},
   "source": [
    "nombre_infected       925\n",
    "nombre_sain          1974\n",
    "nombre_exposed        509\n",
    "nombre_recovered    16592\n",
    "Name: 375, dtype: int64"
   ]
  },
  {
   "cell_type": "markdown",
   "id": "d1adc7f4",
   "metadata": {},
   "source": [
    "nombre_infected       900\n",
    "nombre_sain          1993\n",
    "nombre_exposed        508\n",
    "nombre_recovered    16599\n",
    "Name: 376, dtype: int64"
   ]
  },
  {
   "cell_type": "markdown",
   "id": "0d0bc02e",
   "metadata": {},
   "source": [
    "nombre_infected       880\n",
    "nombre_sain          2006\n",
    "nombre_exposed        516\n",
    "nombre_recovered    16598\n",
    "Name: 377, dtype: int64"
   ]
  },
  {
   "cell_type": "markdown",
   "id": "f55c21b8",
   "metadata": {},
   "source": [
    "nombre_infected       868\n",
    "nombre_sain          2017\n",
    "nombre_exposed        501\n",
    "nombre_recovered    16614\n",
    "Name: 378, dtype: int64"
   ]
  },
  {
   "cell_type": "markdown",
   "id": "3564053d",
   "metadata": {},
   "source": [
    "nombre_infected       844\n",
    "nombre_sain          2025\n",
    "nombre_exposed        501\n",
    "nombre_recovered    16630\n",
    "Name: 379, dtype: int64"
   ]
  },
  {
   "cell_type": "markdown",
   "id": "896baa07",
   "metadata": {},
   "source": [
    "nombre_infected       826\n",
    "nombre_sain          2024\n",
    "nombre_exposed        497\n",
    "nombre_recovered    16653\n",
    "Name: 380, dtype: int64"
   ]
  },
  {
   "cell_type": "markdown",
   "id": "c13b2011",
   "metadata": {},
   "source": [
    "nombre_infected       842\n",
    "nombre_sain          2041\n",
    "nombre_exposed        475\n",
    "nombre_recovered    16642\n",
    "Name: 381, dtype: int64"
   ]
  },
  {
   "cell_type": "markdown",
   "id": "132acd23",
   "metadata": {},
   "source": [
    "nombre_infected       825\n",
    "nombre_sain          2066\n",
    "nombre_exposed        462\n",
    "nombre_recovered    16647\n",
    "Name: 382, dtype: int64"
   ]
  },
  {
   "cell_type": "markdown",
   "id": "39c7b269",
   "metadata": {},
   "source": [
    "nombre_infected       820\n",
    "nombre_sain          2084\n",
    "nombre_exposed        445\n",
    "nombre_recovered    16651\n",
    "Name: 383, dtype: int64"
   ]
  },
  {
   "cell_type": "markdown",
   "id": "40cf4f81",
   "metadata": {},
   "source": [
    "nombre_infected       783\n",
    "nombre_sain          2114\n",
    "nombre_exposed        451\n",
    "nombre_recovered    16652\n",
    "Name: 384, dtype: int64"
   ]
  },
  {
   "cell_type": "markdown",
   "id": "1a6b648c",
   "metadata": {},
   "source": [
    "nombre_infected       744\n",
    "nombre_sain          2132\n",
    "nombre_exposed        459\n",
    "nombre_recovered    16665\n",
    "Name: 385, dtype: int64"
   ]
  },
  {
   "cell_type": "markdown",
   "id": "193c4b8f",
   "metadata": {},
   "source": [
    "nombre_infected       750\n",
    "nombre_sain          2133\n",
    "nombre_exposed        448\n",
    "nombre_recovered    16669\n",
    "Name: 386, dtype: int64"
   ]
  },
  {
   "cell_type": "markdown",
   "id": "6798974f",
   "metadata": {},
   "source": [
    "nombre_infected       741\n",
    "nombre_sain          2144\n",
    "nombre_exposed        452\n",
    "nombre_recovered    16663\n",
    "Name: 387, dtype: int64"
   ]
  },
  {
   "cell_type": "markdown",
   "id": "d2032fd5",
   "metadata": {},
   "source": [
    "nombre_infected       707\n",
    "nombre_sain          2191\n",
    "nombre_exposed        432\n",
    "nombre_recovered    16670\n",
    "Name: 388, dtype: int64"
   ]
  },
  {
   "cell_type": "markdown",
   "id": "aefc92a5",
   "metadata": {},
   "source": [
    "nombre_infected       710\n",
    "nombre_sain          2206\n",
    "nombre_exposed        416\n",
    "nombre_recovered    16668\n",
    "Name: 389, dtype: int64"
   ]
  },
  {
   "cell_type": "markdown",
   "id": "bb24b951",
   "metadata": {},
   "source": [
    "nombre_infected       696\n",
    "nombre_sain          2228\n",
    "nombre_exposed        424\n",
    "nombre_recovered    16652\n",
    "Name: 390, dtype: int64"
   ]
  },
  {
   "cell_type": "markdown",
   "id": "7d5c88e4",
   "metadata": {},
   "source": [
    "nombre_infected       702\n",
    "nombre_sain          2257\n",
    "nombre_exposed        423\n",
    "nombre_recovered    16618\n",
    "Name: 391, dtype: int64"
   ]
  },
  {
   "cell_type": "markdown",
   "id": "568f96d8",
   "metadata": {},
   "source": [
    "nombre_infected       690\n",
    "nombre_sain          2290\n",
    "nombre_exposed        424\n",
    "nombre_recovered    16596\n",
    "Name: 392, dtype: int64"
   ]
  },
  {
   "cell_type": "markdown",
   "id": "c4be9123",
   "metadata": {},
   "source": [
    "nombre_infected       673\n",
    "nombre_sain          2311\n",
    "nombre_exposed        425\n",
    "nombre_recovered    16591\n",
    "Name: 393, dtype: int64"
   ]
  },
  {
   "cell_type": "markdown",
   "id": "fdf2967b",
   "metadata": {},
   "source": [
    "nombre_infected       663\n",
    "nombre_sain          2354\n",
    "nombre_exposed        425\n",
    "nombre_recovered    16558\n",
    "Name: 394, dtype: int64"
   ]
  },
  {
   "cell_type": "markdown",
   "id": "839fe47e",
   "metadata": {},
   "source": [
    "nombre_infected       631\n",
    "nombre_sain          2370\n",
    "nombre_exposed        422\n",
    "nombre_recovered    16577\n",
    "Name: 395, dtype: int64"
   ]
  },
  {
   "cell_type": "markdown",
   "id": "cde27ea9",
   "metadata": {},
   "source": [
    "nombre_infected       630\n",
    "nombre_sain          2378\n",
    "nombre_exposed        425\n",
    "nombre_recovered    16567\n",
    "Name: 396, dtype: int64"
   ]
  },
  {
   "cell_type": "markdown",
   "id": "7cc93c47",
   "metadata": {},
   "source": [
    "nombre_infected       606\n",
    "nombre_sain          2396\n",
    "nombre_exposed        434\n",
    "nombre_recovered    16564\n",
    "Name: 397, dtype: int64"
   ]
  },
  {
   "cell_type": "markdown",
   "id": "2e70b02e",
   "metadata": {},
   "source": [
    "nombre_infected       623\n",
    "nombre_sain          2420\n",
    "nombre_exposed        430\n",
    "nombre_recovered    16527\n",
    "Name: 398, dtype: int64"
   ]
  },
  {
   "cell_type": "markdown",
   "id": "4712e1e0",
   "metadata": {},
   "source": [
    "nombre_infected       629\n",
    "nombre_sain          2442\n",
    "nombre_exposed        434\n",
    "nombre_recovered    16495\n",
    "Name: 399, dtype: int64"
   ]
  },
  {
   "cell_type": "markdown",
   "id": "83b69661",
   "metadata": {},
   "source": [
    "nombre_infected       647\n",
    "nombre_sain          2443\n",
    "nombre_exposed        442\n",
    "nombre_recovered    16468\n",
    "Name: 400, dtype: int64"
   ]
  },
  {
   "cell_type": "markdown",
   "id": "e34f0c90",
   "metadata": {},
   "source": [
    "nombre_infected       644\n",
    "nombre_sain          2477\n",
    "nombre_exposed        452\n",
    "nombre_recovered    16427\n",
    "Name: 401, dtype: int64"
   ]
  },
  {
   "cell_type": "markdown",
   "id": "77b16cb1",
   "metadata": {},
   "source": [
    "nombre_infected       643\n",
    "nombre_sain          2477\n",
    "nombre_exposed        457\n",
    "nombre_recovered    16423\n",
    "Name: 402, dtype: int64"
   ]
  },
  {
   "cell_type": "markdown",
   "id": "45c1d5ed",
   "metadata": {},
   "source": [
    "nombre_infected       656\n",
    "nombre_sain          2506\n",
    "nombre_exposed        425\n",
    "nombre_recovered    16413\n",
    "Name: 403, dtype: int64"
   ]
  },
  {
   "cell_type": "markdown",
   "id": "7e058e5a",
   "metadata": {},
   "source": [
    "nombre_infected       675\n",
    "nombre_sain          2499\n",
    "nombre_exposed        425\n",
    "nombre_recovered    16401\n",
    "Name: 404, dtype: int64"
   ]
  },
  {
   "cell_type": "markdown",
   "id": "9556aeb3",
   "metadata": {},
   "source": [
    "nombre_infected       662\n",
    "nombre_sain          2517\n",
    "nombre_exposed        423\n",
    "nombre_recovered    16398\n",
    "Name: 405, dtype: int64"
   ]
  },
  {
   "cell_type": "markdown",
   "id": "ca5817c5",
   "metadata": {},
   "source": [
    "nombre_infected       629\n",
    "nombre_sain          2533\n",
    "nombre_exposed        426\n",
    "nombre_recovered    16412\n",
    "Name: 406, dtype: int64"
   ]
  },
  {
   "cell_type": "markdown",
   "id": "1aa2373d",
   "metadata": {},
   "source": [
    "nombre_infected       630\n",
    "nombre_sain          2560\n",
    "nombre_exposed        419\n",
    "nombre_recovered    16391\n",
    "Name: 407, dtype: int64"
   ]
  },
  {
   "cell_type": "markdown",
   "id": "d1a71b69",
   "metadata": {},
   "source": [
    "nombre_infected       621\n",
    "nombre_sain          2599\n",
    "nombre_exposed        419\n",
    "nombre_recovered    16361\n",
    "Name: 408, dtype: int64"
   ]
  },
  {
   "cell_type": "markdown",
   "id": "f0e94803",
   "metadata": {},
   "source": [
    "nombre_infected       635\n",
    "nombre_sain          2628\n",
    "nombre_exposed        416\n",
    "nombre_recovered    16321\n",
    "Name: 409, dtype: int64"
   ]
  },
  {
   "cell_type": "markdown",
   "id": "6d8b6193",
   "metadata": {},
   "source": [
    "nombre_infected       613\n",
    "nombre_sain          2655\n",
    "nombre_exposed        429\n",
    "nombre_recovered    16303\n",
    "Name: 410, dtype: int64"
   ]
  },
  {
   "cell_type": "markdown",
   "id": "9f441855",
   "metadata": {},
   "source": [
    "nombre_infected       608\n",
    "nombre_sain          2673\n",
    "nombre_exposed        427\n",
    "nombre_recovered    16292\n",
    "Name: 411, dtype: int64"
   ]
  },
  {
   "cell_type": "markdown",
   "id": "00b7f4d0",
   "metadata": {},
   "source": [
    "nombre_infected       626\n",
    "nombre_sain          2698\n",
    "nombre_exposed        423\n",
    "nombre_recovered    16253\n",
    "Name: 412, dtype: int64"
   ]
  },
  {
   "cell_type": "markdown",
   "id": "c383dc4a",
   "metadata": {},
   "source": [
    "nombre_infected       597\n",
    "nombre_sain          2729\n",
    "nombre_exposed        442\n",
    "nombre_recovered    16232\n",
    "Name: 413, dtype: int64"
   ]
  },
  {
   "cell_type": "markdown",
   "id": "3700d656",
   "metadata": {},
   "source": [
    "nombre_infected       599\n",
    "nombre_sain          2727\n",
    "nombre_exposed        452\n",
    "nombre_recovered    16222\n",
    "Name: 414, dtype: int64"
   ]
  },
  {
   "cell_type": "markdown",
   "id": "24ec0c24",
   "metadata": {},
   "source": [
    "nombre_infected       618\n",
    "nombre_sain          2738\n",
    "nombre_exposed        457\n",
    "nombre_recovered    16187\n",
    "Name: 415, dtype: int64"
   ]
  },
  {
   "cell_type": "markdown",
   "id": "a89b311e",
   "metadata": {},
   "source": [
    "nombre_infected       613\n",
    "nombre_sain          2770\n",
    "nombre_exposed        468\n",
    "nombre_recovered    16149\n",
    "Name: 416, dtype: int64"
   ]
  },
  {
   "cell_type": "markdown",
   "id": "21c51f95",
   "metadata": {},
   "source": [
    "nombre_infected       620\n",
    "nombre_sain          2766\n",
    "nombre_exposed        466\n",
    "nombre_recovered    16148\n",
    "Name: 417, dtype: int64"
   ]
  },
  {
   "cell_type": "markdown",
   "id": "20695eca",
   "metadata": {},
   "source": [
    "nombre_infected       647\n",
    "nombre_sain          2765\n",
    "nombre_exposed        472\n",
    "nombre_recovered    16116\n",
    "Name: 418, dtype: int64"
   ]
  },
  {
   "cell_type": "markdown",
   "id": "be603152",
   "metadata": {},
   "source": [
    "nombre_infected       664\n",
    "nombre_sain          2775\n",
    "nombre_exposed        469\n",
    "nombre_recovered    16092\n",
    "Name: 419, dtype: int64"
   ]
  },
  {
   "cell_type": "markdown",
   "id": "c806910d",
   "metadata": {},
   "source": [
    "nombre_infected       671\n",
    "nombre_sain          2766\n",
    "nombre_exposed        508\n",
    "nombre_recovered    16055\n",
    "Name: 420, dtype: int64"
   ]
  },
  {
   "cell_type": "markdown",
   "id": "55090971",
   "metadata": {},
   "source": [
    "nombre_infected       673\n",
    "nombre_sain          2765\n",
    "nombre_exposed        517\n",
    "nombre_recovered    16045\n",
    "Name: 421, dtype: int64"
   ]
  },
  {
   "cell_type": "markdown",
   "id": "352a5869",
   "metadata": {},
   "source": [
    "nombre_infected       695\n",
    "nombre_sain          2779\n",
    "nombre_exposed        522\n",
    "nombre_recovered    16004\n",
    "Name: 422, dtype: int64"
   ]
  },
  {
   "cell_type": "markdown",
   "id": "81e4581a",
   "metadata": {},
   "source": [
    "nombre_infected       712\n",
    "nombre_sain          2801\n",
    "nombre_exposed        524\n",
    "nombre_recovered    15963\n",
    "Name: 423, dtype: int64"
   ]
  },
  {
   "cell_type": "markdown",
   "id": "56d46996",
   "metadata": {},
   "source": [
    "nombre_infected       726\n",
    "nombre_sain          2777\n",
    "nombre_exposed        536\n",
    "nombre_recovered    15961\n",
    "Name: 424, dtype: int64"
   ]
  },
  {
   "cell_type": "markdown",
   "id": "41486ec5",
   "metadata": {},
   "source": [
    "nombre_infected       728\n",
    "nombre_sain          2764\n",
    "nombre_exposed        545\n",
    "nombre_recovered    15963\n",
    "Name: 425, dtype: int64"
   ]
  },
  {
   "cell_type": "markdown",
   "id": "5ce02e70",
   "metadata": {},
   "source": [
    "nombre_infected       735\n",
    "nombre_sain          2737\n",
    "nombre_exposed        568\n",
    "nombre_recovered    15960\n",
    "Name: 426, dtype: int64"
   ]
  },
  {
   "cell_type": "markdown",
   "id": "5461212d",
   "metadata": {},
   "source": [
    "nombre_infected       750\n",
    "nombre_sain          2726\n",
    "nombre_exposed        558\n",
    "nombre_recovered    15966\n",
    "Name: 427, dtype: int64"
   ]
  },
  {
   "cell_type": "markdown",
   "id": "942b90bb",
   "metadata": {},
   "source": [
    "nombre_infected       773\n",
    "nombre_sain          2725\n",
    "nombre_exposed        553\n",
    "nombre_recovered    15949\n",
    "Name: 428, dtype: int64"
   ]
  },
  {
   "cell_type": "markdown",
   "id": "3f7e5726",
   "metadata": {},
   "source": [
    "nombre_infected       760\n",
    "nombre_sain          2717\n",
    "nombre_exposed        578\n",
    "nombre_recovered    15945\n",
    "Name: 429, dtype: int64"
   ]
  },
  {
   "cell_type": "markdown",
   "id": "51bdf313",
   "metadata": {},
   "source": [
    "nombre_infected       796\n",
    "nombre_sain          2709\n",
    "nombre_exposed        554\n",
    "nombre_recovered    15941\n",
    "Name: 430, dtype: int64"
   ]
  },
  {
   "cell_type": "markdown",
   "id": "332d1e73",
   "metadata": {},
   "source": [
    "nombre_infected       809\n",
    "nombre_sain          2692\n",
    "nombre_exposed        562\n",
    "nombre_recovered    15937\n",
    "Name: 431, dtype: int64"
   ]
  },
  {
   "cell_type": "markdown",
   "id": "e051abdb",
   "metadata": {},
   "source": [
    "nombre_infected       802\n",
    "nombre_sain          2684\n",
    "nombre_exposed        582\n",
    "nombre_recovered    15932\n",
    "Name: 432, dtype: int64"
   ]
  },
  {
   "cell_type": "markdown",
   "id": "564c0da9",
   "metadata": {},
   "source": [
    "nombre_infected       806\n",
    "nombre_sain          2662\n",
    "nombre_exposed        598\n",
    "nombre_recovered    15934\n",
    "Name: 433, dtype: int64"
   ]
  },
  {
   "cell_type": "markdown",
   "id": "625b9a4f",
   "metadata": {},
   "source": [
    "nombre_infected       805\n",
    "nombre_sain          2664\n",
    "nombre_exposed        606\n",
    "nombre_recovered    15925\n",
    "Name: 434, dtype: int64"
   ]
  },
  {
   "cell_type": "markdown",
   "id": "4693cff3",
   "metadata": {},
   "source": [
    "nombre_infected       826\n",
    "nombre_sain          2635\n",
    "nombre_exposed        605\n",
    "nombre_recovered    15934\n",
    "Name: 435, dtype: int64"
   ]
  },
  {
   "cell_type": "markdown",
   "id": "75ef55c9",
   "metadata": {},
   "source": [
    "nombre_infected       858\n",
    "nombre_sain          2615\n",
    "nombre_exposed        582\n",
    "nombre_recovered    15945\n",
    "Name: 436, dtype: int64"
   ]
  },
  {
   "cell_type": "markdown",
   "id": "5eefce81",
   "metadata": {},
   "source": [
    "nombre_infected       866\n",
    "nombre_sain          2606\n",
    "nombre_exposed        601\n",
    "nombre_recovered    15927\n",
    "Name: 437, dtype: int64"
   ]
  },
  {
   "cell_type": "markdown",
   "id": "1d30a20b",
   "metadata": {},
   "source": [
    "nombre_infected       876\n",
    "nombre_sain          2567\n",
    "nombre_exposed        605\n",
    "nombre_recovered    15952\n",
    "Name: 438, dtype: int64"
   ]
  },
  {
   "cell_type": "markdown",
   "id": "d83a128b",
   "metadata": {},
   "source": [
    "nombre_infected       878\n",
    "nombre_sain          2553\n",
    "nombre_exposed        614\n",
    "nombre_recovered    15955\n",
    "Name: 439, dtype: int64"
   ]
  },
  {
   "cell_type": "markdown",
   "id": "af4df5e4",
   "metadata": {},
   "source": [
    "nombre_infected       877\n",
    "nombre_sain          2536\n",
    "nombre_exposed        608\n",
    "nombre_recovered    15979\n",
    "Name: 440, dtype: int64"
   ]
  },
  {
   "cell_type": "markdown",
   "id": "87302b2a",
   "metadata": {},
   "source": [
    "nombre_infected       900\n",
    "nombre_sain          2493\n",
    "nombre_exposed        609\n",
    "nombre_recovered    15998\n",
    "Name: 441, dtype: int64"
   ]
  },
  {
   "cell_type": "markdown",
   "id": "6a141bf4",
   "metadata": {},
   "source": [
    "nombre_infected       892\n",
    "nombre_sain          2469\n",
    "nombre_exposed        622\n",
    "nombre_recovered    16017\n",
    "Name: 442, dtype: int64"
   ]
  },
  {
   "cell_type": "markdown",
   "id": "f0d3bdca",
   "metadata": {},
   "source": [
    "nombre_infected       892\n",
    "nombre_sain          2446\n",
    "nombre_exposed        638\n",
    "nombre_recovered    16024\n",
    "Name: 443, dtype: int64"
   ]
  },
  {
   "cell_type": "markdown",
   "id": "8a1f0610",
   "metadata": {},
   "source": [
    "nombre_infected       912\n",
    "nombre_sain          2427\n",
    "nombre_exposed        630\n",
    "nombre_recovered    16031\n",
    "Name: 444, dtype: int64"
   ]
  },
  {
   "cell_type": "markdown",
   "id": "4fd58f09",
   "metadata": {},
   "source": [
    "nombre_infected       934\n",
    "nombre_sain          2336\n",
    "nombre_exposed        640\n",
    "nombre_recovered    16090\n",
    "Name: 445, dtype: int64"
   ]
  },
  {
   "cell_type": "markdown",
   "id": "29cc08aa",
   "metadata": {},
   "source": [
    "nombre_infected       941\n",
    "nombre_sain          2299\n",
    "nombre_exposed        632\n",
    "nombre_recovered    16128\n",
    "Name: 446, dtype: int64"
   ]
  },
  {
   "cell_type": "markdown",
   "id": "f2f22b7a",
   "metadata": {},
   "source": [
    "nombre_infected       953\n",
    "nombre_sain          2308\n",
    "nombre_exposed        605\n",
    "nombre_recovered    16134\n",
    "Name: 447, dtype: int64"
   ]
  },
  {
   "cell_type": "markdown",
   "id": "e80b0ff6",
   "metadata": {},
   "source": [
    "nombre_infected       954\n",
    "nombre_sain          2282\n",
    "nombre_exposed        593\n",
    "nombre_recovered    16171\n",
    "Name: 448, dtype: int64"
   ]
  },
  {
   "cell_type": "markdown",
   "id": "0134e9bd",
   "metadata": {},
   "source": [
    "nombre_infected       964\n",
    "nombre_sain          2226\n",
    "nombre_exposed        600\n",
    "nombre_recovered    16210\n",
    "Name: 449, dtype: int64"
   ]
  },
  {
   "cell_type": "markdown",
   "id": "8a6f07ea",
   "metadata": {},
   "source": [
    "nombre_infected       958\n",
    "nombre_sain          2228\n",
    "nombre_exposed        580\n",
    "nombre_recovered    16234\n",
    "Name: 450, dtype: int64"
   ]
  },
  {
   "cell_type": "markdown",
   "id": "68f2028e",
   "metadata": {},
   "source": [
    "nombre_infected       951\n",
    "nombre_sain          2195\n",
    "nombre_exposed        602\n",
    "nombre_recovered    16252\n",
    "Name: 451, dtype: int64"
   ]
  },
  {
   "cell_type": "markdown",
   "id": "0283ccf6",
   "metadata": {},
   "source": [
    "nombre_infected       934\n",
    "nombre_sain          2204\n",
    "nombre_exposed        609\n",
    "nombre_recovered    16253\n",
    "Name: 452, dtype: int64"
   ]
  },
  {
   "cell_type": "markdown",
   "id": "825dafd1",
   "metadata": {},
   "source": [
    "nombre_infected       928\n",
    "nombre_sain          2167\n",
    "nombre_exposed        615\n",
    "nombre_recovered    16290\n",
    "Name: 453, dtype: int64"
   ]
  },
  {
   "cell_type": "markdown",
   "id": "db96a434",
   "metadata": {},
   "source": [
    "nombre_infected       916\n",
    "nombre_sain          2135\n",
    "nombre_exposed        656\n",
    "nombre_recovered    16293\n",
    "Name: 454, dtype: int64"
   ]
  },
  {
   "cell_type": "markdown",
   "id": "4eda8b86",
   "metadata": {},
   "source": [
    "nombre_infected       903\n",
    "nombre_sain          2143\n",
    "nombre_exposed        631\n",
    "nombre_recovered    16323\n",
    "Name: 455, dtype: int64"
   ]
  },
  {
   "cell_type": "markdown",
   "id": "56f8227a",
   "metadata": {},
   "source": [
    "nombre_infected       933\n",
    "nombre_sain          2148\n",
    "nombre_exposed        590\n",
    "nombre_recovered    16329\n",
    "Name: 456, dtype: int64"
   ]
  },
  {
   "cell_type": "markdown",
   "id": "41dab1b5",
   "metadata": {},
   "source": [
    "nombre_infected       946\n",
    "nombre_sain          2146\n",
    "nombre_exposed        587\n",
    "nombre_recovered    16321\n",
    "Name: 457, dtype: int64"
   ]
  },
  {
   "cell_type": "markdown",
   "id": "754abf7b",
   "metadata": {},
   "source": [
    "nombre_infected       934\n",
    "nombre_sain          2167\n",
    "nombre_exposed        569\n",
    "nombre_recovered    16330\n",
    "Name: 458, dtype: int64"
   ]
  },
  {
   "cell_type": "markdown",
   "id": "4419ce91",
   "metadata": {},
   "source": [
    "nombre_infected       956\n",
    "nombre_sain          2179\n",
    "nombre_exposed        545\n",
    "nombre_recovered    16320\n",
    "Name: 459, dtype: int64"
   ]
  },
  {
   "cell_type": "markdown",
   "id": "3a2a064e",
   "metadata": {},
   "source": [
    "nombre_infected       924\n",
    "nombre_sain          2208\n",
    "nombre_exposed        535\n",
    "nombre_recovered    16333\n",
    "Name: 460, dtype: int64"
   ]
  },
  {
   "cell_type": "markdown",
   "id": "d994f9bb",
   "metadata": {},
   "source": [
    "nombre_infected       893\n",
    "nombre_sain          2230\n",
    "nombre_exposed        546\n",
    "nombre_recovered    16331\n",
    "Name: 461, dtype: int64"
   ]
  },
  {
   "cell_type": "markdown",
   "id": "9d79d7a9",
   "metadata": {},
   "source": [
    "nombre_infected       886\n",
    "nombre_sain          2254\n",
    "nombre_exposed        552\n",
    "nombre_recovered    16308\n",
    "Name: 462, dtype: int64"
   ]
  },
  {
   "cell_type": "markdown",
   "id": "2f1ba94a",
   "metadata": {},
   "source": [
    "nombre_infected       872\n",
    "nombre_sain          2303\n",
    "nombre_exposed        544\n",
    "nombre_recovered    16281\n",
    "Name: 463, dtype: int64"
   ]
  },
  {
   "cell_type": "markdown",
   "id": "f0f4cb7a",
   "metadata": {},
   "source": [
    "nombre_infected       856\n",
    "nombre_sain          2305\n",
    "nombre_exposed        548\n",
    "nombre_recovered    16291\n",
    "Name: 464, dtype: int64"
   ]
  },
  {
   "cell_type": "markdown",
   "id": "9b086954",
   "metadata": {},
   "source": [
    "nombre_infected       882\n",
    "nombre_sain          2343\n",
    "nombre_exposed        518\n",
    "nombre_recovered    16257\n",
    "Name: 465, dtype: int64"
   ]
  },
  {
   "cell_type": "markdown",
   "id": "b6e0dc35",
   "metadata": {},
   "source": [
    "nombre_infected       913\n",
    "nombre_sain          2374\n",
    "nombre_exposed        507\n",
    "nombre_recovered    16206\n",
    "Name: 466, dtype: int64"
   ]
  },
  {
   "cell_type": "markdown",
   "id": "8cbeff0d",
   "metadata": {},
   "source": [
    "nombre_infected       908\n",
    "nombre_sain          2376\n",
    "nombre_exposed        521\n",
    "nombre_recovered    16195\n",
    "Name: 467, dtype: int64"
   ]
  },
  {
   "cell_type": "markdown",
   "id": "af41ef61",
   "metadata": {},
   "source": [
    "nombre_infected       882\n",
    "nombre_sain          2358\n",
    "nombre_exposed        551\n",
    "nombre_recovered    16209\n",
    "Name: 468, dtype: int64"
   ]
  },
  {
   "cell_type": "markdown",
   "id": "d39de190",
   "metadata": {},
   "source": [
    "nombre_infected       873\n",
    "nombre_sain          2371\n",
    "nombre_exposed        553\n",
    "nombre_recovered    16203\n",
    "Name: 469, dtype: int64"
   ]
  },
  {
   "cell_type": "markdown",
   "id": "e20fa913",
   "metadata": {},
   "source": [
    "nombre_infected       892\n",
    "nombre_sain          2403\n",
    "nombre_exposed        544\n",
    "nombre_recovered    16161\n",
    "Name: 470, dtype: int64"
   ]
  },
  {
   "cell_type": "markdown",
   "id": "af451228",
   "metadata": {},
   "source": [
    "nombre_infected       903\n",
    "nombre_sain          2415\n",
    "nombre_exposed        539\n",
    "nombre_recovered    16143\n",
    "Name: 471, dtype: int64"
   ]
  },
  {
   "cell_type": "markdown",
   "id": "f2c09648",
   "metadata": {},
   "source": [
    "nombre_infected       916\n",
    "nombre_sain          2420\n",
    "nombre_exposed        536\n",
    "nombre_recovered    16128\n",
    "Name: 472, dtype: int64"
   ]
  },
  {
   "cell_type": "markdown",
   "id": "b722ee76",
   "metadata": {},
   "source": [
    "nombre_infected       902\n",
    "nombre_sain          2407\n",
    "nombre_exposed        568\n",
    "nombre_recovered    16123\n",
    "Name: 473, dtype: int64"
   ]
  },
  {
   "cell_type": "markdown",
   "id": "d5235c15",
   "metadata": {},
   "source": [
    "nombre_infected       903\n",
    "nombre_sain          2398\n",
    "nombre_exposed        576\n",
    "nombre_recovered    16123\n",
    "Name: 474, dtype: int64"
   ]
  },
  {
   "cell_type": "markdown",
   "id": "af42bb3d",
   "metadata": {},
   "source": [
    "nombre_infected       903\n",
    "nombre_sain          2371\n",
    "nombre_exposed        597\n",
    "nombre_recovered    16129\n",
    "Name: 475, dtype: int64"
   ]
  },
  {
   "cell_type": "markdown",
   "id": "5e5d9a74",
   "metadata": {},
   "source": [
    "nombre_infected       933\n",
    "nombre_sain          2361\n",
    "nombre_exposed        583\n",
    "nombre_recovered    16123\n",
    "Name: 476, dtype: int64"
   ]
  },
  {
   "cell_type": "markdown",
   "id": "f8bc599d",
   "metadata": {},
   "source": [
    "nombre_infected       929\n",
    "nombre_sain          2368\n",
    "nombre_exposed        588\n",
    "nombre_recovered    16115\n",
    "Name: 477, dtype: int64"
   ]
  },
  {
   "cell_type": "markdown",
   "id": "95ca9dfb",
   "metadata": {},
   "source": [
    "nombre_infected       935\n",
    "nombre_sain          2366\n",
    "nombre_exposed        583\n",
    "nombre_recovered    16116\n",
    "Name: 478, dtype: int64"
   ]
  },
  {
   "cell_type": "markdown",
   "id": "e26e2895",
   "metadata": {},
   "source": [
    "nombre_infected       966\n",
    "nombre_sain          2364\n",
    "nombre_exposed        554\n",
    "nombre_recovered    16116\n",
    "Name: 479, dtype: int64"
   ]
  },
  {
   "cell_type": "markdown",
   "id": "a07cea48",
   "metadata": {},
   "source": [
    "nombre_infected       959\n",
    "nombre_sain          2345\n",
    "nombre_exposed        558\n",
    "nombre_recovered    16138\n",
    "Name: 480, dtype: int64"
   ]
  },
  {
   "cell_type": "markdown",
   "id": "a10f7aa9",
   "metadata": {},
   "source": [
    "nombre_infected       959\n",
    "nombre_sain          2341\n",
    "nombre_exposed        558\n",
    "nombre_recovered    16142\n",
    "Name: 481, dtype: int64"
   ]
  },
  {
   "cell_type": "markdown",
   "id": "aa628c3f",
   "metadata": {},
   "source": [
    "nombre_infected       960\n",
    "nombre_sain          2338\n",
    "nombre_exposed        554\n",
    "nombre_recovered    16148\n",
    "Name: 482, dtype: int64"
   ]
  },
  {
   "cell_type": "markdown",
   "id": "b866898b",
   "metadata": {},
   "source": [
    "nombre_infected       964\n",
    "nombre_sain          2306\n",
    "nombre_exposed        560\n",
    "nombre_recovered    16170\n",
    "Name: 483, dtype: int64"
   ]
  },
  {
   "cell_type": "markdown",
   "id": "99f19eea",
   "metadata": {},
   "source": [
    "nombre_infected       930\n",
    "nombre_sain          2295\n",
    "nombre_exposed        583\n",
    "nombre_recovered    16192\n",
    "Name: 484, dtype: int64"
   ]
  },
  {
   "cell_type": "markdown",
   "id": "affbe0f7",
   "metadata": {},
   "source": [
    "nombre_infected       934\n",
    "nombre_sain          2261\n",
    "nombre_exposed        587\n",
    "nombre_recovered    16218\n",
    "Name: 485, dtype: int64"
   ]
  },
  {
   "cell_type": "markdown",
   "id": "621ba8d7",
   "metadata": {},
   "source": [
    "nombre_infected       922\n",
    "nombre_sain          2280\n",
    "nombre_exposed        596\n",
    "nombre_recovered    16202\n",
    "Name: 486, dtype: int64"
   ]
  },
  {
   "cell_type": "markdown",
   "id": "1087ac21",
   "metadata": {},
   "source": [
    "nombre_infected       940\n",
    "nombre_sain          2252\n",
    "nombre_exposed        591\n",
    "nombre_recovered    16217\n",
    "Name: 487, dtype: int64"
   ]
  },
  {
   "cell_type": "markdown",
   "id": "4b0f82c7",
   "metadata": {},
   "source": [
    "nombre_infected       963\n",
    "nombre_sain          2226\n",
    "nombre_exposed        572\n",
    "nombre_recovered    16239\n",
    "Name: 488, dtype: int64"
   ]
  },
  {
   "cell_type": "markdown",
   "id": "a312a66b",
   "metadata": {},
   "source": [
    "nombre_infected       962\n",
    "nombre_sain          2184\n",
    "nombre_exposed        588\n",
    "nombre_recovered    16266\n",
    "Name: 489, dtype: int64"
   ]
  },
  {
   "cell_type": "markdown",
   "id": "a37fa304",
   "metadata": {},
   "source": [
    "nombre_infected       969\n",
    "nombre_sain          2148\n",
    "nombre_exposed        591\n",
    "nombre_recovered    16292\n",
    "Name: 490, dtype: int64"
   ]
  },
  {
   "cell_type": "markdown",
   "id": "e5d74b72",
   "metadata": {},
   "source": [
    "nombre_infected       993\n",
    "nombre_sain          2143\n",
    "nombre_exposed        576\n",
    "nombre_recovered    16288\n",
    "Name: 491, dtype: int64"
   ]
  },
  {
   "cell_type": "markdown",
   "id": "7f33c91e",
   "metadata": {},
   "source": [
    "nombre_infected       996\n",
    "nombre_sain          2120\n",
    "nombre_exposed        574\n",
    "nombre_recovered    16310\n",
    "Name: 492, dtype: int64"
   ]
  },
  {
   "cell_type": "markdown",
   "id": "ff3ef93b",
   "metadata": {},
   "source": [
    "nombre_infected       988\n",
    "nombre_sain          2101\n",
    "nombre_exposed        581\n",
    "nombre_recovered    16330\n",
    "Name: 493, dtype: int64"
   ]
  },
  {
   "cell_type": "markdown",
   "id": "39b25670",
   "metadata": {},
   "source": [
    "nombre_infected       982\n",
    "nombre_sain          2088\n",
    "nombre_exposed        587\n",
    "nombre_recovered    16343\n",
    "Name: 494, dtype: int64"
   ]
  },
  {
   "cell_type": "markdown",
   "id": "6f1b3508",
   "metadata": {},
   "source": [
    "nombre_infected       988\n",
    "nombre_sain          2070\n",
    "nombre_exposed        577\n",
    "nombre_recovered    16365\n",
    "Name: 495, dtype: int64"
   ]
  },
  {
   "cell_type": "markdown",
   "id": "fae3092e",
   "metadata": {},
   "source": [
    "nombre_infected       977\n",
    "nombre_sain          2036\n",
    "nombre_exposed        597\n",
    "nombre_recovered    16390\n",
    "Name: 496, dtype: int64"
   ]
  },
  {
   "cell_type": "markdown",
   "id": "43b70718",
   "metadata": {},
   "source": [
    "nombre_infected       971\n",
    "nombre_sain          2044\n",
    "nombre_exposed        588\n",
    "nombre_recovered    16397\n",
    "Name: 497, dtype: int64"
   ]
  },
  {
   "cell_type": "markdown",
   "id": "3f253cf0",
   "metadata": {},
   "source": [
    "nombre_infected       966\n",
    "nombre_sain          2022\n",
    "nombre_exposed        590\n",
    "nombre_recovered    16422\n",
    "Name: 498, dtype: int64"
   ]
  },
  {
   "cell_type": "markdown",
   "id": "842273a9",
   "metadata": {},
   "source": [
    "nombre_infected       962\n",
    "nombre_sain          2005\n",
    "nombre_exposed        604\n",
    "nombre_recovered    16429\n",
    "Name: 499, dtype: int64"
   ]
  },
  {
   "cell_type": "markdown",
   "id": "9c130a9a",
   "metadata": {},
   "source": [
    "nombre_infected       970\n",
    "nombre_sain          2013\n",
    "nombre_exposed        572\n",
    "nombre_recovered    16445\n",
    "Name: 500, dtype: int64"
   ]
  },
  {
   "cell_type": "markdown",
   "id": "7f91a2b3",
   "metadata": {},
   "source": [
    "nombre_infected       949\n",
    "nombre_sain          2020\n",
    "nombre_exposed        566\n",
    "nombre_recovered    16465\n",
    "Name: 501, dtype: int64"
   ]
  },
  {
   "cell_type": "markdown",
   "id": "1c8601ea",
   "metadata": {},
   "source": [
    "nombre_infected       927\n",
    "nombre_sain          2026\n",
    "nombre_exposed        552\n",
    "nombre_recovered    16495\n",
    "Name: 502, dtype: int64"
   ]
  },
  {
   "cell_type": "markdown",
   "id": "2df5e1ab",
   "metadata": {},
   "source": [
    "nombre_infected       958\n",
    "nombre_sain          2024\n",
    "nombre_exposed        537\n",
    "nombre_recovered    16481\n",
    "Name: 503, dtype: int64"
   ]
  },
  {
   "cell_type": "markdown",
   "id": "a8bf18e4",
   "metadata": {},
   "source": [
    "nombre_infected       929\n",
    "nombre_sain          2041\n",
    "nombre_exposed        523\n",
    "nombre_recovered    16507\n",
    "Name: 504, dtype: int64"
   ]
  },
  {
   "cell_type": "markdown",
   "id": "88e2d7f7",
   "metadata": {},
   "source": [
    "nombre_infected       918\n",
    "nombre_sain          2046\n",
    "nombre_exposed        530\n",
    "nombre_recovered    16506\n",
    "Name: 505, dtype: int64"
   ]
  },
  {
   "cell_type": "markdown",
   "id": "dbb49b04",
   "metadata": {},
   "source": [
    "nombre_infected       896\n",
    "nombre_sain          2016\n",
    "nombre_exposed        563\n",
    "nombre_recovered    16525\n",
    "Name: 506, dtype: int64"
   ]
  },
  {
   "cell_type": "markdown",
   "id": "5e69e6a7",
   "metadata": {},
   "source": [
    "nombre_infected       895\n",
    "nombre_sain          2033\n",
    "nombre_exposed        569\n",
    "nombre_recovered    16503\n",
    "Name: 507, dtype: int64"
   ]
  },
  {
   "cell_type": "markdown",
   "id": "d02d3a37",
   "metadata": {},
   "source": [
    "nombre_infected       907\n",
    "nombre_sain          2021\n",
    "nombre_exposed        563\n",
    "nombre_recovered    16509\n",
    "Name: 508, dtype: int64"
   ]
  },
  {
   "cell_type": "markdown",
   "id": "a00c13fa",
   "metadata": {},
   "source": [
    "nombre_infected       882\n",
    "nombre_sain          2042\n",
    "nombre_exposed        557\n",
    "nombre_recovered    16519\n",
    "Name: 509, dtype: int64"
   ]
  },
  {
   "cell_type": "markdown",
   "id": "11419395",
   "metadata": {},
   "source": [
    "nombre_infected       882\n",
    "nombre_sain          2034\n",
    "nombre_exposed        562\n",
    "nombre_recovered    16522\n",
    "Name: 510, dtype: int64"
   ]
  },
  {
   "cell_type": "markdown",
   "id": "9e115368",
   "metadata": {},
   "source": [
    "nombre_infected       877\n",
    "nombre_sain          2038\n",
    "nombre_exposed        556\n",
    "nombre_recovered    16529\n",
    "Name: 511, dtype: int64"
   ]
  },
  {
   "cell_type": "markdown",
   "id": "c1c7a94e",
   "metadata": {},
   "source": [
    "nombre_infected       928\n",
    "nombre_sain          2048\n",
    "nombre_exposed        524\n",
    "nombre_recovered    16500\n",
    "Name: 512, dtype: int64"
   ]
  },
  {
   "cell_type": "markdown",
   "id": "f1c6dfaa",
   "metadata": {},
   "source": [
    "nombre_infected       945\n",
    "nombre_sain          2034\n",
    "nombre_exposed        522\n",
    "nombre_recovered    16499\n",
    "Name: 513, dtype: int64"
   ]
  },
  {
   "cell_type": "markdown",
   "id": "b38be807",
   "metadata": {},
   "source": [
    "nombre_infected       931\n",
    "nombre_sain          2035\n",
    "nombre_exposed        528\n",
    "nombre_recovered    16506\n",
    "Name: 514, dtype: int64"
   ]
  },
  {
   "cell_type": "markdown",
   "id": "eceba591",
   "metadata": {},
   "source": [
    "nombre_infected       935\n",
    "nombre_sain          2022\n",
    "nombre_exposed        539\n",
    "nombre_recovered    16504\n",
    "Name: 515, dtype: int64"
   ]
  },
  {
   "cell_type": "markdown",
   "id": "e2ea7aae",
   "metadata": {},
   "source": [
    "nombre_infected       919\n",
    "nombre_sain          2019\n",
    "nombre_exposed        545\n",
    "nombre_recovered    16517\n",
    "Name: 516, dtype: int64"
   ]
  },
  {
   "cell_type": "markdown",
   "id": "6e5e8b34",
   "metadata": {},
   "source": [
    "nombre_infected       914\n",
    "nombre_sain          2017\n",
    "nombre_exposed        532\n",
    "nombre_recovered    16537\n",
    "Name: 517, dtype: int64"
   ]
  },
  {
   "cell_type": "markdown",
   "id": "6b09dec8",
   "metadata": {},
   "source": [
    "nombre_infected       900\n",
    "nombre_sain          2019\n",
    "nombre_exposed        529\n",
    "nombre_recovered    16552\n",
    "Name: 518, dtype: int64"
   ]
  },
  {
   "cell_type": "markdown",
   "id": "144d55ca",
   "metadata": {},
   "source": [
    "nombre_infected       899\n",
    "nombre_sain          2024\n",
    "nombre_exposed        525\n",
    "nombre_recovered    16552\n",
    "Name: 519, dtype: int64"
   ]
  },
  {
   "cell_type": "markdown",
   "id": "7d6aab0f",
   "metadata": {},
   "source": [
    "nombre_infected       889\n",
    "nombre_sain          2032\n",
    "nombre_exposed        517\n",
    "nombre_recovered    16562\n",
    "Name: 520, dtype: int64"
   ]
  },
  {
   "cell_type": "markdown",
   "id": "cbe8a32c",
   "metadata": {},
   "source": [
    "nombre_infected       876\n",
    "nombre_sain          2027\n",
    "nombre_exposed        526\n",
    "nombre_recovered    16571\n",
    "Name: 521, dtype: int64"
   ]
  },
  {
   "cell_type": "markdown",
   "id": "ed79fb13",
   "metadata": {},
   "source": [
    "nombre_infected       861\n",
    "nombre_sain          2006\n",
    "nombre_exposed        545\n",
    "nombre_recovered    16588\n",
    "Name: 522, dtype: int64"
   ]
  },
  {
   "cell_type": "markdown",
   "id": "b8043b91",
   "metadata": {},
   "source": [
    "nombre_infected       866\n",
    "nombre_sain          2023\n",
    "nombre_exposed        533\n",
    "nombre_recovered    16578\n",
    "Name: 523, dtype: int64"
   ]
  },
  {
   "cell_type": "markdown",
   "id": "ea3a501f",
   "metadata": {},
   "source": [
    "nombre_infected       879\n",
    "nombre_sain          2018\n",
    "nombre_exposed        536\n",
    "nombre_recovered    16567\n",
    "Name: 524, dtype: int64"
   ]
  },
  {
   "cell_type": "markdown",
   "id": "91b281b8",
   "metadata": {},
   "source": [
    "nombre_infected       902\n",
    "nombre_sain          1991\n",
    "nombre_exposed        524\n",
    "nombre_recovered    16583\n",
    "Name: 525, dtype: int64"
   ]
  },
  {
   "cell_type": "markdown",
   "id": "9b894a74",
   "metadata": {},
   "source": [
    "nombre_infected       900\n",
    "nombre_sain          1985\n",
    "nombre_exposed        509\n",
    "nombre_recovered    16606\n",
    "Name: 526, dtype: int64"
   ]
  },
  {
   "cell_type": "markdown",
   "id": "33bc67b7",
   "metadata": {},
   "source": [
    "nombre_infected       880\n",
    "nombre_sain          2004\n",
    "nombre_exposed        495\n",
    "nombre_recovered    16621\n",
    "Name: 527, dtype: int64"
   ]
  },
  {
   "cell_type": "markdown",
   "id": "a08535f8",
   "metadata": {},
   "source": [
    "nombre_infected       872\n",
    "nombre_sain          1989\n",
    "nombre_exposed        504\n",
    "nombre_recovered    16635\n",
    "Name: 528, dtype: int64"
   ]
  },
  {
   "cell_type": "markdown",
   "id": "b87c21ba",
   "metadata": {},
   "source": [
    "nombre_infected       857\n",
    "nombre_sain          1987\n",
    "nombre_exposed        515\n",
    "nombre_recovered    16641\n",
    "Name: 529, dtype: int64"
   ]
  },
  {
   "cell_type": "markdown",
   "id": "ce61cd16",
   "metadata": {},
   "source": [
    "nombre_infected       846\n",
    "nombre_sain          1982\n",
    "nombre_exposed        508\n",
    "nombre_recovered    16664\n",
    "Name: 530, dtype: int64"
   ]
  },
  {
   "cell_type": "markdown",
   "id": "748b94a3",
   "metadata": {},
   "source": [
    "nombre_infected       834\n",
    "nombre_sain          1980\n",
    "nombre_exposed        513\n",
    "nombre_recovered    16673\n",
    "Name: 531, dtype: int64"
   ]
  },
  {
   "cell_type": "markdown",
   "id": "75fa34fb",
   "metadata": {},
   "source": [
    "nombre_infected       823\n",
    "nombre_sain          1967\n",
    "nombre_exposed        523\n",
    "nombre_recovered    16687\n",
    "Name: 532, dtype: int64"
   ]
  },
  {
   "cell_type": "markdown",
   "id": "d1697dfd",
   "metadata": {},
   "source": [
    "nombre_infected       833\n",
    "nombre_sain          1992\n",
    "nombre_exposed        490\n",
    "nombre_recovered    16685\n",
    "Name: 533, dtype: int64"
   ]
  },
  {
   "cell_type": "markdown",
   "id": "c0486af3",
   "metadata": {},
   "source": [
    "nombre_infected       836\n",
    "nombre_sain          1984\n",
    "nombre_exposed        470\n",
    "nombre_recovered    16710\n",
    "Name: 534, dtype: int64"
   ]
  },
  {
   "cell_type": "markdown",
   "id": "096a438e",
   "metadata": {},
   "source": [
    "nombre_infected       846\n",
    "nombre_sain          1999\n",
    "nombre_exposed        447\n",
    "nombre_recovered    16708\n",
    "Name: 535, dtype: int64"
   ]
  },
  {
   "cell_type": "markdown",
   "id": "75d1979f",
   "metadata": {},
   "source": [
    "nombre_infected       836\n",
    "nombre_sain          1982\n",
    "nombre_exposed        466\n",
    "nombre_recovered    16716\n",
    "Name: 536, dtype: int64"
   ]
  },
  {
   "cell_type": "markdown",
   "id": "ffa6ea11",
   "metadata": {},
   "source": [
    "nombre_infected       802\n",
    "nombre_sain          2010\n",
    "nombre_exposed        469\n",
    "nombre_recovered    16719\n",
    "Name: 537, dtype: int64"
   ]
  },
  {
   "cell_type": "markdown",
   "id": "ff574069",
   "metadata": {},
   "source": [
    "nombre_infected       789\n",
    "nombre_sain          2010\n",
    "nombre_exposed        468\n",
    "nombre_recovered    16733\n",
    "Name: 538, dtype: int64"
   ]
  },
  {
   "cell_type": "markdown",
   "id": "c69a3c50",
   "metadata": {},
   "source": [
    "nombre_infected       789\n",
    "nombre_sain          2020\n",
    "nombre_exposed        452\n",
    "nombre_recovered    16739\n",
    "Name: 539, dtype: int64"
   ]
  },
  {
   "cell_type": "markdown",
   "id": "e68a6a33",
   "metadata": {},
   "source": [
    "nombre_infected       771\n",
    "nombre_sain          2035\n",
    "nombre_exposed        456\n",
    "nombre_recovered    16738\n",
    "Name: 540, dtype: int64"
   ]
  },
  {
   "cell_type": "markdown",
   "id": "05e0160a",
   "metadata": {},
   "source": [
    "nombre_infected       751\n",
    "nombre_sain          2038\n",
    "nombre_exposed        462\n",
    "nombre_recovered    16749\n",
    "Name: 541, dtype: int64"
   ]
  },
  {
   "cell_type": "markdown",
   "id": "e5382099",
   "metadata": {},
   "source": [
    "nombre_infected       738\n",
    "nombre_sain          2061\n",
    "nombre_exposed        443\n",
    "nombre_recovered    16758\n",
    "Name: 542, dtype: int64"
   ]
  },
  {
   "cell_type": "markdown",
   "id": "05c2c3cf",
   "metadata": {},
   "source": [
    "nombre_infected       749\n",
    "nombre_sain          2070\n",
    "nombre_exposed        445\n",
    "nombre_recovered    16736\n",
    "Name: 543, dtype: int64"
   ]
  },
  {
   "cell_type": "markdown",
   "id": "4d8dac64",
   "metadata": {},
   "source": [
    "nombre_infected       742\n",
    "nombre_sain          2089\n",
    "nombre_exposed        460\n",
    "nombre_recovered    16709\n",
    "Name: 544, dtype: int64"
   ]
  },
  {
   "cell_type": "markdown",
   "id": "173d8c47",
   "metadata": {},
   "source": [
    "nombre_infected       734\n",
    "nombre_sain          2125\n",
    "nombre_exposed        441\n",
    "nombre_recovered    16700\n",
    "Name: 545, dtype: int64"
   ]
  },
  {
   "cell_type": "markdown",
   "id": "50f68f6d",
   "metadata": {},
   "source": [
    "nombre_infected       709\n",
    "nombre_sain          2163\n",
    "nombre_exposed        434\n",
    "nombre_recovered    16694\n",
    "Name: 546, dtype: int64"
   ]
  },
  {
   "cell_type": "markdown",
   "id": "a8e38bc6",
   "metadata": {},
   "source": [
    "nombre_infected       705\n",
    "nombre_sain          2186\n",
    "nombre_exposed        445\n",
    "nombre_recovered    16664\n",
    "Name: 547, dtype: int64"
   ]
  },
  {
   "cell_type": "markdown",
   "id": "2118b8c9",
   "metadata": {},
   "source": [
    "nombre_infected       679\n",
    "nombre_sain          2195\n",
    "nombre_exposed        434\n",
    "nombre_recovered    16692\n",
    "Name: 548, dtype: int64"
   ]
  },
  {
   "cell_type": "markdown",
   "id": "aa759943",
   "metadata": {},
   "source": [
    "nombre_infected       687\n",
    "nombre_sain          2210\n",
    "nombre_exposed        429\n",
    "nombre_recovered    16674\n",
    "Name: 549, dtype: int64"
   ]
  },
  {
   "cell_type": "markdown",
   "id": "9a9e00f1",
   "metadata": {},
   "source": [
    "nombre_infected       682\n",
    "nombre_sain          2202\n",
    "nombre_exposed        431\n",
    "nombre_recovered    16685\n",
    "Name: 550, dtype: int64"
   ]
  },
  {
   "cell_type": "markdown",
   "id": "bd2b5715",
   "metadata": {},
   "source": [
    "nombre_infected       680\n",
    "nombre_sain          2217\n",
    "nombre_exposed        430\n",
    "nombre_recovered    16673\n",
    "Name: 551, dtype: int64"
   ]
  },
  {
   "cell_type": "markdown",
   "id": "d6b9b658",
   "metadata": {},
   "source": [
    "nombre_infected       675\n",
    "nombre_sain          2226\n",
    "nombre_exposed        435\n",
    "nombre_recovered    16664\n",
    "Name: 552, dtype: int64"
   ]
  },
  {
   "cell_type": "markdown",
   "id": "d0097b47",
   "metadata": {},
   "source": [
    "nombre_infected       673\n",
    "nombre_sain          2233\n",
    "nombre_exposed        429\n",
    "nombre_recovered    16665\n",
    "Name: 553, dtype: int64"
   ]
  },
  {
   "cell_type": "markdown",
   "id": "a7ed008f",
   "metadata": {},
   "source": [
    "nombre_infected       658\n",
    "nombre_sain          2259\n",
    "nombre_exposed        444\n",
    "nombre_recovered    16639\n",
    "Name: 554, dtype: int64"
   ]
  },
  {
   "cell_type": "markdown",
   "id": "a6e4dd42",
   "metadata": {},
   "source": [
    "nombre_infected       640\n",
    "nombre_sain          2290\n",
    "nombre_exposed        439\n",
    "nombre_recovered    16631\n",
    "Name: 555, dtype: int64"
   ]
  },
  {
   "cell_type": "markdown",
   "id": "db12f7da",
   "metadata": {},
   "source": [
    "nombre_infected       655\n",
    "nombre_sain          2301\n",
    "nombre_exposed        441\n",
    "nombre_recovered    16603\n",
    "Name: 556, dtype: int64"
   ]
  },
  {
   "cell_type": "markdown",
   "id": "4b444cee",
   "metadata": {},
   "source": [
    "nombre_infected       648\n",
    "nombre_sain          2309\n",
    "nombre_exposed        438\n",
    "nombre_recovered    16605\n",
    "Name: 557, dtype: int64"
   ]
  },
  {
   "cell_type": "markdown",
   "id": "2fc62901",
   "metadata": {},
   "source": [
    "nombre_infected       626\n",
    "nombre_sain          2313\n",
    "nombre_exposed        445\n",
    "nombre_recovered    16616\n",
    "Name: 558, dtype: int64"
   ]
  },
  {
   "cell_type": "markdown",
   "id": "8ded5e81",
   "metadata": {},
   "source": [
    "nombre_infected       629\n",
    "nombre_sain          2301\n",
    "nombre_exposed        445\n",
    "nombre_recovered    16625\n",
    "Name: 559, dtype: int64"
   ]
  },
  {
   "cell_type": "markdown",
   "id": "fdadb499",
   "metadata": {},
   "source": [
    "nombre_infected       625\n",
    "nombre_sain          2322\n",
    "nombre_exposed        452\n",
    "nombre_recovered    16601\n",
    "Name: 560, dtype: int64"
   ]
  },
  {
   "cell_type": "markdown",
   "id": "1c34f63a",
   "metadata": {},
   "source": [
    "nombre_infected       619\n",
    "nombre_sain          2324\n",
    "nombre_exposed        459\n",
    "nombre_recovered    16598\n",
    "Name: 561, dtype: int64"
   ]
  },
  {
   "cell_type": "markdown",
   "id": "bcf49e9a",
   "metadata": {},
   "source": [
    "nombre_infected       631\n",
    "nombre_sain          2345\n",
    "nombre_exposed        451\n",
    "nombre_recovered    16573\n",
    "Name: 562, dtype: int64"
   ]
  },
  {
   "cell_type": "markdown",
   "id": "889e5be2",
   "metadata": {},
   "source": [
    "nombre_infected       639\n",
    "nombre_sain          2403\n",
    "nombre_exposed        440\n",
    "nombre_recovered    16518\n",
    "Name: 563, dtype: int64"
   ]
  },
  {
   "cell_type": "markdown",
   "id": "63953671",
   "metadata": {},
   "source": [
    "nombre_infected       636\n",
    "nombre_sain          2397\n",
    "nombre_exposed        454\n",
    "nombre_recovered    16513\n",
    "Name: 564, dtype: int64"
   ]
  },
  {
   "cell_type": "markdown",
   "id": "55070b78",
   "metadata": {},
   "source": [
    "nombre_infected       641\n",
    "nombre_sain          2434\n",
    "nombre_exposed        440\n",
    "nombre_recovered    16485\n",
    "Name: 565, dtype: int64"
   ]
  },
  {
   "cell_type": "markdown",
   "id": "d0927bd1",
   "metadata": {},
   "source": [
    "nombre_infected       669\n",
    "nombre_sain          2453\n",
    "nombre_exposed        418\n",
    "nombre_recovered    16460\n",
    "Name: 566, dtype: int64"
   ]
  },
  {
   "cell_type": "markdown",
   "id": "82106596",
   "metadata": {},
   "source": [
    "nombre_infected       668\n",
    "nombre_sain          2479\n",
    "nombre_exposed        412\n",
    "nombre_recovered    16441\n",
    "Name: 567, dtype: int64"
   ]
  },
  {
   "cell_type": "markdown",
   "id": "dee62e60",
   "metadata": {},
   "source": [
    "nombre_infected       661\n",
    "nombre_sain          2477\n",
    "nombre_exposed        438\n",
    "nombre_recovered    16424\n",
    "Name: 568, dtype: int64"
   ]
  },
  {
   "cell_type": "markdown",
   "id": "f2d0c1b5",
   "metadata": {},
   "source": [
    "nombre_infected       669\n",
    "nombre_sain          2498\n",
    "nombre_exposed        444\n",
    "nombre_recovered    16389\n",
    "Name: 569, dtype: int64"
   ]
  },
  {
   "cell_type": "markdown",
   "id": "6921304b",
   "metadata": {},
   "source": [
    "nombre_infected       663\n",
    "nombre_sain          2512\n",
    "nombre_exposed        435\n",
    "nombre_recovered    16390\n",
    "Name: 570, dtype: int64"
   ]
  },
  {
   "cell_type": "markdown",
   "id": "4d410c49",
   "metadata": {},
   "source": [
    "nombre_infected       638\n",
    "nombre_sain          2510\n",
    "nombre_exposed        460\n",
    "nombre_recovered    16392\n",
    "Name: 571, dtype: int64"
   ]
  },
  {
   "cell_type": "markdown",
   "id": "15091fbb",
   "metadata": {},
   "source": [
    "nombre_infected       635\n",
    "nombre_sain          2495\n",
    "nombre_exposed        467\n",
    "nombre_recovered    16403\n",
    "Name: 572, dtype: int64"
   ]
  },
  {
   "cell_type": "markdown",
   "id": "a3bd3378",
   "metadata": {},
   "source": [
    "nombre_infected       645\n",
    "nombre_sain          2508\n",
    "nombre_exposed        447\n",
    "nombre_recovered    16400\n",
    "Name: 573, dtype: int64"
   ]
  },
  {
   "cell_type": "markdown",
   "id": "3cc9ed37",
   "metadata": {},
   "source": [
    "nombre_infected       672\n",
    "nombre_sain          2493\n",
    "nombre_exposed        448\n",
    "nombre_recovered    16387\n",
    "Name: 574, dtype: int64"
   ]
  },
  {
   "cell_type": "markdown",
   "id": "e3cb8a09",
   "metadata": {},
   "source": [
    "nombre_infected       678\n",
    "nombre_sain          2490\n",
    "nombre_exposed        458\n",
    "nombre_recovered    16374\n",
    "Name: 575, dtype: int64"
   ]
  },
  {
   "cell_type": "markdown",
   "id": "e459eac2",
   "metadata": {},
   "source": [
    "nombre_infected       679\n",
    "nombre_sain          2494\n",
    "nombre_exposed        469\n",
    "nombre_recovered    16358\n",
    "Name: 576, dtype: int64"
   ]
  },
  {
   "cell_type": "markdown",
   "id": "8dfad42f",
   "metadata": {},
   "source": [
    "nombre_infected       664\n",
    "nombre_sain          2491\n",
    "nombre_exposed        484\n",
    "nombre_recovered    16361\n",
    "Name: 577, dtype: int64"
   ]
  },
  {
   "cell_type": "markdown",
   "id": "7b8a90ca",
   "metadata": {},
   "source": [
    "nombre_infected       701\n",
    "nombre_sain          2490\n",
    "nombre_exposed        461\n",
    "nombre_recovered    16348\n",
    "Name: 578, dtype: int64"
   ]
  },
  {
   "cell_type": "markdown",
   "id": "ad912d4f",
   "metadata": {},
   "source": [
    "nombre_infected       689\n",
    "nombre_sain          2500\n",
    "nombre_exposed        472\n",
    "nombre_recovered    16339\n",
    "Name: 579, dtype: int64"
   ]
  },
  {
   "cell_type": "markdown",
   "id": "19ea9c71",
   "metadata": {},
   "source": [
    "nombre_infected       683\n",
    "nombre_sain          2485\n",
    "nombre_exposed        496\n",
    "nombre_recovered    16336\n",
    "Name: 580, dtype: int64"
   ]
  },
  {
   "cell_type": "markdown",
   "id": "97f7999b",
   "metadata": {},
   "source": [
    "nombre_infected       704\n",
    "nombre_sain          2478\n",
    "nombre_exposed        498\n",
    "nombre_recovered    16320\n",
    "Name: 581, dtype: int64"
   ]
  },
  {
   "cell_type": "markdown",
   "id": "7fe21eb6",
   "metadata": {},
   "source": [
    "nombre_infected       727\n",
    "nombre_sain          2483\n",
    "nombre_exposed        487\n",
    "nombre_recovered    16303\n",
    "Name: 582, dtype: int64"
   ]
  },
  {
   "cell_type": "markdown",
   "id": "87a5284e",
   "metadata": {},
   "source": [
    "nombre_infected       722\n",
    "nombre_sain          2490\n",
    "nombre_exposed        499\n",
    "nombre_recovered    16289\n",
    "Name: 583, dtype: int64"
   ]
  },
  {
   "cell_type": "markdown",
   "id": "00492eb5",
   "metadata": {},
   "source": [
    "nombre_infected       715\n",
    "nombre_sain          2499\n",
    "nombre_exposed        494\n",
    "nombre_recovered    16292\n",
    "Name: 584, dtype: int64"
   ]
  },
  {
   "cell_type": "markdown",
   "id": "da5e6290",
   "metadata": {},
   "source": [
    "nombre_infected       706\n",
    "nombre_sain          2515\n",
    "nombre_exposed        494\n",
    "nombre_recovered    16285\n",
    "Name: 585, dtype: int64"
   ]
  },
  {
   "cell_type": "markdown",
   "id": "078ac573",
   "metadata": {},
   "source": [
    "nombre_infected       704\n",
    "nombre_sain          2509\n",
    "nombre_exposed        488\n",
    "nombre_recovered    16299\n",
    "Name: 586, dtype: int64"
   ]
  },
  {
   "cell_type": "markdown",
   "id": "c0d451a4",
   "metadata": {},
   "source": [
    "nombre_infected       716\n",
    "nombre_sain          2515\n",
    "nombre_exposed        474\n",
    "nombre_recovered    16295\n",
    "Name: 587, dtype: int64"
   ]
  },
  {
   "cell_type": "markdown",
   "id": "bcfca7fd",
   "metadata": {},
   "source": [
    "nombre_infected       715\n",
    "nombre_sain          2523\n",
    "nombre_exposed        485\n",
    "nombre_recovered    16277\n",
    "Name: 588, dtype: int64"
   ]
  },
  {
   "cell_type": "markdown",
   "id": "bf3aebda",
   "metadata": {},
   "source": [
    "nombre_infected       721\n",
    "nombre_sain          2516\n",
    "nombre_exposed        497\n",
    "nombre_recovered    16266\n",
    "Name: 589, dtype: int64"
   ]
  },
  {
   "cell_type": "markdown",
   "id": "804cf1c1",
   "metadata": {},
   "source": [
    "nombre_infected       723\n",
    "nombre_sain          2485\n",
    "nombre_exposed        502\n",
    "nombre_recovered    16290\n",
    "Name: 590, dtype: int64"
   ]
  },
  {
   "cell_type": "markdown",
   "id": "b3d85a6d",
   "metadata": {},
   "source": [
    "nombre_infected       720\n",
    "nombre_sain          2489\n",
    "nombre_exposed        518\n",
    "nombre_recovered    16273\n",
    "Name: 591, dtype: int64"
   ]
  },
  {
   "cell_type": "markdown",
   "id": "9aa28214",
   "metadata": {},
   "source": [
    "nombre_infected       726\n",
    "nombre_sain          2484\n",
    "nombre_exposed        515\n",
    "nombre_recovered    16275\n",
    "Name: 592, dtype: int64"
   ]
  },
  {
   "cell_type": "markdown",
   "id": "fb6bd667",
   "metadata": {},
   "source": [
    "nombre_infected       766\n",
    "nombre_sain          2482\n",
    "nombre_exposed        501\n",
    "nombre_recovered    16251\n",
    "Name: 593, dtype: int64"
   ]
  },
  {
   "cell_type": "markdown",
   "id": "a63434ed",
   "metadata": {},
   "source": [
    "nombre_infected       742\n",
    "nombre_sain          2479\n",
    "nombre_exposed        520\n",
    "nombre_recovered    16259\n",
    "Name: 594, dtype: int64"
   ]
  },
  {
   "cell_type": "markdown",
   "id": "040ff06e",
   "metadata": {},
   "source": [
    "nombre_infected       737\n",
    "nombre_sain          2480\n",
    "nombre_exposed        511\n",
    "nombre_recovered    16272\n",
    "Name: 595, dtype: int64"
   ]
  },
  {
   "cell_type": "markdown",
   "id": "2cedae46",
   "metadata": {},
   "source": [
    "nombre_infected       752\n",
    "nombre_sain          2457\n",
    "nombre_exposed        526\n",
    "nombre_recovered    16265\n",
    "Name: 596, dtype: int64"
   ]
  },
  {
   "cell_type": "markdown",
   "id": "6a891262",
   "metadata": {},
   "source": [
    "nombre_infected       718\n",
    "nombre_sain          2445\n",
    "nombre_exposed        556\n",
    "nombre_recovered    16281\n",
    "Name: 597, dtype: int64"
   ]
  },
  {
   "cell_type": "markdown",
   "id": "7054788a",
   "metadata": {},
   "source": [
    "nombre_infected       744\n",
    "nombre_sain          2431\n",
    "nombre_exposed        553\n",
    "nombre_recovered    16272\n",
    "Name: 598, dtype: int64"
   ]
  },
  {
   "cell_type": "markdown",
   "id": "d0de8b5f",
   "metadata": {},
   "source": [
    "nombre_infected       768\n",
    "nombre_sain          2413\n",
    "nombre_exposed        539\n",
    "nombre_recovered    16280\n",
    "Name: 599, dtype: int64"
   ]
  },
  {
   "cell_type": "markdown",
   "id": "3f2e9288",
   "metadata": {},
   "source": [
    "nombre_infected       776\n",
    "nombre_sain          2413\n",
    "nombre_exposed        534\n",
    "nombre_recovered    16277\n",
    "Name: 600, dtype: int64"
   ]
  },
  {
   "cell_type": "markdown",
   "id": "8122b138",
   "metadata": {},
   "source": [
    "nombre_infected       794\n",
    "nombre_sain          2397\n",
    "nombre_exposed        533\n",
    "nombre_recovered    16276\n",
    "Name: 601, dtype: int64"
   ]
  },
  {
   "cell_type": "markdown",
   "id": "381a2d8e",
   "metadata": {},
   "source": [
    "nombre_infected       810\n",
    "nombre_sain          2373\n",
    "nombre_exposed        548\n",
    "nombre_recovered    16269\n",
    "Name: 602, dtype: int64"
   ]
  },
  {
   "cell_type": "markdown",
   "id": "9e843d49",
   "metadata": {},
   "source": [
    "nombre_infected       800\n",
    "nombre_sain          2344\n",
    "nombre_exposed        581\n",
    "nombre_recovered    16275\n",
    "Name: 603, dtype: int64"
   ]
  },
  {
   "cell_type": "markdown",
   "id": "2dce3f17",
   "metadata": {},
   "source": [
    "nombre_infected       794\n",
    "nombre_sain          2313\n",
    "nombre_exposed        591\n",
    "nombre_recovered    16302\n",
    "Name: 604, dtype: int64"
   ]
  },
  {
   "cell_type": "markdown",
   "id": "622157a1",
   "metadata": {},
   "source": [
    "nombre_infected       802\n",
    "nombre_sain          2301\n",
    "nombre_exposed        580\n",
    "nombre_recovered    16317\n",
    "Name: 605, dtype: int64"
   ]
  },
  {
   "cell_type": "markdown",
   "id": "3894f5b8",
   "metadata": {},
   "source": [
    "nombre_infected       811\n",
    "nombre_sain          2293\n",
    "nombre_exposed        585\n",
    "nombre_recovered    16311\n",
    "Name: 606, dtype: int64"
   ]
  },
  {
   "cell_type": "markdown",
   "id": "fb6f9dd9",
   "metadata": {},
   "source": [
    "nombre_infected       839\n",
    "nombre_sain          2310\n",
    "nombre_exposed        555\n",
    "nombre_recovered    16296\n",
    "Name: 607, dtype: int64"
   ]
  },
  {
   "cell_type": "markdown",
   "id": "41a5c141",
   "metadata": {},
   "source": [
    "nombre_infected       851\n",
    "nombre_sain          2286\n",
    "nombre_exposed        552\n",
    "nombre_recovered    16311\n",
    "Name: 608, dtype: int64"
   ]
  },
  {
   "cell_type": "markdown",
   "id": "11a05e00",
   "metadata": {},
   "source": [
    "nombre_infected       838\n",
    "nombre_sain          2279\n",
    "nombre_exposed        547\n",
    "nombre_recovered    16336\n",
    "Name: 609, dtype: int64"
   ]
  },
  {
   "cell_type": "markdown",
   "id": "1f27bcb9",
   "metadata": {},
   "source": [
    "nombre_infected       819\n",
    "nombre_sain          2264\n",
    "nombre_exposed        560\n",
    "nombre_recovered    16357\n",
    "Name: 610, dtype: int64"
   ]
  },
  {
   "cell_type": "markdown",
   "id": "a33adbd0",
   "metadata": {},
   "source": [
    "nombre_infected       811\n",
    "nombre_sain          2254\n",
    "nombre_exposed        569\n",
    "nombre_recovered    16366\n",
    "Name: 611, dtype: int64"
   ]
  },
  {
   "cell_type": "markdown",
   "id": "abc02217",
   "metadata": {},
   "source": [
    "nombre_infected       823\n",
    "nombre_sain          2241\n",
    "nombre_exposed        563\n",
    "nombre_recovered    16373\n",
    "Name: 612, dtype: int64"
   ]
  },
  {
   "cell_type": "markdown",
   "id": "f34d4f72",
   "metadata": {},
   "source": [
    "nombre_infected       832\n",
    "nombre_sain          2236\n",
    "nombre_exposed        566\n",
    "nombre_recovered    16366\n",
    "Name: 613, dtype: int64"
   ]
  },
  {
   "cell_type": "markdown",
   "id": "d6de1dfa",
   "metadata": {},
   "source": [
    "nombre_infected       825\n",
    "nombre_sain          2202\n",
    "nombre_exposed        582\n",
    "nombre_recovered    16391\n",
    "Name: 614, dtype: int64"
   ]
  },
  {
   "cell_type": "markdown",
   "id": "083b8d50",
   "metadata": {},
   "source": [
    "nombre_infected       833\n",
    "nombre_sain          2194\n",
    "nombre_exposed        555\n",
    "nombre_recovered    16418\n",
    "Name: 615, dtype: int64"
   ]
  },
  {
   "cell_type": "markdown",
   "id": "1cba3947",
   "metadata": {},
   "source": [
    "nombre_infected       859\n",
    "nombre_sain          2208\n",
    "nombre_exposed        533\n",
    "nombre_recovered    16400\n",
    "Name: 616, dtype: int64"
   ]
  },
  {
   "cell_type": "markdown",
   "id": "da298126",
   "metadata": {},
   "source": [
    "nombre_infected       860\n",
    "nombre_sain          2180\n",
    "nombre_exposed        556\n",
    "nombre_recovered    16404\n",
    "Name: 617, dtype: int64"
   ]
  },
  {
   "cell_type": "markdown",
   "id": "78e1021f",
   "metadata": {},
   "source": [
    "nombre_infected       866\n",
    "nombre_sain          2178\n",
    "nombre_exposed        551\n",
    "nombre_recovered    16405\n",
    "Name: 618, dtype: int64"
   ]
  },
  {
   "cell_type": "markdown",
   "id": "287fd185",
   "metadata": {},
   "source": [
    "nombre_infected       866\n",
    "nombre_sain          2183\n",
    "nombre_exposed        533\n",
    "nombre_recovered    16418\n",
    "Name: 619, dtype: int64"
   ]
  },
  {
   "cell_type": "markdown",
   "id": "bc8902d1",
   "metadata": {},
   "source": [
    "nombre_infected       895\n",
    "nombre_sain          2159\n",
    "nombre_exposed        525\n",
    "nombre_recovered    16421\n",
    "Name: 620, dtype: int64"
   ]
  },
  {
   "cell_type": "markdown",
   "id": "fd748327",
   "metadata": {},
   "source": [
    "nombre_infected       912\n",
    "nombre_sain          2121\n",
    "nombre_exposed        543\n",
    "nombre_recovered    16424\n",
    "Name: 621, dtype: int64"
   ]
  },
  {
   "cell_type": "markdown",
   "id": "1108ab13",
   "metadata": {},
   "source": [
    "nombre_infected       905\n",
    "nombre_sain          2111\n",
    "nombre_exposed        554\n",
    "nombre_recovered    16430\n",
    "Name: 622, dtype: int64"
   ]
  },
  {
   "cell_type": "markdown",
   "id": "35cda711",
   "metadata": {},
   "source": [
    "nombre_infected       922\n",
    "nombre_sain          2103\n",
    "nombre_exposed        555\n",
    "nombre_recovered    16420\n",
    "Name: 623, dtype: int64"
   ]
  },
  {
   "cell_type": "markdown",
   "id": "b8f82362",
   "metadata": {},
   "source": [
    "nombre_infected       929\n",
    "nombre_sain          2107\n",
    "nombre_exposed        547\n",
    "nombre_recovered    16417\n",
    "Name: 624, dtype: int64"
   ]
  },
  {
   "cell_type": "markdown",
   "id": "62a2df78",
   "metadata": {},
   "source": [
    "nombre_infected       931\n",
    "nombre_sain          2076\n",
    "nombre_exposed        548\n",
    "nombre_recovered    16445\n",
    "Name: 625, dtype: int64"
   ]
  },
  {
   "cell_type": "markdown",
   "id": "5ac7d0b1",
   "metadata": {},
   "source": [
    "nombre_infected       938\n",
    "nombre_sain          2071\n",
    "nombre_exposed        564\n",
    "nombre_recovered    16427\n",
    "Name: 626, dtype: int64"
   ]
  },
  {
   "cell_type": "markdown",
   "id": "6ebffe6f",
   "metadata": {},
   "source": [
    "nombre_infected       961\n",
    "nombre_sain          2058\n",
    "nombre_exposed        555\n",
    "nombre_recovered    16426\n",
    "Name: 627, dtype: int64"
   ]
  },
  {
   "cell_type": "markdown",
   "id": "26d0b712",
   "metadata": {},
   "source": [
    "nombre_infected       953\n",
    "nombre_sain          2052\n",
    "nombre_exposed        581\n",
    "nombre_recovered    16414\n",
    "Name: 628, dtype: int64"
   ]
  },
  {
   "cell_type": "markdown",
   "id": "dbe83620",
   "metadata": {},
   "source": [
    "nombre_infected       959\n",
    "nombre_sain          2029\n",
    "nombre_exposed        585\n",
    "nombre_recovered    16427\n",
    "Name: 629, dtype: int64"
   ]
  },
  {
   "cell_type": "markdown",
   "id": "c6d2c3cb",
   "metadata": {},
   "source": [
    "nombre_infected       991\n",
    "nombre_sain          2001\n",
    "nombre_exposed        576\n",
    "nombre_recovered    16432\n",
    "Name: 630, dtype: int64"
   ]
  },
  {
   "cell_type": "markdown",
   "id": "b7437671",
   "metadata": {},
   "source": [
    "nombre_infected       998\n",
    "nombre_sain          1996\n",
    "nombre_exposed        579\n",
    "nombre_recovered    16427\n",
    "Name: 631, dtype: int64"
   ]
  },
  {
   "cell_type": "markdown",
   "id": "612ef191",
   "metadata": {},
   "source": [
    "nombre_infected      1015\n",
    "nombre_sain          1984\n",
    "nombre_exposed        579\n",
    "nombre_recovered    16422\n",
    "Name: 632, dtype: int64"
   ]
  },
  {
   "cell_type": "markdown",
   "id": "04bc28ae",
   "metadata": {},
   "source": [
    "nombre_infected      1011\n",
    "nombre_sain          2008\n",
    "nombre_exposed        573\n",
    "nombre_recovered    16408\n",
    "Name: 633, dtype: int64"
   ]
  },
  {
   "cell_type": "markdown",
   "id": "596eb5f6",
   "metadata": {},
   "source": [
    "nombre_infected      1024\n",
    "nombre_sain          2024\n",
    "nombre_exposed        580\n",
    "nombre_recovered    16372\n",
    "Name: 634, dtype: int64"
   ]
  },
  {
   "cell_type": "markdown",
   "id": "fa342821",
   "metadata": {},
   "source": [
    "nombre_infected      1012\n",
    "nombre_sain          2018\n",
    "nombre_exposed        596\n",
    "nombre_recovered    16374\n",
    "Name: 635, dtype: int64"
   ]
  },
  {
   "cell_type": "markdown",
   "id": "d6a24dbd",
   "metadata": {},
   "source": [
    "nombre_infected      1000\n",
    "nombre_sain          2040\n",
    "nombre_exposed        578\n",
    "nombre_recovered    16382\n",
    "Name: 636, dtype: int64"
   ]
  },
  {
   "cell_type": "markdown",
   "id": "21bad593",
   "metadata": {},
   "source": [
    "nombre_infected       997\n",
    "nombre_sain          2028\n",
    "nombre_exposed        594\n",
    "nombre_recovered    16381\n",
    "Name: 637, dtype: int64"
   ]
  },
  {
   "cell_type": "markdown",
   "id": "6c3912cb",
   "metadata": {},
   "source": [
    "nombre_infected       984\n",
    "nombre_sain          2027\n",
    "nombre_exposed        587\n",
    "nombre_recovered    16402\n",
    "Name: 638, dtype: int64"
   ]
  },
  {
   "cell_type": "markdown",
   "id": "528e0d98",
   "metadata": {},
   "source": [
    "nombre_infected      1025\n",
    "nombre_sain          2034\n",
    "nombre_exposed        550\n",
    "nombre_recovered    16391\n",
    "Name: 639, dtype: int64"
   ]
  },
  {
   "cell_type": "markdown",
   "id": "76419724",
   "metadata": {},
   "source": [
    "nombre_infected      1009\n",
    "nombre_sain          2027\n",
    "nombre_exposed        559\n",
    "nombre_recovered    16405\n",
    "Name: 640, dtype: int64"
   ]
  },
  {
   "cell_type": "markdown",
   "id": "42fe72e7",
   "metadata": {},
   "source": [
    "nombre_infected       998\n",
    "nombre_sain          2036\n",
    "nombre_exposed        562\n",
    "nombre_recovered    16404\n",
    "Name: 641, dtype: int64"
   ]
  },
  {
   "cell_type": "markdown",
   "id": "1006eff8",
   "metadata": {},
   "source": [
    "nombre_infected      1031\n",
    "nombre_sain          2030\n",
    "nombre_exposed        541\n",
    "nombre_recovered    16398\n",
    "Name: 642, dtype: int64"
   ]
  },
  {
   "cell_type": "markdown",
   "id": "9630dfc1",
   "metadata": {},
   "source": [
    "nombre_infected      1012\n",
    "nombre_sain          2048\n",
    "nombre_exposed        547\n",
    "nombre_recovered    16393\n",
    "Name: 643, dtype: int64"
   ]
  },
  {
   "cell_type": "markdown",
   "id": "824558a0",
   "metadata": {},
   "source": [
    "nombre_infected       989\n",
    "nombre_sain          2034\n",
    "nombre_exposed        562\n",
    "nombre_recovered    16415\n",
    "Name: 644, dtype: int64"
   ]
  },
  {
   "cell_type": "markdown",
   "id": "44df7f8c",
   "metadata": {},
   "source": [
    "nombre_infected       992\n",
    "nombre_sain          2024\n",
    "nombre_exposed        555\n",
    "nombre_recovered    16429\n",
    "Name: 645, dtype: int64"
   ]
  },
  {
   "cell_type": "markdown",
   "id": "a9c00861",
   "metadata": {},
   "source": [
    "nombre_infected       971\n",
    "nombre_sain          2030\n",
    "nombre_exposed        569\n",
    "nombre_recovered    16430\n",
    "Name: 646, dtype: int64"
   ]
  },
  {
   "cell_type": "markdown",
   "id": "60062eed",
   "metadata": {},
   "source": [
    "nombre_infected       954\n",
    "nombre_sain          2046\n",
    "nombre_exposed        578\n",
    "nombre_recovered    16422\n",
    "Name: 647, dtype: int64"
   ]
  },
  {
   "cell_type": "markdown",
   "id": "3dc7e359",
   "metadata": {},
   "source": [
    "nombre_infected       958\n",
    "nombre_sain          2051\n",
    "nombre_exposed        574\n",
    "nombre_recovered    16417\n",
    "Name: 648, dtype: int64"
   ]
  },
  {
   "cell_type": "markdown",
   "id": "9d3b2551",
   "metadata": {},
   "source": [
    "nombre_infected       991\n",
    "nombre_sain          2036\n",
    "nombre_exposed        565\n",
    "nombre_recovered    16408\n",
    "Name: 649, dtype: int64"
   ]
  },
  {
   "cell_type": "markdown",
   "id": "f004f72a",
   "metadata": {},
   "source": [
    "nombre_infected       982\n",
    "nombre_sain          2035\n",
    "nombre_exposed        570\n",
    "nombre_recovered    16413\n",
    "Name: 650, dtype: int64"
   ]
  },
  {
   "cell_type": "markdown",
   "id": "37f6c8ea",
   "metadata": {},
   "source": [
    "nombre_infected      1001\n",
    "nombre_sain          2063\n",
    "nombre_exposed        555\n",
    "nombre_recovered    16381\n",
    "Name: 651, dtype: int64"
   ]
  },
  {
   "cell_type": "markdown",
   "id": "a2841224",
   "metadata": {},
   "source": [
    "nombre_infected       999\n",
    "nombre_sain          2061\n",
    "nombre_exposed        549\n",
    "nombre_recovered    16391\n",
    "Name: 652, dtype: int64"
   ]
  },
  {
   "cell_type": "markdown",
   "id": "d75ee65b",
   "metadata": {},
   "source": [
    "nombre_infected      1028\n",
    "nombre_sain          2062\n",
    "nombre_exposed        549\n",
    "nombre_recovered    16361\n",
    "Name: 653, dtype: int64"
   ]
  },
  {
   "cell_type": "markdown",
   "id": "ed7424d8",
   "metadata": {},
   "source": [
    "nombre_infected      1028\n",
    "nombre_sain          2095\n",
    "nombre_exposed        528\n",
    "nombre_recovered    16349\n",
    "Name: 654, dtype: int64"
   ]
  },
  {
   "cell_type": "markdown",
   "id": "eae64e9e",
   "metadata": {},
   "source": [
    "nombre_infected      1007\n",
    "nombre_sain          2098\n",
    "nombre_exposed        549\n",
    "nombre_recovered    16346\n",
    "Name: 655, dtype: int64"
   ]
  },
  {
   "cell_type": "markdown",
   "id": "25f49a8d",
   "metadata": {},
   "source": [
    "nombre_infected      1014\n",
    "nombre_sain          2104\n",
    "nombre_exposed        549\n",
    "nombre_recovered    16333\n",
    "Name: 656, dtype: int64"
   ]
  },
  {
   "cell_type": "markdown",
   "id": "35eca80a",
   "metadata": {},
   "source": [
    "nombre_infected      1018\n",
    "nombre_sain          2118\n",
    "nombre_exposed        580\n",
    "nombre_recovered    16284\n",
    "Name: 657, dtype: int64"
   ]
  },
  {
   "cell_type": "markdown",
   "id": "e7da47b7",
   "metadata": {},
   "source": [
    "nombre_infected      1008\n",
    "nombre_sain          2137\n",
    "nombre_exposed        583\n",
    "nombre_recovered    16272\n",
    "Name: 658, dtype: int64"
   ]
  },
  {
   "cell_type": "markdown",
   "id": "d461efac",
   "metadata": {},
   "source": [
    "nombre_infected      1003\n",
    "nombre_sain          2146\n",
    "nombre_exposed        586\n",
    "nombre_recovered    16265\n",
    "Name: 659, dtype: int64"
   ]
  },
  {
   "cell_type": "markdown",
   "id": "d068c890",
   "metadata": {},
   "source": [
    "nombre_infected      1013\n",
    "nombre_sain          2146\n",
    "nombre_exposed        585\n",
    "nombre_recovered    16256\n",
    "Name: 660, dtype: int64"
   ]
  },
  {
   "cell_type": "markdown",
   "id": "d2cc9a08",
   "metadata": {},
   "source": [
    "nombre_infected      1016\n",
    "nombre_sain          2145\n",
    "nombre_exposed        590\n",
    "nombre_recovered    16249\n",
    "Name: 661, dtype: int64"
   ]
  },
  {
   "cell_type": "markdown",
   "id": "a117c4ba",
   "metadata": {},
   "source": [
    "nombre_infected      1036\n",
    "nombre_sain          2150\n",
    "nombre_exposed        593\n",
    "nombre_recovered    16221\n",
    "Name: 662, dtype: int64"
   ]
  },
  {
   "cell_type": "markdown",
   "id": "5164d27b",
   "metadata": {},
   "source": [
    "nombre_infected      1025\n",
    "nombre_sain          2142\n",
    "nombre_exposed        606\n",
    "nombre_recovered    16227\n",
    "Name: 663, dtype: int64"
   ]
  },
  {
   "cell_type": "markdown",
   "id": "c106dd63",
   "metadata": {},
   "source": [
    "nombre_infected      1038\n",
    "nombre_sain          2114\n",
    "nombre_exposed        629\n",
    "nombre_recovered    16219\n",
    "Name: 664, dtype: int64"
   ]
  },
  {
   "cell_type": "markdown",
   "id": "89c33fba",
   "metadata": {},
   "source": [
    "nombre_infected      1048\n",
    "nombre_sain          2065\n",
    "nombre_exposed        647\n",
    "nombre_recovered    16240\n",
    "Name: 665, dtype: int64"
   ]
  },
  {
   "cell_type": "markdown",
   "id": "dcf8ff92",
   "metadata": {},
   "source": [
    "nombre_infected      1043\n",
    "nombre_sain          2053\n",
    "nombre_exposed        646\n",
    "nombre_recovered    16258\n",
    "Name: 666, dtype: int64"
   ]
  },
  {
   "cell_type": "markdown",
   "id": "6e2e0569",
   "metadata": {},
   "source": [
    "nombre_infected      1036\n",
    "nombre_sain          2082\n",
    "nombre_exposed        627\n",
    "nombre_recovered    16255\n",
    "Name: 667, dtype: int64"
   ]
  },
  {
   "cell_type": "markdown",
   "id": "ea774668",
   "metadata": {},
   "source": [
    "nombre_infected      1055\n",
    "nombre_sain          2081\n",
    "nombre_exposed        604\n",
    "nombre_recovered    16260\n",
    "Name: 668, dtype: int64"
   ]
  },
  {
   "cell_type": "markdown",
   "id": "bb14714b",
   "metadata": {},
   "source": [
    "nombre_infected      1074\n",
    "nombre_sain          2068\n",
    "nombre_exposed        607\n",
    "nombre_recovered    16251\n",
    "Name: 669, dtype: int64"
   ]
  },
  {
   "cell_type": "markdown",
   "id": "b737797b",
   "metadata": {},
   "source": [
    "nombre_infected      1092\n",
    "nombre_sain          2050\n",
    "nombre_exposed        613\n",
    "nombre_recovered    16245\n",
    "Name: 670, dtype: int64"
   ]
  },
  {
   "cell_type": "markdown",
   "id": "0c1ef635",
   "metadata": {},
   "source": [
    "nombre_infected      1092\n",
    "nombre_sain          2027\n",
    "nombre_exposed        633\n",
    "nombre_recovered    16248\n",
    "Name: 671, dtype: int64"
   ]
  },
  {
   "cell_type": "markdown",
   "id": "6d3137bd",
   "metadata": {},
   "source": [
    "nombre_infected      1101\n",
    "nombre_sain          2023\n",
    "nombre_exposed        628\n",
    "nombre_recovered    16248\n",
    "Name: 672, dtype: int64"
   ]
  },
  {
   "cell_type": "markdown",
   "id": "9ee30119",
   "metadata": {},
   "source": [
    "nombre_infected      1115\n",
    "nombre_sain          1993\n",
    "nombre_exposed        621\n",
    "nombre_recovered    16271\n",
    "Name: 673, dtype: int64"
   ]
  },
  {
   "cell_type": "markdown",
   "id": "5acb89bc",
   "metadata": {},
   "source": [
    "nombre_infected      1125\n",
    "nombre_sain          2001\n",
    "nombre_exposed        592\n",
    "nombre_recovered    16282\n",
    "Name: 674, dtype: int64"
   ]
  },
  {
   "cell_type": "markdown",
   "id": "91c55a58",
   "metadata": {},
   "source": [
    "nombre_infected      1105\n",
    "nombre_sain          1992\n",
    "nombre_exposed        597\n",
    "nombre_recovered    16306\n",
    "Name: 675, dtype: int64"
   ]
  },
  {
   "cell_type": "markdown",
   "id": "f5c6a0dc",
   "metadata": {},
   "source": [
    "nombre_infected      1113\n",
    "nombre_sain          1996\n",
    "nombre_exposed        590\n",
    "nombre_recovered    16301\n",
    "Name: 676, dtype: int64"
   ]
  },
  {
   "cell_type": "markdown",
   "id": "4c54b088",
   "metadata": {},
   "source": [
    "nombre_infected      1115\n",
    "nombre_sain          1993\n",
    "nombre_exposed        607\n",
    "nombre_recovered    16285\n",
    "Name: 677, dtype: int64"
   ]
  },
  {
   "cell_type": "markdown",
   "id": "e77a2a60",
   "metadata": {},
   "source": [
    "nombre_infected      1102\n",
    "nombre_sain          1974\n",
    "nombre_exposed        631\n",
    "nombre_recovered    16293\n",
    "Name: 678, dtype: int64"
   ]
  },
  {
   "cell_type": "markdown",
   "id": "9c00ceec",
   "metadata": {},
   "source": [
    "nombre_infected      1084\n",
    "nombre_sain          1946\n",
    "nombre_exposed        648\n",
    "nombre_recovered    16322\n",
    "Name: 679, dtype: int64"
   ]
  },
  {
   "cell_type": "markdown",
   "id": "99efefb5",
   "metadata": {},
   "source": [
    "nombre_infected      1090\n",
    "nombre_sain          1920\n",
    "nombre_exposed        660\n",
    "nombre_recovered    16330\n",
    "Name: 680, dtype: int64"
   ]
  },
  {
   "cell_type": "markdown",
   "id": "4780f8d9",
   "metadata": {},
   "source": [
    "nombre_infected      1106\n",
    "nombre_sain          1900\n",
    "nombre_exposed        639\n",
    "nombre_recovered    16355\n",
    "Name: 681, dtype: int64"
   ]
  },
  {
   "cell_type": "markdown",
   "id": "2395d547",
   "metadata": {},
   "source": [
    "nombre_infected      1139\n",
    "nombre_sain          1902\n",
    "nombre_exposed        625\n",
    "nombre_recovered    16334\n",
    "Name: 682, dtype: int64"
   ]
  },
  {
   "cell_type": "markdown",
   "id": "04a79eb6",
   "metadata": {},
   "source": [
    "nombre_infected      1128\n",
    "nombre_sain          1880\n",
    "nombre_exposed        634\n",
    "nombre_recovered    16358\n",
    "Name: 683, dtype: int64"
   ]
  },
  {
   "cell_type": "markdown",
   "id": "c4bcb395",
   "metadata": {},
   "source": [
    "nombre_infected      1106\n",
    "nombre_sain          1883\n",
    "nombre_exposed        610\n",
    "nombre_recovered    16401\n",
    "Name: 684, dtype: int64"
   ]
  },
  {
   "cell_type": "markdown",
   "id": "e1d5b8c5",
   "metadata": {},
   "source": [
    "nombre_infected      1103\n",
    "nombre_sain          1871\n",
    "nombre_exposed        620\n",
    "nombre_recovered    16406\n",
    "Name: 685, dtype: int64"
   ]
  },
  {
   "cell_type": "markdown",
   "id": "93aed153",
   "metadata": {},
   "source": [
    "nombre_infected      1087\n",
    "nombre_sain          1872\n",
    "nombre_exposed        634\n",
    "nombre_recovered    16407\n",
    "Name: 686, dtype: int64"
   ]
  },
  {
   "cell_type": "markdown",
   "id": "2b7fa7a9",
   "metadata": {},
   "source": [
    "nombre_infected      1083\n",
    "nombre_sain          1874\n",
    "nombre_exposed        622\n",
    "nombre_recovered    16421\n",
    "Name: 687, dtype: int64"
   ]
  },
  {
   "cell_type": "markdown",
   "id": "17df809c",
   "metadata": {},
   "source": [
    "nombre_infected      1083\n",
    "nombre_sain          1873\n",
    "nombre_exposed        609\n",
    "nombre_recovered    16435\n",
    "Name: 688, dtype: int64"
   ]
  },
  {
   "cell_type": "markdown",
   "id": "9ad41c98",
   "metadata": {},
   "source": [
    "nombre_infected      1058\n",
    "nombre_sain          1896\n",
    "nombre_exposed        608\n",
    "nombre_recovered    16438\n",
    "Name: 689, dtype: int64"
   ]
  },
  {
   "cell_type": "markdown",
   "id": "51af512a",
   "metadata": {},
   "source": [
    "nombre_infected      1064\n",
    "nombre_sain          1888\n",
    "nombre_exposed        604\n",
    "nombre_recovered    16444\n",
    "Name: 690, dtype: int64"
   ]
  },
  {
   "cell_type": "markdown",
   "id": "76a7cbbc",
   "metadata": {},
   "source": [
    "nombre_infected      1074\n",
    "nombre_sain          1881\n",
    "nombre_exposed        594\n",
    "nombre_recovered    16451\n",
    "Name: 691, dtype: int64"
   ]
  },
  {
   "cell_type": "markdown",
   "id": "8811a514",
   "metadata": {},
   "source": [
    "nombre_infected      1073\n",
    "nombre_sain          1844\n",
    "nombre_exposed        607\n",
    "nombre_recovered    16476\n",
    "Name: 692, dtype: int64"
   ]
  },
  {
   "cell_type": "markdown",
   "id": "45f53810",
   "metadata": {},
   "source": [
    "nombre_infected      1060\n",
    "nombre_sain          1848\n",
    "nombre_exposed        616\n",
    "nombre_recovered    16476\n",
    "Name: 693, dtype: int64"
   ]
  },
  {
   "cell_type": "markdown",
   "id": "b1f2a850",
   "metadata": {},
   "source": [
    "nombre_infected      1054\n",
    "nombre_sain          1843\n",
    "nombre_exposed        592\n",
    "nombre_recovered    16511\n",
    "Name: 694, dtype: int64"
   ]
  },
  {
   "cell_type": "markdown",
   "id": "0bb4ebd2",
   "metadata": {},
   "source": [
    "nombre_infected      1034\n",
    "nombre_sain          1832\n",
    "nombre_exposed        597\n",
    "nombre_recovered    16537\n",
    "Name: 695, dtype: int64"
   ]
  },
  {
   "cell_type": "markdown",
   "id": "4cbdc571",
   "metadata": {},
   "source": [
    "nombre_infected      1048\n",
    "nombre_sain          1865\n",
    "nombre_exposed        576\n",
    "nombre_recovered    16511\n",
    "Name: 696, dtype: int64"
   ]
  },
  {
   "cell_type": "markdown",
   "id": "467daef1",
   "metadata": {},
   "source": [
    "nombre_infected      1022\n",
    "nombre_sain          1883\n",
    "nombre_exposed        571\n",
    "nombre_recovered    16524\n",
    "Name: 697, dtype: int64"
   ]
  },
  {
   "cell_type": "markdown",
   "id": "3127a3f4",
   "metadata": {},
   "source": [
    "nombre_infected      1022\n",
    "nombre_sain          1878\n",
    "nombre_exposed        545\n",
    "nombre_recovered    16555\n",
    "Name: 698, dtype: int64"
   ]
  },
  {
   "cell_type": "markdown",
   "id": "6c85e875",
   "metadata": {},
   "source": [
    "nombre_infected       996\n",
    "nombre_sain          1854\n",
    "nombre_exposed        559\n",
    "nombre_recovered    16591\n",
    "Name: 699, dtype: int64"
   ]
  },
  {
   "cell_type": "markdown",
   "id": "d93e7a49",
   "metadata": {},
   "source": [
    "nombre_infected       969\n",
    "nombre_sain          1874\n",
    "nombre_exposed        557\n",
    "nombre_recovered    16600\n",
    "Name: 700, dtype: int64"
   ]
  },
  {
   "cell_type": "markdown",
   "id": "7c7676a2",
   "metadata": {},
   "source": [
    "nombre_infected       982\n",
    "nombre_sain          1902\n",
    "nombre_exposed        553\n",
    "nombre_recovered    16563\n",
    "Name: 701, dtype: int64"
   ]
  },
  {
   "cell_type": "markdown",
   "id": "bf6737c9",
   "metadata": {},
   "source": [
    "nombre_infected       965\n",
    "nombre_sain          1922\n",
    "nombre_exposed        562\n",
    "nombre_recovered    16551\n",
    "Name: 702, dtype: int64"
   ]
  },
  {
   "cell_type": "markdown",
   "id": "5f364522",
   "metadata": {},
   "source": [
    "nombre_infected       963\n",
    "nombre_sain          1941\n",
    "nombre_exposed        552\n",
    "nombre_recovered    16544\n",
    "Name: 703, dtype: int64"
   ]
  },
  {
   "cell_type": "markdown",
   "id": "1d9efe4f",
   "metadata": {},
   "source": [
    "nombre_infected       952\n",
    "nombre_sain          1962\n",
    "nombre_exposed        545\n",
    "nombre_recovered    16541\n",
    "Name: 704, dtype: int64"
   ]
  },
  {
   "cell_type": "markdown",
   "id": "a951942b",
   "metadata": {},
   "source": [
    "nombre_infected       894\n",
    "nombre_sain          1968\n",
    "nombre_exposed        578\n",
    "nombre_recovered    16560\n",
    "Name: 705, dtype: int64"
   ]
  },
  {
   "cell_type": "markdown",
   "id": "61e04f2c",
   "metadata": {},
   "source": [
    "nombre_infected       890\n",
    "nombre_sain          1999\n",
    "nombre_exposed        555\n",
    "nombre_recovered    16556\n",
    "Name: 706, dtype: int64"
   ]
  },
  {
   "cell_type": "markdown",
   "id": "56dd5b9b",
   "metadata": {},
   "source": [
    "nombre_infected       875\n",
    "nombre_sain          1994\n",
    "nombre_exposed        563\n",
    "nombre_recovered    16568\n",
    "Name: 707, dtype: int64"
   ]
  },
  {
   "cell_type": "markdown",
   "id": "e85d0623",
   "metadata": {},
   "source": [
    "nombre_infected       867\n",
    "nombre_sain          2008\n",
    "nombre_exposed        542\n",
    "nombre_recovered    16583\n",
    "Name: 708, dtype: int64"
   ]
  },
  {
   "cell_type": "markdown",
   "id": "ca51681a",
   "metadata": {},
   "source": [
    "nombre_infected       873\n",
    "nombre_sain          2065\n",
    "nombre_exposed        521\n",
    "nombre_recovered    16541\n",
    "Name: 709, dtype: int64"
   ]
  },
  {
   "cell_type": "markdown",
   "id": "372dfab1",
   "metadata": {},
   "source": [
    "nombre_infected       894\n",
    "nombre_sain          2078\n",
    "nombre_exposed        498\n",
    "nombre_recovered    16530\n",
    "Name: 710, dtype: int64"
   ]
  },
  {
   "cell_type": "markdown",
   "id": "00b7e807",
   "metadata": {},
   "source": [
    "nombre_infected       879\n",
    "nombre_sain          2083\n",
    "nombre_exposed        497\n",
    "nombre_recovered    16541\n",
    "Name: 711, dtype: int64"
   ]
  },
  {
   "cell_type": "markdown",
   "id": "1d8bf104",
   "metadata": {},
   "source": [
    "nombre_infected       862\n",
    "nombre_sain          2104\n",
    "nombre_exposed        496\n",
    "nombre_recovered    16538\n",
    "Name: 712, dtype: int64"
   ]
  },
  {
   "cell_type": "markdown",
   "id": "85c2b89c",
   "metadata": {},
   "source": [
    "nombre_infected       836\n",
    "nombre_sain          2103\n",
    "nombre_exposed        514\n",
    "nombre_recovered    16547\n",
    "Name: 713, dtype: int64"
   ]
  },
  {
   "cell_type": "markdown",
   "id": "67b0d41c",
   "metadata": {},
   "source": [
    "nombre_infected       811\n",
    "nombre_sain          2108\n",
    "nombre_exposed        539\n",
    "nombre_recovered    16542\n",
    "Name: 714, dtype: int64"
   ]
  },
  {
   "cell_type": "markdown",
   "id": "a525bfd7",
   "metadata": {},
   "source": [
    "nombre_infected       811\n",
    "nombre_sain          2124\n",
    "nombre_exposed        543\n",
    "nombre_recovered    16522\n",
    "Name: 715, dtype: int64"
   ]
  },
  {
   "cell_type": "markdown",
   "id": "159858f8",
   "metadata": {},
   "source": [
    "nombre_infected       803\n",
    "nombre_sain          2161\n",
    "nombre_exposed        527\n",
    "nombre_recovered    16509\n",
    "Name: 716, dtype: int64"
   ]
  },
  {
   "cell_type": "markdown",
   "id": "602f3c83",
   "metadata": {},
   "source": [
    "nombre_infected       799\n",
    "nombre_sain          2183\n",
    "nombre_exposed        529\n",
    "nombre_recovered    16489\n",
    "Name: 717, dtype: int64"
   ]
  },
  {
   "cell_type": "markdown",
   "id": "8111ae0c",
   "metadata": {},
   "source": [
    "nombre_infected       793\n",
    "nombre_sain          2195\n",
    "nombre_exposed        528\n",
    "nombre_recovered    16484\n",
    "Name: 718, dtype: int64"
   ]
  },
  {
   "cell_type": "markdown",
   "id": "a6a62bc5",
   "metadata": {},
   "source": [
    "nombre_infected       800\n",
    "nombre_sain          2230\n",
    "nombre_exposed        518\n",
    "nombre_recovered    16452\n",
    "Name: 719, dtype: int64"
   ]
  },
  {
   "cell_type": "markdown",
   "id": "ee8afd1b",
   "metadata": {},
   "source": [
    "nombre_infected       787\n",
    "nombre_sain          2259\n",
    "nombre_exposed        540\n",
    "nombre_recovered    16414\n",
    "Name: 720, dtype: int64"
   ]
  },
  {
   "cell_type": "markdown",
   "id": "fcbb322c",
   "metadata": {},
   "source": [
    "nombre_infected       798\n",
    "nombre_sain          2280\n",
    "nombre_exposed        533\n",
    "nombre_recovered    16389\n",
    "Name: 721, dtype: int64"
   ]
  },
  {
   "cell_type": "markdown",
   "id": "7b34d905",
   "metadata": {},
   "source": [
    "nombre_infected       792\n",
    "nombre_sain          2295\n",
    "nombre_exposed        529\n",
    "nombre_recovered    16384\n",
    "Name: 722, dtype: int64"
   ]
  },
  {
   "cell_type": "markdown",
   "id": "a6a7d693",
   "metadata": {},
   "source": [
    "nombre_infected       782\n",
    "nombre_sain          2340\n",
    "nombre_exposed        528\n",
    "nombre_recovered    16350\n",
    "Name: 723, dtype: int64"
   ]
  },
  {
   "cell_type": "markdown",
   "id": "188fc4d9",
   "metadata": {},
   "source": [
    "nombre_infected       787\n",
    "nombre_sain          2367\n",
    "nombre_exposed        512\n",
    "nombre_recovered    16334\n",
    "Name: 724, dtype: int64"
   ]
  },
  {
   "cell_type": "markdown",
   "id": "a4b890e1",
   "metadata": {},
   "source": [
    "nombre_infected       786\n",
    "nombre_sain          2378\n",
    "nombre_exposed        507\n",
    "nombre_recovered    16329\n",
    "Name: 725, dtype: int64"
   ]
  },
  {
   "cell_type": "markdown",
   "id": "2fdffedc",
   "metadata": {},
   "source": [
    "nombre_infected       778\n",
    "nombre_sain          2415\n",
    "nombre_exposed        503\n",
    "nombre_recovered    16304\n",
    "Name: 726, dtype: int64"
   ]
  },
  {
   "cell_type": "markdown",
   "id": "3651245d",
   "metadata": {},
   "source": [
    "nombre_infected       768\n",
    "nombre_sain          2424\n",
    "nombre_exposed        514\n",
    "nombre_recovered    16294\n",
    "Name: 727, dtype: int64"
   ]
  },
  {
   "cell_type": "markdown",
   "id": "f5de9307",
   "metadata": {},
   "source": [
    "nombre_infected       770\n",
    "nombre_sain          2438\n",
    "nombre_exposed        525\n",
    "nombre_recovered    16267\n",
    "Name: 728, dtype: int64"
   ]
  },
  {
   "cell_type": "markdown",
   "id": "9a5532d2",
   "metadata": {},
   "source": [
    "nombre_infected       756\n",
    "nombre_sain          2418\n",
    "nombre_exposed        553\n",
    "nombre_recovered    16273\n",
    "Name: 729, dtype: int64"
   ]
  },
  {
   "cell_type": "markdown",
   "id": "794d2bd2",
   "metadata": {},
   "source": [
    "nombre_infected       750\n",
    "nombre_sain          2441\n",
    "nombre_exposed        535\n",
    "nombre_recovered    16274\n",
    "Name: 730, dtype: int64"
   ]
  }
 ],
 "metadata": {},
 "nbformat": 4,
 "nbformat_minor": 5
}
