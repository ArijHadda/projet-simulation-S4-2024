{
 "cells": [
  {
   "cell_type": "markdown",
   "id": "b99fc72a",
   "metadata": {},
   "source": [
    "nombre_infected        20\n",
    "nombre_sain         19980\n",
    "nombre_exposed          0\n",
    "nombre_recovered        0\n",
    "Name: 0, dtype: int64"
   ]
  },
  {
   "cell_type": "markdown",
   "id": "b825e29b",
   "metadata": {},
   "source": [
    "nombre_infected        20\n",
    "nombre_sain         19969\n",
    "nombre_exposed         11\n",
    "nombre_recovered        0\n",
    "Name: 1, dtype: int64"
   ]
  },
  {
   "cell_type": "markdown",
   "id": "37263726",
   "metadata": {},
   "source": [
    "nombre_infected        20\n",
    "nombre_sain         19946\n",
    "nombre_exposed         34\n",
    "nombre_recovered        0\n",
    "Name: 2, dtype: int64"
   ]
  },
  {
   "cell_type": "markdown",
   "id": "bfd616fd",
   "metadata": {},
   "source": [
    "nombre_infected        11\n",
    "nombre_sain         19927\n",
    "nombre_exposed         48\n",
    "nombre_recovered       14\n",
    "Name: 3, dtype: int64"
   ]
  },
  {
   "cell_type": "markdown",
   "id": "b3911d20",
   "metadata": {},
   "source": [
    "nombre_infected        20\n",
    "nombre_sain         19908\n",
    "nombre_exposed         58\n",
    "nombre_recovered       14\n",
    "Name: 4, dtype: int64"
   ]
  },
  {
   "cell_type": "markdown",
   "id": "32baa3b2",
   "metadata": {},
   "source": [
    "nombre_infected        24\n",
    "nombre_sain         19883\n",
    "nombre_exposed         78\n",
    "nombre_recovered       15\n",
    "Name: 5, dtype: int64"
   ]
  },
  {
   "cell_type": "markdown",
   "id": "959657b6",
   "metadata": {},
   "source": [
    "nombre_infected        33\n",
    "nombre_sain         19852\n",
    "nombre_exposed         98\n",
    "nombre_recovered       17\n",
    "Name: 6, dtype: int64"
   ]
  },
  {
   "cell_type": "markdown",
   "id": "29b972f4",
   "metadata": {},
   "source": [
    "nombre_infected        49\n",
    "nombre_sain         19801\n",
    "nombre_exposed        130\n",
    "nombre_recovered       20\n",
    "Name: 7, dtype: int64"
   ]
  },
  {
   "cell_type": "markdown",
   "id": "2a2446a4",
   "metadata": {},
   "source": [
    "nombre_infected        75\n",
    "nombre_sain         19733\n",
    "nombre_exposed        172\n",
    "nombre_recovered       20\n",
    "Name: 8, dtype: int64"
   ]
  },
  {
   "cell_type": "markdown",
   "id": "5e012e2f",
   "metadata": {},
   "source": [
    "nombre_infected       106\n",
    "nombre_sain         19640\n",
    "nombre_exposed        227\n",
    "nombre_recovered       27\n",
    "Name: 9, dtype: int64"
   ]
  },
  {
   "cell_type": "markdown",
   "id": "1ab7de40",
   "metadata": {},
   "source": [
    "nombre_infected       124\n",
    "nombre_sain         19514\n",
    "nombre_exposed        320\n",
    "nombre_recovered       42\n",
    "Name: 10, dtype: int64"
   ]
  },
  {
   "cell_type": "markdown",
   "id": "b7b2a621",
   "metadata": {},
   "source": [
    "nombre_infected       165\n",
    "nombre_sain         19329\n",
    "nombre_exposed        455\n",
    "nombre_recovered       51\n",
    "Name: 11, dtype: int64"
   ]
  },
  {
   "cell_type": "markdown",
   "id": "e2c62538",
   "metadata": {},
   "source": [
    "nombre_infected       222\n",
    "nombre_sain         19098\n",
    "nombre_exposed        610\n",
    "nombre_recovered       70\n",
    "Name: 12, dtype: int64"
   ]
  },
  {
   "cell_type": "markdown",
   "id": "c0101ef9",
   "metadata": {},
   "source": [
    "nombre_infected       304\n",
    "nombre_sain         18757\n",
    "nombre_exposed        855\n",
    "nombre_recovered       84\n",
    "Name: 13, dtype: int64"
   ]
  },
  {
   "cell_type": "markdown",
   "id": "664207a2",
   "metadata": {},
   "source": [
    "nombre_infected       416\n",
    "nombre_sain         18354\n",
    "nombre_exposed       1116\n",
    "nombre_recovered      114\n",
    "Name: 14, dtype: int64"
   ]
  },
  {
   "cell_type": "markdown",
   "id": "83d22867",
   "metadata": {},
   "source": [
    "nombre_infected       577\n",
    "nombre_sain         17859\n",
    "nombre_exposed       1405\n",
    "nombre_recovered      159\n",
    "Name: 15, dtype: int64"
   ]
  },
  {
   "cell_type": "markdown",
   "id": "4d1c1e03",
   "metadata": {},
   "source": [
    "nombre_infected       754\n",
    "nombre_sain         17167\n",
    "nombre_exposed       1853\n",
    "nombre_recovered      226\n",
    "Name: 16, dtype: int64"
   ]
  },
  {
   "cell_type": "markdown",
   "id": "bf0359b4",
   "metadata": {},
   "source": [
    "nombre_infected       985\n",
    "nombre_sain         16267\n",
    "nombre_exposed       2435\n",
    "nombre_recovered      313\n",
    "Name: 17, dtype: int64"
   ]
  },
  {
   "cell_type": "markdown",
   "id": "44b92cf1",
   "metadata": {},
   "source": [
    "nombre_infected      1331\n",
    "nombre_sain         15172\n",
    "nombre_exposed       3079\n",
    "nombre_recovered      418\n",
    "Name: 18, dtype: int64"
   ]
  },
  {
   "cell_type": "markdown",
   "id": "916a801b",
   "metadata": {},
   "source": [
    "nombre_infected      1737\n",
    "nombre_sain         13930\n",
    "nombre_exposed       3765\n",
    "nombre_recovered      568\n",
    "Name: 19, dtype: int64"
   ]
  },
  {
   "cell_type": "markdown",
   "id": "1b313bcb",
   "metadata": {},
   "source": [
    "nombre_infected      2232\n",
    "nombre_sain         12402\n",
    "nombre_exposed       4619\n",
    "nombre_recovered      747\n",
    "Name: 20, dtype: int64"
   ]
  },
  {
   "cell_type": "markdown",
   "id": "7f4c0a70",
   "metadata": {},
   "source": [
    "nombre_infected      2839\n",
    "nombre_sain         10709\n",
    "nombre_exposed       5481\n",
    "nombre_recovered      971\n",
    "Name: 21, dtype: int64"
   ]
  },
  {
   "cell_type": "markdown",
   "id": "f2b5a9cc",
   "metadata": {},
   "source": [
    "nombre_infected     3581\n",
    "nombre_sain         9001\n",
    "nombre_exposed      6129\n",
    "nombre_recovered    1289\n",
    "Name: 22, dtype: int64"
   ]
  },
  {
   "cell_type": "markdown",
   "id": "5cb2e70e",
   "metadata": {},
   "source": [
    "nombre_infected     4412\n",
    "nombre_sain         7332\n",
    "nombre_exposed      6594\n",
    "nombre_recovered    1662\n",
    "Name: 23, dtype: int64"
   ]
  },
  {
   "cell_type": "markdown",
   "id": "b472caf5",
   "metadata": {},
   "source": [
    "nombre_infected     5234\n",
    "nombre_sain         5697\n",
    "nombre_exposed      6922\n",
    "nombre_recovered    2147\n",
    "Name: 24, dtype: int64"
   ]
  },
  {
   "cell_type": "markdown",
   "id": "0e76a203",
   "metadata": {},
   "source": [
    "nombre_infected     6131\n",
    "nombre_sain         4257\n",
    "nombre_exposed      6897\n",
    "nombre_recovered    2715\n",
    "Name: 25, dtype: int64"
   ]
  },
  {
   "cell_type": "markdown",
   "id": "b62a82bd",
   "metadata": {},
   "source": [
    "nombre_infected     6879\n",
    "nombre_sain         3083\n",
    "nombre_exposed      6619\n",
    "nombre_recovered    3419\n",
    "Name: 26, dtype: int64"
   ]
  },
  {
   "cell_type": "markdown",
   "id": "b674059d",
   "metadata": {},
   "source": [
    "nombre_infected     7647\n",
    "nombre_sain         2169\n",
    "nombre_exposed      6003\n",
    "nombre_recovered    4181\n",
    "Name: 27, dtype: int64"
   ]
  },
  {
   "cell_type": "markdown",
   "id": "e549279b",
   "metadata": {},
   "source": [
    "nombre_infected     8235\n",
    "nombre_sain         1488\n",
    "nombre_exposed      5226\n",
    "nombre_recovered    5051\n",
    "Name: 28, dtype: int64"
   ]
  },
  {
   "cell_type": "markdown",
   "id": "b82e179c",
   "metadata": {},
   "source": [
    "nombre_infected     8543\n",
    "nombre_sain          984\n",
    "nombre_exposed      4498\n",
    "nombre_recovered    5975\n",
    "Name: 29, dtype: int64"
   ]
  },
  {
   "cell_type": "markdown",
   "id": "b9cfa27c",
   "metadata": {},
   "source": [
    "nombre_infected     8722\n",
    "nombre_sain          669\n",
    "nombre_exposed      3645\n",
    "nombre_recovered    6964\n",
    "Name: 30, dtype: int64"
   ]
  },
  {
   "cell_type": "markdown",
   "id": "ebb738b1",
   "metadata": {},
   "source": [
    "nombre_infected     8677\n",
    "nombre_sain          489\n",
    "nombre_exposed      2897\n",
    "nombre_recovered    7937\n",
    "Name: 31, dtype: int64"
   ]
  },
  {
   "cell_type": "markdown",
   "id": "dcfd956b",
   "metadata": {},
   "source": [
    "nombre_infected     8445\n",
    "nombre_sain          335\n",
    "nombre_exposed      2297\n",
    "nombre_recovered    8923\n",
    "Name: 32, dtype: int64"
   ]
  },
  {
   "cell_type": "markdown",
   "id": "8c0b1b43",
   "metadata": {},
   "source": [
    "nombre_infected     8184\n",
    "nombre_sain          244\n",
    "nombre_exposed      1750\n",
    "nombre_recovered    9822\n",
    "Name: 33, dtype: int64"
   ]
  },
  {
   "cell_type": "markdown",
   "id": "a77fd8bf",
   "metadata": {},
   "source": [
    "nombre_infected      7714\n",
    "nombre_sain           182\n",
    "nombre_exposed       1367\n",
    "nombre_recovered    10737\n",
    "Name: 34, dtype: int64"
   ]
  },
  {
   "cell_type": "markdown",
   "id": "f391203e",
   "metadata": {},
   "source": [
    "nombre_infected      7237\n",
    "nombre_sain           154\n",
    "nombre_exposed       1001\n",
    "nombre_recovered    11608\n",
    "Name: 35, dtype: int64"
   ]
  },
  {
   "cell_type": "markdown",
   "id": "d1a08878",
   "metadata": {},
   "source": [
    "nombre_infected      6716\n",
    "nombre_sain           129\n",
    "nombre_exposed        761\n",
    "nombre_recovered    12394\n",
    "Name: 36, dtype: int64"
   ]
  },
  {
   "cell_type": "markdown",
   "id": "2f15e0b6",
   "metadata": {},
   "source": [
    "nombre_infected      6233\n",
    "nombre_sain           123\n",
    "nombre_exposed        566\n",
    "nombre_recovered    13078\n",
    "Name: 37, dtype: int64"
   ]
  },
  {
   "cell_type": "markdown",
   "id": "878e74ab",
   "metadata": {},
   "source": [
    "nombre_infected      5652\n",
    "nombre_sain           116\n",
    "nombre_exposed        418\n",
    "nombre_recovered    13814\n",
    "Name: 38, dtype: int64"
   ]
  },
  {
   "cell_type": "markdown",
   "id": "78629906",
   "metadata": {},
   "source": [
    "nombre_infected      5124\n",
    "nombre_sain           118\n",
    "nombre_exposed        312\n",
    "nombre_recovered    14446\n",
    "Name: 39, dtype: int64"
   ]
  },
  {
   "cell_type": "markdown",
   "id": "f0360a81",
   "metadata": {},
   "source": [
    "nombre_infected      4598\n",
    "nombre_sain           118\n",
    "nombre_exposed        251\n",
    "nombre_recovered    15033\n",
    "Name: 40, dtype: int64"
   ]
  },
  {
   "cell_type": "markdown",
   "id": "fc5e109f",
   "metadata": {},
   "source": [
    "nombre_infected      4122\n",
    "nombre_sain           126\n",
    "nombre_exposed        187\n",
    "nombre_recovered    15565\n",
    "Name: 41, dtype: int64"
   ]
  },
  {
   "cell_type": "markdown",
   "id": "514bdc32",
   "metadata": {},
   "source": [
    "nombre_infected      3679\n",
    "nombre_sain           143\n",
    "nombre_exposed        131\n",
    "nombre_recovered    16047\n",
    "Name: 42, dtype: int64"
   ]
  },
  {
   "cell_type": "markdown",
   "id": "06634f6d",
   "metadata": {},
   "source": [
    "nombre_infected      3247\n",
    "nombre_sain           158\n",
    "nombre_exposed        121\n",
    "nombre_recovered    16474\n",
    "Name: 43, dtype: int64"
   ]
  },
  {
   "cell_type": "markdown",
   "id": "788767ca",
   "metadata": {},
   "source": [
    "nombre_infected      2839\n",
    "nombre_sain           170\n",
    "nombre_exposed        126\n",
    "nombre_recovered    16865\n",
    "Name: 44, dtype: int64"
   ]
  },
  {
   "cell_type": "markdown",
   "id": "c9a44d13",
   "metadata": {},
   "source": [
    "nombre_infected      2516\n",
    "nombre_sain           184\n",
    "nombre_exposed        113\n",
    "nombre_recovered    17187\n",
    "Name: 45, dtype: int64"
   ]
  },
  {
   "cell_type": "markdown",
   "id": "19777d44",
   "metadata": {},
   "source": [
    "nombre_infected      2249\n",
    "nombre_sain           201\n",
    "nombre_exposed        109\n",
    "nombre_recovered    17441\n",
    "Name: 46, dtype: int64"
   ]
  },
  {
   "cell_type": "markdown",
   "id": "8363d2d5",
   "metadata": {},
   "source": [
    "nombre_infected      1976\n",
    "nombre_sain           228\n",
    "nombre_exposed         99\n",
    "nombre_recovered    17697\n",
    "Name: 47, dtype: int64"
   ]
  },
  {
   "cell_type": "markdown",
   "id": "e3bb16db",
   "metadata": {},
   "source": [
    "nombre_infected      1723\n",
    "nombre_sain           252\n",
    "nombre_exposed        106\n",
    "nombre_recovered    17919\n",
    "Name: 48, dtype: int64"
   ]
  },
  {
   "cell_type": "markdown",
   "id": "f4680b5c",
   "metadata": {},
   "source": [
    "nombre_infected      1509\n",
    "nombre_sain           282\n",
    "nombre_exposed        106\n",
    "nombre_recovered    18103\n",
    "Name: 49, dtype: int64"
   ]
  },
  {
   "cell_type": "markdown",
   "id": "2bda64ca",
   "metadata": {},
   "source": [
    "nombre_infected      1303\n",
    "nombre_sain           305\n",
    "nombre_exposed        110\n",
    "nombre_recovered    18282\n",
    "Name: 50, dtype: int64"
   ]
  },
  {
   "cell_type": "markdown",
   "id": "84a3a7e0",
   "metadata": {},
   "source": [
    "nombre_infected      1141\n",
    "nombre_sain           346\n",
    "nombre_exposed         90\n",
    "nombre_recovered    18423\n",
    "Name: 51, dtype: int64"
   ]
  },
  {
   "cell_type": "markdown",
   "id": "8544c669",
   "metadata": {},
   "source": [
    "nombre_infected       967\n",
    "nombre_sain           382\n",
    "nombre_exposed         92\n",
    "nombre_recovered    18559\n",
    "Name: 52, dtype: int64"
   ]
  },
  {
   "cell_type": "markdown",
   "id": "af3d28b3",
   "metadata": {},
   "source": [
    "nombre_infected       808\n",
    "nombre_sain           420\n",
    "nombre_exposed         86\n",
    "nombre_recovered    18686\n",
    "Name: 53, dtype: int64"
   ]
  },
  {
   "cell_type": "markdown",
   "id": "dc17c7d8",
   "metadata": {},
   "source": [
    "nombre_infected       709\n",
    "nombre_sain           460\n",
    "nombre_exposed         74\n",
    "nombre_recovered    18757\n",
    "Name: 54, dtype: int64"
   ]
  },
  {
   "cell_type": "markdown",
   "id": "847372a3",
   "metadata": {},
   "source": [
    "nombre_infected       614\n",
    "nombre_sain           497\n",
    "nombre_exposed         67\n",
    "nombre_recovered    18822\n",
    "Name: 55, dtype: int64"
   ]
  },
  {
   "cell_type": "markdown",
   "id": "93d01b10",
   "metadata": {},
   "source": [
    "nombre_infected       506\n",
    "nombre_sain           542\n",
    "nombre_exposed         73\n",
    "nombre_recovered    18879\n",
    "Name: 56, dtype: int64"
   ]
  },
  {
   "cell_type": "markdown",
   "id": "cc186db5",
   "metadata": {},
   "source": [
    "nombre_infected       426\n",
    "nombre_sain           596\n",
    "nombre_exposed         75\n",
    "nombre_recovered    18903\n",
    "Name: 57, dtype: int64"
   ]
  },
  {
   "cell_type": "markdown",
   "id": "5c5b2256",
   "metadata": {},
   "source": [
    "nombre_infected       352\n",
    "nombre_sain           647\n",
    "nombre_exposed         74\n",
    "nombre_recovered    18927\n",
    "Name: 58, dtype: int64"
   ]
  },
  {
   "cell_type": "markdown",
   "id": "fa4862e4",
   "metadata": {},
   "source": [
    "nombre_infected       297\n",
    "nombre_sain           716\n",
    "nombre_exposed         63\n",
    "nombre_recovered    18924\n",
    "Name: 59, dtype: int64"
   ]
  },
  {
   "cell_type": "markdown",
   "id": "b4d8aa48",
   "metadata": {},
   "source": [
    "nombre_infected       247\n",
    "nombre_sain           782\n",
    "nombre_exposed         60\n",
    "nombre_recovered    18911\n",
    "Name: 60, dtype: int64"
   ]
  },
  {
   "cell_type": "markdown",
   "id": "9b7e3892",
   "metadata": {},
   "source": [
    "nombre_infected       212\n",
    "nombre_sain           841\n",
    "nombre_exposed         57\n",
    "nombre_recovered    18890\n",
    "Name: 61, dtype: int64"
   ]
  },
  {
   "cell_type": "markdown",
   "id": "94d37f03",
   "metadata": {},
   "source": [
    "nombre_infected       197\n",
    "nombre_sain           910\n",
    "nombre_exposed         46\n",
    "nombre_recovered    18847\n",
    "Name: 62, dtype: int64"
   ]
  },
  {
   "cell_type": "markdown",
   "id": "e565dfe7",
   "metadata": {},
   "source": [
    "nombre_infected       182\n",
    "nombre_sain           961\n",
    "nombre_exposed         40\n",
    "nombre_recovered    18817\n",
    "Name: 63, dtype: int64"
   ]
  },
  {
   "cell_type": "markdown",
   "id": "ff28440f",
   "metadata": {},
   "source": [
    "nombre_infected       163\n",
    "nombre_sain          1032\n",
    "nombre_exposed         44\n",
    "nombre_recovered    18761\n",
    "Name: 64, dtype: int64"
   ]
  },
  {
   "cell_type": "markdown",
   "id": "33eb6a0d",
   "metadata": {},
   "source": [
    "nombre_infected       154\n",
    "nombre_sain          1098\n",
    "nombre_exposed         36\n",
    "nombre_recovered    18712\n",
    "Name: 65, dtype: int64"
   ]
  },
  {
   "cell_type": "markdown",
   "id": "77b12923",
   "metadata": {},
   "source": [
    "nombre_infected       138\n",
    "nombre_sain          1174\n",
    "nombre_exposed         39\n",
    "nombre_recovered    18649\n",
    "Name: 66, dtype: int64"
   ]
  },
  {
   "cell_type": "markdown",
   "id": "1acc8cf0",
   "metadata": {},
   "source": [
    "nombre_infected       125\n",
    "nombre_sain          1229\n",
    "nombre_exposed         43\n",
    "nombre_recovered    18603\n",
    "Name: 67, dtype: int64"
   ]
  },
  {
   "cell_type": "markdown",
   "id": "222c2a35",
   "metadata": {},
   "source": [
    "nombre_infected       118\n",
    "nombre_sain          1292\n",
    "nombre_exposed         43\n",
    "nombre_recovered    18547\n",
    "Name: 68, dtype: int64"
   ]
  },
  {
   "cell_type": "markdown",
   "id": "6932606d",
   "metadata": {},
   "source": [
    "nombre_infected       107\n",
    "nombre_sain          1357\n",
    "nombre_exposed         41\n",
    "nombre_recovered    18495\n",
    "Name: 69, dtype: int64"
   ]
  },
  {
   "cell_type": "markdown",
   "id": "fb4b5f77",
   "metadata": {},
   "source": [
    "nombre_infected        99\n",
    "nombre_sain          1425\n",
    "nombre_exposed         36\n",
    "nombre_recovered    18440\n",
    "Name: 70, dtype: int64"
   ]
  },
  {
   "cell_type": "markdown",
   "id": "27dffd64",
   "metadata": {},
   "source": [
    "nombre_infected        93\n",
    "nombre_sain          1494\n",
    "nombre_exposed         38\n",
    "nombre_recovered    18375\n",
    "Name: 71, dtype: int64"
   ]
  },
  {
   "cell_type": "markdown",
   "id": "af157fc0",
   "metadata": {},
   "source": [
    "nombre_infected        81\n",
    "nombre_sain          1554\n",
    "nombre_exposed         38\n",
    "nombre_recovered    18327\n",
    "Name: 72, dtype: int64"
   ]
  },
  {
   "cell_type": "markdown",
   "id": "2e4af0b6",
   "metadata": {},
   "source": [
    "nombre_infected        82\n",
    "nombre_sain          1625\n",
    "nombre_exposed         36\n",
    "nombre_recovered    18257\n",
    "Name: 73, dtype: int64"
   ]
  },
  {
   "cell_type": "markdown",
   "id": "1a92cb15",
   "metadata": {},
   "source": [
    "nombre_infected        80\n",
    "nombre_sain          1716\n",
    "nombre_exposed         38\n",
    "nombre_recovered    18166\n",
    "Name: 74, dtype: int64"
   ]
  },
  {
   "cell_type": "markdown",
   "id": "2fbefecd",
   "metadata": {},
   "source": [
    "nombre_infected        83\n",
    "nombre_sain          1801\n",
    "nombre_exposed         38\n",
    "nombre_recovered    18078\n",
    "Name: 75, dtype: int64"
   ]
  },
  {
   "cell_type": "markdown",
   "id": "899a93a6",
   "metadata": {},
   "source": [
    "nombre_infected        76\n",
    "nombre_sain          1880\n",
    "nombre_exposed         38\n",
    "nombre_recovered    18006\n",
    "Name: 76, dtype: int64"
   ]
  },
  {
   "cell_type": "markdown",
   "id": "04f6c707",
   "metadata": {},
   "source": [
    "nombre_infected        71\n",
    "nombre_sain          1959\n",
    "nombre_exposed         43\n",
    "nombre_recovered    17927\n",
    "Name: 77, dtype: int64"
   ]
  },
  {
   "cell_type": "markdown",
   "id": "1176f4d0",
   "metadata": {},
   "source": [
    "nombre_infected        73\n",
    "nombre_sain          2022\n",
    "nombre_exposed         40\n",
    "nombre_recovered    17865\n",
    "Name: 78, dtype: int64"
   ]
  },
  {
   "cell_type": "markdown",
   "id": "fcfc784e",
   "metadata": {},
   "source": [
    "nombre_infected        76\n",
    "nombre_sain          2103\n",
    "nombre_exposed         33\n",
    "nombre_recovered    17788\n",
    "Name: 79, dtype: int64"
   ]
  },
  {
   "cell_type": "markdown",
   "id": "3e6080c5",
   "metadata": {},
   "source": [
    "nombre_infected        73\n",
    "nombre_sain          2170\n",
    "nombre_exposed         34\n",
    "nombre_recovered    17723\n",
    "Name: 80, dtype: int64"
   ]
  },
  {
   "cell_type": "markdown",
   "id": "d2456f48",
   "metadata": {},
   "source": [
    "nombre_infected        76\n",
    "nombre_sain          2222\n",
    "nombre_exposed         42\n",
    "nombre_recovered    17660\n",
    "Name: 81, dtype: int64"
   ]
  },
  {
   "cell_type": "markdown",
   "id": "be8d5d0b",
   "metadata": {},
   "source": [
    "nombre_infected        70\n",
    "nombre_sain          2284\n",
    "nombre_exposed         46\n",
    "nombre_recovered    17600\n",
    "Name: 82, dtype: int64"
   ]
  },
  {
   "cell_type": "markdown",
   "id": "1387af77",
   "metadata": {},
   "source": [
    "nombre_infected        73\n",
    "nombre_sain          2352\n",
    "nombre_exposed         51\n",
    "nombre_recovered    17524\n",
    "Name: 83, dtype: int64"
   ]
  },
  {
   "cell_type": "markdown",
   "id": "0883f1e4",
   "metadata": {},
   "source": [
    "nombre_infected        75\n",
    "nombre_sain          2403\n",
    "nombre_exposed         49\n",
    "nombre_recovered    17473\n",
    "Name: 84, dtype: int64"
   ]
  },
  {
   "cell_type": "markdown",
   "id": "0f419fd6",
   "metadata": {},
   "source": [
    "nombre_infected        73\n",
    "nombre_sain          2459\n",
    "nombre_exposed         54\n",
    "nombre_recovered    17414\n",
    "Name: 85, dtype: int64"
   ]
  },
  {
   "cell_type": "markdown",
   "id": "7c87565d",
   "metadata": {},
   "source": [
    "nombre_infected        76\n",
    "nombre_sain          2500\n",
    "nombre_exposed         57\n",
    "nombre_recovered    17367\n",
    "Name: 86, dtype: int64"
   ]
  },
  {
   "cell_type": "markdown",
   "id": "cafc8957",
   "metadata": {},
   "source": [
    "nombre_infected        79\n",
    "nombre_sain          2559\n",
    "nombre_exposed         60\n",
    "nombre_recovered    17302\n",
    "Name: 87, dtype: int64"
   ]
  },
  {
   "cell_type": "markdown",
   "id": "9ead712c",
   "metadata": {},
   "source": [
    "nombre_infected        80\n",
    "nombre_sain          2585\n",
    "nombre_exposed         68\n",
    "nombre_recovered    17267\n",
    "Name: 88, dtype: int64"
   ]
  },
  {
   "cell_type": "markdown",
   "id": "d0fd227c",
   "metadata": {},
   "source": [
    "nombre_infected        87\n",
    "nombre_sain          2622\n",
    "nombre_exposed         67\n",
    "nombre_recovered    17224\n",
    "Name: 89, dtype: int64"
   ]
  },
  {
   "cell_type": "markdown",
   "id": "c5bed006",
   "metadata": {},
   "source": [
    "nombre_infected        89\n",
    "nombre_sain          2655\n",
    "nombre_exposed         66\n",
    "nombre_recovered    17190\n",
    "Name: 90, dtype: int64"
   ]
  },
  {
   "cell_type": "markdown",
   "id": "e5db9ba6",
   "metadata": {},
   "source": [
    "nombre_infected        93\n",
    "nombre_sain          2702\n",
    "nombre_exposed         65\n",
    "nombre_recovered    17140\n",
    "Name: 91, dtype: int64"
   ]
  },
  {
   "cell_type": "markdown",
   "id": "78435a74",
   "metadata": {},
   "source": [
    "nombre_infected        89\n",
    "nombre_sain          2729\n",
    "nombre_exposed         77\n",
    "nombre_recovered    17105\n",
    "Name: 92, dtype: int64"
   ]
  },
  {
   "cell_type": "markdown",
   "id": "ab35f97a",
   "metadata": {},
   "source": [
    "nombre_infected        89\n",
    "nombre_sain          2779\n",
    "nombre_exposed         74\n",
    "nombre_recovered    17058\n",
    "Name: 93, dtype: int64"
   ]
  },
  {
   "cell_type": "markdown",
   "id": "a71d729a",
   "metadata": {},
   "source": [
    "nombre_infected       103\n",
    "nombre_sain          2824\n",
    "nombre_exposed         72\n",
    "nombre_recovered    17001\n",
    "Name: 94, dtype: int64"
   ]
  },
  {
   "cell_type": "markdown",
   "id": "6411ca43",
   "metadata": {},
   "source": [
    "nombre_infected        97\n",
    "nombre_sain          2872\n",
    "nombre_exposed         78\n",
    "nombre_recovered    16953\n",
    "Name: 95, dtype: int64"
   ]
  },
  {
   "cell_type": "markdown",
   "id": "0147e10c",
   "metadata": {},
   "source": [
    "nombre_infected        99\n",
    "nombre_sain          2917\n",
    "nombre_exposed         86\n",
    "nombre_recovered    16898\n",
    "Name: 96, dtype: int64"
   ]
  },
  {
   "cell_type": "markdown",
   "id": "2c1c5736",
   "metadata": {},
   "source": [
    "nombre_infected       105\n",
    "nombre_sain          2965\n",
    "nombre_exposed         75\n",
    "nombre_recovered    16855\n",
    "Name: 97, dtype: int64"
   ]
  },
  {
   "cell_type": "markdown",
   "id": "8f897e33",
   "metadata": {},
   "source": [
    "nombre_infected       113\n",
    "nombre_sain          3011\n",
    "nombre_exposed         75\n",
    "nombre_recovered    16801\n",
    "Name: 98, dtype: int64"
   ]
  },
  {
   "cell_type": "markdown",
   "id": "a8671945",
   "metadata": {},
   "source": [
    "nombre_infected       113\n",
    "nombre_sain          3042\n",
    "nombre_exposed         86\n",
    "nombre_recovered    16759\n",
    "Name: 99, dtype: int64"
   ]
  },
  {
   "cell_type": "markdown",
   "id": "0a609ef7",
   "metadata": {},
   "source": [
    "nombre_infected       119\n",
    "nombre_sain          3065\n",
    "nombre_exposed         81\n",
    "nombre_recovered    16735\n",
    "Name: 100, dtype: int64"
   ]
  },
  {
   "cell_type": "markdown",
   "id": "11833dc1",
   "metadata": {},
   "source": [
    "nombre_infected       124\n",
    "nombre_sain          3093\n",
    "nombre_exposed         84\n",
    "nombre_recovered    16699\n",
    "Name: 101, dtype: int64"
   ]
  },
  {
   "cell_type": "markdown",
   "id": "6cc09669",
   "metadata": {},
   "source": [
    "nombre_infected       136\n",
    "nombre_sain          3124\n",
    "nombre_exposed         89\n",
    "nombre_recovered    16651\n",
    "Name: 102, dtype: int64"
   ]
  },
  {
   "cell_type": "markdown",
   "id": "1206c897",
   "metadata": {},
   "source": [
    "nombre_infected       138\n",
    "nombre_sain          3142\n",
    "nombre_exposed        106\n",
    "nombre_recovered    16614\n",
    "Name: 103, dtype: int64"
   ]
  },
  {
   "cell_type": "markdown",
   "id": "8c35f1d8",
   "metadata": {},
   "source": [
    "nombre_infected       148\n",
    "nombre_sain          3149\n",
    "nombre_exposed        114\n",
    "nombre_recovered    16589\n",
    "Name: 104, dtype: int64"
   ]
  },
  {
   "cell_type": "markdown",
   "id": "4d049e33",
   "metadata": {},
   "source": [
    "nombre_infected       158\n",
    "nombre_sain          3167\n",
    "nombre_exposed        119\n",
    "nombre_recovered    16556\n",
    "Name: 105, dtype: int64"
   ]
  },
  {
   "cell_type": "markdown",
   "id": "ab500576",
   "metadata": {},
   "source": [
    "nombre_infected       160\n",
    "nombre_sain          3174\n",
    "nombre_exposed        130\n",
    "nombre_recovered    16536\n",
    "Name: 106, dtype: int64"
   ]
  },
  {
   "cell_type": "markdown",
   "id": "982845ae",
   "metadata": {},
   "source": [
    "nombre_infected       165\n",
    "nombre_sain          3203\n",
    "nombre_exposed        134\n",
    "nombre_recovered    16498\n",
    "Name: 107, dtype: int64"
   ]
  },
  {
   "cell_type": "markdown",
   "id": "dcc8d79f",
   "metadata": {},
   "source": [
    "nombre_infected       187\n",
    "nombre_sain          3218\n",
    "nombre_exposed        126\n",
    "nombre_recovered    16469\n",
    "Name: 108, dtype: int64"
   ]
  },
  {
   "cell_type": "markdown",
   "id": "e78064ec",
   "metadata": {},
   "source": [
    "nombre_infected       194\n",
    "nombre_sain          3232\n",
    "nombre_exposed        137\n",
    "nombre_recovered    16437\n",
    "Name: 109, dtype: int64"
   ]
  },
  {
   "cell_type": "markdown",
   "id": "25c12b73",
   "metadata": {},
   "source": [
    "nombre_infected       195\n",
    "nombre_sain          3249\n",
    "nombre_exposed        152\n",
    "nombre_recovered    16404\n",
    "Name: 110, dtype: int64"
   ]
  },
  {
   "cell_type": "markdown",
   "id": "14ee9af4",
   "metadata": {},
   "source": [
    "nombre_infected       198\n",
    "nombre_sain          3282\n",
    "nombre_exposed        156\n",
    "nombre_recovered    16364\n",
    "Name: 111, dtype: int64"
   ]
  },
  {
   "cell_type": "markdown",
   "id": "361939ed",
   "metadata": {},
   "source": [
    "nombre_infected       209\n",
    "nombre_sain          3312\n",
    "nombre_exposed        157\n",
    "nombre_recovered    16322\n",
    "Name: 112, dtype: int64"
   ]
  },
  {
   "cell_type": "markdown",
   "id": "2b80090b",
   "metadata": {},
   "source": [
    "nombre_infected       217\n",
    "nombre_sain          3321\n",
    "nombre_exposed        157\n",
    "nombre_recovered    16305\n",
    "Name: 113, dtype: int64"
   ]
  },
  {
   "cell_type": "markdown",
   "id": "ece94a40",
   "metadata": {},
   "source": [
    "nombre_infected       232\n",
    "nombre_sain          3363\n",
    "nombre_exposed        162\n",
    "nombre_recovered    16243\n",
    "Name: 114, dtype: int64"
   ]
  },
  {
   "cell_type": "markdown",
   "id": "0b692208",
   "metadata": {},
   "source": [
    "nombre_infected       243\n",
    "nombre_sain          3373\n",
    "nombre_exposed        170\n",
    "nombre_recovered    16214\n",
    "Name: 115, dtype: int64"
   ]
  },
  {
   "cell_type": "markdown",
   "id": "ce30c86d",
   "metadata": {},
   "source": [
    "nombre_infected       234\n",
    "nombre_sain          3400\n",
    "nombre_exposed        193\n",
    "nombre_recovered    16173\n",
    "Name: 116, dtype: int64"
   ]
  },
  {
   "cell_type": "markdown",
   "id": "892b66f7",
   "metadata": {},
   "source": [
    "nombre_infected       258\n",
    "nombre_sain          3406\n",
    "nombre_exposed        214\n",
    "nombre_recovered    16122\n",
    "Name: 117, dtype: int64"
   ]
  },
  {
   "cell_type": "markdown",
   "id": "4968c344",
   "metadata": {},
   "source": [
    "nombre_infected       257\n",
    "nombre_sain          3436\n",
    "nombre_exposed        213\n",
    "nombre_recovered    16094\n",
    "Name: 118, dtype: int64"
   ]
  },
  {
   "cell_type": "markdown",
   "id": "67c5ea8f",
   "metadata": {},
   "source": [
    "nombre_infected       286\n",
    "nombre_sain          3457\n",
    "nombre_exposed        198\n",
    "nombre_recovered    16059\n",
    "Name: 119, dtype: int64"
   ]
  },
  {
   "cell_type": "markdown",
   "id": "8a2da2ed",
   "metadata": {},
   "source": [
    "nombre_infected       326\n",
    "nombre_sain          3464\n",
    "nombre_exposed        196\n",
    "nombre_recovered    16014\n",
    "Name: 120, dtype: int64"
   ]
  },
  {
   "cell_type": "markdown",
   "id": "808b0a3a",
   "metadata": {},
   "source": [
    "nombre_infected       336\n",
    "nombre_sain          3440\n",
    "nombre_exposed        233\n",
    "nombre_recovered    15991\n",
    "Name: 121, dtype: int64"
   ]
  },
  {
   "cell_type": "markdown",
   "id": "7024beff",
   "metadata": {},
   "source": [
    "nombre_infected       331\n",
    "nombre_sain          3412\n",
    "nombre_exposed        272\n",
    "nombre_recovered    15985\n",
    "Name: 122, dtype: int64"
   ]
  },
  {
   "cell_type": "markdown",
   "id": "98fd65b2",
   "metadata": {},
   "source": [
    "nombre_infected       341\n",
    "nombre_sain          3391\n",
    "nombre_exposed        292\n",
    "nombre_recovered    15976\n",
    "Name: 123, dtype: int64"
   ]
  },
  {
   "cell_type": "markdown",
   "id": "a41aa103",
   "metadata": {},
   "source": [
    "nombre_infected       365\n",
    "nombre_sain          3393\n",
    "nombre_exposed        278\n",
    "nombre_recovered    15964\n",
    "Name: 124, dtype: int64"
   ]
  },
  {
   "cell_type": "markdown",
   "id": "4728efa8",
   "metadata": {},
   "source": [
    "nombre_infected       401\n",
    "nombre_sain          3362\n",
    "nombre_exposed        278\n",
    "nombre_recovered    15959\n",
    "Name: 125, dtype: int64"
   ]
  },
  {
   "cell_type": "markdown",
   "id": "5b734e33",
   "metadata": {},
   "source": [
    "nombre_infected       420\n",
    "nombre_sain          3316\n",
    "nombre_exposed        307\n",
    "nombre_recovered    15957\n",
    "Name: 126, dtype: int64"
   ]
  },
  {
   "cell_type": "markdown",
   "id": "83c295eb",
   "metadata": {},
   "source": [
    "nombre_infected       421\n",
    "nombre_sain          3291\n",
    "nombre_exposed        334\n",
    "nombre_recovered    15954\n",
    "Name: 127, dtype: int64"
   ]
  },
  {
   "cell_type": "markdown",
   "id": "1d39027e",
   "metadata": {},
   "source": [
    "nombre_infected       444\n",
    "nombre_sain          3239\n",
    "nombre_exposed        350\n",
    "nombre_recovered    15967\n",
    "Name: 128, dtype: int64"
   ]
  },
  {
   "cell_type": "markdown",
   "id": "7868307b",
   "metadata": {},
   "source": [
    "nombre_infected       472\n",
    "nombre_sain          3168\n",
    "nombre_exposed        376\n",
    "nombre_recovered    15984\n",
    "Name: 129, dtype: int64"
   ]
  },
  {
   "cell_type": "markdown",
   "id": "79fb4181",
   "metadata": {},
   "source": [
    "nombre_infected       496\n",
    "nombre_sain          3116\n",
    "nombre_exposed        396\n",
    "nombre_recovered    15992\n",
    "Name: 130, dtype: int64"
   ]
  },
  {
   "cell_type": "markdown",
   "id": "51c40598",
   "metadata": {},
   "source": [
    "nombre_infected       531\n",
    "nombre_sain          3083\n",
    "nombre_exposed        387\n",
    "nombre_recovered    15999\n",
    "Name: 131, dtype: int64"
   ]
  },
  {
   "cell_type": "markdown",
   "id": "352e89b7",
   "metadata": {},
   "source": [
    "nombre_infected       586\n",
    "nombre_sain          3043\n",
    "nombre_exposed        387\n",
    "nombre_recovered    15984\n",
    "Name: 132, dtype: int64"
   ]
  },
  {
   "cell_type": "markdown",
   "id": "ec0a96b5",
   "metadata": {},
   "source": [
    "nombre_infected       606\n",
    "nombre_sain          2976\n",
    "nombre_exposed        418\n",
    "nombre_recovered    16000\n",
    "Name: 133, dtype: int64"
   ]
  },
  {
   "cell_type": "markdown",
   "id": "7a29261a",
   "metadata": {},
   "source": [
    "nombre_infected       629\n",
    "nombre_sain          2920\n",
    "nombre_exposed        427\n",
    "nombre_recovered    16024\n",
    "Name: 134, dtype: int64"
   ]
  },
  {
   "cell_type": "markdown",
   "id": "11f11c54",
   "metadata": {},
   "source": [
    "nombre_infected       665\n",
    "nombre_sain          2861\n",
    "nombre_exposed        425\n",
    "nombre_recovered    16049\n",
    "Name: 135, dtype: int64"
   ]
  },
  {
   "cell_type": "markdown",
   "id": "7fb68aef",
   "metadata": {},
   "source": [
    "nombre_infected       692\n",
    "nombre_sain          2787\n",
    "nombre_exposed        458\n",
    "nombre_recovered    16063\n",
    "Name: 136, dtype: int64"
   ]
  },
  {
   "cell_type": "markdown",
   "id": "85577022",
   "metadata": {},
   "source": [
    "nombre_infected       689\n",
    "nombre_sain          2722\n",
    "nombre_exposed        485\n",
    "nombre_recovered    16104\n",
    "Name: 137, dtype: int64"
   ]
  },
  {
   "cell_type": "markdown",
   "id": "4a706add",
   "metadata": {},
   "source": [
    "nombre_infected       734\n",
    "nombre_sain          2657\n",
    "nombre_exposed        475\n",
    "nombre_recovered    16134\n",
    "Name: 138, dtype: int64"
   ]
  },
  {
   "cell_type": "markdown",
   "id": "e710abf1",
   "metadata": {},
   "source": [
    "nombre_infected       754\n",
    "nombre_sain          2601\n",
    "nombre_exposed        467\n",
    "nombre_recovered    16178\n",
    "Name: 139, dtype: int64"
   ]
  },
  {
   "cell_type": "markdown",
   "id": "8692d570",
   "metadata": {},
   "source": [
    "nombre_infected       780\n",
    "nombre_sain          2539\n",
    "nombre_exposed        471\n",
    "nombre_recovered    16210\n",
    "Name: 140, dtype: int64"
   ]
  },
  {
   "cell_type": "markdown",
   "id": "1c806d08",
   "metadata": {},
   "source": [
    "nombre_infected       805\n",
    "nombre_sain          2471\n",
    "nombre_exposed        476\n",
    "nombre_recovered    16248\n",
    "Name: 141, dtype: int64"
   ]
  },
  {
   "cell_type": "markdown",
   "id": "7311ea32",
   "metadata": {},
   "source": [
    "nombre_infected       843\n",
    "nombre_sain          2425\n",
    "nombre_exposed        450\n",
    "nombre_recovered    16282\n",
    "Name: 142, dtype: int64"
   ]
  },
  {
   "cell_type": "markdown",
   "id": "e22489d4",
   "metadata": {},
   "source": [
    "nombre_infected       849\n",
    "nombre_sain          2350\n",
    "nombre_exposed        469\n",
    "nombre_recovered    16332\n",
    "Name: 143, dtype: int64"
   ]
  },
  {
   "cell_type": "markdown",
   "id": "2ad2b82f",
   "metadata": {},
   "source": [
    "nombre_infected       856\n",
    "nombre_sain          2274\n",
    "nombre_exposed        484\n",
    "nombre_recovered    16386\n",
    "Name: 144, dtype: int64"
   ]
  },
  {
   "cell_type": "markdown",
   "id": "48ca1878",
   "metadata": {},
   "source": [
    "nombre_infected       863\n",
    "nombre_sain          2213\n",
    "nombre_exposed        487\n",
    "nombre_recovered    16437\n",
    "Name: 145, dtype: int64"
   ]
  },
  {
   "cell_type": "markdown",
   "id": "076a792b",
   "metadata": {},
   "source": [
    "nombre_infected       882\n",
    "nombre_sain          2151\n",
    "nombre_exposed        488\n",
    "nombre_recovered    16479\n",
    "Name: 146, dtype: int64"
   ]
  },
  {
   "cell_type": "markdown",
   "id": "7e9e7603",
   "metadata": {},
   "source": [
    "nombre_infected       905\n",
    "nombre_sain          2096\n",
    "nombre_exposed        491\n",
    "nombre_recovered    16508\n",
    "Name: 147, dtype: int64"
   ]
  },
  {
   "cell_type": "markdown",
   "id": "f357fad5",
   "metadata": {},
   "source": [
    "nombre_infected       930\n",
    "nombre_sain          2062\n",
    "nombre_exposed        463\n",
    "nombre_recovered    16545\n",
    "Name: 148, dtype: int64"
   ]
  },
  {
   "cell_type": "markdown",
   "id": "62d35c34",
   "metadata": {},
   "source": [
    "nombre_infected       922\n",
    "nombre_sain          2007\n",
    "nombre_exposed        474\n",
    "nombre_recovered    16597\n",
    "Name: 149, dtype: int64"
   ]
  },
  {
   "cell_type": "markdown",
   "id": "3d7c364c",
   "metadata": {},
   "source": [
    "nombre_infected       921\n",
    "nombre_sain          1982\n",
    "nombre_exposed        477\n",
    "nombre_recovered    16620\n",
    "Name: 150, dtype: int64"
   ]
  },
  {
   "cell_type": "markdown",
   "id": "b3e75571",
   "metadata": {},
   "source": [
    "nombre_infected       926\n",
    "nombre_sain          1933\n",
    "nombre_exposed        475\n",
    "nombre_recovered    16666\n",
    "Name: 151, dtype: int64"
   ]
  },
  {
   "cell_type": "markdown",
   "id": "b463c720",
   "metadata": {},
   "source": [
    "nombre_infected       914\n",
    "nombre_sain          1904\n",
    "nombre_exposed        479\n",
    "nombre_recovered    16703\n",
    "Name: 152, dtype: int64"
   ]
  },
  {
   "cell_type": "markdown",
   "id": "15530f45",
   "metadata": {},
   "source": [
    "nombre_infected       929\n",
    "nombre_sain          1899\n",
    "nombre_exposed        449\n",
    "nombre_recovered    16723\n",
    "Name: 153, dtype: int64"
   ]
  },
  {
   "cell_type": "markdown",
   "id": "46dc6f17",
   "metadata": {},
   "source": [
    "nombre_infected       935\n",
    "nombre_sain          1879\n",
    "nombre_exposed        438\n",
    "nombre_recovered    16748\n",
    "Name: 154, dtype: int64"
   ]
  },
  {
   "cell_type": "markdown",
   "id": "a7a8cd2d",
   "metadata": {},
   "source": [
    "nombre_infected       925\n",
    "nombre_sain          1861\n",
    "nombre_exposed        450\n",
    "nombre_recovered    16764\n",
    "Name: 155, dtype: int64"
   ]
  },
  {
   "cell_type": "markdown",
   "id": "6dc5cea2",
   "metadata": {},
   "source": [
    "nombre_infected       928\n",
    "nombre_sain          1868\n",
    "nombre_exposed        434\n",
    "nombre_recovered    16770\n",
    "Name: 156, dtype: int64"
   ]
  },
  {
   "cell_type": "markdown",
   "id": "3b6ff980",
   "metadata": {},
   "source": [
    "nombre_infected       910\n",
    "nombre_sain          1846\n",
    "nombre_exposed        446\n",
    "nombre_recovered    16798\n",
    "Name: 157, dtype: int64"
   ]
  },
  {
   "cell_type": "markdown",
   "id": "649f264f",
   "metadata": {},
   "source": [
    "nombre_infected       902\n",
    "nombre_sain          1848\n",
    "nombre_exposed        434\n",
    "nombre_recovered    16816\n",
    "Name: 158, dtype: int64"
   ]
  },
  {
   "cell_type": "markdown",
   "id": "2e2889e0",
   "metadata": {},
   "source": [
    "nombre_infected       911\n",
    "nombre_sain          1844\n",
    "nombre_exposed        426\n",
    "nombre_recovered    16819\n",
    "Name: 159, dtype: int64"
   ]
  },
  {
   "cell_type": "markdown",
   "id": "f1b442c7",
   "metadata": {},
   "source": [
    "nombre_infected       923\n",
    "nombre_sain          1837\n",
    "nombre_exposed        427\n",
    "nombre_recovered    16813\n",
    "Name: 160, dtype: int64"
   ]
  },
  {
   "cell_type": "markdown",
   "id": "2cf2727b",
   "metadata": {},
   "source": [
    "nombre_infected       935\n",
    "nombre_sain          1837\n",
    "nombre_exposed        429\n",
    "nombre_recovered    16799\n",
    "Name: 161, dtype: int64"
   ]
  },
  {
   "cell_type": "markdown",
   "id": "2a5f215b",
   "metadata": {},
   "source": [
    "nombre_infected       927\n",
    "nombre_sain          1828\n",
    "nombre_exposed        437\n",
    "nombre_recovered    16808\n",
    "Name: 162, dtype: int64"
   ]
  },
  {
   "cell_type": "markdown",
   "id": "c705ed27",
   "metadata": {},
   "source": [
    "nombre_infected       918\n",
    "nombre_sain          1827\n",
    "nombre_exposed        438\n",
    "nombre_recovered    16817\n",
    "Name: 163, dtype: int64"
   ]
  },
  {
   "cell_type": "markdown",
   "id": "ff9fab25",
   "metadata": {},
   "source": [
    "nombre_infected       928\n",
    "nombre_sain          1802\n",
    "nombre_exposed        449\n",
    "nombre_recovered    16821\n",
    "Name: 164, dtype: int64"
   ]
  },
  {
   "cell_type": "markdown",
   "id": "9fe608d5",
   "metadata": {},
   "source": [
    "nombre_infected       923\n",
    "nombre_sain          1793\n",
    "nombre_exposed        461\n",
    "nombre_recovered    16823\n",
    "Name: 165, dtype: int64"
   ]
  },
  {
   "cell_type": "markdown",
   "id": "2dc0d62f",
   "metadata": {},
   "source": [
    "nombre_infected       899\n",
    "nombre_sain          1783\n",
    "nombre_exposed        463\n",
    "nombre_recovered    16855\n",
    "Name: 166, dtype: int64"
   ]
  },
  {
   "cell_type": "markdown",
   "id": "050e4026",
   "metadata": {},
   "source": [
    "nombre_infected       915\n",
    "nombre_sain          1781\n",
    "nombre_exposed        448\n",
    "nombre_recovered    16856\n",
    "Name: 167, dtype: int64"
   ]
  },
  {
   "cell_type": "markdown",
   "id": "4408aa95",
   "metadata": {},
   "source": [
    "nombre_infected       927\n",
    "nombre_sain          1766\n",
    "nombre_exposed        435\n",
    "nombre_recovered    16872\n",
    "Name: 168, dtype: int64"
   ]
  },
  {
   "cell_type": "markdown",
   "id": "0b252814",
   "metadata": {},
   "source": [
    "nombre_infected       920\n",
    "nombre_sain          1765\n",
    "nombre_exposed        438\n",
    "nombre_recovered    16877\n",
    "Name: 169, dtype: int64"
   ]
  },
  {
   "cell_type": "markdown",
   "id": "dff55ff3",
   "metadata": {},
   "source": [
    "nombre_infected       921\n",
    "nombre_sain          1742\n",
    "nombre_exposed        446\n",
    "nombre_recovered    16891\n",
    "Name: 170, dtype: int64"
   ]
  },
  {
   "cell_type": "markdown",
   "id": "b3260b0d",
   "metadata": {},
   "source": [
    "nombre_infected       924\n",
    "nombre_sain          1760\n",
    "nombre_exposed        422\n",
    "nombre_recovered    16894\n",
    "Name: 171, dtype: int64"
   ]
  },
  {
   "cell_type": "markdown",
   "id": "890f5e82",
   "metadata": {},
   "source": [
    "nombre_infected       923\n",
    "nombre_sain          1765\n",
    "nombre_exposed        430\n",
    "nombre_recovered    16882\n",
    "Name: 172, dtype: int64"
   ]
  },
  {
   "cell_type": "markdown",
   "id": "c2b776e5",
   "metadata": {},
   "source": [
    "nombre_infected       910\n",
    "nombre_sain          1766\n",
    "nombre_exposed        436\n",
    "nombre_recovered    16888\n",
    "Name: 173, dtype: int64"
   ]
  },
  {
   "cell_type": "markdown",
   "id": "72b98a81",
   "metadata": {},
   "source": [
    "nombre_infected       924\n",
    "nombre_sain          1759\n",
    "nombre_exposed        441\n",
    "nombre_recovered    16876\n",
    "Name: 174, dtype: int64"
   ]
  },
  {
   "cell_type": "markdown",
   "id": "b2c79106",
   "metadata": {},
   "source": [
    "nombre_infected       905\n",
    "nombre_sain          1740\n",
    "nombre_exposed        444\n",
    "nombre_recovered    16911\n",
    "Name: 175, dtype: int64"
   ]
  },
  {
   "cell_type": "markdown",
   "id": "9789a908",
   "metadata": {},
   "source": [
    "nombre_infected       897\n",
    "nombre_sain          1714\n",
    "nombre_exposed        437\n",
    "nombre_recovered    16952\n",
    "Name: 176, dtype: int64"
   ]
  },
  {
   "cell_type": "markdown",
   "id": "258e11fd",
   "metadata": {},
   "source": [
    "nombre_infected       884\n",
    "nombre_sain          1720\n",
    "nombre_exposed        425\n",
    "nombre_recovered    16971\n",
    "Name: 177, dtype: int64"
   ]
  },
  {
   "cell_type": "markdown",
   "id": "52a5896c",
   "metadata": {},
   "source": [
    "nombre_infected       884\n",
    "nombre_sain          1722\n",
    "nombre_exposed        413\n",
    "nombre_recovered    16981\n",
    "Name: 178, dtype: int64"
   ]
  },
  {
   "cell_type": "markdown",
   "id": "c1b48b3a",
   "metadata": {},
   "source": [
    "nombre_infected       875\n",
    "nombre_sain          1720\n",
    "nombre_exposed        396\n",
    "nombre_recovered    17009\n",
    "Name: 179, dtype: int64"
   ]
  },
  {
   "cell_type": "markdown",
   "id": "a0a14634",
   "metadata": {},
   "source": [
    "nombre_infected       871\n",
    "nombre_sain          1738\n",
    "nombre_exposed        371\n",
    "nombre_recovered    17020\n",
    "Name: 180, dtype: int64"
   ]
  },
  {
   "cell_type": "markdown",
   "id": "3b1fe12e",
   "metadata": {},
   "source": [
    "nombre_infected       840\n",
    "nombre_sain          1723\n",
    "nombre_exposed        390\n",
    "nombre_recovered    17047\n",
    "Name: 181, dtype: int64"
   ]
  },
  {
   "cell_type": "markdown",
   "id": "7ce87096",
   "metadata": {},
   "source": [
    "nombre_infected       813\n",
    "nombre_sain          1734\n",
    "nombre_exposed        399\n",
    "nombre_recovered    17054\n",
    "Name: 182, dtype: int64"
   ]
  },
  {
   "cell_type": "markdown",
   "id": "e14a3ae8",
   "metadata": {},
   "source": [
    "nombre_infected       786\n",
    "nombre_sain          1756\n",
    "nombre_exposed        389\n",
    "nombre_recovered    17069\n",
    "Name: 183, dtype: int64"
   ]
  },
  {
   "cell_type": "markdown",
   "id": "500f2434",
   "metadata": {},
   "source": [
    "nombre_infected       766\n",
    "nombre_sain          1782\n",
    "nombre_exposed        380\n",
    "nombre_recovered    17072\n",
    "Name: 184, dtype: int64"
   ]
  },
  {
   "cell_type": "markdown",
   "id": "9f7b454c",
   "metadata": {},
   "source": [
    "nombre_infected       744\n",
    "nombre_sain          1788\n",
    "nombre_exposed        375\n",
    "nombre_recovered    17093\n",
    "Name: 185, dtype: int64"
   ]
  },
  {
   "cell_type": "markdown",
   "id": "28ff19bc",
   "metadata": {},
   "source": [
    "nombre_infected       736\n",
    "nombre_sain          1807\n",
    "nombre_exposed        376\n",
    "nombre_recovered    17081\n",
    "Name: 186, dtype: int64"
   ]
  },
  {
   "cell_type": "markdown",
   "id": "b62278bc",
   "metadata": {},
   "source": [
    "nombre_infected       723\n",
    "nombre_sain          1838\n",
    "nombre_exposed        362\n",
    "nombre_recovered    17077\n",
    "Name: 187, dtype: int64"
   ]
  },
  {
   "cell_type": "markdown",
   "id": "53c38772",
   "metadata": {},
   "source": [
    "nombre_infected       696\n",
    "nombre_sain          1865\n",
    "nombre_exposed        361\n",
    "nombre_recovered    17078\n",
    "Name: 188, dtype: int64"
   ]
  },
  {
   "cell_type": "markdown",
   "id": "b64794da",
   "metadata": {},
   "source": [
    "nombre_infected       682\n",
    "nombre_sain          1876\n",
    "nombre_exposed        362\n",
    "nombre_recovered    17080\n",
    "Name: 189, dtype: int64"
   ]
  },
  {
   "cell_type": "markdown",
   "id": "b101c43e",
   "metadata": {},
   "source": [
    "nombre_infected       675\n",
    "nombre_sain          1905\n",
    "nombre_exposed        358\n",
    "nombre_recovered    17062\n",
    "Name: 190, dtype: int64"
   ]
  },
  {
   "cell_type": "markdown",
   "id": "601867f1",
   "metadata": {},
   "source": [
    "nombre_infected       666\n",
    "nombre_sain          1924\n",
    "nombre_exposed        353\n",
    "nombre_recovered    17057\n",
    "Name: 191, dtype: int64"
   ]
  },
  {
   "cell_type": "markdown",
   "id": "1b3ec83a",
   "metadata": {},
   "source": [
    "nombre_infected       661\n",
    "nombre_sain          1934\n",
    "nombre_exposed        350\n",
    "nombre_recovered    17055\n",
    "Name: 192, dtype: int64"
   ]
  },
  {
   "cell_type": "markdown",
   "id": "256292ef",
   "metadata": {},
   "source": [
    "nombre_infected       675\n",
    "nombre_sain          1945\n",
    "nombre_exposed        347\n",
    "nombre_recovered    17033\n",
    "Name: 193, dtype: int64"
   ]
  },
  {
   "cell_type": "markdown",
   "id": "d9934a61",
   "metadata": {},
   "source": [
    "nombre_infected       698\n",
    "nombre_sain          1933\n",
    "nombre_exposed        339\n",
    "nombre_recovered    17030\n",
    "Name: 194, dtype: int64"
   ]
  },
  {
   "cell_type": "markdown",
   "id": "bf121310",
   "metadata": {},
   "source": [
    "nombre_infected       675\n",
    "nombre_sain          1967\n",
    "nombre_exposed        345\n",
    "nombre_recovered    17013\n",
    "Name: 195, dtype: int64"
   ]
  },
  {
   "cell_type": "markdown",
   "id": "ee550596",
   "metadata": {},
   "source": [
    "nombre_infected       647\n",
    "nombre_sain          1992\n",
    "nombre_exposed        352\n",
    "nombre_recovered    17009\n",
    "Name: 196, dtype: int64"
   ]
  },
  {
   "cell_type": "markdown",
   "id": "36e30fed",
   "metadata": {},
   "source": [
    "nombre_infected       633\n",
    "nombre_sain          2020\n",
    "nombre_exposed        360\n",
    "nombre_recovered    16987\n",
    "Name: 197, dtype: int64"
   ]
  },
  {
   "cell_type": "markdown",
   "id": "92a5f70e",
   "metadata": {},
   "source": [
    "nombre_infected       632\n",
    "nombre_sain          2051\n",
    "nombre_exposed        347\n",
    "nombre_recovered    16970\n",
    "Name: 198, dtype: int64"
   ]
  },
  {
   "cell_type": "markdown",
   "id": "25ba8474",
   "metadata": {},
   "source": [
    "nombre_infected       626\n",
    "nombre_sain          2071\n",
    "nombre_exposed        346\n",
    "nombre_recovered    16957\n",
    "Name: 199, dtype: int64"
   ]
  },
  {
   "cell_type": "markdown",
   "id": "d00633ea",
   "metadata": {},
   "source": [
    "nombre_infected       639\n",
    "nombre_sain          2094\n",
    "nombre_exposed        343\n",
    "nombre_recovered    16924\n",
    "Name: 200, dtype: int64"
   ]
  },
  {
   "cell_type": "markdown",
   "id": "ecef59c0",
   "metadata": {},
   "source": [
    "nombre_infected       645\n",
    "nombre_sain          2110\n",
    "nombre_exposed        342\n",
    "nombre_recovered    16903\n",
    "Name: 201, dtype: int64"
   ]
  },
  {
   "cell_type": "markdown",
   "id": "67c3332c",
   "metadata": {},
   "source": [
    "nombre_infected       667\n",
    "nombre_sain          2118\n",
    "nombre_exposed        354\n",
    "nombre_recovered    16861\n",
    "Name: 202, dtype: int64"
   ]
  },
  {
   "cell_type": "markdown",
   "id": "d4f6ed2f",
   "metadata": {},
   "source": [
    "nombre_infected       680\n",
    "nombre_sain          2158\n",
    "nombre_exposed        355\n",
    "nombre_recovered    16807\n",
    "Name: 203, dtype: int64"
   ]
  },
  {
   "cell_type": "markdown",
   "id": "e6b50f7f",
   "metadata": {},
   "source": [
    "nombre_infected       681\n",
    "nombre_sain          2153\n",
    "nombre_exposed        382\n",
    "nombre_recovered    16784\n",
    "Name: 204, dtype: int64"
   ]
  },
  {
   "cell_type": "markdown",
   "id": "92711c65",
   "metadata": {},
   "source": [
    "nombre_infected       665\n",
    "nombre_sain          2190\n",
    "nombre_exposed        392\n",
    "nombre_recovered    16753\n",
    "Name: 205, dtype: int64"
   ]
  },
  {
   "cell_type": "markdown",
   "id": "4330972e",
   "metadata": {},
   "source": [
    "nombre_infected       688\n",
    "nombre_sain          2207\n",
    "nombre_exposed        395\n",
    "nombre_recovered    16710\n",
    "Name: 206, dtype: int64"
   ]
  },
  {
   "cell_type": "markdown",
   "id": "fd4bef89",
   "metadata": {},
   "source": [
    "nombre_infected       698\n",
    "nombre_sain          2218\n",
    "nombre_exposed        412\n",
    "nombre_recovered    16672\n",
    "Name: 207, dtype: int64"
   ]
  },
  {
   "cell_type": "markdown",
   "id": "faa77f4d",
   "metadata": {},
   "source": [
    "nombre_infected       721\n",
    "nombre_sain          2277\n",
    "nombre_exposed        399\n",
    "nombre_recovered    16603\n",
    "Name: 208, dtype: int64"
   ]
  },
  {
   "cell_type": "markdown",
   "id": "0dcc6348",
   "metadata": {},
   "source": [
    "nombre_infected       729\n",
    "nombre_sain          2315\n",
    "nombre_exposed        397\n",
    "nombre_recovered    16559\n",
    "Name: 209, dtype: int64"
   ]
  },
  {
   "cell_type": "markdown",
   "id": "37c44f4a",
   "metadata": {},
   "source": [
    "nombre_infected       753\n",
    "nombre_sain          2313\n",
    "nombre_exposed        406\n",
    "nombre_recovered    16528\n",
    "Name: 210, dtype: int64"
   ]
  },
  {
   "cell_type": "markdown",
   "id": "b74cc10d",
   "metadata": {},
   "source": [
    "nombre_infected       751\n",
    "nombre_sain          2339\n",
    "nombre_exposed        422\n",
    "nombre_recovered    16488\n",
    "Name: 211, dtype: int64"
   ]
  },
  {
   "cell_type": "markdown",
   "id": "f5b16c88",
   "metadata": {},
   "source": [
    "nombre_infected       752\n",
    "nombre_sain          2346\n",
    "nombre_exposed        431\n",
    "nombre_recovered    16471\n",
    "Name: 212, dtype: int64"
   ]
  },
  {
   "cell_type": "markdown",
   "id": "e1420843",
   "metadata": {},
   "source": [
    "nombre_infected       747\n",
    "nombre_sain          2376\n",
    "nombre_exposed        429\n",
    "nombre_recovered    16448\n",
    "Name: 213, dtype: int64"
   ]
  },
  {
   "cell_type": "markdown",
   "id": "9817f2c3",
   "metadata": {},
   "source": [
    "nombre_infected       766\n",
    "nombre_sain          2404\n",
    "nombre_exposed        406\n",
    "nombre_recovered    16424\n",
    "Name: 214, dtype: int64"
   ]
  },
  {
   "cell_type": "markdown",
   "id": "32b3a070",
   "metadata": {},
   "source": [
    "nombre_infected       760\n",
    "nombre_sain          2401\n",
    "nombre_exposed        424\n",
    "nombre_recovered    16415\n",
    "Name: 215, dtype: int64"
   ]
  },
  {
   "cell_type": "markdown",
   "id": "813a76af",
   "metadata": {},
   "source": [
    "nombre_infected       767\n",
    "nombre_sain          2400\n",
    "nombre_exposed        432\n",
    "nombre_recovered    16401\n",
    "Name: 216, dtype: int64"
   ]
  },
  {
   "cell_type": "markdown",
   "id": "8014233e",
   "metadata": {},
   "source": [
    "nombre_infected       775\n",
    "nombre_sain          2405\n",
    "nombre_exposed        448\n",
    "nombre_recovered    16372\n",
    "Name: 217, dtype: int64"
   ]
  },
  {
   "cell_type": "markdown",
   "id": "250e920b",
   "metadata": {},
   "source": [
    "nombre_infected       776\n",
    "nombre_sain          2415\n",
    "nombre_exposed        465\n",
    "nombre_recovered    16344\n",
    "Name: 218, dtype: int64"
   ]
  },
  {
   "cell_type": "markdown",
   "id": "783b297b",
   "metadata": {},
   "source": [
    "nombre_infected       791\n",
    "nombre_sain          2413\n",
    "nombre_exposed        472\n",
    "nombre_recovered    16324\n",
    "Name: 219, dtype: int64"
   ]
  },
  {
   "cell_type": "markdown",
   "id": "2b311de2",
   "metadata": {},
   "source": [
    "nombre_infected       831\n",
    "nombre_sain          2426\n",
    "nombre_exposed        443\n",
    "nombre_recovered    16300\n",
    "Name: 220, dtype: int64"
   ]
  },
  {
   "cell_type": "markdown",
   "id": "aed72b24",
   "metadata": {},
   "source": [
    "nombre_infected       831\n",
    "nombre_sain          2406\n",
    "nombre_exposed        455\n",
    "nombre_recovered    16308\n",
    "Name: 221, dtype: int64"
   ]
  },
  {
   "cell_type": "markdown",
   "id": "64613f2d",
   "metadata": {},
   "source": [
    "nombre_infected       826\n",
    "nombre_sain          2408\n",
    "nombre_exposed        455\n",
    "nombre_recovered    16311\n",
    "Name: 222, dtype: int64"
   ]
  },
  {
   "cell_type": "markdown",
   "id": "6cada220",
   "metadata": {},
   "source": [
    "nombre_infected       803\n",
    "nombre_sain          2417\n",
    "nombre_exposed        465\n",
    "nombre_recovered    16315\n",
    "Name: 223, dtype: int64"
   ]
  },
  {
   "cell_type": "markdown",
   "id": "a648db24",
   "metadata": {},
   "source": [
    "nombre_infected       828\n",
    "nombre_sain          2421\n",
    "nombre_exposed        451\n",
    "nombre_recovered    16300\n",
    "Name: 224, dtype: int64"
   ]
  },
  {
   "cell_type": "markdown",
   "id": "e76e5f9f",
   "metadata": {},
   "source": [
    "nombre_infected       845\n",
    "nombre_sain          2403\n",
    "nombre_exposed        459\n",
    "nombre_recovered    16293\n",
    "Name: 225, dtype: int64"
   ]
  },
  {
   "cell_type": "markdown",
   "id": "1ea2efb3",
   "metadata": {},
   "source": [
    "nombre_infected       845\n",
    "nombre_sain          2420\n",
    "nombre_exposed        486\n",
    "nombre_recovered    16249\n",
    "Name: 226, dtype: int64"
   ]
  },
  {
   "cell_type": "markdown",
   "id": "df45b4b3",
   "metadata": {},
   "source": [
    "nombre_infected       864\n",
    "nombre_sain          2415\n",
    "nombre_exposed        499\n",
    "nombre_recovered    16222\n",
    "Name: 227, dtype: int64"
   ]
  },
  {
   "cell_type": "markdown",
   "id": "f97b3585",
   "metadata": {},
   "source": [
    "nombre_infected       861\n",
    "nombre_sain          2406\n",
    "nombre_exposed        530\n",
    "nombre_recovered    16203\n",
    "Name: 228, dtype: int64"
   ]
  },
  {
   "cell_type": "markdown",
   "id": "74e533bb",
   "metadata": {},
   "source": [
    "nombre_infected       877\n",
    "nombre_sain          2424\n",
    "nombre_exposed        511\n",
    "nombre_recovered    16188\n",
    "Name: 229, dtype: int64"
   ]
  },
  {
   "cell_type": "markdown",
   "id": "3d5461a2",
   "metadata": {},
   "source": [
    "nombre_infected       896\n",
    "nombre_sain          2440\n",
    "nombre_exposed        506\n",
    "nombre_recovered    16158\n",
    "Name: 230, dtype: int64"
   ]
  },
  {
   "cell_type": "markdown",
   "id": "68ed8a30",
   "metadata": {},
   "source": [
    "nombre_infected       899\n",
    "nombre_sain          2422\n",
    "nombre_exposed        531\n",
    "nombre_recovered    16148\n",
    "Name: 231, dtype: int64"
   ]
  },
  {
   "cell_type": "markdown",
   "id": "46634efe",
   "metadata": {},
   "source": [
    "nombre_infected       906\n",
    "nombre_sain          2408\n",
    "nombre_exposed        546\n",
    "nombre_recovered    16140\n",
    "Name: 232, dtype: int64"
   ]
  },
  {
   "cell_type": "markdown",
   "id": "43e9b2b7",
   "metadata": {},
   "source": [
    "nombre_infected       911\n",
    "nombre_sain          2412\n",
    "nombre_exposed        559\n",
    "nombre_recovered    16118\n",
    "Name: 233, dtype: int64"
   ]
  },
  {
   "cell_type": "markdown",
   "id": "a7a3529c",
   "metadata": {},
   "source": [
    "nombre_infected       894\n",
    "nombre_sain          2405\n",
    "nombre_exposed        555\n",
    "nombre_recovered    16146\n",
    "Name: 234, dtype: int64"
   ]
  },
  {
   "cell_type": "markdown",
   "id": "6ef4903b",
   "metadata": {},
   "source": [
    "nombre_infected       939\n",
    "nombre_sain          2409\n",
    "nombre_exposed        533\n",
    "nombre_recovered    16119\n",
    "Name: 235, dtype: int64"
   ]
  },
  {
   "cell_type": "markdown",
   "id": "45975f85",
   "metadata": {},
   "source": [
    "nombre_infected       935\n",
    "nombre_sain          2372\n",
    "nombre_exposed        556\n",
    "nombre_recovered    16137\n",
    "Name: 236, dtype: int64"
   ]
  },
  {
   "cell_type": "markdown",
   "id": "fabc2601",
   "metadata": {},
   "source": [
    "nombre_infected       926\n",
    "nombre_sain          2358\n",
    "nombre_exposed        585\n",
    "nombre_recovered    16131\n",
    "Name: 237, dtype: int64"
   ]
  },
  {
   "cell_type": "markdown",
   "id": "fdf07f33",
   "metadata": {},
   "source": [
    "nombre_infected       936\n",
    "nombre_sain          2339\n",
    "nombre_exposed        564\n",
    "nombre_recovered    16161\n",
    "Name: 238, dtype: int64"
   ]
  },
  {
   "cell_type": "markdown",
   "id": "471a9df2",
   "metadata": {},
   "source": [
    "nombre_infected       950\n",
    "nombre_sain          2320\n",
    "nombre_exposed        557\n",
    "nombre_recovered    16173\n",
    "Name: 239, dtype: int64"
   ]
  },
  {
   "cell_type": "markdown",
   "id": "0831bc91",
   "metadata": {},
   "source": [
    "nombre_infected       960\n",
    "nombre_sain          2289\n",
    "nombre_exposed        561\n",
    "nombre_recovered    16190\n",
    "Name: 240, dtype: int64"
   ]
  },
  {
   "cell_type": "markdown",
   "id": "46ac4f92",
   "metadata": {},
   "source": [
    "nombre_infected       972\n",
    "nombre_sain          2230\n",
    "nombre_exposed        578\n",
    "nombre_recovered    16220\n",
    "Name: 241, dtype: int64"
   ]
  },
  {
   "cell_type": "markdown",
   "id": "b4368add",
   "metadata": {},
   "source": [
    "nombre_infected       996\n",
    "nombre_sain          2177\n",
    "nombre_exposed        577\n",
    "nombre_recovered    16250\n",
    "Name: 242, dtype: int64"
   ]
  },
  {
   "cell_type": "markdown",
   "id": "65416904",
   "metadata": {},
   "source": [
    "nombre_infected      1016\n",
    "nombre_sain          2158\n",
    "nombre_exposed        560\n",
    "nombre_recovered    16266\n",
    "Name: 243, dtype: int64"
   ]
  },
  {
   "cell_type": "markdown",
   "id": "bee614ae",
   "metadata": {},
   "source": [
    "nombre_infected      1031\n",
    "nombre_sain          2133\n",
    "nombre_exposed        553\n",
    "nombre_recovered    16283\n",
    "Name: 244, dtype: int64"
   ]
  },
  {
   "cell_type": "markdown",
   "id": "922be8ee",
   "metadata": {},
   "source": [
    "nombre_infected      1043\n",
    "nombre_sain          2078\n",
    "nombre_exposed        565\n",
    "nombre_recovered    16314\n",
    "Name: 245, dtype: int64"
   ]
  },
  {
   "cell_type": "markdown",
   "id": "cec4d5e2",
   "metadata": {},
   "source": [
    "nombre_infected      1042\n",
    "nombre_sain          2028\n",
    "nombre_exposed        580\n",
    "nombre_recovered    16350\n",
    "Name: 246, dtype: int64"
   ]
  },
  {
   "cell_type": "markdown",
   "id": "5abdb92b",
   "metadata": {},
   "source": [
    "nombre_infected      1064\n",
    "nombre_sain          2037\n",
    "nombre_exposed        545\n",
    "nombre_recovered    16354\n",
    "Name: 247, dtype: int64"
   ]
  },
  {
   "cell_type": "markdown",
   "id": "09a6fb39",
   "metadata": {},
   "source": [
    "nombre_infected      1069\n",
    "nombre_sain          2045\n",
    "nombre_exposed        516\n",
    "nombre_recovered    16370\n",
    "Name: 248, dtype: int64"
   ]
  },
  {
   "cell_type": "markdown",
   "id": "cddc0ffd",
   "metadata": {},
   "source": [
    "nombre_infected      1075\n",
    "nombre_sain          2044\n",
    "nombre_exposed        514\n",
    "nombre_recovered    16367\n",
    "Name: 249, dtype: int64"
   ]
  },
  {
   "cell_type": "markdown",
   "id": "47572bc5",
   "metadata": {},
   "source": [
    "nombre_infected      1095\n",
    "nombre_sain          2043\n",
    "nombre_exposed        522\n",
    "nombre_recovered    16340\n",
    "Name: 250, dtype: int64"
   ]
  },
  {
   "cell_type": "markdown",
   "id": "e54d1032",
   "metadata": {},
   "source": [
    "nombre_infected      1098\n",
    "nombre_sain          2042\n",
    "nombre_exposed        498\n",
    "nombre_recovered    16362\n",
    "Name: 251, dtype: int64"
   ]
  },
  {
   "cell_type": "markdown",
   "id": "f9a7b016",
   "metadata": {},
   "source": [
    "nombre_infected      1089\n",
    "nombre_sain          2004\n",
    "nombre_exposed        533\n",
    "nombre_recovered    16374\n",
    "Name: 252, dtype: int64"
   ]
  },
  {
   "cell_type": "markdown",
   "id": "600450fd",
   "metadata": {},
   "source": [
    "nombre_infected      1100\n",
    "nombre_sain          1995\n",
    "nombre_exposed        522\n",
    "nombre_recovered    16383\n",
    "Name: 253, dtype: int64"
   ]
  },
  {
   "cell_type": "markdown",
   "id": "db7644bc",
   "metadata": {},
   "source": [
    "nombre_infected      1111\n",
    "nombre_sain          1976\n",
    "nombre_exposed        518\n",
    "nombre_recovered    16395\n",
    "Name: 254, dtype: int64"
   ]
  },
  {
   "cell_type": "markdown",
   "id": "9b099554",
   "metadata": {},
   "source": [
    "nombre_infected      1122\n",
    "nombre_sain          1952\n",
    "nombre_exposed        513\n",
    "nombre_recovered    16413\n",
    "Name: 255, dtype: int64"
   ]
  },
  {
   "cell_type": "markdown",
   "id": "360bd231",
   "metadata": {},
   "source": [
    "nombre_infected      1126\n",
    "nombre_sain          1945\n",
    "nombre_exposed        523\n",
    "nombre_recovered    16406\n",
    "Name: 256, dtype: int64"
   ]
  },
  {
   "cell_type": "markdown",
   "id": "45796839",
   "metadata": {},
   "source": [
    "nombre_infected      1147\n",
    "nombre_sain          1934\n",
    "nombre_exposed        498\n",
    "nombre_recovered    16421\n",
    "Name: 257, dtype: int64"
   ]
  },
  {
   "cell_type": "markdown",
   "id": "d2a11ff3",
   "metadata": {},
   "source": [
    "nombre_infected      1134\n",
    "nombre_sain          1934\n",
    "nombre_exposed        492\n",
    "nombre_recovered    16440\n",
    "Name: 258, dtype: int64"
   ]
  },
  {
   "cell_type": "markdown",
   "id": "5ea22055",
   "metadata": {},
   "source": [
    "nombre_infected      1112\n",
    "nombre_sain          1923\n",
    "nombre_exposed        501\n",
    "nombre_recovered    16464\n",
    "Name: 259, dtype: int64"
   ]
  },
  {
   "cell_type": "markdown",
   "id": "2e157c8a",
   "metadata": {},
   "source": [
    "nombre_infected      1103\n",
    "nombre_sain          1894\n",
    "nombre_exposed        515\n",
    "nombre_recovered    16488\n",
    "Name: 260, dtype: int64"
   ]
  },
  {
   "cell_type": "markdown",
   "id": "d7e5496c",
   "metadata": {},
   "source": [
    "nombre_infected      1112\n",
    "nombre_sain          1908\n",
    "nombre_exposed        482\n",
    "nombre_recovered    16498\n",
    "Name: 261, dtype: int64"
   ]
  },
  {
   "cell_type": "markdown",
   "id": "336e37c3",
   "metadata": {},
   "source": [
    "nombre_infected      1060\n",
    "nombre_sain          1877\n",
    "nombre_exposed        518\n",
    "nombre_recovered    16545\n",
    "Name: 262, dtype: int64"
   ]
  },
  {
   "cell_type": "markdown",
   "id": "52677a36",
   "metadata": {},
   "source": [
    "nombre_infected      1070\n",
    "nombre_sain          1871\n",
    "nombre_exposed        498\n",
    "nombre_recovered    16561\n",
    "Name: 263, dtype: int64"
   ]
  },
  {
   "cell_type": "markdown",
   "id": "18755b4c",
   "metadata": {},
   "source": [
    "nombre_infected      1080\n",
    "nombre_sain          1882\n",
    "nombre_exposed        482\n",
    "nombre_recovered    16556\n",
    "Name: 264, dtype: int64"
   ]
  },
  {
   "cell_type": "markdown",
   "id": "a9f89c33",
   "metadata": {},
   "source": [
    "nombre_infected      1063\n",
    "nombre_sain          1874\n",
    "nombre_exposed        484\n",
    "nombre_recovered    16579\n",
    "Name: 265, dtype: int64"
   ]
  },
  {
   "cell_type": "markdown",
   "id": "3781315c",
   "metadata": {},
   "source": [
    "nombre_infected      1045\n",
    "nombre_sain          1851\n",
    "nombre_exposed        482\n",
    "nombre_recovered    16622\n",
    "Name: 266, dtype: int64"
   ]
  },
  {
   "cell_type": "markdown",
   "id": "2127c797",
   "metadata": {},
   "source": [
    "nombre_infected      1029\n",
    "nombre_sain          1842\n",
    "nombre_exposed        472\n",
    "nombre_recovered    16657\n",
    "Name: 267, dtype: int64"
   ]
  },
  {
   "cell_type": "markdown",
   "id": "c4a91f92",
   "metadata": {},
   "source": [
    "nombre_infected      1015\n",
    "nombre_sain          1846\n",
    "nombre_exposed        464\n",
    "nombre_recovered    16675\n",
    "Name: 268, dtype: int64"
   ]
  },
  {
   "cell_type": "markdown",
   "id": "f7fc8701",
   "metadata": {},
   "source": [
    "nombre_infected       990\n",
    "nombre_sain          1842\n",
    "nombre_exposed        468\n",
    "nombre_recovered    16700\n",
    "Name: 269, dtype: int64"
   ]
  },
  {
   "cell_type": "markdown",
   "id": "f5a557f1",
   "metadata": {},
   "source": [
    "nombre_infected       991\n",
    "nombre_sain          1827\n",
    "nombre_exposed        478\n",
    "nombre_recovered    16704\n",
    "Name: 270, dtype: int64"
   ]
  },
  {
   "cell_type": "markdown",
   "id": "3b534d37",
   "metadata": {},
   "source": [
    "nombre_infected       975\n",
    "nombre_sain          1841\n",
    "nombre_exposed        472\n",
    "nombre_recovered    16712\n",
    "Name: 271, dtype: int64"
   ]
  },
  {
   "cell_type": "markdown",
   "id": "2429c0ac",
   "metadata": {},
   "source": [
    "nombre_infected       975\n",
    "nombre_sain          1835\n",
    "nombre_exposed        468\n",
    "nombre_recovered    16722\n",
    "Name: 272, dtype: int64"
   ]
  },
  {
   "cell_type": "markdown",
   "id": "d6d9cc69",
   "metadata": {},
   "source": [
    "nombre_infected       958\n",
    "nombre_sain          1817\n",
    "nombre_exposed        475\n",
    "nombre_recovered    16750\n",
    "Name: 273, dtype: int64"
   ]
  },
  {
   "cell_type": "markdown",
   "id": "499f9aab",
   "metadata": {},
   "source": [
    "nombre_infected       959\n",
    "nombre_sain          1804\n",
    "nombre_exposed        486\n",
    "nombre_recovered    16751\n",
    "Name: 274, dtype: int64"
   ]
  },
  {
   "cell_type": "markdown",
   "id": "42f93cd2",
   "metadata": {},
   "source": [
    "nombre_infected       962\n",
    "nombre_sain          1804\n",
    "nombre_exposed        444\n",
    "nombre_recovered    16790\n",
    "Name: 275, dtype: int64"
   ]
  },
  {
   "cell_type": "markdown",
   "id": "9da88f55",
   "metadata": {},
   "source": [
    "nombre_infected       954\n",
    "nombre_sain          1812\n",
    "nombre_exposed        429\n",
    "nombre_recovered    16805\n",
    "Name: 276, dtype: int64"
   ]
  },
  {
   "cell_type": "markdown",
   "id": "11d57985",
   "metadata": {},
   "source": [
    "nombre_infected       948\n",
    "nombre_sain          1811\n",
    "nombre_exposed        416\n",
    "nombre_recovered    16825\n",
    "Name: 277, dtype: int64"
   ]
  },
  {
   "cell_type": "markdown",
   "id": "ea244729",
   "metadata": {},
   "source": [
    "nombre_infected       919\n",
    "nombre_sain          1818\n",
    "nombre_exposed        404\n",
    "nombre_recovered    16859\n",
    "Name: 278, dtype: int64"
   ]
  },
  {
   "cell_type": "markdown",
   "id": "bd277b03",
   "metadata": {},
   "source": [
    "nombre_infected       904\n",
    "nombre_sain          1820\n",
    "nombre_exposed        407\n",
    "nombre_recovered    16869\n",
    "Name: 279, dtype: int64"
   ]
  },
  {
   "cell_type": "markdown",
   "id": "214735ea",
   "metadata": {},
   "source": [
    "nombre_infected       904\n",
    "nombre_sain          1797\n",
    "nombre_exposed        421\n",
    "nombre_recovered    16878\n",
    "Name: 280, dtype: int64"
   ]
  },
  {
   "cell_type": "markdown",
   "id": "33742108",
   "metadata": {},
   "source": [
    "nombre_infected       884\n",
    "nombre_sain          1825\n",
    "nombre_exposed        416\n",
    "nombre_recovered    16875\n",
    "Name: 281, dtype: int64"
   ]
  },
  {
   "cell_type": "markdown",
   "id": "275f9720",
   "metadata": {},
   "source": [
    "nombre_infected       885\n",
    "nombre_sain          1827\n",
    "nombre_exposed        416\n",
    "nombre_recovered    16872\n",
    "Name: 282, dtype: int64"
   ]
  },
  {
   "cell_type": "markdown",
   "id": "e4d9da0b",
   "metadata": {},
   "source": [
    "nombre_infected       889\n",
    "nombre_sain          1850\n",
    "nombre_exposed        408\n",
    "nombre_recovered    16853\n",
    "Name: 283, dtype: int64"
   ]
  },
  {
   "cell_type": "markdown",
   "id": "96b81997",
   "metadata": {},
   "source": [
    "nombre_infected       878\n",
    "nombre_sain          1857\n",
    "nombre_exposed        427\n",
    "nombre_recovered    16838\n",
    "Name: 284, dtype: int64"
   ]
  },
  {
   "cell_type": "markdown",
   "id": "fbcb5eeb",
   "metadata": {},
   "source": [
    "nombre_infected       886\n",
    "nombre_sain          1870\n",
    "nombre_exposed        407\n",
    "nombre_recovered    16837\n",
    "Name: 285, dtype: int64"
   ]
  },
  {
   "cell_type": "markdown",
   "id": "ca513403",
   "metadata": {},
   "source": [
    "nombre_infected       860\n",
    "nombre_sain          1862\n",
    "nombre_exposed        416\n",
    "nombre_recovered    16862\n",
    "Name: 286, dtype: int64"
   ]
  },
  {
   "cell_type": "markdown",
   "id": "f0c9c063",
   "metadata": {},
   "source": [
    "nombre_infected       834\n",
    "nombre_sain          1879\n",
    "nombre_exposed        430\n",
    "nombre_recovered    16857\n",
    "Name: 287, dtype: int64"
   ]
  },
  {
   "cell_type": "markdown",
   "id": "7c0879bf",
   "metadata": {},
   "source": [
    "nombre_infected       820\n",
    "nombre_sain          1934\n",
    "nombre_exposed        406\n",
    "nombre_recovered    16840\n",
    "Name: 288, dtype: int64"
   ]
  },
  {
   "cell_type": "markdown",
   "id": "382da2f5",
   "metadata": {},
   "source": [
    "nombre_infected       813\n",
    "nombre_sain          1978\n",
    "nombre_exposed        406\n",
    "nombre_recovered    16803\n",
    "Name: 289, dtype: int64"
   ]
  },
  {
   "cell_type": "markdown",
   "id": "057af610",
   "metadata": {},
   "source": [
    "nombre_infected       797\n",
    "nombre_sain          2034\n",
    "nombre_exposed        413\n",
    "nombre_recovered    16756\n",
    "Name: 290, dtype: int64"
   ]
  },
  {
   "cell_type": "markdown",
   "id": "d48df13e",
   "metadata": {},
   "source": [
    "nombre_infected       800\n",
    "nombre_sain          2064\n",
    "nombre_exposed        412\n",
    "nombre_recovered    16724\n",
    "Name: 291, dtype: int64"
   ]
  },
  {
   "cell_type": "markdown",
   "id": "342f8bd0",
   "metadata": {},
   "source": [
    "nombre_infected       785\n",
    "nombre_sain          2102\n",
    "nombre_exposed        424\n",
    "nombre_recovered    16689\n",
    "Name: 292, dtype: int64"
   ]
  },
  {
   "cell_type": "markdown",
   "id": "19f715de",
   "metadata": {},
   "source": [
    "nombre_infected       760\n",
    "nombre_sain          2112\n",
    "nombre_exposed        451\n",
    "nombre_recovered    16677\n",
    "Name: 293, dtype: int64"
   ]
  },
  {
   "cell_type": "markdown",
   "id": "3e57d8a8",
   "metadata": {},
   "source": [
    "nombre_infected       789\n",
    "nombre_sain          2139\n",
    "nombre_exposed        436\n",
    "nombre_recovered    16636\n",
    "Name: 294, dtype: int64"
   ]
  },
  {
   "cell_type": "markdown",
   "id": "46e1407c",
   "metadata": {},
   "source": [
    "nombre_infected       796\n",
    "nombre_sain          2179\n",
    "nombre_exposed        419\n",
    "nombre_recovered    16606\n",
    "Name: 295, dtype: int64"
   ]
  },
  {
   "cell_type": "markdown",
   "id": "88023218",
   "metadata": {},
   "source": [
    "nombre_infected       775\n",
    "nombre_sain          2210\n",
    "nombre_exposed        427\n",
    "nombre_recovered    16588\n",
    "Name: 296, dtype: int64"
   ]
  },
  {
   "cell_type": "markdown",
   "id": "093c3974",
   "metadata": {},
   "source": [
    "nombre_infected       792\n",
    "nombre_sain          2216\n",
    "nombre_exposed        409\n",
    "nombre_recovered    16583\n",
    "Name: 297, dtype: int64"
   ]
  },
  {
   "cell_type": "markdown",
   "id": "b1c3031f",
   "metadata": {},
   "source": [
    "nombre_infected       776\n",
    "nombre_sain          2235\n",
    "nombre_exposed        426\n",
    "nombre_recovered    16563\n",
    "Name: 298, dtype: int64"
   ]
  },
  {
   "cell_type": "markdown",
   "id": "f9a9fe2b",
   "metadata": {},
   "source": [
    "nombre_infected       769\n",
    "nombre_sain          2235\n",
    "nombre_exposed        442\n",
    "nombre_recovered    16554\n",
    "Name: 299, dtype: int64"
   ]
  },
  {
   "cell_type": "markdown",
   "id": "83a29fa5",
   "metadata": {},
   "source": [
    "nombre_infected       784\n",
    "nombre_sain          2258\n",
    "nombre_exposed        446\n",
    "nombre_recovered    16512\n",
    "Name: 300, dtype: int64"
   ]
  },
  {
   "cell_type": "markdown",
   "id": "adb4ac51",
   "metadata": {},
   "source": [
    "nombre_infected       793\n",
    "nombre_sain          2243\n",
    "nombre_exposed        450\n",
    "nombre_recovered    16514\n",
    "Name: 301, dtype: int64"
   ]
  },
  {
   "cell_type": "markdown",
   "id": "2d62f95a",
   "metadata": {},
   "source": [
    "nombre_infected       804\n",
    "nombre_sain          2267\n",
    "nombre_exposed        440\n",
    "nombre_recovered    16489\n",
    "Name: 302, dtype: int64"
   ]
  },
  {
   "cell_type": "markdown",
   "id": "ae149526",
   "metadata": {},
   "source": [
    "nombre_infected       812\n",
    "nombre_sain          2298\n",
    "nombre_exposed        415\n",
    "nombre_recovered    16475\n",
    "Name: 303, dtype: int64"
   ]
  },
  {
   "cell_type": "markdown",
   "id": "1a53470d",
   "metadata": {},
   "source": [
    "nombre_infected       823\n",
    "nombre_sain          2280\n",
    "nombre_exposed        437\n",
    "nombre_recovered    16460\n",
    "Name: 304, dtype: int64"
   ]
  },
  {
   "cell_type": "markdown",
   "id": "1bdc0332",
   "metadata": {},
   "source": [
    "nombre_infected       822\n",
    "nombre_sain          2283\n",
    "nombre_exposed        466\n",
    "nombre_recovered    16429\n",
    "Name: 305, dtype: int64"
   ]
  },
  {
   "cell_type": "markdown",
   "id": "0a35348f",
   "metadata": {},
   "source": [
    "nombre_infected       835\n",
    "nombre_sain          2296\n",
    "nombre_exposed        461\n",
    "nombre_recovered    16408\n",
    "Name: 306, dtype: int64"
   ]
  },
  {
   "cell_type": "markdown",
   "id": "a1126bb7",
   "metadata": {},
   "source": [
    "nombre_infected       819\n",
    "nombre_sain          2294\n",
    "nombre_exposed        474\n",
    "nombre_recovered    16413\n",
    "Name: 307, dtype: int64"
   ]
  },
  {
   "cell_type": "markdown",
   "id": "a51420d8",
   "metadata": {},
   "source": [
    "nombre_infected       842\n",
    "nombre_sain          2301\n",
    "nombre_exposed        466\n",
    "nombre_recovered    16391\n",
    "Name: 308, dtype: int64"
   ]
  },
  {
   "cell_type": "markdown",
   "id": "8d00cc5b",
   "metadata": {},
   "source": [
    "nombre_infected       865\n",
    "nombre_sain          2295\n",
    "nombre_exposed        468\n",
    "nombre_recovered    16372\n",
    "Name: 309, dtype: int64"
   ]
  },
  {
   "cell_type": "markdown",
   "id": "2d9ddc7e",
   "metadata": {},
   "source": [
    "nombre_infected       884\n",
    "nombre_sain          2300\n",
    "nombre_exposed        453\n",
    "nombre_recovered    16363\n",
    "Name: 310, dtype: int64"
   ]
  },
  {
   "cell_type": "markdown",
   "id": "9aa2baa7",
   "metadata": {},
   "source": [
    "nombre_infected       868\n",
    "nombre_sain          2297\n",
    "nombre_exposed        462\n",
    "nombre_recovered    16373\n",
    "Name: 311, dtype: int64"
   ]
  },
  {
   "cell_type": "markdown",
   "id": "d4102048",
   "metadata": {},
   "source": [
    "nombre_infected       891\n",
    "nombre_sain          2290\n",
    "nombre_exposed        456\n",
    "nombre_recovered    16363\n",
    "Name: 312, dtype: int64"
   ]
  },
  {
   "cell_type": "markdown",
   "id": "6787b125",
   "metadata": {},
   "source": [
    "nombre_infected       871\n",
    "nombre_sain          2271\n",
    "nombre_exposed        488\n",
    "nombre_recovered    16370\n",
    "Name: 313, dtype: int64"
   ]
  },
  {
   "cell_type": "markdown",
   "id": "129b7d97",
   "metadata": {},
   "source": [
    "nombre_infected       866\n",
    "nombre_sain          2265\n",
    "nombre_exposed        499\n",
    "nombre_recovered    16370\n",
    "Name: 314, dtype: int64"
   ]
  },
  {
   "cell_type": "markdown",
   "id": "7a6035c9",
   "metadata": {},
   "source": [
    "nombre_infected       881\n",
    "nombre_sain          2277\n",
    "nombre_exposed        494\n",
    "nombre_recovered    16348\n",
    "Name: 315, dtype: int64"
   ]
  },
  {
   "cell_type": "markdown",
   "id": "ca5cf4c7",
   "metadata": {},
   "source": [
    "nombre_infected       882\n",
    "nombre_sain          2287\n",
    "nombre_exposed        510\n",
    "nombre_recovered    16321\n",
    "Name: 316, dtype: int64"
   ]
  },
  {
   "cell_type": "markdown",
   "id": "de54fcc6",
   "metadata": {},
   "source": [
    "nombre_infected       866\n",
    "nombre_sain          2281\n",
    "nombre_exposed        522\n",
    "nombre_recovered    16331\n",
    "Name: 317, dtype: int64"
   ]
  },
  {
   "cell_type": "markdown",
   "id": "12fef303",
   "metadata": {},
   "source": [
    "nombre_infected       872\n",
    "nombre_sain          2270\n",
    "nombre_exposed        531\n",
    "nombre_recovered    16327\n",
    "Name: 318, dtype: int64"
   ]
  },
  {
   "cell_type": "markdown",
   "id": "bef6e4f3",
   "metadata": {},
   "source": [
    "nombre_infected       890\n",
    "nombre_sain          2266\n",
    "nombre_exposed        528\n",
    "nombre_recovered    16316\n",
    "Name: 319, dtype: int64"
   ]
  },
  {
   "cell_type": "markdown",
   "id": "5259690b",
   "metadata": {},
   "source": [
    "nombre_infected       912\n",
    "nombre_sain          2264\n",
    "nombre_exposed        532\n",
    "nombre_recovered    16292\n",
    "Name: 320, dtype: int64"
   ]
  },
  {
   "cell_type": "markdown",
   "id": "c8296056",
   "metadata": {},
   "source": [
    "nombre_infected       918\n",
    "nombre_sain          2243\n",
    "nombre_exposed        540\n",
    "nombre_recovered    16299\n",
    "Name: 321, dtype: int64"
   ]
  },
  {
   "cell_type": "markdown",
   "id": "89329884",
   "metadata": {},
   "source": [
    "nombre_infected       917\n",
    "nombre_sain          2222\n",
    "nombre_exposed        550\n",
    "nombre_recovered    16311\n",
    "Name: 322, dtype: int64"
   ]
  },
  {
   "cell_type": "markdown",
   "id": "c7c06fc9",
   "metadata": {},
   "source": [
    "nombre_infected       931\n",
    "nombre_sain          2240\n",
    "nombre_exposed        525\n",
    "nombre_recovered    16304\n",
    "Name: 323, dtype: int64"
   ]
  },
  {
   "cell_type": "markdown",
   "id": "1252ac5c",
   "metadata": {},
   "source": [
    "nombre_infected       948\n",
    "nombre_sain          2221\n",
    "nombre_exposed        510\n",
    "nombre_recovered    16321\n",
    "Name: 324, dtype: int64"
   ]
  },
  {
   "cell_type": "markdown",
   "id": "a1cf3cb1",
   "metadata": {},
   "source": [
    "nombre_infected       937\n",
    "nombre_sain          2201\n",
    "nombre_exposed        522\n",
    "nombre_recovered    16340\n",
    "Name: 325, dtype: int64"
   ]
  },
  {
   "cell_type": "markdown",
   "id": "ef4ed38d",
   "metadata": {},
   "source": [
    "nombre_infected       959\n",
    "nombre_sain          2193\n",
    "nombre_exposed        520\n",
    "nombre_recovered    16328\n",
    "Name: 326, dtype: int64"
   ]
  },
  {
   "cell_type": "markdown",
   "id": "4f382e67",
   "metadata": {},
   "source": [
    "nombre_infected       977\n",
    "nombre_sain          2197\n",
    "nombre_exposed        524\n",
    "nombre_recovered    16302\n",
    "Name: 327, dtype: int64"
   ]
  },
  {
   "cell_type": "markdown",
   "id": "74ad6cd4",
   "metadata": {},
   "source": [
    "nombre_infected       976\n",
    "nombre_sain          2190\n",
    "nombre_exposed        523\n",
    "nombre_recovered    16311\n",
    "Name: 328, dtype: int64"
   ]
  },
  {
   "cell_type": "markdown",
   "id": "3de59476",
   "metadata": {},
   "source": [
    "nombre_infected       982\n",
    "nombre_sain          2169\n",
    "nombre_exposed        537\n",
    "nombre_recovered    16312\n",
    "Name: 329, dtype: int64"
   ]
  },
  {
   "cell_type": "markdown",
   "id": "fd818988",
   "metadata": {},
   "source": [
    "nombre_infected       976\n",
    "nombre_sain          2168\n",
    "nombre_exposed        522\n",
    "nombre_recovered    16334\n",
    "Name: 330, dtype: int64"
   ]
  },
  {
   "cell_type": "markdown",
   "id": "8e75690f",
   "metadata": {},
   "source": [
    "nombre_infected       992\n",
    "nombre_sain          2179\n",
    "nombre_exposed        507\n",
    "nombre_recovered    16322\n",
    "Name: 331, dtype: int64"
   ]
  },
  {
   "cell_type": "markdown",
   "id": "f406c708",
   "metadata": {},
   "source": [
    "nombre_infected       982\n",
    "nombre_sain          2169\n",
    "nombre_exposed        498\n",
    "nombre_recovered    16351\n",
    "Name: 332, dtype: int64"
   ]
  },
  {
   "cell_type": "markdown",
   "id": "4c766abc",
   "metadata": {},
   "source": [
    "nombre_infected       971\n",
    "nombre_sain          2164\n",
    "nombre_exposed        513\n",
    "nombre_recovered    16352\n",
    "Name: 333, dtype: int64"
   ]
  },
  {
   "cell_type": "markdown",
   "id": "93a78fd9",
   "metadata": {},
   "source": [
    "nombre_infected       948\n",
    "nombre_sain          2165\n",
    "nombre_exposed        512\n",
    "nombre_recovered    16375\n",
    "Name: 334, dtype: int64"
   ]
  },
  {
   "cell_type": "markdown",
   "id": "e738a7dc",
   "metadata": {},
   "source": [
    "nombre_infected       934\n",
    "nombre_sain          2139\n",
    "nombre_exposed        525\n",
    "nombre_recovered    16402\n",
    "Name: 335, dtype: int64"
   ]
  },
  {
   "cell_type": "markdown",
   "id": "7a1ee0bc",
   "metadata": {},
   "source": [
    "nombre_infected       932\n",
    "nombre_sain          2105\n",
    "nombre_exposed        530\n",
    "nombre_recovered    16433\n",
    "Name: 336, dtype: int64"
   ]
  },
  {
   "cell_type": "markdown",
   "id": "bdc4af90",
   "metadata": {},
   "source": [
    "nombre_infected       935\n",
    "nombre_sain          2115\n",
    "nombre_exposed        521\n",
    "nombre_recovered    16429\n",
    "Name: 337, dtype: int64"
   ]
  },
  {
   "cell_type": "markdown",
   "id": "909ac34b",
   "metadata": {},
   "source": [
    "nombre_infected       956\n",
    "nombre_sain          2119\n",
    "nombre_exposed        491\n",
    "nombre_recovered    16434\n",
    "Name: 338, dtype: int64"
   ]
  },
  {
   "cell_type": "markdown",
   "id": "394ab2e6",
   "metadata": {},
   "source": [
    "nombre_infected       959\n",
    "nombre_sain          2121\n",
    "nombre_exposed        485\n",
    "nombre_recovered    16435\n",
    "Name: 339, dtype: int64"
   ]
  },
  {
   "cell_type": "markdown",
   "id": "0970f98f",
   "metadata": {},
   "source": [
    "nombre_infected       927\n",
    "nombre_sain          2107\n",
    "nombre_exposed        507\n",
    "nombre_recovered    16459\n",
    "Name: 340, dtype: int64"
   ]
  },
  {
   "cell_type": "markdown",
   "id": "54b86ac3",
   "metadata": {},
   "source": [
    "nombre_infected       907\n",
    "nombre_sain          2069\n",
    "nombre_exposed        536\n",
    "nombre_recovered    16488\n",
    "Name: 341, dtype: int64"
   ]
  },
  {
   "cell_type": "markdown",
   "id": "4710fc8b",
   "metadata": {},
   "source": [
    "nombre_infected       909\n",
    "nombre_sain          2064\n",
    "nombre_exposed        525\n",
    "nombre_recovered    16502\n",
    "Name: 342, dtype: int64"
   ]
  },
  {
   "cell_type": "markdown",
   "id": "1eac3f1a",
   "metadata": {},
   "source": [
    "nombre_infected       924\n",
    "nombre_sain          2062\n",
    "nombre_exposed        507\n",
    "nombre_recovered    16507\n",
    "Name: 343, dtype: int64"
   ]
  },
  {
   "cell_type": "markdown",
   "id": "1c782636",
   "metadata": {},
   "source": [
    "nombre_infected       916\n",
    "nombre_sain          2063\n",
    "nombre_exposed        506\n",
    "nombre_recovered    16515\n",
    "Name: 344, dtype: int64"
   ]
  },
  {
   "cell_type": "markdown",
   "id": "1c100bd9",
   "metadata": {},
   "source": [
    "nombre_infected       930\n",
    "nombre_sain          2033\n",
    "nombre_exposed        493\n",
    "nombre_recovered    16544\n",
    "Name: 345, dtype: int64"
   ]
  },
  {
   "cell_type": "markdown",
   "id": "e115e1fe",
   "metadata": {},
   "source": [
    "nombre_infected       929\n",
    "nombre_sain          2033\n",
    "nombre_exposed        501\n",
    "nombre_recovered    16537\n",
    "Name: 346, dtype: int64"
   ]
  },
  {
   "cell_type": "markdown",
   "id": "9b14a14d",
   "metadata": {},
   "source": [
    "nombre_infected       927\n",
    "nombre_sain          2035\n",
    "nombre_exposed        496\n",
    "nombre_recovered    16542\n",
    "Name: 347, dtype: int64"
   ]
  },
  {
   "cell_type": "markdown",
   "id": "df079359",
   "metadata": {},
   "source": [
    "nombre_infected       917\n",
    "nombre_sain          2036\n",
    "nombre_exposed        497\n",
    "nombre_recovered    16550\n",
    "Name: 348, dtype: int64"
   ]
  },
  {
   "cell_type": "markdown",
   "id": "6d672f47",
   "metadata": {},
   "source": [
    "nombre_infected       916\n",
    "nombre_sain          2050\n",
    "nombre_exposed        483\n",
    "nombre_recovered    16551\n",
    "Name: 349, dtype: int64"
   ]
  },
  {
   "cell_type": "markdown",
   "id": "497cc31d",
   "metadata": {},
   "source": [
    "nombre_infected       922\n",
    "nombre_sain          2045\n",
    "nombre_exposed        488\n",
    "nombre_recovered    16545\n",
    "Name: 350, dtype: int64"
   ]
  },
  {
   "cell_type": "markdown",
   "id": "f92841c4",
   "metadata": {},
   "source": [
    "nombre_infected       903\n",
    "nombre_sain          2064\n",
    "nombre_exposed        481\n",
    "nombre_recovered    16552\n",
    "Name: 351, dtype: int64"
   ]
  },
  {
   "cell_type": "markdown",
   "id": "59da179d",
   "metadata": {},
   "source": [
    "nombre_infected       903\n",
    "nombre_sain          2081\n",
    "nombre_exposed        474\n",
    "nombre_recovered    16542\n",
    "Name: 352, dtype: int64"
   ]
  },
  {
   "cell_type": "markdown",
   "id": "572f05a9",
   "metadata": {},
   "source": [
    "nombre_infected       905\n",
    "nombre_sain          2111\n",
    "nombre_exposed        473\n",
    "nombre_recovered    16511\n",
    "Name: 353, dtype: int64"
   ]
  },
  {
   "cell_type": "markdown",
   "id": "dbfacf85",
   "metadata": {},
   "source": [
    "nombre_infected       890\n",
    "nombre_sain          2138\n",
    "nombre_exposed        479\n",
    "nombre_recovered    16493\n",
    "Name: 354, dtype: int64"
   ]
  },
  {
   "cell_type": "markdown",
   "id": "092c110c",
   "metadata": {},
   "source": [
    "nombre_infected       897\n",
    "nombre_sain          2141\n",
    "nombre_exposed        484\n",
    "nombre_recovered    16478\n",
    "Name: 355, dtype: int64"
   ]
  },
  {
   "cell_type": "markdown",
   "id": "1eed4631",
   "metadata": {},
   "source": [
    "nombre_infected       890\n",
    "nombre_sain          2140\n",
    "nombre_exposed        494\n",
    "nombre_recovered    16476\n",
    "Name: 356, dtype: int64"
   ]
  },
  {
   "cell_type": "markdown",
   "id": "88ee3602",
   "metadata": {},
   "source": [
    "nombre_infected       904\n",
    "nombre_sain          2158\n",
    "nombre_exposed        496\n",
    "nombre_recovered    16442\n",
    "Name: 357, dtype: int64"
   ]
  },
  {
   "cell_type": "markdown",
   "id": "e5abbb21",
   "metadata": {},
   "source": [
    "nombre_infected       928\n",
    "nombre_sain          2151\n",
    "nombre_exposed        491\n",
    "nombre_recovered    16430\n",
    "Name: 358, dtype: int64"
   ]
  },
  {
   "cell_type": "markdown",
   "id": "9f7f3533",
   "metadata": {},
   "source": [
    "nombre_infected       943\n",
    "nombre_sain          2168\n",
    "nombre_exposed        483\n",
    "nombre_recovered    16406\n",
    "Name: 359, dtype: int64"
   ]
  },
  {
   "cell_type": "markdown",
   "id": "7b844dd5",
   "metadata": {},
   "source": [
    "nombre_infected       956\n",
    "nombre_sain          2190\n",
    "nombre_exposed        470\n",
    "nombre_recovered    16384\n",
    "Name: 360, dtype: int64"
   ]
  },
  {
   "cell_type": "markdown",
   "id": "1af1c568",
   "metadata": {},
   "source": [
    "nombre_infected       946\n",
    "nombre_sain          2153\n",
    "nombre_exposed        515\n",
    "nombre_recovered    16386\n",
    "Name: 361, dtype: int64"
   ]
  },
  {
   "cell_type": "markdown",
   "id": "8895483e",
   "metadata": {},
   "source": [
    "nombre_infected       968\n",
    "nombre_sain          2142\n",
    "nombre_exposed        521\n",
    "nombre_recovered    16369\n",
    "Name: 362, dtype: int64"
   ]
  },
  {
   "cell_type": "markdown",
   "id": "833e8cba",
   "metadata": {},
   "source": [
    "nombre_infected       980\n",
    "nombre_sain          2137\n",
    "nombre_exposed        532\n",
    "nombre_recovered    16351\n",
    "Name: 363, dtype: int64"
   ]
  },
  {
   "cell_type": "markdown",
   "id": "e8d0c113",
   "metadata": {},
   "source": [
    "nombre_infected       982\n",
    "nombre_sain          2166\n",
    "nombre_exposed        519\n",
    "nombre_recovered    16333\n",
    "Name: 364, dtype: int64"
   ]
  },
  {
   "cell_type": "markdown",
   "id": "88aace20",
   "metadata": {},
   "source": [
    "nombre_infected       968\n",
    "nombre_sain          2176\n",
    "nombre_exposed        515\n",
    "nombre_recovered    16341\n",
    "Name: 365, dtype: int64"
   ]
  },
  {
   "cell_type": "markdown",
   "id": "1806f1c0",
   "metadata": {},
   "source": [
    "nombre_infected       968\n",
    "nombre_sain          2155\n",
    "nombre_exposed        524\n",
    "nombre_recovered    16353\n",
    "Name: 366, dtype: int64"
   ]
  },
  {
   "cell_type": "markdown",
   "id": "b7ed1788",
   "metadata": {},
   "source": [
    "nombre_infected       984\n",
    "nombre_sain          2155\n",
    "nombre_exposed        513\n",
    "nombre_recovered    16348\n",
    "Name: 367, dtype: int64"
   ]
  },
  {
   "cell_type": "markdown",
   "id": "b0b3e1a8",
   "metadata": {},
   "source": [
    "nombre_infected       968\n",
    "nombre_sain          2145\n",
    "nombre_exposed        528\n",
    "nombre_recovered    16359\n",
    "Name: 368, dtype: int64"
   ]
  },
  {
   "cell_type": "markdown",
   "id": "c4487ff5",
   "metadata": {},
   "source": [
    "nombre_infected       975\n",
    "nombre_sain          2153\n",
    "nombre_exposed        531\n",
    "nombre_recovered    16341\n",
    "Name: 369, dtype: int64"
   ]
  },
  {
   "cell_type": "markdown",
   "id": "71a04b82",
   "metadata": {},
   "source": [
    "nombre_infected       960\n",
    "nombre_sain          2163\n",
    "nombre_exposed        531\n",
    "nombre_recovered    16346\n",
    "Name: 370, dtype: int64"
   ]
  },
  {
   "cell_type": "markdown",
   "id": "b37f9630",
   "metadata": {},
   "source": [
    "nombre_infected       983\n",
    "nombre_sain          2160\n",
    "nombre_exposed        522\n",
    "nombre_recovered    16335\n",
    "Name: 371, dtype: int64"
   ]
  },
  {
   "cell_type": "markdown",
   "id": "5271c4e2",
   "metadata": {},
   "source": [
    "nombre_infected       979\n",
    "nombre_sain          2154\n",
    "nombre_exposed        515\n",
    "nombre_recovered    16352\n",
    "Name: 372, dtype: int64"
   ]
  },
  {
   "cell_type": "markdown",
   "id": "bd2d67cd",
   "metadata": {},
   "source": [
    "nombre_infected       969\n",
    "nombre_sain          2149\n",
    "nombre_exposed        539\n",
    "nombre_recovered    16343\n",
    "Name: 373, dtype: int64"
   ]
  },
  {
   "cell_type": "markdown",
   "id": "f9906612",
   "metadata": {},
   "source": [
    "nombre_infected       975\n",
    "nombre_sain          2165\n",
    "nombre_exposed        526\n",
    "nombre_recovered    16334\n",
    "Name: 374, dtype: int64"
   ]
  },
  {
   "cell_type": "markdown",
   "id": "f7a070ad",
   "metadata": {},
   "source": [
    "nombre_infected       978\n",
    "nombre_sain          2155\n",
    "nombre_exposed        544\n",
    "nombre_recovered    16323\n",
    "Name: 375, dtype: int64"
   ]
  },
  {
   "cell_type": "markdown",
   "id": "63244fe9",
   "metadata": {},
   "source": [
    "nombre_infected       999\n",
    "nombre_sain          2186\n",
    "nombre_exposed        533\n",
    "nombre_recovered    16282\n",
    "Name: 376, dtype: int64"
   ]
  },
  {
   "cell_type": "markdown",
   "id": "f202b3d0",
   "metadata": {},
   "source": [
    "nombre_infected      1008\n",
    "nombre_sain          2176\n",
    "nombre_exposed        539\n",
    "nombre_recovered    16277\n",
    "Name: 377, dtype: int64"
   ]
  },
  {
   "cell_type": "markdown",
   "id": "ddb26750",
   "metadata": {},
   "source": [
    "nombre_infected      1019\n",
    "nombre_sain          2173\n",
    "nombre_exposed        536\n",
    "nombre_recovered    16272\n",
    "Name: 378, dtype: int64"
   ]
  },
  {
   "cell_type": "markdown",
   "id": "5bc60d2c",
   "metadata": {},
   "source": [
    "nombre_infected       994\n",
    "nombre_sain          2174\n",
    "nombre_exposed        539\n",
    "nombre_recovered    16293\n",
    "Name: 379, dtype: int64"
   ]
  },
  {
   "cell_type": "markdown",
   "id": "4206b040",
   "metadata": {},
   "source": [
    "nombre_infected       996\n",
    "nombre_sain          2186\n",
    "nombre_exposed        518\n",
    "nombre_recovered    16300\n",
    "Name: 380, dtype: int64"
   ]
  },
  {
   "cell_type": "markdown",
   "id": "36abfd83",
   "metadata": {},
   "source": [
    "nombre_infected      1001\n",
    "nombre_sain          2161\n",
    "nombre_exposed        528\n",
    "nombre_recovered    16310\n",
    "Name: 381, dtype: int64"
   ]
  },
  {
   "cell_type": "markdown",
   "id": "d58ce63f",
   "metadata": {},
   "source": [
    "nombre_infected       976\n",
    "nombre_sain          2139\n",
    "nombre_exposed        550\n",
    "nombre_recovered    16335\n",
    "Name: 382, dtype: int64"
   ]
  },
  {
   "cell_type": "markdown",
   "id": "ca6bff09",
   "metadata": {},
   "source": [
    "nombre_infected       969\n",
    "nombre_sain          2141\n",
    "nombre_exposed        556\n",
    "nombre_recovered    16334\n",
    "Name: 383, dtype: int64"
   ]
  },
  {
   "cell_type": "markdown",
   "id": "5bb54fc0",
   "metadata": {},
   "source": [
    "nombre_infected       986\n",
    "nombre_sain          2153\n",
    "nombre_exposed        551\n",
    "nombre_recovered    16310\n",
    "Name: 384, dtype: int64"
   ]
  },
  {
   "cell_type": "markdown",
   "id": "13628f2f",
   "metadata": {},
   "source": [
    "nombre_infected       974\n",
    "nombre_sain          2137\n",
    "nombre_exposed        544\n",
    "nombre_recovered    16345\n",
    "Name: 385, dtype: int64"
   ]
  },
  {
   "cell_type": "markdown",
   "id": "306f522b",
   "metadata": {},
   "source": [
    "nombre_infected       982\n",
    "nombre_sain          2114\n",
    "nombre_exposed        527\n",
    "nombre_recovered    16377\n",
    "Name: 386, dtype: int64"
   ]
  },
  {
   "cell_type": "markdown",
   "id": "575b3afa",
   "metadata": {},
   "source": [
    "nombre_infected       977\n",
    "nombre_sain          2095\n",
    "nombre_exposed        542\n",
    "nombre_recovered    16386\n",
    "Name: 387, dtype: int64"
   ]
  },
  {
   "cell_type": "markdown",
   "id": "458f3370",
   "metadata": {},
   "source": [
    "nombre_infected       962\n",
    "nombre_sain          2139\n",
    "nombre_exposed        517\n",
    "nombre_recovered    16382\n",
    "Name: 388, dtype: int64"
   ]
  },
  {
   "cell_type": "markdown",
   "id": "0ad954a1",
   "metadata": {},
   "source": [
    "nombre_infected       950\n",
    "nombre_sain          2153\n",
    "nombre_exposed        515\n",
    "nombre_recovered    16382\n",
    "Name: 389, dtype: int64"
   ]
  },
  {
   "cell_type": "markdown",
   "id": "037d6ba7",
   "metadata": {},
   "source": [
    "nombre_infected       949\n",
    "nombre_sain          2182\n",
    "nombre_exposed        509\n",
    "nombre_recovered    16360\n",
    "Name: 390, dtype: int64"
   ]
  },
  {
   "cell_type": "markdown",
   "id": "68d9de63",
   "metadata": {},
   "source": [
    "nombre_infected       910\n",
    "nombre_sain          2175\n",
    "nombre_exposed        527\n",
    "nombre_recovered    16388\n",
    "Name: 391, dtype: int64"
   ]
  },
  {
   "cell_type": "markdown",
   "id": "e9977d66",
   "metadata": {},
   "source": [
    "nombre_infected       915\n",
    "nombre_sain          2159\n",
    "nombre_exposed        537\n",
    "nombre_recovered    16389\n",
    "Name: 392, dtype: int64"
   ]
  },
  {
   "cell_type": "markdown",
   "id": "9bd89365",
   "metadata": {},
   "source": [
    "nombre_infected       928\n",
    "nombre_sain          2176\n",
    "nombre_exposed        518\n",
    "nombre_recovered    16378\n",
    "Name: 393, dtype: int64"
   ]
  },
  {
   "cell_type": "markdown",
   "id": "672752f9",
   "metadata": {},
   "source": [
    "nombre_infected       932\n",
    "nombre_sain          2163\n",
    "nombre_exposed        538\n",
    "nombre_recovered    16367\n",
    "Name: 394, dtype: int64"
   ]
  },
  {
   "cell_type": "markdown",
   "id": "81249f5c",
   "metadata": {},
   "source": [
    "nombre_infected       918\n",
    "nombre_sain          2153\n",
    "nombre_exposed        543\n",
    "nombre_recovered    16386\n",
    "Name: 395, dtype: int64"
   ]
  },
  {
   "cell_type": "markdown",
   "id": "6809535d",
   "metadata": {},
   "source": [
    "nombre_infected       944\n",
    "nombre_sain          2133\n",
    "nombre_exposed        529\n",
    "nombre_recovered    16394\n",
    "Name: 396, dtype: int64"
   ]
  },
  {
   "cell_type": "markdown",
   "id": "8d4d1dd1",
   "metadata": {},
   "source": [
    "nombre_infected       962\n",
    "nombre_sain          2128\n",
    "nombre_exposed        517\n",
    "nombre_recovered    16393\n",
    "Name: 397, dtype: int64"
   ]
  },
  {
   "cell_type": "markdown",
   "id": "fbbbc75c",
   "metadata": {},
   "source": [
    "nombre_infected       952\n",
    "nombre_sain          2120\n",
    "nombre_exposed        531\n",
    "nombre_recovered    16397\n",
    "Name: 398, dtype: int64"
   ]
  },
  {
   "cell_type": "markdown",
   "id": "17deb363",
   "metadata": {},
   "source": [
    "nombre_infected       982\n",
    "nombre_sain          2128\n",
    "nombre_exposed        524\n",
    "nombre_recovered    16366\n",
    "Name: 399, dtype: int64"
   ]
  },
  {
   "cell_type": "markdown",
   "id": "e4d41323",
   "metadata": {},
   "source": [
    "nombre_infected       989\n",
    "nombre_sain          2138\n",
    "nombre_exposed        508\n",
    "nombre_recovered    16365\n",
    "Name: 400, dtype: int64"
   ]
  },
  {
   "cell_type": "markdown",
   "id": "29eb377d",
   "metadata": {},
   "source": [
    "nombre_infected       983\n",
    "nombre_sain          2132\n",
    "nombre_exposed        509\n",
    "nombre_recovered    16376\n",
    "Name: 401, dtype: int64"
   ]
  },
  {
   "cell_type": "markdown",
   "id": "21859641",
   "metadata": {},
   "source": [
    "nombre_infected       986\n",
    "nombre_sain          2137\n",
    "nombre_exposed        504\n",
    "nombre_recovered    16373\n",
    "Name: 402, dtype: int64"
   ]
  },
  {
   "cell_type": "markdown",
   "id": "d2ffc2fe",
   "metadata": {},
   "source": [
    "nombre_infected       968\n",
    "nombre_sain          2132\n",
    "nombre_exposed        519\n",
    "nombre_recovered    16381\n",
    "Name: 403, dtype: int64"
   ]
  },
  {
   "cell_type": "markdown",
   "id": "225de85f",
   "metadata": {},
   "source": [
    "nombre_infected       964\n",
    "nombre_sain          2133\n",
    "nombre_exposed        527\n",
    "nombre_recovered    16376\n",
    "Name: 404, dtype: int64"
   ]
  },
  {
   "cell_type": "markdown",
   "id": "1210f96c",
   "metadata": {},
   "source": [
    "nombre_infected       960\n",
    "nombre_sain          2136\n",
    "nombre_exposed        527\n",
    "nombre_recovered    16377\n",
    "Name: 405, dtype: int64"
   ]
  },
  {
   "cell_type": "markdown",
   "id": "346a05e9",
   "metadata": {},
   "source": [
    "nombre_infected       961\n",
    "nombre_sain          2143\n",
    "nombre_exposed        539\n",
    "nombre_recovered    16357\n",
    "Name: 406, dtype: int64"
   ]
  },
  {
   "cell_type": "markdown",
   "id": "3fff795e",
   "metadata": {},
   "source": [
    "nombre_infected       952\n",
    "nombre_sain          2137\n",
    "nombre_exposed        548\n",
    "nombre_recovered    16363\n",
    "Name: 407, dtype: int64"
   ]
  },
  {
   "cell_type": "markdown",
   "id": "8b37d3b3",
   "metadata": {},
   "source": [
    "nombre_infected       969\n",
    "nombre_sain          2142\n",
    "nombre_exposed        524\n",
    "nombre_recovered    16365\n",
    "Name: 408, dtype: int64"
   ]
  },
  {
   "cell_type": "markdown",
   "id": "3c16a393",
   "metadata": {},
   "source": [
    "nombre_infected       977\n",
    "nombre_sain          2166\n",
    "nombre_exposed        506\n",
    "nombre_recovered    16351\n",
    "Name: 409, dtype: int64"
   ]
  },
  {
   "cell_type": "markdown",
   "id": "6f65d8e2",
   "metadata": {},
   "source": [
    "nombre_infected       966\n",
    "nombre_sain          2168\n",
    "nombre_exposed        509\n",
    "nombre_recovered    16357\n",
    "Name: 410, dtype: int64"
   ]
  },
  {
   "cell_type": "markdown",
   "id": "3c56326c",
   "metadata": {},
   "source": [
    "nombre_infected       941\n",
    "nombre_sain          2176\n",
    "nombre_exposed        494\n",
    "nombre_recovered    16389\n",
    "Name: 411, dtype: int64"
   ]
  },
  {
   "cell_type": "markdown",
   "id": "57684f8b",
   "metadata": {},
   "source": [
    "nombre_infected       924\n",
    "nombre_sain          2173\n",
    "nombre_exposed        494\n",
    "nombre_recovered    16409\n",
    "Name: 412, dtype: int64"
   ]
  },
  {
   "cell_type": "markdown",
   "id": "aa485d01",
   "metadata": {},
   "source": [
    "nombre_infected       939\n",
    "nombre_sain          2165\n",
    "nombre_exposed        474\n",
    "nombre_recovered    16422\n",
    "Name: 413, dtype: int64"
   ]
  },
  {
   "cell_type": "markdown",
   "id": "03e40b0f",
   "metadata": {},
   "source": [
    "nombre_infected       915\n",
    "nombre_sain          2179\n",
    "nombre_exposed        460\n",
    "nombre_recovered    16446\n",
    "Name: 414, dtype: int64"
   ]
  },
  {
   "cell_type": "markdown",
   "id": "cf5ba1e6",
   "metadata": {},
   "source": [
    "nombre_infected       933\n",
    "nombre_sain          2208\n",
    "nombre_exposed        432\n",
    "nombre_recovered    16427\n",
    "Name: 415, dtype: int64"
   ]
  },
  {
   "cell_type": "markdown",
   "id": "e3b7488d",
   "metadata": {},
   "source": [
    "nombre_infected       908\n",
    "nombre_sain          2218\n",
    "nombre_exposed        448\n",
    "nombre_recovered    16426\n",
    "Name: 416, dtype: int64"
   ]
  },
  {
   "cell_type": "markdown",
   "id": "15364e31",
   "metadata": {},
   "source": [
    "nombre_infected       881\n",
    "nombre_sain          2215\n",
    "nombre_exposed        470\n",
    "nombre_recovered    16434\n",
    "Name: 417, dtype: int64"
   ]
  },
  {
   "cell_type": "markdown",
   "id": "1241fd2d",
   "metadata": {},
   "source": [
    "nombre_infected       868\n",
    "nombre_sain          2217\n",
    "nombre_exposed        465\n",
    "nombre_recovered    16450\n",
    "Name: 418, dtype: int64"
   ]
  },
  {
   "cell_type": "markdown",
   "id": "aef90af4",
   "metadata": {},
   "source": [
    "nombre_infected       894\n",
    "nombre_sain          2240\n",
    "nombre_exposed        451\n",
    "nombre_recovered    16415\n",
    "Name: 419, dtype: int64"
   ]
  },
  {
   "cell_type": "markdown",
   "id": "7c3f1556",
   "metadata": {},
   "source": [
    "nombre_infected       889\n",
    "nombre_sain          2239\n",
    "nombre_exposed        471\n",
    "nombre_recovered    16401\n",
    "Name: 420, dtype: int64"
   ]
  },
  {
   "cell_type": "markdown",
   "id": "ffcad4e2",
   "metadata": {},
   "source": [
    "nombre_infected       882\n",
    "nombre_sain          2239\n",
    "nombre_exposed        490\n",
    "nombre_recovered    16389\n",
    "Name: 421, dtype: int64"
   ]
  },
  {
   "cell_type": "markdown",
   "id": "bb0bf077",
   "metadata": {},
   "source": [
    "nombre_infected       864\n",
    "nombre_sain          2250\n",
    "nombre_exposed        499\n",
    "nombre_recovered    16387\n",
    "Name: 422, dtype: int64"
   ]
  },
  {
   "cell_type": "markdown",
   "id": "d90d5fc0",
   "metadata": {},
   "source": [
    "nombre_infected       851\n",
    "nombre_sain          2270\n",
    "nombre_exposed        506\n",
    "nombre_recovered    16373\n",
    "Name: 423, dtype: int64"
   ]
  },
  {
   "cell_type": "markdown",
   "id": "daf16cb8",
   "metadata": {},
   "source": [
    "nombre_infected       870\n",
    "nombre_sain          2311\n",
    "nombre_exposed        494\n",
    "nombre_recovered    16325\n",
    "Name: 424, dtype: int64"
   ]
  },
  {
   "cell_type": "markdown",
   "id": "95e68c34",
   "metadata": {},
   "source": [
    "nombre_infected       854\n",
    "nombre_sain          2309\n",
    "nombre_exposed        519\n",
    "nombre_recovered    16318\n",
    "Name: 425, dtype: int64"
   ]
  },
  {
   "cell_type": "markdown",
   "id": "86a0fe96",
   "metadata": {},
   "source": [
    "nombre_infected       846\n",
    "nombre_sain          2321\n",
    "nombre_exposed        533\n",
    "nombre_recovered    16300\n",
    "Name: 426, dtype: int64"
   ]
  },
  {
   "cell_type": "markdown",
   "id": "ea5a6eba",
   "metadata": {},
   "source": [
    "nombre_infected       860\n",
    "nombre_sain          2362\n",
    "nombre_exposed        510\n",
    "nombre_recovered    16268\n",
    "Name: 427, dtype: int64"
   ]
  },
  {
   "cell_type": "markdown",
   "id": "1d6e6bf4",
   "metadata": {},
   "source": [
    "nombre_infected       899\n",
    "nombre_sain          2355\n",
    "nombre_exposed        502\n",
    "nombre_recovered    16244\n",
    "Name: 428, dtype: int64"
   ]
  },
  {
   "cell_type": "markdown",
   "id": "93d6a167",
   "metadata": {},
   "source": [
    "nombre_infected       883\n",
    "nombre_sain          2338\n",
    "nombre_exposed        532\n",
    "nombre_recovered    16247\n",
    "Name: 429, dtype: int64"
   ]
  },
  {
   "cell_type": "markdown",
   "id": "a5ef2907",
   "metadata": {},
   "source": [
    "nombre_infected       894\n",
    "nombre_sain          2336\n",
    "nombre_exposed        525\n",
    "nombre_recovered    16245\n",
    "Name: 430, dtype: int64"
   ]
  },
  {
   "cell_type": "markdown",
   "id": "51246943",
   "metadata": {},
   "source": [
    "nombre_infected       906\n",
    "nombre_sain          2309\n",
    "nombre_exposed        520\n",
    "nombre_recovered    16265\n",
    "Name: 431, dtype: int64"
   ]
  },
  {
   "cell_type": "markdown",
   "id": "2fbdd967",
   "metadata": {},
   "source": [
    "nombre_infected       926\n",
    "nombre_sain          2299\n",
    "nombre_exposed        525\n",
    "nombre_recovered    16250\n",
    "Name: 432, dtype: int64"
   ]
  },
  {
   "cell_type": "markdown",
   "id": "2aba000a",
   "metadata": {},
   "source": [
    "nombre_infected       923\n",
    "nombre_sain          2261\n",
    "nombre_exposed        543\n",
    "nombre_recovered    16273\n",
    "Name: 433, dtype: int64"
   ]
  },
  {
   "cell_type": "markdown",
   "id": "1ff36e50",
   "metadata": {},
   "source": [
    "nombre_infected       914\n",
    "nombre_sain          2234\n",
    "nombre_exposed        568\n",
    "nombre_recovered    16284\n",
    "Name: 434, dtype: int64"
   ]
  },
  {
   "cell_type": "markdown",
   "id": "2918b8af",
   "metadata": {},
   "source": [
    "nombre_infected       937\n",
    "nombre_sain          2234\n",
    "nombre_exposed        558\n",
    "nombre_recovered    16271\n",
    "Name: 435, dtype: int64"
   ]
  },
  {
   "cell_type": "markdown",
   "id": "53af2efd",
   "metadata": {},
   "source": [
    "nombre_infected       959\n",
    "nombre_sain          2217\n",
    "nombre_exposed        552\n",
    "nombre_recovered    16272\n",
    "Name: 436, dtype: int64"
   ]
  },
  {
   "cell_type": "markdown",
   "id": "0af5ade0",
   "metadata": {},
   "source": [
    "nombre_infected       975\n",
    "nombre_sain          2235\n",
    "nombre_exposed        533\n",
    "nombre_recovered    16257\n",
    "Name: 437, dtype: int64"
   ]
  },
  {
   "cell_type": "markdown",
   "id": "9af5a60c",
   "metadata": {},
   "source": [
    "nombre_infected       984\n",
    "nombre_sain          2203\n",
    "nombre_exposed        535\n",
    "nombre_recovered    16278\n",
    "Name: 438, dtype: int64"
   ]
  },
  {
   "cell_type": "markdown",
   "id": "c86935a8",
   "metadata": {},
   "source": [
    "nombre_infected       996\n",
    "nombre_sain          2186\n",
    "nombre_exposed        541\n",
    "nombre_recovered    16277\n",
    "Name: 439, dtype: int64"
   ]
  },
  {
   "cell_type": "markdown",
   "id": "6e09ee3f",
   "metadata": {},
   "source": [
    "nombre_infected       951\n",
    "nombre_sain          2184\n",
    "nombre_exposed        553\n",
    "nombre_recovered    16312\n",
    "Name: 440, dtype: int64"
   ]
  },
  {
   "cell_type": "markdown",
   "id": "d7044ce5",
   "metadata": {},
   "source": [
    "nombre_infected       975\n",
    "nombre_sain          2199\n",
    "nombre_exposed        542\n",
    "nombre_recovered    16284\n",
    "Name: 441, dtype: int64"
   ]
  },
  {
   "cell_type": "markdown",
   "id": "6a7ae67c",
   "metadata": {},
   "source": [
    "nombre_infected       992\n",
    "nombre_sain          2221\n",
    "nombre_exposed        508\n",
    "nombre_recovered    16279\n",
    "Name: 442, dtype: int64"
   ]
  },
  {
   "cell_type": "markdown",
   "id": "721d55ce",
   "metadata": {},
   "source": [
    "nombre_infected       999\n",
    "nombre_sain          2190\n",
    "nombre_exposed        537\n",
    "nombre_recovered    16274\n",
    "Name: 443, dtype: int64"
   ]
  },
  {
   "cell_type": "markdown",
   "id": "1bf4bd45",
   "metadata": {},
   "source": [
    "nombre_infected       986\n",
    "nombre_sain          2193\n",
    "nombre_exposed        532\n",
    "nombre_recovered    16289\n",
    "Name: 444, dtype: int64"
   ]
  },
  {
   "cell_type": "markdown",
   "id": "d75b17bd",
   "metadata": {},
   "source": [
    "nombre_infected      1006\n",
    "nombre_sain          2185\n",
    "nombre_exposed        547\n",
    "nombre_recovered    16262\n",
    "Name: 445, dtype: int64"
   ]
  },
  {
   "cell_type": "markdown",
   "id": "43d8539c",
   "metadata": {},
   "source": [
    "nombre_infected      1002\n",
    "nombre_sain          2179\n",
    "nombre_exposed        563\n",
    "nombre_recovered    16256\n",
    "Name: 446, dtype: int64"
   ]
  },
  {
   "cell_type": "markdown",
   "id": "70da8879",
   "metadata": {},
   "source": [
    "nombre_infected      1003\n",
    "nombre_sain          2139\n",
    "nombre_exposed        579\n",
    "nombre_recovered    16279\n",
    "Name: 447, dtype: int64"
   ]
  },
  {
   "cell_type": "markdown",
   "id": "f1fac7f1",
   "metadata": {},
   "source": [
    "nombre_infected      1000\n",
    "nombre_sain          2101\n",
    "nombre_exposed        593\n",
    "nombre_recovered    16306\n",
    "Name: 448, dtype: int64"
   ]
  },
  {
   "cell_type": "markdown",
   "id": "b8ee7118",
   "metadata": {},
   "source": [
    "nombre_infected      1025\n",
    "nombre_sain          2120\n",
    "nombre_exposed        573\n",
    "nombre_recovered    16282\n",
    "Name: 449, dtype: int64"
   ]
  },
  {
   "cell_type": "markdown",
   "id": "cd78d47f",
   "metadata": {},
   "source": [
    "nombre_infected      1053\n",
    "nombre_sain          2125\n",
    "nombre_exposed        563\n",
    "nombre_recovered    16259\n",
    "Name: 450, dtype: int64"
   ]
  },
  {
   "cell_type": "markdown",
   "id": "1fbf1d0e",
   "metadata": {},
   "source": [
    "nombre_infected      1055\n",
    "nombre_sain          2105\n",
    "nombre_exposed        579\n",
    "nombre_recovered    16261\n",
    "Name: 451, dtype: int64"
   ]
  },
  {
   "cell_type": "markdown",
   "id": "03786e15",
   "metadata": {},
   "source": [
    "nombre_infected      1060\n",
    "nombre_sain          2102\n",
    "nombre_exposed        562\n",
    "nombre_recovered    16276\n",
    "Name: 452, dtype: int64"
   ]
  },
  {
   "cell_type": "markdown",
   "id": "8ff9824f",
   "metadata": {},
   "source": [
    "nombre_infected      1059\n",
    "nombre_sain          2092\n",
    "nombre_exposed        568\n",
    "nombre_recovered    16281\n",
    "Name: 453, dtype: int64"
   ]
  },
  {
   "cell_type": "markdown",
   "id": "5e3bb591",
   "metadata": {},
   "source": [
    "nombre_infected      1072\n",
    "nombre_sain          2080\n",
    "nombre_exposed        565\n",
    "nombre_recovered    16283\n",
    "Name: 454, dtype: int64"
   ]
  },
  {
   "cell_type": "markdown",
   "id": "3346835a",
   "metadata": {},
   "source": [
    "nombre_infected      1067\n",
    "nombre_sain          2072\n",
    "nombre_exposed        570\n",
    "nombre_recovered    16291\n",
    "Name: 455, dtype: int64"
   ]
  },
  {
   "cell_type": "markdown",
   "id": "5e3757d1",
   "metadata": {},
   "source": [
    "nombre_infected      1060\n",
    "nombre_sain          2077\n",
    "nombre_exposed        567\n",
    "nombre_recovered    16296\n",
    "Name: 456, dtype: int64"
   ]
  },
  {
   "cell_type": "markdown",
   "id": "abed1a35",
   "metadata": {},
   "source": [
    "nombre_infected      1086\n",
    "nombre_sain          2060\n",
    "nombre_exposed        554\n",
    "nombre_recovered    16300\n",
    "Name: 457, dtype: int64"
   ]
  },
  {
   "cell_type": "markdown",
   "id": "5ef3bd60",
   "metadata": {},
   "source": [
    "nombre_infected      1088\n",
    "nombre_sain          2047\n",
    "nombre_exposed        551\n",
    "nombre_recovered    16314\n",
    "Name: 458, dtype: int64"
   ]
  },
  {
   "cell_type": "markdown",
   "id": "1a3d3ad9",
   "metadata": {},
   "source": [
    "nombre_infected      1098\n",
    "nombre_sain          2019\n",
    "nombre_exposed        574\n",
    "nombre_recovered    16309\n",
    "Name: 459, dtype: int64"
   ]
  },
  {
   "cell_type": "markdown",
   "id": "b66069c5",
   "metadata": {},
   "source": [
    "nombre_infected      1079\n",
    "nombre_sain          2027\n",
    "nombre_exposed        591\n",
    "nombre_recovered    16303\n",
    "Name: 460, dtype: int64"
   ]
  },
  {
   "cell_type": "markdown",
   "id": "ac8f3aca",
   "metadata": {},
   "source": [
    "nombre_infected      1087\n",
    "nombre_sain          2007\n",
    "nombre_exposed        598\n",
    "nombre_recovered    16308\n",
    "Name: 461, dtype: int64"
   ]
  },
  {
   "cell_type": "markdown",
   "id": "a2a5a8bd",
   "metadata": {},
   "source": [
    "nombre_infected      1102\n",
    "nombre_sain          2004\n",
    "nombre_exposed        580\n",
    "nombre_recovered    16314\n",
    "Name: 462, dtype: int64"
   ]
  },
  {
   "cell_type": "markdown",
   "id": "9b539914",
   "metadata": {},
   "source": [
    "nombre_infected      1106\n",
    "nombre_sain          1979\n",
    "nombre_exposed        595\n",
    "nombre_recovered    16320\n",
    "Name: 463, dtype: int64"
   ]
  },
  {
   "cell_type": "markdown",
   "id": "1e56f585",
   "metadata": {},
   "source": [
    "nombre_infected      1129\n",
    "nombre_sain          1969\n",
    "nombre_exposed        579\n",
    "nombre_recovered    16323\n",
    "Name: 464, dtype: int64"
   ]
  },
  {
   "cell_type": "markdown",
   "id": "bf8bdd17",
   "metadata": {},
   "source": [
    "nombre_infected      1145\n",
    "nombre_sain          1945\n",
    "nombre_exposed        592\n",
    "nombre_recovered    16318\n",
    "Name: 465, dtype: int64"
   ]
  },
  {
   "cell_type": "markdown",
   "id": "4f7b67b4",
   "metadata": {},
   "source": [
    "nombre_infected      1148\n",
    "nombre_sain          1936\n",
    "nombre_exposed        590\n",
    "nombre_recovered    16326\n",
    "Name: 466, dtype: int64"
   ]
  },
  {
   "cell_type": "markdown",
   "id": "9166c23f",
   "metadata": {},
   "source": [
    "nombre_infected      1171\n",
    "nombre_sain          1894\n",
    "nombre_exposed        592\n",
    "nombre_recovered    16343\n",
    "Name: 467, dtype: int64"
   ]
  },
  {
   "cell_type": "markdown",
   "id": "bbc08dc7",
   "metadata": {},
   "source": [
    "nombre_infected      1172\n",
    "nombre_sain          1872\n",
    "nombre_exposed        588\n",
    "nombre_recovered    16368\n",
    "Name: 468, dtype: int64"
   ]
  },
  {
   "cell_type": "markdown",
   "id": "c4232737",
   "metadata": {},
   "source": [
    "nombre_infected      1185\n",
    "nombre_sain          1878\n",
    "nombre_exposed        554\n",
    "nombre_recovered    16383\n",
    "Name: 469, dtype: int64"
   ]
  },
  {
   "cell_type": "markdown",
   "id": "36b456db",
   "metadata": {},
   "source": [
    "nombre_infected      1184\n",
    "nombre_sain          1880\n",
    "nombre_exposed        544\n",
    "nombre_recovered    16392\n",
    "Name: 470, dtype: int64"
   ]
  },
  {
   "cell_type": "markdown",
   "id": "6f645a08",
   "metadata": {},
   "source": [
    "nombre_infected      1167\n",
    "nombre_sain          1882\n",
    "nombre_exposed        553\n",
    "nombre_recovered    16398\n",
    "Name: 471, dtype: int64"
   ]
  },
  {
   "cell_type": "markdown",
   "id": "3fd452ec",
   "metadata": {},
   "source": [
    "nombre_infected      1159\n",
    "nombre_sain          1892\n",
    "nombre_exposed        546\n",
    "nombre_recovered    16403\n",
    "Name: 472, dtype: int64"
   ]
  },
  {
   "cell_type": "markdown",
   "id": "ceb67df5",
   "metadata": {},
   "source": [
    "nombre_infected      1134\n",
    "nombre_sain          1891\n",
    "nombre_exposed        548\n",
    "nombre_recovered    16427\n",
    "Name: 473, dtype: int64"
   ]
  },
  {
   "cell_type": "markdown",
   "id": "a9e454e4",
   "metadata": {},
   "source": [
    "nombre_infected      1120\n",
    "nombre_sain          1880\n",
    "nombre_exposed        536\n",
    "nombre_recovered    16464\n",
    "Name: 474, dtype: int64"
   ]
  },
  {
   "cell_type": "markdown",
   "id": "1fa4e3c4",
   "metadata": {},
   "source": [
    "nombre_infected      1099\n",
    "nombre_sain          1872\n",
    "nombre_exposed        545\n",
    "nombre_recovered    16484\n",
    "Name: 475, dtype: int64"
   ]
  },
  {
   "cell_type": "markdown",
   "id": "1a31be65",
   "metadata": {},
   "source": [
    "nombre_infected      1106\n",
    "nombre_sain          1873\n",
    "nombre_exposed        542\n",
    "nombre_recovered    16479\n",
    "Name: 476, dtype: int64"
   ]
  },
  {
   "cell_type": "markdown",
   "id": "22dad869",
   "metadata": {},
   "source": [
    "nombre_infected      1152\n",
    "nombre_sain          1852\n",
    "nombre_exposed        524\n",
    "nombre_recovered    16472\n",
    "Name: 477, dtype: int64"
   ]
  },
  {
   "cell_type": "markdown",
   "id": "2c61843c",
   "metadata": {},
   "source": [
    "nombre_infected      1130\n",
    "nombre_sain          1881\n",
    "nombre_exposed        522\n",
    "nombre_recovered    16467\n",
    "Name: 478, dtype: int64"
   ]
  },
  {
   "cell_type": "markdown",
   "id": "735c545e",
   "metadata": {},
   "source": [
    "nombre_infected      1106\n",
    "nombre_sain          1903\n",
    "nombre_exposed        523\n",
    "nombre_recovered    16468\n",
    "Name: 479, dtype: int64"
   ]
  },
  {
   "cell_type": "markdown",
   "id": "b572259a",
   "metadata": {},
   "source": [
    "nombre_infected      1103\n",
    "nombre_sain          1924\n",
    "nombre_exposed        516\n",
    "nombre_recovered    16457\n",
    "Name: 480, dtype: int64"
   ]
  },
  {
   "cell_type": "markdown",
   "id": "b40757ee",
   "metadata": {},
   "source": [
    "nombre_infected      1069\n",
    "nombre_sain          1938\n",
    "nombre_exposed        525\n",
    "nombre_recovered    16468\n",
    "Name: 481, dtype: int64"
   ]
  },
  {
   "cell_type": "markdown",
   "id": "a16604d2",
   "metadata": {},
   "source": [
    "nombre_infected      1039\n",
    "nombre_sain          1940\n",
    "nombre_exposed        536\n",
    "nombre_recovered    16485\n",
    "Name: 482, dtype: int64"
   ]
  },
  {
   "cell_type": "markdown",
   "id": "f1e8a0a3",
   "metadata": {},
   "source": [
    "nombre_infected      1035\n",
    "nombre_sain          1948\n",
    "nombre_exposed        533\n",
    "nombre_recovered    16484\n",
    "Name: 483, dtype: int64"
   ]
  },
  {
   "cell_type": "markdown",
   "id": "835e52f7",
   "metadata": {},
   "source": [
    "nombre_infected      1028\n",
    "nombre_sain          1941\n",
    "nombre_exposed        526\n",
    "nombre_recovered    16505\n",
    "Name: 484, dtype: int64"
   ]
  },
  {
   "cell_type": "markdown",
   "id": "a3321faa",
   "metadata": {},
   "source": [
    "nombre_infected      1025\n",
    "nombre_sain          1942\n",
    "nombre_exposed        521\n",
    "nombre_recovered    16512\n",
    "Name: 485, dtype: int64"
   ]
  },
  {
   "cell_type": "markdown",
   "id": "717a989e",
   "metadata": {},
   "source": [
    "nombre_infected      1007\n",
    "nombre_sain          1946\n",
    "nombre_exposed        528\n",
    "nombre_recovered    16519\n",
    "Name: 486, dtype: int64"
   ]
  },
  {
   "cell_type": "markdown",
   "id": "89982df7",
   "metadata": {},
   "source": [
    "nombre_infected      1010\n",
    "nombre_sain          1961\n",
    "nombre_exposed        509\n",
    "nombre_recovered    16520\n",
    "Name: 487, dtype: int64"
   ]
  },
  {
   "cell_type": "markdown",
   "id": "3a70cbe5",
   "metadata": {},
   "source": [
    "nombre_infected      1026\n",
    "nombre_sain          1957\n",
    "nombre_exposed        494\n",
    "nombre_recovered    16523\n",
    "Name: 488, dtype: int64"
   ]
  },
  {
   "cell_type": "markdown",
   "id": "99ebcf8b",
   "metadata": {},
   "source": [
    "nombre_infected      1008\n",
    "nombre_sain          1961\n",
    "nombre_exposed        497\n",
    "nombre_recovered    16534\n",
    "Name: 489, dtype: int64"
   ]
  },
  {
   "cell_type": "markdown",
   "id": "4c09eb04",
   "metadata": {},
   "source": [
    "nombre_infected       989\n",
    "nombre_sain          1959\n",
    "nombre_exposed        507\n",
    "nombre_recovered    16545\n",
    "Name: 490, dtype: int64"
   ]
  },
  {
   "cell_type": "markdown",
   "id": "c8d71976",
   "metadata": {},
   "source": [
    "nombre_infected       980\n",
    "nombre_sain          1958\n",
    "nombre_exposed        503\n",
    "nombre_recovered    16559\n",
    "Name: 491, dtype: int64"
   ]
  },
  {
   "cell_type": "markdown",
   "id": "4c3644e9",
   "metadata": {},
   "source": [
    "nombre_infected       980\n",
    "nombre_sain          1949\n",
    "nombre_exposed        502\n",
    "nombre_recovered    16569\n",
    "Name: 492, dtype: int64"
   ]
  },
  {
   "cell_type": "markdown",
   "id": "d99a2325",
   "metadata": {},
   "source": [
    "nombre_infected       984\n",
    "nombre_sain          1953\n",
    "nombre_exposed        498\n",
    "nombre_recovered    16565\n",
    "Name: 493, dtype: int64"
   ]
  },
  {
   "cell_type": "markdown",
   "id": "c9da9d0b",
   "metadata": {},
   "source": [
    "nombre_infected       965\n",
    "nombre_sain          1970\n",
    "nombre_exposed        506\n",
    "nombre_recovered    16559\n",
    "Name: 494, dtype: int64"
   ]
  },
  {
   "cell_type": "markdown",
   "id": "ffbddced",
   "metadata": {},
   "source": [
    "nombre_infected       962\n",
    "nombre_sain          1971\n",
    "nombre_exposed        493\n",
    "nombre_recovered    16574\n",
    "Name: 495, dtype: int64"
   ]
  },
  {
   "cell_type": "markdown",
   "id": "8cc9428e",
   "metadata": {},
   "source": [
    "nombre_infected       966\n",
    "nombre_sain          1954\n",
    "nombre_exposed        498\n",
    "nombre_recovered    16582\n",
    "Name: 496, dtype: int64"
   ]
  },
  {
   "cell_type": "markdown",
   "id": "7861bfff",
   "metadata": {},
   "source": [
    "nombre_infected       947\n",
    "nombre_sain          1945\n",
    "nombre_exposed        508\n",
    "nombre_recovered    16600\n",
    "Name: 497, dtype: int64"
   ]
  },
  {
   "cell_type": "markdown",
   "id": "a57b4ffc",
   "metadata": {},
   "source": [
    "nombre_infected       967\n",
    "nombre_sain          1962\n",
    "nombre_exposed        484\n",
    "nombre_recovered    16587\n",
    "Name: 498, dtype: int64"
   ]
  },
  {
   "cell_type": "markdown",
   "id": "5b798817",
   "metadata": {},
   "source": [
    "nombre_infected       965\n",
    "nombre_sain          1961\n",
    "nombre_exposed        485\n",
    "nombre_recovered    16589\n",
    "Name: 499, dtype: int64"
   ]
  },
  {
   "cell_type": "markdown",
   "id": "bd83fc4f",
   "metadata": {},
   "source": [
    "nombre_infected       960\n",
    "nombre_sain          1956\n",
    "nombre_exposed        473\n",
    "nombre_recovered    16611\n",
    "Name: 500, dtype: int64"
   ]
  },
  {
   "cell_type": "markdown",
   "id": "0cb38322",
   "metadata": {},
   "source": [
    "nombre_infected       952\n",
    "nombre_sain          1953\n",
    "nombre_exposed        468\n",
    "nombre_recovered    16627\n",
    "Name: 501, dtype: int64"
   ]
  },
  {
   "cell_type": "markdown",
   "id": "fbb141f5",
   "metadata": {},
   "source": [
    "nombre_infected       971\n",
    "nombre_sain          1956\n",
    "nombre_exposed        455\n",
    "nombre_recovered    16618\n",
    "Name: 502, dtype: int64"
   ]
  },
  {
   "cell_type": "markdown",
   "id": "f27c0299",
   "metadata": {},
   "source": [
    "nombre_infected       961\n",
    "nombre_sain          1961\n",
    "nombre_exposed        468\n",
    "nombre_recovered    16610\n",
    "Name: 503, dtype: int64"
   ]
  },
  {
   "cell_type": "markdown",
   "id": "45baaeb2",
   "metadata": {},
   "source": [
    "nombre_infected       950\n",
    "nombre_sain          1943\n",
    "nombre_exposed        489\n",
    "nombre_recovered    16618\n",
    "Name: 504, dtype: int64"
   ]
  },
  {
   "cell_type": "markdown",
   "id": "fc90f64c",
   "metadata": {},
   "source": [
    "nombre_infected       932\n",
    "nombre_sain          1931\n",
    "nombre_exposed        492\n",
    "nombre_recovered    16645\n",
    "Name: 505, dtype: int64"
   ]
  },
  {
   "cell_type": "markdown",
   "id": "5d2654fa",
   "metadata": {},
   "source": [
    "nombre_infected       960\n",
    "nombre_sain          1940\n",
    "nombre_exposed        472\n",
    "nombre_recovered    16628\n",
    "Name: 506, dtype: int64"
   ]
  },
  {
   "cell_type": "markdown",
   "id": "8f95d041",
   "metadata": {},
   "source": [
    "nombre_infected       962\n",
    "nombre_sain          1937\n",
    "nombre_exposed        449\n",
    "nombre_recovered    16652\n",
    "Name: 507, dtype: int64"
   ]
  },
  {
   "cell_type": "markdown",
   "id": "3bff1d1e",
   "metadata": {},
   "source": [
    "nombre_infected       957\n",
    "nombre_sain          1928\n",
    "nombre_exposed        473\n",
    "nombre_recovered    16642\n",
    "Name: 508, dtype: int64"
   ]
  },
  {
   "cell_type": "markdown",
   "id": "ae0f8f78",
   "metadata": {},
   "source": [
    "nombre_infected       963\n",
    "nombre_sain          1951\n",
    "nombre_exposed        454\n",
    "nombre_recovered    16632\n",
    "Name: 509, dtype: int64"
   ]
  },
  {
   "cell_type": "markdown",
   "id": "97a73cdd",
   "metadata": {},
   "source": [
    "nombre_infected       968\n",
    "nombre_sain          1966\n",
    "nombre_exposed        442\n",
    "nombre_recovered    16624\n",
    "Name: 510, dtype: int64"
   ]
  },
  {
   "cell_type": "markdown",
   "id": "60aaf321",
   "metadata": {},
   "source": [
    "nombre_infected       971\n",
    "nombre_sain          1958\n",
    "nombre_exposed        461\n",
    "nombre_recovered    16610\n",
    "Name: 511, dtype: int64"
   ]
  },
  {
   "cell_type": "markdown",
   "id": "ef308d14",
   "metadata": {},
   "source": [
    "nombre_infected       940\n",
    "nombre_sain          1975\n",
    "nombre_exposed        470\n",
    "nombre_recovered    16615\n",
    "Name: 512, dtype: int64"
   ]
  },
  {
   "cell_type": "markdown",
   "id": "a91d9290",
   "metadata": {},
   "source": [
    "nombre_infected       931\n",
    "nombre_sain          1980\n",
    "nombre_exposed        471\n",
    "nombre_recovered    16618\n",
    "Name: 513, dtype: int64"
   ]
  },
  {
   "cell_type": "markdown",
   "id": "7772472f",
   "metadata": {},
   "source": [
    "nombre_infected       925\n",
    "nombre_sain          2005\n",
    "nombre_exposed        471\n",
    "nombre_recovered    16599\n",
    "Name: 514, dtype: int64"
   ]
  },
  {
   "cell_type": "markdown",
   "id": "8253de10",
   "metadata": {},
   "source": [
    "nombre_infected       924\n",
    "nombre_sain          2018\n",
    "nombre_exposed        449\n",
    "nombre_recovered    16609\n",
    "Name: 515, dtype: int64"
   ]
  },
  {
   "cell_type": "markdown",
   "id": "18448c2a",
   "metadata": {},
   "source": [
    "nombre_infected       913\n",
    "nombre_sain          2028\n",
    "nombre_exposed        450\n",
    "nombre_recovered    16609\n",
    "Name: 516, dtype: int64"
   ]
  },
  {
   "cell_type": "markdown",
   "id": "8139aaa6",
   "metadata": {},
   "source": [
    "nombre_infected       907\n",
    "nombre_sain          2046\n",
    "nombre_exposed        453\n",
    "nombre_recovered    16594\n",
    "Name: 517, dtype: int64"
   ]
  },
  {
   "cell_type": "markdown",
   "id": "6d685e2f",
   "metadata": {},
   "source": [
    "nombre_infected       890\n",
    "nombre_sain          2062\n",
    "nombre_exposed        462\n",
    "nombre_recovered    16586\n",
    "Name: 518, dtype: int64"
   ]
  },
  {
   "cell_type": "markdown",
   "id": "324bb40a",
   "metadata": {},
   "source": [
    "nombre_infected       900\n",
    "nombre_sain          2080\n",
    "nombre_exposed        461\n",
    "nombre_recovered    16559\n",
    "Name: 519, dtype: int64"
   ]
  },
  {
   "cell_type": "markdown",
   "id": "091c4ee3",
   "metadata": {},
   "source": [
    "nombre_infected       910\n",
    "nombre_sain          2062\n",
    "nombre_exposed        488\n",
    "nombre_recovered    16540\n",
    "Name: 520, dtype: int64"
   ]
  },
  {
   "cell_type": "markdown",
   "id": "58b001ac",
   "metadata": {},
   "source": [
    "nombre_infected       907\n",
    "nombre_sain          2075\n",
    "nombre_exposed        505\n",
    "nombre_recovered    16513\n",
    "Name: 521, dtype: int64"
   ]
  },
  {
   "cell_type": "markdown",
   "id": "eaa78a50",
   "metadata": {},
   "source": [
    "nombre_infected       901\n",
    "nombre_sain          2108\n",
    "nombre_exposed        500\n",
    "nombre_recovered    16491\n",
    "Name: 522, dtype: int64"
   ]
  },
  {
   "cell_type": "markdown",
   "id": "a03e8ff9",
   "metadata": {},
   "source": [
    "nombre_infected       935\n",
    "nombre_sain          2132\n",
    "nombre_exposed        482\n",
    "nombre_recovered    16451\n",
    "Name: 523, dtype: int64"
   ]
  },
  {
   "cell_type": "markdown",
   "id": "3117d7f3",
   "metadata": {},
   "source": [
    "nombre_infected       950\n",
    "nombre_sain          2133\n",
    "nombre_exposed        493\n",
    "nombre_recovered    16424\n",
    "Name: 524, dtype: int64"
   ]
  },
  {
   "cell_type": "markdown",
   "id": "e2dc6883",
   "metadata": {},
   "source": [
    "nombre_infected       955\n",
    "nombre_sain          2146\n",
    "nombre_exposed        509\n",
    "nombre_recovered    16390\n",
    "Name: 525, dtype: int64"
   ]
  },
  {
   "cell_type": "markdown",
   "id": "0f90c142",
   "metadata": {},
   "source": [
    "nombre_infected       970\n",
    "nombre_sain          2145\n",
    "nombre_exposed        526\n",
    "nombre_recovered    16359\n",
    "Name: 526, dtype: int64"
   ]
  },
  {
   "cell_type": "markdown",
   "id": "3d16dfe6",
   "metadata": {},
   "source": [
    "nombre_infected       968\n",
    "nombre_sain          2137\n",
    "nombre_exposed        557\n",
    "nombre_recovered    16338\n",
    "Name: 527, dtype: int64"
   ]
  },
  {
   "cell_type": "markdown",
   "id": "fbab0d18",
   "metadata": {},
   "source": [
    "nombre_infected       984\n",
    "nombre_sain          2148\n",
    "nombre_exposed        559\n",
    "nombre_recovered    16309\n",
    "Name: 528, dtype: int64"
   ]
  },
  {
   "cell_type": "markdown",
   "id": "22813037",
   "metadata": {},
   "source": [
    "nombre_infected       985\n",
    "nombre_sain          2130\n",
    "nombre_exposed        560\n",
    "nombre_recovered    16325\n",
    "Name: 529, dtype: int64"
   ]
  },
  {
   "cell_type": "markdown",
   "id": "b773824f",
   "metadata": {},
   "source": [
    "nombre_infected      1000\n",
    "nombre_sain          2142\n",
    "nombre_exposed        550\n",
    "nombre_recovered    16308\n",
    "Name: 530, dtype: int64"
   ]
  },
  {
   "cell_type": "markdown",
   "id": "3bdc48a0",
   "metadata": {},
   "source": [
    "nombre_infected      1000\n",
    "nombre_sain          2147\n",
    "nombre_exposed        563\n",
    "nombre_recovered    16290\n",
    "Name: 531, dtype: int64"
   ]
  },
  {
   "cell_type": "markdown",
   "id": "f9f7e296",
   "metadata": {},
   "source": [
    "nombre_infected      1006\n",
    "nombre_sain          2139\n",
    "nombre_exposed        556\n",
    "nombre_recovered    16299\n",
    "Name: 532, dtype: int64"
   ]
  },
  {
   "cell_type": "markdown",
   "id": "fecaf292",
   "metadata": {},
   "source": [
    "nombre_infected      1006\n",
    "nombre_sain          2109\n",
    "nombre_exposed        567\n",
    "nombre_recovered    16318\n",
    "Name: 533, dtype: int64"
   ]
  },
  {
   "cell_type": "markdown",
   "id": "1a3f1c9c",
   "metadata": {},
   "source": [
    "nombre_infected      1022\n",
    "nombre_sain          2078\n",
    "nombre_exposed        564\n",
    "nombre_recovered    16336\n",
    "Name: 534, dtype: int64"
   ]
  },
  {
   "cell_type": "markdown",
   "id": "172b2f65",
   "metadata": {},
   "source": [
    "nombre_infected      1028\n",
    "nombre_sain          2073\n",
    "nombre_exposed        553\n",
    "nombre_recovered    16346\n",
    "Name: 535, dtype: int64"
   ]
  },
  {
   "cell_type": "markdown",
   "id": "b07f57e2",
   "metadata": {},
   "source": [
    "nombre_infected      1021\n",
    "nombre_sain          2064\n",
    "nombre_exposed        559\n",
    "nombre_recovered    16356\n",
    "Name: 536, dtype: int64"
   ]
  },
  {
   "cell_type": "markdown",
   "id": "23805d77",
   "metadata": {},
   "source": [
    "nombre_infected      1031\n",
    "nombre_sain          2052\n",
    "nombre_exposed        557\n",
    "nombre_recovered    16360\n",
    "Name: 537, dtype: int64"
   ]
  },
  {
   "cell_type": "markdown",
   "id": "aabe8e2e",
   "metadata": {},
   "source": [
    "nombre_infected      1037\n",
    "nombre_sain          2019\n",
    "nombre_exposed        545\n",
    "nombre_recovered    16399\n",
    "Name: 538, dtype: int64"
   ]
  },
  {
   "cell_type": "markdown",
   "id": "9d895607",
   "metadata": {},
   "source": [
    "nombre_infected      1027\n",
    "nombre_sain          1991\n",
    "nombre_exposed        560\n",
    "nombre_recovered    16422\n",
    "Name: 539, dtype: int64"
   ]
  },
  {
   "cell_type": "markdown",
   "id": "7b757c41",
   "metadata": {},
   "source": [
    "nombre_infected      1037\n",
    "nombre_sain          1957\n",
    "nombre_exposed        561\n",
    "nombre_recovered    16445\n",
    "Name: 540, dtype: int64"
   ]
  },
  {
   "cell_type": "markdown",
   "id": "6040ca9a",
   "metadata": {},
   "source": [
    "nombre_infected      1033\n",
    "nombre_sain          1948\n",
    "nombre_exposed        550\n",
    "nombre_recovered    16469\n",
    "Name: 541, dtype: int64"
   ]
  },
  {
   "cell_type": "markdown",
   "id": "10d23ebd",
   "metadata": {},
   "source": [
    "nombre_infected      1022\n",
    "nombre_sain          1946\n",
    "nombre_exposed        552\n",
    "nombre_recovered    16480\n",
    "Name: 542, dtype: int64"
   ]
  },
  {
   "cell_type": "markdown",
   "id": "81761b63",
   "metadata": {},
   "source": [
    "nombre_infected      1024\n",
    "nombre_sain          1921\n",
    "nombre_exposed        550\n",
    "nombre_recovered    16505\n",
    "Name: 543, dtype: int64"
   ]
  },
  {
   "cell_type": "markdown",
   "id": "df89abfd",
   "metadata": {},
   "source": [
    "nombre_infected      1035\n",
    "nombre_sain          1892\n",
    "nombre_exposed        530\n",
    "nombre_recovered    16543\n",
    "Name: 544, dtype: int64"
   ]
  },
  {
   "cell_type": "markdown",
   "id": "abae9c11",
   "metadata": {},
   "source": [
    "nombre_infected      1034\n",
    "nombre_sain          1869\n",
    "nombre_exposed        538\n",
    "nombre_recovered    16559\n",
    "Name: 545, dtype: int64"
   ]
  },
  {
   "cell_type": "markdown",
   "id": "3fe59949",
   "metadata": {},
   "source": [
    "nombre_infected      1000\n",
    "nombre_sain          1852\n",
    "nombre_exposed        543\n",
    "nombre_recovered    16605\n",
    "Name: 546, dtype: int64"
   ]
  },
  {
   "cell_type": "markdown",
   "id": "69765a08",
   "metadata": {},
   "source": [
    "nombre_infected      1004\n",
    "nombre_sain          1858\n",
    "nombre_exposed        513\n",
    "nombre_recovered    16625\n",
    "Name: 547, dtype: int64"
   ]
  },
  {
   "cell_type": "markdown",
   "id": "b932c52d",
   "metadata": {},
   "source": [
    "nombre_infected      1006\n",
    "nombre_sain          1849\n",
    "nombre_exposed        499\n",
    "nombre_recovered    16646\n",
    "Name: 548, dtype: int64"
   ]
  },
  {
   "cell_type": "markdown",
   "id": "422a2db8",
   "metadata": {},
   "source": [
    "nombre_infected       982\n",
    "nombre_sain          1831\n",
    "nombre_exposed        497\n",
    "nombre_recovered    16690\n",
    "Name: 549, dtype: int64"
   ]
  },
  {
   "cell_type": "markdown",
   "id": "2ef23b65",
   "metadata": {},
   "source": [
    "nombre_infected       980\n",
    "nombre_sain          1834\n",
    "nombre_exposed        490\n",
    "nombre_recovered    16696\n",
    "Name: 550, dtype: int64"
   ]
  },
  {
   "cell_type": "markdown",
   "id": "a7f90920",
   "metadata": {},
   "source": [
    "nombre_infected       973\n",
    "nombre_sain          1822\n",
    "nombre_exposed        485\n",
    "nombre_recovered    16720\n",
    "Name: 551, dtype: int64"
   ]
  },
  {
   "cell_type": "markdown",
   "id": "c4ddd0ed",
   "metadata": {},
   "source": [
    "nombre_infected       982\n",
    "nombre_sain          1833\n",
    "nombre_exposed        484\n",
    "nombre_recovered    16701\n",
    "Name: 552, dtype: int64"
   ]
  },
  {
   "cell_type": "markdown",
   "id": "c3e17e74",
   "metadata": {},
   "source": [
    "nombre_infected       956\n",
    "nombre_sain          1820\n",
    "nombre_exposed        494\n",
    "nombre_recovered    16730\n",
    "Name: 553, dtype: int64"
   ]
  },
  {
   "cell_type": "markdown",
   "id": "54c4e224",
   "metadata": {},
   "source": [
    "nombre_infected       935\n",
    "nombre_sain          1859\n",
    "nombre_exposed        493\n",
    "nombre_recovered    16713\n",
    "Name: 554, dtype: int64"
   ]
  },
  {
   "cell_type": "markdown",
   "id": "1b85c797",
   "metadata": {},
   "source": [
    "nombre_infected       934\n",
    "nombre_sain          1885\n",
    "nombre_exposed        459\n",
    "nombre_recovered    16722\n",
    "Name: 555, dtype: int64"
   ]
  },
  {
   "cell_type": "markdown",
   "id": "b213df4a",
   "metadata": {},
   "source": [
    "nombre_infected       919\n",
    "nombre_sain          1916\n",
    "nombre_exposed        440\n",
    "nombre_recovered    16725\n",
    "Name: 556, dtype: int64"
   ]
  },
  {
   "cell_type": "markdown",
   "id": "4e587ca9",
   "metadata": {},
   "source": [
    "nombre_infected       931\n",
    "nombre_sain          1960\n",
    "nombre_exposed        425\n",
    "nombre_recovered    16684\n",
    "Name: 557, dtype: int64"
   ]
  },
  {
   "cell_type": "markdown",
   "id": "079036a3",
   "metadata": {},
   "source": [
    "nombre_infected       927\n",
    "nombre_sain          2009\n",
    "nombre_exposed        411\n",
    "nombre_recovered    16653\n",
    "Name: 558, dtype: int64"
   ]
  },
  {
   "cell_type": "markdown",
   "id": "a2866373",
   "metadata": {},
   "source": [
    "nombre_infected       903\n",
    "nombre_sain          2035\n",
    "nombre_exposed        414\n",
    "nombre_recovered    16648\n",
    "Name: 559, dtype: int64"
   ]
  },
  {
   "cell_type": "markdown",
   "id": "a6e9e8c4",
   "metadata": {},
   "source": [
    "nombre_infected       879\n",
    "nombre_sain          2073\n",
    "nombre_exposed        431\n",
    "nombre_recovered    16617\n",
    "Name: 560, dtype: int64"
   ]
  },
  {
   "cell_type": "markdown",
   "id": "48a0de9b",
   "metadata": {},
   "source": [
    "nombre_infected       887\n",
    "nombre_sain          2123\n",
    "nombre_exposed        420\n",
    "nombre_recovered    16570\n",
    "Name: 561, dtype: int64"
   ]
  },
  {
   "cell_type": "markdown",
   "id": "40049a8d",
   "metadata": {},
   "source": [
    "nombre_infected       875\n",
    "nombre_sain          2105\n",
    "nombre_exposed        463\n",
    "nombre_recovered    16557\n",
    "Name: 562, dtype: int64"
   ]
  },
  {
   "cell_type": "markdown",
   "id": "87bc3d6a",
   "metadata": {},
   "source": [
    "nombre_infected       850\n",
    "nombre_sain          2084\n",
    "nombre_exposed        497\n",
    "nombre_recovered    16569\n",
    "Name: 563, dtype: int64"
   ]
  },
  {
   "cell_type": "markdown",
   "id": "60c8bfb7",
   "metadata": {},
   "source": [
    "nombre_infected       883\n",
    "nombre_sain          2085\n",
    "nombre_exposed        484\n",
    "nombre_recovered    16548\n",
    "Name: 564, dtype: int64"
   ]
  },
  {
   "cell_type": "markdown",
   "id": "db000c76",
   "metadata": {},
   "source": [
    "nombre_infected       891\n",
    "nombre_sain          2094\n",
    "nombre_exposed        472\n",
    "nombre_recovered    16543\n",
    "Name: 565, dtype: int64"
   ]
  },
  {
   "cell_type": "markdown",
   "id": "483e711a",
   "metadata": {},
   "source": [
    "nombre_infected       898\n",
    "nombre_sain          2093\n",
    "nombre_exposed        481\n",
    "nombre_recovered    16528\n",
    "Name: 566, dtype: int64"
   ]
  },
  {
   "cell_type": "markdown",
   "id": "fba829ff",
   "metadata": {},
   "source": [
    "nombre_infected       891\n",
    "nombre_sain          2093\n",
    "nombre_exposed        492\n",
    "nombre_recovered    16524\n",
    "Name: 567, dtype: int64"
   ]
  },
  {
   "cell_type": "markdown",
   "id": "faa9f363",
   "metadata": {},
   "source": [
    "nombre_infected       878\n",
    "nombre_sain          2089\n",
    "nombre_exposed        515\n",
    "nombre_recovered    16518\n",
    "Name: 568, dtype: int64"
   ]
  },
  {
   "cell_type": "markdown",
   "id": "d24f1283",
   "metadata": {},
   "source": [
    "nombre_infected       890\n",
    "nombre_sain          2097\n",
    "nombre_exposed        516\n",
    "nombre_recovered    16497\n",
    "Name: 569, dtype: int64"
   ]
  },
  {
   "cell_type": "markdown",
   "id": "c2c35c61",
   "metadata": {},
   "source": [
    "nombre_infected       911\n",
    "nombre_sain          2110\n",
    "nombre_exposed        506\n",
    "nombre_recovered    16473\n",
    "Name: 570, dtype: int64"
   ]
  },
  {
   "cell_type": "markdown",
   "id": "2b9b8c53",
   "metadata": {},
   "source": [
    "nombre_infected       948\n",
    "nombre_sain          2136\n",
    "nombre_exposed        493\n",
    "nombre_recovered    16423\n",
    "Name: 571, dtype: int64"
   ]
  },
  {
   "cell_type": "markdown",
   "id": "4e2b3939",
   "metadata": {},
   "source": [
    "nombre_infected       939\n",
    "nombre_sain          2137\n",
    "nombre_exposed        506\n",
    "nombre_recovered    16418\n",
    "Name: 572, dtype: int64"
   ]
  },
  {
   "cell_type": "markdown",
   "id": "409909a7",
   "metadata": {},
   "source": [
    "nombre_infected       945\n",
    "nombre_sain          2125\n",
    "nombre_exposed        506\n",
    "nombre_recovered    16424\n",
    "Name: 573, dtype: int64"
   ]
  },
  {
   "cell_type": "markdown",
   "id": "eeb76831",
   "metadata": {},
   "source": [
    "nombre_infected       937\n",
    "nombre_sain          2113\n",
    "nombre_exposed        522\n",
    "nombre_recovered    16428\n",
    "Name: 574, dtype: int64"
   ]
  },
  {
   "cell_type": "markdown",
   "id": "b0e25d71",
   "metadata": {},
   "source": [
    "nombre_infected       956\n",
    "nombre_sain          2111\n",
    "nombre_exposed        513\n",
    "nombre_recovered    16420\n",
    "Name: 575, dtype: int64"
   ]
  },
  {
   "cell_type": "markdown",
   "id": "f80e0eb2",
   "metadata": {},
   "source": [
    "nombre_infected       956\n",
    "nombre_sain          2099\n",
    "nombre_exposed        519\n",
    "nombre_recovered    16426\n",
    "Name: 576, dtype: int64"
   ]
  },
  {
   "cell_type": "markdown",
   "id": "7eb699f2",
   "metadata": {},
   "source": [
    "nombre_infected       998\n",
    "nombre_sain          2095\n",
    "nombre_exposed        516\n",
    "nombre_recovered    16391\n",
    "Name: 577, dtype: int64"
   ]
  },
  {
   "cell_type": "markdown",
   "id": "5fec486c",
   "metadata": {},
   "source": [
    "nombre_infected      1020\n",
    "nombre_sain          2101\n",
    "nombre_exposed        480\n",
    "nombre_recovered    16399\n",
    "Name: 578, dtype: int64"
   ]
  },
  {
   "cell_type": "markdown",
   "id": "4262826f",
   "metadata": {},
   "source": [
    "nombre_infected      1012\n",
    "nombre_sain          2106\n",
    "nombre_exposed        485\n",
    "nombre_recovered    16397\n",
    "Name: 579, dtype: int64"
   ]
  },
  {
   "cell_type": "markdown",
   "id": "4d7876ab",
   "metadata": {},
   "source": [
    "nombre_infected      1018\n",
    "nombre_sain          2087\n",
    "nombre_exposed        484\n",
    "nombre_recovered    16411\n",
    "Name: 580, dtype: int64"
   ]
  },
  {
   "cell_type": "markdown",
   "id": "4b932b54",
   "metadata": {},
   "source": [
    "nombre_infected      1010\n",
    "nombre_sain          2068\n",
    "nombre_exposed        512\n",
    "nombre_recovered    16410\n",
    "Name: 581, dtype: int64"
   ]
  },
  {
   "cell_type": "markdown",
   "id": "12b4f595",
   "metadata": {},
   "source": [
    "nombre_infected      1003\n",
    "nombre_sain          2071\n",
    "nombre_exposed        519\n",
    "nombre_recovered    16407\n",
    "Name: 582, dtype: int64"
   ]
  },
  {
   "cell_type": "markdown",
   "id": "af338e7a",
   "metadata": {},
   "source": [
    "nombre_infected      1004\n",
    "nombre_sain          2065\n",
    "nombre_exposed        510\n",
    "nombre_recovered    16421\n",
    "Name: 583, dtype: int64"
   ]
  },
  {
   "cell_type": "markdown",
   "id": "a885cc3f",
   "metadata": {},
   "source": [
    "nombre_infected      1022\n",
    "nombre_sain          2058\n",
    "nombre_exposed        494\n",
    "nombre_recovered    16426\n",
    "Name: 584, dtype: int64"
   ]
  },
  {
   "cell_type": "markdown",
   "id": "c19a1c72",
   "metadata": {},
   "source": [
    "nombre_infected      1040\n",
    "nombre_sain          2057\n",
    "nombre_exposed        487\n",
    "nombre_recovered    16416\n",
    "Name: 585, dtype: int64"
   ]
  },
  {
   "cell_type": "markdown",
   "id": "25cbb44b",
   "metadata": {},
   "source": [
    "nombre_infected      1021\n",
    "nombre_sain          2067\n",
    "nombre_exposed        495\n",
    "nombre_recovered    16417\n",
    "Name: 586, dtype: int64"
   ]
  },
  {
   "cell_type": "markdown",
   "id": "d6584b66",
   "metadata": {},
   "source": [
    "nombre_infected      1000\n",
    "nombre_sain          2076\n",
    "nombre_exposed        508\n",
    "nombre_recovered    16416\n",
    "Name: 587, dtype: int64"
   ]
  },
  {
   "cell_type": "markdown",
   "id": "e6d6ec64",
   "metadata": {},
   "source": [
    "nombre_infected      1008\n",
    "nombre_sain          2082\n",
    "nombre_exposed        511\n",
    "nombre_recovered    16399\n",
    "Name: 588, dtype: int64"
   ]
  },
  {
   "cell_type": "markdown",
   "id": "0044b128",
   "metadata": {},
   "source": [
    "nombre_infected      1006\n",
    "nombre_sain          2092\n",
    "nombre_exposed        501\n",
    "nombre_recovered    16401\n",
    "Name: 589, dtype: int64"
   ]
  },
  {
   "cell_type": "markdown",
   "id": "10e0c4e6",
   "metadata": {},
   "source": [
    "nombre_infected      1010\n",
    "nombre_sain          2098\n",
    "nombre_exposed        489\n",
    "nombre_recovered    16403\n",
    "Name: 590, dtype: int64"
   ]
  },
  {
   "cell_type": "markdown",
   "id": "93610b7b",
   "metadata": {},
   "source": [
    "nombre_infected      1007\n",
    "nombre_sain          2096\n",
    "nombre_exposed        503\n",
    "nombre_recovered    16394\n",
    "Name: 591, dtype: int64"
   ]
  },
  {
   "cell_type": "markdown",
   "id": "34749e9f",
   "metadata": {},
   "source": [
    "nombre_infected       997\n",
    "nombre_sain          2115\n",
    "nombre_exposed        528\n",
    "nombre_recovered    16360\n",
    "Name: 592, dtype: int64"
   ]
  },
  {
   "cell_type": "markdown",
   "id": "a41c85a2",
   "metadata": {},
   "source": [
    "nombre_infected       991\n",
    "nombre_sain          2126\n",
    "nombre_exposed        532\n",
    "nombre_recovered    16351\n",
    "Name: 593, dtype: int64"
   ]
  },
  {
   "cell_type": "markdown",
   "id": "fb6d3a1f",
   "metadata": {},
   "source": [
    "nombre_infected      1000\n",
    "nombre_sain          2126\n",
    "nombre_exposed        525\n",
    "nombre_recovered    16349\n",
    "Name: 594, dtype: int64"
   ]
  },
  {
   "cell_type": "markdown",
   "id": "c2e4deec",
   "metadata": {},
   "source": [
    "nombre_infected      1008\n",
    "nombre_sain          2138\n",
    "nombre_exposed        516\n",
    "nombre_recovered    16338\n",
    "Name: 595, dtype: int64"
   ]
  },
  {
   "cell_type": "markdown",
   "id": "66aada81",
   "metadata": {},
   "source": [
    "nombre_infected      1005\n",
    "nombre_sain          2140\n",
    "nombre_exposed        535\n",
    "nombre_recovered    16320\n",
    "Name: 596, dtype: int64"
   ]
  },
  {
   "cell_type": "markdown",
   "id": "c1874f09",
   "metadata": {},
   "source": [
    "nombre_infected      1013\n",
    "nombre_sain          2157\n",
    "nombre_exposed        514\n",
    "nombre_recovered    16316\n",
    "Name: 597, dtype: int64"
   ]
  },
  {
   "cell_type": "markdown",
   "id": "a942f587",
   "metadata": {},
   "source": [
    "nombre_infected       996\n",
    "nombre_sain          2151\n",
    "nombre_exposed        532\n",
    "nombre_recovered    16321\n",
    "Name: 598, dtype: int64"
   ]
  },
  {
   "cell_type": "markdown",
   "id": "bb7eb691",
   "metadata": {},
   "source": [
    "nombre_infected       989\n",
    "nombre_sain          2149\n",
    "nombre_exposed        541\n",
    "nombre_recovered    16321\n",
    "Name: 599, dtype: int64"
   ]
  },
  {
   "cell_type": "markdown",
   "id": "af20f291",
   "metadata": {},
   "source": [
    "nombre_infected       986\n",
    "nombre_sain          2135\n",
    "nombre_exposed        543\n",
    "nombre_recovered    16336\n",
    "Name: 600, dtype: int64"
   ]
  },
  {
   "cell_type": "markdown",
   "id": "093c0420",
   "metadata": {},
   "source": [
    "nombre_infected       977\n",
    "nombre_sain          2137\n",
    "nombre_exposed        551\n",
    "nombre_recovered    16335\n",
    "Name: 601, dtype: int64"
   ]
  },
  {
   "cell_type": "markdown",
   "id": "44894f9b",
   "metadata": {},
   "source": [
    "nombre_infected       992\n",
    "nombre_sain          2145\n",
    "nombre_exposed        534\n",
    "nombre_recovered    16329\n",
    "Name: 602, dtype: int64"
   ]
  },
  {
   "cell_type": "markdown",
   "id": "73faf47b",
   "metadata": {},
   "source": [
    "nombre_infected       997\n",
    "nombre_sain          2121\n",
    "nombre_exposed        528\n",
    "nombre_recovered    16354\n",
    "Name: 603, dtype: int64"
   ]
  },
  {
   "cell_type": "markdown",
   "id": "ac05c75a",
   "metadata": {},
   "source": [
    "nombre_infected      1008\n",
    "nombre_sain          2101\n",
    "nombre_exposed        533\n",
    "nombre_recovered    16358\n",
    "Name: 604, dtype: int64"
   ]
  },
  {
   "cell_type": "markdown",
   "id": "073e63c4",
   "metadata": {},
   "source": [
    "nombre_infected       997\n",
    "nombre_sain          2107\n",
    "nombre_exposed        542\n",
    "nombre_recovered    16354\n",
    "Name: 605, dtype: int64"
   ]
  },
  {
   "cell_type": "markdown",
   "id": "8f570945",
   "metadata": {},
   "source": [
    "nombre_infected      1011\n",
    "nombre_sain          2101\n",
    "nombre_exposed        518\n",
    "nombre_recovered    16370\n",
    "Name: 606, dtype: int64"
   ]
  },
  {
   "cell_type": "markdown",
   "id": "95d7bf7b",
   "metadata": {},
   "source": [
    "nombre_infected      1003\n",
    "nombre_sain          2120\n",
    "nombre_exposed        514\n",
    "nombre_recovered    16363\n",
    "Name: 607, dtype: int64"
   ]
  },
  {
   "cell_type": "markdown",
   "id": "f963707a",
   "metadata": {},
   "source": [
    "nombre_infected       956\n",
    "nombre_sain          2103\n",
    "nombre_exposed        524\n",
    "nombre_recovered    16417\n",
    "Name: 608, dtype: int64"
   ]
  },
  {
   "cell_type": "markdown",
   "id": "1024c8d2",
   "metadata": {},
   "source": [
    "nombre_infected       957\n",
    "nombre_sain          2090\n",
    "nombre_exposed        547\n",
    "nombre_recovered    16406\n",
    "Name: 609, dtype: int64"
   ]
  },
  {
   "cell_type": "markdown",
   "id": "84b8b28b",
   "metadata": {},
   "source": [
    "nombre_infected       977\n",
    "nombre_sain          2083\n",
    "nombre_exposed        538\n",
    "nombre_recovered    16402\n",
    "Name: 610, dtype: int64"
   ]
  },
  {
   "cell_type": "markdown",
   "id": "7de634ad",
   "metadata": {},
   "source": [
    "nombre_infected       962\n",
    "nombre_sain          2078\n",
    "nombre_exposed        550\n",
    "nombre_recovered    16410\n",
    "Name: 611, dtype: int64"
   ]
  },
  {
   "cell_type": "markdown",
   "id": "d74a5d2d",
   "metadata": {},
   "source": [
    "nombre_infected       931\n",
    "nombre_sain          2101\n",
    "nombre_exposed        530\n",
    "nombre_recovered    16438\n",
    "Name: 612, dtype: int64"
   ]
  },
  {
   "cell_type": "markdown",
   "id": "bb3f08e0",
   "metadata": {},
   "source": [
    "nombre_infected       954\n",
    "nombre_sain          2103\n",
    "nombre_exposed        517\n",
    "nombre_recovered    16426\n",
    "Name: 613, dtype: int64"
   ]
  },
  {
   "cell_type": "markdown",
   "id": "fdc80184",
   "metadata": {},
   "source": [
    "nombre_infected       972\n",
    "nombre_sain          2080\n",
    "nombre_exposed        554\n",
    "nombre_recovered    16394\n",
    "Name: 614, dtype: int64"
   ]
  },
  {
   "cell_type": "markdown",
   "id": "4663e05c",
   "metadata": {},
   "source": [
    "nombre_infected       955\n",
    "nombre_sain          2062\n",
    "nombre_exposed        561\n",
    "nombre_recovered    16422\n",
    "Name: 615, dtype: int64"
   ]
  },
  {
   "cell_type": "markdown",
   "id": "e7233b51",
   "metadata": {},
   "source": [
    "nombre_infected       980\n",
    "nombre_sain          2080\n",
    "nombre_exposed        538\n",
    "nombre_recovered    16402\n",
    "Name: 616, dtype: int64"
   ]
  },
  {
   "cell_type": "markdown",
   "id": "f3b4e8ee",
   "metadata": {},
   "source": [
    "nombre_infected       975\n",
    "nombre_sain          2102\n",
    "nombre_exposed        529\n",
    "nombre_recovered    16394\n",
    "Name: 617, dtype: int64"
   ]
  },
  {
   "cell_type": "markdown",
   "id": "a570b5d2",
   "metadata": {},
   "source": [
    "nombre_infected       981\n",
    "nombre_sain          2106\n",
    "nombre_exposed        510\n",
    "nombre_recovered    16403\n",
    "Name: 618, dtype: int64"
   ]
  },
  {
   "cell_type": "markdown",
   "id": "af36dbc5",
   "metadata": {},
   "source": [
    "nombre_infected       960\n",
    "nombre_sain          2140\n",
    "nombre_exposed        509\n",
    "nombre_recovered    16391\n",
    "Name: 619, dtype: int64"
   ]
  },
  {
   "cell_type": "markdown",
   "id": "ff686272",
   "metadata": {},
   "source": [
    "nombre_infected       931\n",
    "nombre_sain          2169\n",
    "nombre_exposed        516\n",
    "nombre_recovered    16384\n",
    "Name: 620, dtype: int64"
   ]
  },
  {
   "cell_type": "markdown",
   "id": "76773688",
   "metadata": {},
   "source": [
    "nombre_infected       917\n",
    "nombre_sain          2174\n",
    "nombre_exposed        528\n",
    "nombre_recovered    16381\n",
    "Name: 621, dtype: int64"
   ]
  },
  {
   "cell_type": "markdown",
   "id": "ae4ba224",
   "metadata": {},
   "source": [
    "nombre_infected       943\n",
    "nombre_sain          2198\n",
    "nombre_exposed        510\n",
    "nombre_recovered    16349\n",
    "Name: 622, dtype: int64"
   ]
  },
  {
   "cell_type": "markdown",
   "id": "a7fa68da",
   "metadata": {},
   "source": [
    "nombre_infected       945\n",
    "nombre_sain          2195\n",
    "nombre_exposed        505\n",
    "nombre_recovered    16355\n",
    "Name: 623, dtype: int64"
   ]
  },
  {
   "cell_type": "markdown",
   "id": "01ca43c6",
   "metadata": {},
   "source": [
    "nombre_infected       958\n",
    "nombre_sain          2221\n",
    "nombre_exposed        496\n",
    "nombre_recovered    16325\n",
    "Name: 624, dtype: int64"
   ]
  },
  {
   "cell_type": "markdown",
   "id": "34e14ab3",
   "metadata": {},
   "source": [
    "nombre_infected       956\n",
    "nombre_sain          2224\n",
    "nombre_exposed        495\n",
    "nombre_recovered    16325\n",
    "Name: 625, dtype: int64"
   ]
  },
  {
   "cell_type": "markdown",
   "id": "d7b35014",
   "metadata": {},
   "source": [
    "nombre_infected       942\n",
    "nombre_sain          2220\n",
    "nombre_exposed        507\n",
    "nombre_recovered    16331\n",
    "Name: 626, dtype: int64"
   ]
  },
  {
   "cell_type": "markdown",
   "id": "d535bb11",
   "metadata": {},
   "source": [
    "nombre_infected       953\n",
    "nombre_sain          2215\n",
    "nombre_exposed        494\n",
    "nombre_recovered    16338\n",
    "Name: 627, dtype: int64"
   ]
  },
  {
   "cell_type": "markdown",
   "id": "d412a14f",
   "metadata": {},
   "source": [
    "nombre_infected       952\n",
    "nombre_sain          2207\n",
    "nombre_exposed        502\n",
    "nombre_recovered    16339\n",
    "Name: 628, dtype: int64"
   ]
  },
  {
   "cell_type": "markdown",
   "id": "4c9ca0ee",
   "metadata": {},
   "source": [
    "nombre_infected       950\n",
    "nombre_sain          2204\n",
    "nombre_exposed        521\n",
    "nombre_recovered    16325\n",
    "Name: 629, dtype: int64"
   ]
  },
  {
   "cell_type": "markdown",
   "id": "f386ccca",
   "metadata": {},
   "source": [
    "nombre_infected       947\n",
    "nombre_sain          2205\n",
    "nombre_exposed        535\n",
    "nombre_recovered    16313\n",
    "Name: 630, dtype: int64"
   ]
  },
  {
   "cell_type": "markdown",
   "id": "b807def5",
   "metadata": {},
   "source": [
    "nombre_infected       962\n",
    "nombre_sain          2181\n",
    "nombre_exposed        561\n",
    "nombre_recovered    16296\n",
    "Name: 631, dtype: int64"
   ]
  },
  {
   "cell_type": "markdown",
   "id": "8ac78cf2",
   "metadata": {},
   "source": [
    "nombre_infected       958\n",
    "nombre_sain          2189\n",
    "nombre_exposed        555\n",
    "nombre_recovered    16298\n",
    "Name: 632, dtype: int64"
   ]
  },
  {
   "cell_type": "markdown",
   "id": "0fc68c83",
   "metadata": {},
   "source": [
    "nombre_infected       966\n",
    "nombre_sain          2199\n",
    "nombre_exposed        541\n",
    "nombre_recovered    16294\n",
    "Name: 633, dtype: int64"
   ]
  },
  {
   "cell_type": "markdown",
   "id": "caaef70e",
   "metadata": {},
   "source": [
    "nombre_infected       976\n",
    "nombre_sain          2182\n",
    "nombre_exposed        542\n",
    "nombre_recovered    16300\n",
    "Name: 634, dtype: int64"
   ]
  },
  {
   "cell_type": "markdown",
   "id": "0b7cf10c",
   "metadata": {},
   "source": [
    "nombre_infected       967\n",
    "nombre_sain          2211\n",
    "nombre_exposed        534\n",
    "nombre_recovered    16288\n",
    "Name: 635, dtype: int64"
   ]
  },
  {
   "cell_type": "markdown",
   "id": "e4a79f4a",
   "metadata": {},
   "source": [
    "nombre_infected       995\n",
    "nombre_sain          2204\n",
    "nombre_exposed        538\n",
    "nombre_recovered    16263\n",
    "Name: 636, dtype: int64"
   ]
  },
  {
   "cell_type": "markdown",
   "id": "2bdf9950",
   "metadata": {},
   "source": [
    "nombre_infected      1009\n",
    "nombre_sain          2200\n",
    "nombre_exposed        534\n",
    "nombre_recovered    16257\n",
    "Name: 637, dtype: int64"
   ]
  },
  {
   "cell_type": "markdown",
   "id": "1aee8b27",
   "metadata": {},
   "source": [
    "nombre_infected       986\n",
    "nombre_sain          2160\n",
    "nombre_exposed        579\n",
    "nombre_recovered    16275\n",
    "Name: 638, dtype: int64"
   ]
  },
  {
   "cell_type": "markdown",
   "id": "59a85dcf",
   "metadata": {},
   "source": [
    "nombre_infected      1009\n",
    "nombre_sain          2149\n",
    "nombre_exposed        576\n",
    "nombre_recovered    16266\n",
    "Name: 639, dtype: int64"
   ]
  },
  {
   "cell_type": "markdown",
   "id": "5f2f328f",
   "metadata": {},
   "source": [
    "nombre_infected       997\n",
    "nombre_sain          2153\n",
    "nombre_exposed        549\n",
    "nombre_recovered    16301\n",
    "Name: 640, dtype: int64"
   ]
  },
  {
   "cell_type": "markdown",
   "id": "713afb46",
   "metadata": {},
   "source": [
    "nombre_infected      1033\n",
    "nombre_sain          2121\n",
    "nombre_exposed        561\n",
    "nombre_recovered    16285\n",
    "Name: 641, dtype: int64"
   ]
  },
  {
   "cell_type": "markdown",
   "id": "e0701b2b",
   "metadata": {},
   "source": [
    "nombre_infected      1021\n",
    "nombre_sain          2114\n",
    "nombre_exposed        563\n",
    "nombre_recovered    16302\n",
    "Name: 642, dtype: int64"
   ]
  },
  {
   "cell_type": "markdown",
   "id": "3bbf34cb",
   "metadata": {},
   "source": [
    "nombre_infected      1038\n",
    "nombre_sain          2088\n",
    "nombre_exposed        562\n",
    "nombre_recovered    16312\n",
    "Name: 643, dtype: int64"
   ]
  },
  {
   "cell_type": "markdown",
   "id": "c826de06",
   "metadata": {},
   "source": [
    "nombre_infected      1039\n",
    "nombre_sain          2080\n",
    "nombre_exposed        563\n",
    "nombre_recovered    16318\n",
    "Name: 644, dtype: int64"
   ]
  },
  {
   "cell_type": "markdown",
   "id": "0a07cd8d",
   "metadata": {},
   "source": [
    "nombre_infected      1031\n",
    "nombre_sain          2080\n",
    "nombre_exposed        553\n",
    "nombre_recovered    16336\n",
    "Name: 645, dtype: int64"
   ]
  },
  {
   "cell_type": "markdown",
   "id": "0c87cd91",
   "metadata": {},
   "source": [
    "nombre_infected      1026\n",
    "nombre_sain          2084\n",
    "nombre_exposed        550\n",
    "nombre_recovered    16340\n",
    "Name: 646, dtype: int64"
   ]
  },
  {
   "cell_type": "markdown",
   "id": "e30bdecb",
   "metadata": {},
   "source": [
    "nombre_infected      1029\n",
    "nombre_sain          2068\n",
    "nombre_exposed        567\n",
    "nombre_recovered    16336\n",
    "Name: 647, dtype: int64"
   ]
  },
  {
   "cell_type": "markdown",
   "id": "9df065a6",
   "metadata": {},
   "source": [
    "nombre_infected      1029\n",
    "nombre_sain          2036\n",
    "nombre_exposed        573\n",
    "nombre_recovered    16362\n",
    "Name: 648, dtype: int64"
   ]
  },
  {
   "cell_type": "markdown",
   "id": "7df993c0",
   "metadata": {},
   "source": [
    "nombre_infected      1037\n",
    "nombre_sain          2042\n",
    "nombre_exposed        559\n",
    "nombre_recovered    16362\n",
    "Name: 649, dtype: int64"
   ]
  },
  {
   "cell_type": "markdown",
   "id": "886dc109",
   "metadata": {},
   "source": [
    "nombre_infected      1029\n",
    "nombre_sain          2029\n",
    "nombre_exposed        555\n",
    "nombre_recovered    16387\n",
    "Name: 650, dtype: int64"
   ]
  },
  {
   "cell_type": "markdown",
   "id": "59baece7",
   "metadata": {},
   "source": [
    "nombre_infected      1036\n",
    "nombre_sain          2031\n",
    "nombre_exposed        532\n",
    "nombre_recovered    16401\n",
    "Name: 651, dtype: int64"
   ]
  },
  {
   "cell_type": "markdown",
   "id": "0c9d6e85",
   "metadata": {},
   "source": [
    "nombre_infected      1044\n",
    "nombre_sain          2025\n",
    "nombre_exposed        542\n",
    "nombre_recovered    16389\n",
    "Name: 652, dtype: int64"
   ]
  },
  {
   "cell_type": "markdown",
   "id": "aedbb58c",
   "metadata": {},
   "source": [
    "nombre_infected      1035\n",
    "nombre_sain          2012\n",
    "nombre_exposed        550\n",
    "nombre_recovered    16403\n",
    "Name: 653, dtype: int64"
   ]
  },
  {
   "cell_type": "markdown",
   "id": "8d88c804",
   "metadata": {},
   "source": [
    "nombre_infected      1045\n",
    "nombre_sain          2006\n",
    "nombre_exposed        540\n",
    "nombre_recovered    16409\n",
    "Name: 654, dtype: int64"
   ]
  },
  {
   "cell_type": "markdown",
   "id": "97f0c056",
   "metadata": {},
   "source": [
    "nombre_infected      1065\n",
    "nombre_sain          2019\n",
    "nombre_exposed        518\n",
    "nombre_recovered    16398\n",
    "Name: 655, dtype: int64"
   ]
  },
  {
   "cell_type": "markdown",
   "id": "790c9cbc",
   "metadata": {},
   "source": [
    "nombre_infected      1055\n",
    "nombre_sain          2004\n",
    "nombre_exposed        536\n",
    "nombre_recovered    16405\n",
    "Name: 656, dtype: int64"
   ]
  },
  {
   "cell_type": "markdown",
   "id": "f39ecfdd",
   "metadata": {},
   "source": [
    "nombre_infected      1058\n",
    "nombre_sain          1991\n",
    "nombre_exposed        556\n",
    "nombre_recovered    16395\n",
    "Name: 657, dtype: int64"
   ]
  },
  {
   "cell_type": "markdown",
   "id": "89758451",
   "metadata": {},
   "source": [
    "nombre_infected      1055\n",
    "nombre_sain          1985\n",
    "nombre_exposed        577\n",
    "nombre_recovered    16383\n",
    "Name: 658, dtype: int64"
   ]
  },
  {
   "cell_type": "markdown",
   "id": "c1f0ab42",
   "metadata": {},
   "source": [
    "nombre_infected      1050\n",
    "nombre_sain          1992\n",
    "nombre_exposed        552\n",
    "nombre_recovered    16406\n",
    "Name: 659, dtype: int64"
   ]
  },
  {
   "cell_type": "markdown",
   "id": "da32c5b0",
   "metadata": {},
   "source": [
    "nombre_infected      1032\n",
    "nombre_sain          1983\n",
    "nombre_exposed        573\n",
    "nombre_recovered    16412\n",
    "Name: 660, dtype: int64"
   ]
  },
  {
   "cell_type": "markdown",
   "id": "988b6248",
   "metadata": {},
   "source": [
    "nombre_infected      1023\n",
    "nombre_sain          2008\n",
    "nombre_exposed        555\n",
    "nombre_recovered    16414\n",
    "Name: 661, dtype: int64"
   ]
  },
  {
   "cell_type": "markdown",
   "id": "310a95c8",
   "metadata": {},
   "source": [
    "nombre_infected       992\n",
    "nombre_sain          2019\n",
    "nombre_exposed        552\n",
    "nombre_recovered    16437\n",
    "Name: 662, dtype: int64"
   ]
  },
  {
   "cell_type": "markdown",
   "id": "0b65bb78",
   "metadata": {},
   "source": [
    "nombre_infected      1012\n",
    "nombre_sain          2027\n",
    "nombre_exposed        538\n",
    "nombre_recovered    16423\n",
    "Name: 663, dtype: int64"
   ]
  },
  {
   "cell_type": "markdown",
   "id": "165785aa",
   "metadata": {},
   "source": [
    "nombre_infected      1027\n",
    "nombre_sain          2024\n",
    "nombre_exposed        547\n",
    "nombre_recovered    16402\n",
    "Name: 664, dtype: int64"
   ]
  },
  {
   "cell_type": "markdown",
   "id": "ef1604f5",
   "metadata": {},
   "source": [
    "nombre_infected      1036\n",
    "nombre_sain          2029\n",
    "nombre_exposed        535\n",
    "nombre_recovered    16400\n",
    "Name: 665, dtype: int64"
   ]
  },
  {
   "cell_type": "markdown",
   "id": "d70b21f7",
   "metadata": {},
   "source": [
    "nombre_infected      1033\n",
    "nombre_sain          2043\n",
    "nombre_exposed        521\n",
    "nombre_recovered    16403\n",
    "Name: 666, dtype: int64"
   ]
  },
  {
   "cell_type": "markdown",
   "id": "6aa5395d",
   "metadata": {},
   "source": [
    "nombre_infected      1036\n",
    "nombre_sain          2051\n",
    "nombre_exposed        506\n",
    "nombre_recovered    16407\n",
    "Name: 667, dtype: int64"
   ]
  },
  {
   "cell_type": "markdown",
   "id": "5c32fce5",
   "metadata": {},
   "source": [
    "nombre_infected      1025\n",
    "nombre_sain          2039\n",
    "nombre_exposed        520\n",
    "nombre_recovered    16416\n",
    "Name: 668, dtype: int64"
   ]
  },
  {
   "cell_type": "markdown",
   "id": "fb7c1de1",
   "metadata": {},
   "source": [
    "nombre_infected      1014\n",
    "nombre_sain          2053\n",
    "nombre_exposed        514\n",
    "nombre_recovered    16419\n",
    "Name: 669, dtype: int64"
   ]
  },
  {
   "cell_type": "markdown",
   "id": "92549bad",
   "metadata": {},
   "source": [
    "nombre_infected      1027\n",
    "nombre_sain          2077\n",
    "nombre_exposed        483\n",
    "nombre_recovered    16413\n",
    "Name: 670, dtype: int64"
   ]
  },
  {
   "cell_type": "markdown",
   "id": "1c25b339",
   "metadata": {},
   "source": [
    "nombre_infected      1021\n",
    "nombre_sain          2088\n",
    "nombre_exposed        488\n",
    "nombre_recovered    16403\n",
    "Name: 671, dtype: int64"
   ]
  },
  {
   "cell_type": "markdown",
   "id": "4815cf9f",
   "metadata": {},
   "source": [
    "nombre_infected      1026\n",
    "nombre_sain          2092\n",
    "nombre_exposed        488\n",
    "nombre_recovered    16394\n",
    "Name: 672, dtype: int64"
   ]
  },
  {
   "cell_type": "markdown",
   "id": "3fe93722",
   "metadata": {},
   "source": [
    "nombre_infected       990\n",
    "nombre_sain          2082\n",
    "nombre_exposed        521\n",
    "nombre_recovered    16407\n",
    "Name: 673, dtype: int64"
   ]
  },
  {
   "cell_type": "markdown",
   "id": "2f6023c6",
   "metadata": {},
   "source": [
    "nombre_infected       978\n",
    "nombre_sain          2115\n",
    "nombre_exposed        522\n",
    "nombre_recovered    16385\n",
    "Name: 674, dtype: int64"
   ]
  },
  {
   "cell_type": "markdown",
   "id": "063e5a1f",
   "metadata": {},
   "source": [
    "nombre_infected       975\n",
    "nombre_sain          2138\n",
    "nombre_exposed        507\n",
    "nombre_recovered    16380\n",
    "Name: 675, dtype: int64"
   ]
  },
  {
   "cell_type": "markdown",
   "id": "043c409e",
   "metadata": {},
   "source": [
    "nombre_infected       958\n",
    "nombre_sain          2141\n",
    "nombre_exposed        543\n",
    "nombre_recovered    16358\n",
    "Name: 676, dtype: int64"
   ]
  },
  {
   "cell_type": "markdown",
   "id": "2b9cf345",
   "metadata": {},
   "source": [
    "nombre_infected       980\n",
    "nombre_sain          2172\n",
    "nombre_exposed        530\n",
    "nombre_recovered    16318\n",
    "Name: 677, dtype: int64"
   ]
  },
  {
   "cell_type": "markdown",
   "id": "36b5557b",
   "metadata": {},
   "source": [
    "nombre_infected       997\n",
    "nombre_sain          2182\n",
    "nombre_exposed        529\n",
    "nombre_recovered    16292\n",
    "Name: 678, dtype: int64"
   ]
  },
  {
   "cell_type": "markdown",
   "id": "fc0579b9",
   "metadata": {},
   "source": [
    "nombre_infected       997\n",
    "nombre_sain          2204\n",
    "nombre_exposed        527\n",
    "nombre_recovered    16272\n",
    "Name: 679, dtype: int64"
   ]
  },
  {
   "cell_type": "markdown",
   "id": "90e76213",
   "metadata": {},
   "source": [
    "nombre_infected      1023\n",
    "nombre_sain          2202\n",
    "nombre_exposed        509\n",
    "nombre_recovered    16266\n",
    "Name: 680, dtype: int64"
   ]
  },
  {
   "cell_type": "markdown",
   "id": "a380623e",
   "metadata": {},
   "source": [
    "nombre_infected      1008\n",
    "nombre_sain          2176\n",
    "nombre_exposed        523\n",
    "nombre_recovered    16293\n",
    "Name: 681, dtype: int64"
   ]
  },
  {
   "cell_type": "markdown",
   "id": "0af6d55c",
   "metadata": {},
   "source": [
    "nombre_infected       992\n",
    "nombre_sain          2176\n",
    "nombre_exposed        524\n",
    "nombre_recovered    16308\n",
    "Name: 682, dtype: int64"
   ]
  },
  {
   "cell_type": "markdown",
   "id": "d9cf9380",
   "metadata": {},
   "source": [
    "nombre_infected       982\n",
    "nombre_sain          2147\n",
    "nombre_exposed        550\n",
    "nombre_recovered    16321\n",
    "Name: 683, dtype: int64"
   ]
  },
  {
   "cell_type": "markdown",
   "id": "29e101a3",
   "metadata": {},
   "source": [
    "nombre_infected       939\n",
    "nombre_sain          2127\n",
    "nombre_exposed        584\n",
    "nombre_recovered    16350\n",
    "Name: 684, dtype: int64"
   ]
  },
  {
   "cell_type": "markdown",
   "id": "bcc0ad0b",
   "metadata": {},
   "source": [
    "nombre_infected       951\n",
    "nombre_sain          2121\n",
    "nombre_exposed        573\n",
    "nombre_recovered    16355\n",
    "Name: 685, dtype: int64"
   ]
  },
  {
   "cell_type": "markdown",
   "id": "3fa2b488",
   "metadata": {},
   "source": [
    "nombre_infected       971\n",
    "nombre_sain          2130\n",
    "nombre_exposed        545\n",
    "nombre_recovered    16354\n",
    "Name: 686, dtype: int64"
   ]
  },
  {
   "cell_type": "markdown",
   "id": "cadc6637",
   "metadata": {},
   "source": [
    "nombre_infected      1005\n",
    "nombre_sain          2120\n",
    "nombre_exposed        516\n",
    "nombre_recovered    16359\n",
    "Name: 687, dtype: int64"
   ]
  },
  {
   "cell_type": "markdown",
   "id": "b473b2bd",
   "metadata": {},
   "source": [
    "nombre_infected      1027\n",
    "nombre_sain          2127\n",
    "nombre_exposed        514\n",
    "nombre_recovered    16332\n",
    "Name: 688, dtype: int64"
   ]
  },
  {
   "cell_type": "markdown",
   "id": "90b66fd3",
   "metadata": {},
   "source": [
    "nombre_infected      1021\n",
    "nombre_sain          2117\n",
    "nombre_exposed        525\n",
    "nombre_recovered    16337\n",
    "Name: 689, dtype: int64"
   ]
  },
  {
   "cell_type": "markdown",
   "id": "d875305f",
   "metadata": {},
   "source": [
    "nombre_infected      1001\n",
    "nombre_sain          2094\n",
    "nombre_exposed        540\n",
    "nombre_recovered    16365\n",
    "Name: 690, dtype: int64"
   ]
  },
  {
   "cell_type": "markdown",
   "id": "c53cea98",
   "metadata": {},
   "source": [
    "nombre_infected      1009\n",
    "nombre_sain          2071\n",
    "nombre_exposed        554\n",
    "nombre_recovered    16366\n",
    "Name: 691, dtype: int64"
   ]
  },
  {
   "cell_type": "markdown",
   "id": "88a0cd06",
   "metadata": {},
   "source": [
    "nombre_infected      1024\n",
    "nombre_sain          2064\n",
    "nombre_exposed        536\n",
    "nombre_recovered    16376\n",
    "Name: 692, dtype: int64"
   ]
  },
  {
   "cell_type": "markdown",
   "id": "0b02ee1d",
   "metadata": {},
   "source": [
    "nombre_infected      1006\n",
    "nombre_sain          2084\n",
    "nombre_exposed        522\n",
    "nombre_recovered    16388\n",
    "Name: 693, dtype: int64"
   ]
  },
  {
   "cell_type": "markdown",
   "id": "7981ff35",
   "metadata": {},
   "source": [
    "nombre_infected      1008\n",
    "nombre_sain          2082\n",
    "nombre_exposed        511\n",
    "nombre_recovered    16399\n",
    "Name: 694, dtype: int64"
   ]
  },
  {
   "cell_type": "markdown",
   "id": "cedd2385",
   "metadata": {},
   "source": [
    "nombre_infected       983\n",
    "nombre_sain          2076\n",
    "nombre_exposed        524\n",
    "nombre_recovered    16417\n",
    "Name: 695, dtype: int64"
   ]
  },
  {
   "cell_type": "markdown",
   "id": "83769555",
   "metadata": {},
   "source": [
    "nombre_infected       993\n",
    "nombre_sain          2064\n",
    "nombre_exposed        539\n",
    "nombre_recovered    16404\n",
    "Name: 696, dtype: int64"
   ]
  },
  {
   "cell_type": "markdown",
   "id": "2d7374d3",
   "metadata": {},
   "source": [
    "nombre_infected      1000\n",
    "nombre_sain          2093\n",
    "nombre_exposed        520\n",
    "nombre_recovered    16387\n",
    "Name: 697, dtype: int64"
   ]
  },
  {
   "cell_type": "markdown",
   "id": "266dea69",
   "metadata": {},
   "source": [
    "nombre_infected       990\n",
    "nombre_sain          2111\n",
    "nombre_exposed        513\n",
    "nombre_recovered    16386\n",
    "Name: 698, dtype: int64"
   ]
  },
  {
   "cell_type": "markdown",
   "id": "ac745213",
   "metadata": {},
   "source": [
    "nombre_infected      1014\n",
    "nombre_sain          2112\n",
    "nombre_exposed        491\n",
    "nombre_recovered    16383\n",
    "Name: 699, dtype: int64"
   ]
  },
  {
   "cell_type": "markdown",
   "id": "50369d57",
   "metadata": {},
   "source": [
    "nombre_infected      1003\n",
    "nombre_sain          2117\n",
    "nombre_exposed        500\n",
    "nombre_recovered    16380\n",
    "Name: 700, dtype: int64"
   ]
  },
  {
   "cell_type": "markdown",
   "id": "20e5fa77",
   "metadata": {},
   "source": [
    "nombre_infected       980\n",
    "nombre_sain          2134\n",
    "nombre_exposed        513\n",
    "nombre_recovered    16373\n",
    "Name: 701, dtype: int64"
   ]
  },
  {
   "cell_type": "markdown",
   "id": "a0e3d4ae",
   "metadata": {},
   "source": [
    "nombre_infected       970\n",
    "nombre_sain          2146\n",
    "nombre_exposed        510\n",
    "nombre_recovered    16374\n",
    "Name: 702, dtype: int64"
   ]
  },
  {
   "cell_type": "markdown",
   "id": "23cbd337",
   "metadata": {},
   "source": [
    "nombre_infected       975\n",
    "nombre_sain          2137\n",
    "nombre_exposed        525\n",
    "nombre_recovered    16363\n",
    "Name: 703, dtype: int64"
   ]
  },
  {
   "cell_type": "markdown",
   "id": "44f9451d",
   "metadata": {},
   "source": [
    "nombre_infected       976\n",
    "nombre_sain          2123\n",
    "nombre_exposed        526\n",
    "nombre_recovered    16375\n",
    "Name: 704, dtype: int64"
   ]
  },
  {
   "cell_type": "markdown",
   "id": "e3f3e602",
   "metadata": {},
   "source": [
    "nombre_infected      1003\n",
    "nombre_sain          2115\n",
    "nombre_exposed        525\n",
    "nombre_recovered    16357\n",
    "Name: 705, dtype: int64"
   ]
  },
  {
   "cell_type": "markdown",
   "id": "22e79f95",
   "metadata": {},
   "source": [
    "nombre_infected      1020\n",
    "nombre_sain          2113\n",
    "nombre_exposed        541\n",
    "nombre_recovered    16326\n",
    "Name: 706, dtype: int64"
   ]
  },
  {
   "cell_type": "markdown",
   "id": "52b62cdf",
   "metadata": {},
   "source": [
    "nombre_infected      1008\n",
    "nombre_sain          2118\n",
    "nombre_exposed        555\n",
    "nombre_recovered    16319\n",
    "Name: 707, dtype: int64"
   ]
  },
  {
   "cell_type": "markdown",
   "id": "dc9a598c",
   "metadata": {},
   "source": [
    "nombre_infected      1021\n",
    "nombre_sain          2103\n",
    "nombre_exposed        545\n",
    "nombre_recovered    16331\n",
    "Name: 708, dtype: int64"
   ]
  },
  {
   "cell_type": "markdown",
   "id": "5ec324aa",
   "metadata": {},
   "source": [
    "nombre_infected      1017\n",
    "nombre_sain          2088\n",
    "nombre_exposed        538\n",
    "nombre_recovered    16357\n",
    "Name: 709, dtype: int64"
   ]
  },
  {
   "cell_type": "markdown",
   "id": "f57807e5",
   "metadata": {},
   "source": [
    "nombre_infected      1067\n",
    "nombre_sain          2087\n",
    "nombre_exposed        503\n",
    "nombre_recovered    16343\n",
    "Name: 710, dtype: int64"
   ]
  },
  {
   "cell_type": "markdown",
   "id": "45b565f1",
   "metadata": {},
   "source": [
    "nombre_infected      1067\n",
    "nombre_sain          2090\n",
    "nombre_exposed        497\n",
    "nombre_recovered    16346\n",
    "Name: 711, dtype: int64"
   ]
  },
  {
   "cell_type": "markdown",
   "id": "547596c2",
   "metadata": {},
   "source": [
    "nombre_infected      1082\n",
    "nombre_sain          2075\n",
    "nombre_exposed        484\n",
    "nombre_recovered    16359\n",
    "Name: 712, dtype: int64"
   ]
  },
  {
   "cell_type": "markdown",
   "id": "8ba460c1",
   "metadata": {},
   "source": [
    "nombre_infected      1064\n",
    "nombre_sain          2056\n",
    "nombre_exposed        514\n",
    "nombre_recovered    16366\n",
    "Name: 713, dtype: int64"
   ]
  },
  {
   "cell_type": "markdown",
   "id": "e9f89c9f",
   "metadata": {},
   "source": [
    "nombre_infected      1061\n",
    "nombre_sain          2018\n",
    "nombre_exposed        524\n",
    "nombre_recovered    16397\n",
    "Name: 714, dtype: int64"
   ]
  },
  {
   "cell_type": "markdown",
   "id": "422d78ac",
   "metadata": {},
   "source": [
    "nombre_infected      1065\n",
    "nombre_sain          2021\n",
    "nombre_exposed        518\n",
    "nombre_recovered    16396\n",
    "Name: 715, dtype: int64"
   ]
  },
  {
   "cell_type": "markdown",
   "id": "4ec90543",
   "metadata": {},
   "source": [
    "nombre_infected      1093\n",
    "nombre_sain          2026\n",
    "nombre_exposed        463\n",
    "nombre_recovered    16418\n",
    "Name: 716, dtype: int64"
   ]
  },
  {
   "cell_type": "markdown",
   "id": "13421d17",
   "metadata": {},
   "source": [
    "nombre_infected      1067\n",
    "nombre_sain          1995\n",
    "nombre_exposed        485\n",
    "nombre_recovered    16453\n",
    "Name: 717, dtype: int64"
   ]
  },
  {
   "cell_type": "markdown",
   "id": "35c226e6",
   "metadata": {},
   "source": [
    "nombre_infected      1040\n",
    "nombre_sain          1981\n",
    "nombre_exposed        503\n",
    "nombre_recovered    16476\n",
    "Name: 718, dtype: int64"
   ]
  },
  {
   "cell_type": "markdown",
   "id": "2c4756fc",
   "metadata": {},
   "source": [
    "nombre_infected      1010\n",
    "nombre_sain          1997\n",
    "nombre_exposed        498\n",
    "nombre_recovered    16495\n",
    "Name: 719, dtype: int64"
   ]
  },
  {
   "cell_type": "markdown",
   "id": "58a710f1",
   "metadata": {},
   "source": [
    "nombre_infected      1020\n",
    "nombre_sain          1978\n",
    "nombre_exposed        494\n",
    "nombre_recovered    16508\n",
    "Name: 720, dtype: int64"
   ]
  },
  {
   "cell_type": "markdown",
   "id": "082e91c7",
   "metadata": {},
   "source": [
    "nombre_infected      1002\n",
    "nombre_sain          1941\n",
    "nombre_exposed        540\n",
    "nombre_recovered    16517\n",
    "Name: 721, dtype: int64"
   ]
  },
  {
   "cell_type": "markdown",
   "id": "e94521f0",
   "metadata": {},
   "source": [
    "nombre_infected       988\n",
    "nombre_sain          1929\n",
    "nombre_exposed        545\n",
    "nombre_recovered    16538\n",
    "Name: 722, dtype: int64"
   ]
  },
  {
   "cell_type": "markdown",
   "id": "77c5e0a1",
   "metadata": {},
   "source": [
    "nombre_infected      1011\n",
    "nombre_sain          1925\n",
    "nombre_exposed        530\n",
    "nombre_recovered    16534\n",
    "Name: 723, dtype: int64"
   ]
  },
  {
   "cell_type": "markdown",
   "id": "906e9651",
   "metadata": {},
   "source": [
    "nombre_infected      1028\n",
    "nombre_sain          1936\n",
    "nombre_exposed        505\n",
    "nombre_recovered    16531\n",
    "Name: 724, dtype: int64"
   ]
  },
  {
   "cell_type": "markdown",
   "id": "329876e2",
   "metadata": {},
   "source": [
    "nombre_infected      1036\n",
    "nombre_sain          1947\n",
    "nombre_exposed        487\n",
    "nombre_recovered    16530\n",
    "Name: 725, dtype: int64"
   ]
  },
  {
   "cell_type": "markdown",
   "id": "be83de40",
   "metadata": {},
   "source": [
    "nombre_infected      1019\n",
    "nombre_sain          1961\n",
    "nombre_exposed        494\n",
    "nombre_recovered    16526\n",
    "Name: 726, dtype: int64"
   ]
  },
  {
   "cell_type": "markdown",
   "id": "1e76431b",
   "metadata": {},
   "source": [
    "nombre_infected      1035\n",
    "nombre_sain          1967\n",
    "nombre_exposed        493\n",
    "nombre_recovered    16505\n",
    "Name: 727, dtype: int64"
   ]
  },
  {
   "cell_type": "markdown",
   "id": "165d7bc9",
   "metadata": {},
   "source": [
    "nombre_infected      1016\n",
    "nombre_sain          1952\n",
    "nombre_exposed        509\n",
    "nombre_recovered    16523\n",
    "Name: 728, dtype: int64"
   ]
  },
  {
   "cell_type": "markdown",
   "id": "2effa2a0",
   "metadata": {},
   "source": [
    "nombre_infected      1014\n",
    "nombre_sain          1967\n",
    "nombre_exposed        510\n",
    "nombre_recovered    16509\n",
    "Name: 729, dtype: int64"
   ]
  },
  {
   "cell_type": "markdown",
   "id": "6a1838ba",
   "metadata": {},
   "source": [
    "nombre_infected      1030\n",
    "nombre_sain          1991\n",
    "nombre_exposed        477\n",
    "nombre_recovered    16502\n",
    "Name: 730, dtype: int64"
   ]
  }
 ],
 "metadata": {},
 "nbformat": 4,
 "nbformat_minor": 5
}
