{
 "cells": [
  {
   "cell_type": "markdown",
   "id": "345592a9",
   "metadata": {},
   "source": [
    "nombre_infected        20\n",
    "nombre_sain         19980\n",
    "nombre_exposed          0\n",
    "nombre_recovered        0\n",
    "Name: 0, dtype: int64"
   ]
  },
  {
   "cell_type": "markdown",
   "id": "52ed6271",
   "metadata": {},
   "source": [
    "nombre_infected        20\n",
    "nombre_sain         19961\n",
    "nombre_exposed         19\n",
    "nombre_recovered        0\n",
    "Name: 1, dtype: int64"
   ]
  },
  {
   "cell_type": "markdown",
   "id": "0a244683",
   "metadata": {},
   "source": [
    "nombre_infected        20\n",
    "nombre_sain         19941\n",
    "nombre_exposed         39\n",
    "nombre_recovered        0\n",
    "Name: 2, dtype: int64"
   ]
  },
  {
   "cell_type": "markdown",
   "id": "4d2baa3d",
   "metadata": {},
   "source": [
    "nombre_infected        31\n",
    "nombre_sain         19896\n",
    "nombre_exposed         73\n",
    "nombre_recovered        0\n",
    "Name: 3, dtype: int64"
   ]
  },
  {
   "cell_type": "markdown",
   "id": "97ef460f",
   "metadata": {},
   "source": [
    "nombre_infected        39\n",
    "nombre_sain         19856\n",
    "nombre_exposed        105\n",
    "nombre_recovered        0\n",
    "Name: 4, dtype: int64"
   ]
  },
  {
   "cell_type": "markdown",
   "id": "2c1311cc",
   "metadata": {},
   "source": [
    "nombre_infected        56\n",
    "nombre_sain         19803\n",
    "nombre_exposed        140\n",
    "nombre_recovered        1\n",
    "Name: 5, dtype: int64"
   ]
  },
  {
   "cell_type": "markdown",
   "id": "dd995715",
   "metadata": {},
   "source": [
    "nombre_infected        64\n",
    "nombre_sain         19712\n",
    "nombre_exposed        201\n",
    "nombre_recovered       23\n",
    "Name: 6, dtype: int64"
   ]
  },
  {
   "cell_type": "markdown",
   "id": "d3fc039b",
   "metadata": {},
   "source": [
    "nombre_infected        93\n",
    "nombre_sain         19600\n",
    "nombre_exposed        283\n",
    "nombre_recovered       24\n",
    "Name: 7, dtype: int64"
   ]
  },
  {
   "cell_type": "markdown",
   "id": "6ddb7ef3",
   "metadata": {},
   "source": [
    "nombre_infected       143\n",
    "nombre_sain         19473\n",
    "nombre_exposed        354\n",
    "nombre_recovered       30\n",
    "Name: 8, dtype: int64"
   ]
  },
  {
   "cell_type": "markdown",
   "id": "309aecfc",
   "metadata": {},
   "source": [
    "nombre_infected       192\n",
    "nombre_sain         19245\n",
    "nombre_exposed        522\n",
    "nombre_recovered       41\n",
    "Name: 9, dtype: int64"
   ]
  },
  {
   "cell_type": "markdown",
   "id": "6c0ceded",
   "metadata": {},
   "source": [
    "nombre_infected       263\n",
    "nombre_sain         18965\n",
    "nombre_exposed        714\n",
    "nombre_recovered       58\n",
    "Name: 10, dtype: int64"
   ]
  },
  {
   "cell_type": "markdown",
   "id": "3e59e096",
   "metadata": {},
   "source": [
    "nombre_infected       382\n",
    "nombre_sain         18626\n",
    "nombre_exposed        920\n",
    "nombre_recovered       72\n",
    "Name: 11, dtype: int64"
   ]
  },
  {
   "cell_type": "markdown",
   "id": "9950da82",
   "metadata": {},
   "source": [
    "nombre_infected       512\n",
    "nombre_sain         18147\n",
    "nombre_exposed       1231\n",
    "nombre_recovered      110\n",
    "Name: 12, dtype: int64"
   ]
  },
  {
   "cell_type": "markdown",
   "id": "51688ac0",
   "metadata": {},
   "source": [
    "nombre_infected       689\n",
    "nombre_sain         17469\n",
    "nombre_exposed       1685\n",
    "nombre_recovered      157\n",
    "Name: 13, dtype: int64"
   ]
  },
  {
   "cell_type": "markdown",
   "id": "ddbdca43",
   "metadata": {},
   "source": [
    "nombre_infected       915\n",
    "nombre_sain         16609\n",
    "nombre_exposed       2260\n",
    "nombre_recovered      216\n",
    "Name: 14, dtype: int64"
   ]
  },
  {
   "cell_type": "markdown",
   "id": "9caae88b",
   "metadata": {},
   "source": [
    "nombre_infected      1245\n",
    "nombre_sain         15634\n",
    "nombre_exposed       2823\n",
    "nombre_recovered      298\n",
    "Name: 15, dtype: int64"
   ]
  },
  {
   "cell_type": "markdown",
   "id": "70983423",
   "metadata": {},
   "source": [
    "nombre_infected      1703\n",
    "nombre_sain         14320\n",
    "nombre_exposed       3581\n",
    "nombre_recovered      396\n",
    "Name: 16, dtype: int64"
   ]
  },
  {
   "cell_type": "markdown",
   "id": "735bc979",
   "metadata": {},
   "source": [
    "nombre_infected      2220\n",
    "nombre_sain         12742\n",
    "nombre_exposed       4489\n",
    "nombre_recovered      549\n",
    "Name: 17, dtype: int64"
   ]
  },
  {
   "cell_type": "markdown",
   "id": "b33b2ca2",
   "metadata": {},
   "source": [
    "nombre_infected      2869\n",
    "nombre_sain         11067\n",
    "nombre_exposed       5315\n",
    "nombre_recovered      749\n",
    "Name: 18, dtype: int64"
   ]
  },
  {
   "cell_type": "markdown",
   "id": "76868ed7",
   "metadata": {},
   "source": [
    "nombre_infected     3688\n",
    "nombre_sain         9177\n",
    "nombre_exposed      6163\n",
    "nombre_recovered     972\n",
    "Name: 19, dtype: int64"
   ]
  },
  {
   "cell_type": "markdown",
   "id": "037c6089",
   "metadata": {},
   "source": [
    "nombre_infected     4669\n",
    "nombre_sain         7347\n",
    "nombre_exposed      6716\n",
    "nombre_recovered    1268\n",
    "Name: 20, dtype: int64"
   ]
  },
  {
   "cell_type": "markdown",
   "id": "a46bf5f1",
   "metadata": {},
   "source": [
    "nombre_infected     5773\n",
    "nombre_sain         5674\n",
    "nombre_exposed      6884\n",
    "nombre_recovered    1669\n",
    "Name: 21, dtype: int64"
   ]
  },
  {
   "cell_type": "markdown",
   "id": "bec4273c",
   "metadata": {},
   "source": [
    "nombre_infected     6764\n",
    "nombre_sain         4201\n",
    "nombre_exposed      6850\n",
    "nombre_recovered    2185\n",
    "Name: 22, dtype: int64"
   ]
  },
  {
   "cell_type": "markdown",
   "id": "2f7da023",
   "metadata": {},
   "source": [
    "nombre_infected     7595\n",
    "nombre_sain         2981\n",
    "nombre_exposed      6518\n",
    "nombre_recovered    2906\n",
    "Name: 23, dtype: int64"
   ]
  },
  {
   "cell_type": "markdown",
   "id": "3116d227",
   "metadata": {},
   "source": [
    "nombre_infected     8394\n",
    "nombre_sain         2063\n",
    "nombre_exposed      5879\n",
    "nombre_recovered    3664\n",
    "Name: 24, dtype: int64"
   ]
  },
  {
   "cell_type": "markdown",
   "id": "8922de5d",
   "metadata": {},
   "source": [
    "nombre_infected     8988\n",
    "nombre_sain         1405\n",
    "nombre_exposed      5065\n",
    "nombre_recovered    4542\n",
    "Name: 25, dtype: int64"
   ]
  },
  {
   "cell_type": "markdown",
   "id": "07483dd6",
   "metadata": {},
   "source": [
    "nombre_infected     9309\n",
    "nombre_sain          921\n",
    "nombre_exposed      4288\n",
    "nombre_recovered    5482\n",
    "Name: 26, dtype: int64"
   ]
  },
  {
   "cell_type": "markdown",
   "id": "ce93418e",
   "metadata": {},
   "source": [
    "nombre_infected     9356\n",
    "nombre_sain          621\n",
    "nombre_exposed      3491\n",
    "nombre_recovered    6532\n",
    "Name: 27, dtype: int64"
   ]
  },
  {
   "cell_type": "markdown",
   "id": "cb20d68a",
   "metadata": {},
   "source": [
    "nombre_infected     9278\n",
    "nombre_sain          407\n",
    "nombre_exposed      2747\n",
    "nombre_recovered    7568\n",
    "Name: 28, dtype: int64"
   ]
  },
  {
   "cell_type": "markdown",
   "id": "f57d9026",
   "metadata": {},
   "source": [
    "nombre_infected     8932\n",
    "nombre_sain          289\n",
    "nombre_exposed      2157\n",
    "nombre_recovered    8622\n",
    "Name: 29, dtype: int64"
   ]
  },
  {
   "cell_type": "markdown",
   "id": "be3d39bf",
   "metadata": {},
   "source": [
    "nombre_infected     8457\n",
    "nombre_sain          208\n",
    "nombre_exposed      1640\n",
    "nombre_recovered    9695\n",
    "Name: 30, dtype: int64"
   ]
  },
  {
   "cell_type": "markdown",
   "id": "493a57dc",
   "metadata": {},
   "source": [
    "nombre_infected      7858\n",
    "nombre_sain           159\n",
    "nombre_exposed       1252\n",
    "nombre_recovered    10731\n",
    "Name: 31, dtype: int64"
   ]
  },
  {
   "cell_type": "markdown",
   "id": "a3440f2f",
   "metadata": {},
   "source": [
    "nombre_infected      7262\n",
    "nombre_sain           130\n",
    "nombre_exposed        944\n",
    "nombre_recovered    11664\n",
    "Name: 32, dtype: int64"
   ]
  },
  {
   "cell_type": "markdown",
   "id": "a563f348",
   "metadata": {},
   "source": [
    "nombre_infected      6642\n",
    "nombre_sain           112\n",
    "nombre_exposed        711\n",
    "nombre_recovered    12535\n",
    "Name: 33, dtype: int64"
   ]
  },
  {
   "cell_type": "markdown",
   "id": "93708195",
   "metadata": {},
   "source": [
    "nombre_infected      5993\n",
    "nombre_sain           100\n",
    "nombre_exposed        555\n",
    "nombre_recovered    13352\n",
    "Name: 34, dtype: int64"
   ]
  },
  {
   "cell_type": "markdown",
   "id": "1aafdbf1",
   "metadata": {},
   "source": [
    "nombre_infected      5358\n",
    "nombre_sain            99\n",
    "nombre_exposed        423\n",
    "nombre_recovered    14120\n",
    "Name: 35, dtype: int64"
   ]
  },
  {
   "cell_type": "markdown",
   "id": "8ebd9f2f",
   "metadata": {},
   "source": [
    "nombre_infected      4799\n",
    "nombre_sain           109\n",
    "nombre_exposed        330\n",
    "nombre_recovered    14762\n",
    "Name: 36, dtype: int64"
   ]
  },
  {
   "cell_type": "markdown",
   "id": "1a0ba118",
   "metadata": {},
   "source": [
    "nombre_infected      4264\n",
    "nombre_sain           123\n",
    "nombre_exposed        268\n",
    "nombre_recovered    15345\n",
    "Name: 37, dtype: int64"
   ]
  },
  {
   "cell_type": "markdown",
   "id": "86e827b9",
   "metadata": {},
   "source": [
    "nombre_infected      3757\n",
    "nombre_sain           141\n",
    "nombre_exposed        204\n",
    "nombre_recovered    15898\n",
    "Name: 38, dtype: int64"
   ]
  },
  {
   "cell_type": "markdown",
   "id": "c47677cf",
   "metadata": {},
   "source": [
    "nombre_infected      3338\n",
    "nombre_sain           166\n",
    "nombre_exposed        156\n",
    "nombre_recovered    16340\n",
    "Name: 39, dtype: int64"
   ]
  },
  {
   "cell_type": "markdown",
   "id": "1cc483cb",
   "metadata": {},
   "source": [
    "nombre_infected      2959\n",
    "nombre_sain           183\n",
    "nombre_exposed        141\n",
    "nombre_recovered    16717\n",
    "Name: 40, dtype: int64"
   ]
  },
  {
   "cell_type": "markdown",
   "id": "9808c687",
   "metadata": {},
   "source": [
    "nombre_infected      2592\n",
    "nombre_sain           204\n",
    "nombre_exposed        124\n",
    "nombre_recovered    17080\n",
    "Name: 41, dtype: int64"
   ]
  },
  {
   "cell_type": "markdown",
   "id": "d9aefc05",
   "metadata": {},
   "source": [
    "nombre_infected      2300\n",
    "nombre_sain           215\n",
    "nombre_exposed        116\n",
    "nombre_recovered    17369\n",
    "Name: 42, dtype: int64"
   ]
  },
  {
   "cell_type": "markdown",
   "id": "33621496",
   "metadata": {},
   "source": [
    "nombre_infected      2058\n",
    "nombre_sain           232\n",
    "nombre_exposed        110\n",
    "nombre_recovered    17600\n",
    "Name: 43, dtype: int64"
   ]
  },
  {
   "cell_type": "markdown",
   "id": "914c6ef4",
   "metadata": {},
   "source": [
    "nombre_infected      1849\n",
    "nombre_sain           255\n",
    "nombre_exposed         96\n",
    "nombre_recovered    17800\n",
    "Name: 44, dtype: int64"
   ]
  },
  {
   "cell_type": "markdown",
   "id": "f87df005",
   "metadata": {},
   "source": [
    "nombre_infected      1691\n",
    "nombre_sain           268\n",
    "nombre_exposed        103\n",
    "nombre_recovered    17938\n",
    "Name: 45, dtype: int64"
   ]
  },
  {
   "cell_type": "markdown",
   "id": "e9d35224",
   "metadata": {},
   "source": [
    "nombre_infected      1506\n",
    "nombre_sain           267\n",
    "nombre_exposed        118\n",
    "nombre_recovered    18109\n",
    "Name: 46, dtype: int64"
   ]
  },
  {
   "cell_type": "markdown",
   "id": "c64ac9e9",
   "metadata": {},
   "source": [
    "nombre_infected      1384\n",
    "nombre_sain           277\n",
    "nombre_exposed        124\n",
    "nombre_recovered    18215\n",
    "Name: 47, dtype: int64"
   ]
  },
  {
   "cell_type": "markdown",
   "id": "4c94d86c",
   "metadata": {},
   "source": [
    "nombre_infected      1247\n",
    "nombre_sain           289\n",
    "nombre_exposed        130\n",
    "nombre_recovered    18334\n",
    "Name: 48, dtype: int64"
   ]
  },
  {
   "cell_type": "markdown",
   "id": "f03feaee",
   "metadata": {},
   "source": [
    "nombre_infected      1120\n",
    "nombre_sain           313\n",
    "nombre_exposed        116\n",
    "nombre_recovered    18451\n",
    "Name: 49, dtype: int64"
   ]
  },
  {
   "cell_type": "markdown",
   "id": "2e06b77b",
   "metadata": {},
   "source": [
    "nombre_infected      1003\n",
    "nombre_sain           346\n",
    "nombre_exposed        109\n",
    "nombre_recovered    18542\n",
    "Name: 50, dtype: int64"
   ]
  },
  {
   "cell_type": "markdown",
   "id": "a473822e",
   "metadata": {},
   "source": [
    "nombre_infected       886\n",
    "nombre_sain           381\n",
    "nombre_exposed        106\n",
    "nombre_recovered    18627\n",
    "Name: 51, dtype: int64"
   ]
  },
  {
   "cell_type": "markdown",
   "id": "8974c721",
   "metadata": {},
   "source": [
    "nombre_infected       795\n",
    "nombre_sain           416\n",
    "nombre_exposed        106\n",
    "nombre_recovered    18683\n",
    "Name: 52, dtype: int64"
   ]
  },
  {
   "cell_type": "markdown",
   "id": "a8511a51",
   "metadata": {},
   "source": [
    "nombre_infected       708\n",
    "nombre_sain           463\n",
    "nombre_exposed        101\n",
    "nombre_recovered    18728\n",
    "Name: 53, dtype: int64"
   ]
  },
  {
   "cell_type": "markdown",
   "id": "1dd28014",
   "metadata": {},
   "source": [
    "nombre_infected       620\n",
    "nombre_sain           508\n",
    "nombre_exposed         87\n",
    "nombre_recovered    18785\n",
    "Name: 54, dtype: int64"
   ]
  },
  {
   "cell_type": "markdown",
   "id": "1228ebca",
   "metadata": {},
   "source": [
    "nombre_infected       555\n",
    "nombre_sain           540\n",
    "nombre_exposed         79\n",
    "nombre_recovered    18826\n",
    "Name: 55, dtype: int64"
   ]
  },
  {
   "cell_type": "markdown",
   "id": "32e299de",
   "metadata": {},
   "source": [
    "nombre_infected       484\n",
    "nombre_sain           601\n",
    "nombre_exposed         78\n",
    "nombre_recovered    18837\n",
    "Name: 56, dtype: int64"
   ]
  },
  {
   "cell_type": "markdown",
   "id": "ec4da61a",
   "metadata": {},
   "source": [
    "nombre_infected       433\n",
    "nombre_sain           652\n",
    "nombre_exposed         66\n",
    "nombre_recovered    18849\n",
    "Name: 57, dtype: int64"
   ]
  },
  {
   "cell_type": "markdown",
   "id": "88bf9391",
   "metadata": {},
   "source": [
    "nombre_infected       380\n",
    "nombre_sain           720\n",
    "nombre_exposed         59\n",
    "nombre_recovered    18841\n",
    "Name: 58, dtype: int64"
   ]
  },
  {
   "cell_type": "markdown",
   "id": "3847fd49",
   "metadata": {},
   "source": [
    "nombre_infected       351\n",
    "nombre_sain           783\n",
    "nombre_exposed         62\n",
    "nombre_recovered    18804\n",
    "Name: 59, dtype: int64"
   ]
  },
  {
   "cell_type": "markdown",
   "id": "f970979c",
   "metadata": {},
   "source": [
    "nombre_infected       313\n",
    "nombre_sain           861\n",
    "nombre_exposed         56\n",
    "nombre_recovered    18770\n",
    "Name: 60, dtype: int64"
   ]
  },
  {
   "cell_type": "markdown",
   "id": "e936cbbc",
   "metadata": {},
   "source": [
    "nombre_infected       282\n",
    "nombre_sain           911\n",
    "nombre_exposed         67\n",
    "nombre_recovered    18740\n",
    "Name: 61, dtype: int64"
   ]
  },
  {
   "cell_type": "markdown",
   "id": "62ba9a2c",
   "metadata": {},
   "source": [
    "nombre_infected       244\n",
    "nombre_sain           980\n",
    "nombre_exposed         71\n",
    "nombre_recovered    18705\n",
    "Name: 62, dtype: int64"
   ]
  },
  {
   "cell_type": "markdown",
   "id": "85c9dd40",
   "metadata": {},
   "source": [
    "nombre_infected       228\n",
    "nombre_sain          1036\n",
    "nombre_exposed         56\n",
    "nombre_recovered    18680\n",
    "Name: 63, dtype: int64"
   ]
  },
  {
   "cell_type": "markdown",
   "id": "b1fb3c64",
   "metadata": {},
   "source": [
    "nombre_infected       218\n",
    "nombre_sain          1111\n",
    "nombre_exposed         54\n",
    "nombre_recovered    18617\n",
    "Name: 64, dtype: int64"
   ]
  },
  {
   "cell_type": "markdown",
   "id": "433bc6f1",
   "metadata": {},
   "source": [
    "nombre_infected       188\n",
    "nombre_sain          1181\n",
    "nombre_exposed         57\n",
    "nombre_recovered    18574\n",
    "Name: 65, dtype: int64"
   ]
  },
  {
   "cell_type": "markdown",
   "id": "b1e5b7f2",
   "metadata": {},
   "source": [
    "nombre_infected       175\n",
    "nombre_sain          1254\n",
    "nombre_exposed         55\n",
    "nombre_recovered    18516\n",
    "Name: 66, dtype: int64"
   ]
  },
  {
   "cell_type": "markdown",
   "id": "df7affe9",
   "metadata": {},
   "source": [
    "nombre_infected       152\n",
    "nombre_sain          1328\n",
    "nombre_exposed         53\n",
    "nombre_recovered    18467\n",
    "Name: 67, dtype: int64"
   ]
  },
  {
   "cell_type": "markdown",
   "id": "0cbe06d5",
   "metadata": {},
   "source": [
    "nombre_infected       143\n",
    "nombre_sain          1389\n",
    "nombre_exposed         47\n",
    "nombre_recovered    18421\n",
    "Name: 68, dtype: int64"
   ]
  },
  {
   "cell_type": "markdown",
   "id": "cec3e175",
   "metadata": {},
   "source": [
    "nombre_infected       133\n",
    "nombre_sain          1454\n",
    "nombre_exposed         47\n",
    "nombre_recovered    18366\n",
    "Name: 69, dtype: int64"
   ]
  },
  {
   "cell_type": "markdown",
   "id": "7bcea8e8",
   "metadata": {},
   "source": [
    "nombre_infected       120\n",
    "nombre_sain          1519\n",
    "nombre_exposed         50\n",
    "nombre_recovered    18311\n",
    "Name: 70, dtype: int64"
   ]
  },
  {
   "cell_type": "markdown",
   "id": "0743685b",
   "metadata": {},
   "source": [
    "nombre_infected       103\n",
    "nombre_sain          1582\n",
    "nombre_exposed         44\n",
    "nombre_recovered    18271\n",
    "Name: 71, dtype: int64"
   ]
  },
  {
   "cell_type": "markdown",
   "id": "d49ab59e",
   "metadata": {},
   "source": [
    "nombre_infected       100\n",
    "nombre_sain          1638\n",
    "nombre_exposed         37\n",
    "nombre_recovered    18225\n",
    "Name: 72, dtype: int64"
   ]
  },
  {
   "cell_type": "markdown",
   "id": "eb2a4c7f",
   "metadata": {},
   "source": [
    "nombre_infected        89\n",
    "nombre_sain          1695\n",
    "nombre_exposed         40\n",
    "nombre_recovered    18176\n",
    "Name: 73, dtype: int64"
   ]
  },
  {
   "cell_type": "markdown",
   "id": "a8e6727c",
   "metadata": {},
   "source": [
    "nombre_infected        78\n",
    "nombre_sain          1754\n",
    "nombre_exposed         42\n",
    "nombre_recovered    18126\n",
    "Name: 74, dtype: int64"
   ]
  },
  {
   "cell_type": "markdown",
   "id": "9dc75ff5",
   "metadata": {},
   "source": [
    "nombre_infected        72\n",
    "nombre_sain          1815\n",
    "nombre_exposed         44\n",
    "nombre_recovered    18069\n",
    "Name: 75, dtype: int64"
   ]
  },
  {
   "cell_type": "markdown",
   "id": "7ec1c3a2",
   "metadata": {},
   "source": [
    "nombre_infected        72\n",
    "nombre_sain          1862\n",
    "nombre_exposed         37\n",
    "nombre_recovered    18029\n",
    "Name: 76, dtype: int64"
   ]
  },
  {
   "cell_type": "markdown",
   "id": "151c7003",
   "metadata": {},
   "source": [
    "nombre_infected        79\n",
    "nombre_sain          1903\n",
    "nombre_exposed         34\n",
    "nombre_recovered    17984\n",
    "Name: 77, dtype: int64"
   ]
  },
  {
   "cell_type": "markdown",
   "id": "d6549a2e",
   "metadata": {},
   "source": [
    "nombre_infected        78\n",
    "nombre_sain          1965\n",
    "nombre_exposed         38\n",
    "nombre_recovered    17919\n",
    "Name: 78, dtype: int64"
   ]
  },
  {
   "cell_type": "markdown",
   "id": "fe28a881",
   "metadata": {},
   "source": [
    "nombre_infected        67\n",
    "nombre_sain          2013\n",
    "nombre_exposed         41\n",
    "nombre_recovered    17879\n",
    "Name: 79, dtype: int64"
   ]
  },
  {
   "cell_type": "markdown",
   "id": "9200ab68",
   "metadata": {},
   "source": [
    "nombre_infected        76\n",
    "nombre_sain          2069\n",
    "nombre_exposed         34\n",
    "nombre_recovered    17821\n",
    "Name: 80, dtype: int64"
   ]
  },
  {
   "cell_type": "markdown",
   "id": "d38f1e0d",
   "metadata": {},
   "source": [
    "nombre_infected        73\n",
    "nombre_sain          2107\n",
    "nombre_exposed         36\n",
    "nombre_recovered    17784\n",
    "Name: 81, dtype: int64"
   ]
  },
  {
   "cell_type": "markdown",
   "id": "1c42b98e",
   "metadata": {},
   "source": [
    "nombre_infected        78\n",
    "nombre_sain          2144\n",
    "nombre_exposed         34\n",
    "nombre_recovered    17744\n",
    "Name: 82, dtype: int64"
   ]
  },
  {
   "cell_type": "markdown",
   "id": "88641a62",
   "metadata": {},
   "source": [
    "nombre_infected        76\n",
    "nombre_sain          2197\n",
    "nombre_exposed         33\n",
    "nombre_recovered    17694\n",
    "Name: 83, dtype: int64"
   ]
  },
  {
   "cell_type": "markdown",
   "id": "334d25cc",
   "metadata": {},
   "source": [
    "nombre_infected        72\n",
    "nombre_sain          2249\n",
    "nombre_exposed         36\n",
    "nombre_recovered    17643\n",
    "Name: 84, dtype: int64"
   ]
  },
  {
   "cell_type": "markdown",
   "id": "1d49227c",
   "metadata": {},
   "source": [
    "nombre_infected        64\n",
    "nombre_sain          2300\n",
    "nombre_exposed         38\n",
    "nombre_recovered    17598\n",
    "Name: 85, dtype: int64"
   ]
  },
  {
   "cell_type": "markdown",
   "id": "7fca9bf5",
   "metadata": {},
   "source": [
    "nombre_infected        66\n",
    "nombre_sain          2357\n",
    "nombre_exposed         35\n",
    "nombre_recovered    17542\n",
    "Name: 86, dtype: int64"
   ]
  },
  {
   "cell_type": "markdown",
   "id": "bfd54e36",
   "metadata": {},
   "source": [
    "nombre_infected        61\n",
    "nombre_sain          2417\n",
    "nombre_exposed         37\n",
    "nombre_recovered    17485\n",
    "Name: 87, dtype: int64"
   ]
  },
  {
   "cell_type": "markdown",
   "id": "14bfdf03",
   "metadata": {},
   "source": [
    "nombre_infected        63\n",
    "nombre_sain          2479\n",
    "nombre_exposed         32\n",
    "nombre_recovered    17426\n",
    "Name: 88, dtype: int64"
   ]
  },
  {
   "cell_type": "markdown",
   "id": "490a9c5f",
   "metadata": {},
   "source": [
    "nombre_infected        67\n",
    "nombre_sain          2543\n",
    "nombre_exposed         37\n",
    "nombre_recovered    17353\n",
    "Name: 89, dtype: int64"
   ]
  },
  {
   "cell_type": "markdown",
   "id": "eec39de0",
   "metadata": {},
   "source": [
    "nombre_infected        68\n",
    "nombre_sain          2589\n",
    "nombre_exposed         40\n",
    "nombre_recovered    17303\n",
    "Name: 90, dtype: int64"
   ]
  },
  {
   "cell_type": "markdown",
   "id": "2b679237",
   "metadata": {},
   "source": [
    "nombre_infected        71\n",
    "nombre_sain          2648\n",
    "nombre_exposed         35\n",
    "nombre_recovered    17246\n",
    "Name: 91, dtype: int64"
   ]
  },
  {
   "cell_type": "markdown",
   "id": "b62476a7",
   "metadata": {},
   "source": [
    "nombre_infected        77\n",
    "nombre_sain          2712\n",
    "nombre_exposed         30\n",
    "nombre_recovered    17181\n",
    "Name: 92, dtype: int64"
   ]
  },
  {
   "cell_type": "markdown",
   "id": "9bd4c694",
   "metadata": {},
   "source": [
    "nombre_infected        77\n",
    "nombre_sain          2755\n",
    "nombre_exposed         29\n",
    "nombre_recovered    17139\n",
    "Name: 93, dtype: int64"
   ]
  },
  {
   "cell_type": "markdown",
   "id": "66fae8c3",
   "metadata": {},
   "source": [
    "nombre_infected        73\n",
    "nombre_sain          2792\n",
    "nombre_exposed         36\n",
    "nombre_recovered    17099\n",
    "Name: 94, dtype: int64"
   ]
  },
  {
   "cell_type": "markdown",
   "id": "364c0a21",
   "metadata": {},
   "source": [
    "nombre_infected        68\n",
    "nombre_sain          2839\n",
    "nombre_exposed         47\n",
    "nombre_recovered    17046\n",
    "Name: 95, dtype: int64"
   ]
  },
  {
   "cell_type": "markdown",
   "id": "56a79712",
   "metadata": {},
   "source": [
    "nombre_infected        72\n",
    "nombre_sain          2879\n",
    "nombre_exposed         42\n",
    "nombre_recovered    17007\n",
    "Name: 96, dtype: int64"
   ]
  },
  {
   "cell_type": "markdown",
   "id": "3d079ee5",
   "metadata": {},
   "source": [
    "nombre_infected        68\n",
    "nombre_sain          2926\n",
    "nombre_exposed         44\n",
    "nombre_recovered    16962\n",
    "Name: 97, dtype: int64"
   ]
  },
  {
   "cell_type": "markdown",
   "id": "81a9e3f4",
   "metadata": {},
   "source": [
    "nombre_infected        73\n",
    "nombre_sain          2977\n",
    "nombre_exposed         40\n",
    "nombre_recovered    16910\n",
    "Name: 98, dtype: int64"
   ]
  },
  {
   "cell_type": "markdown",
   "id": "b20362a5",
   "metadata": {},
   "source": [
    "nombre_infected        69\n",
    "nombre_sain          3045\n",
    "nombre_exposed         50\n",
    "nombre_recovered    16836\n",
    "Name: 99, dtype: int64"
   ]
  },
  {
   "cell_type": "markdown",
   "id": "7e9e57dd",
   "metadata": {},
   "source": [
    "nombre_infected        71\n",
    "nombre_sain          3094\n",
    "nombre_exposed         53\n",
    "nombre_recovered    16782\n",
    "Name: 100, dtype: int64"
   ]
  },
  {
   "cell_type": "markdown",
   "id": "3016adf3",
   "metadata": {},
   "source": [
    "nombre_infected        79\n",
    "nombre_sain          3145\n",
    "nombre_exposed         58\n",
    "nombre_recovered    16718\n",
    "Name: 101, dtype: int64"
   ]
  },
  {
   "cell_type": "markdown",
   "id": "f0428075",
   "metadata": {},
   "source": [
    "nombre_infected        82\n",
    "nombre_sain          3183\n",
    "nombre_exposed         67\n",
    "nombre_recovered    16668\n",
    "Name: 102, dtype: int64"
   ]
  },
  {
   "cell_type": "markdown",
   "id": "81ba58fa",
   "metadata": {},
   "source": [
    "nombre_infected        87\n",
    "nombre_sain          3239\n",
    "nombre_exposed         65\n",
    "nombre_recovered    16609\n",
    "Name: 103, dtype: int64"
   ]
  },
  {
   "cell_type": "markdown",
   "id": "93633281",
   "metadata": {},
   "source": [
    "nombre_infected        92\n",
    "nombre_sain          3268\n",
    "nombre_exposed         76\n",
    "nombre_recovered    16564\n",
    "Name: 104, dtype: int64"
   ]
  },
  {
   "cell_type": "markdown",
   "id": "fb5fb8de",
   "metadata": {},
   "source": [
    "nombre_infected       102\n",
    "nombre_sain          3300\n",
    "nombre_exposed         79\n",
    "nombre_recovered    16519\n",
    "Name: 105, dtype: int64"
   ]
  },
  {
   "cell_type": "markdown",
   "id": "d472899d",
   "metadata": {},
   "source": [
    "nombre_infected       106\n",
    "nombre_sain          3330\n",
    "nombre_exposed         83\n",
    "nombre_recovered    16481\n",
    "Name: 106, dtype: int64"
   ]
  },
  {
   "cell_type": "markdown",
   "id": "579df2a5",
   "metadata": {},
   "source": [
    "nombre_infected       120\n",
    "nombre_sain          3355\n",
    "nombre_exposed         77\n",
    "nombre_recovered    16448\n",
    "Name: 107, dtype: int64"
   ]
  },
  {
   "cell_type": "markdown",
   "id": "6206399b",
   "metadata": {},
   "source": [
    "nombre_infected       132\n",
    "nombre_sain          3348\n",
    "nombre_exposed         97\n",
    "nombre_recovered    16423\n",
    "Name: 108, dtype: int64"
   ]
  },
  {
   "cell_type": "markdown",
   "id": "4d057f9f",
   "metadata": {},
   "source": [
    "nombre_infected       136\n",
    "nombre_sain          3357\n",
    "nombre_exposed        114\n",
    "nombre_recovered    16393\n",
    "Name: 109, dtype: int64"
   ]
  },
  {
   "cell_type": "markdown",
   "id": "dda59e39",
   "metadata": {},
   "source": [
    "nombre_infected       148\n",
    "nombre_sain          3383\n",
    "nombre_exposed        114\n",
    "nombre_recovered    16355\n",
    "Name: 110, dtype: int64"
   ]
  },
  {
   "cell_type": "markdown",
   "id": "3bd08481",
   "metadata": {},
   "source": [
    "nombre_infected       166\n",
    "nombre_sain          3403\n",
    "nombre_exposed        115\n",
    "nombre_recovered    16316\n",
    "Name: 111, dtype: int64"
   ]
  },
  {
   "cell_type": "markdown",
   "id": "08fcfe6f",
   "metadata": {},
   "source": [
    "nombre_infected       177\n",
    "nombre_sain          3411\n",
    "nombre_exposed        118\n",
    "nombre_recovered    16294\n",
    "Name: 112, dtype: int64"
   ]
  },
  {
   "cell_type": "markdown",
   "id": "f3073e97",
   "metadata": {},
   "source": [
    "nombre_infected       196\n",
    "nombre_sain          3420\n",
    "nombre_exposed        111\n",
    "nombre_recovered    16273\n",
    "Name: 113, dtype: int64"
   ]
  },
  {
   "cell_type": "markdown",
   "id": "254e2a4c",
   "metadata": {},
   "source": [
    "nombre_infected       187\n",
    "nombre_sain          3422\n",
    "nombre_exposed        126\n",
    "nombre_recovered    16265\n",
    "Name: 114, dtype: int64"
   ]
  },
  {
   "cell_type": "markdown",
   "id": "469747af",
   "metadata": {},
   "source": [
    "nombre_infected       209\n",
    "nombre_sain          3442\n",
    "nombre_exposed        117\n",
    "nombre_recovered    16232\n",
    "Name: 115, dtype: int64"
   ]
  },
  {
   "cell_type": "markdown",
   "id": "b2c0c2b8",
   "metadata": {},
   "source": [
    "nombre_infected       220\n",
    "nombre_sain          3440\n",
    "nombre_exposed        136\n",
    "nombre_recovered    16204\n",
    "Name: 116, dtype: int64"
   ]
  },
  {
   "cell_type": "markdown",
   "id": "8683c4bc",
   "metadata": {},
   "source": [
    "nombre_infected       224\n",
    "nombre_sain          3440\n",
    "nombre_exposed        154\n",
    "nombre_recovered    16182\n",
    "Name: 117, dtype: int64"
   ]
  },
  {
   "cell_type": "markdown",
   "id": "42cd61ff",
   "metadata": {},
   "source": [
    "nombre_infected       231\n",
    "nombre_sain          3449\n",
    "nombre_exposed        168\n",
    "nombre_recovered    16152\n",
    "Name: 118, dtype: int64"
   ]
  },
  {
   "cell_type": "markdown",
   "id": "342f69a7",
   "metadata": {},
   "source": [
    "nombre_infected       266\n",
    "nombre_sain          3459\n",
    "nombre_exposed        159\n",
    "nombre_recovered    16116\n",
    "Name: 119, dtype: int64"
   ]
  },
  {
   "cell_type": "markdown",
   "id": "09431c25",
   "metadata": {},
   "source": [
    "nombre_infected       269\n",
    "nombre_sain          3458\n",
    "nombre_exposed        185\n",
    "nombre_recovered    16088\n",
    "Name: 120, dtype: int64"
   ]
  },
  {
   "cell_type": "markdown",
   "id": "bb1c50dd",
   "metadata": {},
   "source": [
    "nombre_infected       260\n",
    "nombre_sain          3472\n",
    "nombre_exposed        206\n",
    "nombre_recovered    16062\n",
    "Name: 121, dtype: int64"
   ]
  },
  {
   "cell_type": "markdown",
   "id": "27a6f278",
   "metadata": {},
   "source": [
    "nombre_infected       284\n",
    "nombre_sain          3472\n",
    "nombre_exposed        198\n",
    "nombre_recovered    16046\n",
    "Name: 122, dtype: int64"
   ]
  },
  {
   "cell_type": "markdown",
   "id": "2108e2c8",
   "metadata": {},
   "source": [
    "nombre_infected       309\n",
    "nombre_sain          3457\n",
    "nombre_exposed        214\n",
    "nombre_recovered    16020\n",
    "Name: 123, dtype: int64"
   ]
  },
  {
   "cell_type": "markdown",
   "id": "102d242e",
   "metadata": {},
   "source": [
    "nombre_infected       314\n",
    "nombre_sain          3470\n",
    "nombre_exposed        227\n",
    "nombre_recovered    15989\n",
    "Name: 124, dtype: int64"
   ]
  },
  {
   "cell_type": "markdown",
   "id": "b3172d7c",
   "metadata": {},
   "source": [
    "nombre_infected       319\n",
    "nombre_sain          3451\n",
    "nombre_exposed        254\n",
    "nombre_recovered    15976\n",
    "Name: 125, dtype: int64"
   ]
  },
  {
   "cell_type": "markdown",
   "id": "9bc6284c",
   "metadata": {},
   "source": [
    "nombre_infected       334\n",
    "nombre_sain          3456\n",
    "nombre_exposed        268\n",
    "nombre_recovered    15942\n",
    "Name: 126, dtype: int64"
   ]
  },
  {
   "cell_type": "markdown",
   "id": "2d2ab757",
   "metadata": {},
   "source": [
    "nombre_infected       369\n",
    "nombre_sain          3437\n",
    "nombre_exposed        264\n",
    "nombre_recovered    15930\n",
    "Name: 127, dtype: int64"
   ]
  },
  {
   "cell_type": "markdown",
   "id": "7d83e0c5",
   "metadata": {},
   "source": [
    "nombre_infected       389\n",
    "nombre_sain          3423\n",
    "nombre_exposed        286\n",
    "nombre_recovered    15902\n",
    "Name: 128, dtype: int64"
   ]
  },
  {
   "cell_type": "markdown",
   "id": "932c29f9",
   "metadata": {},
   "source": [
    "nombre_infected       404\n",
    "nombre_sain          3390\n",
    "nombre_exposed        321\n",
    "nombre_recovered    15885\n",
    "Name: 129, dtype: int64"
   ]
  },
  {
   "cell_type": "markdown",
   "id": "e42bb37c",
   "metadata": {},
   "source": [
    "nombre_infected       446\n",
    "nombre_sain          3349\n",
    "nombre_exposed        333\n",
    "nombre_recovered    15872\n",
    "Name: 130, dtype: int64"
   ]
  },
  {
   "cell_type": "markdown",
   "id": "f5f9b873",
   "metadata": {},
   "source": [
    "nombre_infected       487\n",
    "nombre_sain          3296\n",
    "nombre_exposed        345\n",
    "nombre_recovered    15872\n",
    "Name: 131, dtype: int64"
   ]
  },
  {
   "cell_type": "markdown",
   "id": "41ebf3cc",
   "metadata": {},
   "source": [
    "nombre_infected       504\n",
    "nombre_sain          3248\n",
    "nombre_exposed        370\n",
    "nombre_recovered    15878\n",
    "Name: 132, dtype: int64"
   ]
  },
  {
   "cell_type": "markdown",
   "id": "b3e4c193",
   "metadata": {},
   "source": [
    "nombre_infected       545\n",
    "nombre_sain          3204\n",
    "nombre_exposed        372\n",
    "nombre_recovered    15879\n",
    "Name: 133, dtype: int64"
   ]
  },
  {
   "cell_type": "markdown",
   "id": "6aab7a89",
   "metadata": {},
   "source": [
    "nombre_infected       581\n",
    "nombre_sain          3174\n",
    "nombre_exposed        373\n",
    "nombre_recovered    15872\n",
    "Name: 134, dtype: int64"
   ]
  },
  {
   "cell_type": "markdown",
   "id": "04eeacd6",
   "metadata": {},
   "source": [
    "nombre_infected       614\n",
    "nombre_sain          3125\n",
    "nombre_exposed        384\n",
    "nombre_recovered    15877\n",
    "Name: 135, dtype: int64"
   ]
  },
  {
   "cell_type": "markdown",
   "id": "2f8dc028",
   "metadata": {},
   "source": [
    "nombre_infected       655\n",
    "nombre_sain          3121\n",
    "nombre_exposed        392\n",
    "nombre_recovered    15832\n",
    "Name: 136, dtype: int64"
   ]
  },
  {
   "cell_type": "markdown",
   "id": "267eb835",
   "metadata": {},
   "source": [
    "nombre_infected       657\n",
    "nombre_sain          3078\n",
    "nombre_exposed        411\n",
    "nombre_recovered    15854\n",
    "Name: 137, dtype: int64"
   ]
  },
  {
   "cell_type": "markdown",
   "id": "073a40e1",
   "metadata": {},
   "source": [
    "nombre_infected       694\n",
    "nombre_sain          3000\n",
    "nombre_exposed        439\n",
    "nombre_recovered    15867\n",
    "Name: 138, dtype: int64"
   ]
  },
  {
   "cell_type": "markdown",
   "id": "c4980c51",
   "metadata": {},
   "source": [
    "nombre_infected       698\n",
    "nombre_sain          2946\n",
    "nombre_exposed        465\n",
    "nombre_recovered    15891\n",
    "Name: 139, dtype: int64"
   ]
  },
  {
   "cell_type": "markdown",
   "id": "aca3190c",
   "metadata": {},
   "source": [
    "nombre_infected       738\n",
    "nombre_sain          2886\n",
    "nombre_exposed        482\n",
    "nombre_recovered    15894\n",
    "Name: 140, dtype: int64"
   ]
  },
  {
   "cell_type": "markdown",
   "id": "95f1c00b",
   "metadata": {},
   "source": [
    "nombre_infected       782\n",
    "nombre_sain          2803\n",
    "nombre_exposed        491\n",
    "nombre_recovered    15924\n",
    "Name: 141, dtype: int64"
   ]
  },
  {
   "cell_type": "markdown",
   "id": "d3442c07",
   "metadata": {},
   "source": [
    "nombre_infected       805\n",
    "nombre_sain          2725\n",
    "nombre_exposed        520\n",
    "nombre_recovered    15950\n",
    "Name: 142, dtype: int64"
   ]
  },
  {
   "cell_type": "markdown",
   "id": "087b8e90",
   "metadata": {},
   "source": [
    "nombre_infected       838\n",
    "nombre_sain          2641\n",
    "nombre_exposed        511\n",
    "nombre_recovered    16010\n",
    "Name: 143, dtype: int64"
   ]
  },
  {
   "cell_type": "markdown",
   "id": "ef2274be",
   "metadata": {},
   "source": [
    "nombre_infected       857\n",
    "nombre_sain          2553\n",
    "nombre_exposed        514\n",
    "nombre_recovered    16076\n",
    "Name: 144, dtype: int64"
   ]
  },
  {
   "cell_type": "markdown",
   "id": "21788dcf",
   "metadata": {},
   "source": [
    "nombre_infected       880\n",
    "nombre_sain          2463\n",
    "nombre_exposed        535\n",
    "nombre_recovered    16122\n",
    "Name: 145, dtype: int64"
   ]
  },
  {
   "cell_type": "markdown",
   "id": "7c781280",
   "metadata": {},
   "source": [
    "nombre_infected       891\n",
    "nombre_sain          2382\n",
    "nombre_exposed        528\n",
    "nombre_recovered    16199\n",
    "Name: 146, dtype: int64"
   ]
  },
  {
   "cell_type": "markdown",
   "id": "e4e482d4",
   "metadata": {},
   "source": [
    "nombre_infected       909\n",
    "nombre_sain          2324\n",
    "nombre_exposed        523\n",
    "nombre_recovered    16244\n",
    "Name: 147, dtype: int64"
   ]
  },
  {
   "cell_type": "markdown",
   "id": "96a92f8d",
   "metadata": {},
   "source": [
    "nombre_infected       939\n",
    "nombre_sain          2245\n",
    "nombre_exposed        520\n",
    "nombre_recovered    16296\n",
    "Name: 148, dtype: int64"
   ]
  },
  {
   "cell_type": "markdown",
   "id": "50fd3906",
   "metadata": {},
   "source": [
    "nombre_infected       954\n",
    "nombre_sain          2180\n",
    "nombre_exposed        515\n",
    "nombre_recovered    16351\n",
    "Name: 149, dtype: int64"
   ]
  },
  {
   "cell_type": "markdown",
   "id": "b725adba",
   "metadata": {},
   "source": [
    "nombre_infected       959\n",
    "nombre_sain          2127\n",
    "nombre_exposed        515\n",
    "nombre_recovered    16399\n",
    "Name: 150, dtype: int64"
   ]
  },
  {
   "cell_type": "markdown",
   "id": "63798517",
   "metadata": {},
   "source": [
    "nombre_infected       968\n",
    "nombre_sain          2108\n",
    "nombre_exposed        491\n",
    "nombre_recovered    16433\n",
    "Name: 151, dtype: int64"
   ]
  },
  {
   "cell_type": "markdown",
   "id": "e2e988f2",
   "metadata": {},
   "source": [
    "nombre_infected       982\n",
    "nombre_sain          2051\n",
    "nombre_exposed        482\n",
    "nombre_recovered    16485\n",
    "Name: 152, dtype: int64"
   ]
  },
  {
   "cell_type": "markdown",
   "id": "5c1a0465",
   "metadata": {},
   "source": [
    "nombre_infected       989\n",
    "nombre_sain          2015\n",
    "nombre_exposed        473\n",
    "nombre_recovered    16523\n",
    "Name: 153, dtype: int64"
   ]
  },
  {
   "cell_type": "markdown",
   "id": "3397c5c2",
   "metadata": {},
   "source": [
    "nombre_infected      1000\n",
    "nombre_sain          1970\n",
    "nombre_exposed        472\n",
    "nombre_recovered    16558\n",
    "Name: 154, dtype: int64"
   ]
  },
  {
   "cell_type": "markdown",
   "id": "2ed5a308",
   "metadata": {},
   "source": [
    "nombre_infected       979\n",
    "nombre_sain          1927\n",
    "nombre_exposed        514\n",
    "nombre_recovered    16580\n",
    "Name: 155, dtype: int64"
   ]
  },
  {
   "cell_type": "markdown",
   "id": "52649ef3",
   "metadata": {},
   "source": [
    "nombre_infected       968\n",
    "nombre_sain          1912\n",
    "nombre_exposed        498\n",
    "nombre_recovered    16622\n",
    "Name: 156, dtype: int64"
   ]
  },
  {
   "cell_type": "markdown",
   "id": "35b75dd2",
   "metadata": {},
   "source": [
    "nombre_infected       977\n",
    "nombre_sain          1892\n",
    "nombre_exposed        488\n",
    "nombre_recovered    16643\n",
    "Name: 157, dtype: int64"
   ]
  },
  {
   "cell_type": "markdown",
   "id": "62d42d51",
   "metadata": {},
   "source": [
    "nombre_infected       963\n",
    "nombre_sain          1872\n",
    "nombre_exposed        472\n",
    "nombre_recovered    16693\n",
    "Name: 158, dtype: int64"
   ]
  },
  {
   "cell_type": "markdown",
   "id": "0702ef4f",
   "metadata": {},
   "source": [
    "nombre_infected       957\n",
    "nombre_sain          1839\n",
    "nombre_exposed        461\n",
    "nombre_recovered    16743\n",
    "Name: 159, dtype: int64"
   ]
  },
  {
   "cell_type": "markdown",
   "id": "093f1f80",
   "metadata": {},
   "source": [
    "nombre_infected       958\n",
    "nombre_sain          1811\n",
    "nombre_exposed        470\n",
    "nombre_recovered    16761\n",
    "Name: 160, dtype: int64"
   ]
  },
  {
   "cell_type": "markdown",
   "id": "02f390f3",
   "metadata": {},
   "source": [
    "nombre_infected       966\n",
    "nombre_sain          1800\n",
    "nombre_exposed        454\n",
    "nombre_recovered    16780\n",
    "Name: 161, dtype: int64"
   ]
  },
  {
   "cell_type": "markdown",
   "id": "35ca2f0c",
   "metadata": {},
   "source": [
    "nombre_infected       989\n",
    "nombre_sain          1797\n",
    "nombre_exposed        425\n",
    "nombre_recovered    16789\n",
    "Name: 162, dtype: int64"
   ]
  },
  {
   "cell_type": "markdown",
   "id": "b672b5ec",
   "metadata": {},
   "source": [
    "nombre_infected       980\n",
    "nombre_sain          1809\n",
    "nombre_exposed        414\n",
    "nombre_recovered    16797\n",
    "Name: 163, dtype: int64"
   ]
  },
  {
   "cell_type": "markdown",
   "id": "3ad30c4c",
   "metadata": {},
   "source": [
    "nombre_infected       965\n",
    "nombre_sain          1798\n",
    "nombre_exposed        408\n",
    "nombre_recovered    16829\n",
    "Name: 164, dtype: int64"
   ]
  },
  {
   "cell_type": "markdown",
   "id": "4b368b17",
   "metadata": {},
   "source": [
    "nombre_infected       928\n",
    "nombre_sain          1812\n",
    "nombre_exposed        395\n",
    "nombre_recovered    16865\n",
    "Name: 165, dtype: int64"
   ]
  },
  {
   "cell_type": "markdown",
   "id": "8c43b902",
   "metadata": {},
   "source": [
    "nombre_infected       921\n",
    "nombre_sain          1798\n",
    "nombre_exposed        390\n",
    "nombre_recovered    16891\n",
    "Name: 166, dtype: int64"
   ]
  },
  {
   "cell_type": "markdown",
   "id": "fa06903b",
   "metadata": {},
   "source": [
    "nombre_infected       884\n",
    "nombre_sain          1789\n",
    "nombre_exposed        397\n",
    "nombre_recovered    16930\n",
    "Name: 167, dtype: int64"
   ]
  },
  {
   "cell_type": "markdown",
   "id": "f43dd2fe",
   "metadata": {},
   "source": [
    "nombre_infected       889\n",
    "nombre_sain          1791\n",
    "nombre_exposed        394\n",
    "nombre_recovered    16926\n",
    "Name: 168, dtype: int64"
   ]
  },
  {
   "cell_type": "markdown",
   "id": "011a8b92",
   "metadata": {},
   "source": [
    "nombre_infected       848\n",
    "nombre_sain          1776\n",
    "nombre_exposed        394\n",
    "nombre_recovered    16982\n",
    "Name: 169, dtype: int64"
   ]
  },
  {
   "cell_type": "markdown",
   "id": "5fa775ec",
   "metadata": {},
   "source": [
    "nombre_infected       833\n",
    "nombre_sain          1752\n",
    "nombre_exposed        391\n",
    "nombre_recovered    17024\n",
    "Name: 170, dtype: int64"
   ]
  },
  {
   "cell_type": "markdown",
   "id": "e20adc77",
   "metadata": {},
   "source": [
    "nombre_infected       840\n",
    "nombre_sain          1729\n",
    "nombre_exposed        360\n",
    "nombre_recovered    17071\n",
    "Name: 171, dtype: int64"
   ]
  },
  {
   "cell_type": "markdown",
   "id": "2540e095",
   "metadata": {},
   "source": [
    "nombre_infected       833\n",
    "nombre_sain          1714\n",
    "nombre_exposed        363\n",
    "nombre_recovered    17090\n",
    "Name: 172, dtype: int64"
   ]
  },
  {
   "cell_type": "markdown",
   "id": "89569344",
   "metadata": {},
   "source": [
    "nombre_infected       831\n",
    "nombre_sain          1711\n",
    "nombre_exposed        350\n",
    "nombre_recovered    17108\n",
    "Name: 173, dtype: int64"
   ]
  },
  {
   "cell_type": "markdown",
   "id": "341f5cef",
   "metadata": {},
   "source": [
    "nombre_infected       813\n",
    "nombre_sain          1707\n",
    "nombre_exposed        341\n",
    "nombre_recovered    17139\n",
    "Name: 174, dtype: int64"
   ]
  },
  {
   "cell_type": "markdown",
   "id": "db7b7fb7",
   "metadata": {},
   "source": [
    "nombre_infected       800\n",
    "nombre_sain          1694\n",
    "nombre_exposed        325\n",
    "nombre_recovered    17181\n",
    "Name: 175, dtype: int64"
   ]
  },
  {
   "cell_type": "markdown",
   "id": "b5b43645",
   "metadata": {},
   "source": [
    "nombre_infected       782\n",
    "nombre_sain          1685\n",
    "nombre_exposed        320\n",
    "nombre_recovered    17213\n",
    "Name: 176, dtype: int64"
   ]
  },
  {
   "cell_type": "markdown",
   "id": "6c28711c",
   "metadata": {},
   "source": [
    "nombre_infected       753\n",
    "nombre_sain          1693\n",
    "nombre_exposed        317\n",
    "nombre_recovered    17237\n",
    "Name: 177, dtype: int64"
   ]
  },
  {
   "cell_type": "markdown",
   "id": "069b61c0",
   "metadata": {},
   "source": [
    "nombre_infected       741\n",
    "nombre_sain          1693\n",
    "nombre_exposed        317\n",
    "nombre_recovered    17249\n",
    "Name: 178, dtype: int64"
   ]
  },
  {
   "cell_type": "markdown",
   "id": "8dd562da",
   "metadata": {},
   "source": [
    "nombre_infected       741\n",
    "nombre_sain          1707\n",
    "nombre_exposed        306\n",
    "nombre_recovered    17246\n",
    "Name: 179, dtype: int64"
   ]
  },
  {
   "cell_type": "markdown",
   "id": "51795b98",
   "metadata": {},
   "source": [
    "nombre_infected       740\n",
    "nombre_sain          1727\n",
    "nombre_exposed        288\n",
    "nombre_recovered    17245\n",
    "Name: 180, dtype: int64"
   ]
  },
  {
   "cell_type": "markdown",
   "id": "8d35ccaa",
   "metadata": {},
   "source": [
    "nombre_infected       715\n",
    "nombre_sain          1755\n",
    "nombre_exposed        277\n",
    "nombre_recovered    17253\n",
    "Name: 181, dtype: int64"
   ]
  },
  {
   "cell_type": "markdown",
   "id": "7bdd85db",
   "metadata": {},
   "source": [
    "nombre_infected       682\n",
    "nombre_sain          1771\n",
    "nombre_exposed        287\n",
    "nombre_recovered    17260\n",
    "Name: 182, dtype: int64"
   ]
  },
  {
   "cell_type": "markdown",
   "id": "fc23c601",
   "metadata": {},
   "source": [
    "nombre_infected       655\n",
    "nombre_sain          1808\n",
    "nombre_exposed        286\n",
    "nombre_recovered    17251\n",
    "Name: 183, dtype: int64"
   ]
  },
  {
   "cell_type": "markdown",
   "id": "1cf79e84",
   "metadata": {},
   "source": [
    "nombre_infected       643\n",
    "nombre_sain          1816\n",
    "nombre_exposed        290\n",
    "nombre_recovered    17251\n",
    "Name: 184, dtype: int64"
   ]
  },
  {
   "cell_type": "markdown",
   "id": "639d0b49",
   "metadata": {},
   "source": [
    "nombre_infected       629\n",
    "nombre_sain          1858\n",
    "nombre_exposed        277\n",
    "nombre_recovered    17236\n",
    "Name: 185, dtype: int64"
   ]
  },
  {
   "cell_type": "markdown",
   "id": "ff784804",
   "metadata": {},
   "source": [
    "nombre_infected       617\n",
    "nombre_sain          1923\n",
    "nombre_exposed        278\n",
    "nombre_recovered    17182\n",
    "Name: 186, dtype: int64"
   ]
  },
  {
   "cell_type": "markdown",
   "id": "d578bcf1",
   "metadata": {},
   "source": [
    "nombre_infected       596\n",
    "nombre_sain          1982\n",
    "nombre_exposed        274\n",
    "nombre_recovered    17148\n",
    "Name: 187, dtype: int64"
   ]
  },
  {
   "cell_type": "markdown",
   "id": "9cf84a9c",
   "metadata": {},
   "source": [
    "nombre_infected       582\n",
    "nombre_sain          2016\n",
    "nombre_exposed        289\n",
    "nombre_recovered    17113\n",
    "Name: 188, dtype: int64"
   ]
  },
  {
   "cell_type": "markdown",
   "id": "a84ea43a",
   "metadata": {},
   "source": [
    "nombre_infected       581\n",
    "nombre_sain          2047\n",
    "nombre_exposed        285\n",
    "nombre_recovered    17087\n",
    "Name: 189, dtype: int64"
   ]
  },
  {
   "cell_type": "markdown",
   "id": "45b6797f",
   "metadata": {},
   "source": [
    "nombre_infected       572\n",
    "nombre_sain          2060\n",
    "nombre_exposed        295\n",
    "nombre_recovered    17073\n",
    "Name: 190, dtype: int64"
   ]
  },
  {
   "cell_type": "markdown",
   "id": "b1cb4879",
   "metadata": {},
   "source": [
    "nombre_infected       562\n",
    "nombre_sain          2093\n",
    "nombre_exposed        302\n",
    "nombre_recovered    17043\n",
    "Name: 191, dtype: int64"
   ]
  },
  {
   "cell_type": "markdown",
   "id": "414bce3e",
   "metadata": {},
   "source": [
    "nombre_infected       539\n",
    "nombre_sain          2119\n",
    "nombre_exposed        300\n",
    "nombre_recovered    17042\n",
    "Name: 192, dtype: int64"
   ]
  },
  {
   "cell_type": "markdown",
   "id": "de7a0267",
   "metadata": {},
   "source": [
    "nombre_infected       557\n",
    "nombre_sain          2134\n",
    "nombre_exposed        286\n",
    "nombre_recovered    17023\n",
    "Name: 193, dtype: int64"
   ]
  },
  {
   "cell_type": "markdown",
   "id": "4dc99c29",
   "metadata": {},
   "source": [
    "nombre_infected       544\n",
    "nombre_sain          2164\n",
    "nombre_exposed        288\n",
    "nombre_recovered    17004\n",
    "Name: 194, dtype: int64"
   ]
  },
  {
   "cell_type": "markdown",
   "id": "a409ea4f",
   "metadata": {},
   "source": [
    "nombre_infected       549\n",
    "nombre_sain          2180\n",
    "nombre_exposed        296\n",
    "nombre_recovered    16975\n",
    "Name: 195, dtype: int64"
   ]
  },
  {
   "cell_type": "markdown",
   "id": "fe49dc2d",
   "metadata": {},
   "source": [
    "nombre_infected       550\n",
    "nombre_sain          2209\n",
    "nombre_exposed        283\n",
    "nombre_recovered    16958\n",
    "Name: 196, dtype: int64"
   ]
  },
  {
   "cell_type": "markdown",
   "id": "f92b9c27",
   "metadata": {},
   "source": [
    "nombre_infected       537\n",
    "nombre_sain          2240\n",
    "nombre_exposed        285\n",
    "nombre_recovered    16938\n",
    "Name: 197, dtype: int64"
   ]
  },
  {
   "cell_type": "markdown",
   "id": "5772dd17",
   "metadata": {},
   "source": [
    "nombre_infected       565\n",
    "nombre_sain          2258\n",
    "nombre_exposed        276\n",
    "nombre_recovered    16901\n",
    "Name: 198, dtype: int64"
   ]
  },
  {
   "cell_type": "markdown",
   "id": "f5d4d287",
   "metadata": {},
   "source": [
    "nombre_infected       560\n",
    "nombre_sain          2294\n",
    "nombre_exposed        273\n",
    "nombre_recovered    16873\n",
    "Name: 199, dtype: int64"
   ]
  },
  {
   "cell_type": "markdown",
   "id": "9ab5c842",
   "metadata": {},
   "source": [
    "nombre_infected       557\n",
    "nombre_sain          2334\n",
    "nombre_exposed        290\n",
    "nombre_recovered    16819\n",
    "Name: 200, dtype: int64"
   ]
  },
  {
   "cell_type": "markdown",
   "id": "daa202df",
   "metadata": {},
   "source": [
    "nombre_infected       553\n",
    "nombre_sain          2366\n",
    "nombre_exposed        299\n",
    "nombre_recovered    16782\n",
    "Name: 201, dtype: int64"
   ]
  },
  {
   "cell_type": "markdown",
   "id": "bde51ce4",
   "metadata": {},
   "source": [
    "nombre_infected       560\n",
    "nombre_sain          2369\n",
    "nombre_exposed        316\n",
    "nombre_recovered    16755\n",
    "Name: 202, dtype: int64"
   ]
  },
  {
   "cell_type": "markdown",
   "id": "0ee69959",
   "metadata": {},
   "source": [
    "nombre_infected       576\n",
    "nombre_sain          2402\n",
    "nombre_exposed        312\n",
    "nombre_recovered    16710\n",
    "Name: 203, dtype: int64"
   ]
  },
  {
   "cell_type": "markdown",
   "id": "87ecb824",
   "metadata": {},
   "source": [
    "nombre_infected       583\n",
    "nombre_sain          2392\n",
    "nombre_exposed        319\n",
    "nombre_recovered    16706\n",
    "Name: 204, dtype: int64"
   ]
  },
  {
   "cell_type": "markdown",
   "id": "b4f5d4dd",
   "metadata": {},
   "source": [
    "nombre_infected       579\n",
    "nombre_sain          2455\n",
    "nombre_exposed        331\n",
    "nombre_recovered    16635\n",
    "Name: 205, dtype: int64"
   ]
  },
  {
   "cell_type": "markdown",
   "id": "ebbe9412",
   "metadata": {},
   "source": [
    "nombre_infected       600\n",
    "nombre_sain          2493\n",
    "nombre_exposed        315\n",
    "nombre_recovered    16592\n",
    "Name: 206, dtype: int64"
   ]
  },
  {
   "cell_type": "markdown",
   "id": "2749d52c",
   "metadata": {},
   "source": [
    "nombre_infected       609\n",
    "nombre_sain          2511\n",
    "nombre_exposed        325\n",
    "nombre_recovered    16555\n",
    "Name: 207, dtype: int64"
   ]
  },
  {
   "cell_type": "markdown",
   "id": "81836540",
   "metadata": {},
   "source": [
    "nombre_infected       621\n",
    "nombre_sain          2511\n",
    "nombre_exposed        342\n",
    "nombre_recovered    16526\n",
    "Name: 208, dtype: int64"
   ]
  },
  {
   "cell_type": "markdown",
   "id": "5e33c691",
   "metadata": {},
   "source": [
    "nombre_infected       632\n",
    "nombre_sain          2529\n",
    "nombre_exposed        356\n",
    "nombre_recovered    16483\n",
    "Name: 209, dtype: int64"
   ]
  },
  {
   "cell_type": "markdown",
   "id": "0f6607a6",
   "metadata": {},
   "source": [
    "nombre_infected       637\n",
    "nombre_sain          2506\n",
    "nombre_exposed        370\n",
    "nombre_recovered    16487\n",
    "Name: 210, dtype: int64"
   ]
  },
  {
   "cell_type": "markdown",
   "id": "0966375a",
   "metadata": {},
   "source": [
    "nombre_infected       655\n",
    "nombre_sain          2504\n",
    "nombre_exposed        387\n",
    "nombre_recovered    16454\n",
    "Name: 211, dtype: int64"
   ]
  },
  {
   "cell_type": "markdown",
   "id": "1d9b2e46",
   "metadata": {},
   "source": [
    "nombre_infected       656\n",
    "nombre_sain          2503\n",
    "nombre_exposed        387\n",
    "nombre_recovered    16454\n",
    "Name: 212, dtype: int64"
   ]
  },
  {
   "cell_type": "markdown",
   "id": "a634ea74",
   "metadata": {},
   "source": [
    "nombre_infected       648\n",
    "nombre_sain          2501\n",
    "nombre_exposed        404\n",
    "nombre_recovered    16447\n",
    "Name: 213, dtype: int64"
   ]
  },
  {
   "cell_type": "markdown",
   "id": "fe0ebb6c",
   "metadata": {},
   "source": [
    "nombre_infected       670\n",
    "nombre_sain          2495\n",
    "nombre_exposed        392\n",
    "nombre_recovered    16443\n",
    "Name: 214, dtype: int64"
   ]
  },
  {
   "cell_type": "markdown",
   "id": "b75e722e",
   "metadata": {},
   "source": [
    "nombre_infected       670\n",
    "nombre_sain          2512\n",
    "nombre_exposed        399\n",
    "nombre_recovered    16419\n",
    "Name: 215, dtype: int64"
   ]
  },
  {
   "cell_type": "markdown",
   "id": "9d43433e",
   "metadata": {},
   "source": [
    "nombre_infected       695\n",
    "nombre_sain          2517\n",
    "nombre_exposed        380\n",
    "nombre_recovered    16408\n",
    "Name: 216, dtype: int64"
   ]
  },
  {
   "cell_type": "markdown",
   "id": "8f00bf78",
   "metadata": {},
   "source": [
    "nombre_infected       706\n",
    "nombre_sain          2537\n",
    "nombre_exposed        391\n",
    "nombre_recovered    16366\n",
    "Name: 217, dtype: int64"
   ]
  },
  {
   "cell_type": "markdown",
   "id": "142d9799",
   "metadata": {},
   "source": [
    "nombre_infected       701\n",
    "nombre_sain          2547\n",
    "nombre_exposed        421\n",
    "nombre_recovered    16331\n",
    "Name: 218, dtype: int64"
   ]
  },
  {
   "cell_type": "markdown",
   "id": "efa4ac68",
   "metadata": {},
   "source": [
    "nombre_infected       702\n",
    "nombre_sain          2564\n",
    "nombre_exposed        428\n",
    "nombre_recovered    16306\n",
    "Name: 219, dtype: int64"
   ]
  },
  {
   "cell_type": "markdown",
   "id": "0fc8e467",
   "metadata": {},
   "source": [
    "nombre_infected       716\n",
    "nombre_sain          2554\n",
    "nombre_exposed        437\n",
    "nombre_recovered    16293\n",
    "Name: 220, dtype: int64"
   ]
  },
  {
   "cell_type": "markdown",
   "id": "c785ff07",
   "metadata": {},
   "source": [
    "nombre_infected       749\n",
    "nombre_sain          2558\n",
    "nombre_exposed        437\n",
    "nombre_recovered    16256\n",
    "Name: 221, dtype: int64"
   ]
  },
  {
   "cell_type": "markdown",
   "id": "73d6a681",
   "metadata": {},
   "source": [
    "nombre_infected       770\n",
    "nombre_sain          2530\n",
    "nombre_exposed        458\n",
    "nombre_recovered    16242\n",
    "Name: 222, dtype: int64"
   ]
  },
  {
   "cell_type": "markdown",
   "id": "21464fcf",
   "metadata": {},
   "source": [
    "nombre_infected       774\n",
    "nombre_sain          2522\n",
    "nombre_exposed        460\n",
    "nombre_recovered    16244\n",
    "Name: 223, dtype: int64"
   ]
  },
  {
   "cell_type": "markdown",
   "id": "bce73921",
   "metadata": {},
   "source": [
    "nombre_infected       791\n",
    "nombre_sain          2488\n",
    "nombre_exposed        485\n",
    "nombre_recovered    16236\n",
    "Name: 224, dtype: int64"
   ]
  },
  {
   "cell_type": "markdown",
   "id": "0191bf65",
   "metadata": {},
   "source": [
    "nombre_infected       833\n",
    "nombre_sain          2457\n",
    "nombre_exposed        464\n",
    "nombre_recovered    16246\n",
    "Name: 225, dtype: int64"
   ]
  },
  {
   "cell_type": "markdown",
   "id": "ec936bac",
   "metadata": {},
   "source": [
    "nombre_infected       853\n",
    "nombre_sain          2429\n",
    "nombre_exposed        483\n",
    "nombre_recovered    16235\n",
    "Name: 226, dtype: int64"
   ]
  },
  {
   "cell_type": "markdown",
   "id": "3ef2e31e",
   "metadata": {},
   "source": [
    "nombre_infected       869\n",
    "nombre_sain          2432\n",
    "nombre_exposed        478\n",
    "nombre_recovered    16221\n",
    "Name: 227, dtype: int64"
   ]
  },
  {
   "cell_type": "markdown",
   "id": "68c0f707",
   "metadata": {},
   "source": [
    "nombre_infected       867\n",
    "nombre_sain          2400\n",
    "nombre_exposed        497\n",
    "nombre_recovered    16236\n",
    "Name: 228, dtype: int64"
   ]
  },
  {
   "cell_type": "markdown",
   "id": "8cd18a74",
   "metadata": {},
   "source": [
    "nombre_infected       878\n",
    "nombre_sain          2348\n",
    "nombre_exposed        515\n",
    "nombre_recovered    16259\n",
    "Name: 229, dtype: int64"
   ]
  },
  {
   "cell_type": "markdown",
   "id": "2b97c68d",
   "metadata": {},
   "source": [
    "nombre_infected       904\n",
    "nombre_sain          2290\n",
    "nombre_exposed        543\n",
    "nombre_recovered    16263\n",
    "Name: 230, dtype: int64"
   ]
  },
  {
   "cell_type": "markdown",
   "id": "5e95ac86",
   "metadata": {},
   "source": [
    "nombre_infected       913\n",
    "nombre_sain          2269\n",
    "nombre_exposed        535\n",
    "nombre_recovered    16283\n",
    "Name: 231, dtype: int64"
   ]
  },
  {
   "cell_type": "markdown",
   "id": "91d79e62",
   "metadata": {},
   "source": [
    "nombre_infected       920\n",
    "nombre_sain          2247\n",
    "nombre_exposed        535\n",
    "nombre_recovered    16298\n",
    "Name: 232, dtype: int64"
   ]
  },
  {
   "cell_type": "markdown",
   "id": "3ef5ccf2",
   "metadata": {},
   "source": [
    "nombre_infected       946\n",
    "nombre_sain          2214\n",
    "nombre_exposed        520\n",
    "nombre_recovered    16320\n",
    "Name: 233, dtype: int64"
   ]
  },
  {
   "cell_type": "markdown",
   "id": "267aadde",
   "metadata": {},
   "source": [
    "nombre_infected       969\n",
    "nombre_sain          2193\n",
    "nombre_exposed        520\n",
    "nombre_recovered    16318\n",
    "Name: 234, dtype: int64"
   ]
  },
  {
   "cell_type": "markdown",
   "id": "4c0d7ec8",
   "metadata": {},
   "source": [
    "nombre_infected       978\n",
    "nombre_sain          2196\n",
    "nombre_exposed        524\n",
    "nombre_recovered    16302\n",
    "Name: 235, dtype: int64"
   ]
  },
  {
   "cell_type": "markdown",
   "id": "c28f42a7",
   "metadata": {},
   "source": [
    "nombre_infected       989\n",
    "nombre_sain          2159\n",
    "nombre_exposed        549\n",
    "nombre_recovered    16303\n",
    "Name: 236, dtype: int64"
   ]
  },
  {
   "cell_type": "markdown",
   "id": "1f30d902",
   "metadata": {},
   "source": [
    "nombre_infected      1000\n",
    "nombre_sain          2147\n",
    "nombre_exposed        559\n",
    "nombre_recovered    16294\n",
    "Name: 237, dtype: int64"
   ]
  },
  {
   "cell_type": "markdown",
   "id": "db22cced",
   "metadata": {},
   "source": [
    "nombre_infected      1044\n",
    "nombre_sain          2122\n",
    "nombre_exposed        549\n",
    "nombre_recovered    16285\n",
    "Name: 238, dtype: int64"
   ]
  },
  {
   "cell_type": "markdown",
   "id": "bf9f121a",
   "metadata": {},
   "source": [
    "nombre_infected      1073\n",
    "nombre_sain          2093\n",
    "nombre_exposed        540\n",
    "nombre_recovered    16294\n",
    "Name: 239, dtype: int64"
   ]
  },
  {
   "cell_type": "markdown",
   "id": "2a225769",
   "metadata": {},
   "source": [
    "nombre_infected      1060\n",
    "nombre_sain          2088\n",
    "nombre_exposed        544\n",
    "nombre_recovered    16308\n",
    "Name: 240, dtype: int64"
   ]
  },
  {
   "cell_type": "markdown",
   "id": "a2657112",
   "metadata": {},
   "source": [
    "nombre_infected      1054\n",
    "nombre_sain          2087\n",
    "nombre_exposed        544\n",
    "nombre_recovered    16315\n",
    "Name: 241, dtype: int64"
   ]
  },
  {
   "cell_type": "markdown",
   "id": "e1f6df03",
   "metadata": {},
   "source": [
    "nombre_infected      1085\n",
    "nombre_sain          2080\n",
    "nombre_exposed        535\n",
    "nombre_recovered    16300\n",
    "Name: 242, dtype: int64"
   ]
  },
  {
   "cell_type": "markdown",
   "id": "bfcf648a",
   "metadata": {},
   "source": [
    "nombre_infected      1074\n",
    "nombre_sain          2084\n",
    "nombre_exposed        519\n",
    "nombre_recovered    16323\n",
    "Name: 243, dtype: int64"
   ]
  },
  {
   "cell_type": "markdown",
   "id": "7e907b42",
   "metadata": {},
   "source": [
    "nombre_infected      1096\n",
    "nombre_sain          2044\n",
    "nombre_exposed        519\n",
    "nombre_recovered    16341\n",
    "Name: 244, dtype: int64"
   ]
  },
  {
   "cell_type": "markdown",
   "id": "a89da5cd",
   "metadata": {},
   "source": [
    "nombre_infected      1108\n",
    "nombre_sain          2015\n",
    "nombre_exposed        541\n",
    "nombre_recovered    16336\n",
    "Name: 245, dtype: int64"
   ]
  },
  {
   "cell_type": "markdown",
   "id": "b1c68af5",
   "metadata": {},
   "source": [
    "nombre_infected      1147\n",
    "nombre_sain          1979\n",
    "nombre_exposed        522\n",
    "nombre_recovered    16352\n",
    "Name: 246, dtype: int64"
   ]
  },
  {
   "cell_type": "markdown",
   "id": "1f766f16",
   "metadata": {},
   "source": [
    "nombre_infected      1133\n",
    "nombre_sain          1939\n",
    "nombre_exposed        531\n",
    "nombre_recovered    16397\n",
    "Name: 247, dtype: int64"
   ]
  },
  {
   "cell_type": "markdown",
   "id": "4651cde2",
   "metadata": {},
   "source": [
    "nombre_infected      1102\n",
    "nombre_sain          1928\n",
    "nombre_exposed        531\n",
    "nombre_recovered    16439\n",
    "Name: 248, dtype: int64"
   ]
  },
  {
   "cell_type": "markdown",
   "id": "d82f1b81",
   "metadata": {},
   "source": [
    "nombre_infected      1089\n",
    "nombre_sain          1923\n",
    "nombre_exposed        527\n",
    "nombre_recovered    16461\n",
    "Name: 249, dtype: int64"
   ]
  },
  {
   "cell_type": "markdown",
   "id": "8d63a5b1",
   "metadata": {},
   "source": [
    "nombre_infected      1098\n",
    "nombre_sain          1915\n",
    "nombre_exposed        509\n",
    "nombre_recovered    16478\n",
    "Name: 250, dtype: int64"
   ]
  },
  {
   "cell_type": "markdown",
   "id": "e5bddc74",
   "metadata": {},
   "source": [
    "nombre_infected      1112\n",
    "nombre_sain          1875\n",
    "nombre_exposed        520\n",
    "nombre_recovered    16493\n",
    "Name: 251, dtype: int64"
   ]
  },
  {
   "cell_type": "markdown",
   "id": "21899933",
   "metadata": {},
   "source": [
    "nombre_infected      1116\n",
    "nombre_sain          1859\n",
    "nombre_exposed        501\n",
    "nombre_recovered    16524\n",
    "Name: 252, dtype: int64"
   ]
  },
  {
   "cell_type": "markdown",
   "id": "708ad5e1",
   "metadata": {},
   "source": [
    "nombre_infected      1118\n",
    "nombre_sain          1844\n",
    "nombre_exposed        492\n",
    "nombre_recovered    16546\n",
    "Name: 253, dtype: int64"
   ]
  },
  {
   "cell_type": "markdown",
   "id": "c0ae7a55",
   "metadata": {},
   "source": [
    "nombre_infected      1114\n",
    "nombre_sain          1831\n",
    "nombre_exposed        498\n",
    "nombre_recovered    16557\n",
    "Name: 254, dtype: int64"
   ]
  },
  {
   "cell_type": "markdown",
   "id": "5739de1c",
   "metadata": {},
   "source": [
    "nombre_infected      1098\n",
    "nombre_sain          1831\n",
    "nombre_exposed        480\n",
    "nombre_recovered    16591\n",
    "Name: 255, dtype: int64"
   ]
  },
  {
   "cell_type": "markdown",
   "id": "bb650d0d",
   "metadata": {},
   "source": [
    "nombre_infected      1093\n",
    "nombre_sain          1832\n",
    "nombre_exposed        483\n",
    "nombre_recovered    16592\n",
    "Name: 256, dtype: int64"
   ]
  },
  {
   "cell_type": "markdown",
   "id": "db1bee79",
   "metadata": {},
   "source": [
    "nombre_infected      1092\n",
    "nombre_sain          1838\n",
    "nombre_exposed        465\n",
    "nombre_recovered    16605\n",
    "Name: 257, dtype: int64"
   ]
  },
  {
   "cell_type": "markdown",
   "id": "16763396",
   "metadata": {},
   "source": [
    "nombre_infected      1069\n",
    "nombre_sain          1849\n",
    "nombre_exposed        465\n",
    "nombre_recovered    16617\n",
    "Name: 258, dtype: int64"
   ]
  },
  {
   "cell_type": "markdown",
   "id": "4e3c00ad",
   "metadata": {},
   "source": [
    "nombre_infected      1073\n",
    "nombre_sain          1830\n",
    "nombre_exposed        463\n",
    "nombre_recovered    16634\n",
    "Name: 259, dtype: int64"
   ]
  },
  {
   "cell_type": "markdown",
   "id": "26e71dfb",
   "metadata": {},
   "source": [
    "nombre_infected      1068\n",
    "nombre_sain          1803\n",
    "nombre_exposed        456\n",
    "nombre_recovered    16673\n",
    "Name: 260, dtype: int64"
   ]
  },
  {
   "cell_type": "markdown",
   "id": "53140c87",
   "metadata": {},
   "source": [
    "nombre_infected      1052\n",
    "nombre_sain          1793\n",
    "nombre_exposed        468\n",
    "nombre_recovered    16687\n",
    "Name: 261, dtype: int64"
   ]
  },
  {
   "cell_type": "markdown",
   "id": "660217e9",
   "metadata": {},
   "source": [
    "nombre_infected      1026\n",
    "nombre_sain          1838\n",
    "nombre_exposed        461\n",
    "nombre_recovered    16675\n",
    "Name: 262, dtype: int64"
   ]
  },
  {
   "cell_type": "markdown",
   "id": "9fff314d",
   "metadata": {},
   "source": [
    "nombre_infected      1026\n",
    "nombre_sain          1822\n",
    "nombre_exposed        471\n",
    "nombre_recovered    16681\n",
    "Name: 263, dtype: int64"
   ]
  },
  {
   "cell_type": "markdown",
   "id": "cc66b351",
   "metadata": {},
   "source": [
    "nombre_infected      1009\n",
    "nombre_sain          1821\n",
    "nombre_exposed        463\n",
    "nombre_recovered    16707\n",
    "Name: 264, dtype: int64"
   ]
  },
  {
   "cell_type": "markdown",
   "id": "1b33ec53",
   "metadata": {},
   "source": [
    "nombre_infected      1001\n",
    "nombre_sain          1833\n",
    "nombre_exposed        474\n",
    "nombre_recovered    16692\n",
    "Name: 265, dtype: int64"
   ]
  },
  {
   "cell_type": "markdown",
   "id": "a32ba0d7",
   "metadata": {},
   "source": [
    "nombre_infected      1013\n",
    "nombre_sain          1885\n",
    "nombre_exposed        455\n",
    "nombre_recovered    16647\n",
    "Name: 266, dtype: int64"
   ]
  },
  {
   "cell_type": "markdown",
   "id": "406d4157",
   "metadata": {},
   "source": [
    "nombre_infected       965\n",
    "nombre_sain          1912\n",
    "nombre_exposed        455\n",
    "nombre_recovered    16668\n",
    "Name: 267, dtype: int64"
   ]
  },
  {
   "cell_type": "markdown",
   "id": "da7f005e",
   "metadata": {},
   "source": [
    "nombre_infected       972\n",
    "nombre_sain          1934\n",
    "nombre_exposed        441\n",
    "nombre_recovered    16653\n",
    "Name: 268, dtype: int64"
   ]
  },
  {
   "cell_type": "markdown",
   "id": "65637a29",
   "metadata": {},
   "source": [
    "nombre_infected       986\n",
    "nombre_sain          1960\n",
    "nombre_exposed        429\n",
    "nombre_recovered    16625\n",
    "Name: 269, dtype: int64"
   ]
  },
  {
   "cell_type": "markdown",
   "id": "9b9f2748",
   "metadata": {},
   "source": [
    "nombre_infected       936\n",
    "nombre_sain          2005\n",
    "nombre_exposed        429\n",
    "nombre_recovered    16630\n",
    "Name: 270, dtype: int64"
   ]
  },
  {
   "cell_type": "markdown",
   "id": "3863cb4d",
   "metadata": {},
   "source": [
    "nombre_infected       917\n",
    "nombre_sain          2014\n",
    "nombre_exposed        444\n",
    "nombre_recovered    16625\n",
    "Name: 271, dtype: int64"
   ]
  },
  {
   "cell_type": "markdown",
   "id": "ddbd821d",
   "metadata": {},
   "source": [
    "nombre_infected       926\n",
    "nombre_sain          2035\n",
    "nombre_exposed        440\n",
    "nombre_recovered    16599\n",
    "Name: 272, dtype: int64"
   ]
  },
  {
   "cell_type": "markdown",
   "id": "044e8583",
   "metadata": {},
   "source": [
    "nombre_infected       932\n",
    "nombre_sain          2052\n",
    "nombre_exposed        461\n",
    "nombre_recovered    16555\n",
    "Name: 273, dtype: int64"
   ]
  },
  {
   "cell_type": "markdown",
   "id": "22e42289",
   "metadata": {},
   "source": [
    "nombre_infected       926\n",
    "nombre_sain          2064\n",
    "nombre_exposed        474\n",
    "nombre_recovered    16536\n",
    "Name: 274, dtype: int64"
   ]
  },
  {
   "cell_type": "markdown",
   "id": "6c9d1429",
   "metadata": {},
   "source": [
    "nombre_infected       905\n",
    "nombre_sain          2117\n",
    "nombre_exposed        461\n",
    "nombre_recovered    16517\n",
    "Name: 275, dtype: int64"
   ]
  },
  {
   "cell_type": "markdown",
   "id": "25dbb47c",
   "metadata": {},
   "source": [
    "nombre_infected       921\n",
    "nombre_sain          2156\n",
    "nombre_exposed        435\n",
    "nombre_recovered    16488\n",
    "Name: 276, dtype: int64"
   ]
  },
  {
   "cell_type": "markdown",
   "id": "4a1cae3d",
   "metadata": {},
   "source": [
    "nombre_infected       907\n",
    "nombre_sain          2202\n",
    "nombre_exposed        448\n",
    "nombre_recovered    16443\n",
    "Name: 277, dtype: int64"
   ]
  },
  {
   "cell_type": "markdown",
   "id": "0fa9002f",
   "metadata": {},
   "source": [
    "nombre_infected       915\n",
    "nombre_sain          2243\n",
    "nombre_exposed        439\n",
    "nombre_recovered    16403\n",
    "Name: 278, dtype: int64"
   ]
  },
  {
   "cell_type": "markdown",
   "id": "f17b2e27",
   "metadata": {},
   "source": [
    "nombre_infected       900\n",
    "nombre_sain          2280\n",
    "nombre_exposed        442\n",
    "nombre_recovered    16378\n",
    "Name: 279, dtype: int64"
   ]
  },
  {
   "cell_type": "markdown",
   "id": "e2bad72a",
   "metadata": {},
   "source": [
    "nombre_infected       885\n",
    "nombre_sain          2311\n",
    "nombre_exposed        453\n",
    "nombre_recovered    16351\n",
    "Name: 280, dtype: int64"
   ]
  },
  {
   "cell_type": "markdown",
   "id": "23b1e0f6",
   "metadata": {},
   "source": [
    "nombre_infected       895\n",
    "nombre_sain          2345\n",
    "nombre_exposed        455\n",
    "nombre_recovered    16305\n",
    "Name: 281, dtype: int64"
   ]
  },
  {
   "cell_type": "markdown",
   "id": "bb0f507f",
   "metadata": {},
   "source": [
    "nombre_infected       876\n",
    "nombre_sain          2385\n",
    "nombre_exposed        453\n",
    "nombre_recovered    16286\n",
    "Name: 282, dtype: int64"
   ]
  },
  {
   "cell_type": "markdown",
   "id": "cdf3d465",
   "metadata": {},
   "source": [
    "nombre_infected       866\n",
    "nombre_sain          2409\n",
    "nombre_exposed        446\n",
    "nombre_recovered    16279\n",
    "Name: 283, dtype: int64"
   ]
  },
  {
   "cell_type": "markdown",
   "id": "61622a49",
   "metadata": {},
   "source": [
    "nombre_infected       855\n",
    "nombre_sain          2426\n",
    "nombre_exposed        463\n",
    "nombre_recovered    16256\n",
    "Name: 284, dtype: int64"
   ]
  },
  {
   "cell_type": "markdown",
   "id": "51a1ec89",
   "metadata": {},
   "source": [
    "nombre_infected       863\n",
    "nombre_sain          2414\n",
    "nombre_exposed        497\n",
    "nombre_recovered    16226\n",
    "Name: 285, dtype: int64"
   ]
  },
  {
   "cell_type": "markdown",
   "id": "6c8eeacb",
   "metadata": {},
   "source": [
    "nombre_infected       871\n",
    "nombre_sain          2425\n",
    "nombre_exposed        501\n",
    "nombre_recovered    16203\n",
    "Name: 286, dtype: int64"
   ]
  },
  {
   "cell_type": "markdown",
   "id": "a57745d6",
   "metadata": {},
   "source": [
    "nombre_infected       884\n",
    "nombre_sain          2429\n",
    "nombre_exposed        516\n",
    "nombre_recovered    16171\n",
    "Name: 287, dtype: int64"
   ]
  },
  {
   "cell_type": "markdown",
   "id": "504a8e1a",
   "metadata": {},
   "source": [
    "nombre_infected       907\n",
    "nombre_sain          2403\n",
    "nombre_exposed        519\n",
    "nombre_recovered    16171\n",
    "Name: 288, dtype: int64"
   ]
  },
  {
   "cell_type": "markdown",
   "id": "4ea3efc9",
   "metadata": {},
   "source": [
    "nombre_infected       905\n",
    "nombre_sain          2427\n",
    "nombre_exposed        504\n",
    "nombre_recovered    16164\n",
    "Name: 289, dtype: int64"
   ]
  },
  {
   "cell_type": "markdown",
   "id": "03478bd2",
   "metadata": {},
   "source": [
    "nombre_infected       911\n",
    "nombre_sain          2393\n",
    "nombre_exposed        520\n",
    "nombre_recovered    16176\n",
    "Name: 290, dtype: int64"
   ]
  },
  {
   "cell_type": "markdown",
   "id": "56ceb468",
   "metadata": {},
   "source": [
    "nombre_infected       903\n",
    "nombre_sain          2376\n",
    "nombre_exposed        527\n",
    "nombre_recovered    16194\n",
    "Name: 291, dtype: int64"
   ]
  },
  {
   "cell_type": "markdown",
   "id": "84fd28c1",
   "metadata": {},
   "source": [
    "nombre_infected       921\n",
    "nombre_sain          2352\n",
    "nombre_exposed        531\n",
    "nombre_recovered    16196\n",
    "Name: 292, dtype: int64"
   ]
  },
  {
   "cell_type": "markdown",
   "id": "aa6eede7",
   "metadata": {},
   "source": [
    "nombre_infected       924\n",
    "nombre_sain          2373\n",
    "nombre_exposed        507\n",
    "nombre_recovered    16196\n",
    "Name: 293, dtype: int64"
   ]
  },
  {
   "cell_type": "markdown",
   "id": "c229f562",
   "metadata": {},
   "source": [
    "nombre_infected       920\n",
    "nombre_sain          2368\n",
    "nombre_exposed        520\n",
    "nombre_recovered    16192\n",
    "Name: 294, dtype: int64"
   ]
  },
  {
   "cell_type": "markdown",
   "id": "91c53f19",
   "metadata": {},
   "source": [
    "nombre_infected       934\n",
    "nombre_sain          2366\n",
    "nombre_exposed        524\n",
    "nombre_recovered    16176\n",
    "Name: 295, dtype: int64"
   ]
  },
  {
   "cell_type": "markdown",
   "id": "45bc24a9",
   "metadata": {},
   "source": [
    "nombre_infected       938\n",
    "nombre_sain          2344\n",
    "nombre_exposed        554\n",
    "nombre_recovered    16164\n",
    "Name: 296, dtype: int64"
   ]
  },
  {
   "cell_type": "markdown",
   "id": "352c5293",
   "metadata": {},
   "source": [
    "nombre_infected       940\n",
    "nombre_sain          2334\n",
    "nombre_exposed        571\n",
    "nombre_recovered    16155\n",
    "Name: 297, dtype: int64"
   ]
  },
  {
   "cell_type": "markdown",
   "id": "c3cd2b81",
   "metadata": {},
   "source": [
    "nombre_infected       940\n",
    "nombre_sain          2308\n",
    "nombre_exposed        575\n",
    "nombre_recovered    16177\n",
    "Name: 298, dtype: int64"
   ]
  },
  {
   "cell_type": "markdown",
   "id": "b0ba0e1e",
   "metadata": {},
   "source": [
    "nombre_infected       947\n",
    "nombre_sain          2294\n",
    "nombre_exposed        576\n",
    "nombre_recovered    16183\n",
    "Name: 299, dtype: int64"
   ]
  },
  {
   "cell_type": "markdown",
   "id": "66cb06f2",
   "metadata": {},
   "source": [
    "nombre_infected       950\n",
    "nombre_sain          2316\n",
    "nombre_exposed        566\n",
    "nombre_recovered    16168\n",
    "Name: 300, dtype: int64"
   ]
  },
  {
   "cell_type": "markdown",
   "id": "6d812ed2",
   "metadata": {},
   "source": [
    "nombre_infected       963\n",
    "nombre_sain          2321\n",
    "nombre_exposed        534\n",
    "nombre_recovered    16182\n",
    "Name: 301, dtype: int64"
   ]
  },
  {
   "cell_type": "markdown",
   "id": "c22224e4",
   "metadata": {},
   "source": [
    "nombre_infected       963\n",
    "nombre_sain          2313\n",
    "nombre_exposed        543\n",
    "nombre_recovered    16181\n",
    "Name: 302, dtype: int64"
   ]
  },
  {
   "cell_type": "markdown",
   "id": "7b545492",
   "metadata": {},
   "source": [
    "nombre_infected       964\n",
    "nombre_sain          2299\n",
    "nombre_exposed        548\n",
    "nombre_recovered    16189\n",
    "Name: 303, dtype: int64"
   ]
  },
  {
   "cell_type": "markdown",
   "id": "236e9ea9",
   "metadata": {},
   "source": [
    "nombre_infected       975\n",
    "nombre_sain          2285\n",
    "nombre_exposed        542\n",
    "nombre_recovered    16198\n",
    "Name: 304, dtype: int64"
   ]
  },
  {
   "cell_type": "markdown",
   "id": "3deb7f0f",
   "metadata": {},
   "source": [
    "nombre_infected       969\n",
    "nombre_sain          2267\n",
    "nombre_exposed        554\n",
    "nombre_recovered    16210\n",
    "Name: 305, dtype: int64"
   ]
  },
  {
   "cell_type": "markdown",
   "id": "7f632afd",
   "metadata": {},
   "source": [
    "nombre_infected       958\n",
    "nombre_sain          2241\n",
    "nombre_exposed        527\n",
    "nombre_recovered    16274\n",
    "Name: 306, dtype: int64"
   ]
  },
  {
   "cell_type": "markdown",
   "id": "ddcf1f86",
   "metadata": {},
   "source": [
    "nombre_infected       990\n",
    "nombre_sain          2215\n",
    "nombre_exposed        514\n",
    "nombre_recovered    16281\n",
    "Name: 307, dtype: int64"
   ]
  },
  {
   "cell_type": "markdown",
   "id": "b55b5f7e",
   "metadata": {},
   "source": [
    "nombre_infected       972\n",
    "nombre_sain          2202\n",
    "nombre_exposed        522\n",
    "nombre_recovered    16304\n",
    "Name: 308, dtype: int64"
   ]
  },
  {
   "cell_type": "markdown",
   "id": "6b04b494",
   "metadata": {},
   "source": [
    "nombre_infected       985\n",
    "nombre_sain          2187\n",
    "nombre_exposed        524\n",
    "nombre_recovered    16304\n",
    "Name: 309, dtype: int64"
   ]
  },
  {
   "cell_type": "markdown",
   "id": "ff75177a",
   "metadata": {},
   "source": [
    "nombre_infected       994\n",
    "nombre_sain          2200\n",
    "nombre_exposed        514\n",
    "nombre_recovered    16292\n",
    "Name: 310, dtype: int64"
   ]
  },
  {
   "cell_type": "markdown",
   "id": "82a54b9c",
   "metadata": {},
   "source": [
    "nombre_infected      1007\n",
    "nombre_sain          2163\n",
    "nombre_exposed        538\n",
    "nombre_recovered    16292\n",
    "Name: 311, dtype: int64"
   ]
  },
  {
   "cell_type": "markdown",
   "id": "e102751b",
   "metadata": {},
   "source": [
    "nombre_infected      1003\n",
    "nombre_sain          2149\n",
    "nombre_exposed        533\n",
    "nombre_recovered    16315\n",
    "Name: 312, dtype: int64"
   ]
  },
  {
   "cell_type": "markdown",
   "id": "563740fe",
   "metadata": {},
   "source": [
    "nombre_infected       993\n",
    "nombre_sain          2125\n",
    "nombre_exposed        532\n",
    "nombre_recovered    16350\n",
    "Name: 313, dtype: int64"
   ]
  },
  {
   "cell_type": "markdown",
   "id": "fcff3c35",
   "metadata": {},
   "source": [
    "nombre_infected       975\n",
    "nombre_sain          2102\n",
    "nombre_exposed        536\n",
    "nombre_recovered    16387\n",
    "Name: 314, dtype: int64"
   ]
  },
  {
   "cell_type": "markdown",
   "id": "8f9b9442",
   "metadata": {},
   "source": [
    "nombre_infected       976\n",
    "nombre_sain          2084\n",
    "nombre_exposed        533\n",
    "nombre_recovered    16407\n",
    "Name: 315, dtype: int64"
   ]
  },
  {
   "cell_type": "markdown",
   "id": "57681af8",
   "metadata": {},
   "source": [
    "nombre_infected       999\n",
    "nombre_sain          2084\n",
    "nombre_exposed        510\n",
    "nombre_recovered    16407\n",
    "Name: 316, dtype: int64"
   ]
  },
  {
   "cell_type": "markdown",
   "id": "2093c96b",
   "metadata": {},
   "source": [
    "nombre_infected       980\n",
    "nombre_sain          2069\n",
    "nombre_exposed        491\n",
    "nombre_recovered    16460\n",
    "Name: 317, dtype: int64"
   ]
  },
  {
   "cell_type": "markdown",
   "id": "0c06d23d",
   "metadata": {},
   "source": [
    "nombre_infected       944\n",
    "nombre_sain          2042\n",
    "nombre_exposed        502\n",
    "nombre_recovered    16512\n",
    "Name: 318, dtype: int64"
   ]
  },
  {
   "cell_type": "markdown",
   "id": "b141436d",
   "metadata": {},
   "source": [
    "nombre_infected       941\n",
    "nombre_sain          2026\n",
    "nombre_exposed        509\n",
    "nombre_recovered    16524\n",
    "Name: 319, dtype: int64"
   ]
  },
  {
   "cell_type": "markdown",
   "id": "0a315b69",
   "metadata": {},
   "source": [
    "nombre_infected       943\n",
    "nombre_sain          2034\n",
    "nombre_exposed        495\n",
    "nombre_recovered    16528\n",
    "Name: 320, dtype: int64"
   ]
  },
  {
   "cell_type": "markdown",
   "id": "38d8bbaa",
   "metadata": {},
   "source": [
    "nombre_infected       954\n",
    "nombre_sain          2020\n",
    "nombre_exposed        485\n",
    "nombre_recovered    16541\n",
    "Name: 321, dtype: int64"
   ]
  },
  {
   "cell_type": "markdown",
   "id": "fced36b8",
   "metadata": {},
   "source": [
    "nombre_infected       940\n",
    "nombre_sain          2016\n",
    "nombre_exposed        477\n",
    "nombre_recovered    16567\n",
    "Name: 322, dtype: int64"
   ]
  },
  {
   "cell_type": "markdown",
   "id": "2f44c9b4",
   "metadata": {},
   "source": [
    "nombre_infected       928\n",
    "nombre_sain          2020\n",
    "nombre_exposed        454\n",
    "nombre_recovered    16598\n",
    "Name: 323, dtype: int64"
   ]
  },
  {
   "cell_type": "markdown",
   "id": "eb179710",
   "metadata": {},
   "source": [
    "nombre_infected       917\n",
    "nombre_sain          1996\n",
    "nombre_exposed        447\n",
    "nombre_recovered    16640\n",
    "Name: 324, dtype: int64"
   ]
  },
  {
   "cell_type": "markdown",
   "id": "40d66f7a",
   "metadata": {},
   "source": [
    "nombre_infected       903\n",
    "nombre_sain          1991\n",
    "nombre_exposed        433\n",
    "nombre_recovered    16673\n",
    "Name: 325, dtype: int64"
   ]
  },
  {
   "cell_type": "markdown",
   "id": "9a899802",
   "metadata": {},
   "source": [
    "nombre_infected       911\n",
    "nombre_sain          2023\n",
    "nombre_exposed        420\n",
    "nombre_recovered    16646\n",
    "Name: 326, dtype: int64"
   ]
  },
  {
   "cell_type": "markdown",
   "id": "dd058b4e",
   "metadata": {},
   "source": [
    "nombre_infected       875\n",
    "nombre_sain          2022\n",
    "nombre_exposed        436\n",
    "nombre_recovered    16667\n",
    "Name: 327, dtype: int64"
   ]
  },
  {
   "cell_type": "markdown",
   "id": "a3272cd5",
   "metadata": {},
   "source": [
    "nombre_infected       878\n",
    "nombre_sain          2006\n",
    "nombre_exposed        437\n",
    "nombre_recovered    16679\n",
    "Name: 328, dtype: int64"
   ]
  },
  {
   "cell_type": "markdown",
   "id": "dd45a220",
   "metadata": {},
   "source": [
    "nombre_infected       893\n",
    "nombre_sain          1971\n",
    "nombre_exposed        442\n",
    "nombre_recovered    16694\n",
    "Name: 329, dtype: int64"
   ]
  },
  {
   "cell_type": "markdown",
   "id": "7081f735",
   "metadata": {},
   "source": [
    "nombre_infected       889\n",
    "nombre_sain          1971\n",
    "nombre_exposed        419\n",
    "nombre_recovered    16721\n",
    "Name: 330, dtype: int64"
   ]
  },
  {
   "cell_type": "markdown",
   "id": "453775b4",
   "metadata": {},
   "source": [
    "nombre_infected       891\n",
    "nombre_sain          1946\n",
    "nombre_exposed        414\n",
    "nombre_recovered    16749\n",
    "Name: 331, dtype: int64"
   ]
  },
  {
   "cell_type": "markdown",
   "id": "d3ff00a5",
   "metadata": {},
   "source": [
    "nombre_infected       878\n",
    "nombre_sain          1937\n",
    "nombre_exposed        430\n",
    "nombre_recovered    16755\n",
    "Name: 332, dtype: int64"
   ]
  },
  {
   "cell_type": "markdown",
   "id": "e0f44d24",
   "metadata": {},
   "source": [
    "nombre_infected       866\n",
    "nombre_sain          1922\n",
    "nombre_exposed        444\n",
    "nombre_recovered    16768\n",
    "Name: 333, dtype: int64"
   ]
  },
  {
   "cell_type": "markdown",
   "id": "148c9206",
   "metadata": {},
   "source": [
    "nombre_infected       882\n",
    "nombre_sain          1905\n",
    "nombre_exposed        431\n",
    "nombre_recovered    16782\n",
    "Name: 334, dtype: int64"
   ]
  },
  {
   "cell_type": "markdown",
   "id": "078a3427",
   "metadata": {},
   "source": [
    "nombre_infected       875\n",
    "nombre_sain          1933\n",
    "nombre_exposed        419\n",
    "nombre_recovered    16773\n",
    "Name: 335, dtype: int64"
   ]
  },
  {
   "cell_type": "markdown",
   "id": "ef89685e",
   "metadata": {},
   "source": [
    "nombre_infected       896\n",
    "nombre_sain          1953\n",
    "nombre_exposed        400\n",
    "nombre_recovered    16751\n",
    "Name: 336, dtype: int64"
   ]
  },
  {
   "cell_type": "markdown",
   "id": "c1aa3ba1",
   "metadata": {},
   "source": [
    "nombre_infected       874\n",
    "nombre_sain          1927\n",
    "nombre_exposed        432\n",
    "nombre_recovered    16767\n",
    "Name: 337, dtype: int64"
   ]
  },
  {
   "cell_type": "markdown",
   "id": "6e94de33",
   "metadata": {},
   "source": [
    "nombre_infected       891\n",
    "nombre_sain          1926\n",
    "nombre_exposed        426\n",
    "nombre_recovered    16757\n",
    "Name: 338, dtype: int64"
   ]
  },
  {
   "cell_type": "markdown",
   "id": "09bb9913",
   "metadata": {},
   "source": [
    "nombre_infected       878\n",
    "nombre_sain          1924\n",
    "nombre_exposed        425\n",
    "nombre_recovered    16773\n",
    "Name: 339, dtype: int64"
   ]
  },
  {
   "cell_type": "markdown",
   "id": "65071b05",
   "metadata": {},
   "source": [
    "nombre_infected       908\n",
    "nombre_sain          1933\n",
    "nombre_exposed        413\n",
    "nombre_recovered    16746\n",
    "Name: 340, dtype: int64"
   ]
  },
  {
   "cell_type": "markdown",
   "id": "2548eb78",
   "metadata": {},
   "source": [
    "nombre_infected       898\n",
    "nombre_sain          1927\n",
    "nombre_exposed        418\n",
    "nombre_recovered    16757\n",
    "Name: 341, dtype: int64"
   ]
  },
  {
   "cell_type": "markdown",
   "id": "c4ff967c",
   "metadata": {},
   "source": [
    "nombre_infected       891\n",
    "nombre_sain          1918\n",
    "nombre_exposed        429\n",
    "nombre_recovered    16762\n",
    "Name: 342, dtype: int64"
   ]
  },
  {
   "cell_type": "markdown",
   "id": "82267fa0",
   "metadata": {},
   "source": [
    "nombre_infected       882\n",
    "nombre_sain          1916\n",
    "nombre_exposed        416\n",
    "nombre_recovered    16786\n",
    "Name: 343, dtype: int64"
   ]
  },
  {
   "cell_type": "markdown",
   "id": "86cae277",
   "metadata": {},
   "source": [
    "nombre_infected       869\n",
    "nombre_sain          1940\n",
    "nombre_exposed        421\n",
    "nombre_recovered    16770\n",
    "Name: 344, dtype: int64"
   ]
  },
  {
   "cell_type": "markdown",
   "id": "3f98939e",
   "metadata": {},
   "source": [
    "nombre_infected       865\n",
    "nombre_sain          1940\n",
    "nombre_exposed        421\n",
    "nombre_recovered    16774\n",
    "Name: 345, dtype: int64"
   ]
  },
  {
   "cell_type": "markdown",
   "id": "bf0c01ac",
   "metadata": {},
   "source": [
    "nombre_infected       863\n",
    "nombre_sain          1966\n",
    "nombre_exposed        399\n",
    "nombre_recovered    16772\n",
    "Name: 346, dtype: int64"
   ]
  },
  {
   "cell_type": "markdown",
   "id": "31a4e2ba",
   "metadata": {},
   "source": [
    "nombre_infected       873\n",
    "nombre_sain          2019\n",
    "nombre_exposed        388\n",
    "nombre_recovered    16720\n",
    "Name: 347, dtype: int64"
   ]
  },
  {
   "cell_type": "markdown",
   "id": "67b2d6bb",
   "metadata": {},
   "source": [
    "nombre_infected       867\n",
    "nombre_sain          2037\n",
    "nombre_exposed        395\n",
    "nombre_recovered    16701\n",
    "Name: 348, dtype: int64"
   ]
  },
  {
   "cell_type": "markdown",
   "id": "aeba9a27",
   "metadata": {},
   "source": [
    "nombre_infected       868\n",
    "nombre_sain          2076\n",
    "nombre_exposed        415\n",
    "nombre_recovered    16641\n",
    "Name: 349, dtype: int64"
   ]
  },
  {
   "cell_type": "markdown",
   "id": "80ccb2a1",
   "metadata": {},
   "source": [
    "nombre_infected       852\n",
    "nombre_sain          2087\n",
    "nombre_exposed        422\n",
    "nombre_recovered    16639\n",
    "Name: 350, dtype: int64"
   ]
  },
  {
   "cell_type": "markdown",
   "id": "1d844c86",
   "metadata": {},
   "source": [
    "nombre_infected       838\n",
    "nombre_sain          2104\n",
    "nombre_exposed        427\n",
    "nombre_recovered    16631\n",
    "Name: 351, dtype: int64"
   ]
  },
  {
   "cell_type": "markdown",
   "id": "39119329",
   "metadata": {},
   "source": [
    "nombre_infected       831\n",
    "nombre_sain          2118\n",
    "nombre_exposed        415\n",
    "nombre_recovered    16636\n",
    "Name: 352, dtype: int64"
   ]
  },
  {
   "cell_type": "markdown",
   "id": "ef8cd630",
   "metadata": {},
   "source": [
    "nombre_infected       839\n",
    "nombre_sain          2114\n",
    "nombre_exposed        440\n",
    "nombre_recovered    16607\n",
    "Name: 353, dtype: int64"
   ]
  },
  {
   "cell_type": "markdown",
   "id": "60ec0539",
   "metadata": {},
   "source": [
    "nombre_infected       809\n",
    "nombre_sain          2149\n",
    "nombre_exposed        454\n",
    "nombre_recovered    16588\n",
    "Name: 354, dtype: int64"
   ]
  },
  {
   "cell_type": "markdown",
   "id": "f8043191",
   "metadata": {},
   "source": [
    "nombre_infected       842\n",
    "nombre_sain          2179\n",
    "nombre_exposed        435\n",
    "nombre_recovered    16544\n",
    "Name: 355, dtype: int64"
   ]
  },
  {
   "cell_type": "markdown",
   "id": "649fe712",
   "metadata": {},
   "source": [
    "nombre_infected       855\n",
    "nombre_sain          2158\n",
    "nombre_exposed        449\n",
    "nombre_recovered    16538\n",
    "Name: 356, dtype: int64"
   ]
  },
  {
   "cell_type": "markdown",
   "id": "e6d92b9e",
   "metadata": {},
   "source": [
    "nombre_infected       853\n",
    "nombre_sain          2139\n",
    "nombre_exposed        459\n",
    "nombre_recovered    16549\n",
    "Name: 357, dtype: int64"
   ]
  },
  {
   "cell_type": "markdown",
   "id": "a41108c5",
   "metadata": {},
   "source": [
    "nombre_infected       875\n",
    "nombre_sain          2143\n",
    "nombre_exposed        456\n",
    "nombre_recovered    16526\n",
    "Name: 358, dtype: int64"
   ]
  },
  {
   "cell_type": "markdown",
   "id": "585549fe",
   "metadata": {},
   "source": [
    "nombre_infected       862\n",
    "nombre_sain          2140\n",
    "nombre_exposed        455\n",
    "nombre_recovered    16543\n",
    "Name: 359, dtype: int64"
   ]
  },
  {
   "cell_type": "markdown",
   "id": "e3086e61",
   "metadata": {},
   "source": [
    "nombre_infected       852\n",
    "nombre_sain          2139\n",
    "nombre_exposed        445\n",
    "nombre_recovered    16564\n",
    "Name: 360, dtype: int64"
   ]
  },
  {
   "cell_type": "markdown",
   "id": "4355fcfa",
   "metadata": {},
   "source": [
    "nombre_infected       852\n",
    "nombre_sain          2141\n",
    "nombre_exposed        440\n",
    "nombre_recovered    16567\n",
    "Name: 361, dtype: int64"
   ]
  },
  {
   "cell_type": "markdown",
   "id": "b5e13805",
   "metadata": {},
   "source": [
    "nombre_infected       864\n",
    "nombre_sain          2127\n",
    "nombre_exposed        449\n",
    "nombre_recovered    16560\n",
    "Name: 362, dtype: int64"
   ]
  },
  {
   "cell_type": "markdown",
   "id": "dfdf6fa8",
   "metadata": {},
   "source": [
    "nombre_infected       855\n",
    "nombre_sain          2142\n",
    "nombre_exposed        449\n",
    "nombre_recovered    16554\n",
    "Name: 363, dtype: int64"
   ]
  },
  {
   "cell_type": "markdown",
   "id": "614c3b8b",
   "metadata": {},
   "source": [
    "nombre_infected       864\n",
    "nombre_sain          2108\n",
    "nombre_exposed        489\n",
    "nombre_recovered    16539\n",
    "Name: 364, dtype: int64"
   ]
  },
  {
   "cell_type": "markdown",
   "id": "19e5ac26",
   "metadata": {},
   "source": [
    "nombre_infected       867\n",
    "nombre_sain          2110\n",
    "nombre_exposed        485\n",
    "nombre_recovered    16538\n",
    "Name: 365, dtype: int64"
   ]
  },
  {
   "cell_type": "markdown",
   "id": "82b2b523",
   "metadata": {},
   "source": [
    "nombre_infected       870\n",
    "nombre_sain          2066\n",
    "nombre_exposed        513\n",
    "nombre_recovered    16551\n",
    "Name: 366, dtype: int64"
   ]
  },
  {
   "cell_type": "markdown",
   "id": "4b5b669c",
   "metadata": {},
   "source": [
    "nombre_infected       869\n",
    "nombre_sain          2059\n",
    "nombre_exposed        506\n",
    "nombre_recovered    16566\n",
    "Name: 367, dtype: int64"
   ]
  },
  {
   "cell_type": "markdown",
   "id": "15441db0",
   "metadata": {},
   "source": [
    "nombre_infected       894\n",
    "nombre_sain          2070\n",
    "nombre_exposed        457\n",
    "nombre_recovered    16579\n",
    "Name: 368, dtype: int64"
   ]
  },
  {
   "cell_type": "markdown",
   "id": "a0028b2f",
   "metadata": {},
   "source": [
    "nombre_infected       904\n",
    "nombre_sain          2057\n",
    "nombre_exposed        443\n",
    "nombre_recovered    16596\n",
    "Name: 369, dtype: int64"
   ]
  },
  {
   "cell_type": "markdown",
   "id": "e1173bdc",
   "metadata": {},
   "source": [
    "nombre_infected       895\n",
    "nombre_sain          2067\n",
    "nombre_exposed        443\n",
    "nombre_recovered    16595\n",
    "Name: 370, dtype: int64"
   ]
  },
  {
   "cell_type": "markdown",
   "id": "6bc22e6e",
   "metadata": {},
   "source": [
    "nombre_infected       912\n",
    "nombre_sain          2061\n",
    "nombre_exposed        446\n",
    "nombre_recovered    16581\n",
    "Name: 371, dtype: int64"
   ]
  },
  {
   "cell_type": "markdown",
   "id": "8e3f859c",
   "metadata": {},
   "source": [
    "nombre_infected       924\n",
    "nombre_sain          2040\n",
    "nombre_exposed        454\n",
    "nombre_recovered    16582\n",
    "Name: 372, dtype: int64"
   ]
  },
  {
   "cell_type": "markdown",
   "id": "1c622620",
   "metadata": {},
   "source": [
    "nombre_infected       923\n",
    "nombre_sain          2028\n",
    "nombre_exposed        457\n",
    "nombre_recovered    16592\n",
    "Name: 373, dtype: int64"
   ]
  },
  {
   "cell_type": "markdown",
   "id": "b886a4b6",
   "metadata": {},
   "source": [
    "nombre_infected       924\n",
    "nombre_sain          2007\n",
    "nombre_exposed        482\n",
    "nombre_recovered    16587\n",
    "Name: 374, dtype: int64"
   ]
  },
  {
   "cell_type": "markdown",
   "id": "a22088fb",
   "metadata": {},
   "source": [
    "nombre_infected       916\n",
    "nombre_sain          2004\n",
    "nombre_exposed        468\n",
    "nombre_recovered    16612\n",
    "Name: 375, dtype: int64"
   ]
  },
  {
   "cell_type": "markdown",
   "id": "8272f919",
   "metadata": {},
   "source": [
    "nombre_infected       916\n",
    "nombre_sain          1991\n",
    "nombre_exposed        447\n",
    "nombre_recovered    16646\n",
    "Name: 376, dtype: int64"
   ]
  },
  {
   "cell_type": "markdown",
   "id": "43cbd308",
   "metadata": {},
   "source": [
    "nombre_infected       926\n",
    "nombre_sain          1993\n",
    "nombre_exposed        431\n",
    "nombre_recovered    16650\n",
    "Name: 377, dtype: int64"
   ]
  },
  {
   "cell_type": "markdown",
   "id": "e43ed427",
   "metadata": {},
   "source": [
    "nombre_infected       917\n",
    "nombre_sain          2004\n",
    "nombre_exposed        410\n",
    "nombre_recovered    16669\n",
    "Name: 378, dtype: int64"
   ]
  },
  {
   "cell_type": "markdown",
   "id": "90c5ff55",
   "metadata": {},
   "source": [
    "nombre_infected       907\n",
    "nombre_sain          1986\n",
    "nombre_exposed        414\n",
    "nombre_recovered    16693\n",
    "Name: 379, dtype: int64"
   ]
  },
  {
   "cell_type": "markdown",
   "id": "21321c0f",
   "metadata": {},
   "source": [
    "nombre_infected       893\n",
    "nombre_sain          1992\n",
    "nombre_exposed        418\n",
    "nombre_recovered    16697\n",
    "Name: 380, dtype: int64"
   ]
  },
  {
   "cell_type": "markdown",
   "id": "d4287eb3",
   "metadata": {},
   "source": [
    "nombre_infected       888\n",
    "nombre_sain          1972\n",
    "nombre_exposed        431\n",
    "nombre_recovered    16709\n",
    "Name: 381, dtype: int64"
   ]
  },
  {
   "cell_type": "markdown",
   "id": "efe56d25",
   "metadata": {},
   "source": [
    "nombre_infected       883\n",
    "nombre_sain          1990\n",
    "nombre_exposed        415\n",
    "nombre_recovered    16712\n",
    "Name: 382, dtype: int64"
   ]
  },
  {
   "cell_type": "markdown",
   "id": "d7caa851",
   "metadata": {},
   "source": [
    "nombre_infected       884\n",
    "nombre_sain          1973\n",
    "nombre_exposed        411\n",
    "nombre_recovered    16732\n",
    "Name: 383, dtype: int64"
   ]
  },
  {
   "cell_type": "markdown",
   "id": "fce163f8",
   "metadata": {},
   "source": [
    "nombre_infected       893\n",
    "nombre_sain          1972\n",
    "nombre_exposed        401\n",
    "nombre_recovered    16734\n",
    "Name: 384, dtype: int64"
   ]
  },
  {
   "cell_type": "markdown",
   "id": "fdff8160",
   "metadata": {},
   "source": [
    "nombre_infected       870\n",
    "nombre_sain          1992\n",
    "nombre_exposed        391\n",
    "nombre_recovered    16747\n",
    "Name: 385, dtype: int64"
   ]
  },
  {
   "cell_type": "markdown",
   "id": "0ded3170",
   "metadata": {},
   "source": [
    "nombre_infected       860\n",
    "nombre_sain          2011\n",
    "nombre_exposed        373\n",
    "nombre_recovered    16756\n",
    "Name: 386, dtype: int64"
   ]
  },
  {
   "cell_type": "markdown",
   "id": "ca128c02",
   "metadata": {},
   "source": [
    "nombre_infected       851\n",
    "nombre_sain          1984\n",
    "nombre_exposed        401\n",
    "nombre_recovered    16764\n",
    "Name: 387, dtype: int64"
   ]
  },
  {
   "cell_type": "markdown",
   "id": "66dc8b2e",
   "metadata": {},
   "source": [
    "nombre_infected       815\n",
    "nombre_sain          2005\n",
    "nombre_exposed        416\n",
    "nombre_recovered    16764\n",
    "Name: 388, dtype: int64"
   ]
  },
  {
   "cell_type": "markdown",
   "id": "40532ca3",
   "metadata": {},
   "source": [
    "nombre_infected       805\n",
    "nombre_sain          2013\n",
    "nombre_exposed        412\n",
    "nombre_recovered    16770\n",
    "Name: 389, dtype: int64"
   ]
  },
  {
   "cell_type": "markdown",
   "id": "5e3b0cbe",
   "metadata": {},
   "source": [
    "nombre_infected       807\n",
    "nombre_sain          2051\n",
    "nombre_exposed        403\n",
    "nombre_recovered    16739\n",
    "Name: 390, dtype: int64"
   ]
  },
  {
   "cell_type": "markdown",
   "id": "e00bbcea",
   "metadata": {},
   "source": [
    "nombre_infected       826\n",
    "nombre_sain          2079\n",
    "nombre_exposed        384\n",
    "nombre_recovered    16711\n",
    "Name: 391, dtype: int64"
   ]
  },
  {
   "cell_type": "markdown",
   "id": "48613768",
   "metadata": {},
   "source": [
    "nombre_infected       816\n",
    "nombre_sain          2084\n",
    "nombre_exposed        380\n",
    "nombre_recovered    16720\n",
    "Name: 392, dtype: int64"
   ]
  },
  {
   "cell_type": "markdown",
   "id": "dfdeb8fa",
   "metadata": {},
   "source": [
    "nombre_infected       820\n",
    "nombre_sain          2087\n",
    "nombre_exposed        390\n",
    "nombre_recovered    16703\n",
    "Name: 393, dtype: int64"
   ]
  },
  {
   "cell_type": "markdown",
   "id": "ce85f95f",
   "metadata": {},
   "source": [
    "nombre_infected       794\n",
    "nombre_sain          2081\n",
    "nombre_exposed        411\n",
    "nombre_recovered    16714\n",
    "Name: 394, dtype: int64"
   ]
  },
  {
   "cell_type": "markdown",
   "id": "2cf0e72d",
   "metadata": {},
   "source": [
    "nombre_infected       790\n",
    "nombre_sain          2079\n",
    "nombre_exposed        428\n",
    "nombre_recovered    16703\n",
    "Name: 395, dtype: int64"
   ]
  },
  {
   "cell_type": "markdown",
   "id": "6899075f",
   "metadata": {},
   "source": [
    "nombre_infected       796\n",
    "nombre_sain          2079\n",
    "nombre_exposed        453\n",
    "nombre_recovered    16672\n",
    "Name: 396, dtype: int64"
   ]
  },
  {
   "cell_type": "markdown",
   "id": "43cf5348",
   "metadata": {},
   "source": [
    "nombre_infected       822\n",
    "nombre_sain          2077\n",
    "nombre_exposed        440\n",
    "nombre_recovered    16661\n",
    "Name: 397, dtype: int64"
   ]
  },
  {
   "cell_type": "markdown",
   "id": "14a6bca2",
   "metadata": {},
   "source": [
    "nombre_infected       831\n",
    "nombre_sain          2109\n",
    "nombre_exposed        423\n",
    "nombre_recovered    16637\n",
    "Name: 398, dtype: int64"
   ]
  },
  {
   "cell_type": "markdown",
   "id": "2bb9e873",
   "metadata": {},
   "source": [
    "nombre_infected       837\n",
    "nombre_sain          2127\n",
    "nombre_exposed        426\n",
    "nombre_recovered    16610\n",
    "Name: 399, dtype: int64"
   ]
  },
  {
   "cell_type": "markdown",
   "id": "7cfabc79",
   "metadata": {},
   "source": [
    "nombre_infected       840\n",
    "nombre_sain          2142\n",
    "nombre_exposed        421\n",
    "nombre_recovered    16597\n",
    "Name: 400, dtype: int64"
   ]
  },
  {
   "cell_type": "markdown",
   "id": "4c7f4544",
   "metadata": {},
   "source": [
    "nombre_infected       847\n",
    "nombre_sain          2160\n",
    "nombre_exposed        411\n",
    "nombre_recovered    16582\n",
    "Name: 401, dtype: int64"
   ]
  },
  {
   "cell_type": "markdown",
   "id": "2f7e51ac",
   "metadata": {},
   "source": [
    "nombre_infected       844\n",
    "nombre_sain          2189\n",
    "nombre_exposed        408\n",
    "nombre_recovered    16559\n",
    "Name: 402, dtype: int64"
   ]
  },
  {
   "cell_type": "markdown",
   "id": "22afeec7",
   "metadata": {},
   "source": [
    "nombre_infected       832\n",
    "nombre_sain          2204\n",
    "nombre_exposed        409\n",
    "nombre_recovered    16555\n",
    "Name: 403, dtype: int64"
   ]
  },
  {
   "cell_type": "markdown",
   "id": "957ca939",
   "metadata": {},
   "source": [
    "nombre_infected       818\n",
    "nombre_sain          2188\n",
    "nombre_exposed        423\n",
    "nombre_recovered    16571\n",
    "Name: 404, dtype: int64"
   ]
  },
  {
   "cell_type": "markdown",
   "id": "8f241d41",
   "metadata": {},
   "source": [
    "nombre_infected       798\n",
    "nombre_sain          2200\n",
    "nombre_exposed        415\n",
    "nombre_recovered    16587\n",
    "Name: 405, dtype: int64"
   ]
  },
  {
   "cell_type": "markdown",
   "id": "fec853ef",
   "metadata": {},
   "source": [
    "nombre_infected       811\n",
    "nombre_sain          2209\n",
    "nombre_exposed        416\n",
    "nombre_recovered    16564\n",
    "Name: 406, dtype: int64"
   ]
  },
  {
   "cell_type": "markdown",
   "id": "f6884a28",
   "metadata": {},
   "source": [
    "nombre_infected       799\n",
    "nombre_sain          2253\n",
    "nombre_exposed        424\n",
    "nombre_recovered    16524\n",
    "Name: 407, dtype: int64"
   ]
  },
  {
   "cell_type": "markdown",
   "id": "1be43121",
   "metadata": {},
   "source": [
    "nombre_infected       798\n",
    "nombre_sain          2250\n",
    "nombre_exposed        426\n",
    "nombre_recovered    16526\n",
    "Name: 408, dtype: int64"
   ]
  },
  {
   "cell_type": "markdown",
   "id": "14d9418b",
   "metadata": {},
   "source": [
    "nombre_infected       806\n",
    "nombre_sain          2245\n",
    "nombre_exposed        437\n",
    "nombre_recovered    16512\n",
    "Name: 409, dtype: int64"
   ]
  },
  {
   "cell_type": "markdown",
   "id": "98d58724",
   "metadata": {},
   "source": [
    "nombre_infected       811\n",
    "nombre_sain          2258\n",
    "nombre_exposed        449\n",
    "nombre_recovered    16482\n",
    "Name: 410, dtype: int64"
   ]
  },
  {
   "cell_type": "markdown",
   "id": "fbe2f205",
   "metadata": {},
   "source": [
    "nombre_infected       845\n",
    "nombre_sain          2271\n",
    "nombre_exposed        452\n",
    "nombre_recovered    16432\n",
    "Name: 411, dtype: int64"
   ]
  },
  {
   "cell_type": "markdown",
   "id": "10bf1ca5",
   "metadata": {},
   "source": [
    "nombre_infected       860\n",
    "nombre_sain          2248\n",
    "nombre_exposed        466\n",
    "nombre_recovered    16426\n",
    "Name: 412, dtype: int64"
   ]
  },
  {
   "cell_type": "markdown",
   "id": "8ff40295",
   "metadata": {},
   "source": [
    "nombre_infected       854\n",
    "nombre_sain          2244\n",
    "nombre_exposed        485\n",
    "nombre_recovered    16417\n",
    "Name: 413, dtype: int64"
   ]
  },
  {
   "cell_type": "markdown",
   "id": "13bc4ab1",
   "metadata": {},
   "source": [
    "nombre_infected       855\n",
    "nombre_sain          2238\n",
    "nombre_exposed        513\n",
    "nombre_recovered    16394\n",
    "Name: 414, dtype: int64"
   ]
  },
  {
   "cell_type": "markdown",
   "id": "f02005d4",
   "metadata": {},
   "source": [
    "nombre_infected       878\n",
    "nombre_sain          2241\n",
    "nombre_exposed        503\n",
    "nombre_recovered    16378\n",
    "Name: 415, dtype: int64"
   ]
  },
  {
   "cell_type": "markdown",
   "id": "946f3514",
   "metadata": {},
   "source": [
    "nombre_infected       885\n",
    "nombre_sain          2232\n",
    "nombre_exposed        512\n",
    "nombre_recovered    16371\n",
    "Name: 416, dtype: int64"
   ]
  },
  {
   "cell_type": "markdown",
   "id": "8b67f2ea",
   "metadata": {},
   "source": [
    "nombre_infected       926\n",
    "nombre_sain          2266\n",
    "nombre_exposed        484\n",
    "nombre_recovered    16324\n",
    "Name: 417, dtype: int64"
   ]
  },
  {
   "cell_type": "markdown",
   "id": "117c57dd",
   "metadata": {},
   "source": [
    "nombre_infected       922\n",
    "nombre_sain          2231\n",
    "nombre_exposed        520\n",
    "nombre_recovered    16327\n",
    "Name: 418, dtype: int64"
   ]
  },
  {
   "cell_type": "markdown",
   "id": "95c57f10",
   "metadata": {},
   "source": [
    "nombre_infected       930\n",
    "nombre_sain          2189\n",
    "nombre_exposed        555\n",
    "nombre_recovered    16326\n",
    "Name: 419, dtype: int64"
   ]
  },
  {
   "cell_type": "markdown",
   "id": "d6049240",
   "metadata": {},
   "source": [
    "nombre_infected       949\n",
    "nombre_sain          2200\n",
    "nombre_exposed        585\n",
    "nombre_recovered    16266\n",
    "Name: 420, dtype: int64"
   ]
  },
  {
   "cell_type": "markdown",
   "id": "9272d2ad",
   "metadata": {},
   "source": [
    "nombre_infected       970\n",
    "nombre_sain          2192\n",
    "nombre_exposed        575\n",
    "nombre_recovered    16263\n",
    "Name: 421, dtype: int64"
   ]
  },
  {
   "cell_type": "markdown",
   "id": "0b91b1ea",
   "metadata": {},
   "source": [
    "nombre_infected      1015\n",
    "nombre_sain          2189\n",
    "nombre_exposed        552\n",
    "nombre_recovered    16244\n",
    "Name: 422, dtype: int64"
   ]
  },
  {
   "cell_type": "markdown",
   "id": "3b95731f",
   "metadata": {},
   "source": [
    "nombre_infected      1044\n",
    "nombre_sain          2153\n",
    "nombre_exposed        557\n",
    "nombre_recovered    16246\n",
    "Name: 423, dtype: int64"
   ]
  },
  {
   "cell_type": "markdown",
   "id": "552d9b3c",
   "metadata": {},
   "source": [
    "nombre_infected      1043\n",
    "nombre_sain          2123\n",
    "nombre_exposed        557\n",
    "nombre_recovered    16277\n",
    "Name: 424, dtype: int64"
   ]
  },
  {
   "cell_type": "markdown",
   "id": "e6595b28",
   "metadata": {},
   "source": [
    "nombre_infected      1072\n",
    "nombre_sain          2103\n",
    "nombre_exposed        545\n",
    "nombre_recovered    16280\n",
    "Name: 425, dtype: int64"
   ]
  },
  {
   "cell_type": "markdown",
   "id": "bc034c89",
   "metadata": {},
   "source": [
    "nombre_infected      1087\n",
    "nombre_sain          2080\n",
    "nombre_exposed        535\n",
    "nombre_recovered    16298\n",
    "Name: 426, dtype: int64"
   ]
  },
  {
   "cell_type": "markdown",
   "id": "2f6c220e",
   "metadata": {},
   "source": [
    "nombre_infected      1116\n",
    "nombre_sain          2027\n",
    "nombre_exposed        545\n",
    "nombre_recovered    16312\n",
    "Name: 427, dtype: int64"
   ]
  },
  {
   "cell_type": "markdown",
   "id": "a69c7f41",
   "metadata": {},
   "source": [
    "nombre_infected      1150\n",
    "nombre_sain          2020\n",
    "nombre_exposed        516\n",
    "nombre_recovered    16314\n",
    "Name: 428, dtype: int64"
   ]
  },
  {
   "cell_type": "markdown",
   "id": "01356e3d",
   "metadata": {},
   "source": [
    "nombre_infected      1147\n",
    "nombre_sain          2006\n",
    "nombre_exposed        501\n",
    "nombre_recovered    16346\n",
    "Name: 429, dtype: int64"
   ]
  },
  {
   "cell_type": "markdown",
   "id": "09319db0",
   "metadata": {},
   "source": [
    "nombre_infected      1157\n",
    "nombre_sain          1993\n",
    "nombre_exposed        498\n",
    "nombre_recovered    16352\n",
    "Name: 430, dtype: int64"
   ]
  },
  {
   "cell_type": "markdown",
   "id": "efb655c0",
   "metadata": {},
   "source": [
    "nombre_infected      1131\n",
    "nombre_sain          1950\n",
    "nombre_exposed        536\n",
    "nombre_recovered    16383\n",
    "Name: 431, dtype: int64"
   ]
  },
  {
   "cell_type": "markdown",
   "id": "4efbe8b3",
   "metadata": {},
   "source": [
    "nombre_infected      1113\n",
    "nombre_sain          1931\n",
    "nombre_exposed        539\n",
    "nombre_recovered    16417\n",
    "Name: 432, dtype: int64"
   ]
  },
  {
   "cell_type": "markdown",
   "id": "ef7ac4d7",
   "metadata": {},
   "source": [
    "nombre_infected      1125\n",
    "nombre_sain          1917\n",
    "nombre_exposed        539\n",
    "nombre_recovered    16419\n",
    "Name: 433, dtype: int64"
   ]
  },
  {
   "cell_type": "markdown",
   "id": "317a97b0",
   "metadata": {},
   "source": [
    "nombre_infected      1123\n",
    "nombre_sain          1908\n",
    "nombre_exposed        511\n",
    "nombre_recovered    16458\n",
    "Name: 434, dtype: int64"
   ]
  },
  {
   "cell_type": "markdown",
   "id": "b095dfbe",
   "metadata": {},
   "source": [
    "nombre_infected      1105\n",
    "nombre_sain          1911\n",
    "nombre_exposed        508\n",
    "nombre_recovered    16476\n",
    "Name: 435, dtype: int64"
   ]
  },
  {
   "cell_type": "markdown",
   "id": "0896ee96",
   "metadata": {},
   "source": [
    "nombre_infected      1084\n",
    "nombre_sain          1900\n",
    "nombre_exposed        524\n",
    "nombre_recovered    16492\n",
    "Name: 436, dtype: int64"
   ]
  },
  {
   "cell_type": "markdown",
   "id": "e987c844",
   "metadata": {},
   "source": [
    "nombre_infected      1078\n",
    "nombre_sain          1880\n",
    "nombre_exposed        519\n",
    "nombre_recovered    16523\n",
    "Name: 437, dtype: int64"
   ]
  },
  {
   "cell_type": "markdown",
   "id": "b60fc324",
   "metadata": {},
   "source": [
    "nombre_infected      1099\n",
    "nombre_sain          1874\n",
    "nombre_exposed        505\n",
    "nombre_recovered    16522\n",
    "Name: 438, dtype: int64"
   ]
  },
  {
   "cell_type": "markdown",
   "id": "d17577ed",
   "metadata": {},
   "source": [
    "nombre_infected      1091\n",
    "nombre_sain          1864\n",
    "nombre_exposed        492\n",
    "nombre_recovered    16553\n",
    "Name: 439, dtype: int64"
   ]
  },
  {
   "cell_type": "markdown",
   "id": "d50014fa",
   "metadata": {},
   "source": [
    "nombre_infected      1077\n",
    "nombre_sain          1858\n",
    "nombre_exposed        474\n",
    "nombre_recovered    16591\n",
    "Name: 440, dtype: int64"
   ]
  },
  {
   "cell_type": "markdown",
   "id": "0af0be6c",
   "metadata": {},
   "source": [
    "nombre_infected      1061\n",
    "nombre_sain          1854\n",
    "nombre_exposed        452\n",
    "nombre_recovered    16633\n",
    "Name: 441, dtype: int64"
   ]
  },
  {
   "cell_type": "markdown",
   "id": "c2419212",
   "metadata": {},
   "source": [
    "nombre_infected      1057\n",
    "nombre_sain          1839\n",
    "nombre_exposed        461\n",
    "nombre_recovered    16643\n",
    "Name: 442, dtype: int64"
   ]
  },
  {
   "cell_type": "markdown",
   "id": "07d5d181",
   "metadata": {},
   "source": [
    "nombre_infected      1047\n",
    "nombre_sain          1824\n",
    "nombre_exposed        473\n",
    "nombre_recovered    16656\n",
    "Name: 443, dtype: int64"
   ]
  },
  {
   "cell_type": "markdown",
   "id": "0f8216d2",
   "metadata": {},
   "source": [
    "nombre_infected      1032\n",
    "nombre_sain          1826\n",
    "nombre_exposed        459\n",
    "nombre_recovered    16683\n",
    "Name: 444, dtype: int64"
   ]
  },
  {
   "cell_type": "markdown",
   "id": "79fabd10",
   "metadata": {},
   "source": [
    "nombre_infected      1016\n",
    "nombre_sain          1820\n",
    "nombre_exposed        445\n",
    "nombre_recovered    16719\n",
    "Name: 445, dtype: int64"
   ]
  },
  {
   "cell_type": "markdown",
   "id": "2bebbb06",
   "metadata": {},
   "source": [
    "nombre_infected      1008\n",
    "nombre_sain          1821\n",
    "nombre_exposed        455\n",
    "nombre_recovered    16716\n",
    "Name: 446, dtype: int64"
   ]
  },
  {
   "cell_type": "markdown",
   "id": "97039237",
   "metadata": {},
   "source": [
    "nombre_infected      1017\n",
    "nombre_sain          1829\n",
    "nombre_exposed        447\n",
    "nombre_recovered    16707\n",
    "Name: 447, dtype: int64"
   ]
  },
  {
   "cell_type": "markdown",
   "id": "be34aae2",
   "metadata": {},
   "source": [
    "nombre_infected      1002\n",
    "nombre_sain          1853\n",
    "nombre_exposed        452\n",
    "nombre_recovered    16693\n",
    "Name: 448, dtype: int64"
   ]
  },
  {
   "cell_type": "markdown",
   "id": "10ef6da9",
   "metadata": {},
   "source": [
    "nombre_infected      1005\n",
    "nombre_sain          1848\n",
    "nombre_exposed        452\n",
    "nombre_recovered    16695\n",
    "Name: 449, dtype: int64"
   ]
  },
  {
   "cell_type": "markdown",
   "id": "0a11370e",
   "metadata": {},
   "source": [
    "nombre_infected      1013\n",
    "nombre_sain          1849\n",
    "nombre_exposed        442\n",
    "nombre_recovered    16696\n",
    "Name: 450, dtype: int64"
   ]
  },
  {
   "cell_type": "markdown",
   "id": "c94fcb36",
   "metadata": {},
   "source": [
    "nombre_infected      1022\n",
    "nombre_sain          1819\n",
    "nombre_exposed        464\n",
    "nombre_recovered    16695\n",
    "Name: 451, dtype: int64"
   ]
  },
  {
   "cell_type": "markdown",
   "id": "bd82ebf8",
   "metadata": {},
   "source": [
    "nombre_infected      1017\n",
    "nombre_sain          1823\n",
    "nombre_exposed        479\n",
    "nombre_recovered    16681\n",
    "Name: 452, dtype: int64"
   ]
  },
  {
   "cell_type": "markdown",
   "id": "34831a7c",
   "metadata": {},
   "source": [
    "nombre_infected      1012\n",
    "nombre_sain          1808\n",
    "nombre_exposed        504\n",
    "nombre_recovered    16676\n",
    "Name: 453, dtype: int64"
   ]
  },
  {
   "cell_type": "markdown",
   "id": "c5c0e4e3",
   "metadata": {},
   "source": [
    "nombre_infected      1007\n",
    "nombre_sain          1829\n",
    "nombre_exposed        489\n",
    "nombre_recovered    16675\n",
    "Name: 454, dtype: int64"
   ]
  },
  {
   "cell_type": "markdown",
   "id": "75e0c4c6",
   "metadata": {},
   "source": [
    "nombre_infected      1013\n",
    "nombre_sain          1824\n",
    "nombre_exposed        493\n",
    "nombre_recovered    16670\n",
    "Name: 455, dtype: int64"
   ]
  },
  {
   "cell_type": "markdown",
   "id": "9dea4437",
   "metadata": {},
   "source": [
    "nombre_infected      1021\n",
    "nombre_sain          1871\n",
    "nombre_exposed        473\n",
    "nombre_recovered    16635\n",
    "Name: 456, dtype: int64"
   ]
  },
  {
   "cell_type": "markdown",
   "id": "43b236c2",
   "metadata": {},
   "source": [
    "nombre_infected      1021\n",
    "nombre_sain          1872\n",
    "nombre_exposed        488\n",
    "nombre_recovered    16619\n",
    "Name: 457, dtype: int64"
   ]
  },
  {
   "cell_type": "markdown",
   "id": "8677a4ac",
   "metadata": {},
   "source": [
    "nombre_infected      1033\n",
    "nombre_sain          1917\n",
    "nombre_exposed        461\n",
    "nombre_recovered    16589\n",
    "Name: 458, dtype: int64"
   ]
  },
  {
   "cell_type": "markdown",
   "id": "386e4330",
   "metadata": {},
   "source": [
    "nombre_infected      1016\n",
    "nombre_sain          1889\n",
    "nombre_exposed        480\n",
    "nombre_recovered    16615\n",
    "Name: 459, dtype: int64"
   ]
  },
  {
   "cell_type": "markdown",
   "id": "58663523",
   "metadata": {},
   "source": [
    "nombre_infected      1014\n",
    "nombre_sain          1898\n",
    "nombre_exposed        475\n",
    "nombre_recovered    16613\n",
    "Name: 460, dtype: int64"
   ]
  },
  {
   "cell_type": "markdown",
   "id": "b078195f",
   "metadata": {},
   "source": [
    "nombre_infected       981\n",
    "nombre_sain          1882\n",
    "nombre_exposed        483\n",
    "nombre_recovered    16654\n",
    "Name: 461, dtype: int64"
   ]
  },
  {
   "cell_type": "markdown",
   "id": "5b49fdd3",
   "metadata": {},
   "source": [
    "nombre_infected       965\n",
    "nombre_sain          1881\n",
    "nombre_exposed        490\n",
    "nombre_recovered    16664\n",
    "Name: 462, dtype: int64"
   ]
  },
  {
   "cell_type": "markdown",
   "id": "b4be115d",
   "metadata": {},
   "source": [
    "nombre_infected       966\n",
    "nombre_sain          1909\n",
    "nombre_exposed        455\n",
    "nombre_recovered    16670\n",
    "Name: 463, dtype: int64"
   ]
  },
  {
   "cell_type": "markdown",
   "id": "9e14b8e4",
   "metadata": {},
   "source": [
    "nombre_infected       976\n",
    "nombre_sain          1905\n",
    "nombre_exposed        459\n",
    "nombre_recovered    16660\n",
    "Name: 464, dtype: int64"
   ]
  },
  {
   "cell_type": "markdown",
   "id": "142ccc5f",
   "metadata": {},
   "source": [
    "nombre_infected       959\n",
    "nombre_sain          1921\n",
    "nombre_exposed        452\n",
    "nombre_recovered    16668\n",
    "Name: 465, dtype: int64"
   ]
  },
  {
   "cell_type": "markdown",
   "id": "b62a6dbb",
   "metadata": {},
   "source": [
    "nombre_infected       950\n",
    "nombre_sain          1953\n",
    "nombre_exposed        441\n",
    "nombre_recovered    16656\n",
    "Name: 466, dtype: int64"
   ]
  },
  {
   "cell_type": "markdown",
   "id": "35ac27b7",
   "metadata": {},
   "source": [
    "nombre_infected       936\n",
    "nombre_sain          1966\n",
    "nombre_exposed        451\n",
    "nombre_recovered    16647\n",
    "Name: 467, dtype: int64"
   ]
  },
  {
   "cell_type": "markdown",
   "id": "8dca409c",
   "metadata": {},
   "source": [
    "nombre_infected       894\n",
    "nombre_sain          1992\n",
    "nombre_exposed        470\n",
    "nombre_recovered    16644\n",
    "Name: 468, dtype: int64"
   ]
  },
  {
   "cell_type": "markdown",
   "id": "523ddc1d",
   "metadata": {},
   "source": [
    "nombre_infected       891\n",
    "nombre_sain          2007\n",
    "nombre_exposed        467\n",
    "nombre_recovered    16635\n",
    "Name: 469, dtype: int64"
   ]
  },
  {
   "cell_type": "markdown",
   "id": "a6e602f5",
   "metadata": {},
   "source": [
    "nombre_infected       899\n",
    "nombre_sain          2015\n",
    "nombre_exposed        471\n",
    "nombre_recovered    16615\n",
    "Name: 470, dtype: int64"
   ]
  },
  {
   "cell_type": "markdown",
   "id": "f6ecc856",
   "metadata": {},
   "source": [
    "nombre_infected       892\n",
    "nombre_sain          2037\n",
    "nombre_exposed        459\n",
    "nombre_recovered    16612\n",
    "Name: 471, dtype: int64"
   ]
  },
  {
   "cell_type": "markdown",
   "id": "9af5b6b3",
   "metadata": {},
   "source": [
    "nombre_infected       894\n",
    "nombre_sain          2040\n",
    "nombre_exposed        470\n",
    "nombre_recovered    16596\n",
    "Name: 472, dtype: int64"
   ]
  },
  {
   "cell_type": "markdown",
   "id": "482c3a35",
   "metadata": {},
   "source": [
    "nombre_infected       880\n",
    "nombre_sain          2048\n",
    "nombre_exposed        470\n",
    "nombre_recovered    16602\n",
    "Name: 473, dtype: int64"
   ]
  },
  {
   "cell_type": "markdown",
   "id": "9a2719fd",
   "metadata": {},
   "source": [
    "nombre_infected       885\n",
    "nombre_sain          2055\n",
    "nombre_exposed        463\n",
    "nombre_recovered    16597\n",
    "Name: 474, dtype: int64"
   ]
  },
  {
   "cell_type": "markdown",
   "id": "f6f4caec",
   "metadata": {},
   "source": [
    "nombre_infected       897\n",
    "nombre_sain          2058\n",
    "nombre_exposed        472\n",
    "nombre_recovered    16573\n",
    "Name: 475, dtype: int64"
   ]
  },
  {
   "cell_type": "markdown",
   "id": "489d5632",
   "metadata": {},
   "source": [
    "nombre_infected       898\n",
    "nombre_sain          2096\n",
    "nombre_exposed        466\n",
    "nombre_recovered    16540\n",
    "Name: 476, dtype: int64"
   ]
  },
  {
   "cell_type": "markdown",
   "id": "30e1374e",
   "metadata": {},
   "source": [
    "nombre_infected       904\n",
    "nombre_sain          2095\n",
    "nombre_exposed        462\n",
    "nombre_recovered    16539\n",
    "Name: 477, dtype: int64"
   ]
  },
  {
   "cell_type": "markdown",
   "id": "44144796",
   "metadata": {},
   "source": [
    "nombre_infected       888\n",
    "nombre_sain          2097\n",
    "nombre_exposed        452\n",
    "nombre_recovered    16563\n",
    "Name: 478, dtype: int64"
   ]
  },
  {
   "cell_type": "markdown",
   "id": "84b73664",
   "metadata": {},
   "source": [
    "nombre_infected       891\n",
    "nombre_sain          2117\n",
    "nombre_exposed        439\n",
    "nombre_recovered    16553\n",
    "Name: 479, dtype: int64"
   ]
  },
  {
   "cell_type": "markdown",
   "id": "21f0edb2",
   "metadata": {},
   "source": [
    "nombre_infected       898\n",
    "nombre_sain          2131\n",
    "nombre_exposed        428\n",
    "nombre_recovered    16543\n",
    "Name: 480, dtype: int64"
   ]
  },
  {
   "cell_type": "markdown",
   "id": "6054bcc6",
   "metadata": {},
   "source": [
    "nombre_infected       886\n",
    "nombre_sain          2138\n",
    "nombre_exposed        439\n",
    "nombre_recovered    16537\n",
    "Name: 481, dtype: int64"
   ]
  },
  {
   "cell_type": "markdown",
   "id": "dae034d5",
   "metadata": {},
   "source": [
    "nombre_infected       872\n",
    "nombre_sain          2168\n",
    "nombre_exposed        438\n",
    "nombre_recovered    16522\n",
    "Name: 482, dtype: int64"
   ]
  },
  {
   "cell_type": "markdown",
   "id": "11d390cd",
   "metadata": {},
   "source": [
    "nombre_infected       855\n",
    "nombre_sain          2162\n",
    "nombre_exposed        450\n",
    "nombre_recovered    16533\n",
    "Name: 483, dtype: int64"
   ]
  },
  {
   "cell_type": "markdown",
   "id": "8e3da23f",
   "metadata": {},
   "source": [
    "nombre_infected       853\n",
    "nombre_sain          2185\n",
    "nombre_exposed        446\n",
    "nombre_recovered    16516\n",
    "Name: 484, dtype: int64"
   ]
  },
  {
   "cell_type": "markdown",
   "id": "4a3a15c1",
   "metadata": {},
   "source": [
    "nombre_infected       838\n",
    "nombre_sain          2175\n",
    "nombre_exposed        452\n",
    "nombre_recovered    16535\n",
    "Name: 485, dtype: int64"
   ]
  },
  {
   "cell_type": "markdown",
   "id": "39ff6968",
   "metadata": {},
   "source": [
    "nombre_infected       836\n",
    "nombre_sain          2186\n",
    "nombre_exposed        455\n",
    "nombre_recovered    16523\n",
    "Name: 486, dtype: int64"
   ]
  },
  {
   "cell_type": "markdown",
   "id": "fcf67739",
   "metadata": {},
   "source": [
    "nombre_infected       857\n",
    "nombre_sain          2200\n",
    "nombre_exposed        441\n",
    "nombre_recovered    16502\n",
    "Name: 487, dtype: int64"
   ]
  },
  {
   "cell_type": "markdown",
   "id": "23f9ebd0",
   "metadata": {},
   "source": [
    "nombre_infected       868\n",
    "nombre_sain          2240\n",
    "nombre_exposed        439\n",
    "nombre_recovered    16453\n",
    "Name: 488, dtype: int64"
   ]
  },
  {
   "cell_type": "markdown",
   "id": "fb5fff27",
   "metadata": {},
   "source": [
    "nombre_infected       859\n",
    "nombre_sain          2256\n",
    "nombre_exposed        452\n",
    "nombre_recovered    16433\n",
    "Name: 489, dtype: int64"
   ]
  },
  {
   "cell_type": "markdown",
   "id": "9e70676b",
   "metadata": {},
   "source": [
    "nombre_infected       856\n",
    "nombre_sain          2272\n",
    "nombre_exposed        443\n",
    "nombre_recovered    16429\n",
    "Name: 490, dtype: int64"
   ]
  },
  {
   "cell_type": "markdown",
   "id": "e60d9370",
   "metadata": {},
   "source": [
    "nombre_infected       862\n",
    "nombre_sain          2266\n",
    "nombre_exposed        462\n",
    "nombre_recovered    16410\n",
    "Name: 491, dtype: int64"
   ]
  },
  {
   "cell_type": "markdown",
   "id": "c3a6f5e7",
   "metadata": {},
   "source": [
    "nombre_infected       875\n",
    "nombre_sain          2266\n",
    "nombre_exposed        474\n",
    "nombre_recovered    16385\n",
    "Name: 492, dtype: int64"
   ]
  },
  {
   "cell_type": "markdown",
   "id": "d3419c31",
   "metadata": {},
   "source": [
    "nombre_infected       873\n",
    "nombre_sain          2288\n",
    "nombre_exposed        494\n",
    "nombre_recovered    16345\n",
    "Name: 493, dtype: int64"
   ]
  },
  {
   "cell_type": "markdown",
   "id": "5ff9a8f5",
   "metadata": {},
   "source": [
    "nombre_infected       887\n",
    "nombre_sain          2288\n",
    "nombre_exposed        491\n",
    "nombre_recovered    16334\n",
    "Name: 494, dtype: int64"
   ]
  },
  {
   "cell_type": "markdown",
   "id": "0c824f3c",
   "metadata": {},
   "source": [
    "nombre_infected       909\n",
    "nombre_sain          2280\n",
    "nombre_exposed        497\n",
    "nombre_recovered    16314\n",
    "Name: 495, dtype: int64"
   ]
  },
  {
   "cell_type": "markdown",
   "id": "a8504d2b",
   "metadata": {},
   "source": [
    "nombre_infected       917\n",
    "nombre_sain          2269\n",
    "nombre_exposed        479\n",
    "nombre_recovered    16335\n",
    "Name: 496, dtype: int64"
   ]
  },
  {
   "cell_type": "markdown",
   "id": "9541f640",
   "metadata": {},
   "source": [
    "nombre_infected       921\n",
    "nombre_sain          2258\n",
    "nombre_exposed        483\n",
    "nombre_recovered    16338\n",
    "Name: 497, dtype: int64"
   ]
  },
  {
   "cell_type": "markdown",
   "id": "38d3e6e8",
   "metadata": {},
   "source": [
    "nombre_infected       916\n",
    "nombre_sain          2246\n",
    "nombre_exposed        480\n",
    "nombre_recovered    16358\n",
    "Name: 498, dtype: int64"
   ]
  },
  {
   "cell_type": "markdown",
   "id": "39337944",
   "metadata": {},
   "source": [
    "nombre_infected       939\n",
    "nombre_sain          2226\n",
    "nombre_exposed        496\n",
    "nombre_recovered    16339\n",
    "Name: 499, dtype: int64"
   ]
  },
  {
   "cell_type": "markdown",
   "id": "be959201",
   "metadata": {},
   "source": [
    "nombre_infected       946\n",
    "nombre_sain          2194\n",
    "nombre_exposed        501\n",
    "nombre_recovered    16359\n",
    "Name: 500, dtype: int64"
   ]
  },
  {
   "cell_type": "markdown",
   "id": "c4f7baa2",
   "metadata": {},
   "source": [
    "nombre_infected       948\n",
    "nombre_sain          2169\n",
    "nombre_exposed        494\n",
    "nombre_recovered    16389\n",
    "Name: 501, dtype: int64"
   ]
  },
  {
   "cell_type": "markdown",
   "id": "af68ebb6",
   "metadata": {},
   "source": [
    "nombre_infected       955\n",
    "nombre_sain          2148\n",
    "nombre_exposed        494\n",
    "nombre_recovered    16403\n",
    "Name: 502, dtype: int64"
   ]
  },
  {
   "cell_type": "markdown",
   "id": "c97b0ca0",
   "metadata": {},
   "source": [
    "nombre_infected       931\n",
    "nombre_sain          2147\n",
    "nombre_exposed        489\n",
    "nombre_recovered    16433\n",
    "Name: 503, dtype: int64"
   ]
  },
  {
   "cell_type": "markdown",
   "id": "df9b32f6",
   "metadata": {},
   "source": [
    "nombre_infected       935\n",
    "nombre_sain          2127\n",
    "nombre_exposed        487\n",
    "nombre_recovered    16451\n",
    "Name: 504, dtype: int64"
   ]
  },
  {
   "cell_type": "markdown",
   "id": "5ad9556d",
   "metadata": {},
   "source": [
    "nombre_infected       972\n",
    "nombre_sain          2128\n",
    "nombre_exposed        460\n",
    "nombre_recovered    16440\n",
    "Name: 505, dtype: int64"
   ]
  },
  {
   "cell_type": "markdown",
   "id": "9c3ea066",
   "metadata": {},
   "source": [
    "nombre_infected       974\n",
    "nombre_sain          2093\n",
    "nombre_exposed        496\n",
    "nombre_recovered    16437\n",
    "Name: 506, dtype: int64"
   ]
  },
  {
   "cell_type": "markdown",
   "id": "55b4c80a",
   "metadata": {},
   "source": [
    "nombre_infected       953\n",
    "nombre_sain          2063\n",
    "nombre_exposed        509\n",
    "nombre_recovered    16475\n",
    "Name: 507, dtype: int64"
   ]
  },
  {
   "cell_type": "markdown",
   "id": "88a4a8cc",
   "metadata": {},
   "source": [
    "nombre_infected       959\n",
    "nombre_sain          2059\n",
    "nombre_exposed        487\n",
    "nombre_recovered    16495\n",
    "Name: 508, dtype: int64"
   ]
  },
  {
   "cell_type": "markdown",
   "id": "0f13ac53",
   "metadata": {},
   "source": [
    "nombre_infected       977\n",
    "nombre_sain          2064\n",
    "nombre_exposed        488\n",
    "nombre_recovered    16471\n",
    "Name: 509, dtype: int64"
   ]
  },
  {
   "cell_type": "markdown",
   "id": "85d770ec",
   "metadata": {},
   "source": [
    "nombre_infected      1012\n",
    "nombre_sain          2067\n",
    "nombre_exposed        462\n",
    "nombre_recovered    16459\n",
    "Name: 510, dtype: int64"
   ]
  },
  {
   "cell_type": "markdown",
   "id": "8ae349e1",
   "metadata": {},
   "source": [
    "nombre_infected      1019\n",
    "nombre_sain          2064\n",
    "nombre_exposed        467\n",
    "nombre_recovered    16450\n",
    "Name: 511, dtype: int64"
   ]
  },
  {
   "cell_type": "markdown",
   "id": "37506888",
   "metadata": {},
   "source": [
    "nombre_infected       996\n",
    "nombre_sain          2067\n",
    "nombre_exposed        478\n",
    "nombre_recovered    16459\n",
    "Name: 512, dtype: int64"
   ]
  },
  {
   "cell_type": "markdown",
   "id": "bb40a2b7",
   "metadata": {},
   "source": [
    "nombre_infected      1001\n",
    "nombre_sain          2081\n",
    "nombre_exposed        474\n",
    "nombre_recovered    16444\n",
    "Name: 513, dtype: int64"
   ]
  },
  {
   "cell_type": "markdown",
   "id": "5d37740b",
   "metadata": {},
   "source": [
    "nombre_infected       982\n",
    "nombre_sain          2087\n",
    "nombre_exposed        479\n",
    "nombre_recovered    16452\n",
    "Name: 514, dtype: int64"
   ]
  },
  {
   "cell_type": "markdown",
   "id": "ba96f76f",
   "metadata": {},
   "source": [
    "nombre_infected       992\n",
    "nombre_sain          2088\n",
    "nombre_exposed        496\n",
    "nombre_recovered    16424\n",
    "Name: 515, dtype: int64"
   ]
  },
  {
   "cell_type": "markdown",
   "id": "9dba2cdf",
   "metadata": {},
   "source": [
    "nombre_infected      1001\n",
    "nombre_sain          2090\n",
    "nombre_exposed        497\n",
    "nombre_recovered    16412\n",
    "Name: 516, dtype: int64"
   ]
  },
  {
   "cell_type": "markdown",
   "id": "cfd8d208",
   "metadata": {},
   "source": [
    "nombre_infected      1018\n",
    "nombre_sain          2105\n",
    "nombre_exposed        484\n",
    "nombre_recovered    16393\n",
    "Name: 517, dtype: int64"
   ]
  },
  {
   "cell_type": "markdown",
   "id": "fe2e2a5a",
   "metadata": {},
   "source": [
    "nombre_infected      1019\n",
    "nombre_sain          2101\n",
    "nombre_exposed        468\n",
    "nombre_recovered    16412\n",
    "Name: 518, dtype: int64"
   ]
  },
  {
   "cell_type": "markdown",
   "id": "58a01fd3",
   "metadata": {},
   "source": [
    "nombre_infected      1020\n",
    "nombre_sain          2092\n",
    "nombre_exposed        480\n",
    "nombre_recovered    16408\n",
    "Name: 519, dtype: int64"
   ]
  },
  {
   "cell_type": "markdown",
   "id": "4ee8c4c6",
   "metadata": {},
   "source": [
    "nombre_infected      1021\n",
    "nombre_sain          2110\n",
    "nombre_exposed        489\n",
    "nombre_recovered    16380\n",
    "Name: 520, dtype: int64"
   ]
  },
  {
   "cell_type": "markdown",
   "id": "478ed6d2",
   "metadata": {},
   "source": [
    "nombre_infected      1013\n",
    "nombre_sain          2111\n",
    "nombre_exposed        498\n",
    "nombre_recovered    16378\n",
    "Name: 521, dtype: int64"
   ]
  },
  {
   "cell_type": "markdown",
   "id": "bc075ace",
   "metadata": {},
   "source": [
    "nombre_infected      1003\n",
    "nombre_sain          2104\n",
    "nombre_exposed        516\n",
    "nombre_recovered    16377\n",
    "Name: 522, dtype: int64"
   ]
  },
  {
   "cell_type": "markdown",
   "id": "de2a3570",
   "metadata": {},
   "source": [
    "nombre_infected       996\n",
    "nombre_sain          2093\n",
    "nombre_exposed        515\n",
    "nombre_recovered    16396\n",
    "Name: 523, dtype: int64"
   ]
  },
  {
   "cell_type": "markdown",
   "id": "e6d84756",
   "metadata": {},
   "source": [
    "nombre_infected      1006\n",
    "nombre_sain          2062\n",
    "nombre_exposed        528\n",
    "nombre_recovered    16404\n",
    "Name: 524, dtype: int64"
   ]
  },
  {
   "cell_type": "markdown",
   "id": "a5320e30",
   "metadata": {},
   "source": [
    "nombre_infected       985\n",
    "nombre_sain          2054\n",
    "nombre_exposed        527\n",
    "nombre_recovered    16434\n",
    "Name: 525, dtype: int64"
   ]
  },
  {
   "cell_type": "markdown",
   "id": "a1608cde",
   "metadata": {},
   "source": [
    "nombre_infected       972\n",
    "nombre_sain          2047\n",
    "nombre_exposed        542\n",
    "nombre_recovered    16439\n",
    "Name: 526, dtype: int64"
   ]
  },
  {
   "cell_type": "markdown",
   "id": "248982ca",
   "metadata": {},
   "source": [
    "nombre_infected       982\n",
    "nombre_sain          2043\n",
    "nombre_exposed        530\n",
    "nombre_recovered    16445\n",
    "Name: 527, dtype: int64"
   ]
  },
  {
   "cell_type": "markdown",
   "id": "5993f1a2",
   "metadata": {},
   "source": [
    "nombre_infected       972\n",
    "nombre_sain          2064\n",
    "nombre_exposed        517\n",
    "nombre_recovered    16447\n",
    "Name: 528, dtype: int64"
   ]
  },
  {
   "cell_type": "markdown",
   "id": "f7b5b439",
   "metadata": {},
   "source": [
    "nombre_infected       984\n",
    "nombre_sain          2051\n",
    "nombre_exposed        507\n",
    "nombre_recovered    16458\n",
    "Name: 529, dtype: int64"
   ]
  },
  {
   "cell_type": "markdown",
   "id": "dc476c21",
   "metadata": {},
   "source": [
    "nombre_infected       989\n",
    "nombre_sain          2037\n",
    "nombre_exposed        525\n",
    "nombre_recovered    16449\n",
    "Name: 530, dtype: int64"
   ]
  },
  {
   "cell_type": "markdown",
   "id": "ef767405",
   "metadata": {},
   "source": [
    "nombre_infected       984\n",
    "nombre_sain          2024\n",
    "nombre_exposed        523\n",
    "nombre_recovered    16469\n",
    "Name: 531, dtype: int64"
   ]
  },
  {
   "cell_type": "markdown",
   "id": "f2ed6867",
   "metadata": {},
   "source": [
    "nombre_infected       990\n",
    "nombre_sain          2035\n",
    "nombre_exposed        494\n",
    "nombre_recovered    16481\n",
    "Name: 532, dtype: int64"
   ]
  },
  {
   "cell_type": "markdown",
   "id": "e51fe276",
   "metadata": {},
   "source": [
    "nombre_infected       986\n",
    "nombre_sain          2040\n",
    "nombre_exposed        471\n",
    "nombre_recovered    16503\n",
    "Name: 533, dtype: int64"
   ]
  },
  {
   "cell_type": "markdown",
   "id": "0b27627d",
   "metadata": {},
   "source": [
    "nombre_infected       993\n",
    "nombre_sain          2037\n",
    "nombre_exposed        481\n",
    "nombre_recovered    16489\n",
    "Name: 534, dtype: int64"
   ]
  },
  {
   "cell_type": "markdown",
   "id": "ea86c229",
   "metadata": {},
   "source": [
    "nombre_infected      1003\n",
    "nombre_sain          2038\n",
    "nombre_exposed        477\n",
    "nombre_recovered    16482\n",
    "Name: 535, dtype: int64"
   ]
  },
  {
   "cell_type": "markdown",
   "id": "2786fc06",
   "metadata": {},
   "source": [
    "nombre_infected       998\n",
    "nombre_sain          2045\n",
    "nombre_exposed        489\n",
    "nombre_recovered    16468\n",
    "Name: 536, dtype: int64"
   ]
  },
  {
   "cell_type": "markdown",
   "id": "cd29efed",
   "metadata": {},
   "source": [
    "nombre_infected      1003\n",
    "nombre_sain          2031\n",
    "nombre_exposed        482\n",
    "nombre_recovered    16484\n",
    "Name: 537, dtype: int64"
   ]
  },
  {
   "cell_type": "markdown",
   "id": "73d1c468",
   "metadata": {},
   "source": [
    "nombre_infected       996\n",
    "nombre_sain          2026\n",
    "nombre_exposed        483\n",
    "nombre_recovered    16495\n",
    "Name: 538, dtype: int64"
   ]
  },
  {
   "cell_type": "markdown",
   "id": "f072a42f",
   "metadata": {},
   "source": [
    "nombre_infected       990\n",
    "nombre_sain          2018\n",
    "nombre_exposed        485\n",
    "nombre_recovered    16507\n",
    "Name: 539, dtype: int64"
   ]
  },
  {
   "cell_type": "markdown",
   "id": "645de389",
   "metadata": {},
   "source": [
    "nombre_infected       954\n",
    "nombre_sain          2044\n",
    "nombre_exposed        467\n",
    "nombre_recovered    16535\n",
    "Name: 540, dtype: int64"
   ]
  },
  {
   "cell_type": "markdown",
   "id": "9930e684",
   "metadata": {},
   "source": [
    "nombre_infected       967\n",
    "nombre_sain          2029\n",
    "nombre_exposed        459\n",
    "nombre_recovered    16545\n",
    "Name: 541, dtype: int64"
   ]
  },
  {
   "cell_type": "markdown",
   "id": "4a6ca330",
   "metadata": {},
   "source": [
    "nombre_infected       962\n",
    "nombre_sain          2040\n",
    "nombre_exposed        462\n",
    "nombre_recovered    16536\n",
    "Name: 542, dtype: int64"
   ]
  },
  {
   "cell_type": "markdown",
   "id": "9a980adb",
   "metadata": {},
   "source": [
    "nombre_infected       984\n",
    "nombre_sain          2056\n",
    "nombre_exposed        446\n",
    "nombre_recovered    16514\n",
    "Name: 543, dtype: int64"
   ]
  },
  {
   "cell_type": "markdown",
   "id": "6615bd6e",
   "metadata": {},
   "source": [
    "nombre_infected       984\n",
    "nombre_sain          2063\n",
    "nombre_exposed        440\n",
    "nombre_recovered    16513\n",
    "Name: 544, dtype: int64"
   ]
  },
  {
   "cell_type": "markdown",
   "id": "ff419ca0",
   "metadata": {},
   "source": [
    "nombre_infected       987\n",
    "nombre_sain          2057\n",
    "nombre_exposed        456\n",
    "nombre_recovered    16500\n",
    "Name: 545, dtype: int64"
   ]
  },
  {
   "cell_type": "markdown",
   "id": "e5c49d86",
   "metadata": {},
   "source": [
    "nombre_infected       966\n",
    "nombre_sain          2079\n",
    "nombre_exposed        470\n",
    "nombre_recovered    16485\n",
    "Name: 546, dtype: int64"
   ]
  },
  {
   "cell_type": "markdown",
   "id": "c56a079b",
   "metadata": {},
   "source": [
    "nombre_infected       972\n",
    "nombre_sain          2082\n",
    "nombre_exposed        482\n",
    "nombre_recovered    16464\n",
    "Name: 547, dtype: int64"
   ]
  },
  {
   "cell_type": "markdown",
   "id": "fc811f68",
   "metadata": {},
   "source": [
    "nombre_infected       955\n",
    "nombre_sain          2085\n",
    "nombre_exposed        502\n",
    "nombre_recovered    16458\n",
    "Name: 548, dtype: int64"
   ]
  },
  {
   "cell_type": "markdown",
   "id": "7a56f4ae",
   "metadata": {},
   "source": [
    "nombre_infected       990\n",
    "nombre_sain          2103\n",
    "nombre_exposed        478\n",
    "nombre_recovered    16429\n",
    "Name: 549, dtype: int64"
   ]
  },
  {
   "cell_type": "markdown",
   "id": "29354361",
   "metadata": {},
   "source": [
    "nombre_infected      1006\n",
    "nombre_sain          2107\n",
    "nombre_exposed        478\n",
    "nombre_recovered    16409\n",
    "Name: 550, dtype: int64"
   ]
  },
  {
   "cell_type": "markdown",
   "id": "b5f31761",
   "metadata": {},
   "source": [
    "nombre_infected      1003\n",
    "nombre_sain          2108\n",
    "nombre_exposed        489\n",
    "nombre_recovered    16400\n",
    "Name: 551, dtype: int64"
   ]
  },
  {
   "cell_type": "markdown",
   "id": "4dbb7602",
   "metadata": {},
   "source": [
    "nombre_infected       973\n",
    "nombre_sain          2131\n",
    "nombre_exposed        497\n",
    "nombre_recovered    16399\n",
    "Name: 552, dtype: int64"
   ]
  },
  {
   "cell_type": "markdown",
   "id": "52e8d5d2",
   "metadata": {},
   "source": [
    "nombre_infected       966\n",
    "nombre_sain          2161\n",
    "nombre_exposed        502\n",
    "nombre_recovered    16371\n",
    "Name: 553, dtype: int64"
   ]
  },
  {
   "cell_type": "markdown",
   "id": "5de488ed",
   "metadata": {},
   "source": [
    "nombre_infected       990\n",
    "nombre_sain          2192\n",
    "nombre_exposed        480\n",
    "nombre_recovered    16338\n",
    "Name: 554, dtype: int64"
   ]
  },
  {
   "cell_type": "markdown",
   "id": "049b9069",
   "metadata": {},
   "source": [
    "nombre_infected       977\n",
    "nombre_sain          2183\n",
    "nombre_exposed        510\n",
    "nombre_recovered    16330\n",
    "Name: 555, dtype: int64"
   ]
  },
  {
   "cell_type": "markdown",
   "id": "8fd748cd",
   "metadata": {},
   "source": [
    "nombre_infected       977\n",
    "nombre_sain          2172\n",
    "nombre_exposed        519\n",
    "nombre_recovered    16332\n",
    "Name: 556, dtype: int64"
   ]
  },
  {
   "cell_type": "markdown",
   "id": "41216ec0",
   "metadata": {},
   "source": [
    "nombre_infected       977\n",
    "nombre_sain          2168\n",
    "nombre_exposed        537\n",
    "nombre_recovered    16318\n",
    "Name: 557, dtype: int64"
   ]
  },
  {
   "cell_type": "markdown",
   "id": "4cc67e8f",
   "metadata": {},
   "source": [
    "nombre_infected       977\n",
    "nombre_sain          2171\n",
    "nombre_exposed        523\n",
    "nombre_recovered    16329\n",
    "Name: 558, dtype: int64"
   ]
  },
  {
   "cell_type": "markdown",
   "id": "026a0701",
   "metadata": {},
   "source": [
    "nombre_infected       989\n",
    "nombre_sain          2181\n",
    "nombre_exposed        527\n",
    "nombre_recovered    16303\n",
    "Name: 559, dtype: int64"
   ]
  },
  {
   "cell_type": "markdown",
   "id": "4f24997f",
   "metadata": {},
   "source": [
    "nombre_infected      1005\n",
    "nombre_sain          2195\n",
    "nombre_exposed        503\n",
    "nombre_recovered    16297\n",
    "Name: 560, dtype: int64"
   ]
  },
  {
   "cell_type": "markdown",
   "id": "775e99fd",
   "metadata": {},
   "source": [
    "nombre_infected      1020\n",
    "nombre_sain          2171\n",
    "nombre_exposed        507\n",
    "nombre_recovered    16302\n",
    "Name: 561, dtype: int64"
   ]
  },
  {
   "cell_type": "markdown",
   "id": "267c4f93",
   "metadata": {},
   "source": [
    "nombre_infected      1035\n",
    "nombre_sain          2176\n",
    "nombre_exposed        514\n",
    "nombre_recovered    16275\n",
    "Name: 562, dtype: int64"
   ]
  },
  {
   "cell_type": "markdown",
   "id": "dfbe1211",
   "metadata": {},
   "source": [
    "nombre_infected      1058\n",
    "nombre_sain          2166\n",
    "nombre_exposed        526\n",
    "nombre_recovered    16250\n",
    "Name: 563, dtype: int64"
   ]
  },
  {
   "cell_type": "markdown",
   "id": "167b23c8",
   "metadata": {},
   "source": [
    "nombre_infected      1044\n",
    "nombre_sain          2152\n",
    "nombre_exposed        518\n",
    "nombre_recovered    16286\n",
    "Name: 564, dtype: int64"
   ]
  },
  {
   "cell_type": "markdown",
   "id": "fa7449e8",
   "metadata": {},
   "source": [
    "nombre_infected      1051\n",
    "nombre_sain          2155\n",
    "nombre_exposed        506\n",
    "nombre_recovered    16288\n",
    "Name: 565, dtype: int64"
   ]
  },
  {
   "cell_type": "markdown",
   "id": "9711d0b9",
   "metadata": {},
   "source": [
    "nombre_infected      1043\n",
    "nombre_sain          2170\n",
    "nombre_exposed        516\n",
    "nombre_recovered    16271\n",
    "Name: 566, dtype: int64"
   ]
  },
  {
   "cell_type": "markdown",
   "id": "2f3dd6fc",
   "metadata": {},
   "source": [
    "nombre_infected      1046\n",
    "nombre_sain          2177\n",
    "nombre_exposed        521\n",
    "nombre_recovered    16256\n",
    "Name: 567, dtype: int64"
   ]
  },
  {
   "cell_type": "markdown",
   "id": "8798fdbc",
   "metadata": {},
   "source": [
    "nombre_infected      1037\n",
    "nombre_sain          2173\n",
    "nombre_exposed        526\n",
    "nombre_recovered    16264\n",
    "Name: 568, dtype: int64"
   ]
  },
  {
   "cell_type": "markdown",
   "id": "083a854f",
   "metadata": {},
   "source": [
    "nombre_infected      1044\n",
    "nombre_sain          2147\n",
    "nombre_exposed        552\n",
    "nombre_recovered    16257\n",
    "Name: 569, dtype: int64"
   ]
  },
  {
   "cell_type": "markdown",
   "id": "d0c7f6ef",
   "metadata": {},
   "source": [
    "nombre_infected      1040\n",
    "nombre_sain          2143\n",
    "nombre_exposed        583\n",
    "nombre_recovered    16234\n",
    "Name: 570, dtype: int64"
   ]
  },
  {
   "cell_type": "markdown",
   "id": "a5380c3d",
   "metadata": {},
   "source": [
    "nombre_infected      1045\n",
    "nombre_sain          2146\n",
    "nombre_exposed        574\n",
    "nombre_recovered    16235\n",
    "Name: 571, dtype: int64"
   ]
  },
  {
   "cell_type": "markdown",
   "id": "30e79e36",
   "metadata": {},
   "source": [
    "nombre_infected      1052\n",
    "nombre_sain          2124\n",
    "nombre_exposed        570\n",
    "nombre_recovered    16254\n",
    "Name: 572, dtype: int64"
   ]
  },
  {
   "cell_type": "markdown",
   "id": "0f20ad8e",
   "metadata": {},
   "source": [
    "nombre_infected      1058\n",
    "nombre_sain          2125\n",
    "nombre_exposed        569\n",
    "nombre_recovered    16248\n",
    "Name: 573, dtype: int64"
   ]
  },
  {
   "cell_type": "markdown",
   "id": "6867c88b",
   "metadata": {},
   "source": [
    "nombre_infected      1036\n",
    "nombre_sain          2101\n",
    "nombre_exposed        593\n",
    "nombre_recovered    16270\n",
    "Name: 574, dtype: int64"
   ]
  },
  {
   "cell_type": "markdown",
   "id": "6ba5fa65",
   "metadata": {},
   "source": [
    "nombre_infected      1029\n",
    "nombre_sain          2093\n",
    "nombre_exposed        570\n",
    "nombre_recovered    16308\n",
    "Name: 575, dtype: int64"
   ]
  },
  {
   "cell_type": "markdown",
   "id": "a03b8238",
   "metadata": {},
   "source": [
    "nombre_infected      1057\n",
    "nombre_sain          2099\n",
    "nombre_exposed        541\n",
    "nombre_recovered    16303\n",
    "Name: 576, dtype: int64"
   ]
  },
  {
   "cell_type": "markdown",
   "id": "4aae9787",
   "metadata": {},
   "source": [
    "nombre_infected      1065\n",
    "nombre_sain          2090\n",
    "nombre_exposed        536\n",
    "nombre_recovered    16309\n",
    "Name: 577, dtype: int64"
   ]
  },
  {
   "cell_type": "markdown",
   "id": "2aa068d6",
   "metadata": {},
   "source": [
    "nombre_infected      1073\n",
    "nombre_sain          2069\n",
    "nombre_exposed        513\n",
    "nombre_recovered    16345\n",
    "Name: 578, dtype: int64"
   ]
  },
  {
   "cell_type": "markdown",
   "id": "a6337206",
   "metadata": {},
   "source": [
    "nombre_infected      1066\n",
    "nombre_sain          2076\n",
    "nombre_exposed        520\n",
    "nombre_recovered    16338\n",
    "Name: 579, dtype: int64"
   ]
  },
  {
   "cell_type": "markdown",
   "id": "f093e213",
   "metadata": {},
   "source": [
    "nombre_infected      1081\n",
    "nombre_sain          2101\n",
    "nombre_exposed        519\n",
    "nombre_recovered    16299\n",
    "Name: 580, dtype: int64"
   ]
  },
  {
   "cell_type": "markdown",
   "id": "c5459fb5",
   "metadata": {},
   "source": [
    "nombre_infected      1060\n",
    "nombre_sain          2068\n",
    "nombre_exposed        571\n",
    "nombre_recovered    16301\n",
    "Name: 581, dtype: int64"
   ]
  },
  {
   "cell_type": "markdown",
   "id": "07e399e4",
   "metadata": {},
   "source": [
    "nombre_infected      1073\n",
    "nombre_sain          2068\n",
    "nombre_exposed        558\n",
    "nombre_recovered    16301\n",
    "Name: 582, dtype: int64"
   ]
  },
  {
   "cell_type": "markdown",
   "id": "b4342097",
   "metadata": {},
   "source": [
    "nombre_infected      1079\n",
    "nombre_sain          2077\n",
    "nombre_exposed        542\n",
    "nombre_recovered    16302\n",
    "Name: 583, dtype: int64"
   ]
  },
  {
   "cell_type": "markdown",
   "id": "e2a95642",
   "metadata": {},
   "source": [
    "nombre_infected      1074\n",
    "nombre_sain          2061\n",
    "nombre_exposed        535\n",
    "nombre_recovered    16330\n",
    "Name: 584, dtype: int64"
   ]
  },
  {
   "cell_type": "markdown",
   "id": "b3f13c44",
   "metadata": {},
   "source": [
    "nombre_infected      1108\n",
    "nombre_sain          2074\n",
    "nombre_exposed        499\n",
    "nombre_recovered    16319\n",
    "Name: 585, dtype: int64"
   ]
  },
  {
   "cell_type": "markdown",
   "id": "0c8228fa",
   "metadata": {},
   "source": [
    "nombre_infected      1079\n",
    "nombre_sain          2066\n",
    "nombre_exposed        523\n",
    "nombre_recovered    16332\n",
    "Name: 586, dtype: int64"
   ]
  },
  {
   "cell_type": "markdown",
   "id": "0526d821",
   "metadata": {},
   "source": [
    "nombre_infected      1051\n",
    "nombre_sain          2071\n",
    "nombre_exposed        537\n",
    "nombre_recovered    16341\n",
    "Name: 587, dtype: int64"
   ]
  },
  {
   "cell_type": "markdown",
   "id": "7632c11d",
   "metadata": {},
   "source": [
    "nombre_infected      1045\n",
    "nombre_sain          2077\n",
    "nombre_exposed        543\n",
    "nombre_recovered    16335\n",
    "Name: 588, dtype: int64"
   ]
  },
  {
   "cell_type": "markdown",
   "id": "692d472a",
   "metadata": {},
   "source": [
    "nombre_infected      1041\n",
    "nombre_sain          2075\n",
    "nombre_exposed        532\n",
    "nombre_recovered    16352\n",
    "Name: 589, dtype: int64"
   ]
  },
  {
   "cell_type": "markdown",
   "id": "ad03d5e6",
   "metadata": {},
   "source": [
    "nombre_infected      1032\n",
    "nombre_sain          2069\n",
    "nombre_exposed        531\n",
    "nombre_recovered    16368\n",
    "Name: 590, dtype: int64"
   ]
  },
  {
   "cell_type": "markdown",
   "id": "b906be42",
   "metadata": {},
   "source": [
    "nombre_infected      1012\n",
    "nombre_sain          2066\n",
    "nombre_exposed        541\n",
    "nombre_recovered    16381\n",
    "Name: 591, dtype: int64"
   ]
  },
  {
   "cell_type": "markdown",
   "id": "85416715",
   "metadata": {},
   "source": [
    "nombre_infected      1029\n",
    "nombre_sain          2047\n",
    "nombre_exposed        538\n",
    "nombre_recovered    16386\n",
    "Name: 592, dtype: int64"
   ]
  },
  {
   "cell_type": "markdown",
   "id": "126881eb",
   "metadata": {},
   "source": [
    "nombre_infected      1022\n",
    "nombre_sain          2009\n",
    "nombre_exposed        535\n",
    "nombre_recovered    16434\n",
    "Name: 593, dtype: int64"
   ]
  },
  {
   "cell_type": "markdown",
   "id": "83d6e8fd",
   "metadata": {},
   "source": [
    "nombre_infected      1038\n",
    "nombre_sain          2002\n",
    "nombre_exposed        527\n",
    "nombre_recovered    16433\n",
    "Name: 594, dtype: int64"
   ]
  },
  {
   "cell_type": "markdown",
   "id": "cd937e63",
   "metadata": {},
   "source": [
    "nombre_infected      1018\n",
    "nombre_sain          2011\n",
    "nombre_exposed        513\n",
    "nombre_recovered    16458\n",
    "Name: 595, dtype: int64"
   ]
  },
  {
   "cell_type": "markdown",
   "id": "77564fe6",
   "metadata": {},
   "source": [
    "nombre_infected      1002\n",
    "nombre_sain          2008\n",
    "nombre_exposed        511\n",
    "nombre_recovered    16479\n",
    "Name: 596, dtype: int64"
   ]
  },
  {
   "cell_type": "markdown",
   "id": "13faa2b6",
   "metadata": {},
   "source": [
    "nombre_infected      1022\n",
    "nombre_sain          2029\n",
    "nombre_exposed        472\n",
    "nombre_recovered    16477\n",
    "Name: 597, dtype: int64"
   ]
  },
  {
   "cell_type": "markdown",
   "id": "1e8d1e83",
   "metadata": {},
   "source": [
    "nombre_infected      1021\n",
    "nombre_sain          2044\n",
    "nombre_exposed        461\n",
    "nombre_recovered    16474\n",
    "Name: 598, dtype: int64"
   ]
  },
  {
   "cell_type": "markdown",
   "id": "b1fd6a54",
   "metadata": {},
   "source": [
    "nombre_infected      1014\n",
    "nombre_sain          2037\n",
    "nombre_exposed        466\n",
    "nombre_recovered    16483\n",
    "Name: 599, dtype: int64"
   ]
  },
  {
   "cell_type": "markdown",
   "id": "19317a75",
   "metadata": {},
   "source": [
    "nombre_infected       989\n",
    "nombre_sain          2036\n",
    "nombre_exposed        478\n",
    "nombre_recovered    16497\n",
    "Name: 600, dtype: int64"
   ]
  },
  {
   "cell_type": "markdown",
   "id": "cf9608bc",
   "metadata": {},
   "source": [
    "nombre_infected       961\n",
    "nombre_sain          2039\n",
    "nombre_exposed        478\n",
    "nombre_recovered    16522\n",
    "Name: 601, dtype: int64"
   ]
  },
  {
   "cell_type": "markdown",
   "id": "fc5e0d18",
   "metadata": {},
   "source": [
    "nombre_infected       952\n",
    "nombre_sain          2037\n",
    "nombre_exposed        497\n",
    "nombre_recovered    16514\n",
    "Name: 602, dtype: int64"
   ]
  },
  {
   "cell_type": "markdown",
   "id": "38ba477f",
   "metadata": {},
   "source": [
    "nombre_infected       942\n",
    "nombre_sain          2051\n",
    "nombre_exposed        497\n",
    "nombre_recovered    16510\n",
    "Name: 603, dtype: int64"
   ]
  },
  {
   "cell_type": "markdown",
   "id": "f71c0663",
   "metadata": {},
   "source": [
    "nombre_infected       959\n",
    "nombre_sain          2061\n",
    "nombre_exposed        495\n",
    "nombre_recovered    16485\n",
    "Name: 604, dtype: int64"
   ]
  },
  {
   "cell_type": "markdown",
   "id": "558c37cd",
   "metadata": {},
   "source": [
    "nombre_infected       960\n",
    "nombre_sain          2033\n",
    "nombre_exposed        504\n",
    "nombre_recovered    16503\n",
    "Name: 605, dtype: int64"
   ]
  },
  {
   "cell_type": "markdown",
   "id": "becfe70f",
   "metadata": {},
   "source": [
    "nombre_infected       947\n",
    "nombre_sain          2033\n",
    "nombre_exposed        511\n",
    "nombre_recovered    16509\n",
    "Name: 606, dtype: int64"
   ]
  },
  {
   "cell_type": "markdown",
   "id": "6158fb83",
   "metadata": {},
   "source": [
    "nombre_infected       949\n",
    "nombre_sain          2036\n",
    "nombre_exposed        510\n",
    "nombre_recovered    16505\n",
    "Name: 607, dtype: int64"
   ]
  },
  {
   "cell_type": "markdown",
   "id": "9e983f2b",
   "metadata": {},
   "source": [
    "nombre_infected       948\n",
    "nombre_sain          2067\n",
    "nombre_exposed        491\n",
    "nombre_recovered    16494\n",
    "Name: 608, dtype: int64"
   ]
  },
  {
   "cell_type": "markdown",
   "id": "051fac86",
   "metadata": {},
   "source": [
    "nombre_infected       942\n",
    "nombre_sain          2077\n",
    "nombre_exposed        495\n",
    "nombre_recovered    16486\n",
    "Name: 609, dtype: int64"
   ]
  },
  {
   "cell_type": "markdown",
   "id": "ea077050",
   "metadata": {},
   "source": [
    "nombre_infected       947\n",
    "nombre_sain          2091\n",
    "nombre_exposed        480\n",
    "nombre_recovered    16482\n",
    "Name: 610, dtype: int64"
   ]
  },
  {
   "cell_type": "markdown",
   "id": "c9978454",
   "metadata": {},
   "source": [
    "nombre_infected       957\n",
    "nombre_sain          2133\n",
    "nombre_exposed        458\n",
    "nombre_recovered    16452\n",
    "Name: 611, dtype: int64"
   ]
  },
  {
   "cell_type": "markdown",
   "id": "ee3185bb",
   "metadata": {},
   "source": [
    "nombre_infected       949\n",
    "nombre_sain          2167\n",
    "nombre_exposed        462\n",
    "nombre_recovered    16422\n",
    "Name: 612, dtype: int64"
   ]
  },
  {
   "cell_type": "markdown",
   "id": "5a095dfa",
   "metadata": {},
   "source": [
    "nombre_infected       946\n",
    "nombre_sain          2168\n",
    "nombre_exposed        462\n",
    "nombre_recovered    16424\n",
    "Name: 613, dtype: int64"
   ]
  },
  {
   "cell_type": "markdown",
   "id": "705939cb",
   "metadata": {},
   "source": [
    "nombre_infected       918\n",
    "nombre_sain          2183\n",
    "nombre_exposed        468\n",
    "nombre_recovered    16431\n",
    "Name: 614, dtype: int64"
   ]
  },
  {
   "cell_type": "markdown",
   "id": "0b9d0d46",
   "metadata": {},
   "source": [
    "nombre_infected       894\n",
    "nombre_sain          2165\n",
    "nombre_exposed        484\n",
    "nombre_recovered    16457\n",
    "Name: 615, dtype: int64"
   ]
  },
  {
   "cell_type": "markdown",
   "id": "8468b857",
   "metadata": {},
   "source": [
    "nombre_infected       884\n",
    "nombre_sain          2167\n",
    "nombre_exposed        496\n",
    "nombre_recovered    16453\n",
    "Name: 616, dtype: int64"
   ]
  },
  {
   "cell_type": "markdown",
   "id": "b1810907",
   "metadata": {},
   "source": [
    "nombre_infected       864\n",
    "nombre_sain          2199\n",
    "nombre_exposed        476\n",
    "nombre_recovered    16461\n",
    "Name: 617, dtype: int64"
   ]
  },
  {
   "cell_type": "markdown",
   "id": "02b7346d",
   "metadata": {},
   "source": [
    "nombre_infected       845\n",
    "nombre_sain          2198\n",
    "nombre_exposed        498\n",
    "nombre_recovered    16459\n",
    "Name: 618, dtype: int64"
   ]
  },
  {
   "cell_type": "markdown",
   "id": "d4758a9f",
   "metadata": {},
   "source": [
    "nombre_infected       870\n",
    "nombre_sain          2197\n",
    "nombre_exposed        479\n",
    "nombre_recovered    16454\n",
    "Name: 619, dtype: int64"
   ]
  },
  {
   "cell_type": "markdown",
   "id": "3883761c",
   "metadata": {},
   "source": [
    "nombre_infected       878\n",
    "nombre_sain          2224\n",
    "nombre_exposed        476\n",
    "nombre_recovered    16422\n",
    "Name: 620, dtype: int64"
   ]
  },
  {
   "cell_type": "markdown",
   "id": "0c34c726",
   "metadata": {},
   "source": [
    "nombre_infected       847\n",
    "nombre_sain          2240\n",
    "nombre_exposed        500\n",
    "nombre_recovered    16413\n",
    "Name: 621, dtype: int64"
   ]
  },
  {
   "cell_type": "markdown",
   "id": "58601ce5",
   "metadata": {},
   "source": [
    "nombre_infected       850\n",
    "nombre_sain          2248\n",
    "nombre_exposed        491\n",
    "nombre_recovered    16411\n",
    "Name: 622, dtype: int64"
   ]
  },
  {
   "cell_type": "markdown",
   "id": "f1b61c32",
   "metadata": {},
   "source": [
    "nombre_infected       846\n",
    "nombre_sain          2247\n",
    "nombre_exposed        508\n",
    "nombre_recovered    16399\n",
    "Name: 623, dtype: int64"
   ]
  },
  {
   "cell_type": "markdown",
   "id": "92e1513e",
   "metadata": {},
   "source": [
    "nombre_infected       847\n",
    "nombre_sain          2252\n",
    "nombre_exposed        530\n",
    "nombre_recovered    16371\n",
    "Name: 624, dtype: int64"
   ]
  },
  {
   "cell_type": "markdown",
   "id": "1f5f9aff",
   "metadata": {},
   "source": [
    "nombre_infected       866\n",
    "nombre_sain          2291\n",
    "nombre_exposed        509\n",
    "nombre_recovered    16334\n",
    "Name: 625, dtype: int64"
   ]
  },
  {
   "cell_type": "markdown",
   "id": "fc2835a5",
   "metadata": {},
   "source": [
    "nombre_infected       877\n",
    "nombre_sain          2295\n",
    "nombre_exposed        512\n",
    "nombre_recovered    16316\n",
    "Name: 626, dtype: int64"
   ]
  },
  {
   "cell_type": "markdown",
   "id": "9c531115",
   "metadata": {},
   "source": [
    "nombre_infected       861\n",
    "nombre_sain          2304\n",
    "nombre_exposed        528\n",
    "nombre_recovered    16307\n",
    "Name: 627, dtype: int64"
   ]
  },
  {
   "cell_type": "markdown",
   "id": "19721388",
   "metadata": {},
   "source": [
    "nombre_infected       863\n",
    "nombre_sain          2308\n",
    "nombre_exposed        524\n",
    "nombre_recovered    16305\n",
    "Name: 628, dtype: int64"
   ]
  },
  {
   "cell_type": "markdown",
   "id": "f09fe545",
   "metadata": {},
   "source": [
    "nombre_infected       887\n",
    "nombre_sain          2277\n",
    "nombre_exposed        523\n",
    "nombre_recovered    16313\n",
    "Name: 629, dtype: int64"
   ]
  },
  {
   "cell_type": "markdown",
   "id": "2c72ac1a",
   "metadata": {},
   "source": [
    "nombre_infected       879\n",
    "nombre_sain          2283\n",
    "nombre_exposed        528\n",
    "nombre_recovered    16310\n",
    "Name: 630, dtype: int64"
   ]
  },
  {
   "cell_type": "markdown",
   "id": "cdc58c2c",
   "metadata": {},
   "source": [
    "nombre_infected       888\n",
    "nombre_sain          2284\n",
    "nombre_exposed        542\n",
    "nombre_recovered    16286\n",
    "Name: 631, dtype: int64"
   ]
  },
  {
   "cell_type": "markdown",
   "id": "583f5246",
   "metadata": {},
   "source": [
    "nombre_infected       901\n",
    "nombre_sain          2300\n",
    "nombre_exposed        549\n",
    "nombre_recovered    16250\n",
    "Name: 632, dtype: int64"
   ]
  },
  {
   "cell_type": "markdown",
   "id": "a84a0457",
   "metadata": {},
   "source": [
    "nombre_infected       900\n",
    "nombre_sain          2327\n",
    "nombre_exposed        571\n",
    "nombre_recovered    16202\n",
    "Name: 633, dtype: int64"
   ]
  },
  {
   "cell_type": "markdown",
   "id": "989c804c",
   "metadata": {},
   "source": [
    "nombre_infected       904\n",
    "nombre_sain          2325\n",
    "nombre_exposed        594\n",
    "nombre_recovered    16177\n",
    "Name: 634, dtype: int64"
   ]
  },
  {
   "cell_type": "markdown",
   "id": "dd5671f5",
   "metadata": {},
   "source": [
    "nombre_infected       938\n",
    "nombre_sain          2301\n",
    "nombre_exposed        610\n",
    "nombre_recovered    16151\n",
    "Name: 635, dtype: int64"
   ]
  },
  {
   "cell_type": "markdown",
   "id": "627966d6",
   "metadata": {},
   "source": [
    "nombre_infected       937\n",
    "nombre_sain          2313\n",
    "nombre_exposed        608\n",
    "nombre_recovered    16142\n",
    "Name: 636, dtype: int64"
   ]
  },
  {
   "cell_type": "markdown",
   "id": "486416c1",
   "metadata": {},
   "source": [
    "nombre_infected       947\n",
    "nombre_sain          2304\n",
    "nombre_exposed        604\n",
    "nombre_recovered    16145\n",
    "Name: 637, dtype: int64"
   ]
  },
  {
   "cell_type": "markdown",
   "id": "5a2c96eb",
   "metadata": {},
   "source": [
    "nombre_infected       979\n",
    "nombre_sain          2293\n",
    "nombre_exposed        582\n",
    "nombre_recovered    16146\n",
    "Name: 638, dtype: int64"
   ]
  },
  {
   "cell_type": "markdown",
   "id": "406b52fb",
   "metadata": {},
   "source": [
    "nombre_infected       996\n",
    "nombre_sain          2307\n",
    "nombre_exposed        568\n",
    "nombre_recovered    16129\n",
    "Name: 639, dtype: int64"
   ]
  },
  {
   "cell_type": "markdown",
   "id": "4d567bb8",
   "metadata": {},
   "source": [
    "nombre_infected       984\n",
    "nombre_sain          2267\n",
    "nombre_exposed        585\n",
    "nombre_recovered    16164\n",
    "Name: 640, dtype: int64"
   ]
  },
  {
   "cell_type": "markdown",
   "id": "60640ed6",
   "metadata": {},
   "source": [
    "nombre_infected      1030\n",
    "nombre_sain          2266\n",
    "nombre_exposed        566\n",
    "nombre_recovered    16138\n",
    "Name: 641, dtype: int64"
   ]
  },
  {
   "cell_type": "markdown",
   "id": "cb4d5a45",
   "metadata": {},
   "source": [
    "nombre_infected      1048\n",
    "nombre_sain          2257\n",
    "nombre_exposed        568\n",
    "nombre_recovered    16127\n",
    "Name: 642, dtype: int64"
   ]
  },
  {
   "cell_type": "markdown",
   "id": "1a1d8849",
   "metadata": {},
   "source": [
    "nombre_infected      1027\n",
    "nombre_sain          2236\n",
    "nombre_exposed        578\n",
    "nombre_recovered    16159\n",
    "Name: 643, dtype: int64"
   ]
  },
  {
   "cell_type": "markdown",
   "id": "dafa1ff6",
   "metadata": {},
   "source": [
    "nombre_infected      1054\n",
    "nombre_sain          2211\n",
    "nombre_exposed        584\n",
    "nombre_recovered    16151\n",
    "Name: 644, dtype: int64"
   ]
  },
  {
   "cell_type": "markdown",
   "id": "717b58bc",
   "metadata": {},
   "source": [
    "nombre_infected      1063\n",
    "nombre_sain          2181\n",
    "nombre_exposed        573\n",
    "nombre_recovered    16183\n",
    "Name: 645, dtype: int64"
   ]
  },
  {
   "cell_type": "markdown",
   "id": "1e681200",
   "metadata": {},
   "source": [
    "nombre_infected      1064\n",
    "nombre_sain          2158\n",
    "nombre_exposed        583\n",
    "nombre_recovered    16195\n",
    "Name: 646, dtype: int64"
   ]
  },
  {
   "cell_type": "markdown",
   "id": "6492195a",
   "metadata": {},
   "source": [
    "nombre_infected      1074\n",
    "nombre_sain          2135\n",
    "nombre_exposed        578\n",
    "nombre_recovered    16213\n",
    "Name: 647, dtype: int64"
   ]
  },
  {
   "cell_type": "markdown",
   "id": "e63d6bee",
   "metadata": {},
   "source": [
    "nombre_infected      1102\n",
    "nombre_sain          2091\n",
    "nombre_exposed        590\n",
    "nombre_recovered    16217\n",
    "Name: 648, dtype: int64"
   ]
  },
  {
   "cell_type": "markdown",
   "id": "2480ab90",
   "metadata": {},
   "source": [
    "nombre_infected      1087\n",
    "nombre_sain          2061\n",
    "nombre_exposed        606\n",
    "nombre_recovered    16246\n",
    "Name: 649, dtype: int64"
   ]
  },
  {
   "cell_type": "markdown",
   "id": "d148df75",
   "metadata": {},
   "source": [
    "nombre_infected      1085\n",
    "nombre_sain          2025\n",
    "nombre_exposed        607\n",
    "nombre_recovered    16283\n",
    "Name: 650, dtype: int64"
   ]
  },
  {
   "cell_type": "markdown",
   "id": "e6b5b910",
   "metadata": {},
   "source": [
    "nombre_infected      1092\n",
    "nombre_sain          2005\n",
    "nombre_exposed        610\n",
    "nombre_recovered    16293\n",
    "Name: 651, dtype: int64"
   ]
  },
  {
   "cell_type": "markdown",
   "id": "374b15e6",
   "metadata": {},
   "source": [
    "nombre_infected      1117\n",
    "nombre_sain          1998\n",
    "nombre_exposed        566\n",
    "nombre_recovered    16319\n",
    "Name: 652, dtype: int64"
   ]
  },
  {
   "cell_type": "markdown",
   "id": "7a83706c",
   "metadata": {},
   "source": [
    "nombre_infected      1135\n",
    "nombre_sain          1951\n",
    "nombre_exposed        564\n",
    "nombre_recovered    16350\n",
    "Name: 653, dtype: int64"
   ]
  },
  {
   "cell_type": "markdown",
   "id": "4985743b",
   "metadata": {},
   "source": [
    "nombre_infected      1096\n",
    "nombre_sain          1925\n",
    "nombre_exposed        574\n",
    "nombre_recovered    16405\n",
    "Name: 654, dtype: int64"
   ]
  },
  {
   "cell_type": "markdown",
   "id": "288a7f89",
   "metadata": {},
   "source": [
    "nombre_infected      1119\n",
    "nombre_sain          1919\n",
    "nombre_exposed        556\n",
    "nombre_recovered    16406\n",
    "Name: 655, dtype: int64"
   ]
  },
  {
   "cell_type": "markdown",
   "id": "2e477b0d",
   "metadata": {},
   "source": [
    "nombre_infected      1137\n",
    "nombre_sain          1890\n",
    "nombre_exposed        562\n",
    "nombre_recovered    16411\n",
    "Name: 656, dtype: int64"
   ]
  },
  {
   "cell_type": "markdown",
   "id": "0546a4ca",
   "metadata": {},
   "source": [
    "nombre_infected      1143\n",
    "nombre_sain          1868\n",
    "nombre_exposed        546\n",
    "nombre_recovered    16443\n",
    "Name: 657, dtype: int64"
   ]
  },
  {
   "cell_type": "markdown",
   "id": "dfc2a475",
   "metadata": {},
   "source": [
    "nombre_infected      1115\n",
    "nombre_sain          1875\n",
    "nombre_exposed        549\n",
    "nombre_recovered    16461\n",
    "Name: 658, dtype: int64"
   ]
  },
  {
   "cell_type": "markdown",
   "id": "e1131ae6",
   "metadata": {},
   "source": [
    "nombre_infected      1103\n",
    "nombre_sain          1870\n",
    "nombre_exposed        551\n",
    "nombre_recovered    16476\n",
    "Name: 659, dtype: int64"
   ]
  },
  {
   "cell_type": "markdown",
   "id": "f2c07982",
   "metadata": {},
   "source": [
    "nombre_infected      1114\n",
    "nombre_sain          1863\n",
    "nombre_exposed        536\n",
    "nombre_recovered    16487\n",
    "Name: 660, dtype: int64"
   ]
  },
  {
   "cell_type": "markdown",
   "id": "edf95058",
   "metadata": {},
   "source": [
    "nombre_infected      1106\n",
    "nombre_sain          1856\n",
    "nombre_exposed        528\n",
    "nombre_recovered    16510\n",
    "Name: 661, dtype: int64"
   ]
  },
  {
   "cell_type": "markdown",
   "id": "2274dd9a",
   "metadata": {},
   "source": [
    "nombre_infected      1099\n",
    "nombre_sain          1848\n",
    "nombre_exposed        525\n",
    "nombre_recovered    16528\n",
    "Name: 662, dtype: int64"
   ]
  },
  {
   "cell_type": "markdown",
   "id": "b663ac68",
   "metadata": {},
   "source": [
    "nombre_infected      1081\n",
    "nombre_sain          1855\n",
    "nombre_exposed        489\n",
    "nombre_recovered    16575\n",
    "Name: 663, dtype: int64"
   ]
  },
  {
   "cell_type": "markdown",
   "id": "c95a3b2b",
   "metadata": {},
   "source": [
    "nombre_infected      1099\n",
    "nombre_sain          1883\n",
    "nombre_exposed        458\n",
    "nombre_recovered    16560\n",
    "Name: 664, dtype: int64"
   ]
  },
  {
   "cell_type": "markdown",
   "id": "b07e4976",
   "metadata": {},
   "source": [
    "nombre_infected      1078\n",
    "nombre_sain          1859\n",
    "nombre_exposed        475\n",
    "nombre_recovered    16588\n",
    "Name: 665, dtype: int64"
   ]
  },
  {
   "cell_type": "markdown",
   "id": "953682b0",
   "metadata": {},
   "source": [
    "nombre_infected      1060\n",
    "nombre_sain          1864\n",
    "nombre_exposed        477\n",
    "nombre_recovered    16599\n",
    "Name: 666, dtype: int64"
   ]
  },
  {
   "cell_type": "markdown",
   "id": "8c1ce694",
   "metadata": {},
   "source": [
    "nombre_infected      1053\n",
    "nombre_sain          1860\n",
    "nombre_exposed        478\n",
    "nombre_recovered    16609\n",
    "Name: 667, dtype: int64"
   ]
  },
  {
   "cell_type": "markdown",
   "id": "c851be25",
   "metadata": {},
   "source": [
    "nombre_infected      1029\n",
    "nombre_sain          1837\n",
    "nombre_exposed        503\n",
    "nombre_recovered    16631\n",
    "Name: 668, dtype: int64"
   ]
  },
  {
   "cell_type": "markdown",
   "id": "37111612",
   "metadata": {},
   "source": [
    "nombre_infected      1021\n",
    "nombre_sain          1840\n",
    "nombre_exposed        503\n",
    "nombre_recovered    16636\n",
    "Name: 669, dtype: int64"
   ]
  },
  {
   "cell_type": "markdown",
   "id": "97225399",
   "metadata": {},
   "source": [
    "nombre_infected      1043\n",
    "nombre_sain          1837\n",
    "nombre_exposed        493\n",
    "nombre_recovered    16627\n",
    "Name: 670, dtype: int64"
   ]
  },
  {
   "cell_type": "markdown",
   "id": "d0ff7560",
   "metadata": {},
   "source": [
    "nombre_infected      1053\n",
    "nombre_sain          1824\n",
    "nombre_exposed        485\n",
    "nombre_recovered    16638\n",
    "Name: 671, dtype: int64"
   ]
  },
  {
   "cell_type": "markdown",
   "id": "152f45d6",
   "metadata": {},
   "source": [
    "nombre_infected      1047\n",
    "nombre_sain          1816\n",
    "nombre_exposed        483\n",
    "nombre_recovered    16654\n",
    "Name: 672, dtype: int64"
   ]
  },
  {
   "cell_type": "markdown",
   "id": "72403cb5",
   "metadata": {},
   "source": [
    "nombre_infected      1034\n",
    "nombre_sain          1810\n",
    "nombre_exposed        493\n",
    "nombre_recovered    16663\n",
    "Name: 673, dtype: int64"
   ]
  },
  {
   "cell_type": "markdown",
   "id": "3c9877f9",
   "metadata": {},
   "source": [
    "nombre_infected      1026\n",
    "nombre_sain          1809\n",
    "nombre_exposed        470\n",
    "nombre_recovered    16695\n",
    "Name: 674, dtype: int64"
   ]
  },
  {
   "cell_type": "markdown",
   "id": "80c31d23",
   "metadata": {},
   "source": [
    "nombre_infected      1017\n",
    "nombre_sain          1796\n",
    "nombre_exposed        458\n",
    "nombre_recovered    16729\n",
    "Name: 675, dtype: int64"
   ]
  },
  {
   "cell_type": "markdown",
   "id": "a7d9f361",
   "metadata": {},
   "source": [
    "nombre_infected      1006\n",
    "nombre_sain          1805\n",
    "nombre_exposed        437\n",
    "nombre_recovered    16752\n",
    "Name: 676, dtype: int64"
   ]
  },
  {
   "cell_type": "markdown",
   "id": "651de451",
   "metadata": {},
   "source": [
    "nombre_infected      1001\n",
    "nombre_sain          1811\n",
    "nombre_exposed        422\n",
    "nombre_recovered    16766\n",
    "Name: 677, dtype: int64"
   ]
  },
  {
   "cell_type": "markdown",
   "id": "005e1071",
   "metadata": {},
   "source": [
    "nombre_infected       997\n",
    "nombre_sain          1831\n",
    "nombre_exposed        404\n",
    "nombre_recovered    16768\n",
    "Name: 678, dtype: int64"
   ]
  },
  {
   "cell_type": "markdown",
   "id": "e225a91a",
   "metadata": {},
   "source": [
    "nombre_infected       970\n",
    "nombre_sain          1826\n",
    "nombre_exposed        434\n",
    "nombre_recovered    16770\n",
    "Name: 679, dtype: int64"
   ]
  },
  {
   "cell_type": "markdown",
   "id": "a97bbb59",
   "metadata": {},
   "source": [
    "nombre_infected       956\n",
    "nombre_sain          1833\n",
    "nombre_exposed        456\n",
    "nombre_recovered    16755\n",
    "Name: 680, dtype: int64"
   ]
  },
  {
   "cell_type": "markdown",
   "id": "13593635",
   "metadata": {},
   "source": [
    "nombre_infected       943\n",
    "nombre_sain          1854\n",
    "nombre_exposed        437\n",
    "nombre_recovered    16766\n",
    "Name: 681, dtype: int64"
   ]
  },
  {
   "cell_type": "markdown",
   "id": "cf99d211",
   "metadata": {},
   "source": [
    "nombre_infected       927\n",
    "nombre_sain          1870\n",
    "nombre_exposed        434\n",
    "nombre_recovered    16769\n",
    "Name: 682, dtype: int64"
   ]
  },
  {
   "cell_type": "markdown",
   "id": "50f9e6e5",
   "metadata": {},
   "source": [
    "nombre_infected       890\n",
    "nombre_sain          1911\n",
    "nombre_exposed        418\n",
    "nombre_recovered    16781\n",
    "Name: 683, dtype: int64"
   ]
  },
  {
   "cell_type": "markdown",
   "id": "c00b4ae8",
   "metadata": {},
   "source": [
    "nombre_infected       889\n",
    "nombre_sain          1938\n",
    "nombre_exposed        417\n",
    "nombre_recovered    16756\n",
    "Name: 684, dtype: int64"
   ]
  },
  {
   "cell_type": "markdown",
   "id": "7f26a727",
   "metadata": {},
   "source": [
    "nombre_infected       857\n",
    "nombre_sain          1940\n",
    "nombre_exposed        441\n",
    "nombre_recovered    16762\n",
    "Name: 685, dtype: int64"
   ]
  },
  {
   "cell_type": "markdown",
   "id": "2183a87d",
   "metadata": {},
   "source": [
    "nombre_infected       863\n",
    "nombre_sain          1936\n",
    "nombre_exposed        448\n",
    "nombre_recovered    16753\n",
    "Name: 686, dtype: int64"
   ]
  },
  {
   "cell_type": "markdown",
   "id": "903cd4b3",
   "metadata": {},
   "source": [
    "nombre_infected       871\n",
    "nombre_sain          1963\n",
    "nombre_exposed        416\n",
    "nombre_recovered    16750\n",
    "Name: 687, dtype: int64"
   ]
  },
  {
   "cell_type": "markdown",
   "id": "35bc0aed",
   "metadata": {},
   "source": [
    "nombre_infected       890\n",
    "nombre_sain          1966\n",
    "nombre_exposed        406\n",
    "nombre_recovered    16738\n",
    "Name: 688, dtype: int64"
   ]
  },
  {
   "cell_type": "markdown",
   "id": "557a0af4",
   "metadata": {},
   "source": [
    "nombre_infected       878\n",
    "nombre_sain          1991\n",
    "nombre_exposed        411\n",
    "nombre_recovered    16720\n",
    "Name: 689, dtype: int64"
   ]
  },
  {
   "cell_type": "markdown",
   "id": "377ad7d3",
   "metadata": {},
   "source": [
    "nombre_infected       872\n",
    "nombre_sain          1996\n",
    "nombre_exposed        424\n",
    "nombre_recovered    16708\n",
    "Name: 690, dtype: int64"
   ]
  },
  {
   "cell_type": "markdown",
   "id": "8f5e9559",
   "metadata": {},
   "source": [
    "nombre_infected       882\n",
    "nombre_sain          2004\n",
    "nombre_exposed        451\n",
    "nombre_recovered    16663\n",
    "Name: 691, dtype: int64"
   ]
  },
  {
   "cell_type": "markdown",
   "id": "fde59fde",
   "metadata": {},
   "source": [
    "nombre_infected       866\n",
    "nombre_sain          2011\n",
    "nombre_exposed        460\n",
    "nombre_recovered    16663\n",
    "Name: 692, dtype: int64"
   ]
  },
  {
   "cell_type": "markdown",
   "id": "7f87df20",
   "metadata": {},
   "source": [
    "nombre_infected       859\n",
    "nombre_sain          2029\n",
    "nombre_exposed        472\n",
    "nombre_recovered    16640\n",
    "Name: 693, dtype: int64"
   ]
  },
  {
   "cell_type": "markdown",
   "id": "0fb268c4",
   "metadata": {},
   "source": [
    "nombre_infected       858\n",
    "nombre_sain          2061\n",
    "nombre_exposed        461\n",
    "nombre_recovered    16620\n",
    "Name: 694, dtype: int64"
   ]
  },
  {
   "cell_type": "markdown",
   "id": "c3a5f172",
   "metadata": {},
   "source": [
    "nombre_infected       868\n",
    "nombre_sain          2086\n",
    "nombre_exposed        445\n",
    "nombre_recovered    16601\n",
    "Name: 695, dtype: int64"
   ]
  },
  {
   "cell_type": "markdown",
   "id": "edc5e29c",
   "metadata": {},
   "source": [
    "nombre_infected       877\n",
    "nombre_sain          2089\n",
    "nombre_exposed        453\n",
    "nombre_recovered    16581\n",
    "Name: 696, dtype: int64"
   ]
  },
  {
   "cell_type": "markdown",
   "id": "c9f3316f",
   "metadata": {},
   "source": [
    "nombre_infected       856\n",
    "nombre_sain          2115\n",
    "nombre_exposed        454\n",
    "nombre_recovered    16575\n",
    "Name: 697, dtype: int64"
   ]
  },
  {
   "cell_type": "markdown",
   "id": "8fbe0861",
   "metadata": {},
   "source": [
    "nombre_infected       870\n",
    "nombre_sain          2130\n",
    "nombre_exposed        429\n",
    "nombre_recovered    16571\n",
    "Name: 698, dtype: int64"
   ]
  },
  {
   "cell_type": "markdown",
   "id": "35b138a8",
   "metadata": {},
   "source": [
    "nombre_infected       905\n",
    "nombre_sain          2130\n",
    "nombre_exposed        425\n",
    "nombre_recovered    16540\n",
    "Name: 699, dtype: int64"
   ]
  },
  {
   "cell_type": "markdown",
   "id": "7340f166",
   "metadata": {},
   "source": [
    "nombre_infected       898\n",
    "nombre_sain          2133\n",
    "nombre_exposed        440\n",
    "nombre_recovered    16529\n",
    "Name: 700, dtype: int64"
   ]
  },
  {
   "cell_type": "markdown",
   "id": "552586a8",
   "metadata": {},
   "source": [
    "nombre_infected       894\n",
    "nombre_sain          2152\n",
    "nombre_exposed        422\n",
    "nombre_recovered    16532\n",
    "Name: 701, dtype: int64"
   ]
  },
  {
   "cell_type": "markdown",
   "id": "4aad5be0",
   "metadata": {},
   "source": [
    "nombre_infected       868\n",
    "nombre_sain          2173\n",
    "nombre_exposed        439\n",
    "nombre_recovered    16520\n",
    "Name: 702, dtype: int64"
   ]
  },
  {
   "cell_type": "markdown",
   "id": "181b9cad",
   "metadata": {},
   "source": [
    "nombre_infected       863\n",
    "nombre_sain          2203\n",
    "nombre_exposed        443\n",
    "nombre_recovered    16491\n",
    "Name: 703, dtype: int64"
   ]
  },
  {
   "cell_type": "markdown",
   "id": "7a24e786",
   "metadata": {},
   "source": [
    "nombre_infected       867\n",
    "nombre_sain          2223\n",
    "nombre_exposed        454\n",
    "nombre_recovered    16456\n",
    "Name: 704, dtype: int64"
   ]
  },
  {
   "cell_type": "markdown",
   "id": "03eee238",
   "metadata": {},
   "source": [
    "nombre_infected       866\n",
    "nombre_sain          2214\n",
    "nombre_exposed        466\n",
    "nombre_recovered    16454\n",
    "Name: 705, dtype: int64"
   ]
  },
  {
   "cell_type": "markdown",
   "id": "8d808e68",
   "metadata": {},
   "source": [
    "nombre_infected       870\n",
    "nombre_sain          2185\n",
    "nombre_exposed        487\n",
    "nombre_recovered    16458\n",
    "Name: 706, dtype: int64"
   ]
  },
  {
   "cell_type": "markdown",
   "id": "265fcbf3",
   "metadata": {},
   "source": [
    "nombre_infected       866\n",
    "nombre_sain          2196\n",
    "nombre_exposed        501\n",
    "nombre_recovered    16437\n",
    "Name: 707, dtype: int64"
   ]
  },
  {
   "cell_type": "markdown",
   "id": "61ee8521",
   "metadata": {},
   "source": [
    "nombre_infected       865\n",
    "nombre_sain          2183\n",
    "nombre_exposed        501\n",
    "nombre_recovered    16451\n",
    "Name: 708, dtype: int64"
   ]
  },
  {
   "cell_type": "markdown",
   "id": "3cf64014",
   "metadata": {},
   "source": [
    "nombre_infected       875\n",
    "nombre_sain          2189\n",
    "nombre_exposed        480\n",
    "nombre_recovered    16456\n",
    "Name: 709, dtype: int64"
   ]
  },
  {
   "cell_type": "markdown",
   "id": "6a44b666",
   "metadata": {},
   "source": [
    "nombre_infected       892\n",
    "nombre_sain          2211\n",
    "nombre_exposed        469\n",
    "nombre_recovered    16428\n",
    "Name: 710, dtype: int64"
   ]
  },
  {
   "cell_type": "markdown",
   "id": "a49396cb",
   "metadata": {},
   "source": [
    "nombre_infected       881\n",
    "nombre_sain          2215\n",
    "nombre_exposed        472\n",
    "nombre_recovered    16432\n",
    "Name: 711, dtype: int64"
   ]
  },
  {
   "cell_type": "markdown",
   "id": "6576d312",
   "metadata": {},
   "source": [
    "nombre_infected       869\n",
    "nombre_sain          2218\n",
    "nombre_exposed        482\n",
    "nombre_recovered    16431\n",
    "Name: 712, dtype: int64"
   ]
  },
  {
   "cell_type": "markdown",
   "id": "b7fe73ac",
   "metadata": {},
   "source": [
    "nombre_infected       871\n",
    "nombre_sain          2243\n",
    "nombre_exposed        476\n",
    "nombre_recovered    16410\n",
    "Name: 713, dtype: int64"
   ]
  },
  {
   "cell_type": "markdown",
   "id": "ee285ba0",
   "metadata": {},
   "source": [
    "nombre_infected       879\n",
    "nombre_sain          2242\n",
    "nombre_exposed        480\n",
    "nombre_recovered    16399\n",
    "Name: 714, dtype: int64"
   ]
  },
  {
   "cell_type": "markdown",
   "id": "cdf62a14",
   "metadata": {},
   "source": [
    "nombre_infected       902\n",
    "nombre_sain          2264\n",
    "nombre_exposed        470\n",
    "nombre_recovered    16364\n",
    "Name: 715, dtype: int64"
   ]
  },
  {
   "cell_type": "markdown",
   "id": "56276059",
   "metadata": {},
   "source": [
    "nombre_infected       929\n",
    "nombre_sain          2261\n",
    "nombre_exposed        477\n",
    "nombre_recovered    16333\n",
    "Name: 716, dtype: int64"
   ]
  },
  {
   "cell_type": "markdown",
   "id": "1fd6a543",
   "metadata": {},
   "source": [
    "nombre_infected       926\n",
    "nombre_sain          2268\n",
    "nombre_exposed        497\n",
    "nombre_recovered    16309\n",
    "Name: 717, dtype: int64"
   ]
  },
  {
   "cell_type": "markdown",
   "id": "bc4e47e0",
   "metadata": {},
   "source": [
    "nombre_infected       940\n",
    "nombre_sain          2243\n",
    "nombre_exposed        491\n",
    "nombre_recovered    16326\n",
    "Name: 718, dtype: int64"
   ]
  },
  {
   "cell_type": "markdown",
   "id": "72381c99",
   "metadata": {},
   "source": [
    "nombre_infected       941\n",
    "nombre_sain          2239\n",
    "nombre_exposed        501\n",
    "nombre_recovered    16319\n",
    "Name: 719, dtype: int64"
   ]
  },
  {
   "cell_type": "markdown",
   "id": "c6a06a47",
   "metadata": {},
   "source": [
    "nombre_infected       942\n",
    "nombre_sain          2270\n",
    "nombre_exposed        484\n",
    "nombre_recovered    16304\n",
    "Name: 720, dtype: int64"
   ]
  },
  {
   "cell_type": "markdown",
   "id": "5163460f",
   "metadata": {},
   "source": [
    "nombre_infected       954\n",
    "nombre_sain          2254\n",
    "nombre_exposed        492\n",
    "nombre_recovered    16300\n",
    "Name: 721, dtype: int64"
   ]
  },
  {
   "cell_type": "markdown",
   "id": "827e52e5",
   "metadata": {},
   "source": [
    "nombre_infected       949\n",
    "nombre_sain          2263\n",
    "nombre_exposed        500\n",
    "nombre_recovered    16288\n",
    "Name: 722, dtype: int64"
   ]
  },
  {
   "cell_type": "markdown",
   "id": "38164c18",
   "metadata": {},
   "source": [
    "nombre_infected       938\n",
    "nombre_sain          2283\n",
    "nombre_exposed        474\n",
    "nombre_recovered    16305\n",
    "Name: 723, dtype: int64"
   ]
  },
  {
   "cell_type": "markdown",
   "id": "0144af97",
   "metadata": {},
   "source": [
    "nombre_infected       962\n",
    "nombre_sain          2275\n",
    "nombre_exposed        470\n",
    "nombre_recovered    16293\n",
    "Name: 724, dtype: int64"
   ]
  },
  {
   "cell_type": "markdown",
   "id": "3e38742d",
   "metadata": {},
   "source": [
    "nombre_infected       958\n",
    "nombre_sain          2289\n",
    "nombre_exposed        483\n",
    "nombre_recovered    16270\n",
    "Name: 725, dtype: int64"
   ]
  },
  {
   "cell_type": "markdown",
   "id": "f7f126b2",
   "metadata": {},
   "source": [
    "nombre_infected       955\n",
    "nombre_sain          2251\n",
    "nombre_exposed        522\n",
    "nombre_recovered    16272\n",
    "Name: 726, dtype: int64"
   ]
  },
  {
   "cell_type": "markdown",
   "id": "fd15fc6a",
   "metadata": {},
   "source": [
    "nombre_infected       936\n",
    "nombre_sain          2268\n",
    "nombre_exposed        530\n",
    "nombre_recovered    16266\n",
    "Name: 727, dtype: int64"
   ]
  },
  {
   "cell_type": "markdown",
   "id": "a4717d56",
   "metadata": {},
   "source": [
    "nombre_infected       951\n",
    "nombre_sain          2260\n",
    "nombre_exposed        515\n",
    "nombre_recovered    16274\n",
    "Name: 728, dtype: int64"
   ]
  },
  {
   "cell_type": "markdown",
   "id": "6dba72fd",
   "metadata": {},
   "source": [
    "nombre_infected       970\n",
    "nombre_sain          2242\n",
    "nombre_exposed        517\n",
    "nombre_recovered    16271\n",
    "Name: 729, dtype: int64"
   ]
  },
  {
   "cell_type": "markdown",
   "id": "791de85d",
   "metadata": {},
   "source": [
    "nombre_infected       990\n",
    "nombre_sain          2233\n",
    "nombre_exposed        513\n",
    "nombre_recovered    16264\n",
    "Name: 730, dtype: int64"
   ]
  }
 ],
 "metadata": {},
 "nbformat": 4,
 "nbformat_minor": 5
}
