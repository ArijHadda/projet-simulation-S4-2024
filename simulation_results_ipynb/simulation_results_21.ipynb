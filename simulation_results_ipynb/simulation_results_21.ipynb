{
 "cells": [
  {
   "cell_type": "markdown",
   "id": "4c8fdde9",
   "metadata": {},
   "source": [
    "nombre_infected        20\n",
    "nombre_sain         19980\n",
    "nombre_exposed          0\n",
    "nombre_recovered        0\n",
    "Name: 0, dtype: int64"
   ]
  },
  {
   "cell_type": "markdown",
   "id": "42555bbd",
   "metadata": {},
   "source": [
    "nombre_infected        20\n",
    "nombre_sain         19971\n",
    "nombre_exposed          9\n",
    "nombre_recovered        0\n",
    "Name: 1, dtype: int64"
   ]
  },
  {
   "cell_type": "markdown",
   "id": "669ec262",
   "metadata": {},
   "source": [
    "nombre_infected        20\n",
    "nombre_sain         19950\n",
    "nombre_exposed         30\n",
    "nombre_recovered        0\n",
    "Name: 2, dtype: int64"
   ]
  },
  {
   "cell_type": "markdown",
   "id": "59a9bc6a",
   "metadata": {},
   "source": [
    "nombre_infected        23\n",
    "nombre_sain         19921\n",
    "nombre_exposed         56\n",
    "nombre_recovered        0\n",
    "Name: 3, dtype: int64"
   ]
  },
  {
   "cell_type": "markdown",
   "id": "da5d7c7f",
   "metadata": {},
   "source": [
    "nombre_infected        34\n",
    "nombre_sain         19874\n",
    "nombre_exposed         92\n",
    "nombre_recovered        0\n",
    "Name: 4, dtype: int64"
   ]
  },
  {
   "cell_type": "markdown",
   "id": "d1ddda60",
   "metadata": {},
   "source": [
    "nombre_infected        36\n",
    "nombre_sain         19828\n",
    "nombre_exposed        124\n",
    "nombre_recovered       12\n",
    "Name: 5, dtype: int64"
   ]
  },
  {
   "cell_type": "markdown",
   "id": "8035ad3f",
   "metadata": {},
   "source": [
    "nombre_infected        53\n",
    "nombre_sain         19778\n",
    "nombre_exposed        156\n",
    "nombre_recovered       13\n",
    "Name: 6, dtype: int64"
   ]
  },
  {
   "cell_type": "markdown",
   "id": "57ea7902",
   "metadata": {},
   "source": [
    "nombre_infected        81\n",
    "nombre_sain         19693\n",
    "nombre_exposed        212\n",
    "nombre_recovered       14\n",
    "Name: 7, dtype: int64"
   ]
  },
  {
   "cell_type": "markdown",
   "id": "b4438e53",
   "metadata": {},
   "source": [
    "nombre_infected       107\n",
    "nombre_sain         19595\n",
    "nombre_exposed        280\n",
    "nombre_recovered       18\n",
    "Name: 8, dtype: int64"
   ]
  },
  {
   "cell_type": "markdown",
   "id": "8b365f83",
   "metadata": {},
   "source": [
    "nombre_infected       148\n",
    "nombre_sain         19428\n",
    "nombre_exposed        400\n",
    "nombre_recovered       24\n",
    "Name: 9, dtype: int64"
   ]
  },
  {
   "cell_type": "markdown",
   "id": "3370bec9",
   "metadata": {},
   "source": [
    "nombre_infected       197\n",
    "nombre_sain         19211\n",
    "nombre_exposed        558\n",
    "nombre_recovered       34\n",
    "Name: 10, dtype: int64"
   ]
  },
  {
   "cell_type": "markdown",
   "id": "c85a2f50",
   "metadata": {},
   "source": [
    "nombre_infected       271\n",
    "nombre_sain         18930\n",
    "nombre_exposed        753\n",
    "nombre_recovered       46\n",
    "Name: 11, dtype: int64"
   ]
  },
  {
   "cell_type": "markdown",
   "id": "d721fa1b",
   "metadata": {},
   "source": [
    "nombre_infected       412\n",
    "nombre_sain         18530\n",
    "nombre_exposed        995\n",
    "nombre_recovered       63\n",
    "Name: 12, dtype: int64"
   ]
  },
  {
   "cell_type": "markdown",
   "id": "123631e7",
   "metadata": {},
   "source": [
    "nombre_infected       535\n",
    "nombre_sain         17968\n",
    "nombre_exposed       1404\n",
    "nombre_recovered       93\n",
    "Name: 13, dtype: int64"
   ]
  },
  {
   "cell_type": "markdown",
   "id": "7dab7183",
   "metadata": {},
   "source": [
    "nombre_infected       739\n",
    "nombre_sain         17302\n",
    "nombre_exposed       1820\n",
    "nombre_recovered      139\n",
    "Name: 14, dtype: int64"
   ]
  },
  {
   "cell_type": "markdown",
   "id": "39994391",
   "metadata": {},
   "source": [
    "nombre_infected      1025\n",
    "nombre_sain         16414\n",
    "nombre_exposed       2367\n",
    "nombre_recovered      194\n",
    "Name: 15, dtype: int64"
   ]
  },
  {
   "cell_type": "markdown",
   "id": "324d8ae2",
   "metadata": {},
   "source": [
    "nombre_infected      1371\n",
    "nombre_sain         15281\n",
    "nombre_exposed       3076\n",
    "nombre_recovered      272\n",
    "Name: 16, dtype: int64"
   ]
  },
  {
   "cell_type": "markdown",
   "id": "bd12614d",
   "metadata": {},
   "source": [
    "nombre_infected      1824\n",
    "nombre_sain         13885\n",
    "nombre_exposed       3899\n",
    "nombre_recovered      392\n",
    "Name: 17, dtype: int64"
   ]
  },
  {
   "cell_type": "markdown",
   "id": "e14e3f71",
   "metadata": {},
   "source": [
    "nombre_infected      2372\n",
    "nombre_sain         12322\n",
    "nombre_exposed       4762\n",
    "nombre_recovered      544\n",
    "Name: 18, dtype: int64"
   ]
  },
  {
   "cell_type": "markdown",
   "id": "8796bc40",
   "metadata": {},
   "source": [
    "nombre_infected      3082\n",
    "nombre_sain         10580\n",
    "nombre_exposed       5606\n",
    "nombre_recovered      732\n",
    "Name: 19, dtype: int64"
   ]
  },
  {
   "cell_type": "markdown",
   "id": "e7a2a00a",
   "metadata": {},
   "source": [
    "nombre_infected     3948\n",
    "nombre_sain         8820\n",
    "nombre_exposed      6232\n",
    "nombre_recovered    1000\n",
    "Name: 20, dtype: int64"
   ]
  },
  {
   "cell_type": "markdown",
   "id": "d03b3272",
   "metadata": {},
   "source": [
    "nombre_infected     4872\n",
    "nombre_sain         6930\n",
    "nombre_exposed      6874\n",
    "nombre_recovered    1324\n",
    "Name: 21, dtype: int64"
   ]
  },
  {
   "cell_type": "markdown",
   "id": "dbb40b0e",
   "metadata": {},
   "source": [
    "nombre_infected     5840\n",
    "nombre_sain         5300\n",
    "nombre_exposed      7115\n",
    "nombre_recovered    1745\n",
    "Name: 22, dtype: int64"
   ]
  },
  {
   "cell_type": "markdown",
   "id": "c3645d1c",
   "metadata": {},
   "source": [
    "nombre_infected     6868\n",
    "nombre_sain         3867\n",
    "nombre_exposed      6948\n",
    "nombre_recovered    2317\n",
    "Name: 23, dtype: int64"
   ]
  },
  {
   "cell_type": "markdown",
   "id": "e016be43",
   "metadata": {},
   "source": [
    "nombre_infected     7723\n",
    "nombre_sain         2782\n",
    "nombre_exposed      6532\n",
    "nombre_recovered    2963\n",
    "Name: 24, dtype: int64"
   ]
  },
  {
   "cell_type": "markdown",
   "id": "16ea260e",
   "metadata": {},
   "source": [
    "nombre_infected     8488\n",
    "nombre_sain         1924\n",
    "nombre_exposed      5810\n",
    "nombre_recovered    3778\n",
    "Name: 25, dtype: int64"
   ]
  },
  {
   "cell_type": "markdown",
   "id": "2199f52a",
   "metadata": {},
   "source": [
    "nombre_infected     9030\n",
    "nombre_sain         1297\n",
    "nombre_exposed      5031\n",
    "nombre_recovered    4642\n",
    "Name: 26, dtype: int64"
   ]
  },
  {
   "cell_type": "markdown",
   "id": "2ecdc676",
   "metadata": {},
   "source": [
    "nombre_infected     9255\n",
    "nombre_sain          853\n",
    "nombre_exposed      4253\n",
    "nombre_recovered    5639\n",
    "Name: 27, dtype: int64"
   ]
  },
  {
   "cell_type": "markdown",
   "id": "08da4d82",
   "metadata": {},
   "source": [
    "nombre_infected     9231\n",
    "nombre_sain          571\n",
    "nombre_exposed      3514\n",
    "nombre_recovered    6684\n",
    "Name: 28, dtype: int64"
   ]
  },
  {
   "cell_type": "markdown",
   "id": "5baa9135",
   "metadata": {},
   "source": [
    "nombre_infected     9085\n",
    "nombre_sain          373\n",
    "nombre_exposed      2780\n",
    "nombre_recovered    7762\n",
    "Name: 29, dtype: int64"
   ]
  },
  {
   "cell_type": "markdown",
   "id": "0d86e7c8",
   "metadata": {},
   "source": [
    "nombre_infected     8819\n",
    "nombre_sain          255\n",
    "nombre_exposed      2138\n",
    "nombre_recovered    8788\n",
    "Name: 30, dtype: int64"
   ]
  },
  {
   "cell_type": "markdown",
   "id": "72803eb5",
   "metadata": {},
   "source": [
    "nombre_infected     8271\n",
    "nombre_sain          178\n",
    "nombre_exposed      1655\n",
    "nombre_recovered    9896\n",
    "Name: 31, dtype: int64"
   ]
  },
  {
   "cell_type": "markdown",
   "id": "4573ac2e",
   "metadata": {},
   "source": [
    "nombre_infected      7735\n",
    "nombre_sain           138\n",
    "nombre_exposed       1226\n",
    "nombre_recovered    10901\n",
    "Name: 32, dtype: int64"
   ]
  },
  {
   "cell_type": "markdown",
   "id": "1c443392",
   "metadata": {},
   "source": [
    "nombre_infected      7133\n",
    "nombre_sain           111\n",
    "nombre_exposed        919\n",
    "nombre_recovered    11837\n",
    "Name: 33, dtype: int64"
   ]
  },
  {
   "cell_type": "markdown",
   "id": "e656d01a",
   "metadata": {},
   "source": [
    "nombre_infected      6516\n",
    "nombre_sain            88\n",
    "nombre_exposed        682\n",
    "nombre_recovered    12714\n",
    "Name: 34, dtype: int64"
   ]
  },
  {
   "cell_type": "markdown",
   "id": "bb9c7cae",
   "metadata": {},
   "source": [
    "nombre_infected      5849\n",
    "nombre_sain            80\n",
    "nombre_exposed        522\n",
    "nombre_recovered    13549\n",
    "Name: 35, dtype: int64"
   ]
  },
  {
   "cell_type": "markdown",
   "id": "18829006",
   "metadata": {},
   "source": [
    "nombre_infected      5211\n",
    "nombre_sain            98\n",
    "nombre_exposed        389\n",
    "nombre_recovered    14302\n",
    "Name: 36, dtype: int64"
   ]
  },
  {
   "cell_type": "markdown",
   "id": "14dbdaf4",
   "metadata": {},
   "source": [
    "nombre_infected      4627\n",
    "nombre_sain           116\n",
    "nombre_exposed        292\n",
    "nombre_recovered    14965\n",
    "Name: 37, dtype: int64"
   ]
  },
  {
   "cell_type": "markdown",
   "id": "e5601f27",
   "metadata": {},
   "source": [
    "nombre_infected      4111\n",
    "nombre_sain           131\n",
    "nombre_exposed        241\n",
    "nombre_recovered    15517\n",
    "Name: 38, dtype: int64"
   ]
  },
  {
   "cell_type": "markdown",
   "id": "8757935e",
   "metadata": {},
   "source": [
    "nombre_infected      3629\n",
    "nombre_sain           142\n",
    "nombre_exposed        202\n",
    "nombre_recovered    16027\n",
    "Name: 39, dtype: int64"
   ]
  },
  {
   "cell_type": "markdown",
   "id": "091fdff9",
   "metadata": {},
   "source": [
    "nombre_infected      3227\n",
    "nombre_sain           157\n",
    "nombre_exposed        175\n",
    "nombre_recovered    16441\n",
    "Name: 40, dtype: int64"
   ]
  },
  {
   "cell_type": "markdown",
   "id": "78724037",
   "metadata": {},
   "source": [
    "nombre_infected      2832\n",
    "nombre_sain           187\n",
    "nombre_exposed        157\n",
    "nombre_recovered    16824\n",
    "Name: 41, dtype: int64"
   ]
  },
  {
   "cell_type": "markdown",
   "id": "0ab308f5",
   "metadata": {},
   "source": [
    "nombre_infected      2515\n",
    "nombre_sain           200\n",
    "nombre_exposed        150\n",
    "nombre_recovered    17135\n",
    "Name: 42, dtype: int64"
   ]
  },
  {
   "cell_type": "markdown",
   "id": "a4793b6a",
   "metadata": {},
   "source": [
    "nombre_infected      2241\n",
    "nombre_sain           215\n",
    "nombre_exposed        124\n",
    "nombre_recovered    17420\n",
    "Name: 43, dtype: int64"
   ]
  },
  {
   "cell_type": "markdown",
   "id": "845dcb90",
   "metadata": {},
   "source": [
    "nombre_infected      1964\n",
    "nombre_sain           234\n",
    "nombre_exposed        120\n",
    "nombre_recovered    17682\n",
    "Name: 44, dtype: int64"
   ]
  },
  {
   "cell_type": "markdown",
   "id": "19b9300d",
   "metadata": {},
   "source": [
    "nombre_infected      1717\n",
    "nombre_sain           265\n",
    "nombre_exposed        100\n",
    "nombre_recovered    17918\n",
    "Name: 45, dtype: int64"
   ]
  },
  {
   "cell_type": "markdown",
   "id": "6f3229ca",
   "metadata": {},
   "source": [
    "nombre_infected      1515\n",
    "nombre_sain           273\n",
    "nombre_exposed         96\n",
    "nombre_recovered    18116\n",
    "Name: 46, dtype: int64"
   ]
  },
  {
   "cell_type": "markdown",
   "id": "905e27db",
   "metadata": {},
   "source": [
    "nombre_infected      1338\n",
    "nombre_sain           298\n",
    "nombre_exposed         94\n",
    "nombre_recovered    18270\n",
    "Name: 47, dtype: int64"
   ]
  },
  {
   "cell_type": "markdown",
   "id": "af7e8900",
   "metadata": {},
   "source": [
    "nombre_infected      1160\n",
    "nombre_sain           325\n",
    "nombre_exposed         97\n",
    "nombre_recovered    18418\n",
    "Name: 48, dtype: int64"
   ]
  },
  {
   "cell_type": "markdown",
   "id": "46e79cc6",
   "metadata": {},
   "source": [
    "nombre_infected      1047\n",
    "nombre_sain           362\n",
    "nombre_exposed         95\n",
    "nombre_recovered    18496\n",
    "Name: 49, dtype: int64"
   ]
  },
  {
   "cell_type": "markdown",
   "id": "c856b1a8",
   "metadata": {},
   "source": [
    "nombre_infected       928\n",
    "nombre_sain           402\n",
    "nombre_exposed        100\n",
    "nombre_recovered    18570\n",
    "Name: 50, dtype: int64"
   ]
  },
  {
   "cell_type": "markdown",
   "id": "10661a0d",
   "metadata": {},
   "source": [
    "nombre_infected       822\n",
    "nombre_sain           437\n",
    "nombre_exposed         95\n",
    "nombre_recovered    18646\n",
    "Name: 51, dtype: int64"
   ]
  },
  {
   "cell_type": "markdown",
   "id": "7b96d836",
   "metadata": {},
   "source": [
    "nombre_infected       728\n",
    "nombre_sain           473\n",
    "nombre_exposed         92\n",
    "nombre_recovered    18707\n",
    "Name: 52, dtype: int64"
   ]
  },
  {
   "cell_type": "markdown",
   "id": "43355230",
   "metadata": {},
   "source": [
    "nombre_infected       654\n",
    "nombre_sain           515\n",
    "nombre_exposed         88\n",
    "nombre_recovered    18743\n",
    "Name: 53, dtype: int64"
   ]
  },
  {
   "cell_type": "markdown",
   "id": "fc153cc1",
   "metadata": {},
   "source": [
    "nombre_infected       563\n",
    "nombre_sain           550\n",
    "nombre_exposed         80\n",
    "nombre_recovered    18807\n",
    "Name: 54, dtype: int64"
   ]
  },
  {
   "cell_type": "markdown",
   "id": "e96fa911",
   "metadata": {},
   "source": [
    "nombre_infected       498\n",
    "nombre_sain           597\n",
    "nombre_exposed         83\n",
    "nombre_recovered    18822\n",
    "Name: 55, dtype: int64"
   ]
  },
  {
   "cell_type": "markdown",
   "id": "c916b966",
   "metadata": {},
   "source": [
    "nombre_infected       460\n",
    "nombre_sain           654\n",
    "nombre_exposed         81\n",
    "nombre_recovered    18805\n",
    "Name: 56, dtype: int64"
   ]
  },
  {
   "cell_type": "markdown",
   "id": "22e12c20",
   "metadata": {},
   "source": [
    "nombre_infected       413\n",
    "nombre_sain           696\n",
    "nombre_exposed         75\n",
    "nombre_recovered    18816\n",
    "Name: 57, dtype: int64"
   ]
  },
  {
   "cell_type": "markdown",
   "id": "2751ac50",
   "metadata": {},
   "source": [
    "nombre_infected       364\n",
    "nombre_sain           762\n",
    "nombre_exposed         76\n",
    "nombre_recovered    18798\n",
    "Name: 58, dtype: int64"
   ]
  },
  {
   "cell_type": "markdown",
   "id": "2230032a",
   "metadata": {},
   "source": [
    "nombre_infected       319\n",
    "nombre_sain           816\n",
    "nombre_exposed         81\n",
    "nombre_recovered    18784\n",
    "Name: 59, dtype: int64"
   ]
  },
  {
   "cell_type": "markdown",
   "id": "1279a4ec",
   "metadata": {},
   "source": [
    "nombre_infected       285\n",
    "nombre_sain           874\n",
    "nombre_exposed         74\n",
    "nombre_recovered    18767\n",
    "Name: 60, dtype: int64"
   ]
  },
  {
   "cell_type": "markdown",
   "id": "600f399d",
   "metadata": {},
   "source": [
    "nombre_infected       268\n",
    "nombre_sain           935\n",
    "nombre_exposed         69\n",
    "nombre_recovered    18728\n",
    "Name: 61, dtype: int64"
   ]
  },
  {
   "cell_type": "markdown",
   "id": "b82c372e",
   "metadata": {},
   "source": [
    "nombre_infected       247\n",
    "nombre_sain          1008\n",
    "nombre_exposed         63\n",
    "nombre_recovered    18682\n",
    "Name: 62, dtype: int64"
   ]
  },
  {
   "cell_type": "markdown",
   "id": "583c588e",
   "metadata": {},
   "source": [
    "nombre_infected       215\n",
    "nombre_sain          1084\n",
    "nombre_exposed         66\n",
    "nombre_recovered    18635\n",
    "Name: 63, dtype: int64"
   ]
  },
  {
   "cell_type": "markdown",
   "id": "83c7e666",
   "metadata": {},
   "source": [
    "nombre_infected       223\n",
    "nombre_sain          1150\n",
    "nombre_exposed         53\n",
    "nombre_recovered    18574\n",
    "Name: 64, dtype: int64"
   ]
  },
  {
   "cell_type": "markdown",
   "id": "3f913b37",
   "metadata": {},
   "source": [
    "nombre_infected       209\n",
    "nombre_sain          1228\n",
    "nombre_exposed         57\n",
    "nombre_recovered    18506\n",
    "Name: 65, dtype: int64"
   ]
  },
  {
   "cell_type": "markdown",
   "id": "439137bd",
   "metadata": {},
   "source": [
    "nombre_infected       194\n",
    "nombre_sain          1279\n",
    "nombre_exposed         67\n",
    "nombre_recovered    18460\n",
    "Name: 66, dtype: int64"
   ]
  },
  {
   "cell_type": "markdown",
   "id": "653f984b",
   "metadata": {},
   "source": [
    "nombre_infected       187\n",
    "nombre_sain          1345\n",
    "nombre_exposed         69\n",
    "nombre_recovered    18399\n",
    "Name: 67, dtype: int64"
   ]
  },
  {
   "cell_type": "markdown",
   "id": "80d901bb",
   "metadata": {},
   "source": [
    "nombre_infected       183\n",
    "nombre_sain          1414\n",
    "nombre_exposed         75\n",
    "nombre_recovered    18328\n",
    "Name: 68, dtype: int64"
   ]
  },
  {
   "cell_type": "markdown",
   "id": "8b9946b0",
   "metadata": {},
   "source": [
    "nombre_infected       167\n",
    "nombre_sain          1480\n",
    "nombre_exposed         81\n",
    "nombre_recovered    18272\n",
    "Name: 69, dtype: int64"
   ]
  },
  {
   "cell_type": "markdown",
   "id": "560482a1",
   "metadata": {},
   "source": [
    "nombre_infected       166\n",
    "nombre_sain          1548\n",
    "nombre_exposed         76\n",
    "nombre_recovered    18210\n",
    "Name: 70, dtype: int64"
   ]
  },
  {
   "cell_type": "markdown",
   "id": "f7f912c1",
   "metadata": {},
   "source": [
    "nombre_infected       176\n",
    "nombre_sain          1604\n",
    "nombre_exposed         63\n",
    "nombre_recovered    18157\n",
    "Name: 71, dtype: int64"
   ]
  },
  {
   "cell_type": "markdown",
   "id": "9a644dbe",
   "metadata": {},
   "source": [
    "nombre_infected       179\n",
    "nombre_sain          1665\n",
    "nombre_exposed         64\n",
    "nombre_recovered    18092\n",
    "Name: 72, dtype: int64"
   ]
  },
  {
   "cell_type": "markdown",
   "id": "adf3fe0d",
   "metadata": {},
   "source": [
    "nombre_infected       179\n",
    "nombre_sain          1715\n",
    "nombre_exposed         65\n",
    "nombre_recovered    18041\n",
    "Name: 73, dtype: int64"
   ]
  },
  {
   "cell_type": "markdown",
   "id": "39ed16da",
   "metadata": {},
   "source": [
    "nombre_infected       164\n",
    "nombre_sain          1755\n",
    "nombre_exposed         70\n",
    "nombre_recovered    18011\n",
    "Name: 74, dtype: int64"
   ]
  },
  {
   "cell_type": "markdown",
   "id": "c53a7d94",
   "metadata": {},
   "source": [
    "nombre_infected       158\n",
    "nombre_sain          1800\n",
    "nombre_exposed         62\n",
    "nombre_recovered    17980\n",
    "Name: 75, dtype: int64"
   ]
  },
  {
   "cell_type": "markdown",
   "id": "5b756bde",
   "metadata": {},
   "source": [
    "nombre_infected       157\n",
    "nombre_sain          1846\n",
    "nombre_exposed         64\n",
    "nombre_recovered    17933\n",
    "Name: 76, dtype: int64"
   ]
  },
  {
   "cell_type": "markdown",
   "id": "2ff50bf4",
   "metadata": {},
   "source": [
    "nombre_infected       162\n",
    "nombre_sain          1882\n",
    "nombre_exposed         67\n",
    "nombre_recovered    17889\n",
    "Name: 77, dtype: int64"
   ]
  },
  {
   "cell_type": "markdown",
   "id": "0a6b53d2",
   "metadata": {},
   "source": [
    "nombre_infected       161\n",
    "nombre_sain          1917\n",
    "nombre_exposed         78\n",
    "nombre_recovered    17844\n",
    "Name: 78, dtype: int64"
   ]
  },
  {
   "cell_type": "markdown",
   "id": "e3483fbe",
   "metadata": {},
   "source": [
    "nombre_infected       153\n",
    "nombre_sain          1939\n",
    "nombre_exposed         73\n",
    "nombre_recovered    17835\n",
    "Name: 79, dtype: int64"
   ]
  },
  {
   "cell_type": "markdown",
   "id": "489ea110",
   "metadata": {},
   "source": [
    "nombre_infected       146\n",
    "nombre_sain          1965\n",
    "nombre_exposed        100\n",
    "nombre_recovered    17789\n",
    "Name: 80, dtype: int64"
   ]
  },
  {
   "cell_type": "markdown",
   "id": "8a39e1d5",
   "metadata": {},
   "source": [
    "nombre_infected       141\n",
    "nombre_sain          2005\n",
    "nombre_exposed        100\n",
    "nombre_recovered    17754\n",
    "Name: 81, dtype: int64"
   ]
  },
  {
   "cell_type": "markdown",
   "id": "39de966b",
   "metadata": {},
   "source": [
    "nombre_infected       139\n",
    "nombre_sain          2044\n",
    "nombre_exposed         91\n",
    "nombre_recovered    17726\n",
    "Name: 82, dtype: int64"
   ]
  },
  {
   "cell_type": "markdown",
   "id": "168d6ca2",
   "metadata": {},
   "source": [
    "nombre_infected       138\n",
    "nombre_sain          2096\n",
    "nombre_exposed         87\n",
    "nombre_recovered    17679\n",
    "Name: 83, dtype: int64"
   ]
  },
  {
   "cell_type": "markdown",
   "id": "6ea8fe00",
   "metadata": {},
   "source": [
    "nombre_infected       141\n",
    "nombre_sain          2133\n",
    "nombre_exposed         85\n",
    "nombre_recovered    17641\n",
    "Name: 84, dtype: int64"
   ]
  },
  {
   "cell_type": "markdown",
   "id": "113208b1",
   "metadata": {},
   "source": [
    "nombre_infected       146\n",
    "nombre_sain          2177\n",
    "nombre_exposed         79\n",
    "nombre_recovered    17598\n",
    "Name: 85, dtype: int64"
   ]
  },
  {
   "cell_type": "markdown",
   "id": "09e5d4bf",
   "metadata": {},
   "source": [
    "nombre_infected       152\n",
    "nombre_sain          2204\n",
    "nombre_exposed         75\n",
    "nombre_recovered    17569\n",
    "Name: 86, dtype: int64"
   ]
  },
  {
   "cell_type": "markdown",
   "id": "dea1c24c",
   "metadata": {},
   "source": [
    "nombre_infected       140\n",
    "nombre_sain          2245\n",
    "nombre_exposed         78\n",
    "nombre_recovered    17537\n",
    "Name: 87, dtype: int64"
   ]
  },
  {
   "cell_type": "markdown",
   "id": "31740c12",
   "metadata": {},
   "source": [
    "nombre_infected       142\n",
    "nombre_sain          2280\n",
    "nombre_exposed         71\n",
    "nombre_recovered    17507\n",
    "Name: 88, dtype: int64"
   ]
  },
  {
   "cell_type": "markdown",
   "id": "6273d764",
   "metadata": {},
   "source": [
    "nombre_infected       139\n",
    "nombre_sain          2327\n",
    "nombre_exposed         68\n",
    "nombre_recovered    17466\n",
    "Name: 89, dtype: int64"
   ]
  },
  {
   "cell_type": "markdown",
   "id": "de53b3c9",
   "metadata": {},
   "source": [
    "nombre_infected       145\n",
    "nombre_sain          2348\n",
    "nombre_exposed         73\n",
    "nombre_recovered    17434\n",
    "Name: 90, dtype: int64"
   ]
  },
  {
   "cell_type": "markdown",
   "id": "90bf373a",
   "metadata": {},
   "source": [
    "nombre_infected       146\n",
    "nombre_sain          2371\n",
    "nombre_exposed         83\n",
    "nombre_recovered    17400\n",
    "Name: 91, dtype: int64"
   ]
  },
  {
   "cell_type": "markdown",
   "id": "28fc227b",
   "metadata": {},
   "source": [
    "nombre_infected       136\n",
    "nombre_sain          2417\n",
    "nombre_exposed         95\n",
    "nombre_recovered    17352\n",
    "Name: 92, dtype: int64"
   ]
  },
  {
   "cell_type": "markdown",
   "id": "3a83838a",
   "metadata": {},
   "source": [
    "nombre_infected       135\n",
    "nombre_sain          2449\n",
    "nombre_exposed         86\n",
    "nombre_recovered    17330\n",
    "Name: 93, dtype: int64"
   ]
  },
  {
   "cell_type": "markdown",
   "id": "677036f9",
   "metadata": {},
   "source": [
    "nombre_infected       137\n",
    "nombre_sain          2490\n",
    "nombre_exposed         86\n",
    "nombre_recovered    17287\n",
    "Name: 94, dtype: int64"
   ]
  },
  {
   "cell_type": "markdown",
   "id": "cf8dad9e",
   "metadata": {},
   "source": [
    "nombre_infected       137\n",
    "nombre_sain          2527\n",
    "nombre_exposed         92\n",
    "nombre_recovered    17244\n",
    "Name: 95, dtype: int64"
   ]
  },
  {
   "cell_type": "markdown",
   "id": "e68824b3",
   "metadata": {},
   "source": [
    "nombre_infected       139\n",
    "nombre_sain          2566\n",
    "nombre_exposed         93\n",
    "nombre_recovered    17202\n",
    "Name: 96, dtype: int64"
   ]
  },
  {
   "cell_type": "markdown",
   "id": "14d0f251",
   "metadata": {},
   "source": [
    "nombre_infected       147\n",
    "nombre_sain          2602\n",
    "nombre_exposed        100\n",
    "nombre_recovered    17151\n",
    "Name: 97, dtype: int64"
   ]
  },
  {
   "cell_type": "markdown",
   "id": "69903677",
   "metadata": {},
   "source": [
    "nombre_infected       155\n",
    "nombre_sain          2639\n",
    "nombre_exposed        101\n",
    "nombre_recovered    17105\n",
    "Name: 98, dtype: int64"
   ]
  },
  {
   "cell_type": "markdown",
   "id": "8dc0e8e3",
   "metadata": {},
   "source": [
    "nombre_infected       159\n",
    "nombre_sain          2668\n",
    "nombre_exposed        116\n",
    "nombre_recovered    17057\n",
    "Name: 99, dtype: int64"
   ]
  },
  {
   "cell_type": "markdown",
   "id": "5f6a2c82",
   "metadata": {},
   "source": [
    "nombre_infected       156\n",
    "nombre_sain          2700\n",
    "nombre_exposed        126\n",
    "nombre_recovered    17018\n",
    "Name: 100, dtype: int64"
   ]
  },
  {
   "cell_type": "markdown",
   "id": "00d6b9c9",
   "metadata": {},
   "source": [
    "nombre_infected       164\n",
    "nombre_sain          2741\n",
    "nombre_exposed        126\n",
    "nombre_recovered    16969\n",
    "Name: 101, dtype: int64"
   ]
  },
  {
   "cell_type": "markdown",
   "id": "7c159a1f",
   "metadata": {},
   "source": [
    "nombre_infected       175\n",
    "nombre_sain          2769\n",
    "nombre_exposed        126\n",
    "nombre_recovered    16930\n",
    "Name: 102, dtype: int64"
   ]
  },
  {
   "cell_type": "markdown",
   "id": "8df6fcbb",
   "metadata": {},
   "source": [
    "nombre_infected       192\n",
    "nombre_sain          2779\n",
    "nombre_exposed        120\n",
    "nombre_recovered    16909\n",
    "Name: 103, dtype: int64"
   ]
  },
  {
   "cell_type": "markdown",
   "id": "f48f7480",
   "metadata": {},
   "source": [
    "nombre_infected       187\n",
    "nombre_sain          2781\n",
    "nombre_exposed        132\n",
    "nombre_recovered    16900\n",
    "Name: 104, dtype: int64"
   ]
  },
  {
   "cell_type": "markdown",
   "id": "92c5ca63",
   "metadata": {},
   "source": [
    "nombre_infected       189\n",
    "nombre_sain          2794\n",
    "nombre_exposed        139\n",
    "nombre_recovered    16878\n",
    "Name: 105, dtype: int64"
   ]
  },
  {
   "cell_type": "markdown",
   "id": "801e185c",
   "metadata": {},
   "source": [
    "nombre_infected       195\n",
    "nombre_sain          2802\n",
    "nombre_exposed        141\n",
    "nombre_recovered    16862\n",
    "Name: 106, dtype: int64"
   ]
  },
  {
   "cell_type": "markdown",
   "id": "1d85cabd",
   "metadata": {},
   "source": [
    "nombre_infected       195\n",
    "nombre_sain          2809\n",
    "nombre_exposed        145\n",
    "nombre_recovered    16851\n",
    "Name: 107, dtype: int64"
   ]
  },
  {
   "cell_type": "markdown",
   "id": "8b4e580e",
   "metadata": {},
   "source": [
    "nombre_infected       200\n",
    "nombre_sain          2818\n",
    "nombre_exposed        146\n",
    "nombre_recovered    16836\n",
    "Name: 108, dtype: int64"
   ]
  },
  {
   "cell_type": "markdown",
   "id": "99abb27f",
   "metadata": {},
   "source": [
    "nombre_infected       196\n",
    "nombre_sain          2841\n",
    "nombre_exposed        141\n",
    "nombre_recovered    16822\n",
    "Name: 109, dtype: int64"
   ]
  },
  {
   "cell_type": "markdown",
   "id": "c6c08330",
   "metadata": {},
   "source": [
    "nombre_infected       200\n",
    "nombre_sain          2857\n",
    "nombre_exposed        147\n",
    "nombre_recovered    16796\n",
    "Name: 110, dtype: int64"
   ]
  },
  {
   "cell_type": "markdown",
   "id": "d5e50c9c",
   "metadata": {},
   "source": [
    "nombre_infected       205\n",
    "nombre_sain          2872\n",
    "nombre_exposed        144\n",
    "nombre_recovered    16779\n",
    "Name: 111, dtype: int64"
   ]
  },
  {
   "cell_type": "markdown",
   "id": "976aa031",
   "metadata": {},
   "source": [
    "nombre_infected       213\n",
    "nombre_sain          2900\n",
    "nombre_exposed        133\n",
    "nombre_recovered    16754\n",
    "Name: 112, dtype: int64"
   ]
  },
  {
   "cell_type": "markdown",
   "id": "3e5b5d6b",
   "metadata": {},
   "source": [
    "nombre_infected       214\n",
    "nombre_sain          2909\n",
    "nombre_exposed        144\n",
    "nombre_recovered    16733\n",
    "Name: 113, dtype: int64"
   ]
  },
  {
   "cell_type": "markdown",
   "id": "f2cbec53",
   "metadata": {},
   "source": [
    "nombre_infected       208\n",
    "nombre_sain          2918\n",
    "nombre_exposed        165\n",
    "nombre_recovered    16709\n",
    "Name: 114, dtype: int64"
   ]
  },
  {
   "cell_type": "markdown",
   "id": "b3406e58",
   "metadata": {},
   "source": [
    "nombre_infected       206\n",
    "nombre_sain          2944\n",
    "nombre_exposed        172\n",
    "nombre_recovered    16678\n",
    "Name: 115, dtype: int64"
   ]
  },
  {
   "cell_type": "markdown",
   "id": "248ab159",
   "metadata": {},
   "source": [
    "nombre_infected       207\n",
    "nombre_sain          2973\n",
    "nombre_exposed        170\n",
    "nombre_recovered    16650\n",
    "Name: 116, dtype: int64"
   ]
  },
  {
   "cell_type": "markdown",
   "id": "1d9ed24c",
   "metadata": {},
   "source": [
    "nombre_infected       230\n",
    "nombre_sain          3015\n",
    "nombre_exposed        150\n",
    "nombre_recovered    16605\n",
    "Name: 117, dtype: int64"
   ]
  },
  {
   "cell_type": "markdown",
   "id": "4c35ee7c",
   "metadata": {},
   "source": [
    "nombre_infected       228\n",
    "nombre_sain          3038\n",
    "nombre_exposed        157\n",
    "nombre_recovered    16577\n",
    "Name: 118, dtype: int64"
   ]
  },
  {
   "cell_type": "markdown",
   "id": "7f300879",
   "metadata": {},
   "source": [
    "nombre_infected       227\n",
    "nombre_sain          3053\n",
    "nombre_exposed        169\n",
    "nombre_recovered    16551\n",
    "Name: 119, dtype: int64"
   ]
  },
  {
   "cell_type": "markdown",
   "id": "0b53e6d2",
   "metadata": {},
   "source": [
    "nombre_infected       238\n",
    "nombre_sain          3093\n",
    "nombre_exposed        175\n",
    "nombre_recovered    16494\n",
    "Name: 120, dtype: int64"
   ]
  },
  {
   "cell_type": "markdown",
   "id": "70a9b408",
   "metadata": {},
   "source": [
    "nombre_infected       234\n",
    "nombre_sain          3146\n",
    "nombre_exposed        183\n",
    "nombre_recovered    16437\n",
    "Name: 121, dtype: int64"
   ]
  },
  {
   "cell_type": "markdown",
   "id": "b7b9dd46",
   "metadata": {},
   "source": [
    "nombre_infected       248\n",
    "nombre_sain          3182\n",
    "nombre_exposed        189\n",
    "nombre_recovered    16381\n",
    "Name: 122, dtype: int64"
   ]
  },
  {
   "cell_type": "markdown",
   "id": "4d0a3973",
   "metadata": {},
   "source": [
    "nombre_infected       261\n",
    "nombre_sain          3233\n",
    "nombre_exposed        196\n",
    "nombre_recovered    16310\n",
    "Name: 123, dtype: int64"
   ]
  },
  {
   "cell_type": "markdown",
   "id": "6d4988ce",
   "metadata": {},
   "source": [
    "nombre_infected       269\n",
    "nombre_sain          3266\n",
    "nombre_exposed        211\n",
    "nombre_recovered    16254\n",
    "Name: 124, dtype: int64"
   ]
  },
  {
   "cell_type": "markdown",
   "id": "4df43289",
   "metadata": {},
   "source": [
    "nombre_infected       281\n",
    "nombre_sain          3291\n",
    "nombre_exposed        235\n",
    "nombre_recovered    16193\n",
    "Name: 125, dtype: int64"
   ]
  },
  {
   "cell_type": "markdown",
   "id": "34a5fae4",
   "metadata": {},
   "source": [
    "nombre_infected       296\n",
    "nombre_sain          3311\n",
    "nombre_exposed        252\n",
    "nombre_recovered    16141\n",
    "Name: 126, dtype: int64"
   ]
  },
  {
   "cell_type": "markdown",
   "id": "c7899854",
   "metadata": {},
   "source": [
    "nombre_infected       323\n",
    "nombre_sain          3331\n",
    "nombre_exposed        265\n",
    "nombre_recovered    16081\n",
    "Name: 127, dtype: int64"
   ]
  },
  {
   "cell_type": "markdown",
   "id": "6b65a868",
   "metadata": {},
   "source": [
    "nombre_infected       336\n",
    "nombre_sain          3353\n",
    "nombre_exposed        262\n",
    "nombre_recovered    16049\n",
    "Name: 128, dtype: int64"
   ]
  },
  {
   "cell_type": "markdown",
   "id": "96b015fb",
   "metadata": {},
   "source": [
    "nombre_infected       367\n",
    "nombre_sain          3362\n",
    "nombre_exposed        267\n",
    "nombre_recovered    16004\n",
    "Name: 129, dtype: int64"
   ]
  },
  {
   "cell_type": "markdown",
   "id": "5c9a6d01",
   "metadata": {},
   "source": [
    "nombre_infected       402\n",
    "nombre_sain          3340\n",
    "nombre_exposed        288\n",
    "nombre_recovered    15970\n",
    "Name: 130, dtype: int64"
   ]
  },
  {
   "cell_type": "markdown",
   "id": "4273250d",
   "metadata": {},
   "source": [
    "nombre_infected       426\n",
    "nombre_sain          3332\n",
    "nombre_exposed        303\n",
    "nombre_recovered    15939\n",
    "Name: 131, dtype: int64"
   ]
  },
  {
   "cell_type": "markdown",
   "id": "54e5aa53",
   "metadata": {},
   "source": [
    "nombre_infected       436\n",
    "nombre_sain          3326\n",
    "nombre_exposed        305\n",
    "nombre_recovered    15933\n",
    "Name: 132, dtype: int64"
   ]
  },
  {
   "cell_type": "markdown",
   "id": "d2115385",
   "metadata": {},
   "source": [
    "nombre_infected       450\n",
    "nombre_sain          3341\n",
    "nombre_exposed        314\n",
    "nombre_recovered    15895\n",
    "Name: 133, dtype: int64"
   ]
  },
  {
   "cell_type": "markdown",
   "id": "2e0fe481",
   "metadata": {},
   "source": [
    "nombre_infected       452\n",
    "nombre_sain          3307\n",
    "nombre_exposed        344\n",
    "nombre_recovered    15897\n",
    "Name: 134, dtype: int64"
   ]
  },
  {
   "cell_type": "markdown",
   "id": "14509986",
   "metadata": {},
   "source": [
    "nombre_infected       468\n",
    "nombre_sain          3272\n",
    "nombre_exposed        362\n",
    "nombre_recovered    15898\n",
    "Name: 135, dtype: int64"
   ]
  },
  {
   "cell_type": "markdown",
   "id": "a72875f0",
   "metadata": {},
   "source": [
    "nombre_infected       490\n",
    "nombre_sain          3244\n",
    "nombre_exposed        373\n",
    "nombre_recovered    15893\n",
    "Name: 136, dtype: int64"
   ]
  },
  {
   "cell_type": "markdown",
   "id": "121644a3",
   "metadata": {},
   "source": [
    "nombre_infected       522\n",
    "nombre_sain          3216\n",
    "nombre_exposed        380\n",
    "nombre_recovered    15882\n",
    "Name: 137, dtype: int64"
   ]
  },
  {
   "cell_type": "markdown",
   "id": "63af4ac2",
   "metadata": {},
   "source": [
    "nombre_infected       573\n",
    "nombre_sain          3167\n",
    "nombre_exposed        384\n",
    "nombre_recovered    15876\n",
    "Name: 138, dtype: int64"
   ]
  },
  {
   "cell_type": "markdown",
   "id": "d0c478b6",
   "metadata": {},
   "source": [
    "nombre_infected       573\n",
    "nombre_sain          3143\n",
    "nombre_exposed        404\n",
    "nombre_recovered    15880\n",
    "Name: 139, dtype: int64"
   ]
  },
  {
   "cell_type": "markdown",
   "id": "c402d54e",
   "metadata": {},
   "source": [
    "nombre_infected       575\n",
    "nombre_sain          3088\n",
    "nombre_exposed        430\n",
    "nombre_recovered    15907\n",
    "Name: 140, dtype: int64"
   ]
  },
  {
   "cell_type": "markdown",
   "id": "6a23bd4a",
   "metadata": {},
   "source": [
    "nombre_infected       600\n",
    "nombre_sain          3036\n",
    "nombre_exposed        438\n",
    "nombre_recovered    15926\n",
    "Name: 141, dtype: int64"
   ]
  },
  {
   "cell_type": "markdown",
   "id": "57c52b94",
   "metadata": {},
   "source": [
    "nombre_infected       625\n",
    "nombre_sain          2983\n",
    "nombre_exposed        448\n",
    "nombre_recovered    15944\n",
    "Name: 142, dtype: int64"
   ]
  },
  {
   "cell_type": "markdown",
   "id": "9c0632d9",
   "metadata": {},
   "source": [
    "nombre_infected       653\n",
    "nombre_sain          2932\n",
    "nombre_exposed        461\n",
    "nombre_recovered    15954\n",
    "Name: 143, dtype: int64"
   ]
  },
  {
   "cell_type": "markdown",
   "id": "4834e289",
   "metadata": {},
   "source": [
    "nombre_infected       676\n",
    "nombre_sain          2880\n",
    "nombre_exposed        474\n",
    "nombre_recovered    15970\n",
    "Name: 144, dtype: int64"
   ]
  },
  {
   "cell_type": "markdown",
   "id": "97361c11",
   "metadata": {},
   "source": [
    "nombre_infected       701\n",
    "nombre_sain          2834\n",
    "nombre_exposed        482\n",
    "nombre_recovered    15983\n",
    "Name: 145, dtype: int64"
   ]
  },
  {
   "cell_type": "markdown",
   "id": "15f1f547",
   "metadata": {},
   "source": [
    "nombre_infected       718\n",
    "nombre_sain          2802\n",
    "nombre_exposed        482\n",
    "nombre_recovered    15998\n",
    "Name: 146, dtype: int64"
   ]
  },
  {
   "cell_type": "markdown",
   "id": "61a2c268",
   "metadata": {},
   "source": [
    "nombre_infected       739\n",
    "nombre_sain          2744\n",
    "nombre_exposed        481\n",
    "nombre_recovered    16036\n",
    "Name: 147, dtype: int64"
   ]
  },
  {
   "cell_type": "markdown",
   "id": "998d6c84",
   "metadata": {},
   "source": [
    "nombre_infected       756\n",
    "nombre_sain          2694\n",
    "nombre_exposed        487\n",
    "nombre_recovered    16063\n",
    "Name: 148, dtype: int64"
   ]
  },
  {
   "cell_type": "markdown",
   "id": "1e8023e1",
   "metadata": {},
   "source": [
    "nombre_infected       754\n",
    "nombre_sain          2664\n",
    "nombre_exposed        502\n",
    "nombre_recovered    16080\n",
    "Name: 149, dtype: int64"
   ]
  },
  {
   "cell_type": "markdown",
   "id": "7acbb90f",
   "metadata": {},
   "source": [
    "nombre_infected       764\n",
    "nombre_sain          2614\n",
    "nombre_exposed        537\n",
    "nombre_recovered    16085\n",
    "Name: 150, dtype: int64"
   ]
  },
  {
   "cell_type": "markdown",
   "id": "fb0c93b9",
   "metadata": {},
   "source": [
    "nombre_infected       786\n",
    "nombre_sain          2592\n",
    "nombre_exposed        528\n",
    "nombre_recovered    16094\n",
    "Name: 151, dtype: int64"
   ]
  },
  {
   "cell_type": "markdown",
   "id": "5bd3be42",
   "metadata": {},
   "source": [
    "nombre_infected       811\n",
    "nombre_sain          2548\n",
    "nombre_exposed        523\n",
    "nombre_recovered    16118\n",
    "Name: 152, dtype: int64"
   ]
  },
  {
   "cell_type": "markdown",
   "id": "d96580eb",
   "metadata": {},
   "source": [
    "nombre_infected       807\n",
    "nombre_sain          2510\n",
    "nombre_exposed        543\n",
    "nombre_recovered    16140\n",
    "Name: 153, dtype: int64"
   ]
  },
  {
   "cell_type": "markdown",
   "id": "13638b06",
   "metadata": {},
   "source": [
    "nombre_infected       830\n",
    "nombre_sain          2487\n",
    "nombre_exposed        545\n",
    "nombre_recovered    16138\n",
    "Name: 154, dtype: int64"
   ]
  },
  {
   "cell_type": "markdown",
   "id": "7d214a1a",
   "metadata": {},
   "source": [
    "nombre_infected       840\n",
    "nombre_sain          2427\n",
    "nombre_exposed        563\n",
    "nombre_recovered    16170\n",
    "Name: 155, dtype: int64"
   ]
  },
  {
   "cell_type": "markdown",
   "id": "2fa32861",
   "metadata": {},
   "source": [
    "nombre_infected       876\n",
    "nombre_sain          2399\n",
    "nombre_exposed        580\n",
    "nombre_recovered    16145\n",
    "Name: 156, dtype: int64"
   ]
  },
  {
   "cell_type": "markdown",
   "id": "27f1e292",
   "metadata": {},
   "source": [
    "nombre_infected       875\n",
    "nombre_sain          2394\n",
    "nombre_exposed        572\n",
    "nombre_recovered    16159\n",
    "Name: 157, dtype: int64"
   ]
  },
  {
   "cell_type": "markdown",
   "id": "65fa6a7c",
   "metadata": {},
   "source": [
    "nombre_infected       900\n",
    "nombre_sain          2354\n",
    "nombre_exposed        564\n",
    "nombre_recovered    16182\n",
    "Name: 158, dtype: int64"
   ]
  },
  {
   "cell_type": "markdown",
   "id": "70f4188e",
   "metadata": {},
   "source": [
    "nombre_infected       901\n",
    "nombre_sain          2301\n",
    "nombre_exposed        568\n",
    "nombre_recovered    16230\n",
    "Name: 159, dtype: int64"
   ]
  },
  {
   "cell_type": "markdown",
   "id": "f742a8b4",
   "metadata": {},
   "source": [
    "nombre_infected       924\n",
    "nombre_sain          2267\n",
    "nombre_exposed        573\n",
    "nombre_recovered    16236\n",
    "Name: 160, dtype: int64"
   ]
  },
  {
   "cell_type": "markdown",
   "id": "1957ba71",
   "metadata": {},
   "source": [
    "nombre_infected       916\n",
    "nombre_sain          2249\n",
    "nombre_exposed        555\n",
    "nombre_recovered    16280\n",
    "Name: 161, dtype: int64"
   ]
  },
  {
   "cell_type": "markdown",
   "id": "3132cb01",
   "metadata": {},
   "source": [
    "nombre_infected       916\n",
    "nombre_sain          2230\n",
    "nombre_exposed        560\n",
    "nombre_recovered    16294\n",
    "Name: 162, dtype: int64"
   ]
  },
  {
   "cell_type": "markdown",
   "id": "7aa9b70f",
   "metadata": {},
   "source": [
    "nombre_infected       931\n",
    "nombre_sain          2181\n",
    "nombre_exposed        558\n",
    "nombre_recovered    16330\n",
    "Name: 163, dtype: int64"
   ]
  },
  {
   "cell_type": "markdown",
   "id": "00464176",
   "metadata": {},
   "source": [
    "nombre_infected       935\n",
    "nombre_sain          2159\n",
    "nombre_exposed        561\n",
    "nombre_recovered    16345\n",
    "Name: 164, dtype: int64"
   ]
  },
  {
   "cell_type": "markdown",
   "id": "44b6dacf",
   "metadata": {},
   "source": [
    "nombre_infected       937\n",
    "nombre_sain          2113\n",
    "nombre_exposed        563\n",
    "nombre_recovered    16387\n",
    "Name: 165, dtype: int64"
   ]
  },
  {
   "cell_type": "markdown",
   "id": "bc59708b",
   "metadata": {},
   "source": [
    "nombre_infected       916\n",
    "nombre_sain          2110\n",
    "nombre_exposed        550\n",
    "nombre_recovered    16424\n",
    "Name: 166, dtype: int64"
   ]
  },
  {
   "cell_type": "markdown",
   "id": "2d559860",
   "metadata": {},
   "source": [
    "nombre_infected       910\n",
    "nombre_sain          2092\n",
    "nombre_exposed        540\n",
    "nombre_recovered    16458\n",
    "Name: 167, dtype: int64"
   ]
  },
  {
   "cell_type": "markdown",
   "id": "9910c803",
   "metadata": {},
   "source": [
    "nombre_infected       907\n",
    "nombre_sain          2096\n",
    "nombre_exposed        523\n",
    "nombre_recovered    16474\n",
    "Name: 168, dtype: int64"
   ]
  },
  {
   "cell_type": "markdown",
   "id": "7e81da3c",
   "metadata": {},
   "source": [
    "nombre_infected       898\n",
    "nombre_sain          2079\n",
    "nombre_exposed        521\n",
    "nombre_recovered    16502\n",
    "Name: 169, dtype: int64"
   ]
  },
  {
   "cell_type": "markdown",
   "id": "3c8ebd8f",
   "metadata": {},
   "source": [
    "nombre_infected       887\n",
    "nombre_sain          2062\n",
    "nombre_exposed        517\n",
    "nombre_recovered    16534\n",
    "Name: 170, dtype: int64"
   ]
  },
  {
   "cell_type": "markdown",
   "id": "773a381a",
   "metadata": {},
   "source": [
    "nombre_infected       878\n",
    "nombre_sain          2047\n",
    "nombre_exposed        515\n",
    "nombre_recovered    16560\n",
    "Name: 171, dtype: int64"
   ]
  },
  {
   "cell_type": "markdown",
   "id": "e2e56ae6",
   "metadata": {},
   "source": [
    "nombre_infected       877\n",
    "nombre_sain          2029\n",
    "nombre_exposed        514\n",
    "nombre_recovered    16580\n",
    "Name: 172, dtype: int64"
   ]
  },
  {
   "cell_type": "markdown",
   "id": "66d7c348",
   "metadata": {},
   "source": [
    "nombre_infected       870\n",
    "nombre_sain          2026\n",
    "nombre_exposed        509\n",
    "nombre_recovered    16595\n",
    "Name: 173, dtype: int64"
   ]
  },
  {
   "cell_type": "markdown",
   "id": "02030e98",
   "metadata": {},
   "source": [
    "nombre_infected       880\n",
    "nombre_sain          2024\n",
    "nombre_exposed        474\n",
    "nombre_recovered    16622\n",
    "Name: 174, dtype: int64"
   ]
  },
  {
   "cell_type": "markdown",
   "id": "2ce0099a",
   "metadata": {},
   "source": [
    "nombre_infected       871\n",
    "nombre_sain          2032\n",
    "nombre_exposed        461\n",
    "nombre_recovered    16636\n",
    "Name: 175, dtype: int64"
   ]
  },
  {
   "cell_type": "markdown",
   "id": "df54c0c3",
   "metadata": {},
   "source": [
    "nombre_infected       862\n",
    "nombre_sain          2040\n",
    "nombre_exposed        449\n",
    "nombre_recovered    16649\n",
    "Name: 176, dtype: int64"
   ]
  },
  {
   "cell_type": "markdown",
   "id": "1bca9a53",
   "metadata": {},
   "source": [
    "nombre_infected       874\n",
    "nombre_sain          2027\n",
    "nombre_exposed        441\n",
    "nombre_recovered    16658\n",
    "Name: 177, dtype: int64"
   ]
  },
  {
   "cell_type": "markdown",
   "id": "9a504766",
   "metadata": {},
   "source": [
    "nombre_infected       853\n",
    "nombre_sain          1997\n",
    "nombre_exposed        476\n",
    "nombre_recovered    16674\n",
    "Name: 178, dtype: int64"
   ]
  },
  {
   "cell_type": "markdown",
   "id": "43f70bac",
   "metadata": {},
   "source": [
    "nombre_infected       831\n",
    "nombre_sain          1995\n",
    "nombre_exposed        480\n",
    "nombre_recovered    16694\n",
    "Name: 179, dtype: int64"
   ]
  },
  {
   "cell_type": "markdown",
   "id": "6d306630",
   "metadata": {},
   "source": [
    "nombre_infected       824\n",
    "nombre_sain          1993\n",
    "nombre_exposed        486\n",
    "nombre_recovered    16697\n",
    "Name: 180, dtype: int64"
   ]
  },
  {
   "cell_type": "markdown",
   "id": "4ea6e717",
   "metadata": {},
   "source": [
    "nombre_infected       828\n",
    "nombre_sain          1971\n",
    "nombre_exposed        496\n",
    "nombre_recovered    16705\n",
    "Name: 181, dtype: int64"
   ]
  },
  {
   "cell_type": "markdown",
   "id": "a113cad1",
   "metadata": {},
   "source": [
    "nombre_infected       832\n",
    "nombre_sain          1952\n",
    "nombre_exposed        499\n",
    "nombre_recovered    16717\n",
    "Name: 182, dtype: int64"
   ]
  },
  {
   "cell_type": "markdown",
   "id": "37a41165",
   "metadata": {},
   "source": [
    "nombre_infected       836\n",
    "nombre_sain          1960\n",
    "nombre_exposed        484\n",
    "nombre_recovered    16720\n",
    "Name: 183, dtype: int64"
   ]
  },
  {
   "cell_type": "markdown",
   "id": "dea3b466",
   "metadata": {},
   "source": [
    "nombre_infected       853\n",
    "nombre_sain          1965\n",
    "nombre_exposed        464\n",
    "nombre_recovered    16718\n",
    "Name: 184, dtype: int64"
   ]
  },
  {
   "cell_type": "markdown",
   "id": "3637a3b8",
   "metadata": {},
   "source": [
    "nombre_infected       856\n",
    "nombre_sain          1972\n",
    "nombre_exposed        459\n",
    "nombre_recovered    16713\n",
    "Name: 185, dtype: int64"
   ]
  },
  {
   "cell_type": "markdown",
   "id": "1eafe1b9",
   "metadata": {},
   "source": [
    "nombre_infected       845\n",
    "nombre_sain          1994\n",
    "nombre_exposed        456\n",
    "nombre_recovered    16705\n",
    "Name: 186, dtype: int64"
   ]
  },
  {
   "cell_type": "markdown",
   "id": "7657df90",
   "metadata": {},
   "source": [
    "nombre_infected       864\n",
    "nombre_sain          1992\n",
    "nombre_exposed        439\n",
    "nombre_recovered    16705\n",
    "Name: 187, dtype: int64"
   ]
  },
  {
   "cell_type": "markdown",
   "id": "cedf8887",
   "metadata": {},
   "source": [
    "nombre_infected       859\n",
    "nombre_sain          1984\n",
    "nombre_exposed        430\n",
    "nombre_recovered    16727\n",
    "Name: 188, dtype: int64"
   ]
  },
  {
   "cell_type": "markdown",
   "id": "dc25f138",
   "metadata": {},
   "source": [
    "nombre_infected       837\n",
    "nombre_sain          2011\n",
    "nombre_exposed        432\n",
    "nombre_recovered    16720\n",
    "Name: 189, dtype: int64"
   ]
  },
  {
   "cell_type": "markdown",
   "id": "7ba98bfe",
   "metadata": {},
   "source": [
    "nombre_infected       821\n",
    "nombre_sain          2015\n",
    "nombre_exposed        441\n",
    "nombre_recovered    16723\n",
    "Name: 190, dtype: int64"
   ]
  },
  {
   "cell_type": "markdown",
   "id": "0893081d",
   "metadata": {},
   "source": [
    "nombre_infected       796\n",
    "nombre_sain          2027\n",
    "nombre_exposed        440\n",
    "nombre_recovered    16737\n",
    "Name: 191, dtype: int64"
   ]
  },
  {
   "cell_type": "markdown",
   "id": "34e1d496",
   "metadata": {},
   "source": [
    "nombre_infected       815\n",
    "nombre_sain          2032\n",
    "nombre_exposed        428\n",
    "nombre_recovered    16725\n",
    "Name: 192, dtype: int64"
   ]
  },
  {
   "cell_type": "markdown",
   "id": "de152524",
   "metadata": {},
   "source": [
    "nombre_infected       822\n",
    "nombre_sain          2022\n",
    "nombre_exposed        443\n",
    "nombre_recovered    16713\n",
    "Name: 193, dtype: int64"
   ]
  },
  {
   "cell_type": "markdown",
   "id": "d40eef0e",
   "metadata": {},
   "source": [
    "nombre_infected       818\n",
    "nombre_sain          2057\n",
    "nombre_exposed        429\n",
    "nombre_recovered    16696\n",
    "Name: 194, dtype: int64"
   ]
  },
  {
   "cell_type": "markdown",
   "id": "f346b942",
   "metadata": {},
   "source": [
    "nombre_infected       833\n",
    "nombre_sain          2069\n",
    "nombre_exposed        407\n",
    "nombre_recovered    16691\n",
    "Name: 195, dtype: int64"
   ]
  },
  {
   "cell_type": "markdown",
   "id": "0551de37",
   "metadata": {},
   "source": [
    "nombre_infected       816\n",
    "nombre_sain          2063\n",
    "nombre_exposed        439\n",
    "nombre_recovered    16682\n",
    "Name: 196, dtype: int64"
   ]
  },
  {
   "cell_type": "markdown",
   "id": "3b461b19",
   "metadata": {},
   "source": [
    "nombre_infected       810\n",
    "nombre_sain          2073\n",
    "nombre_exposed        412\n",
    "nombre_recovered    16705\n",
    "Name: 197, dtype: int64"
   ]
  },
  {
   "cell_type": "markdown",
   "id": "b5970cd2",
   "metadata": {},
   "source": [
    "nombre_infected       833\n",
    "nombre_sain          2077\n",
    "nombre_exposed        387\n",
    "nombre_recovered    16703\n",
    "Name: 198, dtype: int64"
   ]
  },
  {
   "cell_type": "markdown",
   "id": "93d89a5e",
   "metadata": {},
   "source": [
    "nombre_infected       834\n",
    "nombre_sain          2083\n",
    "nombre_exposed        392\n",
    "nombre_recovered    16691\n",
    "Name: 199, dtype: int64"
   ]
  },
  {
   "cell_type": "markdown",
   "id": "5e2a3e5b",
   "metadata": {},
   "source": [
    "nombre_infected       819\n",
    "nombre_sain          2087\n",
    "nombre_exposed        407\n",
    "nombre_recovered    16687\n",
    "Name: 200, dtype: int64"
   ]
  },
  {
   "cell_type": "markdown",
   "id": "0d0a3331",
   "metadata": {},
   "source": [
    "nombre_infected       820\n",
    "nombre_sain          2076\n",
    "nombre_exposed        413\n",
    "nombre_recovered    16691\n",
    "Name: 201, dtype: int64"
   ]
  },
  {
   "cell_type": "markdown",
   "id": "017f4b63",
   "metadata": {},
   "source": [
    "nombre_infected       822\n",
    "nombre_sain          2084\n",
    "nombre_exposed        432\n",
    "nombre_recovered    16662\n",
    "Name: 202, dtype: int64"
   ]
  },
  {
   "cell_type": "markdown",
   "id": "65a201ca",
   "metadata": {},
   "source": [
    "nombre_infected       840\n",
    "nombre_sain          2097\n",
    "nombre_exposed        426\n",
    "nombre_recovered    16637\n",
    "Name: 203, dtype: int64"
   ]
  },
  {
   "cell_type": "markdown",
   "id": "b46c2d7e",
   "metadata": {},
   "source": [
    "nombre_infected       840\n",
    "nombre_sain          2105\n",
    "nombre_exposed        415\n",
    "nombre_recovered    16640\n",
    "Name: 204, dtype: int64"
   ]
  },
  {
   "cell_type": "markdown",
   "id": "e7a228a7",
   "metadata": {},
   "source": [
    "nombre_infected       826\n",
    "nombre_sain          2122\n",
    "nombre_exposed        419\n",
    "nombre_recovered    16633\n",
    "Name: 205, dtype: int64"
   ]
  },
  {
   "cell_type": "markdown",
   "id": "b31929f4",
   "metadata": {},
   "source": [
    "nombre_infected       833\n",
    "nombre_sain          2112\n",
    "nombre_exposed        427\n",
    "nombre_recovered    16628\n",
    "Name: 206, dtype: int64"
   ]
  },
  {
   "cell_type": "markdown",
   "id": "c2499bb5",
   "metadata": {},
   "source": [
    "nombre_infected       822\n",
    "nombre_sain          2105\n",
    "nombre_exposed        448\n",
    "nombre_recovered    16625\n",
    "Name: 207, dtype: int64"
   ]
  },
  {
   "cell_type": "markdown",
   "id": "55f41967",
   "metadata": {},
   "source": [
    "nombre_infected       833\n",
    "nombre_sain          2107\n",
    "nombre_exposed        450\n",
    "nombre_recovered    16610\n",
    "Name: 208, dtype: int64"
   ]
  },
  {
   "cell_type": "markdown",
   "id": "5f588734",
   "metadata": {},
   "source": [
    "nombre_infected       863\n",
    "nombre_sain          2114\n",
    "nombre_exposed        455\n",
    "nombre_recovered    16568\n",
    "Name: 209, dtype: int64"
   ]
  },
  {
   "cell_type": "markdown",
   "id": "b5bbcba2",
   "metadata": {},
   "source": [
    "nombre_infected       863\n",
    "nombre_sain          2110\n",
    "nombre_exposed        462\n",
    "nombre_recovered    16565\n",
    "Name: 210, dtype: int64"
   ]
  },
  {
   "cell_type": "markdown",
   "id": "a8ce9c14",
   "metadata": {},
   "source": [
    "nombre_infected       875\n",
    "nombre_sain          2107\n",
    "nombre_exposed        465\n",
    "nombre_recovered    16553\n",
    "Name: 211, dtype: int64"
   ]
  },
  {
   "cell_type": "markdown",
   "id": "041043cc",
   "metadata": {},
   "source": [
    "nombre_infected       883\n",
    "nombre_sain          2110\n",
    "nombre_exposed        459\n",
    "nombre_recovered    16548\n",
    "Name: 212, dtype: int64"
   ]
  },
  {
   "cell_type": "markdown",
   "id": "bfde23eb",
   "metadata": {},
   "source": [
    "nombre_infected       897\n",
    "nombre_sain          2110\n",
    "nombre_exposed        444\n",
    "nombre_recovered    16549\n",
    "Name: 213, dtype: int64"
   ]
  },
  {
   "cell_type": "markdown",
   "id": "d0c3c4d7",
   "metadata": {},
   "source": [
    "nombre_infected       908\n",
    "nombre_sain          2104\n",
    "nombre_exposed        456\n",
    "nombre_recovered    16532\n",
    "Name: 214, dtype: int64"
   ]
  },
  {
   "cell_type": "markdown",
   "id": "f6b2892f",
   "metadata": {},
   "source": [
    "nombre_infected       912\n",
    "nombre_sain          2067\n",
    "nombre_exposed        478\n",
    "nombre_recovered    16543\n",
    "Name: 215, dtype: int64"
   ]
  },
  {
   "cell_type": "markdown",
   "id": "f7e4b09e",
   "metadata": {},
   "source": [
    "nombre_infected       926\n",
    "nombre_sain          2061\n",
    "nombre_exposed        476\n",
    "nombre_recovered    16537\n",
    "Name: 216, dtype: int64"
   ]
  },
  {
   "cell_type": "markdown",
   "id": "c3337b06",
   "metadata": {},
   "source": [
    "nombre_infected       914\n",
    "nombre_sain          2042\n",
    "nombre_exposed        490\n",
    "nombre_recovered    16554\n",
    "Name: 217, dtype: int64"
   ]
  },
  {
   "cell_type": "markdown",
   "id": "7474a0bf",
   "metadata": {},
   "source": [
    "nombre_infected       908\n",
    "nombre_sain          2027\n",
    "nombre_exposed        497\n",
    "nombre_recovered    16568\n",
    "Name: 218, dtype: int64"
   ]
  },
  {
   "cell_type": "markdown",
   "id": "7a5c0bdf",
   "metadata": {},
   "source": [
    "nombre_infected       927\n",
    "nombre_sain          2037\n",
    "nombre_exposed        468\n",
    "nombre_recovered    16568\n",
    "Name: 219, dtype: int64"
   ]
  },
  {
   "cell_type": "markdown",
   "id": "98ed8311",
   "metadata": {},
   "source": [
    "nombre_infected       951\n",
    "nombre_sain          2013\n",
    "nombre_exposed        475\n",
    "nombre_recovered    16561\n",
    "Name: 220, dtype: int64"
   ]
  },
  {
   "cell_type": "markdown",
   "id": "ce4fade2",
   "metadata": {},
   "source": [
    "nombre_infected       966\n",
    "nombre_sain          1976\n",
    "nombre_exposed        485\n",
    "nombre_recovered    16573\n",
    "Name: 221, dtype: int64"
   ]
  },
  {
   "cell_type": "markdown",
   "id": "c367eaef",
   "metadata": {},
   "source": [
    "nombre_infected       975\n",
    "nombre_sain          1955\n",
    "nombre_exposed        478\n",
    "nombre_recovered    16592\n",
    "Name: 222, dtype: int64"
   ]
  },
  {
   "cell_type": "markdown",
   "id": "76646d08",
   "metadata": {},
   "source": [
    "nombre_infected       975\n",
    "nombre_sain          1925\n",
    "nombre_exposed        477\n",
    "nombre_recovered    16623\n",
    "Name: 223, dtype: int64"
   ]
  },
  {
   "cell_type": "markdown",
   "id": "cf199a71",
   "metadata": {},
   "source": [
    "nombre_infected       993\n",
    "nombre_sain          1910\n",
    "nombre_exposed        472\n",
    "nombre_recovered    16625\n",
    "Name: 224, dtype: int64"
   ]
  },
  {
   "cell_type": "markdown",
   "id": "d5ad390f",
   "metadata": {},
   "source": [
    "nombre_infected       996\n",
    "nombre_sain          1876\n",
    "nombre_exposed        465\n",
    "nombre_recovered    16663\n",
    "Name: 225, dtype: int64"
   ]
  },
  {
   "cell_type": "markdown",
   "id": "f52a549a",
   "metadata": {},
   "source": [
    "nombre_infected       983\n",
    "nombre_sain          1833\n",
    "nombre_exposed        487\n",
    "nombre_recovered    16697\n",
    "Name: 226, dtype: int64"
   ]
  },
  {
   "cell_type": "markdown",
   "id": "f1f96e09",
   "metadata": {},
   "source": [
    "nombre_infected       973\n",
    "nombre_sain          1809\n",
    "nombre_exposed        482\n",
    "nombre_recovered    16736\n",
    "Name: 227, dtype: int64"
   ]
  },
  {
   "cell_type": "markdown",
   "id": "c6235b49",
   "metadata": {},
   "source": [
    "nombre_infected       957\n",
    "nombre_sain          1788\n",
    "nombre_exposed        481\n",
    "nombre_recovered    16774\n",
    "Name: 228, dtype: int64"
   ]
  },
  {
   "cell_type": "markdown",
   "id": "f9c0cd48",
   "metadata": {},
   "source": [
    "nombre_infected       988\n",
    "nombre_sain          1789\n",
    "nombre_exposed        438\n",
    "nombre_recovered    16785\n",
    "Name: 229, dtype: int64"
   ]
  },
  {
   "cell_type": "markdown",
   "id": "b6f13129",
   "metadata": {},
   "source": [
    "nombre_infected       997\n",
    "nombre_sain          1792\n",
    "nombre_exposed        427\n",
    "nombre_recovered    16784\n",
    "Name: 230, dtype: int64"
   ]
  },
  {
   "cell_type": "markdown",
   "id": "a8d44188",
   "metadata": {},
   "source": [
    "nombre_infected       966\n",
    "nombre_sain          1790\n",
    "nombre_exposed        426\n",
    "nombre_recovered    16818\n",
    "Name: 231, dtype: int64"
   ]
  },
  {
   "cell_type": "markdown",
   "id": "0c3519ce",
   "metadata": {},
   "source": [
    "nombre_infected       956\n",
    "nombre_sain          1760\n",
    "nombre_exposed        431\n",
    "nombre_recovered    16853\n",
    "Name: 232, dtype: int64"
   ]
  },
  {
   "cell_type": "markdown",
   "id": "59bde909",
   "metadata": {},
   "source": [
    "nombre_infected       936\n",
    "nombre_sain          1750\n",
    "nombre_exposed        423\n",
    "nombre_recovered    16891\n",
    "Name: 233, dtype: int64"
   ]
  },
  {
   "cell_type": "markdown",
   "id": "c8a53fa7",
   "metadata": {},
   "source": [
    "nombre_infected       922\n",
    "nombre_sain          1768\n",
    "nombre_exposed        431\n",
    "nombre_recovered    16879\n",
    "Name: 234, dtype: int64"
   ]
  },
  {
   "cell_type": "markdown",
   "id": "b7732343",
   "metadata": {},
   "source": [
    "nombre_infected       912\n",
    "nombre_sain          1779\n",
    "nombre_exposed        442\n",
    "nombre_recovered    16867\n",
    "Name: 235, dtype: int64"
   ]
  },
  {
   "cell_type": "markdown",
   "id": "7df0f365",
   "metadata": {},
   "source": [
    "nombre_infected       909\n",
    "nombre_sain          1784\n",
    "nombre_exposed        439\n",
    "nombre_recovered    16868\n",
    "Name: 236, dtype: int64"
   ]
  },
  {
   "cell_type": "markdown",
   "id": "2233afeb",
   "metadata": {},
   "source": [
    "nombre_infected       901\n",
    "nombre_sain          1786\n",
    "nombre_exposed        427\n",
    "nombre_recovered    16886\n",
    "Name: 237, dtype: int64"
   ]
  },
  {
   "cell_type": "markdown",
   "id": "eb6937b0",
   "metadata": {},
   "source": [
    "nombre_infected       894\n",
    "nombre_sain          1809\n",
    "nombre_exposed        402\n",
    "nombre_recovered    16895\n",
    "Name: 238, dtype: int64"
   ]
  },
  {
   "cell_type": "markdown",
   "id": "d0e926a8",
   "metadata": {},
   "source": [
    "nombre_infected       900\n",
    "nombre_sain          1846\n",
    "nombre_exposed        390\n",
    "nombre_recovered    16864\n",
    "Name: 239, dtype: int64"
   ]
  },
  {
   "cell_type": "markdown",
   "id": "71db9626",
   "metadata": {},
   "source": [
    "nombre_infected       889\n",
    "nombre_sain          1824\n",
    "nombre_exposed        407\n",
    "nombre_recovered    16880\n",
    "Name: 240, dtype: int64"
   ]
  },
  {
   "cell_type": "markdown",
   "id": "4a8e819b",
   "metadata": {},
   "source": [
    "nombre_infected       855\n",
    "nombre_sain          1851\n",
    "nombre_exposed        401\n",
    "nombre_recovered    16893\n",
    "Name: 241, dtype: int64"
   ]
  },
  {
   "cell_type": "markdown",
   "id": "0cd6cc75",
   "metadata": {},
   "source": [
    "nombre_infected       855\n",
    "nombre_sain          1857\n",
    "nombre_exposed        414\n",
    "nombre_recovered    16874\n",
    "Name: 242, dtype: int64"
   ]
  },
  {
   "cell_type": "markdown",
   "id": "7034a0d1",
   "metadata": {},
   "source": [
    "nombre_infected       848\n",
    "nombre_sain          1871\n",
    "nombre_exposed        395\n",
    "nombre_recovered    16886\n",
    "Name: 243, dtype: int64"
   ]
  },
  {
   "cell_type": "markdown",
   "id": "d55a7a4a",
   "metadata": {},
   "source": [
    "nombre_infected       851\n",
    "nombre_sain          1896\n",
    "nombre_exposed        377\n",
    "nombre_recovered    16876\n",
    "Name: 244, dtype: int64"
   ]
  },
  {
   "cell_type": "markdown",
   "id": "3c950c1c",
   "metadata": {},
   "source": [
    "nombre_infected       853\n",
    "nombre_sain          1920\n",
    "nombre_exposed        387\n",
    "nombre_recovered    16840\n",
    "Name: 245, dtype: int64"
   ]
  },
  {
   "cell_type": "markdown",
   "id": "729daea4",
   "metadata": {},
   "source": [
    "nombre_infected       825\n",
    "nombre_sain          1951\n",
    "nombre_exposed        388\n",
    "nombre_recovered    16836\n",
    "Name: 246, dtype: int64"
   ]
  },
  {
   "cell_type": "markdown",
   "id": "93bf5bf5",
   "metadata": {},
   "source": [
    "nombre_infected       828\n",
    "nombre_sain          1946\n",
    "nombre_exposed        382\n",
    "nombre_recovered    16844\n",
    "Name: 247, dtype: int64"
   ]
  },
  {
   "cell_type": "markdown",
   "id": "fec1dc89",
   "metadata": {},
   "source": [
    "nombre_infected       831\n",
    "nombre_sain          1964\n",
    "nombre_exposed        366\n",
    "nombre_recovered    16839\n",
    "Name: 248, dtype: int64"
   ]
  },
  {
   "cell_type": "markdown",
   "id": "099c0969",
   "metadata": {},
   "source": [
    "nombre_infected       810\n",
    "nombre_sain          1982\n",
    "nombre_exposed        356\n",
    "nombre_recovered    16852\n",
    "Name: 249, dtype: int64"
   ]
  },
  {
   "cell_type": "markdown",
   "id": "5edee534",
   "metadata": {},
   "source": [
    "nombre_infected       801\n",
    "nombre_sain          2009\n",
    "nombre_exposed        369\n",
    "nombre_recovered    16821\n",
    "Name: 250, dtype: int64"
   ]
  },
  {
   "cell_type": "markdown",
   "id": "69c01f63",
   "metadata": {},
   "source": [
    "nombre_infected       787\n",
    "nombre_sain          2028\n",
    "nombre_exposed        376\n",
    "nombre_recovered    16809\n",
    "Name: 251, dtype: int64"
   ]
  },
  {
   "cell_type": "markdown",
   "id": "d5034e15",
   "metadata": {},
   "source": [
    "nombre_infected       738\n",
    "nombre_sain          2051\n",
    "nombre_exposed        386\n",
    "nombre_recovered    16825\n",
    "Name: 252, dtype: int64"
   ]
  },
  {
   "cell_type": "markdown",
   "id": "a90b5354",
   "metadata": {},
   "source": [
    "nombre_infected       745\n",
    "nombre_sain          2086\n",
    "nombre_exposed        366\n",
    "nombre_recovered    16803\n",
    "Name: 253, dtype: int64"
   ]
  },
  {
   "cell_type": "markdown",
   "id": "cd2ffae8",
   "metadata": {},
   "source": [
    "nombre_infected       737\n",
    "nombre_sain          2077\n",
    "nombre_exposed        381\n",
    "nombre_recovered    16805\n",
    "Name: 254, dtype: int64"
   ]
  },
  {
   "cell_type": "markdown",
   "id": "0902fe97",
   "metadata": {},
   "source": [
    "nombre_infected       758\n",
    "nombre_sain          2082\n",
    "nombre_exposed        376\n",
    "nombre_recovered    16784\n",
    "Name: 255, dtype: int64"
   ]
  },
  {
   "cell_type": "markdown",
   "id": "466a2ff2",
   "metadata": {},
   "source": [
    "nombre_infected       745\n",
    "nombre_sain          2097\n",
    "nombre_exposed        373\n",
    "nombre_recovered    16785\n",
    "Name: 256, dtype: int64"
   ]
  },
  {
   "cell_type": "markdown",
   "id": "c0782f27",
   "metadata": {},
   "source": [
    "nombre_infected       737\n",
    "nombre_sain          2113\n",
    "nombre_exposed        371\n",
    "nombre_recovered    16779\n",
    "Name: 257, dtype: int64"
   ]
  },
  {
   "cell_type": "markdown",
   "id": "a4c762bb",
   "metadata": {},
   "source": [
    "nombre_infected       746\n",
    "nombre_sain          2136\n",
    "nombre_exposed        368\n",
    "nombre_recovered    16750\n",
    "Name: 258, dtype: int64"
   ]
  },
  {
   "cell_type": "markdown",
   "id": "b9750d3c",
   "metadata": {},
   "source": [
    "nombre_infected       752\n",
    "nombre_sain          2134\n",
    "nombre_exposed        363\n",
    "nombre_recovered    16751\n",
    "Name: 259, dtype: int64"
   ]
  },
  {
   "cell_type": "markdown",
   "id": "9edb4cbb",
   "metadata": {},
   "source": [
    "nombre_infected       743\n",
    "nombre_sain          2127\n",
    "nombre_exposed        378\n",
    "nombre_recovered    16752\n",
    "Name: 260, dtype: int64"
   ]
  },
  {
   "cell_type": "markdown",
   "id": "a6af2e7a",
   "metadata": {},
   "source": [
    "nombre_infected       720\n",
    "nombre_sain          2146\n",
    "nombre_exposed        380\n",
    "nombre_recovered    16754\n",
    "Name: 261, dtype: int64"
   ]
  },
  {
   "cell_type": "markdown",
   "id": "40cb7f32",
   "metadata": {},
   "source": [
    "nombre_infected       707\n",
    "nombre_sain          2157\n",
    "nombre_exposed        393\n",
    "nombre_recovered    16743\n",
    "Name: 262, dtype: int64"
   ]
  },
  {
   "cell_type": "markdown",
   "id": "b96a730e",
   "metadata": {},
   "source": [
    "nombre_infected       721\n",
    "nombre_sain          2174\n",
    "nombre_exposed        369\n",
    "nombre_recovered    16736\n",
    "Name: 263, dtype: int64"
   ]
  },
  {
   "cell_type": "markdown",
   "id": "18a25d76",
   "metadata": {},
   "source": [
    "nombre_infected       697\n",
    "nombre_sain          2207\n",
    "nombre_exposed        379\n",
    "nombre_recovered    16717\n",
    "Name: 264, dtype: int64"
   ]
  },
  {
   "cell_type": "markdown",
   "id": "f5d6dd30",
   "metadata": {},
   "source": [
    "nombre_infected       704\n",
    "nombre_sain          2265\n",
    "nombre_exposed        362\n",
    "nombre_recovered    16669\n",
    "Name: 265, dtype: int64"
   ]
  },
  {
   "cell_type": "markdown",
   "id": "be650df4",
   "metadata": {},
   "source": [
    "nombre_infected       700\n",
    "nombre_sain          2279\n",
    "nombre_exposed        370\n",
    "nombre_recovered    16651\n",
    "Name: 266, dtype: int64"
   ]
  },
  {
   "cell_type": "markdown",
   "id": "259c8aac",
   "metadata": {},
   "source": [
    "nombre_infected       703\n",
    "nombre_sain          2315\n",
    "nombre_exposed        370\n",
    "nombre_recovered    16612\n",
    "Name: 267, dtype: int64"
   ]
  },
  {
   "cell_type": "markdown",
   "id": "ec90f19e",
   "metadata": {},
   "source": [
    "nombre_infected       693\n",
    "nombre_sain          2354\n",
    "nombre_exposed        367\n",
    "nombre_recovered    16586\n",
    "Name: 268, dtype: int64"
   ]
  },
  {
   "cell_type": "markdown",
   "id": "bbfd9c0b",
   "metadata": {},
   "source": [
    "nombre_infected       692\n",
    "nombre_sain          2383\n",
    "nombre_exposed        359\n",
    "nombre_recovered    16566\n",
    "Name: 269, dtype: int64"
   ]
  },
  {
   "cell_type": "markdown",
   "id": "0eb527f0",
   "metadata": {},
   "source": [
    "nombre_infected       694\n",
    "nombre_sain          2391\n",
    "nombre_exposed        347\n",
    "nombre_recovered    16568\n",
    "Name: 270, dtype: int64"
   ]
  },
  {
   "cell_type": "markdown",
   "id": "884ef69b",
   "metadata": {},
   "source": [
    "nombre_infected       684\n",
    "nombre_sain          2382\n",
    "nombre_exposed        381\n",
    "nombre_recovered    16553\n",
    "Name: 271, dtype: int64"
   ]
  },
  {
   "cell_type": "markdown",
   "id": "cbd924bc",
   "metadata": {},
   "source": [
    "nombre_infected       677\n",
    "nombre_sain          2407\n",
    "nombre_exposed        382\n",
    "nombre_recovered    16534\n",
    "Name: 272, dtype: int64"
   ]
  },
  {
   "cell_type": "markdown",
   "id": "b8fdb9fc",
   "metadata": {},
   "source": [
    "nombre_infected       676\n",
    "nombre_sain          2390\n",
    "nombre_exposed        399\n",
    "nombre_recovered    16535\n",
    "Name: 273, dtype: int64"
   ]
  },
  {
   "cell_type": "markdown",
   "id": "506eab62",
   "metadata": {},
   "source": [
    "nombre_infected       685\n",
    "nombre_sain          2406\n",
    "nombre_exposed        416\n",
    "nombre_recovered    16493\n",
    "Name: 274, dtype: int64"
   ]
  },
  {
   "cell_type": "markdown",
   "id": "6e0c368b",
   "metadata": {},
   "source": [
    "nombre_infected       681\n",
    "nombre_sain          2407\n",
    "nombre_exposed        428\n",
    "nombre_recovered    16484\n",
    "Name: 275, dtype: int64"
   ]
  },
  {
   "cell_type": "markdown",
   "id": "618f66a8",
   "metadata": {},
   "source": [
    "nombre_infected       687\n",
    "nombre_sain          2421\n",
    "nombre_exposed        418\n",
    "nombre_recovered    16474\n",
    "Name: 276, dtype: int64"
   ]
  },
  {
   "cell_type": "markdown",
   "id": "28a2a78f",
   "metadata": {},
   "source": [
    "nombre_infected       719\n",
    "nombre_sain          2435\n",
    "nombre_exposed        406\n",
    "nombre_recovered    16440\n",
    "Name: 277, dtype: int64"
   ]
  },
  {
   "cell_type": "markdown",
   "id": "aa04c702",
   "metadata": {},
   "source": [
    "nombre_infected       716\n",
    "nombre_sain          2441\n",
    "nombre_exposed        421\n",
    "nombre_recovered    16422\n",
    "Name: 278, dtype: int64"
   ]
  },
  {
   "cell_type": "markdown",
   "id": "f55fc106",
   "metadata": {},
   "source": [
    "nombre_infected       706\n",
    "nombre_sain          2441\n",
    "nombre_exposed        442\n",
    "nombre_recovered    16411\n",
    "Name: 279, dtype: int64"
   ]
  },
  {
   "cell_type": "markdown",
   "id": "bf2b0c87",
   "metadata": {},
   "source": [
    "nombre_infected       734\n",
    "nombre_sain          2444\n",
    "nombre_exposed        424\n",
    "nombre_recovered    16398\n",
    "Name: 280, dtype: int64"
   ]
  },
  {
   "cell_type": "markdown",
   "id": "0fc54bb5",
   "metadata": {},
   "source": [
    "nombre_infected       765\n",
    "nombre_sain          2433\n",
    "nombre_exposed        438\n",
    "nombre_recovered    16364\n",
    "Name: 281, dtype: int64"
   ]
  },
  {
   "cell_type": "markdown",
   "id": "d1566fa3",
   "metadata": {},
   "source": [
    "nombre_infected       783\n",
    "nombre_sain          2448\n",
    "nombre_exposed        444\n",
    "nombre_recovered    16325\n",
    "Name: 282, dtype: int64"
   ]
  },
  {
   "cell_type": "markdown",
   "id": "b08ddbf6",
   "metadata": {},
   "source": [
    "nombre_infected       792\n",
    "nombre_sain          2444\n",
    "nombre_exposed        457\n",
    "nombre_recovered    16307\n",
    "Name: 283, dtype: int64"
   ]
  },
  {
   "cell_type": "markdown",
   "id": "96266362",
   "metadata": {},
   "source": [
    "nombre_infected       784\n",
    "nombre_sain          2447\n",
    "nombre_exposed        489\n",
    "nombre_recovered    16280\n",
    "Name: 284, dtype: int64"
   ]
  },
  {
   "cell_type": "markdown",
   "id": "1b82f081",
   "metadata": {},
   "source": [
    "nombre_infected       808\n",
    "nombre_sain          2457\n",
    "nombre_exposed        465\n",
    "nombre_recovered    16270\n",
    "Name: 285, dtype: int64"
   ]
  },
  {
   "cell_type": "markdown",
   "id": "1b8a8228",
   "metadata": {},
   "source": [
    "nombre_infected       796\n",
    "nombre_sain          2458\n",
    "nombre_exposed        501\n",
    "nombre_recovered    16245\n",
    "Name: 286, dtype: int64"
   ]
  },
  {
   "cell_type": "markdown",
   "id": "19d3a643",
   "metadata": {},
   "source": [
    "nombre_infected       790\n",
    "nombre_sain          2453\n",
    "nombre_exposed        504\n",
    "nombre_recovered    16253\n",
    "Name: 287, dtype: int64"
   ]
  },
  {
   "cell_type": "markdown",
   "id": "ee392d65",
   "metadata": {},
   "source": [
    "nombre_infected       787\n",
    "nombre_sain          2436\n",
    "nombre_exposed        525\n",
    "nombre_recovered    16252\n",
    "Name: 288, dtype: int64"
   ]
  },
  {
   "cell_type": "markdown",
   "id": "0a0463f8",
   "metadata": {},
   "source": [
    "nombre_infected       820\n",
    "nombre_sain          2415\n",
    "nombre_exposed        531\n",
    "nombre_recovered    16234\n",
    "Name: 289, dtype: int64"
   ]
  },
  {
   "cell_type": "markdown",
   "id": "fb7bbce7",
   "metadata": {},
   "source": [
    "nombre_infected       826\n",
    "nombre_sain          2405\n",
    "nombre_exposed        543\n",
    "nombre_recovered    16226\n",
    "Name: 290, dtype: int64"
   ]
  },
  {
   "cell_type": "markdown",
   "id": "54459500",
   "metadata": {},
   "source": [
    "nombre_infected       854\n",
    "nombre_sain          2380\n",
    "nombre_exposed        542\n",
    "nombre_recovered    16224\n",
    "Name: 291, dtype: int64"
   ]
  },
  {
   "cell_type": "markdown",
   "id": "a6ac9e9b",
   "metadata": {},
   "source": [
    "nombre_infected       877\n",
    "nombre_sain          2342\n",
    "nombre_exposed        544\n",
    "nombre_recovered    16237\n",
    "Name: 292, dtype: int64"
   ]
  },
  {
   "cell_type": "markdown",
   "id": "b2fc6eb2",
   "metadata": {},
   "source": [
    "nombre_infected       905\n",
    "nombre_sain          2322\n",
    "nombre_exposed        540\n",
    "nombre_recovered    16233\n",
    "Name: 293, dtype: int64"
   ]
  },
  {
   "cell_type": "markdown",
   "id": "63d6307a",
   "metadata": {},
   "source": [
    "nombre_infected       904\n",
    "nombre_sain          2315\n",
    "nombre_exposed        557\n",
    "nombre_recovered    16224\n",
    "Name: 294, dtype: int64"
   ]
  },
  {
   "cell_type": "markdown",
   "id": "712e28c1",
   "metadata": {},
   "source": [
    "nombre_infected       907\n",
    "nombre_sain          2279\n",
    "nombre_exposed        565\n",
    "nombre_recovered    16249\n",
    "Name: 295, dtype: int64"
   ]
  },
  {
   "cell_type": "markdown",
   "id": "81f7ede2",
   "metadata": {},
   "source": [
    "nombre_infected       913\n",
    "nombre_sain          2250\n",
    "nombre_exposed        558\n",
    "nombre_recovered    16279\n",
    "Name: 296, dtype: int64"
   ]
  },
  {
   "cell_type": "markdown",
   "id": "17e1a439",
   "metadata": {},
   "source": [
    "nombre_infected       916\n",
    "nombre_sain          2242\n",
    "nombre_exposed        538\n",
    "nombre_recovered    16304\n",
    "Name: 297, dtype: int64"
   ]
  },
  {
   "cell_type": "markdown",
   "id": "3c4d8914",
   "metadata": {},
   "source": [
    "nombre_infected       933\n",
    "nombre_sain          2245\n",
    "nombre_exposed        529\n",
    "nombre_recovered    16293\n",
    "Name: 298, dtype: int64"
   ]
  },
  {
   "cell_type": "markdown",
   "id": "cab2890c",
   "metadata": {},
   "source": [
    "nombre_infected       915\n",
    "nombre_sain          2231\n",
    "nombre_exposed        533\n",
    "nombre_recovered    16321\n",
    "Name: 299, dtype: int64"
   ]
  },
  {
   "cell_type": "markdown",
   "id": "98ec3883",
   "metadata": {},
   "source": [
    "nombre_infected       909\n",
    "nombre_sain          2213\n",
    "nombre_exposed        530\n",
    "nombre_recovered    16348\n",
    "Name: 300, dtype: int64"
   ]
  },
  {
   "cell_type": "markdown",
   "id": "267fedaf",
   "metadata": {},
   "source": [
    "nombre_infected       912\n",
    "nombre_sain          2190\n",
    "nombre_exposed        521\n",
    "nombre_recovered    16377\n",
    "Name: 301, dtype: int64"
   ]
  },
  {
   "cell_type": "markdown",
   "id": "b1504b66",
   "metadata": {},
   "source": [
    "nombre_infected       903\n",
    "nombre_sain          2195\n",
    "nombre_exposed        526\n",
    "nombre_recovered    16376\n",
    "Name: 302, dtype: int64"
   ]
  },
  {
   "cell_type": "markdown",
   "id": "c38f72c1",
   "metadata": {},
   "source": [
    "nombre_infected       884\n",
    "nombre_sain          2196\n",
    "nombre_exposed        518\n",
    "nombre_recovered    16402\n",
    "Name: 303, dtype: int64"
   ]
  },
  {
   "cell_type": "markdown",
   "id": "28ec8de8",
   "metadata": {},
   "source": [
    "nombre_infected       924\n",
    "nombre_sain          2184\n",
    "nombre_exposed        490\n",
    "nombre_recovered    16402\n",
    "Name: 304, dtype: int64"
   ]
  },
  {
   "cell_type": "markdown",
   "id": "4468413b",
   "metadata": {},
   "source": [
    "nombre_infected       890\n",
    "nombre_sain          2179\n",
    "nombre_exposed        522\n",
    "nombre_recovered    16409\n",
    "Name: 305, dtype: int64"
   ]
  },
  {
   "cell_type": "markdown",
   "id": "7c3e5664",
   "metadata": {},
   "source": [
    "nombre_infected       881\n",
    "nombre_sain          2181\n",
    "nombre_exposed        509\n",
    "nombre_recovered    16429\n",
    "Name: 306, dtype: int64"
   ]
  },
  {
   "cell_type": "markdown",
   "id": "d004d47f",
   "metadata": {},
   "source": [
    "nombre_infected       877\n",
    "nombre_sain          2159\n",
    "nombre_exposed        528\n",
    "nombre_recovered    16436\n",
    "Name: 307, dtype: int64"
   ]
  },
  {
   "cell_type": "markdown",
   "id": "d4433bfb",
   "metadata": {},
   "source": [
    "nombre_infected       861\n",
    "nombre_sain          2166\n",
    "nombre_exposed        522\n",
    "nombre_recovered    16451\n",
    "Name: 308, dtype: int64"
   ]
  },
  {
   "cell_type": "markdown",
   "id": "f84d2c3a",
   "metadata": {},
   "source": [
    "nombre_infected       856\n",
    "nombre_sain          2138\n",
    "nombre_exposed        531\n",
    "nombre_recovered    16475\n",
    "Name: 309, dtype: int64"
   ]
  },
  {
   "cell_type": "markdown",
   "id": "b5597b9a",
   "metadata": {},
   "source": [
    "nombre_infected       863\n",
    "nombre_sain          2141\n",
    "nombre_exposed        520\n",
    "nombre_recovered    16476\n",
    "Name: 310, dtype: int64"
   ]
  },
  {
   "cell_type": "markdown",
   "id": "019dd8ad",
   "metadata": {},
   "source": [
    "nombre_infected       876\n",
    "nombre_sain          2144\n",
    "nombre_exposed        514\n",
    "nombre_recovered    16466\n",
    "Name: 311, dtype: int64"
   ]
  },
  {
   "cell_type": "markdown",
   "id": "30ce8b5b",
   "metadata": {},
   "source": [
    "nombre_infected       882\n",
    "nombre_sain          2149\n",
    "nombre_exposed        523\n",
    "nombre_recovered    16446\n",
    "Name: 312, dtype: int64"
   ]
  },
  {
   "cell_type": "markdown",
   "id": "47259d54",
   "metadata": {},
   "source": [
    "nombre_infected       847\n",
    "nombre_sain          2140\n",
    "nombre_exposed        539\n",
    "nombre_recovered    16474\n",
    "Name: 313, dtype: int64"
   ]
  },
  {
   "cell_type": "markdown",
   "id": "03af28b3",
   "metadata": {},
   "source": [
    "nombre_infected       834\n",
    "nombre_sain          2150\n",
    "nombre_exposed        546\n",
    "nombre_recovered    16470\n",
    "Name: 314, dtype: int64"
   ]
  },
  {
   "cell_type": "markdown",
   "id": "b35b9726",
   "metadata": {},
   "source": [
    "nombre_infected       849\n",
    "nombre_sain          2173\n",
    "nombre_exposed        520\n",
    "nombre_recovered    16458\n",
    "Name: 315, dtype: int64"
   ]
  },
  {
   "cell_type": "markdown",
   "id": "4f3f9131",
   "metadata": {},
   "source": [
    "nombre_infected       839\n",
    "nombre_sain          2175\n",
    "nombre_exposed        523\n",
    "nombre_recovered    16463\n",
    "Name: 316, dtype: int64"
   ]
  },
  {
   "cell_type": "markdown",
   "id": "91469735",
   "metadata": {},
   "source": [
    "nombre_infected       843\n",
    "nombre_sain          2181\n",
    "nombre_exposed        521\n",
    "nombre_recovered    16455\n",
    "Name: 317, dtype: int64"
   ]
  },
  {
   "cell_type": "markdown",
   "id": "18bb3d46",
   "metadata": {},
   "source": [
    "nombre_infected       850\n",
    "nombre_sain          2181\n",
    "nombre_exposed        523\n",
    "nombre_recovered    16446\n",
    "Name: 318, dtype: int64"
   ]
  },
  {
   "cell_type": "markdown",
   "id": "67b1d7d2",
   "metadata": {},
   "source": [
    "nombre_infected       850\n",
    "nombre_sain          2182\n",
    "nombre_exposed        532\n",
    "nombre_recovered    16436\n",
    "Name: 319, dtype: int64"
   ]
  },
  {
   "cell_type": "markdown",
   "id": "62bd4fdb",
   "metadata": {},
   "source": [
    "nombre_infected       863\n",
    "nombre_sain          2202\n",
    "nombre_exposed        551\n",
    "nombre_recovered    16384\n",
    "Name: 320, dtype: int64"
   ]
  },
  {
   "cell_type": "markdown",
   "id": "2b2ade12",
   "metadata": {},
   "source": [
    "nombre_infected       869\n",
    "nombre_sain          2217\n",
    "nombre_exposed        552\n",
    "nombre_recovered    16362\n",
    "Name: 321, dtype: int64"
   ]
  },
  {
   "cell_type": "markdown",
   "id": "b5814f08",
   "metadata": {},
   "source": [
    "nombre_infected       870\n",
    "nombre_sain          2214\n",
    "nombre_exposed        566\n",
    "nombre_recovered    16350\n",
    "Name: 322, dtype: int64"
   ]
  },
  {
   "cell_type": "markdown",
   "id": "c9759dd6",
   "metadata": {},
   "source": [
    "nombre_infected       858\n",
    "nombre_sain          2220\n",
    "nombre_exposed        593\n",
    "nombre_recovered    16329\n",
    "Name: 323, dtype: int64"
   ]
  },
  {
   "cell_type": "markdown",
   "id": "5cccc78c",
   "metadata": {},
   "source": [
    "nombre_infected       858\n",
    "nombre_sain          2225\n",
    "nombre_exposed        592\n",
    "nombre_recovered    16325\n",
    "Name: 324, dtype: int64"
   ]
  },
  {
   "cell_type": "markdown",
   "id": "cbbe7688",
   "metadata": {},
   "source": [
    "nombre_infected       885\n",
    "nombre_sain          2220\n",
    "nombre_exposed        599\n",
    "nombre_recovered    16296\n",
    "Name: 325, dtype: int64"
   ]
  },
  {
   "cell_type": "markdown",
   "id": "ea8f1290",
   "metadata": {},
   "source": [
    "nombre_infected       886\n",
    "nombre_sain          2235\n",
    "nombre_exposed        592\n",
    "nombre_recovered    16287\n",
    "Name: 326, dtype: int64"
   ]
  },
  {
   "cell_type": "markdown",
   "id": "dc5b4c83",
   "metadata": {},
   "source": [
    "nombre_infected       910\n",
    "nombre_sain          2244\n",
    "nombre_exposed        561\n",
    "nombre_recovered    16285\n",
    "Name: 327, dtype: int64"
   ]
  },
  {
   "cell_type": "markdown",
   "id": "a85753ff",
   "metadata": {},
   "source": [
    "nombre_infected       904\n",
    "nombre_sain          2239\n",
    "nombre_exposed        566\n",
    "nombre_recovered    16291\n",
    "Name: 328, dtype: int64"
   ]
  },
  {
   "cell_type": "markdown",
   "id": "e09f332e",
   "metadata": {},
   "source": [
    "nombre_infected       900\n",
    "nombre_sain          2246\n",
    "nombre_exposed        568\n",
    "nombre_recovered    16286\n",
    "Name: 329, dtype: int64"
   ]
  },
  {
   "cell_type": "markdown",
   "id": "6fc1139b",
   "metadata": {},
   "source": [
    "nombre_infected       904\n",
    "nombre_sain          2244\n",
    "nombre_exposed        556\n",
    "nombre_recovered    16296\n",
    "Name: 330, dtype: int64"
   ]
  },
  {
   "cell_type": "markdown",
   "id": "5029adca",
   "metadata": {},
   "source": [
    "nombre_infected       920\n",
    "nombre_sain          2266\n",
    "nombre_exposed        525\n",
    "nombre_recovered    16289\n",
    "Name: 331, dtype: int64"
   ]
  },
  {
   "cell_type": "markdown",
   "id": "d298b9bf",
   "metadata": {},
   "source": [
    "nombre_infected       918\n",
    "nombre_sain          2261\n",
    "nombre_exposed        526\n",
    "nombre_recovered    16295\n",
    "Name: 332, dtype: int64"
   ]
  },
  {
   "cell_type": "markdown",
   "id": "1dc09856",
   "metadata": {},
   "source": [
    "nombre_infected       933\n",
    "nombre_sain          2251\n",
    "nombre_exposed        536\n",
    "nombre_recovered    16280\n",
    "Name: 333, dtype: int64"
   ]
  },
  {
   "cell_type": "markdown",
   "id": "105d923e",
   "metadata": {},
   "source": [
    "nombre_infected       920\n",
    "nombre_sain          2232\n",
    "nombre_exposed        569\n",
    "nombre_recovered    16279\n",
    "Name: 334, dtype: int64"
   ]
  },
  {
   "cell_type": "markdown",
   "id": "48f84f8f",
   "metadata": {},
   "source": [
    "nombre_infected       957\n",
    "nombre_sain          2229\n",
    "nombre_exposed        560\n",
    "nombre_recovered    16254\n",
    "Name: 335, dtype: int64"
   ]
  },
  {
   "cell_type": "markdown",
   "id": "5c110090",
   "metadata": {},
   "source": [
    "nombre_infected       947\n",
    "nombre_sain          2212\n",
    "nombre_exposed        584\n",
    "nombre_recovered    16257\n",
    "Name: 336, dtype: int64"
   ]
  },
  {
   "cell_type": "markdown",
   "id": "931b54fe",
   "metadata": {},
   "source": [
    "nombre_infected       981\n",
    "nombre_sain          2213\n",
    "nombre_exposed        565\n",
    "nombre_recovered    16241\n",
    "Name: 337, dtype: int64"
   ]
  },
  {
   "cell_type": "markdown",
   "id": "82b85b91",
   "metadata": {},
   "source": [
    "nombre_infected       976\n",
    "nombre_sain          2197\n",
    "nombre_exposed        564\n",
    "nombre_recovered    16263\n",
    "Name: 338, dtype: int64"
   ]
  },
  {
   "cell_type": "markdown",
   "id": "5c48a3d1",
   "metadata": {},
   "source": [
    "nombre_infected       964\n",
    "nombre_sain          2188\n",
    "nombre_exposed        559\n",
    "nombre_recovered    16289\n",
    "Name: 339, dtype: int64"
   ]
  },
  {
   "cell_type": "markdown",
   "id": "a710469c",
   "metadata": {},
   "source": [
    "nombre_infected       982\n",
    "nombre_sain          2167\n",
    "nombre_exposed        553\n",
    "nombre_recovered    16298\n",
    "Name: 340, dtype: int64"
   ]
  },
  {
   "cell_type": "markdown",
   "id": "ed811828",
   "metadata": {},
   "source": [
    "nombre_infected      1013\n",
    "nombre_sain          2112\n",
    "nombre_exposed        548\n",
    "nombre_recovered    16327\n",
    "Name: 341, dtype: int64"
   ]
  },
  {
   "cell_type": "markdown",
   "id": "682711ac",
   "metadata": {},
   "source": [
    "nombre_infected       999\n",
    "nombre_sain          2084\n",
    "nombre_exposed        568\n",
    "nombre_recovered    16349\n",
    "Name: 342, dtype: int64"
   ]
  },
  {
   "cell_type": "markdown",
   "id": "133ced18",
   "metadata": {},
   "source": [
    "nombre_infected       984\n",
    "nombre_sain          2041\n",
    "nombre_exposed        583\n",
    "nombre_recovered    16392\n",
    "Name: 343, dtype: int64"
   ]
  },
  {
   "cell_type": "markdown",
   "id": "750f054e",
   "metadata": {},
   "source": [
    "nombre_infected      1020\n",
    "nombre_sain          2005\n",
    "nombre_exposed        558\n",
    "nombre_recovered    16417\n",
    "Name: 344, dtype: int64"
   ]
  },
  {
   "cell_type": "markdown",
   "id": "e528839c",
   "metadata": {},
   "source": [
    "nombre_infected      1021\n",
    "nombre_sain          1975\n",
    "nombre_exposed        557\n",
    "nombre_recovered    16447\n",
    "Name: 345, dtype: int64"
   ]
  },
  {
   "cell_type": "markdown",
   "id": "a8c636b0",
   "metadata": {},
   "source": [
    "nombre_infected      1013\n",
    "nombre_sain          1970\n",
    "nombre_exposed        545\n",
    "nombre_recovered    16472\n",
    "Name: 346, dtype: int64"
   ]
  },
  {
   "cell_type": "markdown",
   "id": "c3525192",
   "metadata": {},
   "source": [
    "nombre_infected      1010\n",
    "nombre_sain          1969\n",
    "nombre_exposed        541\n",
    "nombre_recovered    16480\n",
    "Name: 347, dtype: int64"
   ]
  },
  {
   "cell_type": "markdown",
   "id": "8781b910",
   "metadata": {},
   "source": [
    "nombre_infected       986\n",
    "nombre_sain          1953\n",
    "nombre_exposed        544\n",
    "nombre_recovered    16517\n",
    "Name: 348, dtype: int64"
   ]
  },
  {
   "cell_type": "markdown",
   "id": "bab68b0f",
   "metadata": {},
   "source": [
    "nombre_infected      1002\n",
    "nombre_sain          1938\n",
    "nombre_exposed        526\n",
    "nombre_recovered    16534\n",
    "Name: 349, dtype: int64"
   ]
  },
  {
   "cell_type": "markdown",
   "id": "2a4a1dc4",
   "metadata": {},
   "source": [
    "nombre_infected       986\n",
    "nombre_sain          1910\n",
    "nombre_exposed        534\n",
    "nombre_recovered    16570\n",
    "Name: 350, dtype: int64"
   ]
  },
  {
   "cell_type": "markdown",
   "id": "6edf5d64",
   "metadata": {},
   "source": [
    "nombre_infected       983\n",
    "nombre_sain          1897\n",
    "nombre_exposed        527\n",
    "nombre_recovered    16593\n",
    "Name: 351, dtype: int64"
   ]
  },
  {
   "cell_type": "markdown",
   "id": "68f73b99",
   "metadata": {},
   "source": [
    "nombre_infected       989\n",
    "nombre_sain          1885\n",
    "nombre_exposed        513\n",
    "nombre_recovered    16613\n",
    "Name: 352, dtype: int64"
   ]
  },
  {
   "cell_type": "markdown",
   "id": "0af561da",
   "metadata": {},
   "source": [
    "nombre_infected       982\n",
    "nombre_sain          1878\n",
    "nombre_exposed        503\n",
    "nombre_recovered    16637\n",
    "Name: 353, dtype: int64"
   ]
  },
  {
   "cell_type": "markdown",
   "id": "4b2c46b7",
   "metadata": {},
   "source": [
    "nombre_infected       967\n",
    "nombre_sain          1867\n",
    "nombre_exposed        518\n",
    "nombre_recovered    16648\n",
    "Name: 354, dtype: int64"
   ]
  },
  {
   "cell_type": "markdown",
   "id": "b5afbb6e",
   "metadata": {},
   "source": [
    "nombre_infected       979\n",
    "nombre_sain          1879\n",
    "nombre_exposed        487\n",
    "nombre_recovered    16655\n",
    "Name: 355, dtype: int64"
   ]
  },
  {
   "cell_type": "markdown",
   "id": "b0df07c4",
   "metadata": {},
   "source": [
    "nombre_infected       970\n",
    "nombre_sain          1872\n",
    "nombre_exposed        487\n",
    "nombre_recovered    16671\n",
    "Name: 356, dtype: int64"
   ]
  },
  {
   "cell_type": "markdown",
   "id": "87f6cc88",
   "metadata": {},
   "source": [
    "nombre_infected       994\n",
    "nombre_sain          1897\n",
    "nombre_exposed        450\n",
    "nombre_recovered    16659\n",
    "Name: 357, dtype: int64"
   ]
  },
  {
   "cell_type": "markdown",
   "id": "d0690d25",
   "metadata": {},
   "source": [
    "nombre_infected       998\n",
    "nombre_sain          1903\n",
    "nombre_exposed        443\n",
    "nombre_recovered    16656\n",
    "Name: 358, dtype: int64"
   ]
  },
  {
   "cell_type": "markdown",
   "id": "30a955ae",
   "metadata": {},
   "source": [
    "nombre_infected       979\n",
    "nombre_sain          1923\n",
    "nombre_exposed        456\n",
    "nombre_recovered    16642\n",
    "Name: 359, dtype: int64"
   ]
  },
  {
   "cell_type": "markdown",
   "id": "434e11cb",
   "metadata": {},
   "source": [
    "nombre_infected       957\n",
    "nombre_sain          1949\n",
    "nombre_exposed        474\n",
    "nombre_recovered    16620\n",
    "Name: 360, dtype: int64"
   ]
  },
  {
   "cell_type": "markdown",
   "id": "3e8715c4",
   "metadata": {},
   "source": [
    "nombre_infected       957\n",
    "nombre_sain          1970\n",
    "nombre_exposed        450\n",
    "nombre_recovered    16623\n",
    "Name: 361, dtype: int64"
   ]
  },
  {
   "cell_type": "markdown",
   "id": "3a89cfba",
   "metadata": {},
   "source": [
    "nombre_infected       949\n",
    "nombre_sain          1968\n",
    "nombre_exposed        473\n",
    "nombre_recovered    16610\n",
    "Name: 362, dtype: int64"
   ]
  },
  {
   "cell_type": "markdown",
   "id": "9b69428c",
   "metadata": {},
   "source": [
    "nombre_infected       965\n",
    "nombre_sain          1992\n",
    "nombre_exposed        455\n",
    "nombre_recovered    16588\n",
    "Name: 363, dtype: int64"
   ]
  },
  {
   "cell_type": "markdown",
   "id": "aa62e4c2",
   "metadata": {},
   "source": [
    "nombre_infected       958\n",
    "nombre_sain          1985\n",
    "nombre_exposed        472\n",
    "nombre_recovered    16585\n",
    "Name: 364, dtype: int64"
   ]
  },
  {
   "cell_type": "markdown",
   "id": "6faf14fd",
   "metadata": {},
   "source": [
    "nombre_infected       945\n",
    "nombre_sain          1975\n",
    "nombre_exposed        495\n",
    "nombre_recovered    16585\n",
    "Name: 365, dtype: int64"
   ]
  },
  {
   "cell_type": "markdown",
   "id": "e6b5c6df",
   "metadata": {},
   "source": [
    "nombre_infected       934\n",
    "nombre_sain          1993\n",
    "nombre_exposed        490\n",
    "nombre_recovered    16583\n",
    "Name: 366, dtype: int64"
   ]
  },
  {
   "cell_type": "markdown",
   "id": "95bc9221",
   "metadata": {},
   "source": [
    "nombre_infected       929\n",
    "nombre_sain          2016\n",
    "nombre_exposed        478\n",
    "nombre_recovered    16577\n",
    "Name: 367, dtype: int64"
   ]
  },
  {
   "cell_type": "markdown",
   "id": "6d8503bc",
   "metadata": {},
   "source": [
    "nombre_infected       934\n",
    "nombre_sain          2020\n",
    "nombre_exposed        467\n",
    "nombre_recovered    16579\n",
    "Name: 368, dtype: int64"
   ]
  },
  {
   "cell_type": "markdown",
   "id": "a32fa3fb",
   "metadata": {},
   "source": [
    "nombre_infected       912\n",
    "nombre_sain          2023\n",
    "nombre_exposed        485\n",
    "nombre_recovered    16580\n",
    "Name: 369, dtype: int64"
   ]
  },
  {
   "cell_type": "markdown",
   "id": "042b1ef9",
   "metadata": {},
   "source": [
    "nombre_infected       922\n",
    "nombre_sain          2068\n",
    "nombre_exposed        463\n",
    "nombre_recovered    16547\n",
    "Name: 370, dtype: int64"
   ]
  },
  {
   "cell_type": "markdown",
   "id": "c79bcc3d",
   "metadata": {},
   "source": [
    "nombre_infected       941\n",
    "nombre_sain          2063\n",
    "nombre_exposed        459\n",
    "nombre_recovered    16537\n",
    "Name: 371, dtype: int64"
   ]
  },
  {
   "cell_type": "markdown",
   "id": "668b7c21",
   "metadata": {},
   "source": [
    "nombre_infected       951\n",
    "nombre_sain          2096\n",
    "nombre_exposed        462\n",
    "nombre_recovered    16491\n",
    "Name: 372, dtype: int64"
   ]
  },
  {
   "cell_type": "markdown",
   "id": "a6cdd858",
   "metadata": {},
   "source": [
    "nombre_infected       950\n",
    "nombre_sain          2094\n",
    "nombre_exposed        478\n",
    "nombre_recovered    16478\n",
    "Name: 373, dtype: int64"
   ]
  },
  {
   "cell_type": "markdown",
   "id": "083f1d77",
   "metadata": {},
   "source": [
    "nombre_infected       973\n",
    "nombre_sain          2110\n",
    "nombre_exposed        476\n",
    "nombre_recovered    16441\n",
    "Name: 374, dtype: int64"
   ]
  },
  {
   "cell_type": "markdown",
   "id": "bca96dc8",
   "metadata": {},
   "source": [
    "nombre_infected       990\n",
    "nombre_sain          2130\n",
    "nombre_exposed        484\n",
    "nombre_recovered    16396\n",
    "Name: 375, dtype: int64"
   ]
  },
  {
   "cell_type": "markdown",
   "id": "5ea11557",
   "metadata": {},
   "source": [
    "nombre_infected       989\n",
    "nombre_sain          2144\n",
    "nombre_exposed        506\n",
    "nombre_recovered    16361\n",
    "Name: 376, dtype: int64"
   ]
  },
  {
   "cell_type": "markdown",
   "id": "a4afc338",
   "metadata": {},
   "source": [
    "nombre_infected       974\n",
    "nombre_sain          2138\n",
    "nombre_exposed        540\n",
    "nombre_recovered    16348\n",
    "Name: 377, dtype: int64"
   ]
  },
  {
   "cell_type": "markdown",
   "id": "2781933e",
   "metadata": {},
   "source": [
    "nombre_infected       974\n",
    "nombre_sain          2123\n",
    "nombre_exposed        554\n",
    "nombre_recovered    16349\n",
    "Name: 378, dtype: int64"
   ]
  },
  {
   "cell_type": "markdown",
   "id": "b55672f9",
   "metadata": {},
   "source": [
    "nombre_infected       999\n",
    "nombre_sain          2130\n",
    "nombre_exposed        536\n",
    "nombre_recovered    16335\n",
    "Name: 379, dtype: int64"
   ]
  },
  {
   "cell_type": "markdown",
   "id": "6734f76d",
   "metadata": {},
   "source": [
    "nombre_infected       992\n",
    "nombre_sain          2146\n",
    "nombre_exposed        538\n",
    "nombre_recovered    16324\n",
    "Name: 380, dtype: int64"
   ]
  },
  {
   "cell_type": "markdown",
   "id": "d12bc615",
   "metadata": {},
   "source": [
    "nombre_infected      1032\n",
    "nombre_sain          2142\n",
    "nombre_exposed        526\n",
    "nombre_recovered    16300\n",
    "Name: 381, dtype: int64"
   ]
  },
  {
   "cell_type": "markdown",
   "id": "afdc9a6c",
   "metadata": {},
   "source": [
    "nombre_infected      1037\n",
    "nombre_sain          2127\n",
    "nombre_exposed        537\n",
    "nombre_recovered    16299\n",
    "Name: 382, dtype: int64"
   ]
  },
  {
   "cell_type": "markdown",
   "id": "08f8b1fd",
   "metadata": {},
   "source": [
    "nombre_infected      1044\n",
    "nombre_sain          2087\n",
    "nombre_exposed        560\n",
    "nombre_recovered    16309\n",
    "Name: 383, dtype: int64"
   ]
  },
  {
   "cell_type": "markdown",
   "id": "8ca0f08e",
   "metadata": {},
   "source": [
    "nombre_infected      1037\n",
    "nombre_sain          2084\n",
    "nombre_exposed        558\n",
    "nombre_recovered    16321\n",
    "Name: 384, dtype: int64"
   ]
  },
  {
   "cell_type": "markdown",
   "id": "d12679fd",
   "metadata": {},
   "source": [
    "nombre_infected      1053\n",
    "nombre_sain          2072\n",
    "nombre_exposed        565\n",
    "nombre_recovered    16310\n",
    "Name: 385, dtype: int64"
   ]
  },
  {
   "cell_type": "markdown",
   "id": "5390e409",
   "metadata": {},
   "source": [
    "nombre_infected      1065\n",
    "nombre_sain          2078\n",
    "nombre_exposed        568\n",
    "nombre_recovered    16289\n",
    "Name: 386, dtype: int64"
   ]
  },
  {
   "cell_type": "markdown",
   "id": "e9da0797",
   "metadata": {},
   "source": [
    "nombre_infected      1070\n",
    "nombre_sain          2085\n",
    "nombre_exposed        582\n",
    "nombre_recovered    16263\n",
    "Name: 387, dtype: int64"
   ]
  },
  {
   "cell_type": "markdown",
   "id": "03407b22",
   "metadata": {},
   "source": [
    "nombre_infected      1090\n",
    "nombre_sain          2096\n",
    "nombre_exposed        577\n",
    "nombre_recovered    16237\n",
    "Name: 388, dtype: int64"
   ]
  },
  {
   "cell_type": "markdown",
   "id": "cf3a2bfe",
   "metadata": {},
   "source": [
    "nombre_infected      1109\n",
    "nombre_sain          2074\n",
    "nombre_exposed        583\n",
    "nombre_recovered    16234\n",
    "Name: 389, dtype: int64"
   ]
  },
  {
   "cell_type": "markdown",
   "id": "a21f2b2e",
   "metadata": {},
   "source": [
    "nombre_infected      1135\n",
    "nombre_sain          2037\n",
    "nombre_exposed        574\n",
    "nombre_recovered    16254\n",
    "Name: 390, dtype: int64"
   ]
  },
  {
   "cell_type": "markdown",
   "id": "776f5621",
   "metadata": {},
   "source": [
    "nombre_infected      1138\n",
    "nombre_sain          2033\n",
    "nombre_exposed        558\n",
    "nombre_recovered    16271\n",
    "Name: 391, dtype: int64"
   ]
  },
  {
   "cell_type": "markdown",
   "id": "2c59b637",
   "metadata": {},
   "source": [
    "nombre_infected      1141\n",
    "nombre_sain          2022\n",
    "nombre_exposed        557\n",
    "nombre_recovered    16280\n",
    "Name: 392, dtype: int64"
   ]
  },
  {
   "cell_type": "markdown",
   "id": "290ccf2f",
   "metadata": {},
   "source": [
    "nombre_infected      1166\n",
    "nombre_sain          2008\n",
    "nombre_exposed        547\n",
    "nombre_recovered    16279\n",
    "Name: 393, dtype: int64"
   ]
  },
  {
   "cell_type": "markdown",
   "id": "b08de12e",
   "metadata": {},
   "source": [
    "nombre_infected      1133\n",
    "nombre_sain          2030\n",
    "nombre_exposed        541\n",
    "nombre_recovered    16296\n",
    "Name: 394, dtype: int64"
   ]
  },
  {
   "cell_type": "markdown",
   "id": "804d9af8",
   "metadata": {},
   "source": [
    "nombre_infected      1128\n",
    "nombre_sain          2069\n",
    "nombre_exposed        524\n",
    "nombre_recovered    16279\n",
    "Name: 395, dtype: int64"
   ]
  },
  {
   "cell_type": "markdown",
   "id": "6d210c45",
   "metadata": {},
   "source": [
    "nombre_infected      1146\n",
    "nombre_sain          2096\n",
    "nombre_exposed        528\n",
    "nombre_recovered    16230\n",
    "Name: 396, dtype: int64"
   ]
  },
  {
   "cell_type": "markdown",
   "id": "7e8c77ae",
   "metadata": {},
   "source": [
    "nombre_infected      1118\n",
    "nombre_sain          2087\n",
    "nombre_exposed        555\n",
    "nombre_recovered    16240\n",
    "Name: 397, dtype: int64"
   ]
  },
  {
   "cell_type": "markdown",
   "id": "45b9c539",
   "metadata": {},
   "source": [
    "nombre_infected      1105\n",
    "nombre_sain          2089\n",
    "nombre_exposed        570\n",
    "nombre_recovered    16236\n",
    "Name: 398, dtype: int64"
   ]
  },
  {
   "cell_type": "markdown",
   "id": "dc71a829",
   "metadata": {},
   "source": [
    "nombre_infected      1091\n",
    "nombre_sain          2079\n",
    "nombre_exposed        568\n",
    "nombre_recovered    16262\n",
    "Name: 399, dtype: int64"
   ]
  },
  {
   "cell_type": "markdown",
   "id": "7bd9a9e3",
   "metadata": {},
   "source": [
    "nombre_infected      1102\n",
    "nombre_sain          2091\n",
    "nombre_exposed        570\n",
    "nombre_recovered    16237\n",
    "Name: 400, dtype: int64"
   ]
  },
  {
   "cell_type": "markdown",
   "id": "eeb64c46",
   "metadata": {},
   "source": [
    "nombre_infected      1099\n",
    "nombre_sain          2095\n",
    "nombre_exposed        574\n",
    "nombre_recovered    16232\n",
    "Name: 401, dtype: int64"
   ]
  },
  {
   "cell_type": "markdown",
   "id": "8728a61e",
   "metadata": {},
   "source": [
    "nombre_infected      1104\n",
    "nombre_sain          2120\n",
    "nombre_exposed        549\n",
    "nombre_recovered    16227\n",
    "Name: 402, dtype: int64"
   ]
  },
  {
   "cell_type": "markdown",
   "id": "b0cabc77",
   "metadata": {},
   "source": [
    "nombre_infected      1113\n",
    "nombre_sain          2131\n",
    "nombre_exposed        545\n",
    "nombre_recovered    16211\n",
    "Name: 403, dtype: int64"
   ]
  },
  {
   "cell_type": "markdown",
   "id": "8804df50",
   "metadata": {},
   "source": [
    "nombre_infected      1098\n",
    "nombre_sain          2109\n",
    "nombre_exposed        570\n",
    "nombre_recovered    16223\n",
    "Name: 404, dtype: int64"
   ]
  },
  {
   "cell_type": "markdown",
   "id": "aefeb3a2",
   "metadata": {},
   "source": [
    "nombre_infected      1117\n",
    "nombre_sain          2120\n",
    "nombre_exposed        557\n",
    "nombre_recovered    16206\n",
    "Name: 405, dtype: int64"
   ]
  },
  {
   "cell_type": "markdown",
   "id": "b5baaab6",
   "metadata": {},
   "source": [
    "nombre_infected      1116\n",
    "nombre_sain          2155\n",
    "nombre_exposed        550\n",
    "nombre_recovered    16179\n",
    "Name: 406, dtype: int64"
   ]
  },
  {
   "cell_type": "markdown",
   "id": "8ce86c97",
   "metadata": {},
   "source": [
    "nombre_infected      1129\n",
    "nombre_sain          2151\n",
    "nombre_exposed        549\n",
    "nombre_recovered    16171\n",
    "Name: 407, dtype: int64"
   ]
  },
  {
   "cell_type": "markdown",
   "id": "49d1b035",
   "metadata": {},
   "source": [
    "nombre_infected      1118\n",
    "nombre_sain          2140\n",
    "nombre_exposed        568\n",
    "nombre_recovered    16174\n",
    "Name: 408, dtype: int64"
   ]
  },
  {
   "cell_type": "markdown",
   "id": "e935fcd8",
   "metadata": {},
   "source": [
    "nombre_infected      1112\n",
    "nombre_sain          2139\n",
    "nombre_exposed        567\n",
    "nombre_recovered    16182\n",
    "Name: 409, dtype: int64"
   ]
  },
  {
   "cell_type": "markdown",
   "id": "c02d1f09",
   "metadata": {},
   "source": [
    "nombre_infected      1113\n",
    "nombre_sain          2153\n",
    "nombre_exposed        554\n",
    "nombre_recovered    16180\n",
    "Name: 410, dtype: int64"
   ]
  },
  {
   "cell_type": "markdown",
   "id": "3d27a2e8",
   "metadata": {},
   "source": [
    "nombre_infected      1117\n",
    "nombre_sain          2150\n",
    "nombre_exposed        553\n",
    "nombre_recovered    16180\n",
    "Name: 411, dtype: int64"
   ]
  },
  {
   "cell_type": "markdown",
   "id": "467aef5b",
   "metadata": {},
   "source": [
    "nombre_infected      1115\n",
    "nombre_sain          2144\n",
    "nombre_exposed        551\n",
    "nombre_recovered    16190\n",
    "Name: 412, dtype: int64"
   ]
  },
  {
   "cell_type": "markdown",
   "id": "4631108b",
   "metadata": {},
   "source": [
    "nombre_infected      1117\n",
    "nombre_sain          2115\n",
    "nombre_exposed        590\n",
    "nombre_recovered    16178\n",
    "Name: 413, dtype: int64"
   ]
  },
  {
   "cell_type": "markdown",
   "id": "28f4afb7",
   "metadata": {},
   "source": [
    "nombre_infected      1103\n",
    "nombre_sain          2105\n",
    "nombre_exposed        608\n",
    "nombre_recovered    16184\n",
    "Name: 414, dtype: int64"
   ]
  },
  {
   "cell_type": "markdown",
   "id": "906a4072",
   "metadata": {},
   "source": [
    "nombre_infected      1102\n",
    "nombre_sain          2084\n",
    "nombre_exposed        625\n",
    "nombre_recovered    16189\n",
    "Name: 415, dtype: int64"
   ]
  },
  {
   "cell_type": "markdown",
   "id": "c2516258",
   "metadata": {},
   "source": [
    "nombre_infected      1119\n",
    "nombre_sain          2073\n",
    "nombre_exposed        616\n",
    "nombre_recovered    16192\n",
    "Name: 416, dtype: int64"
   ]
  },
  {
   "cell_type": "markdown",
   "id": "c1c5d4c4",
   "metadata": {},
   "source": [
    "nombre_infected      1122\n",
    "nombre_sain          2037\n",
    "nombre_exposed        624\n",
    "nombre_recovered    16217\n",
    "Name: 417, dtype: int64"
   ]
  },
  {
   "cell_type": "markdown",
   "id": "562698b7",
   "metadata": {},
   "source": [
    "nombre_infected      1150\n",
    "nombre_sain          2001\n",
    "nombre_exposed        631\n",
    "nombre_recovered    16218\n",
    "Name: 418, dtype: int64"
   ]
  },
  {
   "cell_type": "markdown",
   "id": "772980d1",
   "metadata": {},
   "source": [
    "nombre_infected      1152\n",
    "nombre_sain          1977\n",
    "nombre_exposed        628\n",
    "nombre_recovered    16243\n",
    "Name: 419, dtype: int64"
   ]
  },
  {
   "cell_type": "markdown",
   "id": "635a5d0e",
   "metadata": {},
   "source": [
    "nombre_infected      1183\n",
    "nombre_sain          1987\n",
    "nombre_exposed        585\n",
    "nombre_recovered    16245\n",
    "Name: 420, dtype: int64"
   ]
  },
  {
   "cell_type": "markdown",
   "id": "2a255ca7",
   "metadata": {},
   "source": [
    "nombre_infected      1201\n",
    "nombre_sain          1950\n",
    "nombre_exposed        585\n",
    "nombre_recovered    16264\n",
    "Name: 421, dtype: int64"
   ]
  },
  {
   "cell_type": "markdown",
   "id": "510fa4b5",
   "metadata": {},
   "source": [
    "nombre_infected      1215\n",
    "nombre_sain          1917\n",
    "nombre_exposed        589\n",
    "nombre_recovered    16279\n",
    "Name: 422, dtype: int64"
   ]
  },
  {
   "cell_type": "markdown",
   "id": "149b4a7e",
   "metadata": {},
   "source": [
    "nombre_infected      1212\n",
    "nombre_sain          1871\n",
    "nombre_exposed        596\n",
    "nombre_recovered    16321\n",
    "Name: 423, dtype: int64"
   ]
  },
  {
   "cell_type": "markdown",
   "id": "916fb3a5",
   "metadata": {},
   "source": [
    "nombre_infected      1192\n",
    "nombre_sain          1862\n",
    "nombre_exposed        579\n",
    "nombre_recovered    16367\n",
    "Name: 424, dtype: int64"
   ]
  },
  {
   "cell_type": "markdown",
   "id": "4b33ae70",
   "metadata": {},
   "source": [
    "nombre_infected      1166\n",
    "nombre_sain          1829\n",
    "nombre_exposed        590\n",
    "nombre_recovered    16415\n",
    "Name: 425, dtype: int64"
   ]
  },
  {
   "cell_type": "markdown",
   "id": "b7e7b45a",
   "metadata": {},
   "source": [
    "nombre_infected      1146\n",
    "nombre_sain          1808\n",
    "nombre_exposed        581\n",
    "nombre_recovered    16465\n",
    "Name: 426, dtype: int64"
   ]
  },
  {
   "cell_type": "markdown",
   "id": "38b3fcc6",
   "metadata": {},
   "source": [
    "nombre_infected      1149\n",
    "nombre_sain          1810\n",
    "nombre_exposed        544\n",
    "nombre_recovered    16497\n",
    "Name: 427, dtype: int64"
   ]
  },
  {
   "cell_type": "markdown",
   "id": "9426f0d7",
   "metadata": {},
   "source": [
    "nombre_infected      1138\n",
    "nombre_sain          1798\n",
    "nombre_exposed        545\n",
    "nombre_recovered    16519\n",
    "Name: 428, dtype: int64"
   ]
  },
  {
   "cell_type": "markdown",
   "id": "577c998e",
   "metadata": {},
   "source": [
    "nombre_infected      1129\n",
    "nombre_sain          1781\n",
    "nombre_exposed        561\n",
    "nombre_recovered    16529\n",
    "Name: 429, dtype: int64"
   ]
  },
  {
   "cell_type": "markdown",
   "id": "f187d4be",
   "metadata": {},
   "source": [
    "nombre_infected      1131\n",
    "nombre_sain          1769\n",
    "nombre_exposed        561\n",
    "nombre_recovered    16539\n",
    "Name: 430, dtype: int64"
   ]
  },
  {
   "cell_type": "markdown",
   "id": "e8447d36",
   "metadata": {},
   "source": [
    "nombre_infected      1131\n",
    "nombre_sain          1778\n",
    "nombre_exposed        552\n",
    "nombre_recovered    16539\n",
    "Name: 431, dtype: int64"
   ]
  },
  {
   "cell_type": "markdown",
   "id": "b5f3efde",
   "metadata": {},
   "source": [
    "nombre_infected      1118\n",
    "nombre_sain          1734\n",
    "nombre_exposed        564\n",
    "nombre_recovered    16584\n",
    "Name: 432, dtype: int64"
   ]
  },
  {
   "cell_type": "markdown",
   "id": "3ce3b898",
   "metadata": {},
   "source": [
    "nombre_infected      1105\n",
    "nombre_sain          1758\n",
    "nombre_exposed        531\n",
    "nombre_recovered    16606\n",
    "Name: 433, dtype: int64"
   ]
  },
  {
   "cell_type": "markdown",
   "id": "bbbd7bf6",
   "metadata": {},
   "source": [
    "nombre_infected      1090\n",
    "nombre_sain          1765\n",
    "nombre_exposed        516\n",
    "nombre_recovered    16629\n",
    "Name: 434, dtype: int64"
   ]
  },
  {
   "cell_type": "markdown",
   "id": "66b73b34",
   "metadata": {},
   "source": [
    "nombre_infected      1096\n",
    "nombre_sain          1737\n",
    "nombre_exposed        501\n",
    "nombre_recovered    16666\n",
    "Name: 435, dtype: int64"
   ]
  },
  {
   "cell_type": "markdown",
   "id": "285612ed",
   "metadata": {},
   "source": [
    "nombre_infected      1057\n",
    "nombre_sain          1748\n",
    "nombre_exposed        500\n",
    "nombre_recovered    16695\n",
    "Name: 436, dtype: int64"
   ]
  },
  {
   "cell_type": "markdown",
   "id": "d5ec804a",
   "metadata": {},
   "source": [
    "nombre_infected      1053\n",
    "nombre_sain          1730\n",
    "nombre_exposed        484\n",
    "nombre_recovered    16733\n",
    "Name: 437, dtype: int64"
   ]
  },
  {
   "cell_type": "markdown",
   "id": "1caea553",
   "metadata": {},
   "source": [
    "nombre_infected      1025\n",
    "nombre_sain          1735\n",
    "nombre_exposed        472\n",
    "nombre_recovered    16768\n",
    "Name: 438, dtype: int64"
   ]
  },
  {
   "cell_type": "markdown",
   "id": "24a279ae",
   "metadata": {},
   "source": [
    "nombre_infected      1002\n",
    "nombre_sain          1712\n",
    "nombre_exposed        493\n",
    "nombre_recovered    16793\n",
    "Name: 439, dtype: int64"
   ]
  },
  {
   "cell_type": "markdown",
   "id": "0f2fad37",
   "metadata": {},
   "source": [
    "nombre_infected       988\n",
    "nombre_sain          1735\n",
    "nombre_exposed        465\n",
    "nombre_recovered    16812\n",
    "Name: 440, dtype: int64"
   ]
  },
  {
   "cell_type": "markdown",
   "id": "fc6e7b7a",
   "metadata": {},
   "source": [
    "nombre_infected       982\n",
    "nombre_sain          1743\n",
    "nombre_exposed        454\n",
    "nombre_recovered    16821\n",
    "Name: 441, dtype: int64"
   ]
  },
  {
   "cell_type": "markdown",
   "id": "7bd7148d",
   "metadata": {},
   "source": [
    "nombre_infected       973\n",
    "nombre_sain          1744\n",
    "nombre_exposed        451\n",
    "nombre_recovered    16832\n",
    "Name: 442, dtype: int64"
   ]
  },
  {
   "cell_type": "markdown",
   "id": "9c91f3d4",
   "metadata": {},
   "source": [
    "nombre_infected       952\n",
    "nombre_sain          1763\n",
    "nombre_exposed        451\n",
    "nombre_recovered    16834\n",
    "Name: 443, dtype: int64"
   ]
  },
  {
   "cell_type": "markdown",
   "id": "c0a14b4a",
   "metadata": {},
   "source": [
    "nombre_infected       927\n",
    "nombre_sain          1781\n",
    "nombre_exposed        430\n",
    "nombre_recovered    16862\n",
    "Name: 444, dtype: int64"
   ]
  },
  {
   "cell_type": "markdown",
   "id": "5105858b",
   "metadata": {},
   "source": [
    "nombre_infected       890\n",
    "nombre_sain          1833\n",
    "nombre_exposed        402\n",
    "nombre_recovered    16875\n",
    "Name: 445, dtype: int64"
   ]
  },
  {
   "cell_type": "markdown",
   "id": "9c81afd5",
   "metadata": {},
   "source": [
    "nombre_infected       883\n",
    "nombre_sain          1861\n",
    "nombre_exposed        393\n",
    "nombre_recovered    16863\n",
    "Name: 446, dtype: int64"
   ]
  },
  {
   "cell_type": "markdown",
   "id": "d36b08c2",
   "metadata": {},
   "source": [
    "nombre_infected       878\n",
    "nombre_sain          1866\n",
    "nombre_exposed        406\n",
    "nombre_recovered    16850\n",
    "Name: 447, dtype: int64"
   ]
  },
  {
   "cell_type": "markdown",
   "id": "1fc0f0ae",
   "metadata": {},
   "source": [
    "nombre_infected       826\n",
    "nombre_sain          1916\n",
    "nombre_exposed        410\n",
    "nombre_recovered    16848\n",
    "Name: 448, dtype: int64"
   ]
  },
  {
   "cell_type": "markdown",
   "id": "1e26c00e",
   "metadata": {},
   "source": [
    "nombre_infected       838\n",
    "nombre_sain          1949\n",
    "nombre_exposed        413\n",
    "nombre_recovered    16800\n",
    "Name: 449, dtype: int64"
   ]
  },
  {
   "cell_type": "markdown",
   "id": "f3c08020",
   "metadata": {},
   "source": [
    "nombre_infected       824\n",
    "nombre_sain          1973\n",
    "nombre_exposed        405\n",
    "nombre_recovered    16798\n",
    "Name: 450, dtype: int64"
   ]
  },
  {
   "cell_type": "markdown",
   "id": "2da3591d",
   "metadata": {},
   "source": [
    "nombre_infected       822\n",
    "nombre_sain          1998\n",
    "nombre_exposed        394\n",
    "nombre_recovered    16786\n",
    "Name: 451, dtype: int64"
   ]
  },
  {
   "cell_type": "markdown",
   "id": "3a27aa19",
   "metadata": {},
   "source": [
    "nombre_infected       818\n",
    "nombre_sain          2030\n",
    "nombre_exposed        403\n",
    "nombre_recovered    16749\n",
    "Name: 452, dtype: int64"
   ]
  },
  {
   "cell_type": "markdown",
   "id": "6719a832",
   "metadata": {},
   "source": [
    "nombre_infected       808\n",
    "nombre_sain          2069\n",
    "nombre_exposed        402\n",
    "nombre_recovered    16721\n",
    "Name: 453, dtype: int64"
   ]
  },
  {
   "cell_type": "markdown",
   "id": "15bf05bb",
   "metadata": {},
   "source": [
    "nombre_infected       797\n",
    "nombre_sain          2082\n",
    "nombre_exposed        424\n",
    "nombre_recovered    16697\n",
    "Name: 454, dtype: int64"
   ]
  },
  {
   "cell_type": "markdown",
   "id": "fdc496b5",
   "metadata": {},
   "source": [
    "nombre_infected       784\n",
    "nombre_sain          2075\n",
    "nombre_exposed        428\n",
    "nombre_recovered    16713\n",
    "Name: 455, dtype: int64"
   ]
  },
  {
   "cell_type": "markdown",
   "id": "acb4c2a7",
   "metadata": {},
   "source": [
    "nombre_infected       778\n",
    "nombre_sain          2104\n",
    "nombre_exposed        438\n",
    "nombre_recovered    16680\n",
    "Name: 456, dtype: int64"
   ]
  },
  {
   "cell_type": "markdown",
   "id": "3899a2aa",
   "metadata": {},
   "source": [
    "nombre_infected       793\n",
    "nombre_sain          2129\n",
    "nombre_exposed        432\n",
    "nombre_recovered    16646\n",
    "Name: 457, dtype: int64"
   ]
  },
  {
   "cell_type": "markdown",
   "id": "80dd075e",
   "metadata": {},
   "source": [
    "nombre_infected       790\n",
    "nombre_sain          2111\n",
    "nombre_exposed        438\n",
    "nombre_recovered    16661\n",
    "Name: 458, dtype: int64"
   ]
  },
  {
   "cell_type": "markdown",
   "id": "fd78f12a",
   "metadata": {},
   "source": [
    "nombre_infected       822\n",
    "nombre_sain          2115\n",
    "nombre_exposed        421\n",
    "nombre_recovered    16642\n",
    "Name: 459, dtype: int64"
   ]
  },
  {
   "cell_type": "markdown",
   "id": "dab0cad2",
   "metadata": {},
   "source": [
    "nombre_infected       811\n",
    "nombre_sain          2126\n",
    "nombre_exposed        438\n",
    "nombre_recovered    16625\n",
    "Name: 460, dtype: int64"
   ]
  },
  {
   "cell_type": "markdown",
   "id": "789d6b93",
   "metadata": {},
   "source": [
    "nombre_infected       798\n",
    "nombre_sain          2116\n",
    "nombre_exposed        455\n",
    "nombre_recovered    16631\n",
    "Name: 461, dtype: int64"
   ]
  },
  {
   "cell_type": "markdown",
   "id": "3bdf84d3",
   "metadata": {},
   "source": [
    "nombre_infected       799\n",
    "nombre_sain          2129\n",
    "nombre_exposed        445\n",
    "nombre_recovered    16627\n",
    "Name: 462, dtype: int64"
   ]
  },
  {
   "cell_type": "markdown",
   "id": "a834b763",
   "metadata": {},
   "source": [
    "nombre_infected       812\n",
    "nombre_sain          2130\n",
    "nombre_exposed        435\n",
    "nombre_recovered    16623\n",
    "Name: 463, dtype: int64"
   ]
  },
  {
   "cell_type": "markdown",
   "id": "9f8838e1",
   "metadata": {},
   "source": [
    "nombre_infected       797\n",
    "nombre_sain          2134\n",
    "nombre_exposed        439\n",
    "nombre_recovered    16630\n",
    "Name: 464, dtype: int64"
   ]
  },
  {
   "cell_type": "markdown",
   "id": "29fad08e",
   "metadata": {},
   "source": [
    "nombre_infected       812\n",
    "nombre_sain          2141\n",
    "nombre_exposed        445\n",
    "nombre_recovered    16602\n",
    "Name: 465, dtype: int64"
   ]
  },
  {
   "cell_type": "markdown",
   "id": "73444d4a",
   "metadata": {},
   "source": [
    "nombre_infected       802\n",
    "nombre_sain          2170\n",
    "nombre_exposed        427\n",
    "nombre_recovered    16601\n",
    "Name: 466, dtype: int64"
   ]
  },
  {
   "cell_type": "markdown",
   "id": "67ca400b",
   "metadata": {},
   "source": [
    "nombre_infected       793\n",
    "nombre_sain          2175\n",
    "nombre_exposed        428\n",
    "nombre_recovered    16604\n",
    "Name: 467, dtype: int64"
   ]
  },
  {
   "cell_type": "markdown",
   "id": "b9e49640",
   "metadata": {},
   "source": [
    "nombre_infected       788\n",
    "nombre_sain          2154\n",
    "nombre_exposed        453\n",
    "nombre_recovered    16605\n",
    "Name: 468, dtype: int64"
   ]
  },
  {
   "cell_type": "markdown",
   "id": "a42869c6",
   "metadata": {},
   "source": [
    "nombre_infected       802\n",
    "nombre_sain          2149\n",
    "nombre_exposed        466\n",
    "nombre_recovered    16583\n",
    "Name: 469, dtype: int64"
   ]
  },
  {
   "cell_type": "markdown",
   "id": "9dae89e4",
   "metadata": {},
   "source": [
    "nombre_infected       801\n",
    "nombre_sain          2137\n",
    "nombre_exposed        473\n",
    "nombre_recovered    16589\n",
    "Name: 470, dtype: int64"
   ]
  },
  {
   "cell_type": "markdown",
   "id": "039454e6",
   "metadata": {},
   "source": [
    "nombre_infected       791\n",
    "nombre_sain          2168\n",
    "nombre_exposed        465\n",
    "nombre_recovered    16576\n",
    "Name: 471, dtype: int64"
   ]
  },
  {
   "cell_type": "markdown",
   "id": "59717b08",
   "metadata": {},
   "source": [
    "nombre_infected       818\n",
    "nombre_sain          2165\n",
    "nombre_exposed        448\n",
    "nombre_recovered    16569\n",
    "Name: 472, dtype: int64"
   ]
  },
  {
   "cell_type": "markdown",
   "id": "ad0aca92",
   "metadata": {},
   "source": [
    "nombre_infected       816\n",
    "nombre_sain          2207\n",
    "nombre_exposed        458\n",
    "nombre_recovered    16519\n",
    "Name: 473, dtype: int64"
   ]
  },
  {
   "cell_type": "markdown",
   "id": "4abc7bb4",
   "metadata": {},
   "source": [
    "nombre_infected       822\n",
    "nombre_sain          2202\n",
    "nombre_exposed        475\n",
    "nombre_recovered    16501\n",
    "Name: 474, dtype: int64"
   ]
  },
  {
   "cell_type": "markdown",
   "id": "c3e603fd",
   "metadata": {},
   "source": [
    "nombre_infected       804\n",
    "nombre_sain          2220\n",
    "nombre_exposed        484\n",
    "nombre_recovered    16492\n",
    "Name: 475, dtype: int64"
   ]
  },
  {
   "cell_type": "markdown",
   "id": "8825f9a5",
   "metadata": {},
   "source": [
    "nombre_infected       801\n",
    "nombre_sain          2234\n",
    "nombre_exposed        483\n",
    "nombre_recovered    16482\n",
    "Name: 476, dtype: int64"
   ]
  },
  {
   "cell_type": "markdown",
   "id": "7298db10",
   "metadata": {},
   "source": [
    "nombre_infected       805\n",
    "nombre_sain          2273\n",
    "nombre_exposed        472\n",
    "nombre_recovered    16450\n",
    "Name: 477, dtype: int64"
   ]
  },
  {
   "cell_type": "markdown",
   "id": "d2c437c2",
   "metadata": {},
   "source": [
    "nombre_infected       815\n",
    "nombre_sain          2255\n",
    "nombre_exposed        491\n",
    "nombre_recovered    16439\n",
    "Name: 478, dtype: int64"
   ]
  },
  {
   "cell_type": "markdown",
   "id": "0340b06f",
   "metadata": {},
   "source": [
    "nombre_infected       851\n",
    "nombre_sain          2275\n",
    "nombre_exposed        484\n",
    "nombre_recovered    16390\n",
    "Name: 479, dtype: int64"
   ]
  },
  {
   "cell_type": "markdown",
   "id": "8a2a6898",
   "metadata": {},
   "source": [
    "nombre_infected       841\n",
    "nombre_sain          2293\n",
    "nombre_exposed        488\n",
    "nombre_recovered    16378\n",
    "Name: 480, dtype: int64"
   ]
  },
  {
   "cell_type": "markdown",
   "id": "50f2bbf9",
   "metadata": {},
   "source": [
    "nombre_infected       859\n",
    "nombre_sain          2268\n",
    "nombre_exposed        496\n",
    "nombre_recovered    16377\n",
    "Name: 481, dtype: int64"
   ]
  },
  {
   "cell_type": "markdown",
   "id": "bea5c013",
   "metadata": {},
   "source": [
    "nombre_infected       861\n",
    "nombre_sain          2290\n",
    "nombre_exposed        504\n",
    "nombre_recovered    16345\n",
    "Name: 482, dtype: int64"
   ]
  },
  {
   "cell_type": "markdown",
   "id": "6479cd0a",
   "metadata": {},
   "source": [
    "nombre_infected       838\n",
    "nombre_sain          2306\n",
    "nombre_exposed        524\n",
    "nombre_recovered    16332\n",
    "Name: 483, dtype: int64"
   ]
  },
  {
   "cell_type": "markdown",
   "id": "abead0e9",
   "metadata": {},
   "source": [
    "nombre_infected       850\n",
    "nombre_sain          2291\n",
    "nombre_exposed        516\n",
    "nombre_recovered    16343\n",
    "Name: 484, dtype: int64"
   ]
  },
  {
   "cell_type": "markdown",
   "id": "f3aaf537",
   "metadata": {},
   "source": [
    "nombre_infected       870\n",
    "nombre_sain          2283\n",
    "nombre_exposed        520\n",
    "nombre_recovered    16327\n",
    "Name: 485, dtype: int64"
   ]
  },
  {
   "cell_type": "markdown",
   "id": "5521a73f",
   "metadata": {},
   "source": [
    "nombre_infected       889\n",
    "nombre_sain          2278\n",
    "nombre_exposed        488\n",
    "nombre_recovered    16345\n",
    "Name: 486, dtype: int64"
   ]
  },
  {
   "cell_type": "markdown",
   "id": "c5faec57",
   "metadata": {},
   "source": [
    "nombre_infected       887\n",
    "nombre_sain          2284\n",
    "nombre_exposed        511\n",
    "nombre_recovered    16318\n",
    "Name: 487, dtype: int64"
   ]
  },
  {
   "cell_type": "markdown",
   "id": "37812704",
   "metadata": {},
   "source": [
    "nombre_infected       878\n",
    "nombre_sain          2302\n",
    "nombre_exposed        514\n",
    "nombre_recovered    16306\n",
    "Name: 488, dtype: int64"
   ]
  },
  {
   "cell_type": "markdown",
   "id": "9023b6b3",
   "metadata": {},
   "source": [
    "nombre_infected       882\n",
    "nombre_sain          2290\n",
    "nombre_exposed        530\n",
    "nombre_recovered    16298\n",
    "Name: 489, dtype: int64"
   ]
  },
  {
   "cell_type": "markdown",
   "id": "0aa0a842",
   "metadata": {},
   "source": [
    "nombre_infected       881\n",
    "nombre_sain          2304\n",
    "nombre_exposed        538\n",
    "nombre_recovered    16277\n",
    "Name: 490, dtype: int64"
   ]
  },
  {
   "cell_type": "markdown",
   "id": "73801ee7",
   "metadata": {},
   "source": [
    "nombre_infected       907\n",
    "nombre_sain          2313\n",
    "nombre_exposed        512\n",
    "nombre_recovered    16268\n",
    "Name: 491, dtype: int64"
   ]
  },
  {
   "cell_type": "markdown",
   "id": "e148ece5",
   "metadata": {},
   "source": [
    "nombre_infected       917\n",
    "nombre_sain          2315\n",
    "nombre_exposed        518\n",
    "nombre_recovered    16250\n",
    "Name: 492, dtype: int64"
   ]
  },
  {
   "cell_type": "markdown",
   "id": "4b61967c",
   "metadata": {},
   "source": [
    "nombre_infected       922\n",
    "nombre_sain          2338\n",
    "nombre_exposed        529\n",
    "nombre_recovered    16211\n",
    "Name: 493, dtype: int64"
   ]
  },
  {
   "cell_type": "markdown",
   "id": "9e4729ae",
   "metadata": {},
   "source": [
    "nombre_infected       900\n",
    "nombre_sain          2315\n",
    "nombre_exposed        566\n",
    "nombre_recovered    16219\n",
    "Name: 494, dtype: int64"
   ]
  },
  {
   "cell_type": "markdown",
   "id": "5c13c036",
   "metadata": {},
   "source": [
    "nombre_infected       915\n",
    "nombre_sain          2309\n",
    "nombre_exposed        550\n",
    "nombre_recovered    16226\n",
    "Name: 495, dtype: int64"
   ]
  },
  {
   "cell_type": "markdown",
   "id": "25c3967b",
   "metadata": {},
   "source": [
    "nombre_infected       918\n",
    "nombre_sain          2302\n",
    "nombre_exposed        548\n",
    "nombre_recovered    16232\n",
    "Name: 496, dtype: int64"
   ]
  },
  {
   "cell_type": "markdown",
   "id": "2267ccce",
   "metadata": {},
   "source": [
    "nombre_infected       953\n",
    "nombre_sain          2319\n",
    "nombre_exposed        531\n",
    "nombre_recovered    16197\n",
    "Name: 497, dtype: int64"
   ]
  },
  {
   "cell_type": "markdown",
   "id": "99d05822",
   "metadata": {},
   "source": [
    "nombre_infected       982\n",
    "nombre_sain          2320\n",
    "nombre_exposed        522\n",
    "nombre_recovered    16176\n",
    "Name: 498, dtype: int64"
   ]
  },
  {
   "cell_type": "markdown",
   "id": "82874795",
   "metadata": {},
   "source": [
    "nombre_infected       988\n",
    "nombre_sain          2301\n",
    "nombre_exposed        552\n",
    "nombre_recovered    16159\n",
    "Name: 499, dtype: int64"
   ]
  },
  {
   "cell_type": "markdown",
   "id": "298c1e0c",
   "metadata": {},
   "source": [
    "nombre_infected       997\n",
    "nombre_sain          2287\n",
    "nombre_exposed        551\n",
    "nombre_recovered    16165\n",
    "Name: 500, dtype: int64"
   ]
  },
  {
   "cell_type": "markdown",
   "id": "6ceb24ce",
   "metadata": {},
   "source": [
    "nombre_infected       999\n",
    "nombre_sain          2286\n",
    "nombre_exposed        555\n",
    "nombre_recovered    16160\n",
    "Name: 501, dtype: int64"
   ]
  },
  {
   "cell_type": "markdown",
   "id": "bcfc8005",
   "metadata": {},
   "source": [
    "nombre_infected       999\n",
    "nombre_sain          2284\n",
    "nombre_exposed        561\n",
    "nombre_recovered    16156\n",
    "Name: 502, dtype: int64"
   ]
  },
  {
   "cell_type": "markdown",
   "id": "133c1ea3",
   "metadata": {},
   "source": [
    "nombre_infected       993\n",
    "nombre_sain          2283\n",
    "nombre_exposed        552\n",
    "nombre_recovered    16172\n",
    "Name: 503, dtype: int64"
   ]
  },
  {
   "cell_type": "markdown",
   "id": "43ff7c3d",
   "metadata": {},
   "source": [
    "nombre_infected       999\n",
    "nombre_sain          2291\n",
    "nombre_exposed        515\n",
    "nombre_recovered    16195\n",
    "Name: 504, dtype: int64"
   ]
  },
  {
   "cell_type": "markdown",
   "id": "f870740a",
   "metadata": {},
   "source": [
    "nombre_infected       983\n",
    "nombre_sain          2261\n",
    "nombre_exposed        546\n",
    "nombre_recovered    16210\n",
    "Name: 505, dtype: int64"
   ]
  },
  {
   "cell_type": "markdown",
   "id": "f2fcdd09",
   "metadata": {},
   "source": [
    "nombre_infected       951\n",
    "nombre_sain          2242\n",
    "nombre_exposed        548\n",
    "nombre_recovered    16259\n",
    "Name: 506, dtype: int64"
   ]
  },
  {
   "cell_type": "markdown",
   "id": "3336447f",
   "metadata": {},
   "source": [
    "nombre_infected       964\n",
    "nombre_sain          2238\n",
    "nombre_exposed        544\n",
    "nombre_recovered    16254\n",
    "Name: 507, dtype: int64"
   ]
  },
  {
   "cell_type": "markdown",
   "id": "15fa9ea7",
   "metadata": {},
   "source": [
    "nombre_infected       967\n",
    "nombre_sain          2238\n",
    "nombre_exposed        539\n",
    "nombre_recovered    16256\n",
    "Name: 508, dtype: int64"
   ]
  },
  {
   "cell_type": "markdown",
   "id": "932338a5",
   "metadata": {},
   "source": [
    "nombre_infected       969\n",
    "nombre_sain          2232\n",
    "nombre_exposed        522\n",
    "nombre_recovered    16277\n",
    "Name: 509, dtype: int64"
   ]
  },
  {
   "cell_type": "markdown",
   "id": "d3c1965f",
   "metadata": {},
   "source": [
    "nombre_infected       966\n",
    "nombre_sain          2208\n",
    "nombre_exposed        535\n",
    "nombre_recovered    16291\n",
    "Name: 510, dtype: int64"
   ]
  },
  {
   "cell_type": "markdown",
   "id": "c464dae3",
   "metadata": {},
   "source": [
    "nombre_infected       950\n",
    "nombre_sain          2197\n",
    "nombre_exposed        539\n",
    "nombre_recovered    16314\n",
    "Name: 511, dtype: int64"
   ]
  },
  {
   "cell_type": "markdown",
   "id": "fd6e477a",
   "metadata": {},
   "source": [
    "nombre_infected       951\n",
    "nombre_sain          2172\n",
    "nombre_exposed        532\n",
    "nombre_recovered    16345\n",
    "Name: 512, dtype: int64"
   ]
  },
  {
   "cell_type": "markdown",
   "id": "474b73d2",
   "metadata": {},
   "source": [
    "nombre_infected       967\n",
    "nombre_sain          2190\n",
    "nombre_exposed        499\n",
    "nombre_recovered    16344\n",
    "Name: 513, dtype: int64"
   ]
  },
  {
   "cell_type": "markdown",
   "id": "e4387164",
   "metadata": {},
   "source": [
    "nombre_infected       962\n",
    "nombre_sain          2198\n",
    "nombre_exposed        489\n",
    "nombre_recovered    16351\n",
    "Name: 514, dtype: int64"
   ]
  },
  {
   "cell_type": "markdown",
   "id": "dc12b412",
   "metadata": {},
   "source": [
    "nombre_infected       951\n",
    "nombre_sain          2184\n",
    "nombre_exposed        478\n",
    "nombre_recovered    16387\n",
    "Name: 515, dtype: int64"
   ]
  },
  {
   "cell_type": "markdown",
   "id": "6ab2c3ee",
   "metadata": {},
   "source": [
    "nombre_infected       930\n",
    "nombre_sain          2165\n",
    "nombre_exposed        481\n",
    "nombre_recovered    16424\n",
    "Name: 516, dtype: int64"
   ]
  },
  {
   "cell_type": "markdown",
   "id": "0afe4950",
   "metadata": {},
   "source": [
    "nombre_infected       934\n",
    "nombre_sain          2141\n",
    "nombre_exposed        503\n",
    "nombre_recovered    16422\n",
    "Name: 517, dtype: int64"
   ]
  },
  {
   "cell_type": "markdown",
   "id": "d55772c2",
   "metadata": {},
   "source": [
    "nombre_infected       931\n",
    "nombre_sain          2129\n",
    "nombre_exposed        508\n",
    "nombre_recovered    16432\n",
    "Name: 518, dtype: int64"
   ]
  },
  {
   "cell_type": "markdown",
   "id": "18ed5c42",
   "metadata": {},
   "source": [
    "nombre_infected       958\n",
    "nombre_sain          2123\n",
    "nombre_exposed        483\n",
    "nombre_recovered    16436\n",
    "Name: 519, dtype: int64"
   ]
  },
  {
   "cell_type": "markdown",
   "id": "496a96a9",
   "metadata": {},
   "source": [
    "nombre_infected       954\n",
    "nombre_sain          2100\n",
    "nombre_exposed        484\n",
    "nombre_recovered    16462\n",
    "Name: 520, dtype: int64"
   ]
  },
  {
   "cell_type": "markdown",
   "id": "d46e249a",
   "metadata": {},
   "source": [
    "nombre_infected       958\n",
    "nombre_sain          2094\n",
    "nombre_exposed        482\n",
    "nombre_recovered    16466\n",
    "Name: 521, dtype: int64"
   ]
  },
  {
   "cell_type": "markdown",
   "id": "e7b657b0",
   "metadata": {},
   "source": [
    "nombre_infected       946\n",
    "nombre_sain          2093\n",
    "nombre_exposed        473\n",
    "nombre_recovered    16488\n",
    "Name: 522, dtype: int64"
   ]
  },
  {
   "cell_type": "markdown",
   "id": "c40f5839",
   "metadata": {},
   "source": [
    "nombre_infected       953\n",
    "nombre_sain          2070\n",
    "nombre_exposed        486\n",
    "nombre_recovered    16491\n",
    "Name: 523, dtype: int64"
   ]
  },
  {
   "cell_type": "markdown",
   "id": "d73e2208",
   "metadata": {},
   "source": [
    "nombre_infected       934\n",
    "nombre_sain          2073\n",
    "nombre_exposed        479\n",
    "nombre_recovered    16514\n",
    "Name: 524, dtype: int64"
   ]
  },
  {
   "cell_type": "markdown",
   "id": "02b6f2cc",
   "metadata": {},
   "source": [
    "nombre_infected       917\n",
    "nombre_sain          2081\n",
    "nombre_exposed        470\n",
    "nombre_recovered    16532\n",
    "Name: 525, dtype: int64"
   ]
  },
  {
   "cell_type": "markdown",
   "id": "803ee317",
   "metadata": {},
   "source": [
    "nombre_infected       908\n",
    "nombre_sain          2080\n",
    "nombre_exposed        461\n",
    "nombre_recovered    16551\n",
    "Name: 526, dtype: int64"
   ]
  },
  {
   "cell_type": "markdown",
   "id": "866e9ea3",
   "metadata": {},
   "source": [
    "nombre_infected       912\n",
    "nombre_sain          2116\n",
    "nombre_exposed        440\n",
    "nombre_recovered    16532\n",
    "Name: 527, dtype: int64"
   ]
  },
  {
   "cell_type": "markdown",
   "id": "afd9407e",
   "metadata": {},
   "source": [
    "nombre_infected       909\n",
    "nombre_sain          2095\n",
    "nombre_exposed        447\n",
    "nombre_recovered    16549\n",
    "Name: 528, dtype: int64"
   ]
  },
  {
   "cell_type": "markdown",
   "id": "d74d467d",
   "metadata": {},
   "source": [
    "nombre_infected       907\n",
    "nombre_sain          2123\n",
    "nombre_exposed        426\n",
    "nombre_recovered    16544\n",
    "Name: 529, dtype: int64"
   ]
  },
  {
   "cell_type": "markdown",
   "id": "3e21a98b",
   "metadata": {},
   "source": [
    "nombre_infected       886\n",
    "nombre_sain          2179\n",
    "nombre_exposed        420\n",
    "nombre_recovered    16515\n",
    "Name: 530, dtype: int64"
   ]
  },
  {
   "cell_type": "markdown",
   "id": "3fbdec63",
   "metadata": {},
   "source": [
    "nombre_infected       878\n",
    "nombre_sain          2152\n",
    "nombre_exposed        431\n",
    "nombre_recovered    16539\n",
    "Name: 531, dtype: int64"
   ]
  },
  {
   "cell_type": "markdown",
   "id": "6b483192",
   "metadata": {},
   "source": [
    "nombre_infected       877\n",
    "nombre_sain          2163\n",
    "nombre_exposed        445\n",
    "nombre_recovered    16515\n",
    "Name: 532, dtype: int64"
   ]
  },
  {
   "cell_type": "markdown",
   "id": "d1e9ec58",
   "metadata": {},
   "source": [
    "nombre_infected       881\n",
    "nombre_sain          2157\n",
    "nombre_exposed        471\n",
    "nombre_recovered    16491\n",
    "Name: 533, dtype: int64"
   ]
  },
  {
   "cell_type": "markdown",
   "id": "3cfd6496",
   "metadata": {},
   "source": [
    "nombre_infected       877\n",
    "nombre_sain          2165\n",
    "nombre_exposed        499\n",
    "nombre_recovered    16459\n",
    "Name: 534, dtype: int64"
   ]
  },
  {
   "cell_type": "markdown",
   "id": "6c2b7d23",
   "metadata": {},
   "source": [
    "nombre_infected       877\n",
    "nombre_sain          2152\n",
    "nombre_exposed        513\n",
    "nombre_recovered    16458\n",
    "Name: 535, dtype: int64"
   ]
  },
  {
   "cell_type": "markdown",
   "id": "b40c5fa7",
   "metadata": {},
   "source": [
    "nombre_infected       874\n",
    "nombre_sain          2171\n",
    "nombre_exposed        502\n",
    "nombre_recovered    16453\n",
    "Name: 536, dtype: int64"
   ]
  },
  {
   "cell_type": "markdown",
   "id": "df73cf99",
   "metadata": {},
   "source": [
    "nombre_infected       861\n",
    "nombre_sain          2186\n",
    "nombre_exposed        513\n",
    "nombre_recovered    16440\n",
    "Name: 537, dtype: int64"
   ]
  },
  {
   "cell_type": "markdown",
   "id": "08f6c582",
   "metadata": {},
   "source": [
    "nombre_infected       857\n",
    "nombre_sain          2200\n",
    "nombre_exposed        518\n",
    "nombre_recovered    16425\n",
    "Name: 538, dtype: int64"
   ]
  },
  {
   "cell_type": "markdown",
   "id": "91f79685",
   "metadata": {},
   "source": [
    "nombre_infected       860\n",
    "nombre_sain          2205\n",
    "nombre_exposed        505\n",
    "nombre_recovered    16430\n",
    "Name: 539, dtype: int64"
   ]
  },
  {
   "cell_type": "markdown",
   "id": "d1b8f403",
   "metadata": {},
   "source": [
    "nombre_infected       887\n",
    "nombre_sain          2206\n",
    "nombre_exposed        481\n",
    "nombre_recovered    16426\n",
    "Name: 540, dtype: int64"
   ]
  },
  {
   "cell_type": "markdown",
   "id": "fc3f474e",
   "metadata": {},
   "source": [
    "nombre_infected       866\n",
    "nombre_sain          2205\n",
    "nombre_exposed        495\n",
    "nombre_recovered    16434\n",
    "Name: 541, dtype: int64"
   ]
  },
  {
   "cell_type": "markdown",
   "id": "eeb4630a",
   "metadata": {},
   "source": [
    "nombre_infected       877\n",
    "nombre_sain          2215\n",
    "nombre_exposed        489\n",
    "nombre_recovered    16419\n",
    "Name: 542, dtype: int64"
   ]
  },
  {
   "cell_type": "markdown",
   "id": "8f04fbf8",
   "metadata": {},
   "source": [
    "nombre_infected       861\n",
    "nombre_sain          2202\n",
    "nombre_exposed        521\n",
    "nombre_recovered    16416\n",
    "Name: 543, dtype: int64"
   ]
  },
  {
   "cell_type": "markdown",
   "id": "1c9ac84f",
   "metadata": {},
   "source": [
    "nombre_infected       871\n",
    "nombre_sain          2224\n",
    "nombre_exposed        487\n",
    "nombre_recovered    16418\n",
    "Name: 544, dtype: int64"
   ]
  },
  {
   "cell_type": "markdown",
   "id": "652c59d9",
   "metadata": {},
   "source": [
    "nombre_infected       874\n",
    "nombre_sain          2234\n",
    "nombre_exposed        476\n",
    "nombre_recovered    16416\n",
    "Name: 545, dtype: int64"
   ]
  },
  {
   "cell_type": "markdown",
   "id": "03f32923",
   "metadata": {},
   "source": [
    "nombre_infected       875\n",
    "nombre_sain          2257\n",
    "nombre_exposed        472\n",
    "nombre_recovered    16396\n",
    "Name: 546, dtype: int64"
   ]
  },
  {
   "cell_type": "markdown",
   "id": "2334c972",
   "metadata": {},
   "source": [
    "nombre_infected       869\n",
    "nombre_sain          2259\n",
    "nombre_exposed        487\n",
    "nombre_recovered    16385\n",
    "Name: 547, dtype: int64"
   ]
  },
  {
   "cell_type": "markdown",
   "id": "ff7a0eec",
   "metadata": {},
   "source": [
    "nombre_infected       858\n",
    "nombre_sain          2280\n",
    "nombre_exposed        482\n",
    "nombre_recovered    16380\n",
    "Name: 548, dtype: int64"
   ]
  },
  {
   "cell_type": "markdown",
   "id": "1935878b",
   "metadata": {},
   "source": [
    "nombre_infected       865\n",
    "nombre_sain          2305\n",
    "nombre_exposed        468\n",
    "nombre_recovered    16362\n",
    "Name: 549, dtype: int64"
   ]
  },
  {
   "cell_type": "markdown",
   "id": "c0767652",
   "metadata": {},
   "source": [
    "nombre_infected       864\n",
    "nombre_sain          2272\n",
    "nombre_exposed        511\n",
    "nombre_recovered    16353\n",
    "Name: 550, dtype: int64"
   ]
  },
  {
   "cell_type": "markdown",
   "id": "89a1a86a",
   "metadata": {},
   "source": [
    "nombre_infected       863\n",
    "nombre_sain          2281\n",
    "nombre_exposed        516\n",
    "nombre_recovered    16340\n",
    "Name: 551, dtype: int64"
   ]
  },
  {
   "cell_type": "markdown",
   "id": "e947c584",
   "metadata": {},
   "source": [
    "nombre_infected       878\n",
    "nombre_sain          2276\n",
    "nombre_exposed        519\n",
    "nombre_recovered    16327\n",
    "Name: 552, dtype: int64"
   ]
  },
  {
   "cell_type": "markdown",
   "id": "4e58e9b4",
   "metadata": {},
   "source": [
    "nombre_infected       890\n",
    "nombre_sain          2283\n",
    "nombre_exposed        503\n",
    "nombre_recovered    16324\n",
    "Name: 553, dtype: int64"
   ]
  },
  {
   "cell_type": "markdown",
   "id": "afba71cb",
   "metadata": {},
   "source": [
    "nombre_infected       909\n",
    "nombre_sain          2255\n",
    "nombre_exposed        523\n",
    "nombre_recovered    16313\n",
    "Name: 554, dtype: int64"
   ]
  },
  {
   "cell_type": "markdown",
   "id": "8910b149",
   "metadata": {},
   "source": [
    "nombre_infected       882\n",
    "nombre_sain          2248\n",
    "nombre_exposed        534\n",
    "nombre_recovered    16336\n",
    "Name: 555, dtype: int64"
   ]
  },
  {
   "cell_type": "markdown",
   "id": "74d9aef8",
   "metadata": {},
   "source": [
    "nombre_infected       911\n",
    "nombre_sain          2246\n",
    "nombre_exposed        520\n",
    "nombre_recovered    16323\n",
    "Name: 556, dtype: int64"
   ]
  },
  {
   "cell_type": "markdown",
   "id": "93a116fc",
   "metadata": {},
   "source": [
    "nombre_infected       926\n",
    "nombre_sain          2240\n",
    "nombre_exposed        514\n",
    "nombre_recovered    16320\n",
    "Name: 557, dtype: int64"
   ]
  },
  {
   "cell_type": "markdown",
   "id": "206ecfb1",
   "metadata": {},
   "source": [
    "nombre_infected       926\n",
    "nombre_sain          2182\n",
    "nombre_exposed        547\n",
    "nombre_recovered    16345\n",
    "Name: 558, dtype: int64"
   ]
  },
  {
   "cell_type": "markdown",
   "id": "c52fe0ec",
   "metadata": {},
   "source": [
    "nombre_infected       926\n",
    "nombre_sain          2184\n",
    "nombre_exposed        528\n",
    "nombre_recovered    16362\n",
    "Name: 559, dtype: int64"
   ]
  },
  {
   "cell_type": "markdown",
   "id": "70df47b4",
   "metadata": {},
   "source": [
    "nombre_infected       956\n",
    "nombre_sain          2172\n",
    "nombre_exposed        515\n",
    "nombre_recovered    16357\n",
    "Name: 560, dtype: int64"
   ]
  },
  {
   "cell_type": "markdown",
   "id": "1a12b58c",
   "metadata": {},
   "source": [
    "nombre_infected       961\n",
    "nombre_sain          2173\n",
    "nombre_exposed        507\n",
    "nombre_recovered    16359\n",
    "Name: 561, dtype: int64"
   ]
  },
  {
   "cell_type": "markdown",
   "id": "c8d41711",
   "metadata": {},
   "source": [
    "nombre_infected       962\n",
    "nombre_sain          2178\n",
    "nombre_exposed        524\n",
    "nombre_recovered    16336\n",
    "Name: 562, dtype: int64"
   ]
  },
  {
   "cell_type": "markdown",
   "id": "4d18f13c",
   "metadata": {},
   "source": [
    "nombre_infected       952\n",
    "nombre_sain          2174\n",
    "nombre_exposed        526\n",
    "nombre_recovered    16348\n",
    "Name: 563, dtype: int64"
   ]
  },
  {
   "cell_type": "markdown",
   "id": "fc7f6b0c",
   "metadata": {},
   "source": [
    "nombre_infected       949\n",
    "nombre_sain          2178\n",
    "nombre_exposed        541\n",
    "nombre_recovered    16332\n",
    "Name: 564, dtype: int64"
   ]
  },
  {
   "cell_type": "markdown",
   "id": "905eaa7c",
   "metadata": {},
   "source": [
    "nombre_infected       961\n",
    "nombre_sain          2159\n",
    "nombre_exposed        551\n",
    "nombre_recovered    16329\n",
    "Name: 565, dtype: int64"
   ]
  },
  {
   "cell_type": "markdown",
   "id": "edc84506",
   "metadata": {},
   "source": [
    "nombre_infected      1002\n",
    "nombre_sain          2144\n",
    "nombre_exposed        523\n",
    "nombre_recovered    16331\n",
    "Name: 566, dtype: int64"
   ]
  },
  {
   "cell_type": "markdown",
   "id": "e55a7557",
   "metadata": {},
   "source": [
    "nombre_infected      1011\n",
    "nombre_sain          2127\n",
    "nombre_exposed        534\n",
    "nombre_recovered    16328\n",
    "Name: 567, dtype: int64"
   ]
  },
  {
   "cell_type": "markdown",
   "id": "64a07a0c",
   "metadata": {},
   "source": [
    "nombre_infected       997\n",
    "nombre_sain          2136\n",
    "nombre_exposed        545\n",
    "nombre_recovered    16322\n",
    "Name: 568, dtype: int64"
   ]
  },
  {
   "cell_type": "markdown",
   "id": "27185a83",
   "metadata": {},
   "source": [
    "nombre_infected      1006\n",
    "nombre_sain          2128\n",
    "nombre_exposed        536\n",
    "nombre_recovered    16330\n",
    "Name: 569, dtype: int64"
   ]
  },
  {
   "cell_type": "markdown",
   "id": "f941a77d",
   "metadata": {},
   "source": [
    "nombre_infected      1011\n",
    "nombre_sain          2127\n",
    "nombre_exposed        511\n",
    "nombre_recovered    16351\n",
    "Name: 570, dtype: int64"
   ]
  },
  {
   "cell_type": "markdown",
   "id": "5dc10888",
   "metadata": {},
   "source": [
    "nombre_infected      1004\n",
    "nombre_sain          2106\n",
    "nombre_exposed        511\n",
    "nombre_recovered    16379\n",
    "Name: 571, dtype: int64"
   ]
  },
  {
   "cell_type": "markdown",
   "id": "d7e5b437",
   "metadata": {},
   "source": [
    "nombre_infected       974\n",
    "nombre_sain          2093\n",
    "nombre_exposed        528\n",
    "nombre_recovered    16405\n",
    "Name: 572, dtype: int64"
   ]
  },
  {
   "cell_type": "markdown",
   "id": "3e45ff62",
   "metadata": {},
   "source": [
    "nombre_infected       965\n",
    "nombre_sain          2091\n",
    "nombre_exposed        520\n",
    "nombre_recovered    16424\n",
    "Name: 573, dtype: int64"
   ]
  },
  {
   "cell_type": "markdown",
   "id": "0f8c5a1f",
   "metadata": {},
   "source": [
    "nombre_infected       964\n",
    "nombre_sain          2075\n",
    "nombre_exposed        538\n",
    "nombre_recovered    16423\n",
    "Name: 574, dtype: int64"
   ]
  },
  {
   "cell_type": "markdown",
   "id": "53ba1bd2",
   "metadata": {},
   "source": [
    "nombre_infected       982\n",
    "nombre_sain          2035\n",
    "nombre_exposed        564\n",
    "nombre_recovered    16419\n",
    "Name: 575, dtype: int64"
   ]
  },
  {
   "cell_type": "markdown",
   "id": "6d381cdd",
   "metadata": {},
   "source": [
    "nombre_infected       982\n",
    "nombre_sain          2027\n",
    "nombre_exposed        554\n",
    "nombre_recovered    16437\n",
    "Name: 576, dtype: int64"
   ]
  },
  {
   "cell_type": "markdown",
   "id": "c06be501",
   "metadata": {},
   "source": [
    "nombre_infected      1010\n",
    "nombre_sain          2010\n",
    "nombre_exposed        533\n",
    "nombre_recovered    16447\n",
    "Name: 577, dtype: int64"
   ]
  },
  {
   "cell_type": "markdown",
   "id": "700ebba4",
   "metadata": {},
   "source": [
    "nombre_infected      1005\n",
    "nombre_sain          2014\n",
    "nombre_exposed        520\n",
    "nombre_recovered    16461\n",
    "Name: 578, dtype: int64"
   ]
  },
  {
   "cell_type": "markdown",
   "id": "8e6200ae",
   "metadata": {},
   "source": [
    "nombre_infected       997\n",
    "nombre_sain          2012\n",
    "nombre_exposed        528\n",
    "nombre_recovered    16463\n",
    "Name: 579, dtype: int64"
   ]
  },
  {
   "cell_type": "markdown",
   "id": "3657d10f",
   "metadata": {},
   "source": [
    "nombre_infected       994\n",
    "nombre_sain          2011\n",
    "nombre_exposed        518\n",
    "nombre_recovered    16477\n",
    "Name: 580, dtype: int64"
   ]
  },
  {
   "cell_type": "markdown",
   "id": "97204013",
   "metadata": {},
   "source": [
    "nombre_infected       969\n",
    "nombre_sain          2024\n",
    "nombre_exposed        520\n",
    "nombre_recovered    16487\n",
    "Name: 581, dtype: int64"
   ]
  },
  {
   "cell_type": "markdown",
   "id": "193b860f",
   "metadata": {},
   "source": [
    "nombre_infected       970\n",
    "nombre_sain          2041\n",
    "nombre_exposed        492\n",
    "nombre_recovered    16497\n",
    "Name: 582, dtype: int64"
   ]
  },
  {
   "cell_type": "markdown",
   "id": "bb185a05",
   "metadata": {},
   "source": [
    "nombre_infected       966\n",
    "nombre_sain          2054\n",
    "nombre_exposed        485\n",
    "nombre_recovered    16495\n",
    "Name: 583, dtype: int64"
   ]
  },
  {
   "cell_type": "markdown",
   "id": "b6b5afb4",
   "metadata": {},
   "source": [
    "nombre_infected       968\n",
    "nombre_sain          2036\n",
    "nombre_exposed        500\n",
    "nombre_recovered    16496\n",
    "Name: 584, dtype: int64"
   ]
  },
  {
   "cell_type": "markdown",
   "id": "979465d9",
   "metadata": {},
   "source": [
    "nombre_infected       971\n",
    "nombre_sain          2003\n",
    "nombre_exposed        520\n",
    "nombre_recovered    16506\n",
    "Name: 585, dtype: int64"
   ]
  },
  {
   "cell_type": "markdown",
   "id": "f9c12f34",
   "metadata": {},
   "source": [
    "nombre_infected       984\n",
    "nombre_sain          2041\n",
    "nombre_exposed        506\n",
    "nombre_recovered    16469\n",
    "Name: 586, dtype: int64"
   ]
  },
  {
   "cell_type": "markdown",
   "id": "5d7bd583",
   "metadata": {},
   "source": [
    "nombre_infected       973\n",
    "nombre_sain          2050\n",
    "nombre_exposed        518\n",
    "nombre_recovered    16459\n",
    "Name: 587, dtype: int64"
   ]
  },
  {
   "cell_type": "markdown",
   "id": "59357f4a",
   "metadata": {},
   "source": [
    "nombre_infected       969\n",
    "nombre_sain          2059\n",
    "nombre_exposed        516\n",
    "nombre_recovered    16456\n",
    "Name: 588, dtype: int64"
   ]
  },
  {
   "cell_type": "markdown",
   "id": "a1b52d39",
   "metadata": {},
   "source": [
    "nombre_infected       945\n",
    "nombre_sain          2047\n",
    "nombre_exposed        526\n",
    "nombre_recovered    16482\n",
    "Name: 589, dtype: int64"
   ]
  },
  {
   "cell_type": "markdown",
   "id": "8de67531",
   "metadata": {},
   "source": [
    "nombre_infected       926\n",
    "nombre_sain          2039\n",
    "nombre_exposed        532\n",
    "nombre_recovered    16503\n",
    "Name: 590, dtype: int64"
   ]
  },
  {
   "cell_type": "markdown",
   "id": "8f507b5d",
   "metadata": {},
   "source": [
    "nombre_infected       930\n",
    "nombre_sain          2028\n",
    "nombre_exposed        549\n",
    "nombre_recovered    16493\n",
    "Name: 591, dtype: int64"
   ]
  },
  {
   "cell_type": "markdown",
   "id": "c9029583",
   "metadata": {},
   "source": [
    "nombre_infected       924\n",
    "nombre_sain          2045\n",
    "nombre_exposed        544\n",
    "nombre_recovered    16487\n",
    "Name: 592, dtype: int64"
   ]
  },
  {
   "cell_type": "markdown",
   "id": "04ab717b",
   "metadata": {},
   "source": [
    "nombre_infected       954\n",
    "nombre_sain          2045\n",
    "nombre_exposed        532\n",
    "nombre_recovered    16469\n",
    "Name: 593, dtype: int64"
   ]
  },
  {
   "cell_type": "markdown",
   "id": "e77c127c",
   "metadata": {},
   "source": [
    "nombre_infected       945\n",
    "nombre_sain          2026\n",
    "nombre_exposed        555\n",
    "nombre_recovered    16474\n",
    "Name: 594, dtype: int64"
   ]
  },
  {
   "cell_type": "markdown",
   "id": "604e3d58",
   "metadata": {},
   "source": [
    "nombre_infected       943\n",
    "nombre_sain          2015\n",
    "nombre_exposed        579\n",
    "nombre_recovered    16463\n",
    "Name: 595, dtype: int64"
   ]
  },
  {
   "cell_type": "markdown",
   "id": "30184dcd",
   "metadata": {},
   "source": [
    "nombre_infected       978\n",
    "nombre_sain          2032\n",
    "nombre_exposed        554\n",
    "nombre_recovered    16436\n",
    "Name: 596, dtype: int64"
   ]
  },
  {
   "cell_type": "markdown",
   "id": "559cfc62",
   "metadata": {},
   "source": [
    "nombre_infected       982\n",
    "nombre_sain          2043\n",
    "nombre_exposed        550\n",
    "nombre_recovered    16425\n",
    "Name: 597, dtype: int64"
   ]
  },
  {
   "cell_type": "markdown",
   "id": "5c042ded",
   "metadata": {},
   "source": [
    "nombre_infected       995\n",
    "nombre_sain          2039\n",
    "nombre_exposed        546\n",
    "nombre_recovered    16420\n",
    "Name: 598, dtype: int64"
   ]
  },
  {
   "cell_type": "markdown",
   "id": "f73a4b0d",
   "metadata": {},
   "source": [
    "nombre_infected      1006\n",
    "nombre_sain          2067\n",
    "nombre_exposed        526\n",
    "nombre_recovered    16401\n",
    "Name: 599, dtype: int64"
   ]
  },
  {
   "cell_type": "markdown",
   "id": "d2a8ed5a",
   "metadata": {},
   "source": [
    "nombre_infected      1007\n",
    "nombre_sain          2080\n",
    "nombre_exposed        514\n",
    "nombre_recovered    16399\n",
    "Name: 600, dtype: int64"
   ]
  },
  {
   "cell_type": "markdown",
   "id": "8aff7047",
   "metadata": {},
   "source": [
    "nombre_infected      1011\n",
    "nombre_sain          2069\n",
    "nombre_exposed        509\n",
    "nombre_recovered    16411\n",
    "Name: 601, dtype: int64"
   ]
  },
  {
   "cell_type": "markdown",
   "id": "cc50c326",
   "metadata": {},
   "source": [
    "nombre_infected      1005\n",
    "nombre_sain          2068\n",
    "nombre_exposed        513\n",
    "nombre_recovered    16414\n",
    "Name: 602, dtype: int64"
   ]
  },
  {
   "cell_type": "markdown",
   "id": "4b235c2b",
   "metadata": {},
   "source": [
    "nombre_infected       988\n",
    "nombre_sain          2058\n",
    "nombre_exposed        547\n",
    "nombre_recovered    16407\n",
    "Name: 603, dtype: int64"
   ]
  },
  {
   "cell_type": "markdown",
   "id": "205b2c5c",
   "metadata": {},
   "source": [
    "nombre_infected      1000\n",
    "nombre_sain          2061\n",
    "nombre_exposed        525\n",
    "nombre_recovered    16414\n",
    "Name: 604, dtype: int64"
   ]
  },
  {
   "cell_type": "markdown",
   "id": "3a020dee",
   "metadata": {},
   "source": [
    "nombre_infected      1008\n",
    "nombre_sain          2046\n",
    "nombre_exposed        546\n",
    "nombre_recovered    16400\n",
    "Name: 605, dtype: int64"
   ]
  },
  {
   "cell_type": "markdown",
   "id": "3cb7d709",
   "metadata": {},
   "source": [
    "nombre_infected       990\n",
    "nombre_sain          2064\n",
    "nombre_exposed        571\n",
    "nombre_recovered    16375\n",
    "Name: 606, dtype: int64"
   ]
  },
  {
   "cell_type": "markdown",
   "id": "5d7afbac",
   "metadata": {},
   "source": [
    "nombre_infected       984\n",
    "nombre_sain          2059\n",
    "nombre_exposed        585\n",
    "nombre_recovered    16372\n",
    "Name: 607, dtype: int64"
   ]
  },
  {
   "cell_type": "markdown",
   "id": "8695e3d1",
   "metadata": {},
   "source": [
    "nombre_infected       982\n",
    "nombre_sain          2048\n",
    "nombre_exposed        577\n",
    "nombre_recovered    16393\n",
    "Name: 608, dtype: int64"
   ]
  },
  {
   "cell_type": "markdown",
   "id": "8c0ba0f6",
   "metadata": {},
   "source": [
    "nombre_infected       988\n",
    "nombre_sain          2057\n",
    "nombre_exposed        559\n",
    "nombre_recovered    16396\n",
    "Name: 609, dtype: int64"
   ]
  },
  {
   "cell_type": "markdown",
   "id": "b18e021d",
   "metadata": {},
   "source": [
    "nombre_infected       984\n",
    "nombre_sain          2068\n",
    "nombre_exposed        551\n",
    "nombre_recovered    16397\n",
    "Name: 610, dtype: int64"
   ]
  },
  {
   "cell_type": "markdown",
   "id": "b0d2dfe8",
   "metadata": {},
   "source": [
    "nombre_infected      1009\n",
    "nombre_sain          2075\n",
    "nombre_exposed        531\n",
    "nombre_recovered    16385\n",
    "Name: 611, dtype: int64"
   ]
  },
  {
   "cell_type": "markdown",
   "id": "6b088486",
   "metadata": {},
   "source": [
    "nombre_infected      1017\n",
    "nombre_sain          2055\n",
    "nombre_exposed        541\n",
    "nombre_recovered    16387\n",
    "Name: 612, dtype: int64"
   ]
  },
  {
   "cell_type": "markdown",
   "id": "0298bec5",
   "metadata": {},
   "source": [
    "nombre_infected      1030\n",
    "nombre_sain          2068\n",
    "nombre_exposed        557\n",
    "nombre_recovered    16345\n",
    "Name: 613, dtype: int64"
   ]
  },
  {
   "cell_type": "markdown",
   "id": "19343db1",
   "metadata": {},
   "source": [
    "nombre_infected      1011\n",
    "nombre_sain          2073\n",
    "nombre_exposed        549\n",
    "nombre_recovered    16367\n",
    "Name: 614, dtype: int64"
   ]
  },
  {
   "cell_type": "markdown",
   "id": "1750225e",
   "metadata": {},
   "source": [
    "nombre_infected      1019\n",
    "nombre_sain          2082\n",
    "nombre_exposed        535\n",
    "nombre_recovered    16364\n",
    "Name: 615, dtype: int64"
   ]
  },
  {
   "cell_type": "markdown",
   "id": "bc2ffc0e",
   "metadata": {},
   "source": [
    "nombre_infected      1023\n",
    "nombre_sain          2055\n",
    "nombre_exposed        558\n",
    "nombre_recovered    16364\n",
    "Name: 616, dtype: int64"
   ]
  },
  {
   "cell_type": "markdown",
   "id": "453ded9a",
   "metadata": {},
   "source": [
    "nombre_infected      1002\n",
    "nombre_sain          2043\n",
    "nombre_exposed        575\n",
    "nombre_recovered    16380\n",
    "Name: 617, dtype: int64"
   ]
  },
  {
   "cell_type": "markdown",
   "id": "e9adddf6",
   "metadata": {},
   "source": [
    "nombre_infected       990\n",
    "nombre_sain          2045\n",
    "nombre_exposed        600\n",
    "nombre_recovered    16365\n",
    "Name: 618, dtype: int64"
   ]
  },
  {
   "cell_type": "markdown",
   "id": "079d49e7",
   "metadata": {},
   "source": [
    "nombre_infected       997\n",
    "nombre_sain          2071\n",
    "nombre_exposed        588\n",
    "nombre_recovered    16344\n",
    "Name: 619, dtype: int64"
   ]
  },
  {
   "cell_type": "markdown",
   "id": "cc4160d8",
   "metadata": {},
   "source": [
    "nombre_infected      1015\n",
    "nombre_sain          2078\n",
    "nombre_exposed        579\n",
    "nombre_recovered    16328\n",
    "Name: 620, dtype: int64"
   ]
  },
  {
   "cell_type": "markdown",
   "id": "99869c1c",
   "metadata": {},
   "source": [
    "nombre_infected      1021\n",
    "nombre_sain          2081\n",
    "nombre_exposed        589\n",
    "nombre_recovered    16309\n",
    "Name: 621, dtype: int64"
   ]
  },
  {
   "cell_type": "markdown",
   "id": "ab78cced",
   "metadata": {},
   "source": [
    "nombre_infected      1015\n",
    "nombre_sain          2109\n",
    "nombre_exposed        590\n",
    "nombre_recovered    16286\n",
    "Name: 622, dtype: int64"
   ]
  },
  {
   "cell_type": "markdown",
   "id": "43dbabe4",
   "metadata": {},
   "source": [
    "nombre_infected       996\n",
    "nombre_sain          2121\n",
    "nombre_exposed        589\n",
    "nombre_recovered    16294\n",
    "Name: 623, dtype: int64"
   ]
  },
  {
   "cell_type": "markdown",
   "id": "0dc4262a",
   "metadata": {},
   "source": [
    "nombre_infected      1000\n",
    "nombre_sain          2103\n",
    "nombre_exposed        596\n",
    "nombre_recovered    16301\n",
    "Name: 624, dtype: int64"
   ]
  },
  {
   "cell_type": "markdown",
   "id": "4d290afd",
   "metadata": {},
   "source": [
    "nombre_infected       986\n",
    "nombre_sain          2128\n",
    "nombre_exposed        589\n",
    "nombre_recovered    16297\n",
    "Name: 625, dtype: int64"
   ]
  },
  {
   "cell_type": "markdown",
   "id": "211ee516",
   "metadata": {},
   "source": [
    "nombre_infected      1020\n",
    "nombre_sain          2114\n",
    "nombre_exposed        585\n",
    "nombre_recovered    16281\n",
    "Name: 626, dtype: int64"
   ]
  },
  {
   "cell_type": "markdown",
   "id": "139b6aab",
   "metadata": {},
   "source": [
    "nombre_infected      1033\n",
    "nombre_sain          2117\n",
    "nombre_exposed        590\n",
    "nombre_recovered    16260\n",
    "Name: 627, dtype: int64"
   ]
  },
  {
   "cell_type": "markdown",
   "id": "2afdc57c",
   "metadata": {},
   "source": [
    "nombre_infected      1035\n",
    "nombre_sain          2112\n",
    "nombre_exposed        598\n",
    "nombre_recovered    16255\n",
    "Name: 628, dtype: int64"
   ]
  },
  {
   "cell_type": "markdown",
   "id": "80c7db4b",
   "metadata": {},
   "source": [
    "nombre_infected      1035\n",
    "nombre_sain          2122\n",
    "nombre_exposed        594\n",
    "nombre_recovered    16249\n",
    "Name: 629, dtype: int64"
   ]
  },
  {
   "cell_type": "markdown",
   "id": "57a4599e",
   "metadata": {},
   "source": [
    "nombre_infected      1024\n",
    "nombre_sain          2103\n",
    "nombre_exposed        606\n",
    "nombre_recovered    16267\n",
    "Name: 630, dtype: int64"
   ]
  },
  {
   "cell_type": "markdown",
   "id": "3d1663e8",
   "metadata": {},
   "source": [
    "nombre_infected      1053\n",
    "nombre_sain          2073\n",
    "nombre_exposed        608\n",
    "nombre_recovered    16266\n",
    "Name: 631, dtype: int64"
   ]
  },
  {
   "cell_type": "markdown",
   "id": "3268101c",
   "metadata": {},
   "source": [
    "nombre_infected      1059\n",
    "nombre_sain          2067\n",
    "nombre_exposed        611\n",
    "nombre_recovered    16263\n",
    "Name: 632, dtype: int64"
   ]
  },
  {
   "cell_type": "markdown",
   "id": "c136957e",
   "metadata": {},
   "source": [
    "nombre_infected      1052\n",
    "nombre_sain          2102\n",
    "nombre_exposed        603\n",
    "nombre_recovered    16243\n",
    "Name: 633, dtype: int64"
   ]
  },
  {
   "cell_type": "markdown",
   "id": "34597ba1",
   "metadata": {},
   "source": [
    "nombre_infected      1072\n",
    "nombre_sain          2124\n",
    "nombre_exposed        597\n",
    "nombre_recovered    16207\n",
    "Name: 634, dtype: int64"
   ]
  },
  {
   "cell_type": "markdown",
   "id": "84014319",
   "metadata": {},
   "source": [
    "nombre_infected      1067\n",
    "nombre_sain          2115\n",
    "nombre_exposed        595\n",
    "nombre_recovered    16223\n",
    "Name: 635, dtype: int64"
   ]
  },
  {
   "cell_type": "markdown",
   "id": "40481ae5",
   "metadata": {},
   "source": [
    "nombre_infected      1074\n",
    "nombre_sain          2108\n",
    "nombre_exposed        580\n",
    "nombre_recovered    16238\n",
    "Name: 636, dtype: int64"
   ]
  },
  {
   "cell_type": "markdown",
   "id": "1fca57ce",
   "metadata": {},
   "source": [
    "nombre_infected      1055\n",
    "nombre_sain          2102\n",
    "nombre_exposed        585\n",
    "nombre_recovered    16258\n",
    "Name: 637, dtype: int64"
   ]
  },
  {
   "cell_type": "markdown",
   "id": "6813a6f3",
   "metadata": {},
   "source": [
    "nombre_infected      1050\n",
    "nombre_sain          2088\n",
    "nombre_exposed        585\n",
    "nombre_recovered    16277\n",
    "Name: 638, dtype: int64"
   ]
  },
  {
   "cell_type": "markdown",
   "id": "16924a6a",
   "metadata": {},
   "source": [
    "nombre_infected      1052\n",
    "nombre_sain          2074\n",
    "nombre_exposed        583\n",
    "nombre_recovered    16291\n",
    "Name: 639, dtype: int64"
   ]
  },
  {
   "cell_type": "markdown",
   "id": "0881c71e",
   "metadata": {},
   "source": [
    "nombre_infected      1042\n",
    "nombre_sain          2089\n",
    "nombre_exposed        573\n",
    "nombre_recovered    16296\n",
    "Name: 640, dtype: int64"
   ]
  },
  {
   "cell_type": "markdown",
   "id": "c4893c38",
   "metadata": {},
   "source": [
    "nombre_infected      1046\n",
    "nombre_sain          2072\n",
    "nombre_exposed        569\n",
    "nombre_recovered    16313\n",
    "Name: 641, dtype: int64"
   ]
  },
  {
   "cell_type": "markdown",
   "id": "768f9b4d",
   "metadata": {},
   "source": [
    "nombre_infected      1066\n",
    "nombre_sain          2075\n",
    "nombre_exposed        564\n",
    "nombre_recovered    16295\n",
    "Name: 642, dtype: int64"
   ]
  },
  {
   "cell_type": "markdown",
   "id": "81ceedde",
   "metadata": {},
   "source": [
    "nombre_infected      1066\n",
    "nombre_sain          2047\n",
    "nombre_exposed        582\n",
    "nombre_recovered    16305\n",
    "Name: 643, dtype: int64"
   ]
  },
  {
   "cell_type": "markdown",
   "id": "c9374cce",
   "metadata": {},
   "source": [
    "nombre_infected      1042\n",
    "nombre_sain          2042\n",
    "nombre_exposed        586\n",
    "nombre_recovered    16330\n",
    "Name: 644, dtype: int64"
   ]
  },
  {
   "cell_type": "markdown",
   "id": "4ebe3ddd",
   "metadata": {},
   "source": [
    "nombre_infected      1059\n",
    "nombre_sain          2064\n",
    "nombre_exposed        550\n",
    "nombre_recovered    16327\n",
    "Name: 645, dtype: int64"
   ]
  },
  {
   "cell_type": "markdown",
   "id": "609d3208",
   "metadata": {},
   "source": [
    "nombre_infected      1058\n",
    "nombre_sain          2047\n",
    "nombre_exposed        562\n",
    "nombre_recovered    16333\n",
    "Name: 646, dtype: int64"
   ]
  },
  {
   "cell_type": "markdown",
   "id": "7fddf97f",
   "metadata": {},
   "source": [
    "nombre_infected      1024\n",
    "nombre_sain          2056\n",
    "nombre_exposed        573\n",
    "nombre_recovered    16347\n",
    "Name: 647, dtype: int64"
   ]
  },
  {
   "cell_type": "markdown",
   "id": "2ff330db",
   "metadata": {},
   "source": [
    "nombre_infected      1011\n",
    "nombre_sain          2059\n",
    "nombre_exposed        565\n",
    "nombre_recovered    16365\n",
    "Name: 648, dtype: int64"
   ]
  },
  {
   "cell_type": "markdown",
   "id": "07b578b0",
   "metadata": {},
   "source": [
    "nombre_infected      1018\n",
    "nombre_sain          2072\n",
    "nombre_exposed        562\n",
    "nombre_recovered    16348\n",
    "Name: 649, dtype: int64"
   ]
  },
  {
   "cell_type": "markdown",
   "id": "4f382263",
   "metadata": {},
   "source": [
    "nombre_infected      1016\n",
    "nombre_sain          2127\n",
    "nombre_exposed        536\n",
    "nombre_recovered    16321\n",
    "Name: 650, dtype: int64"
   ]
  },
  {
   "cell_type": "markdown",
   "id": "3c07b147",
   "metadata": {},
   "source": [
    "nombre_infected       971\n",
    "nombre_sain          2120\n",
    "nombre_exposed        554\n",
    "nombre_recovered    16355\n",
    "Name: 651, dtype: int64"
   ]
  },
  {
   "cell_type": "markdown",
   "id": "f96e92e6",
   "metadata": {},
   "source": [
    "nombre_infected       965\n",
    "nombre_sain          2142\n",
    "nombre_exposed        552\n",
    "nombre_recovered    16341\n",
    "Name: 652, dtype: int64"
   ]
  },
  {
   "cell_type": "markdown",
   "id": "b5fab983",
   "metadata": {},
   "source": [
    "nombre_infected       969\n",
    "nombre_sain          2139\n",
    "nombre_exposed        553\n",
    "nombre_recovered    16339\n",
    "Name: 653, dtype: int64"
   ]
  },
  {
   "cell_type": "markdown",
   "id": "492b53e8",
   "metadata": {},
   "source": [
    "nombre_infected       969\n",
    "nombre_sain          2159\n",
    "nombre_exposed        540\n",
    "nombre_recovered    16332\n",
    "Name: 654, dtype: int64"
   ]
  },
  {
   "cell_type": "markdown",
   "id": "ee8370ae",
   "metadata": {},
   "source": [
    "nombre_infected       991\n",
    "nombre_sain          2180\n",
    "nombre_exposed        518\n",
    "nombre_recovered    16311\n",
    "Name: 655, dtype: int64"
   ]
  },
  {
   "cell_type": "markdown",
   "id": "6fc3c0dd",
   "metadata": {},
   "source": [
    "nombre_infected      1019\n",
    "nombre_sain          2171\n",
    "nombre_exposed        497\n",
    "nombre_recovered    16313\n",
    "Name: 656, dtype: int64"
   ]
  },
  {
   "cell_type": "markdown",
   "id": "b78806e5",
   "metadata": {},
   "source": [
    "nombre_infected       997\n",
    "nombre_sain          2149\n",
    "nombre_exposed        523\n",
    "nombre_recovered    16331\n",
    "Name: 657, dtype: int64"
   ]
  },
  {
   "cell_type": "markdown",
   "id": "9b9d4fc4",
   "metadata": {},
   "source": [
    "nombre_infected       998\n",
    "nombre_sain          2135\n",
    "nombre_exposed        522\n",
    "nombre_recovered    16345\n",
    "Name: 658, dtype: int64"
   ]
  },
  {
   "cell_type": "markdown",
   "id": "eb36ca26",
   "metadata": {},
   "source": [
    "nombre_infected       971\n",
    "nombre_sain          2137\n",
    "nombre_exposed        532\n",
    "nombre_recovered    16360\n",
    "Name: 659, dtype: int64"
   ]
  },
  {
   "cell_type": "markdown",
   "id": "47c662d3",
   "metadata": {},
   "source": [
    "nombre_infected       948\n",
    "nombre_sain          2158\n",
    "nombre_exposed        536\n",
    "nombre_recovered    16358\n",
    "Name: 660, dtype: int64"
   ]
  },
  {
   "cell_type": "markdown",
   "id": "74596a26",
   "metadata": {},
   "source": [
    "nombre_infected       919\n",
    "nombre_sain          2141\n",
    "nombre_exposed        561\n",
    "nombre_recovered    16379\n",
    "Name: 661, dtype: int64"
   ]
  },
  {
   "cell_type": "markdown",
   "id": "e224387f",
   "metadata": {},
   "source": [
    "nombre_infected       936\n",
    "nombre_sain          2129\n",
    "nombre_exposed        535\n",
    "nombre_recovered    16400\n",
    "Name: 662, dtype: int64"
   ]
  },
  {
   "cell_type": "markdown",
   "id": "5194d52c",
   "metadata": {},
   "source": [
    "nombre_infected       936\n",
    "nombre_sain          2123\n",
    "nombre_exposed        537\n",
    "nombre_recovered    16404\n",
    "Name: 663, dtype: int64"
   ]
  },
  {
   "cell_type": "markdown",
   "id": "15da903d",
   "metadata": {},
   "source": [
    "nombre_infected       937\n",
    "nombre_sain          2116\n",
    "nombre_exposed        546\n",
    "nombre_recovered    16401\n",
    "Name: 664, dtype: int64"
   ]
  },
  {
   "cell_type": "markdown",
   "id": "791aa601",
   "metadata": {},
   "source": [
    "nombre_infected       924\n",
    "nombre_sain          2120\n",
    "nombre_exposed        558\n",
    "nombre_recovered    16398\n",
    "Name: 665, dtype: int64"
   ]
  },
  {
   "cell_type": "markdown",
   "id": "f95aebb2",
   "metadata": {},
   "source": [
    "nombre_infected       923\n",
    "nombre_sain          2101\n",
    "nombre_exposed        551\n",
    "nombre_recovered    16425\n",
    "Name: 666, dtype: int64"
   ]
  },
  {
   "cell_type": "markdown",
   "id": "f51a31aa",
   "metadata": {},
   "source": [
    "nombre_infected       932\n",
    "nombre_sain          2086\n",
    "nombre_exposed        547\n",
    "nombre_recovered    16435\n",
    "Name: 667, dtype: int64"
   ]
  },
  {
   "cell_type": "markdown",
   "id": "eb5191ef",
   "metadata": {},
   "source": [
    "nombre_infected       925\n",
    "nombre_sain          2067\n",
    "nombre_exposed        551\n",
    "nombre_recovered    16457\n",
    "Name: 668, dtype: int64"
   ]
  },
  {
   "cell_type": "markdown",
   "id": "f0caf764",
   "metadata": {},
   "source": [
    "nombre_infected       919\n",
    "nombre_sain          2064\n",
    "nombre_exposed        545\n",
    "nombre_recovered    16472\n",
    "Name: 669, dtype: int64"
   ]
  },
  {
   "cell_type": "markdown",
   "id": "566b3211",
   "metadata": {},
   "source": [
    "nombre_infected       913\n",
    "nombre_sain          2051\n",
    "nombre_exposed        548\n",
    "nombre_recovered    16488\n",
    "Name: 670, dtype: int64"
   ]
  },
  {
   "cell_type": "markdown",
   "id": "a153363a",
   "metadata": {},
   "source": [
    "nombre_infected       904\n",
    "nombre_sain          2050\n",
    "nombre_exposed        530\n",
    "nombre_recovered    16516\n",
    "Name: 671, dtype: int64"
   ]
  },
  {
   "cell_type": "markdown",
   "id": "c625d7fa",
   "metadata": {},
   "source": [
    "nombre_infected       904\n",
    "nombre_sain          2048\n",
    "nombre_exposed        518\n",
    "nombre_recovered    16530\n",
    "Name: 672, dtype: int64"
   ]
  },
  {
   "cell_type": "markdown",
   "id": "afe82b21",
   "metadata": {},
   "source": [
    "nombre_infected       886\n",
    "nombre_sain          2040\n",
    "nombre_exposed        536\n",
    "nombre_recovered    16538\n",
    "Name: 673, dtype: int64"
   ]
  },
  {
   "cell_type": "markdown",
   "id": "9a3d9b99",
   "metadata": {},
   "source": [
    "nombre_infected       882\n",
    "nombre_sain          2030\n",
    "nombre_exposed        527\n",
    "nombre_recovered    16561\n",
    "Name: 674, dtype: int64"
   ]
  },
  {
   "cell_type": "markdown",
   "id": "d58ca75f",
   "metadata": {},
   "source": [
    "nombre_infected       930\n",
    "nombre_sain          2048\n",
    "nombre_exposed        480\n",
    "nombre_recovered    16542\n",
    "Name: 675, dtype: int64"
   ]
  },
  {
   "cell_type": "markdown",
   "id": "ef463f42",
   "metadata": {},
   "source": [
    "nombre_infected       936\n",
    "nombre_sain          2054\n",
    "nombre_exposed        449\n",
    "nombre_recovered    16561\n",
    "Name: 676, dtype: int64"
   ]
  },
  {
   "cell_type": "markdown",
   "id": "93d44d2b",
   "metadata": {},
   "source": [
    "nombre_infected       901\n",
    "nombre_sain          2027\n",
    "nombre_exposed        482\n",
    "nombre_recovered    16590\n",
    "Name: 677, dtype: int64"
   ]
  },
  {
   "cell_type": "markdown",
   "id": "ece3a986",
   "metadata": {},
   "source": [
    "nombre_infected       892\n",
    "nombre_sain          2045\n",
    "nombre_exposed        463\n",
    "nombre_recovered    16600\n",
    "Name: 678, dtype: int64"
   ]
  },
  {
   "cell_type": "markdown",
   "id": "7a19d327",
   "metadata": {},
   "source": [
    "nombre_infected       899\n",
    "nombre_sain          2028\n",
    "nombre_exposed        481\n",
    "nombre_recovered    16592\n",
    "Name: 679, dtype: int64"
   ]
  },
  {
   "cell_type": "markdown",
   "id": "4c5515d6",
   "metadata": {},
   "source": [
    "nombre_infected       891\n",
    "nombre_sain          2012\n",
    "nombre_exposed        500\n",
    "nombre_recovered    16597\n",
    "Name: 680, dtype: int64"
   ]
  },
  {
   "cell_type": "markdown",
   "id": "1f7b5f16",
   "metadata": {},
   "source": [
    "nombre_infected       879\n",
    "nombre_sain          2022\n",
    "nombre_exposed        512\n",
    "nombre_recovered    16587\n",
    "Name: 681, dtype: int64"
   ]
  },
  {
   "cell_type": "markdown",
   "id": "2be65b57",
   "metadata": {},
   "source": [
    "nombre_infected       905\n",
    "nombre_sain          2035\n",
    "nombre_exposed        486\n",
    "nombre_recovered    16574\n",
    "Name: 682, dtype: int64"
   ]
  },
  {
   "cell_type": "markdown",
   "id": "c29e9533",
   "metadata": {},
   "source": [
    "nombre_infected       907\n",
    "nombre_sain          2028\n",
    "nombre_exposed        486\n",
    "nombre_recovered    16579\n",
    "Name: 683, dtype: int64"
   ]
  },
  {
   "cell_type": "markdown",
   "id": "3d0efa95",
   "metadata": {},
   "source": [
    "nombre_infected       902\n",
    "nombre_sain          2047\n",
    "nombre_exposed        465\n",
    "nombre_recovered    16586\n",
    "Name: 684, dtype: int64"
   ]
  },
  {
   "cell_type": "markdown",
   "id": "dfd5b3a8",
   "metadata": {},
   "source": [
    "nombre_infected       881\n",
    "nombre_sain          2047\n",
    "nombre_exposed        482\n",
    "nombre_recovered    16590\n",
    "Name: 685, dtype: int64"
   ]
  },
  {
   "cell_type": "markdown",
   "id": "09259c0a",
   "metadata": {},
   "source": [
    "nombre_infected       866\n",
    "nombre_sain          2067\n",
    "nombre_exposed        482\n",
    "nombre_recovered    16585\n",
    "Name: 686, dtype: int64"
   ]
  },
  {
   "cell_type": "markdown",
   "id": "7d76577f",
   "metadata": {},
   "source": [
    "nombre_infected       867\n",
    "nombre_sain          2052\n",
    "nombre_exposed        502\n",
    "nombre_recovered    16579\n",
    "Name: 687, dtype: int64"
   ]
  },
  {
   "cell_type": "markdown",
   "id": "9fae9062",
   "metadata": {},
   "source": [
    "nombre_infected       893\n",
    "nombre_sain          2070\n",
    "nombre_exposed        460\n",
    "nombre_recovered    16577\n",
    "Name: 688, dtype: int64"
   ]
  },
  {
   "cell_type": "markdown",
   "id": "38885e89",
   "metadata": {},
   "source": [
    "nombre_infected       889\n",
    "nombre_sain          2090\n",
    "nombre_exposed        475\n",
    "nombre_recovered    16546\n",
    "Name: 689, dtype: int64"
   ]
  },
  {
   "cell_type": "markdown",
   "id": "8f9a6358",
   "metadata": {},
   "source": [
    "nombre_infected       917\n",
    "nombre_sain          2092\n",
    "nombre_exposed        460\n",
    "nombre_recovered    16531\n",
    "Name: 690, dtype: int64"
   ]
  },
  {
   "cell_type": "markdown",
   "id": "bc072b75",
   "metadata": {},
   "source": [
    "nombre_infected       902\n",
    "nombre_sain          2114\n",
    "nombre_exposed        446\n",
    "nombre_recovered    16538\n",
    "Name: 691, dtype: int64"
   ]
  },
  {
   "cell_type": "markdown",
   "id": "4a515993",
   "metadata": {},
   "source": [
    "nombre_infected       874\n",
    "nombre_sain          2109\n",
    "nombre_exposed        446\n",
    "nombre_recovered    16571\n",
    "Name: 692, dtype: int64"
   ]
  },
  {
   "cell_type": "markdown",
   "id": "a5c34d6b",
   "metadata": {},
   "source": [
    "nombre_infected       853\n",
    "nombre_sain          2076\n",
    "nombre_exposed        491\n",
    "nombre_recovered    16580\n",
    "Name: 693, dtype: int64"
   ]
  },
  {
   "cell_type": "markdown",
   "id": "3913acc9",
   "metadata": {},
   "source": [
    "nombre_infected       853\n",
    "nombre_sain          2057\n",
    "nombre_exposed        497\n",
    "nombre_recovered    16593\n",
    "Name: 694, dtype: int64"
   ]
  },
  {
   "cell_type": "markdown",
   "id": "9c89e5a7",
   "metadata": {},
   "source": [
    "nombre_infected       887\n",
    "nombre_sain          2039\n",
    "nombre_exposed        497\n",
    "nombre_recovered    16577\n",
    "Name: 695, dtype: int64"
   ]
  },
  {
   "cell_type": "markdown",
   "id": "ee714a5b",
   "metadata": {},
   "source": [
    "nombre_infected       870\n",
    "nombre_sain          2054\n",
    "nombre_exposed        491\n",
    "nombre_recovered    16585\n",
    "Name: 696, dtype: int64"
   ]
  },
  {
   "cell_type": "markdown",
   "id": "cb4c86c4",
   "metadata": {},
   "source": [
    "nombre_infected       870\n",
    "nombre_sain          2061\n",
    "nombre_exposed        476\n",
    "nombre_recovered    16593\n",
    "Name: 697, dtype: int64"
   ]
  },
  {
   "cell_type": "markdown",
   "id": "609abd91",
   "metadata": {},
   "source": [
    "nombre_infected       875\n",
    "nombre_sain          2060\n",
    "nombre_exposed        478\n",
    "nombre_recovered    16587\n",
    "Name: 698, dtype: int64"
   ]
  },
  {
   "cell_type": "markdown",
   "id": "001e367a",
   "metadata": {},
   "source": [
    "nombre_infected       871\n",
    "nombre_sain          2068\n",
    "nombre_exposed        470\n",
    "nombre_recovered    16591\n",
    "Name: 699, dtype: int64"
   ]
  },
  {
   "cell_type": "markdown",
   "id": "41b52aa0",
   "metadata": {},
   "source": [
    "nombre_infected       869\n",
    "nombre_sain          2094\n",
    "nombre_exposed        468\n",
    "nombre_recovered    16569\n",
    "Name: 700, dtype: int64"
   ]
  },
  {
   "cell_type": "markdown",
   "id": "f31eb335",
   "metadata": {},
   "source": [
    "nombre_infected       861\n",
    "nombre_sain          2120\n",
    "nombre_exposed        442\n",
    "nombre_recovered    16577\n",
    "Name: 701, dtype: int64"
   ]
  },
  {
   "cell_type": "markdown",
   "id": "b2af0f2f",
   "metadata": {},
   "source": [
    "nombre_infected       865\n",
    "nombre_sain          2127\n",
    "nombre_exposed        452\n",
    "nombre_recovered    16556\n",
    "Name: 702, dtype: int64"
   ]
  },
  {
   "cell_type": "markdown",
   "id": "b6b6adca",
   "metadata": {},
   "source": [
    "nombre_infected       866\n",
    "nombre_sain          2128\n",
    "nombre_exposed        467\n",
    "nombre_recovered    16539\n",
    "Name: 703, dtype: int64"
   ]
  },
  {
   "cell_type": "markdown",
   "id": "ee212413",
   "metadata": {},
   "source": [
    "nombre_infected       851\n",
    "nombre_sain          2136\n",
    "nombre_exposed        470\n",
    "nombre_recovered    16543\n",
    "Name: 704, dtype: int64"
   ]
  },
  {
   "cell_type": "markdown",
   "id": "2ac4eb96",
   "metadata": {},
   "source": [
    "nombre_infected       865\n",
    "nombre_sain          2153\n",
    "nombre_exposed        452\n",
    "nombre_recovered    16530\n",
    "Name: 705, dtype: int64"
   ]
  },
  {
   "cell_type": "markdown",
   "id": "96772d21",
   "metadata": {},
   "source": [
    "nombre_infected       868\n",
    "nombre_sain          2152\n",
    "nombre_exposed        485\n",
    "nombre_recovered    16495\n",
    "Name: 706, dtype: int64"
   ]
  },
  {
   "cell_type": "markdown",
   "id": "5b1e958c",
   "metadata": {},
   "source": [
    "nombre_infected       870\n",
    "nombre_sain          2175\n",
    "nombre_exposed        476\n",
    "nombre_recovered    16479\n",
    "Name: 707, dtype: int64"
   ]
  },
  {
   "cell_type": "markdown",
   "id": "91ac7d34",
   "metadata": {},
   "source": [
    "nombre_infected       902\n",
    "nombre_sain          2155\n",
    "nombre_exposed        481\n",
    "nombre_recovered    16462\n",
    "Name: 708, dtype: int64"
   ]
  },
  {
   "cell_type": "markdown",
   "id": "9dca7308",
   "metadata": {},
   "source": [
    "nombre_infected       897\n",
    "nombre_sain          2153\n",
    "nombre_exposed        472\n",
    "nombre_recovered    16478\n",
    "Name: 709, dtype: int64"
   ]
  },
  {
   "cell_type": "markdown",
   "id": "96770c86",
   "metadata": {},
   "source": [
    "nombre_infected       898\n",
    "nombre_sain          2143\n",
    "nombre_exposed        469\n",
    "nombre_recovered    16490\n",
    "Name: 710, dtype: int64"
   ]
  },
  {
   "cell_type": "markdown",
   "id": "a4876537",
   "metadata": {},
   "source": [
    "nombre_infected       880\n",
    "nombre_sain          2168\n",
    "nombre_exposed        469\n",
    "nombre_recovered    16483\n",
    "Name: 711, dtype: int64"
   ]
  },
  {
   "cell_type": "markdown",
   "id": "c5b3b8f6",
   "metadata": {},
   "source": [
    "nombre_infected       867\n",
    "nombre_sain          2157\n",
    "nombre_exposed        493\n",
    "nombre_recovered    16483\n",
    "Name: 712, dtype: int64"
   ]
  },
  {
   "cell_type": "markdown",
   "id": "19fa1cfe",
   "metadata": {},
   "source": [
    "nombre_infected       866\n",
    "nombre_sain          2154\n",
    "nombre_exposed        511\n",
    "nombre_recovered    16469\n",
    "Name: 713, dtype: int64"
   ]
  },
  {
   "cell_type": "markdown",
   "id": "327c0d28",
   "metadata": {},
   "source": [
    "nombre_infected       876\n",
    "nombre_sain          2169\n",
    "nombre_exposed        496\n",
    "nombre_recovered    16459\n",
    "Name: 714, dtype: int64"
   ]
  },
  {
   "cell_type": "markdown",
   "id": "014c53df",
   "metadata": {},
   "source": [
    "nombre_infected       861\n",
    "nombre_sain          2172\n",
    "nombre_exposed        501\n",
    "nombre_recovered    16466\n",
    "Name: 715, dtype: int64"
   ]
  },
  {
   "cell_type": "markdown",
   "id": "44d1551a",
   "metadata": {},
   "source": [
    "nombre_infected       880\n",
    "nombre_sain          2191\n",
    "nombre_exposed        484\n",
    "nombre_recovered    16445\n",
    "Name: 716, dtype: int64"
   ]
  },
  {
   "cell_type": "markdown",
   "id": "d765272a",
   "metadata": {},
   "source": [
    "nombre_infected       877\n",
    "nombre_sain          2190\n",
    "nombre_exposed        498\n",
    "nombre_recovered    16435\n",
    "Name: 717, dtype: int64"
   ]
  },
  {
   "cell_type": "markdown",
   "id": "055ec199",
   "metadata": {},
   "source": [
    "nombre_infected       873\n",
    "nombre_sain          2186\n",
    "nombre_exposed        514\n",
    "nombre_recovered    16427\n",
    "Name: 718, dtype: int64"
   ]
  },
  {
   "cell_type": "markdown",
   "id": "e15ba22d",
   "metadata": {},
   "source": [
    "nombre_infected       893\n",
    "nombre_sain          2181\n",
    "nombre_exposed        503\n",
    "nombre_recovered    16423\n",
    "Name: 719, dtype: int64"
   ]
  },
  {
   "cell_type": "markdown",
   "id": "23ff10b9",
   "metadata": {},
   "source": [
    "nombre_infected       906\n",
    "nombre_sain          2202\n",
    "nombre_exposed        499\n",
    "nombre_recovered    16393\n",
    "Name: 720, dtype: int64"
   ]
  },
  {
   "cell_type": "markdown",
   "id": "e5c6bcbc",
   "metadata": {},
   "source": [
    "nombre_infected       907\n",
    "nombre_sain          2202\n",
    "nombre_exposed        495\n",
    "nombre_recovered    16396\n",
    "Name: 721, dtype: int64"
   ]
  },
  {
   "cell_type": "markdown",
   "id": "f6180a61",
   "metadata": {},
   "source": [
    "nombre_infected       907\n",
    "nombre_sain          2194\n",
    "nombre_exposed        503\n",
    "nombre_recovered    16396\n",
    "Name: 722, dtype: int64"
   ]
  },
  {
   "cell_type": "markdown",
   "id": "9dee7e46",
   "metadata": {},
   "source": [
    "nombre_infected       890\n",
    "nombre_sain          2197\n",
    "nombre_exposed        521\n",
    "nombre_recovered    16392\n",
    "Name: 723, dtype: int64"
   ]
  },
  {
   "cell_type": "markdown",
   "id": "70ebfeaf",
   "metadata": {},
   "source": [
    "nombre_infected       896\n",
    "nombre_sain          2213\n",
    "nombre_exposed        530\n",
    "nombre_recovered    16361\n",
    "Name: 724, dtype: int64"
   ]
  },
  {
   "cell_type": "markdown",
   "id": "8c77d6ab",
   "metadata": {},
   "source": [
    "nombre_infected       909\n",
    "nombre_sain          2209\n",
    "nombre_exposed        535\n",
    "nombre_recovered    16347\n",
    "Name: 725, dtype: int64"
   ]
  },
  {
   "cell_type": "markdown",
   "id": "1f418956",
   "metadata": {},
   "source": [
    "nombre_infected       919\n",
    "nombre_sain          2187\n",
    "nombre_exposed        544\n",
    "nombre_recovered    16350\n",
    "Name: 726, dtype: int64"
   ]
  },
  {
   "cell_type": "markdown",
   "id": "11d7c88d",
   "metadata": {},
   "source": [
    "nombre_infected       945\n",
    "nombre_sain          2208\n",
    "nombre_exposed        528\n",
    "nombre_recovered    16319\n",
    "Name: 727, dtype: int64"
   ]
  },
  {
   "cell_type": "markdown",
   "id": "b6fa8663",
   "metadata": {},
   "source": [
    "nombre_infected       965\n",
    "nombre_sain          2211\n",
    "nombre_exposed        534\n",
    "nombre_recovered    16290\n",
    "Name: 728, dtype: int64"
   ]
  },
  {
   "cell_type": "markdown",
   "id": "150d3fcc",
   "metadata": {},
   "source": [
    "nombre_infected       973\n",
    "nombre_sain          2198\n",
    "nombre_exposed        540\n",
    "nombre_recovered    16289\n",
    "Name: 729, dtype: int64"
   ]
  },
  {
   "cell_type": "markdown",
   "id": "237de243",
   "metadata": {},
   "source": [
    "nombre_infected       987\n",
    "nombre_sain          2188\n",
    "nombre_exposed        540\n",
    "nombre_recovered    16285\n",
    "Name: 730, dtype: int64"
   ]
  }
 ],
 "metadata": {},
 "nbformat": 4,
 "nbformat_minor": 5
}
