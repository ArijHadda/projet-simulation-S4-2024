{
 "cells": [
  {
   "cell_type": "markdown",
   "id": "cb712ed8",
   "metadata": {},
   "source": [
    "nombre_infected        20\n",
    "nombre_sain         19980\n",
    "nombre_exposed          0\n",
    "nombre_recovered        0\n",
    "Name: 0, dtype: int64"
   ]
  },
  {
   "cell_type": "markdown",
   "id": "12e7aeff",
   "metadata": {},
   "source": [
    "nombre_infected        20\n",
    "nombre_sain         19963\n",
    "nombre_exposed         17\n",
    "nombre_recovered        0\n",
    "Name: 1, dtype: int64"
   ]
  },
  {
   "cell_type": "markdown",
   "id": "72fb2b0f",
   "metadata": {},
   "source": [
    "nombre_infected        20\n",
    "nombre_sain         19950\n",
    "nombre_exposed         30\n",
    "nombre_recovered        0\n",
    "Name: 2, dtype: int64"
   ]
  },
  {
   "cell_type": "markdown",
   "id": "d9fdf8dd",
   "metadata": {},
   "source": [
    "nombre_infected        18\n",
    "nombre_sain         19929\n",
    "nombre_exposed         46\n",
    "nombre_recovered        7\n",
    "Name: 3, dtype: int64"
   ]
  },
  {
   "cell_type": "markdown",
   "id": "1eddadb5",
   "metadata": {},
   "source": [
    "nombre_infected        27\n",
    "nombre_sain         19904\n",
    "nombre_exposed         62\n",
    "nombre_recovered        7\n",
    "Name: 4, dtype: int64"
   ]
  },
  {
   "cell_type": "markdown",
   "id": "aa2dfa03",
   "metadata": {},
   "source": [
    "nombre_infected        39\n",
    "nombre_sain         19869\n",
    "nombre_exposed         84\n",
    "nombre_recovered        8\n",
    "Name: 5, dtype: int64"
   ]
  },
  {
   "cell_type": "markdown",
   "id": "6f620c22",
   "metadata": {},
   "source": [
    "nombre_infected        54\n",
    "nombre_sain         19825\n",
    "nombre_exposed        112\n",
    "nombre_recovered        9\n",
    "Name: 6, dtype: int64"
   ]
  },
  {
   "cell_type": "markdown",
   "id": "d7de09df",
   "metadata": {},
   "source": [
    "nombre_infected        72\n",
    "nombre_sain         19743\n",
    "nombre_exposed        176\n",
    "nombre_recovered        9\n",
    "Name: 7, dtype: int64"
   ]
  },
  {
   "cell_type": "markdown",
   "id": "afae35a9",
   "metadata": {},
   "source": [
    "nombre_infected        94\n",
    "nombre_sain         19663\n",
    "nombre_exposed        229\n",
    "nombre_recovered       14\n",
    "Name: 8, dtype: int64"
   ]
  },
  {
   "cell_type": "markdown",
   "id": "d6be15d9",
   "metadata": {},
   "source": [
    "nombre_infected       125\n",
    "nombre_sain         19526\n",
    "nombre_exposed        328\n",
    "nombre_recovered       21\n",
    "Name: 9, dtype: int64"
   ]
  },
  {
   "cell_type": "markdown",
   "id": "4194701d",
   "metadata": {},
   "source": [
    "nombre_infected       168\n",
    "nombre_sain         19369\n",
    "nombre_exposed        435\n",
    "nombre_recovered       28\n",
    "Name: 10, dtype: int64"
   ]
  },
  {
   "cell_type": "markdown",
   "id": "a9130b30",
   "metadata": {},
   "source": [
    "nombre_infected       220\n",
    "nombre_sain         19172\n",
    "nombre_exposed        544\n",
    "nombre_recovered       64\n",
    "Name: 11, dtype: int64"
   ]
  },
  {
   "cell_type": "markdown",
   "id": "6282751c",
   "metadata": {},
   "source": [
    "nombre_infected       291\n",
    "nombre_sain         18892\n",
    "nombre_exposed        737\n",
    "nombre_recovered       80\n",
    "Name: 12, dtype: int64"
   ]
  },
  {
   "cell_type": "markdown",
   "id": "f7fedd95",
   "metadata": {},
   "source": [
    "nombre_infected       387\n",
    "nombre_sain         18455\n",
    "nombre_exposed       1052\n",
    "nombre_recovered      106\n",
    "Name: 13, dtype: int64"
   ]
  },
  {
   "cell_type": "markdown",
   "id": "646f9c40",
   "metadata": {},
   "source": [
    "nombre_infected       518\n",
    "nombre_sain         17954\n",
    "nombre_exposed       1390\n",
    "nombre_recovered      138\n",
    "Name: 14, dtype: int64"
   ]
  },
  {
   "cell_type": "markdown",
   "id": "dda88525",
   "metadata": {},
   "source": [
    "nombre_infected       676\n",
    "nombre_sain         17308\n",
    "nombre_exposed       1827\n",
    "nombre_recovered      189\n",
    "Name: 15, dtype: int64"
   ]
  },
  {
   "cell_type": "markdown",
   "id": "c3f25bb1",
   "metadata": {},
   "source": [
    "nombre_infected       908\n",
    "nombre_sain         16479\n",
    "nombre_exposed       2352\n",
    "nombre_recovered      261\n",
    "Name: 16, dtype: int64"
   ]
  },
  {
   "cell_type": "markdown",
   "id": "86d95227",
   "metadata": {},
   "source": [
    "nombre_infected      1243\n",
    "nombre_sain         15505\n",
    "nombre_exposed       2920\n",
    "nombre_recovered      332\n",
    "Name: 17, dtype: int64"
   ]
  },
  {
   "cell_type": "markdown",
   "id": "e540da5d",
   "metadata": {},
   "source": [
    "nombre_infected      1658\n",
    "nombre_sain         14291\n",
    "nombre_exposed       3608\n",
    "nombre_recovered      443\n",
    "Name: 18, dtype: int64"
   ]
  },
  {
   "cell_type": "markdown",
   "id": "b4bec19c",
   "metadata": {},
   "source": [
    "nombre_infected      2154\n",
    "nombre_sain         12829\n",
    "nombre_exposed       4435\n",
    "nombre_recovered      582\n",
    "Name: 19, dtype: int64"
   ]
  },
  {
   "cell_type": "markdown",
   "id": "8844a434",
   "metadata": {},
   "source": [
    "nombre_infected      2729\n",
    "nombre_sain         11156\n",
    "nombre_exposed       5336\n",
    "nombre_recovered      779\n",
    "Name: 20, dtype: int64"
   ]
  },
  {
   "cell_type": "markdown",
   "id": "183570e4",
   "metadata": {},
   "source": [
    "nombre_infected     3443\n",
    "nombre_sain         9397\n",
    "nombre_exposed      6123\n",
    "nombre_recovered    1037\n",
    "Name: 21, dtype: int64"
   ]
  },
  {
   "cell_type": "markdown",
   "id": "b3052509",
   "metadata": {},
   "source": [
    "nombre_infected     4274\n",
    "nombre_sain         7690\n",
    "nombre_exposed      6652\n",
    "nombre_recovered    1384\n",
    "Name: 22, dtype: int64"
   ]
  },
  {
   "cell_type": "markdown",
   "id": "e1148f46",
   "metadata": {},
   "source": [
    "nombre_infected     5111\n",
    "nombre_sain         6070\n",
    "nombre_exposed      6997\n",
    "nombre_recovered    1822\n",
    "Name: 23, dtype: int64"
   ]
  },
  {
   "cell_type": "markdown",
   "id": "bdbf897d",
   "metadata": {},
   "source": [
    "nombre_infected     6052\n",
    "nombre_sain         4572\n",
    "nombre_exposed      7030\n",
    "nombre_recovered    2346\n",
    "Name: 24, dtype: int64"
   ]
  },
  {
   "cell_type": "markdown",
   "id": "3fe4844b",
   "metadata": {},
   "source": [
    "nombre_infected     6816\n",
    "nombre_sain         3295\n",
    "nombre_exposed      6858\n",
    "nombre_recovered    3031\n",
    "Name: 25, dtype: int64"
   ]
  },
  {
   "cell_type": "markdown",
   "id": "d50ebcf2",
   "metadata": {},
   "source": [
    "nombre_infected     7498\n",
    "nombre_sain         2334\n",
    "nombre_exposed      6361\n",
    "nombre_recovered    3807\n",
    "Name: 26, dtype: int64"
   ]
  },
  {
   "cell_type": "markdown",
   "id": "0f4b647c",
   "metadata": {},
   "source": [
    "nombre_infected     8059\n",
    "nombre_sain         1623\n",
    "nombre_exposed      5667\n",
    "nombre_recovered    4651\n",
    "Name: 27, dtype: int64"
   ]
  },
  {
   "cell_type": "markdown",
   "id": "589c7d58",
   "metadata": {},
   "source": [
    "nombre_infected     8368\n",
    "nombre_sain         1113\n",
    "nombre_exposed      4872\n",
    "nombre_recovered    5647\n",
    "Name: 28, dtype: int64"
   ]
  },
  {
   "cell_type": "markdown",
   "id": "3c1d14fe",
   "metadata": {},
   "source": [
    "nombre_infected     8524\n",
    "nombre_sain          777\n",
    "nombre_exposed      4093\n",
    "nombre_recovered    6606\n",
    "Name: 29, dtype: int64"
   ]
  },
  {
   "cell_type": "markdown",
   "id": "37adb180",
   "metadata": {},
   "source": [
    "nombre_infected     8401\n",
    "nombre_sain          541\n",
    "nombre_exposed      3358\n",
    "nombre_recovered    7700\n",
    "Name: 30, dtype: int64"
   ]
  },
  {
   "cell_type": "markdown",
   "id": "02888235",
   "metadata": {},
   "source": [
    "nombre_infected     8161\n",
    "nombre_sain          373\n",
    "nombre_exposed      2757\n",
    "nombre_recovered    8709\n",
    "Name: 31, dtype: int64"
   ]
  },
  {
   "cell_type": "markdown",
   "id": "57687806",
   "metadata": {},
   "source": [
    "nombre_infected     7723\n",
    "nombre_sain          280\n",
    "nombre_exposed      2251\n",
    "nombre_recovered    9746\n",
    "Name: 32, dtype: int64"
   ]
  },
  {
   "cell_type": "markdown",
   "id": "daadb731",
   "metadata": {},
   "source": [
    "nombre_infected      7255\n",
    "nombre_sain           212\n",
    "nombre_exposed       1828\n",
    "nombre_recovered    10705\n",
    "Name: 33, dtype: int64"
   ]
  },
  {
   "cell_type": "markdown",
   "id": "87b4a49c",
   "metadata": {},
   "source": [
    "nombre_infected      6711\n",
    "nombre_sain           171\n",
    "nombre_exposed       1471\n",
    "nombre_recovered    11647\n",
    "Name: 34, dtype: int64"
   ]
  },
  {
   "cell_type": "markdown",
   "id": "a32132da",
   "metadata": {},
   "source": [
    "nombre_infected      6173\n",
    "nombre_sain           145\n",
    "nombre_exposed       1176\n",
    "nombre_recovered    12506\n",
    "Name: 35, dtype: int64"
   ]
  },
  {
   "cell_type": "markdown",
   "id": "a19d096f",
   "metadata": {},
   "source": [
    "nombre_infected      5672\n",
    "nombre_sain           145\n",
    "nombre_exposed        943\n",
    "nombre_recovered    13240\n",
    "Name: 36, dtype: int64"
   ]
  },
  {
   "cell_type": "markdown",
   "id": "dacc7931",
   "metadata": {},
   "source": [
    "nombre_infected      5207\n",
    "nombre_sain           136\n",
    "nombre_exposed        780\n",
    "nombre_recovered    13877\n",
    "Name: 37, dtype: int64"
   ]
  },
  {
   "cell_type": "markdown",
   "id": "080996fc",
   "metadata": {},
   "source": [
    "nombre_infected      4731\n",
    "nombre_sain           114\n",
    "nombre_exposed        657\n",
    "nombre_recovered    14498\n",
    "Name: 38, dtype: int64"
   ]
  },
  {
   "cell_type": "markdown",
   "id": "579d479a",
   "metadata": {},
   "source": [
    "nombre_infected      4284\n",
    "nombre_sain           119\n",
    "nombre_exposed        550\n",
    "nombre_recovered    15047\n",
    "Name: 39, dtype: int64"
   ]
  },
  {
   "cell_type": "markdown",
   "id": "891bf2f7",
   "metadata": {},
   "source": [
    "nombre_infected      3900\n",
    "nombre_sain           129\n",
    "nombre_exposed        449\n",
    "nombre_recovered    15522\n",
    "Name: 40, dtype: int64"
   ]
  },
  {
   "cell_type": "markdown",
   "id": "4f9e2ddd",
   "metadata": {},
   "source": [
    "nombre_infected      3523\n",
    "nombre_sain           145\n",
    "nombre_exposed        385\n",
    "nombre_recovered    15947\n",
    "Name: 41, dtype: int64"
   ]
  },
  {
   "cell_type": "markdown",
   "id": "13584a1e",
   "metadata": {},
   "source": [
    "nombre_infected      3148\n",
    "nombre_sain           152\n",
    "nombre_exposed        359\n",
    "nombre_recovered    16341\n",
    "Name: 42, dtype: int64"
   ]
  },
  {
   "cell_type": "markdown",
   "id": "b062f3da",
   "metadata": {},
   "source": [
    "nombre_infected      2800\n",
    "nombre_sain           179\n",
    "nombre_exposed        310\n",
    "nombre_recovered    16711\n",
    "Name: 43, dtype: int64"
   ]
  },
  {
   "cell_type": "markdown",
   "id": "a72c0996",
   "metadata": {},
   "source": [
    "nombre_infected      2508\n",
    "nombre_sain           196\n",
    "nombre_exposed        277\n",
    "nombre_recovered    17019\n",
    "Name: 44, dtype: int64"
   ]
  },
  {
   "cell_type": "markdown",
   "id": "e3a724fd",
   "metadata": {},
   "source": [
    "nombre_infected      2237\n",
    "nombre_sain           228\n",
    "nombre_exposed        259\n",
    "nombre_recovered    17276\n",
    "Name: 45, dtype: int64"
   ]
  },
  {
   "cell_type": "markdown",
   "id": "3d01f943",
   "metadata": {},
   "source": [
    "nombre_infected      2002\n",
    "nombre_sain           246\n",
    "nombre_exposed        233\n",
    "nombre_recovered    17519\n",
    "Name: 46, dtype: int64"
   ]
  },
  {
   "cell_type": "markdown",
   "id": "1e7b04f3",
   "metadata": {},
   "source": [
    "nombre_infected      1777\n",
    "nombre_sain           270\n",
    "nombre_exposed        229\n",
    "nombre_recovered    17724\n",
    "Name: 47, dtype: int64"
   ]
  },
  {
   "cell_type": "markdown",
   "id": "dcac2231",
   "metadata": {},
   "source": [
    "nombre_infected      1596\n",
    "nombre_sain           306\n",
    "nombre_exposed        234\n",
    "nombre_recovered    17864\n",
    "Name: 48, dtype: int64"
   ]
  },
  {
   "cell_type": "markdown",
   "id": "978ee751",
   "metadata": {},
   "source": [
    "nombre_infected      1440\n",
    "nombre_sain           342\n",
    "nombre_exposed        225\n",
    "nombre_recovered    17993\n",
    "Name: 49, dtype: int64"
   ]
  },
  {
   "cell_type": "markdown",
   "id": "3ad39f63",
   "metadata": {},
   "source": [
    "nombre_infected      1288\n",
    "nombre_sain           362\n",
    "nombre_exposed        226\n",
    "nombre_recovered    18124\n",
    "Name: 50, dtype: int64"
   ]
  },
  {
   "cell_type": "markdown",
   "id": "1252f875",
   "metadata": {},
   "source": [
    "nombre_infected      1163\n",
    "nombre_sain           395\n",
    "nombre_exposed        226\n",
    "nombre_recovered    18216\n",
    "Name: 51, dtype: int64"
   ]
  },
  {
   "cell_type": "markdown",
   "id": "9d985ec0",
   "metadata": {},
   "source": [
    "nombre_infected      1036\n",
    "nombre_sain           427\n",
    "nombre_exposed        230\n",
    "nombre_recovered    18307\n",
    "Name: 52, dtype: int64"
   ]
  },
  {
   "cell_type": "markdown",
   "id": "080744dc",
   "metadata": {},
   "source": [
    "nombre_infected       911\n",
    "nombre_sain           465\n",
    "nombre_exposed        231\n",
    "nombre_recovered    18393\n",
    "Name: 53, dtype: int64"
   ]
  },
  {
   "cell_type": "markdown",
   "id": "ca27f6b3",
   "metadata": {},
   "source": [
    "nombre_infected       820\n",
    "nombre_sain           521\n",
    "nombre_exposed        222\n",
    "nombre_recovered    18437\n",
    "Name: 54, dtype: int64"
   ]
  },
  {
   "cell_type": "markdown",
   "id": "8242d759",
   "metadata": {},
   "source": [
    "nombre_infected       725\n",
    "nombre_sain           554\n",
    "nombre_exposed        217\n",
    "nombre_recovered    18504\n",
    "Name: 55, dtype: int64"
   ]
  },
  {
   "cell_type": "markdown",
   "id": "fc220c13",
   "metadata": {},
   "source": [
    "nombre_infected       662\n",
    "nombre_sain           611\n",
    "nombre_exposed        215\n",
    "nombre_recovered    18512\n",
    "Name: 56, dtype: int64"
   ]
  },
  {
   "cell_type": "markdown",
   "id": "bf2e524a",
   "metadata": {},
   "source": [
    "nombre_infected       611\n",
    "nombre_sain           648\n",
    "nombre_exposed        217\n",
    "nombre_recovered    18524\n",
    "Name: 57, dtype: int64"
   ]
  },
  {
   "cell_type": "markdown",
   "id": "262260a9",
   "metadata": {},
   "source": [
    "nombre_infected       558\n",
    "nombre_sain           680\n",
    "nombre_exposed        212\n",
    "nombre_recovered    18550\n",
    "Name: 58, dtype: int64"
   ]
  },
  {
   "cell_type": "markdown",
   "id": "5e1a8505",
   "metadata": {},
   "source": [
    "nombre_infected       503\n",
    "nombre_sain           715\n",
    "nombre_exposed        203\n",
    "nombre_recovered    18579\n",
    "Name: 59, dtype: int64"
   ]
  },
  {
   "cell_type": "markdown",
   "id": "232b367b",
   "metadata": {},
   "source": [
    "nombre_infected       477\n",
    "nombre_sain           752\n",
    "nombre_exposed        191\n",
    "nombre_recovered    18580\n",
    "Name: 60, dtype: int64"
   ]
  },
  {
   "cell_type": "markdown",
   "id": "6d096aa1",
   "metadata": {},
   "source": [
    "nombre_infected       450\n",
    "nombre_sain           801\n",
    "nombre_exposed        169\n",
    "nombre_recovered    18580\n",
    "Name: 61, dtype: int64"
   ]
  },
  {
   "cell_type": "markdown",
   "id": "b971d5b2",
   "metadata": {},
   "source": [
    "nombre_infected       405\n",
    "nombre_sain           848\n",
    "nombre_exposed        155\n",
    "nombre_recovered    18592\n",
    "Name: 62, dtype: int64"
   ]
  },
  {
   "cell_type": "markdown",
   "id": "177303b3",
   "metadata": {},
   "source": [
    "nombre_infected       383\n",
    "nombre_sain           883\n",
    "nombre_exposed        146\n",
    "nombre_recovered    18588\n",
    "Name: 63, dtype: int64"
   ]
  },
  {
   "cell_type": "markdown",
   "id": "f5662d40",
   "metadata": {},
   "source": [
    "nombre_infected       348\n",
    "nombre_sain           907\n",
    "nombre_exposed        144\n",
    "nombre_recovered    18601\n",
    "Name: 64, dtype: int64"
   ]
  },
  {
   "cell_type": "markdown",
   "id": "77d99954",
   "metadata": {},
   "source": [
    "nombre_infected       315\n",
    "nombre_sain           942\n",
    "nombre_exposed        133\n",
    "nombre_recovered    18610\n",
    "Name: 65, dtype: int64"
   ]
  },
  {
   "cell_type": "markdown",
   "id": "31ce4904",
   "metadata": {},
   "source": [
    "nombre_infected       293\n",
    "nombre_sain           968\n",
    "nombre_exposed        132\n",
    "nombre_recovered    18607\n",
    "Name: 66, dtype: int64"
   ]
  },
  {
   "cell_type": "markdown",
   "id": "c2a973ad",
   "metadata": {},
   "source": [
    "nombre_infected       266\n",
    "nombre_sain           998\n",
    "nombre_exposed        128\n",
    "nombre_recovered    18608\n",
    "Name: 67, dtype: int64"
   ]
  },
  {
   "cell_type": "markdown",
   "id": "cd5ef2e2",
   "metadata": {},
   "source": [
    "nombre_infected       252\n",
    "nombre_sain          1032\n",
    "nombre_exposed        112\n",
    "nombre_recovered    18604\n",
    "Name: 68, dtype: int64"
   ]
  },
  {
   "cell_type": "markdown",
   "id": "f37460b2",
   "metadata": {},
   "source": [
    "nombre_infected       221\n",
    "nombre_sain          1076\n",
    "nombre_exposed        109\n",
    "nombre_recovered    18594\n",
    "Name: 69, dtype: int64"
   ]
  },
  {
   "cell_type": "markdown",
   "id": "426f3c9f",
   "metadata": {},
   "source": [
    "nombre_infected       196\n",
    "nombre_sain          1129\n",
    "nombre_exposed        103\n",
    "nombre_recovered    18572\n",
    "Name: 70, dtype: int64"
   ]
  },
  {
   "cell_type": "markdown",
   "id": "7a3862df",
   "metadata": {},
   "source": [
    "nombre_infected       186\n",
    "nombre_sain          1173\n",
    "nombre_exposed        107\n",
    "nombre_recovered    18534\n",
    "Name: 71, dtype: int64"
   ]
  },
  {
   "cell_type": "markdown",
   "id": "3d596960",
   "metadata": {},
   "source": [
    "nombre_infected       181\n",
    "nombre_sain          1221\n",
    "nombre_exposed         92\n",
    "nombre_recovered    18506\n",
    "Name: 72, dtype: int64"
   ]
  },
  {
   "cell_type": "markdown",
   "id": "5ce0244a",
   "metadata": {},
   "source": [
    "nombre_infected       172\n",
    "nombre_sain          1261\n",
    "nombre_exposed         86\n",
    "nombre_recovered    18481\n",
    "Name: 73, dtype: int64"
   ]
  },
  {
   "cell_type": "markdown",
   "id": "39d0033c",
   "metadata": {},
   "source": [
    "nombre_infected       149\n",
    "nombre_sain          1303\n",
    "nombre_exposed         89\n",
    "nombre_recovered    18459\n",
    "Name: 74, dtype: int64"
   ]
  },
  {
   "cell_type": "markdown",
   "id": "545b969d",
   "metadata": {},
   "source": [
    "nombre_infected       148\n",
    "nombre_sain          1355\n",
    "nombre_exposed         79\n",
    "nombre_recovered    18418\n",
    "Name: 75, dtype: int64"
   ]
  },
  {
   "cell_type": "markdown",
   "id": "9d199b68",
   "metadata": {},
   "source": [
    "nombre_infected       147\n",
    "nombre_sain          1414\n",
    "nombre_exposed         72\n",
    "nombre_recovered    18367\n",
    "Name: 76, dtype: int64"
   ]
  },
  {
   "cell_type": "markdown",
   "id": "4bc8de6b",
   "metadata": {},
   "source": [
    "nombre_infected       129\n",
    "nombre_sain          1473\n",
    "nombre_exposed         84\n",
    "nombre_recovered    18314\n",
    "Name: 77, dtype: int64"
   ]
  },
  {
   "cell_type": "markdown",
   "id": "31aa1dea",
   "metadata": {},
   "source": [
    "nombre_infected       125\n",
    "nombre_sain          1543\n",
    "nombre_exposed         71\n",
    "nombre_recovered    18261\n",
    "Name: 78, dtype: int64"
   ]
  },
  {
   "cell_type": "markdown",
   "id": "a1099dbd",
   "metadata": {},
   "source": [
    "nombre_infected       133\n",
    "nombre_sain          1608\n",
    "nombre_exposed         52\n",
    "nombre_recovered    18207\n",
    "Name: 79, dtype: int64"
   ]
  },
  {
   "cell_type": "markdown",
   "id": "4bf9d7c3",
   "metadata": {},
   "source": [
    "nombre_infected       124\n",
    "nombre_sain          1672\n",
    "nombre_exposed         50\n",
    "nombre_recovered    18154\n",
    "Name: 80, dtype: int64"
   ]
  },
  {
   "cell_type": "markdown",
   "id": "59363a6b",
   "metadata": {},
   "source": [
    "nombre_infected       106\n",
    "nombre_sain          1730\n",
    "nombre_exposed         55\n",
    "nombre_recovered    18109\n",
    "Name: 81, dtype: int64"
   ]
  },
  {
   "cell_type": "markdown",
   "id": "7d05357c",
   "metadata": {},
   "source": [
    "nombre_infected       109\n",
    "nombre_sain          1787\n",
    "nombre_exposed         52\n",
    "nombre_recovered    18052\n",
    "Name: 82, dtype: int64"
   ]
  },
  {
   "cell_type": "markdown",
   "id": "dd9df397",
   "metadata": {},
   "source": [
    "nombre_infected        94\n",
    "nombre_sain          1824\n",
    "nombre_exposed         53\n",
    "nombre_recovered    18029\n",
    "Name: 83, dtype: int64"
   ]
  },
  {
   "cell_type": "markdown",
   "id": "770d2ce0",
   "metadata": {},
   "source": [
    "nombre_infected        93\n",
    "nombre_sain          1875\n",
    "nombre_exposed         49\n",
    "nombre_recovered    17983\n",
    "Name: 84, dtype: int64"
   ]
  },
  {
   "cell_type": "markdown",
   "id": "43462a15",
   "metadata": {},
   "source": [
    "nombre_infected        87\n",
    "nombre_sain          1924\n",
    "nombre_exposed         48\n",
    "nombre_recovered    17941\n",
    "Name: 85, dtype: int64"
   ]
  },
  {
   "cell_type": "markdown",
   "id": "f31575d9",
   "metadata": {},
   "source": [
    "nombre_infected        90\n",
    "nombre_sain          1958\n",
    "nombre_exposed         48\n",
    "nombre_recovered    17904\n",
    "Name: 86, dtype: int64"
   ]
  },
  {
   "cell_type": "markdown",
   "id": "6e388cd0",
   "metadata": {},
   "source": [
    "nombre_infected        87\n",
    "nombre_sain          2019\n",
    "nombre_exposed         41\n",
    "nombre_recovered    17853\n",
    "Name: 87, dtype: int64"
   ]
  },
  {
   "cell_type": "markdown",
   "id": "6239c2dc",
   "metadata": {},
   "source": [
    "nombre_infected        80\n",
    "nombre_sain          2047\n",
    "nombre_exposed         47\n",
    "nombre_recovered    17826\n",
    "Name: 88, dtype: int64"
   ]
  },
  {
   "cell_type": "markdown",
   "id": "d0bdbfb3",
   "metadata": {},
   "source": [
    "nombre_infected        80\n",
    "nombre_sain          2085\n",
    "nombre_exposed         50\n",
    "nombre_recovered    17785\n",
    "Name: 89, dtype: int64"
   ]
  },
  {
   "cell_type": "markdown",
   "id": "f91ff1e8",
   "metadata": {},
   "source": [
    "nombre_infected        84\n",
    "nombre_sain          2122\n",
    "nombre_exposed         49\n",
    "nombre_recovered    17745\n",
    "Name: 90, dtype: int64"
   ]
  },
  {
   "cell_type": "markdown",
   "id": "54df23c1",
   "metadata": {},
   "source": [
    "nombre_infected        84\n",
    "nombre_sain          2172\n",
    "nombre_exposed         54\n",
    "nombre_recovered    17690\n",
    "Name: 91, dtype: int64"
   ]
  },
  {
   "cell_type": "markdown",
   "id": "921a7f57",
   "metadata": {},
   "source": [
    "nombre_infected        83\n",
    "nombre_sain          2199\n",
    "nombre_exposed         60\n",
    "nombre_recovered    17658\n",
    "Name: 92, dtype: int64"
   ]
  },
  {
   "cell_type": "markdown",
   "id": "90d9909a",
   "metadata": {},
   "source": [
    "nombre_infected        86\n",
    "nombre_sain          2228\n",
    "nombre_exposed         59\n",
    "nombre_recovered    17627\n",
    "Name: 93, dtype: int64"
   ]
  },
  {
   "cell_type": "markdown",
   "id": "54493207",
   "metadata": {},
   "source": [
    "nombre_infected        81\n",
    "nombre_sain          2274\n",
    "nombre_exposed         64\n",
    "nombre_recovered    17581\n",
    "Name: 94, dtype: int64"
   ]
  },
  {
   "cell_type": "markdown",
   "id": "214c4b72",
   "metadata": {},
   "source": [
    "nombre_infected        88\n",
    "nombre_sain          2321\n",
    "nombre_exposed         55\n",
    "nombre_recovered    17536\n",
    "Name: 95, dtype: int64"
   ]
  },
  {
   "cell_type": "markdown",
   "id": "eec5a154",
   "metadata": {},
   "source": [
    "nombre_infected        83\n",
    "nombre_sain          2365\n",
    "nombre_exposed         66\n",
    "nombre_recovered    17486\n",
    "Name: 96, dtype: int64"
   ]
  },
  {
   "cell_type": "markdown",
   "id": "31687cdb",
   "metadata": {},
   "source": [
    "nombre_infected        88\n",
    "nombre_sain          2411\n",
    "nombre_exposed         64\n",
    "nombre_recovered    17437\n",
    "Name: 97, dtype: int64"
   ]
  },
  {
   "cell_type": "markdown",
   "id": "29478942",
   "metadata": {},
   "source": [
    "nombre_infected        88\n",
    "nombre_sain          2457\n",
    "nombre_exposed         65\n",
    "nombre_recovered    17390\n",
    "Name: 98, dtype: int64"
   ]
  },
  {
   "cell_type": "markdown",
   "id": "30aae81e",
   "metadata": {},
   "source": [
    "nombre_infected        89\n",
    "nombre_sain          2503\n",
    "nombre_exposed         63\n",
    "nombre_recovered    17345\n",
    "Name: 99, dtype: int64"
   ]
  },
  {
   "cell_type": "markdown",
   "id": "82a951bf",
   "metadata": {},
   "source": [
    "nombre_infected        85\n",
    "nombre_sain          2559\n",
    "nombre_exposed         65\n",
    "nombre_recovered    17291\n",
    "Name: 100, dtype: int64"
   ]
  },
  {
   "cell_type": "markdown",
   "id": "de71b9c7",
   "metadata": {},
   "source": [
    "nombre_infected        80\n",
    "nombre_sain          2604\n",
    "nombre_exposed         70\n",
    "nombre_recovered    17246\n",
    "Name: 101, dtype: int64"
   ]
  },
  {
   "cell_type": "markdown",
   "id": "bfa57aca",
   "metadata": {},
   "source": [
    "nombre_infected        84\n",
    "nombre_sain          2653\n",
    "nombre_exposed         76\n",
    "nombre_recovered    17187\n",
    "Name: 102, dtype: int64"
   ]
  },
  {
   "cell_type": "markdown",
   "id": "5f7307a8",
   "metadata": {},
   "source": [
    "nombre_infected        79\n",
    "nombre_sain          2707\n",
    "nombre_exposed         80\n",
    "nombre_recovered    17134\n",
    "Name: 103, dtype: int64"
   ]
  },
  {
   "cell_type": "markdown",
   "id": "604f08df",
   "metadata": {},
   "source": [
    "nombre_infected        82\n",
    "nombre_sain          2760\n",
    "nombre_exposed         77\n",
    "nombre_recovered    17081\n",
    "Name: 104, dtype: int64"
   ]
  },
  {
   "cell_type": "markdown",
   "id": "4e5b3cd6",
   "metadata": {},
   "source": [
    "nombre_infected        84\n",
    "nombre_sain          2810\n",
    "nombre_exposed         81\n",
    "nombre_recovered    17025\n",
    "Name: 105, dtype: int64"
   ]
  },
  {
   "cell_type": "markdown",
   "id": "b3a7de33",
   "metadata": {},
   "source": [
    "nombre_infected        88\n",
    "nombre_sain          2861\n",
    "nombre_exposed         84\n",
    "nombre_recovered    16967\n",
    "Name: 106, dtype: int64"
   ]
  },
  {
   "cell_type": "markdown",
   "id": "4557451a",
   "metadata": {},
   "source": [
    "nombre_infected        99\n",
    "nombre_sain          2914\n",
    "nombre_exposed         84\n",
    "nombre_recovered    16903\n",
    "Name: 107, dtype: int64"
   ]
  },
  {
   "cell_type": "markdown",
   "id": "2d6c6dde",
   "metadata": {},
   "source": [
    "nombre_infected        98\n",
    "nombre_sain          2968\n",
    "nombre_exposed         88\n",
    "nombre_recovered    16846\n",
    "Name: 108, dtype: int64"
   ]
  },
  {
   "cell_type": "markdown",
   "id": "4888f771",
   "metadata": {},
   "source": [
    "nombre_infected       101\n",
    "nombre_sain          2994\n",
    "nombre_exposed        104\n",
    "nombre_recovered    16801\n",
    "Name: 109, dtype: int64"
   ]
  },
  {
   "cell_type": "markdown",
   "id": "2772cda3",
   "metadata": {},
   "source": [
    "nombre_infected        96\n",
    "nombre_sain          3037\n",
    "nombre_exposed        112\n",
    "nombre_recovered    16755\n",
    "Name: 110, dtype: int64"
   ]
  },
  {
   "cell_type": "markdown",
   "id": "2c3a084d",
   "metadata": {},
   "source": [
    "nombre_infected       116\n",
    "nombre_sain          3101\n",
    "nombre_exposed         99\n",
    "nombre_recovered    16684\n",
    "Name: 111, dtype: int64"
   ]
  },
  {
   "cell_type": "markdown",
   "id": "3a5b0c0a",
   "metadata": {},
   "source": [
    "nombre_infected       117\n",
    "nombre_sain          3156\n",
    "nombre_exposed        108\n",
    "nombre_recovered    16619\n",
    "Name: 112, dtype: int64"
   ]
  },
  {
   "cell_type": "markdown",
   "id": "14f27e2c",
   "metadata": {},
   "source": [
    "nombre_infected       121\n",
    "nombre_sain          3211\n",
    "nombre_exposed        111\n",
    "nombre_recovered    16557\n",
    "Name: 113, dtype: int64"
   ]
  },
  {
   "cell_type": "markdown",
   "id": "adb9b9b0",
   "metadata": {},
   "source": [
    "nombre_infected       127\n",
    "nombre_sain          3258\n",
    "nombre_exposed        121\n",
    "nombre_recovered    16494\n",
    "Name: 114, dtype: int64"
   ]
  },
  {
   "cell_type": "markdown",
   "id": "2e4c113b",
   "metadata": {},
   "source": [
    "nombre_infected       131\n",
    "nombre_sain          3300\n",
    "nombre_exposed        123\n",
    "nombre_recovered    16446\n",
    "Name: 115, dtype: int64"
   ]
  },
  {
   "cell_type": "markdown",
   "id": "f047c29d",
   "metadata": {},
   "source": [
    "nombre_infected       140\n",
    "nombre_sain          3337\n",
    "nombre_exposed        137\n",
    "nombre_recovered    16386\n",
    "Name: 116, dtype: int64"
   ]
  },
  {
   "cell_type": "markdown",
   "id": "a7118d02",
   "metadata": {},
   "source": [
    "nombre_infected       145\n",
    "nombre_sain          3371\n",
    "nombre_exposed        139\n",
    "nombre_recovered    16345\n",
    "Name: 117, dtype: int64"
   ]
  },
  {
   "cell_type": "markdown",
   "id": "bbd170ce",
   "metadata": {},
   "source": [
    "nombre_infected       160\n",
    "nombre_sain          3411\n",
    "nombre_exposed        135\n",
    "nombre_recovered    16294\n",
    "Name: 118, dtype: int64"
   ]
  },
  {
   "cell_type": "markdown",
   "id": "8221bc9d",
   "metadata": {},
   "source": [
    "nombre_infected       167\n",
    "nombre_sain          3440\n",
    "nombre_exposed        133\n",
    "nombre_recovered    16260\n",
    "Name: 119, dtype: int64"
   ]
  },
  {
   "cell_type": "markdown",
   "id": "1afad22f",
   "metadata": {},
   "source": [
    "nombre_infected       159\n",
    "nombre_sain          3446\n",
    "nombre_exposed        160\n",
    "nombre_recovered    16235\n",
    "Name: 120, dtype: int64"
   ]
  },
  {
   "cell_type": "markdown",
   "id": "1c22191e",
   "metadata": {},
   "source": [
    "nombre_infected       159\n",
    "nombre_sain          3457\n",
    "nombre_exposed        168\n",
    "nombre_recovered    16216\n",
    "Name: 121, dtype: int64"
   ]
  },
  {
   "cell_type": "markdown",
   "id": "61495992",
   "metadata": {},
   "source": [
    "nombre_infected       180\n",
    "nombre_sain          3456\n",
    "nombre_exposed        170\n",
    "nombre_recovered    16194\n",
    "Name: 122, dtype: int64"
   ]
  },
  {
   "cell_type": "markdown",
   "id": "99c08dc9",
   "metadata": {},
   "source": [
    "nombre_infected       184\n",
    "nombre_sain          3453\n",
    "nombre_exposed        178\n",
    "nombre_recovered    16185\n",
    "Name: 123, dtype: int64"
   ]
  },
  {
   "cell_type": "markdown",
   "id": "77b0b2c6",
   "metadata": {},
   "source": [
    "nombre_infected       191\n",
    "nombre_sain          3452\n",
    "nombre_exposed        186\n",
    "nombre_recovered    16171\n",
    "Name: 124, dtype: int64"
   ]
  },
  {
   "cell_type": "markdown",
   "id": "025a725f",
   "metadata": {},
   "source": [
    "nombre_infected       213\n",
    "nombre_sain          3455\n",
    "nombre_exposed        191\n",
    "nombre_recovered    16141\n",
    "Name: 125, dtype: int64"
   ]
  },
  {
   "cell_type": "markdown",
   "id": "5039ecba",
   "metadata": {},
   "source": [
    "nombre_infected       219\n",
    "nombre_sain          3446\n",
    "nombre_exposed        203\n",
    "nombre_recovered    16132\n",
    "Name: 126, dtype: int64"
   ]
  },
  {
   "cell_type": "markdown",
   "id": "dbf04e1e",
   "metadata": {},
   "source": [
    "nombre_infected       241\n",
    "nombre_sain          3444\n",
    "nombre_exposed        219\n",
    "nombre_recovered    16096\n",
    "Name: 127, dtype: int64"
   ]
  },
  {
   "cell_type": "markdown",
   "id": "90c12910",
   "metadata": {},
   "source": [
    "nombre_infected       244\n",
    "nombre_sain          3460\n",
    "nombre_exposed        230\n",
    "nombre_recovered    16066\n",
    "Name: 128, dtype: int64"
   ]
  },
  {
   "cell_type": "markdown",
   "id": "7e98887b",
   "metadata": {},
   "source": [
    "nombre_infected       250\n",
    "nombre_sain          3451\n",
    "nombre_exposed        258\n",
    "nombre_recovered    16041\n",
    "Name: 129, dtype: int64"
   ]
  },
  {
   "cell_type": "markdown",
   "id": "7ce596c4",
   "metadata": {},
   "source": [
    "nombre_infected       263\n",
    "nombre_sain          3457\n",
    "nombre_exposed        270\n",
    "nombre_recovered    16010\n",
    "Name: 130, dtype: int64"
   ]
  },
  {
   "cell_type": "markdown",
   "id": "269d2b09",
   "metadata": {},
   "source": [
    "nombre_infected       288\n",
    "nombre_sain          3467\n",
    "nombre_exposed        284\n",
    "nombre_recovered    15961\n",
    "Name: 131, dtype: int64"
   ]
  },
  {
   "cell_type": "markdown",
   "id": "2769a20c",
   "metadata": {},
   "source": [
    "nombre_infected       307\n",
    "nombre_sain          3462\n",
    "nombre_exposed        309\n",
    "nombre_recovered    15922\n",
    "Name: 132, dtype: int64"
   ]
  },
  {
   "cell_type": "markdown",
   "id": "9e62a40c",
   "metadata": {},
   "source": [
    "nombre_infected       300\n",
    "nombre_sain          3449\n",
    "nombre_exposed        350\n",
    "nombre_recovered    15901\n",
    "Name: 133, dtype: int64"
   ]
  },
  {
   "cell_type": "markdown",
   "id": "5dc0762b",
   "metadata": {},
   "source": [
    "nombre_infected       335\n",
    "nombre_sain          3458\n",
    "nombre_exposed        362\n",
    "nombre_recovered    15845\n",
    "Name: 134, dtype: int64"
   ]
  },
  {
   "cell_type": "markdown",
   "id": "326b15b0",
   "metadata": {},
   "source": [
    "nombre_infected       347\n",
    "nombre_sain          3433\n",
    "nombre_exposed        387\n",
    "nombre_recovered    15833\n",
    "Name: 135, dtype: int64"
   ]
  },
  {
   "cell_type": "markdown",
   "id": "8b41ee69",
   "metadata": {},
   "source": [
    "nombre_infected       373\n",
    "nombre_sain          3442\n",
    "nombre_exposed        396\n",
    "nombre_recovered    15789\n",
    "Name: 136, dtype: int64"
   ]
  },
  {
   "cell_type": "markdown",
   "id": "d1018a41",
   "metadata": {},
   "source": [
    "nombre_infected       409\n",
    "nombre_sain          3431\n",
    "nombre_exposed        412\n",
    "nombre_recovered    15748\n",
    "Name: 137, dtype: int64"
   ]
  },
  {
   "cell_type": "markdown",
   "id": "b12ed85f",
   "metadata": {},
   "source": [
    "nombre_infected       446\n",
    "nombre_sain          3398\n",
    "nombre_exposed        419\n",
    "nombre_recovered    15737\n",
    "Name: 138, dtype: int64"
   ]
  },
  {
   "cell_type": "markdown",
   "id": "27911d37",
   "metadata": {},
   "source": [
    "nombre_infected       471\n",
    "nombre_sain          3355\n",
    "nombre_exposed        451\n",
    "nombre_recovered    15723\n",
    "Name: 139, dtype: int64"
   ]
  },
  {
   "cell_type": "markdown",
   "id": "f3e3c8d8",
   "metadata": {},
   "source": [
    "nombre_infected       492\n",
    "nombre_sain          3329\n",
    "nombre_exposed        467\n",
    "nombre_recovered    15712\n",
    "Name: 140, dtype: int64"
   ]
  },
  {
   "cell_type": "markdown",
   "id": "cd8033d4",
   "metadata": {},
   "source": [
    "nombre_infected       518\n",
    "nombre_sain          3298\n",
    "nombre_exposed        482\n",
    "nombre_recovered    15702\n",
    "Name: 141, dtype: int64"
   ]
  },
  {
   "cell_type": "markdown",
   "id": "4a8c7fd2",
   "metadata": {},
   "source": [
    "nombre_infected       546\n",
    "nombre_sain          3223\n",
    "nombre_exposed        510\n",
    "nombre_recovered    15721\n",
    "Name: 142, dtype: int64"
   ]
  },
  {
   "cell_type": "markdown",
   "id": "bce955c6",
   "metadata": {},
   "source": [
    "nombre_infected       589\n",
    "nombre_sain          3165\n",
    "nombre_exposed        516\n",
    "nombre_recovered    15730\n",
    "Name: 143, dtype: int64"
   ]
  },
  {
   "cell_type": "markdown",
   "id": "5571a00e",
   "metadata": {},
   "source": [
    "nombre_infected       595\n",
    "nombre_sain          3109\n",
    "nombre_exposed        535\n",
    "nombre_recovered    15761\n",
    "Name: 144, dtype: int64"
   ]
  },
  {
   "cell_type": "markdown",
   "id": "1f87ff82",
   "metadata": {},
   "source": [
    "nombre_infected       615\n",
    "nombre_sain          3036\n",
    "nombre_exposed        545\n",
    "nombre_recovered    15804\n",
    "Name: 145, dtype: int64"
   ]
  },
  {
   "cell_type": "markdown",
   "id": "5774c2b1",
   "metadata": {},
   "source": [
    "nombre_infected       658\n",
    "nombre_sain          2962\n",
    "nombre_exposed        553\n",
    "nombre_recovered    15827\n",
    "Name: 146, dtype: int64"
   ]
  },
  {
   "cell_type": "markdown",
   "id": "71f57ebc",
   "metadata": {},
   "source": [
    "nombre_infected       685\n",
    "nombre_sain          2879\n",
    "nombre_exposed        580\n",
    "nombre_recovered    15856\n",
    "Name: 147, dtype: int64"
   ]
  },
  {
   "cell_type": "markdown",
   "id": "2b1e05d1",
   "metadata": {},
   "source": [
    "nombre_infected       711\n",
    "nombre_sain          2811\n",
    "nombre_exposed        609\n",
    "nombre_recovered    15869\n",
    "Name: 148, dtype: int64"
   ]
  },
  {
   "cell_type": "markdown",
   "id": "a916e5f2",
   "metadata": {},
   "source": [
    "nombre_infected       728\n",
    "nombre_sain          2746\n",
    "nombre_exposed        634\n",
    "nombre_recovered    15892\n",
    "Name: 149, dtype: int64"
   ]
  },
  {
   "cell_type": "markdown",
   "id": "d3cd20b1",
   "metadata": {},
   "source": [
    "nombre_infected       768\n",
    "nombre_sain          2686\n",
    "nombre_exposed        626\n",
    "nombre_recovered    15920\n",
    "Name: 150, dtype: int64"
   ]
  },
  {
   "cell_type": "markdown",
   "id": "f245bbaf",
   "metadata": {},
   "source": [
    "nombre_infected       825\n",
    "nombre_sain          2593\n",
    "nombre_exposed        642\n",
    "nombre_recovered    15940\n",
    "Name: 151, dtype: int64"
   ]
  },
  {
   "cell_type": "markdown",
   "id": "526112d2",
   "metadata": {},
   "source": [
    "nombre_infected       859\n",
    "nombre_sain          2541\n",
    "nombre_exposed        648\n",
    "nombre_recovered    15952\n",
    "Name: 152, dtype: int64"
   ]
  },
  {
   "cell_type": "markdown",
   "id": "117fc138",
   "metadata": {},
   "source": [
    "nombre_infected       880\n",
    "nombre_sain          2458\n",
    "nombre_exposed        679\n",
    "nombre_recovered    15983\n",
    "Name: 153, dtype: int64"
   ]
  },
  {
   "cell_type": "markdown",
   "id": "2a1f25c1",
   "metadata": {},
   "source": [
    "nombre_infected       891\n",
    "nombre_sain          2412\n",
    "nombre_exposed        668\n",
    "nombre_recovered    16029\n",
    "Name: 154, dtype: int64"
   ]
  },
  {
   "cell_type": "markdown",
   "id": "a27976fb",
   "metadata": {},
   "source": [
    "nombre_infected       931\n",
    "nombre_sain          2380\n",
    "nombre_exposed        657\n",
    "nombre_recovered    16032\n",
    "Name: 155, dtype: int64"
   ]
  },
  {
   "cell_type": "markdown",
   "id": "f58152d0",
   "metadata": {},
   "source": [
    "nombre_infected       946\n",
    "nombre_sain          2301\n",
    "nombre_exposed        691\n",
    "nombre_recovered    16062\n",
    "Name: 156, dtype: int64"
   ]
  },
  {
   "cell_type": "markdown",
   "id": "6710ec50",
   "metadata": {},
   "source": [
    "nombre_infected       946\n",
    "nombre_sain          2235\n",
    "nombre_exposed        703\n",
    "nombre_recovered    16116\n",
    "Name: 157, dtype: int64"
   ]
  },
  {
   "cell_type": "markdown",
   "id": "1ceacfa8",
   "metadata": {},
   "source": [
    "nombre_infected       972\n",
    "nombre_sain          2173\n",
    "nombre_exposed        700\n",
    "nombre_recovered    16155\n",
    "Name: 158, dtype: int64"
   ]
  },
  {
   "cell_type": "markdown",
   "id": "3dc98640",
   "metadata": {},
   "source": [
    "nombre_infected       992\n",
    "nombre_sain          2119\n",
    "nombre_exposed        684\n",
    "nombre_recovered    16205\n",
    "Name: 159, dtype: int64"
   ]
  },
  {
   "cell_type": "markdown",
   "id": "46fb1fbd",
   "metadata": {},
   "source": [
    "nombre_infected      1020\n",
    "nombre_sain          2057\n",
    "nombre_exposed        692\n",
    "nombre_recovered    16231\n",
    "Name: 160, dtype: int64"
   ]
  },
  {
   "cell_type": "markdown",
   "id": "8e6337eb",
   "metadata": {},
   "source": [
    "nombre_infected       999\n",
    "nombre_sain          1994\n",
    "nombre_exposed        690\n",
    "nombre_recovered    16317\n",
    "Name: 161, dtype: int64"
   ]
  },
  {
   "cell_type": "markdown",
   "id": "2bf9b6fb",
   "metadata": {},
   "source": [
    "nombre_infected      1024\n",
    "nombre_sain          1932\n",
    "nombre_exposed        669\n",
    "nombre_recovered    16375\n",
    "Name: 162, dtype: int64"
   ]
  },
  {
   "cell_type": "markdown",
   "id": "43b5a519",
   "metadata": {},
   "source": [
    "nombre_infected      1017\n",
    "nombre_sain          1904\n",
    "nombre_exposed        643\n",
    "nombre_recovered    16436\n",
    "Name: 163, dtype: int64"
   ]
  },
  {
   "cell_type": "markdown",
   "id": "657905eb",
   "metadata": {},
   "source": [
    "nombre_infected      1008\n",
    "nombre_sain          1883\n",
    "nombre_exposed        635\n",
    "nombre_recovered    16474\n",
    "Name: 164, dtype: int64"
   ]
  },
  {
   "cell_type": "markdown",
   "id": "20d263a5",
   "metadata": {},
   "source": [
    "nombre_infected       994\n",
    "nombre_sain          1842\n",
    "nombre_exposed        636\n",
    "nombre_recovered    16528\n",
    "Name: 165, dtype: int64"
   ]
  },
  {
   "cell_type": "markdown",
   "id": "85b4ec9c",
   "metadata": {},
   "source": [
    "nombre_infected       973\n",
    "nombre_sain          1800\n",
    "nombre_exposed        641\n",
    "nombre_recovered    16586\n",
    "Name: 166, dtype: int64"
   ]
  },
  {
   "cell_type": "markdown",
   "id": "71622dc4",
   "metadata": {},
   "source": [
    "nombre_infected       977\n",
    "nombre_sain          1763\n",
    "nombre_exposed        621\n",
    "nombre_recovered    16639\n",
    "Name: 167, dtype: int64"
   ]
  },
  {
   "cell_type": "markdown",
   "id": "7e87b71f",
   "metadata": {},
   "source": [
    "nombre_infected       966\n",
    "nombre_sain          1751\n",
    "nombre_exposed        592\n",
    "nombre_recovered    16691\n",
    "Name: 168, dtype: int64"
   ]
  },
  {
   "cell_type": "markdown",
   "id": "b3e4c7e6",
   "metadata": {},
   "source": [
    "nombre_infected       975\n",
    "nombre_sain          1710\n",
    "nombre_exposed        584\n",
    "nombre_recovered    16731\n",
    "Name: 169, dtype: int64"
   ]
  },
  {
   "cell_type": "markdown",
   "id": "d87fe8e1",
   "metadata": {},
   "source": [
    "nombre_infected       949\n",
    "nombre_sain          1690\n",
    "nombre_exposed        583\n",
    "nombre_recovered    16778\n",
    "Name: 170, dtype: int64"
   ]
  },
  {
   "cell_type": "markdown",
   "id": "1d8fe42f",
   "metadata": {},
   "source": [
    "nombre_infected       940\n",
    "nombre_sain          1669\n",
    "nombre_exposed        567\n",
    "nombre_recovered    16824\n",
    "Name: 171, dtype: int64"
   ]
  },
  {
   "cell_type": "markdown",
   "id": "2fab4a8a",
   "metadata": {},
   "source": [
    "nombre_infected       942\n",
    "nombre_sain          1685\n",
    "nombre_exposed        559\n",
    "nombre_recovered    16814\n",
    "Name: 172, dtype: int64"
   ]
  },
  {
   "cell_type": "markdown",
   "id": "b2cccc88",
   "metadata": {},
   "source": [
    "nombre_infected       933\n",
    "nombre_sain          1692\n",
    "nombre_exposed        551\n",
    "nombre_recovered    16824\n",
    "Name: 173, dtype: int64"
   ]
  },
  {
   "cell_type": "markdown",
   "id": "29d85443",
   "metadata": {},
   "source": [
    "nombre_infected       904\n",
    "nombre_sain          1704\n",
    "nombre_exposed        543\n",
    "nombre_recovered    16849\n",
    "Name: 174, dtype: int64"
   ]
  },
  {
   "cell_type": "markdown",
   "id": "cf624648",
   "metadata": {},
   "source": [
    "nombre_infected       882\n",
    "nombre_sain          1708\n",
    "nombre_exposed        516\n",
    "nombre_recovered    16894\n",
    "Name: 175, dtype: int64"
   ]
  },
  {
   "cell_type": "markdown",
   "id": "cb9c620c",
   "metadata": {},
   "source": [
    "nombre_infected       877\n",
    "nombre_sain          1732\n",
    "nombre_exposed        482\n",
    "nombre_recovered    16909\n",
    "Name: 176, dtype: int64"
   ]
  },
  {
   "cell_type": "markdown",
   "id": "d690c589",
   "metadata": {},
   "source": [
    "nombre_infected       862\n",
    "nombre_sain          1749\n",
    "nombre_exposed        454\n",
    "nombre_recovered    16935\n",
    "Name: 177, dtype: int64"
   ]
  },
  {
   "cell_type": "markdown",
   "id": "0691f1a4",
   "metadata": {},
   "source": [
    "nombre_infected       861\n",
    "nombre_sain          1750\n",
    "nombre_exposed        448\n",
    "nombre_recovered    16941\n",
    "Name: 178, dtype: int64"
   ]
  },
  {
   "cell_type": "markdown",
   "id": "4f65df0f",
   "metadata": {},
   "source": [
    "nombre_infected       842\n",
    "nombre_sain          1756\n",
    "nombre_exposed        447\n",
    "nombre_recovered    16955\n",
    "Name: 179, dtype: int64"
   ]
  },
  {
   "cell_type": "markdown",
   "id": "49beb5e1",
   "metadata": {},
   "source": [
    "nombre_infected       809\n",
    "nombre_sain          1753\n",
    "nombre_exposed        456\n",
    "nombre_recovered    16982\n",
    "Name: 180, dtype: int64"
   ]
  },
  {
   "cell_type": "markdown",
   "id": "50aad304",
   "metadata": {},
   "source": [
    "nombre_infected       798\n",
    "nombre_sain          1762\n",
    "nombre_exposed        448\n",
    "nombre_recovered    16992\n",
    "Name: 181, dtype: int64"
   ]
  },
  {
   "cell_type": "markdown",
   "id": "b301a5ba",
   "metadata": {},
   "source": [
    "nombre_infected       792\n",
    "nombre_sain          1754\n",
    "nombre_exposed        441\n",
    "nombre_recovered    17013\n",
    "Name: 182, dtype: int64"
   ]
  },
  {
   "cell_type": "markdown",
   "id": "ac3560e5",
   "metadata": {},
   "source": [
    "nombre_infected       753\n",
    "nombre_sain          1757\n",
    "nombre_exposed        452\n",
    "nombre_recovered    17038\n",
    "Name: 183, dtype: int64"
   ]
  },
  {
   "cell_type": "markdown",
   "id": "6fc52dd7",
   "metadata": {},
   "source": [
    "nombre_infected       714\n",
    "nombre_sain          1765\n",
    "nombre_exposed        437\n",
    "nombre_recovered    17084\n",
    "Name: 184, dtype: int64"
   ]
  },
  {
   "cell_type": "markdown",
   "id": "424ea25a",
   "metadata": {},
   "source": [
    "nombre_infected       686\n",
    "nombre_sain          1777\n",
    "nombre_exposed        423\n",
    "nombre_recovered    17114\n",
    "Name: 185, dtype: int64"
   ]
  },
  {
   "cell_type": "markdown",
   "id": "e4a623f4",
   "metadata": {},
   "source": [
    "nombre_infected       672\n",
    "nombre_sain          1786\n",
    "nombre_exposed        425\n",
    "nombre_recovered    17117\n",
    "Name: 186, dtype: int64"
   ]
  },
  {
   "cell_type": "markdown",
   "id": "346b1393",
   "metadata": {},
   "source": [
    "nombre_infected       669\n",
    "nombre_sain          1761\n",
    "nombre_exposed        449\n",
    "nombre_recovered    17121\n",
    "Name: 187, dtype: int64"
   ]
  },
  {
   "cell_type": "markdown",
   "id": "f945cce9",
   "metadata": {},
   "source": [
    "nombre_infected       661\n",
    "nombre_sain          1765\n",
    "nombre_exposed        439\n",
    "nombre_recovered    17135\n",
    "Name: 188, dtype: int64"
   ]
  },
  {
   "cell_type": "markdown",
   "id": "2648b086",
   "metadata": {},
   "source": [
    "nombre_infected       657\n",
    "nombre_sain          1773\n",
    "nombre_exposed        424\n",
    "nombre_recovered    17146\n",
    "Name: 189, dtype: int64"
   ]
  },
  {
   "cell_type": "markdown",
   "id": "90360fda",
   "metadata": {},
   "source": [
    "nombre_infected       670\n",
    "nombre_sain          1799\n",
    "nombre_exposed        403\n",
    "nombre_recovered    17128\n",
    "Name: 190, dtype: int64"
   ]
  },
  {
   "cell_type": "markdown",
   "id": "b2d727c0",
   "metadata": {},
   "source": [
    "nombre_infected       669\n",
    "nombre_sain          1829\n",
    "nombre_exposed        405\n",
    "nombre_recovered    17097\n",
    "Name: 191, dtype: int64"
   ]
  },
  {
   "cell_type": "markdown",
   "id": "d9110c8b",
   "metadata": {},
   "source": [
    "nombre_infected       645\n",
    "nombre_sain          1836\n",
    "nombre_exposed        418\n",
    "nombre_recovered    17101\n",
    "Name: 192, dtype: int64"
   ]
  },
  {
   "cell_type": "markdown",
   "id": "702fa4f9",
   "metadata": {},
   "source": [
    "nombre_infected       619\n",
    "nombre_sain          1873\n",
    "nombre_exposed        398\n",
    "nombre_recovered    17110\n",
    "Name: 193, dtype: int64"
   ]
  },
  {
   "cell_type": "markdown",
   "id": "1031f5db",
   "metadata": {},
   "source": [
    "nombre_infected       584\n",
    "nombre_sain          1920\n",
    "nombre_exposed        396\n",
    "nombre_recovered    17100\n",
    "Name: 194, dtype: int64"
   ]
  },
  {
   "cell_type": "markdown",
   "id": "93a179b5",
   "metadata": {},
   "source": [
    "nombre_infected       567\n",
    "nombre_sain          1929\n",
    "nombre_exposed        403\n",
    "nombre_recovered    17101\n",
    "Name: 195, dtype: int64"
   ]
  },
  {
   "cell_type": "markdown",
   "id": "42ebb4cd",
   "metadata": {},
   "source": [
    "nombre_infected       572\n",
    "nombre_sain          1981\n",
    "nombre_exposed        393\n",
    "nombre_recovered    17054\n",
    "Name: 196, dtype: int64"
   ]
  },
  {
   "cell_type": "markdown",
   "id": "3ba88dc0",
   "metadata": {},
   "source": [
    "nombre_infected       571\n",
    "nombre_sain          2015\n",
    "nombre_exposed        384\n",
    "nombre_recovered    17030\n",
    "Name: 197, dtype: int64"
   ]
  },
  {
   "cell_type": "markdown",
   "id": "0ecce50d",
   "metadata": {},
   "source": [
    "nombre_infected       578\n",
    "nombre_sain          2040\n",
    "nombre_exposed        368\n",
    "nombre_recovered    17014\n",
    "Name: 198, dtype: int64"
   ]
  },
  {
   "cell_type": "markdown",
   "id": "de73c0b8",
   "metadata": {},
   "source": [
    "nombre_infected       553\n",
    "nombre_sain          2054\n",
    "nombre_exposed        379\n",
    "nombre_recovered    17014\n",
    "Name: 199, dtype: int64"
   ]
  },
  {
   "cell_type": "markdown",
   "id": "1321f364",
   "metadata": {},
   "source": [
    "nombre_infected       571\n",
    "nombre_sain          2078\n",
    "nombre_exposed        353\n",
    "nombre_recovered    16998\n",
    "Name: 200, dtype: int64"
   ]
  },
  {
   "cell_type": "markdown",
   "id": "279d2540",
   "metadata": {},
   "source": [
    "nombre_infected       567\n",
    "nombre_sain          2098\n",
    "nombre_exposed        350\n",
    "nombre_recovered    16985\n",
    "Name: 201, dtype: int64"
   ]
  },
  {
   "cell_type": "markdown",
   "id": "32c71a7f",
   "metadata": {},
   "source": [
    "nombre_infected       548\n",
    "nombre_sain          2116\n",
    "nombre_exposed        344\n",
    "nombre_recovered    16992\n",
    "Name: 202, dtype: int64"
   ]
  },
  {
   "cell_type": "markdown",
   "id": "f3843b4c",
   "metadata": {},
   "source": [
    "nombre_infected       547\n",
    "nombre_sain          2126\n",
    "nombre_exposed        337\n",
    "nombre_recovered    16990\n",
    "Name: 203, dtype: int64"
   ]
  },
  {
   "cell_type": "markdown",
   "id": "91dcdd23",
   "metadata": {},
   "source": [
    "nombre_infected       555\n",
    "nombre_sain          2141\n",
    "nombre_exposed        326\n",
    "nombre_recovered    16978\n",
    "Name: 204, dtype: int64"
   ]
  },
  {
   "cell_type": "markdown",
   "id": "5a2f554c",
   "metadata": {},
   "source": [
    "nombre_infected       530\n",
    "nombre_sain          2178\n",
    "nombre_exposed        324\n",
    "nombre_recovered    16968\n",
    "Name: 205, dtype: int64"
   ]
  },
  {
   "cell_type": "markdown",
   "id": "a2544081",
   "metadata": {},
   "source": [
    "nombre_infected       508\n",
    "nombre_sain          2191\n",
    "nombre_exposed        337\n",
    "nombre_recovered    16964\n",
    "Name: 206, dtype: int64"
   ]
  },
  {
   "cell_type": "markdown",
   "id": "fa3ceca4",
   "metadata": {},
   "source": [
    "nombre_infected       508\n",
    "nombre_sain          2195\n",
    "nombre_exposed        348\n",
    "nombre_recovered    16949\n",
    "Name: 207, dtype: int64"
   ]
  },
  {
   "cell_type": "markdown",
   "id": "f2cf0660",
   "metadata": {},
   "source": [
    "nombre_infected       511\n",
    "nombre_sain          2203\n",
    "nombre_exposed        344\n",
    "nombre_recovered    16942\n",
    "Name: 208, dtype: int64"
   ]
  },
  {
   "cell_type": "markdown",
   "id": "b87d69e6",
   "metadata": {},
   "source": [
    "nombre_infected       527\n",
    "nombre_sain          2219\n",
    "nombre_exposed        350\n",
    "nombre_recovered    16904\n",
    "Name: 209, dtype: int64"
   ]
  },
  {
   "cell_type": "markdown",
   "id": "076a508c",
   "metadata": {},
   "source": [
    "nombre_infected       519\n",
    "nombre_sain          2236\n",
    "nombre_exposed        348\n",
    "nombre_recovered    16897\n",
    "Name: 210, dtype: int64"
   ]
  },
  {
   "cell_type": "markdown",
   "id": "1412b1f0",
   "metadata": {},
   "source": [
    "nombre_infected       491\n",
    "nombre_sain          2258\n",
    "nombre_exposed        359\n",
    "nombre_recovered    16892\n",
    "Name: 211, dtype: int64"
   ]
  },
  {
   "cell_type": "markdown",
   "id": "aaf470cb",
   "metadata": {},
   "source": [
    "nombre_infected       502\n",
    "nombre_sain          2249\n",
    "nombre_exposed        348\n",
    "nombre_recovered    16901\n",
    "Name: 212, dtype: int64"
   ]
  },
  {
   "cell_type": "markdown",
   "id": "48fb8c71",
   "metadata": {},
   "source": [
    "nombre_infected       487\n",
    "nombre_sain          2273\n",
    "nombre_exposed        364\n",
    "nombre_recovered    16876\n",
    "Name: 213, dtype: int64"
   ]
  },
  {
   "cell_type": "markdown",
   "id": "2a8a299c",
   "metadata": {},
   "source": [
    "nombre_infected       487\n",
    "nombre_sain          2274\n",
    "nombre_exposed        379\n",
    "nombre_recovered    16860\n",
    "Name: 214, dtype: int64"
   ]
  },
  {
   "cell_type": "markdown",
   "id": "ad08b4d2",
   "metadata": {},
   "source": [
    "nombre_infected       491\n",
    "nombre_sain          2265\n",
    "nombre_exposed        402\n",
    "nombre_recovered    16842\n",
    "Name: 215, dtype: int64"
   ]
  },
  {
   "cell_type": "markdown",
   "id": "50f2c197",
   "metadata": {},
   "source": [
    "nombre_infected       508\n",
    "nombre_sain          2272\n",
    "nombre_exposed        393\n",
    "nombre_recovered    16827\n",
    "Name: 216, dtype: int64"
   ]
  },
  {
   "cell_type": "markdown",
   "id": "7db503f4",
   "metadata": {},
   "source": [
    "nombre_infected       513\n",
    "nombre_sain          2287\n",
    "nombre_exposed        398\n",
    "nombre_recovered    16802\n",
    "Name: 217, dtype: int64"
   ]
  },
  {
   "cell_type": "markdown",
   "id": "b83686aa",
   "metadata": {},
   "source": [
    "nombre_infected       520\n",
    "nombre_sain          2303\n",
    "nombre_exposed        385\n",
    "nombre_recovered    16792\n",
    "Name: 218, dtype: int64"
   ]
  },
  {
   "cell_type": "markdown",
   "id": "c257c58c",
   "metadata": {},
   "source": [
    "nombre_infected       529\n",
    "nombre_sain          2332\n",
    "nombre_exposed        385\n",
    "nombre_recovered    16754\n",
    "Name: 219, dtype: int64"
   ]
  },
  {
   "cell_type": "markdown",
   "id": "2288e5e7",
   "metadata": {},
   "source": [
    "nombre_infected       517\n",
    "nombre_sain          2358\n",
    "nombre_exposed        376\n",
    "nombre_recovered    16749\n",
    "Name: 220, dtype: int64"
   ]
  },
  {
   "cell_type": "markdown",
   "id": "565adf65",
   "metadata": {},
   "source": [
    "nombre_infected       533\n",
    "nombre_sain          2379\n",
    "nombre_exposed        393\n",
    "nombre_recovered    16695\n",
    "Name: 221, dtype: int64"
   ]
  },
  {
   "cell_type": "markdown",
   "id": "3d4729cf",
   "metadata": {},
   "source": [
    "nombre_infected       547\n",
    "nombre_sain          2407\n",
    "nombre_exposed        399\n",
    "nombre_recovered    16647\n",
    "Name: 222, dtype: int64"
   ]
  },
  {
   "cell_type": "markdown",
   "id": "d6565595",
   "metadata": {},
   "source": [
    "nombre_infected       548\n",
    "nombre_sain          2414\n",
    "nombre_exposed        423\n",
    "nombre_recovered    16615\n",
    "Name: 223, dtype: int64"
   ]
  },
  {
   "cell_type": "markdown",
   "id": "7eac79a1",
   "metadata": {},
   "source": [
    "nombre_infected       543\n",
    "nombre_sain          2438\n",
    "nombre_exposed        412\n",
    "nombre_recovered    16607\n",
    "Name: 224, dtype: int64"
   ]
  },
  {
   "cell_type": "markdown",
   "id": "e1f0d4d6",
   "metadata": {},
   "source": [
    "nombre_infected       547\n",
    "nombre_sain          2471\n",
    "nombre_exposed        409\n",
    "nombre_recovered    16573\n",
    "Name: 225, dtype: int64"
   ]
  },
  {
   "cell_type": "markdown",
   "id": "79af5a99",
   "metadata": {},
   "source": [
    "nombre_infected       554\n",
    "nombre_sain          2499\n",
    "nombre_exposed        422\n",
    "nombre_recovered    16525\n",
    "Name: 226, dtype: int64"
   ]
  },
  {
   "cell_type": "markdown",
   "id": "06bb02da",
   "metadata": {},
   "source": [
    "nombre_infected       559\n",
    "nombre_sain          2516\n",
    "nombre_exposed        433\n",
    "nombre_recovered    16492\n",
    "Name: 227, dtype: int64"
   ]
  },
  {
   "cell_type": "markdown",
   "id": "82e34f60",
   "metadata": {},
   "source": [
    "nombre_infected       571\n",
    "nombre_sain          2522\n",
    "nombre_exposed        455\n",
    "nombre_recovered    16452\n",
    "Name: 228, dtype: int64"
   ]
  },
  {
   "cell_type": "markdown",
   "id": "afe70afb",
   "metadata": {},
   "source": [
    "nombre_infected       590\n",
    "nombre_sain          2572\n",
    "nombre_exposed        432\n",
    "nombre_recovered    16406\n",
    "Name: 229, dtype: int64"
   ]
  },
  {
   "cell_type": "markdown",
   "id": "6e652284",
   "metadata": {},
   "source": [
    "nombre_infected       619\n",
    "nombre_sain          2582\n",
    "nombre_exposed        426\n",
    "nombre_recovered    16373\n",
    "Name: 230, dtype: int64"
   ]
  },
  {
   "cell_type": "markdown",
   "id": "1f7d0d8d",
   "metadata": {},
   "source": [
    "nombre_infected       628\n",
    "nombre_sain          2596\n",
    "nombre_exposed        452\n",
    "nombre_recovered    16324\n",
    "Name: 231, dtype: int64"
   ]
  },
  {
   "cell_type": "markdown",
   "id": "6ba80e7b",
   "metadata": {},
   "source": [
    "nombre_infected       634\n",
    "nombre_sain          2591\n",
    "nombre_exposed        481\n",
    "nombre_recovered    16294\n",
    "Name: 232, dtype: int64"
   ]
  },
  {
   "cell_type": "markdown",
   "id": "4f5cd9ad",
   "metadata": {},
   "source": [
    "nombre_infected       652\n",
    "nombre_sain          2594\n",
    "nombre_exposed        481\n",
    "nombre_recovered    16273\n",
    "Name: 233, dtype: int64"
   ]
  },
  {
   "cell_type": "markdown",
   "id": "08f73a72",
   "metadata": {},
   "source": [
    "nombre_infected       669\n",
    "nombre_sain          2601\n",
    "nombre_exposed        480\n",
    "nombre_recovered    16250\n",
    "Name: 234, dtype: int64"
   ]
  },
  {
   "cell_type": "markdown",
   "id": "d950ca29",
   "metadata": {},
   "source": [
    "nombre_infected       685\n",
    "nombre_sain          2608\n",
    "nombre_exposed        488\n",
    "nombre_recovered    16219\n",
    "Name: 235, dtype: int64"
   ]
  },
  {
   "cell_type": "markdown",
   "id": "552b36db",
   "metadata": {},
   "source": [
    "nombre_infected       688\n",
    "nombre_sain          2632\n",
    "nombre_exposed        512\n",
    "nombre_recovered    16168\n",
    "Name: 236, dtype: int64"
   ]
  },
  {
   "cell_type": "markdown",
   "id": "d74914fb",
   "metadata": {},
   "source": [
    "nombre_infected       684\n",
    "nombre_sain          2655\n",
    "nombre_exposed        506\n",
    "nombre_recovered    16155\n",
    "Name: 237, dtype: int64"
   ]
  },
  {
   "cell_type": "markdown",
   "id": "91e9ca7f",
   "metadata": {},
   "source": [
    "nombre_infected       694\n",
    "nombre_sain          2665\n",
    "nombre_exposed        516\n",
    "nombre_recovered    16125\n",
    "Name: 238, dtype: int64"
   ]
  },
  {
   "cell_type": "markdown",
   "id": "415859f2",
   "metadata": {},
   "source": [
    "nombre_infected       688\n",
    "nombre_sain          2668\n",
    "nombre_exposed        541\n",
    "nombre_recovered    16103\n",
    "Name: 239, dtype: int64"
   ]
  },
  {
   "cell_type": "markdown",
   "id": "9f9c56d3",
   "metadata": {},
   "source": [
    "nombre_infected       701\n",
    "nombre_sain          2668\n",
    "nombre_exposed        563\n",
    "nombre_recovered    16068\n",
    "Name: 240, dtype: int64"
   ]
  },
  {
   "cell_type": "markdown",
   "id": "9e27488c",
   "metadata": {},
   "source": [
    "nombre_infected       718\n",
    "nombre_sain          2668\n",
    "nombre_exposed        566\n",
    "nombre_recovered    16048\n",
    "Name: 241, dtype: int64"
   ]
  },
  {
   "cell_type": "markdown",
   "id": "79672dd2",
   "metadata": {},
   "source": [
    "nombre_infected       731\n",
    "nombre_sain          2678\n",
    "nombre_exposed        576\n",
    "nombre_recovered    16015\n",
    "Name: 242, dtype: int64"
   ]
  },
  {
   "cell_type": "markdown",
   "id": "56e1a943",
   "metadata": {},
   "source": [
    "nombre_infected       734\n",
    "nombre_sain          2683\n",
    "nombre_exposed        579\n",
    "nombre_recovered    16004\n",
    "Name: 243, dtype: int64"
   ]
  },
  {
   "cell_type": "markdown",
   "id": "6213fa15",
   "metadata": {},
   "source": [
    "nombre_infected       761\n",
    "nombre_sain          2652\n",
    "nombre_exposed        604\n",
    "nombre_recovered    15983\n",
    "Name: 244, dtype: int64"
   ]
  },
  {
   "cell_type": "markdown",
   "id": "c07ae1bb",
   "metadata": {},
   "source": [
    "nombre_infected       804\n",
    "nombre_sain          2674\n",
    "nombre_exposed        588\n",
    "nombre_recovered    15934\n",
    "Name: 245, dtype: int64"
   ]
  },
  {
   "cell_type": "markdown",
   "id": "ac6ba41a",
   "metadata": {},
   "source": [
    "nombre_infected       838\n",
    "nombre_sain          2632\n",
    "nombre_exposed        610\n",
    "nombre_recovered    15920\n",
    "Name: 246, dtype: int64"
   ]
  },
  {
   "cell_type": "markdown",
   "id": "1b505170",
   "metadata": {},
   "source": [
    "nombre_infected       857\n",
    "nombre_sain          2606\n",
    "nombre_exposed        623\n",
    "nombre_recovered    15914\n",
    "Name: 247, dtype: int64"
   ]
  },
  {
   "cell_type": "markdown",
   "id": "9722db1a",
   "metadata": {},
   "source": [
    "nombre_infected       876\n",
    "nombre_sain          2573\n",
    "nombre_exposed        638\n",
    "nombre_recovered    15913\n",
    "Name: 248, dtype: int64"
   ]
  },
  {
   "cell_type": "markdown",
   "id": "d838de7c",
   "metadata": {},
   "source": [
    "nombre_infected       869\n",
    "nombre_sain          2534\n",
    "nombre_exposed        663\n",
    "nombre_recovered    15934\n",
    "Name: 249, dtype: int64"
   ]
  },
  {
   "cell_type": "markdown",
   "id": "4ad1f9ce",
   "metadata": {},
   "source": [
    "nombre_infected       912\n",
    "nombre_sain          2488\n",
    "nombre_exposed        652\n",
    "nombre_recovered    15948\n",
    "Name: 250, dtype: int64"
   ]
  },
  {
   "cell_type": "markdown",
   "id": "1e6d99e3",
   "metadata": {},
   "source": [
    "nombre_infected       922\n",
    "nombre_sain          2431\n",
    "nombre_exposed        710\n",
    "nombre_recovered    15937\n",
    "Name: 251, dtype: int64"
   ]
  },
  {
   "cell_type": "markdown",
   "id": "fe08c223",
   "metadata": {},
   "source": [
    "nombre_infected       934\n",
    "nombre_sain          2414\n",
    "nombre_exposed        712\n",
    "nombre_recovered    15940\n",
    "Name: 252, dtype: int64"
   ]
  },
  {
   "cell_type": "markdown",
   "id": "12adb7ac",
   "metadata": {},
   "source": [
    "nombre_infected       944\n",
    "nombre_sain          2379\n",
    "nombre_exposed        721\n",
    "nombre_recovered    15956\n",
    "Name: 253, dtype: int64"
   ]
  },
  {
   "cell_type": "markdown",
   "id": "7fb87353",
   "metadata": {},
   "source": [
    "nombre_infected       972\n",
    "nombre_sain          2358\n",
    "nombre_exposed        719\n",
    "nombre_recovered    15951\n",
    "Name: 254, dtype: int64"
   ]
  },
  {
   "cell_type": "markdown",
   "id": "5df90bbb",
   "metadata": {},
   "source": [
    "nombre_infected      1003\n",
    "nombre_sain          2336\n",
    "nombre_exposed        700\n",
    "nombre_recovered    15961\n",
    "Name: 255, dtype: int64"
   ]
  },
  {
   "cell_type": "markdown",
   "id": "15d08d4a",
   "metadata": {},
   "source": [
    "nombre_infected      1053\n",
    "nombre_sain          2310\n",
    "nombre_exposed        678\n",
    "nombre_recovered    15959\n",
    "Name: 256, dtype: int64"
   ]
  },
  {
   "cell_type": "markdown",
   "id": "b1f3f196",
   "metadata": {},
   "source": [
    "nombre_infected      1039\n",
    "nombre_sain          2283\n",
    "nombre_exposed        684\n",
    "nombre_recovered    15994\n",
    "Name: 257, dtype: int64"
   ]
  },
  {
   "cell_type": "markdown",
   "id": "f9e4c8d4",
   "metadata": {},
   "source": [
    "nombre_infected      1047\n",
    "nombre_sain          2253\n",
    "nombre_exposed        677\n",
    "nombre_recovered    16023\n",
    "Name: 258, dtype: int64"
   ]
  },
  {
   "cell_type": "markdown",
   "id": "432261d7",
   "metadata": {},
   "source": [
    "nombre_infected      1043\n",
    "nombre_sain          2205\n",
    "nombre_exposed        709\n",
    "nombre_recovered    16043\n",
    "Name: 259, dtype: int64"
   ]
  },
  {
   "cell_type": "markdown",
   "id": "37bf4778",
   "metadata": {},
   "source": [
    "nombre_infected      1065\n",
    "nombre_sain          2196\n",
    "nombre_exposed        698\n",
    "nombre_recovered    16041\n",
    "Name: 260, dtype: int64"
   ]
  },
  {
   "cell_type": "markdown",
   "id": "b047a01e",
   "metadata": {},
   "source": [
    "nombre_infected      1060\n",
    "nombre_sain          2154\n",
    "nombre_exposed        710\n",
    "nombre_recovered    16076\n",
    "Name: 261, dtype: int64"
   ]
  },
  {
   "cell_type": "markdown",
   "id": "0a1a6daf",
   "metadata": {},
   "source": [
    "nombre_infected      1042\n",
    "nombre_sain          2121\n",
    "nombre_exposed        743\n",
    "nombre_recovered    16094\n",
    "Name: 262, dtype: int64"
   ]
  },
  {
   "cell_type": "markdown",
   "id": "ea775d9f",
   "metadata": {},
   "source": [
    "nombre_infected      1045\n",
    "nombre_sain          2103\n",
    "nombre_exposed        745\n",
    "nombre_recovered    16107\n",
    "Name: 263, dtype: int64"
   ]
  },
  {
   "cell_type": "markdown",
   "id": "65dab7ff",
   "metadata": {},
   "source": [
    "nombre_infected      1060\n",
    "nombre_sain          2084\n",
    "nombre_exposed        737\n",
    "nombre_recovered    16119\n",
    "Name: 264, dtype: int64"
   ]
  },
  {
   "cell_type": "markdown",
   "id": "5350e7d1",
   "metadata": {},
   "source": [
    "nombre_infected      1080\n",
    "nombre_sain          2043\n",
    "nombre_exposed        728\n",
    "nombre_recovered    16149\n",
    "Name: 265, dtype: int64"
   ]
  },
  {
   "cell_type": "markdown",
   "id": "306d2e1d",
   "metadata": {},
   "source": [
    "nombre_infected      1095\n",
    "nombre_sain          2045\n",
    "nombre_exposed        714\n",
    "nombre_recovered    16146\n",
    "Name: 266, dtype: int64"
   ]
  },
  {
   "cell_type": "markdown",
   "id": "63783d5f",
   "metadata": {},
   "source": [
    "nombre_infected      1103\n",
    "nombre_sain          2044\n",
    "nombre_exposed        699\n",
    "nombre_recovered    16154\n",
    "Name: 267, dtype: int64"
   ]
  },
  {
   "cell_type": "markdown",
   "id": "9e36a156",
   "metadata": {},
   "source": [
    "nombre_infected      1098\n",
    "nombre_sain          2025\n",
    "nombre_exposed        710\n",
    "nombre_recovered    16167\n",
    "Name: 268, dtype: int64"
   ]
  },
  {
   "cell_type": "markdown",
   "id": "b0d25148",
   "metadata": {},
   "source": [
    "nombre_infected      1090\n",
    "nombre_sain          2011\n",
    "nombre_exposed        710\n",
    "nombre_recovered    16189\n",
    "Name: 269, dtype: int64"
   ]
  },
  {
   "cell_type": "markdown",
   "id": "79f9a693",
   "metadata": {},
   "source": [
    "nombre_infected      1099\n",
    "nombre_sain          1992\n",
    "nombre_exposed        706\n",
    "nombre_recovered    16203\n",
    "Name: 270, dtype: int64"
   ]
  },
  {
   "cell_type": "markdown",
   "id": "9066d17e",
   "metadata": {},
   "source": [
    "nombre_infected      1104\n",
    "nombre_sain          1964\n",
    "nombre_exposed        692\n",
    "nombre_recovered    16240\n",
    "Name: 271, dtype: int64"
   ]
  },
  {
   "cell_type": "markdown",
   "id": "4f0b3b0a",
   "metadata": {},
   "source": [
    "nombre_infected      1113\n",
    "nombre_sain          1934\n",
    "nombre_exposed        679\n",
    "nombre_recovered    16274\n",
    "Name: 272, dtype: int64"
   ]
  },
  {
   "cell_type": "markdown",
   "id": "7c82ba3a",
   "metadata": {},
   "source": [
    "nombre_infected      1112\n",
    "nombre_sain          1891\n",
    "nombre_exposed        686\n",
    "nombre_recovered    16311\n",
    "Name: 273, dtype: int64"
   ]
  },
  {
   "cell_type": "markdown",
   "id": "0bc61842",
   "metadata": {},
   "source": [
    "nombre_infected      1087\n",
    "nombre_sain          1828\n",
    "nombre_exposed        709\n",
    "nombre_recovered    16376\n",
    "Name: 274, dtype: int64"
   ]
  },
  {
   "cell_type": "markdown",
   "id": "9ca7e266",
   "metadata": {},
   "source": [
    "nombre_infected      1101\n",
    "nombre_sain          1781\n",
    "nombre_exposed        707\n",
    "nombre_recovered    16411\n",
    "Name: 275, dtype: int64"
   ]
  },
  {
   "cell_type": "markdown",
   "id": "5a985cc6",
   "metadata": {},
   "source": [
    "nombre_infected      1101\n",
    "nombre_sain          1762\n",
    "nombre_exposed        684\n",
    "nombre_recovered    16453\n",
    "Name: 276, dtype: int64"
   ]
  },
  {
   "cell_type": "markdown",
   "id": "013a9bd6",
   "metadata": {},
   "source": [
    "nombre_infected      1092\n",
    "nombre_sain          1744\n",
    "nombre_exposed        661\n",
    "nombre_recovered    16503\n",
    "Name: 277, dtype: int64"
   ]
  },
  {
   "cell_type": "markdown",
   "id": "2f16817a",
   "metadata": {},
   "source": [
    "nombre_infected      1093\n",
    "nombre_sain          1708\n",
    "nombre_exposed        651\n",
    "nombre_recovered    16548\n",
    "Name: 278, dtype: int64"
   ]
  },
  {
   "cell_type": "markdown",
   "id": "026f35a9",
   "metadata": {},
   "source": [
    "nombre_infected      1093\n",
    "nombre_sain          1689\n",
    "nombre_exposed        659\n",
    "nombre_recovered    16559\n",
    "Name: 279, dtype: int64"
   ]
  },
  {
   "cell_type": "markdown",
   "id": "709d474a",
   "metadata": {},
   "source": [
    "nombre_infected      1085\n",
    "nombre_sain          1690\n",
    "nombre_exposed        632\n",
    "nombre_recovered    16593\n",
    "Name: 280, dtype: int64"
   ]
  },
  {
   "cell_type": "markdown",
   "id": "f604eba2",
   "metadata": {},
   "source": [
    "nombre_infected      1069\n",
    "nombre_sain          1686\n",
    "nombre_exposed        626\n",
    "nombre_recovered    16619\n",
    "Name: 281, dtype: int64"
   ]
  },
  {
   "cell_type": "markdown",
   "id": "9bb59cc5",
   "metadata": {},
   "source": [
    "nombre_infected      1069\n",
    "nombre_sain          1691\n",
    "nombre_exposed        582\n",
    "nombre_recovered    16658\n",
    "Name: 282, dtype: int64"
   ]
  },
  {
   "cell_type": "markdown",
   "id": "3b44279f",
   "metadata": {},
   "source": [
    "nombre_infected      1074\n",
    "nombre_sain          1683\n",
    "nombre_exposed        581\n",
    "nombre_recovered    16662\n",
    "Name: 283, dtype: int64"
   ]
  },
  {
   "cell_type": "markdown",
   "id": "c4058183",
   "metadata": {},
   "source": [
    "nombre_infected      1039\n",
    "nombre_sain          1695\n",
    "nombre_exposed        583\n",
    "nombre_recovered    16683\n",
    "Name: 284, dtype: int64"
   ]
  },
  {
   "cell_type": "markdown",
   "id": "39f5d5f2",
   "metadata": {},
   "source": [
    "nombre_infected       998\n",
    "nombre_sain          1691\n",
    "nombre_exposed        594\n",
    "nombre_recovered    16717\n",
    "Name: 285, dtype: int64"
   ]
  },
  {
   "cell_type": "markdown",
   "id": "0a1ddc35",
   "metadata": {},
   "source": [
    "nombre_infected      1012\n",
    "nombre_sain          1704\n",
    "nombre_exposed        556\n",
    "nombre_recovered    16728\n",
    "Name: 286, dtype: int64"
   ]
  },
  {
   "cell_type": "markdown",
   "id": "50681441",
   "metadata": {},
   "source": [
    "nombre_infected       990\n",
    "nombre_sain          1719\n",
    "nombre_exposed        561\n",
    "nombre_recovered    16730\n",
    "Name: 287, dtype: int64"
   ]
  },
  {
   "cell_type": "markdown",
   "id": "0b27213a",
   "metadata": {},
   "source": [
    "nombre_infected       948\n",
    "nombre_sain          1736\n",
    "nombre_exposed        554\n",
    "nombre_recovered    16762\n",
    "Name: 288, dtype: int64"
   ]
  },
  {
   "cell_type": "markdown",
   "id": "c76d3217",
   "metadata": {},
   "source": [
    "nombre_infected       925\n",
    "nombre_sain          1752\n",
    "nombre_exposed        558\n",
    "nombre_recovered    16765\n",
    "Name: 289, dtype: int64"
   ]
  },
  {
   "cell_type": "markdown",
   "id": "d2c0f60a",
   "metadata": {},
   "source": [
    "nombre_infected       915\n",
    "nombre_sain          1776\n",
    "nombre_exposed        544\n",
    "nombre_recovered    16765\n",
    "Name: 290, dtype: int64"
   ]
  },
  {
   "cell_type": "markdown",
   "id": "c077f534",
   "metadata": {},
   "source": [
    "nombre_infected       905\n",
    "nombre_sain          1766\n",
    "nombre_exposed        545\n",
    "nombre_recovered    16784\n",
    "Name: 291, dtype: int64"
   ]
  },
  {
   "cell_type": "markdown",
   "id": "be69a4af",
   "metadata": {},
   "source": [
    "nombre_infected       893\n",
    "nombre_sain          1791\n",
    "nombre_exposed        530\n",
    "nombre_recovered    16786\n",
    "Name: 292, dtype: int64"
   ]
  },
  {
   "cell_type": "markdown",
   "id": "d1211824",
   "metadata": {},
   "source": [
    "nombre_infected       873\n",
    "nombre_sain          1800\n",
    "nombre_exposed        530\n",
    "nombre_recovered    16797\n",
    "Name: 293, dtype: int64"
   ]
  },
  {
   "cell_type": "markdown",
   "id": "f38476d1",
   "metadata": {},
   "source": [
    "nombre_infected       860\n",
    "nombre_sain          1806\n",
    "nombre_exposed        539\n",
    "nombre_recovered    16795\n",
    "Name: 294, dtype: int64"
   ]
  },
  {
   "cell_type": "markdown",
   "id": "0c2a93ad",
   "metadata": {},
   "source": [
    "nombre_infected       868\n",
    "nombre_sain          1799\n",
    "nombre_exposed        521\n",
    "nombre_recovered    16812\n",
    "Name: 295, dtype: int64"
   ]
  },
  {
   "cell_type": "markdown",
   "id": "28560911",
   "metadata": {},
   "source": [
    "nombre_infected       850\n",
    "nombre_sain          1823\n",
    "nombre_exposed        498\n",
    "nombre_recovered    16829\n",
    "Name: 296, dtype: int64"
   ]
  },
  {
   "cell_type": "markdown",
   "id": "257dd325",
   "metadata": {},
   "source": [
    "nombre_infected       841\n",
    "nombre_sain          1852\n",
    "nombre_exposed        478\n",
    "nombre_recovered    16829\n",
    "Name: 297, dtype: int64"
   ]
  },
  {
   "cell_type": "markdown",
   "id": "794f0d52",
   "metadata": {},
   "source": [
    "nombre_infected       836\n",
    "nombre_sain          1866\n",
    "nombre_exposed        485\n",
    "nombre_recovered    16813\n",
    "Name: 298, dtype: int64"
   ]
  },
  {
   "cell_type": "markdown",
   "id": "deafd305",
   "metadata": {},
   "source": [
    "nombre_infected       812\n",
    "nombre_sain          1913\n",
    "nombre_exposed        468\n",
    "nombre_recovered    16807\n",
    "Name: 299, dtype: int64"
   ]
  },
  {
   "cell_type": "markdown",
   "id": "d5b609ce",
   "metadata": {},
   "source": [
    "nombre_infected       784\n",
    "nombre_sain          1939\n",
    "nombre_exposed        483\n",
    "nombre_recovered    16794\n",
    "Name: 300, dtype: int64"
   ]
  },
  {
   "cell_type": "markdown",
   "id": "3eb49c1b",
   "metadata": {},
   "source": [
    "nombre_infected       787\n",
    "nombre_sain          1962\n",
    "nombre_exposed        491\n",
    "nombre_recovered    16760\n",
    "Name: 301, dtype: int64"
   ]
  },
  {
   "cell_type": "markdown",
   "id": "f1b93e7b",
   "metadata": {},
   "source": [
    "nombre_infected       776\n",
    "nombre_sain          1997\n",
    "nombre_exposed        486\n",
    "nombre_recovered    16741\n",
    "Name: 302, dtype: int64"
   ]
  },
  {
   "cell_type": "markdown",
   "id": "fb4431d9",
   "metadata": {},
   "source": [
    "nombre_infected       761\n",
    "nombre_sain          2012\n",
    "nombre_exposed        490\n",
    "nombre_recovered    16737\n",
    "Name: 303, dtype: int64"
   ]
  },
  {
   "cell_type": "markdown",
   "id": "9af22df5",
   "metadata": {},
   "source": [
    "nombre_infected       748\n",
    "nombre_sain          2049\n",
    "nombre_exposed        487\n",
    "nombre_recovered    16716\n",
    "Name: 304, dtype: int64"
   ]
  },
  {
   "cell_type": "markdown",
   "id": "eed42134",
   "metadata": {},
   "source": [
    "nombre_infected       746\n",
    "nombre_sain          2065\n",
    "nombre_exposed        484\n",
    "nombre_recovered    16705\n",
    "Name: 305, dtype: int64"
   ]
  },
  {
   "cell_type": "markdown",
   "id": "568cb05f",
   "metadata": {},
   "source": [
    "nombre_infected       743\n",
    "nombre_sain          2088\n",
    "nombre_exposed        489\n",
    "nombre_recovered    16680\n",
    "Name: 306, dtype: int64"
   ]
  },
  {
   "cell_type": "markdown",
   "id": "03787199",
   "metadata": {},
   "source": [
    "nombre_infected       744\n",
    "nombre_sain          2101\n",
    "nombre_exposed        476\n",
    "nombre_recovered    16679\n",
    "Name: 307, dtype: int64"
   ]
  },
  {
   "cell_type": "markdown",
   "id": "c5b67d99",
   "metadata": {},
   "source": [
    "nombre_infected       748\n",
    "nombre_sain          2105\n",
    "nombre_exposed        486\n",
    "nombre_recovered    16661\n",
    "Name: 308, dtype: int64"
   ]
  },
  {
   "cell_type": "markdown",
   "id": "885c1b9c",
   "metadata": {},
   "source": [
    "nombre_infected       758\n",
    "nombre_sain          2128\n",
    "nombre_exposed        465\n",
    "nombre_recovered    16649\n",
    "Name: 309, dtype: int64"
   ]
  },
  {
   "cell_type": "markdown",
   "id": "69d97d5f",
   "metadata": {},
   "source": [
    "nombre_infected       744\n",
    "nombre_sain          2125\n",
    "nombre_exposed        467\n",
    "nombre_recovered    16664\n",
    "Name: 310, dtype: int64"
   ]
  },
  {
   "cell_type": "markdown",
   "id": "b57c5f07",
   "metadata": {},
   "source": [
    "nombre_infected       711\n",
    "nombre_sain          2148\n",
    "nombre_exposed        480\n",
    "nombre_recovered    16661\n",
    "Name: 311, dtype: int64"
   ]
  },
  {
   "cell_type": "markdown",
   "id": "46ea0c71",
   "metadata": {},
   "source": [
    "nombre_infected       701\n",
    "nombre_sain          2161\n",
    "nombre_exposed        476\n",
    "nombre_recovered    16662\n",
    "Name: 312, dtype: int64"
   ]
  },
  {
   "cell_type": "markdown",
   "id": "aeabfac3",
   "metadata": {},
   "source": [
    "nombre_infected       691\n",
    "nombre_sain          2166\n",
    "nombre_exposed        488\n",
    "nombre_recovered    16655\n",
    "Name: 313, dtype: int64"
   ]
  },
  {
   "cell_type": "markdown",
   "id": "b249b771",
   "metadata": {},
   "source": [
    "nombre_infected       693\n",
    "nombre_sain          2178\n",
    "nombre_exposed        506\n",
    "nombre_recovered    16623\n",
    "Name: 314, dtype: int64"
   ]
  },
  {
   "cell_type": "markdown",
   "id": "b1cf11ee",
   "metadata": {},
   "source": [
    "nombre_infected       677\n",
    "nombre_sain          2205\n",
    "nombre_exposed        519\n",
    "nombre_recovered    16599\n",
    "Name: 315, dtype: int64"
   ]
  },
  {
   "cell_type": "markdown",
   "id": "fd7fd299",
   "metadata": {},
   "source": [
    "nombre_infected       687\n",
    "nombre_sain          2214\n",
    "nombre_exposed        513\n",
    "nombre_recovered    16586\n",
    "Name: 316, dtype: int64"
   ]
  },
  {
   "cell_type": "markdown",
   "id": "b9f7f537",
   "metadata": {},
   "source": [
    "nombre_infected       714\n",
    "nombre_sain          2223\n",
    "nombre_exposed        514\n",
    "nombre_recovered    16549\n",
    "Name: 317, dtype: int64"
   ]
  },
  {
   "cell_type": "markdown",
   "id": "88490eb3",
   "metadata": {},
   "source": [
    "nombre_infected       724\n",
    "nombre_sain          2218\n",
    "nombre_exposed        516\n",
    "nombre_recovered    16542\n",
    "Name: 318, dtype: int64"
   ]
  },
  {
   "cell_type": "markdown",
   "id": "45c92972",
   "metadata": {},
   "source": [
    "nombre_infected       718\n",
    "nombre_sain          2234\n",
    "nombre_exposed        519\n",
    "nombre_recovered    16529\n",
    "Name: 319, dtype: int64"
   ]
  },
  {
   "cell_type": "markdown",
   "id": "6f7d414a",
   "metadata": {},
   "source": [
    "nombre_infected       719\n",
    "nombre_sain          2233\n",
    "nombre_exposed        522\n",
    "nombre_recovered    16526\n",
    "Name: 320, dtype: int64"
   ]
  },
  {
   "cell_type": "markdown",
   "id": "85acd253",
   "metadata": {},
   "source": [
    "nombre_infected       732\n",
    "nombre_sain          2234\n",
    "nombre_exposed        504\n",
    "nombre_recovered    16530\n",
    "Name: 321, dtype: int64"
   ]
  },
  {
   "cell_type": "markdown",
   "id": "40b20136",
   "metadata": {},
   "source": [
    "nombre_infected       737\n",
    "nombre_sain          2244\n",
    "nombre_exposed        520\n",
    "nombre_recovered    16499\n",
    "Name: 322, dtype: int64"
   ]
  },
  {
   "cell_type": "markdown",
   "id": "ab0c563a",
   "metadata": {},
   "source": [
    "nombre_infected       733\n",
    "nombre_sain          2253\n",
    "nombre_exposed        520\n",
    "nombre_recovered    16494\n",
    "Name: 323, dtype: int64"
   ]
  },
  {
   "cell_type": "markdown",
   "id": "44175c12",
   "metadata": {},
   "source": [
    "nombre_infected       723\n",
    "nombre_sain          2273\n",
    "nombre_exposed        529\n",
    "nombre_recovered    16475\n",
    "Name: 324, dtype: int64"
   ]
  },
  {
   "cell_type": "markdown",
   "id": "63ab8529",
   "metadata": {},
   "source": [
    "nombre_infected       728\n",
    "nombre_sain          2280\n",
    "nombre_exposed        527\n",
    "nombre_recovered    16465\n",
    "Name: 325, dtype: int64"
   ]
  },
  {
   "cell_type": "markdown",
   "id": "a61f0450",
   "metadata": {},
   "source": [
    "nombre_infected       746\n",
    "nombre_sain          2276\n",
    "nombre_exposed        527\n",
    "nombre_recovered    16451\n",
    "Name: 326, dtype: int64"
   ]
  },
  {
   "cell_type": "markdown",
   "id": "254edf0f",
   "metadata": {},
   "source": [
    "nombre_infected       763\n",
    "nombre_sain          2306\n",
    "nombre_exposed        527\n",
    "nombre_recovered    16404\n",
    "Name: 327, dtype: int64"
   ]
  },
  {
   "cell_type": "markdown",
   "id": "96005e33",
   "metadata": {},
   "source": [
    "nombre_infected       765\n",
    "nombre_sain          2309\n",
    "nombre_exposed        528\n",
    "nombre_recovered    16398\n",
    "Name: 328, dtype: int64"
   ]
  },
  {
   "cell_type": "markdown",
   "id": "8737aa91",
   "metadata": {},
   "source": [
    "nombre_infected       786\n",
    "nombre_sain          2326\n",
    "nombre_exposed        530\n",
    "nombre_recovered    16358\n",
    "Name: 329, dtype: int64"
   ]
  },
  {
   "cell_type": "markdown",
   "id": "92302f82",
   "metadata": {},
   "source": [
    "nombre_infected       784\n",
    "nombre_sain          2359\n",
    "nombre_exposed        533\n",
    "nombre_recovered    16324\n",
    "Name: 330, dtype: int64"
   ]
  },
  {
   "cell_type": "markdown",
   "id": "420b08e2",
   "metadata": {},
   "source": [
    "nombre_infected       774\n",
    "nombre_sain          2386\n",
    "nombre_exposed        539\n",
    "nombre_recovered    16301\n",
    "Name: 331, dtype: int64"
   ]
  },
  {
   "cell_type": "markdown",
   "id": "e4830e8c",
   "metadata": {},
   "source": [
    "nombre_infected       772\n",
    "nombre_sain          2389\n",
    "nombre_exposed        538\n",
    "nombre_recovered    16301\n",
    "Name: 332, dtype: int64"
   ]
  },
  {
   "cell_type": "markdown",
   "id": "ef9fd9a1",
   "metadata": {},
   "source": [
    "nombre_infected       779\n",
    "nombre_sain          2425\n",
    "nombre_exposed        537\n",
    "nombre_recovered    16259\n",
    "Name: 333, dtype: int64"
   ]
  },
  {
   "cell_type": "markdown",
   "id": "11557e63",
   "metadata": {},
   "source": [
    "nombre_infected       782\n",
    "nombre_sain          2466\n",
    "nombre_exposed        540\n",
    "nombre_recovered    16212\n",
    "Name: 334, dtype: int64"
   ]
  },
  {
   "cell_type": "markdown",
   "id": "086cb88c",
   "metadata": {},
   "source": [
    "nombre_infected       766\n",
    "nombre_sain          2498\n",
    "nombre_exposed        562\n",
    "nombre_recovered    16174\n",
    "Name: 335, dtype: int64"
   ]
  },
  {
   "cell_type": "markdown",
   "id": "3dce4c2f",
   "metadata": {},
   "source": [
    "nombre_infected       788\n",
    "nombre_sain          2509\n",
    "nombre_exposed        562\n",
    "nombre_recovered    16141\n",
    "Name: 336, dtype: int64"
   ]
  },
  {
   "cell_type": "markdown",
   "id": "1b5b29d2",
   "metadata": {},
   "source": [
    "nombre_infected       784\n",
    "nombre_sain          2529\n",
    "nombre_exposed        594\n",
    "nombre_recovered    16093\n",
    "Name: 337, dtype: int64"
   ]
  },
  {
   "cell_type": "markdown",
   "id": "9f0c5792",
   "metadata": {},
   "source": [
    "nombre_infected       793\n",
    "nombre_sain          2532\n",
    "nombre_exposed        598\n",
    "nombre_recovered    16077\n",
    "Name: 338, dtype: int64"
   ]
  },
  {
   "cell_type": "markdown",
   "id": "c885a5d0",
   "metadata": {},
   "source": [
    "nombre_infected       805\n",
    "nombre_sain          2545\n",
    "nombre_exposed        602\n",
    "nombre_recovered    16048\n",
    "Name: 339, dtype: int64"
   ]
  },
  {
   "cell_type": "markdown",
   "id": "bc1ee68d",
   "metadata": {},
   "source": [
    "nombre_infected       804\n",
    "nombre_sain          2534\n",
    "nombre_exposed        623\n",
    "nombre_recovered    16039\n",
    "Name: 340, dtype: int64"
   ]
  },
  {
   "cell_type": "markdown",
   "id": "bde1f664",
   "metadata": {},
   "source": [
    "nombre_infected       808\n",
    "nombre_sain          2571\n",
    "nombre_exposed        633\n",
    "nombre_recovered    15988\n",
    "Name: 341, dtype: int64"
   ]
  },
  {
   "cell_type": "markdown",
   "id": "d2cb59ce",
   "metadata": {},
   "source": [
    "nombre_infected       828\n",
    "nombre_sain          2530\n",
    "nombre_exposed        653\n",
    "nombre_recovered    15989\n",
    "Name: 342, dtype: int64"
   ]
  },
  {
   "cell_type": "markdown",
   "id": "46512a34",
   "metadata": {},
   "source": [
    "nombre_infected       849\n",
    "nombre_sain          2514\n",
    "nombre_exposed        669\n",
    "nombre_recovered    15968\n",
    "Name: 343, dtype: int64"
   ]
  },
  {
   "cell_type": "markdown",
   "id": "e4bc5cab",
   "metadata": {},
   "source": [
    "nombre_infected       871\n",
    "nombre_sain          2524\n",
    "nombre_exposed        640\n",
    "nombre_recovered    15965\n",
    "Name: 344, dtype: int64"
   ]
  },
  {
   "cell_type": "markdown",
   "id": "ec41ec56",
   "metadata": {},
   "source": [
    "nombre_infected       888\n",
    "nombre_sain          2514\n",
    "nombre_exposed        643\n",
    "nombre_recovered    15955\n",
    "Name: 345, dtype: int64"
   ]
  },
  {
   "cell_type": "markdown",
   "id": "8ab0ae11",
   "metadata": {},
   "source": [
    "nombre_infected       877\n",
    "nombre_sain          2482\n",
    "nombre_exposed        680\n",
    "nombre_recovered    15961\n",
    "Name: 346, dtype: int64"
   ]
  },
  {
   "cell_type": "markdown",
   "id": "61eca671",
   "metadata": {},
   "source": [
    "nombre_infected       879\n",
    "nombre_sain          2491\n",
    "nombre_exposed        694\n",
    "nombre_recovered    15936\n",
    "Name: 347, dtype: int64"
   ]
  },
  {
   "cell_type": "markdown",
   "id": "19559d83",
   "metadata": {},
   "source": [
    "nombre_infected       896\n",
    "nombre_sain          2466\n",
    "nombre_exposed        718\n",
    "nombre_recovered    15920\n",
    "Name: 348, dtype: int64"
   ]
  },
  {
   "cell_type": "markdown",
   "id": "1a3a3e8d",
   "metadata": {},
   "source": [
    "nombre_infected       929\n",
    "nombre_sain          2439\n",
    "nombre_exposed        715\n",
    "nombre_recovered    15917\n",
    "Name: 349, dtype: int64"
   ]
  },
  {
   "cell_type": "markdown",
   "id": "75ffdf6b",
   "metadata": {},
   "source": [
    "nombre_infected       944\n",
    "nombre_sain          2438\n",
    "nombre_exposed        715\n",
    "nombre_recovered    15903\n",
    "Name: 350, dtype: int64"
   ]
  },
  {
   "cell_type": "markdown",
   "id": "456b8f6d",
   "metadata": {},
   "source": [
    "nombre_infected       959\n",
    "nombre_sain          2437\n",
    "nombre_exposed        696\n",
    "nombre_recovered    15908\n",
    "Name: 351, dtype: int64"
   ]
  },
  {
   "cell_type": "markdown",
   "id": "e58874f6",
   "metadata": {},
   "source": [
    "nombre_infected       963\n",
    "nombre_sain          2408\n",
    "nombre_exposed        705\n",
    "nombre_recovered    15924\n",
    "Name: 352, dtype: int64"
   ]
  },
  {
   "cell_type": "markdown",
   "id": "ef366fa9",
   "metadata": {},
   "source": [
    "nombre_infected       992\n",
    "nombre_sain          2379\n",
    "nombre_exposed        710\n",
    "nombre_recovered    15919\n",
    "Name: 353, dtype: int64"
   ]
  },
  {
   "cell_type": "markdown",
   "id": "1b81c4b3",
   "metadata": {},
   "source": [
    "nombre_infected       978\n",
    "nombre_sain          2376\n",
    "nombre_exposed        721\n",
    "nombre_recovered    15925\n",
    "Name: 354, dtype: int64"
   ]
  },
  {
   "cell_type": "markdown",
   "id": "49639dab",
   "metadata": {},
   "source": [
    "nombre_infected       999\n",
    "nombre_sain          2344\n",
    "nombre_exposed        710\n",
    "nombre_recovered    15947\n",
    "Name: 355, dtype: int64"
   ]
  },
  {
   "cell_type": "markdown",
   "id": "802a0f8c",
   "metadata": {},
   "source": [
    "nombre_infected      1001\n",
    "nombre_sain          2311\n",
    "nombre_exposed        699\n",
    "nombre_recovered    15989\n",
    "Name: 356, dtype: int64"
   ]
  },
  {
   "cell_type": "markdown",
   "id": "9e1731b7",
   "metadata": {},
   "source": [
    "nombre_infected      1011\n",
    "nombre_sain          2290\n",
    "nombre_exposed        687\n",
    "nombre_recovered    16012\n",
    "Name: 357, dtype: int64"
   ]
  },
  {
   "cell_type": "markdown",
   "id": "7513b7c2",
   "metadata": {},
   "source": [
    "nombre_infected       992\n",
    "nombre_sain          2239\n",
    "nombre_exposed        711\n",
    "nombre_recovered    16058\n",
    "Name: 358, dtype: int64"
   ]
  },
  {
   "cell_type": "markdown",
   "id": "940b22ec",
   "metadata": {},
   "source": [
    "nombre_infected      1016\n",
    "nombre_sain          2205\n",
    "nombre_exposed        691\n",
    "nombre_recovered    16088\n",
    "Name: 359, dtype: int64"
   ]
  },
  {
   "cell_type": "markdown",
   "id": "c69736ae",
   "metadata": {},
   "source": [
    "nombre_infected      1015\n",
    "nombre_sain          2185\n",
    "nombre_exposed        677\n",
    "nombre_recovered    16123\n",
    "Name: 360, dtype: int64"
   ]
  },
  {
   "cell_type": "markdown",
   "id": "54ba0fdb",
   "metadata": {},
   "source": [
    "nombre_infected      1001\n",
    "nombre_sain          2128\n",
    "nombre_exposed        687\n",
    "nombre_recovered    16184\n",
    "Name: 361, dtype: int64"
   ]
  },
  {
   "cell_type": "markdown",
   "id": "9c048a50",
   "metadata": {},
   "source": [
    "nombre_infected      1001\n",
    "nombre_sain          2069\n",
    "nombre_exposed        709\n",
    "nombre_recovered    16221\n",
    "Name: 362, dtype: int64"
   ]
  },
  {
   "cell_type": "markdown",
   "id": "c2e072ea",
   "metadata": {},
   "source": [
    "nombre_infected      1002\n",
    "nombre_sain          2056\n",
    "nombre_exposed        694\n",
    "nombre_recovered    16248\n",
    "Name: 363, dtype: int64"
   ]
  },
  {
   "cell_type": "markdown",
   "id": "24b530eb",
   "metadata": {},
   "source": [
    "nombre_infected      1017\n",
    "nombre_sain          2063\n",
    "nombre_exposed        686\n",
    "nombre_recovered    16234\n",
    "Name: 364, dtype: int64"
   ]
  },
  {
   "cell_type": "markdown",
   "id": "132e1392",
   "metadata": {},
   "source": [
    "nombre_infected       999\n",
    "nombre_sain          2031\n",
    "nombre_exposed        687\n",
    "nombre_recovered    16283\n",
    "Name: 365, dtype: int64"
   ]
  },
  {
   "cell_type": "markdown",
   "id": "0e4e3775",
   "metadata": {},
   "source": [
    "nombre_infected       989\n",
    "nombre_sain          2028\n",
    "nombre_exposed        692\n",
    "nombre_recovered    16291\n",
    "Name: 366, dtype: int64"
   ]
  },
  {
   "cell_type": "markdown",
   "id": "502d35ed",
   "metadata": {},
   "source": [
    "nombre_infected       991\n",
    "nombre_sain          2027\n",
    "nombre_exposed        660\n",
    "nombre_recovered    16322\n",
    "Name: 367, dtype: int64"
   ]
  },
  {
   "cell_type": "markdown",
   "id": "68da32e2",
   "metadata": {},
   "source": [
    "nombre_infected       988\n",
    "nombre_sain          2037\n",
    "nombre_exposed        632\n",
    "nombre_recovered    16343\n",
    "Name: 368, dtype: int64"
   ]
  },
  {
   "cell_type": "markdown",
   "id": "e99e0ba8",
   "metadata": {},
   "source": [
    "nombre_infected       984\n",
    "nombre_sain          2003\n",
    "nombre_exposed        632\n",
    "nombre_recovered    16381\n",
    "Name: 369, dtype: int64"
   ]
  },
  {
   "cell_type": "markdown",
   "id": "1ffaeff1",
   "metadata": {},
   "source": [
    "nombre_infected       978\n",
    "nombre_sain          1999\n",
    "nombre_exposed        634\n",
    "nombre_recovered    16389\n",
    "Name: 370, dtype: int64"
   ]
  },
  {
   "cell_type": "markdown",
   "id": "c5c65cf4",
   "metadata": {},
   "source": [
    "nombre_infected       967\n",
    "nombre_sain          2011\n",
    "nombre_exposed        603\n",
    "nombre_recovered    16419\n",
    "Name: 371, dtype: int64"
   ]
  },
  {
   "cell_type": "markdown",
   "id": "d5526699",
   "metadata": {},
   "source": [
    "nombre_infected       939\n",
    "nombre_sain          1981\n",
    "nombre_exposed        609\n",
    "nombre_recovered    16471\n",
    "Name: 372, dtype: int64"
   ]
  },
  {
   "cell_type": "markdown",
   "id": "cfb82b4c",
   "metadata": {},
   "source": [
    "nombre_infected       952\n",
    "nombre_sain          1982\n",
    "nombre_exposed        579\n",
    "nombre_recovered    16487\n",
    "Name: 373, dtype: int64"
   ]
  },
  {
   "cell_type": "markdown",
   "id": "c81cd21f",
   "metadata": {},
   "source": [
    "nombre_infected       910\n",
    "nombre_sain          1969\n",
    "nombre_exposed        587\n",
    "nombre_recovered    16534\n",
    "Name: 374, dtype: int64"
   ]
  },
  {
   "cell_type": "markdown",
   "id": "84e03653",
   "metadata": {},
   "source": [
    "nombre_infected       894\n",
    "nombre_sain          1971\n",
    "nombre_exposed        564\n",
    "nombre_recovered    16571\n",
    "Name: 375, dtype: int64"
   ]
  },
  {
   "cell_type": "markdown",
   "id": "109cebbc",
   "metadata": {},
   "source": [
    "nombre_infected       883\n",
    "nombre_sain          1994\n",
    "nombre_exposed        550\n",
    "nombre_recovered    16573\n",
    "Name: 376, dtype: int64"
   ]
  },
  {
   "cell_type": "markdown",
   "id": "5a803c13",
   "metadata": {},
   "source": [
    "nombre_infected       877\n",
    "nombre_sain          1973\n",
    "nombre_exposed        549\n",
    "nombre_recovered    16601\n",
    "Name: 377, dtype: int64"
   ]
  },
  {
   "cell_type": "markdown",
   "id": "32141fbd",
   "metadata": {},
   "source": [
    "nombre_infected       844\n",
    "nombre_sain          1985\n",
    "nombre_exposed        554\n",
    "nombre_recovered    16617\n",
    "Name: 378, dtype: int64"
   ]
  },
  {
   "cell_type": "markdown",
   "id": "4983af97",
   "metadata": {},
   "source": [
    "nombre_infected       827\n",
    "nombre_sain          1959\n",
    "nombre_exposed        567\n",
    "nombre_recovered    16647\n",
    "Name: 379, dtype: int64"
   ]
  },
  {
   "cell_type": "markdown",
   "id": "8798d590",
   "metadata": {},
   "source": [
    "nombre_infected       818\n",
    "nombre_sain          1968\n",
    "nombre_exposed        553\n",
    "nombre_recovered    16661\n",
    "Name: 380, dtype: int64"
   ]
  },
  {
   "cell_type": "markdown",
   "id": "fdfbb690",
   "metadata": {},
   "source": [
    "nombre_infected       792\n",
    "nombre_sain          1967\n",
    "nombre_exposed        557\n",
    "nombre_recovered    16684\n",
    "Name: 381, dtype: int64"
   ]
  },
  {
   "cell_type": "markdown",
   "id": "34fcff5d",
   "metadata": {},
   "source": [
    "nombre_infected       800\n",
    "nombre_sain          1991\n",
    "nombre_exposed        519\n",
    "nombre_recovered    16690\n",
    "Name: 382, dtype: int64"
   ]
  },
  {
   "cell_type": "markdown",
   "id": "bc2314c2",
   "metadata": {},
   "source": [
    "nombre_infected       806\n",
    "nombre_sain          2000\n",
    "nombre_exposed        517\n",
    "nombre_recovered    16677\n",
    "Name: 383, dtype: int64"
   ]
  },
  {
   "cell_type": "markdown",
   "id": "bfd4ffd7",
   "metadata": {},
   "source": [
    "nombre_infected       792\n",
    "nombre_sain          2039\n",
    "nombre_exposed        506\n",
    "nombre_recovered    16663\n",
    "Name: 384, dtype: int64"
   ]
  },
  {
   "cell_type": "markdown",
   "id": "ba2f5c12",
   "metadata": {},
   "source": [
    "nombre_infected       779\n",
    "nombre_sain          2036\n",
    "nombre_exposed        520\n",
    "nombre_recovered    16665\n",
    "Name: 385, dtype: int64"
   ]
  },
  {
   "cell_type": "markdown",
   "id": "2cd1ae6d",
   "metadata": {},
   "source": [
    "nombre_infected       762\n",
    "nombre_sain          2030\n",
    "nombre_exposed        522\n",
    "nombre_recovered    16686\n",
    "Name: 386, dtype: int64"
   ]
  },
  {
   "cell_type": "markdown",
   "id": "87e31f01",
   "metadata": {},
   "source": [
    "nombre_infected       740\n",
    "nombre_sain          2069\n",
    "nombre_exposed        511\n",
    "nombre_recovered    16680\n",
    "Name: 387, dtype: int64"
   ]
  },
  {
   "cell_type": "markdown",
   "id": "3319da8c",
   "metadata": {},
   "source": [
    "nombre_infected       765\n",
    "nombre_sain          2079\n",
    "nombre_exposed        479\n",
    "nombre_recovered    16677\n",
    "Name: 388, dtype: int64"
   ]
  },
  {
   "cell_type": "markdown",
   "id": "a8595dca",
   "metadata": {},
   "source": [
    "nombre_infected       765\n",
    "nombre_sain          2089\n",
    "nombre_exposed        468\n",
    "nombre_recovered    16678\n",
    "Name: 389, dtype: int64"
   ]
  },
  {
   "cell_type": "markdown",
   "id": "0a62ef2b",
   "metadata": {},
   "source": [
    "nombre_infected       722\n",
    "nombre_sain          2104\n",
    "nombre_exposed        482\n",
    "nombre_recovered    16692\n",
    "Name: 390, dtype: int64"
   ]
  },
  {
   "cell_type": "markdown",
   "id": "4d58a92a",
   "metadata": {},
   "source": [
    "nombre_infected       727\n",
    "nombre_sain          2129\n",
    "nombre_exposed        456\n",
    "nombre_recovered    16688\n",
    "Name: 391, dtype: int64"
   ]
  },
  {
   "cell_type": "markdown",
   "id": "bd6eb2f1",
   "metadata": {},
   "source": [
    "nombre_infected       701\n",
    "nombre_sain          2133\n",
    "nombre_exposed        461\n",
    "nombre_recovered    16705\n",
    "Name: 392, dtype: int64"
   ]
  },
  {
   "cell_type": "markdown",
   "id": "6d20610a",
   "metadata": {},
   "source": [
    "nombre_infected       674\n",
    "nombre_sain          2157\n",
    "nombre_exposed        452\n",
    "nombre_recovered    16717\n",
    "Name: 393, dtype: int64"
   ]
  },
  {
   "cell_type": "markdown",
   "id": "4ce2da1e",
   "metadata": {},
   "source": [
    "nombre_infected       665\n",
    "nombre_sain          2154\n",
    "nombre_exposed        462\n",
    "nombre_recovered    16719\n",
    "Name: 394, dtype: int64"
   ]
  },
  {
   "cell_type": "markdown",
   "id": "d73ca578",
   "metadata": {},
   "source": [
    "nombre_infected       698\n",
    "nombre_sain          2167\n",
    "nombre_exposed        440\n",
    "nombre_recovered    16695\n",
    "Name: 395, dtype: int64"
   ]
  },
  {
   "cell_type": "markdown",
   "id": "8dc5110b",
   "metadata": {},
   "source": [
    "nombre_infected       686\n",
    "nombre_sain          2188\n",
    "nombre_exposed        462\n",
    "nombre_recovered    16664\n",
    "Name: 396, dtype: int64"
   ]
  },
  {
   "cell_type": "markdown",
   "id": "40d5dcfa",
   "metadata": {},
   "source": [
    "nombre_infected       700\n",
    "nombre_sain          2193\n",
    "nombre_exposed        464\n",
    "nombre_recovered    16643\n",
    "Name: 397, dtype: int64"
   ]
  },
  {
   "cell_type": "markdown",
   "id": "35e0829b",
   "metadata": {},
   "source": [
    "nombre_infected       698\n",
    "nombre_sain          2238\n",
    "nombre_exposed        457\n",
    "nombre_recovered    16607\n",
    "Name: 398, dtype: int64"
   ]
  },
  {
   "cell_type": "markdown",
   "id": "62669b42",
   "metadata": {},
   "source": [
    "nombre_infected       696\n",
    "nombre_sain          2237\n",
    "nombre_exposed        465\n",
    "nombre_recovered    16602\n",
    "Name: 399, dtype: int64"
   ]
  },
  {
   "cell_type": "markdown",
   "id": "c4ef7766",
   "metadata": {},
   "source": [
    "nombre_infected       695\n",
    "nombre_sain          2264\n",
    "nombre_exposed        466\n",
    "nombre_recovered    16575\n",
    "Name: 400, dtype: int64"
   ]
  },
  {
   "cell_type": "markdown",
   "id": "8cfe0d23",
   "metadata": {},
   "source": [
    "nombre_infected       683\n",
    "nombre_sain          2294\n",
    "nombre_exposed        460\n",
    "nombre_recovered    16563\n",
    "Name: 401, dtype: int64"
   ]
  },
  {
   "cell_type": "markdown",
   "id": "fea0b4b9",
   "metadata": {},
   "source": [
    "nombre_infected       684\n",
    "nombre_sain          2326\n",
    "nombre_exposed        451\n",
    "nombre_recovered    16539\n",
    "Name: 402, dtype: int64"
   ]
  },
  {
   "cell_type": "markdown",
   "id": "0d5b4c1b",
   "metadata": {},
   "source": [
    "nombre_infected       691\n",
    "nombre_sain          2359\n",
    "nombre_exposed        454\n",
    "nombre_recovered    16496\n",
    "Name: 403, dtype: int64"
   ]
  },
  {
   "cell_type": "markdown",
   "id": "6a65c892",
   "metadata": {},
   "source": [
    "nombre_infected       691\n",
    "nombre_sain          2400\n",
    "nombre_exposed        462\n",
    "nombre_recovered    16447\n",
    "Name: 404, dtype: int64"
   ]
  },
  {
   "cell_type": "markdown",
   "id": "0543c4bc",
   "metadata": {},
   "source": [
    "nombre_infected       679\n",
    "nombre_sain          2418\n",
    "nombre_exposed        457\n",
    "nombre_recovered    16446\n",
    "Name: 405, dtype: int64"
   ]
  },
  {
   "cell_type": "markdown",
   "id": "edce5a00",
   "metadata": {},
   "source": [
    "nombre_infected       687\n",
    "nombre_sain          2437\n",
    "nombre_exposed        452\n",
    "nombre_recovered    16424\n",
    "Name: 406, dtype: int64"
   ]
  },
  {
   "cell_type": "markdown",
   "id": "64212ad8",
   "metadata": {},
   "source": [
    "nombre_infected       687\n",
    "nombre_sain          2439\n",
    "nombre_exposed        463\n",
    "nombre_recovered    16411\n",
    "Name: 407, dtype: int64"
   ]
  },
  {
   "cell_type": "markdown",
   "id": "3d36cce0",
   "metadata": {},
   "source": [
    "nombre_infected       682\n",
    "nombre_sain          2448\n",
    "nombre_exposed        489\n",
    "nombre_recovered    16381\n",
    "Name: 408, dtype: int64"
   ]
  },
  {
   "cell_type": "markdown",
   "id": "5c26d488",
   "metadata": {},
   "source": [
    "nombre_infected       686\n",
    "nombre_sain          2479\n",
    "nombre_exposed        490\n",
    "nombre_recovered    16345\n",
    "Name: 409, dtype: int64"
   ]
  },
  {
   "cell_type": "markdown",
   "id": "dbbffbc7",
   "metadata": {},
   "source": [
    "nombre_infected       689\n",
    "nombre_sain          2484\n",
    "nombre_exposed        503\n",
    "nombre_recovered    16324\n",
    "Name: 410, dtype: int64"
   ]
  },
  {
   "cell_type": "markdown",
   "id": "872dc8cd",
   "metadata": {},
   "source": [
    "nombre_infected       684\n",
    "nombre_sain          2510\n",
    "nombre_exposed        504\n",
    "nombre_recovered    16302\n",
    "Name: 411, dtype: int64"
   ]
  },
  {
   "cell_type": "markdown",
   "id": "4d123851",
   "metadata": {},
   "source": [
    "nombre_infected       690\n",
    "nombre_sain          2506\n",
    "nombre_exposed        517\n",
    "nombre_recovered    16287\n",
    "Name: 412, dtype: int64"
   ]
  },
  {
   "cell_type": "markdown",
   "id": "ee4ccc9e",
   "metadata": {},
   "source": [
    "nombre_infected       693\n",
    "nombre_sain          2529\n",
    "nombre_exposed        533\n",
    "nombre_recovered    16245\n",
    "Name: 413, dtype: int64"
   ]
  },
  {
   "cell_type": "markdown",
   "id": "05af6550",
   "metadata": {},
   "source": [
    "nombre_infected       722\n",
    "nombre_sain          2541\n",
    "nombre_exposed        524\n",
    "nombre_recovered    16213\n",
    "Name: 414, dtype: int64"
   ]
  },
  {
   "cell_type": "markdown",
   "id": "e62650c9",
   "metadata": {},
   "source": [
    "nombre_infected       767\n",
    "nombre_sain          2514\n",
    "nombre_exposed        528\n",
    "nombre_recovered    16191\n",
    "Name: 415, dtype: int64"
   ]
  },
  {
   "cell_type": "markdown",
   "id": "fe29105a",
   "metadata": {},
   "source": [
    "nombre_infected       768\n",
    "nombre_sain          2523\n",
    "nombre_exposed        556\n",
    "nombre_recovered    16153\n",
    "Name: 416, dtype: int64"
   ]
  },
  {
   "cell_type": "markdown",
   "id": "ede23c8f",
   "metadata": {},
   "source": [
    "nombre_infected       776\n",
    "nombre_sain          2531\n",
    "nombre_exposed        570\n",
    "nombre_recovered    16123\n",
    "Name: 417, dtype: int64"
   ]
  },
  {
   "cell_type": "markdown",
   "id": "18ea0430",
   "metadata": {},
   "source": [
    "nombre_infected       778\n",
    "nombre_sain          2529\n",
    "nombre_exposed        585\n",
    "nombre_recovered    16108\n",
    "Name: 418, dtype: int64"
   ]
  },
  {
   "cell_type": "markdown",
   "id": "b174e581",
   "metadata": {},
   "source": [
    "nombre_infected       800\n",
    "nombre_sain          2526\n",
    "nombre_exposed        606\n",
    "nombre_recovered    16068\n",
    "Name: 419, dtype: int64"
   ]
  },
  {
   "cell_type": "markdown",
   "id": "e6fa1577",
   "metadata": {},
   "source": [
    "nombre_infected       829\n",
    "nombre_sain          2523\n",
    "nombre_exposed        620\n",
    "nombre_recovered    16028\n",
    "Name: 420, dtype: int64"
   ]
  },
  {
   "cell_type": "markdown",
   "id": "d6ba16f5",
   "metadata": {},
   "source": [
    "nombre_infected       857\n",
    "nombre_sain          2509\n",
    "nombre_exposed        632\n",
    "nombre_recovered    16002\n",
    "Name: 421, dtype: int64"
   ]
  },
  {
   "cell_type": "markdown",
   "id": "e8476ffd",
   "metadata": {},
   "source": [
    "nombre_infected       891\n",
    "nombre_sain          2501\n",
    "nombre_exposed        629\n",
    "nombre_recovered    15979\n",
    "Name: 422, dtype: int64"
   ]
  },
  {
   "cell_type": "markdown",
   "id": "6f9b549d",
   "metadata": {},
   "source": [
    "nombre_infected       927\n",
    "nombre_sain          2462\n",
    "nombre_exposed        645\n",
    "nombre_recovered    15966\n",
    "Name: 423, dtype: int64"
   ]
  },
  {
   "cell_type": "markdown",
   "id": "7fa5cdd1",
   "metadata": {},
   "source": [
    "nombre_infected       923\n",
    "nombre_sain          2452\n",
    "nombre_exposed        659\n",
    "nombre_recovered    15966\n",
    "Name: 424, dtype: int64"
   ]
  },
  {
   "cell_type": "markdown",
   "id": "fa2dcc62",
   "metadata": {},
   "source": [
    "nombre_infected       951\n",
    "nombre_sain          2443\n",
    "nombre_exposed        654\n",
    "nombre_recovered    15952\n",
    "Name: 425, dtype: int64"
   ]
  },
  {
   "cell_type": "markdown",
   "id": "7260de29",
   "metadata": {},
   "source": [
    "nombre_infected       972\n",
    "nombre_sain          2428\n",
    "nombre_exposed        652\n",
    "nombre_recovered    15948\n",
    "Name: 426, dtype: int64"
   ]
  },
  {
   "cell_type": "markdown",
   "id": "a74e81d4",
   "metadata": {},
   "source": [
    "nombre_infected       977\n",
    "nombre_sain          2418\n",
    "nombre_exposed        636\n",
    "nombre_recovered    15969\n",
    "Name: 427, dtype: int64"
   ]
  },
  {
   "cell_type": "markdown",
   "id": "2322385f",
   "metadata": {},
   "source": [
    "nombre_infected       975\n",
    "nombre_sain          2391\n",
    "nombre_exposed        645\n",
    "nombre_recovered    15989\n",
    "Name: 428, dtype: int64"
   ]
  },
  {
   "cell_type": "markdown",
   "id": "f1e89093",
   "metadata": {},
   "source": [
    "nombre_infected       983\n",
    "nombre_sain          2317\n",
    "nombre_exposed        671\n",
    "nombre_recovered    16029\n",
    "Name: 429, dtype: int64"
   ]
  },
  {
   "cell_type": "markdown",
   "id": "94711cf2",
   "metadata": {},
   "source": [
    "nombre_infected       985\n",
    "nombre_sain          2290\n",
    "nombre_exposed        679\n",
    "nombre_recovered    16046\n",
    "Name: 430, dtype: int64"
   ]
  },
  {
   "cell_type": "markdown",
   "id": "d88d4849",
   "metadata": {},
   "source": [
    "nombre_infected       992\n",
    "nombre_sain          2254\n",
    "nombre_exposed        669\n",
    "nombre_recovered    16085\n",
    "Name: 431, dtype: int64"
   ]
  },
  {
   "cell_type": "markdown",
   "id": "532d1855",
   "metadata": {},
   "source": [
    "nombre_infected      1016\n",
    "nombre_sain          2237\n",
    "nombre_exposed        653\n",
    "nombre_recovered    16094\n",
    "Name: 432, dtype: int64"
   ]
  },
  {
   "cell_type": "markdown",
   "id": "bb910179",
   "metadata": {},
   "source": [
    "nombre_infected      1038\n",
    "nombre_sain          2216\n",
    "nombre_exposed        648\n",
    "nombre_recovered    16098\n",
    "Name: 433, dtype: int64"
   ]
  },
  {
   "cell_type": "markdown",
   "id": "7b7dcbfe",
   "metadata": {},
   "source": [
    "nombre_infected      1051\n",
    "nombre_sain          2170\n",
    "nombre_exposed        665\n",
    "nombre_recovered    16114\n",
    "Name: 434, dtype: int64"
   ]
  },
  {
   "cell_type": "markdown",
   "id": "4b0087c5",
   "metadata": {},
   "source": [
    "nombre_infected      1044\n",
    "nombre_sain          2183\n",
    "nombre_exposed        648\n",
    "nombre_recovered    16125\n",
    "Name: 435, dtype: int64"
   ]
  },
  {
   "cell_type": "markdown",
   "id": "63292a06",
   "metadata": {},
   "source": [
    "nombre_infected      1042\n",
    "nombre_sain          2145\n",
    "nombre_exposed        654\n",
    "nombre_recovered    16159\n",
    "Name: 436, dtype: int64"
   ]
  },
  {
   "cell_type": "markdown",
   "id": "30e8cc4d",
   "metadata": {},
   "source": [
    "nombre_infected      1042\n",
    "nombre_sain          2152\n",
    "nombre_exposed        655\n",
    "nombre_recovered    16151\n",
    "Name: 437, dtype: int64"
   ]
  },
  {
   "cell_type": "markdown",
   "id": "5b3f07d0",
   "metadata": {},
   "source": [
    "nombre_infected      1032\n",
    "nombre_sain          2167\n",
    "nombre_exposed        659\n",
    "nombre_recovered    16142\n",
    "Name: 438, dtype: int64"
   ]
  },
  {
   "cell_type": "markdown",
   "id": "5784bfa4",
   "metadata": {},
   "source": [
    "nombre_infected      1045\n",
    "nombre_sain          2160\n",
    "nombre_exposed        650\n",
    "nombre_recovered    16145\n",
    "Name: 439, dtype: int64"
   ]
  },
  {
   "cell_type": "markdown",
   "id": "335c0ed6",
   "metadata": {},
   "source": [
    "nombre_infected      1047\n",
    "nombre_sain          2159\n",
    "nombre_exposed        660\n",
    "nombre_recovered    16134\n",
    "Name: 440, dtype: int64"
   ]
  },
  {
   "cell_type": "markdown",
   "id": "313a2333",
   "metadata": {},
   "source": [
    "nombre_infected      1052\n",
    "nombre_sain          2164\n",
    "nombre_exposed        679\n",
    "nombre_recovered    16105\n",
    "Name: 441, dtype: int64"
   ]
  },
  {
   "cell_type": "markdown",
   "id": "9d23204e",
   "metadata": {},
   "source": [
    "nombre_infected      1065\n",
    "nombre_sain          2171\n",
    "nombre_exposed        674\n",
    "nombre_recovered    16090\n",
    "Name: 442, dtype: int64"
   ]
  },
  {
   "cell_type": "markdown",
   "id": "d2f1a4c3",
   "metadata": {},
   "source": [
    "nombre_infected      1053\n",
    "nombre_sain          2157\n",
    "nombre_exposed        671\n",
    "nombre_recovered    16119\n",
    "Name: 443, dtype: int64"
   ]
  },
  {
   "cell_type": "markdown",
   "id": "5eba010a",
   "metadata": {},
   "source": [
    "nombre_infected      1054\n",
    "nombre_sain          2129\n",
    "nombre_exposed        695\n",
    "nombre_recovered    16122\n",
    "Name: 444, dtype: int64"
   ]
  },
  {
   "cell_type": "markdown",
   "id": "3c130718",
   "metadata": {},
   "source": [
    "nombre_infected      1074\n",
    "nombre_sain          2123\n",
    "nombre_exposed        676\n",
    "nombre_recovered    16127\n",
    "Name: 445, dtype: int64"
   ]
  },
  {
   "cell_type": "markdown",
   "id": "c738170d",
   "metadata": {},
   "source": [
    "nombre_infected      1094\n",
    "nombre_sain          2110\n",
    "nombre_exposed        676\n",
    "nombre_recovered    16120\n",
    "Name: 446, dtype: int64"
   ]
  },
  {
   "cell_type": "markdown",
   "id": "99af33dd",
   "metadata": {},
   "source": [
    "nombre_infected      1081\n",
    "nombre_sain          2076\n",
    "nombre_exposed        704\n",
    "nombre_recovered    16139\n",
    "Name: 447, dtype: int64"
   ]
  },
  {
   "cell_type": "markdown",
   "id": "618bb5c8",
   "metadata": {},
   "source": [
    "nombre_infected      1098\n",
    "nombre_sain          2030\n",
    "nombre_exposed        713\n",
    "nombre_recovered    16159\n",
    "Name: 448, dtype: int64"
   ]
  },
  {
   "cell_type": "markdown",
   "id": "7c37b589",
   "metadata": {},
   "source": [
    "nombre_infected      1074\n",
    "nombre_sain          2021\n",
    "nombre_exposed        710\n",
    "nombre_recovered    16195\n",
    "Name: 449, dtype: int64"
   ]
  },
  {
   "cell_type": "markdown",
   "id": "c79c6bff",
   "metadata": {},
   "source": [
    "nombre_infected      1081\n",
    "nombre_sain          1997\n",
    "nombre_exposed        694\n",
    "nombre_recovered    16228\n",
    "Name: 450, dtype: int64"
   ]
  },
  {
   "cell_type": "markdown",
   "id": "ca8be48c",
   "metadata": {},
   "source": [
    "nombre_infected      1080\n",
    "nombre_sain          1998\n",
    "nombre_exposed        699\n",
    "nombre_recovered    16223\n",
    "Name: 451, dtype: int64"
   ]
  },
  {
   "cell_type": "markdown",
   "id": "aa9906fa",
   "metadata": {},
   "source": [
    "nombre_infected      1103\n",
    "nombre_sain          1962\n",
    "nombre_exposed        692\n",
    "nombre_recovered    16243\n",
    "Name: 452, dtype: int64"
   ]
  },
  {
   "cell_type": "markdown",
   "id": "de1d4622",
   "metadata": {},
   "source": [
    "nombre_infected      1083\n",
    "nombre_sain          1947\n",
    "nombre_exposed        709\n",
    "nombre_recovered    16261\n",
    "Name: 453, dtype: int64"
   ]
  },
  {
   "cell_type": "markdown",
   "id": "ed93104d",
   "metadata": {},
   "source": [
    "nombre_infected      1061\n",
    "nombre_sain          1924\n",
    "nombre_exposed        718\n",
    "nombre_recovered    16297\n",
    "Name: 454, dtype: int64"
   ]
  },
  {
   "cell_type": "markdown",
   "id": "bd38dd2b",
   "metadata": {},
   "source": [
    "nombre_infected      1081\n",
    "nombre_sain          1883\n",
    "nombre_exposed        722\n",
    "nombre_recovered    16314\n",
    "Name: 455, dtype: int64"
   ]
  },
  {
   "cell_type": "markdown",
   "id": "1654604c",
   "metadata": {},
   "source": [
    "nombre_infected      1096\n",
    "nombre_sain          1869\n",
    "nombre_exposed        719\n",
    "nombre_recovered    16316\n",
    "Name: 456, dtype: int64"
   ]
  },
  {
   "cell_type": "markdown",
   "id": "cd7b0ae6",
   "metadata": {},
   "source": [
    "nombre_infected      1125\n",
    "nombre_sain          1834\n",
    "nombre_exposed        706\n",
    "nombre_recovered    16335\n",
    "Name: 457, dtype: int64"
   ]
  },
  {
   "cell_type": "markdown",
   "id": "1d76546e",
   "metadata": {},
   "source": [
    "nombre_infected      1116\n",
    "nombre_sain          1814\n",
    "nombre_exposed        703\n",
    "nombre_recovered    16367\n",
    "Name: 458, dtype: int64"
   ]
  },
  {
   "cell_type": "markdown",
   "id": "eb7afd3c",
   "metadata": {},
   "source": [
    "nombre_infected      1083\n",
    "nombre_sain          1817\n",
    "nombre_exposed        705\n",
    "nombre_recovered    16395\n",
    "Name: 459, dtype: int64"
   ]
  },
  {
   "cell_type": "markdown",
   "id": "4490d1c9",
   "metadata": {},
   "source": [
    "nombre_infected      1125\n",
    "nombre_sain          1790\n",
    "nombre_exposed        663\n",
    "nombre_recovered    16422\n",
    "Name: 460, dtype: int64"
   ]
  },
  {
   "cell_type": "markdown",
   "id": "42d59acb",
   "metadata": {},
   "source": [
    "nombre_infected      1123\n",
    "nombre_sain          1781\n",
    "nombre_exposed        668\n",
    "nombre_recovered    16428\n",
    "Name: 461, dtype: int64"
   ]
  },
  {
   "cell_type": "markdown",
   "id": "9fa44d80",
   "metadata": {},
   "source": [
    "nombre_infected      1114\n",
    "nombre_sain          1769\n",
    "nombre_exposed        660\n",
    "nombre_recovered    16457\n",
    "Name: 462, dtype: int64"
   ]
  },
  {
   "cell_type": "markdown",
   "id": "b8e20e49",
   "metadata": {},
   "source": [
    "nombre_infected      1110\n",
    "nombre_sain          1773\n",
    "nombre_exposed        623\n",
    "nombre_recovered    16494\n",
    "Name: 463, dtype: int64"
   ]
  },
  {
   "cell_type": "markdown",
   "id": "da697b70",
   "metadata": {},
   "source": [
    "nombre_infected      1102\n",
    "nombre_sain          1751\n",
    "nombre_exposed        615\n",
    "nombre_recovered    16532\n",
    "Name: 464, dtype: int64"
   ]
  },
  {
   "cell_type": "markdown",
   "id": "ae366ada",
   "metadata": {},
   "source": [
    "nombre_infected      1080\n",
    "nombre_sain          1758\n",
    "nombre_exposed        614\n",
    "nombre_recovered    16548\n",
    "Name: 465, dtype: int64"
   ]
  },
  {
   "cell_type": "markdown",
   "id": "2c3e8535",
   "metadata": {},
   "source": [
    "nombre_infected      1054\n",
    "nombre_sain          1760\n",
    "nombre_exposed        626\n",
    "nombre_recovered    16560\n",
    "Name: 466, dtype: int64"
   ]
  },
  {
   "cell_type": "markdown",
   "id": "e12ef76d",
   "metadata": {},
   "source": [
    "nombre_infected      1021\n",
    "nombre_sain          1765\n",
    "nombre_exposed        640\n",
    "nombre_recovered    16574\n",
    "Name: 467, dtype: int64"
   ]
  },
  {
   "cell_type": "markdown",
   "id": "597c20c6",
   "metadata": {},
   "source": [
    "nombre_infected       995\n",
    "nombre_sain          1762\n",
    "nombre_exposed        645\n",
    "nombre_recovered    16598\n",
    "Name: 468, dtype: int64"
   ]
  },
  {
   "cell_type": "markdown",
   "id": "02eb95c5",
   "metadata": {},
   "source": [
    "nombre_infected      1001\n",
    "nombre_sain          1766\n",
    "nombre_exposed        613\n",
    "nombre_recovered    16620\n",
    "Name: 469, dtype: int64"
   ]
  },
  {
   "cell_type": "markdown",
   "id": "26d0b27c",
   "metadata": {},
   "source": [
    "nombre_infected      1016\n",
    "nombre_sain          1779\n",
    "nombre_exposed        583\n",
    "nombre_recovered    16622\n",
    "Name: 470, dtype: int64"
   ]
  },
  {
   "cell_type": "markdown",
   "id": "7e8215e2",
   "metadata": {},
   "source": [
    "nombre_infected      1025\n",
    "nombre_sain          1816\n",
    "nombre_exposed        557\n",
    "nombre_recovered    16602\n",
    "Name: 471, dtype: int64"
   ]
  },
  {
   "cell_type": "markdown",
   "id": "a03102fe",
   "metadata": {},
   "source": [
    "nombre_infected      1013\n",
    "nombre_sain          1818\n",
    "nombre_exposed        548\n",
    "nombre_recovered    16621\n",
    "Name: 472, dtype: int64"
   ]
  },
  {
   "cell_type": "markdown",
   "id": "7fc6c16c",
   "metadata": {},
   "source": [
    "nombre_infected       994\n",
    "nombre_sain          1817\n",
    "nombre_exposed        557\n",
    "nombre_recovered    16632\n",
    "Name: 473, dtype: int64"
   ]
  },
  {
   "cell_type": "markdown",
   "id": "e596c26f",
   "metadata": {},
   "source": [
    "nombre_infected       965\n",
    "nombre_sain          1845\n",
    "nombre_exposed        539\n",
    "nombre_recovered    16651\n",
    "Name: 474, dtype: int64"
   ]
  },
  {
   "cell_type": "markdown",
   "id": "a7f4acde",
   "metadata": {},
   "source": [
    "nombre_infected       952\n",
    "nombre_sain          1851\n",
    "nombre_exposed        529\n",
    "nombre_recovered    16668\n",
    "Name: 475, dtype: int64"
   ]
  },
  {
   "cell_type": "markdown",
   "id": "5eb6436f",
   "metadata": {},
   "source": [
    "nombre_infected       923\n",
    "nombre_sain          1871\n",
    "nombre_exposed        533\n",
    "nombre_recovered    16673\n",
    "Name: 476, dtype: int64"
   ]
  },
  {
   "cell_type": "markdown",
   "id": "d8f8cf4c",
   "metadata": {},
   "source": [
    "nombre_infected       912\n",
    "nombre_sain          1889\n",
    "nombre_exposed        514\n",
    "nombre_recovered    16685\n",
    "Name: 477, dtype: int64"
   ]
  },
  {
   "cell_type": "markdown",
   "id": "5af09251",
   "metadata": {},
   "source": [
    "nombre_infected       901\n",
    "nombre_sain          1945\n",
    "nombre_exposed        487\n",
    "nombre_recovered    16667\n",
    "Name: 478, dtype: int64"
   ]
  },
  {
   "cell_type": "markdown",
   "id": "afbbc19f",
   "metadata": {},
   "source": [
    "nombre_infected       897\n",
    "nombre_sain          1914\n",
    "nombre_exposed        510\n",
    "nombre_recovered    16679\n",
    "Name: 479, dtype: int64"
   ]
  },
  {
   "cell_type": "markdown",
   "id": "59a954a5",
   "metadata": {},
   "source": [
    "nombre_infected       852\n",
    "nombre_sain          1943\n",
    "nombre_exposed        511\n",
    "nombre_recovered    16694\n",
    "Name: 480, dtype: int64"
   ]
  },
  {
   "cell_type": "markdown",
   "id": "8771d6cb",
   "metadata": {},
   "source": [
    "nombre_infected       847\n",
    "nombre_sain          1975\n",
    "nombre_exposed        520\n",
    "nombre_recovered    16658\n",
    "Name: 481, dtype: int64"
   ]
  },
  {
   "cell_type": "markdown",
   "id": "aef68956",
   "metadata": {},
   "source": [
    "nombre_infected       835\n",
    "nombre_sain          1985\n",
    "nombre_exposed        529\n",
    "nombre_recovered    16651\n",
    "Name: 482, dtype: int64"
   ]
  },
  {
   "cell_type": "markdown",
   "id": "71e21ec4",
   "metadata": {},
   "source": [
    "nombre_infected       810\n",
    "nombre_sain          2001\n",
    "nombre_exposed        519\n",
    "nombre_recovered    16670\n",
    "Name: 483, dtype: int64"
   ]
  },
  {
   "cell_type": "markdown",
   "id": "2b3a9721",
   "metadata": {},
   "source": [
    "nombre_infected       802\n",
    "nombre_sain          2038\n",
    "nombre_exposed        514\n",
    "nombre_recovered    16646\n",
    "Name: 484, dtype: int64"
   ]
  },
  {
   "cell_type": "markdown",
   "id": "ae6e8eea",
   "metadata": {},
   "source": [
    "nombre_infected       819\n",
    "nombre_sain          2083\n",
    "nombre_exposed        469\n",
    "nombre_recovered    16629\n",
    "Name: 485, dtype: int64"
   ]
  },
  {
   "cell_type": "markdown",
   "id": "2850fcec",
   "metadata": {},
   "source": [
    "nombre_infected       811\n",
    "nombre_sain          2091\n",
    "nombre_exposed        472\n",
    "nombre_recovered    16626\n",
    "Name: 486, dtype: int64"
   ]
  },
  {
   "cell_type": "markdown",
   "id": "a2f926d7",
   "metadata": {},
   "source": [
    "nombre_infected       815\n",
    "nombre_sain          2083\n",
    "nombre_exposed        486\n",
    "nombre_recovered    16616\n",
    "Name: 487, dtype: int64"
   ]
  },
  {
   "cell_type": "markdown",
   "id": "6ee6adca",
   "metadata": {},
   "source": [
    "nombre_infected       804\n",
    "nombre_sain          2113\n",
    "nombre_exposed        468\n",
    "nombre_recovered    16615\n",
    "Name: 488, dtype: int64"
   ]
  },
  {
   "cell_type": "markdown",
   "id": "58570b08",
   "metadata": {},
   "source": [
    "nombre_infected       810\n",
    "nombre_sain          2131\n",
    "nombre_exposed        465\n",
    "nombre_recovered    16594\n",
    "Name: 489, dtype: int64"
   ]
  },
  {
   "cell_type": "markdown",
   "id": "b79853d2",
   "metadata": {},
   "source": [
    "nombre_infected       789\n",
    "nombre_sain          2142\n",
    "nombre_exposed        480\n",
    "nombre_recovered    16589\n",
    "Name: 490, dtype: int64"
   ]
  },
  {
   "cell_type": "markdown",
   "id": "7478b654",
   "metadata": {},
   "source": [
    "nombre_infected       762\n",
    "nombre_sain          2156\n",
    "nombre_exposed        497\n",
    "nombre_recovered    16585\n",
    "Name: 491, dtype: int64"
   ]
  },
  {
   "cell_type": "markdown",
   "id": "787b2a99",
   "metadata": {},
   "source": [
    "nombre_infected       736\n",
    "nombre_sain          2164\n",
    "nombre_exposed        509\n",
    "nombre_recovered    16591\n",
    "Name: 492, dtype: int64"
   ]
  },
  {
   "cell_type": "markdown",
   "id": "cf89a676",
   "metadata": {},
   "source": [
    "nombre_infected       744\n",
    "nombre_sain          2193\n",
    "nombre_exposed        511\n",
    "nombre_recovered    16552\n",
    "Name: 493, dtype: int64"
   ]
  },
  {
   "cell_type": "markdown",
   "id": "c7463392",
   "metadata": {},
   "source": [
    "nombre_infected       755\n",
    "nombre_sain          2203\n",
    "nombre_exposed        525\n",
    "nombre_recovered    16517\n",
    "Name: 494, dtype: int64"
   ]
  },
  {
   "cell_type": "markdown",
   "id": "8ae11b16",
   "metadata": {},
   "source": [
    "nombre_infected       741\n",
    "nombre_sain          2188\n",
    "nombre_exposed        547\n",
    "nombre_recovered    16524\n",
    "Name: 495, dtype: int64"
   ]
  },
  {
   "cell_type": "markdown",
   "id": "b6ebd1e0",
   "metadata": {},
   "source": [
    "nombre_infected       739\n",
    "nombre_sain          2198\n",
    "nombre_exposed        564\n",
    "nombre_recovered    16499\n",
    "Name: 496, dtype: int64"
   ]
  },
  {
   "cell_type": "markdown",
   "id": "34d44995",
   "metadata": {},
   "source": [
    "nombre_infected       741\n",
    "nombre_sain          2233\n",
    "nombre_exposed        534\n",
    "nombre_recovered    16492\n",
    "Name: 497, dtype: int64"
   ]
  },
  {
   "cell_type": "markdown",
   "id": "ce004848",
   "metadata": {},
   "source": [
    "nombre_infected       730\n",
    "nombre_sain          2237\n",
    "nombre_exposed        534\n",
    "nombre_recovered    16499\n",
    "Name: 498, dtype: int64"
   ]
  },
  {
   "cell_type": "markdown",
   "id": "3615d5af",
   "metadata": {},
   "source": [
    "nombre_infected       731\n",
    "nombre_sain          2250\n",
    "nombre_exposed        521\n",
    "nombre_recovered    16498\n",
    "Name: 499, dtype: int64"
   ]
  },
  {
   "cell_type": "markdown",
   "id": "6de4c46c",
   "metadata": {},
   "source": [
    "nombre_infected       738\n",
    "nombre_sain          2255\n",
    "nombre_exposed        511\n",
    "nombre_recovered    16496\n",
    "Name: 500, dtype: int64"
   ]
  },
  {
   "cell_type": "markdown",
   "id": "3b7ce7d5",
   "metadata": {},
   "source": [
    "nombre_infected       735\n",
    "nombre_sain          2270\n",
    "nombre_exposed        524\n",
    "nombre_recovered    16471\n",
    "Name: 501, dtype: int64"
   ]
  },
  {
   "cell_type": "markdown",
   "id": "9b511ad4",
   "metadata": {},
   "source": [
    "nombre_infected       724\n",
    "nombre_sain          2306\n",
    "nombre_exposed        511\n",
    "nombre_recovered    16459\n",
    "Name: 502, dtype: int64"
   ]
  },
  {
   "cell_type": "markdown",
   "id": "22e0e309",
   "metadata": {},
   "source": [
    "nombre_infected       750\n",
    "nombre_sain          2311\n",
    "nombre_exposed        514\n",
    "nombre_recovered    16425\n",
    "Name: 503, dtype: int64"
   ]
  },
  {
   "cell_type": "markdown",
   "id": "5874b0b2",
   "metadata": {},
   "source": [
    "nombre_infected       779\n",
    "nombre_sain          2327\n",
    "nombre_exposed        523\n",
    "nombre_recovered    16371\n",
    "Name: 504, dtype: int64"
   ]
  },
  {
   "cell_type": "markdown",
   "id": "a08a1ddd",
   "metadata": {},
   "source": [
    "nombre_infected       788\n",
    "nombre_sain          2337\n",
    "nombre_exposed        508\n",
    "nombre_recovered    16367\n",
    "Name: 505, dtype: int64"
   ]
  },
  {
   "cell_type": "markdown",
   "id": "ee999584",
   "metadata": {},
   "source": [
    "nombre_infected       801\n",
    "nombre_sain          2352\n",
    "nombre_exposed        489\n",
    "nombre_recovered    16358\n",
    "Name: 506, dtype: int64"
   ]
  },
  {
   "cell_type": "markdown",
   "id": "414411b7",
   "metadata": {},
   "source": [
    "nombre_infected       794\n",
    "nombre_sain          2380\n",
    "nombre_exposed        498\n",
    "nombre_recovered    16328\n",
    "Name: 507, dtype: int64"
   ]
  },
  {
   "cell_type": "markdown",
   "id": "ec0ad645",
   "metadata": {},
   "source": [
    "nombre_infected       787\n",
    "nombre_sain          2369\n",
    "nombre_exposed        531\n",
    "nombre_recovered    16313\n",
    "Name: 508, dtype: int64"
   ]
  },
  {
   "cell_type": "markdown",
   "id": "c44bb5da",
   "metadata": {},
   "source": [
    "nombre_infected       784\n",
    "nombre_sain          2375\n",
    "nombre_exposed        548\n",
    "nombre_recovered    16293\n",
    "Name: 509, dtype: int64"
   ]
  },
  {
   "cell_type": "markdown",
   "id": "69d480c4",
   "metadata": {},
   "source": [
    "nombre_infected       779\n",
    "nombre_sain          2386\n",
    "nombre_exposed        565\n",
    "nombre_recovered    16270\n",
    "Name: 510, dtype: int64"
   ]
  },
  {
   "cell_type": "markdown",
   "id": "e74eab32",
   "metadata": {},
   "source": [
    "nombre_infected       789\n",
    "nombre_sain          2392\n",
    "nombre_exposed        576\n",
    "nombre_recovered    16243\n",
    "Name: 511, dtype: int64"
   ]
  },
  {
   "cell_type": "markdown",
   "id": "82b63bab",
   "metadata": {},
   "source": [
    "nombre_infected       778\n",
    "nombre_sain          2415\n",
    "nombre_exposed        591\n",
    "nombre_recovered    16216\n",
    "Name: 512, dtype: int64"
   ]
  },
  {
   "cell_type": "markdown",
   "id": "cd2b4f96",
   "metadata": {},
   "source": [
    "nombre_infected       796\n",
    "nombre_sain          2442\n",
    "nombre_exposed        586\n",
    "nombre_recovered    16176\n",
    "Name: 513, dtype: int64"
   ]
  },
  {
   "cell_type": "markdown",
   "id": "d6e3d7fa",
   "metadata": {},
   "source": [
    "nombre_infected       813\n",
    "nombre_sain          2472\n",
    "nombre_exposed        583\n",
    "nombre_recovered    16132\n",
    "Name: 514, dtype: int64"
   ]
  },
  {
   "cell_type": "markdown",
   "id": "6aef9aa7",
   "metadata": {},
   "source": [
    "nombre_infected       829\n",
    "nombre_sain          2490\n",
    "nombre_exposed        574\n",
    "nombre_recovered    16107\n",
    "Name: 515, dtype: int64"
   ]
  },
  {
   "cell_type": "markdown",
   "id": "ed2c0757",
   "metadata": {},
   "source": [
    "nombre_infected       831\n",
    "nombre_sain          2477\n",
    "nombre_exposed        593\n",
    "nombre_recovered    16099\n",
    "Name: 516, dtype: int64"
   ]
  },
  {
   "cell_type": "markdown",
   "id": "d09d05bf",
   "metadata": {},
   "source": [
    "nombre_infected       837\n",
    "nombre_sain          2495\n",
    "nombre_exposed        602\n",
    "nombre_recovered    16066\n",
    "Name: 517, dtype: int64"
   ]
  },
  {
   "cell_type": "markdown",
   "id": "b649a5d9",
   "metadata": {},
   "source": [
    "nombre_infected       844\n",
    "nombre_sain          2500\n",
    "nombre_exposed        604\n",
    "nombre_recovered    16052\n",
    "Name: 518, dtype: int64"
   ]
  },
  {
   "cell_type": "markdown",
   "id": "3d3f3162",
   "metadata": {},
   "source": [
    "nombre_infected       883\n",
    "nombre_sain          2518\n",
    "nombre_exposed        589\n",
    "nombre_recovered    16010\n",
    "Name: 519, dtype: int64"
   ]
  },
  {
   "cell_type": "markdown",
   "id": "16151d2d",
   "metadata": {},
   "source": [
    "nombre_infected       873\n",
    "nombre_sain          2535\n",
    "nombre_exposed        607\n",
    "nombre_recovered    15985\n",
    "Name: 520, dtype: int64"
   ]
  },
  {
   "cell_type": "markdown",
   "id": "4344a349",
   "metadata": {},
   "source": [
    "nombre_infected       867\n",
    "nombre_sain          2518\n",
    "nombre_exposed        620\n",
    "nombre_recovered    15995\n",
    "Name: 521, dtype: int64"
   ]
  },
  {
   "cell_type": "markdown",
   "id": "928ecf5c",
   "metadata": {},
   "source": [
    "nombre_infected       874\n",
    "nombre_sain          2487\n",
    "nombre_exposed        665\n",
    "nombre_recovered    15974\n",
    "Name: 522, dtype: int64"
   ]
  },
  {
   "cell_type": "markdown",
   "id": "d36d282b",
   "metadata": {},
   "source": [
    "nombre_infected       860\n",
    "nombre_sain          2473\n",
    "nombre_exposed        678\n",
    "nombre_recovered    15989\n",
    "Name: 523, dtype: int64"
   ]
  },
  {
   "cell_type": "markdown",
   "id": "4b35b71e",
   "metadata": {},
   "source": [
    "nombre_infected       895\n",
    "nombre_sain          2419\n",
    "nombre_exposed        689\n",
    "nombre_recovered    15997\n",
    "Name: 524, dtype: int64"
   ]
  },
  {
   "cell_type": "markdown",
   "id": "e855d0a1",
   "metadata": {},
   "source": [
    "nombre_infected       927\n",
    "nombre_sain          2388\n",
    "nombre_exposed        699\n",
    "nombre_recovered    15986\n",
    "Name: 525, dtype: int64"
   ]
  },
  {
   "cell_type": "markdown",
   "id": "7cd1c6ba",
   "metadata": {},
   "source": [
    "nombre_infected       933\n",
    "nombre_sain          2339\n",
    "nombre_exposed        716\n",
    "nombre_recovered    16012\n",
    "Name: 526, dtype: int64"
   ]
  },
  {
   "cell_type": "markdown",
   "id": "122bcd7b",
   "metadata": {},
   "source": [
    "nombre_infected       968\n",
    "nombre_sain          2308\n",
    "nombre_exposed        701\n",
    "nombre_recovered    16023\n",
    "Name: 527, dtype: int64"
   ]
  },
  {
   "cell_type": "markdown",
   "id": "be1f8145",
   "metadata": {},
   "source": [
    "nombre_infected       985\n",
    "nombre_sain          2286\n",
    "nombre_exposed        704\n",
    "nombre_recovered    16025\n",
    "Name: 528, dtype: int64"
   ]
  },
  {
   "cell_type": "markdown",
   "id": "8ca3105b",
   "metadata": {},
   "source": [
    "nombre_infected       988\n",
    "nombre_sain          2218\n",
    "nombre_exposed        724\n",
    "nombre_recovered    16070\n",
    "Name: 529, dtype: int64"
   ]
  },
  {
   "cell_type": "markdown",
   "id": "a5628f97",
   "metadata": {},
   "source": [
    "nombre_infected      1016\n",
    "nombre_sain          2177\n",
    "nombre_exposed        724\n",
    "nombre_recovered    16083\n",
    "Name: 530, dtype: int64"
   ]
  },
  {
   "cell_type": "markdown",
   "id": "35ddcd8f",
   "metadata": {},
   "source": [
    "nombre_infected      1037\n",
    "nombre_sain          2131\n",
    "nombre_exposed        734\n",
    "nombre_recovered    16098\n",
    "Name: 531, dtype: int64"
   ]
  },
  {
   "cell_type": "markdown",
   "id": "d28c31a0",
   "metadata": {},
   "source": [
    "nombre_infected      1042\n",
    "nombre_sain          2074\n",
    "nombre_exposed        747\n",
    "nombre_recovered    16137\n",
    "Name: 532, dtype: int64"
   ]
  },
  {
   "cell_type": "markdown",
   "id": "31e70f01",
   "metadata": {},
   "source": [
    "nombre_infected      1063\n",
    "nombre_sain          2029\n",
    "nombre_exposed        731\n",
    "nombre_recovered    16177\n",
    "Name: 533, dtype: int64"
   ]
  },
  {
   "cell_type": "markdown",
   "id": "de7c6048",
   "metadata": {},
   "source": [
    "nombre_infected      1076\n",
    "nombre_sain          2001\n",
    "nombre_exposed        722\n",
    "nombre_recovered    16201\n",
    "Name: 534, dtype: int64"
   ]
  },
  {
   "cell_type": "markdown",
   "id": "a7f835c5",
   "metadata": {},
   "source": [
    "nombre_infected      1073\n",
    "nombre_sain          1982\n",
    "nombre_exposed        707\n",
    "nombre_recovered    16238\n",
    "Name: 535, dtype: int64"
   ]
  },
  {
   "cell_type": "markdown",
   "id": "e6680dee",
   "metadata": {},
   "source": [
    "nombre_infected      1091\n",
    "nombre_sain          1945\n",
    "nombre_exposed        702\n",
    "nombre_recovered    16262\n",
    "Name: 536, dtype: int64"
   ]
  },
  {
   "cell_type": "markdown",
   "id": "8ecbc2db",
   "metadata": {},
   "source": [
    "nombre_infected      1108\n",
    "nombre_sain          1907\n",
    "nombre_exposed        700\n",
    "nombre_recovered    16285\n",
    "Name: 537, dtype: int64"
   ]
  },
  {
   "cell_type": "markdown",
   "id": "0218a1cf",
   "metadata": {},
   "source": [
    "nombre_infected      1109\n",
    "nombre_sain          1896\n",
    "nombre_exposed        677\n",
    "nombre_recovered    16318\n",
    "Name: 538, dtype: int64"
   ]
  },
  {
   "cell_type": "markdown",
   "id": "c3496b84",
   "metadata": {},
   "source": [
    "nombre_infected      1112\n",
    "nombre_sain          1873\n",
    "nombre_exposed        673\n",
    "nombre_recovered    16342\n",
    "Name: 539, dtype: int64"
   ]
  },
  {
   "cell_type": "markdown",
   "id": "3a391005",
   "metadata": {},
   "source": [
    "nombre_infected      1100\n",
    "nombre_sain          1858\n",
    "nombre_exposed        666\n",
    "nombre_recovered    16376\n",
    "Name: 540, dtype: int64"
   ]
  },
  {
   "cell_type": "markdown",
   "id": "a15ae80e",
   "metadata": {},
   "source": [
    "nombre_infected      1094\n",
    "nombre_sain          1873\n",
    "nombre_exposed        629\n",
    "nombre_recovered    16404\n",
    "Name: 541, dtype: int64"
   ]
  },
  {
   "cell_type": "markdown",
   "id": "0b7889f2",
   "metadata": {},
   "source": [
    "nombre_infected      1081\n",
    "nombre_sain          1842\n",
    "nombre_exposed        626\n",
    "nombre_recovered    16451\n",
    "Name: 542, dtype: int64"
   ]
  },
  {
   "cell_type": "markdown",
   "id": "51388aa5",
   "metadata": {},
   "source": [
    "nombre_infected      1058\n",
    "nombre_sain          1800\n",
    "nombre_exposed        630\n",
    "nombre_recovered    16512\n",
    "Name: 543, dtype: int64"
   ]
  },
  {
   "cell_type": "markdown",
   "id": "2a65d1b5",
   "metadata": {},
   "source": [
    "nombre_infected      1061\n",
    "nombre_sain          1806\n",
    "nombre_exposed        620\n",
    "nombre_recovered    16513\n",
    "Name: 544, dtype: int64"
   ]
  },
  {
   "cell_type": "markdown",
   "id": "e6ba2dae",
   "metadata": {},
   "source": [
    "nombre_infected      1055\n",
    "nombre_sain          1789\n",
    "nombre_exposed        623\n",
    "nombre_recovered    16533\n",
    "Name: 545, dtype: int64"
   ]
  },
  {
   "cell_type": "markdown",
   "id": "c961f5b6",
   "metadata": {},
   "source": [
    "nombre_infected      1045\n",
    "nombre_sain          1804\n",
    "nombre_exposed        614\n",
    "nombre_recovered    16537\n",
    "Name: 546, dtype: int64"
   ]
  },
  {
   "cell_type": "markdown",
   "id": "da948785",
   "metadata": {},
   "source": [
    "nombre_infected      1038\n",
    "nombre_sain          1803\n",
    "nombre_exposed        608\n",
    "nombre_recovered    16551\n",
    "Name: 547, dtype: int64"
   ]
  },
  {
   "cell_type": "markdown",
   "id": "ce7c3ef7",
   "metadata": {},
   "source": [
    "nombre_infected      1046\n",
    "nombre_sain          1793\n",
    "nombre_exposed        595\n",
    "nombre_recovered    16566\n",
    "Name: 548, dtype: int64"
   ]
  },
  {
   "cell_type": "markdown",
   "id": "4e667df2",
   "metadata": {},
   "source": [
    "nombre_infected      1030\n",
    "nombre_sain          1776\n",
    "nombre_exposed        597\n",
    "nombre_recovered    16597\n",
    "Name: 549, dtype: int64"
   ]
  },
  {
   "cell_type": "markdown",
   "id": "bade9090",
   "metadata": {},
   "source": [
    "nombre_infected      1003\n",
    "nombre_sain          1779\n",
    "nombre_exposed        598\n",
    "nombre_recovered    16620\n",
    "Name: 550, dtype: int64"
   ]
  },
  {
   "cell_type": "markdown",
   "id": "e3250d41",
   "metadata": {},
   "source": [
    "nombre_infected       996\n",
    "nombre_sain          1810\n",
    "nombre_exposed        571\n",
    "nombre_recovered    16623\n",
    "Name: 551, dtype: int64"
   ]
  },
  {
   "cell_type": "markdown",
   "id": "767ee3f6",
   "metadata": {},
   "source": [
    "nombre_infected       996\n",
    "nombre_sain          1840\n",
    "nombre_exposed        559\n",
    "nombre_recovered    16605\n",
    "Name: 552, dtype: int64"
   ]
  },
  {
   "cell_type": "markdown",
   "id": "ce79fbd3",
   "metadata": {},
   "source": [
    "nombre_infected       950\n",
    "nombre_sain          1863\n",
    "nombre_exposed        573\n",
    "nombre_recovered    16614\n",
    "Name: 553, dtype: int64"
   ]
  },
  {
   "cell_type": "markdown",
   "id": "3b714c8a",
   "metadata": {},
   "source": [
    "nombre_infected       912\n",
    "nombre_sain          1883\n",
    "nombre_exposed        568\n",
    "nombre_recovered    16637\n",
    "Name: 554, dtype: int64"
   ]
  },
  {
   "cell_type": "markdown",
   "id": "85fcebf7",
   "metadata": {},
   "source": [
    "nombre_infected       914\n",
    "nombre_sain          1905\n",
    "nombre_exposed        545\n",
    "nombre_recovered    16636\n",
    "Name: 555, dtype: int64"
   ]
  },
  {
   "cell_type": "markdown",
   "id": "c31b01be",
   "metadata": {},
   "source": [
    "nombre_infected       897\n",
    "nombre_sain          1897\n",
    "nombre_exposed        552\n",
    "nombre_recovered    16654\n",
    "Name: 556, dtype: int64"
   ]
  },
  {
   "cell_type": "markdown",
   "id": "761b58d8",
   "metadata": {},
   "source": [
    "nombre_infected       868\n",
    "nombre_sain          1913\n",
    "nombre_exposed        562\n",
    "nombre_recovered    16657\n",
    "Name: 557, dtype: int64"
   ]
  },
  {
   "cell_type": "markdown",
   "id": "630b7338",
   "metadata": {},
   "source": [
    "nombre_infected       853\n",
    "nombre_sain          1939\n",
    "nombre_exposed        536\n",
    "nombre_recovered    16672\n",
    "Name: 558, dtype: int64"
   ]
  },
  {
   "cell_type": "markdown",
   "id": "dd939dcc",
   "metadata": {},
   "source": [
    "nombre_infected       824\n",
    "nombre_sain          1969\n",
    "nombre_exposed        537\n",
    "nombre_recovered    16670\n",
    "Name: 559, dtype: int64"
   ]
  },
  {
   "cell_type": "markdown",
   "id": "9e04d42a",
   "metadata": {},
   "source": [
    "nombre_infected       827\n",
    "nombre_sain          1967\n",
    "nombre_exposed        532\n",
    "nombre_recovered    16674\n",
    "Name: 560, dtype: int64"
   ]
  },
  {
   "cell_type": "markdown",
   "id": "d7c0ba67",
   "metadata": {},
   "source": [
    "nombre_infected       829\n",
    "nombre_sain          1977\n",
    "nombre_exposed        524\n",
    "nombre_recovered    16670\n",
    "Name: 561, dtype: int64"
   ]
  },
  {
   "cell_type": "markdown",
   "id": "e0ed1940",
   "metadata": {},
   "source": [
    "nombre_infected       823\n",
    "nombre_sain          1969\n",
    "nombre_exposed        537\n",
    "nombre_recovered    16671\n",
    "Name: 562, dtype: int64"
   ]
  },
  {
   "cell_type": "markdown",
   "id": "34b73975",
   "metadata": {},
   "source": [
    "nombre_infected       822\n",
    "nombre_sain          1974\n",
    "nombre_exposed        537\n",
    "nombre_recovered    16667\n",
    "Name: 563, dtype: int64"
   ]
  },
  {
   "cell_type": "markdown",
   "id": "58a447c6",
   "metadata": {},
   "source": [
    "nombre_infected       821\n",
    "nombre_sain          1964\n",
    "nombre_exposed        538\n",
    "nombre_recovered    16677\n",
    "Name: 564, dtype: int64"
   ]
  },
  {
   "cell_type": "markdown",
   "id": "0ae54ebe",
   "metadata": {},
   "source": [
    "nombre_infected       812\n",
    "nombre_sain          1986\n",
    "nombre_exposed        525\n",
    "nombre_recovered    16677\n",
    "Name: 565, dtype: int64"
   ]
  },
  {
   "cell_type": "markdown",
   "id": "2b182ddd",
   "metadata": {},
   "source": [
    "nombre_infected       804\n",
    "nombre_sain          2020\n",
    "nombre_exposed        518\n",
    "nombre_recovered    16658\n",
    "Name: 566, dtype: int64"
   ]
  },
  {
   "cell_type": "markdown",
   "id": "73ec43b1",
   "metadata": {},
   "source": [
    "nombre_infected       780\n",
    "nombre_sain          2044\n",
    "nombre_exposed        525\n",
    "nombre_recovered    16651\n",
    "Name: 567, dtype: int64"
   ]
  },
  {
   "cell_type": "markdown",
   "id": "10af35c8",
   "metadata": {},
   "source": [
    "nombre_infected       794\n",
    "nombre_sain          2058\n",
    "nombre_exposed        522\n",
    "nombre_recovered    16626\n",
    "Name: 568, dtype: int64"
   ]
  },
  {
   "cell_type": "markdown",
   "id": "b5771ec4",
   "metadata": {},
   "source": [
    "nombre_infected       785\n",
    "nombre_sain          2062\n",
    "nombre_exposed        535\n",
    "nombre_recovered    16618\n",
    "Name: 569, dtype: int64"
   ]
  },
  {
   "cell_type": "markdown",
   "id": "7c9a11a1",
   "metadata": {},
   "source": [
    "nombre_infected       763\n",
    "nombre_sain          2087\n",
    "nombre_exposed        522\n",
    "nombre_recovered    16628\n",
    "Name: 570, dtype: int64"
   ]
  },
  {
   "cell_type": "markdown",
   "id": "af6c76ec",
   "metadata": {},
   "source": [
    "nombre_infected       770\n",
    "nombre_sain          2082\n",
    "nombre_exposed        522\n",
    "nombre_recovered    16626\n",
    "Name: 571, dtype: int64"
   ]
  },
  {
   "cell_type": "markdown",
   "id": "e4c10473",
   "metadata": {},
   "source": [
    "nombre_infected       764\n",
    "nombre_sain          2084\n",
    "nombre_exposed        520\n",
    "nombre_recovered    16632\n",
    "Name: 572, dtype: int64"
   ]
  },
  {
   "cell_type": "markdown",
   "id": "ae5375e5",
   "metadata": {},
   "source": [
    "nombre_infected       786\n",
    "nombre_sain          2074\n",
    "nombre_exposed        509\n",
    "nombre_recovered    16631\n",
    "Name: 573, dtype: int64"
   ]
  },
  {
   "cell_type": "markdown",
   "id": "6fc1ffea",
   "metadata": {},
   "source": [
    "nombre_infected       788\n",
    "nombre_sain          2082\n",
    "nombre_exposed        500\n",
    "nombre_recovered    16630\n",
    "Name: 574, dtype: int64"
   ]
  },
  {
   "cell_type": "markdown",
   "id": "99863449",
   "metadata": {},
   "source": [
    "nombre_infected       804\n",
    "nombre_sain          2086\n",
    "nombre_exposed        490\n",
    "nombre_recovered    16620\n",
    "Name: 575, dtype: int64"
   ]
  },
  {
   "cell_type": "markdown",
   "id": "4becec84",
   "metadata": {},
   "source": [
    "nombre_infected       791\n",
    "nombre_sain          2086\n",
    "nombre_exposed        487\n",
    "nombre_recovered    16636\n",
    "Name: 576, dtype: int64"
   ]
  },
  {
   "cell_type": "markdown",
   "id": "e5bf6275",
   "metadata": {},
   "source": [
    "nombre_infected       805\n",
    "nombre_sain          2072\n",
    "nombre_exposed        481\n",
    "nombre_recovered    16642\n",
    "Name: 577, dtype: int64"
   ]
  },
  {
   "cell_type": "markdown",
   "id": "9a572b85",
   "metadata": {},
   "source": [
    "nombre_infected       799\n",
    "nombre_sain          2060\n",
    "nombre_exposed        492\n",
    "nombre_recovered    16649\n",
    "Name: 578, dtype: int64"
   ]
  },
  {
   "cell_type": "markdown",
   "id": "7dadbaa9",
   "metadata": {},
   "source": [
    "nombre_infected       786\n",
    "nombre_sain          2070\n",
    "nombre_exposed        492\n",
    "nombre_recovered    16652\n",
    "Name: 579, dtype: int64"
   ]
  },
  {
   "cell_type": "markdown",
   "id": "bf29b434",
   "metadata": {},
   "source": [
    "nombre_infected       804\n",
    "nombre_sain          2098\n",
    "nombre_exposed        481\n",
    "nombre_recovered    16617\n",
    "Name: 580, dtype: int64"
   ]
  },
  {
   "cell_type": "markdown",
   "id": "429e77ab",
   "metadata": {},
   "source": [
    "nombre_infected       818\n",
    "nombre_sain          2084\n",
    "nombre_exposed        490\n",
    "nombre_recovered    16608\n",
    "Name: 581, dtype: int64"
   ]
  },
  {
   "cell_type": "markdown",
   "id": "778daeab",
   "metadata": {},
   "source": [
    "nombre_infected       817\n",
    "nombre_sain          2126\n",
    "nombre_exposed        492\n",
    "nombre_recovered    16565\n",
    "Name: 582, dtype: int64"
   ]
  },
  {
   "cell_type": "markdown",
   "id": "f486c12a",
   "metadata": {},
   "source": [
    "nombre_infected       810\n",
    "nombre_sain          2150\n",
    "nombre_exposed        490\n",
    "nombre_recovered    16550\n",
    "Name: 583, dtype: int64"
   ]
  },
  {
   "cell_type": "markdown",
   "id": "9175c62c",
   "metadata": {},
   "source": [
    "nombre_infected       798\n",
    "nombre_sain          2148\n",
    "nombre_exposed        511\n",
    "nombre_recovered    16543\n",
    "Name: 584, dtype: int64"
   ]
  },
  {
   "cell_type": "markdown",
   "id": "6e0860d3",
   "metadata": {},
   "source": [
    "nombre_infected       801\n",
    "nombre_sain          2171\n",
    "nombre_exposed        527\n",
    "nombre_recovered    16501\n",
    "Name: 585, dtype: int64"
   ]
  },
  {
   "cell_type": "markdown",
   "id": "9ded941e",
   "metadata": {},
   "source": [
    "nombre_infected       795\n",
    "nombre_sain          2200\n",
    "nombre_exposed        532\n",
    "nombre_recovered    16473\n",
    "Name: 586, dtype: int64"
   ]
  },
  {
   "cell_type": "markdown",
   "id": "38dbcbf5",
   "metadata": {},
   "source": [
    "nombre_infected       818\n",
    "nombre_sain          2212\n",
    "nombre_exposed        522\n",
    "nombre_recovered    16448\n",
    "Name: 587, dtype: int64"
   ]
  },
  {
   "cell_type": "markdown",
   "id": "af78c1c0",
   "metadata": {},
   "source": [
    "nombre_infected       818\n",
    "nombre_sain          2241\n",
    "nombre_exposed        528\n",
    "nombre_recovered    16413\n",
    "Name: 588, dtype: int64"
   ]
  },
  {
   "cell_type": "markdown",
   "id": "62efee7d",
   "metadata": {},
   "source": [
    "nombre_infected       798\n",
    "nombre_sain          2274\n",
    "nombre_exposed        537\n",
    "nombre_recovered    16391\n",
    "Name: 589, dtype: int64"
   ]
  },
  {
   "cell_type": "markdown",
   "id": "516d9d02",
   "metadata": {},
   "source": [
    "nombre_infected       810\n",
    "nombre_sain          2304\n",
    "nombre_exposed        531\n",
    "nombre_recovered    16355\n",
    "Name: 590, dtype: int64"
   ]
  },
  {
   "cell_type": "markdown",
   "id": "3c5615ef",
   "metadata": {},
   "source": [
    "nombre_infected       809\n",
    "nombre_sain          2292\n",
    "nombre_exposed        546\n",
    "nombre_recovered    16353\n",
    "Name: 591, dtype: int64"
   ]
  },
  {
   "cell_type": "markdown",
   "id": "4c8819a3",
   "metadata": {},
   "source": [
    "nombre_infected       825\n",
    "nombre_sain          2291\n",
    "nombre_exposed        545\n",
    "nombre_recovered    16339\n",
    "Name: 592, dtype: int64"
   ]
  },
  {
   "cell_type": "markdown",
   "id": "90497db7",
   "metadata": {},
   "source": [
    "nombre_infected       834\n",
    "nombre_sain          2306\n",
    "nombre_exposed        544\n",
    "nombre_recovered    16316\n",
    "Name: 593, dtype: int64"
   ]
  },
  {
   "cell_type": "markdown",
   "id": "5e9ee8de",
   "metadata": {},
   "source": [
    "nombre_infected       868\n",
    "nombre_sain          2338\n",
    "nombre_exposed        517\n",
    "nombre_recovered    16277\n",
    "Name: 594, dtype: int64"
   ]
  },
  {
   "cell_type": "markdown",
   "id": "1ef70170",
   "metadata": {},
   "source": [
    "nombre_infected       875\n",
    "nombre_sain          2336\n",
    "nombre_exposed        541\n",
    "nombre_recovered    16248\n",
    "Name: 595, dtype: int64"
   ]
  },
  {
   "cell_type": "markdown",
   "id": "25d3bc2b",
   "metadata": {},
   "source": [
    "nombre_infected       870\n",
    "nombre_sain          2320\n",
    "nombre_exposed        572\n",
    "nombre_recovered    16238\n",
    "Name: 596, dtype: int64"
   ]
  },
  {
   "cell_type": "markdown",
   "id": "600cc1ad",
   "metadata": {},
   "source": [
    "nombre_infected       881\n",
    "nombre_sain          2287\n",
    "nombre_exposed        604\n",
    "nombre_recovered    16228\n",
    "Name: 597, dtype: int64"
   ]
  },
  {
   "cell_type": "markdown",
   "id": "19005075",
   "metadata": {},
   "source": [
    "nombre_infected       884\n",
    "nombre_sain          2261\n",
    "nombre_exposed        634\n",
    "nombre_recovered    16221\n",
    "Name: 598, dtype: int64"
   ]
  },
  {
   "cell_type": "markdown",
   "id": "021582e5",
   "metadata": {},
   "source": [
    "nombre_infected       894\n",
    "nombre_sain          2218\n",
    "nombre_exposed        661\n",
    "nombre_recovered    16227\n",
    "Name: 599, dtype: int64"
   ]
  },
  {
   "cell_type": "markdown",
   "id": "c55a7f6c",
   "metadata": {},
   "source": [
    "nombre_infected       912\n",
    "nombre_sain          2218\n",
    "nombre_exposed        658\n",
    "nombre_recovered    16212\n",
    "Name: 600, dtype: int64"
   ]
  },
  {
   "cell_type": "markdown",
   "id": "54d743b2",
   "metadata": {},
   "source": [
    "nombre_infected       929\n",
    "nombre_sain          2187\n",
    "nombre_exposed        681\n",
    "nombre_recovered    16203\n",
    "Name: 601, dtype: int64"
   ]
  },
  {
   "cell_type": "markdown",
   "id": "5562c7c2",
   "metadata": {},
   "source": [
    "nombre_infected       937\n",
    "nombre_sain          2174\n",
    "nombre_exposed        677\n",
    "nombre_recovered    16212\n",
    "Name: 602, dtype: int64"
   ]
  },
  {
   "cell_type": "markdown",
   "id": "3cfa127d",
   "metadata": {},
   "source": [
    "nombre_infected       978\n",
    "nombre_sain          2171\n",
    "nombre_exposed        639\n",
    "nombre_recovered    16212\n",
    "Name: 603, dtype: int64"
   ]
  },
  {
   "cell_type": "markdown",
   "id": "6df9d7e8",
   "metadata": {},
   "source": [
    "nombre_infected       992\n",
    "nombre_sain          2164\n",
    "nombre_exposed        631\n",
    "nombre_recovered    16213\n",
    "Name: 604, dtype: int64"
   ]
  },
  {
   "cell_type": "markdown",
   "id": "ac87df50",
   "metadata": {},
   "source": [
    "nombre_infected       985\n",
    "nombre_sain          2176\n",
    "nombre_exposed        612\n",
    "nombre_recovered    16227\n",
    "Name: 605, dtype: int64"
   ]
  },
  {
   "cell_type": "markdown",
   "id": "f989f809",
   "metadata": {},
   "source": [
    "nombre_infected       979\n",
    "nombre_sain          2118\n",
    "nombre_exposed        647\n",
    "nombre_recovered    16256\n",
    "Name: 606, dtype: int64"
   ]
  },
  {
   "cell_type": "markdown",
   "id": "1fdad101",
   "metadata": {},
   "source": [
    "nombre_infected       981\n",
    "nombre_sain          2107\n",
    "nombre_exposed        665\n",
    "nombre_recovered    16247\n",
    "Name: 607, dtype: int64"
   ]
  },
  {
   "cell_type": "markdown",
   "id": "a9955ecc",
   "metadata": {},
   "source": [
    "nombre_infected       995\n",
    "nombre_sain          2079\n",
    "nombre_exposed        663\n",
    "nombre_recovered    16263\n",
    "Name: 608, dtype: int64"
   ]
  },
  {
   "cell_type": "markdown",
   "id": "032ca3a1",
   "metadata": {},
   "source": [
    "nombre_infected       979\n",
    "nombre_sain          2060\n",
    "nombre_exposed        683\n",
    "nombre_recovered    16278\n",
    "Name: 609, dtype: int64"
   ]
  },
  {
   "cell_type": "markdown",
   "id": "0dd0faba",
   "metadata": {},
   "source": [
    "nombre_infected       986\n",
    "nombre_sain          2074\n",
    "nombre_exposed        671\n",
    "nombre_recovered    16269\n",
    "Name: 610, dtype: int64"
   ]
  },
  {
   "cell_type": "markdown",
   "id": "1db03191",
   "metadata": {},
   "source": [
    "nombre_infected      1012\n",
    "nombre_sain          2043\n",
    "nombre_exposed        659\n",
    "nombre_recovered    16286\n",
    "Name: 611, dtype: int64"
   ]
  },
  {
   "cell_type": "markdown",
   "id": "cff89c50",
   "metadata": {},
   "source": [
    "nombre_infected      1055\n",
    "nombre_sain          2035\n",
    "nombre_exposed        632\n",
    "nombre_recovered    16278\n",
    "Name: 612, dtype: int64"
   ]
  },
  {
   "cell_type": "markdown",
   "id": "f3709549",
   "metadata": {},
   "source": [
    "nombre_infected      1064\n",
    "nombre_sain          2004\n",
    "nombre_exposed        650\n",
    "nombre_recovered    16282\n",
    "Name: 613, dtype: int64"
   ]
  },
  {
   "cell_type": "markdown",
   "id": "9ab19f50",
   "metadata": {},
   "source": [
    "nombre_infected      1019\n",
    "nombre_sain          2028\n",
    "nombre_exposed        659\n",
    "nombre_recovered    16294\n",
    "Name: 614, dtype: int64"
   ]
  },
  {
   "cell_type": "markdown",
   "id": "12e74d77",
   "metadata": {},
   "source": [
    "nombre_infected      1004\n",
    "nombre_sain          1994\n",
    "nombre_exposed        678\n",
    "nombre_recovered    16324\n",
    "Name: 615, dtype: int64"
   ]
  },
  {
   "cell_type": "markdown",
   "id": "23a04e30",
   "metadata": {},
   "source": [
    "nombre_infected      1007\n",
    "nombre_sain          1971\n",
    "nombre_exposed        679\n",
    "nombre_recovered    16343\n",
    "Name: 616, dtype: int64"
   ]
  },
  {
   "cell_type": "markdown",
   "id": "7b7f56a5",
   "metadata": {},
   "source": [
    "nombre_infected      1019\n",
    "nombre_sain          1965\n",
    "nombre_exposed        661\n",
    "nombre_recovered    16355\n",
    "Name: 617, dtype: int64"
   ]
  },
  {
   "cell_type": "markdown",
   "id": "51bfa736",
   "metadata": {},
   "source": [
    "nombre_infected      1046\n",
    "nombre_sain          1955\n",
    "nombre_exposed        657\n",
    "nombre_recovered    16342\n",
    "Name: 618, dtype: int64"
   ]
  },
  {
   "cell_type": "markdown",
   "id": "ec0c34cf",
   "metadata": {},
   "source": [
    "nombre_infected      1037\n",
    "nombre_sain          1975\n",
    "nombre_exposed        631\n",
    "nombre_recovered    16357\n",
    "Name: 619, dtype: int64"
   ]
  },
  {
   "cell_type": "markdown",
   "id": "44a5b869",
   "metadata": {},
   "source": [
    "nombre_infected      1042\n",
    "nombre_sain          1991\n",
    "nombre_exposed        614\n",
    "nombre_recovered    16353\n",
    "Name: 620, dtype: int64"
   ]
  },
  {
   "cell_type": "markdown",
   "id": "e67d65db",
   "metadata": {},
   "source": [
    "nombre_infected      1035\n",
    "nombre_sain          1969\n",
    "nombre_exposed        620\n",
    "nombre_recovered    16376\n",
    "Name: 621, dtype: int64"
   ]
  },
  {
   "cell_type": "markdown",
   "id": "0c3e5f39",
   "metadata": {},
   "source": [
    "nombre_infected      1017\n",
    "nombre_sain          1967\n",
    "nombre_exposed        637\n",
    "nombre_recovered    16379\n",
    "Name: 622, dtype: int64"
   ]
  },
  {
   "cell_type": "markdown",
   "id": "571c23cd",
   "metadata": {},
   "source": [
    "nombre_infected      1021\n",
    "nombre_sain          1929\n",
    "nombre_exposed        652\n",
    "nombre_recovered    16398\n",
    "Name: 623, dtype: int64"
   ]
  },
  {
   "cell_type": "markdown",
   "id": "4afb9ecc",
   "metadata": {},
   "source": [
    "nombre_infected      1018\n",
    "nombre_sain          1928\n",
    "nombre_exposed        653\n",
    "nombre_recovered    16401\n",
    "Name: 624, dtype: int64"
   ]
  },
  {
   "cell_type": "markdown",
   "id": "19e83e59",
   "metadata": {},
   "source": [
    "nombre_infected      1017\n",
    "nombre_sain          1919\n",
    "nombre_exposed        645\n",
    "nombre_recovered    16419\n",
    "Name: 625, dtype: int64"
   ]
  },
  {
   "cell_type": "markdown",
   "id": "f254da43",
   "metadata": {},
   "source": [
    "nombre_infected      1018\n",
    "nombre_sain          1927\n",
    "nombre_exposed        630\n",
    "nombre_recovered    16425\n",
    "Name: 626, dtype: int64"
   ]
  },
  {
   "cell_type": "markdown",
   "id": "57e008fd",
   "metadata": {},
   "source": [
    "nombre_infected       993\n",
    "nombre_sain          1909\n",
    "nombre_exposed        641\n",
    "nombre_recovered    16457\n",
    "Name: 627, dtype: int64"
   ]
  },
  {
   "cell_type": "markdown",
   "id": "f06f7fb7",
   "metadata": {},
   "source": [
    "nombre_infected       997\n",
    "nombre_sain          1884\n",
    "nombre_exposed        641\n",
    "nombre_recovered    16478\n",
    "Name: 628, dtype: int64"
   ]
  },
  {
   "cell_type": "markdown",
   "id": "1d86f72d",
   "metadata": {},
   "source": [
    "nombre_infected       999\n",
    "nombre_sain          1890\n",
    "nombre_exposed        613\n",
    "nombre_recovered    16498\n",
    "Name: 629, dtype: int64"
   ]
  },
  {
   "cell_type": "markdown",
   "id": "fea1e054",
   "metadata": {},
   "source": [
    "nombre_infected       981\n",
    "nombre_sain          1884\n",
    "nombre_exposed        597\n",
    "nombre_recovered    16538\n",
    "Name: 630, dtype: int64"
   ]
  },
  {
   "cell_type": "markdown",
   "id": "dbb1625b",
   "metadata": {},
   "source": [
    "nombre_infected       961\n",
    "nombre_sain          1893\n",
    "nombre_exposed        588\n",
    "nombre_recovered    16558\n",
    "Name: 631, dtype: int64"
   ]
  },
  {
   "cell_type": "markdown",
   "id": "eedd1577",
   "metadata": {},
   "source": [
    "nombre_infected       958\n",
    "nombre_sain          1896\n",
    "nombre_exposed        575\n",
    "nombre_recovered    16571\n",
    "Name: 632, dtype: int64"
   ]
  },
  {
   "cell_type": "markdown",
   "id": "c377ae65",
   "metadata": {},
   "source": [
    "nombre_infected       969\n",
    "nombre_sain          1893\n",
    "nombre_exposed        567\n",
    "nombre_recovered    16571\n",
    "Name: 633, dtype: int64"
   ]
  },
  {
   "cell_type": "markdown",
   "id": "d0d53542",
   "metadata": {},
   "source": [
    "nombre_infected       977\n",
    "nombre_sain          1918\n",
    "nombre_exposed        562\n",
    "nombre_recovered    16543\n",
    "Name: 634, dtype: int64"
   ]
  },
  {
   "cell_type": "markdown",
   "id": "a7970645",
   "metadata": {},
   "source": [
    "nombre_infected       937\n",
    "nombre_sain          1900\n",
    "nombre_exposed        579\n",
    "nombre_recovered    16584\n",
    "Name: 635, dtype: int64"
   ]
  },
  {
   "cell_type": "markdown",
   "id": "007dff16",
   "metadata": {},
   "source": [
    "nombre_infected       925\n",
    "nombre_sain          1878\n",
    "nombre_exposed        588\n",
    "nombre_recovered    16609\n",
    "Name: 636, dtype: int64"
   ]
  },
  {
   "cell_type": "markdown",
   "id": "479a85a8",
   "metadata": {},
   "source": [
    "nombre_infected       925\n",
    "nombre_sain          1879\n",
    "nombre_exposed        582\n",
    "nombre_recovered    16614\n",
    "Name: 637, dtype: int64"
   ]
  },
  {
   "cell_type": "markdown",
   "id": "f7e6c14f",
   "metadata": {},
   "source": [
    "nombre_infected       903\n",
    "nombre_sain          1888\n",
    "nombre_exposed        599\n",
    "nombre_recovered    16610\n",
    "Name: 638, dtype: int64"
   ]
  },
  {
   "cell_type": "markdown",
   "id": "d7a03936",
   "metadata": {},
   "source": [
    "nombre_infected       872\n",
    "nombre_sain          1915\n",
    "nombre_exposed        597\n",
    "nombre_recovered    16616\n",
    "Name: 639, dtype: int64"
   ]
  },
  {
   "cell_type": "markdown",
   "id": "3233b97b",
   "metadata": {},
   "source": [
    "nombre_infected       884\n",
    "nombre_sain          1915\n",
    "nombre_exposed        588\n",
    "nombre_recovered    16613\n",
    "Name: 640, dtype: int64"
   ]
  },
  {
   "cell_type": "markdown",
   "id": "8655f9c6",
   "metadata": {},
   "source": [
    "nombre_infected       887\n",
    "nombre_sain          1927\n",
    "nombre_exposed        581\n",
    "nombre_recovered    16605\n",
    "Name: 641, dtype: int64"
   ]
  },
  {
   "cell_type": "markdown",
   "id": "4cac9c7c",
   "metadata": {},
   "source": [
    "nombre_infected       878\n",
    "nombre_sain          1911\n",
    "nombre_exposed        582\n",
    "nombre_recovered    16629\n",
    "Name: 642, dtype: int64"
   ]
  },
  {
   "cell_type": "markdown",
   "id": "34059a3a",
   "metadata": {},
   "source": [
    "nombre_infected       860\n",
    "nombre_sain          1930\n",
    "nombre_exposed        574\n",
    "nombre_recovered    16636\n",
    "Name: 643, dtype: int64"
   ]
  },
  {
   "cell_type": "markdown",
   "id": "5b175529",
   "metadata": {},
   "source": [
    "nombre_infected       875\n",
    "nombre_sain          1946\n",
    "nombre_exposed        546\n",
    "nombre_recovered    16633\n",
    "Name: 644, dtype: int64"
   ]
  },
  {
   "cell_type": "markdown",
   "id": "b56753e4",
   "metadata": {},
   "source": [
    "nombre_infected       884\n",
    "nombre_sain          1979\n",
    "nombre_exposed        527\n",
    "nombre_recovered    16610\n",
    "Name: 645, dtype: int64"
   ]
  },
  {
   "cell_type": "markdown",
   "id": "345c9470",
   "metadata": {},
   "source": [
    "nombre_infected       882\n",
    "nombre_sain          1968\n",
    "nombre_exposed        529\n",
    "nombre_recovered    16621\n",
    "Name: 646, dtype: int64"
   ]
  },
  {
   "cell_type": "markdown",
   "id": "166b32b3",
   "metadata": {},
   "source": [
    "nombre_infected       851\n",
    "nombre_sain          1966\n",
    "nombre_exposed        539\n",
    "nombre_recovered    16644\n",
    "Name: 647, dtype: int64"
   ]
  },
  {
   "cell_type": "markdown",
   "id": "449bfd93",
   "metadata": {},
   "source": [
    "nombre_infected       809\n",
    "nombre_sain          1980\n",
    "nombre_exposed        547\n",
    "nombre_recovered    16664\n",
    "Name: 648, dtype: int64"
   ]
  },
  {
   "cell_type": "markdown",
   "id": "f212acfd",
   "metadata": {},
   "source": [
    "nombre_infected       788\n",
    "nombre_sain          1998\n",
    "nombre_exposed        567\n",
    "nombre_recovered    16647\n",
    "Name: 649, dtype: int64"
   ]
  },
  {
   "cell_type": "markdown",
   "id": "79c5590a",
   "metadata": {},
   "source": [
    "nombre_infected       771\n",
    "nombre_sain          1992\n",
    "nombre_exposed        578\n",
    "nombre_recovered    16659\n",
    "Name: 650, dtype: int64"
   ]
  },
  {
   "cell_type": "markdown",
   "id": "813d2f90",
   "metadata": {},
   "source": [
    "nombre_infected       766\n",
    "nombre_sain          2018\n",
    "nombre_exposed        561\n",
    "nombre_recovered    16655\n",
    "Name: 651, dtype: int64"
   ]
  },
  {
   "cell_type": "markdown",
   "id": "67f3c1cb",
   "metadata": {},
   "source": [
    "nombre_infected       771\n",
    "nombre_sain          2053\n",
    "nombre_exposed        559\n",
    "nombre_recovered    16617\n",
    "Name: 652, dtype: int64"
   ]
  },
  {
   "cell_type": "markdown",
   "id": "7b33c457",
   "metadata": {},
   "source": [
    "nombre_infected       753\n",
    "nombre_sain          2089\n",
    "nombre_exposed        559\n",
    "nombre_recovered    16599\n",
    "Name: 653, dtype: int64"
   ]
  },
  {
   "cell_type": "markdown",
   "id": "dbd35a7f",
   "metadata": {},
   "source": [
    "nombre_infected       748\n",
    "nombre_sain          2144\n",
    "nombre_exposed        548\n",
    "nombre_recovered    16560\n",
    "Name: 654, dtype: int64"
   ]
  },
  {
   "cell_type": "markdown",
   "id": "51570322",
   "metadata": {},
   "source": [
    "nombre_infected       772\n",
    "nombre_sain          2155\n",
    "nombre_exposed        534\n",
    "nombre_recovered    16539\n",
    "Name: 655, dtype: int64"
   ]
  },
  {
   "cell_type": "markdown",
   "id": "5aba1ea8",
   "metadata": {},
   "source": [
    "nombre_infected       748\n",
    "nombre_sain          2175\n",
    "nombre_exposed        549\n",
    "nombre_recovered    16528\n",
    "Name: 656, dtype: int64"
   ]
  },
  {
   "cell_type": "markdown",
   "id": "34400147",
   "metadata": {},
   "source": [
    "nombre_infected       740\n",
    "nombre_sain          2206\n",
    "nombre_exposed        542\n",
    "nombre_recovered    16512\n",
    "Name: 657, dtype: int64"
   ]
  },
  {
   "cell_type": "markdown",
   "id": "d22f82b8",
   "metadata": {},
   "source": [
    "nombre_infected       740\n",
    "nombre_sain          2230\n",
    "nombre_exposed        544\n",
    "nombre_recovered    16486\n",
    "Name: 658, dtype: int64"
   ]
  },
  {
   "cell_type": "markdown",
   "id": "c0813355",
   "metadata": {},
   "source": [
    "nombre_infected       759\n",
    "nombre_sain          2284\n",
    "nombre_exposed        536\n",
    "nombre_recovered    16421\n",
    "Name: 659, dtype: int64"
   ]
  },
  {
   "cell_type": "markdown",
   "id": "94865436",
   "metadata": {},
   "source": [
    "nombre_infected       775\n",
    "nombre_sain          2291\n",
    "nombre_exposed        558\n",
    "nombre_recovered    16376\n",
    "Name: 660, dtype: int64"
   ]
  },
  {
   "cell_type": "markdown",
   "id": "7fa9928d",
   "metadata": {},
   "source": [
    "nombre_infected       788\n",
    "nombre_sain          2322\n",
    "nombre_exposed        545\n",
    "nombre_recovered    16345\n",
    "Name: 661, dtype: int64"
   ]
  },
  {
   "cell_type": "markdown",
   "id": "09d99458",
   "metadata": {},
   "source": [
    "nombre_infected       792\n",
    "nombre_sain          2346\n",
    "nombre_exposed        575\n",
    "nombre_recovered    16287\n",
    "Name: 662, dtype: int64"
   ]
  },
  {
   "cell_type": "markdown",
   "id": "18921d46",
   "metadata": {},
   "source": [
    "nombre_infected       780\n",
    "nombre_sain          2360\n",
    "nombre_exposed        604\n",
    "nombre_recovered    16256\n",
    "Name: 663, dtype: int64"
   ]
  },
  {
   "cell_type": "markdown",
   "id": "76250871",
   "metadata": {},
   "source": [
    "nombre_infected       783\n",
    "nombre_sain          2397\n",
    "nombre_exposed        613\n",
    "nombre_recovered    16207\n",
    "Name: 664, dtype: int64"
   ]
  },
  {
   "cell_type": "markdown",
   "id": "be676739",
   "metadata": {},
   "source": [
    "nombre_infected       798\n",
    "nombre_sain          2424\n",
    "nombre_exposed        600\n",
    "nombre_recovered    16178\n",
    "Name: 665, dtype: int64"
   ]
  },
  {
   "cell_type": "markdown",
   "id": "c78273d1",
   "metadata": {},
   "source": [
    "nombre_infected       813\n",
    "nombre_sain          2437\n",
    "nombre_exposed        597\n",
    "nombre_recovered    16153\n",
    "Name: 666, dtype: int64"
   ]
  },
  {
   "cell_type": "markdown",
   "id": "72d8451c",
   "metadata": {},
   "source": [
    "nombre_infected       835\n",
    "nombre_sain          2421\n",
    "nombre_exposed        618\n",
    "nombre_recovered    16126\n",
    "Name: 667, dtype: int64"
   ]
  },
  {
   "cell_type": "markdown",
   "id": "3680225e",
   "metadata": {},
   "source": [
    "nombre_infected       828\n",
    "nombre_sain          2403\n",
    "nombre_exposed        653\n",
    "nombre_recovered    16116\n",
    "Name: 668, dtype: int64"
   ]
  },
  {
   "cell_type": "markdown",
   "id": "2ce2e067",
   "metadata": {},
   "source": [
    "nombre_infected       837\n",
    "nombre_sain          2405\n",
    "nombre_exposed        651\n",
    "nombre_recovered    16107\n",
    "Name: 669, dtype: int64"
   ]
  },
  {
   "cell_type": "markdown",
   "id": "68942001",
   "metadata": {},
   "source": [
    "nombre_infected       880\n",
    "nombre_sain          2407\n",
    "nombre_exposed        635\n",
    "nombre_recovered    16078\n",
    "Name: 670, dtype: int64"
   ]
  },
  {
   "cell_type": "markdown",
   "id": "f1326441",
   "metadata": {},
   "source": [
    "nombre_infected       884\n",
    "nombre_sain          2413\n",
    "nombre_exposed        635\n",
    "nombre_recovered    16068\n",
    "Name: 671, dtype: int64"
   ]
  },
  {
   "cell_type": "markdown",
   "id": "afbfa596",
   "metadata": {},
   "source": [
    "nombre_infected       907\n",
    "nombre_sain          2405\n",
    "nombre_exposed        635\n",
    "nombre_recovered    16053\n",
    "Name: 672, dtype: int64"
   ]
  },
  {
   "cell_type": "markdown",
   "id": "92e22ce4",
   "metadata": {},
   "source": [
    "nombre_infected       895\n",
    "nombre_sain          2417\n",
    "nombre_exposed        648\n",
    "nombre_recovered    16040\n",
    "Name: 673, dtype: int64"
   ]
  },
  {
   "cell_type": "markdown",
   "id": "f107af80",
   "metadata": {},
   "source": [
    "nombre_infected       916\n",
    "nombre_sain          2404\n",
    "nombre_exposed        654\n",
    "nombre_recovered    16026\n",
    "Name: 674, dtype: int64"
   ]
  },
  {
   "cell_type": "markdown",
   "id": "feb90169",
   "metadata": {},
   "source": [
    "nombre_infected       914\n",
    "nombre_sain          2398\n",
    "nombre_exposed        659\n",
    "nombre_recovered    16029\n",
    "Name: 675, dtype: int64"
   ]
  },
  {
   "cell_type": "markdown",
   "id": "00138151",
   "metadata": {},
   "source": [
    "nombre_infected       918\n",
    "nombre_sain          2379\n",
    "nombre_exposed        675\n",
    "nombre_recovered    16028\n",
    "Name: 676, dtype: int64"
   ]
  },
  {
   "cell_type": "markdown",
   "id": "df1cbf5a",
   "metadata": {},
   "source": [
    "nombre_infected       944\n",
    "nombre_sain          2368\n",
    "nombre_exposed        671\n",
    "nombre_recovered    16017\n",
    "Name: 677, dtype: int64"
   ]
  },
  {
   "cell_type": "markdown",
   "id": "e3e5e0ea",
   "metadata": {},
   "source": [
    "nombre_infected       957\n",
    "nombre_sain          2362\n",
    "nombre_exposed        653\n",
    "nombre_recovered    16028\n",
    "Name: 678, dtype: int64"
   ]
  },
  {
   "cell_type": "markdown",
   "id": "d34bb358",
   "metadata": {},
   "source": [
    "nombre_infected       966\n",
    "nombre_sain          2351\n",
    "nombre_exposed        682\n",
    "nombre_recovered    16001\n",
    "Name: 679, dtype: int64"
   ]
  },
  {
   "cell_type": "markdown",
   "id": "7a280129",
   "metadata": {},
   "source": [
    "nombre_infected       961\n",
    "nombre_sain          2340\n",
    "nombre_exposed        700\n",
    "nombre_recovered    15999\n",
    "Name: 680, dtype: int64"
   ]
  },
  {
   "cell_type": "markdown",
   "id": "941614bf",
   "metadata": {},
   "source": [
    "nombre_infected       982\n",
    "nombre_sain          2328\n",
    "nombre_exposed        707\n",
    "nombre_recovered    15983\n",
    "Name: 681, dtype: int64"
   ]
  },
  {
   "cell_type": "markdown",
   "id": "deac8636",
   "metadata": {},
   "source": [
    "nombre_infected      1018\n",
    "nombre_sain          2313\n",
    "nombre_exposed        707\n",
    "nombre_recovered    15962\n",
    "Name: 682, dtype: int64"
   ]
  },
  {
   "cell_type": "markdown",
   "id": "5dec58e5",
   "metadata": {},
   "source": [
    "nombre_infected      1039\n",
    "nombre_sain          2304\n",
    "nombre_exposed        708\n",
    "nombre_recovered    15949\n",
    "Name: 683, dtype: int64"
   ]
  },
  {
   "cell_type": "markdown",
   "id": "4ffe5fa2",
   "metadata": {},
   "source": [
    "nombre_infected      1037\n",
    "nombre_sain          2297\n",
    "nombre_exposed        701\n",
    "nombre_recovered    15965\n",
    "Name: 684, dtype: int64"
   ]
  },
  {
   "cell_type": "markdown",
   "id": "6ab72001",
   "metadata": {},
   "source": [
    "nombre_infected      1043\n",
    "nombre_sain          2267\n",
    "nombre_exposed        731\n",
    "nombre_recovered    15959\n",
    "Name: 685, dtype: int64"
   ]
  },
  {
   "cell_type": "markdown",
   "id": "0913bcf5",
   "metadata": {},
   "source": [
    "nombre_infected      1043\n",
    "nombre_sain          2254\n",
    "nombre_exposed        734\n",
    "nombre_recovered    15969\n",
    "Name: 686, dtype: int64"
   ]
  },
  {
   "cell_type": "markdown",
   "id": "ae7625d8",
   "metadata": {},
   "source": [
    "nombre_infected      1067\n",
    "nombre_sain          2245\n",
    "nombre_exposed        734\n",
    "nombre_recovered    15954\n",
    "Name: 687, dtype: int64"
   ]
  },
  {
   "cell_type": "markdown",
   "id": "49974546",
   "metadata": {},
   "source": [
    "nombre_infected      1090\n",
    "nombre_sain          2235\n",
    "nombre_exposed        730\n",
    "nombre_recovered    15945\n",
    "Name: 688, dtype: int64"
   ]
  },
  {
   "cell_type": "markdown",
   "id": "e51a7886",
   "metadata": {},
   "source": [
    "nombre_infected      1110\n",
    "nombre_sain          2189\n",
    "nombre_exposed        727\n",
    "nombre_recovered    15974\n",
    "Name: 689, dtype: int64"
   ]
  },
  {
   "cell_type": "markdown",
   "id": "c9c859b6",
   "metadata": {},
   "source": [
    "nombre_infected      1124\n",
    "nombre_sain          2178\n",
    "nombre_exposed        721\n",
    "nombre_recovered    15977\n",
    "Name: 690, dtype: int64"
   ]
  },
  {
   "cell_type": "markdown",
   "id": "a09fbfe2",
   "metadata": {},
   "source": [
    "nombre_infected      1110\n",
    "nombre_sain          2129\n",
    "nombre_exposed        748\n",
    "nombre_recovered    16013\n",
    "Name: 691, dtype: int64"
   ]
  },
  {
   "cell_type": "markdown",
   "id": "c6dabe82",
   "metadata": {},
   "source": [
    "nombre_infected      1102\n",
    "nombre_sain          2113\n",
    "nombre_exposed        755\n",
    "nombre_recovered    16030\n",
    "Name: 692, dtype: int64"
   ]
  },
  {
   "cell_type": "markdown",
   "id": "8c0af4c0",
   "metadata": {},
   "source": [
    "nombre_infected      1127\n",
    "nombre_sain          2070\n",
    "nombre_exposed        739\n",
    "nombre_recovered    16064\n",
    "Name: 693, dtype: int64"
   ]
  },
  {
   "cell_type": "markdown",
   "id": "b4e07f9b",
   "metadata": {},
   "source": [
    "nombre_infected      1106\n",
    "nombre_sain          2069\n",
    "nombre_exposed        713\n",
    "nombre_recovered    16112\n",
    "Name: 694, dtype: int64"
   ]
  },
  {
   "cell_type": "markdown",
   "id": "5cce4ed4",
   "metadata": {},
   "source": [
    "nombre_infected      1065\n",
    "nombre_sain          2038\n",
    "nombre_exposed        708\n",
    "nombre_recovered    16189\n",
    "Name: 695, dtype: int64"
   ]
  },
  {
   "cell_type": "markdown",
   "id": "cc429062",
   "metadata": {},
   "source": [
    "nombre_infected      1079\n",
    "nombre_sain          2025\n",
    "nombre_exposed        683\n",
    "nombre_recovered    16213\n",
    "Name: 696, dtype: int64"
   ]
  },
  {
   "cell_type": "markdown",
   "id": "9a7cf68d",
   "metadata": {},
   "source": [
    "nombre_infected      1071\n",
    "nombre_sain          2005\n",
    "nombre_exposed        683\n",
    "nombre_recovered    16241\n",
    "Name: 697, dtype: int64"
   ]
  },
  {
   "cell_type": "markdown",
   "id": "abb0c330",
   "metadata": {},
   "source": [
    "nombre_infected      1056\n",
    "nombre_sain          1984\n",
    "nombre_exposed        664\n",
    "nombre_recovered    16296\n",
    "Name: 698, dtype: int64"
   ]
  },
  {
   "cell_type": "markdown",
   "id": "e369491a",
   "metadata": {},
   "source": [
    "nombre_infected      1030\n",
    "nombre_sain          1999\n",
    "nombre_exposed        646\n",
    "nombre_recovered    16325\n",
    "Name: 699, dtype: int64"
   ]
  },
  {
   "cell_type": "markdown",
   "id": "d281e82a",
   "metadata": {},
   "source": [
    "nombre_infected      1006\n",
    "nombre_sain          1982\n",
    "nombre_exposed        635\n",
    "nombre_recovered    16377\n",
    "Name: 700, dtype: int64"
   ]
  },
  {
   "cell_type": "markdown",
   "id": "9317677e",
   "metadata": {},
   "source": [
    "nombre_infected       966\n",
    "nombre_sain          2014\n",
    "nombre_exposed        614\n",
    "nombre_recovered    16406\n",
    "Name: 701, dtype: int64"
   ]
  },
  {
   "cell_type": "markdown",
   "id": "b0207050",
   "metadata": {},
   "source": [
    "nombre_infected       986\n",
    "nombre_sain          1992\n",
    "nombre_exposed        617\n",
    "nombre_recovered    16405\n",
    "Name: 702, dtype: int64"
   ]
  },
  {
   "cell_type": "markdown",
   "id": "1cdb1124",
   "metadata": {},
   "source": [
    "nombre_infected       961\n",
    "nombre_sain          1990\n",
    "nombre_exposed        622\n",
    "nombre_recovered    16427\n",
    "Name: 703, dtype: int64"
   ]
  },
  {
   "cell_type": "markdown",
   "id": "268ccdd2",
   "metadata": {},
   "source": [
    "nombre_infected       962\n",
    "nombre_sain          1982\n",
    "nombre_exposed        614\n",
    "nombre_recovered    16442\n",
    "Name: 704, dtype: int64"
   ]
  },
  {
   "cell_type": "markdown",
   "id": "f55e0102",
   "metadata": {},
   "source": [
    "nombre_infected       966\n",
    "nombre_sain          1954\n",
    "nombre_exposed        597\n",
    "nombre_recovered    16483\n",
    "Name: 705, dtype: int64"
   ]
  },
  {
   "cell_type": "markdown",
   "id": "24431bba",
   "metadata": {},
   "source": [
    "nombre_infected       961\n",
    "nombre_sain          1960\n",
    "nombre_exposed        578\n",
    "nombre_recovered    16501\n",
    "Name: 706, dtype: int64"
   ]
  },
  {
   "cell_type": "markdown",
   "id": "ac4bb5ab",
   "metadata": {},
   "source": [
    "nombre_infected       925\n",
    "nombre_sain          1948\n",
    "nombre_exposed        587\n",
    "nombre_recovered    16540\n",
    "Name: 707, dtype: int64"
   ]
  },
  {
   "cell_type": "markdown",
   "id": "37247b24",
   "metadata": {},
   "source": [
    "nombre_infected       906\n",
    "nombre_sain          1944\n",
    "nombre_exposed        602\n",
    "nombre_recovered    16548\n",
    "Name: 708, dtype: int64"
   ]
  },
  {
   "cell_type": "markdown",
   "id": "93b4b797",
   "metadata": {},
   "source": [
    "nombre_infected       910\n",
    "nombre_sain          1951\n",
    "nombre_exposed        592\n",
    "nombre_recovered    16547\n",
    "Name: 709, dtype: int64"
   ]
  },
  {
   "cell_type": "markdown",
   "id": "048f9e1d",
   "metadata": {},
   "source": [
    "nombre_infected       883\n",
    "nombre_sain          1972\n",
    "nombre_exposed        572\n",
    "nombre_recovered    16573\n",
    "Name: 710, dtype: int64"
   ]
  },
  {
   "cell_type": "markdown",
   "id": "ad33cdd5",
   "metadata": {},
   "source": [
    "nombre_infected       895\n",
    "nombre_sain          1960\n",
    "nombre_exposed        574\n",
    "nombre_recovered    16571\n",
    "Name: 711, dtype: int64"
   ]
  },
  {
   "cell_type": "markdown",
   "id": "747bc31f",
   "metadata": {},
   "source": [
    "nombre_infected       891\n",
    "nombre_sain          1984\n",
    "nombre_exposed        559\n",
    "nombre_recovered    16566\n",
    "Name: 712, dtype: int64"
   ]
  },
  {
   "cell_type": "markdown",
   "id": "4d1ec798",
   "metadata": {},
   "source": [
    "nombre_infected       859\n",
    "nombre_sain          2012\n",
    "nombre_exposed        551\n",
    "nombre_recovered    16578\n",
    "Name: 713, dtype: int64"
   ]
  },
  {
   "cell_type": "markdown",
   "id": "8f0888b1",
   "metadata": {},
   "source": [
    "nombre_infected       873\n",
    "nombre_sain          2009\n",
    "nombre_exposed        545\n",
    "nombre_recovered    16573\n",
    "Name: 714, dtype: int64"
   ]
  },
  {
   "cell_type": "markdown",
   "id": "094d16ec",
   "metadata": {},
   "source": [
    "nombre_infected       872\n",
    "nombre_sain          2044\n",
    "nombre_exposed        539\n",
    "nombre_recovered    16545\n",
    "Name: 715, dtype: int64"
   ]
  },
  {
   "cell_type": "markdown",
   "id": "5dd03563",
   "metadata": {},
   "source": [
    "nombre_infected       863\n",
    "nombre_sain          2051\n",
    "nombre_exposed        538\n",
    "nombre_recovered    16548\n",
    "Name: 716, dtype: int64"
   ]
  },
  {
   "cell_type": "markdown",
   "id": "08fa1b20",
   "metadata": {},
   "source": [
    "nombre_infected       859\n",
    "nombre_sain          2045\n",
    "nombre_exposed        557\n",
    "nombre_recovered    16539\n",
    "Name: 717, dtype: int64"
   ]
  },
  {
   "cell_type": "markdown",
   "id": "f731bde6",
   "metadata": {},
   "source": [
    "nombre_infected       855\n",
    "nombre_sain          2049\n",
    "nombre_exposed        584\n",
    "nombre_recovered    16512\n",
    "Name: 718, dtype: int64"
   ]
  },
  {
   "cell_type": "markdown",
   "id": "0ca4f8de",
   "metadata": {},
   "source": [
    "nombre_infected       844\n",
    "nombre_sain          2065\n",
    "nombre_exposed        572\n",
    "nombre_recovered    16519\n",
    "Name: 719, dtype: int64"
   ]
  },
  {
   "cell_type": "markdown",
   "id": "5650d152",
   "metadata": {},
   "source": [
    "nombre_infected       840\n",
    "nombre_sain          2077\n",
    "nombre_exposed        560\n",
    "nombre_recovered    16523\n",
    "Name: 720, dtype: int64"
   ]
  },
  {
   "cell_type": "markdown",
   "id": "75b4fd74",
   "metadata": {},
   "source": [
    "nombre_infected       842\n",
    "nombre_sain          2108\n",
    "nombre_exposed        539\n",
    "nombre_recovered    16511\n",
    "Name: 721, dtype: int64"
   ]
  },
  {
   "cell_type": "markdown",
   "id": "59bab9fe",
   "metadata": {},
   "source": [
    "nombre_infected       864\n",
    "nombre_sain          2094\n",
    "nombre_exposed        530\n",
    "nombre_recovered    16512\n",
    "Name: 722, dtype: int64"
   ]
  },
  {
   "cell_type": "markdown",
   "id": "d09d22c0",
   "metadata": {},
   "source": [
    "nombre_infected       842\n",
    "nombre_sain          2131\n",
    "nombre_exposed        546\n",
    "nombre_recovered    16481\n",
    "Name: 723, dtype: int64"
   ]
  },
  {
   "cell_type": "markdown",
   "id": "8c0956a3",
   "metadata": {},
   "source": [
    "nombre_infected       817\n",
    "nombre_sain          2140\n",
    "nombre_exposed        547\n",
    "nombre_recovered    16496\n",
    "Name: 724, dtype: int64"
   ]
  },
  {
   "cell_type": "markdown",
   "id": "642a2cda",
   "metadata": {},
   "source": [
    "nombre_infected       822\n",
    "nombre_sain          2174\n",
    "nombre_exposed        539\n",
    "nombre_recovered    16465\n",
    "Name: 725, dtype: int64"
   ]
  },
  {
   "cell_type": "markdown",
   "id": "88c953cb",
   "metadata": {},
   "source": [
    "nombre_infected       825\n",
    "nombre_sain          2203\n",
    "nombre_exposed        529\n",
    "nombre_recovered    16443\n",
    "Name: 726, dtype: int64"
   ]
  },
  {
   "cell_type": "markdown",
   "id": "ad42145b",
   "metadata": {},
   "source": [
    "nombre_infected       807\n",
    "nombre_sain          2210\n",
    "nombre_exposed        538\n",
    "nombre_recovered    16445\n",
    "Name: 727, dtype: int64"
   ]
  },
  {
   "cell_type": "markdown",
   "id": "f81eb9dc",
   "metadata": {},
   "source": [
    "nombre_infected       821\n",
    "nombre_sain          2235\n",
    "nombre_exposed        541\n",
    "nombre_recovered    16403\n",
    "Name: 728, dtype: int64"
   ]
  },
  {
   "cell_type": "markdown",
   "id": "9bc848c6",
   "metadata": {},
   "source": [
    "nombre_infected       840\n",
    "nombre_sain          2241\n",
    "nombre_exposed        548\n",
    "nombre_recovered    16371\n",
    "Name: 729, dtype: int64"
   ]
  },
  {
   "cell_type": "markdown",
   "id": "4b462ac1",
   "metadata": {},
   "source": [
    "nombre_infected       845\n",
    "nombre_sain          2274\n",
    "nombre_exposed        543\n",
    "nombre_recovered    16338\n",
    "Name: 730, dtype: int64"
   ]
  }
 ],
 "metadata": {},
 "nbformat": 4,
 "nbformat_minor": 5
}
