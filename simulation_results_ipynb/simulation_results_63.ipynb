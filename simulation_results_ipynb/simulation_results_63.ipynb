{
 "cells": [
  {
   "cell_type": "markdown",
   "id": "a7d2cdd0",
   "metadata": {},
   "source": [
    "nombre_infected        20\n",
    "nombre_sain         19980\n",
    "nombre_exposed          0\n",
    "nombre_recovered        0\n",
    "Name: 0, dtype: int64"
   ]
  },
  {
   "cell_type": "markdown",
   "id": "2f97e48e",
   "metadata": {},
   "source": [
    "nombre_infected        20\n",
    "nombre_sain         19966\n",
    "nombre_exposed         14\n",
    "nombre_recovered        0\n",
    "Name: 1, dtype: int64"
   ]
  },
  {
   "cell_type": "markdown",
   "id": "7286b1b0",
   "metadata": {},
   "source": [
    "nombre_infected        20\n",
    "nombre_sain         19937\n",
    "nombre_exposed         43\n",
    "nombre_recovered        0\n",
    "Name: 2, dtype: int64"
   ]
  },
  {
   "cell_type": "markdown",
   "id": "75e33eef",
   "metadata": {},
   "source": [
    "nombre_infected        24\n",
    "nombre_sain         19907\n",
    "nombre_exposed         69\n",
    "nombre_recovered        0\n",
    "Name: 3, dtype: int64"
   ]
  },
  {
   "cell_type": "markdown",
   "id": "66c7d05c",
   "metadata": {},
   "source": [
    "nombre_infected        40\n",
    "nombre_sain         19877\n",
    "nombre_exposed         83\n",
    "nombre_recovered        0\n",
    "Name: 4, dtype: int64"
   ]
  },
  {
   "cell_type": "markdown",
   "id": "a3a20b41",
   "metadata": {},
   "source": [
    "nombre_infected        55\n",
    "nombre_sain         19816\n",
    "nombre_exposed        129\n",
    "nombre_recovered        0\n",
    "Name: 5, dtype: int64"
   ]
  },
  {
   "cell_type": "markdown",
   "id": "b3b86829",
   "metadata": {},
   "source": [
    "nombre_infected        73\n",
    "nombre_sain         19729\n",
    "nombre_exposed        195\n",
    "nombre_recovered        3\n",
    "Name: 6, dtype: int64"
   ]
  },
  {
   "cell_type": "markdown",
   "id": "0bc32674",
   "metadata": {},
   "source": [
    "nombre_infected       104\n",
    "nombre_sain         19616\n",
    "nombre_exposed        271\n",
    "nombre_recovered        9\n",
    "Name: 7, dtype: int64"
   ]
  },
  {
   "cell_type": "markdown",
   "id": "16991262",
   "metadata": {},
   "source": [
    "nombre_infected       145\n",
    "nombre_sain         19464\n",
    "nombre_exposed        378\n",
    "nombre_recovered       13\n",
    "Name: 8, dtype: int64"
   ]
  },
  {
   "cell_type": "markdown",
   "id": "68974948",
   "metadata": {},
   "source": [
    "nombre_infected       208\n",
    "nombre_sain         19242\n",
    "nombre_exposed        530\n",
    "nombre_recovered       20\n",
    "Name: 9, dtype: int64"
   ]
  },
  {
   "cell_type": "markdown",
   "id": "076a2ce9",
   "metadata": {},
   "source": [
    "nombre_infected       293\n",
    "nombre_sain         18969\n",
    "nombre_exposed        702\n",
    "nombre_recovered       36\n",
    "Name: 10, dtype: int64"
   ]
  },
  {
   "cell_type": "markdown",
   "id": "e3161fad",
   "metadata": {},
   "source": [
    "nombre_infected       389\n",
    "nombre_sain         18603\n",
    "nombre_exposed        948\n",
    "nombre_recovered       60\n",
    "Name: 11, dtype: int64"
   ]
  },
  {
   "cell_type": "markdown",
   "id": "a6afee85",
   "metadata": {},
   "source": [
    "nombre_infected       524\n",
    "nombre_sain         18136\n",
    "nombre_exposed       1249\n",
    "nombre_recovered       91\n",
    "Name: 12, dtype: int64"
   ]
  },
  {
   "cell_type": "markdown",
   "id": "8ac67c36",
   "metadata": {},
   "source": [
    "nombre_infected       714\n",
    "nombre_sain         17480\n",
    "nombre_exposed       1678\n",
    "nombre_recovered      128\n",
    "Name: 13, dtype: int64"
   ]
  },
  {
   "cell_type": "markdown",
   "id": "cdb9ee79",
   "metadata": {},
   "source": [
    "nombre_infected       965\n",
    "nombre_sain         16587\n",
    "nombre_exposed       2256\n",
    "nombre_recovered      192\n",
    "Name: 14, dtype: int64"
   ]
  },
  {
   "cell_type": "markdown",
   "id": "051c603a",
   "metadata": {},
   "source": [
    "nombre_infected      1269\n",
    "nombre_sain         15559\n",
    "nombre_exposed       2881\n",
    "nombre_recovered      291\n",
    "Name: 15, dtype: int64"
   ]
  },
  {
   "cell_type": "markdown",
   "id": "5f7963ae",
   "metadata": {},
   "source": [
    "nombre_infected      1702\n",
    "nombre_sain         14282\n",
    "nombre_exposed       3599\n",
    "nombre_recovered      417\n",
    "Name: 16, dtype: int64"
   ]
  },
  {
   "cell_type": "markdown",
   "id": "394625af",
   "metadata": {},
   "source": [
    "nombre_infected      2261\n",
    "nombre_sain         12759\n",
    "nombre_exposed       4413\n",
    "nombre_recovered      567\n",
    "Name: 17, dtype: int64"
   ]
  },
  {
   "cell_type": "markdown",
   "id": "613d5e1b",
   "metadata": {},
   "source": [
    "nombre_infected      2918\n",
    "nombre_sain         11137\n",
    "nombre_exposed       5171\n",
    "nombre_recovered      774\n",
    "Name: 18, dtype: int64"
   ]
  },
  {
   "cell_type": "markdown",
   "id": "cc4b1a60",
   "metadata": {},
   "source": [
    "nombre_infected     3684\n",
    "nombre_sain         9311\n",
    "nombre_exposed      5941\n",
    "nombre_recovered    1064\n",
    "Name: 19, dtype: int64"
   ]
  },
  {
   "cell_type": "markdown",
   "id": "6710646f",
   "metadata": {},
   "source": [
    "nombre_infected     4600\n",
    "nombre_sain         7457\n",
    "nombre_exposed      6514\n",
    "nombre_recovered    1429\n",
    "Name: 20, dtype: int64"
   ]
  },
  {
   "cell_type": "markdown",
   "id": "5e6a1635",
   "metadata": {},
   "source": [
    "nombre_infected     5526\n",
    "nombre_sain         5752\n",
    "nombre_exposed      6835\n",
    "nombre_recovered    1887\n",
    "Name: 21, dtype: int64"
   ]
  },
  {
   "cell_type": "markdown",
   "id": "57b36633",
   "metadata": {},
   "source": [
    "nombre_infected     6490\n",
    "nombre_sain         4304\n",
    "nombre_exposed      6759\n",
    "nombre_recovered    2447\n",
    "Name: 22, dtype: int64"
   ]
  },
  {
   "cell_type": "markdown",
   "id": "388b72f3",
   "metadata": {},
   "source": [
    "nombre_infected     7453\n",
    "nombre_sain         3094\n",
    "nombre_exposed      6358\n",
    "nombre_recovered    3095\n",
    "Name: 23, dtype: int64"
   ]
  },
  {
   "cell_type": "markdown",
   "id": "99d13b2a",
   "metadata": {},
   "source": [
    "nombre_infected     8168\n",
    "nombre_sain         2171\n",
    "nombre_exposed      5722\n",
    "nombre_recovered    3939\n",
    "Name: 24, dtype: int64"
   ]
  },
  {
   "cell_type": "markdown",
   "id": "73830001",
   "metadata": {},
   "source": [
    "nombre_infected     8673\n",
    "nombre_sain         1499\n",
    "nombre_exposed      4984\n",
    "nombre_recovered    4844\n",
    "Name: 25, dtype: int64"
   ]
  },
  {
   "cell_type": "markdown",
   "id": "c8eb552d",
   "metadata": {},
   "source": [
    "nombre_infected     9041\n",
    "nombre_sain         1004\n",
    "nombre_exposed      4142\n",
    "nombre_recovered    5813\n",
    "Name: 26, dtype: int64"
   ]
  },
  {
   "cell_type": "markdown",
   "id": "50ff04a9",
   "metadata": {},
   "source": [
    "nombre_infected     9135\n",
    "nombre_sain          672\n",
    "nombre_exposed      3389\n",
    "nombre_recovered    6804\n",
    "Name: 27, dtype: int64"
   ]
  },
  {
   "cell_type": "markdown",
   "id": "708157b5",
   "metadata": {},
   "source": [
    "nombre_infected     9006\n",
    "nombre_sain          464\n",
    "nombre_exposed      2686\n",
    "nombre_recovered    7844\n",
    "Name: 28, dtype: int64"
   ]
  },
  {
   "cell_type": "markdown",
   "id": "bb01411c",
   "metadata": {},
   "source": [
    "nombre_infected     8756\n",
    "nombre_sain          322\n",
    "nombre_exposed      2069\n",
    "nombre_recovered    8853\n",
    "Name: 29, dtype: int64"
   ]
  },
  {
   "cell_type": "markdown",
   "id": "b2b98e99",
   "metadata": {},
   "source": [
    "nombre_infected     8320\n",
    "nombre_sain          235\n",
    "nombre_exposed      1630\n",
    "nombre_recovered    9815\n",
    "Name: 30, dtype: int64"
   ]
  },
  {
   "cell_type": "markdown",
   "id": "517a214b",
   "metadata": {},
   "source": [
    "nombre_infected      7837\n",
    "nombre_sain           180\n",
    "nombre_exposed       1218\n",
    "nombre_recovered    10765\n",
    "Name: 31, dtype: int64"
   ]
  },
  {
   "cell_type": "markdown",
   "id": "c583bc7d",
   "metadata": {},
   "source": [
    "nombre_infected      7203\n",
    "nombre_sain           155\n",
    "nombre_exposed        902\n",
    "nombre_recovered    11740\n",
    "Name: 32, dtype: int64"
   ]
  },
  {
   "cell_type": "markdown",
   "id": "a46994fe",
   "metadata": {},
   "source": [
    "nombre_infected      6601\n",
    "nombre_sain           158\n",
    "nombre_exposed        644\n",
    "nombre_recovered    12597\n",
    "Name: 33, dtype: int64"
   ]
  },
  {
   "cell_type": "markdown",
   "id": "f9326edc",
   "metadata": {},
   "source": [
    "nombre_infected      6007\n",
    "nombre_sain           160\n",
    "nombre_exposed        461\n",
    "nombre_recovered    13372\n",
    "Name: 34, dtype: int64"
   ]
  },
  {
   "cell_type": "markdown",
   "id": "5328abfb",
   "metadata": {},
   "source": [
    "nombre_infected      5409\n",
    "nombre_sain           158\n",
    "nombre_exposed        349\n",
    "nombre_recovered    14084\n",
    "Name: 35, dtype: int64"
   ]
  },
  {
   "cell_type": "markdown",
   "id": "58bfa7c9",
   "metadata": {},
   "source": [
    "nombre_infected      4869\n",
    "nombre_sain           179\n",
    "nombre_exposed        268\n",
    "nombre_recovered    14684\n",
    "Name: 36, dtype: int64"
   ]
  },
  {
   "cell_type": "markdown",
   "id": "ddd615bc",
   "metadata": {},
   "source": [
    "nombre_infected      4425\n",
    "nombre_sain           178\n",
    "nombre_exposed        235\n",
    "nombre_recovered    15162\n",
    "Name: 37, dtype: int64"
   ]
  },
  {
   "cell_type": "markdown",
   "id": "24ff3e62",
   "metadata": {},
   "source": [
    "nombre_infected      3994\n",
    "nombre_sain           206\n",
    "nombre_exposed        198\n",
    "nombre_recovered    15602\n",
    "Name: 38, dtype: int64"
   ]
  },
  {
   "cell_type": "markdown",
   "id": "2ca5c888",
   "metadata": {},
   "source": [
    "nombre_infected      3575\n",
    "nombre_sain           207\n",
    "nombre_exposed        177\n",
    "nombre_recovered    16041\n",
    "Name: 39, dtype: int64"
   ]
  },
  {
   "cell_type": "markdown",
   "id": "1323f2f8",
   "metadata": {},
   "source": [
    "nombre_infected      3242\n",
    "nombre_sain           249\n",
    "nombre_exposed        161\n",
    "nombre_recovered    16348\n",
    "Name: 40, dtype: int64"
   ]
  },
  {
   "cell_type": "markdown",
   "id": "dc43abb1",
   "metadata": {},
   "source": [
    "nombre_infected      2904\n",
    "nombre_sain           289\n",
    "nombre_exposed        150\n",
    "nombre_recovered    16657\n",
    "Name: 41, dtype: int64"
   ]
  },
  {
   "cell_type": "markdown",
   "id": "a6748949",
   "metadata": {},
   "source": [
    "nombre_infected      2618\n",
    "nombre_sain           323\n",
    "nombre_exposed        153\n",
    "nombre_recovered    16906\n",
    "Name: 42, dtype: int64"
   ]
  },
  {
   "cell_type": "markdown",
   "id": "ff858305",
   "metadata": {},
   "source": [
    "nombre_infected      2372\n",
    "nombre_sain           358\n",
    "nombre_exposed        160\n",
    "nombre_recovered    17110\n",
    "Name: 43, dtype: int64"
   ]
  },
  {
   "cell_type": "markdown",
   "id": "ddc83b65",
   "metadata": {},
   "source": [
    "nombre_infected      2173\n",
    "nombre_sain           412\n",
    "nombre_exposed        148\n",
    "nombre_recovered    17267\n",
    "Name: 44, dtype: int64"
   ]
  },
  {
   "cell_type": "markdown",
   "id": "5463bee5",
   "metadata": {},
   "source": [
    "nombre_infected      1991\n",
    "nombre_sain           434\n",
    "nombre_exposed        152\n",
    "nombre_recovered    17423\n",
    "Name: 45, dtype: int64"
   ]
  },
  {
   "cell_type": "markdown",
   "id": "6d188315",
   "metadata": {},
   "source": [
    "nombre_infected      1793\n",
    "nombre_sain           479\n",
    "nombre_exposed        161\n",
    "nombre_recovered    17567\n",
    "Name: 46, dtype: int64"
   ]
  },
  {
   "cell_type": "markdown",
   "id": "ca924a44",
   "metadata": {},
   "source": [
    "nombre_infected      1659\n",
    "nombre_sain           526\n",
    "nombre_exposed        163\n",
    "nombre_recovered    17652\n",
    "Name: 47, dtype: int64"
   ]
  },
  {
   "cell_type": "markdown",
   "id": "854aceae",
   "metadata": {},
   "source": [
    "nombre_infected      1507\n",
    "nombre_sain           582\n",
    "nombre_exposed        178\n",
    "nombre_recovered    17733\n",
    "Name: 48, dtype: int64"
   ]
  },
  {
   "cell_type": "markdown",
   "id": "8c88dea0",
   "metadata": {},
   "source": [
    "nombre_infected      1374\n",
    "nombre_sain           617\n",
    "nombre_exposed        171\n",
    "nombre_recovered    17838\n",
    "Name: 49, dtype: int64"
   ]
  },
  {
   "cell_type": "markdown",
   "id": "6175074a",
   "metadata": {},
   "source": [
    "nombre_infected      1263\n",
    "nombre_sain           658\n",
    "nombre_exposed        181\n",
    "nombre_recovered    17898\n",
    "Name: 50, dtype: int64"
   ]
  },
  {
   "cell_type": "markdown",
   "id": "97c6d478",
   "metadata": {},
   "source": [
    "nombre_infected      1163\n",
    "nombre_sain           706\n",
    "nombre_exposed        196\n",
    "nombre_recovered    17935\n",
    "Name: 51, dtype: int64"
   ]
  },
  {
   "cell_type": "markdown",
   "id": "6ffc71a5",
   "metadata": {},
   "source": [
    "nombre_infected      1084\n",
    "nombre_sain           725\n",
    "nombre_exposed        207\n",
    "nombre_recovered    17984\n",
    "Name: 52, dtype: int64"
   ]
  },
  {
   "cell_type": "markdown",
   "id": "6c3323ba",
   "metadata": {},
   "source": [
    "nombre_infected       981\n",
    "nombre_sain           779\n",
    "nombre_exposed        202\n",
    "nombre_recovered    18038\n",
    "Name: 53, dtype: int64"
   ]
  },
  {
   "cell_type": "markdown",
   "id": "af2f4766",
   "metadata": {},
   "source": [
    "nombre_infected       929\n",
    "nombre_sain           815\n",
    "nombre_exposed        185\n",
    "nombre_recovered    18071\n",
    "Name: 54, dtype: int64"
   ]
  },
  {
   "cell_type": "markdown",
   "id": "3af26099",
   "metadata": {},
   "source": [
    "nombre_infected       872\n",
    "nombre_sain           855\n",
    "nombre_exposed        188\n",
    "nombre_recovered    18085\n",
    "Name: 55, dtype: int64"
   ]
  },
  {
   "cell_type": "markdown",
   "id": "f2495a94",
   "metadata": {},
   "source": [
    "nombre_infected       784\n",
    "nombre_sain           896\n",
    "nombre_exposed        179\n",
    "nombre_recovered    18141\n",
    "Name: 56, dtype: int64"
   ]
  },
  {
   "cell_type": "markdown",
   "id": "5af140ea",
   "metadata": {},
   "source": [
    "nombre_infected       711\n",
    "nombre_sain           929\n",
    "nombre_exposed        180\n",
    "nombre_recovered    18180\n",
    "Name: 57, dtype: int64"
   ]
  },
  {
   "cell_type": "markdown",
   "id": "89863cbd",
   "metadata": {},
   "source": [
    "nombre_infected       674\n",
    "nombre_sain           970\n",
    "nombre_exposed        166\n",
    "nombre_recovered    18190\n",
    "Name: 58, dtype: int64"
   ]
  },
  {
   "cell_type": "markdown",
   "id": "ba490ef0",
   "metadata": {},
   "source": [
    "nombre_infected       602\n",
    "nombre_sain           997\n",
    "nombre_exposed        161\n",
    "nombre_recovered    18240\n",
    "Name: 59, dtype: int64"
   ]
  },
  {
   "cell_type": "markdown",
   "id": "98ad7e84",
   "metadata": {},
   "source": [
    "nombre_infected       538\n",
    "nombre_sain          1026\n",
    "nombre_exposed        156\n",
    "nombre_recovered    18280\n",
    "Name: 60, dtype: int64"
   ]
  },
  {
   "cell_type": "markdown",
   "id": "707cf7f2",
   "metadata": {},
   "source": [
    "nombre_infected       480\n",
    "nombre_sain          1060\n",
    "nombre_exposed        147\n",
    "nombre_recovered    18313\n",
    "Name: 61, dtype: int64"
   ]
  },
  {
   "cell_type": "markdown",
   "id": "915aa878",
   "metadata": {},
   "source": [
    "nombre_infected       441\n",
    "nombre_sain          1093\n",
    "nombre_exposed        152\n",
    "nombre_recovered    18314\n",
    "Name: 62, dtype: int64"
   ]
  },
  {
   "cell_type": "markdown",
   "id": "27a85b91",
   "metadata": {},
   "source": [
    "nombre_infected       411\n",
    "nombre_sain          1123\n",
    "nombre_exposed        148\n",
    "nombre_recovered    18318\n",
    "Name: 63, dtype: int64"
   ]
  },
  {
   "cell_type": "markdown",
   "id": "14f78f87",
   "metadata": {},
   "source": [
    "nombre_infected       371\n",
    "nombre_sain          1136\n",
    "nombre_exposed        148\n",
    "nombre_recovered    18345\n",
    "Name: 64, dtype: int64"
   ]
  },
  {
   "cell_type": "markdown",
   "id": "fc85019d",
   "metadata": {},
   "source": [
    "nombre_infected       338\n",
    "nombre_sain          1179\n",
    "nombre_exposed        146\n",
    "nombre_recovered    18337\n",
    "Name: 65, dtype: int64"
   ]
  },
  {
   "cell_type": "markdown",
   "id": "7607b700",
   "metadata": {},
   "source": [
    "nombre_infected       321\n",
    "nombre_sain          1236\n",
    "nombre_exposed        127\n",
    "nombre_recovered    18316\n",
    "Name: 66, dtype: int64"
   ]
  },
  {
   "cell_type": "markdown",
   "id": "fae7b324",
   "metadata": {},
   "source": [
    "nombre_infected       306\n",
    "nombre_sain          1274\n",
    "nombre_exposed        117\n",
    "nombre_recovered    18303\n",
    "Name: 67, dtype: int64"
   ]
  },
  {
   "cell_type": "markdown",
   "id": "d831ce81",
   "metadata": {},
   "source": [
    "nombre_infected       285\n",
    "nombre_sain          1317\n",
    "nombre_exposed        119\n",
    "nombre_recovered    18279\n",
    "Name: 68, dtype: int64"
   ]
  },
  {
   "cell_type": "markdown",
   "id": "a37329a2",
   "metadata": {},
   "source": [
    "nombre_infected       276\n",
    "nombre_sain          1350\n",
    "nombre_exposed        108\n",
    "nombre_recovered    18266\n",
    "Name: 69, dtype: int64"
   ]
  },
  {
   "cell_type": "markdown",
   "id": "d049e17f",
   "metadata": {},
   "source": [
    "nombre_infected       268\n",
    "nombre_sain          1389\n",
    "nombre_exposed        101\n",
    "nombre_recovered    18242\n",
    "Name: 70, dtype: int64"
   ]
  },
  {
   "cell_type": "markdown",
   "id": "338c4465",
   "metadata": {},
   "source": [
    "nombre_infected       238\n",
    "nombre_sain          1446\n",
    "nombre_exposed         84\n",
    "nombre_recovered    18232\n",
    "Name: 71, dtype: int64"
   ]
  },
  {
   "cell_type": "markdown",
   "id": "47f82882",
   "metadata": {},
   "source": [
    "nombre_infected       202\n",
    "nombre_sain          1496\n",
    "nombre_exposed         80\n",
    "nombre_recovered    18222\n",
    "Name: 72, dtype: int64"
   ]
  },
  {
   "cell_type": "markdown",
   "id": "12582b43",
   "metadata": {},
   "source": [
    "nombre_infected       197\n",
    "nombre_sain          1546\n",
    "nombre_exposed         75\n",
    "nombre_recovered    18182\n",
    "Name: 73, dtype: int64"
   ]
  },
  {
   "cell_type": "markdown",
   "id": "12f566aa",
   "metadata": {},
   "source": [
    "nombre_infected       167\n",
    "nombre_sain          1606\n",
    "nombre_exposed         76\n",
    "nombre_recovered    18151\n",
    "Name: 74, dtype: int64"
   ]
  },
  {
   "cell_type": "markdown",
   "id": "156905e7",
   "metadata": {},
   "source": [
    "nombre_infected       166\n",
    "nombre_sain          1669\n",
    "nombre_exposed         65\n",
    "nombre_recovered    18100\n",
    "Name: 75, dtype: int64"
   ]
  },
  {
   "cell_type": "markdown",
   "id": "bd51edb7",
   "metadata": {},
   "source": [
    "nombre_infected       150\n",
    "nombre_sain          1743\n",
    "nombre_exposed         60\n",
    "nombre_recovered    18047\n",
    "Name: 76, dtype: int64"
   ]
  },
  {
   "cell_type": "markdown",
   "id": "a42f1410",
   "metadata": {},
   "source": [
    "nombre_infected       147\n",
    "nombre_sain          1805\n",
    "nombre_exposed         68\n",
    "nombre_recovered    17980\n",
    "Name: 77, dtype: int64"
   ]
  },
  {
   "cell_type": "markdown",
   "id": "80f52f98",
   "metadata": {},
   "source": [
    "nombre_infected       130\n",
    "nombre_sain          1870\n",
    "nombre_exposed         77\n",
    "nombre_recovered    17923\n",
    "Name: 78, dtype: int64"
   ]
  },
  {
   "cell_type": "markdown",
   "id": "2c4f45f2",
   "metadata": {},
   "source": [
    "nombre_infected       130\n",
    "nombre_sain          1921\n",
    "nombre_exposed         72\n",
    "nombre_recovered    17877\n",
    "Name: 79, dtype: int64"
   ]
  },
  {
   "cell_type": "markdown",
   "id": "b45dcd45",
   "metadata": {},
   "source": [
    "nombre_infected       130\n",
    "nombre_sain          1978\n",
    "nombre_exposed         70\n",
    "nombre_recovered    17822\n",
    "Name: 80, dtype: int64"
   ]
  },
  {
   "cell_type": "markdown",
   "id": "798c755c",
   "metadata": {},
   "source": [
    "nombre_infected       117\n",
    "nombre_sain          2042\n",
    "nombre_exposed         67\n",
    "nombre_recovered    17774\n",
    "Name: 81, dtype: int64"
   ]
  },
  {
   "cell_type": "markdown",
   "id": "48122eed",
   "metadata": {},
   "source": [
    "nombre_infected       112\n",
    "nombre_sain          2105\n",
    "nombre_exposed         68\n",
    "nombre_recovered    17715\n",
    "Name: 82, dtype: int64"
   ]
  },
  {
   "cell_type": "markdown",
   "id": "03512455",
   "metadata": {},
   "source": [
    "nombre_infected       105\n",
    "nombre_sain          2162\n",
    "nombre_exposed         72\n",
    "nombre_recovered    17661\n",
    "Name: 83, dtype: int64"
   ]
  },
  {
   "cell_type": "markdown",
   "id": "3b1cdcb7",
   "metadata": {},
   "source": [
    "nombre_infected       105\n",
    "nombre_sain          2203\n",
    "nombre_exposed         66\n",
    "nombre_recovered    17626\n",
    "Name: 84, dtype: int64"
   ]
  },
  {
   "cell_type": "markdown",
   "id": "b619803d",
   "metadata": {},
   "source": [
    "nombre_infected       107\n",
    "nombre_sain          2239\n",
    "nombre_exposed         67\n",
    "nombre_recovered    17587\n",
    "Name: 85, dtype: int64"
   ]
  },
  {
   "cell_type": "markdown",
   "id": "1e2526f4",
   "metadata": {},
   "source": [
    "nombre_infected       114\n",
    "nombre_sain          2280\n",
    "nombre_exposed         67\n",
    "nombre_recovered    17539\n",
    "Name: 86, dtype: int64"
   ]
  },
  {
   "cell_type": "markdown",
   "id": "1d2ddced",
   "metadata": {},
   "source": [
    "nombre_infected       111\n",
    "nombre_sain          2323\n",
    "nombre_exposed         69\n",
    "nombre_recovered    17497\n",
    "Name: 87, dtype: int64"
   ]
  },
  {
   "cell_type": "markdown",
   "id": "b227ca46",
   "metadata": {},
   "source": [
    "nombre_infected       105\n",
    "nombre_sain          2360\n",
    "nombre_exposed         68\n",
    "nombre_recovered    17467\n",
    "Name: 88, dtype: int64"
   ]
  },
  {
   "cell_type": "markdown",
   "id": "0f6ee46d",
   "metadata": {},
   "source": [
    "nombre_infected       112\n",
    "nombre_sain          2402\n",
    "nombre_exposed         63\n",
    "nombre_recovered    17423\n",
    "Name: 89, dtype: int64"
   ]
  },
  {
   "cell_type": "markdown",
   "id": "6d4fda4c",
   "metadata": {},
   "source": [
    "nombre_infected       114\n",
    "nombre_sain          2429\n",
    "nombre_exposed         61\n",
    "nombre_recovered    17396\n",
    "Name: 90, dtype: int64"
   ]
  },
  {
   "cell_type": "markdown",
   "id": "a88358c8",
   "metadata": {},
   "source": [
    "nombre_infected       121\n",
    "nombre_sain          2452\n",
    "nombre_exposed         67\n",
    "nombre_recovered    17360\n",
    "Name: 91, dtype: int64"
   ]
  },
  {
   "cell_type": "markdown",
   "id": "3c0f9095",
   "metadata": {},
   "source": [
    "nombre_infected       108\n",
    "nombre_sain          2475\n",
    "nombre_exposed         82\n",
    "nombre_recovered    17335\n",
    "Name: 92, dtype: int64"
   ]
  },
  {
   "cell_type": "markdown",
   "id": "4d99e9ea",
   "metadata": {},
   "source": [
    "nombre_infected       109\n",
    "nombre_sain          2503\n",
    "nombre_exposed         83\n",
    "nombre_recovered    17305\n",
    "Name: 93, dtype: int64"
   ]
  },
  {
   "cell_type": "markdown",
   "id": "8f306344",
   "metadata": {},
   "source": [
    "nombre_infected       123\n",
    "nombre_sain          2520\n",
    "nombre_exposed         77\n",
    "nombre_recovered    17280\n",
    "Name: 94, dtype: int64"
   ]
  },
  {
   "cell_type": "markdown",
   "id": "cdf760e3",
   "metadata": {},
   "source": [
    "nombre_infected       121\n",
    "nombre_sain          2541\n",
    "nombre_exposed         75\n",
    "nombre_recovered    17263\n",
    "Name: 95, dtype: int64"
   ]
  },
  {
   "cell_type": "markdown",
   "id": "1b4e46e2",
   "metadata": {},
   "source": [
    "nombre_infected       116\n",
    "nombre_sain          2550\n",
    "nombre_exposed         83\n",
    "nombre_recovered    17251\n",
    "Name: 96, dtype: int64"
   ]
  },
  {
   "cell_type": "markdown",
   "id": "e532cad7",
   "metadata": {},
   "source": [
    "nombre_infected       113\n",
    "nombre_sain          2567\n",
    "nombre_exposed         84\n",
    "nombre_recovered    17236\n",
    "Name: 97, dtype: int64"
   ]
  },
  {
   "cell_type": "markdown",
   "id": "8fe5db85",
   "metadata": {},
   "source": [
    "nombre_infected       125\n",
    "nombre_sain          2573\n",
    "nombre_exposed         80\n",
    "nombre_recovered    17222\n",
    "Name: 98, dtype: int64"
   ]
  },
  {
   "cell_type": "markdown",
   "id": "170a8e4e",
   "metadata": {},
   "source": [
    "nombre_infected       130\n",
    "nombre_sain          2582\n",
    "nombre_exposed         85\n",
    "nombre_recovered    17203\n",
    "Name: 99, dtype: int64"
   ]
  },
  {
   "cell_type": "markdown",
   "id": "56081428",
   "metadata": {},
   "source": [
    "nombre_infected       137\n",
    "nombre_sain          2584\n",
    "nombre_exposed         87\n",
    "nombre_recovered    17192\n",
    "Name: 100, dtype: int64"
   ]
  },
  {
   "cell_type": "markdown",
   "id": "160c5fb7",
   "metadata": {},
   "source": [
    "nombre_infected       140\n",
    "nombre_sain          2590\n",
    "nombre_exposed         90\n",
    "nombre_recovered    17180\n",
    "Name: 101, dtype: int64"
   ]
  },
  {
   "cell_type": "markdown",
   "id": "ee3ac903",
   "metadata": {},
   "source": [
    "nombre_infected       139\n",
    "nombre_sain          2610\n",
    "nombre_exposed         88\n",
    "nombre_recovered    17163\n",
    "Name: 102, dtype: int64"
   ]
  },
  {
   "cell_type": "markdown",
   "id": "200a23bf",
   "metadata": {},
   "source": [
    "nombre_infected       134\n",
    "nombre_sain          2635\n",
    "nombre_exposed         91\n",
    "nombre_recovered    17140\n",
    "Name: 103, dtype: int64"
   ]
  },
  {
   "cell_type": "markdown",
   "id": "0edc3e9e",
   "metadata": {},
   "source": [
    "nombre_infected       127\n",
    "nombre_sain          2655\n",
    "nombre_exposed        104\n",
    "nombre_recovered    17114\n",
    "Name: 104, dtype: int64"
   ]
  },
  {
   "cell_type": "markdown",
   "id": "ca2717e5",
   "metadata": {},
   "source": [
    "nombre_infected       133\n",
    "nombre_sain          2683\n",
    "nombre_exposed         99\n",
    "nombre_recovered    17085\n",
    "Name: 105, dtype: int64"
   ]
  },
  {
   "cell_type": "markdown",
   "id": "730fab35",
   "metadata": {},
   "source": [
    "nombre_infected       136\n",
    "nombre_sain          2700\n",
    "nombre_exposed         92\n",
    "nombre_recovered    17072\n",
    "Name: 106, dtype: int64"
   ]
  },
  {
   "cell_type": "markdown",
   "id": "8dd5cfa1",
   "metadata": {},
   "source": [
    "nombre_infected       142\n",
    "nombre_sain          2717\n",
    "nombre_exposed         94\n",
    "nombre_recovered    17047\n",
    "Name: 107, dtype: int64"
   ]
  },
  {
   "cell_type": "markdown",
   "id": "0f4c2d0d",
   "metadata": {},
   "source": [
    "nombre_infected       152\n",
    "nombre_sain          2736\n",
    "nombre_exposed         86\n",
    "nombre_recovered    17026\n",
    "Name: 108, dtype: int64"
   ]
  },
  {
   "cell_type": "markdown",
   "id": "6ba36443",
   "metadata": {},
   "source": [
    "nombre_infected       157\n",
    "nombre_sain          2756\n",
    "nombre_exposed         91\n",
    "nombre_recovered    16996\n",
    "Name: 109, dtype: int64"
   ]
  },
  {
   "cell_type": "markdown",
   "id": "9e58784a",
   "metadata": {},
   "source": [
    "nombre_infected       151\n",
    "nombre_sain          2770\n",
    "nombre_exposed         99\n",
    "nombre_recovered    16980\n",
    "Name: 110, dtype: int64"
   ]
  },
  {
   "cell_type": "markdown",
   "id": "aebb51ee",
   "metadata": {},
   "source": [
    "nombre_infected       162\n",
    "nombre_sain          2800\n",
    "nombre_exposed         98\n",
    "nombre_recovered    16940\n",
    "Name: 111, dtype: int64"
   ]
  },
  {
   "cell_type": "markdown",
   "id": "46b64a4b",
   "metadata": {},
   "source": [
    "nombre_infected       165\n",
    "nombre_sain          2843\n",
    "nombre_exposed        104\n",
    "nombre_recovered    16888\n",
    "Name: 112, dtype: int64"
   ]
  },
  {
   "cell_type": "markdown",
   "id": "17306430",
   "metadata": {},
   "source": [
    "nombre_infected       168\n",
    "nombre_sain          2889\n",
    "nombre_exposed        102\n",
    "nombre_recovered    16841\n",
    "Name: 113, dtype: int64"
   ]
  },
  {
   "cell_type": "markdown",
   "id": "4f563e27",
   "metadata": {},
   "source": [
    "nombre_infected       173\n",
    "nombre_sain          2923\n",
    "nombre_exposed        104\n",
    "nombre_recovered    16800\n",
    "Name: 114, dtype: int64"
   ]
  },
  {
   "cell_type": "markdown",
   "id": "ae10f7f2",
   "metadata": {},
   "source": [
    "nombre_infected       158\n",
    "nombre_sain          2943\n",
    "nombre_exposed        120\n",
    "nombre_recovered    16779\n",
    "Name: 115, dtype: int64"
   ]
  },
  {
   "cell_type": "markdown",
   "id": "4121f6b3",
   "metadata": {},
   "source": [
    "nombre_infected       158\n",
    "nombre_sain          2972\n",
    "nombre_exposed        122\n",
    "nombre_recovered    16748\n",
    "Name: 116, dtype: int64"
   ]
  },
  {
   "cell_type": "markdown",
   "id": "4ebdc176",
   "metadata": {},
   "source": [
    "nombre_infected       174\n",
    "nombre_sain          2991\n",
    "nombre_exposed        127\n",
    "nombre_recovered    16708\n",
    "Name: 117, dtype: int64"
   ]
  },
  {
   "cell_type": "markdown",
   "id": "d6ec268f",
   "metadata": {},
   "source": [
    "nombre_infected       169\n",
    "nombre_sain          3022\n",
    "nombre_exposed        138\n",
    "nombre_recovered    16671\n",
    "Name: 118, dtype: int64"
   ]
  },
  {
   "cell_type": "markdown",
   "id": "860a1082",
   "metadata": {},
   "source": [
    "nombre_infected       186\n",
    "nombre_sain          3056\n",
    "nombre_exposed        125\n",
    "nombre_recovered    16633\n",
    "Name: 119, dtype: int64"
   ]
  },
  {
   "cell_type": "markdown",
   "id": "9949b130",
   "metadata": {},
   "source": [
    "nombre_infected       200\n",
    "nombre_sain          3090\n",
    "nombre_exposed        129\n",
    "nombre_recovered    16581\n",
    "Name: 120, dtype: int64"
   ]
  },
  {
   "cell_type": "markdown",
   "id": "662514d9",
   "metadata": {},
   "source": [
    "nombre_infected       205\n",
    "nombre_sain          3110\n",
    "nombre_exposed        142\n",
    "nombre_recovered    16543\n",
    "Name: 121, dtype: int64"
   ]
  },
  {
   "cell_type": "markdown",
   "id": "ce7e3af3",
   "metadata": {},
   "source": [
    "nombre_infected       209\n",
    "nombre_sain          3140\n",
    "nombre_exposed        155\n",
    "nombre_recovered    16496\n",
    "Name: 122, dtype: int64"
   ]
  },
  {
   "cell_type": "markdown",
   "id": "fce1d692",
   "metadata": {},
   "source": [
    "nombre_infected       215\n",
    "nombre_sain          3169\n",
    "nombre_exposed        157\n",
    "nombre_recovered    16459\n",
    "Name: 123, dtype: int64"
   ]
  },
  {
   "cell_type": "markdown",
   "id": "e67519cd",
   "metadata": {},
   "source": [
    "nombre_infected       219\n",
    "nombre_sain          3196\n",
    "nombre_exposed        158\n",
    "nombre_recovered    16427\n",
    "Name: 124, dtype: int64"
   ]
  },
  {
   "cell_type": "markdown",
   "id": "b95005c2",
   "metadata": {},
   "source": [
    "nombre_infected       207\n",
    "nombre_sain          3239\n",
    "nombre_exposed        164\n",
    "nombre_recovered    16390\n",
    "Name: 125, dtype: int64"
   ]
  },
  {
   "cell_type": "markdown",
   "id": "20593c64",
   "metadata": {},
   "source": [
    "nombre_infected       228\n",
    "nombre_sain          3282\n",
    "nombre_exposed        146\n",
    "nombre_recovered    16344\n",
    "Name: 126, dtype: int64"
   ]
  },
  {
   "cell_type": "markdown",
   "id": "9610e38e",
   "metadata": {},
   "source": [
    "nombre_infected       225\n",
    "nombre_sain          3308\n",
    "nombre_exposed        159\n",
    "nombre_recovered    16308\n",
    "Name: 127, dtype: int64"
   ]
  },
  {
   "cell_type": "markdown",
   "id": "778332a1",
   "metadata": {},
   "source": [
    "nombre_infected       229\n",
    "nombre_sain          3321\n",
    "nombre_exposed        158\n",
    "nombre_recovered    16292\n",
    "Name: 128, dtype: int64"
   ]
  },
  {
   "cell_type": "markdown",
   "id": "a098afae",
   "metadata": {},
   "source": [
    "nombre_infected       238\n",
    "nombre_sain          3343\n",
    "nombre_exposed        168\n",
    "nombre_recovered    16251\n",
    "Name: 129, dtype: int64"
   ]
  },
  {
   "cell_type": "markdown",
   "id": "76ca9cce",
   "metadata": {},
   "source": [
    "nombre_infected       250\n",
    "nombre_sain          3365\n",
    "nombre_exposed        171\n",
    "nombre_recovered    16214\n",
    "Name: 130, dtype: int64"
   ]
  },
  {
   "cell_type": "markdown",
   "id": "6aba0d56",
   "metadata": {},
   "source": [
    "nombre_infected       255\n",
    "nombre_sain          3384\n",
    "nombre_exposed        182\n",
    "nombre_recovered    16179\n",
    "Name: 131, dtype: int64"
   ]
  },
  {
   "cell_type": "markdown",
   "id": "d1fd03af",
   "metadata": {},
   "source": [
    "nombre_infected       275\n",
    "nombre_sain          3402\n",
    "nombre_exposed        178\n",
    "nombre_recovered    16145\n",
    "Name: 132, dtype: int64"
   ]
  },
  {
   "cell_type": "markdown",
   "id": "1677f610",
   "metadata": {},
   "source": [
    "nombre_infected       293\n",
    "nombre_sain          3417\n",
    "nombre_exposed        189\n",
    "nombre_recovered    16101\n",
    "Name: 133, dtype: int64"
   ]
  },
  {
   "cell_type": "markdown",
   "id": "680080f8",
   "metadata": {},
   "source": [
    "nombre_infected       312\n",
    "nombre_sain          3423\n",
    "nombre_exposed        196\n",
    "nombre_recovered    16069\n",
    "Name: 134, dtype: int64"
   ]
  },
  {
   "cell_type": "markdown",
   "id": "f6ce2561",
   "metadata": {},
   "source": [
    "nombre_infected       312\n",
    "nombre_sain          3431\n",
    "nombre_exposed        224\n",
    "nombre_recovered    16033\n",
    "Name: 135, dtype: int64"
   ]
  },
  {
   "cell_type": "markdown",
   "id": "8ef42e63",
   "metadata": {},
   "source": [
    "nombre_infected       311\n",
    "nombre_sain          3435\n",
    "nombre_exposed        234\n",
    "nombre_recovered    16020\n",
    "Name: 136, dtype: int64"
   ]
  },
  {
   "cell_type": "markdown",
   "id": "a1f0c9fa",
   "metadata": {},
   "source": [
    "nombre_infected       324\n",
    "nombre_sain          3435\n",
    "nombre_exposed        231\n",
    "nombre_recovered    16010\n",
    "Name: 137, dtype: int64"
   ]
  },
  {
   "cell_type": "markdown",
   "id": "7f1412df",
   "metadata": {},
   "source": [
    "nombre_infected       351\n",
    "nombre_sain          3417\n",
    "nombre_exposed        251\n",
    "nombre_recovered    15981\n",
    "Name: 138, dtype: int64"
   ]
  },
  {
   "cell_type": "markdown",
   "id": "c5baca12",
   "metadata": {},
   "source": [
    "nombre_infected       363\n",
    "nombre_sain          3418\n",
    "nombre_exposed        267\n",
    "nombre_recovered    15952\n",
    "Name: 139, dtype: int64"
   ]
  },
  {
   "cell_type": "markdown",
   "id": "960b937a",
   "metadata": {},
   "source": [
    "nombre_infected       384\n",
    "nombre_sain          3385\n",
    "nombre_exposed        290\n",
    "nombre_recovered    15941\n",
    "Name: 140, dtype: int64"
   ]
  },
  {
   "cell_type": "markdown",
   "id": "d65a26b6",
   "metadata": {},
   "source": [
    "nombre_infected       403\n",
    "nombre_sain          3338\n",
    "nombre_exposed        319\n",
    "nombre_recovered    15940\n",
    "Name: 141, dtype: int64"
   ]
  },
  {
   "cell_type": "markdown",
   "id": "fff6c39c",
   "metadata": {},
   "source": [
    "nombre_infected       430\n",
    "nombre_sain          3305\n",
    "nombre_exposed        320\n",
    "nombre_recovered    15945\n",
    "Name: 142, dtype: int64"
   ]
  },
  {
   "cell_type": "markdown",
   "id": "a3020131",
   "metadata": {},
   "source": [
    "nombre_infected       464\n",
    "nombre_sain          3279\n",
    "nombre_exposed        311\n",
    "nombre_recovered    15946\n",
    "Name: 143, dtype: int64"
   ]
  },
  {
   "cell_type": "markdown",
   "id": "7cc2228e",
   "metadata": {},
   "source": [
    "nombre_infected       506\n",
    "nombre_sain          3234\n",
    "nombre_exposed        318\n",
    "nombre_recovered    15942\n",
    "Name: 144, dtype: int64"
   ]
  },
  {
   "cell_type": "markdown",
   "id": "1d5cbef8",
   "metadata": {},
   "source": [
    "nombre_infected       515\n",
    "nombre_sain          3199\n",
    "nombre_exposed        347\n",
    "nombre_recovered    15939\n",
    "Name: 145, dtype: int64"
   ]
  },
  {
   "cell_type": "markdown",
   "id": "d27f9443",
   "metadata": {},
   "source": [
    "nombre_infected       536\n",
    "nombre_sain          3143\n",
    "nombre_exposed        365\n",
    "nombre_recovered    15956\n",
    "Name: 146, dtype: int64"
   ]
  },
  {
   "cell_type": "markdown",
   "id": "8b460c71",
   "metadata": {},
   "source": [
    "nombre_infected       536\n",
    "nombre_sain          3078\n",
    "nombre_exposed        399\n",
    "nombre_recovered    15987\n",
    "Name: 147, dtype: int64"
   ]
  },
  {
   "cell_type": "markdown",
   "id": "d22402b8",
   "metadata": {},
   "source": [
    "nombre_infected       554\n",
    "nombre_sain          3033\n",
    "nombre_exposed        406\n",
    "nombre_recovered    16007\n",
    "Name: 148, dtype: int64"
   ]
  },
  {
   "cell_type": "markdown",
   "id": "3148dbb5",
   "metadata": {},
   "source": [
    "nombre_infected       580\n",
    "nombre_sain          2989\n",
    "nombre_exposed        408\n",
    "nombre_recovered    16023\n",
    "Name: 149, dtype: int64"
   ]
  },
  {
   "cell_type": "markdown",
   "id": "20d7464b",
   "metadata": {},
   "source": [
    "nombre_infected       607\n",
    "nombre_sain          2927\n",
    "nombre_exposed        415\n",
    "nombre_recovered    16051\n",
    "Name: 150, dtype: int64"
   ]
  },
  {
   "cell_type": "markdown",
   "id": "df4e1e3b",
   "metadata": {},
   "source": [
    "nombre_infected       634\n",
    "nombre_sain          2867\n",
    "nombre_exposed        427\n",
    "nombre_recovered    16072\n",
    "Name: 151, dtype: int64"
   ]
  },
  {
   "cell_type": "markdown",
   "id": "7ae7723d",
   "metadata": {},
   "source": [
    "nombre_infected       660\n",
    "nombre_sain          2818\n",
    "nombre_exposed        436\n",
    "nombre_recovered    16086\n",
    "Name: 152, dtype: int64"
   ]
  },
  {
   "cell_type": "markdown",
   "id": "26808bb2",
   "metadata": {},
   "source": [
    "nombre_infected       691\n",
    "nombre_sain          2744\n",
    "nombre_exposed        466\n",
    "nombre_recovered    16099\n",
    "Name: 153, dtype: int64"
   ]
  },
  {
   "cell_type": "markdown",
   "id": "a7825188",
   "metadata": {},
   "source": [
    "nombre_infected       731\n",
    "nombre_sain          2712\n",
    "nombre_exposed        469\n",
    "nombre_recovered    16088\n",
    "Name: 154, dtype: int64"
   ]
  },
  {
   "cell_type": "markdown",
   "id": "5b8189a7",
   "metadata": {},
   "source": [
    "nombre_infected       751\n",
    "nombre_sain          2666\n",
    "nombre_exposed        469\n",
    "nombre_recovered    16114\n",
    "Name: 155, dtype: int64"
   ]
  },
  {
   "cell_type": "markdown",
   "id": "a74b3b9b",
   "metadata": {},
   "source": [
    "nombre_infected       766\n",
    "nombre_sain          2610\n",
    "nombre_exposed        493\n",
    "nombre_recovered    16131\n",
    "Name: 156, dtype: int64"
   ]
  },
  {
   "cell_type": "markdown",
   "id": "d7f6afda",
   "metadata": {},
   "source": [
    "nombre_infected       787\n",
    "nombre_sain          2529\n",
    "nombre_exposed        515\n",
    "nombre_recovered    16169\n",
    "Name: 157, dtype: int64"
   ]
  },
  {
   "cell_type": "markdown",
   "id": "6e2fbafb",
   "metadata": {},
   "source": [
    "nombre_infected       800\n",
    "nombre_sain          2472\n",
    "nombre_exposed        530\n",
    "nombre_recovered    16198\n",
    "Name: 158, dtype: int64"
   ]
  },
  {
   "cell_type": "markdown",
   "id": "da777276",
   "metadata": {},
   "source": [
    "nombre_infected       809\n",
    "nombre_sain          2433\n",
    "nombre_exposed        532\n",
    "nombre_recovered    16226\n",
    "Name: 159, dtype: int64"
   ]
  },
  {
   "cell_type": "markdown",
   "id": "c0c8035e",
   "metadata": {},
   "source": [
    "nombre_infected       827\n",
    "nombre_sain          2371\n",
    "nombre_exposed        536\n",
    "nombre_recovered    16266\n",
    "Name: 160, dtype: int64"
   ]
  },
  {
   "cell_type": "markdown",
   "id": "6750c6cf",
   "metadata": {},
   "source": [
    "nombre_infected       847\n",
    "nombre_sain          2338\n",
    "nombre_exposed        523\n",
    "nombre_recovered    16292\n",
    "Name: 161, dtype: int64"
   ]
  },
  {
   "cell_type": "markdown",
   "id": "be6e1387",
   "metadata": {},
   "source": [
    "nombre_infected       863\n",
    "nombre_sain          2288\n",
    "nombre_exposed        526\n",
    "nombre_recovered    16323\n",
    "Name: 162, dtype: int64"
   ]
  },
  {
   "cell_type": "markdown",
   "id": "d1eafe8f",
   "metadata": {},
   "source": [
    "nombre_infected       883\n",
    "nombre_sain          2242\n",
    "nombre_exposed        519\n",
    "nombre_recovered    16356\n",
    "Name: 163, dtype: int64"
   ]
  },
  {
   "cell_type": "markdown",
   "id": "bfa3d209",
   "metadata": {},
   "source": [
    "nombre_infected       879\n",
    "nombre_sain          2211\n",
    "nombre_exposed        515\n",
    "nombre_recovered    16395\n",
    "Name: 164, dtype: int64"
   ]
  },
  {
   "cell_type": "markdown",
   "id": "f7ac0f44",
   "metadata": {},
   "source": [
    "nombre_infected       891\n",
    "nombre_sain          2169\n",
    "nombre_exposed        505\n",
    "nombre_recovered    16435\n",
    "Name: 165, dtype: int64"
   ]
  },
  {
   "cell_type": "markdown",
   "id": "162a82da",
   "metadata": {},
   "source": [
    "nombre_infected       907\n",
    "nombre_sain          2144\n",
    "nombre_exposed        503\n",
    "nombre_recovered    16446\n",
    "Name: 166, dtype: int64"
   ]
  },
  {
   "cell_type": "markdown",
   "id": "149e1f5f",
   "metadata": {},
   "source": [
    "nombre_infected       924\n",
    "nombre_sain          2057\n",
    "nombre_exposed        540\n",
    "nombre_recovered    16479\n",
    "Name: 167, dtype: int64"
   ]
  },
  {
   "cell_type": "markdown",
   "id": "fa1e1af3",
   "metadata": {},
   "source": [
    "nombre_infected       928\n",
    "nombre_sain          2012\n",
    "nombre_exposed        556\n",
    "nombre_recovered    16504\n",
    "Name: 168, dtype: int64"
   ]
  },
  {
   "cell_type": "markdown",
   "id": "4ab4aada",
   "metadata": {},
   "source": [
    "nombre_infected       941\n",
    "nombre_sain          1986\n",
    "nombre_exposed        547\n",
    "nombre_recovered    16526\n",
    "Name: 169, dtype: int64"
   ]
  },
  {
   "cell_type": "markdown",
   "id": "628b23ae",
   "metadata": {},
   "source": [
    "nombre_infected       937\n",
    "nombre_sain          1955\n",
    "nombre_exposed        552\n",
    "nombre_recovered    16556\n",
    "Name: 170, dtype: int64"
   ]
  },
  {
   "cell_type": "markdown",
   "id": "c35dc41f",
   "metadata": {},
   "source": [
    "nombre_infected       934\n",
    "nombre_sain          1911\n",
    "nombre_exposed        553\n",
    "nombre_recovered    16602\n",
    "Name: 171, dtype: int64"
   ]
  },
  {
   "cell_type": "markdown",
   "id": "9d3d51fc",
   "metadata": {},
   "source": [
    "nombre_infected       931\n",
    "nombre_sain          1871\n",
    "nombre_exposed        554\n",
    "nombre_recovered    16644\n",
    "Name: 172, dtype: int64"
   ]
  },
  {
   "cell_type": "markdown",
   "id": "fea21100",
   "metadata": {},
   "source": [
    "nombre_infected       929\n",
    "nombre_sain          1860\n",
    "nombre_exposed        515\n",
    "nombre_recovered    16696\n",
    "Name: 173, dtype: int64"
   ]
  },
  {
   "cell_type": "markdown",
   "id": "dd8e58c9",
   "metadata": {},
   "source": [
    "nombre_infected       929\n",
    "nombre_sain          1823\n",
    "nombre_exposed        502\n",
    "nombre_recovered    16746\n",
    "Name: 174, dtype: int64"
   ]
  },
  {
   "cell_type": "markdown",
   "id": "dba58039",
   "metadata": {},
   "source": [
    "nombre_infected       898\n",
    "nombre_sain          1813\n",
    "nombre_exposed        493\n",
    "nombre_recovered    16796\n",
    "Name: 175, dtype: int64"
   ]
  },
  {
   "cell_type": "markdown",
   "id": "d91eae83",
   "metadata": {},
   "source": [
    "nombre_infected       889\n",
    "nombre_sain          1803\n",
    "nombre_exposed        466\n",
    "nombre_recovered    16842\n",
    "Name: 176, dtype: int64"
   ]
  },
  {
   "cell_type": "markdown",
   "id": "b80cccb3",
   "metadata": {},
   "source": [
    "nombre_infected       883\n",
    "nombre_sain          1778\n",
    "nombre_exposed        448\n",
    "nombre_recovered    16891\n",
    "Name: 177, dtype: int64"
   ]
  },
  {
   "cell_type": "markdown",
   "id": "7f6fdf6f",
   "metadata": {},
   "source": [
    "nombre_infected       899\n",
    "nombre_sain          1740\n",
    "nombre_exposed        449\n",
    "nombre_recovered    16912\n",
    "Name: 178, dtype: int64"
   ]
  },
  {
   "cell_type": "markdown",
   "id": "ad919726",
   "metadata": {},
   "source": [
    "nombre_infected       893\n",
    "nombre_sain          1733\n",
    "nombre_exposed        421\n",
    "nombre_recovered    16953\n",
    "Name: 179, dtype: int64"
   ]
  },
  {
   "cell_type": "markdown",
   "id": "55b84b47",
   "metadata": {},
   "source": [
    "nombre_infected       870\n",
    "nombre_sain          1726\n",
    "nombre_exposed        425\n",
    "nombre_recovered    16979\n",
    "Name: 180, dtype: int64"
   ]
  },
  {
   "cell_type": "markdown",
   "id": "309ff1e9",
   "metadata": {},
   "source": [
    "nombre_infected       858\n",
    "nombre_sain          1724\n",
    "nombre_exposed        421\n",
    "nombre_recovered    16997\n",
    "Name: 181, dtype: int64"
   ]
  },
  {
   "cell_type": "markdown",
   "id": "6a86b8e4",
   "metadata": {},
   "source": [
    "nombre_infected       850\n",
    "nombre_sain          1741\n",
    "nombre_exposed        400\n",
    "nombre_recovered    17009\n",
    "Name: 182, dtype: int64"
   ]
  },
  {
   "cell_type": "markdown",
   "id": "474f30fd",
   "metadata": {},
   "source": [
    "nombre_infected       813\n",
    "nombre_sain          1778\n",
    "nombre_exposed        380\n",
    "nombre_recovered    17029\n",
    "Name: 183, dtype: int64"
   ]
  },
  {
   "cell_type": "markdown",
   "id": "998b369e",
   "metadata": {},
   "source": [
    "nombre_infected       811\n",
    "nombre_sain          1794\n",
    "nombre_exposed        384\n",
    "nombre_recovered    17011\n",
    "Name: 184, dtype: int64"
   ]
  },
  {
   "cell_type": "markdown",
   "id": "8ee9a823",
   "metadata": {},
   "source": [
    "nombre_infected       768\n",
    "nombre_sain          1814\n",
    "nombre_exposed        388\n",
    "nombre_recovered    17030\n",
    "Name: 185, dtype: int64"
   ]
  },
  {
   "cell_type": "markdown",
   "id": "dcccba4b",
   "metadata": {},
   "source": [
    "nombre_infected       754\n",
    "nombre_sain          1845\n",
    "nombre_exposed        382\n",
    "nombre_recovered    17019\n",
    "Name: 186, dtype: int64"
   ]
  },
  {
   "cell_type": "markdown",
   "id": "739fb567",
   "metadata": {},
   "source": [
    "nombre_infected       734\n",
    "nombre_sain          1858\n",
    "nombre_exposed        383\n",
    "nombre_recovered    17025\n",
    "Name: 187, dtype: int64"
   ]
  },
  {
   "cell_type": "markdown",
   "id": "a12d73bf",
   "metadata": {},
   "source": [
    "nombre_infected       737\n",
    "nombre_sain          1890\n",
    "nombre_exposed        380\n",
    "nombre_recovered    16993\n",
    "Name: 188, dtype: int64"
   ]
  },
  {
   "cell_type": "markdown",
   "id": "b2a8cd01",
   "metadata": {},
   "source": [
    "nombre_infected       726\n",
    "nombre_sain          1885\n",
    "nombre_exposed        384\n",
    "nombre_recovered    17005\n",
    "Name: 189, dtype: int64"
   ]
  },
  {
   "cell_type": "markdown",
   "id": "5731ac35",
   "metadata": {},
   "source": [
    "nombre_infected       724\n",
    "nombre_sain          1901\n",
    "nombre_exposed        386\n",
    "nombre_recovered    16989\n",
    "Name: 190, dtype: int64"
   ]
  },
  {
   "cell_type": "markdown",
   "id": "fce4fab3",
   "metadata": {},
   "source": [
    "nombre_infected       703\n",
    "nombre_sain          1929\n",
    "nombre_exposed        391\n",
    "nombre_recovered    16977\n",
    "Name: 191, dtype: int64"
   ]
  },
  {
   "cell_type": "markdown",
   "id": "6f6611c8",
   "metadata": {},
   "source": [
    "nombre_infected       706\n",
    "nombre_sain          1955\n",
    "nombre_exposed        366\n",
    "nombre_recovered    16973\n",
    "Name: 192, dtype: int64"
   ]
  },
  {
   "cell_type": "markdown",
   "id": "5e378073",
   "metadata": {},
   "source": [
    "nombre_infected       683\n",
    "nombre_sain          1942\n",
    "nombre_exposed        378\n",
    "nombre_recovered    16997\n",
    "Name: 193, dtype: int64"
   ]
  },
  {
   "cell_type": "markdown",
   "id": "c66a8f2a",
   "metadata": {},
   "source": [
    "nombre_infected       668\n",
    "nombre_sain          1986\n",
    "nombre_exposed        355\n",
    "nombre_recovered    16991\n",
    "Name: 194, dtype: int64"
   ]
  },
  {
   "cell_type": "markdown",
   "id": "f5428953",
   "metadata": {},
   "source": [
    "nombre_infected       672\n",
    "nombre_sain          2015\n",
    "nombre_exposed        324\n",
    "nombre_recovered    16989\n",
    "Name: 195, dtype: int64"
   ]
  },
  {
   "cell_type": "markdown",
   "id": "e819077b",
   "metadata": {},
   "source": [
    "nombre_infected       670\n",
    "nombre_sain          2015\n",
    "nombre_exposed        321\n",
    "nombre_recovered    16994\n",
    "Name: 196, dtype: int64"
   ]
  },
  {
   "cell_type": "markdown",
   "id": "3fba56fd",
   "metadata": {},
   "source": [
    "nombre_infected       659\n",
    "nombre_sain          2044\n",
    "nombre_exposed        302\n",
    "nombre_recovered    16995\n",
    "Name: 197, dtype: int64"
   ]
  },
  {
   "cell_type": "markdown",
   "id": "946cc8e9",
   "metadata": {},
   "source": [
    "nombre_infected       663\n",
    "nombre_sain          2052\n",
    "nombre_exposed        282\n",
    "nombre_recovered    17003\n",
    "Name: 198, dtype: int64"
   ]
  },
  {
   "cell_type": "markdown",
   "id": "a352c9b7",
   "metadata": {},
   "source": [
    "nombre_infected       646\n",
    "nombre_sain          2044\n",
    "nombre_exposed        297\n",
    "nombre_recovered    17013\n",
    "Name: 199, dtype: int64"
   ]
  },
  {
   "cell_type": "markdown",
   "id": "dd81eeec",
   "metadata": {},
   "source": [
    "nombre_infected       636\n",
    "nombre_sain          2060\n",
    "nombre_exposed        308\n",
    "nombre_recovered    16996\n",
    "Name: 200, dtype: int64"
   ]
  },
  {
   "cell_type": "markdown",
   "id": "a16efd46",
   "metadata": {},
   "source": [
    "nombre_infected       622\n",
    "nombre_sain          2052\n",
    "nombre_exposed        308\n",
    "nombre_recovered    17018\n",
    "Name: 201, dtype: int64"
   ]
  },
  {
   "cell_type": "markdown",
   "id": "5d69e347",
   "metadata": {},
   "source": [
    "nombre_infected       622\n",
    "nombre_sain          2055\n",
    "nombre_exposed        304\n",
    "nombre_recovered    17019\n",
    "Name: 202, dtype: int64"
   ]
  },
  {
   "cell_type": "markdown",
   "id": "7cf756eb",
   "metadata": {},
   "source": [
    "nombre_infected       601\n",
    "nombre_sain          2080\n",
    "nombre_exposed        311\n",
    "nombre_recovered    17008\n",
    "Name: 203, dtype: int64"
   ]
  },
  {
   "cell_type": "markdown",
   "id": "6f7db315",
   "metadata": {},
   "source": [
    "nombre_infected       598\n",
    "nombre_sain          2108\n",
    "nombre_exposed        303\n",
    "nombre_recovered    16991\n",
    "Name: 204, dtype: int64"
   ]
  },
  {
   "cell_type": "markdown",
   "id": "36121f05",
   "metadata": {},
   "source": [
    "nombre_infected       583\n",
    "nombre_sain          2102\n",
    "nombre_exposed        300\n",
    "nombre_recovered    17015\n",
    "Name: 205, dtype: int64"
   ]
  },
  {
   "cell_type": "markdown",
   "id": "be361505",
   "metadata": {},
   "source": [
    "nombre_infected       571\n",
    "nombre_sain          2110\n",
    "nombre_exposed        300\n",
    "nombre_recovered    17019\n",
    "Name: 206, dtype: int64"
   ]
  },
  {
   "cell_type": "markdown",
   "id": "2f77291f",
   "metadata": {},
   "source": [
    "nombre_infected       568\n",
    "nombre_sain          2121\n",
    "nombre_exposed        305\n",
    "nombre_recovered    17006\n",
    "Name: 207, dtype: int64"
   ]
  },
  {
   "cell_type": "markdown",
   "id": "18bc6b1f",
   "metadata": {},
   "source": [
    "nombre_infected       560\n",
    "nombre_sain          2152\n",
    "nombre_exposed        297\n",
    "nombre_recovered    16991\n",
    "Name: 208, dtype: int64"
   ]
  },
  {
   "cell_type": "markdown",
   "id": "4cf3b0cc",
   "metadata": {},
   "source": [
    "nombre_infected       569\n",
    "nombre_sain          2177\n",
    "nombre_exposed        279\n",
    "nombre_recovered    16975\n",
    "Name: 209, dtype: int64"
   ]
  },
  {
   "cell_type": "markdown",
   "id": "84812887",
   "metadata": {},
   "source": [
    "nombre_infected       562\n",
    "nombre_sain          2188\n",
    "nombre_exposed        284\n",
    "nombre_recovered    16966\n",
    "Name: 210, dtype: int64"
   ]
  },
  {
   "cell_type": "markdown",
   "id": "41fbf560",
   "metadata": {},
   "source": [
    "nombre_infected       552\n",
    "nombre_sain          2193\n",
    "nombre_exposed        299\n",
    "nombre_recovered    16956\n",
    "Name: 211, dtype: int64"
   ]
  },
  {
   "cell_type": "markdown",
   "id": "153cae61",
   "metadata": {},
   "source": [
    "nombre_infected       552\n",
    "nombre_sain          2215\n",
    "nombre_exposed        294\n",
    "nombre_recovered    16939\n",
    "Name: 212, dtype: int64"
   ]
  },
  {
   "cell_type": "markdown",
   "id": "bfb2a3dc",
   "metadata": {},
   "source": [
    "nombre_infected       554\n",
    "nombre_sain          2229\n",
    "nombre_exposed        292\n",
    "nombre_recovered    16925\n",
    "Name: 213, dtype: int64"
   ]
  },
  {
   "cell_type": "markdown",
   "id": "e2140d6d",
   "metadata": {},
   "source": [
    "nombre_infected       552\n",
    "nombre_sain          2237\n",
    "nombre_exposed        307\n",
    "nombre_recovered    16904\n",
    "Name: 214, dtype: int64"
   ]
  },
  {
   "cell_type": "markdown",
   "id": "0fd0a7cc",
   "metadata": {},
   "source": [
    "nombre_infected       531\n",
    "nombre_sain          2254\n",
    "nombre_exposed        318\n",
    "nombre_recovered    16897\n",
    "Name: 215, dtype: int64"
   ]
  },
  {
   "cell_type": "markdown",
   "id": "87e72b26",
   "metadata": {},
   "source": [
    "nombre_infected       565\n",
    "nombre_sain          2256\n",
    "nombre_exposed        305\n",
    "nombre_recovered    16874\n",
    "Name: 216, dtype: int64"
   ]
  },
  {
   "cell_type": "markdown",
   "id": "05a9c183",
   "metadata": {},
   "source": [
    "nombre_infected       563\n",
    "nombre_sain          2285\n",
    "nombre_exposed        301\n",
    "nombre_recovered    16851\n",
    "Name: 217, dtype: int64"
   ]
  },
  {
   "cell_type": "markdown",
   "id": "2d865ab5",
   "metadata": {},
   "source": [
    "nombre_infected       563\n",
    "nombre_sain          2316\n",
    "nombre_exposed        295\n",
    "nombre_recovered    16826\n",
    "Name: 218, dtype: int64"
   ]
  },
  {
   "cell_type": "markdown",
   "id": "cc2ad375",
   "metadata": {},
   "source": [
    "nombre_infected       565\n",
    "nombre_sain          2345\n",
    "nombre_exposed        276\n",
    "nombre_recovered    16814\n",
    "Name: 219, dtype: int64"
   ]
  },
  {
   "cell_type": "markdown",
   "id": "d458c3a7",
   "metadata": {},
   "source": [
    "nombre_infected       540\n",
    "nombre_sain          2352\n",
    "nombre_exposed        306\n",
    "nombre_recovered    16802\n",
    "Name: 220, dtype: int64"
   ]
  },
  {
   "cell_type": "markdown",
   "id": "3f8a2ee5",
   "metadata": {},
   "source": [
    "nombre_infected       540\n",
    "nombre_sain          2379\n",
    "nombre_exposed        309\n",
    "nombre_recovered    16772\n",
    "Name: 221, dtype: int64"
   ]
  },
  {
   "cell_type": "markdown",
   "id": "c97e5be5",
   "metadata": {},
   "source": [
    "nombre_infected       529\n",
    "nombre_sain          2405\n",
    "nombre_exposed        312\n",
    "nombre_recovered    16754\n",
    "Name: 222, dtype: int64"
   ]
  },
  {
   "cell_type": "markdown",
   "id": "3ea7706f",
   "metadata": {},
   "source": [
    "nombre_infected       503\n",
    "nombre_sain          2413\n",
    "nombre_exposed        324\n",
    "nombre_recovered    16760\n",
    "Name: 223, dtype: int64"
   ]
  },
  {
   "cell_type": "markdown",
   "id": "cd06b318",
   "metadata": {},
   "source": [
    "nombre_infected       516\n",
    "nombre_sain          2467\n",
    "nombre_exposed        317\n",
    "nombre_recovered    16700\n",
    "Name: 224, dtype: int64"
   ]
  },
  {
   "cell_type": "markdown",
   "id": "67ca434a",
   "metadata": {},
   "source": [
    "nombre_infected       536\n",
    "nombre_sain          2508\n",
    "nombre_exposed        312\n",
    "nombre_recovered    16644\n",
    "Name: 225, dtype: int64"
   ]
  },
  {
   "cell_type": "markdown",
   "id": "734a2d12",
   "metadata": {},
   "source": [
    "nombre_infected       541\n",
    "nombre_sain          2510\n",
    "nombre_exposed        330\n",
    "nombre_recovered    16619\n",
    "Name: 226, dtype: int64"
   ]
  },
  {
   "cell_type": "markdown",
   "id": "f3e6b665",
   "metadata": {},
   "source": [
    "nombre_infected       573\n",
    "nombre_sain          2502\n",
    "nombre_exposed        335\n",
    "nombre_recovered    16590\n",
    "Name: 227, dtype: int64"
   ]
  },
  {
   "cell_type": "markdown",
   "id": "06e4d0a7",
   "metadata": {},
   "source": [
    "nombre_infected       576\n",
    "nombre_sain          2517\n",
    "nombre_exposed        348\n",
    "nombre_recovered    16559\n",
    "Name: 228, dtype: int64"
   ]
  },
  {
   "cell_type": "markdown",
   "id": "5659b3f4",
   "metadata": {},
   "source": [
    "nombre_infected       595\n",
    "nombre_sain          2528\n",
    "nombre_exposed        351\n",
    "nombre_recovered    16526\n",
    "Name: 229, dtype: int64"
   ]
  },
  {
   "cell_type": "markdown",
   "id": "a268eaa7",
   "metadata": {},
   "source": [
    "nombre_infected       589\n",
    "nombre_sain          2546\n",
    "nombre_exposed        353\n",
    "nombre_recovered    16512\n",
    "Name: 230, dtype: int64"
   ]
  },
  {
   "cell_type": "markdown",
   "id": "e597fa75",
   "metadata": {},
   "source": [
    "nombre_infected       589\n",
    "nombre_sain          2545\n",
    "nombre_exposed        356\n",
    "nombre_recovered    16510\n",
    "Name: 231, dtype: int64"
   ]
  },
  {
   "cell_type": "markdown",
   "id": "55c0a092",
   "metadata": {},
   "source": [
    "nombre_infected       605\n",
    "nombre_sain          2544\n",
    "nombre_exposed        354\n",
    "nombre_recovered    16497\n",
    "Name: 232, dtype: int64"
   ]
  },
  {
   "cell_type": "markdown",
   "id": "831b54e0",
   "metadata": {},
   "source": [
    "nombre_infected       618\n",
    "nombre_sain          2543\n",
    "nombre_exposed        360\n",
    "nombre_recovered    16479\n",
    "Name: 233, dtype: int64"
   ]
  },
  {
   "cell_type": "markdown",
   "id": "315c6258",
   "metadata": {},
   "source": [
    "nombre_infected       631\n",
    "nombre_sain          2546\n",
    "nombre_exposed        361\n",
    "nombre_recovered    16462\n",
    "Name: 234, dtype: int64"
   ]
  },
  {
   "cell_type": "markdown",
   "id": "951ea3f5",
   "metadata": {},
   "source": [
    "nombre_infected       627\n",
    "nombre_sain          2537\n",
    "nombre_exposed        376\n",
    "nombre_recovered    16460\n",
    "Name: 235, dtype: int64"
   ]
  },
  {
   "cell_type": "markdown",
   "id": "f6768cc6",
   "metadata": {},
   "source": [
    "nombre_infected       627\n",
    "nombre_sain          2535\n",
    "nombre_exposed        397\n",
    "nombre_recovered    16441\n",
    "Name: 236, dtype: int64"
   ]
  },
  {
   "cell_type": "markdown",
   "id": "a150fbba",
   "metadata": {},
   "source": [
    "nombre_infected       636\n",
    "nombre_sain          2532\n",
    "nombre_exposed        403\n",
    "nombre_recovered    16429\n",
    "Name: 237, dtype: int64"
   ]
  },
  {
   "cell_type": "markdown",
   "id": "feb67acd",
   "metadata": {},
   "source": [
    "nombre_infected       672\n",
    "nombre_sain          2537\n",
    "nombre_exposed        410\n",
    "nombre_recovered    16381\n",
    "Name: 238, dtype: int64"
   ]
  },
  {
   "cell_type": "markdown",
   "id": "7194c646",
   "metadata": {},
   "source": [
    "nombre_infected       685\n",
    "nombre_sain          2547\n",
    "nombre_exposed        421\n",
    "nombre_recovered    16347\n",
    "Name: 239, dtype: int64"
   ]
  },
  {
   "cell_type": "markdown",
   "id": "2a01575a",
   "metadata": {},
   "source": [
    "nombre_infected       707\n",
    "nombre_sain          2551\n",
    "nombre_exposed        426\n",
    "nombre_recovered    16316\n",
    "Name: 240, dtype: int64"
   ]
  },
  {
   "cell_type": "markdown",
   "id": "b33e0a01",
   "metadata": {},
   "source": [
    "nombre_infected       720\n",
    "nombre_sain          2553\n",
    "nombre_exposed        433\n",
    "nombre_recovered    16294\n",
    "Name: 241, dtype: int64"
   ]
  },
  {
   "cell_type": "markdown",
   "id": "0e789f54",
   "metadata": {},
   "source": [
    "nombre_infected       739\n",
    "nombre_sain          2554\n",
    "nombre_exposed        433\n",
    "nombre_recovered    16274\n",
    "Name: 242, dtype: int64"
   ]
  },
  {
   "cell_type": "markdown",
   "id": "9d73597d",
   "metadata": {},
   "source": [
    "nombre_infected       751\n",
    "nombre_sain          2522\n",
    "nombre_exposed        450\n",
    "nombre_recovered    16277\n",
    "Name: 243, dtype: int64"
   ]
  },
  {
   "cell_type": "markdown",
   "id": "1acbfc9d",
   "metadata": {},
   "source": [
    "nombre_infected       763\n",
    "nombre_sain          2525\n",
    "nombre_exposed        445\n",
    "nombre_recovered    16267\n",
    "Name: 244, dtype: int64"
   ]
  },
  {
   "cell_type": "markdown",
   "id": "d0d1a78e",
   "metadata": {},
   "source": [
    "nombre_infected       747\n",
    "nombre_sain          2483\n",
    "nombre_exposed        476\n",
    "nombre_recovered    16294\n",
    "Name: 245, dtype: int64"
   ]
  },
  {
   "cell_type": "markdown",
   "id": "1b191a28",
   "metadata": {},
   "source": [
    "nombre_infected       743\n",
    "nombre_sain          2479\n",
    "nombre_exposed        482\n",
    "nombre_recovered    16296\n",
    "Name: 246, dtype: int64"
   ]
  },
  {
   "cell_type": "markdown",
   "id": "41509faa",
   "metadata": {},
   "source": [
    "nombre_infected       780\n",
    "nombre_sain          2464\n",
    "nombre_exposed        481\n",
    "nombre_recovered    16275\n",
    "Name: 247, dtype: int64"
   ]
  },
  {
   "cell_type": "markdown",
   "id": "05431e4d",
   "metadata": {},
   "source": [
    "nombre_infected       796\n",
    "nombre_sain          2467\n",
    "nombre_exposed        475\n",
    "nombre_recovered    16262\n",
    "Name: 248, dtype: int64"
   ]
  },
  {
   "cell_type": "markdown",
   "id": "e8b54065",
   "metadata": {},
   "source": [
    "nombre_infected       803\n",
    "nombre_sain          2490\n",
    "nombre_exposed        458\n",
    "nombre_recovered    16249\n",
    "Name: 249, dtype: int64"
   ]
  },
  {
   "cell_type": "markdown",
   "id": "1d3382ba",
   "metadata": {},
   "source": [
    "nombre_infected       804\n",
    "nombre_sain          2490\n",
    "nombre_exposed        480\n",
    "nombre_recovered    16226\n",
    "Name: 250, dtype: int64"
   ]
  },
  {
   "cell_type": "markdown",
   "id": "fd38477d",
   "metadata": {},
   "source": [
    "nombre_infected       810\n",
    "nombre_sain          2493\n",
    "nombre_exposed        481\n",
    "nombre_recovered    16216\n",
    "Name: 251, dtype: int64"
   ]
  },
  {
   "cell_type": "markdown",
   "id": "ab8ff1e5",
   "metadata": {},
   "source": [
    "nombre_infected       831\n",
    "nombre_sain          2478\n",
    "nombre_exposed        506\n",
    "nombre_recovered    16185\n",
    "Name: 252, dtype: int64"
   ]
  },
  {
   "cell_type": "markdown",
   "id": "41b934e8",
   "metadata": {},
   "source": [
    "nombre_infected       825\n",
    "nombre_sain          2478\n",
    "nombre_exposed        514\n",
    "nombre_recovered    16183\n",
    "Name: 253, dtype: int64"
   ]
  },
  {
   "cell_type": "markdown",
   "id": "a757d80e",
   "metadata": {},
   "source": [
    "nombre_infected       856\n",
    "nombre_sain          2493\n",
    "nombre_exposed        491\n",
    "nombre_recovered    16160\n",
    "Name: 254, dtype: int64"
   ]
  },
  {
   "cell_type": "markdown",
   "id": "f569540a",
   "metadata": {},
   "source": [
    "nombre_infected       877\n",
    "nombre_sain          2476\n",
    "nombre_exposed        526\n",
    "nombre_recovered    16121\n",
    "Name: 255, dtype: int64"
   ]
  },
  {
   "cell_type": "markdown",
   "id": "d9126b6b",
   "metadata": {},
   "source": [
    "nombre_infected       884\n",
    "nombre_sain          2486\n",
    "nombre_exposed        537\n",
    "nombre_recovered    16093\n",
    "Name: 256, dtype: int64"
   ]
  },
  {
   "cell_type": "markdown",
   "id": "79d4f325",
   "metadata": {},
   "source": [
    "nombre_infected       911\n",
    "nombre_sain          2480\n",
    "nombre_exposed        535\n",
    "nombre_recovered    16074\n",
    "Name: 257, dtype: int64"
   ]
  },
  {
   "cell_type": "markdown",
   "id": "53948552",
   "metadata": {},
   "source": [
    "nombre_infected       940\n",
    "nombre_sain          2481\n",
    "nombre_exposed        538\n",
    "nombre_recovered    16041\n",
    "Name: 258, dtype: int64"
   ]
  },
  {
   "cell_type": "markdown",
   "id": "aa3e7e13",
   "metadata": {},
   "source": [
    "nombre_infected       974\n",
    "nombre_sain          2460\n",
    "nombre_exposed        559\n",
    "nombre_recovered    16007\n",
    "Name: 259, dtype: int64"
   ]
  },
  {
   "cell_type": "markdown",
   "id": "6dc3f996",
   "metadata": {},
   "source": [
    "nombre_infected       993\n",
    "nombre_sain          2480\n",
    "nombre_exposed        562\n",
    "nombre_recovered    15965\n",
    "Name: 260, dtype: int64"
   ]
  },
  {
   "cell_type": "markdown",
   "id": "e655413e",
   "metadata": {},
   "source": [
    "nombre_infected      1011\n",
    "nombre_sain          2446\n",
    "nombre_exposed        602\n",
    "nombre_recovered    15941\n",
    "Name: 261, dtype: int64"
   ]
  },
  {
   "cell_type": "markdown",
   "id": "b7862479",
   "metadata": {},
   "source": [
    "nombre_infected      1024\n",
    "nombre_sain          2421\n",
    "nombre_exposed        625\n",
    "nombre_recovered    15930\n",
    "Name: 262, dtype: int64"
   ]
  },
  {
   "cell_type": "markdown",
   "id": "830e9c5c",
   "metadata": {},
   "source": [
    "nombre_infected      1032\n",
    "nombre_sain          2376\n",
    "nombre_exposed        658\n",
    "nombre_recovered    15934\n",
    "Name: 263, dtype: int64"
   ]
  },
  {
   "cell_type": "markdown",
   "id": "5aa280e3",
   "metadata": {},
   "source": [
    "nombre_infected      1061\n",
    "nombre_sain          2333\n",
    "nombre_exposed        680\n",
    "nombre_recovered    15926\n",
    "Name: 264, dtype: int64"
   ]
  },
  {
   "cell_type": "markdown",
   "id": "3bb6b4bd",
   "metadata": {},
   "source": [
    "nombre_infected      1098\n",
    "nombre_sain          2324\n",
    "nombre_exposed        678\n",
    "nombre_recovered    15900\n",
    "Name: 265, dtype: int64"
   ]
  },
  {
   "cell_type": "markdown",
   "id": "5876cb92",
   "metadata": {},
   "source": [
    "nombre_infected      1117\n",
    "nombre_sain          2287\n",
    "nombre_exposed        699\n",
    "nombre_recovered    15897\n",
    "Name: 266, dtype: int64"
   ]
  },
  {
   "cell_type": "markdown",
   "id": "95586e06",
   "metadata": {},
   "source": [
    "nombre_infected      1173\n",
    "nombre_sain          2263\n",
    "nombre_exposed        680\n",
    "nombre_recovered    15884\n",
    "Name: 267, dtype: int64"
   ]
  },
  {
   "cell_type": "markdown",
   "id": "27502d15",
   "metadata": {},
   "source": [
    "nombre_infected      1212\n",
    "nombre_sain          2220\n",
    "nombre_exposed        689\n",
    "nombre_recovered    15879\n",
    "Name: 268, dtype: int64"
   ]
  },
  {
   "cell_type": "markdown",
   "id": "01affeb0",
   "metadata": {},
   "source": [
    "nombre_infected      1252\n",
    "nombre_sain          2176\n",
    "nombre_exposed        686\n",
    "nombre_recovered    15886\n",
    "Name: 269, dtype: int64"
   ]
  },
  {
   "cell_type": "markdown",
   "id": "30dac9ae",
   "metadata": {},
   "source": [
    "nombre_infected      1258\n",
    "nombre_sain          2144\n",
    "nombre_exposed        684\n",
    "nombre_recovered    15914\n",
    "Name: 270, dtype: int64"
   ]
  },
  {
   "cell_type": "markdown",
   "id": "6f07881c",
   "metadata": {},
   "source": [
    "nombre_infected      1291\n",
    "nombre_sain          2122\n",
    "nombre_exposed        642\n",
    "nombre_recovered    15945\n",
    "Name: 271, dtype: int64"
   ]
  },
  {
   "cell_type": "markdown",
   "id": "fb8b541e",
   "metadata": {},
   "source": [
    "nombre_infected      1294\n",
    "nombre_sain          2089\n",
    "nombre_exposed        640\n",
    "nombre_recovered    15977\n",
    "Name: 272, dtype: int64"
   ]
  },
  {
   "cell_type": "markdown",
   "id": "f50c6949",
   "metadata": {},
   "source": [
    "nombre_infected      1300\n",
    "nombre_sain          2062\n",
    "nombre_exposed        631\n",
    "nombre_recovered    16007\n",
    "Name: 273, dtype: int64"
   ]
  },
  {
   "cell_type": "markdown",
   "id": "ba92ed13",
   "metadata": {},
   "source": [
    "nombre_infected      1308\n",
    "nombre_sain          2030\n",
    "nombre_exposed        628\n",
    "nombre_recovered    16034\n",
    "Name: 274, dtype: int64"
   ]
  },
  {
   "cell_type": "markdown",
   "id": "7e4d73ac",
   "metadata": {},
   "source": [
    "nombre_infected      1331\n",
    "nombre_sain          1955\n",
    "nombre_exposed        648\n",
    "nombre_recovered    16066\n",
    "Name: 275, dtype: int64"
   ]
  },
  {
   "cell_type": "markdown",
   "id": "6dca5052",
   "metadata": {},
   "source": [
    "nombre_infected      1318\n",
    "nombre_sain          1915\n",
    "nombre_exposed        661\n",
    "nombre_recovered    16106\n",
    "Name: 276, dtype: int64"
   ]
  },
  {
   "cell_type": "markdown",
   "id": "a62312ba",
   "metadata": {},
   "source": [
    "nombre_infected      1373\n",
    "nombre_sain          1884\n",
    "nombre_exposed        626\n",
    "nombre_recovered    16117\n",
    "Name: 277, dtype: int64"
   ]
  },
  {
   "cell_type": "markdown",
   "id": "5ee9e451",
   "metadata": {},
   "source": [
    "nombre_infected      1379\n",
    "nombre_sain          1847\n",
    "nombre_exposed        627\n",
    "nombre_recovered    16147\n",
    "Name: 278, dtype: int64"
   ]
  },
  {
   "cell_type": "markdown",
   "id": "2a560a65",
   "metadata": {},
   "source": [
    "nombre_infected      1372\n",
    "nombre_sain          1808\n",
    "nombre_exposed        620\n",
    "nombre_recovered    16200\n",
    "Name: 279, dtype: int64"
   ]
  },
  {
   "cell_type": "markdown",
   "id": "feadf5be",
   "metadata": {},
   "source": [
    "nombre_infected      1398\n",
    "nombre_sain          1781\n",
    "nombre_exposed        595\n",
    "nombre_recovered    16226\n",
    "Name: 280, dtype: int64"
   ]
  },
  {
   "cell_type": "markdown",
   "id": "013b6780",
   "metadata": {},
   "source": [
    "nombre_infected      1382\n",
    "nombre_sain          1769\n",
    "nombre_exposed        588\n",
    "nombre_recovered    16261\n",
    "Name: 281, dtype: int64"
   ]
  },
  {
   "cell_type": "markdown",
   "id": "b1baef31",
   "metadata": {},
   "source": [
    "nombre_infected      1343\n",
    "nombre_sain          1728\n",
    "nombre_exposed        573\n",
    "nombre_recovered    16356\n",
    "Name: 282, dtype: int64"
   ]
  },
  {
   "cell_type": "markdown",
   "id": "7fbb5dbe",
   "metadata": {},
   "source": [
    "nombre_infected      1338\n",
    "nombre_sain          1665\n",
    "nombre_exposed        584\n",
    "nombre_recovered    16413\n",
    "Name: 283, dtype: int64"
   ]
  },
  {
   "cell_type": "markdown",
   "id": "30827202",
   "metadata": {},
   "source": [
    "nombre_infected      1318\n",
    "nombre_sain          1657\n",
    "nombre_exposed        573\n",
    "nombre_recovered    16452\n",
    "Name: 284, dtype: int64"
   ]
  },
  {
   "cell_type": "markdown",
   "id": "1683295e",
   "metadata": {},
   "source": [
    "nombre_infected      1296\n",
    "nombre_sain          1628\n",
    "nombre_exposed        561\n",
    "nombre_recovered    16515\n",
    "Name: 285, dtype: int64"
   ]
  },
  {
   "cell_type": "markdown",
   "id": "bd5e5ed9",
   "metadata": {},
   "source": [
    "nombre_infected      1313\n",
    "nombre_sain          1595\n",
    "nombre_exposed        537\n",
    "nombre_recovered    16555\n",
    "Name: 286, dtype: int64"
   ]
  },
  {
   "cell_type": "markdown",
   "id": "88f729dc",
   "metadata": {},
   "source": [
    "nombre_infected      1304\n",
    "nombre_sain          1562\n",
    "nombre_exposed        527\n",
    "nombre_recovered    16607\n",
    "Name: 287, dtype: int64"
   ]
  },
  {
   "cell_type": "markdown",
   "id": "cfb0daf1",
   "metadata": {},
   "source": [
    "nombre_infected      1306\n",
    "nombre_sain          1536\n",
    "nombre_exposed        529\n",
    "nombre_recovered    16629\n",
    "Name: 288, dtype: int64"
   ]
  },
  {
   "cell_type": "markdown",
   "id": "3fbdcf6e",
   "metadata": {},
   "source": [
    "nombre_infected      1269\n",
    "nombre_sain          1513\n",
    "nombre_exposed        524\n",
    "nombre_recovered    16694\n",
    "Name: 289, dtype: int64"
   ]
  },
  {
   "cell_type": "markdown",
   "id": "5dae1216",
   "metadata": {},
   "source": [
    "nombre_infected      1216\n",
    "nombre_sain          1508\n",
    "nombre_exposed        518\n",
    "nombre_recovered    16758\n",
    "Name: 290, dtype: int64"
   ]
  },
  {
   "cell_type": "markdown",
   "id": "6d219e31",
   "metadata": {},
   "source": [
    "nombre_infected      1216\n",
    "nombre_sain          1517\n",
    "nombre_exposed        491\n",
    "nombre_recovered    16776\n",
    "Name: 291, dtype: int64"
   ]
  },
  {
   "cell_type": "markdown",
   "id": "c19ee968",
   "metadata": {},
   "source": [
    "nombre_infected      1178\n",
    "nombre_sain          1524\n",
    "nombre_exposed        495\n",
    "nombre_recovered    16803\n",
    "Name: 292, dtype: int64"
   ]
  },
  {
   "cell_type": "markdown",
   "id": "30ab87c6",
   "metadata": {},
   "source": [
    "nombre_infected      1172\n",
    "nombre_sain          1547\n",
    "nombre_exposed        465\n",
    "nombre_recovered    16816\n",
    "Name: 293, dtype: int64"
   ]
  },
  {
   "cell_type": "markdown",
   "id": "31a07aec",
   "metadata": {},
   "source": [
    "nombre_infected      1160\n",
    "nombre_sain          1558\n",
    "nombre_exposed        456\n",
    "nombre_recovered    16826\n",
    "Name: 294, dtype: int64"
   ]
  },
  {
   "cell_type": "markdown",
   "id": "1c8ce68c",
   "metadata": {},
   "source": [
    "nombre_infected      1129\n",
    "nombre_sain          1597\n",
    "nombre_exposed        448\n",
    "nombre_recovered    16826\n",
    "Name: 295, dtype: int64"
   ]
  },
  {
   "cell_type": "markdown",
   "id": "7ce8ddc5",
   "metadata": {},
   "source": [
    "nombre_infected      1094\n",
    "nombre_sain          1619\n",
    "nombre_exposed        431\n",
    "nombre_recovered    16856\n",
    "Name: 296, dtype: int64"
   ]
  },
  {
   "cell_type": "markdown",
   "id": "9cc297e8",
   "metadata": {},
   "source": [
    "nombre_infected      1064\n",
    "nombre_sain          1668\n",
    "nombre_exposed        421\n",
    "nombre_recovered    16847\n",
    "Name: 297, dtype: int64"
   ]
  },
  {
   "cell_type": "markdown",
   "id": "e4d295c0",
   "metadata": {},
   "source": [
    "nombre_infected      1048\n",
    "nombre_sain          1693\n",
    "nombre_exposed        408\n",
    "nombre_recovered    16851\n",
    "Name: 298, dtype: int64"
   ]
  },
  {
   "cell_type": "markdown",
   "id": "9936196a",
   "metadata": {},
   "source": [
    "nombre_infected      1025\n",
    "nombre_sain          1698\n",
    "nombre_exposed        414\n",
    "nombre_recovered    16863\n",
    "Name: 299, dtype: int64"
   ]
  },
  {
   "cell_type": "markdown",
   "id": "783c92a8",
   "metadata": {},
   "source": [
    "nombre_infected      1003\n",
    "nombre_sain          1732\n",
    "nombre_exposed        422\n",
    "nombre_recovered    16843\n",
    "Name: 300, dtype: int64"
   ]
  },
  {
   "cell_type": "markdown",
   "id": "892d7674",
   "metadata": {},
   "source": [
    "nombre_infected       982\n",
    "nombre_sain          1741\n",
    "nombre_exposed        428\n",
    "nombre_recovered    16849\n",
    "Name: 301, dtype: int64"
   ]
  },
  {
   "cell_type": "markdown",
   "id": "5509ccfb",
   "metadata": {},
   "source": [
    "nombre_infected       964\n",
    "nombre_sain          1782\n",
    "nombre_exposed        416\n",
    "nombre_recovered    16838\n",
    "Name: 302, dtype: int64"
   ]
  },
  {
   "cell_type": "markdown",
   "id": "a92b8b5f",
   "metadata": {},
   "source": [
    "nombre_infected       946\n",
    "nombre_sain          1796\n",
    "nombre_exposed        438\n",
    "nombre_recovered    16820\n",
    "Name: 303, dtype: int64"
   ]
  },
  {
   "cell_type": "markdown",
   "id": "7b50d324",
   "metadata": {},
   "source": [
    "nombre_infected       935\n",
    "nombre_sain          1804\n",
    "nombre_exposed        433\n",
    "nombre_recovered    16828\n",
    "Name: 304, dtype: int64"
   ]
  },
  {
   "cell_type": "markdown",
   "id": "b3aaabeb",
   "metadata": {},
   "source": [
    "nombre_infected       917\n",
    "nombre_sain          1831\n",
    "nombre_exposed        421\n",
    "nombre_recovered    16831\n",
    "Name: 305, dtype: int64"
   ]
  },
  {
   "cell_type": "markdown",
   "id": "11f207c5",
   "metadata": {},
   "source": [
    "nombre_infected       886\n",
    "nombre_sain          1852\n",
    "nombre_exposed        429\n",
    "nombre_recovered    16833\n",
    "Name: 306, dtype: int64"
   ]
  },
  {
   "cell_type": "markdown",
   "id": "63ebdf7a",
   "metadata": {},
   "source": [
    "nombre_infected       879\n",
    "nombre_sain          1874\n",
    "nombre_exposed        431\n",
    "nombre_recovered    16816\n",
    "Name: 307, dtype: int64"
   ]
  },
  {
   "cell_type": "markdown",
   "id": "dc2cc21e",
   "metadata": {},
   "source": [
    "nombre_infected       880\n",
    "nombre_sain          1872\n",
    "nombre_exposed        445\n",
    "nombre_recovered    16803\n",
    "Name: 308, dtype: int64"
   ]
  },
  {
   "cell_type": "markdown",
   "id": "ae9b75f8",
   "metadata": {},
   "source": [
    "nombre_infected       871\n",
    "nombre_sain          1897\n",
    "nombre_exposed        437\n",
    "nombre_recovered    16795\n",
    "Name: 309, dtype: int64"
   ]
  },
  {
   "cell_type": "markdown",
   "id": "20c430f7",
   "metadata": {},
   "source": [
    "nombre_infected       860\n",
    "nombre_sain          1918\n",
    "nombre_exposed        440\n",
    "nombre_recovered    16782\n",
    "Name: 310, dtype: int64"
   ]
  },
  {
   "cell_type": "markdown",
   "id": "d9eee28b",
   "metadata": {},
   "source": [
    "nombre_infected       850\n",
    "nombre_sain          1929\n",
    "nombre_exposed        427\n",
    "nombre_recovered    16794\n",
    "Name: 311, dtype: int64"
   ]
  },
  {
   "cell_type": "markdown",
   "id": "7f487da2",
   "metadata": {},
   "source": [
    "nombre_infected       833\n",
    "nombre_sain          1968\n",
    "nombre_exposed        431\n",
    "nombre_recovered    16768\n",
    "Name: 312, dtype: int64"
   ]
  },
  {
   "cell_type": "markdown",
   "id": "fd985c28",
   "metadata": {},
   "source": [
    "nombre_infected       810\n",
    "nombre_sain          2011\n",
    "nombre_exposed        408\n",
    "nombre_recovered    16771\n",
    "Name: 313, dtype: int64"
   ]
  },
  {
   "cell_type": "markdown",
   "id": "8e5fe99e",
   "metadata": {},
   "source": [
    "nombre_infected       816\n",
    "nombre_sain          2035\n",
    "nombre_exposed        414\n",
    "nombre_recovered    16735\n",
    "Name: 314, dtype: int64"
   ]
  },
  {
   "cell_type": "markdown",
   "id": "11f8d720",
   "metadata": {},
   "source": [
    "nombre_infected       811\n",
    "nombre_sain          2074\n",
    "nombre_exposed        391\n",
    "nombre_recovered    16724\n",
    "Name: 315, dtype: int64"
   ]
  },
  {
   "cell_type": "markdown",
   "id": "eba7470c",
   "metadata": {},
   "source": [
    "nombre_infected       792\n",
    "nombre_sain          2094\n",
    "nombre_exposed        389\n",
    "nombre_recovered    16725\n",
    "Name: 316, dtype: int64"
   ]
  },
  {
   "cell_type": "markdown",
   "id": "8b09f0b3",
   "metadata": {},
   "source": [
    "nombre_infected       759\n",
    "nombre_sain          2100\n",
    "nombre_exposed        407\n",
    "nombre_recovered    16734\n",
    "Name: 317, dtype: int64"
   ]
  },
  {
   "cell_type": "markdown",
   "id": "ec15101f",
   "metadata": {},
   "source": [
    "nombre_infected       756\n",
    "nombre_sain          2142\n",
    "nombre_exposed        378\n",
    "nombre_recovered    16724\n",
    "Name: 318, dtype: int64"
   ]
  },
  {
   "cell_type": "markdown",
   "id": "11499591",
   "metadata": {},
   "source": [
    "nombre_infected       770\n",
    "nombre_sain          2149\n",
    "nombre_exposed        370\n",
    "nombre_recovered    16711\n",
    "Name: 319, dtype: int64"
   ]
  },
  {
   "cell_type": "markdown",
   "id": "3f76b100",
   "metadata": {},
   "source": [
    "nombre_infected       739\n",
    "nombre_sain          2163\n",
    "nombre_exposed        388\n",
    "nombre_recovered    16710\n",
    "Name: 320, dtype: int64"
   ]
  },
  {
   "cell_type": "markdown",
   "id": "cace67a2",
   "metadata": {},
   "source": [
    "nombre_infected       719\n",
    "nombre_sain          2175\n",
    "nombre_exposed        404\n",
    "nombre_recovered    16702\n",
    "Name: 321, dtype: int64"
   ]
  },
  {
   "cell_type": "markdown",
   "id": "742c5937",
   "metadata": {},
   "source": [
    "nombre_infected       716\n",
    "nombre_sain          2199\n",
    "nombre_exposed        397\n",
    "nombre_recovered    16688\n",
    "Name: 322, dtype: int64"
   ]
  },
  {
   "cell_type": "markdown",
   "id": "f4990c31",
   "metadata": {},
   "source": [
    "nombre_infected       715\n",
    "nombre_sain          2223\n",
    "nombre_exposed        394\n",
    "nombre_recovered    16668\n",
    "Name: 323, dtype: int64"
   ]
  },
  {
   "cell_type": "markdown",
   "id": "841b7c96",
   "metadata": {},
   "source": [
    "nombre_infected       724\n",
    "nombre_sain          2220\n",
    "nombre_exposed        399\n",
    "nombre_recovered    16657\n",
    "Name: 324, dtype: int64"
   ]
  },
  {
   "cell_type": "markdown",
   "id": "580fed47",
   "metadata": {},
   "source": [
    "nombre_infected       722\n",
    "nombre_sain          2261\n",
    "nombre_exposed        396\n",
    "nombre_recovered    16621\n",
    "Name: 325, dtype: int64"
   ]
  },
  {
   "cell_type": "markdown",
   "id": "5ab2f533",
   "metadata": {},
   "source": [
    "nombre_infected       730\n",
    "nombre_sain          2279\n",
    "nombre_exposed        385\n",
    "nombre_recovered    16606\n",
    "Name: 326, dtype: int64"
   ]
  },
  {
   "cell_type": "markdown",
   "id": "07c485a1",
   "metadata": {},
   "source": [
    "nombre_infected       717\n",
    "nombre_sain          2286\n",
    "nombre_exposed        393\n",
    "nombre_recovered    16604\n",
    "Name: 327, dtype: int64"
   ]
  },
  {
   "cell_type": "markdown",
   "id": "0c2449d2",
   "metadata": {},
   "source": [
    "nombre_infected       687\n",
    "nombre_sain          2324\n",
    "nombre_exposed        408\n",
    "nombre_recovered    16581\n",
    "Name: 328, dtype: int64"
   ]
  },
  {
   "cell_type": "markdown",
   "id": "83bc6371",
   "metadata": {},
   "source": [
    "nombre_infected       687\n",
    "nombre_sain          2354\n",
    "nombre_exposed        384\n",
    "nombre_recovered    16575\n",
    "Name: 329, dtype: int64"
   ]
  },
  {
   "cell_type": "markdown",
   "id": "bce6e3fe",
   "metadata": {},
   "source": [
    "nombre_infected       676\n",
    "nombre_sain          2402\n",
    "nombre_exposed        409\n",
    "nombre_recovered    16513\n",
    "Name: 330, dtype: int64"
   ]
  },
  {
   "cell_type": "markdown",
   "id": "5c522620",
   "metadata": {},
   "source": [
    "nombre_infected       656\n",
    "nombre_sain          2431\n",
    "nombre_exposed        410\n",
    "nombre_recovered    16503\n",
    "Name: 331, dtype: int64"
   ]
  },
  {
   "cell_type": "markdown",
   "id": "fa73863b",
   "metadata": {},
   "source": [
    "nombre_infected       652\n",
    "nombre_sain          2469\n",
    "nombre_exposed        413\n",
    "nombre_recovered    16466\n",
    "Name: 332, dtype: int64"
   ]
  },
  {
   "cell_type": "markdown",
   "id": "7510d287",
   "metadata": {},
   "source": [
    "nombre_infected       641\n",
    "nombre_sain          2492\n",
    "nombre_exposed        428\n",
    "nombre_recovered    16439\n",
    "Name: 333, dtype: int64"
   ]
  },
  {
   "cell_type": "markdown",
   "id": "b43486fd",
   "metadata": {},
   "source": [
    "nombre_infected       657\n",
    "nombre_sain          2510\n",
    "nombre_exposed        440\n",
    "nombre_recovered    16393\n",
    "Name: 334, dtype: int64"
   ]
  },
  {
   "cell_type": "markdown",
   "id": "daa95008",
   "metadata": {},
   "source": [
    "nombre_infected       651\n",
    "nombre_sain          2525\n",
    "nombre_exposed        442\n",
    "nombre_recovered    16382\n",
    "Name: 335, dtype: int64"
   ]
  },
  {
   "cell_type": "markdown",
   "id": "51f0383e",
   "metadata": {},
   "source": [
    "nombre_infected       667\n",
    "nombre_sain          2534\n",
    "nombre_exposed        446\n",
    "nombre_recovered    16353\n",
    "Name: 336, dtype: int64"
   ]
  },
  {
   "cell_type": "markdown",
   "id": "df13a7eb",
   "metadata": {},
   "source": [
    "nombre_infected       666\n",
    "nombre_sain          2536\n",
    "nombre_exposed        455\n",
    "nombre_recovered    16343\n",
    "Name: 337, dtype: int64"
   ]
  },
  {
   "cell_type": "markdown",
   "id": "3ae9b8c1",
   "metadata": {},
   "source": [
    "nombre_infected       668\n",
    "nombre_sain          2552\n",
    "nombre_exposed        450\n",
    "nombre_recovered    16330\n",
    "Name: 338, dtype: int64"
   ]
  },
  {
   "cell_type": "markdown",
   "id": "d7e183d2",
   "metadata": {},
   "source": [
    "nombre_infected       689\n",
    "nombre_sain          2559\n",
    "nombre_exposed        436\n",
    "nombre_recovered    16316\n",
    "Name: 339, dtype: int64"
   ]
  },
  {
   "cell_type": "markdown",
   "id": "e24152f2",
   "metadata": {},
   "source": [
    "nombre_infected       693\n",
    "nombre_sain          2562\n",
    "nombre_exposed        456\n",
    "nombre_recovered    16289\n",
    "Name: 340, dtype: int64"
   ]
  },
  {
   "cell_type": "markdown",
   "id": "349fc947",
   "metadata": {},
   "source": [
    "nombre_infected       693\n",
    "nombre_sain          2560\n",
    "nombre_exposed        459\n",
    "nombre_recovered    16288\n",
    "Name: 341, dtype: int64"
   ]
  },
  {
   "cell_type": "markdown",
   "id": "024239b1",
   "metadata": {},
   "source": [
    "nombre_infected       694\n",
    "nombre_sain          2582\n",
    "nombre_exposed        465\n",
    "nombre_recovered    16259\n",
    "Name: 342, dtype: int64"
   ]
  },
  {
   "cell_type": "markdown",
   "id": "8437bf5f",
   "metadata": {},
   "source": [
    "nombre_infected       692\n",
    "nombre_sain          2575\n",
    "nombre_exposed        452\n",
    "nombre_recovered    16281\n",
    "Name: 343, dtype: int64"
   ]
  },
  {
   "cell_type": "markdown",
   "id": "9d3b317e",
   "metadata": {},
   "source": [
    "nombre_infected       703\n",
    "nombre_sain          2583\n",
    "nombre_exposed        424\n",
    "nombre_recovered    16290\n",
    "Name: 344, dtype: int64"
   ]
  },
  {
   "cell_type": "markdown",
   "id": "41919e60",
   "metadata": {},
   "source": [
    "nombre_infected       700\n",
    "nombre_sain          2558\n",
    "nombre_exposed        446\n",
    "nombre_recovered    16296\n",
    "Name: 345, dtype: int64"
   ]
  },
  {
   "cell_type": "markdown",
   "id": "4e4df79e",
   "metadata": {},
   "source": [
    "nombre_infected       689\n",
    "nombre_sain          2561\n",
    "nombre_exposed        459\n",
    "nombre_recovered    16291\n",
    "Name: 346, dtype: int64"
   ]
  },
  {
   "cell_type": "markdown",
   "id": "ab9b7dcf",
   "metadata": {},
   "source": [
    "nombre_infected       708\n",
    "nombre_sain          2531\n",
    "nombre_exposed        448\n",
    "nombre_recovered    16313\n",
    "Name: 347, dtype: int64"
   ]
  },
  {
   "cell_type": "markdown",
   "id": "7ee2ee29",
   "metadata": {},
   "source": [
    "nombre_infected       726\n",
    "nombre_sain          2548\n",
    "nombre_exposed        431\n",
    "nombre_recovered    16295\n",
    "Name: 348, dtype: int64"
   ]
  },
  {
   "cell_type": "markdown",
   "id": "3918dea4",
   "metadata": {},
   "source": [
    "nombre_infected       723\n",
    "nombre_sain          2554\n",
    "nombre_exposed        432\n",
    "nombre_recovered    16291\n",
    "Name: 349, dtype: int64"
   ]
  },
  {
   "cell_type": "markdown",
   "id": "19f63d31",
   "metadata": {},
   "source": [
    "nombre_infected       687\n",
    "nombre_sain          2581\n",
    "nombre_exposed        434\n",
    "nombre_recovered    16298\n",
    "Name: 350, dtype: int64"
   ]
  },
  {
   "cell_type": "markdown",
   "id": "381ea5d4",
   "metadata": {},
   "source": [
    "nombre_infected       704\n",
    "nombre_sain          2582\n",
    "nombre_exposed        433\n",
    "nombre_recovered    16281\n",
    "Name: 351, dtype: int64"
   ]
  },
  {
   "cell_type": "markdown",
   "id": "21315628",
   "metadata": {},
   "source": [
    "nombre_infected       702\n",
    "nombre_sain          2557\n",
    "nombre_exposed        430\n",
    "nombre_recovered    16311\n",
    "Name: 352, dtype: int64"
   ]
  },
  {
   "cell_type": "markdown",
   "id": "e6ad1e4d",
   "metadata": {},
   "source": [
    "nombre_infected       722\n",
    "nombre_sain          2530\n",
    "nombre_exposed        439\n",
    "nombre_recovered    16309\n",
    "Name: 353, dtype: int64"
   ]
  },
  {
   "cell_type": "markdown",
   "id": "90ea7b89",
   "metadata": {},
   "source": [
    "nombre_infected       685\n",
    "nombre_sain          2525\n",
    "nombre_exposed        485\n",
    "nombre_recovered    16305\n",
    "Name: 354, dtype: int64"
   ]
  },
  {
   "cell_type": "markdown",
   "id": "33fa5b85",
   "metadata": {},
   "source": [
    "nombre_infected       712\n",
    "nombre_sain          2556\n",
    "nombre_exposed        466\n",
    "nombre_recovered    16266\n",
    "Name: 355, dtype: int64"
   ]
  },
  {
   "cell_type": "markdown",
   "id": "559cfbbf",
   "metadata": {},
   "source": [
    "nombre_infected       720\n",
    "nombre_sain          2566\n",
    "nombre_exposed        468\n",
    "nombre_recovered    16246\n",
    "Name: 356, dtype: int64"
   ]
  },
  {
   "cell_type": "markdown",
   "id": "6beb6a30",
   "metadata": {},
   "source": [
    "nombre_infected       732\n",
    "nombre_sain          2545\n",
    "nombre_exposed        475\n",
    "nombre_recovered    16248\n",
    "Name: 357, dtype: int64"
   ]
  },
  {
   "cell_type": "markdown",
   "id": "06bf1169",
   "metadata": {},
   "source": [
    "nombre_infected       765\n",
    "nombre_sain          2554\n",
    "nombre_exposed        457\n",
    "nombre_recovered    16224\n",
    "Name: 358, dtype: int64"
   ]
  },
  {
   "cell_type": "markdown",
   "id": "fc8cce4e",
   "metadata": {},
   "source": [
    "nombre_infected       774\n",
    "nombre_sain          2555\n",
    "nombre_exposed        473\n",
    "nombre_recovered    16198\n",
    "Name: 359, dtype: int64"
   ]
  },
  {
   "cell_type": "markdown",
   "id": "37ca5ea5",
   "metadata": {},
   "source": [
    "nombre_infected       764\n",
    "nombre_sain          2551\n",
    "nombre_exposed        474\n",
    "nombre_recovered    16211\n",
    "Name: 360, dtype: int64"
   ]
  },
  {
   "cell_type": "markdown",
   "id": "86eb360e",
   "metadata": {},
   "source": [
    "nombre_infected       761\n",
    "nombre_sain          2545\n",
    "nombre_exposed        515\n",
    "nombre_recovered    16179\n",
    "Name: 361, dtype: int64"
   ]
  },
  {
   "cell_type": "markdown",
   "id": "226f766b",
   "metadata": {},
   "source": [
    "nombre_infected       790\n",
    "nombre_sain          2544\n",
    "nombre_exposed        514\n",
    "nombre_recovered    16152\n",
    "Name: 362, dtype: int64"
   ]
  },
  {
   "cell_type": "markdown",
   "id": "d87ee6f0",
   "metadata": {},
   "source": [
    "nombre_infected       845\n",
    "nombre_sain          2533\n",
    "nombre_exposed        488\n",
    "nombre_recovered    16134\n",
    "Name: 363, dtype: int64"
   ]
  },
  {
   "cell_type": "markdown",
   "id": "20aef9f3",
   "metadata": {},
   "source": [
    "nombre_infected       835\n",
    "nombre_sain          2521\n",
    "nombre_exposed        499\n",
    "nombre_recovered    16145\n",
    "Name: 364, dtype: int64"
   ]
  },
  {
   "cell_type": "markdown",
   "id": "493cffa4",
   "metadata": {},
   "source": [
    "nombre_infected       852\n",
    "nombre_sain          2538\n",
    "nombre_exposed        482\n",
    "nombre_recovered    16128\n",
    "Name: 365, dtype: int64"
   ]
  },
  {
   "cell_type": "markdown",
   "id": "bab12fc8",
   "metadata": {},
   "source": [
    "nombre_infected       855\n",
    "nombre_sain          2515\n",
    "nombre_exposed        509\n",
    "nombre_recovered    16121\n",
    "Name: 366, dtype: int64"
   ]
  },
  {
   "cell_type": "markdown",
   "id": "8f8d7f34",
   "metadata": {},
   "source": [
    "nombre_infected       868\n",
    "nombre_sain          2498\n",
    "nombre_exposed        507\n",
    "nombre_recovered    16127\n",
    "Name: 367, dtype: int64"
   ]
  },
  {
   "cell_type": "markdown",
   "id": "a90513c5",
   "metadata": {},
   "source": [
    "nombre_infected       870\n",
    "nombre_sain          2503\n",
    "nombre_exposed        494\n",
    "nombre_recovered    16133\n",
    "Name: 368, dtype: int64"
   ]
  },
  {
   "cell_type": "markdown",
   "id": "0fe597c4",
   "metadata": {},
   "source": [
    "nombre_infected       871\n",
    "nombre_sain          2484\n",
    "nombre_exposed        500\n",
    "nombre_recovered    16145\n",
    "Name: 369, dtype: int64"
   ]
  },
  {
   "cell_type": "markdown",
   "id": "d21135aa",
   "metadata": {},
   "source": [
    "nombre_infected       861\n",
    "nombre_sain          2476\n",
    "nombre_exposed        509\n",
    "nombre_recovered    16154\n",
    "Name: 370, dtype: int64"
   ]
  },
  {
   "cell_type": "markdown",
   "id": "e01f6bca",
   "metadata": {},
   "source": [
    "nombre_infected       844\n",
    "nombre_sain          2469\n",
    "nombre_exposed        512\n",
    "nombre_recovered    16175\n",
    "Name: 371, dtype: int64"
   ]
  },
  {
   "cell_type": "markdown",
   "id": "cdaafb45",
   "metadata": {},
   "source": [
    "nombre_infected       851\n",
    "nombre_sain          2447\n",
    "nombre_exposed        498\n",
    "nombre_recovered    16204\n",
    "Name: 372, dtype: int64"
   ]
  },
  {
   "cell_type": "markdown",
   "id": "1909de03",
   "metadata": {},
   "source": [
    "nombre_infected       854\n",
    "nombre_sain          2453\n",
    "nombre_exposed        486\n",
    "nombre_recovered    16207\n",
    "Name: 373, dtype: int64"
   ]
  },
  {
   "cell_type": "markdown",
   "id": "2cfae855",
   "metadata": {},
   "source": [
    "nombre_infected       877\n",
    "nombre_sain          2418\n",
    "nombre_exposed        483\n",
    "nombre_recovered    16222\n",
    "Name: 374, dtype: int64"
   ]
  },
  {
   "cell_type": "markdown",
   "id": "b5f000b8",
   "metadata": {},
   "source": [
    "nombre_infected       872\n",
    "nombre_sain          2399\n",
    "nombre_exposed        499\n",
    "nombre_recovered    16230\n",
    "Name: 375, dtype: int64"
   ]
  },
  {
   "cell_type": "markdown",
   "id": "9ebf7222",
   "metadata": {},
   "source": [
    "nombre_infected       884\n",
    "nombre_sain          2377\n",
    "nombre_exposed        509\n",
    "nombre_recovered    16230\n",
    "Name: 376, dtype: int64"
   ]
  },
  {
   "cell_type": "markdown",
   "id": "b0371c7a",
   "metadata": {},
   "source": [
    "nombre_infected       878\n",
    "nombre_sain          2379\n",
    "nombre_exposed        492\n",
    "nombre_recovered    16251\n",
    "Name: 377, dtype: int64"
   ]
  },
  {
   "cell_type": "markdown",
   "id": "39fb84b9",
   "metadata": {},
   "source": [
    "nombre_infected       878\n",
    "nombre_sain          2350\n",
    "nombre_exposed        498\n",
    "nombre_recovered    16274\n",
    "Name: 378, dtype: int64"
   ]
  },
  {
   "cell_type": "markdown",
   "id": "a5e64f66",
   "metadata": {},
   "source": [
    "nombre_infected       889\n",
    "nombre_sain          2332\n",
    "nombre_exposed        494\n",
    "nombre_recovered    16285\n",
    "Name: 379, dtype: int64"
   ]
  },
  {
   "cell_type": "markdown",
   "id": "4353bba9",
   "metadata": {},
   "source": [
    "nombre_infected       893\n",
    "nombre_sain          2281\n",
    "nombre_exposed        508\n",
    "nombre_recovered    16318\n",
    "Name: 380, dtype: int64"
   ]
  },
  {
   "cell_type": "markdown",
   "id": "86db13d2",
   "metadata": {},
   "source": [
    "nombre_infected       889\n",
    "nombre_sain          2274\n",
    "nombre_exposed        512\n",
    "nombre_recovered    16325\n",
    "Name: 381, dtype: int64"
   ]
  },
  {
   "cell_type": "markdown",
   "id": "5643c34c",
   "metadata": {},
   "source": [
    "nombre_infected       912\n",
    "nombre_sain          2252\n",
    "nombre_exposed        490\n",
    "nombre_recovered    16346\n",
    "Name: 382, dtype: int64"
   ]
  },
  {
   "cell_type": "markdown",
   "id": "dd05707a",
   "metadata": {},
   "source": [
    "nombre_infected       901\n",
    "nombre_sain          2240\n",
    "nombre_exposed        500\n",
    "nombre_recovered    16359\n",
    "Name: 383, dtype: int64"
   ]
  },
  {
   "cell_type": "markdown",
   "id": "0972b7c1",
   "metadata": {},
   "source": [
    "nombre_infected       911\n",
    "nombre_sain          2234\n",
    "nombre_exposed        484\n",
    "nombre_recovered    16371\n",
    "Name: 384, dtype: int64"
   ]
  },
  {
   "cell_type": "markdown",
   "id": "48a07d66",
   "metadata": {},
   "source": [
    "nombre_infected       924\n",
    "nombre_sain          2228\n",
    "nombre_exposed        490\n",
    "nombre_recovered    16358\n",
    "Name: 385, dtype: int64"
   ]
  },
  {
   "cell_type": "markdown",
   "id": "05c81658",
   "metadata": {},
   "source": [
    "nombre_infected       916\n",
    "nombre_sain          2225\n",
    "nombre_exposed        479\n",
    "nombre_recovered    16380\n",
    "Name: 386, dtype: int64"
   ]
  },
  {
   "cell_type": "markdown",
   "id": "a4bd0b6b",
   "metadata": {},
   "source": [
    "nombre_infected       914\n",
    "nombre_sain          2194\n",
    "nombre_exposed        494\n",
    "nombre_recovered    16398\n",
    "Name: 387, dtype: int64"
   ]
  },
  {
   "cell_type": "markdown",
   "id": "c063e33e",
   "metadata": {},
   "source": [
    "nombre_infected       918\n",
    "nombre_sain          2171\n",
    "nombre_exposed        510\n",
    "nombre_recovered    16401\n",
    "Name: 388, dtype: int64"
   ]
  },
  {
   "cell_type": "markdown",
   "id": "fa1cec53",
   "metadata": {},
   "source": [
    "nombre_infected       903\n",
    "nombre_sain          2187\n",
    "nombre_exposed        476\n",
    "nombre_recovered    16434\n",
    "Name: 389, dtype: int64"
   ]
  },
  {
   "cell_type": "markdown",
   "id": "ce0eaf92",
   "metadata": {},
   "source": [
    "nombre_infected       926\n",
    "nombre_sain          2181\n",
    "nombre_exposed        452\n",
    "nombre_recovered    16441\n",
    "Name: 390, dtype: int64"
   ]
  },
  {
   "cell_type": "markdown",
   "id": "fc6c61f5",
   "metadata": {},
   "source": [
    "nombre_infected       906\n",
    "nombre_sain          2169\n",
    "nombre_exposed        458\n",
    "nombre_recovered    16467\n",
    "Name: 391, dtype: int64"
   ]
  },
  {
   "cell_type": "markdown",
   "id": "a8719553",
   "metadata": {},
   "source": [
    "nombre_infected       927\n",
    "nombre_sain          2181\n",
    "nombre_exposed        425\n",
    "nombre_recovered    16467\n",
    "Name: 392, dtype: int64"
   ]
  },
  {
   "cell_type": "markdown",
   "id": "58a291c7",
   "metadata": {},
   "source": [
    "nombre_infected       908\n",
    "nombre_sain          2173\n",
    "nombre_exposed        450\n",
    "nombre_recovered    16469\n",
    "Name: 393, dtype: int64"
   ]
  },
  {
   "cell_type": "markdown",
   "id": "fdd25810",
   "metadata": {},
   "source": [
    "nombre_infected       889\n",
    "nombre_sain          2149\n",
    "nombre_exposed        468\n",
    "nombre_recovered    16494\n",
    "Name: 394, dtype: int64"
   ]
  },
  {
   "cell_type": "markdown",
   "id": "b1d0ef10",
   "metadata": {},
   "source": [
    "nombre_infected       907\n",
    "nombre_sain          2137\n",
    "nombre_exposed        471\n",
    "nombre_recovered    16485\n",
    "Name: 395, dtype: int64"
   ]
  },
  {
   "cell_type": "markdown",
   "id": "70647fec",
   "metadata": {},
   "source": [
    "nombre_infected       903\n",
    "nombre_sain          2132\n",
    "nombre_exposed        492\n",
    "nombre_recovered    16473\n",
    "Name: 396, dtype: int64"
   ]
  },
  {
   "cell_type": "markdown",
   "id": "a73ef5ef",
   "metadata": {},
   "source": [
    "nombre_infected       890\n",
    "nombre_sain          2157\n",
    "nombre_exposed        467\n",
    "nombre_recovered    16486\n",
    "Name: 397, dtype: int64"
   ]
  },
  {
   "cell_type": "markdown",
   "id": "d04d9f48",
   "metadata": {},
   "source": [
    "nombre_infected       905\n",
    "nombre_sain          2152\n",
    "nombre_exposed        480\n",
    "nombre_recovered    16463\n",
    "Name: 398, dtype: int64"
   ]
  },
  {
   "cell_type": "markdown",
   "id": "b7244722",
   "metadata": {},
   "source": [
    "nombre_infected       883\n",
    "nombre_sain          2157\n",
    "nombre_exposed        503\n",
    "nombre_recovered    16457\n",
    "Name: 399, dtype: int64"
   ]
  },
  {
   "cell_type": "markdown",
   "id": "3c49a445",
   "metadata": {},
   "source": [
    "nombre_infected       905\n",
    "nombre_sain          2147\n",
    "nombre_exposed        477\n",
    "nombre_recovered    16471\n",
    "Name: 400, dtype: int64"
   ]
  },
  {
   "cell_type": "markdown",
   "id": "ffdbd84a",
   "metadata": {},
   "source": [
    "nombre_infected       909\n",
    "nombre_sain          2144\n",
    "nombre_exposed        486\n",
    "nombre_recovered    16461\n",
    "Name: 401, dtype: int64"
   ]
  },
  {
   "cell_type": "markdown",
   "id": "c1a7dbf3",
   "metadata": {},
   "source": [
    "nombre_infected       917\n",
    "nombre_sain          2161\n",
    "nombre_exposed        469\n",
    "nombre_recovered    16453\n",
    "Name: 402, dtype: int64"
   ]
  },
  {
   "cell_type": "markdown",
   "id": "d9a8d0a9",
   "metadata": {},
   "source": [
    "nombre_infected       916\n",
    "nombre_sain          2145\n",
    "nombre_exposed        503\n",
    "nombre_recovered    16436\n",
    "Name: 403, dtype: int64"
   ]
  },
  {
   "cell_type": "markdown",
   "id": "f32335fe",
   "metadata": {},
   "source": [
    "nombre_infected       934\n",
    "nombre_sain          2126\n",
    "nombre_exposed        506\n",
    "nombre_recovered    16434\n",
    "Name: 404, dtype: int64"
   ]
  },
  {
   "cell_type": "markdown",
   "id": "f150616b",
   "metadata": {},
   "source": [
    "nombre_infected       973\n",
    "nombre_sain          2113\n",
    "nombre_exposed        482\n",
    "nombre_recovered    16432\n",
    "Name: 405, dtype: int64"
   ]
  },
  {
   "cell_type": "markdown",
   "id": "3f261c6c",
   "metadata": {},
   "source": [
    "nombre_infected       986\n",
    "nombre_sain          2104\n",
    "nombre_exposed        471\n",
    "nombre_recovered    16439\n",
    "Name: 406, dtype: int64"
   ]
  },
  {
   "cell_type": "markdown",
   "id": "c09d523e",
   "metadata": {},
   "source": [
    "nombre_infected       973\n",
    "nombre_sain          2097\n",
    "nombre_exposed        472\n",
    "nombre_recovered    16458\n",
    "Name: 407, dtype: int64"
   ]
  },
  {
   "cell_type": "markdown",
   "id": "8060e72f",
   "metadata": {},
   "source": [
    "nombre_infected       971\n",
    "nombre_sain          2082\n",
    "nombre_exposed        478\n",
    "nombre_recovered    16469\n",
    "Name: 408, dtype: int64"
   ]
  },
  {
   "cell_type": "markdown",
   "id": "1e60f391",
   "metadata": {},
   "source": [
    "nombre_infected       975\n",
    "nombre_sain          2067\n",
    "nombre_exposed        506\n",
    "nombre_recovered    16452\n",
    "Name: 409, dtype: int64"
   ]
  },
  {
   "cell_type": "markdown",
   "id": "349888bf",
   "metadata": {},
   "source": [
    "nombre_infected       990\n",
    "nombre_sain          2054\n",
    "nombre_exposed        518\n",
    "nombre_recovered    16438\n",
    "Name: 410, dtype: int64"
   ]
  },
  {
   "cell_type": "markdown",
   "id": "10b5e488",
   "metadata": {},
   "source": [
    "nombre_infected      1007\n",
    "nombre_sain          2018\n",
    "nombre_exposed        538\n",
    "nombre_recovered    16437\n",
    "Name: 411, dtype: int64"
   ]
  },
  {
   "cell_type": "markdown",
   "id": "1b32e801",
   "metadata": {},
   "source": [
    "nombre_infected      1008\n",
    "nombre_sain          2013\n",
    "nombre_exposed        518\n",
    "nombre_recovered    16461\n",
    "Name: 412, dtype: int64"
   ]
  },
  {
   "cell_type": "markdown",
   "id": "03a6d763",
   "metadata": {},
   "source": [
    "nombre_infected       991\n",
    "nombre_sain          2005\n",
    "nombre_exposed        520\n",
    "nombre_recovered    16484\n",
    "Name: 413, dtype: int64"
   ]
  },
  {
   "cell_type": "markdown",
   "id": "cd6fc2a6",
   "metadata": {},
   "source": [
    "nombre_infected       986\n",
    "nombre_sain          2000\n",
    "nombre_exposed        514\n",
    "nombre_recovered    16500\n",
    "Name: 414, dtype: int64"
   ]
  },
  {
   "cell_type": "markdown",
   "id": "fa107635",
   "metadata": {},
   "source": [
    "nombre_infected       999\n",
    "nombre_sain          2007\n",
    "nombre_exposed        492\n",
    "nombre_recovered    16502\n",
    "Name: 415, dtype: int64"
   ]
  },
  {
   "cell_type": "markdown",
   "id": "92a7b3ad",
   "metadata": {},
   "source": [
    "nombre_infected      1007\n",
    "nombre_sain          1986\n",
    "nombre_exposed        489\n",
    "nombre_recovered    16518\n",
    "Name: 416, dtype: int64"
   ]
  },
  {
   "cell_type": "markdown",
   "id": "4e661a1b",
   "metadata": {},
   "source": [
    "nombre_infected      1022\n",
    "nombre_sain          1951\n",
    "nombre_exposed        503\n",
    "nombre_recovered    16524\n",
    "Name: 417, dtype: int64"
   ]
  },
  {
   "cell_type": "markdown",
   "id": "66fad954",
   "metadata": {},
   "source": [
    "nombre_infected       999\n",
    "nombre_sain          1937\n",
    "nombre_exposed        518\n",
    "nombre_recovered    16546\n",
    "Name: 418, dtype: int64"
   ]
  },
  {
   "cell_type": "markdown",
   "id": "2a373c14",
   "metadata": {},
   "source": [
    "nombre_infected      1022\n",
    "nombre_sain          1942\n",
    "nombre_exposed        495\n",
    "nombre_recovered    16541\n",
    "Name: 419, dtype: int64"
   ]
  },
  {
   "cell_type": "markdown",
   "id": "66d780d4",
   "metadata": {},
   "source": [
    "nombre_infected      1009\n",
    "nombre_sain          1933\n",
    "nombre_exposed        509\n",
    "nombre_recovered    16549\n",
    "Name: 420, dtype: int64"
   ]
  },
  {
   "cell_type": "markdown",
   "id": "ba8996e4",
   "metadata": {},
   "source": [
    "nombre_infected      1004\n",
    "nombre_sain          1912\n",
    "nombre_exposed        508\n",
    "nombre_recovered    16576\n",
    "Name: 421, dtype: int64"
   ]
  },
  {
   "cell_type": "markdown",
   "id": "a4544fc3",
   "metadata": {},
   "source": [
    "nombre_infected       999\n",
    "nombre_sain          1889\n",
    "nombre_exposed        513\n",
    "nombre_recovered    16599\n",
    "Name: 422, dtype: int64"
   ]
  },
  {
   "cell_type": "markdown",
   "id": "c4e874ce",
   "metadata": {},
   "source": [
    "nombre_infected       976\n",
    "nombre_sain          1895\n",
    "nombre_exposed        501\n",
    "nombre_recovered    16628\n",
    "Name: 423, dtype: int64"
   ]
  },
  {
   "cell_type": "markdown",
   "id": "f68748af",
   "metadata": {},
   "source": [
    "nombre_infected       979\n",
    "nombre_sain          1900\n",
    "nombre_exposed        483\n",
    "nombre_recovered    16638\n",
    "Name: 424, dtype: int64"
   ]
  },
  {
   "cell_type": "markdown",
   "id": "8da16a81",
   "metadata": {},
   "source": [
    "nombre_infected       946\n",
    "nombre_sain          1899\n",
    "nombre_exposed        497\n",
    "nombre_recovered    16658\n",
    "Name: 425, dtype: int64"
   ]
  },
  {
   "cell_type": "markdown",
   "id": "97c5141d",
   "metadata": {},
   "source": [
    "nombre_infected       919\n",
    "nombre_sain          1893\n",
    "nombre_exposed        506\n",
    "nombre_recovered    16682\n",
    "Name: 426, dtype: int64"
   ]
  },
  {
   "cell_type": "markdown",
   "id": "3ff7edc1",
   "metadata": {},
   "source": [
    "nombre_infected       921\n",
    "nombre_sain          1891\n",
    "nombre_exposed        484\n",
    "nombre_recovered    16704\n",
    "Name: 427, dtype: int64"
   ]
  },
  {
   "cell_type": "markdown",
   "id": "81089353",
   "metadata": {},
   "source": [
    "nombre_infected       913\n",
    "nombre_sain          1904\n",
    "nombre_exposed        454\n",
    "nombre_recovered    16729\n",
    "Name: 428, dtype: int64"
   ]
  },
  {
   "cell_type": "markdown",
   "id": "311b6e7b",
   "metadata": {},
   "source": [
    "nombre_infected       935\n",
    "nombre_sain          1934\n",
    "nombre_exposed        417\n",
    "nombre_recovered    16714\n",
    "Name: 429, dtype: int64"
   ]
  },
  {
   "cell_type": "markdown",
   "id": "b853febd",
   "metadata": {},
   "source": [
    "nombre_infected       931\n",
    "nombre_sain          1937\n",
    "nombre_exposed        403\n",
    "nombre_recovered    16729\n",
    "Name: 430, dtype: int64"
   ]
  },
  {
   "cell_type": "markdown",
   "id": "e44b396b",
   "metadata": {},
   "source": [
    "nombre_infected       908\n",
    "nombre_sain          1942\n",
    "nombre_exposed        415\n",
    "nombre_recovered    16735\n",
    "Name: 431, dtype: int64"
   ]
  },
  {
   "cell_type": "markdown",
   "id": "985058a8",
   "metadata": {},
   "source": [
    "nombre_infected       889\n",
    "nombre_sain          1955\n",
    "nombre_exposed        423\n",
    "nombre_recovered    16733\n",
    "Name: 432, dtype: int64"
   ]
  },
  {
   "cell_type": "markdown",
   "id": "f8d4ae2e",
   "metadata": {},
   "source": [
    "nombre_infected       876\n",
    "nombre_sain          1929\n",
    "nombre_exposed        436\n",
    "nombre_recovered    16759\n",
    "Name: 433, dtype: int64"
   ]
  },
  {
   "cell_type": "markdown",
   "id": "9d14d931",
   "metadata": {},
   "source": [
    "nombre_infected       852\n",
    "nombre_sain          1929\n",
    "nombre_exposed        426\n",
    "nombre_recovered    16793\n",
    "Name: 434, dtype: int64"
   ]
  },
  {
   "cell_type": "markdown",
   "id": "4c9c41fc",
   "metadata": {},
   "source": [
    "nombre_infected       842\n",
    "nombre_sain          1946\n",
    "nombre_exposed        415\n",
    "nombre_recovered    16797\n",
    "Name: 435, dtype: int64"
   ]
  },
  {
   "cell_type": "markdown",
   "id": "10d1b708",
   "metadata": {},
   "source": [
    "nombre_infected       824\n",
    "nombre_sain          1965\n",
    "nombre_exposed        403\n",
    "nombre_recovered    16808\n",
    "Name: 436, dtype: int64"
   ]
  },
  {
   "cell_type": "markdown",
   "id": "2579cf45",
   "metadata": {},
   "source": [
    "nombre_infected       820\n",
    "nombre_sain          1979\n",
    "nombre_exposed        403\n",
    "nombre_recovered    16798\n",
    "Name: 437, dtype: int64"
   ]
  },
  {
   "cell_type": "markdown",
   "id": "ca94b63a",
   "metadata": {},
   "source": [
    "nombre_infected       816\n",
    "nombre_sain          1973\n",
    "nombre_exposed        413\n",
    "nombre_recovered    16798\n",
    "Name: 438, dtype: int64"
   ]
  },
  {
   "cell_type": "markdown",
   "id": "62cdceb3",
   "metadata": {},
   "source": [
    "nombre_infected       807\n",
    "nombre_sain          1974\n",
    "nombre_exposed        393\n",
    "nombre_recovered    16826\n",
    "Name: 439, dtype: int64"
   ]
  },
  {
   "cell_type": "markdown",
   "id": "5117d053",
   "metadata": {},
   "source": [
    "nombre_infected       790\n",
    "nombre_sain          1965\n",
    "nombre_exposed        410\n",
    "nombre_recovered    16835\n",
    "Name: 440, dtype: int64"
   ]
  },
  {
   "cell_type": "markdown",
   "id": "2b3ea7e2",
   "metadata": {},
   "source": [
    "nombre_infected       773\n",
    "nombre_sain          1980\n",
    "nombre_exposed        408\n",
    "nombre_recovered    16839\n",
    "Name: 441, dtype: int64"
   ]
  },
  {
   "cell_type": "markdown",
   "id": "b9a6063a",
   "metadata": {},
   "source": [
    "nombre_infected       750\n",
    "nombre_sain          1990\n",
    "nombre_exposed        409\n",
    "nombre_recovered    16851\n",
    "Name: 442, dtype: int64"
   ]
  },
  {
   "cell_type": "markdown",
   "id": "dce7d71f",
   "metadata": {},
   "source": [
    "nombre_infected       748\n",
    "nombre_sain          2003\n",
    "nombre_exposed        398\n",
    "nombre_recovered    16851\n",
    "Name: 443, dtype: int64"
   ]
  },
  {
   "cell_type": "markdown",
   "id": "1ffd75d7",
   "metadata": {},
   "source": [
    "nombre_infected       737\n",
    "nombre_sain          2003\n",
    "nombre_exposed        412\n",
    "nombre_recovered    16848\n",
    "Name: 444, dtype: int64"
   ]
  },
  {
   "cell_type": "markdown",
   "id": "52d7369f",
   "metadata": {},
   "source": [
    "nombre_infected       718\n",
    "nombre_sain          2048\n",
    "nombre_exposed        386\n",
    "nombre_recovered    16848\n",
    "Name: 445, dtype: int64"
   ]
  },
  {
   "cell_type": "markdown",
   "id": "69c2c761",
   "metadata": {},
   "source": [
    "nombre_infected       723\n",
    "nombre_sain          2073\n",
    "nombre_exposed        363\n",
    "nombre_recovered    16841\n",
    "Name: 446, dtype: int64"
   ]
  },
  {
   "cell_type": "markdown",
   "id": "d4fbeebb",
   "metadata": {},
   "source": [
    "nombre_infected       717\n",
    "nombre_sain          2096\n",
    "nombre_exposed        356\n",
    "nombre_recovered    16831\n",
    "Name: 447, dtype: int64"
   ]
  },
  {
   "cell_type": "markdown",
   "id": "287e2444",
   "metadata": {},
   "source": [
    "nombre_infected       718\n",
    "nombre_sain          2095\n",
    "nombre_exposed        350\n",
    "nombre_recovered    16837\n",
    "Name: 448, dtype: int64"
   ]
  },
  {
   "cell_type": "markdown",
   "id": "e2789aa0",
   "metadata": {},
   "source": [
    "nombre_infected       688\n",
    "nombre_sain          2120\n",
    "nombre_exposed        353\n",
    "nombre_recovered    16839\n",
    "Name: 449, dtype: int64"
   ]
  },
  {
   "cell_type": "markdown",
   "id": "675cea32",
   "metadata": {},
   "source": [
    "nombre_infected       675\n",
    "nombre_sain          2122\n",
    "nombre_exposed        354\n",
    "nombre_recovered    16849\n",
    "Name: 450, dtype: int64"
   ]
  },
  {
   "cell_type": "markdown",
   "id": "beb85a58",
   "metadata": {},
   "source": [
    "nombre_infected       684\n",
    "nombre_sain          2151\n",
    "nombre_exposed        342\n",
    "nombre_recovered    16823\n",
    "Name: 451, dtype: int64"
   ]
  },
  {
   "cell_type": "markdown",
   "id": "2c5f77df",
   "metadata": {},
   "source": [
    "nombre_infected       685\n",
    "nombre_sain          2156\n",
    "nombre_exposed        345\n",
    "nombre_recovered    16814\n",
    "Name: 452, dtype: int64"
   ]
  },
  {
   "cell_type": "markdown",
   "id": "da87f0d0",
   "metadata": {},
   "source": [
    "nombre_infected       671\n",
    "nombre_sain          2171\n",
    "nombre_exposed        357\n",
    "nombre_recovered    16801\n",
    "Name: 453, dtype: int64"
   ]
  },
  {
   "cell_type": "markdown",
   "id": "f9908cc7",
   "metadata": {},
   "source": [
    "nombre_infected       649\n",
    "nombre_sain          2184\n",
    "nombre_exposed        370\n",
    "nombre_recovered    16797\n",
    "Name: 454, dtype: int64"
   ]
  },
  {
   "cell_type": "markdown",
   "id": "430769d9",
   "metadata": {},
   "source": [
    "nombre_infected       638\n",
    "nombre_sain          2200\n",
    "nombre_exposed        382\n",
    "nombre_recovered    16780\n",
    "Name: 455, dtype: int64"
   ]
  },
  {
   "cell_type": "markdown",
   "id": "e2e9553e",
   "metadata": {},
   "source": [
    "nombre_infected       659\n",
    "nombre_sain          2225\n",
    "nombre_exposed        380\n",
    "nombre_recovered    16736\n",
    "Name: 456, dtype: int64"
   ]
  },
  {
   "cell_type": "markdown",
   "id": "a1e40b6c",
   "metadata": {},
   "source": [
    "nombre_infected       678\n",
    "nombre_sain          2269\n",
    "nombre_exposed        360\n",
    "nombre_recovered    16693\n",
    "Name: 457, dtype: int64"
   ]
  },
  {
   "cell_type": "markdown",
   "id": "1e04d4df",
   "metadata": {},
   "source": [
    "nombre_infected       677\n",
    "nombre_sain          2298\n",
    "nombre_exposed        356\n",
    "nombre_recovered    16669\n",
    "Name: 458, dtype: int64"
   ]
  },
  {
   "cell_type": "markdown",
   "id": "edf005db",
   "metadata": {},
   "source": [
    "nombre_infected       662\n",
    "nombre_sain          2323\n",
    "nombre_exposed        359\n",
    "nombre_recovered    16656\n",
    "Name: 459, dtype: int64"
   ]
  },
  {
   "cell_type": "markdown",
   "id": "840f3642",
   "metadata": {},
   "source": [
    "nombre_infected       669\n",
    "nombre_sain          2338\n",
    "nombre_exposed        362\n",
    "nombre_recovered    16631\n",
    "Name: 460, dtype: int64"
   ]
  },
  {
   "cell_type": "markdown",
   "id": "c9ffd24e",
   "metadata": {},
   "source": [
    "nombre_infected       656\n",
    "nombre_sain          2334\n",
    "nombre_exposed        383\n",
    "nombre_recovered    16627\n",
    "Name: 461, dtype: int64"
   ]
  },
  {
   "cell_type": "markdown",
   "id": "23545ac8",
   "metadata": {},
   "source": [
    "nombre_infected       664\n",
    "nombre_sain          2360\n",
    "nombre_exposed        381\n",
    "nombre_recovered    16595\n",
    "Name: 462, dtype: int64"
   ]
  },
  {
   "cell_type": "markdown",
   "id": "43b3cf71",
   "metadata": {},
   "source": [
    "nombre_infected       669\n",
    "nombre_sain          2362\n",
    "nombre_exposed        409\n",
    "nombre_recovered    16560\n",
    "Name: 463, dtype: int64"
   ]
  },
  {
   "cell_type": "markdown",
   "id": "f2cf98d8",
   "metadata": {},
   "source": [
    "nombre_infected       672\n",
    "nombre_sain          2367\n",
    "nombre_exposed        405\n",
    "nombre_recovered    16556\n",
    "Name: 464, dtype: int64"
   ]
  },
  {
   "cell_type": "markdown",
   "id": "aa110e7f",
   "metadata": {},
   "source": [
    "nombre_infected       648\n",
    "nombre_sain          2395\n",
    "nombre_exposed        409\n",
    "nombre_recovered    16548\n",
    "Name: 465, dtype: int64"
   ]
  },
  {
   "cell_type": "markdown",
   "id": "8a90d676",
   "metadata": {},
   "source": [
    "nombre_infected       656\n",
    "nombre_sain          2420\n",
    "nombre_exposed        408\n",
    "nombre_recovered    16516\n",
    "Name: 466, dtype: int64"
   ]
  },
  {
   "cell_type": "markdown",
   "id": "f46cb2c6",
   "metadata": {},
   "source": [
    "nombre_infected       687\n",
    "nombre_sain          2456\n",
    "nombre_exposed        390\n",
    "nombre_recovered    16467\n",
    "Name: 467, dtype: int64"
   ]
  },
  {
   "cell_type": "markdown",
   "id": "c2129a7d",
   "metadata": {},
   "source": [
    "nombre_infected       668\n",
    "nombre_sain          2457\n",
    "nombre_exposed        409\n",
    "nombre_recovered    16466\n",
    "Name: 468, dtype: int64"
   ]
  },
  {
   "cell_type": "markdown",
   "id": "0d1ab4a3",
   "metadata": {},
   "source": [
    "nombre_infected       659\n",
    "nombre_sain          2469\n",
    "nombre_exposed        429\n",
    "nombre_recovered    16443\n",
    "Name: 469, dtype: int64"
   ]
  },
  {
   "cell_type": "markdown",
   "id": "a8fe8bf1",
   "metadata": {},
   "source": [
    "nombre_infected       676\n",
    "nombre_sain          2492\n",
    "nombre_exposed        414\n",
    "nombre_recovered    16418\n",
    "Name: 470, dtype: int64"
   ]
  },
  {
   "cell_type": "markdown",
   "id": "4e1f0f14",
   "metadata": {},
   "source": [
    "nombre_infected       691\n",
    "nombre_sain          2511\n",
    "nombre_exposed        394\n",
    "nombre_recovered    16404\n",
    "Name: 471, dtype: int64"
   ]
  },
  {
   "cell_type": "markdown",
   "id": "0bc0027d",
   "metadata": {},
   "source": [
    "nombre_infected       694\n",
    "nombre_sain          2520\n",
    "nombre_exposed        411\n",
    "nombre_recovered    16375\n",
    "Name: 472, dtype: int64"
   ]
  },
  {
   "cell_type": "markdown",
   "id": "d4c503e3",
   "metadata": {},
   "source": [
    "nombre_infected       711\n",
    "nombre_sain          2500\n",
    "nombre_exposed        435\n",
    "nombre_recovered    16354\n",
    "Name: 473, dtype: int64"
   ]
  },
  {
   "cell_type": "markdown",
   "id": "30efa189",
   "metadata": {},
   "source": [
    "nombre_infected       737\n",
    "nombre_sain          2477\n",
    "nombre_exposed        447\n",
    "nombre_recovered    16339\n",
    "Name: 474, dtype: int64"
   ]
  },
  {
   "cell_type": "markdown",
   "id": "385d7651",
   "metadata": {},
   "source": [
    "nombre_infected       735\n",
    "nombre_sain          2467\n",
    "nombre_exposed        467\n",
    "nombre_recovered    16331\n",
    "Name: 475, dtype: int64"
   ]
  },
  {
   "cell_type": "markdown",
   "id": "9b85911d",
   "metadata": {},
   "source": [
    "nombre_infected       725\n",
    "nombre_sain          2467\n",
    "nombre_exposed        459\n",
    "nombre_recovered    16349\n",
    "Name: 476, dtype: int64"
   ]
  },
  {
   "cell_type": "markdown",
   "id": "cc155aa6",
   "metadata": {},
   "source": [
    "nombre_infected       745\n",
    "nombre_sain          2465\n",
    "nombre_exposed        467\n",
    "nombre_recovered    16323\n",
    "Name: 477, dtype: int64"
   ]
  },
  {
   "cell_type": "markdown",
   "id": "b0e25b63",
   "metadata": {},
   "source": [
    "nombre_infected       763\n",
    "nombre_sain          2453\n",
    "nombre_exposed        487\n",
    "nombre_recovered    16297\n",
    "Name: 478, dtype: int64"
   ]
  },
  {
   "cell_type": "markdown",
   "id": "db0bc901",
   "metadata": {},
   "source": [
    "nombre_infected       763\n",
    "nombre_sain          2443\n",
    "nombre_exposed        480\n",
    "nombre_recovered    16314\n",
    "Name: 479, dtype: int64"
   ]
  },
  {
   "cell_type": "markdown",
   "id": "4bedf1c7",
   "metadata": {},
   "source": [
    "nombre_infected       775\n",
    "nombre_sain          2417\n",
    "nombre_exposed        501\n",
    "nombre_recovered    16307\n",
    "Name: 480, dtype: int64"
   ]
  },
  {
   "cell_type": "markdown",
   "id": "ecfe6fc8",
   "metadata": {},
   "source": [
    "nombre_infected       793\n",
    "nombre_sain          2437\n",
    "nombre_exposed        498\n",
    "nombre_recovered    16272\n",
    "Name: 481, dtype: int64"
   ]
  },
  {
   "cell_type": "markdown",
   "id": "8ba88920",
   "metadata": {},
   "source": [
    "nombre_infected       826\n",
    "nombre_sain          2428\n",
    "nombre_exposed        479\n",
    "nombre_recovered    16267\n",
    "Name: 482, dtype: int64"
   ]
  },
  {
   "cell_type": "markdown",
   "id": "14bb8f56",
   "metadata": {},
   "source": [
    "nombre_infected       841\n",
    "nombre_sain          2413\n",
    "nombre_exposed        491\n",
    "nombre_recovered    16255\n",
    "Name: 483, dtype: int64"
   ]
  },
  {
   "cell_type": "markdown",
   "id": "d505253b",
   "metadata": {},
   "source": [
    "nombre_infected       853\n",
    "nombre_sain          2410\n",
    "nombre_exposed        502\n",
    "nombre_recovered    16235\n",
    "Name: 484, dtype: int64"
   ]
  },
  {
   "cell_type": "markdown",
   "id": "d66ff230",
   "metadata": {},
   "source": [
    "nombre_infected       859\n",
    "nombre_sain          2386\n",
    "nombre_exposed        519\n",
    "nombre_recovered    16236\n",
    "Name: 485, dtype: int64"
   ]
  },
  {
   "cell_type": "markdown",
   "id": "f5bd6769",
   "metadata": {},
   "source": [
    "nombre_infected       861\n",
    "nombre_sain          2379\n",
    "nombre_exposed        511\n",
    "nombre_recovered    16249\n",
    "Name: 486, dtype: int64"
   ]
  },
  {
   "cell_type": "markdown",
   "id": "597e5e2a",
   "metadata": {},
   "source": [
    "nombre_infected       863\n",
    "nombre_sain          2378\n",
    "nombre_exposed        500\n",
    "nombre_recovered    16259\n",
    "Name: 487, dtype: int64"
   ]
  },
  {
   "cell_type": "markdown",
   "id": "e28551fb",
   "metadata": {},
   "source": [
    "nombre_infected       865\n",
    "nombre_sain          2386\n",
    "nombre_exposed        493\n",
    "nombre_recovered    16256\n",
    "Name: 488, dtype: int64"
   ]
  },
  {
   "cell_type": "markdown",
   "id": "0584cf98",
   "metadata": {},
   "source": [
    "nombre_infected       866\n",
    "nombre_sain          2366\n",
    "nombre_exposed        525\n",
    "nombre_recovered    16243\n",
    "Name: 489, dtype: int64"
   ]
  },
  {
   "cell_type": "markdown",
   "id": "9d11eae6",
   "metadata": {},
   "source": [
    "nombre_infected       872\n",
    "nombre_sain          2353\n",
    "nombre_exposed        555\n",
    "nombre_recovered    16220\n",
    "Name: 490, dtype: int64"
   ]
  },
  {
   "cell_type": "markdown",
   "id": "725b8953",
   "metadata": {},
   "source": [
    "nombre_infected       890\n",
    "nombre_sain          2318\n",
    "nombre_exposed        554\n",
    "nombre_recovered    16238\n",
    "Name: 491, dtype: int64"
   ]
  },
  {
   "cell_type": "markdown",
   "id": "3fd2c48c",
   "metadata": {},
   "source": [
    "nombre_infected       907\n",
    "nombre_sain          2264\n",
    "nombre_exposed        575\n",
    "nombre_recovered    16254\n",
    "Name: 492, dtype: int64"
   ]
  },
  {
   "cell_type": "markdown",
   "id": "fa33ce46",
   "metadata": {},
   "source": [
    "nombre_infected       946\n",
    "nombre_sain          2238\n",
    "nombre_exposed        580\n",
    "nombre_recovered    16236\n",
    "Name: 493, dtype: int64"
   ]
  },
  {
   "cell_type": "markdown",
   "id": "c60bafda",
   "metadata": {},
   "source": [
    "nombre_infected       959\n",
    "nombre_sain          2228\n",
    "nombre_exposed        562\n",
    "nombre_recovered    16251\n",
    "Name: 494, dtype: int64"
   ]
  },
  {
   "cell_type": "markdown",
   "id": "ad22d03c",
   "metadata": {},
   "source": [
    "nombre_infected       998\n",
    "nombre_sain          2244\n",
    "nombre_exposed        533\n",
    "nombre_recovered    16225\n",
    "Name: 495, dtype: int64"
   ]
  },
  {
   "cell_type": "markdown",
   "id": "2014dc63",
   "metadata": {},
   "source": [
    "nombre_infected      1024\n",
    "nombre_sain          2234\n",
    "nombre_exposed        517\n",
    "nombre_recovered    16225\n",
    "Name: 496, dtype: int64"
   ]
  },
  {
   "cell_type": "markdown",
   "id": "2ed75097",
   "metadata": {},
   "source": [
    "nombre_infected      1004\n",
    "nombre_sain          2218\n",
    "nombre_exposed        538\n",
    "nombre_recovered    16240\n",
    "Name: 497, dtype: int64"
   ]
  },
  {
   "cell_type": "markdown",
   "id": "683c5c73",
   "metadata": {},
   "source": [
    "nombre_infected      1026\n",
    "nombre_sain          2215\n",
    "nombre_exposed        538\n",
    "nombre_recovered    16221\n",
    "Name: 498, dtype: int64"
   ]
  },
  {
   "cell_type": "markdown",
   "id": "9a3eef4a",
   "metadata": {},
   "source": [
    "nombre_infected      1056\n",
    "nombre_sain          2176\n",
    "nombre_exposed        550\n",
    "nombre_recovered    16218\n",
    "Name: 499, dtype: int64"
   ]
  },
  {
   "cell_type": "markdown",
   "id": "e7d6778e",
   "metadata": {},
   "source": [
    "nombre_infected      1061\n",
    "nombre_sain          2155\n",
    "nombre_exposed        564\n",
    "nombre_recovered    16220\n",
    "Name: 500, dtype: int64"
   ]
  },
  {
   "cell_type": "markdown",
   "id": "b207b4a6",
   "metadata": {},
   "source": [
    "nombre_infected      1082\n",
    "nombre_sain          2133\n",
    "nombre_exposed        576\n",
    "nombre_recovered    16209\n",
    "Name: 501, dtype: int64"
   ]
  },
  {
   "cell_type": "markdown",
   "id": "24172979",
   "metadata": {},
   "source": [
    "nombre_infected      1089\n",
    "nombre_sain          2152\n",
    "nombre_exposed        575\n",
    "nombre_recovered    16184\n",
    "Name: 502, dtype: int64"
   ]
  },
  {
   "cell_type": "markdown",
   "id": "8b0beb63",
   "metadata": {},
   "source": [
    "nombre_infected      1115\n",
    "nombre_sain          2166\n",
    "nombre_exposed        539\n",
    "nombre_recovered    16180\n",
    "Name: 503, dtype: int64"
   ]
  },
  {
   "cell_type": "markdown",
   "id": "417ee9bc",
   "metadata": {},
   "source": [
    "nombre_infected      1135\n",
    "nombre_sain          2170\n",
    "nombre_exposed        532\n",
    "nombre_recovered    16163\n",
    "Name: 504, dtype: int64"
   ]
  },
  {
   "cell_type": "markdown",
   "id": "9b3ad87a",
   "metadata": {},
   "source": [
    "nombre_infected      1131\n",
    "nombre_sain          2170\n",
    "nombre_exposed        536\n",
    "nombre_recovered    16163\n",
    "Name: 505, dtype: int64"
   ]
  },
  {
   "cell_type": "markdown",
   "id": "3a986ae7",
   "metadata": {},
   "source": [
    "nombre_infected      1123\n",
    "nombre_sain          2157\n",
    "nombre_exposed        562\n",
    "nombre_recovered    16158\n",
    "Name: 506, dtype: int64"
   ]
  },
  {
   "cell_type": "markdown",
   "id": "8c74b62c",
   "metadata": {},
   "source": [
    "nombre_infected      1117\n",
    "nombre_sain          2132\n",
    "nombre_exposed        586\n",
    "nombre_recovered    16165\n",
    "Name: 507, dtype: int64"
   ]
  },
  {
   "cell_type": "markdown",
   "id": "8203b38e",
   "metadata": {},
   "source": [
    "nombre_infected      1129\n",
    "nombre_sain          2130\n",
    "nombre_exposed        611\n",
    "nombre_recovered    16130\n",
    "Name: 508, dtype: int64"
   ]
  },
  {
   "cell_type": "markdown",
   "id": "520acdfd",
   "metadata": {},
   "source": [
    "nombre_infected      1133\n",
    "nombre_sain          2123\n",
    "nombre_exposed        609\n",
    "nombre_recovered    16135\n",
    "Name: 509, dtype: int64"
   ]
  },
  {
   "cell_type": "markdown",
   "id": "b68ab8ba",
   "metadata": {},
   "source": [
    "nombre_infected      1156\n",
    "nombre_sain          2136\n",
    "nombre_exposed        601\n",
    "nombre_recovered    16107\n",
    "Name: 510, dtype: int64"
   ]
  },
  {
   "cell_type": "markdown",
   "id": "dc091afd",
   "metadata": {},
   "source": [
    "nombre_infected      1175\n",
    "nombre_sain          2125\n",
    "nombre_exposed        599\n",
    "nombre_recovered    16101\n",
    "Name: 511, dtype: int64"
   ]
  },
  {
   "cell_type": "markdown",
   "id": "29b53eeb",
   "metadata": {},
   "source": [
    "nombre_infected      1206\n",
    "nombre_sain          2120\n",
    "nombre_exposed        597\n",
    "nombre_recovered    16077\n",
    "Name: 512, dtype: int64"
   ]
  },
  {
   "cell_type": "markdown",
   "id": "b4a0b1cc",
   "metadata": {},
   "source": [
    "nombre_infected      1221\n",
    "nombre_sain          2083\n",
    "nombre_exposed        623\n",
    "nombre_recovered    16073\n",
    "Name: 513, dtype: int64"
   ]
  },
  {
   "cell_type": "markdown",
   "id": "8ffddee7",
   "metadata": {},
   "source": [
    "nombre_infected      1247\n",
    "nombre_sain          2060\n",
    "nombre_exposed        642\n",
    "nombre_recovered    16051\n",
    "Name: 514, dtype: int64"
   ]
  },
  {
   "cell_type": "markdown",
   "id": "ffe942df",
   "metadata": {},
   "source": [
    "nombre_infected      1289\n",
    "nombre_sain          2065\n",
    "nombre_exposed        639\n",
    "nombre_recovered    16007\n",
    "Name: 515, dtype: int64"
   ]
  },
  {
   "cell_type": "markdown",
   "id": "6b8395f5",
   "metadata": {},
   "source": [
    "nombre_infected      1282\n",
    "nombre_sain          2051\n",
    "nombre_exposed        639\n",
    "nombre_recovered    16028\n",
    "Name: 516, dtype: int64"
   ]
  },
  {
   "cell_type": "markdown",
   "id": "f13e1a9d",
   "metadata": {},
   "source": [
    "nombre_infected      1278\n",
    "nombre_sain          2024\n",
    "nombre_exposed        662\n",
    "nombre_recovered    16036\n",
    "Name: 517, dtype: int64"
   ]
  },
  {
   "cell_type": "markdown",
   "id": "f2177ea1",
   "metadata": {},
   "source": [
    "nombre_infected      1288\n",
    "nombre_sain          1989\n",
    "nombre_exposed        677\n",
    "nombre_recovered    16046\n",
    "Name: 518, dtype: int64"
   ]
  },
  {
   "cell_type": "markdown",
   "id": "1b317c6d",
   "metadata": {},
   "source": [
    "nombre_infected      1310\n",
    "nombre_sain          1958\n",
    "nombre_exposed        679\n",
    "nombre_recovered    16053\n",
    "Name: 519, dtype: int64"
   ]
  },
  {
   "cell_type": "markdown",
   "id": "ba2701c4",
   "metadata": {},
   "source": [
    "nombre_infected      1335\n",
    "nombre_sain          1921\n",
    "nombre_exposed        648\n",
    "nombre_recovered    16096\n",
    "Name: 520, dtype: int64"
   ]
  },
  {
   "cell_type": "markdown",
   "id": "9e71af04",
   "metadata": {},
   "source": [
    "nombre_infected      1348\n",
    "nombre_sain          1935\n",
    "nombre_exposed        613\n",
    "nombre_recovered    16104\n",
    "Name: 521, dtype: int64"
   ]
  },
  {
   "cell_type": "markdown",
   "id": "cd6dca1e",
   "metadata": {},
   "source": [
    "nombre_infected      1322\n",
    "nombre_sain          1909\n",
    "nombre_exposed        641\n",
    "nombre_recovered    16128\n",
    "Name: 522, dtype: int64"
   ]
  },
  {
   "cell_type": "markdown",
   "id": "30fd60dc",
   "metadata": {},
   "source": [
    "nombre_infected      1307\n",
    "nombre_sain          1892\n",
    "nombre_exposed        632\n",
    "nombre_recovered    16169\n",
    "Name: 523, dtype: int64"
   ]
  },
  {
   "cell_type": "markdown",
   "id": "1d7b5c9e",
   "metadata": {},
   "source": [
    "nombre_infected      1310\n",
    "nombre_sain          1875\n",
    "nombre_exposed        635\n",
    "nombre_recovered    16180\n",
    "Name: 524, dtype: int64"
   ]
  },
  {
   "cell_type": "markdown",
   "id": "006b2e35",
   "metadata": {},
   "source": [
    "nombre_infected      1316\n",
    "nombre_sain          1833\n",
    "nombre_exposed        648\n",
    "nombre_recovered    16203\n",
    "Name: 525, dtype: int64"
   ]
  },
  {
   "cell_type": "markdown",
   "id": "10adf141",
   "metadata": {},
   "source": [
    "nombre_infected      1318\n",
    "nombre_sain          1832\n",
    "nombre_exposed        640\n",
    "nombre_recovered    16210\n",
    "Name: 526, dtype: int64"
   ]
  },
  {
   "cell_type": "markdown",
   "id": "13ae9acf",
   "metadata": {},
   "source": [
    "nombre_infected      1354\n",
    "nombre_sain          1836\n",
    "nombre_exposed        616\n",
    "nombre_recovered    16194\n",
    "Name: 527, dtype: int64"
   ]
  },
  {
   "cell_type": "markdown",
   "id": "9bb7d5e9",
   "metadata": {},
   "source": [
    "nombre_infected      1330\n",
    "nombre_sain          1794\n",
    "nombre_exposed        645\n",
    "nombre_recovered    16231\n",
    "Name: 528, dtype: int64"
   ]
  },
  {
   "cell_type": "markdown",
   "id": "a2bef61d",
   "metadata": {},
   "source": [
    "nombre_infected      1339\n",
    "nombre_sain          1785\n",
    "nombre_exposed        636\n",
    "nombre_recovered    16240\n",
    "Name: 529, dtype: int64"
   ]
  },
  {
   "cell_type": "markdown",
   "id": "121c2158",
   "metadata": {},
   "source": [
    "nombre_infected      1377\n",
    "nombre_sain          1797\n",
    "nombre_exposed        581\n",
    "nombre_recovered    16245\n",
    "Name: 530, dtype: int64"
   ]
  },
  {
   "cell_type": "markdown",
   "id": "49ae8576",
   "metadata": {},
   "source": [
    "nombre_infected      1377\n",
    "nombre_sain          1782\n",
    "nombre_exposed        567\n",
    "nombre_recovered    16274\n",
    "Name: 531, dtype: int64"
   ]
  },
  {
   "cell_type": "markdown",
   "id": "74b15e2d",
   "metadata": {},
   "source": [
    "nombre_infected      1346\n",
    "nombre_sain          1750\n",
    "nombre_exposed        583\n",
    "nombre_recovered    16321\n",
    "Name: 532, dtype: int64"
   ]
  },
  {
   "cell_type": "markdown",
   "id": "4a842212",
   "metadata": {},
   "source": [
    "nombre_infected      1296\n",
    "nombre_sain          1745\n",
    "nombre_exposed        592\n",
    "nombre_recovered    16367\n",
    "Name: 533, dtype: int64"
   ]
  },
  {
   "cell_type": "markdown",
   "id": "14cf476f",
   "metadata": {},
   "source": [
    "nombre_infected      1299\n",
    "nombre_sain          1747\n",
    "nombre_exposed        557\n",
    "nombre_recovered    16397\n",
    "Name: 534, dtype: int64"
   ]
  },
  {
   "cell_type": "markdown",
   "id": "03b6094f",
   "metadata": {},
   "source": [
    "nombre_infected      1289\n",
    "nombre_sain          1757\n",
    "nombre_exposed        545\n",
    "nombre_recovered    16409\n",
    "Name: 535, dtype: int64"
   ]
  },
  {
   "cell_type": "markdown",
   "id": "32334858",
   "metadata": {},
   "source": [
    "nombre_infected      1286\n",
    "nombre_sain          1754\n",
    "nombre_exposed        545\n",
    "nombre_recovered    16415\n",
    "Name: 536, dtype: int64"
   ]
  },
  {
   "cell_type": "markdown",
   "id": "14352ac5",
   "metadata": {},
   "source": [
    "nombre_infected      1277\n",
    "nombre_sain          1748\n",
    "nombre_exposed        574\n",
    "nombre_recovered    16401\n",
    "Name: 537, dtype: int64"
   ]
  },
  {
   "cell_type": "markdown",
   "id": "b2c82079",
   "metadata": {},
   "source": [
    "nombre_infected      1280\n",
    "nombre_sain          1761\n",
    "nombre_exposed        552\n",
    "nombre_recovered    16407\n",
    "Name: 538, dtype: int64"
   ]
  },
  {
   "cell_type": "markdown",
   "id": "e0f9f6d5",
   "metadata": {},
   "source": [
    "nombre_infected      1287\n",
    "nombre_sain          1750\n",
    "nombre_exposed        550\n",
    "nombre_recovered    16413\n",
    "Name: 539, dtype: int64"
   ]
  },
  {
   "cell_type": "markdown",
   "id": "e4c22cff",
   "metadata": {},
   "source": [
    "nombre_infected      1268\n",
    "nombre_sain          1769\n",
    "nombre_exposed        550\n",
    "nombre_recovered    16413\n",
    "Name: 540, dtype: int64"
   ]
  },
  {
   "cell_type": "markdown",
   "id": "895713c9",
   "metadata": {},
   "source": [
    "nombre_infected      1281\n",
    "nombre_sain          1783\n",
    "nombre_exposed        531\n",
    "nombre_recovered    16405\n",
    "Name: 541, dtype: int64"
   ]
  },
  {
   "cell_type": "markdown",
   "id": "d3fdd0aa",
   "metadata": {},
   "source": [
    "nombre_infected      1260\n",
    "nombre_sain          1799\n",
    "nombre_exposed        520\n",
    "nombre_recovered    16421\n",
    "Name: 542, dtype: int64"
   ]
  },
  {
   "cell_type": "markdown",
   "id": "bd2a2cc3",
   "metadata": {},
   "source": [
    "nombre_infected      1233\n",
    "nombre_sain          1803\n",
    "nombre_exposed        526\n",
    "nombre_recovered    16438\n",
    "Name: 543, dtype: int64"
   ]
  },
  {
   "cell_type": "markdown",
   "id": "7b5f80da",
   "metadata": {},
   "source": [
    "nombre_infected      1234\n",
    "nombre_sain          1825\n",
    "nombre_exposed        496\n",
    "nombre_recovered    16445\n",
    "Name: 544, dtype: int64"
   ]
  },
  {
   "cell_type": "markdown",
   "id": "a475e3e2",
   "metadata": {},
   "source": [
    "nombre_infected      1206\n",
    "nombre_sain          1814\n",
    "nombre_exposed        501\n",
    "nombre_recovered    16479\n",
    "Name: 545, dtype: int64"
   ]
  },
  {
   "cell_type": "markdown",
   "id": "0a5b91c5",
   "metadata": {},
   "source": [
    "nombre_infected      1162\n",
    "nombre_sain          1801\n",
    "nombre_exposed        542\n",
    "nombre_recovered    16495\n",
    "Name: 546, dtype: int64"
   ]
  },
  {
   "cell_type": "markdown",
   "id": "d6ac24ac",
   "metadata": {},
   "source": [
    "nombre_infected      1161\n",
    "nombre_sain          1810\n",
    "nombre_exposed        539\n",
    "nombre_recovered    16490\n",
    "Name: 547, dtype: int64"
   ]
  },
  {
   "cell_type": "markdown",
   "id": "02eaa049",
   "metadata": {},
   "source": [
    "nombre_infected      1150\n",
    "nombre_sain          1821\n",
    "nombre_exposed        531\n",
    "nombre_recovered    16498\n",
    "Name: 548, dtype: int64"
   ]
  },
  {
   "cell_type": "markdown",
   "id": "b62b3979",
   "metadata": {},
   "source": [
    "nombre_infected      1135\n",
    "nombre_sain          1848\n",
    "nombre_exposed        486\n",
    "nombre_recovered    16531\n",
    "Name: 549, dtype: int64"
   ]
  },
  {
   "cell_type": "markdown",
   "id": "c6adc6e2",
   "metadata": {},
   "source": [
    "nombre_infected      1098\n",
    "nombre_sain          1862\n",
    "nombre_exposed        496\n",
    "nombre_recovered    16544\n",
    "Name: 550, dtype: int64"
   ]
  },
  {
   "cell_type": "markdown",
   "id": "c5507396",
   "metadata": {},
   "source": [
    "nombre_infected      1062\n",
    "nombre_sain          1875\n",
    "nombre_exposed        489\n",
    "nombre_recovered    16574\n",
    "Name: 551, dtype: int64"
   ]
  },
  {
   "cell_type": "markdown",
   "id": "cf482655",
   "metadata": {},
   "source": [
    "nombre_infected      1051\n",
    "nombre_sain          1903\n",
    "nombre_exposed        466\n",
    "nombre_recovered    16580\n",
    "Name: 552, dtype: int64"
   ]
  },
  {
   "cell_type": "markdown",
   "id": "b9b93b3a",
   "metadata": {},
   "source": [
    "nombre_infected      1035\n",
    "nombre_sain          1905\n",
    "nombre_exposed        482\n",
    "nombre_recovered    16578\n",
    "Name: 553, dtype: int64"
   ]
  },
  {
   "cell_type": "markdown",
   "id": "3920e5c2",
   "metadata": {},
   "source": [
    "nombre_infected      1016\n",
    "nombre_sain          1909\n",
    "nombre_exposed        510\n",
    "nombre_recovered    16565\n",
    "Name: 554, dtype: int64"
   ]
  },
  {
   "cell_type": "markdown",
   "id": "63c6f5c6",
   "metadata": {},
   "source": [
    "nombre_infected       993\n",
    "nombre_sain          1928\n",
    "nombre_exposed        508\n",
    "nombre_recovered    16571\n",
    "Name: 555, dtype: int64"
   ]
  },
  {
   "cell_type": "markdown",
   "id": "1c10118f",
   "metadata": {},
   "source": [
    "nombre_infected      1000\n",
    "nombre_sain          1920\n",
    "nombre_exposed        496\n",
    "nombre_recovered    16584\n",
    "Name: 556, dtype: int64"
   ]
  },
  {
   "cell_type": "markdown",
   "id": "215ab1d7",
   "metadata": {},
   "source": [
    "nombre_infected       983\n",
    "nombre_sain          1926\n",
    "nombre_exposed        509\n",
    "nombre_recovered    16582\n",
    "Name: 557, dtype: int64"
   ]
  },
  {
   "cell_type": "markdown",
   "id": "dabff98c",
   "metadata": {},
   "source": [
    "nombre_infected       977\n",
    "nombre_sain          1935\n",
    "nombre_exposed        489\n",
    "nombre_recovered    16599\n",
    "Name: 558, dtype: int64"
   ]
  },
  {
   "cell_type": "markdown",
   "id": "db27138c",
   "metadata": {},
   "source": [
    "nombre_infected       996\n",
    "nombre_sain          1956\n",
    "nombre_exposed        458\n",
    "nombre_recovered    16590\n",
    "Name: 559, dtype: int64"
   ]
  },
  {
   "cell_type": "markdown",
   "id": "ba818a1e",
   "metadata": {},
   "source": [
    "nombre_infected       980\n",
    "nombre_sain          1951\n",
    "nombre_exposed        482\n",
    "nombre_recovered    16587\n",
    "Name: 560, dtype: int64"
   ]
  },
  {
   "cell_type": "markdown",
   "id": "b79e121b",
   "metadata": {},
   "source": [
    "nombre_infected       968\n",
    "nombre_sain          1978\n",
    "nombre_exposed        487\n",
    "nombre_recovered    16567\n",
    "Name: 561, dtype: int64"
   ]
  },
  {
   "cell_type": "markdown",
   "id": "22c9fb0a",
   "metadata": {},
   "source": [
    "nombre_infected       958\n",
    "nombre_sain          1976\n",
    "nombre_exposed        499\n",
    "nombre_recovered    16567\n",
    "Name: 562, dtype: int64"
   ]
  },
  {
   "cell_type": "markdown",
   "id": "3fe4eee3",
   "metadata": {},
   "source": [
    "nombre_infected       980\n",
    "nombre_sain          1973\n",
    "nombre_exposed        474\n",
    "nombre_recovered    16573\n",
    "Name: 563, dtype: int64"
   ]
  },
  {
   "cell_type": "markdown",
   "id": "8ec3f6d3",
   "metadata": {},
   "source": [
    "nombre_infected       976\n",
    "nombre_sain          1980\n",
    "nombre_exposed        470\n",
    "nombre_recovered    16574\n",
    "Name: 564, dtype: int64"
   ]
  },
  {
   "cell_type": "markdown",
   "id": "1d086a17",
   "metadata": {},
   "source": [
    "nombre_infected       970\n",
    "nombre_sain          1949\n",
    "nombre_exposed        482\n",
    "nombre_recovered    16599\n",
    "Name: 565, dtype: int64"
   ]
  },
  {
   "cell_type": "markdown",
   "id": "8e814586",
   "metadata": {},
   "source": [
    "nombre_infected       968\n",
    "nombre_sain          1949\n",
    "nombre_exposed        481\n",
    "nombre_recovered    16602\n",
    "Name: 566, dtype: int64"
   ]
  },
  {
   "cell_type": "markdown",
   "id": "3250f675",
   "metadata": {},
   "source": [
    "nombre_infected       951\n",
    "nombre_sain          1941\n",
    "nombre_exposed        480\n",
    "nombre_recovered    16628\n",
    "Name: 567, dtype: int64"
   ]
  },
  {
   "cell_type": "markdown",
   "id": "112c9053",
   "metadata": {},
   "source": [
    "nombre_infected       976\n",
    "nombre_sain          1941\n",
    "nombre_exposed        462\n",
    "nombre_recovered    16621\n",
    "Name: 568, dtype: int64"
   ]
  },
  {
   "cell_type": "markdown",
   "id": "7883490b",
   "metadata": {},
   "source": [
    "nombre_infected       965\n",
    "nombre_sain          1956\n",
    "nombre_exposed        456\n",
    "nombre_recovered    16623\n",
    "Name: 569, dtype: int64"
   ]
  },
  {
   "cell_type": "markdown",
   "id": "a02a18c5",
   "metadata": {},
   "source": [
    "nombre_infected       943\n",
    "nombre_sain          1930\n",
    "nombre_exposed        457\n",
    "nombre_recovered    16670\n",
    "Name: 570, dtype: int64"
   ]
  },
  {
   "cell_type": "markdown",
   "id": "17be97e5",
   "metadata": {},
   "source": [
    "nombre_infected       931\n",
    "nombre_sain          1934\n",
    "nombre_exposed        426\n",
    "nombre_recovered    16709\n",
    "Name: 571, dtype: int64"
   ]
  },
  {
   "cell_type": "markdown",
   "id": "e83b1dfc",
   "metadata": {},
   "source": [
    "nombre_infected       921\n",
    "nombre_sain          1916\n",
    "nombre_exposed        417\n",
    "nombre_recovered    16746\n",
    "Name: 572, dtype: int64"
   ]
  },
  {
   "cell_type": "markdown",
   "id": "3a138ac9",
   "metadata": {},
   "source": [
    "nombre_infected       888\n",
    "nombre_sain          1913\n",
    "nombre_exposed        429\n",
    "nombre_recovered    16770\n",
    "Name: 573, dtype: int64"
   ]
  },
  {
   "cell_type": "markdown",
   "id": "81a4e5c2",
   "metadata": {},
   "source": [
    "nombre_infected       892\n",
    "nombre_sain          1922\n",
    "nombre_exposed        418\n",
    "nombre_recovered    16768\n",
    "Name: 574, dtype: int64"
   ]
  },
  {
   "cell_type": "markdown",
   "id": "056cc634",
   "metadata": {},
   "source": [
    "nombre_infected       876\n",
    "nombre_sain          1920\n",
    "nombre_exposed        423\n",
    "nombre_recovered    16781\n",
    "Name: 575, dtype: int64"
   ]
  },
  {
   "cell_type": "markdown",
   "id": "fba4090a",
   "metadata": {},
   "source": [
    "nombre_infected       849\n",
    "nombre_sain          1964\n",
    "nombre_exposed        411\n",
    "nombre_recovered    16776\n",
    "Name: 576, dtype: int64"
   ]
  },
  {
   "cell_type": "markdown",
   "id": "31ddbb05",
   "metadata": {},
   "source": [
    "nombre_infected       832\n",
    "nombre_sain          1962\n",
    "nombre_exposed        406\n",
    "nombre_recovered    16800\n",
    "Name: 577, dtype: int64"
   ]
  },
  {
   "cell_type": "markdown",
   "id": "a57dc98d",
   "metadata": {},
   "source": [
    "nombre_infected       792\n",
    "nombre_sain          1981\n",
    "nombre_exposed        406\n",
    "nombre_recovered    16821\n",
    "Name: 578, dtype: int64"
   ]
  },
  {
   "cell_type": "markdown",
   "id": "78bd4a8b",
   "metadata": {},
   "source": [
    "nombre_infected       750\n",
    "nombre_sain          1965\n",
    "nombre_exposed        412\n",
    "nombre_recovered    16873\n",
    "Name: 579, dtype: int64"
   ]
  },
  {
   "cell_type": "markdown",
   "id": "d51f164e",
   "metadata": {},
   "source": [
    "nombre_infected       759\n",
    "nombre_sain          1978\n",
    "nombre_exposed        402\n",
    "nombre_recovered    16861\n",
    "Name: 580, dtype: int64"
   ]
  },
  {
   "cell_type": "markdown",
   "id": "47d1a1ac",
   "metadata": {},
   "source": [
    "nombre_infected       752\n",
    "nombre_sain          2001\n",
    "nombre_exposed        391\n",
    "nombre_recovered    16856\n",
    "Name: 581, dtype: int64"
   ]
  },
  {
   "cell_type": "markdown",
   "id": "fde099b0",
   "metadata": {},
   "source": [
    "nombre_infected       755\n",
    "nombre_sain          2040\n",
    "nombre_exposed        384\n",
    "nombre_recovered    16821\n",
    "Name: 582, dtype: int64"
   ]
  },
  {
   "cell_type": "markdown",
   "id": "9003a9a3",
   "metadata": {},
   "source": [
    "nombre_infected       734\n",
    "nombre_sain          2079\n",
    "nombre_exposed        381\n",
    "nombre_recovered    16806\n",
    "Name: 583, dtype: int64"
   ]
  },
  {
   "cell_type": "markdown",
   "id": "204f7672",
   "metadata": {},
   "source": [
    "nombre_infected       732\n",
    "nombre_sain          2091\n",
    "nombre_exposed        372\n",
    "nombre_recovered    16805\n",
    "Name: 584, dtype: int64"
   ]
  },
  {
   "cell_type": "markdown",
   "id": "05c2926a",
   "metadata": {},
   "source": [
    "nombre_infected       702\n",
    "nombre_sain          2121\n",
    "nombre_exposed        376\n",
    "nombre_recovered    16801\n",
    "Name: 585, dtype: int64"
   ]
  },
  {
   "cell_type": "markdown",
   "id": "de47aa2d",
   "metadata": {},
   "source": [
    "nombre_infected       684\n",
    "nombre_sain          2141\n",
    "nombre_exposed        371\n",
    "nombre_recovered    16804\n",
    "Name: 586, dtype: int64"
   ]
  },
  {
   "cell_type": "markdown",
   "id": "c1e56f66",
   "metadata": {},
   "source": [
    "nombre_infected       693\n",
    "nombre_sain          2166\n",
    "nombre_exposed        351\n",
    "nombre_recovered    16790\n",
    "Name: 587, dtype: int64"
   ]
  },
  {
   "cell_type": "markdown",
   "id": "3b1cc04c",
   "metadata": {},
   "source": [
    "nombre_infected       671\n",
    "nombre_sain          2176\n",
    "nombre_exposed        346\n",
    "nombre_recovered    16807\n",
    "Name: 588, dtype: int64"
   ]
  },
  {
   "cell_type": "markdown",
   "id": "f57b93d3",
   "metadata": {},
   "source": [
    "nombre_infected       690\n",
    "nombre_sain          2197\n",
    "nombre_exposed        336\n",
    "nombre_recovered    16777\n",
    "Name: 589, dtype: int64"
   ]
  },
  {
   "cell_type": "markdown",
   "id": "a1176413",
   "metadata": {},
   "source": [
    "nombre_infected       675\n",
    "nombre_sain          2222\n",
    "nombre_exposed        335\n",
    "nombre_recovered    16768\n",
    "Name: 590, dtype: int64"
   ]
  },
  {
   "cell_type": "markdown",
   "id": "7a2030bd",
   "metadata": {},
   "source": [
    "nombre_infected       654\n",
    "nombre_sain          2229\n",
    "nombre_exposed        361\n",
    "nombre_recovered    16756\n",
    "Name: 591, dtype: int64"
   ]
  },
  {
   "cell_type": "markdown",
   "id": "95f9578e",
   "metadata": {},
   "source": [
    "nombre_infected       663\n",
    "nombre_sain          2251\n",
    "nombre_exposed        361\n",
    "nombre_recovered    16725\n",
    "Name: 592, dtype: int64"
   ]
  },
  {
   "cell_type": "markdown",
   "id": "a8e2f24b",
   "metadata": {},
   "source": [
    "nombre_infected       672\n",
    "nombre_sain          2275\n",
    "nombre_exposed        365\n",
    "nombre_recovered    16688\n",
    "Name: 593, dtype: int64"
   ]
  },
  {
   "cell_type": "markdown",
   "id": "21e18711",
   "metadata": {},
   "source": [
    "nombre_infected       654\n",
    "nombre_sain          2315\n",
    "nombre_exposed        361\n",
    "nombre_recovered    16670\n",
    "Name: 594, dtype: int64"
   ]
  },
  {
   "cell_type": "markdown",
   "id": "2fbe6558",
   "metadata": {},
   "source": [
    "nombre_infected       667\n",
    "nombre_sain          2319\n",
    "nombre_exposed        376\n",
    "nombre_recovered    16638\n",
    "Name: 595, dtype: int64"
   ]
  },
  {
   "cell_type": "markdown",
   "id": "a1ae2c6d",
   "metadata": {},
   "source": [
    "nombre_infected       665\n",
    "nombre_sain          2347\n",
    "nombre_exposed        369\n",
    "nombre_recovered    16619\n",
    "Name: 596, dtype: int64"
   ]
  },
  {
   "cell_type": "markdown",
   "id": "60ee2e1c",
   "metadata": {},
   "source": [
    "nombre_infected       671\n",
    "nombre_sain          2377\n",
    "nombre_exposed        376\n",
    "nombre_recovered    16576\n",
    "Name: 597, dtype: int64"
   ]
  },
  {
   "cell_type": "markdown",
   "id": "f9a599d5",
   "metadata": {},
   "source": [
    "nombre_infected       688\n",
    "nombre_sain          2413\n",
    "nombre_exposed        375\n",
    "nombre_recovered    16524\n",
    "Name: 598, dtype: int64"
   ]
  },
  {
   "cell_type": "markdown",
   "id": "16736b9e",
   "metadata": {},
   "source": [
    "nombre_infected       688\n",
    "nombre_sain          2439\n",
    "nombre_exposed        381\n",
    "nombre_recovered    16492\n",
    "Name: 599, dtype: int64"
   ]
  },
  {
   "cell_type": "markdown",
   "id": "15b86170",
   "metadata": {},
   "source": [
    "nombre_infected       692\n",
    "nombre_sain          2468\n",
    "nombre_exposed        386\n",
    "nombre_recovered    16454\n",
    "Name: 600, dtype: int64"
   ]
  },
  {
   "cell_type": "markdown",
   "id": "25a8ff61",
   "metadata": {},
   "source": [
    "nombre_infected       699\n",
    "nombre_sain          2490\n",
    "nombre_exposed        390\n",
    "nombre_recovered    16421\n",
    "Name: 601, dtype: int64"
   ]
  },
  {
   "cell_type": "markdown",
   "id": "98225baa",
   "metadata": {},
   "source": [
    "nombre_infected       696\n",
    "nombre_sain          2479\n",
    "nombre_exposed        406\n",
    "nombre_recovered    16419\n",
    "Name: 602, dtype: int64"
   ]
  },
  {
   "cell_type": "markdown",
   "id": "fd158f60",
   "metadata": {},
   "source": [
    "nombre_infected       708\n",
    "nombre_sain          2490\n",
    "nombre_exposed        413\n",
    "nombre_recovered    16389\n",
    "Name: 603, dtype: int64"
   ]
  },
  {
   "cell_type": "markdown",
   "id": "c40b6075",
   "metadata": {},
   "source": [
    "nombre_infected       714\n",
    "nombre_sain          2524\n",
    "nombre_exposed        417\n",
    "nombre_recovered    16345\n",
    "Name: 604, dtype: int64"
   ]
  },
  {
   "cell_type": "markdown",
   "id": "2fdbb0fa",
   "metadata": {},
   "source": [
    "nombre_infected       734\n",
    "nombre_sain          2529\n",
    "nombre_exposed        430\n",
    "nombre_recovered    16307\n",
    "Name: 605, dtype: int64"
   ]
  },
  {
   "cell_type": "markdown",
   "id": "2acc2f6a",
   "metadata": {},
   "source": [
    "nombre_infected       749\n",
    "nombre_sain          2544\n",
    "nombre_exposed        425\n",
    "nombre_recovered    16282\n",
    "Name: 606, dtype: int64"
   ]
  },
  {
   "cell_type": "markdown",
   "id": "9976f455",
   "metadata": {},
   "source": [
    "nombre_infected       756\n",
    "nombre_sain          2545\n",
    "nombre_exposed        439\n",
    "nombre_recovered    16260\n",
    "Name: 607, dtype: int64"
   ]
  },
  {
   "cell_type": "markdown",
   "id": "f553d106",
   "metadata": {},
   "source": [
    "nombre_infected       757\n",
    "nombre_sain          2547\n",
    "nombre_exposed        470\n",
    "nombre_recovered    16226\n",
    "Name: 608, dtype: int64"
   ]
  },
  {
   "cell_type": "markdown",
   "id": "26a4c0e3",
   "metadata": {},
   "source": [
    "nombre_infected       791\n",
    "nombre_sain          2538\n",
    "nombre_exposed        458\n",
    "nombre_recovered    16213\n",
    "Name: 609, dtype: int64"
   ]
  },
  {
   "cell_type": "markdown",
   "id": "f28c44df",
   "metadata": {},
   "source": [
    "nombre_infected       790\n",
    "nombre_sain          2535\n",
    "nombre_exposed        461\n",
    "nombre_recovered    16214\n",
    "Name: 610, dtype: int64"
   ]
  },
  {
   "cell_type": "markdown",
   "id": "426e81c3",
   "metadata": {},
   "source": [
    "nombre_infected       827\n",
    "nombre_sain          2507\n",
    "nombre_exposed        493\n",
    "nombre_recovered    16173\n",
    "Name: 611, dtype: int64"
   ]
  },
  {
   "cell_type": "markdown",
   "id": "60d8c234",
   "metadata": {},
   "source": [
    "nombre_infected       828\n",
    "nombre_sain          2468\n",
    "nombre_exposed        520\n",
    "nombre_recovered    16184\n",
    "Name: 612, dtype: int64"
   ]
  },
  {
   "cell_type": "markdown",
   "id": "e1e741cd",
   "metadata": {},
   "source": [
    "nombre_infected       844\n",
    "nombre_sain          2475\n",
    "nombre_exposed        509\n",
    "nombre_recovered    16172\n",
    "Name: 613, dtype: int64"
   ]
  },
  {
   "cell_type": "markdown",
   "id": "76776ec9",
   "metadata": {},
   "source": [
    "nombre_infected       858\n",
    "nombre_sain          2442\n",
    "nombre_exposed        538\n",
    "nombre_recovered    16162\n",
    "Name: 614, dtype: int64"
   ]
  },
  {
   "cell_type": "markdown",
   "id": "86ffd3c6",
   "metadata": {},
   "source": [
    "nombre_infected       864\n",
    "nombre_sain          2418\n",
    "nombre_exposed        550\n",
    "nombre_recovered    16168\n",
    "Name: 615, dtype: int64"
   ]
  },
  {
   "cell_type": "markdown",
   "id": "ee069403",
   "metadata": {},
   "source": [
    "nombre_infected       920\n",
    "nombre_sain          2387\n",
    "nombre_exposed        517\n",
    "nombre_recovered    16176\n",
    "Name: 616, dtype: int64"
   ]
  },
  {
   "cell_type": "markdown",
   "id": "8dbd3b54",
   "metadata": {},
   "source": [
    "nombre_infected       935\n",
    "nombre_sain          2348\n",
    "nombre_exposed        525\n",
    "nombre_recovered    16192\n",
    "Name: 617, dtype: int64"
   ]
  },
  {
   "cell_type": "markdown",
   "id": "0ceed474",
   "metadata": {},
   "source": [
    "nombre_infected       926\n",
    "nombre_sain          2323\n",
    "nombre_exposed        525\n",
    "nombre_recovered    16226\n",
    "Name: 618, dtype: int64"
   ]
  },
  {
   "cell_type": "markdown",
   "id": "a86e8b35",
   "metadata": {},
   "source": [
    "nombre_infected       940\n",
    "nombre_sain          2300\n",
    "nombre_exposed        523\n",
    "nombre_recovered    16237\n",
    "Name: 619, dtype: int64"
   ]
  },
  {
   "cell_type": "markdown",
   "id": "2f973981",
   "metadata": {},
   "source": [
    "nombre_infected       964\n",
    "nombre_sain          2279\n",
    "nombre_exposed        521\n",
    "nombre_recovered    16236\n",
    "Name: 620, dtype: int64"
   ]
  },
  {
   "cell_type": "markdown",
   "id": "9b44532b",
   "metadata": {},
   "source": [
    "nombre_infected       960\n",
    "nombre_sain          2259\n",
    "nombre_exposed        519\n",
    "nombre_recovered    16262\n",
    "Name: 621, dtype: int64"
   ]
  },
  {
   "cell_type": "markdown",
   "id": "5fd5ea11",
   "metadata": {},
   "source": [
    "nombre_infected       975\n",
    "nombre_sain          2251\n",
    "nombre_exposed        522\n",
    "nombre_recovered    16252\n",
    "Name: 622, dtype: int64"
   ]
  },
  {
   "cell_type": "markdown",
   "id": "2a4cd802",
   "metadata": {},
   "source": [
    "nombre_infected       985\n",
    "nombre_sain          2234\n",
    "nombre_exposed        515\n",
    "nombre_recovered    16266\n",
    "Name: 623, dtype: int64"
   ]
  },
  {
   "cell_type": "markdown",
   "id": "94703644",
   "metadata": {},
   "source": [
    "nombre_infected       985\n",
    "nombre_sain          2177\n",
    "nombre_exposed        526\n",
    "nombre_recovered    16312\n",
    "Name: 624, dtype: int64"
   ]
  },
  {
   "cell_type": "markdown",
   "id": "6c998dc3",
   "metadata": {},
   "source": [
    "nombre_infected       954\n",
    "nombre_sain          2157\n",
    "nombre_exposed        542\n",
    "nombre_recovered    16347\n",
    "Name: 625, dtype: int64"
   ]
  },
  {
   "cell_type": "markdown",
   "id": "55183632",
   "metadata": {},
   "source": [
    "nombre_infected       969\n",
    "nombre_sain          2160\n",
    "nombre_exposed        514\n",
    "nombre_recovered    16357\n",
    "Name: 626, dtype: int64"
   ]
  },
  {
   "cell_type": "markdown",
   "id": "a736fde9",
   "metadata": {},
   "source": [
    "nombre_infected       946\n",
    "nombre_sain          2163\n",
    "nombre_exposed        515\n",
    "nombre_recovered    16376\n",
    "Name: 627, dtype: int64"
   ]
  },
  {
   "cell_type": "markdown",
   "id": "1a4c089d",
   "metadata": {},
   "source": [
    "nombre_infected       955\n",
    "nombre_sain          2163\n",
    "nombre_exposed        493\n",
    "nombre_recovered    16389\n",
    "Name: 628, dtype: int64"
   ]
  },
  {
   "cell_type": "markdown",
   "id": "c7d05a9d",
   "metadata": {},
   "source": [
    "nombre_infected       951\n",
    "nombre_sain          2147\n",
    "nombre_exposed        518\n",
    "nombre_recovered    16384\n",
    "Name: 629, dtype: int64"
   ]
  },
  {
   "cell_type": "markdown",
   "id": "858ada16",
   "metadata": {},
   "source": [
    "nombre_infected       949\n",
    "nombre_sain          2125\n",
    "nombre_exposed        521\n",
    "nombre_recovered    16405\n",
    "Name: 630, dtype: int64"
   ]
  },
  {
   "cell_type": "markdown",
   "id": "d8dffaa1",
   "metadata": {},
   "source": [
    "nombre_infected       963\n",
    "nombre_sain          2136\n",
    "nombre_exposed        503\n",
    "nombre_recovered    16398\n",
    "Name: 631, dtype: int64"
   ]
  },
  {
   "cell_type": "markdown",
   "id": "f370a417",
   "metadata": {},
   "source": [
    "nombre_infected       998\n",
    "nombre_sain          2090\n",
    "nombre_exposed        504\n",
    "nombre_recovered    16408\n",
    "Name: 632, dtype: int64"
   ]
  },
  {
   "cell_type": "markdown",
   "id": "7a9a7062",
   "metadata": {},
   "source": [
    "nombre_infected      1003\n",
    "nombre_sain          2096\n",
    "nombre_exposed        505\n",
    "nombre_recovered    16396\n",
    "Name: 633, dtype: int64"
   ]
  },
  {
   "cell_type": "markdown",
   "id": "a0837e7b",
   "metadata": {},
   "source": [
    "nombre_infected      1001\n",
    "nombre_sain          2118\n",
    "nombre_exposed        488\n",
    "nombre_recovered    16393\n",
    "Name: 634, dtype: int64"
   ]
  },
  {
   "cell_type": "markdown",
   "id": "794fa251",
   "metadata": {},
   "source": [
    "nombre_infected       984\n",
    "nombre_sain          2094\n",
    "nombre_exposed        506\n",
    "nombre_recovered    16416\n",
    "Name: 635, dtype: int64"
   ]
  },
  {
   "cell_type": "markdown",
   "id": "c869ba15",
   "metadata": {},
   "source": [
    "nombre_infected       972\n",
    "nombre_sain          2084\n",
    "nombre_exposed        510\n",
    "nombre_recovered    16434\n",
    "Name: 636, dtype: int64"
   ]
  },
  {
   "cell_type": "markdown",
   "id": "9d919215",
   "metadata": {},
   "source": [
    "nombre_infected       978\n",
    "nombre_sain          2092\n",
    "nombre_exposed        489\n",
    "nombre_recovered    16441\n",
    "Name: 637, dtype: int64"
   ]
  },
  {
   "cell_type": "markdown",
   "id": "2f4e826d",
   "metadata": {},
   "source": [
    "nombre_infected       978\n",
    "nombre_sain          2075\n",
    "nombre_exposed        498\n",
    "nombre_recovered    16449\n",
    "Name: 638, dtype: int64"
   ]
  },
  {
   "cell_type": "markdown",
   "id": "ebb327b3",
   "metadata": {},
   "source": [
    "nombre_infected       995\n",
    "nombre_sain          2085\n",
    "nombre_exposed        488\n",
    "nombre_recovered    16432\n",
    "Name: 639, dtype: int64"
   ]
  },
  {
   "cell_type": "markdown",
   "id": "26e83095",
   "metadata": {},
   "source": [
    "nombre_infected       995\n",
    "nombre_sain          2093\n",
    "nombre_exposed        495\n",
    "nombre_recovered    16417\n",
    "Name: 640, dtype: int64"
   ]
  },
  {
   "cell_type": "markdown",
   "id": "b86447f9",
   "metadata": {},
   "source": [
    "nombre_infected       976\n",
    "nombre_sain          2101\n",
    "nombre_exposed        507\n",
    "nombre_recovered    16416\n",
    "Name: 641, dtype: int64"
   ]
  },
  {
   "cell_type": "markdown",
   "id": "fcab7ef6",
   "metadata": {},
   "source": [
    "nombre_infected       993\n",
    "nombre_sain          2103\n",
    "nombre_exposed        507\n",
    "nombre_recovered    16397\n",
    "Name: 642, dtype: int64"
   ]
  },
  {
   "cell_type": "markdown",
   "id": "f27b8cf2",
   "metadata": {},
   "source": [
    "nombre_infected       982\n",
    "nombre_sain          2120\n",
    "nombre_exposed        497\n",
    "nombre_recovered    16401\n",
    "Name: 643, dtype: int64"
   ]
  },
  {
   "cell_type": "markdown",
   "id": "7b35752d",
   "metadata": {},
   "source": [
    "nombre_infected       956\n",
    "nombre_sain          2104\n",
    "nombre_exposed        521\n",
    "nombre_recovered    16419\n",
    "Name: 644, dtype: int64"
   ]
  },
  {
   "cell_type": "markdown",
   "id": "4c5f1543",
   "metadata": {},
   "source": [
    "nombre_infected       972\n",
    "nombre_sain          2091\n",
    "nombre_exposed        527\n",
    "nombre_recovered    16410\n",
    "Name: 645, dtype: int64"
   ]
  },
  {
   "cell_type": "markdown",
   "id": "4f104e41",
   "metadata": {},
   "source": [
    "nombre_infected       954\n",
    "nombre_sain          2117\n",
    "nombre_exposed        506\n",
    "nombre_recovered    16423\n",
    "Name: 646, dtype: int64"
   ]
  },
  {
   "cell_type": "markdown",
   "id": "9164e626",
   "metadata": {},
   "source": [
    "nombre_infected       958\n",
    "nombre_sain          2120\n",
    "nombre_exposed        505\n",
    "nombre_recovered    16417\n",
    "Name: 647, dtype: int64"
   ]
  },
  {
   "cell_type": "markdown",
   "id": "6d1bea30",
   "metadata": {},
   "source": [
    "nombre_infected       962\n",
    "nombre_sain          2115\n",
    "nombre_exposed        501\n",
    "nombre_recovered    16422\n",
    "Name: 648, dtype: int64"
   ]
  },
  {
   "cell_type": "markdown",
   "id": "1f63d0d4",
   "metadata": {},
   "source": [
    "nombre_infected       952\n",
    "nombre_sain          2134\n",
    "nombre_exposed        485\n",
    "nombre_recovered    16429\n",
    "Name: 649, dtype: int64"
   ]
  },
  {
   "cell_type": "markdown",
   "id": "744cad40",
   "metadata": {},
   "source": [
    "nombre_infected       940\n",
    "nombre_sain          2134\n",
    "nombre_exposed        488\n",
    "nombre_recovered    16438\n",
    "Name: 650, dtype: int64"
   ]
  },
  {
   "cell_type": "markdown",
   "id": "0c45f60f",
   "metadata": {},
   "source": [
    "nombre_infected       932\n",
    "nombre_sain          2141\n",
    "nombre_exposed        496\n",
    "nombre_recovered    16431\n",
    "Name: 651, dtype: int64"
   ]
  },
  {
   "cell_type": "markdown",
   "id": "b5311b37",
   "metadata": {},
   "source": [
    "nombre_infected       939\n",
    "nombre_sain          2135\n",
    "nombre_exposed        503\n",
    "nombre_recovered    16423\n",
    "Name: 652, dtype: int64"
   ]
  },
  {
   "cell_type": "markdown",
   "id": "9d767179",
   "metadata": {},
   "source": [
    "nombre_infected       943\n",
    "nombre_sain          2136\n",
    "nombre_exposed        485\n",
    "nombre_recovered    16436\n",
    "Name: 653, dtype: int64"
   ]
  },
  {
   "cell_type": "markdown",
   "id": "1fca6a54",
   "metadata": {},
   "source": [
    "nombre_infected       940\n",
    "nombre_sain          2135\n",
    "nombre_exposed        497\n",
    "nombre_recovered    16428\n",
    "Name: 654, dtype: int64"
   ]
  },
  {
   "cell_type": "markdown",
   "id": "1b904259",
   "metadata": {},
   "source": [
    "nombre_infected       932\n",
    "nombre_sain          2137\n",
    "nombre_exposed        521\n",
    "nombre_recovered    16410\n",
    "Name: 655, dtype: int64"
   ]
  },
  {
   "cell_type": "markdown",
   "id": "df6dd05f",
   "metadata": {},
   "source": [
    "nombre_infected       943\n",
    "nombre_sain          2157\n",
    "nombre_exposed        509\n",
    "nombre_recovered    16391\n",
    "Name: 656, dtype: int64"
   ]
  },
  {
   "cell_type": "markdown",
   "id": "cec73fbb",
   "metadata": {},
   "source": [
    "nombre_infected       931\n",
    "nombre_sain          2163\n",
    "nombre_exposed        522\n",
    "nombre_recovered    16384\n",
    "Name: 657, dtype: int64"
   ]
  },
  {
   "cell_type": "markdown",
   "id": "799752a7",
   "metadata": {},
   "source": [
    "nombre_infected       939\n",
    "nombre_sain          2186\n",
    "nombre_exposed        498\n",
    "nombre_recovered    16377\n",
    "Name: 658, dtype: int64"
   ]
  },
  {
   "cell_type": "markdown",
   "id": "3ad107cd",
   "metadata": {},
   "source": [
    "nombre_infected       946\n",
    "nombre_sain          2171\n",
    "nombre_exposed        491\n",
    "nombre_recovered    16392\n",
    "Name: 659, dtype: int64"
   ]
  },
  {
   "cell_type": "markdown",
   "id": "093e6e71",
   "metadata": {},
   "source": [
    "nombre_infected       915\n",
    "nombre_sain          2184\n",
    "nombre_exposed        507\n",
    "nombre_recovered    16394\n",
    "Name: 660, dtype: int64"
   ]
  },
  {
   "cell_type": "markdown",
   "id": "adc2c8d0",
   "metadata": {},
   "source": [
    "nombre_infected       925\n",
    "nombre_sain          2178\n",
    "nombre_exposed        516\n",
    "nombre_recovered    16381\n",
    "Name: 661, dtype: int64"
   ]
  },
  {
   "cell_type": "markdown",
   "id": "7e73ddf8",
   "metadata": {},
   "source": [
    "nombre_infected       948\n",
    "nombre_sain          2163\n",
    "nombre_exposed        521\n",
    "nombre_recovered    16368\n",
    "Name: 662, dtype: int64"
   ]
  },
  {
   "cell_type": "markdown",
   "id": "0c1f9353",
   "metadata": {},
   "source": [
    "nombre_infected       928\n",
    "nombre_sain          2162\n",
    "nombre_exposed        523\n",
    "nombre_recovered    16387\n",
    "Name: 663, dtype: int64"
   ]
  },
  {
   "cell_type": "markdown",
   "id": "05f56631",
   "metadata": {},
   "source": [
    "nombre_infected       913\n",
    "nombre_sain          2173\n",
    "nombre_exposed        524\n",
    "nombre_recovered    16390\n",
    "Name: 664, dtype: int64"
   ]
  },
  {
   "cell_type": "markdown",
   "id": "de67795f",
   "metadata": {},
   "source": [
    "nombre_infected       942\n",
    "nombre_sain          2174\n",
    "nombre_exposed        532\n",
    "nombre_recovered    16352\n",
    "Name: 665, dtype: int64"
   ]
  },
  {
   "cell_type": "markdown",
   "id": "92576b85",
   "metadata": {},
   "source": [
    "nombre_infected       955\n",
    "nombre_sain          2158\n",
    "nombre_exposed        533\n",
    "nombre_recovered    16354\n",
    "Name: 666, dtype: int64"
   ]
  },
  {
   "cell_type": "markdown",
   "id": "b52a2809",
   "metadata": {},
   "source": [
    "nombre_infected       963\n",
    "nombre_sain          2148\n",
    "nombre_exposed        531\n",
    "nombre_recovered    16358\n",
    "Name: 667, dtype: int64"
   ]
  },
  {
   "cell_type": "markdown",
   "id": "6884590e",
   "metadata": {},
   "source": [
    "nombre_infected       961\n",
    "nombre_sain          2136\n",
    "nombre_exposed        553\n",
    "nombre_recovered    16350\n",
    "Name: 668, dtype: int64"
   ]
  },
  {
   "cell_type": "markdown",
   "id": "4295688f",
   "metadata": {},
   "source": [
    "nombre_infected       960\n",
    "nombre_sain          2126\n",
    "nombre_exposed        552\n",
    "nombre_recovered    16362\n",
    "Name: 669, dtype: int64"
   ]
  },
  {
   "cell_type": "markdown",
   "id": "8d463c1c",
   "metadata": {},
   "source": [
    "nombre_infected       951\n",
    "nombre_sain          2137\n",
    "nombre_exposed        545\n",
    "nombre_recovered    16367\n",
    "Name: 670, dtype: int64"
   ]
  },
  {
   "cell_type": "markdown",
   "id": "33617833",
   "metadata": {},
   "source": [
    "nombre_infected       961\n",
    "nombre_sain          2142\n",
    "nombre_exposed        516\n",
    "nombre_recovered    16381\n",
    "Name: 671, dtype: int64"
   ]
  },
  {
   "cell_type": "markdown",
   "id": "0a8a446f",
   "metadata": {},
   "source": [
    "nombre_infected       957\n",
    "nombre_sain          2164\n",
    "nombre_exposed        501\n",
    "nombre_recovered    16378\n",
    "Name: 672, dtype: int64"
   ]
  },
  {
   "cell_type": "markdown",
   "id": "b922317c",
   "metadata": {},
   "source": [
    "nombre_infected       958\n",
    "nombre_sain          2157\n",
    "nombre_exposed        498\n",
    "nombre_recovered    16387\n",
    "Name: 673, dtype: int64"
   ]
  },
  {
   "cell_type": "markdown",
   "id": "19cca7c9",
   "metadata": {},
   "source": [
    "nombre_infected       957\n",
    "nombre_sain          2106\n",
    "nombre_exposed        525\n",
    "nombre_recovered    16412\n",
    "Name: 674, dtype: int64"
   ]
  },
  {
   "cell_type": "markdown",
   "id": "eec1e694",
   "metadata": {},
   "source": [
    "nombre_infected       934\n",
    "nombre_sain          2114\n",
    "nombre_exposed        517\n",
    "nombre_recovered    16435\n",
    "Name: 675, dtype: int64"
   ]
  },
  {
   "cell_type": "markdown",
   "id": "755c7ea3",
   "metadata": {},
   "source": [
    "nombre_infected       923\n",
    "nombre_sain          2117\n",
    "nombre_exposed        519\n",
    "nombre_recovered    16441\n",
    "Name: 676, dtype: int64"
   ]
  },
  {
   "cell_type": "markdown",
   "id": "2cf88851",
   "metadata": {},
   "source": [
    "nombre_infected       902\n",
    "nombre_sain          2137\n",
    "nombre_exposed        518\n",
    "nombre_recovered    16443\n",
    "Name: 677, dtype: int64"
   ]
  },
  {
   "cell_type": "markdown",
   "id": "ae897249",
   "metadata": {},
   "source": [
    "nombre_infected       920\n",
    "nombre_sain          2151\n",
    "nombre_exposed        506\n",
    "nombre_recovered    16423\n",
    "Name: 678, dtype: int64"
   ]
  },
  {
   "cell_type": "markdown",
   "id": "e215a8d7",
   "metadata": {},
   "source": [
    "nombre_infected       940\n",
    "nombre_sain          2161\n",
    "nombre_exposed        478\n",
    "nombre_recovered    16421\n",
    "Name: 679, dtype: int64"
   ]
  },
  {
   "cell_type": "markdown",
   "id": "7c1aa501",
   "metadata": {},
   "source": [
    "nombre_infected       928\n",
    "nombre_sain          2151\n",
    "nombre_exposed        495\n",
    "nombre_recovered    16426\n",
    "Name: 680, dtype: int64"
   ]
  },
  {
   "cell_type": "markdown",
   "id": "5af5deef",
   "metadata": {},
   "source": [
    "nombre_infected       913\n",
    "nombre_sain          2143\n",
    "nombre_exposed        506\n",
    "nombre_recovered    16438\n",
    "Name: 681, dtype: int64"
   ]
  },
  {
   "cell_type": "markdown",
   "id": "9af3cf30",
   "metadata": {},
   "source": [
    "nombre_infected       923\n",
    "nombre_sain          2143\n",
    "nombre_exposed        501\n",
    "nombre_recovered    16433\n",
    "Name: 682, dtype: int64"
   ]
  },
  {
   "cell_type": "markdown",
   "id": "8ce381b0",
   "metadata": {},
   "source": [
    "nombre_infected       915\n",
    "nombre_sain          2151\n",
    "nombre_exposed        507\n",
    "nombre_recovered    16427\n",
    "Name: 683, dtype: int64"
   ]
  },
  {
   "cell_type": "markdown",
   "id": "d9c9b0e7",
   "metadata": {},
   "source": [
    "nombre_infected       949\n",
    "nombre_sain          2137\n",
    "nombre_exposed        481\n",
    "nombre_recovered    16433\n",
    "Name: 684, dtype: int64"
   ]
  },
  {
   "cell_type": "markdown",
   "id": "68096fd8",
   "metadata": {},
   "source": [
    "nombre_infected       935\n",
    "nombre_sain          2114\n",
    "nombre_exposed        491\n",
    "nombre_recovered    16460\n",
    "Name: 685, dtype: int64"
   ]
  },
  {
   "cell_type": "markdown",
   "id": "76838d28",
   "metadata": {},
   "source": [
    "nombre_infected       903\n",
    "nombre_sain          2117\n",
    "nombre_exposed        505\n",
    "nombre_recovered    16475\n",
    "Name: 686, dtype: int64"
   ]
  },
  {
   "cell_type": "markdown",
   "id": "5a54d6e9",
   "metadata": {},
   "source": [
    "nombre_infected       890\n",
    "nombre_sain          2138\n",
    "nombre_exposed        495\n",
    "nombre_recovered    16477\n",
    "Name: 687, dtype: int64"
   ]
  },
  {
   "cell_type": "markdown",
   "id": "3f707016",
   "metadata": {},
   "source": [
    "nombre_infected       910\n",
    "nombre_sain          2139\n",
    "nombre_exposed        489\n",
    "nombre_recovered    16462\n",
    "Name: 688, dtype: int64"
   ]
  },
  {
   "cell_type": "markdown",
   "id": "807aa03b",
   "metadata": {},
   "source": [
    "nombre_infected       910\n",
    "nombre_sain          2134\n",
    "nombre_exposed        511\n",
    "nombre_recovered    16445\n",
    "Name: 689, dtype: int64"
   ]
  },
  {
   "cell_type": "markdown",
   "id": "7c4bdf76",
   "metadata": {},
   "source": [
    "nombre_infected       927\n",
    "nombre_sain          2121\n",
    "nombre_exposed        493\n",
    "nombre_recovered    16459\n",
    "Name: 690, dtype: int64"
   ]
  },
  {
   "cell_type": "markdown",
   "id": "ee556b46",
   "metadata": {},
   "source": [
    "nombre_infected       938\n",
    "nombre_sain          2138\n",
    "nombre_exposed        486\n",
    "nombre_recovered    16438\n",
    "Name: 691, dtype: int64"
   ]
  },
  {
   "cell_type": "markdown",
   "id": "32c10763",
   "metadata": {},
   "source": [
    "nombre_infected       930\n",
    "nombre_sain          2169\n",
    "nombre_exposed        490\n",
    "nombre_recovered    16411\n",
    "Name: 692, dtype: int64"
   ]
  },
  {
   "cell_type": "markdown",
   "id": "37f335d1",
   "metadata": {},
   "source": [
    "nombre_infected       947\n",
    "nombre_sain          2198\n",
    "nombre_exposed        491\n",
    "nombre_recovered    16364\n",
    "Name: 693, dtype: int64"
   ]
  },
  {
   "cell_type": "markdown",
   "id": "6c9b2d43",
   "metadata": {},
   "source": [
    "nombre_infected       940\n",
    "nombre_sain          2218\n",
    "nombre_exposed        508\n",
    "nombre_recovered    16334\n",
    "Name: 694, dtype: int64"
   ]
  },
  {
   "cell_type": "markdown",
   "id": "8e3b6e84",
   "metadata": {},
   "source": [
    "nombre_infected       938\n",
    "nombre_sain          2219\n",
    "nombre_exposed        518\n",
    "nombre_recovered    16325\n",
    "Name: 695, dtype: int64"
   ]
  },
  {
   "cell_type": "markdown",
   "id": "ec05b64d",
   "metadata": {},
   "source": [
    "nombre_infected       940\n",
    "nombre_sain          2206\n",
    "nombre_exposed        539\n",
    "nombre_recovered    16315\n",
    "Name: 696, dtype: int64"
   ]
  },
  {
   "cell_type": "markdown",
   "id": "7871dfcd",
   "metadata": {},
   "source": [
    "nombre_infected       947\n",
    "nombre_sain          2227\n",
    "nombre_exposed        564\n",
    "nombre_recovered    16262\n",
    "Name: 697, dtype: int64"
   ]
  },
  {
   "cell_type": "markdown",
   "id": "2b3a6ea0",
   "metadata": {},
   "source": [
    "nombre_infected       950\n",
    "nombre_sain          2227\n",
    "nombre_exposed        566\n",
    "nombre_recovered    16257\n",
    "Name: 698, dtype: int64"
   ]
  },
  {
   "cell_type": "markdown",
   "id": "afb26aa2",
   "metadata": {},
   "source": [
    "nombre_infected       944\n",
    "nombre_sain          2227\n",
    "nombre_exposed        577\n",
    "nombre_recovered    16252\n",
    "Name: 699, dtype: int64"
   ]
  },
  {
   "cell_type": "markdown",
   "id": "b656d529",
   "metadata": {},
   "source": [
    "nombre_infected       947\n",
    "nombre_sain          2231\n",
    "nombre_exposed        571\n",
    "nombre_recovered    16251\n",
    "Name: 700, dtype: int64"
   ]
  },
  {
   "cell_type": "markdown",
   "id": "3b2e5bf3",
   "metadata": {},
   "source": [
    "nombre_infected       972\n",
    "nombre_sain          2213\n",
    "nombre_exposed        554\n",
    "nombre_recovered    16261\n",
    "Name: 701, dtype: int64"
   ]
  },
  {
   "cell_type": "markdown",
   "id": "8d33f601",
   "metadata": {},
   "source": [
    "nombre_infected       965\n",
    "nombre_sain          2194\n",
    "nombre_exposed        572\n",
    "nombre_recovered    16269\n",
    "Name: 702, dtype: int64"
   ]
  },
  {
   "cell_type": "markdown",
   "id": "6fe7a237",
   "metadata": {},
   "source": [
    "nombre_infected       965\n",
    "nombre_sain          2206\n",
    "nombre_exposed        559\n",
    "nombre_recovered    16270\n",
    "Name: 703, dtype: int64"
   ]
  },
  {
   "cell_type": "markdown",
   "id": "89946cae",
   "metadata": {},
   "source": [
    "nombre_infected       970\n",
    "nombre_sain          2221\n",
    "nombre_exposed        535\n",
    "nombre_recovered    16274\n",
    "Name: 704, dtype: int64"
   ]
  },
  {
   "cell_type": "markdown",
   "id": "c9316f2e",
   "metadata": {},
   "source": [
    "nombre_infected       944\n",
    "nombre_sain          2216\n",
    "nombre_exposed        566\n",
    "nombre_recovered    16274\n",
    "Name: 705, dtype: int64"
   ]
  },
  {
   "cell_type": "markdown",
   "id": "0b813e1d",
   "metadata": {},
   "source": [
    "nombre_infected       953\n",
    "nombre_sain          2212\n",
    "nombre_exposed        553\n",
    "nombre_recovered    16282\n",
    "Name: 706, dtype: int64"
   ]
  },
  {
   "cell_type": "markdown",
   "id": "54361bb1",
   "metadata": {},
   "source": [
    "nombre_infected       958\n",
    "nombre_sain          2200\n",
    "nombre_exposed        552\n",
    "nombre_recovered    16290\n",
    "Name: 707, dtype: int64"
   ]
  },
  {
   "cell_type": "markdown",
   "id": "e3bc8371",
   "metadata": {},
   "source": [
    "nombre_infected       957\n",
    "nombre_sain          2230\n",
    "nombre_exposed        527\n",
    "nombre_recovered    16286\n",
    "Name: 708, dtype: int64"
   ]
  },
  {
   "cell_type": "markdown",
   "id": "fec5fa17",
   "metadata": {},
   "source": [
    "nombre_infected       970\n",
    "nombre_sain          2245\n",
    "nombre_exposed        516\n",
    "nombre_recovered    16269\n",
    "Name: 709, dtype: int64"
   ]
  },
  {
   "cell_type": "markdown",
   "id": "bace06fe",
   "metadata": {},
   "source": [
    "nombre_infected       960\n",
    "nombre_sain          2238\n",
    "nombre_exposed        534\n",
    "nombre_recovered    16268\n",
    "Name: 710, dtype: int64"
   ]
  },
  {
   "cell_type": "markdown",
   "id": "1a4b430f",
   "metadata": {},
   "source": [
    "nombre_infected       949\n",
    "nombre_sain          2247\n",
    "nombre_exposed        540\n",
    "nombre_recovered    16264\n",
    "Name: 711, dtype: int64"
   ]
  },
  {
   "cell_type": "markdown",
   "id": "1533bb49",
   "metadata": {},
   "source": [
    "nombre_infected       944\n",
    "nombre_sain          2238\n",
    "nombre_exposed        540\n",
    "nombre_recovered    16278\n",
    "Name: 712, dtype: int64"
   ]
  },
  {
   "cell_type": "markdown",
   "id": "ed0565d0",
   "metadata": {},
   "source": [
    "nombre_infected       958\n",
    "nombre_sain          2238\n",
    "nombre_exposed        524\n",
    "nombre_recovered    16280\n",
    "Name: 713, dtype: int64"
   ]
  },
  {
   "cell_type": "markdown",
   "id": "346318fc",
   "metadata": {},
   "source": [
    "nombre_infected       968\n",
    "nombre_sain          2244\n",
    "nombre_exposed        521\n",
    "nombre_recovered    16267\n",
    "Name: 714, dtype: int64"
   ]
  },
  {
   "cell_type": "markdown",
   "id": "8dfebcf5",
   "metadata": {},
   "source": [
    "nombre_infected       962\n",
    "nombre_sain          2218\n",
    "nombre_exposed        539\n",
    "nombre_recovered    16281\n",
    "Name: 715, dtype: int64"
   ]
  },
  {
   "cell_type": "markdown",
   "id": "c71c998f",
   "metadata": {},
   "source": [
    "nombre_infected       949\n",
    "nombre_sain          2211\n",
    "nombre_exposed        568\n",
    "nombre_recovered    16272\n",
    "Name: 716, dtype: int64"
   ]
  },
  {
   "cell_type": "markdown",
   "id": "4be0ddb9",
   "metadata": {},
   "source": [
    "nombre_infected       944\n",
    "nombre_sain          2209\n",
    "nombre_exposed        574\n",
    "nombre_recovered    16273\n",
    "Name: 717, dtype: int64"
   ]
  },
  {
   "cell_type": "markdown",
   "id": "39142fa8",
   "metadata": {},
   "source": [
    "nombre_infected       944\n",
    "nombre_sain          2230\n",
    "nombre_exposed        564\n",
    "nombre_recovered    16262\n",
    "Name: 718, dtype: int64"
   ]
  },
  {
   "cell_type": "markdown",
   "id": "2b9dcef5",
   "metadata": {},
   "source": [
    "nombre_infected       941\n",
    "nombre_sain          2217\n",
    "nombre_exposed        567\n",
    "nombre_recovered    16275\n",
    "Name: 719, dtype: int64"
   ]
  },
  {
   "cell_type": "markdown",
   "id": "a3b02365",
   "metadata": {},
   "source": [
    "nombre_infected       986\n",
    "nombre_sain          2207\n",
    "nombre_exposed        560\n",
    "nombre_recovered    16247\n",
    "Name: 720, dtype: int64"
   ]
  },
  {
   "cell_type": "markdown",
   "id": "b050f9ad",
   "metadata": {},
   "source": [
    "nombre_infected       989\n",
    "nombre_sain          2215\n",
    "nombre_exposed        551\n",
    "nombre_recovered    16245\n",
    "Name: 721, dtype: int64"
   ]
  },
  {
   "cell_type": "markdown",
   "id": "de91b836",
   "metadata": {},
   "source": [
    "nombre_infected      1004\n",
    "nombre_sain          2194\n",
    "nombre_exposed        525\n",
    "nombre_recovered    16277\n",
    "Name: 722, dtype: int64"
   ]
  },
  {
   "cell_type": "markdown",
   "id": "12041e85",
   "metadata": {},
   "source": [
    "nombre_infected      1004\n",
    "nombre_sain          2178\n",
    "nombre_exposed        521\n",
    "nombre_recovered    16297\n",
    "Name: 723, dtype: int64"
   ]
  },
  {
   "cell_type": "markdown",
   "id": "b399e129",
   "metadata": {},
   "source": [
    "nombre_infected       998\n",
    "nombre_sain          2163\n",
    "nombre_exposed        526\n",
    "nombre_recovered    16313\n",
    "Name: 724, dtype: int64"
   ]
  },
  {
   "cell_type": "markdown",
   "id": "ab222c01",
   "metadata": {},
   "source": [
    "nombre_infected       991\n",
    "nombre_sain          2187\n",
    "nombre_exposed        516\n",
    "nombre_recovered    16306\n",
    "Name: 725, dtype: int64"
   ]
  },
  {
   "cell_type": "markdown",
   "id": "b27d2554",
   "metadata": {},
   "source": [
    "nombre_infected       999\n",
    "nombre_sain          2181\n",
    "nombre_exposed        511\n",
    "nombre_recovered    16309\n",
    "Name: 726, dtype: int64"
   ]
  },
  {
   "cell_type": "markdown",
   "id": "d61c2bb7",
   "metadata": {},
   "source": [
    "nombre_infected       973\n",
    "nombre_sain          2167\n",
    "nombre_exposed        519\n",
    "nombre_recovered    16341\n",
    "Name: 727, dtype: int64"
   ]
  },
  {
   "cell_type": "markdown",
   "id": "0c318ae0",
   "metadata": {},
   "source": [
    "nombre_infected       973\n",
    "nombre_sain          2195\n",
    "nombre_exposed        525\n",
    "nombre_recovered    16307\n",
    "Name: 728, dtype: int64"
   ]
  },
  {
   "cell_type": "markdown",
   "id": "47cc5395",
   "metadata": {},
   "source": [
    "nombre_infected       970\n",
    "nombre_sain          2193\n",
    "nombre_exposed        536\n",
    "nombre_recovered    16301\n",
    "Name: 729, dtype: int64"
   ]
  },
  {
   "cell_type": "markdown",
   "id": "06df3172",
   "metadata": {},
   "source": [
    "nombre_infected       986\n",
    "nombre_sain          2179\n",
    "nombre_exposed        525\n",
    "nombre_recovered    16310\n",
    "Name: 730, dtype: int64"
   ]
  }
 ],
 "metadata": {},
 "nbformat": 4,
 "nbformat_minor": 5
}
