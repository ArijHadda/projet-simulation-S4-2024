{
 "cells": [
  {
   "cell_type": "markdown",
   "id": "ca6e94a7",
   "metadata": {},
   "source": [
    "nombre_infected        20\n",
    "nombre_sain         19980\n",
    "nombre_exposed          0\n",
    "nombre_recovered        0\n",
    "Name: 0, dtype: int64"
   ]
  },
  {
   "cell_type": "markdown",
   "id": "51bdc6b7",
   "metadata": {},
   "source": [
    "nombre_infected        20\n",
    "nombre_sain         19967\n",
    "nombre_exposed         13\n",
    "nombre_recovered        0\n",
    "Name: 1, dtype: int64"
   ]
  },
  {
   "cell_type": "markdown",
   "id": "cb73cabd",
   "metadata": {},
   "source": [
    "nombre_infected        20\n",
    "nombre_sain         19946\n",
    "nombre_exposed         34\n",
    "nombre_recovered        0\n",
    "Name: 2, dtype: int64"
   ]
  },
  {
   "cell_type": "markdown",
   "id": "dc89cba3",
   "metadata": {},
   "source": [
    "nombre_infected        25\n",
    "nombre_sain         19914\n",
    "nombre_exposed         61\n",
    "nombre_recovered        0\n",
    "Name: 3, dtype: int64"
   ]
  },
  {
   "cell_type": "markdown",
   "id": "2539f8bb",
   "metadata": {},
   "source": [
    "nombre_infected        14\n",
    "nombre_sain         19897\n",
    "nombre_exposed         69\n",
    "nombre_recovered       20\n",
    "Name: 4, dtype: int64"
   ]
  },
  {
   "cell_type": "markdown",
   "id": "bbd5f6c1",
   "metadata": {},
   "source": [
    "nombre_infected        29\n",
    "nombre_sain         19868\n",
    "nombre_exposed         82\n",
    "nombre_recovered       21\n",
    "Name: 5, dtype: int64"
   ]
  },
  {
   "cell_type": "markdown",
   "id": "aa877786",
   "metadata": {},
   "source": [
    "nombre_infected        36\n",
    "nombre_sain         19834\n",
    "nombre_exposed        107\n",
    "nombre_recovered       23\n",
    "Name: 6, dtype: int64"
   ]
  },
  {
   "cell_type": "markdown",
   "id": "2a3b0f09",
   "metadata": {},
   "source": [
    "nombre_infected        55\n",
    "nombre_sain         19783\n",
    "nombre_exposed        137\n",
    "nombre_recovered       25\n",
    "Name: 7, dtype: int64"
   ]
  },
  {
   "cell_type": "markdown",
   "id": "339dd530",
   "metadata": {},
   "source": [
    "nombre_infected        80\n",
    "nombre_sain         19687\n",
    "nombre_exposed        205\n",
    "nombre_recovered       28\n",
    "Name: 8, dtype: int64"
   ]
  },
  {
   "cell_type": "markdown",
   "id": "99b011a5",
   "metadata": {},
   "source": [
    "nombre_infected       103\n",
    "nombre_sain         19588\n",
    "nombre_exposed        275\n",
    "nombre_recovered       34\n",
    "Name: 9, dtype: int64"
   ]
  },
  {
   "cell_type": "markdown",
   "id": "c622a34a",
   "metadata": {},
   "source": [
    "nombre_infected       145\n",
    "nombre_sain         19436\n",
    "nombre_exposed        374\n",
    "nombre_recovered       45\n",
    "Name: 10, dtype: int64"
   ]
  },
  {
   "cell_type": "markdown",
   "id": "0f15c157",
   "metadata": {},
   "source": [
    "nombre_infected       201\n",
    "nombre_sain         19224\n",
    "nombre_exposed        516\n",
    "nombre_recovered       59\n",
    "Name: 11, dtype: int64"
   ]
  },
  {
   "cell_type": "markdown",
   "id": "1aea0cf6",
   "metadata": {},
   "source": [
    "nombre_infected       256\n",
    "nombre_sain         18933\n",
    "nombre_exposed        730\n",
    "nombre_recovered       81\n",
    "Name: 12, dtype: int64"
   ]
  },
  {
   "cell_type": "markdown",
   "id": "aa47e520",
   "metadata": {},
   "source": [
    "nombre_infected       358\n",
    "nombre_sain         18557\n",
    "nombre_exposed        978\n",
    "nombre_recovered      107\n",
    "Name: 13, dtype: int64"
   ]
  },
  {
   "cell_type": "markdown",
   "id": "e2a0bfef",
   "metadata": {},
   "source": [
    "nombre_infected       496\n",
    "nombre_sain         18082\n",
    "nombre_exposed       1286\n",
    "nombre_recovered      136\n",
    "Name: 14, dtype: int64"
   ]
  },
  {
   "cell_type": "markdown",
   "id": "61914724",
   "metadata": {},
   "source": [
    "nombre_infected       696\n",
    "nombre_sain         17416\n",
    "nombre_exposed       1695\n",
    "nombre_recovered      193\n",
    "Name: 15, dtype: int64"
   ]
  },
  {
   "cell_type": "markdown",
   "id": "5f75de30",
   "metadata": {},
   "source": [
    "nombre_infected       940\n",
    "nombre_sain         16576\n",
    "nombre_exposed       2233\n",
    "nombre_recovered      251\n",
    "Name: 16, dtype: int64"
   ]
  },
  {
   "cell_type": "markdown",
   "id": "e7510565",
   "metadata": {},
   "source": [
    "nombre_infected      1284\n",
    "nombre_sain         15549\n",
    "nombre_exposed       2827\n",
    "nombre_recovered      340\n",
    "Name: 17, dtype: int64"
   ]
  },
  {
   "cell_type": "markdown",
   "id": "01dd0a93",
   "metadata": {},
   "source": [
    "nombre_infected      1745\n",
    "nombre_sain         14235\n",
    "nombre_exposed       3559\n",
    "nombre_recovered      461\n",
    "Name: 18, dtype: int64"
   ]
  },
  {
   "cell_type": "markdown",
   "id": "4dcdb78f",
   "metadata": {},
   "source": [
    "nombre_infected      2247\n",
    "nombre_sain         12653\n",
    "nombre_exposed       4479\n",
    "nombre_recovered      621\n",
    "Name: 19, dtype: int64"
   ]
  },
  {
   "cell_type": "markdown",
   "id": "10c61b38",
   "metadata": {},
   "source": [
    "nombre_infected      2800\n",
    "nombre_sain         10954\n",
    "nombre_exposed       5382\n",
    "nombre_recovered      864\n",
    "Name: 20, dtype: int64"
   ]
  },
  {
   "cell_type": "markdown",
   "id": "6fce7e78",
   "metadata": {},
   "source": [
    "nombre_infected     3640\n",
    "nombre_sain         9176\n",
    "nombre_exposed      6049\n",
    "nombre_recovered    1135\n",
    "Name: 21, dtype: int64"
   ]
  },
  {
   "cell_type": "markdown",
   "id": "8609aa1d",
   "metadata": {},
   "source": [
    "nombre_infected     4500\n",
    "nombre_sain         7377\n",
    "nombre_exposed      6617\n",
    "nombre_recovered    1506\n",
    "Name: 22, dtype: int64"
   ]
  },
  {
   "cell_type": "markdown",
   "id": "2e103f4b",
   "metadata": {},
   "source": [
    "nombre_infected     5481\n",
    "nombre_sain         5641\n",
    "nombre_exposed      6875\n",
    "nombre_recovered    2003\n",
    "Name: 23, dtype: int64"
   ]
  },
  {
   "cell_type": "markdown",
   "id": "5a093c3c",
   "metadata": {},
   "source": [
    "nombre_infected     6401\n",
    "nombre_sain         4199\n",
    "nombre_exposed      6810\n",
    "nombre_recovered    2590\n",
    "Name: 24, dtype: int64"
   ]
  },
  {
   "cell_type": "markdown",
   "id": "ebf2ca3a",
   "metadata": {},
   "source": [
    "nombre_infected     7332\n",
    "nombre_sain         3076\n",
    "nombre_exposed      6310\n",
    "nombre_recovered    3282\n",
    "Name: 25, dtype: int64"
   ]
  },
  {
   "cell_type": "markdown",
   "id": "3da6ce2c",
   "metadata": {},
   "source": [
    "nombre_infected     8177\n",
    "nombre_sain         2155\n",
    "nombre_exposed      5652\n",
    "nombre_recovered    4016\n",
    "Name: 26, dtype: int64"
   ]
  },
  {
   "cell_type": "markdown",
   "id": "0d12847e",
   "metadata": {},
   "source": [
    "nombre_infected     8702\n",
    "nombre_sain         1471\n",
    "nombre_exposed      4895\n",
    "nombre_recovered    4932\n",
    "Name: 27, dtype: int64"
   ]
  },
  {
   "cell_type": "markdown",
   "id": "179539c1",
   "metadata": {},
   "source": [
    "nombre_infected     9005\n",
    "nombre_sain         1047\n",
    "nombre_exposed      4030\n",
    "nombre_recovered    5918\n",
    "Name: 28, dtype: int64"
   ]
  },
  {
   "cell_type": "markdown",
   "id": "42f8242e",
   "metadata": {},
   "source": [
    "nombre_infected     9060\n",
    "nombre_sain          710\n",
    "nombre_exposed      3247\n",
    "nombre_recovered    6983\n",
    "Name: 29, dtype: int64"
   ]
  },
  {
   "cell_type": "markdown",
   "id": "c37f8b1a",
   "metadata": {},
   "source": [
    "nombre_infected     8965\n",
    "nombre_sain          510\n",
    "nombre_exposed      2531\n",
    "nombre_recovered    7994\n",
    "Name: 30, dtype: int64"
   ]
  },
  {
   "cell_type": "markdown",
   "id": "aa0a8358",
   "metadata": {},
   "source": [
    "nombre_infected     8598\n",
    "nombre_sain          413\n",
    "nombre_exposed      1938\n",
    "nombre_recovered    9051\n",
    "Name: 31, dtype: int64"
   ]
  },
  {
   "cell_type": "markdown",
   "id": "b3b4516e",
   "metadata": {},
   "source": [
    "nombre_infected      8101\n",
    "nombre_sain           335\n",
    "nombre_exposed       1486\n",
    "nombre_recovered    10078\n",
    "Name: 32, dtype: int64"
   ]
  },
  {
   "cell_type": "markdown",
   "id": "21ad42bb",
   "metadata": {},
   "source": [
    "nombre_infected      7473\n",
    "nombre_sain           276\n",
    "nombre_exposed       1172\n",
    "nombre_recovered    11079\n",
    "Name: 33, dtype: int64"
   ]
  },
  {
   "cell_type": "markdown",
   "id": "d19ac394",
   "metadata": {},
   "source": [
    "nombre_infected      6875\n",
    "nombre_sain           258\n",
    "nombre_exposed        908\n",
    "nombre_recovered    11959\n",
    "Name: 34, dtype: int64"
   ]
  },
  {
   "cell_type": "markdown",
   "id": "bd8eee13",
   "metadata": {},
   "source": [
    "nombre_infected      6243\n",
    "nombre_sain           237\n",
    "nombre_exposed        732\n",
    "nombre_recovered    12788\n",
    "Name: 35, dtype: int64"
   ]
  },
  {
   "cell_type": "markdown",
   "id": "5a22cc20",
   "metadata": {},
   "source": [
    "nombre_infected      5669\n",
    "nombre_sain           248\n",
    "nombre_exposed        574\n",
    "nombre_recovered    13509\n",
    "Name: 36, dtype: int64"
   ]
  },
  {
   "cell_type": "markdown",
   "id": "3a7e9946",
   "metadata": {},
   "source": [
    "nombre_infected      5084\n",
    "nombre_sain           248\n",
    "nombre_exposed        473\n",
    "nombre_recovered    14195\n",
    "Name: 37, dtype: int64"
   ]
  },
  {
   "cell_type": "markdown",
   "id": "8e0b7df3",
   "metadata": {},
   "source": [
    "nombre_infected      4503\n",
    "nombre_sain           255\n",
    "nombre_exposed        388\n",
    "nombre_recovered    14854\n",
    "Name: 38, dtype: int64"
   ]
  },
  {
   "cell_type": "markdown",
   "id": "e794ef29",
   "metadata": {},
   "source": [
    "nombre_infected      4016\n",
    "nombre_sain           252\n",
    "nombre_exposed        329\n",
    "nombre_recovered    15403\n",
    "Name: 39, dtype: int64"
   ]
  },
  {
   "cell_type": "markdown",
   "id": "bb02e361",
   "metadata": {},
   "source": [
    "nombre_infected      3521\n",
    "nombre_sain           287\n",
    "nombre_exposed        281\n",
    "nombre_recovered    15911\n",
    "Name: 40, dtype: int64"
   ]
  },
  {
   "cell_type": "markdown",
   "id": "fec9d0e2",
   "metadata": {},
   "source": [
    "nombre_infected      3071\n",
    "nombre_sain           319\n",
    "nombre_exposed        254\n",
    "nombre_recovered    16356\n",
    "Name: 41, dtype: int64"
   ]
  },
  {
   "cell_type": "markdown",
   "id": "0f15fd60",
   "metadata": {},
   "source": [
    "nombre_infected      2669\n",
    "nombre_sain           363\n",
    "nombre_exposed        224\n",
    "nombre_recovered    16744\n",
    "Name: 42, dtype: int64"
   ]
  },
  {
   "cell_type": "markdown",
   "id": "bc732a5c",
   "metadata": {},
   "source": [
    "nombre_infected      2321\n",
    "nombre_sain           403\n",
    "nombre_exposed        197\n",
    "nombre_recovered    17079\n",
    "Name: 43, dtype: int64"
   ]
  },
  {
   "cell_type": "markdown",
   "id": "be3c2a71",
   "metadata": {},
   "source": [
    "nombre_infected      1991\n",
    "nombre_sain           462\n",
    "nombre_exposed        178\n",
    "nombre_recovered    17369\n",
    "Name: 44, dtype: int64"
   ]
  },
  {
   "cell_type": "markdown",
   "id": "e16269b6",
   "metadata": {},
   "source": [
    "nombre_infected      1722\n",
    "nombre_sain           540\n",
    "nombre_exposed        165\n",
    "nombre_recovered    17573\n",
    "Name: 45, dtype: int64"
   ]
  },
  {
   "cell_type": "markdown",
   "id": "37d3161c",
   "metadata": {},
   "source": [
    "nombre_infected      1496\n",
    "nombre_sain           565\n",
    "nombre_exposed        169\n",
    "nombre_recovered    17770\n",
    "Name: 46, dtype: int64"
   ]
  },
  {
   "cell_type": "markdown",
   "id": "0f5adfb1",
   "metadata": {},
   "source": [
    "nombre_infected      1280\n",
    "nombre_sain           623\n",
    "nombre_exposed        168\n",
    "nombre_recovered    17929\n",
    "Name: 47, dtype: int64"
   ]
  },
  {
   "cell_type": "markdown",
   "id": "7dde5ee6",
   "metadata": {},
   "source": [
    "nombre_infected      1123\n",
    "nombre_sain           705\n",
    "nombre_exposed        154\n",
    "nombre_recovered    18018\n",
    "Name: 48, dtype: int64"
   ]
  },
  {
   "cell_type": "markdown",
   "id": "fd710b41",
   "metadata": {},
   "source": [
    "nombre_infected       977\n",
    "nombre_sain           764\n",
    "nombre_exposed        160\n",
    "nombre_recovered    18099\n",
    "Name: 49, dtype: int64"
   ]
  },
  {
   "cell_type": "markdown",
   "id": "1bec567b",
   "metadata": {},
   "source": [
    "nombre_infected       862\n",
    "nombre_sain           813\n",
    "nombre_exposed        158\n",
    "nombre_recovered    18167\n",
    "Name: 50, dtype: int64"
   ]
  },
  {
   "cell_type": "markdown",
   "id": "4b216ea2",
   "metadata": {},
   "source": [
    "nombre_infected       753\n",
    "nombre_sain           881\n",
    "nombre_exposed        156\n",
    "nombre_recovered    18210\n",
    "Name: 51, dtype: int64"
   ]
  },
  {
   "cell_type": "markdown",
   "id": "fcd10460",
   "metadata": {},
   "source": [
    "nombre_infected       669\n",
    "nombre_sain           928\n",
    "nombre_exposed        147\n",
    "nombre_recovered    18256\n",
    "Name: 52, dtype: int64"
   ]
  },
  {
   "cell_type": "markdown",
   "id": "8ce69cd9",
   "metadata": {},
   "source": [
    "nombre_infected       587\n",
    "nombre_sain          1004\n",
    "nombre_exposed        145\n",
    "nombre_recovered    18264\n",
    "Name: 53, dtype: int64"
   ]
  },
  {
   "cell_type": "markdown",
   "id": "12329401",
   "metadata": {},
   "source": [
    "nombre_infected       522\n",
    "nombre_sain          1071\n",
    "nombre_exposed        130\n",
    "nombre_recovered    18277\n",
    "Name: 54, dtype: int64"
   ]
  },
  {
   "cell_type": "markdown",
   "id": "57f67f7b",
   "metadata": {},
   "source": [
    "nombre_infected       482\n",
    "nombre_sain          1142\n",
    "nombre_exposed        129\n",
    "nombre_recovered    18247\n",
    "Name: 55, dtype: int64"
   ]
  },
  {
   "cell_type": "markdown",
   "id": "020fef0f",
   "metadata": {},
   "source": [
    "nombre_infected       462\n",
    "nombre_sain          1205\n",
    "nombre_exposed        131\n",
    "nombre_recovered    18202\n",
    "Name: 56, dtype: int64"
   ]
  },
  {
   "cell_type": "markdown",
   "id": "4612c8ca",
   "metadata": {},
   "source": [
    "nombre_infected       422\n",
    "nombre_sain          1257\n",
    "nombre_exposed        126\n",
    "nombre_recovered    18195\n",
    "Name: 57, dtype: int64"
   ]
  },
  {
   "cell_type": "markdown",
   "id": "d3d6ea75",
   "metadata": {},
   "source": [
    "nombre_infected       396\n",
    "nombre_sain          1302\n",
    "nombre_exposed        124\n",
    "nombre_recovered    18178\n",
    "Name: 58, dtype: int64"
   ]
  },
  {
   "cell_type": "markdown",
   "id": "0ee6bf98",
   "metadata": {},
   "source": [
    "nombre_infected       375\n",
    "nombre_sain          1348\n",
    "nombre_exposed        126\n",
    "nombre_recovered    18151\n",
    "Name: 59, dtype: int64"
   ]
  },
  {
   "cell_type": "markdown",
   "id": "c668705f",
   "metadata": {},
   "source": [
    "nombre_infected       353\n",
    "nombre_sain          1390\n",
    "nombre_exposed        124\n",
    "nombre_recovered    18133\n",
    "Name: 60, dtype: int64"
   ]
  },
  {
   "cell_type": "markdown",
   "id": "9c4de44f",
   "metadata": {},
   "source": [
    "nombre_infected       329\n",
    "nombre_sain          1448\n",
    "nombre_exposed        112\n",
    "nombre_recovered    18111\n",
    "Name: 61, dtype: int64"
   ]
  },
  {
   "cell_type": "markdown",
   "id": "d4522f86",
   "metadata": {},
   "source": [
    "nombre_infected       305\n",
    "nombre_sain          1506\n",
    "nombre_exposed        102\n",
    "nombre_recovered    18087\n",
    "Name: 62, dtype: int64"
   ]
  },
  {
   "cell_type": "markdown",
   "id": "feaf9d00",
   "metadata": {},
   "source": [
    "nombre_infected       286\n",
    "nombre_sain          1545\n",
    "nombre_exposed         95\n",
    "nombre_recovered    18074\n",
    "Name: 63, dtype: int64"
   ]
  },
  {
   "cell_type": "markdown",
   "id": "5e4273e0",
   "metadata": {},
   "source": [
    "nombre_infected       283\n",
    "nombre_sain          1590\n",
    "nombre_exposed         84\n",
    "nombre_recovered    18043\n",
    "Name: 64, dtype: int64"
   ]
  },
  {
   "cell_type": "markdown",
   "id": "517b8801",
   "metadata": {},
   "source": [
    "nombre_infected       283\n",
    "nombre_sain          1637\n",
    "nombre_exposed         89\n",
    "nombre_recovered    17991\n",
    "Name: 65, dtype: int64"
   ]
  },
  {
   "cell_type": "markdown",
   "id": "62edfd80",
   "metadata": {},
   "source": [
    "nombre_infected       268\n",
    "nombre_sain          1682\n",
    "nombre_exposed         90\n",
    "nombre_recovered    17960\n",
    "Name: 66, dtype: int64"
   ]
  },
  {
   "cell_type": "markdown",
   "id": "ac3f5006",
   "metadata": {},
   "source": [
    "nombre_infected       249\n",
    "nombre_sain          1702\n",
    "nombre_exposed         98\n",
    "nombre_recovered    17951\n",
    "Name: 67, dtype: int64"
   ]
  },
  {
   "cell_type": "markdown",
   "id": "35f1ccad",
   "metadata": {},
   "source": [
    "nombre_infected       237\n",
    "nombre_sain          1738\n",
    "nombre_exposed        104\n",
    "nombre_recovered    17921\n",
    "Name: 68, dtype: int64"
   ]
  },
  {
   "cell_type": "markdown",
   "id": "f85dda88",
   "metadata": {},
   "source": [
    "nombre_infected       239\n",
    "nombre_sain          1782\n",
    "nombre_exposed         89\n",
    "nombre_recovered    17890\n",
    "Name: 69, dtype: int64"
   ]
  },
  {
   "cell_type": "markdown",
   "id": "f6ebc7c1",
   "metadata": {},
   "source": [
    "nombre_infected       240\n",
    "nombre_sain          1815\n",
    "nombre_exposed         88\n",
    "nombre_recovered    17857\n",
    "Name: 70, dtype: int64"
   ]
  },
  {
   "cell_type": "markdown",
   "id": "5d8d5446",
   "metadata": {},
   "source": [
    "nombre_infected       238\n",
    "nombre_sain          1852\n",
    "nombre_exposed         93\n",
    "nombre_recovered    17817\n",
    "Name: 71, dtype: int64"
   ]
  },
  {
   "cell_type": "markdown",
   "id": "2cd3381c",
   "metadata": {},
   "source": [
    "nombre_infected       224\n",
    "nombre_sain          1866\n",
    "nombre_exposed        110\n",
    "nombre_recovered    17800\n",
    "Name: 72, dtype: int64"
   ]
  },
  {
   "cell_type": "markdown",
   "id": "a8bf08f9",
   "metadata": {},
   "source": [
    "nombre_infected       207\n",
    "nombre_sain          1886\n",
    "nombre_exposed        121\n",
    "nombre_recovered    17786\n",
    "Name: 73, dtype: int64"
   ]
  },
  {
   "cell_type": "markdown",
   "id": "24ffab0c",
   "metadata": {},
   "source": [
    "nombre_infected       210\n",
    "nombre_sain          1912\n",
    "nombre_exposed        117\n",
    "nombre_recovered    17761\n",
    "Name: 74, dtype: int64"
   ]
  },
  {
   "cell_type": "markdown",
   "id": "526bbba2",
   "metadata": {},
   "source": [
    "nombre_infected       219\n",
    "nombre_sain          1950\n",
    "nombre_exposed        115\n",
    "nombre_recovered    17716\n",
    "Name: 75, dtype: int64"
   ]
  },
  {
   "cell_type": "markdown",
   "id": "a0e8e399",
   "metadata": {},
   "source": [
    "nombre_infected       233\n",
    "nombre_sain          1984\n",
    "nombre_exposed        107\n",
    "nombre_recovered    17676\n",
    "Name: 76, dtype: int64"
   ]
  },
  {
   "cell_type": "markdown",
   "id": "43b23980",
   "metadata": {},
   "source": [
    "nombre_infected       232\n",
    "nombre_sain          2011\n",
    "nombre_exposed        106\n",
    "nombre_recovered    17651\n",
    "Name: 77, dtype: int64"
   ]
  },
  {
   "cell_type": "markdown",
   "id": "fb0cd235",
   "metadata": {},
   "source": [
    "nombre_infected       237\n",
    "nombre_sain          2060\n",
    "nombre_exposed        105\n",
    "nombre_recovered    17598\n",
    "Name: 78, dtype: int64"
   ]
  },
  {
   "cell_type": "markdown",
   "id": "f4a76bdd",
   "metadata": {},
   "source": [
    "nombre_infected       242\n",
    "nombre_sain          2098\n",
    "nombre_exposed         99\n",
    "nombre_recovered    17561\n",
    "Name: 79, dtype: int64"
   ]
  },
  {
   "cell_type": "markdown",
   "id": "6261e5e8",
   "metadata": {},
   "source": [
    "nombre_infected       240\n",
    "nombre_sain          2127\n",
    "nombre_exposed         93\n",
    "nombre_recovered    17540\n",
    "Name: 80, dtype: int64"
   ]
  },
  {
   "cell_type": "markdown",
   "id": "f91b6f7d",
   "metadata": {},
   "source": [
    "nombre_infected       233\n",
    "nombre_sain          2141\n",
    "nombre_exposed         97\n",
    "nombre_recovered    17529\n",
    "Name: 81, dtype: int64"
   ]
  },
  {
   "cell_type": "markdown",
   "id": "910fbaf8",
   "metadata": {},
   "source": [
    "nombre_infected       218\n",
    "nombre_sain          2151\n",
    "nombre_exposed        108\n",
    "nombre_recovered    17523\n",
    "Name: 82, dtype: int64"
   ]
  },
  {
   "cell_type": "markdown",
   "id": "046b71ca",
   "metadata": {},
   "source": [
    "nombre_infected       216\n",
    "nombre_sain          2177\n",
    "nombre_exposed         97\n",
    "nombre_recovered    17510\n",
    "Name: 83, dtype: int64"
   ]
  },
  {
   "cell_type": "markdown",
   "id": "468ab435",
   "metadata": {},
   "source": [
    "nombre_infected       208\n",
    "nombre_sain          2203\n",
    "nombre_exposed        103\n",
    "nombre_recovered    17486\n",
    "Name: 84, dtype: int64"
   ]
  },
  {
   "cell_type": "markdown",
   "id": "24e28cb3",
   "metadata": {},
   "source": [
    "nombre_infected       215\n",
    "nombre_sain          2227\n",
    "nombre_exposed         99\n",
    "nombre_recovered    17459\n",
    "Name: 85, dtype: int64"
   ]
  },
  {
   "cell_type": "markdown",
   "id": "32d23c6e",
   "metadata": {},
   "source": [
    "nombre_infected       213\n",
    "nombre_sain          2247\n",
    "nombre_exposed        101\n",
    "nombre_recovered    17439\n",
    "Name: 86, dtype: int64"
   ]
  },
  {
   "cell_type": "markdown",
   "id": "3801b3cc",
   "metadata": {},
   "source": [
    "nombre_infected       207\n",
    "nombre_sain          2274\n",
    "nombre_exposed        104\n",
    "nombre_recovered    17415\n",
    "Name: 87, dtype: int64"
   ]
  },
  {
   "cell_type": "markdown",
   "id": "56a127ba",
   "metadata": {},
   "source": [
    "nombre_infected       207\n",
    "nombre_sain          2297\n",
    "nombre_exposed        108\n",
    "nombre_recovered    17388\n",
    "Name: 88, dtype: int64"
   ]
  },
  {
   "cell_type": "markdown",
   "id": "5bd10623",
   "metadata": {},
   "source": [
    "nombre_infected       185\n",
    "nombre_sain          2336\n",
    "nombre_exposed        116\n",
    "nombre_recovered    17363\n",
    "Name: 89, dtype: int64"
   ]
  },
  {
   "cell_type": "markdown",
   "id": "430873bf",
   "metadata": {},
   "source": [
    "nombre_infected       186\n",
    "nombre_sain          2383\n",
    "nombre_exposed        111\n",
    "nombre_recovered    17320\n",
    "Name: 90, dtype: int64"
   ]
  },
  {
   "cell_type": "markdown",
   "id": "ebd7f92b",
   "metadata": {},
   "source": [
    "nombre_infected       179\n",
    "nombre_sain          2403\n",
    "nombre_exposed        114\n",
    "nombre_recovered    17304\n",
    "Name: 91, dtype: int64"
   ]
  },
  {
   "cell_type": "markdown",
   "id": "cea09065",
   "metadata": {},
   "source": [
    "nombre_infected       182\n",
    "nombre_sain          2420\n",
    "nombre_exposed        122\n",
    "nombre_recovered    17276\n",
    "Name: 92, dtype: int64"
   ]
  },
  {
   "cell_type": "markdown",
   "id": "0169a2f5",
   "metadata": {},
   "source": [
    "nombre_infected       180\n",
    "nombre_sain          2478\n",
    "nombre_exposed        117\n",
    "nombre_recovered    17225\n",
    "Name: 93, dtype: int64"
   ]
  },
  {
   "cell_type": "markdown",
   "id": "f84833eb",
   "metadata": {},
   "source": [
    "nombre_infected       176\n",
    "nombre_sain          2522\n",
    "nombre_exposed        113\n",
    "nombre_recovered    17189\n",
    "Name: 94, dtype: int64"
   ]
  },
  {
   "cell_type": "markdown",
   "id": "5e3c566c",
   "metadata": {},
   "source": [
    "nombre_infected       184\n",
    "nombre_sain          2563\n",
    "nombre_exposed         99\n",
    "nombre_recovered    17154\n",
    "Name: 95, dtype: int64"
   ]
  },
  {
   "cell_type": "markdown",
   "id": "71013095",
   "metadata": {},
   "source": [
    "nombre_infected       187\n",
    "nombre_sain          2593\n",
    "nombre_exposed        102\n",
    "nombre_recovered    17118\n",
    "Name: 96, dtype: int64"
   ]
  },
  {
   "cell_type": "markdown",
   "id": "354ba3d3",
   "metadata": {},
   "source": [
    "nombre_infected       189\n",
    "nombre_sain          2612\n",
    "nombre_exposed        101\n",
    "nombre_recovered    17098\n",
    "Name: 97, dtype: int64"
   ]
  },
  {
   "cell_type": "markdown",
   "id": "6ceaa72f",
   "metadata": {},
   "source": [
    "nombre_infected       181\n",
    "nombre_sain          2643\n",
    "nombre_exposed        102\n",
    "nombre_recovered    17074\n",
    "Name: 98, dtype: int64"
   ]
  },
  {
   "cell_type": "markdown",
   "id": "d1146f40",
   "metadata": {},
   "source": [
    "nombre_infected       175\n",
    "nombre_sain          2670\n",
    "nombre_exposed        107\n",
    "nombre_recovered    17048\n",
    "Name: 99, dtype: int64"
   ]
  },
  {
   "cell_type": "markdown",
   "id": "0bcadd3e",
   "metadata": {},
   "source": [
    "nombre_infected       168\n",
    "nombre_sain          2702\n",
    "nombre_exposed        113\n",
    "nombre_recovered    17017\n",
    "Name: 100, dtype: int64"
   ]
  },
  {
   "cell_type": "markdown",
   "id": "98ae3896",
   "metadata": {},
   "source": [
    "nombre_infected       171\n",
    "nombre_sain          2752\n",
    "nombre_exposed        109\n",
    "nombre_recovered    16968\n",
    "Name: 101, dtype: int64"
   ]
  },
  {
   "cell_type": "markdown",
   "id": "89908667",
   "metadata": {},
   "source": [
    "nombre_infected       184\n",
    "nombre_sain          2779\n",
    "nombre_exposed        110\n",
    "nombre_recovered    16927\n",
    "Name: 102, dtype: int64"
   ]
  },
  {
   "cell_type": "markdown",
   "id": "9cd50d0e",
   "metadata": {},
   "source": [
    "nombre_infected       175\n",
    "nombre_sain          2794\n",
    "nombre_exposed        124\n",
    "nombre_recovered    16907\n",
    "Name: 103, dtype: int64"
   ]
  },
  {
   "cell_type": "markdown",
   "id": "f51b3ae4",
   "metadata": {},
   "source": [
    "nombre_infected       167\n",
    "nombre_sain          2814\n",
    "nombre_exposed        137\n",
    "nombre_recovered    16882\n",
    "Name: 104, dtype: int64"
   ]
  },
  {
   "cell_type": "markdown",
   "id": "d2b6a62b",
   "metadata": {},
   "source": [
    "nombre_infected       172\n",
    "nombre_sain          2841\n",
    "nombre_exposed        130\n",
    "nombre_recovered    16857\n",
    "Name: 105, dtype: int64"
   ]
  },
  {
   "cell_type": "markdown",
   "id": "87bb6a06",
   "metadata": {},
   "source": [
    "nombre_infected       185\n",
    "nombre_sain          2865\n",
    "nombre_exposed        127\n",
    "nombre_recovered    16823\n",
    "Name: 106, dtype: int64"
   ]
  },
  {
   "cell_type": "markdown",
   "id": "5f3cb5ea",
   "metadata": {},
   "source": [
    "nombre_infected       182\n",
    "nombre_sain          2886\n",
    "nombre_exposed        141\n",
    "nombre_recovered    16791\n",
    "Name: 107, dtype: int64"
   ]
  },
  {
   "cell_type": "markdown",
   "id": "426ad632",
   "metadata": {},
   "source": [
    "nombre_infected       186\n",
    "nombre_sain          2913\n",
    "nombre_exposed        136\n",
    "nombre_recovered    16765\n",
    "Name: 108, dtype: int64"
   ]
  },
  {
   "cell_type": "markdown",
   "id": "a1252a3e",
   "metadata": {},
   "source": [
    "nombre_infected       196\n",
    "nombre_sain          2928\n",
    "nombre_exposed        133\n",
    "nombre_recovered    16743\n",
    "Name: 109, dtype: int64"
   ]
  },
  {
   "cell_type": "markdown",
   "id": "452941da",
   "metadata": {},
   "source": [
    "nombre_infected       198\n",
    "nombre_sain          2964\n",
    "nombre_exposed        142\n",
    "nombre_recovered    16696\n",
    "Name: 110, dtype: int64"
   ]
  },
  {
   "cell_type": "markdown",
   "id": "4050fcd7",
   "metadata": {},
   "source": [
    "nombre_infected       210\n",
    "nombre_sain          2992\n",
    "nombre_exposed        134\n",
    "nombre_recovered    16664\n",
    "Name: 111, dtype: int64"
   ]
  },
  {
   "cell_type": "markdown",
   "id": "fc945e1c",
   "metadata": {},
   "source": [
    "nombre_infected       223\n",
    "nombre_sain          3009\n",
    "nombre_exposed        140\n",
    "nombre_recovered    16628\n",
    "Name: 112, dtype: int64"
   ]
  },
  {
   "cell_type": "markdown",
   "id": "6bd69ac0",
   "metadata": {},
   "source": [
    "nombre_infected       231\n",
    "nombre_sain          3025\n",
    "nombre_exposed        141\n",
    "nombre_recovered    16603\n",
    "Name: 113, dtype: int64"
   ]
  },
  {
   "cell_type": "markdown",
   "id": "415801d7",
   "metadata": {},
   "source": [
    "nombre_infected       223\n",
    "nombre_sain          3037\n",
    "nombre_exposed        158\n",
    "nombre_recovered    16582\n",
    "Name: 114, dtype: int64"
   ]
  },
  {
   "cell_type": "markdown",
   "id": "388c7800",
   "metadata": {},
   "source": [
    "nombre_infected       219\n",
    "nombre_sain          3063\n",
    "nombre_exposed        169\n",
    "nombre_recovered    16549\n",
    "Name: 115, dtype: int64"
   ]
  },
  {
   "cell_type": "markdown",
   "id": "cf7eb35b",
   "metadata": {},
   "source": [
    "nombre_infected       208\n",
    "nombre_sain          3072\n",
    "nombre_exposed        184\n",
    "nombre_recovered    16536\n",
    "Name: 116, dtype: int64"
   ]
  },
  {
   "cell_type": "markdown",
   "id": "cf2c28e3",
   "metadata": {},
   "source": [
    "nombre_infected       221\n",
    "nombre_sain          3094\n",
    "nombre_exposed        180\n",
    "nombre_recovered    16505\n",
    "Name: 117, dtype: int64"
   ]
  },
  {
   "cell_type": "markdown",
   "id": "4f190417",
   "metadata": {},
   "source": [
    "nombre_infected       238\n",
    "nombre_sain          3104\n",
    "nombre_exposed        183\n",
    "nombre_recovered    16475\n",
    "Name: 118, dtype: int64"
   ]
  },
  {
   "cell_type": "markdown",
   "id": "0e86b331",
   "metadata": {},
   "source": [
    "nombre_infected       250\n",
    "nombre_sain          3113\n",
    "nombre_exposed        192\n",
    "nombre_recovered    16445\n",
    "Name: 119, dtype: int64"
   ]
  },
  {
   "cell_type": "markdown",
   "id": "97dd4579",
   "metadata": {},
   "source": [
    "nombre_infected       268\n",
    "nombre_sain          3128\n",
    "nombre_exposed        185\n",
    "nombre_recovered    16419\n",
    "Name: 120, dtype: int64"
   ]
  },
  {
   "cell_type": "markdown",
   "id": "bf6ccee0",
   "metadata": {},
   "source": [
    "nombre_infected       291\n",
    "nombre_sain          3131\n",
    "nombre_exposed        198\n",
    "nombre_recovered    16380\n",
    "Name: 121, dtype: int64"
   ]
  },
  {
   "cell_type": "markdown",
   "id": "9d7067bf",
   "metadata": {},
   "source": [
    "nombre_infected       310\n",
    "nombre_sain          3134\n",
    "nombre_exposed        215\n",
    "nombre_recovered    16341\n",
    "Name: 122, dtype: int64"
   ]
  },
  {
   "cell_type": "markdown",
   "id": "7d736a5f",
   "metadata": {},
   "source": [
    "nombre_infected       304\n",
    "nombre_sain          3117\n",
    "nombre_exposed        233\n",
    "nombre_recovered    16346\n",
    "Name: 123, dtype: int64"
   ]
  },
  {
   "cell_type": "markdown",
   "id": "b12ed43f",
   "metadata": {},
   "source": [
    "nombre_infected       308\n",
    "nombre_sain          3129\n",
    "nombre_exposed        242\n",
    "nombre_recovered    16321\n",
    "Name: 124, dtype: int64"
   ]
  },
  {
   "cell_type": "markdown",
   "id": "fa84bfe6",
   "metadata": {},
   "source": [
    "nombre_infected       325\n",
    "nombre_sain          3128\n",
    "nombre_exposed        248\n",
    "nombre_recovered    16299\n",
    "Name: 125, dtype: int64"
   ]
  },
  {
   "cell_type": "markdown",
   "id": "1d0faadc",
   "metadata": {},
   "source": [
    "nombre_infected       345\n",
    "nombre_sain          3105\n",
    "nombre_exposed        255\n",
    "nombre_recovered    16295\n",
    "Name: 126, dtype: int64"
   ]
  },
  {
   "cell_type": "markdown",
   "id": "f24e0fe9",
   "metadata": {},
   "source": [
    "nombre_infected       357\n",
    "nombre_sain          3085\n",
    "nombre_exposed        268\n",
    "nombre_recovered    16290\n",
    "Name: 127, dtype: int64"
   ]
  },
  {
   "cell_type": "markdown",
   "id": "212936f8",
   "metadata": {},
   "source": [
    "nombre_infected       377\n",
    "nombre_sain          3091\n",
    "nombre_exposed        265\n",
    "nombre_recovered    16267\n",
    "Name: 128, dtype: int64"
   ]
  },
  {
   "cell_type": "markdown",
   "id": "7b206cd8",
   "metadata": {},
   "source": [
    "nombre_infected       401\n",
    "nombre_sain          3103\n",
    "nombre_exposed        269\n",
    "nombre_recovered    16227\n",
    "Name: 129, dtype: int64"
   ]
  },
  {
   "cell_type": "markdown",
   "id": "fbdb8777",
   "metadata": {},
   "source": [
    "nombre_infected       415\n",
    "nombre_sain          3098\n",
    "nombre_exposed        279\n",
    "nombre_recovered    16208\n",
    "Name: 130, dtype: int64"
   ]
  },
  {
   "cell_type": "markdown",
   "id": "78f2e260",
   "metadata": {},
   "source": [
    "nombre_infected       420\n",
    "nombre_sain          3079\n",
    "nombre_exposed        305\n",
    "nombre_recovered    16196\n",
    "Name: 131, dtype: int64"
   ]
  },
  {
   "cell_type": "markdown",
   "id": "72da4525",
   "metadata": {},
   "source": [
    "nombre_infected       416\n",
    "nombre_sain          3062\n",
    "nombre_exposed        335\n",
    "nombre_recovered    16187\n",
    "Name: 132, dtype: int64"
   ]
  },
  {
   "cell_type": "markdown",
   "id": "535be4e7",
   "metadata": {},
   "source": [
    "nombre_infected       423\n",
    "nombre_sain          3063\n",
    "nombre_exposed        345\n",
    "nombre_recovered    16169\n",
    "Name: 133, dtype: int64"
   ]
  },
  {
   "cell_type": "markdown",
   "id": "93e41496",
   "metadata": {},
   "source": [
    "nombre_infected       442\n",
    "nombre_sain          3063\n",
    "nombre_exposed        348\n",
    "nombre_recovered    16147\n",
    "Name: 134, dtype: int64"
   ]
  },
  {
   "cell_type": "markdown",
   "id": "a756b026",
   "metadata": {},
   "source": [
    "nombre_infected       465\n",
    "nombre_sain          3072\n",
    "nombre_exposed        341\n",
    "nombre_recovered    16122\n",
    "Name: 135, dtype: int64"
   ]
  },
  {
   "cell_type": "markdown",
   "id": "ad6aa296",
   "metadata": {},
   "source": [
    "nombre_infected       487\n",
    "nombre_sain          3038\n",
    "nombre_exposed        353\n",
    "nombre_recovered    16122\n",
    "Name: 136, dtype: int64"
   ]
  },
  {
   "cell_type": "markdown",
   "id": "c0636f23",
   "metadata": {},
   "source": [
    "nombre_infected       493\n",
    "nombre_sain          3027\n",
    "nombre_exposed        371\n",
    "nombre_recovered    16109\n",
    "Name: 137, dtype: int64"
   ]
  },
  {
   "cell_type": "markdown",
   "id": "c5a1ee96",
   "metadata": {},
   "source": [
    "nombre_infected       494\n",
    "nombre_sain          3021\n",
    "nombre_exposed        371\n",
    "nombre_recovered    16114\n",
    "Name: 138, dtype: int64"
   ]
  },
  {
   "cell_type": "markdown",
   "id": "2daa5eae",
   "metadata": {},
   "source": [
    "nombre_infected       515\n",
    "nombre_sain          3023\n",
    "nombre_exposed        338\n",
    "nombre_recovered    16124\n",
    "Name: 139, dtype: int64"
   ]
  },
  {
   "cell_type": "markdown",
   "id": "9ed966ff",
   "metadata": {},
   "source": [
    "nombre_infected       527\n",
    "nombre_sain          2998\n",
    "nombre_exposed        359\n",
    "nombre_recovered    16116\n",
    "Name: 140, dtype: int64"
   ]
  },
  {
   "cell_type": "markdown",
   "id": "832017e5",
   "metadata": {},
   "source": [
    "nombre_infected       536\n",
    "nombre_sain          2968\n",
    "nombre_exposed        368\n",
    "nombre_recovered    16128\n",
    "Name: 141, dtype: int64"
   ]
  },
  {
   "cell_type": "markdown",
   "id": "cc153613",
   "metadata": {},
   "source": [
    "nombre_infected       563\n",
    "nombre_sain          2956\n",
    "nombre_exposed        367\n",
    "nombre_recovered    16114\n",
    "Name: 142, dtype: int64"
   ]
  },
  {
   "cell_type": "markdown",
   "id": "8f42084f",
   "metadata": {},
   "source": [
    "nombre_infected       567\n",
    "nombre_sain          2921\n",
    "nombre_exposed        367\n",
    "nombre_recovered    16145\n",
    "Name: 143, dtype: int64"
   ]
  },
  {
   "cell_type": "markdown",
   "id": "f233eadc",
   "metadata": {},
   "source": [
    "nombre_infected       562\n",
    "nombre_sain          2870\n",
    "nombre_exposed        403\n",
    "nombre_recovered    16165\n",
    "Name: 144, dtype: int64"
   ]
  },
  {
   "cell_type": "markdown",
   "id": "4b2432c0",
   "metadata": {},
   "source": [
    "nombre_infected       554\n",
    "nombre_sain          2833\n",
    "nombre_exposed        418\n",
    "nombre_recovered    16195\n",
    "Name: 145, dtype: int64"
   ]
  },
  {
   "cell_type": "markdown",
   "id": "cb3a1151",
   "metadata": {},
   "source": [
    "nombre_infected       557\n",
    "nombre_sain          2792\n",
    "nombre_exposed        438\n",
    "nombre_recovered    16213\n",
    "Name: 146, dtype: int64"
   ]
  },
  {
   "cell_type": "markdown",
   "id": "8082557d",
   "metadata": {},
   "source": [
    "nombre_infected       560\n",
    "nombre_sain          2762\n",
    "nombre_exposed        436\n",
    "nombre_recovered    16242\n",
    "Name: 147, dtype: int64"
   ]
  },
  {
   "cell_type": "markdown",
   "id": "e716fab6",
   "metadata": {},
   "source": [
    "nombre_infected       599\n",
    "nombre_sain          2737\n",
    "nombre_exposed        402\n",
    "nombre_recovered    16262\n",
    "Name: 148, dtype: int64"
   ]
  },
  {
   "cell_type": "markdown",
   "id": "ca6d2f66",
   "metadata": {},
   "source": [
    "nombre_infected       612\n",
    "nombre_sain          2710\n",
    "nombre_exposed        401\n",
    "nombre_recovered    16277\n",
    "Name: 149, dtype: int64"
   ]
  },
  {
   "cell_type": "markdown",
   "id": "5d3f6867",
   "metadata": {},
   "source": [
    "nombre_infected       615\n",
    "nombre_sain          2673\n",
    "nombre_exposed        409\n",
    "nombre_recovered    16303\n",
    "Name: 150, dtype: int64"
   ]
  },
  {
   "cell_type": "markdown",
   "id": "ee136183",
   "metadata": {},
   "source": [
    "nombre_infected       604\n",
    "nombre_sain          2652\n",
    "nombre_exposed        409\n",
    "nombre_recovered    16335\n",
    "Name: 151, dtype: int64"
   ]
  },
  {
   "cell_type": "markdown",
   "id": "fcf00737",
   "metadata": {},
   "source": [
    "nombre_infected       646\n",
    "nombre_sain          2605\n",
    "nombre_exposed        405\n",
    "nombre_recovered    16344\n",
    "Name: 152, dtype: int64"
   ]
  },
  {
   "cell_type": "markdown",
   "id": "8110b147",
   "metadata": {},
   "source": [
    "nombre_infected       643\n",
    "nombre_sain          2588\n",
    "nombre_exposed        406\n",
    "nombre_recovered    16363\n",
    "Name: 153, dtype: int64"
   ]
  },
  {
   "cell_type": "markdown",
   "id": "73f8294c",
   "metadata": {},
   "source": [
    "nombre_infected       652\n",
    "nombre_sain          2559\n",
    "nombre_exposed        407\n",
    "nombre_recovered    16382\n",
    "Name: 154, dtype: int64"
   ]
  },
  {
   "cell_type": "markdown",
   "id": "825d79ce",
   "metadata": {},
   "source": [
    "nombre_infected       663\n",
    "nombre_sain          2527\n",
    "nombre_exposed        410\n",
    "nombre_recovered    16400\n",
    "Name: 155, dtype: int64"
   ]
  },
  {
   "cell_type": "markdown",
   "id": "544a4da9",
   "metadata": {},
   "source": [
    "nombre_infected       648\n",
    "nombre_sain          2494\n",
    "nombre_exposed        429\n",
    "nombre_recovered    16429\n",
    "Name: 156, dtype: int64"
   ]
  },
  {
   "cell_type": "markdown",
   "id": "bdf05ce8",
   "metadata": {},
   "source": [
    "nombre_infected       637\n",
    "nombre_sain          2488\n",
    "nombre_exposed        425\n",
    "nombre_recovered    16450\n",
    "Name: 157, dtype: int64"
   ]
  },
  {
   "cell_type": "markdown",
   "id": "26fcbf39",
   "metadata": {},
   "source": [
    "nombre_infected       642\n",
    "nombre_sain          2460\n",
    "nombre_exposed        417\n",
    "nombre_recovered    16481\n",
    "Name: 158, dtype: int64"
   ]
  },
  {
   "cell_type": "markdown",
   "id": "cdb9eb62",
   "metadata": {},
   "source": [
    "nombre_infected       654\n",
    "nombre_sain          2436\n",
    "nombre_exposed        404\n",
    "nombre_recovered    16506\n",
    "Name: 159, dtype: int64"
   ]
  },
  {
   "cell_type": "markdown",
   "id": "f17443e7",
   "metadata": {},
   "source": [
    "nombre_infected       637\n",
    "nombre_sain          2445\n",
    "nombre_exposed        393\n",
    "nombre_recovered    16525\n",
    "Name: 160, dtype: int64"
   ]
  },
  {
   "cell_type": "markdown",
   "id": "91aa768d",
   "metadata": {},
   "source": [
    "nombre_infected       644\n",
    "nombre_sain          2425\n",
    "nombre_exposed        377\n",
    "nombre_recovered    16554\n",
    "Name: 161, dtype: int64"
   ]
  },
  {
   "cell_type": "markdown",
   "id": "fda5e1d3",
   "metadata": {},
   "source": [
    "nombre_infected       662\n",
    "nombre_sain          2411\n",
    "nombre_exposed        350\n",
    "nombre_recovered    16577\n",
    "Name: 162, dtype: int64"
   ]
  },
  {
   "cell_type": "markdown",
   "id": "2898af23",
   "metadata": {},
   "source": [
    "nombre_infected       678\n",
    "nombre_sain          2405\n",
    "nombre_exposed        333\n",
    "nombre_recovered    16584\n",
    "Name: 163, dtype: int64"
   ]
  },
  {
   "cell_type": "markdown",
   "id": "80cbe643",
   "metadata": {},
   "source": [
    "nombre_infected       681\n",
    "nombre_sain          2403\n",
    "nombre_exposed        343\n",
    "nombre_recovered    16573\n",
    "Name: 164, dtype: int64"
   ]
  },
  {
   "cell_type": "markdown",
   "id": "f37b3e42",
   "metadata": {},
   "source": [
    "nombre_infected       662\n",
    "nombre_sain          2378\n",
    "nombre_exposed        380\n",
    "nombre_recovered    16580\n",
    "Name: 165, dtype: int64"
   ]
  },
  {
   "cell_type": "markdown",
   "id": "806a8c34",
   "metadata": {},
   "source": [
    "nombre_infected       671\n",
    "nombre_sain          2353\n",
    "nombre_exposed        393\n",
    "nombre_recovered    16583\n",
    "Name: 166, dtype: int64"
   ]
  },
  {
   "cell_type": "markdown",
   "id": "a28a0953",
   "metadata": {},
   "source": [
    "nombre_infected       667\n",
    "nombre_sain          2345\n",
    "nombre_exposed        386\n",
    "nombre_recovered    16602\n",
    "Name: 167, dtype: int64"
   ]
  },
  {
   "cell_type": "markdown",
   "id": "1eb472e6",
   "metadata": {},
   "source": [
    "nombre_infected       673\n",
    "nombre_sain          2326\n",
    "nombre_exposed        397\n",
    "nombre_recovered    16604\n",
    "Name: 168, dtype: int64"
   ]
  },
  {
   "cell_type": "markdown",
   "id": "08ef1305",
   "metadata": {},
   "source": [
    "nombre_infected       658\n",
    "nombre_sain          2328\n",
    "nombre_exposed        396\n",
    "nombre_recovered    16618\n",
    "Name: 169, dtype: int64"
   ]
  },
  {
   "cell_type": "markdown",
   "id": "e6d84292",
   "metadata": {},
   "source": [
    "nombre_infected       635\n",
    "nombre_sain          2338\n",
    "nombre_exposed        393\n",
    "nombre_recovered    16634\n",
    "Name: 170, dtype: int64"
   ]
  },
  {
   "cell_type": "markdown",
   "id": "27b9a1ef",
   "metadata": {},
   "source": [
    "nombre_infected       652\n",
    "nombre_sain          2344\n",
    "nombre_exposed        362\n",
    "nombre_recovered    16642\n",
    "Name: 171, dtype: int64"
   ]
  },
  {
   "cell_type": "markdown",
   "id": "6bbf2749",
   "metadata": {},
   "source": [
    "nombre_infected       651\n",
    "nombre_sain          2353\n",
    "nombre_exposed        350\n",
    "nombre_recovered    16646\n",
    "Name: 172, dtype: int64"
   ]
  },
  {
   "cell_type": "markdown",
   "id": "22e63192",
   "metadata": {},
   "source": [
    "nombre_infected       625\n",
    "nombre_sain          2362\n",
    "nombre_exposed        352\n",
    "nombre_recovered    16661\n",
    "Name: 173, dtype: int64"
   ]
  },
  {
   "cell_type": "markdown",
   "id": "d60c4a6c",
   "metadata": {},
   "source": [
    "nombre_infected       624\n",
    "nombre_sain          2402\n",
    "nombre_exposed        316\n",
    "nombre_recovered    16658\n",
    "Name: 174, dtype: int64"
   ]
  },
  {
   "cell_type": "markdown",
   "id": "187a8e4a",
   "metadata": {},
   "source": [
    "nombre_infected       613\n",
    "nombre_sain          2396\n",
    "nombre_exposed        338\n",
    "nombre_recovered    16653\n",
    "Name: 175, dtype: int64"
   ]
  },
  {
   "cell_type": "markdown",
   "id": "4fd506cd",
   "metadata": {},
   "source": [
    "nombre_infected       592\n",
    "nombre_sain          2380\n",
    "nombre_exposed        353\n",
    "nombre_recovered    16675\n",
    "Name: 176, dtype: int64"
   ]
  },
  {
   "cell_type": "markdown",
   "id": "b329696c",
   "metadata": {},
   "source": [
    "nombre_infected       598\n",
    "nombre_sain          2389\n",
    "nombre_exposed        350\n",
    "nombre_recovered    16663\n",
    "Name: 177, dtype: int64"
   ]
  },
  {
   "cell_type": "markdown",
   "id": "3d7452cd",
   "metadata": {},
   "source": [
    "nombre_infected       575\n",
    "nombre_sain          2392\n",
    "nombre_exposed        360\n",
    "nombre_recovered    16673\n",
    "Name: 178, dtype: int64"
   ]
  },
  {
   "cell_type": "markdown",
   "id": "bdabe147",
   "metadata": {},
   "source": [
    "nombre_infected       577\n",
    "nombre_sain          2429\n",
    "nombre_exposed        339\n",
    "nombre_recovered    16655\n",
    "Name: 179, dtype: int64"
   ]
  },
  {
   "cell_type": "markdown",
   "id": "af98adad",
   "metadata": {},
   "source": [
    "nombre_infected       589\n",
    "nombre_sain          2420\n",
    "nombre_exposed        333\n",
    "nombre_recovered    16658\n",
    "Name: 180, dtype: int64"
   ]
  },
  {
   "cell_type": "markdown",
   "id": "baca7bfe",
   "metadata": {},
   "source": [
    "nombre_infected       594\n",
    "nombre_sain          2448\n",
    "nombre_exposed        317\n",
    "nombre_recovered    16641\n",
    "Name: 181, dtype: int64"
   ]
  },
  {
   "cell_type": "markdown",
   "id": "eaae4fc2",
   "metadata": {},
   "source": [
    "nombre_infected       593\n",
    "nombre_sain          2469\n",
    "nombre_exposed        314\n",
    "nombre_recovered    16624\n",
    "Name: 182, dtype: int64"
   ]
  },
  {
   "cell_type": "markdown",
   "id": "90075728",
   "metadata": {},
   "source": [
    "nombre_infected       568\n",
    "nombre_sain          2488\n",
    "nombre_exposed        323\n",
    "nombre_recovered    16621\n",
    "Name: 183, dtype: int64"
   ]
  },
  {
   "cell_type": "markdown",
   "id": "eee67009",
   "metadata": {},
   "source": [
    "nombre_infected       579\n",
    "nombre_sain          2467\n",
    "nombre_exposed        354\n",
    "nombre_recovered    16600\n",
    "Name: 184, dtype: int64"
   ]
  },
  {
   "cell_type": "markdown",
   "id": "37b71c22",
   "metadata": {},
   "source": [
    "nombre_infected       573\n",
    "nombre_sain          2492\n",
    "nombre_exposed        348\n",
    "nombre_recovered    16587\n",
    "Name: 185, dtype: int64"
   ]
  },
  {
   "cell_type": "markdown",
   "id": "65441293",
   "metadata": {},
   "source": [
    "nombre_infected       593\n",
    "nombre_sain          2490\n",
    "nombre_exposed        353\n",
    "nombre_recovered    16564\n",
    "Name: 186, dtype: int64"
   ]
  },
  {
   "cell_type": "markdown",
   "id": "fc55e485",
   "metadata": {},
   "source": [
    "nombre_infected       583\n",
    "nombre_sain          2510\n",
    "nombre_exposed        352\n",
    "nombre_recovered    16555\n",
    "Name: 187, dtype: int64"
   ]
  },
  {
   "cell_type": "markdown",
   "id": "50e853fd",
   "metadata": {},
   "source": [
    "nombre_infected       589\n",
    "nombre_sain          2487\n",
    "nombre_exposed        370\n",
    "nombre_recovered    16554\n",
    "Name: 188, dtype: int64"
   ]
  },
  {
   "cell_type": "markdown",
   "id": "26eb6287",
   "metadata": {},
   "source": [
    "nombre_infected       598\n",
    "nombre_sain          2500\n",
    "nombre_exposed        383\n",
    "nombre_recovered    16519\n",
    "Name: 189, dtype: int64"
   ]
  },
  {
   "cell_type": "markdown",
   "id": "26a4ef77",
   "metadata": {},
   "source": [
    "nombre_infected       621\n",
    "nombre_sain          2505\n",
    "nombre_exposed        388\n",
    "nombre_recovered    16486\n",
    "Name: 190, dtype: int64"
   ]
  },
  {
   "cell_type": "markdown",
   "id": "16019ea6",
   "metadata": {},
   "source": [
    "nombre_infected       627\n",
    "nombre_sain          2500\n",
    "nombre_exposed        392\n",
    "nombre_recovered    16481\n",
    "Name: 191, dtype: int64"
   ]
  },
  {
   "cell_type": "markdown",
   "id": "9f715619",
   "metadata": {},
   "source": [
    "nombre_infected       660\n",
    "nombre_sain          2484\n",
    "nombre_exposed        393\n",
    "nombre_recovered    16463\n",
    "Name: 192, dtype: int64"
   ]
  },
  {
   "cell_type": "markdown",
   "id": "c0230b2c",
   "metadata": {},
   "source": [
    "nombre_infected       666\n",
    "nombre_sain          2478\n",
    "nombre_exposed        391\n",
    "nombre_recovered    16465\n",
    "Name: 193, dtype: int64"
   ]
  },
  {
   "cell_type": "markdown",
   "id": "cc5749d0",
   "metadata": {},
   "source": [
    "nombre_infected       673\n",
    "nombre_sain          2496\n",
    "nombre_exposed        383\n",
    "nombre_recovered    16448\n",
    "Name: 194, dtype: int64"
   ]
  },
  {
   "cell_type": "markdown",
   "id": "6122a57c",
   "metadata": {},
   "source": [
    "nombre_infected       680\n",
    "nombre_sain          2478\n",
    "nombre_exposed        396\n",
    "nombre_recovered    16446\n",
    "Name: 195, dtype: int64"
   ]
  },
  {
   "cell_type": "markdown",
   "id": "f506fef6",
   "metadata": {},
   "source": [
    "nombre_infected       673\n",
    "nombre_sain          2475\n",
    "nombre_exposed        399\n",
    "nombre_recovered    16453\n",
    "Name: 196, dtype: int64"
   ]
  },
  {
   "cell_type": "markdown",
   "id": "6b8a4c64",
   "metadata": {},
   "source": [
    "nombre_infected       680\n",
    "nombre_sain          2475\n",
    "nombre_exposed        385\n",
    "nombre_recovered    16460\n",
    "Name: 197, dtype: int64"
   ]
  },
  {
   "cell_type": "markdown",
   "id": "c4f3f20f",
   "metadata": {},
   "source": [
    "nombre_infected       697\n",
    "nombre_sain          2466\n",
    "nombre_exposed        384\n",
    "nombre_recovered    16453\n",
    "Name: 198, dtype: int64"
   ]
  },
  {
   "cell_type": "markdown",
   "id": "9f21510a",
   "metadata": {},
   "source": [
    "nombre_infected       698\n",
    "nombre_sain          2490\n",
    "nombre_exposed        393\n",
    "nombre_recovered    16419\n",
    "Name: 199, dtype: int64"
   ]
  },
  {
   "cell_type": "markdown",
   "id": "5d968259",
   "metadata": {},
   "source": [
    "nombre_infected       717\n",
    "nombre_sain          2475\n",
    "nombre_exposed        399\n",
    "nombre_recovered    16409\n",
    "Name: 200, dtype: int64"
   ]
  },
  {
   "cell_type": "markdown",
   "id": "03a6722f",
   "metadata": {},
   "source": [
    "nombre_infected       732\n",
    "nombre_sain          2461\n",
    "nombre_exposed        415\n",
    "nombre_recovered    16392\n",
    "Name: 201, dtype: int64"
   ]
  },
  {
   "cell_type": "markdown",
   "id": "48fc2236",
   "metadata": {},
   "source": [
    "nombre_infected       724\n",
    "nombre_sain          2455\n",
    "nombre_exposed        420\n",
    "nombre_recovered    16401\n",
    "Name: 202, dtype: int64"
   ]
  },
  {
   "cell_type": "markdown",
   "id": "eed1aced",
   "metadata": {},
   "source": [
    "nombre_infected       739\n",
    "nombre_sain          2436\n",
    "nombre_exposed        425\n",
    "nombre_recovered    16400\n",
    "Name: 203, dtype: int64"
   ]
  },
  {
   "cell_type": "markdown",
   "id": "2c4a2dd9",
   "metadata": {},
   "source": [
    "nombre_infected       750\n",
    "nombre_sain          2405\n",
    "nombre_exposed        444\n",
    "nombre_recovered    16401\n",
    "Name: 204, dtype: int64"
   ]
  },
  {
   "cell_type": "markdown",
   "id": "28981653",
   "metadata": {},
   "source": [
    "nombre_infected       747\n",
    "nombre_sain          2387\n",
    "nombre_exposed        448\n",
    "nombre_recovered    16418\n",
    "Name: 205, dtype: int64"
   ]
  },
  {
   "cell_type": "markdown",
   "id": "911a940e",
   "metadata": {},
   "source": [
    "nombre_infected       766\n",
    "nombre_sain          2369\n",
    "nombre_exposed        450\n",
    "nombre_recovered    16415\n",
    "Name: 206, dtype: int64"
   ]
  },
  {
   "cell_type": "markdown",
   "id": "fbbdc6bd",
   "metadata": {},
   "source": [
    "nombre_infected       792\n",
    "nombre_sain          2331\n",
    "nombre_exposed        460\n",
    "nombre_recovered    16417\n",
    "Name: 207, dtype: int64"
   ]
  },
  {
   "cell_type": "markdown",
   "id": "af9c2f7f",
   "metadata": {},
   "source": [
    "nombre_infected       807\n",
    "nombre_sain          2364\n",
    "nombre_exposed        430\n",
    "nombre_recovered    16399\n",
    "Name: 208, dtype: int64"
   ]
  },
  {
   "cell_type": "markdown",
   "id": "a854a147",
   "metadata": {},
   "source": [
    "nombre_infected       798\n",
    "nombre_sain          2332\n",
    "nombre_exposed        441\n",
    "nombre_recovered    16429\n",
    "Name: 209, dtype: int64"
   ]
  },
  {
   "cell_type": "markdown",
   "id": "f86e44c7",
   "metadata": {},
   "source": [
    "nombre_infected       794\n",
    "nombre_sain          2295\n",
    "nombre_exposed        455\n",
    "nombre_recovered    16456\n",
    "Name: 210, dtype: int64"
   ]
  },
  {
   "cell_type": "markdown",
   "id": "9b34cd1a",
   "metadata": {},
   "source": [
    "nombre_infected       806\n",
    "nombre_sain          2273\n",
    "nombre_exposed        450\n",
    "nombre_recovered    16471\n",
    "Name: 211, dtype: int64"
   ]
  },
  {
   "cell_type": "markdown",
   "id": "8351a8bd",
   "metadata": {},
   "source": [
    "nombre_infected       804\n",
    "nombre_sain          2280\n",
    "nombre_exposed        442\n",
    "nombre_recovered    16474\n",
    "Name: 212, dtype: int64"
   ]
  },
  {
   "cell_type": "markdown",
   "id": "53be7dff",
   "metadata": {},
   "source": [
    "nombre_infected       833\n",
    "nombre_sain          2247\n",
    "nombre_exposed        431\n",
    "nombre_recovered    16489\n",
    "Name: 213, dtype: int64"
   ]
  },
  {
   "cell_type": "markdown",
   "id": "bf435fbc",
   "metadata": {},
   "source": [
    "nombre_infected       852\n",
    "nombre_sain          2223\n",
    "nombre_exposed        430\n",
    "nombre_recovered    16495\n",
    "Name: 214, dtype: int64"
   ]
  },
  {
   "cell_type": "markdown",
   "id": "3fa45a59",
   "metadata": {},
   "source": [
    "nombre_infected       836\n",
    "nombre_sain          2214\n",
    "nombre_exposed        443\n",
    "nombre_recovered    16507\n",
    "Name: 215, dtype: int64"
   ]
  },
  {
   "cell_type": "markdown",
   "id": "74147d77",
   "metadata": {},
   "source": [
    "nombre_infected       838\n",
    "nombre_sain          2199\n",
    "nombre_exposed        436\n",
    "nombre_recovered    16527\n",
    "Name: 216, dtype: int64"
   ]
  },
  {
   "cell_type": "markdown",
   "id": "4893f21e",
   "metadata": {},
   "source": [
    "nombre_infected       829\n",
    "nombre_sain          2188\n",
    "nombre_exposed        431\n",
    "nombre_recovered    16552\n",
    "Name: 217, dtype: int64"
   ]
  },
  {
   "cell_type": "markdown",
   "id": "09c00a6d",
   "metadata": {},
   "source": [
    "nombre_infected       835\n",
    "nombre_sain          2174\n",
    "nombre_exposed        434\n",
    "nombre_recovered    16557\n",
    "Name: 218, dtype: int64"
   ]
  },
  {
   "cell_type": "markdown",
   "id": "4bf46aeb",
   "metadata": {},
   "source": [
    "nombre_infected       827\n",
    "nombre_sain          2178\n",
    "nombre_exposed        416\n",
    "nombre_recovered    16579\n",
    "Name: 219, dtype: int64"
   ]
  },
  {
   "cell_type": "markdown",
   "id": "06976245",
   "metadata": {},
   "source": [
    "nombre_infected       842\n",
    "nombre_sain          2151\n",
    "nombre_exposed        433\n",
    "nombre_recovered    16574\n",
    "Name: 220, dtype: int64"
   ]
  },
  {
   "cell_type": "markdown",
   "id": "811c79a7",
   "metadata": {},
   "source": [
    "nombre_infected       844\n",
    "nombre_sain          2131\n",
    "nombre_exposed        443\n",
    "nombre_recovered    16582\n",
    "Name: 221, dtype: int64"
   ]
  },
  {
   "cell_type": "markdown",
   "id": "54535bae",
   "metadata": {},
   "source": [
    "nombre_infected       858\n",
    "nombre_sain          2138\n",
    "nombre_exposed        424\n",
    "nombre_recovered    16580\n",
    "Name: 222, dtype: int64"
   ]
  },
  {
   "cell_type": "markdown",
   "id": "a9e08d63",
   "metadata": {},
   "source": [
    "nombre_infected       846\n",
    "nombre_sain          2111\n",
    "nombre_exposed        451\n",
    "nombre_recovered    16592\n",
    "Name: 223, dtype: int64"
   ]
  },
  {
   "cell_type": "markdown",
   "id": "d7797111",
   "metadata": {},
   "source": [
    "nombre_infected       838\n",
    "nombre_sain          2083\n",
    "nombre_exposed        458\n",
    "nombre_recovered    16621\n",
    "Name: 224, dtype: int64"
   ]
  },
  {
   "cell_type": "markdown",
   "id": "e6388426",
   "metadata": {},
   "source": [
    "nombre_infected       836\n",
    "nombre_sain          2089\n",
    "nombre_exposed        447\n",
    "nombre_recovered    16628\n",
    "Name: 225, dtype: int64"
   ]
  },
  {
   "cell_type": "markdown",
   "id": "782d6531",
   "metadata": {},
   "source": [
    "nombre_infected       854\n",
    "nombre_sain          2099\n",
    "nombre_exposed        427\n",
    "nombre_recovered    16620\n",
    "Name: 226, dtype: int64"
   ]
  },
  {
   "cell_type": "markdown",
   "id": "18e4c49a",
   "metadata": {},
   "source": [
    "nombre_infected       851\n",
    "nombre_sain          2104\n",
    "nombre_exposed        440\n",
    "nombre_recovered    16605\n",
    "Name: 227, dtype: int64"
   ]
  },
  {
   "cell_type": "markdown",
   "id": "a611457f",
   "metadata": {},
   "source": [
    "nombre_infected       849\n",
    "nombre_sain          2124\n",
    "nombre_exposed        436\n",
    "nombre_recovered    16591\n",
    "Name: 228, dtype: int64"
   ]
  },
  {
   "cell_type": "markdown",
   "id": "ee3cf180",
   "metadata": {},
   "source": [
    "nombre_infected       844\n",
    "nombre_sain          2128\n",
    "nombre_exposed        447\n",
    "nombre_recovered    16581\n",
    "Name: 229, dtype: int64"
   ]
  },
  {
   "cell_type": "markdown",
   "id": "c7a981fa",
   "metadata": {},
   "source": [
    "nombre_infected       844\n",
    "nombre_sain          2128\n",
    "nombre_exposed        431\n",
    "nombre_recovered    16597\n",
    "Name: 230, dtype: int64"
   ]
  },
  {
   "cell_type": "markdown",
   "id": "76465f4c",
   "metadata": {},
   "source": [
    "nombre_infected       858\n",
    "nombre_sain          2117\n",
    "nombre_exposed        436\n",
    "nombre_recovered    16589\n",
    "Name: 231, dtype: int64"
   ]
  },
  {
   "cell_type": "markdown",
   "id": "b03da64b",
   "metadata": {},
   "source": [
    "nombre_infected       880\n",
    "nombre_sain          2124\n",
    "nombre_exposed        428\n",
    "nombre_recovered    16568\n",
    "Name: 232, dtype: int64"
   ]
  },
  {
   "cell_type": "markdown",
   "id": "4ad94f01",
   "metadata": {},
   "source": [
    "nombre_infected       873\n",
    "nombre_sain          2128\n",
    "nombre_exposed        446\n",
    "nombre_recovered    16553\n",
    "Name: 233, dtype: int64"
   ]
  },
  {
   "cell_type": "markdown",
   "id": "29b11862",
   "metadata": {},
   "source": [
    "nombre_infected       848\n",
    "nombre_sain          2154\n",
    "nombre_exposed        445\n",
    "nombre_recovered    16553\n",
    "Name: 234, dtype: int64"
   ]
  },
  {
   "cell_type": "markdown",
   "id": "bfdf31c5",
   "metadata": {},
   "source": [
    "nombre_infected       859\n",
    "nombre_sain          2176\n",
    "nombre_exposed        443\n",
    "nombre_recovered    16522\n",
    "Name: 235, dtype: int64"
   ]
  },
  {
   "cell_type": "markdown",
   "id": "c6b276c0",
   "metadata": {},
   "source": [
    "nombre_infected       859\n",
    "nombre_sain          2201\n",
    "nombre_exposed        450\n",
    "nombre_recovered    16490\n",
    "Name: 236, dtype: int64"
   ]
  },
  {
   "cell_type": "markdown",
   "id": "ecbc6d81",
   "metadata": {},
   "source": [
    "nombre_infected       849\n",
    "nombre_sain          2198\n",
    "nombre_exposed        470\n",
    "nombre_recovered    16483\n",
    "Name: 237, dtype: int64"
   ]
  },
  {
   "cell_type": "markdown",
   "id": "59eb7fed",
   "metadata": {},
   "source": [
    "nombre_infected       831\n",
    "nombre_sain          2228\n",
    "nombre_exposed        465\n",
    "nombre_recovered    16476\n",
    "Name: 238, dtype: int64"
   ]
  },
  {
   "cell_type": "markdown",
   "id": "a67639c2",
   "metadata": {},
   "source": [
    "nombre_infected       823\n",
    "nombre_sain          2236\n",
    "nombre_exposed        467\n",
    "nombre_recovered    16474\n",
    "Name: 239, dtype: int64"
   ]
  },
  {
   "cell_type": "markdown",
   "id": "1e869fc0",
   "metadata": {},
   "source": [
    "nombre_infected       818\n",
    "nombre_sain          2238\n",
    "nombre_exposed        455\n",
    "nombre_recovered    16489\n",
    "Name: 240, dtype: int64"
   ]
  },
  {
   "cell_type": "markdown",
   "id": "e39912aa",
   "metadata": {},
   "source": [
    "nombre_infected       823\n",
    "nombre_sain          2254\n",
    "nombre_exposed        442\n",
    "nombre_recovered    16481\n",
    "Name: 241, dtype: int64"
   ]
  },
  {
   "cell_type": "markdown",
   "id": "0dd09e33",
   "metadata": {},
   "source": [
    "nombre_infected       837\n",
    "nombre_sain          2278\n",
    "nombre_exposed        441\n",
    "nombre_recovered    16444\n",
    "Name: 242, dtype: int64"
   ]
  },
  {
   "cell_type": "markdown",
   "id": "f7ee3ad1",
   "metadata": {},
   "source": [
    "nombre_infected       857\n",
    "nombre_sain          2287\n",
    "nombre_exposed        436\n",
    "nombre_recovered    16420\n",
    "Name: 243, dtype: int64"
   ]
  },
  {
   "cell_type": "markdown",
   "id": "cdef618b",
   "metadata": {},
   "source": [
    "nombre_infected       839\n",
    "nombre_sain          2313\n",
    "nombre_exposed        419\n",
    "nombre_recovered    16429\n",
    "Name: 244, dtype: int64"
   ]
  },
  {
   "cell_type": "markdown",
   "id": "1b17a018",
   "metadata": {},
   "source": [
    "nombre_infected       814\n",
    "nombre_sain          2320\n",
    "nombre_exposed        443\n",
    "nombre_recovered    16423\n",
    "Name: 245, dtype: int64"
   ]
  },
  {
   "cell_type": "markdown",
   "id": "85840fa8",
   "metadata": {},
   "source": [
    "nombre_infected       793\n",
    "nombre_sain          2341\n",
    "nombre_exposed        460\n",
    "nombre_recovered    16406\n",
    "Name: 246, dtype: int64"
   ]
  },
  {
   "cell_type": "markdown",
   "id": "0b5e8ff8",
   "metadata": {},
   "source": [
    "nombre_infected       801\n",
    "nombre_sain          2348\n",
    "nombre_exposed        472\n",
    "nombre_recovered    16379\n",
    "Name: 247, dtype: int64"
   ]
  },
  {
   "cell_type": "markdown",
   "id": "f71b000d",
   "metadata": {},
   "source": [
    "nombre_infected       813\n",
    "nombre_sain          2384\n",
    "nombre_exposed        446\n",
    "nombre_recovered    16357\n",
    "Name: 248, dtype: int64"
   ]
  },
  {
   "cell_type": "markdown",
   "id": "6369bb25",
   "metadata": {},
   "source": [
    "nombre_infected       838\n",
    "nombre_sain          2409\n",
    "nombre_exposed        421\n",
    "nombre_recovered    16332\n",
    "Name: 249, dtype: int64"
   ]
  },
  {
   "cell_type": "markdown",
   "id": "49d49f46",
   "metadata": {},
   "source": [
    "nombre_infected       819\n",
    "nombre_sain          2430\n",
    "nombre_exposed        440\n",
    "nombre_recovered    16311\n",
    "Name: 250, dtype: int64"
   ]
  },
  {
   "cell_type": "markdown",
   "id": "48979ec4",
   "metadata": {},
   "source": [
    "nombre_infected       780\n",
    "nombre_sain          2451\n",
    "nombre_exposed        451\n",
    "nombre_recovered    16318\n",
    "Name: 251, dtype: int64"
   ]
  },
  {
   "cell_type": "markdown",
   "id": "99b7c8da",
   "metadata": {},
   "source": [
    "nombre_infected       781\n",
    "nombre_sain          2470\n",
    "nombre_exposed        448\n",
    "nombre_recovered    16301\n",
    "Name: 252, dtype: int64"
   ]
  },
  {
   "cell_type": "markdown",
   "id": "7697c8d2",
   "metadata": {},
   "source": [
    "nombre_infected       791\n",
    "nombre_sain          2482\n",
    "nombre_exposed        440\n",
    "nombre_recovered    16287\n",
    "Name: 253, dtype: int64"
   ]
  },
  {
   "cell_type": "markdown",
   "id": "4430afd5",
   "metadata": {},
   "source": [
    "nombre_infected       767\n",
    "nombre_sain          2478\n",
    "nombre_exposed        459\n",
    "nombre_recovered    16296\n",
    "Name: 254, dtype: int64"
   ]
  },
  {
   "cell_type": "markdown",
   "id": "139405e8",
   "metadata": {},
   "source": [
    "nombre_infected       754\n",
    "nombre_sain          2500\n",
    "nombre_exposed        462\n",
    "nombre_recovered    16284\n",
    "Name: 255, dtype: int64"
   ]
  },
  {
   "cell_type": "markdown",
   "id": "53554ae8",
   "metadata": {},
   "source": [
    "nombre_infected       758\n",
    "nombre_sain          2513\n",
    "nombre_exposed        468\n",
    "nombre_recovered    16261\n",
    "Name: 256, dtype: int64"
   ]
  },
  {
   "cell_type": "markdown",
   "id": "d7470902",
   "metadata": {},
   "source": [
    "nombre_infected       751\n",
    "nombre_sain          2512\n",
    "nombre_exposed        467\n",
    "nombre_recovered    16270\n",
    "Name: 257, dtype: int64"
   ]
  },
  {
   "cell_type": "markdown",
   "id": "6e0c429b",
   "metadata": {},
   "source": [
    "nombre_infected       742\n",
    "nombre_sain          2539\n",
    "nombre_exposed        458\n",
    "nombre_recovered    16261\n",
    "Name: 258, dtype: int64"
   ]
  },
  {
   "cell_type": "markdown",
   "id": "03124d48",
   "metadata": {},
   "source": [
    "nombre_infected       757\n",
    "nombre_sain          2514\n",
    "nombre_exposed        451\n",
    "nombre_recovered    16278\n",
    "Name: 259, dtype: int64"
   ]
  },
  {
   "cell_type": "markdown",
   "id": "cac3c096",
   "metadata": {},
   "source": [
    "nombre_infected       757\n",
    "nombre_sain          2498\n",
    "nombre_exposed        460\n",
    "nombre_recovered    16285\n",
    "Name: 260, dtype: int64"
   ]
  },
  {
   "cell_type": "markdown",
   "id": "be2466e6",
   "metadata": {},
   "source": [
    "nombre_infected       759\n",
    "nombre_sain          2494\n",
    "nombre_exposed        468\n",
    "nombre_recovered    16279\n",
    "Name: 261, dtype: int64"
   ]
  },
  {
   "cell_type": "markdown",
   "id": "d5e7305c",
   "metadata": {},
   "source": [
    "nombre_infected       770\n",
    "nombre_sain          2497\n",
    "nombre_exposed        454\n",
    "nombre_recovered    16279\n",
    "Name: 262, dtype: int64"
   ]
  },
  {
   "cell_type": "markdown",
   "id": "6c20706f",
   "metadata": {},
   "source": [
    "nombre_infected       777\n",
    "nombre_sain          2500\n",
    "nombre_exposed        448\n",
    "nombre_recovered    16275\n",
    "Name: 263, dtype: int64"
   ]
  },
  {
   "cell_type": "markdown",
   "id": "f64b8b5b",
   "metadata": {},
   "source": [
    "nombre_infected       810\n",
    "nombre_sain          2493\n",
    "nombre_exposed        449\n",
    "nombre_recovered    16248\n",
    "Name: 264, dtype: int64"
   ]
  },
  {
   "cell_type": "markdown",
   "id": "3202f01b",
   "metadata": {},
   "source": [
    "nombre_infected       758\n",
    "nombre_sain          2483\n",
    "nombre_exposed        484\n",
    "nombre_recovered    16275\n",
    "Name: 265, dtype: int64"
   ]
  },
  {
   "cell_type": "markdown",
   "id": "3906e906",
   "metadata": {},
   "source": [
    "nombre_infected       769\n",
    "nombre_sain          2466\n",
    "nombre_exposed        472\n",
    "nombre_recovered    16293\n",
    "Name: 266, dtype: int64"
   ]
  },
  {
   "cell_type": "markdown",
   "id": "8ed02a9b",
   "metadata": {},
   "source": [
    "nombre_infected       775\n",
    "nombre_sain          2468\n",
    "nombre_exposed        463\n",
    "nombre_recovered    16294\n",
    "Name: 267, dtype: int64"
   ]
  },
  {
   "cell_type": "markdown",
   "id": "90b3c6d8",
   "metadata": {},
   "source": [
    "nombre_infected       793\n",
    "nombre_sain          2480\n",
    "nombre_exposed        450\n",
    "nombre_recovered    16277\n",
    "Name: 268, dtype: int64"
   ]
  },
  {
   "cell_type": "markdown",
   "id": "a0f21497",
   "metadata": {},
   "source": [
    "nombre_infected       768\n",
    "nombre_sain          2452\n",
    "nombre_exposed        480\n",
    "nombre_recovered    16300\n",
    "Name: 269, dtype: int64"
   ]
  },
  {
   "cell_type": "markdown",
   "id": "634c6e9d",
   "metadata": {},
   "source": [
    "nombre_infected       770\n",
    "nombre_sain          2454\n",
    "nombre_exposed        484\n",
    "nombre_recovered    16292\n",
    "Name: 270, dtype: int64"
   ]
  },
  {
   "cell_type": "markdown",
   "id": "f8d84b18",
   "metadata": {},
   "source": [
    "nombre_infected       769\n",
    "nombre_sain          2462\n",
    "nombre_exposed        489\n",
    "nombre_recovered    16280\n",
    "Name: 271, dtype: int64"
   ]
  },
  {
   "cell_type": "markdown",
   "id": "fb456a6b",
   "metadata": {},
   "source": [
    "nombre_infected       775\n",
    "nombre_sain          2450\n",
    "nombre_exposed        491\n",
    "nombre_recovered    16284\n",
    "Name: 272, dtype: int64"
   ]
  },
  {
   "cell_type": "markdown",
   "id": "98e84f3b",
   "metadata": {},
   "source": [
    "nombre_infected       794\n",
    "nombre_sain          2452\n",
    "nombre_exposed        491\n",
    "nombre_recovered    16263\n",
    "Name: 273, dtype: int64"
   ]
  },
  {
   "cell_type": "markdown",
   "id": "08a3ab9c",
   "metadata": {},
   "source": [
    "nombre_infected       808\n",
    "nombre_sain          2427\n",
    "nombre_exposed        505\n",
    "nombre_recovered    16260\n",
    "Name: 274, dtype: int64"
   ]
  },
  {
   "cell_type": "markdown",
   "id": "b8803b24",
   "metadata": {},
   "source": [
    "nombre_infected       812\n",
    "nombre_sain          2411\n",
    "nombre_exposed        513\n",
    "nombre_recovered    16264\n",
    "Name: 275, dtype: int64"
   ]
  },
  {
   "cell_type": "markdown",
   "id": "a41a0838",
   "metadata": {},
   "source": [
    "nombre_infected       813\n",
    "nombre_sain          2417\n",
    "nombre_exposed        490\n",
    "nombre_recovered    16280\n",
    "Name: 276, dtype: int64"
   ]
  },
  {
   "cell_type": "markdown",
   "id": "e1cc2a40",
   "metadata": {},
   "source": [
    "nombre_infected       816\n",
    "nombre_sain          2396\n",
    "nombre_exposed        496\n",
    "nombre_recovered    16292\n",
    "Name: 277, dtype: int64"
   ]
  },
  {
   "cell_type": "markdown",
   "id": "bf8154ef",
   "metadata": {},
   "source": [
    "nombre_infected       824\n",
    "nombre_sain          2362\n",
    "nombre_exposed        513\n",
    "nombre_recovered    16301\n",
    "Name: 278, dtype: int64"
   ]
  },
  {
   "cell_type": "markdown",
   "id": "505811e0",
   "metadata": {},
   "source": [
    "nombre_infected       829\n",
    "nombre_sain          2351\n",
    "nombre_exposed        519\n",
    "nombre_recovered    16301\n",
    "Name: 279, dtype: int64"
   ]
  },
  {
   "cell_type": "markdown",
   "id": "276b45ae",
   "metadata": {},
   "source": [
    "nombre_infected       857\n",
    "nombre_sain          2343\n",
    "nombre_exposed        497\n",
    "nombre_recovered    16303\n",
    "Name: 280, dtype: int64"
   ]
  },
  {
   "cell_type": "markdown",
   "id": "e19101cf",
   "metadata": {},
   "source": [
    "nombre_infected       850\n",
    "nombre_sain          2331\n",
    "nombre_exposed        488\n",
    "nombre_recovered    16331\n",
    "Name: 281, dtype: int64"
   ]
  },
  {
   "cell_type": "markdown",
   "id": "7f720145",
   "metadata": {},
   "source": [
    "nombre_infected       836\n",
    "nombre_sain          2327\n",
    "nombre_exposed        480\n",
    "nombre_recovered    16357\n",
    "Name: 282, dtype: int64"
   ]
  },
  {
   "cell_type": "markdown",
   "id": "ff727cc7",
   "metadata": {},
   "source": [
    "nombre_infected       822\n",
    "nombre_sain          2340\n",
    "nombre_exposed        482\n",
    "nombre_recovered    16356\n",
    "Name: 283, dtype: int64"
   ]
  },
  {
   "cell_type": "markdown",
   "id": "7f286ccf",
   "metadata": {},
   "source": [
    "nombre_infected       787\n",
    "nombre_sain          2326\n",
    "nombre_exposed        487\n",
    "nombre_recovered    16400\n",
    "Name: 284, dtype: int64"
   ]
  },
  {
   "cell_type": "markdown",
   "id": "8399b361",
   "metadata": {},
   "source": [
    "nombre_infected       803\n",
    "nombre_sain          2314\n",
    "nombre_exposed        470\n",
    "nombre_recovered    16413\n",
    "Name: 285, dtype: int64"
   ]
  },
  {
   "cell_type": "markdown",
   "id": "b17b6ef9",
   "metadata": {},
   "source": [
    "nombre_infected       791\n",
    "nombre_sain          2313\n",
    "nombre_exposed        441\n",
    "nombre_recovered    16455\n",
    "Name: 286, dtype: int64"
   ]
  },
  {
   "cell_type": "markdown",
   "id": "1cd2f2c1",
   "metadata": {},
   "source": [
    "nombre_infected       781\n",
    "nombre_sain          2315\n",
    "nombre_exposed        437\n",
    "nombre_recovered    16467\n",
    "Name: 287, dtype: int64"
   ]
  },
  {
   "cell_type": "markdown",
   "id": "baf8ea55",
   "metadata": {},
   "source": [
    "nombre_infected       774\n",
    "nombre_sain          2295\n",
    "nombre_exposed        425\n",
    "nombre_recovered    16506\n",
    "Name: 288, dtype: int64"
   ]
  },
  {
   "cell_type": "markdown",
   "id": "ae98d6e9",
   "metadata": {},
   "source": [
    "nombre_infected       766\n",
    "nombre_sain          2281\n",
    "nombre_exposed        418\n",
    "nombre_recovered    16535\n",
    "Name: 289, dtype: int64"
   ]
  },
  {
   "cell_type": "markdown",
   "id": "ebd51485",
   "metadata": {},
   "source": [
    "nombre_infected       748\n",
    "nombre_sain          2274\n",
    "nombre_exposed        419\n",
    "nombre_recovered    16559\n",
    "Name: 290, dtype: int64"
   ]
  },
  {
   "cell_type": "markdown",
   "id": "18a66f6a",
   "metadata": {},
   "source": [
    "nombre_infected       732\n",
    "nombre_sain          2300\n",
    "nombre_exposed        415\n",
    "nombre_recovered    16553\n",
    "Name: 291, dtype: int64"
   ]
  },
  {
   "cell_type": "markdown",
   "id": "a62b8138",
   "metadata": {},
   "source": [
    "nombre_infected       739\n",
    "nombre_sain          2285\n",
    "nombre_exposed        414\n",
    "nombre_recovered    16562\n",
    "Name: 292, dtype: int64"
   ]
  },
  {
   "cell_type": "markdown",
   "id": "f224e49a",
   "metadata": {},
   "source": [
    "nombre_infected       731\n",
    "nombre_sain          2277\n",
    "nombre_exposed        423\n",
    "nombre_recovered    16569\n",
    "Name: 293, dtype: int64"
   ]
  },
  {
   "cell_type": "markdown",
   "id": "be044251",
   "metadata": {},
   "source": [
    "nombre_infected       743\n",
    "nombre_sain          2280\n",
    "nombre_exposed        396\n",
    "nombre_recovered    16581\n",
    "Name: 294, dtype: int64"
   ]
  },
  {
   "cell_type": "markdown",
   "id": "09c02479",
   "metadata": {},
   "source": [
    "nombre_infected       718\n",
    "nombre_sain          2264\n",
    "nombre_exposed        419\n",
    "nombre_recovered    16599\n",
    "Name: 295, dtype: int64"
   ]
  },
  {
   "cell_type": "markdown",
   "id": "6bd733e3",
   "metadata": {},
   "source": [
    "nombre_infected       736\n",
    "nombre_sain          2265\n",
    "nombre_exposed        383\n",
    "nombre_recovered    16616\n",
    "Name: 296, dtype: int64"
   ]
  },
  {
   "cell_type": "markdown",
   "id": "fd98cc1a",
   "metadata": {},
   "source": [
    "nombre_infected       716\n",
    "nombre_sain          2266\n",
    "nombre_exposed        397\n",
    "nombre_recovered    16621\n",
    "Name: 297, dtype: int64"
   ]
  },
  {
   "cell_type": "markdown",
   "id": "63af89d1",
   "metadata": {},
   "source": [
    "nombre_infected       718\n",
    "nombre_sain          2263\n",
    "nombre_exposed        391\n",
    "nombre_recovered    16628\n",
    "Name: 298, dtype: int64"
   ]
  },
  {
   "cell_type": "markdown",
   "id": "1ae0e112",
   "metadata": {},
   "source": [
    "nombre_infected       723\n",
    "nombre_sain          2230\n",
    "nombre_exposed        402\n",
    "nombre_recovered    16645\n",
    "Name: 299, dtype: int64"
   ]
  },
  {
   "cell_type": "markdown",
   "id": "c20e7a93",
   "metadata": {},
   "source": [
    "nombre_infected       706\n",
    "nombre_sain          2219\n",
    "nombre_exposed        415\n",
    "nombre_recovered    16660\n",
    "Name: 300, dtype: int64"
   ]
  },
  {
   "cell_type": "markdown",
   "id": "be78fc8a",
   "metadata": {},
   "source": [
    "nombre_infected       728\n",
    "nombre_sain          2228\n",
    "nombre_exposed        400\n",
    "nombre_recovered    16644\n",
    "Name: 301, dtype: int64"
   ]
  },
  {
   "cell_type": "markdown",
   "id": "a8c56a6d",
   "metadata": {},
   "source": [
    "nombre_infected       724\n",
    "nombre_sain          2220\n",
    "nombre_exposed        397\n",
    "nombre_recovered    16659\n",
    "Name: 302, dtype: int64"
   ]
  },
  {
   "cell_type": "markdown",
   "id": "eeec7219",
   "metadata": {},
   "source": [
    "nombre_infected       706\n",
    "nombre_sain          2223\n",
    "nombre_exposed        395\n",
    "nombre_recovered    16676\n",
    "Name: 303, dtype: int64"
   ]
  },
  {
   "cell_type": "markdown",
   "id": "73906dea",
   "metadata": {},
   "source": [
    "nombre_infected       693\n",
    "nombre_sain          2221\n",
    "nombre_exposed        387\n",
    "nombre_recovered    16699\n",
    "Name: 304, dtype: int64"
   ]
  },
  {
   "cell_type": "markdown",
   "id": "cb5c6b68",
   "metadata": {},
   "source": [
    "nombre_infected       687\n",
    "nombre_sain          2230\n",
    "nombre_exposed        388\n",
    "nombre_recovered    16695\n",
    "Name: 305, dtype: int64"
   ]
  },
  {
   "cell_type": "markdown",
   "id": "f332e262",
   "metadata": {},
   "source": [
    "nombre_infected       686\n",
    "nombre_sain          2250\n",
    "nombre_exposed        369\n",
    "nombre_recovered    16695\n",
    "Name: 306, dtype: int64"
   ]
  },
  {
   "cell_type": "markdown",
   "id": "2d95766c",
   "metadata": {},
   "source": [
    "nombre_infected       679\n",
    "nombre_sain          2285\n",
    "nombre_exposed        349\n",
    "nombre_recovered    16687\n",
    "Name: 307, dtype: int64"
   ]
  },
  {
   "cell_type": "markdown",
   "id": "86dca624",
   "metadata": {},
   "source": [
    "nombre_infected       672\n",
    "nombre_sain          2326\n",
    "nombre_exposed        355\n",
    "nombre_recovered    16647\n",
    "Name: 308, dtype: int64"
   ]
  },
  {
   "cell_type": "markdown",
   "id": "b72f2056",
   "metadata": {},
   "source": [
    "nombre_infected       657\n",
    "nombre_sain          2354\n",
    "nombre_exposed        357\n",
    "nombre_recovered    16632\n",
    "Name: 309, dtype: int64"
   ]
  },
  {
   "cell_type": "markdown",
   "id": "7931ea4a",
   "metadata": {},
   "source": [
    "nombre_infected       649\n",
    "nombre_sain          2395\n",
    "nombre_exposed        346\n",
    "nombre_recovered    16610\n",
    "Name: 310, dtype: int64"
   ]
  },
  {
   "cell_type": "markdown",
   "id": "4c2d0168",
   "metadata": {},
   "source": [
    "nombre_infected       650\n",
    "nombre_sain          2410\n",
    "nombre_exposed        348\n",
    "nombre_recovered    16592\n",
    "Name: 311, dtype: int64"
   ]
  },
  {
   "cell_type": "markdown",
   "id": "40d08a04",
   "metadata": {},
   "source": [
    "nombre_infected       614\n",
    "nombre_sain          2462\n",
    "nombre_exposed        363\n",
    "nombre_recovered    16561\n",
    "Name: 312, dtype: int64"
   ]
  },
  {
   "cell_type": "markdown",
   "id": "aa245370",
   "metadata": {},
   "source": [
    "nombre_infected       600\n",
    "nombre_sain          2513\n",
    "nombre_exposed        360\n",
    "nombre_recovered    16527\n",
    "Name: 313, dtype: int64"
   ]
  },
  {
   "cell_type": "markdown",
   "id": "f0ee4c70",
   "metadata": {},
   "source": [
    "nombre_infected       593\n",
    "nombre_sain          2572\n",
    "nombre_exposed        356\n",
    "nombre_recovered    16479\n",
    "Name: 314, dtype: int64"
   ]
  },
  {
   "cell_type": "markdown",
   "id": "143b562d",
   "metadata": {},
   "source": [
    "nombre_infected       620\n",
    "nombre_sain          2610\n",
    "nombre_exposed        333\n",
    "nombre_recovered    16437\n",
    "Name: 315, dtype: int64"
   ]
  },
  {
   "cell_type": "markdown",
   "id": "a9ff6bc5",
   "metadata": {},
   "source": [
    "nombre_infected       616\n",
    "nombre_sain          2620\n",
    "nombre_exposed        346\n",
    "nombre_recovered    16418\n",
    "Name: 316, dtype: int64"
   ]
  },
  {
   "cell_type": "markdown",
   "id": "ae766b33",
   "metadata": {},
   "source": [
    "nombre_infected       624\n",
    "nombre_sain          2637\n",
    "nombre_exposed        354\n",
    "nombre_recovered    16385\n",
    "Name: 317, dtype: int64"
   ]
  },
  {
   "cell_type": "markdown",
   "id": "eaff7ea3",
   "metadata": {},
   "source": [
    "nombre_infected       633\n",
    "nombre_sain          2664\n",
    "nombre_exposed        351\n",
    "nombre_recovered    16352\n",
    "Name: 318, dtype: int64"
   ]
  },
  {
   "cell_type": "markdown",
   "id": "06d0ff5b",
   "metadata": {},
   "source": [
    "nombre_infected       655\n",
    "nombre_sain          2660\n",
    "nombre_exposed        348\n",
    "nombre_recovered    16337\n",
    "Name: 319, dtype: int64"
   ]
  },
  {
   "cell_type": "markdown",
   "id": "f7b1d239",
   "metadata": {},
   "source": [
    "nombre_infected       645\n",
    "nombre_sain          2670\n",
    "nombre_exposed        350\n",
    "nombre_recovered    16335\n",
    "Name: 320, dtype: int64"
   ]
  },
  {
   "cell_type": "markdown",
   "id": "5f6aefdc",
   "metadata": {},
   "source": [
    "nombre_infected       637\n",
    "nombre_sain          2697\n",
    "nombre_exposed        343\n",
    "nombre_recovered    16323\n",
    "Name: 321, dtype: int64"
   ]
  },
  {
   "cell_type": "markdown",
   "id": "888b4563",
   "metadata": {},
   "source": [
    "nombre_infected       638\n",
    "nombre_sain          2701\n",
    "nombre_exposed        362\n",
    "nombre_recovered    16299\n",
    "Name: 322, dtype: int64"
   ]
  },
  {
   "cell_type": "markdown",
   "id": "d5cfc573",
   "metadata": {},
   "source": [
    "nombre_infected       639\n",
    "nombre_sain          2714\n",
    "nombre_exposed        379\n",
    "nombre_recovered    16268\n",
    "Name: 323, dtype: int64"
   ]
  },
  {
   "cell_type": "markdown",
   "id": "0862e3b9",
   "metadata": {},
   "source": [
    "nombre_infected       647\n",
    "nombre_sain          2714\n",
    "nombre_exposed        379\n",
    "nombre_recovered    16260\n",
    "Name: 324, dtype: int64"
   ]
  },
  {
   "cell_type": "markdown",
   "id": "4102b747",
   "metadata": {},
   "source": [
    "nombre_infected       669\n",
    "nombre_sain          2746\n",
    "nombre_exposed        359\n",
    "nombre_recovered    16226\n",
    "Name: 325, dtype: int64"
   ]
  },
  {
   "cell_type": "markdown",
   "id": "2ffa6427",
   "metadata": {},
   "source": [
    "nombre_infected       690\n",
    "nombre_sain          2733\n",
    "nombre_exposed        378\n",
    "nombre_recovered    16199\n",
    "Name: 326, dtype: int64"
   ]
  },
  {
   "cell_type": "markdown",
   "id": "6dcf690a",
   "metadata": {},
   "source": [
    "nombre_infected       682\n",
    "nombre_sain          2721\n",
    "nombre_exposed        388\n",
    "nombre_recovered    16209\n",
    "Name: 327, dtype: int64"
   ]
  },
  {
   "cell_type": "markdown",
   "id": "113166ee",
   "metadata": {},
   "source": [
    "nombre_infected       690\n",
    "nombre_sain          2733\n",
    "nombre_exposed        399\n",
    "nombre_recovered    16178\n",
    "Name: 328, dtype: int64"
   ]
  },
  {
   "cell_type": "markdown",
   "id": "a03a5b78",
   "metadata": {},
   "source": [
    "nombre_infected       721\n",
    "nombre_sain          2747\n",
    "nombre_exposed        408\n",
    "nombre_recovered    16124\n",
    "Name: 329, dtype: int64"
   ]
  },
  {
   "cell_type": "markdown",
   "id": "5d3b9479",
   "metadata": {},
   "source": [
    "nombre_infected       732\n",
    "nombre_sain          2732\n",
    "nombre_exposed        426\n",
    "nombre_recovered    16110\n",
    "Name: 330, dtype: int64"
   ]
  },
  {
   "cell_type": "markdown",
   "id": "33645ebf",
   "metadata": {},
   "source": [
    "nombre_infected       716\n",
    "nombre_sain          2729\n",
    "nombre_exposed        438\n",
    "nombre_recovered    16117\n",
    "Name: 331, dtype: int64"
   ]
  },
  {
   "cell_type": "markdown",
   "id": "9c31aefd",
   "metadata": {},
   "source": [
    "nombre_infected       727\n",
    "nombre_sain          2722\n",
    "nombre_exposed        447\n",
    "nombre_recovered    16104\n",
    "Name: 332, dtype: int64"
   ]
  },
  {
   "cell_type": "markdown",
   "id": "337cbaaf",
   "metadata": {},
   "source": [
    "nombre_infected       743\n",
    "nombre_sain          2693\n",
    "nombre_exposed        463\n",
    "nombre_recovered    16101\n",
    "Name: 333, dtype: int64"
   ]
  },
  {
   "cell_type": "markdown",
   "id": "f0fed6c3",
   "metadata": {},
   "source": [
    "nombre_infected       748\n",
    "nombre_sain          2675\n",
    "nombre_exposed        464\n",
    "nombre_recovered    16113\n",
    "Name: 334, dtype: int64"
   ]
  },
  {
   "cell_type": "markdown",
   "id": "0e77d9e8",
   "metadata": {},
   "source": [
    "nombre_infected       772\n",
    "nombre_sain          2663\n",
    "nombre_exposed        478\n",
    "nombre_recovered    16087\n",
    "Name: 335, dtype: int64"
   ]
  },
  {
   "cell_type": "markdown",
   "id": "cdc25585",
   "metadata": {},
   "source": [
    "nombre_infected       791\n",
    "nombre_sain          2642\n",
    "nombre_exposed        475\n",
    "nombre_recovered    16092\n",
    "Name: 336, dtype: int64"
   ]
  },
  {
   "cell_type": "markdown",
   "id": "c2c99bfd",
   "metadata": {},
   "source": [
    "nombre_infected       792\n",
    "nombre_sain          2642\n",
    "nombre_exposed        478\n",
    "nombre_recovered    16088\n",
    "Name: 337, dtype: int64"
   ]
  },
  {
   "cell_type": "markdown",
   "id": "4c4c78a6",
   "metadata": {},
   "source": [
    "nombre_infected       815\n",
    "nombre_sain          2609\n",
    "nombre_exposed        493\n",
    "nombre_recovered    16083\n",
    "Name: 338, dtype: int64"
   ]
  },
  {
   "cell_type": "markdown",
   "id": "be58f3f8",
   "metadata": {},
   "source": [
    "nombre_infected       826\n",
    "nombre_sain          2604\n",
    "nombre_exposed        487\n",
    "nombre_recovered    16083\n",
    "Name: 339, dtype: int64"
   ]
  },
  {
   "cell_type": "markdown",
   "id": "57a2cd6d",
   "metadata": {},
   "source": [
    "nombre_infected       854\n",
    "nombre_sain          2579\n",
    "nombre_exposed        474\n",
    "nombre_recovered    16093\n",
    "Name: 340, dtype: int64"
   ]
  },
  {
   "cell_type": "markdown",
   "id": "a45f5278",
   "metadata": {},
   "source": [
    "nombre_infected       848\n",
    "nombre_sain          2546\n",
    "nombre_exposed        489\n",
    "nombre_recovered    16117\n",
    "Name: 341, dtype: int64"
   ]
  },
  {
   "cell_type": "markdown",
   "id": "3d95c103",
   "metadata": {},
   "source": [
    "nombre_infected       853\n",
    "nombre_sain          2544\n",
    "nombre_exposed        508\n",
    "nombre_recovered    16095\n",
    "Name: 342, dtype: int64"
   ]
  },
  {
   "cell_type": "markdown",
   "id": "3ce6126c",
   "metadata": {},
   "source": [
    "nombre_infected       855\n",
    "nombre_sain          2533\n",
    "nombre_exposed        524\n",
    "nombre_recovered    16088\n",
    "Name: 343, dtype: int64"
   ]
  },
  {
   "cell_type": "markdown",
   "id": "bc8db894",
   "metadata": {},
   "source": [
    "nombre_infected       876\n",
    "nombre_sain          2520\n",
    "nombre_exposed        506\n",
    "nombre_recovered    16098\n",
    "Name: 344, dtype: int64"
   ]
  },
  {
   "cell_type": "markdown",
   "id": "c1837ad7",
   "metadata": {},
   "source": [
    "nombre_infected       876\n",
    "nombre_sain          2522\n",
    "nombre_exposed        501\n",
    "nombre_recovered    16101\n",
    "Name: 345, dtype: int64"
   ]
  },
  {
   "cell_type": "markdown",
   "id": "dafbb064",
   "metadata": {},
   "source": [
    "nombre_infected       881\n",
    "nombre_sain          2524\n",
    "nombre_exposed        505\n",
    "nombre_recovered    16090\n",
    "Name: 346, dtype: int64"
   ]
  },
  {
   "cell_type": "markdown",
   "id": "deb17a26",
   "metadata": {},
   "source": [
    "nombre_infected       894\n",
    "nombre_sain          2499\n",
    "nombre_exposed        499\n",
    "nombre_recovered    16108\n",
    "Name: 347, dtype: int64"
   ]
  },
  {
   "cell_type": "markdown",
   "id": "383c390f",
   "metadata": {},
   "source": [
    "nombre_infected       889\n",
    "nombre_sain          2485\n",
    "nombre_exposed        511\n",
    "nombre_recovered    16115\n",
    "Name: 348, dtype: int64"
   ]
  },
  {
   "cell_type": "markdown",
   "id": "1429d07e",
   "metadata": {},
   "source": [
    "nombre_infected       915\n",
    "nombre_sain          2461\n",
    "nombre_exposed        493\n",
    "nombre_recovered    16131\n",
    "Name: 349, dtype: int64"
   ]
  },
  {
   "cell_type": "markdown",
   "id": "667f12d3",
   "metadata": {},
   "source": [
    "nombre_infected       907\n",
    "nombre_sain          2471\n",
    "nombre_exposed        481\n",
    "nombre_recovered    16141\n",
    "Name: 350, dtype: int64"
   ]
  },
  {
   "cell_type": "markdown",
   "id": "2b40cab6",
   "metadata": {},
   "source": [
    "nombre_infected       908\n",
    "nombre_sain          2447\n",
    "nombre_exposed        509\n",
    "nombre_recovered    16136\n",
    "Name: 351, dtype: int64"
   ]
  },
  {
   "cell_type": "markdown",
   "id": "84fd7392",
   "metadata": {},
   "source": [
    "nombre_infected       904\n",
    "nombre_sain          2438\n",
    "nombre_exposed        503\n",
    "nombre_recovered    16155\n",
    "Name: 352, dtype: int64"
   ]
  },
  {
   "cell_type": "markdown",
   "id": "af8b1b15",
   "metadata": {},
   "source": [
    "nombre_infected       906\n",
    "nombre_sain          2447\n",
    "nombre_exposed        499\n",
    "nombre_recovered    16148\n",
    "Name: 353, dtype: int64"
   ]
  },
  {
   "cell_type": "markdown",
   "id": "96a40e65",
   "metadata": {},
   "source": [
    "nombre_infected       901\n",
    "nombre_sain          2461\n",
    "nombre_exposed        496\n",
    "nombre_recovered    16142\n",
    "Name: 354, dtype: int64"
   ]
  },
  {
   "cell_type": "markdown",
   "id": "1610c410",
   "metadata": {},
   "source": [
    "nombre_infected       906\n",
    "nombre_sain          2458\n",
    "nombre_exposed        519\n",
    "nombre_recovered    16117\n",
    "Name: 355, dtype: int64"
   ]
  },
  {
   "cell_type": "markdown",
   "id": "5d4fb965",
   "metadata": {},
   "source": [
    "nombre_infected       889\n",
    "nombre_sain          2460\n",
    "nombre_exposed        524\n",
    "nombre_recovered    16127\n",
    "Name: 356, dtype: int64"
   ]
  },
  {
   "cell_type": "markdown",
   "id": "dd546b7b",
   "metadata": {},
   "source": [
    "nombre_infected       894\n",
    "nombre_sain          2467\n",
    "nombre_exposed        520\n",
    "nombre_recovered    16119\n",
    "Name: 357, dtype: int64"
   ]
  },
  {
   "cell_type": "markdown",
   "id": "bfdab6e8",
   "metadata": {},
   "source": [
    "nombre_infected       879\n",
    "nombre_sain          2468\n",
    "nombre_exposed        505\n",
    "nombre_recovered    16148\n",
    "Name: 358, dtype: int64"
   ]
  },
  {
   "cell_type": "markdown",
   "id": "bb8539df",
   "metadata": {},
   "source": [
    "nombre_infected       879\n",
    "nombre_sain          2476\n",
    "nombre_exposed        516\n",
    "nombre_recovered    16129\n",
    "Name: 359, dtype: int64"
   ]
  },
  {
   "cell_type": "markdown",
   "id": "d052b717",
   "metadata": {},
   "source": [
    "nombre_infected       879\n",
    "nombre_sain          2493\n",
    "nombre_exposed        515\n",
    "nombre_recovered    16113\n",
    "Name: 360, dtype: int64"
   ]
  },
  {
   "cell_type": "markdown",
   "id": "51e96551",
   "metadata": {},
   "source": [
    "nombre_infected       884\n",
    "nombre_sain          2466\n",
    "nombre_exposed        539\n",
    "nombre_recovered    16111\n",
    "Name: 361, dtype: int64"
   ]
  },
  {
   "cell_type": "markdown",
   "id": "2b510d9a",
   "metadata": {},
   "source": [
    "nombre_infected       899\n",
    "nombre_sain          2437\n",
    "nombre_exposed        554\n",
    "nombre_recovered    16110\n",
    "Name: 362, dtype: int64"
   ]
  },
  {
   "cell_type": "markdown",
   "id": "5b2bbd57",
   "metadata": {},
   "source": [
    "nombre_infected       888\n",
    "nombre_sain          2476\n",
    "nombre_exposed        540\n",
    "nombre_recovered    16096\n",
    "Name: 363, dtype: int64"
   ]
  },
  {
   "cell_type": "markdown",
   "id": "57bd639e",
   "metadata": {},
   "source": [
    "nombre_infected       872\n",
    "nombre_sain          2469\n",
    "nombre_exposed        531\n",
    "nombre_recovered    16128\n",
    "Name: 364, dtype: int64"
   ]
  },
  {
   "cell_type": "markdown",
   "id": "05cd55f2",
   "metadata": {},
   "source": [
    "nombre_infected       885\n",
    "nombre_sain          2473\n",
    "nombre_exposed        523\n",
    "nombre_recovered    16119\n",
    "Name: 365, dtype: int64"
   ]
  },
  {
   "cell_type": "markdown",
   "id": "0534d4a6",
   "metadata": {},
   "source": [
    "nombre_infected       896\n",
    "nombre_sain          2468\n",
    "nombre_exposed        519\n",
    "nombre_recovered    16117\n",
    "Name: 366, dtype: int64"
   ]
  },
  {
   "cell_type": "markdown",
   "id": "134f8a98",
   "metadata": {},
   "source": [
    "nombre_infected       915\n",
    "nombre_sain          2450\n",
    "nombre_exposed        511\n",
    "nombre_recovered    16124\n",
    "Name: 367, dtype: int64"
   ]
  },
  {
   "cell_type": "markdown",
   "id": "0f1d6111",
   "metadata": {},
   "source": [
    "nombre_infected       903\n",
    "nombre_sain          2478\n",
    "nombre_exposed        509\n",
    "nombre_recovered    16110\n",
    "Name: 368, dtype: int64"
   ]
  },
  {
   "cell_type": "markdown",
   "id": "0c209ce4",
   "metadata": {},
   "source": [
    "nombre_infected       902\n",
    "nombre_sain          2473\n",
    "nombre_exposed        510\n",
    "nombre_recovered    16115\n",
    "Name: 369, dtype: int64"
   ]
  },
  {
   "cell_type": "markdown",
   "id": "0026af51",
   "metadata": {},
   "source": [
    "nombre_infected       911\n",
    "nombre_sain          2476\n",
    "nombre_exposed        500\n",
    "nombre_recovered    16113\n",
    "Name: 370, dtype: int64"
   ]
  },
  {
   "cell_type": "markdown",
   "id": "10e58564",
   "metadata": {},
   "source": [
    "nombre_infected       903\n",
    "nombre_sain          2487\n",
    "nombre_exposed        502\n",
    "nombre_recovered    16108\n",
    "Name: 371, dtype: int64"
   ]
  },
  {
   "cell_type": "markdown",
   "id": "e16527a0",
   "metadata": {},
   "source": [
    "nombre_infected       910\n",
    "nombre_sain          2497\n",
    "nombre_exposed        485\n",
    "nombre_recovered    16108\n",
    "Name: 372, dtype: int64"
   ]
  },
  {
   "cell_type": "markdown",
   "id": "16db892c",
   "metadata": {},
   "source": [
    "nombre_infected       896\n",
    "nombre_sain          2527\n",
    "nombre_exposed        485\n",
    "nombre_recovered    16092\n",
    "Name: 373, dtype: int64"
   ]
  },
  {
   "cell_type": "markdown",
   "id": "b160a16e",
   "metadata": {},
   "source": [
    "nombre_infected       908\n",
    "nombre_sain          2521\n",
    "nombre_exposed        491\n",
    "nombre_recovered    16080\n",
    "Name: 374, dtype: int64"
   ]
  },
  {
   "cell_type": "markdown",
   "id": "b182cae3",
   "metadata": {},
   "source": [
    "nombre_infected       895\n",
    "nombre_sain          2527\n",
    "nombre_exposed        503\n",
    "nombre_recovered    16075\n",
    "Name: 375, dtype: int64"
   ]
  },
  {
   "cell_type": "markdown",
   "id": "4d079c25",
   "metadata": {},
   "source": [
    "nombre_infected       903\n",
    "nombre_sain          2519\n",
    "nombre_exposed        514\n",
    "nombre_recovered    16064\n",
    "Name: 376, dtype: int64"
   ]
  },
  {
   "cell_type": "markdown",
   "id": "35cd6cd4",
   "metadata": {},
   "source": [
    "nombre_infected       876\n",
    "nombre_sain          2497\n",
    "nombre_exposed        533\n",
    "nombre_recovered    16094\n",
    "Name: 377, dtype: int64"
   ]
  },
  {
   "cell_type": "markdown",
   "id": "0fca4f3c",
   "metadata": {},
   "source": [
    "nombre_infected       888\n",
    "nombre_sain          2469\n",
    "nombre_exposed        554\n",
    "nombre_recovered    16089\n",
    "Name: 378, dtype: int64"
   ]
  },
  {
   "cell_type": "markdown",
   "id": "09b796ec",
   "metadata": {},
   "source": [
    "nombre_infected       923\n",
    "nombre_sain          2477\n",
    "nombre_exposed        527\n",
    "nombre_recovered    16073\n",
    "Name: 379, dtype: int64"
   ]
  },
  {
   "cell_type": "markdown",
   "id": "4962a332",
   "metadata": {},
   "source": [
    "nombre_infected       937\n",
    "nombre_sain          2479\n",
    "nombre_exposed        534\n",
    "nombre_recovered    16050\n",
    "Name: 380, dtype: int64"
   ]
  },
  {
   "cell_type": "markdown",
   "id": "445f346b",
   "metadata": {},
   "source": [
    "nombre_infected       936\n",
    "nombre_sain          2472\n",
    "nombre_exposed        528\n",
    "nombre_recovered    16064\n",
    "Name: 381, dtype: int64"
   ]
  },
  {
   "cell_type": "markdown",
   "id": "ab12ccbf",
   "metadata": {},
   "source": [
    "nombre_infected       940\n",
    "nombre_sain          2455\n",
    "nombre_exposed        547\n",
    "nombre_recovered    16058\n",
    "Name: 382, dtype: int64"
   ]
  },
  {
   "cell_type": "markdown",
   "id": "059bca04",
   "metadata": {},
   "source": [
    "nombre_infected       938\n",
    "nombre_sain          2454\n",
    "nombre_exposed        533\n",
    "nombre_recovered    16075\n",
    "Name: 383, dtype: int64"
   ]
  },
  {
   "cell_type": "markdown",
   "id": "da02bf5e",
   "metadata": {},
   "source": [
    "nombre_infected       935\n",
    "nombre_sain          2468\n",
    "nombre_exposed        538\n",
    "nombre_recovered    16059\n",
    "Name: 384, dtype: int64"
   ]
  },
  {
   "cell_type": "markdown",
   "id": "fbdf9c17",
   "metadata": {},
   "source": [
    "nombre_infected       948\n",
    "nombre_sain          2460\n",
    "nombre_exposed        537\n",
    "nombre_recovered    16055\n",
    "Name: 385, dtype: int64"
   ]
  },
  {
   "cell_type": "markdown",
   "id": "620d3af5",
   "metadata": {},
   "source": [
    "nombre_infected       956\n",
    "nombre_sain          2472\n",
    "nombre_exposed        519\n",
    "nombre_recovered    16053\n",
    "Name: 386, dtype: int64"
   ]
  },
  {
   "cell_type": "markdown",
   "id": "2b170096",
   "metadata": {},
   "source": [
    "nombre_infected       926\n",
    "nombre_sain          2456\n",
    "nombre_exposed        542\n",
    "nombre_recovered    16076\n",
    "Name: 387, dtype: int64"
   ]
  },
  {
   "cell_type": "markdown",
   "id": "92f657bb",
   "metadata": {},
   "source": [
    "nombre_infected       934\n",
    "nombre_sain          2421\n",
    "nombre_exposed        565\n",
    "nombre_recovered    16080\n",
    "Name: 388, dtype: int64"
   ]
  },
  {
   "cell_type": "markdown",
   "id": "fec31be0",
   "metadata": {},
   "source": [
    "nombre_infected       955\n",
    "nombre_sain          2420\n",
    "nombre_exposed        547\n",
    "nombre_recovered    16078\n",
    "Name: 389, dtype: int64"
   ]
  },
  {
   "cell_type": "markdown",
   "id": "41e3ae28",
   "metadata": {},
   "source": [
    "nombre_infected       967\n",
    "nombre_sain          2410\n",
    "nombre_exposed        560\n",
    "nombre_recovered    16063\n",
    "Name: 390, dtype: int64"
   ]
  },
  {
   "cell_type": "markdown",
   "id": "6c08984b",
   "metadata": {},
   "source": [
    "nombre_infected       939\n",
    "nombre_sain          2371\n",
    "nombre_exposed        606\n",
    "nombre_recovered    16084\n",
    "Name: 391, dtype: int64"
   ]
  },
  {
   "cell_type": "markdown",
   "id": "ae8997d9",
   "metadata": {},
   "source": [
    "nombre_infected       948\n",
    "nombre_sain          2361\n",
    "nombre_exposed        599\n",
    "nombre_recovered    16092\n",
    "Name: 392, dtype: int64"
   ]
  },
  {
   "cell_type": "markdown",
   "id": "891677f0",
   "metadata": {},
   "source": [
    "nombre_infected       948\n",
    "nombre_sain          2328\n",
    "nombre_exposed        618\n",
    "nombre_recovered    16106\n",
    "Name: 393, dtype: int64"
   ]
  },
  {
   "cell_type": "markdown",
   "id": "a3dd5b54",
   "metadata": {},
   "source": [
    "nombre_infected       959\n",
    "nombre_sain          2315\n",
    "nombre_exposed        615\n",
    "nombre_recovered    16111\n",
    "Name: 394, dtype: int64"
   ]
  },
  {
   "cell_type": "markdown",
   "id": "bdc2f127",
   "metadata": {},
   "source": [
    "nombre_infected       971\n",
    "nombre_sain          2294\n",
    "nombre_exposed        580\n",
    "nombre_recovered    16155\n",
    "Name: 395, dtype: int64"
   ]
  },
  {
   "cell_type": "markdown",
   "id": "723f7dbd",
   "metadata": {},
   "source": [
    "nombre_infected      1002\n",
    "nombre_sain          2291\n",
    "nombre_exposed        546\n",
    "nombre_recovered    16161\n",
    "Name: 396, dtype: int64"
   ]
  },
  {
   "cell_type": "markdown",
   "id": "f05e7ef3",
   "metadata": {},
   "source": [
    "nombre_infected      1006\n",
    "nombre_sain          2257\n",
    "nombre_exposed        559\n",
    "nombre_recovered    16178\n",
    "Name: 397, dtype: int64"
   ]
  },
  {
   "cell_type": "markdown",
   "id": "35d0a116",
   "metadata": {},
   "source": [
    "nombre_infected       974\n",
    "nombre_sain          2240\n",
    "nombre_exposed        591\n",
    "nombre_recovered    16195\n",
    "Name: 398, dtype: int64"
   ]
  },
  {
   "cell_type": "markdown",
   "id": "d2b7f62d",
   "metadata": {},
   "source": [
    "nombre_infected       988\n",
    "nombre_sain          2248\n",
    "nombre_exposed        582\n",
    "nombre_recovered    16182\n",
    "Name: 399, dtype: int64"
   ]
  },
  {
   "cell_type": "markdown",
   "id": "e6e441cc",
   "metadata": {},
   "source": [
    "nombre_infected       991\n",
    "nombre_sain          2266\n",
    "nombre_exposed        557\n",
    "nombre_recovered    16186\n",
    "Name: 400, dtype: int64"
   ]
  },
  {
   "cell_type": "markdown",
   "id": "a1dae34b",
   "metadata": {},
   "source": [
    "nombre_infected       995\n",
    "nombre_sain          2243\n",
    "nombre_exposed        546\n",
    "nombre_recovered    16216\n",
    "Name: 401, dtype: int64"
   ]
  },
  {
   "cell_type": "markdown",
   "id": "06f6d1ed",
   "metadata": {},
   "source": [
    "nombre_infected      1003\n",
    "nombre_sain          2236\n",
    "nombre_exposed        547\n",
    "nombre_recovered    16214\n",
    "Name: 402, dtype: int64"
   ]
  },
  {
   "cell_type": "markdown",
   "id": "61dac79d",
   "metadata": {},
   "source": [
    "nombre_infected      1027\n",
    "nombre_sain          2229\n",
    "nombre_exposed        531\n",
    "nombre_recovered    16213\n",
    "Name: 403, dtype: int64"
   ]
  },
  {
   "cell_type": "markdown",
   "id": "50c1b922",
   "metadata": {},
   "source": [
    "nombre_infected      1010\n",
    "nombre_sain          2213\n",
    "nombre_exposed        548\n",
    "nombre_recovered    16229\n",
    "Name: 404, dtype: int64"
   ]
  },
  {
   "cell_type": "markdown",
   "id": "c06a86d6",
   "metadata": {},
   "source": [
    "nombre_infected       997\n",
    "nombre_sain          2195\n",
    "nombre_exposed        558\n",
    "nombre_recovered    16250\n",
    "Name: 405, dtype: int64"
   ]
  },
  {
   "cell_type": "markdown",
   "id": "79b34a2f",
   "metadata": {},
   "source": [
    "nombre_infected       992\n",
    "nombre_sain          2205\n",
    "nombre_exposed        559\n",
    "nombre_recovered    16244\n",
    "Name: 406, dtype: int64"
   ]
  },
  {
   "cell_type": "markdown",
   "id": "2e0bfbb0",
   "metadata": {},
   "source": [
    "nombre_infected      1002\n",
    "nombre_sain          2196\n",
    "nombre_exposed        542\n",
    "nombre_recovered    16260\n",
    "Name: 407, dtype: int64"
   ]
  },
  {
   "cell_type": "markdown",
   "id": "c792e36a",
   "metadata": {},
   "source": [
    "nombre_infected      1011\n",
    "nombre_sain          2175\n",
    "nombre_exposed        543\n",
    "nombre_recovered    16271\n",
    "Name: 408, dtype: int64"
   ]
  },
  {
   "cell_type": "markdown",
   "id": "eb1c625e",
   "metadata": {},
   "source": [
    "nombre_infected      1015\n",
    "nombre_sain          2151\n",
    "nombre_exposed        548\n",
    "nombre_recovered    16286\n",
    "Name: 409, dtype: int64"
   ]
  },
  {
   "cell_type": "markdown",
   "id": "928be59f",
   "metadata": {},
   "source": [
    "nombre_infected      1038\n",
    "nombre_sain          2125\n",
    "nombre_exposed        522\n",
    "nombre_recovered    16315\n",
    "Name: 410, dtype: int64"
   ]
  },
  {
   "cell_type": "markdown",
   "id": "93bca739",
   "metadata": {},
   "source": [
    "nombre_infected      1039\n",
    "nombre_sain          2109\n",
    "nombre_exposed        508\n",
    "nombre_recovered    16344\n",
    "Name: 411, dtype: int64"
   ]
  },
  {
   "cell_type": "markdown",
   "id": "9c1b95a6",
   "metadata": {},
   "source": [
    "nombre_infected      1076\n",
    "nombre_sain          2107\n",
    "nombre_exposed        472\n",
    "nombre_recovered    16345\n",
    "Name: 412, dtype: int64"
   ]
  },
  {
   "cell_type": "markdown",
   "id": "b8009f97",
   "metadata": {},
   "source": [
    "nombre_infected      1032\n",
    "nombre_sain          2108\n",
    "nombre_exposed        469\n",
    "nombre_recovered    16391\n",
    "Name: 413, dtype: int64"
   ]
  },
  {
   "cell_type": "markdown",
   "id": "7bc498c3",
   "metadata": {},
   "source": [
    "nombre_infected      1029\n",
    "nombre_sain          2060\n",
    "nombre_exposed        479\n",
    "nombre_recovered    16432\n",
    "Name: 414, dtype: int64"
   ]
  },
  {
   "cell_type": "markdown",
   "id": "2eb2fc71",
   "metadata": {},
   "source": [
    "nombre_infected      1025\n",
    "nombre_sain          2038\n",
    "nombre_exposed        502\n",
    "nombre_recovered    16435\n",
    "Name: 415, dtype: int64"
   ]
  },
  {
   "cell_type": "markdown",
   "id": "2655f0b6",
   "metadata": {},
   "source": [
    "nombre_infected      1013\n",
    "nombre_sain          2043\n",
    "nombre_exposed        492\n",
    "nombre_recovered    16452\n",
    "Name: 416, dtype: int64"
   ]
  },
  {
   "cell_type": "markdown",
   "id": "9ad13cc8",
   "metadata": {},
   "source": [
    "nombre_infected       981\n",
    "nombre_sain          2048\n",
    "nombre_exposed        485\n",
    "nombre_recovered    16486\n",
    "Name: 417, dtype: int64"
   ]
  },
  {
   "cell_type": "markdown",
   "id": "171a9dc8",
   "metadata": {},
   "source": [
    "nombre_infected      1003\n",
    "nombre_sain          2045\n",
    "nombre_exposed        462\n",
    "nombre_recovered    16490\n",
    "Name: 418, dtype: int64"
   ]
  },
  {
   "cell_type": "markdown",
   "id": "0d15d99a",
   "metadata": {},
   "source": [
    "nombre_infected       980\n",
    "nombre_sain          2058\n",
    "nombre_exposed        483\n",
    "nombre_recovered    16479\n",
    "Name: 419, dtype: int64"
   ]
  },
  {
   "cell_type": "markdown",
   "id": "8134a51f",
   "metadata": {},
   "source": [
    "nombre_infected       968\n",
    "nombre_sain          2065\n",
    "nombre_exposed        486\n",
    "nombre_recovered    16481\n",
    "Name: 420, dtype: int64"
   ]
  },
  {
   "cell_type": "markdown",
   "id": "2a996f35",
   "metadata": {},
   "source": [
    "nombre_infected       937\n",
    "nombre_sain          2076\n",
    "nombre_exposed        506\n",
    "nombre_recovered    16481\n",
    "Name: 421, dtype: int64"
   ]
  },
  {
   "cell_type": "markdown",
   "id": "3feec993",
   "metadata": {},
   "source": [
    "nombre_infected       944\n",
    "nombre_sain          2105\n",
    "nombre_exposed        468\n",
    "nombre_recovered    16483\n",
    "Name: 422, dtype: int64"
   ]
  },
  {
   "cell_type": "markdown",
   "id": "c0b507bc",
   "metadata": {},
   "source": [
    "nombre_infected       937\n",
    "nombre_sain          2090\n",
    "nombre_exposed        477\n",
    "nombre_recovered    16496\n",
    "Name: 423, dtype: int64"
   ]
  },
  {
   "cell_type": "markdown",
   "id": "0a814aec",
   "metadata": {},
   "source": [
    "nombre_infected       917\n",
    "nombre_sain          2076\n",
    "nombre_exposed        491\n",
    "nombre_recovered    16516\n",
    "Name: 424, dtype: int64"
   ]
  },
  {
   "cell_type": "markdown",
   "id": "7d102032",
   "metadata": {},
   "source": [
    "nombre_infected       910\n",
    "nombre_sain          2071\n",
    "nombre_exposed        494\n",
    "nombre_recovered    16525\n",
    "Name: 425, dtype: int64"
   ]
  },
  {
   "cell_type": "markdown",
   "id": "570b4a89",
   "metadata": {},
   "source": [
    "nombre_infected       908\n",
    "nombre_sain          2086\n",
    "nombre_exposed        482\n",
    "nombre_recovered    16524\n",
    "Name: 426, dtype: int64"
   ]
  },
  {
   "cell_type": "markdown",
   "id": "dbf0e87a",
   "metadata": {},
   "source": [
    "nombre_infected       917\n",
    "nombre_sain          2118\n",
    "nombre_exposed        459\n",
    "nombre_recovered    16506\n",
    "Name: 427, dtype: int64"
   ]
  },
  {
   "cell_type": "markdown",
   "id": "599b6093",
   "metadata": {},
   "source": [
    "nombre_infected       919\n",
    "nombre_sain          2110\n",
    "nombre_exposed        460\n",
    "nombre_recovered    16511\n",
    "Name: 428, dtype: int64"
   ]
  },
  {
   "cell_type": "markdown",
   "id": "8657a628",
   "metadata": {},
   "source": [
    "nombre_infected       943\n",
    "nombre_sain          2118\n",
    "nombre_exposed        438\n",
    "nombre_recovered    16501\n",
    "Name: 429, dtype: int64"
   ]
  },
  {
   "cell_type": "markdown",
   "id": "ee699616",
   "metadata": {},
   "source": [
    "nombre_infected       942\n",
    "nombre_sain          2122\n",
    "nombre_exposed        428\n",
    "nombre_recovered    16508\n",
    "Name: 430, dtype: int64"
   ]
  },
  {
   "cell_type": "markdown",
   "id": "2517cac9",
   "metadata": {},
   "source": [
    "nombre_infected       937\n",
    "nombre_sain          2133\n",
    "nombre_exposed        431\n",
    "nombre_recovered    16499\n",
    "Name: 431, dtype: int64"
   ]
  },
  {
   "cell_type": "markdown",
   "id": "a5490bfd",
   "metadata": {},
   "source": [
    "nombre_infected       911\n",
    "nombre_sain          2130\n",
    "nombre_exposed        447\n",
    "nombre_recovered    16512\n",
    "Name: 432, dtype: int64"
   ]
  },
  {
   "cell_type": "markdown",
   "id": "1e26db20",
   "metadata": {},
   "source": [
    "nombre_infected       910\n",
    "nombre_sain          2134\n",
    "nombre_exposed        458\n",
    "nombre_recovered    16498\n",
    "Name: 433, dtype: int64"
   ]
  },
  {
   "cell_type": "markdown",
   "id": "fc53b362",
   "metadata": {},
   "source": [
    "nombre_infected       896\n",
    "nombre_sain          2111\n",
    "nombre_exposed        496\n",
    "nombre_recovered    16497\n",
    "Name: 434, dtype: int64"
   ]
  },
  {
   "cell_type": "markdown",
   "id": "6927206a",
   "metadata": {},
   "source": [
    "nombre_infected       892\n",
    "nombre_sain          2130\n",
    "nombre_exposed        483\n",
    "nombre_recovered    16495\n",
    "Name: 435, dtype: int64"
   ]
  },
  {
   "cell_type": "markdown",
   "id": "b1e228a1",
   "metadata": {},
   "source": [
    "nombre_infected       908\n",
    "nombre_sain          2154\n",
    "nombre_exposed        472\n",
    "nombre_recovered    16466\n",
    "Name: 436, dtype: int64"
   ]
  },
  {
   "cell_type": "markdown",
   "id": "c162c1ad",
   "metadata": {},
   "source": [
    "nombre_infected       875\n",
    "nombre_sain          2162\n",
    "nombre_exposed        474\n",
    "nombre_recovered    16489\n",
    "Name: 437, dtype: int64"
   ]
  },
  {
   "cell_type": "markdown",
   "id": "ea66514b",
   "metadata": {},
   "source": [
    "nombre_infected       896\n",
    "nombre_sain          2145\n",
    "nombre_exposed        468\n",
    "nombre_recovered    16491\n",
    "Name: 438, dtype: int64"
   ]
  },
  {
   "cell_type": "markdown",
   "id": "93c996de",
   "metadata": {},
   "source": [
    "nombre_infected       899\n",
    "nombre_sain          2142\n",
    "nombre_exposed        484\n",
    "nombre_recovered    16475\n",
    "Name: 439, dtype: int64"
   ]
  },
  {
   "cell_type": "markdown",
   "id": "0ecef370",
   "metadata": {},
   "source": [
    "nombre_infected       890\n",
    "nombre_sain          2142\n",
    "nombre_exposed        490\n",
    "nombre_recovered    16478\n",
    "Name: 440, dtype: int64"
   ]
  },
  {
   "cell_type": "markdown",
   "id": "d8f6c801",
   "metadata": {},
   "source": [
    "nombre_infected       901\n",
    "nombre_sain          2149\n",
    "nombre_exposed        466\n",
    "nombre_recovered    16484\n",
    "Name: 441, dtype: int64"
   ]
  },
  {
   "cell_type": "markdown",
   "id": "8f5a4a01",
   "metadata": {},
   "source": [
    "nombre_infected       901\n",
    "nombre_sain          2164\n",
    "nombre_exposed        468\n",
    "nombre_recovered    16467\n",
    "Name: 442, dtype: int64"
   ]
  },
  {
   "cell_type": "markdown",
   "id": "da664edb",
   "metadata": {},
   "source": [
    "nombre_infected       878\n",
    "nombre_sain          2180\n",
    "nombre_exposed        473\n",
    "nombre_recovered    16469\n",
    "Name: 443, dtype: int64"
   ]
  },
  {
   "cell_type": "markdown",
   "id": "7d47680b",
   "metadata": {},
   "source": [
    "nombre_infected       915\n",
    "nombre_sain          2177\n",
    "nombre_exposed        458\n",
    "nombre_recovered    16450\n",
    "Name: 444, dtype: int64"
   ]
  },
  {
   "cell_type": "markdown",
   "id": "6f7ffbd0",
   "metadata": {},
   "source": [
    "nombre_infected       915\n",
    "nombre_sain          2186\n",
    "nombre_exposed        458\n",
    "nombre_recovered    16441\n",
    "Name: 445, dtype: int64"
   ]
  },
  {
   "cell_type": "markdown",
   "id": "7d22b449",
   "metadata": {},
   "source": [
    "nombre_infected       903\n",
    "nombre_sain          2206\n",
    "nombre_exposed        448\n",
    "nombre_recovered    16443\n",
    "Name: 446, dtype: int64"
   ]
  },
  {
   "cell_type": "markdown",
   "id": "11b61f15",
   "metadata": {},
   "source": [
    "nombre_infected       897\n",
    "nombre_sain          2222\n",
    "nombre_exposed        442\n",
    "nombre_recovered    16439\n",
    "Name: 447, dtype: int64"
   ]
  },
  {
   "cell_type": "markdown",
   "id": "7360530e",
   "metadata": {},
   "source": [
    "nombre_infected       889\n",
    "nombre_sain          2223\n",
    "nombre_exposed        463\n",
    "nombre_recovered    16425\n",
    "Name: 448, dtype: int64"
   ]
  },
  {
   "cell_type": "markdown",
   "id": "0d3c1290",
   "metadata": {},
   "source": [
    "nombre_infected       884\n",
    "nombre_sain          2225\n",
    "nombre_exposed        479\n",
    "nombre_recovered    16412\n",
    "Name: 449, dtype: int64"
   ]
  },
  {
   "cell_type": "markdown",
   "id": "5148087a",
   "metadata": {},
   "source": [
    "nombre_infected       849\n",
    "nombre_sain          2236\n",
    "nombre_exposed        481\n",
    "nombre_recovered    16434\n",
    "Name: 450, dtype: int64"
   ]
  },
  {
   "cell_type": "markdown",
   "id": "ab48983e",
   "metadata": {},
   "source": [
    "nombre_infected       866\n",
    "nombre_sain          2258\n",
    "nombre_exposed        473\n",
    "nombre_recovered    16403\n",
    "Name: 451, dtype: int64"
   ]
  },
  {
   "cell_type": "markdown",
   "id": "102a568d",
   "metadata": {},
   "source": [
    "nombre_infected       873\n",
    "nombre_sain          2242\n",
    "nombre_exposed        493\n",
    "nombre_recovered    16392\n",
    "Name: 452, dtype: int64"
   ]
  },
  {
   "cell_type": "markdown",
   "id": "09b9aa30",
   "metadata": {},
   "source": [
    "nombre_infected       876\n",
    "nombre_sain          2242\n",
    "nombre_exposed        497\n",
    "nombre_recovered    16385\n",
    "Name: 453, dtype: int64"
   ]
  },
  {
   "cell_type": "markdown",
   "id": "8ed9d389",
   "metadata": {},
   "source": [
    "nombre_infected       885\n",
    "nombre_sain          2247\n",
    "nombre_exposed        482\n",
    "nombre_recovered    16386\n",
    "Name: 454, dtype: int64"
   ]
  },
  {
   "cell_type": "markdown",
   "id": "48dbb489",
   "metadata": {},
   "source": [
    "nombre_infected       897\n",
    "nombre_sain          2253\n",
    "nombre_exposed        460\n",
    "nombre_recovered    16390\n",
    "Name: 455, dtype: int64"
   ]
  },
  {
   "cell_type": "markdown",
   "id": "936a7819",
   "metadata": {},
   "source": [
    "nombre_infected       901\n",
    "nombre_sain          2267\n",
    "nombre_exposed        439\n",
    "nombre_recovered    16393\n",
    "Name: 456, dtype: int64"
   ]
  },
  {
   "cell_type": "markdown",
   "id": "b37a0a62",
   "metadata": {},
   "source": [
    "nombre_infected       894\n",
    "nombre_sain          2263\n",
    "nombre_exposed        420\n",
    "nombre_recovered    16423\n",
    "Name: 457, dtype: int64"
   ]
  },
  {
   "cell_type": "markdown",
   "id": "2f781087",
   "metadata": {},
   "source": [
    "nombre_infected       893\n",
    "nombre_sain          2278\n",
    "nombre_exposed        415\n",
    "nombre_recovered    16414\n",
    "Name: 458, dtype: int64"
   ]
  },
  {
   "cell_type": "markdown",
   "id": "d5a07832",
   "metadata": {},
   "source": [
    "nombre_infected       877\n",
    "nombre_sain          2271\n",
    "nombre_exposed        433\n",
    "nombre_recovered    16419\n",
    "Name: 459, dtype: int64"
   ]
  },
  {
   "cell_type": "markdown",
   "id": "fb133336",
   "metadata": {},
   "source": [
    "nombre_infected       854\n",
    "nombre_sain          2265\n",
    "nombre_exposed        451\n",
    "nombre_recovered    16430\n",
    "Name: 460, dtype: int64"
   ]
  },
  {
   "cell_type": "markdown",
   "id": "4a36a585",
   "metadata": {},
   "source": [
    "nombre_infected       828\n",
    "nombre_sain          2282\n",
    "nombre_exposed        457\n",
    "nombre_recovered    16433\n",
    "Name: 461, dtype: int64"
   ]
  },
  {
   "cell_type": "markdown",
   "id": "77b63cbc",
   "metadata": {},
   "source": [
    "nombre_infected       824\n",
    "nombre_sain          2309\n",
    "nombre_exposed        447\n",
    "nombre_recovered    16420\n",
    "Name: 462, dtype: int64"
   ]
  },
  {
   "cell_type": "markdown",
   "id": "528dbfaa",
   "metadata": {},
   "source": [
    "nombre_infected       833\n",
    "nombre_sain          2351\n",
    "nombre_exposed        424\n",
    "nombre_recovered    16392\n",
    "Name: 463, dtype: int64"
   ]
  },
  {
   "cell_type": "markdown",
   "id": "c106d96a",
   "metadata": {},
   "source": [
    "nombre_infected       837\n",
    "nombre_sain          2376\n",
    "nombre_exposed        424\n",
    "nombre_recovered    16363\n",
    "Name: 464, dtype: int64"
   ]
  },
  {
   "cell_type": "markdown",
   "id": "1de084ef",
   "metadata": {},
   "source": [
    "nombre_infected       851\n",
    "nombre_sain          2378\n",
    "nombre_exposed        418\n",
    "nombre_recovered    16353\n",
    "Name: 465, dtype: int64"
   ]
  },
  {
   "cell_type": "markdown",
   "id": "82bedceb",
   "metadata": {},
   "source": [
    "nombre_infected       850\n",
    "nombre_sain          2380\n",
    "nombre_exposed        441\n",
    "nombre_recovered    16329\n",
    "Name: 466, dtype: int64"
   ]
  },
  {
   "cell_type": "markdown",
   "id": "8d6005b5",
   "metadata": {},
   "source": [
    "nombre_infected       863\n",
    "nombre_sain          2381\n",
    "nombre_exposed        445\n",
    "nombre_recovered    16311\n",
    "Name: 467, dtype: int64"
   ]
  },
  {
   "cell_type": "markdown",
   "id": "d6be866b",
   "metadata": {},
   "source": [
    "nombre_infected       862\n",
    "nombre_sain          2389\n",
    "nombre_exposed        459\n",
    "nombre_recovered    16290\n",
    "Name: 468, dtype: int64"
   ]
  },
  {
   "cell_type": "markdown",
   "id": "656d3742",
   "metadata": {},
   "source": [
    "nombre_infected       875\n",
    "nombre_sain          2381\n",
    "nombre_exposed        449\n",
    "nombre_recovered    16295\n",
    "Name: 469, dtype: int64"
   ]
  },
  {
   "cell_type": "markdown",
   "id": "7d379bc7",
   "metadata": {},
   "source": [
    "nombre_infected       888\n",
    "nombre_sain          2362\n",
    "nombre_exposed        435\n",
    "nombre_recovered    16315\n",
    "Name: 470, dtype: int64"
   ]
  },
  {
   "cell_type": "markdown",
   "id": "78108b66",
   "metadata": {},
   "source": [
    "nombre_infected       905\n",
    "nombre_sain          2331\n",
    "nombre_exposed        443\n",
    "nombre_recovered    16321\n",
    "Name: 471, dtype: int64"
   ]
  },
  {
   "cell_type": "markdown",
   "id": "b154dc14",
   "metadata": {},
   "source": [
    "nombre_infected       882\n",
    "nombre_sain          2360\n",
    "nombre_exposed        471\n",
    "nombre_recovered    16287\n",
    "Name: 472, dtype: int64"
   ]
  },
  {
   "cell_type": "markdown",
   "id": "4facc2d7",
   "metadata": {},
   "source": [
    "nombre_infected       874\n",
    "nombre_sain          2387\n",
    "nombre_exposed        461\n",
    "nombre_recovered    16278\n",
    "Name: 473, dtype: int64"
   ]
  },
  {
   "cell_type": "markdown",
   "id": "5dfbca42",
   "metadata": {},
   "source": [
    "nombre_infected       856\n",
    "nombre_sain          2382\n",
    "nombre_exposed        466\n",
    "nombre_recovered    16296\n",
    "Name: 474, dtype: int64"
   ]
  },
  {
   "cell_type": "markdown",
   "id": "fab60339",
   "metadata": {},
   "source": [
    "nombre_infected       847\n",
    "nombre_sain          2387\n",
    "nombre_exposed        460\n",
    "nombre_recovered    16306\n",
    "Name: 475, dtype: int64"
   ]
  },
  {
   "cell_type": "markdown",
   "id": "73b418b1",
   "metadata": {},
   "source": [
    "nombre_infected       859\n",
    "nombre_sain          2405\n",
    "nombre_exposed        435\n",
    "nombre_recovered    16301\n",
    "Name: 476, dtype: int64"
   ]
  },
  {
   "cell_type": "markdown",
   "id": "c08dd7a8",
   "metadata": {},
   "source": [
    "nombre_infected       883\n",
    "nombre_sain          2423\n",
    "nombre_exposed        448\n",
    "nombre_recovered    16246\n",
    "Name: 477, dtype: int64"
   ]
  },
  {
   "cell_type": "markdown",
   "id": "1fc4259e",
   "metadata": {},
   "source": [
    "nombre_infected       875\n",
    "nombre_sain          2448\n",
    "nombre_exposed        453\n",
    "nombre_recovered    16224\n",
    "Name: 478, dtype: int64"
   ]
  },
  {
   "cell_type": "markdown",
   "id": "01d6e12d",
   "metadata": {},
   "source": [
    "nombre_infected       867\n",
    "nombre_sain          2458\n",
    "nombre_exposed        459\n",
    "nombre_recovered    16216\n",
    "Name: 479, dtype: int64"
   ]
  },
  {
   "cell_type": "markdown",
   "id": "998e488b",
   "metadata": {},
   "source": [
    "nombre_infected       854\n",
    "nombre_sain          2455\n",
    "nombre_exposed        463\n",
    "nombre_recovered    16228\n",
    "Name: 480, dtype: int64"
   ]
  },
  {
   "cell_type": "markdown",
   "id": "8737a15e",
   "metadata": {},
   "source": [
    "nombre_infected       876\n",
    "nombre_sain          2475\n",
    "nombre_exposed        473\n",
    "nombre_recovered    16176\n",
    "Name: 481, dtype: int64"
   ]
  },
  {
   "cell_type": "markdown",
   "id": "e6b76c27",
   "metadata": {},
   "source": [
    "nombre_infected       866\n",
    "nombre_sain          2517\n",
    "nombre_exposed        470\n",
    "nombre_recovered    16147\n",
    "Name: 482, dtype: int64"
   ]
  },
  {
   "cell_type": "markdown",
   "id": "e3d1e423",
   "metadata": {},
   "source": [
    "nombre_infected       854\n",
    "nombre_sain          2518\n",
    "nombre_exposed        480\n",
    "nombre_recovered    16148\n",
    "Name: 483, dtype: int64"
   ]
  },
  {
   "cell_type": "markdown",
   "id": "8837cd56",
   "metadata": {},
   "source": [
    "nombre_infected       861\n",
    "nombre_sain          2535\n",
    "nombre_exposed        487\n",
    "nombre_recovered    16117\n",
    "Name: 484, dtype: int64"
   ]
  },
  {
   "cell_type": "markdown",
   "id": "de70203e",
   "metadata": {},
   "source": [
    "nombre_infected       873\n",
    "nombre_sain          2517\n",
    "nombre_exposed        485\n",
    "nombre_recovered    16125\n",
    "Name: 485, dtype: int64"
   ]
  },
  {
   "cell_type": "markdown",
   "id": "713bafb4",
   "metadata": {},
   "source": [
    "nombre_infected       878\n",
    "nombre_sain          2523\n",
    "nombre_exposed        475\n",
    "nombre_recovered    16124\n",
    "Name: 486, dtype: int64"
   ]
  },
  {
   "cell_type": "markdown",
   "id": "f297a34e",
   "metadata": {},
   "source": [
    "nombre_infected       865\n",
    "nombre_sain          2548\n",
    "nombre_exposed        482\n",
    "nombre_recovered    16105\n",
    "Name: 487, dtype: int64"
   ]
  },
  {
   "cell_type": "markdown",
   "id": "be53f09b",
   "metadata": {},
   "source": [
    "nombre_infected       861\n",
    "nombre_sain          2546\n",
    "nombre_exposed        479\n",
    "nombre_recovered    16114\n",
    "Name: 488, dtype: int64"
   ]
  },
  {
   "cell_type": "markdown",
   "id": "86a0cd83",
   "metadata": {},
   "source": [
    "nombre_infected       867\n",
    "nombre_sain          2541\n",
    "nombre_exposed        501\n",
    "nombre_recovered    16091\n",
    "Name: 489, dtype: int64"
   ]
  },
  {
   "cell_type": "markdown",
   "id": "e74ea235",
   "metadata": {},
   "source": [
    "nombre_infected       852\n",
    "nombre_sain          2534\n",
    "nombre_exposed        513\n",
    "nombre_recovered    16101\n",
    "Name: 490, dtype: int64"
   ]
  },
  {
   "cell_type": "markdown",
   "id": "b1af7e69",
   "metadata": {},
   "source": [
    "nombre_infected       857\n",
    "nombre_sain          2521\n",
    "nombre_exposed        520\n",
    "nombre_recovered    16102\n",
    "Name: 491, dtype: int64"
   ]
  },
  {
   "cell_type": "markdown",
   "id": "29d4f185",
   "metadata": {},
   "source": [
    "nombre_infected       893\n",
    "nombre_sain          2523\n",
    "nombre_exposed        514\n",
    "nombre_recovered    16070\n",
    "Name: 492, dtype: int64"
   ]
  },
  {
   "cell_type": "markdown",
   "id": "0ae3b146",
   "metadata": {},
   "source": [
    "nombre_infected       903\n",
    "nombre_sain          2520\n",
    "nombre_exposed        521\n",
    "nombre_recovered    16056\n",
    "Name: 493, dtype: int64"
   ]
  },
  {
   "cell_type": "markdown",
   "id": "31825329",
   "metadata": {},
   "source": [
    "nombre_infected       931\n",
    "nombre_sain          2515\n",
    "nombre_exposed        479\n",
    "nombre_recovered    16075\n",
    "Name: 494, dtype: int64"
   ]
  },
  {
   "cell_type": "markdown",
   "id": "bf9524f0",
   "metadata": {},
   "source": [
    "nombre_infected       931\n",
    "nombre_sain          2535\n",
    "nombre_exposed        491\n",
    "nombre_recovered    16043\n",
    "Name: 495, dtype: int64"
   ]
  },
  {
   "cell_type": "markdown",
   "id": "de8d7fc3",
   "metadata": {},
   "source": [
    "nombre_infected       926\n",
    "nombre_sain          2526\n",
    "nombre_exposed        520\n",
    "nombre_recovered    16028\n",
    "Name: 496, dtype: int64"
   ]
  },
  {
   "cell_type": "markdown",
   "id": "8f93b0c1",
   "metadata": {},
   "source": [
    "nombre_infected       920\n",
    "nombre_sain          2539\n",
    "nombre_exposed        513\n",
    "nombre_recovered    16028\n",
    "Name: 497, dtype: int64"
   ]
  },
  {
   "cell_type": "markdown",
   "id": "45b34af6",
   "metadata": {},
   "source": [
    "nombre_infected       949\n",
    "nombre_sain          2497\n",
    "nombre_exposed        521\n",
    "nombre_recovered    16033\n",
    "Name: 498, dtype: int64"
   ]
  },
  {
   "cell_type": "markdown",
   "id": "06e5b567",
   "metadata": {},
   "source": [
    "nombre_infected       938\n",
    "nombre_sain          2501\n",
    "nombre_exposed        546\n",
    "nombre_recovered    16015\n",
    "Name: 499, dtype: int64"
   ]
  },
  {
   "cell_type": "markdown",
   "id": "7d1ca28e",
   "metadata": {},
   "source": [
    "nombre_infected       939\n",
    "nombre_sain          2495\n",
    "nombre_exposed        564\n",
    "nombre_recovered    16002\n",
    "Name: 500, dtype: int64"
   ]
  },
  {
   "cell_type": "markdown",
   "id": "d889f619",
   "metadata": {},
   "source": [
    "nombre_infected       945\n",
    "nombre_sain          2472\n",
    "nombre_exposed        566\n",
    "nombre_recovered    16017\n",
    "Name: 501, dtype: int64"
   ]
  },
  {
   "cell_type": "markdown",
   "id": "c5e83545",
   "metadata": {},
   "source": [
    "nombre_infected       964\n",
    "nombre_sain          2448\n",
    "nombre_exposed        555\n",
    "nombre_recovered    16033\n",
    "Name: 502, dtype: int64"
   ]
  },
  {
   "cell_type": "markdown",
   "id": "8f21d952",
   "metadata": {},
   "source": [
    "nombre_infected       979\n",
    "nombre_sain          2433\n",
    "nombre_exposed        573\n",
    "nombre_recovered    16015\n",
    "Name: 503, dtype: int64"
   ]
  },
  {
   "cell_type": "markdown",
   "id": "b7d63103",
   "metadata": {},
   "source": [
    "nombre_infected       971\n",
    "nombre_sain          2430\n",
    "nombre_exposed        562\n",
    "nombre_recovered    16037\n",
    "Name: 504, dtype: int64"
   ]
  },
  {
   "cell_type": "markdown",
   "id": "555b637c",
   "metadata": {},
   "source": [
    "nombre_infected       978\n",
    "nombre_sain          2428\n",
    "nombre_exposed        544\n",
    "nombre_recovered    16050\n",
    "Name: 505, dtype: int64"
   ]
  },
  {
   "cell_type": "markdown",
   "id": "1fc68060",
   "metadata": {},
   "source": [
    "nombre_infected       993\n",
    "nombre_sain          2441\n",
    "nombre_exposed        517\n",
    "nombre_recovered    16049\n",
    "Name: 506, dtype: int64"
   ]
  },
  {
   "cell_type": "markdown",
   "id": "c0dca477",
   "metadata": {},
   "source": [
    "nombre_infected       978\n",
    "nombre_sain          2468\n",
    "nombre_exposed        494\n",
    "nombre_recovered    16060\n",
    "Name: 507, dtype: int64"
   ]
  },
  {
   "cell_type": "markdown",
   "id": "7d388b27",
   "metadata": {},
   "source": [
    "nombre_infected       934\n",
    "nombre_sain          2470\n",
    "nombre_exposed        515\n",
    "nombre_recovered    16081\n",
    "Name: 508, dtype: int64"
   ]
  },
  {
   "cell_type": "markdown",
   "id": "96140e2a",
   "metadata": {},
   "source": [
    "nombre_infected       930\n",
    "nombre_sain          2458\n",
    "nombre_exposed        503\n",
    "nombre_recovered    16109\n",
    "Name: 509, dtype: int64"
   ]
  },
  {
   "cell_type": "markdown",
   "id": "3ab9a60f",
   "metadata": {},
   "source": [
    "nombre_infected       913\n",
    "nombre_sain          2450\n",
    "nombre_exposed        531\n",
    "nombre_recovered    16106\n",
    "Name: 510, dtype: int64"
   ]
  },
  {
   "cell_type": "markdown",
   "id": "e1148d2a",
   "metadata": {},
   "source": [
    "nombre_infected       924\n",
    "nombre_sain          2439\n",
    "nombre_exposed        531\n",
    "nombre_recovered    16106\n",
    "Name: 511, dtype: int64"
   ]
  },
  {
   "cell_type": "markdown",
   "id": "db728f9c",
   "metadata": {},
   "source": [
    "nombre_infected       926\n",
    "nombre_sain          2431\n",
    "nombre_exposed        538\n",
    "nombre_recovered    16105\n",
    "Name: 512, dtype: int64"
   ]
  },
  {
   "cell_type": "markdown",
   "id": "73b3340c",
   "metadata": {},
   "source": [
    "nombre_infected       932\n",
    "nombre_sain          2411\n",
    "nombre_exposed        549\n",
    "nombre_recovered    16108\n",
    "Name: 513, dtype: int64"
   ]
  },
  {
   "cell_type": "markdown",
   "id": "95093900",
   "metadata": {},
   "source": [
    "nombre_infected       926\n",
    "nombre_sain          2406\n",
    "nombre_exposed        561\n",
    "nombre_recovered    16107\n",
    "Name: 514, dtype: int64"
   ]
  },
  {
   "cell_type": "markdown",
   "id": "8dbceb5c",
   "metadata": {},
   "source": [
    "nombre_infected       938\n",
    "nombre_sain          2394\n",
    "nombre_exposed        567\n",
    "nombre_recovered    16101\n",
    "Name: 515, dtype: int64"
   ]
  },
  {
   "cell_type": "markdown",
   "id": "fde65def",
   "metadata": {},
   "source": [
    "nombre_infected       921\n",
    "nombre_sain          2367\n",
    "nombre_exposed        585\n",
    "nombre_recovered    16127\n",
    "Name: 516, dtype: int64"
   ]
  },
  {
   "cell_type": "markdown",
   "id": "47e7d071",
   "metadata": {},
   "source": [
    "nombre_infected       930\n",
    "nombre_sain          2365\n",
    "nombre_exposed        559\n",
    "nombre_recovered    16146\n",
    "Name: 517, dtype: int64"
   ]
  },
  {
   "cell_type": "markdown",
   "id": "99f022e2",
   "metadata": {},
   "source": [
    "nombre_infected       930\n",
    "nombre_sain          2361\n",
    "nombre_exposed        553\n",
    "nombre_recovered    16156\n",
    "Name: 518, dtype: int64"
   ]
  },
  {
   "cell_type": "markdown",
   "id": "8a5e1ebf",
   "metadata": {},
   "source": [
    "nombre_infected       938\n",
    "nombre_sain          2327\n",
    "nombre_exposed        534\n",
    "nombre_recovered    16201\n",
    "Name: 519, dtype: int64"
   ]
  },
  {
   "cell_type": "markdown",
   "id": "9908dd6a",
   "metadata": {},
   "source": [
    "nombre_infected       908\n",
    "nombre_sain          2344\n",
    "nombre_exposed        516\n",
    "nombre_recovered    16232\n",
    "Name: 520, dtype: int64"
   ]
  },
  {
   "cell_type": "markdown",
   "id": "667482d8",
   "metadata": {},
   "source": [
    "nombre_infected       900\n",
    "nombre_sain          2327\n",
    "nombre_exposed        513\n",
    "nombre_recovered    16260\n",
    "Name: 521, dtype: int64"
   ]
  },
  {
   "cell_type": "markdown",
   "id": "cb7d00d2",
   "metadata": {},
   "source": [
    "nombre_infected       889\n",
    "nombre_sain          2324\n",
    "nombre_exposed        514\n",
    "nombre_recovered    16273\n",
    "Name: 522, dtype: int64"
   ]
  },
  {
   "cell_type": "markdown",
   "id": "347c0abe",
   "metadata": {},
   "source": [
    "nombre_infected       913\n",
    "nombre_sain          2326\n",
    "nombre_exposed        503\n",
    "nombre_recovered    16258\n",
    "Name: 523, dtype: int64"
   ]
  },
  {
   "cell_type": "markdown",
   "id": "4534f9b8",
   "metadata": {},
   "source": [
    "nombre_infected       904\n",
    "nombre_sain          2342\n",
    "nombre_exposed        506\n",
    "nombre_recovered    16248\n",
    "Name: 524, dtype: int64"
   ]
  },
  {
   "cell_type": "markdown",
   "id": "e8c6806d",
   "metadata": {},
   "source": [
    "nombre_infected       911\n",
    "nombre_sain          2327\n",
    "nombre_exposed        537\n",
    "nombre_recovered    16225\n",
    "Name: 525, dtype: int64"
   ]
  },
  {
   "cell_type": "markdown",
   "id": "5a28839e",
   "metadata": {},
   "source": [
    "nombre_infected       899\n",
    "nombre_sain          2343\n",
    "nombre_exposed        544\n",
    "nombre_recovered    16214\n",
    "Name: 526, dtype: int64"
   ]
  },
  {
   "cell_type": "markdown",
   "id": "88f32ab9",
   "metadata": {},
   "source": [
    "nombre_infected       898\n",
    "nombre_sain          2349\n",
    "nombre_exposed        518\n",
    "nombre_recovered    16235\n",
    "Name: 527, dtype: int64"
   ]
  },
  {
   "cell_type": "markdown",
   "id": "16ce7ae6",
   "metadata": {},
   "source": [
    "nombre_infected       892\n",
    "nombre_sain          2385\n",
    "nombre_exposed        493\n",
    "nombre_recovered    16230\n",
    "Name: 528, dtype: int64"
   ]
  },
  {
   "cell_type": "markdown",
   "id": "30a6e0c6",
   "metadata": {},
   "source": [
    "nombre_infected       866\n",
    "nombre_sain          2397\n",
    "nombre_exposed        515\n",
    "nombre_recovered    16222\n",
    "Name: 529, dtype: int64"
   ]
  },
  {
   "cell_type": "markdown",
   "id": "6c6728fe",
   "metadata": {},
   "source": [
    "nombre_infected       902\n",
    "nombre_sain          2400\n",
    "nombre_exposed        520\n",
    "nombre_recovered    16178\n",
    "Name: 530, dtype: int64"
   ]
  },
  {
   "cell_type": "markdown",
   "id": "67e008ff",
   "metadata": {},
   "source": [
    "nombre_infected       918\n",
    "nombre_sain          2396\n",
    "nombre_exposed        539\n",
    "nombre_recovered    16147\n",
    "Name: 531, dtype: int64"
   ]
  },
  {
   "cell_type": "markdown",
   "id": "853e3dd9",
   "metadata": {},
   "source": [
    "nombre_infected       916\n",
    "nombre_sain          2426\n",
    "nombre_exposed        513\n",
    "nombre_recovered    16145\n",
    "Name: 532, dtype: int64"
   ]
  },
  {
   "cell_type": "markdown",
   "id": "307bc98b",
   "metadata": {},
   "source": [
    "nombre_infected       893\n",
    "nombre_sain          2425\n",
    "nombre_exposed        519\n",
    "nombre_recovered    16163\n",
    "Name: 533, dtype: int64"
   ]
  },
  {
   "cell_type": "markdown",
   "id": "f8d96b57",
   "metadata": {},
   "source": [
    "nombre_infected       887\n",
    "nombre_sain          2430\n",
    "nombre_exposed        532\n",
    "nombre_recovered    16151\n",
    "Name: 534, dtype: int64"
   ]
  },
  {
   "cell_type": "markdown",
   "id": "55b1e62f",
   "metadata": {},
   "source": [
    "nombre_infected       885\n",
    "nombre_sain          2419\n",
    "nombre_exposed        540\n",
    "nombre_recovered    16156\n",
    "Name: 535, dtype: int64"
   ]
  },
  {
   "cell_type": "markdown",
   "id": "fd449267",
   "metadata": {},
   "source": [
    "nombre_infected       885\n",
    "nombre_sain          2410\n",
    "nombre_exposed        536\n",
    "nombre_recovered    16169\n",
    "Name: 536, dtype: int64"
   ]
  },
  {
   "cell_type": "markdown",
   "id": "2ee23cf1",
   "metadata": {},
   "source": [
    "nombre_infected       880\n",
    "nombre_sain          2399\n",
    "nombre_exposed        535\n",
    "nombre_recovered    16186\n",
    "Name: 537, dtype: int64"
   ]
  },
  {
   "cell_type": "markdown",
   "id": "ffedd29e",
   "metadata": {},
   "source": [
    "nombre_infected       869\n",
    "nombre_sain          2429\n",
    "nombre_exposed        516\n",
    "nombre_recovered    16186\n",
    "Name: 538, dtype: int64"
   ]
  },
  {
   "cell_type": "markdown",
   "id": "c54d191d",
   "metadata": {},
   "source": [
    "nombre_infected       869\n",
    "nombre_sain          2418\n",
    "nombre_exposed        516\n",
    "nombre_recovered    16197\n",
    "Name: 539, dtype: int64"
   ]
  },
  {
   "cell_type": "markdown",
   "id": "bdd4e2f1",
   "metadata": {},
   "source": [
    "nombre_infected       863\n",
    "nombre_sain          2425\n",
    "nombre_exposed        513\n",
    "nombre_recovered    16199\n",
    "Name: 540, dtype: int64"
   ]
  },
  {
   "cell_type": "markdown",
   "id": "74ab7d65",
   "metadata": {},
   "source": [
    "nombre_infected       871\n",
    "nombre_sain          2420\n",
    "nombre_exposed        515\n",
    "nombre_recovered    16194\n",
    "Name: 541, dtype: int64"
   ]
  },
  {
   "cell_type": "markdown",
   "id": "7d4f972e",
   "metadata": {},
   "source": [
    "nombre_infected       876\n",
    "nombre_sain          2421\n",
    "nombre_exposed        493\n",
    "nombre_recovered    16210\n",
    "Name: 542, dtype: int64"
   ]
  },
  {
   "cell_type": "markdown",
   "id": "1286da49",
   "metadata": {},
   "source": [
    "nombre_infected       871\n",
    "nombre_sain          2437\n",
    "nombre_exposed        486\n",
    "nombre_recovered    16206\n",
    "Name: 543, dtype: int64"
   ]
  },
  {
   "cell_type": "markdown",
   "id": "69437b41",
   "metadata": {},
   "source": [
    "nombre_infected       869\n",
    "nombre_sain          2408\n",
    "nombre_exposed        492\n",
    "nombre_recovered    16231\n",
    "Name: 544, dtype: int64"
   ]
  },
  {
   "cell_type": "markdown",
   "id": "eef0170c",
   "metadata": {},
   "source": [
    "nombre_infected       870\n",
    "nombre_sain          2384\n",
    "nombre_exposed        490\n",
    "nombre_recovered    16256\n",
    "Name: 545, dtype: int64"
   ]
  },
  {
   "cell_type": "markdown",
   "id": "05fec4bd",
   "metadata": {},
   "source": [
    "nombre_infected       860\n",
    "nombre_sain          2384\n",
    "nombre_exposed        508\n",
    "nombre_recovered    16248\n",
    "Name: 546, dtype: int64"
   ]
  },
  {
   "cell_type": "markdown",
   "id": "aa2b67cc",
   "metadata": {},
   "source": [
    "nombre_infected       866\n",
    "nombre_sain          2381\n",
    "nombre_exposed        490\n",
    "nombre_recovered    16263\n",
    "Name: 547, dtype: int64"
   ]
  },
  {
   "cell_type": "markdown",
   "id": "7d3177fc",
   "metadata": {},
   "source": [
    "nombre_infected       888\n",
    "nombre_sain          2367\n",
    "nombre_exposed        480\n",
    "nombre_recovered    16265\n",
    "Name: 548, dtype: int64"
   ]
  },
  {
   "cell_type": "markdown",
   "id": "a8af5302",
   "metadata": {},
   "source": [
    "nombre_infected       886\n",
    "nombre_sain          2356\n",
    "nombre_exposed        493\n",
    "nombre_recovered    16265\n",
    "Name: 549, dtype: int64"
   ]
  },
  {
   "cell_type": "markdown",
   "id": "526942f5",
   "metadata": {},
   "source": [
    "nombre_infected       860\n",
    "nombre_sain          2341\n",
    "nombre_exposed        499\n",
    "nombre_recovered    16300\n",
    "Name: 550, dtype: int64"
   ]
  },
  {
   "cell_type": "markdown",
   "id": "9d950c32",
   "metadata": {},
   "source": [
    "nombre_infected       859\n",
    "nombre_sain          2337\n",
    "nombre_exposed        508\n",
    "nombre_recovered    16296\n",
    "Name: 551, dtype: int64"
   ]
  },
  {
   "cell_type": "markdown",
   "id": "c9a95103",
   "metadata": {},
   "source": [
    "nombre_infected       858\n",
    "nombre_sain          2323\n",
    "nombre_exposed        504\n",
    "nombre_recovered    16315\n",
    "Name: 552, dtype: int64"
   ]
  },
  {
   "cell_type": "markdown",
   "id": "27f20c46",
   "metadata": {},
   "source": [
    "nombre_infected       859\n",
    "nombre_sain          2298\n",
    "nombre_exposed        510\n",
    "nombre_recovered    16333\n",
    "Name: 553, dtype: int64"
   ]
  },
  {
   "cell_type": "markdown",
   "id": "89628202",
   "metadata": {},
   "source": [
    "nombre_infected       876\n",
    "nombre_sain          2292\n",
    "nombre_exposed        490\n",
    "nombre_recovered    16342\n",
    "Name: 554, dtype: int64"
   ]
  },
  {
   "cell_type": "markdown",
   "id": "6a46ded3",
   "metadata": {},
   "source": [
    "nombre_infected       866\n",
    "nombre_sain          2303\n",
    "nombre_exposed        481\n",
    "nombre_recovered    16350\n",
    "Name: 555, dtype: int64"
   ]
  },
  {
   "cell_type": "markdown",
   "id": "5ba376d7",
   "metadata": {},
   "source": [
    "nombre_infected       886\n",
    "nombre_sain          2309\n",
    "nombre_exposed        459\n",
    "nombre_recovered    16346\n",
    "Name: 556, dtype: int64"
   ]
  },
  {
   "cell_type": "markdown",
   "id": "2a4139bf",
   "metadata": {},
   "source": [
    "nombre_infected       895\n",
    "nombre_sain          2301\n",
    "nombre_exposed        463\n",
    "nombre_recovered    16341\n",
    "Name: 557, dtype: int64"
   ]
  },
  {
   "cell_type": "markdown",
   "id": "c759887e",
   "metadata": {},
   "source": [
    "nombre_infected       864\n",
    "nombre_sain          2286\n",
    "nombre_exposed        477\n",
    "nombre_recovered    16373\n",
    "Name: 558, dtype: int64"
   ]
  },
  {
   "cell_type": "markdown",
   "id": "39c5867b",
   "metadata": {},
   "source": [
    "nombre_infected       839\n",
    "nombre_sain          2292\n",
    "nombre_exposed        483\n",
    "nombre_recovered    16386\n",
    "Name: 559, dtype: int64"
   ]
  },
  {
   "cell_type": "markdown",
   "id": "2bde5667",
   "metadata": {},
   "source": [
    "nombre_infected       834\n",
    "nombre_sain          2284\n",
    "nombre_exposed        476\n",
    "nombre_recovered    16406\n",
    "Name: 560, dtype: int64"
   ]
  },
  {
   "cell_type": "markdown",
   "id": "1e8574cf",
   "metadata": {},
   "source": [
    "nombre_infected       847\n",
    "nombre_sain          2291\n",
    "nombre_exposed        460\n",
    "nombre_recovered    16402\n",
    "Name: 561, dtype: int64"
   ]
  },
  {
   "cell_type": "markdown",
   "id": "af517894",
   "metadata": {},
   "source": [
    "nombre_infected       841\n",
    "nombre_sain          2277\n",
    "nombre_exposed        467\n",
    "nombre_recovered    16415\n",
    "Name: 562, dtype: int64"
   ]
  },
  {
   "cell_type": "markdown",
   "id": "712e20e7",
   "metadata": {},
   "source": [
    "nombre_infected       840\n",
    "nombre_sain          2277\n",
    "nombre_exposed        442\n",
    "nombre_recovered    16441\n",
    "Name: 563, dtype: int64"
   ]
  },
  {
   "cell_type": "markdown",
   "id": "54f52476",
   "metadata": {},
   "source": [
    "nombre_infected       835\n",
    "nombre_sain          2296\n",
    "nombre_exposed        435\n",
    "nombre_recovered    16434\n",
    "Name: 564, dtype: int64"
   ]
  },
  {
   "cell_type": "markdown",
   "id": "786210f3",
   "metadata": {},
   "source": [
    "nombre_infected       805\n",
    "nombre_sain          2292\n",
    "nombre_exposed        446\n",
    "nombre_recovered    16457\n",
    "Name: 565, dtype: int64"
   ]
  },
  {
   "cell_type": "markdown",
   "id": "1311aa69",
   "metadata": {},
   "source": [
    "nombre_infected       796\n",
    "nombre_sain          2275\n",
    "nombre_exposed        469\n",
    "nombre_recovered    16460\n",
    "Name: 566, dtype: int64"
   ]
  },
  {
   "cell_type": "markdown",
   "id": "03e38964",
   "metadata": {},
   "source": [
    "nombre_infected       809\n",
    "nombre_sain          2268\n",
    "nombre_exposed        442\n",
    "nombre_recovered    16481\n",
    "Name: 567, dtype: int64"
   ]
  },
  {
   "cell_type": "markdown",
   "id": "d149e44a",
   "metadata": {},
   "source": [
    "nombre_infected       841\n",
    "nombre_sain          2277\n",
    "nombre_exposed        442\n",
    "nombre_recovered    16440\n",
    "Name: 568, dtype: int64"
   ]
  },
  {
   "cell_type": "markdown",
   "id": "db7e3306",
   "metadata": {},
   "source": [
    "nombre_infected       853\n",
    "nombre_sain          2282\n",
    "nombre_exposed        432\n",
    "nombre_recovered    16433\n",
    "Name: 569, dtype: int64"
   ]
  },
  {
   "cell_type": "markdown",
   "id": "d57c6d74",
   "metadata": {},
   "source": [
    "nombre_infected       830\n",
    "nombre_sain          2262\n",
    "nombre_exposed        452\n",
    "nombre_recovered    16456\n",
    "Name: 570, dtype: int64"
   ]
  },
  {
   "cell_type": "markdown",
   "id": "5ea1632b",
   "metadata": {},
   "source": [
    "nombre_infected       821\n",
    "nombre_sain          2240\n",
    "nombre_exposed        479\n",
    "nombre_recovered    16460\n",
    "Name: 571, dtype: int64"
   ]
  },
  {
   "cell_type": "markdown",
   "id": "cb6d3982",
   "metadata": {},
   "source": [
    "nombre_infected       825\n",
    "nombre_sain          2233\n",
    "nombre_exposed        472\n",
    "nombre_recovered    16470\n",
    "Name: 572, dtype: int64"
   ]
  },
  {
   "cell_type": "markdown",
   "id": "628241f1",
   "metadata": {},
   "source": [
    "nombre_infected       819\n",
    "nombre_sain          2242\n",
    "nombre_exposed        475\n",
    "nombre_recovered    16464\n",
    "Name: 573, dtype: int64"
   ]
  },
  {
   "cell_type": "markdown",
   "id": "dde68e05",
   "metadata": {},
   "source": [
    "nombre_infected       799\n",
    "nombre_sain          2234\n",
    "nombre_exposed        466\n",
    "nombre_recovered    16501\n",
    "Name: 574, dtype: int64"
   ]
  },
  {
   "cell_type": "markdown",
   "id": "f0e91f7f",
   "metadata": {},
   "source": [
    "nombre_infected       807\n",
    "nombre_sain          2267\n",
    "nombre_exposed        436\n",
    "nombre_recovered    16490\n",
    "Name: 575, dtype: int64"
   ]
  },
  {
   "cell_type": "markdown",
   "id": "e6a35449",
   "metadata": {},
   "source": [
    "nombre_infected       823\n",
    "nombre_sain          2269\n",
    "nombre_exposed        414\n",
    "nombre_recovered    16494\n",
    "Name: 576, dtype: int64"
   ]
  },
  {
   "cell_type": "markdown",
   "id": "4adfa04f",
   "metadata": {},
   "source": [
    "nombre_infected       821\n",
    "nombre_sain          2278\n",
    "nombre_exposed        411\n",
    "nombre_recovered    16490\n",
    "Name: 577, dtype: int64"
   ]
  },
  {
   "cell_type": "markdown",
   "id": "14d1f836",
   "metadata": {},
   "source": [
    "nombre_infected       805\n",
    "nombre_sain          2293\n",
    "nombre_exposed        432\n",
    "nombre_recovered    16470\n",
    "Name: 578, dtype: int64"
   ]
  },
  {
   "cell_type": "markdown",
   "id": "d0694568",
   "metadata": {},
   "source": [
    "nombre_infected       807\n",
    "nombre_sain          2277\n",
    "nombre_exposed        444\n",
    "nombre_recovered    16472\n",
    "Name: 579, dtype: int64"
   ]
  },
  {
   "cell_type": "markdown",
   "id": "cdb6d4e5",
   "metadata": {},
   "source": [
    "nombre_infected       793\n",
    "nombre_sain          2298\n",
    "nombre_exposed        449\n",
    "nombre_recovered    16460\n",
    "Name: 580, dtype: int64"
   ]
  },
  {
   "cell_type": "markdown",
   "id": "f371ed58",
   "metadata": {},
   "source": [
    "nombre_infected       812\n",
    "nombre_sain          2307\n",
    "nombre_exposed        449\n",
    "nombre_recovered    16432\n",
    "Name: 581, dtype: int64"
   ]
  },
  {
   "cell_type": "markdown",
   "id": "599f883a",
   "metadata": {},
   "source": [
    "nombre_infected       804\n",
    "nombre_sain          2331\n",
    "nombre_exposed        450\n",
    "nombre_recovered    16415\n",
    "Name: 582, dtype: int64"
   ]
  },
  {
   "cell_type": "markdown",
   "id": "2adcaaa3",
   "metadata": {},
   "source": [
    "nombre_infected       815\n",
    "nombre_sain          2355\n",
    "nombre_exposed        437\n",
    "nombre_recovered    16393\n",
    "Name: 583, dtype: int64"
   ]
  },
  {
   "cell_type": "markdown",
   "id": "39bde2cb",
   "metadata": {},
   "source": [
    "nombre_infected       811\n",
    "nombre_sain          2364\n",
    "nombre_exposed        451\n",
    "nombre_recovered    16374\n",
    "Name: 584, dtype: int64"
   ]
  },
  {
   "cell_type": "markdown",
   "id": "4093aca4",
   "metadata": {},
   "source": [
    "nombre_infected       807\n",
    "nombre_sain          2394\n",
    "nombre_exposed        456\n",
    "nombre_recovered    16343\n",
    "Name: 585, dtype: int64"
   ]
  },
  {
   "cell_type": "markdown",
   "id": "d4c4253f",
   "metadata": {},
   "source": [
    "nombre_infected       806\n",
    "nombre_sain          2412\n",
    "nombre_exposed        455\n",
    "nombre_recovered    16327\n",
    "Name: 586, dtype: int64"
   ]
  },
  {
   "cell_type": "markdown",
   "id": "012c3097",
   "metadata": {},
   "source": [
    "nombre_infected       800\n",
    "nombre_sain          2410\n",
    "nombre_exposed        470\n",
    "nombre_recovered    16320\n",
    "Name: 587, dtype: int64"
   ]
  },
  {
   "cell_type": "markdown",
   "id": "b98d1d7c",
   "metadata": {},
   "source": [
    "nombre_infected       790\n",
    "nombre_sain          2400\n",
    "nombre_exposed        498\n",
    "nombre_recovered    16312\n",
    "Name: 588, dtype: int64"
   ]
  },
  {
   "cell_type": "markdown",
   "id": "0604cfe6",
   "metadata": {},
   "source": [
    "nombre_infected       794\n",
    "nombre_sain          2412\n",
    "nombre_exposed        488\n",
    "nombre_recovered    16306\n",
    "Name: 589, dtype: int64"
   ]
  },
  {
   "cell_type": "markdown",
   "id": "dc5e89df",
   "metadata": {},
   "source": [
    "nombre_infected       810\n",
    "nombre_sain          2437\n",
    "nombre_exposed        478\n",
    "nombre_recovered    16275\n",
    "Name: 590, dtype: int64"
   ]
  },
  {
   "cell_type": "markdown",
   "id": "e5f4dff8",
   "metadata": {},
   "source": [
    "nombre_infected       817\n",
    "nombre_sain          2444\n",
    "nombre_exposed        480\n",
    "nombre_recovered    16259\n",
    "Name: 591, dtype: int64"
   ]
  },
  {
   "cell_type": "markdown",
   "id": "bffd187d",
   "metadata": {},
   "source": [
    "nombre_infected       829\n",
    "nombre_sain          2455\n",
    "nombre_exposed        479\n",
    "nombre_recovered    16237\n",
    "Name: 592, dtype: int64"
   ]
  },
  {
   "cell_type": "markdown",
   "id": "39890065",
   "metadata": {},
   "source": [
    "nombre_infected       815\n",
    "nombre_sain          2459\n",
    "nombre_exposed        490\n",
    "nombre_recovered    16236\n",
    "Name: 593, dtype: int64"
   ]
  },
  {
   "cell_type": "markdown",
   "id": "b1ef9e0f",
   "metadata": {},
   "source": [
    "nombre_infected       808\n",
    "nombre_sain          2444\n",
    "nombre_exposed        495\n",
    "nombre_recovered    16253\n",
    "Name: 594, dtype: int64"
   ]
  },
  {
   "cell_type": "markdown",
   "id": "aaa25394",
   "metadata": {},
   "source": [
    "nombre_infected       807\n",
    "nombre_sain          2435\n",
    "nombre_exposed        508\n",
    "nombre_recovered    16250\n",
    "Name: 595, dtype: int64"
   ]
  },
  {
   "cell_type": "markdown",
   "id": "6a6b78a5",
   "metadata": {},
   "source": [
    "nombre_infected       829\n",
    "nombre_sain          2438\n",
    "nombre_exposed        488\n",
    "nombre_recovered    16245\n",
    "Name: 596, dtype: int64"
   ]
  },
  {
   "cell_type": "markdown",
   "id": "5a2b6834",
   "metadata": {},
   "source": [
    "nombre_infected       845\n",
    "nombre_sain          2427\n",
    "nombre_exposed        490\n",
    "nombre_recovered    16238\n",
    "Name: 597, dtype: int64"
   ]
  },
  {
   "cell_type": "markdown",
   "id": "acba90b7",
   "metadata": {},
   "source": [
    "nombre_infected       824\n",
    "nombre_sain          2406\n",
    "nombre_exposed        503\n",
    "nombre_recovered    16267\n",
    "Name: 598, dtype: int64"
   ]
  },
  {
   "cell_type": "markdown",
   "id": "d52d3766",
   "metadata": {},
   "source": [
    "nombre_infected       841\n",
    "nombre_sain          2377\n",
    "nombre_exposed        506\n",
    "nombre_recovered    16276\n",
    "Name: 599, dtype: int64"
   ]
  },
  {
   "cell_type": "markdown",
   "id": "196c10e4",
   "metadata": {},
   "source": [
    "nombre_infected       845\n",
    "nombre_sain          2397\n",
    "nombre_exposed        507\n",
    "nombre_recovered    16251\n",
    "Name: 600, dtype: int64"
   ]
  },
  {
   "cell_type": "markdown",
   "id": "f558b9d5",
   "metadata": {},
   "source": [
    "nombre_infected       843\n",
    "nombre_sain          2370\n",
    "nombre_exposed        530\n",
    "nombre_recovered    16257\n",
    "Name: 601, dtype: int64"
   ]
  },
  {
   "cell_type": "markdown",
   "id": "88818b4e",
   "metadata": {},
   "source": [
    "nombre_infected       859\n",
    "nombre_sain          2366\n",
    "nombre_exposed        497\n",
    "nombre_recovered    16278\n",
    "Name: 602, dtype: int64"
   ]
  },
  {
   "cell_type": "markdown",
   "id": "e95d6470",
   "metadata": {},
   "source": [
    "nombre_infected       868\n",
    "nombre_sain          2344\n",
    "nombre_exposed        527\n",
    "nombre_recovered    16261\n",
    "Name: 603, dtype: int64"
   ]
  },
  {
   "cell_type": "markdown",
   "id": "bfbebbbb",
   "metadata": {},
   "source": [
    "nombre_infected       873\n",
    "nombre_sain          2324\n",
    "nombre_exposed        536\n",
    "nombre_recovered    16267\n",
    "Name: 604, dtype: int64"
   ]
  },
  {
   "cell_type": "markdown",
   "id": "dfc23a95",
   "metadata": {},
   "source": [
    "nombre_infected       889\n",
    "nombre_sain          2329\n",
    "nombre_exposed        535\n",
    "nombre_recovered    16247\n",
    "Name: 605, dtype: int64"
   ]
  },
  {
   "cell_type": "markdown",
   "id": "ba3ea10a",
   "metadata": {},
   "source": [
    "nombre_infected       922\n",
    "nombre_sain          2299\n",
    "nombre_exposed        526\n",
    "nombre_recovered    16253\n",
    "Name: 606, dtype: int64"
   ]
  },
  {
   "cell_type": "markdown",
   "id": "8600b321",
   "metadata": {},
   "source": [
    "nombre_infected       924\n",
    "nombre_sain          2292\n",
    "nombre_exposed        496\n",
    "nombre_recovered    16288\n",
    "Name: 607, dtype: int64"
   ]
  },
  {
   "cell_type": "markdown",
   "id": "1ece8294",
   "metadata": {},
   "source": [
    "nombre_infected       936\n",
    "nombre_sain          2286\n",
    "nombre_exposed        504\n",
    "nombre_recovered    16274\n",
    "Name: 608, dtype: int64"
   ]
  },
  {
   "cell_type": "markdown",
   "id": "77534abe",
   "metadata": {},
   "source": [
    "nombre_infected       959\n",
    "nombre_sain          2287\n",
    "nombre_exposed        492\n",
    "nombre_recovered    16262\n",
    "Name: 609, dtype: int64"
   ]
  },
  {
   "cell_type": "markdown",
   "id": "144edcbf",
   "metadata": {},
   "source": [
    "nombre_infected       957\n",
    "nombre_sain          2281\n",
    "nombre_exposed        507\n",
    "nombre_recovered    16255\n",
    "Name: 610, dtype: int64"
   ]
  },
  {
   "cell_type": "markdown",
   "id": "2251ecfd",
   "metadata": {},
   "source": [
    "nombre_infected       937\n",
    "nombre_sain          2300\n",
    "nombre_exposed        510\n",
    "nombre_recovered    16253\n",
    "Name: 611, dtype: int64"
   ]
  },
  {
   "cell_type": "markdown",
   "id": "e3777ce8",
   "metadata": {},
   "source": [
    "nombre_infected       947\n",
    "nombre_sain          2297\n",
    "nombre_exposed        498\n",
    "nombre_recovered    16258\n",
    "Name: 612, dtype: int64"
   ]
  },
  {
   "cell_type": "markdown",
   "id": "a510bb29",
   "metadata": {},
   "source": [
    "nombre_infected       928\n",
    "nombre_sain          2310\n",
    "nombre_exposed        495\n",
    "nombre_recovered    16267\n",
    "Name: 613, dtype: int64"
   ]
  },
  {
   "cell_type": "markdown",
   "id": "285ae555",
   "metadata": {},
   "source": [
    "nombre_infected       933\n",
    "nombre_sain          2309\n",
    "nombre_exposed        499\n",
    "nombre_recovered    16259\n",
    "Name: 614, dtype: int64"
   ]
  },
  {
   "cell_type": "markdown",
   "id": "5d5892da",
   "metadata": {},
   "source": [
    "nombre_infected       924\n",
    "nombre_sain          2313\n",
    "nombre_exposed        500\n",
    "nombre_recovered    16263\n",
    "Name: 615, dtype: int64"
   ]
  },
  {
   "cell_type": "markdown",
   "id": "03d213ac",
   "metadata": {},
   "source": [
    "nombre_infected       906\n",
    "nombre_sain          2318\n",
    "nombre_exposed        509\n",
    "nombre_recovered    16267\n",
    "Name: 616, dtype: int64"
   ]
  },
  {
   "cell_type": "markdown",
   "id": "054da40d",
   "metadata": {},
   "source": [
    "nombre_infected       889\n",
    "nombre_sain          2342\n",
    "nombre_exposed        512\n",
    "nombre_recovered    16257\n",
    "Name: 617, dtype: int64"
   ]
  },
  {
   "cell_type": "markdown",
   "id": "bd08a410",
   "metadata": {},
   "source": [
    "nombre_infected       888\n",
    "nombre_sain          2344\n",
    "nombre_exposed        508\n",
    "nombre_recovered    16260\n",
    "Name: 618, dtype: int64"
   ]
  },
  {
   "cell_type": "markdown",
   "id": "fd69072a",
   "metadata": {},
   "source": [
    "nombre_infected       871\n",
    "nombre_sain          2360\n",
    "nombre_exposed        487\n",
    "nombre_recovered    16282\n",
    "Name: 619, dtype: int64"
   ]
  },
  {
   "cell_type": "markdown",
   "id": "914d86fe",
   "metadata": {},
   "source": [
    "nombre_infected       920\n",
    "nombre_sain          2370\n",
    "nombre_exposed        475\n",
    "nombre_recovered    16235\n",
    "Name: 620, dtype: int64"
   ]
  },
  {
   "cell_type": "markdown",
   "id": "03a7cfab",
   "metadata": {},
   "source": [
    "nombre_infected       913\n",
    "nombre_sain          2375\n",
    "nombre_exposed        500\n",
    "nombre_recovered    16212\n",
    "Name: 621, dtype: int64"
   ]
  },
  {
   "cell_type": "markdown",
   "id": "d4371ce0",
   "metadata": {},
   "source": [
    "nombre_infected       930\n",
    "nombre_sain          2368\n",
    "nombre_exposed        495\n",
    "nombre_recovered    16207\n",
    "Name: 622, dtype: int64"
   ]
  },
  {
   "cell_type": "markdown",
   "id": "8feb999b",
   "metadata": {},
   "source": [
    "nombre_infected       915\n",
    "nombre_sain          2372\n",
    "nombre_exposed        501\n",
    "nombre_recovered    16212\n",
    "Name: 623, dtype: int64"
   ]
  },
  {
   "cell_type": "markdown",
   "id": "7b183935",
   "metadata": {},
   "source": [
    "nombre_infected       902\n",
    "nombre_sain          2377\n",
    "nombre_exposed        480\n",
    "nombre_recovered    16241\n",
    "Name: 624, dtype: int64"
   ]
  },
  {
   "cell_type": "markdown",
   "id": "2ebec7bb",
   "metadata": {},
   "source": [
    "nombre_infected       920\n",
    "nombre_sain          2400\n",
    "nombre_exposed        459\n",
    "nombre_recovered    16221\n",
    "Name: 625, dtype: int64"
   ]
  },
  {
   "cell_type": "markdown",
   "id": "65650ac0",
   "metadata": {},
   "source": [
    "nombre_infected       903\n",
    "nombre_sain          2404\n",
    "nombre_exposed        457\n",
    "nombre_recovered    16236\n",
    "Name: 626, dtype: int64"
   ]
  },
  {
   "cell_type": "markdown",
   "id": "ecfc52ed",
   "metadata": {},
   "source": [
    "nombre_infected       908\n",
    "nombre_sain          2377\n",
    "nombre_exposed        480\n",
    "nombre_recovered    16235\n",
    "Name: 627, dtype: int64"
   ]
  },
  {
   "cell_type": "markdown",
   "id": "db8f0e37",
   "metadata": {},
   "source": [
    "nombre_infected       887\n",
    "nombre_sain          2351\n",
    "nombre_exposed        524\n",
    "nombre_recovered    16238\n",
    "Name: 628, dtype: int64"
   ]
  },
  {
   "cell_type": "markdown",
   "id": "e2fe106c",
   "metadata": {},
   "source": [
    "nombre_infected       900\n",
    "nombre_sain          2338\n",
    "nombre_exposed        548\n",
    "nombre_recovered    16214\n",
    "Name: 629, dtype: int64"
   ]
  },
  {
   "cell_type": "markdown",
   "id": "c0379aba",
   "metadata": {},
   "source": [
    "nombre_infected       936\n",
    "nombre_sain          2341\n",
    "nombre_exposed        529\n",
    "nombre_recovered    16194\n",
    "Name: 630, dtype: int64"
   ]
  },
  {
   "cell_type": "markdown",
   "id": "278c659b",
   "metadata": {},
   "source": [
    "nombre_infected       958\n",
    "nombre_sain          2333\n",
    "nombre_exposed        509\n",
    "nombre_recovered    16200\n",
    "Name: 631, dtype: int64"
   ]
  },
  {
   "cell_type": "markdown",
   "id": "61a9c159",
   "metadata": {},
   "source": [
    "nombre_infected       965\n",
    "nombre_sain          2340\n",
    "nombre_exposed        479\n",
    "nombre_recovered    16216\n",
    "Name: 632, dtype: int64"
   ]
  },
  {
   "cell_type": "markdown",
   "id": "8a63690f",
   "metadata": {},
   "source": [
    "nombre_infected       987\n",
    "nombre_sain          2319\n",
    "nombre_exposed        468\n",
    "nombre_recovered    16226\n",
    "Name: 633, dtype: int64"
   ]
  },
  {
   "cell_type": "markdown",
   "id": "3c6d0e92",
   "metadata": {},
   "source": [
    "nombre_infected       982\n",
    "nombre_sain          2321\n",
    "nombre_exposed        457\n",
    "nombre_recovered    16240\n",
    "Name: 634, dtype: int64"
   ]
  },
  {
   "cell_type": "markdown",
   "id": "d65961cd",
   "metadata": {},
   "source": [
    "nombre_infected       970\n",
    "nombre_sain          2319\n",
    "nombre_exposed        448\n",
    "nombre_recovered    16263\n",
    "Name: 635, dtype: int64"
   ]
  },
  {
   "cell_type": "markdown",
   "id": "d34bf748",
   "metadata": {},
   "source": [
    "nombre_infected       955\n",
    "nombre_sain          2296\n",
    "nombre_exposed        469\n",
    "nombre_recovered    16280\n",
    "Name: 636, dtype: int64"
   ]
  },
  {
   "cell_type": "markdown",
   "id": "18351b90",
   "metadata": {},
   "source": [
    "nombre_infected       915\n",
    "nombre_sain          2259\n",
    "nombre_exposed        521\n",
    "nombre_recovered    16305\n",
    "Name: 637, dtype: int64"
   ]
  },
  {
   "cell_type": "markdown",
   "id": "8f263de5",
   "metadata": {},
   "source": [
    "nombre_infected       933\n",
    "nombre_sain          2254\n",
    "nombre_exposed        502\n",
    "nombre_recovered    16311\n",
    "Name: 638, dtype: int64"
   ]
  },
  {
   "cell_type": "markdown",
   "id": "5c6085c3",
   "metadata": {},
   "source": [
    "nombre_infected       935\n",
    "nombre_sain          2257\n",
    "nombre_exposed        512\n",
    "nombre_recovered    16296\n",
    "Name: 639, dtype: int64"
   ]
  },
  {
   "cell_type": "markdown",
   "id": "80c3057f",
   "metadata": {},
   "source": [
    "nombre_infected       939\n",
    "nombre_sain          2255\n",
    "nombre_exposed        501\n",
    "nombre_recovered    16305\n",
    "Name: 640, dtype: int64"
   ]
  },
  {
   "cell_type": "markdown",
   "id": "34ee10d1",
   "metadata": {},
   "source": [
    "nombre_infected       928\n",
    "nombre_sain          2252\n",
    "nombre_exposed        509\n",
    "nombre_recovered    16311\n",
    "Name: 641, dtype: int64"
   ]
  },
  {
   "cell_type": "markdown",
   "id": "60ca7afc",
   "metadata": {},
   "source": [
    "nombre_infected       959\n",
    "nombre_sain          2242\n",
    "nombre_exposed        481\n",
    "nombre_recovered    16318\n",
    "Name: 642, dtype: int64"
   ]
  },
  {
   "cell_type": "markdown",
   "id": "f472f52c",
   "metadata": {},
   "source": [
    "nombre_infected       946\n",
    "nombre_sain          2260\n",
    "nombre_exposed        477\n",
    "nombre_recovered    16317\n",
    "Name: 643, dtype: int64"
   ]
  },
  {
   "cell_type": "markdown",
   "id": "561ecc4d",
   "metadata": {},
   "source": [
    "nombre_infected       920\n",
    "nombre_sain          2240\n",
    "nombre_exposed        483\n",
    "nombre_recovered    16357\n",
    "Name: 644, dtype: int64"
   ]
  },
  {
   "cell_type": "markdown",
   "id": "12bc931e",
   "metadata": {},
   "source": [
    "nombre_infected       917\n",
    "nombre_sain          2261\n",
    "nombre_exposed        464\n",
    "nombre_recovered    16358\n",
    "Name: 645, dtype: int64"
   ]
  },
  {
   "cell_type": "markdown",
   "id": "b1a73f75",
   "metadata": {},
   "source": [
    "nombre_infected       910\n",
    "nombre_sain          2293\n",
    "nombre_exposed        443\n",
    "nombre_recovered    16354\n",
    "Name: 646, dtype: int64"
   ]
  },
  {
   "cell_type": "markdown",
   "id": "fb725c8e",
   "metadata": {},
   "source": [
    "nombre_infected       920\n",
    "nombre_sain          2315\n",
    "nombre_exposed        440\n",
    "nombre_recovered    16325\n",
    "Name: 647, dtype: int64"
   ]
  },
  {
   "cell_type": "markdown",
   "id": "daa53a90",
   "metadata": {},
   "source": [
    "nombre_infected       908\n",
    "nombre_sain          2309\n",
    "nombre_exposed        457\n",
    "nombre_recovered    16326\n",
    "Name: 648, dtype: int64"
   ]
  },
  {
   "cell_type": "markdown",
   "id": "406c48dc",
   "metadata": {},
   "source": [
    "nombre_infected       913\n",
    "nombre_sain          2329\n",
    "nombre_exposed        460\n",
    "nombre_recovered    16298\n",
    "Name: 649, dtype: int64"
   ]
  },
  {
   "cell_type": "markdown",
   "id": "54f0032c",
   "metadata": {},
   "source": [
    "nombre_infected       918\n",
    "nombre_sain          2311\n",
    "nombre_exposed        462\n",
    "nombre_recovered    16309\n",
    "Name: 650, dtype: int64"
   ]
  },
  {
   "cell_type": "markdown",
   "id": "167d4e66",
   "metadata": {},
   "source": [
    "nombre_infected       914\n",
    "nombre_sain          2320\n",
    "nombre_exposed        463\n",
    "nombre_recovered    16303\n",
    "Name: 651, dtype: int64"
   ]
  },
  {
   "cell_type": "markdown",
   "id": "0ac17dc2",
   "metadata": {},
   "source": [
    "nombre_infected       894\n",
    "nombre_sain          2323\n",
    "nombre_exposed        483\n",
    "nombre_recovered    16300\n",
    "Name: 652, dtype: int64"
   ]
  },
  {
   "cell_type": "markdown",
   "id": "dd9ae39d",
   "metadata": {},
   "source": [
    "nombre_infected       918\n",
    "nombre_sain          2340\n",
    "nombre_exposed        468\n",
    "nombre_recovered    16274\n",
    "Name: 653, dtype: int64"
   ]
  },
  {
   "cell_type": "markdown",
   "id": "9cfcb978",
   "metadata": {},
   "source": [
    "nombre_infected       912\n",
    "nombre_sain          2340\n",
    "nombre_exposed        494\n",
    "nombre_recovered    16254\n",
    "Name: 654, dtype: int64"
   ]
  },
  {
   "cell_type": "markdown",
   "id": "0f881e82",
   "metadata": {},
   "source": [
    "nombre_infected       910\n",
    "nombre_sain          2356\n",
    "nombre_exposed        504\n",
    "nombre_recovered    16230\n",
    "Name: 655, dtype: int64"
   ]
  },
  {
   "cell_type": "markdown",
   "id": "83139c69",
   "metadata": {},
   "source": [
    "nombre_infected       892\n",
    "nombre_sain          2347\n",
    "nombre_exposed        526\n",
    "nombre_recovered    16235\n",
    "Name: 656, dtype: int64"
   ]
  },
  {
   "cell_type": "markdown",
   "id": "afb5a2a6",
   "metadata": {},
   "source": [
    "nombre_infected       922\n",
    "nombre_sain          2361\n",
    "nombre_exposed        507\n",
    "nombre_recovered    16210\n",
    "Name: 657, dtype: int64"
   ]
  },
  {
   "cell_type": "markdown",
   "id": "dc44dbb8",
   "metadata": {},
   "source": [
    "nombre_infected       951\n",
    "nombre_sain          2398\n",
    "nombre_exposed        482\n",
    "nombre_recovered    16169\n",
    "Name: 658, dtype: int64"
   ]
  },
  {
   "cell_type": "markdown",
   "id": "dcb9e8c6",
   "metadata": {},
   "source": [
    "nombre_infected       938\n",
    "nombre_sain          2400\n",
    "nombre_exposed        491\n",
    "nombre_recovered    16171\n",
    "Name: 659, dtype: int64"
   ]
  },
  {
   "cell_type": "markdown",
   "id": "d97d3ec3",
   "metadata": {},
   "source": [
    "nombre_infected       941\n",
    "nombre_sain          2419\n",
    "nombre_exposed        498\n",
    "nombre_recovered    16142\n",
    "Name: 660, dtype: int64"
   ]
  },
  {
   "cell_type": "markdown",
   "id": "bb310c85",
   "metadata": {},
   "source": [
    "nombre_infected       931\n",
    "nombre_sain          2435\n",
    "nombre_exposed        486\n",
    "nombre_recovered    16148\n",
    "Name: 661, dtype: int64"
   ]
  },
  {
   "cell_type": "markdown",
   "id": "5411623b",
   "metadata": {},
   "source": [
    "nombre_infected       925\n",
    "nombre_sain          2407\n",
    "nombre_exposed        512\n",
    "nombre_recovered    16156\n",
    "Name: 662, dtype: int64"
   ]
  },
  {
   "cell_type": "markdown",
   "id": "a6f0a08e",
   "metadata": {},
   "source": [
    "nombre_infected       946\n",
    "nombre_sain          2389\n",
    "nombre_exposed        516\n",
    "nombre_recovered    16149\n",
    "Name: 663, dtype: int64"
   ]
  },
  {
   "cell_type": "markdown",
   "id": "00d37710",
   "metadata": {},
   "source": [
    "nombre_infected       934\n",
    "nombre_sain          2401\n",
    "nombre_exposed        509\n",
    "nombre_recovered    16156\n",
    "Name: 664, dtype: int64"
   ]
  },
  {
   "cell_type": "markdown",
   "id": "c8d0148d",
   "metadata": {},
   "source": [
    "nombre_infected       917\n",
    "nombre_sain          2374\n",
    "nombre_exposed        507\n",
    "nombre_recovered    16202\n",
    "Name: 665, dtype: int64"
   ]
  },
  {
   "cell_type": "markdown",
   "id": "681dc297",
   "metadata": {},
   "source": [
    "nombre_infected       927\n",
    "nombre_sain          2330\n",
    "nombre_exposed        537\n",
    "nombre_recovered    16206\n",
    "Name: 666, dtype: int64"
   ]
  },
  {
   "cell_type": "markdown",
   "id": "13506a90",
   "metadata": {},
   "source": [
    "nombre_infected       923\n",
    "nombre_sain          2347\n",
    "nombre_exposed        503\n",
    "nombre_recovered    16227\n",
    "Name: 667, dtype: int64"
   ]
  },
  {
   "cell_type": "markdown",
   "id": "1b52fbe6",
   "metadata": {},
   "source": [
    "nombre_infected       943\n",
    "nombre_sain          2352\n",
    "nombre_exposed        467\n",
    "nombre_recovered    16238\n",
    "Name: 668, dtype: int64"
   ]
  },
  {
   "cell_type": "markdown",
   "id": "fd375d67",
   "metadata": {},
   "source": [
    "nombre_infected       941\n",
    "nombre_sain          2321\n",
    "nombre_exposed        489\n",
    "nombre_recovered    16249\n",
    "Name: 669, dtype: int64"
   ]
  },
  {
   "cell_type": "markdown",
   "id": "85332892",
   "metadata": {},
   "source": [
    "nombre_infected       936\n",
    "nombre_sain          2318\n",
    "nombre_exposed        500\n",
    "nombre_recovered    16246\n",
    "Name: 670, dtype: int64"
   ]
  },
  {
   "cell_type": "markdown",
   "id": "28ec0027",
   "metadata": {},
   "source": [
    "nombre_infected       939\n",
    "nombre_sain          2288\n",
    "nombre_exposed        512\n",
    "nombre_recovered    16261\n",
    "Name: 671, dtype: int64"
   ]
  },
  {
   "cell_type": "markdown",
   "id": "8cb7775c",
   "metadata": {},
   "source": [
    "nombre_infected       949\n",
    "nombre_sain          2299\n",
    "nombre_exposed        528\n",
    "nombre_recovered    16224\n",
    "Name: 672, dtype: int64"
   ]
  },
  {
   "cell_type": "markdown",
   "id": "d974468b",
   "metadata": {},
   "source": [
    "nombre_infected       941\n",
    "nombre_sain          2283\n",
    "nombre_exposed        549\n",
    "nombre_recovered    16227\n",
    "Name: 673, dtype: int64"
   ]
  },
  {
   "cell_type": "markdown",
   "id": "cab64006",
   "metadata": {},
   "source": [
    "nombre_infected       964\n",
    "nombre_sain          2254\n",
    "nombre_exposed        546\n",
    "nombre_recovered    16236\n",
    "Name: 674, dtype: int64"
   ]
  },
  {
   "cell_type": "markdown",
   "id": "1c51495c",
   "metadata": {},
   "source": [
    "nombre_infected       968\n",
    "nombre_sain          2246\n",
    "nombre_exposed        544\n",
    "nombre_recovered    16242\n",
    "Name: 675, dtype: int64"
   ]
  },
  {
   "cell_type": "markdown",
   "id": "c4338cac",
   "metadata": {},
   "source": [
    "nombre_infected       982\n",
    "nombre_sain          2264\n",
    "nombre_exposed        516\n",
    "nombre_recovered    16238\n",
    "Name: 676, dtype: int64"
   ]
  },
  {
   "cell_type": "markdown",
   "id": "99183a50",
   "metadata": {},
   "source": [
    "nombre_infected       983\n",
    "nombre_sain          2267\n",
    "nombre_exposed        496\n",
    "nombre_recovered    16254\n",
    "Name: 677, dtype: int64"
   ]
  },
  {
   "cell_type": "markdown",
   "id": "43d26c49",
   "metadata": {},
   "source": [
    "nombre_infected       968\n",
    "nombre_sain          2270\n",
    "nombre_exposed        490\n",
    "nombre_recovered    16272\n",
    "Name: 678, dtype: int64"
   ]
  },
  {
   "cell_type": "markdown",
   "id": "a524e22d",
   "metadata": {},
   "source": [
    "nombre_infected       957\n",
    "nombre_sain          2244\n",
    "nombre_exposed        512\n",
    "nombre_recovered    16287\n",
    "Name: 679, dtype: int64"
   ]
  },
  {
   "cell_type": "markdown",
   "id": "8d9610cb",
   "metadata": {},
   "source": [
    "nombre_infected       941\n",
    "nombre_sain          2233\n",
    "nombre_exposed        514\n",
    "nombre_recovered    16312\n",
    "Name: 680, dtype: int64"
   ]
  },
  {
   "cell_type": "markdown",
   "id": "1162b29e",
   "metadata": {},
   "source": [
    "nombre_infected       942\n",
    "nombre_sain          2229\n",
    "nombre_exposed        503\n",
    "nombre_recovered    16326\n",
    "Name: 681, dtype: int64"
   ]
  },
  {
   "cell_type": "markdown",
   "id": "9fc21706",
   "metadata": {},
   "source": [
    "nombre_infected       920\n",
    "nombre_sain          2240\n",
    "nombre_exposed        487\n",
    "nombre_recovered    16353\n",
    "Name: 682, dtype: int64"
   ]
  },
  {
   "cell_type": "markdown",
   "id": "ade200aa",
   "metadata": {},
   "source": [
    "nombre_infected       925\n",
    "nombre_sain          2245\n",
    "nombre_exposed        484\n",
    "nombre_recovered    16346\n",
    "Name: 683, dtype: int64"
   ]
  },
  {
   "cell_type": "markdown",
   "id": "bc23cb65",
   "metadata": {},
   "source": [
    "nombre_infected       931\n",
    "nombre_sain          2241\n",
    "nombre_exposed        474\n",
    "nombre_recovered    16354\n",
    "Name: 684, dtype: int64"
   ]
  },
  {
   "cell_type": "markdown",
   "id": "66cc7eb5",
   "metadata": {},
   "source": [
    "nombre_infected       921\n",
    "nombre_sain          2244\n",
    "nombre_exposed        483\n",
    "nombre_recovered    16352\n",
    "Name: 685, dtype: int64"
   ]
  },
  {
   "cell_type": "markdown",
   "id": "5a005c8d",
   "metadata": {},
   "source": [
    "nombre_infected       909\n",
    "nombre_sain          2226\n",
    "nombre_exposed        502\n",
    "nombre_recovered    16363\n",
    "Name: 686, dtype: int64"
   ]
  },
  {
   "cell_type": "markdown",
   "id": "7ee6a67b",
   "metadata": {},
   "source": [
    "nombre_infected       903\n",
    "nombre_sain          2243\n",
    "nombre_exposed        485\n",
    "nombre_recovered    16369\n",
    "Name: 687, dtype: int64"
   ]
  },
  {
   "cell_type": "markdown",
   "id": "5d3a9830",
   "metadata": {},
   "source": [
    "nombre_infected       899\n",
    "nombre_sain          2266\n",
    "nombre_exposed        467\n",
    "nombre_recovered    16368\n",
    "Name: 688, dtype: int64"
   ]
  },
  {
   "cell_type": "markdown",
   "id": "9ac901d2",
   "metadata": {},
   "source": [
    "nombre_infected       899\n",
    "nombre_sain          2279\n",
    "nombre_exposed        473\n",
    "nombre_recovered    16349\n",
    "Name: 689, dtype: int64"
   ]
  },
  {
   "cell_type": "markdown",
   "id": "a6074972",
   "metadata": {},
   "source": [
    "nombre_infected       890\n",
    "nombre_sain          2265\n",
    "nombre_exposed        482\n",
    "nombre_recovered    16363\n",
    "Name: 690, dtype: int64"
   ]
  },
  {
   "cell_type": "markdown",
   "id": "f59e410a",
   "metadata": {},
   "source": [
    "nombre_infected       899\n",
    "nombre_sain          2266\n",
    "nombre_exposed        482\n",
    "nombre_recovered    16353\n",
    "Name: 691, dtype: int64"
   ]
  },
  {
   "cell_type": "markdown",
   "id": "1c0c9299",
   "metadata": {},
   "source": [
    "nombre_infected       893\n",
    "nombre_sain          2276\n",
    "nombre_exposed        491\n",
    "nombre_recovered    16340\n",
    "Name: 692, dtype: int64"
   ]
  },
  {
   "cell_type": "markdown",
   "id": "ed84a401",
   "metadata": {},
   "source": [
    "nombre_infected       892\n",
    "nombre_sain          2310\n",
    "nombre_exposed        485\n",
    "nombre_recovered    16313\n",
    "Name: 693, dtype: int64"
   ]
  },
  {
   "cell_type": "markdown",
   "id": "2313688d",
   "metadata": {},
   "source": [
    "nombre_infected       897\n",
    "nombre_sain          2335\n",
    "nombre_exposed        470\n",
    "nombre_recovered    16298\n",
    "Name: 694, dtype: int64"
   ]
  },
  {
   "cell_type": "markdown",
   "id": "93583460",
   "metadata": {},
   "source": [
    "nombre_infected       887\n",
    "nombre_sain          2364\n",
    "nombre_exposed        480\n",
    "nombre_recovered    16269\n",
    "Name: 695, dtype: int64"
   ]
  },
  {
   "cell_type": "markdown",
   "id": "d5397e17",
   "metadata": {},
   "source": [
    "nombre_infected       866\n",
    "nombre_sain          2390\n",
    "nombre_exposed        481\n",
    "nombre_recovered    16263\n",
    "Name: 696, dtype: int64"
   ]
  },
  {
   "cell_type": "markdown",
   "id": "f0c32242",
   "metadata": {},
   "source": [
    "nombre_infected       852\n",
    "nombre_sain          2405\n",
    "nombre_exposed        466\n",
    "nombre_recovered    16277\n",
    "Name: 697, dtype: int64"
   ]
  },
  {
   "cell_type": "markdown",
   "id": "11234b4c",
   "metadata": {},
   "source": [
    "nombre_infected       843\n",
    "nombre_sain          2438\n",
    "nombre_exposed        457\n",
    "nombre_recovered    16262\n",
    "Name: 698, dtype: int64"
   ]
  },
  {
   "cell_type": "markdown",
   "id": "502c2ae0",
   "metadata": {},
   "source": [
    "nombre_infected       817\n",
    "nombre_sain          2468\n",
    "nombre_exposed        450\n",
    "nombre_recovered    16265\n",
    "Name: 699, dtype: int64"
   ]
  },
  {
   "cell_type": "markdown",
   "id": "bd3af787",
   "metadata": {},
   "source": [
    "nombre_infected       842\n",
    "nombre_sain          2491\n",
    "nombre_exposed        408\n",
    "nombre_recovered    16259\n",
    "Name: 700, dtype: int64"
   ]
  },
  {
   "cell_type": "markdown",
   "id": "375135d4",
   "metadata": {},
   "source": [
    "nombre_infected       817\n",
    "nombre_sain          2490\n",
    "nombre_exposed        443\n",
    "nombre_recovered    16250\n",
    "Name: 701, dtype: int64"
   ]
  },
  {
   "cell_type": "markdown",
   "id": "b7645665",
   "metadata": {},
   "source": [
    "nombre_infected       814\n",
    "nombre_sain          2480\n",
    "nombre_exposed        441\n",
    "nombre_recovered    16265\n",
    "Name: 702, dtype: int64"
   ]
  },
  {
   "cell_type": "markdown",
   "id": "3c151566",
   "metadata": {},
   "source": [
    "nombre_infected       781\n",
    "nombre_sain          2479\n",
    "nombre_exposed        465\n",
    "nombre_recovered    16275\n",
    "Name: 703, dtype: int64"
   ]
  },
  {
   "cell_type": "markdown",
   "id": "f9ec1413",
   "metadata": {},
   "source": [
    "nombre_infected       768\n",
    "nombre_sain          2497\n",
    "nombre_exposed        469\n",
    "nombre_recovered    16266\n",
    "Name: 704, dtype: int64"
   ]
  },
  {
   "cell_type": "markdown",
   "id": "9623b61e",
   "metadata": {},
   "source": [
    "nombre_infected       767\n",
    "nombre_sain          2513\n",
    "nombre_exposed        449\n",
    "nombre_recovered    16271\n",
    "Name: 705, dtype: int64"
   ]
  },
  {
   "cell_type": "markdown",
   "id": "d5a993f0",
   "metadata": {},
   "source": [
    "nombre_infected       767\n",
    "nombre_sain          2515\n",
    "nombre_exposed        434\n",
    "nombre_recovered    16284\n",
    "Name: 706, dtype: int64"
   ]
  },
  {
   "cell_type": "markdown",
   "id": "b39aa4f0",
   "metadata": {},
   "source": [
    "nombre_infected       756\n",
    "nombre_sain          2539\n",
    "nombre_exposed        445\n",
    "nombre_recovered    16260\n",
    "Name: 707, dtype: int64"
   ]
  },
  {
   "cell_type": "markdown",
   "id": "8bd59f20",
   "metadata": {},
   "source": [
    "nombre_infected       734\n",
    "nombre_sain          2552\n",
    "nombre_exposed        445\n",
    "nombre_recovered    16269\n",
    "Name: 708, dtype: int64"
   ]
  },
  {
   "cell_type": "markdown",
   "id": "673b98fd",
   "metadata": {},
   "source": [
    "nombre_infected       755\n",
    "nombre_sain          2560\n",
    "nombre_exposed        450\n",
    "nombre_recovered    16235\n",
    "Name: 709, dtype: int64"
   ]
  },
  {
   "cell_type": "markdown",
   "id": "88f799dd",
   "metadata": {},
   "source": [
    "nombre_infected       753\n",
    "nombre_sain          2564\n",
    "nombre_exposed        469\n",
    "nombre_recovered    16214\n",
    "Name: 710, dtype: int64"
   ]
  },
  {
   "cell_type": "markdown",
   "id": "58303b90",
   "metadata": {},
   "source": [
    "nombre_infected       763\n",
    "nombre_sain          2566\n",
    "nombre_exposed        460\n",
    "nombre_recovered    16211\n",
    "Name: 711, dtype: int64"
   ]
  },
  {
   "cell_type": "markdown",
   "id": "1579c85a",
   "metadata": {},
   "source": [
    "nombre_infected       760\n",
    "nombre_sain          2601\n",
    "nombre_exposed        451\n",
    "nombre_recovered    16188\n",
    "Name: 712, dtype: int64"
   ]
  },
  {
   "cell_type": "markdown",
   "id": "5d4ea93c",
   "metadata": {},
   "source": [
    "nombre_infected       761\n",
    "nombre_sain          2622\n",
    "nombre_exposed        430\n",
    "nombre_recovered    16187\n",
    "Name: 713, dtype: int64"
   ]
  },
  {
   "cell_type": "markdown",
   "id": "bcd8ea47",
   "metadata": {},
   "source": [
    "nombre_infected       764\n",
    "nombre_sain          2608\n",
    "nombre_exposed        448\n",
    "nombre_recovered    16180\n",
    "Name: 714, dtype: int64"
   ]
  },
  {
   "cell_type": "markdown",
   "id": "76be4e6a",
   "metadata": {},
   "source": [
    "nombre_infected       752\n",
    "nombre_sain          2599\n",
    "nombre_exposed        472\n",
    "nombre_recovered    16177\n",
    "Name: 715, dtype: int64"
   ]
  },
  {
   "cell_type": "markdown",
   "id": "b1202253",
   "metadata": {},
   "source": [
    "nombre_infected       742\n",
    "nombre_sain          2619\n",
    "nombre_exposed        473\n",
    "nombre_recovered    16166\n",
    "Name: 716, dtype: int64"
   ]
  },
  {
   "cell_type": "markdown",
   "id": "5ae80631",
   "metadata": {},
   "source": [
    "nombre_infected       736\n",
    "nombre_sain          2618\n",
    "nombre_exposed        462\n",
    "nombre_recovered    16184\n",
    "Name: 717, dtype: int64"
   ]
  },
  {
   "cell_type": "markdown",
   "id": "43774b15",
   "metadata": {},
   "source": [
    "nombre_infected       740\n",
    "nombre_sain          2611\n",
    "nombre_exposed        474\n",
    "nombre_recovered    16175\n",
    "Name: 718, dtype: int64"
   ]
  },
  {
   "cell_type": "markdown",
   "id": "93134bac",
   "metadata": {},
   "source": [
    "nombre_infected       728\n",
    "nombre_sain          2625\n",
    "nombre_exposed        487\n",
    "nombre_recovered    16160\n",
    "Name: 719, dtype: int64"
   ]
  },
  {
   "cell_type": "markdown",
   "id": "8c8cb621",
   "metadata": {},
   "source": [
    "nombre_infected       767\n",
    "nombre_sain          2656\n",
    "nombre_exposed        478\n",
    "nombre_recovered    16099\n",
    "Name: 720, dtype: int64"
   ]
  },
  {
   "cell_type": "markdown",
   "id": "82facf7e",
   "metadata": {},
   "source": [
    "nombre_infected       791\n",
    "nombre_sain          2640\n",
    "nombre_exposed        489\n",
    "nombre_recovered    16080\n",
    "Name: 721, dtype: int64"
   ]
  },
  {
   "cell_type": "markdown",
   "id": "a53f901f",
   "metadata": {},
   "source": [
    "nombre_infected       785\n",
    "nombre_sain          2655\n",
    "nombre_exposed        487\n",
    "nombre_recovered    16073\n",
    "Name: 722, dtype: int64"
   ]
  },
  {
   "cell_type": "markdown",
   "id": "d17475fe",
   "metadata": {},
   "source": [
    "nombre_infected       798\n",
    "nombre_sain          2657\n",
    "nombre_exposed        483\n",
    "nombre_recovered    16062\n",
    "Name: 723, dtype: int64"
   ]
  },
  {
   "cell_type": "markdown",
   "id": "976f7699",
   "metadata": {},
   "source": [
    "nombre_infected       798\n",
    "nombre_sain          2661\n",
    "nombre_exposed        488\n",
    "nombre_recovered    16053\n",
    "Name: 724, dtype: int64"
   ]
  },
  {
   "cell_type": "markdown",
   "id": "91f63d1c",
   "metadata": {},
   "source": [
    "nombre_infected       806\n",
    "nombre_sain          2646\n",
    "nombre_exposed        503\n",
    "nombre_recovered    16045\n",
    "Name: 725, dtype: int64"
   ]
  },
  {
   "cell_type": "markdown",
   "id": "c5be56f9",
   "metadata": {},
   "source": [
    "nombre_infected       821\n",
    "nombre_sain          2628\n",
    "nombre_exposed        521\n",
    "nombre_recovered    16030\n",
    "Name: 726, dtype: int64"
   ]
  },
  {
   "cell_type": "markdown",
   "id": "51bab891",
   "metadata": {},
   "source": [
    "nombre_infected       833\n",
    "nombre_sain          2646\n",
    "nombre_exposed        532\n",
    "nombre_recovered    15989\n",
    "Name: 727, dtype: int64"
   ]
  },
  {
   "cell_type": "markdown",
   "id": "67a76548",
   "metadata": {},
   "source": [
    "nombre_infected       865\n",
    "nombre_sain          2622\n",
    "nombre_exposed        532\n",
    "nombre_recovered    15981\n",
    "Name: 728, dtype: int64"
   ]
  },
  {
   "cell_type": "markdown",
   "id": "b3a3f50f",
   "metadata": {},
   "source": [
    "nombre_infected       866\n",
    "nombre_sain          2636\n",
    "nombre_exposed        528\n",
    "nombre_recovered    15970\n",
    "Name: 729, dtype: int64"
   ]
  },
  {
   "cell_type": "markdown",
   "id": "357c7783",
   "metadata": {},
   "source": [
    "nombre_infected       848\n",
    "nombre_sain          2649\n",
    "nombre_exposed        537\n",
    "nombre_recovered    15966\n",
    "Name: 730, dtype: int64"
   ]
  }
 ],
 "metadata": {},
 "nbformat": 4,
 "nbformat_minor": 5
}
