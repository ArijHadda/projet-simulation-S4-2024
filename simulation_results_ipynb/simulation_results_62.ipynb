{
 "cells": [
  {
   "cell_type": "markdown",
   "id": "7e527ead",
   "metadata": {},
   "source": [
    "nombre_infected        20\n",
    "nombre_sain         19980\n",
    "nombre_exposed          0\n",
    "nombre_recovered        0\n",
    "Name: 0, dtype: int64"
   ]
  },
  {
   "cell_type": "markdown",
   "id": "d07f8c4a",
   "metadata": {},
   "source": [
    "nombre_infected        20\n",
    "nombre_sain         19966\n",
    "nombre_exposed         14\n",
    "nombre_recovered        0\n",
    "Name: 1, dtype: int64"
   ]
  },
  {
   "cell_type": "markdown",
   "id": "738a5a71",
   "metadata": {},
   "source": [
    "nombre_infected        20\n",
    "nombre_sain         19941\n",
    "nombre_exposed         39\n",
    "nombre_recovered        0\n",
    "Name: 2, dtype: int64"
   ]
  },
  {
   "cell_type": "markdown",
   "id": "319b86af",
   "metadata": {},
   "source": [
    "nombre_infected        22\n",
    "nombre_sain         19925\n",
    "nombre_exposed         53\n",
    "nombre_recovered        0\n",
    "Name: 3, dtype: int64"
   ]
  },
  {
   "cell_type": "markdown",
   "id": "8f500fdb",
   "metadata": {},
   "source": [
    "nombre_infected        11\n",
    "nombre_sain         19910\n",
    "nombre_exposed         59\n",
    "nombre_recovered       20\n",
    "Name: 4, dtype: int64"
   ]
  },
  {
   "cell_type": "markdown",
   "id": "d6e3e6c3",
   "metadata": {},
   "source": [
    "nombre_infected        26\n",
    "nombre_sain         19872\n",
    "nombre_exposed         82\n",
    "nombre_recovered       20\n",
    "Name: 5, dtype: int64"
   ]
  },
  {
   "cell_type": "markdown",
   "id": "8fdc6b90",
   "metadata": {},
   "source": [
    "nombre_infected        42\n",
    "nombre_sain         19828\n",
    "nombre_exposed        109\n",
    "nombre_recovered       21\n",
    "Name: 6, dtype: int64"
   ]
  },
  {
   "cell_type": "markdown",
   "id": "8be8320d",
   "metadata": {},
   "source": [
    "nombre_infected        63\n",
    "nombre_sain         19751\n",
    "nombre_exposed        164\n",
    "nombre_recovered       22\n",
    "Name: 7, dtype: int64"
   ]
  },
  {
   "cell_type": "markdown",
   "id": "214f1d58",
   "metadata": {},
   "source": [
    "nombre_infected        90\n",
    "nombre_sain         19665\n",
    "nombre_exposed        217\n",
    "nombre_recovered       28\n",
    "Name: 8, dtype: int64"
   ]
  },
  {
   "cell_type": "markdown",
   "id": "32f72627",
   "metadata": {},
   "source": [
    "nombre_infected       114\n",
    "nombre_sain         19549\n",
    "nombre_exposed        298\n",
    "nombre_recovered       39\n",
    "Name: 9, dtype: int64"
   ]
  },
  {
   "cell_type": "markdown",
   "id": "d837bd88",
   "metadata": {},
   "source": [
    "nombre_infected       139\n",
    "nombre_sain         19396\n",
    "nombre_exposed        412\n",
    "nombre_recovered       53\n",
    "Name: 10, dtype: int64"
   ]
  },
  {
   "cell_type": "markdown",
   "id": "c2b940ed",
   "metadata": {},
   "source": [
    "nombre_infected       203\n",
    "nombre_sain         19210\n",
    "nombre_exposed        522\n",
    "nombre_recovered       65\n",
    "Name: 11, dtype: int64"
   ]
  },
  {
   "cell_type": "markdown",
   "id": "af326f36",
   "metadata": {},
   "source": [
    "nombre_infected       279\n",
    "nombre_sain         18925\n",
    "nombre_exposed        712\n",
    "nombre_recovered       84\n",
    "Name: 12, dtype: int64"
   ]
  },
  {
   "cell_type": "markdown",
   "id": "0b4f0edd",
   "metadata": {},
   "source": [
    "nombre_infected       381\n",
    "nombre_sain         18560\n",
    "nombre_exposed        956\n",
    "nombre_recovered      103\n",
    "Name: 13, dtype: int64"
   ]
  },
  {
   "cell_type": "markdown",
   "id": "6d99eaed",
   "metadata": {},
   "source": [
    "nombre_infected       526\n",
    "nombre_sain         18042\n",
    "nombre_exposed       1291\n",
    "nombre_recovered      141\n",
    "Name: 14, dtype: int64"
   ]
  },
  {
   "cell_type": "markdown",
   "id": "72101316",
   "metadata": {},
   "source": [
    "nombre_infected       713\n",
    "nombre_sain         17342\n",
    "nombre_exposed       1768\n",
    "nombre_recovered      177\n",
    "Name: 15, dtype: int64"
   ]
  },
  {
   "cell_type": "markdown",
   "id": "ed8c8836",
   "metadata": {},
   "source": [
    "nombre_infected       949\n",
    "nombre_sain         16429\n",
    "nombre_exposed       2374\n",
    "nombre_recovered      248\n",
    "Name: 16, dtype: int64"
   ]
  },
  {
   "cell_type": "markdown",
   "id": "a58aec8c",
   "metadata": {},
   "source": [
    "nombre_infected      1305\n",
    "nombre_sain         15388\n",
    "nombre_exposed       2978\n",
    "nombre_recovered      329\n",
    "Name: 17, dtype: int64"
   ]
  },
  {
   "cell_type": "markdown",
   "id": "fd1b4119",
   "metadata": {},
   "source": [
    "nombre_infected      1756\n",
    "nombre_sain         14079\n",
    "nombre_exposed       3711\n",
    "nombre_recovered      454\n",
    "Name: 18, dtype: int64"
   ]
  },
  {
   "cell_type": "markdown",
   "id": "5c1bfb38",
   "metadata": {},
   "source": [
    "nombre_infected      2326\n",
    "nombre_sain         12561\n",
    "nombre_exposed       4499\n",
    "nombre_recovered      614\n",
    "Name: 19, dtype: int64"
   ]
  },
  {
   "cell_type": "markdown",
   "id": "ffeb44ce",
   "metadata": {},
   "source": [
    "nombre_infected      2942\n",
    "nombre_sain         10735\n",
    "nombre_exposed       5479\n",
    "nombre_recovered      844\n",
    "Name: 20, dtype: int64"
   ]
  },
  {
   "cell_type": "markdown",
   "id": "b2ff6eda",
   "metadata": {},
   "source": [
    "nombre_infected     3718\n",
    "nombre_sain         8957\n",
    "nombre_exposed      6196\n",
    "nombre_recovered    1129\n",
    "Name: 21, dtype: int64"
   ]
  },
  {
   "cell_type": "markdown",
   "id": "5567d051",
   "metadata": {},
   "source": [
    "nombre_infected     4602\n",
    "nombre_sain         7200\n",
    "nombre_exposed      6704\n",
    "nombre_recovered    1494\n",
    "Name: 22, dtype: int64"
   ]
  },
  {
   "cell_type": "markdown",
   "id": "885c5aee",
   "metadata": {},
   "source": [
    "nombre_infected     5548\n",
    "nombre_sain         5532\n",
    "nombre_exposed      6940\n",
    "nombre_recovered    1980\n",
    "Name: 23, dtype: int64"
   ]
  },
  {
   "cell_type": "markdown",
   "id": "99078a2e",
   "metadata": {},
   "source": [
    "nombre_infected     6515\n",
    "nombre_sain         4051\n",
    "nombre_exposed      6885\n",
    "nombre_recovered    2549\n",
    "Name: 24, dtype: int64"
   ]
  },
  {
   "cell_type": "markdown",
   "id": "5ed6a774",
   "metadata": {},
   "source": [
    "nombre_infected     7437\n",
    "nombre_sain         2879\n",
    "nombre_exposed      6475\n",
    "nombre_recovered    3209\n",
    "Name: 25, dtype: int64"
   ]
  },
  {
   "cell_type": "markdown",
   "id": "af7371eb",
   "metadata": {},
   "source": [
    "nombre_infected     8172\n",
    "nombre_sain         2022\n",
    "nombre_exposed      5813\n",
    "nombre_recovered    3993\n",
    "Name: 26, dtype: int64"
   ]
  },
  {
   "cell_type": "markdown",
   "id": "502db420",
   "metadata": {},
   "source": [
    "nombre_infected     8698\n",
    "nombre_sain         1336\n",
    "nombre_exposed      5045\n",
    "nombre_recovered    4921\n",
    "Name: 27, dtype: int64"
   ]
  },
  {
   "cell_type": "markdown",
   "id": "cec87e72",
   "metadata": {},
   "source": [
    "nombre_infected     9070\n",
    "nombre_sain          925\n",
    "nombre_exposed      4138\n",
    "nombre_recovered    5867\n",
    "Name: 28, dtype: int64"
   ]
  },
  {
   "cell_type": "markdown",
   "id": "a33ae1aa",
   "metadata": {},
   "source": [
    "nombre_infected     9165\n",
    "nombre_sain          668\n",
    "nombre_exposed      3303\n",
    "nombre_recovered    6864\n",
    "Name: 29, dtype: int64"
   ]
  },
  {
   "cell_type": "markdown",
   "id": "80f22776",
   "metadata": {},
   "source": [
    "nombre_infected     8997\n",
    "nombre_sain          481\n",
    "nombre_exposed      2567\n",
    "nombre_recovered    7955\n",
    "Name: 30, dtype: int64"
   ]
  },
  {
   "cell_type": "markdown",
   "id": "ef4bf5cf",
   "metadata": {},
   "source": [
    "nombre_infected     8637\n",
    "nombre_sain          351\n",
    "nombre_exposed      2010\n",
    "nombre_recovered    9002\n",
    "Name: 31, dtype: int64"
   ]
  },
  {
   "cell_type": "markdown",
   "id": "aea88e49",
   "metadata": {},
   "source": [
    "nombre_infected      8134\n",
    "nombre_sain           258\n",
    "nombre_exposed       1572\n",
    "nombre_recovered    10036\n",
    "Name: 32, dtype: int64"
   ]
  },
  {
   "cell_type": "markdown",
   "id": "a164bacb",
   "metadata": {},
   "source": [
    "nombre_infected      7593\n",
    "nombre_sain           221\n",
    "nombre_exposed       1175\n",
    "nombre_recovered    11011\n",
    "Name: 33, dtype: int64"
   ]
  },
  {
   "cell_type": "markdown",
   "id": "2b0314f4",
   "metadata": {},
   "source": [
    "nombre_infected      6917\n",
    "nombre_sain           189\n",
    "nombre_exposed        920\n",
    "nombre_recovered    11974\n",
    "Name: 34, dtype: int64"
   ]
  },
  {
   "cell_type": "markdown",
   "id": "b823dbeb",
   "metadata": {},
   "source": [
    "nombre_infected      6348\n",
    "nombre_sain           175\n",
    "nombre_exposed        715\n",
    "nombre_recovered    12762\n",
    "Name: 35, dtype: int64"
   ]
  },
  {
   "cell_type": "markdown",
   "id": "379b48f9",
   "metadata": {},
   "source": [
    "nombre_infected      5728\n",
    "nombre_sain           164\n",
    "nombre_exposed        541\n",
    "nombre_recovered    13567\n",
    "Name: 36, dtype: int64"
   ]
  },
  {
   "cell_type": "markdown",
   "id": "039cb5fe",
   "metadata": {},
   "source": [
    "nombre_infected      5124\n",
    "nombre_sain           154\n",
    "nombre_exposed        427\n",
    "nombre_recovered    14295\n",
    "Name: 37, dtype: int64"
   ]
  },
  {
   "cell_type": "markdown",
   "id": "afef90b8",
   "metadata": {},
   "source": [
    "nombre_infected      4534\n",
    "nombre_sain           168\n",
    "nombre_exposed        332\n",
    "nombre_recovered    14966\n",
    "Name: 38, dtype: int64"
   ]
  },
  {
   "cell_type": "markdown",
   "id": "09ac4616",
   "metadata": {},
   "source": [
    "nombre_infected      4011\n",
    "nombre_sain           189\n",
    "nombre_exposed        281\n",
    "nombre_recovered    15519\n",
    "Name: 39, dtype: int64"
   ]
  },
  {
   "cell_type": "markdown",
   "id": "8e788abf",
   "metadata": {},
   "source": [
    "nombre_infected      3529\n",
    "nombre_sain           195\n",
    "nombre_exposed        238\n",
    "nombre_recovered    16038\n",
    "Name: 40, dtype: int64"
   ]
  },
  {
   "cell_type": "markdown",
   "id": "d42afb88",
   "metadata": {},
   "source": [
    "nombre_infected      3121\n",
    "nombre_sain           226\n",
    "nombre_exposed        193\n",
    "nombre_recovered    16460\n",
    "Name: 41, dtype: int64"
   ]
  },
  {
   "cell_type": "markdown",
   "id": "1427b902",
   "metadata": {},
   "source": [
    "nombre_infected      2696\n",
    "nombre_sain           238\n",
    "nombre_exposed        180\n",
    "nombre_recovered    16886\n",
    "Name: 42, dtype: int64"
   ]
  },
  {
   "cell_type": "markdown",
   "id": "c7e1f522",
   "metadata": {},
   "source": [
    "nombre_infected      2354\n",
    "nombre_sain           262\n",
    "nombre_exposed        163\n",
    "nombre_recovered    17221\n",
    "Name: 43, dtype: int64"
   ]
  },
  {
   "cell_type": "markdown",
   "id": "42ba08bb",
   "metadata": {},
   "source": [
    "nombre_infected      2048\n",
    "nombre_sain           291\n",
    "nombre_exposed        154\n",
    "nombre_recovered    17507\n",
    "Name: 44, dtype: int64"
   ]
  },
  {
   "cell_type": "markdown",
   "id": "e41448d9",
   "metadata": {},
   "source": [
    "nombre_infected      1792\n",
    "nombre_sain           325\n",
    "nombre_exposed        140\n",
    "nombre_recovered    17743\n",
    "Name: 45, dtype: int64"
   ]
  },
  {
   "cell_type": "markdown",
   "id": "5abeba1b",
   "metadata": {},
   "source": [
    "nombre_infected      1555\n",
    "nombre_sain           352\n",
    "nombre_exposed        136\n",
    "nombre_recovered    17957\n",
    "Name: 46, dtype: int64"
   ]
  },
  {
   "cell_type": "markdown",
   "id": "6530dec5",
   "metadata": {},
   "source": [
    "nombre_infected      1330\n",
    "nombre_sain           384\n",
    "nombre_exposed        129\n",
    "nombre_recovered    18157\n",
    "Name: 47, dtype: int64"
   ]
  },
  {
   "cell_type": "markdown",
   "id": "a587e726",
   "metadata": {},
   "source": [
    "nombre_infected      1120\n",
    "nombre_sain           405\n",
    "nombre_exposed        131\n",
    "nombre_recovered    18344\n",
    "Name: 48, dtype: int64"
   ]
  },
  {
   "cell_type": "markdown",
   "id": "90b01a59",
   "metadata": {},
   "source": [
    "nombre_infected       956\n",
    "nombre_sain           447\n",
    "nombre_exposed        133\n",
    "nombre_recovered    18464\n",
    "Name: 49, dtype: int64"
   ]
  },
  {
   "cell_type": "markdown",
   "id": "c652ec8c",
   "metadata": {},
   "source": [
    "nombre_infected       837\n",
    "nombre_sain           493\n",
    "nombre_exposed        131\n",
    "nombre_recovered    18539\n",
    "Name: 50, dtype: int64"
   ]
  },
  {
   "cell_type": "markdown",
   "id": "bf3bc074",
   "metadata": {},
   "source": [
    "nombre_infected       724\n",
    "nombre_sain           550\n",
    "nombre_exposed        121\n",
    "nombre_recovered    18605\n",
    "Name: 51, dtype: int64"
   ]
  },
  {
   "cell_type": "markdown",
   "id": "3d592d99",
   "metadata": {},
   "source": [
    "nombre_infected       626\n",
    "nombre_sain           598\n",
    "nombre_exposed        103\n",
    "nombre_recovered    18673\n",
    "Name: 52, dtype: int64"
   ]
  },
  {
   "cell_type": "markdown",
   "id": "17747aba",
   "metadata": {},
   "source": [
    "nombre_infected       549\n",
    "nombre_sain           633\n",
    "nombre_exposed         95\n",
    "nombre_recovered    18723\n",
    "Name: 53, dtype: int64"
   ]
  },
  {
   "cell_type": "markdown",
   "id": "7e237667",
   "metadata": {},
   "source": [
    "nombre_infected       488\n",
    "nombre_sain           695\n",
    "nombre_exposed         89\n",
    "nombre_recovered    18728\n",
    "Name: 54, dtype: int64"
   ]
  },
  {
   "cell_type": "markdown",
   "id": "8a946788",
   "metadata": {},
   "source": [
    "nombre_infected       418\n",
    "nombre_sain           760\n",
    "nombre_exposed         89\n",
    "nombre_recovered    18733\n",
    "Name: 55, dtype: int64"
   ]
  },
  {
   "cell_type": "markdown",
   "id": "29fd32fd",
   "metadata": {},
   "source": [
    "nombre_infected       371\n",
    "nombre_sain           801\n",
    "nombre_exposed         97\n",
    "nombre_recovered    18731\n",
    "Name: 56, dtype: int64"
   ]
  },
  {
   "cell_type": "markdown",
   "id": "50ff72c6",
   "metadata": {},
   "source": [
    "nombre_infected       337\n",
    "nombre_sain           842\n",
    "nombre_exposed         95\n",
    "nombre_recovered    18726\n",
    "Name: 57, dtype: int64"
   ]
  },
  {
   "cell_type": "markdown",
   "id": "9ab9d66e",
   "metadata": {},
   "source": [
    "nombre_infected       321\n",
    "nombre_sain           903\n",
    "nombre_exposed         89\n",
    "nombre_recovered    18687\n",
    "Name: 58, dtype: int64"
   ]
  },
  {
   "cell_type": "markdown",
   "id": "e7d082b5",
   "metadata": {},
   "source": [
    "nombre_infected       299\n",
    "nombre_sain           947\n",
    "nombre_exposed         81\n",
    "nombre_recovered    18673\n",
    "Name: 59, dtype: int64"
   ]
  },
  {
   "cell_type": "markdown",
   "id": "3b73b70c",
   "metadata": {},
   "source": [
    "nombre_infected       269\n",
    "nombre_sain           982\n",
    "nombre_exposed         85\n",
    "nombre_recovered    18664\n",
    "Name: 60, dtype: int64"
   ]
  },
  {
   "cell_type": "markdown",
   "id": "74276892",
   "metadata": {},
   "source": [
    "nombre_infected       249\n",
    "nombre_sain          1023\n",
    "nombre_exposed         86\n",
    "nombre_recovered    18642\n",
    "Name: 61, dtype: int64"
   ]
  },
  {
   "cell_type": "markdown",
   "id": "ed5b5eee",
   "metadata": {},
   "source": [
    "nombre_infected       234\n",
    "nombre_sain          1076\n",
    "nombre_exposed         87\n",
    "nombre_recovered    18603\n",
    "Name: 62, dtype: int64"
   ]
  },
  {
   "cell_type": "markdown",
   "id": "e12d01bd",
   "metadata": {},
   "source": [
    "nombre_infected       218\n",
    "nombre_sain          1128\n",
    "nombre_exposed         86\n",
    "nombre_recovered    18568\n",
    "Name: 63, dtype: int64"
   ]
  },
  {
   "cell_type": "markdown",
   "id": "2cc937bd",
   "metadata": {},
   "source": [
    "nombre_infected       201\n",
    "nombre_sain          1183\n",
    "nombre_exposed         83\n",
    "nombre_recovered    18533\n",
    "Name: 64, dtype: int64"
   ]
  },
  {
   "cell_type": "markdown",
   "id": "ffd61d11",
   "metadata": {},
   "source": [
    "nombre_infected       185\n",
    "nombre_sain          1240\n",
    "nombre_exposed         70\n",
    "nombre_recovered    18505\n",
    "Name: 65, dtype: int64"
   ]
  },
  {
   "cell_type": "markdown",
   "id": "d0fc9b41",
   "metadata": {},
   "source": [
    "nombre_infected       177\n",
    "nombre_sain          1291\n",
    "nombre_exposed         64\n",
    "nombre_recovered    18468\n",
    "Name: 66, dtype: int64"
   ]
  },
  {
   "cell_type": "markdown",
   "id": "25e72ea8",
   "metadata": {},
   "source": [
    "nombre_infected       168\n",
    "nombre_sain          1346\n",
    "nombre_exposed         56\n",
    "nombre_recovered    18430\n",
    "Name: 67, dtype: int64"
   ]
  },
  {
   "cell_type": "markdown",
   "id": "103f388a",
   "metadata": {},
   "source": [
    "nombre_infected       152\n",
    "nombre_sain          1389\n",
    "nombre_exposed         62\n",
    "nombre_recovered    18397\n",
    "Name: 68, dtype: int64"
   ]
  },
  {
   "cell_type": "markdown",
   "id": "aa52db07",
   "metadata": {},
   "source": [
    "nombre_infected       141\n",
    "nombre_sain          1421\n",
    "nombre_exposed         64\n",
    "nombre_recovered    18374\n",
    "Name: 69, dtype: int64"
   ]
  },
  {
   "cell_type": "markdown",
   "id": "209132b3",
   "metadata": {},
   "source": [
    "nombre_infected       127\n",
    "nombre_sain          1448\n",
    "nombre_exposed         71\n",
    "nombre_recovered    18354\n",
    "Name: 70, dtype: int64"
   ]
  },
  {
   "cell_type": "markdown",
   "id": "7435744a",
   "metadata": {},
   "source": [
    "nombre_infected       116\n",
    "nombre_sain          1487\n",
    "nombre_exposed         73\n",
    "nombre_recovered    18324\n",
    "Name: 71, dtype: int64"
   ]
  },
  {
   "cell_type": "markdown",
   "id": "37efe399",
   "metadata": {},
   "source": [
    "nombre_infected       106\n",
    "nombre_sain          1527\n",
    "nombre_exposed         74\n",
    "nombre_recovered    18293\n",
    "Name: 72, dtype: int64"
   ]
  },
  {
   "cell_type": "markdown",
   "id": "64382276",
   "metadata": {},
   "source": [
    "nombre_infected       110\n",
    "nombre_sain          1567\n",
    "nombre_exposed         71\n",
    "nombre_recovered    18252\n",
    "Name: 73, dtype: int64"
   ]
  },
  {
   "cell_type": "markdown",
   "id": "2aaba9a1",
   "metadata": {},
   "source": [
    "nombre_infected       108\n",
    "nombre_sain          1599\n",
    "nombre_exposed         61\n",
    "nombre_recovered    18232\n",
    "Name: 74, dtype: int64"
   ]
  },
  {
   "cell_type": "markdown",
   "id": "fe893a22",
   "metadata": {},
   "source": [
    "nombre_infected       114\n",
    "nombre_sain          1636\n",
    "nombre_exposed         45\n",
    "nombre_recovered    18205\n",
    "Name: 75, dtype: int64"
   ]
  },
  {
   "cell_type": "markdown",
   "id": "88161b7c",
   "metadata": {},
   "source": [
    "nombre_infected       111\n",
    "nombre_sain          1666\n",
    "nombre_exposed         41\n",
    "nombre_recovered    18182\n",
    "Name: 76, dtype: int64"
   ]
  },
  {
   "cell_type": "markdown",
   "id": "c030a802",
   "metadata": {},
   "source": [
    "nombre_infected        98\n",
    "nombre_sain          1673\n",
    "nombre_exposed         46\n",
    "nombre_recovered    18183\n",
    "Name: 77, dtype: int64"
   ]
  },
  {
   "cell_type": "markdown",
   "id": "cec9cd6a",
   "metadata": {},
   "source": [
    "nombre_infected        94\n",
    "nombre_sain          1706\n",
    "nombre_exposed         47\n",
    "nombre_recovered    18153\n",
    "Name: 78, dtype: int64"
   ]
  },
  {
   "cell_type": "markdown",
   "id": "4e115abb",
   "metadata": {},
   "source": [
    "nombre_infected        91\n",
    "nombre_sain          1740\n",
    "nombre_exposed         43\n",
    "nombre_recovered    18126\n",
    "Name: 79, dtype: int64"
   ]
  },
  {
   "cell_type": "markdown",
   "id": "f6b8b8c7",
   "metadata": {},
   "source": [
    "nombre_infected        90\n",
    "nombre_sain          1771\n",
    "nombre_exposed         50\n",
    "nombre_recovered    18089\n",
    "Name: 80, dtype: int64"
   ]
  },
  {
   "cell_type": "markdown",
   "id": "8a29a145",
   "metadata": {},
   "source": [
    "nombre_infected        84\n",
    "nombre_sain          1803\n",
    "nombre_exposed         51\n",
    "nombre_recovered    18062\n",
    "Name: 81, dtype: int64"
   ]
  },
  {
   "cell_type": "markdown",
   "id": "ab0e4d00",
   "metadata": {},
   "source": [
    "nombre_infected        90\n",
    "nombre_sain          1847\n",
    "nombre_exposed         50\n",
    "nombre_recovered    18013\n",
    "Name: 82, dtype: int64"
   ]
  },
  {
   "cell_type": "markdown",
   "id": "4c206913",
   "metadata": {},
   "source": [
    "nombre_infected        88\n",
    "nombre_sain          1874\n",
    "nombre_exposed         55\n",
    "nombre_recovered    17983\n",
    "Name: 83, dtype: int64"
   ]
  },
  {
   "cell_type": "markdown",
   "id": "b4b6dce7",
   "metadata": {},
   "source": [
    "nombre_infected        76\n",
    "nombre_sain          1906\n",
    "nombre_exposed         58\n",
    "nombre_recovered    17960\n",
    "Name: 84, dtype: int64"
   ]
  },
  {
   "cell_type": "markdown",
   "id": "14f26f3a",
   "metadata": {},
   "source": [
    "nombre_infected        77\n",
    "nombre_sain          1952\n",
    "nombre_exposed         52\n",
    "nombre_recovered    17919\n",
    "Name: 85, dtype: int64"
   ]
  },
  {
   "cell_type": "markdown",
   "id": "1c28ccfa",
   "metadata": {},
   "source": [
    "nombre_infected        76\n",
    "nombre_sain          1974\n",
    "nombre_exposed         53\n",
    "nombre_recovered    17897\n",
    "Name: 86, dtype: int64"
   ]
  },
  {
   "cell_type": "markdown",
   "id": "598f067e",
   "metadata": {},
   "source": [
    "nombre_infected        76\n",
    "nombre_sain          2005\n",
    "nombre_exposed         57\n",
    "nombre_recovered    17862\n",
    "Name: 87, dtype: int64"
   ]
  },
  {
   "cell_type": "markdown",
   "id": "bafc300c",
   "metadata": {},
   "source": [
    "nombre_infected        84\n",
    "nombre_sain          2051\n",
    "nombre_exposed         55\n",
    "nombre_recovered    17810\n",
    "Name: 88, dtype: int64"
   ]
  },
  {
   "cell_type": "markdown",
   "id": "6042e527",
   "metadata": {},
   "source": [
    "nombre_infected        80\n",
    "nombre_sain          2095\n",
    "nombre_exposed         54\n",
    "nombre_recovered    17771\n",
    "Name: 89, dtype: int64"
   ]
  },
  {
   "cell_type": "markdown",
   "id": "a37f54b9",
   "metadata": {},
   "source": [
    "nombre_infected        81\n",
    "nombre_sain          2140\n",
    "nombre_exposed         50\n",
    "nombre_recovered    17729\n",
    "Name: 90, dtype: int64"
   ]
  },
  {
   "cell_type": "markdown",
   "id": "abcae068",
   "metadata": {},
   "source": [
    "nombre_infected        85\n",
    "nombre_sain          2196\n",
    "nombre_exposed         41\n",
    "nombre_recovered    17678\n",
    "Name: 91, dtype: int64"
   ]
  },
  {
   "cell_type": "markdown",
   "id": "1e10ae64",
   "metadata": {},
   "source": [
    "nombre_infected        86\n",
    "nombre_sain          2248\n",
    "nombre_exposed         31\n",
    "nombre_recovered    17635\n",
    "Name: 92, dtype: int64"
   ]
  },
  {
   "cell_type": "markdown",
   "id": "8ddbd654",
   "metadata": {},
   "source": [
    "nombre_infected        85\n",
    "nombre_sain          2288\n",
    "nombre_exposed         26\n",
    "nombre_recovered    17601\n",
    "Name: 93, dtype: int64"
   ]
  },
  {
   "cell_type": "markdown",
   "id": "e225e7b9",
   "metadata": {},
   "source": [
    "nombre_infected        73\n",
    "nombre_sain          2324\n",
    "nombre_exposed         29\n",
    "nombre_recovered    17574\n",
    "Name: 94, dtype: int64"
   ]
  },
  {
   "cell_type": "markdown",
   "id": "919a5649",
   "metadata": {},
   "source": [
    "nombre_infected        71\n",
    "nombre_sain          2375\n",
    "nombre_exposed         24\n",
    "nombre_recovered    17530\n",
    "Name: 95, dtype: int64"
   ]
  },
  {
   "cell_type": "markdown",
   "id": "5177190d",
   "metadata": {},
   "source": [
    "nombre_infected        70\n",
    "nombre_sain          2416\n",
    "nombre_exposed         24\n",
    "nombre_recovered    17490\n",
    "Name: 96, dtype: int64"
   ]
  },
  {
   "cell_type": "markdown",
   "id": "6387e6ee",
   "metadata": {},
   "source": [
    "nombre_infected        57\n",
    "nombre_sain          2449\n",
    "nombre_exposed         32\n",
    "nombre_recovered    17462\n",
    "Name: 97, dtype: int64"
   ]
  },
  {
   "cell_type": "markdown",
   "id": "7f7853b5",
   "metadata": {},
   "source": [
    "nombre_infected        58\n",
    "nombre_sain          2481\n",
    "nombre_exposed         37\n",
    "nombre_recovered    17424\n",
    "Name: 98, dtype: int64"
   ]
  },
  {
   "cell_type": "markdown",
   "id": "138111b3",
   "metadata": {},
   "source": [
    "nombre_infected        58\n",
    "nombre_sain          2539\n",
    "nombre_exposed         36\n",
    "nombre_recovered    17367\n",
    "Name: 99, dtype: int64"
   ]
  },
  {
   "cell_type": "markdown",
   "id": "180a7d19",
   "metadata": {},
   "source": [
    "nombre_infected        60\n",
    "nombre_sain          2584\n",
    "nombre_exposed         27\n",
    "nombre_recovered    17329\n",
    "Name: 100, dtype: int64"
   ]
  },
  {
   "cell_type": "markdown",
   "id": "25e9f3e5",
   "metadata": {},
   "source": [
    "nombre_infected        57\n",
    "nombre_sain          2617\n",
    "nombre_exposed         29\n",
    "nombre_recovered    17297\n",
    "Name: 101, dtype: int64"
   ]
  },
  {
   "cell_type": "markdown",
   "id": "7878346b",
   "metadata": {},
   "source": [
    "nombre_infected        54\n",
    "nombre_sain          2668\n",
    "nombre_exposed         28\n",
    "nombre_recovered    17250\n",
    "Name: 102, dtype: int64"
   ]
  },
  {
   "cell_type": "markdown",
   "id": "2758bfd9",
   "metadata": {},
   "source": [
    "nombre_infected        49\n",
    "nombre_sain          2717\n",
    "nombre_exposed         32\n",
    "nombre_recovered    17202\n",
    "Name: 103, dtype: int64"
   ]
  },
  {
   "cell_type": "markdown",
   "id": "d7a73b7c",
   "metadata": {},
   "source": [
    "nombre_infected        49\n",
    "nombre_sain          2767\n",
    "nombre_exposed         31\n",
    "nombre_recovered    17153\n",
    "Name: 104, dtype: int64"
   ]
  },
  {
   "cell_type": "markdown",
   "id": "f68d9575",
   "metadata": {},
   "source": [
    "nombre_infected        45\n",
    "nombre_sain          2796\n",
    "nombre_exposed         27\n",
    "nombre_recovered    17132\n",
    "Name: 105, dtype: int64"
   ]
  },
  {
   "cell_type": "markdown",
   "id": "5cbb96b3",
   "metadata": {},
   "source": [
    "nombre_infected        49\n",
    "nombre_sain          2825\n",
    "nombre_exposed         29\n",
    "nombre_recovered    17097\n",
    "Name: 106, dtype: int64"
   ]
  },
  {
   "cell_type": "markdown",
   "id": "1ae7b9f7",
   "metadata": {},
   "source": [
    "nombre_infected        48\n",
    "nombre_sain          2875\n",
    "nombre_exposed         28\n",
    "nombre_recovered    17049\n",
    "Name: 107, dtype: int64"
   ]
  },
  {
   "cell_type": "markdown",
   "id": "007775cf",
   "metadata": {},
   "source": [
    "nombre_infected        51\n",
    "nombre_sain          2917\n",
    "nombre_exposed         30\n",
    "nombre_recovered    17002\n",
    "Name: 108, dtype: int64"
   ]
  },
  {
   "cell_type": "markdown",
   "id": "8bbbd6e0",
   "metadata": {},
   "source": [
    "nombre_infected        51\n",
    "nombre_sain          2962\n",
    "nombre_exposed         27\n",
    "nombre_recovered    16960\n",
    "Name: 109, dtype: int64"
   ]
  },
  {
   "cell_type": "markdown",
   "id": "bb5cdd89",
   "metadata": {},
   "source": [
    "nombre_infected        51\n",
    "nombre_sain          3000\n",
    "nombre_exposed         33\n",
    "nombre_recovered    16916\n",
    "Name: 110, dtype: int64"
   ]
  },
  {
   "cell_type": "markdown",
   "id": "00fc19a1",
   "metadata": {},
   "source": [
    "nombre_infected        49\n",
    "nombre_sain          3039\n",
    "nombre_exposed         36\n",
    "nombre_recovered    16876\n",
    "Name: 111, dtype: int64"
   ]
  },
  {
   "cell_type": "markdown",
   "id": "c5fd8c72",
   "metadata": {},
   "source": [
    "nombre_infected        51\n",
    "nombre_sain          3081\n",
    "nombre_exposed         44\n",
    "nombre_recovered    16824\n",
    "Name: 112, dtype: int64"
   ]
  },
  {
   "cell_type": "markdown",
   "id": "393b51cd",
   "metadata": {},
   "source": [
    "nombre_infected        53\n",
    "nombre_sain          3125\n",
    "nombre_exposed         48\n",
    "nombre_recovered    16774\n",
    "Name: 113, dtype: int64"
   ]
  },
  {
   "cell_type": "markdown",
   "id": "f8144e3d",
   "metadata": {},
   "source": [
    "nombre_infected        53\n",
    "nombre_sain          3159\n",
    "nombre_exposed         53\n",
    "nombre_recovered    16735\n",
    "Name: 114, dtype: int64"
   ]
  },
  {
   "cell_type": "markdown",
   "id": "7dae2d3b",
   "metadata": {},
   "source": [
    "nombre_infected        58\n",
    "nombre_sain          3189\n",
    "nombre_exposed         57\n",
    "nombre_recovered    16696\n",
    "Name: 115, dtype: int64"
   ]
  },
  {
   "cell_type": "markdown",
   "id": "56f1658d",
   "metadata": {},
   "source": [
    "nombre_infected        65\n",
    "nombre_sain          3247\n",
    "nombre_exposed         51\n",
    "nombre_recovered    16637\n",
    "Name: 116, dtype: int64"
   ]
  },
  {
   "cell_type": "markdown",
   "id": "a46cb4e5",
   "metadata": {},
   "source": [
    "nombre_infected        70\n",
    "nombre_sain          3289\n",
    "nombre_exposed         49\n",
    "nombre_recovered    16592\n",
    "Name: 117, dtype: int64"
   ]
  },
  {
   "cell_type": "markdown",
   "id": "ba21dc79",
   "metadata": {},
   "source": [
    "nombre_infected        69\n",
    "nombre_sain          3316\n",
    "nombre_exposed         57\n",
    "nombre_recovered    16558\n",
    "Name: 118, dtype: int64"
   ]
  },
  {
   "cell_type": "markdown",
   "id": "bf4e721f",
   "metadata": {},
   "source": [
    "nombre_infected        74\n",
    "nombre_sain          3354\n",
    "nombre_exposed         54\n",
    "nombre_recovered    16518\n",
    "Name: 119, dtype: int64"
   ]
  },
  {
   "cell_type": "markdown",
   "id": "14388abd",
   "metadata": {},
   "source": [
    "nombre_infected        78\n",
    "nombre_sain          3387\n",
    "nombre_exposed         60\n",
    "nombre_recovered    16475\n",
    "Name: 120, dtype: int64"
   ]
  },
  {
   "cell_type": "markdown",
   "id": "c582e94d",
   "metadata": {},
   "source": [
    "nombre_infected        80\n",
    "nombre_sain          3407\n",
    "nombre_exposed         63\n",
    "nombre_recovered    16450\n",
    "Name: 121, dtype: int64"
   ]
  },
  {
   "cell_type": "markdown",
   "id": "73411dca",
   "metadata": {},
   "source": [
    "nombre_infected        88\n",
    "nombre_sain          3426\n",
    "nombre_exposed         66\n",
    "nombre_recovered    16420\n",
    "Name: 122, dtype: int64"
   ]
  },
  {
   "cell_type": "markdown",
   "id": "928d0af7",
   "metadata": {},
   "source": [
    "nombre_infected        91\n",
    "nombre_sain          3451\n",
    "nombre_exposed         73\n",
    "nombre_recovered    16385\n",
    "Name: 123, dtype: int64"
   ]
  },
  {
   "cell_type": "markdown",
   "id": "eb65393a",
   "metadata": {},
   "source": [
    "nombre_infected        99\n",
    "nombre_sain          3460\n",
    "nombre_exposed         79\n",
    "nombre_recovered    16362\n",
    "Name: 124, dtype: int64"
   ]
  },
  {
   "cell_type": "markdown",
   "id": "28175f53",
   "metadata": {},
   "source": [
    "nombre_infected       116\n",
    "nombre_sain          3482\n",
    "nombre_exposed         70\n",
    "nombre_recovered    16332\n",
    "Name: 125, dtype: int64"
   ]
  },
  {
   "cell_type": "markdown",
   "id": "07186a89",
   "metadata": {},
   "source": [
    "nombre_infected       116\n",
    "nombre_sain          3501\n",
    "nombre_exposed         79\n",
    "nombre_recovered    16304\n",
    "Name: 126, dtype: int64"
   ]
  },
  {
   "cell_type": "markdown",
   "id": "edcce4a6",
   "metadata": {},
   "source": [
    "nombre_infected       127\n",
    "nombre_sain          3520\n",
    "nombre_exposed         78\n",
    "nombre_recovered    16275\n",
    "Name: 127, dtype: int64"
   ]
  },
  {
   "cell_type": "markdown",
   "id": "de83e651",
   "metadata": {},
   "source": [
    "nombre_infected       111\n",
    "nombre_sain          3545\n",
    "nombre_exposed         94\n",
    "nombre_recovered    16250\n",
    "Name: 128, dtype: int64"
   ]
  },
  {
   "cell_type": "markdown",
   "id": "167ff101",
   "metadata": {},
   "source": [
    "nombre_infected       126\n",
    "nombre_sain          3578\n",
    "nombre_exposed         87\n",
    "nombre_recovered    16209\n",
    "Name: 129, dtype: int64"
   ]
  },
  {
   "cell_type": "markdown",
   "id": "62e107df",
   "metadata": {},
   "source": [
    "nombre_infected       126\n",
    "nombre_sain          3598\n",
    "nombre_exposed        101\n",
    "nombre_recovered    16175\n",
    "Name: 130, dtype: int64"
   ]
  },
  {
   "cell_type": "markdown",
   "id": "5ab97271",
   "metadata": {},
   "source": [
    "nombre_infected       137\n",
    "nombre_sain          3615\n",
    "nombre_exposed         99\n",
    "nombre_recovered    16149\n",
    "Name: 131, dtype: int64"
   ]
  },
  {
   "cell_type": "markdown",
   "id": "d55817e7",
   "metadata": {},
   "source": [
    "nombre_infected       143\n",
    "nombre_sain          3648\n",
    "nombre_exposed        104\n",
    "nombre_recovered    16105\n",
    "Name: 132, dtype: int64"
   ]
  },
  {
   "cell_type": "markdown",
   "id": "f6957860",
   "metadata": {},
   "source": [
    "nombre_infected       149\n",
    "nombre_sain          3660\n",
    "nombre_exposed        101\n",
    "nombre_recovered    16090\n",
    "Name: 133, dtype: int64"
   ]
  },
  {
   "cell_type": "markdown",
   "id": "fd4e6723",
   "metadata": {},
   "source": [
    "nombre_infected       154\n",
    "nombre_sain          3662\n",
    "nombre_exposed        123\n",
    "nombre_recovered    16061\n",
    "Name: 134, dtype: int64"
   ]
  },
  {
   "cell_type": "markdown",
   "id": "6c4994b0",
   "metadata": {},
   "source": [
    "nombre_infected       157\n",
    "nombre_sain          3677\n",
    "nombre_exposed        133\n",
    "nombre_recovered    16033\n",
    "Name: 135, dtype: int64"
   ]
  },
  {
   "cell_type": "markdown",
   "id": "8cf4a9fb",
   "metadata": {},
   "source": [
    "nombre_infected       159\n",
    "nombre_sain          3715\n",
    "nombre_exposed        130\n",
    "nombre_recovered    15996\n",
    "Name: 136, dtype: int64"
   ]
  },
  {
   "cell_type": "markdown",
   "id": "c7eaae63",
   "metadata": {},
   "source": [
    "nombre_infected       166\n",
    "nombre_sain          3736\n",
    "nombre_exposed        128\n",
    "nombre_recovered    15970\n",
    "Name: 137, dtype: int64"
   ]
  },
  {
   "cell_type": "markdown",
   "id": "5afd4550",
   "metadata": {},
   "source": [
    "nombre_infected       176\n",
    "nombre_sain          3760\n",
    "nombre_exposed        142\n",
    "nombre_recovered    15922\n",
    "Name: 138, dtype: int64"
   ]
  },
  {
   "cell_type": "markdown",
   "id": "38825f41",
   "metadata": {},
   "source": [
    "nombre_infected       173\n",
    "nombre_sain          3781\n",
    "nombre_exposed        164\n",
    "nombre_recovered    15882\n",
    "Name: 139, dtype: int64"
   ]
  },
  {
   "cell_type": "markdown",
   "id": "3112f779",
   "metadata": {},
   "source": [
    "nombre_infected       174\n",
    "nombre_sain          3805\n",
    "nombre_exposed        183\n",
    "nombre_recovered    15838\n",
    "Name: 140, dtype: int64"
   ]
  },
  {
   "cell_type": "markdown",
   "id": "a5eca95c",
   "metadata": {},
   "source": [
    "nombre_infected       190\n",
    "nombre_sain          3833\n",
    "nombre_exposed        175\n",
    "nombre_recovered    15802\n",
    "Name: 141, dtype: int64"
   ]
  },
  {
   "cell_type": "markdown",
   "id": "4c31845d",
   "metadata": {},
   "source": [
    "nombre_infected       209\n",
    "nombre_sain          3860\n",
    "nombre_exposed        180\n",
    "nombre_recovered    15751\n",
    "Name: 142, dtype: int64"
   ]
  },
  {
   "cell_type": "markdown",
   "id": "ae7466cd",
   "metadata": {},
   "source": [
    "nombre_infected       219\n",
    "nombre_sain          3875\n",
    "nombre_exposed        179\n",
    "nombre_recovered    15727\n",
    "Name: 143, dtype: int64"
   ]
  },
  {
   "cell_type": "markdown",
   "id": "d531a588",
   "metadata": {},
   "source": [
    "nombre_infected       233\n",
    "nombre_sain          3886\n",
    "nombre_exposed        191\n",
    "nombre_recovered    15690\n",
    "Name: 144, dtype: int64"
   ]
  },
  {
   "cell_type": "markdown",
   "id": "a5eee30a",
   "metadata": {},
   "source": [
    "nombre_infected       252\n",
    "nombre_sain          3902\n",
    "nombre_exposed        205\n",
    "nombre_recovered    15641\n",
    "Name: 145, dtype: int64"
   ]
  },
  {
   "cell_type": "markdown",
   "id": "f502b98d",
   "metadata": {},
   "source": [
    "nombre_infected       274\n",
    "nombre_sain          3886\n",
    "nombre_exposed        225\n",
    "nombre_recovered    15615\n",
    "Name: 146, dtype: int64"
   ]
  },
  {
   "cell_type": "markdown",
   "id": "b5b66184",
   "metadata": {},
   "source": [
    "nombre_infected       283\n",
    "nombre_sain          3885\n",
    "nombre_exposed        241\n",
    "nombre_recovered    15591\n",
    "Name: 147, dtype: int64"
   ]
  },
  {
   "cell_type": "markdown",
   "id": "f2f5c3a1",
   "metadata": {},
   "source": [
    "nombre_infected       290\n",
    "nombre_sain          3867\n",
    "nombre_exposed        261\n",
    "nombre_recovered    15582\n",
    "Name: 148, dtype: int64"
   ]
  },
  {
   "cell_type": "markdown",
   "id": "fa8c4ade",
   "metadata": {},
   "source": [
    "nombre_infected       307\n",
    "nombre_sain          3842\n",
    "nombre_exposed        283\n",
    "nombre_recovered    15568\n",
    "Name: 149, dtype: int64"
   ]
  },
  {
   "cell_type": "markdown",
   "id": "0a40861a",
   "metadata": {},
   "source": [
    "nombre_infected       322\n",
    "nombre_sain          3820\n",
    "nombre_exposed        295\n",
    "nombre_recovered    15563\n",
    "Name: 150, dtype: int64"
   ]
  },
  {
   "cell_type": "markdown",
   "id": "e88d3f83",
   "metadata": {},
   "source": [
    "nombre_infected       332\n",
    "nombre_sain          3811\n",
    "nombre_exposed        302\n",
    "nombre_recovered    15555\n",
    "Name: 151, dtype: int64"
   ]
  },
  {
   "cell_type": "markdown",
   "id": "fc6f98fc",
   "metadata": {},
   "source": [
    "nombre_infected       359\n",
    "nombre_sain          3792\n",
    "nombre_exposed        297\n",
    "nombre_recovered    15552\n",
    "Name: 152, dtype: int64"
   ]
  },
  {
   "cell_type": "markdown",
   "id": "a8dac1a5",
   "metadata": {},
   "source": [
    "nombre_infected       379\n",
    "nombre_sain          3758\n",
    "nombre_exposed        312\n",
    "nombre_recovered    15551\n",
    "Name: 153, dtype: int64"
   ]
  },
  {
   "cell_type": "markdown",
   "id": "b926020a",
   "metadata": {},
   "source": [
    "nombre_infected       393\n",
    "nombre_sain          3711\n",
    "nombre_exposed        343\n",
    "nombre_recovered    15553\n",
    "Name: 154, dtype: int64"
   ]
  },
  {
   "cell_type": "markdown",
   "id": "45c6bde8",
   "metadata": {},
   "source": [
    "nombre_infected       409\n",
    "nombre_sain          3675\n",
    "nombre_exposed        357\n",
    "nombre_recovered    15559\n",
    "Name: 155, dtype: int64"
   ]
  },
  {
   "cell_type": "markdown",
   "id": "66b36d84",
   "metadata": {},
   "source": [
    "nombre_infected       447\n",
    "nombre_sain          3611\n",
    "nombre_exposed        381\n",
    "nombre_recovered    15561\n",
    "Name: 156, dtype: int64"
   ]
  },
  {
   "cell_type": "markdown",
   "id": "825c52a2",
   "metadata": {},
   "source": [
    "nombre_infected       472\n",
    "nombre_sain          3547\n",
    "nombre_exposed        405\n",
    "nombre_recovered    15576\n",
    "Name: 157, dtype: int64"
   ]
  },
  {
   "cell_type": "markdown",
   "id": "3e2de44c",
   "metadata": {},
   "source": [
    "nombre_infected       481\n",
    "nombre_sain          3488\n",
    "nombre_exposed        427\n",
    "nombre_recovered    15604\n",
    "Name: 158, dtype: int64"
   ]
  },
  {
   "cell_type": "markdown",
   "id": "02ce5d8d",
   "metadata": {},
   "source": [
    "nombre_infected       529\n",
    "nombre_sain          3439\n",
    "nombre_exposed        429\n",
    "nombre_recovered    15603\n",
    "Name: 159, dtype: int64"
   ]
  },
  {
   "cell_type": "markdown",
   "id": "bb366504",
   "metadata": {},
   "source": [
    "nombre_infected       561\n",
    "nombre_sain          3372\n",
    "nombre_exposed        447\n",
    "nombre_recovered    15620\n",
    "Name: 160, dtype: int64"
   ]
  },
  {
   "cell_type": "markdown",
   "id": "d7171b97",
   "metadata": {},
   "source": [
    "nombre_infected       582\n",
    "nombre_sain          3321\n",
    "nombre_exposed        450\n",
    "nombre_recovered    15647\n",
    "Name: 161, dtype: int64"
   ]
  },
  {
   "cell_type": "markdown",
   "id": "09c25ffd",
   "metadata": {},
   "source": [
    "nombre_infected       613\n",
    "nombre_sain          3242\n",
    "nombre_exposed        474\n",
    "nombre_recovered    15671\n",
    "Name: 162, dtype: int64"
   ]
  },
  {
   "cell_type": "markdown",
   "id": "0d42ab1a",
   "metadata": {},
   "source": [
    "nombre_infected       622\n",
    "nombre_sain          3187\n",
    "nombre_exposed        493\n",
    "nombre_recovered    15698\n",
    "Name: 163, dtype: int64"
   ]
  },
  {
   "cell_type": "markdown",
   "id": "aa573843",
   "metadata": {},
   "source": [
    "nombre_infected       654\n",
    "nombre_sain          3142\n",
    "nombre_exposed        483\n",
    "nombre_recovered    15721\n",
    "Name: 164, dtype: int64"
   ]
  },
  {
   "cell_type": "markdown",
   "id": "6f5c10da",
   "metadata": {},
   "source": [
    "nombre_infected       674\n",
    "nombre_sain          3068\n",
    "nombre_exposed        518\n",
    "nombre_recovered    15740\n",
    "Name: 165, dtype: int64"
   ]
  },
  {
   "cell_type": "markdown",
   "id": "4e370756",
   "metadata": {},
   "source": [
    "nombre_infected       682\n",
    "nombre_sain          2986\n",
    "nombre_exposed        548\n",
    "nombre_recovered    15784\n",
    "Name: 166, dtype: int64"
   ]
  },
  {
   "cell_type": "markdown",
   "id": "3415f955",
   "metadata": {},
   "source": [
    "nombre_infected       726\n",
    "nombre_sain          2935\n",
    "nombre_exposed        533\n",
    "nombre_recovered    15806\n",
    "Name: 167, dtype: int64"
   ]
  },
  {
   "cell_type": "markdown",
   "id": "d3b6d334",
   "metadata": {},
   "source": [
    "nombre_infected       771\n",
    "nombre_sain          2834\n",
    "nombre_exposed        546\n",
    "nombre_recovered    15849\n",
    "Name: 168, dtype: int64"
   ]
  },
  {
   "cell_type": "markdown",
   "id": "7a901f3e",
   "metadata": {},
   "source": [
    "nombre_infected       790\n",
    "nombre_sain          2768\n",
    "nombre_exposed        544\n",
    "nombre_recovered    15898\n",
    "Name: 169, dtype: int64"
   ]
  },
  {
   "cell_type": "markdown",
   "id": "cc94b885",
   "metadata": {},
   "source": [
    "nombre_infected       824\n",
    "nombre_sain          2703\n",
    "nombre_exposed        552\n",
    "nombre_recovered    15921\n",
    "Name: 170, dtype: int64"
   ]
  },
  {
   "cell_type": "markdown",
   "id": "7ba7ce0c",
   "metadata": {},
   "source": [
    "nombre_infected       845\n",
    "nombre_sain          2629\n",
    "nombre_exposed        555\n",
    "nombre_recovered    15971\n",
    "Name: 171, dtype: int64"
   ]
  },
  {
   "cell_type": "markdown",
   "id": "e90814d8",
   "metadata": {},
   "source": [
    "nombre_infected       833\n",
    "nombre_sain          2573\n",
    "nombre_exposed        564\n",
    "nombre_recovered    16030\n",
    "Name: 172, dtype: int64"
   ]
  },
  {
   "cell_type": "markdown",
   "id": "c9bbb87c",
   "metadata": {},
   "source": [
    "nombre_infected       861\n",
    "nombre_sain          2510\n",
    "nombre_exposed        537\n",
    "nombre_recovered    16092\n",
    "Name: 173, dtype: int64"
   ]
  },
  {
   "cell_type": "markdown",
   "id": "4a4acbbe",
   "metadata": {},
   "source": [
    "nombre_infected       864\n",
    "nombre_sain          2437\n",
    "nombre_exposed        547\n",
    "nombre_recovered    16152\n",
    "Name: 174, dtype: int64"
   ]
  },
  {
   "cell_type": "markdown",
   "id": "09c6216c",
   "metadata": {},
   "source": [
    "nombre_infected       857\n",
    "nombre_sain          2364\n",
    "nombre_exposed        557\n",
    "nombre_recovered    16222\n",
    "Name: 175, dtype: int64"
   ]
  },
  {
   "cell_type": "markdown",
   "id": "0b599789",
   "metadata": {},
   "source": [
    "nombre_infected       879\n",
    "nombre_sain          2318\n",
    "nombre_exposed        554\n",
    "nombre_recovered    16249\n",
    "Name: 176, dtype: int64"
   ]
  },
  {
   "cell_type": "markdown",
   "id": "c1a5451e",
   "metadata": {},
   "source": [
    "nombre_infected       886\n",
    "nombre_sain          2260\n",
    "nombre_exposed        553\n",
    "nombre_recovered    16301\n",
    "Name: 177, dtype: int64"
   ]
  },
  {
   "cell_type": "markdown",
   "id": "4e5a42ed",
   "metadata": {},
   "source": [
    "nombre_infected       903\n",
    "nombre_sain          2223\n",
    "nombre_exposed        533\n",
    "nombre_recovered    16341\n",
    "Name: 178, dtype: int64"
   ]
  },
  {
   "cell_type": "markdown",
   "id": "12df8c32",
   "metadata": {},
   "source": [
    "nombre_infected       922\n",
    "nombre_sain          2173\n",
    "nombre_exposed        524\n",
    "nombre_recovered    16381\n",
    "Name: 179, dtype: int64"
   ]
  },
  {
   "cell_type": "markdown",
   "id": "c0b02256",
   "metadata": {},
   "source": [
    "nombre_infected       930\n",
    "nombre_sain          2142\n",
    "nombre_exposed        491\n",
    "nombre_recovered    16437\n",
    "Name: 180, dtype: int64"
   ]
  },
  {
   "cell_type": "markdown",
   "id": "042fa2f5",
   "metadata": {},
   "source": [
    "nombre_infected       942\n",
    "nombre_sain          2094\n",
    "nombre_exposed        466\n",
    "nombre_recovered    16498\n",
    "Name: 181, dtype: int64"
   ]
  },
  {
   "cell_type": "markdown",
   "id": "a6bb3405",
   "metadata": {},
   "source": [
    "nombre_infected       934\n",
    "nombre_sain          2054\n",
    "nombre_exposed        464\n",
    "nombre_recovered    16548\n",
    "Name: 182, dtype: int64"
   ]
  },
  {
   "cell_type": "markdown",
   "id": "2611d781",
   "metadata": {},
   "source": [
    "nombre_infected       888\n",
    "nombre_sain          2005\n",
    "nombre_exposed        488\n",
    "nombre_recovered    16619\n",
    "Name: 183, dtype: int64"
   ]
  },
  {
   "cell_type": "markdown",
   "id": "2b71b417",
   "metadata": {},
   "source": [
    "nombre_infected       868\n",
    "nombre_sain          1969\n",
    "nombre_exposed        495\n",
    "nombre_recovered    16668\n",
    "Name: 184, dtype: int64"
   ]
  },
  {
   "cell_type": "markdown",
   "id": "422b1af6",
   "metadata": {},
   "source": [
    "nombre_infected       867\n",
    "nombre_sain          1942\n",
    "nombre_exposed        478\n",
    "nombre_recovered    16713\n",
    "Name: 185, dtype: int64"
   ]
  },
  {
   "cell_type": "markdown",
   "id": "7a395c8e",
   "metadata": {},
   "source": [
    "nombre_infected       859\n",
    "nombre_sain          1896\n",
    "nombre_exposed        477\n",
    "nombre_recovered    16768\n",
    "Name: 186, dtype: int64"
   ]
  },
  {
   "cell_type": "markdown",
   "id": "da862270",
   "metadata": {},
   "source": [
    "nombre_infected       866\n",
    "nombre_sain          1875\n",
    "nombre_exposed        471\n",
    "nombre_recovered    16788\n",
    "Name: 187, dtype: int64"
   ]
  },
  {
   "cell_type": "markdown",
   "id": "c8677dab",
   "metadata": {},
   "source": [
    "nombre_infected       851\n",
    "nombre_sain          1875\n",
    "nombre_exposed        451\n",
    "nombre_recovered    16823\n",
    "Name: 188, dtype: int64"
   ]
  },
  {
   "cell_type": "markdown",
   "id": "6ca95d9f",
   "metadata": {},
   "source": [
    "nombre_infected       828\n",
    "nombre_sain          1850\n",
    "nombre_exposed        451\n",
    "nombre_recovered    16871\n",
    "Name: 189, dtype: int64"
   ]
  },
  {
   "cell_type": "markdown",
   "id": "4eaee2e0",
   "metadata": {},
   "source": [
    "nombre_infected       796\n",
    "nombre_sain          1813\n",
    "nombre_exposed        453\n",
    "nombre_recovered    16938\n",
    "Name: 190, dtype: int64"
   ]
  },
  {
   "cell_type": "markdown",
   "id": "ed0e2970",
   "metadata": {},
   "source": [
    "nombre_infected       803\n",
    "nombre_sain          1831\n",
    "nombre_exposed        414\n",
    "nombre_recovered    16952\n",
    "Name: 191, dtype: int64"
   ]
  },
  {
   "cell_type": "markdown",
   "id": "220acba7",
   "metadata": {},
   "source": [
    "nombre_infected       788\n",
    "nombre_sain          1815\n",
    "nombre_exposed        407\n",
    "nombre_recovered    16990\n",
    "Name: 192, dtype: int64"
   ]
  },
  {
   "cell_type": "markdown",
   "id": "3d7a6d7d",
   "metadata": {},
   "source": [
    "nombre_infected       763\n",
    "nombre_sain          1811\n",
    "nombre_exposed        397\n",
    "nombre_recovered    17029\n",
    "Name: 193, dtype: int64"
   ]
  },
  {
   "cell_type": "markdown",
   "id": "6475c2ff",
   "metadata": {},
   "source": [
    "nombre_infected       753\n",
    "nombre_sain          1804\n",
    "nombre_exposed        393\n",
    "nombre_recovered    17050\n",
    "Name: 194, dtype: int64"
   ]
  },
  {
   "cell_type": "markdown",
   "id": "d4127f56",
   "metadata": {},
   "source": [
    "nombre_infected       751\n",
    "nombre_sain          1849\n",
    "nombre_exposed        363\n",
    "nombre_recovered    17037\n",
    "Name: 195, dtype: int64"
   ]
  },
  {
   "cell_type": "markdown",
   "id": "bc607cee",
   "metadata": {},
   "source": [
    "nombre_infected       730\n",
    "nombre_sain          1864\n",
    "nombre_exposed        370\n",
    "nombre_recovered    17036\n",
    "Name: 196, dtype: int64"
   ]
  },
  {
   "cell_type": "markdown",
   "id": "1fcb95b1",
   "metadata": {},
   "source": [
    "nombre_infected       702\n",
    "nombre_sain          1887\n",
    "nombre_exposed        355\n",
    "nombre_recovered    17056\n",
    "Name: 197, dtype: int64"
   ]
  },
  {
   "cell_type": "markdown",
   "id": "7a28aebf",
   "metadata": {},
   "source": [
    "nombre_infected       697\n",
    "nombre_sain          1908\n",
    "nombre_exposed        359\n",
    "nombre_recovered    17036\n",
    "Name: 198, dtype: int64"
   ]
  },
  {
   "cell_type": "markdown",
   "id": "e6edb2f8",
   "metadata": {},
   "source": [
    "nombre_infected       670\n",
    "nombre_sain          1943\n",
    "nombre_exposed        369\n",
    "nombre_recovered    17018\n",
    "Name: 199, dtype: int64"
   ]
  },
  {
   "cell_type": "markdown",
   "id": "56d1841a",
   "metadata": {},
   "source": [
    "nombre_infected       661\n",
    "nombre_sain          1963\n",
    "nombre_exposed        354\n",
    "nombre_recovered    17022\n",
    "Name: 200, dtype: int64"
   ]
  },
  {
   "cell_type": "markdown",
   "id": "9ab08e3f",
   "metadata": {},
   "source": [
    "nombre_infected       642\n",
    "nombre_sain          1976\n",
    "nombre_exposed        361\n",
    "nombre_recovered    17021\n",
    "Name: 201, dtype: int64"
   ]
  },
  {
   "cell_type": "markdown",
   "id": "73d6018e",
   "metadata": {},
   "source": [
    "nombre_infected       629\n",
    "nombre_sain          2004\n",
    "nombre_exposed        368\n",
    "nombre_recovered    16999\n",
    "Name: 202, dtype: int64"
   ]
  },
  {
   "cell_type": "markdown",
   "id": "f3d19a39",
   "metadata": {},
   "source": [
    "nombre_infected       622\n",
    "nombre_sain          2045\n",
    "nombre_exposed        346\n",
    "nombre_recovered    16987\n",
    "Name: 203, dtype: int64"
   ]
  },
  {
   "cell_type": "markdown",
   "id": "42119662",
   "metadata": {},
   "source": [
    "nombre_infected       597\n",
    "nombre_sain          2066\n",
    "nombre_exposed        343\n",
    "nombre_recovered    16994\n",
    "Name: 204, dtype: int64"
   ]
  },
  {
   "cell_type": "markdown",
   "id": "3a548084",
   "metadata": {},
   "source": [
    "nombre_infected       603\n",
    "nombre_sain          2059\n",
    "nombre_exposed        359\n",
    "nombre_recovered    16979\n",
    "Name: 205, dtype: int64"
   ]
  },
  {
   "cell_type": "markdown",
   "id": "50be6eda",
   "metadata": {},
   "source": [
    "nombre_infected       594\n",
    "nombre_sain          2081\n",
    "nombre_exposed        349\n",
    "nombre_recovered    16976\n",
    "Name: 206, dtype: int64"
   ]
  },
  {
   "cell_type": "markdown",
   "id": "ae50d0f5",
   "metadata": {},
   "source": [
    "nombre_infected       592\n",
    "nombre_sain          2084\n",
    "nombre_exposed        343\n",
    "nombre_recovered    16981\n",
    "Name: 207, dtype: int64"
   ]
  },
  {
   "cell_type": "markdown",
   "id": "130775c3",
   "metadata": {},
   "source": [
    "nombre_infected       595\n",
    "nombre_sain          2089\n",
    "nombre_exposed        332\n",
    "nombre_recovered    16984\n",
    "Name: 208, dtype: int64"
   ]
  },
  {
   "cell_type": "markdown",
   "id": "7f74dfdb",
   "metadata": {},
   "source": [
    "nombre_infected       594\n",
    "nombre_sain          2062\n",
    "nombre_exposed        351\n",
    "nombre_recovered    16993\n",
    "Name: 209, dtype: int64"
   ]
  },
  {
   "cell_type": "markdown",
   "id": "677dd34a",
   "metadata": {},
   "source": [
    "nombre_infected       585\n",
    "nombre_sain          2077\n",
    "nombre_exposed        354\n",
    "nombre_recovered    16984\n",
    "Name: 210, dtype: int64"
   ]
  },
  {
   "cell_type": "markdown",
   "id": "955a8847",
   "metadata": {},
   "source": [
    "nombre_infected       585\n",
    "nombre_sain          2073\n",
    "nombre_exposed        347\n",
    "nombre_recovered    16995\n",
    "Name: 211, dtype: int64"
   ]
  },
  {
   "cell_type": "markdown",
   "id": "47de3c29",
   "metadata": {},
   "source": [
    "nombre_infected       598\n",
    "nombre_sain          2076\n",
    "nombre_exposed        346\n",
    "nombre_recovered    16980\n",
    "Name: 212, dtype: int64"
   ]
  },
  {
   "cell_type": "markdown",
   "id": "04a1c330",
   "metadata": {},
   "source": [
    "nombre_infected       591\n",
    "nombre_sain          2081\n",
    "nombre_exposed        339\n",
    "nombre_recovered    16989\n",
    "Name: 213, dtype: int64"
   ]
  },
  {
   "cell_type": "markdown",
   "id": "388d6f93",
   "metadata": {},
   "source": [
    "nombre_infected       594\n",
    "nombre_sain          2093\n",
    "nombre_exposed        335\n",
    "nombre_recovered    16978\n",
    "Name: 214, dtype: int64"
   ]
  },
  {
   "cell_type": "markdown",
   "id": "12f6818e",
   "metadata": {},
   "source": [
    "nombre_infected       583\n",
    "nombre_sain          2091\n",
    "nombre_exposed        344\n",
    "nombre_recovered    16982\n",
    "Name: 215, dtype: int64"
   ]
  },
  {
   "cell_type": "markdown",
   "id": "7d1fcc0b",
   "metadata": {},
   "source": [
    "nombre_infected       590\n",
    "nombre_sain          2095\n",
    "nombre_exposed        349\n",
    "nombre_recovered    16966\n",
    "Name: 216, dtype: int64"
   ]
  },
  {
   "cell_type": "markdown",
   "id": "f13a65ec",
   "metadata": {},
   "source": [
    "nombre_infected       575\n",
    "nombre_sain          2097\n",
    "nombre_exposed        344\n",
    "nombre_recovered    16984\n",
    "Name: 217, dtype: int64"
   ]
  },
  {
   "cell_type": "markdown",
   "id": "f5f5dc5d",
   "metadata": {},
   "source": [
    "nombre_infected       574\n",
    "nombre_sain          2096\n",
    "nombre_exposed        336\n",
    "nombre_recovered    16994\n",
    "Name: 218, dtype: int64"
   ]
  },
  {
   "cell_type": "markdown",
   "id": "d66fe16b",
   "metadata": {},
   "source": [
    "nombre_infected       572\n",
    "nombre_sain          2119\n",
    "nombre_exposed        315\n",
    "nombre_recovered    16994\n",
    "Name: 219, dtype: int64"
   ]
  },
  {
   "cell_type": "markdown",
   "id": "04629cb4",
   "metadata": {},
   "source": [
    "nombre_infected       568\n",
    "nombre_sain          2123\n",
    "nombre_exposed        320\n",
    "nombre_recovered    16989\n",
    "Name: 220, dtype: int64"
   ]
  },
  {
   "cell_type": "markdown",
   "id": "1ae03b22",
   "metadata": {},
   "source": [
    "nombre_infected       553\n",
    "nombre_sain          2131\n",
    "nombre_exposed        320\n",
    "nombre_recovered    16996\n",
    "Name: 221, dtype: int64"
   ]
  },
  {
   "cell_type": "markdown",
   "id": "54a159cb",
   "metadata": {},
   "source": [
    "nombre_infected       544\n",
    "nombre_sain          2149\n",
    "nombre_exposed        321\n",
    "nombre_recovered    16986\n",
    "Name: 222, dtype: int64"
   ]
  },
  {
   "cell_type": "markdown",
   "id": "e0563758",
   "metadata": {},
   "source": [
    "nombre_infected       560\n",
    "nombre_sain          2149\n",
    "nombre_exposed        322\n",
    "nombre_recovered    16969\n",
    "Name: 223, dtype: int64"
   ]
  },
  {
   "cell_type": "markdown",
   "id": "9962b8e2",
   "metadata": {},
   "source": [
    "nombre_infected       560\n",
    "nombre_sain          2175\n",
    "nombre_exposed        310\n",
    "nombre_recovered    16955\n",
    "Name: 224, dtype: int64"
   ]
  },
  {
   "cell_type": "markdown",
   "id": "d7b359ad",
   "metadata": {},
   "source": [
    "nombre_infected       564\n",
    "nombre_sain          2204\n",
    "nombre_exposed        315\n",
    "nombre_recovered    16917\n",
    "Name: 225, dtype: int64"
   ]
  },
  {
   "cell_type": "markdown",
   "id": "a9f54388",
   "metadata": {},
   "source": [
    "nombre_infected       576\n",
    "nombre_sain          2212\n",
    "nombre_exposed        314\n",
    "nombre_recovered    16898\n",
    "Name: 226, dtype: int64"
   ]
  },
  {
   "cell_type": "markdown",
   "id": "b73ff87c",
   "metadata": {},
   "source": [
    "nombre_infected       554\n",
    "nombre_sain          2209\n",
    "nombre_exposed        326\n",
    "nombre_recovered    16911\n",
    "Name: 227, dtype: int64"
   ]
  },
  {
   "cell_type": "markdown",
   "id": "b62eb058",
   "metadata": {},
   "source": [
    "nombre_infected       538\n",
    "nombre_sain          2237\n",
    "nombre_exposed        318\n",
    "nombre_recovered    16907\n",
    "Name: 228, dtype: int64"
   ]
  },
  {
   "cell_type": "markdown",
   "id": "6025fe26",
   "metadata": {},
   "source": [
    "nombre_infected       543\n",
    "nombre_sain          2254\n",
    "nombre_exposed        292\n",
    "nombre_recovered    16911\n",
    "Name: 229, dtype: int64"
   ]
  },
  {
   "cell_type": "markdown",
   "id": "e28b5024",
   "metadata": {},
   "source": [
    "nombre_infected       541\n",
    "nombre_sain          2279\n",
    "nombre_exposed        275\n",
    "nombre_recovered    16905\n",
    "Name: 230, dtype: int64"
   ]
  },
  {
   "cell_type": "markdown",
   "id": "feb4bc30",
   "metadata": {},
   "source": [
    "nombre_infected       519\n",
    "nombre_sain          2297\n",
    "nombre_exposed        289\n",
    "nombre_recovered    16895\n",
    "Name: 231, dtype: int64"
   ]
  },
  {
   "cell_type": "markdown",
   "id": "c717fb63",
   "metadata": {},
   "source": [
    "nombre_infected       513\n",
    "nombre_sain          2334\n",
    "nombre_exposed        287\n",
    "nombre_recovered    16866\n",
    "Name: 232, dtype: int64"
   ]
  },
  {
   "cell_type": "markdown",
   "id": "86c2ce1f",
   "metadata": {},
   "source": [
    "nombre_infected       503\n",
    "nombre_sain          2349\n",
    "nombre_exposed        285\n",
    "nombre_recovered    16863\n",
    "Name: 233, dtype: int64"
   ]
  },
  {
   "cell_type": "markdown",
   "id": "06a73e51",
   "metadata": {},
   "source": [
    "nombre_infected       522\n",
    "nombre_sain          2376\n",
    "nombre_exposed        293\n",
    "nombre_recovered    16809\n",
    "Name: 234, dtype: int64"
   ]
  },
  {
   "cell_type": "markdown",
   "id": "39011bdc",
   "metadata": {},
   "source": [
    "nombre_infected       512\n",
    "nombre_sain          2394\n",
    "nombre_exposed        295\n",
    "nombre_recovered    16799\n",
    "Name: 235, dtype: int64"
   ]
  },
  {
   "cell_type": "markdown",
   "id": "a5847d78",
   "metadata": {},
   "source": [
    "nombre_infected       518\n",
    "nombre_sain          2389\n",
    "nombre_exposed        306\n",
    "nombre_recovered    16787\n",
    "Name: 236, dtype: int64"
   ]
  },
  {
   "cell_type": "markdown",
   "id": "acb515bf",
   "metadata": {},
   "source": [
    "nombre_infected       497\n",
    "nombre_sain          2368\n",
    "nombre_exposed        344\n",
    "nombre_recovered    16791\n",
    "Name: 237, dtype: int64"
   ]
  },
  {
   "cell_type": "markdown",
   "id": "836c213a",
   "metadata": {},
   "source": [
    "nombre_infected       501\n",
    "nombre_sain          2381\n",
    "nombre_exposed        327\n",
    "nombre_recovered    16791\n",
    "Name: 238, dtype: int64"
   ]
  },
  {
   "cell_type": "markdown",
   "id": "33d2ec7d",
   "metadata": {},
   "source": [
    "nombre_infected       507\n",
    "nombre_sain          2373\n",
    "nombre_exposed        340\n",
    "nombre_recovered    16780\n",
    "Name: 239, dtype: int64"
   ]
  },
  {
   "cell_type": "markdown",
   "id": "100f63cb",
   "metadata": {},
   "source": [
    "nombre_infected       520\n",
    "nombre_sain          2387\n",
    "nombre_exposed        348\n",
    "nombre_recovered    16745\n",
    "Name: 240, dtype: int64"
   ]
  },
  {
   "cell_type": "markdown",
   "id": "c595a7ca",
   "metadata": {},
   "source": [
    "nombre_infected       531\n",
    "nombre_sain          2398\n",
    "nombre_exposed        337\n",
    "nombre_recovered    16734\n",
    "Name: 241, dtype: int64"
   ]
  },
  {
   "cell_type": "markdown",
   "id": "9a4abed0",
   "metadata": {},
   "source": [
    "nombre_infected       527\n",
    "nombre_sain          2385\n",
    "nombre_exposed        362\n",
    "nombre_recovered    16726\n",
    "Name: 242, dtype: int64"
   ]
  },
  {
   "cell_type": "markdown",
   "id": "42d70b7e",
   "metadata": {},
   "source": [
    "nombre_infected       530\n",
    "nombre_sain          2388\n",
    "nombre_exposed        352\n",
    "nombre_recovered    16730\n",
    "Name: 243, dtype: int64"
   ]
  },
  {
   "cell_type": "markdown",
   "id": "733135c1",
   "metadata": {},
   "source": [
    "nombre_infected       537\n",
    "nombre_sain          2391\n",
    "nombre_exposed        350\n",
    "nombre_recovered    16722\n",
    "Name: 244, dtype: int64"
   ]
  },
  {
   "cell_type": "markdown",
   "id": "5d114eeb",
   "metadata": {},
   "source": [
    "nombre_infected       544\n",
    "nombre_sain          2380\n",
    "nombre_exposed        356\n",
    "nombre_recovered    16720\n",
    "Name: 245, dtype: int64"
   ]
  },
  {
   "cell_type": "markdown",
   "id": "a13601ef",
   "metadata": {},
   "source": [
    "nombre_infected       560\n",
    "nombre_sain          2388\n",
    "nombre_exposed        355\n",
    "nombre_recovered    16697\n",
    "Name: 246, dtype: int64"
   ]
  },
  {
   "cell_type": "markdown",
   "id": "9c330326",
   "metadata": {},
   "source": [
    "nombre_infected       560\n",
    "nombre_sain          2383\n",
    "nombre_exposed        366\n",
    "nombre_recovered    16691\n",
    "Name: 247, dtype: int64"
   ]
  },
  {
   "cell_type": "markdown",
   "id": "51c027f8",
   "metadata": {},
   "source": [
    "nombre_infected       562\n",
    "nombre_sain          2367\n",
    "nombre_exposed        355\n",
    "nombre_recovered    16716\n",
    "Name: 248, dtype: int64"
   ]
  },
  {
   "cell_type": "markdown",
   "id": "d2e30399",
   "metadata": {},
   "source": [
    "nombre_infected       573\n",
    "nombre_sain          2375\n",
    "nombre_exposed        340\n",
    "nombre_recovered    16712\n",
    "Name: 249, dtype: int64"
   ]
  },
  {
   "cell_type": "markdown",
   "id": "3601d051",
   "metadata": {},
   "source": [
    "nombre_infected       559\n",
    "nombre_sain          2373\n",
    "nombre_exposed        340\n",
    "nombre_recovered    16728\n",
    "Name: 250, dtype: int64"
   ]
  },
  {
   "cell_type": "markdown",
   "id": "e775c957",
   "metadata": {},
   "source": [
    "nombre_infected       560\n",
    "nombre_sain          2359\n",
    "nombre_exposed        341\n",
    "nombre_recovered    16740\n",
    "Name: 251, dtype: int64"
   ]
  },
  {
   "cell_type": "markdown",
   "id": "00157e6f",
   "metadata": {},
   "source": [
    "nombre_infected       557\n",
    "nombre_sain          2363\n",
    "nombre_exposed        334\n",
    "nombre_recovered    16746\n",
    "Name: 252, dtype: int64"
   ]
  },
  {
   "cell_type": "markdown",
   "id": "f744bcd6",
   "metadata": {},
   "source": [
    "nombre_infected       559\n",
    "nombre_sain          2372\n",
    "nombre_exposed        340\n",
    "nombre_recovered    16729\n",
    "Name: 253, dtype: int64"
   ]
  },
  {
   "cell_type": "markdown",
   "id": "1a3be8bf",
   "metadata": {},
   "source": [
    "nombre_infected       557\n",
    "nombre_sain          2380\n",
    "nombre_exposed        350\n",
    "nombre_recovered    16713\n",
    "Name: 254, dtype: int64"
   ]
  },
  {
   "cell_type": "markdown",
   "id": "61109d19",
   "metadata": {},
   "source": [
    "nombre_infected       558\n",
    "nombre_sain          2394\n",
    "nombre_exposed        350\n",
    "nombre_recovered    16698\n",
    "Name: 255, dtype: int64"
   ]
  },
  {
   "cell_type": "markdown",
   "id": "667d7484",
   "metadata": {},
   "source": [
    "nombre_infected       553\n",
    "nombre_sain          2410\n",
    "nombre_exposed        359\n",
    "nombre_recovered    16678\n",
    "Name: 256, dtype: int64"
   ]
  },
  {
   "cell_type": "markdown",
   "id": "aac75a4b",
   "metadata": {},
   "source": [
    "nombre_infected       554\n",
    "nombre_sain          2435\n",
    "nombre_exposed        350\n",
    "nombre_recovered    16661\n",
    "Name: 257, dtype: int64"
   ]
  },
  {
   "cell_type": "markdown",
   "id": "c681f2de",
   "metadata": {},
   "source": [
    "nombre_infected       574\n",
    "nombre_sain          2469\n",
    "nombre_exposed        337\n",
    "nombre_recovered    16620\n",
    "Name: 258, dtype: int64"
   ]
  },
  {
   "cell_type": "markdown",
   "id": "f4e3bfc7",
   "metadata": {},
   "source": [
    "nombre_infected       570\n",
    "nombre_sain          2467\n",
    "nombre_exposed        358\n",
    "nombre_recovered    16605\n",
    "Name: 259, dtype: int64"
   ]
  },
  {
   "cell_type": "markdown",
   "id": "11e89979",
   "metadata": {},
   "source": [
    "nombre_infected       550\n",
    "nombre_sain          2455\n",
    "nombre_exposed        372\n",
    "nombre_recovered    16623\n",
    "Name: 260, dtype: int64"
   ]
  },
  {
   "cell_type": "markdown",
   "id": "ba561d60",
   "metadata": {},
   "source": [
    "nombre_infected       570\n",
    "nombre_sain          2457\n",
    "nombre_exposed        369\n",
    "nombre_recovered    16604\n",
    "Name: 261, dtype: int64"
   ]
  },
  {
   "cell_type": "markdown",
   "id": "a43ed015",
   "metadata": {},
   "source": [
    "nombre_infected       573\n",
    "nombre_sain          2476\n",
    "nombre_exposed        385\n",
    "nombre_recovered    16566\n",
    "Name: 262, dtype: int64"
   ]
  },
  {
   "cell_type": "markdown",
   "id": "3599e52d",
   "metadata": {},
   "source": [
    "nombre_infected       586\n",
    "nombre_sain          2486\n",
    "nombre_exposed        383\n",
    "nombre_recovered    16545\n",
    "Name: 263, dtype: int64"
   ]
  },
  {
   "cell_type": "markdown",
   "id": "e32b50c1",
   "metadata": {},
   "source": [
    "nombre_infected       600\n",
    "nombre_sain          2504\n",
    "nombre_exposed        359\n",
    "nombre_recovered    16537\n",
    "Name: 264, dtype: int64"
   ]
  },
  {
   "cell_type": "markdown",
   "id": "1ccb4227",
   "metadata": {},
   "source": [
    "nombre_infected       613\n",
    "nombre_sain          2510\n",
    "nombre_exposed        368\n",
    "nombre_recovered    16509\n",
    "Name: 265, dtype: int64"
   ]
  },
  {
   "cell_type": "markdown",
   "id": "fd40f53b",
   "metadata": {},
   "source": [
    "nombre_infected       610\n",
    "nombre_sain          2521\n",
    "nombre_exposed        369\n",
    "nombre_recovered    16500\n",
    "Name: 266, dtype: int64"
   ]
  },
  {
   "cell_type": "markdown",
   "id": "52742b12",
   "metadata": {},
   "source": [
    "nombre_infected       623\n",
    "nombre_sain          2489\n",
    "nombre_exposed        375\n",
    "nombre_recovered    16513\n",
    "Name: 267, dtype: int64"
   ]
  },
  {
   "cell_type": "markdown",
   "id": "45a29a90",
   "metadata": {},
   "source": [
    "nombre_infected       629\n",
    "nombre_sain          2476\n",
    "nombre_exposed        383\n",
    "nombre_recovered    16512\n",
    "Name: 268, dtype: int64"
   ]
  },
  {
   "cell_type": "markdown",
   "id": "08d27f63",
   "metadata": {},
   "source": [
    "nombre_infected       650\n",
    "nombre_sain          2480\n",
    "nombre_exposed        384\n",
    "nombre_recovered    16486\n",
    "Name: 269, dtype: int64"
   ]
  },
  {
   "cell_type": "markdown",
   "id": "e857a290",
   "metadata": {},
   "source": [
    "nombre_infected       648\n",
    "nombre_sain          2470\n",
    "nombre_exposed        392\n",
    "nombre_recovered    16490\n",
    "Name: 270, dtype: int64"
   ]
  },
  {
   "cell_type": "markdown",
   "id": "7595ac17",
   "metadata": {},
   "source": [
    "nombre_infected       662\n",
    "nombre_sain          2456\n",
    "nombre_exposed        386\n",
    "nombre_recovered    16496\n",
    "Name: 271, dtype: int64"
   ]
  },
  {
   "cell_type": "markdown",
   "id": "a0deee37",
   "metadata": {},
   "source": [
    "nombre_infected       673\n",
    "nombre_sain          2449\n",
    "nombre_exposed        418\n",
    "nombre_recovered    16460\n",
    "Name: 272, dtype: int64"
   ]
  },
  {
   "cell_type": "markdown",
   "id": "87bf4c36",
   "metadata": {},
   "source": [
    "nombre_infected       665\n",
    "nombre_sain          2446\n",
    "nombre_exposed        435\n",
    "nombre_recovered    16454\n",
    "Name: 273, dtype: int64"
   ]
  },
  {
   "cell_type": "markdown",
   "id": "e8aad04e",
   "metadata": {},
   "source": [
    "nombre_infected       644\n",
    "nombre_sain          2447\n",
    "nombre_exposed        447\n",
    "nombre_recovered    16462\n",
    "Name: 274, dtype: int64"
   ]
  },
  {
   "cell_type": "markdown",
   "id": "a7e1a68e",
   "metadata": {},
   "source": [
    "nombre_infected       664\n",
    "nombre_sain          2464\n",
    "nombre_exposed        435\n",
    "nombre_recovered    16437\n",
    "Name: 275, dtype: int64"
   ]
  },
  {
   "cell_type": "markdown",
   "id": "592a29f9",
   "metadata": {},
   "source": [
    "nombre_infected       673\n",
    "nombre_sain          2430\n",
    "nombre_exposed        453\n",
    "nombre_recovered    16444\n",
    "Name: 276, dtype: int64"
   ]
  },
  {
   "cell_type": "markdown",
   "id": "80cf60e5",
   "metadata": {},
   "source": [
    "nombre_infected       669\n",
    "nombre_sain          2464\n",
    "nombre_exposed        456\n",
    "nombre_recovered    16411\n",
    "Name: 277, dtype: int64"
   ]
  },
  {
   "cell_type": "markdown",
   "id": "85f75114",
   "metadata": {},
   "source": [
    "nombre_infected       697\n",
    "nombre_sain          2484\n",
    "nombre_exposed        435\n",
    "nombre_recovered    16384\n",
    "Name: 278, dtype: int64"
   ]
  },
  {
   "cell_type": "markdown",
   "id": "62e5d5af",
   "metadata": {},
   "source": [
    "nombre_infected       721\n",
    "nombre_sain          2470\n",
    "nombre_exposed        446\n",
    "nombre_recovered    16363\n",
    "Name: 279, dtype: int64"
   ]
  },
  {
   "cell_type": "markdown",
   "id": "1052e94e",
   "metadata": {},
   "source": [
    "nombre_infected       729\n",
    "nombre_sain          2465\n",
    "nombre_exposed        451\n",
    "nombre_recovered    16355\n",
    "Name: 280, dtype: int64"
   ]
  },
  {
   "cell_type": "markdown",
   "id": "0a19b400",
   "metadata": {},
   "source": [
    "nombre_infected       745\n",
    "nombre_sain          2470\n",
    "nombre_exposed        446\n",
    "nombre_recovered    16339\n",
    "Name: 281, dtype: int64"
   ]
  },
  {
   "cell_type": "markdown",
   "id": "3ee65c28",
   "metadata": {},
   "source": [
    "nombre_infected       748\n",
    "nombre_sain          2466\n",
    "nombre_exposed        453\n",
    "nombre_recovered    16333\n",
    "Name: 282, dtype: int64"
   ]
  },
  {
   "cell_type": "markdown",
   "id": "b30cb126",
   "metadata": {},
   "source": [
    "nombre_infected       746\n",
    "nombre_sain          2463\n",
    "nombre_exposed        453\n",
    "nombre_recovered    16338\n",
    "Name: 283, dtype: int64"
   ]
  },
  {
   "cell_type": "markdown",
   "id": "af3f9dc2",
   "metadata": {},
   "source": [
    "nombre_infected       748\n",
    "nombre_sain          2454\n",
    "nombre_exposed        462\n",
    "nombre_recovered    16336\n",
    "Name: 284, dtype: int64"
   ]
  },
  {
   "cell_type": "markdown",
   "id": "0141b470",
   "metadata": {},
   "source": [
    "nombre_infected       747\n",
    "nombre_sain          2445\n",
    "nombre_exposed        460\n",
    "nombre_recovered    16348\n",
    "Name: 285, dtype: int64"
   ]
  },
  {
   "cell_type": "markdown",
   "id": "33c2f970",
   "metadata": {},
   "source": [
    "nombre_infected       762\n",
    "nombre_sain          2439\n",
    "nombre_exposed        454\n",
    "nombre_recovered    16345\n",
    "Name: 286, dtype: int64"
   ]
  },
  {
   "cell_type": "markdown",
   "id": "fbe56f4d",
   "metadata": {},
   "source": [
    "nombre_infected       773\n",
    "nombre_sain          2425\n",
    "nombre_exposed        445\n",
    "nombre_recovered    16357\n",
    "Name: 287, dtype: int64"
   ]
  },
  {
   "cell_type": "markdown",
   "id": "b296a6cc",
   "metadata": {},
   "source": [
    "nombre_infected       770\n",
    "nombre_sain          2434\n",
    "nombre_exposed        452\n",
    "nombre_recovered    16344\n",
    "Name: 288, dtype: int64"
   ]
  },
  {
   "cell_type": "markdown",
   "id": "c644cd85",
   "metadata": {},
   "source": [
    "nombre_infected       801\n",
    "nombre_sain          2428\n",
    "nombre_exposed        446\n",
    "nombre_recovered    16325\n",
    "Name: 289, dtype: int64"
   ]
  },
  {
   "cell_type": "markdown",
   "id": "680aba2f",
   "metadata": {},
   "source": [
    "nombre_infected       796\n",
    "nombre_sain          2449\n",
    "nombre_exposed        447\n",
    "nombre_recovered    16308\n",
    "Name: 290, dtype: int64"
   ]
  },
  {
   "cell_type": "markdown",
   "id": "994cacce",
   "metadata": {},
   "source": [
    "nombre_infected       788\n",
    "nombre_sain          2458\n",
    "nombre_exposed        460\n",
    "nombre_recovered    16294\n",
    "Name: 291, dtype: int64"
   ]
  },
  {
   "cell_type": "markdown",
   "id": "e7590ec5",
   "metadata": {},
   "source": [
    "nombre_infected       783\n",
    "nombre_sain          2443\n",
    "nombre_exposed        451\n",
    "nombre_recovered    16323\n",
    "Name: 292, dtype: int64"
   ]
  },
  {
   "cell_type": "markdown",
   "id": "0cc9ca34",
   "metadata": {},
   "source": [
    "nombre_infected       789\n",
    "nombre_sain          2436\n",
    "nombre_exposed        444\n",
    "nombre_recovered    16331\n",
    "Name: 293, dtype: int64"
   ]
  },
  {
   "cell_type": "markdown",
   "id": "92da0781",
   "metadata": {},
   "source": [
    "nombre_infected       787\n",
    "nombre_sain          2432\n",
    "nombre_exposed        439\n",
    "nombre_recovered    16342\n",
    "Name: 294, dtype: int64"
   ]
  },
  {
   "cell_type": "markdown",
   "id": "9baa5090",
   "metadata": {},
   "source": [
    "nombre_infected       758\n",
    "nombre_sain          2443\n",
    "nombre_exposed        458\n",
    "nombre_recovered    16341\n",
    "Name: 295, dtype: int64"
   ]
  },
  {
   "cell_type": "markdown",
   "id": "a7775bbb",
   "metadata": {},
   "source": [
    "nombre_infected       761\n",
    "nombre_sain          2445\n",
    "nombre_exposed        438\n",
    "nombre_recovered    16356\n",
    "Name: 296, dtype: int64"
   ]
  },
  {
   "cell_type": "markdown",
   "id": "9475afaa",
   "metadata": {},
   "source": [
    "nombre_infected       788\n",
    "nombre_sain          2431\n",
    "nombre_exposed        426\n",
    "nombre_recovered    16355\n",
    "Name: 297, dtype: int64"
   ]
  },
  {
   "cell_type": "markdown",
   "id": "6c39a1d8",
   "metadata": {},
   "source": [
    "nombre_infected       802\n",
    "nombre_sain          2416\n",
    "nombre_exposed        429\n",
    "nombre_recovered    16353\n",
    "Name: 298, dtype: int64"
   ]
  },
  {
   "cell_type": "markdown",
   "id": "81e0c7cc",
   "metadata": {},
   "source": [
    "nombre_infected       794\n",
    "nombre_sain          2403\n",
    "nombre_exposed        442\n",
    "nombre_recovered    16361\n",
    "Name: 299, dtype: int64"
   ]
  },
  {
   "cell_type": "markdown",
   "id": "6ba67132",
   "metadata": {},
   "source": [
    "nombre_infected       792\n",
    "nombre_sain          2410\n",
    "nombre_exposed        467\n",
    "nombre_recovered    16331\n",
    "Name: 300, dtype: int64"
   ]
  },
  {
   "cell_type": "markdown",
   "id": "dbfa573d",
   "metadata": {},
   "source": [
    "nombre_infected       811\n",
    "nombre_sain          2401\n",
    "nombre_exposed        484\n",
    "nombre_recovered    16304\n",
    "Name: 301, dtype: int64"
   ]
  },
  {
   "cell_type": "markdown",
   "id": "e636d54b",
   "metadata": {},
   "source": [
    "nombre_infected       819\n",
    "nombre_sain          2388\n",
    "nombre_exposed        480\n",
    "nombre_recovered    16313\n",
    "Name: 302, dtype: int64"
   ]
  },
  {
   "cell_type": "markdown",
   "id": "940ff1bc",
   "metadata": {},
   "source": [
    "nombre_infected       836\n",
    "nombre_sain          2378\n",
    "nombre_exposed        485\n",
    "nombre_recovered    16301\n",
    "Name: 303, dtype: int64"
   ]
  },
  {
   "cell_type": "markdown",
   "id": "aa046219",
   "metadata": {},
   "source": [
    "nombre_infected       843\n",
    "nombre_sain          2369\n",
    "nombre_exposed        471\n",
    "nombre_recovered    16317\n",
    "Name: 304, dtype: int64"
   ]
  },
  {
   "cell_type": "markdown",
   "id": "280f00c8",
   "metadata": {},
   "source": [
    "nombre_infected       866\n",
    "nombre_sain          2386\n",
    "nombre_exposed        464\n",
    "nombre_recovered    16284\n",
    "Name: 305, dtype: int64"
   ]
  },
  {
   "cell_type": "markdown",
   "id": "c1dcd42c",
   "metadata": {},
   "source": [
    "nombre_infected       868\n",
    "nombre_sain          2385\n",
    "nombre_exposed        459\n",
    "nombre_recovered    16288\n",
    "Name: 306, dtype: int64"
   ]
  },
  {
   "cell_type": "markdown",
   "id": "30a8ad03",
   "metadata": {},
   "source": [
    "nombre_infected       871\n",
    "nombre_sain          2374\n",
    "nombre_exposed        476\n",
    "nombre_recovered    16279\n",
    "Name: 307, dtype: int64"
   ]
  },
  {
   "cell_type": "markdown",
   "id": "49c1bcfc",
   "metadata": {},
   "source": [
    "nombre_infected       861\n",
    "nombre_sain          2377\n",
    "nombre_exposed        486\n",
    "nombre_recovered    16276\n",
    "Name: 308, dtype: int64"
   ]
  },
  {
   "cell_type": "markdown",
   "id": "1e72780e",
   "metadata": {},
   "source": [
    "nombre_infected       872\n",
    "nombre_sain          2387\n",
    "nombre_exposed        468\n",
    "nombre_recovered    16273\n",
    "Name: 309, dtype: int64"
   ]
  },
  {
   "cell_type": "markdown",
   "id": "9a34bb90",
   "metadata": {},
   "source": [
    "nombre_infected       842\n",
    "nombre_sain          2360\n",
    "nombre_exposed        485\n",
    "nombre_recovered    16313\n",
    "Name: 310, dtype: int64"
   ]
  },
  {
   "cell_type": "markdown",
   "id": "283f3da9",
   "metadata": {},
   "source": [
    "nombre_infected       839\n",
    "nombre_sain          2372\n",
    "nombre_exposed        479\n",
    "nombre_recovered    16310\n",
    "Name: 311, dtype: int64"
   ]
  },
  {
   "cell_type": "markdown",
   "id": "73b2e7d2",
   "metadata": {},
   "source": [
    "nombre_infected       860\n",
    "nombre_sain          2386\n",
    "nombre_exposed        451\n",
    "nombre_recovered    16303\n",
    "Name: 312, dtype: int64"
   ]
  },
  {
   "cell_type": "markdown",
   "id": "01a2fda8",
   "metadata": {},
   "source": [
    "nombre_infected       849\n",
    "nombre_sain          2390\n",
    "nombre_exposed        451\n",
    "nombre_recovered    16310\n",
    "Name: 313, dtype: int64"
   ]
  },
  {
   "cell_type": "markdown",
   "id": "bc45a641",
   "metadata": {},
   "source": [
    "nombre_infected       828\n",
    "nombre_sain          2382\n",
    "nombre_exposed        456\n",
    "nombre_recovered    16334\n",
    "Name: 314, dtype: int64"
   ]
  },
  {
   "cell_type": "markdown",
   "id": "834c9d84",
   "metadata": {},
   "source": [
    "nombre_infected       827\n",
    "nombre_sain          2376\n",
    "nombre_exposed        468\n",
    "nombre_recovered    16329\n",
    "Name: 315, dtype: int64"
   ]
  },
  {
   "cell_type": "markdown",
   "id": "6e8af8af",
   "metadata": {},
   "source": [
    "nombre_infected       807\n",
    "nombre_sain          2363\n",
    "nombre_exposed        460\n",
    "nombre_recovered    16370\n",
    "Name: 316, dtype: int64"
   ]
  },
  {
   "cell_type": "markdown",
   "id": "03aeec5d",
   "metadata": {},
   "source": [
    "nombre_infected       827\n",
    "nombre_sain          2330\n",
    "nombre_exposed        474\n",
    "nombre_recovered    16369\n",
    "Name: 317, dtype: int64"
   ]
  },
  {
   "cell_type": "markdown",
   "id": "3d7efe3b",
   "metadata": {},
   "source": [
    "nombre_infected       830\n",
    "nombre_sain          2314\n",
    "nombre_exposed        486\n",
    "nombre_recovered    16370\n",
    "Name: 318, dtype: int64"
   ]
  },
  {
   "cell_type": "markdown",
   "id": "1c451e66",
   "metadata": {},
   "source": [
    "nombre_infected       832\n",
    "nombre_sain          2296\n",
    "nombre_exposed        500\n",
    "nombre_recovered    16372\n",
    "Name: 319, dtype: int64"
   ]
  },
  {
   "cell_type": "markdown",
   "id": "32ee95d4",
   "metadata": {},
   "source": [
    "nombre_infected       830\n",
    "nombre_sain          2283\n",
    "nombre_exposed        484\n",
    "nombre_recovered    16403\n",
    "Name: 320, dtype: int64"
   ]
  },
  {
   "cell_type": "markdown",
   "id": "71814c59",
   "metadata": {},
   "source": [
    "nombre_infected       850\n",
    "nombre_sain          2279\n",
    "nombre_exposed        475\n",
    "nombre_recovered    16396\n",
    "Name: 321, dtype: int64"
   ]
  },
  {
   "cell_type": "markdown",
   "id": "80b717cc",
   "metadata": {},
   "source": [
    "nombre_infected       856\n",
    "nombre_sain          2289\n",
    "nombre_exposed        457\n",
    "nombre_recovered    16398\n",
    "Name: 322, dtype: int64"
   ]
  },
  {
   "cell_type": "markdown",
   "id": "b3854023",
   "metadata": {},
   "source": [
    "nombre_infected       876\n",
    "nombre_sain          2314\n",
    "nombre_exposed        458\n",
    "nombre_recovered    16352\n",
    "Name: 323, dtype: int64"
   ]
  },
  {
   "cell_type": "markdown",
   "id": "477fa4c8",
   "metadata": {},
   "source": [
    "nombre_infected       871\n",
    "nombre_sain          2321\n",
    "nombre_exposed        447\n",
    "nombre_recovered    16361\n",
    "Name: 324, dtype: int64"
   ]
  },
  {
   "cell_type": "markdown",
   "id": "5eff9841",
   "metadata": {},
   "source": [
    "nombre_infected       851\n",
    "nombre_sain          2331\n",
    "nombre_exposed        479\n",
    "nombre_recovered    16339\n",
    "Name: 325, dtype: int64"
   ]
  },
  {
   "cell_type": "markdown",
   "id": "63b0a1de",
   "metadata": {},
   "source": [
    "nombre_infected       838\n",
    "nombre_sain          2331\n",
    "nombre_exposed        473\n",
    "nombre_recovered    16358\n",
    "Name: 326, dtype: int64"
   ]
  },
  {
   "cell_type": "markdown",
   "id": "14e2e576",
   "metadata": {},
   "source": [
    "nombre_infected       837\n",
    "nombre_sain          2317\n",
    "nombre_exposed        478\n",
    "nombre_recovered    16368\n",
    "Name: 327, dtype: int64"
   ]
  },
  {
   "cell_type": "markdown",
   "id": "c91c80c3",
   "metadata": {},
   "source": [
    "nombre_infected       855\n",
    "nombre_sain          2310\n",
    "nombre_exposed        493\n",
    "nombre_recovered    16342\n",
    "Name: 328, dtype: int64"
   ]
  },
  {
   "cell_type": "markdown",
   "id": "86864afd",
   "metadata": {},
   "source": [
    "nombre_infected       847\n",
    "nombre_sain          2300\n",
    "nombre_exposed        512\n",
    "nombre_recovered    16341\n",
    "Name: 329, dtype: int64"
   ]
  },
  {
   "cell_type": "markdown",
   "id": "2d9d0197",
   "metadata": {},
   "source": [
    "nombre_infected       875\n",
    "nombre_sain          2279\n",
    "nombre_exposed        507\n",
    "nombre_recovered    16339\n",
    "Name: 330, dtype: int64"
   ]
  },
  {
   "cell_type": "markdown",
   "id": "dbc57222",
   "metadata": {},
   "source": [
    "nombre_infected       894\n",
    "nombre_sain          2265\n",
    "nombre_exposed        505\n",
    "nombre_recovered    16336\n",
    "Name: 331, dtype: int64"
   ]
  },
  {
   "cell_type": "markdown",
   "id": "df2e4fdc",
   "metadata": {},
   "source": [
    "nombre_infected       877\n",
    "nombre_sain          2253\n",
    "nombre_exposed        494\n",
    "nombre_recovered    16376\n",
    "Name: 332, dtype: int64"
   ]
  },
  {
   "cell_type": "markdown",
   "id": "2a7675ed",
   "metadata": {},
   "source": [
    "nombre_infected       869\n",
    "nombre_sain          2213\n",
    "nombre_exposed        497\n",
    "nombre_recovered    16421\n",
    "Name: 333, dtype: int64"
   ]
  },
  {
   "cell_type": "markdown",
   "id": "f7551287",
   "metadata": {},
   "source": [
    "nombre_infected       889\n",
    "nombre_sain          2189\n",
    "nombre_exposed        487\n",
    "nombre_recovered    16435\n",
    "Name: 334, dtype: int64"
   ]
  },
  {
   "cell_type": "markdown",
   "id": "9978e3f7",
   "metadata": {},
   "source": [
    "nombre_infected       868\n",
    "nombre_sain          2180\n",
    "nombre_exposed        489\n",
    "nombre_recovered    16463\n",
    "Name: 335, dtype: int64"
   ]
  },
  {
   "cell_type": "markdown",
   "id": "a9384c3b",
   "metadata": {},
   "source": [
    "nombre_infected       886\n",
    "nombre_sain          2174\n",
    "nombre_exposed        459\n",
    "nombre_recovered    16481\n",
    "Name: 336, dtype: int64"
   ]
  },
  {
   "cell_type": "markdown",
   "id": "19cff237",
   "metadata": {},
   "source": [
    "nombre_infected       878\n",
    "nombre_sain          2155\n",
    "nombre_exposed        441\n",
    "nombre_recovered    16526\n",
    "Name: 337, dtype: int64"
   ]
  },
  {
   "cell_type": "markdown",
   "id": "a335eabc",
   "metadata": {},
   "source": [
    "nombre_infected       878\n",
    "nombre_sain          2128\n",
    "nombre_exposed        437\n",
    "nombre_recovered    16557\n",
    "Name: 338, dtype: int64"
   ]
  },
  {
   "cell_type": "markdown",
   "id": "1009f4c9",
   "metadata": {},
   "source": [
    "nombre_infected       862\n",
    "nombre_sain          2119\n",
    "nombre_exposed        447\n",
    "nombre_recovered    16572\n",
    "Name: 339, dtype: int64"
   ]
  },
  {
   "cell_type": "markdown",
   "id": "1955c2b3",
   "metadata": {},
   "source": [
    "nombre_infected       850\n",
    "nombre_sain          2114\n",
    "nombre_exposed        466\n",
    "nombre_recovered    16570\n",
    "Name: 340, dtype: int64"
   ]
  },
  {
   "cell_type": "markdown",
   "id": "7ba22cbb",
   "metadata": {},
   "source": [
    "nombre_infected       842\n",
    "nombre_sain          2095\n",
    "nombre_exposed        471\n",
    "nombre_recovered    16592\n",
    "Name: 341, dtype: int64"
   ]
  },
  {
   "cell_type": "markdown",
   "id": "06d9e60c",
   "metadata": {},
   "source": [
    "nombre_infected       834\n",
    "nombre_sain          2143\n",
    "nombre_exposed        429\n",
    "nombre_recovered    16594\n",
    "Name: 342, dtype: int64"
   ]
  },
  {
   "cell_type": "markdown",
   "id": "34a27446",
   "metadata": {},
   "source": [
    "nombre_infected       840\n",
    "nombre_sain          2130\n",
    "nombre_exposed        422\n",
    "nombre_recovered    16608\n",
    "Name: 343, dtype: int64"
   ]
  },
  {
   "cell_type": "markdown",
   "id": "3dead223",
   "metadata": {},
   "source": [
    "nombre_infected       831\n",
    "nombre_sain          2145\n",
    "nombre_exposed        419\n",
    "nombre_recovered    16605\n",
    "Name: 344, dtype: int64"
   ]
  },
  {
   "cell_type": "markdown",
   "id": "d390d986",
   "metadata": {},
   "source": [
    "nombre_infected       829\n",
    "nombre_sain          2151\n",
    "nombre_exposed        413\n",
    "nombre_recovered    16607\n",
    "Name: 345, dtype: int64"
   ]
  },
  {
   "cell_type": "markdown",
   "id": "9ca28fa3",
   "metadata": {},
   "source": [
    "nombre_infected       814\n",
    "nombre_sain          2132\n",
    "nombre_exposed        440\n",
    "nombre_recovered    16614\n",
    "Name: 346, dtype: int64"
   ]
  },
  {
   "cell_type": "markdown",
   "id": "86fe8bc5",
   "metadata": {},
   "source": [
    "nombre_infected       808\n",
    "nombre_sain          2126\n",
    "nombre_exposed        449\n",
    "nombre_recovered    16617\n",
    "Name: 347, dtype: int64"
   ]
  },
  {
   "cell_type": "markdown",
   "id": "4cc5cec1",
   "metadata": {},
   "source": [
    "nombre_infected       792\n",
    "nombre_sain          2119\n",
    "nombre_exposed        449\n",
    "nombre_recovered    16640\n",
    "Name: 348, dtype: int64"
   ]
  },
  {
   "cell_type": "markdown",
   "id": "8df3b706",
   "metadata": {},
   "source": [
    "nombre_infected       803\n",
    "nombre_sain          2109\n",
    "nombre_exposed        431\n",
    "nombre_recovered    16657\n",
    "Name: 349, dtype: int64"
   ]
  },
  {
   "cell_type": "markdown",
   "id": "4004fad9",
   "metadata": {},
   "source": [
    "nombre_infected       805\n",
    "nombre_sain          2115\n",
    "nombre_exposed        427\n",
    "nombre_recovered    16653\n",
    "Name: 350, dtype: int64"
   ]
  },
  {
   "cell_type": "markdown",
   "id": "c3e8815e",
   "metadata": {},
   "source": [
    "nombre_infected       780\n",
    "nombre_sain          2099\n",
    "nombre_exposed        432\n",
    "nombre_recovered    16689\n",
    "Name: 351, dtype: int64"
   ]
  },
  {
   "cell_type": "markdown",
   "id": "36170214",
   "metadata": {},
   "source": [
    "nombre_infected       755\n",
    "nombre_sain          2106\n",
    "nombre_exposed        428\n",
    "nombre_recovered    16711\n",
    "Name: 352, dtype: int64"
   ]
  },
  {
   "cell_type": "markdown",
   "id": "2c1e1e8f",
   "metadata": {},
   "source": [
    "nombre_infected       751\n",
    "nombre_sain          2112\n",
    "nombre_exposed        417\n",
    "nombre_recovered    16720\n",
    "Name: 353, dtype: int64"
   ]
  },
  {
   "cell_type": "markdown",
   "id": "115afad9",
   "metadata": {},
   "source": [
    "nombre_infected       766\n",
    "nombre_sain          2119\n",
    "nombre_exposed        408\n",
    "nombre_recovered    16707\n",
    "Name: 354, dtype: int64"
   ]
  },
  {
   "cell_type": "markdown",
   "id": "9f2c66fb",
   "metadata": {},
   "source": [
    "nombre_infected       765\n",
    "nombre_sain          2113\n",
    "nombre_exposed        407\n",
    "nombre_recovered    16715\n",
    "Name: 355, dtype: int64"
   ]
  },
  {
   "cell_type": "markdown",
   "id": "a55ecaaf",
   "metadata": {},
   "source": [
    "nombre_infected       736\n",
    "nombre_sain          2127\n",
    "nombre_exposed        395\n",
    "nombre_recovered    16742\n",
    "Name: 356, dtype: int64"
   ]
  },
  {
   "cell_type": "markdown",
   "id": "1354cb95",
   "metadata": {},
   "source": [
    "nombre_infected       732\n",
    "nombre_sain          2127\n",
    "nombre_exposed        392\n",
    "nombre_recovered    16749\n",
    "Name: 357, dtype: int64"
   ]
  },
  {
   "cell_type": "markdown",
   "id": "82336946",
   "metadata": {},
   "source": [
    "nombre_infected       716\n",
    "nombre_sain          2135\n",
    "nombre_exposed        402\n",
    "nombre_recovered    16747\n",
    "Name: 358, dtype: int64"
   ]
  },
  {
   "cell_type": "markdown",
   "id": "c30533d1",
   "metadata": {},
   "source": [
    "nombre_infected       718\n",
    "nombre_sain          2118\n",
    "nombre_exposed        413\n",
    "nombre_recovered    16751\n",
    "Name: 359, dtype: int64"
   ]
  },
  {
   "cell_type": "markdown",
   "id": "9731ca96",
   "metadata": {},
   "source": [
    "nombre_infected       719\n",
    "nombre_sain          2134\n",
    "nombre_exposed        411\n",
    "nombre_recovered    16736\n",
    "Name: 360, dtype: int64"
   ]
  },
  {
   "cell_type": "markdown",
   "id": "d01079f4",
   "metadata": {},
   "source": [
    "nombre_infected       728\n",
    "nombre_sain          2143\n",
    "nombre_exposed        408\n",
    "nombre_recovered    16721\n",
    "Name: 361, dtype: int64"
   ]
  },
  {
   "cell_type": "markdown",
   "id": "8e1ccfff",
   "metadata": {},
   "source": [
    "nombre_infected       728\n",
    "nombre_sain          2165\n",
    "nombre_exposed        395\n",
    "nombre_recovered    16712\n",
    "Name: 362, dtype: int64"
   ]
  },
  {
   "cell_type": "markdown",
   "id": "c069cd18",
   "metadata": {},
   "source": [
    "nombre_infected       704\n",
    "nombre_sain          2175\n",
    "nombre_exposed        413\n",
    "nombre_recovered    16708\n",
    "Name: 363, dtype: int64"
   ]
  },
  {
   "cell_type": "markdown",
   "id": "30161db4",
   "metadata": {},
   "source": [
    "nombre_infected       695\n",
    "nombre_sain          2169\n",
    "nombre_exposed        416\n",
    "nombre_recovered    16720\n",
    "Name: 364, dtype: int64"
   ]
  },
  {
   "cell_type": "markdown",
   "id": "65c6c858",
   "metadata": {},
   "source": [
    "nombre_infected       694\n",
    "nombre_sain          2178\n",
    "nombre_exposed        416\n",
    "nombre_recovered    16712\n",
    "Name: 365, dtype: int64"
   ]
  },
  {
   "cell_type": "markdown",
   "id": "38a85fc0",
   "metadata": {},
   "source": [
    "nombre_infected       697\n",
    "nombre_sain          2179\n",
    "nombre_exposed        409\n",
    "nombre_recovered    16715\n",
    "Name: 366, dtype: int64"
   ]
  },
  {
   "cell_type": "markdown",
   "id": "fe8442b4",
   "metadata": {},
   "source": [
    "nombre_infected       699\n",
    "nombre_sain          2203\n",
    "nombre_exposed        396\n",
    "nombre_recovered    16702\n",
    "Name: 367, dtype: int64"
   ]
  },
  {
   "cell_type": "markdown",
   "id": "4287cca6",
   "metadata": {},
   "source": [
    "nombre_infected       684\n",
    "nombre_sain          2234\n",
    "nombre_exposed        388\n",
    "nombre_recovered    16694\n",
    "Name: 368, dtype: int64"
   ]
  },
  {
   "cell_type": "markdown",
   "id": "e5199dd1",
   "metadata": {},
   "source": [
    "nombre_infected       690\n",
    "nombre_sain          2248\n",
    "nombre_exposed        388\n",
    "nombre_recovered    16674\n",
    "Name: 369, dtype: int64"
   ]
  },
  {
   "cell_type": "markdown",
   "id": "1af6b762",
   "metadata": {},
   "source": [
    "nombre_infected       674\n",
    "nombre_sain          2263\n",
    "nombre_exposed        398\n",
    "nombre_recovered    16665\n",
    "Name: 370, dtype: int64"
   ]
  },
  {
   "cell_type": "markdown",
   "id": "384fe706",
   "metadata": {},
   "source": [
    "nombre_infected       657\n",
    "nombre_sain          2283\n",
    "nombre_exposed        393\n",
    "nombre_recovered    16667\n",
    "Name: 371, dtype: int64"
   ]
  },
  {
   "cell_type": "markdown",
   "id": "617fb719",
   "metadata": {},
   "source": [
    "nombre_infected       649\n",
    "nombre_sain          2292\n",
    "nombre_exposed        406\n",
    "nombre_recovered    16653\n",
    "Name: 372, dtype: int64"
   ]
  },
  {
   "cell_type": "markdown",
   "id": "3f2b42fe",
   "metadata": {},
   "source": [
    "nombre_infected       637\n",
    "nombre_sain          2312\n",
    "nombre_exposed        398\n",
    "nombre_recovered    16653\n",
    "Name: 373, dtype: int64"
   ]
  },
  {
   "cell_type": "markdown",
   "id": "2fe6bdb4",
   "metadata": {},
   "source": [
    "nombre_infected       650\n",
    "nombre_sain          2334\n",
    "nombre_exposed        387\n",
    "nombre_recovered    16629\n",
    "Name: 374, dtype: int64"
   ]
  },
  {
   "cell_type": "markdown",
   "id": "08d5c3c9",
   "metadata": {},
   "source": [
    "nombre_infected       635\n",
    "nombre_sain          2351\n",
    "nombre_exposed        392\n",
    "nombre_recovered    16622\n",
    "Name: 375, dtype: int64"
   ]
  },
  {
   "cell_type": "markdown",
   "id": "9e059f93",
   "metadata": {},
   "source": [
    "nombre_infected       629\n",
    "nombre_sain          2383\n",
    "nombre_exposed        389\n",
    "nombre_recovered    16599\n",
    "Name: 376, dtype: int64"
   ]
  },
  {
   "cell_type": "markdown",
   "id": "1f942892",
   "metadata": {},
   "source": [
    "nombre_infected       625\n",
    "nombre_sain          2397\n",
    "nombre_exposed        398\n",
    "nombre_recovered    16580\n",
    "Name: 377, dtype: int64"
   ]
  },
  {
   "cell_type": "markdown",
   "id": "7ef86411",
   "metadata": {},
   "source": [
    "nombre_infected       627\n",
    "nombre_sain          2425\n",
    "nombre_exposed        399\n",
    "nombre_recovered    16549\n",
    "Name: 378, dtype: int64"
   ]
  },
  {
   "cell_type": "markdown",
   "id": "fdf6b428",
   "metadata": {},
   "source": [
    "nombre_infected       624\n",
    "nombre_sain          2456\n",
    "nombre_exposed        397\n",
    "nombre_recovered    16523\n",
    "Name: 379, dtype: int64"
   ]
  },
  {
   "cell_type": "markdown",
   "id": "c26bdb50",
   "metadata": {},
   "source": [
    "nombre_infected       625\n",
    "nombre_sain          2489\n",
    "nombre_exposed        405\n",
    "nombre_recovered    16481\n",
    "Name: 380, dtype: int64"
   ]
  },
  {
   "cell_type": "markdown",
   "id": "ebf81587",
   "metadata": {},
   "source": [
    "nombre_infected       636\n",
    "nombre_sain          2516\n",
    "nombre_exposed        401\n",
    "nombre_recovered    16447\n",
    "Name: 381, dtype: int64"
   ]
  },
  {
   "cell_type": "markdown",
   "id": "b2759135",
   "metadata": {},
   "source": [
    "nombre_infected       646\n",
    "nombre_sain          2511\n",
    "nombre_exposed        420\n",
    "nombre_recovered    16423\n",
    "Name: 382, dtype: int64"
   ]
  },
  {
   "cell_type": "markdown",
   "id": "93eace8e",
   "metadata": {},
   "source": [
    "nombre_infected       634\n",
    "nombre_sain          2515\n",
    "nombre_exposed        447\n",
    "nombre_recovered    16404\n",
    "Name: 383, dtype: int64"
   ]
  },
  {
   "cell_type": "markdown",
   "id": "9ce5a596",
   "metadata": {},
   "source": [
    "nombre_infected       634\n",
    "nombre_sain          2538\n",
    "nombre_exposed        453\n",
    "nombre_recovered    16375\n",
    "Name: 384, dtype: int64"
   ]
  },
  {
   "cell_type": "markdown",
   "id": "b09fe5bd",
   "metadata": {},
   "source": [
    "nombre_infected       673\n",
    "nombre_sain          2554\n",
    "nombre_exposed        431\n",
    "nombre_recovered    16342\n",
    "Name: 385, dtype: int64"
   ]
  },
  {
   "cell_type": "markdown",
   "id": "b717ca0d",
   "metadata": {},
   "source": [
    "nombre_infected       687\n",
    "nombre_sain          2552\n",
    "nombre_exposed        439\n",
    "nombre_recovered    16322\n",
    "Name: 386, dtype: int64"
   ]
  },
  {
   "cell_type": "markdown",
   "id": "3d35af87",
   "metadata": {},
   "source": [
    "nombre_infected       684\n",
    "nombre_sain          2583\n",
    "nombre_exposed        431\n",
    "nombre_recovered    16302\n",
    "Name: 387, dtype: int64"
   ]
  },
  {
   "cell_type": "markdown",
   "id": "4f1238ff",
   "metadata": {},
   "source": [
    "nombre_infected       687\n",
    "nombre_sain          2585\n",
    "nombre_exposed        437\n",
    "nombre_recovered    16291\n",
    "Name: 388, dtype: int64"
   ]
  },
  {
   "cell_type": "markdown",
   "id": "1391d295",
   "metadata": {},
   "source": [
    "nombre_infected       675\n",
    "nombre_sain          2573\n",
    "nombre_exposed        479\n",
    "nombre_recovered    16273\n",
    "Name: 389, dtype: int64"
   ]
  },
  {
   "cell_type": "markdown",
   "id": "50310776",
   "metadata": {},
   "source": [
    "nombre_infected       686\n",
    "nombre_sain          2591\n",
    "nombre_exposed        480\n",
    "nombre_recovered    16243\n",
    "Name: 390, dtype: int64"
   ]
  },
  {
   "cell_type": "markdown",
   "id": "ad008b44",
   "metadata": {},
   "source": [
    "nombre_infected       689\n",
    "nombre_sain          2630\n",
    "nombre_exposed        474\n",
    "nombre_recovered    16207\n",
    "Name: 391, dtype: int64"
   ]
  },
  {
   "cell_type": "markdown",
   "id": "1977eb67",
   "metadata": {},
   "source": [
    "nombre_infected       721\n",
    "nombre_sain          2600\n",
    "nombre_exposed        479\n",
    "nombre_recovered    16200\n",
    "Name: 392, dtype: int64"
   ]
  },
  {
   "cell_type": "markdown",
   "id": "e8ca6936",
   "metadata": {},
   "source": [
    "nombre_infected       708\n",
    "nombre_sain          2576\n",
    "nombre_exposed        499\n",
    "nombre_recovered    16217\n",
    "Name: 393, dtype: int64"
   ]
  },
  {
   "cell_type": "markdown",
   "id": "0fdfe0d5",
   "metadata": {},
   "source": [
    "nombre_infected       716\n",
    "nombre_sain          2593\n",
    "nombre_exposed        491\n",
    "nombre_recovered    16200\n",
    "Name: 394, dtype: int64"
   ]
  },
  {
   "cell_type": "markdown",
   "id": "da248dd7",
   "metadata": {},
   "source": [
    "nombre_infected       712\n",
    "nombre_sain          2575\n",
    "nombre_exposed        515\n",
    "nombre_recovered    16198\n",
    "Name: 395, dtype: int64"
   ]
  },
  {
   "cell_type": "markdown",
   "id": "c6551b9a",
   "metadata": {},
   "source": [
    "nombre_infected       728\n",
    "nombre_sain          2545\n",
    "nombre_exposed        535\n",
    "nombre_recovered    16192\n",
    "Name: 396, dtype: int64"
   ]
  },
  {
   "cell_type": "markdown",
   "id": "c1726ac1",
   "metadata": {},
   "source": [
    "nombre_infected       763\n",
    "nombre_sain          2554\n",
    "nombre_exposed        504\n",
    "nombre_recovered    16179\n",
    "Name: 397, dtype: int64"
   ]
  },
  {
   "cell_type": "markdown",
   "id": "837dd186",
   "metadata": {},
   "source": [
    "nombre_infected       807\n",
    "nombre_sain          2534\n",
    "nombre_exposed        487\n",
    "nombre_recovered    16172\n",
    "Name: 398, dtype: int64"
   ]
  },
  {
   "cell_type": "markdown",
   "id": "a241987d",
   "metadata": {},
   "source": [
    "nombre_infected       817\n",
    "nombre_sain          2518\n",
    "nombre_exposed        473\n",
    "nombre_recovered    16192\n",
    "Name: 399, dtype: int64"
   ]
  },
  {
   "cell_type": "markdown",
   "id": "17c87145",
   "metadata": {},
   "source": [
    "nombre_infected       790\n",
    "nombre_sain          2509\n",
    "nombre_exposed        476\n",
    "nombre_recovered    16225\n",
    "Name: 400, dtype: int64"
   ]
  },
  {
   "cell_type": "markdown",
   "id": "e3e3b0ad",
   "metadata": {},
   "source": [
    "nombre_infected       801\n",
    "nombre_sain          2474\n",
    "nombre_exposed        484\n",
    "nombre_recovered    16241\n",
    "Name: 401, dtype: int64"
   ]
  },
  {
   "cell_type": "markdown",
   "id": "918201f2",
   "metadata": {},
   "source": [
    "nombre_infected       807\n",
    "nombre_sain          2439\n",
    "nombre_exposed        477\n",
    "nombre_recovered    16277\n",
    "Name: 402, dtype: int64"
   ]
  },
  {
   "cell_type": "markdown",
   "id": "525c2cd5",
   "metadata": {},
   "source": [
    "nombre_infected       818\n",
    "nombre_sain          2411\n",
    "nombre_exposed        480\n",
    "nombre_recovered    16291\n",
    "Name: 403, dtype: int64"
   ]
  },
  {
   "cell_type": "markdown",
   "id": "854dcd06",
   "metadata": {},
   "source": [
    "nombre_infected       825\n",
    "nombre_sain          2402\n",
    "nombre_exposed        477\n",
    "nombre_recovered    16296\n",
    "Name: 404, dtype: int64"
   ]
  },
  {
   "cell_type": "markdown",
   "id": "3f57ffdf",
   "metadata": {},
   "source": [
    "nombre_infected       822\n",
    "nombre_sain          2362\n",
    "nombre_exposed        505\n",
    "nombre_recovered    16311\n",
    "Name: 405, dtype: int64"
   ]
  },
  {
   "cell_type": "markdown",
   "id": "16329bc9",
   "metadata": {},
   "source": [
    "nombre_infected       814\n",
    "nombre_sain          2360\n",
    "nombre_exposed        491\n",
    "nombre_recovered    16335\n",
    "Name: 406, dtype: int64"
   ]
  },
  {
   "cell_type": "markdown",
   "id": "20890f9c",
   "metadata": {},
   "source": [
    "nombre_infected       839\n",
    "nombre_sain          2355\n",
    "nombre_exposed        492\n",
    "nombre_recovered    16314\n",
    "Name: 407, dtype: int64"
   ]
  },
  {
   "cell_type": "markdown",
   "id": "15be6baf",
   "metadata": {},
   "source": [
    "nombre_infected       839\n",
    "nombre_sain          2367\n",
    "nombre_exposed        487\n",
    "nombre_recovered    16307\n",
    "Name: 408, dtype: int64"
   ]
  },
  {
   "cell_type": "markdown",
   "id": "f83c1c2f",
   "metadata": {},
   "source": [
    "nombre_infected       841\n",
    "nombre_sain          2336\n",
    "nombre_exposed        489\n",
    "nombre_recovered    16334\n",
    "Name: 409, dtype: int64"
   ]
  },
  {
   "cell_type": "markdown",
   "id": "5b77193f",
   "metadata": {},
   "source": [
    "nombre_infected       828\n",
    "nombre_sain          2341\n",
    "nombre_exposed        468\n",
    "nombre_recovered    16363\n",
    "Name: 410, dtype: int64"
   ]
  },
  {
   "cell_type": "markdown",
   "id": "52221d72",
   "metadata": {},
   "source": [
    "nombre_infected       823\n",
    "nombre_sain          2321\n",
    "nombre_exposed        465\n",
    "nombre_recovered    16391\n",
    "Name: 411, dtype: int64"
   ]
  },
  {
   "cell_type": "markdown",
   "id": "d947aec2",
   "metadata": {},
   "source": [
    "nombre_infected       821\n",
    "nombre_sain          2308\n",
    "nombre_exposed        463\n",
    "nombre_recovered    16408\n",
    "Name: 412, dtype: int64"
   ]
  },
  {
   "cell_type": "markdown",
   "id": "cc33ac64",
   "metadata": {},
   "source": [
    "nombre_infected       795\n",
    "nombre_sain          2278\n",
    "nombre_exposed        473\n",
    "nombre_recovered    16454\n",
    "Name: 413, dtype: int64"
   ]
  },
  {
   "cell_type": "markdown",
   "id": "e9dd5eec",
   "metadata": {},
   "source": [
    "nombre_infected       821\n",
    "nombre_sain          2291\n",
    "nombre_exposed        453\n",
    "nombre_recovered    16435\n",
    "Name: 414, dtype: int64"
   ]
  },
  {
   "cell_type": "markdown",
   "id": "bf29f1f1",
   "metadata": {},
   "source": [
    "nombre_infected       818\n",
    "nombre_sain          2273\n",
    "nombre_exposed        466\n",
    "nombre_recovered    16443\n",
    "Name: 415, dtype: int64"
   ]
  },
  {
   "cell_type": "markdown",
   "id": "ef2e3a8f",
   "metadata": {},
   "source": [
    "nombre_infected       790\n",
    "nombre_sain          2268\n",
    "nombre_exposed        466\n",
    "nombre_recovered    16476\n",
    "Name: 416, dtype: int64"
   ]
  },
  {
   "cell_type": "markdown",
   "id": "4ab4b0f6",
   "metadata": {},
   "source": [
    "nombre_infected       793\n",
    "nombre_sain          2227\n",
    "nombre_exposed        485\n",
    "nombre_recovered    16495\n",
    "Name: 417, dtype: int64"
   ]
  },
  {
   "cell_type": "markdown",
   "id": "55241f2f",
   "metadata": {},
   "source": [
    "nombre_infected       802\n",
    "nombre_sain          2236\n",
    "nombre_exposed        470\n",
    "nombre_recovered    16492\n",
    "Name: 418, dtype: int64"
   ]
  },
  {
   "cell_type": "markdown",
   "id": "fe5e257d",
   "metadata": {},
   "source": [
    "nombre_infected       790\n",
    "nombre_sain          2221\n",
    "nombre_exposed        476\n",
    "nombre_recovered    16513\n",
    "Name: 419, dtype: int64"
   ]
  },
  {
   "cell_type": "markdown",
   "id": "faa740c4",
   "metadata": {},
   "source": [
    "nombre_infected       809\n",
    "nombre_sain          2218\n",
    "nombre_exposed        468\n",
    "nombre_recovered    16505\n",
    "Name: 420, dtype: int64"
   ]
  },
  {
   "cell_type": "markdown",
   "id": "79deb29b",
   "metadata": {},
   "source": [
    "nombre_infected       799\n",
    "nombre_sain          2202\n",
    "nombre_exposed        465\n",
    "nombre_recovered    16534\n",
    "Name: 421, dtype: int64"
   ]
  },
  {
   "cell_type": "markdown",
   "id": "2f48a086",
   "metadata": {},
   "source": [
    "nombre_infected       796\n",
    "nombre_sain          2210\n",
    "nombre_exposed        457\n",
    "nombre_recovered    16537\n",
    "Name: 422, dtype: int64"
   ]
  },
  {
   "cell_type": "markdown",
   "id": "6677fc98",
   "metadata": {},
   "source": [
    "nombre_infected       789\n",
    "nombre_sain          2181\n",
    "nombre_exposed        459\n",
    "nombre_recovered    16571\n",
    "Name: 423, dtype: int64"
   ]
  },
  {
   "cell_type": "markdown",
   "id": "e1d7c59b",
   "metadata": {},
   "source": [
    "nombre_infected       795\n",
    "nombre_sain          2196\n",
    "nombre_exposed        442\n",
    "nombre_recovered    16567\n",
    "Name: 424, dtype: int64"
   ]
  },
  {
   "cell_type": "markdown",
   "id": "9e236ee5",
   "metadata": {},
   "source": [
    "nombre_infected       805\n",
    "nombre_sain          2200\n",
    "nombre_exposed        428\n",
    "nombre_recovered    16567\n",
    "Name: 425, dtype: int64"
   ]
  },
  {
   "cell_type": "markdown",
   "id": "9d71a736",
   "metadata": {},
   "source": [
    "nombre_infected       798\n",
    "nombre_sain          2219\n",
    "nombre_exposed        408\n",
    "nombre_recovered    16575\n",
    "Name: 426, dtype: int64"
   ]
  },
  {
   "cell_type": "markdown",
   "id": "070fd85b",
   "metadata": {},
   "source": [
    "nombre_infected       809\n",
    "nombre_sain          2216\n",
    "nombre_exposed        398\n",
    "nombre_recovered    16577\n",
    "Name: 427, dtype: int64"
   ]
  },
  {
   "cell_type": "markdown",
   "id": "c17a5962",
   "metadata": {},
   "source": [
    "nombre_infected       781\n",
    "nombre_sain          2260\n",
    "nombre_exposed        406\n",
    "nombre_recovered    16553\n",
    "Name: 428, dtype: int64"
   ]
  },
  {
   "cell_type": "markdown",
   "id": "9e4aba15",
   "metadata": {},
   "source": [
    "nombre_infected       782\n",
    "nombre_sain          2273\n",
    "nombre_exposed        404\n",
    "nombre_recovered    16541\n",
    "Name: 429, dtype: int64"
   ]
  },
  {
   "cell_type": "markdown",
   "id": "d07ab1ed",
   "metadata": {},
   "source": [
    "nombre_infected       749\n",
    "nombre_sain          2297\n",
    "nombre_exposed        421\n",
    "nombre_recovered    16533\n",
    "Name: 430, dtype: int64"
   ]
  },
  {
   "cell_type": "markdown",
   "id": "6cc20e60",
   "metadata": {},
   "source": [
    "nombre_infected       756\n",
    "nombre_sain          2334\n",
    "nombre_exposed        421\n",
    "nombre_recovered    16489\n",
    "Name: 431, dtype: int64"
   ]
  },
  {
   "cell_type": "markdown",
   "id": "f07ca06f",
   "metadata": {},
   "source": [
    "nombre_infected       781\n",
    "nombre_sain          2333\n",
    "nombre_exposed        431\n",
    "nombre_recovered    16455\n",
    "Name: 432, dtype: int64"
   ]
  },
  {
   "cell_type": "markdown",
   "id": "2405b66e",
   "metadata": {},
   "source": [
    "nombre_infected       775\n",
    "nombre_sain          2353\n",
    "nombre_exposed        433\n",
    "nombre_recovered    16439\n",
    "Name: 433, dtype: int64"
   ]
  },
  {
   "cell_type": "markdown",
   "id": "9b7c1ce1",
   "metadata": {},
   "source": [
    "nombre_infected       771\n",
    "nombre_sain          2337\n",
    "nombre_exposed        450\n",
    "nombre_recovered    16442\n",
    "Name: 434, dtype: int64"
   ]
  },
  {
   "cell_type": "markdown",
   "id": "cabfdbe5",
   "metadata": {},
   "source": [
    "nombre_infected       764\n",
    "nombre_sain          2344\n",
    "nombre_exposed        472\n",
    "nombre_recovered    16420\n",
    "Name: 435, dtype: int64"
   ]
  },
  {
   "cell_type": "markdown",
   "id": "d1b4214b",
   "metadata": {},
   "source": [
    "nombre_infected       764\n",
    "nombre_sain          2358\n",
    "nombre_exposed        468\n",
    "nombre_recovered    16410\n",
    "Name: 436, dtype: int64"
   ]
  },
  {
   "cell_type": "markdown",
   "id": "483c05ed",
   "metadata": {},
   "source": [
    "nombre_infected       781\n",
    "nombre_sain          2342\n",
    "nombre_exposed        462\n",
    "nombre_recovered    16415\n",
    "Name: 437, dtype: int64"
   ]
  },
  {
   "cell_type": "markdown",
   "id": "7a146609",
   "metadata": {},
   "source": [
    "nombre_infected       772\n",
    "nombre_sain          2368\n",
    "nombre_exposed        449\n",
    "nombre_recovered    16411\n",
    "Name: 438, dtype: int64"
   ]
  },
  {
   "cell_type": "markdown",
   "id": "011c8e39",
   "metadata": {},
   "source": [
    "nombre_infected       787\n",
    "nombre_sain          2367\n",
    "nombre_exposed        438\n",
    "nombre_recovered    16408\n",
    "Name: 439, dtype: int64"
   ]
  },
  {
   "cell_type": "markdown",
   "id": "d3008650",
   "metadata": {},
   "source": [
    "nombre_infected       766\n",
    "nombre_sain          2366\n",
    "nombre_exposed        452\n",
    "nombre_recovered    16416\n",
    "Name: 440, dtype: int64"
   ]
  },
  {
   "cell_type": "markdown",
   "id": "ba875847",
   "metadata": {},
   "source": [
    "nombre_infected       756\n",
    "nombre_sain          2360\n",
    "nombre_exposed        465\n",
    "nombre_recovered    16419\n",
    "Name: 441, dtype: int64"
   ]
  },
  {
   "cell_type": "markdown",
   "id": "32b4bf8b",
   "metadata": {},
   "source": [
    "nombre_infected       752\n",
    "nombre_sain          2378\n",
    "nombre_exposed        468\n",
    "nombre_recovered    16402\n",
    "Name: 442, dtype: int64"
   ]
  },
  {
   "cell_type": "markdown",
   "id": "0130d313",
   "metadata": {},
   "source": [
    "nombre_infected       760\n",
    "nombre_sain          2384\n",
    "nombre_exposed        460\n",
    "nombre_recovered    16396\n",
    "Name: 443, dtype: int64"
   ]
  },
  {
   "cell_type": "markdown",
   "id": "b970e57b",
   "metadata": {},
   "source": [
    "nombre_infected       792\n",
    "nombre_sain          2381\n",
    "nombre_exposed        452\n",
    "nombre_recovered    16375\n",
    "Name: 444, dtype: int64"
   ]
  },
  {
   "cell_type": "markdown",
   "id": "b349129a",
   "metadata": {},
   "source": [
    "nombre_infected       808\n",
    "nombre_sain          2394\n",
    "nombre_exposed        471\n",
    "nombre_recovered    16327\n",
    "Name: 445, dtype: int64"
   ]
  },
  {
   "cell_type": "markdown",
   "id": "9a534f10",
   "metadata": {},
   "source": [
    "nombre_infected       804\n",
    "nombre_sain          2379\n",
    "nombre_exposed        500\n",
    "nombre_recovered    16317\n",
    "Name: 446, dtype: int64"
   ]
  },
  {
   "cell_type": "markdown",
   "id": "eb489672",
   "metadata": {},
   "source": [
    "nombre_infected       815\n",
    "nombre_sain          2371\n",
    "nombre_exposed        512\n",
    "nombre_recovered    16302\n",
    "Name: 447, dtype: int64"
   ]
  },
  {
   "cell_type": "markdown",
   "id": "fe122a6a",
   "metadata": {},
   "source": [
    "nombre_infected       804\n",
    "nombre_sain          2359\n",
    "nombre_exposed        551\n",
    "nombre_recovered    16286\n",
    "Name: 448, dtype: int64"
   ]
  },
  {
   "cell_type": "markdown",
   "id": "36e1ef4f",
   "metadata": {},
   "source": [
    "nombre_infected       809\n",
    "nombre_sain          2379\n",
    "nombre_exposed        543\n",
    "nombre_recovered    16269\n",
    "Name: 449, dtype: int64"
   ]
  },
  {
   "cell_type": "markdown",
   "id": "b7c8faf6",
   "metadata": {},
   "source": [
    "nombre_infected       859\n",
    "nombre_sain          2374\n",
    "nombre_exposed        519\n",
    "nombre_recovered    16248\n",
    "Name: 450, dtype: int64"
   ]
  },
  {
   "cell_type": "markdown",
   "id": "26240816",
   "metadata": {},
   "source": [
    "nombre_infected       835\n",
    "nombre_sain          2378\n",
    "nombre_exposed        560\n",
    "nombre_recovered    16227\n",
    "Name: 451, dtype: int64"
   ]
  },
  {
   "cell_type": "markdown",
   "id": "b273cc73",
   "metadata": {},
   "source": [
    "nombre_infected       863\n",
    "nombre_sain          2394\n",
    "nombre_exposed        545\n",
    "nombre_recovered    16198\n",
    "Name: 452, dtype: int64"
   ]
  },
  {
   "cell_type": "markdown",
   "id": "b594a07d",
   "metadata": {},
   "source": [
    "nombre_infected       873\n",
    "nombre_sain          2369\n",
    "nombre_exposed        553\n",
    "nombre_recovered    16205\n",
    "Name: 453, dtype: int64"
   ]
  },
  {
   "cell_type": "markdown",
   "id": "2d228d9c",
   "metadata": {},
   "source": [
    "nombre_infected       900\n",
    "nombre_sain          2383\n",
    "nombre_exposed        564\n",
    "nombre_recovered    16153\n",
    "Name: 454, dtype: int64"
   ]
  },
  {
   "cell_type": "markdown",
   "id": "36a6e297",
   "metadata": {},
   "source": [
    "nombre_infected       907\n",
    "nombre_sain          2391\n",
    "nombre_exposed        581\n",
    "nombre_recovered    16121\n",
    "Name: 455, dtype: int64"
   ]
  },
  {
   "cell_type": "markdown",
   "id": "fb8eac1a",
   "metadata": {},
   "source": [
    "nombre_infected       936\n",
    "nombre_sain          2380\n",
    "nombre_exposed        573\n",
    "nombre_recovered    16111\n",
    "Name: 456, dtype: int64"
   ]
  },
  {
   "cell_type": "markdown",
   "id": "48c116d9",
   "metadata": {},
   "source": [
    "nombre_infected       933\n",
    "nombre_sain          2367\n",
    "nombre_exposed        607\n",
    "nombre_recovered    16093\n",
    "Name: 457, dtype: int64"
   ]
  },
  {
   "cell_type": "markdown",
   "id": "4a0776e3",
   "metadata": {},
   "source": [
    "nombre_infected       937\n",
    "nombre_sain          2342\n",
    "nombre_exposed        628\n",
    "nombre_recovered    16093\n",
    "Name: 458, dtype: int64"
   ]
  },
  {
   "cell_type": "markdown",
   "id": "5e2b6b1f",
   "metadata": {},
   "source": [
    "nombre_infected       977\n",
    "nombre_sain          2351\n",
    "nombre_exposed        619\n",
    "nombre_recovered    16053\n",
    "Name: 459, dtype: int64"
   ]
  },
  {
   "cell_type": "markdown",
   "id": "88ad92c9",
   "metadata": {},
   "source": [
    "nombre_infected      1006\n",
    "nombre_sain          2307\n",
    "nombre_exposed        640\n",
    "nombre_recovered    16047\n",
    "Name: 460, dtype: int64"
   ]
  },
  {
   "cell_type": "markdown",
   "id": "2883c728",
   "metadata": {},
   "source": [
    "nombre_infected      1024\n",
    "nombre_sain          2286\n",
    "nombre_exposed        636\n",
    "nombre_recovered    16054\n",
    "Name: 461, dtype: int64"
   ]
  },
  {
   "cell_type": "markdown",
   "id": "269ba6f6",
   "metadata": {},
   "source": [
    "nombre_infected      1054\n",
    "nombre_sain          2241\n",
    "nombre_exposed        643\n",
    "nombre_recovered    16062\n",
    "Name: 462, dtype: int64"
   ]
  },
  {
   "cell_type": "markdown",
   "id": "18becca5",
   "metadata": {},
   "source": [
    "nombre_infected      1074\n",
    "nombre_sain          2209\n",
    "nombre_exposed        627\n",
    "nombre_recovered    16090\n",
    "Name: 463, dtype: int64"
   ]
  },
  {
   "cell_type": "markdown",
   "id": "aec2d1b7",
   "metadata": {},
   "source": [
    "nombre_infected      1070\n",
    "nombre_sain          2187\n",
    "nombre_exposed        617\n",
    "nombre_recovered    16126\n",
    "Name: 464, dtype: int64"
   ]
  },
  {
   "cell_type": "markdown",
   "id": "e2d0fb38",
   "metadata": {},
   "source": [
    "nombre_infected      1072\n",
    "nombre_sain          2157\n",
    "nombre_exposed        609\n",
    "nombre_recovered    16162\n",
    "Name: 465, dtype: int64"
   ]
  },
  {
   "cell_type": "markdown",
   "id": "df5e737e",
   "metadata": {},
   "source": [
    "nombre_infected      1093\n",
    "nombre_sain          2112\n",
    "nombre_exposed        609\n",
    "nombre_recovered    16186\n",
    "Name: 466, dtype: int64"
   ]
  },
  {
   "cell_type": "markdown",
   "id": "b61d64b4",
   "metadata": {},
   "source": [
    "nombre_infected      1089\n",
    "nombre_sain          2117\n",
    "nombre_exposed        609\n",
    "nombre_recovered    16185\n",
    "Name: 467, dtype: int64"
   ]
  },
  {
   "cell_type": "markdown",
   "id": "36a08455",
   "metadata": {},
   "source": [
    "nombre_infected      1043\n",
    "nombre_sain          2138\n",
    "nombre_exposed        602\n",
    "nombre_recovered    16217\n",
    "Name: 468, dtype: int64"
   ]
  },
  {
   "cell_type": "markdown",
   "id": "40f0c6ef",
   "metadata": {},
   "source": [
    "nombre_infected      1045\n",
    "nombre_sain          2122\n",
    "nombre_exposed        579\n",
    "nombre_recovered    16254\n",
    "Name: 469, dtype: int64"
   ]
  },
  {
   "cell_type": "markdown",
   "id": "d46f4ca7",
   "metadata": {},
   "source": [
    "nombre_infected      1013\n",
    "nombre_sain          2095\n",
    "nombre_exposed        602\n",
    "nombre_recovered    16290\n",
    "Name: 470, dtype: int64"
   ]
  },
  {
   "cell_type": "markdown",
   "id": "c1225596",
   "metadata": {},
   "source": [
    "nombre_infected       999\n",
    "nombre_sain          2092\n",
    "nombre_exposed        607\n",
    "nombre_recovered    16302\n",
    "Name: 471, dtype: int64"
   ]
  },
  {
   "cell_type": "markdown",
   "id": "3dcf693c",
   "metadata": {},
   "source": [
    "nombre_infected       988\n",
    "nombre_sain          2061\n",
    "nombre_exposed        605\n",
    "nombre_recovered    16346\n",
    "Name: 472, dtype: int64"
   ]
  },
  {
   "cell_type": "markdown",
   "id": "4581c2f7",
   "metadata": {},
   "source": [
    "nombre_infected      1016\n",
    "nombre_sain          2036\n",
    "nombre_exposed        599\n",
    "nombre_recovered    16349\n",
    "Name: 473, dtype: int64"
   ]
  },
  {
   "cell_type": "markdown",
   "id": "2e7dfde5",
   "metadata": {},
   "source": [
    "nombre_infected      1019\n",
    "nombre_sain          2026\n",
    "nombre_exposed        594\n",
    "nombre_recovered    16361\n",
    "Name: 474, dtype: int64"
   ]
  },
  {
   "cell_type": "markdown",
   "id": "46f485ff",
   "metadata": {},
   "source": [
    "nombre_infected      1019\n",
    "nombre_sain          2008\n",
    "nombre_exposed        598\n",
    "nombre_recovered    16375\n",
    "Name: 475, dtype: int64"
   ]
  },
  {
   "cell_type": "markdown",
   "id": "81982dc1",
   "metadata": {},
   "source": [
    "nombre_infected       999\n",
    "nombre_sain          1987\n",
    "nombre_exposed        607\n",
    "nombre_recovered    16407\n",
    "Name: 476, dtype: int64"
   ]
  },
  {
   "cell_type": "markdown",
   "id": "80c88194",
   "metadata": {},
   "source": [
    "nombre_infected       976\n",
    "nombre_sain          1994\n",
    "nombre_exposed        588\n",
    "nombre_recovered    16442\n",
    "Name: 477, dtype: int64"
   ]
  },
  {
   "cell_type": "markdown",
   "id": "bc258cf3",
   "metadata": {},
   "source": [
    "nombre_infected       967\n",
    "nombre_sain          2000\n",
    "nombre_exposed        572\n",
    "nombre_recovered    16461\n",
    "Name: 478, dtype: int64"
   ]
  },
  {
   "cell_type": "markdown",
   "id": "6b7ec2dd",
   "metadata": {},
   "source": [
    "nombre_infected       970\n",
    "nombre_sain          1995\n",
    "nombre_exposed        574\n",
    "nombre_recovered    16461\n",
    "Name: 479, dtype: int64"
   ]
  },
  {
   "cell_type": "markdown",
   "id": "18fe700c",
   "metadata": {},
   "source": [
    "nombre_infected       985\n",
    "nombre_sain          1978\n",
    "nombre_exposed        555\n",
    "nombre_recovered    16482\n",
    "Name: 480, dtype: int64"
   ]
  },
  {
   "cell_type": "markdown",
   "id": "30ef0152",
   "metadata": {},
   "source": [
    "nombre_infected       957\n",
    "nombre_sain          1992\n",
    "nombre_exposed        538\n",
    "nombre_recovered    16513\n",
    "Name: 481, dtype: int64"
   ]
  },
  {
   "cell_type": "markdown",
   "id": "d0b0ceda",
   "metadata": {},
   "source": [
    "nombre_infected       963\n",
    "nombre_sain          2003\n",
    "nombre_exposed        503\n",
    "nombre_recovered    16531\n",
    "Name: 482, dtype: int64"
   ]
  },
  {
   "cell_type": "markdown",
   "id": "7eac1ae2",
   "metadata": {},
   "source": [
    "nombre_infected       927\n",
    "nombre_sain          2009\n",
    "nombre_exposed        501\n",
    "nombre_recovered    16563\n",
    "Name: 483, dtype: int64"
   ]
  },
  {
   "cell_type": "markdown",
   "id": "773d585e",
   "metadata": {},
   "source": [
    "nombre_infected       927\n",
    "nombre_sain          2011\n",
    "nombre_exposed        483\n",
    "nombre_recovered    16579\n",
    "Name: 484, dtype: int64"
   ]
  },
  {
   "cell_type": "markdown",
   "id": "05a56c8f",
   "metadata": {},
   "source": [
    "nombre_infected       909\n",
    "nombre_sain          2004\n",
    "nombre_exposed        487\n",
    "nombre_recovered    16600\n",
    "Name: 485, dtype: int64"
   ]
  },
  {
   "cell_type": "markdown",
   "id": "4a4c9c5c",
   "metadata": {},
   "source": [
    "nombre_infected       884\n",
    "nombre_sain          2009\n",
    "nombre_exposed        485\n",
    "nombre_recovered    16622\n",
    "Name: 486, dtype: int64"
   ]
  },
  {
   "cell_type": "markdown",
   "id": "37275d9f",
   "metadata": {},
   "source": [
    "nombre_infected       868\n",
    "nombre_sain          2024\n",
    "nombre_exposed        465\n",
    "nombre_recovered    16643\n",
    "Name: 487, dtype: int64"
   ]
  },
  {
   "cell_type": "markdown",
   "id": "6e8d4d14",
   "metadata": {},
   "source": [
    "nombre_infected       860\n",
    "nombre_sain          2047\n",
    "nombre_exposed        458\n",
    "nombre_recovered    16635\n",
    "Name: 488, dtype: int64"
   ]
  },
  {
   "cell_type": "markdown",
   "id": "33bb1bc7",
   "metadata": {},
   "source": [
    "nombre_infected       855\n",
    "nombre_sain          2046\n",
    "nombre_exposed        465\n",
    "nombre_recovered    16634\n",
    "Name: 489, dtype: int64"
   ]
  },
  {
   "cell_type": "markdown",
   "id": "5a8ed4f3",
   "metadata": {},
   "source": [
    "nombre_infected       848\n",
    "nombre_sain          2064\n",
    "nombre_exposed        474\n",
    "nombre_recovered    16614\n",
    "Name: 490, dtype: int64"
   ]
  },
  {
   "cell_type": "markdown",
   "id": "819f1d79",
   "metadata": {},
   "source": [
    "nombre_infected       810\n",
    "nombre_sain          2061\n",
    "nombre_exposed        498\n",
    "nombre_recovered    16631\n",
    "Name: 491, dtype: int64"
   ]
  },
  {
   "cell_type": "markdown",
   "id": "1ddd9e5d",
   "metadata": {},
   "source": [
    "nombre_infected       800\n",
    "nombre_sain          2071\n",
    "nombre_exposed        499\n",
    "nombre_recovered    16630\n",
    "Name: 492, dtype: int64"
   ]
  },
  {
   "cell_type": "markdown",
   "id": "170a2a73",
   "metadata": {},
   "source": [
    "nombre_infected       781\n",
    "nombre_sain          2099\n",
    "nombre_exposed        501\n",
    "nombre_recovered    16619\n",
    "Name: 493, dtype: int64"
   ]
  },
  {
   "cell_type": "markdown",
   "id": "9899d548",
   "metadata": {},
   "source": [
    "nombre_infected       814\n",
    "nombre_sain          2122\n",
    "nombre_exposed        494\n",
    "nombre_recovered    16570\n",
    "Name: 494, dtype: int64"
   ]
  },
  {
   "cell_type": "markdown",
   "id": "caf01fb8",
   "metadata": {},
   "source": [
    "nombre_infected       816\n",
    "nombre_sain          2144\n",
    "nombre_exposed        488\n",
    "nombre_recovered    16552\n",
    "Name: 495, dtype: int64"
   ]
  },
  {
   "cell_type": "markdown",
   "id": "52e53e3c",
   "metadata": {},
   "source": [
    "nombre_infected       824\n",
    "nombre_sain          2184\n",
    "nombre_exposed        472\n",
    "nombre_recovered    16520\n",
    "Name: 496, dtype: int64"
   ]
  },
  {
   "cell_type": "markdown",
   "id": "4904a819",
   "metadata": {},
   "source": [
    "nombre_infected       838\n",
    "nombre_sain          2186\n",
    "nombre_exposed        464\n",
    "nombre_recovered    16512\n",
    "Name: 497, dtype: int64"
   ]
  },
  {
   "cell_type": "markdown",
   "id": "84eb153d",
   "metadata": {},
   "source": [
    "nombre_infected       823\n",
    "nombre_sain          2205\n",
    "nombre_exposed        454\n",
    "nombre_recovered    16518\n",
    "Name: 498, dtype: int64"
   ]
  },
  {
   "cell_type": "markdown",
   "id": "c716df74",
   "metadata": {},
   "source": [
    "nombre_infected       811\n",
    "nombre_sain          2234\n",
    "nombre_exposed        457\n",
    "nombre_recovered    16498\n",
    "Name: 499, dtype: int64"
   ]
  },
  {
   "cell_type": "markdown",
   "id": "47c4eee6",
   "metadata": {},
   "source": [
    "nombre_infected       792\n",
    "nombre_sain          2248\n",
    "nombre_exposed        459\n",
    "nombre_recovered    16501\n",
    "Name: 500, dtype: int64"
   ]
  },
  {
   "cell_type": "markdown",
   "id": "7d916bbd",
   "metadata": {},
   "source": [
    "nombre_infected       802\n",
    "nombre_sain          2247\n",
    "nombre_exposed        463\n",
    "nombre_recovered    16488\n",
    "Name: 501, dtype: int64"
   ]
  },
  {
   "cell_type": "markdown",
   "id": "c929be5e",
   "metadata": {},
   "source": [
    "nombre_infected       809\n",
    "nombre_sain          2242\n",
    "nombre_exposed        474\n",
    "nombre_recovered    16475\n",
    "Name: 502, dtype: int64"
   ]
  },
  {
   "cell_type": "markdown",
   "id": "6a4cd773",
   "metadata": {},
   "source": [
    "nombre_infected       801\n",
    "nombre_sain          2237\n",
    "nombre_exposed        478\n",
    "nombre_recovered    16484\n",
    "Name: 503, dtype: int64"
   ]
  },
  {
   "cell_type": "markdown",
   "id": "d2ed7dc1",
   "metadata": {},
   "source": [
    "nombre_infected       800\n",
    "nombre_sain          2242\n",
    "nombre_exposed        481\n",
    "nombre_recovered    16477\n",
    "Name: 504, dtype: int64"
   ]
  },
  {
   "cell_type": "markdown",
   "id": "e787f12a",
   "metadata": {},
   "source": [
    "nombre_infected       791\n",
    "nombre_sain          2264\n",
    "nombre_exposed        475\n",
    "nombre_recovered    16470\n",
    "Name: 505, dtype: int64"
   ]
  },
  {
   "cell_type": "markdown",
   "id": "3eb13dc0",
   "metadata": {},
   "source": [
    "nombre_infected       795\n",
    "nombre_sain          2255\n",
    "nombre_exposed        465\n",
    "nombre_recovered    16485\n",
    "Name: 506, dtype: int64"
   ]
  },
  {
   "cell_type": "markdown",
   "id": "6e0e0c1f",
   "metadata": {},
   "source": [
    "nombre_infected       781\n",
    "nombre_sain          2234\n",
    "nombre_exposed        480\n",
    "nombre_recovered    16505\n",
    "Name: 507, dtype: int64"
   ]
  },
  {
   "cell_type": "markdown",
   "id": "7cedab66",
   "metadata": {},
   "source": [
    "nombre_infected       783\n",
    "nombre_sain          2218\n",
    "nombre_exposed        471\n",
    "nombre_recovered    16528\n",
    "Name: 508, dtype: int64"
   ]
  },
  {
   "cell_type": "markdown",
   "id": "136ecb9a",
   "metadata": {},
   "source": [
    "nombre_infected       773\n",
    "nombre_sain          2240\n",
    "nombre_exposed        466\n",
    "nombre_recovered    16521\n",
    "Name: 509, dtype: int64"
   ]
  },
  {
   "cell_type": "markdown",
   "id": "1582d470",
   "metadata": {},
   "source": [
    "nombre_infected       793\n",
    "nombre_sain          2260\n",
    "nombre_exposed        449\n",
    "nombre_recovered    16498\n",
    "Name: 510, dtype: int64"
   ]
  },
  {
   "cell_type": "markdown",
   "id": "48a3c83b",
   "metadata": {},
   "source": [
    "nombre_infected       825\n",
    "nombre_sain          2261\n",
    "nombre_exposed        448\n",
    "nombre_recovered    16466\n",
    "Name: 511, dtype: int64"
   ]
  },
  {
   "cell_type": "markdown",
   "id": "cc62add0",
   "metadata": {},
   "source": [
    "nombre_infected       790\n",
    "nombre_sain          2287\n",
    "nombre_exposed        458\n",
    "nombre_recovered    16465\n",
    "Name: 512, dtype: int64"
   ]
  },
  {
   "cell_type": "markdown",
   "id": "c2f112b7",
   "metadata": {},
   "source": [
    "nombre_infected       777\n",
    "nombre_sain          2287\n",
    "nombre_exposed        478\n",
    "nombre_recovered    16458\n",
    "Name: 513, dtype: int64"
   ]
  },
  {
   "cell_type": "markdown",
   "id": "e8cff696",
   "metadata": {},
   "source": [
    "nombre_infected       765\n",
    "nombre_sain          2281\n",
    "nombre_exposed        481\n",
    "nombre_recovered    16473\n",
    "Name: 514, dtype: int64"
   ]
  },
  {
   "cell_type": "markdown",
   "id": "8d957157",
   "metadata": {},
   "source": [
    "nombre_infected       783\n",
    "nombre_sain          2283\n",
    "nombre_exposed        464\n",
    "nombre_recovered    16470\n",
    "Name: 515, dtype: int64"
   ]
  },
  {
   "cell_type": "markdown",
   "id": "42fcc446",
   "metadata": {},
   "source": [
    "nombre_infected       799\n",
    "nombre_sain          2277\n",
    "nombre_exposed        453\n",
    "nombre_recovered    16471\n",
    "Name: 516, dtype: int64"
   ]
  },
  {
   "cell_type": "markdown",
   "id": "86da03da",
   "metadata": {},
   "source": [
    "nombre_infected       794\n",
    "nombre_sain          2268\n",
    "nombre_exposed        441\n",
    "nombre_recovered    16497\n",
    "Name: 517, dtype: int64"
   ]
  },
  {
   "cell_type": "markdown",
   "id": "3c2f166d",
   "metadata": {},
   "source": [
    "nombre_infected       819\n",
    "nombre_sain          2241\n",
    "nombre_exposed        452\n",
    "nombre_recovered    16488\n",
    "Name: 518, dtype: int64"
   ]
  },
  {
   "cell_type": "markdown",
   "id": "9422b915",
   "metadata": {},
   "source": [
    "nombre_infected       819\n",
    "nombre_sain          2232\n",
    "nombre_exposed        468\n",
    "nombre_recovered    16481\n",
    "Name: 519, dtype: int64"
   ]
  },
  {
   "cell_type": "markdown",
   "id": "7dfeceb7",
   "metadata": {},
   "source": [
    "nombre_infected       805\n",
    "nombre_sain          2201\n",
    "nombre_exposed        492\n",
    "nombre_recovered    16502\n",
    "Name: 520, dtype: int64"
   ]
  },
  {
   "cell_type": "markdown",
   "id": "eb8b908c",
   "metadata": {},
   "source": [
    "nombre_infected       804\n",
    "nombre_sain          2193\n",
    "nombre_exposed        484\n",
    "nombre_recovered    16519\n",
    "Name: 521, dtype: int64"
   ]
  },
  {
   "cell_type": "markdown",
   "id": "a8c085a0",
   "metadata": {},
   "source": [
    "nombre_infected       827\n",
    "nombre_sain          2188\n",
    "nombre_exposed        465\n",
    "nombre_recovered    16520\n",
    "Name: 522, dtype: int64"
   ]
  },
  {
   "cell_type": "markdown",
   "id": "24a07414",
   "metadata": {},
   "source": [
    "nombre_infected       842\n",
    "nombre_sain          2188\n",
    "nombre_exposed        471\n",
    "nombre_recovered    16499\n",
    "Name: 523, dtype: int64"
   ]
  },
  {
   "cell_type": "markdown",
   "id": "5677f8ca",
   "metadata": {},
   "source": [
    "nombre_infected       850\n",
    "nombre_sain          2193\n",
    "nombre_exposed        450\n",
    "nombre_recovered    16507\n",
    "Name: 524, dtype: int64"
   ]
  },
  {
   "cell_type": "markdown",
   "id": "5c62621c",
   "metadata": {},
   "source": [
    "nombre_infected       856\n",
    "nombre_sain          2177\n",
    "nombre_exposed        458\n",
    "nombre_recovered    16509\n",
    "Name: 525, dtype: int64"
   ]
  },
  {
   "cell_type": "markdown",
   "id": "d6b6b216",
   "metadata": {},
   "source": [
    "nombre_infected       834\n",
    "nombre_sain          2171\n",
    "nombre_exposed        466\n",
    "nombre_recovered    16529\n",
    "Name: 526, dtype: int64"
   ]
  },
  {
   "cell_type": "markdown",
   "id": "1c59dd43",
   "metadata": {},
   "source": [
    "nombre_infected       822\n",
    "nombre_sain          2165\n",
    "nombre_exposed        465\n",
    "nombre_recovered    16548\n",
    "Name: 527, dtype: int64"
   ]
  },
  {
   "cell_type": "markdown",
   "id": "96d86094",
   "metadata": {},
   "source": [
    "nombre_infected       819\n",
    "nombre_sain          2166\n",
    "nombre_exposed        460\n",
    "nombre_recovered    16555\n",
    "Name: 528, dtype: int64"
   ]
  },
  {
   "cell_type": "markdown",
   "id": "e3cdd3ef",
   "metadata": {},
   "source": [
    "nombre_infected       811\n",
    "nombre_sain          2135\n",
    "nombre_exposed        483\n",
    "nombre_recovered    16571\n",
    "Name: 529, dtype: int64"
   ]
  },
  {
   "cell_type": "markdown",
   "id": "44059a00",
   "metadata": {},
   "source": [
    "nombre_infected       810\n",
    "nombre_sain          2165\n",
    "nombre_exposed        455\n",
    "nombre_recovered    16570\n",
    "Name: 530, dtype: int64"
   ]
  },
  {
   "cell_type": "markdown",
   "id": "9365b0ee",
   "metadata": {},
   "source": [
    "nombre_infected       801\n",
    "nombre_sain          2158\n",
    "nombre_exposed        453\n",
    "nombre_recovered    16588\n",
    "Name: 531, dtype: int64"
   ]
  },
  {
   "cell_type": "markdown",
   "id": "afaa19d8",
   "metadata": {},
   "source": [
    "nombre_infected       810\n",
    "nombre_sain          2152\n",
    "nombre_exposed        454\n",
    "nombre_recovered    16584\n",
    "Name: 532, dtype: int64"
   ]
  },
  {
   "cell_type": "markdown",
   "id": "42c80965",
   "metadata": {},
   "source": [
    "nombre_infected       815\n",
    "nombre_sain          2153\n",
    "nombre_exposed        453\n",
    "nombre_recovered    16579\n",
    "Name: 533, dtype: int64"
   ]
  },
  {
   "cell_type": "markdown",
   "id": "6ac6d738",
   "metadata": {},
   "source": [
    "nombre_infected       812\n",
    "nombre_sain          2139\n",
    "nombre_exposed        472\n",
    "nombre_recovered    16577\n",
    "Name: 534, dtype: int64"
   ]
  },
  {
   "cell_type": "markdown",
   "id": "04866b03",
   "metadata": {},
   "source": [
    "nombre_infected       793\n",
    "nombre_sain          2164\n",
    "nombre_exposed        474\n",
    "nombre_recovered    16569\n",
    "Name: 535, dtype: int64"
   ]
  },
  {
   "cell_type": "markdown",
   "id": "ab2fe3c2",
   "metadata": {},
   "source": [
    "nombre_infected       812\n",
    "nombre_sain          2184\n",
    "nombre_exposed        451\n",
    "nombre_recovered    16553\n",
    "Name: 536, dtype: int64"
   ]
  },
  {
   "cell_type": "markdown",
   "id": "e66cdcc7",
   "metadata": {},
   "source": [
    "nombre_infected       815\n",
    "nombre_sain          2182\n",
    "nombre_exposed        438\n",
    "nombre_recovered    16565\n",
    "Name: 537, dtype: int64"
   ]
  },
  {
   "cell_type": "markdown",
   "id": "89039ace",
   "metadata": {},
   "source": [
    "nombre_infected       821\n",
    "nombre_sain          2181\n",
    "nombre_exposed        443\n",
    "nombre_recovered    16555\n",
    "Name: 538, dtype: int64"
   ]
  },
  {
   "cell_type": "markdown",
   "id": "04647bf2",
   "metadata": {},
   "source": [
    "nombre_infected       833\n",
    "nombre_sain          2219\n",
    "nombre_exposed        433\n",
    "nombre_recovered    16515\n",
    "Name: 539, dtype: int64"
   ]
  },
  {
   "cell_type": "markdown",
   "id": "99a66682",
   "metadata": {},
   "source": [
    "nombre_infected       845\n",
    "nombre_sain          2221\n",
    "nombre_exposed        431\n",
    "nombre_recovered    16503\n",
    "Name: 540, dtype: int64"
   ]
  },
  {
   "cell_type": "markdown",
   "id": "c2b3cc78",
   "metadata": {},
   "source": [
    "nombre_infected       815\n",
    "nombre_sain          2236\n",
    "nombre_exposed        429\n",
    "nombre_recovered    16520\n",
    "Name: 541, dtype: int64"
   ]
  },
  {
   "cell_type": "markdown",
   "id": "4de5600c",
   "metadata": {},
   "source": [
    "nombre_infected       815\n",
    "nombre_sain          2248\n",
    "nombre_exposed        442\n",
    "nombre_recovered    16495\n",
    "Name: 542, dtype: int64"
   ]
  },
  {
   "cell_type": "markdown",
   "id": "0ff0940c",
   "metadata": {},
   "source": [
    "nombre_infected       806\n",
    "nombre_sain          2258\n",
    "nombre_exposed        450\n",
    "nombre_recovered    16486\n",
    "Name: 543, dtype: int64"
   ]
  },
  {
   "cell_type": "markdown",
   "id": "93ae222f",
   "metadata": {},
   "source": [
    "nombre_infected       790\n",
    "nombre_sain          2278\n",
    "nombre_exposed        436\n",
    "nombre_recovered    16496\n",
    "Name: 544, dtype: int64"
   ]
  },
  {
   "cell_type": "markdown",
   "id": "5c7af4ac",
   "metadata": {},
   "source": [
    "nombre_infected       780\n",
    "nombre_sain          2278\n",
    "nombre_exposed        461\n",
    "nombre_recovered    16481\n",
    "Name: 545, dtype: int64"
   ]
  },
  {
   "cell_type": "markdown",
   "id": "2d21d8a0",
   "metadata": {},
   "source": [
    "nombre_infected       761\n",
    "nombre_sain          2286\n",
    "nombre_exposed        464\n",
    "nombre_recovered    16489\n",
    "Name: 546, dtype: int64"
   ]
  },
  {
   "cell_type": "markdown",
   "id": "c6d5ea72",
   "metadata": {},
   "source": [
    "nombre_infected       771\n",
    "nombre_sain          2278\n",
    "nombre_exposed        462\n",
    "nombre_recovered    16489\n",
    "Name: 547, dtype: int64"
   ]
  },
  {
   "cell_type": "markdown",
   "id": "cce33502",
   "metadata": {},
   "source": [
    "nombre_infected       770\n",
    "nombre_sain          2309\n",
    "nombre_exposed        464\n",
    "nombre_recovered    16457\n",
    "Name: 548, dtype: int64"
   ]
  },
  {
   "cell_type": "markdown",
   "id": "5aca4f90",
   "metadata": {},
   "source": [
    "nombre_infected       775\n",
    "nombre_sain          2317\n",
    "nombre_exposed        472\n",
    "nombre_recovered    16436\n",
    "Name: 549, dtype: int64"
   ]
  },
  {
   "cell_type": "markdown",
   "id": "cba25fdb",
   "metadata": {},
   "source": [
    "nombre_infected       789\n",
    "nombre_sain          2321\n",
    "nombre_exposed        472\n",
    "nombre_recovered    16418\n",
    "Name: 550, dtype: int64"
   ]
  },
  {
   "cell_type": "markdown",
   "id": "bea71bb9",
   "metadata": {},
   "source": [
    "nombre_infected       794\n",
    "nombre_sain          2323\n",
    "nombre_exposed        468\n",
    "nombre_recovered    16415\n",
    "Name: 551, dtype: int64"
   ]
  },
  {
   "cell_type": "markdown",
   "id": "087ebbc7",
   "metadata": {},
   "source": [
    "nombre_infected       794\n",
    "nombre_sain          2327\n",
    "nombre_exposed        481\n",
    "nombre_recovered    16398\n",
    "Name: 552, dtype: int64"
   ]
  },
  {
   "cell_type": "markdown",
   "id": "7795b430",
   "metadata": {},
   "source": [
    "nombre_infected       812\n",
    "nombre_sain          2325\n",
    "nombre_exposed        479\n",
    "nombre_recovered    16384\n",
    "Name: 553, dtype: int64"
   ]
  },
  {
   "cell_type": "markdown",
   "id": "af37065e",
   "metadata": {},
   "source": [
    "nombre_infected       812\n",
    "nombre_sain          2331\n",
    "nombre_exposed        496\n",
    "nombre_recovered    16361\n",
    "Name: 554, dtype: int64"
   ]
  },
  {
   "cell_type": "markdown",
   "id": "e0492c08",
   "metadata": {},
   "source": [
    "nombre_infected       803\n",
    "nombre_sain          2320\n",
    "nombre_exposed        513\n",
    "nombre_recovered    16364\n",
    "Name: 555, dtype: int64"
   ]
  },
  {
   "cell_type": "markdown",
   "id": "389ac79b",
   "metadata": {},
   "source": [
    "nombre_infected       798\n",
    "nombre_sain          2335\n",
    "nombre_exposed        498\n",
    "nombre_recovered    16369\n",
    "Name: 556, dtype: int64"
   ]
  },
  {
   "cell_type": "markdown",
   "id": "885a8353",
   "metadata": {},
   "source": [
    "nombre_infected       809\n",
    "nombre_sain          2310\n",
    "nombre_exposed        482\n",
    "nombre_recovered    16399\n",
    "Name: 557, dtype: int64"
   ]
  },
  {
   "cell_type": "markdown",
   "id": "7b38108b",
   "metadata": {},
   "source": [
    "nombre_infected       831\n",
    "nombre_sain          2320\n",
    "nombre_exposed        473\n",
    "nombre_recovered    16376\n",
    "Name: 558, dtype: int64"
   ]
  },
  {
   "cell_type": "markdown",
   "id": "2a621196",
   "metadata": {},
   "source": [
    "nombre_infected       813\n",
    "nombre_sain          2325\n",
    "nombre_exposed        472\n",
    "nombre_recovered    16390\n",
    "Name: 559, dtype: int64"
   ]
  },
  {
   "cell_type": "markdown",
   "id": "b904ddb6",
   "metadata": {},
   "source": [
    "nombre_infected       806\n",
    "nombre_sain          2339\n",
    "nombre_exposed        480\n",
    "nombre_recovered    16375\n",
    "Name: 560, dtype: int64"
   ]
  },
  {
   "cell_type": "markdown",
   "id": "b5dc7836",
   "metadata": {},
   "source": [
    "nombre_infected       818\n",
    "nombre_sain          2328\n",
    "nombre_exposed        486\n",
    "nombre_recovered    16368\n",
    "Name: 561, dtype: int64"
   ]
  },
  {
   "cell_type": "markdown",
   "id": "bacfd304",
   "metadata": {},
   "source": [
    "nombre_infected       827\n",
    "nombre_sain          2299\n",
    "nombre_exposed        506\n",
    "nombre_recovered    16368\n",
    "Name: 562, dtype: int64"
   ]
  },
  {
   "cell_type": "markdown",
   "id": "02bcc753",
   "metadata": {},
   "source": [
    "nombre_infected       825\n",
    "nombre_sain          2304\n",
    "nombre_exposed        495\n",
    "nombre_recovered    16376\n",
    "Name: 563, dtype: int64"
   ]
  },
  {
   "cell_type": "markdown",
   "id": "8e7e88b9",
   "metadata": {},
   "source": [
    "nombre_infected       824\n",
    "nombre_sain          2281\n",
    "nombre_exposed        485\n",
    "nombre_recovered    16410\n",
    "Name: 564, dtype: int64"
   ]
  },
  {
   "cell_type": "markdown",
   "id": "42e64b57",
   "metadata": {},
   "source": [
    "nombre_infected       827\n",
    "nombre_sain          2283\n",
    "nombre_exposed        480\n",
    "nombre_recovered    16410\n",
    "Name: 565, dtype: int64"
   ]
  },
  {
   "cell_type": "markdown",
   "id": "ea684f58",
   "metadata": {},
   "source": [
    "nombre_infected       840\n",
    "nombre_sain          2276\n",
    "nombre_exposed        468\n",
    "nombre_recovered    16416\n",
    "Name: 566, dtype: int64"
   ]
  },
  {
   "cell_type": "markdown",
   "id": "a53ede88",
   "metadata": {},
   "source": [
    "nombre_infected       807\n",
    "nombre_sain          2291\n",
    "nombre_exposed        502\n",
    "nombre_recovered    16400\n",
    "Name: 567, dtype: int64"
   ]
  },
  {
   "cell_type": "markdown",
   "id": "57d577a8",
   "metadata": {},
   "source": [
    "nombre_infected       820\n",
    "nombre_sain          2298\n",
    "nombre_exposed        502\n",
    "nombre_recovered    16380\n",
    "Name: 568, dtype: int64"
   ]
  },
  {
   "cell_type": "markdown",
   "id": "273cf808",
   "metadata": {},
   "source": [
    "nombre_infected       810\n",
    "nombre_sain          2286\n",
    "nombre_exposed        509\n",
    "nombre_recovered    16395\n",
    "Name: 569, dtype: int64"
   ]
  },
  {
   "cell_type": "markdown",
   "id": "efa316e2",
   "metadata": {},
   "source": [
    "nombre_infected       826\n",
    "nombre_sain          2277\n",
    "nombre_exposed        518\n",
    "nombre_recovered    16379\n",
    "Name: 570, dtype: int64"
   ]
  },
  {
   "cell_type": "markdown",
   "id": "e181637b",
   "metadata": {},
   "source": [
    "nombre_infected       845\n",
    "nombre_sain          2262\n",
    "nombre_exposed        514\n",
    "nombre_recovered    16379\n",
    "Name: 571, dtype: int64"
   ]
  },
  {
   "cell_type": "markdown",
   "id": "a5544a7c",
   "metadata": {},
   "source": [
    "nombre_infected       858\n",
    "nombre_sain          2227\n",
    "nombre_exposed        517\n",
    "nombre_recovered    16398\n",
    "Name: 572, dtype: int64"
   ]
  },
  {
   "cell_type": "markdown",
   "id": "cb061208",
   "metadata": {},
   "source": [
    "nombre_infected       853\n",
    "nombre_sain          2232\n",
    "nombre_exposed        510\n",
    "nombre_recovered    16405\n",
    "Name: 573, dtype: int64"
   ]
  },
  {
   "cell_type": "markdown",
   "id": "09e7b553",
   "metadata": {},
   "source": [
    "nombre_infected       862\n",
    "nombre_sain          2226\n",
    "nombre_exposed        503\n",
    "nombre_recovered    16409\n",
    "Name: 574, dtype: int64"
   ]
  },
  {
   "cell_type": "markdown",
   "id": "341450fa",
   "metadata": {},
   "source": [
    "nombre_infected       864\n",
    "nombre_sain          2234\n",
    "nombre_exposed        484\n",
    "nombre_recovered    16418\n",
    "Name: 575, dtype: int64"
   ]
  },
  {
   "cell_type": "markdown",
   "id": "208d0016",
   "metadata": {},
   "source": [
    "nombre_infected       885\n",
    "nombre_sain          2233\n",
    "nombre_exposed        485\n",
    "nombre_recovered    16397\n",
    "Name: 576, dtype: int64"
   ]
  },
  {
   "cell_type": "markdown",
   "id": "48004d03",
   "metadata": {},
   "source": [
    "nombre_infected       865\n",
    "nombre_sain          2215\n",
    "nombre_exposed        499\n",
    "nombre_recovered    16421\n",
    "Name: 577, dtype: int64"
   ]
  },
  {
   "cell_type": "markdown",
   "id": "2aa24f6c",
   "metadata": {},
   "source": [
    "nombre_infected       850\n",
    "nombre_sain          2247\n",
    "nombre_exposed        460\n",
    "nombre_recovered    16443\n",
    "Name: 578, dtype: int64"
   ]
  },
  {
   "cell_type": "markdown",
   "id": "1c6f201e",
   "metadata": {},
   "source": [
    "nombre_infected       874\n",
    "nombre_sain          2275\n",
    "nombre_exposed        427\n",
    "nombre_recovered    16424\n",
    "Name: 579, dtype: int64"
   ]
  },
  {
   "cell_type": "markdown",
   "id": "e0d1f4e1",
   "metadata": {},
   "source": [
    "nombre_infected       853\n",
    "nombre_sain          2276\n",
    "nombre_exposed        454\n",
    "nombre_recovered    16417\n",
    "Name: 580, dtype: int64"
   ]
  },
  {
   "cell_type": "markdown",
   "id": "d0c189a7",
   "metadata": {},
   "source": [
    "nombre_infected       818\n",
    "nombre_sain          2289\n",
    "nombre_exposed        474\n",
    "nombre_recovered    16419\n",
    "Name: 581, dtype: int64"
   ]
  },
  {
   "cell_type": "markdown",
   "id": "15ca3ee5",
   "metadata": {},
   "source": [
    "nombre_infected       827\n",
    "nombre_sain          2312\n",
    "nombre_exposed        453\n",
    "nombre_recovered    16408\n",
    "Name: 582, dtype: int64"
   ]
  },
  {
   "cell_type": "markdown",
   "id": "2b1f0908",
   "metadata": {},
   "source": [
    "nombre_infected       835\n",
    "nombre_sain          2302\n",
    "nombre_exposed        450\n",
    "nombre_recovered    16413\n",
    "Name: 583, dtype: int64"
   ]
  },
  {
   "cell_type": "markdown",
   "id": "c90193d5",
   "metadata": {},
   "source": [
    "nombre_infected       817\n",
    "nombre_sain          2315\n",
    "nombre_exposed        456\n",
    "nombre_recovered    16412\n",
    "Name: 584, dtype: int64"
   ]
  },
  {
   "cell_type": "markdown",
   "id": "1d46f9aa",
   "metadata": {},
   "source": [
    "nombre_infected       796\n",
    "nombre_sain          2352\n",
    "nombre_exposed        445\n",
    "nombre_recovered    16407\n",
    "Name: 585, dtype: int64"
   ]
  },
  {
   "cell_type": "markdown",
   "id": "9e79328d",
   "metadata": {},
   "source": [
    "nombre_infected       815\n",
    "nombre_sain          2346\n",
    "nombre_exposed        469\n",
    "nombre_recovered    16370\n",
    "Name: 586, dtype: int64"
   ]
  },
  {
   "cell_type": "markdown",
   "id": "6c6f50b4",
   "metadata": {},
   "source": [
    "nombre_infected       790\n",
    "nombre_sain          2355\n",
    "nombre_exposed        484\n",
    "nombre_recovered    16371\n",
    "Name: 587, dtype: int64"
   ]
  },
  {
   "cell_type": "markdown",
   "id": "41a32e3a",
   "metadata": {},
   "source": [
    "nombre_infected       797\n",
    "nombre_sain          2352\n",
    "nombre_exposed        487\n",
    "nombre_recovered    16364\n",
    "Name: 588, dtype: int64"
   ]
  },
  {
   "cell_type": "markdown",
   "id": "4ee89f48",
   "metadata": {},
   "source": [
    "nombre_infected       813\n",
    "nombre_sain          2357\n",
    "nombre_exposed        479\n",
    "nombre_recovered    16351\n",
    "Name: 589, dtype: int64"
   ]
  },
  {
   "cell_type": "markdown",
   "id": "de9fd64b",
   "metadata": {},
   "source": [
    "nombre_infected       816\n",
    "nombre_sain          2348\n",
    "nombre_exposed        498\n",
    "nombre_recovered    16338\n",
    "Name: 590, dtype: int64"
   ]
  },
  {
   "cell_type": "markdown",
   "id": "01006f88",
   "metadata": {},
   "source": [
    "nombre_infected       802\n",
    "nombre_sain          2345\n",
    "nombre_exposed        506\n",
    "nombre_recovered    16347\n",
    "Name: 591, dtype: int64"
   ]
  },
  {
   "cell_type": "markdown",
   "id": "acfe0f7b",
   "metadata": {},
   "source": [
    "nombre_infected       807\n",
    "nombre_sain          2350\n",
    "nombre_exposed        509\n",
    "nombre_recovered    16334\n",
    "Name: 592, dtype: int64"
   ]
  },
  {
   "cell_type": "markdown",
   "id": "e28caa31",
   "metadata": {},
   "source": [
    "nombre_infected       822\n",
    "nombre_sain          2364\n",
    "nombre_exposed        503\n",
    "nombre_recovered    16311\n",
    "Name: 593, dtype: int64"
   ]
  },
  {
   "cell_type": "markdown",
   "id": "139daf26",
   "metadata": {},
   "source": [
    "nombre_infected       812\n",
    "nombre_sain          2353\n",
    "nombre_exposed        511\n",
    "nombre_recovered    16324\n",
    "Name: 594, dtype: int64"
   ]
  },
  {
   "cell_type": "markdown",
   "id": "aeb27b2d",
   "metadata": {},
   "source": [
    "nombre_infected       834\n",
    "nombre_sain          2334\n",
    "nombre_exposed        510\n",
    "nombre_recovered    16322\n",
    "Name: 595, dtype: int64"
   ]
  },
  {
   "cell_type": "markdown",
   "id": "28eaba28",
   "metadata": {},
   "source": [
    "nombre_infected       851\n",
    "nombre_sain          2330\n",
    "nombre_exposed        514\n",
    "nombre_recovered    16305\n",
    "Name: 596, dtype: int64"
   ]
  },
  {
   "cell_type": "markdown",
   "id": "15eeabd2",
   "metadata": {},
   "source": [
    "nombre_infected       861\n",
    "nombre_sain          2302\n",
    "nombre_exposed        506\n",
    "nombre_recovered    16331\n",
    "Name: 597, dtype: int64"
   ]
  },
  {
   "cell_type": "markdown",
   "id": "c0f6b5c5",
   "metadata": {},
   "source": [
    "nombre_infected       859\n",
    "nombre_sain          2316\n",
    "nombre_exposed        496\n",
    "nombre_recovered    16329\n",
    "Name: 598, dtype: int64"
   ]
  },
  {
   "cell_type": "markdown",
   "id": "697a036a",
   "metadata": {},
   "source": [
    "nombre_infected       873\n",
    "nombre_sain          2300\n",
    "nombre_exposed        490\n",
    "nombre_recovered    16337\n",
    "Name: 599, dtype: int64"
   ]
  },
  {
   "cell_type": "markdown",
   "id": "26e6e5e8",
   "metadata": {},
   "source": [
    "nombre_infected       875\n",
    "nombre_sain          2289\n",
    "nombre_exposed        512\n",
    "nombre_recovered    16324\n",
    "Name: 600, dtype: int64"
   ]
  },
  {
   "cell_type": "markdown",
   "id": "c5783794",
   "metadata": {},
   "source": [
    "nombre_infected       865\n",
    "nombre_sain          2291\n",
    "nombre_exposed        517\n",
    "nombre_recovered    16327\n",
    "Name: 601, dtype: int64"
   ]
  },
  {
   "cell_type": "markdown",
   "id": "92dd81a5",
   "metadata": {},
   "source": [
    "nombre_infected       871\n",
    "nombre_sain          2290\n",
    "nombre_exposed        515\n",
    "nombre_recovered    16324\n",
    "Name: 602, dtype: int64"
   ]
  },
  {
   "cell_type": "markdown",
   "id": "85e938f7",
   "metadata": {},
   "source": [
    "nombre_infected       885\n",
    "nombre_sain          2287\n",
    "nombre_exposed        512\n",
    "nombre_recovered    16316\n",
    "Name: 603, dtype: int64"
   ]
  },
  {
   "cell_type": "markdown",
   "id": "7bb14967",
   "metadata": {},
   "source": [
    "nombre_infected       883\n",
    "nombre_sain          2275\n",
    "nombre_exposed        510\n",
    "nombre_recovered    16332\n",
    "Name: 604, dtype: int64"
   ]
  },
  {
   "cell_type": "markdown",
   "id": "79e118c5",
   "metadata": {},
   "source": [
    "nombre_infected       884\n",
    "nombre_sain          2257\n",
    "nombre_exposed        527\n",
    "nombre_recovered    16332\n",
    "Name: 605, dtype: int64"
   ]
  },
  {
   "cell_type": "markdown",
   "id": "8bffc45c",
   "metadata": {},
   "source": [
    "nombre_infected       864\n",
    "nombre_sain          2248\n",
    "nombre_exposed        536\n",
    "nombre_recovered    16352\n",
    "Name: 606, dtype: int64"
   ]
  },
  {
   "cell_type": "markdown",
   "id": "3473388f",
   "metadata": {},
   "source": [
    "nombre_infected       858\n",
    "nombre_sain          2244\n",
    "nombre_exposed        531\n",
    "nombre_recovered    16367\n",
    "Name: 607, dtype: int64"
   ]
  },
  {
   "cell_type": "markdown",
   "id": "224ffc72",
   "metadata": {},
   "source": [
    "nombre_infected       896\n",
    "nombre_sain          2214\n",
    "nombre_exposed        512\n",
    "nombre_recovered    16378\n",
    "Name: 608, dtype: int64"
   ]
  },
  {
   "cell_type": "markdown",
   "id": "e965e867",
   "metadata": {},
   "source": [
    "nombre_infected       927\n",
    "nombre_sain          2194\n",
    "nombre_exposed        502\n",
    "nombre_recovered    16377\n",
    "Name: 609, dtype: int64"
   ]
  },
  {
   "cell_type": "markdown",
   "id": "e885286c",
   "metadata": {},
   "source": [
    "nombre_infected       951\n",
    "nombre_sain          2169\n",
    "nombre_exposed        479\n",
    "nombre_recovered    16401\n",
    "Name: 610, dtype: int64"
   ]
  },
  {
   "cell_type": "markdown",
   "id": "e2273113",
   "metadata": {},
   "source": [
    "nombre_infected       926\n",
    "nombre_sain          2150\n",
    "nombre_exposed        482\n",
    "nombre_recovered    16442\n",
    "Name: 611, dtype: int64"
   ]
  },
  {
   "cell_type": "markdown",
   "id": "e72c7c38",
   "metadata": {},
   "source": [
    "nombre_infected       920\n",
    "nombre_sain          2147\n",
    "nombre_exposed        479\n",
    "nombre_recovered    16454\n",
    "Name: 612, dtype: int64"
   ]
  },
  {
   "cell_type": "markdown",
   "id": "e3cc7531",
   "metadata": {},
   "source": [
    "nombre_infected       906\n",
    "nombre_sain          2141\n",
    "nombre_exposed        476\n",
    "nombre_recovered    16477\n",
    "Name: 613, dtype: int64"
   ]
  },
  {
   "cell_type": "markdown",
   "id": "6e4180ad",
   "metadata": {},
   "source": [
    "nombre_infected       876\n",
    "nombre_sain          2163\n",
    "nombre_exposed        475\n",
    "nombre_recovered    16486\n",
    "Name: 614, dtype: int64"
   ]
  },
  {
   "cell_type": "markdown",
   "id": "467fea91",
   "metadata": {},
   "source": [
    "nombre_infected       884\n",
    "nombre_sain          2138\n",
    "nombre_exposed        479\n",
    "nombre_recovered    16499\n",
    "Name: 615, dtype: int64"
   ]
  },
  {
   "cell_type": "markdown",
   "id": "df129cb3",
   "metadata": {},
   "source": [
    "nombre_infected       853\n",
    "nombre_sain          2136\n",
    "nombre_exposed        482\n",
    "nombre_recovered    16529\n",
    "Name: 616, dtype: int64"
   ]
  },
  {
   "cell_type": "markdown",
   "id": "61efe7cf",
   "metadata": {},
   "source": [
    "nombre_infected       862\n",
    "nombre_sain          2151\n",
    "nombre_exposed        453\n",
    "nombre_recovered    16534\n",
    "Name: 617, dtype: int64"
   ]
  },
  {
   "cell_type": "markdown",
   "id": "45012a97",
   "metadata": {},
   "source": [
    "nombre_infected       858\n",
    "nombre_sain          2149\n",
    "nombre_exposed        466\n",
    "nombre_recovered    16527\n",
    "Name: 618, dtype: int64"
   ]
  },
  {
   "cell_type": "markdown",
   "id": "6208da26",
   "metadata": {},
   "source": [
    "nombre_infected       836\n",
    "nombre_sain          2143\n",
    "nombre_exposed        479\n",
    "nombre_recovered    16542\n",
    "Name: 619, dtype: int64"
   ]
  },
  {
   "cell_type": "markdown",
   "id": "2153c05b",
   "metadata": {},
   "source": [
    "nombre_infected       827\n",
    "nombre_sain          2163\n",
    "nombre_exposed        469\n",
    "nombre_recovered    16541\n",
    "Name: 620, dtype: int64"
   ]
  },
  {
   "cell_type": "markdown",
   "id": "274e50bf",
   "metadata": {},
   "source": [
    "nombre_infected       829\n",
    "nombre_sain          2186\n",
    "nombre_exposed        440\n",
    "nombre_recovered    16545\n",
    "Name: 621, dtype: int64"
   ]
  },
  {
   "cell_type": "markdown",
   "id": "fe2ae422",
   "metadata": {},
   "source": [
    "nombre_infected       805\n",
    "nombre_sain          2193\n",
    "nombre_exposed        457\n",
    "nombre_recovered    16545\n",
    "Name: 622, dtype: int64"
   ]
  },
  {
   "cell_type": "markdown",
   "id": "85fd6f3a",
   "metadata": {},
   "source": [
    "nombre_infected       813\n",
    "nombre_sain          2185\n",
    "nombre_exposed        447\n",
    "nombre_recovered    16555\n",
    "Name: 623, dtype: int64"
   ]
  },
  {
   "cell_type": "markdown",
   "id": "59388780",
   "metadata": {},
   "source": [
    "nombre_infected       824\n",
    "nombre_sain          2164\n",
    "nombre_exposed        443\n",
    "nombre_recovered    16569\n",
    "Name: 624, dtype: int64"
   ]
  },
  {
   "cell_type": "markdown",
   "id": "bdc55a2f",
   "metadata": {},
   "source": [
    "nombre_infected       838\n",
    "nombre_sain          2150\n",
    "nombre_exposed        439\n",
    "nombre_recovered    16573\n",
    "Name: 625, dtype: int64"
   ]
  },
  {
   "cell_type": "markdown",
   "id": "ffbd9f5a",
   "metadata": {},
   "source": [
    "nombre_infected       852\n",
    "nombre_sain          2132\n",
    "nombre_exposed        435\n",
    "nombre_recovered    16581\n",
    "Name: 626, dtype: int64"
   ]
  },
  {
   "cell_type": "markdown",
   "id": "27adf1f0",
   "metadata": {},
   "source": [
    "nombre_infected       826\n",
    "nombre_sain          2128\n",
    "nombre_exposed        450\n",
    "nombre_recovered    16596\n",
    "Name: 627, dtype: int64"
   ]
  },
  {
   "cell_type": "markdown",
   "id": "bb9761a8",
   "metadata": {},
   "source": [
    "nombre_infected       798\n",
    "nombre_sain          2130\n",
    "nombre_exposed        470\n",
    "nombre_recovered    16602\n",
    "Name: 628, dtype: int64"
   ]
  },
  {
   "cell_type": "markdown",
   "id": "f182f4c6",
   "metadata": {},
   "source": [
    "nombre_infected       778\n",
    "nombre_sain          2143\n",
    "nombre_exposed        459\n",
    "nombre_recovered    16620\n",
    "Name: 629, dtype: int64"
   ]
  },
  {
   "cell_type": "markdown",
   "id": "cb6cdeb8",
   "metadata": {},
   "source": [
    "nombre_infected       792\n",
    "nombre_sain          2145\n",
    "nombre_exposed        439\n",
    "nombre_recovered    16624\n",
    "Name: 630, dtype: int64"
   ]
  },
  {
   "cell_type": "markdown",
   "id": "6ccaa495",
   "metadata": {},
   "source": [
    "nombre_infected       778\n",
    "nombre_sain          2167\n",
    "nombre_exposed        438\n",
    "nombre_recovered    16617\n",
    "Name: 631, dtype: int64"
   ]
  },
  {
   "cell_type": "markdown",
   "id": "8165f0a8",
   "metadata": {},
   "source": [
    "nombre_infected       796\n",
    "nombre_sain          2215\n",
    "nombre_exposed        413\n",
    "nombre_recovered    16576\n",
    "Name: 632, dtype: int64"
   ]
  },
  {
   "cell_type": "markdown",
   "id": "68179d88",
   "metadata": {},
   "source": [
    "nombre_infected       782\n",
    "nombre_sain          2245\n",
    "nombre_exposed        431\n",
    "nombre_recovered    16542\n",
    "Name: 633, dtype: int64"
   ]
  },
  {
   "cell_type": "markdown",
   "id": "b8ecbd8c",
   "metadata": {},
   "source": [
    "nombre_infected       769\n",
    "nombre_sain          2255\n",
    "nombre_exposed        426\n",
    "nombre_recovered    16550\n",
    "Name: 634, dtype: int64"
   ]
  },
  {
   "cell_type": "markdown",
   "id": "b85f1a44",
   "metadata": {},
   "source": [
    "nombre_infected       773\n",
    "nombre_sain          2278\n",
    "nombre_exposed        430\n",
    "nombre_recovered    16519\n",
    "Name: 635, dtype: int64"
   ]
  },
  {
   "cell_type": "markdown",
   "id": "acf752bf",
   "metadata": {},
   "source": [
    "nombre_infected       769\n",
    "nombre_sain          2274\n",
    "nombre_exposed        428\n",
    "nombre_recovered    16529\n",
    "Name: 636, dtype: int64"
   ]
  },
  {
   "cell_type": "markdown",
   "id": "4729a3a7",
   "metadata": {},
   "source": [
    "nombre_infected       764\n",
    "nombre_sain          2271\n",
    "nombre_exposed        441\n",
    "nombre_recovered    16524\n",
    "Name: 637, dtype: int64"
   ]
  },
  {
   "cell_type": "markdown",
   "id": "2af9517f",
   "metadata": {},
   "source": [
    "nombre_infected       765\n",
    "nombre_sain          2294\n",
    "nombre_exposed        444\n",
    "nombre_recovered    16497\n",
    "Name: 638, dtype: int64"
   ]
  },
  {
   "cell_type": "markdown",
   "id": "5f04486c",
   "metadata": {},
   "source": [
    "nombre_infected       762\n",
    "nombre_sain          2307\n",
    "nombre_exposed        439\n",
    "nombre_recovered    16492\n",
    "Name: 639, dtype: int64"
   ]
  },
  {
   "cell_type": "markdown",
   "id": "5e8b6594",
   "metadata": {},
   "source": [
    "nombre_infected       759\n",
    "nombre_sain          2312\n",
    "nombre_exposed        440\n",
    "nombre_recovered    16489\n",
    "Name: 640, dtype: int64"
   ]
  },
  {
   "cell_type": "markdown",
   "id": "ec7b8641",
   "metadata": {},
   "source": [
    "nombre_infected       769\n",
    "nombre_sain          2338\n",
    "nombre_exposed        437\n",
    "nombre_recovered    16456\n",
    "Name: 641, dtype: int64"
   ]
  },
  {
   "cell_type": "markdown",
   "id": "1212a1c4",
   "metadata": {},
   "source": [
    "nombre_infected       788\n",
    "nombre_sain          2354\n",
    "nombre_exposed        427\n",
    "nombre_recovered    16431\n",
    "Name: 642, dtype: int64"
   ]
  },
  {
   "cell_type": "markdown",
   "id": "cc45b6ed",
   "metadata": {},
   "source": [
    "nombre_infected       783\n",
    "nombre_sain          2376\n",
    "nombre_exposed        431\n",
    "nombre_recovered    16410\n",
    "Name: 643, dtype: int64"
   ]
  },
  {
   "cell_type": "markdown",
   "id": "950f79fc",
   "metadata": {},
   "source": [
    "nombre_infected       783\n",
    "nombre_sain          2379\n",
    "nombre_exposed        419\n",
    "nombre_recovered    16419\n",
    "Name: 644, dtype: int64"
   ]
  },
  {
   "cell_type": "markdown",
   "id": "f76e7870",
   "metadata": {},
   "source": [
    "nombre_infected       781\n",
    "nombre_sain          2372\n",
    "nombre_exposed        429\n",
    "nombre_recovered    16418\n",
    "Name: 645, dtype: int64"
   ]
  },
  {
   "cell_type": "markdown",
   "id": "2b9454aa",
   "metadata": {},
   "source": [
    "nombre_infected       774\n",
    "nombre_sain          2411\n",
    "nombre_exposed        434\n",
    "nombre_recovered    16381\n",
    "Name: 646, dtype: int64"
   ]
  },
  {
   "cell_type": "markdown",
   "id": "f50f24ef",
   "metadata": {},
   "source": [
    "nombre_infected       787\n",
    "nombre_sain          2419\n",
    "nombre_exposed        434\n",
    "nombre_recovered    16360\n",
    "Name: 647, dtype: int64"
   ]
  },
  {
   "cell_type": "markdown",
   "id": "35c35eb7",
   "metadata": {},
   "source": [
    "nombre_infected       776\n",
    "nombre_sain          2426\n",
    "nombre_exposed        440\n",
    "nombre_recovered    16358\n",
    "Name: 648, dtype: int64"
   ]
  },
  {
   "cell_type": "markdown",
   "id": "1ab693d9",
   "metadata": {},
   "source": [
    "nombre_infected       789\n",
    "nombre_sain          2437\n",
    "nombre_exposed        430\n",
    "nombre_recovered    16344\n",
    "Name: 649, dtype: int64"
   ]
  },
  {
   "cell_type": "markdown",
   "id": "a06d3e77",
   "metadata": {},
   "source": [
    "nombre_infected       780\n",
    "nombre_sain          2437\n",
    "nombre_exposed        447\n",
    "nombre_recovered    16336\n",
    "Name: 650, dtype: int64"
   ]
  },
  {
   "cell_type": "markdown",
   "id": "e6e26023",
   "metadata": {},
   "source": [
    "nombre_infected       766\n",
    "nombre_sain          2448\n",
    "nombre_exposed        443\n",
    "nombre_recovered    16343\n",
    "Name: 651, dtype: int64"
   ]
  },
  {
   "cell_type": "markdown",
   "id": "ad55bf71",
   "metadata": {},
   "source": [
    "nombre_infected       740\n",
    "nombre_sain          2468\n",
    "nombre_exposed        458\n",
    "nombre_recovered    16334\n",
    "Name: 652, dtype: int64"
   ]
  },
  {
   "cell_type": "markdown",
   "id": "41c0f17d",
   "metadata": {},
   "source": [
    "nombre_infected       741\n",
    "nombre_sain          2463\n",
    "nombre_exposed        463\n",
    "nombre_recovered    16333\n",
    "Name: 653, dtype: int64"
   ]
  },
  {
   "cell_type": "markdown",
   "id": "4d826df0",
   "metadata": {},
   "source": [
    "nombre_infected       740\n",
    "nombre_sain          2473\n",
    "nombre_exposed        466\n",
    "nombre_recovered    16321\n",
    "Name: 654, dtype: int64"
   ]
  },
  {
   "cell_type": "markdown",
   "id": "743e8ec8",
   "metadata": {},
   "source": [
    "nombre_infected       757\n",
    "nombre_sain          2463\n",
    "nombre_exposed        455\n",
    "nombre_recovered    16325\n",
    "Name: 655, dtype: int64"
   ]
  },
  {
   "cell_type": "markdown",
   "id": "90958bc2",
   "metadata": {},
   "source": [
    "nombre_infected       779\n",
    "nombre_sain          2467\n",
    "nombre_exposed        439\n",
    "nombre_recovered    16315\n",
    "Name: 656, dtype: int64"
   ]
  },
  {
   "cell_type": "markdown",
   "id": "9c2cd5b3",
   "metadata": {},
   "source": [
    "nombre_infected       783\n",
    "nombre_sain          2448\n",
    "nombre_exposed        456\n",
    "nombre_recovered    16313\n",
    "Name: 657, dtype: int64"
   ]
  },
  {
   "cell_type": "markdown",
   "id": "57617281",
   "metadata": {},
   "source": [
    "nombre_infected       776\n",
    "nombre_sain          2433\n",
    "nombre_exposed        470\n",
    "nombre_recovered    16321\n",
    "Name: 658, dtype: int64"
   ]
  },
  {
   "cell_type": "markdown",
   "id": "9c14aaa2",
   "metadata": {},
   "source": [
    "nombre_infected       799\n",
    "nombre_sain          2416\n",
    "nombre_exposed        488\n",
    "nombre_recovered    16297\n",
    "Name: 659, dtype: int64"
   ]
  },
  {
   "cell_type": "markdown",
   "id": "33ed3e6c",
   "metadata": {},
   "source": [
    "nombre_infected       796\n",
    "nombre_sain          2404\n",
    "nombre_exposed        496\n",
    "nombre_recovered    16304\n",
    "Name: 660, dtype: int64"
   ]
  },
  {
   "cell_type": "markdown",
   "id": "991b8a24",
   "metadata": {},
   "source": [
    "nombre_infected       809\n",
    "nombre_sain          2404\n",
    "nombre_exposed        472\n",
    "nombre_recovered    16315\n",
    "Name: 661, dtype: int64"
   ]
  },
  {
   "cell_type": "markdown",
   "id": "2f85052d",
   "metadata": {},
   "source": [
    "nombre_infected       799\n",
    "nombre_sain          2382\n",
    "nombre_exposed        505\n",
    "nombre_recovered    16314\n",
    "Name: 662, dtype: int64"
   ]
  },
  {
   "cell_type": "markdown",
   "id": "f35ad9d7",
   "metadata": {},
   "source": [
    "nombre_infected       798\n",
    "nombre_sain          2367\n",
    "nombre_exposed        504\n",
    "nombre_recovered    16331\n",
    "Name: 663, dtype: int64"
   ]
  },
  {
   "cell_type": "markdown",
   "id": "f4871341",
   "metadata": {},
   "source": [
    "nombre_infected       790\n",
    "nombre_sain          2375\n",
    "nombre_exposed        506\n",
    "nombre_recovered    16329\n",
    "Name: 664, dtype: int64"
   ]
  },
  {
   "cell_type": "markdown",
   "id": "ed784ee3",
   "metadata": {},
   "source": [
    "nombre_infected       810\n",
    "nombre_sain          2377\n",
    "nombre_exposed        487\n",
    "nombre_recovered    16326\n",
    "Name: 665, dtype: int64"
   ]
  },
  {
   "cell_type": "markdown",
   "id": "65429872",
   "metadata": {},
   "source": [
    "nombre_infected       831\n",
    "nombre_sain          2359\n",
    "nombre_exposed        482\n",
    "nombre_recovered    16328\n",
    "Name: 666, dtype: int64"
   ]
  },
  {
   "cell_type": "markdown",
   "id": "bd77e0ae",
   "metadata": {},
   "source": [
    "nombre_infected       835\n",
    "nombre_sain          2358\n",
    "nombre_exposed        469\n",
    "nombre_recovered    16338\n",
    "Name: 667, dtype: int64"
   ]
  },
  {
   "cell_type": "markdown",
   "id": "b9c0a21f",
   "metadata": {},
   "source": [
    "nombre_infected       817\n",
    "nombre_sain          2355\n",
    "nombre_exposed        476\n",
    "nombre_recovered    16352\n",
    "Name: 668, dtype: int64"
   ]
  },
  {
   "cell_type": "markdown",
   "id": "0897ebad",
   "metadata": {},
   "source": [
    "nombre_infected       817\n",
    "nombre_sain          2348\n",
    "nombre_exposed        476\n",
    "nombre_recovered    16359\n",
    "Name: 669, dtype: int64"
   ]
  },
  {
   "cell_type": "markdown",
   "id": "86c163f9",
   "metadata": {},
   "source": [
    "nombre_infected       819\n",
    "nombre_sain          2310\n",
    "nombre_exposed        493\n",
    "nombre_recovered    16378\n",
    "Name: 670, dtype: int64"
   ]
  },
  {
   "cell_type": "markdown",
   "id": "08a7d6ca",
   "metadata": {},
   "source": [
    "nombre_infected       821\n",
    "nombre_sain          2292\n",
    "nombre_exposed        518\n",
    "nombre_recovered    16369\n",
    "Name: 671, dtype: int64"
   ]
  },
  {
   "cell_type": "markdown",
   "id": "24aded8c",
   "metadata": {},
   "source": [
    "nombre_infected       833\n",
    "nombre_sain          2284\n",
    "nombre_exposed        517\n",
    "nombre_recovered    16366\n",
    "Name: 672, dtype: int64"
   ]
  },
  {
   "cell_type": "markdown",
   "id": "79f19a37",
   "metadata": {},
   "source": [
    "nombre_infected       861\n",
    "nombre_sain          2267\n",
    "nombre_exposed        487\n",
    "nombre_recovered    16385\n",
    "Name: 673, dtype: int64"
   ]
  },
  {
   "cell_type": "markdown",
   "id": "bd2082a6",
   "metadata": {},
   "source": [
    "nombre_infected       854\n",
    "nombre_sain          2228\n",
    "nombre_exposed        493\n",
    "nombre_recovered    16425\n",
    "Name: 674, dtype: int64"
   ]
  },
  {
   "cell_type": "markdown",
   "id": "6ce86a3d",
   "metadata": {},
   "source": [
    "nombre_infected       855\n",
    "nombre_sain          2236\n",
    "nombre_exposed        489\n",
    "nombre_recovered    16420\n",
    "Name: 675, dtype: int64"
   ]
  },
  {
   "cell_type": "markdown",
   "id": "f3251def",
   "metadata": {},
   "source": [
    "nombre_infected       839\n",
    "nombre_sain          2210\n",
    "nombre_exposed        499\n",
    "nombre_recovered    16452\n",
    "Name: 676, dtype: int64"
   ]
  },
  {
   "cell_type": "markdown",
   "id": "98c5c436",
   "metadata": {},
   "source": [
    "nombre_infected       815\n",
    "nombre_sain          2212\n",
    "nombre_exposed        508\n",
    "nombre_recovered    16465\n",
    "Name: 677, dtype: int64"
   ]
  },
  {
   "cell_type": "markdown",
   "id": "70cb77c3",
   "metadata": {},
   "source": [
    "nombre_infected       848\n",
    "nombre_sain          2215\n",
    "nombre_exposed        477\n",
    "nombre_recovered    16460\n",
    "Name: 678, dtype: int64"
   ]
  },
  {
   "cell_type": "markdown",
   "id": "136377df",
   "metadata": {},
   "source": [
    "nombre_infected       879\n",
    "nombre_sain          2198\n",
    "nombre_exposed        453\n",
    "nombre_recovered    16470\n",
    "Name: 679, dtype: int64"
   ]
  },
  {
   "cell_type": "markdown",
   "id": "75f66694",
   "metadata": {},
   "source": [
    "nombre_infected       869\n",
    "nombre_sain          2177\n",
    "nombre_exposed        459\n",
    "nombre_recovered    16495\n",
    "Name: 680, dtype: int64"
   ]
  },
  {
   "cell_type": "markdown",
   "id": "4047f51f",
   "metadata": {},
   "source": [
    "nombre_infected       863\n",
    "nombre_sain          2152\n",
    "nombre_exposed        471\n",
    "nombre_recovered    16514\n",
    "Name: 681, dtype: int64"
   ]
  },
  {
   "cell_type": "markdown",
   "id": "40edd71d",
   "metadata": {},
   "source": [
    "nombre_infected       850\n",
    "nombre_sain          2156\n",
    "nombre_exposed        462\n",
    "nombre_recovered    16532\n",
    "Name: 682, dtype: int64"
   ]
  },
  {
   "cell_type": "markdown",
   "id": "8ef27890",
   "metadata": {},
   "source": [
    "nombre_infected       842\n",
    "nombre_sain          2150\n",
    "nombre_exposed        451\n",
    "nombre_recovered    16557\n",
    "Name: 683, dtype: int64"
   ]
  },
  {
   "cell_type": "markdown",
   "id": "411b38ca",
   "metadata": {},
   "source": [
    "nombre_infected       830\n",
    "nombre_sain          2175\n",
    "nombre_exposed        430\n",
    "nombre_recovered    16565\n",
    "Name: 684, dtype: int64"
   ]
  },
  {
   "cell_type": "markdown",
   "id": "2b6188b8",
   "metadata": {},
   "source": [
    "nombre_infected       812\n",
    "nombre_sain          2189\n",
    "nombre_exposed        448\n",
    "nombre_recovered    16551\n",
    "Name: 685, dtype: int64"
   ]
  },
  {
   "cell_type": "markdown",
   "id": "cc9a3c15",
   "metadata": {},
   "source": [
    "nombre_infected       816\n",
    "nombre_sain          2175\n",
    "nombre_exposed        456\n",
    "nombre_recovered    16553\n",
    "Name: 686, dtype: int64"
   ]
  },
  {
   "cell_type": "markdown",
   "id": "1756cbca",
   "metadata": {},
   "source": [
    "nombre_infected       797\n",
    "nombre_sain          2168\n",
    "nombre_exposed        456\n",
    "nombre_recovered    16579\n",
    "Name: 687, dtype: int64"
   ]
  },
  {
   "cell_type": "markdown",
   "id": "3203a487",
   "metadata": {},
   "source": [
    "nombre_infected       802\n",
    "nombre_sain          2174\n",
    "nombre_exposed        441\n",
    "nombre_recovered    16583\n",
    "Name: 688, dtype: int64"
   ]
  },
  {
   "cell_type": "markdown",
   "id": "c47915ba",
   "metadata": {},
   "source": [
    "nombre_infected       799\n",
    "nombre_sain          2144\n",
    "nombre_exposed        446\n",
    "nombre_recovered    16611\n",
    "Name: 689, dtype: int64"
   ]
  },
  {
   "cell_type": "markdown",
   "id": "a37313f2",
   "metadata": {},
   "source": [
    "nombre_infected       783\n",
    "nombre_sain          2128\n",
    "nombre_exposed        448\n",
    "nombre_recovered    16641\n",
    "Name: 690, dtype: int64"
   ]
  },
  {
   "cell_type": "markdown",
   "id": "1b59e77f",
   "metadata": {},
   "source": [
    "nombre_infected       780\n",
    "nombre_sain          2137\n",
    "nombre_exposed        430\n",
    "nombre_recovered    16653\n",
    "Name: 691, dtype: int64"
   ]
  },
  {
   "cell_type": "markdown",
   "id": "2d8a0957",
   "metadata": {},
   "source": [
    "nombre_infected       778\n",
    "nombre_sain          2133\n",
    "nombre_exposed        436\n",
    "nombre_recovered    16653\n",
    "Name: 692, dtype: int64"
   ]
  },
  {
   "cell_type": "markdown",
   "id": "fe01a123",
   "metadata": {},
   "source": [
    "nombre_infected       784\n",
    "nombre_sain          2140\n",
    "nombre_exposed        429\n",
    "nombre_recovered    16647\n",
    "Name: 693, dtype: int64"
   ]
  },
  {
   "cell_type": "markdown",
   "id": "1f18cb43",
   "metadata": {},
   "source": [
    "nombre_infected       792\n",
    "nombre_sain          2160\n",
    "nombre_exposed        413\n",
    "nombre_recovered    16635\n",
    "Name: 694, dtype: int64"
   ]
  },
  {
   "cell_type": "markdown",
   "id": "2de6c052",
   "metadata": {},
   "source": [
    "nombre_infected       785\n",
    "nombre_sain          2167\n",
    "nombre_exposed        399\n",
    "nombre_recovered    16649\n",
    "Name: 695, dtype: int64"
   ]
  },
  {
   "cell_type": "markdown",
   "id": "4d35e6d2",
   "metadata": {},
   "source": [
    "nombre_infected       763\n",
    "nombre_sain          2161\n",
    "nombre_exposed        421\n",
    "nombre_recovered    16655\n",
    "Name: 696, dtype: int64"
   ]
  },
  {
   "cell_type": "markdown",
   "id": "2d3d8f2e",
   "metadata": {},
   "source": [
    "nombre_infected       753\n",
    "nombre_sain          2153\n",
    "nombre_exposed        431\n",
    "nombre_recovered    16663\n",
    "Name: 697, dtype: int64"
   ]
  },
  {
   "cell_type": "markdown",
   "id": "68dc03cd",
   "metadata": {},
   "source": [
    "nombre_infected       755\n",
    "nombre_sain          2136\n",
    "nombre_exposed        440\n",
    "nombre_recovered    16669\n",
    "Name: 698, dtype: int64"
   ]
  },
  {
   "cell_type": "markdown",
   "id": "a4a8fb41",
   "metadata": {},
   "source": [
    "nombre_infected       753\n",
    "nombre_sain          2118\n",
    "nombre_exposed        431\n",
    "nombre_recovered    16698\n",
    "Name: 699, dtype: int64"
   ]
  },
  {
   "cell_type": "markdown",
   "id": "6b1d1fcb",
   "metadata": {},
   "source": [
    "nombre_infected       750\n",
    "nombre_sain          2129\n",
    "nombre_exposed        415\n",
    "nombre_recovered    16706\n",
    "Name: 700, dtype: int64"
   ]
  },
  {
   "cell_type": "markdown",
   "id": "da232416",
   "metadata": {},
   "source": [
    "nombre_infected       745\n",
    "nombre_sain          2118\n",
    "nombre_exposed        422\n",
    "nombre_recovered    16715\n",
    "Name: 701, dtype: int64"
   ]
  },
  {
   "cell_type": "markdown",
   "id": "25d15812",
   "metadata": {},
   "source": [
    "nombre_infected       733\n",
    "nombre_sain          2125\n",
    "nombre_exposed        437\n",
    "nombre_recovered    16705\n",
    "Name: 702, dtype: int64"
   ]
  },
  {
   "cell_type": "markdown",
   "id": "0a26723e",
   "metadata": {},
   "source": [
    "nombre_infected       727\n",
    "nombre_sain          2125\n",
    "nombre_exposed        436\n",
    "nombre_recovered    16712\n",
    "Name: 703, dtype: int64"
   ]
  },
  {
   "cell_type": "markdown",
   "id": "e490c454",
   "metadata": {},
   "source": [
    "nombre_infected       713\n",
    "nombre_sain          2149\n",
    "nombre_exposed        436\n",
    "nombre_recovered    16702\n",
    "Name: 704, dtype: int64"
   ]
  },
  {
   "cell_type": "markdown",
   "id": "5ff8ba22",
   "metadata": {},
   "source": [
    "nombre_infected       734\n",
    "nombre_sain          2165\n",
    "nombre_exposed        415\n",
    "nombre_recovered    16686\n",
    "Name: 705, dtype: int64"
   ]
  },
  {
   "cell_type": "markdown",
   "id": "0ce4aad5",
   "metadata": {},
   "source": [
    "nombre_infected       743\n",
    "nombre_sain          2167\n",
    "nombre_exposed        408\n",
    "nombre_recovered    16682\n",
    "Name: 706, dtype: int64"
   ]
  },
  {
   "cell_type": "markdown",
   "id": "ec37aaf1",
   "metadata": {},
   "source": [
    "nombre_infected       736\n",
    "nombre_sain          2176\n",
    "nombre_exposed        414\n",
    "nombre_recovered    16674\n",
    "Name: 707, dtype: int64"
   ]
  },
  {
   "cell_type": "markdown",
   "id": "67393363",
   "metadata": {},
   "source": [
    "nombre_infected       733\n",
    "nombre_sain          2196\n",
    "nombre_exposed        401\n",
    "nombre_recovered    16670\n",
    "Name: 708, dtype: int64"
   ]
  },
  {
   "cell_type": "markdown",
   "id": "650964fa",
   "metadata": {},
   "source": [
    "nombre_infected       714\n",
    "nombre_sain          2192\n",
    "nombre_exposed        402\n",
    "nombre_recovered    16692\n",
    "Name: 709, dtype: int64"
   ]
  },
  {
   "cell_type": "markdown",
   "id": "8c91c77f",
   "metadata": {},
   "source": [
    "nombre_infected       691\n",
    "nombre_sain          2212\n",
    "nombre_exposed        405\n",
    "nombre_recovered    16692\n",
    "Name: 710, dtype: int64"
   ]
  },
  {
   "cell_type": "markdown",
   "id": "b7ee0f62",
   "metadata": {},
   "source": [
    "nombre_infected       689\n",
    "nombre_sain          2225\n",
    "nombre_exposed        393\n",
    "nombre_recovered    16693\n",
    "Name: 711, dtype: int64"
   ]
  },
  {
   "cell_type": "markdown",
   "id": "80d51bc7",
   "metadata": {},
   "source": [
    "nombre_infected       668\n",
    "nombre_sain          2238\n",
    "nombre_exposed        395\n",
    "nombre_recovered    16699\n",
    "Name: 712, dtype: int64"
   ]
  },
  {
   "cell_type": "markdown",
   "id": "a6883525",
   "metadata": {},
   "source": [
    "nombre_infected       681\n",
    "nombre_sain          2255\n",
    "nombre_exposed        377\n",
    "nombre_recovered    16687\n",
    "Name: 713, dtype: int64"
   ]
  },
  {
   "cell_type": "markdown",
   "id": "f22b204b",
   "metadata": {},
   "source": [
    "nombre_infected       662\n",
    "nombre_sain          2274\n",
    "nombre_exposed        372\n",
    "nombre_recovered    16692\n",
    "Name: 714, dtype: int64"
   ]
  },
  {
   "cell_type": "markdown",
   "id": "11012ebb",
   "metadata": {},
   "source": [
    "nombre_infected       659\n",
    "nombre_sain          2287\n",
    "nombre_exposed        362\n",
    "nombre_recovered    16692\n",
    "Name: 715, dtype: int64"
   ]
  },
  {
   "cell_type": "markdown",
   "id": "a21f7888",
   "metadata": {},
   "source": [
    "nombre_infected       664\n",
    "nombre_sain          2292\n",
    "nombre_exposed        352\n",
    "nombre_recovered    16692\n",
    "Name: 716, dtype: int64"
   ]
  },
  {
   "cell_type": "markdown",
   "id": "4954f16b",
   "metadata": {},
   "source": [
    "nombre_infected       641\n",
    "nombre_sain          2315\n",
    "nombre_exposed        367\n",
    "nombre_recovered    16677\n",
    "Name: 717, dtype: int64"
   ]
  },
  {
   "cell_type": "markdown",
   "id": "7c6c3910",
   "metadata": {},
   "source": [
    "nombre_infected       633\n",
    "nombre_sain          2339\n",
    "nombre_exposed        367\n",
    "nombre_recovered    16661\n",
    "Name: 718, dtype: int64"
   ]
  },
  {
   "cell_type": "markdown",
   "id": "876e358c",
   "metadata": {},
   "source": [
    "nombre_infected       627\n",
    "nombre_sain          2356\n",
    "nombre_exposed        378\n",
    "nombre_recovered    16639\n",
    "Name: 719, dtype: int64"
   ]
  },
  {
   "cell_type": "markdown",
   "id": "664ef1c6",
   "metadata": {},
   "source": [
    "nombre_infected       624\n",
    "nombre_sain          2369\n",
    "nombre_exposed        378\n",
    "nombre_recovered    16629\n",
    "Name: 720, dtype: int64"
   ]
  },
  {
   "cell_type": "markdown",
   "id": "e0c82ca4",
   "metadata": {},
   "source": [
    "nombre_infected       640\n",
    "nombre_sain          2366\n",
    "nombre_exposed        373\n",
    "nombre_recovered    16621\n",
    "Name: 721, dtype: int64"
   ]
  },
  {
   "cell_type": "markdown",
   "id": "53197965",
   "metadata": {},
   "source": [
    "nombre_infected       643\n",
    "nombre_sain          2366\n",
    "nombre_exposed        380\n",
    "nombre_recovered    16611\n",
    "Name: 722, dtype: int64"
   ]
  },
  {
   "cell_type": "markdown",
   "id": "86bc16dc",
   "metadata": {},
   "source": [
    "nombre_infected       660\n",
    "nombre_sain          2376\n",
    "nombre_exposed        380\n",
    "nombre_recovered    16584\n",
    "Name: 723, dtype: int64"
   ]
  },
  {
   "cell_type": "markdown",
   "id": "b3f59984",
   "metadata": {},
   "source": [
    "nombre_infected       662\n",
    "nombre_sain          2369\n",
    "nombre_exposed        379\n",
    "nombre_recovered    16590\n",
    "Name: 724, dtype: int64"
   ]
  },
  {
   "cell_type": "markdown",
   "id": "3151beca",
   "metadata": {},
   "source": [
    "nombre_infected       657\n",
    "nombre_sain          2393\n",
    "nombre_exposed        387\n",
    "nombre_recovered    16563\n",
    "Name: 725, dtype: int64"
   ]
  },
  {
   "cell_type": "markdown",
   "id": "4c1d6b6b",
   "metadata": {},
   "source": [
    "nombre_infected       655\n",
    "nombre_sain          2414\n",
    "nombre_exposed        391\n",
    "nombre_recovered    16540\n",
    "Name: 726, dtype: int64"
   ]
  },
  {
   "cell_type": "markdown",
   "id": "c106deae",
   "metadata": {},
   "source": [
    "nombre_infected       638\n",
    "nombre_sain          2437\n",
    "nombre_exposed        390\n",
    "nombre_recovered    16535\n",
    "Name: 727, dtype: int64"
   ]
  },
  {
   "cell_type": "markdown",
   "id": "2958a808",
   "metadata": {},
   "source": [
    "nombre_infected       632\n",
    "nombre_sain          2443\n",
    "nombre_exposed        390\n",
    "nombre_recovered    16535\n",
    "Name: 728, dtype: int64"
   ]
  },
  {
   "cell_type": "markdown",
   "id": "fee62c56",
   "metadata": {},
   "source": [
    "nombre_infected       629\n",
    "nombre_sain          2433\n",
    "nombre_exposed        400\n",
    "nombre_recovered    16538\n",
    "Name: 729, dtype: int64"
   ]
  },
  {
   "cell_type": "markdown",
   "id": "0a0f800f",
   "metadata": {},
   "source": [
    "nombre_infected       645\n",
    "nombre_sain          2438\n",
    "nombre_exposed        404\n",
    "nombre_recovered    16513\n",
    "Name: 730, dtype: int64"
   ]
  }
 ],
 "metadata": {},
 "nbformat": 4,
 "nbformat_minor": 5
}
