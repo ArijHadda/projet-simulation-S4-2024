{
 "cells": [
  {
   "cell_type": "markdown",
   "id": "2e006997",
   "metadata": {},
   "source": [
    "nombre_infected        20\n",
    "nombre_sain         19980\n",
    "nombre_exposed          0\n",
    "nombre_recovered        0\n",
    "Name: 0, dtype: int64"
   ]
  },
  {
   "cell_type": "markdown",
   "id": "9970b917",
   "metadata": {},
   "source": [
    "nombre_infected        20\n",
    "nombre_sain         19962\n",
    "nombre_exposed         18\n",
    "nombre_recovered        0\n",
    "Name: 1, dtype: int64"
   ]
  },
  {
   "cell_type": "markdown",
   "id": "d11b2af5",
   "metadata": {},
   "source": [
    "nombre_infected        20\n",
    "nombre_sain         19935\n",
    "nombre_exposed         45\n",
    "nombre_recovered        0\n",
    "Name: 2, dtype: int64"
   ]
  },
  {
   "cell_type": "markdown",
   "id": "ef86129e",
   "metadata": {},
   "source": [
    "nombre_infected        23\n",
    "nombre_sain         19903\n",
    "nombre_exposed         74\n",
    "nombre_recovered        0\n",
    "Name: 3, dtype: int64"
   ]
  },
  {
   "cell_type": "markdown",
   "id": "bcda6cbe",
   "metadata": {},
   "source": [
    "nombre_infected        32\n",
    "nombre_sain         19858\n",
    "nombre_exposed        110\n",
    "nombre_recovered        0\n",
    "Name: 4, dtype: int64"
   ]
  },
  {
   "cell_type": "markdown",
   "id": "d934be38",
   "metadata": {},
   "source": [
    "nombre_infected        47\n",
    "nombre_sain         19816\n",
    "nombre_exposed        137\n",
    "nombre_recovered        0\n",
    "Name: 5, dtype: int64"
   ]
  },
  {
   "cell_type": "markdown",
   "id": "b51a88ac",
   "metadata": {},
   "source": [
    "nombre_infected        76\n",
    "nombre_sain         19734\n",
    "nombre_exposed        190\n",
    "nombre_recovered        0\n",
    "Name: 6, dtype: int64"
   ]
  },
  {
   "cell_type": "markdown",
   "id": "912e6be2",
   "metadata": {},
   "source": [
    "nombre_infected       100\n",
    "nombre_sain         19635\n",
    "nombre_exposed        259\n",
    "nombre_recovered        6\n",
    "Name: 7, dtype: int64"
   ]
  },
  {
   "cell_type": "markdown",
   "id": "7057217d",
   "metadata": {},
   "source": [
    "nombre_infected       138\n",
    "nombre_sain         19485\n",
    "nombre_exposed        361\n",
    "nombre_recovered       16\n",
    "Name: 8, dtype: int64"
   ]
  },
  {
   "cell_type": "markdown",
   "id": "ff7aa5d2",
   "metadata": {},
   "source": [
    "nombre_infected       187\n",
    "nombre_sain         19269\n",
    "nombre_exposed        521\n",
    "nombre_recovered       23\n",
    "Name: 9, dtype: int64"
   ]
  },
  {
   "cell_type": "markdown",
   "id": "f7c661b9",
   "metadata": {},
   "source": [
    "nombre_infected       276\n",
    "nombre_sain         18958\n",
    "nombre_exposed        728\n",
    "nombre_recovered       38\n",
    "Name: 10, dtype: int64"
   ]
  },
  {
   "cell_type": "markdown",
   "id": "de70f17f",
   "metadata": {},
   "source": [
    "nombre_infected       375\n",
    "nombre_sain         18576\n",
    "nombre_exposed        990\n",
    "nombre_recovered       59\n",
    "Name: 11, dtype: int64"
   ]
  },
  {
   "cell_type": "markdown",
   "id": "3d64d15c",
   "metadata": {},
   "source": [
    "nombre_infected       515\n",
    "nombre_sain         18104\n",
    "nombre_exposed       1284\n",
    "nombre_recovered       97\n",
    "Name: 12, dtype: int64"
   ]
  },
  {
   "cell_type": "markdown",
   "id": "fad3b5f5",
   "metadata": {},
   "source": [
    "nombre_infected       713\n",
    "nombre_sain         17445\n",
    "nombre_exposed       1711\n",
    "nombre_recovered      131\n",
    "Name: 13, dtype: int64"
   ]
  },
  {
   "cell_type": "markdown",
   "id": "6dafd8a8",
   "metadata": {},
   "source": [
    "nombre_infected       926\n",
    "nombre_sain         16635\n",
    "nombre_exposed       2246\n",
    "nombre_recovered      193\n",
    "Name: 14, dtype: int64"
   ]
  },
  {
   "cell_type": "markdown",
   "id": "93e9c4e6",
   "metadata": {},
   "source": [
    "nombre_infected      1207\n",
    "nombre_sain         15576\n",
    "nombre_exposed       2911\n",
    "nombre_recovered      306\n",
    "Name: 15, dtype: int64"
   ]
  },
  {
   "cell_type": "markdown",
   "id": "8eb684e0",
   "metadata": {},
   "source": [
    "nombre_infected      1647\n",
    "nombre_sain         14319\n",
    "nombre_exposed       3638\n",
    "nombre_recovered      396\n",
    "Name: 16, dtype: int64"
   ]
  },
  {
   "cell_type": "markdown",
   "id": "a30c51a3",
   "metadata": {},
   "source": [
    "nombre_infected      2170\n",
    "nombre_sain         12816\n",
    "nombre_exposed       4475\n",
    "nombre_recovered      539\n",
    "Name: 17, dtype: int64"
   ]
  },
  {
   "cell_type": "markdown",
   "id": "8d036151",
   "metadata": {},
   "source": [
    "nombre_infected      2782\n",
    "nombre_sain         11164\n",
    "nombre_exposed       5295\n",
    "nombre_recovered      759\n",
    "Name: 18, dtype: int64"
   ]
  },
  {
   "cell_type": "markdown",
   "id": "09e432c8",
   "metadata": {},
   "source": [
    "nombre_infected     3588\n",
    "nombre_sain         9388\n",
    "nombre_exposed      6024\n",
    "nombre_recovered    1000\n",
    "Name: 19, dtype: int64"
   ]
  },
  {
   "cell_type": "markdown",
   "id": "4664df9c",
   "metadata": {},
   "source": [
    "nombre_infected     4442\n",
    "nombre_sain         7583\n",
    "nombre_exposed      6616\n",
    "nombre_recovered    1359\n",
    "Name: 20, dtype: int64"
   ]
  },
  {
   "cell_type": "markdown",
   "id": "82031c14",
   "metadata": {},
   "source": [
    "nombre_infected     5445\n",
    "nombre_sain         5849\n",
    "nombre_exposed      6939\n",
    "nombre_recovered    1767\n",
    "Name: 21, dtype: int64"
   ]
  },
  {
   "cell_type": "markdown",
   "id": "cc21ee91",
   "metadata": {},
   "source": [
    "nombre_infected     6432\n",
    "nombre_sain         4281\n",
    "nombre_exposed      7036\n",
    "nombre_recovered    2251\n",
    "Name: 22, dtype: int64"
   ]
  },
  {
   "cell_type": "markdown",
   "id": "0de586a6",
   "metadata": {},
   "source": [
    "nombre_infected     7256\n",
    "nombre_sain         3120\n",
    "nombre_exposed      6651\n",
    "nombre_recovered    2973\n",
    "Name: 23, dtype: int64"
   ]
  },
  {
   "cell_type": "markdown",
   "id": "2b5c3b3c",
   "metadata": {},
   "source": [
    "nombre_infected     8064\n",
    "nombre_sain         2212\n",
    "nombre_exposed      6007\n",
    "nombre_recovered    3717\n",
    "Name: 24, dtype: int64"
   ]
  },
  {
   "cell_type": "markdown",
   "id": "d710637c",
   "metadata": {},
   "source": [
    "nombre_infected     8707\n",
    "nombre_sain         1520\n",
    "nombre_exposed      5219\n",
    "nombre_recovered    4554\n",
    "Name: 25, dtype: int64"
   ]
  },
  {
   "cell_type": "markdown",
   "id": "5bd5a3a1",
   "metadata": {},
   "source": [
    "nombre_infected     9077\n",
    "nombre_sain         1034\n",
    "nombre_exposed      4402\n",
    "nombre_recovered    5487\n",
    "Name: 26, dtype: int64"
   ]
  },
  {
   "cell_type": "markdown",
   "id": "533c5789",
   "metadata": {},
   "source": [
    "nombre_infected     9179\n",
    "nombre_sain          692\n",
    "nombre_exposed      3610\n",
    "nombre_recovered    6519\n",
    "Name: 27, dtype: int64"
   ]
  },
  {
   "cell_type": "markdown",
   "id": "d3dcd3f5",
   "metadata": {},
   "source": [
    "nombre_infected     9024\n",
    "nombre_sain          489\n",
    "nombre_exposed      2930\n",
    "nombre_recovered    7557\n",
    "Name: 28, dtype: int64"
   ]
  },
  {
   "cell_type": "markdown",
   "id": "16b35062",
   "metadata": {},
   "source": [
    "nombre_infected     8727\n",
    "nombre_sain          337\n",
    "nombre_exposed      2301\n",
    "nombre_recovered    8635\n",
    "Name: 29, dtype: int64"
   ]
  },
  {
   "cell_type": "markdown",
   "id": "1e599299",
   "metadata": {},
   "source": [
    "nombre_infected     8309\n",
    "nombre_sain          230\n",
    "nombre_exposed      1813\n",
    "nombre_recovered    9648\n",
    "Name: 30, dtype: int64"
   ]
  },
  {
   "cell_type": "markdown",
   "id": "500913fc",
   "metadata": {},
   "source": [
    "nombre_infected      7777\n",
    "nombre_sain           168\n",
    "nombre_exposed       1400\n",
    "nombre_recovered    10655\n",
    "Name: 31, dtype: int64"
   ]
  },
  {
   "cell_type": "markdown",
   "id": "b854b58e",
   "metadata": {},
   "source": [
    "nombre_infected      7255\n",
    "nombre_sain           140\n",
    "nombre_exposed       1049\n",
    "nombre_recovered    11556\n",
    "Name: 32, dtype: int64"
   ]
  },
  {
   "cell_type": "markdown",
   "id": "f38aeda7",
   "metadata": {},
   "source": [
    "nombre_infected      6740\n",
    "nombre_sain           118\n",
    "nombre_exposed        769\n",
    "nombre_recovered    12373\n",
    "Name: 33, dtype: int64"
   ]
  },
  {
   "cell_type": "markdown",
   "id": "7efc8655",
   "metadata": {},
   "source": [
    "nombre_infected      6161\n",
    "nombre_sain           108\n",
    "nombre_exposed        584\n",
    "nombre_recovered    13147\n",
    "Name: 34, dtype: int64"
   ]
  },
  {
   "cell_type": "markdown",
   "id": "af8757e0",
   "metadata": {},
   "source": [
    "nombre_infected      5548\n",
    "nombre_sain           107\n",
    "nombre_exposed        447\n",
    "nombre_recovered    13898\n",
    "Name: 35, dtype: int64"
   ]
  },
  {
   "cell_type": "markdown",
   "id": "bae5d2d4",
   "metadata": {},
   "source": [
    "nombre_infected      4995\n",
    "nombre_sain           104\n",
    "nombre_exposed        340\n",
    "nombre_recovered    14561\n",
    "Name: 36, dtype: int64"
   ]
  },
  {
   "cell_type": "markdown",
   "id": "24e7489b",
   "metadata": {},
   "source": [
    "nombre_infected      4475\n",
    "nombre_sain           105\n",
    "nombre_exposed        272\n",
    "nombre_recovered    15148\n",
    "Name: 37, dtype: int64"
   ]
  },
  {
   "cell_type": "markdown",
   "id": "c6ad1c11",
   "metadata": {},
   "source": [
    "nombre_infected      3963\n",
    "nombre_sain           114\n",
    "nombre_exposed        213\n",
    "nombre_recovered    15710\n",
    "Name: 38, dtype: int64"
   ]
  },
  {
   "cell_type": "markdown",
   "id": "a7a6e7f8",
   "metadata": {},
   "source": [
    "nombre_infected      3521\n",
    "nombre_sain           133\n",
    "nombre_exposed        172\n",
    "nombre_recovered    16174\n",
    "Name: 39, dtype: int64"
   ]
  },
  {
   "cell_type": "markdown",
   "id": "0af91efd",
   "metadata": {},
   "source": [
    "nombre_infected      3145\n",
    "nombre_sain           155\n",
    "nombre_exposed        136\n",
    "nombre_recovered    16564\n",
    "Name: 40, dtype: int64"
   ]
  },
  {
   "cell_type": "markdown",
   "id": "1c2eef5e",
   "metadata": {},
   "source": [
    "nombre_infected      2810\n",
    "nombre_sain           198\n",
    "nombre_exposed        125\n",
    "nombre_recovered    16867\n",
    "Name: 41, dtype: int64"
   ]
  },
  {
   "cell_type": "markdown",
   "id": "41ebdf3a",
   "metadata": {},
   "source": [
    "nombre_infected      2473\n",
    "nombre_sain           224\n",
    "nombre_exposed        122\n",
    "nombre_recovered    17181\n",
    "Name: 42, dtype: int64"
   ]
  },
  {
   "cell_type": "markdown",
   "id": "603bfd06",
   "metadata": {},
   "source": [
    "nombre_infected      2188\n",
    "nombre_sain           243\n",
    "nombre_exposed        115\n",
    "nombre_recovered    17454\n",
    "Name: 43, dtype: int64"
   ]
  },
  {
   "cell_type": "markdown",
   "id": "ca3728a9",
   "metadata": {},
   "source": [
    "nombre_infected      1946\n",
    "nombre_sain           268\n",
    "nombre_exposed        116\n",
    "nombre_recovered    17670\n",
    "Name: 44, dtype: int64"
   ]
  },
  {
   "cell_type": "markdown",
   "id": "e396bf0f",
   "metadata": {},
   "source": [
    "nombre_infected      1696\n",
    "nombre_sain           289\n",
    "nombre_exposed        121\n",
    "nombre_recovered    17894\n",
    "Name: 45, dtype: int64"
   ]
  },
  {
   "cell_type": "markdown",
   "id": "0176d624",
   "metadata": {},
   "source": [
    "nombre_infected      1491\n",
    "nombre_sain           329\n",
    "nombre_exposed        113\n",
    "nombre_recovered    18067\n",
    "Name: 46, dtype: int64"
   ]
  },
  {
   "cell_type": "markdown",
   "id": "b3ed32aa",
   "metadata": {},
   "source": [
    "nombre_infected      1315\n",
    "nombre_sain           357\n",
    "nombre_exposed        110\n",
    "nombre_recovered    18218\n",
    "Name: 47, dtype: int64"
   ]
  },
  {
   "cell_type": "markdown",
   "id": "65f3478b",
   "metadata": {},
   "source": [
    "nombre_infected      1154\n",
    "nombre_sain           392\n",
    "nombre_exposed        114\n",
    "nombre_recovered    18340\n",
    "Name: 48, dtype: int64"
   ]
  },
  {
   "cell_type": "markdown",
   "id": "1d532278",
   "metadata": {},
   "source": [
    "nombre_infected      1032\n",
    "nombre_sain           429\n",
    "nombre_exposed        108\n",
    "nombre_recovered    18431\n",
    "Name: 49, dtype: int64"
   ]
  },
  {
   "cell_type": "markdown",
   "id": "092b00bc",
   "metadata": {},
   "source": [
    "nombre_infected       919\n",
    "nombre_sain           460\n",
    "nombre_exposed        106\n",
    "nombre_recovered    18515\n",
    "Name: 50, dtype: int64"
   ]
  },
  {
   "cell_type": "markdown",
   "id": "e2cb8e08",
   "metadata": {},
   "source": [
    "nombre_infected       801\n",
    "nombre_sain           485\n",
    "nombre_exposed        115\n",
    "nombre_recovered    18599\n",
    "Name: 51, dtype: int64"
   ]
  },
  {
   "cell_type": "markdown",
   "id": "b44243a3",
   "metadata": {},
   "source": [
    "nombre_infected       718\n",
    "nombre_sain           511\n",
    "nombre_exposed        101\n",
    "nombre_recovered    18670\n",
    "Name: 52, dtype: int64"
   ]
  },
  {
   "cell_type": "markdown",
   "id": "83698d11",
   "metadata": {},
   "source": [
    "nombre_infected       654\n",
    "nombre_sain           555\n",
    "nombre_exposed         87\n",
    "nombre_recovered    18704\n",
    "Name: 53, dtype: int64"
   ]
  },
  {
   "cell_type": "markdown",
   "id": "1dc7ab0d",
   "metadata": {},
   "source": [
    "nombre_infected       602\n",
    "nombre_sain           583\n",
    "nombre_exposed         87\n",
    "nombre_recovered    18728\n",
    "Name: 54, dtype: int64"
   ]
  },
  {
   "cell_type": "markdown",
   "id": "9fb0c528",
   "metadata": {},
   "source": [
    "nombre_infected       527\n",
    "nombre_sain           613\n",
    "nombre_exposed         81\n",
    "nombre_recovered    18779\n",
    "Name: 55, dtype: int64"
   ]
  },
  {
   "cell_type": "markdown",
   "id": "0248e2c8",
   "metadata": {},
   "source": [
    "nombre_infected       457\n",
    "nombre_sain           632\n",
    "nombre_exposed         76\n",
    "nombre_recovered    18835\n",
    "Name: 56, dtype: int64"
   ]
  },
  {
   "cell_type": "markdown",
   "id": "e70fc2bb",
   "metadata": {},
   "source": [
    "nombre_infected       388\n",
    "nombre_sain           681\n",
    "nombre_exposed         69\n",
    "nombre_recovered    18862\n",
    "Name: 57, dtype: int64"
   ]
  },
  {
   "cell_type": "markdown",
   "id": "79ffeaa9",
   "metadata": {},
   "source": [
    "nombre_infected       350\n",
    "nombre_sain           716\n",
    "nombre_exposed         68\n",
    "nombre_recovered    18866\n",
    "Name: 58, dtype: int64"
   ]
  },
  {
   "cell_type": "markdown",
   "id": "831c9cc7",
   "metadata": {},
   "source": [
    "nombre_infected       313\n",
    "nombre_sain           764\n",
    "nombre_exposed         69\n",
    "nombre_recovered    18854\n",
    "Name: 59, dtype: int64"
   ]
  },
  {
   "cell_type": "markdown",
   "id": "a38c90f0",
   "metadata": {},
   "source": [
    "nombre_infected       277\n",
    "nombre_sain           803\n",
    "nombre_exposed         63\n",
    "nombre_recovered    18857\n",
    "Name: 60, dtype: int64"
   ]
  },
  {
   "cell_type": "markdown",
   "id": "e7752647",
   "metadata": {},
   "source": [
    "nombre_infected       239\n",
    "nombre_sain           851\n",
    "nombre_exposed         63\n",
    "nombre_recovered    18847\n",
    "Name: 61, dtype: int64"
   ]
  },
  {
   "cell_type": "markdown",
   "id": "3824ba0e",
   "metadata": {},
   "source": [
    "nombre_infected       218\n",
    "nombre_sain           902\n",
    "nombre_exposed         58\n",
    "nombre_recovered    18822\n",
    "Name: 62, dtype: int64"
   ]
  },
  {
   "cell_type": "markdown",
   "id": "dd466cdf",
   "metadata": {},
   "source": [
    "nombre_infected       185\n",
    "nombre_sain           946\n",
    "nombre_exposed         60\n",
    "nombre_recovered    18809\n",
    "Name: 63, dtype: int64"
   ]
  },
  {
   "cell_type": "markdown",
   "id": "8a4a6c0f",
   "metadata": {},
   "source": [
    "nombre_infected       162\n",
    "nombre_sain           999\n",
    "nombre_exposed         52\n",
    "nombre_recovered    18787\n",
    "Name: 64, dtype: int64"
   ]
  },
  {
   "cell_type": "markdown",
   "id": "fd6390e9",
   "metadata": {},
   "source": [
    "nombre_infected       158\n",
    "nombre_sain          1041\n",
    "nombre_exposed         45\n",
    "nombre_recovered    18756\n",
    "Name: 65, dtype: int64"
   ]
  },
  {
   "cell_type": "markdown",
   "id": "d72ef73a",
   "metadata": {},
   "source": [
    "nombre_infected       145\n",
    "nombre_sain          1093\n",
    "nombre_exposed         43\n",
    "nombre_recovered    18719\n",
    "Name: 66, dtype: int64"
   ]
  },
  {
   "cell_type": "markdown",
   "id": "55fafdc0",
   "metadata": {},
   "source": [
    "nombre_infected       140\n",
    "nombre_sain          1153\n",
    "nombre_exposed         34\n",
    "nombre_recovered    18673\n",
    "Name: 67, dtype: int64"
   ]
  },
  {
   "cell_type": "markdown",
   "id": "2f1f6ea7",
   "metadata": {},
   "source": [
    "nombre_infected       144\n",
    "nombre_sain          1204\n",
    "nombre_exposed         30\n",
    "nombre_recovered    18622\n",
    "Name: 68, dtype: int64"
   ]
  },
  {
   "cell_type": "markdown",
   "id": "9e227ff2",
   "metadata": {},
   "source": [
    "nombre_infected       136\n",
    "nombre_sain          1260\n",
    "nombre_exposed         33\n",
    "nombre_recovered    18571\n",
    "Name: 69, dtype: int64"
   ]
  },
  {
   "cell_type": "markdown",
   "id": "98b20b00",
   "metadata": {},
   "source": [
    "nombre_infected       129\n",
    "nombre_sain          1302\n",
    "nombre_exposed         36\n",
    "nombre_recovered    18533\n",
    "Name: 70, dtype: int64"
   ]
  },
  {
   "cell_type": "markdown",
   "id": "5093022e",
   "metadata": {},
   "source": [
    "nombre_infected       123\n",
    "nombre_sain          1355\n",
    "nombre_exposed         38\n",
    "nombre_recovered    18484\n",
    "Name: 71, dtype: int64"
   ]
  },
  {
   "cell_type": "markdown",
   "id": "f1f062e6",
   "metadata": {},
   "source": [
    "nombre_infected       125\n",
    "nombre_sain          1396\n",
    "nombre_exposed         41\n",
    "nombre_recovered    18438\n",
    "Name: 72, dtype: int64"
   ]
  },
  {
   "cell_type": "markdown",
   "id": "08e70823",
   "metadata": {},
   "source": [
    "nombre_infected       118\n",
    "nombre_sain          1449\n",
    "nombre_exposed         40\n",
    "nombre_recovered    18393\n",
    "Name: 73, dtype: int64"
   ]
  },
  {
   "cell_type": "markdown",
   "id": "1ac1a41f",
   "metadata": {},
   "source": [
    "nombre_infected       121\n",
    "nombre_sain          1499\n",
    "nombre_exposed         36\n",
    "nombre_recovered    18344\n",
    "Name: 74, dtype: int64"
   ]
  },
  {
   "cell_type": "markdown",
   "id": "c13c9659",
   "metadata": {},
   "source": [
    "nombre_infected       123\n",
    "nombre_sain          1539\n",
    "nombre_exposed         34\n",
    "nombre_recovered    18304\n",
    "Name: 75, dtype: int64"
   ]
  },
  {
   "cell_type": "markdown",
   "id": "0c95d931",
   "metadata": {},
   "source": [
    "nombre_infected       112\n",
    "nombre_sain          1588\n",
    "nombre_exposed         35\n",
    "nombre_recovered    18265\n",
    "Name: 76, dtype: int64"
   ]
  },
  {
   "cell_type": "markdown",
   "id": "088bcaac",
   "metadata": {},
   "source": [
    "nombre_infected       100\n",
    "nombre_sain          1632\n",
    "nombre_exposed         49\n",
    "nombre_recovered    18219\n",
    "Name: 77, dtype: int64"
   ]
  },
  {
   "cell_type": "markdown",
   "id": "0d768b0a",
   "metadata": {},
   "source": [
    "nombre_infected        96\n",
    "nombre_sain          1672\n",
    "nombre_exposed         48\n",
    "nombre_recovered    18184\n",
    "Name: 78, dtype: int64"
   ]
  },
  {
   "cell_type": "markdown",
   "id": "5c45785e",
   "metadata": {},
   "source": [
    "nombre_infected        91\n",
    "nombre_sain          1706\n",
    "nombre_exposed         45\n",
    "nombre_recovered    18158\n",
    "Name: 79, dtype: int64"
   ]
  },
  {
   "cell_type": "markdown",
   "id": "004dfcc7",
   "metadata": {},
   "source": [
    "nombre_infected        87\n",
    "nombre_sain          1741\n",
    "nombre_exposed         45\n",
    "nombre_recovered    18127\n",
    "Name: 80, dtype: int64"
   ]
  },
  {
   "cell_type": "markdown",
   "id": "0811c45e",
   "metadata": {},
   "source": [
    "nombre_infected        86\n",
    "nombre_sain          1770\n",
    "nombre_exposed         43\n",
    "nombre_recovered    18101\n",
    "Name: 81, dtype: int64"
   ]
  },
  {
   "cell_type": "markdown",
   "id": "c0e54eee",
   "metadata": {},
   "source": [
    "nombre_infected        90\n",
    "nombre_sain          1805\n",
    "nombre_exposed         45\n",
    "nombre_recovered    18060\n",
    "Name: 82, dtype: int64"
   ]
  },
  {
   "cell_type": "markdown",
   "id": "645ca78a",
   "metadata": {},
   "source": [
    "nombre_infected        90\n",
    "nombre_sain          1845\n",
    "nombre_exposed         49\n",
    "nombre_recovered    18016\n",
    "Name: 83, dtype: int64"
   ]
  },
  {
   "cell_type": "markdown",
   "id": "78e3ea81",
   "metadata": {},
   "source": [
    "nombre_infected        91\n",
    "nombre_sain          1884\n",
    "nombre_exposed         52\n",
    "nombre_recovered    17973\n",
    "Name: 84, dtype: int64"
   ]
  },
  {
   "cell_type": "markdown",
   "id": "6107fdc7",
   "metadata": {},
   "source": [
    "nombre_infected        87\n",
    "nombre_sain          1932\n",
    "nombre_exposed         49\n",
    "nombre_recovered    17932\n",
    "Name: 85, dtype: int64"
   ]
  },
  {
   "cell_type": "markdown",
   "id": "e4f326e4",
   "metadata": {},
   "source": [
    "nombre_infected        91\n",
    "nombre_sain          1967\n",
    "nombre_exposed         45\n",
    "nombre_recovered    17897\n",
    "Name: 86, dtype: int64"
   ]
  },
  {
   "cell_type": "markdown",
   "id": "047a8373",
   "metadata": {},
   "source": [
    "nombre_infected        91\n",
    "nombre_sain          2013\n",
    "nombre_exposed         44\n",
    "nombre_recovered    17852\n",
    "Name: 87, dtype: int64"
   ]
  },
  {
   "cell_type": "markdown",
   "id": "b9e197fe",
   "metadata": {},
   "source": [
    "nombre_infected        90\n",
    "nombre_sain          2052\n",
    "nombre_exposed         48\n",
    "nombre_recovered    17810\n",
    "Name: 88, dtype: int64"
   ]
  },
  {
   "cell_type": "markdown",
   "id": "630c3dcf",
   "metadata": {},
   "source": [
    "nombre_infected        88\n",
    "nombre_sain          2090\n",
    "nombre_exposed         49\n",
    "nombre_recovered    17773\n",
    "Name: 89, dtype: int64"
   ]
  },
  {
   "cell_type": "markdown",
   "id": "13f51768",
   "metadata": {},
   "source": [
    "nombre_infected        87\n",
    "nombre_sain          2132\n",
    "nombre_exposed         53\n",
    "nombre_recovered    17728\n",
    "Name: 90, dtype: int64"
   ]
  },
  {
   "cell_type": "markdown",
   "id": "7a11228a",
   "metadata": {},
   "source": [
    "nombre_infected        90\n",
    "nombre_sain          2163\n",
    "nombre_exposed         54\n",
    "nombre_recovered    17693\n",
    "Name: 91, dtype: int64"
   ]
  },
  {
   "cell_type": "markdown",
   "id": "367bb4d6",
   "metadata": {},
   "source": [
    "nombre_infected        91\n",
    "nombre_sain          2225\n",
    "nombre_exposed         52\n",
    "nombre_recovered    17632\n",
    "Name: 92, dtype: int64"
   ]
  },
  {
   "cell_type": "markdown",
   "id": "ef415bb3",
   "metadata": {},
   "source": [
    "nombre_infected        91\n",
    "nombre_sain          2271\n",
    "nombre_exposed         46\n",
    "nombre_recovered    17592\n",
    "Name: 93, dtype: int64"
   ]
  },
  {
   "cell_type": "markdown",
   "id": "cc3c162a",
   "metadata": {},
   "source": [
    "nombre_infected        91\n",
    "nombre_sain          2305\n",
    "nombre_exposed         42\n",
    "nombre_recovered    17562\n",
    "Name: 94, dtype: int64"
   ]
  },
  {
   "cell_type": "markdown",
   "id": "f4283e98",
   "metadata": {},
   "source": [
    "nombre_infected        89\n",
    "nombre_sain          2358\n",
    "nombre_exposed         52\n",
    "nombre_recovered    17501\n",
    "Name: 95, dtype: int64"
   ]
  },
  {
   "cell_type": "markdown",
   "id": "7a3cd0cb",
   "metadata": {},
   "source": [
    "nombre_infected        87\n",
    "nombre_sain          2406\n",
    "nombre_exposed         55\n",
    "nombre_recovered    17452\n",
    "Name: 96, dtype: int64"
   ]
  },
  {
   "cell_type": "markdown",
   "id": "a6102421",
   "metadata": {},
   "source": [
    "nombre_infected        85\n",
    "nombre_sain          2447\n",
    "nombre_exposed         54\n",
    "nombre_recovered    17414\n",
    "Name: 97, dtype: int64"
   ]
  },
  {
   "cell_type": "markdown",
   "id": "85f8aa19",
   "metadata": {},
   "source": [
    "nombre_infected        91\n",
    "nombre_sain          2494\n",
    "nombre_exposed         49\n",
    "nombre_recovered    17366\n",
    "Name: 98, dtype: int64"
   ]
  },
  {
   "cell_type": "markdown",
   "id": "ffa31484",
   "metadata": {},
   "source": [
    "nombre_infected        98\n",
    "nombre_sain          2553\n",
    "nombre_exposed         47\n",
    "nombre_recovered    17302\n",
    "Name: 99, dtype: int64"
   ]
  },
  {
   "cell_type": "markdown",
   "id": "edc36130",
   "metadata": {},
   "source": [
    "nombre_infected       103\n",
    "nombre_sain          2598\n",
    "nombre_exposed         52\n",
    "nombre_recovered    17247\n",
    "Name: 100, dtype: int64"
   ]
  },
  {
   "cell_type": "markdown",
   "id": "09bbc5e6",
   "metadata": {},
   "source": [
    "nombre_infected        96\n",
    "nombre_sain          2638\n",
    "nombre_exposed         61\n",
    "nombre_recovered    17205\n",
    "Name: 101, dtype: int64"
   ]
  },
  {
   "cell_type": "markdown",
   "id": "11a7ad42",
   "metadata": {},
   "source": [
    "nombre_infected        94\n",
    "nombre_sain          2683\n",
    "nombre_exposed         66\n",
    "nombre_recovered    17157\n",
    "Name: 102, dtype: int64"
   ]
  },
  {
   "cell_type": "markdown",
   "id": "60875484",
   "metadata": {},
   "source": [
    "nombre_infected        96\n",
    "nombre_sain          2722\n",
    "nombre_exposed         64\n",
    "nombre_recovered    17118\n",
    "Name: 103, dtype: int64"
   ]
  },
  {
   "cell_type": "markdown",
   "id": "2e01b6f8",
   "metadata": {},
   "source": [
    "nombre_infected        91\n",
    "nombre_sain          2765\n",
    "nombre_exposed         74\n",
    "nombre_recovered    17070\n",
    "Name: 104, dtype: int64"
   ]
  },
  {
   "cell_type": "markdown",
   "id": "898399ee",
   "metadata": {},
   "source": [
    "nombre_infected        97\n",
    "nombre_sain          2800\n",
    "nombre_exposed         78\n",
    "nombre_recovered    17025\n",
    "Name: 105, dtype: int64"
   ]
  },
  {
   "cell_type": "markdown",
   "id": "52dc53c2",
   "metadata": {},
   "source": [
    "nombre_infected       102\n",
    "nombre_sain          2838\n",
    "nombre_exposed         81\n",
    "nombre_recovered    16979\n",
    "Name: 106, dtype: int64"
   ]
  },
  {
   "cell_type": "markdown",
   "id": "dbe9fb0a",
   "metadata": {},
   "source": [
    "nombre_infected       109\n",
    "nombre_sain          2875\n",
    "nombre_exposed         85\n",
    "nombre_recovered    16931\n",
    "Name: 107, dtype: int64"
   ]
  },
  {
   "cell_type": "markdown",
   "id": "d275cc15",
   "metadata": {},
   "source": [
    "nombre_infected       106\n",
    "nombre_sain          2904\n",
    "nombre_exposed        103\n",
    "nombre_recovered    16887\n",
    "Name: 108, dtype: int64"
   ]
  },
  {
   "cell_type": "markdown",
   "id": "f1aae60d",
   "metadata": {},
   "source": [
    "nombre_infected       100\n",
    "nombre_sain          2948\n",
    "nombre_exposed        110\n",
    "nombre_recovered    16842\n",
    "Name: 109, dtype: int64"
   ]
  },
  {
   "cell_type": "markdown",
   "id": "80c4a03b",
   "metadata": {},
   "source": [
    "nombre_infected       130\n",
    "nombre_sain          2985\n",
    "nombre_exposed         94\n",
    "nombre_recovered    16791\n",
    "Name: 110, dtype: int64"
   ]
  },
  {
   "cell_type": "markdown",
   "id": "7925f25a",
   "metadata": {},
   "source": [
    "nombre_infected       136\n",
    "nombre_sain          2999\n",
    "nombre_exposed        104\n",
    "nombre_recovered    16761\n",
    "Name: 111, dtype: int64"
   ]
  },
  {
   "cell_type": "markdown",
   "id": "b48743cc",
   "metadata": {},
   "source": [
    "nombre_infected       137\n",
    "nombre_sain          3019\n",
    "nombre_exposed        112\n",
    "nombre_recovered    16732\n",
    "Name: 112, dtype: int64"
   ]
  },
  {
   "cell_type": "markdown",
   "id": "3ab4a2a0",
   "metadata": {},
   "source": [
    "nombre_infected       147\n",
    "nombre_sain          3042\n",
    "nombre_exposed        120\n",
    "nombre_recovered    16691\n",
    "Name: 113, dtype: int64"
   ]
  },
  {
   "cell_type": "markdown",
   "id": "ab406c2c",
   "metadata": {},
   "source": [
    "nombre_infected       165\n",
    "nombre_sain          3065\n",
    "nombre_exposed        118\n",
    "nombre_recovered    16652\n",
    "Name: 114, dtype: int64"
   ]
  },
  {
   "cell_type": "markdown",
   "id": "cc171070",
   "metadata": {},
   "source": [
    "nombre_infected       164\n",
    "nombre_sain          3090\n",
    "nombre_exposed        121\n",
    "nombre_recovered    16625\n",
    "Name: 115, dtype: int64"
   ]
  },
  {
   "cell_type": "markdown",
   "id": "bde3cabf",
   "metadata": {},
   "source": [
    "nombre_infected       174\n",
    "nombre_sain          3102\n",
    "nombre_exposed        113\n",
    "nombre_recovered    16611\n",
    "Name: 116, dtype: int64"
   ]
  },
  {
   "cell_type": "markdown",
   "id": "9ff3828b",
   "metadata": {},
   "source": [
    "nombre_infected       186\n",
    "nombre_sain          3112\n",
    "nombre_exposed        106\n",
    "nombre_recovered    16596\n",
    "Name: 117, dtype: int64"
   ]
  },
  {
   "cell_type": "markdown",
   "id": "b3459ffa",
   "metadata": {},
   "source": [
    "nombre_infected       189\n",
    "nombre_sain          3127\n",
    "nombre_exposed        112\n",
    "nombre_recovered    16572\n",
    "Name: 118, dtype: int64"
   ]
  },
  {
   "cell_type": "markdown",
   "id": "57e7600e",
   "metadata": {},
   "source": [
    "nombre_infected       196\n",
    "nombre_sain          3136\n",
    "nombre_exposed        125\n",
    "nombre_recovered    16543\n",
    "Name: 119, dtype: int64"
   ]
  },
  {
   "cell_type": "markdown",
   "id": "fb2af7bc",
   "metadata": {},
   "source": [
    "nombre_infected       192\n",
    "nombre_sain          3138\n",
    "nombre_exposed        149\n",
    "nombre_recovered    16521\n",
    "Name: 120, dtype: int64"
   ]
  },
  {
   "cell_type": "markdown",
   "id": "09ea4777",
   "metadata": {},
   "source": [
    "nombre_infected       187\n",
    "nombre_sain          3155\n",
    "nombre_exposed        154\n",
    "nombre_recovered    16504\n",
    "Name: 121, dtype: int64"
   ]
  },
  {
   "cell_type": "markdown",
   "id": "857d55ba",
   "metadata": {},
   "source": [
    "nombre_infected       188\n",
    "nombre_sain          3164\n",
    "nombre_exposed        168\n",
    "nombre_recovered    16480\n",
    "Name: 122, dtype: int64"
   ]
  },
  {
   "cell_type": "markdown",
   "id": "3ae297b9",
   "metadata": {},
   "source": [
    "nombre_infected       202\n",
    "nombre_sain          3177\n",
    "nombre_exposed        176\n",
    "nombre_recovered    16445\n",
    "Name: 123, dtype: int64"
   ]
  },
  {
   "cell_type": "markdown",
   "id": "15564ad1",
   "metadata": {},
   "source": [
    "nombre_infected       228\n",
    "nombre_sain          3177\n",
    "nombre_exposed        170\n",
    "nombre_recovered    16425\n",
    "Name: 124, dtype: int64"
   ]
  },
  {
   "cell_type": "markdown",
   "id": "ddba4f52",
   "metadata": {},
   "source": [
    "nombre_infected       236\n",
    "nombre_sain          3186\n",
    "nombre_exposed        173\n",
    "nombre_recovered    16405\n",
    "Name: 125, dtype: int64"
   ]
  },
  {
   "cell_type": "markdown",
   "id": "b67a53a6",
   "metadata": {},
   "source": [
    "nombre_infected       248\n",
    "nombre_sain          3187\n",
    "nombre_exposed        180\n",
    "nombre_recovered    16385\n",
    "Name: 126, dtype: int64"
   ]
  },
  {
   "cell_type": "markdown",
   "id": "6b0928af",
   "metadata": {},
   "source": [
    "nombre_infected       268\n",
    "nombre_sain          3162\n",
    "nombre_exposed        228\n",
    "nombre_recovered    16342\n",
    "Name: 127, dtype: int64"
   ]
  },
  {
   "cell_type": "markdown",
   "id": "0a327cc6",
   "metadata": {},
   "source": [
    "nombre_infected       274\n",
    "nombre_sain          3150\n",
    "nombre_exposed        254\n",
    "nombre_recovered    16322\n",
    "Name: 128, dtype: int64"
   ]
  },
  {
   "cell_type": "markdown",
   "id": "e81e32c5",
   "metadata": {},
   "source": [
    "nombre_infected       304\n",
    "nombre_sain          3155\n",
    "nombre_exposed        246\n",
    "nombre_recovered    16295\n",
    "Name: 129, dtype: int64"
   ]
  },
  {
   "cell_type": "markdown",
   "id": "c02f8558",
   "metadata": {},
   "source": [
    "nombre_infected       312\n",
    "nombre_sain          3130\n",
    "nombre_exposed        272\n",
    "nombre_recovered    16286\n",
    "Name: 130, dtype: int64"
   ]
  },
  {
   "cell_type": "markdown",
   "id": "27227b41",
   "metadata": {},
   "source": [
    "nombre_infected       337\n",
    "nombre_sain          3113\n",
    "nombre_exposed        295\n",
    "nombre_recovered    16255\n",
    "Name: 131, dtype: int64"
   ]
  },
  {
   "cell_type": "markdown",
   "id": "dee5a937",
   "metadata": {},
   "source": [
    "nombre_infected       355\n",
    "nombre_sain          3106\n",
    "nombre_exposed        316\n",
    "nombre_recovered    16223\n",
    "Name: 132, dtype: int64"
   ]
  },
  {
   "cell_type": "markdown",
   "id": "7ebfa8d3",
   "metadata": {},
   "source": [
    "nombre_infected       387\n",
    "nombre_sain          3090\n",
    "nombre_exposed        320\n",
    "nombre_recovered    16203\n",
    "Name: 133, dtype: int64"
   ]
  },
  {
   "cell_type": "markdown",
   "id": "d83b8905",
   "metadata": {},
   "source": [
    "nombre_infected       425\n",
    "nombre_sain          3096\n",
    "nombre_exposed        314\n",
    "nombre_recovered    16165\n",
    "Name: 134, dtype: int64"
   ]
  },
  {
   "cell_type": "markdown",
   "id": "d2a3edec",
   "metadata": {},
   "source": [
    "nombre_infected       458\n",
    "nombre_sain          3077\n",
    "nombre_exposed        325\n",
    "nombre_recovered    16140\n",
    "Name: 135, dtype: int64"
   ]
  },
  {
   "cell_type": "markdown",
   "id": "9c8e45f3",
   "metadata": {},
   "source": [
    "nombre_infected       478\n",
    "nombre_sain          3064\n",
    "nombre_exposed        339\n",
    "nombre_recovered    16119\n",
    "Name: 136, dtype: int64"
   ]
  },
  {
   "cell_type": "markdown",
   "id": "445049ca",
   "metadata": {},
   "source": [
    "nombre_infected       487\n",
    "nombre_sain          3031\n",
    "nombre_exposed        377\n",
    "nombre_recovered    16105\n",
    "Name: 137, dtype: int64"
   ]
  },
  {
   "cell_type": "markdown",
   "id": "d9a3e383",
   "metadata": {},
   "source": [
    "nombre_infected       504\n",
    "nombre_sain          3012\n",
    "nombre_exposed        392\n",
    "nombre_recovered    16092\n",
    "Name: 138, dtype: int64"
   ]
  },
  {
   "cell_type": "markdown",
   "id": "08b83310",
   "metadata": {},
   "source": [
    "nombre_infected       542\n",
    "nombre_sain          2991\n",
    "nombre_exposed        396\n",
    "nombre_recovered    16071\n",
    "Name: 139, dtype: int64"
   ]
  },
  {
   "cell_type": "markdown",
   "id": "db83218c",
   "metadata": {},
   "source": [
    "nombre_infected       563\n",
    "nombre_sain          2969\n",
    "nombre_exposed        417\n",
    "nombre_recovered    16051\n",
    "Name: 140, dtype: int64"
   ]
  },
  {
   "cell_type": "markdown",
   "id": "21f78557",
   "metadata": {},
   "source": [
    "nombre_infected       580\n",
    "nombre_sain          2950\n",
    "nombre_exposed        435\n",
    "nombre_recovered    16035\n",
    "Name: 141, dtype: int64"
   ]
  },
  {
   "cell_type": "markdown",
   "id": "89ab2408",
   "metadata": {},
   "source": [
    "nombre_infected       622\n",
    "nombre_sain          2936\n",
    "nombre_exposed        441\n",
    "nombre_recovered    16001\n",
    "Name: 142, dtype: int64"
   ]
  },
  {
   "cell_type": "markdown",
   "id": "7695b702",
   "metadata": {},
   "source": [
    "nombre_infected       631\n",
    "nombre_sain          2897\n",
    "nombre_exposed        451\n",
    "nombre_recovered    16021\n",
    "Name: 143, dtype: int64"
   ]
  },
  {
   "cell_type": "markdown",
   "id": "7fcc5f8c",
   "metadata": {},
   "source": [
    "nombre_infected       645\n",
    "nombre_sain          2867\n",
    "nombre_exposed        450\n",
    "nombre_recovered    16038\n",
    "Name: 144, dtype: int64"
   ]
  },
  {
   "cell_type": "markdown",
   "id": "457b02a0",
   "metadata": {},
   "source": [
    "nombre_infected       657\n",
    "nombre_sain          2838\n",
    "nombre_exposed        474\n",
    "nombre_recovered    16031\n",
    "Name: 145, dtype: int64"
   ]
  },
  {
   "cell_type": "markdown",
   "id": "7a328b3a",
   "metadata": {},
   "source": [
    "nombre_infected       676\n",
    "nombre_sain          2785\n",
    "nombre_exposed        517\n",
    "nombre_recovered    16022\n",
    "Name: 146, dtype: int64"
   ]
  },
  {
   "cell_type": "markdown",
   "id": "2a0673af",
   "metadata": {},
   "source": [
    "nombre_infected       710\n",
    "nombre_sain          2752\n",
    "nombre_exposed        511\n",
    "nombre_recovered    16027\n",
    "Name: 147, dtype: int64"
   ]
  },
  {
   "cell_type": "markdown",
   "id": "0b02febb",
   "metadata": {},
   "source": [
    "nombre_infected       734\n",
    "nombre_sain          2699\n",
    "nombre_exposed        526\n",
    "nombre_recovered    16041\n",
    "Name: 148, dtype: int64"
   ]
  },
  {
   "cell_type": "markdown",
   "id": "fd9df1df",
   "metadata": {},
   "source": [
    "nombre_infected       766\n",
    "nombre_sain          2633\n",
    "nombre_exposed        536\n",
    "nombre_recovered    16065\n",
    "Name: 149, dtype: int64"
   ]
  },
  {
   "cell_type": "markdown",
   "id": "464e4b3f",
   "metadata": {},
   "source": [
    "nombre_infected       781\n",
    "nombre_sain          2579\n",
    "nombre_exposed        563\n",
    "nombre_recovered    16077\n",
    "Name: 150, dtype: int64"
   ]
  },
  {
   "cell_type": "markdown",
   "id": "d8e511af",
   "metadata": {},
   "source": [
    "nombre_infected       813\n",
    "nombre_sain          2501\n",
    "nombre_exposed        589\n",
    "nombre_recovered    16097\n",
    "Name: 151, dtype: int64"
   ]
  },
  {
   "cell_type": "markdown",
   "id": "42317be6",
   "metadata": {},
   "source": [
    "nombre_infected       857\n",
    "nombre_sain          2407\n",
    "nombre_exposed        612\n",
    "nombre_recovered    16124\n",
    "Name: 152, dtype: int64"
   ]
  },
  {
   "cell_type": "markdown",
   "id": "40208123",
   "metadata": {},
   "source": [
    "nombre_infected       892\n",
    "nombre_sain          2350\n",
    "nombre_exposed        606\n",
    "nombre_recovered    16152\n",
    "Name: 153, dtype: int64"
   ]
  },
  {
   "cell_type": "markdown",
   "id": "6b983bd6",
   "metadata": {},
   "source": [
    "nombre_infected       936\n",
    "nombre_sain          2302\n",
    "nombre_exposed        587\n",
    "nombre_recovered    16175\n",
    "Name: 154, dtype: int64"
   ]
  },
  {
   "cell_type": "markdown",
   "id": "230f0437",
   "metadata": {},
   "source": [
    "nombre_infected       946\n",
    "nombre_sain          2247\n",
    "nombre_exposed        591\n",
    "nombre_recovered    16216\n",
    "Name: 155, dtype: int64"
   ]
  },
  {
   "cell_type": "markdown",
   "id": "f8c82bd5",
   "metadata": {},
   "source": [
    "nombre_infected       968\n",
    "nombre_sain          2200\n",
    "nombre_exposed        591\n",
    "nombre_recovered    16241\n",
    "Name: 156, dtype: int64"
   ]
  },
  {
   "cell_type": "markdown",
   "id": "ef7ce131",
   "metadata": {},
   "source": [
    "nombre_infected       975\n",
    "nombre_sain          2153\n",
    "nombre_exposed        597\n",
    "nombre_recovered    16275\n",
    "Name: 157, dtype: int64"
   ]
  },
  {
   "cell_type": "markdown",
   "id": "020d27bc",
   "metadata": {},
   "source": [
    "nombre_infected       987\n",
    "nombre_sain          2106\n",
    "nombre_exposed        598\n",
    "nombre_recovered    16309\n",
    "Name: 158, dtype: int64"
   ]
  },
  {
   "cell_type": "markdown",
   "id": "c69b3495",
   "metadata": {},
   "source": [
    "nombre_infected      1009\n",
    "nombre_sain          2044\n",
    "nombre_exposed        600\n",
    "nombre_recovered    16347\n",
    "Name: 159, dtype: int64"
   ]
  },
  {
   "cell_type": "markdown",
   "id": "132e7efe",
   "metadata": {},
   "source": [
    "nombre_infected      1040\n",
    "nombre_sain          2001\n",
    "nombre_exposed        587\n",
    "nombre_recovered    16372\n",
    "Name: 160, dtype: int64"
   ]
  },
  {
   "cell_type": "markdown",
   "id": "4adb3004",
   "metadata": {},
   "source": [
    "nombre_infected      1049\n",
    "nombre_sain          1946\n",
    "nombre_exposed        591\n",
    "nombre_recovered    16414\n",
    "Name: 161, dtype: int64"
   ]
  },
  {
   "cell_type": "markdown",
   "id": "7f137301",
   "metadata": {},
   "source": [
    "nombre_infected      1053\n",
    "nombre_sain          1933\n",
    "nombre_exposed        585\n",
    "nombre_recovered    16429\n",
    "Name: 162, dtype: int64"
   ]
  },
  {
   "cell_type": "markdown",
   "id": "be91b344",
   "metadata": {},
   "source": [
    "nombre_infected      1078\n",
    "nombre_sain          1891\n",
    "nombre_exposed        575\n",
    "nombre_recovered    16456\n",
    "Name: 163, dtype: int64"
   ]
  },
  {
   "cell_type": "markdown",
   "id": "fcb9adcb",
   "metadata": {},
   "source": [
    "nombre_infected      1077\n",
    "nombre_sain          1852\n",
    "nombre_exposed        584\n",
    "nombre_recovered    16487\n",
    "Name: 164, dtype: int64"
   ]
  },
  {
   "cell_type": "markdown",
   "id": "1b4c88eb",
   "metadata": {},
   "source": [
    "nombre_infected      1079\n",
    "nombre_sain          1825\n",
    "nombre_exposed        583\n",
    "nombre_recovered    16513\n",
    "Name: 165, dtype: int64"
   ]
  },
  {
   "cell_type": "markdown",
   "id": "2e613a9f",
   "metadata": {},
   "source": [
    "nombre_infected      1093\n",
    "nombre_sain          1764\n",
    "nombre_exposed        587\n",
    "nombre_recovered    16556\n",
    "Name: 166, dtype: int64"
   ]
  },
  {
   "cell_type": "markdown",
   "id": "4c3ad453",
   "metadata": {},
   "source": [
    "nombre_infected      1088\n",
    "nombre_sain          1725\n",
    "nombre_exposed        578\n",
    "nombre_recovered    16609\n",
    "Name: 167, dtype: int64"
   ]
  },
  {
   "cell_type": "markdown",
   "id": "8a6a9f83",
   "metadata": {},
   "source": [
    "nombre_infected      1107\n",
    "nombre_sain          1703\n",
    "nombre_exposed        562\n",
    "nombre_recovered    16628\n",
    "Name: 168, dtype: int64"
   ]
  },
  {
   "cell_type": "markdown",
   "id": "327bb790",
   "metadata": {},
   "source": [
    "nombre_infected      1119\n",
    "nombre_sain          1662\n",
    "nombre_exposed        551\n",
    "nombre_recovered    16668\n",
    "Name: 169, dtype: int64"
   ]
  },
  {
   "cell_type": "markdown",
   "id": "9814bbb1",
   "metadata": {},
   "source": [
    "nombre_infected      1115\n",
    "nombre_sain          1619\n",
    "nombre_exposed        548\n",
    "nombre_recovered    16718\n",
    "Name: 170, dtype: int64"
   ]
  },
  {
   "cell_type": "markdown",
   "id": "44381384",
   "metadata": {},
   "source": [
    "nombre_infected      1100\n",
    "nombre_sain          1587\n",
    "nombre_exposed        540\n",
    "nombre_recovered    16773\n",
    "Name: 171, dtype: int64"
   ]
  },
  {
   "cell_type": "markdown",
   "id": "f6153e5a",
   "metadata": {},
   "source": [
    "nombre_infected      1110\n",
    "nombre_sain          1551\n",
    "nombre_exposed        526\n",
    "nombre_recovered    16813\n",
    "Name: 172, dtype: int64"
   ]
  },
  {
   "cell_type": "markdown",
   "id": "7ec77dba",
   "metadata": {},
   "source": [
    "nombre_infected      1111\n",
    "nombre_sain          1505\n",
    "nombre_exposed        517\n",
    "nombre_recovered    16867\n",
    "Name: 173, dtype: int64"
   ]
  },
  {
   "cell_type": "markdown",
   "id": "e825f001",
   "metadata": {},
   "source": [
    "nombre_infected      1090\n",
    "nombre_sain          1482\n",
    "nombre_exposed        487\n",
    "nombre_recovered    16941\n",
    "Name: 174, dtype: int64"
   ]
  },
  {
   "cell_type": "markdown",
   "id": "e41d23ab",
   "metadata": {},
   "source": [
    "nombre_infected      1069\n",
    "nombre_sain          1437\n",
    "nombre_exposed        476\n",
    "nombre_recovered    17018\n",
    "Name: 175, dtype: int64"
   ]
  },
  {
   "cell_type": "markdown",
   "id": "9a311489",
   "metadata": {},
   "source": [
    "nombre_infected      1031\n",
    "nombre_sain          1418\n",
    "nombre_exposed        468\n",
    "nombre_recovered    17083\n",
    "Name: 176, dtype: int64"
   ]
  },
  {
   "cell_type": "markdown",
   "id": "d4f8e67e",
   "metadata": {},
   "source": [
    "nombre_infected      1032\n",
    "nombre_sain          1439\n",
    "nombre_exposed        410\n",
    "nombre_recovered    17119\n",
    "Name: 177, dtype: int64"
   ]
  },
  {
   "cell_type": "markdown",
   "id": "bb6020ad",
   "metadata": {},
   "source": [
    "nombre_infected       992\n",
    "nombre_sain          1425\n",
    "nombre_exposed        403\n",
    "nombre_recovered    17180\n",
    "Name: 178, dtype: int64"
   ]
  },
  {
   "cell_type": "markdown",
   "id": "1d8521c8",
   "metadata": {},
   "source": [
    "nombre_infected       961\n",
    "nombre_sain          1413\n",
    "nombre_exposed        397\n",
    "nombre_recovered    17229\n",
    "Name: 179, dtype: int64"
   ]
  },
  {
   "cell_type": "markdown",
   "id": "45e44309",
   "metadata": {},
   "source": [
    "nombre_infected       950\n",
    "nombre_sain          1415\n",
    "nombre_exposed        402\n",
    "nombre_recovered    17233\n",
    "Name: 180, dtype: int64"
   ]
  },
  {
   "cell_type": "markdown",
   "id": "6f95cebe",
   "metadata": {},
   "source": [
    "nombre_infected       918\n",
    "nombre_sain          1416\n",
    "nombre_exposed        394\n",
    "nombre_recovered    17272\n",
    "Name: 181, dtype: int64"
   ]
  },
  {
   "cell_type": "markdown",
   "id": "9389d06d",
   "metadata": {},
   "source": [
    "nombre_infected       887\n",
    "nombre_sain          1415\n",
    "nombre_exposed        390\n",
    "nombre_recovered    17308\n",
    "Name: 182, dtype: int64"
   ]
  },
  {
   "cell_type": "markdown",
   "id": "c8556379",
   "metadata": {},
   "source": [
    "nombre_infected       859\n",
    "nombre_sain          1417\n",
    "nombre_exposed        394\n",
    "nombre_recovered    17330\n",
    "Name: 183, dtype: int64"
   ]
  },
  {
   "cell_type": "markdown",
   "id": "a1cf02b6",
   "metadata": {},
   "source": [
    "nombre_infected       829\n",
    "nombre_sain          1434\n",
    "nombre_exposed        377\n",
    "nombre_recovered    17360\n",
    "Name: 184, dtype: int64"
   ]
  },
  {
   "cell_type": "markdown",
   "id": "baaa736f",
   "metadata": {},
   "source": [
    "nombre_infected       843\n",
    "nombre_sain          1462\n",
    "nombre_exposed        334\n",
    "nombre_recovered    17361\n",
    "Name: 185, dtype: int64"
   ]
  },
  {
   "cell_type": "markdown",
   "id": "1a37dc58",
   "metadata": {},
   "source": [
    "nombre_infected       804\n",
    "nombre_sain          1491\n",
    "nombre_exposed        340\n",
    "nombre_recovered    17365\n",
    "Name: 186, dtype: int64"
   ]
  },
  {
   "cell_type": "markdown",
   "id": "faa31254",
   "metadata": {},
   "source": [
    "nombre_infected       785\n",
    "nombre_sain          1535\n",
    "nombre_exposed        335\n",
    "nombre_recovered    17345\n",
    "Name: 187, dtype: int64"
   ]
  },
  {
   "cell_type": "markdown",
   "id": "01b3b327",
   "metadata": {},
   "source": [
    "nombre_infected       749\n",
    "nombre_sain          1538\n",
    "nombre_exposed        362\n",
    "nombre_recovered    17351\n",
    "Name: 188, dtype: int64"
   ]
  },
  {
   "cell_type": "markdown",
   "id": "801b6aca",
   "metadata": {},
   "source": [
    "nombre_infected       738\n",
    "nombre_sain          1587\n",
    "nombre_exposed        356\n",
    "nombre_recovered    17319\n",
    "Name: 189, dtype: int64"
   ]
  },
  {
   "cell_type": "markdown",
   "id": "138cf998",
   "metadata": {},
   "source": [
    "nombre_infected       752\n",
    "nombre_sain          1619\n",
    "nombre_exposed        326\n",
    "nombre_recovered    17303\n",
    "Name: 190, dtype: int64"
   ]
  },
  {
   "cell_type": "markdown",
   "id": "5fd0674f",
   "metadata": {},
   "source": [
    "nombre_infected       747\n",
    "nombre_sain          1643\n",
    "nombre_exposed        324\n",
    "nombre_recovered    17286\n",
    "Name: 191, dtype: int64"
   ]
  },
  {
   "cell_type": "markdown",
   "id": "ae65286c",
   "metadata": {},
   "source": [
    "nombre_infected       718\n",
    "nombre_sain          1664\n",
    "nombre_exposed        348\n",
    "nombre_recovered    17270\n",
    "Name: 192, dtype: int64"
   ]
  },
  {
   "cell_type": "markdown",
   "id": "68d21589",
   "metadata": {},
   "source": [
    "nombre_infected       704\n",
    "nombre_sain          1728\n",
    "nombre_exposed        326\n",
    "nombre_recovered    17242\n",
    "Name: 193, dtype: int64"
   ]
  },
  {
   "cell_type": "markdown",
   "id": "b70bf325",
   "metadata": {},
   "source": [
    "nombre_infected       718\n",
    "nombre_sain          1767\n",
    "nombre_exposed        319\n",
    "nombre_recovered    17196\n",
    "Name: 194, dtype: int64"
   ]
  },
  {
   "cell_type": "markdown",
   "id": "d09634dc",
   "metadata": {},
   "source": [
    "nombre_infected       686\n",
    "nombre_sain          1821\n",
    "nombre_exposed        323\n",
    "nombre_recovered    17170\n",
    "Name: 195, dtype: int64"
   ]
  },
  {
   "cell_type": "markdown",
   "id": "b39a25ef",
   "metadata": {},
   "source": [
    "nombre_infected       663\n",
    "nombre_sain          1848\n",
    "nombre_exposed        322\n",
    "nombre_recovered    17167\n",
    "Name: 196, dtype: int64"
   ]
  },
  {
   "cell_type": "markdown",
   "id": "c7d6cc95",
   "metadata": {},
   "source": [
    "nombre_infected       638\n",
    "nombre_sain          1875\n",
    "nombre_exposed        331\n",
    "nombre_recovered    17156\n",
    "Name: 197, dtype: int64"
   ]
  },
  {
   "cell_type": "markdown",
   "id": "483f1d9d",
   "metadata": {},
   "source": [
    "nombre_infected       640\n",
    "nombre_sain          1904\n",
    "nombre_exposed        331\n",
    "nombre_recovered    17125\n",
    "Name: 198, dtype: int64"
   ]
  },
  {
   "cell_type": "markdown",
   "id": "6ad48bf9",
   "metadata": {},
   "source": [
    "nombre_infected       626\n",
    "nombre_sain          1934\n",
    "nombre_exposed        335\n",
    "nombre_recovered    17105\n",
    "Name: 199, dtype: int64"
   ]
  },
  {
   "cell_type": "markdown",
   "id": "223623eb",
   "metadata": {},
   "source": [
    "nombre_infected       623\n",
    "nombre_sain          1973\n",
    "nombre_exposed        324\n",
    "nombre_recovered    17080\n",
    "Name: 200, dtype: int64"
   ]
  },
  {
   "cell_type": "markdown",
   "id": "4bb845fd",
   "metadata": {},
   "source": [
    "nombre_infected       597\n",
    "nombre_sain          1976\n",
    "nombre_exposed        346\n",
    "nombre_recovered    17081\n",
    "Name: 201, dtype: int64"
   ]
  },
  {
   "cell_type": "markdown",
   "id": "7e9537de",
   "metadata": {},
   "source": [
    "nombre_infected       587\n",
    "nombre_sain          1998\n",
    "nombre_exposed        350\n",
    "nombre_recovered    17065\n",
    "Name: 202, dtype: int64"
   ]
  },
  {
   "cell_type": "markdown",
   "id": "c27a2d2b",
   "metadata": {},
   "source": [
    "nombre_infected       603\n",
    "nombre_sain          2013\n",
    "nombre_exposed        337\n",
    "nombre_recovered    17047\n",
    "Name: 203, dtype: int64"
   ]
  },
  {
   "cell_type": "markdown",
   "id": "3f00e23d",
   "metadata": {},
   "source": [
    "nombre_infected       586\n",
    "nombre_sain          2035\n",
    "nombre_exposed        339\n",
    "nombre_recovered    17040\n",
    "Name: 204, dtype: int64"
   ]
  },
  {
   "cell_type": "markdown",
   "id": "c54a8e29",
   "metadata": {},
   "source": [
    "nombre_infected       588\n",
    "nombre_sain          2054\n",
    "nombre_exposed        344\n",
    "nombre_recovered    17014\n",
    "Name: 205, dtype: int64"
   ]
  },
  {
   "cell_type": "markdown",
   "id": "9871c214",
   "metadata": {},
   "source": [
    "nombre_infected       597\n",
    "nombre_sain          2041\n",
    "nombre_exposed        348\n",
    "nombre_recovered    17014\n",
    "Name: 206, dtype: int64"
   ]
  },
  {
   "cell_type": "markdown",
   "id": "3dd311f5",
   "metadata": {},
   "source": [
    "nombre_infected       615\n",
    "nombre_sain          2058\n",
    "nombre_exposed        333\n",
    "nombre_recovered    16994\n",
    "Name: 207, dtype: int64"
   ]
  },
  {
   "cell_type": "markdown",
   "id": "5749cdf9",
   "metadata": {},
   "source": [
    "nombre_infected       647\n",
    "nombre_sain          2071\n",
    "nombre_exposed        312\n",
    "nombre_recovered    16970\n",
    "Name: 208, dtype: int64"
   ]
  },
  {
   "cell_type": "markdown",
   "id": "943fceed",
   "metadata": {},
   "source": [
    "nombre_infected       633\n",
    "nombre_sain          2092\n",
    "nombre_exposed        328\n",
    "nombre_recovered    16947\n",
    "Name: 209, dtype: int64"
   ]
  },
  {
   "cell_type": "markdown",
   "id": "34d8d9aa",
   "metadata": {},
   "source": [
    "nombre_infected       609\n",
    "nombre_sain          2092\n",
    "nombre_exposed        345\n",
    "nombre_recovered    16954\n",
    "Name: 210, dtype: int64"
   ]
  },
  {
   "cell_type": "markdown",
   "id": "4ef87a30",
   "metadata": {},
   "source": [
    "nombre_infected       612\n",
    "nombre_sain          2087\n",
    "nombre_exposed        350\n",
    "nombre_recovered    16951\n",
    "Name: 211, dtype: int64"
   ]
  },
  {
   "cell_type": "markdown",
   "id": "5227c6d7",
   "metadata": {},
   "source": [
    "nombre_infected       615\n",
    "nombre_sain          2080\n",
    "nombre_exposed        349\n",
    "nombre_recovered    16956\n",
    "Name: 212, dtype: int64"
   ]
  },
  {
   "cell_type": "markdown",
   "id": "f1be93eb",
   "metadata": {},
   "source": [
    "nombre_infected       614\n",
    "nombre_sain          2071\n",
    "nombre_exposed        350\n",
    "nombre_recovered    16965\n",
    "Name: 213, dtype: int64"
   ]
  },
  {
   "cell_type": "markdown",
   "id": "3b01c06c",
   "metadata": {},
   "source": [
    "nombre_infected       625\n",
    "nombre_sain          2070\n",
    "nombre_exposed        357\n",
    "nombre_recovered    16948\n",
    "Name: 214, dtype: int64"
   ]
  },
  {
   "cell_type": "markdown",
   "id": "d0c63076",
   "metadata": {},
   "source": [
    "nombre_infected       615\n",
    "nombre_sain          2071\n",
    "nombre_exposed        370\n",
    "nombre_recovered    16944\n",
    "Name: 215, dtype: int64"
   ]
  },
  {
   "cell_type": "markdown",
   "id": "cbd02975",
   "metadata": {},
   "source": [
    "nombre_infected       629\n",
    "nombre_sain          2068\n",
    "nombre_exposed        366\n",
    "nombre_recovered    16937\n",
    "Name: 216, dtype: int64"
   ]
  },
  {
   "cell_type": "markdown",
   "id": "862d65ee",
   "metadata": {},
   "source": [
    "nombre_infected       640\n",
    "nombre_sain          2077\n",
    "nombre_exposed        352\n",
    "nombre_recovered    16931\n",
    "Name: 217, dtype: int64"
   ]
  },
  {
   "cell_type": "markdown",
   "id": "4f2af394",
   "metadata": {},
   "source": [
    "nombre_infected       631\n",
    "nombre_sain          2068\n",
    "nombre_exposed        343\n",
    "nombre_recovered    16958\n",
    "Name: 218, dtype: int64"
   ]
  },
  {
   "cell_type": "markdown",
   "id": "bd41adba",
   "metadata": {},
   "source": [
    "nombre_infected       645\n",
    "nombre_sain          2075\n",
    "nombre_exposed        340\n",
    "nombre_recovered    16940\n",
    "Name: 219, dtype: int64"
   ]
  },
  {
   "cell_type": "markdown",
   "id": "bc152ced",
   "metadata": {},
   "source": [
    "nombre_infected       640\n",
    "nombre_sain          2104\n",
    "nombre_exposed        349\n",
    "nombre_recovered    16907\n",
    "Name: 220, dtype: int64"
   ]
  },
  {
   "cell_type": "markdown",
   "id": "30b10cea",
   "metadata": {},
   "source": [
    "nombre_infected       643\n",
    "nombre_sain          2104\n",
    "nombre_exposed        340\n",
    "nombre_recovered    16913\n",
    "Name: 221, dtype: int64"
   ]
  },
  {
   "cell_type": "markdown",
   "id": "feab0f2c",
   "metadata": {},
   "source": [
    "nombre_infected       636\n",
    "nombre_sain          2109\n",
    "nombre_exposed        355\n",
    "nombre_recovered    16900\n",
    "Name: 222, dtype: int64"
   ]
  },
  {
   "cell_type": "markdown",
   "id": "e36df8a0",
   "metadata": {},
   "source": [
    "nombre_infected       633\n",
    "nombre_sain          2117\n",
    "nombre_exposed        368\n",
    "nombre_recovered    16882\n",
    "Name: 223, dtype: int64"
   ]
  },
  {
   "cell_type": "markdown",
   "id": "bf109cf3",
   "metadata": {},
   "source": [
    "nombre_infected       635\n",
    "nombre_sain          2128\n",
    "nombre_exposed        349\n",
    "nombre_recovered    16888\n",
    "Name: 224, dtype: int64"
   ]
  },
  {
   "cell_type": "markdown",
   "id": "861a6d20",
   "metadata": {},
   "source": [
    "nombre_infected       626\n",
    "nombre_sain          2131\n",
    "nombre_exposed        361\n",
    "nombre_recovered    16882\n",
    "Name: 225, dtype: int64"
   ]
  },
  {
   "cell_type": "markdown",
   "id": "090fac31",
   "metadata": {},
   "source": [
    "nombre_infected       630\n",
    "nombre_sain          2144\n",
    "nombre_exposed        347\n",
    "nombre_recovered    16879\n",
    "Name: 226, dtype: int64"
   ]
  },
  {
   "cell_type": "markdown",
   "id": "90013d97",
   "metadata": {},
   "source": [
    "nombre_infected       657\n",
    "nombre_sain          2152\n",
    "nombre_exposed        336\n",
    "nombre_recovered    16855\n",
    "Name: 227, dtype: int64"
   ]
  },
  {
   "cell_type": "markdown",
   "id": "5a4037ba",
   "metadata": {},
   "source": [
    "nombre_infected       644\n",
    "nombre_sain          2179\n",
    "nombre_exposed        335\n",
    "nombre_recovered    16842\n",
    "Name: 228, dtype: int64"
   ]
  },
  {
   "cell_type": "markdown",
   "id": "86d58a3d",
   "metadata": {},
   "source": [
    "nombre_infected       633\n",
    "nombre_sain          2164\n",
    "nombre_exposed        347\n",
    "nombre_recovered    16856\n",
    "Name: 229, dtype: int64"
   ]
  },
  {
   "cell_type": "markdown",
   "id": "0dabb775",
   "metadata": {},
   "source": [
    "nombre_infected       631\n",
    "nombre_sain          2154\n",
    "nombre_exposed        370\n",
    "nombre_recovered    16845\n",
    "Name: 230, dtype: int64"
   ]
  },
  {
   "cell_type": "markdown",
   "id": "1ae94660",
   "metadata": {},
   "source": [
    "nombre_infected       630\n",
    "nombre_sain          2175\n",
    "nombre_exposed        357\n",
    "nombre_recovered    16838\n",
    "Name: 231, dtype: int64"
   ]
  },
  {
   "cell_type": "markdown",
   "id": "d4068069",
   "metadata": {},
   "source": [
    "nombre_infected       633\n",
    "nombre_sain          2182\n",
    "nombre_exposed        342\n",
    "nombre_recovered    16843\n",
    "Name: 232, dtype: int64"
   ]
  },
  {
   "cell_type": "markdown",
   "id": "1bfbb13e",
   "metadata": {},
   "source": [
    "nombre_infected       633\n",
    "nombre_sain          2187\n",
    "nombre_exposed        346\n",
    "nombre_recovered    16834\n",
    "Name: 233, dtype: int64"
   ]
  },
  {
   "cell_type": "markdown",
   "id": "59bdb7dc",
   "metadata": {},
   "source": [
    "nombre_infected       643\n",
    "nombre_sain          2176\n",
    "nombre_exposed        370\n",
    "nombre_recovered    16811\n",
    "Name: 234, dtype: int64"
   ]
  },
  {
   "cell_type": "markdown",
   "id": "78c80b9e",
   "metadata": {},
   "source": [
    "nombre_infected       638\n",
    "nombre_sain          2177\n",
    "nombre_exposed        383\n",
    "nombre_recovered    16802\n",
    "Name: 235, dtype: int64"
   ]
  },
  {
   "cell_type": "markdown",
   "id": "78dc892a",
   "metadata": {},
   "source": [
    "nombre_infected       638\n",
    "nombre_sain          2173\n",
    "nombre_exposed        389\n",
    "nombre_recovered    16800\n",
    "Name: 236, dtype: int64"
   ]
  },
  {
   "cell_type": "markdown",
   "id": "1ec31800",
   "metadata": {},
   "source": [
    "nombre_infected       640\n",
    "nombre_sain          2164\n",
    "nombre_exposed        378\n",
    "nombre_recovered    16818\n",
    "Name: 237, dtype: int64"
   ]
  },
  {
   "cell_type": "markdown",
   "id": "a51e2583",
   "metadata": {},
   "source": [
    "nombre_infected       642\n",
    "nombre_sain          2175\n",
    "nombre_exposed        372\n",
    "nombre_recovered    16811\n",
    "Name: 238, dtype: int64"
   ]
  },
  {
   "cell_type": "markdown",
   "id": "57728ccd",
   "metadata": {},
   "source": [
    "nombre_infected       667\n",
    "nombre_sain          2173\n",
    "nombre_exposed        353\n",
    "nombre_recovered    16807\n",
    "Name: 239, dtype: int64"
   ]
  },
  {
   "cell_type": "markdown",
   "id": "33ca7ab1",
   "metadata": {},
   "source": [
    "nombre_infected       678\n",
    "nombre_sain          2153\n",
    "nombre_exposed        350\n",
    "nombre_recovered    16819\n",
    "Name: 240, dtype: int64"
   ]
  },
  {
   "cell_type": "markdown",
   "id": "50df3af1",
   "metadata": {},
   "source": [
    "nombre_infected       664\n",
    "nombre_sain          2153\n",
    "nombre_exposed        356\n",
    "nombre_recovered    16827\n",
    "Name: 241, dtype: int64"
   ]
  },
  {
   "cell_type": "markdown",
   "id": "23d90cd1",
   "metadata": {},
   "source": [
    "nombre_infected       649\n",
    "nombre_sain          2132\n",
    "nombre_exposed        358\n",
    "nombre_recovered    16861\n",
    "Name: 242, dtype: int64"
   ]
  },
  {
   "cell_type": "markdown",
   "id": "383aa402",
   "metadata": {},
   "source": [
    "nombre_infected       643\n",
    "nombre_sain          2128\n",
    "nombre_exposed        361\n",
    "nombre_recovered    16868\n",
    "Name: 243, dtype: int64"
   ]
  },
  {
   "cell_type": "markdown",
   "id": "b8c53f1e",
   "metadata": {},
   "source": [
    "nombre_infected       658\n",
    "nombre_sain          2133\n",
    "nombre_exposed        369\n",
    "nombre_recovered    16840\n",
    "Name: 244, dtype: int64"
   ]
  },
  {
   "cell_type": "markdown",
   "id": "04976779",
   "metadata": {},
   "source": [
    "nombre_infected       672\n",
    "nombre_sain          2122\n",
    "nombre_exposed        374\n",
    "nombre_recovered    16832\n",
    "Name: 245, dtype: int64"
   ]
  },
  {
   "cell_type": "markdown",
   "id": "eb653cdd",
   "metadata": {},
   "source": [
    "nombre_infected       665\n",
    "nombre_sain          2134\n",
    "nombre_exposed        379\n",
    "nombre_recovered    16822\n",
    "Name: 246, dtype: int64"
   ]
  },
  {
   "cell_type": "markdown",
   "id": "64cf6290",
   "metadata": {},
   "source": [
    "nombre_infected       681\n",
    "nombre_sain          2138\n",
    "nombre_exposed        372\n",
    "nombre_recovered    16809\n",
    "Name: 247, dtype: int64"
   ]
  },
  {
   "cell_type": "markdown",
   "id": "f155dc6f",
   "metadata": {},
   "source": [
    "nombre_infected       668\n",
    "nombre_sain          2145\n",
    "nombre_exposed        394\n",
    "nombre_recovered    16793\n",
    "Name: 248, dtype: int64"
   ]
  },
  {
   "cell_type": "markdown",
   "id": "106fac59",
   "metadata": {},
   "source": [
    "nombre_infected       661\n",
    "nombre_sain          2152\n",
    "nombre_exposed        391\n",
    "nombre_recovered    16796\n",
    "Name: 249, dtype: int64"
   ]
  },
  {
   "cell_type": "markdown",
   "id": "4e53d276",
   "metadata": {},
   "source": [
    "nombre_infected       666\n",
    "nombre_sain          2188\n",
    "nombre_exposed        376\n",
    "nombre_recovered    16770\n",
    "Name: 250, dtype: int64"
   ]
  },
  {
   "cell_type": "markdown",
   "id": "afa7718c",
   "metadata": {},
   "source": [
    "nombre_infected       673\n",
    "nombre_sain          2205\n",
    "nombre_exposed        361\n",
    "nombre_recovered    16761\n",
    "Name: 251, dtype: int64"
   ]
  },
  {
   "cell_type": "markdown",
   "id": "1003c476",
   "metadata": {},
   "source": [
    "nombre_infected       673\n",
    "nombre_sain          2186\n",
    "nombre_exposed        411\n",
    "nombre_recovered    16730\n",
    "Name: 252, dtype: int64"
   ]
  },
  {
   "cell_type": "markdown",
   "id": "fd92135b",
   "metadata": {},
   "source": [
    "nombre_infected       673\n",
    "nombre_sain          2212\n",
    "nombre_exposed        409\n",
    "nombre_recovered    16706\n",
    "Name: 253, dtype: int64"
   ]
  },
  {
   "cell_type": "markdown",
   "id": "b615445e",
   "metadata": {},
   "source": [
    "nombre_infected       705\n",
    "nombre_sain          2224\n",
    "nombre_exposed        400\n",
    "nombre_recovered    16671\n",
    "Name: 254, dtype: int64"
   ]
  },
  {
   "cell_type": "markdown",
   "id": "c4d34ce5",
   "metadata": {},
   "source": [
    "nombre_infected       693\n",
    "nombre_sain          2243\n",
    "nombre_exposed        410\n",
    "nombre_recovered    16654\n",
    "Name: 255, dtype: int64"
   ]
  },
  {
   "cell_type": "markdown",
   "id": "4ca8af61",
   "metadata": {},
   "source": [
    "nombre_infected       675\n",
    "nombre_sain          2230\n",
    "nombre_exposed        427\n",
    "nombre_recovered    16668\n",
    "Name: 256, dtype: int64"
   ]
  },
  {
   "cell_type": "markdown",
   "id": "b8ad21d4",
   "metadata": {},
   "source": [
    "nombre_infected       707\n",
    "nombre_sain          2234\n",
    "nombre_exposed        418\n",
    "nombre_recovered    16641\n",
    "Name: 257, dtype: int64"
   ]
  },
  {
   "cell_type": "markdown",
   "id": "f59cbcf9",
   "metadata": {},
   "source": [
    "nombre_infected       714\n",
    "nombre_sain          2259\n",
    "nombre_exposed        413\n",
    "nombre_recovered    16614\n",
    "Name: 258, dtype: int64"
   ]
  },
  {
   "cell_type": "markdown",
   "id": "55ff00e6",
   "metadata": {},
   "source": [
    "nombre_infected       741\n",
    "nombre_sain          2262\n",
    "nombre_exposed        416\n",
    "nombre_recovered    16581\n",
    "Name: 259, dtype: int64"
   ]
  },
  {
   "cell_type": "markdown",
   "id": "c349d3b5",
   "metadata": {},
   "source": [
    "nombre_infected       743\n",
    "nombre_sain          2240\n",
    "nombre_exposed        443\n",
    "nombre_recovered    16574\n",
    "Name: 260, dtype: int64"
   ]
  },
  {
   "cell_type": "markdown",
   "id": "2a5fa198",
   "metadata": {},
   "source": [
    "nombre_infected       741\n",
    "nombre_sain          2243\n",
    "nombre_exposed        461\n",
    "nombre_recovered    16555\n",
    "Name: 261, dtype: int64"
   ]
  },
  {
   "cell_type": "markdown",
   "id": "c526891f",
   "metadata": {},
   "source": [
    "nombre_infected       748\n",
    "nombre_sain          2238\n",
    "nombre_exposed        455\n",
    "nombre_recovered    16559\n",
    "Name: 262, dtype: int64"
   ]
  },
  {
   "cell_type": "markdown",
   "id": "6f7b2284",
   "metadata": {},
   "source": [
    "nombre_infected       779\n",
    "nombre_sain          2255\n",
    "nombre_exposed        415\n",
    "nombre_recovered    16551\n",
    "Name: 263, dtype: int64"
   ]
  },
  {
   "cell_type": "markdown",
   "id": "cde6223a",
   "metadata": {},
   "source": [
    "nombre_infected       788\n",
    "nombre_sain          2232\n",
    "nombre_exposed        426\n",
    "nombre_recovered    16554\n",
    "Name: 264, dtype: int64"
   ]
  },
  {
   "cell_type": "markdown",
   "id": "939365c9",
   "metadata": {},
   "source": [
    "nombre_infected       771\n",
    "nombre_sain          2239\n",
    "nombre_exposed        421\n",
    "nombre_recovered    16569\n",
    "Name: 265, dtype: int64"
   ]
  },
  {
   "cell_type": "markdown",
   "id": "463e8db4",
   "metadata": {},
   "source": [
    "nombre_infected       767\n",
    "nombre_sain          2220\n",
    "nombre_exposed        441\n",
    "nombre_recovered    16572\n",
    "Name: 266, dtype: int64"
   ]
  },
  {
   "cell_type": "markdown",
   "id": "5ce84aad",
   "metadata": {},
   "source": [
    "nombre_infected       769\n",
    "nombre_sain          2229\n",
    "nombre_exposed        436\n",
    "nombre_recovered    16566\n",
    "Name: 267, dtype: int64"
   ]
  },
  {
   "cell_type": "markdown",
   "id": "cce40ff1",
   "metadata": {},
   "source": [
    "nombre_infected       772\n",
    "nombre_sain          2209\n",
    "nombre_exposed        448\n",
    "nombre_recovered    16571\n",
    "Name: 268, dtype: int64"
   ]
  },
  {
   "cell_type": "markdown",
   "id": "a7c12f76",
   "metadata": {},
   "source": [
    "nombre_infected       767\n",
    "nombre_sain          2224\n",
    "nombre_exposed        458\n",
    "nombre_recovered    16551\n",
    "Name: 269, dtype: int64"
   ]
  },
  {
   "cell_type": "markdown",
   "id": "dd3d48e9",
   "metadata": {},
   "source": [
    "nombre_infected       755\n",
    "nombre_sain          2210\n",
    "nombre_exposed        468\n",
    "nombre_recovered    16567\n",
    "Name: 270, dtype: int64"
   ]
  },
  {
   "cell_type": "markdown",
   "id": "4bebe4f2",
   "metadata": {},
   "source": [
    "nombre_infected       780\n",
    "nombre_sain          2201\n",
    "nombre_exposed        458\n",
    "nombre_recovered    16561\n",
    "Name: 271, dtype: int64"
   ]
  },
  {
   "cell_type": "markdown",
   "id": "6be90b86",
   "metadata": {},
   "source": [
    "nombre_infected       789\n",
    "nombre_sain          2162\n",
    "nombre_exposed        468\n",
    "nombre_recovered    16581\n",
    "Name: 272, dtype: int64"
   ]
  },
  {
   "cell_type": "markdown",
   "id": "e6eecac5",
   "metadata": {},
   "source": [
    "nombre_infected       813\n",
    "nombre_sain          2181\n",
    "nombre_exposed        449\n",
    "nombre_recovered    16557\n",
    "Name: 273, dtype: int64"
   ]
  },
  {
   "cell_type": "markdown",
   "id": "ee710395",
   "metadata": {},
   "source": [
    "nombre_infected       844\n",
    "nombre_sain          2162\n",
    "nombre_exposed        463\n",
    "nombre_recovered    16531\n",
    "Name: 274, dtype: int64"
   ]
  },
  {
   "cell_type": "markdown",
   "id": "9a031163",
   "metadata": {},
   "source": [
    "nombre_infected       857\n",
    "nombre_sain          2151\n",
    "nombre_exposed        464\n",
    "nombre_recovered    16528\n",
    "Name: 275, dtype: int64"
   ]
  },
  {
   "cell_type": "markdown",
   "id": "f82518c1",
   "metadata": {},
   "source": [
    "nombre_infected       850\n",
    "nombre_sain          2136\n",
    "nombre_exposed        479\n",
    "nombre_recovered    16535\n",
    "Name: 276, dtype: int64"
   ]
  },
  {
   "cell_type": "markdown",
   "id": "bb324aa5",
   "metadata": {},
   "source": [
    "nombre_infected       844\n",
    "nombre_sain          2112\n",
    "nombre_exposed        481\n",
    "nombre_recovered    16563\n",
    "Name: 277, dtype: int64"
   ]
  },
  {
   "cell_type": "markdown",
   "id": "a0d84260",
   "metadata": {},
   "source": [
    "nombre_infected       855\n",
    "nombre_sain          2101\n",
    "nombre_exposed        471\n",
    "nombre_recovered    16573\n",
    "Name: 278, dtype: int64"
   ]
  },
  {
   "cell_type": "markdown",
   "id": "abe4fe39",
   "metadata": {},
   "source": [
    "nombre_infected       850\n",
    "nombre_sain          2084\n",
    "nombre_exposed        473\n",
    "nombre_recovered    16593\n",
    "Name: 279, dtype: int64"
   ]
  },
  {
   "cell_type": "markdown",
   "id": "1c83b78b",
   "metadata": {},
   "source": [
    "nombre_infected       846\n",
    "nombre_sain          2077\n",
    "nombre_exposed        482\n",
    "nombre_recovered    16595\n",
    "Name: 280, dtype: int64"
   ]
  },
  {
   "cell_type": "markdown",
   "id": "a8d8233f",
   "metadata": {},
   "source": [
    "nombre_infected       867\n",
    "nombre_sain          2102\n",
    "nombre_exposed        465\n",
    "nombre_recovered    16566\n",
    "Name: 281, dtype: int64"
   ]
  },
  {
   "cell_type": "markdown",
   "id": "fa86393b",
   "metadata": {},
   "source": [
    "nombre_infected       887\n",
    "nombre_sain          2098\n",
    "nombre_exposed        464\n",
    "nombre_recovered    16551\n",
    "Name: 282, dtype: int64"
   ]
  },
  {
   "cell_type": "markdown",
   "id": "f2ac54ee",
   "metadata": {},
   "source": [
    "nombre_infected       877\n",
    "nombre_sain          2098\n",
    "nombre_exposed        475\n",
    "nombre_recovered    16550\n",
    "Name: 283, dtype: int64"
   ]
  },
  {
   "cell_type": "markdown",
   "id": "eae59514",
   "metadata": {},
   "source": [
    "nombre_infected       890\n",
    "nombre_sain          2089\n",
    "nombre_exposed        477\n",
    "nombre_recovered    16544\n",
    "Name: 284, dtype: int64"
   ]
  },
  {
   "cell_type": "markdown",
   "id": "3687c04e",
   "metadata": {},
   "source": [
    "nombre_infected       900\n",
    "nombre_sain          2080\n",
    "nombre_exposed        489\n",
    "nombre_recovered    16531\n",
    "Name: 285, dtype: int64"
   ]
  },
  {
   "cell_type": "markdown",
   "id": "5966d8d3",
   "metadata": {},
   "source": [
    "nombre_infected       892\n",
    "nombre_sain          2071\n",
    "nombre_exposed        497\n",
    "nombre_recovered    16540\n",
    "Name: 286, dtype: int64"
   ]
  },
  {
   "cell_type": "markdown",
   "id": "c61e8369",
   "metadata": {},
   "source": [
    "nombre_infected       903\n",
    "nombre_sain          2058\n",
    "nombre_exposed        503\n",
    "nombre_recovered    16536\n",
    "Name: 287, dtype: int64"
   ]
  },
  {
   "cell_type": "markdown",
   "id": "530213e4",
   "metadata": {},
   "source": [
    "nombre_infected       899\n",
    "nombre_sain          2069\n",
    "nombre_exposed        506\n",
    "nombre_recovered    16526\n",
    "Name: 288, dtype: int64"
   ]
  },
  {
   "cell_type": "markdown",
   "id": "53b30518",
   "metadata": {},
   "source": [
    "nombre_infected       901\n",
    "nombre_sain          2054\n",
    "nombre_exposed        510\n",
    "nombre_recovered    16535\n",
    "Name: 289, dtype: int64"
   ]
  },
  {
   "cell_type": "markdown",
   "id": "7354f95b",
   "metadata": {},
   "source": [
    "nombre_infected       908\n",
    "nombre_sain          2051\n",
    "nombre_exposed        515\n",
    "nombre_recovered    16526\n",
    "Name: 290, dtype: int64"
   ]
  },
  {
   "cell_type": "markdown",
   "id": "b1a0d31a",
   "metadata": {},
   "source": [
    "nombre_infected       916\n",
    "nombre_sain          2031\n",
    "nombre_exposed        518\n",
    "nombre_recovered    16535\n",
    "Name: 291, dtype: int64"
   ]
  },
  {
   "cell_type": "markdown",
   "id": "67d0c05b",
   "metadata": {},
   "source": [
    "nombre_infected       935\n",
    "nombre_sain          2063\n",
    "nombre_exposed        497\n",
    "nombre_recovered    16505\n",
    "Name: 292, dtype: int64"
   ]
  },
  {
   "cell_type": "markdown",
   "id": "1935aa89",
   "metadata": {},
   "source": [
    "nombre_infected       932\n",
    "nombre_sain          2055\n",
    "nombre_exposed        503\n",
    "nombre_recovered    16510\n",
    "Name: 293, dtype: int64"
   ]
  },
  {
   "cell_type": "markdown",
   "id": "48e922c6",
   "metadata": {},
   "source": [
    "nombre_infected       922\n",
    "nombre_sain          2040\n",
    "nombre_exposed        499\n",
    "nombre_recovered    16539\n",
    "Name: 294, dtype: int64"
   ]
  },
  {
   "cell_type": "markdown",
   "id": "6be0a18c",
   "metadata": {},
   "source": [
    "nombre_infected       936\n",
    "nombre_sain          2024\n",
    "nombre_exposed        508\n",
    "nombre_recovered    16532\n",
    "Name: 295, dtype: int64"
   ]
  },
  {
   "cell_type": "markdown",
   "id": "1a2f6990",
   "metadata": {},
   "source": [
    "nombre_infected       916\n",
    "nombre_sain          2027\n",
    "nombre_exposed        523\n",
    "nombre_recovered    16534\n",
    "Name: 296, dtype: int64"
   ]
  },
  {
   "cell_type": "markdown",
   "id": "9b74d179",
   "metadata": {},
   "source": [
    "nombre_infected       923\n",
    "nombre_sain          1999\n",
    "nombre_exposed        529\n",
    "nombre_recovered    16549\n",
    "Name: 297, dtype: int64"
   ]
  },
  {
   "cell_type": "markdown",
   "id": "4e42b190",
   "metadata": {},
   "source": [
    "nombre_infected       930\n",
    "nombre_sain          1983\n",
    "nombre_exposed        541\n",
    "nombre_recovered    16546\n",
    "Name: 298, dtype: int64"
   ]
  },
  {
   "cell_type": "markdown",
   "id": "c4a46c7c",
   "metadata": {},
   "source": [
    "nombre_infected       943\n",
    "nombre_sain          1972\n",
    "nombre_exposed        533\n",
    "nombre_recovered    16552\n",
    "Name: 299, dtype: int64"
   ]
  },
  {
   "cell_type": "markdown",
   "id": "e6e6cb69",
   "metadata": {},
   "source": [
    "nombre_infected       945\n",
    "nombre_sain          1956\n",
    "nombre_exposed        520\n",
    "nombre_recovered    16579\n",
    "Name: 300, dtype: int64"
   ]
  },
  {
   "cell_type": "markdown",
   "id": "0396e673",
   "metadata": {},
   "source": [
    "nombre_infected       947\n",
    "nombre_sain          1955\n",
    "nombre_exposed        509\n",
    "nombre_recovered    16589\n",
    "Name: 301, dtype: int64"
   ]
  },
  {
   "cell_type": "markdown",
   "id": "f3ca7b55",
   "metadata": {},
   "source": [
    "nombre_infected       954\n",
    "nombre_sain          1967\n",
    "nombre_exposed        485\n",
    "nombre_recovered    16594\n",
    "Name: 302, dtype: int64"
   ]
  },
  {
   "cell_type": "markdown",
   "id": "1e31133c",
   "metadata": {},
   "source": [
    "nombre_infected       946\n",
    "nombre_sain          1972\n",
    "nombre_exposed        489\n",
    "nombre_recovered    16593\n",
    "Name: 303, dtype: int64"
   ]
  },
  {
   "cell_type": "markdown",
   "id": "411d5823",
   "metadata": {},
   "source": [
    "nombre_infected       943\n",
    "nombre_sain          1988\n",
    "nombre_exposed        481\n",
    "nombre_recovered    16588\n",
    "Name: 304, dtype: int64"
   ]
  },
  {
   "cell_type": "markdown",
   "id": "264397ce",
   "metadata": {},
   "source": [
    "nombre_infected       954\n",
    "nombre_sain          1994\n",
    "nombre_exposed        468\n",
    "nombre_recovered    16584\n",
    "Name: 305, dtype: int64"
   ]
  },
  {
   "cell_type": "markdown",
   "id": "84a61ccf",
   "metadata": {},
   "source": [
    "nombre_infected       932\n",
    "nombre_sain          1994\n",
    "nombre_exposed        490\n",
    "nombre_recovered    16584\n",
    "Name: 306, dtype: int64"
   ]
  },
  {
   "cell_type": "markdown",
   "id": "6a30b48d",
   "metadata": {},
   "source": [
    "nombre_infected       942\n",
    "nombre_sain          1993\n",
    "nombre_exposed        497\n",
    "nombre_recovered    16568\n",
    "Name: 307, dtype: int64"
   ]
  },
  {
   "cell_type": "markdown",
   "id": "56ade0dc",
   "metadata": {},
   "source": [
    "nombre_infected       946\n",
    "nombre_sain          2007\n",
    "nombre_exposed        501\n",
    "nombre_recovered    16546\n",
    "Name: 308, dtype: int64"
   ]
  },
  {
   "cell_type": "markdown",
   "id": "e67705d2",
   "metadata": {},
   "source": [
    "nombre_infected       940\n",
    "nombre_sain          1994\n",
    "nombre_exposed        518\n",
    "nombre_recovered    16548\n",
    "Name: 309, dtype: int64"
   ]
  },
  {
   "cell_type": "markdown",
   "id": "555d4f1b",
   "metadata": {},
   "source": [
    "nombre_infected       953\n",
    "nombre_sain          1996\n",
    "nombre_exposed        531\n",
    "nombre_recovered    16520\n",
    "Name: 310, dtype: int64"
   ]
  },
  {
   "cell_type": "markdown",
   "id": "f2e29843",
   "metadata": {},
   "source": [
    "nombre_infected       968\n",
    "nombre_sain          1987\n",
    "nombre_exposed        522\n",
    "nombre_recovered    16523\n",
    "Name: 311, dtype: int64"
   ]
  },
  {
   "cell_type": "markdown",
   "id": "04d6e759",
   "metadata": {},
   "source": [
    "nombre_infected       973\n",
    "nombre_sain          1995\n",
    "nombre_exposed        521\n",
    "nombre_recovered    16511\n",
    "Name: 312, dtype: int64"
   ]
  },
  {
   "cell_type": "markdown",
   "id": "c8607b22",
   "metadata": {},
   "source": [
    "nombre_infected       958\n",
    "nombre_sain          1999\n",
    "nombre_exposed        524\n",
    "nombre_recovered    16519\n",
    "Name: 313, dtype: int64"
   ]
  },
  {
   "cell_type": "markdown",
   "id": "6c33f13c",
   "metadata": {},
   "source": [
    "nombre_infected       955\n",
    "nombre_sain          1983\n",
    "nombre_exposed        533\n",
    "nombre_recovered    16529\n",
    "Name: 314, dtype: int64"
   ]
  },
  {
   "cell_type": "markdown",
   "id": "63a9d017",
   "metadata": {},
   "source": [
    "nombre_infected       947\n",
    "nombre_sain          1967\n",
    "nombre_exposed        555\n",
    "nombre_recovered    16531\n",
    "Name: 315, dtype: int64"
   ]
  },
  {
   "cell_type": "markdown",
   "id": "a8c1e0ee",
   "metadata": {},
   "source": [
    "nombre_infected       959\n",
    "nombre_sain          1963\n",
    "nombre_exposed        548\n",
    "nombre_recovered    16530\n",
    "Name: 316, dtype: int64"
   ]
  },
  {
   "cell_type": "markdown",
   "id": "b0c929c9",
   "metadata": {},
   "source": [
    "nombre_infected       959\n",
    "nombre_sain          1977\n",
    "nombre_exposed        524\n",
    "nombre_recovered    16540\n",
    "Name: 317, dtype: int64"
   ]
  },
  {
   "cell_type": "markdown",
   "id": "869e621a",
   "metadata": {},
   "source": [
    "nombre_infected       984\n",
    "nombre_sain          1978\n",
    "nombre_exposed        512\n",
    "nombre_recovered    16526\n",
    "Name: 318, dtype: int64"
   ]
  },
  {
   "cell_type": "markdown",
   "id": "7fb4b8c1",
   "metadata": {},
   "source": [
    "nombre_infected       965\n",
    "nombre_sain          1974\n",
    "nombre_exposed        517\n",
    "nombre_recovered    16544\n",
    "Name: 319, dtype: int64"
   ]
  },
  {
   "cell_type": "markdown",
   "id": "64cbf8f2",
   "metadata": {},
   "source": [
    "nombre_infected       957\n",
    "nombre_sain          1942\n",
    "nombre_exposed        541\n",
    "nombre_recovered    16560\n",
    "Name: 320, dtype: int64"
   ]
  },
  {
   "cell_type": "markdown",
   "id": "ecf067a5",
   "metadata": {},
   "source": [
    "nombre_infected       935\n",
    "nombre_sain          1948\n",
    "nombre_exposed        542\n",
    "nombre_recovered    16575\n",
    "Name: 321, dtype: int64"
   ]
  },
  {
   "cell_type": "markdown",
   "id": "c3e7ce25",
   "metadata": {},
   "source": [
    "nombre_infected       932\n",
    "nombre_sain          1952\n",
    "nombre_exposed        527\n",
    "nombre_recovered    16589\n",
    "Name: 322, dtype: int64"
   ]
  },
  {
   "cell_type": "markdown",
   "id": "c37c17ec",
   "metadata": {},
   "source": [
    "nombre_infected       953\n",
    "nombre_sain          1942\n",
    "nombre_exposed        507\n",
    "nombre_recovered    16598\n",
    "Name: 323, dtype: int64"
   ]
  },
  {
   "cell_type": "markdown",
   "id": "f0cc484f",
   "metadata": {},
   "source": [
    "nombre_infected       919\n",
    "nombre_sain          1912\n",
    "nombre_exposed        519\n",
    "nombre_recovered    16650\n",
    "Name: 324, dtype: int64"
   ]
  },
  {
   "cell_type": "markdown",
   "id": "cbedc111",
   "metadata": {},
   "source": [
    "nombre_infected       900\n",
    "nombre_sain          1915\n",
    "nombre_exposed        512\n",
    "nombre_recovered    16673\n",
    "Name: 325, dtype: int64"
   ]
  },
  {
   "cell_type": "markdown",
   "id": "024f0b63",
   "metadata": {},
   "source": [
    "nombre_infected       907\n",
    "nombre_sain          1911\n",
    "nombre_exposed        503\n",
    "nombre_recovered    16679\n",
    "Name: 326, dtype: int64"
   ]
  },
  {
   "cell_type": "markdown",
   "id": "8fefbb28",
   "metadata": {},
   "source": [
    "nombre_infected       911\n",
    "nombre_sain          1896\n",
    "nombre_exposed        503\n",
    "nombre_recovered    16690\n",
    "Name: 327, dtype: int64"
   ]
  },
  {
   "cell_type": "markdown",
   "id": "3432f565",
   "metadata": {},
   "source": [
    "nombre_infected       919\n",
    "nombre_sain          1876\n",
    "nombre_exposed        502\n",
    "nombre_recovered    16703\n",
    "Name: 328, dtype: int64"
   ]
  },
  {
   "cell_type": "markdown",
   "id": "29965b84",
   "metadata": {},
   "source": [
    "nombre_infected       913\n",
    "nombre_sain          1865\n",
    "nombre_exposed        493\n",
    "nombre_recovered    16729\n",
    "Name: 329, dtype: int64"
   ]
  },
  {
   "cell_type": "markdown",
   "id": "2ff1a771",
   "metadata": {},
   "source": [
    "nombre_infected       894\n",
    "nombre_sain          1861\n",
    "nombre_exposed        467\n",
    "nombre_recovered    16778\n",
    "Name: 330, dtype: int64"
   ]
  },
  {
   "cell_type": "markdown",
   "id": "e394ca85",
   "metadata": {},
   "source": [
    "nombre_infected       915\n",
    "nombre_sain          1857\n",
    "nombre_exposed        457\n",
    "nombre_recovered    16771\n",
    "Name: 331, dtype: int64"
   ]
  },
  {
   "cell_type": "markdown",
   "id": "e933969b",
   "metadata": {},
   "source": [
    "nombre_infected       907\n",
    "nombre_sain          1859\n",
    "nombre_exposed        436\n",
    "nombre_recovered    16798\n",
    "Name: 332, dtype: int64"
   ]
  },
  {
   "cell_type": "markdown",
   "id": "5d7b8e3c",
   "metadata": {},
   "source": [
    "nombre_infected       886\n",
    "nombre_sain          1855\n",
    "nombre_exposed        442\n",
    "nombre_recovered    16817\n",
    "Name: 333, dtype: int64"
   ]
  },
  {
   "cell_type": "markdown",
   "id": "7155a217",
   "metadata": {},
   "source": [
    "nombre_infected       871\n",
    "nombre_sain          1838\n",
    "nombre_exposed        425\n",
    "nombre_recovered    16866\n",
    "Name: 334, dtype: int64"
   ]
  },
  {
   "cell_type": "markdown",
   "id": "d79e15f4",
   "metadata": {},
   "source": [
    "nombre_infected       862\n",
    "nombre_sain          1860\n",
    "nombre_exposed        409\n",
    "nombre_recovered    16869\n",
    "Name: 335, dtype: int64"
   ]
  },
  {
   "cell_type": "markdown",
   "id": "35f079d9",
   "metadata": {},
   "source": [
    "nombre_infected       856\n",
    "nombre_sain          1837\n",
    "nombre_exposed        424\n",
    "nombre_recovered    16883\n",
    "Name: 336, dtype: int64"
   ]
  },
  {
   "cell_type": "markdown",
   "id": "ea0e56ba",
   "metadata": {},
   "source": [
    "nombre_infected       828\n",
    "nombre_sain          1811\n",
    "nombre_exposed        437\n",
    "nombre_recovered    16924\n",
    "Name: 337, dtype: int64"
   ]
  },
  {
   "cell_type": "markdown",
   "id": "624dc671",
   "metadata": {},
   "source": [
    "nombre_infected       843\n",
    "nombre_sain          1805\n",
    "nombre_exposed        414\n",
    "nombre_recovered    16938\n",
    "Name: 338, dtype: int64"
   ]
  },
  {
   "cell_type": "markdown",
   "id": "55201a5e",
   "metadata": {},
   "source": [
    "nombre_infected       832\n",
    "nombre_sain          1816\n",
    "nombre_exposed        395\n",
    "nombre_recovered    16957\n",
    "Name: 339, dtype: int64"
   ]
  },
  {
   "cell_type": "markdown",
   "id": "dae01ee8",
   "metadata": {},
   "source": [
    "nombre_infected       833\n",
    "nombre_sain          1817\n",
    "nombre_exposed        386\n",
    "nombre_recovered    16964\n",
    "Name: 340, dtype: int64"
   ]
  },
  {
   "cell_type": "markdown",
   "id": "009f7c07",
   "metadata": {},
   "source": [
    "nombre_infected       844\n",
    "nombre_sain          1827\n",
    "nombre_exposed        397\n",
    "nombre_recovered    16932\n",
    "Name: 341, dtype: int64"
   ]
  },
  {
   "cell_type": "markdown",
   "id": "0d4d0d22",
   "metadata": {},
   "source": [
    "nombre_infected       824\n",
    "nombre_sain          1843\n",
    "nombre_exposed        398\n",
    "nombre_recovered    16935\n",
    "Name: 342, dtype: int64"
   ]
  },
  {
   "cell_type": "markdown",
   "id": "55d0827e",
   "metadata": {},
   "source": [
    "nombre_infected       799\n",
    "nombre_sain          1844\n",
    "nombre_exposed        420\n",
    "nombre_recovered    16937\n",
    "Name: 343, dtype: int64"
   ]
  },
  {
   "cell_type": "markdown",
   "id": "a0f03dd6",
   "metadata": {},
   "source": [
    "nombre_infected       776\n",
    "nombre_sain          1864\n",
    "nombre_exposed        433\n",
    "nombre_recovered    16927\n",
    "Name: 344, dtype: int64"
   ]
  },
  {
   "cell_type": "markdown",
   "id": "f280e9ce",
   "metadata": {},
   "source": [
    "nombre_infected       771\n",
    "nombre_sain          1877\n",
    "nombre_exposed        419\n",
    "nombre_recovered    16933\n",
    "Name: 345, dtype: int64"
   ]
  },
  {
   "cell_type": "markdown",
   "id": "5229e947",
   "metadata": {},
   "source": [
    "nombre_infected       784\n",
    "nombre_sain          1887\n",
    "nombre_exposed        429\n",
    "nombre_recovered    16900\n",
    "Name: 346, dtype: int64"
   ]
  },
  {
   "cell_type": "markdown",
   "id": "cb83c8f8",
   "metadata": {},
   "source": [
    "nombre_infected       776\n",
    "nombre_sain          1905\n",
    "nombre_exposed        438\n",
    "nombre_recovered    16881\n",
    "Name: 347, dtype: int64"
   ]
  },
  {
   "cell_type": "markdown",
   "id": "3573598c",
   "metadata": {},
   "source": [
    "nombre_infected       782\n",
    "nombre_sain          1935\n",
    "nombre_exposed        430\n",
    "nombre_recovered    16853\n",
    "Name: 348, dtype: int64"
   ]
  },
  {
   "cell_type": "markdown",
   "id": "d23c0d93",
   "metadata": {},
   "source": [
    "nombre_infected       784\n",
    "nombre_sain          1925\n",
    "nombre_exposed        436\n",
    "nombre_recovered    16855\n",
    "Name: 349, dtype: int64"
   ]
  },
  {
   "cell_type": "markdown",
   "id": "5de1a15a",
   "metadata": {},
   "source": [
    "nombre_infected       779\n",
    "nombre_sain          1935\n",
    "nombre_exposed        431\n",
    "nombre_recovered    16855\n",
    "Name: 350, dtype: int64"
   ]
  },
  {
   "cell_type": "markdown",
   "id": "2a077f89",
   "metadata": {},
   "source": [
    "nombre_infected       754\n",
    "nombre_sain          1963\n",
    "nombre_exposed        439\n",
    "nombre_recovered    16844\n",
    "Name: 351, dtype: int64"
   ]
  },
  {
   "cell_type": "markdown",
   "id": "4f6f5f8c",
   "metadata": {},
   "source": [
    "nombre_infected       769\n",
    "nombre_sain          1969\n",
    "nombre_exposed        435\n",
    "nombre_recovered    16827\n",
    "Name: 352, dtype: int64"
   ]
  },
  {
   "cell_type": "markdown",
   "id": "fe155afa",
   "metadata": {},
   "source": [
    "nombre_infected       758\n",
    "nombre_sain          1972\n",
    "nombre_exposed        452\n",
    "nombre_recovered    16818\n",
    "Name: 353, dtype: int64"
   ]
  },
  {
   "cell_type": "markdown",
   "id": "07f6dd7c",
   "metadata": {},
   "source": [
    "nombre_infected       747\n",
    "nombre_sain          1995\n",
    "nombre_exposed        449\n",
    "nombre_recovered    16809\n",
    "Name: 354, dtype: int64"
   ]
  },
  {
   "cell_type": "markdown",
   "id": "5c12b2de",
   "metadata": {},
   "source": [
    "nombre_infected       766\n",
    "nombre_sain          2021\n",
    "nombre_exposed        430\n",
    "nombre_recovered    16783\n",
    "Name: 355, dtype: int64"
   ]
  },
  {
   "cell_type": "markdown",
   "id": "7e2c0f55",
   "metadata": {},
   "source": [
    "nombre_infected       784\n",
    "nombre_sain          2018\n",
    "nombre_exposed        438\n",
    "nombre_recovered    16760\n",
    "Name: 356, dtype: int64"
   ]
  },
  {
   "cell_type": "markdown",
   "id": "c0232571",
   "metadata": {},
   "source": [
    "nombre_infected       808\n",
    "nombre_sain          1979\n",
    "nombre_exposed        453\n",
    "nombre_recovered    16760\n",
    "Name: 357, dtype: int64"
   ]
  },
  {
   "cell_type": "markdown",
   "id": "c2e686c2",
   "metadata": {},
   "source": [
    "nombre_infected       822\n",
    "nombre_sain          1984\n",
    "nombre_exposed        444\n",
    "nombre_recovered    16750\n",
    "Name: 358, dtype: int64"
   ]
  },
  {
   "cell_type": "markdown",
   "id": "428d5ad4",
   "metadata": {},
   "source": [
    "nombre_infected       811\n",
    "nombre_sain          1992\n",
    "nombre_exposed        435\n",
    "nombre_recovered    16762\n",
    "Name: 359, dtype: int64"
   ]
  },
  {
   "cell_type": "markdown",
   "id": "cb74a4f4",
   "metadata": {},
   "source": [
    "nombre_infected       826\n",
    "nombre_sain          2011\n",
    "nombre_exposed        405\n",
    "nombre_recovered    16758\n",
    "Name: 360, dtype: int64"
   ]
  },
  {
   "cell_type": "markdown",
   "id": "6e785345",
   "metadata": {},
   "source": [
    "nombre_infected       820\n",
    "nombre_sain          2005\n",
    "nombre_exposed        421\n",
    "nombre_recovered    16754\n",
    "Name: 361, dtype: int64"
   ]
  },
  {
   "cell_type": "markdown",
   "id": "647778ae",
   "metadata": {},
   "source": [
    "nombre_infected       814\n",
    "nombre_sain          2003\n",
    "nombre_exposed        432\n",
    "nombre_recovered    16751\n",
    "Name: 362, dtype: int64"
   ]
  },
  {
   "cell_type": "markdown",
   "id": "019dac7a",
   "metadata": {},
   "source": [
    "nombre_infected       806\n",
    "nombre_sain          2037\n",
    "nombre_exposed        431\n",
    "nombre_recovered    16726\n",
    "Name: 363, dtype: int64"
   ]
  },
  {
   "cell_type": "markdown",
   "id": "0babde40",
   "metadata": {},
   "source": [
    "nombre_infected       820\n",
    "nombre_sain          2058\n",
    "nombre_exposed        416\n",
    "nombre_recovered    16706\n",
    "Name: 364, dtype: int64"
   ]
  },
  {
   "cell_type": "markdown",
   "id": "14923cfa",
   "metadata": {},
   "source": [
    "nombre_infected       829\n",
    "nombre_sain          2041\n",
    "nombre_exposed        452\n",
    "nombre_recovered    16678\n",
    "Name: 365, dtype: int64"
   ]
  },
  {
   "cell_type": "markdown",
   "id": "fc04d53f",
   "metadata": {},
   "source": [
    "nombre_infected       829\n",
    "nombre_sain          2042\n",
    "nombre_exposed        464\n",
    "nombre_recovered    16665\n",
    "Name: 366, dtype: int64"
   ]
  },
  {
   "cell_type": "markdown",
   "id": "70397722",
   "metadata": {},
   "source": [
    "nombre_infected       828\n",
    "nombre_sain          2028\n",
    "nombre_exposed        460\n",
    "nombre_recovered    16684\n",
    "Name: 367, dtype: int64"
   ]
  },
  {
   "cell_type": "markdown",
   "id": "f0ad61e2",
   "metadata": {},
   "source": [
    "nombre_infected       847\n",
    "nombre_sain          2016\n",
    "nombre_exposed        447\n",
    "nombre_recovered    16690\n",
    "Name: 368, dtype: int64"
   ]
  },
  {
   "cell_type": "markdown",
   "id": "de9a250b",
   "metadata": {},
   "source": [
    "nombre_infected       829\n",
    "nombre_sain          2009\n",
    "nombre_exposed        475\n",
    "nombre_recovered    16687\n",
    "Name: 369, dtype: int64"
   ]
  },
  {
   "cell_type": "markdown",
   "id": "6ac505b2",
   "metadata": {},
   "source": [
    "nombre_infected       841\n",
    "nombre_sain          2019\n",
    "nombre_exposed        472\n",
    "nombre_recovered    16668\n",
    "Name: 370, dtype: int64"
   ]
  },
  {
   "cell_type": "markdown",
   "id": "696ace46",
   "metadata": {},
   "source": [
    "nombre_infected       865\n",
    "nombre_sain          2050\n",
    "nombre_exposed        453\n",
    "nombre_recovered    16632\n",
    "Name: 371, dtype: int64"
   ]
  },
  {
   "cell_type": "markdown",
   "id": "ec4121fe",
   "metadata": {},
   "source": [
    "nombre_infected       843\n",
    "nombre_sain          2059\n",
    "nombre_exposed        469\n",
    "nombre_recovered    16629\n",
    "Name: 372, dtype: int64"
   ]
  },
  {
   "cell_type": "markdown",
   "id": "35ce55be",
   "metadata": {},
   "source": [
    "nombre_infected       842\n",
    "nombre_sain          2072\n",
    "nombre_exposed        454\n",
    "nombre_recovered    16632\n",
    "Name: 373, dtype: int64"
   ]
  },
  {
   "cell_type": "markdown",
   "id": "572853fb",
   "metadata": {},
   "source": [
    "nombre_infected       862\n",
    "nombre_sain          2086\n",
    "nombre_exposed        445\n",
    "nombre_recovered    16607\n",
    "Name: 374, dtype: int64"
   ]
  },
  {
   "cell_type": "markdown",
   "id": "85c60dc9",
   "metadata": {},
   "source": [
    "nombre_infected       884\n",
    "nombre_sain          2077\n",
    "nombre_exposed        457\n",
    "nombre_recovered    16582\n",
    "Name: 375, dtype: int64"
   ]
  },
  {
   "cell_type": "markdown",
   "id": "e6241e71",
   "metadata": {},
   "source": [
    "nombre_infected       887\n",
    "nombre_sain          2072\n",
    "nombre_exposed        440\n",
    "nombre_recovered    16601\n",
    "Name: 376, dtype: int64"
   ]
  },
  {
   "cell_type": "markdown",
   "id": "5f621c83",
   "metadata": {},
   "source": [
    "nombre_infected       866\n",
    "nombre_sain          2077\n",
    "nombre_exposed        465\n",
    "nombre_recovered    16592\n",
    "Name: 377, dtype: int64"
   ]
  },
  {
   "cell_type": "markdown",
   "id": "5d78b0fd",
   "metadata": {},
   "source": [
    "nombre_infected       864\n",
    "nombre_sain          2078\n",
    "nombre_exposed        463\n",
    "nombre_recovered    16595\n",
    "Name: 378, dtype: int64"
   ]
  },
  {
   "cell_type": "markdown",
   "id": "2b138d71",
   "metadata": {},
   "source": [
    "nombre_infected       862\n",
    "nombre_sain          2089\n",
    "nombre_exposed        456\n",
    "nombre_recovered    16593\n",
    "Name: 379, dtype: int64"
   ]
  },
  {
   "cell_type": "markdown",
   "id": "fe2fe4bc",
   "metadata": {},
   "source": [
    "nombre_infected       867\n",
    "nombre_sain          2082\n",
    "nombre_exposed        449\n",
    "nombre_recovered    16602\n",
    "Name: 380, dtype: int64"
   ]
  },
  {
   "cell_type": "markdown",
   "id": "1982a3bb",
   "metadata": {},
   "source": [
    "nombre_infected       833\n",
    "nombre_sain          2081\n",
    "nombre_exposed        468\n",
    "nombre_recovered    16618\n",
    "Name: 381, dtype: int64"
   ]
  },
  {
   "cell_type": "markdown",
   "id": "df9f0d50",
   "metadata": {},
   "source": [
    "nombre_infected       848\n",
    "nombre_sain          2071\n",
    "nombre_exposed        464\n",
    "nombre_recovered    16617\n",
    "Name: 382, dtype: int64"
   ]
  },
  {
   "cell_type": "markdown",
   "id": "40fe4b67",
   "metadata": {},
   "source": [
    "nombre_infected       856\n",
    "nombre_sain          2044\n",
    "nombre_exposed        486\n",
    "nombre_recovered    16614\n",
    "Name: 383, dtype: int64"
   ]
  },
  {
   "cell_type": "markdown",
   "id": "b36c39a3",
   "metadata": {},
   "source": [
    "nombre_infected       856\n",
    "nombre_sain          2027\n",
    "nombre_exposed        496\n",
    "nombre_recovered    16621\n",
    "Name: 384, dtype: int64"
   ]
  },
  {
   "cell_type": "markdown",
   "id": "bff4fffc",
   "metadata": {},
   "source": [
    "nombre_infected       847\n",
    "nombre_sain          2034\n",
    "nombre_exposed        477\n",
    "nombre_recovered    16642\n",
    "Name: 385, dtype: int64"
   ]
  },
  {
   "cell_type": "markdown",
   "id": "b9fed3cf",
   "metadata": {},
   "source": [
    "nombre_infected       837\n",
    "nombre_sain          2030\n",
    "nombre_exposed        484\n",
    "nombre_recovered    16649\n",
    "Name: 386, dtype: int64"
   ]
  },
  {
   "cell_type": "markdown",
   "id": "42e53d98",
   "metadata": {},
   "source": [
    "nombre_infected       848\n",
    "nombre_sain          2027\n",
    "nombre_exposed        465\n",
    "nombre_recovered    16660\n",
    "Name: 387, dtype: int64"
   ]
  },
  {
   "cell_type": "markdown",
   "id": "0d77bb65",
   "metadata": {},
   "source": [
    "nombre_infected       843\n",
    "nombre_sain          2046\n",
    "nombre_exposed        461\n",
    "nombre_recovered    16650\n",
    "Name: 388, dtype: int64"
   ]
  },
  {
   "cell_type": "markdown",
   "id": "f851a202",
   "metadata": {},
   "source": [
    "nombre_infected       833\n",
    "nombre_sain          2053\n",
    "nombre_exposed        472\n",
    "nombre_recovered    16642\n",
    "Name: 389, dtype: int64"
   ]
  },
  {
   "cell_type": "markdown",
   "id": "b2567af9",
   "metadata": {},
   "source": [
    "nombre_infected       827\n",
    "nombre_sain          2047\n",
    "nombre_exposed        485\n",
    "nombre_recovered    16641\n",
    "Name: 390, dtype: int64"
   ]
  },
  {
   "cell_type": "markdown",
   "id": "4975e834",
   "metadata": {},
   "source": [
    "nombre_infected       817\n",
    "nombre_sain          2046\n",
    "nombre_exposed        495\n",
    "nombre_recovered    16642\n",
    "Name: 391, dtype: int64"
   ]
  },
  {
   "cell_type": "markdown",
   "id": "00a3abe6",
   "metadata": {},
   "source": [
    "nombre_infected       809\n",
    "nombre_sain          2057\n",
    "nombre_exposed        496\n",
    "nombre_recovered    16638\n",
    "Name: 392, dtype: int64"
   ]
  },
  {
   "cell_type": "markdown",
   "id": "efb37bf8",
   "metadata": {},
   "source": [
    "nombre_infected       823\n",
    "nombre_sain          2064\n",
    "nombre_exposed        467\n",
    "nombre_recovered    16646\n",
    "Name: 393, dtype: int64"
   ]
  },
  {
   "cell_type": "markdown",
   "id": "fe7fac37",
   "metadata": {},
   "source": [
    "nombre_infected       840\n",
    "nombre_sain          2088\n",
    "nombre_exposed        456\n",
    "nombre_recovered    16616\n",
    "Name: 394, dtype: int64"
   ]
  },
  {
   "cell_type": "markdown",
   "id": "aa8d3bb8",
   "metadata": {},
   "source": [
    "nombre_infected       817\n",
    "nombre_sain          2119\n",
    "nombre_exposed        454\n",
    "nombre_recovered    16610\n",
    "Name: 395, dtype: int64"
   ]
  },
  {
   "cell_type": "markdown",
   "id": "51afe80d",
   "metadata": {},
   "source": [
    "nombre_infected       817\n",
    "nombre_sain          2120\n",
    "nombre_exposed        464\n",
    "nombre_recovered    16599\n",
    "Name: 396, dtype: int64"
   ]
  },
  {
   "cell_type": "markdown",
   "id": "9e860886",
   "metadata": {},
   "source": [
    "nombre_infected       825\n",
    "nombre_sain          2135\n",
    "nombre_exposed        475\n",
    "nombre_recovered    16565\n",
    "Name: 397, dtype: int64"
   ]
  },
  {
   "cell_type": "markdown",
   "id": "707f53dd",
   "metadata": {},
   "source": [
    "nombre_infected       831\n",
    "nombre_sain          2161\n",
    "nombre_exposed        452\n",
    "nombre_recovered    16556\n",
    "Name: 398, dtype: int64"
   ]
  },
  {
   "cell_type": "markdown",
   "id": "4273d77c",
   "metadata": {},
   "source": [
    "nombre_infected       828\n",
    "nombre_sain          2176\n",
    "nombre_exposed        452\n",
    "nombre_recovered    16544\n",
    "Name: 399, dtype: int64"
   ]
  },
  {
   "cell_type": "markdown",
   "id": "2ad34c92",
   "metadata": {},
   "source": [
    "nombre_infected       818\n",
    "nombre_sain          2185\n",
    "nombre_exposed        466\n",
    "nombre_recovered    16531\n",
    "Name: 400, dtype: int64"
   ]
  },
  {
   "cell_type": "markdown",
   "id": "81c441ca",
   "metadata": {},
   "source": [
    "nombre_infected       830\n",
    "nombre_sain          2209\n",
    "nombre_exposed        452\n",
    "nombre_recovered    16509\n",
    "Name: 401, dtype: int64"
   ]
  },
  {
   "cell_type": "markdown",
   "id": "3f75ca72",
   "metadata": {},
   "source": [
    "nombre_infected       805\n",
    "nombre_sain          2235\n",
    "nombre_exposed        466\n",
    "nombre_recovered    16494\n",
    "Name: 402, dtype: int64"
   ]
  },
  {
   "cell_type": "markdown",
   "id": "094ce9f7",
   "metadata": {},
   "source": [
    "nombre_infected       813\n",
    "nombre_sain          2247\n",
    "nombre_exposed        468\n",
    "nombre_recovered    16472\n",
    "Name: 403, dtype: int64"
   ]
  },
  {
   "cell_type": "markdown",
   "id": "64ab9163",
   "metadata": {},
   "source": [
    "nombre_infected       806\n",
    "nombre_sain          2241\n",
    "nombre_exposed        478\n",
    "nombre_recovered    16475\n",
    "Name: 404, dtype: int64"
   ]
  },
  {
   "cell_type": "markdown",
   "id": "049d61a2",
   "metadata": {},
   "source": [
    "nombre_infected       816\n",
    "nombre_sain          2257\n",
    "nombre_exposed        474\n",
    "nombre_recovered    16453\n",
    "Name: 405, dtype: int64"
   ]
  },
  {
   "cell_type": "markdown",
   "id": "8553729d",
   "metadata": {},
   "source": [
    "nombre_infected       824\n",
    "nombre_sain          2284\n",
    "nombre_exposed        463\n",
    "nombre_recovered    16429\n",
    "Name: 406, dtype: int64"
   ]
  },
  {
   "cell_type": "markdown",
   "id": "049831e8",
   "metadata": {},
   "source": [
    "nombre_infected       831\n",
    "nombre_sain          2279\n",
    "nombre_exposed        471\n",
    "nombre_recovered    16419\n",
    "Name: 407, dtype: int64"
   ]
  },
  {
   "cell_type": "markdown",
   "id": "af3d22ee",
   "metadata": {},
   "source": [
    "nombre_infected       832\n",
    "nombre_sain          2285\n",
    "nombre_exposed        498\n",
    "nombre_recovered    16385\n",
    "Name: 408, dtype: int64"
   ]
  },
  {
   "cell_type": "markdown",
   "id": "e476ac29",
   "metadata": {},
   "source": [
    "nombre_infected       842\n",
    "nombre_sain          2282\n",
    "nombre_exposed        493\n",
    "nombre_recovered    16383\n",
    "Name: 409, dtype: int64"
   ]
  },
  {
   "cell_type": "markdown",
   "id": "99af8bec",
   "metadata": {},
   "source": [
    "nombre_infected       856\n",
    "nombre_sain          2287\n",
    "nombre_exposed        500\n",
    "nombre_recovered    16357\n",
    "Name: 410, dtype: int64"
   ]
  },
  {
   "cell_type": "markdown",
   "id": "cd9e280b",
   "metadata": {},
   "source": [
    "nombre_infected       854\n",
    "nombre_sain          2312\n",
    "nombre_exposed        497\n",
    "nombre_recovered    16337\n",
    "Name: 411, dtype: int64"
   ]
  },
  {
   "cell_type": "markdown",
   "id": "007c25c4",
   "metadata": {},
   "source": [
    "nombre_infected       860\n",
    "nombre_sain          2317\n",
    "nombre_exposed        512\n",
    "nombre_recovered    16311\n",
    "Name: 412, dtype: int64"
   ]
  },
  {
   "cell_type": "markdown",
   "id": "2b3abbdb",
   "metadata": {},
   "source": [
    "nombre_infected       859\n",
    "nombre_sain          2320\n",
    "nombre_exposed        526\n",
    "nombre_recovered    16295\n",
    "Name: 413, dtype: int64"
   ]
  },
  {
   "cell_type": "markdown",
   "id": "bfdb1d18",
   "metadata": {},
   "source": [
    "nombre_infected       853\n",
    "nombre_sain          2338\n",
    "nombre_exposed        531\n",
    "nombre_recovered    16278\n",
    "Name: 414, dtype: int64"
   ]
  },
  {
   "cell_type": "markdown",
   "id": "f2d6444a",
   "metadata": {},
   "source": [
    "nombre_infected       865\n",
    "nombre_sain          2375\n",
    "nombre_exposed        535\n",
    "nombre_recovered    16225\n",
    "Name: 415, dtype: int64"
   ]
  },
  {
   "cell_type": "markdown",
   "id": "a549c058",
   "metadata": {},
   "source": [
    "nombre_infected       891\n",
    "nombre_sain          2418\n",
    "nombre_exposed        523\n",
    "nombre_recovered    16168\n",
    "Name: 416, dtype: int64"
   ]
  },
  {
   "cell_type": "markdown",
   "id": "66026d62",
   "metadata": {},
   "source": [
    "nombre_infected       901\n",
    "nombre_sain          2406\n",
    "nombre_exposed        532\n",
    "nombre_recovered    16161\n",
    "Name: 417, dtype: int64"
   ]
  },
  {
   "cell_type": "markdown",
   "id": "61bd20cb",
   "metadata": {},
   "source": [
    "nombre_infected       900\n",
    "nombre_sain          2412\n",
    "nombre_exposed        535\n",
    "nombre_recovered    16153\n",
    "Name: 418, dtype: int64"
   ]
  },
  {
   "cell_type": "markdown",
   "id": "22648fe9",
   "metadata": {},
   "source": [
    "nombre_infected       884\n",
    "nombre_sain          2412\n",
    "nombre_exposed        546\n",
    "nombre_recovered    16158\n",
    "Name: 419, dtype: int64"
   ]
  },
  {
   "cell_type": "markdown",
   "id": "f45b82c6",
   "metadata": {},
   "source": [
    "nombre_infected       909\n",
    "nombre_sain          2385\n",
    "nombre_exposed        576\n",
    "nombre_recovered    16130\n",
    "Name: 420, dtype: int64"
   ]
  },
  {
   "cell_type": "markdown",
   "id": "cc902557",
   "metadata": {},
   "source": [
    "nombre_infected       933\n",
    "nombre_sain          2365\n",
    "nombre_exposed        598\n",
    "nombre_recovered    16104\n",
    "Name: 421, dtype: int64"
   ]
  },
  {
   "cell_type": "markdown",
   "id": "bbb31f2d",
   "metadata": {},
   "source": [
    "nombre_infected       964\n",
    "nombre_sain          2372\n",
    "nombre_exposed        582\n",
    "nombre_recovered    16082\n",
    "Name: 422, dtype: int64"
   ]
  },
  {
   "cell_type": "markdown",
   "id": "f671c843",
   "metadata": {},
   "source": [
    "nombre_infected       996\n",
    "nombre_sain          2333\n",
    "nombre_exposed        589\n",
    "nombre_recovered    16082\n",
    "Name: 423, dtype: int64"
   ]
  },
  {
   "cell_type": "markdown",
   "id": "e9b02402",
   "metadata": {},
   "source": [
    "nombre_infected      1028\n",
    "nombre_sain          2316\n",
    "nombre_exposed        601\n",
    "nombre_recovered    16055\n",
    "Name: 424, dtype: int64"
   ]
  },
  {
   "cell_type": "markdown",
   "id": "26af9f1f",
   "metadata": {},
   "source": [
    "nombre_infected      1039\n",
    "nombre_sain          2300\n",
    "nombre_exposed        602\n",
    "nombre_recovered    16059\n",
    "Name: 425, dtype: int64"
   ]
  },
  {
   "cell_type": "markdown",
   "id": "dacc38e4",
   "metadata": {},
   "source": [
    "nombre_infected      1064\n",
    "nombre_sain          2264\n",
    "nombre_exposed        600\n",
    "nombre_recovered    16072\n",
    "Name: 426, dtype: int64"
   ]
  },
  {
   "cell_type": "markdown",
   "id": "e97b6068",
   "metadata": {},
   "source": [
    "nombre_infected      1064\n",
    "nombre_sain          2213\n",
    "nombre_exposed        608\n",
    "nombre_recovered    16115\n",
    "Name: 427, dtype: int64"
   ]
  },
  {
   "cell_type": "markdown",
   "id": "cd0789f3",
   "metadata": {},
   "source": [
    "nombre_infected      1076\n",
    "nombre_sain          2193\n",
    "nombre_exposed        618\n",
    "nombre_recovered    16113\n",
    "Name: 428, dtype: int64"
   ]
  },
  {
   "cell_type": "markdown",
   "id": "2c141511",
   "metadata": {},
   "source": [
    "nombre_infected      1084\n",
    "nombre_sain          2172\n",
    "nombre_exposed        624\n",
    "nombre_recovered    16120\n",
    "Name: 429, dtype: int64"
   ]
  },
  {
   "cell_type": "markdown",
   "id": "55d2cf9c",
   "metadata": {},
   "source": [
    "nombre_infected      1083\n",
    "nombre_sain          2149\n",
    "nombre_exposed        630\n",
    "nombre_recovered    16138\n",
    "Name: 430, dtype: int64"
   ]
  },
  {
   "cell_type": "markdown",
   "id": "064e3465",
   "metadata": {},
   "source": [
    "nombre_infected      1101\n",
    "nombre_sain          2104\n",
    "nombre_exposed        620\n",
    "nombre_recovered    16175\n",
    "Name: 431, dtype: int64"
   ]
  },
  {
   "cell_type": "markdown",
   "id": "f2a5b4e5",
   "metadata": {},
   "source": [
    "nombre_infected      1117\n",
    "nombre_sain          2081\n",
    "nombre_exposed        620\n",
    "nombre_recovered    16182\n",
    "Name: 432, dtype: int64"
   ]
  },
  {
   "cell_type": "markdown",
   "id": "80de1653",
   "metadata": {},
   "source": [
    "nombre_infected      1124\n",
    "nombre_sain          2049\n",
    "nombre_exposed        637\n",
    "nombre_recovered    16190\n",
    "Name: 433, dtype: int64"
   ]
  },
  {
   "cell_type": "markdown",
   "id": "d2bd6f01",
   "metadata": {},
   "source": [
    "nombre_infected      1128\n",
    "nombre_sain          2011\n",
    "nombre_exposed        629\n",
    "nombre_recovered    16232\n",
    "Name: 434, dtype: int64"
   ]
  },
  {
   "cell_type": "markdown",
   "id": "af7cd3dd",
   "metadata": {},
   "source": [
    "nombre_infected      1146\n",
    "nombre_sain          1994\n",
    "nombre_exposed        612\n",
    "nombre_recovered    16248\n",
    "Name: 435, dtype: int64"
   ]
  },
  {
   "cell_type": "markdown",
   "id": "fa0803f7",
   "metadata": {},
   "source": [
    "nombre_infected      1171\n",
    "nombre_sain          1980\n",
    "nombre_exposed        597\n",
    "nombre_recovered    16252\n",
    "Name: 436, dtype: int64"
   ]
  },
  {
   "cell_type": "markdown",
   "id": "f9c3dfa6",
   "metadata": {},
   "source": [
    "nombre_infected      1161\n",
    "nombre_sain          1984\n",
    "nombre_exposed        607\n",
    "nombre_recovered    16248\n",
    "Name: 437, dtype: int64"
   ]
  },
  {
   "cell_type": "markdown",
   "id": "85c514b8",
   "metadata": {},
   "source": [
    "nombre_infected      1170\n",
    "nombre_sain          1955\n",
    "nombre_exposed        618\n",
    "nombre_recovered    16257\n",
    "Name: 438, dtype: int64"
   ]
  },
  {
   "cell_type": "markdown",
   "id": "47f14fb8",
   "metadata": {},
   "source": [
    "nombre_infected      1165\n",
    "nombre_sain          1935\n",
    "nombre_exposed        627\n",
    "nombre_recovered    16273\n",
    "Name: 439, dtype: int64"
   ]
  },
  {
   "cell_type": "markdown",
   "id": "9dacd73f",
   "metadata": {},
   "source": [
    "nombre_infected      1189\n",
    "nombre_sain          1931\n",
    "nombre_exposed        614\n",
    "nombre_recovered    16266\n",
    "Name: 440, dtype: int64"
   ]
  },
  {
   "cell_type": "markdown",
   "id": "a061338a",
   "metadata": {},
   "source": [
    "nombre_infected      1168\n",
    "nombre_sain          1909\n",
    "nombre_exposed        637\n",
    "nombre_recovered    16286\n",
    "Name: 441, dtype: int64"
   ]
  },
  {
   "cell_type": "markdown",
   "id": "2157ac01",
   "metadata": {},
   "source": [
    "nombre_infected      1181\n",
    "nombre_sain          1876\n",
    "nombre_exposed        636\n",
    "nombre_recovered    16307\n",
    "Name: 442, dtype: int64"
   ]
  },
  {
   "cell_type": "markdown",
   "id": "d331ff1a",
   "metadata": {},
   "source": [
    "nombre_infected      1184\n",
    "nombre_sain          1858\n",
    "nombre_exposed        644\n",
    "nombre_recovered    16314\n",
    "Name: 443, dtype: int64"
   ]
  },
  {
   "cell_type": "markdown",
   "id": "3fb34d5b",
   "metadata": {},
   "source": [
    "nombre_infected      1177\n",
    "nombre_sain          1828\n",
    "nombre_exposed        625\n",
    "nombre_recovered    16370\n",
    "Name: 444, dtype: int64"
   ]
  },
  {
   "cell_type": "markdown",
   "id": "ea346c59",
   "metadata": {},
   "source": [
    "nombre_infected      1177\n",
    "nombre_sain          1808\n",
    "nombre_exposed        623\n",
    "nombre_recovered    16392\n",
    "Name: 445, dtype: int64"
   ]
  },
  {
   "cell_type": "markdown",
   "id": "20b65162",
   "metadata": {},
   "source": [
    "nombre_infected      1216\n",
    "nombre_sain          1811\n",
    "nombre_exposed        587\n",
    "nombre_recovered    16386\n",
    "Name: 446, dtype: int64"
   ]
  },
  {
   "cell_type": "markdown",
   "id": "6108a2fe",
   "metadata": {},
   "source": [
    "nombre_infected      1220\n",
    "nombre_sain          1804\n",
    "nombre_exposed        574\n",
    "nombre_recovered    16402\n",
    "Name: 447, dtype: int64"
   ]
  },
  {
   "cell_type": "markdown",
   "id": "662046c8",
   "metadata": {},
   "source": [
    "nombre_infected      1219\n",
    "nombre_sain          1814\n",
    "nombre_exposed        578\n",
    "nombre_recovered    16389\n",
    "Name: 448, dtype: int64"
   ]
  },
  {
   "cell_type": "markdown",
   "id": "0a22a345",
   "metadata": {},
   "source": [
    "nombre_infected      1207\n",
    "nombre_sain          1821\n",
    "nombre_exposed        572\n",
    "nombre_recovered    16400\n",
    "Name: 449, dtype: int64"
   ]
  },
  {
   "cell_type": "markdown",
   "id": "123c2d27",
   "metadata": {},
   "source": [
    "nombre_infected      1190\n",
    "nombre_sain          1837\n",
    "nombre_exposed        575\n",
    "nombre_recovered    16398\n",
    "Name: 450, dtype: int64"
   ]
  },
  {
   "cell_type": "markdown",
   "id": "f7837853",
   "metadata": {},
   "source": [
    "nombre_infected      1175\n",
    "nombre_sain          1852\n",
    "nombre_exposed        577\n",
    "nombre_recovered    16396\n",
    "Name: 451, dtype: int64"
   ]
  },
  {
   "cell_type": "markdown",
   "id": "6cd5406c",
   "metadata": {},
   "source": [
    "nombre_infected      1160\n",
    "nombre_sain          1857\n",
    "nombre_exposed        568\n",
    "nombre_recovered    16415\n",
    "Name: 452, dtype: int64"
   ]
  },
  {
   "cell_type": "markdown",
   "id": "6ae8a85a",
   "metadata": {},
   "source": [
    "nombre_infected      1184\n",
    "nombre_sain          1859\n",
    "nombre_exposed        559\n",
    "nombre_recovered    16398\n",
    "Name: 453, dtype: int64"
   ]
  },
  {
   "cell_type": "markdown",
   "id": "4ab55f7c",
   "metadata": {},
   "source": [
    "nombre_infected      1182\n",
    "nombre_sain          1877\n",
    "nombre_exposed        564\n",
    "nombre_recovered    16377\n",
    "Name: 454, dtype: int64"
   ]
  },
  {
   "cell_type": "markdown",
   "id": "ad768e9a",
   "metadata": {},
   "source": [
    "nombre_infected      1175\n",
    "nombre_sain          1873\n",
    "nombre_exposed        570\n",
    "nombre_recovered    16382\n",
    "Name: 455, dtype: int64"
   ]
  },
  {
   "cell_type": "markdown",
   "id": "b699ba56",
   "metadata": {},
   "source": [
    "nombre_infected      1167\n",
    "nombre_sain          1900\n",
    "nombre_exposed        555\n",
    "nombre_recovered    16378\n",
    "Name: 456, dtype: int64"
   ]
  },
  {
   "cell_type": "markdown",
   "id": "040093e2",
   "metadata": {},
   "source": [
    "nombre_infected      1153\n",
    "nombre_sain          1882\n",
    "nombre_exposed        570\n",
    "nombre_recovered    16395\n",
    "Name: 457, dtype: int64"
   ]
  },
  {
   "cell_type": "markdown",
   "id": "26e92cdc",
   "metadata": {},
   "source": [
    "nombre_infected      1126\n",
    "nombre_sain          1884\n",
    "nombre_exposed        575\n",
    "nombre_recovered    16415\n",
    "Name: 458, dtype: int64"
   ]
  },
  {
   "cell_type": "markdown",
   "id": "9d78baa6",
   "metadata": {},
   "source": [
    "nombre_infected      1158\n",
    "nombre_sain          1894\n",
    "nombre_exposed        543\n",
    "nombre_recovered    16405\n",
    "Name: 459, dtype: int64"
   ]
  },
  {
   "cell_type": "markdown",
   "id": "ae232141",
   "metadata": {},
   "source": [
    "nombre_infected      1141\n",
    "nombre_sain          1902\n",
    "nombre_exposed        542\n",
    "nombre_recovered    16415\n",
    "Name: 460, dtype: int64"
   ]
  },
  {
   "cell_type": "markdown",
   "id": "84c5a9b9",
   "metadata": {},
   "source": [
    "nombre_infected      1135\n",
    "nombre_sain          1921\n",
    "nombre_exposed        543\n",
    "nombre_recovered    16401\n",
    "Name: 461, dtype: int64"
   ]
  },
  {
   "cell_type": "markdown",
   "id": "46b1de6b",
   "metadata": {},
   "source": [
    "nombre_infected      1140\n",
    "nombre_sain          1902\n",
    "nombre_exposed        550\n",
    "nombre_recovered    16408\n",
    "Name: 462, dtype: int64"
   ]
  },
  {
   "cell_type": "markdown",
   "id": "ddebb041",
   "metadata": {},
   "source": [
    "nombre_infected      1118\n",
    "nombre_sain          1884\n",
    "nombre_exposed        549\n",
    "nombre_recovered    16449\n",
    "Name: 463, dtype: int64"
   ]
  },
  {
   "cell_type": "markdown",
   "id": "081839d6",
   "metadata": {},
   "source": [
    "nombre_infected      1108\n",
    "nombre_sain          1871\n",
    "nombre_exposed        557\n",
    "nombre_recovered    16464\n",
    "Name: 464, dtype: int64"
   ]
  },
  {
   "cell_type": "markdown",
   "id": "51485bc1",
   "metadata": {},
   "source": [
    "nombre_infected      1102\n",
    "nombre_sain          1876\n",
    "nombre_exposed        542\n",
    "nombre_recovered    16480\n",
    "Name: 465, dtype: int64"
   ]
  },
  {
   "cell_type": "markdown",
   "id": "cfc00fbe",
   "metadata": {},
   "source": [
    "nombre_infected      1107\n",
    "nombre_sain          1858\n",
    "nombre_exposed        561\n",
    "nombre_recovered    16474\n",
    "Name: 466, dtype: int64"
   ]
  },
  {
   "cell_type": "markdown",
   "id": "c61d696f",
   "metadata": {},
   "source": [
    "nombre_infected      1102\n",
    "nombre_sain          1836\n",
    "nombre_exposed        585\n",
    "nombre_recovered    16477\n",
    "Name: 467, dtype: int64"
   ]
  },
  {
   "cell_type": "markdown",
   "id": "634f1871",
   "metadata": {},
   "source": [
    "nombre_infected      1130\n",
    "nombre_sain          1837\n",
    "nombre_exposed        563\n",
    "nombre_recovered    16470\n",
    "Name: 468, dtype: int64"
   ]
  },
  {
   "cell_type": "markdown",
   "id": "ca91c8e4",
   "metadata": {},
   "source": [
    "nombre_infected      1134\n",
    "nombre_sain          1838\n",
    "nombre_exposed        527\n",
    "nombre_recovered    16501\n",
    "Name: 469, dtype: int64"
   ]
  },
  {
   "cell_type": "markdown",
   "id": "b268cd3c",
   "metadata": {},
   "source": [
    "nombre_infected      1116\n",
    "nombre_sain          1817\n",
    "nombre_exposed        536\n",
    "nombre_recovered    16531\n",
    "Name: 470, dtype: int64"
   ]
  },
  {
   "cell_type": "markdown",
   "id": "37629812",
   "metadata": {},
   "source": [
    "nombre_infected      1104\n",
    "nombre_sain          1771\n",
    "nombre_exposed        533\n",
    "nombre_recovered    16592\n",
    "Name: 471, dtype: int64"
   ]
  },
  {
   "cell_type": "markdown",
   "id": "e8fed383",
   "metadata": {},
   "source": [
    "nombre_infected      1118\n",
    "nombre_sain          1744\n",
    "nombre_exposed        523\n",
    "nombre_recovered    16615\n",
    "Name: 472, dtype: int64"
   ]
  },
  {
   "cell_type": "markdown",
   "id": "3ea9bc47",
   "metadata": {},
   "source": [
    "nombre_infected      1112\n",
    "nombre_sain          1739\n",
    "nombre_exposed        498\n",
    "nombre_recovered    16651\n",
    "Name: 473, dtype: int64"
   ]
  },
  {
   "cell_type": "markdown",
   "id": "bd92b653",
   "metadata": {},
   "source": [
    "nombre_infected      1113\n",
    "nombre_sain          1721\n",
    "nombre_exposed        489\n",
    "nombre_recovered    16677\n",
    "Name: 474, dtype: int64"
   ]
  },
  {
   "cell_type": "markdown",
   "id": "46e21659",
   "metadata": {},
   "source": [
    "nombre_infected      1109\n",
    "nombre_sain          1705\n",
    "nombre_exposed        490\n",
    "nombre_recovered    16696\n",
    "Name: 475, dtype: int64"
   ]
  },
  {
   "cell_type": "markdown",
   "id": "6ee8e834",
   "metadata": {},
   "source": [
    "nombre_infected      1106\n",
    "nombre_sain          1681\n",
    "nombre_exposed        493\n",
    "nombre_recovered    16720\n",
    "Name: 476, dtype: int64"
   ]
  },
  {
   "cell_type": "markdown",
   "id": "9897d7a8",
   "metadata": {},
   "source": [
    "nombre_infected      1099\n",
    "nombre_sain          1679\n",
    "nombre_exposed        483\n",
    "nombre_recovered    16739\n",
    "Name: 477, dtype: int64"
   ]
  },
  {
   "cell_type": "markdown",
   "id": "48b4da58",
   "metadata": {},
   "source": [
    "nombre_infected      1085\n",
    "nombre_sain          1653\n",
    "nombre_exposed        487\n",
    "nombre_recovered    16775\n",
    "Name: 478, dtype: int64"
   ]
  },
  {
   "cell_type": "markdown",
   "id": "de725fc0",
   "metadata": {},
   "source": [
    "nombre_infected      1070\n",
    "nombre_sain          1647\n",
    "nombre_exposed        483\n",
    "nombre_recovered    16800\n",
    "Name: 479, dtype: int64"
   ]
  },
  {
   "cell_type": "markdown",
   "id": "37a500d1",
   "metadata": {},
   "source": [
    "nombre_infected      1054\n",
    "nombre_sain          1652\n",
    "nombre_exposed        480\n",
    "nombre_recovered    16814\n",
    "Name: 480, dtype: int64"
   ]
  },
  {
   "cell_type": "markdown",
   "id": "eb58b8c3",
   "metadata": {},
   "source": [
    "nombre_infected      1037\n",
    "nombre_sain          1648\n",
    "nombre_exposed        468\n",
    "nombre_recovered    16847\n",
    "Name: 481, dtype: int64"
   ]
  },
  {
   "cell_type": "markdown",
   "id": "f9c99a6b",
   "metadata": {},
   "source": [
    "nombre_infected      1030\n",
    "nombre_sain          1658\n",
    "nombre_exposed        454\n",
    "nombre_recovered    16858\n",
    "Name: 482, dtype: int64"
   ]
  },
  {
   "cell_type": "markdown",
   "id": "c5df2597",
   "metadata": {},
   "source": [
    "nombre_infected      1024\n",
    "nombre_sain          1669\n",
    "nombre_exposed        451\n",
    "nombre_recovered    16856\n",
    "Name: 483, dtype: int64"
   ]
  },
  {
   "cell_type": "markdown",
   "id": "ed482f69",
   "metadata": {},
   "source": [
    "nombre_infected      1022\n",
    "nombre_sain          1677\n",
    "nombre_exposed        442\n",
    "nombre_recovered    16859\n",
    "Name: 484, dtype: int64"
   ]
  },
  {
   "cell_type": "markdown",
   "id": "c985e5b9",
   "metadata": {},
   "source": [
    "nombre_infected      1001\n",
    "nombre_sain          1674\n",
    "nombre_exposed        458\n",
    "nombre_recovered    16867\n",
    "Name: 485, dtype: int64"
   ]
  },
  {
   "cell_type": "markdown",
   "id": "8bfe1ed3",
   "metadata": {},
   "source": [
    "nombre_infected       974\n",
    "nombre_sain          1695\n",
    "nombre_exposed        453\n",
    "nombre_recovered    16878\n",
    "Name: 486, dtype: int64"
   ]
  },
  {
   "cell_type": "markdown",
   "id": "051a8ece",
   "metadata": {},
   "source": [
    "nombre_infected       983\n",
    "nombre_sain          1712\n",
    "nombre_exposed        432\n",
    "nombre_recovered    16873\n",
    "Name: 487, dtype: int64"
   ]
  },
  {
   "cell_type": "markdown",
   "id": "fff08569",
   "metadata": {},
   "source": [
    "nombre_infected       957\n",
    "nombre_sain          1739\n",
    "nombre_exposed        443\n",
    "nombre_recovered    16861\n",
    "Name: 488, dtype: int64"
   ]
  },
  {
   "cell_type": "markdown",
   "id": "f09bd630",
   "metadata": {},
   "source": [
    "nombre_infected       935\n",
    "nombre_sain          1776\n",
    "nombre_exposed        419\n",
    "nombre_recovered    16870\n",
    "Name: 489, dtype: int64"
   ]
  },
  {
   "cell_type": "markdown",
   "id": "84e85288",
   "metadata": {},
   "source": [
    "nombre_infected       937\n",
    "nombre_sain          1783\n",
    "nombre_exposed        415\n",
    "nombre_recovered    16865\n",
    "Name: 490, dtype: int64"
   ]
  },
  {
   "cell_type": "markdown",
   "id": "e2163d4a",
   "metadata": {},
   "source": [
    "nombre_infected       911\n",
    "nombre_sain          1792\n",
    "nombre_exposed        417\n",
    "nombre_recovered    16880\n",
    "Name: 491, dtype: int64"
   ]
  },
  {
   "cell_type": "markdown",
   "id": "a51be52d",
   "metadata": {},
   "source": [
    "nombre_infected       916\n",
    "nombre_sain          1780\n",
    "nombre_exposed        419\n",
    "nombre_recovered    16885\n",
    "Name: 492, dtype: int64"
   ]
  },
  {
   "cell_type": "markdown",
   "id": "dcb251a2",
   "metadata": {},
   "source": [
    "nombre_infected       928\n",
    "nombre_sain          1806\n",
    "nombre_exposed        412\n",
    "nombre_recovered    16854\n",
    "Name: 493, dtype: int64"
   ]
  },
  {
   "cell_type": "markdown",
   "id": "6fbe49d3",
   "metadata": {},
   "source": [
    "nombre_infected       925\n",
    "nombre_sain          1841\n",
    "nombre_exposed        398\n",
    "nombre_recovered    16836\n",
    "Name: 494, dtype: int64"
   ]
  },
  {
   "cell_type": "markdown",
   "id": "9158051f",
   "metadata": {},
   "source": [
    "nombre_infected       903\n",
    "nombre_sain          1837\n",
    "nombre_exposed        426\n",
    "nombre_recovered    16834\n",
    "Name: 495, dtype: int64"
   ]
  },
  {
   "cell_type": "markdown",
   "id": "72f84c88",
   "metadata": {},
   "source": [
    "nombre_infected       867\n",
    "nombre_sain          1864\n",
    "nombre_exposed        414\n",
    "nombre_recovered    16855\n",
    "Name: 496, dtype: int64"
   ]
  },
  {
   "cell_type": "markdown",
   "id": "b6fc5248",
   "metadata": {},
   "source": [
    "nombre_infected       850\n",
    "nombre_sain          1872\n",
    "nombre_exposed        421\n",
    "nombre_recovered    16857\n",
    "Name: 497, dtype: int64"
   ]
  },
  {
   "cell_type": "markdown",
   "id": "2d60c0fd",
   "metadata": {},
   "source": [
    "nombre_infected       851\n",
    "nombre_sain          1865\n",
    "nombre_exposed        437\n",
    "nombre_recovered    16847\n",
    "Name: 498, dtype: int64"
   ]
  },
  {
   "cell_type": "markdown",
   "id": "07e9159a",
   "metadata": {},
   "source": [
    "nombre_infected       828\n",
    "nombre_sain          1860\n",
    "nombre_exposed        436\n",
    "nombre_recovered    16876\n",
    "Name: 499, dtype: int64"
   ]
  },
  {
   "cell_type": "markdown",
   "id": "13654a9a",
   "metadata": {},
   "source": [
    "nombre_infected       830\n",
    "nombre_sain          1873\n",
    "nombre_exposed        416\n",
    "nombre_recovered    16881\n",
    "Name: 500, dtype: int64"
   ]
  },
  {
   "cell_type": "markdown",
   "id": "551bece9",
   "metadata": {},
   "source": [
    "nombre_infected       822\n",
    "nombre_sain          1884\n",
    "nombre_exposed        418\n",
    "nombre_recovered    16876\n",
    "Name: 501, dtype: int64"
   ]
  },
  {
   "cell_type": "markdown",
   "id": "a76f0804",
   "metadata": {},
   "source": [
    "nombre_infected       823\n",
    "nombre_sain          1879\n",
    "nombre_exposed        437\n",
    "nombre_recovered    16861\n",
    "Name: 502, dtype: int64"
   ]
  },
  {
   "cell_type": "markdown",
   "id": "644b5de4",
   "metadata": {},
   "source": [
    "nombre_infected       834\n",
    "nombre_sain          1907\n",
    "nombre_exposed        411\n",
    "nombre_recovered    16848\n",
    "Name: 503, dtype: int64"
   ]
  },
  {
   "cell_type": "markdown",
   "id": "019c75bf",
   "metadata": {},
   "source": [
    "nombre_infected       835\n",
    "nombre_sain          1903\n",
    "nombre_exposed        410\n",
    "nombre_recovered    16852\n",
    "Name: 504, dtype: int64"
   ]
  },
  {
   "cell_type": "markdown",
   "id": "a72345fe",
   "metadata": {},
   "source": [
    "nombre_infected       821\n",
    "nombre_sain          1907\n",
    "nombre_exposed        420\n",
    "nombre_recovered    16852\n",
    "Name: 505, dtype: int64"
   ]
  },
  {
   "cell_type": "markdown",
   "id": "2cb34d14",
   "metadata": {},
   "source": [
    "nombre_infected       821\n",
    "nombre_sain          1933\n",
    "nombre_exposed        411\n",
    "nombre_recovered    16835\n",
    "Name: 506, dtype: int64"
   ]
  },
  {
   "cell_type": "markdown",
   "id": "ef2de815",
   "metadata": {},
   "source": [
    "nombre_infected       821\n",
    "nombre_sain          1931\n",
    "nombre_exposed        424\n",
    "nombre_recovered    16824\n",
    "Name: 507, dtype: int64"
   ]
  },
  {
   "cell_type": "markdown",
   "id": "4f162b73",
   "metadata": {},
   "source": [
    "nombre_infected       825\n",
    "nombre_sain          1936\n",
    "nombre_exposed        435\n",
    "nombre_recovered    16804\n",
    "Name: 508, dtype: int64"
   ]
  },
  {
   "cell_type": "markdown",
   "id": "e0b04d0e",
   "metadata": {},
   "source": [
    "nombre_infected       818\n",
    "nombre_sain          1940\n",
    "nombre_exposed        428\n",
    "nombre_recovered    16814\n",
    "Name: 509, dtype: int64"
   ]
  },
  {
   "cell_type": "markdown",
   "id": "c2ca63d8",
   "metadata": {},
   "source": [
    "nombre_infected       824\n",
    "nombre_sain          1960\n",
    "nombre_exposed        433\n",
    "nombre_recovered    16783\n",
    "Name: 510, dtype: int64"
   ]
  },
  {
   "cell_type": "markdown",
   "id": "8812fdf9",
   "metadata": {},
   "source": [
    "nombre_infected       839\n",
    "nombre_sain          1970\n",
    "nombre_exposed        432\n",
    "nombre_recovered    16759\n",
    "Name: 511, dtype: int64"
   ]
  },
  {
   "cell_type": "markdown",
   "id": "9ae5d544",
   "metadata": {},
   "source": [
    "nombre_infected       834\n",
    "nombre_sain          1970\n",
    "nombre_exposed        428\n",
    "nombre_recovered    16768\n",
    "Name: 512, dtype: int64"
   ]
  },
  {
   "cell_type": "markdown",
   "id": "1496268e",
   "metadata": {},
   "source": [
    "nombre_infected       816\n",
    "nombre_sain          1961\n",
    "nombre_exposed        442\n",
    "nombre_recovered    16781\n",
    "Name: 513, dtype: int64"
   ]
  },
  {
   "cell_type": "markdown",
   "id": "ace83c68",
   "metadata": {},
   "source": [
    "nombre_infected       826\n",
    "nombre_sain          2005\n",
    "nombre_exposed        415\n",
    "nombre_recovered    16754\n",
    "Name: 514, dtype: int64"
   ]
  },
  {
   "cell_type": "markdown",
   "id": "a83b5048",
   "metadata": {},
   "source": [
    "nombre_infected       847\n",
    "nombre_sain          2014\n",
    "nombre_exposed        379\n",
    "nombre_recovered    16760\n",
    "Name: 515, dtype: int64"
   ]
  },
  {
   "cell_type": "markdown",
   "id": "b4e4208e",
   "metadata": {},
   "source": [
    "nombre_infected       838\n",
    "nombre_sain          2025\n",
    "nombre_exposed        388\n",
    "nombre_recovered    16749\n",
    "Name: 516, dtype: int64"
   ]
  },
  {
   "cell_type": "markdown",
   "id": "dfa9a6a6",
   "metadata": {},
   "source": [
    "nombre_infected       822\n",
    "nombre_sain          2033\n",
    "nombre_exposed        415\n",
    "nombre_recovered    16730\n",
    "Name: 517, dtype: int64"
   ]
  },
  {
   "cell_type": "markdown",
   "id": "af0e6f69",
   "metadata": {},
   "source": [
    "nombre_infected       815\n",
    "nombre_sain          2064\n",
    "nombre_exposed        418\n",
    "nombre_recovered    16703\n",
    "Name: 518, dtype: int64"
   ]
  },
  {
   "cell_type": "markdown",
   "id": "46e579df",
   "metadata": {},
   "source": [
    "nombre_infected       822\n",
    "nombre_sain          2069\n",
    "nombre_exposed        414\n",
    "nombre_recovered    16695\n",
    "Name: 519, dtype: int64"
   ]
  },
  {
   "cell_type": "markdown",
   "id": "1f5b39b8",
   "metadata": {},
   "source": [
    "nombre_infected       832\n",
    "nombre_sain          2054\n",
    "nombre_exposed        423\n",
    "nombre_recovered    16691\n",
    "Name: 520, dtype: int64"
   ]
  },
  {
   "cell_type": "markdown",
   "id": "40d95a13",
   "metadata": {},
   "source": [
    "nombre_infected       855\n",
    "nombre_sain          2044\n",
    "nombre_exposed        432\n",
    "nombre_recovered    16669\n",
    "Name: 521, dtype: int64"
   ]
  },
  {
   "cell_type": "markdown",
   "id": "7e90b618",
   "metadata": {},
   "source": [
    "nombre_infected       844\n",
    "nombre_sain          2037\n",
    "nombre_exposed        433\n",
    "nombre_recovered    16686\n",
    "Name: 522, dtype: int64"
   ]
  },
  {
   "cell_type": "markdown",
   "id": "8b78c5ed",
   "metadata": {},
   "source": [
    "nombre_infected       845\n",
    "nombre_sain          2043\n",
    "nombre_exposed        423\n",
    "nombre_recovered    16689\n",
    "Name: 523, dtype: int64"
   ]
  },
  {
   "cell_type": "markdown",
   "id": "2eb42b94",
   "metadata": {},
   "source": [
    "nombre_infected       826\n",
    "nombre_sain          2036\n",
    "nombre_exposed        438\n",
    "nombre_recovered    16700\n",
    "Name: 524, dtype: int64"
   ]
  },
  {
   "cell_type": "markdown",
   "id": "e178a6f6",
   "metadata": {},
   "source": [
    "nombre_infected       825\n",
    "nombre_sain          2014\n",
    "nombre_exposed        452\n",
    "nombre_recovered    16709\n",
    "Name: 525, dtype: int64"
   ]
  },
  {
   "cell_type": "markdown",
   "id": "bf6e94cf",
   "metadata": {},
   "source": [
    "nombre_infected       813\n",
    "nombre_sain          2033\n",
    "nombre_exposed        451\n",
    "nombre_recovered    16703\n",
    "Name: 526, dtype: int64"
   ]
  },
  {
   "cell_type": "markdown",
   "id": "aa8de27a",
   "metadata": {},
   "source": [
    "nombre_infected       825\n",
    "nombre_sain          2048\n",
    "nombre_exposed        436\n",
    "nombre_recovered    16691\n",
    "Name: 527, dtype: int64"
   ]
  },
  {
   "cell_type": "markdown",
   "id": "78541d2c",
   "metadata": {},
   "source": [
    "nombre_infected       827\n",
    "nombre_sain          2046\n",
    "nombre_exposed        450\n",
    "nombre_recovered    16677\n",
    "Name: 528, dtype: int64"
   ]
  },
  {
   "cell_type": "markdown",
   "id": "6000d6f5",
   "metadata": {},
   "source": [
    "nombre_infected       829\n",
    "nombre_sain          2042\n",
    "nombre_exposed        458\n",
    "nombre_recovered    16671\n",
    "Name: 529, dtype: int64"
   ]
  },
  {
   "cell_type": "markdown",
   "id": "86c9ea90",
   "metadata": {},
   "source": [
    "nombre_infected       824\n",
    "nombre_sain          2081\n",
    "nombre_exposed        428\n",
    "nombre_recovered    16667\n",
    "Name: 530, dtype: int64"
   ]
  },
  {
   "cell_type": "markdown",
   "id": "b4436956",
   "metadata": {},
   "source": [
    "nombre_infected       823\n",
    "nombre_sain          2090\n",
    "nombre_exposed        417\n",
    "nombre_recovered    16670\n",
    "Name: 531, dtype: int64"
   ]
  },
  {
   "cell_type": "markdown",
   "id": "517d5272",
   "metadata": {},
   "source": [
    "nombre_infected       826\n",
    "nombre_sain          2081\n",
    "nombre_exposed        419\n",
    "nombre_recovered    16674\n",
    "Name: 532, dtype: int64"
   ]
  },
  {
   "cell_type": "markdown",
   "id": "d60f92e2",
   "metadata": {},
   "source": [
    "nombre_infected       818\n",
    "nombre_sain          2088\n",
    "nombre_exposed        437\n",
    "nombre_recovered    16657\n",
    "Name: 533, dtype: int64"
   ]
  },
  {
   "cell_type": "markdown",
   "id": "e102474f",
   "metadata": {},
   "source": [
    "nombre_infected       819\n",
    "nombre_sain          2094\n",
    "nombre_exposed        433\n",
    "nombre_recovered    16654\n",
    "Name: 534, dtype: int64"
   ]
  },
  {
   "cell_type": "markdown",
   "id": "8ed4d895",
   "metadata": {},
   "source": [
    "nombre_infected       817\n",
    "nombre_sain          2082\n",
    "nombre_exposed        463\n",
    "nombre_recovered    16638\n",
    "Name: 535, dtype: int64"
   ]
  },
  {
   "cell_type": "markdown",
   "id": "2f847173",
   "metadata": {},
   "source": [
    "nombre_infected       832\n",
    "nombre_sain          2087\n",
    "nombre_exposed        465\n",
    "nombre_recovered    16616\n",
    "Name: 536, dtype: int64"
   ]
  },
  {
   "cell_type": "markdown",
   "id": "1374f986",
   "metadata": {},
   "source": [
    "nombre_infected       823\n",
    "nombre_sain          2103\n",
    "nombre_exposed        472\n",
    "nombre_recovered    16602\n",
    "Name: 537, dtype: int64"
   ]
  },
  {
   "cell_type": "markdown",
   "id": "5e7576ec",
   "metadata": {},
   "source": [
    "nombre_infected       835\n",
    "nombre_sain          2088\n",
    "nombre_exposed        483\n",
    "nombre_recovered    16594\n",
    "Name: 538, dtype: int64"
   ]
  },
  {
   "cell_type": "markdown",
   "id": "d085c537",
   "metadata": {},
   "source": [
    "nombre_infected       850\n",
    "nombre_sain          2103\n",
    "nombre_exposed        482\n",
    "nombre_recovered    16565\n",
    "Name: 539, dtype: int64"
   ]
  },
  {
   "cell_type": "markdown",
   "id": "5a318794",
   "metadata": {},
   "source": [
    "nombre_infected       843\n",
    "nombre_sain          2113\n",
    "nombre_exposed        479\n",
    "nombre_recovered    16565\n",
    "Name: 540, dtype: int64"
   ]
  },
  {
   "cell_type": "markdown",
   "id": "79b9a832",
   "metadata": {},
   "source": [
    "nombre_infected       844\n",
    "nombre_sain          2107\n",
    "nombre_exposed        472\n",
    "nombre_recovered    16577\n",
    "Name: 541, dtype: int64"
   ]
  },
  {
   "cell_type": "markdown",
   "id": "1c016ee0",
   "metadata": {},
   "source": [
    "nombre_infected       857\n",
    "nombre_sain          2098\n",
    "nombre_exposed        470\n",
    "nombre_recovered    16575\n",
    "Name: 542, dtype: int64"
   ]
  },
  {
   "cell_type": "markdown",
   "id": "39d3aa5d",
   "metadata": {},
   "source": [
    "nombre_infected       856\n",
    "nombre_sain          2080\n",
    "nombre_exposed        497\n",
    "nombre_recovered    16567\n",
    "Name: 543, dtype: int64"
   ]
  },
  {
   "cell_type": "markdown",
   "id": "02bef4d5",
   "metadata": {},
   "source": [
    "nombre_infected       853\n",
    "nombre_sain          2092\n",
    "nombre_exposed        498\n",
    "nombre_recovered    16557\n",
    "Name: 544, dtype: int64"
   ]
  },
  {
   "cell_type": "markdown",
   "id": "e4b2e14c",
   "metadata": {},
   "source": [
    "nombre_infected       857\n",
    "nombre_sain          2088\n",
    "nombre_exposed        493\n",
    "nombre_recovered    16562\n",
    "Name: 545, dtype: int64"
   ]
  },
  {
   "cell_type": "markdown",
   "id": "cf20d089",
   "metadata": {},
   "source": [
    "nombre_infected       890\n",
    "nombre_sain          2070\n",
    "nombre_exposed        505\n",
    "nombre_recovered    16535\n",
    "Name: 546, dtype: int64"
   ]
  },
  {
   "cell_type": "markdown",
   "id": "ae08ec97",
   "metadata": {},
   "source": [
    "nombre_infected       905\n",
    "nombre_sain          2074\n",
    "nombre_exposed        522\n",
    "nombre_recovered    16499\n",
    "Name: 547, dtype: int64"
   ]
  },
  {
   "cell_type": "markdown",
   "id": "7e519ddb",
   "metadata": {},
   "source": [
    "nombre_infected       925\n",
    "nombre_sain          2085\n",
    "nombre_exposed        532\n",
    "nombre_recovered    16458\n",
    "Name: 548, dtype: int64"
   ]
  },
  {
   "cell_type": "markdown",
   "id": "1269c01a",
   "metadata": {},
   "source": [
    "nombre_infected       921\n",
    "nombre_sain          2052\n",
    "nombre_exposed        540\n",
    "nombre_recovered    16487\n",
    "Name: 549, dtype: int64"
   ]
  },
  {
   "cell_type": "markdown",
   "id": "559ba4ff",
   "metadata": {},
   "source": [
    "nombre_infected       934\n",
    "nombre_sain          2076\n",
    "nombre_exposed        512\n",
    "nombre_recovered    16478\n",
    "Name: 550, dtype: int64"
   ]
  },
  {
   "cell_type": "markdown",
   "id": "a3776142",
   "metadata": {},
   "source": [
    "nombre_infected       950\n",
    "nombre_sain          2081\n",
    "nombre_exposed        503\n",
    "nombre_recovered    16466\n",
    "Name: 551, dtype: int64"
   ]
  },
  {
   "cell_type": "markdown",
   "id": "9f8534d1",
   "metadata": {},
   "source": [
    "nombre_infected       962\n",
    "nombre_sain          2093\n",
    "nombre_exposed        505\n",
    "nombre_recovered    16440\n",
    "Name: 552, dtype: int64"
   ]
  },
  {
   "cell_type": "markdown",
   "id": "b8253638",
   "metadata": {},
   "source": [
    "nombre_infected       953\n",
    "nombre_sain          2110\n",
    "nombre_exposed        504\n",
    "nombre_recovered    16433\n",
    "Name: 553, dtype: int64"
   ]
  },
  {
   "cell_type": "markdown",
   "id": "bd37c292",
   "metadata": {},
   "source": [
    "nombre_infected       953\n",
    "nombre_sain          2114\n",
    "nombre_exposed        507\n",
    "nombre_recovered    16426\n",
    "Name: 554, dtype: int64"
   ]
  },
  {
   "cell_type": "markdown",
   "id": "6ac63c5f",
   "metadata": {},
   "source": [
    "nombre_infected       972\n",
    "nombre_sain          2124\n",
    "nombre_exposed        500\n",
    "nombre_recovered    16404\n",
    "Name: 555, dtype: int64"
   ]
  },
  {
   "cell_type": "markdown",
   "id": "0206f9b8",
   "metadata": {},
   "source": [
    "nombre_infected       983\n",
    "nombre_sain          2089\n",
    "nombre_exposed        522\n",
    "nombre_recovered    16406\n",
    "Name: 556, dtype: int64"
   ]
  },
  {
   "cell_type": "markdown",
   "id": "1f0c7cc4",
   "metadata": {},
   "source": [
    "nombre_infected       996\n",
    "nombre_sain          2095\n",
    "nombre_exposed        520\n",
    "nombre_recovered    16389\n",
    "Name: 557, dtype: int64"
   ]
  },
  {
   "cell_type": "markdown",
   "id": "cdb48b81",
   "metadata": {},
   "source": [
    "nombre_infected      1000\n",
    "nombre_sain          2100\n",
    "nombre_exposed        529\n",
    "nombre_recovered    16371\n",
    "Name: 558, dtype: int64"
   ]
  },
  {
   "cell_type": "markdown",
   "id": "32e841da",
   "metadata": {},
   "source": [
    "nombre_infected      1029\n",
    "nombre_sain          2094\n",
    "nombre_exposed        504\n",
    "nombre_recovered    16373\n",
    "Name: 559, dtype: int64"
   ]
  },
  {
   "cell_type": "markdown",
   "id": "4283a5f0",
   "metadata": {},
   "source": [
    "nombre_infected      1028\n",
    "nombre_sain          2074\n",
    "nombre_exposed        507\n",
    "nombre_recovered    16391\n",
    "Name: 560, dtype: int64"
   ]
  },
  {
   "cell_type": "markdown",
   "id": "3012b80a",
   "metadata": {},
   "source": [
    "nombre_infected      1041\n",
    "nombre_sain          2053\n",
    "nombre_exposed        528\n",
    "nombre_recovered    16378\n",
    "Name: 561, dtype: int64"
   ]
  },
  {
   "cell_type": "markdown",
   "id": "9c554721",
   "metadata": {},
   "source": [
    "nombre_infected      1050\n",
    "nombre_sain          2031\n",
    "nombre_exposed        554\n",
    "nombre_recovered    16365\n",
    "Name: 562, dtype: int64"
   ]
  },
  {
   "cell_type": "markdown",
   "id": "d00faa81",
   "metadata": {},
   "source": [
    "nombre_infected      1066\n",
    "nombre_sain          2005\n",
    "nombre_exposed        554\n",
    "nombre_recovered    16375\n",
    "Name: 563, dtype: int64"
   ]
  },
  {
   "cell_type": "markdown",
   "id": "8344a139",
   "metadata": {},
   "source": [
    "nombre_infected      1070\n",
    "nombre_sain          1983\n",
    "nombre_exposed        556\n",
    "nombre_recovered    16391\n",
    "Name: 564, dtype: int64"
   ]
  },
  {
   "cell_type": "markdown",
   "id": "8421741d",
   "metadata": {},
   "source": [
    "nombre_infected      1076\n",
    "nombre_sain          1952\n",
    "nombre_exposed        546\n",
    "nombre_recovered    16426\n",
    "Name: 565, dtype: int64"
   ]
  },
  {
   "cell_type": "markdown",
   "id": "c3f1746f",
   "metadata": {},
   "source": [
    "nombre_infected      1086\n",
    "nombre_sain          1942\n",
    "nombre_exposed        554\n",
    "nombre_recovered    16418\n",
    "Name: 566, dtype: int64"
   ]
  },
  {
   "cell_type": "markdown",
   "id": "69d82f68",
   "metadata": {},
   "source": [
    "nombre_infected      1079\n",
    "nombre_sain          1946\n",
    "nombre_exposed        543\n",
    "nombre_recovered    16432\n",
    "Name: 567, dtype: int64"
   ]
  },
  {
   "cell_type": "markdown",
   "id": "a0c22d2a",
   "metadata": {},
   "source": [
    "nombre_infected      1072\n",
    "nombre_sain          1937\n",
    "nombre_exposed        533\n",
    "nombre_recovered    16458\n",
    "Name: 568, dtype: int64"
   ]
  },
  {
   "cell_type": "markdown",
   "id": "96ee6cd1",
   "metadata": {},
   "source": [
    "nombre_infected      1065\n",
    "nombre_sain          1929\n",
    "nombre_exposed        529\n",
    "nombre_recovered    16477\n",
    "Name: 569, dtype: int64"
   ]
  },
  {
   "cell_type": "markdown",
   "id": "e86d59ae",
   "metadata": {},
   "source": [
    "nombre_infected      1057\n",
    "nombre_sain          1934\n",
    "nombre_exposed        527\n",
    "nombre_recovered    16482\n",
    "Name: 570, dtype: int64"
   ]
  },
  {
   "cell_type": "markdown",
   "id": "dc2a3a59",
   "metadata": {},
   "source": [
    "nombre_infected      1043\n",
    "nombre_sain          1933\n",
    "nombre_exposed        544\n",
    "nombre_recovered    16480\n",
    "Name: 571, dtype: int64"
   ]
  },
  {
   "cell_type": "markdown",
   "id": "c7a604e5",
   "metadata": {},
   "source": [
    "nombre_infected      1026\n",
    "nombre_sain          1926\n",
    "nombre_exposed        568\n",
    "nombre_recovered    16480\n",
    "Name: 572, dtype: int64"
   ]
  },
  {
   "cell_type": "markdown",
   "id": "b68ac6f6",
   "metadata": {},
   "source": [
    "nombre_infected      1037\n",
    "nombre_sain          1893\n",
    "nombre_exposed        585\n",
    "nombre_recovered    16485\n",
    "Name: 573, dtype: int64"
   ]
  },
  {
   "cell_type": "markdown",
   "id": "c4d9961f",
   "metadata": {},
   "source": [
    "nombre_infected      1018\n",
    "nombre_sain          1906\n",
    "nombre_exposed        567\n",
    "nombre_recovered    16509\n",
    "Name: 574, dtype: int64"
   ]
  },
  {
   "cell_type": "markdown",
   "id": "84729800",
   "metadata": {},
   "source": [
    "nombre_infected      1038\n",
    "nombre_sain          1910\n",
    "nombre_exposed        553\n",
    "nombre_recovered    16499\n",
    "Name: 575, dtype: int64"
   ]
  },
  {
   "cell_type": "markdown",
   "id": "5cc9c42a",
   "metadata": {},
   "source": [
    "nombre_infected      1022\n",
    "nombre_sain          1914\n",
    "nombre_exposed        572\n",
    "nombre_recovered    16492\n",
    "Name: 576, dtype: int64"
   ]
  },
  {
   "cell_type": "markdown",
   "id": "f4a89ccb",
   "metadata": {},
   "source": [
    "nombre_infected      1015\n",
    "nombre_sain          1910\n",
    "nombre_exposed        589\n",
    "nombre_recovered    16486\n",
    "Name: 577, dtype: int64"
   ]
  },
  {
   "cell_type": "markdown",
   "id": "cd43fc10",
   "metadata": {},
   "source": [
    "nombre_infected      1023\n",
    "nombre_sain          1918\n",
    "nombre_exposed        561\n",
    "nombre_recovered    16498\n",
    "Name: 578, dtype: int64"
   ]
  },
  {
   "cell_type": "markdown",
   "id": "59aa201b",
   "metadata": {},
   "source": [
    "nombre_infected      1041\n",
    "nombre_sain          1912\n",
    "nombre_exposed        570\n",
    "nombre_recovered    16477\n",
    "Name: 579, dtype: int64"
   ]
  },
  {
   "cell_type": "markdown",
   "id": "71d9df52",
   "metadata": {},
   "source": [
    "nombre_infected      1009\n",
    "nombre_sain          1916\n",
    "nombre_exposed        593\n",
    "nombre_recovered    16482\n",
    "Name: 580, dtype: int64"
   ]
  },
  {
   "cell_type": "markdown",
   "id": "5fda7762",
   "metadata": {},
   "source": [
    "nombre_infected      1027\n",
    "nombre_sain          1909\n",
    "nombre_exposed        571\n",
    "nombre_recovered    16493\n",
    "Name: 581, dtype: int64"
   ]
  },
  {
   "cell_type": "markdown",
   "id": "fef619d1",
   "metadata": {},
   "source": [
    "nombre_infected      1056\n",
    "nombre_sain          1909\n",
    "nombre_exposed        535\n",
    "nombre_recovered    16500\n",
    "Name: 582, dtype: int64"
   ]
  },
  {
   "cell_type": "markdown",
   "id": "8a95d57d",
   "metadata": {},
   "source": [
    "nombre_infected      1067\n",
    "nombre_sain          1896\n",
    "nombre_exposed        534\n",
    "nombre_recovered    16503\n",
    "Name: 583, dtype: int64"
   ]
  },
  {
   "cell_type": "markdown",
   "id": "3e63f006",
   "metadata": {},
   "source": [
    "nombre_infected      1086\n",
    "nombre_sain          1880\n",
    "nombre_exposed        542\n",
    "nombre_recovered    16492\n",
    "Name: 584, dtype: int64"
   ]
  },
  {
   "cell_type": "markdown",
   "id": "62daf04e",
   "metadata": {},
   "source": [
    "nombre_infected      1076\n",
    "nombre_sain          1869\n",
    "nombre_exposed        553\n",
    "nombre_recovered    16502\n",
    "Name: 585, dtype: int64"
   ]
  },
  {
   "cell_type": "markdown",
   "id": "9db8945a",
   "metadata": {},
   "source": [
    "nombre_infected      1099\n",
    "nombre_sain          1863\n",
    "nombre_exposed        542\n",
    "nombre_recovered    16496\n",
    "Name: 586, dtype: int64"
   ]
  },
  {
   "cell_type": "markdown",
   "id": "cd0254ac",
   "metadata": {},
   "source": [
    "nombre_infected      1086\n",
    "nombre_sain          1851\n",
    "nombre_exposed        560\n",
    "nombre_recovered    16503\n",
    "Name: 587, dtype: int64"
   ]
  },
  {
   "cell_type": "markdown",
   "id": "da50a623",
   "metadata": {},
   "source": [
    "nombre_infected      1080\n",
    "nombre_sain          1833\n",
    "nombre_exposed        538\n",
    "nombre_recovered    16549\n",
    "Name: 588, dtype: int64"
   ]
  },
  {
   "cell_type": "markdown",
   "id": "9f52a6c7",
   "metadata": {},
   "source": [
    "nombre_infected      1071\n",
    "nombre_sain          1837\n",
    "nombre_exposed        545\n",
    "nombre_recovered    16547\n",
    "Name: 589, dtype: int64"
   ]
  },
  {
   "cell_type": "markdown",
   "id": "2ff96185",
   "metadata": {},
   "source": [
    "nombre_infected      1050\n",
    "nombre_sain          1840\n",
    "nombre_exposed        537\n",
    "nombre_recovered    16573\n",
    "Name: 590, dtype: int64"
   ]
  },
  {
   "cell_type": "markdown",
   "id": "1897cfd4",
   "metadata": {},
   "source": [
    "nombre_infected      1064\n",
    "nombre_sain          1830\n",
    "nombre_exposed        527\n",
    "nombre_recovered    16579\n",
    "Name: 591, dtype: int64"
   ]
  },
  {
   "cell_type": "markdown",
   "id": "f93b577d",
   "metadata": {},
   "source": [
    "nombre_infected      1056\n",
    "nombre_sain          1819\n",
    "nombre_exposed        528\n",
    "nombre_recovered    16597\n",
    "Name: 592, dtype: int64"
   ]
  },
  {
   "cell_type": "markdown",
   "id": "60c8791a",
   "metadata": {},
   "source": [
    "nombre_infected      1056\n",
    "nombre_sain          1810\n",
    "nombre_exposed        528\n",
    "nombre_recovered    16606\n",
    "Name: 593, dtype: int64"
   ]
  },
  {
   "cell_type": "markdown",
   "id": "edfd9636",
   "metadata": {},
   "source": [
    "nombre_infected      1051\n",
    "nombre_sain          1798\n",
    "nombre_exposed        517\n",
    "nombre_recovered    16634\n",
    "Name: 594, dtype: int64"
   ]
  },
  {
   "cell_type": "markdown",
   "id": "6cc7c833",
   "metadata": {},
   "source": [
    "nombre_infected      1063\n",
    "nombre_sain          1828\n",
    "nombre_exposed        485\n",
    "nombre_recovered    16624\n",
    "Name: 595, dtype: int64"
   ]
  },
  {
   "cell_type": "markdown",
   "id": "e58eb48a",
   "metadata": {},
   "source": [
    "nombre_infected      1057\n",
    "nombre_sain          1823\n",
    "nombre_exposed        481\n",
    "nombre_recovered    16639\n",
    "Name: 596, dtype: int64"
   ]
  },
  {
   "cell_type": "markdown",
   "id": "a46128aa",
   "metadata": {},
   "source": [
    "nombre_infected      1028\n",
    "nombre_sain          1803\n",
    "nombre_exposed        503\n",
    "nombre_recovered    16666\n",
    "Name: 597, dtype: int64"
   ]
  },
  {
   "cell_type": "markdown",
   "id": "07c8d17e",
   "metadata": {},
   "source": [
    "nombre_infected      1029\n",
    "nombre_sain          1816\n",
    "nombre_exposed        482\n",
    "nombre_recovered    16673\n",
    "Name: 598, dtype: int64"
   ]
  },
  {
   "cell_type": "markdown",
   "id": "ba79452e",
   "metadata": {},
   "source": [
    "nombre_infected      1027\n",
    "nombre_sain          1815\n",
    "nombre_exposed        493\n",
    "nombre_recovered    16665\n",
    "Name: 599, dtype: int64"
   ]
  },
  {
   "cell_type": "markdown",
   "id": "6a9a0673",
   "metadata": {},
   "source": [
    "nombre_infected      1003\n",
    "nombre_sain          1800\n",
    "nombre_exposed        502\n",
    "nombre_recovered    16695\n",
    "Name: 600, dtype: int64"
   ]
  },
  {
   "cell_type": "markdown",
   "id": "83a2f6cd",
   "metadata": {},
   "source": [
    "nombre_infected       996\n",
    "nombre_sain          1805\n",
    "nombre_exposed        508\n",
    "nombre_recovered    16691\n",
    "Name: 601, dtype: int64"
   ]
  },
  {
   "cell_type": "markdown",
   "id": "3c7198fd",
   "metadata": {},
   "source": [
    "nombre_infected       989\n",
    "nombre_sain          1839\n",
    "nombre_exposed        502\n",
    "nombre_recovered    16670\n",
    "Name: 602, dtype: int64"
   ]
  },
  {
   "cell_type": "markdown",
   "id": "8eb7333f",
   "metadata": {},
   "source": [
    "nombre_infected       975\n",
    "nombre_sain          1861\n",
    "nombre_exposed        479\n",
    "nombre_recovered    16685\n",
    "Name: 603, dtype: int64"
   ]
  },
  {
   "cell_type": "markdown",
   "id": "4cfb643d",
   "metadata": {},
   "source": [
    "nombre_infected       954\n",
    "nombre_sain          1854\n",
    "nombre_exposed        484\n",
    "nombre_recovered    16708\n",
    "Name: 604, dtype: int64"
   ]
  },
  {
   "cell_type": "markdown",
   "id": "7f407fcc",
   "metadata": {},
   "source": [
    "nombre_infected       940\n",
    "nombre_sain          1885\n",
    "nombre_exposed        473\n",
    "nombre_recovered    16702\n",
    "Name: 605, dtype: int64"
   ]
  },
  {
   "cell_type": "markdown",
   "id": "e96a7478",
   "metadata": {},
   "source": [
    "nombre_infected       945\n",
    "nombre_sain          1922\n",
    "nombre_exposed        451\n",
    "nombre_recovered    16682\n",
    "Name: 606, dtype: int64"
   ]
  },
  {
   "cell_type": "markdown",
   "id": "3d1628f9",
   "metadata": {},
   "source": [
    "nombre_infected       933\n",
    "nombre_sain          1936\n",
    "nombre_exposed        466\n",
    "nombre_recovered    16665\n",
    "Name: 607, dtype: int64"
   ]
  },
  {
   "cell_type": "markdown",
   "id": "e1fac2f5",
   "metadata": {},
   "source": [
    "nombre_infected       945\n",
    "nombre_sain          1924\n",
    "nombre_exposed        479\n",
    "nombre_recovered    16652\n",
    "Name: 608, dtype: int64"
   ]
  },
  {
   "cell_type": "markdown",
   "id": "74acab92",
   "metadata": {},
   "source": [
    "nombre_infected       931\n",
    "nombre_sain          1933\n",
    "nombre_exposed        478\n",
    "nombre_recovered    16658\n",
    "Name: 609, dtype: int64"
   ]
  },
  {
   "cell_type": "markdown",
   "id": "11cf0e46",
   "metadata": {},
   "source": [
    "nombre_infected       929\n",
    "nombre_sain          1941\n",
    "nombre_exposed        466\n",
    "nombre_recovered    16664\n",
    "Name: 610, dtype: int64"
   ]
  },
  {
   "cell_type": "markdown",
   "id": "993348c6",
   "metadata": {},
   "source": [
    "nombre_infected       903\n",
    "nombre_sain          1939\n",
    "nombre_exposed        491\n",
    "nombre_recovered    16667\n",
    "Name: 611, dtype: int64"
   ]
  },
  {
   "cell_type": "markdown",
   "id": "07b2728f",
   "metadata": {},
   "source": [
    "nombre_infected       903\n",
    "nombre_sain          1986\n",
    "nombre_exposed        479\n",
    "nombre_recovered    16632\n",
    "Name: 612, dtype: int64"
   ]
  },
  {
   "cell_type": "markdown",
   "id": "5a2de68c",
   "metadata": {},
   "source": [
    "nombre_infected       906\n",
    "nombre_sain          1996\n",
    "nombre_exposed        477\n",
    "nombre_recovered    16621\n",
    "Name: 613, dtype: int64"
   ]
  },
  {
   "cell_type": "markdown",
   "id": "df17cd99",
   "metadata": {},
   "source": [
    "nombre_infected       899\n",
    "nombre_sain          1996\n",
    "nombre_exposed        469\n",
    "nombre_recovered    16636\n",
    "Name: 614, dtype: int64"
   ]
  },
  {
   "cell_type": "markdown",
   "id": "e500d096",
   "metadata": {},
   "source": [
    "nombre_infected       888\n",
    "nombre_sain          1993\n",
    "nombre_exposed        471\n",
    "nombre_recovered    16648\n",
    "Name: 615, dtype: int64"
   ]
  },
  {
   "cell_type": "markdown",
   "id": "b2aaa8bb",
   "metadata": {},
   "source": [
    "nombre_infected       874\n",
    "nombre_sain          1994\n",
    "nombre_exposed        484\n",
    "nombre_recovered    16648\n",
    "Name: 616, dtype: int64"
   ]
  },
  {
   "cell_type": "markdown",
   "id": "ad88f519",
   "metadata": {},
   "source": [
    "nombre_infected       883\n",
    "nombre_sain          1978\n",
    "nombre_exposed        479\n",
    "nombre_recovered    16660\n",
    "Name: 617, dtype: int64"
   ]
  },
  {
   "cell_type": "markdown",
   "id": "69bb662f",
   "metadata": {},
   "source": [
    "nombre_infected       870\n",
    "nombre_sain          1977\n",
    "nombre_exposed        492\n",
    "nombre_recovered    16661\n",
    "Name: 618, dtype: int64"
   ]
  },
  {
   "cell_type": "markdown",
   "id": "675d3775",
   "metadata": {},
   "source": [
    "nombre_infected       883\n",
    "nombre_sain          1965\n",
    "nombre_exposed        482\n",
    "nombre_recovered    16670\n",
    "Name: 619, dtype: int64"
   ]
  },
  {
   "cell_type": "markdown",
   "id": "a3bc74ad",
   "metadata": {},
   "source": [
    "nombre_infected       879\n",
    "nombre_sain          1974\n",
    "nombre_exposed        489\n",
    "nombre_recovered    16658\n",
    "Name: 620, dtype: int64"
   ]
  },
  {
   "cell_type": "markdown",
   "id": "740233c5",
   "metadata": {},
   "source": [
    "nombre_infected       884\n",
    "nombre_sain          1963\n",
    "nombre_exposed        483\n",
    "nombre_recovered    16670\n",
    "Name: 621, dtype: int64"
   ]
  },
  {
   "cell_type": "markdown",
   "id": "3314086f",
   "metadata": {},
   "source": [
    "nombre_infected       877\n",
    "nombre_sain          1987\n",
    "nombre_exposed        475\n",
    "nombre_recovered    16661\n",
    "Name: 622, dtype: int64"
   ]
  },
  {
   "cell_type": "markdown",
   "id": "03dd5aa3",
   "metadata": {},
   "source": [
    "nombre_infected       906\n",
    "nombre_sain          1997\n",
    "nombre_exposed        460\n",
    "nombre_recovered    16637\n",
    "Name: 623, dtype: int64"
   ]
  },
  {
   "cell_type": "markdown",
   "id": "861ae5ec",
   "metadata": {},
   "source": [
    "nombre_infected       894\n",
    "nombre_sain          1993\n",
    "nombre_exposed        442\n",
    "nombre_recovered    16671\n",
    "Name: 624, dtype: int64"
   ]
  },
  {
   "cell_type": "markdown",
   "id": "b48bb246",
   "metadata": {},
   "source": [
    "nombre_infected       903\n",
    "nombre_sain          1984\n",
    "nombre_exposed        450\n",
    "nombre_recovered    16663\n",
    "Name: 625, dtype: int64"
   ]
  },
  {
   "cell_type": "markdown",
   "id": "1ca5586d",
   "metadata": {},
   "source": [
    "nombre_infected       886\n",
    "nombre_sain          1962\n",
    "nombre_exposed        476\n",
    "nombre_recovered    16676\n",
    "Name: 626, dtype: int64"
   ]
  },
  {
   "cell_type": "markdown",
   "id": "6c9c9008",
   "metadata": {},
   "source": [
    "nombre_infected       877\n",
    "nombre_sain          1957\n",
    "nombre_exposed        473\n",
    "nombre_recovered    16693\n",
    "Name: 627, dtype: int64"
   ]
  },
  {
   "cell_type": "markdown",
   "id": "a63ee01b",
   "metadata": {},
   "source": [
    "nombre_infected       869\n",
    "nombre_sain          1963\n",
    "nombre_exposed        480\n",
    "nombre_recovered    16688\n",
    "Name: 628, dtype: int64"
   ]
  },
  {
   "cell_type": "markdown",
   "id": "e55ac5a1",
   "metadata": {},
   "source": [
    "nombre_infected       854\n",
    "nombre_sain          1949\n",
    "nombre_exposed        491\n",
    "nombre_recovered    16706\n",
    "Name: 629, dtype: int64"
   ]
  },
  {
   "cell_type": "markdown",
   "id": "40be42fe",
   "metadata": {},
   "source": [
    "nombre_infected       857\n",
    "nombre_sain          1947\n",
    "nombre_exposed        477\n",
    "nombre_recovered    16719\n",
    "Name: 630, dtype: int64"
   ]
  },
  {
   "cell_type": "markdown",
   "id": "387e3bc1",
   "metadata": {},
   "source": [
    "nombre_infected       869\n",
    "nombre_sain          1957\n",
    "nombre_exposed        456\n",
    "nombre_recovered    16718\n",
    "Name: 631, dtype: int64"
   ]
  },
  {
   "cell_type": "markdown",
   "id": "6e51b2a2",
   "metadata": {},
   "source": [
    "nombre_infected       876\n",
    "nombre_sain          1947\n",
    "nombre_exposed        466\n",
    "nombre_recovered    16711\n",
    "Name: 632, dtype: int64"
   ]
  },
  {
   "cell_type": "markdown",
   "id": "5b7cbe3d",
   "metadata": {},
   "source": [
    "nombre_infected       860\n",
    "nombre_sain          1933\n",
    "nombre_exposed        483\n",
    "nombre_recovered    16724\n",
    "Name: 633, dtype: int64"
   ]
  },
  {
   "cell_type": "markdown",
   "id": "76b7acb2",
   "metadata": {},
   "source": [
    "nombre_infected       859\n",
    "nombre_sain          1935\n",
    "nombre_exposed        485\n",
    "nombre_recovered    16721\n",
    "Name: 634, dtype: int64"
   ]
  },
  {
   "cell_type": "markdown",
   "id": "8c240bee",
   "metadata": {},
   "source": [
    "nombre_infected       860\n",
    "nombre_sain          1928\n",
    "nombre_exposed        476\n",
    "nombre_recovered    16736\n",
    "Name: 635, dtype: int64"
   ]
  },
  {
   "cell_type": "markdown",
   "id": "0f2f6359",
   "metadata": {},
   "source": [
    "nombre_infected       852\n",
    "nombre_sain          1940\n",
    "nombre_exposed        455\n",
    "nombre_recovered    16753\n",
    "Name: 636, dtype: int64"
   ]
  },
  {
   "cell_type": "markdown",
   "id": "5c775c40",
   "metadata": {},
   "source": [
    "nombre_infected       844\n",
    "nombre_sain          1934\n",
    "nombre_exposed        461\n",
    "nombre_recovered    16761\n",
    "Name: 637, dtype: int64"
   ]
  },
  {
   "cell_type": "markdown",
   "id": "012cc7d0",
   "metadata": {},
   "source": [
    "nombre_infected       849\n",
    "nombre_sain          1917\n",
    "nombre_exposed        480\n",
    "nombre_recovered    16754\n",
    "Name: 638, dtype: int64"
   ]
  },
  {
   "cell_type": "markdown",
   "id": "8c90123b",
   "metadata": {},
   "source": [
    "nombre_infected       840\n",
    "nombre_sain          1945\n",
    "nombre_exposed        472\n",
    "nombre_recovered    16743\n",
    "Name: 639, dtype: int64"
   ]
  },
  {
   "cell_type": "markdown",
   "id": "d21efd4b",
   "metadata": {},
   "source": [
    "nombre_infected       829\n",
    "nombre_sain          1942\n",
    "nombre_exposed        467\n",
    "nombre_recovered    16762\n",
    "Name: 640, dtype: int64"
   ]
  },
  {
   "cell_type": "markdown",
   "id": "4fec87c8",
   "metadata": {},
   "source": [
    "nombre_infected       822\n",
    "nombre_sain          1966\n",
    "nombre_exposed        448\n",
    "nombre_recovered    16764\n",
    "Name: 641, dtype: int64"
   ]
  },
  {
   "cell_type": "markdown",
   "id": "c21b084a",
   "metadata": {},
   "source": [
    "nombre_infected       832\n",
    "nombre_sain          2001\n",
    "nombre_exposed        410\n",
    "nombre_recovered    16757\n",
    "Name: 642, dtype: int64"
   ]
  },
  {
   "cell_type": "markdown",
   "id": "ec78fdfa",
   "metadata": {},
   "source": [
    "nombre_infected       828\n",
    "nombre_sain          2042\n",
    "nombre_exposed        383\n",
    "nombre_recovered    16747\n",
    "Name: 643, dtype: int64"
   ]
  },
  {
   "cell_type": "markdown",
   "id": "70c76e06",
   "metadata": {},
   "source": [
    "nombre_infected       806\n",
    "nombre_sain          2073\n",
    "nombre_exposed        386\n",
    "nombre_recovered    16735\n",
    "Name: 644, dtype: int64"
   ]
  },
  {
   "cell_type": "markdown",
   "id": "c03c2c16",
   "metadata": {},
   "source": [
    "nombre_infected       813\n",
    "nombre_sain          2070\n",
    "nombre_exposed        391\n",
    "nombre_recovered    16726\n",
    "Name: 645, dtype: int64"
   ]
  },
  {
   "cell_type": "markdown",
   "id": "1d3eda8e",
   "metadata": {},
   "source": [
    "nombre_infected       807\n",
    "nombre_sain          2097\n",
    "nombre_exposed        404\n",
    "nombre_recovered    16692\n",
    "Name: 646, dtype: int64"
   ]
  },
  {
   "cell_type": "markdown",
   "id": "1d66c804",
   "metadata": {},
   "source": [
    "nombre_infected       800\n",
    "nombre_sain          2136\n",
    "nombre_exposed        402\n",
    "nombre_recovered    16662\n",
    "Name: 647, dtype: int64"
   ]
  },
  {
   "cell_type": "markdown",
   "id": "4e85e7d2",
   "metadata": {},
   "source": [
    "nombre_infected       798\n",
    "nombre_sain          2129\n",
    "nombre_exposed        416\n",
    "nombre_recovered    16657\n",
    "Name: 648, dtype: int64"
   ]
  },
  {
   "cell_type": "markdown",
   "id": "2c9b6fea",
   "metadata": {},
   "source": [
    "nombre_infected       773\n",
    "nombre_sain          2129\n",
    "nombre_exposed        437\n",
    "nombre_recovered    16661\n",
    "Name: 649, dtype: int64"
   ]
  },
  {
   "cell_type": "markdown",
   "id": "ad4305c7",
   "metadata": {},
   "source": [
    "nombre_infected       752\n",
    "nombre_sain          2152\n",
    "nombre_exposed        434\n",
    "nombre_recovered    16662\n",
    "Name: 650, dtype: int64"
   ]
  },
  {
   "cell_type": "markdown",
   "id": "4dde34ea",
   "metadata": {},
   "source": [
    "nombre_infected       757\n",
    "nombre_sain          2166\n",
    "nombre_exposed        435\n",
    "nombre_recovered    16642\n",
    "Name: 651, dtype: int64"
   ]
  },
  {
   "cell_type": "markdown",
   "id": "052afe29",
   "metadata": {},
   "source": [
    "nombre_infected       762\n",
    "nombre_sain          2160\n",
    "nombre_exposed        448\n",
    "nombre_recovered    16630\n",
    "Name: 652, dtype: int64"
   ]
  },
  {
   "cell_type": "markdown",
   "id": "cc81299d",
   "metadata": {},
   "source": [
    "nombre_infected       783\n",
    "nombre_sain          2178\n",
    "nombre_exposed        427\n",
    "nombre_recovered    16612\n",
    "Name: 653, dtype: int64"
   ]
  },
  {
   "cell_type": "markdown",
   "id": "edbafd26",
   "metadata": {},
   "source": [
    "nombre_infected       794\n",
    "nombre_sain          2169\n",
    "nombre_exposed        434\n",
    "nombre_recovered    16603\n",
    "Name: 654, dtype: int64"
   ]
  },
  {
   "cell_type": "markdown",
   "id": "0dd678bb",
   "metadata": {},
   "source": [
    "nombre_infected       808\n",
    "nombre_sain          2166\n",
    "nombre_exposed        431\n",
    "nombre_recovered    16595\n",
    "Name: 655, dtype: int64"
   ]
  },
  {
   "cell_type": "markdown",
   "id": "2c0a59ba",
   "metadata": {},
   "source": [
    "nombre_infected       797\n",
    "nombre_sain          2147\n",
    "nombre_exposed        449\n",
    "nombre_recovered    16607\n",
    "Name: 656, dtype: int64"
   ]
  },
  {
   "cell_type": "markdown",
   "id": "e9d69397",
   "metadata": {},
   "source": [
    "nombre_infected       785\n",
    "nombre_sain          2159\n",
    "nombre_exposed        441\n",
    "nombre_recovered    16615\n",
    "Name: 657, dtype: int64"
   ]
  },
  {
   "cell_type": "markdown",
   "id": "9f4e8226",
   "metadata": {},
   "source": [
    "nombre_infected       804\n",
    "nombre_sain          2144\n",
    "nombre_exposed        443\n",
    "nombre_recovered    16609\n",
    "Name: 658, dtype: int64"
   ]
  },
  {
   "cell_type": "markdown",
   "id": "04a2e3b6",
   "metadata": {},
   "source": [
    "nombre_infected       806\n",
    "nombre_sain          2141\n",
    "nombre_exposed        451\n",
    "nombre_recovered    16602\n",
    "Name: 659, dtype: int64"
   ]
  },
  {
   "cell_type": "markdown",
   "id": "3a457420",
   "metadata": {},
   "source": [
    "nombre_infected       794\n",
    "nombre_sain          2140\n",
    "nombre_exposed        466\n",
    "nombre_recovered    16600\n",
    "Name: 660, dtype: int64"
   ]
  },
  {
   "cell_type": "markdown",
   "id": "f1316536",
   "metadata": {},
   "source": [
    "nombre_infected       799\n",
    "nombre_sain          2108\n",
    "nombre_exposed        473\n",
    "nombre_recovered    16620\n",
    "Name: 661, dtype: int64"
   ]
  },
  {
   "cell_type": "markdown",
   "id": "5801b108",
   "metadata": {},
   "source": [
    "nombre_infected       792\n",
    "nombre_sain          2110\n",
    "nombre_exposed        481\n",
    "nombre_recovered    16617\n",
    "Name: 662, dtype: int64"
   ]
  },
  {
   "cell_type": "markdown",
   "id": "824153e3",
   "metadata": {},
   "source": [
    "nombre_infected       795\n",
    "nombre_sain          2114\n",
    "nombre_exposed        475\n",
    "nombre_recovered    16616\n",
    "Name: 663, dtype: int64"
   ]
  },
  {
   "cell_type": "markdown",
   "id": "06483d9c",
   "metadata": {},
   "source": [
    "nombre_infected       796\n",
    "nombre_sain          2125\n",
    "nombre_exposed        472\n",
    "nombre_recovered    16607\n",
    "Name: 664, dtype: int64"
   ]
  },
  {
   "cell_type": "markdown",
   "id": "5d681ec6",
   "metadata": {},
   "source": [
    "nombre_infected       806\n",
    "nombre_sain          2119\n",
    "nombre_exposed        475\n",
    "nombre_recovered    16600\n",
    "Name: 665, dtype: int64"
   ]
  },
  {
   "cell_type": "markdown",
   "id": "1c3c1588",
   "metadata": {},
   "source": [
    "nombre_infected       805\n",
    "nombre_sain          2109\n",
    "nombre_exposed        478\n",
    "nombre_recovered    16608\n",
    "Name: 666, dtype: int64"
   ]
  },
  {
   "cell_type": "markdown",
   "id": "b5aa8437",
   "metadata": {},
   "source": [
    "nombre_infected       811\n",
    "nombre_sain          2125\n",
    "nombre_exposed        472\n",
    "nombre_recovered    16592\n",
    "Name: 667, dtype: int64"
   ]
  },
  {
   "cell_type": "markdown",
   "id": "b6315323",
   "metadata": {},
   "source": [
    "nombre_infected       844\n",
    "nombre_sain          2121\n",
    "nombre_exposed        464\n",
    "nombre_recovered    16571\n",
    "Name: 668, dtype: int64"
   ]
  },
  {
   "cell_type": "markdown",
   "id": "bbfb871f",
   "metadata": {},
   "source": [
    "nombre_infected       839\n",
    "nombre_sain          2098\n",
    "nombre_exposed        492\n",
    "nombre_recovered    16571\n",
    "Name: 669, dtype: int64"
   ]
  },
  {
   "cell_type": "markdown",
   "id": "37ac4b90",
   "metadata": {},
   "source": [
    "nombre_infected       869\n",
    "nombre_sain          2109\n",
    "nombre_exposed        466\n",
    "nombre_recovered    16556\n",
    "Name: 670, dtype: int64"
   ]
  },
  {
   "cell_type": "markdown",
   "id": "fc5d029a",
   "metadata": {},
   "source": [
    "nombre_infected       875\n",
    "nombre_sain          2116\n",
    "nombre_exposed        474\n",
    "nombre_recovered    16535\n",
    "Name: 671, dtype: int64"
   ]
  },
  {
   "cell_type": "markdown",
   "id": "7944ff0c",
   "metadata": {},
   "source": [
    "nombre_infected       884\n",
    "nombre_sain          2090\n",
    "nombre_exposed        493\n",
    "nombre_recovered    16533\n",
    "Name: 672, dtype: int64"
   ]
  },
  {
   "cell_type": "markdown",
   "id": "5815ed2c",
   "metadata": {},
   "source": [
    "nombre_infected       884\n",
    "nombre_sain          2084\n",
    "nombre_exposed        482\n",
    "nombre_recovered    16550\n",
    "Name: 673, dtype: int64"
   ]
  },
  {
   "cell_type": "markdown",
   "id": "949b77aa",
   "metadata": {},
   "source": [
    "nombre_infected       876\n",
    "nombre_sain          2101\n",
    "nombre_exposed        485\n",
    "nombre_recovered    16538\n",
    "Name: 674, dtype: int64"
   ]
  },
  {
   "cell_type": "markdown",
   "id": "72cef96f",
   "metadata": {},
   "source": [
    "nombre_infected       869\n",
    "nombre_sain          2116\n",
    "nombre_exposed        479\n",
    "nombre_recovered    16536\n",
    "Name: 675, dtype: int64"
   ]
  },
  {
   "cell_type": "markdown",
   "id": "a9febcf1",
   "metadata": {},
   "source": [
    "nombre_infected       856\n",
    "nombre_sain          2120\n",
    "nombre_exposed        499\n",
    "nombre_recovered    16525\n",
    "Name: 676, dtype: int64"
   ]
  },
  {
   "cell_type": "markdown",
   "id": "cc2335b6",
   "metadata": {},
   "source": [
    "nombre_infected       885\n",
    "nombre_sain          2149\n",
    "nombre_exposed        476\n",
    "nombre_recovered    16490\n",
    "Name: 677, dtype: int64"
   ]
  },
  {
   "cell_type": "markdown",
   "id": "3643bba6",
   "metadata": {},
   "source": [
    "nombre_infected       866\n",
    "nombre_sain          2147\n",
    "nombre_exposed        472\n",
    "nombre_recovered    16515\n",
    "Name: 678, dtype: int64"
   ]
  },
  {
   "cell_type": "markdown",
   "id": "0e1b7aa5",
   "metadata": {},
   "source": [
    "nombre_infected       853\n",
    "nombre_sain          2142\n",
    "nombre_exposed        496\n",
    "nombre_recovered    16509\n",
    "Name: 679, dtype: int64"
   ]
  },
  {
   "cell_type": "markdown",
   "id": "baeb4a92",
   "metadata": {},
   "source": [
    "nombre_infected       861\n",
    "nombre_sain          2141\n",
    "nombre_exposed        505\n",
    "nombre_recovered    16493\n",
    "Name: 680, dtype: int64"
   ]
  },
  {
   "cell_type": "markdown",
   "id": "6195767d",
   "metadata": {},
   "source": [
    "nombre_infected       847\n",
    "nombre_sain          2142\n",
    "nombre_exposed        511\n",
    "nombre_recovered    16500\n",
    "Name: 681, dtype: int64"
   ]
  },
  {
   "cell_type": "markdown",
   "id": "a96202ab",
   "metadata": {},
   "source": [
    "nombre_infected       845\n",
    "nombre_sain          2120\n",
    "nombre_exposed        539\n",
    "nombre_recovered    16496\n",
    "Name: 682, dtype: int64"
   ]
  },
  {
   "cell_type": "markdown",
   "id": "882f60d6",
   "metadata": {},
   "source": [
    "nombre_infected       860\n",
    "nombre_sain          2111\n",
    "nombre_exposed        547\n",
    "nombre_recovered    16482\n",
    "Name: 683, dtype: int64"
   ]
  },
  {
   "cell_type": "markdown",
   "id": "f058ea99",
   "metadata": {},
   "source": [
    "nombre_infected       843\n",
    "nombre_sain          2111\n",
    "nombre_exposed        553\n",
    "nombre_recovered    16493\n",
    "Name: 684, dtype: int64"
   ]
  },
  {
   "cell_type": "markdown",
   "id": "f24e0498",
   "metadata": {},
   "source": [
    "nombre_infected       846\n",
    "nombre_sain          2110\n",
    "nombre_exposed        549\n",
    "nombre_recovered    16495\n",
    "Name: 685, dtype: int64"
   ]
  },
  {
   "cell_type": "markdown",
   "id": "ab7bafc7",
   "metadata": {},
   "source": [
    "nombre_infected       862\n",
    "nombre_sain          2097\n",
    "nombre_exposed        543\n",
    "nombre_recovered    16498\n",
    "Name: 686, dtype: int64"
   ]
  },
  {
   "cell_type": "markdown",
   "id": "63e9a4e5",
   "metadata": {},
   "source": [
    "nombre_infected       878\n",
    "nombre_sain          2083\n",
    "nombre_exposed        550\n",
    "nombre_recovered    16489\n",
    "Name: 687, dtype: int64"
   ]
  },
  {
   "cell_type": "markdown",
   "id": "941bb839",
   "metadata": {},
   "source": [
    "nombre_infected       880\n",
    "nombre_sain          2072\n",
    "nombre_exposed        549\n",
    "nombre_recovered    16499\n",
    "Name: 688, dtype: int64"
   ]
  },
  {
   "cell_type": "markdown",
   "id": "44cc093c",
   "metadata": {},
   "source": [
    "nombre_infected       867\n",
    "nombre_sain          2080\n",
    "nombre_exposed        561\n",
    "nombre_recovered    16492\n",
    "Name: 689, dtype: int64"
   ]
  },
  {
   "cell_type": "markdown",
   "id": "cfe76ba0",
   "metadata": {},
   "source": [
    "nombre_infected       886\n",
    "nombre_sain          2076\n",
    "nombre_exposed        561\n",
    "nombre_recovered    16477\n",
    "Name: 690, dtype: int64"
   ]
  },
  {
   "cell_type": "markdown",
   "id": "048c8205",
   "metadata": {},
   "source": [
    "nombre_infected       916\n",
    "nombre_sain          2072\n",
    "nombre_exposed        547\n",
    "nombre_recovered    16465\n",
    "Name: 691, dtype: int64"
   ]
  },
  {
   "cell_type": "markdown",
   "id": "41cf1f32",
   "metadata": {},
   "source": [
    "nombre_infected       889\n",
    "nombre_sain          2077\n",
    "nombre_exposed        544\n",
    "nombre_recovered    16490\n",
    "Name: 692, dtype: int64"
   ]
  },
  {
   "cell_type": "markdown",
   "id": "0b7c8aa4",
   "metadata": {},
   "source": [
    "nombre_infected       882\n",
    "nombre_sain          2043\n",
    "nombre_exposed        550\n",
    "nombre_recovered    16525\n",
    "Name: 693, dtype: int64"
   ]
  },
  {
   "cell_type": "markdown",
   "id": "4cb797bb",
   "metadata": {},
   "source": [
    "nombre_infected       914\n",
    "nombre_sain          2040\n",
    "nombre_exposed        531\n",
    "nombre_recovered    16515\n",
    "Name: 694, dtype: int64"
   ]
  },
  {
   "cell_type": "markdown",
   "id": "56bc1778",
   "metadata": {},
   "source": [
    "nombre_infected       909\n",
    "nombre_sain          2046\n",
    "nombre_exposed        537\n",
    "nombre_recovered    16508\n",
    "Name: 695, dtype: int64"
   ]
  },
  {
   "cell_type": "markdown",
   "id": "8771dab1",
   "metadata": {},
   "source": [
    "nombre_infected       904\n",
    "nombre_sain          2041\n",
    "nombre_exposed        531\n",
    "nombre_recovered    16524\n",
    "Name: 696, dtype: int64"
   ]
  },
  {
   "cell_type": "markdown",
   "id": "d061c857",
   "metadata": {},
   "source": [
    "nombre_infected       911\n",
    "nombre_sain          2043\n",
    "nombre_exposed        517\n",
    "nombre_recovered    16529\n",
    "Name: 697, dtype: int64"
   ]
  },
  {
   "cell_type": "markdown",
   "id": "82f9f65b",
   "metadata": {},
   "source": [
    "nombre_infected       942\n",
    "nombre_sain          2020\n",
    "nombre_exposed        513\n",
    "nombre_recovered    16525\n",
    "Name: 698, dtype: int64"
   ]
  },
  {
   "cell_type": "markdown",
   "id": "77109250",
   "metadata": {},
   "source": [
    "nombre_infected       944\n",
    "nombre_sain          2005\n",
    "nombre_exposed        517\n",
    "nombre_recovered    16534\n",
    "Name: 699, dtype: int64"
   ]
  },
  {
   "cell_type": "markdown",
   "id": "bc8014d6",
   "metadata": {},
   "source": [
    "nombre_infected       945\n",
    "nombre_sain          2021\n",
    "nombre_exposed        493\n",
    "nombre_recovered    16541\n",
    "Name: 700, dtype: int64"
   ]
  },
  {
   "cell_type": "markdown",
   "id": "2781f60e",
   "metadata": {},
   "source": [
    "nombre_infected       954\n",
    "nombre_sain          2000\n",
    "nombre_exposed        504\n",
    "nombre_recovered    16542\n",
    "Name: 701, dtype: int64"
   ]
  },
  {
   "cell_type": "markdown",
   "id": "1acb379f",
   "metadata": {},
   "source": [
    "nombre_infected       953\n",
    "nombre_sain          2011\n",
    "nombre_exposed        497\n",
    "nombre_recovered    16539\n",
    "Name: 702, dtype: int64"
   ]
  },
  {
   "cell_type": "markdown",
   "id": "0ea17fc9",
   "metadata": {},
   "source": [
    "nombre_infected       959\n",
    "nombre_sain          1997\n",
    "nombre_exposed        502\n",
    "nombre_recovered    16542\n",
    "Name: 703, dtype: int64"
   ]
  },
  {
   "cell_type": "markdown",
   "id": "ff3913c6",
   "metadata": {},
   "source": [
    "nombre_infected       961\n",
    "nombre_sain          1984\n",
    "nombre_exposed        520\n",
    "nombre_recovered    16535\n",
    "Name: 704, dtype: int64"
   ]
  },
  {
   "cell_type": "markdown",
   "id": "39c150a9",
   "metadata": {},
   "source": [
    "nombre_infected       938\n",
    "nombre_sain          1998\n",
    "nombre_exposed        511\n",
    "nombre_recovered    16553\n",
    "Name: 705, dtype: int64"
   ]
  },
  {
   "cell_type": "markdown",
   "id": "58753490",
   "metadata": {},
   "source": [
    "nombre_infected       943\n",
    "nombre_sain          1999\n",
    "nombre_exposed        502\n",
    "nombre_recovered    16556\n",
    "Name: 706, dtype: int64"
   ]
  },
  {
   "cell_type": "markdown",
   "id": "8082ddd5",
   "metadata": {},
   "source": [
    "nombre_infected       938\n",
    "nombre_sain          1975\n",
    "nombre_exposed        513\n",
    "nombre_recovered    16574\n",
    "Name: 707, dtype: int64"
   ]
  },
  {
   "cell_type": "markdown",
   "id": "03275a5e",
   "metadata": {},
   "source": [
    "nombre_infected       925\n",
    "nombre_sain          1994\n",
    "nombre_exposed        532\n",
    "nombre_recovered    16549\n",
    "Name: 708, dtype: int64"
   ]
  },
  {
   "cell_type": "markdown",
   "id": "962cbc93",
   "metadata": {},
   "source": [
    "nombre_infected       928\n",
    "nombre_sain          2017\n",
    "nombre_exposed        519\n",
    "nombre_recovered    16536\n",
    "Name: 709, dtype: int64"
   ]
  },
  {
   "cell_type": "markdown",
   "id": "ae93a7af",
   "metadata": {},
   "source": [
    "nombre_infected       925\n",
    "nombre_sain          2036\n",
    "nombre_exposed        508\n",
    "nombre_recovered    16531\n",
    "Name: 710, dtype: int64"
   ]
  },
  {
   "cell_type": "markdown",
   "id": "0e1a5e8d",
   "metadata": {},
   "source": [
    "nombre_infected       927\n",
    "nombre_sain          2039\n",
    "nombre_exposed        504\n",
    "nombre_recovered    16530\n",
    "Name: 711, dtype: int64"
   ]
  },
  {
   "cell_type": "markdown",
   "id": "b49be51e",
   "metadata": {},
   "source": [
    "nombre_infected       944\n",
    "nombre_sain          2053\n",
    "nombre_exposed        495\n",
    "nombre_recovered    16508\n",
    "Name: 712, dtype: int64"
   ]
  },
  {
   "cell_type": "markdown",
   "id": "f4ad337a",
   "metadata": {},
   "source": [
    "nombre_infected       947\n",
    "nombre_sain          2054\n",
    "nombre_exposed        481\n",
    "nombre_recovered    16518\n",
    "Name: 713, dtype: int64"
   ]
  },
  {
   "cell_type": "markdown",
   "id": "ed6a475e",
   "metadata": {},
   "source": [
    "nombre_infected       957\n",
    "nombre_sain          2051\n",
    "nombre_exposed        492\n",
    "nombre_recovered    16500\n",
    "Name: 714, dtype: int64"
   ]
  },
  {
   "cell_type": "markdown",
   "id": "f2dd70aa",
   "metadata": {},
   "source": [
    "nombre_infected       960\n",
    "nombre_sain          2062\n",
    "nombre_exposed        494\n",
    "nombre_recovered    16484\n",
    "Name: 715, dtype: int64"
   ]
  },
  {
   "cell_type": "markdown",
   "id": "ad8cd8b4",
   "metadata": {},
   "source": [
    "nombre_infected       955\n",
    "nombre_sain          2052\n",
    "nombre_exposed        492\n",
    "nombre_recovered    16501\n",
    "Name: 716, dtype: int64"
   ]
  },
  {
   "cell_type": "markdown",
   "id": "71ef32f0",
   "metadata": {},
   "source": [
    "nombre_infected       939\n",
    "nombre_sain          2048\n",
    "nombre_exposed        499\n",
    "nombre_recovered    16514\n",
    "Name: 717, dtype: int64"
   ]
  },
  {
   "cell_type": "markdown",
   "id": "bf8f5d66",
   "metadata": {},
   "source": [
    "nombre_infected       935\n",
    "nombre_sain          2065\n",
    "nombre_exposed        504\n",
    "nombre_recovered    16496\n",
    "Name: 718, dtype: int64"
   ]
  },
  {
   "cell_type": "markdown",
   "id": "1a5e8af3",
   "metadata": {},
   "source": [
    "nombre_infected       939\n",
    "nombre_sain          2069\n",
    "nombre_exposed        502\n",
    "nombre_recovered    16490\n",
    "Name: 719, dtype: int64"
   ]
  },
  {
   "cell_type": "markdown",
   "id": "d680a13b",
   "metadata": {},
   "source": [
    "nombre_infected       937\n",
    "nombre_sain          2069\n",
    "nombre_exposed        507\n",
    "nombre_recovered    16487\n",
    "Name: 720, dtype: int64"
   ]
  },
  {
   "cell_type": "markdown",
   "id": "222b85f4",
   "metadata": {},
   "source": [
    "nombre_infected       945\n",
    "nombre_sain          2065\n",
    "nombre_exposed        494\n",
    "nombre_recovered    16496\n",
    "Name: 721, dtype: int64"
   ]
  },
  {
   "cell_type": "markdown",
   "id": "8f9fba2e",
   "metadata": {},
   "source": [
    "nombre_infected       936\n",
    "nombre_sain          2078\n",
    "nombre_exposed        496\n",
    "nombre_recovered    16490\n",
    "Name: 722, dtype: int64"
   ]
  },
  {
   "cell_type": "markdown",
   "id": "9dc1e514",
   "metadata": {},
   "source": [
    "nombre_infected       925\n",
    "nombre_sain          2093\n",
    "nombre_exposed        506\n",
    "nombre_recovered    16476\n",
    "Name: 723, dtype: int64"
   ]
  },
  {
   "cell_type": "markdown",
   "id": "61c25f96",
   "metadata": {},
   "source": [
    "nombre_infected       918\n",
    "nombre_sain          2094\n",
    "nombre_exposed        524\n",
    "nombre_recovered    16464\n",
    "Name: 724, dtype: int64"
   ]
  },
  {
   "cell_type": "markdown",
   "id": "83e790ba",
   "metadata": {},
   "source": [
    "nombre_infected       928\n",
    "nombre_sain          2084\n",
    "nombre_exposed        520\n",
    "nombre_recovered    16468\n",
    "Name: 725, dtype: int64"
   ]
  },
  {
   "cell_type": "markdown",
   "id": "6906738a",
   "metadata": {},
   "source": [
    "nombre_infected       937\n",
    "nombre_sain          2084\n",
    "nombre_exposed        508\n",
    "nombre_recovered    16471\n",
    "Name: 726, dtype: int64"
   ]
  },
  {
   "cell_type": "markdown",
   "id": "bcd6ae21",
   "metadata": {},
   "source": [
    "nombre_infected       940\n",
    "nombre_sain          2086\n",
    "nombre_exposed        511\n",
    "nombre_recovered    16463\n",
    "Name: 727, dtype: int64"
   ]
  },
  {
   "cell_type": "markdown",
   "id": "ba2b858b",
   "metadata": {},
   "source": [
    "nombre_infected       928\n",
    "nombre_sain          2069\n",
    "nombre_exposed        532\n",
    "nombre_recovered    16471\n",
    "Name: 728, dtype: int64"
   ]
  },
  {
   "cell_type": "markdown",
   "id": "3989e113",
   "metadata": {},
   "source": [
    "nombre_infected       937\n",
    "nombre_sain          2061\n",
    "nombre_exposed        529\n",
    "nombre_recovered    16473\n",
    "Name: 729, dtype: int64"
   ]
  },
  {
   "cell_type": "markdown",
   "id": "04acd9d8",
   "metadata": {},
   "source": [
    "nombre_infected       953\n",
    "nombre_sain          2056\n",
    "nombre_exposed        524\n",
    "nombre_recovered    16467\n",
    "Name: 730, dtype: int64"
   ]
  }
 ],
 "metadata": {},
 "nbformat": 4,
 "nbformat_minor": 5
}
